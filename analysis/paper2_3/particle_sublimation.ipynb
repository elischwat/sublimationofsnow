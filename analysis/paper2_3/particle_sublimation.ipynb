{
 "cells": [
  {
   "cell_type": "code",
   "execution_count": 1,
   "metadata": {},
   "outputs": [
    {
     "data": {
      "text/plain": [
       "DataTransformerRegistry.enable('json')"
      ]
     },
     "execution_count": 1,
     "metadata": {},
     "output_type": "execute_result"
    }
   ],
   "source": [
    "import numpy as np\n",
    "import pandas as pd\n",
    "from sublimpy import utils\n",
    "\n",
    "from metpy.units import units\n",
    "import metpy.constants\n",
    "\n",
    "import altair as alt\n",
    "alt.data_transformers.enable('json')"
   ]
  },
  {
   "cell_type": "markdown",
   "metadata": {},
   "source": [
    "Open data"
   ]
  },
  {
   "cell_type": "code",
   "execution_count": 2,
   "metadata": {},
   "outputs": [],
   "source": [
    "# Open SOS Measurement Dataset\n",
    "################################################\n",
    "start_date = '20221130'\n",
    "end_date = '20230509'\n",
    "# open files\n",
    "tidy_df = pd.read_parquet(f'../paper1/tidy_df_{start_date}_{end_date}_noplanar_fit.parquet')\n",
    "\n",
    "# convert time column to datetime\n",
    "tidy_df['time'] = pd.to_datetime(tidy_df['time'])\n",
    "tidy_df = utils.modify_df_timezone(tidy_df, 'UTC', 'US/Mountain')"
   ]
  },
  {
   "cell_type": "markdown",
   "metadata": {},
   "source": [
    "Process one timestamp"
   ]
  },
  {
   "cell_type": "code",
   "execution_count": 3,
   "metadata": {},
   "outputs": [
    {
     "data": {
      "text/html": [
       "49.67250061035156 gram/(meter<sup>2</sup> second)"
      ],
      "text/latex": [
       "$49.67250061035156\\ \\frac{\\mathrm{gram}}{\\left(\\mathrm{meter}^{2} \\cdot \\mathrm{second}\\right)}$"
      ],
      "text/plain": [
       "49.67250061035156 <Unit('gram / meter ** 2 / second')>"
      ]
     },
     "execution_count": 3,
     "metadata": {},
     "output_type": "execute_result"
    }
   ],
   "source": [
    "one_timestamp_src = tidy_df[tidy_df.time == '2022-12-22 03:30:00']\n",
    "one_timestamp_src.query(\"variable == 'SF_avg_1m_ue'\").value.iloc[0]*units(\"g/m^2/s\")"
   ]
  },
  {
   "cell_type": "code",
   "execution_count": 4,
   "metadata": {},
   "outputs": [],
   "source": [
    "# air_temp\n",
    "T = (one_timestamp_src.query(\"variable == 'T_2m_c'\").value.iloc[0] + 273.15)*units(\"K\")\n",
    "\n",
    "# saturated_water_vapor_density\n",
    "q_s = (\n",
    "    one_timestamp_src.query(\"variable == 'Tsurfvaporpressure_c'\").value.iloc[0]*units(\"pascal\")*\n",
    "    metpy.constants.water_molecular_weight / (\n",
    "        8.314*units(\"J/K/mol\") * (\n",
    "            (one_timestamp_src.query(\"variable == 'T_2m_c'\").value.iloc[0] + 273.15)*units(\"K\")\n",
    "        )\n",
    "    )\n",
    ").to_base_units()\n",
    "\n",
    "# water_vapor_density\n",
    "q = (\n",
    "    one_timestamp_src.query(\"variable == 'vaporpressure_2m_c'\").value.iloc[0]*units(\"pascal\")*\n",
    "    metpy.constants.water_molecular_weight / (\n",
    "        8.314*units(\"J/K/mol\") * (\n",
    "            (one_timestamp_src.query(\"variable == 'T_2m_c'\").value.iloc[0] + 273.15)*units(\"K\")\n",
    "        )\n",
    "    )\n",
    ").to_base_units()"
   ]
  },
  {
   "cell_type": "markdown",
   "metadata": {},
   "source": [
    "#### Calculate particle sublimation rate, given a number of assumptions"
   ]
  },
  {
   "cell_type": "code",
   "execution_count": 5,
   "metadata": {},
   "outputs": [],
   "source": [
    "r = 0.0001*units(\"meters\")       # radius, meters - from \"initial particle diameter\" \n",
    "                            # from Section 2 of Sharma et al., 2018 (https://tc.copernicus.org/articles/12/3499/2018/)\n",
    "lambda_s = 2838000*units(\"J/kg\")# latent heat of sublimation (J kg−1)\n",
    "k_T = 0.02288*units(\"W/m/K\")    # thermal conductivity, for air at -10˚C  (W/m/K)\n",
    "Nu = 6                          # Nusselt number, typical values for snowdrifts: 2 - 10\n",
    "M_w = 0.018*units(\"kg/mol\")     # molecular weight of water vapour (kg/mol - paper says kg, but it must be \n",
    "                            # kg/mol to cancel out the mol introduced by R)G)\n",
    "R_g = 8.3145*units(\"J/mol/K\")   # universal gas constant (J mol−1 K−1)\n",
    "k_v = 24.9*1e-6*units(\"m^2/s\")  # molecular diffusivity of h20 vapour in air (m2 s−1) - CHECK THIS FOR CORRECT T&P\n",
    "Sh = Nu                         # Sherwood number \n",
    "\n",
    "dm_dt = (\n",
    "    2*np.pi*r* (q/q_s - 1)\n",
    ") / (\n",
    "    (lambda_s/(k_T * T)) * (1 / Nu) * (lambda_s * M_w / (R_g * T)) + 1/(k_v * q_s * Sh)\n",
    ").to_base_units()"
   ]
  },
  {
   "cell_type": "markdown",
   "metadata": {},
   "source": [
    "#### Calculate particle concentration, using blowing snow flux measurements, and a few assumptions "
   ]
  },
  {
   "cell_type": "code",
   "execution_count": 6,
   "metadata": {},
   "outputs": [],
   "source": [
    "wind_speed = one_timestamp_src.query(\"variable == 'spd_3m_ue'\").value.iloc[0] * units(\"m/s\")\n",
    "blowing_snow_flux = one_timestamp_src.query(\"variable == 'SF_avg_1m_ue'\").value.iloc[0]*units(\"g/m^2/s\")\n",
    "blowing_snow_concentration = blowing_snow_flux / wind_speed\n",
    "volume_ice_per_meter_cubed = (blowing_snow_concentration / metpy.constants.density_ice).to_base_units()\n",
    "sphere_volume = (4/3)*np.pi*r**3\n",
    "n_particles_per_m3 = volume_ice_per_meter_cubed / sphere_volume"
   ]
  },
  {
   "cell_type": "code",
   "execution_count": 7,
   "metadata": {},
   "outputs": [
    {
     "name": "stdout",
     "output_type": "stream",
     "text": [
      "5.752228315968733 gram / meter ** 3\n",
      "6.272877116650744e-06 dimensionless\n",
      "4.188790204786391e-12 meter ** 3\n",
      "1497539.1007845025 / meter ** 3\n"
     ]
    }
   ],
   "source": [
    "print(blowing_snow_concentration)\n",
    "print(volume_ice_per_meter_cubed)\n",
    "print(sphere_volume)\n",
    "print(n_particles_per_m3)"
   ]
  },
  {
   "cell_type": "code",
   "execution_count": 8,
   "metadata": {},
   "outputs": [
    {
     "name": "stdout",
     "output_type": "stream",
     "text": [
      "-6.079096804419966e-05 kilogram / meter ** 3 / second\n",
      "-0.21884748495911877 kilogram / hour / meter ** 3\n",
      "-0.21884748495911877 kilogram / hour / meter ** 2\n",
      "-0.21885296722594777 millimeter / hour\n",
      "-5.252471213422746 millimeter / day\n"
     ]
    }
   ],
   "source": [
    "# per m^3, we have {n_particles_per_m3} particles\n",
    "# those are each sublimating at a rate {dm_dt}\n",
    "# total blowing snow sublimation rate occuring within a cubic meter of snow\n",
    "print(dm_dt * n_particles_per_m3)\n",
    "# over an hour, the following mass sublimated\n",
    "print((dm_dt * n_particles_per_m3).to(\"kg/m^3/hr\"))\n",
    "# Assuming the sublimated mass is instantaneously transported vertically through a 1 m^2 face,\n",
    "# i.e. integrate over the height of the cubic meter,\n",
    "# we sublimated this much math per m^2\n",
    "blowing_snow_sublimation_flux_kg_per_hr_m2 = (dm_dt * n_particles_per_m3).to(\"kg/m^3/hr\")* units(\"m\")\n",
    "print(blowing_snow_sublimation_flux_kg_per_hr_m2)\n",
    "# we sublimated this much SWE:\n",
    "print((blowing_snow_sublimation_flux_kg_per_hr_m2 /  metpy.constants.density_water).to(\"mm/hr\"))\n",
    "# over a full day of this maximum sublimation rate, we could hypothetically sublimate:\n",
    "print((blowing_snow_sublimation_flux_kg_per_hr_m2 /  metpy.constants.density_water).to(\"mm/day\"))"
   ]
  },
  {
   "cell_type": "code",
   "execution_count": 9,
   "metadata": {},
   "outputs": [],
   "source": [
    "import xarray as xr\n",
    "ds = xr.open_mfdataset([\n",
    "    \"/Users/elischwat/Development/data/sublimationofsnow/sosqc/sos_qc_geo_tiltcor_v20240307/isfs_sos_qc_geo_tiltcor_5min_20221221.nc\",\n",
    "    \"/Users/elischwat/Development/data/sublimationofsnow/sosqc/sos_qc_geo_tiltcor_v20240307/isfs_sos_qc_geo_tiltcor_5min_20221222.nc\"\n",
    "])\n",
    "ds = ds.compute()"
   ]
  },
  {
   "cell_type": "code",
   "execution_count": 10,
   "metadata": {},
   "outputs": [
    {
     "name": "stdout",
     "output_type": "stream",
     "text": [
      "latent heat fluxes measured a maximum value of:\n",
      "0.08826699107885361 gram / meter ** 2 / second\n",
      "Which over an hour is\n",
      "317.761167883873 gram / hour / meter ** 2\n",
      "Which over an hour is\n",
      "0.31776116788387293 kilogram / hour / meter ** 2\n"
     ]
    }
   ],
   "source": [
    "print(\"latent heat fluxes measured a maximum value of:\")\n",
    "instant_ec_lhflux_measurement = ds['w_h2o__3m_c'].max().item() * units(\"g/m^2/s\")\n",
    "print(instant_ec_lhflux_measurement)\n",
    "print(\"Which over an hour is\")\n",
    "print(instant_ec_lhflux_measurement.to(\"g/m^2/hr\"))\n",
    "print(\"Which over an hour is\")\n",
    "instant_ec_lhflux_measurement_kg_per_hr_m2 = instant_ec_lhflux_measurement.to(\"kg/m^2/hr\")\n",
    "print(instant_ec_lhflux_measurement_kg_per_hr_m2)"
   ]
  },
  {
   "cell_type": "code",
   "execution_count": 11,
   "metadata": {},
   "outputs": [
    {
     "name": "stdout",
     "output_type": "stream",
     "text": [
      "So this tells us that at the max blowing snow rate,\n",
      "when the ECs indicate a water vapor flux of 0.318 kilogram / hour / meter ** 2\n",
      "Our particle sublimation model estimates that -0.219 kilogram / hour / meter ** 2 sublimated.\n",
      "Which accounts for -68.9% of the water vapor flux.\n",
      "\n"
     ]
    }
   ],
   "source": [
    "print(f\"So this tells us that at the max blowing snow rate,\")\n",
    "print(f\"when the ECs indicate a water vapor flux of {round(instant_ec_lhflux_measurement_kg_per_hr_m2, 3)}\")\n",
    "print(f\"Our particle sublimation model estimates that {round(blowing_snow_sublimation_flux_kg_per_hr_m2, 3)} sublimated.\")\n",
    "print(\n",
    "f\"\"\"Which accounts for {round(\n",
    "    100 * blowing_snow_sublimation_flux_kg_per_hr_m2 / \n",
    "        instant_ec_lhflux_measurement_kg_per_hr_m2, 1\n",
    "    ).magnitude\n",
    "}% of the water vapor flux.\n",
    "\"\"\"\n",
    ")"
   ]
  },
  {
   "cell_type": "code",
   "execution_count": null,
   "metadata": {},
   "outputs": [],
   "source": []
  }
 ],
 "metadata": {
  "kernelspec": {
   "display_name": "sublimationofsnow",
   "language": "python",
   "name": "python3"
  },
  "language_info": {
   "codemirror_mode": {
    "name": "ipython",
    "version": 3
   },
   "file_extension": ".py",
   "mimetype": "text/x-python",
   "name": "python",
   "nbconvert_exporter": "python",
   "pygments_lexer": "ipython3",
   "version": "3.12.1"
  }
 },
 "nbformat": 4,
 "nbformat_minor": 2
}
