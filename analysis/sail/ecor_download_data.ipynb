{
 "cells": [
  {
   "cell_type": "code",
   "execution_count": 1,
   "metadata": {},
   "outputs": [],
   "source": [
    "import os\n",
    "import act\n",
    "import glob\n",
    "import xarray as xr"
   ]
  },
  {
   "cell_type": "code",
   "execution_count": 2,
   "metadata": {},
   "outputs": [],
   "source": [
    "ecor_gothic = 'guc30ecorM1.b1'\n",
    "ecor_kp = 'guc30ecorS3.b1'\n",
    "met_gothic = 'gucmetM1.b1'\n",
    "\n",
    "start_date = '20221129'\n",
    "end_date = '2'\n",
    "\n",
    "output_dir = '/data2/elilouis/sublimationofsnow/'"
   ]
  },
  {
   "cell_type": "code",
   "execution_count": 3,
   "metadata": {},
   "outputs": [],
   "source": [
    "username = os.getenv(\"ARM_USERNAME\")\n",
    "token = os.getenv(\"ARM_TOKEN\")"
   ]
  },
  {
   "cell_type": "code",
   "execution_count": 4,
   "metadata": {},
   "outputs": [
    {
     "data": {
      "text/plain": [
       "('20221131', '20221204')"
      ]
     },
     "execution_count": 4,
     "metadata": {},
     "output_type": "execute_result"
    }
   ],
   "source": [
    "start_date,    end_date,"
   ]
  },
  {
   "cell_type": "code",
   "execution_count": 5,
   "metadata": {},
   "outputs": [
    {
     "ename": "ValueError",
     "evalue": "Invalid Date format, please use one of these formats %Y-%m-%d, %d.%m.%Y, %d/%m/%Y, %Y%m%d, %Y/%m/%d, %Y-%m-%dT%H:%M:%S, %d.%m.%YT%H:%M:%S, %d/%m/%YT%H:%M:%S, %Y%m%dT%%H:%M:%S, %Y/%m/%dT%H:%M:%S",
     "output_type": "error",
     "traceback": [
      "\u001b[0;31m---------------------------------------------------------------------------\u001b[0m",
      "\u001b[0;31mValueError\u001b[0m                                Traceback (most recent call last)",
      "Cell \u001b[0;32mIn[5], line 10\u001b[0m\n\u001b[1;32m      1\u001b[0m \u001b[39m# act.discovery.download_data(\u001b[39;00m\n\u001b[1;32m      2\u001b[0m \u001b[39m#     username,    token,    ecor_gothic,    start_date,    end_date,\u001b[39;00m\n\u001b[1;32m      3\u001b[0m \u001b[39m#     output = os.path.join(output_dir, ecor_gothic)\u001b[39;00m\n\u001b[0;32m   (...)\u001b[0m\n\u001b[1;32m      7\u001b[0m \u001b[39m#     output = os.path.join(output_dir, ecor_kp)\u001b[39;00m\n\u001b[1;32m      8\u001b[0m \u001b[39m# )\u001b[39;00m\n\u001b[0;32m---> 10\u001b[0m act\u001b[39m.\u001b[39;49mdiscovery\u001b[39m.\u001b[39;49mdownload_data(\n\u001b[1;32m     11\u001b[0m     username,    token,    met_gothic,    startdate\u001b[39m=\u001b[39;49m\u001b[39m'\u001b[39;49m\u001b[39m20211131\u001b[39;49m\u001b[39m'\u001b[39;49m,   enddate\u001b[39m=\u001b[39;49m\u001b[39m'\u001b[39;49m\u001b[39m20211204\u001b[39;49m\u001b[39m'\u001b[39;49m,\n\u001b[1;32m     12\u001b[0m     output \u001b[39m=\u001b[39;49m os\u001b[39m.\u001b[39;49mpath\u001b[39m.\u001b[39;49mjoin(output_dir, met_gothic)\n\u001b[1;32m     13\u001b[0m )\n",
      "File \u001b[0;32m~/mambaforge/envs/arm/lib/python3.11/site-packages/act/discovery/get_armfiles.py:100\u001b[0m, in \u001b[0;36mdownload_data\u001b[0;34m(username, token, datastream, startdate, enddate, time, output)\u001b[0m\n\u001b[1;32m     97\u001b[0m \u001b[39m# start and end strings for query_url are constructed\u001b[39;00m\n\u001b[1;32m     98\u001b[0m \u001b[39m# if the arguments were provided\u001b[39;00m\n\u001b[1;32m     99\u001b[0m \u001b[39mif\u001b[39;00m startdate:\n\u001b[0;32m--> 100\u001b[0m     start_datetime \u001b[39m=\u001b[39m date_parser(startdate, return_datetime\u001b[39m=\u001b[39;49m\u001b[39mTrue\u001b[39;49;00m)\n\u001b[1;32m    101\u001b[0m     start \u001b[39m=\u001b[39m start_datetime\u001b[39m.\u001b[39mstrftime(\u001b[39m'\u001b[39m\u001b[39m%\u001b[39m\u001b[39mY-\u001b[39m\u001b[39m%\u001b[39m\u001b[39mm-\u001b[39m\u001b[39m%d\u001b[39;00m\u001b[39mT\u001b[39m\u001b[39m%\u001b[39m\u001b[39mH:\u001b[39m\u001b[39m%\u001b[39m\u001b[39mM:\u001b[39m\u001b[39m%\u001b[39m\u001b[39mS.\u001b[39m\u001b[39m%f\u001b[39;00m\u001b[39m'\u001b[39m)[:\u001b[39m-\u001b[39m\u001b[39m3\u001b[39m] \u001b[39m+\u001b[39m \u001b[39m'\u001b[39m\u001b[39mZ\u001b[39m\u001b[39m'\u001b[39m\n\u001b[1;32m    102\u001b[0m     start \u001b[39m=\u001b[39m \u001b[39mf\u001b[39m\u001b[39m'\u001b[39m\u001b[39m&start=\u001b[39m\u001b[39m{\u001b[39;00mstart\u001b[39m}\u001b[39;00m\u001b[39m'\u001b[39m\n",
      "File \u001b[0;32m~/mambaforge/envs/arm/lib/python3.11/site-packages/act/utils/datetime_utils.py:216\u001b[0m, in \u001b[0;36mdate_parser\u001b[0;34m(date_string, output_format, return_datetime)\u001b[0m\n\u001b[1;32m    214\u001b[0m         \u001b[39mpass\u001b[39;00m\n\u001b[1;32m    215\u001b[0m fmt_strings \u001b[39m=\u001b[39m \u001b[39m'\u001b[39m\u001b[39m, \u001b[39m\u001b[39m'\u001b[39m\u001b[39m.\u001b[39mjoin(date_fmts)\n\u001b[0;32m--> 216\u001b[0m \u001b[39mraise\u001b[39;00m \u001b[39mValueError\u001b[39;00m(\u001b[39m'\u001b[39m\u001b[39mInvalid Date format, please use one of these formats \u001b[39m\u001b[39m'\u001b[39m \u001b[39m+\u001b[39m fmt_strings)\n",
      "\u001b[0;31mValueError\u001b[0m: Invalid Date format, please use one of these formats %Y-%m-%d, %d.%m.%Y, %d/%m/%Y, %Y%m%d, %Y/%m/%d, %Y-%m-%dT%H:%M:%S, %d.%m.%YT%H:%M:%S, %d/%m/%YT%H:%M:%S, %Y%m%dT%%H:%M:%S, %Y/%m/%dT%H:%M:%S"
     ]
    }
   ],
   "source": [
    "# act.discovery.download_data(\n",
    "#     username,    token,    ecor_gothic,    start_date,    end_date,\n",
    "#     output = os.path.join(output_dir, ecor_gothic)\n",
    "# )\n",
    "# act.discovery.download_data(\n",
    "#     username,    token,    ecor_kp,    start_date,    end_date,\n",
    "#     output = os.path.join(output_dir, ecor_kp)\n",
    "# )\n",
    "\n",
    "act.discovery.download_data(\n",
    "    username,    token,    met_gothic,    startdate='20211131',   enddate='20211204',\n",
    "    output = os.path.join(output_dir, met_gothic)\n",
    ")"
   ]
  },
  {
   "cell_type": "code",
   "execution_count": null,
   "metadata": {},
   "outputs": [],
   "source": []
  },
  {
   "cell_type": "code",
   "execution_count": null,
   "metadata": {},
   "outputs": [],
   "source": [
    "ecor_gothic_ds = act.io.armfiles.read_netcdf(\n",
    "    glob.glob(os.path.join(ecor_gothic, '*.cdf'))\n",
    ")"
   ]
  },
  {
   "cell_type": "code",
   "execution_count": null,
   "metadata": {},
   "outputs": [],
   "source": [
    "ecor_kps_ds = act.io.armfiles.read_netcdf(\n",
    "    glob.glob(os.path.join(ecor_kp, '*.cdf'))\n",
    ")"
   ]
  },
  {
   "cell_type": "code",
   "execution_count": null,
   "metadata": {},
   "outputs": [],
   "source": [
    "met_gothic_ds = act.io.armfiles.read_netcdf(\n",
    "    glob.glob(os.path.join(met_gothic, '*.cdf'))\n",
    ")"
   ]
  },
  {
   "cell_type": "code",
   "execution_count": null,
   "metadata": {},
   "outputs": [],
   "source": [
    "met_gothic_df = met_gothic_ds.resample(time='15Min').mean().to_dataframe()"
   ]
  },
  {
   "cell_type": "code",
   "execution_count": null,
   "metadata": {},
   "outputs": [],
   "source": [
    "met_gothic_ds"
   ]
  },
  {
   "cell_type": "code",
   "execution_count": null,
   "metadata": {},
   "outputs": [],
   "source": []
  }
 ],
 "metadata": {
  "kernelspec": {
   "display_name": "arm",
   "language": "python",
   "name": "python3"
  },
  "language_info": {
   "codemirror_mode": {
    "name": "ipython",
    "version": 3
   },
   "file_extension": ".py",
   "mimetype": "text/x-python",
   "name": "python",
   "nbconvert_exporter": "python",
   "pygments_lexer": "ipython3",
   "version": "3.11.0"
  },
  "orig_nbformat": 4,
  "vscode": {
   "interpreter": {
    "hash": "e2b11a00ad1b97cabcd9cc9209b8824a0fcaf6ffe37b5243943912873b5dcab1"
   }
  }
 },
 "nbformat": 4,
 "nbformat_minor": 2
}
