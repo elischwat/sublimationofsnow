{
 "cells": [
  {
   "attachments": {},
   "cell_type": "markdown",
   "metadata": {},
   "source": [
    "# Visualize SAIL data"
   ]
  },
  {
   "cell_type": "code",
   "execution_count": 2,
   "metadata": {},
   "outputs": [
    {
     "ename": "ModuleNotFoundError",
     "evalue": "No module named 'soslib'",
     "output_type": "error",
     "traceback": [
      "\u001b[0;31m---------------------------------------------------------------------------\u001b[0m",
      "\u001b[0;31mModuleNotFoundError\u001b[0m                       Traceback (most recent call last)",
      "Cell \u001b[0;32mIn[2], line 2\u001b[0m\n\u001b[1;32m      1\u001b[0m \u001b[38;5;66;03m# Import packages\u001b[39;00m\n\u001b[0;32m----> 2\u001b[0m \u001b[38;5;28;01mfrom\u001b[39;00m \u001b[38;5;21;01msoslib\u001b[39;00m \u001b[38;5;28;01mimport\u001b[39;00m funcs\n\u001b[1;32m      3\u001b[0m \u001b[38;5;28;01mimport\u001b[39;00m \u001b[38;5;21;01mact\u001b[39;00m\n\u001b[1;32m      4\u001b[0m \u001b[38;5;28;01mimport\u001b[39;00m \u001b[38;5;21;01mxarray\u001b[39;00m \u001b[38;5;28;01mas\u001b[39;00m \u001b[38;5;21;01mxr\u001b[39;00m\n",
      "\u001b[0;31mModuleNotFoundError\u001b[0m: No module named 'soslib'"
     ]
    }
   ],
   "source": [
    "# Import packages\n",
    "from soslib import funcs\n",
    "import act\n",
    "import xarray as xr\n",
    "import matplotlib.pyplot as plt\n",
    "import pandas as pd\n",
    "import numpy as np\n",
    "from datetime import datetime, timezone\n",
    "import pytz\n"
   ]
  },
  {
   "attachments": {},
   "cell_type": "markdown",
   "metadata": {},
   "source": [
    "# Download necessary ECOR, CEIL, and SEBS data"
   ]
  },
  {
   "cell_type": "code",
   "execution_count": null,
   "metadata": {},
   "outputs": [],
   "source": [
    "# User and token for pulling in data\n",
    "new_user=False\n",
    "username = os.getenv(\"ARM_USERNAME\")\n",
    "token = os.getenv(\"ARM_TOKEN\")\n",
    "\n",
    "ecor_kp = 'guc30ecorS3.b1'\n",
    "sebs = 'gucsebsS3.b1'\n",
    "ld = 'gucldM1.b1'\n",
    "start = '2021-10-01'\n",
    "end = '2023-02-01' \n",
    "\n",
    "if new_user:\n",
    "    ecor_ds = funcs.get_sail_data(username,token,ecor_kp,start,end)\n",
    "    sebs_ds = funcs.get_sail_data(username,token,sebs,start,end)\n",
    "\n",
    "else:\n",
    "    # If this was already downloaded, we just need to access the files\n",
    "    ecor_ds = xr.open_dataset('/storage/dlhogan/sos/data/ecor_kp.nc')\n",
    "    sebs_ds = xr.open_dataset('/storage/dlhogan/sos/data/sebs_kp.nc')\n",
    "    ls_ds_00 = xr.open_dataset('/storage/dlhogan/sos/data/laser_distrometer/ld_00.nc')\n",
    "    ls_ds_01 = xr.open_dataset('/storage/dlhogan/sos/data/laser_distrometer/ld_01.nc')\n",
    "    ls_ds_02 = xr.open_dataset('/storage/dlhogan/sos/data/laser_distrometer/ld_02.nc')\n",
    "    ls_ds_03 = xr.open_dataset('/storage/dlhogan/sos/data/laser_distrometer/ld_03.nc')\n",
    "    ls_ds_04 = xr.open_dataset('/storage/dlhogan/sos/data/laser_distrometer/ld_04.nc')"
   ]
  },
  {
   "cell_type": "code",
   "execution_count": null,
   "metadata": {},
   "outputs": [],
   "source": [
    "def add_local_time(ds):\n",
    "    time_utc = ds['time'].to_index().tz_localize(pytz.UTC)\n",
    "    us_mtn = pytz.timezone('US/Mountain')\n",
    "    tz_corrected = time_utc.tz_convert(us_mtn).tz_localize(None)\n",
    "    local_da=xr.DataArray.from_series(tz_corrected)\n",
    "    ds.coords.update({'local_time':tz_corrected})\n",
    "    return ds"
   ]
  },
  {
   "cell_type": "code",
   "execution_count": null,
   "metadata": {},
   "outputs": [],
   "source": [
    "# Quick check on how much ecor data we are missing by month\n",
    "((ecor_ds['wind_dir'].isnull().groupby(ecor_ds.time.dt.month).sum()/ecor_ds['wind_dir'].isnull().groupby(ecor_ds.time.dt.month).count())*100).values"
   ]
  },
  {
   "cell_type": "code",
   "execution_count": null,
   "metadata": {},
   "outputs": [],
   "source": [
    "# add local time and create dataframe\n",
    "ecor_df = add_local_time(ecor_ds['wind_dir'].where(ecor_ds['qc_wind_dir']==0)).to_dataframe()\n",
    "sebs_df = add_local_time(sebs_ds['down_short_hemisp'].where(sebs_ds['qc_down_short_hemisp']==0)).to_dataframe()\n",
    "ecor_df = ecor_df.set_index('local_time')\n",
    "sebs_df = sebs_df.set_index('local_time')"
   ]
  },
  {
   "cell_type": "code",
   "execution_count": null,
   "metadata": {},
   "outputs": [],
   "source": [
    "# Iterate to create the dataframe for plotting\n",
    "tmp = []\n",
    "idx = np.array([1,2,3,4,5,6,7,8,9,10,11,12])\n",
    "for month in ecor_df.index.month.unique():\n",
    "    a = ecor_df[ecor_df.index.month == month]['wind_dir']\n",
    "    a = a.groupby(a.index.hour).median()\n",
    "    a.name=month\n",
    "    tmp.append(a)\n",
    "ecor_ds_hourly = pd.concat(tmp, axis=1).T\n",
    "\n",
    "tmp=[]\n",
    "for month in sebs_df.index.month.unique():\n",
    "    a = sebs_df[sebs_df.index.month == month]['down_short_hemisp']\n",
    "    a = a.groupby(a.index.hour).mean()\n",
    "    a.name=month\n",
    "    tmp.append(a)\n",
    "sebs_ds_hourly = pd.concat(tmp, axis=1).T"
   ]
  },
  {
   "cell_type": "code",
   "execution_count": null,
   "metadata": {},
   "outputs": [],
   "source": [
    "# Sort for plotting\n",
    "sebs_ds_hourly = sebs_ds_hourly.fillna(0).sort_index()\n",
    "ecor_ds_hourly = ecor_ds_hourly.sort_index()"
   ]
  },
  {
   "cell_type": "code",
   "execution_count": null,
   "metadata": {},
   "outputs": [],
   "source": [
    "import seaborn as sns\n",
    "fig, axs=plt.subplots(ncols=2,figsize=(30,10), facecolor='w')\n",
    "\n",
    "# months = ['Oct','Nov','Dec','Jan','Feb','Mar','Apr','May','Jun','Jul','Aug','Sep']\n",
    "months = ['Jan','Feb','Mar','Apr','May','Jun','Jul','Aug','Sep','Oct','Nov','Dec']\n",
    "sns.heatmap(ecor_ds_hourly, cmap='twilight_shifted', vmin=0, vmax=360,linewidths=2, cbar_kws={'label':'SAIL Wind Direction ($\\degree$)'}, ax=axs[0])\n",
    "axs[0].set_xticklabels(ecor_ds_hourly.columns, rotation=0, ha='right', size=18);\n",
    "axs[0].set_yticklabels(months, rotation=30, ha='center', size=18);\n",
    "axs[0].tick_params(axis='y', which='major', pad=18)\n",
    "axs[0].set_xlabel('Hour',size=18)\n",
    "axs[0].set_ylabel('Month', size=18)\n",
    "axs[0].set_title('SAIL Kettle Ponds Wind Direction', size=24)\n",
    "axs[0].figure.axes[-1].yaxis.label.set_size(20)\n",
    "\n",
    "sns.heatmap(sebs_ds_hourly, cmap='hot',linewidths=2, cbar_kws={'label':'SAIL SW Radiation (W/m$^2$)'}, ax=axs[1])\n",
    "axs[1].set_xticklabels(sebs_ds_hourly.columns, rotation=0, ha='right', size=18);\n",
    "axs[1].set_yticklabels(months, rotation=30, ha='center', size=18);\n",
    "axs[1].tick_params(axis='y', which='major', pad=18)\n",
    "axs[1].set_xlabel('Hour',size=18)\n",
    "axs[1].set_ylabel('Month', size=18)\n",
    "axs[1].set_title('SAIL Kettle Ponds DW Radiation', size=24)\n",
    "axs[1].figure.axes[-1].yaxis.label.set_size(20)"
   ]
  },
  {
   "attachments": {},
   "cell_type": "markdown",
   "metadata": {},
   "source": [
    "### Plot Ceilometer hovmoller"
   ]
  },
  {
   "cell_type": "code",
   "execution_count": null,
   "metadata": {},
   "outputs": [],
   "source": [
    "\n",
    "# Grab ceilometer data\n",
    "ceil ='gucceilM1.b1'\n",
    "starts = ['2021-10-01','2022-01-01','2022-04-01','2022-07-01','2022-11-01']\n",
    "ends = ['2022-01-01','2022-04-01','2022-07-01','2022-11-01','2023-02-01']\n",
    "i=0\n",
    "if new_user:\n",
    "    for s, e in zip(starts, ends):\n",
    "        print(f'Working on {s} to {e}') \n",
    "        ceil_ds = funcs.get_sail_data(username,token,ceil,s,e)\n",
    "\n",
    "        tmp = ceil_ds[['detection_status',\n",
    "                    'status_flag',\n",
    "                    'first_cbh',\n",
    "                    'qc_first_cbh',\n",
    "                    'second_cbh',\n",
    "                    'qc_second_cbh',\n",
    "                    'third_cbh',\n",
    "                    'qc_third_cbh']]\n",
    "        tmp_hourly = tmp.resample(time='1H').mean()\n",
    "        tmp_hourly.to_netcdf(f'/storage/dlhogan/sos/data/ceilometer/ceil_0{i}.nc')\n",
    "        i+=1\n",
    "    else:\n",
    "        ceil_ds = xr.open_mfdataset('/storage/dlhogan/sos/data/ceilometer/*.nc')"
   ]
  },
  {
   "cell_type": "code",
   "execution_count": null,
   "metadata": {},
   "outputs": [],
   "source": [
    "ceil_df = add_local_time(ceil_ds).to_dataframe()\n",
    "ceil_df = ceil_df.set_index('local_time')\n",
    "ceil_df['cloud_detect'] = ceil_df['detection_status']\n",
    "# use this to filter out multiple cloud detects and just make them equal to a cloud detection\n",
    "ceil_df['cloud_detect'] .where(ceil_df['cloud_detect']  <= 1, 1, inplace=True)"
   ]
  },
  {
   "cell_type": "code",
   "execution_count": null,
   "metadata": {},
   "outputs": [],
   "source": [
    "# create dataframe for plotting\n",
    "tmp = []\n",
    "idx = np.array([1,2,3,4,5,6,7,8,9,10,11,12])\n",
    "for month in ceil_df.index.month.unique():\n",
    "    a = ceil_df[(ceil_df.index.month == month)]['cloud_detect']\n",
    "    a = a.groupby(a.index.hour).mean()\n",
    "    a.name=month\n",
    "    tmp.append(a)\n",
    "ceil_df_hourly = pd.concat(tmp, axis=1).T\n",
    "ceil_df_hourly = ceil_df_hourly.sort_index()"
   ]
  },
  {
   "cell_type": "code",
   "execution_count": null,
   "metadata": {},
   "outputs": [],
   "source": [
    "# Normalize to between 0, 100\n",
    "ceil_df_hourly_cp = ceil_df_hourly.copy()\n",
    "for col in ceil_df_hourly.columns:\n",
    "    ceil_df_hourly_cp[col] = (ceil_df_hourly[col] - ceil_df_hourly[col].min())/(ceil_df_hourly[col].max()-ceil_df_hourly[col].min())*100"
   ]
  },
  {
   "cell_type": "code",
   "execution_count": null,
   "metadata": {},
   "outputs": [],
   "source": [
    "import seaborn as sns\n",
    "fig, ax=plt.subplots(ncols=1,figsize=(10,5), facecolor='w')\n",
    "\n",
    "# months = ['Oct','Nov','Dec','Jan','Feb','Mar','Apr','May','Jun','Jul','Aug','Sep']\n",
    "months = ['Jan','Feb','Mar','Apr','May','Jun','Jul','Aug','Sep','Oct','Nov','Dec']\n",
    "sns.heatmap(ceil_df_hourly_cp, cmap='Greys', vmin=0, vmax=100,linewidths=2, cbar_kws={'label':'SAIL Ceilometer\\nCloud Detection (%)'}, ax=ax)\n",
    "# ax.set_xticklabels(ceil_df_hourly.columns, rotation=0, ha='right', size=18);\n",
    "ax.set_yticklabels(months, rotation=30, ha='center', size=18);\n",
    "ax.tick_params(axis='y', which='major', pad=18)\n",
    "ax.set_xlabel('Hour',size=18)\n",
    "ax.set_ylabel('Month', size=18)\n",
    "ax.set_title('SAIL Gothic Ceilometer', size=20)\n",
    "ax.figure.axes[-1].yaxis.label.set_size(16)\n"
   ]
  },
  {
   "cell_type": "code",
   "execution_count": null,
   "metadata": {},
   "outputs": [],
   "source": [
    "ls_ds = xr.concat([ls_ds_00, ls_ds_01, ls_ds_02, ls_ds_03, ls_ds_04],dim='time')"
   ]
  },
  {
   "cell_type": "code",
   "execution_count": null,
   "metadata": {},
   "outputs": [],
   "source": [
    "ls_ds_hourly = add_local_time(ls_ds.sortby('time'))[['local_time','precip_rate','qc_precip_rate']]\n",
    "ls_df_hourly = ls_ds_hourly.to_dataframe().set_index('local_time')"
   ]
  },
  {
   "cell_type": "code",
   "execution_count": null,
   "metadata": {},
   "outputs": [],
   "source": [
    "ls_df_hourly = ls_df_hourly.resample('1H').mean()"
   ]
  },
  {
   "cell_type": "code",
   "execution_count": null,
   "metadata": {},
   "outputs": [],
   "source": [
    "# create dataframe for plotting\n",
    "tmp = []\n",
    "idx = np.array([1,2,3,4,5,6,7,8,9,10,11,12])\n",
    "\n",
    "for month in ls_df_hourly.index.month.unique():\n",
    "    a = ls_df_hourly[(ls_df_hourly.index.month == month) & (ls_df_hourly['qc_precip_rate']==0)]['precip_rate']\n",
    "    a = a.groupby(a.index.hour).mean()\n",
    "    a.name=month\n",
    "    tmp.append(a)\n",
    "ls_df_hr = pd.concat(tmp, axis=1).T\n",
    "ls_df_hr = ls_df_hr.sort_index()"
   ]
  },
  {
   "cell_type": "code",
   "execution_count": null,
   "metadata": {},
   "outputs": [],
   "source": [
    "import seaborn as sns\n",
    "\n",
    "fig, ax=plt.subplots(ncols=1,figsize=(30,10), facecolor='w')\n",
    "\n",
    "# months = ['Oct','Nov','Dec','Jan','Feb','Mar','Apr','May','Jun','Jul','Aug','Sep']\n",
    "months = ['Jan','Feb','Mar','Apr','May','Jun','Jul','Aug','Sep','Oct','Nov','Dec']\n",
    "sns.heatmap(ls_df_hr, cmap='Blues',linewidths=2,cbar_kws={'label':'SAIL Rain Rate (mm/hr)'}, ax=ax)\n",
    "ax.set_xticklabels(ls_df_hr.columns, rotation=0, ha='right', size=18);\n",
    "ax.set_yticklabels(months, rotation=30, ha='center', size=18);\n",
    "ax.tick_params(axis='y', which='major', pad=18)\n",
    "ax.set_xlabel('Hour',size=18)\n",
    "ax.set_ylabel('Month', size=18)\n",
    "ax.set_title('SAIL Gothic Laser Distrometer', size=24)\n",
    "ax.figure.axes[-1].yaxis.label.set_size(20)"
   ]
  },
  {
   "cell_type": "code",
   "execution_count": null,
   "metadata": {},
   "outputs": [],
   "source": []
  }
 ],
 "metadata": {
  "kernelspec": {
   "display_name": "arm",
   "language": "python",
   "name": "python3"
  },
  "language_info": {
   "codemirror_mode": {
    "name": "ipython",
    "version": 3
   },
   "file_extension": ".py",
   "mimetype": "text/x-python",
   "name": "python",
   "nbconvert_exporter": "python",
   "pygments_lexer": "ipython3",
   "version": "3.12.4"
  },
  "orig_nbformat": 4,
  "vscode": {
   "interpreter": {
    "hash": "e2b11a00ad1b97cabcd9cc9209b8824a0fcaf6ffe37b5243943912873b5dcab1"
   }
  }
 },
 "nbformat": 4,
 "nbformat_minor": 2
}
