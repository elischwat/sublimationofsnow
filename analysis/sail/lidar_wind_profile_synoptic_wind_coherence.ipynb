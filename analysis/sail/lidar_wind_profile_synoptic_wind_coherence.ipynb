{
 "cells": [
  {
   "cell_type": "code",
   "execution_count": 1,
   "metadata": {},
   "outputs": [],
   "source": [
    "import act\n",
    "from tempfile import TemporaryDirectory\n",
    "import glob\n",
    "import numpy as np\n",
    "import pandas as pd\n",
    "import datetime as dt\n",
    "import altair as alt\n",
    "pd.set_option('display.max_columns', 100)\n",
    "\n",
    "import sys\n",
    "sys.path.append(\"/home/elilouis/sublimationofsnow\")\n",
    "\n",
    "from sublimpy import utils\n",
    "import seaborn as sns"
   ]
  },
  {
   "attachments": {},
   "cell_type": "markdown",
   "metadata": {},
   "source": [
    "# Inputs"
   ]
  },
  {
   "cell_type": "code",
   "execution_count": 2,
   "metadata": {},
   "outputs": [],
   "source": [
    "username = os.getenv(\"ARM_USERNAME\")\n",
    "token = os.getenv(\"ARM_TOKEN\")\n",
    "DATE_FORMAT_STR = '%Y-%m-%d'\n",
    "# start_date = \"2022-01-01\"\n",
    "# end_date = \"2022-12-31\"\n",
    "# start_date = \"2022-11-29\"\n",
    "# end_date = \"2023-05-10\"\n",
    "start_date = \"20230201\"\n",
    "# end_date = \"20230616\"\n",
    "end_date = \"20230206\"\n",
    "\n",
    "DL_DATA_STREAM = 'gucdlprofwind4newsM1.c1'\n",
    "DL_DATA_STREAM_FILEEXT = '.nc'\n",
    "DL_OUTPUT_DIR = os.path.join(\"/Users/elischwat/Development/data/sublimationofsnow/\", DL_DATA_STREAM)\n",
    "\n",
    "SONDE_DATA_STREAM = 'gucsondewnpnM1.b1'\n",
    "SONDE_DATA_STREAM_FILEEXT = '.cdf'\n",
    "SONDE_OUTPUT_DIR = os.path.join(\"/Users/elischwat/Development/data/sublimationofsnow/\", SONDE_DATA_STREAM)"
   ]
  },
  {
   "attachments": {},
   "cell_type": "markdown",
   "metadata": {},
   "source": [
    "# Download DL data"
   ]
  },
  {
   "cell_type": "code",
   "execution_count": 3,
   "metadata": {},
   "outputs": [
    {
     "name": "stdout",
     "output_type": "stream",
     "text": [
      "[DOWNLOADING] gucdlprofwind4newsM1.c1.20230202.000039.nc\n",
      "[DOWNLOADING] gucdlprofwind4newsM1.c1.20230205.000040.nc\n",
      "[DOWNLOADING] gucdlprofwind4newsM1.c1.20230204.000040.nc\n",
      "[DOWNLOADING] gucdlprofwind4newsM1.c1.20230201.000039.nc\n",
      "[DOWNLOADING] gucdlprofwind4newsM1.c1.20230203.000040.nc\n",
      "\n",
      "If you use these data to prepare a publication, please cite:\n",
      "\n",
      "Shippert, T., Newsom, R., Riihimaki, L., & Zhang, D. Doppler Lidar Horizontal\n",
      "Wind Profiles (DLPROFWIND4NEWS). Atmospheric Radiation Measurement (ARM) User\n",
      "Facility. https://doi.org/10.5439/1178582\n",
      "\n"
     ]
    },
    {
     "data": {
      "text/plain": [
       "['/Users/elischwat/Development/data/sublimationofsnow/gucdlprofwind4newsM1.c1/gucdlprofwind4newsM1.c1.20230202.000039.nc',\n",
       " '/Users/elischwat/Development/data/sublimationofsnow/gucdlprofwind4newsM1.c1/gucdlprofwind4newsM1.c1.20230205.000040.nc',\n",
       " '/Users/elischwat/Development/data/sublimationofsnow/gucdlprofwind4newsM1.c1/gucdlprofwind4newsM1.c1.20230204.000040.nc',\n",
       " '/Users/elischwat/Development/data/sublimationofsnow/gucdlprofwind4newsM1.c1/gucdlprofwind4newsM1.c1.20230201.000039.nc',\n",
       " '/Users/elischwat/Development/data/sublimationofsnow/gucdlprofwind4newsM1.c1/gucdlprofwind4newsM1.c1.20230203.000040.nc']"
      ]
     },
     "execution_count": 3,
     "metadata": {},
     "output_type": "execute_result"
    }
   ],
   "source": [
    "act.discovery.download_arm_data(username, token, DL_DATA_STREAM, start_date, end_date, output=DL_OUTPUT_DIR)"
   ]
  },
  {
   "attachments": {},
   "cell_type": "markdown",
   "metadata": {},
   "source": [
    "# Download Sonde data"
   ]
  },
  {
   "cell_type": "code",
   "execution_count": 4,
   "metadata": {},
   "outputs": [
    {
     "name": "stdout",
     "output_type": "stream",
     "text": [
      "[DOWNLOADING] gucsondewnpnM1.b1.20230412.232800.cdf\n",
      "[DOWNLOADING] gucsondewnpnM1.b1.20230306.113000.cdf\n",
      "[DOWNLOADING] gucsondewnpnM1.b1.20230318.113600.cdf\n",
      "[DOWNLOADING] gucsondewnpnM1.b1.20230213.113900.cdf\n",
      "[DOWNLOADING] gucsondewnpnM1.b1.20230505.113000.cdf\n",
      "[DOWNLOADING] gucsondewnpnM1.b1.20230604.112500.cdf\n",
      "[DOWNLOADING] gucsondewnpnM1.b1.20230209.232900.cdf\n",
      "[DOWNLOADING] gucsondewnpnM1.b1.20230530.112900.cdf\n",
      "[DOWNLOADING] gucsondewnpnM1.b1.20230317.113500.cdf\n",
      "[DOWNLOADING] gucsondewnpnM1.b1.20230419.113000.cdf\n",
      "[DOWNLOADING] gucsondewnpnM1.b1.20230407.113400.cdf\n",
      "[DOWNLOADING] gucsondewnpnM1.b1.20230312.113300.cdf\n",
      "[DOWNLOADING] gucsondewnpnM1.b1.20230204.233000.cdf\n",
      "[DOWNLOADING] gucsondewnpnM1.b1.20230614.233000.cdf\n",
      "[DOWNLOADING] gucsondewnpnM1.b1.20230306.232800.cdf\n",
      "[DOWNLOADING] gucsondewnpnM1.b1.20230214.233000.cdf\n",
      "[DOWNLOADING] gucsondewnpnM1.b1.20230307.112400.cdf\n",
      "[DOWNLOADING] gucsondewnpnM1.b1.20230330.113100.cdf\n",
      "[DOWNLOADING] gucsondewnpnM1.b1.20230208.112700.cdf\n",
      "[DOWNLOADING] gucsondewnpnM1.b1.20230607.233100.cdf\n",
      "[DOWNLOADING] gucsondewnpnM1.b1.20230411.113200.cdf\n",
      "[DOWNLOADING] gucsondewnpnM1.b1.20230603.232600.cdf\n",
      "[DOWNLOADING] gucsondewnpnM1.b1.20230602.234200.cdf\n",
      "[DOWNLOADING] gucsondewnpnM1.b1.20230608.232900.cdf\n",
      "[DOWNLOADING] gucsondewnpnM1.b1.20230508.232800.cdf\n",
      "[DOWNLOADING] gucsondewnpnM1.b1.20230513.113000.cdf\n",
      "[DOWNLOADING] gucsondewnpnM1.b1.20230531.113000.cdf\n",
      "[DOWNLOADING] gucsondewnpnM1.b1.20230518.113000.cdf\n",
      "[DOWNLOADING] gucsondewnpnM1.b1.20230226.112900.cdf\n",
      "[DOWNLOADING] gucsondewnpnM1.b1.20230609.234000.cdf\n",
      "[DOWNLOADING] gucsondewnpnM1.b1.20230512.233000.cdf\n",
      "[DOWNLOADING] gucsondewnpnM1.b1.20230606.233000.cdf\n",
      "[DOWNLOADING] gucsondewnpnM1.b1.20230403.113100.cdf\n",
      "[DOWNLOADING] gucsondewnpnM1.b1.20230523.000100.cdf\n",
      "[DOWNLOADING] gucsondewnpnM1.b1.20230406.113100.cdf\n",
      "[DOWNLOADING] gucsondewnpnM1.b1.20230409.232800.cdf\n",
      "[DOWNLOADING] gucsondewnpnM1.b1.20230208.233000.cdf\n",
      "[DOWNLOADING] gucsondewnpnM1.b1.20230427.232900.cdf\n",
      "[DOWNLOADING] gucsondewnpnM1.b1.20230212.232900.cdf\n",
      "[DOWNLOADING] gucsondewnpnM1.b1.20230319.113100.cdf\n",
      "[DOWNLOADING] gucsondewnpnM1.b1.20230401.232900.cdf\n",
      "[DOWNLOADING] gucsondewnpnM1.b1.20230217.113100.cdf\n",
      "[DOWNLOADING] gucsondewnpnM1.b1.20230507.112900.cdf\n",
      "[DOWNLOADING] gucsondewnpnM1.b1.20230301.113200.cdf\n",
      "[DOWNLOADING] gucsondewnpnM1.b1.20230509.232700.cdf\n",
      "[DOWNLOADING] gucsondewnpnM1.b1.20230529.233000.cdf\n",
      "[DOWNLOADING] gucsondewnpnM1.b1.20230309.113600.cdf\n",
      "[DOWNLOADING] gucsondewnpnM1.b1.20230319.233000.cdf\n",
      "[DOWNLOADING] gucsondewnpnM1.b1.20230427.113100.cdf\n",
      "[DOWNLOADING] gucsondewnpnM1.b1.20230409.113200.cdf\n",
      "[DOWNLOADING] gucsondewnpnM1.b1.20230223.233000.cdf\n",
      "[DOWNLOADING] gucsondewnpnM1.b1.20230527.233000.cdf\n",
      "[DOWNLOADING] gucsondewnpnM1.b1.20230221.113000.cdf\n",
      "[DOWNLOADING] gucsondewnpnM1.b1.20230202.113100.cdf\n",
      "[DOWNLOADING] gucsondewnpnM1.b1.20230210.233000.cdf\n",
      "[DOWNLOADING] gucsondewnpnM1.b1.20230501.112800.cdf\n",
      "[DOWNLOADING] gucsondewnpnM1.b1.20230219.232900.cdf\n",
      "[DOWNLOADING] gucsondewnpnM1.b1.20230218.113100.cdf\n",
      "[DOWNLOADING] gucsondewnpnM1.b1.20230328.232900.cdf\n",
      "[DOWNLOADING] gucsondewnpnM1.b1.20230506.112700.cdf\n",
      "[DOWNLOADING] gucsondewnpnM1.b1.20230611.232900.cdf\n",
      "[DOWNLOADING] gucsondewnpnM1.b1.20230607.113000.cdf\n",
      "[DOWNLOADING] gucsondewnpnM1.b1.20230422.232900.cdf\n",
      "[DOWNLOADING] gucsondewnpnM1.b1.20230413.112900.cdf\n",
      "[DOWNLOADING] gucsondewnpnM1.b1.20230428.113100.cdf\n",
      "[DOWNLOADING] gucsondewnpnM1.b1.20230519.232800.cdf\n",
      "[DOWNLOADING] gucsondewnpnM1.b1.20230504.233000.cdf\n",
      "[DOWNLOADING] gucsondewnpnM1.b1.20230403.233000.cdf\n",
      "[DOWNLOADING] gucsondewnpnM1.b1.20230514.113100.cdf\n",
      "[DOWNLOADING] gucsondewnpnM1.b1.20230320.232800.cdf\n",
      "[DOWNLOADING] gucsondewnpnM1.b1.20230225.112700.cdf\n",
      "[DOWNLOADING] gucsondewnpnM1.b1.20230219.113400.cdf\n",
      "[DOWNLOADING] gucsondewnpnM1.b1.20230217.233100.cdf\n",
      "[DOWNLOADING] gucsondewnpnM1.b1.20230424.113000.cdf\n",
      "[DOWNLOADING] gucsondewnpnM1.b1.20230601.113100.cdf\n",
      "[DOWNLOADING] gucsondewnpnM1.b1.20230326.232900.cdf\n",
      "[DOWNLOADING] gucsondewnpnM1.b1.20230424.233000.cdf\n",
      "[DOWNLOADING] gucsondewnpnM1.b1.20230530.233000.cdf\n",
      "[DOWNLOADING] gucsondewnpnM1.b1.20230201.233100.cdf\n",
      "[DOWNLOADING] gucsondewnpnM1.b1.20230610.233000.cdf\n",
      "[DOWNLOADING] gucsondewnpnM1.b1.20230510.112900.cdf\n",
      "[DOWNLOADING] gucsondewnpnM1.b1.20230529.112700.cdf\n",
      "[DOWNLOADING] gucsondewnpnM1.b1.20230226.232600.cdf\n",
      "[DOWNLOADING] gucsondewnpnM1.b1.20230421.234100.cdf\n",
      "[DOWNLOADING] gucsondewnpnM1.b1.20230614.113000.cdf\n",
      "[DOWNLOADING] gucsondewnpnM1.b1.20230407.233000.cdf\n",
      "[DOWNLOADING] gucsondewnpnM1.b1.20230514.233100.cdf\n",
      "[DOWNLOADING] gucsondewnpnM1.b1.20230523.112800.cdf\n",
      "[DOWNLOADING] gucsondewnpnM1.b1.20230210.113000.cdf\n",
      "[DOWNLOADING] gucsondewnpnM1.b1.20230313.112900.cdf\n",
      "[DOWNLOADING] gucsondewnpnM1.b1.20230408.113700.cdf\n",
      "[DOWNLOADING] gucsondewnpnM1.b1.20230302.234100.cdf\n",
      "[DOWNLOADING] gucsondewnpnM1.b1.20230415.113000.cdf\n",
      "[DOWNLOADING] gucsondewnpnM1.b1.20230517.233000.cdf\n",
      "[DOWNLOADING] gucsondewnpnM1.b1.20230524.232900.cdf\n",
      "[DOWNLOADING] gucsondewnpnM1.b1.20230318.232800.cdf\n",
      "[DOWNLOADING] gucsondewnpnM1.b1.20230206.233000.cdf\n",
      "[DOWNLOADING] gucsondewnpnM1.b1.20230416.233400.cdf\n",
      "[DOWNLOADING] gucsondewnpnM1.b1.20230615.113000.cdf\n",
      "[DOWNLOADING] gucsondewnpnM1.b1.20230525.233000.cdf\n",
      "[DOWNLOADING] gucsondewnpnM1.b1.20230410.232700.cdf\n",
      "[DOWNLOADING] gucsondewnpnM1.b1.20230303.113100.cdf\n",
      "[DOWNLOADING] gucsondewnpnM1.b1.20230506.232900.cdf\n",
      "[DOWNLOADING] gucsondewnpnM1.b1.20230310.233000.cdf\n",
      "[DOWNLOADING] gucsondewnpnM1.b1.20230603.112400.cdf\n",
      "[DOWNLOADING] gucsondewnpnM1.b1.20230605.233000.cdf\n",
      "[DOWNLOADING] gucsondewnpnM1.b1.20230325.232900.cdf\n",
      "[DOWNLOADING] gucsondewnpnM1.b1.20230320.113200.cdf\n",
      "[DOWNLOADING] gucsondewnpnM1.b1.20230418.113100.cdf\n",
      "[DOWNLOADING] gucsondewnpnM1.b1.20230227.233000.cdf\n",
      "[DOWNLOADING] gucsondewnpnM1.b1.20230218.232800.cdf\n",
      "[DOWNLOADING] gucsondewnpnM1.b1.20230523.232900.cdf\n",
      "[DOWNLOADING] gucsondewnpnM1.b1.20230410.113100.cdf\n",
      "[DOWNLOADING] gucsondewnpnM1.b1.20230520.113000.cdf\n",
      "[DOWNLOADING] gucsondewnpnM1.b1.20230322.233400.cdf\n",
      "[DOWNLOADING] gucsondewnpnM1.b1.20230330.233100.cdf\n",
      "[DOWNLOADING] gucsondewnpnM1.b1.20230201.113400.cdf\n",
      "[DOWNLOADING] gucsondewnpnM1.b1.20230411.233000.cdf\n",
      "[DOWNLOADING] gucsondewnpnM1.b1.20230328.113000.cdf\n",
      "[DOWNLOADING] gucsondewnpnM1.b1.20230327.232800.cdf\n",
      "[DOWNLOADING] gucsondewnpnM1.b1.20230212.113000.cdf\n",
      "[DOWNLOADING] gucsondewnpnM1.b1.20230513.232900.cdf\n",
      "[DOWNLOADING] gucsondewnpnM1.b1.20230423.113200.cdf\n",
      "[DOWNLOADING] gucsondewnpnM1.b1.20230315.233200.cdf\n",
      "[DOWNLOADING] gucsondewnpnM1.b1.20230504.113000.cdf\n",
      "[DOWNLOADING] gucsondewnpnM1.b1.20230211.232900.cdf\n",
      "[DOWNLOADING] gucsondewnpnM1.b1.20230425.232900.cdf\n",
      "[DOWNLOADING] gucsondewnpnM1.b1.20230220.233000.cdf\n",
      "[DOWNLOADING] gucsondewnpnM1.b1.20230325.113700.cdf\n",
      "[DOWNLOADING] gucsondewnpnM1.b1.20230518.232900.cdf\n",
      "[DOWNLOADING] gucsondewnpnM1.b1.20230310.113000.cdf\n",
      "[DOWNLOADING] gucsondewnpnM1.b1.20230301.233000.cdf\n",
      "[DOWNLOADING] gucsondewnpnM1.b1.20230526.113000.cdf\n",
      "[DOWNLOADING] gucsondewnpnM1.b1.20230414.113500.cdf\n",
      "[DOWNLOADING] gucsondewnpnM1.b1.20230324.233000.cdf\n",
      "[DOWNLOADING] gucsondewnpnM1.b1.20230528.112900.cdf\n",
      "[DOWNLOADING] gucsondewnpnM1.b1.20230329.112900.cdf\n",
      "[DOWNLOADING] gucsondewnpnM1.b1.20230205.112800.cdf\n",
      "[DOWNLOADING] gucsondewnpnM1.b1.20230321.232900.cdf\n",
      "[DOWNLOADING] gucsondewnpnM1.b1.20230316.232900.cdf\n",
      "[DOWNLOADING] gucsondewnpnM1.b1.20230525.112900.cdf\n",
      "[DOWNLOADING] gucsondewnpnM1.b1.20230429.112900.cdf\n",
      "[DOWNLOADING] gucsondewnpnM1.b1.20230315.113200.cdf\n",
      "[DOWNLOADING] gucsondewnpnM1.b1.20230531.233000.cdf\n",
      "[DOWNLOADING] gucsondewnpnM1.b1.20230501.232800.cdf\n",
      "[DOWNLOADING] gucsondewnpnM1.b1.20230613.233000.cdf\n",
      "[DOWNLOADING] gucsondewnpnM1.b1.20230223.113100.cdf\n",
      "[DOWNLOADING] gucsondewnpnM1.b1.20230508.113000.cdf\n",
      "[DOWNLOADING] gucsondewnpnM1.b1.20230302.113500.cdf\n",
      "[DOWNLOADING] gucsondewnpnM1.b1.20230404.232800.cdf\n",
      "[DOWNLOADING] gucsondewnpnM1.b1.20230216.113000.cdf\n",
      "[DOWNLOADING] gucsondewnpnM1.b1.20230420.232800.cdf\n",
      "[DOWNLOADING] gucsondewnpnM1.b1.20230426.113400.cdf\n",
      "[DOWNLOADING] gucsondewnpnM1.b1.20230224.113200.cdf\n",
      "[DOWNLOADING] gucsondewnpnM1.b1.20230423.232900.cdf\n",
      "[DOWNLOADING] gucsondewnpnM1.b1.20230314.232100.cdf\n",
      "[DOWNLOADING] gucsondewnpnM1.b1.20230205.233200.cdf\n",
      "[DOWNLOADING] gucsondewnpnM1.b1.20230225.232900.cdf\n",
      "[DOWNLOADING] gucsondewnpnM1.b1.20230528.232800.cdf\n",
      "[DOWNLOADING] gucsondewnpnM1.b1.20230512.113000.cdf\n",
      "[DOWNLOADING] gucsondewnpnM1.b1.20230309.233000.cdf\n",
      "[DOWNLOADING] gucsondewnpnM1.b1.20230228.113200.cdf\n",
      "[DOWNLOADING] gucsondewnpnM1.b1.20230316.113100.cdf\n",
      "[DOWNLOADING] gucsondewnpnM1.b1.20230311.233000.cdf\n",
      "[DOWNLOADING] gucsondewnpnM1.b1.20230222.113000.cdf\n",
      "[DOWNLOADING] gucsondewnpnM1.b1.20230307.233000.cdf\n",
      "[DOWNLOADING] gucsondewnpnM1.b1.20230507.232800.cdf\n",
      "[DOWNLOADING] gucsondewnpnM1.b1.20230429.232900.cdf\n",
      "[DOWNLOADING] gucsondewnpnM1.b1.20230515.232800.cdf\n",
      "[DOWNLOADING] gucsondewnpnM1.b1.20230308.233000.cdf\n",
      "[DOWNLOADING] gucsondewnpnM1.b1.20230517.113100.cdf\n",
      "[DOWNLOADING] gucsondewnpnM1.b1.20230214.113000.cdf\n",
      "[DOWNLOADING] gucsondewnpnM1.b1.20230408.232500.cdf\n",
      "[DOWNLOADING] gucsondewnpnM1.b1.20230503.234600.cdf\n",
      "[DOWNLOADING] gucsondewnpnM1.b1.20230613.113000.cdf\n",
      "[DOWNLOADING] gucsondewnpnM1.b1.20230312.233000.cdf\n",
      "[DOWNLOADING] gucsondewnpnM1.b1.20230401.113500.cdf\n",
      "[DOWNLOADING] gucsondewnpnM1.b1.20230415.232800.cdf\n",
      "[DOWNLOADING] gucsondewnpnM1.b1.20230510.232800.cdf\n",
      "[DOWNLOADING] gucsondewnpnM1.b1.20230303.232900.cdf\n",
      "[DOWNLOADING] gucsondewnpnM1.b1.20230428.233000.cdf\n",
      "[DOWNLOADING] gucsondewnpnM1.b1.20230321.113400.cdf\n",
      "[DOWNLOADING] gucsondewnpnM1.b1.20230206.113800.cdf\n",
      "[DOWNLOADING] gucsondewnpnM1.b1.20230211.113000.cdf\n",
      "[DOWNLOADING] gucsondewnpnM1.b1.20230420.112800.cdf\n",
      "[DOWNLOADING] gucsondewnpnM1.b1.20230515.112900.cdf\n",
      "[DOWNLOADING] gucsondewnpnM1.b1.20230516.112900.cdf\n",
      "[DOWNLOADING] gucsondewnpnM1.b1.20230221.233000.cdf\n",
      "[DOWNLOADING] gucsondewnpnM1.b1.20230521.113000.cdf\n",
      "[DOWNLOADING] gucsondewnpnM1.b1.20230305.233000.cdf\n",
      "[DOWNLOADING] gucsondewnpnM1.b1.20230413.233100.cdf\n",
      "[DOWNLOADING] gucsondewnpnM1.b1.20230521.232900.cdf\n",
      "[DOWNLOADING] gucsondewnpnM1.b1.20230509.113000.cdf\n",
      "[DOWNLOADING] gucsondewnpnM1.b1.20230215.113200.cdf\n",
      "[DOWNLOADING] gucsondewnpnM1.b1.20230524.113000.cdf\n",
      "[DOWNLOADING] gucsondewnpnM1.b1.20230203.113000.cdf\n",
      "[DOWNLOADING] gucsondewnpnM1.b1.20230608.113000.cdf\n",
      "[DOWNLOADING] gucsondewnpnM1.b1.20230422.113600.cdf\n",
      "[DOWNLOADING] gucsondewnpnM1.b1.20230606.113000.cdf\n",
      "[DOWNLOADING] gucsondewnpnM1.b1.20230330.235300.cdf\n",
      "[DOWNLOADING] gucsondewnpnM1.b1.20230305.112900.cdf\n",
      "[DOWNLOADING] gucsondewnpnM1.b1.20230430.113100.cdf\n",
      "[DOWNLOADING] gucsondewnpnM1.b1.20230520.232900.cdf\n",
      "[DOWNLOADING] gucsondewnpnM1.b1.20230404.120100.cdf\n",
      "[DOWNLOADING] gucsondewnpnM1.b1.20230304.120200.cdf\n",
      "[DOWNLOADING] gucsondewnpnM1.b1.20230406.232800.cdf\n",
      "[DOWNLOADING] gucsondewnpnM1.b1.20230207.232700.cdf\n",
      "[DOWNLOADING] gucsondewnpnM1.b1.20230402.113200.cdf\n",
      "[DOWNLOADING] gucsondewnpnM1.b1.20230203.232900.cdf\n",
      "[DOWNLOADING] gucsondewnpnM1.b1.20230314.113600.cdf\n",
      "[DOWNLOADING] gucsondewnpnM1.b1.20230519.112900.cdf\n",
      "[DOWNLOADING] gucsondewnpnM1.b1.20230414.233000.cdf\n",
      "[DOWNLOADING] gucsondewnpnM1.b1.20230505.233000.cdf\n",
      "[DOWNLOADING] gucsondewnpnM1.b1.20230313.233000.cdf\n",
      "[DOWNLOADING] gucsondewnpnM1.b1.20230327.112800.cdf\n",
      "[DOWNLOADING] gucsondewnpnM1.b1.20230224.233100.cdf\n",
      "[DOWNLOADING] gucsondewnpnM1.b1.20230331.113500.cdf\n",
      "[DOWNLOADING] gucsondewnpnM1.b1.20230215.233000.cdf\n",
      "[DOWNLOADING] gucsondewnpnM1.b1.20230615.233000.cdf\n",
      "[DOWNLOADING] gucsondewnpnM1.b1.20230402.233300.cdf\n",
      "[DOWNLOADING] gucsondewnpnM1.b1.20230425.113200.cdf\n",
      "[DOWNLOADING] gucsondewnpnM1.b1.20230326.112800.cdf\n",
      "[DOWNLOADING] gucsondewnpnM1.b1.20230323.232900.cdf\n",
      "[DOWNLOADING] gucsondewnpnM1.b1.20230419.233100.cdf\n",
      "[DOWNLOADING] gucsondewnpnM1.b1.20230228.233000.cdf\n",
      "[DOWNLOADING] gucsondewnpnM1.b1.20230504.001900.cdf\n",
      "[DOWNLOADING] gucsondewnpnM1.b1.20230516.232900.cdf\n",
      "[DOWNLOADING] gucsondewnpnM1.b1.20230323.113300.cdf\n",
      "[DOWNLOADING] gucsondewnpnM1.b1.20230605.113000.cdf\n",
      "[DOWNLOADING] gucsondewnpnM1.b1.20230322.113400.cdf\n",
      "[DOWNLOADING] gucsondewnpnM1.b1.20230421.113100.cdf\n",
      "[DOWNLOADING] gucsondewnpnM1.b1.20230602.113000.cdf\n",
      "[DOWNLOADING] gucsondewnpnM1.b1.20230416.112700.cdf\n",
      "[DOWNLOADING] gucsondewnpnM1.b1.20230220.113600.cdf\n",
      "[DOWNLOADING] gucsondewnpnM1.b1.20230404.113300.cdf\n",
      "[DOWNLOADING] gucsondewnpnM1.b1.20230412.113500.cdf\n",
      "[DOWNLOADING] gucsondewnpnM1.b1.20230522.113000.cdf\n",
      "[DOWNLOADING] gucsondewnpnM1.b1.20230609.113000.cdf\n",
      "[DOWNLOADING] gucsondewnpnM1.b1.20230610.112600.cdf\n",
      "[DOWNLOADING] gucsondewnpnM1.b1.20230227.113000.cdf\n",
      "[DOWNLOADING] gucsondewnpnM1.b1.20230426.232800.cdf\n",
      "[DOWNLOADING] gucsondewnpnM1.b1.20230417.233000.cdf\n",
      "[DOWNLOADING] gucsondewnpnM1.b1.20230601.233000.cdf\n",
      "[DOWNLOADING] gucsondewnpnM1.b1.20230503.233000.cdf\n",
      "[DOWNLOADING] gucsondewnpnM1.b1.20230324.113300.cdf\n",
      "[DOWNLOADING] gucsondewnpnM1.b1.20230304.232900.cdf\n",
      "[DOWNLOADING] gucsondewnpnM1.b1.20230213.233000.cdf\n",
      "[DOWNLOADING] gucsondewnpnM1.b1.20230308.113100.cdf\n",
      "[DOWNLOADING] gucsondewnpnM1.b1.20230511.233000.cdf\n",
      "[DOWNLOADING] gucsondewnpnM1.b1.20230511.113100.cdf\n",
      "[DOWNLOADING] gucsondewnpnM1.b1.20230405.113400.cdf\n",
      "[DOWNLOADING] gucsondewnpnM1.b1.20230222.232900.cdf\n",
      "[DOWNLOADING] gucsondewnpnM1.b1.20230331.233300.cdf\n",
      "[DOWNLOADING] gucsondewnpnM1.b1.20230430.233000.cdf\n",
      "[DOWNLOADING] gucsondewnpnM1.b1.20230612.113000.cdf\n",
      "[DOWNLOADING] gucsondewnpnM1.b1.20230502.232900.cdf\n",
      "[DOWNLOADING] gucsondewnpnM1.b1.20230417.113000.cdf\n",
      "[DOWNLOADING] gucsondewnpnM1.b1.20230611.112800.cdf\n",
      "[DOWNLOADING] gucsondewnpnM1.b1.20230418.232900.cdf\n",
      "[DOWNLOADING] gucsondewnpnM1.b1.20230502.113200.cdf\n",
      "[DOWNLOADING] gucsondewnpnM1.b1.20230317.233000.cdf\n",
      "[DOWNLOADING] gucsondewnpnM1.b1.20230204.113000.cdf\n",
      "[DOWNLOADING] gucsondewnpnM1.b1.20230612.232900.cdf\n",
      "[DOWNLOADING] gucsondewnpnM1.b1.20230329.233000.cdf\n",
      "[DOWNLOADING] gucsondewnpnM1.b1.20230216.233200.cdf\n",
      "[DOWNLOADING] gucsondewnpnM1.b1.20230207.113000.cdf\n",
      "[DOWNLOADING] gucsondewnpnM1.b1.20230405.233100.cdf\n",
      "[DOWNLOADING] gucsondewnpnM1.b1.20230526.233000.cdf\n",
      "[DOWNLOADING] gucsondewnpnM1.b1.20230202.233400.cdf\n",
      "[DOWNLOADING] gucsondewnpnM1.b1.20230522.233000.cdf\n",
      "\n",
      "If you use these data to prepare a publication, please cite:\n",
      "\n",
      "Keeler, E., Burk, K., & Kyrouac, J. Balloon-Borne Sounding System (SONDEWNPN).\n",
      "Atmospheric Radiation Measurement (ARM) User Facility.\n",
      "https://doi.org/10.5439/1595321\n",
      "\n"
     ]
    },
    {
     "data": {
      "text/plain": [
       "['/Users/elischwat/Development/data/sublimationofsnow/gucsondewnpnM1.b1/gucsondewnpnM1.b1.20230412.232800.cdf',\n",
       " '/Users/elischwat/Development/data/sublimationofsnow/gucsondewnpnM1.b1/gucsondewnpnM1.b1.20230306.113000.cdf',\n",
       " '/Users/elischwat/Development/data/sublimationofsnow/gucsondewnpnM1.b1/gucsondewnpnM1.b1.20230318.113600.cdf',\n",
       " '/Users/elischwat/Development/data/sublimationofsnow/gucsondewnpnM1.b1/gucsondewnpnM1.b1.20230213.113900.cdf',\n",
       " '/Users/elischwat/Development/data/sublimationofsnow/gucsondewnpnM1.b1/gucsondewnpnM1.b1.20230505.113000.cdf',\n",
       " '/Users/elischwat/Development/data/sublimationofsnow/gucsondewnpnM1.b1/gucsondewnpnM1.b1.20230604.112500.cdf',\n",
       " '/Users/elischwat/Development/data/sublimationofsnow/gucsondewnpnM1.b1/gucsondewnpnM1.b1.20230209.232900.cdf',\n",
       " '/Users/elischwat/Development/data/sublimationofsnow/gucsondewnpnM1.b1/gucsondewnpnM1.b1.20230530.112900.cdf',\n",
       " '/Users/elischwat/Development/data/sublimationofsnow/gucsondewnpnM1.b1/gucsondewnpnM1.b1.20230317.113500.cdf',\n",
       " '/Users/elischwat/Development/data/sublimationofsnow/gucsondewnpnM1.b1/gucsondewnpnM1.b1.20230419.113000.cdf',\n",
       " '/Users/elischwat/Development/data/sublimationofsnow/gucsondewnpnM1.b1/gucsondewnpnM1.b1.20230407.113400.cdf',\n",
       " '/Users/elischwat/Development/data/sublimationofsnow/gucsondewnpnM1.b1/gucsondewnpnM1.b1.20230312.113300.cdf',\n",
       " '/Users/elischwat/Development/data/sublimationofsnow/gucsondewnpnM1.b1/gucsondewnpnM1.b1.20230204.233000.cdf',\n",
       " '/Users/elischwat/Development/data/sublimationofsnow/gucsondewnpnM1.b1/gucsondewnpnM1.b1.20230614.233000.cdf',\n",
       " '/Users/elischwat/Development/data/sublimationofsnow/gucsondewnpnM1.b1/gucsondewnpnM1.b1.20230306.232800.cdf',\n",
       " '/Users/elischwat/Development/data/sublimationofsnow/gucsondewnpnM1.b1/gucsondewnpnM1.b1.20230214.233000.cdf',\n",
       " '/Users/elischwat/Development/data/sublimationofsnow/gucsondewnpnM1.b1/gucsondewnpnM1.b1.20230307.112400.cdf',\n",
       " '/Users/elischwat/Development/data/sublimationofsnow/gucsondewnpnM1.b1/gucsondewnpnM1.b1.20230330.113100.cdf',\n",
       " '/Users/elischwat/Development/data/sublimationofsnow/gucsondewnpnM1.b1/gucsondewnpnM1.b1.20230208.112700.cdf',\n",
       " '/Users/elischwat/Development/data/sublimationofsnow/gucsondewnpnM1.b1/gucsondewnpnM1.b1.20230607.233100.cdf',\n",
       " '/Users/elischwat/Development/data/sublimationofsnow/gucsondewnpnM1.b1/gucsondewnpnM1.b1.20230411.113200.cdf',\n",
       " '/Users/elischwat/Development/data/sublimationofsnow/gucsondewnpnM1.b1/gucsondewnpnM1.b1.20230603.232600.cdf',\n",
       " '/Users/elischwat/Development/data/sublimationofsnow/gucsondewnpnM1.b1/gucsondewnpnM1.b1.20230602.234200.cdf',\n",
       " '/Users/elischwat/Development/data/sublimationofsnow/gucsondewnpnM1.b1/gucsondewnpnM1.b1.20230608.232900.cdf',\n",
       " '/Users/elischwat/Development/data/sublimationofsnow/gucsondewnpnM1.b1/gucsondewnpnM1.b1.20230508.232800.cdf',\n",
       " '/Users/elischwat/Development/data/sublimationofsnow/gucsondewnpnM1.b1/gucsondewnpnM1.b1.20230513.113000.cdf',\n",
       " '/Users/elischwat/Development/data/sublimationofsnow/gucsondewnpnM1.b1/gucsondewnpnM1.b1.20230531.113000.cdf',\n",
       " '/Users/elischwat/Development/data/sublimationofsnow/gucsondewnpnM1.b1/gucsondewnpnM1.b1.20230518.113000.cdf',\n",
       " '/Users/elischwat/Development/data/sublimationofsnow/gucsondewnpnM1.b1/gucsondewnpnM1.b1.20230226.112900.cdf',\n",
       " '/Users/elischwat/Development/data/sublimationofsnow/gucsondewnpnM1.b1/gucsondewnpnM1.b1.20230609.234000.cdf',\n",
       " '/Users/elischwat/Development/data/sublimationofsnow/gucsondewnpnM1.b1/gucsondewnpnM1.b1.20230512.233000.cdf',\n",
       " '/Users/elischwat/Development/data/sublimationofsnow/gucsondewnpnM1.b1/gucsondewnpnM1.b1.20230606.233000.cdf',\n",
       " '/Users/elischwat/Development/data/sublimationofsnow/gucsondewnpnM1.b1/gucsondewnpnM1.b1.20230403.113100.cdf',\n",
       " '/Users/elischwat/Development/data/sublimationofsnow/gucsondewnpnM1.b1/gucsondewnpnM1.b1.20230523.000100.cdf',\n",
       " '/Users/elischwat/Development/data/sublimationofsnow/gucsondewnpnM1.b1/gucsondewnpnM1.b1.20230406.113100.cdf',\n",
       " '/Users/elischwat/Development/data/sublimationofsnow/gucsondewnpnM1.b1/gucsondewnpnM1.b1.20230409.232800.cdf',\n",
       " '/Users/elischwat/Development/data/sublimationofsnow/gucsondewnpnM1.b1/gucsondewnpnM1.b1.20230208.233000.cdf',\n",
       " '/Users/elischwat/Development/data/sublimationofsnow/gucsondewnpnM1.b1/gucsondewnpnM1.b1.20230427.232900.cdf',\n",
       " '/Users/elischwat/Development/data/sublimationofsnow/gucsondewnpnM1.b1/gucsondewnpnM1.b1.20230212.232900.cdf',\n",
       " '/Users/elischwat/Development/data/sublimationofsnow/gucsondewnpnM1.b1/gucsondewnpnM1.b1.20230319.113100.cdf',\n",
       " '/Users/elischwat/Development/data/sublimationofsnow/gucsondewnpnM1.b1/gucsondewnpnM1.b1.20230401.232900.cdf',\n",
       " '/Users/elischwat/Development/data/sublimationofsnow/gucsondewnpnM1.b1/gucsondewnpnM1.b1.20230217.113100.cdf',\n",
       " '/Users/elischwat/Development/data/sublimationofsnow/gucsondewnpnM1.b1/gucsondewnpnM1.b1.20230507.112900.cdf',\n",
       " '/Users/elischwat/Development/data/sublimationofsnow/gucsondewnpnM1.b1/gucsondewnpnM1.b1.20230301.113200.cdf',\n",
       " '/Users/elischwat/Development/data/sublimationofsnow/gucsondewnpnM1.b1/gucsondewnpnM1.b1.20230509.232700.cdf',\n",
       " '/Users/elischwat/Development/data/sublimationofsnow/gucsondewnpnM1.b1/gucsondewnpnM1.b1.20230529.233000.cdf',\n",
       " '/Users/elischwat/Development/data/sublimationofsnow/gucsondewnpnM1.b1/gucsondewnpnM1.b1.20230309.113600.cdf',\n",
       " '/Users/elischwat/Development/data/sublimationofsnow/gucsondewnpnM1.b1/gucsondewnpnM1.b1.20230319.233000.cdf',\n",
       " '/Users/elischwat/Development/data/sublimationofsnow/gucsondewnpnM1.b1/gucsondewnpnM1.b1.20230427.113100.cdf',\n",
       " '/Users/elischwat/Development/data/sublimationofsnow/gucsondewnpnM1.b1/gucsondewnpnM1.b1.20230409.113200.cdf',\n",
       " '/Users/elischwat/Development/data/sublimationofsnow/gucsondewnpnM1.b1/gucsondewnpnM1.b1.20230223.233000.cdf',\n",
       " '/Users/elischwat/Development/data/sublimationofsnow/gucsondewnpnM1.b1/gucsondewnpnM1.b1.20230527.233000.cdf',\n",
       " '/Users/elischwat/Development/data/sublimationofsnow/gucsondewnpnM1.b1/gucsondewnpnM1.b1.20230221.113000.cdf',\n",
       " '/Users/elischwat/Development/data/sublimationofsnow/gucsondewnpnM1.b1/gucsondewnpnM1.b1.20230202.113100.cdf',\n",
       " '/Users/elischwat/Development/data/sublimationofsnow/gucsondewnpnM1.b1/gucsondewnpnM1.b1.20230210.233000.cdf',\n",
       " '/Users/elischwat/Development/data/sublimationofsnow/gucsondewnpnM1.b1/gucsondewnpnM1.b1.20230501.112800.cdf',\n",
       " '/Users/elischwat/Development/data/sublimationofsnow/gucsondewnpnM1.b1/gucsondewnpnM1.b1.20230219.232900.cdf',\n",
       " '/Users/elischwat/Development/data/sublimationofsnow/gucsondewnpnM1.b1/gucsondewnpnM1.b1.20230218.113100.cdf',\n",
       " '/Users/elischwat/Development/data/sublimationofsnow/gucsondewnpnM1.b1/gucsondewnpnM1.b1.20230328.232900.cdf',\n",
       " '/Users/elischwat/Development/data/sublimationofsnow/gucsondewnpnM1.b1/gucsondewnpnM1.b1.20230506.112700.cdf',\n",
       " '/Users/elischwat/Development/data/sublimationofsnow/gucsondewnpnM1.b1/gucsondewnpnM1.b1.20230611.232900.cdf',\n",
       " '/Users/elischwat/Development/data/sublimationofsnow/gucsondewnpnM1.b1/gucsondewnpnM1.b1.20230607.113000.cdf',\n",
       " '/Users/elischwat/Development/data/sublimationofsnow/gucsondewnpnM1.b1/gucsondewnpnM1.b1.20230422.232900.cdf',\n",
       " '/Users/elischwat/Development/data/sublimationofsnow/gucsondewnpnM1.b1/gucsondewnpnM1.b1.20230413.112900.cdf',\n",
       " '/Users/elischwat/Development/data/sublimationofsnow/gucsondewnpnM1.b1/gucsondewnpnM1.b1.20230428.113100.cdf',\n",
       " '/Users/elischwat/Development/data/sublimationofsnow/gucsondewnpnM1.b1/gucsondewnpnM1.b1.20230519.232800.cdf',\n",
       " '/Users/elischwat/Development/data/sublimationofsnow/gucsondewnpnM1.b1/gucsondewnpnM1.b1.20230504.233000.cdf',\n",
       " '/Users/elischwat/Development/data/sublimationofsnow/gucsondewnpnM1.b1/gucsondewnpnM1.b1.20230403.233000.cdf',\n",
       " '/Users/elischwat/Development/data/sublimationofsnow/gucsondewnpnM1.b1/gucsondewnpnM1.b1.20230514.113100.cdf',\n",
       " '/Users/elischwat/Development/data/sublimationofsnow/gucsondewnpnM1.b1/gucsondewnpnM1.b1.20230320.232800.cdf',\n",
       " '/Users/elischwat/Development/data/sublimationofsnow/gucsondewnpnM1.b1/gucsondewnpnM1.b1.20230225.112700.cdf',\n",
       " '/Users/elischwat/Development/data/sublimationofsnow/gucsondewnpnM1.b1/gucsondewnpnM1.b1.20230219.113400.cdf',\n",
       " '/Users/elischwat/Development/data/sublimationofsnow/gucsondewnpnM1.b1/gucsondewnpnM1.b1.20230217.233100.cdf',\n",
       " '/Users/elischwat/Development/data/sublimationofsnow/gucsondewnpnM1.b1/gucsondewnpnM1.b1.20230424.113000.cdf',\n",
       " '/Users/elischwat/Development/data/sublimationofsnow/gucsondewnpnM1.b1/gucsondewnpnM1.b1.20230601.113100.cdf',\n",
       " '/Users/elischwat/Development/data/sublimationofsnow/gucsondewnpnM1.b1/gucsondewnpnM1.b1.20230326.232900.cdf',\n",
       " '/Users/elischwat/Development/data/sublimationofsnow/gucsondewnpnM1.b1/gucsondewnpnM1.b1.20230424.233000.cdf',\n",
       " '/Users/elischwat/Development/data/sublimationofsnow/gucsondewnpnM1.b1/gucsondewnpnM1.b1.20230530.233000.cdf',\n",
       " '/Users/elischwat/Development/data/sublimationofsnow/gucsondewnpnM1.b1/gucsondewnpnM1.b1.20230201.233100.cdf',\n",
       " '/Users/elischwat/Development/data/sublimationofsnow/gucsondewnpnM1.b1/gucsondewnpnM1.b1.20230610.233000.cdf',\n",
       " '/Users/elischwat/Development/data/sublimationofsnow/gucsondewnpnM1.b1/gucsondewnpnM1.b1.20230510.112900.cdf',\n",
       " '/Users/elischwat/Development/data/sublimationofsnow/gucsondewnpnM1.b1/gucsondewnpnM1.b1.20230529.112700.cdf',\n",
       " '/Users/elischwat/Development/data/sublimationofsnow/gucsondewnpnM1.b1/gucsondewnpnM1.b1.20230226.232600.cdf',\n",
       " '/Users/elischwat/Development/data/sublimationofsnow/gucsondewnpnM1.b1/gucsondewnpnM1.b1.20230421.234100.cdf',\n",
       " '/Users/elischwat/Development/data/sublimationofsnow/gucsondewnpnM1.b1/gucsondewnpnM1.b1.20230614.113000.cdf',\n",
       " '/Users/elischwat/Development/data/sublimationofsnow/gucsondewnpnM1.b1/gucsondewnpnM1.b1.20230407.233000.cdf',\n",
       " '/Users/elischwat/Development/data/sublimationofsnow/gucsondewnpnM1.b1/gucsondewnpnM1.b1.20230514.233100.cdf',\n",
       " '/Users/elischwat/Development/data/sublimationofsnow/gucsondewnpnM1.b1/gucsondewnpnM1.b1.20230523.112800.cdf',\n",
       " '/Users/elischwat/Development/data/sublimationofsnow/gucsondewnpnM1.b1/gucsondewnpnM1.b1.20230210.113000.cdf',\n",
       " '/Users/elischwat/Development/data/sublimationofsnow/gucsondewnpnM1.b1/gucsondewnpnM1.b1.20230313.112900.cdf',\n",
       " '/Users/elischwat/Development/data/sublimationofsnow/gucsondewnpnM1.b1/gucsondewnpnM1.b1.20230408.113700.cdf',\n",
       " '/Users/elischwat/Development/data/sublimationofsnow/gucsondewnpnM1.b1/gucsondewnpnM1.b1.20230302.234100.cdf',\n",
       " '/Users/elischwat/Development/data/sublimationofsnow/gucsondewnpnM1.b1/gucsondewnpnM1.b1.20230415.113000.cdf',\n",
       " '/Users/elischwat/Development/data/sublimationofsnow/gucsondewnpnM1.b1/gucsondewnpnM1.b1.20230517.233000.cdf',\n",
       " '/Users/elischwat/Development/data/sublimationofsnow/gucsondewnpnM1.b1/gucsondewnpnM1.b1.20230524.232900.cdf',\n",
       " '/Users/elischwat/Development/data/sublimationofsnow/gucsondewnpnM1.b1/gucsondewnpnM1.b1.20230318.232800.cdf',\n",
       " '/Users/elischwat/Development/data/sublimationofsnow/gucsondewnpnM1.b1/gucsondewnpnM1.b1.20230206.233000.cdf',\n",
       " '/Users/elischwat/Development/data/sublimationofsnow/gucsondewnpnM1.b1/gucsondewnpnM1.b1.20230416.233400.cdf',\n",
       " '/Users/elischwat/Development/data/sublimationofsnow/gucsondewnpnM1.b1/gucsondewnpnM1.b1.20230615.113000.cdf',\n",
       " '/Users/elischwat/Development/data/sublimationofsnow/gucsondewnpnM1.b1/gucsondewnpnM1.b1.20230525.233000.cdf',\n",
       " '/Users/elischwat/Development/data/sublimationofsnow/gucsondewnpnM1.b1/gucsondewnpnM1.b1.20230410.232700.cdf',\n",
       " '/Users/elischwat/Development/data/sublimationofsnow/gucsondewnpnM1.b1/gucsondewnpnM1.b1.20230303.113100.cdf',\n",
       " '/Users/elischwat/Development/data/sublimationofsnow/gucsondewnpnM1.b1/gucsondewnpnM1.b1.20230506.232900.cdf',\n",
       " '/Users/elischwat/Development/data/sublimationofsnow/gucsondewnpnM1.b1/gucsondewnpnM1.b1.20230310.233000.cdf',\n",
       " '/Users/elischwat/Development/data/sublimationofsnow/gucsondewnpnM1.b1/gucsondewnpnM1.b1.20230603.112400.cdf',\n",
       " '/Users/elischwat/Development/data/sublimationofsnow/gucsondewnpnM1.b1/gucsondewnpnM1.b1.20230605.233000.cdf',\n",
       " '/Users/elischwat/Development/data/sublimationofsnow/gucsondewnpnM1.b1/gucsondewnpnM1.b1.20230325.232900.cdf',\n",
       " '/Users/elischwat/Development/data/sublimationofsnow/gucsondewnpnM1.b1/gucsondewnpnM1.b1.20230320.113200.cdf',\n",
       " '/Users/elischwat/Development/data/sublimationofsnow/gucsondewnpnM1.b1/gucsondewnpnM1.b1.20230418.113100.cdf',\n",
       " '/Users/elischwat/Development/data/sublimationofsnow/gucsondewnpnM1.b1/gucsondewnpnM1.b1.20230227.233000.cdf',\n",
       " '/Users/elischwat/Development/data/sublimationofsnow/gucsondewnpnM1.b1/gucsondewnpnM1.b1.20230218.232800.cdf',\n",
       " '/Users/elischwat/Development/data/sublimationofsnow/gucsondewnpnM1.b1/gucsondewnpnM1.b1.20230523.232900.cdf',\n",
       " '/Users/elischwat/Development/data/sublimationofsnow/gucsondewnpnM1.b1/gucsondewnpnM1.b1.20230410.113100.cdf',\n",
       " '/Users/elischwat/Development/data/sublimationofsnow/gucsondewnpnM1.b1/gucsondewnpnM1.b1.20230520.113000.cdf',\n",
       " '/Users/elischwat/Development/data/sublimationofsnow/gucsondewnpnM1.b1/gucsondewnpnM1.b1.20230322.233400.cdf',\n",
       " '/Users/elischwat/Development/data/sublimationofsnow/gucsondewnpnM1.b1/gucsondewnpnM1.b1.20230330.233100.cdf',\n",
       " '/Users/elischwat/Development/data/sublimationofsnow/gucsondewnpnM1.b1/gucsondewnpnM1.b1.20230201.113400.cdf',\n",
       " '/Users/elischwat/Development/data/sublimationofsnow/gucsondewnpnM1.b1/gucsondewnpnM1.b1.20230411.233000.cdf',\n",
       " '/Users/elischwat/Development/data/sublimationofsnow/gucsondewnpnM1.b1/gucsondewnpnM1.b1.20230328.113000.cdf',\n",
       " '/Users/elischwat/Development/data/sublimationofsnow/gucsondewnpnM1.b1/gucsondewnpnM1.b1.20230327.232800.cdf',\n",
       " '/Users/elischwat/Development/data/sublimationofsnow/gucsondewnpnM1.b1/gucsondewnpnM1.b1.20230212.113000.cdf',\n",
       " '/Users/elischwat/Development/data/sublimationofsnow/gucsondewnpnM1.b1/gucsondewnpnM1.b1.20230513.232900.cdf',\n",
       " '/Users/elischwat/Development/data/sublimationofsnow/gucsondewnpnM1.b1/gucsondewnpnM1.b1.20230423.113200.cdf',\n",
       " '/Users/elischwat/Development/data/sublimationofsnow/gucsondewnpnM1.b1/gucsondewnpnM1.b1.20230315.233200.cdf',\n",
       " '/Users/elischwat/Development/data/sublimationofsnow/gucsondewnpnM1.b1/gucsondewnpnM1.b1.20230504.113000.cdf',\n",
       " '/Users/elischwat/Development/data/sublimationofsnow/gucsondewnpnM1.b1/gucsondewnpnM1.b1.20230211.232900.cdf',\n",
       " '/Users/elischwat/Development/data/sublimationofsnow/gucsondewnpnM1.b1/gucsondewnpnM1.b1.20230425.232900.cdf',\n",
       " '/Users/elischwat/Development/data/sublimationofsnow/gucsondewnpnM1.b1/gucsondewnpnM1.b1.20230220.233000.cdf',\n",
       " '/Users/elischwat/Development/data/sublimationofsnow/gucsondewnpnM1.b1/gucsondewnpnM1.b1.20230325.113700.cdf',\n",
       " '/Users/elischwat/Development/data/sublimationofsnow/gucsondewnpnM1.b1/gucsondewnpnM1.b1.20230518.232900.cdf',\n",
       " '/Users/elischwat/Development/data/sublimationofsnow/gucsondewnpnM1.b1/gucsondewnpnM1.b1.20230310.113000.cdf',\n",
       " '/Users/elischwat/Development/data/sublimationofsnow/gucsondewnpnM1.b1/gucsondewnpnM1.b1.20230301.233000.cdf',\n",
       " '/Users/elischwat/Development/data/sublimationofsnow/gucsondewnpnM1.b1/gucsondewnpnM1.b1.20230526.113000.cdf',\n",
       " '/Users/elischwat/Development/data/sublimationofsnow/gucsondewnpnM1.b1/gucsondewnpnM1.b1.20230414.113500.cdf',\n",
       " '/Users/elischwat/Development/data/sublimationofsnow/gucsondewnpnM1.b1/gucsondewnpnM1.b1.20230324.233000.cdf',\n",
       " '/Users/elischwat/Development/data/sublimationofsnow/gucsondewnpnM1.b1/gucsondewnpnM1.b1.20230528.112900.cdf',\n",
       " '/Users/elischwat/Development/data/sublimationofsnow/gucsondewnpnM1.b1/gucsondewnpnM1.b1.20230329.112900.cdf',\n",
       " '/Users/elischwat/Development/data/sublimationofsnow/gucsondewnpnM1.b1/gucsondewnpnM1.b1.20230205.112800.cdf',\n",
       " '/Users/elischwat/Development/data/sublimationofsnow/gucsondewnpnM1.b1/gucsondewnpnM1.b1.20230321.232900.cdf',\n",
       " '/Users/elischwat/Development/data/sublimationofsnow/gucsondewnpnM1.b1/gucsondewnpnM1.b1.20230316.232900.cdf',\n",
       " '/Users/elischwat/Development/data/sublimationofsnow/gucsondewnpnM1.b1/gucsondewnpnM1.b1.20230525.112900.cdf',\n",
       " '/Users/elischwat/Development/data/sublimationofsnow/gucsondewnpnM1.b1/gucsondewnpnM1.b1.20230429.112900.cdf',\n",
       " '/Users/elischwat/Development/data/sublimationofsnow/gucsondewnpnM1.b1/gucsondewnpnM1.b1.20230315.113200.cdf',\n",
       " '/Users/elischwat/Development/data/sublimationofsnow/gucsondewnpnM1.b1/gucsondewnpnM1.b1.20230531.233000.cdf',\n",
       " '/Users/elischwat/Development/data/sublimationofsnow/gucsondewnpnM1.b1/gucsondewnpnM1.b1.20230501.232800.cdf',\n",
       " '/Users/elischwat/Development/data/sublimationofsnow/gucsondewnpnM1.b1/gucsondewnpnM1.b1.20230613.233000.cdf',\n",
       " '/Users/elischwat/Development/data/sublimationofsnow/gucsondewnpnM1.b1/gucsondewnpnM1.b1.20230223.113100.cdf',\n",
       " '/Users/elischwat/Development/data/sublimationofsnow/gucsondewnpnM1.b1/gucsondewnpnM1.b1.20230508.113000.cdf',\n",
       " '/Users/elischwat/Development/data/sublimationofsnow/gucsondewnpnM1.b1/gucsondewnpnM1.b1.20230302.113500.cdf',\n",
       " '/Users/elischwat/Development/data/sublimationofsnow/gucsondewnpnM1.b1/gucsondewnpnM1.b1.20230404.232800.cdf',\n",
       " '/Users/elischwat/Development/data/sublimationofsnow/gucsondewnpnM1.b1/gucsondewnpnM1.b1.20230216.113000.cdf',\n",
       " '/Users/elischwat/Development/data/sublimationofsnow/gucsondewnpnM1.b1/gucsondewnpnM1.b1.20230420.232800.cdf',\n",
       " '/Users/elischwat/Development/data/sublimationofsnow/gucsondewnpnM1.b1/gucsondewnpnM1.b1.20230426.113400.cdf',\n",
       " '/Users/elischwat/Development/data/sublimationofsnow/gucsondewnpnM1.b1/gucsondewnpnM1.b1.20230224.113200.cdf',\n",
       " '/Users/elischwat/Development/data/sublimationofsnow/gucsondewnpnM1.b1/gucsondewnpnM1.b1.20230423.232900.cdf',\n",
       " '/Users/elischwat/Development/data/sublimationofsnow/gucsondewnpnM1.b1/gucsondewnpnM1.b1.20230314.232100.cdf',\n",
       " '/Users/elischwat/Development/data/sublimationofsnow/gucsondewnpnM1.b1/gucsondewnpnM1.b1.20230205.233200.cdf',\n",
       " '/Users/elischwat/Development/data/sublimationofsnow/gucsondewnpnM1.b1/gucsondewnpnM1.b1.20230225.232900.cdf',\n",
       " '/Users/elischwat/Development/data/sublimationofsnow/gucsondewnpnM1.b1/gucsondewnpnM1.b1.20230528.232800.cdf',\n",
       " '/Users/elischwat/Development/data/sublimationofsnow/gucsondewnpnM1.b1/gucsondewnpnM1.b1.20230512.113000.cdf',\n",
       " '/Users/elischwat/Development/data/sublimationofsnow/gucsondewnpnM1.b1/gucsondewnpnM1.b1.20230309.233000.cdf',\n",
       " '/Users/elischwat/Development/data/sublimationofsnow/gucsondewnpnM1.b1/gucsondewnpnM1.b1.20230228.113200.cdf',\n",
       " '/Users/elischwat/Development/data/sublimationofsnow/gucsondewnpnM1.b1/gucsondewnpnM1.b1.20230316.113100.cdf',\n",
       " '/Users/elischwat/Development/data/sublimationofsnow/gucsondewnpnM1.b1/gucsondewnpnM1.b1.20230311.233000.cdf',\n",
       " '/Users/elischwat/Development/data/sublimationofsnow/gucsondewnpnM1.b1/gucsondewnpnM1.b1.20230222.113000.cdf',\n",
       " '/Users/elischwat/Development/data/sublimationofsnow/gucsondewnpnM1.b1/gucsondewnpnM1.b1.20230307.233000.cdf',\n",
       " '/Users/elischwat/Development/data/sublimationofsnow/gucsondewnpnM1.b1/gucsondewnpnM1.b1.20230507.232800.cdf',\n",
       " '/Users/elischwat/Development/data/sublimationofsnow/gucsondewnpnM1.b1/gucsondewnpnM1.b1.20230429.232900.cdf',\n",
       " '/Users/elischwat/Development/data/sublimationofsnow/gucsondewnpnM1.b1/gucsondewnpnM1.b1.20230515.232800.cdf',\n",
       " '/Users/elischwat/Development/data/sublimationofsnow/gucsondewnpnM1.b1/gucsondewnpnM1.b1.20230308.233000.cdf',\n",
       " '/Users/elischwat/Development/data/sublimationofsnow/gucsondewnpnM1.b1/gucsondewnpnM1.b1.20230517.113100.cdf',\n",
       " '/Users/elischwat/Development/data/sublimationofsnow/gucsondewnpnM1.b1/gucsondewnpnM1.b1.20230214.113000.cdf',\n",
       " '/Users/elischwat/Development/data/sublimationofsnow/gucsondewnpnM1.b1/gucsondewnpnM1.b1.20230408.232500.cdf',\n",
       " '/Users/elischwat/Development/data/sublimationofsnow/gucsondewnpnM1.b1/gucsondewnpnM1.b1.20230503.234600.cdf',\n",
       " '/Users/elischwat/Development/data/sublimationofsnow/gucsondewnpnM1.b1/gucsondewnpnM1.b1.20230613.113000.cdf',\n",
       " '/Users/elischwat/Development/data/sublimationofsnow/gucsondewnpnM1.b1/gucsondewnpnM1.b1.20230312.233000.cdf',\n",
       " '/Users/elischwat/Development/data/sublimationofsnow/gucsondewnpnM1.b1/gucsondewnpnM1.b1.20230401.113500.cdf',\n",
       " '/Users/elischwat/Development/data/sublimationofsnow/gucsondewnpnM1.b1/gucsondewnpnM1.b1.20230415.232800.cdf',\n",
       " '/Users/elischwat/Development/data/sublimationofsnow/gucsondewnpnM1.b1/gucsondewnpnM1.b1.20230510.232800.cdf',\n",
       " '/Users/elischwat/Development/data/sublimationofsnow/gucsondewnpnM1.b1/gucsondewnpnM1.b1.20230303.232900.cdf',\n",
       " '/Users/elischwat/Development/data/sublimationofsnow/gucsondewnpnM1.b1/gucsondewnpnM1.b1.20230428.233000.cdf',\n",
       " '/Users/elischwat/Development/data/sublimationofsnow/gucsondewnpnM1.b1/gucsondewnpnM1.b1.20230321.113400.cdf',\n",
       " '/Users/elischwat/Development/data/sublimationofsnow/gucsondewnpnM1.b1/gucsondewnpnM1.b1.20230206.113800.cdf',\n",
       " '/Users/elischwat/Development/data/sublimationofsnow/gucsondewnpnM1.b1/gucsondewnpnM1.b1.20230211.113000.cdf',\n",
       " '/Users/elischwat/Development/data/sublimationofsnow/gucsondewnpnM1.b1/gucsondewnpnM1.b1.20230420.112800.cdf',\n",
       " '/Users/elischwat/Development/data/sublimationofsnow/gucsondewnpnM1.b1/gucsondewnpnM1.b1.20230515.112900.cdf',\n",
       " '/Users/elischwat/Development/data/sublimationofsnow/gucsondewnpnM1.b1/gucsondewnpnM1.b1.20230516.112900.cdf',\n",
       " '/Users/elischwat/Development/data/sublimationofsnow/gucsondewnpnM1.b1/gucsondewnpnM1.b1.20230221.233000.cdf',\n",
       " '/Users/elischwat/Development/data/sublimationofsnow/gucsondewnpnM1.b1/gucsondewnpnM1.b1.20230521.113000.cdf',\n",
       " '/Users/elischwat/Development/data/sublimationofsnow/gucsondewnpnM1.b1/gucsondewnpnM1.b1.20230305.233000.cdf',\n",
       " '/Users/elischwat/Development/data/sublimationofsnow/gucsondewnpnM1.b1/gucsondewnpnM1.b1.20230413.233100.cdf',\n",
       " '/Users/elischwat/Development/data/sublimationofsnow/gucsondewnpnM1.b1/gucsondewnpnM1.b1.20230521.232900.cdf',\n",
       " '/Users/elischwat/Development/data/sublimationofsnow/gucsondewnpnM1.b1/gucsondewnpnM1.b1.20230509.113000.cdf',\n",
       " '/Users/elischwat/Development/data/sublimationofsnow/gucsondewnpnM1.b1/gucsondewnpnM1.b1.20230215.113200.cdf',\n",
       " '/Users/elischwat/Development/data/sublimationofsnow/gucsondewnpnM1.b1/gucsondewnpnM1.b1.20230524.113000.cdf',\n",
       " '/Users/elischwat/Development/data/sublimationofsnow/gucsondewnpnM1.b1/gucsondewnpnM1.b1.20230203.113000.cdf',\n",
       " '/Users/elischwat/Development/data/sublimationofsnow/gucsondewnpnM1.b1/gucsondewnpnM1.b1.20230608.113000.cdf',\n",
       " '/Users/elischwat/Development/data/sublimationofsnow/gucsondewnpnM1.b1/gucsondewnpnM1.b1.20230422.113600.cdf',\n",
       " '/Users/elischwat/Development/data/sublimationofsnow/gucsondewnpnM1.b1/gucsondewnpnM1.b1.20230606.113000.cdf',\n",
       " '/Users/elischwat/Development/data/sublimationofsnow/gucsondewnpnM1.b1/gucsondewnpnM1.b1.20230330.235300.cdf',\n",
       " '/Users/elischwat/Development/data/sublimationofsnow/gucsondewnpnM1.b1/gucsondewnpnM1.b1.20230305.112900.cdf',\n",
       " '/Users/elischwat/Development/data/sublimationofsnow/gucsondewnpnM1.b1/gucsondewnpnM1.b1.20230430.113100.cdf',\n",
       " '/Users/elischwat/Development/data/sublimationofsnow/gucsondewnpnM1.b1/gucsondewnpnM1.b1.20230520.232900.cdf',\n",
       " '/Users/elischwat/Development/data/sublimationofsnow/gucsondewnpnM1.b1/gucsondewnpnM1.b1.20230404.120100.cdf',\n",
       " '/Users/elischwat/Development/data/sublimationofsnow/gucsondewnpnM1.b1/gucsondewnpnM1.b1.20230304.120200.cdf',\n",
       " '/Users/elischwat/Development/data/sublimationofsnow/gucsondewnpnM1.b1/gucsondewnpnM1.b1.20230406.232800.cdf',\n",
       " '/Users/elischwat/Development/data/sublimationofsnow/gucsondewnpnM1.b1/gucsondewnpnM1.b1.20230207.232700.cdf',\n",
       " '/Users/elischwat/Development/data/sublimationofsnow/gucsondewnpnM1.b1/gucsondewnpnM1.b1.20230402.113200.cdf',\n",
       " '/Users/elischwat/Development/data/sublimationofsnow/gucsondewnpnM1.b1/gucsondewnpnM1.b1.20230203.232900.cdf',\n",
       " '/Users/elischwat/Development/data/sublimationofsnow/gucsondewnpnM1.b1/gucsondewnpnM1.b1.20230314.113600.cdf',\n",
       " '/Users/elischwat/Development/data/sublimationofsnow/gucsondewnpnM1.b1/gucsondewnpnM1.b1.20230519.112900.cdf',\n",
       " '/Users/elischwat/Development/data/sublimationofsnow/gucsondewnpnM1.b1/gucsondewnpnM1.b1.20230414.233000.cdf',\n",
       " '/Users/elischwat/Development/data/sublimationofsnow/gucsondewnpnM1.b1/gucsondewnpnM1.b1.20230505.233000.cdf',\n",
       " '/Users/elischwat/Development/data/sublimationofsnow/gucsondewnpnM1.b1/gucsondewnpnM1.b1.20230313.233000.cdf',\n",
       " '/Users/elischwat/Development/data/sublimationofsnow/gucsondewnpnM1.b1/gucsondewnpnM1.b1.20230327.112800.cdf',\n",
       " '/Users/elischwat/Development/data/sublimationofsnow/gucsondewnpnM1.b1/gucsondewnpnM1.b1.20230224.233100.cdf',\n",
       " '/Users/elischwat/Development/data/sublimationofsnow/gucsondewnpnM1.b1/gucsondewnpnM1.b1.20230331.113500.cdf',\n",
       " '/Users/elischwat/Development/data/sublimationofsnow/gucsondewnpnM1.b1/gucsondewnpnM1.b1.20230215.233000.cdf',\n",
       " '/Users/elischwat/Development/data/sublimationofsnow/gucsondewnpnM1.b1/gucsondewnpnM1.b1.20230615.233000.cdf',\n",
       " '/Users/elischwat/Development/data/sublimationofsnow/gucsondewnpnM1.b1/gucsondewnpnM1.b1.20230402.233300.cdf',\n",
       " '/Users/elischwat/Development/data/sublimationofsnow/gucsondewnpnM1.b1/gucsondewnpnM1.b1.20230425.113200.cdf',\n",
       " '/Users/elischwat/Development/data/sublimationofsnow/gucsondewnpnM1.b1/gucsondewnpnM1.b1.20230326.112800.cdf',\n",
       " '/Users/elischwat/Development/data/sublimationofsnow/gucsondewnpnM1.b1/gucsondewnpnM1.b1.20230323.232900.cdf',\n",
       " '/Users/elischwat/Development/data/sublimationofsnow/gucsondewnpnM1.b1/gucsondewnpnM1.b1.20230419.233100.cdf',\n",
       " '/Users/elischwat/Development/data/sublimationofsnow/gucsondewnpnM1.b1/gucsondewnpnM1.b1.20230228.233000.cdf',\n",
       " '/Users/elischwat/Development/data/sublimationofsnow/gucsondewnpnM1.b1/gucsondewnpnM1.b1.20230504.001900.cdf',\n",
       " '/Users/elischwat/Development/data/sublimationofsnow/gucsondewnpnM1.b1/gucsondewnpnM1.b1.20230516.232900.cdf',\n",
       " '/Users/elischwat/Development/data/sublimationofsnow/gucsondewnpnM1.b1/gucsondewnpnM1.b1.20230323.113300.cdf',\n",
       " '/Users/elischwat/Development/data/sublimationofsnow/gucsondewnpnM1.b1/gucsondewnpnM1.b1.20230605.113000.cdf',\n",
       " '/Users/elischwat/Development/data/sublimationofsnow/gucsondewnpnM1.b1/gucsondewnpnM1.b1.20230322.113400.cdf',\n",
       " '/Users/elischwat/Development/data/sublimationofsnow/gucsondewnpnM1.b1/gucsondewnpnM1.b1.20230421.113100.cdf',\n",
       " '/Users/elischwat/Development/data/sublimationofsnow/gucsondewnpnM1.b1/gucsondewnpnM1.b1.20230602.113000.cdf',\n",
       " '/Users/elischwat/Development/data/sublimationofsnow/gucsondewnpnM1.b1/gucsondewnpnM1.b1.20230416.112700.cdf',\n",
       " '/Users/elischwat/Development/data/sublimationofsnow/gucsondewnpnM1.b1/gucsondewnpnM1.b1.20230220.113600.cdf',\n",
       " '/Users/elischwat/Development/data/sublimationofsnow/gucsondewnpnM1.b1/gucsondewnpnM1.b1.20230404.113300.cdf',\n",
       " '/Users/elischwat/Development/data/sublimationofsnow/gucsondewnpnM1.b1/gucsondewnpnM1.b1.20230412.113500.cdf',\n",
       " '/Users/elischwat/Development/data/sublimationofsnow/gucsondewnpnM1.b1/gucsondewnpnM1.b1.20230522.113000.cdf',\n",
       " '/Users/elischwat/Development/data/sublimationofsnow/gucsondewnpnM1.b1/gucsondewnpnM1.b1.20230609.113000.cdf',\n",
       " '/Users/elischwat/Development/data/sublimationofsnow/gucsondewnpnM1.b1/gucsondewnpnM1.b1.20230610.112600.cdf',\n",
       " '/Users/elischwat/Development/data/sublimationofsnow/gucsondewnpnM1.b1/gucsondewnpnM1.b1.20230227.113000.cdf',\n",
       " '/Users/elischwat/Development/data/sublimationofsnow/gucsondewnpnM1.b1/gucsondewnpnM1.b1.20230426.232800.cdf',\n",
       " '/Users/elischwat/Development/data/sublimationofsnow/gucsondewnpnM1.b1/gucsondewnpnM1.b1.20230417.233000.cdf',\n",
       " '/Users/elischwat/Development/data/sublimationofsnow/gucsondewnpnM1.b1/gucsondewnpnM1.b1.20230601.233000.cdf',\n",
       " '/Users/elischwat/Development/data/sublimationofsnow/gucsondewnpnM1.b1/gucsondewnpnM1.b1.20230503.233000.cdf',\n",
       " '/Users/elischwat/Development/data/sublimationofsnow/gucsondewnpnM1.b1/gucsondewnpnM1.b1.20230324.113300.cdf',\n",
       " '/Users/elischwat/Development/data/sublimationofsnow/gucsondewnpnM1.b1/gucsondewnpnM1.b1.20230304.232900.cdf',\n",
       " '/Users/elischwat/Development/data/sublimationofsnow/gucsondewnpnM1.b1/gucsondewnpnM1.b1.20230213.233000.cdf',\n",
       " '/Users/elischwat/Development/data/sublimationofsnow/gucsondewnpnM1.b1/gucsondewnpnM1.b1.20230308.113100.cdf',\n",
       " '/Users/elischwat/Development/data/sublimationofsnow/gucsondewnpnM1.b1/gucsondewnpnM1.b1.20230511.233000.cdf',\n",
       " '/Users/elischwat/Development/data/sublimationofsnow/gucsondewnpnM1.b1/gucsondewnpnM1.b1.20230511.113100.cdf',\n",
       " '/Users/elischwat/Development/data/sublimationofsnow/gucsondewnpnM1.b1/gucsondewnpnM1.b1.20230405.113400.cdf',\n",
       " '/Users/elischwat/Development/data/sublimationofsnow/gucsondewnpnM1.b1/gucsondewnpnM1.b1.20230222.232900.cdf',\n",
       " '/Users/elischwat/Development/data/sublimationofsnow/gucsondewnpnM1.b1/gucsondewnpnM1.b1.20230331.233300.cdf',\n",
       " '/Users/elischwat/Development/data/sublimationofsnow/gucsondewnpnM1.b1/gucsondewnpnM1.b1.20230430.233000.cdf',\n",
       " '/Users/elischwat/Development/data/sublimationofsnow/gucsondewnpnM1.b1/gucsondewnpnM1.b1.20230612.113000.cdf',\n",
       " '/Users/elischwat/Development/data/sublimationofsnow/gucsondewnpnM1.b1/gucsondewnpnM1.b1.20230502.232900.cdf',\n",
       " '/Users/elischwat/Development/data/sublimationofsnow/gucsondewnpnM1.b1/gucsondewnpnM1.b1.20230417.113000.cdf',\n",
       " '/Users/elischwat/Development/data/sublimationofsnow/gucsondewnpnM1.b1/gucsondewnpnM1.b1.20230611.112800.cdf',\n",
       " '/Users/elischwat/Development/data/sublimationofsnow/gucsondewnpnM1.b1/gucsondewnpnM1.b1.20230418.232900.cdf',\n",
       " '/Users/elischwat/Development/data/sublimationofsnow/gucsondewnpnM1.b1/gucsondewnpnM1.b1.20230502.113200.cdf',\n",
       " '/Users/elischwat/Development/data/sublimationofsnow/gucsondewnpnM1.b1/gucsondewnpnM1.b1.20230317.233000.cdf',\n",
       " '/Users/elischwat/Development/data/sublimationofsnow/gucsondewnpnM1.b1/gucsondewnpnM1.b1.20230204.113000.cdf',\n",
       " '/Users/elischwat/Development/data/sublimationofsnow/gucsondewnpnM1.b1/gucsondewnpnM1.b1.20230612.232900.cdf',\n",
       " '/Users/elischwat/Development/data/sublimationofsnow/gucsondewnpnM1.b1/gucsondewnpnM1.b1.20230329.233000.cdf',\n",
       " '/Users/elischwat/Development/data/sublimationofsnow/gucsondewnpnM1.b1/gucsondewnpnM1.b1.20230216.233200.cdf',\n",
       " '/Users/elischwat/Development/data/sublimationofsnow/gucsondewnpnM1.b1/gucsondewnpnM1.b1.20230207.113000.cdf',\n",
       " '/Users/elischwat/Development/data/sublimationofsnow/gucsondewnpnM1.b1/gucsondewnpnM1.b1.20230405.233100.cdf',\n",
       " '/Users/elischwat/Development/data/sublimationofsnow/gucsondewnpnM1.b1/gucsondewnpnM1.b1.20230526.233000.cdf',\n",
       " '/Users/elischwat/Development/data/sublimationofsnow/gucsondewnpnM1.b1/gucsondewnpnM1.b1.20230202.233400.cdf',\n",
       " '/Users/elischwat/Development/data/sublimationofsnow/gucsondewnpnM1.b1/gucsondewnpnM1.b1.20230522.233000.cdf']"
      ]
     },
     "execution_count": 4,
     "metadata": {},
     "output_type": "execute_result"
    }
   ],
   "source": [
    "act.discovery.download_arm_data(\n",
    "            username, token, SONDE_DATA_STREAM, start_date, end_date, output = SONDE_OUTPUT_DIR)"
   ]
  },
  {
   "attachments": {},
   "cell_type": "markdown",
   "metadata": {},
   "source": [
    "# Open DL data"
   ]
  },
  {
   "cell_type": "code",
   "execution_count": 5,
   "metadata": {},
   "outputs": [
    {
     "name": "stdout",
     "output_type": "stream",
     "text": [
      "5\n"
     ]
    }
   ],
   "source": [
    "dl_prof_files = glob.glob(os.path.join(DL_OUTPUT_DIR,'*'+DL_DATA_STREAM_FILEEXT))\n",
    "print(len(dl_prof_files))\n",
    "dl_prof = act.io.read_arm_netcdf(dl_prof_files)"
   ]
  },
  {
   "cell_type": "code",
   "execution_count": 6,
   "metadata": {},
   "outputs": [],
   "source": [
    "src_prof = dl_prof.to_dataframe().query('bound==0')"
   ]
  },
  {
   "attachments": {},
   "cell_type": "markdown",
   "metadata": {},
   "source": [
    "# Open Sonde data"
   ]
  },
  {
   "cell_type": "code",
   "execution_count": 7,
   "metadata": {},
   "outputs": [
    {
     "name": "stdout",
     "output_type": "stream",
     "text": [
      "10\n"
     ]
    }
   ],
   "source": [
    "sonde_files = glob.glob(os.path.join(SONDE_OUTPUT_DIR,'*'+SONDE_DATA_STREAM_FILEEXT))\n",
    "print(len(sonde_files))\n",
    "sonde = act.io.arm.read_arm_netcdf(sonde_files)"
   ]
  },
  {
   "cell_type": "code",
   "execution_count": 8,
   "metadata": {},
   "outputs": [],
   "source": [
    "src_sonde = sonde.to_dataframe()"
   ]
  },
  {
   "attachments": {},
   "cell_type": "markdown",
   "metadata": {},
   "source": [
    "# Check we have all the data we want"
   ]
  },
  {
   "cell_type": "code",
   "execution_count": 9,
   "metadata": {},
   "outputs": [
    {
     "data": {
      "text/plain": [
       "(Timestamp('2023-02-01 00:00:00'), Timestamp('2023-02-01 00:00:00'))"
      ]
     },
     "execution_count": 9,
     "metadata": {},
     "output_type": "execute_result"
    }
   ],
   "source": [
    "src_prof.base_time.min(), src_sonde.base_time.min()"
   ]
  },
  {
   "cell_type": "code",
   "execution_count": 10,
   "metadata": {},
   "outputs": [
    {
     "data": {
      "text/plain": [
       "(Timestamp('2023-02-05 00:00:00'), Timestamp('2023-02-05 00:00:00'))"
      ]
     },
     "execution_count": 10,
     "metadata": {},
     "output_type": "execute_result"
    }
   ],
   "source": [
    "src_prof.base_time.max(), src_sonde.base_time.max()"
   ]
  },
  {
   "attachments": {},
   "cell_type": "markdown",
   "metadata": {},
   "source": [
    "# Separate above/below ridgeline wind directions from Doppler LiDAR and average across heights"
   ]
  },
  {
   "cell_type": "code",
   "execution_count": 11,
   "metadata": {},
   "outputs": [],
   "source": [
    "below_ridge_winds = src_prof[src_prof.index.get_level_values(1) < 420]\n",
    "above_ridge_winds = src_prof[src_prof.index.get_level_values(1) > 980]"
   ]
  },
  {
   "cell_type": "code",
   "execution_count": 12,
   "metadata": {},
   "outputs": [
    {
     "name": "stderr",
     "output_type": "stream",
     "text": [
      "/Users/elischwat/miniforge3/envs/sublimationofsnow/lib/python3.12/site-packages/pandas/core/groupby/ops.py:918: RuntimeWarning: All-NaN slice encountered\n",
      "  res = f(group)\n"
     ]
    }
   ],
   "source": [
    "below_ridge_winds = below_ridge_winds['wind_direction'].groupby(\"time\").apply(np.nanmedian)\n",
    "above_ridge_winds = above_ridge_winds['wind_direction'].groupby(\"time\").apply(np.nanmedian)"
   ]
  },
  {
   "attachments": {},
   "cell_type": "markdown",
   "metadata": {},
   "source": [
    "# Save some synoptic wind information"
   ]
  },
  {
   "cell_type": "code",
   "execution_count": 13,
   "metadata": {},
   "outputs": [],
   "source": [
    "synoptic_winds_500 = src_sonde[np.abs(src_sonde['pres'] - 500) < 25]\n",
    "synoptic_winds_500 = synoptic_winds_500[['deg', 'wspd']].groupby(\"time\").median()\n",
    "synoptic_winds_500_local = utils.modify_df_timezone(synoptic_winds_500.reset_index(), 'UTC', 'US/Mountain')\n",
    "synoptic_winds_500_local.to_parquet(\"synoptic_winds_500_local.parquet\")\n",
    "\n",
    "synoptic_winds_700 = src_sonde[np.abs(src_sonde['pres'] - 700) < 25]\n",
    "synoptic_winds_700 = synoptic_winds_700[['deg', 'wspd']].groupby(\"time\").median()\n",
    "synoptic_winds_700_local = utils.modify_df_timezone(synoptic_winds_700.reset_index(), 'UTC', 'US/Mountain')\n",
    "synoptic_winds_700_local.to_parquet(\"synoptic_winds_700_local.parquet\")"
   ]
  },
  {
   "cell_type": "markdown",
   "metadata": {},
   "source": [
    "# Select range of pressures for Radiosonde winds and average across heights/pressures"
   ]
  },
  {
   "cell_type": "code",
   "execution_count": 14,
   "metadata": {},
   "outputs": [],
   "source": [
    "synoptic_winds = src_sonde[np.abs(src_sonde['pres'] - 500) < 25]\n",
    "synoptic_winds = synoptic_winds[['deg', 'wspd']].groupby(\"time\").median()\n",
    "synoptic_winds_local = utils.modify_df_timezone(synoptic_winds.reset_index(), 'UTC', 'US/Mountain')"
   ]
  },
  {
   "cell_type": "code",
   "execution_count": 15,
   "metadata": {},
   "outputs": [
    {
     "name": "stderr",
     "output_type": "stream",
     "text": [
      "Locator attempting to generate 3654 ticks ([10957.0, ..., 14610.0]), which exceeds Locator.MAXTICKS (1000).\n",
      "Locator attempting to generate 3654 ticks ([10957.0, ..., 14610.0]), which exceeds Locator.MAXTICKS (1000).\n",
      "Locator attempting to generate 3654 ticks ([10957.0, ..., 14610.0]), which exceeds Locator.MAXTICKS (1000).\n",
      "Locator attempting to generate 3654 ticks ([10957.0, ..., 14610.0]), which exceeds Locator.MAXTICKS (1000).\n",
      "Locator attempting to generate 3654 ticks ([10957.0, ..., 14610.0]), which exceeds Locator.MAXTICKS (1000).\n",
      "Locator attempting to generate 3654 ticks ([10957.0, ..., 14610.0]), which exceeds Locator.MAXTICKS (1000).\n",
      "Locator attempting to generate 3654 ticks ([10957.0, ..., 14610.0]), which exceeds Locator.MAXTICKS (1000).\n",
      "Locator attempting to generate 3654 ticks ([10957.0, ..., 14610.0]), which exceeds Locator.MAXTICKS (1000).\n",
      "Locator attempting to generate 3654 ticks ([10957.0, ..., 14610.0]), which exceeds Locator.MAXTICKS (1000).\n",
      "Locator attempting to generate 3654 ticks ([10957.0, ..., 14610.0]), which exceeds Locator.MAXTICKS (1000).\n",
      "Locator attempting to generate 3654 ticks ([10957.0, ..., 14610.0]), which exceeds Locator.MAXTICKS (1000).\n",
      "Locator attempting to generate 3654 ticks ([10957.0, ..., 14610.0]), which exceeds Locator.MAXTICKS (1000).\n",
      "Locator attempting to generate 3654 ticks ([10957.0, ..., 14610.0]), which exceeds Locator.MAXTICKS (1000).\n",
      "Locator attempting to generate 3654 ticks ([10957.0, ..., 14610.0]), which exceeds Locator.MAXTICKS (1000).\n",
      "Locator attempting to generate 3654 ticks ([10957.0, ..., 14610.0]), which exceeds Locator.MAXTICKS (1000).\n",
      "Locator attempting to generate 3654 ticks ([10957.0, ..., 14610.0]), which exceeds Locator.MAXTICKS (1000).\n",
      "Locator attempting to generate 3654 ticks ([10957.0, ..., 14610.0]), which exceeds Locator.MAXTICKS (1000).\n",
      "Locator attempting to generate 3654 ticks ([10957.0, ..., 14610.0]), which exceeds Locator.MAXTICKS (1000).\n",
      "Locator attempting to generate 3654 ticks ([10957.0, ..., 14610.0]), which exceeds Locator.MAXTICKS (1000).\n",
      "Locator attempting to generate 3654 ticks ([10957.0, ..., 14610.0]), which exceeds Locator.MAXTICKS (1000).\n",
      "Locator attempting to generate 3654 ticks ([10957.0, ..., 14610.0]), which exceeds Locator.MAXTICKS (1000).\n",
      "Locator attempting to generate 3654 ticks ([10957.0, ..., 14610.0]), which exceeds Locator.MAXTICKS (1000).\n",
      "Locator attempting to generate 3654 ticks ([10957.0, ..., 14610.0]), which exceeds Locator.MAXTICKS (1000).\n",
      "Locator attempting to generate 3654 ticks ([10957.0, ..., 14610.0]), which exceeds Locator.MAXTICKS (1000).\n",
      "Locator attempting to generate 3654 ticks ([10957.0, ..., 14610.0]), which exceeds Locator.MAXTICKS (1000).\n",
      "Locator attempting to generate 3654 ticks ([10957.0, ..., 14610.0]), which exceeds Locator.MAXTICKS (1000).\n",
      "Locator attempting to generate 3654 ticks ([10957.0, ..., 14610.0]), which exceeds Locator.MAXTICKS (1000).\n",
      "Locator attempting to generate 3654 ticks ([10957.0, ..., 14610.0]), which exceeds Locator.MAXTICKS (1000).\n",
      "Locator attempting to generate 3654 ticks ([10957.0, ..., 14610.0]), which exceeds Locator.MAXTICKS (1000).\n",
      "Locator attempting to generate 3654 ticks ([10957.0, ..., 14610.0]), which exceeds Locator.MAXTICKS (1000).\n",
      "Locator attempting to generate 3654 ticks ([10957.0, ..., 14610.0]), which exceeds Locator.MAXTICKS (1000).\n",
      "Locator attempting to generate 3654 ticks ([10957.0, ..., 14610.0]), which exceeds Locator.MAXTICKS (1000).\n",
      "Locator attempting to generate 3654 ticks ([10957.0, ..., 14610.0]), which exceeds Locator.MAXTICKS (1000).\n",
      "Locator attempting to generate 3654 ticks ([10957.0, ..., 14610.0]), which exceeds Locator.MAXTICKS (1000).\n",
      "Locator attempting to generate 3654 ticks ([10957.0, ..., 14610.0]), which exceeds Locator.MAXTICKS (1000).\n",
      "Locator attempting to generate 3654 ticks ([10957.0, ..., 14610.0]), which exceeds Locator.MAXTICKS (1000).\n",
      "Locator attempting to generate 3654 ticks ([10957.0, ..., 14610.0]), which exceeds Locator.MAXTICKS (1000).\n",
      "Locator attempting to generate 3654 ticks ([10957.0, ..., 14610.0]), which exceeds Locator.MAXTICKS (1000).\n",
      "Locator attempting to generate 3654 ticks ([10957.0, ..., 14610.0]), which exceeds Locator.MAXTICKS (1000).\n",
      "Locator attempting to generate 3654 ticks ([10957.0, ..., 14610.0]), which exceeds Locator.MAXTICKS (1000).\n",
      "Locator attempting to generate 3654 ticks ([10957.0, ..., 14610.0]), which exceeds Locator.MAXTICKS (1000).\n",
      "Locator attempting to generate 3654 ticks ([10957.0, ..., 14610.0]), which exceeds Locator.MAXTICKS (1000).\n",
      "Locator attempting to generate 3654 ticks ([10957.0, ..., 14610.0]), which exceeds Locator.MAXTICKS (1000).\n",
      "Locator attempting to generate 3654 ticks ([10957.0, ..., 14610.0]), which exceeds Locator.MAXTICKS (1000).\n",
      "Locator attempting to generate 3654 ticks ([10957.0, ..., 14610.0]), which exceeds Locator.MAXTICKS (1000).\n",
      "Locator attempting to generate 3654 ticks ([10957.0, ..., 14610.0]), which exceeds Locator.MAXTICKS (1000).\n",
      "Locator attempting to generate 3654 ticks ([10957.0, ..., 14610.0]), which exceeds Locator.MAXTICKS (1000).\n",
      "Locator attempting to generate 3654 ticks ([10957.0, ..., 14610.0]), which exceeds Locator.MAXTICKS (1000).\n",
      "Locator attempting to generate 3654 ticks ([10957.0, ..., 14610.0]), which exceeds Locator.MAXTICKS (1000).\n",
      "Locator attempting to generate 3654 ticks ([10957.0, ..., 14610.0]), which exceeds Locator.MAXTICKS (1000).\n",
      "Locator attempting to generate 3654 ticks ([10957.0, ..., 14610.0]), which exceeds Locator.MAXTICKS (1000).\n",
      "Locator attempting to generate 3654 ticks ([10957.0, ..., 14610.0]), which exceeds Locator.MAXTICKS (1000).\n"
     ]
    },
    {
     "data": {
      "image/png": "[encoded data removed]",
      "text/plain": [
       "<Figure size 1200x200 with 3 Axes>"
      ]
     },
     "metadata": {},
     "output_type": "display_data"
    }
   ],
   "source": [
    "import matplotlib.pyplot as plt\n",
    "import matplotlib.dates as mdates\n",
    "\n",
    "\n",
    "fig, axes = plt.subplots(1, 3, figsize=(12, 2), sharey=True)\n",
    "plt.locator_params(nbins=4)\n",
    "synoptic_winds_local.set_index('time').loc[slice(\"2023-01-31\", \"2023-02-03\")].reset_index().plot.scatter(\"time\", \"wspd\", marker = '+', ax=axes[0], )\n",
    "synoptic_winds_local.set_index('time').loc[slice(\"2023-02-19\", \"2023-02-22\")].reset_index().plot.scatter(\"time\", \"wspd\", marker = '+', ax=axes[1], )\n",
    "synoptic_winds_local.set_index('time').loc[slice(\"2023-03-16\", \"2023-03-19\")].reset_index().plot.scatter(\"time\", \"wspd\", marker = '+', ax=axes[2], )\n",
    "for ax in axes:\n",
    "    ax.axhline(15)\n",
    "    ax.xaxis.set_major_locator(mdates.DayLocator(interval=1))\n",
    "    ax.xaxis.set_major_formatter(mdates.DateFormatter('%m/%d'))\n",
    "axes[0].set_ylabel(\"Wind speed (m/s)\")\n",
    "plt.suptitle(\"500 hPa wind speeds measured with twice daily radiosondes\")\n",
    "plt.tight_layout()\n"
   ]
  },
  {
   "cell_type": "code",
   "execution_count": 16,
   "metadata": {},
   "outputs": [
    {
     "data": {
      "text/html": [
       "\n",
       "<style>\n",
       "  #altair-viz-15784dabaedf4ef29b0b04cccde8fea1.vega-embed {\n",
       "    width: 100%;\n",
       "    display: flex;\n",
       "  }\n",
       "\n",
       "  #altair-viz-15784dabaedf4ef29b0b04cccde8fea1.vega-embed details,\n",
       "  #altair-viz-15784dabaedf4ef29b0b04cccde8fea1.vega-embed details summary {\n",
       "    position: relative;\n",
       "  }\n",
       "</style>\n",
       "<div id=\"altair-viz-15784dabaedf4ef29b0b04cccde8fea1\"></div>\n",
       "<script type=\"text/javascript\">\n",
       "  var VEGA_DEBUG = (typeof VEGA_DEBUG == \"undefined\") ? {} : VEGA_DEBUG;\n",
       "  (function(spec, embedOpt){\n",
       "    let outputDiv = document.currentScript.previousElementSibling;\n",
       "    if (outputDiv.id !== \"altair-viz-15784dabaedf4ef29b0b04cccde8fea1\") {\n",
       "      outputDiv = document.getElementById(\"altair-viz-15784dabaedf4ef29b0b04cccde8fea1\");\n",
       "    }\n",
       "    const paths = {\n",
       "      \"vega\": \"https://cdn.jsdelivr.net/npm/vega@5?noext\",\n",
       "      \"vega-lib\": \"https://cdn.jsdelivr.net/npm/vega-lib?noext\",\n",
       "      \"vega-lite\": \"https://cdn.jsdelivr.net/npm/vega-lite@5.17.0?noext\",\n",
       "      \"vega-embed\": \"https://cdn.jsdelivr.net/npm/vega-embed@6?noext\",\n",
       "    };\n",
       "\n",
       "    function maybeLoadScript(lib, version) {\n",
       "      var key = `${lib.replace(\"-\", \"\")}_version`;\n",
       "      return (VEGA_DEBUG[key] == version) ?\n",
       "        Promise.resolve(paths[lib]) :\n",
       "        new Promise(function(resolve, reject) {\n",
       "          var s = document.createElement('script');\n",
       "          document.getElementsByTagName(\"head\")[0].appendChild(s);\n",
       "          s.async = true;\n",
       "          s.onload = () => {\n",
       "            VEGA_DEBUG[key] = version;\n",
       "            return resolve(paths[lib]);\n",
       "          };\n",
       "          s.onerror = () => reject(`Error loading script: ${paths[lib]}`);\n",
       "          s.src = paths[lib];\n",
       "        });\n",
       "    }\n",
       "\n",
       "    function showError(err) {\n",
       "      outputDiv.innerHTML = `<div class=\"error\" style=\"color:red;\">${err}</div>`;\n",
       "      throw err;\n",
       "    }\n",
       "\n",
       "    function displayChart(vegaEmbed) {\n",
       "      vegaEmbed(outputDiv, spec, embedOpt)\n",
       "        .catch(err => showError(`Javascript Error: ${err.message}<br>This usually means there's a typo in your chart specification. See the javascript console for the full traceback.`));\n",
       "    }\n",
       "\n",
       "    if(typeof define === \"function\" && define.amd) {\n",
       "      requirejs.config({paths});\n",
       "      require([\"vega-embed\"], displayChart, err => showError(`Error loading script: ${err.message}`));\n",
       "    } else {\n",
       "      maybeLoadScript(\"vega\", \"5\")\n",
       "        .then(() => maybeLoadScript(\"vega-lite\", \"5.17.0\"))\n",
       "        .then(() => maybeLoadScript(\"vega-embed\", \"6\"))\n",
       "        .catch(showError)\n",
       "        .then(() => displayChart(vegaEmbed));\n",
       "    }\n",
       "  })({\"config\": {\"view\": {\"continuousWidth\": 300, \"continuousHeight\": 300}}, \"hconcat\": [{\"data\": {\"name\": \"data-4f53cda18c2baa0c0354bb5f9a3ecbe5\"}, \"mark\": {\"type\": \"bar\"}, \"encoding\": {\"x\": {\"axis\": {\"format\": \"%b %d\"}, \"field\": \"time\", \"title\": \"\", \"type\": \"temporal\"}, \"y\": {\"field\": \"wspd\", \"title\": \"Speed (m/s)\", \"type\": \"quantitative\"}}, \"height\": 100, \"title\": \"Synoptic Winds (500hPa, m/s)\", \"width\": 100}, {\"data\": {\"name\": \"data-4f53cda18c2baa0c0354bb5f9a3ecbe5\"}, \"mark\": {\"type\": \"bar\"}, \"encoding\": {\"x\": {\"axis\": {\"format\": \"%b %d\"}, \"field\": \"time\", \"title\": \"\", \"type\": \"temporal\"}, \"y\": {\"field\": \"wspd\", \"title\": \"Speed (m/s)\", \"type\": \"quantitative\"}}, \"height\": 100, \"title\": \"Synoptic Winds (500hPa, m/s)\", \"width\": 100}, {\"data\": {\"name\": \"data-6bd87d4bb34dcd908f01d5aa4119bf71\"}, \"mark\": {\"type\": \"bar\"}, \"encoding\": {\"x\": {\"axis\": {\"format\": \"%b %d\"}, \"field\": \"time\", \"title\": \"\", \"type\": \"temporal\"}, \"y\": {\"field\": \"wspd\", \"title\": \"Speed (m/s)\", \"type\": \"quantitative\"}}, \"height\": 100, \"title\": \"Synoptic Winds (500hPa, m/s)\", \"width\": 100}], \"resolve\": {\"scale\": {\"y\": \"shared\"}}, \"$schema\": \"https://vega.github.io/schema/vega-lite/v5.17.0.json\", \"datasets\": {\"data-4f53cda18c2baa0c0354bb5f9a3ecbe5\": [], \"data-6bd87d4bb34dcd908f01d5aa4119bf71\": [{\"time\": \"2023-02-01T04:40:26\", \"deg\": 300.0, \"wspd\": 11.199999809265137}, {\"time\": \"2023-02-01T04:40:27\", \"deg\": 300.0, \"wspd\": 11.199999809265137}, {\"time\": \"2023-02-01T04:40:28\", \"deg\": 300.0, \"wspd\": 11.199999809265137}, {\"time\": \"2023-02-01T04:40:29\", \"deg\": 299.0, \"wspd\": 11.100000381469727}, {\"time\": \"2023-02-01T04:40:30\", \"deg\": 299.0, \"wspd\": 11.100000381469727}, {\"time\": \"2023-02-01T04:40:31\", \"deg\": 299.0, \"wspd\": 11.100000381469727}, {\"time\": \"2023-02-01T04:40:32\", \"deg\": 299.0, \"wspd\": 11.100000381469727}, {\"time\": \"2023-02-01T04:40:33\", \"deg\": 298.0, \"wspd\": 11.100000381469727}, {\"time\": \"2023-02-01T04:40:34\", \"deg\": 298.0, \"wspd\": 11.100000381469727}, {\"time\": \"2023-02-01T04:40:35\", \"deg\": 298.0, \"wspd\": 11.100000381469727}, {\"time\": \"2023-02-01T04:40:36\", \"deg\": 298.0, \"wspd\": 11.100000381469727}, {\"time\": \"2023-02-01T04:40:37\", \"deg\": 298.0, \"wspd\": 11.100000381469727}, {\"time\": \"2023-02-01T04:40:38\", \"deg\": 298.0, \"wspd\": 11.100000381469727}, {\"time\": \"2023-02-01T04:40:39\", \"deg\": 297.0, \"wspd\": 11.100000381469727}, {\"time\": \"2023-02-01T04:40:40\", \"deg\": 297.0, \"wspd\": 11.100000381469727}, {\"time\": \"2023-02-01T04:40:41\", \"deg\": 297.0, \"wspd\": 11.100000381469727}, {\"time\": \"2023-02-01T04:40:42\", \"deg\": 297.0, \"wspd\": 11.199999809265137}, {\"time\": \"2023-02-01T04:40:43\", \"deg\": 297.0, \"wspd\": 11.199999809265137}, {\"time\": \"2023-02-01T04:40:44\", \"deg\": 297.0, \"wspd\": 11.199999809265137}, {\"time\": \"2023-02-01T04:40:45\", \"deg\": 297.0, \"wspd\": 11.199999809265137}, {\"time\": \"2023-02-01T04:40:46\", \"deg\": 297.0, \"wspd\": 11.199999809265137}, {\"time\": \"2023-02-01T04:40:47\", \"deg\": 297.0, \"wspd\": 11.300000190734863}, {\"time\": \"2023-02-01T04:40:48\", \"deg\": 297.0, \"wspd\": 11.300000190734863}, {\"time\": \"2023-02-01T04:40:49\", \"deg\": 297.0, \"wspd\": 11.300000190734863}, {\"time\": \"2023-02-01T04:40:50\", \"deg\": 298.0, \"wspd\": 11.300000190734863}, {\"time\": \"2023-02-01T04:40:51\", \"deg\": 298.0, \"wspd\": 11.300000190734863}, {\"time\": \"2023-02-01T04:40:52\", \"deg\": 298.0, \"wspd\": 11.399999618530273}, {\"time\": \"2023-02-01T04:40:53\", \"deg\": 298.0, \"wspd\": 11.399999618530273}, {\"time\": \"2023-02-01T04:40:54\", \"deg\": 298.0, \"wspd\": 11.399999618530273}, {\"time\": \"2023-02-01T04:40:55\", \"deg\": 299.0, \"wspd\": 11.399999618530273}, {\"time\": \"2023-02-01T04:40:56\", \"deg\": 299.0, \"wspd\": 11.399999618530273}, {\"time\": \"2023-02-01T04:40:57\", \"deg\": 299.0, \"wspd\": 11.399999618530273}, {\"time\": \"2023-02-01T04:40:58\", \"deg\": 300.0, \"wspd\": 11.399999618530273}, {\"time\": \"2023-02-01T04:40:59\", \"deg\": 300.0, \"wspd\": 11.399999618530273}, {\"time\": \"2023-02-01T04:41:00\", \"deg\": 300.0, \"wspd\": 11.399999618530273}, {\"time\": \"2023-02-01T04:41:01\", \"deg\": 301.0, \"wspd\": 11.300000190734863}, {\"time\": \"2023-02-01T04:41:02\", \"deg\": 301.0, \"wspd\": 11.300000190734863}, {\"time\": \"2023-02-01T04:41:03\", \"deg\": 302.0, \"wspd\": 11.300000190734863}, {\"time\": \"2023-02-01T04:41:04\", \"deg\": 302.0, \"wspd\": 11.300000190734863}, {\"time\": \"2023-02-01T04:41:05\", \"deg\": 303.0, \"wspd\": 11.199999809265137}, {\"time\": \"2023-02-01T04:41:06\", \"deg\": 303.0, \"wspd\": 11.199999809265137}, {\"time\": \"2023-02-01T04:41:07\", \"deg\": 303.0, \"wspd\": 11.100000381469727}, {\"time\": \"2023-02-01T04:41:08\", \"deg\": 304.0, \"wspd\": 11.0}, {\"time\": \"2023-02-01T04:41:09\", \"deg\": 304.0, \"wspd\": 11.0}, {\"time\": \"2023-02-01T04:41:10\", \"deg\": 305.0, \"wspd\": 10.899999618530273}, {\"time\": \"2023-02-01T04:41:11\", \"deg\": 305.0, \"wspd\": 10.800000190734863}, {\"time\": \"2023-02-01T04:41:12\", \"deg\": 306.0, \"wspd\": 10.699999809265137}, {\"time\": \"2023-02-01T04:41:13\", \"deg\": 306.0, \"wspd\": 10.699999809265137}, {\"time\": \"2023-02-01T04:41:14\", \"deg\": 307.0, \"wspd\": 10.600000381469727}, {\"time\": \"2023-02-01T04:41:15\", \"deg\": 307.0, \"wspd\": 10.5}, {\"time\": \"2023-02-01T04:41:16\", \"deg\": 307.0, \"wspd\": 10.399999618530273}, {\"time\": \"2023-02-01T04:41:17\", \"deg\": 308.0, \"wspd\": 10.300000190734863}, {\"time\": \"2023-02-01T04:41:18\", \"deg\": 308.0, \"wspd\": 10.199999809265137}, {\"time\": \"2023-02-01T04:41:19\", \"deg\": 309.0, \"wspd\": 10.100000381469727}, {\"time\": \"2023-02-01T04:41:20\", \"deg\": 309.0, \"wspd\": 10.0}, {\"time\": \"2023-02-01T04:41:21\", \"deg\": 309.0, \"wspd\": 10.0}, {\"time\": \"2023-02-01T04:41:22\", \"deg\": 309.0, \"wspd\": 9.899999618530273}, {\"time\": \"2023-02-01T04:41:23\", \"deg\": 310.0, \"wspd\": 9.800000190734863}, {\"time\": \"2023-02-01T04:41:24\", \"deg\": 310.0, \"wspd\": 9.800000190734863}, {\"time\": \"2023-02-01T04:41:25\", \"deg\": 310.0, \"wspd\": 9.699999809265137}, {\"time\": \"2023-02-01T04:41:26\", \"deg\": 310.0, \"wspd\": 9.600000381469727}, {\"time\": \"2023-02-01T04:41:27\", \"deg\": 310.0, \"wspd\": 9.600000381469727}, {\"time\": \"2023-02-01T04:41:28\", \"deg\": 310.0, \"wspd\": 9.600000381469727}, {\"time\": \"2023-02-01T04:41:29\", \"deg\": 310.0, \"wspd\": 9.5}, {\"time\": \"2023-02-01T04:41:30\", \"deg\": 310.0, \"wspd\": 9.5}, {\"time\": \"2023-02-01T04:41:31\", \"deg\": 310.0, \"wspd\": 9.5}, {\"time\": \"2023-02-01T04:41:32\", \"deg\": 310.0, \"wspd\": 9.5}, {\"time\": \"2023-02-01T04:41:33\", \"deg\": 309.0, \"wspd\": 9.5}, {\"time\": \"2023-02-01T04:41:34\", \"deg\": 309.0, \"wspd\": 9.5}, {\"time\": \"2023-02-01T04:41:35\", \"deg\": 309.0, \"wspd\": 9.5}, {\"time\": \"2023-02-01T04:41:36\", \"deg\": 309.0, \"wspd\": 9.5}, {\"time\": \"2023-02-01T04:41:37\", \"deg\": 309.0, \"wspd\": 9.5}, {\"time\": \"2023-02-01T04:41:38\", \"deg\": 308.0, \"wspd\": 9.5}, {\"time\": \"2023-02-01T04:41:39\", \"deg\": 308.0, \"wspd\": 9.5}, {\"time\": \"2023-02-01T04:41:40\", \"deg\": 308.0, \"wspd\": 9.600000381469727}, {\"time\": \"2023-02-01T04:41:41\", \"deg\": 308.0, \"wspd\": 9.600000381469727}, {\"time\": \"2023-02-01T04:41:42\", \"deg\": 308.0, \"wspd\": 9.600000381469727}, {\"time\": \"2023-02-01T04:41:43\", \"deg\": 308.0, \"wspd\": 9.699999809265137}, {\"time\": \"2023-02-01T04:41:44\", \"deg\": 308.0, \"wspd\": 9.699999809265137}, {\"time\": \"2023-02-01T04:41:45\", \"deg\": 308.0, \"wspd\": 9.699999809265137}, {\"time\": \"2023-02-01T04:41:46\", \"deg\": 308.0, \"wspd\": 9.800000190734863}, {\"time\": \"2023-02-01T04:41:47\", \"deg\": 308.0, \"wspd\": 9.800000190734863}, {\"time\": \"2023-02-01T04:41:48\", \"deg\": 308.0, \"wspd\": 9.800000190734863}, {\"time\": \"2023-02-01T04:41:49\", \"deg\": 308.0, \"wspd\": 9.899999618530273}, {\"time\": \"2023-02-01T04:41:50\", \"deg\": 308.0, \"wspd\": 9.899999618530273}, {\"time\": \"2023-02-01T04:41:51\", \"deg\": 308.0, \"wspd\": 9.899999618530273}, {\"time\": \"2023-02-01T04:41:52\", \"deg\": 308.0, \"wspd\": 10.0}, {\"time\": \"2023-02-01T04:41:53\", \"deg\": 308.0, \"wspd\": 10.0}, {\"time\": \"2023-02-01T04:41:54\", \"deg\": 308.0, \"wspd\": 10.0}, {\"time\": \"2023-02-01T04:41:55\", \"deg\": 308.0, \"wspd\": 10.0}, {\"time\": \"2023-02-01T04:41:56\", \"deg\": 308.0, \"wspd\": 10.100000381469727}, {\"time\": \"2023-02-01T04:41:57\", \"deg\": 308.0, \"wspd\": 10.100000381469727}, {\"time\": \"2023-02-01T04:41:58\", \"deg\": 309.0, \"wspd\": 10.100000381469727}, {\"time\": \"2023-02-01T04:41:59\", \"deg\": 309.0, \"wspd\": 10.100000381469727}, {\"time\": \"2023-02-01T04:42:00\", \"deg\": 309.0, \"wspd\": 10.100000381469727}, {\"time\": \"2023-02-01T04:42:01\", \"deg\": 309.0, \"wspd\": 10.199999809265137}, {\"time\": \"2023-02-01T04:42:02\", \"deg\": 309.0, \"wspd\": 10.199999809265137}, {\"time\": \"2023-02-01T04:42:03\", \"deg\": 310.0, \"wspd\": 10.199999809265137}, {\"time\": \"2023-02-01T04:42:04\", \"deg\": 310.0, \"wspd\": 10.199999809265137}, {\"time\": \"2023-02-01T04:42:05\", \"deg\": 310.0, \"wspd\": 10.199999809265137}, {\"time\": \"2023-02-01T04:42:06\", \"deg\": 310.0, \"wspd\": 10.199999809265137}, {\"time\": \"2023-02-01T04:42:07\", \"deg\": 310.0, \"wspd\": 10.199999809265137}, {\"time\": \"2023-02-01T04:42:08\", \"deg\": 311.0, \"wspd\": 10.199999809265137}, {\"time\": \"2023-02-01T04:42:09\", \"deg\": 311.0, \"wspd\": 10.199999809265137}, {\"time\": \"2023-02-01T04:42:10\", \"deg\": 311.0, \"wspd\": 10.199999809265137}, {\"time\": \"2023-02-01T04:42:11\", \"deg\": 311.0, \"wspd\": 10.199999809265137}, {\"time\": \"2023-02-01T04:42:12\", \"deg\": 312.0, \"wspd\": 10.199999809265137}, {\"time\": \"2023-02-01T04:42:13\", \"deg\": 312.0, \"wspd\": 10.199999809265137}, {\"time\": \"2023-02-01T04:42:14\", \"deg\": 312.0, \"wspd\": 10.199999809265137}, {\"time\": \"2023-02-01T04:42:15\", \"deg\": 312.0, \"wspd\": 10.199999809265137}, {\"time\": \"2023-02-01T04:42:16\", \"deg\": 313.0, \"wspd\": 10.199999809265137}, {\"time\": \"2023-02-01T04:42:17\", \"deg\": 313.0, \"wspd\": 10.100000381469727}, {\"time\": \"2023-02-01T04:42:18\", \"deg\": 313.0, \"wspd\": 10.100000381469727}, {\"time\": \"2023-02-01T04:42:19\", \"deg\": 313.0, \"wspd\": 10.100000381469727}, {\"time\": \"2023-02-01T04:42:20\", \"deg\": 313.0, \"wspd\": 10.100000381469727}, {\"time\": \"2023-02-01T04:42:21\", \"deg\": 314.0, \"wspd\": 10.100000381469727}, {\"time\": \"2023-02-01T04:42:22\", \"deg\": 314.0, \"wspd\": 10.100000381469727}, {\"time\": \"2023-02-01T04:42:23\", \"deg\": 314.0, \"wspd\": 10.0}, {\"time\": \"2023-02-01T04:42:24\", \"deg\": 314.0, \"wspd\": 10.0}, {\"time\": \"2023-02-01T04:42:25\", \"deg\": 314.0, \"wspd\": 10.0}, {\"time\": \"2023-02-01T04:42:26\", \"deg\": 315.0, \"wspd\": 10.0}, {\"time\": \"2023-02-01T04:42:27\", \"deg\": 315.0, \"wspd\": 10.0}, {\"time\": \"2023-02-01T04:42:28\", \"deg\": 315.0, \"wspd\": 10.0}, {\"time\": \"2023-02-01T04:42:29\", \"deg\": 315.0, \"wspd\": 10.0}, {\"time\": \"2023-02-01T04:42:30\", \"deg\": 315.0, \"wspd\": 10.0}, {\"time\": \"2023-02-01T04:42:31\", \"deg\": 315.0, \"wspd\": 10.0}, {\"time\": \"2023-02-01T04:42:32\", \"deg\": 315.0, \"wspd\": 10.100000381469727}, {\"time\": \"2023-02-01T04:42:33\", \"deg\": 315.0, \"wspd\": 10.100000381469727}, {\"time\": \"2023-02-01T04:42:34\", \"deg\": 315.0, \"wspd\": 10.100000381469727}, {\"time\": \"2023-02-01T04:42:35\", \"deg\": 315.0, \"wspd\": 10.100000381469727}, {\"time\": \"2023-02-01T04:42:36\", \"deg\": 315.0, \"wspd\": 10.199999809265137}, {\"time\": \"2023-02-01T04:42:37\", \"deg\": 315.0, \"wspd\": 10.199999809265137}, {\"time\": \"2023-02-01T04:42:38\", \"deg\": 315.0, \"wspd\": 10.199999809265137}, {\"time\": \"2023-02-01T04:42:39\", \"deg\": 315.0, \"wspd\": 10.300000190734863}, {\"time\": \"2023-02-01T04:42:40\", \"deg\": 315.0, \"wspd\": 10.300000190734863}, {\"time\": \"2023-02-01T16:37:50\", \"deg\": 328.0, \"wspd\": 10.0}, {\"time\": \"2023-02-01T16:37:51\", \"deg\": 328.0, \"wspd\": 9.899999618530273}, {\"time\": \"2023-02-01T16:37:52\", \"deg\": 328.0, \"wspd\": 9.899999618530273}, {\"time\": \"2023-02-01T16:37:53\", \"deg\": 328.0, \"wspd\": 9.800000190734863}, {\"time\": \"2023-02-01T16:37:54\", \"deg\": 328.0, \"wspd\": 9.800000190734863}, {\"time\": \"2023-02-01T16:37:55\", \"deg\": 327.0, \"wspd\": 9.800000190734863}, {\"time\": \"2023-02-01T16:37:56\", \"deg\": 327.0, \"wspd\": 9.699999809265137}, {\"time\": \"2023-02-01T16:37:57\", \"deg\": 327.0, \"wspd\": 9.699999809265137}, {\"time\": \"2023-02-01T16:37:58\", \"deg\": 327.0, \"wspd\": 9.699999809265137}, {\"time\": \"2023-02-01T16:37:59\", \"deg\": 327.0, \"wspd\": 9.699999809265137}, {\"time\": \"2023-02-01T16:38:00\", \"deg\": 327.0, \"wspd\": 9.600000381469727}, {\"time\": \"2023-02-01T16:38:01\", \"deg\": 327.0, \"wspd\": 9.600000381469727}, {\"time\": \"2023-02-01T16:38:02\", \"deg\": 327.0, \"wspd\": 9.600000381469727}, {\"time\": \"2023-02-01T16:38:03\", \"deg\": 327.0, \"wspd\": 9.600000381469727}, {\"time\": \"2023-02-01T16:38:04\", \"deg\": 327.0, \"wspd\": 9.600000381469727}, {\"time\": \"2023-02-01T16:38:05\", \"deg\": 327.0, \"wspd\": 9.600000381469727}, {\"time\": \"2023-02-01T16:38:06\", \"deg\": 327.0, \"wspd\": 9.600000381469727}, {\"time\": \"2023-02-01T16:38:07\", \"deg\": 327.0, \"wspd\": 9.600000381469727}, {\"time\": \"2023-02-01T16:38:08\", \"deg\": 327.0, \"wspd\": 9.600000381469727}, {\"time\": \"2023-02-01T16:38:09\", \"deg\": 327.0, \"wspd\": 9.600000381469727}, {\"time\": \"2023-02-01T16:38:10\", \"deg\": 327.0, \"wspd\": 9.600000381469727}, {\"time\": \"2023-02-01T16:38:11\", \"deg\": 327.0, \"wspd\": 9.600000381469727}, {\"time\": \"2023-02-01T16:38:12\", \"deg\": 327.0, \"wspd\": 9.600000381469727}, {\"time\": \"2023-02-01T16:38:13\", \"deg\": 327.0, \"wspd\": 9.5}, {\"time\": \"2023-02-01T16:38:14\", \"deg\": 327.0, \"wspd\": 9.5}, {\"time\": \"2023-02-01T16:38:15\", \"deg\": 327.0, \"wspd\": 9.5}, {\"time\": \"2023-02-01T16:38:16\", \"deg\": 327.0, \"wspd\": 9.5}, {\"time\": \"2023-02-01T16:38:17\", \"deg\": 328.0, \"wspd\": 9.399999618530273}, {\"time\": \"2023-02-01T16:38:18\", \"deg\": 328.0, \"wspd\": 9.399999618530273}, {\"time\": \"2023-02-01T16:38:19\", \"deg\": 328.0, \"wspd\": 9.300000190734863}, {\"time\": \"2023-02-01T16:38:20\", \"deg\": 328.0, \"wspd\": 9.300000190734863}, {\"time\": \"2023-02-01T16:38:21\", \"deg\": 329.0, \"wspd\": 9.300000190734863}, {\"time\": \"2023-02-01T16:38:22\", \"deg\": 329.0, \"wspd\": 9.199999809265137}, {\"time\": \"2023-02-01T16:38:23\", \"deg\": 329.0, \"wspd\": 9.199999809265137}, {\"time\": \"2023-02-01T16:38:24\", \"deg\": 330.0, \"wspd\": 9.100000381469727}, {\"time\": \"2023-02-01T16:38:25\", \"deg\": 330.0, \"wspd\": 9.100000381469727}, {\"time\": \"2023-02-01T16:38:26\", \"deg\": 330.0, \"wspd\": 9.0}, {\"time\": \"2023-02-01T16:38:27\", \"deg\": 331.0, \"wspd\": 9.0}, {\"time\": \"2023-02-01T16:38:28\", \"deg\": 331.0, \"wspd\": 9.0}, {\"time\": \"2023-02-01T16:38:29\", \"deg\": 331.0, \"wspd\": 8.899999618530273}, {\"time\": \"2023-02-01T16:38:30\", \"deg\": 332.0, \"wspd\": 8.899999618530273}, {\"time\": \"2023-02-01T16:38:31\", \"deg\": 332.0, \"wspd\": 8.899999618530273}, {\"time\": \"2023-02-01T16:38:32\", \"deg\": 332.0, \"wspd\": 8.899999618530273}, {\"time\": \"2023-02-01T16:38:33\", \"deg\": 333.0, \"wspd\": 8.899999618530273}, {\"time\": \"2023-02-01T16:38:34\", \"deg\": 333.0, \"wspd\": 8.899999618530273}, {\"time\": \"2023-02-01T16:38:35\", \"deg\": 333.0, \"wspd\": 9.0}, {\"time\": \"2023-02-01T16:38:36\", \"deg\": 334.0, \"wspd\": 9.0}, {\"time\": \"2023-02-01T16:38:37\", \"deg\": 334.0, \"wspd\": 9.0}, {\"time\": \"2023-02-01T16:38:38\", \"deg\": 334.0, \"wspd\": 9.100000381469727}, {\"time\": \"2023-02-01T16:38:39\", \"deg\": 334.0, \"wspd\": 9.100000381469727}, {\"time\": \"2023-02-01T16:38:40\", \"deg\": 334.0, \"wspd\": 9.199999809265137}, {\"time\": \"2023-02-01T16:38:41\", \"deg\": 334.0, \"wspd\": 9.199999809265137}, {\"time\": \"2023-02-01T16:38:42\", \"deg\": 334.0, \"wspd\": 9.300000190734863}, {\"time\": \"2023-02-01T16:38:43\", \"deg\": 335.0, \"wspd\": 9.399999618530273}, {\"time\": \"2023-02-01T16:38:44\", \"deg\": 335.0, \"wspd\": 9.399999618530273}, {\"time\": \"2023-02-01T16:38:45\", \"deg\": 335.0, \"wspd\": 9.5}, {\"time\": \"2023-02-01T16:38:46\", \"deg\": 335.0, \"wspd\": 9.600000381469727}, {\"time\": \"2023-02-01T16:38:47\", \"deg\": 335.0, \"wspd\": 9.600000381469727}, {\"time\": \"2023-02-01T16:38:48\", \"deg\": 335.0, \"wspd\": 9.699999809265137}, {\"time\": \"2023-02-01T16:38:49\", \"deg\": 335.0, \"wspd\": 9.800000190734863}, {\"time\": \"2023-02-01T16:38:50\", \"deg\": 335.0, \"wspd\": 9.800000190734863}, {\"time\": \"2023-02-01T16:38:51\", \"deg\": 335.0, \"wspd\": 9.899999618530273}, {\"time\": \"2023-02-01T16:38:52\", \"deg\": 335.0, \"wspd\": 10.0}, {\"time\": \"2023-02-01T16:38:53\", \"deg\": 335.0, \"wspd\": 10.0}, {\"time\": \"2023-02-01T16:38:54\", \"deg\": 335.0, \"wspd\": 10.100000381469727}, {\"time\": \"2023-02-01T16:38:55\", \"deg\": 335.0, \"wspd\": 10.100000381469727}, {\"time\": \"2023-02-01T16:38:56\", \"deg\": 335.0, \"wspd\": 10.100000381469727}, {\"time\": \"2023-02-01T16:38:57\", \"deg\": 335.0, \"wspd\": 10.199999809265137}, {\"time\": \"2023-02-01T16:38:58\", \"deg\": 336.0, \"wspd\": 10.199999809265137}, {\"time\": \"2023-02-01T16:38:59\", \"deg\": 336.0, \"wspd\": 10.199999809265137}, {\"time\": \"2023-02-01T16:39:00\", \"deg\": 336.0, \"wspd\": 10.199999809265137}, {\"time\": \"2023-02-01T16:39:01\", \"deg\": 336.0, \"wspd\": 10.199999809265137}, {\"time\": \"2023-02-01T16:39:02\", \"deg\": 336.0, \"wspd\": 10.199999809265137}, {\"time\": \"2023-02-01T16:39:03\", \"deg\": 337.0, \"wspd\": 10.199999809265137}, {\"time\": \"2023-02-01T16:39:04\", \"deg\": 337.0, \"wspd\": 10.199999809265137}, {\"time\": \"2023-02-01T16:39:05\", \"deg\": 337.0, \"wspd\": 10.199999809265137}, {\"time\": \"2023-02-01T16:39:06\", \"deg\": 337.0, \"wspd\": 10.199999809265137}, {\"time\": \"2023-02-01T16:39:07\", \"deg\": 338.0, \"wspd\": 10.199999809265137}, {\"time\": \"2023-02-01T16:39:08\", \"deg\": 338.0, \"wspd\": 10.199999809265137}, {\"time\": \"2023-02-01T16:39:09\", \"deg\": 338.0, \"wspd\": 10.199999809265137}, {\"time\": \"2023-02-01T16:39:10\", \"deg\": 339.0, \"wspd\": 10.199999809265137}, {\"time\": \"2023-02-01T16:39:11\", \"deg\": 339.0, \"wspd\": 10.199999809265137}, {\"time\": \"2023-02-01T16:39:12\", \"deg\": 339.0, \"wspd\": 10.199999809265137}, {\"time\": \"2023-02-01T16:39:13\", \"deg\": 339.0, \"wspd\": 10.199999809265137}, {\"time\": \"2023-02-01T16:39:14\", \"deg\": 340.0, \"wspd\": 10.199999809265137}, {\"time\": \"2023-02-01T16:39:15\", \"deg\": 340.0, \"wspd\": 10.199999809265137}, {\"time\": \"2023-02-01T16:39:16\", \"deg\": 340.0, \"wspd\": 10.199999809265137}, {\"time\": \"2023-02-01T16:39:17\", \"deg\": 341.0, \"wspd\": 10.199999809265137}, {\"time\": \"2023-02-01T16:39:18\", \"deg\": 341.0, \"wspd\": 10.100000381469727}, {\"time\": \"2023-02-01T16:39:19\", \"deg\": 341.0, \"wspd\": 10.100000381469727}, {\"time\": \"2023-02-01T16:39:20\", \"deg\": 341.0, \"wspd\": 10.100000381469727}, {\"time\": \"2023-02-01T16:39:21\", \"deg\": 342.0, \"wspd\": 10.100000381469727}, {\"time\": \"2023-02-01T16:39:22\", \"deg\": 342.0, \"wspd\": 10.100000381469727}, {\"time\": \"2023-02-01T16:39:23\", \"deg\": 342.0, \"wspd\": 10.100000381469727}, {\"time\": \"2023-02-01T16:39:24\", \"deg\": 343.0, \"wspd\": 10.100000381469727}, {\"time\": \"2023-02-01T16:39:25\", \"deg\": 343.0, \"wspd\": 10.100000381469727}, {\"time\": \"2023-02-01T16:39:26\", \"deg\": 343.0, \"wspd\": 10.100000381469727}, {\"time\": \"2023-02-01T16:39:27\", \"deg\": 344.0, \"wspd\": 10.100000381469727}, {\"time\": \"2023-02-01T16:39:28\", \"deg\": 344.0, \"wspd\": 10.100000381469727}, {\"time\": \"2023-02-01T16:39:29\", \"deg\": 344.0, \"wspd\": 10.100000381469727}, {\"time\": \"2023-02-01T16:39:30\", \"deg\": 345.0, \"wspd\": 10.100000381469727}, {\"time\": \"2023-02-01T16:39:31\", \"deg\": 345.0, \"wspd\": 10.100000381469727}, {\"time\": \"2023-02-01T16:39:32\", \"deg\": 346.0, \"wspd\": 10.100000381469727}, {\"time\": \"2023-02-01T16:39:33\", \"deg\": 346.0, \"wspd\": 10.100000381469727}, {\"time\": \"2023-02-01T16:39:34\", \"deg\": 347.0, \"wspd\": 10.100000381469727}, {\"time\": \"2023-02-01T16:39:35\", \"deg\": 347.0, \"wspd\": 10.100000381469727}, {\"time\": \"2023-02-01T16:39:36\", \"deg\": 348.0, \"wspd\": 10.100000381469727}, {\"time\": \"2023-02-01T16:39:37\", \"deg\": 349.0, \"wspd\": 10.100000381469727}, {\"time\": \"2023-02-01T16:39:38\", \"deg\": 349.0, \"wspd\": 10.199999809265137}, {\"time\": \"2023-02-01T16:39:39\", \"deg\": 350.0, \"wspd\": 10.199999809265137}, {\"time\": \"2023-02-01T16:39:40\", \"deg\": 350.0, \"wspd\": 10.199999809265137}, {\"time\": \"2023-02-01T16:39:41\", \"deg\": 351.0, \"wspd\": 10.300000190734863}, {\"time\": \"2023-02-01T16:39:42\", \"deg\": 351.0, \"wspd\": 10.300000190734863}, {\"time\": \"2023-02-01T16:39:43\", \"deg\": 351.0, \"wspd\": 10.399999618530273}, {\"time\": \"2023-02-01T16:39:44\", \"deg\": 352.0, \"wspd\": 10.399999618530273}, {\"time\": \"2023-02-01T16:39:45\", \"deg\": 352.0, \"wspd\": 10.5}, {\"time\": \"2023-02-01T16:39:46\", \"deg\": 352.0, \"wspd\": 10.5}, {\"time\": \"2023-02-01T16:39:47\", \"deg\": 353.0, \"wspd\": 10.600000381469727}, {\"time\": \"2023-02-01T16:39:48\", \"deg\": 353.0, \"wspd\": 10.600000381469727}, {\"time\": \"2023-02-01T16:39:49\", \"deg\": 353.0, \"wspd\": 10.699999809265137}, {\"time\": \"2023-02-01T16:39:50\", \"deg\": 353.0, \"wspd\": 10.699999809265137}, {\"time\": \"2023-02-01T16:39:51\", \"deg\": 354.0, \"wspd\": 10.800000190734863}, {\"time\": \"2023-02-01T16:39:52\", \"deg\": 354.0, \"wspd\": 10.800000190734863}, {\"time\": \"2023-02-01T16:39:53\", \"deg\": 354.0, \"wspd\": 10.899999618530273}, {\"time\": \"2023-02-01T16:39:54\", \"deg\": 354.0, \"wspd\": 10.899999618530273}, {\"time\": \"2023-02-01T16:39:55\", \"deg\": 354.0, \"wspd\": 11.0}, {\"time\": \"2023-02-01T16:39:56\", \"deg\": 354.0, \"wspd\": 11.0}, {\"time\": \"2023-02-01T16:39:57\", \"deg\": 354.0, \"wspd\": 11.100000381469727}, {\"time\": \"2023-02-01T16:39:58\", \"deg\": 354.0, \"wspd\": 11.100000381469727}, {\"time\": \"2023-02-01T16:39:59\", \"deg\": 354.0, \"wspd\": 11.100000381469727}, {\"time\": \"2023-02-01T16:40:00\", \"deg\": 354.0, \"wspd\": 11.199999809265137}, {\"time\": \"2023-02-01T16:40:01\", \"deg\": 354.0, \"wspd\": 11.199999809265137}, {\"time\": \"2023-02-01T16:40:02\", \"deg\": 354.0, \"wspd\": 11.300000190734863}, {\"time\": \"2023-02-01T16:40:03\", \"deg\": 354.0, \"wspd\": 11.300000190734863}, {\"time\": \"2023-02-01T16:40:04\", \"deg\": 354.0, \"wspd\": 11.300000190734863}, {\"time\": \"2023-02-01T16:40:05\", \"deg\": 354.0, \"wspd\": 11.399999618530273}, {\"time\": \"2023-02-01T16:40:06\", \"deg\": 354.0, \"wspd\": 11.399999618530273}, {\"time\": \"2023-02-01T16:40:07\", \"deg\": 354.0, \"wspd\": 11.399999618530273}, {\"time\": \"2023-02-01T16:40:08\", \"deg\": 354.0, \"wspd\": 11.5}, {\"time\": \"2023-02-01T16:40:09\", \"deg\": 354.0, \"wspd\": 11.5}, {\"time\": \"2023-02-01T16:40:10\", \"deg\": 354.0, \"wspd\": 11.600000381469727}, {\"time\": \"2023-02-01T16:40:11\", \"deg\": 354.0, \"wspd\": 11.600000381469727}, {\"time\": \"2023-02-01T16:40:12\", \"deg\": 354.0, \"wspd\": 11.699999809265137}, {\"time\": \"2023-02-01T16:40:13\", \"deg\": 354.0, \"wspd\": 11.699999809265137}, {\"time\": \"2023-02-01T16:40:14\", \"deg\": 354.0, \"wspd\": 11.699999809265137}, {\"time\": \"2023-02-01T16:40:15\", \"deg\": 354.0, \"wspd\": 11.800000190734863}, {\"time\": \"2023-02-01T16:40:16\", \"deg\": 354.0, \"wspd\": 11.800000190734863}, {\"time\": \"2023-02-01T16:40:17\", \"deg\": 354.0, \"wspd\": 11.899999618530273}, {\"time\": \"2023-02-01T16:40:18\", \"deg\": 354.0, \"wspd\": 11.899999618530273}, {\"time\": \"2023-02-01T16:40:19\", \"deg\": 354.0, \"wspd\": 12.0}, {\"time\": \"2023-02-01T16:40:20\", \"deg\": 354.0, \"wspd\": 12.0}, {\"time\": \"2023-02-02T04:37:59\", \"deg\": 327.0, \"wspd\": 11.300000190734863}, {\"time\": \"2023-02-02T04:38:00\", \"deg\": 327.0, \"wspd\": 11.300000190734863}, {\"time\": \"2023-02-02T04:38:01\", \"deg\": 327.0, \"wspd\": 11.300000190734863}, {\"time\": \"2023-02-02T04:38:02\", \"deg\": 327.0, \"wspd\": 11.300000190734863}, {\"time\": \"2023-02-02T04:38:03\", \"deg\": 327.0, \"wspd\": 11.300000190734863}, {\"time\": \"2023-02-02T04:38:04\", \"deg\": 327.0, \"wspd\": 11.399999618530273}, {\"time\": \"2023-02-02T04:38:05\", \"deg\": 327.0, \"wspd\": 11.399999618530273}, {\"time\": \"2023-02-02T04:38:06\", \"deg\": 327.0, \"wspd\": 11.399999618530273}, {\"time\": \"2023-02-02T04:38:07\", \"deg\": 327.0, \"wspd\": 11.399999618530273}, {\"time\": \"2023-02-02T04:38:08\", \"deg\": 327.0, \"wspd\": 11.5}, {\"time\": \"2023-02-02T04:38:09\", \"deg\": 327.0, \"wspd\": 11.5}, {\"time\": \"2023-02-02T04:38:10\", \"deg\": 327.0, \"wspd\": 11.5}, {\"time\": \"2023-02-02T04:38:11\", \"deg\": 328.0, \"wspd\": 11.5}, {\"time\": \"2023-02-02T04:38:12\", \"deg\": 328.0, \"wspd\": 11.600000381469727}, {\"time\": \"2023-02-02T04:38:13\", \"deg\": 328.0, \"wspd\": 11.600000381469727}, {\"time\": \"2023-02-02T04:38:14\", \"deg\": 328.0, \"wspd\": 11.600000381469727}, {\"time\": \"2023-02-02T04:38:15\", \"deg\": 328.0, \"wspd\": 11.600000381469727}, {\"time\": \"2023-02-02T04:38:16\", \"deg\": 328.0, \"wspd\": 11.600000381469727}, {\"time\": \"2023-02-02T04:38:17\", \"deg\": 328.0, \"wspd\": 11.699999809265137}, {\"time\": \"2023-02-02T04:38:18\", \"deg\": 328.0, \"wspd\": 11.699999809265137}, {\"time\": \"2023-02-02T04:38:19\", \"deg\": 328.0, \"wspd\": 11.699999809265137}, {\"time\": \"2023-02-02T04:38:20\", \"deg\": 328.0, \"wspd\": 11.699999809265137}, {\"time\": \"2023-02-02T04:38:21\", \"deg\": 328.0, \"wspd\": 11.699999809265137}, {\"time\": \"2023-02-02T04:38:22\", \"deg\": 328.0, \"wspd\": 11.699999809265137}, {\"time\": \"2023-02-02T04:38:23\", \"deg\": 328.0, \"wspd\": 11.800000190734863}, {\"time\": \"2023-02-02T04:38:24\", \"deg\": 328.0, \"wspd\": 11.800000190734863}, {\"time\": \"2023-02-02T04:38:25\", \"deg\": 328.0, \"wspd\": 11.800000190734863}, {\"time\": \"2023-02-02T04:38:26\", \"deg\": 328.0, \"wspd\": 11.800000190734863}, {\"time\": \"2023-02-02T04:38:27\", \"deg\": 328.0, \"wspd\": 11.800000190734863}, {\"time\": \"2023-02-02T04:38:28\", \"deg\": 328.0, \"wspd\": 11.800000190734863}, {\"time\": \"2023-02-02T04:38:29\", \"deg\": 328.0, \"wspd\": 11.800000190734863}, {\"time\": \"2023-02-02T04:38:30\", \"deg\": 328.0, \"wspd\": 11.800000190734863}, {\"time\": \"2023-02-02T04:38:31\", \"deg\": 328.0, \"wspd\": 11.800000190734863}, {\"time\": \"2023-02-02T04:38:32\", \"deg\": 329.0, \"wspd\": 11.800000190734863}, {\"time\": \"2023-02-02T04:38:33\", \"deg\": 329.0, \"wspd\": 11.800000190734863}, {\"time\": \"2023-02-02T04:38:34\", \"deg\": 328.0, \"wspd\": 11.699999809265137}, {\"time\": \"2023-02-02T04:38:35\", \"deg\": 328.0, \"wspd\": 11.699999809265137}, {\"time\": \"2023-02-02T04:38:36\", \"deg\": 328.0, \"wspd\": 11.699999809265137}, {\"time\": \"2023-02-02T04:38:37\", \"deg\": 328.0, \"wspd\": 11.699999809265137}, {\"time\": \"2023-02-02T04:38:38\", \"deg\": 328.0, \"wspd\": 11.699999809265137}, {\"time\": \"2023-02-02T04:38:39\", \"deg\": 328.0, \"wspd\": 11.600000381469727}, {\"time\": \"2023-02-02T04:38:40\", \"deg\": 328.0, \"wspd\": 11.600000381469727}, {\"time\": \"2023-02-02T04:38:41\", \"deg\": 328.0, \"wspd\": 11.600000381469727}, {\"time\": \"2023-02-02T04:38:42\", \"deg\": 328.0, \"wspd\": 11.5}, {\"time\": \"2023-02-02T04:38:43\", \"deg\": 328.0, \"wspd\": 11.5}, {\"time\": \"2023-02-02T04:38:44\", \"deg\": 328.0, \"wspd\": 11.5}, {\"time\": \"2023-02-02T04:38:45\", \"deg\": 328.0, \"wspd\": 11.399999618530273}, {\"time\": \"2023-02-02T04:38:46\", \"deg\": 328.0, \"wspd\": 11.399999618530273}, {\"time\": \"2023-02-02T04:38:47\", \"deg\": 328.0, \"wspd\": 11.300000190734863}, {\"time\": \"2023-02-02T04:38:48\", \"deg\": 328.0, \"wspd\": 11.300000190734863}, {\"time\": \"2023-02-02T04:38:49\", \"deg\": 328.0, \"wspd\": 11.300000190734863}, {\"time\": \"2023-02-02T04:38:50\", \"deg\": 328.0, \"wspd\": 11.199999809265137}, {\"time\": \"2023-02-02T04:38:51\", \"deg\": 328.0, \"wspd\": 11.199999809265137}, {\"time\": \"2023-02-02T04:38:52\", \"deg\": 328.0, \"wspd\": 11.199999809265137}, {\"time\": \"2023-02-02T04:38:53\", \"deg\": 329.0, \"wspd\": 11.199999809265137}, {\"time\": \"2023-02-02T04:38:54\", \"deg\": 329.0, \"wspd\": 11.100000381469727}, {\"time\": \"2023-02-02T04:38:55\", \"deg\": 329.0, \"wspd\": 11.100000381469727}, {\"time\": \"2023-02-02T04:38:56\", \"deg\": 329.0, \"wspd\": 11.100000381469727}, {\"time\": \"2023-02-02T04:38:57\", \"deg\": 329.0, \"wspd\": 11.100000381469727}, {\"time\": \"2023-02-02T04:38:58\", \"deg\": 329.0, \"wspd\": 11.100000381469727}, {\"time\": \"2023-02-02T04:38:59\", \"deg\": 329.0, \"wspd\": 11.100000381469727}, {\"time\": \"2023-02-02T04:39:00\", \"deg\": 329.0, \"wspd\": 11.0}, {\"time\": \"2023-02-02T04:39:01\", \"deg\": 330.0, \"wspd\": 11.0}, {\"time\": \"2023-02-02T04:39:02\", \"deg\": 330.0, \"wspd\": 11.0}, {\"time\": \"2023-02-02T04:39:03\", \"deg\": 330.0, \"wspd\": 11.0}, {\"time\": \"2023-02-02T04:39:04\", \"deg\": 330.0, \"wspd\": 11.0}, {\"time\": \"2023-02-02T04:39:05\", \"deg\": 330.0, \"wspd\": 11.0}, {\"time\": \"2023-02-02T04:39:06\", \"deg\": 330.0, \"wspd\": 11.0}, {\"time\": \"2023-02-02T04:39:07\", \"deg\": 330.0, \"wspd\": 11.0}, {\"time\": \"2023-02-02T04:39:08\", \"deg\": 330.0, \"wspd\": 11.0}, {\"time\": \"2023-02-02T04:39:09\", \"deg\": 330.0, \"wspd\": 11.0}, {\"time\": \"2023-02-02T04:39:10\", \"deg\": 330.0, \"wspd\": 11.0}, {\"time\": \"2023-02-02T04:39:11\", \"deg\": 330.0, \"wspd\": 11.0}, {\"time\": \"2023-02-02T04:39:12\", \"deg\": 330.0, \"wspd\": 10.899999618530273}, {\"time\": \"2023-02-02T04:39:13\", \"deg\": 330.0, \"wspd\": 10.899999618530273}, {\"time\": \"2023-02-02T04:39:14\", \"deg\": 330.0, \"wspd\": 10.899999618530273}, {\"time\": \"2023-02-02T04:39:15\", \"deg\": 330.0, \"wspd\": 10.899999618530273}, {\"time\": \"2023-02-02T04:39:16\", \"deg\": 330.0, \"wspd\": 10.800000190734863}, {\"time\": \"2023-02-02T04:39:17\", \"deg\": 330.0, \"wspd\": 10.800000190734863}, {\"time\": \"2023-02-02T04:39:18\", \"deg\": 330.0, \"wspd\": 10.800000190734863}, {\"time\": \"2023-02-02T04:39:19\", \"deg\": 330.0, \"wspd\": 10.699999809265137}, {\"time\": \"2023-02-02T04:39:20\", \"deg\": 330.0, \"wspd\": 10.699999809265137}, {\"time\": \"2023-02-02T04:39:21\", \"deg\": 330.0, \"wspd\": 10.600000381469727}, {\"time\": \"2023-02-02T04:39:22\", \"deg\": 330.0, \"wspd\": 10.600000381469727}, {\"time\": \"2023-02-02T04:39:23\", \"deg\": 330.0, \"wspd\": 10.600000381469727}, {\"time\": \"2023-02-02T04:39:24\", \"deg\": 329.0, \"wspd\": 10.5}, {\"time\": \"2023-02-02T04:39:25\", \"deg\": 329.0, \"wspd\": 10.5}, {\"time\": \"2023-02-02T04:39:26\", \"deg\": 329.0, \"wspd\": 10.399999618530273}, {\"time\": \"2023-02-02T04:39:27\", \"deg\": 329.0, \"wspd\": 10.399999618530273}, {\"time\": \"2023-02-02T04:39:28\", \"deg\": 329.0, \"wspd\": 10.300000190734863}, {\"time\": \"2023-02-02T04:39:29\", \"deg\": 329.0, \"wspd\": 10.300000190734863}, {\"time\": \"2023-02-02T04:39:30\", \"deg\": 329.0, \"wspd\": 10.300000190734863}, {\"time\": \"2023-02-02T04:39:31\", \"deg\": 329.0, \"wspd\": 10.199999809265137}, {\"time\": \"2023-02-02T04:39:32\", \"deg\": 329.0, \"wspd\": 10.199999809265137}, {\"time\": \"2023-02-02T04:39:33\", \"deg\": 329.0, \"wspd\": 10.100000381469727}, {\"time\": \"2023-02-02T04:39:34\", \"deg\": 329.0, \"wspd\": 10.100000381469727}, {\"time\": \"2023-02-02T04:39:35\", \"deg\": 329.0, \"wspd\": 10.100000381469727}, {\"time\": \"2023-02-02T04:39:36\", \"deg\": 329.0, \"wspd\": 10.100000381469727}, {\"time\": \"2023-02-02T04:39:37\", \"deg\": 329.0, \"wspd\": 10.0}, {\"time\": \"2023-02-02T04:39:38\", \"deg\": 329.0, \"wspd\": 10.0}, {\"time\": \"2023-02-02T04:39:39\", \"deg\": 329.0, \"wspd\": 10.0}, {\"time\": \"2023-02-02T04:39:40\", \"deg\": 329.0, \"wspd\": 10.0}, {\"time\": \"2023-02-02T04:39:41\", \"deg\": 329.0, \"wspd\": 9.899999618530273}, {\"time\": \"2023-02-02T04:39:42\", \"deg\": 329.0, \"wspd\": 9.899999618530273}, {\"time\": \"2023-02-02T04:39:43\", \"deg\": 329.0, \"wspd\": 9.899999618530273}, {\"time\": \"2023-02-02T04:39:44\", \"deg\": 329.0, \"wspd\": 9.800000190734863}, {\"time\": \"2023-02-02T04:39:45\", \"deg\": 328.0, \"wspd\": 9.800000190734863}, {\"time\": \"2023-02-02T04:39:46\", \"deg\": 328.0, \"wspd\": 9.800000190734863}, {\"time\": \"2023-02-02T04:39:47\", \"deg\": 328.0, \"wspd\": 9.699999809265137}, {\"time\": \"2023-02-02T04:39:48\", \"deg\": 328.0, \"wspd\": 9.699999809265137}, {\"time\": \"2023-02-02T04:39:49\", \"deg\": 327.0, \"wspd\": 9.600000381469727}, {\"time\": \"2023-02-02T04:39:50\", \"deg\": 327.0, \"wspd\": 9.600000381469727}, {\"time\": \"2023-02-02T04:39:51\", \"deg\": 327.0, \"wspd\": 9.5}, {\"time\": \"2023-02-02T04:39:52\", \"deg\": 326.0, \"wspd\": 9.5}, {\"time\": \"2023-02-02T04:39:53\", \"deg\": 326.0, \"wspd\": 9.399999618530273}, {\"time\": \"2023-02-02T04:39:54\", \"deg\": 325.0, \"wspd\": 9.300000190734863}, {\"time\": \"2023-02-02T04:39:55\", \"deg\": 325.0, \"wspd\": 9.300000190734863}, {\"time\": \"2023-02-02T04:39:56\", \"deg\": 324.0, \"wspd\": 9.199999809265137}, {\"time\": \"2023-02-02T04:39:57\", \"deg\": 324.0, \"wspd\": 9.199999809265137}, {\"time\": \"2023-02-02T04:39:58\", \"deg\": 323.0, \"wspd\": 9.100000381469727}, {\"time\": \"2023-02-02T04:39:59\", \"deg\": 323.0, \"wspd\": 9.0}, {\"time\": \"2023-02-02T04:40:00\", \"deg\": 322.0, \"wspd\": 9.0}, {\"time\": \"2023-02-02T04:40:01\", \"deg\": 321.0, \"wspd\": 8.899999618530273}, {\"time\": \"2023-02-02T04:40:02\", \"deg\": 321.0, \"wspd\": 8.899999618530273}, {\"time\": \"2023-02-02T04:40:03\", \"deg\": 320.0, \"wspd\": 8.800000190734863}, {\"time\": \"2023-02-02T04:40:04\", \"deg\": 319.0, \"wspd\": 8.800000190734863}, {\"time\": \"2023-02-02T04:40:05\", \"deg\": 319.0, \"wspd\": 8.699999809265137}, {\"time\": \"2023-02-02T04:40:06\", \"deg\": 318.0, \"wspd\": 8.699999809265137}, {\"time\": \"2023-02-02T04:40:07\", \"deg\": 318.0, \"wspd\": 8.699999809265137}, {\"time\": \"2023-02-02T04:40:08\", \"deg\": 317.0, \"wspd\": 8.600000381469727}, {\"time\": \"2023-02-02T04:40:09\", \"deg\": 317.0, \"wspd\": 8.600000381469727}, {\"time\": \"2023-02-02T04:40:10\", \"deg\": 316.0, \"wspd\": 8.600000381469727}, {\"time\": \"2023-02-02T04:40:11\", \"deg\": 316.0, \"wspd\": 8.600000381469727}, {\"time\": \"2023-02-02T04:40:12\", \"deg\": 315.0, \"wspd\": 8.600000381469727}, {\"time\": \"2023-02-02T04:40:13\", \"deg\": 315.0, \"wspd\": 8.5}, {\"time\": \"2023-02-02T04:40:14\", \"deg\": 315.0, \"wspd\": 8.5}, {\"time\": \"2023-02-02T04:40:15\", \"deg\": 315.0, \"wspd\": 8.5}, {\"time\": \"2023-02-02T04:40:16\", \"deg\": 314.0, \"wspd\": 8.5}, {\"time\": \"2023-02-02T04:40:17\", \"deg\": 314.0, \"wspd\": 8.5}, {\"time\": \"2023-02-02T04:40:18\", \"deg\": 314.0, \"wspd\": 8.5}, {\"time\": \"2023-02-02T04:40:19\", \"deg\": 314.0, \"wspd\": 8.5}, {\"time\": \"2023-02-02T04:40:20\", \"deg\": 314.0, \"wspd\": 8.5}, {\"time\": \"2023-02-02T04:40:21\", \"deg\": 314.0, \"wspd\": 8.5}, {\"time\": \"2023-02-02T04:40:22\", \"deg\": 315.0, \"wspd\": 8.5}, {\"time\": \"2023-02-02T04:40:23\", \"deg\": 315.0, \"wspd\": 8.399999618530273}, {\"time\": \"2023-02-02T04:40:24\", \"deg\": 315.0, \"wspd\": 8.399999618530273}, {\"time\": \"2023-02-02T04:40:25\", \"deg\": 315.0, \"wspd\": 8.399999618530273}, {\"time\": \"2023-02-02T04:40:26\", \"deg\": 315.0, \"wspd\": 8.399999618530273}, {\"time\": \"2023-02-02T04:40:27\", \"deg\": 315.0, \"wspd\": 8.399999618530273}, {\"time\": \"2023-02-02T04:40:28\", \"deg\": 315.0, \"wspd\": 8.300000190734863}, {\"time\": \"2023-02-02T04:40:29\", \"deg\": 315.0, \"wspd\": 8.300000190734863}, {\"time\": \"2023-02-02T04:40:30\", \"deg\": 315.0, \"wspd\": 8.300000190734863}, {\"time\": \"2023-02-02T04:40:31\", \"deg\": 315.0, \"wspd\": 8.300000190734863}, {\"time\": \"2023-02-02T04:40:32\", \"deg\": 314.0, \"wspd\": 8.199999809265137}, {\"time\": \"2023-02-02T04:40:33\", \"deg\": 314.0, \"wspd\": 8.199999809265137}, {\"time\": \"2023-02-02T16:42:09\", \"deg\": 19.0, \"wspd\": 5.699999809265137}, {\"time\": \"2023-02-02T16:42:10\", \"deg\": 19.0, \"wspd\": 5.699999809265137}, {\"time\": \"2023-02-02T16:42:11\", \"deg\": 19.0, \"wspd\": 5.699999809265137}, {\"time\": \"2023-02-02T16:42:12\", \"deg\": 19.0, \"wspd\": 5.699999809265137}, {\"time\": \"2023-02-02T16:42:13\", \"deg\": 19.0, \"wspd\": 5.599999904632568}, {\"time\": \"2023-02-02T16:42:14\", \"deg\": 19.0, \"wspd\": 5.599999904632568}, {\"time\": \"2023-02-02T16:42:15\", \"deg\": 19.0, \"wspd\": 5.599999904632568}, {\"time\": \"2023-02-02T16:42:16\", \"deg\": 19.0, \"wspd\": 5.599999904632568}, {\"time\": \"2023-02-02T16:42:17\", \"deg\": 19.0, \"wspd\": 5.599999904632568}, {\"time\": \"2023-02-02T16:42:18\", \"deg\": 19.0, \"wspd\": 5.599999904632568}, {\"time\": \"2023-02-02T16:42:19\", \"deg\": 19.0, \"wspd\": 5.599999904632568}, {\"time\": \"2023-02-02T16:42:20\", \"deg\": 19.0, \"wspd\": 5.599999904632568}, {\"time\": \"2023-02-02T16:42:21\", \"deg\": 19.0, \"wspd\": 5.599999904632568}, {\"time\": \"2023-02-02T16:42:22\", \"deg\": 19.0, \"wspd\": 5.599999904632568}, {\"time\": \"2023-02-02T16:42:23\", \"deg\": 20.0, \"wspd\": 5.599999904632568}, {\"time\": \"2023-02-02T16:42:24\", \"deg\": 20.0, \"wspd\": 5.599999904632568}, {\"time\": \"2023-02-02T16:42:25\", \"deg\": 20.0, \"wspd\": 5.599999904632568}, {\"time\": \"2023-02-02T16:42:26\", \"deg\": 20.0, \"wspd\": 5.599999904632568}, {\"time\": \"2023-02-02T16:42:27\", \"deg\": 20.0, \"wspd\": 5.699999809265137}, {\"time\": \"2023-02-02T16:42:28\", \"deg\": 20.0, \"wspd\": 5.699999809265137}, {\"time\": \"2023-02-02T16:42:29\", \"deg\": 20.0, \"wspd\": 5.699999809265137}, {\"time\": \"2023-02-02T16:42:30\", \"deg\": 20.0, \"wspd\": 5.699999809265137}, {\"time\": \"2023-02-02T16:42:31\", \"deg\": 21.0, \"wspd\": 5.699999809265137}, {\"time\": \"2023-02-02T16:42:32\", \"deg\": 21.0, \"wspd\": 5.699999809265137}, {\"time\": \"2023-02-02T16:42:33\", \"deg\": 21.0, \"wspd\": 5.800000190734863}, {\"time\": \"2023-02-02T16:42:34\", \"deg\": 21.0, \"wspd\": 5.800000190734863}, {\"time\": \"2023-02-02T16:42:35\", \"deg\": 21.0, \"wspd\": 5.800000190734863}, {\"time\": \"2023-02-02T16:42:36\", \"deg\": 21.0, \"wspd\": 5.800000190734863}, {\"time\": \"2023-02-02T16:42:37\", \"deg\": 21.0, \"wspd\": 5.800000190734863}, {\"time\": \"2023-02-02T16:42:38\", \"deg\": 21.0, \"wspd\": 5.900000095367432}, {\"time\": \"2023-02-02T16:42:39\", \"deg\": 22.0, \"wspd\": 5.900000095367432}, {\"time\": \"2023-02-02T16:42:40\", \"deg\": 22.0, \"wspd\": 5.900000095367432}, {\"time\": \"2023-02-02T16:42:41\", \"deg\": 22.0, \"wspd\": 5.900000095367432}, {\"time\": \"2023-02-02T16:42:42\", \"deg\": 22.0, \"wspd\": 5.900000095367432}, {\"time\": \"2023-02-02T16:42:43\", \"deg\": 22.0, \"wspd\": 5.900000095367432}, {\"time\": \"2023-02-02T16:42:44\", \"deg\": 22.0, \"wspd\": 6.0}, {\"time\": \"2023-02-02T16:42:45\", \"deg\": 22.0, \"wspd\": 6.0}, {\"time\": \"2023-02-02T16:42:46\", \"deg\": 22.0, \"wspd\": 6.0}, {\"time\": \"2023-02-02T16:42:47\", \"deg\": 22.0, \"wspd\": 6.0}, {\"time\": \"2023-02-02T16:42:48\", \"deg\": 22.0, \"wspd\": 6.0}, {\"time\": \"2023-02-02T16:42:49\", \"deg\": 23.0, \"wspd\": 6.0}, {\"time\": \"2023-02-02T16:42:50\", \"deg\": 23.0, \"wspd\": 6.0}, {\"time\": \"2023-02-02T16:42:51\", \"deg\": 23.0, \"wspd\": 6.0}, {\"time\": \"2023-02-02T16:42:52\", \"deg\": 23.0, \"wspd\": 6.0}, {\"time\": \"2023-02-02T16:42:53\", \"deg\": 23.0, \"wspd\": 6.0}, {\"time\": \"2023-02-02T16:42:54\", \"deg\": 23.0, \"wspd\": 6.099999904632568}, {\"time\": \"2023-02-02T16:42:55\", \"deg\": 23.0, \"wspd\": 6.099999904632568}, {\"time\": \"2023-02-02T16:42:56\", \"deg\": 23.0, \"wspd\": 6.099999904632568}, {\"time\": \"2023-02-02T16:42:57\", \"deg\": 24.0, \"wspd\": 6.099999904632568}, {\"time\": \"2023-02-02T16:42:58\", \"deg\": 24.0, \"wspd\": 6.099999904632568}, {\"time\": \"2023-02-02T16:42:59\", \"deg\": 24.0, \"wspd\": 6.099999904632568}, {\"time\": \"2023-02-02T16:43:00\", \"deg\": 24.0, \"wspd\": 6.099999904632568}, {\"time\": \"2023-02-02T16:43:01\", \"deg\": 24.0, \"wspd\": 6.099999904632568}, {\"time\": \"2023-02-02T16:43:02\", \"deg\": 24.0, \"wspd\": 6.099999904632568}, {\"time\": \"2023-02-02T16:43:03\", \"deg\": 24.0, \"wspd\": 6.099999904632568}, {\"time\": \"2023-02-02T16:43:04\", \"deg\": 24.0, \"wspd\": 6.0}, {\"time\": \"2023-02-02T16:43:05\", \"deg\": 25.0, \"wspd\": 6.0}, {\"time\": \"2023-02-02T16:43:06\", \"deg\": 25.0, \"wspd\": 6.0}, {\"time\": \"2023-02-02T16:43:07\", \"deg\": 25.0, \"wspd\": 6.0}, {\"time\": \"2023-02-02T16:43:08\", \"deg\": 25.0, \"wspd\": 6.0}, {\"time\": \"2023-02-02T16:43:09\", \"deg\": 25.0, \"wspd\": 6.0}, {\"time\": \"2023-02-02T16:43:10\", \"deg\": 25.0, \"wspd\": 6.0}, {\"time\": \"2023-02-02T16:43:11\", \"deg\": 25.0, \"wspd\": 6.099999904632568}, {\"time\": \"2023-02-02T16:43:12\", \"deg\": 25.0, \"wspd\": 6.099999904632568}, {\"time\": \"2023-02-02T16:43:13\", \"deg\": 25.0, \"wspd\": 6.099999904632568}, {\"time\": \"2023-02-02T16:43:14\", \"deg\": 25.0, \"wspd\": 6.099999904632568}, {\"time\": \"2023-02-02T16:43:15\", \"deg\": 25.0, \"wspd\": 6.099999904632568}, {\"time\": \"2023-02-02T16:43:16\", \"deg\": 25.0, \"wspd\": 6.099999904632568}, {\"time\": \"2023-02-02T16:43:17\", \"deg\": 26.0, \"wspd\": 6.099999904632568}, {\"time\": \"2023-02-02T16:43:18\", \"deg\": 26.0, \"wspd\": 6.099999904632568}, {\"time\": \"2023-02-02T16:43:19\", \"deg\": 26.0, \"wspd\": 6.099999904632568}, {\"time\": \"2023-02-02T16:43:20\", \"deg\": 26.0, \"wspd\": 6.099999904632568}, {\"time\": \"2023-02-02T16:43:21\", \"deg\": 26.0, \"wspd\": 6.099999904632568}, {\"time\": \"2023-02-02T16:43:22\", \"deg\": 26.0, \"wspd\": 6.099999904632568}, {\"time\": \"2023-02-02T16:43:23\", \"deg\": 26.0, \"wspd\": 6.099999904632568}, {\"time\": \"2023-02-02T16:43:24\", \"deg\": 26.0, \"wspd\": 6.099999904632568}, {\"time\": \"2023-02-02T16:43:25\", \"deg\": 26.0, \"wspd\": 6.099999904632568}, {\"time\": \"2023-02-02T16:43:26\", \"deg\": 26.0, \"wspd\": 6.099999904632568}, {\"time\": \"2023-02-02T16:43:27\", \"deg\": 26.0, \"wspd\": 6.099999904632568}, {\"time\": \"2023-02-02T16:43:28\", \"deg\": 26.0, \"wspd\": 6.0}, {\"time\": \"2023-02-02T16:43:29\", \"deg\": 26.0, \"wspd\": 6.0}, {\"time\": \"2023-02-02T16:43:30\", \"deg\": 27.0, \"wspd\": 6.0}, {\"time\": \"2023-02-02T16:43:31\", \"deg\": 27.0, \"wspd\": 6.0}, {\"time\": \"2023-02-02T16:43:32\", \"deg\": 27.0, \"wspd\": 6.0}, {\"time\": \"2023-02-02T16:43:33\", \"deg\": 27.0, \"wspd\": 6.0}, {\"time\": \"2023-02-02T16:43:34\", \"deg\": 27.0, \"wspd\": 6.0}, {\"time\": \"2023-02-02T16:43:35\", \"deg\": 27.0, \"wspd\": 6.0}, {\"time\": \"2023-02-02T16:43:36\", \"deg\": 27.0, \"wspd\": 6.0}, {\"time\": \"2023-02-02T16:43:37\", \"deg\": 28.0, \"wspd\": 5.900000095367432}, {\"time\": \"2023-02-02T16:43:38\", \"deg\": 28.0, \"wspd\": 5.900000095367432}, {\"time\": \"2023-02-02T16:43:39\", \"deg\": 28.0, \"wspd\": 5.900000095367432}, {\"time\": \"2023-02-02T16:43:40\", \"deg\": 28.0, \"wspd\": 5.900000095367432}, {\"time\": \"2023-02-02T16:43:41\", \"deg\": 28.0, \"wspd\": 5.900000095367432}, {\"time\": \"2023-02-02T16:43:42\", \"deg\": 29.0, \"wspd\": 5.900000095367432}, {\"time\": \"2023-02-02T16:43:43\", \"deg\": 29.0, \"wspd\": 5.900000095367432}, {\"time\": \"2023-02-02T16:43:44\", \"deg\": 29.0, \"wspd\": 5.900000095367432}, {\"time\": \"2023-02-02T16:43:45\", \"deg\": 29.0, \"wspd\": 5.800000190734863}, {\"time\": \"2023-02-02T16:43:46\", \"deg\": 29.0, \"wspd\": 5.800000190734863}, {\"time\": \"2023-02-02T16:43:47\", \"deg\": 29.0, \"wspd\": 5.800000190734863}, {\"time\": \"2023-02-02T16:43:48\", \"deg\": 29.0, \"wspd\": 5.800000190734863}, {\"time\": \"2023-02-02T16:43:49\", \"deg\": 29.0, \"wspd\": 5.800000190734863}, {\"time\": \"2023-02-02T16:43:50\", \"deg\": 30.0, \"wspd\": 5.800000190734863}, {\"time\": \"2023-02-02T16:43:51\", \"deg\": 30.0, \"wspd\": 5.800000190734863}, {\"time\": \"2023-02-02T16:43:52\", \"deg\": 30.0, \"wspd\": 5.800000190734863}, {\"time\": \"2023-02-02T16:43:53\", \"deg\": 30.0, \"wspd\": 5.800000190734863}, {\"time\": \"2023-02-02T16:43:54\", \"deg\": 30.0, \"wspd\": 5.800000190734863}, {\"time\": \"2023-02-02T16:43:55\", \"deg\": 30.0, \"wspd\": 5.800000190734863}, {\"time\": \"2023-02-02T16:43:56\", \"deg\": 30.0, \"wspd\": 5.800000190734863}, {\"time\": \"2023-02-02T16:43:57\", \"deg\": 30.0, \"wspd\": 5.800000190734863}, {\"time\": \"2023-02-02T16:43:58\", \"deg\": 30.0, \"wspd\": 5.800000190734863}, {\"time\": \"2023-02-02T16:43:59\", \"deg\": 30.0, \"wspd\": 5.800000190734863}, {\"time\": \"2023-02-02T16:44:00\", \"deg\": 30.0, \"wspd\": 5.800000190734863}, {\"time\": \"2023-02-02T16:44:01\", \"deg\": 30.0, \"wspd\": 5.800000190734863}, {\"time\": \"2023-02-02T16:44:02\", \"deg\": 30.0, \"wspd\": 5.800000190734863}, {\"time\": \"2023-02-02T16:44:03\", \"deg\": 30.0, \"wspd\": 5.800000190734863}, {\"time\": \"2023-02-02T16:44:04\", \"deg\": 30.0, \"wspd\": 5.800000190734863}, {\"time\": \"2023-02-02T16:44:05\", \"deg\": 30.0, \"wspd\": 5.800000190734863}, {\"time\": \"2023-02-02T16:44:06\", \"deg\": 30.0, \"wspd\": 5.800000190734863}, {\"time\": \"2023-02-02T16:44:07\", \"deg\": 30.0, \"wspd\": 5.800000190734863}, {\"time\": \"2023-02-02T16:44:08\", \"deg\": 30.0, \"wspd\": 5.800000190734863}, {\"time\": \"2023-02-02T16:44:09\", \"deg\": 30.0, \"wspd\": 5.800000190734863}, {\"time\": \"2023-02-02T16:44:10\", \"deg\": 30.0, \"wspd\": 5.800000190734863}, {\"time\": \"2023-02-02T16:44:11\", \"deg\": 30.0, \"wspd\": 5.800000190734863}, {\"time\": \"2023-02-02T16:44:12\", \"deg\": 30.0, \"wspd\": 5.800000190734863}, {\"time\": \"2023-02-02T16:44:13\", \"deg\": 30.0, \"wspd\": 5.800000190734863}, {\"time\": \"2023-02-02T16:44:14\", \"deg\": 30.0, \"wspd\": 5.800000190734863}, {\"time\": \"2023-02-02T16:44:15\", \"deg\": 30.0, \"wspd\": 5.900000095367432}, {\"time\": \"2023-02-02T16:44:16\", \"deg\": 30.0, \"wspd\": 5.900000095367432}, {\"time\": \"2023-02-02T16:44:17\", \"deg\": 30.0, \"wspd\": 5.900000095367432}, {\"time\": \"2023-02-02T16:44:18\", \"deg\": 30.0, \"wspd\": 5.900000095367432}, {\"time\": \"2023-02-02T16:44:19\", \"deg\": 30.0, \"wspd\": 5.900000095367432}, {\"time\": \"2023-02-02T16:44:20\", \"deg\": 30.0, \"wspd\": 5.900000095367432}, {\"time\": \"2023-02-02T16:44:21\", \"deg\": 30.0, \"wspd\": 5.900000095367432}, {\"time\": \"2023-02-02T16:44:22\", \"deg\": 30.0, \"wspd\": 5.900000095367432}, {\"time\": \"2023-02-02T16:44:23\", \"deg\": 30.0, \"wspd\": 5.900000095367432}, {\"time\": \"2023-02-02T16:44:24\", \"deg\": 30.0, \"wspd\": 5.900000095367432}, {\"time\": \"2023-02-02T16:44:25\", \"deg\": 30.0, \"wspd\": 5.900000095367432}, {\"time\": \"2023-02-02T16:44:26\", \"deg\": 30.0, \"wspd\": 5.900000095367432}, {\"time\": \"2023-02-02T16:44:27\", \"deg\": 30.0, \"wspd\": 5.900000095367432}, {\"time\": \"2023-02-02T16:44:28\", \"deg\": 30.0, \"wspd\": 5.900000095367432}, {\"time\": \"2023-02-02T16:44:29\", \"deg\": 30.0, \"wspd\": 6.0}, {\"time\": \"2023-02-02T16:44:30\", \"deg\": 30.0, \"wspd\": 6.0}, {\"time\": \"2023-02-02T16:44:31\", \"deg\": 30.0, \"wspd\": 6.0}, {\"time\": \"2023-02-02T16:44:32\", \"deg\": 30.0, \"wspd\": 6.0}, {\"time\": \"2023-02-02T16:44:33\", \"deg\": 30.0, \"wspd\": 6.0}, {\"time\": \"2023-02-02T16:44:34\", \"deg\": 30.0, \"wspd\": 6.0}, {\"time\": \"2023-02-02T16:44:35\", \"deg\": 30.0, \"wspd\": 6.0}, {\"time\": \"2023-02-02T16:44:36\", \"deg\": 30.0, \"wspd\": 6.0}, {\"time\": \"2023-02-02T16:44:37\", \"deg\": 30.0, \"wspd\": 6.0}, {\"time\": \"2023-02-02T16:44:38\", \"deg\": 30.0, \"wspd\": 6.0}, {\"time\": \"2023-02-02T16:44:39\", \"deg\": 30.0, \"wspd\": 6.0}, {\"time\": \"2023-02-02T16:44:40\", \"deg\": 30.0, \"wspd\": 6.0}, {\"time\": \"2023-02-02T16:44:41\", \"deg\": 30.0, \"wspd\": 6.0}, {\"time\": \"2023-02-02T16:44:42\", \"deg\": 30.0, \"wspd\": 6.099999904632568}, {\"time\": \"2023-02-02T16:44:43\", \"deg\": 30.0, \"wspd\": 6.099999904632568}, {\"time\": \"2023-02-02T16:44:44\", \"deg\": 30.0, \"wspd\": 6.099999904632568}, {\"time\": \"2023-02-02T16:44:45\", \"deg\": 30.0, \"wspd\": 6.099999904632568}, {\"time\": \"2023-02-02T16:44:46\", \"deg\": 30.0, \"wspd\": 6.099999904632568}, {\"time\": \"2023-02-02T16:44:47\", \"deg\": 31.0, \"wspd\": 6.099999904632568}, {\"time\": \"2023-02-02T16:44:48\", \"deg\": 31.0, \"wspd\": 6.099999904632568}, {\"time\": \"2023-02-02T16:44:49\", \"deg\": 31.0, \"wspd\": 6.099999904632568}, {\"time\": \"2023-02-02T16:44:50\", \"deg\": 31.0, \"wspd\": 6.099999904632568}, {\"time\": \"2023-02-02T16:44:51\", \"deg\": 31.0, \"wspd\": 6.099999904632568}, {\"time\": \"2023-02-02T16:44:52\", \"deg\": 31.0, \"wspd\": 6.199999809265137}, {\"time\": \"2023-02-02T16:44:53\", \"deg\": 32.0, \"wspd\": 6.199999809265137}, {\"time\": \"2023-02-02T16:44:54\", \"deg\": 32.0, \"wspd\": 6.199999809265137}, {\"time\": \"2023-02-02T16:44:55\", \"deg\": 32.0, \"wspd\": 6.199999809265137}, {\"time\": \"2023-02-02T16:44:56\", \"deg\": 32.0, \"wspd\": 6.199999809265137}, {\"time\": \"2023-02-02T16:44:57\", \"deg\": 33.0, \"wspd\": 6.300000190734863}, {\"time\": \"2023-02-02T16:44:58\", \"deg\": 33.0, \"wspd\": 6.300000190734863}, {\"time\": \"2023-02-02T16:44:59\", \"deg\": 33.0, \"wspd\": 6.300000190734863}, {\"time\": \"2023-02-02T16:45:00\", \"deg\": 34.0, \"wspd\": 6.300000190734863}, {\"time\": \"2023-02-02T16:45:01\", \"deg\": 34.0, \"wspd\": 6.400000095367432}, {\"time\": \"2023-02-02T16:45:02\", \"deg\": 34.0, \"wspd\": 6.400000095367432}, {\"time\": \"2023-02-02T16:45:03\", \"deg\": 35.0, \"wspd\": 6.400000095367432}, {\"time\": \"2023-02-02T16:45:04\", \"deg\": 35.0, \"wspd\": 6.5}, {\"time\": \"2023-02-02T16:45:05\", \"deg\": 35.0, \"wspd\": 6.5}, {\"time\": \"2023-02-02T16:45:06\", \"deg\": 35.0, \"wspd\": 6.5}, {\"time\": \"2023-02-02T16:45:07\", \"deg\": 35.0, \"wspd\": 6.5}, {\"time\": \"2023-02-02T16:45:08\", \"deg\": 36.0, \"wspd\": 6.599999904632568}, {\"time\": \"2023-02-02T16:45:09\", \"deg\": 36.0, \"wspd\": 6.599999904632568}, {\"time\": \"2023-02-02T16:45:10\", \"deg\": 36.0, \"wspd\": 6.599999904632568}, {\"time\": \"2023-02-02T16:45:11\", \"deg\": 36.0, \"wspd\": 6.599999904632568}, {\"time\": \"2023-02-02T16:45:12\", \"deg\": 36.0, \"wspd\": 6.699999809265137}, {\"time\": \"2023-02-02T16:45:13\", \"deg\": 36.0, \"wspd\": 6.699999809265137}, {\"time\": \"2023-02-02T16:45:14\", \"deg\": 36.0, \"wspd\": 6.699999809265137}, {\"time\": \"2023-02-02T16:45:15\", \"deg\": 35.0, \"wspd\": 6.699999809265137}, {\"time\": \"2023-02-02T16:45:16\", \"deg\": 35.0, \"wspd\": 6.699999809265137}, {\"time\": \"2023-02-02T16:45:17\", \"deg\": 35.0, \"wspd\": 6.800000190734863}, {\"time\": \"2023-02-02T16:45:18\", \"deg\": 34.0, \"wspd\": 6.800000190734863}, {\"time\": \"2023-02-02T16:45:19\", \"deg\": 34.0, \"wspd\": 6.800000190734863}, {\"time\": \"2023-02-02T16:45:20\", \"deg\": 34.0, \"wspd\": 6.800000190734863}, {\"time\": \"2023-02-02T16:45:21\", \"deg\": 33.0, \"wspd\": 6.800000190734863}, {\"time\": \"2023-02-02T16:45:22\", \"deg\": 32.0, \"wspd\": 6.800000190734863}, {\"time\": \"2023-02-02T16:45:23\", \"deg\": 32.0, \"wspd\": 6.900000095367432}, {\"time\": \"2023-02-02T16:45:24\", \"deg\": 31.0, \"wspd\": 6.900000095367432}, {\"time\": \"2023-02-02T16:45:25\", \"deg\": 30.0, \"wspd\": 6.900000095367432}, {\"time\": \"2023-02-03T04:37:32\", \"deg\": 289.0, \"wspd\": 8.600000381469727}, {\"time\": \"2023-02-03T04:37:33\", \"deg\": 289.0, \"wspd\": 8.600000381469727}, {\"time\": \"2023-02-03T04:37:34\", \"deg\": 289.0, \"wspd\": 8.600000381469727}, {\"time\": \"2023-02-03T04:37:35\", \"deg\": 288.0, \"wspd\": 8.5}, {\"time\": \"2023-02-03T04:37:36\", \"deg\": 288.0, \"wspd\": 8.5}, {\"time\": \"2023-02-03T04:37:37\", \"deg\": 288.0, \"wspd\": 8.5}, {\"time\": \"2023-02-03T04:37:38\", \"deg\": 288.0, \"wspd\": 8.5}, {\"time\": \"2023-02-03T04:37:39\", \"deg\": 288.0, \"wspd\": 8.5}, {\"time\": \"2023-02-03T04:37:40\", \"deg\": 288.0, \"wspd\": 8.5}, {\"time\": \"2023-02-03T04:37:41\", \"deg\": 288.0, \"wspd\": 8.399999618530273}, {\"time\": \"2023-02-03T04:37:42\", \"deg\": 288.0, \"wspd\": 8.399999618530273}, {\"time\": \"2023-02-03T04:37:43\", \"deg\": 288.0, \"wspd\": 8.399999618530273}, {\"time\": \"2023-02-03T04:37:44\", \"deg\": 288.0, \"wspd\": 8.399999618530273}, {\"time\": \"2023-02-03T04:37:45\", \"deg\": 288.0, \"wspd\": 8.399999618530273}, {\"time\": \"2023-02-03T04:37:46\", \"deg\": 288.0, \"wspd\": 8.399999618530273}, {\"time\": \"2023-02-03T04:37:47\", \"deg\": 288.0, \"wspd\": 8.300000190734863}, {\"time\": \"2023-02-03T04:37:48\", \"deg\": 288.0, \"wspd\": 8.300000190734863}, {\"time\": \"2023-02-03T04:37:49\", \"deg\": 288.0, \"wspd\": 8.300000190734863}, {\"time\": \"2023-02-03T04:37:50\", \"deg\": 288.0, \"wspd\": 8.300000190734863}, {\"time\": \"2023-02-03T04:37:51\", \"deg\": 288.0, \"wspd\": 8.300000190734863}, {\"time\": \"2023-02-03T04:37:52\", \"deg\": 288.0, \"wspd\": 8.300000190734863}, {\"time\": \"2023-02-03T04:37:53\", \"deg\": 289.0, \"wspd\": 8.300000190734863}, {\"time\": \"2023-02-03T04:37:54\", \"deg\": 289.0, \"wspd\": 8.199999809265137}, {\"time\": \"2023-02-03T04:37:55\", \"deg\": 289.0, \"wspd\": 8.199999809265137}, {\"time\": \"2023-02-03T04:37:56\", \"deg\": 289.0, \"wspd\": 8.199999809265137}, {\"time\": \"2023-02-03T04:37:57\", \"deg\": 289.0, \"wspd\": 8.199999809265137}, {\"time\": \"2023-02-03T04:37:58\", \"deg\": 289.0, \"wspd\": 8.199999809265137}, {\"time\": \"2023-02-03T04:37:59\", \"deg\": 289.0, \"wspd\": 8.199999809265137}, {\"time\": \"2023-02-03T04:38:00\", \"deg\": 289.0, \"wspd\": 8.100000381469727}, {\"time\": \"2023-02-03T04:38:01\", \"deg\": 289.0, \"wspd\": 8.100000381469727}, {\"time\": \"2023-02-03T04:38:02\", \"deg\": 289.0, \"wspd\": 8.100000381469727}, {\"time\": \"2023-02-03T04:38:03\", \"deg\": 289.0, \"wspd\": 8.100000381469727}, {\"time\": \"2023-02-03T04:38:04\", \"deg\": 289.0, \"wspd\": 8.0}, {\"time\": \"2023-02-03T04:38:05\", \"deg\": 289.0, \"wspd\": 8.0}, {\"time\": \"2023-02-03T04:38:06\", \"deg\": 289.0, \"wspd\": 8.0}, {\"time\": \"2023-02-03T04:38:07\", \"deg\": 289.0, \"wspd\": 7.900000095367432}, {\"time\": \"2023-02-03T04:38:08\", \"deg\": 289.0, \"wspd\": 7.900000095367432}, {\"time\": \"2023-02-03T04:38:09\", \"deg\": 289.0, \"wspd\": 7.900000095367432}, {\"time\": \"2023-02-03T04:38:10\", \"deg\": 289.0, \"wspd\": 7.800000190734863}, {\"time\": \"2023-02-03T04:38:11\", \"deg\": 289.0, \"wspd\": 7.800000190734863}, {\"time\": \"2023-02-03T04:38:12\", \"deg\": 289.0, \"wspd\": 7.800000190734863}, {\"time\": \"2023-02-03T04:38:13\", \"deg\": 290.0, \"wspd\": 7.699999809265137}, {\"time\": \"2023-02-03T04:38:14\", \"deg\": 290.0, \"wspd\": 7.699999809265137}, {\"time\": \"2023-02-03T04:38:15\", \"deg\": 290.0, \"wspd\": 7.699999809265137}, {\"time\": \"2023-02-03T04:38:16\", \"deg\": 290.0, \"wspd\": 7.599999904632568}, {\"time\": \"2023-02-03T04:38:17\", \"deg\": 290.0, \"wspd\": 7.599999904632568}, {\"time\": \"2023-02-03T04:38:18\", \"deg\": 291.0, \"wspd\": 7.599999904632568}, {\"time\": \"2023-02-03T04:38:19\", \"deg\": 291.0, \"wspd\": 7.5}, {\"time\": \"2023-02-03T04:38:20\", \"deg\": 291.0, \"wspd\": 7.5}, {\"time\": \"2023-02-03T04:38:21\", \"deg\": 291.0, \"wspd\": 7.5}, {\"time\": \"2023-02-03T04:38:22\", \"deg\": 292.0, \"wspd\": 7.5}, {\"time\": \"2023-02-03T04:38:23\", \"deg\": 292.0, \"wspd\": 7.400000095367432}, {\"time\": \"2023-02-03T04:38:24\", \"deg\": 292.0, \"wspd\": 7.400000095367432}, {\"time\": \"2023-02-03T04:38:25\", \"deg\": 293.0, \"wspd\": 7.400000095367432}, {\"time\": \"2023-02-03T04:38:26\", \"deg\": 293.0, \"wspd\": 7.400000095367432}, {\"time\": \"2023-02-03T04:38:27\", \"deg\": 294.0, \"wspd\": 7.400000095367432}, {\"time\": \"2023-02-03T04:38:28\", \"deg\": 294.0, \"wspd\": 7.400000095367432}, {\"time\": \"2023-02-03T04:38:29\", \"deg\": 294.0, \"wspd\": 7.400000095367432}, {\"time\": \"2023-02-03T04:38:30\", \"deg\": 295.0, \"wspd\": 7.400000095367432}, {\"time\": \"2023-02-03T04:38:31\", \"deg\": 295.0, \"wspd\": 7.400000095367432}, {\"time\": \"2023-02-03T04:38:32\", \"deg\": 296.0, \"wspd\": 7.400000095367432}, {\"time\": \"2023-02-03T04:38:33\", \"deg\": 296.0, \"wspd\": 7.400000095367432}, {\"time\": \"2023-02-03T04:38:34\", \"deg\": 296.0, \"wspd\": 7.400000095367432}, {\"time\": \"2023-02-03T04:38:35\", \"deg\": 297.0, \"wspd\": 7.400000095367432}, {\"time\": \"2023-02-03T04:38:36\", \"deg\": 297.0, \"wspd\": 7.400000095367432}, {\"time\": \"2023-02-03T04:38:37\", \"deg\": 297.0, \"wspd\": 7.400000095367432}, {\"time\": \"2023-02-03T04:38:38\", \"deg\": 298.0, \"wspd\": 7.400000095367432}, {\"time\": \"2023-02-03T04:38:39\", \"deg\": 298.0, \"wspd\": 7.5}, {\"time\": \"2023-02-03T04:38:40\", \"deg\": 298.0, \"wspd\": 7.5}, {\"time\": \"2023-02-03T04:38:41\", \"deg\": 298.0, \"wspd\": 7.5}, {\"time\": \"2023-02-03T04:38:42\", \"deg\": 299.0, \"wspd\": 7.5}, {\"time\": \"2023-02-03T04:38:43\", \"deg\": 299.0, \"wspd\": 7.5}, {\"time\": \"2023-02-03T04:38:44\", \"deg\": 299.0, \"wspd\": 7.5}, {\"time\": \"2023-02-03T04:38:45\", \"deg\": 299.0, \"wspd\": 7.5}, {\"time\": \"2023-02-03T04:38:46\", \"deg\": 299.0, \"wspd\": 7.5}, {\"time\": \"2023-02-03T04:38:47\", \"deg\": 300.0, \"wspd\": 7.5}, {\"time\": \"2023-02-03T04:38:48\", \"deg\": 300.0, \"wspd\": 7.5}, {\"time\": \"2023-02-03T04:38:49\", \"deg\": 300.0, \"wspd\": 7.5}, {\"time\": \"2023-02-03T04:38:50\", \"deg\": 300.0, \"wspd\": 7.5}, {\"time\": \"2023-02-03T04:38:51\", \"deg\": 301.0, \"wspd\": 7.5}, {\"time\": \"2023-02-03T04:38:52\", \"deg\": 301.0, \"wspd\": 7.400000095367432}, {\"time\": \"2023-02-03T04:38:53\", \"deg\": 301.0, \"wspd\": 7.400000095367432}, {\"time\": \"2023-02-03T04:38:54\", \"deg\": 302.0, \"wspd\": 7.400000095367432}, {\"time\": \"2023-02-03T04:38:55\", \"deg\": 302.0, \"wspd\": 7.400000095367432}, {\"time\": \"2023-02-03T04:38:56\", \"deg\": 303.0, \"wspd\": 7.300000190734863}, {\"time\": \"2023-02-03T04:38:57\", \"deg\": 303.0, \"wspd\": 7.300000190734863}, {\"time\": \"2023-02-03T04:38:58\", \"deg\": 303.0, \"wspd\": 7.199999809265137}, {\"time\": \"2023-02-03T04:38:59\", \"deg\": 304.0, \"wspd\": 7.199999809265137}, {\"time\": \"2023-02-03T04:39:00\", \"deg\": 304.0, \"wspd\": 7.199999809265137}, {\"time\": \"2023-02-03T04:39:01\", \"deg\": 305.0, \"wspd\": 7.099999904632568}, {\"time\": \"2023-02-03T04:39:02\", \"deg\": 305.0, \"wspd\": 7.099999904632568}, {\"time\": \"2023-02-03T04:39:03\", \"deg\": 306.0, \"wspd\": 7.0}, {\"time\": \"2023-02-03T04:39:04\", \"deg\": 306.0, \"wspd\": 7.0}, {\"time\": \"2023-02-03T04:39:05\", \"deg\": 307.0, \"wspd\": 6.900000095367432}, {\"time\": \"2023-02-03T04:39:06\", \"deg\": 308.0, \"wspd\": 6.900000095367432}, {\"time\": \"2023-02-03T04:39:07\", \"deg\": 308.0, \"wspd\": 6.800000190734863}, {\"time\": \"2023-02-03T04:39:08\", \"deg\": 309.0, \"wspd\": 6.800000190734863}, {\"time\": \"2023-02-03T04:39:09\", \"deg\": 309.0, \"wspd\": 6.699999809265137}, {\"time\": \"2023-02-03T04:39:10\", \"deg\": 310.0, \"wspd\": 6.699999809265137}, {\"time\": \"2023-02-03T04:39:11\", \"deg\": 310.0, \"wspd\": 6.599999904632568}, {\"time\": \"2023-02-03T04:39:12\", \"deg\": 310.0, \"wspd\": 6.599999904632568}, {\"time\": \"2023-02-03T04:39:13\", \"deg\": 311.0, \"wspd\": 6.599999904632568}, {\"time\": \"2023-02-03T04:39:14\", \"deg\": 311.0, \"wspd\": 6.5}, {\"time\": \"2023-02-03T04:39:15\", \"deg\": 312.0, \"wspd\": 6.5}, {\"time\": \"2023-02-03T04:39:16\", \"deg\": 312.0, \"wspd\": 6.400000095367432}, {\"time\": \"2023-02-03T04:39:17\", \"deg\": 312.0, \"wspd\": 6.400000095367432}, {\"time\": \"2023-02-03T04:39:18\", \"deg\": 312.0, \"wspd\": 6.400000095367432}, {\"time\": \"2023-02-03T04:39:19\", \"deg\": 313.0, \"wspd\": 6.300000190734863}, {\"time\": \"2023-02-03T04:39:20\", \"deg\": 313.0, \"wspd\": 6.300000190734863}, {\"time\": \"2023-02-03T04:39:21\", \"deg\": 313.0, \"wspd\": 6.300000190734863}, {\"time\": \"2023-02-03T04:39:22\", \"deg\": 313.0, \"wspd\": 6.199999809265137}, {\"time\": \"2023-02-03T04:39:23\", \"deg\": 314.0, \"wspd\": 6.199999809265137}, {\"time\": \"2023-02-03T04:39:24\", \"deg\": 314.0, \"wspd\": 6.199999809265137}, {\"time\": \"2023-02-03T04:39:25\", \"deg\": 314.0, \"wspd\": 6.199999809265137}, {\"time\": \"2023-02-03T04:39:26\", \"deg\": 314.0, \"wspd\": 6.199999809265137}, {\"time\": \"2023-02-03T04:39:27\", \"deg\": 314.0, \"wspd\": 6.099999904632568}, {\"time\": \"2023-02-03T04:39:28\", \"deg\": 315.0, \"wspd\": 6.099999904632568}, {\"time\": \"2023-02-03T04:39:29\", \"deg\": 315.0, \"wspd\": 6.099999904632568}, {\"time\": \"2023-02-03T04:39:30\", \"deg\": 315.0, \"wspd\": 6.099999904632568}, {\"time\": \"2023-02-03T04:39:31\", \"deg\": 315.0, \"wspd\": 6.099999904632568}, {\"time\": \"2023-02-03T04:39:32\", \"deg\": 315.0, \"wspd\": 6.099999904632568}, {\"time\": \"2023-02-03T04:39:33\", \"deg\": 316.0, \"wspd\": 6.099999904632568}, {\"time\": \"2023-02-03T04:39:34\", \"deg\": 316.0, \"wspd\": 6.099999904632568}, {\"time\": \"2023-02-03T04:39:35\", \"deg\": 316.0, \"wspd\": 6.099999904632568}, {\"time\": \"2023-02-03T04:39:36\", \"deg\": 316.0, \"wspd\": 6.099999904632568}, {\"time\": \"2023-02-03T04:39:37\", \"deg\": 316.0, \"wspd\": 6.099999904632568}, {\"time\": \"2023-02-03T04:39:38\", \"deg\": 317.0, \"wspd\": 6.099999904632568}, {\"time\": \"2023-02-03T04:39:39\", \"deg\": 317.0, \"wspd\": 6.099999904632568}, {\"time\": \"2023-02-03T04:39:40\", \"deg\": 317.0, \"wspd\": 6.099999904632568}, {\"time\": \"2023-02-03T04:39:41\", \"deg\": 317.0, \"wspd\": 6.099999904632568}, {\"time\": \"2023-02-03T04:39:42\", \"deg\": 317.0, \"wspd\": 6.099999904632568}, {\"time\": \"2023-02-03T04:39:43\", \"deg\": 317.0, \"wspd\": 6.099999904632568}, {\"time\": \"2023-02-03T04:39:44\", \"deg\": 318.0, \"wspd\": 6.099999904632568}, {\"time\": \"2023-02-03T04:39:45\", \"deg\": 318.0, \"wspd\": 6.0}, {\"time\": \"2023-02-03T04:39:46\", \"deg\": 318.0, \"wspd\": 6.0}, {\"time\": \"2023-02-03T04:39:47\", \"deg\": 318.0, \"wspd\": 6.0}, {\"time\": \"2023-02-03T04:39:48\", \"deg\": 318.0, \"wspd\": 6.0}, {\"time\": \"2023-02-03T04:39:49\", \"deg\": 318.0, \"wspd\": 6.0}, {\"time\": \"2023-02-03T04:39:50\", \"deg\": 318.0, \"wspd\": 6.0}, {\"time\": \"2023-02-03T04:39:51\", \"deg\": 318.0, \"wspd\": 5.900000095367432}, {\"time\": \"2023-02-03T04:39:52\", \"deg\": 318.0, \"wspd\": 5.900000095367432}, {\"time\": \"2023-02-03T04:39:53\", \"deg\": 318.0, \"wspd\": 5.900000095367432}, {\"time\": \"2023-02-03T16:35:42\", \"deg\": 247.0, \"wspd\": 12.5}, {\"time\": \"2023-02-03T16:35:43\", \"deg\": 247.0, \"wspd\": 12.5}, {\"time\": \"2023-02-03T16:35:44\", \"deg\": 247.0, \"wspd\": 12.5}, {\"time\": \"2023-02-03T16:35:45\", \"deg\": 247.0, \"wspd\": 12.5}, {\"time\": \"2023-02-03T16:35:46\", \"deg\": 247.0, \"wspd\": 12.5}, {\"time\": \"2023-02-03T16:35:47\", \"deg\": 247.0, \"wspd\": 12.5}, {\"time\": \"2023-02-03T16:35:48\", \"deg\": 247.0, \"wspd\": 12.5}, {\"time\": \"2023-02-03T16:35:49\", \"deg\": 247.0, \"wspd\": 12.399999618530273}, {\"time\": \"2023-02-03T16:35:50\", \"deg\": 247.0, \"wspd\": 12.399999618530273}, {\"time\": \"2023-02-03T16:35:51\", \"deg\": 247.0, \"wspd\": 12.399999618530273}, {\"time\": \"2023-02-03T16:35:52\", \"deg\": 247.0, \"wspd\": 12.399999618530273}, {\"time\": \"2023-02-03T16:35:53\", \"deg\": 247.0, \"wspd\": 12.399999618530273}, {\"time\": \"2023-02-03T16:35:54\", \"deg\": 247.0, \"wspd\": 12.399999618530273}, {\"time\": \"2023-02-03T16:35:55\", \"deg\": 247.0, \"wspd\": 12.399999618530273}, {\"time\": \"2023-02-03T16:35:56\", \"deg\": 247.0, \"wspd\": 12.5}, {\"time\": \"2023-02-03T16:35:57\", \"deg\": 247.0, \"wspd\": 12.5}, {\"time\": \"2023-02-03T16:35:58\", \"deg\": 247.0, \"wspd\": 12.5}, {\"time\": \"2023-02-03T16:35:59\", \"deg\": 247.0, \"wspd\": 12.5}, {\"time\": \"2023-02-03T16:36:00\", \"deg\": 247.0, \"wspd\": 12.5}, {\"time\": \"2023-02-03T16:36:01\", \"deg\": 247.0, \"wspd\": 12.5}, {\"time\": \"2023-02-03T16:36:02\", \"deg\": 247.0, \"wspd\": 12.5}, {\"time\": \"2023-02-03T16:36:03\", \"deg\": 247.0, \"wspd\": 12.600000381469727}, {\"time\": \"2023-02-03T16:36:04\", \"deg\": 247.0, \"wspd\": 12.600000381469727}, {\"time\": \"2023-02-03T16:36:05\", \"deg\": 247.0, \"wspd\": 12.600000381469727}, {\"time\": \"2023-02-03T16:36:06\", \"deg\": 247.0, \"wspd\": 12.600000381469727}, {\"time\": \"2023-02-03T16:36:07\", \"deg\": 247.0, \"wspd\": 12.699999809265137}, {\"time\": \"2023-02-03T16:36:08\", \"deg\": 247.0, \"wspd\": 12.699999809265137}, {\"time\": \"2023-02-03T16:36:09\", \"deg\": 247.0, \"wspd\": 12.699999809265137}, {\"time\": \"2023-02-03T16:36:10\", \"deg\": 247.0, \"wspd\": 12.699999809265137}, {\"time\": \"2023-02-03T16:36:11\", \"deg\": 247.0, \"wspd\": 12.800000190734863}, {\"time\": \"2023-02-03T16:36:12\", \"deg\": 247.0, \"wspd\": 12.800000190734863}, {\"time\": \"2023-02-03T16:36:13\", \"deg\": 247.0, \"wspd\": 12.800000190734863}, {\"time\": \"2023-02-03T16:36:14\", \"deg\": 247.0, \"wspd\": 12.800000190734863}, {\"time\": \"2023-02-03T16:36:15\", \"deg\": 247.0, \"wspd\": 12.899999618530273}, {\"time\": \"2023-02-03T16:36:16\", \"deg\": 247.0, \"wspd\": 12.899999618530273}, {\"time\": \"2023-02-03T16:36:17\", \"deg\": 246.0, \"wspd\": 12.899999618530273}, {\"time\": \"2023-02-03T16:36:18\", \"deg\": 246.0, \"wspd\": 12.899999618530273}, {\"time\": \"2023-02-03T16:36:19\", \"deg\": 246.0, \"wspd\": 12.899999618530273}, {\"time\": \"2023-02-03T16:36:20\", \"deg\": 246.0, \"wspd\": 13.0}, {\"time\": \"2023-02-03T16:36:21\", \"deg\": 246.0, \"wspd\": 13.0}, {\"time\": \"2023-02-03T16:36:22\", \"deg\": 246.0, \"wspd\": 13.0}, {\"time\": \"2023-02-03T16:36:23\", \"deg\": 246.0, \"wspd\": 13.0}, {\"time\": \"2023-02-03T16:36:24\", \"deg\": 246.0, \"wspd\": 13.0}, {\"time\": \"2023-02-03T16:36:25\", \"deg\": 246.0, \"wspd\": 13.0}, {\"time\": \"2023-02-03T16:36:26\", \"deg\": 246.0, \"wspd\": 13.0}, {\"time\": \"2023-02-03T16:36:27\", \"deg\": 246.0, \"wspd\": 13.0}, {\"time\": \"2023-02-03T16:36:28\", \"deg\": 246.0, \"wspd\": 13.0}, {\"time\": \"2023-02-03T16:36:29\", \"deg\": 246.0, \"wspd\": 13.0}, {\"time\": \"2023-02-03T16:36:30\", \"deg\": 245.0, \"wspd\": 13.0}, {\"time\": \"2023-02-03T16:36:31\", \"deg\": 245.0, \"wspd\": 13.0}, {\"time\": \"2023-02-03T16:36:32\", \"deg\": 245.0, \"wspd\": 13.0}, {\"time\": \"2023-02-03T16:36:33\", \"deg\": 245.0, \"wspd\": 13.0}, {\"time\": \"2023-02-03T16:36:34\", \"deg\": 245.0, \"wspd\": 13.0}, {\"time\": \"2023-02-03T16:36:35\", \"deg\": 245.0, \"wspd\": 13.0}, {\"time\": \"2023-02-03T16:36:36\", \"deg\": 245.0, \"wspd\": 13.0}, {\"time\": \"2023-02-03T16:36:37\", \"deg\": 244.0, \"wspd\": 13.0}, {\"time\": \"2023-02-03T16:36:38\", \"deg\": 244.0, \"wspd\": 13.0}, {\"time\": \"2023-02-03T16:36:39\", \"deg\": 244.0, \"wspd\": 13.0}, {\"time\": \"2023-02-03T16:36:40\", \"deg\": 244.0, \"wspd\": 13.0}, {\"time\": \"2023-02-03T16:36:41\", \"deg\": 244.0, \"wspd\": 13.0}, {\"time\": \"2023-02-03T16:36:42\", \"deg\": 243.0, \"wspd\": 12.899999618530273}, {\"time\": \"2023-02-03T16:36:43\", \"deg\": 243.0, \"wspd\": 12.899999618530273}, {\"time\": \"2023-02-03T16:36:44\", \"deg\": 243.0, \"wspd\": 12.899999618530273}, {\"time\": \"2023-02-03T16:36:45\", \"deg\": 242.0, \"wspd\": 12.899999618530273}, {\"time\": \"2023-02-03T16:36:46\", \"deg\": 242.0, \"wspd\": 12.800000190734863}, {\"time\": \"2023-02-03T16:36:47\", \"deg\": 242.0, \"wspd\": 12.800000190734863}, {\"time\": \"2023-02-03T16:36:48\", \"deg\": 241.0, \"wspd\": 12.800000190734863}, {\"time\": \"2023-02-03T16:36:49\", \"deg\": 241.0, \"wspd\": 12.800000190734863}, {\"time\": \"2023-02-03T16:36:50\", \"deg\": 241.0, \"wspd\": 12.699999809265137}, {\"time\": \"2023-02-03T16:36:51\", \"deg\": 240.0, \"wspd\": 12.699999809265137}, {\"time\": \"2023-02-03T16:36:52\", \"deg\": 240.0, \"wspd\": 12.699999809265137}, {\"time\": \"2023-02-03T16:36:53\", \"deg\": 240.0, \"wspd\": 12.699999809265137}, {\"time\": \"2023-02-03T16:36:54\", \"deg\": 239.0, \"wspd\": 12.699999809265137}, {\"time\": \"2023-02-03T16:36:55\", \"deg\": 239.0, \"wspd\": 12.699999809265137}, {\"time\": \"2023-02-03T16:36:56\", \"deg\": 239.0, \"wspd\": 12.600000381469727}, {\"time\": \"2023-02-03T16:36:57\", \"deg\": 239.0, \"wspd\": 12.600000381469727}, {\"time\": \"2023-02-03T16:36:58\", \"deg\": 238.0, \"wspd\": 12.600000381469727}, {\"time\": \"2023-02-03T16:36:59\", \"deg\": 238.0, \"wspd\": 12.600000381469727}, {\"time\": \"2023-02-03T16:37:00\", \"deg\": 238.0, \"wspd\": 12.600000381469727}, {\"time\": \"2023-02-03T16:37:01\", \"deg\": 238.0, \"wspd\": 12.699999809265137}, {\"time\": \"2023-02-03T16:37:02\", \"deg\": 238.0, \"wspd\": 12.699999809265137}, {\"time\": \"2023-02-03T16:37:03\", \"deg\": 238.0, \"wspd\": 12.699999809265137}, {\"time\": \"2023-02-03T16:37:04\", \"deg\": 238.0, \"wspd\": 12.699999809265137}, {\"time\": \"2023-02-03T16:37:05\", \"deg\": 238.0, \"wspd\": 12.699999809265137}, {\"time\": \"2023-02-03T16:37:06\", \"deg\": 238.0, \"wspd\": 12.800000190734863}, {\"time\": \"2023-02-03T16:37:07\", \"deg\": 238.0, \"wspd\": 12.800000190734863}, {\"time\": \"2023-02-03T16:37:08\", \"deg\": 238.0, \"wspd\": 12.800000190734863}, {\"time\": \"2023-02-03T16:37:09\", \"deg\": 238.0, \"wspd\": 12.800000190734863}, {\"time\": \"2023-02-03T16:37:10\", \"deg\": 238.0, \"wspd\": 12.899999618530273}, {\"time\": \"2023-02-03T16:37:11\", \"deg\": 238.0, \"wspd\": 12.899999618530273}, {\"time\": \"2023-02-03T16:37:12\", \"deg\": 239.0, \"wspd\": 12.899999618530273}, {\"time\": \"2023-02-03T16:37:13\", \"deg\": 239.0, \"wspd\": 13.0}, {\"time\": \"2023-02-03T16:37:14\", \"deg\": 239.0, \"wspd\": 13.0}, {\"time\": \"2023-02-03T16:37:15\", \"deg\": 239.0, \"wspd\": 13.0}, {\"time\": \"2023-02-03T16:37:16\", \"deg\": 239.0, \"wspd\": 13.0}, {\"time\": \"2023-02-03T16:37:17\", \"deg\": 239.0, \"wspd\": 13.100000381469727}, {\"time\": \"2023-02-03T16:37:18\", \"deg\": 239.0, \"wspd\": 13.100000381469727}, {\"time\": \"2023-02-03T16:37:19\", \"deg\": 240.0, \"wspd\": 13.100000381469727}, {\"time\": \"2023-02-03T16:37:20\", \"deg\": 240.0, \"wspd\": 13.100000381469727}, {\"time\": \"2023-02-03T16:37:21\", \"deg\": 240.0, \"wspd\": 13.100000381469727}, {\"time\": \"2023-02-03T16:37:22\", \"deg\": 240.0, \"wspd\": 13.100000381469727}, {\"time\": \"2023-02-03T16:37:23\", \"deg\": 240.0, \"wspd\": 13.100000381469727}, {\"time\": \"2023-02-03T16:37:24\", \"deg\": 240.0, \"wspd\": 13.100000381469727}, {\"time\": \"2023-02-03T16:37:25\", \"deg\": 240.0, \"wspd\": 13.100000381469727}, {\"time\": \"2023-02-03T16:37:26\", \"deg\": 240.0, \"wspd\": 13.100000381469727}, {\"time\": \"2023-02-03T16:37:27\", \"deg\": 240.0, \"wspd\": 13.100000381469727}, {\"time\": \"2023-02-03T16:37:28\", \"deg\": 240.0, \"wspd\": 13.100000381469727}, {\"time\": \"2023-02-03T16:37:29\", \"deg\": 240.0, \"wspd\": 13.100000381469727}, {\"time\": \"2023-02-03T16:37:30\", \"deg\": 240.0, \"wspd\": 13.100000381469727}, {\"time\": \"2023-02-03T16:37:31\", \"deg\": 240.0, \"wspd\": 13.100000381469727}, {\"time\": \"2023-02-03T16:37:32\", \"deg\": 240.0, \"wspd\": 13.100000381469727}, {\"time\": \"2023-02-03T16:37:33\", \"deg\": 240.0, \"wspd\": 13.100000381469727}, {\"time\": \"2023-02-03T16:37:34\", \"deg\": 240.0, \"wspd\": 13.100000381469727}, {\"time\": \"2023-02-03T16:37:35\", \"deg\": 240.0, \"wspd\": 13.100000381469727}, {\"time\": \"2023-02-03T16:37:36\", \"deg\": 240.0, \"wspd\": 13.0}, {\"time\": \"2023-02-03T16:37:37\", \"deg\": 240.0, \"wspd\": 13.0}, {\"time\": \"2023-02-03T16:37:38\", \"deg\": 240.0, \"wspd\": 13.0}, {\"time\": \"2023-02-03T16:37:39\", \"deg\": 240.0, \"wspd\": 13.0}, {\"time\": \"2023-02-03T16:37:40\", \"deg\": 240.0, \"wspd\": 13.0}, {\"time\": \"2023-02-03T16:37:41\", \"deg\": 240.0, \"wspd\": 13.0}, {\"time\": \"2023-02-03T16:37:42\", \"deg\": 240.0, \"wspd\": 13.100000381469727}, {\"time\": \"2023-02-03T16:37:43\", \"deg\": 240.0, \"wspd\": 13.100000381469727}, {\"time\": \"2023-02-03T16:37:44\", \"deg\": 240.0, \"wspd\": 13.100000381469727}, {\"time\": \"2023-02-03T16:37:45\", \"deg\": 240.0, \"wspd\": 13.100000381469727}, {\"time\": \"2023-02-03T16:37:46\", \"deg\": 240.0, \"wspd\": 13.100000381469727}, {\"time\": \"2023-02-03T16:37:47\", \"deg\": 240.0, \"wspd\": 13.100000381469727}, {\"time\": \"2023-02-03T16:37:48\", \"deg\": 240.0, \"wspd\": 13.199999809265137}, {\"time\": \"2023-02-03T16:37:49\", \"deg\": 240.0, \"wspd\": 13.199999809265137}, {\"time\": \"2023-02-03T16:37:50\", \"deg\": 240.0, \"wspd\": 13.199999809265137}, {\"time\": \"2023-02-03T16:37:51\", \"deg\": 239.0, \"wspd\": 13.300000190734863}, {\"time\": \"2023-02-03T16:37:52\", \"deg\": 239.0, \"wspd\": 13.300000190734863}, {\"time\": \"2023-02-03T16:37:53\", \"deg\": 239.0, \"wspd\": 13.300000190734863}, {\"time\": \"2023-02-03T16:37:54\", \"deg\": 239.0, \"wspd\": 13.399999618530273}, {\"time\": \"2023-02-03T16:37:55\", \"deg\": 239.0, \"wspd\": 13.399999618530273}, {\"time\": \"2023-02-03T16:37:56\", \"deg\": 239.0, \"wspd\": 13.399999618530273}, {\"time\": \"2023-02-03T16:37:57\", \"deg\": 239.0, \"wspd\": 13.5}, {\"time\": \"2023-02-03T16:37:58\", \"deg\": 240.0, \"wspd\": 13.5}, {\"time\": \"2023-02-03T16:37:59\", \"deg\": 240.0, \"wspd\": 13.600000381469727}, {\"time\": \"2023-02-03T16:38:00\", \"deg\": 240.0, \"wspd\": 13.600000381469727}, {\"time\": \"2023-02-03T16:38:01\", \"deg\": 240.0, \"wspd\": 13.600000381469727}, {\"time\": \"2023-02-03T16:38:02\", \"deg\": 240.0, \"wspd\": 13.699999809265137}, {\"time\": \"2023-02-03T16:38:03\", \"deg\": 240.0, \"wspd\": 13.699999809265137}, {\"time\": \"2023-02-03T16:38:04\", \"deg\": 240.0, \"wspd\": 13.699999809265137}, {\"time\": \"2023-02-03T16:38:05\", \"deg\": 240.0, \"wspd\": 13.699999809265137}, {\"time\": \"2023-02-03T16:38:06\", \"deg\": 240.0, \"wspd\": 13.699999809265137}, {\"time\": \"2023-02-03T16:38:07\", \"deg\": 241.0, \"wspd\": 13.800000190734863}, {\"time\": \"2023-02-03T16:38:08\", \"deg\": 241.0, \"wspd\": 13.800000190734863}, {\"time\": \"2023-02-03T16:38:09\", \"deg\": 241.0, \"wspd\": 13.800000190734863}, {\"time\": \"2023-02-03T16:38:10\", \"deg\": 241.0, \"wspd\": 13.800000190734863}, {\"time\": \"2023-02-03T16:38:11\", \"deg\": 241.0, \"wspd\": 13.800000190734863}, {\"time\": \"2023-02-03T16:38:12\", \"deg\": 242.0, \"wspd\": 13.800000190734863}, {\"time\": \"2023-02-03T16:38:13\", \"deg\": 242.0, \"wspd\": 13.800000190734863}, {\"time\": \"2023-02-03T16:38:14\", \"deg\": 242.0, \"wspd\": 13.699999809265137}, {\"time\": \"2023-02-03T16:38:15\", \"deg\": 242.0, \"wspd\": 13.699999809265137}, {\"time\": \"2023-02-03T16:38:16\", \"deg\": 243.0, \"wspd\": 13.699999809265137}, {\"time\": \"2023-02-03T16:38:17\", \"deg\": 243.0, \"wspd\": 13.699999809265137}, {\"time\": \"2023-02-03T16:38:18\", \"deg\": 243.0, \"wspd\": 13.699999809265137}, {\"time\": \"2023-02-03T16:38:19\", \"deg\": 243.0, \"wspd\": 13.699999809265137}, {\"time\": \"2023-02-03T16:38:20\", \"deg\": 244.0, \"wspd\": 13.600000381469727}, {\"time\": \"2023-02-03T16:38:21\", \"deg\": 244.0, \"wspd\": 13.600000381469727}, {\"time\": \"2023-02-03T16:38:22\", \"deg\": 244.0, \"wspd\": 13.600000381469727}, {\"time\": \"2023-02-04T04:37:18\", \"deg\": 276.0, \"wspd\": 20.0}, {\"time\": \"2023-02-04T04:37:19\", \"deg\": 276.0, \"wspd\": 20.0}, {\"time\": \"2023-02-04T04:37:20\", \"deg\": 276.0, \"wspd\": 20.0}, {\"time\": \"2023-02-04T04:37:21\", \"deg\": 276.0, \"wspd\": 20.0}, {\"time\": \"2023-02-04T04:37:22\", \"deg\": 276.0, \"wspd\": 20.0}, {\"time\": \"2023-02-04T04:37:23\", \"deg\": 276.0, \"wspd\": 19.899999618530273}, {\"time\": \"2023-02-04T04:37:24\", \"deg\": 276.0, \"wspd\": 19.899999618530273}, {\"time\": \"2023-02-04T04:37:25\", \"deg\": 276.0, \"wspd\": 19.899999618530273}, {\"time\": \"2023-02-04T04:37:26\", \"deg\": 276.0, \"wspd\": 19.899999618530273}, {\"time\": \"2023-02-04T04:37:27\", \"deg\": 276.0, \"wspd\": 19.899999618530273}, {\"time\": \"2023-02-04T04:37:28\", \"deg\": 276.0, \"wspd\": 19.899999618530273}, {\"time\": \"2023-02-04T04:37:29\", \"deg\": 276.0, \"wspd\": 19.799999237060547}, {\"time\": \"2023-02-04T04:37:30\", \"deg\": 276.0, \"wspd\": 19.799999237060547}, {\"time\": \"2023-02-04T04:37:31\", \"deg\": 276.0, \"wspd\": 19.799999237060547}, {\"time\": \"2023-02-04T04:37:32\", \"deg\": 276.0, \"wspd\": 19.799999237060547}, {\"time\": \"2023-02-04T04:37:33\", \"deg\": 276.0, \"wspd\": 19.700000762939453}, {\"time\": \"2023-02-04T04:37:34\", \"deg\": 276.0, \"wspd\": 19.700000762939453}, {\"time\": \"2023-02-04T04:37:35\", \"deg\": 276.0, \"wspd\": 19.700000762939453}, {\"time\": \"2023-02-04T04:37:36\", \"deg\": 276.0, \"wspd\": 19.600000381469727}, {\"time\": \"2023-02-04T04:37:37\", \"deg\": 276.0, \"wspd\": 19.600000381469727}, {\"time\": \"2023-02-04T04:37:38\", \"deg\": 276.0, \"wspd\": 19.5}, {\"time\": \"2023-02-04T04:37:39\", \"deg\": 276.0, \"wspd\": 19.5}, {\"time\": \"2023-02-04T04:37:40\", \"deg\": 276.0, \"wspd\": 19.5}, {\"time\": \"2023-02-04T04:37:41\", \"deg\": 275.0, \"wspd\": 19.399999618530273}, {\"time\": \"2023-02-04T04:37:42\", \"deg\": 275.0, \"wspd\": 19.399999618530273}, {\"time\": \"2023-02-04T04:37:43\", \"deg\": 275.0, \"wspd\": 19.299999237060547}, {\"time\": \"2023-02-04T04:37:44\", \"deg\": 275.0, \"wspd\": 19.299999237060547}, {\"time\": \"2023-02-04T04:37:45\", \"deg\": 275.0, \"wspd\": 19.200000762939453}, {\"time\": \"2023-02-04T04:37:46\", \"deg\": 275.0, \"wspd\": 19.200000762939453}, {\"time\": \"2023-02-04T04:37:47\", \"deg\": 275.0, \"wspd\": 19.100000381469727}, {\"time\": \"2023-02-04T04:37:48\", \"deg\": 275.0, \"wspd\": 19.100000381469727}, {\"time\": \"2023-02-04T04:37:49\", \"deg\": 275.0, \"wspd\": 19.0}, {\"time\": \"2023-02-04T04:37:50\", \"deg\": 275.0, \"wspd\": 19.0}, {\"time\": \"2023-02-04T04:37:51\", \"deg\": 275.0, \"wspd\": 19.0}, {\"time\": \"2023-02-04T04:37:52\", \"deg\": 275.0, \"wspd\": 18.899999618530273}, {\"time\": \"2023-02-04T04:37:53\", \"deg\": 275.0, \"wspd\": 18.899999618530273}, {\"time\": \"2023-02-04T04:37:54\", \"deg\": 275.0, \"wspd\": 18.799999237060547}, {\"time\": \"2023-02-04T04:37:55\", \"deg\": 275.0, \"wspd\": 18.799999237060547}, {\"time\": \"2023-02-04T04:37:56\", \"deg\": 275.0, \"wspd\": 18.799999237060547}, {\"time\": \"2023-02-04T04:37:57\", \"deg\": 275.0, \"wspd\": 18.700000762939453}, {\"time\": \"2023-02-04T04:37:58\", \"deg\": 275.0, \"wspd\": 18.700000762939453}, {\"time\": \"2023-02-04T04:37:59\", \"deg\": 275.0, \"wspd\": 18.700000762939453}, {\"time\": \"2023-02-04T04:38:00\", \"deg\": 275.0, \"wspd\": 18.600000381469727}, {\"time\": \"2023-02-04T04:38:01\", \"deg\": 275.0, \"wspd\": 18.600000381469727}, {\"time\": \"2023-02-04T04:38:02\", \"deg\": 275.0, \"wspd\": 18.600000381469727}, {\"time\": \"2023-02-04T04:38:03\", \"deg\": 275.0, \"wspd\": 18.600000381469727}, {\"time\": \"2023-02-04T04:38:04\", \"deg\": 275.0, \"wspd\": 18.600000381469727}, {\"time\": \"2023-02-04T04:38:05\", \"deg\": 275.0, \"wspd\": 18.600000381469727}, {\"time\": \"2023-02-04T04:38:06\", \"deg\": 275.0, \"wspd\": 18.600000381469727}, {\"time\": \"2023-02-04T04:38:07\", \"deg\": 275.0, \"wspd\": 18.600000381469727}, {\"time\": \"2023-02-04T04:38:08\", \"deg\": 275.0, \"wspd\": 18.600000381469727}, {\"time\": \"2023-02-04T04:38:09\", \"deg\": 275.0, \"wspd\": 18.600000381469727}, {\"time\": \"2023-02-04T04:38:10\", \"deg\": 276.0, \"wspd\": 18.600000381469727}, {\"time\": \"2023-02-04T04:38:11\", \"deg\": 276.0, \"wspd\": 18.600000381469727}, {\"time\": \"2023-02-04T04:38:12\", \"deg\": 276.0, \"wspd\": 18.700000762939453}, {\"time\": \"2023-02-04T04:38:13\", \"deg\": 276.0, \"wspd\": 18.700000762939453}, {\"time\": \"2023-02-04T04:38:14\", \"deg\": 276.0, \"wspd\": 18.700000762939453}, {\"time\": \"2023-02-04T04:38:15\", \"deg\": 276.0, \"wspd\": 18.700000762939453}, {\"time\": \"2023-02-04T04:38:16\", \"deg\": 276.0, \"wspd\": 18.700000762939453}, {\"time\": \"2023-02-04T04:38:17\", \"deg\": 276.0, \"wspd\": 18.700000762939453}, {\"time\": \"2023-02-04T04:38:18\", \"deg\": 276.0, \"wspd\": 18.700000762939453}, {\"time\": \"2023-02-04T04:38:19\", \"deg\": 276.0, \"wspd\": 18.700000762939453}, {\"time\": \"2023-02-04T04:38:20\", \"deg\": 276.0, \"wspd\": 18.700000762939453}, {\"time\": \"2023-02-04T04:38:21\", \"deg\": 276.0, \"wspd\": 18.600000381469727}, {\"time\": \"2023-02-04T04:38:22\", \"deg\": 275.0, \"wspd\": 18.600000381469727}, {\"time\": \"2023-02-04T04:38:23\", \"deg\": 275.0, \"wspd\": 18.600000381469727}, {\"time\": \"2023-02-04T04:38:24\", \"deg\": 275.0, \"wspd\": 18.600000381469727}, {\"time\": \"2023-02-04T04:38:25\", \"deg\": 275.0, \"wspd\": 18.5}, {\"time\": \"2023-02-04T04:38:26\", \"deg\": 275.0, \"wspd\": 18.5}, {\"time\": \"2023-02-04T04:38:27\", \"deg\": 275.0, \"wspd\": 18.399999618530273}, {\"time\": \"2023-02-04T04:38:28\", \"deg\": 275.0, \"wspd\": 18.399999618530273}, {\"time\": \"2023-02-04T04:38:29\", \"deg\": 274.0, \"wspd\": 18.299999237060547}, {\"time\": \"2023-02-04T04:38:30\", \"deg\": 274.0, \"wspd\": 18.299999237060547}, {\"time\": \"2023-02-04T04:38:31\", \"deg\": 274.0, \"wspd\": 18.200000762939453}, {\"time\": \"2023-02-04T04:38:32\", \"deg\": 274.0, \"wspd\": 18.200000762939453}, {\"time\": \"2023-02-04T04:38:33\", \"deg\": 274.0, \"wspd\": 18.100000381469727}, {\"time\": \"2023-02-04T04:38:34\", \"deg\": 273.0, \"wspd\": 18.100000381469727}, {\"time\": \"2023-02-04T04:38:35\", \"deg\": 273.0, \"wspd\": 18.100000381469727}, {\"time\": \"2023-02-04T04:38:36\", \"deg\": 273.0, \"wspd\": 18.0}, {\"time\": \"2023-02-04T04:38:37\", \"deg\": 273.0, \"wspd\": 18.0}, {\"time\": \"2023-02-04T04:38:38\", \"deg\": 273.0, \"wspd\": 18.0}, {\"time\": \"2023-02-04T04:38:39\", \"deg\": 273.0, \"wspd\": 17.899999618530273}, {\"time\": \"2023-02-04T04:38:40\", \"deg\": 272.0, \"wspd\": 17.899999618530273}, {\"time\": \"2023-02-04T04:38:41\", \"deg\": 272.0, \"wspd\": 17.899999618530273}, {\"time\": \"2023-02-04T04:38:42\", \"deg\": 272.0, \"wspd\": 17.899999618530273}, {\"time\": \"2023-02-04T04:38:43\", \"deg\": 272.0, \"wspd\": 17.899999618530273}, {\"time\": \"2023-02-04T04:38:44\", \"deg\": 272.0, \"wspd\": 18.0}, {\"time\": \"2023-02-04T04:38:45\", \"deg\": 272.0, \"wspd\": 18.0}, {\"time\": \"2023-02-04T04:38:46\", \"deg\": 272.0, \"wspd\": 18.0}, {\"time\": \"2023-02-04T04:38:47\", \"deg\": 272.0, \"wspd\": 18.0}, {\"time\": \"2023-02-04T04:38:48\", \"deg\": 272.0, \"wspd\": 18.100000381469727}, {\"time\": \"2023-02-04T04:38:49\", \"deg\": 272.0, \"wspd\": 18.100000381469727}, {\"time\": \"2023-02-04T04:38:50\", \"deg\": 272.0, \"wspd\": 18.200000762939453}, {\"time\": \"2023-02-04T04:38:51\", \"deg\": 272.0, \"wspd\": 18.299999237060547}, {\"time\": \"2023-02-04T04:38:52\", \"deg\": 272.0, \"wspd\": 18.299999237060547}, {\"time\": \"2023-02-04T04:38:53\", \"deg\": 272.0, \"wspd\": 18.399999618530273}, {\"time\": \"2023-02-04T04:38:54\", \"deg\": 272.0, \"wspd\": 18.5}, {\"time\": \"2023-02-04T04:38:55\", \"deg\": 272.0, \"wspd\": 18.600000381469727}, {\"time\": \"2023-02-04T04:38:56\", \"deg\": 272.0, \"wspd\": 18.600000381469727}, {\"time\": \"2023-02-04T04:38:57\", \"deg\": 272.0, \"wspd\": 18.700000762939453}, {\"time\": \"2023-02-04T04:38:58\", \"deg\": 272.0, \"wspd\": 18.799999237060547}, {\"time\": \"2023-02-04T04:38:59\", \"deg\": 272.0, \"wspd\": 18.899999618530273}, {\"time\": \"2023-02-04T04:39:00\", \"deg\": 272.0, \"wspd\": 19.0}, {\"time\": \"2023-02-04T04:39:01\", \"deg\": 272.0, \"wspd\": 19.100000381469727}, {\"time\": \"2023-02-04T04:39:02\", \"deg\": 272.0, \"wspd\": 19.200000762939453}, {\"time\": \"2023-02-04T04:39:03\", \"deg\": 272.0, \"wspd\": 19.299999237060547}, {\"time\": \"2023-02-04T04:39:04\", \"deg\": 272.0, \"wspd\": 19.399999618530273}, {\"time\": \"2023-02-04T04:39:05\", \"deg\": 272.0, \"wspd\": 19.5}, {\"time\": \"2023-02-04T04:39:06\", \"deg\": 272.0, \"wspd\": 19.600000381469727}, {\"time\": \"2023-02-04T04:39:07\", \"deg\": 272.0, \"wspd\": 19.700000762939453}, {\"time\": \"2023-02-04T04:39:08\", \"deg\": 272.0, \"wspd\": 19.799999237060547}, {\"time\": \"2023-02-04T04:39:09\", \"deg\": 272.0, \"wspd\": 19.899999618530273}, {\"time\": \"2023-02-04T04:39:10\", \"deg\": 272.0, \"wspd\": 20.0}, {\"time\": \"2023-02-04T04:39:11\", \"deg\": 272.0, \"wspd\": 20.100000381469727}, {\"time\": \"2023-02-04T04:39:12\", \"deg\": 272.0, \"wspd\": 20.200000762939453}, {\"time\": \"2023-02-04T04:39:13\", \"deg\": 272.0, \"wspd\": 20.299999237060547}, {\"time\": \"2023-02-04T04:39:14\", \"deg\": 272.0, \"wspd\": 20.399999618530273}, {\"time\": \"2023-02-04T04:39:15\", \"deg\": 272.0, \"wspd\": 20.5}, {\"time\": \"2023-02-04T04:39:16\", \"deg\": 271.0, \"wspd\": 20.600000381469727}, {\"time\": \"2023-02-04T04:39:17\", \"deg\": 271.0, \"wspd\": 20.700000762939453}, {\"time\": \"2023-02-04T04:39:18\", \"deg\": 271.0, \"wspd\": 20.799999237060547}, {\"time\": \"2023-02-04T04:39:19\", \"deg\": 271.0, \"wspd\": 20.799999237060547}, {\"time\": \"2023-02-04T04:39:20\", \"deg\": 271.0, \"wspd\": 20.899999618530273}, {\"time\": \"2023-02-04T04:39:21\", \"deg\": 271.0, \"wspd\": 21.0}, {\"time\": \"2023-02-04T04:39:22\", \"deg\": 271.0, \"wspd\": 21.100000381469727}, {\"time\": \"2023-02-04T04:39:23\", \"deg\": 270.0, \"wspd\": 21.100000381469727}, {\"time\": \"2023-02-04T04:39:24\", \"deg\": 270.0, \"wspd\": 21.200000762939453}, {\"time\": \"2023-02-04T04:39:25\", \"deg\": 270.0, \"wspd\": 21.200000762939453}, {\"time\": \"2023-02-04T04:39:26\", \"deg\": 270.0, \"wspd\": 21.299999237060547}, {\"time\": \"2023-02-04T04:39:27\", \"deg\": 269.0, \"wspd\": 21.299999237060547}, {\"time\": \"2023-02-04T04:39:28\", \"deg\": 269.0, \"wspd\": 21.299999237060547}, {\"time\": \"2023-02-04T04:39:29\", \"deg\": 269.0, \"wspd\": 21.399999618530273}, {\"time\": \"2023-02-04T04:39:30\", \"deg\": 269.0, \"wspd\": 21.399999618530273}, {\"time\": \"2023-02-04T04:39:31\", \"deg\": 269.0, \"wspd\": 21.399999618530273}, {\"time\": \"2023-02-04T04:39:32\", \"deg\": 268.0, \"wspd\": 21.399999618530273}, {\"time\": \"2023-02-04T04:39:33\", \"deg\": 268.0, \"wspd\": 21.399999618530273}, {\"time\": \"2023-02-04T04:39:34\", \"deg\": 268.0, \"wspd\": 21.399999618530273}, {\"time\": \"2023-02-04T04:39:35\", \"deg\": 268.0, \"wspd\": 21.399999618530273}, {\"time\": \"2023-02-04T04:39:36\", \"deg\": 268.0, \"wspd\": 21.399999618530273}, {\"time\": \"2023-02-04T04:39:37\", \"deg\": 268.0, \"wspd\": 21.399999618530273}, {\"time\": \"2023-02-04T04:39:38\", \"deg\": 268.0, \"wspd\": 21.399999618530273}, {\"time\": \"2023-02-04T04:39:39\", \"deg\": 267.0, \"wspd\": 21.299999237060547}, {\"time\": \"2023-02-04T04:39:40\", \"deg\": 267.0, \"wspd\": 21.299999237060547}, {\"time\": \"2023-02-04T04:39:41\", \"deg\": 267.0, \"wspd\": 21.299999237060547}, {\"time\": \"2023-02-04T04:39:42\", \"deg\": 268.0, \"wspd\": 21.299999237060547}, {\"time\": \"2023-02-04T04:39:43\", \"deg\": 268.0, \"wspd\": 21.299999237060547}, {\"time\": \"2023-02-04T04:39:44\", \"deg\": 268.0, \"wspd\": 21.299999237060547}, {\"time\": \"2023-02-04T04:39:45\", \"deg\": 268.0, \"wspd\": 21.299999237060547}, {\"time\": \"2023-02-04T04:39:46\", \"deg\": 268.0, \"wspd\": 21.299999237060547}, {\"time\": \"2023-02-04T04:39:47\", \"deg\": 268.0, \"wspd\": 21.299999237060547}, {\"time\": \"2023-02-04T04:39:48\", \"deg\": 268.0, \"wspd\": 21.200000762939453}, {\"time\": \"2023-02-04T04:39:49\", \"deg\": 268.0, \"wspd\": 21.200000762939453}, {\"time\": \"2023-02-04T04:39:50\", \"deg\": 269.0, \"wspd\": 21.299999237060547}, {\"time\": \"2023-02-04T04:39:51\", \"deg\": 269.0, \"wspd\": 21.299999237060547}, {\"time\": \"2023-02-04T04:39:52\", \"deg\": 269.0, \"wspd\": 21.299999237060547}, {\"time\": \"2023-02-04T04:39:53\", \"deg\": 269.0, \"wspd\": 21.299999237060547}, {\"time\": \"2023-02-04T04:39:54\", \"deg\": 269.0, \"wspd\": 21.299999237060547}, {\"time\": \"2023-02-04T04:39:55\", \"deg\": 270.0, \"wspd\": 21.299999237060547}, {\"time\": \"2023-02-04T04:39:56\", \"deg\": 270.0, \"wspd\": 21.299999237060547}, {\"time\": \"2023-02-04T04:39:57\", \"deg\": 270.0, \"wspd\": 21.299999237060547}, {\"time\": \"2023-02-04T04:39:58\", \"deg\": 270.0, \"wspd\": 21.299999237060547}, {\"time\": \"2023-02-04T04:39:59\", \"deg\": 270.0, \"wspd\": 21.299999237060547}, {\"time\": \"2023-02-04T04:40:00\", \"deg\": 271.0, \"wspd\": 21.299999237060547}, {\"time\": \"2023-02-04T16:36:26\", \"deg\": 290.0, \"wspd\": 20.600000381469727}, {\"time\": \"2023-02-04T16:36:27\", \"deg\": 290.0, \"wspd\": 20.600000381469727}, {\"time\": \"2023-02-04T16:36:28\", \"deg\": 290.0, \"wspd\": 20.700000762939453}, {\"time\": \"2023-02-04T16:36:29\", \"deg\": 290.0, \"wspd\": 20.700000762939453}, {\"time\": \"2023-02-04T16:36:30\", \"deg\": 289.0, \"wspd\": 20.700000762939453}, {\"time\": \"2023-02-04T16:36:31\", \"deg\": 289.0, \"wspd\": 20.700000762939453}, {\"time\": \"2023-02-04T16:36:32\", \"deg\": 289.0, \"wspd\": 20.799999237060547}, {\"time\": \"2023-02-04T16:36:33\", \"deg\": 289.0, \"wspd\": 20.799999237060547}, {\"time\": \"2023-02-04T16:36:34\", \"deg\": 289.0, \"wspd\": 20.799999237060547}, {\"time\": \"2023-02-04T16:36:35\", \"deg\": 289.0, \"wspd\": 20.799999237060547}, {\"time\": \"2023-02-04T16:36:36\", \"deg\": 289.0, \"wspd\": 20.799999237060547}, {\"time\": \"2023-02-04T16:36:37\", \"deg\": 289.0, \"wspd\": 20.899999618530273}, {\"time\": \"2023-02-04T16:36:38\", \"deg\": 289.0, \"wspd\": 20.899999618530273}, {\"time\": \"2023-02-04T16:36:39\", \"deg\": 289.0, \"wspd\": 20.899999618530273}, {\"time\": \"2023-02-04T16:36:40\", \"deg\": 289.0, \"wspd\": 20.899999618530273}, {\"time\": \"2023-02-04T16:36:41\", \"deg\": 289.0, \"wspd\": 20.899999618530273}, {\"time\": \"2023-02-04T16:36:42\", \"deg\": 288.0, \"wspd\": 20.899999618530273}, {\"time\": \"2023-02-04T16:36:43\", \"deg\": 288.0, \"wspd\": 20.899999618530273}, {\"time\": \"2023-02-04T16:36:44\", \"deg\": 288.0, \"wspd\": 21.0}, {\"time\": \"2023-02-04T16:36:45\", \"deg\": 288.0, \"wspd\": 21.0}, {\"time\": \"2023-02-04T16:36:46\", \"deg\": 288.0, \"wspd\": 21.0}, {\"time\": \"2023-02-04T16:36:47\", \"deg\": 288.0, \"wspd\": 21.0}, {\"time\": \"2023-02-04T16:36:48\", \"deg\": 288.0, \"wspd\": 21.0}, {\"time\": \"2023-02-04T16:36:49\", \"deg\": 288.0, \"wspd\": 21.0}, {\"time\": \"2023-02-04T16:36:50\", \"deg\": 288.0, \"wspd\": 21.100000381469727}, {\"time\": \"2023-02-04T16:36:51\", \"deg\": 287.0, \"wspd\": 21.100000381469727}, {\"time\": \"2023-02-04T16:36:52\", \"deg\": 287.0, \"wspd\": 21.100000381469727}, {\"time\": \"2023-02-04T16:36:53\", \"deg\": 287.0, \"wspd\": 21.100000381469727}, {\"time\": \"2023-02-04T16:36:54\", \"deg\": 287.0, \"wspd\": 21.100000381469727}, {\"time\": \"2023-02-04T16:36:55\", \"deg\": 287.0, \"wspd\": 21.100000381469727}, {\"time\": \"2023-02-04T16:36:56\", \"deg\": 287.0, \"wspd\": 21.200000762939453}, {\"time\": \"2023-02-04T16:36:57\", \"deg\": 287.0, \"wspd\": 21.200000762939453}, {\"time\": \"2023-02-04T16:36:58\", \"deg\": 287.0, \"wspd\": 21.200000762939453}, {\"time\": \"2023-02-04T16:36:59\", \"deg\": 287.0, \"wspd\": 21.200000762939453}, {\"time\": \"2023-02-04T16:37:00\", \"deg\": 287.0, \"wspd\": 21.200000762939453}, {\"time\": \"2023-02-04T16:37:01\", \"deg\": 287.0, \"wspd\": 21.299999237060547}, {\"time\": \"2023-02-04T16:37:02\", \"deg\": 287.0, \"wspd\": 21.299999237060547}, {\"time\": \"2023-02-04T16:37:03\", \"deg\": 286.0, \"wspd\": 21.299999237060547}, {\"time\": \"2023-02-04T16:37:04\", \"deg\": 286.0, \"wspd\": 21.299999237060547}, {\"time\": \"2023-02-04T16:37:05\", \"deg\": 286.0, \"wspd\": 21.299999237060547}, {\"time\": \"2023-02-04T16:37:06\", \"deg\": 286.0, \"wspd\": 21.399999618530273}, {\"time\": \"2023-02-04T16:37:07\", \"deg\": 286.0, \"wspd\": 21.399999618530273}, {\"time\": \"2023-02-04T16:37:08\", \"deg\": 286.0, \"wspd\": 21.399999618530273}, {\"time\": \"2023-02-04T16:37:09\", \"deg\": 286.0, \"wspd\": 21.399999618530273}, {\"time\": \"2023-02-04T16:37:10\", \"deg\": 286.0, \"wspd\": 21.399999618530273}, {\"time\": \"2023-02-04T16:37:11\", \"deg\": 286.0, \"wspd\": 21.399999618530273}, {\"time\": \"2023-02-04T16:37:12\", \"deg\": 286.0, \"wspd\": 21.5}, {\"time\": \"2023-02-04T16:37:13\", \"deg\": 286.0, \"wspd\": 21.5}, {\"time\": \"2023-02-04T16:37:14\", \"deg\": 286.0, \"wspd\": 21.5}, {\"time\": \"2023-02-04T16:37:15\", \"deg\": 286.0, \"wspd\": 21.5}, {\"time\": \"2023-02-04T16:37:16\", \"deg\": 286.0, \"wspd\": 21.5}, {\"time\": \"2023-02-04T16:37:17\", \"deg\": 286.0, \"wspd\": 21.5}, {\"time\": \"2023-02-04T16:37:18\", \"deg\": 286.0, \"wspd\": 21.5}, {\"time\": \"2023-02-04T16:37:19\", \"deg\": 286.0, \"wspd\": 21.5}, {\"time\": \"2023-02-04T16:37:20\", \"deg\": 286.0, \"wspd\": 21.5}, {\"time\": \"2023-02-04T16:37:21\", \"deg\": 285.0, \"wspd\": 21.600000381469727}, {\"time\": \"2023-02-04T16:37:22\", \"deg\": 285.0, \"wspd\": 21.600000381469727}, {\"time\": \"2023-02-04T16:37:23\", \"deg\": 285.0, \"wspd\": 21.600000381469727}, {\"time\": \"2023-02-04T16:37:24\", \"deg\": 285.0, \"wspd\": 21.600000381469727}, {\"time\": \"2023-02-04T16:37:25\", \"deg\": 285.0, \"wspd\": 21.600000381469727}, {\"time\": \"2023-02-04T16:37:26\", \"deg\": 285.0, \"wspd\": 21.600000381469727}, {\"time\": \"2023-02-04T16:37:27\", \"deg\": 285.0, \"wspd\": 21.600000381469727}, {\"time\": \"2023-02-04T16:37:28\", \"deg\": 285.0, \"wspd\": 21.600000381469727}, {\"time\": \"2023-02-04T16:37:29\", \"deg\": 285.0, \"wspd\": 21.600000381469727}, {\"time\": \"2023-02-04T16:37:30\", \"deg\": 285.0, \"wspd\": 21.600000381469727}, {\"time\": \"2023-02-04T16:37:31\", \"deg\": 285.0, \"wspd\": 21.600000381469727}, {\"time\": \"2023-02-04T16:37:32\", \"deg\": 285.0, \"wspd\": 21.600000381469727}, {\"time\": \"2023-02-04T16:37:33\", \"deg\": 285.0, \"wspd\": 21.600000381469727}, {\"time\": \"2023-02-04T16:37:34\", \"deg\": 285.0, \"wspd\": 21.600000381469727}, {\"time\": \"2023-02-04T16:37:35\", \"deg\": 285.0, \"wspd\": 21.600000381469727}, {\"time\": \"2023-02-04T16:37:36\", \"deg\": 285.0, \"wspd\": 21.700000762939453}, {\"time\": \"2023-02-04T16:37:37\", \"deg\": 285.0, \"wspd\": 21.700000762939453}, {\"time\": \"2023-02-04T16:37:38\", \"deg\": 285.0, \"wspd\": 21.700000762939453}, {\"time\": \"2023-02-04T16:37:39\", \"deg\": 285.0, \"wspd\": 21.700000762939453}, {\"time\": \"2023-02-04T16:37:40\", \"deg\": 285.0, \"wspd\": 21.700000762939453}, {\"time\": \"2023-02-04T16:37:41\", \"deg\": 285.0, \"wspd\": 21.700000762939453}, {\"time\": \"2023-02-04T16:37:42\", \"deg\": 285.0, \"wspd\": 21.700000762939453}, {\"time\": \"2023-02-04T16:37:43\", \"deg\": 285.0, \"wspd\": 21.700000762939453}, {\"time\": \"2023-02-04T16:37:44\", \"deg\": 286.0, \"wspd\": 21.700000762939453}, {\"time\": \"2023-02-04T16:37:45\", \"deg\": 286.0, \"wspd\": 21.799999237060547}, {\"time\": \"2023-02-04T16:37:46\", \"deg\": 286.0, \"wspd\": 21.799999237060547}, {\"time\": \"2023-02-04T16:37:47\", \"deg\": 286.0, \"wspd\": 21.799999237060547}, {\"time\": \"2023-02-04T16:37:48\", \"deg\": 286.0, \"wspd\": 21.799999237060547}, {\"time\": \"2023-02-04T16:37:49\", \"deg\": 287.0, \"wspd\": 21.799999237060547}, {\"time\": \"2023-02-04T16:37:50\", \"deg\": 287.0, \"wspd\": 21.799999237060547}, {\"time\": \"2023-02-04T16:37:51\", \"deg\": 287.0, \"wspd\": 21.799999237060547}, {\"time\": \"2023-02-04T16:37:52\", \"deg\": 287.0, \"wspd\": 21.799999237060547}, {\"time\": \"2023-02-04T16:37:53\", \"deg\": 288.0, \"wspd\": 21.799999237060547}, {\"time\": \"2023-02-04T16:37:54\", \"deg\": 288.0, \"wspd\": 21.799999237060547}, {\"time\": \"2023-02-04T16:37:55\", \"deg\": 288.0, \"wspd\": 21.799999237060547}, {\"time\": \"2023-02-04T16:37:56\", \"deg\": 288.0, \"wspd\": 21.799999237060547}, {\"time\": \"2023-02-04T16:37:57\", \"deg\": 288.0, \"wspd\": 21.799999237060547}, {\"time\": \"2023-02-04T16:37:58\", \"deg\": 289.0, \"wspd\": 21.799999237060547}, {\"time\": \"2023-02-04T16:37:59\", \"deg\": 289.0, \"wspd\": 21.799999237060547}, {\"time\": \"2023-02-04T16:38:00\", \"deg\": 289.0, \"wspd\": 21.799999237060547}, {\"time\": \"2023-02-04T16:38:01\", \"deg\": 289.0, \"wspd\": 21.799999237060547}, {\"time\": \"2023-02-04T16:38:02\", \"deg\": 289.0, \"wspd\": 21.799999237060547}, {\"time\": \"2023-02-04T16:38:03\", \"deg\": 290.0, \"wspd\": 21.700000762939453}, {\"time\": \"2023-02-04T16:38:04\", \"deg\": 290.0, \"wspd\": 21.700000762939453}, {\"time\": \"2023-02-04T16:38:05\", \"deg\": 290.0, \"wspd\": 21.700000762939453}, {\"time\": \"2023-02-04T16:38:06\", \"deg\": 290.0, \"wspd\": 21.700000762939453}, {\"time\": \"2023-02-04T16:38:07\", \"deg\": 290.0, \"wspd\": 21.700000762939453}, {\"time\": \"2023-02-04T16:38:08\", \"deg\": 290.0, \"wspd\": 21.700000762939453}, {\"time\": \"2023-02-04T16:38:09\", \"deg\": 290.0, \"wspd\": 21.600000381469727}, {\"time\": \"2023-02-04T16:38:10\", \"deg\": 290.0, \"wspd\": 21.600000381469727}, {\"time\": \"2023-02-04T16:38:11\", \"deg\": 290.0, \"wspd\": 21.600000381469727}, {\"time\": \"2023-02-04T16:38:12\", \"deg\": 290.0, \"wspd\": 21.600000381469727}, {\"time\": \"2023-02-04T16:38:13\", \"deg\": 290.0, \"wspd\": 21.600000381469727}, {\"time\": \"2023-02-04T16:38:14\", \"deg\": 290.0, \"wspd\": 21.600000381469727}, {\"time\": \"2023-02-04T16:38:15\", \"deg\": 290.0, \"wspd\": 21.600000381469727}, {\"time\": \"2023-02-04T16:38:16\", \"deg\": 290.0, \"wspd\": 21.5}, {\"time\": \"2023-02-04T16:38:17\", \"deg\": 290.0, \"wspd\": 21.5}, {\"time\": \"2023-02-04T16:38:18\", \"deg\": 290.0, \"wspd\": 21.5}, {\"time\": \"2023-02-04T16:38:19\", \"deg\": 290.0, \"wspd\": 21.5}, {\"time\": \"2023-02-04T16:38:20\", \"deg\": 290.0, \"wspd\": 21.5}, {\"time\": \"2023-02-04T16:38:21\", \"deg\": 290.0, \"wspd\": 21.5}, {\"time\": \"2023-02-04T16:38:22\", \"deg\": 290.0, \"wspd\": 21.5}, {\"time\": \"2023-02-04T16:38:23\", \"deg\": 290.0, \"wspd\": 21.5}, {\"time\": \"2023-02-04T16:38:24\", \"deg\": 290.0, \"wspd\": 21.5}, {\"time\": \"2023-02-04T16:38:25\", \"deg\": 290.0, \"wspd\": 21.5}, {\"time\": \"2023-02-04T16:38:26\", \"deg\": 290.0, \"wspd\": 21.5}, {\"time\": \"2023-02-04T16:38:27\", \"deg\": 290.0, \"wspd\": 21.5}, {\"time\": \"2023-02-04T16:38:28\", \"deg\": 290.0, \"wspd\": 21.600000381469727}, {\"time\": \"2023-02-04T16:38:29\", \"deg\": 290.0, \"wspd\": 21.600000381469727}, {\"time\": \"2023-02-04T16:38:30\", \"deg\": 290.0, \"wspd\": 21.600000381469727}, {\"time\": \"2023-02-04T16:38:31\", \"deg\": 290.0, \"wspd\": 21.600000381469727}, {\"time\": \"2023-02-04T16:38:32\", \"deg\": 290.0, \"wspd\": 21.700000762939453}, {\"time\": \"2023-02-04T16:38:33\", \"deg\": 291.0, \"wspd\": 21.700000762939453}, {\"time\": \"2023-02-04T16:38:34\", \"deg\": 291.0, \"wspd\": 21.799999237060547}, {\"time\": \"2023-02-04T16:38:35\", \"deg\": 291.0, \"wspd\": 21.799999237060547}, {\"time\": \"2023-02-04T16:38:36\", \"deg\": 291.0, \"wspd\": 21.899999618530273}, {\"time\": \"2023-02-04T16:38:37\", \"deg\": 291.0, \"wspd\": 21.899999618530273}, {\"time\": \"2023-02-04T16:38:38\", \"deg\": 291.0, \"wspd\": 22.0}, {\"time\": \"2023-02-04T16:38:39\", \"deg\": 292.0, \"wspd\": 22.100000381469727}, {\"time\": \"2023-02-04T16:38:40\", \"deg\": 292.0, \"wspd\": 22.100000381469727}, {\"time\": \"2023-02-04T16:38:41\", \"deg\": 292.0, \"wspd\": 22.200000762939453}, {\"time\": \"2023-02-04T16:38:42\", \"deg\": 292.0, \"wspd\": 22.299999237060547}, {\"time\": \"2023-02-04T16:38:43\", \"deg\": 292.0, \"wspd\": 22.399999618530273}, {\"time\": \"2023-02-04T16:38:44\", \"deg\": 293.0, \"wspd\": 22.5}, {\"time\": \"2023-02-04T16:38:45\", \"deg\": 293.0, \"wspd\": 22.600000381469727}, {\"time\": \"2023-02-04T16:38:46\", \"deg\": 293.0, \"wspd\": 22.600000381469727}, {\"time\": \"2023-02-04T16:38:47\", \"deg\": 293.0, \"wspd\": 22.700000762939453}, {\"time\": \"2023-02-04T16:38:48\", \"deg\": 294.0, \"wspd\": 22.799999237060547}, {\"time\": \"2023-02-04T16:38:49\", \"deg\": 294.0, \"wspd\": 22.899999618530273}, {\"time\": \"2023-02-04T16:38:50\", \"deg\": 294.0, \"wspd\": 23.0}, {\"time\": \"2023-02-04T16:38:51\", \"deg\": 294.0, \"wspd\": 23.100000381469727}, {\"time\": \"2023-02-04T16:38:52\", \"deg\": 295.0, \"wspd\": 23.200000762939453}, {\"time\": \"2023-02-04T16:38:53\", \"deg\": 295.0, \"wspd\": 23.200000762939453}, {\"time\": \"2023-02-04T16:38:54\", \"deg\": 295.0, \"wspd\": 23.299999237060547}, {\"time\": \"2023-02-04T16:38:55\", \"deg\": 295.0, \"wspd\": 23.399999618530273}, {\"time\": \"2023-02-04T16:38:56\", \"deg\": 296.0, \"wspd\": 23.5}, {\"time\": \"2023-02-04T16:38:57\", \"deg\": 296.0, \"wspd\": 23.5}, {\"time\": \"2023-02-04T16:38:58\", \"deg\": 296.0, \"wspd\": 23.600000381469727}, {\"time\": \"2023-02-04T16:38:59\", \"deg\": 296.0, \"wspd\": 23.600000381469727}, {\"time\": \"2023-02-04T16:39:00\", \"deg\": 297.0, \"wspd\": 23.700000762939453}, {\"time\": \"2023-02-04T16:39:01\", \"deg\": 297.0, \"wspd\": 23.700000762939453}, {\"time\": \"2023-02-04T16:39:02\", \"deg\": 297.0, \"wspd\": 23.700000762939453}, {\"time\": \"2023-02-04T16:39:03\", \"deg\": 297.0, \"wspd\": 23.799999237060547}, {\"time\": \"2023-02-04T16:39:04\", \"deg\": 297.0, \"wspd\": 23.799999237060547}, {\"time\": \"2023-02-04T16:39:05\", \"deg\": 298.0, \"wspd\": 23.799999237060547}, {\"time\": \"2023-02-04T16:39:06\", \"deg\": 298.0, \"wspd\": 23.799999237060547}, {\"time\": \"2023-02-04T16:39:07\", \"deg\": 298.0, \"wspd\": 23.799999237060547}, {\"time\": \"2023-02-04T16:39:08\", \"deg\": 298.0, \"wspd\": 23.799999237060547}, {\"time\": \"2023-02-05T04:35:13\", \"deg\": 272.0, \"wspd\": 23.899999618530273}, {\"time\": \"2023-02-05T04:35:14\", \"deg\": 272.0, \"wspd\": 23.899999618530273}, {\"time\": \"2023-02-05T04:35:15\", \"deg\": 272.0, \"wspd\": 24.0}, {\"time\": \"2023-02-05T04:35:16\", \"deg\": 272.0, \"wspd\": 24.0}, {\"time\": \"2023-02-05T04:35:17\", \"deg\": 272.0, \"wspd\": 24.100000381469727}, {\"time\": \"2023-02-05T04:35:18\", \"deg\": 272.0, \"wspd\": 24.100000381469727}, {\"time\": \"2023-02-05T04:35:19\", \"deg\": 272.0, \"wspd\": 24.200000762939453}, {\"time\": \"2023-02-05T04:35:20\", \"deg\": 272.0, \"wspd\": 24.200000762939453}, {\"time\": \"2023-02-05T04:35:21\", \"deg\": 272.0, \"wspd\": 24.299999237060547}, {\"time\": \"2023-02-05T04:35:22\", \"deg\": 271.0, \"wspd\": 24.299999237060547}, {\"time\": \"2023-02-05T04:35:23\", \"deg\": 271.0, \"wspd\": 24.399999618530273}, {\"time\": \"2023-02-05T04:35:24\", \"deg\": 271.0, \"wspd\": 24.399999618530273}, {\"time\": \"2023-02-05T04:35:25\", \"deg\": 271.0, \"wspd\": 24.5}, {\"time\": \"2023-02-05T04:35:26\", \"deg\": 271.0, \"wspd\": 24.5}, {\"time\": \"2023-02-05T04:35:27\", \"deg\": 271.0, \"wspd\": 24.5}, {\"time\": \"2023-02-05T04:35:28\", \"deg\": 271.0, \"wspd\": 24.5}, {\"time\": \"2023-02-05T04:35:29\", \"deg\": 271.0, \"wspd\": 24.5}, {\"time\": \"2023-02-05T04:35:30\", \"deg\": 271.0, \"wspd\": 24.5}, {\"time\": \"2023-02-05T04:35:31\", \"deg\": 271.0, \"wspd\": 24.5}, {\"time\": \"2023-02-05T04:35:32\", \"deg\": 271.0, \"wspd\": 24.5}, {\"time\": \"2023-02-05T04:35:33\", \"deg\": 271.0, \"wspd\": 24.5}, {\"time\": \"2023-02-05T04:35:34\", \"deg\": 271.0, \"wspd\": 24.5}, {\"time\": \"2023-02-05T04:35:35\", \"deg\": 271.0, \"wspd\": 24.5}, {\"time\": \"2023-02-05T04:35:36\", \"deg\": 271.0, \"wspd\": 24.5}, {\"time\": \"2023-02-05T04:35:37\", \"deg\": 271.0, \"wspd\": 24.399999618530273}, {\"time\": \"2023-02-05T04:35:38\", \"deg\": 272.0, \"wspd\": 24.399999618530273}, {\"time\": \"2023-02-05T04:35:39\", \"deg\": 272.0, \"wspd\": 24.399999618530273}, {\"time\": \"2023-02-05T04:35:40\", \"deg\": 272.0, \"wspd\": 24.299999237060547}, {\"time\": \"2023-02-05T04:35:41\", \"deg\": 272.0, \"wspd\": 24.299999237060547}, {\"time\": \"2023-02-05T04:35:42\", \"deg\": 272.0, \"wspd\": 24.299999237060547}, {\"time\": \"2023-02-05T04:35:43\", \"deg\": 272.0, \"wspd\": 24.200000762939453}, {\"time\": \"2023-02-05T04:35:44\", \"deg\": 272.0, \"wspd\": 24.200000762939453}, {\"time\": \"2023-02-05T04:35:45\", \"deg\": 272.0, \"wspd\": 24.100000381469727}, {\"time\": \"2023-02-05T04:35:46\", \"deg\": 272.0, \"wspd\": 24.100000381469727}, {\"time\": \"2023-02-05T04:35:47\", \"deg\": 272.0, \"wspd\": 24.100000381469727}, {\"time\": \"2023-02-05T04:35:48\", \"deg\": 272.0, \"wspd\": 24.0}, {\"time\": \"2023-02-05T04:35:49\", \"deg\": 272.0, \"wspd\": 24.0}, {\"time\": \"2023-02-05T04:35:50\", \"deg\": 272.0, \"wspd\": 24.0}, {\"time\": \"2023-02-05T04:35:51\", \"deg\": 272.0, \"wspd\": 24.0}, {\"time\": \"2023-02-05T04:35:52\", \"deg\": 272.0, \"wspd\": 23.899999618530273}, {\"time\": \"2023-02-05T04:35:53\", \"deg\": 272.0, \"wspd\": 23.899999618530273}, {\"time\": \"2023-02-05T04:35:54\", \"deg\": 273.0, \"wspd\": 23.899999618530273}, {\"time\": \"2023-02-05T04:35:55\", \"deg\": 273.0, \"wspd\": 23.899999618530273}, {\"time\": \"2023-02-05T04:35:56\", \"deg\": 273.0, \"wspd\": 23.899999618530273}, {\"time\": \"2023-02-05T04:35:57\", \"deg\": 273.0, \"wspd\": 23.799999237060547}, {\"time\": \"2023-02-05T04:35:58\", \"deg\": 273.0, \"wspd\": 23.799999237060547}, {\"time\": \"2023-02-05T04:35:59\", \"deg\": 273.0, \"wspd\": 23.799999237060547}, {\"time\": \"2023-02-05T04:36:00\", \"deg\": 273.0, \"wspd\": 23.899999618530273}, {\"time\": \"2023-02-05T04:36:01\", \"deg\": 273.0, \"wspd\": 23.899999618530273}, {\"time\": \"2023-02-05T04:36:02\", \"deg\": 273.0, \"wspd\": 23.899999618530273}, {\"time\": \"2023-02-05T04:36:03\", \"deg\": 273.0, \"wspd\": 23.899999618530273}, {\"time\": \"2023-02-05T04:36:04\", \"deg\": 273.0, \"wspd\": 24.0}, {\"time\": \"2023-02-05T04:36:05\", \"deg\": 273.0, \"wspd\": 24.0}, {\"time\": \"2023-02-05T04:36:06\", \"deg\": 274.0, \"wspd\": 24.100000381469727}, {\"time\": \"2023-02-05T04:36:07\", \"deg\": 274.0, \"wspd\": 24.100000381469727}, {\"time\": \"2023-02-05T04:36:08\", \"deg\": 274.0, \"wspd\": 24.200000762939453}, {\"time\": \"2023-02-05T04:36:09\", \"deg\": 274.0, \"wspd\": 24.299999237060547}, {\"time\": \"2023-02-05T04:36:10\", \"deg\": 274.0, \"wspd\": 24.299999237060547}, {\"time\": \"2023-02-05T04:36:11\", \"deg\": 274.0, \"wspd\": 24.399999618530273}, {\"time\": \"2023-02-05T04:36:12\", \"deg\": 274.0, \"wspd\": 24.5}, {\"time\": \"2023-02-05T04:36:13\", \"deg\": 274.0, \"wspd\": 24.600000381469727}, {\"time\": \"2023-02-05T04:36:14\", \"deg\": 274.0, \"wspd\": 24.799999237060547}, {\"time\": \"2023-02-05T04:36:15\", \"deg\": 274.0, \"wspd\": 24.899999618530273}, {\"time\": \"2023-02-05T04:36:16\", \"deg\": 273.0, \"wspd\": 25.0}, {\"time\": \"2023-02-05T04:36:17\", \"deg\": 273.0, \"wspd\": 25.100000381469727}, {\"time\": \"2023-02-05T04:36:18\", \"deg\": 273.0, \"wspd\": 25.200000762939453}, {\"time\": \"2023-02-05T04:36:19\", \"deg\": 273.0, \"wspd\": 25.299999237060547}, {\"time\": \"2023-02-05T04:36:20\", \"deg\": 273.0, \"wspd\": 25.5}, {\"time\": \"2023-02-05T04:36:21\", \"deg\": 273.0, \"wspd\": 25.600000381469727}, {\"time\": \"2023-02-05T04:36:22\", \"deg\": 272.0, \"wspd\": 25.700000762939453}, {\"time\": \"2023-02-05T04:36:23\", \"deg\": 272.0, \"wspd\": 25.799999237060547}, {\"time\": \"2023-02-05T04:36:24\", \"deg\": 272.0, \"wspd\": 25.899999618530273}, {\"time\": \"2023-02-05T04:36:25\", \"deg\": 272.0, \"wspd\": 26.0}, {\"time\": \"2023-02-05T04:36:26\", \"deg\": 272.0, \"wspd\": 26.100000381469727}, {\"time\": \"2023-02-05T04:36:27\", \"deg\": 271.0, \"wspd\": 26.200000762939453}, {\"time\": \"2023-02-05T04:36:28\", \"deg\": 271.0, \"wspd\": 26.299999237060547}, {\"time\": \"2023-02-05T04:36:29\", \"deg\": 271.0, \"wspd\": 26.399999618530273}, {\"time\": \"2023-02-05T04:36:30\", \"deg\": 271.0, \"wspd\": 26.399999618530273}, {\"time\": \"2023-02-05T04:36:31\", \"deg\": 270.0, \"wspd\": 26.5}, {\"time\": \"2023-02-05T04:36:32\", \"deg\": 270.0, \"wspd\": 26.600000381469727}, {\"time\": \"2023-02-05T04:36:33\", \"deg\": 270.0, \"wspd\": 26.700000762939453}, {\"time\": \"2023-02-05T04:36:34\", \"deg\": 270.0, \"wspd\": 26.700000762939453}, {\"time\": \"2023-02-05T04:36:35\", \"deg\": 270.0, \"wspd\": 26.799999237060547}, {\"time\": \"2023-02-05T04:36:36\", \"deg\": 270.0, \"wspd\": 26.799999237060547}, {\"time\": \"2023-02-05T04:36:37\", \"deg\": 270.0, \"wspd\": 26.899999618530273}, {\"time\": \"2023-02-05T04:36:38\", \"deg\": 270.0, \"wspd\": 26.899999618530273}, {\"time\": \"2023-02-05T04:36:39\", \"deg\": 270.0, \"wspd\": 27.0}, {\"time\": \"2023-02-05T04:36:40\", \"deg\": 270.0, \"wspd\": 27.0}, {\"time\": \"2023-02-05T04:36:41\", \"deg\": 269.0, \"wspd\": 27.100000381469727}, {\"time\": \"2023-02-05T04:36:42\", \"deg\": 269.0, \"wspd\": 27.100000381469727}, {\"time\": \"2023-02-05T04:36:43\", \"deg\": 269.0, \"wspd\": 27.200000762939453}, {\"time\": \"2023-02-05T04:36:44\", \"deg\": 270.0, \"wspd\": 27.200000762939453}, {\"time\": \"2023-02-05T04:36:45\", \"deg\": 270.0, \"wspd\": 27.200000762939453}, {\"time\": \"2023-02-05T04:36:46\", \"deg\": 270.0, \"wspd\": 27.299999237060547}, {\"time\": \"2023-02-05T04:36:47\", \"deg\": 270.0, \"wspd\": 27.399999618530273}, {\"time\": \"2023-02-05T04:36:48\", \"deg\": 270.0, \"wspd\": 27.399999618530273}, {\"time\": \"2023-02-05T04:36:49\", \"deg\": 270.0, \"wspd\": 27.5}, {\"time\": \"2023-02-05T04:36:50\", \"deg\": 270.0, \"wspd\": 27.5}, {\"time\": \"2023-02-05T04:36:51\", \"deg\": 270.0, \"wspd\": 27.600000381469727}, {\"time\": \"2023-02-05T04:36:52\", \"deg\": 270.0, \"wspd\": 27.600000381469727}, {\"time\": \"2023-02-05T04:36:53\", \"deg\": 270.0, \"wspd\": 27.700000762939453}, {\"time\": \"2023-02-05T04:36:54\", \"deg\": 270.0, \"wspd\": 27.799999237060547}, {\"time\": \"2023-02-05T04:36:55\", \"deg\": 270.0, \"wspd\": 27.799999237060547}, {\"time\": \"2023-02-05T04:36:56\", \"deg\": 270.0, \"wspd\": 27.899999618530273}, {\"time\": \"2023-02-05T04:36:57\", \"deg\": 270.0, \"wspd\": 28.0}, {\"time\": \"2023-02-05T04:36:58\", \"deg\": 270.0, \"wspd\": 28.0}, {\"time\": \"2023-02-05T04:36:59\", \"deg\": 270.0, \"wspd\": 28.100000381469727}, {\"time\": \"2023-02-05T04:37:00\", \"deg\": 269.0, \"wspd\": 28.200000762939453}, {\"time\": \"2023-02-05T04:37:01\", \"deg\": 269.0, \"wspd\": 28.200000762939453}, {\"time\": \"2023-02-05T04:37:02\", \"deg\": 269.0, \"wspd\": 28.299999237060547}, {\"time\": \"2023-02-05T04:37:03\", \"deg\": 269.0, \"wspd\": 28.399999618530273}, {\"time\": \"2023-02-05T04:37:04\", \"deg\": 269.0, \"wspd\": 28.399999618530273}, {\"time\": \"2023-02-05T04:37:05\", \"deg\": 269.0, \"wspd\": 28.5}, {\"time\": \"2023-02-05T04:37:06\", \"deg\": 269.0, \"wspd\": 28.600000381469727}, {\"time\": \"2023-02-05T04:37:07\", \"deg\": 269.0, \"wspd\": 28.600000381469727}, {\"time\": \"2023-02-05T04:37:08\", \"deg\": 269.0, \"wspd\": 28.700000762939453}, {\"time\": \"2023-02-05T04:37:09\", \"deg\": 269.0, \"wspd\": 28.700000762939453}, {\"time\": \"2023-02-05T04:37:10\", \"deg\": 268.0, \"wspd\": 28.799999237060547}, {\"time\": \"2023-02-05T04:37:11\", \"deg\": 268.0, \"wspd\": 28.799999237060547}, {\"time\": \"2023-02-05T04:37:12\", \"deg\": 268.0, \"wspd\": 28.899999618530273}, {\"time\": \"2023-02-05T04:37:13\", \"deg\": 268.0, \"wspd\": 28.899999618530273}, {\"time\": \"2023-02-05T04:37:14\", \"deg\": 268.0, \"wspd\": 29.0}, {\"time\": \"2023-02-05T04:37:15\", \"deg\": 268.0, \"wspd\": 29.0}, {\"time\": \"2023-02-05T04:37:16\", \"deg\": 268.0, \"wspd\": 29.100000381469727}, {\"time\": \"2023-02-05T04:37:17\", \"deg\": 268.0, \"wspd\": 29.100000381469727}, {\"time\": \"2023-02-05T04:37:18\", \"deg\": 268.0, \"wspd\": 29.100000381469727}, {\"time\": \"2023-02-05T04:37:19\", \"deg\": 268.0, \"wspd\": 29.200000762939453}, {\"time\": \"2023-02-05T04:37:20\", \"deg\": 268.0, \"wspd\": 29.200000762939453}, {\"time\": \"2023-02-05T04:37:21\", \"deg\": 268.0, \"wspd\": 29.299999237060547}, {\"time\": \"2023-02-05T04:37:22\", \"deg\": 268.0, \"wspd\": 29.299999237060547}, {\"time\": \"2023-02-05T04:37:23\", \"deg\": 267.0, \"wspd\": 29.299999237060547}, {\"time\": \"2023-02-05T04:37:24\", \"deg\": 267.0, \"wspd\": 29.399999618530273}, {\"time\": \"2023-02-05T04:37:25\", \"deg\": 267.0, \"wspd\": 29.399999618530273}, {\"time\": \"2023-02-05T04:37:26\", \"deg\": 267.0, \"wspd\": 29.399999618530273}, {\"time\": \"2023-02-05T04:37:27\", \"deg\": 267.0, \"wspd\": 29.5}, {\"time\": \"2023-02-05T04:37:28\", \"deg\": 267.0, \"wspd\": 29.5}, {\"time\": \"2023-02-05T04:37:29\", \"deg\": 267.0, \"wspd\": 29.5}, {\"time\": \"2023-02-05T04:37:30\", \"deg\": 267.0, \"wspd\": 29.5}, {\"time\": \"2023-02-05T04:37:31\", \"deg\": 267.0, \"wspd\": 29.600000381469727}, {\"time\": \"2023-02-05T04:37:32\", \"deg\": 267.0, \"wspd\": 29.600000381469727}, {\"time\": \"2023-02-05T04:37:33\", \"deg\": 267.0, \"wspd\": 29.600000381469727}, {\"time\": \"2023-02-05T04:37:34\", \"deg\": 267.0, \"wspd\": 29.600000381469727}, {\"time\": \"2023-02-05T04:37:35\", \"deg\": 267.0, \"wspd\": 29.600000381469727}, {\"time\": \"2023-02-05T04:37:36\", \"deg\": 267.0, \"wspd\": 29.600000381469727}, {\"time\": \"2023-02-05T16:37:02\", \"deg\": 250.0, \"wspd\": 20.200000762939453}, {\"time\": \"2023-02-05T16:37:03\", \"deg\": 250.0, \"wspd\": 20.600000381469727}, {\"time\": \"2023-02-05T16:37:04\", \"deg\": 251.0, \"wspd\": 21.100000381469727}, {\"time\": \"2023-02-05T16:37:05\", \"deg\": 251.0, \"wspd\": 21.5}, {\"time\": \"2023-02-05T16:37:06\", \"deg\": 251.0, \"wspd\": 21.899999618530273}, {\"time\": \"2023-02-05T16:37:07\", \"deg\": 251.0, \"wspd\": 22.299999237060547}, {\"time\": \"2023-02-05T16:37:08\", \"deg\": 251.0, \"wspd\": 22.799999237060547}, {\"time\": \"2023-02-05T16:37:09\", \"deg\": 251.0, \"wspd\": 23.200000762939453}, {\"time\": \"2023-02-05T16:37:10\", \"deg\": 251.0, \"wspd\": 23.600000381469727}, {\"time\": \"2023-02-05T16:37:11\", \"deg\": 251.0, \"wspd\": 24.0}, {\"time\": \"2023-02-05T16:37:12\", \"deg\": 251.0, \"wspd\": 24.399999618530273}, {\"time\": \"2023-02-05T16:37:13\", \"deg\": 251.0, \"wspd\": 24.799999237060547}, {\"time\": \"2023-02-05T16:37:14\", \"deg\": 251.0, \"wspd\": 25.200000762939453}, {\"time\": \"2023-02-05T16:37:15\", \"deg\": 251.0, \"wspd\": 25.600000381469727}, {\"time\": \"2023-02-05T16:37:16\", \"deg\": 251.0, \"wspd\": 26.0}, {\"time\": \"2023-02-05T16:37:17\", \"deg\": 250.0, \"wspd\": 26.299999237060547}, {\"time\": \"2023-02-05T16:37:18\", \"deg\": 250.0, \"wspd\": 26.700000762939453}, {\"time\": \"2023-02-05T16:37:19\", \"deg\": 250.0, \"wspd\": 27.0}, {\"time\": \"2023-02-05T16:37:20\", \"deg\": 249.0, \"wspd\": 27.299999237060547}, {\"time\": \"2023-02-05T16:37:21\", \"deg\": 249.0, \"wspd\": 27.600000381469727}, {\"time\": \"2023-02-05T16:37:22\", \"deg\": 249.0, \"wspd\": 27.899999618530273}, {\"time\": \"2023-02-05T16:37:23\", \"deg\": 248.0, \"wspd\": 28.200000762939453}, {\"time\": \"2023-02-05T16:37:24\", \"deg\": 248.0, \"wspd\": 28.5}, {\"time\": \"2023-02-05T16:37:25\", \"deg\": 247.0, \"wspd\": 28.799999237060547}, {\"time\": \"2023-02-05T16:37:26\", \"deg\": 247.0, \"wspd\": 29.0}, {\"time\": \"2023-02-05T16:37:27\", \"deg\": 246.0, \"wspd\": 29.299999237060547}, {\"time\": \"2023-02-05T16:37:28\", \"deg\": 246.0, \"wspd\": 29.5}, {\"time\": \"2023-02-05T16:37:29\", \"deg\": 245.0, \"wspd\": 29.799999237060547}, {\"time\": \"2023-02-05T16:37:30\", \"deg\": 245.0, \"wspd\": 30.0}, {\"time\": \"2023-02-05T16:37:31\", \"deg\": 245.0, \"wspd\": 30.200000762939453}, {\"time\": \"2023-02-05T16:37:32\", \"deg\": 244.0, \"wspd\": 30.399999618530273}, {\"time\": \"2023-02-05T16:37:33\", \"deg\": 244.0, \"wspd\": 30.600000381469727}, {\"time\": \"2023-02-05T16:37:34\", \"deg\": 243.0, \"wspd\": 30.799999237060547}, {\"time\": \"2023-02-05T16:37:35\", \"deg\": 243.0, \"wspd\": 31.0}, {\"time\": \"2023-02-05T16:37:36\", \"deg\": 243.0, \"wspd\": 31.200000762939453}, {\"time\": \"2023-02-05T16:37:37\", \"deg\": 242.0, \"wspd\": 31.299999237060547}, {\"time\": \"2023-02-05T16:37:38\", \"deg\": 242.0, \"wspd\": 31.5}, {\"time\": \"2023-02-05T16:37:39\", \"deg\": 242.0, \"wspd\": 31.700000762939453}, {\"time\": \"2023-02-05T16:37:40\", \"deg\": 242.0, \"wspd\": 31.799999237060547}, {\"time\": \"2023-02-05T16:37:41\", \"deg\": 242.0, \"wspd\": 32.0}, {\"time\": \"2023-02-05T16:37:42\", \"deg\": 241.0, \"wspd\": 32.099998474121094}, {\"time\": \"2023-02-05T16:37:43\", \"deg\": 241.0, \"wspd\": 32.29999923706055}, {\"time\": \"2023-02-05T16:37:44\", \"deg\": 241.0, \"wspd\": 32.400001525878906}, {\"time\": \"2023-02-05T16:37:45\", \"deg\": 241.0, \"wspd\": 32.5}, {\"time\": \"2023-02-05T16:37:46\", \"deg\": 241.0, \"wspd\": 32.70000076293945}, {\"time\": \"2023-02-05T16:37:47\", \"deg\": 241.0, \"wspd\": 32.79999923706055}, {\"time\": \"2023-02-05T16:37:48\", \"deg\": 241.0, \"wspd\": 32.900001525878906}, {\"time\": \"2023-02-05T16:37:49\", \"deg\": 241.0, \"wspd\": 33.099998474121094}, {\"time\": \"2023-02-05T16:37:50\", \"deg\": 240.0, \"wspd\": 33.20000076293945}, {\"time\": \"2023-02-05T16:37:51\", \"deg\": 240.0, \"wspd\": 33.29999923706055}, {\"time\": \"2023-02-05T16:37:52\", \"deg\": 240.0, \"wspd\": 33.400001525878906}, {\"time\": \"2023-02-05T16:37:53\", \"deg\": 240.0, \"wspd\": 33.599998474121094}, {\"time\": \"2023-02-05T16:37:54\", \"deg\": 240.0, \"wspd\": 33.70000076293945}, {\"time\": \"2023-02-05T16:37:55\", \"deg\": 240.0, \"wspd\": 33.79999923706055}, {\"time\": \"2023-02-05T16:37:56\", \"deg\": 240.0, \"wspd\": 33.900001525878906}, {\"time\": \"2023-02-05T16:37:57\", \"deg\": 240.0, \"wspd\": 34.0}, {\"time\": \"2023-02-05T16:37:58\", \"deg\": 240.0, \"wspd\": 34.099998474121094}, {\"time\": \"2023-02-05T16:37:59\", \"deg\": 240.0, \"wspd\": 34.20000076293945}, {\"time\": \"2023-02-05T16:38:00\", \"deg\": 239.0, \"wspd\": 34.29999923706055}, {\"time\": \"2023-02-05T16:38:01\", \"deg\": 239.0, \"wspd\": 34.400001525878906}, {\"time\": \"2023-02-05T16:38:02\", \"deg\": 239.0, \"wspd\": 34.5}, {\"time\": \"2023-02-05T16:38:03\", \"deg\": 239.0, \"wspd\": 34.599998474121094}, {\"time\": \"2023-02-05T16:38:04\", \"deg\": 239.0, \"wspd\": 34.70000076293945}, {\"time\": \"2023-02-05T16:38:05\", \"deg\": 239.0, \"wspd\": 34.70000076293945}, {\"time\": \"2023-02-05T16:38:06\", \"deg\": 238.0, \"wspd\": 34.79999923706055}, {\"time\": \"2023-02-05T16:38:07\", \"deg\": 238.0, \"wspd\": 34.900001525878906}, {\"time\": \"2023-02-05T16:38:08\", \"deg\": 238.0, \"wspd\": 34.900001525878906}, {\"time\": \"2023-02-05T16:38:09\", \"deg\": 238.0, \"wspd\": 35.0}, {\"time\": \"2023-02-05T16:38:10\", \"deg\": 238.0, \"wspd\": 35.099998474121094}, {\"time\": \"2023-02-05T16:38:11\", \"deg\": 237.0, \"wspd\": 35.099998474121094}, {\"time\": \"2023-02-05T16:38:12\", \"deg\": 237.0, \"wspd\": 35.20000076293945}, {\"time\": \"2023-02-05T16:38:13\", \"deg\": 237.0, \"wspd\": 35.29999923706055}, {\"time\": \"2023-02-05T16:38:14\", \"deg\": 237.0, \"wspd\": 35.29999923706055}, {\"time\": \"2023-02-05T16:38:15\", \"deg\": 237.0, \"wspd\": 35.400001525878906}, {\"time\": \"2023-02-05T16:38:16\", \"deg\": 236.0, \"wspd\": 35.400001525878906}, {\"time\": \"2023-02-05T16:38:17\", \"deg\": 236.0, \"wspd\": 35.5}, {\"time\": \"2023-02-05T16:38:18\", \"deg\": 236.0, \"wspd\": 35.5}, {\"time\": \"2023-02-05T16:38:19\", \"deg\": 236.0, \"wspd\": 35.599998474121094}, {\"time\": \"2023-02-05T16:38:20\", \"deg\": 236.0, \"wspd\": 35.599998474121094}, {\"time\": \"2023-02-05T16:38:21\", \"deg\": 236.0, \"wspd\": 35.599998474121094}, {\"time\": \"2023-02-05T16:38:22\", \"deg\": 236.0, \"wspd\": 35.70000076293945}, {\"time\": \"2023-02-05T16:38:23\", \"deg\": 236.0, \"wspd\": 35.70000076293945}, {\"time\": \"2023-02-05T16:38:24\", \"deg\": 235.0, \"wspd\": 35.70000076293945}, {\"time\": \"2023-02-05T16:38:25\", \"deg\": 235.0, \"wspd\": 35.70000076293945}, {\"time\": \"2023-02-05T16:38:26\", \"deg\": 235.0, \"wspd\": 35.79999923706055}, {\"time\": \"2023-02-05T16:38:27\", \"deg\": 235.0, \"wspd\": 35.79999923706055}, {\"time\": \"2023-02-05T16:38:28\", \"deg\": 235.0, \"wspd\": 35.79999923706055}, {\"time\": \"2023-02-05T16:38:29\", \"deg\": 235.0, \"wspd\": 35.79999923706055}, {\"time\": \"2023-02-05T16:38:30\", \"deg\": 235.0, \"wspd\": 35.900001525878906}, {\"time\": \"2023-02-05T16:38:31\", \"deg\": 235.0, \"wspd\": 35.900001525878906}, {\"time\": \"2023-02-05T16:38:32\", \"deg\": 235.0, \"wspd\": 35.900001525878906}, {\"time\": \"2023-02-05T16:38:33\", \"deg\": 235.0, \"wspd\": 35.900001525878906}, {\"time\": \"2023-02-05T16:38:34\", \"deg\": 235.0, \"wspd\": 35.900001525878906}, {\"time\": \"2023-02-05T16:38:35\", \"deg\": 235.0, \"wspd\": 35.900001525878906}, {\"time\": \"2023-02-05T16:38:36\", \"deg\": 235.0, \"wspd\": 36.0}, {\"time\": \"2023-02-05T16:38:37\", \"deg\": 235.0, \"wspd\": 36.0}, {\"time\": \"2023-02-05T16:38:38\", \"deg\": 235.0, \"wspd\": 36.0}, {\"time\": \"2023-02-05T16:38:39\", \"deg\": 235.0, \"wspd\": 36.0}, {\"time\": \"2023-02-05T16:38:40\", \"deg\": 235.0, \"wspd\": 36.0}, {\"time\": \"2023-02-05T16:38:41\", \"deg\": 235.0, \"wspd\": 36.0}, {\"time\": \"2023-02-05T16:38:42\", \"deg\": 235.0, \"wspd\": 36.099998474121094}, {\"time\": \"2023-02-05T16:38:43\", \"deg\": 235.0, \"wspd\": 36.099998474121094}, {\"time\": \"2023-02-05T16:38:44\", \"deg\": 235.0, \"wspd\": 36.099998474121094}, {\"time\": \"2023-02-05T16:38:45\", \"deg\": 235.0, \"wspd\": 36.099998474121094}, {\"time\": \"2023-02-05T16:38:46\", \"deg\": 235.0, \"wspd\": 36.099998474121094}, {\"time\": \"2023-02-05T16:38:47\", \"deg\": 235.0, \"wspd\": 36.20000076293945}, {\"time\": \"2023-02-05T16:38:48\", \"deg\": 235.0, \"wspd\": 36.20000076293945}, {\"time\": \"2023-02-05T16:38:49\", \"deg\": 235.0, \"wspd\": 36.20000076293945}, {\"time\": \"2023-02-05T16:38:50\", \"deg\": 235.0, \"wspd\": 36.20000076293945}, {\"time\": \"2023-02-05T16:38:51\", \"deg\": 235.0, \"wspd\": 36.29999923706055}, {\"time\": \"2023-02-05T16:38:52\", \"deg\": 235.0, \"wspd\": 36.29999923706055}, {\"time\": \"2023-02-05T16:38:53\", \"deg\": 235.0, \"wspd\": 36.29999923706055}, {\"time\": \"2023-02-05T16:38:54\", \"deg\": 235.0, \"wspd\": 36.29999923706055}, {\"time\": \"2023-02-05T16:38:55\", \"deg\": 235.0, \"wspd\": 36.29999923706055}, {\"time\": \"2023-02-05T16:38:56\", \"deg\": 236.0, \"wspd\": 36.400001525878906}, {\"time\": \"2023-02-05T16:38:57\", \"deg\": 236.0, \"wspd\": 36.400001525878906}, {\"time\": \"2023-02-05T16:38:58\", \"deg\": 236.0, \"wspd\": 36.400001525878906}, {\"time\": \"2023-02-05T16:38:59\", \"deg\": 236.0, \"wspd\": 36.400001525878906}, {\"time\": \"2023-02-05T16:39:00\", \"deg\": 236.0, \"wspd\": 36.400001525878906}, {\"time\": \"2023-02-05T16:39:01\", \"deg\": 236.0, \"wspd\": 36.400001525878906}, {\"time\": \"2023-02-05T16:39:02\", \"deg\": 236.0, \"wspd\": 36.400001525878906}, {\"time\": \"2023-02-05T16:39:03\", \"deg\": 236.0, \"wspd\": 36.400001525878906}, {\"time\": \"2023-02-05T16:39:04\", \"deg\": 236.0, \"wspd\": 36.400001525878906}, {\"time\": \"2023-02-05T16:39:05\", \"deg\": 236.0, \"wspd\": 36.400001525878906}, {\"time\": \"2023-02-05T16:39:06\", \"deg\": 237.0, \"wspd\": 36.400001525878906}, {\"time\": \"2023-02-05T16:39:07\", \"deg\": 237.0, \"wspd\": 36.400001525878906}, {\"time\": \"2023-02-05T16:39:08\", \"deg\": 237.0, \"wspd\": 36.400001525878906}, {\"time\": \"2023-02-05T16:39:09\", \"deg\": 237.0, \"wspd\": 36.400001525878906}, {\"time\": \"2023-02-05T16:39:10\", \"deg\": 237.0, \"wspd\": 36.400001525878906}, {\"time\": \"2023-02-05T16:39:11\", \"deg\": 237.0, \"wspd\": 36.400001525878906}, {\"time\": \"2023-02-05T16:39:12\", \"deg\": 237.0, \"wspd\": 36.400001525878906}, {\"time\": \"2023-02-05T16:39:13\", \"deg\": 237.0, \"wspd\": 36.29999923706055}, {\"time\": \"2023-02-05T16:39:14\", \"deg\": 237.0, \"wspd\": 36.29999923706055}, {\"time\": \"2023-02-05T16:39:15\", \"deg\": 237.0, \"wspd\": 36.29999923706055}, {\"time\": \"2023-02-05T16:39:16\", \"deg\": 237.0, \"wspd\": 36.29999923706055}, {\"time\": \"2023-02-05T16:39:17\", \"deg\": 238.0, \"wspd\": 36.29999923706055}, {\"time\": \"2023-02-05T16:39:18\", \"deg\": 238.0, \"wspd\": 36.20000076293945}, {\"time\": \"2023-02-05T16:39:19\", \"deg\": 238.0, \"wspd\": 36.20000076293945}, {\"time\": \"2023-02-05T16:39:20\", \"deg\": 238.0, \"wspd\": 36.20000076293945}, {\"time\": \"2023-02-05T16:39:21\", \"deg\": 238.0, \"wspd\": 36.099998474121094}, {\"time\": \"2023-02-05T16:39:22\", \"deg\": 238.0, \"wspd\": 36.099998474121094}, {\"time\": \"2023-02-05T16:39:23\", \"deg\": 238.0, \"wspd\": 36.099998474121094}, {\"time\": \"2023-02-05T16:39:24\", \"deg\": 238.0, \"wspd\": 36.099998474121094}, {\"time\": \"2023-02-05T16:39:25\", \"deg\": 238.0, \"wspd\": 36.0}, {\"time\": \"2023-02-05T16:39:26\", \"deg\": 239.0, \"wspd\": 36.0}, {\"time\": \"2023-02-05T16:39:27\", \"deg\": 239.0, \"wspd\": 36.0}, {\"time\": \"2023-02-05T16:39:28\", \"deg\": 239.0, \"wspd\": 36.0}, {\"time\": \"2023-02-05T16:39:29\", \"deg\": 239.0, \"wspd\": 35.900001525878906}, {\"time\": \"2023-02-05T16:39:30\", \"deg\": 239.0, \"wspd\": 35.900001525878906}, {\"time\": \"2023-02-05T16:39:31\", \"deg\": 239.0, \"wspd\": 35.900001525878906}, {\"time\": \"2023-02-05T16:39:32\", \"deg\": 239.0, \"wspd\": 35.900001525878906}, {\"time\": \"2023-02-05T16:39:33\", \"deg\": 239.0, \"wspd\": 35.79999923706055}, {\"time\": \"2023-02-05T16:39:34\", \"deg\": 239.0, \"wspd\": 35.79999923706055}, {\"time\": \"2023-02-05T16:39:35\", \"deg\": 239.0, \"wspd\": 35.79999923706055}, {\"time\": \"2023-02-05T16:39:36\", \"deg\": 240.0, \"wspd\": 35.79999923706055}, {\"time\": \"2023-02-05T16:39:37\", \"deg\": 240.0, \"wspd\": 35.79999923706055}, {\"time\": \"2023-02-05T16:39:38\", \"deg\": 240.0, \"wspd\": 35.70000076293945}, {\"time\": \"2023-02-05T16:39:39\", \"deg\": 240.0, \"wspd\": 35.70000076293945}, {\"time\": \"2023-02-05T16:39:40\", \"deg\": 240.0, \"wspd\": 35.70000076293945}, {\"time\": \"2023-02-05T16:39:41\", \"deg\": 240.0, \"wspd\": 35.70000076293945}, {\"time\": \"2023-02-05T16:39:42\", \"deg\": 240.0, \"wspd\": 35.599998474121094}, {\"time\": \"2023-02-05T16:39:43\", \"deg\": 240.0, \"wspd\": 35.599998474121094}, {\"time\": \"2023-02-05T16:39:44\", \"deg\": 240.0, \"wspd\": 35.599998474121094}, {\"time\": \"2023-02-05T16:39:45\", \"deg\": 240.0, \"wspd\": 35.599998474121094}, {\"time\": \"2023-02-05T16:39:46\", \"deg\": 240.0, \"wspd\": 35.5}, {\"time\": \"2023-02-05T16:39:47\", \"deg\": 240.0, \"wspd\": 35.5}, {\"time\": \"2023-02-05T16:39:48\", \"deg\": 240.0, \"wspd\": 35.5}, {\"time\": \"2023-02-05T16:39:49\", \"deg\": 240.0, \"wspd\": 35.5}, {\"time\": \"2023-02-05T16:39:50\", \"deg\": 240.0, \"wspd\": 35.5}, {\"time\": \"2023-02-05T16:39:51\", \"deg\": 240.0, \"wspd\": 35.5}, {\"time\": \"2023-02-05T16:39:52\", \"deg\": 240.0, \"wspd\": 35.400001525878906}, {\"time\": \"2023-02-05T16:39:53\", \"deg\": 241.0, \"wspd\": 35.400001525878906}, {\"time\": \"2023-02-05T16:39:54\", \"deg\": 241.0, \"wspd\": 35.400001525878906}, {\"time\": \"2023-02-05T16:39:55\", \"deg\": 241.0, \"wspd\": 35.400001525878906}, {\"time\": \"2023-02-05T16:39:56\", \"deg\": 241.0, \"wspd\": 35.400001525878906}, {\"time\": \"2023-02-05T16:39:57\", \"deg\": 241.0, \"wspd\": 35.400001525878906}, {\"time\": \"2023-02-05T16:39:58\", \"deg\": 241.0, \"wspd\": 35.400001525878906}, {\"time\": \"2023-02-05T16:39:59\", \"deg\": 241.0, \"wspd\": 35.400001525878906}, {\"time\": \"2023-02-05T16:40:00\", \"deg\": 241.0, \"wspd\": 35.5}, {\"time\": \"2023-02-05T16:40:01\", \"deg\": 241.0, \"wspd\": 35.5}, {\"time\": \"2023-02-05T16:40:02\", \"deg\": 241.0, \"wspd\": 35.5}, {\"time\": \"2023-02-05T16:40:03\", \"deg\": 241.0, \"wspd\": 35.5}, {\"time\": \"2023-02-05T16:40:04\", \"deg\": 241.0, \"wspd\": 35.599998474121094}, {\"time\": \"2023-02-05T16:40:05\", \"deg\": 241.0, \"wspd\": 35.599998474121094}, {\"time\": \"2023-02-05T16:40:06\", \"deg\": 241.0, \"wspd\": 35.599998474121094}, {\"time\": \"2023-02-05T16:40:07\", \"deg\": 241.0, \"wspd\": 35.70000076293945}, {\"time\": \"2023-02-05T16:40:08\", \"deg\": 241.0, \"wspd\": 35.70000076293945}, {\"time\": \"2023-02-05T16:40:09\", \"deg\": 241.0, \"wspd\": 35.70000076293945}, {\"time\": \"2023-02-05T16:40:10\", \"deg\": 241.0, \"wspd\": 35.79999923706055}, {\"time\": \"2023-02-05T16:40:11\", \"deg\": 241.0, \"wspd\": 35.79999923706055}, {\"time\": \"2023-02-05T16:40:12\", \"deg\": 241.0, \"wspd\": 35.79999923706055}, {\"time\": \"2023-02-05T16:40:13\", \"deg\": 241.0, \"wspd\": 35.900001525878906}, {\"time\": \"2023-02-05T16:40:14\", \"deg\": 241.0, \"wspd\": 35.900001525878906}, {\"time\": \"2023-02-05T16:40:15\", \"deg\": 241.0, \"wspd\": 36.0}, {\"time\": \"2023-02-05T16:40:16\", \"deg\": 241.0, \"wspd\": 36.0}, {\"time\": \"2023-02-05T16:40:17\", \"deg\": 241.0, \"wspd\": 36.0}, {\"time\": \"2023-02-05T16:40:18\", \"deg\": 241.0, \"wspd\": 36.099998474121094}, {\"time\": \"2023-02-05T16:40:19\", \"deg\": 241.0, \"wspd\": 36.099998474121094}, {\"time\": \"2023-02-05T16:40:20\", \"deg\": 241.0, \"wspd\": 36.099998474121094}, {\"time\": \"2023-02-05T16:40:21\", \"deg\": 241.0, \"wspd\": 36.099998474121094}, {\"time\": \"2023-02-05T16:40:22\", \"deg\": 241.0, \"wspd\": 36.20000076293945}, {\"time\": \"2023-02-05T16:40:23\", \"deg\": 241.0, \"wspd\": 36.20000076293945}, {\"time\": \"2023-02-05T16:40:24\", \"deg\": 241.0, \"wspd\": 36.20000076293945}, {\"time\": \"2023-02-05T16:40:25\", \"deg\": 241.0, \"wspd\": 36.20000076293945}, {\"time\": \"2023-02-05T16:40:26\", \"deg\": 241.0, \"wspd\": 36.29999923706055}, {\"time\": \"2023-02-05T16:40:27\", \"deg\": 241.0, \"wspd\": 36.29999923706055}, {\"time\": \"2023-02-05T16:40:28\", \"deg\": 241.0, \"wspd\": 36.29999923706055}, {\"time\": \"2023-02-05T16:40:29\", \"deg\": 241.0, \"wspd\": 36.29999923706055}, {\"time\": \"2023-02-05T16:40:30\", \"deg\": 241.0, \"wspd\": 36.400001525878906}, {\"time\": \"2023-02-05T16:40:31\", \"deg\": 241.0, \"wspd\": 36.400001525878906}, {\"time\": \"2023-02-05T16:40:32\", \"deg\": 241.0, \"wspd\": 36.400001525878906}, {\"time\": \"2023-02-05T16:40:33\", \"deg\": 241.0, \"wspd\": 36.5}, {\"time\": \"2023-02-05T16:40:34\", \"deg\": 241.0, \"wspd\": 36.5}, {\"time\": \"2023-02-05T16:40:35\", \"deg\": 241.0, \"wspd\": 36.599998474121094}, {\"time\": \"2023-02-05T16:40:36\", \"deg\": 241.0, \"wspd\": 36.599998474121094}, {\"time\": \"2023-02-05T16:40:37\", \"deg\": 242.0, \"wspd\": 36.70000076293945}, {\"time\": \"2023-02-05T16:40:38\", \"deg\": 242.0, \"wspd\": 36.70000076293945}, {\"time\": \"2023-02-05T16:40:39\", \"deg\": 242.0, \"wspd\": 36.79999923706055}, {\"time\": \"2023-02-05T16:40:40\", \"deg\": 242.0, \"wspd\": 36.79999923706055}, {\"time\": \"2023-02-05T16:40:41\", \"deg\": 242.0, \"wspd\": 36.900001525878906}, {\"time\": \"2023-02-05T16:40:42\", \"deg\": 242.0, \"wspd\": 36.900001525878906}, {\"time\": \"2023-02-05T16:40:43\", \"deg\": 242.0, \"wspd\": 37.0}, {\"time\": \"2023-02-05T16:40:44\", \"deg\": 242.0, \"wspd\": 37.099998474121094}, {\"time\": \"2023-02-05T16:40:45\", \"deg\": 242.0, \"wspd\": 37.20000076293945}, {\"time\": \"2023-02-05T16:40:46\", \"deg\": 242.0, \"wspd\": 37.29999923706055}]}}, {\"mode\": \"vega-lite\"});\n",
       "</script>"
      ],
      "text/plain": [
       "alt.HConcatChart(...)"
      ]
     },
     "execution_count": 16,
     "metadata": {},
     "output_type": "execute_result"
    }
   ],
   "source": [
    "(\n",
    "    alt.Chart(\n",
    "        synoptic_winds_local.set_index('time').loc['2023-02-19':'2023-02-25'].reset_index()\n",
    "    ).mark_bar().encode(\n",
    "        alt.X('time:T', axis=alt.Axis(format = \"%b %d\"), title=\"\"),\n",
    "        alt.Y('wspd:Q', title='Speed (m/s)')\n",
    "    ).properties(height = 100, width=100, title = \"Synoptic Winds (500hPa, m/s)\") | alt.Chart(\n",
    "        synoptic_winds_local.set_index('time').loc['2023-03-16':'2023-03-20'].reset_index()\n",
    "    ).mark_bar().encode(\n",
    "        alt.X('time:T', axis=alt.Axis(format = \"%b %d\"), title=\"\"),\n",
    "        alt.Y('wspd:Q', title='Speed (m/s)')\n",
    "    ).properties(height = 100, width=100, title = \"Synoptic Winds (500hPa, m/s)\") | alt.Chart(\n",
    "        synoptic_winds_local.set_index('time').loc['2023-01-31':'2023-02-05'].reset_index()\n",
    "    ).mark_bar().encode(\n",
    "        alt.X('time:T', axis=alt.Axis(format = \"%b %d\"), title=\"\"),\n",
    "        alt.Y('wspd:Q', title='Speed (m/s)')\n",
    "    ).properties(height = 100, width=100, title = \"Synoptic Winds (500hPa, m/s)\")\n",
    ").resolve_scale(y=\"shared\")"
   ]
  },
  {
   "cell_type": "markdown",
   "metadata": {},
   "source": []
  },
  {
   "cell_type": "code",
   "execution_count": 17,
   "metadata": {},
   "outputs": [],
   "source": [
    "import pandas as pd\n",
    "import altair as alt\n",
    "import numpy as np\n",
    "import scipy\n",
    "import matplotlib.pyplot as plt"
   ]
  },
  {
   "cell_type": "code",
   "execution_count": 19,
   "metadata": {},
   "outputs": [
    {
     "ename": "FileNotFoundError",
     "evalue": "[Errno 2] No such file or directory: '../sos/tidy_df_30Min_20230101_20230110_planar_fit.csv'",
     "output_type": "error",
     "traceback": [
      "\u001b[0;31m---------------------------------------------------------------------------\u001b[0m",
      "\u001b[0;31mFileNotFoundError\u001b[0m                         Traceback (most recent call last)",
      "Cell \u001b[0;32mIn[19], line 1\u001b[0m\n\u001b[0;32m----> 1\u001b[0m tidy_df \u001b[38;5;241m=\u001b[39m \u001b[43mpd\u001b[49m\u001b[38;5;241;43m.\u001b[39;49m\u001b[43mread_csv\u001b[49m\u001b[43m(\u001b[49m\u001b[38;5;124;43m'\u001b[39;49m\u001b[38;5;124;43m../sos/tidy_df_30Min_20230101_20230110_planar_fit.csv\u001b[39;49m\u001b[38;5;124;43m'\u001b[39;49m\u001b[43m)\u001b[49m\n",
      "File \u001b[0;32m~/miniforge3/envs/sublimationofsnow/lib/python3.12/site-packages/pandas/io/parsers/readers.py:1024\u001b[0m, in \u001b[0;36mread_csv\u001b[0;34m(filepath_or_buffer, sep, delimiter, header, names, index_col, usecols, dtype, engine, converters, true_values, false_values, skipinitialspace, skiprows, skipfooter, nrows, na_values, keep_default_na, na_filter, verbose, skip_blank_lines, parse_dates, infer_datetime_format, keep_date_col, date_parser, date_format, dayfirst, cache_dates, iterator, chunksize, compression, thousands, decimal, lineterminator, quotechar, quoting, doublequote, escapechar, comment, encoding, encoding_errors, dialect, on_bad_lines, delim_whitespace, low_memory, memory_map, float_precision, storage_options, dtype_backend)\u001b[0m\n\u001b[1;32m   1011\u001b[0m kwds_defaults \u001b[38;5;241m=\u001b[39m _refine_defaults_read(\n\u001b[1;32m   1012\u001b[0m     dialect,\n\u001b[1;32m   1013\u001b[0m     delimiter,\n\u001b[0;32m   (...)\u001b[0m\n\u001b[1;32m   1020\u001b[0m     dtype_backend\u001b[38;5;241m=\u001b[39mdtype_backend,\n\u001b[1;32m   1021\u001b[0m )\n\u001b[1;32m   1022\u001b[0m kwds\u001b[38;5;241m.\u001b[39mupdate(kwds_defaults)\n\u001b[0;32m-> 1024\u001b[0m \u001b[38;5;28;01mreturn\u001b[39;00m \u001b[43m_read\u001b[49m\u001b[43m(\u001b[49m\u001b[43mfilepath_or_buffer\u001b[49m\u001b[43m,\u001b[49m\u001b[43m \u001b[49m\u001b[43mkwds\u001b[49m\u001b[43m)\u001b[49m\n",
      "File \u001b[0;32m~/miniforge3/envs/sublimationofsnow/lib/python3.12/site-packages/pandas/io/parsers/readers.py:618\u001b[0m, in \u001b[0;36m_read\u001b[0;34m(filepath_or_buffer, kwds)\u001b[0m\n\u001b[1;32m    615\u001b[0m _validate_names(kwds\u001b[38;5;241m.\u001b[39mget(\u001b[38;5;124m\"\u001b[39m\u001b[38;5;124mnames\u001b[39m\u001b[38;5;124m\"\u001b[39m, \u001b[38;5;28;01mNone\u001b[39;00m))\n\u001b[1;32m    617\u001b[0m \u001b[38;5;66;03m# Create the parser.\u001b[39;00m\n\u001b[0;32m--> 618\u001b[0m parser \u001b[38;5;241m=\u001b[39m \u001b[43mTextFileReader\u001b[49m\u001b[43m(\u001b[49m\u001b[43mfilepath_or_buffer\u001b[49m\u001b[43m,\u001b[49m\u001b[43m \u001b[49m\u001b[38;5;241;43m*\u001b[39;49m\u001b[38;5;241;43m*\u001b[39;49m\u001b[43mkwds\u001b[49m\u001b[43m)\u001b[49m\n\u001b[1;32m    620\u001b[0m \u001b[38;5;28;01mif\u001b[39;00m chunksize \u001b[38;5;129;01mor\u001b[39;00m iterator:\n\u001b[1;32m    621\u001b[0m     \u001b[38;5;28;01mreturn\u001b[39;00m parser\n",
      "File \u001b[0;32m~/miniforge3/envs/sublimationofsnow/lib/python3.12/site-packages/pandas/io/parsers/readers.py:1618\u001b[0m, in \u001b[0;36mTextFileReader.__init__\u001b[0;34m(self, f, engine, **kwds)\u001b[0m\n\u001b[1;32m   1615\u001b[0m     \u001b[38;5;28mself\u001b[39m\u001b[38;5;241m.\u001b[39moptions[\u001b[38;5;124m\"\u001b[39m\u001b[38;5;124mhas_index_names\u001b[39m\u001b[38;5;124m\"\u001b[39m] \u001b[38;5;241m=\u001b[39m kwds[\u001b[38;5;124m\"\u001b[39m\u001b[38;5;124mhas_index_names\u001b[39m\u001b[38;5;124m\"\u001b[39m]\n\u001b[1;32m   1617\u001b[0m \u001b[38;5;28mself\u001b[39m\u001b[38;5;241m.\u001b[39mhandles: IOHandles \u001b[38;5;241m|\u001b[39m \u001b[38;5;28;01mNone\u001b[39;00m \u001b[38;5;241m=\u001b[39m \u001b[38;5;28;01mNone\u001b[39;00m\n\u001b[0;32m-> 1618\u001b[0m \u001b[38;5;28mself\u001b[39m\u001b[38;5;241m.\u001b[39m_engine \u001b[38;5;241m=\u001b[39m \u001b[38;5;28;43mself\u001b[39;49m\u001b[38;5;241;43m.\u001b[39;49m\u001b[43m_make_engine\u001b[49m\u001b[43m(\u001b[49m\u001b[43mf\u001b[49m\u001b[43m,\u001b[49m\u001b[43m \u001b[49m\u001b[38;5;28;43mself\u001b[39;49m\u001b[38;5;241;43m.\u001b[39;49m\u001b[43mengine\u001b[49m\u001b[43m)\u001b[49m\n",
      "File \u001b[0;32m~/miniforge3/envs/sublimationofsnow/lib/python3.12/site-packages/pandas/io/parsers/readers.py:1878\u001b[0m, in \u001b[0;36mTextFileReader._make_engine\u001b[0;34m(self, f, engine)\u001b[0m\n\u001b[1;32m   1876\u001b[0m     \u001b[38;5;28;01mif\u001b[39;00m \u001b[38;5;124m\"\u001b[39m\u001b[38;5;124mb\u001b[39m\u001b[38;5;124m\"\u001b[39m \u001b[38;5;129;01mnot\u001b[39;00m \u001b[38;5;129;01min\u001b[39;00m mode:\n\u001b[1;32m   1877\u001b[0m         mode \u001b[38;5;241m+\u001b[39m\u001b[38;5;241m=\u001b[39m \u001b[38;5;124m\"\u001b[39m\u001b[38;5;124mb\u001b[39m\u001b[38;5;124m\"\u001b[39m\n\u001b[0;32m-> 1878\u001b[0m \u001b[38;5;28mself\u001b[39m\u001b[38;5;241m.\u001b[39mhandles \u001b[38;5;241m=\u001b[39m \u001b[43mget_handle\u001b[49m\u001b[43m(\u001b[49m\n\u001b[1;32m   1879\u001b[0m \u001b[43m    \u001b[49m\u001b[43mf\u001b[49m\u001b[43m,\u001b[49m\n\u001b[1;32m   1880\u001b[0m \u001b[43m    \u001b[49m\u001b[43mmode\u001b[49m\u001b[43m,\u001b[49m\n\u001b[1;32m   1881\u001b[0m \u001b[43m    \u001b[49m\u001b[43mencoding\u001b[49m\u001b[38;5;241;43m=\u001b[39;49m\u001b[38;5;28;43mself\u001b[39;49m\u001b[38;5;241;43m.\u001b[39;49m\u001b[43moptions\u001b[49m\u001b[38;5;241;43m.\u001b[39;49m\u001b[43mget\u001b[49m\u001b[43m(\u001b[49m\u001b[38;5;124;43m\"\u001b[39;49m\u001b[38;5;124;43mencoding\u001b[39;49m\u001b[38;5;124;43m\"\u001b[39;49m\u001b[43m,\u001b[49m\u001b[43m \u001b[49m\u001b[38;5;28;43;01mNone\u001b[39;49;00m\u001b[43m)\u001b[49m\u001b[43m,\u001b[49m\n\u001b[1;32m   1882\u001b[0m \u001b[43m    \u001b[49m\u001b[43mcompression\u001b[49m\u001b[38;5;241;43m=\u001b[39;49m\u001b[38;5;28;43mself\u001b[39;49m\u001b[38;5;241;43m.\u001b[39;49m\u001b[43moptions\u001b[49m\u001b[38;5;241;43m.\u001b[39;49m\u001b[43mget\u001b[49m\u001b[43m(\u001b[49m\u001b[38;5;124;43m\"\u001b[39;49m\u001b[38;5;124;43mcompression\u001b[39;49m\u001b[38;5;124;43m\"\u001b[39;49m\u001b[43m,\u001b[49m\u001b[43m \u001b[49m\u001b[38;5;28;43;01mNone\u001b[39;49;00m\u001b[43m)\u001b[49m\u001b[43m,\u001b[49m\n\u001b[1;32m   1883\u001b[0m \u001b[43m    \u001b[49m\u001b[43mmemory_map\u001b[49m\u001b[38;5;241;43m=\u001b[39;49m\u001b[38;5;28;43mself\u001b[39;49m\u001b[38;5;241;43m.\u001b[39;49m\u001b[43moptions\u001b[49m\u001b[38;5;241;43m.\u001b[39;49m\u001b[43mget\u001b[49m\u001b[43m(\u001b[49m\u001b[38;5;124;43m\"\u001b[39;49m\u001b[38;5;124;43mmemory_map\u001b[39;49m\u001b[38;5;124;43m\"\u001b[39;49m\u001b[43m,\u001b[49m\u001b[43m \u001b[49m\u001b[38;5;28;43;01mFalse\u001b[39;49;00m\u001b[43m)\u001b[49m\u001b[43m,\u001b[49m\n\u001b[1;32m   1884\u001b[0m \u001b[43m    \u001b[49m\u001b[43mis_text\u001b[49m\u001b[38;5;241;43m=\u001b[39;49m\u001b[43mis_text\u001b[49m\u001b[43m,\u001b[49m\n\u001b[1;32m   1885\u001b[0m \u001b[43m    \u001b[49m\u001b[43merrors\u001b[49m\u001b[38;5;241;43m=\u001b[39;49m\u001b[38;5;28;43mself\u001b[39;49m\u001b[38;5;241;43m.\u001b[39;49m\u001b[43moptions\u001b[49m\u001b[38;5;241;43m.\u001b[39;49m\u001b[43mget\u001b[49m\u001b[43m(\u001b[49m\u001b[38;5;124;43m\"\u001b[39;49m\u001b[38;5;124;43mencoding_errors\u001b[39;49m\u001b[38;5;124;43m\"\u001b[39;49m\u001b[43m,\u001b[49m\u001b[43m \u001b[49m\u001b[38;5;124;43m\"\u001b[39;49m\u001b[38;5;124;43mstrict\u001b[39;49m\u001b[38;5;124;43m\"\u001b[39;49m\u001b[43m)\u001b[49m\u001b[43m,\u001b[49m\n\u001b[1;32m   1886\u001b[0m \u001b[43m    \u001b[49m\u001b[43mstorage_options\u001b[49m\u001b[38;5;241;43m=\u001b[39;49m\u001b[38;5;28;43mself\u001b[39;49m\u001b[38;5;241;43m.\u001b[39;49m\u001b[43moptions\u001b[49m\u001b[38;5;241;43m.\u001b[39;49m\u001b[43mget\u001b[49m\u001b[43m(\u001b[49m\u001b[38;5;124;43m\"\u001b[39;49m\u001b[38;5;124;43mstorage_options\u001b[39;49m\u001b[38;5;124;43m\"\u001b[39;49m\u001b[43m,\u001b[49m\u001b[43m \u001b[49m\u001b[38;5;28;43;01mNone\u001b[39;49;00m\u001b[43m)\u001b[49m\u001b[43m,\u001b[49m\n\u001b[1;32m   1887\u001b[0m \u001b[43m\u001b[49m\u001b[43m)\u001b[49m\n\u001b[1;32m   1888\u001b[0m \u001b[38;5;28;01massert\u001b[39;00m \u001b[38;5;28mself\u001b[39m\u001b[38;5;241m.\u001b[39mhandles \u001b[38;5;129;01mis\u001b[39;00m \u001b[38;5;129;01mnot\u001b[39;00m \u001b[38;5;28;01mNone\u001b[39;00m\n\u001b[1;32m   1889\u001b[0m f \u001b[38;5;241m=\u001b[39m \u001b[38;5;28mself\u001b[39m\u001b[38;5;241m.\u001b[39mhandles\u001b[38;5;241m.\u001b[39mhandle\n",
      "File \u001b[0;32m~/miniforge3/envs/sublimationofsnow/lib/python3.12/site-packages/pandas/io/common.py:873\u001b[0m, in \u001b[0;36mget_handle\u001b[0;34m(path_or_buf, mode, encoding, compression, memory_map, is_text, errors, storage_options)\u001b[0m\n\u001b[1;32m    868\u001b[0m \u001b[38;5;28;01melif\u001b[39;00m \u001b[38;5;28misinstance\u001b[39m(handle, \u001b[38;5;28mstr\u001b[39m):\n\u001b[1;32m    869\u001b[0m     \u001b[38;5;66;03m# Check whether the filename is to be opened in binary mode.\u001b[39;00m\n\u001b[1;32m    870\u001b[0m     \u001b[38;5;66;03m# Binary mode does not support 'encoding' and 'newline'.\u001b[39;00m\n\u001b[1;32m    871\u001b[0m     \u001b[38;5;28;01mif\u001b[39;00m ioargs\u001b[38;5;241m.\u001b[39mencoding \u001b[38;5;129;01mand\u001b[39;00m \u001b[38;5;124m\"\u001b[39m\u001b[38;5;124mb\u001b[39m\u001b[38;5;124m\"\u001b[39m \u001b[38;5;129;01mnot\u001b[39;00m \u001b[38;5;129;01min\u001b[39;00m ioargs\u001b[38;5;241m.\u001b[39mmode:\n\u001b[1;32m    872\u001b[0m         \u001b[38;5;66;03m# Encoding\u001b[39;00m\n\u001b[0;32m--> 873\u001b[0m         handle \u001b[38;5;241m=\u001b[39m \u001b[38;5;28;43mopen\u001b[39;49m\u001b[43m(\u001b[49m\n\u001b[1;32m    874\u001b[0m \u001b[43m            \u001b[49m\u001b[43mhandle\u001b[49m\u001b[43m,\u001b[49m\n\u001b[1;32m    875\u001b[0m \u001b[43m            \u001b[49m\u001b[43mioargs\u001b[49m\u001b[38;5;241;43m.\u001b[39;49m\u001b[43mmode\u001b[49m\u001b[43m,\u001b[49m\n\u001b[1;32m    876\u001b[0m \u001b[43m            \u001b[49m\u001b[43mencoding\u001b[49m\u001b[38;5;241;43m=\u001b[39;49m\u001b[43mioargs\u001b[49m\u001b[38;5;241;43m.\u001b[39;49m\u001b[43mencoding\u001b[49m\u001b[43m,\u001b[49m\n\u001b[1;32m    877\u001b[0m \u001b[43m            \u001b[49m\u001b[43merrors\u001b[49m\u001b[38;5;241;43m=\u001b[39;49m\u001b[43merrors\u001b[49m\u001b[43m,\u001b[49m\n\u001b[1;32m    878\u001b[0m \u001b[43m            \u001b[49m\u001b[43mnewline\u001b[49m\u001b[38;5;241;43m=\u001b[39;49m\u001b[38;5;124;43m\"\u001b[39;49m\u001b[38;5;124;43m\"\u001b[39;49m\u001b[43m,\u001b[49m\n\u001b[1;32m    879\u001b[0m \u001b[43m        \u001b[49m\u001b[43m)\u001b[49m\n\u001b[1;32m    880\u001b[0m     \u001b[38;5;28;01melse\u001b[39;00m:\n\u001b[1;32m    881\u001b[0m         \u001b[38;5;66;03m# Binary mode\u001b[39;00m\n\u001b[1;32m    882\u001b[0m         handle \u001b[38;5;241m=\u001b[39m \u001b[38;5;28mopen\u001b[39m(handle, ioargs\u001b[38;5;241m.\u001b[39mmode)\n",
      "\u001b[0;31mFileNotFoundError\u001b[0m: [Errno 2] No such file or directory: '../sos/tidy_df_30Min_20230101_20230110_planar_fit.csv'"
     ]
    }
   ],
   "source": [
    "tidy_df = pd.read_csv('../sos/tidy_df_30Min_20230101_20230110_planar_fit.csv')"
   ]
  },
  {
   "cell_type": "code",
   "execution_count": null,
   "metadata": {},
   "outputs": [],
   "source": [
    "def calculate_gradient_for_measurement(df, measurement='u'):\n",
    "    # Group the DataFrame by \"time\" and \"height\"\n",
    "    groups = df.query(f\"measurement == '{measurement}'\").groupby([\"time\", \"tower\"])\n",
    "\n",
    "    # Define a function to fit a 2nd order polynomial to each group\n",
    "    def fit_polynomial(group):\n",
    "        x = [0] + list(group[\"height\"].sort_values())\n",
    "        y = [0] + list(group[\"value\"].sort_values())\n",
    "        coeffs = np.polyfit(x, y, 3)\n",
    "        return pd.Series(coeffs, index=[\"a\", \"b\", \"c\", \"d\"])\n",
    "    def fit_polynomial_safely(group):\n",
    "        try:\n",
    "            return fit_polynomial(group)\n",
    "        except SystemError:\n",
    "            return pd.Series([np.nan, np.nan, np.nan(), np.nan], index=[\"a\", \"b\", \"c\", \"d\"])\n",
    "\n",
    "    # Apply the function to each group and store the results in a new DataFrame\n",
    "    poly_coeffs_df = groups.apply(fit_polynomial_safely)\n",
    "    return poly_coeffs_df"
   ]
  },
  {
   "cell_type": "code",
   "execution_count": null,
   "metadata": {},
   "outputs": [],
   "source": [
    "def calculate gradient"
   ]
  },
  {
   "cell_type": "code",
   "execution_count": null,
   "metadata": {},
   "outputs": [],
   "source": [
    "src_u = tidy_df.query(\"time == '2023-01-10 16:00:00'\").query(\"tower == 'c'\").query(\"measurement == 'wind speed'\").sort_values(\"height\")\n",
    "src_v = tidy_df.query(\"time == '2023-01-10 16:00:00'\").query(\"tower == 'c'\").query(\"measurement == 'v'\").sort_values(\"height\")"
   ]
  },
  {
   "cell_type": "code",
   "execution_count": null,
   "metadata": {},
   "outputs": [],
   "source": [
    "def log_linear_fn(z, a, b):\n",
    "        z0 = 0.05 #(Sun et al., 2011)\n",
    "        return a*np.log(z/z0) + b * (z/z0)\n",
    "(a_u,b_u), _ = scipy.optimize.curve_fit(\n",
    "    log_linear_fn,\n",
    "    list(src_u.height),\n",
    "    list(src_u.value),\n",
    ")\n",
    "(a_v,b_v), _ = scipy.optimize.curve_fit(\n",
    "    log_linear_fn,\n",
    "    list(src_v.height),\n",
    "    list(src_v.value),\n",
    ")"
   ]
  },
  {
   "cell_type": "code",
   "execution_count": null,
   "metadata": {},
   "outputs": [],
   "source": [
    "poly_coeffs_df = calculate_gradient_for_measurement(tidy_df)\n"
   ]
  },
  {
   "cell_type": "code",
   "execution_count": null,
   "metadata": {},
   "outputs": [],
   "source": [
    "estimates = [log_linear_fn(h, a, b) for h in ([0] + list(src.height))]"
   ]
  },
  {
   "cell_type": "code",
   "execution_count": null,
   "metadata": {},
   "outputs": [],
   "source": [
    "h_values = [1,2,3,5,10,15,20]\n",
    "\n",
    "u_estimates = [log_linear_fn(h, a_u, b_u) for h in h_values]\n",
    "v_estimates = [log_linear_fn(h, a_v, b_v) for h in h_values]\n",
    "plt.scatter(src_u.value, src_u.height, color='k')\n",
    "plt.plot(u_estimates, h_values)\n",
    "plt.scatter(src_v.value, src_v.height, color='k')\n",
    "# plt.plot(v_estimates, h_values)"
   ]
  },
  {
   "cell_type": "code",
   "execution_count": null,
   "metadata": {},
   "outputs": [],
   "source": [
    "def get_estimates(row, height_values):\n",
    "    a,b,c,d = (row['a'], row['b'], row['c'], row['d'])\n",
    "    estimates = [\n",
    "        a + b*h + c*h**2 + d*h**3 for h in height_values\n",
    "    ]\n",
    "    return estimates\n",
    "\n",
    "\n",
    "\n",
    "example_set = poly_coeffs_df.query(\"time == '2023-01-10 16:00:00'\").query(\"tower == 'c'\")\n",
    "estimates = get_estimates(example_set.iloc[0], [0,1,2,3,5,10,15,20])\n",
    "estimates\n",
    "\n",
    "plt.scatter(src.value, src.height)\n",
    "plt.scatter(estimates, [0,1,2,3,5,10,15,20])\n",
    "plt.xlim(0, 1)"
   ]
  },
  {
   "cell_type": "code",
   "execution_count": null,
   "metadata": {},
   "outputs": [],
   "source": [
    "poly_coeffs_df.loc[poly_coeffs_df.index[0]]"
   ]
  },
  {
   "cell_type": "code",
   "execution_count": null,
   "metadata": {},
   "outputs": [],
   "source": [
    "import matplotlib.pyplot as plt"
   ]
  },
  {
   "cell_type": "code",
   "execution_count": null,
   "metadata": {},
   "outputs": [],
   "source": [
    "plt.plot()"
   ]
  },
  {
   "cell_type": "code",
   "execution_count": null,
   "metadata": {},
   "outputs": [],
   "source": [
    "x, y"
   ]
  },
  {
   "cell_type": "code",
   "execution_count": null,
   "metadata": {},
   "outputs": [],
   "source": []
  },
  {
   "cell_type": "code",
   "execution_count": null,
   "metadata": {},
   "outputs": [],
   "source": [
    "poly_coeffs_df"
   ]
  },
  {
   "cell_type": "code",
   "execution_count": null,
   "metadata": {},
   "outputs": [],
   "source": [
    "# create an empty list to hold the gradient values\n",
    "gradient_values = []\n",
    "\n",
    "groups = tidy_df.query(\"measurement == 'u'\").groupby([\"time\", \"tower\"])\n",
    "\n",
    "\n",
    "# loop through each group\n",
    "for name, group in groups:\n",
    "    # extract the values from the \"height\" and \"value\" columns\n",
    "    x = group[\"height\"].values\n",
    "    y = group[\"value\"].values\n",
    "\n",
    "    # fit a second-order polynomial to the data\n",
    "    coeffs = np.polyfit(y, x, 2)\n",
    "    \n",
    "#     deriv = np.polyder(coeffs)\n",
    "#     # calculate the gradient of the fitted polynomial\n",
    "#     gradient = 2 * coeffs[0] * x + coeffs[1]\n",
    "    \n",
    "#     # add the gradient values to the list\n",
    "#     gradient_values.append(gradient)\n",
    "    \n",
    "# # convert the list of gradient values to a pandas DataFrame\n",
    "# gradient_df = pd.DataFrame(gradient_values)\n",
    "\n",
    "# # add columns for the \"time\" and \"tower\" values\n",
    "# gradient_df[\"time\"] = groups.apply(lambda x: x[\"time\"].iloc[0]).values\n",
    "# gradient_df[\"tower\"] = groups.apply(lambda x: x[\"tower\"].iloc[0]).values\n",
    "\n",
    "# # rename the columns to something more descriptive\n",
    "# gradient_df.columns = [\"gradient\", \"time\", \"tower\"]\n"
   ]
  },
  {
   "cell_type": "code",
   "execution_count": null,
   "metadata": {},
   "outputs": [],
   "source": [
    "gradient_df"
   ]
  },
  {
   "cell_type": "code",
   "execution_count": null,
   "metadata": {},
   "outputs": [],
   "source": [
    "# groupby: tower, height: time \n",
    "\n",
    "# Plot profiles of u, temperature, and humidity\n",
    "\n",
    "# Fit 3 functions to 3 profiles\n",
    "\n",
    "# Calculate shear at each height, interpolating with your fit\n",
    "    # How to calculate shear?\n",
    "    # 1. Differentiate the fitted function get value\n",
    "    # 2. use the two sensors on either side?\n",
    "\n",
    "# Assign calculated shear values to tidy_df\n",
    "\n",
    "# calculate R^2 of fit\n",
    "\n",
    "tidy_df"
   ]
  },
  {
   "cell_type": "code",
   "execution_count": null,
   "metadata": {},
   "outputs": [],
   "source": [
    "g = tidy_df.groupby(['tower', 'height', 'time'])"
   ]
  },
  {
   "cell_type": "code",
   "execution_count": null,
   "metadata": {},
   "outputs": [],
   "source": [
    "df = g.get_group(list(g.groups)[500])\n"
   ]
  },
  {
   "cell_type": "code",
   "execution_count": null,
   "metadata": {},
   "outputs": [],
   "source": [
    "tidy_df.tower.unique()"
   ]
  },
  {
   "cell_type": "code",
   "execution_count": null,
   "metadata": {},
   "outputs": [],
   "source": [
    "tidy_df.query(\"measurement == 'u'\")"
   ]
  },
  {
   "cell_type": "code",
   "execution_count": null,
   "metadata": {},
   "outputs": [],
   "source": []
  },
  {
   "attachments": {},
   "cell_type": "markdown",
   "metadata": {},
   "source": [
    "# Resample Doppler LiDAR and Sonde Wind Directions"
   ]
  },
  {
   "cell_type": "code",
   "execution_count": null,
   "metadata": {},
   "outputs": [],
   "source": [
    "synoptic_winds = synoptic_winds.resample(\"720Min\").median() # 12 hours\n",
    "below_ridge_winds = below_ridge_winds.resample(\"720Min\").median()\n",
    "above_ridge_winds = above_ridge_winds.resample(\"720Min\").median()"
   ]
  },
  {
   "attachments": {},
   "cell_type": "markdown",
   "metadata": {},
   "source": [
    "# Combine data and categorize \"day vs night\" and \"synoptically weak vs strong\"\n"
   ]
  },
  {
   "cell_type": "code",
   "execution_count": null,
   "metadata": {},
   "outputs": [],
   "source": [
    "wind_comparison_df = pd.DataFrame({\n",
    "    '500hpa wind dir': synoptic_winds['deg'],\n",
    "    '500hpa wind speed': synoptic_winds['wspd'],\n",
    "    'below ridgeline wind dir': below_ridge_winds,\n",
    "    'above ridgeline wind dir': above_ridge_winds,\n",
    "}).reset_index()"
   ]
  },
  {
   "cell_type": "code",
   "execution_count": null,
   "metadata": {},
   "outputs": [],
   "source": [
    "sns.distplot(wind_comparison_df['500hpa wind speed'], bins=100, kde=False, norm_hist=True)"
   ]
  },
  {
   "cell_type": "code",
   "execution_count": null,
   "metadata": {},
   "outputs": [],
   "source": [
    "wind_comparison_df = sosutils.modify_df_timezone(wind_comparison_df, 'UTC', \"US/Mountain\")\n",
    "wind_comparison_df['time of day'] = wind_comparison_df['time'].apply(lambda t: 'night' if t.hour == 5 else 'day')\n",
    "wind_comparison_df['synoptic strength'] = wind_comparison_df['500hpa wind speed'].apply(lambda spd: \"weak\" if spd < 12 else \"strong\")\n",
    "wind_comparison_df['season'] = wind_comparison_df['time'].apply(lambda dt: 'winter' if dt.month in [11,12,1,2,3,4,5] else 'summer')"
   ]
  },
  {
   "cell_type": "code",
   "execution_count": null,
   "metadata": {},
   "outputs": [],
   "source": [
    "axis = alt.Axis(values=[0,90,180,270, 360])\n",
    "scale = alt.Scale(domain=[0,360], nice=False)\n",
    "\n",
    "c1 = alt.Chart(wind_comparison_df).mark_circle(size=10).encode(\n",
    "    alt.X(\"500hpa wind dir:Q\", axis=axis, scale=scale),\n",
    "    alt.Y(\"above ridgeline wind dir:Q\", axis=axis, scale=scale),\n",
    "    alt.Color(\"synoptic strength:N\"),\n",
    "    # alt.Facet(\"time of day:N\")\n",
    ").properties(width=150, height = 150)\n",
    "\n",
    "c2 = alt.Chart(wind_comparison_df).mark_circle(size=10).encode(\n",
    "    alt.X(\"500hpa wind dir:Q\", axis=axis, scale=scale),\n",
    "    alt.Y(\"below ridgeline wind dir:Q\", axis=axis, scale=scale),\n",
    "    alt.Color(\"synoptic strength:N\"),\n",
    "    # alt.Facet(\"time of day:N\")\n",
    ").properties(width=150, height = 150)\n",
    "\n",
    "c3 = alt.Chart(wind_comparison_df).mark_circle(size=10).encode(\n",
    "    alt.X(\"above ridgeline wind dir:Q\", axis=axis, scale=scale),\n",
    "    alt.Y(\"below ridgeline wind dir:Q\", axis=axis, scale=scale),\n",
    "    alt.Color(\"synoptic strength:N\"),\n",
    "    # alt.Facet(\"time of day:N\")\n",
    ").properties(width=150, height = 150)\n",
    "\n",
    "(c1.properties(title='A') | c2.properties(title='B') | c3.properties(title='C'))"
   ]
  },
  {
   "cell_type": "code",
   "execution_count": null,
   "metadata": {},
   "outputs": [],
   "source": [
    "axis = alt.Axis(values=[0,90,180,270, 360])\n",
    "scale = alt.Scale(domain=[0,360], nice=False)\n",
    "\n",
    "c1 = alt.Chart(wind_comparison_df).mark_rect().encode(\n",
    "    alt.X('500hpa wind dir:Q', bin=alt.Bin(maxbins=50), axis=axis, scale=scale),\n",
    "    alt.Y('above ridgeline wind dir:Q', bin=alt.Bin(maxbins=50), axis=axis, scale=scale),\n",
    "    alt.Color('count():Q', scale=alt.Scale(scheme='greenblue'))\n",
    ").properties(width=150, height = 150)\n",
    "\n",
    "c2 = alt.Chart(wind_comparison_df).mark_rect().encode(\n",
    "    alt.X('500hpa wind dir:Q', bin=alt.Bin(maxbins=50), axis=axis, scale=scale),\n",
    "    alt.Y('below ridgeline wind dir:Q', bin=alt.Bin(maxbins=50), axis=axis, scale=scale),\n",
    "    alt.Color('count():Q', scale=alt.Scale(scheme='greenblue'))\n",
    ").properties(width=150, height = 150)\n",
    "\n",
    "c3 = alt.Chart(wind_comparison_df).mark_rect().encode(\n",
    "    alt.X('above ridgeline wind dir:Q', bin=alt.Bin(maxbins=50), axis=axis, scale=scale),\n",
    "    alt.Y('below ridgeline wind dir:Q', bin=alt.Bin(maxbins=50), axis=axis, scale=scale),\n",
    "    alt.Color('count():Q', scale=alt.Scale(scheme='greenblue'))\n",
    ").properties(width=150, height = 150)\n",
    "\n",
    "(c1.properties(title='A') | c2.properties(title='B') | c3.properties(title='C'))"
   ]
  },
  {
   "cell_type": "code",
   "execution_count": null,
   "metadata": {},
   "outputs": [],
   "source": [
    "src = wind_comparison_df.query(\"season == 'winter'\")\n",
    "\n",
    "c1 = alt.Chart(src).mark_circle(size=10).encode(\n",
    "    alt.X(\"500hpa wind dir:Q\", axis=axis, scale=scale),\n",
    "    alt.Y(\"above ridgeline wind dir:Q\", axis=axis, scale=scale),\n",
    "    alt.Color(\"synoptic strength:N\"),\n",
    "    # alt.Facet(\"time of day:N\")\n",
    ").properties(width=150, height = 150)\n",
    "\n",
    "c2 = alt.Chart(src).mark_circle(size=10).encode(\n",
    "    alt.X(\"500hpa wind dir:Q\", axis=axis, scale=scale),\n",
    "    alt.Y(\"below ridgeline wind dir:Q\", axis=axis, scale=scale),\n",
    "    alt.Color(\"synoptic strength:N\"),\n",
    "    # alt.Facet(\"time of day:N\")\n",
    ").properties(width=150, height = 150)\n",
    "\n",
    "c3 = alt.Chart(src).mark_circle(size=10).encode(\n",
    "    alt.X(\"above ridgeline wind dir:Q\", axis=axis, scale=scale),\n",
    "    alt.Y(\"below ridgeline wind dir:Q\", axis=axis, scale=scale),\n",
    "    alt.Color(\"synoptic strength:N\"),\n",
    "    # alt.Facet(\"time of day:N\")\n",
    ").properties(width=150, height = 150)\n",
    "\n",
    "snow_on_plots = (c1.properties(title='Snow On') | c2.properties(title='Snow On') | c3.properties(title='Snow On'))"
   ]
  },
  {
   "cell_type": "code",
   "execution_count": null,
   "metadata": {},
   "outputs": [],
   "source": [
    "axis = alt.Axis(values=[0,90,180,270, 360])\n",
    "scale = alt.Scale(domain=[0,360], nice=False)\n",
    "\n",
    "src = wind_comparison_df.query(\"season == 'summer'\")\n",
    "\n",
    "c1 = alt.Chart(src).mark_circle(size=10).encode(\n",
    "    alt.X(\"500hpa wind dir:Q\", axis=axis, scale=scale),\n",
    "    alt.Y(\"above ridgeline wind dir:Q\", axis=axis, scale=scale),\n",
    "    alt.Color(\"synoptic strength:N\"),\n",
    "    # alt.Facet(\"time of day:N\")\n",
    ").properties(width=150, height = 150)\n",
    "\n",
    "c2 = alt.Chart(src).mark_circle(size=10).encode(\n",
    "    alt.X(\"500hpa wind dir:Q\", axis=axis, scale=scale),\n",
    "    alt.Y(\"below ridgeline wind dir:Q\", axis=axis, scale=scale),\n",
    "    alt.Color(\"synoptic strength:N\"),\n",
    "    # alt.Facet(\"time of day:N\")\n",
    ").properties(width=150, height = 150)\n",
    "\n",
    "c3 = alt.Chart(src).mark_circle(size=10).encode(\n",
    "    alt.X(\"above ridgeline wind dir:Q\", axis=axis, scale=scale),\n",
    "    alt.Y(\"below ridgeline wind dir:Q\", axis=axis, scale=scale),\n",
    "    alt.Color(\"synoptic strength:N\"),\n",
    "    # alt.Facet(\"time of day:N\")\n",
    ").properties(width=150, height = 150)\n",
    "\n",
    "snow_off_plots = (c1.properties(title='Snow Off') | c2.properties(title='Snow Off') | c3.properties(title='Snow Off'))"
   ]
  },
  {
   "cell_type": "code",
   "execution_count": null,
   "metadata": {},
   "outputs": [],
   "source": [
    "snow_on_plots & snow_off_plots"
   ]
  },
  {
   "cell_type": "code",
   "execution_count": null,
   "metadata": {},
   "outputs": [],
   "source": [
    "src = wind_comparison_df.query(\"season == 'winter'\")\n",
    "\n",
    "c1 = alt.Chart(src).mark_rect().encode(\n",
    "    alt.X('500hpa wind dir:Q', bin=alt.Bin(maxbins=25), axis=axis, scale=scale),\n",
    "    alt.Y('above ridgeline wind dir:Q', bin=alt.Bin(maxbins=25), axis=axis, scale=scale),\n",
    "    alt.Color('count():Q', scale=alt.Scale(scheme='greenblue'))\n",
    ").properties(width=150, height = 150)\n",
    "\n",
    "c2 = alt.Chart(src).mark_rect().encode(\n",
    "    alt.X('500hpa wind dir:Q', bin=alt.Bin(maxbins=25), axis=axis, scale=scale),\n",
    "    alt.Y('below ridgeline wind dir:Q', bin=alt.Bin(maxbins=25), axis=axis, scale=scale),\n",
    "    alt.Color('count():Q', scale=alt.Scale(scheme='greenblue'))\n",
    ").properties(width=150, height = 150)\n",
    "\n",
    "c3 = alt.Chart(src).mark_rect().encode(\n",
    "    alt.X('above ridgeline wind dir:Q', bin=alt.Bin(maxbins=25), axis=axis, scale=scale),\n",
    "    alt.Y('below ridgeline wind dir:Q', bin=alt.Bin(maxbins=25), axis=axis, scale=scale),\n",
    "    alt.Color('count():Q', scale=alt.Scale(scheme='greenblue'))\n",
    ").properties(width=150, height = 150)\n",
    "\n",
    "snow_on_plots = (c1.properties(title='Snow On') | c2.properties(title='Snow On') | c3.properties(title='Snow On'))"
   ]
  },
  {
   "cell_type": "code",
   "execution_count": null,
   "metadata": {},
   "outputs": [],
   "source": [
    "src = wind_comparison_df.query(\"season == 'summer'\")\n",
    "\n",
    "c1 = alt.Chart(src).mark_rect().encode(\n",
    "    alt.X('500hpa wind dir:Q', bin=alt.Bin(maxbins=25), axis=axis, scale=scale),\n",
    "    alt.Y('above ridgeline wind dir:Q', bin=alt.Bin(maxbins=25), axis=axis, scale=scale),\n",
    "    alt.Color('count():Q', scale=alt.Scale(scheme='greenblue'))\n",
    ").properties(width=150, height = 150)\n",
    "\n",
    "c2 = alt.Chart(src).mark_rect().encode(\n",
    "    alt.X('500hpa wind dir:Q', bin=alt.Bin(maxbins=25), axis=axis, scale=scale),\n",
    "    alt.Y('below ridgeline wind dir:Q', bin=alt.Bin(maxbins=25), axis=axis, scale=scale),\n",
    "    alt.Color('count():Q', scale=alt.Scale(scheme='greenblue'))\n",
    ").properties(width=150, height = 150)\n",
    "\n",
    "c3 = alt.Chart(src).mark_rect().encode(\n",
    "    alt.X('above ridgeline wind dir:Q', bin=alt.Bin(maxbins=25), axis=axis, scale=scale),\n",
    "    alt.Y('below ridgeline wind dir:Q', bin=alt.Bin(maxbins=25), axis=axis, scale=scale),\n",
    "    alt.Color('count():Q', scale=alt.Scale(scheme='greenblue'))\n",
    ").properties(width=150, height = 150)\n",
    "\n",
    "snow_off_plots = (c1.properties(title='Snow Off') | c2.properties(title='Snow Off') | c3.properties(title='Snow Off'))"
   ]
  },
  {
   "cell_type": "code",
   "execution_count": null,
   "metadata": {},
   "outputs": [],
   "source": [
    "(snow_on_plots & snow_off_plots).resolve_scale(color='independent')"
   ]
  },
  {
   "attachments": {},
   "cell_type": "markdown",
   "metadata": {},
   "source": [
    "**Conclusions drawn**\n",
    "\n",
    "Panel A:\n",
    "* Upper level flow is nearly always between 180 and 360˚, so mostly westerly with lots of deviations to SSW and NNW.\n",
    "* Above ridgeline winds measured by the Doppler Lidar and 500hPa winds measured by the Sonde are mostly in agreement. They are nearly always in agreement when synoptic winds are strong. There are a good number of cases where they do not agree, but in nearly all of those instances, synoptic winds were weak.\n",
    "\n",
    "Panel B:\n",
    "* There are two main regimes of below ridgeline wind direction, which approximately align with up and downvalley direction: 135-180˚ and around 315˚. The downvalley (315˚) valley-scale wind regime exists fairly equally at all 500hPa wind directions. The upvalley (135-180˚) valley-scale wind regime favors 500hPa windsdirections between South-Southwest and West.\n",
    "* These relationships seem to hold for both strong and weak synoptics.\n",
    "\n",
    "Panel C:\n",
    "* Same conclusions as Panel B. i.e....\n",
    "* Comparing the above/below ridgeline winds (measured by the DL) reveals the same relationship as comparing DL below ridgeline winds with the Sonde measured synoptic scale winds due to the agreement between above-ridgeline DL measurements and 500hPa sonde measuremenrs (see Panel A)"
   ]
  }
 ],
 "metadata": {
  "kernelspec": {
   "display_name": "arm",
   "language": "python",
   "name": "python3"
  },
  "language_info": {
   "codemirror_mode": {
    "name": "ipython",
    "version": 3
   },
   "file_extension": ".py",
   "mimetype": "text/x-python",
   "name": "python",
   "nbconvert_exporter": "python",
   "pygments_lexer": "ipython3",
   "version": "3.12.5"
  },
  "orig_nbformat": 4,
  "vscode": {
   "interpreter": {
    "hash": "e2b11a00ad1b97cabcd9cc9209b8824a0fcaf6ffe37b5243943912873b5dcab1"
   }
  }
 },
 "nbformat": 4,
 "nbformat_minor": 2
}
