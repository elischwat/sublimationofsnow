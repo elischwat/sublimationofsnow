{
 "cells": [
  {
   "cell_type": "code",
   "execution_count": null,
   "id": "9683e970",
   "metadata": {},
   "outputs": [],
   "source": [
    "import xarray as xr\n",
    "import altair as alt\n",
    "import pandas as pd\n",
    "import datetime\n",
    "import glob\n",
    "import sys\n",
    "sys.path.append('../')\n",
    "import sosutils\n",
    "import seaborn as sns\n",
    "import numpy as np\n",
    "\n",
    "alt.data_transformers.disable_max_rows()"
   ]
  },
  {
   "cell_type": "code",
   "execution_count": null,
   "id": "504dd03b",
   "metadata": {
    "lines_to_next_cell": 2
   },
   "outputs": [],
   "source": [
    "files = glob.glob(\"/Users/elischwat/Downloads/isfs_*.nc\")\n",
    "files = sorted(files)\n",
    "files"
   ]
  },
  {
   "cell_type": "markdown",
   "id": "22a58e79",
   "metadata": {},
   "source": [
    "# Create TKE dataframe"
   ]
  },
  {
   "cell_type": "code",
   "execution_count": null,
   "id": "5acbb264",
   "metadata": {},
   "outputs": [],
   "source": [
    "# all variables (covariances) used in calculation of TKE\n",
    "TKE_VARIABLE_NAMES = [\n",
    "    ## central tower\n",
    "    'u_u__1m_c', 'v_v__1m_c', 'w_w__1m_c',\n",
    "    'u_u__2m_c', 'v_v__2m_c', 'w_w__2m_c',\n",
    "    'u_u__3m_c', 'v_v__3m_c', 'w_w__3m_c',\n",
    "    'u_u__5m_c', 'v_v__5m_c', 'w_w__5m_c',\n",
    "    'u_u__10m_c', 'v_v__10m_c', 'w_w__10m_c',\n",
    "    'u_u__15m_c', 'v_v__15m_c', 'w_w__15m_c',\n",
    "    'u_u__20m_c', 'v_v__20m_c', 'w_w__20m_c',\n",
    "    ## other towers\n",
    "    'u_u__1m_ue', 'v_v__1m_ue', 'w_w__1m_ue',\n",
    "    'u_u__3m_ue', 'v_v__3m_ue', 'w_w__3m_ue',\n",
    "    'u_u__10m_ue', 'v_v__10m_ue', 'w_w__10m_ue',\n",
    "\n",
    "    'u_u__1m_uw', 'v_v__1m_uw', 'w_w__1m_uw',\n",
    "    'u_u__3m_uw', 'v_v__3m_uw', 'w_w__3m_uw',\n",
    "    'u_u__10m_uw', 'v_v__10m_uw', 'w_w__10m_uw',\n",
    "\n",
    "    'u_u__1m_d', 'v_v__1m_d', 'w_w__1m_d',\n",
    "    'u_u__3m_d', 'v_v__3m_d', 'w_w__3m_d',\n",
    "    'u_u__10m_d', 'v_v__10m_d', 'w_w__10m_d',\n",
    "]\n",
    "\n",
    "# Convert dataset to dataframe\n",
    "tke_df = sosutils.open_datasets_as_dataframe(files, variables=TKE_VARIABLE_NAMES)\n",
    "\n",
    "# Parse height and tower information from column names so measurement height and tower is a column\n",
    "tke_df = tke_df.melt(id_vars='time', value_vars=TKE_VARIABLE_NAMES)\n",
    "tke_df['height'] = tke_df['variable'].apply(sosutils.height_from_variable_name)\n",
    "tke_df['tower'] = tke_df['variable'].apply(sosutils.tower_from_variable_name)\n",
    "tke_df['measurement'] = tke_df['variable'].apply(sosutils.measurement_from_variable_name)\n",
    "tke_df = tke_df.set_index(['time'])\n",
    "\n",
    "# Calculate TKE\n",
    "tke_df = tke_df.groupby(['time', 'height', 'tower']).sum(numeric_only=True).reset_index()\n",
    "tke_df['value'] = 0.5*tke_df['value']"
   ]
  },
  {
   "cell_type": "markdown",
   "id": "d7ca1ba2",
   "metadata": {},
   "source": [
    "## Create height & time bounds for 2D colormap plotting of TKE"
   ]
  },
  {
   "cell_type": "code",
   "execution_count": null,
   "id": "0ffc9c75",
   "metadata": {},
   "outputs": [],
   "source": [
    "def height_to_bounds(h):\n",
    "    if h == 1:\n",
    "        return (0,1)\n",
    "    if h == 2:\n",
    "        return (1,2)\n",
    "    elif h == 3:\n",
    "        return (2, 4)\n",
    "    elif h == 5:\n",
    "        return (4, 7)\n",
    "    elif h == 10:\n",
    "        return (7, 13)\n",
    "    elif h == 15:\n",
    "        return (13, 17)\n",
    "    elif h == 20:\n",
    "        return (17, 23)\n",
    "tke_df['height_bounds'] = tke_df['height'].apply(height_to_bounds)\n",
    "tke_df['height1'] = tke_df['height_bounds'].apply(lambda x: x[0])\n",
    "tke_df['height2'] = tke_df['height_bounds'].apply(lambda x: x[1])\n",
    "\n",
    "\n",
    "\n",
    "tke_df['time2'] = tke_df['time'].apply(lambda t: t + datetime.timedelta(minutes = 5))"
   ]
  },
  {
   "cell_type": "markdown",
   "id": "cd13d5bc",
   "metadata": {},
   "source": [
    "# Examine TKE"
   ]
  },
  {
   "cell_type": "markdown",
   "id": "30c4de21",
   "metadata": {},
   "source": [
    "### Distribution of values"
   ]
  },
  {
   "cell_type": "code",
   "execution_count": null,
   "id": "7a983d36",
   "metadata": {},
   "outputs": [],
   "source": [
    "ax = sns.distplot(\n",
    "    np.log10([f for f in tke_df['value'] if f != 0]),\n",
    "    axlabel='LOG10[TKE (m^2/s^2)]', \n",
    "    norm_hist=True\n",
    ")"
   ]
  },
  {
   "cell_type": "markdown",
   "id": "ca128243",
   "metadata": {},
   "source": [
    "### Characteristic vertical profiles at 1am amd 1pm"
   ]
  },
  {
   "cell_type": "code",
   "execution_count": null,
   "id": "13261e3f",
   "metadata": {},
   "outputs": [],
   "source": [
    "plot = None\n",
    "for i in range(1, 6):\n",
    "    local_src = tke_df[tke_df['time'].dt.day == i]\n",
    "    local_src = local_src[local_src['time'].dt.hour == 1]\n",
    "    local_src = local_src.groupby(['height', 'tower']).mean().reset_index()\n",
    "    new_chart = alt.Chart(local_src).mark_line().encode(\n",
    "            alt.X('value:Q', title='TKE (m^2/s^2)', sort='y', scale=alt.Scale(zero=True)),\n",
    "            alt.Y('height', title='Height (m)'),\n",
    "            alt.Color('tower:N')\n",
    "        ).properties(width=100, title=f'1-2am on November {i}')\n",
    "    if i == 1:\n",
    "        plot = new_chart\n",
    "    else:\n",
    "        plot = plot | new_chart\n",
    "plot"
   ]
  },
  {
   "cell_type": "code",
   "execution_count": null,
   "id": "ee497f88",
   "metadata": {},
   "outputs": [],
   "source": [
    "plot = None\n",
    "for i in range(1, 6):\n",
    "    local_src = tke_df[tke_df['time'].dt.day == i]\n",
    "    local_src = local_src[local_src['time'].dt.hour == 13]\n",
    "    local_src = local_src.groupby(['height', 'tower']).mean().reset_index()\n",
    "    new_chart = alt.Chart(local_src).mark_line().encode(\n",
    "            alt.X('value:Q', title='TKE (m^2/s^2)', sort='y', scale=alt.Scale(zero=True)),\n",
    "            alt.Y('height', title='Height (m)'),\n",
    "            alt.Color('tower:N')\n",
    "        ).properties(width=100, title=f'1-2pm on November {i}')\n",
    "    if i == 1:\n",
    "        plot = new_chart\n",
    "    else:\n",
    "        plot = plot | new_chart\n",
    "plot"
   ]
  },
  {
   "cell_type": "markdown",
   "id": "e27f482d",
   "metadata": {},
   "source": [
    "### Temporal evolution of vertical profile"
   ]
  },
  {
   "cell_type": "code",
   "execution_count": null,
   "id": "66f44834",
   "metadata": {},
   "outputs": [],
   "source": [
    "local_src = tke_df.copy()\n",
    "local_src['time'] = local_src['time'] - datetime.timedelta(hours = 6)\n",
    "local_src['time2'] = local_src['time2'] - datetime.timedelta(hours = 6)\n",
    "plot_tke_tower_c = alt.Chart(local_src).transform_filter(\n",
    "    alt.datum.tower=='c'\n",
    ").mark_rect().encode(\n",
    "    alt.X('time:T', title='Time'),\n",
    "    alt.X2('time2:T'),\n",
    "    alt.Y('height1:Q', title='Height (m)'),\n",
    "    alt.Y2('height2:Q'),\n",
    "    alt.Color('value:Q', scale=alt.Scale(domain=[0.01,10], type='log'), title='TKE'),\n",
    "    alt.Facet('tower:N', columns=1)\n",
    ").properties(width=1400)\n",
    "\n",
    "plot_tke_tower_c"
   ]
  },
  {
   "cell_type": "markdown",
   "id": "661ccc02",
   "metadata": {},
   "source": [
    "# Create covariance dataframe"
   ]
  },
  {
   "cell_type": "code",
   "execution_count": null,
   "id": "c01d698f",
   "metadata": {},
   "outputs": [],
   "source": [
    "COVARIANCE_VARIABLE_NAMES = ['u_u__5m_c', 'v_v__5m_c', 'w_w__5m_c']\n",
    "variances_df = sosutils.open_datasets_as_dataframe(files, variables=COVARIANCE_VARIABLE_NAMES)\n",
    "variances_df = variances_df.melt(id_vars='time', value_vars=COVARIANCE_VARIABLE_NAMES)\n",
    "variances_df['height'] = variances_df['variable'].apply(sosutils.height_from_variable_name)\n",
    "variances_df['tower'] = variances_df['variable'].apply(sosutils.tower_from_variable_name)\n",
    "variances_df['measurement'] = variances_df['variable'].apply(sosutils.measurement_from_variable_name)"
   ]
  },
  {
   "cell_type": "markdown",
   "id": "2e070d77",
   "metadata": {},
   "source": [
    "# Examine Covariances"
   ]
  },
  {
   "cell_type": "markdown",
   "id": "44b5563f",
   "metadata": {},
   "source": [
    "### Temporal evolution @ 5 meters, tower C"
   ]
  },
  {
   "cell_type": "code",
   "execution_count": null,
   "id": "a337e474",
   "metadata": {},
   "outputs": [],
   "source": [
    "local_src = variances_df[variances_df['time'] < datetime.datetime(2022, 11, 7)]\n",
    "local_src = local_src[local_src['time'] > datetime.datetime(2022, 11, 3)]\n",
    "alt.Chart(local_src).mark_line().encode(\n",
    "    alt.X('time:T'),\n",
    "    alt.Y('value:Q'),\n",
    "    alt.Color('variable:N')\n",
    ").properties(width=1300)"
   ]
  },
  {
   "cell_type": "markdown",
   "id": "9e89483c",
   "metadata": {},
   "source": [
    "# Create wind speed and direction dataframe"
   ]
  },
  {
   "cell_type": "code",
   "execution_count": null,
   "id": "fd152773",
   "metadata": {},
   "outputs": [],
   "source": [
    "WIND_VARIABLE_NAMES = [    \n",
    "    'spd_1m_c', 'dir_1m_c',\n",
    "    'spd_2m_c', 'dir_2m_c',\n",
    "    'spd_3m_c', 'dir_3m_c',\n",
    "    'spd_5m_c', 'dir_5m_c',\n",
    "    'spd_10m_c', 'dir_10m_c',\n",
    "    'spd_15m_c', 'dir_15m_c',\n",
    "    'spd_20m_c', 'dir_20m_c',\n",
    "]\n",
    "\n",
    "wind_df = sosutils.open_datasets_as_dataframe(files, variables=WIND_VARIABLE_NAMES)\n",
    "\n",
    "wind_df = wind_df.melt(id_vars='time', value_vars=WIND_VARIABLE_NAMES)\n",
    "wind_df['height'] = wind_df['variable'].apply(sosutils.height_from_variable_name)\n",
    "wind_df['tower'] = wind_df['variable'].apply(sosutils.tower_from_variable_name)\n",
    "wind_df['measurement'] = wind_df['variable'].apply(sosutils.measurement_from_variable_name)"
   ]
  },
  {
   "cell_type": "markdown",
   "id": "17f51454",
   "metadata": {},
   "source": [
    "### Pivot table to have wind speed and direction as different columns"
   ]
  },
  {
   "cell_type": "code",
   "execution_count": null,
   "id": "9100de72",
   "metadata": {},
   "outputs": [],
   "source": [
    "wind_df = wind_df.pivot_table(\n",
    "   values = ['value'],\n",
    "   index= ['time', 'height', 'tower'],\n",
    "   columns= ['measurement']\n",
    ")\n",
    "wind_df.columns = wind_df.columns.get_level_values(1)\n",
    "wind_df = wind_df.reset_index()\n",
    "wind_df = wind_df.sort_values(['time', 'height', 'tower'])\n",
    "wind_df.columns.name = None"
   ]
  },
  {
   "cell_type": "markdown",
   "id": "e0eb3476",
   "metadata": {},
   "source": [
    "### Resample by 30 minute intervals"
   ]
  },
  {
   "cell_type": "code",
   "execution_count": null,
   "id": "05ddfd60",
   "metadata": {},
   "outputs": [],
   "source": [
    "wind_30min_df = wind_df.set_index('time')\n",
    "grouper = wind_30min_df.groupby([pd.Grouper(freq='30T'), 'height', 'tower'])\n",
    "\n",
    "\n",
    "result = grouper.mean()\n",
    "\n",
    "# result = grouper[['wind direction', 'wind speed']].mean().unstack()\n",
    "result.columns = result.columns.get_level_values(0)\n",
    "wind_30min_df = result.reset_index()"
   ]
  },
  {
   "cell_type": "markdown",
   "id": "15af397b",
   "metadata": {},
   "source": [
    "### Resample by 60 minute intervals"
   ]
  },
  {
   "cell_type": "code",
   "execution_count": null,
   "id": "ea0bcac1",
   "metadata": {},
   "outputs": [],
   "source": [
    "wind_60min_df = wind_df.set_index('time')\n",
    "grouper = wind_60min_df.groupby([pd.Grouper(freq='60T'), 'height', 'tower'])\n",
    "\n",
    "\n",
    "result = grouper.mean()\n",
    "\n",
    "# result = grouper[['wind direction', 'wind speed']].mean().unstack()\n",
    "result.columns = result.columns.get_level_values(0)\n",
    "wind_60min_df = result.reset_index()"
   ]
  },
  {
   "cell_type": "markdown",
   "id": "0bd3e33f",
   "metadata": {},
   "source": [
    "# Examine wind speed and direction"
   ]
  },
  {
   "cell_type": "code",
   "execution_count": null,
   "id": "795a3c77",
   "metadata": {},
   "outputs": [],
   "source": [
    "plot_windspeed_tower_c = alt.Chart(wind_30min_df).transform_filter(\n",
    "    alt.datum.height == 5\n",
    ").mark_point().encode(\n",
    "    alt.X('time:T'),\n",
    "    alt.Y('wind speed:Q'),\n",
    "    alt.Color('height:N')\n",
    ").properties(width=1400)\n",
    "\n",
    "plot_tke_tower_c & plot_windspeed_tower_c"
   ]
  },
  {
   "cell_type": "code",
   "execution_count": null,
   "id": "b2b8992f",
   "metadata": {},
   "outputs": [],
   "source": [
    "plot_windspeed_tower_c = alt.Chart(wind_30min_df).transform_filter(\n",
    "    alt.datum.height == 5\n",
    ").mark_point().encode(\n",
    "    alt.X('time:T'),\n",
    "    alt.Y('wind speed:Q'),\n",
    "    alt.Color('height:N')\n",
    ").properties(width=1400)\n",
    "\n",
    "plot_tke_tower_c & plot_windspeed_tower_c"
   ]
  },
  {
   "cell_type": "code",
   "execution_count": null,
   "id": "c93d97f7",
   "metadata": {},
   "outputs": [],
   "source": [
    "pd.set_option('display.max_rows', 500)"
   ]
  },
  {
   "cell_type": "code",
   "execution_count": null,
   "id": "171ed04f",
   "metadata": {},
   "outputs": [],
   "source": [
    "local_src[local_src['time'].dt.day==2].head(100)"
   ]
  },
  {
   "cell_type": "code",
   "execution_count": null,
   "id": "e4858859",
   "metadata": {},
   "outputs": [],
   "source": [
    "local_src = wind_60min_df.copy()\n",
    "local_src['time'] = local_src['time'] - datetime.timedelta(hours = 6)\n",
    "local_src['day'] = local_src['time'].dt.date.apply(lambda date: datetime.datetime.combine(date, datetime.time()))\n",
    "local_src['hour'] = local_src['time'].dt.hour\n",
    "\n",
    "local_src = local_src[local_src['time'] < datetime.datetime(2022, 11, 4)]\n",
    "alt.Chart(local_src).mark_point(shape=\"wedge\", filled=True).encode(\n",
    "    alt.X('hour:Q'),\n",
    "    alt.Y('height:Q'),\n",
    "    # color=alt.Color(\n",
    "    #     \"wind direction\", scale=alt.Scale(domain=[0, 360], scheme=\"rainbow\"), legend=None\n",
    "    # ),\n",
    "    angle=alt.Angle(\"wind direction\", scale=alt.Scale(domain=[0, 360], range=[180, 540])),\n",
    "    size=alt.Size(\"wind speed\", scale=alt.Scale(rangeMax=5000), title='Wind Speed (m/s)'),\n",
    ").properties(\n",
    "    width=1000,\n",
    "    height=200\n",
    ").facet(\n",
    "    row='day:T'\n",
    ")"
   ]
  },
  {
   "cell_type": "markdown",
   "id": "cb252b46",
   "metadata": {},
   "source": [
    "### Animated video of 5 minute wind interval"
   ]
  },
  {
   "cell_type": "code",
   "execution_count": null,
   "id": "99917d15",
   "metadata": {},
   "outputs": [],
   "source": [
    "src = wind_30min_df.query(\"tower == 'c'\")"
   ]
  },
  {
   "cell_type": "markdown",
   "id": "5e7ba499",
   "metadata": {},
   "source": [
    "#### For each time interval, add a 0 wind speed at 0 height with direction 0"
   ]
  },
  {
   "cell_type": "code",
   "execution_count": null,
   "id": "34f9dca5",
   "metadata": {},
   "outputs": [],
   "source": [
    "for time in src.time.unique():\n",
    "    src = src.append(\n",
    "        {\n",
    "            'height': 0,\n",
    "            'time': time,\n",
    "            'wind speed': 0\n",
    "        },\n",
    "        ignore_index=True\n",
    "    )"
   ]
  },
  {
   "cell_type": "code",
   "execution_count": null,
   "id": "b34bc0bd",
   "metadata": {},
   "outputs": [],
   "source": [
    "dataset = src.sort_values(['time', 'height']).copy()\n",
    "\n",
    "dt = 5 # minutes\n",
    "tfinal = 24*60 # 24 hours\n",
    "x0 = 0\n",
    "\n",
    "dataset_chunk_size = 8 # number of measurements to take at a time  from the dataframe"
   ]
  },
  {
   "cell_type": "code",
   "execution_count": null,
   "id": "fb6b314e",
   "metadata": {},
   "outputs": [],
   "source": [
    "i = 1"
   ]
  },
  {
   "cell_type": "code",
   "execution_count": null,
   "id": "5dc979de",
   "metadata": {},
   "outputs": [],
   "source": [
    "dataset[ i*dataset_chunk_size : (i+1)*dataset_chunk_size]"
   ]
  },
  {
   "cell_type": "code",
   "execution_count": null,
   "id": "e28c9e0c",
   "metadata": {},
   "outputs": [],
   "source": [
    "dataset.sort_values('wind speed').tail(100)"
   ]
  },
  {
   "cell_type": "code",
   "execution_count": null,
   "id": "ad01190f",
   "metadata": {},
   "outputs": [],
   "source": [
    "import numpy as np\n",
    "import matplotlib.pyplot as plt\n",
    "from matplotlib import animation\n",
    "\n",
    "fig, ax = plt.subplots(1, 1, figsize = (6, 6))\n",
    "\n",
    "def animate(i):\n",
    "    ax.cla() # clear the previous image\n",
    "    chunk = dataset[ i*dataset_chunk_size : (i+1)*dataset_chunk_size].sort_values('height')\n",
    "    ax.plot(chunk['wind speed'], chunk['height'], linewidth=2) # plot the line\n",
    "    ax.set_xlim([0, 12])\n",
    "    ax.set_ylim(0, 20)\n",
    "    ax.annotate(str(chunk.iloc[0].time), xy=(0, 18))\n",
    "    hr = chunk.iloc[0].time.hour \n",
    "    if hr < 6 or hr > 18:\n",
    "        ax.patch.set_facecolor('lightgrey')\n",
    "    else:\n",
    "        ax.patch.set_facecolor('white')\n",
    "\n",
    "\n",
    "anim = animation.FuncAnimation(fig, animate, frames = range(0, int(tfinal / dt)), blit = False, interval=50)\n",
    "anim.save('test.gif')\n",
    "\n",
    "plt.show()"
   ]
  },
  {
   "cell_type": "markdown",
   "id": "6706a4c6",
   "metadata": {},
   "source": [
    "# TKE Budget"
   ]
  },
  {
   "cell_type": "markdown",
   "id": "78d74423",
   "metadata": {},
   "source": [
    "## Simplified TKE Equation\n",
    "\n",
    "Assumptions for simplified TKE equation:\n",
    "* Coordinate system  is aligned with the mean wind so that terms involving v are zero, \n",
    "* Applied over a flat, homogeneous area with no subsidence so that terms involving (∂/∂x), (∂/∂y) and w are also zero\n",
    "\n",
    "\n",
    "$$\n",
    "\\frac{\\partial \\overline{e}}{\\partial t} = g \\frac{\\overline{w'\\theta_v'}}{\\overline{\\theta_v}} - \\frac{1}{\\rho_a}\\frac{\\partial \\overline{w'P'}}{\\partial z} - \\overline{u'w'} \\frac{\\partial \\overline{u}}{\\partial z} - \\frac{\\partial \\overline{w' e}}{\\partial z} - \\epsilon\n",
    "$$\n",
    "\n",
    "$$\n",
    "\\Delta \\text{TKE} = \\text{term 2} + \\text{term 3} + \\text{term 4} + \\text{term 5} + \\text{term 6}\n",
    "$$\n",
    "where\n",
    "\n",
    "$$\n",
    "\\epsilon = \\nu \n",
    "    \\Big(\n",
    "        \\overline { \n",
    "            \\frac{\\partial \\overline{u'}}{\\partial x}^2\n",
    "        }\n",
    "    +\n",
    "        \\overline { \n",
    "            \\frac{\\partial \\overline{v'}}{\\partial x}^2\n",
    "        }\n",
    "    +\n",
    "        \\overline { \n",
    "            \\frac{\\partial \\overline{w'}}{\\partial x}^2\n",
    "        }\n",
    "    \\Big)\n",
    "$$\n",
    "where:\n",
    "\n",
    "term 1: temporal change in local TKE\n",
    "\n",
    "term 2: bouyant production or destribution of TKE\n",
    "\n",
    "term 3: redistribution of TKE by pressure fluctuations\n",
    "\n",
    "term 4: shear/friction production of turbulence\n",
    "\n",
    "term 5: turbulent transport of TKE\n",
    "\n",
    "term 6: viscous dissipation of TKE"
   ]
  },
  {
   "cell_type": "markdown",
   "id": "4a3f6519",
   "metadata": {},
   "source": []
  }
 ],
 "metadata": {
  "kernelspec": {
   "display_name": "arm",
   "language": "python",
   "name": "python3"
  }
 },
 "nbformat": 4,
 "nbformat_minor": 5
}
