{
 "cells": [
  {
   "cell_type": "markdown",
   "metadata": {},
   "source": [
    "# October 31 - November 1 night time jet"
   ]
  },
  {
   "cell_type": "code",
   "execution_count": 1,
   "metadata": {},
   "outputs": [
    {
     "ename": "ModuleNotFoundError",
     "evalue": "No module named 'sosutils'",
     "output_type": "error",
     "traceback": [
      "\u001b[0;31m---------------------------------------------------------------------------\u001b[0m",
      "\u001b[0;31mModuleNotFoundError\u001b[0m                       Traceback (most recent call last)",
      "Cell \u001b[0;32mIn[1], line 3\u001b[0m\n\u001b[1;32m      1\u001b[0m \u001b[39mimport\u001b[39;00m \u001b[39msys\u001b[39;00m\n\u001b[1;32m      2\u001b[0m sys\u001b[39m.\u001b[39mpath\u001b[39m.\u001b[39mappend(\u001b[39m'\u001b[39m\u001b[39m../\u001b[39m\u001b[39m'\u001b[39m)\n\u001b[0;32m----> 3\u001b[0m \u001b[39mimport\u001b[39;00m \u001b[39msosutils\u001b[39;00m\n\u001b[1;32m      4\u001b[0m \u001b[39mimport\u001b[39;00m \u001b[39mxarray\u001b[39;00m \u001b[39mas\u001b[39;00m \u001b[39mxr\u001b[39;00m\n\u001b[1;32m      5\u001b[0m \u001b[39mimport\u001b[39;00m \u001b[39maltair\u001b[39;00m \u001b[39mas\u001b[39;00m \u001b[39malt\u001b[39;00m\n",
      "\u001b[0;31mModuleNotFoundError\u001b[0m: No module named 'sosutils'"
     ]
    }
   ],
   "source": [
    "import sys\n",
    "sys.path.append('../')\n",
    "import sosutils\n",
    "import xarray as xr\n",
    "import altair as alt\n",
    "import datetime as dt\n",
    "alt.data_transformers.disable_max_rows()\n",
    "import pandas as pd \n",
    "import numpy as np\n",
    "import os\n",
    "\n",
    "alt.renderers.enable('jupyterlab')"
   ]
  },
  {
   "attachments": {},
   "cell_type": "markdown",
   "metadata": {},
   "source": [
    "# User inputs"
   ]
  },
  {
   "cell_type": "code",
   "execution_count": null,
   "metadata": {},
   "outputs": [],
   "source": [
    "download_dir='sosnoqc'\n",
    "DATE_FORMAT_STR = '%Y%m%d'\n",
    "datelist = ['20230107', '20230108', '20230109']\n",
    "start_date = datelist[0]\n",
    "end_date = datelist[-1]\n",
    "# end_date = (dt.datetime.today()  - dt.timedelta(days=1)).strftime(DATE_FORMAT_STR)\n",
    "\n",
    "\n",
    "VARIABLE_NAMES = [ \n",
    "    'spd_1m_c', 'dir_1m_c', 'u_1m_c', 'v_1m_c', 'u_w__1m_c', 'u_tc__1m_c', 'v_w__1m_c', 'v_tc__1m_c', 'w_tc__1m_c', 'w_h2o__1m_c',\n",
    "    'spd_2m_c', 'dir_2m_c', 'u_2m_c', 'v_2m_c', 'u_w__2m_c', 'u_tc__2m_c', 'v_w__2m_c', 'v_tc__2m_c', 'w_tc__2m_c', 'w_h2o__2m_c',\n",
    "    'spd_3m_c', 'dir_3m_c', 'u_3m_c', 'v_3m_c', 'u_w__3m_c', 'u_tc__3m_c', 'v_w__3m_c', 'v_tc__3m_c', 'w_tc__3m_c', 'w_h2o__3m_c',\n",
    "    'spd_5m_c', 'dir_5m_c', 'u_5m_c', 'v_5m_c', 'u_w__5m_c', 'u_tc__5m_c', 'v_w__5m_c', 'v_tc__5m_c', 'w_tc__5m_c', 'w_h2o__5m_c',\n",
    "    'spd_10m_c', 'dir_10m_c', 'u_10m_c', 'v_10m_c', 'u_w__10m_c', 'u_tc__10m_c', 'v_w__10m_c', 'v_tc__10m_c', 'w_tc__10m_c', 'w_h2o__10m_c',\n",
    "    'spd_15m_c', 'dir_15m_c', 'u_15m_c', 'v_15m_c', 'u_w__15m_c', 'u_tc__15m_c', 'v_w__15m_c', 'v_tc__15m_c', 'w_tc__15m_c', 'w_h2o__15m_c',\n",
    "    'spd_20m_c', 'dir_20m_c', 'u_20m_c', 'v_20m_c', 'u_w__20m_c', 'u_tc__20m_c', 'v_w__20m_c', 'v_tc__20m_c', 'w_tc__20m_c', 'w_h2o__20m_c',\n",
    "    'T_1m_c',\n",
    "    'T_2m_c',\n",
    "    'T_3m_c',\n",
    "    'T_4m_c',\n",
    "    'T_5m_c',\n",
    "    'T_6m_c',\n",
    "    'T_7m_c',\n",
    "    'T_8m_c',\n",
    "    'T_9m_c',\n",
    "    'T_10m_c',\n",
    "    'T_11m_c',\n",
    "    'T_12m_c',\n",
    "    'T_13m_c',\n",
    "    'T_14m_c',\n",
    "    'T_15m_c',\n",
    "    'T_16m_c',\n",
    "    'T_17m_c',\n",
    "    'T_18m_c',\n",
    "    'T_19m_c',\n",
    "    'T_20m_c',\n",
    "]"
   ]
  },
  {
   "cell_type": "markdown",
   "metadata": {},
   "source": [
    "# Download SoS data"
   ]
  },
  {
   "cell_type": "code",
   "execution_count": null,
   "metadata": {},
   "outputs": [
    {
     "data": {
      "text/plain": [
       "['20230107', '20230108', '20230109']"
      ]
     },
     "execution_count": 3,
     "metadata": {},
     "output_type": "execute_result"
    }
   ],
   "source": [
    "datelist"
   ]
  },
  {
   "cell_type": "code",
   "execution_count": 2,
   "metadata": {},
   "outputs": [
    {
     "ename": "NameError",
     "evalue": "name 'datelist' is not defined",
     "output_type": "error",
     "traceback": [
      "\u001b[0;31m---------------------------------------------------------------------------\u001b[0m",
      "\u001b[0;31mNameError\u001b[0m                                 Traceback (most recent call last)",
      "Cell \u001b[0;32mIn[2], line 3\u001b[0m\n\u001b[1;32m      1\u001b[0m \u001b[39m# if you want to download\u001b[39;00m\n\u001b[0;32m----> 3\u001b[0m datasets \u001b[39m=\u001b[39m [xr\u001b[39m.\u001b[39mopen_dataset(sosutils\u001b[39m.\u001b[39mdownload_sos_data_day(date, download_dir))[VARIABLE_NAMES] \u001b[39mfor\u001b[39;00m date \u001b[39min\u001b[39;00m datelist]\n\u001b[1;32m      5\u001b[0m sos_data \u001b[39m=\u001b[39m sosutils\u001b[39m.\u001b[39mmerge_datasets_with_different_variables(datasets, dim\u001b[39m=\u001b[39m\u001b[39m'\u001b[39m\u001b[39mtime\u001b[39m\u001b[39m'\u001b[39m)\n",
      "\u001b[0;31mNameError\u001b[0m: name 'datelist' is not defined"
     ]
    }
   ],
   "source": [
    "# if you want to download\n",
    "\n",
    "ut\n",
    "\n",
    "datasets = [xr.open_dataset(sosutils.download_sos_data_day(date, download_dir))[VARIABLE_NAMES] for date in datelist]\n",
    "\n",
    "sos_data = sosutils.merge_datasets_with_different_variables(datasets, dim='time')"
   ]
  },
  {
   "cell_type": "code",
   "execution_count": null,
   "metadata": {},
   "outputs": [],
   "source": [
    "# # if you don't want to download\n",
    "# datasets = sorted(os.listdir(download_dir))\n",
    "# datasets = [xr.open_dataset(os.path.join(download_dir, f)) for f in datasets]\n",
    "# # sos_data = xr.concat(datasets, dim='time')\n",
    "# sos_data = sosutils.merge_datasets_with_different_variables(datasets, dim='time')[VARIABLE_NAMES]"
   ]
  },
  {
   "cell_type": "code",
   "execution_count": null,
   "metadata": {},
   "outputs": [],
   "source": [
    "sos_data.coords['time'].min(), sos_data.coords['time'].max()"
   ]
  },
  {
   "cell_type": "markdown",
   "metadata": {},
   "source": [
    "# Extract usable datasets from the raw SoS data"
   ]
  },
  {
   "cell_type": "markdown",
   "metadata": {},
   "source": [
    "## Extract first-5-minute-hourly-average data from the raw SoS dataset"
   ]
  },
  {
   "cell_type": "code",
   "execution_count": null,
   "metadata": {},
   "outputs": [],
   "source": [
    "sos_data_1hr = sos_data.where(\n",
    "    sos_data['time.minute'] < 6, \n",
    "    drop=True\n",
    ").resample(time='60Min').mean() \n",
    "\n",
    "sos_data_1hr_df = sos_data_1hr.to_dataframe().reset_index()\n",
    "sos_data_1hr_df = sos_data_1hr_df.melt(id_vars='time', value_vars=VARIABLE_NAMES)\n",
    "sos_data_1hr_df['height'] = sos_data_1hr_df['variable'].apply(sosutils.height_from_variable_name)\n",
    "sos_data_1hr_df['tower'] = sos_data_1hr_df['variable'].apply(sosutils.tower_from_variable_name)\n",
    "sos_data_1hr_df['measurement'] = sos_data_1hr_df['variable'].apply(sosutils.measurement_from_variable_name)\n",
    "sos_data_1hr_df['time'] = sos_data_1hr_df['time'] - dt.timedelta(hours=6)"
   ]
  },
  {
   "cell_type": "markdown",
   "metadata": {},
   "source": [
    "## Extract 5 minute-average data from the raw SoS dataset"
   ]
  },
  {
   "cell_type": "code",
   "execution_count": null,
   "metadata": {},
   "outputs": [],
   "source": [
    "sos_data_df = sos_data.to_dataframe().reset_index().melt(id_vars='time', value_vars=VARIABLE_NAMES)\n",
    "sos_data_df['height'] = sos_data_df['variable'].apply(sosutils.height_from_variable_name)\n",
    "sos_data_df['tower'] = sos_data_df['variable'].apply(sosutils.tower_from_variable_name)\n",
    "sos_data_df['measurement'] = sos_data_df['variable'].apply(sosutils.measurement_from_variable_name)\n",
    "sos_data_df['time'] = sos_data_df['time'] - dt.timedelta(hours=6)"
   ]
  },
  {
   "cell_type": "markdown",
   "metadata": {},
   "source": [
    "# Examine wind behavior"
   ]
  },
  {
   "cell_type": "code",
   "execution_count": null,
   "metadata": {},
   "outputs": [],
   "source": [
    "src = sos_data_1hr_df.copy()\n"
   ]
  },
  {
   "cell_type": "code",
   "execution_count": null,
   "metadata": {},
   "outputs": [],
   "source": [
    "src['day'] = src['time'].dt.day\n",
    "src['hour'] = src['time'].dt.hour"
   ]
  },
  {
   "cell_type": "code",
   "execution_count": null,
   "metadata": {},
   "outputs": [],
   "source": [
    "src"
   ]
  },
  {
   "cell_type": "code",
   "execution_count": null,
   "metadata": {},
   "outputs": [],
   "source": [
    "src = sos_data_df.copy()\n",
    "src['date'] = src['time'].dt.date\n",
    "src['hour'] = src['time'].dt.hour\n",
    "src"
   ]
  },
  {
   "cell_type": "code",
   "execution_count": null,
   "metadata": {},
   "outputs": [],
   "source": [
    "# get the first date\n",
    "# get the last date\n",
    "# make a dataframe containing a FULL night for each \n",
    "# modify the first and last entry using the min and max time from the provided dataframe\n",
    "\n",
    "def create_nighttime_dataframe(start_date, end_date, night_start_hour = 18, night_end_hour = 7):\n",
    "    start_datetimes = []\n",
    "    end_datetimes = []\n",
    "    for date in pd.date_range(start_date, end_date):\n",
    "        next_day = date + dt.timedelta(days=1)\n",
    "        start_datetimes.append(dt.datetime(date.year, date.month, date.day, night_start_hour))\n",
    "        end_datetimes.append(dt.datetime(next_day.year, next_day.month, next_day.day, night_end_hour))\n",
    "    return pd.DataFrame({'start_date': start_datetimes, 'end_date': end_datetimes})\n",
    "\n",
    "night_df = create_nighttime_dataframe(sos_data_df.time.min(), sos_data_df.time.max())\n",
    "\n",
    "night_plot = alt.Chart(night_df).mark_rect(color='grey', opacity=0.2).encode(\n",
    "    alt.X('start_date:T'),\n",
    "    alt.X2('end_date')\n",
    ")"
   ]
  },
  {
   "cell_type": "code",
   "execution_count": null,
   "metadata": {},
   "outputs": [],
   "source": [
    "local_src = sos_data_1hr_df.copy()\n",
    "\n",
    "# Create additional time columns to make plotting easier\n",
    "local_src['day'] = local_src['time'].dt.date.apply(lambda date: dt.datetime.combine(date, dt.time()))\n",
    "local_src['hour'] = local_src['time'].dt.hour\n",
    "# local_src = local_src[local_src['time'] < dt.datetime(2022, 11, 4)]\n",
    "# local_src = local_src[local_src['time'].dt.hour.isin([0,3,6,9,12,15,18,21])]\n",
    "local_src = local_src[local_src['time'].dt.hour.isin([\n",
    "    0,4,8,12,16,20,24\n",
    "    # 0,2,4,6,8,10,12,14,16,18,20,22\n",
    "])]\n",
    "\n",
    "profile_plot = alt.Chart(local_src).transform_filter(\n",
    "    alt.datum.measurement == 'wind speed'\n",
    ").mark_point().encode(\n",
    "    alt.X(\n",
    "        'value:Q', \n",
    "        sort='-y', \n",
    "        title=None, \n",
    "        axis=alt.Axis(orient='top', offset=-15)\n",
    "    ),\n",
    "    alt.Y('height:Q',  axis=alt.Axis(grid=False)),\n",
    "    color=alt.Color(\"height:O\", scale=alt.Scale(scheme='viridis'))\n",
    ").properties(\n",
    "    width=78,\n",
    "    height=50\n",
    ").facet(\n",
    "    facet=alt.Column(\n",
    "        'time', \n",
    "        # header=alt.Header(format=\"%m/%d %H:00\", formatType='time'),\n",
    "        header=alt.Header(labelExpr=\"''\"),\n",
    "        title='Bi-hourly average wind speed profiles (m/s)',\n",
    "    ),\n",
    "    columns=24,\n",
    "   spacing=1\n",
    ").resolve_axis(\n",
    "    x='shared'\n",
    ")\n",
    "\n",
    "\n",
    "WIND_CHART = alt.Chart(\n",
    "    sos_data_df\n",
    ").transform_filter(\n",
    "    alt.datum.measurement == 'wind direction'\n",
    ").transform_window(\n",
    "    rolling_mean = 'mean(value)',\n",
    "    frame = [-5, 5]\n",
    ").mark_line().encode(\n",
    "    alt.X('time:T', axis=alt.Axis(format='%m%d, %H%M')),\n",
    "    # alt.Y('value:Q'),\n",
    "    alt.Y(\n",
    "        'rolling_mean:Q', \n",
    "        title = 'Wind Direction (50 minute rolling average)', \n",
    "        scale=alt.Scale(domain=[0, 360], nice=False),\n",
    "        axis=alt.Axis(values=[0, 90, 180, 270, 360]),\n",
    "        impute=alt.ImputeParams(value=None)\n",
    "    ),\n",
    "    color=alt.Color(\n",
    "        \"height:O\", \n",
    "        scale=alt.Scale(scheme='viridis')\n",
    "    )\n",
    ").properties(\n",
    "    width=1400,\n",
    "    # height=200\n",
    ")"
   ]
  },
  {
   "cell_type": "code",
   "execution_count": null,
   "metadata": {},
   "outputs": [],
   "source": [
    "profile_plot"
   ]
  },
  {
   "cell_type": "code",
   "execution_count": null,
   "metadata": {},
   "outputs": [],
   "source": [
    "(WIND_CHART+night_plot).properties(width=2000)"
   ]
  },
  {
   "cell_type": "code",
   "execution_count": null,
   "metadata": {},
   "outputs": [],
   "source": [
    "(\n",
    "profile_plot & WIND_CHART\n",
    ").properties(title='Wind direction and vertical profiles over 2 days')\n",
    "# .configure_axis(grid=False).configure_view(strokeWidth=0)"
   ]
  },
  {
   "cell_type": "markdown",
   "metadata": {},
   "source": [
    "# Slice data to time period of interest\n"
   ]
  },
  {
   "cell_type": "code",
   "execution_count": null,
   "metadata": {},
   "outputs": [],
   "source": [
    "# # Original study periods\n",
    "########################################################################\n",
    "########################################################################\n",
    "\n",
    "# 3 hr period of substantial katabatic behavior\n",
    "###\n",
    "sos_data_df_slice = sos_data_df[\n",
    "    (sos_data_df['time'] > dt.datetime(2023, 1, 9, 1))\n",
    "    &\n",
    "    (sos_data_df['time'] < dt.datetime(2023, 1, 9, 4))\n",
    "]\n",
    "\n",
    "sos_data_1hr_df_slice = sos_data_1hr_df[\n",
    "    (sos_data_1hr_df['time'] > dt.datetime(2023, 1, 9, 1))\n",
    "    &\n",
    "    (sos_data_1hr_df['time'] < dt.datetime(2023, 1, 9, 4))\n",
    "]\n",
    "\n",
    "# 3 hr period of substantial anabatic behavior\n",
    "###\n",
    "# sos_data_df_slice = sos_data_df[\n",
    "#     (sos_data_df['time'] > dt.datetime(2022, 11, 1, 10, 30))\n",
    "#     &\n",
    "#     (sos_data_df['time'] < dt.datetime(2022, 11, 1, 13, 30))\n",
    "# ]\n",
    "\n",
    "# sos_data_1hr_df_slice = sos_data_1hr_df[\n",
    "#     (sos_data_1hr_df['time'] > dt.datetime(2022, 11, 1, 10, 30))\n",
    "#     &\n",
    "#     (sos_data_1hr_df['time'] < dt.datetime(2022, 11, 1, 13, 30))\n",
    "# ]\n",
    "\n",
    "\n",
    "\n",
    "\n",
    "# # Dates aligned with good Doppler LIDAR reads\n",
    "########################################################################\n",
    "########################################################################\n",
    "\n",
    "# 3 hr period of substantial katabatic behavior\n",
    "###\n",
    "# sos_data_df_slice = sos_data_df[\n",
    "#     (sos_data_df['time'] > dt.datetime(2022, 11, 1, 1))\n",
    "#     &\n",
    "#     (sos_data_df['time'] < dt.datetime(2022, 11, 1, 4))\n",
    "# ]\n",
    "\n",
    "# sos_data_1hr_df_slice = sos_data_1hr_df[\n",
    "#     (sos_data_1hr_df['time'] > dt.datetime(2022, 11, 1, 1))\n",
    "#     &\n",
    "#     (sos_data_1hr_df['time'] < dt.datetime(2022, 11, 1, 4))\n",
    "# ]\n",
    "\n",
    "# 3 hr period of substantial anabatic behavior\n",
    "###\n",
    "# sos_data_df_slice = sos_data_df[\n",
    "#     (sos_data_df['time'] > dt.datetime(2022, 10, 31, 12))\n",
    "#     &\n",
    "#     (sos_data_df['time'] < dt.datetime(2022, 10, 31, 14))\n",
    "# ]\n",
    "\n",
    "# sos_data_1hr_df_slice = sos_data_1hr_df[\n",
    "#     (sos_data_1hr_df['time'] > dt.datetime(2022, 10, 31, 12))\n",
    "#     &\n",
    "#     (sos_data_1hr_df['time'] < dt.datetime(2022, 10, 31, 14))\n",
    "# ]\n",
    "\n",
    "\n",
    "\n",
    "\n",
    "\n",
    "# ALL OF IT\n",
    "########################################################################\n",
    "########################################################################\n",
    "\n",
    "# 3 hr period of substantial katabatic behavior\n",
    "###\n",
    "# sos_data_df_slice = sos_data_df[\n",
    "#     (sos_data_df['time'] > dt.datetime(2022, 10, 31, 12))\n",
    "#     &\n",
    "#     (sos_data_df['time'] < dt.datetime(2022, 11, 1, 19))\n",
    "# ]\n",
    "\n",
    "# sos_data_1hr_df_slice = sos_data_1hr_df[\n",
    "#     (sos_data_1hr_df['time'] > dt.datetime(2022, 10, 31, 12))\n",
    "#     &\n",
    "#     (sos_data_1hr_df['time'] < dt.datetime(2022, 11, 1, 19))\n",
    "# ]"
   ]
  },
  {
   "cell_type": "code",
   "execution_count": null,
   "metadata": {},
   "outputs": [],
   "source": [
    "dl_windprofile_df = dl_windprofile_data.to_dataframe().reset_index()\n",
    "dl_windprofile_df_slice = dl_windprofile_df[\n",
    "    (dl_windprofile_df['time'] > dt.datetime(2022, 10, 31, 18))\n",
    "    &\n",
    "    (dl_windprofile_df['time'] < dt.datetime(2022, 11, 1, 6))\n",
    "][['time', 'bound', 'height', 'wind_speed', 'wind_speed_error',\n",
    "       'wind_direction', 'wind_direction_error']]"
   ]
  },
  {
   "cell_type": "markdown",
   "metadata": {},
   "source": [
    "## Look at DL and tower winds during the time period"
   ]
  },
  {
   "cell_type": "code",
   "execution_count": null,
   "metadata": {},
   "outputs": [],
   "source": [
    "alt.Chart(\n",
    "    dl_windprofile_df_slice\n",
    ").mark_line().encode(\n",
    "    alt.X('time:T'),\n",
    "    alt.Y('value:Q'),\n",
    "    # alt.Y(\n",
    "    #     'rolling_mean:Q', \n",
    "    #     title = 'Wind Direction (50 minute rolling average', \n",
    "    #     scale=alt.Scale(domain=[0, 360], nice=False),\n",
    "    #     axis=alt.Axis(values=[0, 90, 180, 270, 360])\n",
    "\n",
    "    # ),\n",
    "    color=alt.Color(\n",
    "        \"height:Q\", \n",
    "        scale=alt.Scale(scheme='viridis')\n",
    "    )\n",
    ")"
   ]
  },
  {
   "cell_type": "code",
   "execution_count": null,
   "metadata": {},
   "outputs": [],
   "source": [
    "alt.Chart(\n",
    "    sos_data_df_slice\n",
    ").transform_filter(\n",
    "    alt.datum.measurement == 'wind direction'\n",
    ").transform_window(\n",
    "    rolling_mean = 'mean(value)',\n",
    "    frame = [-5, 5]\n",
    ").mark_line().encode(\n",
    "    alt.X('time:T'),\n",
    "    # alt.Y('value:Q'),\n",
    "    alt.Y(\n",
    "        'rolling_mean:Q', \n",
    "        title = 'Wind Direction (50 minute rolling average', \n",
    "        scale=alt.Scale(domain=[0, 360], nice=False),\n",
    "        axis=alt.Axis(values=[0, 90, 180, 270, 360])\n",
    "    ),\n",
    "    color=alt.Color(\n",
    "        \"height:O\", \n",
    "        scale=alt.Scale(scheme='viridis')\n",
    "    )\n",
    ").properties(\n",
    "    width=1000,\n",
    "    # height=200\n",
    ")\n",
    "# .configure_axis(grid=False).configure_view(strokeWidth=0)"
   ]
  },
  {
   "cell_type": "code",
   "execution_count": null,
   "metadata": {},
   "outputs": [],
   "source": [
    "local_src = sos_data_1hr_df_slice.copy()\n",
    "\n",
    "# Create additional time columns to make plotting easier\n",
    "local_src['day'] = local_src['time'].dt.date.apply(lambda date: dt.datetime.combine(date, dt.time()))\n",
    "local_src['hour'] = local_src['time'].dt.hour\n",
    "local_src = local_src[local_src['time'] < dt.datetime(2022, 11, 4)]\n",
    "# local_src = local_src[local_src['time'].dt.hour.isin([0,3,6,9,12,15,18,21])]\n",
    "\n",
    "profile_plot = alt.Chart(local_src).transform_filter(\n",
    "    alt.datum.measurement == 'wind speed'\n",
    ").mark_point().encode(\n",
    "    alt.X(\n",
    "        'value:Q', \n",
    "        sort='-y', \n",
    "        title=None, \n",
    "        axis=alt.Axis(orient='top', offset=-15)\n",
    "    ),\n",
    "    alt.Y('height:Q',  axis=alt.Axis(grid=False)),\n",
    "    color=alt.Color(\"height:O\", scale=alt.Scale(scheme='viridis'))\n",
    ").properties(\n",
    "    width=83.4,\n",
    "    height=50\n",
    ").facet(\n",
    "    facet=alt.Column(\n",
    "        'time', \n",
    "        header=alt.Header(format=\"%H:00\", formatType='time'),\n",
    "        # header=alt.Header(labelExpr=\"''\"),\n",
    "        title='Hourly average wind speed profiles (m/s)',\n",
    "    ),\n",
    "    columns=24,\n",
    "   spacing=1\n",
    ").resolve_axis(\n",
    "    x='shared'\n",
    ")\n",
    "\n",
    "(\n",
    "profile_plot & \\\n",
    "alt.Chart(\n",
    "    sos_data_df_slice\n",
    ").transform_filter(\n",
    "    alt.datum.measurement == 'wind direction'\n",
    ").transform_window(\n",
    "    rolling_mean = 'mean(value)',\n",
    "    frame = [-5, 5]\n",
    ").mark_line().encode(\n",
    "    alt.X('time:T'),\n",
    "    # alt.Y('value:Q'),\n",
    "    alt.Y(\n",
    "        'rolling_mean:Q', \n",
    "        title = 'Wind Direction (50 minute rolling average', \n",
    "        scale=alt.Scale(domain=[0, 360], nice=False),\n",
    "        axis=alt.Axis(values=[0, 90, 180, 270, 360])\n",
    "\n",
    "    ),\n",
    "    color=alt.Color(\n",
    "        \"height:O\", \n",
    "        scale=alt.Scale(scheme='viridis')\n",
    "    )\n",
    ").properties(\n",
    "    width=1000,\n",
    "    # height=200\n",
    ")).properties(title='Wind direction and vertical profiles over 2 days')\n",
    "# .configure_axis(grid=False).configure_view(strokeWidth=0)"
   ]
  },
  {
   "cell_type": "code",
   "execution_count": null,
   "metadata": {},
   "outputs": [],
   "source": [
    "local_src = sos_data_df_slice.set_index('time').groupby([pd.Grouper(freq='15Min'), 'tower', 'height', 'measurement']).mean().reset_index()\n",
    "\n",
    "# Create additional time columns to make plotting easier\n",
    "local_src['day'] = local_src['time'].dt.date.apply(lambda date: dt.datetime.combine(date, dt.time()))\n",
    "local_src['hour'] = local_src['time'].dt.hour\n",
    "local_src = local_src[local_src['time'] < dt.datetime(2022, 11, 4)]\n",
    "# local_src = local_src[local_src['time'].dt.hour.isin([0,3,6,9,12,15,18,21])]\n",
    "\n",
    "profile_plot = alt.Chart(local_src).transform_filter(\n",
    "    alt.datum.measurement == 'wind speed'\n",
    ").mark_point().encode(\n",
    "    alt.X(\n",
    "        'value:Q', \n",
    "        sort='-y', \n",
    "        title=None, \n",
    "        axis=alt.Axis(orient='top', offset=-30)\n",
    "    ),\n",
    "    alt.Y('height:Q',  axis=alt.Axis(grid=False)),\n",
    "    color=alt.Color(\"height:O\", scale=alt.Scale(scheme='viridis'))\n",
    ").properties(\n",
    "    width=81,\n",
    "    height=50\n",
    ").facet(\n",
    "    facet=alt.Column(\n",
    "        'time', \n",
    "        header=alt.Header(format=\"%H:%M\", formatType='time', labelPadding=30, titlePadding=30),\n",
    "        # header=alt.Header(labelExpr=\"''\"),\n",
    "        title='15 minute average wind speed profiles (m/s)',\n",
    "    ),\n",
    "    columns=24,\n",
    "   spacing=1\n",
    ").resolve_axis(\n",
    "    x='shared'\n",
    ")\n",
    "\n",
    "(\n",
    "profile_plot & \\\n",
    "alt.Chart(\n",
    "    sos_data_df_slice\n",
    ").transform_filter(\n",
    "    alt.datum.measurement == 'wind direction'\n",
    ").transform_window(\n",
    "    rolling_mean = 'mean(value)',\n",
    "    frame = [-5, 5]\n",
    ").mark_line().encode(\n",
    "    alt.X('time:T'),\n",
    "    # alt.Y('value:Q'),\n",
    "    alt.Y(\n",
    "        'rolling_mean:Q', \n",
    "        title = 'Wind Direction (50 minute rolling average', \n",
    "        scale=alt.Scale(domain=[0, 360], nice=False),\n",
    "        axis=alt.Axis(values=[0, 90, 180, 270, 360])\n",
    "\n",
    "    ),\n",
    "    color=alt.Color(\n",
    "        \"height:O\", \n",
    "        scale=alt.Scale(scheme='viridis')\n",
    "    )\n",
    ").properties(\n",
    "    width=1000,\n",
    "    # height=200\n",
    ")).properties(title='Wind direction and vertical profiles over 2 days')\n",
    "# .configure_axis(grid=False).configure_view(strokeWidth=0)"
   ]
  },
  {
   "cell_type": "markdown",
   "metadata": {},
   "source": [
    "# Convert sonic data to upstream coordinates (ignoring rotation in the z-normal axis, i.e. not adjusting for sloping topography)\n",
    "\n",
    "This requires averaging over a period of near-constant wind direction. Let's study the second night, 6pm Oct 31 to 6am Nov 1."
   ]
  },
  {
   "cell_type": "markdown",
   "metadata": {},
   "source": [
    "## Look at U and V"
   ]
  },
  {
   "cell_type": "code",
   "execution_count": null,
   "metadata": {},
   "outputs": [],
   "source": [
    "\n",
    "\n",
    "horzline = alt.Chart().mark_rule().encode(\n",
    "    y='a:Q'\n",
    ")\n",
    "\n",
    "og_plot = alt.Chart(\n",
    ").mark_point().encode(\n",
    "    alt.X('time:T'),\n",
    "    alt.Y('value:Q'),\n",
    "    alt.Color(\"height:O\", scale=alt.Scale(scheme='viridis')),\n",
    "    # alt.Facet('measurement', columns=1)\n",
    ").properties(\n",
    "    width=300,\n",
    "    height=100\n",
    ").transform_filter(\n",
    "    alt.FieldOneOfPredicate('measurement', ['u', 'v'])\n",
    ")\n",
    "\n",
    "alt.layer(\n",
    "    og_plot,\n",
    "    horzline, \n",
    "    data = sos_data_df_slice.dropna()\n",
    ").transform_filter(\n",
    "    alt.FieldOneOfPredicate('measurement', ['u', 'v'])\n",
    ").transform_calculate(\n",
    "        a=\"0\"\n",
    ").facet('measurement', columns=1)"
   ]
  },
  {
   "cell_type": "markdown",
   "metadata": {},
   "source": [
    "## \"1. Calculate mean U and V (in sonic coords)"
   ]
  },
  {
   "cell_type": "markdown",
   "metadata": {},
   "source": [
    "\n",
    "\n",
    "Find mean U and V for a given period, and use equations from EOL (https://www.eol.ucar.edu/node/1953)\n",
    "\n",
    "The U axis (Ustream) of streamwise coordinates is defined to be the mean wind direction. To rotate wind vectors to streamwise coordinates, first determine the the average wind vector,Uav, Vav, in the same coordinate system as the data to be rotated, which could be instrument or geographic coordinates. The rotation angle is the angle of this wind vector from the U axis, measured positive counter-clockwise.\n",
    "\n",
    "1. Find the average wind vector:\n",
    "    <U, V>"
   ]
  },
  {
   "cell_type": "code",
   "execution_count": null,
   "metadata": {},
   "outputs": [],
   "source": [
    "u_avg = sos_data_df_slice[sos_data_df_slice['measurement'] == 'u'].groupby(['tower', 'height'])['value'].mean()\n",
    "v_avg = sos_data_df_slice[sos_data_df_slice['measurement'] == 'v'].groupby(['tower', 'height'])['value'].mean()\n",
    "u_avg, v_avg"
   ]
  },
  {
   "cell_type": "markdown",
   "metadata": {},
   "source": [
    "## \"2. Compute the adjustment angles angles\n",
    "\n",
    "D = atan2(Vav,Uav) * DperR\n",
    "\n",
    "Ustream =  U * cos(D*RperD) + V * sin(D*RperD)\n",
    "\n",
    "Vstream = -U * sin(D*RperD) + V * cos(D*RperD)\n",
    "\n",
    "As expected, if U=Uav and V=Vav then Ustream = Spd, and Vstream = 0."
   ]
  },
  {
   "cell_type": "code",
   "execution_count": null,
   "metadata": {},
   "outputs": [],
   "source": [
    "D = np.arctan2(v_avg, u_avg)"
   ]
  },
  {
   "cell_type": "code",
   "execution_count": null,
   "metadata": {},
   "outputs": [],
   "source": [
    "D"
   ]
  },
  {
   "cell_type": "code",
   "execution_count": null,
   "metadata": {},
   "outputs": [],
   "source": [
    "sos_data_df_slice_wide = sos_data_df_slice.pivot_table(index=['time','tower','height'], values='value', columns='measurement').reset_index()"
   ]
  },
  {
   "cell_type": "code",
   "execution_count": null,
   "metadata": {},
   "outputs": [],
   "source": [
    "sos_data_df_slice_wide.apply(\n",
    "    lambda row: row['u']*np.cos(\n",
    "        # D.loc[row['tower'], row['height']]\n",
    "        D.to_dict().get((row['tower'], row['height']), np.nan)\n",
    "    ) + row['v']*np.sin(\n",
    "        # D.loc[row['tower'], row['height']]\n",
    "        D.to_dict().get((row['tower'], row['height']), np.nan)\n",
    "    ),\n",
    "    axis=1\n",
    ")"
   ]
  },
  {
   "cell_type": "code",
   "execution_count": null,
   "metadata": {},
   "outputs": [],
   "source": [
    "# Ustream =  U * cos(D*RperD) + V * sin(D*RperD)\n",
    "\n",
    "# Vstream = -U * sin(D*RperD) + V * cos(D*RperD)\n",
    "\n",
    "# convert u velocity\n",
    "sos_data_df_slice_wide['u'] = sos_data_df_slice_wide.apply(\n",
    "    lambda row: row['u']*np.cos(D.to_dict().get((row['tower'], row['height']), np.nan)) + row['v']*np.sin(D.to_dict().get((row['tower'], row['height']), np.nan)),\n",
    "    axis=1\n",
    ")\n",
    "\n",
    "# # convert v velocity\n",
    "sos_data_df_slice_wide['v'] = sos_data_df_slice_wide.apply(\n",
    "    lambda row: - row['u']*np.sin(D.to_dict().get((row['tower'], row['height']), np.nan)) + row['v']*np.cos(D.to_dict().get((row['tower'], row['height']), np.nan)),\n",
    "    axis=1\n",
    ")\n",
    "\n",
    "# # convert u_tc_ and u_w_ same as we convert u - IS THIS CORRECT?\n",
    "sos_data_df_slice_wide['u_tc_'] = sos_data_df_slice_wide.apply(\n",
    "    lambda row: row['u_tc_']*np.cos(D.to_dict().get((row['tower'], row['height']), np.nan)) + row['v_tc_']*np.sin(D.to_dict().get((row['tower'], row['height']), np.nan)),\n",
    "    axis=1\n",
    ")\n",
    "\n",
    "sos_data_df_slice_wide['u_w_'] = sos_data_df_slice_wide.apply(\n",
    "    lambda row: row['u_w_']*np.cos(D.to_dict().get((row['tower'], row['height']), np.nan)) + row['v_w_']*np.sin(D.to_dict().get((row['tower'], row['height']), np.nan)),\n",
    "    axis=1\n",
    ")\n",
    "\n",
    "# # convert v_tc_ and v_w_  same as we convert v - IS THIS CORRECT?\n",
    "sos_data_df_slice_wide['v_tc_'] = sos_data_df_slice_wide.apply(\n",
    "    lambda row: - row['u_tc_']*np.sin(D.to_dict().get((row['tower'], row['height']), np.nan)) + row['v_tc_']*np.cos(D.to_dict().get((row['tower'], row['height']), np.nan)),\n",
    "    axis=1\n",
    ")\n",
    "\n",
    "sos_data_df_slice_wide['w_tc_'] = sos_data_df_slice_wide.apply(\n",
    "    lambda row: - row['u_w_']*np.sin(D.to_dict().get((row['tower'], row['height']), np.nan)) + row['v_w_']*np.cos(D.to_dict().get((row['tower'], row['height']), np.nan)),\n",
    "    axis=1\n",
    ")"
   ]
  },
  {
   "cell_type": "code",
   "execution_count": null,
   "metadata": {},
   "outputs": [],
   "source": [
    "pd.set_option('display.max_rows', 500)"
   ]
  },
  {
   "cell_type": "markdown",
   "metadata": {},
   "source": [
    "## Create rotated dataset in tidy format"
   ]
  },
  {
   "cell_type": "code",
   "execution_count": null,
   "metadata": {},
   "outputs": [],
   "source": [
    "sos_data_slice_rot = sos_data_df_slice_wide.melt(id_vars=['time', 'tower', 'height'], value_vars=sos_data_df_slice['measurement'].unique())"
   ]
  },
  {
   "cell_type": "code",
   "execution_count": null,
   "metadata": {},
   "outputs": [],
   "source": [
    "\n",
    "\n",
    "horzline = alt.Chart().mark_rule().encode(\n",
    "    y='a:Q'\n",
    ")\n",
    "\n",
    "og_plot = alt.Chart(\n",
    ").mark_point().encode(\n",
    "    alt.X('time:T'),\n",
    "    alt.Y('value:Q'),\n",
    "    alt.Color(\"height:O\", scale=alt.Scale(scheme='viridis')),\n",
    "    # alt.Facet('measurement', columns=1)\n",
    ").properties(\n",
    "    width=300,\n",
    "    height=100\n",
    ").transform_filter(\n",
    "    alt.FieldOneOfPredicate('measurement', ['u', 'v'])\n",
    ")\n",
    "\n",
    "alt.layer(\n",
    "    og_plot,\n",
    "    horzline, \n",
    "    data = sos_data_slice_rot.dropna()\n",
    ").transform_filter(\n",
    "    alt.FieldOneOfPredicate('measurement', ['u', 'v'])\n",
    ").transform_calculate(\n",
    "        a=\"0\"\n",
    ").facet('measurement', columns=1)"
   ]
  },
  {
   "cell_type": "code",
   "execution_count": null,
   "metadata": {},
   "outputs": [],
   "source": [
    "def grid_plot_with_line(data, columns, xlabel=None):\n",
    "    \n",
    "    og_plot = alt.Chart().mark_line(point=False).encode(\n",
    "        alt.X('value:Q', sort='y', title=xlabel),\n",
    "        alt.Y('height:Q', title='Height (m)'),\n",
    "        # alt.Color(\"height:O\", scale=alt.Scale(scheme='viridis')),\n",
    "    ).properties(\n",
    "        width=100,\n",
    "        height=100\n",
    "    )\n",
    "\n",
    "    vertline = alt.Chart().mark_rule().encode(\n",
    "        x='a:Q'\n",
    "    )\n",
    "\n",
    "    return alt.layer(\n",
    "            og_plot, vertline,\n",
    "            data=data\n",
    "        ).transform_filter(\n",
    "           alt.FieldOneOfPredicate('measurement', columns)\n",
    "        ).transform_calculate(\n",
    "            a=\"0\"\n",
    "        ).facet(\n",
    "            column= alt.Column('time', header=alt.Header(format=\"%m/%d %H:%M\", formatType='time')),\n",
    "            row = alt.Row('measurement', sort=columns)\n",
    "        ).resolve_scale(\n",
    "            y='shared', \n",
    "        # x='shared'\n",
    "        )"
   ]
  },
  {
   "cell_type": "code",
   "execution_count": null,
   "metadata": {},
   "outputs": [],
   "source": [
    "src = sos_data_slice_rot.set_index('time').groupby([pd.Grouper(freq='60Min'), 'height', 'tower', 'measurement']).mean().reset_index()\n",
    "\n",
    "# drop any nans because they mess up plotting continuously\n",
    "src = src.dropna(subset = 'value')\n",
    "\n",
    "(\n",
    "    grid_plot_with_line(src, ['T'], xlabel='Temperature (C˚)') & \n",
    "    # grid_plot_with_line(src, ['wind speed', 'u']) &\n",
    "    grid_plot_with_line(src, ['u'], xlabel='Wind speed (m/s)') &\n",
    "    grid_plot_with_line(src, ['u_w_'], xlabel=[\"Vertical momentum\", \"flux (m^2/s^2)\"]) & \n",
    "    grid_plot_with_line(src, ['w_tc_'], xlabel=[\"Vertical heat\", \"flux (m^2 ˚C/s)\"]) &\n",
    "    grid_plot_with_line(src, ['w_h2o_'], xlabel=[\"Vertical moisture\", \"flux (g/m^2/s)\"])    \n",
    ").configure_axis(grid=False)"
   ]
  },
  {
   "cell_type": "code",
   "execution_count": null,
   "metadata": {},
   "outputs": [],
   "source": [
    "def grid_plot_with_line_wxlim(data, columns, xlabel=None, ylabel = None, xlim=None):\n",
    "    \n",
    "    og_plot = alt.Chart().mark_line(point=False).encode(\n",
    "        alt.X('value:Q', sort='y', title=xlabel, scale=alt.Scale(domain=xlim)),\n",
    "        alt.Y('height:Q', title=ylabel),\n",
    "        # alt.Color(\"height:O\", scale=alt.Scale(scheme='viridis')),\n",
    "    ).properties(\n",
    "        width=100,\n",
    "        height=100\n",
    "    )\n",
    "\n",
    "    vertline = alt.Chart().mark_rule().encode(\n",
    "        x='a:Q'\n",
    "    )\n",
    "\n",
    "    return alt.layer(\n",
    "            og_plot, vertline,\n",
    "            data=data\n",
    "        ).transform_filter(\n",
    "           alt.FieldOneOfPredicate('measurement', columns)\n",
    "        ).transform_calculate(\n",
    "            a=\"0\"\n",
    "        ).resolve_scale(\n",
    "            y='shared', \n",
    "        # x='shared'\n",
    "        )"
   ]
  },
  {
   "cell_type": "code",
   "execution_count": null,
   "metadata": {},
   "outputs": [],
   "source": [
    "src = sos_data_slice_rot.set_index('time').groupby([pd.Grouper(freq='60Min'), 'height', 'tower', 'measurement']).mean().reset_index()\n",
    "# filter dates,\n",
    "#  drop any nans because they mess up plotting continuously\n",
    "src1 = src[(src['time'].dt.day == 31) & (src['time'].dt.hour == 13)].dropna(subset = 'value')\n",
    "\n",
    "src2 = src[(src['time'].dt.day == 31) & (src['time'].dt.hour == 18)].dropna(subset = 'value')\n",
    "\n",
    "src3 = src[(src['time'].dt.day == 1) & (src['time'].dt.hour == 2)].dropna(subset = 'value')\n",
    "\n",
    "src4 = src[(src['time'].dt.day == 1) & (src['time'].dt.hour == 18)].dropna(subset = 'value')\n",
    "\n",
    "\n",
    "src = src\n",
    "\n",
    "(\n",
    "    (\n",
    "        grid_plot_with_line_wxlim(src1, ['wind speed'], xlabel='', xlim=[0, 5], ylabel = 'Height (m)') |\n",
    "        grid_plot_with_line_wxlim(src1, ['w_h2o_'], xlabel=\"\", xlim=[-0.01, 0.01]) |\n",
    "        grid_plot_with_line_wxlim(src1, ['T'], xlabel=\"\", xlim=[-7, 7])\n",
    "    ) \n",
    "    &\n",
    "    (\n",
    "        grid_plot_with_line_wxlim(src2, ['wind speed'], xlabel='', xlim=[0, 5], ylabel = 'Height (m)') |\n",
    "        grid_plot_with_line_wxlim(src2, ['w_h2o_'], xlabel=\"\", xlim=[-0.01, 0.01]) |\n",
    "        grid_plot_with_line_wxlim(src2, ['T'], xlabel=\"\", xlim=[-7, 7])\n",
    "    ) \n",
    "    &\n",
    "    (\n",
    "        grid_plot_with_line_wxlim(src3, ['wind speed'], xlabel='', xlim=[0, 5], ylabel = 'Height (m)') |\n",
    "        grid_plot_with_line_wxlim(src3, ['w_h2o_'], xlabel=\"\", xlim=[-0.01, 0.01]) |\n",
    "        grid_plot_with_line_wxlim(src3, ['T'], xlabel=\"\", xlim=[-7, 7])\n",
    "    )\n",
    "    &\n",
    "    (\n",
    "        grid_plot_with_line_wxlim(src4, ['wind speed'], xlabel='Wind speed (m/s)', xlim=[0, 5], ylabel = 'Height (m)') |\n",
    "        grid_plot_with_line_wxlim(src4, ['w_h2o_'], xlabel=[\"Vertical moisture\", \"flux (g/m^2/s)\"], xlim=[-0.01, 0.01]) |\n",
    "        grid_plot_with_line_wxlim(src4, ['T'], xlabel='Temperature (C˚)', xlim=[-7, 7])\n",
    "    )\n",
    ").configure_axis(grid=False)"
   ]
  },
  {
   "cell_type": "code",
   "execution_count": null,
   "metadata": {},
   "outputs": [],
   "source": []
  }
 ],
 "metadata": {
  "kernelspec": {
   "display_name": "arm",
   "language": "python",
   "name": "python3"
  },
  "language_info": {
   "codemirror_mode": {
    "name": "ipython",
    "version": 3
   },
   "file_extension": ".py",
   "mimetype": "text/x-python",
   "name": "python",
   "nbconvert_exporter": "python",
   "pygments_lexer": "ipython3",
   "version": "3.11.0"
  },
  "orig_nbformat": 4,
  "vscode": {
   "interpreter": {
    "hash": "e2b11a00ad1b97cabcd9cc9209b8824a0fcaf6ffe37b5243943912873b5dcab1"
   }
  }
 },
 "nbformat": 4,
 "nbformat_minor": 2
}
