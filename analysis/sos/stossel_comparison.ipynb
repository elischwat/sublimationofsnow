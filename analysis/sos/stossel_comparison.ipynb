{
 "cells": [
  {
   "cell_type": "code",
   "execution_count": 1,
   "metadata": {},
   "outputs": [],
   "source": [
    "from sublimpy import utils, variables, tidy\n",
    "import pandas as pd\n",
    "import altair as alt\n",
    "import numpy as np"
   ]
  },
  {
   "cell_type": "code",
   "execution_count": 2,
   "metadata": {},
   "outputs": [],
   "source": [
    "stossel_df = pd.read_csv(\"Stossel_box_weights - Sheet1.csv\")[['date_time', 'delta_box_1', 'delta_box_2']]\n",
    "stossel_df['time'] = pd.to_datetime(stossel_df['date_time'])"
   ]
  },
  {
   "cell_type": "code",
   "execution_count": 3,
   "metadata": {},
   "outputs": [
    {
     "data": {
      "text/html": [
       "\n",
       "<style>\n",
       "  #altair-viz-be3506134e2d43e1bad6d78139722698.vega-embed {\n",
       "    width: 100%;\n",
       "    display: flex;\n",
       "  }\n",
       "\n",
       "  #altair-viz-be3506134e2d43e1bad6d78139722698.vega-embed details,\n",
       "  #altair-viz-be3506134e2d43e1bad6d78139722698.vega-embed details summary {\n",
       "    position: relative;\n",
       "  }\n",
       "</style>\n",
       "<div id=\"altair-viz-be3506134e2d43e1bad6d78139722698\"></div>\n",
       "<script type=\"text/javascript\">\n",
       "  var VEGA_DEBUG = (typeof VEGA_DEBUG == \"undefined\") ? {} : VEGA_DEBUG;\n",
       "  (function(spec, embedOpt){\n",
       "    let outputDiv = document.currentScript.previousElementSibling;\n",
       "    if (outputDiv.id !== \"altair-viz-be3506134e2d43e1bad6d78139722698\") {\n",
       "      outputDiv = document.getElementById(\"altair-viz-be3506134e2d43e1bad6d78139722698\");\n",
       "    }\n",
       "    const paths = {\n",
       "      \"vega\": \"https://cdn.jsdelivr.net/npm/vega@5?noext\",\n",
       "      \"vega-lib\": \"https://cdn.jsdelivr.net/npm/vega-lib?noext\",\n",
       "      \"vega-lite\": \"https://cdn.jsdelivr.net/npm/vega-lite@5.8.0?noext\",\n",
       "      \"vega-embed\": \"https://cdn.jsdelivr.net/npm/vega-embed@6?noext\",\n",
       "    };\n",
       "\n",
       "    function maybeLoadScript(lib, version) {\n",
       "      var key = `${lib.replace(\"-\", \"\")}_version`;\n",
       "      return (VEGA_DEBUG[key] == version) ?\n",
       "        Promise.resolve(paths[lib]) :\n",
       "        new Promise(function(resolve, reject) {\n",
       "          var s = document.createElement('script');\n",
       "          document.getElementsByTagName(\"head\")[0].appendChild(s);\n",
       "          s.async = true;\n",
       "          s.onload = () => {\n",
       "            VEGA_DEBUG[key] = version;\n",
       "            return resolve(paths[lib]);\n",
       "          };\n",
       "          s.onerror = () => reject(`Error loading script: ${paths[lib]}`);\n",
       "          s.src = paths[lib];\n",
       "        });\n",
       "    }\n",
       "\n",
       "    function showError(err) {\n",
       "      outputDiv.innerHTML = `<div class=\"error\" style=\"color:red;\">${err}</div>`;\n",
       "      throw err;\n",
       "    }\n",
       "\n",
       "    function displayChart(vegaEmbed) {\n",
       "      vegaEmbed(outputDiv, spec, embedOpt)\n",
       "        .catch(err => showError(`Javascript Error: ${err.message}<br>This usually means there's a typo in your chart specification. See the javascript console for the full traceback.`));\n",
       "    }\n",
       "\n",
       "    if(typeof define === \"function\" && define.amd) {\n",
       "      requirejs.config({paths});\n",
       "      require([\"vega-embed\"], displayChart, err => showError(`Error loading script: ${err.message}`));\n",
       "    } else {\n",
       "      maybeLoadScript(\"vega\", \"5\")\n",
       "        .then(() => maybeLoadScript(\"vega-lite\", \"5.8.0\"))\n",
       "        .then(() => maybeLoadScript(\"vega-embed\", \"6\"))\n",
       "        .catch(showError)\n",
       "        .then(() => displayChart(vegaEmbed));\n",
       "    }\n",
       "  })({\"config\": {\"view\": {\"continuousWidth\": 300, \"continuousHeight\": 300}}, \"layer\": [{\"data\": {\"name\": \"data-fd91d697a4f116ec132db7620f1d0bbb\"}, \"mark\": {\"type\": \"circle\"}, \"encoding\": {\"x\": {\"field\": \"delta_box_1\", \"scale\": {\"domain\": [-100, 100]}, \"type\": \"quantitative\"}, \"y\": {\"field\": \"delta_box_2\", \"scale\": {\"domain\": [-100, 100]}, \"type\": \"quantitative\"}}}, {\"data\": {\"name\": \"empty\"}, \"mark\": {\"type\": \"rule\"}, \"encoding\": {\"x\": {\"field\": \"a\", \"type\": \"quantitative\"}}, \"transform\": [{\"calculate\": \"0\", \"as\": \"a\"}]}, {\"data\": {\"name\": \"empty\"}, \"mark\": {\"type\": \"rule\"}, \"encoding\": {\"y\": {\"field\": \"a\", \"type\": \"quantitative\"}}, \"transform\": [{\"calculate\": \"0\", \"as\": \"a\"}]}], \"$schema\": \"https://vega.github.io/schema/vega-lite/v5.8.0.json\", \"datasets\": {\"data-fd91d697a4f116ec132db7620f1d0bbb\": [{\"date_time\": \"1/31/2023 18:45:00\", \"delta_box_1\": null, \"delta_box_2\": null, \"time\": \"2023-01-31T18:45:00\"}, {\"date_time\": \"2/1/2023 7:55\", \"delta_box_1\": -11.0, \"delta_box_2\": 285.0, \"time\": \"2023-02-01T07:55:00\"}, {\"date_time\": \"2/1/2023 16:30:00\", \"delta_box_1\": -1.0, \"delta_box_2\": -19.0, \"time\": \"2023-02-01T16:30:00\"}, {\"date_time\": \"2/2/2023 7:57:00\", \"delta_box_1\": 34.0, \"delta_box_2\": null, \"time\": \"2023-02-02T07:57:00\"}, {\"date_time\": \"2/2/2023 17:33:00\", \"delta_box_1\": -21.0, \"delta_box_2\": null, \"time\": \"2023-02-02T17:33:00\"}, {\"date_time\": \"2/2/2023 17:40:00\", \"delta_box_1\": null, \"delta_box_2\": null, \"time\": \"2023-02-02T17:40:00\"}, {\"date_time\": \"2/3/2023 7:58:00\", \"delta_box_1\": -20.0, \"delta_box_2\": 20.0, \"time\": \"2023-02-03T07:58:00\"}, {\"date_time\": \"2/3/2023 16:26:00\", \"delta_box_1\": 0.0, \"delta_box_2\": -23.0, \"time\": \"2023-02-03T16:26:00\"}, {\"date_time\": \"2/4/2023 7:55:00\", \"delta_box_1\": 21.0, \"delta_box_2\": 21.0, \"time\": \"2023-02-04T07:55:00\"}, {\"date_time\": \"2/4/2023 16:30:00\", \"delta_box_1\": -48.0, \"delta_box_2\": -49.0, \"time\": \"2023-02-04T16:30:00\"}, {\"date_time\": \"2/5/2023 8:02:00\", \"delta_box_1\": 13.0, \"delta_box_2\": 14.0, \"time\": \"2023-02-05T08:02:00\"}, {\"date_time\": \"2/6/2023 0:00\", \"delta_box_1\": null, \"delta_box_2\": null, \"time\": \"2023-02-06T00:00:00\"}, {\"date_time\": \"2/7/2023 12:28:00\", \"delta_box_1\": null, \"delta_box_2\": null, \"time\": \"2023-02-07T12:28:00\"}, {\"date_time\": \"2/7/2023 17:28:00\", \"delta_box_1\": -35.0, \"delta_box_2\": -54.0, \"time\": \"2023-02-07T17:28:00\"}, {\"date_time\": \"2/9/2023 17:00:00\", \"delta_box_1\": null, \"delta_box_2\": null, \"time\": \"2023-02-09T17:00:00\"}, {\"date_time\": \"2/10/2023 8:00:00\", \"delta_box_1\": 12.0, \"delta_box_2\": 19.0, \"time\": \"2023-02-10T08:00:00\"}, {\"date_time\": \"2/10/2023 17:30:00\", \"delta_box_1\": -26.0, \"delta_box_2\": -12.0, \"time\": \"2023-02-10T17:30:00\"}, {\"date_time\": \"2/11/2023 8:00:00\", \"delta_box_1\": 27.0, \"delta_box_2\": 30.0, \"time\": \"2023-02-11T08:00:00\"}, {\"date_time\": \"2/11/2023 17:30:00\", \"delta_box_1\": -41.0, \"delta_box_2\": -33.0, \"time\": \"2023-02-11T17:30:00\"}, {\"date_time\": \"2/12/2023 7:15:00\", \"delta_box_1\": 0.0, \"delta_box_2\": -3.0, \"time\": \"2023-02-12T07:15:00\"}, {\"date_time\": \"2/12/2023 17:10:00\", \"delta_box_1\": -40.0, \"delta_box_2\": -38.0, \"time\": \"2023-02-12T17:10:00\"}, {\"date_time\": \"2/13/2023 7:50:00\", \"delta_box_1\": 9.0, \"delta_box_2\": 8.0, \"time\": \"2023-02-13T07:50:00\"}, {\"date_time\": \"2/16/2023 17:28:00\", \"delta_box_1\": null, \"delta_box_2\": null, \"time\": \"2023-02-16T17:28:00\"}, {\"date_time\": \"2/17/2023 7:50:00\", \"delta_box_1\": 9.0, \"delta_box_2\": 8.0, \"time\": \"2023-02-17T07:50:00\"}, {\"date_time\": \"2/17/2023 17:05:00\", \"delta_box_1\": -17.0, \"delta_box_2\": -12.0, \"time\": \"2023-02-17T17:05:00\"}, {\"date_time\": \"2/18/2023 8:10:00\", \"delta_box_1\": 36.0, \"delta_box_2\": 21.0, \"time\": \"2023-02-18T08:10:00\"}, {\"date_time\": \"2/18/2023 17:35\", \"delta_box_1\": 60.0, \"delta_box_2\": 258.0, \"time\": \"2023-02-18T17:35:00\"}, {\"date_time\": \"3/2/2023 8:30\", \"delta_box_1\": null, \"delta_box_2\": null, \"time\": \"2023-03-02T08:30:00\"}, {\"date_time\": \"3/2/2023 17:30\", \"delta_box_1\": -74.0, \"delta_box_2\": 52.0, \"time\": \"2023-03-02T17:30:00\"}], \"empty\": [{}]}}, {\"mode\": \"vega-lite\"});\n",
       "</script>"
      ],
      "text/plain": [
       "alt.LayerChart(...)"
      ]
     },
     "execution_count": 3,
     "metadata": {},
     "output_type": "execute_result"
    }
   ],
   "source": [
    "line_base = alt.Chart().transform_calculate(\n",
    "    a = '0'\n",
    ").mark_rule()\n",
    "alt.Chart(stossel_df).mark_circle().encode(\n",
    "    alt.X(\"delta_box_1:Q\").scale(domain=[-100, 100]),\n",
    "    alt.Y(\"delta_box_2:Q\").scale(domain=[-100, 100])\n",
    ") + line_base.encode(x='a:Q') + line_base.encode(y='a:Q')"
   ]
  },
  {
   "cell_type": "code",
   "execution_count": 4,
   "metadata": {},
   "outputs": [],
   "source": [
    "\n",
    "\n",
    "# filter outliers\n",
    "stossel_df = stossel_df[np.abs(stossel_df.delta_box_1) < 70]\n",
    "stossel_df = stossel_df[np.abs(stossel_df.delta_box_2) < 70]\n",
    "stossel_df['delta_box_mean'] = np.mean([stossel_df['delta_box_1'], stossel_df['delta_box_2']], axis=0)\n",
    "\n",
    "stossel_df['delta_box_mean_mm'] = 1000 * stossel_df['delta_box_mean'] / 997000  # 1000(mm/m)*(∆mass in g/m^2) / (h2o density in g/m^3) ==> "
   ]
  },
  {
   "cell_type": "code",
   "execution_count": 5,
   "metadata": {},
   "outputs": [
    {
     "data": {
      "text/html": [
       "\n",
       "<style>\n",
       "  #altair-viz-6a08a468e8764f28b2f90b2c30321c73.vega-embed {\n",
       "    width: 100%;\n",
       "    display: flex;\n",
       "  }\n",
       "\n",
       "  #altair-viz-6a08a468e8764f28b2f90b2c30321c73.vega-embed details,\n",
       "  #altair-viz-6a08a468e8764f28b2f90b2c30321c73.vega-embed details summary {\n",
       "    position: relative;\n",
       "  }\n",
       "</style>\n",
       "<div id=\"altair-viz-6a08a468e8764f28b2f90b2c30321c73\"></div>\n",
       "<script type=\"text/javascript\">\n",
       "  var VEGA_DEBUG = (typeof VEGA_DEBUG == \"undefined\") ? {} : VEGA_DEBUG;\n",
       "  (function(spec, embedOpt){\n",
       "    let outputDiv = document.currentScript.previousElementSibling;\n",
       "    if (outputDiv.id !== \"altair-viz-6a08a468e8764f28b2f90b2c30321c73\") {\n",
       "      outputDiv = document.getElementById(\"altair-viz-6a08a468e8764f28b2f90b2c30321c73\");\n",
       "    }\n",
       "    const paths = {\n",
       "      \"vega\": \"https://cdn.jsdelivr.net/npm/vega@5?noext\",\n",
       "      \"vega-lib\": \"https://cdn.jsdelivr.net/npm/vega-lib?noext\",\n",
       "      \"vega-lite\": \"https://cdn.jsdelivr.net/npm/vega-lite@5.8.0?noext\",\n",
       "      \"vega-embed\": \"https://cdn.jsdelivr.net/npm/vega-embed@6?noext\",\n",
       "    };\n",
       "\n",
       "    function maybeLoadScript(lib, version) {\n",
       "      var key = `${lib.replace(\"-\", \"\")}_version`;\n",
       "      return (VEGA_DEBUG[key] == version) ?\n",
       "        Promise.resolve(paths[lib]) :\n",
       "        new Promise(function(resolve, reject) {\n",
       "          var s = document.createElement('script');\n",
       "          document.getElementsByTagName(\"head\")[0].appendChild(s);\n",
       "          s.async = true;\n",
       "          s.onload = () => {\n",
       "            VEGA_DEBUG[key] = version;\n",
       "            return resolve(paths[lib]);\n",
       "          };\n",
       "          s.onerror = () => reject(`Error loading script: ${paths[lib]}`);\n",
       "          s.src = paths[lib];\n",
       "        });\n",
       "    }\n",
       "\n",
       "    function showError(err) {\n",
       "      outputDiv.innerHTML = `<div class=\"error\" style=\"color:red;\">${err}</div>`;\n",
       "      throw err;\n",
       "    }\n",
       "\n",
       "    function displayChart(vegaEmbed) {\n",
       "      vegaEmbed(outputDiv, spec, embedOpt)\n",
       "        .catch(err => showError(`Javascript Error: ${err.message}<br>This usually means there's a typo in your chart specification. See the javascript console for the full traceback.`));\n",
       "    }\n",
       "\n",
       "    if(typeof define === \"function\" && define.amd) {\n",
       "      requirejs.config({paths});\n",
       "      require([\"vega-embed\"], displayChart, err => showError(`Error loading script: ${err.message}`));\n",
       "    } else {\n",
       "      maybeLoadScript(\"vega\", \"5\")\n",
       "        .then(() => maybeLoadScript(\"vega-lite\", \"5.8.0\"))\n",
       "        .then(() => maybeLoadScript(\"vega-embed\", \"6\"))\n",
       "        .catch(showError)\n",
       "        .then(() => displayChart(vegaEmbed));\n",
       "    }\n",
       "  })({\"config\": {\"view\": {\"continuousWidth\": 300, \"continuousHeight\": 300}}, \"layer\": [{\"data\": {\"name\": \"data-e54f986575d56659b61bbe49ee7712d5\"}, \"mark\": {\"type\": \"circle\"}, \"encoding\": {\"x\": {\"field\": \"delta_box_1\", \"scale\": {\"domain\": [-100, 100]}, \"type\": \"quantitative\"}, \"y\": {\"field\": \"delta_box_2\", \"scale\": {\"domain\": [-100, 100]}, \"type\": \"quantitative\"}}}, {\"data\": {\"name\": \"empty\"}, \"mark\": {\"type\": \"rule\"}, \"encoding\": {\"x\": {\"field\": \"a\", \"type\": \"quantitative\"}}, \"transform\": [{\"calculate\": \"0\", \"as\": \"a\"}]}, {\"data\": {\"name\": \"empty\"}, \"mark\": {\"type\": \"rule\"}, \"encoding\": {\"y\": {\"field\": \"a\", \"type\": \"quantitative\"}}, \"transform\": [{\"calculate\": \"0\", \"as\": \"a\"}]}], \"$schema\": \"https://vega.github.io/schema/vega-lite/v5.8.0.json\", \"datasets\": {\"data-e54f986575d56659b61bbe49ee7712d5\": [{\"date_time\": \"2/1/2023 16:30:00\", \"delta_box_1\": -1.0, \"delta_box_2\": -19.0, \"time\": \"2023-02-01T16:30:00\", \"delta_box_mean\": -10.0, \"delta_box_mean_mm\": -0.010030090270812437}, {\"date_time\": \"2/3/2023 7:58:00\", \"delta_box_1\": -20.0, \"delta_box_2\": 20.0, \"time\": \"2023-02-03T07:58:00\", \"delta_box_mean\": 0.0, \"delta_box_mean_mm\": 0.0}, {\"date_time\": \"2/3/2023 16:26:00\", \"delta_box_1\": 0.0, \"delta_box_2\": -23.0, \"time\": \"2023-02-03T16:26:00\", \"delta_box_mean\": -11.5, \"delta_box_mean_mm\": -0.011534603811434303}, {\"date_time\": \"2/4/2023 7:55:00\", \"delta_box_1\": 21.0, \"delta_box_2\": 21.0, \"time\": \"2023-02-04T07:55:00\", \"delta_box_mean\": 21.0, \"delta_box_mean_mm\": 0.02106318956870612}, {\"date_time\": \"2/4/2023 16:30:00\", \"delta_box_1\": -48.0, \"delta_box_2\": -49.0, \"time\": \"2023-02-04T16:30:00\", \"delta_box_mean\": -48.5, \"delta_box_mean_mm\": -0.04864593781344032}, {\"date_time\": \"2/5/2023 8:02:00\", \"delta_box_1\": 13.0, \"delta_box_2\": 14.0, \"time\": \"2023-02-05T08:02:00\", \"delta_box_mean\": 13.5, \"delta_box_mean_mm\": 0.01354062186559679}, {\"date_time\": \"2/7/2023 17:28:00\", \"delta_box_1\": -35.0, \"delta_box_2\": -54.0, \"time\": \"2023-02-07T17:28:00\", \"delta_box_mean\": -44.5, \"delta_box_mean_mm\": -0.044633901705115345}, {\"date_time\": \"2/10/2023 8:00:00\", \"delta_box_1\": 12.0, \"delta_box_2\": 19.0, \"time\": \"2023-02-10T08:00:00\", \"delta_box_mean\": 15.5, \"delta_box_mean_mm\": 0.015546639919759278}, {\"date_time\": \"2/10/2023 17:30:00\", \"delta_box_1\": -26.0, \"delta_box_2\": -12.0, \"time\": \"2023-02-10T17:30:00\", \"delta_box_mean\": -19.0, \"delta_box_mean_mm\": -0.01905717151454363}, {\"date_time\": \"2/11/2023 8:00:00\", \"delta_box_1\": 27.0, \"delta_box_2\": 30.0, \"time\": \"2023-02-11T08:00:00\", \"delta_box_mean\": 28.5, \"delta_box_mean_mm\": 0.028585757271815445}, {\"date_time\": \"2/11/2023 17:30:00\", \"delta_box_1\": -41.0, \"delta_box_2\": -33.0, \"time\": \"2023-02-11T17:30:00\", \"delta_box_mean\": -37.0, \"delta_box_mean_mm\": -0.037111334002006016}, {\"date_time\": \"2/12/2023 7:15:00\", \"delta_box_1\": 0.0, \"delta_box_2\": -3.0, \"time\": \"2023-02-12T07:15:00\", \"delta_box_mean\": -1.5, \"delta_box_mean_mm\": -0.0015045135406218655}, {\"date_time\": \"2/12/2023 17:10:00\", \"delta_box_1\": -40.0, \"delta_box_2\": -38.0, \"time\": \"2023-02-12T17:10:00\", \"delta_box_mean\": -39.0, \"delta_box_mean_mm\": -0.03911735205616851}, {\"date_time\": \"2/13/2023 7:50:00\", \"delta_box_1\": 9.0, \"delta_box_2\": 8.0, \"time\": \"2023-02-13T07:50:00\", \"delta_box_mean\": 8.5, \"delta_box_mean_mm\": 0.008525576730190571}, {\"date_time\": \"2/17/2023 7:50:00\", \"delta_box_1\": 9.0, \"delta_box_2\": 8.0, \"time\": \"2023-02-17T07:50:00\", \"delta_box_mean\": 8.5, \"delta_box_mean_mm\": 0.008525576730190571}, {\"date_time\": \"2/17/2023 17:05:00\", \"delta_box_1\": -17.0, \"delta_box_2\": -12.0, \"time\": \"2023-02-17T17:05:00\", \"delta_box_mean\": -14.5, \"delta_box_mean_mm\": -0.014543630892678034}, {\"date_time\": \"2/18/2023 8:10:00\", \"delta_box_1\": 36.0, \"delta_box_2\": 21.0, \"time\": \"2023-02-18T08:10:00\", \"delta_box_mean\": 28.5, \"delta_box_mean_mm\": 0.028585757271815445}], \"empty\": [{}]}}, {\"mode\": \"vega-lite\"});\n",
       "</script>"
      ],
      "text/plain": [
       "alt.LayerChart(...)"
      ]
     },
     "execution_count": 5,
     "metadata": {},
     "output_type": "execute_result"
    }
   ],
   "source": [
    "line_base = alt.Chart().transform_calculate(\n",
    "    a = '0'\n",
    ").mark_rule()\n",
    "alt.Chart(stossel_df).mark_circle().encode(\n",
    "    alt.X(\"delta_box_1:Q\").scale(domain=[-100, 100]),\n",
    "    alt.Y(\"delta_box_2:Q\").scale(domain=[-100, 100])\n",
    ") + line_base.encode(x='a:Q') + line_base.encode(y='a:Q')"
   ]
  },
  {
   "attachments": {},
   "cell_type": "markdown",
   "metadata": {},
   "source": [
    "\n",
    "50 grams of water sublimated\n",
    "\n",
    "there are 997000 g/m^3 of water.\n",
    "\n",
    "That means 50 / 997000 is the volume of water that sublimated."
   ]
  },
  {
   "attachments": {},
   "cell_type": "markdown",
   "metadata": {},
   "source": [
    "# Get sos data"
   ]
  },
  {
   "cell_type": "code",
   "execution_count": 6,
   "metadata": {},
   "outputs": [
    {
     "name": "stdout",
     "output_type": "stream",
     "text": [
      "Caching...skipping download for 20230201\n",
      "Caching...skipping download for 20230202\n",
      "Caching...skipping download for 20230203\n",
      "Caching...skipping download for 20230204\n",
      "Caching...skipping download for 20230205\n",
      "Caching...skipping download for 20230206\n",
      "Caching...skipping download for 20230207\n",
      "Caching...skipping download for 20230208\n",
      "Caching...skipping download for 20230209\n",
      "Caching...skipping download for 20230210\n",
      "Caching...skipping download for 20230211\n",
      "Caching...skipping download for 20230212\n",
      "Caching...skipping download for 20230213\n",
      "Caching...skipping download for 20230214\n",
      "Caching...skipping download for 20230215\n",
      "Caching...skipping download for 20230216\n",
      "Caching...skipping download for 20230217\n",
      "Caching...skipping download for 20230218\n"
     ]
    }
   ],
   "source": [
    "sos_ds = utils.download_sos_data(\n",
    "    stossel_df['time'].min().strftime('%Y%m%d'),\n",
    "    stossel_df['time'].max().strftime('%Y%m%d'),\n",
    "    variable_names=variables.DEFAULT_VARIABLES,\n",
    "    local_download_dir='/data2/elilouis/sublimationofsnow/sosnoqc/',\n",
    "    cache=True\n",
    ")"
   ]
  },
  {
   "cell_type": "code",
   "execution_count": 7,
   "metadata": {},
   "outputs": [],
   "source": [
    "tidy_df = tidy.get_tidy_dataset(sos_ds, list(sos_ds.data_vars))"
   ]
  },
  {
   "attachments": {},
   "cell_type": "markdown",
   "metadata": {},
   "source": [
    "## Calculate daily sublimation with the sos datasets, exclude measurements from hours 18-7"
   ]
  },
  {
   "cell_type": "code",
   "execution_count": 8,
   "metadata": {},
   "outputs": [
    {
     "name": "stderr",
     "output_type": "stream",
     "text": [
      "/tmp/ipykernel_234093/1225670006.py:1: UserWarning: Boolean Series key will be reindexed to match DataFrame index.\n",
      "  daily_sublimation_df = tidy_df[tidy_df['variable'] == 'w_h2o__3m_c'][(tidy_df.time.dt.hour > 7) & (tidy_df.time.dt.hour < 18)].set_index('time').groupby([pd.Grouper(freq='24H'), 'variable', 'height', 'tower', 'measurement']).mean().reset_index()\n"
     ]
    }
   ],
   "source": [
    "daily_sublimation_df = tidy_df[tidy_df['variable'] == 'w_h2o__3m_c'][(tidy_df.time.dt.hour > 7) & (tidy_df.time.dt.hour < 18)].set_index('time').groupby([pd.Grouper(freq='24H'), 'variable', 'height', 'tower', 'measurement']).mean().reset_index()\n",
    "daily_sublimation_df['value'] = daily_sublimation_df['value']*11*60*60\n",
    "daily_sublimation_df['value'] = 1000 * daily_sublimation_df['value'] / 997000  # 1000(mm/m)*(∆mass in g/m^2) / (h2o density in g/m^3) ==> "
   ]
  },
  {
   "attachments": {},
   "cell_type": "markdown",
   "metadata": {},
   "source": [
    "# Clean stossel data - remove nighttime measurements"
   ]
  },
  {
   "cell_type": "code",
   "execution_count": 9,
   "metadata": {},
   "outputs": [
    {
     "name": "stderr",
     "output_type": "stream",
     "text": [
      "/tmp/ipykernel_234093/2199812955.py:2: SettingWithCopyWarning: \n",
      "A value is trying to be set on a copy of a slice from a DataFrame.\n",
      "Try using .loc[row_indexer,col_indexer] = value instead\n",
      "\n",
      "See the caveats in the documentation: https://pandas.pydata.org/pandas-docs/stable/user_guide/indexing.html#returning-a-view-versus-a-copy\n",
      "  stossel_df['time'] = stossel_df['time'].apply(lambda dt: dt.replace(hour=0, minute=0))\n"
     ]
    }
   ],
   "source": [
    "stossel_df = stossel_df[pd.to_datetime(stossel_df['date_time']).dt.hour > 12]\n",
    "stossel_df['time'] = stossel_df['time'].apply(lambda dt: dt.replace(hour=0, minute=0))\n",
    "stossel_df = stossel_df.assign(\n",
    "        measurement = 'manual lysimeter',\n",
    "        delta_box_mean_mm = - stossel_df['delta_box_mean_mm']\n",
    ").rename(columns={'delta_box_mean_mm':'value'})"
   ]
  },
  {
   "cell_type": "code",
   "execution_count": 10,
   "metadata": {},
   "outputs": [
    {
     "data": {
      "text/html": [
       "\n",
       "<style>\n",
       "  #altair-viz-76c44c85d910431ba760da428d6b8df2.vega-embed {\n",
       "    width: 100%;\n",
       "    display: flex;\n",
       "  }\n",
       "\n",
       "  #altair-viz-76c44c85d910431ba760da428d6b8df2.vega-embed details,\n",
       "  #altair-viz-76c44c85d910431ba760da428d6b8df2.vega-embed details summary {\n",
       "    position: relative;\n",
       "  }\n",
       "</style>\n",
       "<div id=\"altair-viz-76c44c85d910431ba760da428d6b8df2\"></div>\n",
       "<script type=\"text/javascript\">\n",
       "  var VEGA_DEBUG = (typeof VEGA_DEBUG == \"undefined\") ? {} : VEGA_DEBUG;\n",
       "  (function(spec, embedOpt){\n",
       "    let outputDiv = document.currentScript.previousElementSibling;\n",
       "    if (outputDiv.id !== \"altair-viz-76c44c85d910431ba760da428d6b8df2\") {\n",
       "      outputDiv = document.getElementById(\"altair-viz-76c44c85d910431ba760da428d6b8df2\");\n",
       "    }\n",
       "    const paths = {\n",
       "      \"vega\": \"https://cdn.jsdelivr.net/npm/vega@5?noext\",\n",
       "      \"vega-lib\": \"https://cdn.jsdelivr.net/npm/vega-lib?noext\",\n",
       "      \"vega-lite\": \"https://cdn.jsdelivr.net/npm/vega-lite@5.8.0?noext\",\n",
       "      \"vega-embed\": \"https://cdn.jsdelivr.net/npm/vega-embed@6?noext\",\n",
       "    };\n",
       "\n",
       "    function maybeLoadScript(lib, version) {\n",
       "      var key = `${lib.replace(\"-\", \"\")}_version`;\n",
       "      return (VEGA_DEBUG[key] == version) ?\n",
       "        Promise.resolve(paths[lib]) :\n",
       "        new Promise(function(resolve, reject) {\n",
       "          var s = document.createElement('script');\n",
       "          document.getElementsByTagName(\"head\")[0].appendChild(s);\n",
       "          s.async = true;\n",
       "          s.onload = () => {\n",
       "            VEGA_DEBUG[key] = version;\n",
       "            return resolve(paths[lib]);\n",
       "          };\n",
       "          s.onerror = () => reject(`Error loading script: ${paths[lib]}`);\n",
       "          s.src = paths[lib];\n",
       "        });\n",
       "    }\n",
       "\n",
       "    function showError(err) {\n",
       "      outputDiv.innerHTML = `<div class=\"error\" style=\"color:red;\">${err}</div>`;\n",
       "      throw err;\n",
       "    }\n",
       "\n",
       "    function displayChart(vegaEmbed) {\n",
       "      vegaEmbed(outputDiv, spec, embedOpt)\n",
       "        .catch(err => showError(`Javascript Error: ${err.message}<br>This usually means there's a typo in your chart specification. See the javascript console for the full traceback.`));\n",
       "    }\n",
       "\n",
       "    if(typeof define === \"function\" && define.amd) {\n",
       "      requirejs.config({paths});\n",
       "      require([\"vega-embed\"], displayChart, err => showError(`Error loading script: ${err.message}`));\n",
       "    } else {\n",
       "      maybeLoadScript(\"vega\", \"5\")\n",
       "        .then(() => maybeLoadScript(\"vega-lite\", \"5.8.0\"))\n",
       "        .then(() => maybeLoadScript(\"vega-embed\", \"6\"))\n",
       "        .catch(showError)\n",
       "        .then(() => displayChart(vegaEmbed));\n",
       "    }\n",
       "  })({\"config\": {\"view\": {\"continuousWidth\": 300, \"continuousHeight\": 300}, \"legend\": {\"columns\": 4, \"orient\": \"top\"}}, \"hconcat\": [{\"data\": {\"name\": \"data-d3684db094428ae1642b85d179498e56\"}, \"mark\": {\"type\": \"bar\"}, \"encoding\": {\"color\": {\"field\": \"measurement\", \"type\": \"nominal\"}, \"x\": {\"field\": \"time\", \"timeUnit\": \"date\", \"title\": \"Day of February\", \"type\": \"ordinal\"}, \"xOffset\": {\"field\": \"measurement\", \"type\": \"nominal\"}, \"y\": {\"field\": \"value\", \"title\": \"Sublimation (SWE, mm)\", \"type\": \"quantitative\"}}, \"height\": 150, \"width\": 300}, {\"layer\": [{\"data\": {\"name\": \"data-6356bb96f98298cd84e0f3ca25df8673\"}, \"mark\": {\"type\": \"line\", \"color\": \"grey\"}, \"encoding\": {\"x\": {\"field\": \"x\", \"type\": \"quantitative\"}, \"y\": {\"field\": \"y\", \"type\": \"quantitative\"}}}, {\"data\": {\"name\": \"data-ff683f6e630fb8378226fa81a35759ea\"}, \"mark\": {\"type\": \"point\", \"size\": 50}, \"encoding\": {\"shape\": {\"field\": \"day\", \"title\": \"Day of February\", \"type\": \"nominal\"}, \"x\": {\"field\": \"delta_box_1\", \"scale\": {\"domain\": [-60, 5]}, \"title\": \"Box 1 (g/m^2)\", \"type\": \"quantitative\"}, \"y\": {\"field\": \"delta_box_2\", \"scale\": {\"domain\": [-60, 5]}, \"title\": \"Box 2 (g/m^2)\", \"type\": \"quantitative\"}}}], \"height\": 150, \"width\": 150}], \"resolve\": {\"scale\": {\"color\": \"independent\", \"shape\": \"independent\"}}, \"$schema\": \"https://vega.github.io/schema/vega-lite/v5.8.0.json\", \"datasets\": {\"data-d3684db094428ae1642b85d179498e56\": [{\"time\": \"2023-02-01T00:00:00\", \"measurement\": \"manual lysimeter\", \"value\": 0.010030090270812437}, {\"time\": \"2023-02-03T00:00:00\", \"measurement\": \"manual lysimeter\", \"value\": 0.011534603811434303}, {\"time\": \"2023-02-04T00:00:00\", \"measurement\": \"manual lysimeter\", \"value\": 0.04864593781344032}, {\"time\": \"2023-02-07T00:00:00\", \"measurement\": \"manual lysimeter\", \"value\": 0.044633901705115345}, {\"time\": \"2023-02-10T00:00:00\", \"measurement\": \"manual lysimeter\", \"value\": 0.01905717151454363}, {\"time\": \"2023-02-11T00:00:00\", \"measurement\": \"manual lysimeter\", \"value\": 0.037111334002006016}, {\"time\": \"2023-02-12T00:00:00\", \"measurement\": \"manual lysimeter\", \"value\": 0.03911735205616851}, {\"time\": \"2023-02-17T00:00:00\", \"measurement\": \"manual lysimeter\", \"value\": 0.014543630892678034}, {\"time\": \"2023-02-01T00:00:00\", \"measurement\": \"w_h2o_\", \"value\": -0.001565498375007836}, {\"time\": \"2023-02-02T00:00:00\", \"measurement\": \"w_h2o_\", \"value\": -0.0008121427882279652}, {\"time\": \"2023-02-03T00:00:00\", \"measurement\": \"w_h2o_\", \"value\": -0.023563504968029086}, {\"time\": \"2023-02-04T00:00:00\", \"measurement\": \"w_h2o_\", \"value\": -0.007597676329770562}, {\"time\": \"2023-02-05T00:00:00\", \"measurement\": \"w_h2o_\", \"value\": -0.007751454558989468}, {\"time\": \"2023-02-06T00:00:00\", \"measurement\": \"w_h2o_\", \"value\": 0.1510320022567703}, {\"time\": \"2023-02-07T00:00:00\", \"measurement\": \"w_h2o_\", \"value\": -0.0013465845534650829}, {\"time\": \"2023-02-08T00:00:00\", \"measurement\": \"w_h2o_\", \"value\": -0.005044932649511033}, {\"time\": \"2023-02-09T00:00:00\", \"measurement\": \"w_h2o_\", \"value\": 0.08871745705867602}, {\"time\": \"2023-02-10T00:00:00\", \"measurement\": \"w_h2o_\", \"value\": -0.0026729115569364345}, {\"time\": \"2023-02-11T00:00:00\", \"measurement\": \"w_h2o_\", \"value\": -0.0049082016557484955}, {\"time\": \"2023-02-12T00:00:00\", \"measurement\": \"w_h2o_\", \"value\": 0.002577232674586259}, {\"time\": \"2023-02-13T00:00:00\", \"measurement\": \"w_h2o_\", \"value\": -0.01788052830366098}, {\"time\": \"2023-02-14T00:00:00\", \"measurement\": \"w_h2o_\", \"value\": 0.10487915308425276}, {\"time\": \"2023-02-15T00:00:00\", \"measurement\": \"w_h2o_\", \"value\": 0.0846819050902708}, {\"time\": \"2023-02-16T00:00:00\", \"measurement\": \"w_h2o_\", \"value\": -0.005349838578234704}, {\"time\": \"2023-02-17T00:00:00\", \"measurement\": \"w_h2o_\", \"value\": -0.007896741983763791}, {\"time\": \"2023-02-18T00:00:00\", \"measurement\": \"w_h2o_\", \"value\": -0.013008374733575728}], \"data-6356bb96f98298cd84e0f3ca25df8673\": [{\"x\": -60.0, \"y\": -60.0}, {\"x\": -52.77777777777778, \"y\": -52.77777777777778}, {\"x\": -45.55555555555556, \"y\": -45.55555555555556}, {\"x\": -38.33333333333333, \"y\": -38.33333333333333}, {\"x\": -31.11111111111111, \"y\": -31.11111111111111}, {\"x\": -23.888888888888886, \"y\": -23.888888888888886}, {\"x\": -16.666666666666664, \"y\": -16.666666666666664}, {\"x\": -9.444444444444443, \"y\": -9.444444444444443}, {\"x\": -2.2222222222222214, \"y\": -2.2222222222222214}, {\"x\": 5.0, \"y\": 5.0}], \"data-ff683f6e630fb8378226fa81a35759ea\": [{\"date_time\": \"2/1/2023 16:30:00\", \"delta_box_1\": -1.0, \"delta_box_2\": -19.0, \"time\": \"2023-02-01T00:00:00\", \"delta_box_mean\": -10.0, \"value\": 0.010030090270812437, \"measurement\": \"manual lysimeter\", \"day\": 1}, {\"date_time\": \"2/3/2023 16:26:00\", \"delta_box_1\": 0.0, \"delta_box_2\": -23.0, \"time\": \"2023-02-03T00:00:00\", \"delta_box_mean\": -11.5, \"value\": 0.011534603811434303, \"measurement\": \"manual lysimeter\", \"day\": 3}, {\"date_time\": \"2/4/2023 16:30:00\", \"delta_box_1\": -48.0, \"delta_box_2\": -49.0, \"time\": \"2023-02-04T00:00:00\", \"delta_box_mean\": -48.5, \"value\": 0.04864593781344032, \"measurement\": \"manual lysimeter\", \"day\": 4}, {\"date_time\": \"2/7/2023 17:28:00\", \"delta_box_1\": -35.0, \"delta_box_2\": -54.0, \"time\": \"2023-02-07T00:00:00\", \"delta_box_mean\": -44.5, \"value\": 0.044633901705115345, \"measurement\": \"manual lysimeter\", \"day\": 7}, {\"date_time\": \"2/10/2023 17:30:00\", \"delta_box_1\": -26.0, \"delta_box_2\": -12.0, \"time\": \"2023-02-10T00:00:00\", \"delta_box_mean\": -19.0, \"value\": 0.01905717151454363, \"measurement\": \"manual lysimeter\", \"day\": 10}, {\"date_time\": \"2/11/2023 17:30:00\", \"delta_box_1\": -41.0, \"delta_box_2\": -33.0, \"time\": \"2023-02-11T00:00:00\", \"delta_box_mean\": -37.0, \"value\": 0.037111334002006016, \"measurement\": \"manual lysimeter\", \"day\": 11}, {\"date_time\": \"2/12/2023 17:10:00\", \"delta_box_1\": -40.0, \"delta_box_2\": -38.0, \"time\": \"2023-02-12T00:00:00\", \"delta_box_mean\": -39.0, \"value\": 0.03911735205616851, \"measurement\": \"manual lysimeter\", \"day\": 12}, {\"date_time\": \"2/17/2023 17:05:00\", \"delta_box_1\": -17.0, \"delta_box_2\": -12.0, \"time\": \"2023-02-17T00:00:00\", \"delta_box_mean\": -14.5, \"value\": 0.014543630892678034, \"measurement\": \"manual lysimeter\", \"day\": 17}]}}, {\"mode\": \"vega-lite\"});\n",
       "</script>"
      ],
      "text/plain": [
       "alt.HConcatChart(...)"
      ]
     },
     "execution_count": 10,
     "metadata": {},
     "output_type": "execute_result"
    }
   ],
   "source": [
    "src = pd.concat([\n",
    "    stossel_df[['time', 'measurement', 'value']],\n",
    "    daily_sublimation_df[['time', 'measurement', 'value']]\n",
    "])\n",
    "\n",
    "time_series_bar_chart = alt.Chart(src).mark_bar().encode(\n",
    "        alt.X(\"date(time):O\").title(\"Day of February\"),\n",
    "        alt.Y(\"value:Q\").title(\"Sublimation (SWE, mm)\"),\n",
    "        alt.XOffset(\"measurement:N\"),\n",
    "        alt.Color(\"measurement:N\")\n",
    "    ).properties(width=600)\n",
    "\n",
    "scatter_chart = alt.Chart(stossel_df.assign(day = stossel_df.time.dt.day)).mark_point(size=50).encode(\n",
    "    alt.X(\"delta_box_1:Q\").scale(domain=[-60, 5]).title(\"Box 1 (g/m^2)\"),\n",
    "    alt.Y(\"delta_box_2:Q\").scale(domain=[-60, 5]).title(\"Box 2 (g/m^2)\"),\n",
    "    alt.Shape(\"day:N\").title(\"Day of February\")\n",
    ")\n",
    "\n",
    "onetoone_line_chart =  alt.Chart(pd.DataFrame({\n",
    "    'x':np.linspace(-60,5, 10), \n",
    "    'y':np.linspace(-60,5, 10)\n",
    "})).mark_line(color='grey').encode(\n",
    "    x = 'x',\n",
    "    y = 'y'\n",
    ")\n",
    "\n",
    "(\n",
    "    time_series_bar_chart.properties(height = 150,width=300) | (onetoone_line_chart + scatter_chart).properties(height = 150, width=150)\n",
    ").resolve_scale(color='independent', shape='independent').configure_legend(orient='top', columns=4)"
   ]
  },
  {
   "cell_type": "code",
   "execution_count": null,
   "metadata": {},
   "outputs": [],
   "source": []
  },
  {
   "cell_type": "code",
   "execution_count": null,
   "metadata": {},
   "outputs": [],
   "source": []
  }
 ],
 "metadata": {
  "kernelspec": {
   "display_name": "arm",
   "language": "python",
   "name": "python3"
  },
  "language_info": {
   "codemirror_mode": {
    "name": "ipython",
    "version": 3
   },
   "file_extension": ".py",
   "mimetype": "text/x-python",
   "name": "python",
   "nbconvert_exporter": "python",
   "pygments_lexer": "ipython3",
   "version": "3.11.0"
  },
  "orig_nbformat": 4
 },
 "nbformat": 4,
 "nbformat_minor": 2
}
