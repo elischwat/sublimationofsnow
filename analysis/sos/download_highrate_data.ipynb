{
 "cells": [
  {
   "cell_type": "code",
   "execution_count": 1,
   "metadata": {},
   "outputs": [],
   "source": [
    "import sys\n",
    "sys.path.append('/home/elilouis/sublimationofsnow/')\n",
    "import sosutils\n",
    "\n",
    "import numpy as np\n",
    "import xarray as xr\n"
   ]
  },
  {
   "cell_type": "code",
   "execution_count": 2,
   "metadata": {},
   "outputs": [
    {
     "name": "stdout",
     "output_type": "stream",
     "text": [
      "Downloading 20221215\n",
      "Caching...skipping download for 20221215, 00\n",
      "Caching...skipping download for 20221215, 01\n",
      "Caching...skipping download for 20221215, 02\n",
      "Caching...skipping download for 20221215, 03\n",
      "Caching...skipping download for 20221215, 04\n",
      "Caching...skipping download for 20221215, 05\n",
      "Caching...skipping download for 20221215, 06\n",
      "Caching...skipping download for 20221215, 07\n",
      "Caching...skipping download for 20221215, 08\n",
      "Caching...skipping download for 20221215, 09\n",
      "Caching...skipping download for 20221215, 10\n",
      "Caching...skipping download for 20221215, 11\n",
      "Caching...skipping download for 20221215, 12\n",
      "Caching...skipping download for 20221215, 13\n",
      "Caching...skipping download for 20221215, 14\n",
      "Caching...skipping download for 20221215, 15\n",
      "Caching...skipping download for 20221215, 16\n",
      "Caching...skipping download for 20221215, 17\n",
      "Caching...skipping download for 20221215, 18\n",
      "Caching...skipping download for 20221215, 19\n",
      "Caching...skipping download for 20221215, 20\n",
      "Caching...skipping download for 20221215, 21\n",
      "Caching...skipping download for 20221215, 22\n",
      "Caching...skipping download for 20221215, 23\n",
      "Downloading 20221216\n",
      "Caching...skipping download for 20221216, 00\n",
      "Caching...skipping download for 20221216, 01\n",
      "Caching...skipping download for 20221216, 02\n",
      "Caching...skipping download for 20221216, 03\n",
      "Caching...skipping download for 20221216, 04\n",
      "Caching...skipping download for 20221216, 05\n",
      "Caching...skipping download for 20221216, 06\n",
      "Caching...skipping download for 20221216, 07\n",
      "Caching...skipping download for 20221216, 08\n",
      "Caching...skipping download for 20221216, 09\n",
      "Caching...skipping download for 20221216, 10\n",
      "Caching...skipping download for 20221216, 11\n",
      "Caching...skipping download for 20221216, 12\n",
      "Caching...skipping download for 20221216, 13\n",
      "Caching...skipping download for 20221216, 14\n",
      "Caching...skipping download for 20221216, 15\n",
      "Caching...skipping download for 20221216, 16\n",
      "Caching...skipping download for 20221216, 17\n",
      "Caching...skipping download for 20221216, 18\n",
      "Caching...skipping download for 20221216, 19\n",
      "Caching...skipping download for 20221216, 20\n",
      "Caching...skipping download for 20221216, 21\n",
      "Caching...skipping download for 20221216, 22\n",
      "Caching...skipping download for 20221216, 23\n",
      "Downloading 20221217\n",
      "Caching...skipping download for 20221217, 00\n",
      "Caching...skipping download for 20221217, 01\n",
      "Caching...skipping download for 20221217, 02\n",
      "Caching...skipping download for 20221217, 03\n",
      "Caching...skipping download for 20221217, 04\n",
      "Caching...skipping download for 20221217, 05\n",
      "Caching...skipping download for 20221217, 06\n",
      "Caching...skipping download for 20221217, 07\n",
      "Caching...skipping download for 20221217, 08\n",
      "Caching...skipping download for 20221217, 09\n",
      "Caching...skipping download for 20221217, 10\n",
      "Caching...skipping download for 20221217, 11\n",
      "Caching...skipping download for 20221217, 12\n",
      "Caching...skipping download for 20221217, 13\n",
      "Caching...skipping download for 20221217, 14\n",
      "Caching...skipping download for 20221217, 15\n",
      "Caching...skipping download for 20221217, 16\n",
      "Caching...skipping download for 20221217, 17\n",
      "Caching...skipping download for 20221217, 18\n",
      "Caching...skipping download for 20221217, 19\n",
      "Caching...skipping download for 20221217, 20\n",
      "Caching...skipping download for 20221217, 21\n",
      "Caching...skipping download for 20221217, 22\n",
      "Caching...skipping download for 20221217, 23\n",
      "Downloading 20221218\n",
      "Caching...skipping download for 20221218, 00\n",
      "Caching...skipping download for 20221218, 01\n",
      "Caching...skipping download for 20221218, 02\n",
      "Caching...skipping download for 20221218, 03\n",
      "Caching...skipping download for 20221218, 04\n",
      "Caching...skipping download for 20221218, 05\n",
      "Caching...skipping download for 20221218, 06\n",
      "Caching...skipping download for 20221218, 07\n",
      "Caching...skipping download for 20221218, 08\n",
      "Caching...skipping download for 20221218, 09\n",
      "Caching...skipping download for 20221218, 10\n",
      "Caching...skipping download for 20221218, 11\n",
      "Caching...skipping download for 20221218, 12\n",
      "Caching...skipping download for 20221218, 13\n",
      "Caching...skipping download for 20221218, 14\n",
      "Caching...skipping download for 20221218, 15\n",
      "Caching...skipping download for 20221218, 16\n",
      "Caching...skipping download for 20221218, 17\n",
      "Caching...skipping download for 20221218, 18\n",
      "Caching...skipping download for 20221218, 19\n",
      "Caching...skipping download for 20221218, 20\n",
      "Caching...skipping download for 20221218, 21\n",
      "Caching...skipping download for 20221218, 22\n",
      "Caching...skipping download for 20221218, 23\n"
     ]
    }
   ],
   "source": [
    "file_list = []\n",
    "for date in ['20221215', '20221216', '20221217', '20221218']:\n",
    "    print(f\"Downloading {date}\")\n",
    "    for hour in range(0,24):\n",
    "        file = sosutils.download_sos_highrate_data_hour(\n",
    "            date = date,\n",
    "            hour = \"{:02d}\".format(hour),\n",
    "            local_download_dir='/data2/elilouis/sublimationofsnow/hr_noqc_geo/',\n",
    "            cache=True\n",
    "        )\n",
    "        file_list.append(file)"
   ]
  },
  {
   "cell_type": "code",
   "execution_count": 3,
   "metadata": {},
   "outputs": [
    {
     "data": {
      "text/plain": [
       "(96,\n",
       " ['/data2/elilouis/sublimationofsnow/hr_noqc_geo/isfs_geo_hr_20221215_00.nc',\n",
       "  '/data2/elilouis/sublimationofsnow/hr_noqc_geo/isfs_geo_hr_20221215_01.nc',\n",
       "  '/data2/elilouis/sublimationofsnow/hr_noqc_geo/isfs_geo_hr_20221215_02.nc',\n",
       "  '/data2/elilouis/sublimationofsnow/hr_noqc_geo/isfs_geo_hr_20221215_03.nc',\n",
       "  '/data2/elilouis/sublimationofsnow/hr_noqc_geo/isfs_geo_hr_20221215_04.nc',\n",
       "  '/data2/elilouis/sublimationofsnow/hr_noqc_geo/isfs_geo_hr_20221215_05.nc',\n",
       "  '/data2/elilouis/sublimationofsnow/hr_noqc_geo/isfs_geo_hr_20221215_06.nc',\n",
       "  '/data2/elilouis/sublimationofsnow/hr_noqc_geo/isfs_geo_hr_20221215_07.nc',\n",
       "  '/data2/elilouis/sublimationofsnow/hr_noqc_geo/isfs_geo_hr_20221215_08.nc',\n",
       "  '/data2/elilouis/sublimationofsnow/hr_noqc_geo/isfs_geo_hr_20221215_09.nc',\n",
       "  '/data2/elilouis/sublimationofsnow/hr_noqc_geo/isfs_geo_hr_20221215_10.nc',\n",
       "  '/data2/elilouis/sublimationofsnow/hr_noqc_geo/isfs_geo_hr_20221215_11.nc',\n",
       "  '/data2/elilouis/sublimationofsnow/hr_noqc_geo/isfs_geo_hr_20221215_12.nc',\n",
       "  '/data2/elilouis/sublimationofsnow/hr_noqc_geo/isfs_geo_hr_20221215_13.nc',\n",
       "  '/data2/elilouis/sublimationofsnow/hr_noqc_geo/isfs_geo_hr_20221215_14.nc',\n",
       "  '/data2/elilouis/sublimationofsnow/hr_noqc_geo/isfs_geo_hr_20221215_15.nc',\n",
       "  '/data2/elilouis/sublimationofsnow/hr_noqc_geo/isfs_geo_hr_20221215_16.nc',\n",
       "  '/data2/elilouis/sublimationofsnow/hr_noqc_geo/isfs_geo_hr_20221215_17.nc',\n",
       "  '/data2/elilouis/sublimationofsnow/hr_noqc_geo/isfs_geo_hr_20221215_18.nc',\n",
       "  '/data2/elilouis/sublimationofsnow/hr_noqc_geo/isfs_geo_hr_20221215_19.nc',\n",
       "  '/data2/elilouis/sublimationofsnow/hr_noqc_geo/isfs_geo_hr_20221215_20.nc',\n",
       "  '/data2/elilouis/sublimationofsnow/hr_noqc_geo/isfs_geo_hr_20221215_21.nc',\n",
       "  '/data2/elilouis/sublimationofsnow/hr_noqc_geo/isfs_geo_hr_20221215_22.nc',\n",
       "  '/data2/elilouis/sublimationofsnow/hr_noqc_geo/isfs_geo_hr_20221215_23.nc',\n",
       "  '/data2/elilouis/sublimationofsnow/hr_noqc_geo/isfs_geo_hr_20221216_00.nc',\n",
       "  '/data2/elilouis/sublimationofsnow/hr_noqc_geo/isfs_geo_hr_20221216_01.nc',\n",
       "  '/data2/elilouis/sublimationofsnow/hr_noqc_geo/isfs_geo_hr_20221216_02.nc',\n",
       "  '/data2/elilouis/sublimationofsnow/hr_noqc_geo/isfs_geo_hr_20221216_03.nc',\n",
       "  '/data2/elilouis/sublimationofsnow/hr_noqc_geo/isfs_geo_hr_20221216_04.nc',\n",
       "  '/data2/elilouis/sublimationofsnow/hr_noqc_geo/isfs_geo_hr_20221216_05.nc',\n",
       "  '/data2/elilouis/sublimationofsnow/hr_noqc_geo/isfs_geo_hr_20221216_06.nc',\n",
       "  '/data2/elilouis/sublimationofsnow/hr_noqc_geo/isfs_geo_hr_20221216_07.nc',\n",
       "  '/data2/elilouis/sublimationofsnow/hr_noqc_geo/isfs_geo_hr_20221216_08.nc',\n",
       "  '/data2/elilouis/sublimationofsnow/hr_noqc_geo/isfs_geo_hr_20221216_09.nc',\n",
       "  '/data2/elilouis/sublimationofsnow/hr_noqc_geo/isfs_geo_hr_20221216_10.nc',\n",
       "  '/data2/elilouis/sublimationofsnow/hr_noqc_geo/isfs_geo_hr_20221216_11.nc',\n",
       "  '/data2/elilouis/sublimationofsnow/hr_noqc_geo/isfs_geo_hr_20221216_12.nc',\n",
       "  '/data2/elilouis/sublimationofsnow/hr_noqc_geo/isfs_geo_hr_20221216_13.nc',\n",
       "  '/data2/elilouis/sublimationofsnow/hr_noqc_geo/isfs_geo_hr_20221216_14.nc',\n",
       "  '/data2/elilouis/sublimationofsnow/hr_noqc_geo/isfs_geo_hr_20221216_15.nc',\n",
       "  '/data2/elilouis/sublimationofsnow/hr_noqc_geo/isfs_geo_hr_20221216_16.nc',\n",
       "  '/data2/elilouis/sublimationofsnow/hr_noqc_geo/isfs_geo_hr_20221216_17.nc',\n",
       "  '/data2/elilouis/sublimationofsnow/hr_noqc_geo/isfs_geo_hr_20221216_18.nc',\n",
       "  '/data2/elilouis/sublimationofsnow/hr_noqc_geo/isfs_geo_hr_20221216_19.nc',\n",
       "  '/data2/elilouis/sublimationofsnow/hr_noqc_geo/isfs_geo_hr_20221216_20.nc',\n",
       "  '/data2/elilouis/sublimationofsnow/hr_noqc_geo/isfs_geo_hr_20221216_21.nc',\n",
       "  '/data2/elilouis/sublimationofsnow/hr_noqc_geo/isfs_geo_hr_20221216_22.nc',\n",
       "  '/data2/elilouis/sublimationofsnow/hr_noqc_geo/isfs_geo_hr_20221216_23.nc',\n",
       "  '/data2/elilouis/sublimationofsnow/hr_noqc_geo/isfs_geo_hr_20221217_00.nc',\n",
       "  '/data2/elilouis/sublimationofsnow/hr_noqc_geo/isfs_geo_hr_20221217_01.nc',\n",
       "  '/data2/elilouis/sublimationofsnow/hr_noqc_geo/isfs_geo_hr_20221217_02.nc',\n",
       "  '/data2/elilouis/sublimationofsnow/hr_noqc_geo/isfs_geo_hr_20221217_03.nc',\n",
       "  '/data2/elilouis/sublimationofsnow/hr_noqc_geo/isfs_geo_hr_20221217_04.nc',\n",
       "  '/data2/elilouis/sublimationofsnow/hr_noqc_geo/isfs_geo_hr_20221217_05.nc',\n",
       "  '/data2/elilouis/sublimationofsnow/hr_noqc_geo/isfs_geo_hr_20221217_06.nc',\n",
       "  '/data2/elilouis/sublimationofsnow/hr_noqc_geo/isfs_geo_hr_20221217_07.nc',\n",
       "  '/data2/elilouis/sublimationofsnow/hr_noqc_geo/isfs_geo_hr_20221217_08.nc',\n",
       "  '/data2/elilouis/sublimationofsnow/hr_noqc_geo/isfs_geo_hr_20221217_09.nc',\n",
       "  '/data2/elilouis/sublimationofsnow/hr_noqc_geo/isfs_geo_hr_20221217_10.nc',\n",
       "  '/data2/elilouis/sublimationofsnow/hr_noqc_geo/isfs_geo_hr_20221217_11.nc',\n",
       "  '/data2/elilouis/sublimationofsnow/hr_noqc_geo/isfs_geo_hr_20221217_12.nc',\n",
       "  '/data2/elilouis/sublimationofsnow/hr_noqc_geo/isfs_geo_hr_20221217_13.nc',\n",
       "  '/data2/elilouis/sublimationofsnow/hr_noqc_geo/isfs_geo_hr_20221217_14.nc',\n",
       "  '/data2/elilouis/sublimationofsnow/hr_noqc_geo/isfs_geo_hr_20221217_15.nc',\n",
       "  '/data2/elilouis/sublimationofsnow/hr_noqc_geo/isfs_geo_hr_20221217_16.nc',\n",
       "  '/data2/elilouis/sublimationofsnow/hr_noqc_geo/isfs_geo_hr_20221217_17.nc',\n",
       "  '/data2/elilouis/sublimationofsnow/hr_noqc_geo/isfs_geo_hr_20221217_18.nc',\n",
       "  '/data2/elilouis/sublimationofsnow/hr_noqc_geo/isfs_geo_hr_20221217_19.nc',\n",
       "  '/data2/elilouis/sublimationofsnow/hr_noqc_geo/isfs_geo_hr_20221217_20.nc',\n",
       "  '/data2/elilouis/sublimationofsnow/hr_noqc_geo/isfs_geo_hr_20221217_21.nc',\n",
       "  '/data2/elilouis/sublimationofsnow/hr_noqc_geo/isfs_geo_hr_20221217_22.nc',\n",
       "  '/data2/elilouis/sublimationofsnow/hr_noqc_geo/isfs_geo_hr_20221217_23.nc',\n",
       "  '/data2/elilouis/sublimationofsnow/hr_noqc_geo/isfs_geo_hr_20221218_00.nc',\n",
       "  '/data2/elilouis/sublimationofsnow/hr_noqc_geo/isfs_geo_hr_20221218_01.nc',\n",
       "  '/data2/elilouis/sublimationofsnow/hr_noqc_geo/isfs_geo_hr_20221218_02.nc',\n",
       "  '/data2/elilouis/sublimationofsnow/hr_noqc_geo/isfs_geo_hr_20221218_03.nc',\n",
       "  '/data2/elilouis/sublimationofsnow/hr_noqc_geo/isfs_geo_hr_20221218_04.nc',\n",
       "  '/data2/elilouis/sublimationofsnow/hr_noqc_geo/isfs_geo_hr_20221218_05.nc',\n",
       "  '/data2/elilouis/sublimationofsnow/hr_noqc_geo/isfs_geo_hr_20221218_06.nc',\n",
       "  '/data2/elilouis/sublimationofsnow/hr_noqc_geo/isfs_geo_hr_20221218_07.nc',\n",
       "  '/data2/elilouis/sublimationofsnow/hr_noqc_geo/isfs_geo_hr_20221218_08.nc',\n",
       "  '/data2/elilouis/sublimationofsnow/hr_noqc_geo/isfs_geo_hr_20221218_09.nc',\n",
       "  '/data2/elilouis/sublimationofsnow/hr_noqc_geo/isfs_geo_hr_20221218_10.nc',\n",
       "  '/data2/elilouis/sublimationofsnow/hr_noqc_geo/isfs_geo_hr_20221218_11.nc',\n",
       "  '/data2/elilouis/sublimationofsnow/hr_noqc_geo/isfs_geo_hr_20221218_12.nc',\n",
       "  '/data2/elilouis/sublimationofsnow/hr_noqc_geo/isfs_geo_hr_20221218_13.nc',\n",
       "  '/data2/elilouis/sublimationofsnow/hr_noqc_geo/isfs_geo_hr_20221218_14.nc',\n",
       "  '/data2/elilouis/sublimationofsnow/hr_noqc_geo/isfs_geo_hr_20221218_15.nc',\n",
       "  '/data2/elilouis/sublimationofsnow/hr_noqc_geo/isfs_geo_hr_20221218_16.nc',\n",
       "  '/data2/elilouis/sublimationofsnow/hr_noqc_geo/isfs_geo_hr_20221218_17.nc',\n",
       "  '/data2/elilouis/sublimationofsnow/hr_noqc_geo/isfs_geo_hr_20221218_18.nc',\n",
       "  '/data2/elilouis/sublimationofsnow/hr_noqc_geo/isfs_geo_hr_20221218_19.nc',\n",
       "  '/data2/elilouis/sublimationofsnow/hr_noqc_geo/isfs_geo_hr_20221218_20.nc',\n",
       "  '/data2/elilouis/sublimationofsnow/hr_noqc_geo/isfs_geo_hr_20221218_21.nc',\n",
       "  '/data2/elilouis/sublimationofsnow/hr_noqc_geo/isfs_geo_hr_20221218_22.nc',\n",
       "  '/data2/elilouis/sublimationofsnow/hr_noqc_geo/isfs_geo_hr_20221218_23.nc'])"
      ]
     },
     "execution_count": 3,
     "metadata": {},
     "output_type": "execute_result"
    }
   ],
   "source": [
    "len(file_list), file_list"
   ]
  },
  {
   "cell_type": "code",
   "execution_count": 8,
   "metadata": {},
   "outputs": [],
   "source": [
    "ds = xr.open_mfdataset(file_list)"
   ]
  },
  {
   "cell_type": "code",
   "execution_count": 9,
   "metadata": {},
   "outputs": [
    {
     "data": {
      "text/plain": [
       "(<xarray.DataArray 'time' ()>\n",
       " array('2022-12-18T00:59:59.500000000', dtype='datetime64[ns]'),\n",
       " <xarray.DataArray 'time' ()>\n",
       " array('2022-12-15T00:00:00.500000000', dtype='datetime64[ns]'))"
      ]
     },
     "execution_count": 9,
     "metadata": {},
     "output_type": "execute_result"
    }
   ],
   "source": [
    "ds.time.max(), ds.time.min()"
   ]
  },
  {
   "cell_type": "code",
   "execution_count": 10,
   "metadata": {},
   "outputs": [],
   "source": [
    "(a,b,c), (tilt, tiltaz), W_f = sosutils.calculate_planar_fit(\n",
    "    ds['u_1m_c'].values.flatten(),\n",
    "    ds['v_1m_c'].values.flatten(),\n",
    "    ds['w_1m_c'].values.flatten()\n",
    ")"
   ]
  },
  {
   "cell_type": "code",
   "execution_count": 11,
   "metadata": {},
   "outputs": [
    {
     "data": {
      "text/plain": [
       "((-0.16449936, -0.0042593647, -0.00954419),\n",
       " (0.5988047583559358, 65.94983),\n",
       " array([0.00425913, 0.00954367, 0.99994539]))"
      ]
     },
     "execution_count": 11,
     "metadata": {},
     "output_type": "execute_result"
    }
   ],
   "source": [
    "(a,b,c), (np.rad2deg(tilt), np.rad2deg(tiltaz)), W_f"
   ]
  },
  {
   "cell_type": "code",
   "execution_count": 13,
   "metadata": {},
   "outputs": [],
   "source": [
    "u, v, w = sosutils.apply_planar_fit(\n",
    "    ds['u_1m_c'].values.flatten(),\n",
    "    ds['v_1m_c'].values.flatten(),\n",
    "    ds['w_1m_c'].values.flatten(),\n",
    "    a,\n",
    "    W_f\n",
    ")"
   ]
  },
  {
   "cell_type": "code",
   "execution_count": 17,
   "metadata": {},
   "outputs": [
    {
     "data": {
      "text/plain": [
       "(array([2.150078  , 2.0361125 , 2.1026888 , ..., 0.6656874 , 0.6662806 ,\n",
       "        0.66701555], dtype=float32),)"
      ]
     },
     "execution_count": 17,
     "metadata": {},
     "output_type": "execute_result"
    }
   ],
   "source": [
    "ds['u_1m_c'].values.flatten(),"
   ]
  },
  {
   "cell_type": "code",
   "execution_count": 14,
   "metadata": {},
   "outputs": [
    {
     "data": {
      "text/plain": [
       "(array([2.15022774, 2.03552588, 2.10176776, ..., 0.66485326, 0.66567801,\n",
       "        0.66610913]),\n",
       " array([-2.28029025, -2.43697136, -2.51520623, ..., -0.53630584,\n",
       "        -0.63388841, -0.57242794]),\n",
       " array([-0.0305646 ,  0.14207847,  0.22072516, ...,  0.19725989,\n",
       "         0.14290485,  0.21423814]))"
      ]
     },
     "execution_count": 14,
     "metadata": {},
     "output_type": "execute_result"
    }
   ],
   "source": [
    "u,v,w"
   ]
  },
  {
   "cell_type": "code",
   "execution_count": null,
   "metadata": {},
   "outputs": [],
   "source": []
  }
 ],
 "metadata": {
  "kernelspec": {
   "display_name": "arm",
   "language": "python",
   "name": "python3"
  },
  "language_info": {
   "codemirror_mode": {
    "name": "ipython",
    "version": 3
   },
   "file_extension": ".py",
   "mimetype": "text/x-python",
   "name": "python",
   "nbconvert_exporter": "python",
   "pygments_lexer": "ipython3",
   "version": "3.11.0"
  },
  "orig_nbformat": 4,
  "vscode": {
   "interpreter": {
    "hash": "e2b11a00ad1b97cabcd9cc9209b8824a0fcaf6ffe37b5243943912873b5dcab1"
   }
  }
 },
 "nbformat": 4,
 "nbformat_minor": 2
}
