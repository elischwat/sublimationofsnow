{
 "cells": [
  {
   "cell_type": "code",
   "execution_count": 2,
   "metadata": {},
   "outputs": [
    {
     "data": {
      "text/plain": [
       "DataTransformerRegistry.enable('json')"
      ]
     },
     "execution_count": 2,
     "metadata": {},
     "output_type": "execute_result"
    }
   ],
   "source": [
    "import numpy as np\n",
    "import pandas as pd\n",
    "import datetime as dt\n",
    "import xarray as xr\n",
    "from urllib.error import URLError\n",
    "\n",
    "import sys\n",
    "sys.path.append(\"/home/elilouis/sublimationofsnow/\")\n",
    "import sosutils\n",
    "\n",
    "import altair as alt\n",
    "alt.data_transformers.disable_max_rows()\n",
    "alt.data_transformers.enable('json')"
   ]
  },
  {
   "cell_type": "code",
   "execution_count": 3,
   "metadata": {},
   "outputs": [],
   "source": [
    "sos_download_dir='/data2/elilouis/sublimationofsnow/sosnoqc'\n",
    "DATE_FORMAT_STR = '%Y%m%d'\n",
    "start_date = '20230215'; \n",
    "end_date = '20230215'; \n",
    "\n",
    "datelist = pd.date_range(\n",
    "    dt.datetime.strptime(start_date, DATE_FORMAT_STR),\n",
    "    dt.datetime.strptime(end_date, DATE_FORMAT_STR),\n",
    "    freq='d'\n",
    ").strftime(DATE_FORMAT_STR).tolist()\n",
    "\n",
    "VARIABLE_NAMES = [\n",
    "    # Snow-level temperature arrays (tower D)\n",
    "    'Tsnow_0_4m_d', 'Tsnow_0_5m_d', 'Tsnow_0_6m_d', 'Tsnow_0_7m_d', 'Tsnow_0_8m_d', 'Tsnow_0_9m_d', 'Tsnow_1_0m_d', 'Tsnow_1_1m_d', 'Tsnow_1_2m_d', 'Tsnow_1_3m_d', 'Tsnow_1_4m_d', 'Tsnow_1_5m_d',\n",
    "\n",
    "    'Tsnow_0_4m_uw', 'Tsnow_0_5m_uw', 'Tsnow_0_6m_uw', 'Tsnow_0_7m_uw', 'Tsnow_0_8m_uw', 'Tsnow_0_9m_uw', 'Tsnow_1_0m_uw', 'Tsnow_1_1m_uw', 'Tsnow_1_2m_uw', 'Tsnow_1_3m_uw', 'Tsnow_1_4m_uw', 'Tsnow_1_5m_uw',\n",
    "]"
   ]
  },
  {
   "cell_type": "code",
   "execution_count": 4,
   "metadata": {},
   "outputs": [
    {
     "name": "stdout",
     "output_type": "stream",
     "text": [
      "Caching...skipping download for 20230215\n"
     ]
    }
   ],
   "source": [
    "# We make sure that we aren't accessing variables that don't exist in the datasets\n",
    "# This is necessary because some daily NetCDF files don't have all the expected variables\n",
    "# (for example because an instrument was down). In that case, we want to add that variable\n",
    "# to the dataset, filled with nans, which sosutils.merge_datasets_with_different_variables\n",
    "# handles for us\n",
    "datasets = []\n",
    "datasets_safe = []\n",
    "for date in datelist:\n",
    "    try:\n",
    "        ds = xr.open_dataset(sosutils.download_sos_data_day(date, sos_download_dir, cache=True))\n",
    "    # Some dates are missing\n",
    "    except URLError:\n",
    "        print(f\"failed on {date}, skipping\")\n",
    "    ds_new = ds[set(ds.data_vars).intersection(VARIABLE_NAMES)]\n",
    "    datasets.append(ds_new)\n",
    "    datasets_safe.append(ds_new)\n",
    "sos_ds = sosutils.merge_datasets_with_different_variables(datasets, dim='time')"
   ]
  },
  {
   "cell_type": "code",
   "execution_count": 5,
   "metadata": {},
   "outputs": [],
   "source": [
    "df = sosutils.get_tidy_dataset(\n",
    "    sos_ds,\n",
    "    [\n",
    "        'Tsnow_0_4m_d',\n",
    "        'Tsnow_0_5m_d',\n",
    "        'Tsnow_0_6m_d',\n",
    "        'Tsnow_0_7m_d',\n",
    "        'Tsnow_0_8m_d',\n",
    "        'Tsnow_0_9m_d',\n",
    "        'Tsnow_1_0m_d',\n",
    "        'Tsnow_1_1m_d',\n",
    "        'Tsnow_1_2m_d',\n",
    "        'Tsnow_1_3m_d',\n",
    "        'Tsnow_1_4m_d',\n",
    "        'Tsnow_1_5m_d',\n",
    "\n",
    "        'Tsnow_0_4m_uw',\n",
    "        'Tsnow_0_5m_uw',\n",
    "        'Tsnow_0_6m_uw',\n",
    "        'Tsnow_0_7m_uw',\n",
    "        'Tsnow_0_8m_uw',\n",
    "        'Tsnow_0_9m_uw',\n",
    "        'Tsnow_1_0m_uw',\n",
    "        'Tsnow_1_1m_uw',\n",
    "        'Tsnow_1_2m_uw',\n",
    "        'Tsnow_1_3m_uw',\n",
    "        'Tsnow_1_4m_uw',\n",
    "        'Tsnow_1_5m_uw',\n",
    "    ]\n",
    ")"
   ]
  },
  {
   "cell_type": "code",
   "execution_count": 6,
   "metadata": {},
   "outputs": [
    {
     "data": {
      "text/html": [
       "\n",
       "<style>\n",
       "  #altair-viz-59f74305e39142fdbcceb32c2b03dfeb.vega-embed {\n",
       "    width: 100%;\n",
       "    display: flex;\n",
       "  }\n",
       "\n",
       "  #altair-viz-59f74305e39142fdbcceb32c2b03dfeb.vega-embed details,\n",
       "  #altair-viz-59f74305e39142fdbcceb32c2b03dfeb.vega-embed details summary {\n",
       "    position: relative;\n",
       "  }\n",
       "</style>\n",
       "<div id=\"altair-viz-59f74305e39142fdbcceb32c2b03dfeb\"></div>\n",
       "<script type=\"text/javascript\">\n",
       "  var VEGA_DEBUG = (typeof VEGA_DEBUG == \"undefined\") ? {} : VEGA_DEBUG;\n",
       "  (function(spec, embedOpt){\n",
       "    let outputDiv = document.currentScript.previousElementSibling;\n",
       "    if (outputDiv.id !== \"altair-viz-59f74305e39142fdbcceb32c2b03dfeb\") {\n",
       "      outputDiv = document.getElementById(\"altair-viz-59f74305e39142fdbcceb32c2b03dfeb\");\n",
       "    }\n",
       "    const paths = {\n",
       "      \"vega\": \"https://cdn.jsdelivr.net/npm/vega@5?noext\",\n",
       "      \"vega-lib\": \"https://cdn.jsdelivr.net/npm/vega-lib?noext\",\n",
       "      \"vega-lite\": \"https://cdn.jsdelivr.net/npm/vega-lite@5.8.0?noext\",\n",
       "      \"vega-embed\": \"https://cdn.jsdelivr.net/npm/vega-embed@6?noext\",\n",
       "    };\n",
       "\n",
       "    function maybeLoadScript(lib, version) {\n",
       "      var key = `${lib.replace(\"-\", \"\")}_version`;\n",
       "      return (VEGA_DEBUG[key] == version) ?\n",
       "        Promise.resolve(paths[lib]) :\n",
       "        new Promise(function(resolve, reject) {\n",
       "          var s = document.createElement('script');\n",
       "          document.getElementsByTagName(\"head\")[0].appendChild(s);\n",
       "          s.async = true;\n",
       "          s.onload = () => {\n",
       "            VEGA_DEBUG[key] = version;\n",
       "            return resolve(paths[lib]);\n",
       "          };\n",
       "          s.onerror = () => reject(`Error loading script: ${paths[lib]}`);\n",
       "          s.src = paths[lib];\n",
       "        });\n",
       "    }\n",
       "\n",
       "    function showError(err) {\n",
       "      outputDiv.innerHTML = `<div class=\"error\" style=\"color:red;\">${err}</div>`;\n",
       "      throw err;\n",
       "    }\n",
       "\n",
       "    function displayChart(vegaEmbed) {\n",
       "      vegaEmbed(outputDiv, spec, embedOpt)\n",
       "        .catch(err => showError(`Javascript Error: ${err.message}<br>This usually means there's a typo in your chart specification. See the javascript console for the full traceback.`));\n",
       "    }\n",
       "\n",
       "    if(typeof define === \"function\" && define.amd) {\n",
       "      requirejs.config({paths});\n",
       "      require([\"vega-embed\"], displayChart, err => showError(`Error loading script: ${err.message}`));\n",
       "    } else {\n",
       "      maybeLoadScript(\"vega\", \"5\")\n",
       "        .then(() => maybeLoadScript(\"vega-lite\", \"5.8.0\"))\n",
       "        .then(() => maybeLoadScript(\"vega-embed\", \"6\"))\n",
       "        .catch(showError)\n",
       "        .then(() => displayChart(vegaEmbed));\n",
       "    }\n",
       "  })({\"config\": {\"view\": {\"continuousWidth\": 300, \"continuousHeight\": 300}}, \"data\": {\"url\": \"altair-data-44943430b0b6d5e66fc462b219cb06d4.json\", \"format\": {\"type\": \"json\"}}, \"mark\": {\"type\": \"line\"}, \"encoding\": {\"color\": {\"field\": \"height\", \"scale\": {\"scheme\": \"rainbow\"}, \"type\": \"ordinal\"}, \"facet\": {\"columns\": 1, \"field\": \"tower\", \"type\": \"nominal\"}, \"tooltip\": {\"field\": \"height\", \"type\": \"quantitative\"}, \"x\": {\"field\": \"time\", \"type\": \"temporal\"}, \"y\": {\"field\": \"value\", \"type\": \"quantitative\"}}, \"height\": 250, \"width\": 900, \"$schema\": \"https://vega.github.io/schema/vega-lite/v5.8.0.json\"}, {\"mode\": \"vega-lite\"});\n",
       "</script>"
      ],
      "text/plain": [
       "alt.Chart(...)"
      ]
     },
     "execution_count": 6,
     "metadata": {},
     "output_type": "execute_result"
    }
   ],
   "source": [
    "alt.Chart(df).mark_line().encode(\n",
    "    alt.X(\"time:T\"),\n",
    "    alt.Y(\"value:Q\"),\n",
    "    alt.Color(\"height:O\").scale(scheme='rainbow'),\n",
    "    alt.Facet(\"tower:N\", columns=1),\n",
    "    tooltip='height'\n",
    ").properties(width=900, height = 250)"
   ]
  },
  {
   "attachments": {},
   "cell_type": "markdown",
   "metadata": {},
   "source": [
    "The 2D heat equation is\n",
    "$$\n",
    "\\frac{\\partial}{\\partial t}  T(z,t) = \\alpha \\frac{\\partial^2}{\\partial z^2} T(z,t)\n",
    "$$\n",
    "\n",
    "We discretize this equation with\n",
    "\n",
    "$$z_i = i \\Delta z$$\n",
    "$$t_j = j \\Delta t$$\n",
    "$$T(z,t) = T_i^j$$\n",
    "\n",
    "Using a simple forward differencing scheme to estimate derivatives, we can discretize the above equation and solve for $k^2$.\n",
    "\n",
    "$$ \\alpha =  \\frac{T_i^{j+1} - T_i^{j}}{\\Delta t} \\Big( \\frac{\\Delta z^2}{T_{i+1}^{j} - 2 T_{i}^{j} + T_{i-1}^{j}} \\Big)$$\n",
    "\n",
    "Note that this scheme is numerically stable when \n",
    "\n",
    "$$ \\Delta t \\leq \\frac{\\Delta x^2}{4 k^2}$$\n",
    "\n",
    "The solution for $k^2$ allows us to solve for k for every data point in the (z,t) space that isn't on the edge of the (z,t) grid.\n",
    "\n",
    "In our dataset, $\\Delta t$ is 300 seconds and $\\Delta x$ is 0.1 meters. We now transform our dataset to be in a 2-D array."
   ]
  },
  {
   "cell_type": "code",
   "execution_count": 7,
   "metadata": {},
   "outputs": [],
   "source": [
    "Tsnow_d = np.array([\n",
    "    sos_ds['Tsnow_0_4m_d'].values,\n",
    "    sos_ds['Tsnow_0_5m_d'].values,\n",
    "    sos_ds['Tsnow_0_6m_d'].values,\n",
    "    sos_ds['Tsnow_0_7m_d'].values,\n",
    "    sos_ds['Tsnow_0_8m_d'].values,\n",
    "    sos_ds['Tsnow_0_9m_d'].values,\n",
    "    sos_ds['Tsnow_1_0m_d'].values,\n",
    "    sos_ds['Tsnow_1_1m_d'].values,\n",
    "    # sos_ds['Tsnow_1_2m_d'].values,\n",
    "    # sos_ds['Tsnow_1_3m_d'].values,\n",
    "    # sos_ds['Tsnow_1_4m_d'].values,\n",
    "    # sos_ds['Tsnow_1_5m_d'].values\n",
    "])\n",
    "\n",
    "Tsnow_uw = np.array([\n",
    "    sos_ds['Tsnow_0_4m_uw'].values,\n",
    "    sos_ds['Tsnow_0_5m_uw'].values,\n",
    "    sos_ds['Tsnow_0_6m_uw'].values,\n",
    "    sos_ds['Tsnow_0_7m_uw'].values,\n",
    "    sos_ds['Tsnow_0_8m_uw'].values,\n",
    "    sos_ds['Tsnow_0_9m_uw'].values,\n",
    "    sos_ds['Tsnow_1_0m_uw'].values,\n",
    "    sos_ds['Tsnow_1_1m_uw'].values,\n",
    "    sos_ds['Tsnow_1_2m_uw'].values,\n",
    "    sos_ds['Tsnow_1_3m_uw'].values,\n",
    "    # sos_ds['Tsnow_1_4m_uw'].values,\n",
    "    # sos_ds['Tsnow_1_5m_uw'].values\n",
    "])"
   ]
  },
  {
   "attachments": {},
   "cell_type": "markdown",
   "metadata": {},
   "source": [
    "This grid allows us to access our data with $i$ and $j$ indices like so:"
   ]
  },
  {
   "cell_type": "code",
   "execution_count": 8,
   "metadata": {},
   "outputs": [
    {
     "name": "stdout",
     "output_type": "stream",
     "text": [
      "-3.5763922\n",
      "-3.5760107\n",
      "-4.2438574\n",
      "-4.2434115\n"
     ]
    }
   ],
   "source": [
    "i = 0; j = 0\n",
    "print(Tsnow_d[i][j])\n",
    "i = 0; j = 1\n",
    "print(Tsnow_d[i][j])\n",
    "i = 1; j = 0\n",
    "print(Tsnow_d[i][j])\n",
    "i = 1; j = 1\n",
    "print(Tsnow_d[i][j])"
   ]
  },
  {
   "cell_type": "code",
   "execution_count": 9,
   "metadata": {},
   "outputs": [
    {
     "data": {
      "text/plain": [
       "(8, 288)"
      ]
     },
     "execution_count": 9,
     "metadata": {},
     "output_type": "execute_result"
    }
   ],
   "source": [
    "Tsnow_d.shape"
   ]
  },
  {
   "attachments": {},
   "cell_type": "markdown",
   "metadata": {},
   "source": [
    "Now we can step through our space and time grid. We have 12 spatial measurements each with 288 time steps.\n",
    "\n",
    "$i \\quad \\epsilon \\quad [0, 11]$\n",
    "\n",
    "$j \\quad \\epsilon \\quad [0, 287]$\n",
    "\n",
    "where $i$ corresponds to measurements between 0.4 and 1.5 meters, at 0.1 meter increments.\n",
    "\n",
    "Using our equation for $k^2$ above, repeated here\n",
    "\n",
    "$$ \\alpha =  \\frac{T_i^{j+1} - T_i^{j}}{\\Delta t} \\Big( \\frac{\\Delta z^2}{T_{i+1}^{j} - 2 T_{i}^{j} + T_{i-1}^{j}} \\Big)$$\n"
   ]
  },
  {
   "attachments": {},
   "cell_type": "markdown",
   "metadata": {},
   "source": [
    "We see that we can only calculate k^2 with the following subset of $i$ and $j$\n",
    "\n",
    "$i \\quad \\epsilon \\quad (0, 11)$\n",
    "\n",
    "$j \\quad \\epsilon \\quad [0, 287)$\n",
    "\n",
    "Let's step through this data and calculate k^2! But first let's convert to Kelvin :)."
   ]
  },
  {
   "cell_type": "code",
   "execution_count": 10,
   "metadata": {},
   "outputs": [],
   "source": [
    "Tsnow_d = Tsnow_d + 273.15\n",
    "Tsnow_uw = Tsnow_uw + 273.15"
   ]
  },
  {
   "cell_type": "code",
   "execution_count": 11,
   "metadata": {},
   "outputs": [],
   "source": [
    "delta_z = 0.1\n",
    "delta_t = 300\n",
    "\n",
    "i_range_d = range(1,7)\n",
    "i_range_uw = range(0,9)\n",
    "\n",
    "alpha_d = np.zeros_like(Tsnow_d)\n",
    "alpha_uw = np.zeros_like(Tsnow_uw)\n",
    "\n",
    "for i in i_range_d:\n",
    "    for j in range(0, 287):\n",
    "        alpha_d[i][j] = (\n",
    "            (Tsnow_d[i][j+1] - Tsnow_d[i][j])/delta_t\n",
    "        )*(\n",
    "            delta_z**2 / ( Tsnow_d[i+1][j] - 2*Tsnow_d[i][j] + Tsnow_d[i-1][j])\n",
    "        )\n",
    "\n",
    "for i in i_range_uw:\n",
    "    for j in range(0, 287):\n",
    "        alpha_uw[i][j] = (\n",
    "            (Tsnow_uw[i][j+1] - Tsnow_uw[i][j])/delta_t\n",
    "        )*(\n",
    "            delta_z**2 / ( Tsnow_uw[i+1][j] - 2*Tsnow_uw[i][j] + Tsnow_uw[i-1][j])\n",
    "        )"
   ]
  },
  {
   "cell_type": "code",
   "execution_count": 12,
   "metadata": {},
   "outputs": [
    {
     "data": {
      "text/plain": [
       "(4.1044865e-07, 0.0, 0.00024222222, -0.00022522523)"
      ]
     },
     "execution_count": 12,
     "metadata": {},
     "output_type": "execute_result"
    }
   ],
   "source": [
    "np.nanmean(alpha_d), np.nanmedian(alpha_d), np.max(alpha_d), np.min(alpha_d)"
   ]
  },
  {
   "cell_type": "code",
   "execution_count": 13,
   "metadata": {},
   "outputs": [
    {
     "data": {
      "text/plain": [
       "(1.2061288e-06, 0.0, 0.0017897435, -0.0014098039)"
      ]
     },
     "execution_count": 13,
     "metadata": {},
     "output_type": "execute_result"
    }
   ],
   "source": [
    "np.nanmean(alpha_uw), np.nanmedian(alpha_uw), np.max(alpha_uw), np.min(alpha_uw)"
   ]
  },
  {
   "cell_type": "code",
   "execution_count": 34,
   "metadata": {},
   "outputs": [
    {
     "data": {
      "application/vnd.vegalite.v5+json": {
       "$schema": "https://vega.github.io/schema/vega-lite/v5.8.0.json",
       "config": {
        "view": {
         "continuousHeight": 300,
         "continuousWidth": 300
        }
       },
       "data": {
        "format": {
         "type": "json"
        },
        "url": "altair-data-43849c17f3f7f8c1c22a7e756b33b005.json"
       },
       "encoding": {
        "facet": {
         "field": "key",
         "title": null,
         "type": "nominal"
        },
        "x": {
         "field": "value",
         "title": "α",
         "type": "quantitative"
        },
        "y": {
         "aggregate": "count",
         "type": "quantitative"
        }
       },
       "height": 150,
       "mark": {
        "type": "bar"
       },
       "transform": [
        {
         "fold": [
          "thermal diffusivity (tower d)",
          "thermal diffusivity (tower uw)"
         ]
        }
       ]
      },
      "text/plain": [
       "<VegaLite 5 object>\n",
       "\n",
       "If you see this message, it means the renderer has not been properly enabled\n",
       "for the frontend that you are using. For more information, see\n",
       "https://altair-viz.github.io/user_guide/display_frontends.html#troubleshooting\n"
      ]
     },
     "execution_count": 34,
     "metadata": {},
     "output_type": "execute_result"
    }
   ],
   "source": [
    "src = pd.DataFrame({\n",
    "    'thermal diffusivity (tower d)': alpha_d.flatten(),\n",
    "    'thermal diffusivity (tower uw)': alpha_uw.flatten()\n",
    "})\n",
    "alt.Chart(src).mark_bar().transform_fold(\n",
    "    ['thermal diffusivity (tower d)', 'thermal diffusivity (tower uw)']\n",
    ").encode(\n",
    "    alt.X(\"value:Q\").title(\"α\"),\n",
    "    alt.Y(\"count():Q\"),\n",
    "    alt.Facet(\"key:N\").title(None)\n",
    ").properties(height=150)"
   ]
  },
  {
   "cell_type": "code",
   "execution_count": 29,
   "metadata": {},
   "outputs": [
    {
     "data": {
      "text/html": [
       "<div>\n",
       "<style scoped>\n",
       "    .dataframe tbody tr th:only-of-type {\n",
       "        vertical-align: middle;\n",
       "    }\n",
       "\n",
       "    .dataframe tbody tr th {\n",
       "        vertical-align: top;\n",
       "    }\n",
       "\n",
       "    .dataframe thead th {\n",
       "        text-align: right;\n",
       "    }\n",
       "</style>\n",
       "<table border=\"1\" class=\"dataframe\">\n",
       "  <thead>\n",
       "    <tr style=\"text-align: right;\">\n",
       "      <th></th>\n",
       "      <th>time</th>\n",
       "      <th>thermal diffusivity (tower d)</th>\n",
       "      <th>thermal diffusivity (tower uw)</th>\n",
       "    </tr>\n",
       "  </thead>\n",
       "  <tbody>\n",
       "    <tr>\n",
       "      <th>0</th>\n",
       "      <td>2023-02-15 00:02:30</td>\n",
       "      <td>-3.883607e-08</td>\n",
       "      <td>-2.093634e-07</td>\n",
       "    </tr>\n",
       "    <tr>\n",
       "      <th>1</th>\n",
       "      <td>2023-02-15 00:07:30</td>\n",
       "      <td>1.150351e-07</td>\n",
       "      <td>-1.126318e-07</td>\n",
       "    </tr>\n",
       "    <tr>\n",
       "      <th>2</th>\n",
       "      <td>2023-02-15 00:12:30</td>\n",
       "      <td>5.211264e-08</td>\n",
       "      <td>-1.273473e-07</td>\n",
       "    </tr>\n",
       "    <tr>\n",
       "      <th>3</th>\n",
       "      <td>2023-02-15 00:17:30</td>\n",
       "      <td>1.216424e-07</td>\n",
       "      <td>-1.163467e-07</td>\n",
       "    </tr>\n",
       "    <tr>\n",
       "      <th>4</th>\n",
       "      <td>2023-02-15 00:22:30</td>\n",
       "      <td>-1.480078e-07</td>\n",
       "      <td>-1.526793e-07</td>\n",
       "    </tr>\n",
       "    <tr>\n",
       "      <th>...</th>\n",
       "      <td>...</td>\n",
       "      <td>...</td>\n",
       "      <td>...</td>\n",
       "    </tr>\n",
       "    <tr>\n",
       "      <th>283</th>\n",
       "      <td>2023-02-15 23:37:30</td>\n",
       "      <td>1.637137e-07</td>\n",
       "      <td>-2.450575e-06</td>\n",
       "    </tr>\n",
       "    <tr>\n",
       "      <th>284</th>\n",
       "      <td>2023-02-15 23:42:30</td>\n",
       "      <td>4.743436e-07</td>\n",
       "      <td>-5.431519e-07</td>\n",
       "    </tr>\n",
       "    <tr>\n",
       "      <th>285</th>\n",
       "      <td>2023-02-15 23:47:30</td>\n",
       "      <td>5.532177e-06</td>\n",
       "      <td>-1.046003e-05</td>\n",
       "    </tr>\n",
       "    <tr>\n",
       "      <th>286</th>\n",
       "      <td>2023-02-15 23:52:30</td>\n",
       "      <td>-9.798421e-06</td>\n",
       "      <td>-8.664067e-06</td>\n",
       "    </tr>\n",
       "    <tr>\n",
       "      <th>287</th>\n",
       "      <td>2023-02-15 23:57:30</td>\n",
       "      <td>0.000000e+00</td>\n",
       "      <td>0.000000e+00</td>\n",
       "    </tr>\n",
       "  </tbody>\n",
       "</table>\n",
       "<p>288 rows × 3 columns</p>\n",
       "</div>"
      ],
      "text/plain": [
       "                   time  thermal diffusivity (tower d)  \\\n",
       "0   2023-02-15 00:02:30                  -3.883607e-08   \n",
       "1   2023-02-15 00:07:30                   1.150351e-07   \n",
       "2   2023-02-15 00:12:30                   5.211264e-08   \n",
       "3   2023-02-15 00:17:30                   1.216424e-07   \n",
       "4   2023-02-15 00:22:30                  -1.480078e-07   \n",
       "..                  ...                            ...   \n",
       "283 2023-02-15 23:37:30                   1.637137e-07   \n",
       "284 2023-02-15 23:42:30                   4.743436e-07   \n",
       "285 2023-02-15 23:47:30                   5.532177e-06   \n",
       "286 2023-02-15 23:52:30                  -9.798421e-06   \n",
       "287 2023-02-15 23:57:30                   0.000000e+00   \n",
       "\n",
       "     thermal diffusivity (tower uw)  \n",
       "0                     -2.093634e-07  \n",
       "1                     -1.126318e-07  \n",
       "2                     -1.273473e-07  \n",
       "3                     -1.163467e-07  \n",
       "4                     -1.526793e-07  \n",
       "..                              ...  \n",
       "283                   -2.450575e-06  \n",
       "284                   -5.431519e-07  \n",
       "285                   -1.046003e-05  \n",
       "286                   -8.664067e-06  \n",
       "287                    0.000000e+00  \n",
       "\n",
       "[288 rows x 3 columns]"
      ]
     },
     "execution_count": 29,
     "metadata": {},
     "output_type": "execute_result"
    }
   ],
   "source": [
    "src"
   ]
  },
  {
   "cell_type": "code",
   "execution_count": 37,
   "metadata": {},
   "outputs": [
    {
     "data": {
      "text/html": [
       "\n",
       "<style>\n",
       "  #altair-viz-2183c64589af4d858495e72284099ee8.vega-embed {\n",
       "    width: 100%;\n",
       "    display: flex;\n",
       "  }\n",
       "\n",
       "  #altair-viz-2183c64589af4d858495e72284099ee8.vega-embed details,\n",
       "  #altair-viz-2183c64589af4d858495e72284099ee8.vega-embed details summary {\n",
       "    position: relative;\n",
       "  }\n",
       "</style>\n",
       "<div id=\"altair-viz-2183c64589af4d858495e72284099ee8\"></div>\n",
       "<script type=\"text/javascript\">\n",
       "  var VEGA_DEBUG = (typeof VEGA_DEBUG == \"undefined\") ? {} : VEGA_DEBUG;\n",
       "  (function(spec, embedOpt){\n",
       "    let outputDiv = document.currentScript.previousElementSibling;\n",
       "    if (outputDiv.id !== \"altair-viz-2183c64589af4d858495e72284099ee8\") {\n",
       "      outputDiv = document.getElementById(\"altair-viz-2183c64589af4d858495e72284099ee8\");\n",
       "    }\n",
       "    const paths = {\n",
       "      \"vega\": \"https://cdn.jsdelivr.net/npm/vega@5?noext\",\n",
       "      \"vega-lib\": \"https://cdn.jsdelivr.net/npm/vega-lib?noext\",\n",
       "      \"vega-lite\": \"https://cdn.jsdelivr.net/npm/vega-lite@5.8.0?noext\",\n",
       "      \"vega-embed\": \"https://cdn.jsdelivr.net/npm/vega-embed@6?noext\",\n",
       "    };\n",
       "\n",
       "    function maybeLoadScript(lib, version) {\n",
       "      var key = `${lib.replace(\"-\", \"\")}_version`;\n",
       "      return (VEGA_DEBUG[key] == version) ?\n",
       "        Promise.resolve(paths[lib]) :\n",
       "        new Promise(function(resolve, reject) {\n",
       "          var s = document.createElement('script');\n",
       "          document.getElementsByTagName(\"head\")[0].appendChild(s);\n",
       "          s.async = true;\n",
       "          s.onload = () => {\n",
       "            VEGA_DEBUG[key] = version;\n",
       "            return resolve(paths[lib]);\n",
       "          };\n",
       "          s.onerror = () => reject(`Error loading script: ${paths[lib]}`);\n",
       "          s.src = paths[lib];\n",
       "        });\n",
       "    }\n",
       "\n",
       "    function showError(err) {\n",
       "      outputDiv.innerHTML = `<div class=\"error\" style=\"color:red;\">${err}</div>`;\n",
       "      throw err;\n",
       "    }\n",
       "\n",
       "    function displayChart(vegaEmbed) {\n",
       "      vegaEmbed(outputDiv, spec, embedOpt)\n",
       "        .catch(err => showError(`Javascript Error: ${err.message}<br>This usually means there's a typo in your chart specification. See the javascript console for the full traceback.`));\n",
       "    }\n",
       "\n",
       "    if(typeof define === \"function\" && define.amd) {\n",
       "      requirejs.config({paths});\n",
       "      require([\"vega-embed\"], displayChart, err => showError(`Error loading script: ${err.message}`));\n",
       "    } else {\n",
       "      maybeLoadScript(\"vega\", \"5\")\n",
       "        .then(() => maybeLoadScript(\"vega-lite\", \"5.8.0\"))\n",
       "        .then(() => maybeLoadScript(\"vega-embed\", \"6\"))\n",
       "        .catch(showError)\n",
       "        .then(() => displayChart(vegaEmbed));\n",
       "    }\n",
       "  })({\"config\": {\"view\": {\"continuousWidth\": 300, \"continuousHeight\": 300}}, \"data\": {\"url\": \"altair-data-11e2e840b753c07a07a61941a89365ad.json\", \"format\": {\"type\": \"json\"}}, \"mark\": {\"type\": \"line\"}, \"encoding\": {\"x\": {\"field\": \"time\", \"type\": \"temporal\"}, \"y\": {\"field\": \"avg\", \"title\": \"\\u03b1\", \"type\": \"quantitative\"}}, \"height\": 150, \"transform\": [{\"window\": [{\"op\": \"mean\", \"field\": \"thermal diffusivity (tower uw)\", \"as\": \"avg\"}], \"frame\": [-12, 12]}], \"$schema\": \"https://vega.github.io/schema/vega-lite/v5.8.0.json\"}, {\"mode\": \"vega-lite\"});\n",
       "</script>"
      ],
      "text/plain": [
       "alt.Chart(...)"
      ]
     },
     "execution_count": 37,
     "metadata": {},
     "output_type": "execute_result"
    }
   ],
   "source": [
    "\n",
    "src = pd.DataFrame({\n",
    "    'time': df.time.unique(),\n",
    "    'thermal diffusivity (tower d)': alpha_d.mean(axis=0),\n",
    "    'thermal diffusivity (tower uw)': alpha_uw.mean(axis=0)\n",
    "})\n",
    "alt.Chart(src).mark_line().transform_window(\n",
    "    frame=[-12, 12],\n",
    "    avg = 'mean(thermal diffusivity (tower uw))',\n",
    ").encode(\n",
    "    alt.X(\"time:T\"),\n",
    "    alt.Y(\"avg:Q\").title(\"α\"),\n",
    ").properties(height=150)"
   ]
  },
  {
   "cell_type": "code",
   "execution_count": null,
   "metadata": {},
   "outputs": [],
   "source": []
  }
 ],
 "metadata": {
  "kernelspec": {
   "display_name": "arm",
   "language": "python",
   "name": "python3"
  },
  "language_info": {
   "codemirror_mode": {
    "name": "ipython",
    "version": 3
   },
   "file_extension": ".py",
   "mimetype": "text/x-python",
   "name": "python",
   "nbconvert_exporter": "python",
   "pygments_lexer": "ipython3",
   "version": "3.11.0"
  },
  "orig_nbformat": 4
 },
 "nbformat": 4,
 "nbformat_minor": 2
}
