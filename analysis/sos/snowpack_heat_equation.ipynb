{
 "cells": [
  {
   "cell_type": "code",
   "execution_count": 1,
   "metadata": {},
   "outputs": [
    {
     "data": {
      "text/plain": [
       "DataTransformerRegistry.enable('json')"
      ]
     },
     "execution_count": 1,
     "metadata": {},
     "output_type": "execute_result"
    }
   ],
   "source": [
    "import numpy as np\n",
    "import pandas as pd\n",
    "import datetime as dt\n",
    "import xarray as xr\n",
    "from urllib.error import URLError\n",
    "\n",
    "import sys\n",
    "sys.path.append(\"/home/elilouis/sublimationofsnow/\")\n",
    "import sosutils\n",
    "\n",
    "import altair as alt\n",
    "alt.data_transformers.disable_max_rows()\n",
    "alt.data_transformers.enable('json')"
   ]
  },
  {
   "cell_type": "code",
   "execution_count": 2,
   "metadata": {},
   "outputs": [],
   "source": [
    "sos_download_dir='/data2/elilouis/sublimationofsnow/sosnoqc'\n",
    "DATE_FORMAT_STR = '%Y%m%d'\n",
    "start_date = '20230315'; \n",
    "end_date = '20230315'; \n",
    "\n",
    "datelist = pd.date_range(\n",
    "    dt.datetime.strptime(start_date, DATE_FORMAT_STR),\n",
    "    dt.datetime.strptime(end_date, DATE_FORMAT_STR),\n",
    "    freq='d'\n",
    ").strftime(DATE_FORMAT_STR).tolist()\n",
    "\n",
    "VARIABLE_NAMES = [\n",
    "    # Snow-level temperature arrays (tower D)\n",
    "    'Tsnow_0_4m_d', 'Tsnow_0_5m_d', 'Tsnow_0_6m_d', 'Tsnow_0_7m_d', 'Tsnow_0_8m_d', 'Tsnow_0_9m_d', 'Tsnow_1_0m_d', 'Tsnow_1_1m_d', 'Tsnow_1_2m_d', 'Tsnow_1_3m_d', 'Tsnow_1_4m_d', 'Tsnow_1_5m_d',\n",
    "\n",
    "    'Tsnow_0_4m_uw', 'Tsnow_0_5m_uw', 'Tsnow_0_6m_uw', 'Tsnow_0_7m_uw', 'Tsnow_0_8m_uw', 'Tsnow_0_9m_uw', 'Tsnow_1_0m_uw', 'Tsnow_1_1m_uw', 'Tsnow_1_2m_uw', 'Tsnow_1_3m_uw', 'Tsnow_1_4m_uw', 'Tsnow_1_5m_uw',\n",
    "]"
   ]
  },
  {
   "cell_type": "code",
   "execution_count": 3,
   "metadata": {},
   "outputs": [
    {
     "name": "stdout",
     "output_type": "stream",
     "text": [
      "Caching...skipping download for 20230315\n"
     ]
    }
   ],
   "source": [
    "# We make sure that we aren't accessing variables that don't exist in the datasets\n",
    "# This is necessary because some daily NetCDF files don't have all the expected variables\n",
    "# (for example because an instrument was down). In that case, we want to add that variable\n",
    "# to the dataset, filled with nans, which sosutils.merge_datasets_with_different_variables\n",
    "# handles for us\n",
    "datasets = []\n",
    "datasets_safe = []\n",
    "for date in datelist:\n",
    "    try:\n",
    "        ds = xr.open_dataset(sosutils.download_sos_data_day(date, sos_download_dir, cache=True))\n",
    "    # Some dates are missing\n",
    "    except URLError:\n",
    "        print(f\"failed on {date}, skipping\")\n",
    "    ds_new = ds[set(ds.data_vars).intersection(VARIABLE_NAMES)]\n",
    "    datasets.append(ds_new)\n",
    "    datasets_safe.append(ds_new)\n",
    "sos_ds = sosutils.merge_datasets_with_different_variables(datasets, dim='time')"
   ]
  },
  {
   "cell_type": "code",
   "execution_count": 4,
   "metadata": {},
   "outputs": [],
   "source": [
    "df = sosutils.get_tidy_dataset(\n",
    "    sos_ds,\n",
    "    [\n",
    "        'Tsnow_0_4m_d',\n",
    "        'Tsnow_0_5m_d',\n",
    "        'Tsnow_0_6m_d',\n",
    "        'Tsnow_0_7m_d',\n",
    "        'Tsnow_0_8m_d',\n",
    "        'Tsnow_0_9m_d',\n",
    "        'Tsnow_1_0m_d',\n",
    "        'Tsnow_1_1m_d',\n",
    "        'Tsnow_1_2m_d',\n",
    "        'Tsnow_1_3m_d',\n",
    "        'Tsnow_1_4m_d',\n",
    "        'Tsnow_1_5m_d',\n",
    "\n",
    "        'Tsnow_0_4m_uw',\n",
    "        'Tsnow_0_5m_uw',\n",
    "        'Tsnow_0_6m_uw',\n",
    "        'Tsnow_0_7m_uw',\n",
    "        'Tsnow_0_8m_uw',\n",
    "        'Tsnow_0_9m_uw',\n",
    "        'Tsnow_1_0m_uw',\n",
    "        'Tsnow_1_1m_uw',\n",
    "        'Tsnow_1_2m_uw',\n",
    "        'Tsnow_1_3m_uw',\n",
    "        'Tsnow_1_4m_uw',\n",
    "        'Tsnow_1_5m_uw',\n",
    "    ]\n",
    ")"
   ]
  },
  {
   "cell_type": "code",
   "execution_count": 15,
   "metadata": {},
   "outputs": [
    {
     "data": {
      "text/html": [
       "\n",
       "<style>\n",
       "  #altair-viz-2965227689cb4871b74efea47ae400bf.vega-embed {\n",
       "    width: 100%;\n",
       "    display: flex;\n",
       "  }\n",
       "\n",
       "  #altair-viz-2965227689cb4871b74efea47ae400bf.vega-embed details,\n",
       "  #altair-viz-2965227689cb4871b74efea47ae400bf.vega-embed details summary {\n",
       "    position: relative;\n",
       "  }\n",
       "</style>\n",
       "<div id=\"altair-viz-2965227689cb4871b74efea47ae400bf\"></div>\n",
       "<script type=\"text/javascript\">\n",
       "  var VEGA_DEBUG = (typeof VEGA_DEBUG == \"undefined\") ? {} : VEGA_DEBUG;\n",
       "  (function(spec, embedOpt){\n",
       "    let outputDiv = document.currentScript.previousElementSibling;\n",
       "    if (outputDiv.id !== \"altair-viz-2965227689cb4871b74efea47ae400bf\") {\n",
       "      outputDiv = document.getElementById(\"altair-viz-2965227689cb4871b74efea47ae400bf\");\n",
       "    }\n",
       "    const paths = {\n",
       "      \"vega\": \"https://cdn.jsdelivr.net/npm/vega@5?noext\",\n",
       "      \"vega-lib\": \"https://cdn.jsdelivr.net/npm/vega-lib?noext\",\n",
       "      \"vega-lite\": \"https://cdn.jsdelivr.net/npm/vega-lite@5.8.0?noext\",\n",
       "      \"vega-embed\": \"https://cdn.jsdelivr.net/npm/vega-embed@6?noext\",\n",
       "    };\n",
       "\n",
       "    function maybeLoadScript(lib, version) {\n",
       "      var key = `${lib.replace(\"-\", \"\")}_version`;\n",
       "      return (VEGA_DEBUG[key] == version) ?\n",
       "        Promise.resolve(paths[lib]) :\n",
       "        new Promise(function(resolve, reject) {\n",
       "          var s = document.createElement('script');\n",
       "          document.getElementsByTagName(\"head\")[0].appendChild(s);\n",
       "          s.async = true;\n",
       "          s.onload = () => {\n",
       "            VEGA_DEBUG[key] = version;\n",
       "            return resolve(paths[lib]);\n",
       "          };\n",
       "          s.onerror = () => reject(`Error loading script: ${paths[lib]}`);\n",
       "          s.src = paths[lib];\n",
       "        });\n",
       "    }\n",
       "\n",
       "    function showError(err) {\n",
       "      outputDiv.innerHTML = `<div class=\"error\" style=\"color:red;\">${err}</div>`;\n",
       "      throw err;\n",
       "    }\n",
       "\n",
       "    function displayChart(vegaEmbed) {\n",
       "      vegaEmbed(outputDiv, spec, embedOpt)\n",
       "        .catch(err => showError(`Javascript Error: ${err.message}<br>This usually means there's a typo in your chart specification. See the javascript console for the full traceback.`));\n",
       "    }\n",
       "\n",
       "    if(typeof define === \"function\" && define.amd) {\n",
       "      requirejs.config({paths});\n",
       "      require([\"vega-embed\"], displayChart, err => showError(`Error loading script: ${err.message}`));\n",
       "    } else {\n",
       "      maybeLoadScript(\"vega\", \"5\")\n",
       "        .then(() => maybeLoadScript(\"vega-lite\", \"5.8.0\"))\n",
       "        .then(() => maybeLoadScript(\"vega-embed\", \"6\"))\n",
       "        .catch(showError)\n",
       "        .then(() => displayChart(vegaEmbed));\n",
       "    }\n",
       "  })({\"config\": {\"view\": {\"continuousWidth\": 300, \"continuousHeight\": 300}}, \"data\": {\"url\": \"altair-data-0ed8b6d27729636090b1f6e20d628cbc.json\", \"format\": {\"type\": \"json\"}}, \"mark\": {\"type\": \"line\"}, \"encoding\": {\"color\": {\"field\": \"height\", \"scale\": {\"scheme\": \"viridis\"}, \"type\": \"ordinal\"}, \"facet\": {\"columns\": 1, \"field\": \"tower\", \"type\": \"nominal\"}, \"x\": {\"field\": \"time\", \"type\": \"temporal\"}, \"y\": {\"field\": \"value\", \"type\": \"quantitative\"}}, \"height\": 250, \"width\": 900, \"$schema\": \"https://vega.github.io/schema/vega-lite/v5.8.0.json\"}, {\"mode\": \"vega-lite\"});\n",
       "</script>"
      ],
      "text/plain": [
       "alt.Chart(...)"
      ]
     },
     "execution_count": 15,
     "metadata": {},
     "output_type": "execute_result"
    }
   ],
   "source": [
    "alt.Chart(df).mark_line().encode(\n",
    "    alt.X(\"time:T\"),\n",
    "    alt.Y(\"value:Q\"),\n",
    "    alt.Color(\"height:O\").scale(scheme='viridis'),\n",
    "    alt.Facet(\"tower:N\", columns=1)\n",
    ").properties(width=900, height = 250)"
   ]
  },
  {
   "attachments": {},
   "cell_type": "markdown",
   "metadata": {},
   "source": [
    "The 2D heat equation is\n",
    "$$\n",
    "\\frac{\\partial}{\\partial t}  T(z,t) = \\alpha \\frac{\\partial^2}{\\partial z^2} T(z,t)\n",
    "$$\n",
    "\n",
    "We discretize this equation with\n",
    "\n",
    "$$z_i = i \\Delta z$$\n",
    "$$t_j = j \\Delta t$$\n",
    "$$T(z,t) = T_i^j$$\n",
    "\n",
    "Using a simple forward differencing scheme to estimate derivatives, we can discretize the above equation and solve for $k^2$.\n",
    "\n",
    "$$ \\alpha =  \\frac{T_i^{j+1} - T_i^{j}}{\\Delta t} \\Big( \\frac{\\Delta z^2}{T_{i+1}^{j} - 2 T_{i}^{j} + T_{i-1}^{j}} \\Big)$$\n",
    "\n",
    "Note that this scheme is numerically stable when \n",
    "\n",
    "$$ \\Delta t \\leq \\frac{\\Delta x^2}{4 k^2}$$\n",
    "\n",
    "The solution for $k^2$ allows us to solve for k for every data point in the (z,t) space that isn't on the edge of the (z,t) grid.\n",
    "\n",
    "In our dataset, $\\Delta t$ is 300 seconds and $\\Delta x$ is 0.1 meters. We now transform our dataset to be in a 2-D array."
   ]
  },
  {
   "cell_type": "code",
   "execution_count": 6,
   "metadata": {},
   "outputs": [],
   "source": [
    "Tsnow_d = np.array([\n",
    "    sos_ds['Tsnow_0_4m_d'].values,\n",
    "    sos_ds['Tsnow_0_5m_d'].values,\n",
    "    sos_ds['Tsnow_0_6m_d'].values,\n",
    "    sos_ds['Tsnow_0_7m_d'].values,\n",
    "    sos_ds['Tsnow_0_8m_d'].values,\n",
    "    sos_ds['Tsnow_0_9m_d'].values,\n",
    "    sos_ds['Tsnow_1_0m_d'].values,\n",
    "    sos_ds['Tsnow_1_1m_d'].values,\n",
    "    sos_ds['Tsnow_1_2m_d'].values,\n",
    "    sos_ds['Tsnow_1_3m_d'].values,\n",
    "    sos_ds['Tsnow_1_4m_d'].values,\n",
    "    sos_ds['Tsnow_1_5m_d'].values\n",
    "])\n",
    "\n",
    "Tsnow_uw = np.array([\n",
    "    sos_ds['Tsnow_0_4m_uw'].values,\n",
    "    sos_ds['Tsnow_0_5m_uw'].values,\n",
    "    sos_ds['Tsnow_0_6m_uw'].values,\n",
    "    sos_ds['Tsnow_0_7m_uw'].values,\n",
    "    sos_ds['Tsnow_0_8m_uw'].values,\n",
    "    sos_ds['Tsnow_0_9m_uw'].values,\n",
    "    sos_ds['Tsnow_1_0m_uw'].values,\n",
    "    sos_ds['Tsnow_1_1m_uw'].values,\n",
    "    sos_ds['Tsnow_1_2m_uw'].values,\n",
    "    sos_ds['Tsnow_1_3m_uw'].values,\n",
    "    sos_ds['Tsnow_1_4m_uw'].values,\n",
    "    sos_ds['Tsnow_1_5m_uw'].values\n",
    "])"
   ]
  },
  {
   "attachments": {},
   "cell_type": "markdown",
   "metadata": {},
   "source": [
    "This grid allows us to access our data with $i$ and $j$ indices like so:"
   ]
  },
  {
   "cell_type": "code",
   "execution_count": 7,
   "metadata": {},
   "outputs": [
    {
     "name": "stdout",
     "output_type": "stream",
     "text": [
      "-0.043280188\n",
      "-0.0450607\n",
      "-1.2413691\n",
      "-1.2393041\n"
     ]
    }
   ],
   "source": [
    "i = 0; j = 0\n",
    "print(Tsnow_d[i][j])\n",
    "i = 0; j = 1\n",
    "print(Tsnow_d[i][j])\n",
    "i = 1; j = 0\n",
    "print(Tsnow_d[i][j])\n",
    "i = 1; j = 1\n",
    "print(Tsnow_d[i][j])"
   ]
  },
  {
   "cell_type": "code",
   "execution_count": 8,
   "metadata": {},
   "outputs": [
    {
     "data": {
      "text/plain": [
       "(12, 288)"
      ]
     },
     "execution_count": 8,
     "metadata": {},
     "output_type": "execute_result"
    }
   ],
   "source": [
    "Tsnow_d.shape"
   ]
  },
  {
   "attachments": {},
   "cell_type": "markdown",
   "metadata": {},
   "source": [
    "Now we can step through our space and time grid. We have 12 spatial measurements each with 288 time steps.\n",
    "\n",
    "$i \\quad \\epsilon \\quad [0, 11]$\n",
    "\n",
    "$j \\quad \\epsilon \\quad [0, 287]$\n",
    "\n",
    "where $i$ corresponds to measurements between 0.4 and 1.5 meters, at 0.1 meter increments.\n",
    "\n",
    "Using our equation for $k^2$ above, repeated here\n",
    "\n",
    "$$ \\alpha =  \\frac{T_i^{j+1} - T_i^{j}}{\\Delta t} \\Big( \\frac{\\Delta z^2}{T_{i+1}^{j} - 2 T_{i}^{j} + T_{i-1}^{j}} \\Big)$$\n"
   ]
  },
  {
   "attachments": {},
   "cell_type": "markdown",
   "metadata": {},
   "source": [
    "We see that we can only calculate k^2 with the following subset of $i$ and $j$\n",
    "\n",
    "$i \\quad \\epsilon \\quad (0, 11)$\n",
    "\n",
    "$j \\quad \\epsilon \\quad [0, 287)$\n",
    "\n",
    "Let's step through this data and calculate k^2! But first let's convert to Kelvin :)."
   ]
  },
  {
   "cell_type": "code",
   "execution_count": 9,
   "metadata": {},
   "outputs": [],
   "source": [
    "Tsnow_d = Tsnow_d + 273.15\n",
    "Tsnow_uw = Tsnow_uw + 273.15"
   ]
  },
  {
   "cell_type": "code",
   "execution_count": 10,
   "metadata": {},
   "outputs": [],
   "source": [
    "delta_z = 0.1\n",
    "delta_t = 300\n",
    "\n",
    "alpha_d = np.zeros_like(Tsnow_d)\n",
    "alpha_uw = np.zeros_like(Tsnow_uw)\n",
    "for i in range(1,11):\n",
    "    for j in range(0, 287):\n",
    "        alpha_d[i][j] = (\n",
    "            (Tsnow_d[i][j+1] - Tsnow_d[i][j])/delta_t\n",
    "        )*(\n",
    "            delta_z**2 / ( Tsnow_d[i+1][j] - 2*Tsnow_d[i][j] + Tsnow_d[i-1][j])\n",
    "        )\n",
    "\n",
    "        alpha_uw[i][j] = (\n",
    "            (Tsnow_uw[i][j+1] - Tsnow_uw[i][j])/delta_t\n",
    "        )*(\n",
    "            delta_z**2 / ( Tsnow_uw[i+1][j] - 2*Tsnow_uw[i][j] + Tsnow_uw[i-1][j])\n",
    "        )"
   ]
  },
  {
   "cell_type": "code",
   "execution_count": 11,
   "metadata": {},
   "outputs": [
    {
     "data": {
      "text/plain": [
       "(7.126021e-08, 2.7379741e-08, 0.0007872549, -0.0008510101)"
      ]
     },
     "execution_count": 11,
     "metadata": {},
     "output_type": "execute_result"
    }
   ],
   "source": [
    "np.nanmean(alpha_d), np.nanmedian(alpha_d), np.max(alpha_d), np.min(alpha_d)"
   ]
  },
  {
   "cell_type": "code",
   "execution_count": 12,
   "metadata": {},
   "outputs": [
    {
     "data": {
      "text/plain": [
       "(-1.0018993e-07, 0.0, 7.962963e-05, -0.00017700618)"
      ]
     },
     "execution_count": 12,
     "metadata": {},
     "output_type": "execute_result"
    }
   ],
   "source": [
    "np.nanmean(alpha_uw), np.nanmedian(alpha_uw), np.max(alpha_uw), np.min(alpha_uw)"
   ]
  },
  {
   "cell_type": "code",
   "execution_count": 13,
   "metadata": {},
   "outputs": [
    {
     "data": {
      "text/html": [
       "\n",
       "<style>\n",
       "  #altair-viz-2b4cfc869c2b4aaaa3809febe54eb5bb.vega-embed {\n",
       "    width: 100%;\n",
       "    display: flex;\n",
       "  }\n",
       "\n",
       "  #altair-viz-2b4cfc869c2b4aaaa3809febe54eb5bb.vega-embed details,\n",
       "  #altair-viz-2b4cfc869c2b4aaaa3809febe54eb5bb.vega-embed details summary {\n",
       "    position: relative;\n",
       "  }\n",
       "</style>\n",
       "<div id=\"altair-viz-2b4cfc869c2b4aaaa3809febe54eb5bb\"></div>\n",
       "<script type=\"text/javascript\">\n",
       "  var VEGA_DEBUG = (typeof VEGA_DEBUG == \"undefined\") ? {} : VEGA_DEBUG;\n",
       "  (function(spec, embedOpt){\n",
       "    let outputDiv = document.currentScript.previousElementSibling;\n",
       "    if (outputDiv.id !== \"altair-viz-2b4cfc869c2b4aaaa3809febe54eb5bb\") {\n",
       "      outputDiv = document.getElementById(\"altair-viz-2b4cfc869c2b4aaaa3809febe54eb5bb\");\n",
       "    }\n",
       "    const paths = {\n",
       "      \"vega\": \"https://cdn.jsdelivr.net/npm/vega@5?noext\",\n",
       "      \"vega-lib\": \"https://cdn.jsdelivr.net/npm/vega-lib?noext\",\n",
       "      \"vega-lite\": \"https://cdn.jsdelivr.net/npm/vega-lite@5.8.0?noext\",\n",
       "      \"vega-embed\": \"https://cdn.jsdelivr.net/npm/vega-embed@6?noext\",\n",
       "    };\n",
       "\n",
       "    function maybeLoadScript(lib, version) {\n",
       "      var key = `${lib.replace(\"-\", \"\")}_version`;\n",
       "      return (VEGA_DEBUG[key] == version) ?\n",
       "        Promise.resolve(paths[lib]) :\n",
       "        new Promise(function(resolve, reject) {\n",
       "          var s = document.createElement('script');\n",
       "          document.getElementsByTagName(\"head\")[0].appendChild(s);\n",
       "          s.async = true;\n",
       "          s.onload = () => {\n",
       "            VEGA_DEBUG[key] = version;\n",
       "            return resolve(paths[lib]);\n",
       "          };\n",
       "          s.onerror = () => reject(`Error loading script: ${paths[lib]}`);\n",
       "          s.src = paths[lib];\n",
       "        });\n",
       "    }\n",
       "\n",
       "    function showError(err) {\n",
       "      outputDiv.innerHTML = `<div class=\"error\" style=\"color:red;\">${err}</div>`;\n",
       "      throw err;\n",
       "    }\n",
       "\n",
       "    function displayChart(vegaEmbed) {\n",
       "      vegaEmbed(outputDiv, spec, embedOpt)\n",
       "        .catch(err => showError(`Javascript Error: ${err.message}<br>This usually means there's a typo in your chart specification. See the javascript console for the full traceback.`));\n",
       "    }\n",
       "\n",
       "    if(typeof define === \"function\" && define.amd) {\n",
       "      requirejs.config({paths});\n",
       "      require([\"vega-embed\"], displayChart, err => showError(`Error loading script: ${err.message}`));\n",
       "    } else {\n",
       "      maybeLoadScript(\"vega\", \"5\")\n",
       "        .then(() => maybeLoadScript(\"vega-lite\", \"5.8.0\"))\n",
       "        .then(() => maybeLoadScript(\"vega-embed\", \"6\"))\n",
       "        .catch(showError)\n",
       "        .then(() => displayChart(vegaEmbed));\n",
       "    }\n",
       "  })({\"config\": {\"view\": {\"continuousWidth\": 300, \"continuousHeight\": 300}}, \"data\": {\"url\": \"altair-data-43849c17f3f7f8c1c22a7e756b33b005.json\", \"format\": {\"type\": \"json\"}}, \"mark\": {\"type\": \"bar\"}, \"encoding\": {\"facet\": {\"field\": \"key\", \"title\": null, \"type\": \"nominal\"}, \"x\": {\"field\": \"value\", \"title\": \"\\u03b1\", \"type\": \"quantitative\"}, \"y\": {\"aggregate\": \"count\", \"type\": \"quantitative\"}}, \"height\": 150, \"transform\": [{\"fold\": [\"thermal diffusivity (tower d)\", \"thermal diffusivity (tower uw)\"]}], \"$schema\": \"https://vega.github.io/schema/vega-lite/v5.8.0.json\"}, {\"mode\": \"vega-lite\"});\n",
       "</script>"
      ],
      "text/plain": [
       "alt.Chart(...)"
      ]
     },
     "execution_count": 13,
     "metadata": {},
     "output_type": "execute_result"
    }
   ],
   "source": [
    "src = pd.DataFrame({\n",
    "    'thermal diffusivity (tower d)': alpha_d.flatten(),\n",
    "    'thermal diffusivity (tower uw)': alpha_uw.flatten()\n",
    "})\n",
    "alt.Chart(src).mark_bar().transform_fold(\n",
    "    ['thermal diffusivity (tower d)', 'thermal diffusivity (tower uw)']\n",
    ").encode(\n",
    "    alt.X(\"value:Q\").title(\"α\"),\n",
    "    alt.Y(\"count():Q\"),\n",
    "    alt.Facet(\"key:N\").title(None)\n",
    ").properties(height=150)"
   ]
  }
 ],
 "metadata": {
  "kernelspec": {
   "display_name": "arm",
   "language": "python",
   "name": "python3"
  },
  "language_info": {
   "codemirror_mode": {
    "name": "ipython",
    "version": 3
   },
   "file_extension": ".py",
   "mimetype": "text/x-python",
   "name": "python",
   "nbconvert_exporter": "python",
   "pygments_lexer": "ipython3",
   "version": "3.11.0"
  },
  "orig_nbformat": 4
 },
 "nbformat": 4,
 "nbformat_minor": 2
}
