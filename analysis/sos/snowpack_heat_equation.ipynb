{
 "cells": [
  {
   "cell_type": "code",
   "execution_count": 22,
   "metadata": {},
   "outputs": [
    {
     "data": {
      "text/plain": [
       "RendererRegistry.enable('jupyterlab')"
      ]
     },
     "execution_count": 22,
     "metadata": {},
     "output_type": "execute_result"
    }
   ],
   "source": [
    "import numpy as np\n",
    "import pandas as pd\n",
    "import datetime as dt\n",
    "import xarray as xr\n",
    "from urllib.error import URLError\n",
    "\n",
    "import sys\n",
    "sys.path.append(\"/home/elilouis/sublimationofsnow/\")\n",
    "import sosutils\n",
    "\n",
    "import altair as alt\n",
    "alt.data_transformers.disable_max_rows()\n",
    "alt.data_transformers.enable('json')\n",
    "alt.renderers.enable(\"jupyterlab\")"
   ]
  },
  {
   "cell_type": "code",
   "execution_count": 23,
   "metadata": {},
   "outputs": [],
   "source": [
    "sos_download_dir='/data2/elilouis/sublimationofsnow/sosnoqc'\n",
    "DATE_FORMAT_STR = '%Y%m%d'\n",
    "start_date = '20230315'; \n",
    "end_date = '20230315'; \n",
    "\n",
    "datelist = pd.date_range(\n",
    "    dt.datetime.strptime(start_date, DATE_FORMAT_STR),\n",
    "    dt.datetime.strptime(end_date, DATE_FORMAT_STR),\n",
    "    freq='d'\n",
    ").strftime(DATE_FORMAT_STR).tolist()\n",
    "\n",
    "VARIABLE_NAMES = [\n",
    "    # Snow-level temperature arrays (tower D)\n",
    "    'Tsnow_0_4m_d', 'Tsnow_0_5m_d', 'Tsnow_0_6m_d', 'Tsnow_0_7m_d', 'Tsnow_0_8m_d', 'Tsnow_0_9m_d', 'Tsnow_1_0m_d', 'Tsnow_1_1m_d', 'Tsnow_1_2m_d', 'Tsnow_1_3m_d', 'Tsnow_1_4m_d', 'Tsnow_1_5m_d',\n",
    "\n",
    "    'Tsnow_0_4m_uw', 'Tsnow_0_5m_uw', 'Tsnow_0_6m_uw', 'Tsnow_0_7m_uw', 'Tsnow_0_8m_uw', 'Tsnow_0_9m_uw', 'Tsnow_1_0m_uw', 'Tsnow_1_1m_uw', 'Tsnow_1_2m_uw', 'Tsnow_1_3m_uw', 'Tsnow_1_4m_uw', 'Tsnow_1_5m_uw',\n",
    "]"
   ]
  },
  {
   "cell_type": "code",
   "execution_count": 24,
   "metadata": {},
   "outputs": [
    {
     "name": "stdout",
     "output_type": "stream",
     "text": [
      "Caching...skipping download for 20230315\n"
     ]
    }
   ],
   "source": [
    "# We make sure that we aren't accessing variables that don't exist in the datasets\n",
    "# This is necessary because some daily NetCDF files don't have all the expected variables\n",
    "# (for example because an instrument was down). In that case, we want to add that variable\n",
    "# to the dataset, filled with nans, which sosutils.merge_datasets_with_different_variables\n",
    "# handles for us\n",
    "datasets = []\n",
    "datasets_safe = []\n",
    "for date in datelist:\n",
    "    try:\n",
    "        ds = xr.open_dataset(sosutils.download_sos_data_day(date, sos_download_dir, cache=True))\n",
    "    # Some dates are missing\n",
    "    except URLError:\n",
    "        print(f\"failed on {date}, skipping\")\n",
    "    ds_new = ds[set(ds.data_vars).intersection(VARIABLE_NAMES)]\n",
    "    datasets.append(ds_new)\n",
    "    datasets_safe.append(ds_new)\n",
    "sos_ds = sosutils.merge_datasets_with_different_variables(datasets, dim='time')"
   ]
  },
  {
   "cell_type": "code",
   "execution_count": 25,
   "metadata": {},
   "outputs": [],
   "source": [
    "df = sosutils.get_tidy_dataset(\n",
    "    sos_ds,\n",
    "    [\n",
    "        'Tsnow_0_4m_d',\n",
    "        'Tsnow_0_5m_d',\n",
    "        'Tsnow_0_6m_d',\n",
    "        'Tsnow_0_7m_d',\n",
    "        'Tsnow_0_8m_d',\n",
    "        'Tsnow_0_9m_d',\n",
    "        'Tsnow_1_0m_d',\n",
    "        'Tsnow_1_1m_d',\n",
    "        'Tsnow_1_2m_d',\n",
    "        'Tsnow_1_3m_d',\n",
    "        'Tsnow_1_4m_d',\n",
    "        'Tsnow_1_5m_d',\n",
    "\n",
    "        'Tsnow_0_4m_uw',\n",
    "        'Tsnow_0_5m_uw',\n",
    "        'Tsnow_0_6m_uw',\n",
    "        'Tsnow_0_7m_uw',\n",
    "        'Tsnow_0_8m_uw',\n",
    "        'Tsnow_0_9m_uw',\n",
    "        'Tsnow_1_0m_uw',\n",
    "        'Tsnow_1_1m_uw',\n",
    "        'Tsnow_1_2m_uw',\n",
    "        'Tsnow_1_3m_uw',\n",
    "        'Tsnow_1_4m_uw',\n",
    "        'Tsnow_1_5m_uw',\n",
    "    ]\n",
    ")"
   ]
  },
  {
   "cell_type": "code",
   "execution_count": 26,
   "metadata": {},
   "outputs": [
    {
     "data": {
      "application/vnd.vegalite.v5+json": {
       "$schema": "https://vega.github.io/schema/vega-lite/v5.8.0.json",
       "config": {
        "view": {
         "continuousHeight": 300,
         "continuousWidth": 300
        }
       },
       "data": {
        "format": {
         "type": "json"
        },
        "url": "altair-data-0ed8b6d27729636090b1f6e20d628cbc.json"
       },
       "encoding": {
        "color": {
         "field": "height",
         "scale": {
          "scheme": "viridis"
         },
         "type": "ordinal"
        },
        "facet": {
         "columns": 1,
         "field": "tower",
         "type": "nominal"
        },
        "x": {
         "field": "time",
         "type": "temporal"
        },
        "y": {
         "field": "value",
         "type": "quantitative"
        }
       },
       "height": 250,
       "mark": {
        "type": "line"
       },
       "width": 900
      },
      "text/plain": [
       "<VegaLite 5 object>\n",
       "\n",
       "If you see this message, it means the renderer has not been properly enabled\n",
       "for the frontend that you are using. For more information, see\n",
       "https://altair-viz.github.io/user_guide/display_frontends.html#troubleshooting\n"
      ]
     },
     "execution_count": 26,
     "metadata": {},
     "output_type": "execute_result"
    }
   ],
   "source": [
    "alt.Chart(df).mark_line().encode(\n",
    "    alt.X(\"time:T\"),\n",
    "    alt.Y(\"value:Q\"),\n",
    "    alt.Color(\"height:O\").scale(scheme='viridis'),\n",
    "    alt.Facet(\"tower:N\", columns=1)\n",
    ").properties(width=900, height = 250)"
   ]
  },
  {
   "attachments": {},
   "cell_type": "markdown",
   "metadata": {},
   "source": [
    "The 2D heat equation is\n",
    "$$\n",
    "\\frac{\\partial}{\\partial t}  T(z,t) = \\alpha \\frac{\\partial^2}{\\partial z^2} T(z,t)\n",
    "$$\n",
    "\n",
    "We discretize this equation with\n",
    "\n",
    "$$z_i = i \\Delta z$$\n",
    "$$t_j = j \\Delta t$$\n",
    "$$T(z,t) = T_i^j$$\n",
    "\n",
    "Using a simple forward differencing scheme to estimate derivatives, we can discretize the above equation and solve for $k^2$.\n",
    "\n",
    "$$ \\alpha =  \\frac{T_i^{j+1} - T_i^{j}}{\\Delta t} \\Big( \\frac{\\Delta z^2}{T_{i+1}^{j} - 2 T_{i}^{j} + T_{i-1}^{j}} \\Big)$$\n",
    "\n",
    "Note that this scheme is numerically stable when \n",
    "\n",
    "$$ \\Delta t \\leq \\frac{\\Delta x^2}{4 k^2}$$\n",
    "\n",
    "The solution for $k^2$ allows us to solve for k for every data point in the (z,t) space that isn't on the edge of the (z,t) grid.\n",
    "\n",
    "In our dataset, $\\Delta t$ is 300 seconds and $\\Delta x$ is 0.1 meters. We now transform our dataset to be in a 2-D array."
   ]
  },
  {
   "cell_type": "code",
   "execution_count": 27,
   "metadata": {},
   "outputs": [],
   "source": [
    "Tsnow_d = np.array([\n",
    "    sos_ds['Tsnow_0_4m_d'].values,\n",
    "    sos_ds['Tsnow_0_5m_d'].values,\n",
    "    sos_ds['Tsnow_0_6m_d'].values,\n",
    "    sos_ds['Tsnow_0_7m_d'].values,\n",
    "    sos_ds['Tsnow_0_8m_d'].values,\n",
    "    sos_ds['Tsnow_0_9m_d'].values,\n",
    "    sos_ds['Tsnow_1_0m_d'].values,\n",
    "    sos_ds['Tsnow_1_1m_d'].values,\n",
    "    sos_ds['Tsnow_1_2m_d'].values,\n",
    "    sos_ds['Tsnow_1_3m_d'].values,\n",
    "    sos_ds['Tsnow_1_4m_d'].values,\n",
    "    sos_ds['Tsnow_1_5m_d'].values\n",
    "])\n",
    "\n",
    "Tsnow_uw = np.array([\n",
    "    sos_ds['Tsnow_0_4m_uw'].values,\n",
    "    sos_ds['Tsnow_0_5m_uw'].values,\n",
    "    sos_ds['Tsnow_0_6m_uw'].values,\n",
    "    sos_ds['Tsnow_0_7m_uw'].values,\n",
    "    sos_ds['Tsnow_0_8m_uw'].values,\n",
    "    sos_ds['Tsnow_0_9m_uw'].values,\n",
    "    sos_ds['Tsnow_1_0m_uw'].values,\n",
    "    sos_ds['Tsnow_1_1m_uw'].values,\n",
    "    sos_ds['Tsnow_1_2m_uw'].values,\n",
    "    sos_ds['Tsnow_1_3m_uw'].values,\n",
    "    sos_ds['Tsnow_1_4m_uw'].values,\n",
    "    sos_ds['Tsnow_1_5m_uw'].values\n",
    "])"
   ]
  },
  {
   "attachments": {},
   "cell_type": "markdown",
   "metadata": {},
   "source": [
    "This grid allows us to access our data with $i$ and $j$ indices like so:"
   ]
  },
  {
   "cell_type": "code",
   "execution_count": 28,
   "metadata": {},
   "outputs": [
    {
     "name": "stdout",
     "output_type": "stream",
     "text": [
      "-0.043280188\n",
      "-0.0450607\n",
      "-1.2413691\n",
      "-1.2393041\n"
     ]
    }
   ],
   "source": [
    "i = 0; j = 0\n",
    "print(Tsnow_d[i][j])\n",
    "i = 0; j = 1\n",
    "print(Tsnow_d[i][j])\n",
    "i = 1; j = 0\n",
    "print(Tsnow_d[i][j])\n",
    "i = 1; j = 1\n",
    "print(Tsnow_d[i][j])"
   ]
  },
  {
   "cell_type": "code",
   "execution_count": 29,
   "metadata": {},
   "outputs": [
    {
     "data": {
      "text/plain": [
       "(12, 288)"
      ]
     },
     "execution_count": 29,
     "metadata": {},
     "output_type": "execute_result"
    }
   ],
   "source": [
    "Tsnow_d.shape"
   ]
  },
  {
   "attachments": {},
   "cell_type": "markdown",
   "metadata": {},
   "source": [
    "Now we can step through our space and time grid. We have 12 spatial measurements each with 288 time steps.\n",
    "\n",
    "$i \\quad \\epsilon \\quad [0, 11]$\n",
    "\n",
    "$j \\quad \\epsilon \\quad [0, 287]$\n",
    "\n",
    "where $i$ corresponds to measurements between 0.4 and 1.5 meters, at 0.1 meter increments.\n",
    "\n",
    "Using our equation for $k^2$ above, repeated here\n",
    "\n",
    "$$ \\alpha =  \\frac{T_i^{j+1} - T_i^{j}}{\\Delta t} \\Big( \\frac{\\Delta z^2}{T_{i+1}^{j} - 2 T_{i}^{j} + T_{i-1}^{j}} \\Big)$$\n"
   ]
  },
  {
   "attachments": {},
   "cell_type": "markdown",
   "metadata": {},
   "source": [
    "We see that we can only calculate k^2 with the following subset of $i$ and $j$\n",
    "\n",
    "$i \\quad \\epsilon \\quad (0, 11)$\n",
    "\n",
    "$j \\quad \\epsilon \\quad [0, 287)$\n",
    "\n",
    "Let's step through this data and calculate k^2! But first let's convert to Kelvin :)."
   ]
  },
  {
   "cell_type": "code",
   "execution_count": 30,
   "metadata": {},
   "outputs": [],
   "source": [
    "Tsnow_d = Tsnow_d + 273.15\n",
    "Tsnow_uw = Tsnow_uw + 273.15"
   ]
  },
  {
   "cell_type": "code",
   "execution_count": 31,
   "metadata": {},
   "outputs": [],
   "source": [
    "delta_z = 0.1\n",
    "delta_t = 300\n",
    "\n",
    "alpha_d = np.zeros_like(Tsnow_d)\n",
    "alpha_uw = np.zeros_like(Tsnow_uw)\n",
    "for i in range(1,11):\n",
    "    for j in range(0, 287):\n",
    "        alpha_d[i][j] = (\n",
    "            (Tsnow_d[i][j+1] - Tsnow_d[i][j])/delta_t\n",
    "        )*(\n",
    "            delta_z**2 / ( Tsnow_d[i+1][j] - 2*Tsnow_d[i][j] + Tsnow_d[i-1][j])\n",
    "        )\n",
    "\n",
    "        alpha_uw[i][j] = (\n",
    "            (Tsnow_uw[i][j+1] - Tsnow_uw[i][j])/delta_t\n",
    "        )*(\n",
    "            delta_z**2 / ( Tsnow_uw[i+1][j] - 2*Tsnow_uw[i][j] + Tsnow_uw[i-1][j])\n",
    "        )"
   ]
  },
  {
   "cell_type": "code",
   "execution_count": 32,
   "metadata": {},
   "outputs": [
    {
     "data": {
      "text/plain": [
       "(7.126021e-08, 2.7379741e-08, 0.0007872549, -0.0008510101)"
      ]
     },
     "execution_count": 32,
     "metadata": {},
     "output_type": "execute_result"
    }
   ],
   "source": [
    "np.nanmean(alpha_d), np.nanmedian(alpha_d), np.max(alpha_d), np.min(alpha_d)"
   ]
  },
  {
   "cell_type": "code",
   "execution_count": 33,
   "metadata": {},
   "outputs": [
    {
     "data": {
      "text/plain": [
       "(-1.0018993e-07, 0.0, 7.962963e-05, -0.00017700618)"
      ]
     },
     "execution_count": 33,
     "metadata": {},
     "output_type": "execute_result"
    }
   ],
   "source": [
    "np.nanmean(alpha_uw), np.nanmedian(alpha_uw), np.max(alpha_uw), np.min(alpha_uw)"
   ]
  },
  {
   "cell_type": "code",
   "execution_count": 34,
   "metadata": {},
   "outputs": [
    {
     "data": {
      "application/vnd.vegalite.v5+json": {
       "$schema": "https://vega.github.io/schema/vega-lite/v5.8.0.json",
       "config": {
        "view": {
         "continuousHeight": 300,
         "continuousWidth": 300
        }
       },
       "data": {
        "format": {
         "type": "json"
        },
        "url": "altair-data-43849c17f3f7f8c1c22a7e756b33b005.json"
       },
       "encoding": {
        "facet": {
         "field": "key",
         "title": null,
         "type": "nominal"
        },
        "x": {
         "field": "value",
         "title": "α",
         "type": "quantitative"
        },
        "y": {
         "aggregate": "count",
         "type": "quantitative"
        }
       },
       "height": 150,
       "mark": {
        "type": "bar"
       },
       "transform": [
        {
         "fold": [
          "thermal diffusivity (tower d)",
          "thermal diffusivity (tower uw)"
         ]
        }
       ]
      },
      "text/plain": [
       "<VegaLite 5 object>\n",
       "\n",
       "If you see this message, it means the renderer has not been properly enabled\n",
       "for the frontend that you are using. For more information, see\n",
       "https://altair-viz.github.io/user_guide/display_frontends.html#troubleshooting\n"
      ]
     },
     "execution_count": 34,
     "metadata": {},
     "output_type": "execute_result"
    }
   ],
   "source": [
    "src = pd.DataFrame({\n",
    "    'thermal diffusivity (tower d)': alpha_d.flatten(),\n",
    "    'thermal diffusivity (tower uw)': alpha_uw.flatten()\n",
    "})\n",
    "alt.Chart(src).mark_bar().transform_fold(\n",
    "    ['thermal diffusivity (tower d)', 'thermal diffusivity (tower uw)']\n",
    ").encode(\n",
    "    alt.X(\"value:Q\").title(\"α\"),\n",
    "    alt.Y(\"count():Q\"),\n",
    "    alt.Facet(\"key:N\").title(None)\n",
    ").properties(height=150)"
   ]
  },
  {
   "cell_type": "code",
   "execution_count": null,
   "metadata": {},
   "outputs": [],
   "source": []
  }
 ],
 "metadata": {
  "kernelspec": {
   "display_name": "arm",
   "language": "python",
   "name": "python3"
  },
  "language_info": {
   "codemirror_mode": {
    "name": "ipython",
    "version": 3
   },
   "file_extension": ".py",
   "mimetype": "text/x-python",
   "name": "python",
   "nbconvert_exporter": "python",
   "pygments_lexer": "ipython3",
   "version": "3.11.0"
  },
  "orig_nbformat": 4
 },
 "nbformat": 4,
 "nbformat_minor": 2
}
