{
 "cells": [
  {
   "cell_type": "code",
   "execution_count": 1,
   "metadata": {},
   "outputs": [],
   "source": [
    "import datetime as dt\n",
    "import pandas as pd\n",
    "import os\n",
    "import requests\n",
    "import cv2"
   ]
  },
  {
   "cell_type": "code",
   "execution_count": 2,
   "metadata": {},
   "outputs": [],
   "source": [
    "download_dir = '/data2/elilouis/sublimationofsnow/eol_photos/'"
   ]
  },
  {
   "cell_type": "code",
   "execution_count": 8,
   "metadata": {},
   "outputs": [],
   "source": [
    "start_date = '20230501'\n",
    "end_date = '20230525'\n",
    "DATE_FORMAT_STR = '%Y%m%d'"
   ]
  },
  {
   "cell_type": "code",
   "execution_count": 9,
   "metadata": {},
   "outputs": [],
   "source": [
    "def get_url(date):\n",
    "    return \\\n",
    "    f\"https://archive.eol.ucar.edu/docs/isf/projects/SOS/isfs/qcdata/images/{date}/surface.ISFS.{date}0002.photo.jpg\"\n",
    "\n",
    "def download(url: str, dest_folder: str):\n",
    "    if not os.path.exists(dest_folder):\n",
    "        os.makedirs(dest_folder)  # create folder if it does not exist\n",
    "\n",
    "    filename = url.split('/')[-1].replace(\" \", \"_\")  # be careful with file names\n",
    "    file_path = os.path.join(dest_folder, filename)\n",
    "\n",
    "    r = requests.get(url, stream=True)\n",
    "    if r.ok:\n",
    "        print(\"saving to\", os.path.abspath(file_path))\n",
    "        with open(file_path, 'wb') as f:\n",
    "            for chunk in r.iter_content(chunk_size=1024 * 8):\n",
    "                if chunk:\n",
    "                    f.write(chunk)\n",
    "                    f.flush()\n",
    "                    os.fsync(f.fileno())\n",
    "    else:  # HTTP status code 4XX/5XX\n",
    "        print(\"Download failed: status code {}\\n{}\".format(r.status_code, r.text))\n"
   ]
  },
  {
   "cell_type": "code",
   "execution_count": 10,
   "metadata": {},
   "outputs": [],
   "source": [
    "datelist = pd.date_range(\n",
    "    dt.datetime.strptime(start_date, DATE_FORMAT_STR),\n",
    "    dt.datetime.strptime(end_date, DATE_FORMAT_STR),\n",
    "    freq='d'\n",
    ").strftime(DATE_FORMAT_STR).tolist()\n"
   ]
  },
  {
   "cell_type": "code",
   "execution_count": 11,
   "metadata": {},
   "outputs": [
    {
     "name": "stdout",
     "output_type": "stream",
     "text": [
      "downloading: 20230501\n",
      "saving to /data2/elilouis/sublimationofsnow/eol_photos/surface.ISFS.202305010002.photo.jpg\n",
      "downloading: 20230502\n",
      "saving to /data2/elilouis/sublimationofsnow/eol_photos/surface.ISFS.202305020002.photo.jpg\n",
      "downloading: 20230503\n",
      "saving to /data2/elilouis/sublimationofsnow/eol_photos/surface.ISFS.202305030002.photo.jpg\n",
      "downloading: 20230504\n",
      "saving to /data2/elilouis/sublimationofsnow/eol_photos/surface.ISFS.202305040002.photo.jpg\n",
      "downloading: 20230505\n",
      "saving to /data2/elilouis/sublimationofsnow/eol_photos/surface.ISFS.202305050002.photo.jpg\n",
      "downloading: 20230506\n",
      "saving to /data2/elilouis/sublimationofsnow/eol_photos/surface.ISFS.202305060002.photo.jpg\n",
      "downloading: 20230507\n",
      "saving to /data2/elilouis/sublimationofsnow/eol_photos/surface.ISFS.202305070002.photo.jpg\n",
      "downloading: 20230508\n",
      "saving to /data2/elilouis/sublimationofsnow/eol_photos/surface.ISFS.202305080002.photo.jpg\n",
      "downloading: 20230509\n",
      "saving to /data2/elilouis/sublimationofsnow/eol_photos/surface.ISFS.202305090002.photo.jpg\n",
      "downloading: 20230510\n",
      "saving to /data2/elilouis/sublimationofsnow/eol_photos/surface.ISFS.202305100002.photo.jpg\n",
      "downloading: 20230511\n",
      "saving to /data2/elilouis/sublimationofsnow/eol_photos/surface.ISFS.202305110002.photo.jpg\n",
      "downloading: 20230512\n",
      "saving to /data2/elilouis/sublimationofsnow/eol_photos/surface.ISFS.202305120002.photo.jpg\n",
      "downloading: 20230513\n",
      "saving to /data2/elilouis/sublimationofsnow/eol_photos/surface.ISFS.202305130002.photo.jpg\n",
      "downloading: 20230514\n",
      "saving to /data2/elilouis/sublimationofsnow/eol_photos/surface.ISFS.202305140002.photo.jpg\n",
      "downloading: 20230515\n",
      "saving to /data2/elilouis/sublimationofsnow/eol_photos/surface.ISFS.202305150002.photo.jpg\n",
      "downloading: 20230516\n",
      "saving to /data2/elilouis/sublimationofsnow/eol_photos/surface.ISFS.202305160002.photo.jpg\n",
      "downloading: 20230517\n",
      "saving to /data2/elilouis/sublimationofsnow/eol_photos/surface.ISFS.202305170002.photo.jpg\n",
      "downloading: 20230518\n",
      "saving to /data2/elilouis/sublimationofsnow/eol_photos/surface.ISFS.202305180002.photo.jpg\n",
      "downloading: 20230519\n",
      "saving to /data2/elilouis/sublimationofsnow/eol_photos/surface.ISFS.202305190002.photo.jpg\n",
      "downloading: 20230520\n",
      "saving to /data2/elilouis/sublimationofsnow/eol_photos/surface.ISFS.202305200002.photo.jpg\n",
      "downloading: 20230521\n",
      "saving to /data2/elilouis/sublimationofsnow/eol_photos/surface.ISFS.202305210002.photo.jpg\n",
      "downloading: 20230522\n",
      "saving to /data2/elilouis/sublimationofsnow/eol_photos/surface.ISFS.202305220002.photo.jpg\n",
      "downloading: 20230523\n",
      "saving to /data2/elilouis/sublimationofsnow/eol_photos/surface.ISFS.202305230002.photo.jpg\n",
      "downloading: 20230524\n",
      "saving to /data2/elilouis/sublimationofsnow/eol_photos/surface.ISFS.202305240002.photo.jpg\n",
      "downloading: 20230525\n",
      "saving to /data2/elilouis/sublimationofsnow/eol_photos/surface.ISFS.202305250002.photo.jpg\n"
     ]
    }
   ],
   "source": [
    "for date in datelist:\n",
    "    print(f\"downloading: {date}\")\n",
    "    download(\n",
    "        get_url(date),\n",
    "        download_dir\n",
    "    )\n",
    "    assert os.path.isfile(\n",
    "        os.path.join(download_dir, f\"surface.ISFS.{date}0002.photo.jpg\")\n",
    "    )"
   ]
  },
  {
   "cell_type": "code",
   "execution_count": 20,
   "metadata": {},
   "outputs": [],
   "source": [
    "\n",
    "import os\n",
    "\n",
    "image_folder = download_dir\n",
    "video_name = 'video.avi'\n",
    "\n",
    "images = [img for img in os.listdir(image_folder) if img.endswith(\".jpg\")]\n",
    "frame = cv2.imread(os.path.join(image_folder, images[0]))\n",
    "height, width, layers = frame.shape\n",
    "\n",
    "video = cv2.VideoWriter(video_name, 0, 1, (width,height))\n",
    "\n",
    "for image in images:\n",
    "    video.write(cv2.imread(os.path.join(image_folder, image)))\n",
    "\n",
    "cv2.destroyAllWindows()\n",
    "video.release()\n"
   ]
  },
  {
   "cell_type": "code",
   "execution_count": 25,
   "metadata": {},
   "outputs": [
    {
     "name": "stdout",
     "output_type": "stream",
     "text": [
      "disdro_daily_max_precip_date_df.csv\n",
      "evaporation_or_sublimation.ipynb\n",
      "low_level_jet_analysis.ipynb\n",
      "make_timelapse_video.ipynb\n",
      "monthly_planar_fits.csv\n",
      "Stossel_box_weights - Sheet1.csv\n",
      "tidy_df_30Min_20221201_20230501_planar_fit.csv\n",
      "tidy_df_30Min.csv\n",
      "tidy_df_30Min_noplanar_fit.csv\n",
      "tidy_df_30Min_planar_fit.csv\n",
      "video.avi\n"
     ]
    }
   ],
   "source": [
    "ls | grep v"
   ]
  },
  {
   "cell_type": "code",
   "execution_count": null,
   "metadata": {},
   "outputs": [],
   "source": []
  }
 ],
 "metadata": {
  "kernelspec": {
   "display_name": "arm",
   "language": "python",
   "name": "python3"
  },
  "language_info": {
   "codemirror_mode": {
    "name": "ipython",
    "version": 3
   },
   "file_extension": ".py",
   "mimetype": "text/x-python",
   "name": "python",
   "nbconvert_exporter": "python",
   "pygments_lexer": "ipython3",
   "version": "3.11.0"
  },
  "orig_nbformat": 4
 },
 "nbformat": 4,
 "nbformat_minor": 2
}
