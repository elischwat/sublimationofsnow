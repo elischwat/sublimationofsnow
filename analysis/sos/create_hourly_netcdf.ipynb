{
 "cells": [
  {
   "cell_type": "code",
   "execution_count": 1,
   "metadata": {},
   "outputs": [],
   "source": [
    "import xarray as xr\n",
    "import glob\n",
    "import os\n",
    "from sublimpy import utils\n",
    "import numpy as np \n",
    "import pandas as pd\n",
    "pd.set_option(\"display.max_rows\",300)\n",
    "import altair as alt"
   ]
  },
  {
   "cell_type": "code",
   "execution_count": 2,
   "metadata": {},
   "outputs": [],
   "source": [
    "filepath = \"/Users/elischwat/Development/data/sublimationofsnow/sosqc/sos_qc_geo_tiltcor_v20240307/\"\n",
    "files = glob.glob(os.path.join(filepath, \"*.nc\"))"
   ]
  },
  {
   "cell_type": "code",
   "execution_count": 3,
   "metadata": {},
   "outputs": [],
   "source": [
    "# sort files and remove datasets before November\n",
    "files = sorted(files)[3:] # should be [3:]"
   ]
  },
  {
   "cell_type": "markdown",
   "metadata": {},
   "source": [
    "# Combine daily datasets into a season-long 5min dataset \n",
    "\n",
    "Include only eddy covariance latent heat flux measurements"
   ]
  },
  {
   "cell_type": "code",
   "execution_count": 4,
   "metadata": {},
   "outputs": [],
   "source": [
    "vars_i_want_1 = [\n",
    "        'w_h2o__3m_c',    'w_tc__3m_c',  'w_3m_c',   'h2o_3m_c',  'tc_3m_c',  'irgadiag_3m_c',  'ldiag_3m_c',  'counts_3m_c',  'counts_3m_c_1',  'counts_3m_c_2',   \n",
    "        'w_h2o__5m_c',    'w_tc__5m_c',  'w_5m_c',   'h2o_5m_c',  'tc_5m_c',  'irgadiag_5m_c',  'ldiag_5m_c',  'counts_5m_c',  'counts_5m_c_1',  'counts_5m_c_2',   \n",
    "        'w_h2o__10m_c',   'w_tc__10m_c', 'w_10m_c',  'h2o_10m_c', 'tc_10m_c', 'irgadiag_10m_c', 'ldiag_10m_c', 'counts_10m_c', 'counts_10m_c_1', 'counts_10m_c_2',  \n",
    "        'w_h2o__15m_c',   'w_tc__15m_c', 'w_15m_c',  'h2o_15m_c', 'tc_15m_c', 'irgadiag_15m_c', 'ldiag_15m_c', 'counts_15m_c', 'counts_15m_c_1', 'counts_15m_c_2',  \n",
    "        'w_h2o__20m_c',   'w_tc__20m_c', 'w_20m_c',  'h2o_20m_c', 'tc_20m_c', 'irgadiag_20m_c', 'ldiag_20m_c', 'counts_20m_c', 'counts_20m_c_1', 'counts_20m_c_2',  \n",
    "        'w_h2o__3m_ue',   'w_tc__3m_ue', 'w_3m_ue',  'h2o_3m_ue', 'tc_3m_ue', 'irgadiag_3m_ue', 'ldiag_3m_ue', 'counts_3m_ue', 'counts_3m_ue_1', 'counts_3m_ue_2',  \n",
    "        'w_h2o__10m_ue',  'w_tc__10m_ue','w_10m_ue', 'h2o_10m_ue','tc_10m_ue','irgadiag_10m_ue','ldiag_10m_ue','counts_10m_ue','counts_10m_ue_1','counts_10m_ue_2', \n",
    "        'w_h2o__3m_uw',   'w_tc__3m_uw', 'w_3m_uw',  'h2o_3m_uw', 'tc_3m_uw', 'irgadiag_3m_uw', 'ldiag_3m_uw', 'counts_3m_uw', 'counts_3m_uw_1', 'counts_3m_uw_2',  \n",
    "        'w_h2o__10m_uw',  'w_tc__10m_uw','w_10m_uw', 'h2o_10m_uw','tc_10m_uw','irgadiag_10m_uw','ldiag_10m_uw','counts_10m_uw','counts_10m_uw_1','counts_10m_uw_2', \n",
    "        'w_h2o__3m_d',    'w_tc__3m_d',  'w_3m_d',   'h2o_3m_d',  'tc_3m_d',  'irgadiag_3m_d',  'ldiag_3m_d',  'counts_3m_d',  'counts_3m_d_1',  'counts_3m_d_2',   \n",
    "        'w_h2o__10m_d',   'w_tc__10m_d', 'w_10m_d',  'h2o_10m_d', 'tc_10m_d', 'irgadiag_10m_d', 'ldiag_10m_d', 'counts_10m_d', 'counts_10m_d_1', 'counts_10m_d_2',  \n",
    "    ]\n",
    "vars_i_want_2 = [\n",
    "    'u_u_u__3m_c',      'v_v_v__3m_c',          'w_w_w__3m_c',      'tc_tc_tc__3m_c',\n",
    "    'u_u_u__5m_c',      'v_v_v__5m_c',          'w_w_w__5m_c',      'tc_tc_tc__5m_c',\n",
    "    'u_u_u__10m_c',     'v_v_v__10m_c',         'w_w_w__10m_c',     'tc_tc_tc__10m_c',\n",
    "    'u_u_u__15m_c',     'v_v_v__15m_c',         'w_w_w__15m_c',     'tc_tc_tc__15m_c',\n",
    "    'u_u_u__20m_c',     'v_v_v__20m_c',         'w_w_w__20m_c',     'tc_tc_tc__20m_c',\n",
    "    'u_u_u__3m_ue',     'v_v_v__3m_ue',         'w_w_w__3m_ue',     'tc_tc_tc__3m_ue',\n",
    "    'u_u_u__10m_ue',    'v_v_v__10m_ue',        'w_w_w__10m_ue',    'tc_tc_tc__10m_ue',    \n",
    "    'u_u_u__3m_uw',     'v_v_v__3m_uw',         'w_w_w__3m_uw',     'tc_tc_tc__3m_uw',\n",
    "    'u_u_u__10m_uw',    'v_v_v__10m_uw',        'w_w_w__10m_uw',    'tc_tc_tc__10m_uw',    \n",
    "    'u_u_u__3m_d',      'v_v_v__3m_d',          'w_w_w__3m_d',      'tc_tc_tc__3m_d',\n",
    "    'u_u_u__10m_d',     'v_v_v__10m_d',         'w_w_w__10m_d',     'tc_tc_tc__10m_d',\n",
    "]\n",
    "all_vars_i_want = vars_i_want_1 + vars_i_want_2\n",
    "datasets = []\n",
    "for fn in files:\n",
    "    ds = xr.open_dataset(fn)\n",
    "    vars_to_grab = []\n",
    "    for var in all_vars_i_want:\n",
    "        if var in ds:\n",
    "            vars_to_grab.append(var)\n",
    "    ds = ds[vars_to_grab]\n",
    "    datasets.append(ds)"
   ]
  },
  {
   "cell_type": "code",
   "execution_count": 5,
   "metadata": {},
   "outputs": [],
   "source": [
    "sos_ds = xr.concat(datasets, dim='time')"
   ]
  },
  {
   "cell_type": "code",
   "execution_count": 6,
   "metadata": {},
   "outputs": [],
   "source": [
    "sos_ds = utils.fill_missing_timestamps(sos_ds)"
   ]
  },
  {
   "cell_type": "code",
   "execution_count": 7,
   "metadata": {},
   "outputs": [
    {
     "name": "stdout",
     "output_type": "stream",
     "text": [
      "w_h2o__3m_c 4575\n",
      "w_h2o__5m_c 6424\n",
      "w_h2o__10m_c 3486\n",
      "w_h2o__15m_c 1467\n",
      "w_h2o__20m_c 5257\n",
      "w_h2o__3m_ue 6654\n",
      "w_h2o__10m_ue 5583\n",
      "w_h2o__3m_uw 6274\n",
      "w_h2o__10m_uw 7646\n",
      "w_h2o__3m_d 6816\n",
      "w_h2o__10m_d 6157\n"
     ]
    }
   ],
   "source": [
    "print('w_h2o__3m_c',    np.isnan(sos_ds['w_h2o__3m_c']).sum().item())\n",
    "print('w_h2o__5m_c',    np.isnan(sos_ds['w_h2o__5m_c']).sum().item())\n",
    "print('w_h2o__10m_c',   np.isnan(sos_ds['w_h2o__10m_c']).sum().item())\n",
    "print('w_h2o__15m_c',   np.isnan(sos_ds['w_h2o__15m_c']).sum().item())\n",
    "print('w_h2o__20m_c',   np.isnan(sos_ds['w_h2o__20m_c']).sum().item())\n",
    "print('w_h2o__3m_ue',   np.isnan(sos_ds['w_h2o__3m_ue']).sum().item())\n",
    "print('w_h2o__10m_ue',  np.isnan(sos_ds['w_h2o__10m_ue']).sum().item())\n",
    "print('w_h2o__3m_uw',   np.isnan(sos_ds['w_h2o__3m_uw']).sum().item())\n",
    "print('w_h2o__10m_uw',  np.isnan(sos_ds['w_h2o__10m_uw']).sum().item())\n",
    "print('w_h2o__3m_d',    np.isnan(sos_ds['w_h2o__3m_d']).sum().item())\n",
    "print('w_h2o__10m_d',   np.isnan(sos_ds['w_h2o__10m_d']).sum().item())"
   ]
  },
  {
   "cell_type": "markdown",
   "metadata": {},
   "source": [
    "# Assign nans when the irgaflags are non-zero"
   ]
  },
  {
   "cell_type": "code",
   "execution_count": 8,
   "metadata": {},
   "outputs": [],
   "source": [
    "# assign nans to lh flux measurements when theres a non-zero irga flag\n",
    "sos_ds['w_h2o__3m_c'] =     sos_ds['w_h2o__3m_c'].where(sos_ds['irgadiag_3m_c'] == 0)\n",
    "sos_ds['w_h2o__5m_c'] =     sos_ds['w_h2o__5m_c'].where(sos_ds['irgadiag_5m_c'] == 0)\n",
    "sos_ds['w_h2o__10m_c'] =    sos_ds['w_h2o__10m_c'].where(sos_ds['irgadiag_10m_c'] == 0)\n",
    "sos_ds['w_h2o__15m_c'] =    sos_ds['w_h2o__15m_c'].where(sos_ds['irgadiag_15m_c'] == 0)\n",
    "sos_ds['w_h2o__20m_c'] =    sos_ds['w_h2o__20m_c'].where(sos_ds['irgadiag_20m_c'] == 0)\n",
    "sos_ds['w_h2o__3m_ue'] =    sos_ds['w_h2o__3m_ue'].where(sos_ds['irgadiag_3m_ue'] == 0)\n",
    "sos_ds['w_h2o__10m_ue'] =   sos_ds['w_h2o__10m_ue'].where(sos_ds['irgadiag_10m_ue'] == 0)\n",
    "sos_ds['w_h2o__3m_uw'] =    sos_ds['w_h2o__3m_uw'].where(sos_ds['irgadiag_3m_uw'] == 0)\n",
    "sos_ds['w_h2o__10m_uw'] =   sos_ds['w_h2o__10m_uw'].where(sos_ds['irgadiag_10m_uw'] == 0)\n",
    "sos_ds['w_h2o__3m_d'] =     sos_ds['w_h2o__3m_d'].where(sos_ds['irgadiag_3m_d'] == 0)\n",
    "sos_ds['w_h2o__10m_d'] =    sos_ds['w_h2o__10m_d'].where(sos_ds['irgadiag_10m_d'] == 0)\n",
    "\n",
    "# assign nans to h2o measurements when theres a non-zero irga flag\n",
    "sos_ds['h2o_3m_c'] =     sos_ds['h2o_3m_c'].where(sos_ds['irgadiag_3m_c'] == 0)\n",
    "sos_ds['h2o_5m_c'] =     sos_ds['h2o_5m_c'].where(sos_ds['irgadiag_5m_c'] == 0)\n",
    "sos_ds['h2o_10m_c'] =    sos_ds['h2o_10m_c'].where(sos_ds['irgadiag_10m_c'] == 0)\n",
    "sos_ds['h2o_15m_c'] =    sos_ds['h2o_15m_c'].where(sos_ds['irgadiag_15m_c'] == 0)\n",
    "sos_ds['h2o_20m_c'] =    sos_ds['h2o_20m_c'].where(sos_ds['irgadiag_20m_c'] == 0)\n",
    "sos_ds['h2o_3m_ue'] =    sos_ds['h2o_3m_ue'].where(sos_ds['irgadiag_3m_ue'] == 0)\n",
    "sos_ds['h2o_10m_ue'] =   sos_ds['h2o_10m_ue'].where(sos_ds['irgadiag_10m_ue'] == 0)\n",
    "sos_ds['h2o_3m_uw'] =    sos_ds['h2o_3m_uw'].where(sos_ds['irgadiag_3m_uw'] == 0)\n",
    "sos_ds['h2o_10m_uw'] =   sos_ds['h2o_10m_uw'].where(sos_ds['irgadiag_10m_uw'] == 0)\n",
    "sos_ds['h2o_3m_d'] =     sos_ds['h2o_3m_d'].where(sos_ds['irgadiag_3m_d'] == 0)\n",
    "sos_ds['h2o_10m_d'] =    sos_ds['h2o_10m_d'].where(sos_ds['irgadiag_10m_d'] == 0)"
   ]
  },
  {
   "cell_type": "code",
   "execution_count": 9,
   "metadata": {},
   "outputs": [
    {
     "name": "stdout",
     "output_type": "stream",
     "text": [
      "w_h2o__3m_c 7444\n",
      "w_h2o__5m_c 8593\n",
      "w_h2o__10m_c 6260\n",
      "w_h2o__15m_c 10735\n",
      "w_h2o__20m_c 11917\n",
      "w_h2o__3m_ue 7767\n",
      "w_h2o__10m_ue 9704\n",
      "w_h2o__3m_uw 7403\n",
      "w_h2o__10m_uw 10310\n",
      "w_h2o__3m_d 9461\n",
      "w_h2o__10m_d 8716\n"
     ]
    }
   ],
   "source": [
    "print('w_h2o__3m_c',    np.isnan(sos_ds['w_h2o__3m_c']).sum().item())\n",
    "print('w_h2o__5m_c',    np.isnan(sos_ds['w_h2o__5m_c']).sum().item())\n",
    "print('w_h2o__10m_c',   np.isnan(sos_ds['w_h2o__10m_c']).sum().item())\n",
    "print('w_h2o__15m_c',   np.isnan(sos_ds['w_h2o__15m_c']).sum().item())\n",
    "print('w_h2o__20m_c',   np.isnan(sos_ds['w_h2o__20m_c']).sum().item())\n",
    "print('w_h2o__3m_ue',   np.isnan(sos_ds['w_h2o__3m_ue']).sum().item())\n",
    "print('w_h2o__10m_ue',  np.isnan(sos_ds['w_h2o__10m_ue']).sum().item())\n",
    "print('w_h2o__3m_uw',   np.isnan(sos_ds['w_h2o__3m_uw']).sum().item())\n",
    "print('w_h2o__10m_uw',  np.isnan(sos_ds['w_h2o__10m_uw']).sum().item())\n",
    "print('w_h2o__3m_d',    np.isnan(sos_ds['w_h2o__3m_d']).sum().item())\n",
    "print('w_h2o__10m_d',   np.isnan(sos_ds['w_h2o__10m_d']).sum().item())"
   ]
  },
  {
   "cell_type": "markdown",
   "metadata": {},
   "source": [
    "# Assign nans when skewness of temperature and wind components is outside range [-2,2]"
   ]
  },
  {
   "cell_type": "code",
   "execution_count": 10,
   "metadata": {},
   "outputs": [],
   "source": [
    "# def skewness_is_outside_range(suffix = '3m_c'):\n",
    "#     u_skewness_flag = np.abs(sos_ds[f\"u_u_u__{suffix}\"]) > 2\n",
    "#     v_skewness_flag = np.abs(sos_ds[f\"v_v_v__{suffix}\"]) > 2\n",
    "#     w_skewness_flag = np.abs(sos_ds[f\"w_w_w__{suffix}\"]) > 2\n",
    "#     tc_skewness_flag = np.abs(sos_ds[f\"tc_tc_tc__{suffix}\"]) > 2\n",
    "#     return np.logical_or(\n",
    "#         np.logical_or(\n",
    "#             np.logical_or(\n",
    "#                 u_skewness_flag,\n",
    "#                 v_skewness_flag\n",
    "#             ),\n",
    "#             w_skewness_flag\n",
    "#         ),\n",
    "#         tc_skewness_flag\n",
    "#     )\n",
    "\n",
    "# sos_ds['w_h2o__3m_c'].loc[skewness_is_outside_range('3m_c')] = np.nan\n",
    "# sos_ds['w_h2o__5m_c'].loc[skewness_is_outside_range('5m_c')] = np.nan\n",
    "# sos_ds['w_h2o__10m_c'].loc[skewness_is_outside_range('10m_c')] = np.nan\n",
    "# sos_ds['w_h2o__15m_c'].loc[skewness_is_outside_range('15m_c')] = np.nan\n",
    "# sos_ds['w_h2o__20m_c'].loc[skewness_is_outside_range('20m_c')] = np.nan\n",
    "# sos_ds['w_h2o__3m_ue'].loc[skewness_is_outside_range('3m_ue')] = np.nan\n",
    "# sos_ds['w_h2o__10m_ue'].loc[skewness_is_outside_range('10m_ue')] = np.nan\n",
    "# sos_ds['w_h2o__3m_uw'].loc[skewness_is_outside_range('3m_uw')] = np.nan\n",
    "# sos_ds['w_h2o__10m_uw'].loc[skewness_is_outside_range('10m_uw')] = np.nan\n",
    "# sos_ds['w_h2o__3m_d'].loc[skewness_is_outside_range('3m_d')] = np.nan\n",
    "# sos_ds['w_h2o__10m_d'].loc[skewness_is_outside_range('10m_d')] = np.nan\n",
    "\n",
    "# sos_ds['w_tc__3m_c'].loc[skewness_is_outside_range('3m_c')] = np.nan\n",
    "# sos_ds['w_tc__5m_c'].loc[skewness_is_outside_range('5m_c')] = np.nan\n",
    "# sos_ds['w_tc__10m_c'].loc[skewness_is_outside_range('10m_c')] = np.nan\n",
    "# sos_ds['w_tc__15m_c'].loc[skewness_is_outside_range('15m_c')] = np.nan\n",
    "# sos_ds['w_tc__20m_c'].loc[skewness_is_outside_range('20m_c')] = np.nan\n",
    "# sos_ds['w_tc__3m_ue'].loc[skewness_is_outside_range('3m_ue')] = np.nan\n",
    "# sos_ds['w_tc__10m_ue'].loc[skewness_is_outside_range('10m_ue')] = np.nan\n",
    "# sos_ds['w_tc__3m_uw'].loc[skewness_is_outside_range('3m_uw')] = np.nan\n",
    "# sos_ds['w_tc__10m_uw'].loc[skewness_is_outside_range('10m_uw')] = np.nan\n",
    "# sos_ds['w_tc__3m_d'].loc[skewness_is_outside_range('3m_d')] = np.nan\n",
    "# sos_ds['w_tc__10m_d'].loc[skewness_is_outside_range('10m_d')] = np.nan"
   ]
  },
  {
   "cell_type": "code",
   "execution_count": 11,
   "metadata": {},
   "outputs": [],
   "source": [
    "# print('w_h2o__3m_c',    np.isnan(sos_ds['w_h2o__3m_c']).sum().item())\n",
    "# print('w_h2o__5m_c',    np.isnan(sos_ds['w_h2o__5m_c']).sum().item())\n",
    "# print('w_h2o__10m_c',   np.isnan(sos_ds['w_h2o__10m_c']).sum().item())\n",
    "# print('w_h2o__15m_c',   np.isnan(sos_ds['w_h2o__15m_c']).sum().item())\n",
    "# print('w_h2o__20m_c',   np.isnan(sos_ds['w_h2o__20m_c']).sum().item())\n",
    "# print('w_h2o__3m_ue',   np.isnan(sos_ds['w_h2o__3m_ue']).sum().item())\n",
    "# print('w_h2o__10m_ue',  np.isnan(sos_ds['w_h2o__10m_ue']).sum().item())\n",
    "# print('w_h2o__3m_uw',   np.isnan(sos_ds['w_h2o__3m_uw']).sum().item())\n",
    "# print('w_h2o__10m_uw',  np.isnan(sos_ds['w_h2o__10m_uw']).sum().item())\n",
    "# print('w_h2o__3m_d',    np.isnan(sos_ds['w_h2o__3m_d']).sum().item())\n",
    "# print('w_h2o__10m_d',   np.isnan(sos_ds['w_h2o__10m_d']).sum().item())"
   ]
  },
  {
   "cell_type": "markdown",
   "metadata": {},
   "source": [
    "# Assign nans when ldiag > 0.01 (NCAR recommended, from ISFS_netCDF_FileConventions.pdf)\n",
    "\n",
    "\"The average of ldiag is then the fraction of time over each average period that\n",
    "diagbits was non-zero.\""
   ]
  },
  {
   "cell_type": "code",
   "execution_count": 12,
   "metadata": {},
   "outputs": [],
   "source": [
    "# sos_ds['w_h2o__3m_c'] =     sos_ds['w_h2o__3m_c'].where(sos_ds['ldiag_3m_c'] <= 0.01)\n",
    "# sos_ds['w_h2o__5m_c'] =     sos_ds['w_h2o__5m_c'].where(sos_ds['ldiag_5m_c'] <= 0.01)\n",
    "# sos_ds['w_h2o__10m_c'] =    sos_ds['w_h2o__10m_c'].where(sos_ds['ldiag_10m_c'] <= 0.01)\n",
    "# sos_ds['w_h2o__15m_c'] =    sos_ds['w_h2o__15m_c'].where(sos_ds['ldiag_15m_c'] <= 0.01)\n",
    "# sos_ds['w_h2o__20m_c'] =    sos_ds['w_h2o__20m_c'].where(sos_ds['ldiag_20m_c'] <= 0.01)\n",
    "# sos_ds['w_h2o__3m_ue'] =    sos_ds['w_h2o__3m_ue'].where(sos_ds['ldiag_3m_ue'] <= 0.01)\n",
    "# sos_ds['w_h2o__10m_ue'] =   sos_ds['w_h2o__10m_ue'].where(sos_ds['ldiag_10m_ue'] <= 0.01)\n",
    "# sos_ds['w_h2o__3m_uw'] =    sos_ds['w_h2o__3m_uw'].where(sos_ds['ldiag_3m_uw'] <= 0.01)\n",
    "# sos_ds['w_h2o__10m_uw'] =   sos_ds['w_h2o__10m_uw'].where(sos_ds['ldiag_10m_uw'] <= 0.01)\n",
    "# sos_ds['w_h2o__3m_d'] =     sos_ds['w_h2o__3m_d'].where(sos_ds['ldiag_3m_d'] <= 0.01)\n",
    "# sos_ds['w_h2o__10m_d'] =    sos_ds['w_h2o__10m_d'].where(sos_ds['ldiag_10m_d'] <= 0.01)\n",
    "\n",
    "# sos_ds['w_tc__3m_c'] =     sos_ds['w_tc__3m_c'].where(sos_ds['ldiag_3m_c'] <= 0.01)\n",
    "# sos_ds['w_tc__5m_c'] =     sos_ds['w_tc__5m_c'].where(sos_ds['ldiag_5m_c'] <= 0.01)\n",
    "# sos_ds['w_tc__10m_c'] =    sos_ds['w_tc__10m_c'].where(sos_ds['ldiag_10m_c'] <= 0.01)\n",
    "# sos_ds['w_tc__15m_c'] =    sos_ds['w_tc__15m_c'].where(sos_ds['ldiag_15m_c'] <= 0.01)\n",
    "# sos_ds['w_tc__20m_c'] =    sos_ds['w_tc__20m_c'].where(sos_ds['ldiag_20m_c'] <= 0.01)\n",
    "# sos_ds['w_tc__3m_ue'] =    sos_ds['w_tc__3m_ue'].where(sos_ds['ldiag_3m_ue'] <= 0.01)\n",
    "# sos_ds['w_tc__10m_ue'] =   sos_ds['w_tc__10m_ue'].where(sos_ds['ldiag_10m_ue'] <= 0.01)\n",
    "# sos_ds['w_tc__3m_uw'] =    sos_ds['w_tc__3m_uw'].where(sos_ds['ldiag_3m_uw'] <= 0.01)\n",
    "# sos_ds['w_tc__10m_uw'] =   sos_ds['w_tc__10m_uw'].where(sos_ds['ldiag_10m_uw'] <= 0.01)\n",
    "# sos_ds['w_tc__3m_d'] =     sos_ds['w_tc__3m_d'].where(sos_ds['ldiag_3m_d'] <= 0.01)\n",
    "# sos_ds['w_tc__10m_d'] =    sos_ds['w_tc__10m_d'].where(sos_ds['ldiag_10m_d'] <= 0.01)\n",
    "\n",
    "# sos_ds['tc_3m_c'] =     sos_ds['tc_3m_c'].where(sos_ds['ldiag_3m_c'] <= 0.01)\n",
    "# sos_ds['tc_5m_c'] =     sos_ds['tc_5m_c'].where(sos_ds['ldiag_5m_c'] <= 0.01)\n",
    "# sos_ds['tc_10m_c'] =    sos_ds['tc_10m_c'].where(sos_ds['ldiag_10m_c'] <= 0.01)\n",
    "# sos_ds['tc_15m_c'] =    sos_ds['tc_15m_c'].where(sos_ds['ldiag_15m_c'] <= 0.01)\n",
    "# sos_ds['tc_20m_c'] =    sos_ds['tc_20m_c'].where(sos_ds['ldiag_20m_c'] <= 0.01)\n",
    "# sos_ds['tc_3m_ue'] =    sos_ds['tc_3m_ue'].where(sos_ds['ldiag_3m_ue'] <= 0.01)\n",
    "# sos_ds['tc_10m_ue'] =   sos_ds['tc_10m_ue'].where(sos_ds['ldiag_10m_ue'] <= 0.01)\n",
    "# sos_ds['tc_3m_uw'] =    sos_ds['tc_3m_uw'].where(sos_ds['ldiag_3m_uw'] <= 0.01)\n",
    "# sos_ds['tc_10m_uw'] =   sos_ds['tc_10m_uw'].where(sos_ds['ldiag_10m_uw'] <= 0.01)\n",
    "# sos_ds['tc_3m_d'] =     sos_ds['tc_3m_d'].where(sos_ds['ldiag_3m_d'] <= 0.01)\n",
    "# sos_ds['tc_10m_d'] =    sos_ds['tc_10m_d'].where(sos_ds['ldiag_10m_d'] <= 0.01)\n",
    "\n",
    "# sos_ds['w_3m_c'] =     sos_ds['w_3m_c'].where(sos_ds['ldiag_3m_c'] <= 0.01)\n",
    "# sos_ds['w_5m_c'] =     sos_ds['w_5m_c'].where(sos_ds['ldiag_5m_c'] <= 0.01)\n",
    "# sos_ds['w_10m_c'] =    sos_ds['w_10m_c'].where(sos_ds['ldiag_10m_c'] <= 0.01)\n",
    "# sos_ds['w_15m_c'] =    sos_ds['w_15m_c'].where(sos_ds['ldiag_15m_c'] <= 0.01)\n",
    "# sos_ds['w_20m_c'] =    sos_ds['w_20m_c'].where(sos_ds['ldiag_20m_c'] <= 0.01)\n",
    "# sos_ds['w_3m_ue'] =    sos_ds['w_3m_ue'].where(sos_ds['ldiag_3m_ue'] <= 0.01)\n",
    "# sos_ds['w_10m_ue'] =   sos_ds['w_10m_ue'].where(sos_ds['ldiag_10m_ue'] <= 0.01)\n",
    "# sos_ds['w_3m_uw'] =    sos_ds['w_3m_uw'].where(sos_ds['ldiag_3m_uw'] <= 0.01)\n",
    "# sos_ds['w_10m_uw'] =   sos_ds['w_10m_uw'].where(sos_ds['ldiag_10m_uw'] <= 0.01)\n",
    "# sos_ds['w_3m_d'] =     sos_ds['w_3m_d'].where(sos_ds['ldiag_3m_d'] <= 0.01)\n",
    "# sos_ds['w_10m_d'] =    sos_ds['w_10m_d'].where(sos_ds['ldiag_10m_d'] <= 0.01)\n",
    "\n",
    "# # sos_ds['u_3m_c'] =     sos_ds['u_3m_c'].where(sos_ds['ldiag_3m_c'] <= 0.01)\n",
    "# # sos_ds['u_5m_c'] =     sos_ds['u_5m_c'].where(sos_ds['ldiag_5m_c'] <= 0.01)\n",
    "# # sos_ds['u_10m_c'] =    sos_ds['u_10m_c'].where(sos_ds['ldiag_10m_c'] <= 0.01)\n",
    "# # sos_ds['u_15m_c'] =    sos_ds['u_15m_c'].where(sos_ds['ldiag_15m_c'] <= 0.01)\n",
    "# # sos_ds['u_20m_c'] =    sos_ds['u_20m_c'].where(sos_ds['ldiag_20m_c'] <= 0.01)\n",
    "# # sos_ds['u_3m_ue'] =    sos_ds['u_3m_ue'].where(sos_ds['ldiag_3m_ue'] <= 0.01)\n",
    "# # sos_ds['u_10m_ue'] =   sos_ds['u_10m_ue'].where(sos_ds['ldiag_10m_ue'] <= 0.01)\n",
    "# # sos_ds['u_3m_uw'] =    sos_ds['u_3m_uw'].where(sos_ds['ldiag_3m_uw'] <= 0.01)\n",
    "# # sos_ds['u_10m_uw'] =   sos_ds['u_10m_uw'].where(sos_ds['ldiag_10m_uw'] <= 0.01)\n",
    "# # sos_ds['u_3m_d'] =     sos_ds['u_3m_d'].where(sos_ds['ldiag_3m_d'] <= 0.01)\n",
    "# # sos_ds['u_10m_d'] =    sos_ds['u_10m_d'].where(sos_ds['ldiag_10m_d'] <= 0.01)\n",
    "\n",
    "# # sos_ds['v_3m_c'] =     sos_ds['v_3m_c'].where(sos_ds['ldiag_3m_c'] <= 0.01)\n",
    "# # sos_ds['v_5m_c'] =     sos_ds['v_5m_c'].where(sos_ds['ldiag_5m_c'] <= 0.01)\n",
    "# # sos_ds['v_10m_c'] =    sos_ds['v_10m_c'].where(sos_ds['ldiag_10m_c'] <= 0.01)\n",
    "# # sos_ds['v_15m_c'] =    sos_ds['v_15m_c'].where(sos_ds['ldiag_15m_c'] <= 0.01)\n",
    "# # sos_ds['v_20m_c'] =    sos_ds['v_20m_c'].where(sos_ds['ldiag_20m_c'] <= 0.01)\n",
    "# # sos_ds['v_3m_ue'] =    sos_ds['v_3m_ue'].where(sos_ds['ldiag_3m_ue'] <= 0.01)\n",
    "# # sos_ds['v_10m_ue'] =   sos_ds['v_10m_ue'].where(sos_ds['ldiag_10m_ue'] <= 0.01)\n",
    "# # sos_ds['v_3m_uw'] =    sos_ds['v_3m_uw'].where(sos_ds['ldiag_3m_uw'] <= 0.01)\n",
    "# # sos_ds['v_10m_uw'] =   sos_ds['v_10m_uw'].where(sos_ds['ldiag_10m_uw'] <= 0.01)\n",
    "# # sos_ds['v_3m_d'] =     sos_ds['v_3m_d'].where(sos_ds['ldiag_3m_d'] <= 0.01)\n",
    "# # sos_ds['v_10m_d'] =    sos_ds['v_10m_d'].where(sos_ds['ldiag_10m_d'] <= 0.01)"
   ]
  },
  {
   "cell_type": "code",
   "execution_count": 13,
   "metadata": {},
   "outputs": [
    {
     "name": "stdout",
     "output_type": "stream",
     "text": [
      "w_h2o__3m_c 7444\n",
      "w_h2o__5m_c 8593\n",
      "w_h2o__10m_c 6260\n",
      "w_h2o__15m_c 10735\n",
      "w_h2o__20m_c 11917\n",
      "w_h2o__3m_ue 7767\n",
      "w_h2o__10m_ue 9704\n",
      "w_h2o__3m_uw 7403\n",
      "w_h2o__10m_uw 10310\n",
      "w_h2o__3m_d 9461\n",
      "w_h2o__10m_d 8716\n"
     ]
    }
   ],
   "source": [
    "print('w_h2o__3m_c',    np.isnan(sos_ds['w_h2o__3m_c']).sum().item())\n",
    "print('w_h2o__5m_c',    np.isnan(sos_ds['w_h2o__5m_c']).sum().item())\n",
    "print('w_h2o__10m_c',   np.isnan(sos_ds['w_h2o__10m_c']).sum().item())\n",
    "print('w_h2o__15m_c',   np.isnan(sos_ds['w_h2o__15m_c']).sum().item())\n",
    "print('w_h2o__20m_c',   np.isnan(sos_ds['w_h2o__20m_c']).sum().item())\n",
    "print('w_h2o__3m_ue',   np.isnan(sos_ds['w_h2o__3m_ue']).sum().item())\n",
    "print('w_h2o__10m_ue',  np.isnan(sos_ds['w_h2o__10m_ue']).sum().item())\n",
    "print('w_h2o__3m_uw',   np.isnan(sos_ds['w_h2o__3m_uw']).sum().item())\n",
    "print('w_h2o__10m_uw',  np.isnan(sos_ds['w_h2o__10m_uw']).sum().item())\n",
    "print('w_h2o__3m_d',    np.isnan(sos_ds['w_h2o__3m_d']).sum().item())\n",
    "print('w_h2o__10m_d',   np.isnan(sos_ds['w_h2o__10m_d']).sum().item())"
   ]
  },
  {
   "cell_type": "markdown",
   "metadata": {},
   "source": [
    "# Aggregate latent heat flux covariances into hourly\n",
    "\n",
    "Using the correct (Reynolds averaging) method.\n",
    "\n",
    "Switch to pandas dataframe because for greatly improved resampling performance."
   ]
  },
  {
   "cell_type": "code",
   "execution_count": 14,
   "metadata": {},
   "outputs": [],
   "source": [
    "sos_df = sos_ds.to_dataframe()"
   ]
  },
  {
   "cell_type": "code",
   "execution_count": 15,
   "metadata": {},
   "outputs": [],
   "source": [
    "def resample_moments(df, covariance_variable_sets, new_frequency, n_in_new_re_length, skipna=True):\n",
    "    \"\"\"Combines moments into longer time periods, using reynolds averaging. Built to use with SOS \n",
    "    datasets. Resampling covariances which have been calculated for a specific Reynolds\n",
    "    averaging length (e.g. the SOS datasets are averaged to 5minutes), you need both the mean\n",
    "    values and covariance. For example, the variable `w_h2o__3m_c` is associated with mean values\n",
    "    `w_3m_c` and `h2o_3m_c`. To reasmple `w_h2o__3m_c` to another averaging length, we need the three\n",
    "    variables.\n",
    "\n",
    "    Following the math outlined here:\n",
    "    https://www.eol.ucar.edu/content/combining-short-term-moments-longer-time-periods\n",
    "\n",
    "    Args:\n",
    "        df (pd.DataFrame): dataframe containing the three columns required for the calculation. An \n",
    "        input dataframe could look like this:\n",
    "                                    w_h2o__3m_c    w_3m_c  h2o_3m_c\n",
    "            time                                                \n",
    "            2022-11-04 00:02:30    -0.000873  0.015235  3.049837\n",
    "            2022-11-04 00:07:30    -0.000564  0.056043  3.007558\n",
    "            2022-11-04 00:12:30    -0.000953  0.060759  3.041484\n",
    "            2022-11-04 00:17:30    -0.000649  0.026777  3.057822\n",
    "            2022-11-04 00:22:30    -0.000559  0.013143  3.095043\n",
    "        covariance_variable_sets (list[tuple]): A list of tuples, where each tuple contains 3 strings,\n",
    "            the variables that correspond to, in order:\n",
    "                - the covariance you are trying to recalculate for a longer time period\n",
    "                - one component of that covariance\n",
    "                - the other component of that covariance\n",
    "            For example, the input for this parameter might look like this:\n",
    "            [\n",
    "                ('w_h2o__3m_c', 'w_3m_c', 'h2o_3m_c'),\n",
    "                ('w_h2o__5m_c', 'w_5m_c', 'h2o_5m_c'),\n",
    "                ('w_h2o__10m_c', 'w_10m_c', 'h2o_10m_c'),\n",
    "            ]\n",
    "        new_frequency (str): String interpretable by pandas/xarray that describes the reynolds length you \n",
    "            are resampling to. EG: '60Min'\n",
    "        n_in_new_re_length (_type_): Number of 5 minute intervals that fit in the new_frequency. E.G. for\n",
    "            new_frequency='60Min', you would provide 12.\n",
    "        skipna (bool, optional): Whether to skip NaNs when calculating the new variables. Providing True\n",
    "            will allow more moments to be calculated, but those moments may be inaccurate/non-representative.\n",
    "            Providing False will result in more missing data.\n",
    "\n",
    "    Returns:\n",
    "        pd.DataFrame: Aggregated dataframe\n",
    "    \"\"\"\n",
    "    agg_df_list = []\n",
    "    for cov, w, h2o in covariance_variable_sets:\n",
    "        agg_df = pd.DataFrame({\n",
    "            cov: df.groupby(pd.Grouper(freq=new_frequency)).apply(\n",
    "                lambda row: \n",
    "                    (1/n_in_new_re_length)*(row[cov] + row[w]*row[h2o]).sum(skipna=skipna)\n",
    "                    - (\n",
    "                        (1/n_in_new_re_length)*row[w].sum(skipna=skipna)\n",
    "                        * (1/n_in_new_re_length)*row[h2o].sum(skipna=skipna)\n",
    "                    )\n",
    "            )\n",
    "        })\n",
    "        agg_df_list.append(agg_df)\n",
    "    combined_agg_df = agg_df_list[0]\n",
    "    for i in range(1, len(agg_df_list)):\n",
    "        combined_agg_df = combined_agg_df.join(agg_df_list[i])\n",
    "    return combined_agg_df"
   ]
  },
  {
   "cell_type": "code",
   "execution_count": 16,
   "metadata": {},
   "outputs": [],
   "source": [
    "lhflux_covariance_variable_sets = [\n",
    "    ('w_h2o__3m_c',     'w_3m_c',   'h2o_3m_c'),\n",
    "    ('w_h2o__5m_c',     'w_5m_c',   'h2o_5m_c'),\n",
    "    ('w_h2o__10m_c',    'w_10m_c',  'h2o_10m_c'),\n",
    "    ('w_h2o__15m_c',    'w_15m_c',  'h2o_15m_c'),\n",
    "    ('w_h2o__20m_c',    'w_20m_c',  'h2o_20m_c'),   \n",
    "    ('w_h2o__3m_ue',    'w_3m_ue',  'h2o_3m_ue'),\n",
    "    ('w_h2o__10m_ue',   'w_10m_ue', 'h2o_10m_ue'),\n",
    "    ('w_h2o__3m_uw',    'w_3m_uw',  'h2o_3m_uw'),\n",
    "    ('w_h2o__10m_uw',   'w_10m_uw', 'h2o_10m_uw'),\n",
    "    ('w_h2o__3m_d',     'w_3m_d',   'h2o_3m_d'),\n",
    "    ('w_h2o__10m_d',    'w_10m_d',  'h2o_10m_d'),\n",
    "]\n",
    "shflux_covariance_variable_sets = [\n",
    "    ('w_tc__3m_c',     'w_3m_c',   'tc_3m_c'),\n",
    "    ('w_tc__5m_c',     'w_5m_c',   'tc_5m_c'),\n",
    "    ('w_tc__10m_c',    'w_10m_c',  'tc_10m_c'),\n",
    "    ('w_tc__15m_c',    'w_15m_c',  'tc_15m_c'),\n",
    "    ('w_tc__20m_c',    'w_20m_c',  'tc_20m_c'),   \n",
    "    ('w_tc__3m_ue',    'w_3m_ue',  'tc_3m_ue'),\n",
    "    ('w_tc__10m_ue',   'w_10m_ue', 'tc_10m_ue'),\n",
    "    ('w_tc__3m_uw',    'w_3m_uw',  'tc_3m_uw'),\n",
    "    ('w_tc__10m_uw',   'w_10m_uw', 'tc_10m_uw'),\n",
    "    ('w_tc__3m_d',     'w_3m_d',   'tc_3m_d'),\n",
    "    ('w_tc__10m_d',    'w_10m_d',  'tc_10m_d'),\n",
    "]\n",
    "\n",
    "lhflux_agg_10Min_df = resample_moments(sos_df, lhflux_covariance_variable_sets, '10Min', 2, skipna=True)\n",
    "shflux_agg_10Min_df = resample_moments(sos_df, shflux_covariance_variable_sets, '10Min', 2, skipna=True)\n",
    "\n",
    "lhflux_agg_30Min_df = resample_moments(sos_df, lhflux_covariance_variable_sets, '30Min', 6, skipna=True)\n",
    "shflux_agg_30Min_df = resample_moments(sos_df, shflux_covariance_variable_sets, '30Min', 6, skipna=True)\n",
    "\n",
    "lhflux_agg_60Min_df = resample_moments(sos_df, lhflux_covariance_variable_sets, '60Min', 12, skipna=True)\n",
    "shflux_agg_60Min_df = resample_moments(sos_df, shflux_covariance_variable_sets, '60Min', 12, skipna=True)\n",
    "\n",
    "lhflux_agg_120Min_df = resample_moments(sos_df, lhflux_covariance_variable_sets, '120Min', 24, skipna=True)\n",
    "shflux_agg_120Min_df = resample_moments(sos_df, shflux_covariance_variable_sets, '120Min', 24, skipna=True)\n",
    "\n",
    "\n",
    "lhflux_agg_5Min_df = sos_df[lhflux_agg_10Min_df.columns]\n",
    "shflux_agg_5Min_df = sos_df[shflux_agg_10Min_df.columns]"
   ]
  },
  {
   "cell_type": "code",
   "execution_count": 19,
   "metadata": {},
   "outputs": [],
   "source": [
    "lhflux_agg_30Min_df['w_h2o__3m_c'].loc['2022-11-30 00:00:00':'2023-05-09 23:30:00'].to_csv(\"hihihih.csv\")"
   ]
  },
  {
   "cell_type": "code",
   "execution_count": 26,
   "metadata": {},
   "outputs": [
    {
     "data": {
      "text/plain": [
       "35.0041157195032"
      ]
     },
     "execution_count": 26,
     "metadata": {},
     "output_type": "execute_result"
    }
   ],
   "source": [
    "lhflux_agg_30Min_df['w_h2o__3m_c'].loc[\"20221130\":\"20230510\"].sum()*60*30/1000"
   ]
  },
  {
   "cell_type": "code",
   "execution_count": 21,
   "metadata": {},
   "outputs": [
    {
     "name": "stdout",
     "output_type": "stream",
     "text": [
      "11.34\n",
      "0.0\n",
      "0.0\n",
      "0.0\n",
      "0.0\n"
     ]
    }
   ],
   "source": [
    "print(round(100*lhflux_agg_5Min_df['w_h2o__3m_c'].isna().sum()/len(lhflux_agg_5Min_df), 2))\n",
    "print(round(100*lhflux_agg_10Min_df['w_h2o__3m_c'].isna().sum()/len(lhflux_agg_10Min_df), 2))\n",
    "print(round(100*lhflux_agg_30Min_df['w_h2o__3m_c'].isna().sum()/len(lhflux_agg_30Min_df), 2))\n",
    "print(round(100*lhflux_agg_60Min_df['w_h2o__3m_c'].isna().sum()/len(lhflux_agg_60Min_df), 2))\n",
    "print(round(100*lhflux_agg_120Min_df['w_h2o__3m_c'].isna().sum()/len(lhflux_agg_120Min_df), 2))"
   ]
  },
  {
   "cell_type": "code",
   "execution_count": null,
   "metadata": {},
   "outputs": [],
   "source": [
    "cumsub_src5 = lhflux_agg_5Min_df.loc['20221130': '20230509'].sum()*5*60/1000\n",
    "cumsub_src5.name = '5min'\n",
    "\n",
    "cumsub_src10 = lhflux_agg_10Min_df.loc['20221130': '20230509'].sum()*10*60/1000\n",
    "cumsub_src10.name = '10min'\n",
    "\n",
    "cumsub_src30 = lhflux_agg_30Min_df.loc['20221130': '20230509'].sum()*30*60/1000\n",
    "cumsub_src30.name = '30min'\n",
    "\n",
    "cumsub_src60 = lhflux_agg_60Min_df.loc['20221130': '20230509'].sum()*60*60/1000\n",
    "cumsub_src60.name = '60min'\n",
    "\n",
    "cumsub_src120 = lhflux_agg_120Min_df.loc['20221130': '20230509'].sum()*120*60/1000\n",
    "cumsub_src120.name = '120min'\n",
    "\n",
    "cumsub_comparison_df = pd.DataFrame(cumsub_src5).join(\n",
    "    pd.DataFrame(cumsub_src10)\n",
    ").join(\n",
    "    pd.DataFrame(cumsub_src30)\n",
    ").join(\n",
    "    pd.DataFrame(cumsub_src60)\n",
    ").join(\n",
    "    pd.DataFrame(cumsub_src120)\n",
    ").reset_index().rename(columns={'index':'variable'})\n",
    "cumsub_comparison_df['tower'] = cumsub_comparison_df['variable'].apply(lambda s: s.split('_')[-1])\n",
    "cumsub_comparison_df['height'] = cumsub_comparison_df['variable'].apply(lambda s: int(s.split('_')[-2].split('m')[0]))"
   ]
  },
  {
   "cell_type": "code",
   "execution_count": null,
   "metadata": {},
   "outputs": [],
   "source": [
    "meanlhflux_src5 = lhflux_agg_5Min_df.loc['20221130': '20230509'].mean()\n",
    "meanlhflux_src5.name = '5min'\n",
    "\n",
    "meanlhflux_src10 = lhflux_agg_10Min_df.loc['20221130': '20230509'].mean()\n",
    "meanlhflux_src10.name = '10min'\n",
    "\n",
    "meanlhflux_src30 = lhflux_agg_30Min_df.loc['20221130': '20230509'].mean()\n",
    "meanlhflux_src30.name = '30min'\n",
    "\n",
    "meanlhflux_src60 = lhflux_agg_60Min_df.loc['20221130': '20230509'].mean()\n",
    "meanlhflux_src60.name = '60min'\n",
    "\n",
    "meanlhflux_src120 = lhflux_agg_120Min_df.loc['20221130': '20230509'].mean()\n",
    "meanlhflux_src120.name = '120min'\n",
    "\n",
    "meanlhflux_comparison_df = pd.DataFrame(meanlhflux_src5).join(\n",
    "    pd.DataFrame(meanlhflux_src10)\n",
    ").join(\n",
    "    pd.DataFrame(meanlhflux_src30)\n",
    ").join(\n",
    "    pd.DataFrame(meanlhflux_src60)\n",
    ").join(\n",
    "    pd.DataFrame(meanlhflux_src120)\n",
    ").reset_index().rename(columns={'index':'variable'})\n",
    "meanlhflux_comparison_df['tower'] = meanlhflux_comparison_df['variable'].apply(lambda s: s.split('_')[-1])\n",
    "meanlhflux_comparison_df['height'] = meanlhflux_comparison_df['variable'].apply(lambda s: int(s.split('_')[-2].split('m')[0]))"
   ]
  },
  {
   "cell_type": "code",
   "execution_count": null,
   "metadata": {},
   "outputs": [],
   "source": [
    "meanshflux_src5 = shflux_agg_5Min_df.loc['20221130': '20230509'].mean()\n",
    "meanshflux_src5.name = '5min'\n",
    "\n",
    "meanshflux_src10 = shflux_agg_10Min_df.loc['20221130': '20230509'].mean()\n",
    "meanshflux_src10.name = '10min'\n",
    "\n",
    "meanshflux_src30 = shflux_agg_30Min_df.loc['20221130': '20230509'].mean()\n",
    "meanshflux_src30.name = '30min'\n",
    "\n",
    "meanshflux_src60 = shflux_agg_60Min_df.loc['20221130': '20230509'].mean()\n",
    "meanshflux_src60.name = '60min'\n",
    "\n",
    "meanshflux_src120 = shflux_agg_120Min_df.loc['20221130': '20230509'].mean()\n",
    "meanshflux_src120.name = '120min'\n",
    "\n",
    "meanshflux_comparison_df = pd.DataFrame(meanshflux_src5).join(\n",
    "    pd.DataFrame(meanshflux_src10)\n",
    ").join(\n",
    "    pd.DataFrame(meanshflux_src30)\n",
    ").join(\n",
    "    pd.DataFrame(meanshflux_src60)\n",
    ").join(\n",
    "    pd.DataFrame(meanshflux_src120)\n",
    ").reset_index().rename(columns={'index':'variable'})\n",
    "meanshflux_comparison_df['tower'] = meanshflux_comparison_df['variable'].apply(lambda s: s.split('_')[-1])\n",
    "meanshflux_comparison_df['height'] = meanshflux_comparison_df['variable'].apply(lambda s: int(s.split('_')[-2].split('m')[0]))"
   ]
  },
  {
   "cell_type": "code",
   "execution_count": null,
   "metadata": {},
   "outputs": [],
   "source": [
    "(alt.Chart(cumsub_comparison_df).transform_fold(\n",
    "    ['5min', '10min', '30min', '60min', '120min']\n",
    ").mark_point().encode(\n",
    "    alt.X(\"key:O\").sort(['5min', '10min', '30min', '60min', '120min']).title(None).axis(None),\n",
    "    alt.Y(\"value:Q\").title(\"Total sublimation (mm)\"),\n",
    "    alt.Color(\"tower:N\"),\n",
    "    alt.Facet(\"height:O\"),\n",
    ").properties(height = 100) &\\\n",
    "alt.Chart(meanlhflux_comparison_df).transform_fold(\n",
    "    ['5min', '10min', '30min', '60min', '120min']\n",
    ").mark_point().encode(\n",
    "    alt.X(\"key:O\").sort(['5min', '10min', '30min', '60min', '120min']).title(None).axis(None),\n",
    "    alt.Y(\"value:Q\").title(\"<w'q'> (g/m^2/s)\"),\n",
    "    alt.Color(\"tower:N\"),\n",
    "    alt.Facet(\"height:O\").title(None).header(labelFontSize=0),\n",
    ").properties(height = 100) &\\\n",
    "alt.Chart(meanshflux_comparison_df).transform_fold(\n",
    "    ['5min', '10min', '30min', '60min', '120min']\n",
    ").mark_point().encode(\n",
    "    alt.X(\"key:O\").sort(['5min', '10min', '30min', '60min', '120min']).title(\"Averaging length\"),\n",
    "    alt.Y(\"value:Q\").title(\"<w'T'> (˚C m/s)\"),\n",
    "    alt.Color(\"tower:N\"),\n",
    "    alt.Facet(\"height:O\").title(None).header(labelFontSize=0),\n",
    ").properties(height = 100)).display(renderer='svg')"
   ]
  },
  {
   "cell_type": "markdown",
   "metadata": {},
   "source": [
    "## Incorrect method (taking the mean)"
   ]
  },
  {
   "cell_type": "code",
   "execution_count": null,
   "metadata": {},
   "outputs": [],
   "source": [
    "wrong_combined_agg_df = sos_df[[\n",
    "    'w_h2o__3m_c',\n",
    "    'w_h2o__5m_c',\n",
    "    'w_h2o__10m_c',\n",
    "    'w_h2o__15m_c',\n",
    "    'w_h2o__20m_c',\n",
    "]].groupby(pd.Grouper(freq='60Min')).mean()"
   ]
  },
  {
   "cell_type": "code",
   "execution_count": null,
   "metadata": {},
   "outputs": [],
   "source": [
    "wrong_combined_agg_df.loc['20221221': '20221224'].reset_index().melt(id_vars='time')"
   ]
  },
  {
   "cell_type": "code",
   "execution_count": null,
   "metadata": {},
   "outputs": [],
   "source": [
    "import altair as alt\n",
    "(\n",
    "    alt.Chart(\n",
    "        wrong_combined_agg_df.loc['20221221': '20221224'].reset_index().melt(id_vars='time')\n",
    "    ).mark_line().encode(\n",
    "        alt.X(\"time:T\"),\n",
    "        alt.Y(\"value:Q\").title('Latent heat flux (g/m^2/s)'),\n",
    "        alt.Color(\"variable:O\").scale(scheme='rainbow', domain=[\n",
    "                'w_h2o__3m_c',\n",
    "                'w_h2o__5m_c',\n",
    "                'w_h2o__10m_c',\n",
    "                'w_h2o__15m_c',\n",
    "                'w_h2o__20m_c',\n",
    "        ])\n",
    "    ).properties(title = 'Incorrect covariance averages') | alt.Chart(\n",
    "        combined_agg_df.loc['20221221': '20221224'].reset_index().melt(id_vars='time')\n",
    "    ).mark_line().encode(\n",
    "        alt.X(\"time:T\"),\n",
    "        alt.Y(\"value:Q\").title('Latent heat flux (g/m^2/s)'),\n",
    "        alt.Color(\"variable:O\").scale(scheme='rainbow', domain=[\n",
    "                'w_h2o__3m_c',\n",
    "                'w_h2o__5m_c',\n",
    "                'w_h2o__10m_c',\n",
    "                'w_h2o__15m_c',\n",
    "                'w_h2o__20m_c',\n",
    "        ])\n",
    "    ).properties(title = 'Correct covariance averages')\n",
    ").resolve_scale(x='shared', y='shared', color='shared').display(renderer='svg')"
   ]
  },
  {
   "cell_type": "markdown",
   "metadata": {},
   "source": [
    "Test with a single variable using simpler code"
   ]
  },
  {
   "cell_type": "code",
   "execution_count": null,
   "metadata": {},
   "outputs": [],
   "source": [
    "new_values = []\n",
    "for i in range(0, int(len(sos_ds.time)/12)):\n",
    "    start_i = i*12\n",
    "    end_i = (i+1)*12\n",
    "    cov_values = sos_ds['w_h2o__3m_c'][start_i: end_i].values\n",
    "    w_values = sos_ds['w_3m_c'][start_i: end_i].values\n",
    "    h2o_values = sos_ds['h2o_3m_c'][start_i: end_i].values\n",
    "    new_val  = (\n",
    "        (1/12)*(cov_values + w_values*h2o_values).sum() \n",
    "        - (\n",
    "            (1/12)*w_values.sum()\n",
    "            * (1/12)*h2o_values.sum()\n",
    "        )\n",
    "    )\n",
    "    new_values.append(new_val)"
   ]
  },
  {
   "cell_type": "code",
   "execution_count": null,
   "metadata": {},
   "outputs": [],
   "source": [
    "np.unique(combined_agg_df['w_h2o__3m_c'].values - np.array(new_values))"
   ]
  },
  {
   "cell_type": "markdown",
   "metadata": {},
   "source": [
    "# Save 60 min lh flux values"
   ]
  },
  {
   "cell_type": "code",
   "execution_count": null,
   "metadata": {},
   "outputs": [],
   "source": [
    "combined_agg_df.to_xarray().to_netcdf('sos_hourly_aggregated_lhflux_ds.nc')"
   ]
  },
  {
   "cell_type": "markdown",
   "metadata": {},
   "source": [
    "# Check that the cumulative sublimation measurements look right."
   ]
  },
  {
   "cell_type": "code",
   "execution_count": null,
   "metadata": {},
   "outputs": [],
   "source": [
    "from metpy.constants import density_water"
   ]
  },
  {
   "cell_type": "code",
   "execution_count": null,
   "metadata": {},
   "outputs": [],
   "source": [
    "sos_ds_mm = sos_ds*5*60/density_water.magnitude"
   ]
  },
  {
   "cell_type": "code",
   "execution_count": null,
   "metadata": {},
   "outputs": [],
   "source": [
    "sos_ds_mm['w_h2o__3m_c'].cumsum().plot()\n",
    "sos_ds_mm['w_h2o__5m_c'].cumsum().plot()\n",
    "sos_ds_mm['w_h2o__10m_c'].cumsum().plot()\n",
    "sos_ds_mm['w_h2o__15m_c'].cumsum().plot()\n",
    "sos_ds_mm['w_h2o__20m_c'].cumsum().plot()"
   ]
  },
  {
   "cell_type": "code",
   "execution_count": null,
   "metadata": {},
   "outputs": [],
   "source": []
  }
 ],
 "metadata": {
  "kernelspec": {
   "display_name": "sublimationofsnow",
   "language": "python",
   "name": "python3"
  },
  "language_info": {
   "codemirror_mode": {
    "name": "ipython",
    "version": 3
   },
   "file_extension": ".py",
   "mimetype": "text/x-python",
   "name": "python",
   "nbconvert_exporter": "python",
   "pygments_lexer": "ipython3",
   "version": "3.1.0"
  }
 },
 "nbformat": 4,
 "nbformat_minor": 2
}
