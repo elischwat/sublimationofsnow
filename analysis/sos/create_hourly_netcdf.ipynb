{
 "cells": [
  {
   "cell_type": "code",
   "execution_count": null,
   "metadata": {},
   "outputs": [],
   "source": [
    "import xarray as xr\n",
    "import glob\n",
    "import os\n",
    "from sublimpy import utils\n",
    "import numpy as np "
   ]
  },
  {
   "cell_type": "code",
   "execution_count": null,
   "metadata": {},
   "outputs": [],
   "source": [
    "filepath = \"/Users/elischwat/Development/data/sublimationofsnow/sosqc/sos_qc_geo_tiltcor_v20240307/\"\n",
    "files = glob.glob(os.path.join(filepath, \"*.nc\"))"
   ]
  },
  {
   "cell_type": "code",
   "execution_count": null,
   "metadata": {},
   "outputs": [],
   "source": [
    "# sort files and remove datasets before November\n",
    "files = sorted(files)[3:] # should be [3:]"
   ]
  },
  {
   "cell_type": "markdown",
   "metadata": {},
   "source": [
    "# Create the hourly dataset"
   ]
  },
  {
   "cell_type": "code",
   "execution_count": null,
   "metadata": {},
   "outputs": [],
   "source": [
    "datasets = []\n",
    "for fn in files:\n",
    "    ds = xr.open_dataset(fn)\n",
    "    datasets.append(ds)"
   ]
  },
  {
   "cell_type": "code",
   "execution_count": null,
   "metadata": {},
   "outputs": [],
   "source": [
    "# THIS TAKES AN EXTREMELY LONG TIME TO RUN, ~8 Hours\n",
    "# To make it run more quickly, just grab the variables you want\n",
    "sos_ds = xr.concat(datasets, dim='time')"
   ]
  },
  {
   "cell_type": "code",
   "execution_count": null,
   "metadata": {},
   "outputs": [],
   "source": [
    "sos_ds"
   ]
  },
  {
   "cell_type": "code",
   "execution_count": null,
   "metadata": {},
   "outputs": [],
   "source": [
    "sos_ds = utils.fill_missing_timestamps(sos_ds)"
   ]
  },
  {
   "cell_type": "code",
   "execution_count": null,
   "metadata": {},
   "outputs": [],
   "source": [
    "sos_10min_ds = sos_ds.resample(time='10Min').mean()\n",
    "sos_30min_ds = sos_ds.resample(time='30Min').mean()\n",
    "sos_hourly_ds = sos_ds.resample(time='60Min').mean()\n",
    "sos_twohourly_ds = sos_ds.resample(time='120Min').mean()"
   ]
  },
  {
   "cell_type": "code",
   "execution_count": null,
   "metadata": {},
   "outputs": [],
   "source": [
    "sos_hourly_ds.to_netcdf('sos_hourly_ds.nc')"
   ]
  },
  {
   "cell_type": "markdown",
   "metadata": {},
   "source": [
    "# Create the 5min dataset (include only eddy covariance latent heat flux measurements)"
   ]
  },
  {
   "cell_type": "code",
   "execution_count": null,
   "metadata": {},
   "outputs": [],
   "source": [
    "# datasets = []\n",
    "# for fn in files:\n",
    "#     ds = xr.open_dataset(fn)\n",
    "#     vars_to_grab = []\n",
    "#     if 'w_h2o__3m_c' in ds:\n",
    "#         vars_to_grab.append('w_h2o__3m_c')\n",
    "#     if 'w_h2o__5m_c' in ds:\n",
    "#         vars_to_grab.append('w_h2o__5m_c')\n",
    "#     if 'w_h2o__10m_c' in ds:\n",
    "#         vars_to_grab.append('w_h2o__10m_c')\n",
    "#     if 'w_h2o__15m_c' in ds:\n",
    "#         vars_to_grab.append('w_h2o__15m_c')\n",
    "#     if 'w_h2o__20m_c' in ds:\n",
    "#         vars_to_grab.append('w_h2o__20m_c')\n",
    "\n",
    "#     ds = ds[vars_to_grab]\n",
    "#     datasets.append(ds)\n",
    "\n",
    "all_vars_i_want = [\n",
    "        'w_h2o__3m_c',\n",
    "        'w_h2o__5m_c',\n",
    "        'w_h2o__10m_c',\n",
    "        'w_h2o__15m_c',\n",
    "        'w_h2o__20m_c',\n",
    "        'w_h2o__3m_ue',\n",
    "        'w_h2o__10m_ue',\n",
    "        'w_h2o__3m_uw',\n",
    "        'w_h2o__10m_uw',\n",
    "        'w_h2o__3m_ud',\n",
    "        'w_h2o__10m_ud',\n",
    "\n",
    "        'w_3m_c',\n",
    "        'w_5m_c',\n",
    "        'w_10m_c',\n",
    "        'w_15m_c',\n",
    "        'w_20m_c',\n",
    "\n",
    "        'h2o_3m_c',\n",
    "        'h2o_5m_c',\n",
    "        'h2o_10m_c',\n",
    "        'h2o_15m_c',\n",
    "        'h2o_20m_c',\n",
    "    ]\n",
    "\n",
    "datasets = []\n",
    "for fn in files:\n",
    "    ds = xr.open_dataset(fn)\n",
    "    vars_to_grab = []\n",
    "    for var in all_vars_i_want:\n",
    "        if var in ds:\n",
    "            vars_to_grab.append(var)\n",
    "    ds = ds[vars_to_grab]\n",
    "    datasets.append(ds)"
   ]
  },
  {
   "cell_type": "code",
   "execution_count": null,
   "metadata": {},
   "outputs": [],
   "source": [
    "sos_ds = xr.concat(datasets, dim='time')"
   ]
  },
  {
   "cell_type": "code",
   "execution_count": null,
   "metadata": {},
   "outputs": [],
   "source": [
    "sos_ds = utils.fill_missing_timestamps(sos_ds)"
   ]
  },
  {
   "cell_type": "code",
   "execution_count": null,
   "metadata": {},
   "outputs": [],
   "source": [
    "new_values = []\n",
    "\n",
    "for i in range(0, int(len(sos_ds.time)/12)):\n",
    "    start_i = i*12\n",
    "    end_i = (i+1)*12\n",
    "    cov_values = sos_ds['w_h2o__3m_c'][start_i: end_i].values\n",
    "    w_values = sos_ds['w_3m_c'][start_i: end_i].values\n",
    "    h2o_values = sos_ds['h2o_3m_c'][start_i: end_i].values\n",
    "    new_val  = (\n",
    "        (1/12)*(cov_values + w_values*h2o_values).sum() \n",
    "        - (\n",
    "            (1/12)*w_values.sum()\n",
    "            * (1/12)*h2o_values.sum()\n",
    "        )\n",
    "    )\n",
    "    new_values.append(new_val)"
   ]
  },
  {
   "cell_type": "markdown",
   "metadata": {},
   "source": [
    "Correctly aggregate latent heat flux covariances"
   ]
  },
  {
   "cell_type": "code",
   "execution_count": null,
   "metadata": {},
   "outputs": [],
   "source": [
    "sos_df = sos_ds.to_dataframe()"
   ]
  },
  {
   "cell_type": "code",
   "execution_count": null,
   "metadata": {},
   "outputs": [],
   "source": [
    "import pandas as pd"
   ]
  },
  {
   "cell_type": "code",
   "execution_count": null,
   "metadata": {},
   "outputs": [],
   "source": [
    "sos_df.head()"
   ]
  },
  {
   "cell_type": "code",
   "execution_count": null,
   "metadata": {},
   "outputs": [],
   "source": [
    "covariance_variable_sets = [\n",
    "    ('w_h2o__3m_c', 'w_3m_c', 'h2o_3m_c'),\n",
    "    ('w_h2o__5m_c', 'w_5m_c', 'h2o_5m_c'),\n",
    "    ('w_h2o__10m_c', 'w_10m_c', 'h2o_10m_c'),\n",
    "    ('w_h2o__15m_c', 'w_15m_c', 'h2o_15m_c'),\n",
    "    ('w_h2o__20m_c', 'w_20m_c', 'h2o_20m_c'),   \n",
    "]\n",
    "agg_df_list = []\n",
    "for cov, w, h2o in covariance_variable_sets:\n",
    "    agg_df = pd.DataFrame({\n",
    "        cov: sos_df.groupby(pd.Grouper(freq='60Min')).apply(\n",
    "            lambda row: \n",
    "                (1/12)*(row[cov] + row[w]*row[h2o]).sum()\n",
    "                - (\n",
    "                    (1/12)*row[w].sum()\n",
    "                    * (1/12)*row[h2o].sum()\n",
    "                )\n",
    "        )\n",
    "    })\n",
    "    agg_df_list.append(agg_df)"
   ]
  },
  {
   "cell_type": "code",
   "execution_count": null,
   "metadata": {},
   "outputs": [],
   "source": [
    "combined_agg_df = agg_df_list[0]\n",
    "for i in range(1, len(agg_df_list)):\n",
    "    combined_agg_df = combined_agg_df.join(agg_df_list[i])"
   ]
  },
  {
   "cell_type": "code",
   "execution_count": null,
   "metadata": {},
   "outputs": [],
   "source": [
    "combined_agg_df"
   ]
  },
  {
   "cell_type": "code",
   "execution_count": null,
   "metadata": {},
   "outputs": [],
   "source": [
    "wrong_combined_agg_df = sos_df[[\n",
    "    'w_h2o__3m_c',\n",
    "    'w_h2o__5m_c',\n",
    "    'w_h2o__10m_c',\n",
    "    'w_h2o__15m_c',\n",
    "    'w_h2o__20m_c',\n",
    "]].groupby(pd.Grouper(freq='60Min')).mean()"
   ]
  },
  {
   "cell_type": "code",
   "execution_count": null,
   "metadata": {},
   "outputs": [],
   "source": [
    "wrong_combined_agg_df.loc['20221221': '20221224'].reset_index().melt(id_vars='time')"
   ]
  },
  {
   "cell_type": "code",
   "execution_count": null,
   "metadata": {},
   "outputs": [],
   "source": [
    "import altair as alt\n",
    "(\n",
    "    alt.Chart(\n",
    "        wrong_combined_agg_df.loc['20221221': '20221224'].reset_index().melt(id_vars='time')\n",
    "    ).mark_line().encode(\n",
    "        alt.X(\"time:T\"),\n",
    "        alt.Y(\"value:Q\").title('Latent heat flux (g/m^2/s)'),\n",
    "        alt.Color(\"variable:O\").scale(scheme='rainbow', domain=[\n",
    "                'w_h2o__3m_c',\n",
    "                'w_h2o__5m_c',\n",
    "                'w_h2o__10m_c',\n",
    "                'w_h2o__15m_c',\n",
    "                'w_h2o__20m_c',\n",
    "        ])\n",
    "    ).properties(title = 'Incorrect covariance averages') | alt.Chart(\n",
    "        combined_agg_df.loc['20221221': '20221224'].reset_index().melt(id_vars='time')\n",
    "    ).mark_line().encode(\n",
    "        alt.X(\"time:T\"),\n",
    "        alt.Y(\"value:Q\").title('Latent heat flux (g/m^2/s)'),\n",
    "        alt.Color(\"variable:O\").scale(scheme='rainbow', domain=[\n",
    "                'w_h2o__3m_c',\n",
    "                'w_h2o__5m_c',\n",
    "                'w_h2o__10m_c',\n",
    "                'w_h2o__15m_c',\n",
    "                'w_h2o__20m_c',\n",
    "        ])\n",
    "    ).properties(title = 'Correct covariance averages')\n",
    ").resolve_scale(x='shared', y='shared', color='shared').display(renderer='svg')"
   ]
  },
  {
   "cell_type": "markdown",
   "metadata": {},
   "source": [
    "Test with a single variable using simpler code"
   ]
  },
  {
   "cell_type": "code",
   "execution_count": null,
   "metadata": {},
   "outputs": [],
   "source": [
    "new_values = []\n",
    "for i in range(0, int(len(sos_ds.time)/12)):\n",
    "    start_i = i*12\n",
    "    end_i = (i+1)*12\n",
    "    cov_values = sos_ds['w_h2o__3m_c'][start_i: end_i].values\n",
    "    w_values = sos_ds['w_3m_c'][start_i: end_i].values\n",
    "    h2o_values = sos_ds['h2o_3m_c'][start_i: end_i].values\n",
    "    new_val  = (\n",
    "        (1/12)*(cov_values + w_values*h2o_values).sum() \n",
    "        - (\n",
    "            (1/12)*w_values.sum()\n",
    "            * (1/12)*h2o_values.sum()\n",
    "        )\n",
    "    )\n",
    "    new_values.append(new_val)"
   ]
  },
  {
   "cell_type": "code",
   "execution_count": null,
   "metadata": {},
   "outputs": [],
   "source": [
    "np.unique(combined_agg_df['w_h2o__3m_c'].values - np.array(new_values))"
   ]
  },
  {
   "cell_type": "markdown",
   "metadata": {},
   "source": [
    "# Save 60 min lh flux values"
   ]
  },
  {
   "cell_type": "code",
   "execution_count": null,
   "metadata": {},
   "outputs": [],
   "source": [
    "combined_agg_df.to_xarray().to_netcdf('sos_hourly_aggregated_lhflux_ds.nc')"
   ]
  },
  {
   "cell_type": "markdown",
   "metadata": {},
   "source": [
    "# Check that the cumulative sublimation measurements look right."
   ]
  },
  {
   "cell_type": "code",
   "execution_count": null,
   "metadata": {},
   "outputs": [],
   "source": [
    "from metpy.constants import density_water"
   ]
  },
  {
   "cell_type": "code",
   "execution_count": null,
   "metadata": {},
   "outputs": [],
   "source": [
    "sos_ds_mm = sos_ds*5*60/density_water.magnitude"
   ]
  },
  {
   "cell_type": "code",
   "execution_count": null,
   "metadata": {},
   "outputs": [],
   "source": [
    "sos_ds_mm['w_h2o__3m_c'].cumsum().plot()\n",
    "sos_ds_mm['w_h2o__5m_c'].cumsum().plot()\n",
    "sos_ds_mm['w_h2o__10m_c'].cumsum().plot()\n",
    "sos_ds_mm['w_h2o__15m_c'].cumsum().plot()\n",
    "sos_ds_mm['w_h2o__20m_c'].cumsum().plot()"
   ]
  },
  {
   "cell_type": "code",
   "execution_count": null,
   "metadata": {},
   "outputs": [],
   "source": []
  }
 ],
 "metadata": {
  "kernelspec": {
   "display_name": "sublimationofsnow",
   "language": "python",
   "name": "python3"
  },
  "language_info": {
   "codemirror_mode": {
    "name": "ipython",
    "version": 3
   },
   "file_extension": ".py",
   "mimetype": "text/x-python",
   "name": "python",
   "nbconvert_exporter": "python",
   "pygments_lexer": "ipython3",
   "version": "3.1.0"
  }
 },
 "nbformat": 4,
 "nbformat_minor": 2
}
