{
 "cells": [
  {
   "cell_type": "code",
   "execution_count": 45,
   "metadata": {},
   "outputs": [],
   "source": [
    "import xarray as xr\n",
    "import glob\n",
    "import os\n",
    "from sublimpy import utils\n",
    "import numpy as np "
   ]
  },
  {
   "cell_type": "code",
   "execution_count": 8,
   "metadata": {},
   "outputs": [],
   "source": [
    "filepath = \"/Users/elischwat/Development/data/sublimationofsnow/sosqc/sos_qc_geo_tiltcor_v20240213/\"\n",
    "files = glob.glob(os.path.join(filepath, \"*.nc\"))"
   ]
  },
  {
   "cell_type": "code",
   "execution_count": 9,
   "metadata": {},
   "outputs": [],
   "source": [
    "# sort files and remove datasets before November\n",
    "files = sorted(files)[3:] # should be [3:]"
   ]
  },
  {
   "cell_type": "code",
   "execution_count": 10,
   "metadata": {},
   "outputs": [],
   "source": [
    "datasets = []\n",
    "for fn in files:\n",
    "    ds = xr.open_dataset(fn)\n",
    "    datasets.append(ds)"
   ]
  },
  {
   "cell_type": "code",
   "execution_count": null,
   "metadata": {},
   "outputs": [],
   "source": [
    "# No longer need to do this: because of an update to xarray.concat as of Feb 7, 2023\n",
    "# https://docs.xarray.dev/en/stable/whats-new.html#v2023-02-0-feb-7-2023\n",
    "# sos_ds = utils.merge_datasets_with_different_variables(datasets, dim='time')\n",
    "# the following call to xr.concat should work:\n",
    "\n",
    "# THIS TAKES AN EXTREMELY LONG TIME TO RUN, ~8 Hours\n",
    "sos_ds = xr.concat(datasets, dim='time')"
   ]
  },
  {
   "cell_type": "code",
   "execution_count": null,
   "metadata": {},
   "outputs": [],
   "source": [
    "sos_ds"
   ]
  },
  {
   "cell_type": "code",
   "execution_count": null,
   "metadata": {},
   "outputs": [],
   "source": [
    "sos_ds = utils.fill_missing_timestamps(sos_ds)"
   ]
  },
  {
   "cell_type": "code",
   "execution_count": null,
   "metadata": {},
   "outputs": [],
   "source": [
    "# sos_ds[\n",
    "#     ['Pirga_5m_c',\n",
    "#  'SSco2_5m_c',\n",
    "#  'SSh2o_5m_c',\n",
    "#  'Tirga_5m_c',\n",
    "#  'co2_5m_c',\n",
    "#  'co2_co2__5m_c',\n",
    "#  'counts_5m_c',\n",
    "#  'counts_5m_c_1',\n",
    "#  'counts_5m_c_2',\n",
    "#  'dir_5m_c',\n",
    "#  'h2o_5m_c',\n",
    "#  'h2o_h2o__5m_c',\n",
    "#  'irgadiag_5m_c',\n",
    "#  'ldiag_5m_c',\n",
    "#  'spd_5m_c',\n",
    "#  'tc_5m_c',\n",
    "#  'tc_tc__5m_c',\n",
    "#  'tc_tc_tc__5m_c',\n",
    "#  'u_5m_c',\n",
    "#  'u_co2__5m_c',\n",
    "#  'u_h2o__5m_c',\n",
    "#  'u_tc__5m_c',\n",
    "#  'u_u__5m_c',\n",
    "#  'u_u_u__5m_c',\n",
    "#  'u_u_w__5m_c',\n",
    "#  'u_v__5m_c',\n",
    "#  'u_v_w__5m_c',\n",
    "#  'u_w__5m_c',\n",
    "#  'u_w_tc__5m_c',\n",
    "#  'u_w_w__5m_c',\n",
    "#  'v_5m_c',\n",
    "#  'v_co2__5m_c',\n",
    "#  'v_h2o__5m_c',\n",
    "#  'v_tc__5m_c',\n",
    "#  'v_v__5m_c',\n",
    "#  'v_v_v__5m_c',\n",
    "#  'v_v_w__5m_c',\n",
    "#  'v_w__5m_c',\n",
    "#  'v_w_tc__5m_c',\n",
    "#  'v_w_w__5m_c',\n",
    "#  'w_5m_c',\n",
    "#  'w_co2__5m_c',\n",
    "#  'w_h2o__5m_c',\n",
    "#  'w_tc__5m_c',\n",
    "#  'w_tc_tc__5m_c',\n",
    "#  'w_w__5m_c',\n",
    "#  'w_w_tc__5m_c',\n",
    "#  'w_w_w__5m_c']\n",
    "# ]"
   ]
  },
  {
   "cell_type": "code",
   "execution_count": null,
   "metadata": {},
   "outputs": [],
   "source": [
    "sos_hourly_ds = sos_ds.resample(time='60Min').mean()"
   ]
  },
  {
   "cell_type": "code",
   "execution_count": null,
   "metadata": {},
   "outputs": [],
   "source": [
    "sos_hourly_ds"
   ]
  },
  {
   "cell_type": "code",
   "execution_count": null,
   "metadata": {},
   "outputs": [],
   "source": [
    "sos_hourly_ds.to_netcdf('sos_hourly_ds.nc')"
   ]
  },
  {
   "cell_type": "code",
   "execution_count": 2,
   "metadata": {},
   "outputs": [
    {
     "name": "stdout",
     "output_type": "stream",
     "text": [
      "-rw-r--r--   1 elischwat  staff    30M Feb 15 06:34 sos_hourly_ds.nc\n"
     ]
    }
   ],
   "source": [
    "ls -lah | grep sos_hourly_ds.nc"
   ]
  },
  {
   "cell_type": "code",
   "execution_count": 69,
   "metadata": {},
   "outputs": [],
   "source": [
    "sos_hourly_ds = xr.open_dataset('sos_hourly_ds.nc')"
   ]
  },
  {
   "cell_type": "code",
   "execution_count": 75,
   "metadata": {},
   "outputs": [
    {
     "name": "stdout",
     "output_type": "stream",
     "text": [
      "{(5544,)}\n"
     ]
    }
   ],
   "source": [
    "v_shapes = []\n",
    "for v in sos_hourly_ds:\n",
    "    v_shapes.append(sos_hourly_ds[v].shape)\n",
    "print(set(v_shapes))"
   ]
  },
  {
   "cell_type": "code",
   "execution_count": null,
   "metadata": {},
   "outputs": [],
   "source": []
  }
 ],
 "metadata": {
  "kernelspec": {
   "display_name": "sublimationofsnow",
   "language": "python",
   "name": "python3"
  },
  "language_info": {
   "codemirror_mode": {
    "name": "ipython",
    "version": 3
   },
   "file_extension": ".py",
   "mimetype": "text/x-python",
   "name": "python",
   "nbconvert_exporter": "python",
   "pygments_lexer": "ipython3",
   "version": "3.12.1"
  }
 },
 "nbformat": 4,
 "nbformat_minor": 2
}
