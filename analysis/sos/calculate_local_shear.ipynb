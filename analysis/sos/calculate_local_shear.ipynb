{
 "cells": [
  {
   "cell_type": "code",
   "execution_count": 58,
   "metadata": {},
   "outputs": [],
   "source": [
    "import pandas as pd\n",
    "import altair as alt\n",
    "import numpy as np\n",
    "import scipy\n",
    "import matplotlib.pyplot as plt"
   ]
  },
  {
   "cell_type": "code",
   "execution_count": 59,
   "metadata": {},
   "outputs": [],
   "source": [
    "tidy_df = pd.read_csv('tidy_df_30Min_20230101_20230110_planar_fit.csv')"
   ]
  },
  {
   "cell_type": "code",
   "execution_count": 60,
   "metadata": {},
   "outputs": [],
   "source": [
    "def calculate_gradient_for_measurement(df, measurement='u'):\n",
    "    # Group the DataFrame by \"time\" and \"height\"\n",
    "    groups = df.query(f\"measurement == '{measurement}'\").groupby([\"time\", \"tower\"])\n",
    "\n",
    "    # Define a function to fit a 2nd order polynomial to each group\n",
    "    def fit_polynomial(group):\n",
    "        x = [0] + list(group[\"height\"].sort_values())\n",
    "        y = [0] + list(group[\"value\"].sort_values())\n",
    "        coeffs = np.polyfit(x, y, 3)\n",
    "        return pd.Series(coeffs, index=[\"a\", \"b\", \"c\", \"d\"])\n",
    "    def fit_polynomial_safely(group):\n",
    "        try:\n",
    "            return fit_polynomial(group)\n",
    "        except SystemError:\n",
    "            return pd.Series([np.nan, np.nan, np.nan(), np.nan], index=[\"a\", \"b\", \"c\", \"d\"])\n",
    "\n",
    "    # Apply the function to each group and store the results in a new DataFrame\n",
    "    poly_coeffs_df = groups.apply(fit_polynomial_safely)\n",
    "    return poly_coeffs_df"
   ]
  },
  {
   "cell_type": "code",
   "execution_count": 61,
   "metadata": {},
   "outputs": [],
   "source": [
    "src_u = tidy_df.query(\"time == '2023-01-10 16:00:00'\").query(\"tower == 'c'\").query(\"measurement == 'wind speed'\").sort_values(\"height\")\n",
    "src_v = tidy_df.query(\"time == '2023-01-10 16:00:00'\").query(\"tower == 'c'\").query(\"measurement == 'v'\").sort_values(\"height\")"
   ]
  },
  {
   "cell_type": "code",
   "execution_count": 62,
   "metadata": {},
   "outputs": [],
   "source": [
    "tidy_df = pd.read_csv('tidy_df_30Min_20230101_20230110_planar_fit.csv')"
   ]
  },
  {
   "cell_type": "code",
   "execution_count": 63,
   "metadata": {},
   "outputs": [],
   "source": [
    "def calculate_gradient_for_measurement(df, measurement='u'):\n",
    "    # Group the DataFrame by \"time\" and \"height\"\n",
    "    groups = df.query(f\"measurement == '{measurement}'\").groupby([\"time\", \"tower\"])\n",
    "\n",
    "    # Define a function to fit a 2nd order polynomial to each group\n",
    "    def fit_polynomial(group):\n",
    "        x = [0] + list(group[\"height\"].sort_values())\n",
    "        y = [0] + list(group[\"value\"].sort_values())\n",
    "        coeffs = np.polyfit(x, y, 3)\n",
    "        return pd.Series(coeffs, index=[\"a\", \"b\", \"c\", \"d\"])\n",
    "    def fit_polynomial_safely(group):\n",
    "        try:\n",
    "            return fit_polynomial(group)\n",
    "        except SystemError:\n",
    "            return pd.Series([np.nan, np.nan, np.nan(), np.nan], index=[\"a\", \"b\", \"c\", \"d\"])\n",
    "\n",
    "    # Apply the function to each group and store the results in a new DataFrame\n",
    "    poly_coeffs_df = groups.apply(fit_polynomial_safely)\n",
    "    return poly_coeffs_df"
   ]
  },
  {
   "cell_type": "code",
   "execution_count": 80,
   "metadata": {},
   "outputs": [],
   "source": [
    "src_u = tidy_df.query(\"time == '2023-01-07 18:00:00'\").query(\"tower == 'c'\").query(\"measurement == 'u'\").sort_values(\"height\")\n",
    "src_v = tidy_df.query(\"time == '2023-01-07 18:00:00'\").query(\"tower == 'c'\").query(\"measurement == 'v'\").sort_values(\"height\")"
   ]
  },
  {
   "cell_type": "code",
   "execution_count": 82,
   "metadata": {},
   "outputs": [
    {
     "ename": "ValueError",
     "evalue": "array must not contain infs or NaNs",
     "output_type": "error",
     "traceback": [
      "\u001b[0;31m---------------------------------------------------------------------------\u001b[0m",
      "\u001b[0;31mValueError\u001b[0m                                Traceback (most recent call last)",
      "Cell \u001b[0;32mIn[82], line 4\u001b[0m\n\u001b[1;32m      2\u001b[0m         z0 \u001b[39m=\u001b[39m \u001b[39m0.05\u001b[39m \u001b[39m#(Sun et al., 2011)\u001b[39;00m\n\u001b[1;32m      3\u001b[0m         \u001b[39mreturn\u001b[39;00m a\u001b[39m*\u001b[39mnp\u001b[39m.\u001b[39mlog(z\u001b[39m/\u001b[39mz0) \u001b[39m+\u001b[39m b \u001b[39m*\u001b[39m (z\u001b[39m/\u001b[39mz0)\n\u001b[0;32m----> 4\u001b[0m (a_u,b_u), _ \u001b[39m=\u001b[39m scipy\u001b[39m.\u001b[39;49moptimize\u001b[39m.\u001b[39;49mcurve_fit(\n\u001b[1;32m      5\u001b[0m     log_linear_fn,\n\u001b[1;32m      6\u001b[0m     \u001b[39mlist\u001b[39;49m(src_u\u001b[39m.\u001b[39;49mheight),\n\u001b[1;32m      7\u001b[0m     \u001b[39mlist\u001b[39;49m(src_u\u001b[39m.\u001b[39;49mvalue),\n\u001b[1;32m      8\u001b[0m )\n\u001b[1;32m      9\u001b[0m (a_v,b_v), _ \u001b[39m=\u001b[39m scipy\u001b[39m.\u001b[39moptimize\u001b[39m.\u001b[39mcurve_fit(\n\u001b[1;32m     10\u001b[0m     log_linear_fn,\n\u001b[1;32m     11\u001b[0m     \u001b[39mlist\u001b[39m(src_v\u001b[39m.\u001b[39mheight),\n\u001b[1;32m     12\u001b[0m     \u001b[39mlist\u001b[39m(src_v\u001b[39m.\u001b[39mvalue),\n\u001b[1;32m     13\u001b[0m )\n",
      "File \u001b[0;32m~/mambaforge/envs/arm/lib/python3.11/site-packages/scipy/optimize/_minpack_py.py:807\u001b[0m, in \u001b[0;36mcurve_fit\u001b[0;34m(f, xdata, ydata, p0, sigma, absolute_sigma, check_finite, bounds, method, jac, full_output, **kwargs)\u001b[0m\n\u001b[1;32m    803\u001b[0m \u001b[39m# optimization may produce garbage for float32 inputs, cast them to float64\u001b[39;00m\n\u001b[1;32m    804\u001b[0m \n\u001b[1;32m    805\u001b[0m \u001b[39m# NaNs cannot be handled\u001b[39;00m\n\u001b[1;32m    806\u001b[0m \u001b[39mif\u001b[39;00m check_finite:\n\u001b[0;32m--> 807\u001b[0m     ydata \u001b[39m=\u001b[39m np\u001b[39m.\u001b[39;49masarray_chkfinite(ydata, \u001b[39mfloat\u001b[39;49m)\n\u001b[1;32m    808\u001b[0m \u001b[39melse\u001b[39;00m:\n\u001b[1;32m    809\u001b[0m     ydata \u001b[39m=\u001b[39m np\u001b[39m.\u001b[39masarray(ydata, \u001b[39mfloat\u001b[39m)\n",
      "File \u001b[0;32m~/mambaforge/envs/arm/lib/python3.11/site-packages/numpy/lib/function_base.py:628\u001b[0m, in \u001b[0;36masarray_chkfinite\u001b[0;34m(a, dtype, order)\u001b[0m\n\u001b[1;32m    626\u001b[0m a \u001b[39m=\u001b[39m asarray(a, dtype\u001b[39m=\u001b[39mdtype, order\u001b[39m=\u001b[39morder)\n\u001b[1;32m    627\u001b[0m \u001b[39mif\u001b[39;00m a\u001b[39m.\u001b[39mdtype\u001b[39m.\u001b[39mchar \u001b[39min\u001b[39;00m typecodes[\u001b[39m'\u001b[39m\u001b[39mAllFloat\u001b[39m\u001b[39m'\u001b[39m] \u001b[39mand\u001b[39;00m \u001b[39mnot\u001b[39;00m np\u001b[39m.\u001b[39misfinite(a)\u001b[39m.\u001b[39mall():\n\u001b[0;32m--> 628\u001b[0m     \u001b[39mraise\u001b[39;00m \u001b[39mValueError\u001b[39;00m(\n\u001b[1;32m    629\u001b[0m         \u001b[39m\"\u001b[39m\u001b[39marray must not contain infs or NaNs\u001b[39m\u001b[39m\"\u001b[39m)\n\u001b[1;32m    630\u001b[0m \u001b[39mreturn\u001b[39;00m a\n",
      "\u001b[0;31mValueError\u001b[0m: array must not contain infs or NaNs"
     ]
    }
   ],
   "source": [
    "def log_linear_fn(z, a, b):\n",
    "        z0 = 0.05 #(Sun et al., 2011)\n",
    "        return a*np.log(z/z0) + b * (z/z0)\n",
    "(a_u,b_u), _ = scipy.optimize.curve_fit(\n",
    "    log_linear_fn,\n",
    "    list(src_u.height),\n",
    "    list(src_u.value),\n",
    ")\n",
    "(a_v,b_v), _ = scipy.optimize.curve_fit(\n",
    "    log_linear_fn,\n",
    "    list(src_v.height),\n",
    "    list(src_v.value),\n",
    ")"
   ]
  },
  {
   "cell_type": "code",
   "execution_count": 79,
   "metadata": {},
   "outputs": [
    {
     "data": {
      "text/plain": [
       "[<matplotlib.lines.Line2D at 0x7fa46b218650>]"
      ]
     },
     "execution_count": 79,
     "metadata": {},
     "output_type": "execute_result"
    },
    {
     "data": {
      "image/png": "[encoded data removed]",
      "text/plain": [
       "<Figure size 640x480 with 1 Axes>"
      ]
     },
     "metadata": {},
     "output_type": "display_data"
    }
   ],
   "source": [
    "h_values = [1,2,3,5,10,15,20]\n",
    "\n",
    "u_estimates = [log_linear_fn(h, a_u, b_u) for h in h_values]\n",
    "v_estimates = [log_linear_fn(h, a_v, b_v) for h in h_values]\n",
    "plt.scatter(src_u.value, src_u.height, color='k')\n",
    "plt.plot(u_estimates, h_values)"
   ]
  },
  {
   "cell_type": "code",
   "execution_count": null,
   "metadata": {},
   "outputs": [],
   "source": [
    "def get_estimates(row, height_values):\n",
    "    a,b,c,d = (row['a'], row['b'], row['c'], row['d'])\n",
    "    estimates = [\n",
    "        a + b*h + c*h**2 + d*h**3 for h in height_values\n",
    "    ]\n",
    "    return estimates\n",
    "\n",
    "\n",
    "\n",
    "example_set = poly_coeffs_df.query(\"time == '2023-01-10 16:00:00'\").query(\"tower == 'c'\")\n",
    "estimates = get_estimates(example_set.iloc[0], [0,1,2,3,5,10,15,20])\n",
    "estimates\n",
    "\n",
    "plt.scatter(src.value, src.height)\n",
    "plt.scatter(estimates, [0,1,2,3,5,10,15,20])\n",
    "plt.xlim(0, 1)"
   ]
  },
  {
   "cell_type": "code",
   "execution_count": null,
   "metadata": {},
   "outputs": [],
   "source": [
    "poly_coeffs_df.loc[poly_coeffs_df.index[0]]"
   ]
  },
  {
   "cell_type": "code",
   "execution_count": null,
   "metadata": {},
   "outputs": [],
   "source": [
    "import matplotlib.pyplot as plt"
   ]
  },
  {
   "cell_type": "code",
   "execution_count": null,
   "metadata": {},
   "outputs": [],
   "source": [
    "plt.plot()"
   ]
  },
  {
   "cell_type": "code",
   "execution_count": null,
   "metadata": {},
   "outputs": [],
   "source": [
    "x, y"
   ]
  },
  {
   "cell_type": "code",
   "execution_count": null,
   "metadata": {},
   "outputs": [],
   "source": []
  },
  {
   "cell_type": "code",
   "execution_count": null,
   "metadata": {},
   "outputs": [],
   "source": [
    "poly_coeffs_df"
   ]
  },
  {
   "cell_type": "code",
   "execution_count": null,
   "metadata": {},
   "outputs": [],
   "source": [
    "# create an empty list to hold the gradient values\n",
    "gradient_values = []\n",
    "\n",
    "groups = tidy_df.query(\"measurement == 'u'\").groupby([\"time\", \"tower\"])\n",
    "\n",
    "\n",
    "# loop through each group\n",
    "for name, group in groups:\n",
    "    # extract the values from the \"height\" and \"value\" columns\n",
    "    x = group[\"height\"].values\n",
    "    y = group[\"value\"].values\n",
    "\n",
    "    # fit a second-order polynomial to the data\n",
    "    coeffs = np.polyfit(y, x, 2)\n",
    "    \n",
    "#     deriv = np.polyder(coeffs)\n",
    "#     # calculate the gradient of the fitted polynomial\n",
    "#     gradient = 2 * coeffs[0] * x + coeffs[1]\n",
    "    \n",
    "#     # add the gradient values to the list\n",
    "#     gradient_values.append(gradient)\n",
    "    \n",
    "# # convert the list of gradient values to a pandas DataFrame\n",
    "# gradient_df = pd.DataFrame(gradient_values)\n",
    "\n",
    "# # add columns for the \"time\" and \"tower\" values\n",
    "# gradient_df[\"time\"] = groups.apply(lambda x: x[\"time\"].iloc[0]).values\n",
    "# gradient_df[\"tower\"] = groups.apply(lambda x: x[\"tower\"].iloc[0]).values\n",
    "\n",
    "# # rename the columns to something more descriptive\n",
    "# gradient_df.columns = [\"gradient\", \"time\", \"tower\"]\n"
   ]
  },
  {
   "cell_type": "code",
   "execution_count": null,
   "metadata": {},
   "outputs": [],
   "source": [
    "gradient_df"
   ]
  },
  {
   "cell_type": "code",
   "execution_count": null,
   "metadata": {},
   "outputs": [],
   "source": [
    "# groupby: tower, height: time \n",
    "\n",
    "# Plot profiles of u, temperature, and humidity\n",
    "\n",
    "# Fit 3 functions to 3 profiles\n",
    "\n",
    "# Calculate shear at each height, interpolating with your fit\n",
    "    # How to calculate shear?\n",
    "    # 1. Differentiate the fitted function get value\n",
    "    # 2. use the two sensors on either side?\n",
    "\n",
    "# Assign calculated shear values to tidy_df\n",
    "\n",
    "# calculate R^2 of fit\n",
    "\n",
    "tidy_df"
   ]
  },
  {
   "cell_type": "code",
   "execution_count": null,
   "metadata": {},
   "outputs": [],
   "source": [
    "g = tidy_df.groupby(['tower', 'height', 'time'])"
   ]
  },
  {
   "cell_type": "code",
   "execution_count": null,
   "metadata": {},
   "outputs": [],
   "source": [
    "df = g.get_group(list(g.groups)[500])\n"
   ]
  },
  {
   "cell_type": "code",
   "execution_count": null,
   "metadata": {},
   "outputs": [],
   "source": [
    "tidy_df.tower.unique()"
   ]
  },
  {
   "cell_type": "code",
   "execution_count": null,
   "metadata": {},
   "outputs": [],
   "source": [
    "tidy_df.query(\"measurement == 'u'\")"
   ]
  },
  {
   "cell_type": "code",
   "execution_count": null,
   "metadata": {},
   "outputs": [],
   "source": []
  },
  {
   "cell_type": "code",
   "execution_count": 19,
   "metadata": {},
   "outputs": [],
   "source": [
    "def log_linear_fn(z, a, b):\n",
    "        z0 = 0.05 #(Sun et al., 2011)\n",
    "        return a*np.log(z/z0) + b * (z/z0)\n",
    "(a_u,b_u), _ = scipy.optimize.curve_fit(\n",
    "    log_linear_fn,\n",
    "    list(src_u.height),\n",
    "    list(src_u.value),\n",
    ")\n",
    "(a_v,b_v), _ = scipy.optimize.curve_fit(\n",
    "    log_linear_fn,\n",
    "    list(src_v.height),\n",
    "    list(src_v.value),\n",
    ")"
   ]
  },
  {
   "cell_type": "code",
   "execution_count": 21,
   "metadata": {},
   "outputs": [
    {
     "data": {
      "text/plain": [
       "<matplotlib.collections.PathCollection at 0x7fa46c9cfdd0>"
      ]
     },
     "execution_count": 21,
     "metadata": {},
     "output_type": "execute_result"
    },
    {
     "data": {
      "image/png": "[encoded data removed]",
      "text/plain": [
       "<Figure size 640x480 with 1 Axes>"
      ]
     },
     "metadata": {},
     "output_type": "display_data"
    }
   ],
   "source": [
    "h_values = [1,2,3,5,10,15,20]\n",
    "\n",
    "u_estimates = [log_linear_fn(h, a_u, b_u) for h in h_values]\n",
    "v_estimates = [log_linear_fn(h, a_v, b_v) for h in h_values]\n",
    "plt.scatter(src_u.value, src_u.height, color='k')\n",
    "plt.plot(u_estimates, h_values)\n",
    "plt.scatter(src_v.value, src_v.height, color='k')\n",
    "# plt.plot(v_estimates, h_values)"
   ]
  },
  {
   "cell_type": "code",
   "execution_count": null,
   "metadata": {},
   "outputs": [],
   "source": [
    "def get_estimates(row, height_values):\n",
    "    a,b,c,d = (row['a'], row['b'], row['c'], row['d'])\n",
    "    estimates = [\n",
    "        a + b*h + c*h**2 + d*h**3 for h in height_values\n",
    "    ]\n",
    "    return estimates\n",
    "\n",
    "\n",
    "\n",
    "example_set = poly_coeffs_df.query(\"time == '2023-01-10 16:00:00'\").query(\"tower == 'c'\")\n",
    "estimates = get_estimates(example_set.iloc[0], [0,1,2,3,5,10,15,20])\n",
    "estimates\n",
    "\n",
    "plt.scatter(src.value, src.height)\n",
    "plt.scatter(estimates, [0,1,2,3,5,10,15,20])\n",
    "plt.xlim(0, 1)"
   ]
  },
  {
   "cell_type": "code",
   "execution_count": null,
   "metadata": {},
   "outputs": [],
   "source": [
    "poly_coeffs_df.loc[poly_coeffs_df.index[0]]"
   ]
  },
  {
   "cell_type": "code",
   "execution_count": null,
   "metadata": {},
   "outputs": [],
   "source": [
    "import matplotlib.pyplot as plt"
   ]
  },
  {
   "cell_type": "code",
   "execution_count": null,
   "metadata": {},
   "outputs": [],
   "source": [
    "plt.plot()"
   ]
  },
  {
   "cell_type": "code",
   "execution_count": null,
   "metadata": {},
   "outputs": [],
   "source": [
    "x, y"
   ]
  },
  {
   "cell_type": "code",
   "execution_count": null,
   "metadata": {},
   "outputs": [],
   "source": []
  },
  {
   "cell_type": "code",
   "execution_count": null,
   "metadata": {},
   "outputs": [],
   "source": [
    "poly_coeffs_df"
   ]
  },
  {
   "cell_type": "code",
   "execution_count": null,
   "metadata": {},
   "outputs": [],
   "source": [
    "# create an empty list to hold the gradient values\n",
    "gradient_values = []\n",
    "\n",
    "groups = tidy_df.query(\"measurement == 'u'\").groupby([\"time\", \"tower\"])\n",
    "\n",
    "\n",
    "# loop through each group\n",
    "for name, group in groups:\n",
    "    # extract the values from the \"height\" and \"value\" columns\n",
    "    x = group[\"height\"].values\n",
    "    y = group[\"value\"].values\n",
    "\n",
    "    # fit a second-order polynomial to the data\n",
    "    coeffs = np.polyfit(y, x, 2)\n",
    "    \n",
    "#     deriv = np.polyder(coeffs)\n",
    "#     # calculate the gradient of the fitted polynomial\n",
    "#     gradient = 2 * coeffs[0] * x + coeffs[1]\n",
    "    \n",
    "#     # add the gradient values to the list\n",
    "#     gradient_values.append(gradient)\n",
    "    \n",
    "# # convert the list of gradient values to a pandas DataFrame\n",
    "# gradient_df = pd.DataFrame(gradient_values)\n",
    "\n",
    "# # add columns for the \"time\" and \"tower\" values\n",
    "# gradient_df[\"time\"] = groups.apply(lambda x: x[\"time\"].iloc[0]).values\n",
    "# gradient_df[\"tower\"] = groups.apply(lambda x: x[\"tower\"].iloc[0]).values\n",
    "\n",
    "# # rename the columns to something more descriptive\n",
    "# gradient_df.columns = [\"gradient\", \"time\", \"tower\"]\n"
   ]
  },
  {
   "cell_type": "code",
   "execution_count": null,
   "metadata": {},
   "outputs": [],
   "source": [
    "gradient_df"
   ]
  },
  {
   "cell_type": "code",
   "execution_count": null,
   "metadata": {},
   "outputs": [],
   "source": [
    "# groupby: tower, height: time \n",
    "\n",
    "# Plot profiles of u, temperature, and humidity\n",
    "\n",
    "# Fit 3 functions to 3 profiles\n",
    "\n",
    "# Calculate shear at each height, interpolating with your fit\n",
    "    # How to calculate shear?\n",
    "    # 1. Differentiate the fitted function get value\n",
    "    # 2. use the two sensors on either side?\n",
    "\n",
    "# Assign calculated shear values to tidy_df\n",
    "\n",
    "# calculate R^2 of fit\n",
    "\n",
    "tidy_df"
   ]
  },
  {
   "cell_type": "code",
   "execution_count": null,
   "metadata": {},
   "outputs": [],
   "source": [
    "g = tidy_df.groupby(['tower', 'height', 'time'])"
   ]
  },
  {
   "cell_type": "code",
   "execution_count": null,
   "metadata": {},
   "outputs": [],
   "source": [
    "df = g.get_group(list(g.groups)[500])\n"
   ]
  },
  {
   "cell_type": "code",
   "execution_count": null,
   "metadata": {},
   "outputs": [],
   "source": [
    "tidy_df.tower.unique()"
   ]
  },
  {
   "cell_type": "code",
   "execution_count": null,
   "metadata": {},
   "outputs": [],
   "source": [
    "tidy_df.query(\"measurement == 'u'\")"
   ]
  },
  {
   "cell_type": "code",
   "execution_count": null,
   "metadata": {},
   "outputs": [],
   "source": []
  }
 ],
 "metadata": {
  "kernelspec": {
   "display_name": "arm",
   "language": "python",
   "name": "python3"
  },
  "language_info": {
   "codemirror_mode": {
    "name": "ipython",
    "version": 3
   },
   "file_extension": ".py",
   "mimetype": "text/x-python",
   "name": "python",
   "nbconvert_exporter": "python",
   "pygments_lexer": "ipython3",
   "version": "3.11.0"
  },
  "orig_nbformat": 4
 },
 "nbformat": 4,
 "nbformat_minor": 2
}
