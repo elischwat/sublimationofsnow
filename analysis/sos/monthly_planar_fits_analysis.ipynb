{
 "cells": [
  {
   "cell_type": "code",
   "execution_count": 6,
   "metadata": {},
   "outputs": [],
   "source": [
    "import pandas as pd\n",
    "import altair as alt"
   ]
  },
  {
   "attachments": {},
   "cell_type": "markdown",
   "metadata": {},
   "source": [
    "Run planar_fit_monthly.py to create this dataset"
   ]
  },
  {
   "cell_type": "code",
   "execution_count": 7,
   "metadata": {},
   "outputs": [],
   "source": [
    "fits_df = pd.read_csv(\"/data2/elilouis/sublimationofsnow/monthly_planar_fits.csv\", delim_whitespace=True)"
   ]
  },
  {
   "cell_type": "code",
   "execution_count": 8,
   "metadata": {},
   "outputs": [
    {
     "data": {
      "text/html": [
       "<div>\n",
       "<style scoped>\n",
       "    .dataframe tbody tr th:only-of-type {\n",
       "        vertical-align: middle;\n",
       "    }\n",
       "\n",
       "    .dataframe tbody tr th {\n",
       "        vertical-align: top;\n",
       "    }\n",
       "\n",
       "    .dataframe thead th {\n",
       "        text-align: right;\n",
       "    }\n",
       "</style>\n",
       "<table border=\"1\" class=\"dataframe\">\n",
       "  <thead>\n",
       "    <tr style=\"text-align: right;\">\n",
       "      <th></th>\n",
       "      <th>month</th>\n",
       "      <th>height</th>\n",
       "      <th>tower</th>\n",
       "      <th>a</th>\n",
       "      <th>b</th>\n",
       "      <th>c</th>\n",
       "      <th>tilt</th>\n",
       "      <th>tiltaz</th>\n",
       "    </tr>\n",
       "  </thead>\n",
       "  <tbody>\n",
       "    <tr>\n",
       "      <th>0</th>\n",
       "      <td>11</td>\n",
       "      <td>1</td>\n",
       "      <td>c</td>\n",
       "      <td>-0.084668</td>\n",
       "      <td>0.001052</td>\n",
       "      <td>0.005831</td>\n",
       "      <td>0.339513</td>\n",
       "      <td>-100.230164</td>\n",
       "    </tr>\n",
       "    <tr>\n",
       "      <th>1</th>\n",
       "      <td>11</td>\n",
       "      <td>3</td>\n",
       "      <td>c</td>\n",
       "      <td>-0.040798</td>\n",
       "      <td>0.000765</td>\n",
       "      <td>0.007379</td>\n",
       "      <td>0.425062</td>\n",
       "      <td>-95.917542</td>\n",
       "    </tr>\n",
       "    <tr>\n",
       "      <th>2</th>\n",
       "      <td>11</td>\n",
       "      <td>10</td>\n",
       "      <td>c</td>\n",
       "      <td>-0.102062</td>\n",
       "      <td>0.005427</td>\n",
       "      <td>0.013677</td>\n",
       "      <td>0.842997</td>\n",
       "      <td>-111.643822</td>\n",
       "    </tr>\n",
       "    <tr>\n",
       "      <th>3</th>\n",
       "      <td>11</td>\n",
       "      <td>20</td>\n",
       "      <td>c</td>\n",
       "      <td>-0.039351</td>\n",
       "      <td>0.000963</td>\n",
       "      <td>0.011325</td>\n",
       "      <td>0.651200</td>\n",
       "      <td>-94.857903</td>\n",
       "    </tr>\n",
       "    <tr>\n",
       "      <th>4</th>\n",
       "      <td>11</td>\n",
       "      <td>1</td>\n",
       "      <td>uw</td>\n",
       "      <td>-0.056424</td>\n",
       "      <td>0.004298</td>\n",
       "      <td>0.006243</td>\n",
       "      <td>0.434235</td>\n",
       "      <td>-124.546143</td>\n",
       "    </tr>\n",
       "  </tbody>\n",
       "</table>\n",
       "</div>"
      ],
      "text/plain": [
       "   month  height tower         a         b         c      tilt      tiltaz\n",
       "0     11       1     c -0.084668  0.001052  0.005831  0.339513 -100.230164\n",
       "1     11       3     c -0.040798  0.000765  0.007379  0.425062  -95.917542\n",
       "2     11      10     c -0.102062  0.005427  0.013677  0.842997 -111.643822\n",
       "3     11      20     c -0.039351  0.000963  0.011325  0.651200  -94.857903\n",
       "4     11       1    uw -0.056424  0.004298  0.006243  0.434235 -124.546143"
      ]
     },
     "execution_count": 8,
     "metadata": {},
     "output_type": "execute_result"
    }
   ],
   "source": [
    "fits_df.head()"
   ]
  },
  {
   "cell_type": "code",
   "execution_count": 9,
   "metadata": {},
   "outputs": [
    {
     "name": "stderr",
     "output_type": "stream",
     "text": [
      "/home/elilouis/mambaforge/envs/arm/lib/python3.11/site-packages/altair/utils/core.py:317: FutureWarning: iteritems is deprecated and will be removed in a future version. Use .items instead.\n",
      "  for col_name, dtype in df.dtypes.iteritems():\n"
     ]
    },
    {
     "data": {
      "text/html": [
       "\n",
       "<div id=\"altair-viz-c352444d183744838429ef766cf99b14\"></div>\n",
       "<script type=\"text/javascript\">\n",
       "  var VEGA_DEBUG = (typeof VEGA_DEBUG == \"undefined\") ? {} : VEGA_DEBUG;\n",
       "  (function(spec, embedOpt){\n",
       "    let outputDiv = document.currentScript.previousElementSibling;\n",
       "    if (outputDiv.id !== \"altair-viz-c352444d183744838429ef766cf99b14\") {\n",
       "      outputDiv = document.getElementById(\"altair-viz-c352444d183744838429ef766cf99b14\");\n",
       "    }\n",
       "    const paths = {\n",
       "      \"vega\": \"https://cdn.jsdelivr.net/npm//vega@5?noext\",\n",
       "      \"vega-lib\": \"https://cdn.jsdelivr.net/npm//vega-lib?noext\",\n",
       "      \"vega-lite\": \"https://cdn.jsdelivr.net/npm//vega-lite@4.17.0?noext\",\n",
       "      \"vega-embed\": \"https://cdn.jsdelivr.net/npm//vega-embed@6?noext\",\n",
       "    };\n",
       "\n",
       "    function maybeLoadScript(lib, version) {\n",
       "      var key = `${lib.replace(\"-\", \"\")}_version`;\n",
       "      return (VEGA_DEBUG[key] == version) ?\n",
       "        Promise.resolve(paths[lib]) :\n",
       "        new Promise(function(resolve, reject) {\n",
       "          var s = document.createElement('script');\n",
       "          document.getElementsByTagName(\"head\")[0].appendChild(s);\n",
       "          s.async = true;\n",
       "          s.onload = () => {\n",
       "            VEGA_DEBUG[key] = version;\n",
       "            return resolve(paths[lib]);\n",
       "          };\n",
       "          s.onerror = () => reject(`Error loading script: ${paths[lib]}`);\n",
       "          s.src = paths[lib];\n",
       "        });\n",
       "    }\n",
       "\n",
       "    function showError(err) {\n",
       "      outputDiv.innerHTML = `<div class=\"error\" style=\"color:red;\">${err}</div>`;\n",
       "      throw err;\n",
       "    }\n",
       "\n",
       "    function displayChart(vegaEmbed) {\n",
       "      vegaEmbed(outputDiv, spec, embedOpt)\n",
       "        .catch(err => showError(`Javascript Error: ${err.message}<br>This usually means there's a typo in your chart specification. See the javascript console for the full traceback.`));\n",
       "    }\n",
       "\n",
       "    if(typeof define === \"function\" && define.amd) {\n",
       "      requirejs.config({paths});\n",
       "      require([\"vega-embed\"], displayChart, err => showError(`Error loading script: ${err.message}`));\n",
       "    } else {\n",
       "      maybeLoadScript(\"vega\", \"5\")\n",
       "        .then(() => maybeLoadScript(\"vega-lite\", \"4.17.0\"))\n",
       "        .then(() => maybeLoadScript(\"vega-embed\", \"6\"))\n",
       "        .catch(showError)\n",
       "        .then(() => displayChart(vegaEmbed));\n",
       "    }\n",
       "  })({\"config\": {\"view\": {\"continuousWidth\": 400, \"continuousHeight\": 300}}, \"data\": {\"name\": \"data-9d4d2f09ce7e547d57e32b1a43808b9c\"}, \"facet\": {\"row\": {\"field\": \"height\", \"title\": \"Height (m)\", \"type\": \"ordinal\"}}, \"spec\": {\"mark\": \"line\", \"encoding\": {\"color\": {\"field\": \"tower\", \"type\": \"nominal\"}, \"x\": {\"field\": \"month\", \"sort\": [11, 12, 1], \"type\": \"ordinal\"}, \"y\": {\"field\": \"tilt\", \"title\": \"Tilt angle (deg)\", \"type\": \"quantitative\"}}, \"height\": 100, \"width\": 200}, \"$schema\": \"https://vega.github.io/schema/vega-lite/v4.17.0.json\", \"datasets\": {\"data-9d4d2f09ce7e547d57e32b1a43808b9c\": [{\"month\": 11, \"height\": 1, \"tower\": \"c\", \"a\": -0.0846684724092483, \"b\": 0.0010524203535169, \"c\": 0.0058314888738095, \"tilt\": 0.3395132912892672, \"tiltaz\": -100.23016357421876}, {\"month\": 11, \"height\": 3, \"tower\": \"c\", \"a\": -0.0407984778285026, \"b\": 0.0007648635655641, \"c\": 0.0073793269693851, \"tilt\": 0.4250615650302946, \"tiltaz\": -95.91754150390624}, {\"month\": 11, \"height\": 10, \"tower\": \"c\", \"a\": -0.1020623072981834, \"b\": 0.0054270951077342, \"c\": 0.0136767067015171, \"tilt\": 0.8429968031269485, \"tiltaz\": -111.6438217163086}, {\"month\": 11, \"height\": 20, \"tower\": \"c\", \"a\": -0.0393508486449718, \"b\": 0.0009625341626815, \"c\": 0.0113252354785799, \"tilt\": 0.6511995055022926, \"tiltaz\": -94.85790252685548}, {\"month\": 11, \"height\": 1, \"tower\": \"uw\", \"a\": -0.0564239919185638, \"b\": 0.0042978040874004, \"c\": 0.0062425662763416, \"tilt\": 0.4342345568080147, \"tiltaz\": -124.546142578125}, {\"month\": 11, \"height\": 3, \"tower\": \"uw\", \"a\": -0.0883755460381507, \"b\": 0.0026257797144353, \"c\": 0.0079983584582805, \"tilt\": 0.4823239887487811, \"tiltaz\": -108.17448425292967}, {\"month\": 11, \"height\": 10, \"tower\": \"uw\", \"a\": -0.0888757109642028, \"b\": 0.0010576400673016, \"c\": 0.0107191279530525, \"tilt\": 0.6171192574701195, \"tiltaz\": -95.63504791259766}, {\"month\": 11, \"height\": 1, \"tower\": \"ue\", \"a\": -0.0706282630562782, \"b\": 0.0014517576200887, \"c\": 0.0079825185239315, \"tilt\": 0.4648567057448077, \"tiltaz\": -100.30755615234376}, {\"month\": 11, \"height\": 3, \"tower\": \"ue\", \"a\": -0.0706183016300201, \"b\": 0.0009432404185645, \"c\": 0.0073911030776798, \"tilt\": 0.4269056681231577, \"tiltaz\": -97.2726821899414}, {\"month\": 11, \"height\": 10, \"tower\": \"ue\", \"a\": -0.0796171054244041, \"b\": 0.0036238294560462, \"c\": 0.0087456833571195, \"tilt\": 0.5423878973259127, \"tiltaz\": -112.5069808959961}, {\"month\": 11, \"height\": 1, \"tower\": \"d\", \"a\": -0.0602864138782024, \"b\": 0.0006633868906646, \"c\": 0.005861441604793, \"tilt\": 0.3379760102219648, \"tiltaz\": -96.45714569091795}, {\"month\": 11, \"height\": 3, \"tower\": \"d\", \"a\": -0.0592260435223579, \"b\": 0.001720756990835, \"c\": 0.0067897802218794, \"tilt\": 0.4013180428799399, \"tiltaz\": -104.2212371826172}, {\"month\": 11, \"height\": 10, \"tower\": \"d\", \"a\": -0.0528323426842689, \"b\": 0.0038155484944581, \"c\": 0.0100506357848644, \"tilt\": 0.6159357215577216, \"tiltaz\": -110.78839111328124}, {\"month\": 12, \"height\": 1, \"tower\": \"c\", \"a\": -0.1077731326222419, \"b\": 0.0023661393206566, \"c\": 0.0022117565385997, \"tilt\": 0.1855747314861469, \"tiltaz\": -136.93148803710938}, {\"month\": 12, \"height\": 3, \"tower\": \"c\", \"a\": -0.0556044988334178, \"b\": 0.0023161603603512, \"c\": 0.0027211559936404, \"tilt\": 0.2047406783405253, \"tiltaz\": -130.40335083007812}, {\"month\": 12, \"height\": 10, \"tower\": \"c\", \"a\": -0.1285413056612014, \"b\": 0.004961144644767, \"c\": 0.0018655557651072, \"tilt\": 0.3036823785429763, \"tiltaz\": -159.39205932617188}, {\"month\": 12, \"height\": 20, \"tower\": \"c\", \"a\": -0.069918692111969, \"b\": 0.0027467953041195, \"c\": 0.0034636636264622, \"tilt\": 0.2532810179257515, \"tiltaz\": -128.41552734375}, {\"month\": 12, \"height\": 1, \"tower\": \"uw\", \"a\": -0.1033271551132202, \"b\": 0.013214916922152, \"c\": 0.0073983394540846, \"tilt\": 0.8676752773771613, \"tiltaz\": -150.7578125}, {\"month\": 12, \"height\": 3, \"tower\": \"uw\", \"a\": -0.1232333034276962, \"b\": 0.0045574572868645, \"c\": 0.0035000811330974, \"tilt\": 0.3292402048542948, \"tiltaz\": -142.47610473632812}, {\"month\": 12, \"height\": 10, \"tower\": \"uw\", \"a\": -0.1284942626953125, \"b\": 0.0041003068909049, \"c\": 0.0029478499200195, \"tilt\": 0.2893402951761681, \"tiltaz\": -144.28634643554688}, {\"month\": 12, \"height\": 1, \"tower\": \"ue\", \"a\": -0.0957108587026596, \"b\": 0.0030044002924114, \"c\": 0.0034792923834174, \"tilt\": 0.2633836499786164, \"tiltaz\": -130.81089782714844}, {\"month\": 12, \"height\": 3, \"tower\": \"ue\", \"a\": -0.0894064977765083, \"b\": 0.0021780347451567, \"c\": 0.0027903472073376, \"tilt\": 0.2028122350635266, \"tiltaz\": -127.97418975830078}, {\"month\": 12, \"height\": 10, \"tower\": \"ue\", \"a\": -0.0945335254073143, \"b\": 0.0031115789897739, \"c\": 0.0024511527735739, \"tilt\": 0.2269513932662587, \"tiltaz\": -141.77064514160156}, {\"month\": 12, \"height\": 1, \"tower\": \"d\", \"a\": -0.1076517477631568, \"b\": 0.0017129968618974, \"c\": 7.41413387004286e-05, \"tilt\": 0.098239281150557, \"tiltaz\": -177.5216827392578}, {\"month\": 12, \"height\": 3, \"tower\": \"d\", \"a\": -0.0840351432561874, \"b\": 0.0027594156563282, \"c\": 0.0022665148135274, \"tilt\": 0.204597731361395, \"tiltaz\": -140.60116577148438}, {\"month\": 12, \"height\": 10, \"tower\": \"d\", \"a\": -0.0858929008245468, \"b\": 0.0026422773953527, \"c\": 0.0031456905417144, \"tilt\": 0.235379046496826, \"tiltaz\": -130.02915954589844}, {\"month\": 1, \"height\": 1, \"tower\": \"c\", \"a\": -0.0747995600104332, \"b\": -0.0044904160313308, \"c\": 0.0083260731771588, \"tilt\": 0.5419889785347609, \"tiltaz\": -61.6611328125}, {\"month\": 1, \"height\": 3, \"tower\": \"c\", \"a\": -0.0290323831140995, \"b\": 0.0002219892630819, \"c\": 0.0050889109261333, \"tilt\": 0.2918478785726887, \"tiltaz\": -92.4977798461914}, {\"month\": 1, \"height\": 10, \"tower\": \"c\", \"a\": -0.0628951489925384, \"b\": -0.0034443880431354, \"c\": 0.0090914154425263, \"tilt\": 0.5570130797289561, \"tiltaz\": -69.25022888183594}, {\"month\": 1, \"height\": 20, \"tower\": \"c\", \"a\": -0.0133730070665478, \"b\": -0.0029403653461486, \"c\": 0.0072054802440106, \"tilt\": 0.4458857862838846, \"tiltaz\": -67.8009262084961}, {\"month\": 1, \"height\": 1, \"tower\": \"uw\", \"a\": -0.0818028375506401, \"b\": -0.0032727881334722, \"c\": -0.0106365131214261, \"tilt\": 0.6375975908699892, \"tiltaz\": 72.89720153808594}, {\"month\": 1, \"height\": 3, \"tower\": \"uw\", \"a\": -0.076939158141613, \"b\": 0.0005941297858953, \"c\": 0.0059070913121104, \"tilt\": 0.3401550099013736, \"tiltaz\": -95.74343872070312}, {\"month\": 1, \"height\": 10, \"tower\": \"uw\", \"a\": -0.0669010654091835, \"b\": -0.0013726436300203, \"c\": 0.0075126988813281, \"tilt\": 0.4375632101185595, \"tiltaz\": -79.64571380615234}, {\"month\": 1, \"height\": 1, \"tower\": \"ue\", \"a\": -0.0555057078599929, \"b\": 3.110082616331056e-05, \"c\": 0.0047432072460651, \"tilt\": 0.2717695603634706, \"tiltaz\": -90.37567901611328}, {\"month\": 1, \"height\": 3, \"tower\": \"ue\", \"a\": -0.0541135482490062, \"b\": -0.0018196433084085, \"c\": 0.0069649498909711, \"tilt\": 0.4124493846488044, \"tiltaz\": -75.35832977294922}, {\"month\": 1, \"height\": 10, \"tower\": \"ue\", \"a\": -0.0434314534068107, \"b\": -0.0016063019866123, \"c\": 0.005729004740715, \"tilt\": 0.3409020201637843, \"tiltaz\": -74.33753204345703}, {\"month\": 1, \"height\": 1, \"tower\": \"d\", \"a\": -0.0738812685012817, \"b\": -0.0066527961753308, \"c\": -0.002269163262099, \"tilt\": 0.4027333809432772, \"tiltaz\": 18.83369445800781}, {\"month\": 1, \"height\": 3, \"tower\": \"d\", \"a\": -0.0483788810670375, \"b\": 9.622200013836846e-05, \"c\": 0.005904006306082, \"tilt\": 0.3383156343168511, \"tiltaz\": -90.93370819091795}, {\"month\": 1, \"height\": 10, \"tower\": \"d\", \"a\": -0.0340845994651317, \"b\": -0.002423578640446, \"c\": 0.0072673140093684, \"tilt\": 0.4389219105955822, \"tiltaz\": -71.55696105957031}]}}, {\"mode\": \"vega-lite\"});\n",
       "</script>"
      ],
      "text/plain": [
       "alt.FacetChart(...)"
      ]
     },
     "execution_count": 9,
     "metadata": {},
     "output_type": "execute_result"
    }
   ],
   "source": [
    "alt.Chart(fits_df).mark_line().encode(\n",
    "    alt.X('month:O', sort=[11, 12, 1]),\n",
    "    alt.Y('tilt:Q', title=\"Tilt angle (deg)\"),\n",
    "    alt.Color('tower:N')\n",
    ").properties(height=100, width=200).facet(\n",
    "    row = alt.Row('height:O', title='Height (m)')\n",
    ")"
   ]
  },
  {
   "cell_type": "code",
   "execution_count": null,
   "metadata": {},
   "outputs": [],
   "source": []
  }
 ],
 "metadata": {
  "kernelspec": {
   "display_name": "arm",
   "language": "python",
   "name": "python3"
  },
  "language_info": {
   "codemirror_mode": {
    "name": "ipython",
    "version": 3
   },
   "file_extension": ".py",
   "mimetype": "text/x-python",
   "name": "python",
   "nbconvert_exporter": "python",
   "pygments_lexer": "ipython3",
   "version": "3.11.0 | packaged by conda-forge | (main, Jan 14 2023, 12:27:40) [GCC 11.3.0]"
  },
  "orig_nbformat": 4,
  "vscode": {
   "interpreter": {
    "hash": "e2b11a00ad1b97cabcd9cc9209b8824a0fcaf6ffe37b5243943912873b5dcab1"
   }
  }
 },
 "nbformat": 4,
 "nbformat_minor": 2
}
