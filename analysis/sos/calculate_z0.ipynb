{
 "cells": [
  {
   "cell_type": "code",
   "execution_count": 15,
   "metadata": {},
   "outputs": [
    {
     "data": {
      "text/plain": [
       "DataTransformerRegistry.enable('json')"
      ]
     },
     "execution_count": 15,
     "metadata": {},
     "output_type": "execute_result"
    }
   ],
   "source": [
    "import pandas as pd\n",
    "import datetime as dt\n",
    "import numpy as np\n",
    "\n",
    "from sublimpy import tidy\n",
    "\n",
    "\n",
    "import altair as alt\n",
    "alt.data_transformers.enable('json') "
   ]
  },
  {
   "cell_type": "markdown",
   "metadata": {},
   "source": [
    "# Inputs"
   ]
  },
  {
   "cell_type": "code",
   "execution_count": 16,
   "metadata": {},
   "outputs": [],
   "source": [
    "start_date = '20221130'\n",
    "end_date = '20230517'"
   ]
  },
  {
   "cell_type": "code",
   "execution_count": 17,
   "metadata": {},
   "outputs": [],
   "source": [
    "try:\n",
    "    tidy_df_30Min = pd.read_parquet(f\"../sos/tidy_df_30Min_{start_date}_{end_date}_noplanar_fit.parquet\")\n",
    "except FileNotFoundError:\n",
    "    print(\"No file such file exists for these dates.\")\n",
    "tidy_df_30Min['time'] = pd.to_datetime(tidy_df_30Min['time'])"
   ]
  },
  {
   "cell_type": "code",
   "execution_count": 18,
   "metadata": {},
   "outputs": [
    {
     "data": {
      "text/plain": [
       "array(['spd_10m_c', 'spd_10m_d', 'spd_10m_ue', 'spd_10m_uw', 'spd_15m_c',\n",
       "       'spd_1m_d', 'spd_1m_ue', 'spd_1m_uw', 'spd_20m_c', 'spd_2m_c',\n",
       "       'spd_3m_c', 'spd_3m_d', 'spd_3m_ue', 'spd_3m_uw', 'spd_5m_c'],\n",
       "      dtype=object)"
      ]
     },
     "execution_count": 18,
     "metadata": {},
     "output_type": "execute_result"
    }
   ],
   "source": [
    "tidy_df_30Min[tidy_df_30Min.variable.str.startswith('spd_')].variable.unique()"
   ]
  },
  {
   "cell_type": "markdown",
   "metadata": {},
   "source": [
    "The velocity profile during neutral conditions is \n",
    "\n",
    "$$\\overline{u} = \\frac{u_*}{k} ln(z / z_0)$$\n",
    "\n",
    "or\n",
    "\n",
    "$$\\overline{u} = \\frac{u_*}{k} ln(z) - \\frac{u_*}{k}ln(z_0)$$\n",
    "\n",
    "or\n",
    "\n",
    "$$\\frac{k}{u_*} \\overline{u} = ln(z) - ln(z_0)$$"
   ]
  },
  {
   "cell_type": "code",
   "execution_count": 19,
   "metadata": {},
   "outputs": [],
   "source": [
    "neutral_timestamps = tidy_df_30Min.query(\"variable == 'Ri_3m_c'\").query(\"value < 0.25\").query(\"value > -0.25\").time\n",
    "\n",
    "VON_KARMAN = 0.4\n",
    "\n",
    "fit_data = tidy_df_30Min[tidy_df_30Min.variable.isin([\n",
    "    'spd_2m_c',\n",
    "    'spd_3m_c',\n",
    "    'spd_15m_c',\n",
    "    'spd_20m_c',\n",
    "    \n",
    "    'u*_2m_c',\n",
    "    'u*_3m_c',\n",
    "    'u*_15m_c',\n",
    "    'u*_20m_c',\n",
    "])]\n",
    "\n",
    "fit_data = fit_data[fit_data.time.isin(neutral_timestamps)]\n",
    "\n",
    "# fit_data = fit_data.pivot_table(\n",
    "#     values = 'value',\n",
    "#     index = 'time',\n",
    "#     columns='variable'\n",
    "# ).reset_index()"
   ]
  },
  {
   "cell_type": "code",
   "execution_count": 20,
   "metadata": {},
   "outputs": [],
   "source": [
    "src = fit_data[fit_data.time == fit_data.time.min()]\n",
    "\n",
    "wind_speed = src.query(\"measurement == 'wind speed'\").sort_values(\"height\")['value']\n",
    "\n",
    "shear_velocity = src.query(\"measurement == 'shear velocity'\").sort_values(\"height\")['value']\n",
    "height = src.query(\"measurement == 'wind speed'\").sort_values(\"height\")['height']"
   ]
  },
  {
   "cell_type": "code",
   "execution_count": 21,
   "metadata": {},
   "outputs": [
    {
     "data": {
      "text/plain": [
       "(array([0.08868503, 0.1362764 , 0.37760024, 0.49852509]),\n",
       " array([3.13829299, 3.32342617, 3.91653144, 3.87715062]))"
      ]
     },
     "execution_count": 21,
     "metadata": {},
     "output_type": "execute_result"
    }
   ],
   "source": [
    "y = wind_speed.values\n",
    "x = VON_KARMAN*shear_velocity.values*np.log(height.values)\n",
    "\n",
    "x, y"
   ]
  },
  {
   "cell_type": "code",
   "execution_count": 22,
   "metadata": {},
   "outputs": [],
   "source": [
    "slope, intercept = np.polyfit(x, y, deg=1)"
   ]
  },
  {
   "cell_type": "code",
   "execution_count": 23,
   "metadata": {},
   "outputs": [],
   "source": [
    "import matplotlib.pyplot as plt"
   ]
  },
  {
   "cell_type": "code",
   "execution_count": 24,
   "metadata": {},
   "outputs": [
    {
     "data": {
      "text/plain": [
       "[<matplotlib.lines.Line2D at 0x7fe674278490>]"
      ]
     },
     "execution_count": 24,
     "metadata": {},
     "output_type": "execute_result"
    },
    {
     "data": {
      "image/png": "[encoded data removed]",
      "text/plain": [
       "<Figure size 640x480 with 1 Axes>"
      ]
     },
     "metadata": {},
     "output_type": "display_data"
    }
   ],
   "source": [
    "plt.scatter(x,y)\n",
    "domain = np.linspace(x.min(), x.max())\n",
    "range = [slope*v + intercept for v in domain]\n",
    "plt.plot(domain, range)"
   ]
  },
  {
   "cell_type": "code",
   "execution_count": 25,
   "metadata": {},
   "outputs": [
    {
     "data": {
      "text/plain": [
       "(1.9122818591382327, 3.037453246414312)"
      ]
     },
     "execution_count": 25,
     "metadata": {},
     "output_type": "execute_result"
    }
   ],
   "source": [
    "slope, intercept"
   ]
  },
  {
   "cell_type": "markdown",
   "metadata": {},
   "source": [
    "If our calculated intercept, $i$ is \n",
    "\n",
    "$$i = - \\frac{u_*}{k}ln(z_0)$$"
   ]
  },
  {
   "cell_type": "markdown",
   "metadata": {},
   "source": [
    "Then we can solve for $z_0$,\n",
    "\n",
    "$$z_0 = exp\\Big(\\frac{-i*k}{u_*}\\Big)$$"
   ]
  },
  {
   "cell_type": "code",
   "execution_count": 28,
   "metadata": {},
   "outputs": [
    {
     "data": {
      "text/plain": [
       "0.030658911127722597"
      ]
     },
     "execution_count": 28,
     "metadata": {},
     "output_type": "execute_result"
    }
   ],
   "source": [
    "np.exp(-intercept*VON_KARMAN / shear_velocity.mean())"
   ]
  },
  {
   "cell_type": "code",
   "execution_count": null,
   "metadata": {},
   "outputs": [],
   "source": []
  }
 ],
 "metadata": {
  "kernelspec": {
   "display_name": "arm",
   "language": "python",
   "name": "python3"
  },
  "language_info": {
   "codemirror_mode": {
    "name": "ipython",
    "version": 3
   },
   "file_extension": ".py",
   "mimetype": "text/x-python",
   "name": "python",
   "nbconvert_exporter": "python",
   "pygments_lexer": "ipython3",
   "version": "3.11.0"
  },
  "orig_nbformat": 4
 },
 "nbformat": 4,
 "nbformat_minor": 2
}
