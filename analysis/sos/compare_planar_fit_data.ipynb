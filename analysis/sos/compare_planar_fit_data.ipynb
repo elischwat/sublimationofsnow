{
 "cells": [
  {
   "cell_type": "code",
   "execution_count": 66,
   "metadata": {},
   "outputs": [
    {
     "data": {
      "text/plain": [
       "RendererRegistry.enable('jupyterlab')"
      ]
     },
     "execution_count": 66,
     "metadata": {},
     "output_type": "execute_result"
    }
   ],
   "source": [
    "# netcdf/numpy/xray/stats\n",
    "import xarray as xr\n",
    "\n",
    "from sublimpy import variables\n",
    "from sublimpy import utils\n",
    "from sublimpy import tidy\n",
    "\n",
    "import pandas as pd\n",
    "import datetime as dt\n",
    "import pytz\n",
    "\n",
    "import matplotlib.pyplot as plt\n",
    "\n",
    "import altair as alt\n",
    "alt.data_transformers.enable('json')\n",
    "alt.renderers.enable('jupyterlab')"
   ]
  },
  {
   "attachments": {},
   "cell_type": "markdown",
   "metadata": {},
   "source": [
    "# Inputs"
   ]
  },
  {
   "cell_type": "code",
   "execution_count": 2,
   "metadata": {},
   "outputs": [],
   "source": [
    "sos_download_dir='/data2/elilouis/sublimationofsnow/sosnoqc'\n",
    "DATE_FORMAT_STR = '%Y%m%d'\n",
    "start_date = '20221201'\n",
    "end_date = '20230101'\n",
    "\n",
    "datelist = pd.date_range(\n",
    "    dt.datetime.strptime(start_date, DATE_FORMAT_STR),\n",
    "    dt.datetime.strptime(end_date, DATE_FORMAT_STR),\n",
    "    freq='d'\n",
    ").strftime(DATE_FORMAT_STR).tolist()\n",
    "\n",
    "VARIABLE_NAMES = [\n",
    "    # Sonic Anemometer Data for 4 towers\n",
    "    'tc_1m_uw',     'spd_1m_uw',     'dir_1m_uw',     'u_1m_uw',   'v_1m_uw',   'w_1m_uw',   'u_u__1m_uw',    'v_v__1m_uw',    'w_w__1m_uw',    \n",
    "        'u_w__1m_uw',    'v_w__1m_uw',  'u_tc__1m_uw',  'v_tc__1m_uw',   'u_h2o__1m_uw',  'v_h2o__1m_uw',   'w_tc__1m_uw',   'w_h2o__1m_uw',\n",
    "    'tc_3m_uw',     'spd_3m_uw',     'dir_3m_uw',     'u_3m_uw',   'v_3m_uw',   'w_3m_uw',   'u_u__3m_uw',    'v_v__3m_uw',    'w_w__3m_uw',    \n",
    "        'u_w__3m_uw',    'v_w__3m_uw',  'u_tc__3m_uw',  'v_tc__3m_uw',   'u_h2o__3m_uw',  'v_h2o__3m_uw',   'w_tc__3m_uw',   'w_h2o__3m_uw',\n",
    "    'tc_10m_uw',    'spd_10m_uw',    'dir_10m_uw',    'u_10m_uw',  'v_10m_uw',  'w_10m_uw',  'u_u__10m_uw',   'v_v__10m_uw',   'w_w__10m_uw',   \n",
    "        'u_w__10m_uw',   'v_w__10m_uw', 'u_tc__10m_uw', 'v_tc__10m_uw',  'u_h2o__10m_uw', 'v_h2o__10m_uw',  'w_tc__10m_uw',  'w_h2o__10m_uw',\n",
    "\n",
    "    'tc_1m_ue',     'spd_1m_ue',     'dir_1m_ue',     'u_1m_ue',   'v_1m_ue',   'w_1m_ue',   'u_u__1m_ue',    'v_v__1m_ue',    'w_w__1m_ue',    \n",
    "        'u_w__1m_ue',    'v_w__1m_ue',  'u_tc__1m_ue',  'v_tc__1m_ue',   'u_h2o__1m_ue',  'v_h2o__1m_ue',   'w_tc__1m_ue',   'w_h2o__1m_ue',\n",
    "    'tc_3m_ue',     'spd_3m_ue',     'dir_3m_ue',     'u_3m_ue',   'v_3m_ue',   'w_3m_ue',   'u_u__3m_ue',    'v_v__3m_ue',    'w_w__3m_ue',    \n",
    "        'u_w__3m_ue',    'v_w__3m_ue',  'u_tc__3m_ue',  'v_tc__3m_ue',   'u_h2o__3m_ue',  'v_h2o__3m_ue',   'w_tc__3m_ue',   'w_h2o__3m_ue',\n",
    "    'tc_10m_ue',    'spd_10m_ue',    'dir_10m_ue',    'u_10m_ue',  'v_10m_ue',  'w_10m_ue',  'u_u__10m_ue',   'v_v__10m_ue',   'w_w__10m_ue',   \n",
    "        'u_w__10m_ue',   'v_w__10m_ue', 'u_tc__10m_ue', 'v_tc__10m_ue',  'u_h2o__10m_ue', 'v_h2o__10m_ue',  'w_tc__10m_ue',  'w_h2o__10m_ue',\n",
    "\n",
    "    'tc_1m_d',      'spd_1m_d',     'dir_1m_d',     'u_1m_d',   'v_1m_d',   'w_1m_d',   'u_u__1m_d',    'v_v__1m_d',    'w_w__1m_d',    \n",
    "        'u_w__1m_d',    'v_w__1m_d',  'u_tc__1m_d',  'v_tc__1m_d',   'u_h2o__1m_d',  'v_h2o__1m_d',   'w_tc__1m_d',   'w_h2o__1m_d',\n",
    "    'tc_3m_d',      'spd_3m_d',     'dir_3m_d',     'u_3m_d',   'v_3m_d',   'w_3m_d',   'u_u__3m_d',    'v_v__3m_d',    'w_w__3m_d',    \n",
    "        'u_w__3m_d',    'v_w__3m_d',  'u_tc__3m_d',  'v_tc__3m_d',   'u_h2o__3m_d',  'v_h2o__3m_d',   'w_tc__3m_d',   'w_h2o__3m_d',\n",
    "    'tc_10m_d',     'spd_10m_d',    'dir_10m_d',    'u_10m_d',  'v_10m_d',  'w_10m_d',  'u_u__10m_d',   'v_v__10m_d',   'w_w__10m_d',   \n",
    "        'u_w__10m_d',   'v_w__10m_d', 'u_tc__10m_d', 'v_tc__10m_d',  'u_h2o__10m_d', 'v_h2o__10m_d',  'w_tc__10m_d',  'w_h2o__10m_d',\n",
    "\n",
    "    'tc_2m_c',  'spd_2m_c',     'dir_2m_c',     'u_2m_c',   'v_2m_c',   'w_2m_c',   'u_u__2m_c',    'v_v__2m_c',    'w_w__2m_c',    \n",
    "        'u_w__2m_c',    'v_w__2m_c',  'u_tc__2m_c',  'v_tc__2m_c',   'u_h2o__2m_c',  'v_h2o__2m_c',   'w_tc__2m_c',   'w_h2o__2m_c',\n",
    "    'tc_3m_c',  'spd_3m_c',     'dir_3m_c',     'u_3m_c',   'v_3m_c',   'w_3m_c',   'u_u__3m_c',    'v_v__3m_c',    'w_w__3m_c',    \n",
    "        'u_w__3m_c',    'v_w__3m_c',  'u_tc__3m_c',  'v_tc__3m_c',   'u_h2o__3m_c',  'v_h2o__3m_c',   'w_tc__3m_c',   'w_h2o__3m_c',\n",
    "    'tc_5m_c',  'spd_5m_c',     'dir_5m_c',     'u_5m_c',   'v_5m_c',   'w_5m_c',   'u_u__5m_c',    'v_v__5m_c',    'w_w__5m_c',    \n",
    "        'u_w__5m_c',    'v_w__5m_c',  'u_tc__5m_c',  'v_tc__5m_c',   'u_h2o__5m_c',  'v_h2o__5m_c',   'w_tc__5m_c',   'w_h2o__5m_c',\n",
    "    'tc_10m_c', 'spd_10m_c',    'dir_10m_c',    'u_10m_c',  'v_10m_c',  'w_10m_c',  'u_u__10m_c',   'v_v__10m_c',   'w_w__10m_c',   \n",
    "        'u_w__10m_c',   'v_w__10m_c', 'u_tc__10m_c', 'v_tc__10m_c',  'u_h2o__10m_c', 'v_h2o__10m_c',  'w_tc__10m_c',  'w_h2o__10m_c',\n",
    "    'tc_15m_c', 'spd_15m_c',    'dir_15m_c',    'u_15m_c',  'v_15m_c',  'w_15m_c',  'u_u__15m_c',   'v_v__15m_c',   'w_w__15m_c',   \n",
    "        'u_w__15m_c',   'v_w__15m_c', 'u_tc__15m_c', 'v_tc__15m_c',  'u_h2o__15m_c', 'v_h2o__15m_c',  'w_tc__15m_c',  'w_h2o__15m_c',\n",
    "    'tc_20m_c', 'spd_20m_c',    'dir_20m_c',    'u_20m_c',  'v_20m_c',  'w_20m_c',  'u_u__20m_c',   'v_v__20m_c',   'w_w__20m_c',   \n",
    "        'u_w__20m_c',   'v_w__20m_c', 'u_tc__20m_c', 'v_tc__20m_c',  'u_h2o__20m_c', 'v_h2o__20m_c',  'w_tc__20m_c',  'w_h2o__20m_c',\n",
    "\n",
    "    \n",
    "    # Temperature & Relative Humidity Array \n",
    "    'T_2m_c', 'T_3m_c', 'T_4m_c', 'T_5m_c', 'T_6m_c', 'T_7m_c', 'T_8m_c', 'T_9m_c', 'T_10m_c',\n",
    "    'T_11m_c', 'T_12m_c', 'T_13m_c', 'T_14m_c', 'T_15m_c', 'T_16m_c', 'T_17m_c', 'T_18m_c', 'T_19m_c', 'T_20m_c',\n",
    "\n",
    "    'RH_2m_c', 'RH_3m_c', 'RH_4m_c', 'RH_5m_c', 'RH_6m_c', 'RH_7m_c', 'RH_8m_c', 'RH_9m_c', 'RH_10m_c',\n",
    "    'RH_11m_c','RH_12m_c','RH_13m_c','RH_14m_c','RH_15m_c','RH_16m_c','RH_17m_c','RH_18m_c','RH_19m_c','RH_20m_c',\n",
    "\n",
    "    # Pressure Sensors\n",
    "    'P_20m_c',\n",
    "    'P_10m_c', 'P_10m_d', 'P_10m_uw', 'P_10m_ue',\n",
    "\n",
    "    # Blowing snow/FlowCapt Sensors\n",
    "    'SF_avg_1m_ue', 'SF_avg_2m_ue',\n",
    "\n",
    "    # Apogee sensors\n",
    "    \"Vtherm_c\", \"Vtherm_d\", \"Vtherm_ue\", \"Vtherm_uw\", \n",
    "    \"Vpile_c\", \"Vpile_d\", \"Vpile_ue\", \"Vpile_uw\",\n",
    "    \"IDir_c\", \"IDir_d\", \"IDir_ue\", \"IDir_uw\",\n",
    "\n",
    "    # Snow-level temperature arrays (towers D and UW)\n",
    "    'Tsnow_0_4m_d', 'Tsnow_0_5m_d', 'Tsnow_0_6m_d', 'Tsnow_0_7m_d', 'Tsnow_0_8m_d', 'Tsnow_0_9m_d', 'Tsnow_1_0m_d', 'Tsnow_1_1m_d', 'Tsnow_1_2m_d', 'Tsnow_1_3m_d', 'Tsnow_1_4m_d', 'Tsnow_1_5m_d',\n",
    "    'Tsnow_0_4m_uw', 'Tsnow_0_5m_uw', 'Tsnow_0_6m_uw', 'Tsnow_0_7m_uw', 'Tsnow_0_8m_uw', 'Tsnow_0_9m_uw', 'Tsnow_1_0m_uw', 'Tsnow_1_1m_uw', 'Tsnow_1_2m_uw', 'Tsnow_1_3m_uw', 'Tsnow_1_4m_uw', 'Tsnow_1_5m_uw',\n",
    "    \n",
    "    # Downward Facing Longwave Radiometer (tower D) - for measuring snow surface temperature\n",
    "    'Rpile_out_9m_d',\n",
    "    'Tcase_out_9m_d',\n",
    "    \n",
    "    # Upward Facing Longwave Radiometer (tower D)\n",
    "    'Rpile_in_9m_d',\n",
    "    'Tcase_in_9m_d',\n",
    "    \n",
    "    # Upward facing shortwave radiometer (tower D) - for measuring incoming solar radiation!\n",
    "    'Rsw_in_9m_d',\n",
    "    'Rsw_out_9m_d',\n",
    "\n",
    "    # Snow Pillow SWE\n",
    "    'SWE_p1_c', 'SWE_p2_c', 'SWE_p3_c', 'SWE_p4_c',\n",
    "\n",
    "    # Soil Moisture\n",
    "    'Qsoil_d',\n",
    "]"
   ]
  },
  {
   "attachments": {},
   "cell_type": "markdown",
   "metadata": {},
   "source": [
    "# Download and Clean SoS data"
   ]
  },
  {
   "cell_type": "code",
   "execution_count": 3,
   "metadata": {},
   "outputs": [
    {
     "name": "stdout",
     "output_type": "stream",
     "text": [
      "Caching...skipping download for 20221225\n",
      "Caching...skipping download for 20221226\n",
      "Caching...skipping download for 20221227\n",
      "Caching...skipping download for 20221228\n",
      "Caching...skipping download for 20221229\n",
      "Caching...skipping download for 20221230\n",
      "Caching...skipping download for 20221231\n",
      "Caching...skipping download for 20230101\n"
     ]
    }
   ],
   "source": [
    "sos_ds = utils.download_sos_data(start_date, end_date, VARIABLE_NAMES, sos_download_dir, cache=True, planar_fit=False)"
   ]
  },
  {
   "cell_type": "code",
   "execution_count": 4,
   "metadata": {},
   "outputs": [
    {
     "name": "stdout",
     "output_type": "stream",
     "text": [
      "Caching...skipping download for 20221201\n",
      "failed on 20221202, skipping\n",
      "Caching...skipping download for 20221203\n",
      "Caching...skipping download for 20221204\n",
      "Caching...skipping download for 20221205\n",
      "Caching...skipping download for 20221206\n",
      "Caching...skipping download for 20221207\n",
      "Caching...skipping download for 20221208\n",
      "Caching...skipping download for 20221209\n",
      "Caching...skipping download for 20221210\n",
      "Caching...skipping download for 20221211\n",
      "Caching...skipping download for 20221212\n",
      "Caching...skipping download for 20221213\n",
      "Caching...skipping download for 20221214\n",
      "Caching...skipping download for 20221215\n",
      "Caching...skipping download for 20221216\n",
      "Caching...skipping download for 20221217\n",
      "Caching...skipping download for 20221218\n",
      "Caching...skipping download for 20221219\n",
      "Caching...skipping download for 20221220\n",
      "Caching...skipping download for 20221221\n",
      "Caching...skipping download for 20221222\n",
      "Caching...skipping download for 20221223\n",
      "Caching...skipping download for 20221224\n",
      "Caching...skipping download for 20221225\n",
      "Caching...skipping download for 20221226\n",
      "Caching...skipping download for 20221227\n",
      "Caching...skipping download for 20221228\n",
      "Caching...skipping download for 20221229\n",
      "Caching...skipping download for 20221230\n",
      "Caching...skipping download for 20221231\n",
      "Caching...skipping download for 20230101\n"
     ]
    }
   ],
   "source": [
    "sos_ds_rot = utils.download_sos_data(start_date, end_date, VARIABLE_NAMES, sos_download_dir, cache=True, planar_fit=True)"
   ]
  },
  {
   "attachments": {},
   "cell_type": "markdown",
   "metadata": {},
   "source": [
    "# Add Variables"
   ]
  },
  {
   "cell_type": "code",
   "execution_count": 5,
   "metadata": {},
   "outputs": [],
   "source": [
    "sos_ds = variables.add_longwave_radiation(sos_ds)\n",
    "sos_ds = variables.add_surface_temps(sos_ds)\n",
    "sos_ds = variables.add_potential_virtual_temperatures(sos_ds)\n",
    "sos_ds = variables.add_surface_potential_virtual_temperatures(sos_ds)\n",
    "sos_ds = variables.add_tke(sos_ds)\n",
    "sos_ds = variables.add_gradients_and_ri(sos_ds)\n",
    "sos_ds = variables.add_obukhov_length(sos_ds)\n",
    "\n",
    "sos_ds_rot = variables.add_longwave_radiation(sos_ds_rot)\n",
    "sos_ds_rot = variables.add_surface_temps(sos_ds_rot)\n",
    "sos_ds_rot = variables.add_potential_virtual_temperatures(sos_ds_rot)\n",
    "sos_ds_rot = variables.add_surface_potential_virtual_temperatures(sos_ds_rot)\n",
    "sos_ds_rot = variables.add_tke(sos_ds_rot)\n",
    "sos_ds_rot = variables.add_gradients_and_ri(sos_ds_rot)\n",
    "sos_ds_rot = variables.add_obukhov_length(sos_ds_rot)"
   ]
  },
  {
   "attachments": {},
   "cell_type": "markdown",
   "metadata": {},
   "source": [
    "# Get Tidy Dataset"
   ]
  },
  {
   "cell_type": "code",
   "execution_count": 6,
   "metadata": {},
   "outputs": [],
   "source": [
    "tidy_df = tidy.get_tidy_dataset(sos_ds, list(sos_ds.data_vars))\n",
    "tidy_df_rot = tidy.get_tidy_dataset(sos_ds_rot, list(sos_ds_rot.data_vars))"
   ]
  },
  {
   "cell_type": "code",
   "execution_count": 7,
   "metadata": {},
   "outputs": [],
   "source": [
    "tidy_df = utils.modify_df_timezone(tidy_df, pytz.UTC, pytz.timezone('US/Mountain'))\n",
    "tidy_df_rot = utils.modify_df_timezone(tidy_df_rot, pytz.UTC, pytz.timezone('US/Mountain'))"
   ]
  },
  {
   "cell_type": "markdown",
   "metadata": {},
   "source": [
    "# Adjust timespan for timezones"
   ]
  },
  {
   "cell_type": "code",
   "execution_count": 18,
   "metadata": {},
   "outputs": [
    {
     "name": "stderr",
     "output_type": "stream",
     "text": [
      "/tmp/ipykernel_206102/1468123681.py:1: FutureWarning: Value based partial slicing on non-monotonic DatetimeIndexes with non-existing keys is deprecated and will raise a KeyError in a future Version.\n",
      "  tidy_df = tidy_df.set_index(\"time\").loc[slice(\"2022-12-01\", \"2022-12-31\")]\n",
      "/tmp/ipykernel_206102/1468123681.py:2: FutureWarning: Value based partial slicing on non-monotonic DatetimeIndexes with non-existing keys is deprecated and will raise a KeyError in a future Version.\n",
      "  tidy_df_rot = tidy_df_rot.set_index(\"time\").loc[slice(\"2022-12-01\", \"2022-12-31\")]\n"
     ]
    }
   ],
   "source": [
    "tidy_df = tidy_df.set_index(\"time\").loc[slice(\"2022-12-01\", \"2022-12-31\")].reset_index()\n",
    "tidy_df_rot = tidy_df_rot.set_index(\"time\").loc[slice(\"2022-12-01\", \"2022-12-31\")].reset_index()"
   ]
  },
  {
   "cell_type": "markdown",
   "metadata": {},
   "source": [
    "# Calculate 30 Minute averages"
   ]
  },
  {
   "cell_type": "code",
   "execution_count": 87,
   "metadata": {},
   "outputs": [],
   "source": [
    "tidy_df_30Min = pd.DataFrame(\n",
    "    tidy_df.set_index('time').groupby(\n",
    "        ['measurement', 'variable', 'height',  'tower']\n",
    "    )['value'].resample('60Min').median()\n",
    ").reset_index()\n",
    "\n",
    "tidy_df_30Min_rot = pd.DataFrame(\n",
    "    tidy_df_rot.set_index('time').groupby(\n",
    "        ['measurement', 'variable', 'height',  'tower']\n",
    "    )['value'].resample('60Min').median()\n",
    ").reset_index()"
   ]
  },
  {
   "cell_type": "code",
   "execution_count": 121,
   "metadata": {},
   "outputs": [],
   "source": [
    "w_and_w_h20_plot = (\n",
    "(\n",
    "    alt.Chart(\n",
    "        tidy_df_30Min.query(\"tower == 'd'\").query(\"height == 10\").query(\"measurement == 'w'\")\n",
    "    ).mark_line().encode(\n",
    "        alt.X(\"time:T\"),\n",
    "        alt.Y(\"value:Q\", title='w (m/s)').scale(domain=[-1,1], clamp=True),\n",
    "        alt.Color(\"measurement:N\")\n",
    "    ).properties(width=600, height=200)\n",
    "    +\n",
    "    alt.Chart(\n",
    "        tidy_df_30Min.query(\"tower == 'd'\").query(\"height == 10\").query(\"measurement == 'w_h2o_'\")\n",
    "    ).mark_line().encode(\n",
    "        alt.X(\"time:T\"),\n",
    "        alt.Y(\"value:Q\", title=\"w'h2o' (g/m²/s)\").scale(domain=[-0.05,0.05], clamp=True),\n",
    "        alt.Color(\"measurement:N\")\n",
    "    ).properties(width=600, height=200, title='Raw data')\n",
    ").resolve_scale(y=\"independent\") \n",
    "&\n",
    "(\n",
    "    alt.Chart(\n",
    "        tidy_df_30Min_rot.query(\"tower == 'd'\").query(\"height == 10\").query(\"measurement == 'w'\")\n",
    "    ).mark_line().encode(\n",
    "        alt.X(\"time:T\"),\n",
    "        alt.Y(\"value:Q\", title='w (m/s)').scale(domain=[-1,1], clamp=True),\n",
    "        alt.Color(\"measurement:N\")\n",
    "    ).properties(width=600, height=200)\n",
    "    +\n",
    "    alt.Chart(\n",
    "        tidy_df_30Min_rot.query(\"tower == 'd'\").query(\"height == 10\").query(\"measurement == 'w_h2o_'\")\n",
    "    ).mark_line().encode(\n",
    "        alt.X(\"time:T\"),\n",
    "        alt.Y(\"value:Q\", title=\"w'h2o' (g/m²/s)\").scale(domain=[-0.05,0.05], clamp=True),\n",
    "        alt.Color(\"measurement:N\")\n",
    "    ).properties(width=600, height=200, title='Rotated data')\n",
    ").resolve_scale(y=\"independent\")\n",
    ")"
   ]
  },
  {
   "cell_type": "code",
   "execution_count": 122,
   "metadata": {},
   "outputs": [],
   "source": [
    "u_and_v_chart = (\n",
    "(\n",
    "    alt.Chart(\n",
    "        tidy_df_30Min.query(\"tower == 'd'\").query(\"height == 10\").query(\"measurement == 'u'\")\n",
    "    ).mark_line().encode(\n",
    "        alt.X(\"time:T\"),\n",
    "        alt.Y(\"value:Q\", title='u (m/s)'),\n",
    "        alt.Color(\"measurement:N\")\n",
    "    ).properties(width=600, height=200)\n",
    "    +\n",
    "    alt.Chart(\n",
    "        tidy_df_30Min.query(\"tower == 'd'\").query(\"height == 10\").query(\"measurement == 'v'\")\n",
    "    ).mark_line().encode(\n",
    "        alt.X(\"time:T\"),\n",
    "        alt.Y(\"value:Q\", title=\"v (m/s)\"),\n",
    "        alt.Color(\"measurement:N\")\n",
    "    ).properties(width=600, height=200, title='Raw data')\n",
    ") \n",
    "&\n",
    "(\n",
    "    alt.Chart(\n",
    "        tidy_df_30Min_rot.query(\"tower == 'd'\").query(\"height == 10\").query(\"measurement == 'u'\")\n",
    "    ).mark_line().encode(\n",
    "        alt.X(\"time:T\"),\n",
    "        alt.Y(\"value:Q\", title='u (m/s)'),\n",
    "        alt.Color(\"measurement:N\")\n",
    "    ).properties(width=600, height=200)\n",
    "    +\n",
    "    alt.Chart(\n",
    "        tidy_df_30Min_rot.query(\"tower == 'd'\").query(\"height == 10\").query(\"measurement == 'v'\")\n",
    "    ).mark_line().encode(\n",
    "        alt.X(\"time:T\"),\n",
    "        alt.Y(\"value:Q\", title=\"v (m/s)\"),\n",
    "        alt.Color(\"measurement:N\")\n",
    "    ).properties(width=600, height=200, title='Rotated data')\n",
    ")\n",
    ")"
   ]
  },
  {
   "cell_type": "code",
   "execution_count": 123,
   "metadata": {},
   "outputs": [
    {
     "data": {
      "application/vnd.vegalite.v5+json": {
       "$schema": "https://vega.github.io/schema/vega-lite/v5.8.0.json",
       "config": {
        "view": {
         "continuousHeight": 300,
         "continuousWidth": 300
        }
       },
       "hconcat": [
        {
         "vconcat": [
          {
           "height": 200,
           "layer": [
            {
             "data": {
              "format": {
               "type": "json"
              },
              "url": "altair-data-ef590c6ee98288ba199e74fa6b0db65a.json"
             },
             "encoding": {
              "color": {
               "field": "measurement",
               "type": "nominal"
              },
              "x": {
               "field": "time",
               "type": "temporal"
              },
              "y": {
               "field": "value",
               "scale": {
                "clamp": true,
                "domain": [
                 -1,
                 1
                ]
               },
               "title": "w (m/s)",
               "type": "quantitative"
              }
             },
             "mark": {
              "type": "line"
             }
            },
            {
             "data": {
              "format": {
               "type": "json"
              },
              "url": "altair-data-a8136a9e7895d1d0cc20c99b5f50d834.json"
             },
             "encoding": {
              "color": {
               "field": "measurement",
               "type": "nominal"
              },
              "x": {
               "field": "time",
               "type": "temporal"
              },
              "y": {
               "field": "value",
               "scale": {
                "clamp": true,
                "domain": [
                 -0.05,
                 0.05
                ]
               },
               "title": "w'h2o' (g/m²/s)",
               "type": "quantitative"
              }
             },
             "mark": {
              "type": "line"
             },
             "title": "Raw data"
            }
           ],
           "resolve": {
            "scale": {
             "y": "independent"
            }
           },
           "width": 600
          },
          {
           "height": 200,
           "layer": [
            {
             "data": {
              "format": {
               "type": "json"
              },
              "url": "altair-data-585fd7a23220d311f8ef1fe36a0416b6.json"
             },
             "encoding": {
              "color": {
               "field": "measurement",
               "type": "nominal"
              },
              "x": {
               "field": "time",
               "type": "temporal"
              },
              "y": {
               "field": "value",
               "scale": {
                "clamp": true,
                "domain": [
                 -1,
                 1
                ]
               },
               "title": "w (m/s)",
               "type": "quantitative"
              }
             },
             "mark": {
              "type": "line"
             }
            },
            {
             "data": {
              "format": {
               "type": "json"
              },
              "url": "altair-data-d36cca5b569052359aa684f3039302dc.json"
             },
             "encoding": {
              "color": {
               "field": "measurement",
               "type": "nominal"
              },
              "x": {
               "field": "time",
               "type": "temporal"
              },
              "y": {
               "field": "value",
               "scale": {
                "clamp": true,
                "domain": [
                 -0.05,
                 0.05
                ]
               },
               "title": "w'h2o' (g/m²/s)",
               "type": "quantitative"
              }
             },
             "mark": {
              "type": "line"
             },
             "title": "Rotated data"
            }
           ],
           "resolve": {
            "scale": {
             "y": "independent"
            }
           },
           "width": 600
          }
         ]
        },
        {
         "vconcat": [
          {
           "height": 200,
           "layer": [
            {
             "data": {
              "format": {
               "type": "json"
              },
              "url": "altair-data-97f35df5d1b4075c53b5e445b0e16e14.json"
             },
             "encoding": {
              "color": {
               "field": "measurement",
               "type": "nominal"
              },
              "x": {
               "field": "time",
               "type": "temporal"
              },
              "y": {
               "field": "value",
               "title": "u (m/s)",
               "type": "quantitative"
              }
             },
             "mark": {
              "type": "line"
             }
            },
            {
             "data": {
              "format": {
               "type": "json"
              },
              "url": "altair-data-4f98c166b2d257ee1b38e526d5ab97cf.json"
             },
             "encoding": {
              "color": {
               "field": "measurement",
               "type": "nominal"
              },
              "x": {
               "field": "time",
               "type": "temporal"
              },
              "y": {
               "field": "value",
               "title": "v (m/s)",
               "type": "quantitative"
              }
             },
             "mark": {
              "type": "line"
             },
             "title": "Raw data"
            }
           ],
           "width": 600
          },
          {
           "height": 200,
           "layer": [
            {
             "data": {
              "format": {
               "type": "json"
              },
              "url": "altair-data-5e9782856c49ca335a8cf24d50949d66.json"
             },
             "encoding": {
              "color": {
               "field": "measurement",
               "type": "nominal"
              },
              "x": {
               "field": "time",
               "type": "temporal"
              },
              "y": {
               "field": "value",
               "title": "u (m/s)",
               "type": "quantitative"
              }
             },
             "mark": {
              "type": "line"
             }
            },
            {
             "data": {
              "format": {
               "type": "json"
              },
              "url": "altair-data-8c003716d12b660f62fab095b38b91db.json"
             },
             "encoding": {
              "color": {
               "field": "measurement",
               "type": "nominal"
              },
              "x": {
               "field": "time",
               "type": "temporal"
              },
              "y": {
               "field": "value",
               "title": "v (m/s)",
               "type": "quantitative"
              }
             },
             "mark": {
              "type": "line"
             },
             "title": "Rotated data"
            }
           ],
           "width": 600
          }
         ]
        }
       ],
       "resolve": {
        "scale": {
         "color": "independent"
        }
       }
      },
      "text/plain": [
       "<VegaLite 5 object>\n",
       "\n",
       "If you see this message, it means the renderer has not been properly enabled\n",
       "for the frontend that you are using. For more information, see\n",
       "https://altair-viz.github.io/user_guide/display_frontends.html#troubleshooting\n"
      ]
     },
     "execution_count": 123,
     "metadata": {},
     "output_type": "execute_result"
    }
   ],
   "source": [
    "(w_and_w_h20_plot | u_and_v_chart).resolve_scale(color='independent')"
   ]
  },
  {
   "cell_type": "code",
   "execution_count": null,
   "metadata": {},
   "outputs": [],
   "source": []
  }
 ],
 "metadata": {
  "kernelspec": {
   "display_name": "arm",
   "language": "python",
   "name": "python3"
  },
  "language_info": {
   "codemirror_mode": {
    "name": "ipython",
    "version": 3
   },
   "file_extension": ".py",
   "mimetype": "text/x-python",
   "name": "python",
   "nbconvert_exporter": "python",
   "pygments_lexer": "ipython3",
   "version": "3.11.0"
  },
  "orig_nbformat": 4
 },
 "nbformat": 4,
 "nbformat_minor": 2
}
