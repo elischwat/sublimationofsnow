{
 "cells": [
  {
   "cell_type": "markdown",
   "id": "31e45529",
   "metadata": {},
   "source": [
    "# October 31 - November 1 night time jet"
   ]
  },
  {
   "cell_type": "code",
   "execution_count": null,
   "id": "f53fdfa7",
   "metadata": {},
   "outputs": [],
   "source": [
    "import sys\n",
    "sys.path.append('../')\n",
    "import sosutils\n",
    "import xarray as xr\n",
    "import altair as alt\n",
    "import datetime as dt\n",
    "alt.data_transformers.disable_max_rows()\n",
    "import pandas as pd \n",
    "import numpy as np"
   ]
  },
  {
   "cell_type": "markdown",
   "id": "958c90f1",
   "metadata": {},
   "source": [
    "# Download SoS data"
   ]
  },
  {
   "cell_type": "code",
   "execution_count": null,
   "id": "b4ee4be0",
   "metadata": {},
   "outputs": [],
   "source": [
    "download_dir='sosnoqc'\n",
    "dates = [\n",
    "    '20221030',\n",
    "    '20221031',\n",
    "    '20221101',\n",
    "    '20221102',\n",
    "    '20221103',\n",
    "    '20221104'\n",
    "]"
   ]
  },
  {
   "cell_type": "code",
   "execution_count": null,
   "id": "26753b78",
   "metadata": {},
   "outputs": [],
   "source": [
    "datasets = [xr.open_dataset(sosutils.download_sos_data_day(date, download_dir)) for date in dates]\n",
    "\n",
    "sos_data = sosutils.merge_datasets_with_different_variables(datasets, dim='time')"
   ]
  },
  {
   "cell_type": "markdown",
   "id": "d948ebcb",
   "metadata": {},
   "source": [
    "# Open NOAA Doppler Lidar data\n",
    "\n",
    "This was accessed through the web portal"
   ]
  },
  {
   "cell_type": "code",
   "execution_count": null,
   "id": "0e2a5515",
   "metadata": {},
   "outputs": [],
   "source": [
    "f_list = ['/Users/elischwat/Downloads/gucdlprofwind4newsM1/gucdlprofwind4newsM1.c1.20221101.000040.nc', '/Users/elischwat/Downloads/gucdlprofwind4newsM1/gucdlprofwind4newsM1.c1.20221031.000040.nc']\n",
    "dl_windprofile_data = xr.concat(\n",
    "    [xr.open_dataset(f) for f in sorted(f_list)],\n",
    "    dim='time'\n",
    ")"
   ]
  },
  {
   "cell_type": "markdown",
   "id": "f88229ed",
   "metadata": {},
   "source": [
    "## Hourly wind profiles @ KPS"
   ]
  },
  {
   "cell_type": "code",
   "execution_count": null,
   "id": "ca1e51f7",
   "metadata": {
    "lines_to_end_of_cell_marker": 2
   },
   "outputs": [],
   "source": [
    "[v for v in sos_data.data_vars if 'tc_' in v and v.endswith('_c') and len(v) < 10]"
   ]
  },
  {
   "cell_type": "markdown",
   "id": "baabeba7",
   "metadata": {},
   "source": [
    "# Identify variables we will use"
   ]
  },
  {
   "cell_type": "code",
   "execution_count": null,
   "id": "a59f9d58",
   "metadata": {},
   "outputs": [],
   "source": [
    "VARIABLE_NAMES = [ \n",
    "    'spd_1m_c', 'dir_1m_c', 'u_1m_c', 'v_1m_c', 'u_w__1m_c', 'u_tc__1m_c', 'v_w__1m_c', 'v_tc__1m_c', 'w_tc__1m_c', 'w_h2o__1m_c',\n",
    "    'spd_2m_c', 'dir_2m_c', 'u_2m_c', 'v_2m_c', 'u_w__2m_c', 'u_tc__2m_c', 'v_w__2m_c', 'v_tc__2m_c', 'w_tc__2m_c', 'w_h2o__2m_c',\n",
    "    'spd_3m_c', 'dir_3m_c', 'u_3m_c', 'v_3m_c', 'u_w__3m_c', 'u_tc__3m_c', 'v_w__3m_c', 'v_tc__3m_c', 'w_tc__3m_c', 'w_h2o__3m_c',\n",
    "    'spd_5m_c', 'dir_5m_c', 'u_5m_c', 'v_5m_c', 'u_w__5m_c', 'u_tc__5m_c', 'v_w__5m_c', 'v_tc__5m_c', 'w_tc__5m_c', 'w_h2o__5m_c',\n",
    "    'spd_10m_c', 'dir_10m_c', 'u_10m_c', 'v_10m_c', 'u_w__10m_c', 'u_tc__10m_c', 'v_w__10m_c', 'v_tc__10m_c', 'w_tc__10m_c', 'w_h2o__10m_c',\n",
    "    'spd_15m_c', 'dir_15m_c', 'u_15m_c', 'v_15m_c', 'u_w__15m_c', 'u_tc__15m_c', 'v_w__15m_c', 'v_tc__15m_c', 'w_tc__15m_c', 'w_h2o__15m_c',\n",
    "    'spd_20m_c', 'dir_20m_c', 'u_20m_c', 'v_20m_c', 'u_w__20m_c', 'u_tc__20m_c', 'v_w__20m_c', 'v_tc__20m_c', 'w_tc__20m_c', 'w_h2o__20m_c',\n",
    "    'T_1m_c',\n",
    "    'T_2m_c',\n",
    "    'T_3m_c',\n",
    "    'T_4m_c',\n",
    "    'T_5m_c',\n",
    "    'T_6m_c',\n",
    "    'T_7m_c',\n",
    "    'T_8m_c',\n",
    "    'T_9m_c',\n",
    "    'T_10m_c',\n",
    "    'T_11m_c',\n",
    "    'T_12m_c',\n",
    "    'T_13m_c',\n",
    "    'T_14m_c',\n",
    "    'T_15m_c',\n",
    "    'T_16m_c',\n",
    "    'T_17m_c',\n",
    "    'T_18m_c',\n",
    "    'T_19m_c',\n",
    "    'T_20m_c',\n",
    "]"
   ]
  },
  {
   "cell_type": "markdown",
   "id": "8cae20bd",
   "metadata": {},
   "source": [
    "# Extract usable datasets from the raw SoS data"
   ]
  },
  {
   "cell_type": "markdown",
   "id": "ef756242",
   "metadata": {},
   "source": [
    "## Extract first-5-minute-hourly-average data from the raw SoS dataset"
   ]
  },
  {
   "cell_type": "code",
   "execution_count": null,
   "id": "f3476af8",
   "metadata": {},
   "outputs": [],
   "source": [
    "sos_data_1hr = sos_data.where(\n",
    "    sos_data['time.minute'] < 6, \n",
    "    drop=True\n",
    ").resample(time='60Min').mean() \n",
    "\n",
    "sos_data_1hr_df = sos_data_1hr[VARIABLE_NAMES].to_dataframe().reset_index()\n",
    "sos_data_1hr_df = sos_data_1hr_df.melt(id_vars='time', value_vars=VARIABLE_NAMES)\n",
    "sos_data_1hr_df['height'] = sos_data_1hr_df['variable'].apply(sosutils.height_from_variable_name)\n",
    "sos_data_1hr_df['tower'] = sos_data_1hr_df['variable'].apply(sosutils.tower_from_variable_name)\n",
    "sos_data_1hr_df['measurement'] = sos_data_1hr_df['variable'].apply(sosutils.measurement_from_variable_name)\n",
    "sos_data_1hr_df['time'] = sos_data_1hr_df['time'] - dt.timedelta(hours=6)"
   ]
  },
  {
   "cell_type": "markdown",
   "id": "b9bae04d",
   "metadata": {},
   "source": [
    "## Extract 5 minute-average data from the raw SoS dataset"
   ]
  },
  {
   "cell_type": "code",
   "execution_count": null,
   "id": "a3f900d0",
   "metadata": {},
   "outputs": [],
   "source": [
    "sos_data_df = sos_data[VARIABLE_NAMES].to_dataframe().reset_index().melt(id_vars='time', value_vars=VARIABLE_NAMES)\n",
    "sos_data_df['height'] = sos_data_df['variable'].apply(sosutils.height_from_variable_name)\n",
    "sos_data_df['tower'] = sos_data_df['variable'].apply(sosutils.tower_from_variable_name)\n",
    "sos_data_df['measurement'] = sos_data_df['variable'].apply(sosutils.measurement_from_variable_name)\n",
    "sos_data_df['time'] = sos_data_df['time'] - dt.timedelta(hours=6)"
   ]
  },
  {
   "cell_type": "markdown",
   "id": "69d67ceb",
   "metadata": {},
   "source": [
    "# Examine wind behavior"
   ]
  },
  {
   "cell_type": "code",
   "execution_count": null,
   "id": "ffc739b7",
   "metadata": {
    "lines_to_next_cell": 2
   },
   "outputs": [],
   "source": [
    "src = sos_data_1hr_df.copy()"
   ]
  },
  {
   "cell_type": "code",
   "execution_count": null,
   "id": "4c597453",
   "metadata": {},
   "outputs": [],
   "source": [
    "src['day'] = src['time'].dt.day\n",
    "src['hour'] = src['time'].dt.hour"
   ]
  },
  {
   "cell_type": "code",
   "execution_count": null,
   "id": "c957227c",
   "metadata": {},
   "outputs": [],
   "source": [
    "src"
   ]
  },
  {
   "cell_type": "code",
   "execution_count": null,
   "id": "e1fb01f3",
   "metadata": {},
   "outputs": [],
   "source": [
    "alt.Chart(src).transform_filter(\n",
    "    alt.datum.measurement == 'wind speed'\n",
    ").mark_line().encode(\n",
    "    alt.X('value:Q', sort='-y'),\n",
    "    alt.Y('height:Q')\n",
    ").properties(\n",
    "    width=200,\n",
    "    height=100,\n",
    ").facet(\n",
    "    column=alt.Column(\n",
    "        'day:O', \n",
    "        # header=alt.Header(format=\"%m/%d %H:00\", formatType='time')\n",
    "    ),\n",
    "    row=alt.Row(\n",
    "        'hour:O'\n",
    "    )\n",
    ").properties(\n",
    "    title = 'Hourly average wind profiles'\n",
    ")"
   ]
  },
  {
   "cell_type": "code",
   "execution_count": null,
   "id": "9658d3ef",
   "metadata": {},
   "outputs": [],
   "source": [
    "src = sos_data_df.copy()\n",
    "src['date'] = src['time'].dt.date\n",
    "src['hour'] = src['time'].dt.hour\n",
    "src"
   ]
  },
  {
   "cell_type": "code",
   "execution_count": null,
   "id": "8950e2a6",
   "metadata": {},
   "outputs": [],
   "source": [
    "# def create_nighttime_dataframe(start_date, end_date, night_start_hour = 18, night_end_hour = 7):\n",
    "#     return pd.DataFrame({\n",
    "#         'start_date': \n",
    "#         [\n",
    "#             dt.datetime(start_date.year, start_date.month, start_date.day, 0)\n",
    "#         ] + [\n",
    "#             start_date + dt.timedelta(days=i) + dt.timedelta(hours=night_start_hour) \n",
    "#                 for i in range(0, (end_date - start_date).days)\n",
    "#         ],\n",
    "#         'end_date': [\n",
    "#             start_date + dt.timedelta(days = i) + dt.timedelta(hours = night_end_hour) \n",
    "#                 for i in range(0, (end_date - start_date).days)] + [dt.datetime(end_date.year, end_date.month, end_date.day, 0)\n",
    "#         ]\n",
    "#     })\n",
    "\n",
    "\n",
    "# night_df = create_nighttime_dataframe(sos_data_df.time.min(), sos_data_df.time.max())\n",
    "# night_plot = alt.Chart(night_df).mark_rect(color='grey', opacity=0.2).encode(\n",
    "#     alt.X('start_date:T'),\n",
    "#     alt.X2('end_date')\n",
    "# )"
   ]
  },
  {
   "cell_type": "code",
   "execution_count": null,
   "id": "72532968",
   "metadata": {},
   "outputs": [],
   "source": [
    "local_src = sos_data_1hr_df.copy()\n",
    "\n",
    "# Create additional time columns to make plotting easier\n",
    "local_src['day'] = local_src['time'].dt.date.apply(lambda date: dt.datetime.combine(date, dt.time()))\n",
    "local_src['hour'] = local_src['time'].dt.hour\n",
    "# local_src = local_src[local_src['time'] < dt.datetime(2022, 11, 4)]\n",
    "# local_src = local_src[local_src['time'].dt.hour.isin([0,3,6,9,12,15,18,21])]\n",
    "local_src = local_src[local_src['time'].dt.hour.isin([\n",
    "    0,4,8,12,16,20,24\n",
    "    # 0,2,4,6,8,10,12,14,16,18,20,22\n",
    "])]\n",
    "\n",
    "profile_plot = alt.Chart(local_src).transform_filter(\n",
    "    alt.datum.measurement == 'wind speed'\n",
    ").mark_point().encode(\n",
    "    alt.X(\n",
    "        'value:Q', \n",
    "        sort='-y', \n",
    "        title=None, \n",
    "        axis=alt.Axis(orient='top', offset=-15)\n",
    "    ),\n",
    "    alt.Y('height:Q',  axis=alt.Axis(grid=False)),\n",
    "    color=alt.Color(\"height:O\", scale=alt.Scale(scheme='viridis'))\n",
    ").properties(\n",
    "    width=78,\n",
    "    height=50\n",
    ").facet(\n",
    "    facet=alt.Column(\n",
    "        'time', \n",
    "        # header=alt.Header(format=\"%m/%d %H:00\", formatType='time'),\n",
    "        header=alt.Header(labelExpr=\"''\"),\n",
    "        title='Bi-hourly average wind speed profiles (m/s)',\n",
    "    ),\n",
    "    columns=24,\n",
    "   spacing=1\n",
    ").resolve_axis(\n",
    "    x='shared'\n",
    ")\n",
    "\n",
    "WIND_CHART = alt.Chart(\n",
    "    sos_data_df\n",
    ").transform_filter(\n",
    "    alt.datum.measurement == 'wind direction'\n",
    ").transform_window(\n",
    "    rolling_mean = 'mean(value)',\n",
    "    frame = [-5, 5]\n",
    ").mark_line().encode(\n",
    "    alt.X('time:T', axis=alt.Axis(format='%m%d, %H%M')),\n",
    "    # alt.Y('value:Q'),\n",
    "    alt.Y(\n",
    "        'rolling_mean:Q', \n",
    "        title = 'Wind Direction (50 minute rolling average)', \n",
    "        scale=alt.Scale(domain=[0, 360], nice=False),\n",
    "        axis=alt.Axis(values=[0, 90, 180, 270, 360]),\n",
    "        impute=alt.ImputeParams(value=None)\n",
    "    ),\n",
    "    color=alt.Color(\n",
    "        \"height:O\", \n",
    "        scale=alt.Scale(scheme='viridis')\n",
    "    )\n",
    ").properties(\n",
    "    width=1400,\n",
    "    # height=200\n",
    ")"
   ]
  },
  {
   "cell_type": "code",
   "execution_count": null,
   "id": "642d2eac",
   "metadata": {},
   "outputs": [],
   "source": [
    "profile_plot"
   ]
  },
  {
   "cell_type": "code",
   "execution_count": null,
   "id": "101bbeb2",
   "metadata": {},
   "outputs": [],
   "source": [
    "sos_data_df"
   ]
  },
  {
   "cell_type": "code",
   "execution_count": null,
   "id": "f067e672",
   "metadata": {},
   "outputs": [],
   "source": [
    "WIND_CHART"
   ]
  },
  {
   "cell_type": "code",
   "execution_count": null,
   "id": "01d81160",
   "metadata": {},
   "outputs": [],
   "source": [
    "(\n",
    "profile_plot & WIND_CHART\n",
    ").properties(title='Wind direction and vertical profiles over 2 days')\n",
    "# .configure_axis(grid=False).configure_view(strokeWidth=0)"
   ]
  },
  {
   "cell_type": "markdown",
   "id": "81a4bbfe",
   "metadata": {},
   "source": [
    "# Slice data to time period of interest\n"
   ]
  },
  {
   "cell_type": "code",
   "execution_count": null,
   "id": "765e3d57",
   "metadata": {},
   "outputs": [],
   "source": [
    "# # Original study periods\n",
    "########################################################################\n",
    "########################################################################\n",
    "\n",
    "# 3 hr period of substantial katabatic behavior\n",
    "###\n",
    "# sos_data_df_slice = sos_data_df[\n",
    "#     (sos_data_df['time'] > dt.datetime(2022, 11, 1, 1))\n",
    "#     &\n",
    "#     (sos_data_df['time'] < dt.datetime(2022, 11, 1, 4))\n",
    "# ]\n",
    "\n",
    "# sos_data_1hr_df_slice = sos_data_1hr_df[\n",
    "#     (sos_data_1hr_df['time'] > dt.datetime(2022, 11, 1, 1))\n",
    "#     &\n",
    "#     (sos_data_1hr_df['time'] < dt.datetime(2022, 11, 1, 4))\n",
    "# ]\n",
    "\n",
    "# 3 hr period of substantial anabatic behavior\n",
    "###\n",
    "# sos_data_df_slice = sos_data_df[\n",
    "#     (sos_data_df['time'] > dt.datetime(2022, 11, 1, 10, 30))\n",
    "#     &\n",
    "#     (sos_data_df['time'] < dt.datetime(2022, 11, 1, 13, 30))\n",
    "# ]\n",
    "\n",
    "# sos_data_1hr_df_slice = sos_data_1hr_df[\n",
    "#     (sos_data_1hr_df['time'] > dt.datetime(2022, 11, 1, 10, 30))\n",
    "#     &\n",
    "#     (sos_data_1hr_df['time'] < dt.datetime(2022, 11, 1, 13, 30))\n",
    "# ]\n",
    "\n",
    "\n",
    "\n",
    "\n",
    "# # Dates aligned with good Doppler LIDAR reads\n",
    "########################################################################\n",
    "########################################################################\n",
    "\n",
    "# 3 hr period of substantial katabatic behavior\n",
    "###\n",
    "sos_data_df_slice = sos_data_df[\n",
    "    (sos_data_df['time'] > dt.datetime(2022, 11, 1, 1))\n",
    "    &\n",
    "    (sos_data_df['time'] < dt.datetime(2022, 11, 1, 4))\n",
    "]\n",
    "\n",
    "sos_data_1hr_df_slice = sos_data_1hr_df[\n",
    "    (sos_data_1hr_df['time'] > dt.datetime(2022, 11, 1, 1))\n",
    "    &\n",
    "    (sos_data_1hr_df['time'] < dt.datetime(2022, 11, 1, 4))\n",
    "]\n",
    "\n",
    "# 3 hr period of substantial anabatic behavior\n",
    "###\n",
    "# sos_data_df_slice = sos_data_df[\n",
    "#     (sos_data_df['time'] > dt.datetime(2022, 10, 31, 12))\n",
    "#     &\n",
    "#     (sos_data_df['time'] < dt.datetime(2022, 10, 31, 14))\n",
    "# ]\n",
    "\n",
    "# sos_data_1hr_df_slice = sos_data_1hr_df[\n",
    "#     (sos_data_1hr_df['time'] > dt.datetime(2022, 10, 31, 12))\n",
    "#     &\n",
    "#     (sos_data_1hr_df['time'] < dt.datetime(2022, 10, 31, 14))\n",
    "# ]\n",
    "\n",
    "\n",
    "\n",
    "\n",
    "\n",
    "# ALL OF IT\n",
    "########################################################################\n",
    "########################################################################\n",
    "\n",
    "# 3 hr period of substantial katabatic behavior\n",
    "###\n",
    "# sos_data_df_slice = sos_data_df[\n",
    "#     (sos_data_df['time'] > dt.datetime(2022, 10, 31, 12))\n",
    "#     &\n",
    "#     (sos_data_df['time'] < dt.datetime(2022, 11, 1, 19))\n",
    "# ]\n",
    "\n",
    "# sos_data_1hr_df_slice = sos_data_1hr_df[\n",
    "#     (sos_data_1hr_df['time'] > dt.datetime(2022, 10, 31, 12))\n",
    "#     &\n",
    "#     (sos_data_1hr_df['time'] < dt.datetime(2022, 11, 1, 19))\n",
    "# ]"
   ]
  },
  {
   "cell_type": "code",
   "execution_count": null,
   "id": "62e70001",
   "metadata": {},
   "outputs": [],
   "source": [
    "dl_windprofile_df = dl_windprofile_data.to_dataframe().reset_index()\n",
    "dl_windprofile_df_slice = dl_windprofile_df[\n",
    "    (dl_windprofile_df['time'] > dt.datetime(2022, 10, 31, 18))\n",
    "    &\n",
    "    (dl_windprofile_df['time'] < dt.datetime(2022, 11, 1, 6))\n",
    "][['time', 'bound', 'height', 'wind_speed', 'wind_speed_error',\n",
    "       'wind_direction', 'wind_direction_error']]"
   ]
  },
  {
   "cell_type": "markdown",
   "id": "7c6243ce",
   "metadata": {},
   "source": [
    "## Look at DL and tower winds during the time period"
   ]
  },
  {
   "cell_type": "code",
   "execution_count": null,
   "id": "011b6c39",
   "metadata": {},
   "outputs": [],
   "source": [
    "alt.Chart(\n",
    "    dl_windprofile_df_slice\n",
    ").mark_line().encode(\n",
    "    alt.X('time:T'),\n",
    "    alt.Y('value:Q'),\n",
    "    # alt.Y(\n",
    "    #     'rolling_mean:Q', \n",
    "    #     title = 'Wind Direction (50 minute rolling average', \n",
    "    #     scale=alt.Scale(domain=[0, 360], nice=False),\n",
    "    #     axis=alt.Axis(values=[0, 90, 180, 270, 360])\n",
    "\n",
    "    # ),\n",
    "    color=alt.Color(\n",
    "        \"height:Q\", \n",
    "        scale=alt.Scale(scheme='viridis')\n",
    "    )\n",
    ")"
   ]
  },
  {
   "cell_type": "code",
   "execution_count": null,
   "id": "33f5b621",
   "metadata": {},
   "outputs": [],
   "source": [
    "alt.Chart(\n",
    "    sos_data_df_slice\n",
    ").transform_filter(\n",
    "    alt.datum.measurement == 'wind direction'\n",
    ").transform_window(\n",
    "    rolling_mean = 'mean(value)',\n",
    "    frame = [-5, 5]\n",
    ").mark_line().encode(\n",
    "    alt.X('time:T'),\n",
    "    # alt.Y('value:Q'),\n",
    "    alt.Y(\n",
    "        'rolling_mean:Q', \n",
    "        title = 'Wind Direction (50 minute rolling average', \n",
    "        scale=alt.Scale(domain=[0, 360], nice=False),\n",
    "        axis=alt.Axis(values=[0, 90, 180, 270, 360])\n",
    "    ),\n",
    "    color=alt.Color(\n",
    "        \"height:O\", \n",
    "        scale=alt.Scale(scheme='viridis')\n",
    "    )\n",
    ").properties(\n",
    "    width=1000,\n",
    "    # height=200\n",
    ")\n",
    "# .configure_axis(grid=False).configure_view(strokeWidth=0)"
   ]
  },
  {
   "cell_type": "code",
   "execution_count": null,
   "id": "b77433b7",
   "metadata": {},
   "outputs": [],
   "source": [
    "local_src = sos_data_1hr_df_slice.copy()\n",
    "\n",
    "# Create additional time columns to make plotting easier\n",
    "local_src['day'] = local_src['time'].dt.date.apply(lambda date: dt.datetime.combine(date, dt.time()))\n",
    "local_src['hour'] = local_src['time'].dt.hour\n",
    "local_src = local_src[local_src['time'] < dt.datetime(2022, 11, 4)]\n",
    "# local_src = local_src[local_src['time'].dt.hour.isin([0,3,6,9,12,15,18,21])]\n",
    "\n",
    "profile_plot = alt.Chart(local_src).transform_filter(\n",
    "    alt.datum.measurement == 'wind speed'\n",
    ").mark_point().encode(\n",
    "    alt.X(\n",
    "        'value:Q', \n",
    "        sort='-y', \n",
    "        title=None, \n",
    "        axis=alt.Axis(orient='top', offset=-15)\n",
    "    ),\n",
    "    alt.Y('height:Q',  axis=alt.Axis(grid=False)),\n",
    "    color=alt.Color(\"height:O\", scale=alt.Scale(scheme='viridis'))\n",
    ").properties(\n",
    "    width=83.4,\n",
    "    height=50\n",
    ").facet(\n",
    "    facet=alt.Column(\n",
    "        'time', \n",
    "        header=alt.Header(format=\"%H:00\", formatType='time'),\n",
    "        # header=alt.Header(labelExpr=\"''\"),\n",
    "        title='Hourly average wind speed profiles (m/s)',\n",
    "    ),\n",
    "    columns=24,\n",
    "   spacing=1\n",
    ").resolve_axis(\n",
    "    x='shared'\n",
    ")\n",
    "\n",
    "(\n",
    "profile_plot & \\\n",
    "alt.Chart(\n",
    "    sos_data_df_slice\n",
    ").transform_filter(\n",
    "    alt.datum.measurement == 'wind direction'\n",
    ").transform_window(\n",
    "    rolling_mean = 'mean(value)',\n",
    "    frame = [-5, 5]\n",
    ").mark_line().encode(\n",
    "    alt.X('time:T'),\n",
    "    # alt.Y('value:Q'),\n",
    "    alt.Y(\n",
    "        'rolling_mean:Q', \n",
    "        title = 'Wind Direction (50 minute rolling average', \n",
    "        scale=alt.Scale(domain=[0, 360], nice=False),\n",
    "        axis=alt.Axis(values=[0, 90, 180, 270, 360])\n",
    "\n",
    "    ),\n",
    "    color=alt.Color(\n",
    "        \"height:O\", \n",
    "        scale=alt.Scale(scheme='viridis')\n",
    "    )\n",
    ").properties(\n",
    "    width=1000,\n",
    "    # height=200\n",
    ")).properties(title='Wind direction and vertical profiles over 2 days')\n",
    "# .configure_axis(grid=False).configure_view(strokeWidth=0)"
   ]
  },
  {
   "cell_type": "code",
   "execution_count": null,
   "id": "7f46697b",
   "metadata": {},
   "outputs": [],
   "source": [
    "local_src = sos_data_df_slice.set_index('time').groupby([pd.Grouper(freq='15Min'), 'tower', 'height', 'measurement']).mean().reset_index()\n",
    "\n",
    "# Create additional time columns to make plotting easier\n",
    "local_src['day'] = local_src['time'].dt.date.apply(lambda date: dt.datetime.combine(date, dt.time()))\n",
    "local_src['hour'] = local_src['time'].dt.hour\n",
    "local_src = local_src[local_src['time'] < dt.datetime(2022, 11, 4)]\n",
    "# local_src = local_src[local_src['time'].dt.hour.isin([0,3,6,9,12,15,18,21])]\n",
    "\n",
    "profile_plot = alt.Chart(local_src).transform_filter(\n",
    "    alt.datum.measurement == 'wind speed'\n",
    ").mark_point().encode(\n",
    "    alt.X(\n",
    "        'value:Q', \n",
    "        sort='-y', \n",
    "        title=None, \n",
    "        axis=alt.Axis(orient='top', offset=-30)\n",
    "    ),\n",
    "    alt.Y('height:Q',  axis=alt.Axis(grid=False)),\n",
    "    color=alt.Color(\"height:O\", scale=alt.Scale(scheme='viridis'))\n",
    ").properties(\n",
    "    width=81,\n",
    "    height=50\n",
    ").facet(\n",
    "    facet=alt.Column(\n",
    "        'time', \n",
    "        header=alt.Header(format=\"%H:%M\", formatType='time', labelPadding=30, titlePadding=30),\n",
    "        # header=alt.Header(labelExpr=\"''\"),\n",
    "        title='15 minute average wind speed profiles (m/s)',\n",
    "    ),\n",
    "    columns=24,\n",
    "   spacing=1\n",
    ").resolve_axis(\n",
    "    x='shared'\n",
    ")\n",
    "\n",
    "(\n",
    "profile_plot & \\\n",
    "alt.Chart(\n",
    "    sos_data_df_slice\n",
    ").transform_filter(\n",
    "    alt.datum.measurement == 'wind direction'\n",
    ").transform_window(\n",
    "    rolling_mean = 'mean(value)',\n",
    "    frame = [-5, 5]\n",
    ").mark_line().encode(\n",
    "    alt.X('time:T'),\n",
    "    # alt.Y('value:Q'),\n",
    "    alt.Y(\n",
    "        'rolling_mean:Q', \n",
    "        title = 'Wind Direction (50 minute rolling average', \n",
    "        scale=alt.Scale(domain=[0, 360], nice=False),\n",
    "        axis=alt.Axis(values=[0, 90, 180, 270, 360])\n",
    "\n",
    "    ),\n",
    "    color=alt.Color(\n",
    "        \"height:O\", \n",
    "        scale=alt.Scale(scheme='viridis')\n",
    "    )\n",
    ").properties(\n",
    "    width=1000,\n",
    "    # height=200\n",
    ")).properties(title='Wind direction and vertical profiles over 2 days')\n",
    "# .configure_axis(grid=False).configure_view(strokeWidth=0)"
   ]
  },
  {
   "cell_type": "markdown",
   "id": "5277065f",
   "metadata": {},
   "source": [
    "# Convert sonic data to upstream coordinates (ignoring rotation in the z-normal axis, i.e. not adjusting for sloping topography)\n",
    "\n",
    "This requires averaging over a period of near-constant wind direction. Let's study the second night, 6pm Oct 31 to 6am Nov 1."
   ]
  },
  {
   "cell_type": "markdown",
   "id": "d4aa5ade",
   "metadata": {},
   "source": [
    "## Look at U and V"
   ]
  },
  {
   "cell_type": "code",
   "execution_count": null,
   "id": "20fe86ab",
   "metadata": {},
   "outputs": [],
   "source": [
    "\n",
    "\n",
    "horzline = alt.Chart().mark_rule().encode(\n",
    "    y='a:Q'\n",
    ")\n",
    "\n",
    "og_plot = alt.Chart(\n",
    ").mark_point().encode(\n",
    "    alt.X('time:T'),\n",
    "    alt.Y('value:Q'),\n",
    "    alt.Color(\"height:O\", scale=alt.Scale(scheme='viridis')),\n",
    "    # alt.Facet('measurement', columns=1)\n",
    ").properties(\n",
    "    width=300,\n",
    "    height=100\n",
    ").transform_filter(\n",
    "    alt.FieldOneOfPredicate('measurement', ['u', 'v'])\n",
    ")\n",
    "\n",
    "alt.layer(\n",
    "    og_plot,\n",
    "    horzline, \n",
    "    data = sos_data_df_slice.dropna()\n",
    ").transform_filter(\n",
    "    alt.FieldOneOfPredicate('measurement', ['u', 'v'])\n",
    ").transform_calculate(\n",
    "        a=\"0\"\n",
    ").facet('measurement', columns=1)"
   ]
  },
  {
   "cell_type": "markdown",
   "id": "cf6223b6",
   "metadata": {},
   "source": [
    "## \"1. Calculate mean U and V (in sonic coords)"
   ]
  },
  {
   "cell_type": "markdown",
   "id": "22b64601",
   "metadata": {},
   "source": [
    "\n",
    "\n",
    "Find mean U and V for a given period, and use equations from EOL (https://www.eol.ucar.edu/node/1953)\n",
    "\n",
    "The U axis (Ustream) of streamwise coordinates is defined to be the mean wind direction. To rotate wind vectors to streamwise coordinates, first determine the the average wind vector,Uav, Vav, in the same coordinate system as the data to be rotated, which could be instrument or geographic coordinates. The rotation angle is the angle of this wind vector from the U axis, measured positive counter-clockwise.\n",
    "\n",
    "1. Find the average wind vector:\n",
    "    <U, V>"
   ]
  },
  {
   "cell_type": "code",
   "execution_count": null,
   "id": "d86a150c",
   "metadata": {},
   "outputs": [],
   "source": [
    "u_avg = sos_data_df_slice[sos_data_df_slice['measurement'] == 'u'].groupby(['tower', 'height'])['value'].mean()\n",
    "v_avg = sos_data_df_slice[sos_data_df_slice['measurement'] == 'v'].groupby(['tower', 'height'])['value'].mean()\n",
    "u_avg, v_avg"
   ]
  },
  {
   "cell_type": "markdown",
   "id": "0f7cd590",
   "metadata": {},
   "source": [
    "## \"2. Compute the adjustment angles angles\n",
    "\n",
    "D = atan2(Vav,Uav) * DperR\n",
    "\n",
    "Ustream =  U * cos(D*RperD) + V * sin(D*RperD)\n",
    "\n",
    "Vstream = -U * sin(D*RperD) + V * cos(D*RperD)\n",
    "\n",
    "As expected, if U=Uav and V=Vav then Ustream = Spd, and Vstream = 0."
   ]
  },
  {
   "cell_type": "code",
   "execution_count": null,
   "id": "0715cbab",
   "metadata": {},
   "outputs": [],
   "source": [
    "D = np.arctan2(v_avg, u_avg)"
   ]
  },
  {
   "cell_type": "code",
   "execution_count": null,
   "id": "64584772",
   "metadata": {},
   "outputs": [],
   "source": [
    "D"
   ]
  },
  {
   "cell_type": "code",
   "execution_count": null,
   "id": "6c24db22",
   "metadata": {},
   "outputs": [],
   "source": [
    "sos_data_df_slice_wide = sos_data_df_slice.pivot_table(index=['time','tower','height'], values='value', columns='measurement').reset_index()"
   ]
  },
  {
   "cell_type": "code",
   "execution_count": null,
   "id": "cead7955",
   "metadata": {},
   "outputs": [],
   "source": [
    "# Ustream =  U * cos(D*RperD) + V * sin(D*RperD)\n",
    "\n",
    "# Vstream = -U * sin(D*RperD) + V * cos(D*RperD)\n",
    "\n",
    "# convert u velocity\n",
    "sos_data_df_slice_wide['u'] = sos_data_df_slice_wide.apply(\n",
    "    lambda row: row['u']*np.cos(D.to_dict().get((row['tower'], row['height']), np.nan)) + row['v']*np.sin(D.to_dict().get((row['tower'], row['height']), np.nan)),\n",
    "    axis=1\n",
    ")\n",
    "\n",
    "# # convert v velocity\n",
    "sos_data_df_slice_wide['v'] = sos_data_df_slice_wide.apply(\n",
    "    lambda row: - row['u']*np.sin(D.to_dict().get((row['tower'], row['height']), np.nan)) + row['v']*np.cos(D.to_dict().get((row['tower'], row['height']), np.nan)),\n",
    "    axis=1\n",
    ")\n",
    "\n",
    "# # convert u_tc_ and u_w_ same as we convert u - IS THIS CORRECT?\n",
    "sos_data_df_slice_wide['u_tc_'] = sos_data_df_slice_wide.apply(\n",
    "    lambda row: row['u_tc_']*np.cos(D.to_dict().get((row['tower'], row['height']), np.nan)) + row['v_tc_']*np.sin(D.to_dict().get((row['tower'], row['height']), np.nan)),\n",
    "    axis=1\n",
    ")\n",
    "\n",
    "sos_data_df_slice_wide['u_w_'] = sos_data_df_slice_wide.apply(\n",
    "    lambda row: row['u_w_']*np.cos(D.to_dict().get((row['tower'], row['height']), np.nan)) + row['v_w_']*np.sin(D.to_dict().get((row['tower'], row['height']), np.nan)),\n",
    "    axis=1\n",
    ")\n",
    "\n",
    "# # convert v_tc_ and v_w_  same as we convert v - IS THIS CORRECT?\n",
    "sos_data_df_slice_wide['v_tc_'] = sos_data_df_slice_wide.apply(\n",
    "    lambda row: - row['u_tc_']*np.sin(D.to_dict().get((row['tower'], row['height']), np.nan)) + row['v_tc_']*np.cos(D.to_dict().get((row['tower'], row['height']), np.nan)),\n",
    "    axis=1\n",
    ")"
   ]
  },
  {
   "cell_type": "code",
   "execution_count": null,
   "id": "348d2ec0",
   "metadata": {},
   "outputs": [],
   "source": [
    "pd.set_option('display.max_rows', 500)"
   ]
  },
  {
   "cell_type": "markdown",
   "id": "b72ebfe4",
   "metadata": {},
   "source": [
    "## Create rotated dataset in tidy format"
   ]
  },
  {
   "cell_type": "code",
   "execution_count": null,
   "id": "8d9d863b",
   "metadata": {},
   "outputs": [],
   "source": [
    "sos_data_slice_rot = sos_data_df_slice_wide.melt(id_vars=['time', 'tower', 'height'], value_vars=sos_data_df_slice['measurement'].unique())"
   ]
  },
  {
   "cell_type": "code",
   "execution_count": null,
   "id": "473d4a6a",
   "metadata": {},
   "outputs": [],
   "source": [
    "\n",
    "\n",
    "horzline = alt.Chart().mark_rule().encode(\n",
    "    y='a:Q'\n",
    ")\n",
    "\n",
    "og_plot = alt.Chart(\n",
    ").mark_point().encode(\n",
    "    alt.X('time:T'),\n",
    "    alt.Y('value:Q'),\n",
    "    alt.Color(\"height:O\", scale=alt.Scale(scheme='viridis')),\n",
    "    # alt.Facet('measurement', columns=1)\n",
    ").properties(\n",
    "    width=300,\n",
    "    height=100\n",
    ").transform_filter(\n",
    "    alt.FieldOneOfPredicate('measurement', ['u', 'v'])\n",
    ")\n",
    "\n",
    "alt.layer(\n",
    "    og_plot,\n",
    "    horzline, \n",
    "    data = sos_data_slice_rot.dropna()\n",
    ").transform_filter(\n",
    "    alt.FieldOneOfPredicate('measurement', ['u', 'v'])\n",
    ").transform_calculate(\n",
    "        a=\"0\"\n",
    ").facet('measurement', columns=1)"
   ]
  },
  {
   "cell_type": "code",
   "execution_count": null,
   "id": "ac919480",
   "metadata": {},
   "outputs": [],
   "source": [
    "def grid_plot_with_line(data, columns, xlabel=None):\n",
    "    \n",
    "    og_plot = alt.Chart().mark_line(point=False).encode(\n",
    "        alt.X('value:Q', sort='y', title=xlabel),\n",
    "        alt.Y('height:Q', title='Height (m)'),\n",
    "        # alt.Color(\"height:O\", scale=alt.Scale(scheme='viridis')),\n",
    "    ).properties(\n",
    "        width=100,\n",
    "        height=100\n",
    "    )\n",
    "\n",
    "    vertline = alt.Chart().mark_rule().encode(\n",
    "        x='a:Q'\n",
    "    )\n",
    "\n",
    "    return alt.layer(\n",
    "            og_plot, vertline,\n",
    "            data=data\n",
    "        ).transform_filter(\n",
    "           alt.FieldOneOfPredicate('measurement', columns)\n",
    "        ).transform_calculate(\n",
    "            a=\"0\"\n",
    "        ).facet(\n",
    "            column= alt.Column('time', header=alt.Header(format=\"%m/%d %H:%M\", formatType='time')),\n",
    "            row = alt.Row('measurement', sort=columns)\n",
    "        ).resolve_scale(\n",
    "            y='shared', \n",
    "        # x='shared'\n",
    "        )"
   ]
  },
  {
   "cell_type": "code",
   "execution_count": null,
   "id": "67a4448d",
   "metadata": {},
   "outputs": [],
   "source": [
    "src = sos_data_slice_rot.set_index('time').groupby([pd.Grouper(freq='60Min'), 'height', 'tower', 'measurement']).mean().reset_index()\n",
    "\n",
    "# drop any nans because they mess up plotting continuously\n",
    "src = src.dropna(subset = 'value')\n",
    "\n",
    "(\n",
    "    grid_plot_with_line(src, ['T'], xlabel='Temperature (C˚)') & \n",
    "    # grid_plot_with_line(src, ['wind speed', 'u']) &\n",
    "    grid_plot_with_line(src, ['u'], xlabel='Wind speed (m/s)') &\n",
    "    grid_plot_with_line(src, ['u_w_'], xlabel=[\"Vertical momentum\", \"flux (m^2/s^2)\"]) & \n",
    "    grid_plot_with_line(src, ['w_tc_'], xlabel=[\"Vertical heat\", \"flux (m^2 ˚C/s)\"]) &\n",
    "    grid_plot_with_line(src, ['w_h2o_'], xlabel=[\"Vertical moisture\", \"flux (g/m^2/s)\"])    \n",
    ").configure_axis(grid=False)"
   ]
  },
  {
   "cell_type": "code",
   "execution_count": null,
   "id": "e15dc894",
   "metadata": {},
   "outputs": [],
   "source": [
    "def grid_plot_with_line_wxlim(data, columns, xlabel=None, ylabel = None, xlim=None):\n",
    "    \n",
    "    og_plot = alt.Chart().mark_line(point=False).encode(\n",
    "        alt.X('value:Q', sort='y', title=xlabel, scale=alt.Scale(domain=xlim)),\n",
    "        alt.Y('height:Q', title=ylabel),\n",
    "        # alt.Color(\"height:O\", scale=alt.Scale(scheme='viridis')),\n",
    "    ).properties(\n",
    "        width=100,\n",
    "        height=100\n",
    "    )\n",
    "\n",
    "    vertline = alt.Chart().mark_rule().encode(\n",
    "        x='a:Q'\n",
    "    )\n",
    "\n",
    "    return alt.layer(\n",
    "            og_plot, vertline,\n",
    "            data=data\n",
    "        ).transform_filter(\n",
    "           alt.FieldOneOfPredicate('measurement', columns)\n",
    "        ).transform_calculate(\n",
    "            a=\"0\"\n",
    "        ).resolve_scale(\n",
    "            y='shared', \n",
    "        # x='shared'\n",
    "        )"
   ]
  },
  {
   "cell_type": "code",
   "execution_count": null,
   "id": "483792d3",
   "metadata": {
    "lines_to_next_cell": 0
   },
   "outputs": [],
   "source": [
    "src = sos_data_slice_rot.set_index('time').groupby([pd.Grouper(freq='60Min'), 'height', 'tower', 'measurement']).mean().reset_index()\n",
    "# filter dates,\n",
    "#  drop any nans because they mess up plotting continuously\n",
    "src1 = src[(src['time'].dt.day == 31) & (src['time'].dt.hour == 13)].dropna(subset = 'value')\n",
    "\n",
    "src2 = src[(src['time'].dt.day == 31) & (src['time'].dt.hour == 18)].dropna(subset = 'value')\n",
    "\n",
    "src3 = src[(src['time'].dt.day == 1) & (src['time'].dt.hour == 2)].dropna(subset = 'value')\n",
    "\n",
    "src4 = src[(src['time'].dt.day == 1) & (src['time'].dt.hour == 18)].dropna(subset = 'value')\n",
    "\n",
    "\n",
    "src = src\n",
    "\n",
    "(\n",
    "    (\n",
    "        grid_plot_with_line_wxlim(src1, ['wind speed'], xlabel='', xlim=[0, 5], ylabel = 'Height (m)') |\n",
    "        grid_plot_with_line_wxlim(src1, ['w_h2o_'], xlabel=\"\", xlim=[-0.01, 0.01]) |\n",
    "        grid_plot_with_line_wxlim(src1, ['T'], xlabel=\"\", xlim=[-7, 7])\n",
    "    ) \n",
    "    &\n",
    "    (\n",
    "        grid_plot_with_line_wxlim(src2, ['wind speed'], xlabel='', xlim=[0, 5], ylabel = 'Height (m)') |\n",
    "        grid_plot_with_line_wxlim(src2, ['w_h2o_'], xlabel=\"\", xlim=[-0.01, 0.01]) |\n",
    "        grid_plot_with_line_wxlim(src2, ['T'], xlabel=\"\", xlim=[-7, 7])\n",
    "    ) \n",
    "    &\n",
    "    (\n",
    "        grid_plot_with_line_wxlim(src3, ['wind speed'], xlabel='', xlim=[0, 5], ylabel = 'Height (m)') |\n",
    "        grid_plot_with_line_wxlim(src3, ['w_h2o_'], xlabel=\"\", xlim=[-0.01, 0.01]) |\n",
    "        grid_plot_with_line_wxlim(src3, ['T'], xlabel=\"\", xlim=[-7, 7])\n",
    "    )\n",
    "    &\n",
    "    (\n",
    "        grid_plot_with_line_wxlim(src4, ['wind speed'], xlabel='Wind speed (m/s)', xlim=[0, 5], ylabel = 'Height (m)') |\n",
    "        grid_plot_with_line_wxlim(src4, ['w_h2o_'], xlabel=[\"Vertical moisture\", \"flux (g/m^2/s)\"], xlim=[-0.01, 0.01]) |\n",
    "        grid_plot_with_line_wxlim(src4, ['T'], xlabel='Temperature (C˚)', xlim=[-7, 7])\n",
    "    )\n",
    ").configure_axis(grid=False)"
   ]
  },
  {
   "cell_type": "code",
   "execution_count": null,
   "id": "12a2a981",
   "metadata": {
    "lines_to_next_cell": 2
   },
   "outputs": [],
   "source": []
  }
 ],
 "metadata": {
  "kernelspec": {
   "display_name": "Python 3",
   "language": "python",
   "name": "python3"
  },
  "language_info": {
   "name": "python",
   "version": "3.6.8 (default, Nov 16 2020, 16:55:22) \n[GCC 4.8.5 20150623 (Red Hat 4.8.5-44)]"
  },
  "vscode": {
   "interpreter": {
    "hash": "31f2aee4e71d21fbe5cf8b01ff0e069b9275f58929596ceb00d14d90e3e16cd6"
   }
  }
 },
 "nbformat": 4,
 "nbformat_minor": 5
}
