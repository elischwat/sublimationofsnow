{
 "cells": [
  {
   "cell_type": "markdown",
   "id": "2ed7f440",
   "metadata": {},
   "source": [
    "# October 31 - November 1 night time jet"
   ]
  },
  {
   "cell_type": "code",
   "execution_count": null,
   "id": "7f9973b9",
   "metadata": {},
   "outputs": [],
   "source": [
    "import xarray as xr\n",
    "import altair as alt\n",
    "import datetime\n",
    "import pandas as pd \n",
    "import numpy as np\n",
    "import glob\n",
    "\n",
    "alt.data_transformers.disable_max_rows()\n",
    "\n",
    "import sys\n",
    "sys.path.append('../')\n",
    "import sosutils"
   ]
  },
  {
   "cell_type": "code",
   "execution_count": null,
   "id": "a5cec979",
   "metadata": {},
   "outputs": [],
   "source": [
    "dates = ['20221022', '20221023', '20221028', '20221029', '20221115', '20221116']\n",
    "dates_i_want = ['20221022', '20221028', '20221115']\n",
    "local_download_dir = 'sosnoqc'"
   ]
  },
  {
   "cell_type": "markdown",
   "id": "9f330199",
   "metadata": {},
   "source": [
    "# Download SoS data"
   ]
  },
  {
   "cell_type": "code",
   "execution_count": null,
   "id": "3c095877",
   "metadata": {},
   "outputs": [],
   "source": [
    "files = [sosutils.download_sos_data_day(date=d, local_download_dir=local_download_dir) for d in dates]\n",
    "datasets = [xr.open_dataset(f) for f in files]"
   ]
  },
  {
   "cell_type": "code",
   "execution_count": null,
   "id": "b44e0498",
   "metadata": {},
   "outputs": [],
   "source": [
    "sos_data = sosutils.merge_datasets_with_different_variables(datasets, dim='time')"
   ]
  },
  {
   "cell_type": "code",
   "execution_count": null,
   "id": "82e58de2",
   "metadata": {},
   "outputs": [],
   "source": [
    "sos_data.to_dataframe().reset_index()['time'].min(), sos_data.to_dataframe().reset_index()['time'].max()"
   ]
  },
  {
   "cell_type": "code",
   "execution_count": null,
   "id": "603f92e1",
   "metadata": {},
   "outputs": [],
   "source": [
    "[v for v in sos_data.data_vars if 'spd' in v and v.endswith('_d')]"
   ]
  },
  {
   "cell_type": "markdown",
   "id": "2a87f9bf",
   "metadata": {},
   "source": [
    "# Identify variables we will use"
   ]
  },
  {
   "cell_type": "code",
   "execution_count": null,
   "id": "c68af8ff",
   "metadata": {},
   "outputs": [],
   "source": [
    "VARIABLE_NAMES = [\n",
    "    'w_h2o__1m_d', # moisture flux (AKA latent heat flux), m^3/m^2/s\n",
    "    'w_h2o__3m_d',\n",
    "    'w_h2o__10m_d',\n",
    "     \n",
    "    'w_tc__1m_d', # sensible heat flux, K/m^2/s\n",
    "    'w_tc__3m_d',\n",
    "    'w_tc__10m_d',\n",
    "\n",
    "    'Rsw_in_9m_d', # incoming shortwave radiation, W/m^2\n",
    "    'Rsw_out_9m_d',\n",
    "\n",
    "\n",
    "    'Tsoil_3_1cm_d', # soil temp    \n",
    "    'Tsoil_8_1cm_d',\n",
    "    'Tsoil_18_1cm_d',\n",
    "    'Tsoil_28_1cm_d',\n",
    "\n",
    "    'Tsoil_4_4cm_d',\n",
    "    'Tsoil_9_4cm_d',\n",
    "    'Tsoil_19_4cm_d',\n",
    "    'Tsoil_29_4cm_d',\n",
    "\n",
    "    'Tsoil_0_6cm_d', \n",
    "    'Tsoil_10_6cm_d',\n",
    "    'Tsoil_20_6cm_d',\n",
    "    'Tsoil_30_6cm_d',\n",
    "\n",
    "    'Tsoil_1_9cm_d',\n",
    "    'Tsoil_11_9cm_d',\n",
    "    'Tsoil_21_9cm_d',\n",
    "    'Tsoil_31_9cm_d',\n",
    "\n",
    "    'Gsoil_d',  # heat flux at depth, W/m^2\n",
    "    'Qsoil_d',  # soil moisture, % volume\n",
    "\n",
    "    'T_1m_c',\n",
    "    \n",
    "    'tc_1m_d', # virtual temperature\n",
    "    'tc_3m_d', \n",
    "    'tc_10m_d',\n",
    "\n",
    "    # 'spd_1m_d', 'spd_3m_d', 'spd_10m_d' # wind speed\n",
    "    'spd_1m_c', 'spd_2m_c', 'spd_3m_c', 'spd_5m_c', 'spd_10m_c', 'spd_15m_c', 'spd_20m_c',\n",
    "\n",
    "    'Tcase_in_9m_d', 'Tcase_out_9m_d', # variables to calculate longwave radiation\n",
    "    'Rpile_in_9m_d', 'Rpile_out_9m_d',\n",
    "]"
   ]
  },
  {
   "cell_type": "markdown",
   "id": "8d8b026c",
   "metadata": {},
   "source": [
    "### Calculate longwave radiation calculation\n",
    "https://www.eol.ucar.edu/content/calculation-long-wave-radiation"
   ]
  },
  {
   "cell_type": "code",
   "execution_count": null,
   "id": "c5c1104e",
   "metadata": {},
   "outputs": [],
   "source": [
    "STEFAN_BOLTZMANN_CONSTANT = 5.67e-8 # w/m^2/degK^4\n",
    "sos_data['Rlw_in_9m_d'] = sos_data['Rpile_in_9m_d'] + STEFAN_BOLTZMANN_CONSTANT*(sos_data['Tcase_in_9m_d']+273.15)\n",
    "sos_data['Rlw_out_9m_d'] = sos_data['Rpile_out_9m_d'] + STEFAN_BOLTZMANN_CONSTANT*(sos_data['Tcase_out_9m_d']+273.15)\n",
    "\n",
    "VARIABLE_NAMES = VARIABLE_NAMES + ['Rlw_in_9m_d', 'Rlw_out_9m_d']"
   ]
  },
  {
   "cell_type": "markdown",
   "id": "bd2df02b",
   "metadata": {},
   "source": [
    "## Extract 5 minute-average data from the raw SoS dataset"
   ]
  },
  {
   "cell_type": "code",
   "execution_count": null,
   "id": "c529f7e8",
   "metadata": {},
   "outputs": [],
   "source": [
    "sos_data_df = sos_data[VARIABLE_NAMES].to_dataframe().reset_index().melt(id_vars='time', value_vars=VARIABLE_NAMES)\n",
    "sos_data_df['height'] = sos_data_df['variable'].apply(sosutils.height_from_variable_name)\n",
    "sos_data_df['tower'] = sos_data_df['variable'].apply(sosutils.tower_from_variable_name)\n",
    "sos_data_df['measurement'] = sos_data_df['variable'].apply(sosutils.measurement_from_variable_name)\n",
    "sos_data_df['time'] = sos_data_df['time'] - datetime.timedelta(hours=6)"
   ]
  },
  {
   "cell_type": "code",
   "execution_count": null,
   "id": "3158a1b1",
   "metadata": {},
   "outputs": [],
   "source": [
    "sos_data_df['day_string'] = sos_data_df['time'].dt.strftime('%Y%m%d')"
   ]
  },
  {
   "cell_type": "code",
   "execution_count": null,
   "id": "e435f7a8",
   "metadata": {},
   "outputs": [],
   "source": [
    "sos_data_df = sos_data_df[sos_data_df['day_string'].isin(dates_i_want)]"
   ]
  },
  {
   "cell_type": "code",
   "execution_count": null,
   "id": "f276d1b1",
   "metadata": {},
   "outputs": [],
   "source": [
    "sos_data_df.head()"
   ]
  },
  {
   "cell_type": "markdown",
   "id": "407cf9f2",
   "metadata": {},
   "source": [
    "# Examine diurnal cycles on different days"
   ]
  },
  {
   "cell_type": "code",
   "execution_count": null,
   "id": "58294b12",
   "metadata": {},
   "outputs": [],
   "source": [
    "# Add net shortwave radiation rows\n",
    "net_sw_data = pd.merge(\n",
    "    sos_data_df.query('variable == \"Rsw_out_9m_d\"'),\n",
    "    sos_data_df.query('variable == \"Rsw_in_9m_d\"'),\n",
    "    on = ['time', 'height', 'tower']\n",
    ")[['time', 'height', 'tower', 'value_x', 'value_y']]\n",
    "\n",
    "net_sw_data['measurement'] = 'shortwave radiation net'\n",
    "net_sw_data['variable'] = 'Rsw_net_9m_d'\n",
    "net_sw_data['value'] = net_sw_data['value_y'] - net_sw_data['value_x']\n",
    "\n",
    "sos_data_df = pd.concat([\n",
    "    sos_data_df,\n",
    "    net_sw_data.drop(columns=['value_x', 'value_y'])\n",
    "])\n",
    "\n",
    "# Add net longwave radiation rows\n",
    "net_lw_data = pd.merge(\n",
    "    sos_data_df.query('variable == \"Rlw_out_9m_d\"'),\n",
    "    sos_data_df.query('variable == \"Rlw_in_9m_d\"'),\n",
    "    on = ['time', 'height', 'tower']\n",
    ")[['time', 'height', 'tower', 'value_x', 'value_y']]\n",
    "\n",
    "net_lw_data['measurement'] = 'longwave radiation net'\n",
    "net_lw_data['variable'] = 'Rlw_net_9m_d'\n",
    "net_lw_data['value'] = net_lw_data['value_y'] - net_lw_data['value_x']\n",
    "\n",
    "sos_data_df = pd.concat([\n",
    "    sos_data_df,\n",
    "    net_lw_data.drop(columns=['value_x', 'value_y'])\n",
    "])"
   ]
  },
  {
   "cell_type": "code",
   "execution_count": null,
   "id": "4a9ee697",
   "metadata": {
    "lines_to_next_cell": 2
   },
   "outputs": [],
   "source": [
    "# Add time columns for easy plotting\n",
    "# the individual day, as a string\n",
    "sos_data_df['day'] = sos_data_df['time'].dt.strftime('%m/%d/%Y')\n",
    "# the time of the day, assuming a random date\n",
    "sos_data_df['time_of_day'] = sos_data_df['time'].apply(lambda dt: datetime.datetime(2022, 1, 1, dt.hour, dt.minute, dt.second))"
   ]
  },
  {
   "cell_type": "code",
   "execution_count": null,
   "id": "0a139234",
   "metadata": {},
   "outputs": [],
   "source": [
    "# Create hourly soil temp dataset for plotting of vertical profiles\n",
    "soil_temp_data = sos_data_df.query('measurement == \"soil temperature\"')\n",
    "soil_temp_data = soil_temp_data.set_index(['time'])\n",
    "soil_temp_data\n",
    "soil_temp_data_1hr = soil_temp_data.groupby(['height', 'variable', 'tower', 'measurement', 'day']).resample('120Min').mean().drop(columns='height')\n",
    "soil_temp_data_1hr = soil_temp_data_1hr.reset_index()\n",
    "# Add time columns for easy plotting\n",
    "# the individual day, as a string\n",
    "soil_temp_data_1hr['day'] = soil_temp_data_1hr['time'].dt.strftime('%m/%d/%Y')\n",
    "# the time of the day, assuming a random date\n",
    "soil_temp_data_1hr['time_of_day'] = soil_temp_data_1hr['time'].apply(lambda dt: datetime.datetime(2022, 1, 1, dt.hour, dt.minute, dt.second))\n",
    "soil_temp_data_1hr['hour'] = soil_temp_data_1hr['time'].dt.hour\n",
    "soil_temp_data_1hr"
   ]
  },
  {
   "cell_type": "code",
   "execution_count": null,
   "id": "5ebe29a5",
   "metadata": {},
   "outputs": [],
   "source": [
    "# Create hourly vertical heat flux dataset for plotting of vertical profiles\n",
    "vert_heat_flux_data = sos_data_df.query('measurement == \"w_tc_\"')\n",
    "vert_heat_flux_data = vert_heat_flux_data.set_index(['time'])\n",
    "vert_heat_flux_data\n",
    "vert_heat_flux_data_1hr = vert_heat_flux_data.groupby(['height', 'variable', 'tower', 'measurement', 'day']).resample('120Min').mean().drop(columns='height')\n",
    "vert_heat_flux_data_1hr = vert_heat_flux_data_1hr.reset_index()\n",
    "# Add time columns for easy plotting\n",
    "# the individual day, as a string\n",
    "vert_heat_flux_data_1hr['day'] = vert_heat_flux_data_1hr['time'].dt.strftime('%m/%d/%Y')\n",
    "# the time of the day, assuming a random date\n",
    "vert_heat_flux_data_1hr['time_of_day'] = vert_heat_flux_data_1hr['time'].apply(lambda dt: datetime.datetime(2022, 1, 1, dt.hour, dt.minute, dt.second))\n",
    "vert_heat_flux_data_1hr['hour'] = vert_heat_flux_data_1hr['time'].dt.hour\n",
    "vert_heat_flux_data_1hr"
   ]
  },
  {
   "cell_type": "code",
   "execution_count": null,
   "id": "b13bca11",
   "metadata": {},
   "outputs": [],
   "source": [
    "# Create hourly vertical moisture flux dataset for plotting of vertical profiles\n",
    "vert_moisture_flux_data = sos_data_df.query('measurement == \"w_h2o_\"')\n",
    "vert_moisture_flux_data = vert_moisture_flux_data.set_index(['time'])\n",
    "vert_moisture_flux_data\n",
    "vert_moisture_flux_data_1hr = vert_moisture_flux_data.groupby(['height', 'variable', 'tower', 'measurement', 'day']).resample('120Min').mean().drop(columns='height')\n",
    "vert_moisture_flux_data_1hr = vert_moisture_flux_data_1hr.reset_index()\n",
    "# Add time columns for easy plotting\n",
    "# the individual day, as a string\n",
    "vert_moisture_flux_data_1hr['day'] = vert_moisture_flux_data_1hr['time'].dt.strftime('%m/%d/%Y')\n",
    "# the time of the day, assuming a random date\n",
    "vert_moisture_flux_data_1hr['time_of_day'] = vert_moisture_flux_data_1hr['time'].apply(lambda dt: datetime.datetime(2022, 1, 1, dt.hour, dt.minute, dt.second))\n",
    "vert_moisture_flux_data_1hr['hour'] = vert_moisture_flux_data_1hr['time'].dt.hour\n",
    "vert_moisture_flux_data_1hr"
   ]
  },
  {
   "cell_type": "code",
   "execution_count": null,
   "id": "5182fd90",
   "metadata": {},
   "outputs": [],
   "source": [
    "# Create hourly potential temperature dataset for plotting of vertical profiles\n",
    "potential_temp_data = sos_data_df.query('measurement == \"potential temperature\"')\n",
    "potential_temp_data = potential_temp_data.set_index(['time'])\n",
    "potential_temp_data\n",
    "potential_temp_data_1hr = potential_temp_data.groupby(['height', 'variable', 'tower', 'measurement', 'day']).resample('120Min').mean().drop(columns='height')\n",
    "potential_temp_data_1hr = potential_temp_data_1hr.reset_index()\n",
    "# Add time columns for easy plotting\n",
    "# the individual day, as a string\n",
    "potential_temp_data_1hr['day'] = potential_temp_data_1hr['time'].dt.strftime('%m/%d/%Y')\n",
    "# the time of the day, assuming a random date\n",
    "potential_temp_data_1hr['time_of_day'] = potential_temp_data_1hr['time'].apply(lambda dt: datetime.datetime(2022, 1, 1, dt.hour, dt.minute, dt.second))\n",
    "potential_temp_data_1hr['hour'] = potential_temp_data_1hr['time'].dt.hour\n",
    "potential_temp_data_1hr"
   ]
  },
  {
   "cell_type": "code",
   "execution_count": null,
   "id": "d0fa86fe",
   "metadata": {},
   "outputs": [],
   "source": [
    "# Create hourly potential temperature dataset for plotting of vertical profiles\n",
    "wind_speed_data = sos_data_df.query('measurement == \"wind speed\"')\n",
    "wind_speed_data = wind_speed_data.set_index(['time'])\n",
    "wind_speed_data\n",
    "wind_speed_data_1hr = wind_speed_data.groupby(['height', 'variable', 'tower', 'measurement', 'day']).resample('120Min').mean().drop(columns='height')\n",
    "wind_speed_data_1hr = wind_speed_data_1hr.reset_index()\n",
    "# Add time columns for easy plotting\n",
    "# the individual day, as a string\n",
    "wind_speed_data_1hr['day'] = wind_speed_data_1hr['time'].dt.strftime('%m/%d/%Y')\n",
    "# the time of the day, assuming a random date\n",
    "wind_speed_data_1hr['time_of_day'] = wind_speed_data_1hr['time'].apply(lambda dt: datetime.datetime(2022, 1, 1, dt.hour, dt.minute, dt.second))\n",
    "wind_speed_data_1hr['hour'] = wind_speed_data_1hr['time'].dt.hour\n",
    "wind_speed_data_1hr"
   ]
  },
  {
   "cell_type": "code",
   "execution_count": null,
   "id": "1bdaa5af",
   "metadata": {},
   "outputs": [],
   "source": [
    "sos_data_df.variable.unique()"
   ]
  },
  {
   "cell_type": "code",
   "execution_count": null,
   "id": "853f1bf9",
   "metadata": {},
   "outputs": [],
   "source": [
    "sos_data_df.measurement.unique()"
   ]
  },
  {
   "cell_type": "code",
   "execution_count": null,
   "id": "64b54ed1",
   "metadata": {},
   "outputs": [],
   "source": [
    "time_series_plot = alt.Chart(sos_data_df).transform_filter(\n",
    "    alt.FieldOneOfPredicate(\n",
    "        'variable', \n",
    "        ['T_1m_c', 'Rsw_net_9m_d', 'Rlw_net_9m_d', 'w_h2o__1m_d', 'w_tc__1m_d', 'Qsoil_d']\n",
    "    )\n",
    ").mark_line().encode(\n",
    "    alt.X('time_of_day:T'),\n",
    "    alt.Y('value:Q'),\n",
    "    alt.Color('day:N')\n",
    ").properties(\n",
    "    width=1000, \n",
    "    height = 150\n",
    ").facet(\n",
    "    row='variable'\n",
    ").resolve_scale(y='independent', x='shared')"
   ]
  },
  {
   "cell_type": "code",
   "execution_count": null,
   "id": "1d3da83d",
   "metadata": {},
   "outputs": [],
   "source": [
    "bihourly_profiles_plot = (\n",
    "    alt.Chart(soil_temp_data_1hr).mark_line().encode(\n",
    "        alt.X(\n",
    "            'value:Q', \n",
    "            sort='y', \n",
    "            # title='temp',\n",
    "            scale=alt.Scale(domain=[-5, 15])\n",
    "        ),\n",
    "        alt.Y('height:Q', axis=alt.Axis(grid=False)),\n",
    "        alt.Color('day:N')\n",
    "    ).properties(\n",
    "        width=73,\n",
    "        height = 100\n",
    "    ).facet(\n",
    "        # row='day:N',\n",
    "        column='hour:O',\n",
    "        spacing=7\n",
    "    ) & \n",
    "    alt.Chart(vert_heat_flux_data_1hr).mark_line().encode(\n",
    "        alt.X(\n",
    "            'value:Q', \n",
    "            sort='y', \n",
    "            title=\"w'tc'\", \n",
    "            scale=alt.Scale(domain=[-0.1, 0.3])\n",
    "        ),\n",
    "        alt.Y('height:Q', axis=alt.Axis(grid=False)),\n",
    "        alt.Color('day:N')\n",
    "    ).properties(\n",
    "        width=73,\n",
    "        height = 100\n",
    "    ).facet(\n",
    "        column='hour:O',\n",
    "        spacing=7\n",
    "    ) & \n",
    "    alt.Chart(vert_moisture_flux_data_1hr).mark_line().encode(\n",
    "        alt.X(\n",
    "            'value:Q', \n",
    "            sort='y', \n",
    "            title=\"w'q'\", \n",
    "            scale=alt.Scale(domain=[-0.005, 0.025])\n",
    "        ),\n",
    "        alt.Y('height:Q', axis=alt.Axis(grid=False)),\n",
    "        alt.Color('day:N')\n",
    "    ).properties(\n",
    "        width=73,\n",
    "        height = 100\n",
    "    ).facet(\n",
    "        column='hour:O',\n",
    "        spacing=7\n",
    "    ) &  \n",
    "    alt.Chart(potential_temp_data_1hr).mark_line().encode(\n",
    "        alt.X(\n",
    "            'value:Q', \n",
    "            sort='y', \n",
    "            title=\"tc\", \n",
    "        ),\n",
    "        alt.Y('height:Q', axis=alt.Axis(grid=False)),\n",
    "        alt.Color('day:N')\n",
    "    ).properties(\n",
    "        width=73,\n",
    "        height = 100\n",
    "    ).facet(\n",
    "        column='hour:O',\n",
    "        spacing=7\n",
    "    ) &  \n",
    "    alt.Chart(wind_speed_data_1hr).mark_line().encode(\n",
    "        alt.X(\n",
    "            'value:Q', \n",
    "            sort='y', \n",
    "            title=\"wind speed\", \n",
    "        ),\n",
    "        alt.Y('height:Q', axis=alt.Axis(grid=False)),\n",
    "        alt.Color('day:N')\n",
    "    ).properties(\n",
    "        width=73,\n",
    "        height = 100\n",
    "    ).facet(\n",
    "        column='hour:O',\n",
    "        spacing=7\n",
    "    )\n",
    ")"
   ]
  },
  {
   "cell_type": "code",
   "execution_count": null,
   "id": "ff28bf8a",
   "metadata": {},
   "outputs": [],
   "source": [
    "time_series_plot & bihourly_profiles_plot"
   ]
  },
  {
   "cell_type": "markdown",
   "id": "31fa146e",
   "metadata": {},
   "source": [
    "* √ convert to mtn time\n",
    "* winds with height too\n",
    "* include net longwave"
   ]
  },
  {
   "cell_type": "markdown",
   "id": "735ba7b0",
   "metadata": {},
   "source": []
  }
 ],
 "metadata": {
  "kernelspec": {
   "display_name": "Python 3",
   "language": "python",
   "name": "python3"
  }
 },
 "nbformat": 4,
 "nbformat_minor": 5
}
