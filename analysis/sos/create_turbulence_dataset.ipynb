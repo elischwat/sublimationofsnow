{
 "cells": [
  {
   "cell_type": "code",
   "execution_count": 1,
   "metadata": {},
   "outputs": [
    {
     "data": {
      "text/plain": [
       "DataTransformerRegistry.enable('json')"
      ]
     },
     "execution_count": 1,
     "metadata": {},
     "output_type": "execute_result"
    }
   ],
   "source": [
    "import numpy as np\n",
    "import xarray as xr\n",
    "import pandas as pd\n",
    "import datetime as dt\n",
    "import pytz\n",
    "\n",
    "from sublimpy import variables\n",
    "from sublimpy import utils\n",
    "from sublimpy import tidy\n",
    "\n",
    "import matplotlib.pyplot as plt\n",
    "\n",
    "import altair as alt\n",
    "alt.data_transformers.enable('json')"
   ]
  },
  {
   "attachments": {},
   "cell_type": "markdown",
   "metadata": {},
   "source": [
    "# Inputs"
   ]
  },
  {
   "cell_type": "code",
   "execution_count": 2,
   "metadata": {},
   "outputs": [],
   "source": [
    "sos_download_dir='/data2/elilouis/sublimationofsnow/sosnoqc'\n",
    "DATE_FORMAT_STR = '%Y%m%d'\n",
    "# start_date = '20221201'\n",
    "# end_date = dt.datetime.strftime(dt.date.today() - dt.timedelta(days=1), DATE_FORMAT_STR)\n",
    "start_date = '20221130'\n",
    "end_date = '20230517'\n",
    "PLANAR_FIT = False\n",
    "\n",
    "\n",
    "\n",
    "\n",
    "datelist = pd.date_range(\n",
    "    dt.datetime.strptime(start_date, DATE_FORMAT_STR),\n",
    "    dt.datetime.strptime(end_date, DATE_FORMAT_STR),\n",
    "    freq='d'\n",
    ").strftime(DATE_FORMAT_STR).tolist()\n",
    "\n",
    "VARIABLE_NAMES = [\n",
    "    # Sonic Anemometer Data for 4 towers\n",
    "    'tc_1m_uw',     'spd_1m_uw',     'dir_1m_uw',     'u_1m_uw',   'v_1m_uw',   'w_1m_uw',   'u_u__1m_uw',    'v_v__1m_uw',    'w_w__1m_uw',    \n",
    "        'u_w__1m_uw',    'v_w__1m_uw',  'u_tc__1m_uw',  'v_tc__1m_uw',   'u_h2o__1m_uw',  'v_h2o__1m_uw',   'w_tc__1m_uw',   'w_h2o__1m_uw',\n",
    "    'tc_3m_uw',     'spd_3m_uw',     'dir_3m_uw',     'u_3m_uw',   'v_3m_uw',   'w_3m_uw',   'u_u__3m_uw',    'v_v__3m_uw',    'w_w__3m_uw',    \n",
    "        'u_w__3m_uw',    'v_w__3m_uw',  'u_tc__3m_uw',  'v_tc__3m_uw',   'u_h2o__3m_uw',  'v_h2o__3m_uw',   'w_tc__3m_uw',   'w_h2o__3m_uw',\n",
    "    'tc_10m_uw',    'spd_10m_uw',    'dir_10m_uw',    'u_10m_uw',  'v_10m_uw',  'w_10m_uw',  'u_u__10m_uw',   'v_v__10m_uw',   'w_w__10m_uw',   \n",
    "        'u_w__10m_uw',   'v_w__10m_uw', 'u_tc__10m_uw', 'v_tc__10m_uw',  'u_h2o__10m_uw', 'v_h2o__10m_uw',  'w_tc__10m_uw',  'w_h2o__10m_uw',\n",
    "\n",
    "    'tc_1m_ue',     'spd_1m_ue',     'dir_1m_ue',     'u_1m_ue',   'v_1m_ue',   'w_1m_ue',   'u_u__1m_ue',    'v_v__1m_ue',    'w_w__1m_ue',    \n",
    "        'u_w__1m_ue',    'v_w__1m_ue',  'u_tc__1m_ue',  'v_tc__1m_ue',   'u_h2o__1m_ue',  'v_h2o__1m_ue',   'w_tc__1m_ue',   'w_h2o__1m_ue',\n",
    "    'tc_3m_ue',     'spd_3m_ue',     'dir_3m_ue',     'u_3m_ue',   'v_3m_ue',   'w_3m_ue',   'u_u__3m_ue',    'v_v__3m_ue',    'w_w__3m_ue',    \n",
    "        'u_w__3m_ue',    'v_w__3m_ue',  'u_tc__3m_ue',  'v_tc__3m_ue',   'u_h2o__3m_ue',  'v_h2o__3m_ue',   'w_tc__3m_ue',   'w_h2o__3m_ue',\n",
    "    'tc_10m_ue',    'spd_10m_ue',    'dir_10m_ue',    'u_10m_ue',  'v_10m_ue',  'w_10m_ue',  'u_u__10m_ue',   'v_v__10m_ue',   'w_w__10m_ue',   \n",
    "        'u_w__10m_ue',   'v_w__10m_ue', 'u_tc__10m_ue', 'v_tc__10m_ue',  'u_h2o__10m_ue', 'v_h2o__10m_ue',  'w_tc__10m_ue',  'w_h2o__10m_ue',\n",
    "\n",
    "    'tc_1m_d',      'spd_1m_d',     'dir_1m_d',     'u_1m_d',   'v_1m_d',   'w_1m_d',   'u_u__1m_d',    'v_v__1m_d',    'w_w__1m_d',    \n",
    "        'u_w__1m_d',    'v_w__1m_d',  'u_tc__1m_d',  'v_tc__1m_d',   'u_h2o__1m_d',  'v_h2o__1m_d',   'w_tc__1m_d',   'w_h2o__1m_d',\n",
    "    'tc_3m_d',      'spd_3m_d',     'dir_3m_d',     'u_3m_d',   'v_3m_d',   'w_3m_d',   'u_u__3m_d',    'v_v__3m_d',    'w_w__3m_d',    \n",
    "        'u_w__3m_d',    'v_w__3m_d',  'u_tc__3m_d',  'v_tc__3m_d',   'u_h2o__3m_d',  'v_h2o__3m_d',   'w_tc__3m_d',   'w_h2o__3m_d',\n",
    "    'tc_10m_d',     'spd_10m_d',    'dir_10m_d',    'u_10m_d',  'v_10m_d',  'w_10m_d',  'u_u__10m_d',   'v_v__10m_d',   'w_w__10m_d',   \n",
    "        'u_w__10m_d',   'v_w__10m_d', 'u_tc__10m_d', 'v_tc__10m_d',  'u_h2o__10m_d', 'v_h2o__10m_d',  'w_tc__10m_d',  'w_h2o__10m_d',\n",
    "\n",
    "    'tc_2m_c',  'spd_2m_c',     'dir_2m_c',     'u_2m_c',   'v_2m_c',   'w_2m_c',   'u_u__2m_c',    'v_v__2m_c',    'w_w__2m_c',    \n",
    "        'u_w__2m_c',    'v_w__2m_c',  'u_tc__2m_c',  'v_tc__2m_c',   'u_h2o__2m_c',  'v_h2o__2m_c',   'w_tc__2m_c',   'w_h2o__2m_c',\n",
    "    'tc_3m_c',  'spd_3m_c',     'dir_3m_c',     'u_3m_c',   'v_3m_c',   'w_3m_c',   'u_u__3m_c',    'v_v__3m_c',    'w_w__3m_c',    \n",
    "        'u_w__3m_c',    'v_w__3m_c',  'u_tc__3m_c',  'v_tc__3m_c',   'u_h2o__3m_c',  'v_h2o__3m_c',   'w_tc__3m_c',   'w_h2o__3m_c',\n",
    "    'tc_5m_c',  'spd_5m_c',     'dir_5m_c',     'u_5m_c',   'v_5m_c',   'w_5m_c',   'u_u__5m_c',    'v_v__5m_c',    'w_w__5m_c',    \n",
    "        'u_w__5m_c',    'v_w__5m_c',  'u_tc__5m_c',  'v_tc__5m_c',   'u_h2o__5m_c',  'v_h2o__5m_c',   'w_tc__5m_c',   'w_h2o__5m_c',\n",
    "    'tc_10m_c', 'spd_10m_c',    'dir_10m_c',    'u_10m_c',  'v_10m_c',  'w_10m_c',  'u_u__10m_c',   'v_v__10m_c',   'w_w__10m_c',   \n",
    "        'u_w__10m_c',   'v_w__10m_c', 'u_tc__10m_c', 'v_tc__10m_c',  'u_h2o__10m_c', 'v_h2o__10m_c',  'w_tc__10m_c',  'w_h2o__10m_c',\n",
    "    'tc_15m_c', 'spd_15m_c',    'dir_15m_c',    'u_15m_c',  'v_15m_c',  'w_15m_c',  'u_u__15m_c',   'v_v__15m_c',   'w_w__15m_c',   \n",
    "        'u_w__15m_c',   'v_w__15m_c', 'u_tc__15m_c', 'v_tc__15m_c',  'u_h2o__15m_c', 'v_h2o__15m_c',  'w_tc__15m_c',  'w_h2o__15m_c',\n",
    "    'tc_20m_c', 'spd_20m_c',    'dir_20m_c',    'u_20m_c',  'v_20m_c',  'w_20m_c',  'u_u__20m_c',   'v_v__20m_c',   'w_w__20m_c',   \n",
    "        'u_w__20m_c',   'v_w__20m_c', 'u_tc__20m_c', 'v_tc__20m_c',  'u_h2o__20m_c', 'v_h2o__20m_c',  'w_tc__20m_c',  'w_h2o__20m_c',\n",
    "\n",
    "    \n",
    "    # Temperature & Relative Humidity Array \n",
    "    'T_2m_c', 'T_3m_c', 'T_4m_c', 'T_5m_c', 'T_6m_c', 'T_7m_c', 'T_8m_c', 'T_9m_c', 'T_10m_c',\n",
    "    'T_11m_c', 'T_12m_c', 'T_13m_c', 'T_14m_c', 'T_15m_c', 'T_16m_c', 'T_17m_c', 'T_18m_c', 'T_19m_c', 'T_20m_c',\n",
    "\n",
    "    'RH_2m_c', 'RH_3m_c', 'RH_4m_c', 'RH_5m_c', 'RH_6m_c', 'RH_7m_c', 'RH_8m_c', 'RH_9m_c', 'RH_10m_c',\n",
    "    'RH_11m_c','RH_12m_c','RH_13m_c','RH_14m_c','RH_15m_c','RH_16m_c','RH_17m_c','RH_18m_c','RH_19m_c','RH_20m_c',\n",
    "\n",
    "    # Pressure Sensors\n",
    "    'P_20m_c',\n",
    "    'P_10m_c', 'P_10m_d', 'P_10m_uw', 'P_10m_ue',\n",
    "\n",
    "    # Blowing snow/FlowCapt Sensors\n",
    "    'SF_avg_1m_ue', 'SF_avg_2m_ue',\n",
    "\n",
    "    # Apogee sensors\n",
    "    \"Vtherm_c\", \"Vtherm_d\", \"Vtherm_ue\", \"Vtherm_uw\", \n",
    "    \"Vpile_c\", \"Vpile_d\", \"Vpile_ue\", \"Vpile_uw\",\n",
    "    \"IDir_c\", \"IDir_d\", \"IDir_ue\", \"IDir_uw\",\n",
    "\n",
    "    # Snow-level temperature arrays (towers D and UW)\n",
    "    'Tsnow_0_4m_d', 'Tsnow_0_5m_d', 'Tsnow_0_6m_d', 'Tsnow_0_7m_d', 'Tsnow_0_8m_d', 'Tsnow_0_9m_d', 'Tsnow_1_0m_d', 'Tsnow_1_1m_d', 'Tsnow_1_2m_d', 'Tsnow_1_3m_d', 'Tsnow_1_4m_d', 'Tsnow_1_5m_d',\n",
    "    'Tsnow_0_4m_uw', 'Tsnow_0_5m_uw', 'Tsnow_0_6m_uw', 'Tsnow_0_7m_uw', 'Tsnow_0_8m_uw', 'Tsnow_0_9m_uw', 'Tsnow_1_0m_uw', 'Tsnow_1_1m_uw', 'Tsnow_1_2m_uw', 'Tsnow_1_3m_uw', 'Tsnow_1_4m_uw', 'Tsnow_1_5m_uw',\n",
    "    \n",
    "    # Downward Facing Longwave Radiometer (tower D) - for measuring snow surface temperature\n",
    "    'Rpile_out_9m_d',\n",
    "    'Tcase_out_9m_d',\n",
    "    \n",
    "    # Upward Facing Longwave Radiometer (tower D)\n",
    "    'Rpile_in_9m_d',\n",
    "    'Tcase_in_9m_d',\n",
    "    \n",
    "    # Upward facing shortwave radiometer (tower D) - for measuring incoming solar radiation!\n",
    "    'Rsw_in_9m_d',\n",
    "    'Rsw_out_9m_d',\n",
    "\n",
    "    # Snow Pillow SWE\n",
    "    'SWE_p1_c', 'SWE_p2_c', 'SWE_p3_c', 'SWE_p4_c',\n",
    "\n",
    "    # Soil Moisture\n",
    "    'Qsoil_d',\n",
    "]"
   ]
  },
  {
   "attachments": {},
   "cell_type": "markdown",
   "metadata": {},
   "source": [
    "# Download and Clean SoS data"
   ]
  },
  {
   "cell_type": "code",
   "execution_count": 3,
   "metadata": {},
   "outputs": [
    {
     "name": "stdout",
     "output_type": "stream",
     "text": [
      "Caching...skipping download for 20221130\n",
      "Caching...skipping download for 20221201\n",
      "Caching...skipping download for 20221202\n",
      "Caching...skipping download for 20221203\n",
      "Caching...skipping download for 20221204\n",
      "Caching...skipping download for 20221205\n",
      "Caching...skipping download for 20221206\n",
      "Caching...skipping download for 20221207\n",
      "Caching...skipping download for 20221208\n",
      "Caching...skipping download for 20221209\n",
      "Caching...skipping download for 20221210\n",
      "Caching...skipping download for 20221211\n",
      "Caching...skipping download for 20221212\n",
      "Caching...skipping download for 20221213\n",
      "Caching...skipping download for 20221214\n",
      "Caching...skipping download for 20221215\n",
      "Caching...skipping download for 20221216\n",
      "Caching...skipping download for 20221217\n",
      "Caching...skipping download for 20221218\n",
      "Caching...skipping download for 20221219\n",
      "Caching...skipping download for 20221220\n",
      "Caching...skipping download for 20221221\n",
      "Caching...skipping download for 20221222\n",
      "Caching...skipping download for 20221223\n",
      "Caching...skipping download for 20221224\n",
      "Caching...skipping download for 20221225\n",
      "Caching...skipping download for 20221226\n",
      "Caching...skipping download for 20221227\n",
      "Caching...skipping download for 20221228\n",
      "Caching...skipping download for 20221229\n",
      "Caching...skipping download for 20221230\n",
      "Caching...skipping download for 20221231\n",
      "Caching...skipping download for 20230101\n",
      "Caching...skipping download for 20230102\n",
      "Caching...skipping download for 20230103\n",
      "Caching...skipping download for 20230104\n",
      "Caching...skipping download for 20230105\n",
      "Caching...skipping download for 20230106\n",
      "Caching...skipping download for 20230107\n",
      "Caching...skipping download for 20230108\n",
      "Caching...skipping download for 20230109\n",
      "Caching...skipping download for 20230110\n",
      "Caching...skipping download for 20230111\n",
      "Caching...skipping download for 20230112\n",
      "Caching...skipping download for 20230113\n",
      "Caching...skipping download for 20230114\n",
      "Caching...skipping download for 20230115\n",
      "Caching...skipping download for 20230116\n",
      "Caching...skipping download for 20230117\n",
      "Caching...skipping download for 20230118\n",
      "Caching...skipping download for 20230119\n",
      "Caching...skipping download for 20230120\n",
      "Caching...skipping download for 20230121\n",
      "Caching...skipping download for 20230122\n",
      "Caching...skipping download for 20230123\n",
      "Caching...skipping download for 20230124\n",
      "Caching...skipping download for 20230125\n",
      "Caching...skipping download for 20230126\n",
      "Caching...skipping download for 20230127\n",
      "Caching...skipping download for 20230128\n",
      "Caching...skipping download for 20230129\n",
      "Caching...skipping download for 20230130\n",
      "Caching...skipping download for 20230131\n",
      "Caching...skipping download for 20230201\n",
      "Caching...skipping download for 20230202\n",
      "Caching...skipping download for 20230203\n",
      "Caching...skipping download for 20230204\n",
      "Caching...skipping download for 20230205\n",
      "Caching...skipping download for 20230206\n",
      "Caching...skipping download for 20230207\n",
      "Caching...skipping download for 20230208\n",
      "Caching...skipping download for 20230209\n",
      "Caching...skipping download for 20230210\n",
      "Caching...skipping download for 20230211\n",
      "Caching...skipping download for 20230212\n",
      "Caching...skipping download for 20230213\n",
      "Caching...skipping download for 20230214\n",
      "Caching...skipping download for 20230215\n",
      "Caching...skipping download for 20230216\n",
      "Caching...skipping download for 20230217\n",
      "Caching...skipping download for 20230218\n",
      "Caching...skipping download for 20230219\n",
      "Caching...skipping download for 20230220\n",
      "Caching...skipping download for 20230221\n",
      "Caching...skipping download for 20230222\n",
      "Caching...skipping download for 20230223\n",
      "Caching...skipping download for 20230224\n",
      "Caching...skipping download for 20230225\n",
      "Caching...skipping download for 20230226\n",
      "Caching...skipping download for 20230227\n",
      "Caching...skipping download for 20230228\n",
      "Caching...skipping download for 20230301\n",
      "Caching...skipping download for 20230302\n",
      "Caching...skipping download for 20230303\n",
      "Caching...skipping download for 20230304\n",
      "Caching...skipping download for 20230305\n",
      "Caching...skipping download for 20230306\n",
      "Caching...skipping download for 20230307\n",
      "Caching...skipping download for 20230308\n",
      "Caching...skipping download for 20230309\n",
      "Caching...skipping download for 20230310\n",
      "Caching...skipping download for 20230311\n",
      "Caching...skipping download for 20230312\n",
      "Caching...skipping download for 20230313\n",
      "Caching...skipping download for 20230314\n",
      "Caching...skipping download for 20230315\n",
      "Caching...skipping download for 20230316\n",
      "Caching...skipping download for 20230317\n",
      "Caching...skipping download for 20230318\n",
      "Caching...skipping download for 20230319\n",
      "Caching...skipping download for 20230320\n",
      "Caching...skipping download for 20230321\n",
      "Caching...skipping download for 20230322\n",
      "Caching...skipping download for 20230323\n",
      "Caching...skipping download for 20230324\n",
      "Caching...skipping download for 20230325\n",
      "Caching...skipping download for 20230326\n",
      "Caching...skipping download for 20230327\n",
      "Caching...skipping download for 20230328\n",
      "Caching...skipping download for 20230329\n",
      "Caching...skipping download for 20230330\n",
      "Caching...skipping download for 20230331\n",
      "Caching...skipping download for 20230401\n",
      "Caching...skipping download for 20230402\n",
      "Caching...skipping download for 20230403\n",
      "Caching...skipping download for 20230404\n",
      "Caching...skipping download for 20230405\n",
      "Caching...skipping download for 20230406\n",
      "Caching...skipping download for 20230407\n",
      "Caching...skipping download for 20230408\n",
      "Caching...skipping download for 20230409\n",
      "Caching...skipping download for 20230410\n",
      "Caching...skipping download for 20230411\n",
      "Caching...skipping download for 20230412\n",
      "Caching...skipping download for 20230413\n",
      "Caching...skipping download for 20230414\n",
      "Caching...skipping download for 20230415\n",
      "Caching...skipping download for 20230416\n",
      "Caching...skipping download for 20230417\n",
      "Caching...skipping download for 20230418\n",
      "Caching...skipping download for 20230419\n",
      "Caching...skipping download for 20230420\n",
      "Caching...skipping download for 20230421\n",
      "failed on 20230422, skipping\n",
      "failed on 20230423, skipping\n",
      "Caching...skipping download for 20230424\n",
      "Caching...skipping download for 20230425\n",
      "Caching...skipping download for 20230426\n",
      "Caching...skipping download for 20230427\n",
      "Caching...skipping download for 20230428\n",
      "Caching...skipping download for 20230429\n",
      "Caching...skipping download for 20230430\n",
      "Caching...skipping download for 20230501\n",
      "Caching...skipping download for 20230502\n",
      "Caching...skipping download for 20230503\n",
      "Caching...skipping download for 20230504\n",
      "Caching...skipping download for 20230505\n",
      "Caching...skipping download for 20230506\n",
      "Caching...skipping download for 20230507\n",
      "Caching...skipping download for 20230508\n",
      "Caching...skipping download for 20230509\n",
      "Caching...skipping download for 20230510\n",
      "Caching...skipping download for 20230511\n",
      "Caching...skipping download for 20230512\n",
      "Caching...skipping download for 20230513\n",
      "Caching...skipping download for 20230514\n",
      "Caching...skipping download for 20230515\n",
      "Caching...skipping download for 20230516\n",
      "Caching...skipping download for 20230517\n"
     ]
    }
   ],
   "source": [
    "sos_ds = utils.download_sos_data(start_date, end_date, VARIABLE_NAMES, sos_download_dir, cache=True, planar_fit=False)"
   ]
  },
  {
   "cell_type": "code",
   "execution_count": 4,
   "metadata": {},
   "outputs": [],
   "source": [
    "example = xr.open_dataset(os.path.join(sos_download_dir, \"isfs_20230513.nc\"))\n",
    "example2 = xr.open_dataset(os.path.join(sos_download_dir, \"isfs_20230511.nc\"))"
   ]
  },
  {
   "attachments": {},
   "cell_type": "markdown",
   "metadata": {},
   "source": [
    "# Add Variables"
   ]
  },
  {
   "cell_type": "code",
   "execution_count": 6,
   "metadata": {},
   "outputs": [
    {
     "name": "stderr",
     "output_type": "stream",
     "text": [
      "/home/elilouis/mambaforge/envs/arm/lib/python3.11/site-packages/xarray/core/computation.py:771: RuntimeWarning: invalid value encountered in log\n",
      "  result_data = func(*input_data)\n",
      "/home/elilouis/mambaforge/envs/arm/lib/python3.11/site-packages/xarray/core/computation.py:771: RuntimeWarning: invalid value encountered in log\n",
      "  result_data = func(*input_data)\n",
      "/home/elilouis/mambaforge/envs/arm/lib/python3.11/site-packages/xarray/core/computation.py:771: RuntimeWarning: invalid value encountered in log\n",
      "  result_data = func(*input_data)\n",
      "/home/elilouis/mambaforge/envs/arm/lib/python3.11/site-packages/xarray/core/computation.py:771: RuntimeWarning: invalid value encountered in log\n",
      "  result_data = func(*input_data)\n"
     ]
    }
   ],
   "source": [
    "sos_ds = variables.add_longwave_radiation(sos_ds)\n",
    "sos_ds = variables.add_surface_temps(sos_ds)\n",
    "sos_ds = variables.add_potential_virtual_temperatures(sos_ds)\n",
    "sos_ds = variables.add_surface_potential_virtual_temperatures(sos_ds)\n",
    "sos_ds = variables.add_tke(sos_ds)\n",
    "sos_ds = variables.add_gradients_and_ri(sos_ds)\n",
    "sos_ds = variables.add_obukhov_length(sos_ds)"
   ]
  },
  {
   "cell_type": "code",
   "execution_count": 7,
   "metadata": {},
   "outputs": [
    {
     "data": {
      "text/plain": [
       "(-10.0, 10.0)"
      ]
     },
     "execution_count": 7,
     "metadata": {},
     "output_type": "execute_result"
    },
    {
     "data": {
      "image/png": "[encoded data removed]",
      "text/plain": [
       "<Figure size 1200x800 with 5 Axes>"
      ]
     },
     "metadata": {},
     "output_type": "display_data"
    }
   ],
   "source": [
    "i = 2\n",
    "fig, axes = plt.subplots(5, 1, figsize=(12,8), sharex=True)\n",
    "\n",
    "(sos_ds[f'Tpotvirtual_{i}m_c']+273.15)\n",
    "\n",
    "(sos_ds[f'Tvirtual_{i}m_c'] + 273.15).plot(ax = axes[0])\n",
    "axes[0].set_ylabel(r'$\\overline{T_v}$')\n",
    "\n",
    "sos_ds[f'u*_{i}m_c'].plot(ax = axes[1])\n",
    "axes[1].set_ylabel(r'$u_*$')\n",
    "\n",
    "sos_ds[f'w_tc__{i}m_c'].plot(ax = axes[2])\n",
    "axes[2].set_ylabel(r'$\\overline{T_v^, w^,}$')\n",
    "\n",
    "sos_ds[f'L_{i}m_c'].plot(ax = axes[3])\n",
    "axes[3].axhline(-500, color='k', linestyle='--')\n",
    "axes[3].axhline(-100, color='k', linestyle='--')\n",
    "axes[3].axhline(0, color='k', linestyle='--')\n",
    "axes[3].axhline(100, color='k', linestyle='--')\n",
    "axes[3].axhline(500, color='k', linestyle='--')\n",
    "axes[3].set_ylim(-750,750)\n",
    "axes[3].set_ylabel(r'$L$')\n",
    "\n",
    "axes[0].set_title(f\"EC at height {i} meters\")\n",
    "\n",
    "sos_ds[f'Ri_3m_c'].plot(ax = axes[4])\n",
    "axes[4].set_ylim(-10,10)"
   ]
  },
  {
   "cell_type": "code",
   "execution_count": 8,
   "metadata": {},
   "outputs": [
    {
     "data": {
      "text/html": [
       "\n",
       "<style>\n",
       "  #altair-viz-2ff44597e79247e1aeb240b27574b799.vega-embed {\n",
       "    width: 100%;\n",
       "    display: flex;\n",
       "  }\n",
       "\n",
       "  #altair-viz-2ff44597e79247e1aeb240b27574b799.vega-embed details,\n",
       "  #altair-viz-2ff44597e79247e1aeb240b27574b799.vega-embed details summary {\n",
       "    position: relative;\n",
       "  }\n",
       "</style>\n",
       "<div id=\"altair-viz-2ff44597e79247e1aeb240b27574b799\"></div>\n",
       "<script type=\"text/javascript\">\n",
       "  var VEGA_DEBUG = (typeof VEGA_DEBUG == \"undefined\") ? {} : VEGA_DEBUG;\n",
       "  (function(spec, embedOpt){\n",
       "    let outputDiv = document.currentScript.previousElementSibling;\n",
       "    if (outputDiv.id !== \"altair-viz-2ff44597e79247e1aeb240b27574b799\") {\n",
       "      outputDiv = document.getElementById(\"altair-viz-2ff44597e79247e1aeb240b27574b799\");\n",
       "    }\n",
       "    const paths = {\n",
       "      \"vega\": \"https://cdn.jsdelivr.net/npm/vega@5?noext\",\n",
       "      \"vega-lib\": \"https://cdn.jsdelivr.net/npm/vega-lib?noext\",\n",
       "      \"vega-lite\": \"https://cdn.jsdelivr.net/npm/vega-lite@5.8.0?noext\",\n",
       "      \"vega-embed\": \"https://cdn.jsdelivr.net/npm/vega-embed@6?noext\",\n",
       "    };\n",
       "\n",
       "    function maybeLoadScript(lib, version) {\n",
       "      var key = `${lib.replace(\"-\", \"\")}_version`;\n",
       "      return (VEGA_DEBUG[key] == version) ?\n",
       "        Promise.resolve(paths[lib]) :\n",
       "        new Promise(function(resolve, reject) {\n",
       "          var s = document.createElement('script');\n",
       "          document.getElementsByTagName(\"head\")[0].appendChild(s);\n",
       "          s.async = true;\n",
       "          s.onload = () => {\n",
       "            VEGA_DEBUG[key] = version;\n",
       "            return resolve(paths[lib]);\n",
       "          };\n",
       "          s.onerror = () => reject(`Error loading script: ${paths[lib]}`);\n",
       "          s.src = paths[lib];\n",
       "        });\n",
       "    }\n",
       "\n",
       "    function showError(err) {\n",
       "      outputDiv.innerHTML = `<div class=\"error\" style=\"color:red;\">${err}</div>`;\n",
       "      throw err;\n",
       "    }\n",
       "\n",
       "    function displayChart(vegaEmbed) {\n",
       "      vegaEmbed(outputDiv, spec, embedOpt)\n",
       "        .catch(err => showError(`Javascript Error: ${err.message}<br>This usually means there's a typo in your chart specification. See the javascript console for the full traceback.`));\n",
       "    }\n",
       "\n",
       "    if(typeof define === \"function\" && define.amd) {\n",
       "      requirejs.config({paths});\n",
       "      require([\"vega-embed\"], displayChart, err => showError(`Error loading script: ${err.message}`));\n",
       "    } else {\n",
       "      maybeLoadScript(\"vega\", \"5\")\n",
       "        .then(() => maybeLoadScript(\"vega-lite\", \"5.8.0\"))\n",
       "        .then(() => maybeLoadScript(\"vega-embed\", \"6\"))\n",
       "        .catch(showError)\n",
       "        .then(() => displayChart(vegaEmbed));\n",
       "    }\n",
       "  })({\"config\": {\"view\": {\"continuousWidth\": 300, \"continuousHeight\": 300}}, \"vconcat\": [{\"data\": {\"url\": \"altair-data-f48b952641740f1305e1800710b215f5.json\", \"format\": {\"type\": \"json\"}}, \"mark\": {\"type\": \"line\", \"strokeWidth\": 2}, \"encoding\": {\"color\": {\"field\": \"key\", \"title\": \"Measurement\", \"type\": \"nominal\"}, \"x\": {\"field\": \"time\", \"type\": \"temporal\"}, \"y\": {\"field\": \"value\", \"scale\": {\"zero\": false}, \"title\": \"Surface temperature (\\u02daC)\", \"type\": \"quantitative\"}}, \"height\": 400, \"transform\": [{\"fold\": [\"Tsurf_c\", \"Tsurfplanck_c\", \"Tsurf_d\", \"Tsurfplanck_d\", \"Tsurf_rad_d\"]}], \"width\": 800}, {\"data\": {\"url\": \"altair-data-59a2b8be114e237386bb35473592d0c7.json\", \"format\": {\"type\": \"json\"}}, \"mark\": {\"type\": \"line\", \"strokeWidth\": 2}, \"encoding\": {\"color\": {\"field\": \"key\", \"title\": \"Measurement\", \"type\": \"nominal\"}, \"x\": {\"field\": \"time\", \"type\": \"temporal\"}, \"y\": {\"field\": \"value\", \"scale\": {\"zero\": false}, \"title\": \"Surface temperature (\\u02daC)\", \"type\": \"quantitative\"}}, \"height\": 400, \"transform\": [{\"fold\": [\"Tsurf_c\", \"Tsurfplanck_c\", \"Tsurf_d\", \"Tsurfplanck_d\", \"Tsurf_rad_d\"]}], \"width\": 800}], \"$schema\": \"https://vega.github.io/schema/vega-lite/v5.8.0.json\"}, {\"renderer\": \"svg\", \"mode\": \"vega-lite\"});\n",
       "</script>"
      ],
      "text/plain": [
       "alt.VConcatChart(...)"
      ]
     },
     "metadata": {},
     "output_type": "display_data"
    }
   ],
   "source": [
    "src = sos_ds[\n",
    "    ['Tsurf_c', 'Tsurfplanck_c', 'Tsurf_d', 'Tsurfplanck_d', 'Tsurf_rad_d']\n",
    "].to_dataframe().loc[\"2023-02-01\": \"2023-02-07\"].reset_index()\n",
    "src = src.set_index(\"time\").groupby(pd.Grouper(freq='30Min')).mean().reset_index()\n",
    "(\n",
    "alt.Chart(\n",
    "    src\n",
    ").mark_line(strokeWidth=2).transform_fold(\n",
    "    ['Tsurf_c', 'Tsurfplanck_c', 'Tsurf_d', 'Tsurfplanck_d', 'Tsurf_rad_d']\n",
    ").encode(\n",
    "    alt.X(\"time:T\"),\n",
    "    alt.Y(\"value:Q\").title(\"Surface temperature (˚C)\").scale(zero=False),\n",
    "    alt.Color(\"key:N\").title(\"Measurement\")\n",
    ").properties(width=800, height = 400) & \\\n",
    "alt.Chart(\n",
    "    src.set_index('time').loc[\"2023-02-03 0200\": \"2023-02-03 1400\"].reset_index()\n",
    ").mark_line(strokeWidth=2).transform_fold(\n",
    "    ['Tsurf_c', 'Tsurfplanck_c', 'Tsurf_d', 'Tsurfplanck_d', 'Tsurf_rad_d']\n",
    ").encode(\n",
    "    alt.X(\"time:T\"),\n",
    "    alt.Y(\"value:Q\").title(\"Surface temperature (˚C)\").scale(zero=False),\n",
    "    alt.Color(\"key:N\").title(\"Measurement\")\n",
    ").properties(width=800, height = 400)).display(renderer='svg') "
   ]
  },
  {
   "cell_type": "code",
   "execution_count": 9,
   "metadata": {},
   "outputs": [
    {
     "data": {
      "text/plain": [
       "(0.2870425, 0.28856778)"
      ]
     },
     "execution_count": 9,
     "metadata": {},
     "output_type": "execute_result"
    }
   ],
   "source": [
    "(src['Tsurf_c'] - src['Tsurfplanck_c']).mean(), (src['Tsurf_d'] - src['Tsurfplanck_d']).mean()"
   ]
  },
  {
   "attachments": {},
   "cell_type": "markdown",
   "metadata": {},
   "source": [
    "# Get Tidy Dataset"
   ]
  },
  {
   "cell_type": "code",
   "execution_count": 10,
   "metadata": {},
   "outputs": [],
   "source": [
    "tidy_df = tidy.get_tidy_dataset(sos_ds, list(sos_ds.data_vars))"
   ]
  },
  {
   "cell_type": "code",
   "execution_count": 11,
   "metadata": {},
   "outputs": [],
   "source": [
    "tidy_df = utils.modify_df_timezone(tidy_df, pytz.UTC, pytz.timezone('US/Mountain'))"
   ]
  },
  {
   "attachments": {},
   "cell_type": "markdown",
   "metadata": {},
   "source": [
    "Which variables did not get a \"measurement\" name assigned?"
   ]
  },
  {
   "cell_type": "code",
   "execution_count": 12,
   "metadata": {},
   "outputs": [
    {
     "data": {
      "text/plain": [
       "array(['Tcase_out_9m_d', 'Tcase_in_9m_d', 'Rpile_in_9m_d',\n",
       "       'Rpile_out_9m_d'], dtype=object)"
      ]
     },
     "execution_count": 12,
     "metadata": {},
     "output_type": "execute_result"
    }
   ],
   "source": [
    "variables_with_no_measurement = tidy_df[tidy_df.measurement.apply(lambda x: x is None)].variable.unique()\n",
    "variables_with_no_measurement"
   ]
  },
  {
   "cell_type": "markdown",
   "metadata": {},
   "source": [
    "# Calculate additional new variables"
   ]
  },
  {
   "cell_type": "markdown",
   "metadata": {},
   "source": [
    "## Net LW and Net SW"
   ]
  },
  {
   "cell_type": "code",
   "execution_count": 13,
   "metadata": {},
   "outputs": [],
   "source": [
    "## Add Net LW variable\n",
    "net_lw_radiation_values = (\n",
    "        tidy_df.query(\"variable == 'Rlw_in_9m_d'\")['value'].values\n",
    "        -\n",
    "        tidy_df.query(\"variable == 'Rlw_out_9m_d'\")['value'].values\n",
    "    )\n",
    "tidy_df = tidy.tidy_df_add_variable(\n",
    "    tidy_df,\n",
    "    net_lw_radiation_values,\n",
    "    'Rlw_net_9m_d',\n",
    "    'longwave net radiation',\n",
    "    9,\n",
    "    'd'\n",
    ")\n",
    "\n",
    "## Add Net SW variable\n",
    "net_sw_radiation_values = (\n",
    "        tidy_df.query(\"variable == 'Rsw_in_9m_d'\")['value'].values\n",
    "        -\n",
    "        tidy_df.query(\"variable == 'Rsw_out_9m_d'\")['value'].values\n",
    "    )\n",
    "tidy_df = tidy.tidy_df_add_variable(\n",
    "    tidy_df,\n",
    "    net_sw_radiation_values,\n",
    "    'Rsw_net_9m_d',\n",
    "    'shortwave net radiation',\n",
    "    9,\n",
    "    'd'\n",
    ")"
   ]
  },
  {
   "cell_type": "markdown",
   "metadata": {},
   "source": [
    "## Net Radiation"
   ]
  },
  {
   "cell_type": "code",
   "execution_count": 14,
   "metadata": {},
   "outputs": [],
   "source": [
    "## Add Net Rad variable\n",
    "net_radiation_values = (\n",
    "    (\n",
    "        tidy_df.query(\"variable == 'Rsw_in_9m_d'\")['value'].values\n",
    "        +\n",
    "        tidy_df.query(\"variable == 'Rlw_in_9m_d'\")['value'].values\n",
    "    ) - (\n",
    "        tidy_df.query(\"variable == 'Rsw_out_9m_d'\")['value'].values\n",
    "        +\n",
    "        tidy_df.query(\"variable == 'Rlw_out_9m_d'\")['value'].values\n",
    "    )\n",
    ")\n",
    "tidy_df = tidy.tidy_df_add_variable(\n",
    "    tidy_df,\n",
    "    net_radiation_values,\n",
    "    'Rnet_9m_d',\n",
    "    'net radiation',\n",
    "    9,\n",
    "    'd'\n",
    ")"
   ]
  },
  {
   "cell_type": "markdown",
   "metadata": {},
   "source": [
    "## Specific humidity"
   ]
  },
  {
   "cell_type": "code",
   "execution_count": 15,
   "metadata": {},
   "outputs": [],
   "source": [
    "from metpy.calc import specific_humidity_from_mixing_ratio\n",
    "from metpy.units import units\n",
    "import xarray as xr\n",
    "import pint_xarray\n",
    "\n",
    "for v in [\n",
    "    'Tsurfmixingratio_c',\n",
    "    'mixingratio_2m_c',\n",
    "    'mixingratio_3m_c',\n",
    "    'mixingratio_4m_c',\n",
    "    'mixingratio_5m_c',\n",
    "    'mixingratio_6m_c',\n",
    "    'mixingratio_7m_c',\n",
    "    'mixingratio_8m_c',\n",
    "    'mixingratio_9m_c',\n",
    "    'mixingratio_10m_c',\n",
    "    'mixingratio_11m_c',\n",
    "    'mixingratio_12m_c',\n",
    "    'mixingratio_13m_c',\n",
    "    'mixingratio_14m_c',\n",
    "    'mixingratio_15m_c',\n",
    "    'mixingratio_16m_c',\n",
    "    'mixingratio_17m_c',\n",
    "    'mixingratio_18m_c',\n",
    "    'mixingratio_19m_c',\n",
    "    'mixingratio_20m_c',\n",
    "]:\n",
    "    data = tidy_df[tidy_df.variable == v]\n",
    "    specific_humidity_values = specific_humidity_from_mixing_ratio(\n",
    "        xr.DataArray(data.value.values)*units('g/g')\n",
    "    ).values\n",
    "    tidy_df = tidy.tidy_df_add_variable(\n",
    "        tidy_df,\n",
    "        specific_humidity_values,\n",
    "        v.replace('mixingratio', 'specifichumidity'),\n",
    "        'specific humidity',\n",
    "        data.height.iloc[0],\n",
    "        data.tower.iloc[0]\n",
    "    )"
   ]
  },
  {
   "cell_type": "markdown",
   "metadata": {},
   "source": [
    "## Mixing ratio gradient"
   ]
  },
  {
   "cell_type": "code",
   "execution_count": 16,
   "metadata": {},
   "outputs": [],
   "source": [
    "new_variable = (\n",
    "    tidy_df.query(\"variable == 'mixingratio_3m_c'\").value.values\n",
    "    - tidy_df.query(\"variable == 'Tsurfmixingratio_c'\").value.values\n",
    ") / 3\n",
    "\n",
    "tidy_df = tidy.tidy_df_add_variable(\n",
    "    tidy_df,\n",
    "    new_variable,\n",
    "    \"q_gradient_3m_c\",\n",
    "    \"mixing ratio gradient\",\n",
    "    3,\n",
    "    'c'\n",
    ")"
   ]
  },
  {
   "cell_type": "markdown",
   "metadata": {},
   "source": [
    "## Rotated momentum flux variables"
   ]
  },
  {
   "cell_type": "code",
   "execution_count": 17,
   "metadata": {},
   "outputs": [],
   "source": [
    "tidy_df = tidy.tidy_df_add_variable(\n",
    "    tidy_df,\n",
    "    (\n",
    "        tidy_df.query(\"variable == 'u_w__3m_c'\")['value'].values**2 \n",
    "        + tidy_df.query(\"variable == 'v_w__3m_c'\")['value'].values**2\n",
    "    ),\n",
    "    'u_w_rot__3m_c',\n",
    "    'u_w_rot__',\n",
    "    3,\n",
    "    'c'\n",
    ")\n",
    "\n",
    "tidy_df = tidy.tidy_df_add_variable(\n",
    "    tidy_df,\n",
    "    (\n",
    "        tidy_df.query(\"variable == 'u_w__10m_c'\")['value'].values**2 \n",
    "        + tidy_df.query(\"variable == 'v_w__10m_c'\")['value'].values**2\n",
    "    ),\n",
    "    'u_w_rot__10m_c',\n",
    "    'u_w_rot__',\n",
    "    10,\n",
    "    'c'\n",
    ")\n",
    "\n",
    "tidy_df = tidy.tidy_df_add_variable(\n",
    "    tidy_df,\n",
    "    (\n",
    "        tidy_df.query(\"variable == 'u_w__20m_c'\")['value'].values**2 \n",
    "        + tidy_df.query(\"variable == 'v_w__20m_c'\")['value'].values**2\n",
    "    ),\n",
    "    'u_w_rot__20m_c',\n",
    "    'u_w_rot__',\n",
    "    20,\n",
    "    'c'\n",
    ")\n"
   ]
  },
  {
   "cell_type": "markdown",
   "metadata": {},
   "source": [
    "# Add Snow Depth and \"True Height\" variables"
   ]
  },
  {
   "cell_type": "markdown",
   "metadata": {},
   "source": [
    "Open snow depth data"
   ]
  },
  {
   "cell_type": "code",
   "execution_count": 18,
   "metadata": {},
   "outputs": [
    {
     "data": {
      "text/plain": [
       "[<matplotlib.lines.Line2D at 0x7f498d7dde90>]"
      ]
     },
     "execution_count": 18,
     "metadata": {},
     "output_type": "execute_result"
    },
    {
     "data": {
      "image/png": "[encoded data removed]",
      "text/plain": [
       "<Figure size 640x480 with 1 Axes>"
      ]
     },
     "metadata": {},
     "output_type": "display_data"
    }
   ],
   "source": [
    "lidar_snowdepth_da = xr.open_dataset(\"/data2/elilouis/sublimationofsnow/lidar_snow_depth/D_from_D_l6.nc\").resample(time = \"1440Min\").mean()['surface']\n",
    "lidar_snowdepth_da = lidar_snowdepth_da.interpolate_na('time')\n",
    "lidar_snowdepth_da = lidar_snowdepth_da.where(lidar_snowdepth_da > 0, 0)\n",
    "lidar_snowdepth_upsample_da = lidar_snowdepth_da.resample(time = '5Min', ).pad()\n",
    "lidar_snowdepth_upsample_da = lidar_snowdepth_upsample_da.assign_coords(time = pd.to_datetime(lidar_snowdepth_upsample_da.time) + dt.timedelta(minutes=2.5))\n",
    "\n",
    "lidar_snowdepth_da.plot()\n",
    "lidar_snowdepth_upsample_da.plot()"
   ]
  },
  {
   "cell_type": "code",
   "execution_count": 19,
   "metadata": {},
   "outputs": [
    {
     "data": {
      "text/html": [
       "<div>\n",
       "<style scoped>\n",
       "    .dataframe tbody tr th:only-of-type {\n",
       "        vertical-align: middle;\n",
       "    }\n",
       "\n",
       "    .dataframe tbody tr th {\n",
       "        vertical-align: top;\n",
       "    }\n",
       "\n",
       "    .dataframe thead th {\n",
       "        text-align: right;\n",
       "    }\n",
       "</style>\n",
       "<table border=\"1\" class=\"dataframe\">\n",
       "  <thead>\n",
       "    <tr style=\"text-align: right;\">\n",
       "      <th></th>\n",
       "      <th>time</th>\n",
       "      <th>surface</th>\n",
       "    </tr>\n",
       "  </thead>\n",
       "  <tbody>\n",
       "    <tr>\n",
       "      <th>0</th>\n",
       "      <td>2022-11-29 17:02:30</td>\n",
       "      <td>0.334301</td>\n",
       "    </tr>\n",
       "    <tr>\n",
       "      <th>1</th>\n",
       "      <td>2022-11-29 17:07:30</td>\n",
       "      <td>0.334301</td>\n",
       "    </tr>\n",
       "    <tr>\n",
       "      <th>2</th>\n",
       "      <td>2022-11-29 17:12:30</td>\n",
       "      <td>0.334301</td>\n",
       "    </tr>\n",
       "    <tr>\n",
       "      <th>3</th>\n",
       "      <td>2022-11-29 17:17:30</td>\n",
       "      <td>0.334301</td>\n",
       "    </tr>\n",
       "    <tr>\n",
       "      <th>4</th>\n",
       "      <td>2022-11-29 17:22:30</td>\n",
       "      <td>0.334301</td>\n",
       "    </tr>\n",
       "    <tr>\n",
       "      <th>...</th>\n",
       "      <td>...</td>\n",
       "      <td>...</td>\n",
       "    </tr>\n",
       "    <tr>\n",
       "      <th>48679</th>\n",
       "      <td>2023-05-17 17:37:30</td>\n",
       "      <td>0.000000</td>\n",
       "    </tr>\n",
       "    <tr>\n",
       "      <th>48680</th>\n",
       "      <td>2023-05-17 17:42:30</td>\n",
       "      <td>0.000000</td>\n",
       "    </tr>\n",
       "    <tr>\n",
       "      <th>48681</th>\n",
       "      <td>2023-05-17 17:47:30</td>\n",
       "      <td>0.000000</td>\n",
       "    </tr>\n",
       "    <tr>\n",
       "      <th>48682</th>\n",
       "      <td>2023-05-17 17:52:30</td>\n",
       "      <td>0.000000</td>\n",
       "    </tr>\n",
       "    <tr>\n",
       "      <th>48683</th>\n",
       "      <td>2023-05-17 17:57:30</td>\n",
       "      <td>0.000000</td>\n",
       "    </tr>\n",
       "  </tbody>\n",
       "</table>\n",
       "<p>48672 rows × 2 columns</p>\n",
       "</div>"
      ],
      "text/plain": [
       "                     time   surface\n",
       "0     2022-11-29 17:02:30  0.334301\n",
       "1     2022-11-29 17:07:30  0.334301\n",
       "2     2022-11-29 17:12:30  0.334301\n",
       "3     2022-11-29 17:17:30  0.334301\n",
       "4     2022-11-29 17:22:30  0.334301\n",
       "...                   ...       ...\n",
       "48679 2023-05-17 17:37:30  0.000000\n",
       "48680 2023-05-17 17:42:30  0.000000\n",
       "48681 2023-05-17 17:47:30  0.000000\n",
       "48682 2023-05-17 17:52:30  0.000000\n",
       "48683 2023-05-17 17:57:30  0.000000\n",
       "\n",
       "[48672 rows x 2 columns]"
      ]
     },
     "execution_count": 19,
     "metadata": {},
     "output_type": "execute_result"
    }
   ],
   "source": [
    "snowdepth_df = lidar_snowdepth_upsample_da.loc[\n",
    "    tidy_df.time.min():tidy_df.time.max()\n",
    "].to_dataframe()\n",
    "\n",
    "\n",
    "# Option 2: Add as a variable\n",
    "snowdepth_df = snowdepth_df.reset_index()\n",
    "snowdepth_df = snowdepth_df[snowdepth_df.time.isin(tidy_df.time.unique())]\n",
    "snowdepth_df"
   ]
  },
  {
   "cell_type": "code",
   "execution_count": 20,
   "metadata": {},
   "outputs": [
    {
     "data": {
      "text/plain": [
       "48672"
      ]
     },
     "execution_count": 20,
     "metadata": {},
     "output_type": "execute_result"
    }
   ],
   "source": [
    "len(tidy_df.time.unique())"
   ]
  },
  {
   "cell_type": "code",
   "execution_count": 21,
   "metadata": {},
   "outputs": [],
   "source": [
    "tidy_df = tidy.tidy_df_add_variable(\n",
    "    tidy_df,\n",
    "    snowdepth_df.surface.values,\n",
    "    'SnowDepth_d',\n",
    "    'snow depth',\n",
    "    10,\n",
    "    'd'\n",
    ")\n"
   ]
  },
  {
   "attachments": {},
   "cell_type": "markdown",
   "metadata": {},
   "source": [
    "# Calculate 30 Minute averages"
   ]
  },
  {
   "cell_type": "code",
   "execution_count": 22,
   "metadata": {},
   "outputs": [],
   "source": [
    "tidy_df_30Min = pd.DataFrame(\n",
    "    tidy_df.set_index('time').groupby(\n",
    "        ['measurement', 'variable', 'height',  'tower']\n",
    "    )['value'].resample('30Min').mean()\n",
    ").reset_index()"
   ]
  },
  {
   "cell_type": "markdown",
   "metadata": {},
   "source": [
    "# Calculate Penman-Monteith and Priestley-Taylor estimates of sublimation"
   ]
  },
  {
   "cell_type": "code",
   "execution_count": 382,
   "metadata": {},
   "outputs": [],
   "source": [
    "import pyet \n",
    "from metpy.units import units\n",
    "import pint_pandas"
   ]
  },
  {
   "cell_type": "markdown",
   "metadata": {},
   "source": [
    "## Using PyET"
   ]
  },
  {
   "cell_type": "markdown",
   "metadata": {},
   "source": [
    "### Gather the data we need and make required conversions"
   ]
  },
  {
   "cell_type": "code",
   "execution_count": 406,
   "metadata": {},
   "outputs": [
    {
     "data": {
      "text/html": [
       "<div>\n",
       "<style scoped>\n",
       "    .dataframe tbody tr th:only-of-type {\n",
       "        vertical-align: middle;\n",
       "    }\n",
       "\n",
       "    .dataframe tbody tr th {\n",
       "        vertical-align: top;\n",
       "    }\n",
       "\n",
       "    .dataframe thead th {\n",
       "        text-align: right;\n",
       "    }\n",
       "</style>\n",
       "<table border=\"1\" class=\"dataframe\">\n",
       "  <thead>\n",
       "    <tr style=\"text-align: right;\">\n",
       "      <th></th>\n",
       "      <th>T_3m_c_mean</th>\n",
       "      <th>T_3m_c_min</th>\n",
       "      <th>T_3m_c_max</th>\n",
       "      <th>spd_3m_c_mean</th>\n",
       "      <th>RH_3m_c_mean</th>\n",
       "      <th>RH_3m_c_min</th>\n",
       "      <th>RH_3m_c_max</th>\n",
       "      <th>Rnet_9m_d_mean</th>\n",
       "      <th>Rsw_in_9m_d_mean</th>\n",
       "      <th>vaporpressure_3m_c_mean</th>\n",
       "      <th>P_10m_c_mean</th>\n",
       "      <th>elevation</th>\n",
       "    </tr>\n",
       "    <tr>\n",
       "      <th>time</th>\n",
       "      <th></th>\n",
       "      <th></th>\n",
       "      <th></th>\n",
       "      <th></th>\n",
       "      <th></th>\n",
       "      <th></th>\n",
       "      <th></th>\n",
       "      <th></th>\n",
       "      <th></th>\n",
       "      <th></th>\n",
       "      <th></th>\n",
       "      <th></th>\n",
       "    </tr>\n",
       "  </thead>\n",
       "  <tbody>\n",
       "    <tr>\n",
       "      <th>2022-11-29 17:00:00</th>\n",
       "      <td>-12.797492</td>\n",
       "      <td>-13.113847</td>\n",
       "      <td>-12.469777</td>\n",
       "      <td>3.323426</td>\n",
       "      <td>65.300786</td>\n",
       "      <td>58.585175</td>\n",
       "      <td>70.529083</td>\n",
       "      <td>-4.965172</td>\n",
       "      <td>-0.352467</td>\n",
       "      <td>149.831121</td>\n",
       "      <td>713.159607</td>\n",
       "      <td>2863</td>\n",
       "    </tr>\n",
       "    <tr>\n",
       "      <th>2022-11-29 17:30:00</th>\n",
       "      <td>-13.050861</td>\n",
       "      <td>-13.396750</td>\n",
       "      <td>-12.794490</td>\n",
       "      <td>4.556745</td>\n",
       "      <td>50.735089</td>\n",
       "      <td>47.638996</td>\n",
       "      <td>57.609478</td>\n",
       "      <td>-6.844837</td>\n",
       "      <td>-0.382727</td>\n",
       "      <td>114.146005</td>\n",
       "      <td>713.428101</td>\n",
       "      <td>2863</td>\n",
       "    </tr>\n",
       "    <tr>\n",
       "      <th>2022-11-29 18:00:00</th>\n",
       "      <td>-13.382802</td>\n",
       "      <td>-13.790894</td>\n",
       "      <td>-12.837063</td>\n",
       "      <td>3.731591</td>\n",
       "      <td>50.324087</td>\n",
       "      <td>46.751404</td>\n",
       "      <td>53.483006</td>\n",
       "      <td>-6.385244</td>\n",
       "      <td>-0.371056</td>\n",
       "      <td>110.160828</td>\n",
       "      <td>714.011922</td>\n",
       "      <td>2863</td>\n",
       "    </tr>\n",
       "    <tr>\n",
       "      <th>2022-11-29 18:30:00</th>\n",
       "      <td>-14.988197</td>\n",
       "      <td>-16.231266</td>\n",
       "      <td>-13.597954</td>\n",
       "      <td>1.838974</td>\n",
       "      <td>61.213638</td>\n",
       "      <td>53.338619</td>\n",
       "      <td>71.663116</td>\n",
       "      <td>-5.593020</td>\n",
       "      <td>-0.589699</td>\n",
       "      <td>117.003273</td>\n",
       "      <td>714.681264</td>\n",
       "      <td>2863</td>\n",
       "    </tr>\n",
       "    <tr>\n",
       "      <th>2022-11-29 19:00:00</th>\n",
       "      <td>-16.329076</td>\n",
       "      <td>-16.716507</td>\n",
       "      <td>-15.913083</td>\n",
       "      <td>1.354227</td>\n",
       "      <td>70.831669</td>\n",
       "      <td>68.301453</td>\n",
       "      <td>72.228645</td>\n",
       "      <td>-4.858094</td>\n",
       "      <td>-0.615169</td>\n",
       "      <td>121.651889</td>\n",
       "      <td>715.163198</td>\n",
       "      <td>2863</td>\n",
       "    </tr>\n",
       "    <tr>\n",
       "      <th>...</th>\n",
       "      <td>...</td>\n",
       "      <td>...</td>\n",
       "      <td>...</td>\n",
       "      <td>...</td>\n",
       "      <td>...</td>\n",
       "      <td>...</td>\n",
       "      <td>...</td>\n",
       "      <td>...</td>\n",
       "      <td>...</td>\n",
       "      <td>...</td>\n",
       "      <td>...</td>\n",
       "      <td>...</td>\n",
       "    </tr>\n",
       "    <tr>\n",
       "      <th>2023-05-17 15:30:00</th>\n",
       "      <td>13.910910</td>\n",
       "      <td>13.751372</td>\n",
       "      <td>14.084917</td>\n",
       "      <td>4.693956</td>\n",
       "      <td>30.443745</td>\n",
       "      <td>29.549730</td>\n",
       "      <td>31.339897</td>\n",
       "      <td>NaN</td>\n",
       "      <td>NaN</td>\n",
       "      <td>490.998906</td>\n",
       "      <td>721.209920</td>\n",
       "      <td>2863</td>\n",
       "    </tr>\n",
       "    <tr>\n",
       "      <th>2023-05-17 16:00:00</th>\n",
       "      <td>13.517461</td>\n",
       "      <td>13.063477</td>\n",
       "      <td>13.964637</td>\n",
       "      <td>4.374811</td>\n",
       "      <td>33.170502</td>\n",
       "      <td>31.718903</td>\n",
       "      <td>34.130718</td>\n",
       "      <td>NaN</td>\n",
       "      <td>NaN</td>\n",
       "      <td>520.879252</td>\n",
       "      <td>721.091563</td>\n",
       "      <td>2863</td>\n",
       "    </tr>\n",
       "    <tr>\n",
       "      <th>2023-05-17 16:30:00</th>\n",
       "      <td>13.357073</td>\n",
       "      <td>13.186260</td>\n",
       "      <td>13.732280</td>\n",
       "      <td>4.092707</td>\n",
       "      <td>32.588952</td>\n",
       "      <td>30.634781</td>\n",
       "      <td>33.968578</td>\n",
       "      <td>NaN</td>\n",
       "      <td>NaN</td>\n",
       "      <td>506.344874</td>\n",
       "      <td>720.957581</td>\n",
       "      <td>2863</td>\n",
       "    </tr>\n",
       "    <tr>\n",
       "      <th>2023-05-17 17:00:00</th>\n",
       "      <td>12.992717</td>\n",
       "      <td>12.196274</td>\n",
       "      <td>13.566704</td>\n",
       "      <td>4.707404</td>\n",
       "      <td>33.913057</td>\n",
       "      <td>31.290730</td>\n",
       "      <td>37.282021</td>\n",
       "      <td>NaN</td>\n",
       "      <td>NaN</td>\n",
       "      <td>513.877747</td>\n",
       "      <td>720.851725</td>\n",
       "      <td>2863</td>\n",
       "    </tr>\n",
       "    <tr>\n",
       "      <th>2023-05-17 17:30:00</th>\n",
       "      <td>12.237800</td>\n",
       "      <td>11.638190</td>\n",
       "      <td>12.705098</td>\n",
       "      <td>6.729933</td>\n",
       "      <td>39.023379</td>\n",
       "      <td>37.277603</td>\n",
       "      <td>41.645123</td>\n",
       "      <td>NaN</td>\n",
       "      <td>NaN</td>\n",
       "      <td>561.876180</td>\n",
       "      <td>720.816121</td>\n",
       "      <td>2863</td>\n",
       "    </tr>\n",
       "  </tbody>\n",
       "</table>\n",
       "<p>8114 rows × 12 columns</p>\n",
       "</div>"
      ],
      "text/plain": [
       "                     T_3m_c_mean  T_3m_c_min  T_3m_c_max  spd_3m_c_mean  \\\n",
       "time                                                                      \n",
       "2022-11-29 17:00:00   -12.797492  -13.113847  -12.469777       3.323426   \n",
       "2022-11-29 17:30:00   -13.050861  -13.396750  -12.794490       4.556745   \n",
       "2022-11-29 18:00:00   -13.382802  -13.790894  -12.837063       3.731591   \n",
       "2022-11-29 18:30:00   -14.988197  -16.231266  -13.597954       1.838974   \n",
       "2022-11-29 19:00:00   -16.329076  -16.716507  -15.913083       1.354227   \n",
       "...                          ...         ...         ...            ...   \n",
       "2023-05-17 15:30:00    13.910910   13.751372   14.084917       4.693956   \n",
       "2023-05-17 16:00:00    13.517461   13.063477   13.964637       4.374811   \n",
       "2023-05-17 16:30:00    13.357073   13.186260   13.732280       4.092707   \n",
       "2023-05-17 17:00:00    12.992717   12.196274   13.566704       4.707404   \n",
       "2023-05-17 17:30:00    12.237800   11.638190   12.705098       6.729933   \n",
       "\n",
       "                     RH_3m_c_mean  RH_3m_c_min  RH_3m_c_max  Rnet_9m_d_mean  \\\n",
       "time                                                                          \n",
       "2022-11-29 17:00:00     65.300786    58.585175    70.529083       -4.965172   \n",
       "2022-11-29 17:30:00     50.735089    47.638996    57.609478       -6.844837   \n",
       "2022-11-29 18:00:00     50.324087    46.751404    53.483006       -6.385244   \n",
       "2022-11-29 18:30:00     61.213638    53.338619    71.663116       -5.593020   \n",
       "2022-11-29 19:00:00     70.831669    68.301453    72.228645       -4.858094   \n",
       "...                           ...          ...          ...             ...   \n",
       "2023-05-17 15:30:00     30.443745    29.549730    31.339897             NaN   \n",
       "2023-05-17 16:00:00     33.170502    31.718903    34.130718             NaN   \n",
       "2023-05-17 16:30:00     32.588952    30.634781    33.968578             NaN   \n",
       "2023-05-17 17:00:00     33.913057    31.290730    37.282021             NaN   \n",
       "2023-05-17 17:30:00     39.023379    37.277603    41.645123             NaN   \n",
       "\n",
       "                     Rsw_in_9m_d_mean  vaporpressure_3m_c_mean  P_10m_c_mean  \\\n",
       "time                                                                           \n",
       "2022-11-29 17:00:00         -0.352467               149.831121    713.159607   \n",
       "2022-11-29 17:30:00         -0.382727               114.146005    713.428101   \n",
       "2022-11-29 18:00:00         -0.371056               110.160828    714.011922   \n",
       "2022-11-29 18:30:00         -0.589699               117.003273    714.681264   \n",
       "2022-11-29 19:00:00         -0.615169               121.651889    715.163198   \n",
       "...                               ...                      ...           ...   \n",
       "2023-05-17 15:30:00               NaN               490.998906    721.209920   \n",
       "2023-05-17 16:00:00               NaN               520.879252    721.091563   \n",
       "2023-05-17 16:30:00               NaN               506.344874    720.957581   \n",
       "2023-05-17 17:00:00               NaN               513.877747    720.851725   \n",
       "2023-05-17 17:30:00               NaN               561.876180    720.816121   \n",
       "\n",
       "                     elevation  \n",
       "time                            \n",
       "2022-11-29 17:00:00       2863  \n",
       "2022-11-29 17:30:00       2863  \n",
       "2022-11-29 18:00:00       2863  \n",
       "2022-11-29 18:30:00       2863  \n",
       "2022-11-29 19:00:00       2863  \n",
       "...                        ...  \n",
       "2023-05-17 15:30:00       2863  \n",
       "2023-05-17 16:00:00       2863  \n",
       "2023-05-17 16:30:00       2863  \n",
       "2023-05-17 17:00:00       2863  \n",
       "2023-05-17 17:30:00       2863  \n",
       "\n",
       "[8114 rows x 12 columns]"
      ]
     },
     "execution_count": 406,
     "metadata": {},
     "output_type": "execute_result"
    }
   ],
   "source": [
    "elev = 2863# from google earth\n",
    "\n",
    "# Gather all variables we need\n",
    "pyet_src = tidy_df[tidy_df.variable.isin([\n",
    "    'T_3m_c',\n",
    "    'spd_3m_c',\n",
    "    'RH_3m_c',\n",
    "    'Rnet_9m_d',\n",
    "    'Rsw_in_9m_d',\n",
    "    'T_3m_c',\n",
    "    'vaporpressure_3m_c',\n",
    "    'P_10m_c',\n",
    "])].pivot_table(\n",
    "    index=['time'],\n",
    "    values='value',\n",
    "    columns='variable'\n",
    "# Calculate means across 30min periods, mins and maxes for the required variables too\n",
    ").reset_index().set_index('time').groupby(pd.Grouper(freq='30Min')).agg({\n",
    "    'T_3m_c': ['mean', 'min', 'max'],\n",
    "    'spd_3m_c': 'mean',\n",
    "    'RH_3m_c': ['mean', 'min', 'max'],\n",
    "    'Rnet_9m_d': 'mean',\n",
    "    'Rsw_in_9m_d': 'mean',\n",
    "    'vaporpressure_3m_c': 'mean',\n",
    "    'P_10m_c': 'mean',\n",
    "})\n",
    "# Remove the resulting hierarchical index\n",
    "pyet_src.columns = ['_'.join(col).strip() for col in pyet_src.columns.values]\n",
    "# Drop nans\n",
    "# pyet_src = pyet_src.dropna()\n",
    "\n",
    "# # # Convert W/m^2 to MJ/m^2/d\n",
    "pyet_src['Rnet_9m_d_mean'] = pd.Series(pyet_src['Rnet_9m_d_mean'].values, dtype=\"pint[W/m^2]\").pint.to('MJ/m^2/d').pint.magnitude.values\n",
    "pyet_src['Rsw_in_9m_d_mean'] = pd.Series(pyet_src['Rsw_in_9m_d_mean'].values, dtype=\"pint[W/m^2]\").pint.to('MJ/m^2/d').pint.magnitude.values\n",
    "pyet_src['elevation'] = elev\n",
    "pyet_src"
   ]
  },
  {
   "cell_type": "markdown",
   "metadata": {},
   "source": [
    "### Do calculations"
   ]
  },
  {
   "cell_type": "code",
   "execution_count": 407,
   "metadata": {},
   "outputs": [],
   "source": [
    "# Both functions return units mm/day\n",
    "sublimation_pm = pyet.pm(\n",
    "        tmean = pyet_src['T_3m_c_mean'],\n",
    "        wind = pyet_src['spd_3m_c_mean'],\n",
    "        rn = pyet_src['Rnet_9m_d_mean'],\n",
    "        pressure = pyet_src['P_10m_c_mean']/10,\n",
    "        r_s = 0,\n",
    "        ea = pyet_src['vaporpressure_3m_c_mean']/1000,\n",
    "        clip_zero=False\n",
    "    )\n",
    "priestley_taylor = pyet.priestley_taylor(\n",
    "        tmean = pyet_src['T_3m_c_mean'],\n",
    "        rh = pyet_src['RH_3m_c_mean'],\n",
    "        rhmin = pyet_src['RH_3m_c_min'],\n",
    "        rhmax = pyet_src['RH_3m_c_max'],\n",
    "        tmin = pyet_src['T_3m_c_min'],\n",
    "        tmax = pyet_src['T_3m_c_max'],\n",
    "        rn = pyet_src['Rnet_9m_d_mean'],\n",
    "        elevation = pyet_src['elevation'],\n",
    "        alpha=0.95,\n",
    "        clip_zero=False\n",
    ")"
   ]
  },
  {
   "cell_type": "markdown",
   "metadata": {},
   "source": [
    "## Using my own function\n",
    "...and some convenience functions from pyet"
   ]
  },
  {
   "cell_type": "markdown",
   "metadata": {},
   "source": [
    "### Gather the data we need"
   ]
  },
  {
   "cell_type": "code",
   "execution_count": 408,
   "metadata": {},
   "outputs": [
    {
     "data": {
      "text/html": [
       "<div>\n",
       "<style scoped>\n",
       "    .dataframe tbody tr th:only-of-type {\n",
       "        vertical-align: middle;\n",
       "    }\n",
       "\n",
       "    .dataframe tbody tr th {\n",
       "        vertical-align: top;\n",
       "    }\n",
       "\n",
       "    .dataframe thead th {\n",
       "        text-align: right;\n",
       "    }\n",
       "</style>\n",
       "<table border=\"1\" class=\"dataframe\">\n",
       "  <thead>\n",
       "    <tr style=\"text-align: right;\">\n",
       "      <th>variable</th>\n",
       "      <th>time</th>\n",
       "      <th>P_10m_c</th>\n",
       "      <th>Rnet_9m_d</th>\n",
       "      <th>T_3m_c</th>\n",
       "      <th>Tsurfvaporpressure_c</th>\n",
       "      <th>airdensity_3m_c</th>\n",
       "      <th>spd_3m_c</th>\n",
       "      <th>vaporpressure_3m_c</th>\n",
       "    </tr>\n",
       "  </thead>\n",
       "  <tbody>\n",
       "    <tr>\n",
       "      <th>0</th>\n",
       "      <td>2022-11-29 17:00:00</td>\n",
       "      <td>713.159607</td>\n",
       "      <td>-57.467264</td>\n",
       "      <td>-12.797492</td>\n",
       "      <td>235.782582</td>\n",
       "      <td>0.95436</td>\n",
       "      <td>3.323426</td>\n",
       "      <td>149.831121</td>\n",
       "    </tr>\n",
       "    <tr>\n",
       "      <th>1</th>\n",
       "      <td>2022-11-29 17:30:00</td>\n",
       "      <td>713.428101</td>\n",
       "      <td>-79.222653</td>\n",
       "      <td>-13.050861</td>\n",
       "      <td>226.665552</td>\n",
       "      <td>0.95583</td>\n",
       "      <td>4.556745</td>\n",
       "      <td>114.146005</td>\n",
       "    </tr>\n",
       "  </tbody>\n",
       "</table>\n",
       "</div>"
      ],
      "text/plain": [
       "variable                time     P_10m_c  Rnet_9m_d     T_3m_c  \\\n",
       "0        2022-11-29 17:00:00  713.159607 -57.467264 -12.797492   \n",
       "1        2022-11-29 17:30:00  713.428101 -79.222653 -13.050861   \n",
       "\n",
       "variable  Tsurfvaporpressure_c  airdensity_3m_c  spd_3m_c  vaporpressure_3m_c  \n",
       "0                   235.782582          0.95436  3.323426          149.831121  \n",
       "1                   226.665552          0.95583  4.556745          114.146005  "
      ]
     },
     "execution_count": 408,
     "metadata": {},
     "output_type": "execute_result"
    }
   ],
   "source": [
    "my_pyet_src = tidy_df_30Min[tidy_df_30Min.variable.isin([\n",
    "    'Rnet_9m_d',\n",
    "    'airdensity_3m_c',\n",
    "    'Tsurfvaporpressure_c',\n",
    "    'vaporpressure_3m_c',\n",
    "    'T_3m_c',\n",
    "    'spd_3m_c',\n",
    "    'P_10m_c'\n",
    "])].pivot_table(\n",
    "    index=['time'],\n",
    "    values='value',\n",
    "    columns='variable'\n",
    "# Calculate means across 30min periods, mins and maxes for the required variables too\n",
    ").reset_index()\n",
    "my_pyet_src.head(2)"
   ]
  },
  {
   "cell_type": "code",
   "execution_count": 409,
   "metadata": {},
   "outputs": [],
   "source": [
    "my_pyet_src['L_v estimated'] = 2.501 - 0.002361 * my_pyet_src['T_3m_c'] # from PyET code"
   ]
  },
  {
   "cell_type": "markdown",
   "metadata": {},
   "source": [
    "### Define function"
   ]
  },
  {
   "cell_type": "code",
   "execution_count": 410,
   "metadata": {},
   "outputs": [],
   "source": [
    "C_p = 1.013 * 10 ** -3  # MJ/kg/K\n",
    "\n",
    "def penman_monteith(\n",
    "    energy_available, # MJ/m^2/day\n",
    "    density_air, # kg/m^3\n",
    "    vapor_pressure_surface, # kPa\n",
    "    vapor_pressure_air, # kPa\n",
    "    temp_air, # ˚C\n",
    "    pressure, # kPa\n",
    "    wind_speed, # m/s\n",
    "    L_v\n",
    "):\n",
    "    A = energy_available\n",
    "    rho_a = density_air\n",
    "    e_s = vapor_pressure_surface\n",
    "    e_a = vapor_pressure_air\n",
    "    \n",
    "    delta = pyet.calc_vpc(temp_air)\n",
    "    y = pyet.calc_psy(pressure, temp_air)\n",
    "    r_a = pyet.calc_res_aero(wind_speed)\n",
    "    r_s = 0\n",
    "\n",
    "    numerator = delta*A + rho_a*86400*C_p*(e_s - e_a)/r_a\n",
    "    denominator = delta + y*(1 + r_s / r_a)\n",
    "    return (1/L_v)*(numerator/denominator)"
   ]
  },
  {
   "cell_type": "markdown",
   "metadata": {},
   "source": [
    "### Do calculations"
   ]
  },
  {
   "cell_type": "code",
   "execution_count": 411,
   "metadata": {},
   "outputs": [],
   "source": [
    "my_pyet_src['pm results'] = penman_monteith(\n",
    "    (my_pyet_src['Rnet_9m_d'].to_xarray() * units(\"W/m^2\")).pint.to(\"MJ/m^2/day\").values,\n",
    "    my_pyet_src['airdensity_3m_c'].values,\n",
    "    (my_pyet_src['Tsurfvaporpressure_c'].to_xarray() * units(\"Pa\")).pint.to(\"kPa\").values,\n",
    "    (my_pyet_src['vaporpressure_3m_c'].to_xarray() * units(\"Pa\")).pint.to(\"kPa\").values,\n",
    "    my_pyet_src['T_3m_c'].values,\n",
    "    (my_pyet_src['P_10m_c'].to_xarray() * units(\"millibars\")).pint.to(\"kPa\").values,\n",
    "    my_pyet_src['spd_3m_c'].values,\n",
    "    my_pyet_src['L_v estimated']\n",
    ")"
   ]
  },
  {
   "cell_type": "markdown",
   "metadata": {},
   "source": [
    "## Convert from mm/day to g/m^2/s"
   ]
  },
  {
   "cell_type": "code",
   "execution_count": 412,
   "metadata": {},
   "outputs": [],
   "source": [
    "sublimation_pm = sublimation_pm/(86.4)\n",
    "priestley_taylor = priestley_taylor/(86.4)\n",
    "my_pyet_src['pm results'] = my_pyet_src['pm results']/(86.4)"
   ]
  },
  {
   "cell_type": "code",
   "execution_count": 413,
   "metadata": {},
   "outputs": [
    {
     "data": {
      "text/plain": [
       "<AxesSubplot: xlabel='time'>"
      ]
     },
     "execution_count": 413,
     "metadata": {},
     "output_type": "execute_result"
    },
    {
     "data": {
      "image/png": "[encoded data removed]",
      "text/plain": [
       "<Figure size 640x480 with 1 Axes>"
      ]
     },
     "metadata": {},
     "output_type": "display_data"
    }
   ],
   "source": [
    "sublimation_pm.plot(alpha=0.5)\n",
    "priestley_taylor.plot(alpha=0.5)\n",
    "my_pyet_src.set_index('time')['pm results'].plot(alpha=0.5)"
   ]
  },
  {
   "cell_type": "code",
   "execution_count": 414,
   "metadata": {},
   "outputs": [
    {
     "data": {
      "text/plain": [
       "<AxesSubplot: xlabel='time'>"
      ]
     },
     "execution_count": 414,
     "metadata": {},
     "output_type": "execute_result"
    },
    {
     "data": {
      "image/png": "[encoded data removed]",
      "text/plain": [
       "<Figure size 640x480 with 1 Axes>"
      ]
     },
     "metadata": {},
     "output_type": "display_data"
    }
   ],
   "source": [
    "sublimation_pm.cumsum().plot(alpha=0.5, label='')\n",
    "priestley_taylor.cumsum().plot(alpha=0.5)\n",
    "my_pyet_src.set_index('time')['pm results'].cumsum().plot(alpha=0.5)"
   ]
  },
  {
   "cell_type": "markdown",
   "metadata": {},
   "source": [
    "## Add to tidy df"
   ]
  },
  {
   "cell_type": "code",
   "execution_count": null,
   "metadata": {},
   "outputs": [],
   "source": [
    "tidy_df_30Min = tidy.tidy_df_add_variable(\n",
    "    tidy_df_30Min,\n",
    "    sublimation_pm.values,\n",
    "    f'w_h2o__3m_c predicted (Penman Monteith)',\n",
    "    'w_h2o_',\n",
    "    3,\n",
    "    'c'\n",
    ")\n",
    "\n",
    "tidy_df_30Min = tidy.tidy_df_add_variable(\n",
    "    tidy_df_30Min,\n",
    "    priestley_taylor.values,\n",
    "    f'w_h2o__3m_c predicted (Priestley Taylor)',\n",
    "    'w_h2o_',\n",
    "    3,\n",
    "    'c'\n",
    ")"
   ]
  },
  {
   "cell_type": "markdown",
   "metadata": {},
   "source": [
    "# Calculate turbulent fluxes with MOST (my iterative solution using the MOST class)"
   ]
  },
  {
   "cell_type": "code",
   "execution_count": null,
   "metadata": {},
   "outputs": [],
   "source": [
    "import pint_xarray\n",
    "from metpy.calc import specific_humidity_from_mixing_ratio\n",
    "from metpy.units import units"
   ]
  },
  {
   "cell_type": "markdown",
   "metadata": {},
   "source": [
    "Prepare the input data we need"
   ]
  },
  {
   "cell_type": "code",
   "execution_count": null,
   "metadata": {},
   "outputs": [],
   "source": [
    "# EXTRACT VARIABLES\n",
    "VARIABLES = [\n",
    "    ## Input Variables\n",
    "    'spd_3m_c',\n",
    "    'Tpot_3m_c',\n",
    "    'Tsurfpot_c',\n",
    "    'airdensity_3m_c',\n",
    "    'mixingratio_3m_c',\n",
    "    'Tsurfmixingratio_c',\n",
    "    'T_3m_c',\n",
    "    ## Measurement Variables\n",
    "    'w_h2o__3m_c',\n",
    "    'w_tc__3m_c',\n",
    "    'u*_3m_c',\n",
    "    'Ri_3m_c',\n",
    "]\n",
    "print([ v for v in tidy_df_30Min.variable.unique() if v in VARIABLES ])\n",
    "\n",
    "# CREATE WIDE DATAFRAME\n",
    "variables_df = tidy_df_30Min[tidy_df_30Min.variable.isin(VARIABLES)].pivot_table(\n",
    "    values = 'value',\n",
    "    index = 'time',\n",
    "    columns='variable'\n",
    ").reset_index()\n",
    "\n",
    "# MAKE CONVERSIONS\n",
    "# convert from ˚C to K\n",
    "variables_df['T_3m_c'] = variables_df['T_3m_c'] + 273.15\n",
    "variables_df['Tpot_3m_c'] = variables_df['Tpot_3m_c'] + 273.15\n",
    "variables_df['Tsurfpot_c'] = variables_df['Tsurfpot_c'] + 273.15\n",
    "# comes in units of g/g\n",
    "variables_df['specifichumidity_3m_c'] = specific_humidity_from_mixing_ratio(\n",
    "    xr.DataArray(variables_df['mixingratio_3m_c'])*units('g/g')\n",
    ").pint.to('g/kg').values\n",
    "# comes in units of g/g,  solution requires it in units of g/kg\n",
    "variables_df['specifichumidity_surface_c'] = specific_humidity_from_mixing_ratio(\n",
    "    xr.DataArray(variables_df['Tsurfmixingratio_c'])*units('g/g')\n",
    ").pint.to('g/kg').values\n",
    "\n",
    "# CREATE MEASUREMENT HEIGHT VARIABLES\n",
    "variables_df['measurement_height'] = 3"
   ]
  },
  {
   "cell_type": "code",
   "execution_count": null,
   "metadata": {},
   "outputs": [],
   "source": [
    "import sys\n",
    "sys.path.append('../paper1/')\n",
    "from most import MOST, StabilityFunctionBrutsaert1982\n",
    "\n",
    "most_config_dict = {\n",
    "    0.0001: MOST(StabilityFunctionBrutsaert1982(), snow_surface_roughness = 0.0001),\n",
    "    0.0005: MOST(StabilityFunctionBrutsaert1982(), snow_surface_roughness = 0.0005),\n",
    "    0.001: MOST(StabilityFunctionBrutsaert1982(), snow_surface_roughness = 0.001),\n",
    "    0.005: MOST(StabilityFunctionBrutsaert1982(), snow_surface_roughness = 0.005),\n",
    "}\n",
    "\n",
    "for z0, this_most in most_config_dict.items():\n",
    "    L_solutions, u_friction_solutions, H_solutions, E_solutions = this_most.solve(\n",
    "        variables_df['spd_3m_c'],\n",
    "        variables_df['Tpot_3m_c'],\n",
    "        variables_df['Tsurfpot_c'],\n",
    "        variables_df['airdensity_3m_c'],\n",
    "        variables_df['specifichumidity_3m_c'],\n",
    "        variables_df['specifichumidity_surface_c'],\n",
    "        variables_df['T_3m_c'],\n",
    "        variables_df['measurement_height']\n",
    "    )\n",
    "\n",
    "    variables_df[f'L_solution_z0_{str(z0)}'] = L_solutions\n",
    "    variables_df[f'u_friction_solution_z0_{str(z0)}'] = u_friction_solutions\n",
    "    variables_df[f'H_solution_z0_{str(z0)}'] = H_solutions\n",
    "    variables_df[f'E_solution_z0_{str(z0)}'] = E_solutions\n",
    "\n",
    "    # convert from W/m^2 to ˚C*m/s\n",
    "    variables_df[f'H_solution_z0_{str(z0)}'] = (variables_df[f'H_solution_z0_{str(z0)}']/(variables_df['airdensity_3m_c']*0.718*1000))"
   ]
  },
  {
   "cell_type": "markdown",
   "metadata": {},
   "source": [
    "Add nans for the model results where there are missing timesteps (As compared to the tidy dataset of measurements)"
   ]
  },
  {
   "cell_type": "code",
   "execution_count": null,
   "metadata": {},
   "outputs": [],
   "source": [
    "variables_df['time'] = pd.to_datetime(variables_df['time'])\n",
    "\n",
    "variables_df = pd.merge(\n",
    "    tidy_df_30Min.query(\"variable == 'w_h2o__3m_c'\")[['time']],\n",
    "    variables_df,\n",
    "    on='time',\n",
    "    how='outer'\n",
    ")"
   ]
  },
  {
   "cell_type": "markdown",
   "metadata": {},
   "source": [
    "# Add solutions to the tidy dataset"
   ]
  },
  {
   "cell_type": "code",
   "execution_count": null,
   "metadata": {},
   "outputs": [],
   "source": [
    "# OUR SOLUTIONS\n",
    "for z0 in most_config_dict.keys():\n",
    "    tidy_df_30Min = tidy.tidy_df_add_variable(\n",
    "        tidy_df_30Min,  \n",
    "        variables_df[f'L_solution_z0_{z0}'], \n",
    "        f'L predicted ({z0})',\n",
    "        'Obukhov length', \n",
    "        3,\n",
    "        'c'\n",
    "    )\n",
    "\n",
    "    tidy_df_30Min = tidy.tidy_df_add_variable(\n",
    "        tidy_df_30Min, \n",
    "        variables_df[f'u_friction_solution_z0_{z0}'], \n",
    "        f'u*_3m_c predicted ({z0})',\n",
    "        'shear velocity', \n",
    "        3,\n",
    "        'c'\n",
    "    )\n",
    "\n",
    "    tidy_df_30Min = tidy.tidy_df_add_variable(\n",
    "        tidy_df_30Min, \n",
    "        variables_df[f'H_solution_z0_{z0}'], \n",
    "        f'w_tc__3m_c predicted ({z0})',\n",
    "        'w_tc_', \n",
    "        3,\n",
    "        'c'\n",
    "    )\n",
    "\n",
    "    tidy_df_30Min = tidy.tidy_df_add_variable(\n",
    "        tidy_df_30Min, \n",
    "        variables_df[f'E_solution_z0_{z0}'], \n",
    "        f'w_h2o__3m_c predicted ({z0})',\n",
    "        'w_h2o_', \n",
    "        3,\n",
    "        'c'\n",
    "    )"
   ]
  },
  {
   "cell_type": "code",
   "execution_count": null,
   "metadata": {},
   "outputs": [],
   "source": [
    "src = tidy_df_30Min[tidy_df_30Min.measurement == 'w_h2o_'].pivot_table(\n",
    "    values = 'value',\n",
    "    index = 'time',\n",
    "    columns='variable'\n",
    ").reset_index()\n",
    "\n",
    "\n",
    "src['w_h2o__5m_c'].cumsum().plot(color='black', label='measured')\n",
    "for col in [c for c in src.columns if 'predicted' in c]:\n",
    "    src[col].cumsum().plot(label = f\"predicted, z0 == {col.split(' ')[-1][1:-1]}\")\n",
    "plt.ylim(-30,100)\n",
    "plt.legend()"
   ]
  },
  {
   "attachments": {},
   "cell_type": "markdown",
   "metadata": {},
   "source": [
    "# Save dataset"
   ]
  },
  {
   "cell_type": "code",
   "execution_count": null,
   "metadata": {},
   "outputs": [],
   "source": [
    "ls -lah | grep parquet"
   ]
  },
  {
   "cell_type": "code",
   "execution_count": null,
   "metadata": {},
   "outputs": [],
   "source": [
    "if PLANAR_FIT:\n",
    "    tidy_df_30Min.to_parquet(f'tidy_df_30Min_{start_date}_{end_date}_planar_fit.parquet', index=False)\n",
    "    tidy_df.to_parquet(f'tidy_df_{start_date}_{end_date}_planar_fit.parquet', index=False)\n",
    "else:\n",
    "    tidy_df_30Min.to_parquet(f'tidy_df_30Min_{start_date}_{end_date}_noplanar_fit.parquet', index=False)\n",
    "    tidy_df.to_parquet(f'tidy_df_{start_date}_{end_date}_noplanar_fit.parquet', index=False)"
   ]
  },
  {
   "cell_type": "code",
   "execution_count": null,
   "metadata": {},
   "outputs": [],
   "source": [
    "ls -lah | grep parquet"
   ]
  },
  {
   "attachments": {},
   "cell_type": "markdown",
   "metadata": {},
   "source": [
    "# Create disdrometer dataset with a \"days since precip\" variable"
   ]
  },
  {
   "attachments": {},
   "cell_type": "markdown",
   "metadata": {},
   "source": [
    "## Load disdrometer data"
   ]
  },
  {
   "cell_type": "code",
   "execution_count": null,
   "metadata": {},
   "outputs": [],
   "source": [
    "import act"
   ]
  },
  {
   "cell_type": "code",
   "execution_count": null,
   "metadata": {},
   "outputs": [],
   "source": [
    "# files = act.discovery.download_data(\n",
    "#     os.getenv(\"ARM_USERNAME\"),\n",
    "#     os.getenv(\"ARM_TOKEN\"),\n",
    "#     'gucldM1.b1',\n",
    "#     start_date,\n",
    "#     end_date,\n",
    "#     output='/data2/elilouis/sublimationofsnow/gucldM1.b1'\n",
    "# )\n",
    "\n",
    "import glob\n",
    "files = glob.glob('/data2/elilouis/sublimationofsnow/gucldM1.b1/*.cdf')"
   ]
  },
  {
   "cell_type": "code",
   "execution_count": null,
   "metadata": {},
   "outputs": [],
   "source": [
    "disdro_ds = xr.open_mfdataset(files)['precip_rate']"
   ]
  },
  {
   "cell_type": "code",
   "execution_count": null,
   "metadata": {},
   "outputs": [],
   "source": [
    "disdro_ds"
   ]
  },
  {
   "cell_type": "code",
   "execution_count": null,
   "metadata": {},
   "outputs": [],
   "source": [
    "precip_rate_ds = disdro_ds.sel(time=slice(\"2022-11-30\", \"2023-04-10\")).resample(time='5Min').mean()\n",
    "precip_rate_ds"
   ]
  },
  {
   "cell_type": "code",
   "execution_count": null,
   "metadata": {},
   "outputs": [],
   "source": [
    "disdro_df = precip_rate_ds.to_dataframe().reset_index()\n",
    "disdro_df = utils.modify_df_timezone(disdro_df, pytz.UTC, pytz.timezone('US/Mountain'))\n",
    "disdro_df = disdro_df.set_index('time').loc[slice(start_date, end_date)]\n",
    "# offset so the timestamp is in the middle, similar to SoS data\n",
    "disdro_df.index = disdro_df.index + dt.timedelta(minutes=2, seconds=30)"
   ]
  },
  {
   "cell_type": "code",
   "execution_count": null,
   "metadata": {},
   "outputs": [],
   "source": [
    "disdro_df"
   ]
  },
  {
   "cell_type": "code",
   "execution_count": null,
   "metadata": {},
   "outputs": [],
   "source": [
    "disdro_df.to_parquet(\"precip_rate.parquet\")"
   ]
  },
  {
   "cell_type": "code",
   "execution_count": null,
   "metadata": {},
   "outputs": [],
   "source": []
  },
  {
   "cell_type": "code",
   "execution_count": null,
   "metadata": {},
   "outputs": [],
   "source": []
  },
  {
   "attachments": {},
   "cell_type": "markdown",
   "metadata": {},
   "source": [
    "## Calculate \"days since precip\""
   ]
  },
  {
   "cell_type": "code",
   "execution_count": null,
   "metadata": {},
   "outputs": [],
   "source": [
    "disdro_daily_max_precip_date_df = disdro_df.set_index(\n",
    "    \"time\"\n",
    ")[['precip_rate']].resample(\n",
    "    \"1440Min\"\n",
    ").max().reset_index()\n",
    "\n",
    "disdro_daily_mean_precip_date_df = disdro_df.set_index(\n",
    "    \"time\"\n",
    ")[['precip_rate']].resample(\n",
    "    \"1440Min\"\n",
    ").max().reset_index()\n",
    "\n",
    "s = disdro_daily_max_precip_date_df.groupby(disdro_daily_max_precip_date_df['precip_rate'].ne(0).cumsum())['time'].transform('first')\n",
    "disdro_daily_max_precip_date_df['days_since_precip'] = (disdro_daily_max_precip_date_df['time'] - s).dt.days"
   ]
  },
  {
   "cell_type": "code",
   "execution_count": null,
   "metadata": {},
   "outputs": [],
   "source": [
    "daily_mean_precip_df = disdro_df.groupby(\"time\")['precip_rate'].max()\n",
    "\n",
    "daily_mean_precip_df = pd.DataFrame(daily_mean_precip_df.resample(\"1440Min\").mean()*24/10) # resample to one day in cm/hr SWE"
   ]
  },
  {
   "cell_type": "code",
   "execution_count": null,
   "metadata": {},
   "outputs": [],
   "source": [
    "disdro_daily_max_precip_date_df['daily_precip (cm)'] =  daily_mean_precip_df['precip_rate'].values"
   ]
  },
  {
   "attachments": {},
   "cell_type": "markdown",
   "metadata": {},
   "source": [
    "## Cache Downloaded Disdrometer data"
   ]
  },
  {
   "cell_type": "code",
   "execution_count": null,
   "metadata": {},
   "outputs": [],
   "source": [
    "disdro_daily_max_precip_date_df.to_csv(\"disdro_daily_max_precip_date_df.csv\")"
   ]
  },
  {
   "cell_type": "code",
   "execution_count": null,
   "metadata": {},
   "outputs": [],
   "source": []
  }
 ],
 "metadata": {
  "kernelspec": {
   "display_name": "arm",
   "language": "python",
   "name": "python3"
  },
  "language_info": {
   "codemirror_mode": {
    "name": "ipython",
    "version": 3
   },
   "file_extension": ".py",
   "mimetype": "text/x-python",
   "name": "python",
   "nbconvert_exporter": "python",
   "pygments_lexer": "ipython3",
   "version": "3.11.0"
  },
  "orig_nbformat": 4
 },
 "nbformat": 4,
 "nbformat_minor": 2
}
