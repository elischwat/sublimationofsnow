{
 "cells": [
  {
   "cell_type": "code",
   "execution_count": 1,
   "metadata": {},
   "outputs": [],
   "source": [
    "# netcdf/numpy/xray/stats\n",
    "import xarray as xr\n",
    "\n",
    "import sys\n",
    "sys.path.append(\"/home/elilouis/sublimationofsnow/\")\n",
    "import sosutils\n",
    "from metpy.units import units\n",
    "import metpy\n",
    "import pint_xarray\n",
    "import altair as alt\n",
    "alt.data_transformers.enable('json')\n",
    "alt.renderers.enable('svg')\n",
    "import pytz\n",
    "\n",
    "import pandas as pd\n",
    "import datetime as dt\n",
    "\n",
    "from urllib.error import URLError\n",
    "import os\n",
    "\n",
    "import matplotlib.pyplot as plt\n",
    "import seaborn as sns\n",
    "import numpy as np"
   ]
  },
  {
   "attachments": {},
   "cell_type": "markdown",
   "metadata": {},
   "source": [
    "# Inputs"
   ]
  },
  {
   "cell_type": "code",
   "execution_count": 2,
   "metadata": {},
   "outputs": [],
   "source": [
    "sos_download_dir='/data2/elilouis/sublimationofsnow/sosnoqc'\n",
    "DATE_FORMAT_STR = '%Y%m%d'\n",
    "start_date = '20221201'\n",
    "# end_date = dt.datetime.strftime(dt.date.today() - dt.timedelta(days=1), DATE_FORMAT_STR)\n",
    "end_date = '20230501'\n",
    "PLANAR_FIT = False\n",
    "\n",
    "\n",
    "\n",
    "\n",
    "datelist = pd.date_range(\n",
    "    dt.datetime.strptime(start_date, DATE_FORMAT_STR),\n",
    "    dt.datetime.strptime(end_date, DATE_FORMAT_STR),\n",
    "    freq='d'\n",
    ").strftime(DATE_FORMAT_STR).tolist()\n",
    "\n",
    "VARIABLE_NAMES = [\n",
    "    # Sonic Anemometer Data for 4 towers\n",
    "    'tc_1m_uw',     'spd_1m_uw',     'dir_1m_uw',     'u_1m_uw',   'v_1m_uw',   'w_1m_uw',   'u_u__1m_uw',    'v_v__1m_uw',    'w_w__1m_uw',    \n",
    "        'u_w__1m_uw',    'v_w__1m_uw',  'u_tc__1m_uw',  'v_tc__1m_uw',   'u_h2o__1m_uw',  'v_h2o__1m_uw',   'w_tc__1m_uw',   'w_h2o__1m_uw',\n",
    "    'tc_3m_uw',     'spd_3m_uw',     'dir_3m_uw',     'u_3m_uw',   'v_3m_uw',   'w_3m_uw',   'u_u__3m_uw',    'v_v__3m_uw',    'w_w__3m_uw',    \n",
    "        'u_w__3m_uw',    'v_w__3m_uw',  'u_tc__3m_uw',  'v_tc__3m_uw',   'u_h2o__3m_uw',  'v_h2o__3m_uw',   'w_tc__3m_uw',   'w_h2o__3m_uw',\n",
    "    'tc_10m_uw',    'spd_10m_uw',    'dir_10m_uw',    'u_10m_uw',  'v_10m_uw',  'w_10m_uw',  'u_u__10m_uw',   'v_v__10m_uw',   'w_w__10m_uw',   \n",
    "        'u_w__10m_uw',   'v_w__10m_uw', 'u_tc__10m_uw', 'v_tc__10m_uw',  'u_h2o__10m_uw', 'v_h2o__10m_uw',  'w_tc__10m_uw',  'w_h2o__10m_uw',\n",
    "\n",
    "    'tc_1m_ue',     'spd_1m_ue',     'dir_1m_ue',     'u_1m_ue',   'v_1m_ue',   'w_1m_ue',   'u_u__1m_ue',    'v_v__1m_ue',    'w_w__1m_ue',    \n",
    "        'u_w__1m_ue',    'v_w__1m_ue',  'u_tc__1m_ue',  'v_tc__1m_ue',   'u_h2o__1m_ue',  'v_h2o__1m_ue',   'w_tc__1m_ue',   'w_h2o__1m_ue',\n",
    "    'tc_3m_ue',     'spd_3m_ue',     'dir_3m_ue',     'u_3m_ue',   'v_3m_ue',   'w_3m_ue',   'u_u__3m_ue',    'v_v__3m_ue',    'w_w__3m_ue',    \n",
    "        'u_w__3m_ue',    'v_w__3m_ue',  'u_tc__3m_ue',  'v_tc__3m_ue',   'u_h2o__3m_ue',  'v_h2o__3m_ue',   'w_tc__3m_ue',   'w_h2o__3m_ue',\n",
    "    'tc_10m_ue',    'spd_10m_ue',    'dir_10m_ue',    'u_10m_ue',  'v_10m_ue',  'w_10m_ue',  'u_u__10m_ue',   'v_v__10m_ue',   'w_w__10m_ue',   \n",
    "        'u_w__10m_ue',   'v_w__10m_ue', 'u_tc__10m_ue', 'v_tc__10m_ue',  'u_h2o__10m_ue', 'v_h2o__10m_ue',  'w_tc__10m_ue',  'w_h2o__10m_ue',\n",
    "\n",
    "    'tc_1m_d',      'spd_1m_d',     'dir_1m_d',     'u_1m_d',   'v_1m_d',   'w_1m_d',   'u_u__1m_d',    'v_v__1m_d',    'w_w__1m_d',    \n",
    "        'u_w__1m_d',    'v_w__1m_d',  'u_tc__1m_d',  'v_tc__1m_d',   'u_h2o__1m_d',  'v_h2o__1m_d',   'w_tc__1m_d',   'w_h2o__1m_d',\n",
    "    'tc_3m_d',      'spd_3m_d',     'dir_3m_d',     'u_3m_d',   'v_3m_d',   'w_3m_d',   'u_u__3m_d',    'v_v__3m_d',    'w_w__3m_d',    \n",
    "        'u_w__3m_d',    'v_w__3m_d',  'u_tc__3m_d',  'v_tc__3m_d',   'u_h2o__3m_d',  'v_h2o__3m_d',   'w_tc__3m_d',   'w_h2o__3m_d',\n",
    "    'tc_10m_d',     'spd_10m_d',    'dir_10m_d',    'u_10m_d',  'v_10m_d',  'w_10m_d',  'u_u__10m_d',   'v_v__10m_d',   'w_w__10m_d',   \n",
    "        'u_w__10m_d',   'v_w__10m_d', 'u_tc__10m_d', 'v_tc__10m_d',  'u_h2o__10m_d', 'v_h2o__10m_d',  'w_tc__10m_d',  'w_h2o__10m_d',\n",
    "\n",
    "    'tc_2m_c',  'spd_2m_c',     'dir_2m_c',     'u_2m_c',   'v_2m_c',   'w_2m_c',   'u_u__2m_c',    'v_v__2m_c',    'w_w__2m_c',    \n",
    "        'u_w__2m_c',    'v_w__2m_c',  'u_tc__2m_c',  'v_tc__2m_c',   'u_h2o__2m_c',  'v_h2o__2m_c',   'w_tc__2m_c',   'w_h2o__2m_c',\n",
    "    'tc_3m_c',  'spd_3m_c',     'dir_3m_c',     'u_3m_c',   'v_3m_c',   'w_3m_c',   'u_u__3m_c',    'v_v__3m_c',    'w_w__3m_c',    \n",
    "        'u_w__3m_c',    'v_w__3m_c',  'u_tc__3m_c',  'v_tc__3m_c',   'u_h2o__3m_c',  'v_h2o__3m_c',   'w_tc__3m_c',   'w_h2o__3m_c',\n",
    "    'tc_5m_c',  'spd_5m_c',     'dir_5m_c',     'u_5m_c',   'v_5m_c',   'w_5m_c',   'u_u__5m_c',    'v_v__5m_c',    'w_w__5m_c',    \n",
    "        'u_w__5m_c',    'v_w__5m_c',  'u_tc__5m_c',  'v_tc__5m_c',   'u_h2o__5m_c',  'v_h2o__5m_c',   'w_tc__5m_c',   'w_h2o__5m_c',\n",
    "    'tc_10m_c', 'spd_10m_c',    'dir_10m_c',    'u_10m_c',  'v_10m_c',  'w_10m_c',  'u_u__10m_c',   'v_v__10m_c',   'w_w__10m_c',   \n",
    "        'u_w__10m_c',   'v_w__10m_c', 'u_tc__10m_c', 'v_tc__10m_c',  'u_h2o__10m_c', 'v_h2o__10m_c',  'w_tc__10m_c',  'w_h2o__10m_c',\n",
    "    'tc_15m_c', 'spd_15m_c',    'dir_15m_c',    'u_15m_c',  'v_15m_c',  'w_15m_c',  'u_u__15m_c',   'v_v__15m_c',   'w_w__15m_c',   \n",
    "        'u_w__15m_c',   'v_w__15m_c', 'u_tc__15m_c', 'v_tc__15m_c',  'u_h2o__15m_c', 'v_h2o__15m_c',  'w_tc__15m_c',  'w_h2o__15m_c',\n",
    "    'tc_20m_c', 'spd_20m_c',    'dir_20m_c',    'u_20m_c',  'v_20m_c',  'w_20m_c',  'u_u__20m_c',   'v_v__20m_c',   'w_w__20m_c',   \n",
    "        'u_w__20m_c',   'v_w__20m_c', 'u_tc__20m_c', 'v_tc__20m_c',  'u_h2o__20m_c', 'v_h2o__20m_c',  'w_tc__20m_c',  'w_h2o__20m_c',\n",
    "\n",
    "    \n",
    "    # Temperature & Relative Humidity Array \n",
    "    'T_2m_c', 'T_3m_c', 'T_4m_c', 'T_5m_c', 'T_6m_c', 'T_7m_c', 'T_8m_c', 'T_9m_c', 'T_10m_c',\n",
    "    'T_11m_c', 'T_12m_c', 'T_13m_c', 'T_14m_c', 'T_15m_c', 'T_16m_c', 'T_17m_c', 'T_18m_c', 'T_19m_c', 'T_20m_c',\n",
    "\n",
    "    'RH_2m_c', 'RH_3m_c', 'RH_4m_c', 'RH_5m_c', 'RH_6m_c', 'RH_7m_c', 'RH_8m_c', 'RH_9m_c', 'RH_10m_c',\n",
    "    'RH_11m_c','RH_12m_c','RH_13m_c','RH_14m_c','RH_15m_c','RH_16m_c','RH_17m_c','RH_18m_c','RH_19m_c','RH_20m_c',\n",
    "\n",
    "    # Pressure Sensors\n",
    "    'P_20m_c',\n",
    "    'P_10m_c', 'P_10m_d', 'P_10m_uw', 'P_10m_ue',\n",
    "\n",
    "    # Blowing snow/FlowCapt Sensors\n",
    "    'SF_avg_1m_ue', 'SF_avg_2m_ue',\n",
    "\n",
    "    # Apogee sensors\n",
    "    \"Vtherm_c\", \"Vtherm_d\", \"Vtherm_ue\", \"Vtherm_uw\", \n",
    "    \"Vpile_c\", \"Vpile_d\", \"Vpile_ue\", \"Vpile_uw\",\n",
    "    \"IDir_c\", \"IDir_d\", \"IDir_ue\", \"IDir_uw\",\n",
    "\n",
    "    # Snow-level temperature arrays (towers D and UW)\n",
    "    'Tsnow_0_4m_d', 'Tsnow_0_5m_d', 'Tsnow_0_6m_d', 'Tsnow_0_7m_d', 'Tsnow_0_8m_d', 'Tsnow_0_9m_d', 'Tsnow_1_0m_d', 'Tsnow_1_1m_d', 'Tsnow_1_2m_d', 'Tsnow_1_3m_d', 'Tsnow_1_4m_d', 'Tsnow_1_5m_d',\n",
    "    'Tsnow_0_4m_uw', 'Tsnow_0_5m_uw', 'Tsnow_0_6m_uw', 'Tsnow_0_7m_uw', 'Tsnow_0_8m_uw', 'Tsnow_0_9m_uw', 'Tsnow_1_0m_uw', 'Tsnow_1_1m_uw', 'Tsnow_1_2m_uw', 'Tsnow_1_3m_uw', 'Tsnow_1_4m_uw', 'Tsnow_1_5m_uw',\n",
    "    \n",
    "    # Downward Facing Longwave Radiometer (tower D) - for measuring snow surface temperature\n",
    "    'Rpile_out_9m_d',\n",
    "    'Tcase_out_9m_d',\n",
    "    \n",
    "    # Upward facing shortwave radiometer (tower D) - for measuring incoming solar radiation!\n",
    "    'Rsw_in_9m_d',\n",
    "]"
   ]
  },
  {
   "attachments": {},
   "cell_type": "markdown",
   "metadata": {},
   "source": [
    "# Download SoS data"
   ]
  },
  {
   "cell_type": "code",
   "execution_count": 3,
   "metadata": {},
   "outputs": [
    {
     "name": "stdout",
     "output_type": "stream",
     "text": [
      "Caching...skipping download for 20221201\n",
      "Caching...skipping download for 20221202\n",
      "Caching...skipping download for 20221203\n",
      "Caching...skipping download for 20221204\n",
      "Caching...skipping download for 20221205\n",
      "Caching...skipping download for 20221206\n",
      "Caching...skipping download for 20221207\n",
      "Caching...skipping download for 20221208\n",
      "Caching...skipping download for 20221209\n",
      "Caching...skipping download for 20221210\n",
      "Caching...skipping download for 20221211\n",
      "Caching...skipping download for 20221212\n",
      "Caching...skipping download for 20221213\n",
      "Caching...skipping download for 20221214\n",
      "Caching...skipping download for 20221215\n",
      "Caching...skipping download for 20221216\n",
      "Caching...skipping download for 20221217\n",
      "Caching...skipping download for 20221218\n",
      "Caching...skipping download for 20221219\n",
      "Caching...skipping download for 20221220\n",
      "Caching...skipping download for 20221221\n",
      "Caching...skipping download for 20221222\n",
      "Caching...skipping download for 20221223\n",
      "Caching...skipping download for 20221224\n",
      "Caching...skipping download for 20221225\n",
      "Caching...skipping download for 20221226\n",
      "Caching...skipping download for 20221227\n",
      "Caching...skipping download for 20221228\n",
      "Caching...skipping download for 20221229\n",
      "Caching...skipping download for 20221230\n",
      "Caching...skipping download for 20221231\n",
      "Caching...skipping download for 20230101\n",
      "Caching...skipping download for 20230102\n",
      "Caching...skipping download for 20230103\n",
      "Caching...skipping download for 20230104\n",
      "Caching...skipping download for 20230105\n",
      "Caching...skipping download for 20230106\n",
      "Caching...skipping download for 20230107\n",
      "Caching...skipping download for 20230108\n",
      "Caching...skipping download for 20230109\n",
      "Caching...skipping download for 20230110\n",
      "Caching...skipping download for 20230111\n",
      "Caching...skipping download for 20230112\n",
      "Caching...skipping download for 20230113\n",
      "Caching...skipping download for 20230114\n",
      "Caching...skipping download for 20230115\n",
      "Caching...skipping download for 20230116\n",
      "Caching...skipping download for 20230117\n",
      "Caching...skipping download for 20230118\n",
      "Caching...skipping download for 20230119\n",
      "Caching...skipping download for 20230120\n",
      "Caching...skipping download for 20230121\n",
      "Caching...skipping download for 20230122\n",
      "Caching...skipping download for 20230123\n",
      "Caching...skipping download for 20230124\n",
      "Caching...skipping download for 20230125\n",
      "Caching...skipping download for 20230126\n",
      "Caching...skipping download for 20230127\n",
      "Caching...skipping download for 20230128\n",
      "Caching...skipping download for 20230129\n",
      "Caching...skipping download for 20230130\n",
      "Caching...skipping download for 20230131\n",
      "Caching...skipping download for 20230201\n",
      "Caching...skipping download for 20230202\n",
      "Caching...skipping download for 20230203\n",
      "Caching...skipping download for 20230204\n",
      "Caching...skipping download for 20230205\n",
      "Caching...skipping download for 20230206\n",
      "Caching...skipping download for 20230207\n",
      "Caching...skipping download for 20230208\n",
      "Caching...skipping download for 20230209\n",
      "Caching...skipping download for 20230210\n",
      "Caching...skipping download for 20230211\n",
      "Caching...skipping download for 20230212\n",
      "Caching...skipping download for 20230213\n",
      "Caching...skipping download for 20230214\n",
      "Caching...skipping download for 20230215\n",
      "Caching...skipping download for 20230216\n",
      "Caching...skipping download for 20230217\n",
      "Caching...skipping download for 20230218\n",
      "Caching...skipping download for 20230219\n",
      "Caching...skipping download for 20230220\n",
      "Caching...skipping download for 20230221\n",
      "Caching...skipping download for 20230222\n",
      "Caching...skipping download for 20230223\n",
      "Caching...skipping download for 20230224\n",
      "Caching...skipping download for 20230225\n",
      "Caching...skipping download for 20230226\n",
      "Caching...skipping download for 20230227\n",
      "Caching...skipping download for 20230228\n",
      "Caching...skipping download for 20230301\n",
      "Caching...skipping download for 20230302\n",
      "Caching...skipping download for 20230303\n",
      "Caching...skipping download for 20230304\n",
      "Caching...skipping download for 20230305\n",
      "Caching...skipping download for 20230306\n",
      "Caching...skipping download for 20230307\n",
      "Caching...skipping download for 20230308\n",
      "Caching...skipping download for 20230309\n",
      "Caching...skipping download for 20230310\n",
      "Caching...skipping download for 20230311\n",
      "Caching...skipping download for 20230312\n",
      "Caching...skipping download for 20230313\n",
      "Caching...skipping download for 20230314\n",
      "Caching...skipping download for 20230315\n",
      "Caching...skipping download for 20230316\n",
      "Caching...skipping download for 20230317\n",
      "Caching...skipping download for 20230318\n",
      "Caching...skipping download for 20230319\n",
      "Caching...skipping download for 20230320\n",
      "Caching...skipping download for 20230321\n",
      "Caching...skipping download for 20230322\n",
      "Caching...skipping download for 20230323\n",
      "Caching...skipping download for 20230324\n",
      "Caching...skipping download for 20230325\n",
      "Caching...skipping download for 20230326\n",
      "Caching...skipping download for 20230327\n",
      "Caching...skipping download for 20230328\n",
      "Caching...skipping download for 20230329\n",
      "Caching...skipping download for 20230330\n",
      "Caching...skipping download for 20230331\n",
      "Caching...skipping download for 20230401\n",
      "Caching...skipping download for 20230402\n",
      "Caching...skipping download for 20230403\n",
      "Caching...skipping download for 20230404\n",
      "Caching...skipping download for 20230405\n",
      "Caching...skipping download for 20230406\n",
      "Caching...skipping download for 20230407\n",
      "Caching...skipping download for 20230408\n",
      "Caching...skipping download for 20230409\n",
      "Caching...skipping download for 20230410\n",
      "Caching...skipping download for 20230411\n",
      "Caching...skipping download for 20230412\n",
      "Caching...skipping download for 20230413\n",
      "Caching...skipping download for 20230414\n",
      "Caching...skipping download for 20230415\n",
      "Caching...skipping download for 20230416\n",
      "Caching...skipping download for 20230417\n",
      "Caching...skipping download for 20230418\n",
      "Caching...skipping download for 20230419\n",
      "Caching...skipping download for 20230420\n",
      "Caching...skipping download for 20230421\n",
      "failed on 20230422, skipping\n",
      "failed on 20230423, skipping\n",
      "failed on 20230424, skipping\n",
      "failed on 20230425, skipping\n",
      "failed on 20230426, skipping\n",
      "failed on 20230427, skipping\n",
      "failed on 20230428, skipping\n",
      "failed on 20230429, skipping\n",
      "failed on 20230430, skipping\n",
      "failed on 20230501, skipping\n"
     ]
    }
   ],
   "source": [
    "# We make sure that we aren't accessing variables that don't exist in the datasets\n",
    "# This is necessary because some daily NetCDF files don't have all the expected variables\n",
    "# (for example because an instrument was down). In that case, we want to add that variable\n",
    "# to the dataset, filled with nans, which sosutils.merge_datasets_with_different_variables\n",
    "# handles for us\n",
    "datasets = []\n",
    "datasets_safe = []\n",
    "for date in datelist:\n",
    "    try:\n",
    "        ds = xr.open_dataset(sosutils.download_sos_data_day(date, sos_download_dir, cache=True, planar_fit=PLANAR_FIT))\n",
    "    # Some dates are missing\n",
    "    except URLError:\n",
    "        print(f\"failed on {date}, skipping\")\n",
    "    ds_new = ds[set(ds.data_vars).intersection(VARIABLE_NAMES)]\n",
    "    datasets.append(ds_new)\n",
    "    datasets_safe.append(ds_new)\n",
    "sos_ds = sosutils.merge_datasets_with_different_variables(datasets, dim='time')"
   ]
  },
  {
   "attachments": {},
   "cell_type": "markdown",
   "metadata": {},
   "source": [
    "# Fill in missing timestamps (with nans)\n",
    "\n",
    "Note that this occurs if there is missing data at the beginning or end of day - those timestamps will be left out of the dataset. "
   ]
  },
  {
   "cell_type": "code",
   "execution_count": 4,
   "metadata": {},
   "outputs": [],
   "source": [
    "from datetime import datetime\n",
    "from dateutil.relativedelta import relativedelta\n",
    "\n",
    "def date_range(start_date, end_date, increment, period):\n",
    "    result = []\n",
    "    nxt = start_date\n",
    "    delta = relativedelta(**{period:increment})\n",
    "    while nxt <= end_date:\n",
    "        result.append(nxt)\n",
    "        nxt += delta\n",
    "\n",
    "    return result\n"
   ]
  },
  {
   "cell_type": "code",
   "execution_count": 5,
   "metadata": {},
   "outputs": [],
   "source": [
    "dt_list = date_range(pd.to_datetime(sos_ds.time.values[0]), pd.to_datetime(sos_ds.time.values[-1]), 5, 'minutes')"
   ]
  },
  {
   "cell_type": "code",
   "execution_count": 6,
   "metadata": {},
   "outputs": [],
   "source": [
    "sos_ds = sos_ds.drop_duplicates(dim='time').reindex(time=dt_list)"
   ]
  },
  {
   "attachments": {},
   "cell_type": "markdown",
   "metadata": {},
   "source": [
    "# Calculate surface temperatures\n",
    "\n",
    "Add new calculated variables to the dataset\n",
    "\n",
    "From EOL (https://www.eol.ucar.edu/content/calculation-long-wave-radiation)\n",
    "$$\n",
    "R_{lw} = R_{pile} + SB * T_{case}^4\n",
    "$$\n",
    "And the steven-boltzman law\n",
    "$$\n",
    "T_{surface} = \\Big( \\frac {R_{lw}}{ \\epsilon \\sigma } \\Big)^\\frac{1}{4}\n",
    "$$"
   ]
  },
  {
   "cell_type": "code",
   "execution_count": 7,
   "metadata": {},
   "outputs": [
    {
     "name": "stderr",
     "output_type": "stream",
     "text": [
      "/home/elilouis/mambaforge/envs/arm/lib/python3.11/site-packages/xarray/core/computation.py:771: RuntimeWarning: invalid value encountered in log\n",
      "  result_data = func(*input_data)\n",
      "/home/elilouis/mambaforge/envs/arm/lib/python3.11/site-packages/xarray/core/computation.py:771: RuntimeWarning: invalid value encountered in log\n",
      "  result_data = func(*input_data)\n"
     ]
    }
   ],
   "source": [
    "SB = 5.67e-08 # steven boltzman constant, W/m^2/degK^4\n",
    "SNOW_EMMISIVITY = 0.98\n",
    "sos_ds['Tsurf_rad_d'] = ((sos_ds['Rpile_out_9m_d'] + SB * (sos_ds['Tcase_out_9m_d']+273.15)**4)/(SNOW_EMMISIVITY*SB))**(1/4) - 273.15\n",
    "\n",
    "# Surface Temperature\n",
    "# calculate from apogees\n",
    "sos_ds['Tsurf_c'] = (['time'],  sosutils.apogee2temp(sos_ds, 'c').values)\n",
    "sos_ds['Tsurf_d'] = (['time'],  sosutils.apogee2temp(sos_ds, 'd').values)\n",
    "sos_ds['Tsurf_ue'] = (['time'],  sosutils.apogee2temp(sos_ds, 'ue').values)\n",
    "sos_ds['Tsurf_uw'] = (['time'],  sosutils.apogee2temp(sos_ds, 'uw').values)"
   ]
  },
  {
   "attachments": {},
   "cell_type": "markdown",
   "metadata": {},
   "source": [
    "# Calculate potential and virtual potential temperatures in the air\n",
    "\n",
    "Note that we use the `metpy` library here, which assigns units to each dataarray, in a \"object oriented\" way using the `pint` library. You don't really have to worry about this, only to know that it can make working with the data more confusing. Know that at the end of the following cell, when we assign the new variables to the dataset, we remove any remnants of the `pint` library, and we assign an attribute `units` to each new variable so that they somewhat match the variables provided in the original dataset."
   ]
  },
  {
   "cell_type": "code",
   "execution_count": 8,
   "metadata": {},
   "outputs": [],
   "source": [
    "# Potential Temperature\n",
    "# iterate over pressure measurements\n",
    "for i in range(2,21):\n",
    "    absolute_temperature = sos_ds[f'T_{i}m_c'] * units.celsius\n",
    "    relative_humidity = sos_ds[f'RH_{i}m_c']\n",
    "    absolute_pressure = sos_ds['P_10m_c'] * units.millibar\n",
    "    height_relative_to_10m_pressure_sensor = i*units.m - (10*units.m)\n",
    "\n",
    "    height_adj_pressure = metpy.calc.add_height_to_pressure(\n",
    "        absolute_pressure, \n",
    "        height_relative_to_10m_pressure_sensor\n",
    "    )\n",
    "    potential_temperature = metpy.calc.potential_temperature(    \n",
    "            height_adj_pressure,\n",
    "            absolute_temperature\n",
    "    ).pint.to(units.celsius)\n",
    "    mixing_ratio = xr.DataArray(relative_humidity/100) * metpy.calc.saturation_mixing_ratio(\n",
    "        height_adj_pressure,\n",
    "        absolute_temperature\n",
    "    )\n",
    "    air_density = metpy.calc.density(height_adj_pressure, absolute_temperature, mixing_ratio)\n",
    "    virtual_potential_temperature = metpy.calc.virtual_temperature(\n",
    "        potential_temperature,\n",
    "        mixing_ratio,\n",
    "    )\n",
    "\n",
    "    virtual_temperature = metpy.calc.virtual_temperature(\n",
    "        absolute_temperature,\n",
    "        mixing_ratio,\n",
    "    )\n",
    "   \n",
    "    sos_ds[f'Tpot_{i}m_c'] = (['time'], potential_temperature.pint.magnitude)\n",
    "    sos_ds[f'Tpot_{i}m_c'] = sos_ds[f'Tpot_{i}m_c'].assign_attrs(units = str(potential_temperature.pint.units))\n",
    "\n",
    "    sos_ds[f'Tvirtual_{i}m_c'] = (['time'], virtual_temperature.pint.magnitude)\n",
    "    sos_ds[f'Tvirtual_{i}m_c'] = sos_ds[f'Tvirtual_{i}m_c'].assign_attrs(units = str(virtual_temperature.pint.units))\n",
    "\n",
    "    sos_ds[f'Tpotvirtual_{i}m_c'] = (['time'], virtual_potential_temperature.pint.magnitude)\n",
    "    sos_ds[f'Tpotvirtual_{i}m_c'] = sos_ds[f'Tpotvirtual_{i}m_c'].assign_attrs(units = str(virtual_potential_temperature.pint.units))\n",
    "\n",
    "    sos_ds[f'airdensity_{i}m_c'] = (['time'], air_density.pint.magnitude)\n",
    "    sos_ds[f'airdensity_{i}m_c'] = sos_ds[f'airdensity_{i}m_c'].assign_attrs(units = str(air_density.pint.units))\n",
    "\n",
    "    sos_ds[f'mixingratio_{i}m_c'] = (['time'], mixing_ratio.pint.magnitude)\n",
    "    sos_ds[f'mixingratio_{i}m_c'] = sos_ds[f'mixingratio_{i}m_c'].assign_attrs(units = str(mixing_ratio.pint.units))\n"
   ]
  },
  {
   "attachments": {},
   "cell_type": "markdown",
   "metadata": {},
   "source": [
    "# Calculate virtual potential temperatures at the snow surface\n",
    "\n",
    "These are pretty much the same calculations as above, except we use the snow surface temperature from the longwave radiometer instead of air temperature.\n",
    "\n",
    "Also, we assume that relative humidity at the snow surface is 100%"
   ]
  },
  {
   "cell_type": "code",
   "execution_count": 9,
   "metadata": {},
   "outputs": [],
   "source": [
    "height_relative_to_10m_pressure_sensor = - (10*units.m)\n",
    "absolute_temperature = sos_ds['Tsurf_rad_d']*units.celsius\n",
    "relative_humidity = 100\n",
    "\n",
    "potential_temperature = metpy.calc.potential_temperature(    \n",
    "    height_adj_pressure,\n",
    "    absolute_temperature\n",
    ").pint.to(units.celsius)\n",
    "\n",
    "mixing_ratio = xr.DataArray(relative_humidity/100) * metpy.calc.saturation_mixing_ratio(\n",
    "        height_adj_pressure,\n",
    "        absolute_temperature\n",
    "    )\n",
    "air_density = metpy.calc.density(height_adj_pressure, absolute_temperature, mixing_ratio)\n",
    "\n",
    "virtual_potential_temperature = metpy.calc.virtual_temperature(\n",
    "    potential_temperature,\n",
    "    mixing_ratio,\n",
    ")\n",
    "\n",
    "virtual_temperature = metpy.calc.virtual_temperature(\n",
    "    absolute_temperature,\n",
    "    mixing_ratio,\n",
    ")\n",
    "\n",
    "sos_ds[f'Tsurfvirtual_rad_c'] = (['time'], virtual_temperature.pint.magnitude)\n",
    "sos_ds[f'Tsurfvirtual_rad_c'] = sos_ds[f'Tsurfvirtual_rad_c'].assign_attrs(units = str(virtual_temperature.pint.units))\n",
    "\n",
    "sos_ds[f'Tsurfpotvirtual_rad_c'] = (['time'], virtual_potential_temperature.pint.magnitude)\n",
    "sos_ds[f'Tsurfpotvirtual_rad_c'] = sos_ds[f'Tsurfpotvirtual_rad_c'].assign_attrs(units = str(virtual_potential_temperature.pint.units))\n",
    "\n",
    "sos_ds[f'Tsurfairdensity_rad_c'] = (['time'], air_density.pint.magnitude)\n",
    "sos_ds[f'Tsurfairdensity_rad_c'] = sos_ds[f'Tsurfairdensity_rad_c'].assign_attrs(units = str(air_density.pint.units))\n",
    "\n",
    "sos_ds[f'Tsurfmixingratio_rad_c'] = (['time'], mixing_ratio.pint.magnitude)\n",
    "sos_ds[f'Tsurfmixingratio_rad_c'] = sos_ds[f'Tsurfmixingratio_rad_c'].assign_attrs(units = str(mixing_ratio.pint.units))\n",
    "\n",
    "sos_ds[f'Tsurfpot_rad_c'] = (['time'], potential_temperature.pint.magnitude)\n",
    "sos_ds[f'Tsurfpot_rad_c'] = sos_ds[f'Tsurfpot_rad_c'].assign_attrs(units = str(potential_temperature.pint.units))"
   ]
  },
  {
   "attachments": {},
   "cell_type": "markdown",
   "metadata": {},
   "source": [
    "# Calculate turbulent kinetic energy"
   ]
  },
  {
   "cell_type": "code",
   "execution_count": 10,
   "metadata": {},
   "outputs": [],
   "source": [
    "sos_ds['tke_2m_c'] = 0.5*(sos_ds['u_u__2m_c'] + sos_ds['v_v__2m_c'] + sos_ds['w_w__2m_c'])\n",
    "sos_ds['tke_3m_c'] = 0.5*(sos_ds['u_u__3m_c'] + sos_ds['v_v__3m_c'] + sos_ds['w_w__3m_c'])\n",
    "sos_ds['tke_5m_c'] = 0.5*(sos_ds['u_u__5m_c'] + sos_ds['v_v__5m_c'] + sos_ds['w_w__5m_c'])\n",
    "sos_ds['tke_10m_c'] = 0.5*(sos_ds['u_u__10m_c'] + sos_ds['v_v__10m_c'] + sos_ds['w_w__10m_c'])\n",
    "sos_ds['tke_15m_c'] = 0.5*(sos_ds['u_u__15m_c'] + sos_ds['v_v__15m_c'] + sos_ds['w_w__15m_c'])\n",
    "sos_ds['tke_20m_c'] = 0.5*(sos_ds['u_u__20m_c'] + sos_ds['v_v__20m_c'] + sos_ds['w_w__20m_c'])\n",
    "\n",
    "sos_ds['tke_1m_uw'] = 0.5*(sos_ds['u_u__1m_uw'] + sos_ds['v_v__1m_uw'] + sos_ds['w_w__1m_uw'])\n",
    "sos_ds['tke_3m_uw'] = 0.5*(sos_ds['u_u__3m_uw'] + sos_ds['v_v__3m_uw'] + sos_ds['w_w__3m_uw'])\n",
    "sos_ds['tke_10m_uw'] = 0.5*(sos_ds['u_u__10m_uw'] + sos_ds['v_v__10m_uw'] + sos_ds['w_w__10m_uw'])\n",
    "\n",
    "sos_ds['tke_1m_ue'] = 0.5*(sos_ds['u_u__1m_ue'] + sos_ds['v_v__1m_ue'] + sos_ds['w_w__1m_ue'])\n",
    "sos_ds['tke_3m_ue'] = 0.5*(sos_ds['u_u__3m_ue'] + sos_ds['v_v__3m_ue'] + sos_ds['w_w__3m_ue'])\n",
    "sos_ds['tke_10m_ue'] = 0.5*(sos_ds['u_u__10m_ue'] + sos_ds['v_v__10m_ue'] + sos_ds['w_w__10m_ue'])\n",
    "\n",
    "sos_ds['tke_1m_d'] = 0.5*(sos_ds['u_u__1m_d'] + sos_ds['v_v__1m_d'] + sos_ds['w_w__1m_d'])\n",
    "sos_ds['tke_3m_d'] = 0.5*(sos_ds['u_u__3m_d'] + sos_ds['v_v__3m_d'] + sos_ds['w_w__3m_d'])\n",
    "sos_ds['tke_10m_d'] = 0.5*(sos_ds['u_u__10m_d'] + sos_ds['v_v__10m_d'] + sos_ds['w_w__10m_d'])"
   ]
  },
  {
   "attachments": {},
   "cell_type": "markdown",
   "metadata": {},
   "source": [
    "# Calculate gradients and Ri\n",
    "\n",
    "By the methodology of Sun et al., 2011, we cannot calculate gradients at the lowest and highest levels because each gradient calculation requires 3 measurements - the measurement below, at, and above the measurement height."
   ]
  },
  {
   "cell_type": "code",
   "execution_count": 11,
   "metadata": {},
   "outputs": [],
   "source": [
    "sos_ds['wind_gradient_3m_c'] = (['time'], sosutils.calculate_wind_gradient_for_height(sos_ds, 3, 'c').values)\n",
    "sos_ds['wind_gradient_5m_c'] = (['time'], sosutils.calculate_wind_gradient_for_height(sos_ds, 5, 'c').values)\n",
    "sos_ds['wind_gradient_10m_c'] = (['time'], sosutils.calculate_wind_gradient_for_height(sos_ds, 10, 'c').values)\n",
    "sos_ds['wind_gradient_15m_c'] = (['time'], sosutils.calculate_wind_gradient_for_height(sos_ds, 15, 'c').values)\n",
    "\n",
    "sos_ds['temp_gradient_3m_c'] = (['time'], sosutils.calculate_temperature_gradient_for_height(sos_ds, 3, 'c').values)\n",
    "sos_ds['temp_gradient_5m_c'] = (['time'], sosutils.calculate_temperature_gradient_for_height(sos_ds, 5, 'c').values)\n",
    "sos_ds['temp_gradient_10m_c'] = (['time'], sosutils.calculate_temperature_gradient_for_height(sos_ds, 10, 'c').values)\n",
    "sos_ds['temp_gradient_15m_c'] = (['time'], sosutils.calculate_temperature_gradient_for_height(sos_ds, 15, 'c').values)\n",
    "\n",
    "sos_ds['Ri_3m_c'] = (['time'], sosutils.calculate_richardson_number(sos_ds, 3, 'c'))\n",
    "sos_ds['Ri_5m_c'] = (['time'], sosutils.calculate_richardson_number(sos_ds, 5, 'c'))\n",
    "sos_ds['Ri_10m_c'] = (['time'], sosutils.calculate_richardson_number(sos_ds, 10, 'c'))\n",
    "sos_ds['Ri_15m_c'] = (['time'], sosutils.calculate_richardson_number(sos_ds, 15, 'c'))"
   ]
  },
  {
   "cell_type": "code",
   "execution_count": 12,
   "metadata": {},
   "outputs": [],
   "source": [
    "sos_ds['wind_gradient_3m_d'] = (['time'], sosutils.calculate_wind_gradient_for_height(sos_ds, 3, 'd').values)\n",
    "sos_ds['wind_gradient_3m_ue'] = (['time'], sosutils.calculate_wind_gradient_for_height(sos_ds, 3, 'ue').values)\n",
    "sos_ds['wind_gradient_3m_uw'] = (['time'], sosutils.calculate_wind_gradient_for_height(sos_ds, 3, 'uw').values)\n",
    "\n",
    "sos_ds['temp_gradient_3m_d'] = (['time'], sosutils.calculate_temperature_gradient_for_height(sos_ds, 3, 'c').values)\n",
    "sos_ds['temp_gradient_3m_ue'] = (['time'], sosutils.calculate_temperature_gradient_for_height(sos_ds, 3, 'c').values)\n",
    "sos_ds['temp_gradient_3m_uw'] = (['time'], sosutils.calculate_temperature_gradient_for_height(sos_ds, 3, 'c').values)\n",
    "\n",
    "sos_ds['Ri_3m_d'] = (['time'], sosutils.calculate_richardson_number(sos_ds, 3, 'd'))\n",
    "sos_ds['Ri_3m_ue'] = (['time'], sosutils.calculate_richardson_number(sos_ds, 3, 'ue'))\n",
    "sos_ds['Ri_3m_uw'] = (['time'], sosutils.calculate_richardson_number(sos_ds, 3, 'uw'))"
   ]
  },
  {
   "attachments": {},
   "cell_type": "markdown",
   "metadata": {},
   "source": [
    "# Calculate Obukhov length"
   ]
  },
  {
   "attachments": {},
   "cell_type": "markdown",
   "metadata": {},
   "source": [
    "$$ L = \\frac{-\\overline{\\theta_v} u_*^3}{g k \\overline{\\theta_v^`w^`}} $$"
   ]
  },
  {
   "cell_type": "code",
   "execution_count": 13,
   "metadata": {},
   "outputs": [],
   "source": [
    "von_karman_constant = 0.4\n",
    "\n",
    "# iterate over pressure measurements\n",
    "for i in [2,3,5,10,15,20]:\n",
    "    absolute_temperature = sos_ds[f'T_{i}m_c'] * units.celsius\n",
    "    absolute_pressure = sos_ds['P_10m_c'] * units.millibar\n",
    "    height_relative_to_10m_pressure_sensor = i*units.m - (10*units.m)\n",
    "\n",
    "    height_adj_pressure = metpy.calc.add_height_to_pressure(\n",
    "        absolute_pressure, \n",
    "        height_relative_to_10m_pressure_sensor\n",
    "    )\n",
    "\n",
    "    shear_velocity = np.sqrt(np.sqrt(sos_ds[f'u_w__{i}m_c']**2 + sos_ds[f'v_w__{i}m_c']**2))\n",
    "\n",
    "    L = - ( \n",
    "        (273.15 + sos_ds[f'Tvirtual_{i}m_c']) * shear_velocity**3 \n",
    "    ) / (\n",
    "        metpy.constants.g.magnitude * von_karman_constant * sos_ds[f'w_tc__{i}m_c']\n",
    "    )\n",
    "    \n",
    "    sos_ds[f'u*_{i}m_c'] = shear_velocity\n",
    "    sos_ds[f'L_{i}m_c'] = L"
   ]
  },
  {
   "attachments": {},
   "cell_type": "markdown",
   "metadata": {},
   "source": [
    "$$ L = \\frac{-\\overline{\\theta_v} u_*^3}{g k \\overline{\\theta_v^`w^`}} $$\n",
    "\n",
    "But, we don't really need to consider pressure changes with height here, i.e. we don't need to use potential temperature. So we can use an alternate version of the equation\n",
    "\n",
    "$$ L = \\frac{-\\overline{T_v} u_*^3}{g k \\overline{T_v^`w^`}} $$"
   ]
  },
  {
   "cell_type": "code",
   "execution_count": 14,
   "metadata": {},
   "outputs": [
    {
     "data": {
      "text/plain": [
       "[<matplotlib.lines.Line2D at 0x7fdc0fba22d0>]"
      ]
     },
     "execution_count": 14,
     "metadata": {},
     "output_type": "execute_result"
    },
    {
     "data": {
      "image/png": "[encoded data removed]",
      "text/plain": [
       "<Figure size 1200x800 with 5 Axes>"
      ]
     },
     "metadata": {},
     "output_type": "display_data"
    }
   ],
   "source": [
    "i = 2\n",
    "fig, axes = plt.subplots(5, 1, figsize=(12,8), sharex=True)\n",
    "\n",
    "(sos_ds[f'Tpotvirtual_{i}m_c']+273.15)\n",
    "\n",
    "(sos_ds[f'Tvirtual_{i}m_c'] + 273.15).plot(ax = axes[0])\n",
    "axes[0].set_ylabel(r'$\\overline{T_v}$')\n",
    "\n",
    "sos_ds[f'u*_{i}m_c'].plot(ax = axes[1])\n",
    "axes[1].set_ylabel(r'$u_*$')\n",
    "\n",
    "sos_ds[f'w_tc__{i}m_c'].plot(ax = axes[2])\n",
    "axes[2].set_ylabel(r'$\\overline{T_v^, w^,}$')\n",
    "\n",
    "sos_ds[f'L_{i}m_c'].plot(ax = axes[3])\n",
    "axes[3].axhline(-500, color='k', linestyle='--')\n",
    "axes[3].axhline(-100, color='k', linestyle='--')\n",
    "axes[3].axhline(0, color='k', linestyle='--')\n",
    "axes[3].axhline(100, color='k', linestyle='--')\n",
    "axes[3].axhline(500, color='k', linestyle='--')\n",
    "axes[3].set_ylim(-750,750)\n",
    "axes[3].set_ylabel(r'$L$')\n",
    "\n",
    "axes[0].set_title(f\"EC at height {i} meters\")\n",
    "\n",
    "sos_ds[f'Ri_3m_c'].plot(ax = axes[4])"
   ]
  },
  {
   "attachments": {},
   "cell_type": "markdown",
   "metadata": {},
   "source": [
    "# Get Tidy Dataset"
   ]
  },
  {
   "cell_type": "code",
   "execution_count": 15,
   "metadata": {},
   "outputs": [],
   "source": [
    "tidy_df = sosutils.get_tidy_dataset(sos_ds, list(sos_ds.data_vars))"
   ]
  },
  {
   "cell_type": "code",
   "execution_count": 16,
   "metadata": {},
   "outputs": [],
   "source": [
    "tidy_df = sosutils.modify_df_timezone(tidy_df, pytz.UTC, pytz.timezone('US/Mountain'))"
   ]
  },
  {
   "attachments": {},
   "cell_type": "markdown",
   "metadata": {},
   "source": [
    "Which variables did not get a \"measurement\" name assigned?"
   ]
  },
  {
   "cell_type": "code",
   "execution_count": 17,
   "metadata": {},
   "outputs": [
    {
     "data": {
      "text/plain": [
       "array(['Rpile_out_9m_d', 'Tcase_out_9m_d'], dtype=object)"
      ]
     },
     "execution_count": 17,
     "metadata": {},
     "output_type": "execute_result"
    }
   ],
   "source": [
    "variables_with_no_measurement = tidy_df[tidy_df.measurement.apply(lambda x: x is None)].variable.unique()\n",
    "variables_with_no_measurement"
   ]
  },
  {
   "attachments": {},
   "cell_type": "markdown",
   "metadata": {},
   "source": [
    "# Calculate 30 Minute averages"
   ]
  },
  {
   "cell_type": "code",
   "execution_count": 18,
   "metadata": {},
   "outputs": [],
   "source": [
    "SNOW_DEPTH = 0.9\n",
    "PRESSURE_HEIGHT = 10\n",
    "stab_titles, stab_methods, stab_dict = sosutils.get_turbpy_schemes()"
   ]
  },
  {
   "cell_type": "code",
   "execution_count": 19,
   "metadata": {},
   "outputs": [],
   "source": [
    "tidy_df_30Min = pd.DataFrame(\n",
    "    tidy_df.set_index('time').groupby(\n",
    "        ['measurement', 'variable', 'height',  'tower']\n",
    "    )['value'].resample('30Min').mean()\n",
    ").reset_index()"
   ]
  },
  {
   "attachments": {},
   "cell_type": "markdown",
   "metadata": {},
   "source": [
    "## Calculate cumulative sublimation "
   ]
  },
  {
   "cell_type": "code",
   "execution_count": null,
   "metadata": {},
   "outputs": [],
   "source": [
    "tidy_df_30Min = sosutils.tidy_df_add_variable(\n",
    "    tidy_df_30Min,\n",
    "    np.cumsum(tidy_df_30Min.query(\"variable == 'w_h2o__2m_c'\")['value']*60*30).values*1000/(1e6),\n",
    "    \"cumulative sublimation (mm)\",\n",
    "    \"cumulative sublimation (mm)\",\n",
    "    2,\n",
    "    'c'\n",
    ")\n",
    "\n",
    "tidy_df_30Min = sosutils.tidy_df_add_variable(\n",
    "    tidy_df_30Min,\n",
    "    np.cumsum(tidy_df_30Min.query(\"variable == 'w_h2o__3m_c'\")['value']*60*30).values*1000/(1e6),\n",
    "    \"cumulative sublimation (mm)\",\n",
    "    \"cumulative sublimation (mm)\",\n",
    "    3,\n",
    "    'c'\n",
    ")\n",
    "\n",
    "tidy_df_30Min = sosutils.tidy_df_add_variable(\n",
    "    tidy_df_30Min,\n",
    "    np.cumsum(tidy_df_30Min.query(\"variable == 'w_h2o__5m_c'\")['value']*60*30).values*1000/(1e6),\n",
    "    \"cumulative sublimation (mm)\",\n",
    "    \"cumulative sublimation (mm)\",\n",
    "    5,\n",
    "    'c'\n",
    ")\n",
    "\n",
    "tidy_df_30Min = sosutils.tidy_df_add_variable(\n",
    "    tidy_df_30Min,\n",
    "    np.cumsum(tidy_df_30Min.query(\"variable == 'w_h2o__10m_c'\")['value']*60*30).values*1000/(1e6),\n",
    "    \"cumulative sublimation (mm)\",\n",
    "    \"cumulative sublimation (mm)\",\n",
    "    10,\n",
    "    'c'\n",
    ")\n",
    "\n",
    "tidy_df_30Min = sosutils.tidy_df_add_variable(\n",
    "    tidy_df_30Min,\n",
    "    np.cumsum(tidy_df_30Min.query(\"variable == 'w_h2o__20m_c'\")['value']*60*30).values*1000/(1e6),\n",
    "    \"cumulative sublimation (mm)\",\n",
    "    \"cumulative sublimation (mm)\",\n",
    "    20,\n",
    "    'c'\n",
    ")"
   ]
  },
  {
   "attachments": {},
   "cell_type": "markdown",
   "metadata": {},
   "source": [
    "# Save dataset"
   ]
  },
  {
   "cell_type": "code",
   "execution_count": null,
   "metadata": {},
   "outputs": [],
   "source": [
    "if PLANAR_FIT:\n",
    "    tidy_df_30Min.to_parquet(f'tidy_df_30Min_{start_date}_{end_date}_planar_fit.parquet', index=False)\n",
    "else:\n",
    "    tidy_df_30Min.to_parquet(f'tidy_df_30Min_{start_date}_{end_date}_noplanar_fit.parquet', index=False)"
   ]
  },
  {
   "attachments": {},
   "cell_type": "markdown",
   "metadata": {},
   "source": [
    "# Load disdrometer data and calculate \"days since precip\""
   ]
  },
  {
   "cell_type": "code",
   "execution_count": 26,
   "metadata": {},
   "outputs": [],
   "source": [
    "import act"
   ]
  },
  {
   "cell_type": "code",
   "execution_count": 27,
   "metadata": {},
   "outputs": [
    {
     "name": "stdout",
     "output_type": "stream",
     "text": [
      "[DOWNLOADING] gucldM1.b1.20221201.000000.cdf\n",
      "[DOWNLOADING] gucldM1.b1.20230211.000000.cdf\n",
      "[DOWNLOADING] gucldM1.b1.20230418.000000.cdf\n",
      "[DOWNLOADING] gucldM1.b1.20221206.000000.cdf\n",
      "[DOWNLOADING] gucldM1.b1.20221205.000000.cdf\n",
      "[DOWNLOADING] gucldM1.b1.20230416.000000.cdf\n",
      "[DOWNLOADING] gucldM1.b1.20221208.000000.cdf\n",
      "[DOWNLOADING] gucldM1.b1.20221203.000000.cdf\n",
      "[DOWNLOADING] gucldM1.b1.20221204.000000.cdf\n",
      "[DOWNLOADING] gucldM1.b1.20221202.000000.cdf\n",
      "[DOWNLOADING] gucldM1.b1.20230415.000000.cdf\n",
      "[DOWNLOADING] gucldM1.b1.20221207.000000.cdf\n",
      "[DOWNLOADING] gucldM1.b1.20230417.000000.cdf\n",
      "[DOWNLOADING] gucldM1.b1.20230419.000000.cdf\n",
      "[DOWNLOADING] gucldM1.b1.20221209.000000.cdf\n",
      "[DOWNLOADING] gucldM1.b1.20221211.000000.cdf\n",
      "[DOWNLOADING] gucldM1.b1.20230212.000000.cdf\n",
      "[DOWNLOADING] gucldM1.b1.20230420.000000.cdf\n",
      "[DOWNLOADING] gucldM1.b1.20221210.000000.cdf\n",
      "[DOWNLOADING] gucldM1.b1.20230421.000000.cdf\n",
      "[DOWNLOADING] gucldM1.b1.20230422.000000.cdf\n",
      "[DOWNLOADING] gucldM1.b1.20230214.000000.cdf\n",
      "[DOWNLOADING] gucldM1.b1.20230213.000000.cdf\n",
      "[DOWNLOADING] gucldM1.b1.20230426.000000.cdf\n",
      "[DOWNLOADING] gucldM1.b1.20221212.000000.cdf\n",
      "[DOWNLOADING] gucldM1.b1.20230423.000000.cdf\n",
      "[DOWNLOADING] gucldM1.b1.20230215.000000.cdf\n",
      "[DOWNLOADING] gucldM1.b1.20230424.000000.cdf\n",
      "[DOWNLOADING] gucldM1.b1.20230425.000000.cdf\n",
      "[DOWNLOADING] gucldM1.b1.20221213.000000.cdf\n",
      "[DOWNLOADING] gucldM1.b1.20230216.000000.cdf\n",
      "[DOWNLOADING] gucldM1.b1.20230217.000000.cdf\n",
      "[DOWNLOADING] gucldM1.b1.20230222.000000.cdf\n",
      "[DOWNLOADING] gucldM1.b1.20230218.000000.cdf\n",
      "[DOWNLOADING] gucldM1.b1.20230223.000000.cdf\n",
      "[DOWNLOADING] gucldM1.b1.20230219.000000.cdf\n",
      "[DOWNLOADING] gucldM1.b1.20230427.000000.cdf\n",
      "[DOWNLOADING] gucldM1.b1.20230220.000000.cdf\n",
      "[DOWNLOADING] gucldM1.b1.20230221.000000.cdf\n",
      "[DOWNLOADING] gucldM1.b1.20230224.000000.cdf\n",
      "[DOWNLOADING] gucldM1.b1.20221214.000000.cdf\n",
      "[DOWNLOADING] gucldM1.b1.20230225.000000.cdf\n",
      "[DOWNLOADING] gucldM1.b1.20230227.000000.cdf\n",
      "[DOWNLOADING] gucldM1.b1.20221215.000000.cdf\n",
      "[DOWNLOADING] gucldM1.b1.20221216.000000.cdf\n",
      "[DOWNLOADING] gucldM1.b1.20230228.000000.cdf\n",
      "[DOWNLOADING] gucldM1.b1.20230226.000000.cdf\n",
      "[DOWNLOADING] gucldM1.b1.20221217.000000.cdf\n",
      "[DOWNLOADING] gucldM1.b1.20221218.000000.cdf\n",
      "[DOWNLOADING] gucldM1.b1.20221219.000000.cdf\n",
      "[DOWNLOADING] gucldM1.b1.20221220.000000.cdf\n",
      "[DOWNLOADING] gucldM1.b1.20221221.000000.cdf\n",
      "[DOWNLOADING] gucldM1.b1.20221222.000000.cdf\n",
      "[DOWNLOADING] gucldM1.b1.20221223.000000.cdf\n",
      "[DOWNLOADING] gucldM1.b1.20221224.000000.cdf\n",
      "[DOWNLOADING] gucldM1.b1.20221225.000000.cdf\n",
      "[DOWNLOADING] gucldM1.b1.20221226.000000.cdf\n",
      "[DOWNLOADING] gucldM1.b1.20221227.000000.cdf\n",
      "[DOWNLOADING] gucldM1.b1.20221228.000000.cdf\n",
      "[DOWNLOADING] gucldM1.b1.20221229.000000.cdf\n",
      "[DOWNLOADING] gucldM1.b1.20221230.000000.cdf\n",
      "[DOWNLOADING] gucldM1.b1.20221231.000000.cdf\n",
      "[DOWNLOADING] gucldM1.b1.20230101.000000.cdf\n",
      "[DOWNLOADING] gucldM1.b1.20230102.000000.cdf\n",
      "[DOWNLOADING] gucldM1.b1.20230103.000000.cdf\n",
      "[DOWNLOADING] gucldM1.b1.20230104.000000.cdf\n",
      "[DOWNLOADING] gucldM1.b1.20230428.000000.cdf\n",
      "[DOWNLOADING] gucldM1.b1.20230105.000000.cdf\n",
      "[DOWNLOADING] gucldM1.b1.20230106.000000.cdf\n",
      "[DOWNLOADING] gucldM1.b1.20230107.000000.cdf\n",
      "[DOWNLOADING] gucldM1.b1.20230108.000000.cdf\n",
      "[DOWNLOADING] gucldM1.b1.20230303.000000.cdf\n",
      "[DOWNLOADING] gucldM1.b1.20230109.000000.cdf\n",
      "[DOWNLOADING] gucldM1.b1.20230110.000000.cdf\n",
      "[DOWNLOADING] gucldM1.b1.20230302.000000.cdf\n",
      "[DOWNLOADING] gucldM1.b1.20230304.000000.cdf\n",
      "[DOWNLOADING] gucldM1.b1.20230111.000000.cdf\n",
      "[DOWNLOADING] gucldM1.b1.20230301.000000.cdf\n",
      "[DOWNLOADING] gucldM1.b1.20230112.000000.cdf\n",
      "[DOWNLOADING] gucldM1.b1.20230113.000000.cdf\n",
      "[DOWNLOADING] gucldM1.b1.20230114.000000.cdf\n",
      "[DOWNLOADING] gucldM1.b1.20230115.000000.cdf\n",
      "[DOWNLOADING] gucldM1.b1.20230116.000000.cdf\n",
      "[DOWNLOADING] gucldM1.b1.20230117.000000.cdf\n",
      "[DOWNLOADING] gucldM1.b1.20230305.000000.cdf\n",
      "[DOWNLOADING] gucldM1.b1.20230309.000000.cdf\n",
      "[DOWNLOADING] gucldM1.b1.20230311.000000.cdf\n",
      "[DOWNLOADING] gucldM1.b1.20230118.000000.cdf\n",
      "[DOWNLOADING] gucldM1.b1.20230306.000000.cdf\n",
      "[DOWNLOADING] gucldM1.b1.20230119.000000.cdf\n",
      "[DOWNLOADING] gucldM1.b1.20230120.000000.cdf\n",
      "[DOWNLOADING] gucldM1.b1.20230121.000000.cdf\n",
      "[DOWNLOADING] gucldM1.b1.20230312.000000.cdf\n",
      "[DOWNLOADING] gucldM1.b1.20230122.000000.cdf\n",
      "[DOWNLOADING] gucldM1.b1.20230123.000000.cdf\n",
      "[DOWNLOADING] gucldM1.b1.20230124.000000.cdf\n",
      "[DOWNLOADING] gucldM1.b1.20230125.000000.cdf\n",
      "[DOWNLOADING] gucldM1.b1.20230307.000000.cdf\n",
      "[DOWNLOADING] gucldM1.b1.20230126.000000.cdf\n",
      "[DOWNLOADING] gucldM1.b1.20230127.000000.cdf\n",
      "[DOWNLOADING] gucldM1.b1.20230128.000000.cdf\n",
      "[DOWNLOADING] gucldM1.b1.20230129.000000.cdf\n",
      "[DOWNLOADING] gucldM1.b1.20230130.000000.cdf\n",
      "[DOWNLOADING] gucldM1.b1.20230201.000000.cdf\n",
      "[DOWNLOADING] gucldM1.b1.20230202.000000.cdf\n",
      "[DOWNLOADING] gucldM1.b1.20230203.000000.cdf\n",
      "[DOWNLOADING] gucldM1.b1.20230204.000000.cdf\n",
      "[DOWNLOADING] gucldM1.b1.20230310.000000.cdf\n",
      "[DOWNLOADING] gucldM1.b1.20230308.000000.cdf\n",
      "[DOWNLOADING] gucldM1.b1.20230205.000000.cdf\n",
      "[DOWNLOADING] gucldM1.b1.20230206.000000.cdf\n",
      "[DOWNLOADING] gucldM1.b1.20230131.000000.cdf\n",
      "[DOWNLOADING] gucldM1.b1.20230313.000000.cdf\n",
      "[DOWNLOADING] gucldM1.b1.20230207.000000.cdf\n",
      "[DOWNLOADING] gucldM1.b1.20230208.000000.cdf\n",
      "[DOWNLOADING] gucldM1.b1.20230314.000000.cdf\n",
      "[DOWNLOADING] gucldM1.b1.20230209.000000.cdf\n",
      "[DOWNLOADING] gucldM1.b1.20230429.000000.cdf\n",
      "[DOWNLOADING] gucldM1.b1.20230210.000000.cdf\n",
      "[DOWNLOADING] gucldM1.b1.20230430.000000.cdf\n",
      "[DOWNLOADING] gucldM1.b1.20230501.000000.cdf\n",
      "[DOWNLOADING] gucldM1.b1.20230315.000000.cdf\n",
      "[DOWNLOADING] gucldM1.b1.20230316.000000.cdf\n",
      "[DOWNLOADING] gucldM1.b1.20230317.000000.cdf\n",
      "[DOWNLOADING] gucldM1.b1.20230318.000000.cdf\n",
      "[DOWNLOADING] gucldM1.b1.20230319.000000.cdf\n",
      "[DOWNLOADING] gucldM1.b1.20230320.000000.cdf\n",
      "[DOWNLOADING] gucldM1.b1.20230321.000000.cdf\n",
      "[DOWNLOADING] gucldM1.b1.20230322.000000.cdf\n",
      "[DOWNLOADING] gucldM1.b1.20230323.000000.cdf\n",
      "[DOWNLOADING] gucldM1.b1.20230324.000000.cdf\n",
      "[DOWNLOADING] gucldM1.b1.20230325.000000.cdf\n",
      "[DOWNLOADING] gucldM1.b1.20230326.000000.cdf\n",
      "[DOWNLOADING] gucldM1.b1.20230327.000000.cdf\n",
      "[DOWNLOADING] gucldM1.b1.20230328.000000.cdf\n",
      "[DOWNLOADING] gucldM1.b1.20230329.000000.cdf\n",
      "[DOWNLOADING] gucldM1.b1.20230330.000000.cdf\n",
      "[DOWNLOADING] gucldM1.b1.20230331.000000.cdf\n",
      "[DOWNLOADING] gucldM1.b1.20230401.000000.cdf\n",
      "[DOWNLOADING] gucldM1.b1.20230402.000000.cdf\n",
      "[DOWNLOADING] gucldM1.b1.20230403.000000.cdf\n",
      "[DOWNLOADING] gucldM1.b1.20230404.000000.cdf\n",
      "[DOWNLOADING] gucldM1.b1.20230405.000000.cdf\n",
      "[DOWNLOADING] gucldM1.b1.20230406.000000.cdf\n",
      "[DOWNLOADING] gucldM1.b1.20230407.000000.cdf\n",
      "[DOWNLOADING] gucldM1.b1.20230408.000000.cdf\n",
      "[DOWNLOADING] gucldM1.b1.20230409.000000.cdf\n",
      "[DOWNLOADING] gucldM1.b1.20230410.000000.cdf\n",
      "[DOWNLOADING] gucldM1.b1.20230411.000000.cdf\n",
      "[DOWNLOADING] gucldM1.b1.20230412.000000.cdf\n",
      "[DOWNLOADING] gucldM1.b1.20230413.000000.cdf\n",
      "[DOWNLOADING] gucldM1.b1.20230414.000000.cdf\n"
     ]
    }
   ],
   "source": [
    "files = act.discovery.download_data(\n",
    "    os.getenv(\"ARM_USERNAME\"),\n",
    "    os.getenv(\"ARM_TOKEN\"),\n",
    "    'gucldM1.b1',\n",
    "    start_date,\n",
    "    end_date,\n",
    "    output='/data2/elilouis/sublimationofsnow/gucldM1.b1'\n",
    ")"
   ]
  },
  {
   "cell_type": "code",
   "execution_count": 28,
   "metadata": {},
   "outputs": [],
   "source": [
    "disdro_ds = xr.open_mfdataset(files)\n",
    "disdro_df = disdro_ds.to_dataframe().reset_index()"
   ]
  },
  {
   "cell_type": "code",
   "execution_count": null,
   "metadata": {},
   "outputs": [],
   "source": [
    "disdro_daily_max_precip_date_df = disdro_df.set_index(\n",
    "    \"time\"\n",
    ")[['precip_rate']].resample(\n",
    "    \"1440Min\"\n",
    ").max().reset_index()\n",
    "\n",
    "disdro_daily_mean_precip_date_df = disdro_df.set_index(\n",
    "    \"time\"\n",
    ")[['precip_rate']].resample(\n",
    "    \"1440Min\"\n",
    ").max().reset_index()\n",
    "\n",
    "s = disdro_daily_max_precip_date_df.groupby(disdro_daily_max_precip_date_df['precip_rate'].ne(0).cumsum())['time'].transform('first')\n",
    "disdro_daily_max_precip_date_df['days_since_precip'] = (disdro_daily_max_precip_date_df['time'] - s).dt.days"
   ]
  },
  {
   "cell_type": "code",
   "execution_count": null,
   "metadata": {},
   "outputs": [],
   "source": [
    "daily_mean_precip_df = disdro_df.groupby(\"time\")['precip_rate'].max()\n",
    "\n",
    "daily_mean_precip_df = pd.DataFrame(daily_mean_precip_df.resample(\"1440Min\").mean()*24/10) # resample to one day in cm/hr SWE"
   ]
  },
  {
   "cell_type": "code",
   "execution_count": null,
   "metadata": {},
   "outputs": [],
   "source": [
    "disdro_daily_max_precip_date_df['daily_precip (cm)'] =  daily_mean_precip_df['precip_rate'].values"
   ]
  },
  {
   "cell_type": "code",
   "execution_count": null,
   "metadata": {},
   "outputs": [],
   "source": [
    "disdro_daily_max_precip_date_df"
   ]
  },
  {
   "attachments": {},
   "cell_type": "markdown",
   "metadata": {},
   "source": [
    "## Cache Downloaded Disdrometer data"
   ]
  },
  {
   "cell_type": "code",
   "execution_count": null,
   "metadata": {},
   "outputs": [],
   "source": [
    "disdro_daily_max_precip_date_df.to_csv(\"disdro_daily_max_precip_date_df.csv\")"
   ]
  },
  {
   "cell_type": "code",
   "execution_count": null,
   "metadata": {},
   "outputs": [],
   "source": []
  }
 ],
 "metadata": {
  "kernelspec": {
   "display_name": "arm",
   "language": "python",
   "name": "python3"
  },
  "language_info": {
   "codemirror_mode": {
    "name": "ipython",
    "version": 3
   },
   "file_extension": ".py",
   "mimetype": "text/x-python",
   "name": "python",
   "nbconvert_exporter": "python",
   "pygments_lexer": "ipython3",
   "version": "3.11.0"
  },
  "orig_nbformat": 4
 },
 "nbformat": 4,
 "nbformat_minor": 2
}
