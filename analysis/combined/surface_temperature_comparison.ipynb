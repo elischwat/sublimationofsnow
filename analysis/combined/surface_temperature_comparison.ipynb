{
 "cells": [
  {
   "cell_type": "code",
   "execution_count": 1,
   "metadata": {},
   "outputs": [],
   "source": [
    "import os\n",
    "import act\n",
    "import xarray as xr\n",
    "import glob\n",
    "import pandas as pd\n",
    "from sublimpy import utils"
   ]
  },
  {
   "cell_type": "code",
   "execution_count": 2,
   "metadata": {},
   "outputs": [],
   "source": [
    "start_date = '20221101'\n",
    "end_date = '20230619'\n",
    "data_start_date = '20221130'\n",
    "data_cutoff_date = '20230508'\n",
    "\n",
    "## PARAMETERS FOR SOS DATA\n",
    "# streamwise coordinates\n",
    "sos_tidy_fn = f\"tidy_df_{start_date}_{end_date}_planar_fit_multiplane.parquet\"\n",
    "# sos_tidy_fn = f\"tidy_df_{start_date}_{end_date}_planar_fit_multiplane_flaggeddataremains.parquet\"\n",
    "# slope relative local earth coodinates\n",
    "# sos_tidy_fn = f\"tidy_df_{start_date}_{end_date}_planar_fit.parquet\"\n",
    "# seemingly local earth coodinates\n",
    "# sos_tidy_fn = f\"tidy_df_{start_date}_{end_date}_noplanar_fit.parquet\"\n",
    "\n",
    "## PARAMETERS FOR SPLASH DATA\n",
    "# download dir\n",
    "avp_download_dir = \"/Users/elischwat/Development/data/sublimationofsnow/asfs/ASFS-50_Level2_SPLASH2021-2023/\"\n",
    "kps_download_dir = \"/Users/elischwat/Development/data/sublimationofsnow/asfs/ASFS-30_Level2_SPLASH2021-2023/\"\n",
    "\n",
    "ftp_url = 'ftp1.esrl.noaa.gov'\n",
    "# Avery Picnic product\n",
    "avp_url = f'Observations/Campaigns/SPLASH/asfs50/2_level_ingest/'\n",
    "# Kettle Ponds product\n",
    "kps_url = f'Observations/Campaigns/SPLASH/asfs30/2_level_ingest/'\n",
    "\n",
    "splash_download_dir = '/Users/elischwat/Development/data/sublimationofsnow/'"
   ]
  },
  {
   "cell_type": "markdown",
   "metadata": {},
   "source": [
    "# Open data"
   ]
  },
  {
   "cell_type": "markdown",
   "metadata": {},
   "source": [
    "## SOS"
   ]
  },
  {
   "cell_type": "code",
   "execution_count": 3,
   "metadata": {},
   "outputs": [],
   "source": [
    "tidy_df = pd.read_parquet('../paper1/' + sos_tidy_fn)\n",
    "\n",
    "# Convert data timezone to local and clean up data on the ends\n",
    "# convert time column to datetime\n",
    "tidy_df['time'] = pd.to_datetime(tidy_df['time'])\n",
    "tidy_df = utils.modify_df_timezone(tidy_df, 'UTC', 'US/Mountain')\n",
    "# limit data to our dates of interest, based on continuous snow cover at Kettle Ponds\n",
    "\n",
    "tidy_df = tidy_df.set_index('time').sort_index().loc[data_start_date:data_cutoff_date].reset_index()"
   ]
  },
  {
   "cell_type": "code",
   "execution_count": 4,
   "metadata": {},
   "outputs": [
    {
     "data": {
      "text/plain": [
       "value\n",
       "(292, 332]    0.426070\n",
       "(80, 140]     0.230684\n",
       "(140, 292]    0.157449\n",
       "(332, 360]    0.101584\n",
       "(0, 80]       0.084213\n",
       "Name: count, dtype: float64"
      ]
     },
     "execution_count": 4,
     "metadata": {},
     "output_type": "execute_result"
    }
   ],
   "source": [
    "src = tidy_df.query(f\"variable == 'dir_3m_c'\")['value'].dropna()\n",
    "pd.cut(\n",
    "    src,\n",
    "    [0,80, 140, 292,332, 360]\n",
    ").value_counts() / len(src)"
   ]
  },
  {
   "cell_type": "markdown",
   "metadata": {},
   "source": [
    "# SAIL data"
   ]
  },
  {
   "cell_type": "code",
   "execution_count": 5,
   "metadata": {},
   "outputs": [],
   "source": [
    "username = os.getenv(\"ARM_USERNAME\")\n",
    "token = os.getenv(\"ARM_TOKEN\")\n",
    "ecor_gothic = 'guc30ecorM1.b1'\n",
    "ecor_kp = 'guc30ecorS3.b1'\n",
    "met_gothic = 'gucmetM1.b1'\n",
    "rad_gothic = 'gucgndrad60sM1.b1'\n",
    "irt_gothic = 'gucgndirtM1.b1'\n",
    "sebs_kp = 'gucsebsS3.b1'"
   ]
  },
  {
   "cell_type": "markdown",
   "metadata": {},
   "source": [
    "## Download ECOR and MET data"
   ]
  },
  {
   "cell_type": "code",
   "execution_count": 6,
   "metadata": {},
   "outputs": [],
   "source": [
    "gothic_sail_ecor_download_dir = os.path.join(splash_download_dir, ecor_gothic)\n",
    "\n",
    "gothic_sail_met_download_dir = os.path.join(splash_download_dir, met_gothic)"
   ]
  },
  {
   "cell_type": "code",
   "execution_count": 7,
   "metadata": {},
   "outputs": [],
   "source": [
    "# act.discovery.download_arm_data(\n",
    "#     username,    token,    ecor_gothic,    \n",
    "#     start_date,\n",
    "#     end_date,\n",
    "#     output = gothic_sail_ecor_download_dir\n",
    "# )"
   ]
  },
  {
   "cell_type": "code",
   "execution_count": 8,
   "metadata": {},
   "outputs": [],
   "source": [
    "# act.discovery.download_arm_data(\n",
    "#     username,    token,    met_gothic,    \n",
    "#     start_date,\n",
    "#     end_date,\n",
    "#     output = gothic_sail_met_download_dir\n",
    "# )"
   ]
  },
  {
   "cell_type": "markdown",
   "metadata": {},
   "source": [
    "## Download SEBS data"
   ]
  },
  {
   "cell_type": "code",
   "execution_count": 9,
   "metadata": {},
   "outputs": [
    {
     "data": {
      "text/plain": [
       "'/Users/elischwat/Development/data/sublimationofsnow/gucsebsS3.b1'"
      ]
     },
     "execution_count": 9,
     "metadata": {},
     "output_type": "execute_result"
    }
   ],
   "source": [
    "kp_sail_sebs_download_dir = os.path.join(splash_download_dir, sebs_kp)\n",
    "kp_sail_sebs_download_dir"
   ]
  },
  {
   "cell_type": "code",
   "execution_count": 10,
   "metadata": {},
   "outputs": [],
   "source": [
    "# act.discovery.download_arm_data(\n",
    "#     username,    token,    sebs_kp,    \n",
    "#     start_date,\n",
    "#     end_date,\n",
    "#     output = kp_sail_sebs_download_dir\n",
    "# )"
   ]
  },
  {
   "cell_type": "markdown",
   "metadata": {},
   "source": [
    "## Download radiation data"
   ]
  },
  {
   "cell_type": "code",
   "execution_count": 11,
   "metadata": {},
   "outputs": [
    {
     "data": {
      "text/plain": [
       "'/Users/elischwat/Development/data/sublimationofsnow/gucgndrad60sM1.b1'"
      ]
     },
     "execution_count": 11,
     "metadata": {},
     "output_type": "execute_result"
    }
   ],
   "source": [
    "gothic_sail_rad_download_dir = os.path.join(splash_download_dir, rad_gothic)\n",
    "gothic_sail_rad_download_dir"
   ]
  },
  {
   "cell_type": "code",
   "execution_count": 12,
   "metadata": {},
   "outputs": [],
   "source": [
    "# act.discovery.download_arm_data(\n",
    "#     username,    token,    rad_gothic,    \n",
    "#     start_date,\n",
    "#     end_date,\n",
    "#     output = gothic_sail_rad_download_dir\n",
    "# )"
   ]
  },
  {
   "cell_type": "markdown",
   "metadata": {},
   "source": [
    "## Download the infrared thermometer measurements"
   ]
  },
  {
   "cell_type": "code",
   "execution_count": 13,
   "metadata": {},
   "outputs": [
    {
     "data": {
      "text/plain": [
       "'/Users/elischwat/Development/data/sublimationofsnow/gucgndirtM1.b1'"
      ]
     },
     "execution_count": 13,
     "metadata": {},
     "output_type": "execute_result"
    }
   ],
   "source": [
    "gothic_sail_irt_download_dir = os.path.join(splash_download_dir, irt_gothic)\n",
    "gothic_sail_irt_download_dir"
   ]
  },
  {
   "cell_type": "code",
   "execution_count": 14,
   "metadata": {},
   "outputs": [],
   "source": [
    "# act.discovery.download_arm_data(\n",
    "#     username,    token,    irt_gothic,    \n",
    "#     start_date,\n",
    "#     end_date,\n",
    "#     output = gothic_sail_irt_download_dir\n",
    "# )"
   ]
  },
  {
   "cell_type": "markdown",
   "metadata": {},
   "source": [
    "## Open it all"
   ]
  },
  {
   "cell_type": "code",
   "execution_count": 15,
   "metadata": {},
   "outputs": [
    {
     "ename": "ValueError",
     "evalue": "did not find a match in any of xarray's currently installed IO backends ['netcdf4', 'scipy', 'gini', 'rasterio']. Consider explicitly selecting one of the installed engines via the ``engine`` parameter, or installing additional IO dependencies, see:\nhttps://docs.xarray.dev/en/stable/getting-started-guide/installing.html\nhttps://docs.xarray.dev/en/stable/user-guide/io.html",
     "output_type": "error",
     "traceback": [
      "\u001b[0;31m---------------------------------------------------------------------------\u001b[0m",
      "\u001b[0;31mValueError\u001b[0m                                Traceback (most recent call last)",
      "Cell \u001b[0;32mIn[15], line 13\u001b[0m\n\u001b[1;32m      7\u001b[0m rad_gothic_ds \u001b[38;5;241m=\u001b[39m act\u001b[38;5;241m.\u001b[39mio\u001b[38;5;241m.\u001b[39mread_arm_netcdf(\n\u001b[1;32m      8\u001b[0m     glob\u001b[38;5;241m.\u001b[39mglob(os\u001b[38;5;241m.\u001b[39mpath\u001b[38;5;241m.\u001b[39mjoin(splash_download_dir, rad_gothic, \u001b[38;5;124m'\u001b[39m\u001b[38;5;124m*.cdf\u001b[39m\u001b[38;5;124m'\u001b[39m))\n\u001b[1;32m      9\u001b[0m )\u001b[38;5;241m.\u001b[39msel(time \u001b[38;5;241m=\u001b[39m \u001b[38;5;28mslice\u001b[39m(\u001b[38;5;124m\"\u001b[39m\u001b[38;5;124m2023-02-01\u001b[39m\u001b[38;5;124m\"\u001b[39m, \u001b[38;5;124m\"\u001b[39m\u001b[38;5;124m2023-02-08\u001b[39m\u001b[38;5;124m\"\u001b[39m))\n\u001b[1;32m     10\u001b[0m ecor_gothic_ds \u001b[38;5;241m=\u001b[39m act\u001b[38;5;241m.\u001b[39mio\u001b[38;5;241m.\u001b[39mread_arm_netcdf(\n\u001b[1;32m     11\u001b[0m     glob\u001b[38;5;241m.\u001b[39mglob(os\u001b[38;5;241m.\u001b[39mpath\u001b[38;5;241m.\u001b[39mjoin(splash_download_dir, ecor_gothic, \u001b[38;5;124m'\u001b[39m\u001b[38;5;124m*.cdf\u001b[39m\u001b[38;5;124m'\u001b[39m))\n\u001b[1;32m     12\u001b[0m )\u001b[38;5;241m.\u001b[39msel(time \u001b[38;5;241m=\u001b[39m \u001b[38;5;28mslice\u001b[39m(\u001b[38;5;124m\"\u001b[39m\u001b[38;5;124m2023-02-01\u001b[39m\u001b[38;5;124m\"\u001b[39m, \u001b[38;5;124m\"\u001b[39m\u001b[38;5;124m2023-02-08\u001b[39m\u001b[38;5;124m\"\u001b[39m))\n\u001b[0;32m---> 13\u001b[0m met_gothic_ds \u001b[38;5;241m=\u001b[39m \u001b[43mact\u001b[49m\u001b[38;5;241;43m.\u001b[39;49m\u001b[43mio\u001b[49m\u001b[38;5;241;43m.\u001b[39;49m\u001b[43mread_arm_netcdf\u001b[49m\u001b[43m(\u001b[49m\n\u001b[1;32m     14\u001b[0m \u001b[43m    \u001b[49m\u001b[43mglob\u001b[49m\u001b[38;5;241;43m.\u001b[39;49m\u001b[43mglob\u001b[49m\u001b[43m(\u001b[49m\u001b[43mos\u001b[49m\u001b[38;5;241;43m.\u001b[39;49m\u001b[43mpath\u001b[49m\u001b[38;5;241;43m.\u001b[39;49m\u001b[43mjoin\u001b[49m\u001b[43m(\u001b[49m\u001b[43msplash_download_dir\u001b[49m\u001b[43m,\u001b[49m\u001b[43m \u001b[49m\u001b[43mmet_gothic\u001b[49m\u001b[43m,\u001b[49m\u001b[43m \u001b[49m\u001b[38;5;124;43m'\u001b[39;49m\u001b[38;5;124;43m*.cdf\u001b[39;49m\u001b[38;5;124;43m'\u001b[39;49m\u001b[43m)\u001b[49m\u001b[43m)\u001b[49m\n\u001b[1;32m     15\u001b[0m \u001b[43m)\u001b[49m\u001b[38;5;241m.\u001b[39msel(time \u001b[38;5;241m=\u001b[39m \u001b[38;5;28mslice\u001b[39m(\u001b[38;5;124m\"\u001b[39m\u001b[38;5;124m2023-02-01\u001b[39m\u001b[38;5;124m\"\u001b[39m, \u001b[38;5;124m\"\u001b[39m\u001b[38;5;124m2023-02-08\u001b[39m\u001b[38;5;124m\"\u001b[39m))\n",
      "File \u001b[0;32m~/miniforge3/envs/sublimationofsnow/lib/python3.12/site-packages/act/io/arm.py:172\u001b[0m, in \u001b[0;36mread_arm_netcdf\u001b[0;34m(filenames, concat_dim, return_None, combine, decode_times, use_cftime, use_base_time, combine_attrs, cleanup_qc, keep_variables, **kwargs)\u001b[0m\n\u001b[1;32m    168\u001b[0m         ds \u001b[38;5;241m=\u001b[39m xr\u001b[38;5;241m.\u001b[39mopen_mfdataset(filenames, \u001b[38;5;241m*\u001b[39m\u001b[38;5;241m*\u001b[39mkwargs)\n\u001b[1;32m    170\u001b[0m     \u001b[38;5;28;01melse\u001b[39;00m:\n\u001b[1;32m    171\u001b[0m         \u001b[38;5;66;03m# When all else fails raise the orginal exception\u001b[39;00m\n\u001b[0;32m--> 172\u001b[0m         \u001b[38;5;28;01mraise\u001b[39;00m exception\n\u001b[1;32m    174\u001b[0m \u001b[38;5;66;03m# If requested use base_time and time_offset to derive time. Assumes that the units\u001b[39;00m\n\u001b[1;32m    175\u001b[0m \u001b[38;5;66;03m# of both are in seconds and that the value is number of seconds since epoch.\u001b[39;00m\n\u001b[1;32m    176\u001b[0m \u001b[38;5;28;01mif\u001b[39;00m use_base_time:\n",
      "File \u001b[0;32m~/miniforge3/envs/sublimationofsnow/lib/python3.12/site-packages/act/io/arm.py:147\u001b[0m, in \u001b[0;36mread_arm_netcdf\u001b[0;34m(filenames, concat_dim, return_None, combine, decode_times, use_cftime, use_base_time, combine_attrs, cleanup_qc, keep_variables, **kwargs)\u001b[0m\n\u001b[1;32m    143\u001b[0m     except_tuple \u001b[38;5;241m=\u001b[39m except_tuple \u001b[38;5;241m+\u001b[39m (\u001b[38;5;167;01mFileNotFoundError\u001b[39;00m, \u001b[38;5;167;01mOSError\u001b[39;00m)\n\u001b[1;32m    145\u001b[0m \u001b[38;5;28;01mtry\u001b[39;00m:\n\u001b[1;32m    146\u001b[0m     \u001b[38;5;66;03m# Read data file with Xarray function\u001b[39;00m\n\u001b[0;32m--> 147\u001b[0m     ds \u001b[38;5;241m=\u001b[39m \u001b[43mxr\u001b[49m\u001b[38;5;241;43m.\u001b[39;49m\u001b[43mopen_mfdataset\u001b[49m\u001b[43m(\u001b[49m\u001b[43mfilenames\u001b[49m\u001b[43m,\u001b[49m\u001b[43m \u001b[49m\u001b[38;5;241;43m*\u001b[39;49m\u001b[38;5;241;43m*\u001b[39;49m\u001b[43mkwargs\u001b[49m\u001b[43m)\u001b[49m\n\u001b[1;32m    149\u001b[0m \u001b[38;5;28;01mexcept\u001b[39;00m except_tuple \u001b[38;5;28;01mas\u001b[39;00m exception:\n\u001b[1;32m    150\u001b[0m     \u001b[38;5;66;03m# If requested return None for File not found error\u001b[39;00m\n\u001b[1;32m    151\u001b[0m     \u001b[38;5;28;01mif\u001b[39;00m \u001b[38;5;28mtype\u001b[39m(exception)\u001b[38;5;241m.\u001b[39m\u001b[38;5;18m__name__\u001b[39m \u001b[38;5;241m==\u001b[39m \u001b[38;5;124m'\u001b[39m\u001b[38;5;124mFileNotFoundError\u001b[39m\u001b[38;5;124m'\u001b[39m:\n",
      "File \u001b[0;32m~/miniforge3/envs/sublimationofsnow/lib/python3.12/site-packages/xarray/backends/api.py:1077\u001b[0m, in \u001b[0;36mopen_mfdataset\u001b[0;34m(paths, chunks, concat_dim, compat, preprocess, engine, data_vars, coords, combine, parallel, join, attrs_file, combine_attrs, **kwargs)\u001b[0m\n\u001b[1;32m   1074\u001b[0m     open_ \u001b[38;5;241m=\u001b[39m open_dataset\n\u001b[1;32m   1075\u001b[0m     getattr_ \u001b[38;5;241m=\u001b[39m \u001b[38;5;28mgetattr\u001b[39m\n\u001b[0;32m-> 1077\u001b[0m datasets \u001b[38;5;241m=\u001b[39m [\u001b[43mopen_\u001b[49m\u001b[43m(\u001b[49m\u001b[43mp\u001b[49m\u001b[43m,\u001b[49m\u001b[43m \u001b[49m\u001b[38;5;241;43m*\u001b[39;49m\u001b[38;5;241;43m*\u001b[39;49m\u001b[43mopen_kwargs\u001b[49m\u001b[43m)\u001b[49m \u001b[38;5;28;01mfor\u001b[39;00m p \u001b[38;5;129;01min\u001b[39;00m paths]\n\u001b[1;32m   1078\u001b[0m closers \u001b[38;5;241m=\u001b[39m [getattr_(ds, \u001b[38;5;124m\"\u001b[39m\u001b[38;5;124m_close\u001b[39m\u001b[38;5;124m\"\u001b[39m) \u001b[38;5;28;01mfor\u001b[39;00m ds \u001b[38;5;129;01min\u001b[39;00m datasets]\n\u001b[1;32m   1079\u001b[0m \u001b[38;5;28;01mif\u001b[39;00m preprocess \u001b[38;5;129;01mis\u001b[39;00m \u001b[38;5;129;01mnot\u001b[39;00m \u001b[38;5;28;01mNone\u001b[39;00m:\n",
      "File \u001b[0;32m~/miniforge3/envs/sublimationofsnow/lib/python3.12/site-packages/xarray/backends/api.py:569\u001b[0m, in \u001b[0;36mopen_dataset\u001b[0;34m(filename_or_obj, engine, chunks, cache, decode_cf, mask_and_scale, decode_times, decode_timedelta, use_cftime, concat_characters, decode_coords, drop_variables, inline_array, chunked_array_type, from_array_kwargs, backend_kwargs, **kwargs)\u001b[0m\n\u001b[1;32m    566\u001b[0m     kwargs\u001b[38;5;241m.\u001b[39mupdate(backend_kwargs)\n\u001b[1;32m    568\u001b[0m \u001b[38;5;28;01mif\u001b[39;00m engine \u001b[38;5;129;01mis\u001b[39;00m \u001b[38;5;28;01mNone\u001b[39;00m:\n\u001b[0;32m--> 569\u001b[0m     engine \u001b[38;5;241m=\u001b[39m \u001b[43mplugins\u001b[49m\u001b[38;5;241;43m.\u001b[39;49m\u001b[43mguess_engine\u001b[49m\u001b[43m(\u001b[49m\u001b[43mfilename_or_obj\u001b[49m\u001b[43m)\u001b[49m\n\u001b[1;32m    571\u001b[0m \u001b[38;5;28;01mif\u001b[39;00m from_array_kwargs \u001b[38;5;129;01mis\u001b[39;00m \u001b[38;5;28;01mNone\u001b[39;00m:\n\u001b[1;32m    572\u001b[0m     from_array_kwargs \u001b[38;5;241m=\u001b[39m {}\n",
      "File \u001b[0;32m~/miniforge3/envs/sublimationofsnow/lib/python3.12/site-packages/xarray/backends/plugins.py:197\u001b[0m, in \u001b[0;36mguess_engine\u001b[0;34m(store_spec)\u001b[0m\n\u001b[1;32m    189\u001b[0m \u001b[38;5;28;01melse\u001b[39;00m:\n\u001b[1;32m    190\u001b[0m     error_msg \u001b[38;5;241m=\u001b[39m (\n\u001b[1;32m    191\u001b[0m         \u001b[38;5;124m\"\u001b[39m\u001b[38;5;124mfound the following matches with the input file in xarray\u001b[39m\u001b[38;5;124m'\u001b[39m\u001b[38;5;124ms IO \u001b[39m\u001b[38;5;124m\"\u001b[39m\n\u001b[1;32m    192\u001b[0m         \u001b[38;5;124mf\u001b[39m\u001b[38;5;124m\"\u001b[39m\u001b[38;5;124mbackends: \u001b[39m\u001b[38;5;132;01m{\u001b[39;00mcompatible_engines\u001b[38;5;132;01m}\u001b[39;00m\u001b[38;5;124m. But their dependencies may not be installed, see:\u001b[39m\u001b[38;5;130;01m\\n\u001b[39;00m\u001b[38;5;124m\"\u001b[39m\n\u001b[1;32m    193\u001b[0m         \u001b[38;5;124m\"\u001b[39m\u001b[38;5;124mhttps://docs.xarray.dev/en/stable/user-guide/io.html \u001b[39m\u001b[38;5;130;01m\\n\u001b[39;00m\u001b[38;5;124m\"\u001b[39m\n\u001b[1;32m    194\u001b[0m         \u001b[38;5;124m\"\u001b[39m\u001b[38;5;124mhttps://docs.xarray.dev/en/stable/getting-started-guide/installing.html\u001b[39m\u001b[38;5;124m\"\u001b[39m\n\u001b[1;32m    195\u001b[0m     )\n\u001b[0;32m--> 197\u001b[0m \u001b[38;5;28;01mraise\u001b[39;00m \u001b[38;5;167;01mValueError\u001b[39;00m(error_msg)\n",
      "\u001b[0;31mValueError\u001b[0m: did not find a match in any of xarray's currently installed IO backends ['netcdf4', 'scipy', 'gini', 'rasterio']. Consider explicitly selecting one of the installed engines via the ``engine`` parameter, or installing additional IO dependencies, see:\nhttps://docs.xarray.dev/en/stable/getting-started-guide/installing.html\nhttps://docs.xarray.dev/en/stable/user-guide/io.html"
     ]
    }
   ],
   "source": [
    "sebs_kp_ds = act.io.read_arm_netcdf(\n",
    "    glob.glob(os.path.join(splash_download_dir, sebs_kp, '*.cdf'))\n",
    ").sel(time = slice(\"2023-02-01\", \"2023-02-08\"))\n",
    "irt_gothic_ds = act.io.read_arm_netcdf(\n",
    "    glob.glob(os.path.join(splash_download_dir, irt_gothic, '*.nc'))\n",
    ").sel(time = slice(\"2023-02-01\", \"2023-02-08\"))\n",
    "rad_gothic_ds = act.io.read_arm_netcdf(\n",
    "    glob.glob(os.path.join(splash_download_dir, rad_gothic, '*.cdf'))\n",
    ").sel(time = slice(\"2023-02-01\", \"2023-02-08\"))\n",
    "ecor_gothic_ds = act.io.read_arm_netcdf(\n",
    "    glob.glob(os.path.join(splash_download_dir, ecor_gothic, '*.cdf'))\n",
    ").sel(time = slice(\"2023-02-01\", \"2023-02-08\"))\n",
    "met_gothic_ds = act.io.read_arm_netcdf(\n",
    "    glob.glob(os.path.join(splash_download_dir, met_gothic, '*.cdf'))\n",
    ").sel(time = slice(\"2023-02-01\", \"2023-02-08\"))"
   ]
  },
  {
   "cell_type": "code",
   "execution_count": null,
   "metadata": {},
   "outputs": [],
   "source": [
    "print(sebs_kp_ds.lat.values[0], sebs_kp_ds.lon.values[0])\n",
    "print(irt_gothic_ds.lat.values[0], irt_gothic_ds.lon.values[0])\n",
    "print(rad_gothic_ds.lat.values[0], rad_gothic_ds.lon.values[0])\n",
    "print(ecor_gothic_ds.lat.values[0], ecor_gothic_ds.lon.values[0])\n",
    "print(met_gothic_ds.lat.values[0], met_gothic_ds.lon.values[0])"
   ]
  },
  {
   "cell_type": "code",
   "execution_count": null,
   "metadata": {},
   "outputs": [],
   "source": [
    "\n",
    "from sublimpy import utils "
   ]
  },
  {
   "cell_type": "code",
   "execution_count": null,
   "metadata": {},
   "outputs": [],
   "source": [
    "sebs_kp_ds = utils.modify_xarray_timezone(sebs_kp_ds, \"UTC\", \"US/Mountain\")\n",
    "irt_gothic_ds = utils.modify_xarray_timezone(irt_gothic_ds, \"UTC\", \"US/Mountain\")\n",
    "rad_gothic_ds = utils.modify_xarray_timezone(rad_gothic_ds, \"UTC\", \"US/Mountain\")"
   ]
  },
  {
   "cell_type": "code",
   "execution_count": null,
   "metadata": {},
   "outputs": [],
   "source": [
    "STEVEN_BOLTZMAN = 5.67e-08 #W/m^2/degK^4\n",
    "SNOW_EMMISIVITY = 0.98 "
   ]
  },
  {
   "cell_type": "code",
   "execution_count": null,
   "metadata": {},
   "outputs": [],
   "source": [
    "\n",
    "\n",
    "sebs_kp_ds['sfc_ir_temp'] = (\n",
    "    (\n",
    "        sebs_kp_ds['up_long'] + STEVEN_BOLTZMAN * (sebs_kp_ds['temp_net_radiometer']+273.15)**4\n",
    "    ) / (SNOW_EMMISIVITY*STEVEN_BOLTZMAN)\n",
    ")**(1/4) - 273.15\n",
    "\n",
    "rad_gothic_ds['sfc_ir_temp'] = (\n",
    "    (\n",
    "        rad_gothic_ds['up_long_hemisp'] + STEVEN_BOLTZMAN * (rad_gothic_ds['inst_up_long_hemisp_case_temp'])**4\n",
    "    ) / (SNOW_EMMISIVITY*STEVEN_BOLTZMAN)\n",
    ")**(1/4) - 273.15\n",
    "\n",
    "irt_gothic_ds['sfc_ir_temp'] = irt_gothic_ds['sfc_ir_temp']-273.15"
   ]
  },
  {
   "cell_type": "code",
   "execution_count": null,
   "metadata": {},
   "outputs": [],
   "source": [
    "import matplotlib.pyplot as plt\n",
    "irt_gothic_ds['sfc_ir_temp'].plot(label='irt_gothic')\n",
    "sebs_kp_ds['sfc_ir_temp'].plot(label='sebs_kp')\n",
    "rad_gothic_ds['sfc_ir_temp'].plot(label='rad_gothic')\n",
    "plt.legend()"
   ]
  },
  {
   "cell_type": "code",
   "execution_count": null,
   "metadata": {},
   "outputs": [],
   "source": [
    "src = tidy_df.set_index(\"time\").loc[\"2023-02-01\": \"2023-02-08\"]\n",
    "src = src[src.variable.isin(['Tsurf_rad_d', 'Tsurf_c'])]\n"
   ]
  },
  {
   "cell_type": "code",
   "execution_count": null,
   "metadata": {},
   "outputs": [],
   "source": [
    "irt_gothic_ds['sfc_ir_temp'].plot(label='SAIL irt Gothic')"
   ]
  },
  {
   "cell_type": "code",
   "execution_count": null,
   "metadata": {},
   "outputs": [],
   "source": [
    "src = src.query(\"variable == 'Tsurf_rad_d'\")[['value']].rename(columns={'value': 'Tsurf_rad_d'}).merge(\n",
    "    src.query(\"variable == 'Tsurf_c'\")[['value']].rename(columns={'value': 'Tsurf_c'}),\n",
    "    on = 'time'\n",
    ").merge(\n",
    "    irt_gothic_ds['sfc_ir_temp'].resample(time='30Min').mean().to_dataframe(),\n",
    "    on = 'time'\n",
    ")"
   ]
  },
  {
   "cell_type": "code",
   "execution_count": null,
   "metadata": {},
   "outputs": [],
   "source": [
    "import altair as alt"
   ]
  },
  {
   "cell_type": "code",
   "execution_count": null,
   "metadata": {},
   "outputs": [],
   "source": [
    "alt.Chart(src.reset_index()).transform_fold(\n",
    "    ['Tsurf_rad_d', 'Tsurf_c', 'sfc_ir_temp']\n",
    ").mark_line().encode(\n",
    "    alt.X(\"time:T\"),\n",
    "    alt.Y(\"value:Q\").title('Surface temperature (˚C)'),\n",
    "    alt.Color(\"key:N\").title(\"sensor\")\n",
    ").properties(width = 600).display(renderer='svg')"
   ]
  },
  {
   "cell_type": "markdown",
   "metadata": {},
   "source": [
    "# Examine times with above-freezing temps"
   ]
  },
  {
   "cell_type": "code",
   "execution_count": 21,
   "metadata": {},
   "outputs": [
    {
     "data": {
      "text/plain": [
       "RendererRegistry.enable('html')"
      ]
     },
     "execution_count": 21,
     "metadata": {},
     "output_type": "execute_result"
    }
   ],
   "source": [
    "import altair as alt\n",
    "alt.data_transformers.enable('json')\n",
    "alt.renderers.enable('html')"
   ]
  },
  {
   "cell_type": "code",
   "execution_count": 23,
   "metadata": {},
   "outputs": [
    {
     "data": {
      "text/html": [
       "\n",
       "<style>\n",
       "  #altair-viz-ffee219b1a06482b8596a8e167f464ac.vega-embed {\n",
       "    width: 100%;\n",
       "    display: flex;\n",
       "  }\n",
       "\n",
       "  #altair-viz-ffee219b1a06482b8596a8e167f464ac.vega-embed details,\n",
       "  #altair-viz-ffee219b1a06482b8596a8e167f464ac.vega-embed details summary {\n",
       "    position: relative;\n",
       "  }\n",
       "</style>\n",
       "<div id=\"altair-viz-ffee219b1a06482b8596a8e167f464ac\"></div>\n",
       "<script type=\"text/javascript\">\n",
       "  var VEGA_DEBUG = (typeof VEGA_DEBUG == \"undefined\") ? {} : VEGA_DEBUG;\n",
       "  (function(spec, embedOpt){\n",
       "    let outputDiv = document.currentScript.previousElementSibling;\n",
       "    if (outputDiv.id !== \"altair-viz-ffee219b1a06482b8596a8e167f464ac\") {\n",
       "      outputDiv = document.getElementById(\"altair-viz-ffee219b1a06482b8596a8e167f464ac\");\n",
       "    }\n",
       "    const paths = {\n",
       "      \"vega\": \"https://cdn.jsdelivr.net/npm/vega@5?noext\",\n",
       "      \"vega-lib\": \"https://cdn.jsdelivr.net/npm/vega-lib?noext\",\n",
       "      \"vega-lite\": \"https://cdn.jsdelivr.net/npm/vega-lite@5.20.1?noext\",\n",
       "      \"vega-embed\": \"https://cdn.jsdelivr.net/npm/vega-embed@6?noext\",\n",
       "    };\n",
       "\n",
       "    function maybeLoadScript(lib, version) {\n",
       "      var key = `${lib.replace(\"-\", \"\")}_version`;\n",
       "      return (VEGA_DEBUG[key] == version) ?\n",
       "        Promise.resolve(paths[lib]) :\n",
       "        new Promise(function(resolve, reject) {\n",
       "          var s = document.createElement('script');\n",
       "          document.getElementsByTagName(\"head\")[0].appendChild(s);\n",
       "          s.async = true;\n",
       "          s.onload = () => {\n",
       "            VEGA_DEBUG[key] = version;\n",
       "            return resolve(paths[lib]);\n",
       "          };\n",
       "          s.onerror = () => reject(`Error loading script: ${paths[lib]}`);\n",
       "          s.src = paths[lib];\n",
       "        });\n",
       "    }\n",
       "\n",
       "    function showError(err) {\n",
       "      outputDiv.innerHTML = `<div class=\"error\" style=\"color:red;\">${err}</div>`;\n",
       "      throw err;\n",
       "    }\n",
       "\n",
       "    function displayChart(vegaEmbed) {\n",
       "      vegaEmbed(outputDiv, spec, embedOpt)\n",
       "        .catch(err => showError(`Javascript Error: ${err.message}<br>This usually means there's a typo in your chart specification. See the javascript console for the full traceback.`));\n",
       "    }\n",
       "\n",
       "    if(typeof define === \"function\" && define.amd) {\n",
       "      requirejs.config({paths});\n",
       "      require([\"vega-embed\"], displayChart, err => showError(`Error loading script: ${err.message}`));\n",
       "    } else {\n",
       "      maybeLoadScript(\"vega\", \"5\")\n",
       "        .then(() => maybeLoadScript(\"vega-lite\", \"5.20.1\"))\n",
       "        .then(() => maybeLoadScript(\"vega-embed\", \"6\"))\n",
       "        .catch(showError)\n",
       "        .then(() => displayChart(vegaEmbed));\n",
       "    }\n",
       "  })({\"config\": {\"view\": {\"continuousWidth\": 300, \"continuousHeight\": 300}}, \"vconcat\": [{\"data\": {\"url\": \"altair-data-ab6dd07c1328b534d415d9fc716d1a95.json\", \"format\": {\"type\": \"json\"}}, \"mark\": {\"type\": \"line\"}, \"encoding\": {\"color\": {\"field\": \"is_above_freezing\", \"type\": \"nominal\"}, \"detail\": {\"field\": \"variable\", \"type\": \"nominal\"}, \"x\": {\"field\": \"time\", \"type\": \"temporal\"}, \"y\": {\"field\": \"value\", \"impute\": {\"value\": null}, \"title\": \"Surface temperature (\\u02daC)\", \"type\": \"quantitative\"}}, \"height\": 200, \"transform\": [{\"calculate\": \"datum.value > 0\", \"as\": \"is_above_freezing\"}], \"width\": 600}, {\"data\": {\"url\": \"altair-data-f2f3906e749195f1fc0cac559432d8c9.json\", \"format\": {\"type\": \"json\"}}, \"mark\": {\"type\": \"line\"}, \"encoding\": {\"color\": {\"field\": \"is_above_freezing\", \"type\": \"nominal\"}, \"detail\": {\"field\": \"variable\", \"type\": \"nominal\"}, \"x\": {\"field\": \"time\", \"type\": \"temporal\"}, \"y\": {\"field\": \"value\", \"impute\": {\"value\": null}, \"title\": \"Surface temperature (\\u02daC)\", \"type\": \"quantitative\"}}, \"height\": 200, \"transform\": [{\"calculate\": \"datum.value > 0\", \"as\": \"is_above_freezing\"}], \"width\": 600}], \"$schema\": \"https://vega.github.io/schema/vega-lite/v5.20.1.json\"}, {\"mode\": \"vega-lite\"});\n",
       "</script>"
      ],
      "text/plain": [
       "alt.VConcatChart(...)"
      ]
     },
     "execution_count": 23,
     "metadata": {},
     "output_type": "execute_result"
    }
   ],
   "source": [
    "alt.Chart(\n",
    "    tidy_df[tidy_df.variable.isin(['Tsurf_uw', 'Tsurf_c', 'Tsurf_d', 'Tsurf_ue'])]\n",
    ").transform_calculate(\n",
    "    is_above_freezing = 'datum.value > 0'\n",
    ").mark_line().encode(\n",
    "    alt.X('time:T'),\n",
    "    # alt.Y('value:Q'),\n",
    "    alt.Y('value:Q', impute=alt.ImputeParams(value=None)).title('Surface temperature (˚C)'),\n",
    "    alt.Color('is_above_freezing:N'),\n",
    "    alt.Detail('variable:N'),\n",
    ").properties(width=600, height = 200) & alt.Chart(\n",
    "    tidy_df[tidy_df.variable.isin(['Tsurfplanck_uw', 'Tsurfplanck_c', 'Tsurfplanck_d', 'Tsurfplanck_ue'])]\n",
    ").transform_calculate(\n",
    "    is_above_freezing = 'datum.value > 0'\n",
    ").mark_line().encode(\n",
    "    alt.X('time:T'),\n",
    "    # alt.Y('value:Q'),\n",
    "    alt.Y('value:Q', impute=alt.ImputeParams(value=None)).title('Surface temperature (˚C)'),\n",
    "    alt.Color('is_above_freezing:N'),\n",
    "    alt.Detail('variable:N'),\n",
    ").properties(width=600, height = 200)"
   ]
  },
  {
   "cell_type": "code",
   "execution_count": null,
   "metadata": {},
   "outputs": [],
   "source": [
    "casestudy1 = ('20230311', '20230316')\n",
    "casestudy2 = ('20230407', '20230414')\n",
    "casestudy3 = ('20230501', '20230505')"
   ]
  },
  {
   "cell_type": "code",
   "execution_count": null,
   "metadata": {},
   "outputs": [],
   "source": [
    "tsurf_plots = alt.Chart(\n",
    "    tidy_df[tidy_df.variable.isin(['Tsurf_uw', 'Tsurf_c', 'Tsurf_d', 'Tsurf_ue'])][\n",
    "        (tidy_df.time > casestudy1[0]) & (tidy_df.time < casestudy1[1])\n",
    "    ]\n",
    ").transform_calculate(\n",
    "    is_above_freezing = 'datum.value > 0'\n",
    ").mark_line(strokeWidth=1).encode(\n",
    "    alt.X('time:T').axis(format='%m/%d %H00', labelAngle=-22.5).title(None),\n",
    "    # alt.Y('value:Q'),\n",
    "    alt.Y('value:Q', impute=alt.ImputeParams(value=None)).title('Surface temperature (˚C)').scale(domain=[-15,2], clamp=True),\n",
    "    alt.Color('variable:N')\n",
    ").properties(width=250, height = 150) &\\\n",
    "alt.Chart(\n",
    "    tidy_df[tidy_df.variable.isin(['Tsurf_uw', 'Tsurf_c', 'Tsurf_d', 'Tsurf_ue'])][\n",
    "        (tidy_df.time > casestudy2[0]) & (tidy_df.time < casestudy2[1])\n",
    "    ]\n",
    ").transform_calculate(\n",
    "    is_above_freezing = 'datum.value > 0'\n",
    ").mark_line(strokeWidth=1).encode(\n",
    "    alt.X('time:T').axis(format='%m/%d %H00', labelAngle=-22.5).title(None),\n",
    "    # alt.Y('value:Q'),\n",
    "    alt.Y('value:Q', impute=alt.ImputeParams(value=None)).title('Surface temperature (˚C)').scale(domain=[-15,2], clamp=True),\n",
    "    alt.Color('variable:N')\n",
    ").properties(width=250, height = 150)  &\\\n",
    "alt.Chart(\n",
    "    tidy_df[tidy_df.variable.isin(['Tsurf_uw', 'Tsurf_c', 'Tsurf_d', 'Tsurf_ue'])][\n",
    "        (tidy_df.time > casestudy3[0]) & (tidy_df.time < casestudy3[1])\n",
    "    ]\n",
    ").transform_calculate(\n",
    "    is_above_freezing = 'datum.value > 0'\n",
    ").mark_line(strokeWidth=1).encode(\n",
    "    alt.X('time:T').axis(format='%m/%d %H00', labelAngle=-22.5).title(None),\n",
    "    # alt.Y('value:Q'),\n",
    "    alt.Y('value:Q', impute=alt.ImputeParams(value=None)).title('Surface temperature (˚C)').scale(domain=[-15,2], clamp=True),\n",
    "    alt.Color('variable:N')\n",
    ").properties(width=250, height = 150) \n",
    "tsurf_plots"
   ]
  },
  {
   "cell_type": "code",
   "execution_count": null,
   "metadata": {},
   "outputs": [],
   "source": [
    "near_surface_thermistor_df = tidy_df.query(\n",
    "    \"measurement == 'snow temperature'\"\n",
    ").query(\n",
    "    \"tower == 'd'\").set_index('time'\n",
    ").join(\n",
    "    tidy_df.query(\"variable == 'SnowDepth_d'\").set_index('time')['value'].rename('SnowDepth_d')\n",
    ")\n",
    "near_surface_thermistor_df['height_to_surface'] = near_surface_thermistor_df['height'] - near_surface_thermistor_df['SnowDepth_d']\n",
    "near_surface_thermistor_df = near_surface_thermistor_df.reset_index()\n",
    "def plot(src):\n",
    "    return alt.Chart(src).mark_line(strokeWidth=1.5).encode(\n",
    "        alt.X('time:T'),\n",
    "        alt.Y('height_to_surface'),\n",
    "        alt.Color('variable:O')\n",
    "    ).properties(height = 150)\n",
    "near_surface_thermistor_height_plot = (plot(near_surface_thermistor_df[\n",
    "            (near_surface_thermistor_df.time > casestudy1[0]) \n",
    "            & (near_surface_thermistor_df.time < casestudy1[1])\n",
    "        ]) &\\\n",
    "plot(near_surface_thermistor_df[\n",
    "            (near_surface_thermistor_df.time > casestudy2[0]) \n",
    "            & (near_surface_thermistor_df.time < casestudy2[1])\n",
    "        ]) &\\\n",
    "plot(near_surface_thermistor_df[\n",
    "            (near_surface_thermistor_df.time > casestudy3[0]) \n",
    "            & (near_surface_thermistor_df.time < casestudy3[1])\n",
    "        ]))\n",
    "near_surface_thermistor_height_plot"
   ]
  },
  {
   "cell_type": "code",
   "execution_count": null,
   "metadata": {},
   "outputs": [],
   "source": [
    "def plot(src):\n",
    "    return alt.Chart(src).mark_line().encode(\n",
    "        alt.X('time:T'),\n",
    "        alt.Y('value:Q'),\n",
    "        alt.Color('variable:O').scale(scheme='turbo')\n",
    "    ).properties(height=150)\n",
    "near_surface_thermistor_plot = (plot(\n",
    "    near_surface_thermistor_df[\n",
    "                (near_surface_thermistor_df.time > casestudy1[0]) \n",
    "                & (near_surface_thermistor_df.time < casestudy1[1])\n",
    "    ][\n",
    "        near_surface_thermistor_df.variable.isin(['Tsnow_1_4m_d', 'Tsnow_1_5m_d'])\n",
    "    ]\n",
    ") & plot(\n",
    "    near_surface_thermistor_df[\n",
    "                (near_surface_thermistor_df.time > casestudy2[0]) \n",
    "                & (near_surface_thermistor_df.time < casestudy2[1])\n",
    "    ][\n",
    "        near_surface_thermistor_df.variable.isin(['Tsnow_1_1m_d', 'Tsnow_1_2m_d', 'Tsnow_1_3m_d', 'Tsnow_1_4m_d', 'Tsnow_1_5m_d'])\n",
    "    ]\n",
    ") & plot(\n",
    "    near_surface_thermistor_df[\n",
    "                (near_surface_thermistor_df.time > casestudy3[0]) \n",
    "                & (near_surface_thermistor_df.time < casestudy3[1])\n",
    "    ][\n",
    "        near_surface_thermistor_df.variable.isin(['Tsnow_0_4m_d', 'Tsnow_0_5m_d', 'Tsnow_0_6m_d', 'Tsnow_0_7m_d', 'Tsnow_0_8m_d', 'Tsnow_0_9m_d', 'Tsnow_1_0m_d'])\n",
    "    ]\n",
    ")).resolve_scale(color='independent')"
   ]
  },
  {
   "cell_type": "code",
   "execution_count": null,
   "metadata": {},
   "outputs": [],
   "source": [
    "near_surface_thermistor_height_plot | near_surface_thermistor_plot"
   ]
  },
  {
   "cell_type": "code",
   "execution_count": null,
   "metadata": {},
   "outputs": [],
   "source": []
  }
 ],
 "metadata": {
  "kernelspec": {
   "display_name": "arm",
   "language": "python",
   "name": "python3"
  },
  "language_info": {
   "codemirror_mode": {
    "name": "ipython",
    "version": 3
   },
   "file_extension": ".py",
   "mimetype": "text/x-python",
   "name": "python",
   "nbconvert_exporter": "python",
   "pygments_lexer": "ipython3",
   "version": "3.12.5"
  }
 },
 "nbformat": 4,
 "nbformat_minor": 2
}
