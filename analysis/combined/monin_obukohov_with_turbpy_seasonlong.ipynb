{
 "cells": [
  {
   "cell_type": "code",
   "execution_count": 1,
   "metadata": {},
   "outputs": [],
   "source": [
    "# netcdf/numpy/xray/stats\n",
    "import xarray as xr\n",
    "\n",
    "# plotting packages\n",
    "import seaborn as sns\n",
    "from matplotlib.pyplot import subplots\n",
    "import matplotlib.pyplot as plt\n",
    "#from mpl_toolkits.basemap import Basemap\n",
    "\n",
    "# turbulence package\n",
    "import turbpy\n",
    "import turbpy.multiConst as mc\n",
    "\n",
    "from sublimpy import tidy\n",
    "\n",
    "from metpy.units import units\n",
    "import metpy\n",
    "import pint_xarray\n",
    "import altair as alt\n",
    "alt.data_transformers.enable('json')\n",
    "import pytz\n",
    "\n",
    "from sklearn.metrics import r2_score\n",
    "import pandas as pd\n",
    "import numpy as np\n",
    "import datetime as dt"
   ]
  },
  {
   "attachments": {},
   "cell_type": "markdown",
   "metadata": {},
   "source": [
    "# Inputs"
   ]
  },
  {
   "cell_type": "code",
   "execution_count": 2,
   "metadata": {},
   "outputs": [],
   "source": [
    "start_date = '20221130'\n",
    "end_date = '20230509'"
   ]
  },
  {
   "cell_type": "code",
   "execution_count": 3,
   "metadata": {},
   "outputs": [],
   "source": [
    "try:\n",
    "    tidy_df_30Min = pd.read_parquet(f\"../sos/tidy_df_30Min_{start_date}_{end_date}_noplanar_fit.parquet\")\n",
    "except FileNotFoundError:\n",
    "    print(\"No file such file exists for these dates.\")\n",
    "tidy_df_30Min['time'] = pd.to_datetime(tidy_df_30Min['time'])"
   ]
  },
  {
   "cell_type": "code",
   "execution_count": 4,
   "metadata": {},
   "outputs": [
    {
     "name": "stdout",
     "output_type": "stream",
     "text": [
      "c\n",
      "10.0\n",
      "15.0\n",
      "20.0\n",
      "2.0\n",
      "3.0\n",
      "5.0\n"
     ]
    }
   ],
   "source": [
    "obukhov_src = tidy_df_30Min.query(\"measurement == 'Obukhov length'\")\n",
    "for tower in obukhov_src['tower'].unique():\n",
    "    print(tower)\n",
    "    for height in obukhov_src['height'].unique():\n",
    "        print(height)\n",
    "        src = obukhov_src.query(\n",
    "                f\"tower == '{tower}'\"\n",
    "            ).query(\n",
    "                f\"height == {height}\"\n",
    "            )\n",
    "        tidy_df_30Min = tidy.tidy_df_add_variable(\n",
    "            tidy_df_30Min,\n",
    "            (src['height'] / src['value']).values,\n",
    "            f\"stability_function_{int(height)}m_{tower}\",\n",
    "            \"stability function\",\n",
    "            height,\n",
    "            tower\n",
    "        )"
   ]
  },
  {
   "cell_type": "code",
   "execution_count": 5,
   "metadata": {},
   "outputs": [],
   "source": [
    "disdro_daily_max_precip_date_df = pd.read_csv(\"../sos/disdro_daily_max_precip_date_df.csv\")"
   ]
  },
  {
   "attachments": {},
   "cell_type": "markdown",
   "metadata": {},
   "source": [
    "# Calculate turbulence statistics"
   ]
  },
  {
   "cell_type": "code",
   "execution_count": 6,
   "metadata": {},
   "outputs": [],
   "source": [
    "tke_vs_wind_speed_src = tidy_df_30Min[\n",
    "    tidy_df_30Min.measurement.isin(['wind speed', 'turbulent kinetic energy', 'richardson number', 'richardson number bulk'])\n",
    "].pivot_table(\n",
    "    index=['time', 'tower', 'height'], \n",
    "    values='value', \n",
    "    columns='measurement'\n",
    ").reset_index()"
   ]
  },
  {
   "cell_type": "code",
   "execution_count": 7,
   "metadata": {},
   "outputs": [],
   "source": [
    "tke_vs_wind_speed_src['Velocity scale'] = tke_vs_wind_speed_src['turbulent kinetic energy']**0.5\n",
    "tke_vs_wind_speed_src['wind speed group'] = pd.cut(tke_vs_wind_speed_src['wind speed'], np.linspace(0, 12, 25, []))\n",
    "tke_vs_wind_speed_src['wind speed group'] = tke_vs_wind_speed_src['wind speed group'].apply(lambda x: 0.5*(x.left + x.right))\n",
    "tke_vs_wind_speed_src = tke_vs_wind_speed_src.query(\"tower == 'c'\")"
   ]
  },
  {
   "cell_type": "code",
   "execution_count": 8,
   "metadata": {},
   "outputs": [
    {
     "data": {
      "text/html": [
       "<div>\n",
       "<style scoped>\n",
       "    .dataframe tbody tr th:only-of-type {\n",
       "        vertical-align: middle;\n",
       "    }\n",
       "\n",
       "    .dataframe tbody tr th {\n",
       "        vertical-align: top;\n",
       "    }\n",
       "\n",
       "    .dataframe thead th {\n",
       "        text-align: right;\n",
       "    }\n",
       "</style>\n",
       "<table border=\"1\" class=\"dataframe\">\n",
       "  <thead>\n",
       "    <tr style=\"text-align: right;\">\n",
       "      <th>measurement</th>\n",
       "      <th>time</th>\n",
       "      <th>tower</th>\n",
       "      <th>height</th>\n",
       "      <th>richardson number</th>\n",
       "      <th>richardson number bulk</th>\n",
       "      <th>turbulent kinetic energy</th>\n",
       "      <th>wind speed</th>\n",
       "      <th>Velocity scale</th>\n",
       "      <th>wind speed group</th>\n",
       "    </tr>\n",
       "  </thead>\n",
       "  <tbody>\n",
       "    <tr>\n",
       "      <th>0</th>\n",
       "      <td>2022-11-29 17:00:00</td>\n",
       "      <td>c</td>\n",
       "      <td>2.0</td>\n",
       "      <td>0.064688</td>\n",
       "      <td>0.508533</td>\n",
       "      <td>0.957351</td>\n",
       "      <td>3.138293</td>\n",
       "      <td>0.978443</td>\n",
       "      <td>3.12</td>\n",
       "    </tr>\n",
       "    <tr>\n",
       "      <th>1</th>\n",
       "      <td>2022-11-29 17:00:00</td>\n",
       "      <td>c</td>\n",
       "      <td>3.0</td>\n",
       "      <td>0.119395</td>\n",
       "      <td>0.690701</td>\n",
       "      <td>0.997178</td>\n",
       "      <td>3.323426</td>\n",
       "      <td>0.998588</td>\n",
       "      <td>3.12</td>\n",
       "    </tr>\n",
       "    <tr>\n",
       "      <th>2</th>\n",
       "      <td>2022-11-29 17:00:00</td>\n",
       "      <td>c</td>\n",
       "      <td>5.0</td>\n",
       "      <td>0.291124</td>\n",
       "      <td>1.005739</td>\n",
       "      <td>1.109119</td>\n",
       "      <td>3.622556</td>\n",
       "      <td>1.053147</td>\n",
       "      <td>3.60</td>\n",
       "    </tr>\n",
       "    <tr>\n",
       "      <th>3</th>\n",
       "      <td>2022-11-29 17:00:00</td>\n",
       "      <td>c</td>\n",
       "      <td>10.0</td>\n",
       "      <td>3.491341</td>\n",
       "      <td>1.933923</td>\n",
       "      <td>1.266228</td>\n",
       "      <td>3.750382</td>\n",
       "      <td>1.125268</td>\n",
       "      <td>3.60</td>\n",
       "    </tr>\n",
       "    <tr>\n",
       "      <th>4</th>\n",
       "      <td>2022-11-29 17:00:00</td>\n",
       "      <td>c</td>\n",
       "      <td>15.0</td>\n",
       "      <td>8.386020</td>\n",
       "      <td>2.686861</td>\n",
       "      <td>1.242489</td>\n",
       "      <td>3.916531</td>\n",
       "      <td>1.114670</td>\n",
       "      <td>4.08</td>\n",
       "    </tr>\n",
       "    <tr>\n",
       "      <th>...</th>\n",
       "      <td>...</td>\n",
       "      <td>...</td>\n",
       "      <td>...</td>\n",
       "      <td>...</td>\n",
       "      <td>...</td>\n",
       "      <td>...</td>\n",
       "      <td>...</td>\n",
       "      <td>...</td>\n",
       "      <td>...</td>\n",
       "    </tr>\n",
       "    <tr>\n",
       "      <th>111003</th>\n",
       "      <td>2023-05-09 17:30:00</td>\n",
       "      <td>c</td>\n",
       "      <td>3.0</td>\n",
       "      <td>0.114669</td>\n",
       "      <td>0.523551</td>\n",
       "      <td>0.469139</td>\n",
       "      <td>3.240431</td>\n",
       "      <td>0.684938</td>\n",
       "      <td>3.12</td>\n",
       "    </tr>\n",
       "    <tr>\n",
       "      <th>111004</th>\n",
       "      <td>2023-05-09 17:30:00</td>\n",
       "      <td>c</td>\n",
       "      <td>5.0</td>\n",
       "      <td>0.339357</td>\n",
       "      <td>0.783323</td>\n",
       "      <td>0.559886</td>\n",
       "      <td>3.576861</td>\n",
       "      <td>0.748255</td>\n",
       "      <td>3.60</td>\n",
       "    </tr>\n",
       "    <tr>\n",
       "      <th>111005</th>\n",
       "      <td>2023-05-09 17:30:00</td>\n",
       "      <td>c</td>\n",
       "      <td>10.0</td>\n",
       "      <td>7.829833</td>\n",
       "      <td>1.511319</td>\n",
       "      <td>0.642527</td>\n",
       "      <td>3.758235</td>\n",
       "      <td>0.801578</td>\n",
       "      <td>3.60</td>\n",
       "    </tr>\n",
       "    <tr>\n",
       "      <th>111006</th>\n",
       "      <td>2023-05-09 17:30:00</td>\n",
       "      <td>c</td>\n",
       "      <td>15.0</td>\n",
       "      <td>8.495489</td>\n",
       "      <td>2.135995</td>\n",
       "      <td>0.731780</td>\n",
       "      <td>3.885932</td>\n",
       "      <td>0.855442</td>\n",
       "      <td>4.08</td>\n",
       "    </tr>\n",
       "    <tr>\n",
       "      <th>111007</th>\n",
       "      <td>2023-05-09 17:30:00</td>\n",
       "      <td>c</td>\n",
       "      <td>20.0</td>\n",
       "      <td>27.125607</td>\n",
       "      <td>2.864529</td>\n",
       "      <td>0.818803</td>\n",
       "      <td>3.941361</td>\n",
       "      <td>0.904877</td>\n",
       "      <td>4.08</td>\n",
       "    </tr>\n",
       "  </tbody>\n",
       "</table>\n",
       "<p>45538 rows × 9 columns</p>\n",
       "</div>"
      ],
      "text/plain": [
       "measurement                time tower  height  richardson number  \\\n",
       "0           2022-11-29 17:00:00     c     2.0           0.064688   \n",
       "1           2022-11-29 17:00:00     c     3.0           0.119395   \n",
       "2           2022-11-29 17:00:00     c     5.0           0.291124   \n",
       "3           2022-11-29 17:00:00     c    10.0           3.491341   \n",
       "4           2022-11-29 17:00:00     c    15.0           8.386020   \n",
       "...                         ...   ...     ...                ...   \n",
       "111003      2023-05-09 17:30:00     c     3.0           0.114669   \n",
       "111004      2023-05-09 17:30:00     c     5.0           0.339357   \n",
       "111005      2023-05-09 17:30:00     c    10.0           7.829833   \n",
       "111006      2023-05-09 17:30:00     c    15.0           8.495489   \n",
       "111007      2023-05-09 17:30:00     c    20.0          27.125607   \n",
       "\n",
       "measurement  richardson number bulk  turbulent kinetic energy  wind speed  \\\n",
       "0                          0.508533                  0.957351    3.138293   \n",
       "1                          0.690701                  0.997178    3.323426   \n",
       "2                          1.005739                  1.109119    3.622556   \n",
       "3                          1.933923                  1.266228    3.750382   \n",
       "4                          2.686861                  1.242489    3.916531   \n",
       "...                             ...                       ...         ...   \n",
       "111003                     0.523551                  0.469139    3.240431   \n",
       "111004                     0.783323                  0.559886    3.576861   \n",
       "111005                     1.511319                  0.642527    3.758235   \n",
       "111006                     2.135995                  0.731780    3.885932   \n",
       "111007                     2.864529                  0.818803    3.941361   \n",
       "\n",
       "measurement  Velocity scale wind speed group  \n",
       "0                  0.978443             3.12  \n",
       "1                  0.998588             3.12  \n",
       "2                  1.053147             3.60  \n",
       "3                  1.125268             3.60  \n",
       "4                  1.114670             4.08  \n",
       "...                     ...              ...  \n",
       "111003             0.684938             3.12  \n",
       "111004             0.748255             3.60  \n",
       "111005             0.801578             3.60  \n",
       "111006             0.855442             4.08  \n",
       "111007             0.904877             4.08  \n",
       "\n",
       "[45538 rows x 9 columns]"
      ]
     },
     "execution_count": 8,
     "metadata": {},
     "output_type": "execute_result"
    }
   ],
   "source": [
    "tke_vs_wind_speed_src"
   ]
  },
  {
   "cell_type": "markdown",
   "metadata": {},
   "source": [
    "# Season long turbulence"
   ]
  },
  {
   "attachments": {},
   "cell_type": "markdown",
   "metadata": {},
   "source": [
    "## Plot: stability function distributions"
   ]
  },
  {
   "cell_type": "code",
   "execution_count": 9,
   "metadata": {},
   "outputs": [
    {
     "data": {
      "text/html": [
       "\n",
       "<style>\n",
       "  #altair-viz-d1c91eea3c484db59733d11c5b534441.vega-embed {\n",
       "    width: 100%;\n",
       "    display: flex;\n",
       "  }\n",
       "\n",
       "  #altair-viz-d1c91eea3c484db59733d11c5b534441.vega-embed details,\n",
       "  #altair-viz-d1c91eea3c484db59733d11c5b534441.vega-embed details summary {\n",
       "    position: relative;\n",
       "  }\n",
       "</style>\n",
       "<div id=\"altair-viz-d1c91eea3c484db59733d11c5b534441\"></div>\n",
       "<script type=\"text/javascript\">\n",
       "  var VEGA_DEBUG = (typeof VEGA_DEBUG == \"undefined\") ? {} : VEGA_DEBUG;\n",
       "  (function(spec, embedOpt){\n",
       "    let outputDiv = document.currentScript.previousElementSibling;\n",
       "    if (outputDiv.id !== \"altair-viz-d1c91eea3c484db59733d11c5b534441\") {\n",
       "      outputDiv = document.getElementById(\"altair-viz-d1c91eea3c484db59733d11c5b534441\");\n",
       "    }\n",
       "    const paths = {\n",
       "      \"vega\": \"https://cdn.jsdelivr.net/npm/vega@5?noext\",\n",
       "      \"vega-lib\": \"https://cdn.jsdelivr.net/npm/vega-lib?noext\",\n",
       "      \"vega-lite\": \"https://cdn.jsdelivr.net/npm/vega-lite@5.8.0?noext\",\n",
       "      \"vega-embed\": \"https://cdn.jsdelivr.net/npm/vega-embed@6?noext\",\n",
       "    };\n",
       "\n",
       "    function maybeLoadScript(lib, version) {\n",
       "      var key = `${lib.replace(\"-\", \"\")}_version`;\n",
       "      return (VEGA_DEBUG[key] == version) ?\n",
       "        Promise.resolve(paths[lib]) :\n",
       "        new Promise(function(resolve, reject) {\n",
       "          var s = document.createElement('script');\n",
       "          document.getElementsByTagName(\"head\")[0].appendChild(s);\n",
       "          s.async = true;\n",
       "          s.onload = () => {\n",
       "            VEGA_DEBUG[key] = version;\n",
       "            return resolve(paths[lib]);\n",
       "          };\n",
       "          s.onerror = () => reject(`Error loading script: ${paths[lib]}`);\n",
       "          s.src = paths[lib];\n",
       "        });\n",
       "    }\n",
       "\n",
       "    function showError(err) {\n",
       "      outputDiv.innerHTML = `<div class=\"error\" style=\"color:red;\">${err}</div>`;\n",
       "      throw err;\n",
       "    }\n",
       "\n",
       "    function displayChart(vegaEmbed) {\n",
       "      vegaEmbed(outputDiv, spec, embedOpt)\n",
       "        .catch(err => showError(`Javascript Error: ${err.message}<br>This usually means there's a typo in your chart specification. See the javascript console for the full traceback.`));\n",
       "    }\n",
       "\n",
       "    if(typeof define === \"function\" && define.amd) {\n",
       "      requirejs.config({paths});\n",
       "      require([\"vega-embed\"], displayChart, err => showError(`Error loading script: ${err.message}`));\n",
       "    } else {\n",
       "      maybeLoadScript(\"vega\", \"5\")\n",
       "        .then(() => maybeLoadScript(\"vega-lite\", \"5.8.0\"))\n",
       "        .then(() => maybeLoadScript(\"vega-embed\", \"6\"))\n",
       "        .catch(showError)\n",
       "        .then(() => displayChart(vegaEmbed));\n",
       "    }\n",
       "  })({\"config\": {\"view\": {\"continuousWidth\": 300, \"continuousHeight\": 300}}, \"hconcat\": [{\"data\": {\"url\": \"altair-data-bd775f5e5d0ee56fa8649ce5ed320e67.json\", \"format\": {\"type\": \"json\"}}, \"mark\": {\"type\": \"boxplot\", \"outliers\": false}, \"encoding\": {\"x\": {\"field\": \"height\", \"type\": \"ordinal\"}, \"y\": {\"field\": \"value\", \"title\": \"stability function\", \"type\": \"quantitative\"}}, \"height\": 200, \"title\": \"Without outliers\", \"width\": 200}, {\"data\": {\"url\": \"altair-data-bd775f5e5d0ee56fa8649ce5ed320e67.json\", \"format\": {\"type\": \"json\"}}, \"mark\": {\"type\": \"boxplot\", \"outliers\": {\"size\": 1}}, \"encoding\": {\"x\": {\"field\": \"height\", \"type\": \"ordinal\"}, \"y\": {\"field\": \"value\", \"scale\": {\"domain\": [-100, 100], \"clamp\": true}, \"title\": \"stability function\", \"type\": \"quantitative\"}}, \"height\": 200, \"title\": \"With outliers\", \"width\": 200}], \"$schema\": \"https://vega.github.io/schema/vega-lite/v5.8.0.json\"}, {\"mode\": \"vega-lite\"});\n",
       "</script>"
      ],
      "text/plain": [
       "alt.HConcatChart(...)"
      ]
     },
     "execution_count": 9,
     "metadata": {},
     "output_type": "execute_result"
    }
   ],
   "source": [
    "alt.Chart(tidy_df_30Min.query(\"measurement == 'stability function'\")).mark_boxplot(outliers=False).encode(\n",
    "    alt.X(\"height:O\"),\n",
    "    alt.Y(\"value:Q\").title('stability function')\n",
    ").properties(width = 200, height = 200, title='Without outliers') | \\\n",
    "alt.Chart(tidy_df_30Min.query(\"measurement == 'stability function'\")).mark_boxplot(outliers={'size': 1}).encode(\n",
    "    alt.X(\"height:O\"),\n",
    "    alt.Y(\"value:Q\").title('stability function').scale(domain=[-100,100], clamp=True)\n",
    ").properties(width = 200, height = 200, title='With outliers')"
   ]
  },
  {
   "cell_type": "code",
   "execution_count": 10,
   "metadata": {},
   "outputs": [
    {
     "data": {
      "text/html": [
       "\n",
       "<style>\n",
       "  #altair-viz-68b7fb3e47654a01896f085e49cedfcf.vega-embed {\n",
       "    width: 100%;\n",
       "    display: flex;\n",
       "  }\n",
       "\n",
       "  #altair-viz-68b7fb3e47654a01896f085e49cedfcf.vega-embed details,\n",
       "  #altair-viz-68b7fb3e47654a01896f085e49cedfcf.vega-embed details summary {\n",
       "    position: relative;\n",
       "  }\n",
       "</style>\n",
       "<div id=\"altair-viz-68b7fb3e47654a01896f085e49cedfcf\"></div>\n",
       "<script type=\"text/javascript\">\n",
       "  var VEGA_DEBUG = (typeof VEGA_DEBUG == \"undefined\") ? {} : VEGA_DEBUG;\n",
       "  (function(spec, embedOpt){\n",
       "    let outputDiv = document.currentScript.previousElementSibling;\n",
       "    if (outputDiv.id !== \"altair-viz-68b7fb3e47654a01896f085e49cedfcf\") {\n",
       "      outputDiv = document.getElementById(\"altair-viz-68b7fb3e47654a01896f085e49cedfcf\");\n",
       "    }\n",
       "    const paths = {\n",
       "      \"vega\": \"https://cdn.jsdelivr.net/npm/vega@5?noext\",\n",
       "      \"vega-lib\": \"https://cdn.jsdelivr.net/npm/vega-lib?noext\",\n",
       "      \"vega-lite\": \"https://cdn.jsdelivr.net/npm/vega-lite@5.8.0?noext\",\n",
       "      \"vega-embed\": \"https://cdn.jsdelivr.net/npm/vega-embed@6?noext\",\n",
       "    };\n",
       "\n",
       "    function maybeLoadScript(lib, version) {\n",
       "      var key = `${lib.replace(\"-\", \"\")}_version`;\n",
       "      return (VEGA_DEBUG[key] == version) ?\n",
       "        Promise.resolve(paths[lib]) :\n",
       "        new Promise(function(resolve, reject) {\n",
       "          var s = document.createElement('script');\n",
       "          document.getElementsByTagName(\"head\")[0].appendChild(s);\n",
       "          s.async = true;\n",
       "          s.onload = () => {\n",
       "            VEGA_DEBUG[key] = version;\n",
       "            return resolve(paths[lib]);\n",
       "          };\n",
       "          s.onerror = () => reject(`Error loading script: ${paths[lib]}`);\n",
       "          s.src = paths[lib];\n",
       "        });\n",
       "    }\n",
       "\n",
       "    function showError(err) {\n",
       "      outputDiv.innerHTML = `<div class=\"error\" style=\"color:red;\">${err}</div>`;\n",
       "      throw err;\n",
       "    }\n",
       "\n",
       "    function displayChart(vegaEmbed) {\n",
       "      vegaEmbed(outputDiv, spec, embedOpt)\n",
       "        .catch(err => showError(`Javascript Error: ${err.message}<br>This usually means there's a typo in your chart specification. See the javascript console for the full traceback.`));\n",
       "    }\n",
       "\n",
       "    if(typeof define === \"function\" && define.amd) {\n",
       "      requirejs.config({paths});\n",
       "      require([\"vega-embed\"], displayChart, err => showError(`Error loading script: ${err.message}`));\n",
       "    } else {\n",
       "      maybeLoadScript(\"vega\", \"5\")\n",
       "        .then(() => maybeLoadScript(\"vega-lite\", \"5.8.0\"))\n",
       "        .then(() => maybeLoadScript(\"vega-embed\", \"6\"))\n",
       "        .catch(showError)\n",
       "        .then(() => displayChart(vegaEmbed));\n",
       "    }\n",
       "  })({\"config\": {\"view\": {\"continuousWidth\": 300, \"continuousHeight\": 300}}, \"data\": {\"url\": \"altair-data-bd775f5e5d0ee56fa8649ce5ed320e67.json\", \"format\": {\"type\": \"json\"}}, \"mark\": {\"type\": \"line\"}, \"encoding\": {\"color\": {\"field\": \"height\", \"scale\": {\"scheme\": \"viridis\"}, \"type\": \"ordinal\"}, \"x\": {\"field\": \"time\", \"type\": \"temporal\"}, \"y\": {\"field\": \"value\", \"scale\": {\"domain\": [-100, 100], \"clamp\": true}, \"type\": \"quantitative\"}}, \"width\": 800, \"$schema\": \"https://vega.github.io/schema/vega-lite/v5.8.0.json\"}, {\"mode\": \"vega-lite\"});\n",
       "</script>"
      ],
      "text/plain": [
       "alt.Chart(...)"
      ]
     },
     "execution_count": 10,
     "metadata": {},
     "output_type": "execute_result"
    }
   ],
   "source": [
    "alt.Chart(tidy_df_30Min.query(\"measurement == 'stability function'\")).mark_line().encode(\n",
    "    alt.X(\"time:T\"),\n",
    "    alt.Y(\"value:Q\").scale(domain=[-100, 100], clamp=True),\n",
    "    alt.Color(\"height:O\").scale(scheme='viridis')\n",
    ").properties(width = 800)"
   ]
  },
  {
   "attachments": {},
   "cell_type": "markdown",
   "metadata": {},
   "source": [
    "## Plot: turbulence statistics for the winter season"
   ]
  },
  {
   "cell_type": "code",
   "execution_count": 11,
   "metadata": {},
   "outputs": [
    {
     "data": {
      "text/html": [
       "\n",
       "<style>\n",
       "  #altair-viz-187a9ab38b644ac0a9a935c7e721a669.vega-embed {\n",
       "    width: 100%;\n",
       "    display: flex;\n",
       "  }\n",
       "\n",
       "  #altair-viz-187a9ab38b644ac0a9a935c7e721a669.vega-embed details,\n",
       "  #altair-viz-187a9ab38b644ac0a9a935c7e721a669.vega-embed details summary {\n",
       "    position: relative;\n",
       "  }\n",
       "</style>\n",
       "<div id=\"altair-viz-187a9ab38b644ac0a9a935c7e721a669\"></div>\n",
       "<script type=\"text/javascript\">\n",
       "  var VEGA_DEBUG = (typeof VEGA_DEBUG == \"undefined\") ? {} : VEGA_DEBUG;\n",
       "  (function(spec, embedOpt){\n",
       "    let outputDiv = document.currentScript.previousElementSibling;\n",
       "    if (outputDiv.id !== \"altair-viz-187a9ab38b644ac0a9a935c7e721a669\") {\n",
       "      outputDiv = document.getElementById(\"altair-viz-187a9ab38b644ac0a9a935c7e721a669\");\n",
       "    }\n",
       "    const paths = {\n",
       "      \"vega\": \"https://cdn.jsdelivr.net/npm/vega@5?noext\",\n",
       "      \"vega-lib\": \"https://cdn.jsdelivr.net/npm/vega-lib?noext\",\n",
       "      \"vega-lite\": \"https://cdn.jsdelivr.net/npm/vega-lite@5.8.0?noext\",\n",
       "      \"vega-embed\": \"https://cdn.jsdelivr.net/npm/vega-embed@6?noext\",\n",
       "    };\n",
       "\n",
       "    function maybeLoadScript(lib, version) {\n",
       "      var key = `${lib.replace(\"-\", \"\")}_version`;\n",
       "      return (VEGA_DEBUG[key] == version) ?\n",
       "        Promise.resolve(paths[lib]) :\n",
       "        new Promise(function(resolve, reject) {\n",
       "          var s = document.createElement('script');\n",
       "          document.getElementsByTagName(\"head\")[0].appendChild(s);\n",
       "          s.async = true;\n",
       "          s.onload = () => {\n",
       "            VEGA_DEBUG[key] = version;\n",
       "            return resolve(paths[lib]);\n",
       "          };\n",
       "          s.onerror = () => reject(`Error loading script: ${paths[lib]}`);\n",
       "          s.src = paths[lib];\n",
       "        });\n",
       "    }\n",
       "\n",
       "    function showError(err) {\n",
       "      outputDiv.innerHTML = `<div class=\"error\" style=\"color:red;\">${err}</div>`;\n",
       "      throw err;\n",
       "    }\n",
       "\n",
       "    function displayChart(vegaEmbed) {\n",
       "      vegaEmbed(outputDiv, spec, embedOpt)\n",
       "        .catch(err => showError(`Javascript Error: ${err.message}<br>This usually means there's a typo in your chart specification. See the javascript console for the full traceback.`));\n",
       "    }\n",
       "\n",
       "    if(typeof define === \"function\" && define.amd) {\n",
       "      requirejs.config({paths});\n",
       "      require([\"vega-embed\"], displayChart, err => showError(`Error loading script: ${err.message}`));\n",
       "    } else {\n",
       "      maybeLoadScript(\"vega\", \"5\")\n",
       "        .then(() => maybeLoadScript(\"vega-lite\", \"5.8.0\"))\n",
       "        .then(() => maybeLoadScript(\"vega-embed\", \"6\"))\n",
       "        .catch(showError)\n",
       "        .then(() => displayChart(vegaEmbed));\n",
       "    }\n",
       "  })({\"config\": {\"view\": {\"continuousWidth\": 300, \"continuousHeight\": 300}}, \"hconcat\": [{\"mark\": {\"type\": \"bar\"}, \"encoding\": {\"x\": {\"bin\": {\"maxbins\": 50}, \"field\": \"wind speed\", \"type\": \"quantitative\"}, \"y\": {\"aggregate\": \"count\", \"type\": \"quantitative\"}}}, {\"mark\": {\"type\": \"bar\"}, \"encoding\": {\"x\": {\"bin\": {\"maxbins\": 50}, \"field\": \"richardson number\", \"type\": \"quantitative\"}, \"y\": {\"aggregate\": \"count\", \"type\": \"quantitative\"}}, \"transform\": [{\"filter\": {\"field\": \"richardson number\", \"gte\": -2}}, {\"filter\": {\"field\": \"richardson number\", \"lte\": 10}}]}], \"data\": {\"url\": \"altair-data-7bc1a5600cb6a86d89b121abf8c4c1ee.json\", \"format\": {\"type\": \"json\"}}, \"$schema\": \"https://vega.github.io/schema/vega-lite/v5.8.0.json\"}, {\"mode\": \"vega-lite\"});\n",
       "</script>"
      ],
      "text/plain": [
       "alt.HConcatChart(...)"
      ]
     },
     "execution_count": 11,
     "metadata": {},
     "output_type": "execute_result"
    }
   ],
   "source": [
    "alt.Chart(\n",
    "    tke_vs_wind_speed_src\n",
    ").mark_bar().encode(\n",
    "    alt.X(\n",
    "        \"wind speed:Q\", \n",
    "        bin=alt.Bin(maxbins=50), \n",
    "    ),\n",
    "    alt.Y(\"count():Q\")\n",
    ") | \\\n",
    "alt.Chart(\n",
    "    tke_vs_wind_speed_src\n",
    ").transform_filter(\n",
    "    alt.FieldGTEPredicate('richardson number', -2)\n",
    ").transform_filter(\n",
    "    alt.FieldLTEPredicate('richardson number', 10)\n",
    ").mark_bar().encode(\n",
    "    alt.X(\"richardson number:Q\", bin=alt.Bin(maxbins=50)),\n",
    "    # alt.X(\"richardson number:Q\", bin=alt.Bin(maxbins=50), scale=alt.Scale(domain=[-1,3], clamp=True), axis=alt.Axis(values=[-1, 0, 0.25, 1, 3], format='.02f')),\n",
    "    alt.Y(\"count():Q\")\n",
    ")"
   ]
  },
  {
   "cell_type": "code",
   "execution_count": 12,
   "metadata": {},
   "outputs": [
    {
     "data": {
      "text/html": [
       "\n",
       "<style>\n",
       "  #altair-viz-0f12000ffd17459c915bd57d8a5c26ae.vega-embed {\n",
       "    width: 100%;\n",
       "    display: flex;\n",
       "  }\n",
       "\n",
       "  #altair-viz-0f12000ffd17459c915bd57d8a5c26ae.vega-embed details,\n",
       "  #altair-viz-0f12000ffd17459c915bd57d8a5c26ae.vega-embed details summary {\n",
       "    position: relative;\n",
       "  }\n",
       "</style>\n",
       "<div id=\"altair-viz-0f12000ffd17459c915bd57d8a5c26ae\"></div>\n",
       "<script type=\"text/javascript\">\n",
       "  var VEGA_DEBUG = (typeof VEGA_DEBUG == \"undefined\") ? {} : VEGA_DEBUG;\n",
       "  (function(spec, embedOpt){\n",
       "    let outputDiv = document.currentScript.previousElementSibling;\n",
       "    if (outputDiv.id !== \"altair-viz-0f12000ffd17459c915bd57d8a5c26ae\") {\n",
       "      outputDiv = document.getElementById(\"altair-viz-0f12000ffd17459c915bd57d8a5c26ae\");\n",
       "    }\n",
       "    const paths = {\n",
       "      \"vega\": \"https://cdn.jsdelivr.net/npm/vega@5?noext\",\n",
       "      \"vega-lib\": \"https://cdn.jsdelivr.net/npm/vega-lib?noext\",\n",
       "      \"vega-lite\": \"https://cdn.jsdelivr.net/npm/vega-lite@5.8.0?noext\",\n",
       "      \"vega-embed\": \"https://cdn.jsdelivr.net/npm/vega-embed@6?noext\",\n",
       "    };\n",
       "\n",
       "    function maybeLoadScript(lib, version) {\n",
       "      var key = `${lib.replace(\"-\", \"\")}_version`;\n",
       "      return (VEGA_DEBUG[key] == version) ?\n",
       "        Promise.resolve(paths[lib]) :\n",
       "        new Promise(function(resolve, reject) {\n",
       "          var s = document.createElement('script');\n",
       "          document.getElementsByTagName(\"head\")[0].appendChild(s);\n",
       "          s.async = true;\n",
       "          s.onload = () => {\n",
       "            VEGA_DEBUG[key] = version;\n",
       "            return resolve(paths[lib]);\n",
       "          };\n",
       "          s.onerror = () => reject(`Error loading script: ${paths[lib]}`);\n",
       "          s.src = paths[lib];\n",
       "        });\n",
       "    }\n",
       "\n",
       "    function showError(err) {\n",
       "      outputDiv.innerHTML = `<div class=\"error\" style=\"color:red;\">${err}</div>`;\n",
       "      throw err;\n",
       "    }\n",
       "\n",
       "    function displayChart(vegaEmbed) {\n",
       "      vegaEmbed(outputDiv, spec, embedOpt)\n",
       "        .catch(err => showError(`Javascript Error: ${err.message}<br>This usually means there's a typo in your chart specification. See the javascript console for the full traceback.`));\n",
       "    }\n",
       "\n",
       "    if(typeof define === \"function\" && define.amd) {\n",
       "      requirejs.config({paths});\n",
       "      require([\"vega-embed\"], displayChart, err => showError(`Error loading script: ${err.message}`));\n",
       "    } else {\n",
       "      maybeLoadScript(\"vega\", \"5\")\n",
       "        .then(() => maybeLoadScript(\"vega-lite\", \"5.8.0\"))\n",
       "        .then(() => maybeLoadScript(\"vega-embed\", \"6\"))\n",
       "        .catch(showError)\n",
       "        .then(() => displayChart(vegaEmbed));\n",
       "    }\n",
       "  })({\"config\": {\"view\": {\"continuousWidth\": 300, \"continuousHeight\": 300}}, \"data\": {\"url\": \"altair-data-7bc1a5600cb6a86d89b121abf8c4c1ee.json\", \"format\": {\"type\": \"json\"}}, \"facet\": {\"field\": \"height\", \"type\": \"ordinal\"}, \"spec\": {\"layer\": [{\"mark\": {\"type\": \"errorbar\", \"extent\": \"stdev\"}, \"encoding\": {\"x\": {\"field\": \"wind speed group\", \"title\": \"Wind speed (m/s) (binned)\", \"type\": \"quantitative\"}, \"y\": {\"field\": \"Velocity scale\", \"type\": \"quantitative\"}}}, {\"mark\": {\"type\": \"circle\", \"color\": \"black\"}, \"encoding\": {\"x\": {\"field\": \"wind speed group\", \"type\": \"quantitative\"}, \"y\": {\"aggregate\": \"mean\", \"field\": \"Velocity scale\", \"type\": \"quantitative\"}}}], \"height\": 100, \"width\": 150}, \"columns\": 3, \"$schema\": \"https://vega.github.io/schema/vega-lite/v5.8.0.json\"}, {\"mode\": \"vega-lite\"});\n",
       "</script>"
      ],
      "text/plain": [
       "alt.FacetChart(...)"
      ]
     },
     "execution_count": 12,
     "metadata": {},
     "output_type": "execute_result"
    }
   ],
   "source": [
    "bars = alt.Chart(tke_vs_wind_speed_src).mark_errorbar(extent='stdev').encode(\n",
    "    alt.X(\"wind speed group:Q\").title(\"Wind speed (m/s) (binned)\"),\n",
    "    alt.Y(\"Velocity scale:Q\")\n",
    ").properties(width=150, height = 100)\n",
    "\n",
    "points = alt.Chart(tke_vs_wind_speed_src).mark_circle(color='black').encode(\n",
    "    alt.X(\"wind speed group:Q\"),\n",
    "    alt.Y(\"mean(Velocity scale):Q\")\n",
    ")\n",
    "\n",
    "(bars + points).facet('height:O', columns=3)"
   ]
  },
  {
   "cell_type": "code",
   "execution_count": 13,
   "metadata": {},
   "outputs": [
    {
     "data": {
      "text/html": [
       "\n",
       "<style>\n",
       "  #altair-viz-102674616e5d4a7c9b27a7d5f5c61066.vega-embed {\n",
       "    width: 100%;\n",
       "    display: flex;\n",
       "  }\n",
       "\n",
       "  #altair-viz-102674616e5d4a7c9b27a7d5f5c61066.vega-embed details,\n",
       "  #altair-viz-102674616e5d4a7c9b27a7d5f5c61066.vega-embed details summary {\n",
       "    position: relative;\n",
       "  }\n",
       "</style>\n",
       "<div id=\"altair-viz-102674616e5d4a7c9b27a7d5f5c61066\"></div>\n",
       "<script type=\"text/javascript\">\n",
       "  var VEGA_DEBUG = (typeof VEGA_DEBUG == \"undefined\") ? {} : VEGA_DEBUG;\n",
       "  (function(spec, embedOpt){\n",
       "    let outputDiv = document.currentScript.previousElementSibling;\n",
       "    if (outputDiv.id !== \"altair-viz-102674616e5d4a7c9b27a7d5f5c61066\") {\n",
       "      outputDiv = document.getElementById(\"altair-viz-102674616e5d4a7c9b27a7d5f5c61066\");\n",
       "    }\n",
       "    const paths = {\n",
       "      \"vega\": \"https://cdn.jsdelivr.net/npm/vega@5?noext\",\n",
       "      \"vega-lib\": \"https://cdn.jsdelivr.net/npm/vega-lib?noext\",\n",
       "      \"vega-lite\": \"https://cdn.jsdelivr.net/npm/vega-lite@5.8.0?noext\",\n",
       "      \"vega-embed\": \"https://cdn.jsdelivr.net/npm/vega-embed@6?noext\",\n",
       "    };\n",
       "\n",
       "    function maybeLoadScript(lib, version) {\n",
       "      var key = `${lib.replace(\"-\", \"\")}_version`;\n",
       "      return (VEGA_DEBUG[key] == version) ?\n",
       "        Promise.resolve(paths[lib]) :\n",
       "        new Promise(function(resolve, reject) {\n",
       "          var s = document.createElement('script');\n",
       "          document.getElementsByTagName(\"head\")[0].appendChild(s);\n",
       "          s.async = true;\n",
       "          s.onload = () => {\n",
       "            VEGA_DEBUG[key] = version;\n",
       "            return resolve(paths[lib]);\n",
       "          };\n",
       "          s.onerror = () => reject(`Error loading script: ${paths[lib]}`);\n",
       "          s.src = paths[lib];\n",
       "        });\n",
       "    }\n",
       "\n",
       "    function showError(err) {\n",
       "      outputDiv.innerHTML = `<div class=\"error\" style=\"color:red;\">${err}</div>`;\n",
       "      throw err;\n",
       "    }\n",
       "\n",
       "    function displayChart(vegaEmbed) {\n",
       "      vegaEmbed(outputDiv, spec, embedOpt)\n",
       "        .catch(err => showError(`Javascript Error: ${err.message}<br>This usually means there's a typo in your chart specification. See the javascript console for the full traceback.`));\n",
       "    }\n",
       "\n",
       "    if(typeof define === \"function\" && define.amd) {\n",
       "      requirejs.config({paths});\n",
       "      require([\"vega-embed\"], displayChart, err => showError(`Error loading script: ${err.message}`));\n",
       "    } else {\n",
       "      maybeLoadScript(\"vega\", \"5\")\n",
       "        .then(() => maybeLoadScript(\"vega-lite\", \"5.8.0\"))\n",
       "        .then(() => maybeLoadScript(\"vega-embed\", \"6\"))\n",
       "        .catch(showError)\n",
       "        .then(() => displayChart(vegaEmbed));\n",
       "    }\n",
       "  })({\"config\": {\"view\": {\"continuousWidth\": 300, \"continuousHeight\": 300}}, \"data\": {\"url\": \"altair-data-7bc1a5600cb6a86d89b121abf8c4c1ee.json\", \"format\": {\"type\": \"json\"}}, \"mark\": {\"type\": \"line\"}, \"encoding\": {\"color\": {\"field\": \"height\", \"type\": \"ordinal\"}, \"x\": {\"field\": \"wind speed group\", \"type\": \"quantitative\"}, \"y\": {\"aggregate\": \"mean\", \"field\": \"Velocity scale\", \"type\": \"quantitative\"}}, \"$schema\": \"https://vega.github.io/schema/vega-lite/v5.8.0.json\"}, {\"mode\": \"vega-lite\"});\n",
       "</script>"
      ],
      "text/plain": [
       "alt.Chart(...)"
      ]
     },
     "execution_count": 13,
     "metadata": {},
     "output_type": "execute_result"
    }
   ],
   "source": [
    "alt.Chart(tke_vs_wind_speed_src).mark_line().encode(\n",
    "    alt.X(\"wind speed group:Q\"),\n",
    "    alt.Y(\"mean(Velocity scale):Q\"),\n",
    "    alt.Color(\"height:O\")\n",
    ")"
   ]
  },
  {
   "cell_type": "code",
   "execution_count": 14,
   "metadata": {},
   "outputs": [
    {
     "data": {
      "text/html": [
       "\n",
       "<style>\n",
       "  #altair-viz-740458a6cb2a4306aa16405c582e0588.vega-embed {\n",
       "    width: 100%;\n",
       "    display: flex;\n",
       "  }\n",
       "\n",
       "  #altair-viz-740458a6cb2a4306aa16405c582e0588.vega-embed details,\n",
       "  #altair-viz-740458a6cb2a4306aa16405c582e0588.vega-embed details summary {\n",
       "    position: relative;\n",
       "  }\n",
       "</style>\n",
       "<div id=\"altair-viz-740458a6cb2a4306aa16405c582e0588\"></div>\n",
       "<script type=\"text/javascript\">\n",
       "  var VEGA_DEBUG = (typeof VEGA_DEBUG == \"undefined\") ? {} : VEGA_DEBUG;\n",
       "  (function(spec, embedOpt){\n",
       "    let outputDiv = document.currentScript.previousElementSibling;\n",
       "    if (outputDiv.id !== \"altair-viz-740458a6cb2a4306aa16405c582e0588\") {\n",
       "      outputDiv = document.getElementById(\"altair-viz-740458a6cb2a4306aa16405c582e0588\");\n",
       "    }\n",
       "    const paths = {\n",
       "      \"vega\": \"https://cdn.jsdelivr.net/npm/vega@5?noext\",\n",
       "      \"vega-lib\": \"https://cdn.jsdelivr.net/npm/vega-lib?noext\",\n",
       "      \"vega-lite\": \"https://cdn.jsdelivr.net/npm/vega-lite@5.8.0?noext\",\n",
       "      \"vega-embed\": \"https://cdn.jsdelivr.net/npm/vega-embed@6?noext\",\n",
       "    };\n",
       "\n",
       "    function maybeLoadScript(lib, version) {\n",
       "      var key = `${lib.replace(\"-\", \"\")}_version`;\n",
       "      return (VEGA_DEBUG[key] == version) ?\n",
       "        Promise.resolve(paths[lib]) :\n",
       "        new Promise(function(resolve, reject) {\n",
       "          var s = document.createElement('script');\n",
       "          document.getElementsByTagName(\"head\")[0].appendChild(s);\n",
       "          s.async = true;\n",
       "          s.onload = () => {\n",
       "            VEGA_DEBUG[key] = version;\n",
       "            return resolve(paths[lib]);\n",
       "          };\n",
       "          s.onerror = () => reject(`Error loading script: ${paths[lib]}`);\n",
       "          s.src = paths[lib];\n",
       "        });\n",
       "    }\n",
       "\n",
       "    function showError(err) {\n",
       "      outputDiv.innerHTML = `<div class=\"error\" style=\"color:red;\">${err}</div>`;\n",
       "      throw err;\n",
       "    }\n",
       "\n",
       "    function displayChart(vegaEmbed) {\n",
       "      vegaEmbed(outputDiv, spec, embedOpt)\n",
       "        .catch(err => showError(`Javascript Error: ${err.message}<br>This usually means there's a typo in your chart specification. See the javascript console for the full traceback.`));\n",
       "    }\n",
       "\n",
       "    if(typeof define === \"function\" && define.amd) {\n",
       "      requirejs.config({paths});\n",
       "      require([\"vega-embed\"], displayChart, err => showError(`Error loading script: ${err.message}`));\n",
       "    } else {\n",
       "      maybeLoadScript(\"vega\", \"5\")\n",
       "        .then(() => maybeLoadScript(\"vega-lite\", \"5.8.0\"))\n",
       "        .then(() => maybeLoadScript(\"vega-embed\", \"6\"))\n",
       "        .catch(showError)\n",
       "        .then(() => displayChart(vegaEmbed));\n",
       "    }\n",
       "  })({\"config\": {\"view\": {\"continuousWidth\": 300, \"continuousHeight\": 300}}, \"data\": {\"url\": \"altair-data-13e31efb5cf4ee66f8452cfcd396d515.json\", \"format\": {\"type\": \"json\"}}, \"facet\": {\"row\": {\"field\": \"height\", \"type\": \"ordinal\"}}, \"spec\": {\"mark\": {\"type\": \"circle\", \"opacity\": 0.15, \"size\": 5}, \"encoding\": {\"x\": {\"field\": \"wind speed\", \"type\": \"quantitative\"}, \"y\": {\"field\": \"Velocity scale\", \"title\": \"turbulence intensity\", \"type\": \"quantitative\"}}, \"height\": 100, \"width\": 150}, \"$schema\": \"https://vega.github.io/schema/vega-lite/v5.8.0.json\"}, {\"mode\": \"vega-lite\"});\n",
       "</script>"
      ],
      "text/plain": [
       "alt.FacetChart(...)"
      ]
     },
     "execution_count": 14,
     "metadata": {},
     "output_type": "execute_result"
    }
   ],
   "source": [
    "src = tke_vs_wind_speed_src.copy()\n",
    "src = src[src.height.isin([2,10, 20])]\n",
    "all_data_scaling_chart = alt.Chart(\n",
    "    src\n",
    ").mark_circle(opacity=0.15, size=5).encode(\n",
    "    alt.X(\"wind speed:Q\"),\n",
    "    alt.Y(\"Velocity scale:Q\").title('turbulence intensity')\n",
    ").properties(width=150, height=100).facet(row='height:O')\n",
    "all_data_scaling_chart"
   ]
  },
  {
   "cell_type": "code",
   "execution_count": 15,
   "metadata": {},
   "outputs": [],
   "source": [
    "tke_vs_wind_speed_src['threshold'] = tke_vs_wind_speed_src['wind speed'] > 3"
   ]
  },
  {
   "cell_type": "code",
   "execution_count": 16,
   "metadata": {},
   "outputs": [
    {
     "data": {
      "text/html": [
       "\n",
       "<style>\n",
       "  #altair-viz-3b20421c08b848fba99816c2b12a26be.vega-embed {\n",
       "    width: 100%;\n",
       "    display: flex;\n",
       "  }\n",
       "\n",
       "  #altair-viz-3b20421c08b848fba99816c2b12a26be.vega-embed details,\n",
       "  #altair-viz-3b20421c08b848fba99816c2b12a26be.vega-embed details summary {\n",
       "    position: relative;\n",
       "  }\n",
       "</style>\n",
       "<div id=\"altair-viz-3b20421c08b848fba99816c2b12a26be\"></div>\n",
       "<script type=\"text/javascript\">\n",
       "  var VEGA_DEBUG = (typeof VEGA_DEBUG == \"undefined\") ? {} : VEGA_DEBUG;\n",
       "  (function(spec, embedOpt){\n",
       "    let outputDiv = document.currentScript.previousElementSibling;\n",
       "    if (outputDiv.id !== \"altair-viz-3b20421c08b848fba99816c2b12a26be\") {\n",
       "      outputDiv = document.getElementById(\"altair-viz-3b20421c08b848fba99816c2b12a26be\");\n",
       "    }\n",
       "    const paths = {\n",
       "      \"vega\": \"https://cdn.jsdelivr.net/npm/vega@5?noext\",\n",
       "      \"vega-lib\": \"https://cdn.jsdelivr.net/npm/vega-lib?noext\",\n",
       "      \"vega-lite\": \"https://cdn.jsdelivr.net/npm/vega-lite@5.8.0?noext\",\n",
       "      \"vega-embed\": \"https://cdn.jsdelivr.net/npm/vega-embed@6?noext\",\n",
       "    };\n",
       "\n",
       "    function maybeLoadScript(lib, version) {\n",
       "      var key = `${lib.replace(\"-\", \"\")}_version`;\n",
       "      return (VEGA_DEBUG[key] == version) ?\n",
       "        Promise.resolve(paths[lib]) :\n",
       "        new Promise(function(resolve, reject) {\n",
       "          var s = document.createElement('script');\n",
       "          document.getElementsByTagName(\"head\")[0].appendChild(s);\n",
       "          s.async = true;\n",
       "          s.onload = () => {\n",
       "            VEGA_DEBUG[key] = version;\n",
       "            return resolve(paths[lib]);\n",
       "          };\n",
       "          s.onerror = () => reject(`Error loading script: ${paths[lib]}`);\n",
       "          s.src = paths[lib];\n",
       "        });\n",
       "    }\n",
       "\n",
       "    function showError(err) {\n",
       "      outputDiv.innerHTML = `<div class=\"error\" style=\"color:red;\">${err}</div>`;\n",
       "      throw err;\n",
       "    }\n",
       "\n",
       "    function displayChart(vegaEmbed) {\n",
       "      vegaEmbed(outputDiv, spec, embedOpt)\n",
       "        .catch(err => showError(`Javascript Error: ${err.message}<br>This usually means there's a typo in your chart specification. See the javascript console for the full traceback.`));\n",
       "    }\n",
       "\n",
       "    if(typeof define === \"function\" && define.amd) {\n",
       "      requirejs.config({paths});\n",
       "      require([\"vega-embed\"], displayChart, err => showError(`Error loading script: ${err.message}`));\n",
       "    } else {\n",
       "      maybeLoadScript(\"vega\", \"5\")\n",
       "        .then(() => maybeLoadScript(\"vega-lite\", \"5.8.0\"))\n",
       "        .then(() => maybeLoadScript(\"vega-embed\", \"6\"))\n",
       "        .catch(showError)\n",
       "        .then(() => displayChart(vegaEmbed));\n",
       "    }\n",
       "  })({\"config\": {\"view\": {\"continuousWidth\": 300, \"continuousHeight\": 300}}, \"data\": {\"url\": \"altair-data-d6e25d29e468d3d38f6a86d8e14257c2.json\", \"format\": {\"type\": \"json\"}}, \"facet\": {\"field\": \"height\", \"type\": \"ordinal\"}, \"spec\": {\"mark\": {\"type\": \"circle\", \"opacity\": 0.15, \"size\": 5}, \"encoding\": {\"color\": {\"field\": \"threshold\", \"type\": \"nominal\"}, \"x\": {\"field\": \"richardson number\", \"scale\": {\"clamp\": true, \"domain\": [0.001, 10.0], \"type\": \"log\"}, \"type\": \"quantitative\"}, \"y\": {\"field\": \"Velocity scale\", \"type\": \"quantitative\"}}, \"height\": 175, \"transform\": [{\"filter\": {\"field\": \"richardson number\", \"lt\": 10}}], \"width\": 175}, \"$schema\": \"https://vega.github.io/schema/vega-lite/v5.8.0.json\"}, {\"mode\": \"vega-lite\"});\n",
       "</script>"
      ],
      "text/plain": [
       "alt.FacetChart(...)"
      ]
     },
     "execution_count": 16,
     "metadata": {},
     "output_type": "execute_result"
    }
   ],
   "source": [
    "alt.Chart(\n",
    "    tke_vs_wind_speed_src[tke_vs_wind_speed_src['richardson number'] > 0]\n",
    ").transform_filter(\n",
    "    alt.FieldLTPredicate(\"richardson number\", 10)\n",
    ").mark_circle(opacity=0.15, size=5).encode(\n",
    "    alt.X(\"richardson number:Q\", scale=alt.Scale(type='log', domain = [1e-3, 1e1], clamp=True)),\n",
    "    alt.Y(\"Velocity scale:Q\"),\n",
    "    alt.Color(\"threshold:N\")\n",
    ").properties(width=175, height=175).facet('height:O')"
   ]
  },
  {
   "attachments": {},
   "cell_type": "markdown",
   "metadata": {},
   "source": [
    "## Plot: Ri vs Velocity Scale plots for case studies"
   ]
  },
  {
   "cell_type": "code",
   "execution_count": 17,
   "metadata": {},
   "outputs": [
    {
     "data": {
      "text/html": [
       "\n",
       "<style>\n",
       "  #altair-viz-78bc3e5f91494c359bde734cfd27b465.vega-embed {\n",
       "    width: 100%;\n",
       "    display: flex;\n",
       "  }\n",
       "\n",
       "  #altair-viz-78bc3e5f91494c359bde734cfd27b465.vega-embed details,\n",
       "  #altair-viz-78bc3e5f91494c359bde734cfd27b465.vega-embed details summary {\n",
       "    position: relative;\n",
       "  }\n",
       "</style>\n",
       "<div id=\"altair-viz-78bc3e5f91494c359bde734cfd27b465\"></div>\n",
       "<script type=\"text/javascript\">\n",
       "  var VEGA_DEBUG = (typeof VEGA_DEBUG == \"undefined\") ? {} : VEGA_DEBUG;\n",
       "  (function(spec, embedOpt){\n",
       "    let outputDiv = document.currentScript.previousElementSibling;\n",
       "    if (outputDiv.id !== \"altair-viz-78bc3e5f91494c359bde734cfd27b465\") {\n",
       "      outputDiv = document.getElementById(\"altair-viz-78bc3e5f91494c359bde734cfd27b465\");\n",
       "    }\n",
       "    const paths = {\n",
       "      \"vega\": \"https://cdn.jsdelivr.net/npm/vega@5?noext\",\n",
       "      \"vega-lib\": \"https://cdn.jsdelivr.net/npm/vega-lib?noext\",\n",
       "      \"vega-lite\": \"https://cdn.jsdelivr.net/npm/vega-lite@5.8.0?noext\",\n",
       "      \"vega-embed\": \"https://cdn.jsdelivr.net/npm/vega-embed@6?noext\",\n",
       "    };\n",
       "\n",
       "    function maybeLoadScript(lib, version) {\n",
       "      var key = `${lib.replace(\"-\", \"\")}_version`;\n",
       "      return (VEGA_DEBUG[key] == version) ?\n",
       "        Promise.resolve(paths[lib]) :\n",
       "        new Promise(function(resolve, reject) {\n",
       "          var s = document.createElement('script');\n",
       "          document.getElementsByTagName(\"head\")[0].appendChild(s);\n",
       "          s.async = true;\n",
       "          s.onload = () => {\n",
       "            VEGA_DEBUG[key] = version;\n",
       "            return resolve(paths[lib]);\n",
       "          };\n",
       "          s.onerror = () => reject(`Error loading script: ${paths[lib]}`);\n",
       "          s.src = paths[lib];\n",
       "        });\n",
       "    }\n",
       "\n",
       "    function showError(err) {\n",
       "      outputDiv.innerHTML = `<div class=\"error\" style=\"color:red;\">${err}</div>`;\n",
       "      throw err;\n",
       "    }\n",
       "\n",
       "    function displayChart(vegaEmbed) {\n",
       "      vegaEmbed(outputDiv, spec, embedOpt)\n",
       "        .catch(err => showError(`Javascript Error: ${err.message}<br>This usually means there's a typo in your chart specification. See the javascript console for the full traceback.`));\n",
       "    }\n",
       "\n",
       "    if(typeof define === \"function\" && define.amd) {\n",
       "      requirejs.config({paths});\n",
       "      require([\"vega-embed\"], displayChart, err => showError(`Error loading script: ${err.message}`));\n",
       "    } else {\n",
       "      maybeLoadScript(\"vega\", \"5\")\n",
       "        .then(() => maybeLoadScript(\"vega-lite\", \"5.8.0\"))\n",
       "        .then(() => maybeLoadScript(\"vega-embed\", \"6\"))\n",
       "        .catch(showError)\n",
       "        .then(() => displayChart(vegaEmbed));\n",
       "    }\n",
       "  })({\"config\": {\"view\": {\"continuousWidth\": 300, \"continuousHeight\": 300}}, \"data\": {\"url\": \"altair-data-4fb38adb1cbe0688444c3ff6b4494f9c.json\", \"format\": {\"type\": \"json\"}}, \"mark\": {\"type\": \"circle\", \"opacity\": 0.25, \"size\": 8}, \"encoding\": {\"x\": {\"field\": \"wind speed\", \"type\": \"quantitative\"}, \"y\": {\"field\": \"Velocity scale\", \"scale\": {\"domain\": [0, 4], \"clamp\": true}, \"title\": \"turbulence intensity\", \"type\": \"quantitative\"}}, \"height\": 100, \"transform\": [{\"filter\": {\"field\": \"wind speed\", \"lt\": 10}}], \"width\": 150, \"$schema\": \"https://vega.github.io/schema/vega-lite/v5.8.0.json\"}, {\"mode\": \"vega-lite\"});\n",
       "</script>"
      ],
      "text/plain": [
       "alt.Chart(...)"
      ]
     },
     "execution_count": 17,
     "metadata": {},
     "output_type": "execute_result"
    }
   ],
   "source": [
    "src = tke_vs_wind_speed_src.copy().set_index('time').loc['2023-02-19':'2023-02-25']\n",
    "src = src[src['wind speed'] < 10]\n",
    "src = src[src.height.isin([2,10, 20])]\n",
    "all_data_scaling_chart = alt.Chart(\n",
    "    src\n",
    ").transform_filter(\n",
    "    alt.FieldLTPredicate(\"wind speed\", 10)\n",
    ").mark_circle(opacity=0.25, size=8).encode(\n",
    "    alt.X(\"wind speed:Q\"),\n",
    "    alt.Y(\"Velocity scale:Q\", title='turbulence intensity').scale(\n",
    "        domain=[0,4], clamp=True\n",
    "    )\n",
    ").properties(width=150, height=100)\n",
    "all_data_scaling_chart"
   ]
  },
  {
   "cell_type": "code",
   "execution_count": 18,
   "metadata": {},
   "outputs": [
    {
     "data": {
      "text/html": [
       "\n",
       "<style>\n",
       "  #altair-viz-550e74a9c9274a32988454acfa95b7c6.vega-embed {\n",
       "    width: 100%;\n",
       "    display: flex;\n",
       "  }\n",
       "\n",
       "  #altair-viz-550e74a9c9274a32988454acfa95b7c6.vega-embed details,\n",
       "  #altair-viz-550e74a9c9274a32988454acfa95b7c6.vega-embed details summary {\n",
       "    position: relative;\n",
       "  }\n",
       "</style>\n",
       "<div id=\"altair-viz-550e74a9c9274a32988454acfa95b7c6\"></div>\n",
       "<script type=\"text/javascript\">\n",
       "  var VEGA_DEBUG = (typeof VEGA_DEBUG == \"undefined\") ? {} : VEGA_DEBUG;\n",
       "  (function(spec, embedOpt){\n",
       "    let outputDiv = document.currentScript.previousElementSibling;\n",
       "    if (outputDiv.id !== \"altair-viz-550e74a9c9274a32988454acfa95b7c6\") {\n",
       "      outputDiv = document.getElementById(\"altair-viz-550e74a9c9274a32988454acfa95b7c6\");\n",
       "    }\n",
       "    const paths = {\n",
       "      \"vega\": \"https://cdn.jsdelivr.net/npm/vega@5?noext\",\n",
       "      \"vega-lib\": \"https://cdn.jsdelivr.net/npm/vega-lib?noext\",\n",
       "      \"vega-lite\": \"https://cdn.jsdelivr.net/npm/vega-lite@5.8.0?noext\",\n",
       "      \"vega-embed\": \"https://cdn.jsdelivr.net/npm/vega-embed@6?noext\",\n",
       "    };\n",
       "\n",
       "    function maybeLoadScript(lib, version) {\n",
       "      var key = `${lib.replace(\"-\", \"\")}_version`;\n",
       "      return (VEGA_DEBUG[key] == version) ?\n",
       "        Promise.resolve(paths[lib]) :\n",
       "        new Promise(function(resolve, reject) {\n",
       "          var s = document.createElement('script');\n",
       "          document.getElementsByTagName(\"head\")[0].appendChild(s);\n",
       "          s.async = true;\n",
       "          s.onload = () => {\n",
       "            VEGA_DEBUG[key] = version;\n",
       "            return resolve(paths[lib]);\n",
       "          };\n",
       "          s.onerror = () => reject(`Error loading script: ${paths[lib]}`);\n",
       "          s.src = paths[lib];\n",
       "        });\n",
       "    }\n",
       "\n",
       "    function showError(err) {\n",
       "      outputDiv.innerHTML = `<div class=\"error\" style=\"color:red;\">${err}</div>`;\n",
       "      throw err;\n",
       "    }\n",
       "\n",
       "    function displayChart(vegaEmbed) {\n",
       "      vegaEmbed(outputDiv, spec, embedOpt)\n",
       "        .catch(err => showError(`Javascript Error: ${err.message}<br>This usually means there's a typo in your chart specification. See the javascript console for the full traceback.`));\n",
       "    }\n",
       "\n",
       "    if(typeof define === \"function\" && define.amd) {\n",
       "      requirejs.config({paths});\n",
       "      require([\"vega-embed\"], displayChart, err => showError(`Error loading script: ${err.message}`));\n",
       "    } else {\n",
       "      maybeLoadScript(\"vega\", \"5\")\n",
       "        .then(() => maybeLoadScript(\"vega-lite\", \"5.8.0\"))\n",
       "        .then(() => maybeLoadScript(\"vega-embed\", \"6\"))\n",
       "        .catch(showError)\n",
       "        .then(() => displayChart(vegaEmbed));\n",
       "    }\n",
       "  })({\"config\": {\"view\": {\"continuousWidth\": 300, \"continuousHeight\": 300}}, \"data\": {\"url\": \"altair-data-6c1f6145d762d3e0a71f3716ad2cd4ec.json\", \"format\": {\"type\": \"json\"}}, \"mark\": {\"type\": \"circle\", \"opacity\": 0.25, \"size\": 8}, \"encoding\": {\"x\": {\"field\": \"wind speed\", \"type\": \"quantitative\"}, \"y\": {\"field\": \"Velocity scale\", \"scale\": {\"clamp\": true, \"domain\": [0, 4]}, \"title\": \"turbulence intensity\", \"type\": \"quantitative\"}}, \"height\": 100, \"transform\": [{\"filter\": {\"field\": \"wind speed\", \"lt\": 10}}], \"width\": 150, \"$schema\": \"https://vega.github.io/schema/vega-lite/v5.8.0.json\"}, {\"mode\": \"vega-lite\"});\n",
       "</script>"
      ],
      "text/plain": [
       "alt.Chart(...)"
      ]
     },
     "execution_count": 18,
     "metadata": {},
     "output_type": "execute_result"
    }
   ],
   "source": [
    "src = tke_vs_wind_speed_src.copy().set_index('time').loc['2023-03-16':'2023-03-20']\n",
    "src = src[src['wind speed'] < 10]\n",
    "src = src[src.height.isin([2,10, 20])]\n",
    "all_data_scaling_chart = alt.Chart(\n",
    "    src\n",
    ").transform_filter(\n",
    "    alt.FieldLTPredicate(\"wind speed\", 10)\n",
    ").mark_circle(opacity=0.25, size=8).encode(\n",
    "    alt.X(\"wind speed:Q\"),\n",
    "    alt.Y(\"Velocity scale:Q\", scale=alt.Scale(domain=[0,4], clamp=True), title='turbulence intensity')\n",
    ").properties(width=150, height=100)\n",
    "all_data_scaling_chart\n",
    "\n"
   ]
  },
  {
   "cell_type": "code",
   "execution_count": 19,
   "metadata": {},
   "outputs": [
    {
     "data": {
      "text/html": [
       "\n",
       "<style>\n",
       "  #altair-viz-e3fb9eed6f234128947ff37c5a50e3ab.vega-embed {\n",
       "    width: 100%;\n",
       "    display: flex;\n",
       "  }\n",
       "\n",
       "  #altair-viz-e3fb9eed6f234128947ff37c5a50e3ab.vega-embed details,\n",
       "  #altair-viz-e3fb9eed6f234128947ff37c5a50e3ab.vega-embed details summary {\n",
       "    position: relative;\n",
       "  }\n",
       "</style>\n",
       "<div id=\"altair-viz-e3fb9eed6f234128947ff37c5a50e3ab\"></div>\n",
       "<script type=\"text/javascript\">\n",
       "  var VEGA_DEBUG = (typeof VEGA_DEBUG == \"undefined\") ? {} : VEGA_DEBUG;\n",
       "  (function(spec, embedOpt){\n",
       "    let outputDiv = document.currentScript.previousElementSibling;\n",
       "    if (outputDiv.id !== \"altair-viz-e3fb9eed6f234128947ff37c5a50e3ab\") {\n",
       "      outputDiv = document.getElementById(\"altair-viz-e3fb9eed6f234128947ff37c5a50e3ab\");\n",
       "    }\n",
       "    const paths = {\n",
       "      \"vega\": \"https://cdn.jsdelivr.net/npm/vega@5?noext\",\n",
       "      \"vega-lib\": \"https://cdn.jsdelivr.net/npm/vega-lib?noext\",\n",
       "      \"vega-lite\": \"https://cdn.jsdelivr.net/npm/vega-lite@5.8.0?noext\",\n",
       "      \"vega-embed\": \"https://cdn.jsdelivr.net/npm/vega-embed@6?noext\",\n",
       "    };\n",
       "\n",
       "    function maybeLoadScript(lib, version) {\n",
       "      var key = `${lib.replace(\"-\", \"\")}_version`;\n",
       "      return (VEGA_DEBUG[key] == version) ?\n",
       "        Promise.resolve(paths[lib]) :\n",
       "        new Promise(function(resolve, reject) {\n",
       "          var s = document.createElement('script');\n",
       "          document.getElementsByTagName(\"head\")[0].appendChild(s);\n",
       "          s.async = true;\n",
       "          s.onload = () => {\n",
       "            VEGA_DEBUG[key] = version;\n",
       "            return resolve(paths[lib]);\n",
       "          };\n",
       "          s.onerror = () => reject(`Error loading script: ${paths[lib]}`);\n",
       "          s.src = paths[lib];\n",
       "        });\n",
       "    }\n",
       "\n",
       "    function showError(err) {\n",
       "      outputDiv.innerHTML = `<div class=\"error\" style=\"color:red;\">${err}</div>`;\n",
       "      throw err;\n",
       "    }\n",
       "\n",
       "    function displayChart(vegaEmbed) {\n",
       "      vegaEmbed(outputDiv, spec, embedOpt)\n",
       "        .catch(err => showError(`Javascript Error: ${err.message}<br>This usually means there's a typo in your chart specification. See the javascript console for the full traceback.`));\n",
       "    }\n",
       "\n",
       "    if(typeof define === \"function\" && define.amd) {\n",
       "      requirejs.config({paths});\n",
       "      require([\"vega-embed\"], displayChart, err => showError(`Error loading script: ${err.message}`));\n",
       "    } else {\n",
       "      maybeLoadScript(\"vega\", \"5\")\n",
       "        .then(() => maybeLoadScript(\"vega-lite\", \"5.8.0\"))\n",
       "        .then(() => maybeLoadScript(\"vega-embed\", \"6\"))\n",
       "        .catch(showError)\n",
       "        .then(() => displayChart(vegaEmbed));\n",
       "    }\n",
       "  })({\"config\": {\"view\": {\"continuousWidth\": 300, \"continuousHeight\": 300}}, \"data\": {\"url\": \"altair-data-c074211dba41bc3a26ac3de7ff1f21fb.json\", \"format\": {\"type\": \"json\"}}, \"mark\": {\"type\": \"circle\", \"opacity\": 0.25, \"size\": 8}, \"encoding\": {\"x\": {\"field\": \"wind speed\", \"type\": \"quantitative\"}, \"y\": {\"field\": \"Velocity scale\", \"scale\": {\"clamp\": true, \"domain\": [0, 4]}, \"title\": \"turbulence intensity\", \"type\": \"quantitative\"}}, \"height\": 100, \"transform\": [{\"filter\": {\"field\": \"wind speed\", \"lt\": 10}}], \"width\": 150, \"$schema\": \"https://vega.github.io/schema/vega-lite/v5.8.0.json\"}, {\"mode\": \"vega-lite\"});\n",
       "</script>"
      ],
      "text/plain": [
       "alt.Chart(...)"
      ]
     },
     "execution_count": 19,
     "metadata": {},
     "output_type": "execute_result"
    }
   ],
   "source": [
    "src = tke_vs_wind_speed_src.copy().set_index('time').loc['2023-01-31':'2023-02-05']\n",
    "src = src[src['wind speed'] < 10]\n",
    "src = src[src.height.isin([2,10, 20])]\n",
    "all_data_scaling_chart = alt.Chart(\n",
    "    src\n",
    ").transform_filter(\n",
    "    alt.FieldLTPredicate(\"wind speed\", 10)\n",
    ").mark_circle(opacity=0.25, size=8).encode(\n",
    "    alt.X(\"wind speed:Q\"),\n",
    "    alt.Y(\"Velocity scale:Q\", scale=alt.Scale(domain=[0,4], clamp=True), title='turbulence intensity')\n",
    ").properties(width=150, height=100)\n",
    "all_data_scaling_chart\n",
    "\n"
   ]
  },
  {
   "cell_type": "code",
   "execution_count": 20,
   "metadata": {},
   "outputs": [
    {
     "data": {
      "text/html": [
       "\n",
       "<style>\n",
       "  #altair-viz-185ad8e480f24037aeb28d3e7ca92c9a.vega-embed {\n",
       "    width: 100%;\n",
       "    display: flex;\n",
       "  }\n",
       "\n",
       "  #altair-viz-185ad8e480f24037aeb28d3e7ca92c9a.vega-embed details,\n",
       "  #altair-viz-185ad8e480f24037aeb28d3e7ca92c9a.vega-embed details summary {\n",
       "    position: relative;\n",
       "  }\n",
       "</style>\n",
       "<div id=\"altair-viz-185ad8e480f24037aeb28d3e7ca92c9a\"></div>\n",
       "<script type=\"text/javascript\">\n",
       "  var VEGA_DEBUG = (typeof VEGA_DEBUG == \"undefined\") ? {} : VEGA_DEBUG;\n",
       "  (function(spec, embedOpt){\n",
       "    let outputDiv = document.currentScript.previousElementSibling;\n",
       "    if (outputDiv.id !== \"altair-viz-185ad8e480f24037aeb28d3e7ca92c9a\") {\n",
       "      outputDiv = document.getElementById(\"altair-viz-185ad8e480f24037aeb28d3e7ca92c9a\");\n",
       "    }\n",
       "    const paths = {\n",
       "      \"vega\": \"https://cdn.jsdelivr.net/npm/vega@5?noext\",\n",
       "      \"vega-lib\": \"https://cdn.jsdelivr.net/npm/vega-lib?noext\",\n",
       "      \"vega-lite\": \"https://cdn.jsdelivr.net/npm/vega-lite@5.8.0?noext\",\n",
       "      \"vega-embed\": \"https://cdn.jsdelivr.net/npm/vega-embed@6?noext\",\n",
       "    };\n",
       "\n",
       "    function maybeLoadScript(lib, version) {\n",
       "      var key = `${lib.replace(\"-\", \"\")}_version`;\n",
       "      return (VEGA_DEBUG[key] == version) ?\n",
       "        Promise.resolve(paths[lib]) :\n",
       "        new Promise(function(resolve, reject) {\n",
       "          var s = document.createElement('script');\n",
       "          document.getElementsByTagName(\"head\")[0].appendChild(s);\n",
       "          s.async = true;\n",
       "          s.onload = () => {\n",
       "            VEGA_DEBUG[key] = version;\n",
       "            return resolve(paths[lib]);\n",
       "          };\n",
       "          s.onerror = () => reject(`Error loading script: ${paths[lib]}`);\n",
       "          s.src = paths[lib];\n",
       "        });\n",
       "    }\n",
       "\n",
       "    function showError(err) {\n",
       "      outputDiv.innerHTML = `<div class=\"error\" style=\"color:red;\">${err}</div>`;\n",
       "      throw err;\n",
       "    }\n",
       "\n",
       "    function displayChart(vegaEmbed) {\n",
       "      vegaEmbed(outputDiv, spec, embedOpt)\n",
       "        .catch(err => showError(`Javascript Error: ${err.message}<br>This usually means there's a typo in your chart specification. See the javascript console for the full traceback.`));\n",
       "    }\n",
       "\n",
       "    if(typeof define === \"function\" && define.amd) {\n",
       "      requirejs.config({paths});\n",
       "      require([\"vega-embed\"], displayChart, err => showError(`Error loading script: ${err.message}`));\n",
       "    } else {\n",
       "      maybeLoadScript(\"vega\", \"5\")\n",
       "        .then(() => maybeLoadScript(\"vega-lite\", \"5.8.0\"))\n",
       "        .then(() => maybeLoadScript(\"vega-embed\", \"6\"))\n",
       "        .catch(showError)\n",
       "        .then(() => displayChart(vegaEmbed));\n",
       "    }\n",
       "  })({\"config\": {\"view\": {\"continuousWidth\": 300, \"continuousHeight\": 300}}, \"vconcat\": [{\"data\": {\"url\": \"altair-data-4634f780cb1ce72788984e3d84bb0ca1.json\", \"format\": {\"type\": \"json\"}}, \"facet\": {\"field\": \"height\", \"type\": \"ordinal\"}, \"spec\": {\"mark\": {\"type\": \"circle\", \"opacity\": 0.15}, \"encoding\": {\"x\": {\"field\": \"wind speed\", \"type\": \"quantitative\"}, \"y\": {\"field\": \"Velocity scale\", \"type\": \"quantitative\"}}, \"height\": 175, \"transform\": [{\"filter\": {\"field\": \"wind speed\", \"lt\": 10}}], \"width\": 175}}, {\"data\": {\"url\": \"altair-data-d65b6eddad5b6ec6eaf73297343fff2f.json\", \"format\": {\"type\": \"json\"}}, \"facet\": {\"field\": \"height\", \"type\": \"ordinal\"}, \"spec\": {\"mark\": {\"type\": \"circle\", \"opacity\": 0.5}, \"encoding\": {\"x\": {\"field\": \"wind speed\", \"type\": \"quantitative\"}, \"y\": {\"field\": \"Velocity scale\", \"type\": \"quantitative\"}}, \"height\": 175, \"transform\": [{\"filter\": {\"field\": \"wind speed\", \"lt\": 10}}], \"width\": 175}}, {\"data\": {\"url\": \"altair-data-edf7419c3e24d887b88b3f76265e6a24.json\", \"format\": {\"type\": \"json\"}}, \"facet\": {\"field\": \"height\", \"type\": \"ordinal\"}, \"spec\": {\"mark\": {\"type\": \"circle\", \"opacity\": 0.5}, \"encoding\": {\"x\": {\"field\": \"wind speed\", \"type\": \"quantitative\"}, \"y\": {\"field\": \"Velocity scale\", \"type\": \"quantitative\"}}, \"height\": 175, \"transform\": [{\"filter\": {\"field\": \"wind speed\", \"lt\": 10}}], \"width\": 175}}, {\"data\": {\"url\": \"altair-data-43e793c437b52fbd1bb79d6c3c705e52.json\", \"format\": {\"type\": \"json\"}}, \"facet\": {\"field\": \"height\", \"type\": \"ordinal\"}, \"spec\": {\"mark\": {\"type\": \"circle\", \"opacity\": 0.5}, \"encoding\": {\"x\": {\"field\": \"wind speed\", \"type\": \"quantitative\"}, \"y\": {\"field\": \"Velocity scale\", \"type\": \"quantitative\"}}, \"height\": 175, \"transform\": [{\"filter\": {\"field\": \"wind speed\", \"lt\": 10}}], \"width\": 175}}, {\"data\": {\"url\": \"altair-data-19640fe2a5eee23e1b815d02961be505.json\", \"format\": {\"type\": \"json\"}}, \"facet\": {\"field\": \"height\", \"type\": \"ordinal\"}, \"spec\": {\"mark\": {\"type\": \"circle\", \"opacity\": 0.5}, \"encoding\": {\"x\": {\"field\": \"wind speed\", \"type\": \"quantitative\"}, \"y\": {\"field\": \"Velocity scale\", \"type\": \"quantitative\"}}, \"height\": 175, \"transform\": [{\"filter\": {\"field\": \"wind speed\", \"lt\": 10}}], \"width\": 175}}], \"resolve\": {\"scale\": {\"x\": \"shared\", \"y\": \"shared\"}}, \"$schema\": \"https://vega.github.io/schema/vega-lite/v5.8.0.json\"}, {\"mode\": \"vega-lite\"});\n",
       "</script>"
      ],
      "text/plain": [
       "alt.VConcatChart(...)"
      ]
     },
     "execution_count": 20,
     "metadata": {},
     "output_type": "execute_result"
    }
   ],
   "source": [
    "(\n",
    "    alt.Chart(\n",
    "        tke_vs_wind_speed_src\n",
    "    ).transform_filter(\n",
    "        alt.FieldLTPredicate(\"wind speed\", 10)\n",
    "    ).mark_circle(opacity=0.15).encode(\n",
    "        alt.X(\"wind speed:Q\"),\n",
    "        alt.Y(\"Velocity scale:Q\")\n",
    "    ).properties(width=175, height=175).facet('height:O')\n",
    "    &\n",
    "    alt.Chart(\n",
    "        tke_vs_wind_speed_src.set_index('time').loc['2022-12-17':'2022-12-21']\n",
    "    ).transform_filter(\n",
    "        alt.FieldLTPredicate(\"wind speed\", 10)\n",
    "    ).mark_circle(opacity=0.5).encode(\n",
    "        alt.X(\"wind speed:Q\"),\n",
    "        alt.Y(\"Velocity scale:Q\")\n",
    "    ).properties(width=175, height=175).facet('height:O')\n",
    "    &\n",
    "    alt.Chart(\n",
    "        tke_vs_wind_speed_src.set_index('time').loc['2023-02-19':'2023-02-25']\n",
    "    ).transform_filter(\n",
    "        alt.FieldLTPredicate(\"wind speed\", 10)\n",
    "    ).mark_circle(opacity=0.5).encode(\n",
    "        alt.X(\"wind speed:Q\"),\n",
    "        alt.Y(\"Velocity scale:Q\")\n",
    "    ).properties(width=175, height=175).facet('height:O')\n",
    "    &\n",
    "    alt.Chart(\n",
    "        tke_vs_wind_speed_src.set_index('time').loc['2023-01-31':'2023-02-04']\n",
    "    ).transform_filter(\n",
    "        alt.FieldLTPredicate(\"wind speed\", 10)\n",
    "    ).mark_circle(opacity=0.5).encode(\n",
    "        alt.X(\"wind speed:Q\"),\n",
    "        alt.Y(\"Velocity scale:Q\")\n",
    "    ).properties(width=175, height=175).facet('height:O')\n",
    "    &\n",
    "    alt.Chart(\n",
    "        tke_vs_wind_speed_src.set_index('time').loc['2023-02-04':'2023-02-08']\n",
    "    ).transform_filter(\n",
    "        alt.FieldLTPredicate(\"wind speed\", 10)\n",
    "    ).mark_circle(opacity=0.5).encode(\n",
    "        alt.X(\"wind speed:Q\"),\n",
    "        alt.Y(\"Velocity scale:Q\")\n",
    "    ).properties(width=175, height=175).facet('height:O')\n",
    ").resolve_scale(x='shared', y='shared')"
   ]
  },
  {
   "attachments": {},
   "cell_type": "markdown",
   "metadata": {},
   "source": [
    "## Plot: Turbulence regimes"
   ]
  },
  {
   "cell_type": "code",
   "execution_count": 21,
   "metadata": {},
   "outputs": [
    {
     "data": {
      "text/html": [
       "\n",
       "<style>\n",
       "  #altair-viz-c223904bfb234489a2839168c8cc70f7.vega-embed {\n",
       "    width: 100%;\n",
       "    display: flex;\n",
       "  }\n",
       "\n",
       "  #altair-viz-c223904bfb234489a2839168c8cc70f7.vega-embed details,\n",
       "  #altair-viz-c223904bfb234489a2839168c8cc70f7.vega-embed details summary {\n",
       "    position: relative;\n",
       "  }\n",
       "</style>\n",
       "<div id=\"altair-viz-c223904bfb234489a2839168c8cc70f7\"></div>\n",
       "<script type=\"text/javascript\">\n",
       "  var VEGA_DEBUG = (typeof VEGA_DEBUG == \"undefined\") ? {} : VEGA_DEBUG;\n",
       "  (function(spec, embedOpt){\n",
       "    let outputDiv = document.currentScript.previousElementSibling;\n",
       "    if (outputDiv.id !== \"altair-viz-c223904bfb234489a2839168c8cc70f7\") {\n",
       "      outputDiv = document.getElementById(\"altair-viz-c223904bfb234489a2839168c8cc70f7\");\n",
       "    }\n",
       "    const paths = {\n",
       "      \"vega\": \"https://cdn.jsdelivr.net/npm/vega@5?noext\",\n",
       "      \"vega-lib\": \"https://cdn.jsdelivr.net/npm/vega-lib?noext\",\n",
       "      \"vega-lite\": \"https://cdn.jsdelivr.net/npm/vega-lite@5.8.0?noext\",\n",
       "      \"vega-embed\": \"https://cdn.jsdelivr.net/npm/vega-embed@6?noext\",\n",
       "    };\n",
       "\n",
       "    function maybeLoadScript(lib, version) {\n",
       "      var key = `${lib.replace(\"-\", \"\")}_version`;\n",
       "      return (VEGA_DEBUG[key] == version) ?\n",
       "        Promise.resolve(paths[lib]) :\n",
       "        new Promise(function(resolve, reject) {\n",
       "          var s = document.createElement('script');\n",
       "          document.getElementsByTagName(\"head\")[0].appendChild(s);\n",
       "          s.async = true;\n",
       "          s.onload = () => {\n",
       "            VEGA_DEBUG[key] = version;\n",
       "            return resolve(paths[lib]);\n",
       "          };\n",
       "          s.onerror = () => reject(`Error loading script: ${paths[lib]}`);\n",
       "          s.src = paths[lib];\n",
       "        });\n",
       "    }\n",
       "\n",
       "    function showError(err) {\n",
       "      outputDiv.innerHTML = `<div class=\"error\" style=\"color:red;\">${err}</div>`;\n",
       "      throw err;\n",
       "    }\n",
       "\n",
       "    function displayChart(vegaEmbed) {\n",
       "      vegaEmbed(outputDiv, spec, embedOpt)\n",
       "        .catch(err => showError(`Javascript Error: ${err.message}<br>This usually means there's a typo in your chart specification. See the javascript console for the full traceback.`));\n",
       "    }\n",
       "\n",
       "    if(typeof define === \"function\" && define.amd) {\n",
       "      requirejs.config({paths});\n",
       "      require([\"vega-embed\"], displayChart, err => showError(`Error loading script: ${err.message}`));\n",
       "    } else {\n",
       "      maybeLoadScript(\"vega\", \"5\")\n",
       "        .then(() => maybeLoadScript(\"vega-lite\", \"5.8.0\"))\n",
       "        .then(() => maybeLoadScript(\"vega-embed\", \"6\"))\n",
       "        .catch(showError)\n",
       "        .then(() => displayChart(vegaEmbed));\n",
       "    }\n",
       "  })({\"config\": {\"view\": {\"continuousWidth\": 300, \"continuousHeight\": 300}}, \"hconcat\": [{\"mark\": {\"type\": \"line\"}, \"encoding\": {\"color\": {\"field\": \"height\", \"scale\": {\"scheme\": \"turbo\"}, \"type\": \"ordinal\"}, \"x\": {\"field\": \"wind speed group\", \"type\": \"quantitative\"}, \"y\": {\"aggregate\": \"mean\", \"field\": \"Velocity scale\", \"title\": \"TKE^0.5\", \"type\": \"quantitative\"}}, \"height\": 150, \"title\": \"Ri \\u2208 [-\\u221e, 0)\", \"transform\": [{\"filter\": {\"field\": \"height\", \"oneOf\": [2, 3, 5, 10, 15, 20]}}, {\"filter\": {\"field\": \"richardson number bulk\", \"lt\": 0}}]}, {\"mark\": {\"type\": \"line\"}, \"encoding\": {\"color\": {\"field\": \"height\", \"scale\": {\"scheme\": \"turbo\"}, \"type\": \"ordinal\"}, \"x\": {\"field\": \"wind speed group\", \"type\": \"quantitative\"}, \"y\": {\"aggregate\": \"mean\", \"field\": \"Velocity scale\", \"title\": \"TKE^0.5\", \"type\": \"quantitative\"}}, \"height\": 150, \"title\": \"Ri \\u2208 [0, 0.25]\", \"transform\": [{\"filter\": {\"field\": \"height\", \"oneOf\": [2, 3, 5, 10, 15, 20]}}, {\"filter\": {\"field\": \"richardson number bulk\", \"gt\": 0}}, {\"filter\": {\"field\": \"richardson number bulk\", \"lt\": 0.25}}]}, {\"mark\": {\"type\": \"line\"}, \"encoding\": {\"color\": {\"field\": \"height\", \"scale\": {\"scheme\": \"turbo\"}, \"type\": \"ordinal\"}, \"x\": {\"field\": \"wind speed group\", \"type\": \"quantitative\"}, \"y\": {\"aggregate\": \"mean\", \"field\": \"Velocity scale\", \"title\": \"TKE^0.5\", \"type\": \"quantitative\"}}, \"height\": 150, \"title\": \"Ri \\u2208 [0.25, \\u221e]\", \"transform\": [{\"filter\": {\"field\": \"height\", \"oneOf\": [2, 3, 5, 10, 15, 20]}}, {\"filter\": {\"field\": \"richardson number bulk\", \"gt\": 0.25}}]}], \"data\": {\"url\": \"altair-data-4634f780cb1ce72788984e3d84bb0ca1.json\", \"format\": {\"type\": \"json\"}}, \"$schema\": \"https://vega.github.io/schema/vega-lite/v5.8.0.json\"}, {\"mode\": \"vega-lite\"});\n",
       "</script>"
      ],
      "text/plain": [
       "alt.HConcatChart(...)"
      ]
     },
     "execution_count": 21,
     "metadata": {},
     "output_type": "execute_result"
    }
   ],
   "source": [
    "base = alt.Chart(\n",
    "    tke_vs_wind_speed_src\n",
    ").transform_filter(\n",
    "    alt.FieldOneOfPredicate('height', [2,3, 5,10, 15, 20])\n",
    ").mark_line().encode(\n",
    "    alt.X(\"wind speed group:Q\"),\n",
    "    alt.Y(\"mean(Velocity scale):Q\", title='TKE^0.5'),\n",
    "    alt.Color(\n",
    "        \"height:O\", \n",
    "        scale=alt.Scale(scheme='turbo')\n",
    "    )\n",
    ")\n",
    "\n",
    "base.transform_filter(alt.FieldLTPredicate('richardson number bulk', 0)).properties(title='Ri ∈ [-∞, 0)').properties(height=150) |\\\n",
    "base.transform_filter(alt.FieldGTPredicate('richardson number bulk', 0)).transform_filter(alt.FieldLTPredicate('richardson number bulk', 0.25)).properties(title='Ri ∈ [0, 0.25]').properties(height=150) |\\\n",
    "base.transform_filter(alt.FieldGTPredicate('richardson number bulk', 0.25)).properties(title='Ri ∈ [0.25, ∞]').properties(height=150)"
   ]
  },
  {
   "cell_type": "code",
   "execution_count": 22,
   "metadata": {},
   "outputs": [
    {
     "data": {
      "text/html": [
       "\n",
       "<style>\n",
       "  #altair-viz-93a3c69acda742ecbe88722da9872e54.vega-embed {\n",
       "    width: 100%;\n",
       "    display: flex;\n",
       "  }\n",
       "\n",
       "  #altair-viz-93a3c69acda742ecbe88722da9872e54.vega-embed details,\n",
       "  #altair-viz-93a3c69acda742ecbe88722da9872e54.vega-embed details summary {\n",
       "    position: relative;\n",
       "  }\n",
       "</style>\n",
       "<div id=\"altair-viz-93a3c69acda742ecbe88722da9872e54\"></div>\n",
       "<script type=\"text/javascript\">\n",
       "  var VEGA_DEBUG = (typeof VEGA_DEBUG == \"undefined\") ? {} : VEGA_DEBUG;\n",
       "  (function(spec, embedOpt){\n",
       "    let outputDiv = document.currentScript.previousElementSibling;\n",
       "    if (outputDiv.id !== \"altair-viz-93a3c69acda742ecbe88722da9872e54\") {\n",
       "      outputDiv = document.getElementById(\"altair-viz-93a3c69acda742ecbe88722da9872e54\");\n",
       "    }\n",
       "    const paths = {\n",
       "      \"vega\": \"https://cdn.jsdelivr.net/npm/vega@5?noext\",\n",
       "      \"vega-lib\": \"https://cdn.jsdelivr.net/npm/vega-lib?noext\",\n",
       "      \"vega-lite\": \"https://cdn.jsdelivr.net/npm/vega-lite@5.8.0?noext\",\n",
       "      \"vega-embed\": \"https://cdn.jsdelivr.net/npm/vega-embed@6?noext\",\n",
       "    };\n",
       "\n",
       "    function maybeLoadScript(lib, version) {\n",
       "      var key = `${lib.replace(\"-\", \"\")}_version`;\n",
       "      return (VEGA_DEBUG[key] == version) ?\n",
       "        Promise.resolve(paths[lib]) :\n",
       "        new Promise(function(resolve, reject) {\n",
       "          var s = document.createElement('script');\n",
       "          document.getElementsByTagName(\"head\")[0].appendChild(s);\n",
       "          s.async = true;\n",
       "          s.onload = () => {\n",
       "            VEGA_DEBUG[key] = version;\n",
       "            return resolve(paths[lib]);\n",
       "          };\n",
       "          s.onerror = () => reject(`Error loading script: ${paths[lib]}`);\n",
       "          s.src = paths[lib];\n",
       "        });\n",
       "    }\n",
       "\n",
       "    function showError(err) {\n",
       "      outputDiv.innerHTML = `<div class=\"error\" style=\"color:red;\">${err}</div>`;\n",
       "      throw err;\n",
       "    }\n",
       "\n",
       "    function displayChart(vegaEmbed) {\n",
       "      vegaEmbed(outputDiv, spec, embedOpt)\n",
       "        .catch(err => showError(`Javascript Error: ${err.message}<br>This usually means there's a typo in your chart specification. See the javascript console for the full traceback.`));\n",
       "    }\n",
       "\n",
       "    if(typeof define === \"function\" && define.amd) {\n",
       "      requirejs.config({paths});\n",
       "      require([\"vega-embed\"], displayChart, err => showError(`Error loading script: ${err.message}`));\n",
       "    } else {\n",
       "      maybeLoadScript(\"vega\", \"5\")\n",
       "        .then(() => maybeLoadScript(\"vega-lite\", \"5.8.0\"))\n",
       "        .then(() => maybeLoadScript(\"vega-embed\", \"6\"))\n",
       "        .catch(showError)\n",
       "        .then(() => displayChart(vegaEmbed));\n",
       "    }\n",
       "  })({\"config\": {\"view\": {\"continuousWidth\": 300, \"continuousHeight\": 300}}, \"hconcat\": [{\"mark\": {\"type\": \"line\"}, \"encoding\": {\"color\": {\"field\": \"height\", \"scale\": {\"scheme\": \"turbo\"}, \"type\": \"ordinal\"}, \"x\": {\"field\": \"wind speed group\", \"type\": \"quantitative\"}, \"y\": {\"aggregate\": \"mean\", \"field\": \"Velocity scale\", \"title\": \"TKE^0.5\", \"type\": \"quantitative\"}}, \"height\": 150, \"title\": \"Ri \\u2208 [-\\u221e, 0)\", \"transform\": [{\"filter\": {\"field\": \"height\", \"oneOf\": [2, 3, 5, 10, 15, 20]}}, {\"filter\": {\"field\": \"richardson number\", \"lt\": 0}}]}, {\"mark\": {\"type\": \"line\"}, \"encoding\": {\"color\": {\"field\": \"height\", \"scale\": {\"scheme\": \"turbo\"}, \"type\": \"ordinal\"}, \"x\": {\"field\": \"wind speed group\", \"type\": \"quantitative\"}, \"y\": {\"aggregate\": \"mean\", \"field\": \"Velocity scale\", \"title\": \"TKE^0.5\", \"type\": \"quantitative\"}}, \"height\": 150, \"title\": \"Ri \\u2208 [0, 0.25]\", \"transform\": [{\"filter\": {\"field\": \"height\", \"oneOf\": [2, 3, 5, 10, 15, 20]}}, {\"filter\": {\"field\": \"richardson number\", \"gt\": 0}}, {\"filter\": {\"field\": \"richardson number\", \"lt\": 0.25}}]}, {\"mark\": {\"type\": \"line\"}, \"encoding\": {\"color\": {\"field\": \"height\", \"scale\": {\"scheme\": \"turbo\"}, \"type\": \"ordinal\"}, \"x\": {\"field\": \"wind speed group\", \"type\": \"quantitative\"}, \"y\": {\"aggregate\": \"mean\", \"field\": \"Velocity scale\", \"title\": \"TKE^0.5\", \"type\": \"quantitative\"}}, \"height\": 150, \"title\": \"Ri \\u2208 [0.25, \\u221e]\", \"transform\": [{\"filter\": {\"field\": \"height\", \"oneOf\": [2, 3, 5, 10, 15, 20]}}, {\"filter\": {\"field\": \"richardson number\", \"gt\": 0.25}}]}], \"data\": {\"url\": \"altair-data-4634f780cb1ce72788984e3d84bb0ca1.json\", \"format\": {\"type\": \"json\"}}, \"$schema\": \"https://vega.github.io/schema/vega-lite/v5.8.0.json\"}, {\"mode\": \"vega-lite\"});\n",
       "</script>"
      ],
      "text/plain": [
       "alt.HConcatChart(...)"
      ]
     },
     "execution_count": 22,
     "metadata": {},
     "output_type": "execute_result"
    }
   ],
   "source": [
    "base = alt.Chart(\n",
    "    tke_vs_wind_speed_src\n",
    ").transform_filter(\n",
    "    alt.FieldOneOfPredicate('height', [2,3, 5,10, 15, 20])\n",
    ").mark_line().encode(\n",
    "    alt.X(\"wind speed group:Q\"),\n",
    "    alt.Y(\"mean(Velocity scale):Q\", title='TKE^0.5'),\n",
    "    alt.Color(\n",
    "        \"height:O\", \n",
    "        scale=alt.Scale(scheme='turbo')\n",
    "    )\n",
    ")\n",
    "\n",
    "base.transform_filter(alt.FieldLTPredicate('richardson number', 0)).properties(title='Ri ∈ [-∞, 0)').properties(height=150) |\\\n",
    "base.transform_filter(alt.FieldGTPredicate('richardson number', 0)).transform_filter(alt.FieldLTPredicate('richardson number', 0.25)).properties(title='Ri ∈ [0, 0.25]').properties(height=150) |\\\n",
    "base.transform_filter(alt.FieldGTPredicate('richardson number', 0.25)).properties(title='Ri ∈ [0.25, ∞]').properties(height=150)"
   ]
  },
  {
   "cell_type": "code",
   "execution_count": 23,
   "metadata": {},
   "outputs": [
    {
     "data": {
      "text/html": [
       "\n",
       "<style>\n",
       "  #altair-viz-a089ad54526d4ae3a753e4280650eeda.vega-embed {\n",
       "    width: 100%;\n",
       "    display: flex;\n",
       "  }\n",
       "\n",
       "  #altair-viz-a089ad54526d4ae3a753e4280650eeda.vega-embed details,\n",
       "  #altair-viz-a089ad54526d4ae3a753e4280650eeda.vega-embed details summary {\n",
       "    position: relative;\n",
       "  }\n",
       "</style>\n",
       "<div id=\"altair-viz-a089ad54526d4ae3a753e4280650eeda\"></div>\n",
       "<script type=\"text/javascript\">\n",
       "  var VEGA_DEBUG = (typeof VEGA_DEBUG == \"undefined\") ? {} : VEGA_DEBUG;\n",
       "  (function(spec, embedOpt){\n",
       "    let outputDiv = document.currentScript.previousElementSibling;\n",
       "    if (outputDiv.id !== \"altair-viz-a089ad54526d4ae3a753e4280650eeda\") {\n",
       "      outputDiv = document.getElementById(\"altair-viz-a089ad54526d4ae3a753e4280650eeda\");\n",
       "    }\n",
       "    const paths = {\n",
       "      \"vega\": \"https://cdn.jsdelivr.net/npm/vega@5?noext\",\n",
       "      \"vega-lib\": \"https://cdn.jsdelivr.net/npm/vega-lib?noext\",\n",
       "      \"vega-lite\": \"https://cdn.jsdelivr.net/npm/vega-lite@5.8.0?noext\",\n",
       "      \"vega-embed\": \"https://cdn.jsdelivr.net/npm/vega-embed@6?noext\",\n",
       "    };\n",
       "\n",
       "    function maybeLoadScript(lib, version) {\n",
       "      var key = `${lib.replace(\"-\", \"\")}_version`;\n",
       "      return (VEGA_DEBUG[key] == version) ?\n",
       "        Promise.resolve(paths[lib]) :\n",
       "        new Promise(function(resolve, reject) {\n",
       "          var s = document.createElement('script');\n",
       "          document.getElementsByTagName(\"head\")[0].appendChild(s);\n",
       "          s.async = true;\n",
       "          s.onload = () => {\n",
       "            VEGA_DEBUG[key] = version;\n",
       "            return resolve(paths[lib]);\n",
       "          };\n",
       "          s.onerror = () => reject(`Error loading script: ${paths[lib]}`);\n",
       "          s.src = paths[lib];\n",
       "        });\n",
       "    }\n",
       "\n",
       "    function showError(err) {\n",
       "      outputDiv.innerHTML = `<div class=\"error\" style=\"color:red;\">${err}</div>`;\n",
       "      throw err;\n",
       "    }\n",
       "\n",
       "    function displayChart(vegaEmbed) {\n",
       "      vegaEmbed(outputDiv, spec, embedOpt)\n",
       "        .catch(err => showError(`Javascript Error: ${err.message}<br>This usually means there's a typo in your chart specification. See the javascript console for the full traceback.`));\n",
       "    }\n",
       "\n",
       "    if(typeof define === \"function\" && define.amd) {\n",
       "      requirejs.config({paths});\n",
       "      require([\"vega-embed\"], displayChart, err => showError(`Error loading script: ${err.message}`));\n",
       "    } else {\n",
       "      maybeLoadScript(\"vega\", \"5\")\n",
       "        .then(() => maybeLoadScript(\"vega-lite\", \"5.8.0\"))\n",
       "        .then(() => maybeLoadScript(\"vega-embed\", \"6\"))\n",
       "        .catch(showError)\n",
       "        .then(() => displayChart(vegaEmbed));\n",
       "    }\n",
       "  })({\"config\": {\"view\": {\"continuousWidth\": 300, \"continuousHeight\": 300}}, \"hconcat\": [{\"layer\": [{\"mark\": {\"type\": \"errorbar\", \"extent\": \"stdev\", \"opacity\": 0.5, \"thickness\": 2}, \"encoding\": {\"x\": {\"field\": \"wind speed group\", \"title\": \"Wind speed (m/s) (binned)\", \"type\": \"quantitative\"}, \"y\": {\"field\": \"Velocity scale\", \"type\": \"quantitative\"}}}, {\"mark\": {\"type\": \"circle\", \"opacity\": 0.5, \"size\": 100}, \"encoding\": {\"x\": {\"field\": \"wind speed group\", \"type\": \"quantitative\"}, \"y\": {\"aggregate\": \"mean\", \"field\": \"Velocity scale\", \"type\": \"quantitative\"}}}], \"encoding\": {\"color\": {\"field\": \"height\", \"type\": \"nominal\"}}, \"height\": 150, \"title\": \"Ri \\u2208 [-\\u221e, 0)\", \"transform\": [{\"filter\": {\"field\": \"height\", \"oneOf\": [2, 5, 20]}}, {\"filter\": {\"field\": \"richardson number\", \"lt\": 0}}], \"width\": 200}, {\"layer\": [{\"mark\": {\"type\": \"errorbar\", \"extent\": \"stdev\", \"opacity\": 0.5, \"thickness\": 2}, \"encoding\": {\"x\": {\"field\": \"wind speed group\", \"title\": \"Wind speed (m/s) (binned)\", \"type\": \"quantitative\"}, \"y\": {\"field\": \"Velocity scale\", \"type\": \"quantitative\"}}}, {\"mark\": {\"type\": \"circle\", \"opacity\": 0.5, \"size\": 100}, \"encoding\": {\"x\": {\"field\": \"wind speed group\", \"type\": \"quantitative\"}, \"y\": {\"aggregate\": \"mean\", \"field\": \"Velocity scale\", \"type\": \"quantitative\"}}}], \"encoding\": {\"color\": {\"field\": \"height\", \"type\": \"nominal\"}}, \"height\": 150, \"title\": \"Ri \\u2208 [0, 0.25]\", \"transform\": [{\"filter\": {\"field\": \"height\", \"oneOf\": [2, 5, 20]}}, {\"filter\": {\"field\": \"richardson number\", \"gt\": 0}}, {\"filter\": {\"field\": \"richardson number\", \"lt\": 0.25}}], \"width\": 200}, {\"layer\": [{\"mark\": {\"type\": \"errorbar\", \"extent\": \"stdev\", \"opacity\": 0.5, \"thickness\": 2}, \"encoding\": {\"x\": {\"field\": \"wind speed group\", \"title\": \"Wind speed (m/s) (binned)\", \"type\": \"quantitative\"}, \"y\": {\"field\": \"Velocity scale\", \"type\": \"quantitative\"}}}, {\"mark\": {\"type\": \"circle\", \"opacity\": 0.5, \"size\": 100}, \"encoding\": {\"x\": {\"field\": \"wind speed group\", \"type\": \"quantitative\"}, \"y\": {\"aggregate\": \"mean\", \"field\": \"Velocity scale\", \"type\": \"quantitative\"}}}], \"encoding\": {\"color\": {\"field\": \"height\", \"type\": \"nominal\"}}, \"height\": 150, \"title\": \"Ri \\u2208 [0.25, \\u221e]\", \"transform\": [{\"filter\": {\"field\": \"height\", \"oneOf\": [2, 5, 20]}}, {\"filter\": {\"field\": \"richardson number\", \"gt\": 0.25}}], \"width\": 200}], \"data\": {\"url\": \"altair-data-4634f780cb1ce72788984e3d84bb0ca1.json\", \"format\": {\"type\": \"json\"}}, \"$schema\": \"https://vega.github.io/schema/vega-lite/v5.8.0.json\"}, {\"mode\": \"vega-lite\"});\n",
       "</script>"
      ],
      "text/plain": [
       "alt.HConcatChart(...)"
      ]
     },
     "execution_count": 23,
     "metadata": {},
     "output_type": "execute_result"
    }
   ],
   "source": [
    "bars = alt.Chart(tke_vs_wind_speed_src).mark_errorbar(extent='stdev',  thickness=2, opacity = 0.5).encode(\n",
    "    alt.X(\"wind speed group:Q\").title(\"Wind speed (m/s) (binned)\"),\n",
    "    alt.Y(\"Velocity scale:Q\")\n",
    ")\n",
    "\n",
    "points = alt.Chart(tke_vs_wind_speed_src).mark_circle(size=100, opacity = 0.5).encode(\n",
    "    alt.X(\"wind speed group:Q\"),\n",
    "    alt.Y(\"mean(Velocity scale):Q\")\n",
    ")\n",
    "\n",
    "base = (bars + points).transform_filter(alt.FieldOneOfPredicate('height', [2,5,20])).encode(\n",
    "    alt.Color(\"height:N\")\n",
    ").properties(width=200, height = 150)\n",
    "\n",
    "base.transform_filter(alt.FieldLTPredicate('richardson number', 0)).properties(title='Ri ∈ [-∞, 0)') |\\\n",
    "base.transform_filter(alt.FieldGTPredicate('richardson number', 0)).transform_filter(alt.FieldLTPredicate('richardson number', 0.25)).properties(title='Ri ∈ [0, 0.25]') |\\\n",
    "base.transform_filter(alt.FieldGTPredicate('richardson number', 0.25)).properties(title='Ri ∈ [0.25, ∞]')"
   ]
  },
  {
   "cell_type": "code",
   "execution_count": 24,
   "metadata": {},
   "outputs": [
    {
     "data": {
      "text/html": [
       "\n",
       "<style>\n",
       "  #altair-viz-28be0f0defef408caeed3629a8992ab6.vega-embed {\n",
       "    width: 100%;\n",
       "    display: flex;\n",
       "  }\n",
       "\n",
       "  #altair-viz-28be0f0defef408caeed3629a8992ab6.vega-embed details,\n",
       "  #altair-viz-28be0f0defef408caeed3629a8992ab6.vega-embed details summary {\n",
       "    position: relative;\n",
       "  }\n",
       "</style>\n",
       "<div id=\"altair-viz-28be0f0defef408caeed3629a8992ab6\"></div>\n",
       "<script type=\"text/javascript\">\n",
       "  var VEGA_DEBUG = (typeof VEGA_DEBUG == \"undefined\") ? {} : VEGA_DEBUG;\n",
       "  (function(spec, embedOpt){\n",
       "    let outputDiv = document.currentScript.previousElementSibling;\n",
       "    if (outputDiv.id !== \"altair-viz-28be0f0defef408caeed3629a8992ab6\") {\n",
       "      outputDiv = document.getElementById(\"altair-viz-28be0f0defef408caeed3629a8992ab6\");\n",
       "    }\n",
       "    const paths = {\n",
       "      \"vega\": \"https://cdn.jsdelivr.net/npm/vega@5?noext\",\n",
       "      \"vega-lib\": \"https://cdn.jsdelivr.net/npm/vega-lib?noext\",\n",
       "      \"vega-lite\": \"https://cdn.jsdelivr.net/npm/vega-lite@5.8.0?noext\",\n",
       "      \"vega-embed\": \"https://cdn.jsdelivr.net/npm/vega-embed@6?noext\",\n",
       "    };\n",
       "\n",
       "    function maybeLoadScript(lib, version) {\n",
       "      var key = `${lib.replace(\"-\", \"\")}_version`;\n",
       "      return (VEGA_DEBUG[key] == version) ?\n",
       "        Promise.resolve(paths[lib]) :\n",
       "        new Promise(function(resolve, reject) {\n",
       "          var s = document.createElement('script');\n",
       "          document.getElementsByTagName(\"head\")[0].appendChild(s);\n",
       "          s.async = true;\n",
       "          s.onload = () => {\n",
       "            VEGA_DEBUG[key] = version;\n",
       "            return resolve(paths[lib]);\n",
       "          };\n",
       "          s.onerror = () => reject(`Error loading script: ${paths[lib]}`);\n",
       "          s.src = paths[lib];\n",
       "        });\n",
       "    }\n",
       "\n",
       "    function showError(err) {\n",
       "      outputDiv.innerHTML = `<div class=\"error\" style=\"color:red;\">${err}</div>`;\n",
       "      throw err;\n",
       "    }\n",
       "\n",
       "    function displayChart(vegaEmbed) {\n",
       "      vegaEmbed(outputDiv, spec, embedOpt)\n",
       "        .catch(err => showError(`Javascript Error: ${err.message}<br>This usually means there's a typo in your chart specification. See the javascript console for the full traceback.`));\n",
       "    }\n",
       "\n",
       "    if(typeof define === \"function\" && define.amd) {\n",
       "      requirejs.config({paths});\n",
       "      require([\"vega-embed\"], displayChart, err => showError(`Error loading script: ${err.message}`));\n",
       "    } else {\n",
       "      maybeLoadScript(\"vega\", \"5\")\n",
       "        .then(() => maybeLoadScript(\"vega-lite\", \"5.8.0\"))\n",
       "        .then(() => maybeLoadScript(\"vega-embed\", \"6\"))\n",
       "        .catch(showError)\n",
       "        .then(() => displayChart(vegaEmbed));\n",
       "    }\n",
       "  })({\"config\": {\"view\": {\"continuousWidth\": 300, \"continuousHeight\": 300, \"strokeWidth\": 0}}, \"vconcat\": [{\"mark\": {\"type\": \"boxplot\", \"size\": 10}, \"encoding\": {\"color\": {\"field\": \"height\", \"scale\": {\"scheme\": \"turbo\"}, \"type\": \"ordinal\"}, \"facet\": {\"field\": \"wind speed group\", \"spacing\": 5, \"title\": \"Wind Speed (binned)\", \"type\": \"quantitative\"}, \"x\": {\"field\": \"height\", \"type\": \"ordinal\"}, \"y\": {\"field\": \"Velocity scale\", \"type\": \"quantitative\"}}, \"height\": 150, \"title\": \"Ri \\u2208 [-\\u221e, 0)\", \"transform\": [{\"filter\": \"(datum.tower === 'c')\"}, {\"filter\": {\"field\": \"height\", \"oneOf\": [2, 10, 15, 20]}}, {\"filter\": {\"field\": \"richardson number\", \"lt\": 0}}]}, {\"mark\": {\"type\": \"boxplot\", \"size\": 10}, \"encoding\": {\"color\": {\"field\": \"height\", \"scale\": {\"scheme\": \"turbo\"}, \"type\": \"ordinal\"}, \"facet\": {\"field\": \"wind speed group\", \"spacing\": 5, \"title\": \"Wind Speed (binned)\", \"type\": \"quantitative\"}, \"x\": {\"field\": \"height\", \"type\": \"ordinal\"}, \"y\": {\"field\": \"Velocity scale\", \"type\": \"quantitative\"}}, \"height\": 150, \"title\": \"Ri \\u2208 [0, 0.25]\", \"transform\": [{\"filter\": \"(datum.tower === 'c')\"}, {\"filter\": {\"field\": \"height\", \"oneOf\": [2, 10, 15, 20]}}, {\"filter\": {\"field\": \"richardson number\", \"gt\": 0}}, {\"filter\": {\"field\": \"richardson number\", \"lt\": 0.25}}]}, {\"mark\": {\"type\": \"boxplot\", \"size\": 10}, \"encoding\": {\"color\": {\"field\": \"height\", \"scale\": {\"scheme\": \"turbo\"}, \"type\": \"ordinal\"}, \"facet\": {\"field\": \"wind speed group\", \"spacing\": 5, \"title\": \"Wind Speed (binned)\", \"type\": \"quantitative\"}, \"x\": {\"field\": \"height\", \"type\": \"ordinal\"}, \"y\": {\"field\": \"Velocity scale\", \"type\": \"quantitative\"}}, \"height\": 150, \"title\": \"Ri \\u2208 [0.25, \\u221e]\", \"transform\": [{\"filter\": \"(datum.tower === 'c')\"}, {\"filter\": {\"field\": \"height\", \"oneOf\": [2, 10, 15, 20]}}, {\"filter\": {\"field\": \"richardson number\", \"gt\": 0.25}}]}], \"data\": {\"url\": \"altair-data-4634f780cb1ce72788984e3d84bb0ca1.json\", \"format\": {\"type\": \"json\"}}, \"$schema\": \"https://vega.github.io/schema/vega-lite/v5.8.0.json\"}, {\"mode\": \"vega-lite\"});\n",
       "</script>"
      ],
      "text/plain": [
       "alt.VConcatChart(...)"
      ]
     },
     "execution_count": 24,
     "metadata": {},
     "output_type": "execute_result"
    }
   ],
   "source": [
    "base = alt.Chart(\n",
    "    tke_vs_wind_speed_src\n",
    ").transform_filter(\n",
    "    alt.datum.tower == 'c'\n",
    ").transform_filter(\n",
    "    alt.FieldOneOfPredicate('height', [2, 10, 15, 20])\n",
    ").mark_boxplot(size=10).encode(\n",
    "    # alt.X(\"wind speed group:Q\"),\n",
    "    # alt.Y(\"Velocity scale:Q\"),\n",
    "    # alt.Color(\"height:O\", scale=alt.Scale(scheme='turbo')),\n",
    "    # alt.Facet(\"height:O\")\n",
    "    \n",
    "    alt.X(\"height:O\"),\n",
    "    alt.Y(\"Velocity scale:Q\"),\n",
    "    alt.Color(\"height:O\", scale=alt.Scale(scheme='turbo')),\n",
    "    alt.Facet(\"wind speed group:Q\", spacing=5, title='Wind Speed (binned)')\n",
    ")\n",
    "\n",
    "(\n",
    "    base.transform_filter(alt.FieldLTPredicate('richardson number', 0)).properties(title='Ri ∈ [-∞, 0)').properties(height=150) &\\\n",
    "    base.transform_filter(alt.FieldGTPredicate('richardson number', 0)).transform_filter(alt.FieldLTPredicate('richardson number', 0.25)).properties(title='Ri ∈ [0, 0.25]').properties(height=150) &\\\n",
    "    base.transform_filter(alt.FieldGTPredicate('richardson number', 0.25)).properties(title='Ri ∈ [0.25, ∞]').properties(height=150)\n",
    ").configure_view(\n",
    "    strokeWidth=0\n",
    ")"
   ]
  },
  {
   "attachments": {},
   "cell_type": "markdown",
   "metadata": {},
   "source": [
    "## Plot: time series for winter season"
   ]
  },
  {
   "cell_type": "code",
   "execution_count": 25,
   "metadata": {},
   "outputs": [
    {
     "data": {
      "text/html": [
       "\n",
       "<style>\n",
       "  #altair-viz-4f9a0a83998d4385a4e829cc6e75f1f5.vega-embed {\n",
       "    width: 100%;\n",
       "    display: flex;\n",
       "  }\n",
       "\n",
       "  #altair-viz-4f9a0a83998d4385a4e829cc6e75f1f5.vega-embed details,\n",
       "  #altair-viz-4f9a0a83998d4385a4e829cc6e75f1f5.vega-embed details summary {\n",
       "    position: relative;\n",
       "  }\n",
       "</style>\n",
       "<div id=\"altair-viz-4f9a0a83998d4385a4e829cc6e75f1f5\"></div>\n",
       "<script type=\"text/javascript\">\n",
       "  var VEGA_DEBUG = (typeof VEGA_DEBUG == \"undefined\") ? {} : VEGA_DEBUG;\n",
       "  (function(spec, embedOpt){\n",
       "    let outputDiv = document.currentScript.previousElementSibling;\n",
       "    if (outputDiv.id !== \"altair-viz-4f9a0a83998d4385a4e829cc6e75f1f5\") {\n",
       "      outputDiv = document.getElementById(\"altair-viz-4f9a0a83998d4385a4e829cc6e75f1f5\");\n",
       "    }\n",
       "    const paths = {\n",
       "      \"vega\": \"https://cdn.jsdelivr.net/npm/vega@5?noext\",\n",
       "      \"vega-lib\": \"https://cdn.jsdelivr.net/npm/vega-lib?noext\",\n",
       "      \"vega-lite\": \"https://cdn.jsdelivr.net/npm/vega-lite@5.8.0?noext\",\n",
       "      \"vega-embed\": \"https://cdn.jsdelivr.net/npm/vega-embed@6?noext\",\n",
       "    };\n",
       "\n",
       "    function maybeLoadScript(lib, version) {\n",
       "      var key = `${lib.replace(\"-\", \"\")}_version`;\n",
       "      return (VEGA_DEBUG[key] == version) ?\n",
       "        Promise.resolve(paths[lib]) :\n",
       "        new Promise(function(resolve, reject) {\n",
       "          var s = document.createElement('script');\n",
       "          document.getElementsByTagName(\"head\")[0].appendChild(s);\n",
       "          s.async = true;\n",
       "          s.onload = () => {\n",
       "            VEGA_DEBUG[key] = version;\n",
       "            return resolve(paths[lib]);\n",
       "          };\n",
       "          s.onerror = () => reject(`Error loading script: ${paths[lib]}`);\n",
       "          s.src = paths[lib];\n",
       "        });\n",
       "    }\n",
       "\n",
       "    function showError(err) {\n",
       "      outputDiv.innerHTML = `<div class=\"error\" style=\"color:red;\">${err}</div>`;\n",
       "      throw err;\n",
       "    }\n",
       "\n",
       "    function displayChart(vegaEmbed) {\n",
       "      vegaEmbed(outputDiv, spec, embedOpt)\n",
       "        .catch(err => showError(`Javascript Error: ${err.message}<br>This usually means there's a typo in your chart specification. See the javascript console for the full traceback.`));\n",
       "    }\n",
       "\n",
       "    if(typeof define === \"function\" && define.amd) {\n",
       "      requirejs.config({paths});\n",
       "      require([\"vega-embed\"], displayChart, err => showError(`Error loading script: ${err.message}`));\n",
       "    } else {\n",
       "      maybeLoadScript(\"vega\", \"5\")\n",
       "        .then(() => maybeLoadScript(\"vega-lite\", \"5.8.0\"))\n",
       "        .then(() => maybeLoadScript(\"vega-embed\", \"6\"))\n",
       "        .catch(showError)\n",
       "        .then(() => displayChart(vegaEmbed));\n",
       "    }\n",
       "  })({\"config\": {\"view\": {\"continuousWidth\": 300, \"continuousHeight\": 300}}, \"layer\": [{\"data\": {\"url\": \"altair-data-785da939f525c85e8fb6d6f489a27dea.json\", \"format\": {\"type\": \"json\"}}, \"mark\": {\"type\": \"line\"}, \"encoding\": {\"color\": {\"field\": \"height\", \"type\": \"nominal\"}, \"x\": {\"field\": \"time\", \"type\": \"temporal\"}, \"y\": {\"field\": \"value\", \"scale\": {\"clamp\": true, \"domain\": [0, 4], \"nice\": false}, \"title\": \"Blowing Snow Flux (g/m^2)\", \"type\": \"quantitative\"}}, \"transform\": [{\"filter\": {\"field\": \"measurement\", \"oneOf\": [\"snow flux\"]}}]}, {\"data\": {\"url\": \"altair-data-3ac547ea180d904e370c41198f87f9e4.json\", \"format\": {\"type\": \"json\"}}, \"mark\": {\"type\": \"line\", \"color\": \"black\", \"strokeDash\": [1, 2]}, \"encoding\": {\"color\": {\"field\": \"variable\", \"type\": \"nominal\"}, \"x\": {\"field\": \"time\", \"type\": \"temporal\"}, \"y\": {\"field\": \"days_since_precip\", \"type\": \"quantitative\"}}}], \"height\": 200, \"resolve\": {\"scale\": {\"y\": \"independent\"}}, \"width\": 1400, \"$schema\": \"https://vega.github.io/schema/vega-lite/v5.8.0.json\"}, {\"mode\": \"vega-lite\"});\n",
       "</script>"
      ],
      "text/plain": [
       "alt.LayerChart(...)"
      ]
     },
     "execution_count": 25,
     "metadata": {},
     "output_type": "execute_result"
    }
   ],
   "source": [
    "blowing_snow_chart = alt.Chart(tidy_df_30Min).transform_filter(\n",
    "    alt.FieldOneOfPredicate('measurement', ['snow flux'])\n",
    ").mark_line().encode(\n",
    "    alt.X('time:T'),\n",
    "    alt.Y(\"value:Q\", title='Blowing Snow Flux (g/m^2)',\n",
    "          scale=alt.Scale(domain=[0, 4], nice=False, clamp=True)\n",
    "        ),\n",
    "    alt.Color(\"height:N\")\n",
    ").properties(width=1400, height=200) \n",
    "\n",
    "days_since_precip_chart = alt.Chart(disdro_daily_max_precip_date_df).mark_line(color='black', strokeDash=[1,2]).encode(\n",
    "    alt.X('time:T'),\n",
    "    alt.Y(\"days_since_precip:Q\"),\n",
    "    alt.Color(\"variable:N\")\n",
    ").properties(width=1400, height=200)\n",
    "\n",
    "alt.layer(blowing_snow_chart, days_since_precip_chart).resolve_scale(\n",
    "    y = 'independent'\n",
    ")"
   ]
  },
  {
   "cell_type": "code",
   "execution_count": 26,
   "metadata": {},
   "outputs": [
    {
     "name": "stdout",
     "output_type": "stream",
     "text": [
      "hi\n"
     ]
    }
   ],
   "source": [
    "print(\"hi\")"
   ]
  },
  {
   "cell_type": "code",
   "execution_count": 27,
   "metadata": {},
   "outputs": [
    {
     "data": {
      "text/plain": [
       "RendererRegistry.enable('mimetype')"
      ]
     },
     "execution_count": 27,
     "metadata": {},
     "output_type": "execute_result"
    }
   ],
   "source": [
    "alt.renderers.enable(\"mimetype\")"
   ]
  },
  {
   "cell_type": "code",
   "execution_count": 28,
   "metadata": {},
   "outputs": [
    {
     "data": {
      "application/vnd.vegalite.v5+json": {
       "$schema": "https://vega.github.io/schema/vega-lite/v5.8.0.json",
       "config": {
        "view": {
         "continuousHeight": 300,
         "continuousWidth": 300
        }
       },
       "data": {
        "format": {
         "type": "json"
        },
        "url": "altair-data-785da939f525c85e8fb6d6f489a27dea.json"
       },
       "encoding": {
        "color": {
         "field": "height",
         "type": "nominal"
        },
        "x": {
         "field": "time",
         "type": "temporal"
        },
        "y": {
         "field": "value",
         "title": "Cumulative sublimation (mm)",
         "type": "quantitative"
        }
       },
       "height": 143,
       "mark": {
        "type": "line"
       },
       "transform": [
        {
         "filter": {
          "field": "measurement",
          "oneOf": [
           "cumulative sublimation (mm)"
          ]
         }
        }
       ],
       "width": 1000
      },
      "text/plain": [
       "<VegaLite 5 object>\n",
       "\n",
       "If you see this message, it means the renderer has not been properly enabled\n",
       "for the frontend that you are using. For more information, see\n",
       "https://altair-viz.github.io/user_guide/display_frontends.html#troubleshooting\n"
      ]
     },
     "execution_count": 28,
     "metadata": {},
     "output_type": "execute_result"
    }
   ],
   "source": [
    "alt.Chart(tidy_df_30Min).transform_filter(\n",
    "    alt.FieldOneOfPredicate('measurement', ['cumulative sublimation (mm)'])\n",
    ").mark_line().encode(\n",
    "    alt.X('time:T'),\n",
    "    alt.Y(\"value:Q\", title='Cumulative sublimation (mm)'),\n",
    "    alt.Color(\"height:N\")\n",
    ").properties(width=1000, height=143)"
   ]
  },
  {
   "cell_type": "code",
   "execution_count": 29,
   "metadata": {},
   "outputs": [],
   "source": [
    "tidy_df_30Min['EC system'] = tidy_df_30Min.apply(lambda row: f\"tower {row.tower}, {int(row.height)}m\", axis=1)"
   ]
  },
  {
   "cell_type": "code",
   "execution_count": 30,
   "metadata": {},
   "outputs": [
    {
     "data": {
      "text/plain": [
       "array([], dtype=object)"
      ]
     },
     "execution_count": 30,
     "metadata": {},
     "output_type": "execute_result"
    }
   ],
   "source": [
    "tidy_df_30Min.query(\n",
    "    \"measurement == 'cumulative sublimation (mm)'\"\n",
    ").tower.unique()"
   ]
  },
  {
   "cell_type": "code",
   "execution_count": 31,
   "metadata": {},
   "outputs": [
    {
     "data": {
      "application/vnd.vegalite.v5+json": {
       "$schema": "https://vega.github.io/schema/vega-lite/v5.8.0.json",
       "config": {
        "view": {
         "continuousHeight": 300,
         "continuousWidth": 300
        }
       },
       "data": {
        "format": {
         "type": "json"
        },
        "url": "altair-data-d751713988987e9331980363e24189ce.json"
       },
       "encoding": {
        "color": {
         "field": "EC system",
         "type": "nominal"
        },
        "x": {
         "field": "time",
         "type": "temporal"
        },
        "y": {
         "field": "value",
         "scale": {
          "clamp": true,
          "domain": [
           0,
           50
          ]
         },
         "title": "Cumulative sublimation (mm)",
         "type": "quantitative"
        }
       },
       "mark": {
        "type": "line"
       },
       "resolve": {
        "scale": {
         "y": "independent"
        }
       },
       "width": 600
      },
      "text/plain": [
       "<VegaLite 5 object>\n",
       "\n",
       "If you see this message, it means the renderer has not been properly enabled\n",
       "for the frontend that you are using. For more information, see\n",
       "https://altair-viz.github.io/user_guide/display_frontends.html#troubleshooting\n"
      ]
     },
     "execution_count": 31,
     "metadata": {},
     "output_type": "execute_result"
    }
   ],
   "source": [
    "alt.Chart(\n",
    "    tidy_df_30Min.query(\n",
    "        \"measurement == 'cumulative sublimation (mm)'\"\n",
    "    ).query(\n",
    "        \"height > 2\"\n",
    "    )\n",
    ").mark_line().encode(\n",
    "    alt.X('time:T'),\n",
    "    alt.Y(\"value:Q\", title='Cumulative sublimation (mm)').scale(domain=[0,50], clamp=True),\n",
    "    alt.Color(\"EC system:N\")\n",
    ").properties(width=600).resolve_scale(y='independent')"
   ]
  },
  {
   "cell_type": "code",
   "execution_count": 32,
   "metadata": {},
   "outputs": [
    {
     "data": {
      "text/plain": [
       "array(['IDir', 'Obukhov length', 'RH', 'SWE', 'Vpile', 'Vtherm',\n",
       "       'air density', 'longwave radiation incoming',\n",
       "       'longwave radiation outgoing', 'mixing ratio',\n",
       "       'potential temperature', 'potential virtual temperature',\n",
       "       'pressure', 'richardson number', 'richardson number bulk',\n",
       "       'shear velocity', 'shortwave radiation incoming',\n",
       "       'shortwave radiation outgoing', 'snow flux', 'snow temperature',\n",
       "       'soil moisture', 'surface potential temperature',\n",
       "       'surface potential virtual temperature', 'surface temperature',\n",
       "       'surface virtual temperature', 'temperature',\n",
       "       'temperature gradient', 'turbulent kinetic energy', 'u', 'u_h2o_',\n",
       "       'u_tc_', 'u_u_', 'u_w_', 'v', 'v_h2o_', 'v_tc_', 'v_v_', 'v_w_',\n",
       "       'virtual temperature', 'w', 'w_h2o_', 'w_tc_', 'w_w_',\n",
       "       'wind direction', 'wind gradient', 'wind speed',\n",
       "       'stability function'], dtype=object)"
      ]
     },
     "execution_count": 32,
     "metadata": {},
     "output_type": "execute_result"
    }
   ],
   "source": [
    "tidy_df_30Min.measurement.unique()"
   ]
  },
  {
   "cell_type": "code",
   "execution_count": 33,
   "metadata": {},
   "outputs": [
    {
     "data": {
      "application/vnd.vegalite.v5+json": {
       "$schema": "https://vega.github.io/schema/vega-lite/v5.8.0.json",
       "config": {
        "view": {
         "continuousHeight": 300,
         "continuousWidth": 300
        }
       },
       "data": {
        "format": {
         "type": "json"
        },
        "url": "altair-data-20333164bcd17ce60ed2e895e00a8db7.json"
       },
       "resolve": {
        "scale": {
         "color": "independent",
         "x": "shared"
        }
       },
       "vconcat": [
        {
         "encoding": {
          "color": {
           "field": "height",
           "scale": {
            "scheme": "viridis"
           },
           "type": "ordinal"
          },
          "x": {
           "field": "time",
           "type": "temporal"
          },
          "y": {
           "field": "rolling_mean",
           "title": "Latent heat flux (g/m^2/s)",
           "type": "quantitative"
          }
         },
         "height": 143,
         "mark": {
          "type": "line"
         },
         "resolve": {
          "scale": {
           "color": "independent"
          }
         },
         "transform": [
          {
           "filter": "(datum.measurement === 'w_h2o_')"
          },
          {
           "filter": "(datum.tower === 'ue')"
          },
          {
           "frame": [
            -12,
            12
           ],
           "groupby": [
            "height",
            "tower"
           ],
           "window": [
            {
             "as": "rolling_mean",
             "field": "value",
             "op": "mean"
            }
           ]
          }
         ],
         "width": 1000
        },
        {
         "encoding": {
          "color": {
           "field": "height",
           "type": "nominal"
          },
          "x": {
           "field": "time",
           "type": "temporal"
          },
          "y": {
           "field": "value",
           "title": "Cumulative sublimation (mm)",
           "type": "quantitative"
          }
         },
         "height": 143,
         "mark": {
          "type": "line"
         },
         "transform": [
          {
           "filter": {
            "field": "measurement",
            "oneOf": [
             "cumulative sublimation (mm)"
            ]
           }
          }
         ],
         "width": 1000
        },
        {
         "encoding": {
          "color": {
           "field": "height",
           "type": "nominal"
          },
          "x": {
           "field": "time",
           "type": "temporal"
          },
          "y": {
           "field": "value",
           "scale": {
            "clamp": true,
            "domain": [
             0,
             4
            ],
            "nice": false
           },
           "title": "Blowing Snow Flux (g/m^2)",
           "type": "quantitative"
          }
         },
         "height": 71,
         "mark": {
          "type": "line"
         },
         "transform": [
          {
           "filter": {
            "field": "measurement",
            "oneOf": [
             "snow flux"
            ]
           }
          }
         ],
         "width": 1000
        },
        {
         "data": {
          "format": {
           "type": "json"
          },
          "url": "altair-data-3ac547ea180d904e370c41198f87f9e4.json"
         },
         "encoding": {
          "x": {
           "field": "time",
           "type": "temporal"
          },
          "y": {
           "field": "daily_precip (cm)",
           "title": "Daily precip (SWE, cm)",
           "type": "quantitative"
          }
         },
         "height": 71,
         "mark": {
          "type": "bar"
         },
         "width": 1000
        },
        {
         "data": {
          "format": {
           "type": "json"
          },
          "url": "altair-data-20333164bcd17ce60ed2e895e00a8db7.json"
         },
         "encoding": {
          "x": {
           "field": "time",
           "type": "temporal"
          },
          "y": {
           "field": "rolling_mean",
           "scale": {
            "clamp": true,
            "domain": [
             0,
             0.6
            ],
            "nice": false
           },
           "title": "Gradient Ri",
           "type": "quantitative"
          }
         },
         "height": 71,
         "mark": {
          "type": "line"
         },
         "transform": [
          {
           "filter": {
            "field": "measurement",
            "oneOf": [
             "richardson number"
            ]
           }
          },
          {
           "filter": "(datum.tower === 'c')"
          },
          {
           "filter": "(datum.height === 2)"
          },
          {
           "frame": [
            -12,
            12
           ],
           "groupby": [
            "height",
            "tower"
           ],
           "window": [
            {
             "as": "rolling_mean",
             "field": "value",
             "op": "mean"
            }
           ]
          }
         ],
         "width": 1000
        },
        {
         "data": {
          "format": {
           "type": "json"
          },
          "url": "altair-data-20333164bcd17ce60ed2e895e00a8db7.json"
         },
         "encoding": {
          "x": {
           "field": "time",
           "type": "temporal"
          },
          "y": {
           "field": "value",
           "title": "Incoming SW (w/m^2)",
           "type": "quantitative"
          }
         },
         "height": 71,
         "mark": {
          "type": "line"
         },
         "transform": [
          {
           "filter": "(datum.variable === 'Rsw_in_9m_d')"
          }
         ],
         "width": 1000
        }
       ]
      },
      "text/plain": [
       "<VegaLite 5 object>\n",
       "\n",
       "If you see this message, it means the renderer has not been properly enabled\n",
       "for the frontend that you are using. For more information, see\n",
       "https://altair-viz.github.io/user_guide/display_frontends.html#troubleshooting\n"
      ]
     },
     "execution_count": 33,
     "metadata": {},
     "output_type": "execute_result"
    }
   ],
   "source": [
    "(\n",
    "    alt.Chart(tidy_df_30Min).transform_filter(\n",
    "        alt.datum.measurement == 'w_h2o_'\n",
    "    ).transform_filter(\n",
    "        alt.datum.tower == 'ue'\n",
    "    ).transform_window(\n",
    "        rolling_mean = 'mean(value)',\n",
    "        frame=[-12,12],\n",
    "        groupby=['height','tower']\n",
    "    ).mark_line().encode(\n",
    "        alt.X('time:T'),\n",
    "        alt.Y(\"rolling_mean:Q\", title = 'Latent heat flux (g/m^2/s)'),\n",
    "        alt.Color(\"height:O\", scale=alt.Scale(scheme='viridis'))\n",
    "    ).properties(width=1000, height=143).resolve_scale(color='independent') & \\\n",
    "    \\\n",
    "    alt.Chart(tidy_df_30Min).transform_filter(\n",
    "        alt.FieldOneOfPredicate('measurement', ['cumulative sublimation (mm)'])\n",
    "    ).mark_line().encode(\n",
    "        alt.X('time:T'),\n",
    "        alt.Y(\"value:Q\", title='Cumulative sublimation (mm)'),\n",
    "        alt.Color(\"height:N\")\n",
    "    ).properties(width=1000, height=143) & \\\n",
    "    \\\n",
    "    alt.Chart(tidy_df_30Min).transform_filter(\n",
    "        alt.FieldOneOfPredicate('measurement', ['snow flux'])\n",
    "    ).mark_line().encode(\n",
    "        alt.X('time:T'),\n",
    "        alt.Y(\"value:Q\", title='Blowing Snow Flux (g/m^2)',\n",
    "            scale=alt.Scale(domain=[0, 4], nice=False, clamp=True)\n",
    "            ),\n",
    "        alt.Color(\"height:N\")\n",
    "    ).properties(width=1000, height=71) & \\\n",
    "    \\\n",
    "    alt.Chart(disdro_daily_max_precip_date_df).mark_bar().encode(\n",
    "        alt.X(\"time:T\"),\n",
    "        alt.Y(\"daily_precip (cm)\", title='Daily precip (SWE, cm)')\n",
    "    ).properties(width=1000, height=71) & \\\n",
    "    \\\n",
    "    alt.Chart(tidy_df_30Min).transform_filter(\n",
    "        alt.FieldOneOfPredicate('measurement', ['richardson number'])\n",
    "    ).transform_filter(\n",
    "        alt.datum.tower == 'c'\n",
    "    ).transform_filter(\n",
    "        alt.datum.height == 2\n",
    "    ).transform_window(\n",
    "        rolling_mean = 'mean(value)',\n",
    "        frame=[-12,12],\n",
    "        groupby=['height','tower']\n",
    "    ).mark_line().encode(\n",
    "        alt.X('time:T'),\n",
    "        alt.Y(\"rolling_mean:Q\", title='Gradient Ri',\n",
    "            scale=alt.Scale(domain=[0, 0.6], nice=False, clamp=True)\n",
    "            )\n",
    "    ).properties(width=1000, height=71) & \\\n",
    "    \\\n",
    "    alt.Chart(tidy_df_30Min).transform_filter(\n",
    "        alt.datum.variable == 'Rsw_in_9m_d'\n",
    "    ).mark_line().encode(\n",
    "        alt.X('time:T'),\n",
    "        alt.Y(\"value:Q\", title = 'Incoming SW (w/m^2)')\n",
    "    ).properties(width=1000, height=71)\n",
    ").resolve_scale(color='independent', x='shared')"
   ]
  },
  {
   "attachments": {},
   "cell_type": "markdown",
   "metadata": {},
   "source": [
    "# Case Studies"
   ]
  },
  {
   "attachments": {},
   "cell_type": "markdown",
   "metadata": {},
   "source": [
    "## Define case study dataframes"
   ]
  },
  {
   "cell_type": "code",
   "execution_count": 49,
   "metadata": {},
   "outputs": [
    {
     "name": "stderr",
     "output_type": "stream",
     "text": [
      "/tmp/ipykernel_96301/2147013776.py:10: FutureWarning: The pandas.datetime class is deprecated and will be removed from pandas in a future version. Import from datetime module instead.\n",
      "  case_study_start_date_1 = pd.datetime(2022,12,21)\n",
      "/tmp/ipykernel_96301/2147013776.py:11: FutureWarning: The pandas.datetime class is deprecated and will be removed from pandas in a future version. Import from datetime module instead.\n",
      "  case_study_end_date_1 = pd.datetime(2022,12,24)\n",
      "/tmp/ipykernel_96301/2147013776.py:14: FutureWarning: The pandas.datetime class is deprecated and will be removed from pandas in a future version. Import from datetime module instead.\n",
      "  case_study_start_date_2 = pd.datetime(2023,2,19)\n",
      "/tmp/ipykernel_96301/2147013776.py:15: FutureWarning: The pandas.datetime class is deprecated and will be removed from pandas in a future version. Import from datetime module instead.\n",
      "  case_study_end_date_2 = pd.datetime(2023,2,22)\n",
      "/tmp/ipykernel_96301/2147013776.py:18: FutureWarning: The pandas.datetime class is deprecated and will be removed from pandas in a future version. Import from datetime module instead.\n",
      "  case_study_start_date_3 = pd.datetime(2023,3,5)\n",
      "/tmp/ipykernel_96301/2147013776.py:19: FutureWarning: The pandas.datetime class is deprecated and will be removed from pandas in a future version. Import from datetime module instead.\n",
      "  case_study_end_date_3 = pd.datetime(2023,3,8)\n",
      "/tmp/ipykernel_96301/2147013776.py:22: FutureWarning: The pandas.datetime class is deprecated and will be removed from pandas in a future version. Import from datetime module instead.\n",
      "  case_study_start_date_4 = pd.datetime(2023,4,2)\n",
      "/tmp/ipykernel_96301/2147013776.py:23: FutureWarning: The pandas.datetime class is deprecated and will be removed from pandas in a future version. Import from datetime module instead.\n",
      "  case_study_end_date_4 = pd.datetime(2023,4,5)\n"
     ]
    }
   ],
   "source": [
    "# Observation derived case studies\n",
    "# case_study_start_date_1 = pd.datetime(2023,1,31)\n",
    "# case_study_end_date_1 = pd.datetime(2023,2,4)\n",
    "\n",
    "# case_study_start_date_2 = pd.datetime(2023,2,19)\n",
    "# case_study_end_date_2 = pd.datetime(2023,2,23)\n",
    "\n",
    "# case_study_start_date_3 = pd.datetime(2023,3,16)\n",
    "# case_study_end_date_3 = pd.datetime(2023,3,20)\n",
    "\n",
    "# Methodologically derived case studies\n",
    "case_study_start_date_1 = pd.datetime(2022,12,21)\n",
    "case_study_end_date_1 = pd.datetime(2022,12,24)\n",
    "days_from_jan1_2023_1 = -11\n",
    "\n",
    "case_study_start_date_2 = pd.datetime(2023,2,19)\n",
    "case_study_end_date_2 = pd.datetime(2023,2,22)\n",
    "days_from_jan1_2023_2 = 49\n",
    "\n",
    "case_study_start_date_3 = pd.datetime(2023,3,5)\n",
    "case_study_end_date_3 = pd.datetime(2023,3,8)\n",
    "days_from_jan1_2023_3 = 63\n",
    "\n",
    "case_study_start_date_4 = pd.datetime(2023,4,2)\n",
    "case_study_end_date_4 = pd.datetime(2023,4,5)\n",
    "days_from_jan1_2023_4 = 91\n",
    "\n",
    "case_study_1_src = tidy_df_30Min[tidy_df_30Min['time'] < case_study_end_date_1]\n",
    "case_study_1_src = case_study_1_src[case_study_1_src['time'] >= case_study_start_date_1]\n",
    "case_study_1_src = case_study_1_src.assign(case_study = 1)\n",
    "case_study_1_src['time'] = case_study_1_src['time'] - dt.timedelta(days=days_from_jan1_2023_1)\n",
    "\n",
    "case_study_2_src = tidy_df_30Min[tidy_df_30Min['time'] < case_study_end_date_2]\n",
    "case_study_2_src = case_study_2_src[case_study_2_src['time'] >= case_study_start_date_2]\n",
    "case_study_2_src = case_study_2_src.assign(case_study = 2)\n",
    "case_study_2_src['time'] = case_study_2_src['time'] - dt.timedelta(days=days_from_jan1_2023_2)\n",
    "\n",
    "case_study_3_src = tidy_df_30Min[tidy_df_30Min['time'] < case_study_end_date_3]\n",
    "case_study_3_src = case_study_3_src[case_study_3_src['time'] >= case_study_start_date_3]\n",
    "case_study_3_src = case_study_3_src.assign(case_study = 3)\n",
    "case_study_3_src['time'] = case_study_3_src['time'] - dt.timedelta(days=days_from_jan1_2023_3)\n",
    "\n",
    "case_study_4_src = tidy_df_30Min[tidy_df_30Min['time'] < case_study_end_date_4]\n",
    "case_study_4_src = case_study_4_src[case_study_4_src['time'] >= case_study_start_date_4]\n",
    "case_study_4_src = case_study_4_src.assign(case_study = 4)\n",
    "case_study_4_src['time'] = case_study_4_src['time'] - dt.timedelta(days=days_from_jan1_2023_4)"
   ]
  },
  {
   "attachments": {},
   "cell_type": "markdown",
   "metadata": {},
   "source": [
    "## Calculate cumulative sublimation for each case study (Separately)"
   ]
  },
  {
   "cell_type": "code",
   "execution_count": 50,
   "metadata": {},
   "outputs": [],
   "source": [
    "for variable in [\n",
    "    'w_h2o__3m_uw',\n",
    "    'w_h2o__3m_ue',\n",
    "    'w_h2o__3m_c',\n",
    "    'w_h2o__3m_d'\n",
    "]:\n",
    "    case_study_1_src = tidy.tidy_df_add_variable(\n",
    "        case_study_1_src,\n",
    "        np.cumsum(case_study_1_src.query(f\"variable == '{variable}'\")['value']*60*30).values*1000/(1e6),\n",
    "        \"Cumulative sublimation (mm)\",\n",
    "        \"Cumulative sublimation (mm)\",\n",
    "        int(variable.split('_')[-2].split('m')[0]),\n",
    "        variable.split('_')[-1]\n",
    "    )\n",
    "\n",
    "    case_study_2_src = tidy.tidy_df_add_variable(\n",
    "        case_study_2_src,\n",
    "        np.cumsum(case_study_2_src.query(f\"variable == '{variable}'\")['value']*60*30).values*1000/(1e6),\n",
    "        \"Cumulative sublimation (mm)\",\n",
    "        \"Cumulative sublimation (mm)\",\n",
    "        int(variable.split('_')[-2].split('m')[0]),\n",
    "        variable.split('_')[-1]\n",
    "    )\n",
    "\n",
    "    case_study_3_src = tidy.tidy_df_add_variable(\n",
    "        case_study_3_src,\n",
    "        np.cumsum(case_study_3_src.query(f\"variable == '{variable}'\")['value']*60*30).values*1000/(1e6),\n",
    "        \"Cumulative sublimation (mm)\",\n",
    "        \"Cumulative sublimation (mm)\",\n",
    "        int(variable.split('_')[-2].split('m')[0]),\n",
    "        variable.split('_')[-1]\n",
    "    )\n",
    "\n",
    "    case_study_4_src = tidy.tidy_df_add_variable(\n",
    "        case_study_4_src,\n",
    "        np.cumsum(case_study_4_src.query(f\"variable == '{variable}'\")['value']*60*30).values*1000/(1e6),\n",
    "        \"Cumulative sublimation (mm)\",\n",
    "        \"Cumulative sublimation (mm)\",\n",
    "        int(variable.split('_')[-2].split('m')[0]),\n",
    "        variable.split('_')[-1]\n",
    "    )"
   ]
  },
  {
   "attachments": {},
   "cell_type": "markdown",
   "metadata": {},
   "source": [
    "## Combine case study datasets into one dataframe (for plotting)"
   ]
  },
  {
   "cell_type": "code",
   "execution_count": 51,
   "metadata": {},
   "outputs": [],
   "source": [
    "case_study_compare_src = pd.concat([\n",
    "    case_study_1_src.assign(case_study = 1), \n",
    "    case_study_2_src.assign(case_study = 2), \n",
    "    case_study_3_src.assign(case_study = 3),\n",
    "    case_study_4_src.assign(case_study = 4)\n",
    "])"
   ]
  },
  {
   "cell_type": "code",
   "execution_count": 57,
   "metadata": {},
   "outputs": [
    {
     "data": {
      "text/html": [
       "<div>\n",
       "<style scoped>\n",
       "    .dataframe tbody tr th:only-of-type {\n",
       "        vertical-align: middle;\n",
       "    }\n",
       "\n",
       "    .dataframe tbody tr th {\n",
       "        vertical-align: top;\n",
       "    }\n",
       "\n",
       "    .dataframe thead th {\n",
       "        text-align: right;\n",
       "    }\n",
       "</style>\n",
       "<table border=\"1\" class=\"dataframe\">\n",
       "  <thead>\n",
       "    <tr style=\"text-align: right;\">\n",
       "      <th></th>\n",
       "      <th>measurement</th>\n",
       "      <th>variable</th>\n",
       "      <th>height</th>\n",
       "      <th>tower</th>\n",
       "      <th>time</th>\n",
       "      <th>value</th>\n",
       "      <th>EC system</th>\n",
       "      <th>case_study</th>\n",
       "    </tr>\n",
       "  </thead>\n",
       "  <tbody>\n",
       "    <tr>\n",
       "      <th>3839998</th>\n",
       "      <td>wind speed</td>\n",
       "      <td>spd_3m_c</td>\n",
       "      <td>3.0</td>\n",
       "      <td>c</td>\n",
       "      <td>2023-01-01 00:00:00</td>\n",
       "      <td>2.180240</td>\n",
       "      <td>tower c, 3m</td>\n",
       "      <td>4.0</td>\n",
       "    </tr>\n",
       "    <tr>\n",
       "      <th>3839999</th>\n",
       "      <td>wind speed</td>\n",
       "      <td>spd_3m_c</td>\n",
       "      <td>3.0</td>\n",
       "      <td>c</td>\n",
       "      <td>2023-01-01 00:30:00</td>\n",
       "      <td>1.647098</td>\n",
       "      <td>tower c, 3m</td>\n",
       "      <td>4.0</td>\n",
       "    </tr>\n",
       "    <tr>\n",
       "      <th>3840000</th>\n",
       "      <td>wind speed</td>\n",
       "      <td>spd_3m_c</td>\n",
       "      <td>3.0</td>\n",
       "      <td>c</td>\n",
       "      <td>2023-01-01 01:00:00</td>\n",
       "      <td>1.967130</td>\n",
       "      <td>tower c, 3m</td>\n",
       "      <td>4.0</td>\n",
       "    </tr>\n",
       "    <tr>\n",
       "      <th>3840001</th>\n",
       "      <td>wind speed</td>\n",
       "      <td>spd_3m_c</td>\n",
       "      <td>3.0</td>\n",
       "      <td>c</td>\n",
       "      <td>2023-01-01 01:30:00</td>\n",
       "      <td>2.075879</td>\n",
       "      <td>tower c, 3m</td>\n",
       "      <td>4.0</td>\n",
       "    </tr>\n",
       "    <tr>\n",
       "      <th>3840002</th>\n",
       "      <td>wind speed</td>\n",
       "      <td>spd_3m_c</td>\n",
       "      <td>3.0</td>\n",
       "      <td>c</td>\n",
       "      <td>2023-01-01 02:00:00</td>\n",
       "      <td>1.702841</td>\n",
       "      <td>tower c, 3m</td>\n",
       "      <td>4.0</td>\n",
       "    </tr>\n",
       "    <tr>\n",
       "      <th>...</th>\n",
       "      <td>...</td>\n",
       "      <td>...</td>\n",
       "      <td>...</td>\n",
       "      <td>...</td>\n",
       "      <td>...</td>\n",
       "      <td>...</td>\n",
       "      <td>...</td>\n",
       "      <td>...</td>\n",
       "    </tr>\n",
       "    <tr>\n",
       "      <th>3840137</th>\n",
       "      <td>wind speed</td>\n",
       "      <td>spd_3m_c</td>\n",
       "      <td>3.0</td>\n",
       "      <td>c</td>\n",
       "      <td>2023-01-03 21:30:00</td>\n",
       "      <td>3.863578</td>\n",
       "      <td>tower c, 3m</td>\n",
       "      <td>4.0</td>\n",
       "    </tr>\n",
       "    <tr>\n",
       "      <th>3840138</th>\n",
       "      <td>wind speed</td>\n",
       "      <td>spd_3m_c</td>\n",
       "      <td>3.0</td>\n",
       "      <td>c</td>\n",
       "      <td>2023-01-03 22:00:00</td>\n",
       "      <td>5.350650</td>\n",
       "      <td>tower c, 3m</td>\n",
       "      <td>4.0</td>\n",
       "    </tr>\n",
       "    <tr>\n",
       "      <th>3840139</th>\n",
       "      <td>wind speed</td>\n",
       "      <td>spd_3m_c</td>\n",
       "      <td>3.0</td>\n",
       "      <td>c</td>\n",
       "      <td>2023-01-03 22:30:00</td>\n",
       "      <td>4.844733</td>\n",
       "      <td>tower c, 3m</td>\n",
       "      <td>4.0</td>\n",
       "    </tr>\n",
       "    <tr>\n",
       "      <th>3840140</th>\n",
       "      <td>wind speed</td>\n",
       "      <td>spd_3m_c</td>\n",
       "      <td>3.0</td>\n",
       "      <td>c</td>\n",
       "      <td>2023-01-03 23:00:00</td>\n",
       "      <td>5.593398</td>\n",
       "      <td>tower c, 3m</td>\n",
       "      <td>4.0</td>\n",
       "    </tr>\n",
       "    <tr>\n",
       "      <th>3840141</th>\n",
       "      <td>wind speed</td>\n",
       "      <td>spd_3m_c</td>\n",
       "      <td>3.0</td>\n",
       "      <td>c</td>\n",
       "      <td>2023-01-03 23:30:00</td>\n",
       "      <td>5.012086</td>\n",
       "      <td>tower c, 3m</td>\n",
       "      <td>4.0</td>\n",
       "    </tr>\n",
       "  </tbody>\n",
       "</table>\n",
       "<p>144 rows × 8 columns</p>\n",
       "</div>"
      ],
      "text/plain": [
       "        measurement  variable  height tower                time     value  \\\n",
       "3839998  wind speed  spd_3m_c     3.0     c 2023-01-01 00:00:00  2.180240   \n",
       "3839999  wind speed  spd_3m_c     3.0     c 2023-01-01 00:30:00  1.647098   \n",
       "3840000  wind speed  spd_3m_c     3.0     c 2023-01-01 01:00:00  1.967130   \n",
       "3840001  wind speed  spd_3m_c     3.0     c 2023-01-01 01:30:00  2.075879   \n",
       "3840002  wind speed  spd_3m_c     3.0     c 2023-01-01 02:00:00  1.702841   \n",
       "...             ...       ...     ...   ...                 ...       ...   \n",
       "3840137  wind speed  spd_3m_c     3.0     c 2023-01-03 21:30:00  3.863578   \n",
       "3840138  wind speed  spd_3m_c     3.0     c 2023-01-03 22:00:00  5.350650   \n",
       "3840139  wind speed  spd_3m_c     3.0     c 2023-01-03 22:30:00  4.844733   \n",
       "3840140  wind speed  spd_3m_c     3.0     c 2023-01-03 23:00:00  5.593398   \n",
       "3840141  wind speed  spd_3m_c     3.0     c 2023-01-03 23:30:00  5.012086   \n",
       "\n",
       "           EC system  case_study  \n",
       "3839998  tower c, 3m         4.0  \n",
       "3839999  tower c, 3m         4.0  \n",
       "3840000  tower c, 3m         4.0  \n",
       "3840001  tower c, 3m         4.0  \n",
       "3840002  tower c, 3m         4.0  \n",
       "...              ...         ...  \n",
       "3840137  tower c, 3m         4.0  \n",
       "3840138  tower c, 3m         4.0  \n",
       "3840139  tower c, 3m         4.0  \n",
       "3840140  tower c, 3m         4.0  \n",
       "3840141  tower c, 3m         4.0  \n",
       "\n",
       "[144 rows x 8 columns]"
      ]
     },
     "execution_count": 57,
     "metadata": {},
     "output_type": "execute_result"
    }
   ],
   "source": [
    "case_study_4_src.query(\"variable == 'spd_3m_c'\")"
   ]
  },
  {
   "attachments": {},
   "cell_type": "markdown",
   "metadata": {},
   "source": [
    "## Plot time series"
   ]
  },
  {
   "cell_type": "code",
   "execution_count": 56,
   "metadata": {},
   "outputs": [
    {
     "data": {
      "application/vnd.vegalite.v5+json": {
       "$schema": "https://vega.github.io/schema/vega-lite/v5.8.0.json",
       "config": {
        "axis": {
         "labelFontSize": 14
        },
        "view": {
         "continuousHeight": 300,
         "continuousWidth": 300
        }
       },
       "data": {
        "format": {
         "type": "json"
        },
        "url": "altair-data-f0d6f88df28b359260fd9badb39b587b.json"
       },
       "resolve": {
        "scale": {
         "strokeDash": "independent"
        }
       },
       "vconcat": [
        {
         "encoding": {
          "column": {
           "field": "case_study",
           "header": {
            "labels": false
           },
           "title": null,
           "type": "ordinal"
          },
          "x": {
           "axis": {
            "labels": false
           },
           "field": "time",
           "title": null,
           "type": "temporal"
          },
          "y": {
           "field": "value",
           "scale": {
            "nice": false,
            "zero": false
           },
           "title": "Cumulative sublimation (mm)",
           "type": "quantitative"
          }
         },
         "height": 100,
         "mark": {
          "type": "line"
         },
         "transform": [
          {
           "filter": {
            "field": "measurement",
            "oneOf": [
             "Cumulative sublimation (mm)"
            ]
           }
          },
          {
           "filter": "(datum.height === 3)"
          },
          {
           "filter": "(datum.tower === 'c')"
          }
         ],
         "width": 400
        },
        {
         "encoding": {
          "column": {
           "field": "case_study",
           "header": {
            "labels": false
           },
           "title": null,
           "type": "ordinal"
          },
          "x": {
           "axis": {
            "labels": false
           },
           "field": "time",
           "title": null,
           "type": "temporal"
          },
          "y": {
           "field": "rolling_mean",
           "title": "Latent heat flux (g/m^2/s)",
           "type": "quantitative"
          }
         },
         "height": 100,
         "mark": {
          "type": "line"
         },
         "transform": [
          {
           "filter": "(datum.variable === 'w_h2o__3m_c')"
          },
          {
           "frame": [
            -6,
            6
           ],
           "groupby": [
            "height"
           ],
           "window": [
            {
             "as": "rolling_mean",
             "field": "value",
             "op": "mean"
            }
           ]
          }
         ],
         "width": 400
        },
        {
         "encoding": {
          "column": {
           "field": "case_study",
           "header": {
            "labels": false
           },
           "title": null,
           "type": "ordinal"
          },
          "x": {
           "axis": {
            "labels": false
           },
           "field": "time",
           "title": null,
           "type": "temporal"
          },
          "y": {
           "field": "rolling_avg",
           "title": "Ri",
           "type": "quantitative"
          }
         },
         "height": 100,
         "mark": {
          "type": "line"
         },
         "transform": [
          {
           "filter": {
            "field": "variable",
            "oneOf": [
             "Ri_3m_c"
            ]
           }
          },
          {
           "frame": [
            -3,
            3
           ],
           "groupby": [
            "case_study"
           ],
           "window": [
            {
             "as": "rolling_avg",
             "field": "value",
             "op": "median"
            }
           ]
          }
         ],
         "width": 400
        },
        {
         "encoding": {
          "column": {
           "field": "case_study",
           "header": {
            "labels": false
           },
           "title": null,
           "type": "ordinal"
          },
          "strokeDash": {
           "field": "measurement",
           "type": "nominal"
          },
          "x": {
           "axis": {
            "labels": false
           },
           "field": "time",
           "title": null,
           "type": "temporal"
          },
          "y": {
           "field": "value",
           "title": "Temperature (˚C)",
           "type": "quantitative"
          }
         },
         "height": 100,
         "mark": {
          "type": "line"
         },
         "transform": [
          {
           "filter": {
            "field": "variable",
            "oneOf": [
             "T_3m_c",
             "Tsurf_rad_d"
            ]
           }
          }
         ],
         "width": 400
        },
        {
         "encoding": {
          "column": {
           "field": "case_study",
           "header": {
            "labels": false
           },
           "title": null,
           "type": "ordinal"
          },
          "x": {
           "axis": {
            "labels": false
           },
           "field": "time",
           "title": null,
           "type": "temporal"
          },
          "y": {
           "field": "value",
           "title": "Blowing Snow Flux (g/m^2)",
           "type": "quantitative"
          }
         },
         "height": 100,
         "mark": {
          "type": "line"
         },
         "transform": [
          {
           "filter": "(datum.variable === 'SF_avg_1m_ue')"
          }
         ],
         "width": 400
        },
        {
         "encoding": {
          "column": {
           "field": "case_study",
           "header": {
            "labels": false
           },
           "title": null,
           "type": "ordinal"
          },
          "x": {
           "axis": {
            "format": "%H00"
           },
           "field": "time",
           "title": "time (hour)",
           "type": "temporal"
          },
          "y": {
           "field": "value",
           "title": "SW Incoming (W/m^2)",
           "type": "quantitative"
          }
         },
         "height": 100,
         "mark": {
          "type": "line"
         },
         "transform": [
          {
           "filter": "(datum.measurement === 'shortwave radiation incoming')"
          }
         ],
         "width": 400
        }
       ]
      },
      "text/plain": [
       "<VegaLite 5 object>\n",
       "\n",
       "If you see this message, it means the renderer has not been properly enabled\n",
       "for the frontend that you are using. For more information, see\n",
       "https://altair-viz.github.io/user_guide/display_frontends.html#troubleshooting\n"
      ]
     },
     "execution_count": 56,
     "metadata": {},
     "output_type": "execute_result"
    }
   ],
   "source": [
    "base_nolabels = alt.Chart(case_study_compare_src).encode(\n",
    "    alt.X('time:T').axis(labels=False).title(None),\n",
    "    alt.Column('case_study:O').header(labels=False).title(None)\n",
    ").properties(width=400, height=100)\n",
    "\n",
    "base = alt.Chart(case_study_compare_src).encode(\n",
    "    alt.X('time:T').axis(format=\"%H00\").title('time (hour)'),\n",
    "    alt.Column('case_study:O').header(labels=False).title(None)\n",
    ").properties(width=400, height=100)\n",
    "\n",
    "(\n",
    "    # CUMULATIVE SUBLIMATION PLOT\n",
    "    base_nolabels.transform_filter(\n",
    "        alt.FieldOneOfPredicate('measurement', ['Cumulative sublimation (mm)'])\n",
    "    ).transform_filter(\n",
    "        alt.datum.height == 3\n",
    "    ).transform_filter(\n",
    "        alt.datum.tower == 'c'\n",
    "    ).mark_line().encode(\n",
    "        alt.Y(\"value:Q\", title='Cumulative sublimation (mm)', scale=alt.Scale(zero=False, nice=False))\n",
    "    ) &\n",
    "    # LATENT HEAT FLUX PLOT\n",
    "    base_nolabels.transform_filter(\n",
    "        alt.datum.variable == \"w_h2o__3m_c\"\n",
    "    ).transform_window(\n",
    "        rolling_mean = 'mean(value)',\n",
    "        frame= [-6, 6],\n",
    "        groupby = [\"height\"]\n",
    "    ).mark_line().encode(\n",
    "        alt.Y(\"rolling_mean:Q\", title = 'Latent heat flux (g/m^2/s)')\n",
    "    ) & \n",
    "    # Richardson number plot\n",
    "    base_nolabels.transform_filter(\n",
    "        alt.FieldOneOfPredicate('variable', ['Ri_3m_c'])\n",
    "    ).transform_window(\n",
    "        rolling_avg = 'median(value)',\n",
    "        frame=[-3,3],\n",
    "        groupby = [\"case_study\"]\n",
    "    ).mark_line().encode(\n",
    "        alt.Y(\"rolling_avg:Q\", title='Ri'),\n",
    "    ) &\n",
    "    # Surface and Air Temp Plot\n",
    "    base_nolabels.transform_filter(\n",
    "        alt.FieldOneOfPredicate('variable', ['T_3m_c', 'Tsurf_rad_d'])\n",
    "    ).mark_line().encode(\n",
    "        alt.Y(\"value:Q\", title=\"Temperature (˚C)\"),\n",
    "        alt.StrokeDash(\"measurement:N\")\n",
    "    ) & \n",
    "    # blowing snow flux\n",
    "    base_nolabels.transform_filter(\n",
    "        alt.datum.variable == 'SF_avg_1m_ue'\n",
    "    ).mark_line().encode(\n",
    "        alt.Y(\"value:Q\", title='Blowing Snow Flux (g/m^2)')\n",
    "    ) &\n",
    "    # SW Incoming\n",
    "    base.transform_filter(\n",
    "        alt.datum.measurement == 'shortwave radiation incoming'\n",
    "    ).mark_line().encode(\n",
    "        alt.Y(\"value:Q\", title='SW Incoming (W/m^2)')\n",
    "    )\n",
    ").resolve_scale(strokeDash='independent').configure_axis(\n",
    "    labelFontSize=14\n",
    ")"
   ]
  },
  {
   "cell_type": "markdown",
   "metadata": {},
   "source": [
    "## Plot Profiles"
   ]
  },
  {
   "cell_type": "code",
   "execution_count": null,
   "metadata": {},
   "outputs": [],
   "source": [
    "case_study_1_src"
   ]
  },
  {
   "cell_type": "code",
   "execution_count": null,
   "metadata": {},
   "outputs": [],
   "source": [
    "case_study_start_date_profiles = pd.datetime(2023,2,13)\n",
    "case_study_end_date_profiles = pd.datetime(2023,2,14)\n",
    "\n",
    "case_study_profiles_src = tidy_df_30Min[tidy_df_30Min['time'] < case_study_end_date_profiles]\n",
    "case_study_profiles_src = case_study_profiles_src[case_study_profiles_src['time'] >= case_study_start_date_profiles]\n",
    "case_study_profiles_src = case_study_profiles_src.assign(case_study = 1)"
   ]
  },
  {
   "cell_type": "code",
   "execution_count": null,
   "metadata": {},
   "outputs": [],
   "source": [
    "profiles_src = case_study_profiles_src.copy()\n",
    "profiles_src = profiles_src[profiles_src['time'].dt.minute == 0]\n",
    "profiles_src = profiles_src[profiles_src['time'].dt.hour%3 == 0]\n",
    "profiles_src['day'] = profiles_src['time'].dt.day\n",
    "profiles_src['hour'] = profiles_src['time'].dt.hour\n",
    "\n",
    "profiles_src = profiles_src.query(\"hour <= 18\")\n",
    "\n",
    "t_profiles_src = profiles_src[profiles_src['measurement'].isin(\n",
    "    ['potential virtual temperature', 'surface potential virtual temperature']\n",
    ")]\n",
    "\n",
    "spd_profiles_src = profiles_src[profiles_src['measurement'] == 'wind speed'].query(\"tower == 'c'\")\n",
    "\n",
    "(\n",
    "    alt.Chart(t_profiles_src).mark_line().encode(\n",
    "        alt.X('value:Q').sort('-y').title(\"Pot. virtual temp (˚C)\"),\n",
    "        alt.Y(\"height:Q\"),\n",
    "        alt.Color(\"hour:O\").scale(scheme='purpleorange')\n",
    "    ).properties(height = 150)\n",
    "    &\n",
    "    alt.Chart(spd_profiles_src).mark_line().encode(\n",
    "        alt.X('value:Q').sort('-y').title('Wind speed (m/s)'),\n",
    "        alt.Y(\"height:Q\"),\n",
    "        alt.Color(\"hour:O\").scale(scheme='purpleorange')\n",
    "    ).properties(height = 150)\n",
    ").configure_axis(grid=False)"
   ]
  },
  {
   "cell_type": "code",
   "execution_count": null,
   "metadata": {},
   "outputs": [],
   "source": [
    "profiles_src = case_study_profiles_src.copy()\n",
    "profiles_src = profiles_src[profiles_src['time'].dt.minute == 0]\n",
    "profiles_src = profiles_src[profiles_src['time'].dt.hour%3 == 0]\n",
    "profiles_src['day'] = profiles_src['time'].dt.day\n",
    "profiles_src['hour'] = profiles_src['time'].dt.hour\n",
    "\n",
    "t_profiles_src = profiles_src[profiles_src['measurement'].isin(\n",
    "    ['potential virtual temperature', 'surface potential virtual temperature']\n",
    ")]\n",
    "\n",
    "spd_profiles_src = profiles_src[profiles_src['measurement'] == 'wind speed'].query(\"tower == 'c'\")\n",
    "\n",
    "alt.Chart(t_profiles_src).mark_line().encode(\n",
    "    alt.X('value:Q').sort('-y').title(\"Pot. virtual temp (˚C)\"),\n",
    "    alt.Y(\"height:Q\"),\n",
    "    alt.Facet(\"time:T\")\n",
    ").properties(height = 100, width = 100) \\\n",
    "& \\\n",
    "alt.Chart(spd_profiles_src).mark_line().encode(\n",
    "    alt.X('value:Q').sort('-y').title('Wind speed (m/s)'),\n",
    "    alt.Y(\"height:Q\"),\n",
    "    alt.Facet(\"time:T\").header(format='%H:%M')\n",
    ").properties(height = 100, width = 100)"
   ]
  },
  {
   "cell_type": "code",
   "execution_count": null,
   "metadata": {},
   "outputs": [],
   "source": [
    "alt.Chart(t_profiles_src).mark_line().encode(\n",
    "    alt.X('value:Q').sort('-y'),\n",
    "    alt.Y(\"height:Q\"),\n",
    "    alt.Color(\"hour:O\").scale(scheme='rainbow'),\n",
    "    alt.Facet(\"day:O\")\n",
    ").properties(height = 150)"
   ]
  },
  {
   "cell_type": "code",
   "execution_count": null,
   "metadata": {},
   "outputs": [],
   "source": [
    "wind_speed_chart = alt.Chart(case_study_compare_src).transform_filter(\n",
    "    alt.FieldOneOfPredicate('variable', ['spd_2m_c', 'spd_10m_c', 'spd_20m_c'])\n",
    ").mark_line().encode(\n",
    "    alt.X('time:T'),\n",
    "    alt.Y(\"value:Q\", title='Wind Speed (m/s)'),\n",
    "    alt.Color(\"height:N\")\n",
    ").properties(width=400, height=143).facet(column='case_study:O')\n",
    "\n",
    "tke_chart = alt.Chart(case_study_compare_src).transform_filter(\n",
    "    alt.FieldOneOfPredicate('variable', ['tke_2m_c', 'tke_10m_c', 'tke_20m_c'])\n",
    ").mark_line().encode(\n",
    "    alt.X('time:T'),\n",
    "    alt.Y(\"value:Q\", title='TKE', scale=alt.Scale(type='log')),\n",
    "    alt.Color(\"height:N\")\n",
    ").properties(width=400, height=143).facet(column='case_study:O')\n",
    "\n",
    "ri_plot = alt.Chart(case_study_compare_src).transform_filter(\n",
    "    alt.FieldOneOfPredicate('variable', ['Ri_2m_c', 'Ri_2m_c_Tsurf_rad_d'])\n",
    ").mark_line().encode(\n",
    "    alt.X('time:T'),\n",
    "    alt.Y(\"value:Q\", title='Ri', scale=alt.Scale()),\n",
    "    alt.Color(\"variable:N\")\n",
    ").properties(width=400, height=143).facet(column='case_study:O')\n",
    "\n",
    "surf_temp_chart = alt.Chart(case_study_compare_src).transform_filter(\n",
    "    alt.FieldOneOfPredicate('variable', ['Tsurf_c', 'Tsurf_d', 'Tsurf_ue', 'Tsurf_uw', 'Tsurf_rad_d'])\n",
    ").transform_window(\n",
    "    rolling_mean = 'mean(value)',\n",
    "    frame = [-6, 6],\n",
    "    groupby = ['variable']\n",
    ").mark_line().encode(\n",
    "    alt.X('time:T'),\n",
    "    alt.Y(\"rolling_mean:Q\", title='Temperature (˚C)'),\n",
    "    alt.Color(\"variable:N\")\n",
    ").properties(width=400, height=143).facet(column='case_study:O')\n",
    "\n",
    "air_temp_chart = alt.Chart(case_study_compare_src).transform_filter(\n",
    "    alt.FieldOneOfPredicate('variable', ['T_2m_c'])\n",
    ").transform_window(\n",
    "    rolling_mean = 'mean(value)',\n",
    "    frame = [-6, 6],\n",
    "    groupby = ['variable']\n",
    ").mark_line(color='black', strokeDash=[5,5]).encode(\n",
    "    alt.X('time:T'),\n",
    "    alt.Y(\"rolling_mean:Q\", title='Temperature (˚C)'),\n",
    ").properties(width=400, height=143).facet(column='case_study:O')\n",
    "\n",
    "measured_lh_flux_plot = alt.Chart(case_study_compare_src).transform_filter(\n",
    "    alt.datum.variable == 'w_h2o__2m_c'\n",
    ").mark_point(color='black', size=10).encode(\n",
    "    alt.X(\"time:T\"),\n",
    "    alt.Y(\"value:Q\", title = 'Latent heat flux (g/m^2/s)', scale=alt.Scale())\n",
    ").properties(width=400, height=143).facet(column='case_study:O')\n",
    "\n",
    "predicted_lh_flux_plot = alt.Chart(case_study_compare_src).transform_filter(\n",
    "    alt.FieldOneOfPredicate('variable', ['w_h20_modeled_MO_HdB_2m_c', 'w_h20_modeled_MO_HdB_2m_c_Tsurf_rad_d'])\n",
    ").mark_line().encode(\n",
    "    alt.X('time:T'),\n",
    "    alt.Y(\"value:Q\"),\n",
    "    alt.Color(\"measurement:N\")\n",
    ").properties(width=400, height=143).facet(column='case_study:O')\n",
    "\n",
    "snow_flux_chart = alt.Chart(case_study_compare_src).transform_filter(\n",
    "    alt.FieldOneOfPredicate('measurement', ['snow flux'])\n",
    ").mark_line().encode(\n",
    "    alt.X('time:T'),\n",
    "    alt.Y(\"value:Q\", title='Blowing Snow Flux (g/m^2)'),\n",
    "    alt.Color(\"height:N\")\n",
    ").properties(width=400, height=143).facet(column='case_study:O')\n",
    "\n",
    "(wind_speed_chart & tke_chart & ri_plot & (surf_temp_chart \n",
    "                                        #    + air_temp_chart\n",
    ") & (predicted_lh_flux_plot \n",
    "    #  + measured_lh_flux_plot\n",
    ") & snow_flux_chart).resolve_scale(\n",
    "    color='independent'\n",
    ").configure_legend(\n",
    "    labelLimit = 0\n",
    ")"
   ]
  },
  {
   "attachments": {},
   "cell_type": "markdown",
   "metadata": {},
   "source": [
    "# Plot M.O.S.T model results"
   ]
  },
  {
   "cell_type": "code",
   "execution_count": null,
   "metadata": {},
   "outputs": [],
   "source": [
    "wide_df = tidy_df_30Min.pivot_table(\n",
    "    index=['time'],\n",
    "    columns=\"variable\",\n",
    "    values='value'\n",
    ")[[\n",
    "    'w_h2o__2m_c',\n",
    "\n",
    "    'w_h20_modeled_Standard_2m_c',\n",
    "    'w_h20_modeled_MO_HdB_2m_c',\n",
    "    \n",
    "    'Ri_2m_c',\n",
    "    'SF_avg_1m_ue',\n",
    "    'SF_avg_2m_ue',\n",
    "\n",
    "    'spd_2m_c',\n",
    "    'dir_2m_c',\n",
    "    'u_2m_c',\n",
    "    'v_2m_c',\n",
    "    'w_2m_c',\n",
    "    'u_w__2m_c',\n",
    "    'v_w__2m_c',\n",
    "    'u_tc__2m_c',\n",
    "    'v_tc__2m_c',\n",
    "    'u_h2o__2m_c',\n",
    "    'v_h2o__2m_c',\n",
    "    'w_tc__2m_c',\n",
    "    'tc_2m_c',\n",
    "    'T_2m_c', \n",
    "    'RH_2m_c'\n",
    "]]"
   ]
  },
  {
   "cell_type": "code",
   "execution_count": null,
   "metadata": {},
   "outputs": [],
   "source": [
    "wide_df['Holtslag/de Bruin residual'] = wide_df['w_h20_modeled_MO_HdB_2m_c'] - wide_df['w_h2o__2m_c']\n",
    "wide_df['Standard residual'] =  wide_df['w_h20_modeled_Standard_2m_c'] - wide_df['w_h2o__2m_c']\n",
    "\n",
    "wide_df['Holtslag/de Bruin residual normalized'] = wide_df['Holtslag/de Bruin residual'] / wide_df['w_h2o__2m_c']\n",
    "wide_df['Standard residual normalized'] = wide_df['Standard residual'] / wide_df['w_h2o__2m_c']"
   ]
  },
  {
   "cell_type": "code",
   "execution_count": null,
   "metadata": {},
   "outputs": [],
   "source": [
    "wide_df.to_csv(\"monin_obukhov_with_turbpy_seasonlong.csv\")"
   ]
  },
  {
   "cell_type": "code",
   "execution_count": null,
   "metadata": {},
   "outputs": [],
   "source": [
    "wide_df = pd.read_csv(\"monin_obukhov_with_turbpy_seasonlong.csv\")"
   ]
  },
  {
   "cell_type": "code",
   "execution_count": null,
   "metadata": {},
   "outputs": [],
   "source": [
    "fig, axes = plt.subplots(1,2, figsize =(10,5))\n",
    "\n",
    "axes[0].scatter(\n",
    "    wide_df['w_h2o__2m_c'],\n",
    "    wide_df['w_h20_modeled_Standard_2m_c'],\n",
    "    s=1,\n",
    "    alpha=0.1\n",
    ")\n",
    "axes[0].set_title(\"All Data\\nStandard bulk aerodynamic method\")\n",
    "\n",
    "axes[1].scatter(\n",
    "    wide_df['w_h2o__2m_c'],\n",
    "    wide_df['w_h20_modeled_Standard_2m_c'],\n",
    "    s=1,\n",
    "    alpha=0.1\n",
    ")\n",
    "axes[1].set_title(\"All Data\\nHoltslag and de Bruin method for snow and ice\")\n",
    "\n",
    "for ax in axes:\n",
    "    ax.set_xlim(-0.005, 0.025)\n",
    "    ax.set_ylim(-0.005, 0.025)\n",
    "    ax.set_xlabel(\"Measured Vertical Moisture Flux (g/m²/s)\")\n",
    "    ax.set_ylabel(\"Predicted Vertical Moisture Flux (g/m²/s)\")\n",
    "    # ax.set_aspect(\"equal\")\n",
    "\n",
    "plt.tight_layout()"
   ]
  },
  {
   "attachments": {},
   "cell_type": "markdown",
   "metadata": {},
   "source": [
    "# Examine multiple explanatory variables"
   ]
  },
  {
   "cell_type": "code",
   "execution_count": null,
   "metadata": {},
   "outputs": [],
   "source": [
    "fig, axes = plt.subplots(2,5, figsize =(30,10))\n",
    "\n",
    "sns.scatterplot(x=wide_df['Ri_2m_c'],       y=wide_df['Holtslag/de Bruin residual'], s=15, alpha=0.10, ax=axes[0,0])\n",
    "sns.scatterplot(x=wide_df['SF_avg_1m_ue'],  y=wide_df['Holtslag/de Bruin residual'], s=50, alpha=0.10, ax=axes[0,1])\n",
    "sns.scatterplot(x=wide_df['SF_avg_2m_ue'],  y=wide_df['Holtslag/de Bruin residual'], s=50, alpha=0.10, ax=axes[0,2])\n",
    "sns.scatterplot(x=wide_df['spd_2m_c'],      y=wide_df['Holtslag/de Bruin residual'], s=15, alpha=0.10, ax=axes[0,3])\n",
    "sns.scatterplot(x=wide_df['dir_2m_c'],      y=wide_df['Holtslag/de Bruin residual'], s=15, alpha=0.10, ax=axes[0,4])\n",
    "\n",
    "sns.scatterplot(x=wide_df['w_2m_c'],        y=wide_df['Holtslag/de Bruin residual'], s=15, alpha=0.10, ax=axes[1,0])\n",
    "sns.scatterplot(x=wide_df['w_tc__2m_c'],    y=wide_df['Holtslag/de Bruin residual'], s=15, alpha=0.10, ax=axes[1,1])\n",
    "sns.scatterplot(x=wide_df['tc_2m_c'],       y=wide_df['Holtslag/de Bruin residual'], s=15, alpha=0.10, ax=axes[1,2])\n",
    "sns.scatterplot(x=wide_df['T_2m_c'],        y=wide_df['Holtslag/de Bruin residual'], s=15, alpha=0.10, ax=axes[1,3])\n",
    "sns.scatterplot(x=wide_df['RH_2m_c'],       y=wide_df['Holtslag/de Bruin residual'], s=15, alpha=0.10, ax=axes[1,4])\n",
    "\n",
    "for ax in axes.flatten():\n",
    "    ax.set_ylim(-0.01, 0.01)\n",
    "    ax.axhline(y = 0.0, color = 'k')\n",
    "\n",
    "# axes[0,0].set_xlim(-0.5, 0.10)\n",
    "# axes[0,1].set_xlim(0, 0.25)\n",
    "# axes[0,2].set_xlim(0, 0.25)\n",
    "# axes[0,3].set_xlim(0, 10)\n",
    "# axes[0,4].set_xlim(0, 360)\n",
    "# axes[1,1].set_xlim(-0.2, 0.1)\n",
    "\n",
    "# sns.scatterplot(wide_df['u_2m_c'], wide_df['Holtslag/de Bruin residual'], s=1, alpha=0.1, ax=axes[0])\n",
    "# sns.scatterplot(wide_df['v_2m_c'], wide_df['Holtslag/de Bruin residual'], s=1, alpha=0.1, ax=axes[0])\n",
    "# sns.scatterplot(wide_df['u_w__2m_c'], wide_df['Holtslag/de Bruin residual'], s=1, alpha=0.1, ax=axes[0])\n",
    "# sns.scatterplot(wide_df['v_w__2m_c'], wide_df['Holtslag/de Bruin residual'], s=1, alpha=0.1, ax=axes[0])\n",
    "# sns.scatterplot(wide_df['u_tc__2m_c'], wide_df['Holtslag/de Bruin residual'], s=1, alpha=0.1, ax=axes[0])\n",
    "# sns.scatterplot(wide_df['v_tc__2m_c'], wide_df['Holtslag/de Bruin residual'], s=1, alpha=0.1, ax=axes[0])\n",
    "# sns.scatterplot(wide_df['u_h2o__2m_c'], wide_df['Holtslag/de Bruin residual'], s=1, alpha=0.1, ax=axes[0])\n",
    "# sns.scatterplot(wide_df['v_h2o__2m_c'], wide_df['Holtslag/de Bruin residual'], s=1, alpha=0.1, ax=axes[0])\n",
    "\n",
    "plt.tight_layout()"
   ]
  },
  {
   "attachments": {},
   "cell_type": "markdown",
   "metadata": {},
   "source": [
    "# Exclude outliers for richardson number residual comparison"
   ]
  },
  {
   "cell_type": "code",
   "execution_count": null,
   "metadata": {},
   "outputs": [],
   "source": [
    "ri_IQR = np.percentile(wide_df['Ri_2m_c'], 75) - np.percentile(wide_df['Ri_2m_c'], 25)\n",
    "ri_max = np.percentile(wide_df['Ri_2m_c'], 75) + 1.5*ri_IQR\n",
    "ri_min = np.percentile(wide_df['Ri_2m_c'], 75) - 1.5*ri_IQR"
   ]
  },
  {
   "cell_type": "code",
   "execution_count": null,
   "metadata": {},
   "outputs": [],
   "source": [
    "len(wide_df), len(wide_df.query(f\"Ri_2m_c > {ri_min}\").query(f\"Ri_2m_c < {ri_max}\"))"
   ]
  },
  {
   "cell_type": "code",
   "execution_count": null,
   "metadata": {},
   "outputs": [],
   "source": [
    "residual_IQR = np.nanpercentile(wide_df['Holtslag/de Bruin residual'], 75) - np.nanpercentile(wide_df['Holtslag/de Bruin residual'], 25)\n",
    "residual_max = np.nanpercentile(wide_df['Holtslag/de Bruin residual'], 75) + 1.5*residual_IQR\n",
    "residual_min = np.nanpercentile(wide_df['Holtslag/de Bruin residual'], 75) - 1.5*residual_IQR"
   ]
  },
  {
   "cell_type": "code",
   "execution_count": null,
   "metadata": {},
   "outputs": [],
   "source": [
    "len(wide_df), len(wide_df[(wide_df[\"Holtslag/de Bruin residual\"] > residual_min) & (wide_df[\"Holtslag/de Bruin residual\"] < residual_max)])"
   ]
  },
  {
   "cell_type": "code",
   "execution_count": null,
   "metadata": {},
   "outputs": [],
   "source": [
    "src = wide_df.query(f\"Ri_2m_c > {ri_min}\").query(f\"Ri_2m_c < {ri_max}\")\n",
    "src = src[(src[\"Holtslag/de Bruin residual\"] > residual_min) & (src[\"Holtslag/de Bruin residual\"] < residual_max)]\n",
    "\n",
    "g = sns.JointGrid(data = src, x='Ri_2m_c',       y='Holtslag/de Bruin residual', \n",
    "                #   cbar=True, binwidth=(0.01, 0.00025)\n",
    "                )\n",
    "g.plot_joint(sns.histplot)\n",
    "g.plot_marginals(sns.kdeplot)\n",
    "# plt.gca().set_xlim(-0.5, 0.10)\n",
    "# plt.gca().set_ylim(-0.01, 0.01)"
   ]
  },
  {
   "cell_type": "code",
   "execution_count": null,
   "metadata": {},
   "outputs": [],
   "source": []
  }
 ],
 "metadata": {
  "kernelspec": {
   "display_name": "arm",
   "language": "python",
   "name": "python3"
  },
  "language_info": {
   "codemirror_mode": {
    "name": "ipython",
    "version": 3
   },
   "file_extension": ".py",
   "mimetype": "text/x-python",
   "name": "python",
   "nbconvert_exporter": "python",
   "pygments_lexer": "ipython3",
   "version": "3.11.0"
  },
  "orig_nbformat": 4,
  "vscode": {
   "interpreter": {
    "hash": "e2b11a00ad1b97cabcd9cc9209b8824a0fcaf6ffe37b5243943912873b5dcab1"
   }
  }
 },
 "nbformat": 4,
 "nbformat_minor": 2
}
