{
 "cells": [
  {
   "cell_type": "code",
   "execution_count": 51,
   "metadata": {},
   "outputs": [],
   "source": [
    "# netcdf/numpy/xray/stats\n",
    "import xarray as xr\n",
    "\n",
    "# plotting packages\n",
    "import seaborn as sns\n",
    "from matplotlib.pyplot import subplots\n",
    "import matplotlib.pyplot as plt\n",
    "#from mpl_toolkits.basemap import Basemap\n",
    "\n",
    "# turbulence package\n",
    "import turbpy\n",
    "import turbpy.multiConst as mc\n",
    "\n",
    "import sys\n",
    "sys.path.append(\"/home/elilouis/sublimationofsnow/\")\n",
    "import sosutils\n",
    "from sostidy import SOSTidy\n",
    "\n",
    "from metpy.units import units\n",
    "import metpy\n",
    "import pint_xarray\n",
    "import altair as alt\n",
    "alt.data_transformers.enable('json')\n",
    "import pytz\n",
    "\n",
    "from sklearn.metrics import r2_score\n",
    "import pandas as pd\n",
    "import numpy as np\n",
    "import datetime as dt"
   ]
  },
  {
   "attachments": {},
   "cell_type": "markdown",
   "metadata": {},
   "source": [
    "# Inputs"
   ]
  },
  {
   "cell_type": "code",
   "execution_count": 52,
   "metadata": {},
   "outputs": [],
   "source": [
    "tidy_df_30Min = pd.read_parquet(\"../sos/tidy_df_30Min_20221130_20230509_noplanar_fit.parquet\")\n",
    "tidy_df_30Min['time'] = pd.to_datetime(tidy_df_30Min['time'])"
   ]
  },
  {
   "cell_type": "code",
   "execution_count": 53,
   "metadata": {},
   "outputs": [
    {
     "name": "stdout",
     "output_type": "stream",
     "text": [
      "c\n",
      "10.0\n",
      "15.0\n",
      "20.0\n",
      "2.0\n",
      "3.0\n",
      "5.0\n"
     ]
    }
   ],
   "source": [
    "obukhov_src = tidy_df_30Min.query(\"measurement == 'Obukhov length'\")\n",
    "\n",
    "for tower in obukhov_src['tower'].unique():\n",
    "    print(tower)\n",
    "    for height in obukhov_src['height'].unique():\n",
    "        print(height)\n",
    "        src = obukhov_src.query(\n",
    "                f\"tower == '{tower}'\"\n",
    "            ).query(\n",
    "                f\"height == {height}\"\n",
    "            )\n",
    "        tidy_df_30Min = SOSTidy.tidy_df_add_variable(\n",
    "            tidy_df_30Min,\n",
    "            src['height'] / src['value'],\n",
    "            f\"stability_function_{height}m_{tower}\",\n",
    "            \"stability function\",\n",
    "            height,\n",
    "            tower\n",
    "        )"
   ]
  },
  {
   "attachments": {},
   "cell_type": "markdown",
   "metadata": {},
   "source": [
    "# Plot stability function distributions"
   ]
  },
  {
   "cell_type": "code",
   "execution_count": null,
   "metadata": {},
   "outputs": [],
   "source": [
    "alt.Chart(tidy_df_30Min.query(\"measurement == 'stability function'\")).mark_boxplot(outliers=False).encode(\n",
    "    alt.X(\"height:O\"),\n",
    "    alt.Y(\"value:Q\").title('stability function')\n",
    ").properties(width = 200, height = 200, title='Without outliers') | \\\n",
    "alt.Chart(tidy_df_30Min.query(\"measurement == 'stability function'\")).mark_boxplot(outliers={'size': 1}).encode(\n",
    "    alt.X(\"height:O\"),\n",
    "    alt.Y(\"value:Q\").title('stability function').scale(domain=[-100,100], clamp=True)\n",
    ").properties(width = 200, height = 200, title='With outliers')"
   ]
  },
  {
   "cell_type": "code",
   "execution_count": null,
   "metadata": {},
   "outputs": [],
   "source": [
    "alt.Chart(tidy_df_30Min.query(\"measurement == 'stability function'\")).mark_line().encode(\n",
    "    alt.X(\"time:T\"),\n",
    "    alt.Y(\"value:Q\").scale(domain=[-100, 100], clamp=True),\n",
    "    alt.Color(\"height:O\").scale(scheme='viridis')\n",
    ").properties(width = 800)"
   ]
  },
  {
   "cell_type": "code",
   "execution_count": null,
   "metadata": {},
   "outputs": [],
   "source": [
    "disdro_daily_max_precip_date_df = pd.read_csv(\"../sos/disdro_daily_max_precip_date_df.csv\")"
   ]
  },
  {
   "attachments": {},
   "cell_type": "markdown",
   "metadata": {},
   "source": [
    "# Season Long"
   ]
  },
  {
   "attachments": {},
   "cell_type": "markdown",
   "metadata": {},
   "source": [
    "## Calculate turbulence statistics"
   ]
  },
  {
   "cell_type": "code",
   "execution_count": 54,
   "metadata": {},
   "outputs": [],
   "source": [
    "tke_vs_wind_speed_src = tidy_df_30Min[\n",
    "    tidy_df_30Min.measurement.isin(['wind speed', 'turbulent kinetic energy', 'richardson number', 'richardson number bulk'])\n",
    "].pivot_table(\n",
    "    index=['time', 'tower', 'height'], \n",
    "    values='value', \n",
    "    columns='measurement'\n",
    ").reset_index()"
   ]
  },
  {
   "cell_type": "code",
   "execution_count": 55,
   "metadata": {},
   "outputs": [],
   "source": [
    "tke_vs_wind_speed_src['Velocity scale'] = tke_vs_wind_speed_src['turbulent kinetic energy']**0.5\n",
    "tke_vs_wind_speed_src['wind speed group'] = pd.cut(tke_vs_wind_speed_src['wind speed'], np.linspace(0, 12, 25, []))\n",
    "tke_vs_wind_speed_src['wind speed group'] = tke_vs_wind_speed_src['wind speed group'].apply(lambda x: 0.5*(x.left + x.right))\n",
    "tke_vs_wind_speed_src = tke_vs_wind_speed_src.query(\"tower == 'c'\")"
   ]
  },
  {
   "cell_type": "code",
   "execution_count": 56,
   "metadata": {},
   "outputs": [
    {
     "data": {
      "text/html": [
       "<div>\n",
       "<style scoped>\n",
       "    .dataframe tbody tr th:only-of-type {\n",
       "        vertical-align: middle;\n",
       "    }\n",
       "\n",
       "    .dataframe tbody tr th {\n",
       "        vertical-align: top;\n",
       "    }\n",
       "\n",
       "    .dataframe thead th {\n",
       "        text-align: right;\n",
       "    }\n",
       "</style>\n",
       "<table border=\"1\" class=\"dataframe\">\n",
       "  <thead>\n",
       "    <tr style=\"text-align: right;\">\n",
       "      <th>measurement</th>\n",
       "      <th>time</th>\n",
       "      <th>tower</th>\n",
       "      <th>height</th>\n",
       "      <th>richardson number</th>\n",
       "      <th>richardson number bulk</th>\n",
       "      <th>turbulent kinetic energy</th>\n",
       "      <th>wind speed</th>\n",
       "      <th>Velocity scale</th>\n",
       "      <th>wind speed group</th>\n",
       "    </tr>\n",
       "  </thead>\n",
       "  <tbody>\n",
       "    <tr>\n",
       "      <th>0</th>\n",
       "      <td>2022-11-29 17:00:00</td>\n",
       "      <td>c</td>\n",
       "      <td>2.0</td>\n",
       "      <td>0.062355</td>\n",
       "      <td>0.476394</td>\n",
       "      <td>0.957351</td>\n",
       "      <td>3.138293</td>\n",
       "      <td>0.978443</td>\n",
       "      <td>3.12</td>\n",
       "    </tr>\n",
       "    <tr>\n",
       "      <th>1</th>\n",
       "      <td>2022-11-29 17:00:00</td>\n",
       "      <td>c</td>\n",
       "      <td>3.0</td>\n",
       "      <td>0.116178</td>\n",
       "      <td>0.648265</td>\n",
       "      <td>0.997178</td>\n",
       "      <td>3.323426</td>\n",
       "      <td>0.998588</td>\n",
       "      <td>3.12</td>\n",
       "    </tr>\n",
       "    <tr>\n",
       "      <th>2</th>\n",
       "      <td>2022-11-29 17:00:00</td>\n",
       "      <td>c</td>\n",
       "      <td>5.0</td>\n",
       "      <td>0.287246</td>\n",
       "      <td>0.946540</td>\n",
       "      <td>1.109119</td>\n",
       "      <td>3.622556</td>\n",
       "      <td>1.053147</td>\n",
       "      <td>3.60</td>\n",
       "    </tr>\n",
       "    <tr>\n",
       "      <th>3</th>\n",
       "      <td>2022-11-29 17:00:00</td>\n",
       "      <td>c</td>\n",
       "      <td>10.0</td>\n",
       "      <td>3.528598</td>\n",
       "      <td>1.824262</td>\n",
       "      <td>1.266228</td>\n",
       "      <td>3.750382</td>\n",
       "      <td>1.125268</td>\n",
       "      <td>3.60</td>\n",
       "    </tr>\n",
       "    <tr>\n",
       "      <th>4</th>\n",
       "      <td>2022-11-29 17:00:00</td>\n",
       "      <td>c</td>\n",
       "      <td>15.0</td>\n",
       "      <td>8.828703</td>\n",
       "      <td>2.534764</td>\n",
       "      <td>1.242489</td>\n",
       "      <td>3.916531</td>\n",
       "      <td>1.114670</td>\n",
       "      <td>4.08</td>\n",
       "    </tr>\n",
       "    <tr>\n",
       "      <th>...</th>\n",
       "      <td>...</td>\n",
       "      <td>...</td>\n",
       "      <td>...</td>\n",
       "      <td>...</td>\n",
       "      <td>...</td>\n",
       "      <td>...</td>\n",
       "      <td>...</td>\n",
       "      <td>...</td>\n",
       "      <td>...</td>\n",
       "    </tr>\n",
       "    <tr>\n",
       "      <th>111003</th>\n",
       "      <td>2023-05-09 17:30:00</td>\n",
       "      <td>c</td>\n",
       "      <td>3.0</td>\n",
       "      <td>0.113530</td>\n",
       "      <td>0.507026</td>\n",
       "      <td>0.469139</td>\n",
       "      <td>3.240431</td>\n",
       "      <td>0.684938</td>\n",
       "      <td>3.12</td>\n",
       "    </tr>\n",
       "    <tr>\n",
       "      <th>111004</th>\n",
       "      <td>2023-05-09 17:30:00</td>\n",
       "      <td>c</td>\n",
       "      <td>5.0</td>\n",
       "      <td>0.337787</td>\n",
       "      <td>0.760848</td>\n",
       "      <td>0.559886</td>\n",
       "      <td>3.576861</td>\n",
       "      <td>0.748255</td>\n",
       "      <td>3.60</td>\n",
       "    </tr>\n",
       "    <tr>\n",
       "      <th>111005</th>\n",
       "      <td>2023-05-09 17:30:00</td>\n",
       "      <td>c</td>\n",
       "      <td>10.0</td>\n",
       "      <td>7.855708</td>\n",
       "      <td>1.470969</td>\n",
       "      <td>0.642527</td>\n",
       "      <td>3.758235</td>\n",
       "      <td>0.801578</td>\n",
       "      <td>3.60</td>\n",
       "    </tr>\n",
       "    <tr>\n",
       "      <th>111006</th>\n",
       "      <td>2023-05-09 17:30:00</td>\n",
       "      <td>c</td>\n",
       "      <td>15.0</td>\n",
       "      <td>8.561049</td>\n",
       "      <td>2.079839</td>\n",
       "      <td>0.731780</td>\n",
       "      <td>3.885932</td>\n",
       "      <td>0.855442</td>\n",
       "      <td>4.08</td>\n",
       "    </tr>\n",
       "    <tr>\n",
       "      <th>111007</th>\n",
       "      <td>2023-05-09 17:30:00</td>\n",
       "      <td>c</td>\n",
       "      <td>20.0</td>\n",
       "      <td>27.370165</td>\n",
       "      <td>2.790589</td>\n",
       "      <td>0.818803</td>\n",
       "      <td>3.941361</td>\n",
       "      <td>0.904877</td>\n",
       "      <td>4.08</td>\n",
       "    </tr>\n",
       "  </tbody>\n",
       "</table>\n",
       "<p>45538 rows × 9 columns</p>\n",
       "</div>"
      ],
      "text/plain": [
       "measurement                time tower  height  richardson number  \\\n",
       "0           2022-11-29 17:00:00     c     2.0           0.062355   \n",
       "1           2022-11-29 17:00:00     c     3.0           0.116178   \n",
       "2           2022-11-29 17:00:00     c     5.0           0.287246   \n",
       "3           2022-11-29 17:00:00     c    10.0           3.528598   \n",
       "4           2022-11-29 17:00:00     c    15.0           8.828703   \n",
       "...                         ...   ...     ...                ...   \n",
       "111003      2023-05-09 17:30:00     c     3.0           0.113530   \n",
       "111004      2023-05-09 17:30:00     c     5.0           0.337787   \n",
       "111005      2023-05-09 17:30:00     c    10.0           7.855708   \n",
       "111006      2023-05-09 17:30:00     c    15.0           8.561049   \n",
       "111007      2023-05-09 17:30:00     c    20.0          27.370165   \n",
       "\n",
       "measurement  richardson number bulk  turbulent kinetic energy  wind speed  \\\n",
       "0                          0.476394                  0.957351    3.138293   \n",
       "1                          0.648265                  0.997178    3.323426   \n",
       "2                          0.946540                  1.109119    3.622556   \n",
       "3                          1.824262                  1.266228    3.750382   \n",
       "4                          2.534764                  1.242489    3.916531   \n",
       "...                             ...                       ...         ...   \n",
       "111003                     0.507026                  0.469139    3.240431   \n",
       "111004                     0.760848                  0.559886    3.576861   \n",
       "111005                     1.470969                  0.642527    3.758235   \n",
       "111006                     2.079839                  0.731780    3.885932   \n",
       "111007                     2.790589                  0.818803    3.941361   \n",
       "\n",
       "measurement  Velocity scale wind speed group  \n",
       "0                  0.978443             3.12  \n",
       "1                  0.998588             3.12  \n",
       "2                  1.053147             3.60  \n",
       "3                  1.125268             3.60  \n",
       "4                  1.114670             4.08  \n",
       "...                     ...              ...  \n",
       "111003             0.684938             3.12  \n",
       "111004             0.748255             3.60  \n",
       "111005             0.801578             3.60  \n",
       "111006             0.855442             4.08  \n",
       "111007             0.904877             4.08  \n",
       "\n",
       "[45538 rows x 9 columns]"
      ]
     },
     "execution_count": 56,
     "metadata": {},
     "output_type": "execute_result"
    }
   ],
   "source": [
    "tke_vs_wind_speed_src"
   ]
  },
  {
   "attachments": {},
   "cell_type": "markdown",
   "metadata": {},
   "source": [
    "## Plot turbulence statistics for the winter season"
   ]
  },
  {
   "cell_type": "code",
   "execution_count": null,
   "metadata": {},
   "outputs": [],
   "source": [
    "alt.Chart(\n",
    "    tke_vs_wind_speed_src\n",
    ").mark_bar().encode(\n",
    "    alt.X(\n",
    "        \"wind speed:Q\", \n",
    "        bin=alt.Bin(maxbins=50), \n",
    "    ),\n",
    "    alt.Y(\"count():Q\")\n",
    ") | \\\n",
    "alt.Chart(\n",
    "    tke_vs_wind_speed_src\n",
    ").transform_filter(\n",
    "    alt.FieldGTEPredicate('richardson number', -2)\n",
    ").transform_filter(\n",
    "    alt.FieldLTEPredicate('richardson number', 10)\n",
    ").mark_bar().encode(\n",
    "    alt.X(\"richardson number:Q\", bin=alt.Bin(maxbins=50)),\n",
    "    # alt.X(\"richardson number:Q\", bin=alt.Bin(maxbins=50), scale=alt.Scale(domain=[-1,3], clamp=True), axis=alt.Axis(values=[-1, 0, 0.25, 1, 3], format='.02f')),\n",
    "    alt.Y(\"count():Q\")\n",
    ")"
   ]
  },
  {
   "cell_type": "code",
   "execution_count": null,
   "metadata": {},
   "outputs": [],
   "source": [
    "bars = alt.Chart(tke_vs_wind_speed_src).mark_errorbar(extent='stdev').encode(\n",
    "    alt.X(\"wind speed group:Q\").title(\"Wind speed (m/s) (binned)\"),\n",
    "    alt.Y(\"Velocity scale:Q\")\n",
    ").properties(width=150, height = 100)\n",
    "\n",
    "points = alt.Chart(tke_vs_wind_speed_src).mark_circle(color='black').encode(\n",
    "    alt.X(\"wind speed group:Q\"),\n",
    "    alt.Y(\"mean(Velocity scale):Q\")\n",
    ")\n",
    "\n",
    "(bars + points).facet('height:O', columns=3)"
   ]
  },
  {
   "cell_type": "code",
   "execution_count": null,
   "metadata": {},
   "outputs": [],
   "source": [
    "alt.Chart(tke_vs_wind_speed_src).mark_line().encode(\n",
    "    alt.X(\"wind speed group:Q\"),\n",
    "    alt.Y(\"mean(Velocity scale):Q\"),\n",
    "    alt.Color(\"height:O\")\n",
    ")"
   ]
  },
  {
   "cell_type": "code",
   "execution_count": null,
   "metadata": {},
   "outputs": [],
   "source": [
    "src = tke_vs_wind_speed_src.copy()\n",
    "src = src[src.height.isin([2,10, 20])]\n",
    "all_data_scaling_chart = alt.Chart(\n",
    "    src\n",
    ").mark_circle(opacity=0.15, size=5).encode(\n",
    "    alt.X(\"wind speed:Q\"),\n",
    "    alt.Y(\"Velocity scale:Q\").title('turbulence intensity')\n",
    ").properties(width=150, height=100).facet(row='height:O')\n",
    "all_data_scaling_chart"
   ]
  },
  {
   "cell_type": "code",
   "execution_count": null,
   "metadata": {},
   "outputs": [],
   "source": [
    "tke_vs_wind_speed_src['threshold'] = tke_vs_wind_speed_src['wind speed'] > 3"
   ]
  },
  {
   "cell_type": "code",
   "execution_count": null,
   "metadata": {},
   "outputs": [],
   "source": [
    "alt.Chart(\n",
    "    tke_vs_wind_speed_src[tke_vs_wind_speed_src['richardson number'] > 0]\n",
    ").transform_filter(\n",
    "    alt.FieldLTPredicate(\"richardson number\", 10)\n",
    ").mark_circle(opacity=0.15, size=5).encode(\n",
    "    alt.X(\"richardson number:Q\", scale=alt.Scale(type='log', domain = [1e-3, 1e1], clamp=True)),\n",
    "    alt.Y(\"Velocity scale:Q\"),\n",
    "    alt.Color(\"threshold:N\")\n",
    ").properties(width=175, height=175).facet('height:O')"
   ]
  },
  {
   "attachments": {},
   "cell_type": "markdown",
   "metadata": {},
   "source": [
    "# Plot: Ri vs Velocity Scale plots for case studies"
   ]
  },
  {
   "cell_type": "code",
   "execution_count": null,
   "metadata": {},
   "outputs": [],
   "source": [
    "src = tke_vs_wind_speed_src.copy().set_index('time').loc['2023-02-19':'2023-02-25']\n",
    "src = src[src['wind speed'] < 10]\n",
    "src = src[src.height.isin([2,10, 20])]\n",
    "all_data_scaling_chart = alt.Chart(\n",
    "    src\n",
    ").transform_filter(\n",
    "    alt.FieldLTPredicate(\"wind speed\", 10)\n",
    ").mark_circle(opacity=0.25, size=8).encode(\n",
    "    alt.X(\"wind speed:Q\"),\n",
    "    alt.Y(\"Velocity scale:Q\", title='turbulence intensity').scale(\n",
    "        domain=[0,4], clamp=True\n",
    "    )\n",
    ").properties(width=150, height=100)\n",
    "all_data_scaling_chart"
   ]
  },
  {
   "cell_type": "code",
   "execution_count": null,
   "metadata": {},
   "outputs": [],
   "source": [
    "src = tke_vs_wind_speed_src.copy().set_index('time').loc['2023-03-16':'2023-03-20']\n",
    "src = src[src['wind speed'] < 10]\n",
    "src = src[src.height.isin([2,10, 20])]\n",
    "all_data_scaling_chart = alt.Chart(\n",
    "    src\n",
    ").transform_filter(\n",
    "    alt.FieldLTPredicate(\"wind speed\", 10)\n",
    ").mark_circle(opacity=0.25, size=8).encode(\n",
    "    alt.X(\"wind speed:Q\"),\n",
    "    alt.Y(\"Velocity scale:Q\", scale=alt.Scale(domain=[0,4], clamp=True), title='turbulence intensity')\n",
    ").properties(width=150, height=100)\n",
    "all_data_scaling_chart\n",
    "\n"
   ]
  },
  {
   "cell_type": "code",
   "execution_count": null,
   "metadata": {},
   "outputs": [],
   "source": [
    "src = tke_vs_wind_speed_src.copy().set_index('time').loc['2023-01-31':'2023-02-05']\n",
    "src = src[src['wind speed'] < 10]\n",
    "src = src[src.height.isin([2,10, 20])]\n",
    "all_data_scaling_chart = alt.Chart(\n",
    "    src\n",
    ").transform_filter(\n",
    "    alt.FieldLTPredicate(\"wind speed\", 10)\n",
    ").mark_circle(opacity=0.25, size=8).encode(\n",
    "    alt.X(\"wind speed:Q\"),\n",
    "    alt.Y(\"Velocity scale:Q\", scale=alt.Scale(domain=[0,4], clamp=True), title='turbulence intensity')\n",
    ").properties(width=150, height=100)\n",
    "all_data_scaling_chart\n",
    "\n"
   ]
  },
  {
   "cell_type": "code",
   "execution_count": null,
   "metadata": {},
   "outputs": [],
   "source": [
    "(\n",
    "    alt.Chart(\n",
    "        tke_vs_wind_speed_src\n",
    "    ).transform_filter(\n",
    "        alt.FieldLTPredicate(\"wind speed\", 10)\n",
    "    ).mark_circle(opacity=0.15).encode(\n",
    "        alt.X(\"wind speed:Q\"),\n",
    "        alt.Y(\"Velocity scale:Q\")\n",
    "    ).properties(width=175, height=175).facet('height:O')\n",
    "    &\n",
    "    alt.Chart(\n",
    "        tke_vs_wind_speed_src.set_index('time').loc['2022-12-17':'2022-12-21']\n",
    "    ).transform_filter(\n",
    "        alt.FieldLTPredicate(\"wind speed\", 10)\n",
    "    ).mark_circle(opacity=0.5).encode(\n",
    "        alt.X(\"wind speed:Q\"),\n",
    "        alt.Y(\"Velocity scale:Q\")\n",
    "    ).properties(width=175, height=175).facet('height:O')\n",
    "    &\n",
    "    alt.Chart(\n",
    "        tke_vs_wind_speed_src.set_index('time').loc['2023-02-19':'2023-02-25']\n",
    "    ).transform_filter(\n",
    "        alt.FieldLTPredicate(\"wind speed\", 10)\n",
    "    ).mark_circle(opacity=0.5).encode(\n",
    "        alt.X(\"wind speed:Q\"),\n",
    "        alt.Y(\"Velocity scale:Q\")\n",
    "    ).properties(width=175, height=175).facet('height:O')\n",
    "    &\n",
    "    alt.Chart(\n",
    "        tke_vs_wind_speed_src.set_index('time').loc['2023-01-31':'2023-02-04']\n",
    "    ).transform_filter(\n",
    "        alt.FieldLTPredicate(\"wind speed\", 10)\n",
    "    ).mark_circle(opacity=0.5).encode(\n",
    "        alt.X(\"wind speed:Q\"),\n",
    "        alt.Y(\"Velocity scale:Q\")\n",
    "    ).properties(width=175, height=175).facet('height:O')\n",
    "    &\n",
    "    alt.Chart(\n",
    "        tke_vs_wind_speed_src.set_index('time').loc['2023-02-04':'2023-02-08']\n",
    "    ).transform_filter(\n",
    "        alt.FieldLTPredicate(\"wind speed\", 10)\n",
    "    ).mark_circle(opacity=0.5).encode(\n",
    "        alt.X(\"wind speed:Q\"),\n",
    "        alt.Y(\"Velocity scale:Q\")\n",
    "    ).properties(width=175, height=175).facet('height:O')\n",
    ").resolve_scale(x='shared', y='shared')"
   ]
  },
  {
   "attachments": {},
   "cell_type": "markdown",
   "metadata": {},
   "source": [
    "# Plot: Turbulence regimes"
   ]
  },
  {
   "cell_type": "code",
   "execution_count": 27,
   "metadata": {},
   "outputs": [
    {
     "data": {
      "application/vnd.vegalite.v5+json": {
       "$schema": "https://vega.github.io/schema/vega-lite/v5.8.0.json",
       "config": {
        "view": {
         "continuousHeight": 300,
         "continuousWidth": 300
        }
       },
       "data": {
        "format": {
         "type": "json"
        },
        "url": "altair-data-59b0cf201dfed1d6665cd68f1b4bb512.json"
       },
       "hconcat": [
        {
         "encoding": {
          "color": {
           "field": "height",
           "scale": {
            "scheme": "turbo"
           },
           "type": "ordinal"
          },
          "x": {
           "field": "wind speed group",
           "type": "quantitative"
          },
          "y": {
           "aggregate": "mean",
           "field": "Velocity scale",
           "type": "quantitative"
          }
         },
         "height": 150,
         "mark": {
          "type": "line"
         },
         "title": "Ri ∈ [-∞, 0)",
         "transform": [
          {
           "filter": {
            "field": "height",
            "oneOf": [
             2,
             3,
             5,
             10,
             15,
             20
            ]
           }
          },
          {
           "filter": {
            "field": "richardson number bulk",
            "lt": 0
           }
          }
         ]
        },
        {
         "encoding": {
          "color": {
           "field": "height",
           "scale": {
            "scheme": "turbo"
           },
           "type": "ordinal"
          },
          "x": {
           "field": "wind speed group",
           "type": "quantitative"
          },
          "y": {
           "aggregate": "mean",
           "field": "Velocity scale",
           "type": "quantitative"
          }
         },
         "height": 150,
         "mark": {
          "type": "line"
         },
         "title": "Ri ∈ [0, 0.25]",
         "transform": [
          {
           "filter": {
            "field": "height",
            "oneOf": [
             2,
             3,
             5,
             10,
             15,
             20
            ]
           }
          },
          {
           "filter": {
            "field": "richardson number bulk",
            "gt": 0
           }
          },
          {
           "filter": {
            "field": "richardson number bulk",
            "lt": 0.25
           }
          }
         ]
        },
        {
         "encoding": {
          "color": {
           "field": "height",
           "scale": {
            "scheme": "turbo"
           },
           "type": "ordinal"
          },
          "x": {
           "field": "wind speed group",
           "type": "quantitative"
          },
          "y": {
           "aggregate": "mean",
           "field": "Velocity scale",
           "type": "quantitative"
          }
         },
         "height": 150,
         "mark": {
          "type": "line"
         },
         "title": "Ri ∈ [0.25, ∞]",
         "transform": [
          {
           "filter": {
            "field": "height",
            "oneOf": [
             2,
             3,
             5,
             10,
             15,
             20
            ]
           }
          },
          {
           "filter": {
            "field": "richardson number bulk",
            "gt": 0.25
           }
          }
         ]
        }
       ]
      },
      "text/plain": [
       "<VegaLite 5 object>\n",
       "\n",
       "If you see this message, it means the renderer has not been properly enabled\n",
       "for the frontend that you are using. For more information, see\n",
       "https://altair-viz.github.io/user_guide/display_frontends.html#troubleshooting\n"
      ]
     },
     "execution_count": 27,
     "metadata": {},
     "output_type": "execute_result"
    }
   ],
   "source": [
    "base = alt.Chart(\n",
    "    tke_vs_wind_speed_src\n",
    ").transform_filter(\n",
    "    alt.FieldOneOfPredicate('height', [2,3, 5,10, 15, 20])\n",
    ").mark_line().encode(\n",
    "    alt.X(\"wind speed group:Q\"),\n",
    "    alt.Y(\"mean(Velocity scale):Q\"),\n",
    "    alt.Color(\n",
    "        \"height:O\", \n",
    "        scale=alt.Scale(scheme='turbo')\n",
    "    )\n",
    ")\n",
    "\n",
    "base.transform_filter(alt.FieldLTPredicate('richardson number bulk', 0)).properties(title='Ri ∈ [-∞, 0)').properties(height=150) |\\\n",
    "base.transform_filter(alt.FieldGTPredicate('richardson number bulk', 0)).transform_filter(alt.FieldLTPredicate('richardson number bulk', 0.25)).properties(title='Ri ∈ [0, 0.25]').properties(height=150) |\\\n",
    "base.transform_filter(alt.FieldGTPredicate('richardson number bulk', 0.25)).properties(title='Ri ∈ [0.25, ∞]').properties(height=150)"
   ]
  },
  {
   "cell_type": "code",
   "execution_count": 29,
   "metadata": {},
   "outputs": [
    {
     "data": {
      "application/vnd.vegalite.v5+json": {
       "$schema": "https://vega.github.io/schema/vega-lite/v5.8.0.json",
       "config": {
        "view": {
         "continuousHeight": 300,
         "continuousWidth": 300
        }
       },
       "data": {
        "format": {
         "type": "json"
        },
        "url": "altair-data-59b0cf201dfed1d6665cd68f1b4bb512.json"
       },
       "hconcat": [
        {
         "encoding": {
          "color": {
           "field": "height",
           "scale": {
            "scheme": "turbo"
           },
           "type": "ordinal"
          },
          "x": {
           "field": "wind speed group",
           "type": "quantitative"
          },
          "y": {
           "aggregate": "mean",
           "field": "Velocity scale",
           "title": "TKE^0.5",
           "type": "quantitative"
          }
         },
         "height": 150,
         "mark": {
          "type": "line"
         },
         "title": "Ri ∈ [-∞, 0)",
         "transform": [
          {
           "filter": {
            "field": "height",
            "oneOf": [
             2,
             3,
             5,
             10,
             15,
             20
            ]
           }
          },
          {
           "filter": {
            "field": "richardson number",
            "lt": 0
           }
          }
         ]
        },
        {
         "encoding": {
          "color": {
           "field": "height",
           "scale": {
            "scheme": "turbo"
           },
           "type": "ordinal"
          },
          "x": {
           "field": "wind speed group",
           "type": "quantitative"
          },
          "y": {
           "aggregate": "mean",
           "field": "Velocity scale",
           "title": "TKE^0.5",
           "type": "quantitative"
          }
         },
         "height": 150,
         "mark": {
          "type": "line"
         },
         "title": "Ri ∈ [0, 0.25]",
         "transform": [
          {
           "filter": {
            "field": "height",
            "oneOf": [
             2,
             3,
             5,
             10,
             15,
             20
            ]
           }
          },
          {
           "filter": {
            "field": "richardson number",
            "gt": 0
           }
          },
          {
           "filter": {
            "field": "richardson number",
            "lt": 0.25
           }
          }
         ]
        },
        {
         "encoding": {
          "color": {
           "field": "height",
           "scale": {
            "scheme": "turbo"
           },
           "type": "ordinal"
          },
          "x": {
           "field": "wind speed group",
           "type": "quantitative"
          },
          "y": {
           "aggregate": "mean",
           "field": "Velocity scale",
           "title": "TKE^0.5",
           "type": "quantitative"
          }
         },
         "height": 150,
         "mark": {
          "type": "line"
         },
         "title": "Ri ∈ [0.25, ∞]",
         "transform": [
          {
           "filter": {
            "field": "height",
            "oneOf": [
             2,
             3,
             5,
             10,
             15,
             20
            ]
           }
          },
          {
           "filter": {
            "field": "richardson number",
            "gt": 0.25
           }
          }
         ]
        }
       ]
      },
      "text/plain": [
       "<VegaLite 5 object>\n",
       "\n",
       "If you see this message, it means the renderer has not been properly enabled\n",
       "for the frontend that you are using. For more information, see\n",
       "https://altair-viz.github.io/user_guide/display_frontends.html#troubleshooting\n"
      ]
     },
     "execution_count": 29,
     "metadata": {},
     "output_type": "execute_result"
    }
   ],
   "source": [
    "base = alt.Chart(\n",
    "    tke_vs_wind_speed_src\n",
    ").transform_filter(\n",
    "    alt.FieldOneOfPredicate('height', [2,3, 5,10, 15, 20])\n",
    ").mark_line().encode(\n",
    "    alt.X(\"wind speed group:Q\"),\n",
    "    alt.Y(\"mean(Velocity scale):Q\", title='TKE^0.5'),\n",
    "    alt.Color(\n",
    "        \"height:O\", \n",
    "        scale=alt.Scale(scheme='turbo')\n",
    "    )\n",
    ")\n",
    "\n",
    "base.transform_filter(alt.FieldLTPredicate('richardson number', 0)).properties(title='Ri ∈ [-∞, 0)').properties(height=150) |\\\n",
    "base.transform_filter(alt.FieldGTPredicate('richardson number', 0)).transform_filter(alt.FieldLTPredicate('richardson number', 0.25)).properties(title='Ri ∈ [0, 0.25]').properties(height=150) |\\\n",
    "base.transform_filter(alt.FieldGTPredicate('richardson number', 0.25)).properties(title='Ri ∈ [0.25, ∞]').properties(height=150)"
   ]
  },
  {
   "cell_type": "code",
   "execution_count": null,
   "metadata": {},
   "outputs": [],
   "source": [
    "bars = alt.Chart(tke_vs_wind_speed_src).mark_errorbar(extent='stdev',  thickness=2, opacity = 0.5).encode(\n",
    "    alt.X(\"wind speed group:Q\").title(\"Wind speed (m/s) (binned)\"),\n",
    "    alt.Y(\"Velocity scale:Q\")\n",
    ")\n",
    "\n",
    "points = alt.Chart(tke_vs_wind_speed_src).mark_circle(size=100, opacity = 0.5).encode(\n",
    "    alt.X(\"wind speed group:Q\"),\n",
    "    alt.Y(\"mean(Velocity scale):Q\")\n",
    ")\n",
    "\n",
    "base = (bars + points).transform_filter(alt.FieldOneOfPredicate('height', [2,5,20])).encode(\n",
    "    alt.Color(\"height:N\")\n",
    ").properties(width=200, height = 150)\n",
    "\n",
    "base.transform_filter(alt.FieldLTPredicate('richardson number', 0)).properties(title='Ri ∈ [-∞, 0)') |\\\n",
    "base.transform_filter(alt.FieldGTPredicate('richardson number', 0)).transform_filter(alt.FieldLTPredicate('richardson number', 0.25)).properties(title='Ri ∈ [0, 0.25]') |\\\n",
    "base.transform_filter(alt.FieldGTPredicate('richardson number', 0.25)).properties(title='Ri ∈ [0.25, ∞]')"
   ]
  },
  {
   "cell_type": "code",
   "execution_count": null,
   "metadata": {},
   "outputs": [],
   "source": [
    "base = alt.Chart(\n",
    "    tke_vs_wind_speed_src\n",
    ").transform_filter(\n",
    "    alt.datum.tower == 'c'\n",
    ").transform_filter(\n",
    "    alt.FieldOneOfPredicate('height', [2, 10, 15, 20])\n",
    ").mark_boxplot(size=10).encode(\n",
    "    # alt.X(\"wind speed group:Q\"),\n",
    "    # alt.Y(\"Velocity scale:Q\"),\n",
    "    # alt.Color(\"height:O\", scale=alt.Scale(scheme='turbo')),\n",
    "    # alt.Facet(\"height:O\")\n",
    "    \n",
    "    alt.X(\"height:O\"),\n",
    "    alt.Y(\"Velocity scale:Q\"),\n",
    "    alt.Color(\"height:O\", scale=alt.Scale(scheme='turbo')),\n",
    "    alt.Facet(\"wind speed group:Q\", spacing=5, title='Wind Speed (binned)')\n",
    ")\n",
    "\n",
    "(\n",
    "    base.transform_filter(alt.FieldLTPredicate('richardson number', 0)).properties(title='Ri ∈ [-∞, 0)').properties(height=150) &\\\n",
    "    base.transform_filter(alt.FieldGTPredicate('richardson number', 0)).transform_filter(alt.FieldLTPredicate('richardson number', 0.25)).properties(title='Ri ∈ [0, 0.25]').properties(height=150) &\\\n",
    "    base.transform_filter(alt.FieldGTPredicate('richardson number', 0.25)).properties(title='Ri ∈ [0.25, ∞]').properties(height=150)\n",
    ").configure_view(\n",
    "    strokeWidth=0\n",
    ")"
   ]
  },
  {
   "attachments": {},
   "cell_type": "markdown",
   "metadata": {},
   "source": [
    "## Plot time series for winter season"
   ]
  },
  {
   "cell_type": "code",
   "execution_count": null,
   "metadata": {},
   "outputs": [],
   "source": [
    "blowing_snow_chart = alt.Chart(tidy_df_30Min).transform_filter(\n",
    "    alt.FieldOneOfPredicate('measurement', ['snow flux'])\n",
    ").mark_line().encode(\n",
    "    alt.X('time:T'),\n",
    "    alt.Y(\"value:Q\", title='Blowing Snow Flux (g/m^2)',\n",
    "          scale=alt.Scale(domain=[0, 4], nice=False, clamp=True)\n",
    "        ),\n",
    "    alt.Color(\"height:N\")\n",
    ").properties(width=1400, height=200) \n",
    "\n",
    "days_since_precip_chart = alt.Chart(disdro_daily_max_precip_date_df).mark_line(color='black', strokeDash=[1,2]).encode(\n",
    "    alt.X('time:T'),\n",
    "    alt.Y(\"days_since_precip:Q\"),\n",
    "    alt.Color(\"variable:N\")\n",
    ").properties(width=1400, height=200)\n",
    "\n",
    "alt.layer(blowing_snow_chart, days_since_precip_chart).resolve_scale(\n",
    "    y = 'independent'\n",
    ")"
   ]
  },
  {
   "cell_type": "code",
   "execution_count": null,
   "metadata": {},
   "outputs": [],
   "source": [
    "print(\"hi\")"
   ]
  },
  {
   "cell_type": "code",
   "execution_count": null,
   "metadata": {},
   "outputs": [],
   "source": [
    "alt.renderers.enable(\"mimetype\")"
   ]
  },
  {
   "cell_type": "code",
   "execution_count": null,
   "metadata": {},
   "outputs": [],
   "source": [
    "alt.Chart(tidy_df_30Min).transform_filter(\n",
    "    alt.FieldOneOfPredicate('measurement', ['cumulative sublimation (mm)'])\n",
    ").mark_line().encode(\n",
    "    alt.X('time:T'),\n",
    "    alt.Y(\"value:Q\", title='Cumulative sublimation (mm)'),\n",
    "    alt.Color(\"height:N\")\n",
    ").properties(width=1000, height=143)"
   ]
  },
  {
   "cell_type": "code",
   "execution_count": 59,
   "metadata": {},
   "outputs": [],
   "source": [
    "tidy_df_30Min['EC system'] = tidy_df_30Min.apply(lambda row: f\"tower {row.tower}, {int(row.height)}m\", axis=1)"
   ]
  },
  {
   "cell_type": "code",
   "execution_count": 60,
   "metadata": {},
   "outputs": [
    {
     "data": {
      "text/plain": [
       "array(['d', 'ue', 'uw', 'c'], dtype=object)"
      ]
     },
     "execution_count": 60,
     "metadata": {},
     "output_type": "execute_result"
    }
   ],
   "source": [
    "tidy_df_30Min.query(\n",
    "    \"measurement == 'cumulative sublimation (mm)'\"\n",
    ").tower.unique()"
   ]
  },
  {
   "cell_type": "code",
   "execution_count": 63,
   "metadata": {},
   "outputs": [
    {
     "data": {
      "application/vnd.vegalite.v5+json": {
       "$schema": "https://vega.github.io/schema/vega-lite/v5.8.0.json",
       "config": {
        "view": {
         "continuousHeight": 300,
         "continuousWidth": 300
        }
       },
       "data": {
        "format": {
         "type": "json"
        },
        "url": "altair-data-cd15734eeb37161989e8c8428117c337.json"
       },
       "encoding": {
        "color": {
         "field": "EC system",
         "type": "nominal"
        },
        "x": {
         "field": "time",
         "type": "temporal"
        },
        "y": {
         "field": "value",
         "scale": {
          "clamp": true,
          "domain": [
           0,
           50
          ]
         },
         "title": "Cumulative sublimation (mm)",
         "type": "quantitative"
        }
       },
       "mark": {
        "type": "line"
       },
       "resolve": {
        "scale": {
         "y": "independent"
        }
       },
       "width": 600
      },
      "text/plain": [
       "<VegaLite 5 object>\n",
       "\n",
       "If you see this message, it means the renderer has not been properly enabled\n",
       "for the frontend that you are using. For more information, see\n",
       "https://altair-viz.github.io/user_guide/display_frontends.html#troubleshooting\n"
      ]
     },
     "execution_count": 63,
     "metadata": {},
     "output_type": "execute_result"
    }
   ],
   "source": [
    "alt.Chart(\n",
    "    tidy_df_30Min.query(\n",
    "        \"measurement == 'cumulative sublimation (mm)'\"\n",
    "    ).query(\n",
    "        \"height > 2\"\n",
    "    )\n",
    ").mark_line().encode(\n",
    "    alt.X('time:T'),\n",
    "    alt.Y(\"value:Q\", title='Cumulative sublimation (mm)').scale(domain=[0,50], clamp=True),\n",
    "    alt.Color(\"EC system:N\")\n",
    ").properties(width=600).resolve_scale(y='independent')"
   ]
  },
  {
   "cell_type": "code",
   "execution_count": null,
   "metadata": {},
   "outputs": [],
   "source": [
    "tidy_df_30Min.measurement.unique()"
   ]
  },
  {
   "cell_type": "code",
   "execution_count": null,
   "metadata": {},
   "outputs": [],
   "source": [
    "(\n",
    "    alt.Chart(tidy_df_30Min).transform_filter(\n",
    "        alt.datum.measurement == 'w_h2o_'\n",
    "    ).transform_filter(\n",
    "        alt.datum.tower == 'ue'\n",
    "    ).transform_window(\n",
    "        rolling_mean = 'mean(value)',\n",
    "        frame=[-12,12],\n",
    "        groupby=['height','tower']\n",
    "    ).mark_line().encode(\n",
    "        alt.X('time:T'),\n",
    "        alt.Y(\"rolling_mean:Q\", title = 'Latent heat flux (g/m^2/s)'),\n",
    "        alt.Color(\"height:O\", scale=alt.Scale(scheme='viridis'))\n",
    "    ).properties(width=1000, height=143).resolve_scale(color='independent') & \\\n",
    "    \\\n",
    "    alt.Chart(tidy_df_30Min).transform_filter(\n",
    "        alt.FieldOneOfPredicate('measurement', ['cumulative sublimation (mm)'])\n",
    "    ).mark_line().encode(\n",
    "        alt.X('time:T'),\n",
    "        alt.Y(\"value:Q\", title='Cumulative sublimation (mm)'),\n",
    "        alt.Color(\"height:N\")\n",
    "    ).properties(width=1000, height=143) & \\\n",
    "    \\\n",
    "    alt.Chart(tidy_df_30Min).transform_filter(\n",
    "        alt.FieldOneOfPredicate('measurement', ['snow flux'])\n",
    "    ).mark_line().encode(\n",
    "        alt.X('time:T'),\n",
    "        alt.Y(\"value:Q\", title='Blowing Snow Flux (g/m^2)',\n",
    "            scale=alt.Scale(domain=[0, 4], nice=False, clamp=True)\n",
    "            ),\n",
    "        alt.Color(\"height:N\")\n",
    "    ).properties(width=1000, height=71) & \\\n",
    "    \\\n",
    "    alt.Chart(disdro_daily_max_precip_date_df).mark_bar().encode(\n",
    "        alt.X(\"time:T\"),\n",
    "        alt.Y(\"daily_precip (cm)\", title='Daily precip (SWE, cm)')\n",
    "    ).properties(width=1000, height=71) & \\\n",
    "    \\\n",
    "    alt.Chart(tidy_df_30Min).transform_filter(\n",
    "        alt.FieldOneOfPredicate('measurement', ['richardson number'])\n",
    "    ).transform_filter(\n",
    "        alt.datum.tower == 'c'\n",
    "    ).transform_filter(\n",
    "        alt.datum.height == 2\n",
    "    ).transform_window(\n",
    "        rolling_mean = 'mean(value)',\n",
    "        frame=[-12,12],\n",
    "        groupby=['height','tower']\n",
    "    ).mark_line().encode(\n",
    "        alt.X('time:T'),\n",
    "        alt.Y(\"rolling_mean:Q\", title='Gradient Ri',\n",
    "            scale=alt.Scale(domain=[0, 0.6], nice=False, clamp=True)\n",
    "            )\n",
    "    ).properties(width=1000, height=71) & \\\n",
    "    \\\n",
    "    alt.Chart(tidy_df_30Min).transform_filter(\n",
    "        alt.datum.variable == 'Rsw_in_9m_d'\n",
    "    ).mark_line().encode(\n",
    "        alt.X('time:T'),\n",
    "        alt.Y(\"value:Q\", title = 'Incoming SW (w/m^2)')\n",
    "    ).properties(width=1000, height=71)\n",
    ").resolve_scale(color='independent', x='shared')"
   ]
  },
  {
   "attachments": {},
   "cell_type": "markdown",
   "metadata": {},
   "source": [
    "# Case Study"
   ]
  },
  {
   "cell_type": "code",
   "execution_count": null,
   "metadata": {},
   "outputs": [],
   "source": [
    "case_study_start_date = 1\n",
    "case_study_end_date = pd.datetime(2023,2,4)"
   ]
  },
  {
   "attachments": {},
   "cell_type": "markdown",
   "metadata": {},
   "source": [
    "## Plot time series"
   ]
  },
  {
   "cell_type": "code",
   "execution_count": null,
   "metadata": {},
   "outputs": [],
   "source": [
    "\n",
    "\n",
    "surf_temp_chart = alt.Chart(src).transform_filter(\n",
    "    alt.FieldOneOfPredicate('variable', ['Tsurf_c', 'Tsurf_d', 'Tsurf_ue', 'Tsurf_uw', 'Tsurf_rad_d'])\n",
    ").transform_window(\n",
    "    rolling_mean = 'mean(value)',\n",
    "    frame = [-6, 6],\n",
    "    groupby = ['variable']\n",
    ").mark_line().encode(\n",
    "    alt.X('time:T'),\n",
    "    alt.Y(\"rolling_mean:Q\", title='Temperature (˚C)'),\n",
    "    alt.Color(\"variable:N\")\n",
    ").properties(width=800, height=143)\n"
   ]
  },
  {
   "cell_type": "code",
   "execution_count": null,
   "metadata": {},
   "outputs": [],
   "source": [
    "case_study_start_date_1 = pd.datetime(2023,2,19)\n",
    "case_study_end_date_1 = pd.datetime(2023,2,23)\n",
    "\n",
    "case_study_start_date_2 = pd.datetime(2023,3,16)\n",
    "case_study_end_date_2 = pd.datetime(2023,3,20)\n",
    "\n",
    "case_study_start_date_3 = pd.datetime(2023,1,31)\n",
    "case_study_end_date_3 = pd.datetime(2023,2,4)\n",
    "\n",
    "case_study_1_src = tidy_df_30Min[tidy_df_30Min['time'] < case_study_end_date_1]\n",
    "case_study_1_src = case_study_1_src[case_study_1_src['time'] >= case_study_start_date_1]\n",
    "case_study_1_src = case_study_1_src.assign(case_study = 1)\n",
    "case_study_1_src['time'] = case_study_1_src['time'] - dt.timedelta(days=49)\n",
    "\n",
    "case_study_2_src = tidy_df_30Min[tidy_df_30Min['time'] < case_study_end_date_2]\n",
    "case_study_2_src = case_study_2_src[case_study_2_src['time'] >= case_study_start_date_2]\n",
    "case_study_2_src = case_study_2_src.assign(case_study = 2)\n",
    "case_study_2_src['time'] = case_study_2_src['time'] - dt.timedelta(days=74)\n",
    "\n",
    "case_study_3_src = tidy_df_30Min[tidy_df_30Min['time'] < case_study_end_date_3]\n",
    "case_study_3_src = case_study_3_src[case_study_3_src['time'] >= case_study_start_date_3]\n",
    "case_study_3_src = case_study_3_src.assign(case_study = 3)\n",
    "case_study_3_src['time'] = case_study_3_src['time'] - dt.timedelta(days=30)\n",
    "\n",
    "case_study_compare_src = pd.concat([case_study_1_src, case_study_2_src, case_study_3_src])\n",
    "\n",
    "(\n",
    "    # CUMULATIVE SUBLIMATION PLOT\n",
    "    alt.Chart(case_study_compare_src).transform_filter(\n",
    "        alt.FieldOneOfPredicate('measurement', ['cumulative sublimation (mm)'])\n",
    "    ).transform_filter(\n",
    "        alt.datum.height == 2\n",
    "    ).mark_line().encode(\n",
    "        alt.X('time:T', axis=alt.Axis(format=\"%d\"), title='time (n days)'),\n",
    "        alt.Y(\"value:Q\", title='Cumulative sublimation (mm)', scale=alt.Scale(zero=False, nice=False)),\n",
    "        alt.Color(\"height:N\")\n",
    "    ).properties(width=400, height=143).facet(column='case_study:O') &\n",
    "    # LATENT HEAT FLUX PLOT\n",
    "    alt.Chart(case_study_compare_src).transform_filter(\n",
    "        alt.datum.variable == \"w_h2o__2m_c\"\n",
    "    ).transform_filter(\n",
    "        alt.datum.tower == 'c'\n",
    "    ).transform_window(\n",
    "        rolling_mean = 'mean(value)',\n",
    "        frame= [-6, 6],\n",
    "        groupby = [\"height\"]\n",
    "    ).mark_line().encode(\n",
    "        alt.X('time:T', axis=alt.Axis(format=\"%d\"), title='time (n days)'),\n",
    "        alt.Y(\"rolling_mean:Q\", title = 'Latent heat flux (g/m^2/s)'),\n",
    "        alt.Color(\"height:N\")\n",
    "    ).properties(width=400, height=143).facet(column='case_study:O') & \n",
    "    # Richardson number plot\n",
    "    alt.Chart(case_study_compare_src).transform_filter(\n",
    "        alt.FieldOneOfPredicate('variable', ['Ri_2m_c'])\n",
    "    ).transform_window(\n",
    "        rolling_avg = 'mean(value)',\n",
    "        frame=[-3,3],\n",
    "        groupby = [\"case_study\"]\n",
    "    ).mark_line().encode(\n",
    "        alt.X('time:T', axis=alt.Axis(format=\"%d\"), title='time (n days)'),\n",
    "        alt.Y(\"rolling_avg:Q\", title='Ri'),\n",
    "    ).properties(width=400, height=143).facet(column='case_study:O') &\n",
    "    # Surface and Air Temp Plot\n",
    "    alt.Chart(case_study_compare_src).transform_filter(\n",
    "        alt.FieldOneOfPredicate('variable', ['T_2m_c', 'Tsurf_rad_d'])\n",
    "    ).mark_line().encode(\n",
    "        alt.X('time:T', axis=alt.Axis(format=\"%d\"), title='time (n days)'),\n",
    "        alt.Y(\"value:Q\", title=\"Temperature (˚C)\"),\n",
    "        alt.StrokeDash(\"measurement:N\")\n",
    "    ).properties(width=400, height=143).facet(column='case_study:O')\n",
    ")"
   ]
  },
  {
   "cell_type": "code",
   "execution_count": null,
   "metadata": {},
   "outputs": [],
   "source": [
    "src = tidy_df_30Min[tidy_df_30Min['time'] < case_study_end_date]\n",
    "src = src[src['time'] >= case_study_start_date]\n",
    "wind_speed_chart = alt.Chart(src).transform_filter(\n",
    "    alt.FieldOneOfPredicate('variable', ['spd_2m_c', 'spd_10m_c', 'spd_20m_c'])\n",
    ").mark_line().encode(\n",
    "    alt.X('time:T'),\n",
    "    alt.Y(\"value:Q\", title='Wind Speed (m/s)'),\n",
    "    alt.Color(\"height:N\")\n",
    ").properties(width=800, height=71)\n",
    "\n",
    "tke_chart = alt.Chart(src).transform_filter(\n",
    "    alt.FieldOneOfPredicate('variable', ['tke_2m_c', 'tke_10m_c', 'tke_20m_c'])\n",
    ").mark_line().encode(\n",
    "    alt.X('time:T'),\n",
    "    alt.Y(\"value:Q\", title='TKE', scale=alt.Scale(type='log')),\n",
    "    alt.Color(\"height:N\")\n",
    ").properties(width=800, height=71)\n",
    "\n",
    "ri_plot = alt.Chart(src).transform_filter(\n",
    "    alt.FieldOneOfPredicate('variable', ['Ri_2m_c', 'Ri_2m_c_Tsurf_rad_d'])\n",
    ").mark_line().encode(\n",
    "    alt.X('time:T'),\n",
    "    alt.Y(\"value:Q\", title='Ri', scale=alt.Scale()),\n",
    "    alt.Color(\"variable:N\")\n",
    ").properties(width=800, height=71)\n",
    "\n",
    "surf_temp_chart = alt.Chart(src).transform_filter(\n",
    "    alt.FieldOneOfPredicate('variable', ['Tsurf_c', 'Tsurf_d', 'Tsurf_ue', 'Tsurf_uw', 'Tsurf_rad_d'])\n",
    ").transform_window(\n",
    "    rolling_mean = 'mean(value)',\n",
    "    frame = [-6, 6],\n",
    "    groupby = ['variable']\n",
    ").mark_line().encode(\n",
    "    alt.X('time:T'),\n",
    "    alt.Y(\"rolling_mean:Q\", title='Temperature (˚C)'),\n",
    "    alt.Color(\"variable:N\")\n",
    ").properties(width=800, height=143)\n",
    "\n",
    "air_temp_chart = alt.Chart(src).transform_filter(\n",
    "    alt.FieldOneOfPredicate('variable', ['T_2m_c'])\n",
    ").transform_window(\n",
    "    rolling_mean = 'mean(value)',\n",
    "    frame = [-6, 6],\n",
    "    groupby = ['variable']\n",
    ").mark_line(color='black', strokeDash=[5,5]).encode(\n",
    "    alt.X('time:T'),\n",
    "    alt.Y(\"rolling_mean:Q\", title='Temperature (˚C)'),\n",
    ").properties(width=800, height=143)\n",
    "\n",
    "measured_lh_flux_plot = alt.Chart(src).transform_filter(\n",
    "    alt.datum.variable == 'w_h2o__2m_c'\n",
    ").mark_point(color='black', size=10).encode(\n",
    "    alt.X(\"time:T\"),\n",
    "    alt.Y(\"value:Q\", title = 'Latent heat flux (g/m^2/s)', scale=alt.Scale())\n",
    ").properties(width=800, height=143)\n",
    "\n",
    "predicted_lh_flux_plot = alt.Chart(src).transform_filter(\n",
    "    alt.FieldOneOfPredicate('variable', ['w_h20_modeled_MO_HdB_2m_c', 'w_h20_modeled_MO_HdB_2m_c_Tsurf_rad_d'])\n",
    ").mark_line().encode(\n",
    "    alt.X('time:T'),\n",
    "    alt.Y(\"value:Q\"),\n",
    "    alt.Color(\"measurement:N\")\n",
    ").properties(width=800, height=143)\n",
    "\n",
    "snow_flux_chart = alt.Chart(src).transform_filter(\n",
    "    alt.FieldOneOfPredicate('measurement', ['snow flux'])\n",
    ").mark_line().encode(\n",
    "    alt.X('time:T'),\n",
    "    alt.Y(\"value:Q\", title='Blowing Snow Flux (g/m^2)'),\n",
    "    alt.Color(\"height:N\")\n",
    ").properties(width=800, height=71)\n",
    "\n",
    "(wind_speed_chart & tke_chart & ri_plot & (surf_temp_chart + air_temp_chart) & (predicted_lh_flux_plot + measured_lh_flux_plot) & snow_flux_chart).resolve_scale(\n",
    "    color='independent'\n",
    ").configure_legend(\n",
    "    labelLimit = 0\n",
    ")"
   ]
  },
  {
   "attachments": {},
   "cell_type": "markdown",
   "metadata": {},
   "source": [
    "# Plot M.O.S.T model results"
   ]
  },
  {
   "cell_type": "code",
   "execution_count": null,
   "metadata": {},
   "outputs": [],
   "source": [
    "wide_df = tidy_df_30Min.pivot_table(\n",
    "    index=['time'],\n",
    "    columns=\"variable\",\n",
    "    values='value'\n",
    ")[[\n",
    "    'w_h2o__2m_c',\n",
    "\n",
    "    'w_h20_modeled_Standard_2m_c',\n",
    "    'w_h20_modeled_MO_HdB_2m_c',\n",
    "    \n",
    "    'Ri_2m_c',\n",
    "    'SF_avg_1m_ue',\n",
    "    'SF_avg_2m_ue',\n",
    "\n",
    "    'spd_2m_c',\n",
    "    'dir_2m_c',\n",
    "    'u_2m_c',\n",
    "    'v_2m_c',\n",
    "    'w_2m_c',\n",
    "    'u_w__2m_c',\n",
    "    'v_w__2m_c',\n",
    "    'u_tc__2m_c',\n",
    "    'v_tc__2m_c',\n",
    "    'u_h2o__2m_c',\n",
    "    'v_h2o__2m_c',\n",
    "    'w_tc__2m_c',\n",
    "    'tc_2m_c',\n",
    "    'T_2m_c', \n",
    "    'RH_2m_c'\n",
    "]]"
   ]
  },
  {
   "cell_type": "code",
   "execution_count": null,
   "metadata": {},
   "outputs": [],
   "source": [
    "wide_df['Holtslag/de Bruin residual'] = wide_df['w_h20_modeled_MO_HdB_2m_c'] - wide_df['w_h2o__2m_c']\n",
    "wide_df['Standard residual'] =  wide_df['w_h20_modeled_Standard_2m_c'] - wide_df['w_h2o__2m_c']\n",
    "\n",
    "wide_df['Holtslag/de Bruin residual normalized'] = wide_df['Holtslag/de Bruin residual'] / wide_df['w_h2o__2m_c']\n",
    "wide_df['Standard residual normalized'] = wide_df['Standard residual'] / wide_df['w_h2o__2m_c']"
   ]
  },
  {
   "cell_type": "code",
   "execution_count": null,
   "metadata": {},
   "outputs": [],
   "source": [
    "wide_df.to_csv(\"monin_obukhov_with_turbpy_seasonlong.csv\")"
   ]
  },
  {
   "cell_type": "code",
   "execution_count": null,
   "metadata": {},
   "outputs": [],
   "source": [
    "wide_df = pd.read_csv(\"monin_obukhov_with_turbpy_seasonlong.csv\")"
   ]
  },
  {
   "cell_type": "code",
   "execution_count": null,
   "metadata": {},
   "outputs": [],
   "source": [
    "fig, axes = plt.subplots(1,2, figsize =(10,5))\n",
    "\n",
    "axes[0].scatter(\n",
    "    wide_df['w_h2o__2m_c'],\n",
    "    wide_df['w_h20_modeled_Standard_2m_c'],\n",
    "    s=1,\n",
    "    alpha=0.1\n",
    ")\n",
    "axes[0].set_title(\"All Data\\nStandard bulk aerodynamic method\")\n",
    "\n",
    "axes[1].scatter(\n",
    "    wide_df['w_h2o__2m_c'],\n",
    "    wide_df['w_h20_modeled_Standard_2m_c'],\n",
    "    s=1,\n",
    "    alpha=0.1\n",
    ")\n",
    "axes[1].set_title(\"All Data\\nHoltslag and de Bruin method for snow and ice\")\n",
    "\n",
    "for ax in axes:\n",
    "    ax.set_xlim(-0.005, 0.025)\n",
    "    ax.set_ylim(-0.005, 0.025)\n",
    "    ax.set_xlabel(\"Measured Vertical Moisture Flux (g/m²/s)\")\n",
    "    ax.set_ylabel(\"Predicted Vertical Moisture Flux (g/m²/s)\")\n",
    "    # ax.set_aspect(\"equal\")\n",
    "\n",
    "plt.tight_layout()"
   ]
  },
  {
   "attachments": {},
   "cell_type": "markdown",
   "metadata": {},
   "source": [
    "# Examine multiple explanatory variables"
   ]
  },
  {
   "cell_type": "code",
   "execution_count": null,
   "metadata": {},
   "outputs": [],
   "source": [
    "fig, axes = plt.subplots(2,5, figsize =(30,10))\n",
    "\n",
    "sns.scatterplot(x=wide_df['Ri_2m_c'],       y=wide_df['Holtslag/de Bruin residual'], s=15, alpha=0.10, ax=axes[0,0])\n",
    "sns.scatterplot(x=wide_df['SF_avg_1m_ue'],  y=wide_df['Holtslag/de Bruin residual'], s=50, alpha=0.10, ax=axes[0,1])\n",
    "sns.scatterplot(x=wide_df['SF_avg_2m_ue'],  y=wide_df['Holtslag/de Bruin residual'], s=50, alpha=0.10, ax=axes[0,2])\n",
    "sns.scatterplot(x=wide_df['spd_2m_c'],      y=wide_df['Holtslag/de Bruin residual'], s=15, alpha=0.10, ax=axes[0,3])\n",
    "sns.scatterplot(x=wide_df['dir_2m_c'],      y=wide_df['Holtslag/de Bruin residual'], s=15, alpha=0.10, ax=axes[0,4])\n",
    "\n",
    "sns.scatterplot(x=wide_df['w_2m_c'],        y=wide_df['Holtslag/de Bruin residual'], s=15, alpha=0.10, ax=axes[1,0])\n",
    "sns.scatterplot(x=wide_df['w_tc__2m_c'],    y=wide_df['Holtslag/de Bruin residual'], s=15, alpha=0.10, ax=axes[1,1])\n",
    "sns.scatterplot(x=wide_df['tc_2m_c'],       y=wide_df['Holtslag/de Bruin residual'], s=15, alpha=0.10, ax=axes[1,2])\n",
    "sns.scatterplot(x=wide_df['T_2m_c'],        y=wide_df['Holtslag/de Bruin residual'], s=15, alpha=0.10, ax=axes[1,3])\n",
    "sns.scatterplot(x=wide_df['RH_2m_c'],       y=wide_df['Holtslag/de Bruin residual'], s=15, alpha=0.10, ax=axes[1,4])\n",
    "\n",
    "for ax in axes.flatten():\n",
    "    ax.set_ylim(-0.01, 0.01)\n",
    "    ax.axhline(y = 0.0, color = 'k')\n",
    "\n",
    "# axes[0,0].set_xlim(-0.5, 0.10)\n",
    "# axes[0,1].set_xlim(0, 0.25)\n",
    "# axes[0,2].set_xlim(0, 0.25)\n",
    "# axes[0,3].set_xlim(0, 10)\n",
    "# axes[0,4].set_xlim(0, 360)\n",
    "# axes[1,1].set_xlim(-0.2, 0.1)\n",
    "\n",
    "# sns.scatterplot(wide_df['u_2m_c'], wide_df['Holtslag/de Bruin residual'], s=1, alpha=0.1, ax=axes[0])\n",
    "# sns.scatterplot(wide_df['v_2m_c'], wide_df['Holtslag/de Bruin residual'], s=1, alpha=0.1, ax=axes[0])\n",
    "# sns.scatterplot(wide_df['u_w__2m_c'], wide_df['Holtslag/de Bruin residual'], s=1, alpha=0.1, ax=axes[0])\n",
    "# sns.scatterplot(wide_df['v_w__2m_c'], wide_df['Holtslag/de Bruin residual'], s=1, alpha=0.1, ax=axes[0])\n",
    "# sns.scatterplot(wide_df['u_tc__2m_c'], wide_df['Holtslag/de Bruin residual'], s=1, alpha=0.1, ax=axes[0])\n",
    "# sns.scatterplot(wide_df['v_tc__2m_c'], wide_df['Holtslag/de Bruin residual'], s=1, alpha=0.1, ax=axes[0])\n",
    "# sns.scatterplot(wide_df['u_h2o__2m_c'], wide_df['Holtslag/de Bruin residual'], s=1, alpha=0.1, ax=axes[0])\n",
    "# sns.scatterplot(wide_df['v_h2o__2m_c'], wide_df['Holtslag/de Bruin residual'], s=1, alpha=0.1, ax=axes[0])\n",
    "\n",
    "plt.tight_layout()"
   ]
  },
  {
   "attachments": {},
   "cell_type": "markdown",
   "metadata": {},
   "source": [
    "# Exclude outliers for richardson number residual comparison"
   ]
  },
  {
   "cell_type": "code",
   "execution_count": null,
   "metadata": {},
   "outputs": [],
   "source": [
    "ri_IQR = np.percentile(wide_df['Ri_2m_c'], 75) - np.percentile(wide_df['Ri_2m_c'], 25)\n",
    "ri_max = np.percentile(wide_df['Ri_2m_c'], 75) + 1.5*ri_IQR\n",
    "ri_min = np.percentile(wide_df['Ri_2m_c'], 75) - 1.5*ri_IQR"
   ]
  },
  {
   "cell_type": "code",
   "execution_count": null,
   "metadata": {},
   "outputs": [],
   "source": [
    "len(wide_df), len(wide_df.query(f\"Ri_2m_c > {ri_min}\").query(f\"Ri_2m_c < {ri_max}\"))"
   ]
  },
  {
   "cell_type": "code",
   "execution_count": null,
   "metadata": {},
   "outputs": [],
   "source": [
    "residual_IQR = np.nanpercentile(wide_df['Holtslag/de Bruin residual'], 75) - np.nanpercentile(wide_df['Holtslag/de Bruin residual'], 25)\n",
    "residual_max = np.nanpercentile(wide_df['Holtslag/de Bruin residual'], 75) + 1.5*residual_IQR\n",
    "residual_min = np.nanpercentile(wide_df['Holtslag/de Bruin residual'], 75) - 1.5*residual_IQR"
   ]
  },
  {
   "cell_type": "code",
   "execution_count": null,
   "metadata": {},
   "outputs": [],
   "source": [
    "len(wide_df), len(wide_df[(wide_df[\"Holtslag/de Bruin residual\"] > residual_min) & (wide_df[\"Holtslag/de Bruin residual\"] < residual_max)])"
   ]
  },
  {
   "cell_type": "code",
   "execution_count": null,
   "metadata": {},
   "outputs": [],
   "source": [
    "src = wide_df.query(f\"Ri_2m_c > {ri_min}\").query(f\"Ri_2m_c < {ri_max}\")\n",
    "src = src[(src[\"Holtslag/de Bruin residual\"] > residual_min) & (src[\"Holtslag/de Bruin residual\"] < residual_max)]\n",
    "\n",
    "g = sns.JointGrid(data = src, x='Ri_2m_c',       y='Holtslag/de Bruin residual', \n",
    "                #   cbar=True, binwidth=(0.01, 0.00025)\n",
    "                )\n",
    "g.plot_joint(sns.histplot)\n",
    "g.plot_marginals(sns.kdeplot)\n",
    "# plt.gca().set_xlim(-0.5, 0.10)\n",
    "# plt.gca().set_ylim(-0.01, 0.01)"
   ]
  },
  {
   "cell_type": "code",
   "execution_count": null,
   "metadata": {},
   "outputs": [],
   "source": []
  }
 ],
 "metadata": {
  "kernelspec": {
   "display_name": "arm",
   "language": "python",
   "name": "python3"
  },
  "language_info": {
   "codemirror_mode": {
    "name": "ipython",
    "version": 3
   },
   "file_extension": ".py",
   "mimetype": "text/x-python",
   "name": "python",
   "nbconvert_exporter": "python",
   "pygments_lexer": "ipython3",
   "version": "3.11.0"
  },
  "orig_nbformat": 4,
  "vscode": {
   "interpreter": {
    "hash": "e2b11a00ad1b97cabcd9cc9209b8824a0fcaf6ffe37b5243943912873b5dcab1"
   }
  }
 },
 "nbformat": 4,
 "nbformat_minor": 2
}
