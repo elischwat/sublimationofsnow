{
 "cells": [
  {
   "cell_type": "markdown",
   "metadata": {},
   "source": [
    "This notebook looks at how different saturation vapor pressure curves vary over the range of Kettle Ponds winter temperatures and the implications of that variation. We use SoS 5 and 30min tidy datasets.\n",
    "\n",
    "In order, we\n",
    "1. Define some saturation vapor pressure functions from the literature,\n",
    "2. Calculate measured water vapor pressure from measured mixing ratio and atmopsheric pressure (adjusted for instrument height)\n",
    "3. Analyze the sensitivity of water vapor pressure/specific humidity gradients to 1. choice of saturation vapor pressure curve and 2. choice of surface temperature measurement ()\n",
    "4. Estimate surface temperature as 2 and/or 3-meter depoint temperature, see how well it does, and analyze sensitivity of water vapor pressure/specific humidity gradient \n",
    "5. Compare surface temperature measurements and the differences between them (i.e. apogee on tower c vs tower d , apogee on tower d to radiometer on tower d)"
   ]
  },
  {
   "cell_type": "code",
   "execution_count": 1,
   "metadata": {},
   "outputs": [],
   "source": [
    "import os\n",
    "import glob\n",
    "\n",
    "import numpy as np\n",
    "import scipy.stats\n",
    "import pandas as pd\n",
    "import pytz\n",
    "import xarray as xr\n",
    "\n",
    "import act\n",
    "from sublimpy import utils\n",
    "from sublimpy import tidy\n",
    "\n",
    "import matplotlib.pyplot as plt\n",
    "import altair as alt\n",
    "alt.data_transformers.enable('json')\n",
    "alt.renderers.enable('jupyterlab')\n",
    "\n",
    "import datetime as dt\n",
    "\n",
    "import seaborn as sns\n",
    "from metpy.calc import saturation_vapor_pressure\n",
    "from metpy.units import units"
   ]
  },
  {
   "cell_type": "markdown",
   "metadata": {},
   "source": [
    "# Prerequisite files"
   ]
  },
  {
   "cell_type": "markdown",
   "metadata": {},
   "source": [
    "\n",
    "* use script `analysis/sail/lidar_wind_profile_synoptic_wind_coherence.py` to download synoptic wind data\n",
    "* use `cumulative_sublimation.ipynb` to create daily dataset\n",
    "* use `analysis/sos/create_turbulence_dataset.ipynb` to create SoS tidy dataset and the (disdrometer) precip data"
   ]
  },
  {
   "cell_type": "code",
   "execution_count": 2,
   "metadata": {},
   "outputs": [],
   "source": [
    "# Inputs\n",
    "start_date = '20221130'\n",
    "end_date = '20230509'\n",
    "met_gothic = 'gucmetM1.b1'\n",
    "tsi_sail_code = 'guctsiskycoverM1.b1'\n",
    "data_dir = '/data2/elilouis/sublimationofsnow'\n",
    "username = os.getenv(\"ARM_USERNAME\")\n",
    "token = os.getenv(\"ARM_TOKEN\")"
   ]
  },
  {
   "cell_type": "markdown",
   "metadata": {},
   "source": [
    "# Open Data "
   ]
  },
  {
   "cell_type": "markdown",
   "metadata": {},
   "source": [
    "#### SoS"
   ]
  },
  {
   "cell_type": "code",
   "execution_count": 3,
   "metadata": {},
   "outputs": [],
   "source": [
    "try:\n",
    "    tidy_df_30Min = pd.read_parquet(f\"tidy_df_30Min_{start_date}_{end_date}_noplanar_fit.parquet\")\n",
    "except FileNotFoundError:\n",
    "    print(\"No file such file exists for these dates.\")\n",
    "\n",
    "try:\n",
    "    tidy_df_5Min = pd.read_parquet(f\"tidy_df_{start_date}_{end_date}_noplanar_fit.parquet\")\n",
    "except FileNotFoundError:\n",
    "    print(\"No file such file exists for these dates.\")\n",
    "    \n",
    "tidy_df_5Min['time'] = pd.to_datetime(tidy_df_5Min['time'])\n",
    "tidy_df_30Min['time'] = pd.to_datetime(tidy_df_30Min['time'])\n"
   ]
  },
  {
   "cell_type": "code",
   "execution_count": 10,
   "metadata": {},
   "outputs": [
    {
     "data": {
      "application/vnd.vegalite.v5+json": {
       "$schema": "https://vega.github.io/schema/vega-lite/v5.16.3.json",
       "config": {
        "view": {
         "continuousHeight": 300,
         "continuousWidth": 300
        }
       },
       "hconcat": [
        {
         "data": {
          "format": {
           "type": "json"
          },
          "url": "altair-data-9748c0b1c003d7e6189aa871df16be14.json"
         },
         "encoding": {
          "color": {
           "field": "height",
           "type": "ordinal"
          },
          "x": {
           "field": "time",
           "type": "temporal"
          },
          "y": {
           "field": "value",
           "title": "Wind speed (m/s)",
           "type": "quantitative"
          }
         },
         "mark": {
          "type": "line"
         },
         "title": "5 minute averages"
        },
        {
         "data": {
          "format": {
           "type": "json"
          },
          "url": "altair-data-2824d067fba511a79317a71fd51455be.json"
         },
         "encoding": {
          "color": {
           "field": "height",
           "type": "ordinal"
          },
          "x": {
           "field": "time",
           "type": "temporal"
          },
          "y": {
           "field": "value",
           "title": "Wind speed (m/s)",
           "type": "quantitative"
          }
         },
         "mark": {
          "type": "line"
         },
         "title": "30 minute averages"
        }
       ]
      },
      "text/plain": [
       "<VegaLite 5 object>\n",
       "\n",
       "If you see this message, it means the renderer has not been properly enabled\n",
       "for the frontend that you are using. For more information, see\n",
       "https://altair-viz.github.io/user_guide/display_frontends.html#troubleshooting\n"
      ]
     },
     "execution_count": 10,
     "metadata": {},
     "output_type": "execute_result"
    }
   ],
   "source": [
    "alt.Chart(\n",
    "    tidy_df_5Min.query(\"measurement=='wind speed'\").query(\n",
    "        \"tower == 'c'\"\n",
    "    ).set_index('time').sort_index().loc[\n",
    "        '20221221': '20221223'\n",
    "    ].reset_index()\n",
    ").mark_line().encode(\n",
    "    alt.X(\"time:T\"),\n",
    "    alt.Y(\"value:Q\").title(\"Wind speed (m/s)\"),\n",
    "    alt.Color(\"height:O\")\n",
    ").properties(title='5 minute averages') | alt.Chart(\n",
    "    tidy_df_30Min.query(\"measurement=='wind speed'\").query(\n",
    "        \"tower == 'c'\"\n",
    "    ).set_index('time').sort_index().loc[\n",
    "        '20221221': '20221223'\n",
    "    ].reset_index()\n",
    ").mark_line().encode(\n",
    "    alt.X(\"time:T\"),\n",
    "    alt.Y(\"value:Q\").title(\"Wind speed (m/s)\"),\n",
    "    alt.Color(\"height:O\")\n",
    ").properties(title='30 minute averages')"
   ]
  },
  {
   "cell_type": "markdown",
   "metadata": {},
   "source": [
    "# Define saturation vapor pressure functions"
   ]
  },
  {
   "cell_type": "markdown",
   "metadata": {},
   "source": [
    "Calculate saturation vapour pressure at the surface using our surface temperatures measurements.\n",
    "\n",
    "1. Feld, S. I., Cristea, N. C. & Lundquist, J. D. Representing atmospheric moisture content along mountain slopes: Examination using distributed sensors in the Sierra Nevada, California. Water Resour. Res. 49, 4424–4441 (2013). (Equation A2)\n",
    "\n",
    "Reportedly the \"Magnus-Tetens formula\", citing [Murray, 1967] with empirically updated coefficients [Alduchov and Eskridge, 1996]. \"The formula... was found to err less than 0.4% for the temperature range of \u000340\u000eC–50\u000eC[Lawrence, 2005]:\"\n",
    "\n",
    "2. Teten's equation according to wikipedia, one for water and one for ice (https://en.wikipedia.org/wiki/Tetens_equation).\n",
    "\n",
    "3. MetPy's equation, for which they cite a [Bolton, 1980] (https://unidata.github.io/MetPy/latest/api/generated/metpy.calc.saturation_vapor_pressure.html)."
   ]
  },
  {
   "cell_type": "code",
   "execution_count": 11,
   "metadata": {},
   "outputs": [],
   "source": [
    "# 1 \n",
    "# returns in Pascals\n",
    "# equation 21 in https://journals.ametsoc.org/view/journals/apme/35/4/1520-0450_1996_035_0601_imfaos_2_0_co_2.xml?tab_body=pdf\n",
    "# or equation A2 in http://doi.wiley.com/10.1002/wrcr.20318\n",
    "# \"To calculate the saturation vapor pressure of pure water vapor over a plane surface of water for the temperature range of -40 to 50˚C\"\n",
    "def e_sat_feld(temp_in_c):\n",
    "    return 610.94*np.exp(17.625*temp_in_c / (243.04 + temp_in_c))\n",
    "\n",
    "# 2\n",
    "# returns in Pascals\n",
    "def e_sat_wiki(temp_in_c):\n",
    "    kilopascals = None\n",
    "    if temp_in_c <= 0:\n",
    "        kilopascals = 0.61078*np.exp(17.27*temp_in_c / (237.3 + temp_in_c))    \n",
    "    else:\n",
    "        kilopascals = 0.61078*np.exp(21.875*temp_in_c / (265.5 + temp_in_c))    \n",
    "    return kilopascals*1000\n",
    "\n",
    "# 3\n",
    "# returns in Pascals\n",
    "def e_sat_metpy(temp_in_c):\n",
    "    millibars = 6.112*np.exp(17.67*temp_in_c / (243.5 + temp_in_c))\n",
    "    return millibars*100\n",
    "\n",
    "# 4\n",
    "# returns in Pascals\n",
    "# equation 23 in https://journals.ametsoc.org/view/journals/apme/35/4/1520-0450_1996_035_0601_imfaos_2_0_co_2.xml?tab_body=pdf\n",
    "# For saturation vapor pressure over a plane surface of ice (-80˚C - 0.0\n",
    "def e_sat_alduchov(temp_in_c):\n",
    "    millibars = 6.1121*np.exp(22.587*temp_in_c / (273.86 + temp_in_c))\n",
    "    return millibars*100\n",
    "\n",
    "def e_sat_turbpy(temp_in_c):\n",
    "    X1 = 17.27\n",
    "    X2 = 237.30\n",
    "    # Saturation water vapour pressure at 273.16K (Pa)\n",
    "    SATVPFRZ = 610.8\n",
    "    # Saturated Vapour Press (Pa)\n",
    "    return SATVPFRZ * np.exp((X1 * temp_in_c) / (X2 + temp_in_c))"
   ]
  },
  {
   "cell_type": "code",
   "execution_count": 12,
   "metadata": {},
   "outputs": [],
   "source": [
    "df = pd.DataFrame({'temperature': np.linspace(-40, 40, 81)})\n",
    "df['e_sat_feld'] = df['temperature'].apply(e_sat_feld)\n",
    "df['e_sat_wiki'] = df['temperature'].apply(e_sat_wiki)\n",
    "df['e_sat_metpy'] = df['temperature'].apply(lambda t_in_c:\n",
    "    saturation_vapor_pressure(t_in_c*units(\"degC\")).magnitude      \n",
    ")                         \n",
    "df['e_sat_alduchov'] = df['temperature'].apply(e_sat_alduchov)\n",
    "df['e_sat_turbpy'] = df['temperature'].apply(e_sat_turbpy)"
   ]
  },
  {
   "cell_type": "code",
   "execution_count": 16,
   "metadata": {},
   "outputs": [
    {
     "name": "stderr",
     "output_type": "stream",
     "text": [
      "/tmp/ipykernel_21422/2525537962.py:1: FutureWarning: The behavior of obj[i:j] with a float-dtype index is deprecated. In a future version, this will be treated as positional instead of label-based. For label-based slicing, use obj.loc[i:j] instead\n",
      "  df[['e_sat_metpy', 'e_sat_feld', 'e_sat_alduchov', 'temperature']].set_index(\"temperature\")[-30:5].plot()\n"
     ]
    },
    {
     "data": {
      "text/plain": [
       "<Axes: xlabel='temperature'>"
      ]
     },
     "execution_count": 16,
     "metadata": {},
     "output_type": "execute_result"
    },
    {
     "data": {
      "image/png": "[encoded data removed]",
      "text/plain": [
       "<Figure size 640x480 with 1 Axes>"
      ]
     },
     "metadata": {},
     "output_type": "display_data"
    }
   ],
   "source": [
    "df[['e_sat_metpy', 'e_sat_feld', 'e_sat_alduchov', 'temperature']].set_index(\"temperature\")[-30:5].plot()"
   ]
  },
  {
   "cell_type": "code",
   "execution_count": 8,
   "metadata": {},
   "outputs": [
    {
     "name": "stderr",
     "output_type": "stream",
     "text": [
      "/tmp/ipykernel_19793/2059172117.py:1: FutureWarning: The behavior of obj[i:j] with a float-dtype index is deprecated. In a future version, this will be treated as positional instead of label-based. For label-based slicing, use obj.loc[i:j] instead\n",
      "  df.set_index(\"temperature\")[-30:5][['e_sat_metpy', 'e_sat_alduchov']].plot(\n"
     ]
    },
    {
     "data": {
      "text/plain": [
       "Text(0, 0.5, 'saturation vapor pressure (Pa)')"
      ]
     },
     "execution_count": 8,
     "metadata": {},
     "output_type": "execute_result"
    },
    {
     "data": {
      "image/png": "[encoded data removed]",
      "text/plain": [
       "<Figure size 300x300 with 1 Axes>"
      ]
     },
     "metadata": {},
     "output_type": "display_data"
    }
   ],
   "source": [
    "df.set_index(\"temperature\")[-30:5][['e_sat_metpy', 'e_sat_alduchov']].plot(\n",
    "    figsize=(3,3)\n",
    ")\n",
    "plt.xlabel(\"temperature (˚C)\")\n",
    "plt.ylabel(\"saturation vapor pressure (Pa)\")"
   ]
  },
  {
   "cell_type": "code",
   "execution_count": 9,
   "metadata": {},
   "outputs": [
    {
     "name": "stderr",
     "output_type": "stream",
     "text": [
      "/tmp/ipykernel_19793/1777526141.py:1: FutureWarning: The behavior of obj[i:j] with a float-dtype index is deprecated. In a future version, this will be treated as positional instead of label-based. For label-based slicing, use obj.loc[i:j] instead\n",
      "  df.set_index(\"temperature\")[-40:10][[ 'e_sat_alduchov']].reset_index().head()\n"
     ]
    },
    {
     "data": {
      "text/html": [
       "<div>\n",
       "<style scoped>\n",
       "    .dataframe tbody tr th:only-of-type {\n",
       "        vertical-align: middle;\n",
       "    }\n",
       "\n",
       "    .dataframe tbody tr th {\n",
       "        vertical-align: top;\n",
       "    }\n",
       "\n",
       "    .dataframe thead th {\n",
       "        text-align: right;\n",
       "    }\n",
       "</style>\n",
       "<table border=\"1\" class=\"dataframe\">\n",
       "  <thead>\n",
       "    <tr style=\"text-align: right;\">\n",
       "      <th></th>\n",
       "      <th>temperature</th>\n",
       "      <th>e_sat_alduchov</th>\n",
       "    </tr>\n",
       "  </thead>\n",
       "  <tbody>\n",
       "    <tr>\n",
       "      <th>0</th>\n",
       "      <td>-40.0</td>\n",
       "      <td>12.843942</td>\n",
       "    </tr>\n",
       "    <tr>\n",
       "      <th>1</th>\n",
       "      <td>-39.0</td>\n",
       "      <td>14.375048</td>\n",
       "    </tr>\n",
       "    <tr>\n",
       "      <th>2</th>\n",
       "      <td>-38.0</td>\n",
       "      <td>16.073319</td>\n",
       "    </tr>\n",
       "    <tr>\n",
       "      <th>3</th>\n",
       "      <td>-37.0</td>\n",
       "      <td>17.955285</td>\n",
       "    </tr>\n",
       "    <tr>\n",
       "      <th>4</th>\n",
       "      <td>-36.0</td>\n",
       "      <td>20.038940</td>\n",
       "    </tr>\n",
       "  </tbody>\n",
       "</table>\n",
       "</div>"
      ],
      "text/plain": [
       "   temperature  e_sat_alduchov\n",
       "0        -40.0       12.843942\n",
       "1        -39.0       14.375048\n",
       "2        -38.0       16.073319\n",
       "3        -37.0       17.955285\n",
       "4        -36.0       20.038940"
      ]
     },
     "execution_count": 9,
     "metadata": {},
     "output_type": "execute_result"
    }
   ],
   "source": [
    "df.set_index(\"temperature\")[-40:10][[ 'e_sat_alduchov']].reset_index().head()"
   ]
  },
  {
   "cell_type": "code",
   "execution_count": 10,
   "metadata": {},
   "outputs": [
    {
     "name": "stderr",
     "output_type": "stream",
     "text": [
      "/tmp/ipykernel_19793/3609591029.py:2: FutureWarning: The behavior of obj[i:j] with a float-dtype index is deprecated. In a future version, this will be treated as positional instead of label-based. For label-based slicing, use obj.loc[i:j] instead\n",
      "  df.set_index(\"temperature\")[-40:10][[ 'e_sat_alduchov']].reset_index()\n"
     ]
    },
    {
     "data": {
      "application/vnd.vegalite.v5+json": {
       "$schema": "https://vega.github.io/schema/vega-lite/v5.16.3.json",
       "config": {
        "view": {
         "continuousHeight": 300,
         "continuousWidth": 300
        }
       },
       "data": {
        "format": {
         "type": "json"
        },
        "url": "altair-data-4f8c6e6a13c6ccbe4f732774e97d6d85.json"
       },
       "encoding": {
        "x": {
         "field": "temperature",
         "type": "quantitative"
        },
        "y": {
         "field": "e_sat_alduchov",
         "type": "quantitative"
        }
       },
       "height": 150,
       "mark": {
        "type": "line"
       },
       "width": 150
      },
      "text/plain": [
       "<VegaLite 5 object>\n",
       "\n",
       "If you see this message, it means the renderer has not been properly enabled\n",
       "for the frontend that you are using. For more information, see\n",
       "https://altair-viz.github.io/user_guide/display_frontends.html#troubleshooting\n"
      ]
     },
     "execution_count": 10,
     "metadata": {},
     "output_type": "execute_result"
    }
   ],
   "source": [
    "alt.Chart(\n",
    "    df.set_index(\"temperature\")[-40:10][[ 'e_sat_alduchov']].reset_index()\n",
    ").mark_line().encode(\n",
    "    alt.X(\"temperature:Q\"),\n",
    "    alt.Y(\"e_sat_alduchov\")\n",
    ").properties(width = 150, height = 150)"
   ]
  },
  {
   "cell_type": "code",
   "execution_count": 11,
   "metadata": {},
   "outputs": [
    {
     "name": "stderr",
     "output_type": "stream",
     "text": [
      "/tmp/ipykernel_19793/527824197.py:1: FutureWarning: The behavior of obj[i:j] with a float-dtype index is deprecated. In a future version, this will be treated as positional instead of label-based. For label-based slicing, use obj.loc[i:j] instead\n",
      "  df.set_index(\"temperature\")[-20:-5][['e_sat_metpy', 'e_sat_alduchov']].plot(\n"
     ]
    },
    {
     "data": {
      "text/plain": [
       "Text(0, 0.5, 'saturation vapor pressure (Pa)')"
      ]
     },
     "execution_count": 11,
     "metadata": {},
     "output_type": "execute_result"
    },
    {
     "data": {
      "image/png": "[encoded data removed]",
      "text/plain": [
       "<Figure size 300x300 with 1 Axes>"
      ]
     },
     "metadata": {},
     "output_type": "display_data"
    }
   ],
   "source": [
    "df.set_index(\"temperature\")[-20:-5][['e_sat_metpy', 'e_sat_alduchov']].plot(\n",
    "    figsize=(3,3)\n",
    ")\n",
    "plt.xlabel(\"temperature (˚C)\")\n",
    "plt.ylabel(\"saturation vapor pressure (Pa)\")"
   ]
  },
  {
   "cell_type": "code",
   "execution_count": 12,
   "metadata": {},
   "outputs": [
    {
     "data": {
      "text/plain": [
       "Index(['time', 'P_10m_c', 'T_10m_c', 'T_11m_c', 'T_12m_c', 'T_13m_c',\n",
       "       'T_14m_c', 'T_15m_c', 'T_16m_c', 'T_17m_c', 'T_18m_c', 'T_19m_c',\n",
       "       'T_20m_c', 'T_2m_c', 'T_3m_c', 'T_4m_c', 'T_5m_c', 'T_6m_c', 'T_7m_c',\n",
       "       'T_8m_c', 'T_9m_c', 'Tsurf_c', 'Tsurf_d', 'Tsurf_rad_d', 'Tsurf_ue',\n",
       "       'Tsurf_uw', 'Tsurfmixingratio_c', 'Tsurfmixingratio_rad_d',\n",
       "       'mixingratio_10m_c', 'mixingratio_11m_c', 'mixingratio_12m_c',\n",
       "       'mixingratio_13m_c', 'mixingratio_14m_c', 'mixingratio_15m_c',\n",
       "       'mixingratio_16m_c', 'mixingratio_17m_c', 'mixingratio_18m_c',\n",
       "       'mixingratio_19m_c', 'mixingratio_20m_c', 'mixingratio_2m_c',\n",
       "       'mixingratio_3m_c', 'mixingratio_4m_c', 'mixingratio_5m_c',\n",
       "       'mixingratio_6m_c', 'mixingratio_7m_c', 'mixingratio_8m_c',\n",
       "       'mixingratio_9m_c'],\n",
       "      dtype='object', name='variable')"
      ]
     },
     "execution_count": 12,
     "metadata": {},
     "output_type": "execute_result"
    }
   ],
   "source": [
    "vapor_pressure_df = tidy_df_30Min[tidy_df_30Min.time.dt.date == dt.date(2023, 2, 1)]\n",
    "vapor_pressure_df = vapor_pressure_df[vapor_pressure_df.variable.isin(\n",
    "    ['P_10m_c'] + \n",
    "    list(tidy_df_30Min[tidy_df_30Min.variable.str.startswith(\"T_\")].variable.unique()) + \n",
    "    list(tidy_df_30Min[tidy_df_30Min.variable.str.startswith(\"Tsurf_\")].variable.unique()) + \n",
    "    [v for v in vapor_pressure_df.variable.unique() if 'mixingratio' in v]\n",
    ")].pivot_table(\n",
    "    values = 'value',\n",
    "    index = 'time',\n",
    "    columns='variable'\n",
    ").reset_index()\n",
    "\n",
    "vapor_pressure_df.columns"
   ]
  },
  {
   "cell_type": "markdown",
   "metadata": {},
   "source": [
    "# Calculate water vapor pressure"
   ]
  },
  {
   "cell_type": "code",
   "execution_count": 13,
   "metadata": {},
   "outputs": [],
   "source": [
    "from metpy.calc import vapor_pressure, add_height_to_pressure"
   ]
  },
  {
   "cell_type": "code",
   "execution_count": 14,
   "metadata": {},
   "outputs": [],
   "source": [
    "vapor_pressure_df['Tsurfvaporpressure_c'] =   vapor_pressure_df.apply( \n",
    "    lambda row: vapor_pressure( \n",
    "        add_height_to_pressure(\n",
    "            row['P_10m_c']*units(\"millibars\"), -10*units(\"m\")\n",
    "        ), row['Tsurfmixingratio_c']\n",
    "    ).to(units(\"pascals\")).magnitude, \n",
    "    axis=1\n",
    ")\n",
    "vapor_pressure_df['Tsurfvaporpressure_rad_d'] =   vapor_pressure_df.apply( \n",
    "    lambda row: vapor_pressure( \n",
    "        add_height_to_pressure(\n",
    "            row['P_10m_c']*units(\"millibars\"), -10*units(\"m\")\n",
    "        ), row['Tsurfmixingratio_rad_d']\n",
    "    ).to(units(\"pascals\")).magnitude, \n",
    "    axis=1\n",
    ")\n",
    "vapor_pressure_df['vaporpressure_10m_c'] =        vapor_pressure_df.apply( \n",
    "    lambda row: vapor_pressure( \n",
    "        add_height_to_pressure(\n",
    "            row['P_10m_c']*units(\"millibars\"), 0*units(\"m\")\n",
    "        ),   row['mixingratio_10m_c']\n",
    "    ).to(units(\"pascals\")).magnitude, \n",
    "    axis=1\n",
    ")\n",
    "vapor_pressure_df['vaporpressure_11m_c'] =        vapor_pressure_df.apply( \n",
    "    lambda row: vapor_pressure( \n",
    "        add_height_to_pressure(\n",
    "            row['P_10m_c']*units(\"millibars\"), 1*units(\"m\")\n",
    "        ),   row['mixingratio_11m_c']\n",
    "    ).to(units(\"pascals\")).magnitude, \n",
    "    axis=1\n",
    ")\n",
    "vapor_pressure_df['vaporpressure_12m_c'] =        vapor_pressure_df.apply( \n",
    "    lambda row: vapor_pressure( \n",
    "        add_height_to_pressure(\n",
    "            row['P_10m_c']*units(\"millibars\"), 2*units(\"m\")\n",
    "        ),   row['mixingratio_12m_c']\n",
    "    ).to(units(\"pascals\")).magnitude, \n",
    "    axis=1\n",
    ")\n",
    "vapor_pressure_df['vaporpressure_13m_c'] =        vapor_pressure_df.apply( \n",
    "    lambda row: vapor_pressure( \n",
    "        add_height_to_pressure(\n",
    "            row['P_10m_c']*units(\"millibars\"), 3*units(\"m\")\n",
    "        ),   row['mixingratio_13m_c']\n",
    "    ).to(units(\"pascals\")).magnitude, \n",
    "    axis=1\n",
    ")\n",
    "vapor_pressure_df['vaporpressure_14m_c'] =        vapor_pressure_df.apply( \n",
    "    lambda row: vapor_pressure( \n",
    "        add_height_to_pressure(\n",
    "            row['P_10m_c']*units(\"millibars\"), 4*units(\"m\")\n",
    "        ),   row['mixingratio_14m_c']\n",
    "    ).to(units(\"pascals\")).magnitude, \n",
    "    axis=1\n",
    ")\n",
    "vapor_pressure_df['vaporpressure_15m_c'] =        vapor_pressure_df.apply( \n",
    "    lambda row: vapor_pressure( \n",
    "        add_height_to_pressure(\n",
    "            row['P_10m_c']*units(\"millibars\"), 5*units(\"m\")\n",
    "        ),   row['mixingratio_15m_c']\n",
    "    ).to(units(\"pascals\")).magnitude, \n",
    "    axis=1\n",
    ")\n",
    "vapor_pressure_df['vaporpressure_16m_c'] =        vapor_pressure_df.apply( \n",
    "    lambda row: vapor_pressure( \n",
    "        add_height_to_pressure(\n",
    "            row['P_10m_c']*units(\"millibars\"), 6*units(\"m\")\n",
    "        ),   row['mixingratio_16m_c']\n",
    "    ).to(units(\"pascals\")).magnitude, \n",
    "    axis=1\n",
    ")\n",
    "vapor_pressure_df['vaporpressure_17m_c'] =        vapor_pressure_df.apply( \n",
    "    lambda row: vapor_pressure( \n",
    "        add_height_to_pressure(\n",
    "            row['P_10m_c']*units(\"millibars\"), 7*units(\"m\")\n",
    "        ),   row['mixingratio_17m_c']\n",
    "    ).to(units(\"pascals\")).magnitude, \n",
    "    axis=1\n",
    ")\n",
    "vapor_pressure_df['vaporpressure_18m_c'] =        vapor_pressure_df.apply( \n",
    "    lambda row: vapor_pressure( \n",
    "        add_height_to_pressure(\n",
    "            row['P_10m_c']*units(\"millibars\"), 8*units(\"m\")\n",
    "        ),   row['mixingratio_18m_c']\n",
    "    ).to(units(\"pascals\")).magnitude, \n",
    "    axis=1\n",
    ")\n",
    "vapor_pressure_df['vaporpressure_19m_c'] =        vapor_pressure_df.apply( \n",
    "    lambda row: vapor_pressure( \n",
    "        add_height_to_pressure(\n",
    "            row['P_10m_c']*units(\"millibars\"), 9*units(\"m\")\n",
    "        ),   row['mixingratio_19m_c']\n",
    "    ).to(units(\"pascals\")).magnitude, \n",
    "    axis=1\n",
    ")\n",
    "vapor_pressure_df['vaporpressure_20m_c'] =        vapor_pressure_df.apply( \n",
    "    lambda row: vapor_pressure( \n",
    "        add_height_to_pressure(\n",
    "            row['P_10m_c']*units(\"millibars\"), 10*units(\"m\")\n",
    "        ),  row['mixingratio_20m_c']\n",
    "    ).to(units(\"pascals\")).magnitude, \n",
    "    axis=1\n",
    ")\n",
    "vapor_pressure_df['vaporpressure_2m_c'] =         vapor_pressure_df.apply( \n",
    "    lambda row: vapor_pressure( \n",
    "        add_height_to_pressure(\n",
    "            row['P_10m_c']*units(\"millibars\"), -8*units(\"m\")\n",
    "        ),  row['mixingratio_2m_c']\n",
    "    ).to(units(\"pascals\")).magnitude, \n",
    "    axis=1\n",
    ")\n",
    "vapor_pressure_df['vaporpressure_3m_c'] =         vapor_pressure_df.apply( \n",
    "    lambda row: vapor_pressure( \n",
    "        add_height_to_pressure(\n",
    "            row['P_10m_c']*units(\"millibars\"), -7*units(\"m\")\n",
    "        ),  row['mixingratio_3m_c']\n",
    "    ).to(units(\"pascals\")).magnitude, \n",
    "    axis=1\n",
    ")\n",
    "vapor_pressure_df['vaporpressure_4m_c'] =         vapor_pressure_df.apply( \n",
    "    lambda row: vapor_pressure( \n",
    "        add_height_to_pressure(\n",
    "            row['P_10m_c']*units(\"millibars\"), -6*units(\"m\")\n",
    "        ),  row['mixingratio_4m_c']\n",
    "    ).to(units(\"pascals\")).magnitude, \n",
    "    axis=1\n",
    ")\n",
    "vapor_pressure_df['vaporpressure_5m_c'] =         vapor_pressure_df.apply( \n",
    "    lambda row: vapor_pressure( \n",
    "        add_height_to_pressure(\n",
    "            row['P_10m_c']*units(\"millibars\"), -5*units(\"m\")\n",
    "        ),  row['mixingratio_5m_c']\n",
    "    ).to(units(\"pascals\")).magnitude, \n",
    "    axis=1\n",
    ")\n",
    "vapor_pressure_df['vaporpressure_6m_c'] =         vapor_pressure_df.apply( \n",
    "    lambda row: vapor_pressure( \n",
    "        add_height_to_pressure(\n",
    "            row['P_10m_c']*units(\"millibars\"), -4*units(\"m\")\n",
    "        ),  row['mixingratio_6m_c']\n",
    "    ).to(units(\"pascals\")).magnitude, \n",
    "    axis=1\n",
    ")\n",
    "vapor_pressure_df['vaporpressure_7m_c'] =         vapor_pressure_df.apply( \n",
    "    lambda row: vapor_pressure( \n",
    "        add_height_to_pressure(\n",
    "            row['P_10m_c']*units(\"millibars\"), -3*units(\"m\")\n",
    "        ),  row['mixingratio_7m_c']\n",
    "    ).to(units(\"pascals\")).magnitude, \n",
    "    axis=1\n",
    ")\n",
    "vapor_pressure_df['vaporpressure_8m_c'] =         vapor_pressure_df.apply( \n",
    "    lambda row: vapor_pressure( \n",
    "        add_height_to_pressure(\n",
    "            row['P_10m_c']*units(\"millibars\"), -2*units(\"m\")\n",
    "        ),  row['mixingratio_8m_c']\n",
    "    ).to(units(\"pascals\")).magnitude, \n",
    "    axis=1\n",
    ")\n",
    "vapor_pressure_df['vaporpressure_9m_c'] =         vapor_pressure_df.apply( \n",
    "    lambda row: vapor_pressure( \n",
    "        add_height_to_pressure(\n",
    "            row['P_10m_c']*units(\"millibars\"), -1*units(\"m\")\n",
    "        ),  row['mixingratio_9m_c']\n",
    "    ).to(units(\"pascals\")).magnitude, \n",
    "    axis=1\n",
    ")"
   ]
  },
  {
   "cell_type": "code",
   "execution_count": 15,
   "metadata": {},
   "outputs": [
    {
     "data": {
      "text/plain": [
       "pint.Quantity"
      ]
     },
     "execution_count": 15,
     "metadata": {},
     "output_type": "execute_result"
    }
   ],
   "source": [
    "type(units(\"pascals\"))"
   ]
  },
  {
   "cell_type": "code",
   "execution_count": 16,
   "metadata": {},
   "outputs": [
    {
     "data": {
      "text/plain": [
       "pint.Unit"
      ]
     },
     "execution_count": 16,
     "metadata": {},
     "output_type": "execute_result"
    }
   ],
   "source": [
    "type(units.pascals)"
   ]
  },
  {
   "cell_type": "markdown",
   "metadata": {},
   "source": [
    "# Plot saturation vapor pressure functions and data from a day when MOST overpredicts sublimation"
   ]
  },
  {
   "cell_type": "code",
   "execution_count": 17,
   "metadata": {},
   "outputs": [
    {
     "data": {
      "text/plain": [
       "['Tsurfvaporpressure_c',\n",
       " 'Tsurfvaporpressure_rad_d',\n",
       " 'vaporpressure_10m_c',\n",
       " 'vaporpressure_11m_c',\n",
       " 'vaporpressure_12m_c',\n",
       " 'vaporpressure_13m_c',\n",
       " 'vaporpressure_14m_c',\n",
       " 'vaporpressure_15m_c',\n",
       " 'vaporpressure_16m_c',\n",
       " 'vaporpressure_17m_c',\n",
       " 'vaporpressure_18m_c',\n",
       " 'vaporpressure_19m_c',\n",
       " 'vaporpressure_20m_c',\n",
       " 'vaporpressure_2m_c',\n",
       " 'vaporpressure_3m_c',\n",
       " 'vaporpressure_4m_c',\n",
       " 'vaporpressure_5m_c',\n",
       " 'vaporpressure_6m_c',\n",
       " 'vaporpressure_7m_c',\n",
       " 'vaporpressure_8m_c',\n",
       " 'vaporpressure_9m_c']"
      ]
     },
     "execution_count": 17,
     "metadata": {},
     "output_type": "execute_result"
    }
   ],
   "source": [
    "[c for c in vapor_pressure_df.columns if 'vaporpressure' in c]"
   ]
  },
  {
   "cell_type": "code",
   "execution_count": 18,
   "metadata": {},
   "outputs": [
    {
     "data": {
      "application/vnd.vegalite.v5+json": {
       "$schema": "https://vega.github.io/schema/vega-lite/v5.16.3.json",
       "config": {
        "legend": {
         "gradientLength": 125
        },
        "title": {
         "anchor": "start"
        },
        "view": {
         "continuousHeight": 300,
         "continuousWidth": 300
        }
       },
       "height": 200,
       "layer": [
        {
         "data": {
          "format": {
           "type": "json"
          },
          "url": "altair-data-ce2292f967d285d8ce37b335c1555114.json"
         },
         "encoding": {
          "color": {
           "field": "key",
           "type": "nominal"
          },
          "x": {
           "field": "temperature",
           "type": "quantitative"
          },
          "y": {
           "field": "value",
           "type": "quantitative"
          }
         },
         "mark": {
          "type": "line"
         },
         "transform": [
          {
           "filter": "((datum.temperature <= 0) && (datum.temperature >= -25))"
          },
          {
           "fold": [
            "e_sat_metpy",
            "e_sat_alduchov"
           ]
          }
         ]
        },
        {
         "data": {
          "format": {
           "type": "json"
          },
          "url": "altair-data-cacb4d60f904528e8ee4897de1b517a3.json"
         },
         "encoding": {
          "color": {
           "field": "time",
           "scale": {
            "scheme": "rainbow"
           },
           "timeUnit": "hours",
           "type": "ordinal"
          },
          "tooltip": {
           "field": "time",
           "timeUnit": "hours",
           "type": "temporal"
          },
          "x": {
           "field": "T_3m_c",
           "title": "Temperature (˚C)",
           "type": "quantitative"
          },
          "y": {
           "field": "vaporpressure_3m_c",
           "title": "Vapor pressure (Pa)",
           "type": "quantitative"
          }
         },
         "mark": {
          "size": 50,
          "type": "circle"
         },
         "title": [
          "Saturation vapor pressure curves and measured 3m",
          "air temperature and humidity on 2023-02-01"
         ]
        }
       ],
       "resolve": {
        "scale": {
         "color": "independent"
        }
       },
       "width": 200
      },
      "text/plain": [
       "<VegaLite 5 object>\n",
       "\n",
       "If you see this message, it means the renderer has not been properly enabled\n",
       "for the frontend that you are using. For more information, see\n",
       "https://altair-viz.github.io/user_guide/display_frontends.html#troubleshooting\n"
      ]
     },
     "metadata": {
      "application/vnd.vegalite.v5+json": {
       "embed_options": {
        "renderer": "svg"
       }
      }
     },
     "output_type": "display_data"
    }
   ],
   "source": [
    "assert len(vapor_pressure_df.time.dt.date.unique()) == 1\n",
    "\n",
    "src = vapor_pressure_df[['time', 'T_3m_c', 'vaporpressure_3m_c']]\n",
    "src = src[(src.time.dt.minute == 0) & (src.time.dt.hour.isin([0,4,8,12,16,20]))]\n",
    "\n",
    "(alt.Chart(df).transform_filter(\n",
    "    (alt.datum.temperature <= 0)  & (alt.datum.temperature >= -25)\n",
    ").transform_fold(\n",
    "    ['e_sat_metpy', 'e_sat_alduchov'],\n",
    ").mark_line().encode(\n",
    "    alt.X(\"temperature:Q\"),\n",
    "    alt.Y(\"value:Q\"),\n",
    "    alt.Color('key:N')\n",
    ") + alt.Chart(src).mark_circle(size=50).encode(\n",
    "    alt.X(\"T_3m_c:Q\").title(\"Temperature (˚C)\"),\n",
    "    alt.Y(\"vaporpressure_3m_c:Q\").title(\"Vapor pressure (Pa)\"),\n",
    "    alt.Color('hours(time):O').scale(scheme='rainbow'),\n",
    "    tooltip = 'hours(time)'\n",
    ").properties(\n",
    "    title = [f'Saturation vapor pressure curves and measured 3m',\n",
    "             f'air temperature and humidity on {str(vapor_pressure_df.time.dt.date.iloc[0])}'\n",
    "             ],\n",
    "    width = 200, \n",
    "    height = 200\n",
    ")).resolve_scale(color='independent').configure_legend(\n",
    "    gradientLength=125,\n",
    ").configure_title(\n",
    "    anchor='start'\n",
    ").display(renderer = 'svg')"
   ]
  },
  {
   "cell_type": "markdown",
   "metadata": {},
   "source": [
    "# Analyze sensitivity of specific humidity gradients to..."
   ]
  },
  {
   "cell_type": "markdown",
   "metadata": {},
   "source": [
    "## Choice of saturation vapor pressure curve"
   ]
  },
  {
   "cell_type": "code",
   "execution_count": 19,
   "metadata": {},
   "outputs": [],
   "source": [
    "DEFAULT_COLORS = ['#1f77b4', '#ff7f0e', '#2ca02c', '#d62728', '#9467bd', '#8c564b', '#e377c2', '#7f7f7f', '#bcbd22', '#17becf']"
   ]
  },
  {
   "cell_type": "code",
   "execution_count": 20,
   "metadata": {},
   "outputs": [],
   "source": [
    "from metpy.calc import specific_humidity_from_mixing_ratio"
   ]
  },
  {
   "cell_type": "code",
   "execution_count": 21,
   "metadata": {},
   "outputs": [],
   "source": [
    "src = vapor_pressure_df.copy()\n",
    "src['Surface e_sat, feld'] = src['Tsurf_c'].apply(e_sat_feld)\n",
    "src['Surface e_sat, wiki'] = src['Tsurf_c'].apply(e_sat_wiki)\n",
    "src['Surface e_sat, metpy'] = src['Tsurf_c'].apply(e_sat_metpy)\n",
    "src['Surface e_sat, alduchov'] = src['Tsurf_c'].apply(e_sat_alduchov)\n",
    "src['3m e'] = src['vaporpressure_3m_c']"
   ]
  },
  {
   "cell_type": "code",
   "execution_count": 22,
   "metadata": {},
   "outputs": [],
   "source": [
    "src['Feld'] = (src['3m e'] - src['Surface e_sat, feld']) / 3\n",
    "src['Metpy'] = (src['3m e'] - src['Surface e_sat, metpy']) / 3\n",
    "src['Alduchov'] = (src['3m e'] - src['Surface e_sat, alduchov']) / 3"
   ]
  },
  {
   "cell_type": "code",
   "execution_count": 23,
   "metadata": {},
   "outputs": [
    {
     "data": {
      "application/vnd.vegalite.v5+json": {
       "$schema": "https://vega.github.io/schema/vega-lite/v5.16.3.json",
       "config": {
        "view": {
         "continuousHeight": 300,
         "continuousWidth": 300
        }
       },
       "data": {
        "format": {
         "type": "json"
        },
        "url": "altair-data-83b7c1fbd83a7d241cc7fdb72f782c59.json"
       },
       "encoding": {
        "color": {
         "field": "key",
         "scale": {
          "domain": [
           "Surface e_sat, feld",
           "Surface e_sat, wiki",
           "Surface e_sat, metpy",
           "Surface e_sat, alduchov",
           "3m e"
          ],
          "range": [
           "#1f77b4",
           "#ff7f0e",
           "#2ca02c",
           "#d62728",
           "#000000"
          ]
         },
         "title": "Vapor pressure measurement",
         "type": "nominal"
        },
        "x": {
         "field": "time",
         "type": "temporal"
        },
        "y": {
         "field": "value",
         "type": "quantitative"
        }
       },
       "mark": {
        "type": "line"
       },
       "transform": [
        {
         "fold": [
          "Surface e_sat, feld",
          "Surface e_sat, wiki",
          "Surface e_sat, metpy",
          "Surface e_sat, alduchov",
          "3m e"
         ]
        }
       ]
      },
      "text/plain": [
       "<VegaLite 5 object>\n",
       "\n",
       "If you see this message, it means the renderer has not been properly enabled\n",
       "for the frontend that you are using. For more information, see\n",
       "https://altair-viz.github.io/user_guide/display_frontends.html#troubleshooting\n"
      ]
     },
     "execution_count": 23,
     "metadata": {},
     "output_type": "execute_result"
    }
   ],
   "source": [
    "vars = ['Surface e_sat, feld', 'Surface e_sat, wiki', 'Surface e_sat, metpy', 'Surface e_sat, alduchov', '3m e']\n",
    "alt.Chart(src).transform_fold(vars).mark_line().encode(\n",
    "    alt.X('time:T'),\n",
    "    alt.Y(\"value:Q\"),\n",
    "    alt.Color(\"key:N\").title(\"Vapor pressure measurement\").scale(\n",
    "        domain = vars,\n",
    "        range = DEFAULT_COLORS[:4] + ['#000000']\n",
    "    )\n",
    ")"
   ]
  },
  {
   "cell_type": "code",
   "execution_count": 24,
   "metadata": {},
   "outputs": [
    {
     "data": {
      "application/vnd.vegalite.v5+json": {
       "$schema": "https://vega.github.io/schema/vega-lite/v5.16.3.json",
       "config": {
        "view": {
         "continuousHeight": 300,
         "continuousWidth": 300
        }
       },
       "data": {
        "format": {
         "type": "json"
        },
        "url": "altair-data-83b7c1fbd83a7d241cc7fdb72f782c59.json"
       },
       "encoding": {
        "color": {
         "field": "key",
         "title": "e_sat curve",
         "type": "nominal"
        },
        "x": {
         "field": "time",
         "type": "temporal"
        },
        "y": {
         "field": "value",
         "title": "de/dz",
         "type": "quantitative"
        }
       },
       "height": 200,
       "mark": {
        "type": "line"
       },
       "title": [
        "different e_sat curves (Tₛ from",
        "Tower C Apogee infrared sensor)"
       ],
       "transform": [
        {
         "fold": [
          "Feld",
          "Metpy",
          "Alduchov"
         ]
        }
       ],
       "width": 200
      },
      "text/plain": [
       "<VegaLite 5 object>\n",
       "\n",
       "If you see this message, it means the renderer has not been properly enabled\n",
       "for the frontend that you are using. For more information, see\n",
       "https://altair-viz.github.io/user_guide/display_frontends.html#troubleshooting\n"
      ]
     },
     "execution_count": 24,
     "metadata": {},
     "output_type": "execute_result"
    }
   ],
   "source": [
    "vars = [\n",
    "    'Feld',\n",
    "    'Metpy',\n",
    "    'Alduchov'\n",
    "]\n",
    "plot_dedz_satvappresscurve_sensitivity = alt.Chart(src).transform_fold(vars).mark_line().encode(\n",
    "    alt.X('time:T'),\n",
    "    alt.Y(\"value:Q\").title('de/dz'),\n",
    "    alt.Color(\"key:N\").title(\"e_sat curve\")\n",
    ").properties(\n",
    "    title = [\n",
    "        'different e_sat curves (Tₛ from',\n",
    "        'Tower C Apogee infrared sensor)'\n",
    "    ],\n",
    "    height = 200,\n",
    "    width = 200\n",
    ")\n",
    "plot_dedz_satvappresscurve_sensitivity"
   ]
  },
  {
   "cell_type": "markdown",
   "metadata": {},
   "source": [
    "## Choice of surface temperature measurement"
   ]
  },
  {
   "cell_type": "code",
   "execution_count": 25,
   "metadata": {},
   "outputs": [],
   "source": [
    "src = vapor_pressure_df.copy()\n",
    "\n",
    "src['Surface e_sat, apogee tower c'] = src['Tsurf_c'].apply(e_sat_metpy)\n",
    "src['Surface e_sat, apogee tower d'] = src['Tsurf_d'].apply(e_sat_metpy)\n",
    "src['Surface e_sat, radiometer tower d'] = src['Tsurf_rad_d'].apply(e_sat_metpy)\n",
    "src['Surface e_sat, apogee tower ue'] = src['Tsurf_ue'].apply(e_sat_metpy)\n",
    "src['Surface e_sat, apogee tower uw'] = src['Tsurf_uw'].apply(e_sat_metpy)\n",
    "src['3m e'] = src['vaporpressure_3m_c']"
   ]
  },
  {
   "cell_type": "code",
   "execution_count": 26,
   "metadata": {},
   "outputs": [],
   "source": [
    "src['Apogee tower c'] = (src['3m e'] - src['Surface e_sat, apogee tower c']) / 3\n",
    "src['Apogee tower d'] = (src['3m e'] - src['Surface e_sat, apogee tower d']) / 3\n",
    "src['Radiometer tower d'] = (src['3m e'] - src['Surface e_sat, radiometer tower d']) / 3\n",
    "src['Apogee tower ue'] = (src['3m e'] - src['Surface e_sat, apogee tower ue']) / 3\n",
    "src['Apogee tower uw'] = (src['3m e'] - src['Surface e_sat, apogee tower uw']) / 3"
   ]
  },
  {
   "cell_type": "code",
   "execution_count": 27,
   "metadata": {},
   "outputs": [
    {
     "data": {
      "application/vnd.vegalite.v5+json": {
       "$schema": "https://vega.github.io/schema/vega-lite/v5.16.3.json",
       "config": {
        "view": {
         "continuousHeight": 300,
         "continuousWidth": 300
        }
       },
       "data": {
        "format": {
         "type": "json"
        },
        "url": "altair-data-8c0c5a36d7a8e99ba82c5b5ca10632b5.json"
       },
       "encoding": {
        "color": {
         "field": "key",
         "scale": {
          "domain": [
           "Surface e_sat, apogee tower c",
           "Surface e_sat, apogee tower d",
           "Surface e_sat, radiometer tower d",
           "Surface e_sat, apogee tower ue",
           "Surface e_sat, apogee tower uw",
           "3m e"
          ],
          "range": [
           "#1f77b4",
           "#ff7f0e",
           "#2ca02c",
           "#d62728",
           "#9467bd",
           "#000000"
          ]
         },
         "title": "Vapor pressure measurement",
         "type": "nominal"
        },
        "x": {
         "field": "time",
         "type": "temporal"
        },
        "y": {
         "field": "value",
         "type": "quantitative"
        }
       },
       "mark": {
        "type": "line"
       },
       "transform": [
        {
         "fold": [
          "Surface e_sat, apogee tower c",
          "Surface e_sat, apogee tower d",
          "Surface e_sat, radiometer tower d",
          "Surface e_sat, apogee tower ue",
          "Surface e_sat, apogee tower uw",
          "3m e"
         ]
        }
       ]
      },
      "text/plain": [
       "<VegaLite 5 object>\n",
       "\n",
       "If you see this message, it means the renderer has not been properly enabled\n",
       "for the frontend that you are using. For more information, see\n",
       "https://altair-viz.github.io/user_guide/display_frontends.html#troubleshooting\n"
      ]
     },
     "execution_count": 27,
     "metadata": {},
     "output_type": "execute_result"
    }
   ],
   "source": [
    "vars = ['Surface e_sat, apogee tower c', 'Surface e_sat, apogee tower d', 'Surface e_sat, radiometer tower d',\n",
    "    'Surface e_sat, apogee tower ue', 'Surface e_sat, apogee tower uw', '3m e']\n",
    "alt.Chart(src).transform_fold(vars).mark_line().encode(\n",
    "    alt.X('time:T'),\n",
    "    alt.Y(\"value:Q\"),\n",
    "    alt.Color(\"key:N\").title(\"Vapor pressure measurement\").scale(\n",
    "        domain = vars, \n",
    "        range = DEFAULT_COLORS[:5] + ['#000000']\n",
    "    )\n",
    ")"
   ]
  },
  {
   "cell_type": "code",
   "execution_count": 28,
   "metadata": {},
   "outputs": [
    {
     "data": {
      "application/vnd.vegalite.v5+json": {
       "$schema": "https://vega.github.io/schema/vega-lite/v5.16.3.json",
       "config": {
        "view": {
         "continuousHeight": 300,
         "continuousWidth": 300
        }
       },
       "data": {
        "format": {
         "type": "json"
        },
        "url": "altair-data-8c0c5a36d7a8e99ba82c5b5ca10632b5.json"
       },
       "encoding": {
        "color": {
         "field": "key",
         "title": "Temperature measurement",
         "type": "nominal"
        },
        "x": {
         "field": "time",
         "type": "temporal"
        },
        "y": {
         "field": "value",
         "title": "de/dz",
         "type": "quantitative"
        }
       },
       "height": 200,
       "mark": {
        "type": "line"
       },
       "title": [
        "different Tₛ measurements",
        "(using the MetPy e_sat curve)"
       ],
       "transform": [
        {
         "fold": [
          "Apogee tower c",
          "Apogee tower d",
          "Radiometer tower d",
          "Apogee tower ue",
          "Apogee tower uw"
         ]
        }
       ],
       "width": 200
      },
      "text/plain": [
       "<VegaLite 5 object>\n",
       "\n",
       "If you see this message, it means the renderer has not been properly enabled\n",
       "for the frontend that you are using. For more information, see\n",
       "https://altair-viz.github.io/user_guide/display_frontends.html#troubleshooting\n"
      ]
     },
     "execution_count": 28,
     "metadata": {},
     "output_type": "execute_result"
    }
   ],
   "source": [
    "vars = ['Apogee tower c', 'Apogee tower d', 'Radiometer tower d',\n",
    "    'Apogee tower ue', 'Apogee tower uw']\n",
    "plot_dedz_surftempmeasurement_sensitivity = alt.Chart(src).transform_fold(vars).mark_line().encode(\n",
    "    alt.X('time:T'),\n",
    "    alt.Y(\"value:Q\").title('de/dz'),\n",
    "    alt.Color(\"key:N\").title(\"Temperature measurement\")\n",
    ").properties(\n",
    "    title = [\n",
    "        'different Tₛ measurements',\n",
    "        '(using the MetPy e_sat curve)'\n",
    "    ],\n",
    "    height = 200,\n",
    "    width = 200\n",
    ")\n",
    "plot_dedz_surftempmeasurement_sensitivity"
   ]
  },
  {
   "cell_type": "code",
   "execution_count": 29,
   "metadata": {},
   "outputs": [
    {
     "data": {
      "application/vnd.vegalite.v5+json": {
       "$schema": "https://vega.github.io/schema/vega-lite/v5.16.3.json",
       "config": {
        "legend": {
         "labelLimit": 1000
        },
        "view": {
         "continuousHeight": 300,
         "continuousWidth": 300
        }
       },
       "data": {
        "format": {
         "type": "json"
        },
        "url": "altair-data-da5a31c129cc53de39a4494a77da3382.json"
       },
       "encoding": {
        "color": {
         "field": "variable",
         "scale": {
          "domain": [
           "w_h2o__3m_c",
           "w_h2o__3m_c predicted (turbpy MO Webb NoahMP andreas lengths 0.0001)",
           "w_h2o__3m_c predicted (turbpy MO Webb NoahMP andreas lengths 0.0005)",
           "w_h2o__3m_c predicted (turbpy MO Webb NoahMP andreas lengths 0.001)",
           "w_h2o__3m_c predicted (turbpy MO Webb NoahMP andreas lengths 0.005)"
          ],
          "range": [
           "#000000",
           "#1f77b4",
           "#ff7f0e",
           "#2ca02c",
           "#d62728",
           "#9467bd"
          ]
         },
         "type": "nominal"
        },
        "x": {
         "field": "time",
         "type": "temporal"
        },
        "y": {
         "field": "value",
         "type": "quantitative"
        }
       },
       "mark": {
        "type": "line"
       }
      },
      "text/plain": [
       "<VegaLite 5 object>\n",
       "\n",
       "If you see this message, it means the renderer has not been properly enabled\n",
       "for the frontend that you are using. For more information, see\n",
       "https://altair-viz.github.io/user_guide/display_frontends.html#troubleshooting\n"
      ]
     },
     "execution_count": 29,
     "metadata": {},
     "output_type": "execute_result"
    }
   ],
   "source": [
    "src = tidy_df_30Min[tidy_df_30Min.time.dt.date == dt.date(2023, 3, 28)]\n",
    "vars = [\n",
    "    'w_h2o__3m_c',\n",
    "    'w_h2o__3m_c predicted (turbpy MO Webb NoahMP andreas lengths 0.0001)',\n",
    "    'w_h2o__3m_c predicted (turbpy MO Webb NoahMP andreas lengths 0.0005)',\n",
    "    'w_h2o__3m_c predicted (turbpy MO Webb NoahMP andreas lengths 0.001)',\n",
    "    'w_h2o__3m_c predicted (turbpy MO Webb NoahMP andreas lengths 0.005)'\n",
    "]\n",
    "alt.Chart(\n",
    "    src[src.variable.isin(vars)]\n",
    ").mark_line().encode(\n",
    "    alt.X(\"time:T\"),\n",
    "    alt.Y(\"value:Q\"),\n",
    "    alt.Color(\"variable:N\").scale(\n",
    "        domain = vars, \n",
    "        range = ['#000000'] + DEFAULT_COLORS[:5]\n",
    "    )\n",
    ").configure_legend(labelLimit = 1000)"
   ]
  },
  {
   "cell_type": "markdown",
   "metadata": {},
   "source": [
    "# Examine how $T_d$ compares to $T_s$"
   ]
  },
  {
   "cell_type": "code",
   "execution_count": 30,
   "metadata": {},
   "outputs": [],
   "source": [
    "from metpy.calc import dewpoint"
   ]
  },
  {
   "cell_type": "code",
   "execution_count": 31,
   "metadata": {},
   "outputs": [],
   "source": [
    "vapor_pressure_df['Td_2m_c'] = vapor_pressure_df['vaporpressure_2m_c'].apply(lambda x: dewpoint(x * units(\"Pa\")).magnitude)\n",
    "vapor_pressure_df['Td_3m_c'] = vapor_pressure_df['vaporpressure_3m_c'].apply(lambda x: dewpoint(x * units(\"Pa\")).magnitude)"
   ]
  },
  {
   "cell_type": "code",
   "execution_count": 32,
   "metadata": {},
   "outputs": [
    {
     "data": {
      "application/vnd.vegalite.v5+json": {
       "$schema": "https://vega.github.io/schema/vega-lite/v5.16.3.json",
       "config": {
        "view": {
         "continuousHeight": 300,
         "continuousWidth": 300
        }
       },
       "layer": [
        {
         "data": {
          "format": {
           "type": "json"
          },
          "url": "altair-data-2409f1cb175f1aa21ae051e06a68e36b.json"
         },
         "encoding": {
          "x": {
           "field": "x",
           "type": "quantitative"
          },
          "y": {
           "field": "y",
           "type": "quantitative"
          }
         },
         "mark": {
          "color": "grey",
          "type": "line"
         }
        },
        {
         "data": {
          "format": {
           "type": "json"
          },
          "url": "altair-data-a654f5d6a66ada8307b7b44dd774c872.json"
         },
         "encoding": {
          "color": {
           "field": "time",
           "scale": {
            "scheme": "turbo"
           },
           "timeUnit": "hours",
           "type": "quantitative"
          },
          "x": {
           "field": "Tsurf_c",
           "type": "quantitative"
          },
          "y": {
           "field": "Td_2m_c",
           "type": "quantitative"
          }
         },
         "mark": {
          "size": 75,
          "type": "circle"
         }
        }
       ]
      },
      "text/plain": [
       "<VegaLite 5 object>\n",
       "\n",
       "If you see this message, it means the renderer has not been properly enabled\n",
       "for the frontend that you are using. For more information, see\n",
       "https://altair-viz.github.io/user_guide/display_frontends.html#troubleshooting\n"
      ]
     },
     "execution_count": 32,
     "metadata": {},
     "output_type": "execute_result"
    }
   ],
   "source": [
    "alt.Chart(pd.DataFrame({'x': [-35,0], 'y': [-35,0]})).mark_line(color='grey').encode(x='x', y='y') + \\\n",
    "    alt.Chart(vapor_pressure_df).mark_circle(size=75).encode(\n",
    "    alt.X(\"Tsurf_c:Q\"),\n",
    "    alt.Y(\"Td_2m_c:Q\"),\n",
    "    alt.Color(\"hours(time):Q\").scale(scheme='turbo')\n",
    ")"
   ]
  },
  {
   "cell_type": "code",
   "execution_count": 33,
   "metadata": {},
   "outputs": [
    {
     "data": {
      "application/vnd.vegalite.v5+json": {
       "$schema": "https://vega.github.io/schema/vega-lite/v5.16.3.json",
       "config": {
        "view": {
         "continuousHeight": 300,
         "continuousWidth": 300
        }
       },
       "data": {
        "format": {
         "type": "json"
        },
        "url": "altair-data-a654f5d6a66ada8307b7b44dd774c872.json"
       },
       "encoding": {
        "color": {
         "field": "key",
         "type": "nominal"
        },
        "x": {
         "field": "time",
         "type": "temporal"
        },
        "y": {
         "field": "value",
         "type": "quantitative"
        }
       },
       "mark": {
        "type": "line"
       },
       "transform": [
        {
         "fold": [
          "Tsurf_c",
          "Tsurf_rad_d",
          "Td_2m_c",
          "Td_3m_c"
         ]
        }
       ]
      },
      "text/plain": [
       "<VegaLite 5 object>\n",
       "\n",
       "If you see this message, it means the renderer has not been properly enabled\n",
       "for the frontend that you are using. For more information, see\n",
       "https://altair-viz.github.io/user_guide/display_frontends.html#troubleshooting\n"
      ]
     },
     "execution_count": 33,
     "metadata": {},
     "output_type": "execute_result"
    }
   ],
   "source": [
    "alt.Chart(vapor_pressure_df).transform_fold(\n",
    "    ['Tsurf_c', 'Tsurf_rad_d', 'Td_2m_c', 'Td_3m_c']\n",
    ").mark_line().encode(\n",
    "    alt.X(\"time:T\"),\n",
    "    alt.Y(\"value:Q\"),\n",
    "    alt.Color(\"key:N\")\n",
    ")"
   ]
  },
  {
   "cell_type": "code",
   "execution_count": 34,
   "metadata": {},
   "outputs": [],
   "source": [
    "src = vapor_pressure_df.copy()\n",
    "src['3m e'] = src['vaporpressure_3m_c']\n",
    "src['Surface e_sat, est from 2m T_d'] = src['Td_2m_c'].apply(e_sat_metpy)\n",
    "src['Surface e_sat, apogee tower c'] = src['Tsurf_c'].apply(e_sat_metpy)\n",
    "src['Estimate from 2m T_d'] = (src['3m e'] - src['Surface e_sat, est from 2m T_d']) / 3\n",
    "src['Apogee tower c'] = (src['3m e'] - src['Surface e_sat, apogee tower c']) / 3"
   ]
  },
  {
   "cell_type": "code",
   "execution_count": 35,
   "metadata": {},
   "outputs": [
    {
     "data": {
      "application/vnd.vegalite.v5+json": {
       "$schema": "https://vega.github.io/schema/vega-lite/v5.16.3.json",
       "config": {
        "view": {
         "continuousHeight": 300,
         "continuousWidth": 300
        }
       },
       "data": {
        "format": {
         "type": "json"
        },
        "url": "altair-data-68feb00856f2cd72cd4ed8c38013f951.json"
       },
       "encoding": {
        "color": {
         "field": "key",
         "title": "Surface temperature",
         "type": "nominal"
        },
        "x": {
         "field": "time",
         "type": "temporal"
        },
        "y": {
         "field": "value",
         "title": "de/dz",
         "type": "quantitative"
        }
       },
       "height": 200,
       "mark": {
        "type": "line"
       },
       "title": [
        "measured Tₛ (Tower C apogee) and",
        "Tₛ estimated as 2m dewpoint temp. "
       ],
       "transform": [
        {
         "fold": [
          "Estimate from 2m T_d",
          "Apogee tower c"
         ]
        }
       ],
       "width": 200
      },
      "text/plain": [
       "<VegaLite 5 object>\n",
       "\n",
       "If you see this message, it means the renderer has not been properly enabled\n",
       "for the frontend that you are using. For more information, see\n",
       "https://altair-viz.github.io/user_guide/display_frontends.html#troubleshooting\n"
      ]
     },
     "execution_count": 35,
     "metadata": {},
     "output_type": "execute_result"
    }
   ],
   "source": [
    "vars = ['Estimate from 2m T_d', 'Apogee tower c']\n",
    "plot_dedz_tempestimate_sensitivity = alt.Chart(\n",
    "    src\n",
    ").transform_fold(\n",
    "    vars\n",
    ").mark_line().encode(\n",
    "    alt.X(\"time:T\"),\n",
    "    alt.Y(\"value:Q\").title('de/dz'),\n",
    "    alt.Color(\"key:N\").title(\"Surface temperature\")\n",
    ").properties(\n",
    "    title = [\n",
    "        'measured Tₛ (Tower C apogee) and',\n",
    "        'Tₛ estimated as 2m dewpoint temp. '\n",
    "    ],\n",
    "    height = 200,\n",
    "    width = 200\n",
    ")\n",
    "plot_dedz_tempestimate_sensitivity"
   ]
  },
  {
   "cell_type": "code",
   "execution_count": 36,
   "metadata": {},
   "outputs": [
    {
     "data": {
      "application/vnd.vegalite.v5+json": {
       "$schema": "https://vega.github.io/schema/vega-lite/v5.16.3.json",
       "config": {
        "legend": {
         "columns": 2,
         "orient": "top"
        },
        "view": {
         "continuousHeight": 300,
         "continuousWidth": 300
        }
       },
       "hconcat": [
        {
         "data": {
          "format": {
           "type": "json"
          },
          "url": "altair-data-83b7c1fbd83a7d241cc7fdb72f782c59.json"
         },
         "encoding": {
          "color": {
           "field": "key",
           "title": "e_sat curve",
           "type": "nominal"
          },
          "x": {
           "field": "time",
           "type": "temporal"
          },
          "y": {
           "field": "value",
           "title": "de/dz",
           "type": "quantitative"
          }
         },
         "height": 200,
         "mark": {
          "type": "line"
         },
         "title": [
          "different e_sat curves (Tₛ from",
          "Tower C Apogee infrared sensor)"
         ],
         "transform": [
          {
           "fold": [
            "Feld",
            "Metpy",
            "Alduchov"
           ]
          }
         ],
         "width": 200
        },
        {
         "data": {
          "format": {
           "type": "json"
          },
          "url": "altair-data-8c0c5a36d7a8e99ba82c5b5ca10632b5.json"
         },
         "encoding": {
          "color": {
           "field": "key",
           "title": "Temperature measurement",
           "type": "nominal"
          },
          "x": {
           "field": "time",
           "type": "temporal"
          },
          "y": {
           "field": "value",
           "title": "de/dz",
           "type": "quantitative"
          }
         },
         "height": 200,
         "mark": {
          "type": "line"
         },
         "title": [
          "different Tₛ measurements",
          "(using the MetPy e_sat curve)"
         ],
         "transform": [
          {
           "fold": [
            "Apogee tower c",
            "Apogee tower d",
            "Radiometer tower d",
            "Apogee tower ue",
            "Apogee tower uw"
           ]
          }
         ],
         "width": 200
        },
        {
         "data": {
          "format": {
           "type": "json"
          },
          "url": "altair-data-68feb00856f2cd72cd4ed8c38013f951.json"
         },
         "encoding": {
          "color": {
           "field": "key",
           "title": "Surface temperature",
           "type": "nominal"
          },
          "x": {
           "field": "time",
           "type": "temporal"
          },
          "y": {
           "field": "value",
           "title": "de/dz",
           "type": "quantitative"
          }
         },
         "height": 200,
         "mark": {
          "type": "line"
         },
         "title": [
          "measured Tₛ (Tower C apogee) and",
          "Tₛ estimated as 2m dewpoint temp. "
         ],
         "transform": [
          {
           "fold": [
            "Estimate from 2m T_d",
            "Apogee tower c"
           ]
          }
         ],
         "width": 200
        }
       ],
       "resolve": {
        "scale": {
         "color": "independent",
         "x": "shared",
         "y": "shared"
        }
       },
       "title": "de/dz calculated using..."
      },
      "text/plain": [
       "<VegaLite 5 object>\n",
       "\n",
       "If you see this message, it means the renderer has not been properly enabled\n",
       "for the frontend that you are using. For more information, see\n",
       "https://altair-viz.github.io/user_guide/display_frontends.html#troubleshooting\n"
      ]
     },
     "execution_count": 36,
     "metadata": {},
     "output_type": "execute_result"
    }
   ],
   "source": [
    "(plot_dedz_satvappresscurve_sensitivity | plot_dedz_surftempmeasurement_sensitivity | plot_dedz_tempestimate_sensitivity).resolve_scale(\n",
    "    y = 'shared', x = 'shared', color='independent'\n",
    "\n",
    ").configure_legend(orient = 'top', columns = 2).properties(title='de/dz calculated using...')"
   ]
  },
  {
   "cell_type": "code",
   "execution_count": 37,
   "metadata": {},
   "outputs": [
    {
     "data": {
      "text/html": [
       "<div>\n",
       "<style scoped>\n",
       "    .dataframe tbody tr th:only-of-type {\n",
       "        vertical-align: middle;\n",
       "    }\n",
       "\n",
       "    .dataframe tbody tr th {\n",
       "        vertical-align: top;\n",
       "    }\n",
       "\n",
       "    .dataframe thead th {\n",
       "        text-align: right;\n",
       "    }\n",
       "</style>\n",
       "<table border=\"1\" class=\"dataframe\">\n",
       "  <thead>\n",
       "    <tr style=\"text-align: right;\">\n",
       "      <th>variable</th>\n",
       "      <th>time</th>\n",
       "      <th>Tsurf_c</th>\n",
       "      <th>Tsurf_d</th>\n",
       "      <th>Tsurf_rad_d</th>\n",
       "      <th>w_h2o__3m_c</th>\n",
       "    </tr>\n",
       "  </thead>\n",
       "  <tbody>\n",
       "    <tr>\n",
       "      <th>0</th>\n",
       "      <td>2022-11-29 17:00:00</td>\n",
       "      <td>-12.455597</td>\n",
       "      <td>-17.276354</td>\n",
       "      <td>-16.073145</td>\n",
       "      <td>0.001584</td>\n",
       "    </tr>\n",
       "    <tr>\n",
       "      <th>1</th>\n",
       "      <td>2022-11-29 17:30:00</td>\n",
       "      <td>-12.947398</td>\n",
       "      <td>-20.574796</td>\n",
       "      <td>-18.897799</td>\n",
       "      <td>0.001530</td>\n",
       "    </tr>\n",
       "    <tr>\n",
       "      <th>2</th>\n",
       "      <td>2022-11-29 18:00:00</td>\n",
       "      <td>-13.572779</td>\n",
       "      <td>-22.113767</td>\n",
       "      <td>-20.045730</td>\n",
       "      <td>-0.000297</td>\n",
       "    </tr>\n",
       "    <tr>\n",
       "      <th>3</th>\n",
       "      <td>2022-11-29 18:30:00</td>\n",
       "      <td>-15.405741</td>\n",
       "      <td>-24.875415</td>\n",
       "      <td>-22.366542</td>\n",
       "      <td>0.000404</td>\n",
       "    </tr>\n",
       "    <tr>\n",
       "      <th>4</th>\n",
       "      <td>2022-11-29 19:00:00</td>\n",
       "      <td>-16.812970</td>\n",
       "      <td>-26.289617</td>\n",
       "      <td>-23.935929</td>\n",
       "      <td>-0.000359</td>\n",
       "    </tr>\n",
       "    <tr>\n",
       "      <th>...</th>\n",
       "      <td>...</td>\n",
       "      <td>...</td>\n",
       "      <td>...</td>\n",
       "      <td>...</td>\n",
       "      <td>...</td>\n",
       "    </tr>\n",
       "    <tr>\n",
       "      <th>7978</th>\n",
       "      <td>2023-05-17 15:30:00</td>\n",
       "      <td>20.356776</td>\n",
       "      <td>10.833445</td>\n",
       "      <td>NaN</td>\n",
       "      <td>0.033596</td>\n",
       "    </tr>\n",
       "    <tr>\n",
       "      <th>7979</th>\n",
       "      <td>2023-05-17 16:00:00</td>\n",
       "      <td>18.503993</td>\n",
       "      <td>10.230871</td>\n",
       "      <td>NaN</td>\n",
       "      <td>0.029292</td>\n",
       "    </tr>\n",
       "    <tr>\n",
       "      <th>7980</th>\n",
       "      <td>2023-05-17 16:30:00</td>\n",
       "      <td>17.582565</td>\n",
       "      <td>10.123525</td>\n",
       "      <td>NaN</td>\n",
       "      <td>0.025573</td>\n",
       "    </tr>\n",
       "    <tr>\n",
       "      <th>7981</th>\n",
       "      <td>2023-05-17 17:00:00</td>\n",
       "      <td>14.877563</td>\n",
       "      <td>8.880585</td>\n",
       "      <td>NaN</td>\n",
       "      <td>0.025568</td>\n",
       "    </tr>\n",
       "    <tr>\n",
       "      <th>7982</th>\n",
       "      <td>2023-05-17 17:30:00</td>\n",
       "      <td>13.354996</td>\n",
       "      <td>8.508626</td>\n",
       "      <td>NaN</td>\n",
       "      <td>0.031778</td>\n",
       "    </tr>\n",
       "  </tbody>\n",
       "</table>\n",
       "<p>7983 rows × 5 columns</p>\n",
       "</div>"
      ],
      "text/plain": [
       "variable                time    Tsurf_c    Tsurf_d  Tsurf_rad_d  w_h2o__3m_c\n",
       "0        2022-11-29 17:00:00 -12.455597 -17.276354   -16.073145     0.001584\n",
       "1        2022-11-29 17:30:00 -12.947398 -20.574796   -18.897799     0.001530\n",
       "2        2022-11-29 18:00:00 -13.572779 -22.113767   -20.045730    -0.000297\n",
       "3        2022-11-29 18:30:00 -15.405741 -24.875415   -22.366542     0.000404\n",
       "4        2022-11-29 19:00:00 -16.812970 -26.289617   -23.935929    -0.000359\n",
       "...                      ...        ...        ...          ...          ...\n",
       "7978     2023-05-17 15:30:00  20.356776  10.833445          NaN     0.033596\n",
       "7979     2023-05-17 16:00:00  18.503993  10.230871          NaN     0.029292\n",
       "7980     2023-05-17 16:30:00  17.582565  10.123525          NaN     0.025573\n",
       "7981     2023-05-17 17:00:00  14.877563   8.880585          NaN     0.025568\n",
       "7982     2023-05-17 17:30:00  13.354996   8.508626          NaN     0.031778\n",
       "\n",
       "[7983 rows x 5 columns]"
      ]
     },
     "execution_count": 37,
     "metadata": {},
     "output_type": "execute_result"
    }
   ],
   "source": [
    "src = tidy_df_30Min[\n",
    "    tidy_df_30Min.variable.isin([\n",
    "        'Tsurf_c',\n",
    "        'Tsurf_d',\n",
    "        'Tsurf_rad_d',\n",
    "        'w_h2o__3m_c',\n",
    "        'w_h2o__3m_c predicted (turbpy MO Webb NoahMP andreas lengths 0.0001)',\n",
    "    ])\n",
    "].pivot_table(\n",
    "    values = 'value',\n",
    "    index = 'time',\n",
    "    columns='variable'\n",
    ").reset_index().rename(columns={\n",
    "    'w_h2o__3m_c predicted (turbpy MO Webb NoahMP andreas lengths 0.0001)':  'w_h2o__3m_c predicted'\n",
    "})\n",
    "src"
   ]
  },
  {
   "cell_type": "code",
   "execution_count": 38,
   "metadata": {},
   "outputs": [
    {
     "data": {
      "application/vnd.vegalite.v5+json": {
       "$schema": "https://vega.github.io/schema/vega-lite/v5.16.3.json",
       "config": {
        "view": {
         "continuousHeight": 300,
         "continuousWidth": 300
        }
       },
       "layer": [
        {
         "data": {
          "format": {
           "type": "json"
          },
          "url": "altair-data-019d52768a127bfeda139b1d11d6d1d9.json"
         },
         "encoding": {
          "x": {
           "field": "x",
           "type": "quantitative"
          },
          "y": {
           "field": "y",
           "type": "quantitative"
          }
         },
         "mark": {
          "color": "grey",
          "type": "line"
         }
        },
        {
         "data": {
          "format": {
           "type": "json"
          },
          "url": "altair-data-08dfd351cc99c09fbd2afe4e588788b9.json"
         },
         "encoding": {
          "x": {
           "field": "Tsurf_d",
           "scale": {
            "domain": [
             -35,
             20
            ]
           },
           "title": "Apogee T_s, tower d",
           "type": "quantitative"
          },
          "y": {
           "field": "Tsurf_c",
           "scale": {
            "domain": [
             -35,
             20
            ]
           },
           "title": "Apogee T_s, tower c",
           "type": "quantitative"
          }
         },
         "mark": {
          "size": 25,
          "type": "circle"
         }
        }
       ]
      },
      "text/plain": [
       "<VegaLite 5 object>\n",
       "\n",
       "If you see this message, it means the renderer has not been properly enabled\n",
       "for the frontend that you are using. For more information, see\n",
       "https://altair-viz.github.io/user_guide/display_frontends.html#troubleshooting\n"
      ]
     },
     "metadata": {
      "application/vnd.vegalite.v5+json": {
       "embed_options": {
        "renderer": "svg"
       }
      }
     },
     "output_type": "display_data"
    }
   ],
   "source": [
    "(alt.Chart(\n",
    "    pd.DataFrame({'x':[-35,20], 'y':[-35,20]})\n",
    ").mark_line(color='grey').encode(x='x',y='y') + \\\n",
    "alt.Chart(src).mark_circle(size=25).encode(\n",
    "    alt.X(\"Tsurf_d\").scale(domain = [-35,20]).title(\"Apogee T_s, tower d\"),\n",
    "    alt.Y(\"Tsurf_c\").scale(domain = [-35,20]).title(\"Apogee T_s, tower c\"),\n",
    ")).display(renderer='svg')"
   ]
  },
  {
   "cell_type": "code",
   "execution_count": 39,
   "metadata": {},
   "outputs": [
    {
     "data": {
      "text/plain": [
       "(-24.442097981770836,\n",
       " 83.24425252278645,\n",
       " -0.5298368459555137,\n",
       " 0.015752156575520093)"
      ]
     },
     "execution_count": 39,
     "metadata": {},
     "output_type": "execute_result"
    }
   ],
   "source": [
    "src['temp error'] = src['Tsurf_d'] - src['Tsurf_c']\n",
    "src['temp error'].min(), src['temp error'].max(), src['temp error'].mean(), src['temp error'].median()"
   ]
  },
  {
   "cell_type": "code",
   "execution_count": 40,
   "metadata": {},
   "outputs": [
    {
     "data": {
      "application/vnd.vegalite.v5+json": {
       "$schema": "https://vega.github.io/schema/vega-lite/v5.16.3.json",
       "config": {
        "view": {
         "continuousHeight": 300,
         "continuousWidth": 300
        }
       },
       "data": {
        "format": {
         "type": "json"
        },
        "url": "altair-data-83fc4e5839b60f8f4c7d403158ef3340.json"
       },
       "encoding": {
        "x": {
         "bin": {
          "maxbins": 75
         },
         "field": "temp error",
         "title": "(Apogee surface temp) − (Radiometer surface temp)",
         "type": "quantitative"
        },
        "y": {
         "aggregate": "count",
         "type": "quantitative"
        }
       },
       "mark": {
        "type": "bar"
       }
      },
      "text/plain": [
       "<VegaLite 5 object>\n",
       "\n",
       "If you see this message, it means the renderer has not been properly enabled\n",
       "for the frontend that you are using. For more information, see\n",
       "https://altair-viz.github.io/user_guide/display_frontends.html#troubleshooting\n"
      ]
     },
     "metadata": {
      "application/vnd.vegalite.v5+json": {
       "embed_options": {
        "renderer": "svg"
       }
      }
     },
     "output_type": "display_data"
    }
   ],
   "source": [
    "alt.Chart(src[src['temp error'] < 80]).mark_bar().encode(\n",
    "    alt.X(\"temp error:Q\").bin(maxbins = 75).title('(Apogee surface temp) − (Radiometer surface temp)'),\n",
    "    alt.Y(\"count():Q\"),\n",
    ").display(renderer='svg')"
   ]
  },
  {
   "cell_type": "code",
   "execution_count": 41,
   "metadata": {},
   "outputs": [
    {
     "data": {
      "application/vnd.vegalite.v5+json": {
       "$schema": "https://vega.github.io/schema/vega-lite/v5.16.3.json",
       "config": {
        "view": {
         "continuousHeight": 300,
         "continuousWidth": 300
        }
       },
       "layer": [
        {
         "data": {
          "format": {
           "type": "json"
          },
          "url": "altair-data-929ee5d8642914c0df3eabedc4729756.json"
         },
         "encoding": {
          "x": {
           "field": "x",
           "type": "quantitative"
          },
          "y": {
           "field": "y",
           "type": "quantitative"
          }
         },
         "mark": {
          "color": "grey",
          "type": "line"
         }
        },
        {
         "data": {
          "format": {
           "type": "json"
          },
          "url": "altair-data-a489f497c94ae5681064bf09a43816b0.json"
         },
         "encoding": {
          "x": {
           "field": "Tsurf_d",
           "scale": {
            "domain": [
             -35,
             5
            ]
           },
           "title": "Apogee surface temp",
           "type": "quantitative"
          },
          "y": {
           "field": "Tsurf_rad_d",
           "scale": {
            "domain": [
             -35,
             5
            ]
           },
           "title": "Radiometer surface temp",
           "type": "quantitative"
          }
         },
         "mark": {
          "size": 25,
          "type": "circle"
         }
        }
       ]
      },
      "text/plain": [
       "<VegaLite 5 object>\n",
       "\n",
       "If you see this message, it means the renderer has not been properly enabled\n",
       "for the frontend that you are using. For more information, see\n",
       "https://altair-viz.github.io/user_guide/display_frontends.html#troubleshooting\n"
      ]
     },
     "metadata": {
      "application/vnd.vegalite.v5+json": {
       "embed_options": {
        "renderer": "svg"
       }
      }
     },
     "output_type": "display_data"
    }
   ],
   "source": [
    "(alt.Chart(\n",
    "    pd.DataFrame({'x':[-35,5], 'y':[-35,5]})\n",
    ").mark_line(color='grey').encode(x='x',y='y') + \\\n",
    "alt.Chart(src).mark_circle(size=25).encode(\n",
    "    alt.X(\"Tsurf_d\").scale(domain = [-35,5]).title(\"Apogee surface temp\"),\n",
    "    alt.Y(\"Tsurf_rad_d\").scale(domain = [-35,5]).title(\"Radiometer surface temp\")\n",
    ")).display(renderer='svg')"
   ]
  },
  {
   "cell_type": "code",
   "execution_count": 42,
   "metadata": {},
   "outputs": [
    {
     "data": {
      "text/html": [
       "<div>\n",
       "<style scoped>\n",
       "    .dataframe tbody tr th:only-of-type {\n",
       "        vertical-align: middle;\n",
       "    }\n",
       "\n",
       "    .dataframe tbody tr th {\n",
       "        vertical-align: top;\n",
       "    }\n",
       "\n",
       "    .dataframe thead th {\n",
       "        text-align: right;\n",
       "    }\n",
       "</style>\n",
       "<table border=\"1\" class=\"dataframe\">\n",
       "  <thead>\n",
       "    <tr style=\"text-align: right;\">\n",
       "      <th>variable</th>\n",
       "      <th>time</th>\n",
       "      <th>Tsurf_c</th>\n",
       "      <th>Tsurf_d</th>\n",
       "      <th>Tsurf_rad_d</th>\n",
       "      <th>w_h2o__3m_c</th>\n",
       "      <th>temp error</th>\n",
       "    </tr>\n",
       "  </thead>\n",
       "  <tbody>\n",
       "    <tr>\n",
       "      <th>0</th>\n",
       "      <td>2022-11-29 17:00:00</td>\n",
       "      <td>-12.455597</td>\n",
       "      <td>-17.276354</td>\n",
       "      <td>-16.073145</td>\n",
       "      <td>0.001584</td>\n",
       "      <td>-4.820758</td>\n",
       "    </tr>\n",
       "    <tr>\n",
       "      <th>1</th>\n",
       "      <td>2022-11-29 17:30:00</td>\n",
       "      <td>-12.947398</td>\n",
       "      <td>-20.574796</td>\n",
       "      <td>-18.897799</td>\n",
       "      <td>0.001530</td>\n",
       "      <td>-7.627398</td>\n",
       "    </tr>\n",
       "    <tr>\n",
       "      <th>2</th>\n",
       "      <td>2022-11-29 18:00:00</td>\n",
       "      <td>-13.572779</td>\n",
       "      <td>-22.113767</td>\n",
       "      <td>-20.045730</td>\n",
       "      <td>-0.000297</td>\n",
       "      <td>-8.540988</td>\n",
       "    </tr>\n",
       "    <tr>\n",
       "      <th>3</th>\n",
       "      <td>2022-11-29 18:30:00</td>\n",
       "      <td>-15.405741</td>\n",
       "      <td>-24.875415</td>\n",
       "      <td>-22.366542</td>\n",
       "      <td>0.000404</td>\n",
       "      <td>-9.469673</td>\n",
       "    </tr>\n",
       "    <tr>\n",
       "      <th>4</th>\n",
       "      <td>2022-11-29 19:00:00</td>\n",
       "      <td>-16.812970</td>\n",
       "      <td>-26.289617</td>\n",
       "      <td>-23.935929</td>\n",
       "      <td>-0.000359</td>\n",
       "      <td>-9.476646</td>\n",
       "    </tr>\n",
       "    <tr>\n",
       "      <th>...</th>\n",
       "      <td>...</td>\n",
       "      <td>...</td>\n",
       "      <td>...</td>\n",
       "      <td>...</td>\n",
       "      <td>...</td>\n",
       "      <td>...</td>\n",
       "    </tr>\n",
       "    <tr>\n",
       "      <th>7978</th>\n",
       "      <td>2023-05-17 15:30:00</td>\n",
       "      <td>20.356776</td>\n",
       "      <td>10.833445</td>\n",
       "      <td>NaN</td>\n",
       "      <td>0.033596</td>\n",
       "      <td>-9.523331</td>\n",
       "    </tr>\n",
       "    <tr>\n",
       "      <th>7979</th>\n",
       "      <td>2023-05-17 16:00:00</td>\n",
       "      <td>18.503993</td>\n",
       "      <td>10.230871</td>\n",
       "      <td>NaN</td>\n",
       "      <td>0.029292</td>\n",
       "      <td>-8.273122</td>\n",
       "    </tr>\n",
       "    <tr>\n",
       "      <th>7980</th>\n",
       "      <td>2023-05-17 16:30:00</td>\n",
       "      <td>17.582565</td>\n",
       "      <td>10.123525</td>\n",
       "      <td>NaN</td>\n",
       "      <td>0.025573</td>\n",
       "      <td>-7.459040</td>\n",
       "    </tr>\n",
       "    <tr>\n",
       "      <th>7981</th>\n",
       "      <td>2023-05-17 17:00:00</td>\n",
       "      <td>14.877563</td>\n",
       "      <td>8.880585</td>\n",
       "      <td>NaN</td>\n",
       "      <td>0.025568</td>\n",
       "      <td>-5.996979</td>\n",
       "    </tr>\n",
       "    <tr>\n",
       "      <th>7982</th>\n",
       "      <td>2023-05-17 17:30:00</td>\n",
       "      <td>13.354996</td>\n",
       "      <td>8.508626</td>\n",
       "      <td>NaN</td>\n",
       "      <td>0.031778</td>\n",
       "      <td>-4.846369</td>\n",
       "    </tr>\n",
       "  </tbody>\n",
       "</table>\n",
       "<p>7983 rows × 6 columns</p>\n",
       "</div>"
      ],
      "text/plain": [
       "variable                time    Tsurf_c    Tsurf_d  Tsurf_rad_d  w_h2o__3m_c  \\\n",
       "0        2022-11-29 17:00:00 -12.455597 -17.276354   -16.073145     0.001584   \n",
       "1        2022-11-29 17:30:00 -12.947398 -20.574796   -18.897799     0.001530   \n",
       "2        2022-11-29 18:00:00 -13.572779 -22.113767   -20.045730    -0.000297   \n",
       "3        2022-11-29 18:30:00 -15.405741 -24.875415   -22.366542     0.000404   \n",
       "4        2022-11-29 19:00:00 -16.812970 -26.289617   -23.935929    -0.000359   \n",
       "...                      ...        ...        ...          ...          ...   \n",
       "7978     2023-05-17 15:30:00  20.356776  10.833445          NaN     0.033596   \n",
       "7979     2023-05-17 16:00:00  18.503993  10.230871          NaN     0.029292   \n",
       "7980     2023-05-17 16:30:00  17.582565  10.123525          NaN     0.025573   \n",
       "7981     2023-05-17 17:00:00  14.877563   8.880585          NaN     0.025568   \n",
       "7982     2023-05-17 17:30:00  13.354996   8.508626          NaN     0.031778   \n",
       "\n",
       "variable  temp error  \n",
       "0          -4.820758  \n",
       "1          -7.627398  \n",
       "2          -8.540988  \n",
       "3          -9.469673  \n",
       "4          -9.476646  \n",
       "...              ...  \n",
       "7978       -9.523331  \n",
       "7979       -8.273122  \n",
       "7980       -7.459040  \n",
       "7981       -5.996979  \n",
       "7982       -4.846369  \n",
       "\n",
       "[7983 rows x 6 columns]"
      ]
     },
     "execution_count": 42,
     "metadata": {},
     "output_type": "execute_result"
    }
   ],
   "source": [
    "src"
   ]
  },
  {
   "cell_type": "code",
   "execution_count": 43,
   "metadata": {},
   "outputs": [
    {
     "data": {
      "application/vnd.vegalite.v5+json": {
       "$schema": "https://vega.github.io/schema/vega-lite/v5.16.3.json",
       "config": {
        "view": {
         "continuousHeight": 300,
         "continuousWidth": 300
        }
       },
       "data": {
        "format": {
         "type": "json"
        },
        "url": "altair-data-4f51ef72b475bcf62e31a8166b82b424.json"
       },
       "encoding": {
        "tooltip": {
         "field": "time",
         "type": "temporal"
        },
        "x": {
         "field": "Tsurf_d",
         "scale": {
          "domain": [
           -35,
           5
          ]
         },
         "title": "Apogee surface temp",
         "type": "quantitative"
        },
        "y": {
         "field": "Tsurf_rad_d",
         "scale": {
          "domain": [
           -35,
           5
          ]
         },
         "title": "Radiometer surface temp",
         "type": "quantitative"
        }
       },
       "mark": {
        "size": 25,
        "type": "circle"
       }
      },
      "text/plain": [
       "<VegaLite 5 object>\n",
       "\n",
       "If you see this message, it means the renderer has not been properly enabled\n",
       "for the frontend that you are using. For more information, see\n",
       "https://altair-viz.github.io/user_guide/display_frontends.html#troubleshooting\n"
      ]
     },
     "execution_count": 43,
     "metadata": {},
     "output_type": "execute_result"
    }
   ],
   "source": [
    "alt.Chart(src[src['time'] != '2023-01-22 14:00:00']).mark_circle(size=25).encode(\n",
    "    alt.X(\"Tsurf_d\").scale(domain = [-35,5]).title(\"Apogee surface temp\"),\n",
    "    alt.Y(\"Tsurf_rad_d\").scale(domain = [-35,5]).title(\"Radiometer surface temp\"),\n",
    "    tooltip = 'time'\n",
    ")"
   ]
  },
  {
   "cell_type": "code",
   "execution_count": 44,
   "metadata": {},
   "outputs": [
    {
     "data": {
      "application/vnd.vegalite.v5+json": {
       "$schema": "https://vega.github.io/schema/vega-lite/v5.16.3.json",
       "config": {
        "view": {
         "continuousHeight": 300,
         "continuousWidth": 300
        }
       },
       "layer": [
        {
         "data": {
          "format": {
           "type": "json"
          },
          "url": "altair-data-929ee5d8642914c0df3eabedc4729756.json"
         },
         "encoding": {
          "x": {
           "field": "x",
           "type": "quantitative"
          },
          "y": {
           "field": "y",
           "type": "quantitative"
          }
         },
         "mark": {
          "color": "grey",
          "type": "line"
         }
        },
        {
         "data": {
          "format": {
           "type": "json"
          },
          "url": "altair-data-4f51ef72b475bcf62e31a8166b82b424.json"
         },
         "encoding": {
          "x": {
           "field": "Tsurf_d",
           "scale": {
            "domain": [
             -35,
             5
            ]
           },
           "title": "Apogee surface temp",
           "type": "quantitative"
          },
          "y": {
           "field": "Tsurf_rad_d",
           "scale": {
            "domain": [
             -35,
             5
            ]
           },
           "title": "Radiometer surface temp",
           "type": "quantitative"
          }
         },
         "mark": {
          "opacity": 0.25,
          "size": 25,
          "type": "circle"
         }
        }
       ]
      },
      "text/plain": [
       "<VegaLite 5 object>\n",
       "\n",
       "If you see this message, it means the renderer has not been properly enabled\n",
       "for the frontend that you are using. For more information, see\n",
       "https://altair-viz.github.io/user_guide/display_frontends.html#troubleshooting\n"
      ]
     },
     "metadata": {
      "application/vnd.vegalite.v5+json": {
       "embed_options": {
        "renderer": "svg"
       }
      }
     },
     "output_type": "display_data"
    }
   ],
   "source": [
    "(alt.Chart(\n",
    "    pd.DataFrame({'x':[-35,5], 'y':[-35,5]})\n",
    ").mark_line(color='grey').encode(x='x',y='y') + \\\n",
    "alt.Chart(src[src['time'] != '2023-01-22 14:00:00']).mark_circle(size=25, opacity=0.25).encode(\n",
    "    alt.X(\"Tsurf_d\").scale(domain = [-35,5]).title(\"Apogee surface temp\"),\n",
    "    alt.Y(\"Tsurf_rad_d\").scale(domain = [-35,5]).title(\"Radiometer surface temp\")\n",
    ")).display(renderer='svg')"
   ]
  },
  {
   "cell_type": "code",
   "execution_count": 45,
   "metadata": {},
   "outputs": [
    {
     "data": {
      "text/plain": [
       "(-5.017519643991401,\n",
       " 82.26259373855385,\n",
       " -1.2633016527359933,\n",
       " -1.1754148034497787)"
      ]
     },
     "execution_count": 45,
     "metadata": {},
     "output_type": "execute_result"
    }
   ],
   "source": [
    "src['temp error'] = src['Tsurf_d'] - src['Tsurf_rad_d']\n",
    "src['temp error'].min(), src['temp error'].max(), src['temp error'].mean(), src['temp error'].median()"
   ]
  },
  {
   "cell_type": "code",
   "execution_count": 46,
   "metadata": {},
   "outputs": [
    {
     "data": {
      "application/vnd.vegalite.v5+json": {
       "$schema": "https://vega.github.io/schema/vega-lite/v5.16.3.json",
       "config": {
        "view": {
         "continuousHeight": 300,
         "continuousWidth": 300
        }
       },
       "data": {
        "format": {
         "type": "json"
        },
        "url": "altair-data-22d763ed1e07bd5da3d7748af6b0e7af.json"
       },
       "encoding": {
        "x": {
         "bin": {
          "maxbins": 75
         },
         "field": "temp error",
         "title": "(Apogee surface temp) − (Radiometer surface temp)",
         "type": "quantitative"
        },
        "y": {
         "aggregate": "count",
         "type": "quantitative"
        }
       },
       "mark": {
        "type": "bar"
       }
      },
      "text/plain": [
       "<VegaLite 5 object>\n",
       "\n",
       "If you see this message, it means the renderer has not been properly enabled\n",
       "for the frontend that you are using. For more information, see\n",
       "https://altair-viz.github.io/user_guide/display_frontends.html#troubleshooting\n"
      ]
     },
     "metadata": {
      "application/vnd.vegalite.v5+json": {
       "embed_options": {
        "renderer": "svg"
       }
      }
     },
     "output_type": "display_data"
    }
   ],
   "source": [
    "alt.Chart(src[src['temp error'] < 80]).mark_bar().encode(\n",
    "    alt.X(\"temp error:Q\").bin(maxbins = 75).title('(Apogee surface temp) − (Radiometer surface temp)'),\n",
    "    alt.Y(\"count():Q\"),\n",
    ").display(renderer='svg')"
   ]
  },
  {
   "cell_type": "code",
   "execution_count": 47,
   "metadata": {},
   "outputs": [],
   "source": [
    "src['time_no_date'] = src.time.apply(lambda dt: dt.replace(year = 2000, month = 1, day = 1))"
   ]
  },
  {
   "cell_type": "code",
   "execution_count": 48,
   "metadata": {},
   "outputs": [
    {
     "data": {
      "text/html": [
       "<div>\n",
       "<style scoped>\n",
       "    .dataframe tbody tr th:only-of-type {\n",
       "        vertical-align: middle;\n",
       "    }\n",
       "\n",
       "    .dataframe tbody tr th {\n",
       "        vertical-align: top;\n",
       "    }\n",
       "\n",
       "    .dataframe thead th {\n",
       "        text-align: right;\n",
       "    }\n",
       "</style>\n",
       "<table border=\"1\" class=\"dataframe\">\n",
       "  <thead>\n",
       "    <tr style=\"text-align: right;\">\n",
       "      <th>variable</th>\n",
       "      <th>time</th>\n",
       "      <th>Tsurf_c</th>\n",
       "      <th>Tsurf_d</th>\n",
       "      <th>Tsurf_rad_d</th>\n",
       "      <th>w_h2o__3m_c</th>\n",
       "      <th>temp error</th>\n",
       "    </tr>\n",
       "    <tr>\n",
       "      <th>time_no_date</th>\n",
       "      <th></th>\n",
       "      <th></th>\n",
       "      <th></th>\n",
       "      <th></th>\n",
       "      <th></th>\n",
       "      <th></th>\n",
       "    </tr>\n",
       "  </thead>\n",
       "  <tbody>\n",
       "    <tr>\n",
       "      <th>2000-01-01 00:00:00</th>\n",
       "      <td>2023-02-21 04:20:14.457831</td>\n",
       "      <td>-11.517266</td>\n",
       "      <td>-12.015969</td>\n",
       "      <td>-11.165547</td>\n",
       "      <td>0.001345</td>\n",
       "      <td>-1.309775</td>\n",
       "    </tr>\n",
       "    <tr>\n",
       "      <th>2000-01-01 00:30:00</th>\n",
       "      <td>2023-02-21 04:50:14.457831</td>\n",
       "      <td>-11.809854</td>\n",
       "      <td>-12.360225</td>\n",
       "      <td>-11.519042</td>\n",
       "      <td>0.001061</td>\n",
       "      <td>-1.310237</td>\n",
       "    </tr>\n",
       "    <tr>\n",
       "      <th>2000-01-01 01:00:00</th>\n",
       "      <td>2023-02-21 05:20:14.457831</td>\n",
       "      <td>-11.888932</td>\n",
       "      <td>-12.433581</td>\n",
       "      <td>-11.598869</td>\n",
       "      <td>0.000542</td>\n",
       "      <td>-1.298923</td>\n",
       "    </tr>\n",
       "    <tr>\n",
       "      <th>2000-01-01 01:30:00</th>\n",
       "      <td>2023-02-21 05:50:14.457831</td>\n",
       "      <td>-12.060261</td>\n",
       "      <td>-12.663656</td>\n",
       "      <td>-11.816029</td>\n",
       "      <td>0.001048</td>\n",
       "      <td>-1.315334</td>\n",
       "    </tr>\n",
       "    <tr>\n",
       "      <th>2000-01-01 02:00:00</th>\n",
       "      <td>2023-02-21 03:36:00.000000</td>\n",
       "      <td>-12.181380</td>\n",
       "      <td>-12.789384</td>\n",
       "      <td>-11.964027</td>\n",
       "      <td>0.001259</td>\n",
       "      <td>-1.295495</td>\n",
       "    </tr>\n",
       "  </tbody>\n",
       "</table>\n",
       "</div>"
      ],
      "text/plain": [
       "variable                                  time    Tsurf_c    Tsurf_d  \\\n",
       "time_no_date                                                           \n",
       "2000-01-01 00:00:00 2023-02-21 04:20:14.457831 -11.517266 -12.015969   \n",
       "2000-01-01 00:30:00 2023-02-21 04:50:14.457831 -11.809854 -12.360225   \n",
       "2000-01-01 01:00:00 2023-02-21 05:20:14.457831 -11.888932 -12.433581   \n",
       "2000-01-01 01:30:00 2023-02-21 05:50:14.457831 -12.060261 -12.663656   \n",
       "2000-01-01 02:00:00 2023-02-21 03:36:00.000000 -12.181380 -12.789384   \n",
       "\n",
       "variable             Tsurf_rad_d  w_h2o__3m_c  temp error  \n",
       "time_no_date                                               \n",
       "2000-01-01 00:00:00   -11.165547     0.001345   -1.309775  \n",
       "2000-01-01 00:30:00   -11.519042     0.001061   -1.310237  \n",
       "2000-01-01 01:00:00   -11.598869     0.000542   -1.298923  \n",
       "2000-01-01 01:30:00   -11.816029     0.001048   -1.315334  \n",
       "2000-01-01 02:00:00   -11.964027     0.001259   -1.295495  "
      ]
     },
     "execution_count": 48,
     "metadata": {},
     "output_type": "execute_result"
    }
   ],
   "source": [
    "daily_mean_src = src.groupby(\"time_no_date\").mean()\n",
    "daily_mean_src.head()"
   ]
  },
  {
   "cell_type": "code",
   "execution_count": 49,
   "metadata": {},
   "outputs": [
    {
     "data": {
      "application/vnd.vegalite.v5+json": {
       "$schema": "https://vega.github.io/schema/vega-lite/v5.16.3.json",
       "config": {
        "axis": {
         "grid": false
        },
        "view": {
         "continuousHeight": 300,
         "continuousWidth": 300
        }
       },
       "vconcat": [
        {
         "height": 200,
         "layer": [
          {
           "data": {
            "format": {
             "type": "json"
            },
            "url": "altair-data-f75db38e5c1c1556bf52705d0972d376.json"
           },
           "encoding": {
            "x": {
             "field": "x",
             "type": "quantitative"
            },
            "y": {
             "field": "y",
             "type": "quantitative"
            }
           },
           "mark": {
            "color": "grey",
            "type": "line"
           }
          },
          {
           "data": {
            "format": {
             "type": "json"
            },
            "url": "altair-data-7b4f87c21087a385bd720701243c148f.json"
           },
           "encoding": {
            "color": {
             "aggregate": "count",
             "type": "quantitative"
            },
            "x": {
             "bin": {
              "maxbins": 50
             },
             "field": "Tsurf_d",
             "title": "Apogee surface temp",
             "type": "quantitative"
            },
            "y": {
             "bin": {
              "maxbins": 50
             },
             "field": "Tsurf_rad_d",
             "title": "Radiometer surface temp",
             "type": "quantitative"
            }
           },
           "mark": {
            "type": "rect"
           }
          }
         ],
         "width": 200
        },
        {
         "data": {
          "format": {
           "type": "json"
          },
          "url": "altair-data-032e59d9c4884c339616d184a253730e.json"
         },
         "encoding": {
          "x": {
           "axis": {
            "format": "%H:%M"
           },
           "field": "time_no_date",
           "title": "time of day",
           "type": "temporal"
          },
          "y": {
           "field": "temp error",
           "title": [
            "(Apogee surface temp) −",
            "(Radiometer surface temp)"
           ],
           "type": "quantitative"
          }
         },
         "height": 100,
         "mark": {
          "type": "circle"
         },
         "width": 200
        }
       ]
      },
      "text/plain": [
       "<VegaLite 5 object>\n",
       "\n",
       "If you see this message, it means the renderer has not been properly enabled\n",
       "for the frontend that you are using. For more information, see\n",
       "https://altair-viz.github.io/user_guide/display_frontends.html#troubleshooting\n"
      ]
     },
     "metadata": {
      "application/vnd.vegalite.v5+json": {
       "embed_options": {
        "renderer": "svg"
       }
      }
     },
     "output_type": "display_data"
    }
   ],
   "source": [
    "(alt.Chart(\n",
    "    pd.DataFrame({'x':[-35,15], 'y':[-35,15]})\n",
    ").mark_line(color='grey').encode(x='x',y='y') + \\\n",
    "alt.Chart(src[src['time'] != '2023-01-22 14:00:00']).mark_rect().encode(\n",
    "    alt.X(\"Tsurf_d:Q\").bin(maxbins=50).title(\"Apogee surface temp\"),\n",
    "    alt.Y(\"Tsurf_rad_d:Q\").bin(maxbins=50).title(\"Radiometer surface temp\"),\n",
    "    alt.Color('count():Q')\n",
    ").properties(width=200, height = 200) &\n",
    "\n",
    "alt.Chart(daily_mean_src.reset_index()).mark_circle().encode(\n",
    "    alt.X(\"time_no_date:T\").axis(format=\"%H:%M\").title(\"time of day\"),\n",
    "    alt.Y(\"temp error:Q\").title(['(Apogee surface temp) −', '(Radiometer surface temp)'])\n",
    ").properties(width = 200, height = 100)).configure_axis(grid=False).display(renderer='svg')"
   ]
  },
  {
   "cell_type": "code",
   "execution_count": null,
   "metadata": {},
   "outputs": [],
   "source": []
  }
 ],
 "metadata": {
  "kernelspec": {
   "display_name": "arm",
   "language": "python",
   "name": "python3"
  },
  "language_info": {
   "codemirror_mode": {
    "name": "ipython",
    "version": 3
   },
   "file_extension": ".py",
   "mimetype": "text/x-python",
   "name": "python",
   "nbconvert_exporter": "python",
   "pygments_lexer": "ipython3",
   "version": "3.12.1"
  },
  "orig_nbformat": 4
 },
 "nbformat": 4,
 "nbformat_minor": 2
}
