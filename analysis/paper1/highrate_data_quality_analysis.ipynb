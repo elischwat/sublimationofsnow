{
 "cells": [
  {
   "cell_type": "code",
   "execution_count": 15,
   "metadata": {},
   "outputs": [],
   "source": [
    "import numpy as np\n",
    "import xarray as xr\n",
    "\n",
    "import datetime as dt\n",
    "import pandas as pd\n",
    "\n",
    "import matplotlib.pyplot as plt\n",
    "\n",
    "import altair as alt\n",
    "alt.data_transformers.enable('json')\n",
    "\n",
    "from sublimpy import utils\n",
    "from sublimpy import tidy\n",
    "from sublimpy import extrautils\n",
    "import glob"
   ]
  },
  {
   "cell_type": "code",
   "execution_count": 16,
   "metadata": {},
   "outputs": [
    {
     "data": {
      "text/plain": [
       "['/Users/elischwat/Development/data/sublimationofsnow/sosqc_fast/isfs_sos_qc_geo_tiltcor_hr_20221221_16.nc',\n",
       " '/Users/elischwat/Development/data/sublimationofsnow/sosqc_fast/isfs_sos_qc_geo_tiltcor_hr_20221221_17.nc',\n",
       " '/Users/elischwat/Development/data/sublimationofsnow/sosqc_fast/isfs_sos_qc_geo_tiltcor_hr_20221221_18.nc',\n",
       " '/Users/elischwat/Development/data/sublimationofsnow/sosqc_fast/isfs_sos_qc_geo_tiltcor_hr_20221221_19.nc',\n",
       " '/Users/elischwat/Development/data/sublimationofsnow/sosqc_fast/isfs_sos_qc_geo_tiltcor_hr_20221221_20.nc',\n",
       " '/Users/elischwat/Development/data/sublimationofsnow/sosqc_fast/isfs_sos_qc_geo_tiltcor_hr_20221221_21.nc',\n",
       " '/Users/elischwat/Development/data/sublimationofsnow/sosqc_fast/isfs_sos_qc_geo_tiltcor_hr_20221221_22.nc',\n",
       " '/Users/elischwat/Development/data/sublimationofsnow/sosqc_fast/isfs_sos_qc_geo_tiltcor_hr_20221221_23.nc']"
      ]
     },
     "execution_count": 16,
     "metadata": {},
     "output_type": "execute_result"
    }
   ],
   "source": [
    "file_list = glob.glob(\"/Users/elischwat/Development/data/sublimationofsnow/sosqc_fast/*.nc\")\n",
    "file_list = [ f for f in file_list if '_20221221_' in f]\n",
    "file_list = sorted(file_list)[16:]\n",
    "file_list"
   ]
  },
  {
   "cell_type": "code",
   "execution_count": 17,
   "metadata": {},
   "outputs": [],
   "source": [
    "ds = xr.open_mfdataset(file_list, concat_dim=\"time\", combine=\"nested\")"
   ]
  },
  {
   "cell_type": "code",
   "execution_count": 18,
   "metadata": {},
   "outputs": [],
   "source": [
    "ds = ds[[\n",
    "    'base_time',\n",
    "    \n",
    "    'diagbits_10m_c',\t'irgadiag_10m_c',\t'ldiag_10m_c',\n",
    "    'diagbits_10m_d',\t'irgadiag_10m_d',\t'ldiag_10m_d',\n",
    "    'diagbits_10m_ue',\t'irgadiag_10m_ue',\t'ldiag_10m_ue',\n",
    "    'diagbits_10m_uw',\t'irgadiag_10m_uw',\t'ldiag_10m_uw',\n",
    "    'diagbits_15m_c',\t'irgadiag_15m_c',\t'ldiag_15m_c',\n",
    "    # 'diagbits_1m_c',\t'irgadiag_1m_c',\t'ldiag_1m_c',\n",
    "    # 'diagbits_1m_d',\t'irgadiag_1m_d',\t'ldiag_1m_d',\n",
    "    # 'diagbits_1m_ue',\t'irgadiag_1m_ue',\t'ldiag_1m_ue',\n",
    "    # 'diagbits_1m_uw',\t'irgadiag_1m_uw',\t'ldiag_1m_uw',\n",
    "    'diagbits_20m_c',\t'irgadiag_20m_c',\t'ldiag_20m_c',\n",
    "    'diagbits_2m_c',\t'irgadiag_2m_c',\t'ldiag_2m_c',\n",
    "    'diagbits_3m_c',\t'irgadiag_3m_c',\t'ldiag_3m_c',\n",
    "    'diagbits_3m_d',\t'irgadiag_3m_d',\t'ldiag_3m_d',\n",
    "    'diagbits_3m_ue',\t'irgadiag_3m_ue',\t'ldiag_3m_ue',\n",
    "    'diagbits_3m_uw',\t'irgadiag_3m_uw',\t'ldiag_3m_uw',\n",
    "    'diagbits_5m_c',\t'irgadiag_5m_c',\t'ldiag_5m_c',\n",
    "\n",
    "    # 'u_1m_c',\t'v_1m_c',\t'w_1m_c',\t'h2o_1m_c',\t\t'tc_1m_c',\n",
    "    # 'u_1m_d',\t'v_1m_d',\t'w_1m_d',\t'h2o_1m_d',\t\t'tc_1m_d',\n",
    "    # 'u_1m_ue',\t'v_1m_ue',\t'w_1m_ue',\t'h2o_1m_ue',\t'tc_1m_ue',\n",
    "    # 'u_1m_uw',\t'v_1m_uw',\t'w_1m_uw',\t'h2o_1m_uw',\t'tc_1m_uw',\n",
    "    'u_2m_c',\t'v_2m_c',\t'w_2m_c',\t'h2o_2m_c',\t\t'tc_2m_c',\n",
    "    'u_3m_c',\t'v_3m_c',\t'w_3m_c',\t'h2o_3m_c',\t\t'tc_3m_c',\n",
    "    'u_3m_d',\t'v_3m_d',\t'w_3m_d',\t'h2o_3m_d',\t\t'tc_3m_d',\n",
    "    'u_3m_ue',\t'v_3m_ue',\t'w_3m_ue',\t'h2o_3m_ue',\t'tc_3m_ue',\n",
    "    'u_3m_uw',\t'v_3m_uw',\t'w_3m_uw',\t'h2o_3m_uw',\t'tc_3m_uw',\n",
    "    'u_5m_c',\t'v_5m_c',\t'w_5m_c',\t'h2o_5m_c',\t\t'tc_5m_c',\n",
    "    'u_10m_c',\t'v_10m_c',\t'w_10m_c',\t'h2o_10m_c',\t'tc_10m_c',\n",
    "    'u_10m_d',\t'v_10m_d',\t'w_10m_d',\t'h2o_10m_d',\t'tc_10m_d',\n",
    "    'u_10m_ue',\t'v_10m_ue',\t'w_10m_ue',\t'h2o_10m_ue',\t'tc_10m_ue',\n",
    "    'u_10m_uw',\t'v_10m_uw',\t'w_10m_uw',\t'h2o_10m_uw',\t'tc_10m_uw',\n",
    "    'u_15m_c',\t'v_15m_c',\t'w_15m_c',\t'h2o_15m_c',\t'tc_15m_c',\n",
    "    'u_20m_c',\t'v_20m_c',\t'w_20m_c',\t'h2o_20m_c',\t'tc_20m_c',\n",
    "]]"
   ]
  },
  {
   "attachments": {},
   "cell_type": "markdown",
   "metadata": {},
   "source": [
    "# Create timestamp\n",
    "To use the datam, its necessary to combine 3 columns of data from the dataset to get the full timestamp. This is demonstrated below. The 'time' column actually only incudes the second and minute information. For all datapoints, the hour according to the 'time' column is 1.  The 'base_time' column indicates the hour of the day. The 'sample' column indicates the 20hz sample number. \n",
    "\n",
    "We demonstrate this in the plots below"
   ]
  },
  {
   "cell_type": "code",
   "execution_count": 19,
   "metadata": {},
   "outputs": [
    {
     "data": {
      "text/html": [
       "\n",
       "<style>\n",
       "  #altair-viz-466a78543a1c433ebed269fe514261f6.vega-embed {\n",
       "    width: 100%;\n",
       "    display: flex;\n",
       "  }\n",
       "\n",
       "  #altair-viz-466a78543a1c433ebed269fe514261f6.vega-embed details,\n",
       "  #altair-viz-466a78543a1c433ebed269fe514261f6.vega-embed details summary {\n",
       "    position: relative;\n",
       "  }\n",
       "</style>\n",
       "<div id=\"altair-viz-466a78543a1c433ebed269fe514261f6\"></div>\n",
       "<script type=\"text/javascript\">\n",
       "  var VEGA_DEBUG = (typeof VEGA_DEBUG == \"undefined\") ? {} : VEGA_DEBUG;\n",
       "  (function(spec, embedOpt){\n",
       "    let outputDiv = document.currentScript.previousElementSibling;\n",
       "    if (outputDiv.id !== \"altair-viz-466a78543a1c433ebed269fe514261f6\") {\n",
       "      outputDiv = document.getElementById(\"altair-viz-466a78543a1c433ebed269fe514261f6\");\n",
       "    }\n",
       "    const paths = {\n",
       "      \"vega\": \"https://cdn.jsdelivr.net/npm/vega@5?noext\",\n",
       "      \"vega-lib\": \"https://cdn.jsdelivr.net/npm/vega-lib?noext\",\n",
       "      \"vega-lite\": \"https://cdn.jsdelivr.net/npm/vega-lite@5.17.0?noext\",\n",
       "      \"vega-embed\": \"https://cdn.jsdelivr.net/npm/vega-embed@6?noext\",\n",
       "    };\n",
       "\n",
       "    function maybeLoadScript(lib, version) {\n",
       "      var key = `${lib.replace(\"-\", \"\")}_version`;\n",
       "      return (VEGA_DEBUG[key] == version) ?\n",
       "        Promise.resolve(paths[lib]) :\n",
       "        new Promise(function(resolve, reject) {\n",
       "          var s = document.createElement('script');\n",
       "          document.getElementsByTagName(\"head\")[0].appendChild(s);\n",
       "          s.async = true;\n",
       "          s.onload = () => {\n",
       "            VEGA_DEBUG[key] = version;\n",
       "            return resolve(paths[lib]);\n",
       "          };\n",
       "          s.onerror = () => reject(`Error loading script: ${paths[lib]}`);\n",
       "          s.src = paths[lib];\n",
       "        });\n",
       "    }\n",
       "\n",
       "    function showError(err) {\n",
       "      outputDiv.innerHTML = `<div class=\"error\" style=\"color:red;\">${err}</div>`;\n",
       "      throw err;\n",
       "    }\n",
       "\n",
       "    function displayChart(vegaEmbed) {\n",
       "      vegaEmbed(outputDiv, spec, embedOpt)\n",
       "        .catch(err => showError(`Javascript Error: ${err.message}<br>This usually means there's a typo in your chart specification. See the javascript console for the full traceback.`));\n",
       "    }\n",
       "\n",
       "    if(typeof define === \"function\" && define.amd) {\n",
       "      requirejs.config({paths});\n",
       "      require([\"vega-embed\"], displayChart, err => showError(`Error loading script: ${err.message}`));\n",
       "    } else {\n",
       "      maybeLoadScript(\"vega\", \"5\")\n",
       "        .then(() => maybeLoadScript(\"vega-lite\", \"5.17.0\"))\n",
       "        .then(() => maybeLoadScript(\"vega-embed\", \"6\"))\n",
       "        .catch(showError)\n",
       "        .then(() => displayChart(vegaEmbed));\n",
       "    }\n",
       "  })({\"config\": {\"view\": {\"continuousWidth\": 300, \"continuousHeight\": 300}}, \"vconcat\": [{\"data\": {\"url\": \"altair-data-25cb27ad3743cd2be76cafe99967902e.json\", \"format\": {\"type\": \"json\"}}, \"mark\": {\"type\": \"tick\", \"thickness\": 5}, \"encoding\": {\"x\": {\"field\": \"sample\", \"title\": \"sample (n = 20)\", \"type\": \"quantitative\"}}, \"width\": 600}, {\"data\": {\"url\": \"altair-data-477f72b9ce6669e7aadaf08dc9777c3a.json\", \"format\": {\"type\": \"json\"}}, \"mark\": {\"type\": \"tick\", \"thickness\": 1}, \"encoding\": {\"x\": {\"axis\": {\"format\": \"%H%M%p\"}, \"field\": \"time\", \"title\": \"time (n = 3600)\", \"type\": \"temporal\"}}, \"width\": 600}, {\"data\": {\"url\": \"altair-data-765bd3cc25043a1fb396947b50b4f339.json\", \"format\": {\"type\": \"json\"}}, \"mark\": {\"type\": \"tick\", \"thickness\": 5}, \"encoding\": {\"x\": {\"field\": \"base_time\", \"title\": \"base_time (n = 8)\", \"type\": \"temporal\"}}, \"width\": 600}], \"$schema\": \"https://vega.github.io/schema/vega-lite/v5.17.0.json\"}, {\"mode\": \"vega-lite\"});\n",
       "</script>"
      ],
      "text/plain": [
       "alt.VConcatChart(...)"
      ]
     },
     "execution_count": 19,
     "metadata": {},
     "output_type": "execute_result"
    }
   ],
   "source": [
    "df1 = pd.DataFrame({'time': np.unique(ds['time'])})\n",
    "df2 = pd.DataFrame({'base_time': np.unique(ds['base_time'])})\n",
    "df3 = pd.DataFrame({'sample': np.unique(ds['sample'])})\n",
    "(\n",
    "    alt.Chart(df3).mark_tick(thickness=5).encode(\n",
    "        alt.X(\"sample:Q\").title(\n",
    "            f'sample (n = {len(df3)})'\n",
    "        )\n",
    "    ).properties(width=600) & \n",
    "\n",
    "    alt.Chart(df1).mark_tick(thickness=1).encode(\n",
    "        alt.X(\"time:T\").axis(\n",
    "            format='%H%M%p'\n",
    "        ).title(\n",
    "            f'time (n = {len(df1)})'\n",
    "        )\n",
    "    ).properties(width=600) & \n",
    "\n",
    "    alt.Chart(df2).mark_tick(thickness=5).encode(\n",
    "        alt.X(\"base_time:T\").title(\n",
    "            f'base_time (n = {len(df2)})'\n",
    "        )\n",
    "    ).properties(width=600)\n",
    ")"
   ]
  },
  {
   "cell_type": "code",
   "execution_count": 20,
   "metadata": {},
   "outputs": [],
   "source": [
    "df = ds.to_dataframe().reset_index()"
   ]
  },
  {
   "cell_type": "code",
   "execution_count": 21,
   "metadata": {},
   "outputs": [],
   "source": [
    "df['time'] = df.apply(lambda row: dt.datetime(\n",
    "        year = row['time'].year,\n",
    "        month = row['time'].month,\n",
    "        day = row['time'].day,\n",
    "        hour = row['base_time'].hour,\n",
    "        minute = row['time'].minute,\n",
    "        second = row['time'].second,\n",
    "        microsecond = int(row['sample'] * (1e6/20))\n",
    "    ),\n",
    "    axis = 1\n",
    ")"
   ]
  },
  {
   "cell_type": "code",
   "execution_count": 22,
   "metadata": {},
   "outputs": [],
   "source": [
    "ds = df.set_index('time').to_xarray()"
   ]
  },
  {
   "cell_type": "code",
   "execution_count": 23,
   "metadata": {},
   "outputs": [],
   "source": [
    "import pytz\n",
    "ds = utils.modify_xarray_timezone(ds, pytz.UTC, \"US/Mountain\")"
   ]
  },
  {
   "cell_type": "code",
   "execution_count": 32,
   "metadata": {},
   "outputs": [
    {
     "data": {
      "text/plain": [
       "6000"
      ]
     },
     "execution_count": 32,
     "metadata": {},
     "output_type": "execute_result"
    }
   ],
   "source": [
    "(ds[['irgadiag_10m_c']].to_dataframe()['irgadiag_10m_c'] > 0).groupby(pd.Grouper(freq='5Min')).count().max()"
   ]
  },
  {
   "cell_type": "markdown",
   "metadata": {},
   "source": [
    "# Look at bad irga data during May 3, 9am - 6pm"
   ]
  },
  {
   "cell_type": "code",
   "execution_count": 10,
   "metadata": {},
   "outputs": [
    {
     "data": {
      "text/plain": [
       "array([ 0., nan], dtype=float32)"
      ]
     },
     "execution_count": 10,
     "metadata": {},
     "output_type": "execute_result"
    }
   ],
   "source": [
    "df['irgadiag_10m_c'].unique()"
   ]
  },
  {
   "cell_type": "code",
   "execution_count": 11,
   "metadata": {},
   "outputs": [
    {
     "data": {
      "text/plain": [
       "array([0.000000e+00, 2.097153e+06, 1.000000e+00,          nan],\n",
       "      dtype=float32)"
      ]
     },
     "execution_count": 11,
     "metadata": {},
     "output_type": "execute_result"
    }
   ],
   "source": [
    "df['irgadiag_15m_c'].unique()"
   ]
  },
  {
   "cell_type": "code",
   "execution_count": 12,
   "metadata": {},
   "outputs": [
    {
     "data": {
      "text/plain": [
       "array([0.000000e+00, 2.097153e+06, 1.000000e+00,          nan],\n",
       "      dtype=float32)"
      ]
     },
     "execution_count": 12,
     "metadata": {},
     "output_type": "execute_result"
    }
   ],
   "source": [
    "df['irgadiag_20m_c'].unique()"
   ]
  },
  {
   "cell_type": "code",
   "execution_count": 13,
   "metadata": {},
   "outputs": [
    {
     "data": {
      "text/plain": [
       "array([ 0.,  0.,  0., ..., nan, nan, nan], dtype=float32)"
      ]
     },
     "execution_count": 13,
     "metadata": {},
     "output_type": "execute_result"
    }
   ],
   "source": [
    "df.set_index('time')['irgadiag_10m_c'].values"
   ]
  },
  {
   "cell_type": "markdown",
   "metadata": {},
   "source": [
    "# Calculate fluxes and flux uncertainty (4th moments) (implement Reynolds averaging)\n",
    "\n",
    "Uncertainty calculations are following Stiperski and Rotach, 2016"
   ]
  },
  {
   "cell_type": "code",
   "execution_count": null,
   "metadata": {},
   "outputs": [],
   "source": [
    "def create_re_avg_ds(ds, re_avg_period_seconds, var1 = 'w_3m_c', var2='h2o_3m_c', covariance_name = 'w_h2o__3m_c', moment4th_name = 'w_h2o_w_h2o__3m_c'):\n",
    "    coarse_ds = ds.coarsen(time=re_avg_period_seconds).mean()\n",
    "    coarse_ds = coarse_ds.assign_coords(time = coarse_ds.time.dt.round('1s'))\n",
    "    coarse_ds = coarse_ds.reindex_like(ds, method='nearest')\n",
    "    ds[f\"{var1}_mean\"] = coarse_ds[f\"{var1}\"]\n",
    "    ds[f\"{var1}_fluc\"] = ds[f\"{var1}\"] - ds[f\"{var1}_mean\"]\n",
    "    ds[f\"{var2}_mean\"] = coarse_ds[f\"{var2}\"]\n",
    "    ds[f\"{var2}_fluc\"] = ds[f\"{var2}\"] - ds[f\"{var2}_mean\"]\n",
    "    ds[covariance_name] = ds[f\"{var2}_fluc\"] * ds[f\"{var1}_fluc\"]\n",
    "    ds[moment4th_name] = ds[f\"{var2}_fluc\"] * ds[f\"{var1}_fluc\"] * ds[f\"{var2}_fluc\"] * ds[f\"{var1}_fluc\"]\n",
    "    ds = ds.coarsen(time = re_avg_period_seconds).mean()\n",
    "    ds = ds.assign_coords(time = ds.time.dt.round('1s'))\n",
    "    return ds"
   ]
  },
  {
   "cell_type": "code",
   "execution_count": null,
   "metadata": {},
   "outputs": [],
   "source": [
    "ds_avg = create_re_avg_ds(ds, 20*60*5, 'w_3m_c', 'h2o_3m_c', 'w_h2o__3m_c', 'w_h2o_w_h2o__3m_c')"
   ]
  },
  {
   "cell_type": "code",
   "execution_count": null,
   "metadata": {},
   "outputs": [],
   "source": [
    "wind_speed = np.sqrt(ds_avg['u_3m_c']**2 + ds_avg['v_3m_c']**2)\n",
    "z = 3\n",
    "uncertainty = np.sqrt(\n",
    "    (z / (60*5*wind_speed))*((ds_avg['w_h2o_w_h2o__3m_c'] / ds_avg['w_h2o__3m_c']**2) - 1)\n",
    ")"
   ]
  },
  {
   "cell_type": "code",
   "execution_count": null,
   "metadata": {},
   "outputs": [],
   "source": [
    "plt.figure(figsize=(10,5))\n",
    "plt.plot(ds_avg['time'], ds_avg['w_h2o__3m_c'], 'k-')\n",
    "# plt.plot(ds_avg['time'], uncertainty, 'k-')\n",
    "plt.fill_between(ds_avg['time'], ds_avg['w_h2o__3m_c'] - uncertainty, ds_avg['w_h2o__3m_c'] + uncertainty)\n",
    "# plt.ylim(0,1)\n",
    "plt.show()"
   ]
  },
  {
   "cell_type": "code",
   "execution_count": null,
   "metadata": {},
   "outputs": [],
   "source": [
    "tidy_df = pd.read_parquet(\"tidy_df_20221130_20230509_noplanar_fit.parquet\")\n",
    "tidy_df = tidy_df[tidy_df.variable.isin(['SF_avg_1m_ue', 'SF_avg_2m_ue','diags_3m_c'])].pivot(index='time', columns='variable', values='value')\n",
    "tidy_df['SF_avg_ue'] = tidy_df[['SF_avg_1m_ue', 'SF_avg_2m_ue']].mean(axis=1)\n",
    "tidy_df = tidy_df['SF_avg_ue'].loc[\"20221222 07\":\"20221222 19\"]\n",
    "tidy_df = utils.modify_df_timezone(tidy_df.reset_index(), pytz.UTC, \"US/Mountain\").set_index('time')"
   ]
  },
  {
   "cell_type": "code",
   "execution_count": null,
   "metadata": {},
   "outputs": [],
   "source": [
    "tidy_df['SF_avg_ue'].plot(figsize=(8,2))\n",
    "plt.ylabel(\"Blowing snow flux\\n(g/m^2/s)\")"
   ]
  },
  {
   "cell_type": "code",
   "execution_count": null,
   "metadata": {},
   "outputs": [],
   "source": [
    "ds_avg['ldiag_3m_c'].to_dataframe()['ldiag_3m_c'].plot(figsize=(8,2))\n",
    "plt.ylabel(\"Anemometer flag\\nFraction of time w/ flags\")"
   ]
  },
  {
   "cell_type": "code",
   "execution_count": null,
   "metadata": {},
   "outputs": [],
   "source": [
    "ds_avg['irgadiag_3m_c'].to_dataframe()['irgadiag_3m_c'].plot(figsize=(8,2))\n",
    "plt.ylabel(\"Irgason flag\")"
   ]
  },
  {
   "cell_type": "code",
   "execution_count": null,
   "metadata": {},
   "outputs": [],
   "source": [
    "plt.plot(ds_avg.to_dataframe()['w_h2o__3m_c'])\n",
    "ds_avg['w_h2o__3m_c'].to_dataframe()['w_h2o__3m_c'].plot(figsize=(8,2))\n",
    "plt.ylabel(\"H_l (g/m^2/s)\")"
   ]
  },
  {
   "cell_type": "code",
   "execution_count": null,
   "metadata": {},
   "outputs": [],
   "source": []
  }
 ],
 "metadata": {
  "kernelspec": {
   "display_name": "arm",
   "language": "python",
   "name": "python3"
  },
  "language_info": {
   "codemirror_mode": {
    "name": "ipython",
    "version": 3
   },
   "file_extension": ".py",
   "mimetype": "text/x-python",
   "name": "python",
   "nbconvert_exporter": "python",
   "pygments_lexer": "ipython3",
   "version": "3.12.5"
  },
  "orig_nbformat": 4,
  "vscode": {
   "interpreter": {
    "hash": "e2b11a00ad1b97cabcd9cc9209b8824a0fcaf6ffe37b5243943912873b5dcab1"
   }
  }
 },
 "nbformat": 4,
 "nbformat_minor": 2
}
