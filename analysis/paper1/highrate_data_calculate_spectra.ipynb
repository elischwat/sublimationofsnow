{
 "cells": [
  {
   "cell_type": "code",
   "execution_count": 1,
   "metadata": {},
   "outputs": [],
   "source": [
    "import numpy as np\n",
    "import xarray as xr\n",
    "\n",
    "import datetime as dt\n",
    "import pandas as pd\n",
    "\n",
    "import matplotlib.pyplot as plt\n",
    "\n",
    "import altair as alt\n",
    "alt.data_transformers.enable('json')\n",
    "\n",
    "from sublimpy import utils\n",
    "import glob\n",
    "import pytz\n",
    "from scipy.signal import welch, csd\n",
    "from scipy.stats import chi2"
   ]
  },
  {
   "cell_type": "code",
   "execution_count": 2,
   "metadata": {},
   "outputs": [
    {
     "data": {
      "text/plain": [
       "['/Users/elischwat/Development/data/sublimationofsnow/sosqc_fast/isfs_sos_qc_geo_tiltcor_hr_20221224_16.nc',\n",
       " '/Users/elischwat/Development/data/sublimationofsnow/sosqc_fast/isfs_sos_qc_geo_tiltcor_hr_20221224_17.nc',\n",
       " '/Users/elischwat/Development/data/sublimationofsnow/sosqc_fast/isfs_sos_qc_geo_tiltcor_hr_20221224_18.nc',\n",
       " '/Users/elischwat/Development/data/sublimationofsnow/sosqc_fast/isfs_sos_qc_geo_tiltcor_hr_20221224_19.nc',\n",
       " '/Users/elischwat/Development/data/sublimationofsnow/sosqc_fast/isfs_sos_qc_geo_tiltcor_hr_20221224_20.nc',\n",
       " '/Users/elischwat/Development/data/sublimationofsnow/sosqc_fast/isfs_sos_qc_geo_tiltcor_hr_20221224_21.nc',\n",
       " '/Users/elischwat/Development/data/sublimationofsnow/sosqc_fast/isfs_sos_qc_geo_tiltcor_hr_20221224_22.nc',\n",
       " '/Users/elischwat/Development/data/sublimationofsnow/sosqc_fast/isfs_sos_qc_geo_tiltcor_hr_20221224_23.nc']"
      ]
     },
     "execution_count": 2,
     "metadata": {},
     "output_type": "execute_result"
    }
   ],
   "source": [
    "file_list = glob.glob(\"/Users/elischwat/Development/data/sublimationofsnow/sosqc_fast/*.nc\")\n",
    "file_list = [ f for f in file_list if '_20221224' in f]\n",
    "# file_list = [ f for f in file_list if '_20230113' in f]\n",
    "# file_list = [ f for f in file_list if '_20230224' in f]\n",
    "# file_list = [ f for f in file_list if '_20230313' in f]\n",
    "file_list = sorted(file_list)[16:24]\n",
    "file_list"
   ]
  },
  {
   "cell_type": "code",
   "execution_count": 3,
   "metadata": {},
   "outputs": [],
   "source": [
    "index_vars = ['base_time']\n",
    "value_vars = [\n",
    "        'u_2m_c',\t'v_2m_c',\t'w_2m_c',\t'h2o_2m_c', 'tc_2m_c',\n",
    "        'u_3m_c',\t'v_3m_c',\t'w_3m_c',\t'h2o_3m_c', 'tc_3m_c',\n",
    "        'u_5m_c',\t'v_5m_c',\t'w_5m_c',\t'h2o_5m_c', 'tc_5m_c',\n",
    "        'u_10m_c',\t'v_10m_c',\t'w_10m_c',\t'h2o_10m_c', 'tc_10m_c',\n",
    "        'u_15m_c',\t'v_15m_c',\t'w_15m_c',\t'h2o_15m_c', 'tc_15m_c',\n",
    "        'u_20m_c',\t'v_20m_c',\t'w_20m_c',\t'h2o_20m_c', 'tc_20m_c',\n",
    "\n",
    "        'u_3m_uw',\t'v_3m_uw',\t'w_3m_uw',\t'h2o_3m_uw', 'tc_3m_uw',\n",
    "        'u_10m_uw',\t'v_10m_uw',\t'w_10m_uw',\t'h2o_10m_uw', 'tc_10m_uw',\n",
    "\n",
    "        'u_3m_ue',\t'v_3m_ue',\t'w_3m_ue',\t'h2o_3m_ue', 'tc_3m_ue',\n",
    "        'u_10m_ue',\t'v_10m_ue',\t'w_10m_ue',\t'h2o_10m_ue', 'tc_10m_ue',\n",
    "\n",
    "        'u_3m_d',\t'v_3m_d',\t'w_3m_d',\t'h2o_3m_d', 'tc_3m_d',\n",
    "        'u_10m_d',\t'v_10m_d',\t'w_10m_d',\t'h2o_10m_d', 'tc_10m_d',\n",
    "    ]\n",
    "VARIABLES = index_vars + value_vars"
   ]
  },
  {
   "cell_type": "code",
   "execution_count": 4,
   "metadata": {},
   "outputs": [],
   "source": [
    "ds = xr.open_mfdataset(\n",
    "    file_list, concat_dim=\"time\", \n",
    "    combine=\"nested\", \n",
    "    data_vars=VARIABLES\n",
    ")"
   ]
  },
  {
   "cell_type": "code",
   "execution_count": 5,
   "metadata": {},
   "outputs": [],
   "source": [
    "df = ds[VARIABLES].to_dataframe()"
   ]
  },
  {
   "attachments": {},
   "cell_type": "markdown",
   "metadata": {},
   "source": [
    "# Create timestamp\n",
    "To use the datam, its necessary to combine 3 columns of data from the dataset to get the full timestamp. This is demonstrated below. The 'time' column actually only incudes the second and minute information. For all datapoints, the hour according to the 'time' column is 1.  The 'base_time' column indicates the hour of the day. The 'sample' column indicates the 20hz sample number. \n",
    "\n",
    "We demonstrate this in the plots below"
   ]
  },
  {
   "cell_type": "code",
   "execution_count": 6,
   "metadata": {},
   "outputs": [
    {
     "data": {
      "text/html": [
       "\n",
       "<style>\n",
       "  #altair-viz-8405936494364cfa8704768c99bac337.vega-embed {\n",
       "    width: 100%;\n",
       "    display: flex;\n",
       "  }\n",
       "\n",
       "  #altair-viz-8405936494364cfa8704768c99bac337.vega-embed details,\n",
       "  #altair-viz-8405936494364cfa8704768c99bac337.vega-embed details summary {\n",
       "    position: relative;\n",
       "  }\n",
       "</style>\n",
       "<div id=\"altair-viz-8405936494364cfa8704768c99bac337\"></div>\n",
       "<script type=\"text/javascript\">\n",
       "  var VEGA_DEBUG = (typeof VEGA_DEBUG == \"undefined\") ? {} : VEGA_DEBUG;\n",
       "  (function(spec, embedOpt){\n",
       "    let outputDiv = document.currentScript.previousElementSibling;\n",
       "    if (outputDiv.id !== \"altair-viz-8405936494364cfa8704768c99bac337\") {\n",
       "      outputDiv = document.getElementById(\"altair-viz-8405936494364cfa8704768c99bac337\");\n",
       "    }\n",
       "    const paths = {\n",
       "      \"vega\": \"https://cdn.jsdelivr.net/npm/vega@5?noext\",\n",
       "      \"vega-lib\": \"https://cdn.jsdelivr.net/npm/vega-lib?noext\",\n",
       "      \"vega-lite\": \"https://cdn.jsdelivr.net/npm/vega-lite@5.16.3?noext\",\n",
       "      \"vega-embed\": \"https://cdn.jsdelivr.net/npm/vega-embed@6?noext\",\n",
       "    };\n",
       "\n",
       "    function maybeLoadScript(lib, version) {\n",
       "      var key = `${lib.replace(\"-\", \"\")}_version`;\n",
       "      return (VEGA_DEBUG[key] == version) ?\n",
       "        Promise.resolve(paths[lib]) :\n",
       "        new Promise(function(resolve, reject) {\n",
       "          var s = document.createElement('script');\n",
       "          document.getElementsByTagName(\"head\")[0].appendChild(s);\n",
       "          s.async = true;\n",
       "          s.onload = () => {\n",
       "            VEGA_DEBUG[key] = version;\n",
       "            return resolve(paths[lib]);\n",
       "          };\n",
       "          s.onerror = () => reject(`Error loading script: ${paths[lib]}`);\n",
       "          s.src = paths[lib];\n",
       "        });\n",
       "    }\n",
       "\n",
       "    function showError(err) {\n",
       "      outputDiv.innerHTML = `<div class=\"error\" style=\"color:red;\">${err}</div>`;\n",
       "      throw err;\n",
       "    }\n",
       "\n",
       "    function displayChart(vegaEmbed) {\n",
       "      vegaEmbed(outputDiv, spec, embedOpt)\n",
       "        .catch(err => showError(`Javascript Error: ${err.message}<br>This usually means there's a typo in your chart specification. See the javascript console for the full traceback.`));\n",
       "    }\n",
       "\n",
       "    if(typeof define === \"function\" && define.amd) {\n",
       "      requirejs.config({paths});\n",
       "      require([\"vega-embed\"], displayChart, err => showError(`Error loading script: ${err.message}`));\n",
       "    } else {\n",
       "      maybeLoadScript(\"vega\", \"5\")\n",
       "        .then(() => maybeLoadScript(\"vega-lite\", \"5.16.3\"))\n",
       "        .then(() => maybeLoadScript(\"vega-embed\", \"6\"))\n",
       "        .catch(showError)\n",
       "        .then(() => displayChart(vegaEmbed));\n",
       "    }\n",
       "  })({\"config\": {\"view\": {\"continuousWidth\": 300, \"continuousHeight\": 300}}, \"vconcat\": [{\"data\": {\"url\": \"altair-data-5512121343e861a83e253ae0a6621bc3.json\", \"format\": {\"type\": \"json\"}}, \"mark\": {\"type\": \"tick\", \"thickness\": 5}, \"encoding\": {\"x\": {\"field\": \"sample\", \"title\": \"sample (n = 20)\", \"type\": \"quantitative\"}}, \"width\": 600}, {\"data\": {\"url\": \"altair-data-9f1f40c8e62004ceb0b860f76dd31e3e.json\", \"format\": {\"type\": \"json\"}}, \"mark\": {\"type\": \"tick\", \"thickness\": 1}, \"encoding\": {\"x\": {\"axis\": {\"format\": \"%H%M%p\"}, \"field\": \"time\", \"title\": \"time (n = 3600)\", \"type\": \"temporal\"}}, \"width\": 600}, {\"data\": {\"url\": \"altair-data-9bf366846efcc5e1027035679e71ea40.json\", \"format\": {\"type\": \"json\"}}, \"mark\": {\"type\": \"tick\", \"thickness\": 5}, \"encoding\": {\"x\": {\"field\": \"base_time\", \"title\": \"base_time (n = 8)\", \"type\": \"temporal\"}}, \"width\": 600}], \"$schema\": \"https://vega.github.io/schema/vega-lite/v5.16.3.json\"}, {\"mode\": \"vega-lite\"});\n",
       "</script>"
      ],
      "text/plain": [
       "alt.VConcatChart(...)"
      ]
     },
     "execution_count": 6,
     "metadata": {},
     "output_type": "execute_result"
    }
   ],
   "source": [
    "df1 = pd.DataFrame({'time': np.unique(ds['time'])})\n",
    "df2 = pd.DataFrame({'base_time': np.unique(ds['base_time'])})\n",
    "df3 = pd.DataFrame({'sample': np.unique(ds['sample'])})\n",
    "(\n",
    "    alt.Chart(df3).mark_tick(thickness=5).encode(\n",
    "        alt.X(\"sample:Q\").title(\n",
    "            f'sample (n = {len(df3)})'\n",
    "        )\n",
    "    ).properties(width=600) & \n",
    "\n",
    "    alt.Chart(df1).mark_tick(thickness=1).encode(\n",
    "        alt.X(\"time:T\").axis(\n",
    "            format='%H%M%p'\n",
    "        ).title(\n",
    "            f'time (n = {len(df1)})'\n",
    "        )\n",
    "    ).properties(width=600) & \n",
    "\n",
    "    alt.Chart(df2).mark_tick(thickness=5).encode(\n",
    "        alt.X(\"base_time:T\").title(\n",
    "            f'base_time (n = {len(df2)})'\n",
    "        )\n",
    "    ).properties(width=600)\n",
    ")"
   ]
  },
  {
   "cell_type": "code",
   "execution_count": 7,
   "metadata": {},
   "outputs": [],
   "source": [
    "df = df.reset_index()"
   ]
  },
  {
   "cell_type": "code",
   "execution_count": 8,
   "metadata": {},
   "outputs": [],
   "source": [
    "df['time'] = df.apply(lambda row: dt.datetime(\n",
    "        year = row['time'].year,\n",
    "        month = row['time'].month,\n",
    "        day = row['time'].day,\n",
    "        hour = row['base_time'].hour,\n",
    "        minute = row['time'].minute,\n",
    "        second = row['time'].second,\n",
    "        microsecond = int(row['sample'] * (1e6/20))\n",
    "    ),\n",
    "    axis = 1\n",
    ")"
   ]
  },
  {
   "cell_type": "code",
   "execution_count": 9,
   "metadata": {},
   "outputs": [],
   "source": [
    "df = utils.modify_df_timezone(df, pytz.UTC, \"US/Mountain\")"
   ]
  },
  {
   "cell_type": "markdown",
   "metadata": {},
   "source": [
    "# Interpolate nans"
   ]
  },
  {
   "cell_type": "code",
   "execution_count": 10,
   "metadata": {},
   "outputs": [
    {
     "name": "stdout",
     "output_type": "stream",
     "text": [
      "u_2m_c 576000 396 0\n",
      "v_2m_c 576000 396 0\n",
      "w_2m_c 576000 396 0\n",
      "h2o_2m_c 576000 57436 57068\n",
      "tc_2m_c 576000 396 0\n",
      "u_3m_c 576000 379 0\n",
      "v_3m_c 576000 379 0\n",
      "w_3m_c 576000 379 0\n",
      "h2o_3m_c 576000 41604 41251\n",
      "tc_3m_c 576000 379 0\n",
      "u_5m_c 576000 873 0\n",
      "v_5m_c 576000 873 0\n",
      "w_5m_c 576000 873 0\n",
      "h2o_5m_c 576000 882 0\n",
      "tc_5m_c 576000 873 0\n",
      "u_10m_c 576000 1259 0\n",
      "v_10m_c 576000 1259 0\n",
      "w_10m_c 576000 1259 0\n",
      "h2o_10m_c 576000 26612 25295\n",
      "tc_10m_c 576000 1257 0\n",
      "u_15m_c 576000 1353 0\n",
      "v_15m_c 576000 1353 0\n",
      "w_15m_c 576000 1353 0\n",
      "h2o_15m_c 576000 1246 0\n",
      "tc_15m_c 576000 1353 0\n",
      "u_20m_c 576000 278 0\n",
      "v_20m_c 576000 278 0\n",
      "w_20m_c 576000 278 0\n",
      "h2o_20m_c 576000 207 0\n",
      "tc_20m_c 576000 278 0\n",
      "u_3m_uw 576000 246 0\n",
      "v_3m_uw 576000 246 0\n",
      "w_3m_uw 576000 246 0\n",
      "h2o_3m_uw 576000 49879 49638\n",
      "tc_3m_uw 576000 246 0\n",
      "u_10m_uw 576000 272 0\n",
      "v_10m_uw 576000 272 0\n",
      "w_10m_uw 576000 272 0\n",
      "h2o_10m_uw 576000 50515 48794\n",
      "tc_10m_uw 576000 272 0\n",
      "u_3m_ue 576000 217 0\n",
      "v_3m_ue 576000 217 0\n",
      "w_3m_ue 576000 217 0\n",
      "h2o_3m_ue 576000 15635 15445\n",
      "tc_3m_ue 576000 216 0\n",
      "u_10m_ue 576000 232 0\n",
      "v_10m_ue 576000 232 0\n",
      "w_10m_ue 576000 232 0\n",
      "h2o_10m_ue 576000 33757 33483\n",
      "tc_10m_ue 576000 229 0\n",
      "u_3m_d 576000 401 0\n",
      "v_3m_d 576000 401 0\n",
      "w_3m_d 576000 401 0\n",
      "h2o_3m_d 576000 77214 76393\n",
      "tc_3m_d 576000 401 0\n",
      "u_10m_d 576000 375 0\n",
      "v_10m_d 576000 375 0\n",
      "w_10m_d 576000 375 0\n",
      "h2o_10m_d 576000 101017 100713\n",
      "tc_10m_d 576000 375 0\n"
     ]
    }
   ],
   "source": [
    "for var in value_vars:\n",
    "    nans_b4_interp = df[var].isna().sum()\n",
    "    df[var] = df[var].interpolate()\n",
    "    nans_after_interp = df[var].isna().sum()\n",
    "    print(var, len(df), nans_b4_interp, nans_after_interp)"
   ]
  },
  {
   "cell_type": "markdown",
   "metadata": {},
   "source": [
    "# Calculate spectra of u'u', v'v', w'w'"
   ]
  },
  {
   "cell_type": "code",
   "execution_count": 11,
   "metadata": {},
   "outputs": [],
   "source": [
    "spectrum_ls = []\n",
    "for height in [2,3,5,10,20]:\n",
    "    for var in ['u', 'v', 'w']:\n",
    "        spectrum = pd.DataFrame(dict(zip(\n",
    "            ['frequency', 'power spectrum'],\n",
    "            list(welch(\n",
    "                    df[f\"{var}_{height}m_c\"],\n",
    "                    fs=20, #Hz\n",
    "                    window='hann', #'hann' is the default,\n",
    "                    nperseg=72000 # one hour window\n",
    "            ))\n",
    "        )))\n",
    "        spectrum = spectrum.assign(height = height)\n",
    "        spectrum = spectrum.assign(variance = f\"{var}'{var}'\")\n",
    "        spectrum_ls.append(spectrum)\n",
    "variance_spectrum_df = pd.concat(spectrum_ls)"
   ]
  },
  {
   "cell_type": "code",
   "execution_count": 18,
   "metadata": {},
   "outputs": [],
   "source": [
    "length_of_study_period_in_seconds = (df.time.max() - df.time.min()).seconds\n",
    "length_of_window_in_seconds = 72000/20\n",
    "n_windows_in_study_period = length_of_study_period_in_seconds/length_of_window_in_seconds\n",
    "edof = 2*n_windows_in_study_period\n",
    "# Calculate confidence interval\n",
    "# what are these?\n",
    "conf_x = 1\n",
    "\n",
    "conf_y0 = 1\n",
    "# Degrees of freedom = 2 DOF per window, multiplied by number of windows\n",
    "conf = conf_y0 * edof / chi2.ppf([0.025, 0.975], edof).reshape((2,1))\n",
    "\n",
    "uncertainty_chart = alt.Chart().transform_calculate(\n",
    "    high = f\"{conf_y0 + conf[0][0]}\",\n",
    "    low = f\"{conf_y0 - conf[1][0]}\",\n",
    "    x = f\"{conf_x}\"\n",
    ").mark_line(color='black').encode(\n",
    "    alt.X(\"x:Q\").title(\"\"),\n",
    "    alt.Y(\"low:Q\").title(\"\"),\n",
    "    alt.Y2(\"high:Q\")\n",
    ")\n",
    "\n",
    "uncertainty_chart_dot = alt.Chart().transform_calculate(\n",
    "    middle = f\"{conf_y0}\",\n",
    "    x = f\"{conf_x}\"\n",
    ").mark_circle(color='black').encode(\n",
    "    alt.X(\"x:Q\").title(\"\"),\n",
    "    alt.Y(\"middle:Q\").title(\"\"),\n",
    ")"
   ]
  },
  {
   "cell_type": "code",
   "execution_count": null,
   "metadata": {},
   "outputs": [],
   "source": [
    "\n",
    "\n",
    "# Create a line with slope -5/3 (in log log space) that fits the data\n",
    "fit_chart = alt.Chart(pd.DataFrame({\n",
    "        'x': np.arange(0.01, 10),\n",
    "        'y': 0.01*np.arange(0.01, 10)**(-5/3)\n",
    "})).mark_line(color='black', strokeDash=[4,2]).encode(\n",
    "    alt.X('x:Q').scale(type='log'),\n",
    "    alt.Y('y:Q').scale(type='log'),\n",
    ")\n",
    "\n",
    "spectra_chart = alt.Chart().mark_line().encode(\n",
    "    alt.X(\"frequency:Q\").scale(type='log'),\n",
    "    alt.Y(\"power spectrum:Q\").scale(type='log'),\n",
    "    alt.Color(\"height:N\"),\n",
    ")\n",
    "\n",
    "alt.layer(\n",
    "    spectra_chart,\n",
    "    fit_chart,\n",
    "    uncertainty_chart,\n",
    "    uncertainty_chart_dot,\n",
    "    data=variance_spectrum_df.query(\"frequency > 0\")\n",
    ").properties(\n",
    "    width=200, \n",
    "    height=150\n",
    ").facet(\n",
    "    'variance:O'\n",
    ").configure_axis(grid=False).display(renderer='svg')"
   ]
  },
  {
   "cell_type": "code",
   "execution_count": null,
   "metadata": {},
   "outputs": [],
   "source": [
    "variance_spectrum_df.query(\"frequency > 0\").to_csv(str(df.time.dt.date.iloc[0]) + '-spectra.csv')"
   ]
  },
  {
   "cell_type": "markdown",
   "metadata": {},
   "source": [
    "# Compare w'w' spectra from different months"
   ]
  },
  {
   "cell_type": "code",
   "execution_count": 13,
   "metadata": {},
   "outputs": [],
   "source": [
    "df_multipledays = pd.concat([\n",
    "    pd.read_csv(\"2022-12-24-spectra.csv\").assign(date = '2022-12-24'),\n",
    "    pd.read_csv(\"2023-01-13-spectra.csv\").assign(date = '2023-01-13'),\n",
    "    pd.read_csv(\"2023-02-24-spectra.csv\").assign(date = '2023-02-24'),\n",
    "    pd.read_csv(\"2023-03-13-spectra.csv\").assign(date = '2023-03-13')\n",
    "])"
   ]
  },
  {
   "cell_type": "code",
   "execution_count": null,
   "metadata": {},
   "outputs": [],
   "source": [
    "alt.Chart(\n",
    "    df_multipledays[df_multipledays.variance == \"w'w'\"].query(\"height < 10\")\n",
    ").mark_line().encode(\n",
    "    alt.X(\"frequency:Q\").scale(type='log'),\n",
    "    alt.Y(\"power spectrum:Q\").scale(type='log'),\n",
    "    alt.Color(\"height:N\"),\n",
    "    alt.Column(\"date:O\"),\n",
    ").properties(width = 300, height = 200)"
   ]
  },
  {
   "cell_type": "code",
   "execution_count": 14,
   "metadata": {},
   "outputs": [
    {
     "name": "stderr",
     "output_type": "stream",
     "text": [
      "/var/folders/x_/2h52bcjx2px15bhmdpdd748h0000gn/T/ipykernel_81431/548620229.py:9: FutureWarning: The default of observed=False is deprecated and will be changed to True in a future version of pandas. Pass observed=False to retain current behavior or observed=True to adopt the future default and silence this warning.\n",
      "  bin_avg_spectra = src.groupby(\"frequency_binned\")[['power spectrum']].mean().reset_index()\n",
      "/var/folders/x_/2h52bcjx2px15bhmdpdd748h0000gn/T/ipykernel_81431/548620229.py:9: FutureWarning: The default of observed=False is deprecated and will be changed to True in a future version of pandas. Pass observed=False to retain current behavior or observed=True to adopt the future default and silence this warning.\n",
      "  bin_avg_spectra = src.groupby(\"frequency_binned\")[['power spectrum']].mean().reset_index()\n",
      "/var/folders/x_/2h52bcjx2px15bhmdpdd748h0000gn/T/ipykernel_81431/548620229.py:9: FutureWarning: The default of observed=False is deprecated and will be changed to True in a future version of pandas. Pass observed=False to retain current behavior or observed=True to adopt the future default and silence this warning.\n",
      "  bin_avg_spectra = src.groupby(\"frequency_binned\")[['power spectrum']].mean().reset_index()\n",
      "/var/folders/x_/2h52bcjx2px15bhmdpdd748h0000gn/T/ipykernel_81431/548620229.py:9: FutureWarning: The default of observed=False is deprecated and will be changed to True in a future version of pandas. Pass observed=False to retain current behavior or observed=True to adopt the future default and silence this warning.\n",
      "  bin_avg_spectra = src.groupby(\"frequency_binned\")[['power spectrum']].mean().reset_index()\n",
      "/var/folders/x_/2h52bcjx2px15bhmdpdd748h0000gn/T/ipykernel_81431/548620229.py:9: FutureWarning: The default of observed=False is deprecated and will be changed to True in a future version of pandas. Pass observed=False to retain current behavior or observed=True to adopt the future default and silence this warning.\n",
      "  bin_avg_spectra = src.groupby(\"frequency_binned\")[['power spectrum']].mean().reset_index()\n",
      "/var/folders/x_/2h52bcjx2px15bhmdpdd748h0000gn/T/ipykernel_81431/548620229.py:9: FutureWarning: The default of observed=False is deprecated and will be changed to True in a future version of pandas. Pass observed=False to retain current behavior or observed=True to adopt the future default and silence this warning.\n",
      "  bin_avg_spectra = src.groupby(\"frequency_binned\")[['power spectrum']].mean().reset_index()\n",
      "/var/folders/x_/2h52bcjx2px15bhmdpdd748h0000gn/T/ipykernel_81431/548620229.py:9: FutureWarning: The default of observed=False is deprecated and will be changed to True in a future version of pandas. Pass observed=False to retain current behavior or observed=True to adopt the future default and silence this warning.\n",
      "  bin_avg_spectra = src.groupby(\"frequency_binned\")[['power spectrum']].mean().reset_index()\n",
      "/var/folders/x_/2h52bcjx2px15bhmdpdd748h0000gn/T/ipykernel_81431/548620229.py:9: FutureWarning: The default of observed=False is deprecated and will be changed to True in a future version of pandas. Pass observed=False to retain current behavior or observed=True to adopt the future default and silence this warning.\n",
      "  bin_avg_spectra = src.groupby(\"frequency_binned\")[['power spectrum']].mean().reset_index()\n",
      "/var/folders/x_/2h52bcjx2px15bhmdpdd748h0000gn/T/ipykernel_81431/548620229.py:9: FutureWarning: The default of observed=False is deprecated and will be changed to True in a future version of pandas. Pass observed=False to retain current behavior or observed=True to adopt the future default and silence this warning.\n",
      "  bin_avg_spectra = src.groupby(\"frequency_binned\")[['power spectrum']].mean().reset_index()\n",
      "/var/folders/x_/2h52bcjx2px15bhmdpdd748h0000gn/T/ipykernel_81431/548620229.py:9: FutureWarning: The default of observed=False is deprecated and will be changed to True in a future version of pandas. Pass observed=False to retain current behavior or observed=True to adopt the future default and silence this warning.\n",
      "  bin_avg_spectra = src.groupby(\"frequency_binned\")[['power spectrum']].mean().reset_index()\n",
      "/var/folders/x_/2h52bcjx2px15bhmdpdd748h0000gn/T/ipykernel_81431/548620229.py:9: FutureWarning: The default of observed=False is deprecated and will be changed to True in a future version of pandas. Pass observed=False to retain current behavior or observed=True to adopt the future default and silence this warning.\n",
      "  bin_avg_spectra = src.groupby(\"frequency_binned\")[['power spectrum']].mean().reset_index()\n",
      "/var/folders/x_/2h52bcjx2px15bhmdpdd748h0000gn/T/ipykernel_81431/548620229.py:9: FutureWarning: The default of observed=False is deprecated and will be changed to True in a future version of pandas. Pass observed=False to retain current behavior or observed=True to adopt the future default and silence this warning.\n",
      "  bin_avg_spectra = src.groupby(\"frequency_binned\")[['power spectrum']].mean().reset_index()\n",
      "/var/folders/x_/2h52bcjx2px15bhmdpdd748h0000gn/T/ipykernel_81431/548620229.py:9: FutureWarning: The default of observed=False is deprecated and will be changed to True in a future version of pandas. Pass observed=False to retain current behavior or observed=True to adopt the future default and silence this warning.\n",
      "  bin_avg_spectra = src.groupby(\"frequency_binned\")[['power spectrum']].mean().reset_index()\n",
      "/var/folders/x_/2h52bcjx2px15bhmdpdd748h0000gn/T/ipykernel_81431/548620229.py:9: FutureWarning: The default of observed=False is deprecated and will be changed to True in a future version of pandas. Pass observed=False to retain current behavior or observed=True to adopt the future default and silence this warning.\n",
      "  bin_avg_spectra = src.groupby(\"frequency_binned\")[['power spectrum']].mean().reset_index()\n",
      "/var/folders/x_/2h52bcjx2px15bhmdpdd748h0000gn/T/ipykernel_81431/548620229.py:9: FutureWarning: The default of observed=False is deprecated and will be changed to True in a future version of pandas. Pass observed=False to retain current behavior or observed=True to adopt the future default and silence this warning.\n",
      "  bin_avg_spectra = src.groupby(\"frequency_binned\")[['power spectrum']].mean().reset_index()\n",
      "/var/folders/x_/2h52bcjx2px15bhmdpdd748h0000gn/T/ipykernel_81431/548620229.py:9: FutureWarning: The default of observed=False is deprecated and will be changed to True in a future version of pandas. Pass observed=False to retain current behavior or observed=True to adopt the future default and silence this warning.\n",
      "  bin_avg_spectra = src.groupby(\"frequency_binned\")[['power spectrum']].mean().reset_index()\n",
      "/var/folders/x_/2h52bcjx2px15bhmdpdd748h0000gn/T/ipykernel_81431/548620229.py:9: FutureWarning: The default of observed=False is deprecated and will be changed to True in a future version of pandas. Pass observed=False to retain current behavior or observed=True to adopt the future default and silence this warning.\n",
      "  bin_avg_spectra = src.groupby(\"frequency_binned\")[['power spectrum']].mean().reset_index()\n",
      "/var/folders/x_/2h52bcjx2px15bhmdpdd748h0000gn/T/ipykernel_81431/548620229.py:9: FutureWarning: The default of observed=False is deprecated and will be changed to True in a future version of pandas. Pass observed=False to retain current behavior or observed=True to adopt the future default and silence this warning.\n",
      "  bin_avg_spectra = src.groupby(\"frequency_binned\")[['power spectrum']].mean().reset_index()\n",
      "/var/folders/x_/2h52bcjx2px15bhmdpdd748h0000gn/T/ipykernel_81431/548620229.py:9: FutureWarning: The default of observed=False is deprecated and will be changed to True in a future version of pandas. Pass observed=False to retain current behavior or observed=True to adopt the future default and silence this warning.\n",
      "  bin_avg_spectra = src.groupby(\"frequency_binned\")[['power spectrum']].mean().reset_index()\n",
      "/var/folders/x_/2h52bcjx2px15bhmdpdd748h0000gn/T/ipykernel_81431/548620229.py:9: FutureWarning: The default of observed=False is deprecated and will be changed to True in a future version of pandas. Pass observed=False to retain current behavior or observed=True to adopt the future default and silence this warning.\n",
      "  bin_avg_spectra = src.groupby(\"frequency_binned\")[['power spectrum']].mean().reset_index()\n"
     ]
    }
   ],
   "source": [
    "bin_avg_spectra_df_ls = []\n",
    "for height in df_multipledays.height.unique():\n",
    "    for date in df_multipledays.date.unique():\n",
    "        src = df_multipledays[df_multipledays.variance == \"w'w'\"].query(f\"height == {height}\").query(f\"date == '{date}'\")\n",
    "        src['frequency_binned'] = pd.cut(\n",
    "            src['frequency'],\n",
    "            np.logspace(-5, 1, 100)\n",
    "        )\n",
    "        bin_avg_spectra = src.groupby(\"frequency_binned\")[['power spectrum']].mean().reset_index()\n",
    "        bin_avg_spectra['frequency'] = bin_avg_spectra['frequency_binned'].apply(lambda int: (int.left + int.right)/2)\n",
    "        bin_avg_spectra['height'] = height\n",
    "        bin_avg_spectra['date'] = date\n",
    "        bin_avg_spectra_df_ls.append(bin_avg_spectra)\n",
    "bin_avg_spectra_df = pd.concat(bin_avg_spectra_df_ls)"
   ]
  },
  {
   "cell_type": "code",
   "execution_count": 27,
   "metadata": {},
   "outputs": [
    {
     "data": {
      "text/html": [
       "\n",
       "<style>\n",
       "  #altair-viz-06762c0e02b14a87b8506dfdc0cffde9.vega-embed {\n",
       "    width: 100%;\n",
       "    display: flex;\n",
       "  }\n",
       "\n",
       "  #altair-viz-06762c0e02b14a87b8506dfdc0cffde9.vega-embed details,\n",
       "  #altair-viz-06762c0e02b14a87b8506dfdc0cffde9.vega-embed details summary {\n",
       "    position: relative;\n",
       "  }\n",
       "</style>\n",
       "<div id=\"altair-viz-06762c0e02b14a87b8506dfdc0cffde9\"></div>\n",
       "<script type=\"text/javascript\">\n",
       "  var VEGA_DEBUG = (typeof VEGA_DEBUG == \"undefined\") ? {} : VEGA_DEBUG;\n",
       "  (function(spec, embedOpt){\n",
       "    let outputDiv = document.currentScript.previousElementSibling;\n",
       "    if (outputDiv.id !== \"altair-viz-06762c0e02b14a87b8506dfdc0cffde9\") {\n",
       "      outputDiv = document.getElementById(\"altair-viz-06762c0e02b14a87b8506dfdc0cffde9\");\n",
       "    }\n",
       "    const paths = {\n",
       "      \"vega\": \"https://cdn.jsdelivr.net/npm/vega@5?noext\",\n",
       "      \"vega-lib\": \"https://cdn.jsdelivr.net/npm/vega-lib?noext\",\n",
       "      \"vega-lite\": \"https://cdn.jsdelivr.net/npm/vega-lite@5.16.3?noext\",\n",
       "      \"vega-embed\": \"https://cdn.jsdelivr.net/npm/vega-embed@6?noext\",\n",
       "    };\n",
       "\n",
       "    function maybeLoadScript(lib, version) {\n",
       "      var key = `${lib.replace(\"-\", \"\")}_version`;\n",
       "      return (VEGA_DEBUG[key] == version) ?\n",
       "        Promise.resolve(paths[lib]) :\n",
       "        new Promise(function(resolve, reject) {\n",
       "          var s = document.createElement('script');\n",
       "          document.getElementsByTagName(\"head\")[0].appendChild(s);\n",
       "          s.async = true;\n",
       "          s.onload = () => {\n",
       "            VEGA_DEBUG[key] = version;\n",
       "            return resolve(paths[lib]);\n",
       "          };\n",
       "          s.onerror = () => reject(`Error loading script: ${paths[lib]}`);\n",
       "          s.src = paths[lib];\n",
       "        });\n",
       "    }\n",
       "\n",
       "    function showError(err) {\n",
       "      outputDiv.innerHTML = `<div class=\"error\" style=\"color:red;\">${err}</div>`;\n",
       "      throw err;\n",
       "    }\n",
       "\n",
       "    function displayChart(vegaEmbed) {\n",
       "      vegaEmbed(outputDiv, spec, embedOpt)\n",
       "        .catch(err => showError(`Javascript Error: ${err.message}<br>This usually means there's a typo in your chart specification. See the javascript console for the full traceback.`));\n",
       "    }\n",
       "\n",
       "    if(typeof define === \"function\" && define.amd) {\n",
       "      requirejs.config({paths});\n",
       "      require([\"vega-embed\"], displayChart, err => showError(`Error loading script: ${err.message}`));\n",
       "    } else {\n",
       "      maybeLoadScript(\"vega\", \"5\")\n",
       "        .then(() => maybeLoadScript(\"vega-lite\", \"5.16.3\"))\n",
       "        .then(() => maybeLoadScript(\"vega-embed\", \"6\"))\n",
       "        .catch(showError)\n",
       "        .then(() => displayChart(vegaEmbed));\n",
       "    }\n",
       "  })({\"config\": {\"view\": {\"continuousWidth\": 300, \"continuousHeight\": 300}, \"axis\": {\"grid\": false}, \"legend\": {\"columns\": 1, \"orient\": \"bottom-left\"}}, \"layer\": [{\"data\": {\"name\": \"empty\"}, \"mark\": {\"type\": \"line\", \"color\": \"black\"}, \"encoding\": {\"x\": {\"field\": \"x\", \"title\": \"\", \"type\": \"quantitative\"}, \"y\": {\"field\": \"low\", \"title\": \"\", \"type\": \"quantitative\"}, \"y2\": {\"field\": \"high\"}}, \"transform\": [{\"calculate\": \"3.316308611114904\", \"as\": \"high\"}, {\"calculate\": \"0.4453227158210079\", \"as\": \"low\"}, {\"calculate\": \"1\", \"as\": \"x\"}]}, {\"data\": {\"name\": \"empty\"}, \"mark\": {\"type\": \"circle\", \"color\": \"black\"}, \"encoding\": {\"x\": {\"field\": \"x\", \"title\": \"\", \"type\": \"quantitative\"}, \"y\": {\"field\": \"middle\", \"title\": \"\", \"type\": \"quantitative\"}}, \"transform\": [{\"calculate\": \"1\", \"as\": \"middle\"}, {\"calculate\": \"1\", \"as\": \"x\"}]}, {\"data\": {\"url\": \"altair-data-da9f98ef5abf8cf7cd30b72072e380ef.json\", \"format\": {\"type\": \"json\"}}, \"mark\": {\"type\": \"line\"}, \"encoding\": {\"color\": {\"field\": \"height\", \"type\": \"nominal\"}, \"strokeDash\": {\"field\": \"date\", \"type\": \"ordinal\"}, \"x\": {\"field\": \"frequency\", \"scale\": {\"domain\": [0.001, 10], \"type\": \"log\"}, \"title\": \"frequency (Hz)\", \"type\": \"quantitative\"}, \"y\": {\"field\": \"power spectrum\", \"scale\": {\"type\": \"log\"}, \"title\": \"power spectrum \", \"type\": \"quantitative\"}}}], \"height\": 200, \"width\": 300, \"$schema\": \"https://vega.github.io/schema/vega-lite/v5.16.3.json\", \"datasets\": {\"empty\": [{}]}}, {\"mode\": \"vega-lite\"});\n",
       "</script>"
      ],
      "text/plain": [
       "alt.LayerChart(...)"
      ]
     },
     "execution_count": 27,
     "metadata": {},
     "output_type": "execute_result"
    }
   ],
   "source": [
    "src = bin_avg_spectra_df[bin_avg_spectra_df.date.isin(['2022-12-24', '2023-03-13'])].query(\"height < 10\")\n",
    "src['date'] = src['date'].replace({\n",
    "    '2022-12-24': '2022-12-24 (7cm snowdepth)',\n",
    "    '2023-03-13': '2023-03-13 (126cm snowdepth)',\n",
    "})\n",
    "power_spectra_2m_is_too_low_chart = (\n",
    "    uncertainty_chart\n",
    "    +\n",
    "    uncertainty_chart_dot\n",
    "    +\n",
    "    alt.Chart(\n",
    "        src[['power spectrum', 'frequency', 'height', 'date']]\n",
    "    ).mark_line().encode(\n",
    "        alt.X(\"frequency:Q\").scale(domain = [0.001, 10], type='log').title(\"frequency (Hz)\"),\n",
    "        alt.Y(\"power spectrum:Q\").scale(type='log').title(\"power spectrum \"),\n",
    "        alt.Color(\"height:N\"),\n",
    "        alt.StrokeDash(\"date:O\"),\n",
    ").properties(width = 300, height = 200)\n",
    ").configure_axis(grid=False).configure_legend(orient='bottom-left', columns = 1)\n",
    "power_spectra_2m_is_too_low_chart"
   ]
  },
  {
   "cell_type": "code",
   "execution_count": 28,
   "metadata": {},
   "outputs": [],
   "source": [
    "power_spectra_2m_is_too_low_chart.save(\"power_spectra_2m_is_too_low_chart.png\", ppi=200)"
   ]
  },
  {
   "cell_type": "code",
   "execution_count": null,
   "metadata": {},
   "outputs": [],
   "source": [
    "src = bin_avg_spectra_df[bin_avg_spectra_df.date.isin(['2022-12-24', '2023-03-13'])]\n",
    "src['date'] = src['date'].replace({\n",
    "    '2022-12-24': '2022-12-24 (7cm snowdepth)',\n",
    "    '2023-03-13': '2023-03-13 (126cm snowdepth)',\n",
    "})\n",
    "alt.Chart(\n",
    "    src\n",
    ").mark_line().encode(\n",
    "    alt.X(\"frequency:Q\").scale(type='log'),\n",
    "    alt.Y(\"power spectrum:Q\").scale(type='log'),\n",
    "    alt.Color(\"height:N\"),\n",
    "    alt.Column(\"date:O\"),\n",
    "    # alt.StrokeDash(\"date:O\"),\n",
    ").properties(width = 300, height = 200).configure_axis(grid=False)"
   ]
  },
  {
   "cell_type": "markdown",
   "metadata": {},
   "source": [
    "# Calculate cospectra of u'w', w'tc', and w'h2o'"
   ]
  },
  {
   "cell_type": "code",
   "execution_count": null,
   "metadata": {},
   "outputs": [],
   "source": [
    "local_df_list = []\n",
    "towers = ['c', 'd', 'uw', 'ue']\n",
    "for tower in towers:\n",
    "    if tower == 'c':\n",
    "        heights = [2, 3, 5, 10, 15, 20]\n",
    "    else:\n",
    "        heights = [3, 10]\n",
    "    for height in heights:\n",
    "        local_df = pd.DataFrame(dict(zip(\n",
    "            ['frequency', 'power spectrum'],\n",
    "            list(csd(\n",
    "                    df[f'u_{height}m_{tower}'],\n",
    "                    df[f'w_{height}m_{tower}'],\n",
    "                    fs=20, #Hz\n",
    "                    window='hann', #'hann' is the default,\n",
    "                    nperseg=72000\n",
    "            ))\n",
    "        ))).assign(height=height).assign(tower=tower)\n",
    "        # local_df['power spectrum'] = np.real(local_df['power spectrum'])\n",
    "        local_df_list.append(local_df)\n",
    "momentum_copower_spectrum = pd.concat(local_df_list)"
   ]
  },
  {
   "cell_type": "code",
   "execution_count": null,
   "metadata": {},
   "outputs": [],
   "source": [
    "local_df_list = []\n",
    "towers = ['c', 'd', 'uw', 'ue']\n",
    "for tower in towers:\n",
    "    if tower == 'c':\n",
    "        heights = [2, 3, 5, 10, 15, 20]\n",
    "    else:\n",
    "        heights = [3, 10]\n",
    "    for height in heights:\n",
    "        local_df = pd.DataFrame(dict(zip(\n",
    "            ['frequency', 'power spectrum'],\n",
    "            list(csd(\n",
    "                    df[f'w_{height}m_{tower}'],\n",
    "                    df[f'tc_{height}m_{tower}'],\n",
    "                    fs=20, #Hz\n",
    "                    window='hann', #'hann' is the default,\n",
    "                    nperseg=72000\n",
    "            ))\n",
    "        ))).assign(height=height).assign(tower=tower)\n",
    "        # local_df['power spectrum'] = np.real(local_df['power spectrum'])\n",
    "        local_df_list.append(local_df)\n",
    "sensheat_copower_spectrum = pd.concat(local_df_list)"
   ]
  },
  {
   "cell_type": "code",
   "execution_count": null,
   "metadata": {},
   "outputs": [],
   "source": [
    "local_df_list = []\n",
    "towers = ['c', 'd', 'uw', 'ue']\n",
    "for tower in towers:\n",
    "    if tower == 'c':\n",
    "        heights = [2, 3, 5, 10, 15, 20]\n",
    "    else:\n",
    "        heights = [3, 10]\n",
    "    for height in heights:\n",
    "        local_df = pd.DataFrame(dict(zip(\n",
    "            ['frequency', 'power spectrum'],\n",
    "            list(csd(\n",
    "                    df[f'w_{height}m_{tower}'],\n",
    "                    df[f'h2o_{height}m_{tower}'],\n",
    "                    fs=20, #Hz\n",
    "                    window='hann', #'hann' is the default,\n",
    "                    nperseg=72000\n",
    "            ))\n",
    "        ))).assign(height=height).assign(tower=tower)\n",
    "        # local_df['power spectrum'] = np.real(local_df['power spectrum'])\n",
    "        local_df_list.append(local_df)\n",
    "latheat_copower_spectrum = pd.concat(local_df_list)"
   ]
  },
  {
   "cell_type": "code",
   "execution_count": null,
   "metadata": {},
   "outputs": [],
   "source": [
    "latheat_copower_spectrum"
   ]
  },
  {
   "cell_type": "code",
   "execution_count": null,
   "metadata": {},
   "outputs": [],
   "source": [
    "alt.Chart(\n",
    "    momentum_copower_spectrum.query(\"tower == 'c'\").query(\"frequency > 0\")\n",
    ").mark_line().encode(\n",
    "    alt.X(\"frequency:Q\").scale(type='log'),\n",
    "    alt.Y(\"power spectrum:Q\").scale(type='log'),\n",
    "    alt.Color(\"height:N\")\n",
    ").properties(width=300, height=150, title=\"u'w'\") |\\\n",
    "alt.Chart(\n",
    "    sensheat_copower_spectrum.query(\"tower == 'c'\").query(\"frequency > 0\")\n",
    ").mark_line().encode(\n",
    "    alt.X(\"frequency:Q\").scale(type='log'),\n",
    "    alt.Y(\"power spectrum:Q\").scale(type='log'),\n",
    "    alt.Color(\"height:N\")\n",
    ").properties(width=300, height=150, title=\"w'tc'\")  |\\\n",
    "alt.Chart(\n",
    "    latheat_copower_spectrum.query(\"tower == 'c'\").query(\"frequency > 0\")\n",
    ").mark_line().encode(\n",
    "    alt.X(\"frequency:Q\").scale(type='log'),\n",
    "    alt.Y(\"power spectrum:Q\").scale(type='log'),\n",
    "    alt.Color(\"height:N\")\n",
    ").properties(width=300, height=150, title=\"w'h2o'\")"
   ]
  },
  {
   "cell_type": "code",
   "execution_count": null,
   "metadata": {},
   "outputs": [],
   "source": [
    "alt.Chart(\n",
    "    latheat_copower_spectrum.query(\"tower == 'c'\").query(\"frequency > 0\").query(\n",
    "        \"frequency < 0.01\"\n",
    "    )\n",
    ").mark_line().encode(\n",
    "    alt.X(\"frequency:Q\").scale(type='log'),\n",
    "    alt.Y(\"power spectrum:Q\").scale(type='log'),\n",
    "    alt.Color(\"height:N\")\n",
    ").properties(width=300, height=150, title=\"w'h2o'\")"
   ]
  },
  {
   "cell_type": "code",
   "execution_count": null,
   "metadata": {},
   "outputs": [],
   "source": []
  },
  {
   "cell_type": "code",
   "execution_count": null,
   "metadata": {},
   "outputs": [],
   "source": [
    "alt.Chart(\n",
    "    latheat_copower_spectrum.query(\"tower == 'c'\").query(\"frequency > 0\").query(\"height < 10\")\n",
    ").mark_line().encode(\n",
    "    alt.X(\"frequency:Q\").scale(type='log'),\n",
    "    alt.Y(\"power spectrum:Q\"),\n",
    "    alt.Color(\"height:N\")\n",
    ").properties(width=300, height=150, title=\"w'h2o'\")"
   ]
  },
  {
   "cell_type": "code",
   "execution_count": null,
   "metadata": {},
   "outputs": [],
   "source": [
    "alt.Chart(\n",
    "    sensheat_copower_spectrum[\n",
    "        sensheat_copower_spectrum.height.isin([3,10])\n",
    "    ].query(\"frequency > 0\")\n",
    ").mark_line().encode(\n",
    "    alt.X(\"frequency:Q\").scale(type='log'),\n",
    "    alt.Y(\"power spectrum:Q\"),\n",
    "    alt.Color(\"height:N\"),\n",
    "    alt.Facet(\"tower:N\", columns=2),\n",
    ").properties(width=200, height=100, title=\"w'tc'\").display(renderer='svg')"
   ]
  },
  {
   "cell_type": "code",
   "execution_count": null,
   "metadata": {},
   "outputs": [],
   "source": []
  }
 ],
 "metadata": {
  "kernelspec": {
   "display_name": "arm",
   "language": "python",
   "name": "python3"
  },
  "language_info": {
   "codemirror_mode": {
    "name": "ipython",
    "version": 3
   },
   "file_extension": ".py",
   "mimetype": "text/x-python",
   "name": "python",
   "nbconvert_exporter": "python",
   "pygments_lexer": "ipython3",
   "version": "3.1.0"
  },
  "orig_nbformat": 4,
  "vscode": {
   "interpreter": {
    "hash": "e2b11a00ad1b97cabcd9cc9209b8824a0fcaf6ffe37b5243943912873b5dcab1"
   }
  }
 },
 "nbformat": 4,
 "nbformat_minor": 2
}
