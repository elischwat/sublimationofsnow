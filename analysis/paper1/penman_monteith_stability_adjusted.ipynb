{
 "cells": [
  {
   "cell_type": "markdown",
   "metadata": {},
   "source": [
    "In this notebook we compare the \"simple\" Penman-Monteith calculations made in `create_turbulence_dateset.ipynb`, which rely on an empirical function from the PyET library for calculating aerodynamic resistance, with \"stability-adjusted\" Penman-Monteith calculations. We do the \"stability-adjusted\" calculations by using the conductance values from in our TurbPY/MOST model runs."
   ]
  },
  {
   "cell_type": "code",
   "execution_count": 9,
   "metadata": {},
   "outputs": [
    {
     "data": {
      "text/plain": [
       "DataTransformerRegistry.enable('json')"
      ]
     },
     "execution_count": 9,
     "metadata": {},
     "output_type": "execute_result"
    }
   ],
   "source": [
    "import os\n",
    "import numpy as np\n",
    "import pandas as pd\n",
    "from sublimpy import tidy\n",
    "import altair as alt\n",
    "alt.data_transformers.enable('json')"
   ]
  },
  {
   "cell_type": "markdown",
   "metadata": {},
   "source": [
    "# Open Data "
   ]
  },
  {
   "cell_type": "code",
   "execution_count": 10,
   "metadata": {},
   "outputs": [],
   "source": [
    "# Measurements\n",
    "start_date = '20221130'\n",
    "end_date = '20230517'\n",
    "tidy_df_30Min = pd.read_parquet(f\"../sos/tidy_df_30Min_{start_date}_{end_date}_noplanar_fit.parquet\")\n",
    "tidy_df_5Min = pd.read_parquet(f\"../sos/tidy_df_{start_date}_{end_date}_noplanar_fit.parquet\")    \n",
    "tidy_df_5Min['time'] = pd.to_datetime(tidy_df_5Min['time'])\n",
    "tidy_df_30Min['time'] = pd.to_datetime(tidy_df_30Min['time'])\n",
    "\n",
    "# Model Results\n",
    "model_df = pd.read_parquet(\"model_results.parquet\")"
   ]
  },
  {
   "cell_type": "markdown",
   "metadata": {},
   "source": [
    "Add some info to the model_df to make sorting results easier"
   ]
  },
  {
   "cell_type": "code",
   "execution_count": 11,
   "metadata": {},
   "outputs": [
    {
     "data": {
      "text/html": [
       "<div>\n",
       "<style scoped>\n",
       "    .dataframe tbody tr th:only-of-type {\n",
       "        vertical-align: middle;\n",
       "    }\n",
       "\n",
       "    .dataframe tbody tr th {\n",
       "        vertical-align: top;\n",
       "    }\n",
       "\n",
       "    .dataframe thead th {\n",
       "        text-align: right;\n",
       "    }\n",
       "</style>\n",
       "<table border=\"1\" class=\"dataframe\">\n",
       "  <thead>\n",
       "    <tr style=\"text-align: right;\">\n",
       "      <th></th>\n",
       "      <th>time</th>\n",
       "      <th>config</th>\n",
       "      <th>latent heat flux</th>\n",
       "      <th>sensible heat flux</th>\n",
       "      <th>zeta</th>\n",
       "      <th>latent heat conductance</th>\n",
       "      <th>sensible heat conductance</th>\n",
       "      <th>scheme</th>\n",
       "      <th>z0</th>\n",
       "      <th>e_sat_curve</th>\n",
       "      <th>surface_measurement</th>\n",
       "      <th>most_config</th>\n",
       "    </tr>\n",
       "  </thead>\n",
       "  <tbody>\n",
       "    <tr>\n",
       "      <th>0</th>\n",
       "      <td>2022-11-29 17:00:00</td>\n",
       "      <td>Standard Tsurf_c e_sat_metpy 0.0001</td>\n",
       "      <td>0.005086</td>\n",
       "      <td>0.003401</td>\n",
       "      <td>NaN</td>\n",
       "      <td>0.005246</td>\n",
       "      <td>0.005246</td>\n",
       "      <td>yang</td>\n",
       "      <td>0.0001</td>\n",
       "      <td>metpy</td>\n",
       "      <td>Tsurf_c</td>\n",
       "      <td>Standard</td>\n",
       "    </tr>\n",
       "    <tr>\n",
       "      <th>1</th>\n",
       "      <td>2022-11-29 17:30:00</td>\n",
       "      <td>Standard Tsurf_c e_sat_metpy 0.0001</td>\n",
       "      <td>0.008932</td>\n",
       "      <td>0.001381</td>\n",
       "      <td>NaN</td>\n",
       "      <td>0.007048</td>\n",
       "      <td>0.007048</td>\n",
       "      <td>yang</td>\n",
       "      <td>0.0001</td>\n",
       "      <td>metpy</td>\n",
       "      <td>Tsurf_c</td>\n",
       "      <td>Standard</td>\n",
       "    </tr>\n",
       "    <tr>\n",
       "      <th>2</th>\n",
       "      <td>2022-11-29 18:00:00</td>\n",
       "      <td>Standard Tsurf_c e_sat_metpy 0.0001</td>\n",
       "      <td>0.006719</td>\n",
       "      <td>-0.002035</td>\n",
       "      <td>NaN</td>\n",
       "      <td>0.005670</td>\n",
       "      <td>0.005670</td>\n",
       "      <td>yang</td>\n",
       "      <td>0.0001</td>\n",
       "      <td>metpy</td>\n",
       "      <td>Tsurf_c</td>\n",
       "      <td>Standard</td>\n",
       "    </tr>\n",
       "    <tr>\n",
       "      <th>3</th>\n",
       "      <td>2022-11-29 18:30:00</td>\n",
       "      <td>Standard Tsurf_c e_sat_metpy 0.0001</td>\n",
       "      <td>0.001914</td>\n",
       "      <td>-0.001950</td>\n",
       "      <td>NaN</td>\n",
       "      <td>0.002490</td>\n",
       "      <td>0.002490</td>\n",
       "      <td>yang</td>\n",
       "      <td>0.0001</td>\n",
       "      <td>metpy</td>\n",
       "      <td>Tsurf_c</td>\n",
       "      <td>Standard</td>\n",
       "    </tr>\n",
       "    <tr>\n",
       "      <th>4</th>\n",
       "      <td>2022-11-29 19:00:00</td>\n",
       "      <td>Standard Tsurf_c e_sat_metpy 0.0001</td>\n",
       "      <td>0.000760</td>\n",
       "      <td>-0.001411</td>\n",
       "      <td>NaN</td>\n",
       "      <td>0.001563</td>\n",
       "      <td>0.001563</td>\n",
       "      <td>yang</td>\n",
       "      <td>0.0001</td>\n",
       "      <td>metpy</td>\n",
       "      <td>Tsurf_c</td>\n",
       "      <td>Standard</td>\n",
       "    </tr>\n",
       "  </tbody>\n",
       "</table>\n",
       "</div>"
      ],
      "text/plain": [
       "                 time                               config  latent heat flux  \\\n",
       "0 2022-11-29 17:00:00  Standard Tsurf_c e_sat_metpy 0.0001          0.005086   \n",
       "1 2022-11-29 17:30:00  Standard Tsurf_c e_sat_metpy 0.0001          0.008932   \n",
       "2 2022-11-29 18:00:00  Standard Tsurf_c e_sat_metpy 0.0001          0.006719   \n",
       "3 2022-11-29 18:30:00  Standard Tsurf_c e_sat_metpy 0.0001          0.001914   \n",
       "4 2022-11-29 19:00:00  Standard Tsurf_c e_sat_metpy 0.0001          0.000760   \n",
       "\n",
       "   sensible heat flux  zeta  latent heat conductance  \\\n",
       "0            0.003401   NaN                 0.005246   \n",
       "1            0.001381   NaN                 0.007048   \n",
       "2           -0.002035   NaN                 0.005670   \n",
       "3           -0.001950   NaN                 0.002490   \n",
       "4           -0.001411   NaN                 0.001563   \n",
       "\n",
       "   sensible heat conductance scheme      z0 e_sat_curve surface_measurement  \\\n",
       "0                   0.005246   yang  0.0001       metpy             Tsurf_c   \n",
       "1                   0.007048   yang  0.0001       metpy             Tsurf_c   \n",
       "2                   0.005670   yang  0.0001       metpy             Tsurf_c   \n",
       "3                   0.002490   yang  0.0001       metpy             Tsurf_c   \n",
       "4                   0.001563   yang  0.0001       metpy             Tsurf_c   \n",
       "\n",
       "  most_config  \n",
       "0    Standard  \n",
       "1    Standard  \n",
       "2    Standard  \n",
       "3    Standard  \n",
       "4    Standard  "
      ]
     },
     "execution_count": 11,
     "metadata": {},
     "output_type": "execute_result"
    }
   ],
   "source": [
    "model_df['scheme'] = model_df['config'].apply(\n",
    "    lambda v: 'andreas' if 'andreas lengths' in v else 'yang'\n",
    ")\n",
    "model_df['z0'] = model_df['config'].apply(\n",
    "    lambda v: float(v.split(' ')[-1])\n",
    ")\n",
    "\n",
    "model_df['e_sat_curve'] = model_df['config'].apply(\n",
    "    lambda v: 'metpy' if 'metpy' in v else 'alduchov'\n",
    ")\n",
    "\n",
    "model_df['surface_measurement'] = model_df['config'].apply(\n",
    "    lambda v: v.split(' ')[-3]\n",
    ")\n",
    "\n",
    "model_df['most_config'] = model_df['config'].apply(lambda s: ' '.join(s.split(' ')[:-3]))\n",
    "# remove the scalar roughness length parameterization info \n",
    "model_df['most_config'] = model_df['most_config'].str.replace(' andreas lengths', '')\n",
    "\n",
    "model_df.head()"
   ]
  },
  {
   "cell_type": "markdown",
   "metadata": {},
   "source": [
    "# Calculate stability-adjusted Penman-Monteith estimates of sublimation"
   ]
  },
  {
   "cell_type": "markdown",
   "metadata": {},
   "source": [
    "Gather the measurements we need"
   ]
  },
  {
   "cell_type": "code",
   "execution_count": 12,
   "metadata": {},
   "outputs": [
    {
     "data": {
      "text/html": [
       "<div>\n",
       "<style scoped>\n",
       "    .dataframe tbody tr th:only-of-type {\n",
       "        vertical-align: middle;\n",
       "    }\n",
       "\n",
       "    .dataframe tbody tr th {\n",
       "        vertical-align: top;\n",
       "    }\n",
       "\n",
       "    .dataframe thead th {\n",
       "        text-align: right;\n",
       "    }\n",
       "</style>\n",
       "<table border=\"1\" class=\"dataframe\">\n",
       "  <thead>\n",
       "    <tr style=\"text-align: right;\">\n",
       "      <th>variable</th>\n",
       "      <th>time</th>\n",
       "      <th>P_10m_c</th>\n",
       "      <th>Rnet_9m_d</th>\n",
       "      <th>T_3m_c</th>\n",
       "      <th>Tsurfvaporpressure_c</th>\n",
       "      <th>airdensity_3m_c</th>\n",
       "      <th>spd_3m_c</th>\n",
       "      <th>vaporpressure_3m_c</th>\n",
       "    </tr>\n",
       "  </thead>\n",
       "  <tbody>\n",
       "    <tr>\n",
       "      <th>0</th>\n",
       "      <td>2022-11-29 17:00:00</td>\n",
       "      <td>713.159607</td>\n",
       "      <td>-57.467264</td>\n",
       "      <td>-12.797492</td>\n",
       "      <td>235.782582</td>\n",
       "      <td>0.95436</td>\n",
       "      <td>3.323426</td>\n",
       "      <td>149.831121</td>\n",
       "    </tr>\n",
       "    <tr>\n",
       "      <th>1</th>\n",
       "      <td>2022-11-29 17:30:00</td>\n",
       "      <td>713.428101</td>\n",
       "      <td>-79.222653</td>\n",
       "      <td>-13.050861</td>\n",
       "      <td>226.665552</td>\n",
       "      <td>0.95583</td>\n",
       "      <td>4.556745</td>\n",
       "      <td>114.146005</td>\n",
       "    </tr>\n",
       "  </tbody>\n",
       "</table>\n",
       "</div>"
      ],
      "text/plain": [
       "variable                time     P_10m_c  Rnet_9m_d     T_3m_c  \\\n",
       "0        2022-11-29 17:00:00  713.159607 -57.467264 -12.797492   \n",
       "1        2022-11-29 17:30:00  713.428101 -79.222653 -13.050861   \n",
       "\n",
       "variable  Tsurfvaporpressure_c  airdensity_3m_c  spd_3m_c  vaporpressure_3m_c  \n",
       "0                   235.782582          0.95436  3.323426          149.831121  \n",
       "1                   226.665552          0.95583  4.556745          114.146005  "
      ]
     },
     "execution_count": 12,
     "metadata": {},
     "output_type": "execute_result"
    }
   ],
   "source": [
    "pyet_src = tidy_df_30Min[tidy_df_30Min.variable.isin([\n",
    "    'Rnet_9m_d',\n",
    "    'airdensity_3m_c',\n",
    "    'Tsurfvaporpressure_c',\n",
    "    'vaporpressure_3m_c',\n",
    "    'T_3m_c',\n",
    "    'spd_3m_c',\n",
    "    'P_10m_c'\n",
    "])].pivot_table(\n",
    "    index=['time'],\n",
    "    values='value',\n",
    "    columns='variable'\n",
    "# Calculate means across 30min periods, mins and maxes for the required variables too\n",
    ").reset_index()\n",
    "pyet_src.head(2)"
   ]
  },
  {
   "cell_type": "markdown",
   "metadata": {},
   "source": [
    "Add in conductance values from the model data"
   ]
  },
  {
   "cell_type": "code",
   "execution_count": 13,
   "metadata": {},
   "outputs": [
    {
     "data": {
      "text/html": [
       "<div>\n",
       "<style scoped>\n",
       "    .dataframe tbody tr th:only-of-type {\n",
       "        vertical-align: middle;\n",
       "    }\n",
       "\n",
       "    .dataframe tbody tr th {\n",
       "        vertical-align: top;\n",
       "    }\n",
       "\n",
       "    .dataframe thead th {\n",
       "        text-align: right;\n",
       "    }\n",
       "</style>\n",
       "<table border=\"1\" class=\"dataframe\">\n",
       "  <thead>\n",
       "    <tr style=\"text-align: right;\">\n",
       "      <th>config</th>\n",
       "      <th>time</th>\n",
       "      <th>MO Holtslag de Bruin Tsurf_c e_sat_alduchov 0.0001</th>\n",
       "      <th>MO Holtslag de Bruin Tsurf_c e_sat_alduchov 0.0005</th>\n",
       "      <th>Standard Tsurf_c e_sat_alduchov 0.0001</th>\n",
       "      <th>Standard Tsurf_c e_sat_alduchov 0.0005</th>\n",
       "    </tr>\n",
       "  </thead>\n",
       "  <tbody>\n",
       "    <tr>\n",
       "      <th>0</th>\n",
       "      <td>2022-11-29 17:00:00</td>\n",
       "      <td>2834700.0</td>\n",
       "      <td>2834700.0</td>\n",
       "      <td>0.005246</td>\n",
       "      <td>0.007398</td>\n",
       "    </tr>\n",
       "    <tr>\n",
       "      <th>1</th>\n",
       "      <td>2022-11-29 17:30:00</td>\n",
       "      <td>2834700.0</td>\n",
       "      <td>2834700.0</td>\n",
       "      <td>0.007048</td>\n",
       "      <td>0.009940</td>\n",
       "    </tr>\n",
       "    <tr>\n",
       "      <th>2</th>\n",
       "      <td>2022-11-29 18:00:00</td>\n",
       "      <td>2834700.0</td>\n",
       "      <td>2834700.0</td>\n",
       "      <td>0.005670</td>\n",
       "      <td>0.007997</td>\n",
       "    </tr>\n",
       "  </tbody>\n",
       "</table>\n",
       "</div>"
      ],
      "text/plain": [
       "config                time  \\\n",
       "0      2022-11-29 17:00:00   \n",
       "1      2022-11-29 17:30:00   \n",
       "2      2022-11-29 18:00:00   \n",
       "\n",
       "config  MO Holtslag de Bruin Tsurf_c e_sat_alduchov 0.0001  \\\n",
       "0                                               2834700.0    \n",
       "1                                               2834700.0    \n",
       "2                                               2834700.0    \n",
       "\n",
       "config  MO Holtslag de Bruin Tsurf_c e_sat_alduchov 0.0005  \\\n",
       "0                                               2834700.0    \n",
       "1                                               2834700.0    \n",
       "2                                               2834700.0    \n",
       "\n",
       "config  Standard Tsurf_c e_sat_alduchov 0.0001  \\\n",
       "0                                     0.005246   \n",
       "1                                     0.007048   \n",
       "2                                     0.005670   \n",
       "\n",
       "config  Standard Tsurf_c e_sat_alduchov 0.0005  \n",
       "0                                     0.007398  \n",
       "1                                     0.009940  \n",
       "2                                     0.007997  "
      ]
     },
     "execution_count": 13,
     "metadata": {},
     "output_type": "execute_result"
    }
   ],
   "source": [
    "conductance_values = model_df[model_df.config.isin([\n",
    "    'MO Holtslag de Bruin Tsurf_c e_sat_alduchov 0.0001',\n",
    "    'MO Holtslag de Bruin Tsurf_c e_sat_alduchov 0.0005',\n",
    "    'Standard Tsurf_c e_sat_alduchov 0.0001',\n",
    "    'Standard Tsurf_c e_sat_alduchov 0.0005',\n",
    "])][['time', 'config', 'latent heat conductance']].pivot_table(\n",
    "    index=['time'],\n",
    "    values='latent heat conductance',\n",
    "    columns='config'\n",
    "# Calculate means across 30min periods, mins and maxes for the required variables too\n",
    ").reset_index()\n",
    "conductance_values.head(3)"
   ]
  },
  {
   "cell_type": "code",
   "execution_count": 14,
   "metadata": {},
   "outputs": [],
   "source": [
    "pyet_src = pd.merge(pyet_src, conductance_values, on='time', how='left')"
   ]
  },
  {
   "cell_type": "code",
   "execution_count": 15,
   "metadata": {},
   "outputs": [],
   "source": [
    "# From PyET code\n",
    "# Equation for calculating the latent heat of vaporization from:\n",
    "# Richard G Allen, Luis S Pereira, Dirk Raes, Martin Smith, and others. Crop evapotranspiration-Guidelines for computing crop \n",
    "# water requirements-FAO Irrigation and drainage paper 56. Fao, Rome, 300(9):D05109, 1998.\n",
    "pyet_src['L_v estimated'] = 2.501 - 0.002361 * pyet_src['T_3m_c']"
   ]
  },
  {
   "cell_type": "code",
   "execution_count": 16,
   "metadata": {},
   "outputs": [],
   "source": [
    "def calc_delta_alduchov(t_in_c):\n",
    "# Taking the derivative of the Alduchov curve\n",
    "# returns in kPa\n",
    "    numerator = 37836.5*np.exp((22.587*t_in_c)/(273.86+t_in_c))\n",
    "    denominator = (t_in_c + 273.86)**2\n",
    "    # 0.1 to convert from millibars to kPa\n",
    "    return 0.1*numerator/denominator\n",
    "\n",
    "def calc_psychrometric_constant(C_p, P, L_v):\n",
    "    # C_p in MJ/kg/˚C\n",
    "    # P in kPa\n",
    "    # L_v in MJ/kg\n",
    "    # From wikipedia\n",
    "    # https://en.wikipedia.org/wiki/Psychrometric_constant#cite_note-1\n",
    "    # which cites this:\n",
    "    #  Allen, R.G.; Pereira, L.S.; Raes, D.; Smith, M. (1998). Crop Evapotranspiration—Guidelines for Computing Crop Water Requirements. \n",
    "    # FAO Irrigation and drainage paper 56. Rome, Italy: Food and Agriculture Organization of the United Nations. ISBN 92-5-104219-5. Retrieved 2007-10-08.\n",
    "    return C_p*P/(0.622 * L_v)"
   ]
  },
  {
   "cell_type": "code",
   "execution_count": 17,
   "metadata": {},
   "outputs": [],
   "source": [
    "C_p = 1.013 * 10 ** -3  # MJ/kg/K\n",
    "\n",
    "def penman_monteith(\n",
    "    energy_available, # MJ/m^2/day\n",
    "    density_air, # kg/m^3\n",
    "    vapor_pressure_surface, # kPa\n",
    "    vapor_pressure_air, # kPa\n",
    "    temp_air, # ˚C\n",
    "    pressure, # kPa\n",
    "    wind_speed, # m/s\n",
    "    L_v,\n",
    "    C_q\n",
    "):\n",
    "    A = energy_available\n",
    "    rho_a = density_air\n",
    "    e_s = vapor_pressure_surface\n",
    "    e_a = vapor_pressure_air\n",
    "    \n",
    "    # delta = pyet.calc_vpc(temp_air)\n",
    "    delta = calc_delta_alduchov(temp_air)\n",
    "    y = calc_psychrometric_constant(C_p, pressure, L_v)\n",
    "    r_a = 1/(wind_speed * C_q)\n",
    "    r_s = 0\n",
    "\n",
    "    numerator = delta*A + rho_a*86400*C_p*(e_s - e_a)/r_a\n",
    "    denominator = delta + y*(1 + r_s / r_a)\n",
    "    return (1/L_v)*(numerator/denominator)"
   ]
  },
  {
   "cell_type": "markdown",
   "metadata": {},
   "source": [
    "Do calculations"
   ]
  },
  {
   "cell_type": "code",
   "execution_count": 18,
   "metadata": {},
   "outputs": [],
   "source": [
    "from metpy.units import units\n",
    "import pint_pandas\n",
    "import pint_xarray"
   ]
  },
  {
   "cell_type": "code",
   "execution_count": 19,
   "metadata": {},
   "outputs": [],
   "source": [
    "pyet_src['pm results'] = penman_monteith(\n",
    "    (pyet_src['Rnet_9m_d'].to_xarray() * units(\"W/m^2\")).pint.to(\"MJ/m^2/day\").values,\n",
    "    pyet_src['airdensity_3m_c'].values,\n",
    "    (pyet_src['Tsurfvaporpressure_c'].to_xarray() * units(\"Pa\")).pint.to(\"kPa\").values,\n",
    "    (pyet_src['vaporpressure_3m_c'].to_xarray() * units(\"Pa\")).pint.to(\"kPa\").values,\n",
    "    pyet_src['T_3m_c'].values,\n",
    "    (pyet_src['P_10m_c'].to_xarray() * units(\"millibars\")).pint.to(\"kPa\").values,\n",
    "    pyet_src['spd_3m_c'].values,\n",
    "    pyet_src['L_v estimated'].values,\n",
    "    pyet_src['Standard Tsurf_c e_sat_alduchov 0.0001'].values\n",
    ")\n",
    "pyet_src['pm results'] = pyet_src['pm results']/(86.4) # convert from mm/day to g/m^2/s"
   ]
  },
  {
   "cell_type": "code",
   "execution_count": 20,
   "metadata": {},
   "outputs": [
    {
     "data": {
      "text/plain": [
       "<matplotlib.legend.Legend at 0x7feba8e46710>"
      ]
     },
     "execution_count": 20,
     "metadata": {},
     "output_type": "execute_result"
    },
    {
     "data": {
      "image/png": "[encoded data removed]",
      "text/plain": [
       "<Figure size 640x480 with 1 Axes>"
      ]
     },
     "metadata": {},
     "output_type": "display_data"
    }
   ],
   "source": [
    "import matplotlib.pyplot as plt\n",
    "pyet_src.set_index('time')['pm results'].plot(alpha=0.25, label = 'Stability-adjusted PM')\n",
    "tidy_df_30Min.query(\"variable == 'w_h2o__3m_c predicted (Penman Monteith)'\").set_index('time')['value'].plot(alpha=0.25, label = 'PM')\n",
    "plt.legend()"
   ]
  },
  {
   "cell_type": "code",
   "execution_count": 21,
   "metadata": {},
   "outputs": [
    {
     "data": {
      "text/plain": [
       "<matplotlib.legend.Legend at 0x7feba8cde810>"
      ]
     },
     "execution_count": 21,
     "metadata": {},
     "output_type": "execute_result"
    },
    {
     "data": {
      "image/png": "[encoded data removed]",
      "text/plain": [
       "<Figure size 640x480 with 1 Axes>"
      ]
     },
     "metadata": {},
     "output_type": "display_data"
    }
   ],
   "source": [
    "import matplotlib.pyplot as plt\n",
    "pyet_src.set_index('time')['pm results'].cumsum().plot(alpha=0.25, label = 'Stability-adjusted PM')\n",
    "tidy_df_30Min.query(\"variable == 'w_h2o__3m_c predicted (Penman Monteith)'\").set_index('time')['value'].cumsum().plot(alpha=0.25, label = 'PM')\n",
    "plt.legend()"
   ]
  },
  {
   "cell_type": "markdown",
   "metadata": {},
   "source": [
    "# Add stability-adjusted PM calculations to tidy_df_30Min"
   ]
  },
  {
   "cell_type": "code",
   "execution_count": 22,
   "metadata": {},
   "outputs": [],
   "source": [
    "# merge with one variable from the tidy dataset so i'm not missing any timesteps\n",
    "stab_adjusted_pm_predictions = pyet_src[['time', 'pm results']].merge(\n",
    "    tidy_df_30Min.query(\"variable == 'w_h2o__3m_c predicted (Penman Monteith)'\")[['time', 'value']],\n",
    "    on = 'time',\n",
    "    how='right'\n",
    ")['pm results'].values\n",
    "\n",
    "tidy_df_30Min = tidy.tidy_df_add_variable(\n",
    "    tidy_df_30Min,\n",
    "    stab_adjusted_pm_predictions,\n",
    "    'w_h2o__3m_c predicted (stability adjusted Penman Monteith)',\n",
    "    'w_h2o_',\n",
    "    3,\n",
    "    'c'\n",
    ")"
   ]
  },
  {
   "cell_type": "code",
   "execution_count": 24,
   "metadata": {},
   "outputs": [],
   "source": [
    "tidy_df_30Min.to_parquet(f\"../sos/tidy_df_30Min_{start_date}_{end_date}_noplanar_fit.parquet\")"
   ]
  },
  {
   "cell_type": "code",
   "execution_count": null,
   "metadata": {},
   "outputs": [],
   "source": []
  }
 ],
 "metadata": {
  "kernelspec": {
   "display_name": "arm",
   "language": "python",
   "name": "python3"
  },
  "language_info": {
   "codemirror_mode": {
    "name": "ipython",
    "version": 3
   },
   "file_extension": ".py",
   "mimetype": "text/x-python",
   "name": "python",
   "nbconvert_exporter": "python",
   "pygments_lexer": "ipython3",
   "version": "3.11.0"
  }
 },
 "nbformat": 4,
 "nbformat_minor": 2
}
