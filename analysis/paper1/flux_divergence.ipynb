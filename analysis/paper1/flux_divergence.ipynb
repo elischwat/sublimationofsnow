{
 "cells": [
  {
   "cell_type": "code",
   "execution_count": 45,
   "metadata": {},
   "outputs": [],
   "source": [
    "import numpy as np\n",
    "import pandas as pd\n",
    "import matplotlib.pyplot as plt\n",
    "import altair as alt\n",
    "alt.data_transformers.enable('json')\n",
    "from sublimpy import tidy, utils\n",
    "import pytz"
   ]
  },
  {
   "cell_type": "code",
   "execution_count": 46,
   "metadata": {},
   "outputs": [],
   "source": [
    "seconds_in_timestep = 60*30\n",
    "from metpy.constants import density_water"
   ]
  },
  {
   "cell_type": "markdown",
   "metadata": {},
   "source": [
    "# Open datasets"
   ]
  },
  {
   "cell_type": "code",
   "execution_count": 47,
   "metadata": {},
   "outputs": [],
   "source": [
    "# Open SOS Measurement Dataset\n",
    "################################################\n",
    "start_date = '20221130'\n",
    "end_date = '20230509'\n",
    "# open files\n",
    "tidy_df = pd.read_parquet(f'tidy_df_{start_date}_{end_date}_noplanar_fit_clean.parquet')\n",
    "# convert time column to datetime\n",
    "tidy_df['time'] = pd.to_datetime(tidy_df['time'])\n",
    "# limit data to our dates of interest, based on continuous snow cover at Kettle Ponds\n",
    "tidy_df = tidy_df.set_index('time').sort_index().loc[start_date:end_date].reset_index()\n",
    "\n",
    "tidy_df = utils.modify_df_timezone(tidy_df, pytz.UTC, 'US/Mountain')\n",
    "\n",
    "\n",
    "# Open Turbpy Model Ensemble Dataset\n",
    "################################################\n",
    "model_df = pd.read_parquet(\"model_results.parquet\")\n",
    "# add a bunch of columns that are descriptive, from the config column which has multiple bits of info\n",
    "model_df['z0'] = model_df['config'].apply(\n",
    "    lambda v: v.split(' ')[-1]\n",
    ")\n",
    "model_df['e_sat_curve'] = model_df['config'].apply(\n",
    "    lambda v: 'metpy' if 'metpy' in v else 'alduchov'\n",
    ")\n",
    "model_df['surface_measurement'] = model_df['config'].apply(\n",
    "    lambda v: v.split(' ')[-3]\n",
    ")\n",
    "model_df['scheme'] = model_df['config'].apply(\n",
    "    lambda v: 'andreas' if 'andreas lengths' in v else 'yang'\n",
    ")\n",
    "model_df['most_config'] = model_df['config'].apply(lambda s: ' '.join(s.split(' ')[:-3]))\n",
    "# remove the scalar roughness length parameterization info \n",
    "model_df['most_config'] = model_df['most_config'].str.replace(' andreas lengths', '')\n",
    "model_df['latent heat flux (mm)'] = -model_df['latent heat flux']*seconds_in_timestep/density_water/2838\n",
    "\n",
    "model_df = utils.modify_df_timezone(model_df, pytz.UTC, 'US/Mountain')\n",
    "\n",
    "\n",
    "# Open COARE model results\n",
    "################################################\n",
    "coare_model_results = pd.read_parquet(\"coare_model_results.parquet\").reset_index()\n",
    "coare_model_results['z0'] = coare_model_results.config.str.split(' ').apply(lambda x: x[-2])\n",
    "coare_model_results['surface_measurement'] = coare_model_results.config.str.split(' ').apply(lambda x: x[0])\n",
    "coare_model_results['e_sat_curve'] = coare_model_results.config.str.split(' ').apply(lambda x: x[1])\n",
    "coare_model_results['meas_height'] = coare_model_results.config.str.split(' ').apply(lambda x: int(x[-1].split('m')[0]))\n",
    "\n",
    "coare_model_results['hlb_mm'] = coare_model_results['hlb_gperm2s']*seconds_in_timestep/density_water\n",
    "\n",
    "coare_model_results = utils.modify_df_timezone(coare_model_results, pytz.UTC, 'US/Mountain')"
   ]
  },
  {
   "cell_type": "markdown",
   "metadata": {},
   "source": [
    "# Test corrections (put this somewhere else...)"
   ]
  },
  {
   "cell_type": "code",
   "execution_count": 84,
   "metadata": {},
   "outputs": [],
   "source": [
    "rho_d = 1.293 #kg/m^3, density of dry air\n",
    "rho_a = 1.287 #kg/m^3, density of moist air\n",
    "mu = 1/0.622\n",
    "\n",
    "def corrected_sensible_heat_flux(\n",
    "    w_tc_, #sonic_temperature_flux\n",
    "    w_h2o_, #h2o_flux\n",
    "    Q, #specific_humidity\n",
    "    T, #absolute_temperature\n",
    "    A, #A\n",
    "    Mr, #mean_mixing_ratio\n",
    "):\n",
    "    Ctc = 0.51*(1 + Q*(mu-1))\n",
    "    return (\n",
    "        w_tc_ - Ctc*(T/rho_a)*A*w_h2o_\n",
    "    ) / (\n",
    "        1 + Ctc*Q\n",
    "    )\n",
    "\n",
    "def corrected_latent_heat_flux(\n",
    "    w_tc_, #sonic_temperature_flux\n",
    "    w_h2o_, #h2o_flux\n",
    "    Q, #specific_humidity\n",
    "    T, #absolute_temperature\n",
    "    A, #A\n",
    "    Mr, #mean_mixing_ratio\n",
    "):\n",
    "    Ctc = 0.51*(1 + Q*(mu-1))\n",
    "    return (1 + mu*Mr)* (\n",
    "        (A/rho_d)*w_h2o_ + (Mr/T)*(w_tc_)\n",
    "    ) / (\n",
    "        1 + Ctc*Q\n",
    "    )"
   ]
  },
  {
   "cell_type": "code",
   "execution_count": 85,
   "metadata": {},
   "outputs": [],
   "source": [
    "w_tc__corrected = corrected_sensible_heat_flux(\n",
    "    tidy_df[tidy_df['variable'] == 'w_tc__3m_c'].value.values,\n",
    "    tidy_df[tidy_df['variable'] == 'w_h2o__3m_c'].value.values,\n",
    "    tidy_df[tidy_df['variable'] == 'specifichumidity_3m_c'].value.values,\n",
    "    tidy_df[tidy_df['variable'] == 'T_3m_c'].value.values,\n",
    "    0, #A\n",
    "    tidy_df[tidy_df['variable'] == 'mixingratio_3m_c'].value.values,\n",
    ")\n",
    "w_h2o__corrected = corrected_latent_heat_flux(\n",
    "    tidy_df[tidy_df['variable'] == 'w_tc__3m_c'].value.values,\n",
    "    tidy_df[tidy_df['variable'] == 'w_h2o__3m_c'].value.values,\n",
    "    tidy_df[tidy_df['variable'] == 'specifichumidity_3m_c'].value.values,\n",
    "    tidy_df[tidy_df['variable'] == 'T_3m_c'].value.values,\n",
    "    0, #A\n",
    "    tidy_df[tidy_df['variable'] == 'mixingratio_3m_c'].value.values,\n",
    ")"
   ]
  },
  {
   "cell_type": "code",
   "execution_count": 86,
   "metadata": {},
   "outputs": [],
   "source": [
    "compare_src = tidy_df[tidy_df['variable'].isin(['w_tc__3m_c', 'w_h2o__3m_c'])].pivot(\n",
    "    index='time',\n",
    "    columns='variable',\n",
    "    values='value'\n",
    ")\n",
    "compare_src['w_tc__3m_c_corrected'] = w_tc__corrected\n",
    "compare_src['w_h2o__3m_c_corrected'] = w_h2o__corrected"
   ]
  },
  {
   "cell_type": "code",
   "execution_count": 87,
   "metadata": {},
   "outputs": [
    {
     "data": {
      "text/plain": [
       "-0.0012247558715639713"
      ]
     },
     "execution_count": 87,
     "metadata": {},
     "output_type": "execute_result"
    }
   ],
   "source": [
    "(compare_src['w_tc__3m_c_corrected'] - compare_src['w_tc__3m_c']).mean() / compare_src['w_tc__3m_c'].mean()"
   ]
  },
  {
   "cell_type": "code",
   "execution_count": 88,
   "metadata": {},
   "outputs": [
    {
     "data": {
      "text/plain": [
       "0.2680792217420694"
      ]
     },
     "execution_count": 88,
     "metadata": {},
     "output_type": "execute_result"
    }
   ],
   "source": [
    "(compare_src['w_h2o__3m_c_corrected'] - compare_src['w_h2o__3m_c']).mean() / compare_src['w_tc__3m_c'].mean()"
   ]
  },
  {
   "cell_type": "code",
   "execution_count": 90,
   "metadata": {},
   "outputs": [
    {
     "data": {
      "text/plain": [
       "<Axes: xlabel='time'>"
      ]
     },
     "execution_count": 90,
     "metadata": {},
     "output_type": "execute_result"
    },
    {
     "data": {
      "image/png": "[encoded data removed]",
      "text/plain": [
       "<Figure size 640x480 with 1 Axes>"
      ]
     },
     "metadata": {},
     "output_type": "display_data"
    }
   ],
   "source": [
    "compare_src.loc[\"20230120\": \"20230124\"][['w_tc__3m_c_corrected', 'w_tc__3m_c']].plot()"
   ]
  },
  {
   "cell_type": "code",
   "execution_count": 89,
   "metadata": {},
   "outputs": [
    {
     "data": {
      "text/plain": [
       "<Axes: xlabel='time'>"
      ]
     },
     "execution_count": 89,
     "metadata": {},
     "output_type": "execute_result"
    },
    {
     "data": {
      "image/png": "[encoded data removed]",
      "text/plain": [
       "<Figure size 640x480 with 1 Axes>"
      ]
     },
     "metadata": {},
     "output_type": "display_data"
    }
   ],
   "source": [
    "compare_src.loc[\"20230120\": \"20230124\"][['w_h2o__3m_c_corrected', 'w_h2o__3m_c']].plot()"
   ]
  },
  {
   "cell_type": "code",
   "execution_count": 5,
   "metadata": {},
   "outputs": [
    {
     "data": {
      "text/plain": [
       "variable\n",
       "w_h2o__10m_c    0.002937\n",
       "w_h2o__15m_c    0.002159\n",
       "w_h2o__20m_c    0.002323\n",
       "w_h2o__2m_c     0.002321\n",
       "w_h2o__3m_c     0.002756\n",
       "w_h2o__5m_c     0.002824\n",
       "Name: value, dtype: float64"
      ]
     },
     "execution_count": 5,
     "metadata": {},
     "output_type": "execute_result"
    }
   ],
   "source": [
    "tidy_df[tidy_df.variable.isin([\n",
    "    'w_h2o__1m_c',\n",
    "    'w_h2o__2m_c',\n",
    "    'w_h2o__3m_c',\n",
    "    'w_h2o__5m_c',\n",
    "    'w_h2o__10m_c',\n",
    "    'w_h2o__15m_c',\n",
    "    'w_h2o__20m_c',\n",
    "])].groupby(\"variable\").value.mean()"
   ]
  },
  {
   "cell_type": "markdown",
   "metadata": {},
   "source": [
    "## Add combined blowing snow flux variable"
   ]
  },
  {
   "cell_type": "code",
   "execution_count": 6,
   "metadata": {},
   "outputs": [],
   "source": [
    "tidy_df = tidy.tidy_df_add_variable(\n",
    "    tidy_df,\n",
    "    (\n",
    "        tidy_df.query(\"variable == 'SF_avg_1m_ue'\")['value'].values + \n",
    "        tidy_df.query(\"variable == 'SF_avg_2m_ue'\")['value'].values\n",
    "    ), \n",
    "    'SF_avg_ue',\n",
    "    'snow flux',\n",
    "    1,\n",
    "    'ue',\n",
    ")\n"
   ]
  },
  {
   "cell_type": "markdown",
   "metadata": {},
   "source": [
    "# Identify lists of timestamps for different categories"
   ]
  },
  {
   "cell_type": "code",
   "execution_count": 7,
   "metadata": {},
   "outputs": [],
   "source": [
    "bs_times = tidy_df.query(\"variable == 'SF_avg_ue'\").query(\"value > 0\").time\n",
    "nobs_times = tidy_df.query(\"variable == 'SF_avg_ue'\").query(\"value == 0\").time\n",
    "\n",
    "decoupled_times = tidy_df.query(\"variable == 'omega_3m_c'\").query(\"value < 0.43\").time\n",
    "weaklycoupled_times = tidy_df.query(\"variable == 'omega_3m_c'\").query(\"value >= 0.43\").query(\"value <= 0.61\").time\n",
    "coupled_times = tidy_df.query(\"variable == 'omega_3m_c'\").query(\"value > 0.61\").time\n",
    "\n",
    "ri_stable_times = tidy_df.query(\"variable == 'Ri_3m_c'\").query(\"value > 0.25\").time\n",
    "ri_unstable_times = tidy_df.query(\"variable == 'Ri_3m_c'\").query(\"value < -0.01\").time\n",
    "ri_neutral_times = tidy_df.query(\"variable == 'Ri_3m_c'\").query(\"value >= -0.01\").query(\"value <= 0.25\").time\n",
    "\n",
    "tgrad_stable_times = tidy_df.query(\"variable == 'temp_gradient_3m_c'\").query(\"value > 0.01\").time\n",
    "tgrad_unstable_times = tidy_df.query(\"variable == 'temp_gradient_3m_c'\").query(\"value < -0.01\").time\n",
    "tgrad_neutral_times = tidy_df.query(\"variable == 'temp_gradient_3m_c'\").query(\"value >= -0.01\").query(\"value <= 0.01\").time"
   ]
  },
  {
   "cell_type": "markdown",
   "metadata": {},
   "source": [
    "# Isolate all LH flux measurements (tower c)"
   ]
  },
  {
   "cell_type": "code",
   "execution_count": 8,
   "metadata": {},
   "outputs": [
    {
     "data": {
      "text/html": [
       "<div>\n",
       "<style scoped>\n",
       "    .dataframe tbody tr th:only-of-type {\n",
       "        vertical-align: middle;\n",
       "    }\n",
       "\n",
       "    .dataframe tbody tr th {\n",
       "        vertical-align: top;\n",
       "    }\n",
       "\n",
       "    .dataframe thead th {\n",
       "        text-align: right;\n",
       "    }\n",
       "</style>\n",
       "<table border=\"1\" class=\"dataframe\">\n",
       "  <thead>\n",
       "    <tr style=\"text-align: right;\">\n",
       "      <th></th>\n",
       "      <th>time</th>\n",
       "      <th>variable</th>\n",
       "      <th>value</th>\n",
       "      <th>height</th>\n",
       "      <th>tower</th>\n",
       "      <th>measurement</th>\n",
       "    </tr>\n",
       "  </thead>\n",
       "  <tbody>\n",
       "    <tr>\n",
       "      <th>222</th>\n",
       "      <td>2022-11-29 17:00:00</td>\n",
       "      <td>w_h2o__20m_c</td>\n",
       "      <td>0.008915</td>\n",
       "      <td>20.0</td>\n",
       "      <td>c</td>\n",
       "      <td>w_h2o_</td>\n",
       "    </tr>\n",
       "    <tr>\n",
       "      <th>224</th>\n",
       "      <td>2022-11-29 17:00:00</td>\n",
       "      <td>w_h2o__15m_c</td>\n",
       "      <td>0.006543</td>\n",
       "      <td>15.0</td>\n",
       "      <td>c</td>\n",
       "      <td>w_h2o_</td>\n",
       "    </tr>\n",
       "    <tr>\n",
       "      <th>226</th>\n",
       "      <td>2022-11-29 17:00:00</td>\n",
       "      <td>w_h2o__10m_c</td>\n",
       "      <td>0.010222</td>\n",
       "      <td>10.0</td>\n",
       "      <td>c</td>\n",
       "      <td>w_h2o_</td>\n",
       "    </tr>\n",
       "    <tr>\n",
       "      <th>228</th>\n",
       "      <td>2022-11-29 17:00:00</td>\n",
       "      <td>w_h2o__5m_c</td>\n",
       "      <td>0.003238</td>\n",
       "      <td>5.0</td>\n",
       "      <td>c</td>\n",
       "      <td>w_h2o_</td>\n",
       "    </tr>\n",
       "    <tr>\n",
       "      <th>230</th>\n",
       "      <td>2022-11-29 17:00:00</td>\n",
       "      <td>w_h2o__3m_c</td>\n",
       "      <td>0.001886</td>\n",
       "      <td>3.0</td>\n",
       "      <td>c</td>\n",
       "      <td>w_h2o_</td>\n",
       "    </tr>\n",
       "    <tr>\n",
       "      <th>...</th>\n",
       "      <td>...</td>\n",
       "      <td>...</td>\n",
       "      <td>...</td>\n",
       "      <td>...</td>\n",
       "      <td>...</td>\n",
       "      <td>...</td>\n",
       "    </tr>\n",
       "    <tr>\n",
       "      <th>5270024</th>\n",
       "      <td>2023-05-09 17:30:00</td>\n",
       "      <td>w_h2o__10m_c</td>\n",
       "      <td>0.006808</td>\n",
       "      <td>10.0</td>\n",
       "      <td>c</td>\n",
       "      <td>w_h2o_</td>\n",
       "    </tr>\n",
       "    <tr>\n",
       "      <th>5270026</th>\n",
       "      <td>2023-05-09 17:30:00</td>\n",
       "      <td>w_h2o__15m_c</td>\n",
       "      <td>NaN</td>\n",
       "      <td>15.0</td>\n",
       "      <td>c</td>\n",
       "      <td>w_h2o_</td>\n",
       "    </tr>\n",
       "    <tr>\n",
       "      <th>5270028</th>\n",
       "      <td>2023-05-09 17:30:00</td>\n",
       "      <td>w_h2o__20m_c</td>\n",
       "      <td>NaN</td>\n",
       "      <td>20.0</td>\n",
       "      <td>c</td>\n",
       "      <td>w_h2o_</td>\n",
       "    </tr>\n",
       "    <tr>\n",
       "      <th>5270038</th>\n",
       "      <td>2023-05-09 17:30:00</td>\n",
       "      <td>w_h2o__3m_c</td>\n",
       "      <td>0.003844</td>\n",
       "      <td>3.0</td>\n",
       "      <td>c</td>\n",
       "      <td>w_h2o_</td>\n",
       "    </tr>\n",
       "    <tr>\n",
       "      <th>5270400</th>\n",
       "      <td>2023-05-09 17:30:00</td>\n",
       "      <td>w_h2o__2m_c</td>\n",
       "      <td>0.007074</td>\n",
       "      <td>2.0</td>\n",
       "      <td>c</td>\n",
       "      <td>w_h2o_</td>\n",
       "    </tr>\n",
       "  </tbody>\n",
       "</table>\n",
       "<p>46368 rows × 6 columns</p>\n",
       "</div>"
      ],
      "text/plain": [
       "                       time      variable     value  height tower measurement\n",
       "222     2022-11-29 17:00:00  w_h2o__20m_c  0.008915    20.0     c      w_h2o_\n",
       "224     2022-11-29 17:00:00  w_h2o__15m_c  0.006543    15.0     c      w_h2o_\n",
       "226     2022-11-29 17:00:00  w_h2o__10m_c  0.010222    10.0     c      w_h2o_\n",
       "228     2022-11-29 17:00:00   w_h2o__5m_c  0.003238     5.0     c      w_h2o_\n",
       "230     2022-11-29 17:00:00   w_h2o__3m_c  0.001886     3.0     c      w_h2o_\n",
       "...                     ...           ...       ...     ...   ...         ...\n",
       "5270024 2023-05-09 17:30:00  w_h2o__10m_c  0.006808    10.0     c      w_h2o_\n",
       "5270026 2023-05-09 17:30:00  w_h2o__15m_c       NaN    15.0     c      w_h2o_\n",
       "5270028 2023-05-09 17:30:00  w_h2o__20m_c       NaN    20.0     c      w_h2o_\n",
       "5270038 2023-05-09 17:30:00   w_h2o__3m_c  0.003844     3.0     c      w_h2o_\n",
       "5270400 2023-05-09 17:30:00   w_h2o__2m_c  0.007074     2.0     c      w_h2o_\n",
       "\n",
       "[46368 rows x 6 columns]"
      ]
     },
     "execution_count": 8,
     "metadata": {},
     "output_type": "execute_result"
    }
   ],
   "source": [
    "lhflux_measurements_df = tidy_df[tidy_df.variable.isin([\n",
    "    'w_h2o__1m_c',\n",
    "    'w_h2o__2m_c',\n",
    "    'w_h2o__3m_c',\n",
    "    'w_h2o__5m_c',\n",
    "    'w_h2o__10m_c',\n",
    "    'w_h2o__15m_c',\n",
    "    'w_h2o__20m_c',\n",
    "])]\n",
    "lhflux_measurements_df"
   ]
  },
  {
   "cell_type": "markdown",
   "metadata": {},
   "source": [
    "# Calculate frequency of lh flux divergence using 10% and 30% thresholds\n",
    "\n",
    "We compare measurements at 2 measurement heights at a time (2 and 3, and 3 and 5). This is not comprehensive."
   ]
  },
  {
   "cell_type": "code",
   "execution_count": 9,
   "metadata": {},
   "outputs": [],
   "source": [
    "src = lhflux_measurements_df.pivot(index='time', columns='variable', values='value')"
   ]
  },
  {
   "cell_type": "markdown",
   "metadata": {},
   "source": [
    "## Using 2 and 3 meter measurements and 3 and 5 meter measurements"
   ]
  },
  {
   "cell_type": "code",
   "execution_count": 10,
   "metadata": {},
   "outputs": [
    {
     "name": "stdout",
     "output_type": "stream",
     "text": [
      "Using 2 and 3m ECs, LH flux diverges more than 10%, 37.5% of the time\n",
      "Using 3 and 5m ECs, LH flux diverges more than 10%, 39.4% of the time\n",
      "Using 2 and 3m ECs, LH flux diverges more than 30%, 23.3% of the time\n",
      "Using 3 and 5m ECs, LH flux diverges more than 30%, 26.2% of the time\n"
     ]
    }
   ],
   "source": [
    "src['percent diff 2 3'] = (src['w_h2o__3m_c'] - src['w_h2o__2m_c']) / src[['w_h2o__3m_c', 'w_h2o__2m_c']].mean(axis=1)\n",
    "src['percent diff 3 5'] = (src['w_h2o__5m_c'] - src['w_h2o__3m_c']) / src[['w_h2o__5m_c', 'w_h2o__3m_c']].mean(axis=1)\n",
    "\n",
    "percent_gt_10_2_3 = len(src[src[\"percent diff 2 3\"] > 0.1])/len(src)\n",
    "percent_gt_10_3_5 = len(src[src[\"percent diff 3 5\"] > 0.1])/len(src)\n",
    "percent_gt_30_2_3 = len(src[src[\"percent diff 2 3\"] > 0.3])/len(src)\n",
    "percent_gt_30_3_5 = len(src[src[\"percent diff 3 5\"] > 0.3])/len(src)\n",
    "\n",
    "print(f\"Using 2 and 3m ECs, LH flux diverges more than 10%, {round(percent_gt_10_2_3*100, 1)}% of the time\")\n",
    "print(f\"Using 3 and 5m ECs, LH flux diverges more than 10%, {round(percent_gt_10_3_5*100, 1)}% of the time\")\n",
    "print(f\"Using 2 and 3m ECs, LH flux diverges more than 30%, {round(percent_gt_30_2_3*100, 1)}% of the time\")\n",
    "print(f\"Using 3 and 5m ECs, LH flux diverges more than 30%, {round(percent_gt_30_3_5*100, 1)}% of the time\")"
   ]
  },
  {
   "cell_type": "code",
   "execution_count": 11,
   "metadata": {},
   "outputs": [
    {
     "name": "stdout",
     "output_type": "stream",
     "text": [
      "bs_times\n",
      "Using 2 and 3m ECs, LH flux diverges more than 10%, 45.7% of the time\n",
      "Using 3 and 5m ECs, LH flux diverges more than 10%, 43.4% of the time\n",
      "Using 2 and 3m ECs, LH flux diverges more than 30%, 22.8% of the time\n",
      "Using 3 and 5m ECs, LH flux diverges more than 30%, 19.5% of the time\n",
      "\n",
      "nobs_times\n",
      "Using 2 and 3m ECs, LH flux diverges more than 10%, 35.3% of the time\n",
      "Using 3 and 5m ECs, LH flux diverges more than 10%, 38.4% of the time\n",
      "Using 2 and 3m ECs, LH flux diverges more than 30%, 23.5% of the time\n",
      "Using 3 and 5m ECs, LH flux diverges more than 30%, 28.2% of the time\n",
      "\n",
      "decoupled_times\n",
      "Using 2 and 3m ECs, LH flux diverges more than 10%, 34.2% of the time\n",
      "Using 3 and 5m ECs, LH flux diverges more than 10%, 41.9% of the time\n",
      "Using 2 and 3m ECs, LH flux diverges more than 30%, 26.3% of the time\n",
      "Using 3 and 5m ECs, LH flux diverges more than 30%, 35.2% of the time\n",
      "\n",
      "weaklycoupled_times\n",
      "Using 2 and 3m ECs, LH flux diverges more than 10%, 34.9% of the time\n",
      "Using 3 and 5m ECs, LH flux diverges more than 10%, 38.6% of the time\n",
      "Using 2 and 3m ECs, LH flux diverges more than 30%, 24.3% of the time\n",
      "Using 3 and 5m ECs, LH flux diverges more than 30%, 29.7% of the time\n",
      "\n",
      "coupled_times\n",
      "Using 2 and 3m ECs, LH flux diverges more than 10%, 41.0% of the time\n",
      "Using 3 and 5m ECs, LH flux diverges more than 10%, 38.6% of the time\n",
      "Using 2 and 3m ECs, LH flux diverges more than 30%, 19.9% of the time\n",
      "Using 3 and 5m ECs, LH flux diverges more than 30%, 19.0% of the time\n",
      "\n",
      "ri_stable_times\n",
      "Using 2 and 3m ECs, LH flux diverges more than 10%, 39.0% of the time\n",
      "Using 3 and 5m ECs, LH flux diverges more than 10%, 44.0% of the time\n",
      "Using 2 and 3m ECs, LH flux diverges more than 30%, 27.6% of the time\n",
      "Using 3 and 5m ECs, LH flux diverges more than 30%, 34.7% of the time\n",
      "\n",
      "ri_unstable_times\n",
      "Using 2 and 3m ECs, LH flux diverges more than 10%, 45.4% of the time\n",
      "Using 3 and 5m ECs, LH flux diverges more than 10%, 38.9% of the time\n",
      "Using 2 and 3m ECs, LH flux diverges more than 30%, 23.4% of the time\n",
      "Using 3 and 5m ECs, LH flux diverges more than 30%, 16.3% of the time\n",
      "\n",
      "ri_neutral_times\n",
      "Using 2 and 3m ECs, LH flux diverges more than 10%, 36.2% of the time\n",
      "Using 3 and 5m ECs, LH flux diverges more than 10%, 36.9% of the time\n",
      "Using 2 and 3m ECs, LH flux diverges more than 30%, 21.0% of the time\n",
      "Using 3 and 5m ECs, LH flux diverges more than 30%, 22.2% of the time\n",
      "\n",
      "tgrad_stable_times\n",
      "Using 2 and 3m ECs, LH flux diverges more than 10%, 36.8% of the time\n",
      "Using 3 and 5m ECs, LH flux diverges more than 10%, 39.5% of the time\n",
      "Using 2 and 3m ECs, LH flux diverges more than 30%, 23.0% of the time\n",
      "Using 3 and 5m ECs, LH flux diverges more than 30%, 27.0% of the time\n",
      "\n",
      "tgrad_unstable_times\n",
      "Using 2 and 3m ECs, LH flux diverges more than 10%, 51.0% of the time\n",
      "Using 3 and 5m ECs, LH flux diverges more than 10%, 40.2% of the time\n",
      "Using 2 and 3m ECs, LH flux diverges more than 30%, 25.2% of the time\n",
      "Using 3 and 5m ECs, LH flux diverges more than 30%, 15.4% of the time\n",
      "\n",
      "tgrad_neutral_times\n",
      "Using 2 and 3m ECs, LH flux diverges more than 10%, 40.4% of the time\n",
      "Using 3 and 5m ECs, LH flux diverges more than 10%, 38.3% of the time\n",
      "Using 2 and 3m ECs, LH flux diverges more than 30%, 27.5% of the time\n",
      "Using 3 and 5m ECs, LH flux diverges more than 30%, 23.4% of the time\n",
      "\n"
     ]
    }
   ],
   "source": [
    "for name, times in [\n",
    "    (\"bs_times\", bs_times,),\n",
    "    (\"nobs_times\", nobs_times,),\n",
    "    (\"decoupled_times\", decoupled_times,),\n",
    "    (\"weaklycoupled_times\", weaklycoupled_times,),\n",
    "    (\"coupled_times\", coupled_times,),\n",
    "    (\"ri_stable_times\", ri_stable_times,),\n",
    "    (\"ri_unstable_times\", ri_unstable_times,),\n",
    "    (\"ri_neutral_times\", ri_neutral_times,),\n",
    "    (\"tgrad_stable_times\", tgrad_stable_times,),\n",
    "    (\"tgrad_unstable_times\", tgrad_unstable_times,),\n",
    "    (\"tgrad_neutral_times\", tgrad_neutral_times),\n",
    "]:\n",
    "    local_src = src.reset_index()\n",
    "    local_src = local_src[local_src.time.isin(times)]\n",
    "    percent_gt_10_2_3 = len(local_src[local_src[\"percent diff 2 3\"] > 0.1])/len(local_src)\n",
    "    percent_gt_10_3_5 = len(local_src[local_src[\"percent diff 3 5\"] > 0.1])/len(local_src)\n",
    "    percent_gt_30_2_3 = len(local_src[local_src[\"percent diff 2 3\"] > 0.3])/len(local_src)\n",
    "    percent_gt_30_3_5 = len(local_src[local_src[\"percent diff 3 5\"] > 0.3])/len(local_src)\n",
    "    print(name)\n",
    "    print(f\"Using 2 and 3m ECs, LH flux diverges more than 10%, {round(percent_gt_10_2_3*100, 1)}% of the time\")\n",
    "    print(f\"Using 3 and 5m ECs, LH flux diverges more than 10%, {round(percent_gt_10_3_5*100, 1)}% of the time\")\n",
    "    print(f\"Using 2 and 3m ECs, LH flux diverges more than 30%, {round(percent_gt_30_2_3*100, 1)}% of the time\")\n",
    "    print(f\"Using 3 and 5m ECs, LH flux diverges more than 30%, {round(percent_gt_30_3_5*100, 1)}% of the time\")\n",
    "    print()"
   ]
  },
  {
   "cell_type": "markdown",
   "metadata": {},
   "source": [
    "# Plot mean lh flux vertical profiles for different conditions"
   ]
  },
  {
   "cell_type": "code",
   "execution_count": 12,
   "metadata": {},
   "outputs": [],
   "source": [
    "bs_lhflux_df = lhflux_measurements_df[lhflux_measurements_df.time.isin(bs_times)]\n",
    "nobs_lhflux_df = lhflux_measurements_df[lhflux_measurements_df.time.isin(nobs_times)]\n",
    "\n",
    "decoupled_df = lhflux_measurements_df[lhflux_measurements_df.time.isin(decoupled_times)]\n",
    "weaklycoupled_df = lhflux_measurements_df[lhflux_measurements_df.time.isin(weaklycoupled_times)]\n",
    "coupled_df = lhflux_measurements_df[lhflux_measurements_df.time.isin(coupled_times)]\n",
    "\n",
    "ri_stable_df = lhflux_measurements_df[lhflux_measurements_df.time.isin(ri_stable_times)]\n",
    "ri_unstable_df = lhflux_measurements_df[lhflux_measurements_df.time.isin(ri_unstable_times)]\n",
    "ri_neutral_df = lhflux_measurements_df[lhflux_measurements_df.time.isin(ri_neutral_times)]\n",
    "\n",
    "tgrad_stable_df = lhflux_measurements_df[lhflux_measurements_df.time.isin(tgrad_stable_times)]\n",
    "tgrad_unstable_df = lhflux_measurements_df[lhflux_measurements_df.time.isin(tgrad_unstable_times)]\n",
    "tgrad_neutral_df = lhflux_measurements_df[lhflux_measurements_df.time.isin(tgrad_neutral_times)]"
   ]
  },
  {
   "cell_type": "code",
   "execution_count": 13,
   "metadata": {},
   "outputs": [
    {
     "data": {
      "text/html": [
       "\n",
       "<style>\n",
       "  #altair-viz-db90f26d9152419cb3923ff8d46de9fc.vega-embed {\n",
       "    width: 100%;\n",
       "    display: flex;\n",
       "  }\n",
       "\n",
       "  #altair-viz-db90f26d9152419cb3923ff8d46de9fc.vega-embed details,\n",
       "  #altair-viz-db90f26d9152419cb3923ff8d46de9fc.vega-embed details summary {\n",
       "    position: relative;\n",
       "  }\n",
       "</style>\n",
       "<div id=\"altair-viz-db90f26d9152419cb3923ff8d46de9fc\"></div>\n",
       "<script type=\"text/javascript\">\n",
       "  var VEGA_DEBUG = (typeof VEGA_DEBUG == \"undefined\") ? {} : VEGA_DEBUG;\n",
       "  (function(spec, embedOpt){\n",
       "    let outputDiv = document.currentScript.previousElementSibling;\n",
       "    if (outputDiv.id !== \"altair-viz-db90f26d9152419cb3923ff8d46de9fc\") {\n",
       "      outputDiv = document.getElementById(\"altair-viz-db90f26d9152419cb3923ff8d46de9fc\");\n",
       "    }\n",
       "    const paths = {\n",
       "      \"vega\": \"https://cdn.jsdelivr.net/npm/vega@5?noext\",\n",
       "      \"vega-lib\": \"https://cdn.jsdelivr.net/npm/vega-lib?noext\",\n",
       "      \"vega-lite\": \"https://cdn.jsdelivr.net/npm/vega-lite@5.16.3?noext\",\n",
       "      \"vega-embed\": \"https://cdn.jsdelivr.net/npm/vega-embed@6?noext\",\n",
       "    };\n",
       "\n",
       "    function maybeLoadScript(lib, version) {\n",
       "      var key = `${lib.replace(\"-\", \"\")}_version`;\n",
       "      return (VEGA_DEBUG[key] == version) ?\n",
       "        Promise.resolve(paths[lib]) :\n",
       "        new Promise(function(resolve, reject) {\n",
       "          var s = document.createElement('script');\n",
       "          document.getElementsByTagName(\"head\")[0].appendChild(s);\n",
       "          s.async = true;\n",
       "          s.onload = () => {\n",
       "            VEGA_DEBUG[key] = version;\n",
       "            return resolve(paths[lib]);\n",
       "          };\n",
       "          s.onerror = () => reject(`Error loading script: ${paths[lib]}`);\n",
       "          s.src = paths[lib];\n",
       "        });\n",
       "    }\n",
       "\n",
       "    function showError(err) {\n",
       "      outputDiv.innerHTML = `<div class=\"error\" style=\"color:red;\">${err}</div>`;\n",
       "      throw err;\n",
       "    }\n",
       "\n",
       "    function displayChart(vegaEmbed) {\n",
       "      vegaEmbed(outputDiv, spec, embedOpt)\n",
       "        .catch(err => showError(`Javascript Error: ${err.message}<br>This usually means there's a typo in your chart specification. See the javascript console for the full traceback.`));\n",
       "    }\n",
       "\n",
       "    if(typeof define === \"function\" && define.amd) {\n",
       "      requirejs.config({paths});\n",
       "      require([\"vega-embed\"], displayChart, err => showError(`Error loading script: ${err.message}`));\n",
       "    } else {\n",
       "      maybeLoadScript(\"vega\", \"5\")\n",
       "        .then(() => maybeLoadScript(\"vega-lite\", \"5.16.3\"))\n",
       "        .then(() => maybeLoadScript(\"vega-embed\", \"6\"))\n",
       "        .catch(showError)\n",
       "        .then(() => displayChart(vegaEmbed));\n",
       "    }\n",
       "  })({\"config\": {\"view\": {\"continuousWidth\": 300, \"continuousHeight\": 300}}, \"hconcat\": [{\"vconcat\": [{\"layer\": [{\"mark\": {\"type\": \"area\", \"opacity\": 0.25}, \"encoding\": {\"x\": {\"field\": \"low_bound\", \"title\": \"\", \"type\": \"quantitative\"}, \"x2\": {\"field\": \"up_bound\"}, \"y\": {\"field\": \"height\", \"type\": \"quantitative\"}}, \"transform\": [{\"aggregate\": [{\"op\": \"mean\", \"field\": \"value\", \"as\": \"mean\"}], \"groupby\": [\"height\"]}, {\"calculate\": \"datum.mean - 0.2*datum.mean\", \"as\": \"low_bound\"}, {\"calculate\": \"datum.mean + 0.2*datum.mean\", \"as\": \"up_bound\"}]}, {\"mark\": {\"type\": \"line\", \"color\": \"black\"}, \"encoding\": {\"x\": {\"aggregate\": \"mean\", \"field\": \"value\", \"sort\": \"-y\", \"title\": \"w'q' \\u00b1 20% (g/m^2/s)\", \"type\": \"quantitative\"}, \"y\": {\"field\": \"height\", \"type\": \"quantitative\"}}, \"title\": \"All data (n = 7728)\"}], \"data\": {\"url\": \"altair-data-d6aab2e8191528dbbe2952db065826a7.json\", \"format\": {\"type\": \"json\"}}, \"height\": 150, \"width\": 150}, {\"layer\": [{\"mark\": {\"type\": \"area\", \"opacity\": 0.25}, \"encoding\": {\"x\": {\"field\": \"low_bound\", \"title\": \"\", \"type\": \"quantitative\"}, \"x2\": {\"field\": \"up_bound\"}, \"y\": {\"field\": \"height\", \"type\": \"quantitative\"}}, \"transform\": [{\"aggregate\": [{\"op\": \"mean\", \"field\": \"value\", \"as\": \"mean\"}], \"groupby\": [\"height\"]}, {\"calculate\": \"datum.mean - 0.2*datum.mean\", \"as\": \"low_bound\"}, {\"calculate\": \"datum.mean + 0.2*datum.mean\", \"as\": \"up_bound\"}]}, {\"mark\": {\"type\": \"line\", \"color\": \"black\"}, \"encoding\": {\"x\": {\"aggregate\": \"mean\", \"field\": \"value\", \"sort\": \"-y\", \"title\": \"w'q' \\u00b1 20% (g/m^2/s)\", \"type\": \"quantitative\"}, \"y\": {\"field\": \"height\", \"type\": \"quantitative\"}}, \"title\": \"BS (n = 1694)\"}], \"data\": {\"url\": \"altair-data-86742a4b65f908c129bbd44ed5d6f3f8.json\", \"format\": {\"type\": \"json\"}}, \"height\": 150, \"width\": 150}, {\"layer\": [{\"mark\": {\"type\": \"area\", \"opacity\": 0.25}, \"encoding\": {\"x\": {\"field\": \"low_bound\", \"title\": \"\", \"type\": \"quantitative\"}, \"x2\": {\"field\": \"up_bound\"}, \"y\": {\"field\": \"height\", \"type\": \"quantitative\"}}, \"transform\": [{\"aggregate\": [{\"op\": \"mean\", \"field\": \"value\", \"as\": \"mean\"}], \"groupby\": [\"height\"]}, {\"calculate\": \"datum.mean - 0.2*datum.mean\", \"as\": \"low_bound\"}, {\"calculate\": \"datum.mean + 0.2*datum.mean\", \"as\": \"up_bound\"}]}, {\"mark\": {\"type\": \"line\", \"color\": \"black\"}, \"encoding\": {\"x\": {\"aggregate\": \"mean\", \"field\": \"value\", \"sort\": \"-y\", \"title\": \"w'q' \\u00b1 20% (g/m^2/s)\", \"type\": \"quantitative\"}, \"y\": {\"field\": \"height\", \"type\": \"quantitative\"}}, \"title\": \"No BS (n = 6012)\"}], \"data\": {\"url\": \"altair-data-75a5e7331f6bf90eeca6b56a2eb3a291.json\", \"format\": {\"type\": \"json\"}}, \"height\": 150, \"width\": 150}], \"resolve\": {\"scale\": {\"x\": \"shared\", \"y\": \"shared\"}}}, {\"vconcat\": [{\"layer\": [{\"mark\": {\"type\": \"area\", \"opacity\": 0.25}, \"encoding\": {\"x\": {\"field\": \"low_bound\", \"title\": \"\", \"type\": \"quantitative\"}, \"x2\": {\"field\": \"up_bound\"}, \"y\": {\"field\": \"height\", \"type\": \"quantitative\"}}, \"transform\": [{\"aggregate\": [{\"op\": \"mean\", \"field\": \"value\", \"as\": \"mean\"}], \"groupby\": [\"height\"]}, {\"calculate\": \"datum.mean - 0.2*datum.mean\", \"as\": \"low_bound\"}, {\"calculate\": \"datum.mean + 0.2*datum.mean\", \"as\": \"up_bound\"}]}, {\"mark\": {\"type\": \"line\", \"color\": \"black\"}, \"encoding\": {\"x\": {\"aggregate\": \"mean\", \"field\": \"value\", \"sort\": \"-y\", \"title\": \"w'q' \\u00b1 20% (g/m^2/s)\", \"type\": \"quantitative\"}, \"y\": {\"field\": \"height\", \"type\": \"quantitative\"}}, \"title\": \"Decoupled (n = 2712)\"}], \"data\": {\"url\": \"altair-data-9a5bb20f2ed76b2c98061c80138109e9.json\", \"format\": {\"type\": \"json\"}}, \"height\": 150, \"width\": 150}, {\"layer\": [{\"mark\": {\"type\": \"area\", \"opacity\": 0.25}, \"encoding\": {\"x\": {\"field\": \"low_bound\", \"title\": \"\", \"type\": \"quantitative\"}, \"x2\": {\"field\": \"up_bound\"}, \"y\": {\"field\": \"height\", \"type\": \"quantitative\"}}, \"transform\": [{\"aggregate\": [{\"op\": \"mean\", \"field\": \"value\", \"as\": \"mean\"}], \"groupby\": [\"height\"]}, {\"calculate\": \"datum.mean - 0.2*datum.mean\", \"as\": \"low_bound\"}, {\"calculate\": \"datum.mean + 0.2*datum.mean\", \"as\": \"up_bound\"}]}, {\"mark\": {\"type\": \"line\", \"color\": \"black\"}, \"encoding\": {\"x\": {\"aggregate\": \"mean\", \"field\": \"value\", \"sort\": \"-y\", \"title\": \"w'q' \\u00b1 20% (g/m^2/s)\", \"type\": \"quantitative\"}, \"y\": {\"field\": \"height\", \"type\": \"quantitative\"}}, \"title\": \"Weakly coupled (n = 827)\"}], \"data\": {\"url\": \"altair-data-237c12a603ddc0465cf118660c0fa3c2.json\", \"format\": {\"type\": \"json\"}}, \"height\": 150, \"width\": 150}, {\"layer\": [{\"mark\": {\"type\": \"area\", \"opacity\": 0.25}, \"encoding\": {\"x\": {\"field\": \"low_bound\", \"title\": \"\", \"type\": \"quantitative\"}, \"x2\": {\"field\": \"up_bound\"}, \"y\": {\"field\": \"height\", \"type\": \"quantitative\"}}, \"transform\": [{\"aggregate\": [{\"op\": \"mean\", \"field\": \"value\", \"as\": \"mean\"}], \"groupby\": [\"height\"]}, {\"calculate\": \"datum.mean - 0.2*datum.mean\", \"as\": \"low_bound\"}, {\"calculate\": \"datum.mean + 0.2*datum.mean\", \"as\": \"up_bound\"}]}, {\"mark\": {\"type\": \"line\", \"color\": \"black\"}, \"encoding\": {\"x\": {\"aggregate\": \"mean\", \"field\": \"value\", \"sort\": \"-y\", \"title\": \"w'q' \\u00b1 20% (g/m^2/s)\", \"type\": \"quantitative\"}, \"y\": {\"field\": \"height\", \"type\": \"quantitative\"}}, \"title\": \"Coupled (n = 3162)\"}], \"data\": {\"url\": \"altair-data-e0cd43f2718d8b4f159670d67d8da63f.json\", \"format\": {\"type\": \"json\"}}, \"height\": 150, \"width\": 150}], \"resolve\": {\"scale\": {\"x\": \"shared\", \"y\": \"shared\"}}}, {\"vconcat\": [{\"layer\": [{\"mark\": {\"type\": \"area\", \"opacity\": 0.25}, \"encoding\": {\"x\": {\"field\": \"low_bound\", \"title\": \"\", \"type\": \"quantitative\"}, \"x2\": {\"field\": \"up_bound\"}, \"y\": {\"field\": \"height\", \"type\": \"quantitative\"}}, \"transform\": [{\"aggregate\": [{\"op\": \"mean\", \"field\": \"value\", \"as\": \"mean\"}], \"groupby\": [\"height\"]}, {\"calculate\": \"datum.mean - 0.2*datum.mean\", \"as\": \"low_bound\"}, {\"calculate\": \"datum.mean + 0.2*datum.mean\", \"as\": \"up_bound\"}]}, {\"mark\": {\"type\": \"line\", \"color\": \"black\"}, \"encoding\": {\"x\": {\"aggregate\": \"mean\", \"field\": \"value\", \"sort\": \"-y\", \"title\": \"w'q' \\u00b1 20% (g/m^2/s)\", \"type\": \"quantitative\"}, \"y\": {\"field\": \"height\", \"type\": \"quantitative\"}}, \"title\": \"Ri Stable (n = 2675)\"}], \"data\": {\"url\": \"altair-data-4f74da5df1e8531ca7138f665e8ea4e3.json\", \"format\": {\"type\": \"json\"}}, \"height\": 150, \"width\": 150}, {\"layer\": [{\"mark\": {\"type\": \"area\", \"opacity\": 0.25}, \"encoding\": {\"x\": {\"field\": \"low_bound\", \"title\": \"\", \"type\": \"quantitative\"}, \"x2\": {\"field\": \"up_bound\"}, \"y\": {\"field\": \"height\", \"type\": \"quantitative\"}}, \"transform\": [{\"aggregate\": [{\"op\": \"mean\", \"field\": \"value\", \"as\": \"mean\"}], \"groupby\": [\"height\"]}, {\"calculate\": \"datum.mean - 0.2*datum.mean\", \"as\": \"low_bound\"}, {\"calculate\": \"datum.mean + 0.2*datum.mean\", \"as\": \"up_bound\"}]}, {\"mark\": {\"type\": \"line\", \"color\": \"black\"}, \"encoding\": {\"x\": {\"aggregate\": \"mean\", \"field\": \"value\", \"sort\": \"-y\", \"title\": \"w'q' \\u00b1 20% (g/m^2/s)\", \"type\": \"quantitative\"}, \"y\": {\"field\": \"height\", \"type\": \"quantitative\"}}, \"title\": \"Ri Neutral (n = 4664)\"}], \"data\": {\"url\": \"altair-data-855887ef1a1eee65750495dfb440ed8f.json\", \"format\": {\"type\": \"json\"}}, \"height\": 150, \"width\": 150}, {\"layer\": [{\"mark\": {\"type\": \"area\", \"opacity\": 0.25}, \"encoding\": {\"x\": {\"field\": \"low_bound\", \"title\": \"\", \"type\": \"quantitative\"}, \"x2\": {\"field\": \"up_bound\"}, \"y\": {\"field\": \"height\", \"type\": \"quantitative\"}}, \"transform\": [{\"aggregate\": [{\"op\": \"mean\", \"field\": \"value\", \"as\": \"mean\"}], \"groupby\": [\"height\"]}, {\"calculate\": \"datum.mean - 0.2*datum.mean\", \"as\": \"low_bound\"}, {\"calculate\": \"datum.mean + 0.2*datum.mean\", \"as\": \"up_bound\"}]}, {\"mark\": {\"type\": \"line\", \"color\": \"black\"}, \"encoding\": {\"x\": {\"aggregate\": \"mean\", \"field\": \"value\", \"sort\": \"-y\", \"title\": \"w'q' \\u00b1 20% (g/m^2/s)\", \"type\": \"quantitative\"}, \"y\": {\"field\": \"height\", \"type\": \"quantitative\"}}, \"title\": \"Ri Unstable (n = 368)\"}], \"data\": {\"url\": \"altair-data-0235d28558e1b0bfcb34ba3bfb6c2d91.json\", \"format\": {\"type\": \"json\"}}, \"height\": 150, \"width\": 150}], \"resolve\": {\"scale\": {\"x\": \"shared\", \"y\": \"shared\"}}}, {\"vconcat\": [{\"layer\": [{\"mark\": {\"type\": \"area\", \"opacity\": 0.25}, \"encoding\": {\"x\": {\"field\": \"low_bound\", \"title\": \"\", \"type\": \"quantitative\"}, \"x2\": {\"field\": \"up_bound\"}, \"y\": {\"field\": \"height\", \"type\": \"quantitative\"}}, \"transform\": [{\"aggregate\": [{\"op\": \"mean\", \"field\": \"value\", \"as\": \"mean\"}], \"groupby\": [\"height\"]}, {\"calculate\": \"datum.mean - 0.2*datum.mean\", \"as\": \"low_bound\"}, {\"calculate\": \"datum.mean + 0.2*datum.mean\", \"as\": \"up_bound\"}]}, {\"mark\": {\"type\": \"line\", \"color\": \"black\"}, \"encoding\": {\"x\": {\"aggregate\": \"mean\", \"field\": \"value\", \"sort\": \"-y\", \"title\": \"w'q' \\u00b1 20% (g/m^2/s)\", \"type\": \"quantitative\"}, \"y\": {\"field\": \"height\", \"type\": \"quantitative\"}}, \"title\": \"Tgrad stable (n = 6858)\"}], \"data\": {\"url\": \"altair-data-4782e65f6aafb23061b31813c5a433c7.json\", \"format\": {\"type\": \"json\"}}, \"height\": 150, \"width\": 150}, {\"layer\": [{\"mark\": {\"type\": \"area\", \"opacity\": 0.25}, \"encoding\": {\"x\": {\"field\": \"low_bound\", \"title\": \"\", \"type\": \"quantitative\"}, \"x2\": {\"field\": \"up_bound\"}, \"y\": {\"field\": \"height\", \"type\": \"quantitative\"}}, \"transform\": [{\"aggregate\": [{\"op\": \"mean\", \"field\": \"value\", \"as\": \"mean\"}], \"groupby\": [\"height\"]}, {\"calculate\": \"datum.mean - 0.2*datum.mean\", \"as\": \"low_bound\"}, {\"calculate\": \"datum.mean + 0.2*datum.mean\", \"as\": \"up_bound\"}]}, {\"mark\": {\"type\": \"line\", \"color\": \"black\"}, \"encoding\": {\"x\": {\"aggregate\": \"mean\", \"field\": \"value\", \"sort\": \"-y\", \"title\": \"w'q' \\u00b1 20% (g/m^2/s)\", \"type\": \"quantitative\"}, \"y\": {\"field\": \"height\", \"type\": \"quantitative\"}}, \"title\": \"Tgrad Neutral (n = 564)\"}], \"data\": {\"url\": \"altair-data-63d2d6ca5e2e5c8ef1750b161dfa6c7b.json\", \"format\": {\"type\": \"json\"}}, \"height\": 150, \"width\": 150}, {\"layer\": [{\"mark\": {\"type\": \"area\", \"opacity\": 0.25}, \"encoding\": {\"x\": {\"field\": \"low_bound\", \"title\": \"\", \"type\": \"quantitative\"}, \"x2\": {\"field\": \"up_bound\"}, \"y\": {\"field\": \"height\", \"type\": \"quantitative\"}}, \"transform\": [{\"aggregate\": [{\"op\": \"mean\", \"field\": \"value\", \"as\": \"mean\"}], \"groupby\": [\"height\"]}, {\"calculate\": \"datum.mean - 0.2*datum.mean\", \"as\": \"low_bound\"}, {\"calculate\": \"datum.mean + 0.2*datum.mean\", \"as\": \"up_bound\"}]}, {\"mark\": {\"type\": \"line\", \"color\": \"black\"}, \"encoding\": {\"x\": {\"aggregate\": \"mean\", \"field\": \"value\", \"sort\": \"-y\", \"title\": \"w'q' \\u00b1 20% (g/m^2/s)\", \"type\": \"quantitative\"}, \"y\": {\"field\": \"height\", \"type\": \"quantitative\"}}, \"title\": \"Tgrad Unstable (n = 286)\"}], \"data\": {\"url\": \"altair-data-71ebf95d7ef5d5a055e73555f81ff186.json\", \"format\": {\"type\": \"json\"}}, \"height\": 150, \"width\": 150}], \"resolve\": {\"scale\": {\"x\": \"shared\", \"y\": \"shared\"}}}], \"resolve\": {\"scale\": {\"x\": \"shared\", \"y\": \"shared\"}}, \"$schema\": \"https://vega.github.io/schema/vega-lite/v5.16.3.json\"}, {\"mode\": \"vega-lite\"});\n",
       "</script>"
      ],
      "text/plain": [
       "alt.HConcatChart(...)"
      ]
     },
     "execution_count": 13,
     "metadata": {},
     "output_type": "execute_result"
    }
   ],
   "source": [
    "def lhflux_profile_chart(df, title):\n",
    "    return (\n",
    "        alt.Chart(df).transform_aggregate(\n",
    "            mean = \"mean(value)\",\n",
    "            groupby=['height']\n",
    "        ).transform_calculate(\n",
    "            low_bound = 'datum.mean - 0.2*datum.mean',\n",
    "            up_bound = 'datum.mean + 0.2*datum.mean'\n",
    "        ).mark_area(opacity=0.25).encode(\n",
    "            alt.X(\"low_bound:Q\").title(\"\"),\n",
    "            alt.X2(\"up_bound:Q\"),\n",
    "            alt.Y(\"height:Q\")\n",
    "        )\n",
    "        +\n",
    "        alt.Chart(df).mark_line(color='black').encode(\n",
    "            alt.X(\"mean(value):Q\").sort('-y').title(\"w'q' ± 20% (g/m^2/s)\"),\n",
    "            alt.Y(\"height:Q\")\n",
    "        ).properties(title=f\"{title} (n = {len(df.time.unique())})\", width=150, height=150)\n",
    "    )\n",
    "\n",
    "combo_lhflux_profiles_chart = (\n",
    "    (\n",
    "        lhflux_profile_chart(lhflux_measurements_df, \"All data\") &\n",
    "        lhflux_profile_chart(bs_lhflux_df, \"BS\") &\n",
    "        lhflux_profile_chart(nobs_lhflux_df, \"No BS\")\n",
    "    ).resolve_scale(x='shared', y='shared') \n",
    "    | \n",
    "    (\n",
    "        lhflux_profile_chart(decoupled_df, \"Decoupled\") &\n",
    "        lhflux_profile_chart(weaklycoupled_df, \"Weakly coupled\") &\n",
    "        lhflux_profile_chart(coupled_df, \"Coupled\")\n",
    "    ).resolve_scale(x='shared', y='shared') \n",
    "    | \n",
    "    (\n",
    "        lhflux_profile_chart(ri_stable_df, \"Ri Stable\") &\n",
    "        lhflux_profile_chart(ri_neutral_df, \"Ri Neutral\") &\n",
    "        lhflux_profile_chart(ri_unstable_df, \"Ri Unstable\")\n",
    "    ).resolve_scale(x='shared', y='shared') \n",
    "    | \n",
    "    (\n",
    "        lhflux_profile_chart(tgrad_stable_df, \"Tgrad stable\") &\n",
    "        lhflux_profile_chart(tgrad_neutral_df, \"Tgrad Neutral\") &\n",
    "        lhflux_profile_chart(tgrad_unstable_df, \"Tgrad Unstable\")\n",
    "    ).resolve_scale(x='shared', y='shared') \n",
    ").resolve_scale(x='shared', y='shared')\n",
    "\n",
    "combo_lhflux_profiles_chart.save(\"combo_lhflux_profiles_chart.png\", ppi=200)\n",
    "combo_lhflux_profiles_chart"
   ]
  },
  {
   "cell_type": "code",
   "execution_count": 14,
   "metadata": {},
   "outputs": [
    {
     "data": {
      "text/html": [
       "\n",
       "<style>\n",
       "  #altair-viz-30ce6123d66d4b94871ba75f1385d4c3.vega-embed {\n",
       "    width: 100%;\n",
       "    display: flex;\n",
       "  }\n",
       "\n",
       "  #altair-viz-30ce6123d66d4b94871ba75f1385d4c3.vega-embed details,\n",
       "  #altair-viz-30ce6123d66d4b94871ba75f1385d4c3.vega-embed details summary {\n",
       "    position: relative;\n",
       "  }\n",
       "</style>\n",
       "<div id=\"altair-viz-30ce6123d66d4b94871ba75f1385d4c3\"></div>\n",
       "<script type=\"text/javascript\">\n",
       "  var VEGA_DEBUG = (typeof VEGA_DEBUG == \"undefined\") ? {} : VEGA_DEBUG;\n",
       "  (function(spec, embedOpt){\n",
       "    let outputDiv = document.currentScript.previousElementSibling;\n",
       "    if (outputDiv.id !== \"altair-viz-30ce6123d66d4b94871ba75f1385d4c3\") {\n",
       "      outputDiv = document.getElementById(\"altair-viz-30ce6123d66d4b94871ba75f1385d4c3\");\n",
       "    }\n",
       "    const paths = {\n",
       "      \"vega\": \"https://cdn.jsdelivr.net/npm/vega@5?noext\",\n",
       "      \"vega-lib\": \"https://cdn.jsdelivr.net/npm/vega-lib?noext\",\n",
       "      \"vega-lite\": \"https://cdn.jsdelivr.net/npm/vega-lite@5.16.3?noext\",\n",
       "      \"vega-embed\": \"https://cdn.jsdelivr.net/npm/vega-embed@6?noext\",\n",
       "    };\n",
       "\n",
       "    function maybeLoadScript(lib, version) {\n",
       "      var key = `${lib.replace(\"-\", \"\")}_version`;\n",
       "      return (VEGA_DEBUG[key] == version) ?\n",
       "        Promise.resolve(paths[lib]) :\n",
       "        new Promise(function(resolve, reject) {\n",
       "          var s = document.createElement('script');\n",
       "          document.getElementsByTagName(\"head\")[0].appendChild(s);\n",
       "          s.async = true;\n",
       "          s.onload = () => {\n",
       "            VEGA_DEBUG[key] = version;\n",
       "            return resolve(paths[lib]);\n",
       "          };\n",
       "          s.onerror = () => reject(`Error loading script: ${paths[lib]}`);\n",
       "          s.src = paths[lib];\n",
       "        });\n",
       "    }\n",
       "\n",
       "    function showError(err) {\n",
       "      outputDiv.innerHTML = `<div class=\"error\" style=\"color:red;\">${err}</div>`;\n",
       "      throw err;\n",
       "    }\n",
       "\n",
       "    function displayChart(vegaEmbed) {\n",
       "      vegaEmbed(outputDiv, spec, embedOpt)\n",
       "        .catch(err => showError(`Javascript Error: ${err.message}<br>This usually means there's a typo in your chart specification. See the javascript console for the full traceback.`));\n",
       "    }\n",
       "\n",
       "    if(typeof define === \"function\" && define.amd) {\n",
       "      requirejs.config({paths});\n",
       "      require([\"vega-embed\"], displayChart, err => showError(`Error loading script: ${err.message}`));\n",
       "    } else {\n",
       "      maybeLoadScript(\"vega\", \"5\")\n",
       "        .then(() => maybeLoadScript(\"vega-lite\", \"5.16.3\"))\n",
       "        .then(() => maybeLoadScript(\"vega-embed\", \"6\"))\n",
       "        .catch(showError)\n",
       "        .then(() => displayChart(vegaEmbed));\n",
       "    }\n",
       "  })({\"config\": {\"view\": {\"continuousWidth\": 300, \"continuousHeight\": 300}}, \"hconcat\": [{\"layer\": [{\"mark\": {\"type\": \"area\", \"opacity\": 0.25}, \"encoding\": {\"x\": {\"field\": \"low_bound\", \"title\": \"\", \"type\": \"quantitative\"}, \"x2\": {\"field\": \"up_bound\"}, \"y\": {\"field\": \"height\", \"type\": \"quantitative\"}}, \"transform\": [{\"aggregate\": [{\"op\": \"mean\", \"field\": \"value\", \"as\": \"mean\"}], \"groupby\": [\"height\"]}, {\"calculate\": \"datum.mean - 0.2*datum.mean\", \"as\": \"low_bound\"}, {\"calculate\": \"datum.mean + 0.2*datum.mean\", \"as\": \"up_bound\"}]}, {\"mark\": {\"type\": \"line\", \"color\": \"black\"}, \"encoding\": {\"x\": {\"aggregate\": \"mean\", \"field\": \"value\", \"sort\": \"-y\", \"title\": \"w'q' \\u00b1 20% (g/m^2/s)\", \"type\": \"quantitative\"}, \"y\": {\"field\": \"height\", \"type\": \"quantitative\"}}, \"title\": \"Coupled, with BS (n = 1302)\"}], \"data\": {\"url\": \"altair-data-c911e8645ee1b2648242f1fdc884bf8f.json\", \"format\": {\"type\": \"json\"}}, \"height\": 150, \"width\": 150}, {\"layer\": [{\"mark\": {\"type\": \"area\", \"opacity\": 0.25}, \"encoding\": {\"x\": {\"field\": \"low_bound\", \"title\": \"\", \"type\": \"quantitative\"}, \"x2\": {\"field\": \"up_bound\"}, \"y\": {\"field\": \"height\", \"type\": \"quantitative\"}}, \"transform\": [{\"aggregate\": [{\"op\": \"mean\", \"field\": \"value\", \"as\": \"mean\"}], \"groupby\": [\"height\"]}, {\"calculate\": \"datum.mean - 0.2*datum.mean\", \"as\": \"low_bound\"}, {\"calculate\": \"datum.mean + 0.2*datum.mean\", \"as\": \"up_bound\"}]}, {\"mark\": {\"type\": \"line\", \"color\": \"black\"}, \"encoding\": {\"x\": {\"aggregate\": \"mean\", \"field\": \"value\", \"sort\": \"-y\", \"title\": \"w'q' \\u00b1 20% (g/m^2/s)\", \"type\": \"quantitative\"}, \"y\": {\"field\": \"height\", \"type\": \"quantitative\"}}, \"title\": \"Coupled, no BS (n = 1858)\"}], \"data\": {\"url\": \"altair-data-9a516043dc5fadf90c3d2e0979cc97a0.json\", \"format\": {\"type\": \"json\"}}, \"height\": 150, \"width\": 150}], \"resolve\": {\"scale\": {\"x\": \"shared\", \"y\": \"shared\"}}, \"$schema\": \"https://vega.github.io/schema/vega-lite/v5.16.3.json\"}, {\"mode\": \"vega-lite\"});\n",
       "</script>"
      ],
      "text/plain": [
       "alt.HConcatChart(...)"
      ]
     },
     "execution_count": 14,
     "metadata": {},
     "output_type": "execute_result"
    }
   ],
   "source": [
    "bs_and_coupled_df = lhflux_measurements_df[lhflux_measurements_df.time.isin(\n",
    "    set(bs_times).intersection(set(coupled_times)) \n",
    ")]\n",
    "nobs_and_coupled_df = lhflux_measurements_df[lhflux_measurements_df.time.isin(\n",
    "    set(nobs_times).intersection(set(coupled_times)) \n",
    ")]\n",
    "\n",
    "(\n",
    "    lhflux_profile_chart(bs_and_coupled_df, \"Coupled, with BS\") |\\\n",
    "    lhflux_profile_chart(nobs_and_coupled_df, \"Coupled, no BS\") \n",
    ").resolve_scale(x='shared', y='shared')"
   ]
  },
  {
   "cell_type": "markdown",
   "metadata": {},
   "source": [
    "# Examine how divergence varies with instrument distance from snow surface"
   ]
  },
  {
   "cell_type": "code",
   "execution_count": 43,
   "metadata": {},
   "outputs": [],
   "source": [
    "div_variation = tidy_df[tidy_df.variable.isin([\n",
    "    # 'w_h2o__1m_c',\n",
    "    'w_h2o__2m_c',\n",
    "    'w_h2o__3m_c',\n",
    "    'w_h2o__5m_c',\n",
    "    'w_h2o__10m_c',\n",
    "    'w_h2o__15m_c',\n",
    "    'w_h2o__20m_c',\n",
    "    'SnowDepth_c',\n",
    "])].pivot(index='time', columns='variable', values='value').reset_index()\n",
    "div_variation['height_adj'] = 2 - div_variation['SnowDepth_c']\n",
    "\n",
    "div_variation['lhflux_div_2_3'] = (div_variation['w_h2o__3m_c'] - div_variation['w_h2o__2m_c']) / 1\n",
    "div_variation['lhflux_div_3_5'] = (div_variation['w_h2o__5m_c'] - div_variation['w_h2o__3m_c']) / 2\n",
    "div_variation['lhflux_div_5_10'] = (div_variation['w_h2o__10m_c'] - div_variation['w_h2o__5m_c']) / 5"
   ]
  },
  {
   "cell_type": "code",
   "execution_count": 44,
   "metadata": {},
   "outputs": [
    {
     "data": {
      "text/html": [
       "\n",
       "<style>\n",
       "  #altair-viz-b267a399168f44588278946c090a710d.vega-embed {\n",
       "    width: 100%;\n",
       "    display: flex;\n",
       "  }\n",
       "\n",
       "  #altair-viz-b267a399168f44588278946c090a710d.vega-embed details,\n",
       "  #altair-viz-b267a399168f44588278946c090a710d.vega-embed details summary {\n",
       "    position: relative;\n",
       "  }\n",
       "</style>\n",
       "<div id=\"altair-viz-b267a399168f44588278946c090a710d\"></div>\n",
       "<script type=\"text/javascript\">\n",
       "  var VEGA_DEBUG = (typeof VEGA_DEBUG == \"undefined\") ? {} : VEGA_DEBUG;\n",
       "  (function(spec, embedOpt){\n",
       "    let outputDiv = document.currentScript.previousElementSibling;\n",
       "    if (outputDiv.id !== \"altair-viz-b267a399168f44588278946c090a710d\") {\n",
       "      outputDiv = document.getElementById(\"altair-viz-b267a399168f44588278946c090a710d\");\n",
       "    }\n",
       "    const paths = {\n",
       "      \"vega\": \"https://cdn.jsdelivr.net/npm/vega@5?noext\",\n",
       "      \"vega-lib\": \"https://cdn.jsdelivr.net/npm/vega-lib?noext\",\n",
       "      \"vega-lite\": \"https://cdn.jsdelivr.net/npm/vega-lite@5.16.3?noext\",\n",
       "      \"vega-embed\": \"https://cdn.jsdelivr.net/npm/vega-embed@6?noext\",\n",
       "    };\n",
       "\n",
       "    function maybeLoadScript(lib, version) {\n",
       "      var key = `${lib.replace(\"-\", \"\")}_version`;\n",
       "      return (VEGA_DEBUG[key] == version) ?\n",
       "        Promise.resolve(paths[lib]) :\n",
       "        new Promise(function(resolve, reject) {\n",
       "          var s = document.createElement('script');\n",
       "          document.getElementsByTagName(\"head\")[0].appendChild(s);\n",
       "          s.async = true;\n",
       "          s.onload = () => {\n",
       "            VEGA_DEBUG[key] = version;\n",
       "            return resolve(paths[lib]);\n",
       "          };\n",
       "          s.onerror = () => reject(`Error loading script: ${paths[lib]}`);\n",
       "          s.src = paths[lib];\n",
       "        });\n",
       "    }\n",
       "\n",
       "    function showError(err) {\n",
       "      outputDiv.innerHTML = `<div class=\"error\" style=\"color:red;\">${err}</div>`;\n",
       "      throw err;\n",
       "    }\n",
       "\n",
       "    function displayChart(vegaEmbed) {\n",
       "      vegaEmbed(outputDiv, spec, embedOpt)\n",
       "        .catch(err => showError(`Javascript Error: ${err.message}<br>This usually means there's a typo in your chart specification. See the javascript console for the full traceback.`));\n",
       "    }\n",
       "\n",
       "    if(typeof define === \"function\" && define.amd) {\n",
       "      requirejs.config({paths});\n",
       "      require([\"vega-embed\"], displayChart, err => showError(`Error loading script: ${err.message}`));\n",
       "    } else {\n",
       "      maybeLoadScript(\"vega\", \"5\")\n",
       "        .then(() => maybeLoadScript(\"vega-lite\", \"5.16.3\"))\n",
       "        .then(() => maybeLoadScript(\"vega-embed\", \"6\"))\n",
       "        .catch(showError)\n",
       "        .then(() => displayChart(vegaEmbed));\n",
       "    }\n",
       "  })({\"config\": {\"view\": {\"continuousWidth\": 300, \"continuousHeight\": 300}}, \"hconcat\": [{\"layer\": [{\"data\": {\"url\": \"altair-data-0e40944478086a5303da5cef95efcce4.json\", \"format\": {\"type\": \"json\"}}, \"mark\": {\"type\": \"boxplot\", \"outliers\": false}, \"encoding\": {\"x\": {\"bin\": true, \"field\": \"SnowDepth_c\", \"title\": \"Snow Depth (m)\", \"type\": \"quantitative\"}, \"y\": {\"field\": \"lhflux_div_2_3\", \"title\": \"d(w'q')/dz, 2-3m\", \"type\": \"quantitative\"}}, \"transform\": [{\"filter\": \"(datum.lhflux_div_2_3 <= 1)\"}, {\"filter\": \"(datum.lhflux_div_2_3 >= -1)\"}]}, {\"data\": {\"name\": \"empty\"}, \"mark\": {\"type\": \"rule\", \"strokeWidth\": 2}, \"encoding\": {\"y\": {\"field\": \"y\", \"type\": \"quantitative\"}}, \"transform\": [{\"calculate\": \"0\", \"as\": \"y\"}]}], \"height\": 200, \"width\": 200}, {\"layer\": [{\"data\": {\"url\": \"altair-data-0e40944478086a5303da5cef95efcce4.json\", \"format\": {\"type\": \"json\"}}, \"mark\": {\"type\": \"boxplot\", \"outliers\": false}, \"encoding\": {\"x\": {\"bin\": true, \"field\": \"SnowDepth_c\", \"title\": \"Snow Depth (m)\", \"type\": \"quantitative\"}, \"y\": {\"field\": \"lhflux_div_3_5\", \"title\": \"d(w'q')/dz, 3-5m\", \"type\": \"quantitative\"}}, \"transform\": [{\"filter\": \"(datum.lhflux_div_3_5 <= 1)\"}, {\"filter\": \"(datum.lhflux_div_3_5 >= -1)\"}]}, {\"data\": {\"name\": \"empty\"}, \"mark\": {\"type\": \"rule\", \"strokeWidth\": 2}, \"encoding\": {\"y\": {\"field\": \"y\", \"type\": \"quantitative\"}}, \"transform\": [{\"calculate\": \"0\", \"as\": \"y\"}]}], \"height\": 200, \"width\": 200}, {\"layer\": [{\"data\": {\"url\": \"altair-data-0e40944478086a5303da5cef95efcce4.json\", \"format\": {\"type\": \"json\"}}, \"mark\": {\"type\": \"boxplot\", \"outliers\": false}, \"encoding\": {\"x\": {\"bin\": true, \"field\": \"SnowDepth_c\", \"title\": \"Snow Depth (m)\", \"type\": \"quantitative\"}, \"y\": {\"field\": \"lhflux_div_5_10\", \"title\": \"d(w'q')/dz, 5-10m\", \"type\": \"quantitative\"}}, \"transform\": [{\"filter\": \"(datum.lhflux_div_5_10 <= 1)\"}, {\"filter\": \"(datum.lhflux_div_5_10 >= -1)\"}]}, {\"data\": {\"name\": \"empty\"}, \"mark\": {\"type\": \"rule\", \"strokeWidth\": 2}, \"encoding\": {\"y\": {\"field\": \"y\", \"type\": \"quantitative\"}}, \"transform\": [{\"calculate\": \"0\", \"as\": \"y\"}]}], \"height\": 200, \"width\": 200}], \"$schema\": \"https://vega.github.io/schema/vega-lite/v5.16.3.json\", \"datasets\": {\"empty\": [{}]}}, {\"renderer\": \"svg\", \"mode\": \"vega-lite\"});\n",
       "</script>"
      ],
      "text/plain": [
       "alt.HConcatChart(...)"
      ]
     },
     "metadata": {},
     "output_type": "display_data"
    }
   ],
   "source": [
    "chart_2_3 = alt.Chart(div_variation).transform_filter(\n",
    "    alt.datum.lhflux_div_2_3 <= 1\n",
    ").transform_filter(\n",
    "    alt.datum.lhflux_div_2_3 >= -1\n",
    ").mark_boxplot(outliers=False).encode(\n",
    "    alt.X(\"SnowDepth_c:Q\").bin(True).title(\"Snow Depth (m)\"),\n",
    "    alt.Y(\"lhflux_div_2_3:Q\").title(\"d(w'q')/dz, 2-3m\")\n",
    ") + alt.Chart().transform_calculate(y = '0').mark_rule(strokeWidth=2).encode(y='y:Q').properties(width=200, height=200)\n",
    "\n",
    "chart_3_5 = alt.Chart(div_variation).transform_filter(\n",
    "    alt.datum.lhflux_div_3_5 <= 1\n",
    ").transform_filter(\n",
    "    alt.datum.lhflux_div_3_5 >= -1\n",
    ").mark_boxplot(outliers=False).encode(\n",
    "    alt.X(\"SnowDepth_c:Q\").bin(True).title(\"Snow Depth (m)\"),\n",
    "    alt.Y(\"lhflux_div_3_5:Q\").title(\"d(w'q')/dz, 3-5m\")\n",
    ")+ alt.Chart().transform_calculate(y = '0').mark_rule(strokeWidth=2).encode(y='y:Q').properties(width=200, height=200)\n",
    "\n",
    "chart_5_10 = alt.Chart(div_variation).transform_filter(\n",
    "    alt.datum.lhflux_div_5_10 <= 1\n",
    ").transform_filter(\n",
    "    alt.datum.lhflux_div_5_10 >= -1\n",
    ").mark_boxplot(outliers=False).encode(\n",
    "    alt.X(\"SnowDepth_c:Q\").bin(True).title(\"Snow Depth (m)\"),\n",
    "    alt.Y(\"lhflux_div_5_10:Q\").title((\"d(w'q')/dz, 5-10m\"))\n",
    ")+ alt.Chart().transform_calculate(y = '0').mark_rule(strokeWidth=2).encode(y='y:Q').properties(width=200, height=200)\n",
    "\n",
    "(chart_2_3 | chart_3_5 | chart_5_10).display(renderer='svg')"
   ]
  },
  {
   "cell_type": "markdown",
   "metadata": {},
   "source": [
    "# December wind event case study"
   ]
  },
  {
   "cell_type": "markdown",
   "metadata": {},
   "source": [
    "## Plot Vertical Profiles"
   ]
  },
  {
   "cell_type": "markdown",
   "metadata": {},
   "source": [
    "Sensible heat"
   ]
  },
  {
   "cell_type": "code",
   "execution_count": null,
   "metadata": {},
   "outputs": [],
   "source": [
    "src = tidy_df[tidy_df.variable.isin([\n",
    "    'w_tc__1m_c', 'w_tc__2m_c', 'w_tc__3m_c', 'w_tc__5m_c', 'w_tc__10m_c', 'w_tc__15m_c', 'w_tc__20m_c',\n",
    "    'w_tc__1m_ue',  'w_tc__1m_uw',  'w_tc__1m_d',\n",
    "    'w_tc__3m_ue',  'w_tc__3m_uw',  'w_tc__3m_d',\n",
    "    'w_tc__10m_ue', 'w_tc__10m_uw', 'w_tc__10m_d',\n",
    "])]\n",
    "# Tower uw was buried during this event, so lets not look at that data\n",
    "src = src.query(\"tower != 'uw'\")\n",
    "w_tc_prof_timeseries_chart = alt.Chart(\n",
    "    src[\n",
    "        src.time.dt.minute == 0\n",
    "    ].set_index('time').loc[\n",
    "        \"2022-12-21 12\": \"2022-12-21 23\"\n",
    "    ].reset_index()\n",
    ").mark_line(point=True).encode(\n",
    "        alt.X(\"mean(value):Q\").sort('-y').title(\"w'tc'\"), #.scale(domain=[-0.25,0], clamp=True),\n",
    "        alt.Y(\"height:Q\"),\n",
    "        alt.Color(\"tower:N\"),\n",
    "        # alt.Color(\"hours(time):O\"),\n",
    "        alt.Facet(\"time:T\").header(labelFontSize=0).title(None),\n",
    "    ).properties(width=75,height=75)"
   ]
  },
  {
   "cell_type": "markdown",
   "metadata": {},
   "source": [
    "Potential temperature"
   ]
  },
  {
   "cell_type": "code",
   "execution_count": null,
   "metadata": {},
   "outputs": [],
   "source": [
    "src = tidy_df[tidy_df.measurement.isin([\n",
    "    'surface potential temperature',\n",
    "    'potential temperature'\n",
    "])].query(\"tower == 'c'\")\n",
    "theta_prof_timeseries_chart = alt.Chart(\n",
    "    src[\n",
    "        src.time.dt.minute == 0\n",
    "    ].set_index('time').loc[\n",
    "        \"2022-12-21 12\": \"2022-12-21 23\"\n",
    "    ].reset_index()\n",
    ").mark_line(point=True).encode(\n",
    "        alt.X(\"mean(value):Q\").sort('-y').title(\"theta\").scale(zero=False),\n",
    "        alt.Y(\"height:Q\"),\n",
    "        # alt.Color(\"hours(time):O\"),\n",
    "        alt.Facet(\"time:T\").header(labelFontSize=0).title(None),\n",
    "        tooltip='height:Q'\n",
    "    ).properties(width=75,height=75)"
   ]
  },
  {
   "cell_type": "markdown",
   "metadata": {},
   "source": [
    "Temperature"
   ]
  },
  {
   "cell_type": "code",
   "execution_count": null,
   "metadata": {},
   "outputs": [],
   "source": [
    "src = tidy_df[tidy_df.measurement.isin([\n",
    "    'surface temperature',\n",
    "    'temperature'\n",
    "])].query(\"tower == 'c'\")\n",
    "T_prof_timeseries_chart = alt.Chart(\n",
    "    src[\n",
    "        src.time.dt.minute == 0\n",
    "    ].set_index('time').loc[\n",
    "        \"2022-12-21 12\": \"2022-12-21 23\"\n",
    "    ].reset_index()\n",
    ").mark_line(point=True).encode(\n",
    "        alt.X(\"mean(value):Q\").sort('-y').title(\"theta\").scale(zero=False),\n",
    "        alt.Y(\"height:Q\"),\n",
    "        # alt.Color(\"hours(time):O\"),\n",
    "        alt.Facet(\"time:T\").header(labelFontSize=0).title(None),\n",
    "        tooltip='height:Q'\n",
    "    ).properties(width=75,height=75)\n",
    "T_prof_timeseries_chart"
   ]
  },
  {
   "cell_type": "markdown",
   "metadata": {},
   "source": [
    "lh flux "
   ]
  },
  {
   "cell_type": "code",
   "execution_count": null,
   "metadata": {},
   "outputs": [],
   "source": [
    "src = tidy_df[tidy_df.variable.isin([\n",
    "    'w_h2o__1m_c', 'w_h2o__2m_c', 'w_h2o__3m_c', 'w_h2o__5m_c', 'w_h2o__10m_c', 'w_h2o__15m_c', 'w_h2o__20m_c',\n",
    "    'w_h2o__1m_ue',  'w_h2o__1m_uw',  'w_h2o__1m_d',\n",
    "    'w_h2o__3m_ue',  'w_h2o__3m_uw',  'w_h2o__3m_d',\n",
    "    'w_h2o__10m_ue', 'w_h2o__10m_uw', 'w_h2o__10m_d',\n",
    "])]\n",
    "# Tower uw was buried during this event, so lets not look at that data\n",
    "src = src.query(\"tower != 'uw'\")\n",
    "w_q_prof_timeseries_chart = alt.Chart(\n",
    "    src[\n",
    "        src.time.dt.minute == 0\n",
    "    ].set_index('time').loc[\n",
    "        \"2022-12-21 12\": \"2022-12-21 23\"\n",
    "    ].reset_index()\n",
    ").mark_line(point=True).encode(\n",
    "        alt.X(\"mean(value):Q\").sort('-y').scale(domain=[0, 0.05], clamp=True).title(\"w'q'\"),\n",
    "        alt.Y(\"height:Q\"),\n",
    "        alt.Color(\"tower:N\"),\n",
    "        # alt.Color(\"hours(time):O\"),\n",
    "        alt.Facet(\"time:T\").header(format=\"%m/%d %H:%M\")\n",
    "    ).properties(width=75,height=75)"
   ]
  },
  {
   "cell_type": "markdown",
   "metadata": {},
   "source": [
    "RH"
   ]
  },
  {
   "cell_type": "code",
   "execution_count": null,
   "metadata": {},
   "outputs": [],
   "source": [
    "src = tidy_df[tidy_df.measurement=='RH'].query(\"height != 6\").query(\"height != 12\")\n",
    "rh_prof_timeseries_chart = alt.Chart(\n",
    "    src[\n",
    "        src.time.dt.minute == 0\n",
    "    ].set_index('time').loc[\n",
    "        \"2022-12-21 12\": \"2022-12-21 23\"\n",
    "    ].reset_index()\n",
    ").mark_circle().encode(\n",
    "        alt.X(\"mean(value):Q\").sort('-y').title(\"RH (%)\").scale(domain=[55,75]),\n",
    "        alt.Y(\"height:Q\"),\n",
    "        alt.Color(\"tower:N\"),\n",
    "        # alt.Color(\"hours(time):O\"),\n",
    "        alt.Facet(\"time:T\").header(labelFontSize=0).title(None),\n",
    "        tooltip='height:Q'\n",
    "    ).properties(width=75,height=75)"
   ]
  },
  {
   "cell_type": "markdown",
   "metadata": {},
   "source": [
    "blowing snow time series"
   ]
  },
  {
   "cell_type": "code",
   "execution_count": null,
   "metadata": {},
   "outputs": [],
   "source": [
    "# src = tidy_df[tidy_df.variable == 'SF_avg_ue']\n",
    "src = tidy_df[tidy_df.variable.isin(['SF_avg_1m_ue', 'SF_avg_2m_ue'])]\n",
    "# src = src[src.time.isin(bs_times)]\n",
    "bs_flux_timeseries_chart = alt.Chart(\n",
    "    src.set_index('time').loc[\n",
    "        \"2022-12-21 12\": \"2022-12-21 23\"\n",
    "    ].reset_index().query(\"value > 0\")\n",
    ").mark_circle(point=True, size=75).encode(\n",
    "        alt.X(\"time:T\"),\n",
    "        alt.Y(\"value:Q\").scale(type='log').title(\"Blowing snow flux (g/m^2/s)\"),\n",
    "        alt.Color(\"height:O\")\n",
    ").properties(width=1140,height=100) \n",
    "\n",
    "src = tidy_df[tidy_df.variable.isin(['spd_3m_c', 'spd_5m_c', 'spd_20m_c'])]\n",
    "windspd_timeseries_chart = alt.Chart(\n",
    "    src.set_index('time').loc[\n",
    "        \"2022-12-21 12\": \"2022-12-21 23\"\n",
    "    ].reset_index().query(\"value > 0\")\n",
    ").mark_line().encode(\n",
    "        alt.X(\"time:T\").axis(labels=False).title(None),\n",
    "        alt.Y(\"value:Q\").title(\"Wind speed (m/s)\"),\n",
    "        alt.Color(\"height:O\")\n",
    ").properties(width=1140,height=100) \n",
    "\n",
    "\n",
    "src = tidy_df[tidy_df.variable.isin(['u*_3m_c', 'u*_5m_c', 'u*_20m_c'])]\n",
    "ufric_timeseries_chart = alt.Chart(\n",
    "    src.set_index('time').loc[\n",
    "        \"2022-12-21 12\": \"2022-12-21 23\"\n",
    "    ].reset_index().query(\"value > 0\")\n",
    ").mark_line().encode(\n",
    "        alt.X(\"time:T\").axis(labels=False).title(None),\n",
    "        alt.Y(\"value:Q\").title(\"Friction velocity (m/s)\"),\n",
    "        alt.Color(\"height:O\")\n",
    ").properties(width=1140,height=100) \n"
   ]
  },
  {
   "cell_type": "code",
   "execution_count": null,
   "metadata": {},
   "outputs": [],
   "source": [
    "(\n",
    "    ufric_timeseries_chart & windspd_timeseries_chart & bs_flux_timeseries_chart & \n",
    "    (w_q_prof_timeseries_chart & rh_prof_timeseries_chart & w_tc_prof_timeseries_chart & theta_prof_timeseries_chart)\n",
    ").resolve_scale(color='independent')"
   ]
  },
  {
   "cell_type": "markdown",
   "metadata": {},
   "source": [
    "Look at time series of Snow surface temperature, and other related variables, to see what is going on with surface temperatures during the blowing snow event"
   ]
  },
  {
   "cell_type": "code",
   "execution_count": null,
   "metadata": {},
   "outputs": [],
   "source": [
    "src = tidy_df.set_index('time').sort_index().loc[\n",
    "    \"2022-12-21 12\": \"2022-12-22 23\"\n",
    "].reset_index()\n",
    "# Create DF with renamed Tsnow variables to clarify that they are air sensors at this time because\n",
    "# snowdepth during this time period is 30-40cm, so the in-snow T sensors are ~10, 20cm above snow\n",
    "in_snow_sensors_as_air_sensors_df = src[src.variable.isin([\n",
    "    'T_2m_c',\n",
    "    'Tsnow_0_4m_d', 'Tsnow_0_5m_d', 'Tsnow_0_6m_d', 'Tsnow_0_7m_d',\n",
    "    'SnowDepth_c'\n",
    "])].pivot(index='time', columns='variable', values='value')\n",
    "in_snow_sensors_as_air_sensors_df['T_00cm_c'] = in_snow_sensors_as_air_sensors_df['Tsnow_0_4m_d']\n",
    "in_snow_sensors_as_air_sensors_df['T_10cm_c'] = in_snow_sensors_as_air_sensors_df['Tsnow_0_5m_d']\n",
    "in_snow_sensors_as_air_sensors_df['T_20cm_c'] = in_snow_sensors_as_air_sensors_df['Tsnow_0_6m_d']\n",
    "in_snow_sensors_as_air_sensors_df['T_30cm_c'] = in_snow_sensors_as_air_sensors_df['Tsnow_0_7m_d']\n",
    "in_snow_sensors_as_air_sensors_df = in_snow_sensors_as_air_sensors_df.reset_index().melt(id_vars='time')   \n",
    "\n",
    "# Create DF to hold the COARE model results we care about here\n",
    "# and to rename the run we did using the in-snow temp\n",
    "coare_model_results_local = coare_model_results[coare_model_results.config.isin([\n",
    "    \"Tsurf_d e_sat_alduchov 0.0005\",\n",
    "    \"Tsurf_c e_sat_alduchov 0.0005\",\n",
    "    \"Tsnow_0_4m_d e_sat_alduchov 0.0005\",\n",
    "])].set_index(\"time\").sort_index().loc[\n",
    "    src.time.min():src.time.max()\n",
    "].reset_index()\n",
    "coare_model_results_local.surface_measurement = coare_model_results_local.surface_measurement.replace(\n",
    "    \"Tsnow_0_4m_d\",\n",
    "    'T_00cm_c'\n",
    ")\n",
    "\n",
    "bs_case_study =(alt.Chart(src[src.variable == 'SF_avg_ue']).mark_line().encode(\n",
    "    alt.X(\"time:T\").axis(labels=False).title(None),\n",
    "    alt.Y(\"value:Q\").title(\"BS flux (g/m^2/s)\"),\n",
    ").properties(height = 100) &\\\n",
    "alt.Chart(in_snow_sensors_as_air_sensors_df[in_snow_sensors_as_air_sensors_df.variable.isin(\n",
    "    ['T_00cm_c', 'T_10cm_c', 'T_20cm_c', 'T_30cm_c', 'T_2m_c']\n",
    ")]).mark_line().encode(\n",
    "    alt.X(\"time:T\").axis(labels=False).title(None),\n",
    "    alt.Y(\"value:Q\").title(\"Temp. (˚C)\"),\n",
    "    alt.Color(\"variable:O\").scale(\n",
    "        domain = ['T_00cm_c', 'T_10cm_c', 'T_20cm_c', 'T_30cm_c', 'T_2m_c'],\n",
    "        range=['lightsteelblue', 'cornflowerblue', 'royalblue', 'blue', 'black']\n",
    "    ).title([\"Temp. Measurement\", \"(near-surface and air)\"]),\n",
    ").resolve_scale(x='shared', y='independent', color='independent').properties(height = 100) &\\\n",
    "alt.Chart(src[src.variable.isin([\n",
    "    'T_2m_c',\n",
    "    'Tsurf_d',\n",
    "    'Tsurf_c',\n",
    "    'Tsurf_uw',\n",
    "    'Tsurf_ue',\n",
    "    'Tsurf_rad_d',\n",
    "])]).mark_line().encode(\n",
    "    alt.X(\"time:T\").axis(labels=False).title(None),\n",
    "    alt.Y(\"value:Q\").title(\"Temp. (˚C)\"),\n",
    "    alt.Color(\"variable:O\").scale(range=[\n",
    "        'black', '#1f77b4', '#ff7f0e', '#2ca02c', '#d62728', '#9467bd'\n",
    "    ]).title([\"Temp. Measurement\", \"(surface and air)\"]),\n",
    "    detail='variable'\n",
    ").resolve_scale(x='shared', y='independent').properties(height = 100)).resolve_scale(color='independent', strokeDash='independent') &\\\n",
    "alt.Chart(\n",
    "    tidy_df.query(\"variable == 'w_h2o__3m_c'\").set_index(\"time\").loc[\n",
    "        \"20221221\": \"20221223\"\n",
    "    ].reset_index()\n",
    ").mark_line(color='black').encode(\n",
    "    alt.X(\"time:T\"),\n",
    "    alt.Y(\"value:Q\"),\n",
    ").properties(height = 100) + alt.Chart(\n",
    "    coare_model_results_local\n",
    ").mark_line().encode(\n",
    "    alt.X(\"time:T\"),\n",
    "    alt.Y(\"hlb_gperm2s\").title(\"w'q' (g/m^s/2)\"),\n",
    "    alt.Color(\"surface_measurement\").title([\n",
    "        \"Tsurf used for\",\n",
    "        \"model input\"\n",
    "    ])\n",
    ")"
   ]
  },
  {
   "cell_type": "code",
   "execution_count": null,
   "metadata": {},
   "outputs": [],
   "source": [
    "src = tidy_df.set_index('time').sort_index().loc[\n",
    "    \"20230210\": \"20230212\"\n",
    "].reset_index()\n",
    "# rename the Tsnow variables so clarify that the snowdepth during this time period is 88cm, \n",
    "# so the in-snow T sensors are actually ~10, 20, cm above the snow surface\n",
    "# When we looked at T sensors at 80cm and 90cm, they were clearly under snow (signal attenuated)\n",
    "# So we think its a decent estimate that the snow by the instrument is actually ~1m deep\n",
    "in_snow_sensors_as_air_sensors_df = src[src.variable.isin([\n",
    "    'T_2m_c',\n",
    "    'Tsnow_1_0m_d',\n",
    "    'Tsnow_1_1m_d',\n",
    "    'Tsnow_1_2m_d',\n",
    "    'Tsnow_1_3m_d',\n",
    "    # 'Tsnow_1_4m_d',\n",
    "    'SnowDepth_c'\n",
    "])].pivot(index='time', columns='variable', values='value')\n",
    "in_snow_sensors_as_air_sensors_df['T_00cm_c'] = in_snow_sensors_as_air_sensors_df['Tsnow_1_0m_d']\n",
    "in_snow_sensors_as_air_sensors_df['T_10cm_c'] = in_snow_sensors_as_air_sensors_df['Tsnow_1_1m_d']\n",
    "in_snow_sensors_as_air_sensors_df['T_20cm_c'] = in_snow_sensors_as_air_sensors_df['Tsnow_1_2m_d']\n",
    "in_snow_sensors_as_air_sensors_df['T_30cm_c'] = in_snow_sensors_as_air_sensors_df['Tsnow_1_3m_d']\n",
    "in_snow_sensors_as_air_sensors_df = in_snow_sensors_as_air_sensors_df.reset_index().melt(id_vars='time')\n",
    "\n",
    "# Create DF to hold the COARE model results we care about here\n",
    "# and to rename the run we did using the in-snow temp\n",
    "coare_model_results_local = coare_model_results[coare_model_results.config.isin([\n",
    "    \"Tsurf_d e_sat_alduchov 0.0005\",\n",
    "    \"Tsurf_c e_sat_alduchov 0.0005\",\n",
    "    \"Tsnow_1_0m_d e_sat_alduchov 0.0005\",\n",
    "])].set_index(\"time\").sort_index().loc[\n",
    "    src.time.min():src.time.max()\n",
    "].reset_index()\n",
    "coare_model_results_local.surface_measurement = coare_model_results_local.surface_measurement.replace(\n",
    "    'Tsnow_1_0m_d',\n",
    "    'T_00cm_c'\n",
    ")\n",
    "\n",
    "clear_case_study = (alt.Chart(src[src.variable == 'SF_avg_ue']).mark_line().encode(\n",
    "    alt.X(\"time:T\").axis(labels=False).title(None),\n",
    "    alt.Y(\"value:Q\").title(\"BS flux (g/m^2/s)\"),\n",
    ").properties(height = 100) &\\\n",
    "alt.Chart(in_snow_sensors_as_air_sensors_df[in_snow_sensors_as_air_sensors_df.variable.isin(\n",
    "    ['T_2m_c', 'T_00cm_c', 'T_10cm_c', 'T_20cm_c','T_30cm_c']\n",
    ")]).mark_line().encode(\n",
    "    alt.X(\"time:T\").axis(labels=False).title(None),\n",
    "    alt.Y(\"value:Q\").title(\"Temp. (˚C)\"),\n",
    "    alt.Color(\"variable:O\").scale(\n",
    "        domain = ['T_00cm_c', 'T_10cm_c', 'T_20cm_c','T_30cm_c', 'T_2m_c', ],\n",
    "        range=['lightsteelblue', 'cornflowerblue', 'royalblue', 'blue', 'black']\n",
    "    ).title([\"Temp. Measurement\", \"(near-surface and air)\"]),\n",
    "    # alt.StrokeDash(\"measurement:N\"),\n",
    "    detail='variable'\n",
    ").resolve_scale(x='shared', y='independent', color='independent').properties(height = 100) &\\\n",
    "alt.Chart(src[src.variable.isin([\n",
    "    'T_2m_c',\n",
    "    'Tsurf_d',\n",
    "    'Tsurf_c',\n",
    "    'Tsurf_uw',\n",
    "    'Tsurf_ue',\n",
    "    'Tsurf_rad_d',\n",
    "])]).mark_line().encode(\n",
    "    alt.X(\"time:T\").axis(labels=False).title(None),\n",
    "    alt.Y(\"value:Q\").title(\"Temp. (˚C)\"),\n",
    "    alt.Color(\"variable:O\").scale(range=[\n",
    "        'black', '#1f77b4', '#ff7f0e', '#2ca02c', '#d62728', '#9467bd'\n",
    "    ]).title([\"Temp. Measurement\", \"(surface and air)\"]),\n",
    "    # alt.StrokeDash(\"measurement:N\"),\n",
    "    detail='variable'\n",
    ").resolve_scale(x='shared', y='independent').properties(height = 100)).resolve_scale(color='independent', strokeDash='independent') &\\\n",
    "alt.Chart(\n",
    "    tidy_df.query(\"variable == 'w_h2o__3m_c'\").set_index(\"time\").loc[\n",
    "        \"20230210\": \"20230212\"\n",
    "    ].reset_index()\n",
    ").mark_line(color='black').encode(\n",
    "    alt.X(\"time:T\"),\n",
    "    alt.Y(\"value:Q\")\n",
    ").properties(height = 100) + alt.Chart(\n",
    "    coare_model_results_local\n",
    ").mark_line().encode(\n",
    "    alt.X(\"time:T\"),\n",
    "    alt.Y(\"hlb_gperm2s\").title(\"w'q' (g/m^s/2)\"),\n",
    "    alt.Color(\"surface_measurement:N\").title([\n",
    "        \"Tsurf used for\",\n",
    "        \"model input\"\n",
    "    ])\n",
    ")"
   ]
  },
  {
   "cell_type": "code",
   "execution_count": null,
   "metadata": {},
   "outputs": [],
   "source": [
    "(bs_case_study | clear_case_study)"
   ]
  }
 ],
 "metadata": {
  "kernelspec": {
   "display_name": "arm",
   "language": "python",
   "name": "python3"
  },
  "language_info": {
   "codemirror_mode": {
    "name": "ipython",
    "version": 3
   },
   "file_extension": ".py",
   "mimetype": "text/x-python",
   "name": "python",
   "nbconvert_exporter": "python",
   "pygments_lexer": "ipython3",
   "version": "3.12.1"
  }
 },
 "nbformat": 4,
 "nbformat_minor": 2
}
