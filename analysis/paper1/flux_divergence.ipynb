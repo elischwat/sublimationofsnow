{
 "cells": [
  {
   "cell_type": "code",
   "execution_count": 45,
   "metadata": {},
   "outputs": [],
   "source": [
    "import numpy as np\n",
    "import pandas as pd\n",
    "import matplotlib.pyplot as plt\n",
    "import altair as alt\n",
    "alt.data_transformers.enable('json')\n",
    "alt.renderers.enable('jupyterlab')\n",
    "from sublimpy import tidy, utils\n",
    "import pytz"
   ]
  },
  {
   "cell_type": "code",
   "execution_count": 46,
   "metadata": {},
   "outputs": [],
   "source": [
    "seconds_in_timestep = 60*30\n",
    "from metpy.constants import density_water"
   ]
  },
  {
   "cell_type": "markdown",
   "metadata": {},
   "source": [
    "# Open datasets"
   ]
  },
  {
   "cell_type": "code",
   "execution_count": 47,
   "metadata": {},
   "outputs": [],
   "source": [
    "# Open SOS Measurement Dataset\n",
    "################################################\n",
    "start_date = '20221130'\n",
    "end_date = '20230509'\n",
    "# open files\n",
    "tidy_df = pd.read_parquet(f'tidy_df_{start_date}_{end_date}_noplanar_fit_clean.parquet')\n",
    "\n",
    "# convert time column to datetime\n",
    "tidy_df['time'] = pd.to_datetime(tidy_df['time'])\n",
    "\n",
    "tidy_df = utils.modify_df_timezone(tidy_df, pytz.UTC, 'US/Mountain')\n",
    "\n",
    "# limit data to our dates of interest, based on continuous snow cover at Kettle Ponds\n",
    "tidy_df = tidy_df.set_index('time').sort_index().loc[start_date:end_date].reset_index()"
   ]
  },
  {
   "cell_type": "markdown",
   "metadata": {},
   "source": [
    "## Add combined blowing snow flux variable"
   ]
  },
  {
   "cell_type": "code",
   "execution_count": 48,
   "metadata": {},
   "outputs": [],
   "source": [
    "tidy_df = tidy.tidy_df_add_variable(\n",
    "    tidy_df,\n",
    "    (\n",
    "        tidy_df.query(\"variable == 'SF_avg_1m_ue'\")['value'].values + \n",
    "        tidy_df.query(\"variable == 'SF_avg_2m_ue'\")['value'].values\n",
    "    ), \n",
    "    'SF_avg_ue',\n",
    "    'snow flux',\n",
    "    1,\n",
    "    'ue',\n",
    ")"
   ]
  },
  {
   "cell_type": "markdown",
   "metadata": {},
   "source": [
    "# Identify lists of timestamps for different categories"
   ]
  },
  {
   "cell_type": "code",
   "execution_count": 49,
   "metadata": {},
   "outputs": [],
   "source": [
    "bs_times = tidy_df.query(\"variable == 'SF_avg_ue'\").query(\"value > 0\").time\n",
    "nobs_times = tidy_df.query(\"variable == 'SF_avg_ue'\").query(\"value == 0\").time\n",
    "\n",
    "decoupled_times = tidy_df.query(\"variable == 'omega_3m_c'\").query(\"value < 0.43\").time\n",
    "weaklycoupled_times = tidy_df.query(\"variable == 'omega_3m_c'\").query(\"value >= 0.43\").query(\"value <= 0.61\").time\n",
    "coupled_times = tidy_df.query(\"variable == 'omega_3m_c'\").query(\"value > 0.61\").time\n",
    "\n",
    "ri_stable_times = tidy_df.query(\"variable == 'Ri_3m_c'\").query(\"value > 0.25\").time\n",
    "ri_unstable_times = tidy_df.query(\"variable == 'Ri_3m_c'\").query(\"value < -0.01\").time\n",
    "ri_neutral_times = tidy_df.query(\"variable == 'Ri_3m_c'\").query(\"value >= -0.01\").query(\"value <= 0.25\").time\n",
    "\n",
    "tgrad_stable_times = tidy_df.query(\"variable == 'temp_gradient_3m_c'\").query(\"value > 0.01\").time\n",
    "tgrad_unstable_times = tidy_df.query(\"variable == 'temp_gradient_3m_c'\").query(\"value < -0.01\").time\n",
    "tgrad_neutral_times = tidy_df.query(\"variable == 'temp_gradient_3m_c'\").query(\"value >= -0.01\").query(\"value <= 0.01\").time"
   ]
  },
  {
   "cell_type": "markdown",
   "metadata": {},
   "source": [
    "# Isolate different masurements into datasets"
   ]
  },
  {
   "cell_type": "code",
   "execution_count": 57,
   "metadata": {},
   "outputs": [],
   "source": [
    "# <w> measurements\n",
    "w_measurements_df = tidy_df[tidy_df.variable.isin([\n",
    "    'w_1m_c', 'w_2m_c', 'w_3m_c', 'w_5m_c', 'w_10m_c', 'w_15m_c', 'w_20m_c',\n",
    "    'w_3m_d',   'w_10m_d',\n",
    "    'w_3m_ue',  'w_10m_ue',\n",
    "    'w_3m_uw',  'w_10m_uw',\n",
    "])]\n",
    "\n",
    "# <q> measurements\n",
    "q_measurements_df = tidy_df[tidy_df.variable.isin([\n",
    "    'specifichumidity_1m_c', 'specifichumidity_2m_c', 'specifichumidity_3m_c', 'specifichumidity_5m_c', 'specifichumidity_10m_c', 'specifichumidity_15m_c', 'specifichumidity_20m_c',\n",
    "])]\n",
    "\n",
    "# tke measurements\n",
    "tke_measurements_df = tidy_df[tidy_df.variable.isin([\n",
    "    'tke_1m_c', 'tke_2m_c', 'tke_3m_c', 'tke_5m_c', 'tke_10m_c', 'tke_15m_c', 'tke_20m_c',\n",
    "    'tke_3m_d',   'tke_10m_d',\n",
    "    'tke_3m_ue',  'tke_10m_ue',\n",
    "    'tke_3m_uw',  'tke_10m_uw',\n",
    "])]\n",
    "\n",
    "# <w'w'> measurements\n",
    "w_w__measurements_df = tidy_df[tidy_df.variable.isin([\n",
    "    'w_w__1m_c', 'w_w__2m_c', 'w_w__3m_c', 'w_w__5m_c', 'w_w__10m_c', 'w_w__15m_c', 'w_w__20m_c',\n",
    "    'w_w__3m_d',   'w_w__10m_d',\n",
    "    'w_w__3m_ue',  'w_w__10m_ue',\n",
    "    'w_w__3m_uw',  'w_w__10m_uw',\n",
    "])]\n",
    "\n",
    "# <w'q'> measurements\n",
    "lhflux_measurements_df = tidy_df[tidy_df.variable.isin([\n",
    "    'w_h2o__1m_c', 'w_h2o__2m_c', 'w_h2o__3m_c', 'w_h2o__5m_c', 'w_h2o__10m_c', 'w_h2o__15m_c', 'w_h2o__20m_c',\n",
    "    'w_h2o__1m_d','w_h2o__3m_d', 'w_h2o__10m_d',\n",
    "    'w_h2o__1m_ue','w_h2o__3m_ue', 'w_h2o__10m_ue',\n",
    "    'w_h2o__1m_uw','w_h2o__3m_uw', 'w_h2o__10m_uw',\n",
    "])]\n",
    "\n",
    "# sqrt[<u'q'>**2 + <v'q'>**2'] measurements (takes some extra work)\n",
    "lateral_lhflux_measurements_df = tidy_df[tidy_df.variable.isin([\n",
    "    'u_h2o__1m_c', 'u_h2o__2m_c', 'u_h2o__3m_c', 'u_h2o__5m_c', 'u_h2o__10m_c', 'u_h2o__15m_c', 'u_h2o__20m_c',\n",
    "    'v_h2o__1m_c', 'v_h2o__2m_c', 'v_h2o__3m_c', 'v_h2o__5m_c', 'v_h2o__10m_c', 'v_h2o__15m_c', 'v_h2o__20m_c', \n",
    "    'u_h2o__3m_d', 'u_h2o__10m_d',  \n",
    "    'v_h2o__3m_d', 'v_h2o__10m_d',    \n",
    "    'u_h2o__3m_ue', 'u_h2o__10m_ue',  \n",
    "    'v_h2o__3m_ue', 'v_h2o__10m_ue', \n",
    "    'u_h2o__3m_uw', 'u_h2o__10m_uw',  \n",
    "    'v_h2o__3m_uw', 'v_h2o__10m_uw', \n",
    "])]\n",
    "lateral_lhflux_measurements_df = lateral_lhflux_measurements_df.pivot(index='time', columns='variable', values='value')\n",
    "lateral_lhflux_measurements_df['u_h2o__1m_c'] = np.sqrt(lateral_lhflux_measurements_df['u_h2o__1m_c']**2 + lateral_lhflux_measurements_df['v_h2o__1m_c']**2)\n",
    "lateral_lhflux_measurements_df['u_h2o__2m_c'] = np.sqrt(lateral_lhflux_measurements_df['u_h2o__2m_c']**2 + lateral_lhflux_measurements_df['v_h2o__2m_c']**2)\n",
    "lateral_lhflux_measurements_df['u_h2o__3m_c'] = np.sqrt(lateral_lhflux_measurements_df['u_h2o__3m_c']**2 + lateral_lhflux_measurements_df['v_h2o__3m_c']**2)\n",
    "lateral_lhflux_measurements_df['u_h2o__5m_c'] = np.sqrt(lateral_lhflux_measurements_df['u_h2o__5m_c']**2 + lateral_lhflux_measurements_df['v_h2o__5m_c']**2)\n",
    "lateral_lhflux_measurements_df['u_h2o__10m_c'] = np.sqrt(lateral_lhflux_measurements_df['u_h2o__10m_c']**2 + lateral_lhflux_measurements_df['v_h2o__10m_c']**2)\n",
    "lateral_lhflux_measurements_df['u_h2o__15m_c'] = np.sqrt(lateral_lhflux_measurements_df['u_h2o__15m_c']**2 + lateral_lhflux_measurements_df['v_h2o__15m_c']**2)\n",
    "lateral_lhflux_measurements_df['u_h2o__20m_c'] = np.sqrt(lateral_lhflux_measurements_df['u_h2o__20m_c']**2 + lateral_lhflux_measurements_df['v_h2o__20m_c']**2)\n",
    "lateral_lhflux_measurements_df['u_h2o__3m_d'] = np.sqrt(lateral_lhflux_measurements_df['u_h2o__3m_d']**2 + lateral_lhflux_measurements_df['v_h2o__3m_d']**2)\n",
    "lateral_lhflux_measurements_df['u_h2o__10m_d'] = np.sqrt(lateral_lhflux_measurements_df['u_h2o__10m_d']**2 + lateral_lhflux_measurements_df['v_h2o__10m_d']**2)\n",
    "lateral_lhflux_measurements_df['u_h2o__3m_ue'] = np.sqrt(lateral_lhflux_measurements_df['u_h2o__3m_ue']**2 + lateral_lhflux_measurements_df['v_h2o__3m_ue']**2)\n",
    "lateral_lhflux_measurements_df['u_h2o__10m_ue'] = np.sqrt(lateral_lhflux_measurements_df['u_h2o__10m_ue']**2 + lateral_lhflux_measurements_df['v_h2o__10m_ue']**2)\n",
    "lateral_lhflux_measurements_df['u_h2o__3m_uw'] = np.sqrt(lateral_lhflux_measurements_df['u_h2o__3m_uw']**2 + lateral_lhflux_measurements_df['v_h2o__3m_uw']**2)\n",
    "lateral_lhflux_measurements_df['u_h2o__10m_uw'] = np.sqrt(lateral_lhflux_measurements_df['u_h2o__10m_uw']**2 + lateral_lhflux_measurements_df['v_h2o__10m_uw']**2)\n",
    "lateral_lhflux_measurements_df = lateral_lhflux_measurements_df[[\n",
    "    'u_h2o__1m_c', 'u_h2o__2m_c', 'u_h2o__3m_c', 'u_h2o__5m_c', 'u_h2o__10m_c', 'u_h2o__15m_c', 'u_h2o__20m_c',\n",
    "    'u_h2o__3m_d', 'u_h2o__10m_d', \n",
    "    'u_h2o__3m_ue', 'u_h2o__10m_ue', \n",
    "    'u_h2o__3m_uw', 'u_h2o__10m_uw',\n",
    "]]\n",
    "lateral_lhflux_measurements_df = lateral_lhflux_measurements_df.melt(ignore_index=False).reset_index()\n",
    "lateral_lhflux_measurements_df['height'] = lateral_lhflux_measurements_df.variable.apply(lambda s: int(s.split('__')[1].split('m')[0]))\n",
    "lateral_lhflux_measurements_df['tower'] = lateral_lhflux_measurements_df.variable.apply(lambda s: s.split('_')[-1])"
   ]
  },
  {
   "cell_type": "markdown",
   "metadata": {},
   "source": [
    "# Create sub groups of the separate measurements"
   ]
  },
  {
   "cell_type": "code",
   "execution_count": 58,
   "metadata": {},
   "outputs": [],
   "source": [
    "# <w> measurements - divide into groups\n",
    "bs_w_df = w_measurements_df[w_measurements_df.time.isin(bs_times)]\n",
    "nobs_w_df = w_measurements_df[w_measurements_df.time.isin(nobs_times)]\n",
    "\n",
    "decoupled_w_df = w_measurements_df[w_measurements_df.time.isin(decoupled_times)]\n",
    "weaklycoupled_w_df = w_measurements_df[w_measurements_df.time.isin(weaklycoupled_times)]\n",
    "coupled_w_df = w_measurements_df[w_measurements_df.time.isin(coupled_times)]\n",
    "\n",
    "ri_stable_w_df = w_measurements_df[w_measurements_df.time.isin(ri_stable_times)]\n",
    "ri_unstable_w_df = w_measurements_df[w_measurements_df.time.isin(ri_unstable_times)]\n",
    "ri_neutral_w_df = w_measurements_df[w_measurements_df.time.isin(ri_neutral_times)]\n",
    "\n",
    "tgrad_stable_w_df = w_measurements_df[w_measurements_df.time.isin(tgrad_stable_times)]\n",
    "tgrad_unstable_w_df = w_measurements_df[w_measurements_df.time.isin(tgrad_unstable_times)]\n",
    "tgrad_neutral_w_df = w_measurements_df[w_measurements_df.time.isin(tgrad_neutral_times)]\n",
    "\n",
    "# <q> measurements - divide into groups\n",
    "bs_q_df = q_measurements_df[q_measurements_df.time.isin(bs_times)]\n",
    "nobs_q_df = q_measurements_df[q_measurements_df.time.isin(nobs_times)]\n",
    "\n",
    "decoupled_q_df = q_measurements_df[q_measurements_df.time.isin(decoupled_times)]\n",
    "weaklycoupled_q_df = q_measurements_df[q_measurements_df.time.isin(weaklycoupled_times)]\n",
    "coupled_q_df = q_measurements_df[q_measurements_df.time.isin(coupled_times)]\n",
    "\n",
    "ri_stable_q_df = q_measurements_df[q_measurements_df.time.isin(ri_stable_times)]\n",
    "ri_unstable_q_df = q_measurements_df[q_measurements_df.time.isin(ri_unstable_times)]\n",
    "ri_neutral_q_df = q_measurements_df[q_measurements_df.time.isin(ri_neutral_times)]\n",
    "\n",
    "tgrad_stable_q_df = q_measurements_df[q_measurements_df.time.isin(tgrad_stable_times)]\n",
    "tgrad_unstable_q_df = q_measurements_df[q_measurements_df.time.isin(tgrad_unstable_times)]\n",
    "tgrad_neutral_q_df = q_measurements_df[q_measurements_df.time.isin(tgrad_neutral_times)]\n",
    "\n",
    "# tke measurements - divide into groups\n",
    "bs_tke_df = tke_measurements_df[tke_measurements_df.time.isin(bs_times)]\n",
    "nobs_tke_df = tke_measurements_df[tke_measurements_df.time.isin(nobs_times)]\n",
    "\n",
    "decoupled_tke_df = tke_measurements_df[tke_measurements_df.time.isin(decoupled_times)]\n",
    "weaklycoupled_tke_df = tke_measurements_df[tke_measurements_df.time.isin(weaklycoupled_times)]\n",
    "coupled_tke_df = tke_measurements_df[tke_measurements_df.time.isin(coupled_times)]\n",
    "\n",
    "ri_stable_tke_df = tke_measurements_df[tke_measurements_df.time.isin(ri_stable_times)]\n",
    "ri_unstable_tke_df = tke_measurements_df[tke_measurements_df.time.isin(ri_unstable_times)]\n",
    "ri_neutral_tke_df = tke_measurements_df[tke_measurements_df.time.isin(ri_neutral_times)]\n",
    "\n",
    "tgrad_stable_tke_df = tke_measurements_df[tke_measurements_df.time.isin(tgrad_stable_times)]\n",
    "tgrad_unstable_tke_df = tke_measurements_df[tke_measurements_df.time.isin(tgrad_unstable_times)]\n",
    "tgrad_neutral_tke_df = tke_measurements_df[tke_measurements_df.time.isin(tgrad_neutral_times)]\n",
    "\n",
    "\n",
    "# <w'w'> measurements - divide into groups\n",
    "bs_w_w__df = w_w__measurements_df[w_w__measurements_df.time.isin(bs_times)]\n",
    "nobs_w_w__df = w_w__measurements_df[w_w__measurements_df.time.isin(nobs_times)]\n",
    "\n",
    "decoupled_w_w__df = w_w__measurements_df[w_w__measurements_df.time.isin(decoupled_times)]\n",
    "weaklycoupled_w_w__df = w_w__measurements_df[w_w__measurements_df.time.isin(weaklycoupled_times)]\n",
    "coupled_w_w__df = w_w__measurements_df[w_w__measurements_df.time.isin(coupled_times)]\n",
    "\n",
    "ri_stable_w_w__df = w_w__measurements_df[w_w__measurements_df.time.isin(ri_stable_times)]\n",
    "ri_unstable_w_w__df = w_w__measurements_df[w_w__measurements_df.time.isin(ri_unstable_times)]\n",
    "ri_neutral_w_w__df = w_w__measurements_df[w_w__measurements_df.time.isin(ri_neutral_times)]\n",
    "\n",
    "tgrad_stable_w_w__df = w_w__measurements_df[w_w__measurements_df.time.isin(tgrad_stable_times)]\n",
    "tgrad_unstable_w_w__df = w_w__measurements_df[w_w__measurements_df.time.isin(tgrad_unstable_times)]\n",
    "tgrad_neutral_w_w__df = w_w__measurements_df[w_w__measurements_df.time.isin(tgrad_neutral_times)]\n",
    "\n",
    "\n",
    "\n",
    "\n",
    "# <w'q'> measurements - divide into groups\n",
    "bs_lhflux_df = lhflux_measurements_df[lhflux_measurements_df.time.isin(bs_times)]\n",
    "nobs_lhflux_df = lhflux_measurements_df[lhflux_measurements_df.time.isin(nobs_times)]\n",
    "\n",
    "decoupled_df = lhflux_measurements_df[lhflux_measurements_df.time.isin(decoupled_times)]\n",
    "weaklycoupled_df = lhflux_measurements_df[lhflux_measurements_df.time.isin(weaklycoupled_times)]\n",
    "coupled_df = lhflux_measurements_df[lhflux_measurements_df.time.isin(coupled_times)]\n",
    "\n",
    "ri_stable_df = lhflux_measurements_df[lhflux_measurements_df.time.isin(ri_stable_times)]\n",
    "ri_unstable_df = lhflux_measurements_df[lhflux_measurements_df.time.isin(ri_unstable_times)]\n",
    "ri_neutral_df = lhflux_measurements_df[lhflux_measurements_df.time.isin(ri_neutral_times)]\n",
    "\n",
    "tgrad_stable_df = lhflux_measurements_df[lhflux_measurements_df.time.isin(tgrad_stable_times)]\n",
    "tgrad_unstable_df = lhflux_measurements_df[lhflux_measurements_df.time.isin(tgrad_unstable_times)]\n",
    "tgrad_neutral_df = lhflux_measurements_df[lhflux_measurements_df.time.isin(tgrad_neutral_times)]\n",
    "\n",
    "# create dfs that have bs/no-bs labels\n",
    "lhflux_df_with_bs_indicator = pd.concat([\n",
    "    lhflux_measurements_df[lhflux_measurements_df.time.isin(nobs_times)].assign(conditions='No BS'),\n",
    "    lhflux_measurements_df[lhflux_measurements_df.time.isin(bs_times)].assign(conditions='BS')\n",
    "])\n",
    "\n",
    "tgrad_stable_df_with_bs_indicator = pd.concat([\n",
    "    lhflux_measurements_df[\n",
    "        lhflux_measurements_df.time.isin(set(nobs_times).intersection(set(tgrad_stable_times)))\n",
    "    ].assign(conditions='No BS'),\n",
    "    lhflux_measurements_df[\n",
    "        lhflux_measurements_df.time.isin(set(bs_times).intersection(set(tgrad_stable_times)))\n",
    "    ].assign(conditions='BS')\n",
    "])\n",
    "tgrad_neutral_df_with_bs_indicator = pd.concat([\n",
    "    lhflux_measurements_df[\n",
    "        lhflux_measurements_df.time.isin(set(nobs_times).intersection(set(tgrad_neutral_times)))\n",
    "    ].assign(conditions='No BS'),\n",
    "    lhflux_measurements_df[\n",
    "        lhflux_measurements_df.time.isin(set(bs_times).intersection(set(tgrad_neutral_times)))\n",
    "    ].assign(conditions='BS')\n",
    "])\n",
    "tgrad_unstable_df_with_bs_indicator = pd.concat([\n",
    "    lhflux_measurements_df[\n",
    "        lhflux_measurements_df.time.isin(set(nobs_times).intersection(set(tgrad_unstable_times)))\n",
    "    ].assign(conditions='No BS'),\n",
    "    lhflux_measurements_df[\n",
    "        lhflux_measurements_df.time.isin(set(bs_times).intersection(set(tgrad_unstable_times)))\n",
    "    ].assign(conditions='BS')\n",
    "])\n",
    "\n",
    "\n",
    "# <u'q'> measurements - divide into groups\n",
    "\n",
    "bs_lateralflux_df = lateral_lhflux_measurements_df[lateral_lhflux_measurements_df.time.isin(bs_times)]\n",
    "nobs_lateralflux_df = lateral_lhflux_measurements_df[lateral_lhflux_measurements_df.time.isin(nobs_times)]\n",
    "\n",
    "decoupled_lateralflux_df = lateral_lhflux_measurements_df[lateral_lhflux_measurements_df.time.isin(decoupled_times)]\n",
    "weaklycoupled_lateralflux_df = lateral_lhflux_measurements_df[lateral_lhflux_measurements_df.time.isin(weaklycoupled_times)]\n",
    "coupled_lateralflux_df = lateral_lhflux_measurements_df[lateral_lhflux_measurements_df.time.isin(coupled_times)]\n",
    "\n",
    "ri_stable_lateralflux_df = lateral_lhflux_measurements_df[lateral_lhflux_measurements_df.time.isin(ri_stable_times)]\n",
    "ri_unstable_lateralflux_df = lateral_lhflux_measurements_df[lateral_lhflux_measurements_df.time.isin(ri_unstable_times)]\n",
    "ri_neutral_lateralflux_df = lateral_lhflux_measurements_df[lateral_lhflux_measurements_df.time.isin(ri_neutral_times)]\n",
    "\n",
    "tgrad_stable_lateralflux_df = lateral_lhflux_measurements_df[lateral_lhflux_measurements_df.time.isin(tgrad_stable_times)]\n",
    "tgrad_unstable_lateralflux_df = lateral_lhflux_measurements_df[lateral_lhflux_measurements_df.time.isin(tgrad_unstable_times)]\n",
    "tgrad_neutral_lateralflux_df = lateral_lhflux_measurements_df[lateral_lhflux_measurements_df.time.isin(tgrad_neutral_times)]\n",
    "\n",
    "\n",
    "# create dfs that have bs/no-bs labels\n",
    "lateralflux_df_with_bs_indicator = pd.concat([\n",
    "    lateral_lhflux_measurements_df[lateral_lhflux_measurements_df.time.isin(nobs_times)].assign(conditions='No BS'),\n",
    "    lateral_lhflux_measurements_df[lateral_lhflux_measurements_df.time.isin(bs_times)].assign(conditions='BS')\n",
    "])\n",
    "\n",
    "lateralflux_tgrad_stable_df_with_bs_indicator = pd.concat([\n",
    "    lateral_lhflux_measurements_df[\n",
    "        lateral_lhflux_measurements_df.time.isin(set(nobs_times).intersection(set(tgrad_stable_times)))\n",
    "    ].assign(conditions='No BS'),\n",
    "    lateral_lhflux_measurements_df[\n",
    "        lateral_lhflux_measurements_df.time.isin(set(bs_times).intersection(set(tgrad_stable_times)))\n",
    "    ].assign(conditions='BS')\n",
    "])\n",
    "lateralflux_tgrad_neutral_df_with_bs_indicator = pd.concat([\n",
    "    lateral_lhflux_measurements_df[\n",
    "        lateral_lhflux_measurements_df.time.isin(set(nobs_times).intersection(set(tgrad_neutral_times)))\n",
    "    ].assign(conditions='No BS'),\n",
    "    lateral_lhflux_measurements_df[\n",
    "        lateral_lhflux_measurements_df.time.isin(set(bs_times).intersection(set(tgrad_neutral_times)))\n",
    "    ].assign(conditions='BS')\n",
    "])\n",
    "lateralflux_tgrad_unstable_df_with_bs_indicator = pd.concat([\n",
    "    lateral_lhflux_measurements_df[\n",
    "        lateral_lhflux_measurements_df.time.isin(set(nobs_times).intersection(set(tgrad_unstable_times)))\n",
    "    ].assign(conditions='No BS'),\n",
    "    lateral_lhflux_measurements_df[\n",
    "        lateral_lhflux_measurements_df.time.isin(set(bs_times).intersection(set(tgrad_unstable_times)))\n",
    "    ].assign(conditions='BS')\n",
    "])\n"
   ]
  },
  {
   "cell_type": "markdown",
   "metadata": {},
   "source": [
    "# Calculate frequency of lh flux divergence \n",
    "\n",
    "Use two different thresholds, 10% and 30%\n",
    "\n",
    "We compare measurements at 2 measurement heights at a time (2 and 3, and 3 and 5). This is not comprehensive."
   ]
  },
  {
   "cell_type": "code",
   "execution_count": 59,
   "metadata": {},
   "outputs": [],
   "source": [
    "src = lhflux_measurements_df.pivot(index='time', columns='variable', values='value')\n",
    "src_w = w_measurements_df.pivot(index='time', columns='variable', values='value')"
   ]
  },
  {
   "cell_type": "markdown",
   "metadata": {},
   "source": [
    "## Using 2 and 3 meter measurements and 3 and 5 meter measurements"
   ]
  },
  {
   "cell_type": "code",
   "execution_count": 60,
   "metadata": {},
   "outputs": [
    {
     "name": "stdout",
     "output_type": "stream",
     "text": [
      "Using 2 and 3m ECs, LH flux diverges more than 10%, 42.3% of the time\n",
      "Using 3 and 5m ECs, LH flux diverges more than 10%, 42.2% of the time\n",
      "Using 2 and 3m ECs, LH flux diverges more than 30%, 27.5% of the time\n",
      "Using 3 and 5m ECs, LH flux diverges more than 30%, 28.7% of the time\n"
     ]
    }
   ],
   "source": [
    "src['percent diff 2 3'] = (src['w_h2o__3m_c'] - src['w_h2o__2m_c']) / src[['w_h2o__3m_c', 'w_h2o__2m_c']].mean(axis=1)\n",
    "src['percent diff 3 5'] = (src['w_h2o__5m_c'] - src['w_h2o__3m_c']) / src[['w_h2o__5m_c', 'w_h2o__3m_c']].mean(axis=1)\n",
    "\n",
    "percent_gt_10_2_3 = len(src[src[\"percent diff 2 3\"] > 0.1])/len(src)\n",
    "percent_gt_10_3_5 = len(src[src[\"percent diff 3 5\"] > 0.1])/len(src)\n",
    "percent_gt_30_2_3 = len(src[src[\"percent diff 2 3\"] > 0.3])/len(src)\n",
    "percent_gt_30_3_5 = len(src[src[\"percent diff 3 5\"] > 0.3])/len(src)\n",
    "\n",
    "print(f\"Using 2 and 3m ECs, LH flux diverges more than 10%, {round(percent_gt_10_2_3*100, 1)}% of the time\")\n",
    "print(f\"Using 3 and 5m ECs, LH flux diverges more than 10%, {round(percent_gt_10_3_5*100, 1)}% of the time\")\n",
    "print(f\"Using 2 and 3m ECs, LH flux diverges more than 30%, {round(percent_gt_30_2_3*100, 1)}% of the time\")\n",
    "print(f\"Using 3 and 5m ECs, LH flux diverges more than 30%, {round(percent_gt_30_3_5*100, 1)}% of the time\")"
   ]
  },
  {
   "cell_type": "code",
   "execution_count": 61,
   "metadata": {},
   "outputs": [
    {
     "name": "stdout",
     "output_type": "stream",
     "text": [
      "bs_times\n",
      "Using 2 and 3m ECs, LH flux diverges more than 10%, 47.6% of the time\n",
      "Using 3 and 5m ECs, LH flux diverges more than 10%, 44.0% of the time\n",
      "Using 2 and 3m ECs, LH flux diverges more than 30%, 26.3% of the time\n",
      "Using 3 and 5m ECs, LH flux diverges more than 30%, 20.4% of the time\n",
      "\n",
      "nobs_times\n",
      "Using 2 and 3m ECs, LH flux diverges more than 10%, 40.7% of the time\n",
      "Using 3 and 5m ECs, LH flux diverges more than 10%, 41.8% of the time\n",
      "Using 2 and 3m ECs, LH flux diverges more than 30%, 27.8% of the time\n",
      "Using 3 and 5m ECs, LH flux diverges more than 30%, 31.1% of the time\n",
      "\n",
      "decoupled_times\n",
      "Using 2 and 3m ECs, LH flux diverges more than 10%, 37.4% of the time\n",
      "Using 3 and 5m ECs, LH flux diverges more than 10%, 44.8% of the time\n",
      "Using 2 and 3m ECs, LH flux diverges more than 30%, 29.0% of the time\n",
      "Using 3 and 5m ECs, LH flux diverges more than 30%, 37.7% of the time\n",
      "\n",
      "weaklycoupled_times\n",
      "Using 2 and 3m ECs, LH flux diverges more than 10%, 38.5% of the time\n",
      "Using 3 and 5m ECs, LH flux diverges more than 10%, 42.3% of the time\n",
      "Using 2 and 3m ECs, LH flux diverges more than 30%, 27.1% of the time\n",
      "Using 3 and 5m ECs, LH flux diverges more than 30%, 32.5% of the time\n",
      "\n",
      "coupled_times\n",
      "Using 2 and 3m ECs, LH flux diverges more than 10%, 44.7% of the time\n",
      "Using 3 and 5m ECs, LH flux diverges more than 10%, 41.2% of the time\n",
      "Using 2 and 3m ECs, LH flux diverges more than 30%, 23.2% of the time\n",
      "Using 3 and 5m ECs, LH flux diverges more than 30%, 20.3% of the time\n",
      "\n",
      "ri_stable_times\n",
      "Using 2 and 3m ECs, LH flux diverges more than 10%, 43.6% of the time\n",
      "Using 3 and 5m ECs, LH flux diverges more than 10%, 48.1% of the time\n",
      "Using 2 and 3m ECs, LH flux diverges more than 30%, 30.8% of the time\n",
      "Using 3 and 5m ECs, LH flux diverges more than 30%, 38.1% of the time\n",
      "\n",
      "ri_unstable_times\n",
      "Using 2 and 3m ECs, LH flux diverges more than 10%, 48.1% of the time\n",
      "Using 3 and 5m ECs, LH flux diverges more than 10%, 42.2% of the time\n",
      "Using 2 and 3m ECs, LH flux diverges more than 30%, 23.9% of the time\n",
      "Using 3 and 5m ECs, LH flux diverges more than 30%, 18.9% of the time\n",
      "\n",
      "ri_neutral_times\n",
      "Using 2 and 3m ECs, LH flux diverges more than 10%, 40.9% of the time\n",
      "Using 3 and 5m ECs, LH flux diverges more than 10%, 39.3% of the time\n",
      "Using 2 and 3m ECs, LH flux diverges more than 30%, 25.6% of the time\n",
      "Using 3 and 5m ECs, LH flux diverges more than 30%, 24.4% of the time\n",
      "\n",
      "tgrad_stable_times\n",
      "Using 2 and 3m ECs, LH flux diverges more than 10%, 41.5% of the time\n",
      "Using 3 and 5m ECs, LH flux diverges more than 10%, 42.6% of the time\n",
      "Using 2 and 3m ECs, LH flux diverges more than 30%, 27.1% of the time\n",
      "Using 3 and 5m ECs, LH flux diverges more than 30%, 29.6% of the time\n",
      "\n",
      "tgrad_unstable_times\n",
      "Using 2 and 3m ECs, LH flux diverges more than 10%, 53.5% of the time\n",
      "Using 3 and 5m ECs, LH flux diverges more than 10%, 39.9% of the time\n",
      "Using 2 and 3m ECs, LH flux diverges more than 30%, 27.6% of the time\n",
      "Using 3 and 5m ECs, LH flux diverges more than 30%, 16.1% of the time\n",
      "\n",
      "tgrad_neutral_times\n",
      "Using 2 and 3m ECs, LH flux diverges more than 10%, 45.1% of the time\n",
      "Using 3 and 5m ECs, LH flux diverges more than 10%, 40.4% of the time\n",
      "Using 2 and 3m ECs, LH flux diverges more than 30%, 31.0% of the time\n",
      "Using 3 and 5m ECs, LH flux diverges more than 30%, 25.3% of the time\n",
      "\n"
     ]
    }
   ],
   "source": [
    "for name, times in [\n",
    "    (\"bs_times\", bs_times,),\n",
    "    (\"nobs_times\", nobs_times,),\n",
    "    (\"decoupled_times\", decoupled_times,),\n",
    "    (\"weaklycoupled_times\", weaklycoupled_times,),\n",
    "    (\"coupled_times\", coupled_times,),\n",
    "    (\"ri_stable_times\", ri_stable_times,),\n",
    "    (\"ri_unstable_times\", ri_unstable_times,),\n",
    "    (\"ri_neutral_times\", ri_neutral_times,),\n",
    "    (\"tgrad_stable_times\", tgrad_stable_times,),\n",
    "    (\"tgrad_unstable_times\", tgrad_unstable_times,),\n",
    "    (\"tgrad_neutral_times\", tgrad_neutral_times),\n",
    "]:\n",
    "    local_src = src.reset_index()\n",
    "    local_src = local_src[local_src.time.isin(times)]\n",
    "    percent_gt_10_2_3 = len(local_src[local_src[\"percent diff 2 3\"] > 0.1])/len(local_src)\n",
    "    percent_gt_10_3_5 = len(local_src[local_src[\"percent diff 3 5\"] > 0.1])/len(local_src)\n",
    "    percent_gt_30_2_3 = len(local_src[local_src[\"percent diff 2 3\"] > 0.3])/len(local_src)\n",
    "    percent_gt_30_3_5 = len(local_src[local_src[\"percent diff 3 5\"] > 0.3])/len(local_src)\n",
    "    print(name)\n",
    "    print(f\"Using 2 and 3m ECs, LH flux diverges more than 10%, {round(percent_gt_10_2_3*100, 1)}% of the time\")\n",
    "    print(f\"Using 3 and 5m ECs, LH flux diverges more than 10%, {round(percent_gt_10_3_5*100, 1)}% of the time\")\n",
    "    print(f\"Using 2 and 3m ECs, LH flux diverges more than 30%, {round(percent_gt_30_2_3*100, 1)}% of the time\")\n",
    "    print(f\"Using 3 and 5m ECs, LH flux diverges more than 30%, {round(percent_gt_30_3_5*100, 1)}% of the time\")\n",
    "    print()"
   ]
  },
  {
   "cell_type": "markdown",
   "metadata": {},
   "source": [
    "# Define functions for plotting profiles"
   ]
  },
  {
   "cell_type": "code",
   "execution_count": 62,
   "metadata": {},
   "outputs": [],
   "source": [
    "def profile_chart(df, title, x_title):\n",
    "    return (\n",
    "        alt.Chart(df).mark_line().encode(\n",
    "            alt.X(\"mean(value):Q\").sort('-y').title(x_title),\n",
    "            alt.Y(\"height:Q\").scale(zero=True).title(\"height (m)\"),\n",
    "            alt.Color(\"tower:N\")\n",
    "        ).properties(title=[title, f\"(n = {len(df.time.unique())})\"], width=100, height=100)\n",
    "    )\n",
    "\n",
    "def lhflux_profile_chart(df, title):\n",
    "    return (\n",
    "        alt.Chart(df).transform_aggregate(\n",
    "            mean = \"mean(value)\",\n",
    "            groupby=['height', 'tower']\n",
    "        ).transform_calculate(\n",
    "            low_bound = 'datum.mean - 0.2*datum.mean',\n",
    "            up_bound = 'datum.mean + 0.2*datum.mean'\n",
    "        ).mark_area(opacity=0.25).encode(\n",
    "            alt.X(\"low_bound:Q\").title(\"\"),\n",
    "            alt.X2(\"up_bound:Q\"),\n",
    "            alt.Y(\"height:Q\").scale(zero=True).title(\"height (m)\"),\n",
    "            alt.Color(\"tower:N\")\n",
    "        )\n",
    "        +\n",
    "        alt.Chart(df).mark_line().encode(\n",
    "            alt.X(\"mean(value):Q\").sort('-y').title(\"<w'q'> (g/m^2/s)\"),\n",
    "            alt.Y(\"height:Q\").scale(zero=True).title(\"height (m)\"),\n",
    "            alt.Color(\"tower:N\")\n",
    "        ).properties(title=[title, f\"(n = {len(df.time.unique())})\"], width=150, height=150)\n",
    "    )\n",
    "\n",
    "def lhflux_profile_chart_split_conditions(df, title, x_title=\"<w'q'> (g/m^2/s)\"):\n",
    "    n_bs = len(df[df.conditions == 'BS'].time.unique())\n",
    "    n_nobs = len(df[df.conditions == 'No BS'].time.unique())\n",
    "    return (\n",
    "        alt.Chart(df).transform_aggregate(\n",
    "            mean = \"mean(value)\",\n",
    "            groupby=['height', 'tower', 'conditions']\n",
    "        ).transform_calculate(\n",
    "            low_bound = 'datum.mean - 0.2*datum.mean',\n",
    "            up_bound = 'datum.mean + 0.2*datum.mean'\n",
    "        ).mark_area(opacity=0.25).encode(\n",
    "            alt.X(\"low_bound:Q\").title(\"\"),\n",
    "            alt.X2(\"up_bound:Q\"),\n",
    "            alt.Y(\"height:Q\").scale(zero=True),\n",
    "            alt.Color(f\"conditions:N\")\n",
    "        )\n",
    "        +\n",
    "        alt.Chart(df).mark_line(point=True).encode(\n",
    "            alt.X(\"mean(value):Q\").sort('-y').title(x_title),\n",
    "            alt.Y(\"height:Q\").scale(zero=True),\n",
    "            alt.Color(f\"conditions:N\")\n",
    "        ).properties(title=[title, f\"(n = {n_bs} BS, {n_nobs} No BS)\"], width=150, height=150)\n",
    "    )\n",
    "\n",
    "def lhflux_profile_chart_notower(df, title, x_title=\"<w'q'> (g/m^2/s)\"):\n",
    "    return (\n",
    "        alt.Chart(df).transform_aggregate(\n",
    "            mean = \"mean(value)\",\n",
    "            groupby=['height', 'tower']\n",
    "        ).transform_calculate(\n",
    "            low_bound = 'datum.mean - 0.2*datum.mean',\n",
    "            up_bound = 'datum.mean + 0.2*datum.mean'\n",
    "        ).mark_area(opacity=0.2, color='black').encode(\n",
    "            alt.X(\"low_bound:Q\").title(\"\"),\n",
    "            alt.X2(\"up_bound:Q\"),\n",
    "            alt.Y(\"height:Q\").scale(zero=True),\n",
    "        )\n",
    "        +\n",
    "        alt.Chart(df).mark_line(point=alt.OverlayMarkDef(color='black'), color='black').encode(\n",
    "            alt.X(\"mean(value):Q\").sort('-y').title(x_title),\n",
    "            alt.Y(\"height:Q\").scale(zero=True),\n",
    "        ).properties(title=[title, f\"(n = {len(df.time.unique())})\"], width=150, height=150)\n",
    "    )\n",
    "\n",
    "def lhflux_profile_chart_mg(df, title):\n",
    "    df.value = df.value*1000\n",
    "    return (\n",
    "        alt.Chart(df).transform_aggregate(\n",
    "            mean = \"mean(value)\",\n",
    "            groupby=['height', 'tower']\n",
    "        ).transform_calculate(\n",
    "            low_bound = 'datum.mean - 0.2*datum.mean',\n",
    "            up_bound = 'datum.mean + 0.2*datum.mean'\n",
    "        ).mark_area(opacity=0.25).encode(\n",
    "            alt.X(\"low_bound:Q\").title(\"\"),\n",
    "            alt.X2(\"up_bound:Q\"),\n",
    "            alt.Y(\"height:Q\").scale(zero=True).title(\"height (m)\"),\n",
    "            alt.Color(\"tower:N\")\n",
    "        )\n",
    "        +\n",
    "        alt.Chart(df).mark_line(point=True).encode(\n",
    "            alt.X(\"mean(value):Q\").sort('-y').title(\"<w'q'> (mg/m^2/s)\"),\n",
    "            alt.Y(\"height:Q\").scale(zero=True).title(\"height (m)\"),\n",
    "            alt.Color(\"tower:N\")\n",
    "        ).properties(title=[title, f\"(n = {len(df.time.unique())})\"], width=150, height=150)\n",
    "    )\n",
    "\n",
    "\n",
    "def profile_chart(df, title, x_title, color=\"tower:N\"):\n",
    "    return (\n",
    "        alt.Chart(df).transform_aggregate(\n",
    "            mean = \"mean(value)\",\n",
    "            groupby=['height', 'tower']\n",
    "        ).transform_calculate(\n",
    "            low_bound = 'datum.mean - 0.2*datum.mean',\n",
    "            up_bound = 'datum.mean + 0.2*datum.mean'\n",
    "        ).mark_area(opacity=0.25).encode(\n",
    "            alt.X(\"low_bound:Q\").title(\"\"),\n",
    "            alt.X2(\"up_bound:Q\"),\n",
    "            alt.Y(\"height:Q\").scale(zero=True).title(\"height (m)\"),\n",
    "            alt.Color(\"tower:N\")\n",
    "        )\n",
    "        +\n",
    "        alt.Chart(df).mark_line().encode(\n",
    "            alt.X(\"mean(value):Q\").sort('-y').title(x_title),\n",
    "            alt.Y(\"height:Q\").scale(zero=True).title(\"height (m)\"),\n",
    "            alt.Color(color)\n",
    "        ).properties(title=[title, f\"(n = {len(df.time.unique())})\"], width=150, height=150)\n",
    "    )"
   ]
  },
  {
   "cell_type": "markdown",
   "metadata": {},
   "source": [
    "# Plot vertical profiles using the basic categories (stability and BS)"
   ]
  },
  {
   "cell_type": "code",
   "execution_count": 73,
   "metadata": {},
   "outputs": [],
   "source": [
    "combo_mean_w_profile_chart = (\n",
    "        profile_chart(w_measurements_df.query(\"height > 1\"), \"All data\", '<w> (m/s)') | \n",
    "        profile_chart(bs_w_df.query(\"height > 1\"), \"BS\", '<w> (m/s)') | \n",
    "        profile_chart(nobs_w_df.query(\"height > 1\"), \"No BS\", '<w> (m/s)') |         \n",
    "        profile_chart(tgrad_stable_w_df.query(\"height > 1\"), \"Tgrad stable\", '<w> (m/s)') | \n",
    "        profile_chart(tgrad_neutral_w_df.query(\"height > 1\"), \"Tgrad Neutral\", '<w> (m/s)') | \n",
    "        profile_chart(tgrad_unstable_w_df.query(\"height > 1\"), \"Tgrad Unstable\", '<w> (m/s)') #| \n",
    "        # profile_chart(ri_stable_w_df.query(\"height > 1\"), \"Ri Stable\", '<w> (m/s)') | \n",
    "        # profile_chart(ri_neutral_w_df.query(\"height > 1\"), \"Ri Neutral\", '<w> (m/s)') | \n",
    "        # profile_chart(ri_unstable_w_df.query(\"height > 1\"), \"Ri Unstable\", '<w> (m/s)') | \n",
    "        # profile_chart(decoupled_w_df.query(\"height > 1\"), \"Decoupled\", '<w> (m/s)') | \n",
    "        # profile_chart(weaklycoupled_w_df.query(\"height > 1\"), \"Weakly coupled\", '<w> (m/s)') | \n",
    "        # profile_chart(coupled_w_df.query(\"height > 1\"), \"Coupled\", '<w> (m/s)')\n",
    ").resolve_scale(x='shared', y='shared')\n",
    "\n",
    "combo_mean_tke_profile_chart = (\n",
    "        profile_chart(tke_measurements_df.query(\"height > 1\"), \"All data\", 'tke (m^2/s^2)') | \n",
    "        profile_chart(bs_tke_df.query(\"height > 1\"), \"BS\", 'tke (m^2/s^2)') | \n",
    "        profile_chart(nobs_tke_df.query(\"height > 1\"), \"No BS\", 'tke (m^2/s^2)') |         \n",
    "        profile_chart(tgrad_stable_tke_df.query(\"height > 1\"), \"Tgrad stable\", 'tke (m^2/s^2)') | \n",
    "        profile_chart(tgrad_neutral_tke_df.query(\"height > 1\"), \"Tgrad Neutral\", 'tke (m^2/s^2)') | \n",
    "        profile_chart(tgrad_unstable_tke_df.query(\"height > 1\"), \"Tgrad Unstable\", 'tke (m^2/s^2)') #| \n",
    "        # profile_chart(ri_stable_tke_df.query(\"height > 1\"), \"Ri Stable\", 'tke (m^2/s^2)') | \n",
    "        # profile_chart(ri_neutral_tke_df.query(\"height > 1\"), \"Ri Neutral\", 'tke (m^2/s^2)') | \n",
    "        # profile_chart(ri_unstable_tke_df.query(\"height > 1\"), \"Ri Unstable\", 'tke (m^2/s^2)') | \n",
    "        # profile_chart(decoupled_tke_df.query(\"height > 1\"), \"Decoupled\", 'tke (m^2/s^2)') | \n",
    "        # profile_chart(weaklycoupled_tke_df.query(\"height > 1\"), \"Weakly coupled\", 'tke (m^2/s^2)') | \n",
    "        # profile_chart(coupled_tke_df.query(\"height > 1\"), \"Coupled\", 'tke (m^2/s^2)')\n",
    ").resolve_scale(x='shared', y='shared')\n",
    "\n",
    "combo_mean_w_w__profile_chart = (\n",
    "        profile_chart(w_w__measurements_df.query(\"height > 1\"), \"All data\", \"<w'w'> (m^2/s^2)\") | \n",
    "        profile_chart(bs_w_w__df.query(\"height > 1\"), \"BS\", \"<w'w'> (m^2/s^2)\") | \n",
    "        profile_chart(nobs_w_w__df.query(\"height > 1\"), \"No BS\", \"<w'w'> (m^2/s^2)\") |\n",
    "        profile_chart(tgrad_stable_w_w__df.query(\"height > 1\"), \"Tgrad stable\", \"<w'w'> (m^2/s^2)\") | \n",
    "        profile_chart(tgrad_neutral_w_w__df.query(\"height > 1\"), \"Tgrad Neutral\", \"<w'w'> (m^2/s^2)\") | \n",
    "        profile_chart(tgrad_unstable_w_w__df.query(\"height > 1\"), \"Tgrad Unstable\", \"<w'w'> (m^2/s^2)\") #| \n",
    "        # profile_chart(ri_stable_w_w__df.query(\"height > 1\"), \"Ri Stable\", \"<w'w'> (m^2/s^2)\") | \n",
    "        # profile_chart(ri_neutral_w_w__df.query(\"height > 1\"), \"Ri Neutral\", \"<w'w'> (m^2/s^2)\") | \n",
    "        # profile_chart(ri_unstable_w_w__df.query(\"height > 1\"), \"Ri Unstable\", \"<w'w'> (m^2/s^2)\") | \n",
    "        # profile_chart(decoupled_w_w__df.query(\"height > 1\"), \"Decoupled\", \"<w'w'> (m^2/s^2)\") | \n",
    "        # profile_chart(weaklycoupled_w_w__df.query(\"height > 1\"), \"Weakly coupled\", \"<w'w'> (m^2/s^2)\") | \n",
    "        # profile_chart(coupled_w_w__df.query(\"height > 1\"), \"Coupled\", \"<w'w'> (m^2/s^2)\")\n",
    ").resolve_scale(x='shared', y='shared')\n",
    "\n",
    "combo_mean_q_profile_chart = (\n",
    "        profile_chart(q_measurements_df.query(\"height > 1\"), \"All data\", '<q> (m/s)') | \n",
    "        profile_chart(bs_q_df.query(\"height > 1\"), \"BS\", '<q> (m/s)') | \n",
    "        profile_chart(nobs_q_df.query(\"height > 1\"), \"No BS\", '<q> (m/s)') |         \n",
    "        profile_chart(tgrad_stable_q_df.query(\"height > 1\"), \"Tgrad stable\", '<q> (m/s)') | \n",
    "        profile_chart(tgrad_neutral_q_df.query(\"height > 1\"), \"Tgrad Neutral\", '<q> (m/s)') | \n",
    "        profile_chart(tgrad_unstable_q_df.query(\"height > 1\"), \"Tgrad Unstable\", '<q> (m/s)') #| \n",
    "        # profile_chart(ri_stable_q_df.query(\"height > 1\"), \"Ri Stable\", '<q> (m/s)') | \n",
    "        # profile_chart(ri_neutral_q_df.query(\"height > 1\"), \"Ri Neutral\", '<q> (m/s)') | \n",
    "        # profile_chart(ri_unstable_q_df.query(\"height > 1\"), \"Ri Unstable\", '<q> (m/s)') | \n",
    "        # profile_chart(decoupled_q_df.query(\"height > 1\"), \"Decoupled\", '<q> (m/s)') | \n",
    "        # profile_chart(weaklycoupled_q_df.query(\"height > 1\"), \"Weakly coupled\", '<q> (m/s)') | \n",
    "        # profile_chart(coupled_q_df.query(\"height > 1\"), \"Coupled\", '<q> (m/s)')\n",
    ").resolve_scale(x='shared', y='shared')\n",
    "\n",
    "combo_mean_w_q__profile_chart = (\n",
    "    lhflux_profile_chart(lhflux_measurements_df.query(\"tower == 'c'\").query(\"height > 1\"), \"All data\") | \n",
    "    lhflux_profile_chart(bs_lhflux_df.query(\"tower == 'c'\").query(\"height > 1\"), \"BS\") | \n",
    "    lhflux_profile_chart(nobs_lhflux_df.query(\"tower == 'c'\").query(\"height > 1\"), \"No BS\") | \n",
    "    lhflux_profile_chart(tgrad_stable_df.query(\"tower == 'c'\").query(\"height > 1\"), \"Tgrad stable\") | \n",
    "    lhflux_profile_chart(tgrad_neutral_df.query(\"tower == 'c'\").query(\"height > 1\"), \"Tgrad Neutral\") | \n",
    "    lhflux_profile_chart(tgrad_unstable_df.query(\"tower == 'c'\").query(\"height > 1\"), \"Tgrad Unstable\") #|\n",
    "#     lhflux_profile_chart(ri_stable_df.query(\"tower == 'c'\").query(\"height > 1\"), \"Ri Stable\") | \n",
    "#     lhflux_profile_chart(ri_neutral_df.query(\"tower == 'c'\").query(\"height > 1\"), \"Ri Neutral\") | \n",
    "#     lhflux_profile_chart(ri_unstable_df.query(\"tower == 'c'\").query(\"height > 1\"), \"Ri Unstable\") | \n",
    "#     lhflux_profile_chart(decoupled_df.query(\"tower == 'c'\").query(\"height > 1\"), \"Decoupled\") | \n",
    "#     lhflux_profile_chart(weaklycoupled_df.query(\"tower == 'c'\").query(\"height > 1\"), \"Weakly coupled\") | \n",
    "#     lhflux_profile_chart(coupled_df.query(\"tower == 'c'\").query(\"height > 1\"), \"Coupled\")\n",
    ").resolve_scale(x='shared', y='shared')\n",
    "\n",
    "combo_mean_u_q__profile_chart = (\n",
    "    profile_chart(lateral_lhflux_measurements_df.query(\"height > 1\"),  \"All data\",         \"<u'q'> (g/m^2/s)\") | \n",
    "    profile_chart(bs_lateralflux_df.query(\"height > 1\"),               \"BS\",               \"<u'q'> (g/m^2/s)\") | \n",
    "    profile_chart(nobs_lateralflux_df.query(\"height > 1\"),             \"No BS\",            \"<u'q'> (g/m^2/s)\") | \n",
    "    profile_chart(tgrad_stable_lateralflux_df.query(\"height > 1\"),     \"Tgrad stable\",     \"<u'q'> (g/m^2/s)\") | \n",
    "    profile_chart(tgrad_neutral_lateralflux_df.query(\"height > 1\"),    \"Tgrad Neutral\",    \"<u'q'> (g/m^2/s)\") | \n",
    "    profile_chart(tgrad_unstable_lateralflux_df.query(\"height > 1\"),   \"Tgrad Unstable\",   \"<u'q'> (g/m^2/s)\") #|\n",
    "#     profile_chart(ri_stable_lateralflux_df.query(\"height > 1\"),        \"Ri Stable\",        \"<u'q'> (g/m^2/s)\") | \n",
    "#     profile_chart(ri_neutral_lateralflux_df.query(\"height > 1\"),       \"Ri Neutral\",       \"<u'q'> (g/m^2/s)\") | \n",
    "#     profile_chart(ri_unstable_lateralflux_df.query(\"height > 1\"),      \"Ri Unstable\",      \"<u'q'> (g/m^2/s)\") | \n",
    "#     profile_chart(decoupled_lateralflux_df.query(\"height > 1\"),        \"Decoupled\",        \"<u'q'> (g/m^2/s)\") | \n",
    "#     profile_chart(weaklycoupled_lateralflux_df.query(\"height > 1\"),    \"Weakly coupled\",   \"<u'q'> (g/m^2/s)\") | \n",
    "#     profile_chart(coupled_lateralflux_df.query(\"height > 1\"),          \"Coupled\",          \"<u'q'> (g/m^2/s)\")\n",
    ").resolve_scale(x='shared', y='shared')"
   ]
  },
  {
   "cell_type": "code",
   "execution_count": 75,
   "metadata": {},
   "outputs": [
    {
     "data": {
      "application/vnd.vegalite.v5+json": {
       "$schema": "https://vega.github.io/schema/vega-lite/v5.17.0.json",
       "config": {
        "view": {
         "continuousHeight": 300,
         "continuousWidth": 300
        }
       },
       "vconcat": [
        {
         "hconcat": [
          {
           "data": {
            "format": {
             "type": "json"
            },
            "url": "altair-data-7742cda315640a64bca6bfd58aac4f51.json"
           },
           "height": 150,
           "layer": [
            {
             "encoding": {
              "color": {
               "field": "tower",
               "type": "nominal"
              },
              "x": {
               "field": "low_bound",
               "title": "",
               "type": "quantitative"
              },
              "x2": {
               "field": "up_bound"
              },
              "y": {
               "field": "height",
               "scale": {
                "zero": true
               },
               "title": "height (m)",
               "type": "quantitative"
              }
             },
             "mark": {
              "opacity": 0.25,
              "type": "area"
             },
             "transform": [
              {
               "aggregate": [
                {
                 "as": "mean",
                 "field": "value",
                 "op": "mean"
                }
               ],
               "groupby": [
                "height",
                "tower"
               ]
              },
              {
               "as": "low_bound",
               "calculate": "datum.mean - 0.2*datum.mean"
              },
              {
               "as": "up_bound",
               "calculate": "datum.mean + 0.2*datum.mean"
              }
             ]
            },
            {
             "encoding": {
              "color": {
               "field": "tower",
               "type": "nominal"
              },
              "x": {
               "aggregate": "mean",
               "field": "value",
               "sort": "-y",
               "title": "<w'q'> (g/m^2/s)",
               "type": "quantitative"
              },
              "y": {
               "field": "height",
               "scale": {
                "zero": true
               },
               "title": "height (m)",
               "type": "quantitative"
              }
             },
             "mark": {
              "type": "line"
             },
             "title": [
              "All data",
              "(n = 7714)"
             ]
            }
           ],
           "width": 150
          },
          {
           "data": {
            "format": {
             "type": "json"
            },
            "url": "altair-data-5aa966f6bb0db062b29a1e0498f2cc0e.json"
           },
           "height": 150,
           "layer": [
            {
             "encoding": {
              "color": {
               "field": "tower",
               "type": "nominal"
              },
              "x": {
               "field": "low_bound",
               "title": "",
               "type": "quantitative"
              },
              "x2": {
               "field": "up_bound"
              },
              "y": {
               "field": "height",
               "scale": {
                "zero": true
               },
               "title": "height (m)",
               "type": "quantitative"
              }
             },
             "mark": {
              "opacity": 0.25,
              "type": "area"
             },
             "transform": [
              {
               "aggregate": [
                {
                 "as": "mean",
                 "field": "value",
                 "op": "mean"
                }
               ],
               "groupby": [
                "height",
                "tower"
               ]
              },
              {
               "as": "low_bound",
               "calculate": "datum.mean - 0.2*datum.mean"
              },
              {
               "as": "up_bound",
               "calculate": "datum.mean + 0.2*datum.mean"
              }
             ]
            },
            {
             "encoding": {
              "color": {
               "field": "tower",
               "type": "nominal"
              },
              "x": {
               "aggregate": "mean",
               "field": "value",
               "sort": "-y",
               "title": "<w'q'> (g/m^2/s)",
               "type": "quantitative"
              },
              "y": {
               "field": "height",
               "scale": {
                "zero": true
               },
               "title": "height (m)",
               "type": "quantitative"
              }
             },
             "mark": {
              "type": "line"
             },
             "title": [
              "BS",
              "(n = 1694)"
             ]
            }
           ],
           "width": 150
          },
          {
           "data": {
            "format": {
             "type": "json"
            },
            "url": "altair-data-6ba6c82fc8e56230f7c3fd45d417c0e6.json"
           },
           "height": 150,
           "layer": [
            {
             "encoding": {
              "color": {
               "field": "tower",
               "type": "nominal"
              },
              "x": {
               "field": "low_bound",
               "title": "",
               "type": "quantitative"
              },
              "x2": {
               "field": "up_bound"
              },
              "y": {
               "field": "height",
               "scale": {
                "zero": true
               },
               "title": "height (m)",
               "type": "quantitative"
              }
             },
             "mark": {
              "opacity": 0.25,
              "type": "area"
             },
             "transform": [
              {
               "aggregate": [
                {
                 "as": "mean",
                 "field": "value",
                 "op": "mean"
                }
               ],
               "groupby": [
                "height",
                "tower"
               ]
              },
              {
               "as": "low_bound",
               "calculate": "datum.mean - 0.2*datum.mean"
              },
              {
               "as": "up_bound",
               "calculate": "datum.mean + 0.2*datum.mean"
              }
             ]
            },
            {
             "encoding": {
              "color": {
               "field": "tower",
               "type": "nominal"
              },
              "x": {
               "aggregate": "mean",
               "field": "value",
               "sort": "-y",
               "title": "<w'q'> (g/m^2/s)",
               "type": "quantitative"
              },
              "y": {
               "field": "height",
               "scale": {
                "zero": true
               },
               "title": "height (m)",
               "type": "quantitative"
              }
             },
             "mark": {
              "type": "line"
             },
             "title": [
              "No BS",
              "(n = 5998)"
             ]
            }
           ],
           "width": 150
          },
          {
           "data": {
            "format": {
             "type": "json"
            },
            "url": "altair-data-4fb39743a0226315a223dbbb010e3238.json"
           },
           "height": 150,
           "layer": [
            {
             "encoding": {
              "color": {
               "field": "tower",
               "type": "nominal"
              },
              "x": {
               "field": "low_bound",
               "title": "",
               "type": "quantitative"
              },
              "x2": {
               "field": "up_bound"
              },
              "y": {
               "field": "height",
               "scale": {
                "zero": true
               },
               "title": "height (m)",
               "type": "quantitative"
              }
             },
             "mark": {
              "opacity": 0.25,
              "type": "area"
             },
             "transform": [
              {
               "aggregate": [
                {
                 "as": "mean",
                 "field": "value",
                 "op": "mean"
                }
               ],
               "groupby": [
                "height",
                "tower"
               ]
              },
              {
               "as": "low_bound",
               "calculate": "datum.mean - 0.2*datum.mean"
              },
              {
               "as": "up_bound",
               "calculate": "datum.mean + 0.2*datum.mean"
              }
             ]
            },
            {
             "encoding": {
              "color": {
               "field": "tower",
               "type": "nominal"
              },
              "x": {
               "aggregate": "mean",
               "field": "value",
               "sort": "-y",
               "title": "<w'q'> (g/m^2/s)",
               "type": "quantitative"
              },
              "y": {
               "field": "height",
               "scale": {
                "zero": true
               },
               "title": "height (m)",
               "type": "quantitative"
              }
             },
             "mark": {
              "type": "line"
             },
             "title": [
              "Tgrad stable",
              "(n = 6843)"
             ]
            }
           ],
           "width": 150
          },
          {
           "data": {
            "format": {
             "type": "json"
            },
            "url": "altair-data-c5541de5b83d1801d3d322685b1c6215.json"
           },
           "height": 150,
           "layer": [
            {
             "encoding": {
              "color": {
               "field": "tower",
               "type": "nominal"
              },
              "x": {
               "field": "low_bound",
               "title": "",
               "type": "quantitative"
              },
              "x2": {
               "field": "up_bound"
              },
              "y": {
               "field": "height",
               "scale": {
                "zero": true
               },
               "title": "height (m)",
               "type": "quantitative"
              }
             },
             "mark": {
              "opacity": 0.25,
              "type": "area"
             },
             "transform": [
              {
               "aggregate": [
                {
                 "as": "mean",
                 "field": "value",
                 "op": "mean"
                }
               ],
               "groupby": [
                "height",
                "tower"
               ]
              },
              {
               "as": "low_bound",
               "calculate": "datum.mean - 0.2*datum.mean"
              },
              {
               "as": "up_bound",
               "calculate": "datum.mean + 0.2*datum.mean"
              }
             ]
            },
            {
             "encoding": {
              "color": {
               "field": "tower",
               "type": "nominal"
              },
              "x": {
               "aggregate": "mean",
               "field": "value",
               "sort": "-y",
               "title": "<w'q'> (g/m^2/s)",
               "type": "quantitative"
              },
              "y": {
               "field": "height",
               "scale": {
                "zero": true
               },
               "title": "height (m)",
               "type": "quantitative"
              }
             },
             "mark": {
              "type": "line"
             },
             "title": [
              "Tgrad Neutral",
              "(n = 565)"
             ]
            }
           ],
           "width": 150
          },
          {
           "data": {
            "format": {
             "type": "json"
            },
            "url": "altair-data-d04ad4338ca42c165af35e0a84b2ce5f.json"
           },
           "height": 150,
           "layer": [
            {
             "encoding": {
              "color": {
               "field": "tower",
               "type": "nominal"
              },
              "x": {
               "field": "low_bound",
               "title": "",
               "type": "quantitative"
              },
              "x2": {
               "field": "up_bound"
              },
              "y": {
               "field": "height",
               "scale": {
                "zero": true
               },
               "title": "height (m)",
               "type": "quantitative"
              }
             },
             "mark": {
              "opacity": 0.25,
              "type": "area"
             },
             "transform": [
              {
               "aggregate": [
                {
                 "as": "mean",
                 "field": "value",
                 "op": "mean"
                }
               ],
               "groupby": [
                "height",
                "tower"
               ]
              },
              {
               "as": "low_bound",
               "calculate": "datum.mean - 0.2*datum.mean"
              },
              {
               "as": "up_bound",
               "calculate": "datum.mean + 0.2*datum.mean"
              }
             ]
            },
            {
             "encoding": {
              "color": {
               "field": "tower",
               "type": "nominal"
              },
              "x": {
               "aggregate": "mean",
               "field": "value",
               "sort": "-y",
               "title": "<w'q'> (g/m^2/s)",
               "type": "quantitative"
              },
              "y": {
               "field": "height",
               "scale": {
                "zero": true
               },
               "title": "height (m)",
               "type": "quantitative"
              }
             },
             "mark": {
              "type": "line"
             },
             "title": [
              "Tgrad Unstable",
              "(n = 286)"
             ]
            }
           ],
           "width": 150
          }
         ],
         "resolve": {
          "scale": {
           "x": "shared",
           "y": "shared"
          }
         }
        },
        {
         "hconcat": [
          {
           "data": {
            "format": {
             "type": "json"
            },
            "url": "altair-data-f65db18f6cc1f1cabcce98dc4908457d.json"
           },
           "height": 150,
           "layer": [
            {
             "encoding": {
              "color": {
               "field": "tower",
               "type": "nominal"
              },
              "x": {
               "field": "low_bound",
               "title": "",
               "type": "quantitative"
              },
              "x2": {
               "field": "up_bound"
              },
              "y": {
               "field": "height",
               "scale": {
                "zero": true
               },
               "title": "height (m)",
               "type": "quantitative"
              }
             },
             "mark": {
              "opacity": 0.25,
              "type": "area"
             },
             "transform": [
              {
               "aggregate": [
                {
                 "as": "mean",
                 "field": "value",
                 "op": "mean"
                }
               ],
               "groupby": [
                "height",
                "tower"
               ]
              },
              {
               "as": "low_bound",
               "calculate": "datum.mean - 0.2*datum.mean"
              },
              {
               "as": "up_bound",
               "calculate": "datum.mean + 0.2*datum.mean"
              }
             ]
            },
            {
             "encoding": {
              "color": {
               "field": "tower",
               "type": "nominal"
              },
              "x": {
               "aggregate": "mean",
               "field": "value",
               "sort": "-y",
               "title": "<w> (m/s)",
               "type": "quantitative"
              },
              "y": {
               "field": "height",
               "scale": {
                "zero": true
               },
               "title": "height (m)",
               "type": "quantitative"
              }
             },
             "mark": {
              "type": "line"
             },
             "title": [
              "All data",
              "(n = 7714)"
             ]
            }
           ],
           "width": 150
          },
          {
           "data": {
            "format": {
             "type": "json"
            },
            "url": "altair-data-ab1f60d85dc39bb086c34bc11416c467.json"
           },
           "height": 150,
           "layer": [
            {
             "encoding": {
              "color": {
               "field": "tower",
               "type": "nominal"
              },
              "x": {
               "field": "low_bound",
               "title": "",
               "type": "quantitative"
              },
              "x2": {
               "field": "up_bound"
              },
              "y": {
               "field": "height",
               "scale": {
                "zero": true
               },
               "title": "height (m)",
               "type": "quantitative"
              }
             },
             "mark": {
              "opacity": 0.25,
              "type": "area"
             },
             "transform": [
              {
               "aggregate": [
                {
                 "as": "mean",
                 "field": "value",
                 "op": "mean"
                }
               ],
               "groupby": [
                "height",
                "tower"
               ]
              },
              {
               "as": "low_bound",
               "calculate": "datum.mean - 0.2*datum.mean"
              },
              {
               "as": "up_bound",
               "calculate": "datum.mean + 0.2*datum.mean"
              }
             ]
            },
            {
             "encoding": {
              "color": {
               "field": "tower",
               "type": "nominal"
              },
              "x": {
               "aggregate": "mean",
               "field": "value",
               "sort": "-y",
               "title": "<w> (m/s)",
               "type": "quantitative"
              },
              "y": {
               "field": "height",
               "scale": {
                "zero": true
               },
               "title": "height (m)",
               "type": "quantitative"
              }
             },
             "mark": {
              "type": "line"
             },
             "title": [
              "BS",
              "(n = 1694)"
             ]
            }
           ],
           "width": 150
          },
          {
           "data": {
            "format": {
             "type": "json"
            },
            "url": "altair-data-b70016f1b9dd2a19d0260c6d77fad185.json"
           },
           "height": 150,
           "layer": [
            {
             "encoding": {
              "color": {
               "field": "tower",
               "type": "nominal"
              },
              "x": {
               "field": "low_bound",
               "title": "",
               "type": "quantitative"
              },
              "x2": {
               "field": "up_bound"
              },
              "y": {
               "field": "height",
               "scale": {
                "zero": true
               },
               "title": "height (m)",
               "type": "quantitative"
              }
             },
             "mark": {
              "opacity": 0.25,
              "type": "area"
             },
             "transform": [
              {
               "aggregate": [
                {
                 "as": "mean",
                 "field": "value",
                 "op": "mean"
                }
               ],
               "groupby": [
                "height",
                "tower"
               ]
              },
              {
               "as": "low_bound",
               "calculate": "datum.mean - 0.2*datum.mean"
              },
              {
               "as": "up_bound",
               "calculate": "datum.mean + 0.2*datum.mean"
              }
             ]
            },
            {
             "encoding": {
              "color": {
               "field": "tower",
               "type": "nominal"
              },
              "x": {
               "aggregate": "mean",
               "field": "value",
               "sort": "-y",
               "title": "<w> (m/s)",
               "type": "quantitative"
              },
              "y": {
               "field": "height",
               "scale": {
                "zero": true
               },
               "title": "height (m)",
               "type": "quantitative"
              }
             },
             "mark": {
              "type": "line"
             },
             "title": [
              "No BS",
              "(n = 5998)"
             ]
            }
           ],
           "width": 150
          },
          {
           "data": {
            "format": {
             "type": "json"
            },
            "url": "altair-data-d59044c8f081818d7f4462e0c1a9f7e7.json"
           },
           "height": 150,
           "layer": [
            {
             "encoding": {
              "color": {
               "field": "tower",
               "type": "nominal"
              },
              "x": {
               "field": "low_bound",
               "title": "",
               "type": "quantitative"
              },
              "x2": {
               "field": "up_bound"
              },
              "y": {
               "field": "height",
               "scale": {
                "zero": true
               },
               "title": "height (m)",
               "type": "quantitative"
              }
             },
             "mark": {
              "opacity": 0.25,
              "type": "area"
             },
             "transform": [
              {
               "aggregate": [
                {
                 "as": "mean",
                 "field": "value",
                 "op": "mean"
                }
               ],
               "groupby": [
                "height",
                "tower"
               ]
              },
              {
               "as": "low_bound",
               "calculate": "datum.mean - 0.2*datum.mean"
              },
              {
               "as": "up_bound",
               "calculate": "datum.mean + 0.2*datum.mean"
              }
             ]
            },
            {
             "encoding": {
              "color": {
               "field": "tower",
               "type": "nominal"
              },
              "x": {
               "aggregate": "mean",
               "field": "value",
               "sort": "-y",
               "title": "<w> (m/s)",
               "type": "quantitative"
              },
              "y": {
               "field": "height",
               "scale": {
                "zero": true
               },
               "title": "height (m)",
               "type": "quantitative"
              }
             },
             "mark": {
              "type": "line"
             },
             "title": [
              "Tgrad stable",
              "(n = 6843)"
             ]
            }
           ],
           "width": 150
          },
          {
           "data": {
            "format": {
             "type": "json"
            },
            "url": "altair-data-6d40408a248ad5a2fe9343a32c2c4cd2.json"
           },
           "height": 150,
           "layer": [
            {
             "encoding": {
              "color": {
               "field": "tower",
               "type": "nominal"
              },
              "x": {
               "field": "low_bound",
               "title": "",
               "type": "quantitative"
              },
              "x2": {
               "field": "up_bound"
              },
              "y": {
               "field": "height",
               "scale": {
                "zero": true
               },
               "title": "height (m)",
               "type": "quantitative"
              }
             },
             "mark": {
              "opacity": 0.25,
              "type": "area"
             },
             "transform": [
              {
               "aggregate": [
                {
                 "as": "mean",
                 "field": "value",
                 "op": "mean"
                }
               ],
               "groupby": [
                "height",
                "tower"
               ]
              },
              {
               "as": "low_bound",
               "calculate": "datum.mean - 0.2*datum.mean"
              },
              {
               "as": "up_bound",
               "calculate": "datum.mean + 0.2*datum.mean"
              }
             ]
            },
            {
             "encoding": {
              "color": {
               "field": "tower",
               "type": "nominal"
              },
              "x": {
               "aggregate": "mean",
               "field": "value",
               "sort": "-y",
               "title": "<w> (m/s)",
               "type": "quantitative"
              },
              "y": {
               "field": "height",
               "scale": {
                "zero": true
               },
               "title": "height (m)",
               "type": "quantitative"
              }
             },
             "mark": {
              "type": "line"
             },
             "title": [
              "Tgrad Neutral",
              "(n = 565)"
             ]
            }
           ],
           "width": 150
          },
          {
           "data": {
            "format": {
             "type": "json"
            },
            "url": "altair-data-8dd116246020556867f8a548573bcd57.json"
           },
           "height": 150,
           "layer": [
            {
             "encoding": {
              "color": {
               "field": "tower",
               "type": "nominal"
              },
              "x": {
               "field": "low_bound",
               "title": "",
               "type": "quantitative"
              },
              "x2": {
               "field": "up_bound"
              },
              "y": {
               "field": "height",
               "scale": {
                "zero": true
               },
               "title": "height (m)",
               "type": "quantitative"
              }
             },
             "mark": {
              "opacity": 0.25,
              "type": "area"
             },
             "transform": [
              {
               "aggregate": [
                {
                 "as": "mean",
                 "field": "value",
                 "op": "mean"
                }
               ],
               "groupby": [
                "height",
                "tower"
               ]
              },
              {
               "as": "low_bound",
               "calculate": "datum.mean - 0.2*datum.mean"
              },
              {
               "as": "up_bound",
               "calculate": "datum.mean + 0.2*datum.mean"
              }
             ]
            },
            {
             "encoding": {
              "color": {
               "field": "tower",
               "type": "nominal"
              },
              "x": {
               "aggregate": "mean",
               "field": "value",
               "sort": "-y",
               "title": "<w> (m/s)",
               "type": "quantitative"
              },
              "y": {
               "field": "height",
               "scale": {
                "zero": true
               },
               "title": "height (m)",
               "type": "quantitative"
              }
             },
             "mark": {
              "type": "line"
             },
             "title": [
              "Tgrad Unstable",
              "(n = 286)"
             ]
            }
           ],
           "width": 150
          }
         ],
         "resolve": {
          "scale": {
           "x": "shared",
           "y": "shared"
          }
         }
        },
        {
         "hconcat": [
          {
           "data": {
            "format": {
             "type": "json"
            },
            "url": "altair-data-0a95adb425bc5b870e90405785499247.json"
           },
           "height": 150,
           "layer": [
            {
             "encoding": {
              "color": {
               "field": "tower",
               "type": "nominal"
              },
              "x": {
               "field": "low_bound",
               "title": "",
               "type": "quantitative"
              },
              "x2": {
               "field": "up_bound"
              },
              "y": {
               "field": "height",
               "scale": {
                "zero": true
               },
               "title": "height (m)",
               "type": "quantitative"
              }
             },
             "mark": {
              "opacity": 0.25,
              "type": "area"
             },
             "transform": [
              {
               "aggregate": [
                {
                 "as": "mean",
                 "field": "value",
                 "op": "mean"
                }
               ],
               "groupby": [
                "height",
                "tower"
               ]
              },
              {
               "as": "low_bound",
               "calculate": "datum.mean - 0.2*datum.mean"
              },
              {
               "as": "up_bound",
               "calculate": "datum.mean + 0.2*datum.mean"
              }
             ]
            },
            {
             "encoding": {
              "color": {
               "field": "tower",
               "type": "nominal"
              },
              "x": {
               "aggregate": "mean",
               "field": "value",
               "sort": "-y",
               "title": "<q> (m/s)",
               "type": "quantitative"
              },
              "y": {
               "field": "height",
               "scale": {
                "zero": true
               },
               "title": "height (m)",
               "type": "quantitative"
              }
             },
             "mark": {
              "type": "line"
             },
             "title": [
              "All data",
              "(n = 7714)"
             ]
            }
           ],
           "width": 150
          },
          {
           "data": {
            "format": {
             "type": "json"
            },
            "url": "altair-data-5df7380675db9e63e0b81005deb83135.json"
           },
           "height": 150,
           "layer": [
            {
             "encoding": {
              "color": {
               "field": "tower",
               "type": "nominal"
              },
              "x": {
               "field": "low_bound",
               "title": "",
               "type": "quantitative"
              },
              "x2": {
               "field": "up_bound"
              },
              "y": {
               "field": "height",
               "scale": {
                "zero": true
               },
               "title": "height (m)",
               "type": "quantitative"
              }
             },
             "mark": {
              "opacity": 0.25,
              "type": "area"
             },
             "transform": [
              {
               "aggregate": [
                {
                 "as": "mean",
                 "field": "value",
                 "op": "mean"
                }
               ],
               "groupby": [
                "height",
                "tower"
               ]
              },
              {
               "as": "low_bound",
               "calculate": "datum.mean - 0.2*datum.mean"
              },
              {
               "as": "up_bound",
               "calculate": "datum.mean + 0.2*datum.mean"
              }
             ]
            },
            {
             "encoding": {
              "color": {
               "field": "tower",
               "type": "nominal"
              },
              "x": {
               "aggregate": "mean",
               "field": "value",
               "sort": "-y",
               "title": "<q> (m/s)",
               "type": "quantitative"
              },
              "y": {
               "field": "height",
               "scale": {
                "zero": true
               },
               "title": "height (m)",
               "type": "quantitative"
              }
             },
             "mark": {
              "type": "line"
             },
             "title": [
              "BS",
              "(n = 1694)"
             ]
            }
           ],
           "width": 150
          },
          {
           "data": {
            "format": {
             "type": "json"
            },
            "url": "altair-data-cc59ce9619a883661425d1c0880bc9b8.json"
           },
           "height": 150,
           "layer": [
            {
             "encoding": {
              "color": {
               "field": "tower",
               "type": "nominal"
              },
              "x": {
               "field": "low_bound",
               "title": "",
               "type": "quantitative"
              },
              "x2": {
               "field": "up_bound"
              },
              "y": {
               "field": "height",
               "scale": {
                "zero": true
               },
               "title": "height (m)",
               "type": "quantitative"
              }
             },
             "mark": {
              "opacity": 0.25,
              "type": "area"
             },
             "transform": [
              {
               "aggregate": [
                {
                 "as": "mean",
                 "field": "value",
                 "op": "mean"
                }
               ],
               "groupby": [
                "height",
                "tower"
               ]
              },
              {
               "as": "low_bound",
               "calculate": "datum.mean - 0.2*datum.mean"
              },
              {
               "as": "up_bound",
               "calculate": "datum.mean + 0.2*datum.mean"
              }
             ]
            },
            {
             "encoding": {
              "color": {
               "field": "tower",
               "type": "nominal"
              },
              "x": {
               "aggregate": "mean",
               "field": "value",
               "sort": "-y",
               "title": "<q> (m/s)",
               "type": "quantitative"
              },
              "y": {
               "field": "height",
               "scale": {
                "zero": true
               },
               "title": "height (m)",
               "type": "quantitative"
              }
             },
             "mark": {
              "type": "line"
             },
             "title": [
              "No BS",
              "(n = 5998)"
             ]
            }
           ],
           "width": 150
          },
          {
           "data": {
            "format": {
             "type": "json"
            },
            "url": "altair-data-d2145adfa223d001a2e2de1fcf49aada.json"
           },
           "height": 150,
           "layer": [
            {
             "encoding": {
              "color": {
               "field": "tower",
               "type": "nominal"
              },
              "x": {
               "field": "low_bound",
               "title": "",
               "type": "quantitative"
              },
              "x2": {
               "field": "up_bound"
              },
              "y": {
               "field": "height",
               "scale": {
                "zero": true
               },
               "title": "height (m)",
               "type": "quantitative"
              }
             },
             "mark": {
              "opacity": 0.25,
              "type": "area"
             },
             "transform": [
              {
               "aggregate": [
                {
                 "as": "mean",
                 "field": "value",
                 "op": "mean"
                }
               ],
               "groupby": [
                "height",
                "tower"
               ]
              },
              {
               "as": "low_bound",
               "calculate": "datum.mean - 0.2*datum.mean"
              },
              {
               "as": "up_bound",
               "calculate": "datum.mean + 0.2*datum.mean"
              }
             ]
            },
            {
             "encoding": {
              "color": {
               "field": "tower",
               "type": "nominal"
              },
              "x": {
               "aggregate": "mean",
               "field": "value",
               "sort": "-y",
               "title": "<q> (m/s)",
               "type": "quantitative"
              },
              "y": {
               "field": "height",
               "scale": {
                "zero": true
               },
               "title": "height (m)",
               "type": "quantitative"
              }
             },
             "mark": {
              "type": "line"
             },
             "title": [
              "Tgrad stable",
              "(n = 6843)"
             ]
            }
           ],
           "width": 150
          },
          {
           "data": {
            "format": {
             "type": "json"
            },
            "url": "altair-data-51ab1a371025db7962402f4523245c36.json"
           },
           "height": 150,
           "layer": [
            {
             "encoding": {
              "color": {
               "field": "tower",
               "type": "nominal"
              },
              "x": {
               "field": "low_bound",
               "title": "",
               "type": "quantitative"
              },
              "x2": {
               "field": "up_bound"
              },
              "y": {
               "field": "height",
               "scale": {
                "zero": true
               },
               "title": "height (m)",
               "type": "quantitative"
              }
             },
             "mark": {
              "opacity": 0.25,
              "type": "area"
             },
             "transform": [
              {
               "aggregate": [
                {
                 "as": "mean",
                 "field": "value",
                 "op": "mean"
                }
               ],
               "groupby": [
                "height",
                "tower"
               ]
              },
              {
               "as": "low_bound",
               "calculate": "datum.mean - 0.2*datum.mean"
              },
              {
               "as": "up_bound",
               "calculate": "datum.mean + 0.2*datum.mean"
              }
             ]
            },
            {
             "encoding": {
              "color": {
               "field": "tower",
               "type": "nominal"
              },
              "x": {
               "aggregate": "mean",
               "field": "value",
               "sort": "-y",
               "title": "<q> (m/s)",
               "type": "quantitative"
              },
              "y": {
               "field": "height",
               "scale": {
                "zero": true
               },
               "title": "height (m)",
               "type": "quantitative"
              }
             },
             "mark": {
              "type": "line"
             },
             "title": [
              "Tgrad Neutral",
              "(n = 565)"
             ]
            }
           ],
           "width": 150
          },
          {
           "data": {
            "format": {
             "type": "json"
            },
            "url": "altair-data-9111fdd3d9c3324f295334868ac16d46.json"
           },
           "height": 150,
           "layer": [
            {
             "encoding": {
              "color": {
               "field": "tower",
               "type": "nominal"
              },
              "x": {
               "field": "low_bound",
               "title": "",
               "type": "quantitative"
              },
              "x2": {
               "field": "up_bound"
              },
              "y": {
               "field": "height",
               "scale": {
                "zero": true
               },
               "title": "height (m)",
               "type": "quantitative"
              }
             },
             "mark": {
              "opacity": 0.25,
              "type": "area"
             },
             "transform": [
              {
               "aggregate": [
                {
                 "as": "mean",
                 "field": "value",
                 "op": "mean"
                }
               ],
               "groupby": [
                "height",
                "tower"
               ]
              },
              {
               "as": "low_bound",
               "calculate": "datum.mean - 0.2*datum.mean"
              },
              {
               "as": "up_bound",
               "calculate": "datum.mean + 0.2*datum.mean"
              }
             ]
            },
            {
             "encoding": {
              "color": {
               "field": "tower",
               "type": "nominal"
              },
              "x": {
               "aggregate": "mean",
               "field": "value",
               "sort": "-y",
               "title": "<q> (m/s)",
               "type": "quantitative"
              },
              "y": {
               "field": "height",
               "scale": {
                "zero": true
               },
               "title": "height (m)",
               "type": "quantitative"
              }
             },
             "mark": {
              "type": "line"
             },
             "title": [
              "Tgrad Unstable",
              "(n = 286)"
             ]
            }
           ],
           "width": 150
          }
         ],
         "resolve": {
          "scale": {
           "x": "shared",
           "y": "shared"
          }
         }
        },
        {
         "hconcat": [
          {
           "data": {
            "format": {
             "type": "json"
            },
            "url": "altair-data-a4eec514e2131eb6c82b0e919d9c35a5.json"
           },
           "height": 150,
           "layer": [
            {
             "encoding": {
              "color": {
               "field": "tower",
               "type": "nominal"
              },
              "x": {
               "field": "low_bound",
               "title": "",
               "type": "quantitative"
              },
              "x2": {
               "field": "up_bound"
              },
              "y": {
               "field": "height",
               "scale": {
                "zero": true
               },
               "title": "height (m)",
               "type": "quantitative"
              }
             },
             "mark": {
              "opacity": 0.25,
              "type": "area"
             },
             "transform": [
              {
               "aggregate": [
                {
                 "as": "mean",
                 "field": "value",
                 "op": "mean"
                }
               ],
               "groupby": [
                "height",
                "tower"
               ]
              },
              {
               "as": "low_bound",
               "calculate": "datum.mean - 0.2*datum.mean"
              },
              {
               "as": "up_bound",
               "calculate": "datum.mean + 0.2*datum.mean"
              }
             ]
            },
            {
             "encoding": {
              "color": {
               "field": "tower",
               "type": "nominal"
              },
              "x": {
               "aggregate": "mean",
               "field": "value",
               "sort": "-y",
               "title": "<u'q'> (g/m^2/s)",
               "type": "quantitative"
              },
              "y": {
               "field": "height",
               "scale": {
                "zero": true
               },
               "title": "height (m)",
               "type": "quantitative"
              }
             },
             "mark": {
              "type": "line"
             },
             "title": [
              "All data",
              "(n = 7714)"
             ]
            }
           ],
           "width": 150
          },
          {
           "data": {
            "format": {
             "type": "json"
            },
            "url": "altair-data-c0f90468f48e15e72ba125408b17a182.json"
           },
           "height": 150,
           "layer": [
            {
             "encoding": {
              "color": {
               "field": "tower",
               "type": "nominal"
              },
              "x": {
               "field": "low_bound",
               "title": "",
               "type": "quantitative"
              },
              "x2": {
               "field": "up_bound"
              },
              "y": {
               "field": "height",
               "scale": {
                "zero": true
               },
               "title": "height (m)",
               "type": "quantitative"
              }
             },
             "mark": {
              "opacity": 0.25,
              "type": "area"
             },
             "transform": [
              {
               "aggregate": [
                {
                 "as": "mean",
                 "field": "value",
                 "op": "mean"
                }
               ],
               "groupby": [
                "height",
                "tower"
               ]
              },
              {
               "as": "low_bound",
               "calculate": "datum.mean - 0.2*datum.mean"
              },
              {
               "as": "up_bound",
               "calculate": "datum.mean + 0.2*datum.mean"
              }
             ]
            },
            {
             "encoding": {
              "color": {
               "field": "tower",
               "type": "nominal"
              },
              "x": {
               "aggregate": "mean",
               "field": "value",
               "sort": "-y",
               "title": "<u'q'> (g/m^2/s)",
               "type": "quantitative"
              },
              "y": {
               "field": "height",
               "scale": {
                "zero": true
               },
               "title": "height (m)",
               "type": "quantitative"
              }
             },
             "mark": {
              "type": "line"
             },
             "title": [
              "BS",
              "(n = 1694)"
             ]
            }
           ],
           "width": 150
          },
          {
           "data": {
            "format": {
             "type": "json"
            },
            "url": "altair-data-ce61fa18b85d9393d8ebbddf9aee79b0.json"
           },
           "height": 150,
           "layer": [
            {
             "encoding": {
              "color": {
               "field": "tower",
               "type": "nominal"
              },
              "x": {
               "field": "low_bound",
               "title": "",
               "type": "quantitative"
              },
              "x2": {
               "field": "up_bound"
              },
              "y": {
               "field": "height",
               "scale": {
                "zero": true
               },
               "title": "height (m)",
               "type": "quantitative"
              }
             },
             "mark": {
              "opacity": 0.25,
              "type": "area"
             },
             "transform": [
              {
               "aggregate": [
                {
                 "as": "mean",
                 "field": "value",
                 "op": "mean"
                }
               ],
               "groupby": [
                "height",
                "tower"
               ]
              },
              {
               "as": "low_bound",
               "calculate": "datum.mean - 0.2*datum.mean"
              },
              {
               "as": "up_bound",
               "calculate": "datum.mean + 0.2*datum.mean"
              }
             ]
            },
            {
             "encoding": {
              "color": {
               "field": "tower",
               "type": "nominal"
              },
              "x": {
               "aggregate": "mean",
               "field": "value",
               "sort": "-y",
               "title": "<u'q'> (g/m^2/s)",
               "type": "quantitative"
              },
              "y": {
               "field": "height",
               "scale": {
                "zero": true
               },
               "title": "height (m)",
               "type": "quantitative"
              }
             },
             "mark": {
              "type": "line"
             },
             "title": [
              "No BS",
              "(n = 5998)"
             ]
            }
           ],
           "width": 150
          },
          {
           "data": {
            "format": {
             "type": "json"
            },
            "url": "altair-data-a27f624ccd7e9c1be12af9e6ddba256b.json"
           },
           "height": 150,
           "layer": [
            {
             "encoding": {
              "color": {
               "field": "tower",
               "type": "nominal"
              },
              "x": {
               "field": "low_bound",
               "title": "",
               "type": "quantitative"
              },
              "x2": {
               "field": "up_bound"
              },
              "y": {
               "field": "height",
               "scale": {
                "zero": true
               },
               "title": "height (m)",
               "type": "quantitative"
              }
             },
             "mark": {
              "opacity": 0.25,
              "type": "area"
             },
             "transform": [
              {
               "aggregate": [
                {
                 "as": "mean",
                 "field": "value",
                 "op": "mean"
                }
               ],
               "groupby": [
                "height",
                "tower"
               ]
              },
              {
               "as": "low_bound",
               "calculate": "datum.mean - 0.2*datum.mean"
              },
              {
               "as": "up_bound",
               "calculate": "datum.mean + 0.2*datum.mean"
              }
             ]
            },
            {
             "encoding": {
              "color": {
               "field": "tower",
               "type": "nominal"
              },
              "x": {
               "aggregate": "mean",
               "field": "value",
               "sort": "-y",
               "title": "<u'q'> (g/m^2/s)",
               "type": "quantitative"
              },
              "y": {
               "field": "height",
               "scale": {
                "zero": true
               },
               "title": "height (m)",
               "type": "quantitative"
              }
             },
             "mark": {
              "type": "line"
             },
             "title": [
              "Tgrad stable",
              "(n = 6843)"
             ]
            }
           ],
           "width": 150
          },
          {
           "data": {
            "format": {
             "type": "json"
            },
            "url": "altair-data-8211a5dcf94f48e7aafbc85086d6b8f8.json"
           },
           "height": 150,
           "layer": [
            {
             "encoding": {
              "color": {
               "field": "tower",
               "type": "nominal"
              },
              "x": {
               "field": "low_bound",
               "title": "",
               "type": "quantitative"
              },
              "x2": {
               "field": "up_bound"
              },
              "y": {
               "field": "height",
               "scale": {
                "zero": true
               },
               "title": "height (m)",
               "type": "quantitative"
              }
             },
             "mark": {
              "opacity": 0.25,
              "type": "area"
             },
             "transform": [
              {
               "aggregate": [
                {
                 "as": "mean",
                 "field": "value",
                 "op": "mean"
                }
               ],
               "groupby": [
                "height",
                "tower"
               ]
              },
              {
               "as": "low_bound",
               "calculate": "datum.mean - 0.2*datum.mean"
              },
              {
               "as": "up_bound",
               "calculate": "datum.mean + 0.2*datum.mean"
              }
             ]
            },
            {
             "encoding": {
              "color": {
               "field": "tower",
               "type": "nominal"
              },
              "x": {
               "aggregate": "mean",
               "field": "value",
               "sort": "-y",
               "title": "<u'q'> (g/m^2/s)",
               "type": "quantitative"
              },
              "y": {
               "field": "height",
               "scale": {
                "zero": true
               },
               "title": "height (m)",
               "type": "quantitative"
              }
             },
             "mark": {
              "type": "line"
             },
             "title": [
              "Tgrad Neutral",
              "(n = 565)"
             ]
            }
           ],
           "width": 150
          },
          {
           "data": {
            "format": {
             "type": "json"
            },
            "url": "altair-data-8cc348151b9d9e856121d162de5dca09.json"
           },
           "height": 150,
           "layer": [
            {
             "encoding": {
              "color": {
               "field": "tower",
               "type": "nominal"
              },
              "x": {
               "field": "low_bound",
               "title": "",
               "type": "quantitative"
              },
              "x2": {
               "field": "up_bound"
              },
              "y": {
               "field": "height",
               "scale": {
                "zero": true
               },
               "title": "height (m)",
               "type": "quantitative"
              }
             },
             "mark": {
              "opacity": 0.25,
              "type": "area"
             },
             "transform": [
              {
               "aggregate": [
                {
                 "as": "mean",
                 "field": "value",
                 "op": "mean"
                }
               ],
               "groupby": [
                "height",
                "tower"
               ]
              },
              {
               "as": "low_bound",
               "calculate": "datum.mean - 0.2*datum.mean"
              },
              {
               "as": "up_bound",
               "calculate": "datum.mean + 0.2*datum.mean"
              }
             ]
            },
            {
             "encoding": {
              "color": {
               "field": "tower",
               "type": "nominal"
              },
              "x": {
               "aggregate": "mean",
               "field": "value",
               "sort": "-y",
               "title": "<u'q'> (g/m^2/s)",
               "type": "quantitative"
              },
              "y": {
               "field": "height",
               "scale": {
                "zero": true
               },
               "title": "height (m)",
               "type": "quantitative"
              }
             },
             "mark": {
              "type": "line"
             },
             "title": [
              "Tgrad Unstable",
              "(n = 286)"
             ]
            }
           ],
           "width": 150
          }
         ],
         "resolve": {
          "scale": {
           "x": "shared",
           "y": "shared"
          }
         }
        },
        {
         "hconcat": [
          {
           "data": {
            "format": {
             "type": "json"
            },
            "url": "altair-data-e2bf6f20a7954276a8b9a78bffe46968.json"
           },
           "height": 150,
           "layer": [
            {
             "encoding": {
              "color": {
               "field": "tower",
               "type": "nominal"
              },
              "x": {
               "field": "low_bound",
               "title": "",
               "type": "quantitative"
              },
              "x2": {
               "field": "up_bound"
              },
              "y": {
               "field": "height",
               "scale": {
                "zero": true
               },
               "title": "height (m)",
               "type": "quantitative"
              }
             },
             "mark": {
              "opacity": 0.25,
              "type": "area"
             },
             "transform": [
              {
               "aggregate": [
                {
                 "as": "mean",
                 "field": "value",
                 "op": "mean"
                }
               ],
               "groupby": [
                "height",
                "tower"
               ]
              },
              {
               "as": "low_bound",
               "calculate": "datum.mean - 0.2*datum.mean"
              },
              {
               "as": "up_bound",
               "calculate": "datum.mean + 0.2*datum.mean"
              }
             ]
            },
            {
             "encoding": {
              "color": {
               "field": "tower",
               "type": "nominal"
              },
              "x": {
               "aggregate": "mean",
               "field": "value",
               "sort": "-y",
               "title": "tke (m^2/s^2)",
               "type": "quantitative"
              },
              "y": {
               "field": "height",
               "scale": {
                "zero": true
               },
               "title": "height (m)",
               "type": "quantitative"
              }
             },
             "mark": {
              "type": "line"
             },
             "title": [
              "All data",
              "(n = 7714)"
             ]
            }
           ],
           "width": 150
          },
          {
           "data": {
            "format": {
             "type": "json"
            },
            "url": "altair-data-64a71c5f6b87e76ee53086bd25672a53.json"
           },
           "height": 150,
           "layer": [
            {
             "encoding": {
              "color": {
               "field": "tower",
               "type": "nominal"
              },
              "x": {
               "field": "low_bound",
               "title": "",
               "type": "quantitative"
              },
              "x2": {
               "field": "up_bound"
              },
              "y": {
               "field": "height",
               "scale": {
                "zero": true
               },
               "title": "height (m)",
               "type": "quantitative"
              }
             },
             "mark": {
              "opacity": 0.25,
              "type": "area"
             },
             "transform": [
              {
               "aggregate": [
                {
                 "as": "mean",
                 "field": "value",
                 "op": "mean"
                }
               ],
               "groupby": [
                "height",
                "tower"
               ]
              },
              {
               "as": "low_bound",
               "calculate": "datum.mean - 0.2*datum.mean"
              },
              {
               "as": "up_bound",
               "calculate": "datum.mean + 0.2*datum.mean"
              }
             ]
            },
            {
             "encoding": {
              "color": {
               "field": "tower",
               "type": "nominal"
              },
              "x": {
               "aggregate": "mean",
               "field": "value",
               "sort": "-y",
               "title": "tke (m^2/s^2)",
               "type": "quantitative"
              },
              "y": {
               "field": "height",
               "scale": {
                "zero": true
               },
               "title": "height (m)",
               "type": "quantitative"
              }
             },
             "mark": {
              "type": "line"
             },
             "title": [
              "BS",
              "(n = 1694)"
             ]
            }
           ],
           "width": 150
          },
          {
           "data": {
            "format": {
             "type": "json"
            },
            "url": "altair-data-111f65f0c6fdf60ca163a86e1d6c25a3.json"
           },
           "height": 150,
           "layer": [
            {
             "encoding": {
              "color": {
               "field": "tower",
               "type": "nominal"
              },
              "x": {
               "field": "low_bound",
               "title": "",
               "type": "quantitative"
              },
              "x2": {
               "field": "up_bound"
              },
              "y": {
               "field": "height",
               "scale": {
                "zero": true
               },
               "title": "height (m)",
               "type": "quantitative"
              }
             },
             "mark": {
              "opacity": 0.25,
              "type": "area"
             },
             "transform": [
              {
               "aggregate": [
                {
                 "as": "mean",
                 "field": "value",
                 "op": "mean"
                }
               ],
               "groupby": [
                "height",
                "tower"
               ]
              },
              {
               "as": "low_bound",
               "calculate": "datum.mean - 0.2*datum.mean"
              },
              {
               "as": "up_bound",
               "calculate": "datum.mean + 0.2*datum.mean"
              }
             ]
            },
            {
             "encoding": {
              "color": {
               "field": "tower",
               "type": "nominal"
              },
              "x": {
               "aggregate": "mean",
               "field": "value",
               "sort": "-y",
               "title": "tke (m^2/s^2)",
               "type": "quantitative"
              },
              "y": {
               "field": "height",
               "scale": {
                "zero": true
               },
               "title": "height (m)",
               "type": "quantitative"
              }
             },
             "mark": {
              "type": "line"
             },
             "title": [
              "No BS",
              "(n = 5998)"
             ]
            }
           ],
           "width": 150
          },
          {
           "data": {
            "format": {
             "type": "json"
            },
            "url": "altair-data-70045958ab8a683a9232c9dc9ef24738.json"
           },
           "height": 150,
           "layer": [
            {
             "encoding": {
              "color": {
               "field": "tower",
               "type": "nominal"
              },
              "x": {
               "field": "low_bound",
               "title": "",
               "type": "quantitative"
              },
              "x2": {
               "field": "up_bound"
              },
              "y": {
               "field": "height",
               "scale": {
                "zero": true
               },
               "title": "height (m)",
               "type": "quantitative"
              }
             },
             "mark": {
              "opacity": 0.25,
              "type": "area"
             },
             "transform": [
              {
               "aggregate": [
                {
                 "as": "mean",
                 "field": "value",
                 "op": "mean"
                }
               ],
               "groupby": [
                "height",
                "tower"
               ]
              },
              {
               "as": "low_bound",
               "calculate": "datum.mean - 0.2*datum.mean"
              },
              {
               "as": "up_bound",
               "calculate": "datum.mean + 0.2*datum.mean"
              }
             ]
            },
            {
             "encoding": {
              "color": {
               "field": "tower",
               "type": "nominal"
              },
              "x": {
               "aggregate": "mean",
               "field": "value",
               "sort": "-y",
               "title": "tke (m^2/s^2)",
               "type": "quantitative"
              },
              "y": {
               "field": "height",
               "scale": {
                "zero": true
               },
               "title": "height (m)",
               "type": "quantitative"
              }
             },
             "mark": {
              "type": "line"
             },
             "title": [
              "Tgrad stable",
              "(n = 6843)"
             ]
            }
           ],
           "width": 150
          },
          {
           "data": {
            "format": {
             "type": "json"
            },
            "url": "altair-data-8e016e3c619ef4bf590f5a62cb3e474a.json"
           },
           "height": 150,
           "layer": [
            {
             "encoding": {
              "color": {
               "field": "tower",
               "type": "nominal"
              },
              "x": {
               "field": "low_bound",
               "title": "",
               "type": "quantitative"
              },
              "x2": {
               "field": "up_bound"
              },
              "y": {
               "field": "height",
               "scale": {
                "zero": true
               },
               "title": "height (m)",
               "type": "quantitative"
              }
             },
             "mark": {
              "opacity": 0.25,
              "type": "area"
             },
             "transform": [
              {
               "aggregate": [
                {
                 "as": "mean",
                 "field": "value",
                 "op": "mean"
                }
               ],
               "groupby": [
                "height",
                "tower"
               ]
              },
              {
               "as": "low_bound",
               "calculate": "datum.mean - 0.2*datum.mean"
              },
              {
               "as": "up_bound",
               "calculate": "datum.mean + 0.2*datum.mean"
              }
             ]
            },
            {
             "encoding": {
              "color": {
               "field": "tower",
               "type": "nominal"
              },
              "x": {
               "aggregate": "mean",
               "field": "value",
               "sort": "-y",
               "title": "tke (m^2/s^2)",
               "type": "quantitative"
              },
              "y": {
               "field": "height",
               "scale": {
                "zero": true
               },
               "title": "height (m)",
               "type": "quantitative"
              }
             },
             "mark": {
              "type": "line"
             },
             "title": [
              "Tgrad Neutral",
              "(n = 565)"
             ]
            }
           ],
           "width": 150
          },
          {
           "data": {
            "format": {
             "type": "json"
            },
            "url": "altair-data-2fde63e7b91a826ffa51e8ab2dd37c81.json"
           },
           "height": 150,
           "layer": [
            {
             "encoding": {
              "color": {
               "field": "tower",
               "type": "nominal"
              },
              "x": {
               "field": "low_bound",
               "title": "",
               "type": "quantitative"
              },
              "x2": {
               "field": "up_bound"
              },
              "y": {
               "field": "height",
               "scale": {
                "zero": true
               },
               "title": "height (m)",
               "type": "quantitative"
              }
             },
             "mark": {
              "opacity": 0.25,
              "type": "area"
             },
             "transform": [
              {
               "aggregate": [
                {
                 "as": "mean",
                 "field": "value",
                 "op": "mean"
                }
               ],
               "groupby": [
                "height",
                "tower"
               ]
              },
              {
               "as": "low_bound",
               "calculate": "datum.mean - 0.2*datum.mean"
              },
              {
               "as": "up_bound",
               "calculate": "datum.mean + 0.2*datum.mean"
              }
             ]
            },
            {
             "encoding": {
              "color": {
               "field": "tower",
               "type": "nominal"
              },
              "x": {
               "aggregate": "mean",
               "field": "value",
               "sort": "-y",
               "title": "tke (m^2/s^2)",
               "type": "quantitative"
              },
              "y": {
               "field": "height",
               "scale": {
                "zero": true
               },
               "title": "height (m)",
               "type": "quantitative"
              }
             },
             "mark": {
              "type": "line"
             },
             "title": [
              "Tgrad Unstable",
              "(n = 286)"
             ]
            }
           ],
           "width": 150
          }
         ],
         "resolve": {
          "scale": {
           "x": "shared",
           "y": "shared"
          }
         }
        },
        {
         "hconcat": [
          {
           "data": {
            "format": {
             "type": "json"
            },
            "url": "altair-data-45674d0660debbd11328867a762670a5.json"
           },
           "height": 150,
           "layer": [
            {
             "encoding": {
              "color": {
               "field": "tower",
               "type": "nominal"
              },
              "x": {
               "field": "low_bound",
               "title": "",
               "type": "quantitative"
              },
              "x2": {
               "field": "up_bound"
              },
              "y": {
               "field": "height",
               "scale": {
                "zero": true
               },
               "title": "height (m)",
               "type": "quantitative"
              }
             },
             "mark": {
              "opacity": 0.25,
              "type": "area"
             },
             "transform": [
              {
               "aggregate": [
                {
                 "as": "mean",
                 "field": "value",
                 "op": "mean"
                }
               ],
               "groupby": [
                "height",
                "tower"
               ]
              },
              {
               "as": "low_bound",
               "calculate": "datum.mean - 0.2*datum.mean"
              },
              {
               "as": "up_bound",
               "calculate": "datum.mean + 0.2*datum.mean"
              }
             ]
            },
            {
             "encoding": {
              "color": {
               "field": "tower",
               "type": "nominal"
              },
              "x": {
               "aggregate": "mean",
               "field": "value",
               "sort": "-y",
               "title": "<w'w'> (m^2/s^2)",
               "type": "quantitative"
              },
              "y": {
               "field": "height",
               "scale": {
                "zero": true
               },
               "title": "height (m)",
               "type": "quantitative"
              }
             },
             "mark": {
              "type": "line"
             },
             "title": [
              "All data",
              "(n = 7714)"
             ]
            }
           ],
           "width": 150
          },
          {
           "data": {
            "format": {
             "type": "json"
            },
            "url": "altair-data-9ecdbe61a0eb518ec8e2626d09e04906.json"
           },
           "height": 150,
           "layer": [
            {
             "encoding": {
              "color": {
               "field": "tower",
               "type": "nominal"
              },
              "x": {
               "field": "low_bound",
               "title": "",
               "type": "quantitative"
              },
              "x2": {
               "field": "up_bound"
              },
              "y": {
               "field": "height",
               "scale": {
                "zero": true
               },
               "title": "height (m)",
               "type": "quantitative"
              }
             },
             "mark": {
              "opacity": 0.25,
              "type": "area"
             },
             "transform": [
              {
               "aggregate": [
                {
                 "as": "mean",
                 "field": "value",
                 "op": "mean"
                }
               ],
               "groupby": [
                "height",
                "tower"
               ]
              },
              {
               "as": "low_bound",
               "calculate": "datum.mean - 0.2*datum.mean"
              },
              {
               "as": "up_bound",
               "calculate": "datum.mean + 0.2*datum.mean"
              }
             ]
            },
            {
             "encoding": {
              "color": {
               "field": "tower",
               "type": "nominal"
              },
              "x": {
               "aggregate": "mean",
               "field": "value",
               "sort": "-y",
               "title": "<w'w'> (m^2/s^2)",
               "type": "quantitative"
              },
              "y": {
               "field": "height",
               "scale": {
                "zero": true
               },
               "title": "height (m)",
               "type": "quantitative"
              }
             },
             "mark": {
              "type": "line"
             },
             "title": [
              "BS",
              "(n = 1694)"
             ]
            }
           ],
           "width": 150
          },
          {
           "data": {
            "format": {
             "type": "json"
            },
            "url": "altair-data-58b5b1b53bf8aea574e1f2b443b2c0b2.json"
           },
           "height": 150,
           "layer": [
            {
             "encoding": {
              "color": {
               "field": "tower",
               "type": "nominal"
              },
              "x": {
               "field": "low_bound",
               "title": "",
               "type": "quantitative"
              },
              "x2": {
               "field": "up_bound"
              },
              "y": {
               "field": "height",
               "scale": {
                "zero": true
               },
               "title": "height (m)",
               "type": "quantitative"
              }
             },
             "mark": {
              "opacity": 0.25,
              "type": "area"
             },
             "transform": [
              {
               "aggregate": [
                {
                 "as": "mean",
                 "field": "value",
                 "op": "mean"
                }
               ],
               "groupby": [
                "height",
                "tower"
               ]
              },
              {
               "as": "low_bound",
               "calculate": "datum.mean - 0.2*datum.mean"
              },
              {
               "as": "up_bound",
               "calculate": "datum.mean + 0.2*datum.mean"
              }
             ]
            },
            {
             "encoding": {
              "color": {
               "field": "tower",
               "type": "nominal"
              },
              "x": {
               "aggregate": "mean",
               "field": "value",
               "sort": "-y",
               "title": "<w'w'> (m^2/s^2)",
               "type": "quantitative"
              },
              "y": {
               "field": "height",
               "scale": {
                "zero": true
               },
               "title": "height (m)",
               "type": "quantitative"
              }
             },
             "mark": {
              "type": "line"
             },
             "title": [
              "No BS",
              "(n = 5998)"
             ]
            }
           ],
           "width": 150
          },
          {
           "data": {
            "format": {
             "type": "json"
            },
            "url": "altair-data-8d33706f744c59f1deae5230a70a2c47.json"
           },
           "height": 150,
           "layer": [
            {
             "encoding": {
              "color": {
               "field": "tower",
               "type": "nominal"
              },
              "x": {
               "field": "low_bound",
               "title": "",
               "type": "quantitative"
              },
              "x2": {
               "field": "up_bound"
              },
              "y": {
               "field": "height",
               "scale": {
                "zero": true
               },
               "title": "height (m)",
               "type": "quantitative"
              }
             },
             "mark": {
              "opacity": 0.25,
              "type": "area"
             },
             "transform": [
              {
               "aggregate": [
                {
                 "as": "mean",
                 "field": "value",
                 "op": "mean"
                }
               ],
               "groupby": [
                "height",
                "tower"
               ]
              },
              {
               "as": "low_bound",
               "calculate": "datum.mean - 0.2*datum.mean"
              },
              {
               "as": "up_bound",
               "calculate": "datum.mean + 0.2*datum.mean"
              }
             ]
            },
            {
             "encoding": {
              "color": {
               "field": "tower",
               "type": "nominal"
              },
              "x": {
               "aggregate": "mean",
               "field": "value",
               "sort": "-y",
               "title": "<w'w'> (m^2/s^2)",
               "type": "quantitative"
              },
              "y": {
               "field": "height",
               "scale": {
                "zero": true
               },
               "title": "height (m)",
               "type": "quantitative"
              }
             },
             "mark": {
              "type": "line"
             },
             "title": [
              "Tgrad stable",
              "(n = 6843)"
             ]
            }
           ],
           "width": 150
          },
          {
           "data": {
            "format": {
             "type": "json"
            },
            "url": "altair-data-c63f6eb7bdade7c5d8de84b23601ab65.json"
           },
           "height": 150,
           "layer": [
            {
             "encoding": {
              "color": {
               "field": "tower",
               "type": "nominal"
              },
              "x": {
               "field": "low_bound",
               "title": "",
               "type": "quantitative"
              },
              "x2": {
               "field": "up_bound"
              },
              "y": {
               "field": "height",
               "scale": {
                "zero": true
               },
               "title": "height (m)",
               "type": "quantitative"
              }
             },
             "mark": {
              "opacity": 0.25,
              "type": "area"
             },
             "transform": [
              {
               "aggregate": [
                {
                 "as": "mean",
                 "field": "value",
                 "op": "mean"
                }
               ],
               "groupby": [
                "height",
                "tower"
               ]
              },
              {
               "as": "low_bound",
               "calculate": "datum.mean - 0.2*datum.mean"
              },
              {
               "as": "up_bound",
               "calculate": "datum.mean + 0.2*datum.mean"
              }
             ]
            },
            {
             "encoding": {
              "color": {
               "field": "tower",
               "type": "nominal"
              },
              "x": {
               "aggregate": "mean",
               "field": "value",
               "sort": "-y",
               "title": "<w'w'> (m^2/s^2)",
               "type": "quantitative"
              },
              "y": {
               "field": "height",
               "scale": {
                "zero": true
               },
               "title": "height (m)",
               "type": "quantitative"
              }
             },
             "mark": {
              "type": "line"
             },
             "title": [
              "Tgrad Neutral",
              "(n = 565)"
             ]
            }
           ],
           "width": 150
          },
          {
           "data": {
            "format": {
             "type": "json"
            },
            "url": "altair-data-44e2d423323c7767a54e344ec07c72f6.json"
           },
           "height": 150,
           "layer": [
            {
             "encoding": {
              "color": {
               "field": "tower",
               "type": "nominal"
              },
              "x": {
               "field": "low_bound",
               "title": "",
               "type": "quantitative"
              },
              "x2": {
               "field": "up_bound"
              },
              "y": {
               "field": "height",
               "scale": {
                "zero": true
               },
               "title": "height (m)",
               "type": "quantitative"
              }
             },
             "mark": {
              "opacity": 0.25,
              "type": "area"
             },
             "transform": [
              {
               "aggregate": [
                {
                 "as": "mean",
                 "field": "value",
                 "op": "mean"
                }
               ],
               "groupby": [
                "height",
                "tower"
               ]
              },
              {
               "as": "low_bound",
               "calculate": "datum.mean - 0.2*datum.mean"
              },
              {
               "as": "up_bound",
               "calculate": "datum.mean + 0.2*datum.mean"
              }
             ]
            },
            {
             "encoding": {
              "color": {
               "field": "tower",
               "type": "nominal"
              },
              "x": {
               "aggregate": "mean",
               "field": "value",
               "sort": "-y",
               "title": "<w'w'> (m^2/s^2)",
               "type": "quantitative"
              },
              "y": {
               "field": "height",
               "scale": {
                "zero": true
               },
               "title": "height (m)",
               "type": "quantitative"
              }
             },
             "mark": {
              "type": "line"
             },
             "title": [
              "Tgrad Unstable",
              "(n = 286)"
             ]
            }
           ],
           "width": 150
          }
         ],
         "resolve": {
          "scale": {
           "x": "shared",
           "y": "shared"
          }
         }
        }
       ]
      },
      "text/plain": [
       "<VegaLite 5 object>\n",
       "\n",
       "If you see this message, it means the renderer has not been properly enabled\n",
       "for the frontend that you are using. For more information, see\n",
       "https://altair-viz.github.io/user_guide/display_frontends.html#troubleshooting\n"
      ]
     },
     "execution_count": 75,
     "metadata": {},
     "output_type": "execute_result"
    }
   ],
   "source": [
    "(\n",
    "    combo_mean_w_q__profile_chart & \n",
    "    combo_mean_w_profile_chart & \n",
    "    combo_mean_q_profile_chart & \n",
    "    combo_mean_u_q__profile_chart & \n",
    "    combo_mean_tke_profile_chart &\n",
    "    combo_mean_w_w__profile_chart\n",
    ")"
   ]
  },
  {
   "cell_type": "code",
   "execution_count": 86,
   "metadata": {},
   "outputs": [
    {
     "data": {
      "application/vnd.vegalite.v5+json": {
       "$schema": "https://vega.github.io/schema/vega-lite/v5.17.0.json",
       "config": {
        "view": {
         "continuousHeight": 300,
         "continuousWidth": 300
        }
       },
       "hconcat": [
        {
         "data": {
          "format": {
           "type": "json"
          },
          "url": "altair-data-68b8d6136733712dde2e9b2a2baaf697.json"
         },
         "height": 150,
         "layer": [
          {
           "encoding": {
            "color": {
             "field": "tower",
             "type": "nominal"
            },
            "x": {
             "field": "low_bound",
             "title": "",
             "type": "quantitative"
            },
            "x2": {
             "field": "up_bound"
            },
            "y": {
             "field": "height",
             "scale": {
              "zero": true
             },
             "title": "height (m)",
             "type": "quantitative"
            }
           },
           "mark": {
            "opacity": 0.25,
            "type": "area"
           },
           "transform": [
            {
             "aggregate": [
              {
               "as": "mean",
               "field": "value",
               "op": "mean"
              }
             ],
             "groupby": [
              "height",
              "tower"
             ]
            },
            {
             "as": "low_bound",
             "calculate": "datum.mean - 0.2*datum.mean"
            },
            {
             "as": "up_bound",
             "calculate": "datum.mean + 0.2*datum.mean"
            }
           ]
          },
          {
           "encoding": {
            "color": {
             "field": "tower",
             "type": "nominal"
            },
            "x": {
             "aggregate": "mean",
             "field": "value",
             "sort": "-y",
             "title": "<w> (m/s)",
             "type": "quantitative"
            },
            "y": {
             "field": "height",
             "scale": {
              "zero": true
             },
             "title": "height (m)",
             "type": "quantitative"
            }
           },
           "mark": {
            "type": "line"
           },
           "title": [
            "All data",
            "(n = 23)"
           ]
          }
         ],
         "width": 150
        },
        {
         "data": {
          "format": {
           "type": "json"
          },
          "url": "altair-data-377e03a4642ca8cadf05d3a00a1594a5.json"
         },
         "height": 150,
         "layer": [
          {
           "encoding": {
            "color": {
             "field": "tower",
             "type": "nominal"
            },
            "x": {
             "field": "low_bound",
             "title": "",
             "type": "quantitative"
            },
            "x2": {
             "field": "up_bound"
            },
            "y": {
             "field": "height",
             "scale": {
              "zero": true
             },
             "title": "height (m)",
             "type": "quantitative"
            }
           },
           "mark": {
            "opacity": 0.25,
            "type": "area"
           },
           "transform": [
            {
             "aggregate": [
              {
               "as": "mean",
               "field": "value",
               "op": "mean"
              }
             ],
             "groupby": [
              "height",
              "tower"
             ]
            },
            {
             "as": "low_bound",
             "calculate": "datum.mean - 0.2*datum.mean"
            },
            {
             "as": "up_bound",
             "calculate": "datum.mean + 0.2*datum.mean"
            }
           ]
          },
          {
           "encoding": {
            "color": {
             "field": "tower",
             "type": "nominal"
            },
            "x": {
             "aggregate": "mean",
             "field": "value",
             "sort": "-y",
             "title": "tke (m^2/s^2)",
             "type": "quantitative"
            },
            "y": {
             "field": "height",
             "scale": {
              "zero": true
             },
             "title": "height (m)",
             "type": "quantitative"
            }
           },
           "mark": {
            "type": "line"
           },
           "title": [
            "All data",
            "(n = 23)"
           ]
          }
         ],
         "width": 150
        },
        {
         "data": {
          "format": {
           "type": "json"
          },
          "url": "altair-data-d8ac63a9856d1cfd55c9b1da151addbd.json"
         },
         "height": 150,
         "layer": [
          {
           "encoding": {
            "color": {
             "field": "tower",
             "type": "nominal"
            },
            "x": {
             "field": "low_bound",
             "title": "",
             "type": "quantitative"
            },
            "x2": {
             "field": "up_bound"
            },
            "y": {
             "field": "height",
             "scale": {
              "zero": true
             },
             "title": "height (m)",
             "type": "quantitative"
            }
           },
           "mark": {
            "opacity": 0.25,
            "type": "area"
           },
           "transform": [
            {
             "aggregate": [
              {
               "as": "mean",
               "field": "value",
               "op": "mean"
              }
             ],
             "groupby": [
              "height",
              "tower"
             ]
            },
            {
             "as": "low_bound",
             "calculate": "datum.mean - 0.2*datum.mean"
            },
            {
             "as": "up_bound",
             "calculate": "datum.mean + 0.2*datum.mean"
            }
           ]
          },
          {
           "encoding": {
            "color": {
             "field": "tower",
             "type": "nominal"
            },
            "x": {
             "aggregate": "mean",
             "field": "value",
             "sort": "-y",
             "title": "<w'w'> (m^2/s^2)",
             "type": "quantitative"
            },
            "y": {
             "field": "height",
             "scale": {
              "zero": true
             },
             "title": "height (m)",
             "type": "quantitative"
            }
           },
           "mark": {
            "type": "line"
           },
           "title": [
            "All data",
            "(n = 23)"
           ]
          }
         ],
         "width": 150
        },
        {
         "data": {
          "format": {
           "type": "json"
          },
          "url": "altair-data-e9bf654b3591690cf6761ff00c95d893.json"
         },
         "height": 150,
         "layer": [
          {
           "encoding": {
            "color": {
             "field": "tower",
             "type": "nominal"
            },
            "x": {
             "field": "low_bound",
             "title": "",
             "type": "quantitative"
            },
            "x2": {
             "field": "up_bound"
            },
            "y": {
             "field": "height",
             "scale": {
              "zero": true
             },
             "title": "height (m)",
             "type": "quantitative"
            }
           },
           "mark": {
            "opacity": 0.25,
            "type": "area"
           },
           "transform": [
            {
             "aggregate": [
              {
               "as": "mean",
               "field": "value",
               "op": "mean"
              }
             ],
             "groupby": [
              "height",
              "tower"
             ]
            },
            {
             "as": "low_bound",
             "calculate": "datum.mean - 0.2*datum.mean"
            },
            {
             "as": "up_bound",
             "calculate": "datum.mean + 0.2*datum.mean"
            }
           ]
          },
          {
           "encoding": {
            "color": {
             "field": "tower",
             "type": "nominal"
            },
            "x": {
             "aggregate": "mean",
             "field": "value",
             "sort": "-y",
             "title": "<q> (m/s)",
             "type": "quantitative"
            },
            "y": {
             "field": "height",
             "scale": {
              "zero": true
             },
             "title": "height (m)",
             "type": "quantitative"
            }
           },
           "mark": {
            "type": "line"
           },
           "title": [
            "All data",
            "(n = 23)"
           ]
          }
         ],
         "width": 150
        },
        {
         "data": {
          "format": {
           "type": "json"
          },
          "url": "altair-data-70569cf7bd6f11b944a1842cf9aa5c32.json"
         },
         "height": 150,
         "layer": [
          {
           "encoding": {
            "color": {
             "field": "tower",
             "type": "nominal"
            },
            "x": {
             "field": "low_bound",
             "title": "",
             "type": "quantitative"
            },
            "x2": {
             "field": "up_bound"
            },
            "y": {
             "field": "height",
             "scale": {
              "zero": true
             },
             "title": "height (m)",
             "type": "quantitative"
            }
           },
           "mark": {
            "opacity": 0.25,
            "type": "area"
           },
           "transform": [
            {
             "aggregate": [
              {
               "as": "mean",
               "field": "value",
               "op": "mean"
              }
             ],
             "groupby": [
              "height",
              "tower"
             ]
            },
            {
             "as": "low_bound",
             "calculate": "datum.mean - 0.2*datum.mean"
            },
            {
             "as": "up_bound",
             "calculate": "datum.mean + 0.2*datum.mean"
            }
           ]
          },
          {
           "encoding": {
            "color": {
             "field": "tower",
             "type": "nominal"
            },
            "x": {
             "aggregate": "mean",
             "field": "value",
             "sort": "-y",
             "title": "<w'q'> (g/m^2/s)",
             "type": "quantitative"
            },
            "y": {
             "field": "height",
             "scale": {
              "zero": true
             },
             "title": "height (m)",
             "type": "quantitative"
            }
           },
           "mark": {
            "type": "line"
           },
           "title": [
            "All data",
            "(n = 23)"
           ]
          }
         ],
         "width": 150
        },
        {
         "data": {
          "format": {
           "type": "json"
          },
          "url": "altair-data-c5d9d4fb58067a1b6589876da7e75f28.json"
         },
         "height": 150,
         "layer": [
          {
           "encoding": {
            "color": {
             "field": "tower",
             "type": "nominal"
            },
            "x": {
             "field": "low_bound",
             "title": "",
             "type": "quantitative"
            },
            "x2": {
             "field": "up_bound"
            },
            "y": {
             "field": "height",
             "scale": {
              "zero": true
             },
             "title": "height (m)",
             "type": "quantitative"
            }
           },
           "mark": {
            "opacity": 0.25,
            "type": "area"
           },
           "transform": [
            {
             "aggregate": [
              {
               "as": "mean",
               "field": "value",
               "op": "mean"
              }
             ],
             "groupby": [
              "height",
              "tower"
             ]
            },
            {
             "as": "low_bound",
             "calculate": "datum.mean - 0.2*datum.mean"
            },
            {
             "as": "up_bound",
             "calculate": "datum.mean + 0.2*datum.mean"
            }
           ]
          },
          {
           "encoding": {
            "color": {
             "field": "tower",
             "type": "nominal"
            },
            "x": {
             "aggregate": "mean",
             "field": "value",
             "sort": "-y",
             "title": "<u'q'> (g/m^2/s)",
             "type": "quantitative"
            },
            "y": {
             "field": "height",
             "scale": {
              "zero": true
             },
             "title": "height (m)",
             "type": "quantitative"
            }
           },
           "mark": {
            "type": "line"
           },
           "title": [
            "All data",
            "(n = 23)"
           ]
          }
         ],
         "width": 150
        }
       ]
      },
      "text/plain": [
       "<VegaLite 5 object>\n",
       "\n",
       "If you see this message, it means the renderer has not been properly enabled\n",
       "for the frontend that you are using. For more information, see\n",
       "https://altair-viz.github.io/user_guide/display_frontends.html#troubleshooting\n"
      ]
     },
     "execution_count": 86,
     "metadata": {},
     "output_type": "execute_result"
    }
   ],
   "source": [
    "def filter_to_case_study(df):\n",
    "    return df[\n",
    "        (df.time > \"2022-12-21 1800\")\n",
    "        &\n",
    "        (df.time < \"2022-12-22 0600\")\n",
    "    ]\n",
    "\n",
    "\n",
    "profile_chart(filter_to_case_study(w_measurements_df.query(\"height > 1\")), \"All data\", '<w> (m/s)') | \\\n",
    "profile_chart(filter_to_case_study(tke_measurements_df.query(\"height > 1\")), \"All data\", 'tke (m^2/s^2)') | \\\n",
    "profile_chart(filter_to_case_study(w_w__measurements_df.query(\"height > 1\")), \"All data\", \"<w'w'> (m^2/s^2)\") | \\\n",
    "profile_chart(filter_to_case_study(q_measurements_df.query(\"height > 1\")), \"All data\", '<q> (m/s)') | \\\n",
    "lhflux_profile_chart(filter_to_case_study(lhflux_measurements_df.query(\"tower == 'c'\").query(\"height > 1\")), \"All data\") | \\\n",
    "profile_chart(filter_to_case_study(lateral_lhflux_measurements_df.query(\"height > 1\")),  \"All data\",         \"<u'q'> (g/m^2/s)\")"
   ]
  },
  {
   "cell_type": "code",
   "execution_count": 88,
   "metadata": {},
   "outputs": [
    {
     "data": {
      "application/vnd.vegalite.v5+json": {
       "$schema": "https://vega.github.io/schema/vega-lite/v5.17.0.json",
       "config": {
        "view": {
         "continuousHeight": 300,
         "continuousWidth": 300
        }
       },
       "hconcat": [
        {
         "data": {
          "format": {
           "type": "json"
          },
          "url": "altair-data-dc12651da159864763d14f8474055fbd.json"
         },
         "height": 150,
         "layer": [
          {
           "encoding": {
            "color": {
             "field": "tower",
             "type": "nominal"
            },
            "x": {
             "field": "low_bound",
             "title": "",
             "type": "quantitative"
            },
            "x2": {
             "field": "up_bound"
            },
            "y": {
             "field": "height",
             "scale": {
              "zero": true
             },
             "title": "height (m)",
             "type": "quantitative"
            }
           },
           "mark": {
            "opacity": 0.25,
            "type": "area"
           },
           "transform": [
            {
             "aggregate": [
              {
               "as": "mean",
               "field": "value",
               "op": "mean"
              }
             ],
             "groupby": [
              "height",
              "tower"
             ]
            },
            {
             "as": "low_bound",
             "calculate": "datum.mean - 0.2*datum.mean"
            },
            {
             "as": "up_bound",
             "calculate": "datum.mean + 0.2*datum.mean"
            }
           ]
          },
          {
           "encoding": {
            "color": {
             "field": "tower",
             "type": "nominal"
            },
            "x": {
             "aggregate": "mean",
             "field": "value",
             "sort": "-y",
             "title": "<w> (m/s)",
             "type": "quantitative"
            },
            "y": {
             "field": "height",
             "scale": {
              "zero": true
             },
             "title": "height (m)",
             "type": "quantitative"
            }
           },
           "mark": {
            "type": "line"
           },
           "title": [
            "All data",
            "(n = 23)"
           ]
          }
         ],
         "width": 150
        },
        {
         "data": {
          "format": {
           "type": "json"
          },
          "url": "altair-data-cdbace0b84960df3a6b282788c9a8221.json"
         },
         "height": 150,
         "layer": [
          {
           "encoding": {
            "color": {
             "field": "tower",
             "type": "nominal"
            },
            "x": {
             "field": "low_bound",
             "title": "",
             "type": "quantitative"
            },
            "x2": {
             "field": "up_bound"
            },
            "y": {
             "field": "height",
             "scale": {
              "zero": true
             },
             "title": "height (m)",
             "type": "quantitative"
            }
           },
           "mark": {
            "opacity": 0.25,
            "type": "area"
           },
           "transform": [
            {
             "aggregate": [
              {
               "as": "mean",
               "field": "value",
               "op": "mean"
              }
             ],
             "groupby": [
              "height",
              "tower"
             ]
            },
            {
             "as": "low_bound",
             "calculate": "datum.mean - 0.2*datum.mean"
            },
            {
             "as": "up_bound",
             "calculate": "datum.mean + 0.2*datum.mean"
            }
           ]
          },
          {
           "encoding": {
            "color": {
             "field": "tower",
             "type": "nominal"
            },
            "x": {
             "aggregate": "mean",
             "field": "value",
             "sort": "-y",
             "title": "tke (m^2/s^2)",
             "type": "quantitative"
            },
            "y": {
             "field": "height",
             "scale": {
              "zero": true
             },
             "title": "height (m)",
             "type": "quantitative"
            }
           },
           "mark": {
            "type": "line"
           },
           "title": [
            "All data",
            "(n = 23)"
           ]
          }
         ],
         "width": 150
        },
        {
         "data": {
          "format": {
           "type": "json"
          },
          "url": "altair-data-4cfdeb34c3b5891ec73536a7a138ce1b.json"
         },
         "height": 150,
         "layer": [
          {
           "encoding": {
            "color": {
             "field": "tower",
             "type": "nominal"
            },
            "x": {
             "field": "low_bound",
             "title": "",
             "type": "quantitative"
            },
            "x2": {
             "field": "up_bound"
            },
            "y": {
             "field": "height",
             "scale": {
              "zero": true
             },
             "title": "height (m)",
             "type": "quantitative"
            }
           },
           "mark": {
            "opacity": 0.25,
            "type": "area"
           },
           "transform": [
            {
             "aggregate": [
              {
               "as": "mean",
               "field": "value",
               "op": "mean"
              }
             ],
             "groupby": [
              "height",
              "tower"
             ]
            },
            {
             "as": "low_bound",
             "calculate": "datum.mean - 0.2*datum.mean"
            },
            {
             "as": "up_bound",
             "calculate": "datum.mean + 0.2*datum.mean"
            }
           ]
          },
          {
           "encoding": {
            "color": {
             "field": "tower",
             "type": "nominal"
            },
            "x": {
             "aggregate": "mean",
             "field": "value",
             "sort": "-y",
             "title": "<w'w'> (m^2/s^2)",
             "type": "quantitative"
            },
            "y": {
             "field": "height",
             "scale": {
              "zero": true
             },
             "title": "height (m)",
             "type": "quantitative"
            }
           },
           "mark": {
            "type": "line"
           },
           "title": [
            "All data",
            "(n = 23)"
           ]
          }
         ],
         "width": 150
        },
        {
         "data": {
          "format": {
           "type": "json"
          },
          "url": "altair-data-a834dd9d1154a880f183380fc1ecdb93.json"
         },
         "height": 150,
         "layer": [
          {
           "encoding": {
            "color": {
             "field": "tower",
             "type": "nominal"
            },
            "x": {
             "field": "low_bound",
             "title": "",
             "type": "quantitative"
            },
            "x2": {
             "field": "up_bound"
            },
            "y": {
             "field": "height",
             "scale": {
              "zero": true
             },
             "title": "height (m)",
             "type": "quantitative"
            }
           },
           "mark": {
            "opacity": 0.25,
            "type": "area"
           },
           "transform": [
            {
             "aggregate": [
              {
               "as": "mean",
               "field": "value",
               "op": "mean"
              }
             ],
             "groupby": [
              "height",
              "tower"
             ]
            },
            {
             "as": "low_bound",
             "calculate": "datum.mean - 0.2*datum.mean"
            },
            {
             "as": "up_bound",
             "calculate": "datum.mean + 0.2*datum.mean"
            }
           ]
          },
          {
           "encoding": {
            "color": {
             "field": "tower",
             "type": "nominal"
            },
            "x": {
             "aggregate": "mean",
             "field": "value",
             "sort": "-y",
             "title": "<q> (m/s)",
             "type": "quantitative"
            },
            "y": {
             "field": "height",
             "scale": {
              "zero": true
             },
             "title": "height (m)",
             "type": "quantitative"
            }
           },
           "mark": {
            "type": "line"
           },
           "title": [
            "All data",
            "(n = 23)"
           ]
          }
         ],
         "width": 150
        },
        {
         "data": {
          "format": {
           "type": "json"
          },
          "url": "altair-data-fe616131a643a221696ee1299a79a1b7.json"
         },
         "height": 150,
         "layer": [
          {
           "encoding": {
            "color": {
             "field": "tower",
             "type": "nominal"
            },
            "x": {
             "field": "low_bound",
             "title": "",
             "type": "quantitative"
            },
            "x2": {
             "field": "up_bound"
            },
            "y": {
             "field": "height",
             "scale": {
              "zero": true
             },
             "title": "height (m)",
             "type": "quantitative"
            }
           },
           "mark": {
            "opacity": 0.25,
            "type": "area"
           },
           "transform": [
            {
             "aggregate": [
              {
               "as": "mean",
               "field": "value",
               "op": "mean"
              }
             ],
             "groupby": [
              "height",
              "tower"
             ]
            },
            {
             "as": "low_bound",
             "calculate": "datum.mean - 0.2*datum.mean"
            },
            {
             "as": "up_bound",
             "calculate": "datum.mean + 0.2*datum.mean"
            }
           ]
          },
          {
           "encoding": {
            "color": {
             "field": "tower",
             "type": "nominal"
            },
            "x": {
             "aggregate": "mean",
             "field": "value",
             "sort": "-y",
             "title": "<w'q'> (g/m^2/s)",
             "type": "quantitative"
            },
            "y": {
             "field": "height",
             "scale": {
              "zero": true
             },
             "title": "height (m)",
             "type": "quantitative"
            }
           },
           "mark": {
            "type": "line"
           },
           "title": [
            "All data",
            "(n = 23)"
           ]
          }
         ],
         "width": 150
        },
        {
         "data": {
          "format": {
           "type": "json"
          },
          "url": "altair-data-c762f8a6520ef545345483da286e3c53.json"
         },
         "height": 150,
         "layer": [
          {
           "encoding": {
            "color": {
             "field": "tower",
             "type": "nominal"
            },
            "x": {
             "field": "low_bound",
             "title": "",
             "type": "quantitative"
            },
            "x2": {
             "field": "up_bound"
            },
            "y": {
             "field": "height",
             "scale": {
              "zero": true
             },
             "title": "height (m)",
             "type": "quantitative"
            }
           },
           "mark": {
            "opacity": 0.25,
            "type": "area"
           },
           "transform": [
            {
             "aggregate": [
              {
               "as": "mean",
               "field": "value",
               "op": "mean"
              }
             ],
             "groupby": [
              "height",
              "tower"
             ]
            },
            {
             "as": "low_bound",
             "calculate": "datum.mean - 0.2*datum.mean"
            },
            {
             "as": "up_bound",
             "calculate": "datum.mean + 0.2*datum.mean"
            }
           ]
          },
          {
           "encoding": {
            "color": {
             "field": "tower",
             "type": "nominal"
            },
            "x": {
             "aggregate": "mean",
             "field": "value",
             "sort": "-y",
             "title": "<u'q'> (g/m^2/s)",
             "type": "quantitative"
            },
            "y": {
             "field": "height",
             "scale": {
              "zero": true
             },
             "title": "height (m)",
             "type": "quantitative"
            }
           },
           "mark": {
            "type": "line"
           },
           "title": [
            "All data",
            "(n = 23)"
           ]
          }
         ],
         "width": 150
        }
       ]
      },
      "text/plain": [
       "<VegaLite 5 object>\n",
       "\n",
       "If you see this message, it means the renderer has not been properly enabled\n",
       "for the frontend that you are using. For more information, see\n",
       "https://altair-viz.github.io/user_guide/display_frontends.html#troubleshooting\n"
      ]
     },
     "execution_count": 88,
     "metadata": {},
     "output_type": "execute_result"
    }
   ],
   "source": [
    "def filter_to_case_study(df):\n",
    "    return df[\n",
    "        (df.time > \"2022-12-12 1800\")\n",
    "        &\n",
    "        (df.time < \"2022-12-13 0600\")\n",
    "    ]\n",
    "\n",
    "\n",
    "profile_chart(filter_to_case_study(w_measurements_df.query(\"height > 1\")), \"All data\", '<w> (m/s)') | \\\n",
    "profile_chart(filter_to_case_study(tke_measurements_df.query(\"height > 1\")), \"All data\", 'tke (m^2/s^2)') | \\\n",
    "profile_chart(filter_to_case_study(w_w__measurements_df.query(\"height > 1\")), \"All data\", \"<w'w'> (m^2/s^2)\") | \\\n",
    "profile_chart(filter_to_case_study(q_measurements_df.query(\"height > 1\")), \"All data\", '<q> (m/s)') | \\\n",
    "lhflux_profile_chart(filter_to_case_study(lhflux_measurements_df.query(\"tower == 'c'\").query(\"height > 1\")), \"All data\") | \\\n",
    "profile_chart(filter_to_case_study(lateral_lhflux_measurements_df.query(\"height > 1\")),  \"All data\",         \"<u'q'> (g/m^2/s)\")"
   ]
  },
  {
   "cell_type": "code",
   "execution_count": 87,
   "metadata": {},
   "outputs": [
    {
     "data": {
      "application/vnd.vegalite.v5+json": {
       "$schema": "https://vega.github.io/schema/vega-lite/v5.17.0.json",
       "config": {
        "view": {
         "continuousHeight": 300,
         "continuousWidth": 300
        }
       },
       "hconcat": [
        {
         "data": {
          "format": {
           "type": "json"
          },
          "url": "altair-data-45c944d09756c3730ed24a63b2f1246e.json"
         },
         "height": 150,
         "layer": [
          {
           "encoding": {
            "color": {
             "field": "tower",
             "type": "nominal"
            },
            "x": {
             "field": "low_bound",
             "title": "",
             "type": "quantitative"
            },
            "x2": {
             "field": "up_bound"
            },
            "y": {
             "field": "height",
             "scale": {
              "zero": true
             },
             "title": "height (m)",
             "type": "quantitative"
            }
           },
           "mark": {
            "opacity": 0.25,
            "type": "area"
           },
           "transform": [
            {
             "aggregate": [
              {
               "as": "mean",
               "field": "value",
               "op": "mean"
              }
             ],
             "groupby": [
              "height",
              "tower"
             ]
            },
            {
             "as": "low_bound",
             "calculate": "datum.mean - 0.2*datum.mean"
            },
            {
             "as": "up_bound",
             "calculate": "datum.mean + 0.2*datum.mean"
            }
           ]
          },
          {
           "encoding": {
            "color": {
             "field": "tower",
             "type": "nominal"
            },
            "x": {
             "aggregate": "mean",
             "field": "value",
             "sort": "-y",
             "title": "<w> (m/s)",
             "type": "quantitative"
            },
            "y": {
             "field": "height",
             "scale": {
              "zero": true
             },
             "title": "height (m)",
             "type": "quantitative"
            }
           },
           "mark": {
            "type": "line"
           },
           "title": [
            "All data",
            "(n = 15)"
           ]
          }
         ],
         "width": 150
        },
        {
         "data": {
          "format": {
           "type": "json"
          },
          "url": "altair-data-9a2f88deaa00cfa016fbb38a85606ec6.json"
         },
         "height": 150,
         "layer": [
          {
           "encoding": {
            "color": {
             "field": "tower",
             "type": "nominal"
            },
            "x": {
             "field": "low_bound",
             "title": "",
             "type": "quantitative"
            },
            "x2": {
             "field": "up_bound"
            },
            "y": {
             "field": "height",
             "scale": {
              "zero": true
             },
             "title": "height (m)",
             "type": "quantitative"
            }
           },
           "mark": {
            "opacity": 0.25,
            "type": "area"
           },
           "transform": [
            {
             "aggregate": [
              {
               "as": "mean",
               "field": "value",
               "op": "mean"
              }
             ],
             "groupby": [
              "height",
              "tower"
             ]
            },
            {
             "as": "low_bound",
             "calculate": "datum.mean - 0.2*datum.mean"
            },
            {
             "as": "up_bound",
             "calculate": "datum.mean + 0.2*datum.mean"
            }
           ]
          },
          {
           "encoding": {
            "color": {
             "field": "tower",
             "type": "nominal"
            },
            "x": {
             "aggregate": "mean",
             "field": "value",
             "sort": "-y",
             "title": "tke (m^2/s^2)",
             "type": "quantitative"
            },
            "y": {
             "field": "height",
             "scale": {
              "zero": true
             },
             "title": "height (m)",
             "type": "quantitative"
            }
           },
           "mark": {
            "type": "line"
           },
           "title": [
            "All data",
            "(n = 15)"
           ]
          }
         ],
         "width": 150
        },
        {
         "data": {
          "format": {
           "type": "json"
          },
          "url": "altair-data-e923eecc94c6a7dd5d0bca0b330df706.json"
         },
         "height": 150,
         "layer": [
          {
           "encoding": {
            "color": {
             "field": "tower",
             "type": "nominal"
            },
            "x": {
             "field": "low_bound",
             "title": "",
             "type": "quantitative"
            },
            "x2": {
             "field": "up_bound"
            },
            "y": {
             "field": "height",
             "scale": {
              "zero": true
             },
             "title": "height (m)",
             "type": "quantitative"
            }
           },
           "mark": {
            "opacity": 0.25,
            "type": "area"
           },
           "transform": [
            {
             "aggregate": [
              {
               "as": "mean",
               "field": "value",
               "op": "mean"
              }
             ],
             "groupby": [
              "height",
              "tower"
             ]
            },
            {
             "as": "low_bound",
             "calculate": "datum.mean - 0.2*datum.mean"
            },
            {
             "as": "up_bound",
             "calculate": "datum.mean + 0.2*datum.mean"
            }
           ]
          },
          {
           "encoding": {
            "color": {
             "field": "tower",
             "type": "nominal"
            },
            "x": {
             "aggregate": "mean",
             "field": "value",
             "sort": "-y",
             "title": "<w'w'> (m^2/s^2)",
             "type": "quantitative"
            },
            "y": {
             "field": "height",
             "scale": {
              "zero": true
             },
             "title": "height (m)",
             "type": "quantitative"
            }
           },
           "mark": {
            "type": "line"
           },
           "title": [
            "All data",
            "(n = 15)"
           ]
          }
         ],
         "width": 150
        },
        {
         "data": {
          "format": {
           "type": "json"
          },
          "url": "altair-data-45c02811b6a1e4dd2c3c33ac1b89eb89.json"
         },
         "height": 150,
         "layer": [
          {
           "encoding": {
            "color": {
             "field": "tower",
             "type": "nominal"
            },
            "x": {
             "field": "low_bound",
             "title": "",
             "type": "quantitative"
            },
            "x2": {
             "field": "up_bound"
            },
            "y": {
             "field": "height",
             "scale": {
              "zero": true
             },
             "title": "height (m)",
             "type": "quantitative"
            }
           },
           "mark": {
            "opacity": 0.25,
            "type": "area"
           },
           "transform": [
            {
             "aggregate": [
              {
               "as": "mean",
               "field": "value",
               "op": "mean"
              }
             ],
             "groupby": [
              "height",
              "tower"
             ]
            },
            {
             "as": "low_bound",
             "calculate": "datum.mean - 0.2*datum.mean"
            },
            {
             "as": "up_bound",
             "calculate": "datum.mean + 0.2*datum.mean"
            }
           ]
          },
          {
           "encoding": {
            "color": {
             "field": "tower",
             "type": "nominal"
            },
            "x": {
             "aggregate": "mean",
             "field": "value",
             "sort": "-y",
             "title": "<q> (m/s)",
             "type": "quantitative"
            },
            "y": {
             "field": "height",
             "scale": {
              "zero": true
             },
             "title": "height (m)",
             "type": "quantitative"
            }
           },
           "mark": {
            "type": "line"
           },
           "title": [
            "All data",
            "(n = 15)"
           ]
          }
         ],
         "width": 150
        },
        {
         "data": {
          "format": {
           "type": "json"
          },
          "url": "altair-data-f715e09513bca2fcad3a326bd17b6454.json"
         },
         "height": 150,
         "layer": [
          {
           "encoding": {
            "color": {
             "field": "tower",
             "type": "nominal"
            },
            "x": {
             "field": "low_bound",
             "title": "",
             "type": "quantitative"
            },
            "x2": {
             "field": "up_bound"
            },
            "y": {
             "field": "height",
             "scale": {
              "zero": true
             },
             "title": "height (m)",
             "type": "quantitative"
            }
           },
           "mark": {
            "opacity": 0.25,
            "type": "area"
           },
           "transform": [
            {
             "aggregate": [
              {
               "as": "mean",
               "field": "value",
               "op": "mean"
              }
             ],
             "groupby": [
              "height",
              "tower"
             ]
            },
            {
             "as": "low_bound",
             "calculate": "datum.mean - 0.2*datum.mean"
            },
            {
             "as": "up_bound",
             "calculate": "datum.mean + 0.2*datum.mean"
            }
           ]
          },
          {
           "encoding": {
            "color": {
             "field": "tower",
             "type": "nominal"
            },
            "x": {
             "aggregate": "mean",
             "field": "value",
             "sort": "-y",
             "title": "<w'q'> (g/m^2/s)",
             "type": "quantitative"
            },
            "y": {
             "field": "height",
             "scale": {
              "zero": true
             },
             "title": "height (m)",
             "type": "quantitative"
            }
           },
           "mark": {
            "type": "line"
           },
           "title": [
            "All data",
            "(n = 15)"
           ]
          }
         ],
         "width": 150
        },
        {
         "data": {
          "format": {
           "type": "json"
          },
          "url": "altair-data-3894b4ba9e330688687e9bee16d3da09.json"
         },
         "height": 150,
         "layer": [
          {
           "encoding": {
            "color": {
             "field": "tower",
             "type": "nominal"
            },
            "x": {
             "field": "low_bound",
             "title": "",
             "type": "quantitative"
            },
            "x2": {
             "field": "up_bound"
            },
            "y": {
             "field": "height",
             "scale": {
              "zero": true
             },
             "title": "height (m)",
             "type": "quantitative"
            }
           },
           "mark": {
            "opacity": 0.25,
            "type": "area"
           },
           "transform": [
            {
             "aggregate": [
              {
               "as": "mean",
               "field": "value",
               "op": "mean"
              }
             ],
             "groupby": [
              "height",
              "tower"
             ]
            },
            {
             "as": "low_bound",
             "calculate": "datum.mean - 0.2*datum.mean"
            },
            {
             "as": "up_bound",
             "calculate": "datum.mean + 0.2*datum.mean"
            }
           ]
          },
          {
           "encoding": {
            "color": {
             "field": "tower",
             "type": "nominal"
            },
            "x": {
             "aggregate": "mean",
             "field": "value",
             "sort": "-y",
             "title": "<u'q'> (g/m^2/s)",
             "type": "quantitative"
            },
            "y": {
             "field": "height",
             "scale": {
              "zero": true
             },
             "title": "height (m)",
             "type": "quantitative"
            }
           },
           "mark": {
            "type": "line"
           },
           "title": [
            "All data",
            "(n = 15)"
           ]
          }
         ],
         "width": 150
        }
       ]
      },
      "text/plain": [
       "<VegaLite 5 object>\n",
       "\n",
       "If you see this message, it means the renderer has not been properly enabled\n",
       "for the frontend that you are using. For more information, see\n",
       "https://altair-viz.github.io/user_guide/display_frontends.html#troubleshooting\n"
      ]
     },
     "execution_count": 87,
     "metadata": {},
     "output_type": "execute_result"
    }
   ],
   "source": [
    "def filter_to_case_study(df):\n",
    "    return df[\n",
    "        (df.time > \"2023-03-28 0900\")\n",
    "        &\n",
    "        (df.time < \"2023-03-28 1700\")\n",
    "    ]\n",
    "\n",
    "\n",
    "profile_chart(filter_to_case_study(w_measurements_df.query(\"height > 1\")), \"All data\", '<w> (m/s)') | \\\n",
    "profile_chart(filter_to_case_study(tke_measurements_df.query(\"height > 1\")), \"All data\", 'tke (m^2/s^2)') | \\\n",
    "profile_chart(filter_to_case_study(w_w__measurements_df.query(\"height > 1\")), \"All data\", \"<w'w'> (m^2/s^2)\") | \\\n",
    "profile_chart(filter_to_case_study(q_measurements_df.query(\"height > 1\")), \"All data\", '<q> (m/s)') | \\\n",
    "lhflux_profile_chart(filter_to_case_study(lhflux_measurements_df.query(\"tower == 'c'\").query(\"height > 1\")), \"All data\") | \\\n",
    "profile_chart(filter_to_case_study(lateral_lhflux_measurements_df.query(\"height > 1\")),  \"All data\",         \"<u'q'> (g/m^2/s)\")"
   ]
  },
  {
   "cell_type": "code",
   "execution_count": 89,
   "metadata": {},
   "outputs": [
    {
     "data": {
      "application/vnd.vegalite.v5+json": {
       "$schema": "https://vega.github.io/schema/vega-lite/v5.17.0.json",
       "config": {
        "view": {
         "continuousHeight": 300,
         "continuousWidth": 300
        }
       },
       "hconcat": [
        {
         "data": {
          "format": {
           "type": "json"
          },
          "url": "altair-data-aba6edb0df419f111f17d84380af45f7.json"
         },
         "height": 150,
         "layer": [
          {
           "encoding": {
            "color": {
             "field": "tower",
             "type": "nominal"
            },
            "x": {
             "field": "low_bound",
             "title": "",
             "type": "quantitative"
            },
            "x2": {
             "field": "up_bound"
            },
            "y": {
             "field": "height",
             "scale": {
              "zero": true
             },
             "title": "height (m)",
             "type": "quantitative"
            }
           },
           "mark": {
            "opacity": 0.25,
            "type": "area"
           },
           "transform": [
            {
             "aggregate": [
              {
               "as": "mean",
               "field": "value",
               "op": "mean"
              }
             ],
             "groupby": [
              "height",
              "tower"
             ]
            },
            {
             "as": "low_bound",
             "calculate": "datum.mean - 0.2*datum.mean"
            },
            {
             "as": "up_bound",
             "calculate": "datum.mean + 0.2*datum.mean"
            }
           ]
          },
          {
           "encoding": {
            "color": {
             "field": "tower",
             "type": "nominal"
            },
            "x": {
             "aggregate": "mean",
             "field": "value",
             "sort": "-y",
             "title": "<w> (m/s)",
             "type": "quantitative"
            },
            "y": {
             "field": "height",
             "scale": {
              "zero": true
             },
             "title": "height (m)",
             "type": "quantitative"
            }
           },
           "mark": {
            "type": "line"
           },
           "title": [
            "All data",
            "(n = 15)"
           ]
          }
         ],
         "width": 150
        },
        {
         "data": {
          "format": {
           "type": "json"
          },
          "url": "altair-data-9434538dd74297d492877e2d4b01ba93.json"
         },
         "height": 150,
         "layer": [
          {
           "encoding": {
            "color": {
             "field": "tower",
             "type": "nominal"
            },
            "x": {
             "field": "low_bound",
             "title": "",
             "type": "quantitative"
            },
            "x2": {
             "field": "up_bound"
            },
            "y": {
             "field": "height",
             "scale": {
              "zero": true
             },
             "title": "height (m)",
             "type": "quantitative"
            }
           },
           "mark": {
            "opacity": 0.25,
            "type": "area"
           },
           "transform": [
            {
             "aggregate": [
              {
               "as": "mean",
               "field": "value",
               "op": "mean"
              }
             ],
             "groupby": [
              "height",
              "tower"
             ]
            },
            {
             "as": "low_bound",
             "calculate": "datum.mean - 0.2*datum.mean"
            },
            {
             "as": "up_bound",
             "calculate": "datum.mean + 0.2*datum.mean"
            }
           ]
          },
          {
           "encoding": {
            "color": {
             "field": "tower",
             "type": "nominal"
            },
            "x": {
             "aggregate": "mean",
             "field": "value",
             "sort": "-y",
             "title": "tke (m^2/s^2)",
             "type": "quantitative"
            },
            "y": {
             "field": "height",
             "scale": {
              "zero": true
             },
             "title": "height (m)",
             "type": "quantitative"
            }
           },
           "mark": {
            "type": "line"
           },
           "title": [
            "All data",
            "(n = 15)"
           ]
          }
         ],
         "width": 150
        },
        {
         "data": {
          "format": {
           "type": "json"
          },
          "url": "altair-data-9bc44431c2760a10efea03d4adc6733e.json"
         },
         "height": 150,
         "layer": [
          {
           "encoding": {
            "color": {
             "field": "tower",
             "type": "nominal"
            },
            "x": {
             "field": "low_bound",
             "title": "",
             "type": "quantitative"
            },
            "x2": {
             "field": "up_bound"
            },
            "y": {
             "field": "height",
             "scale": {
              "zero": true
             },
             "title": "height (m)",
             "type": "quantitative"
            }
           },
           "mark": {
            "opacity": 0.25,
            "type": "area"
           },
           "transform": [
            {
             "aggregate": [
              {
               "as": "mean",
               "field": "value",
               "op": "mean"
              }
             ],
             "groupby": [
              "height",
              "tower"
             ]
            },
            {
             "as": "low_bound",
             "calculate": "datum.mean - 0.2*datum.mean"
            },
            {
             "as": "up_bound",
             "calculate": "datum.mean + 0.2*datum.mean"
            }
           ]
          },
          {
           "encoding": {
            "color": {
             "field": "tower",
             "type": "nominal"
            },
            "x": {
             "aggregate": "mean",
             "field": "value",
             "sort": "-y",
             "title": "<w'w'> (m^2/s^2)",
             "type": "quantitative"
            },
            "y": {
             "field": "height",
             "scale": {
              "zero": true
             },
             "title": "height (m)",
             "type": "quantitative"
            }
           },
           "mark": {
            "type": "line"
           },
           "title": [
            "All data",
            "(n = 15)"
           ]
          }
         ],
         "width": 150
        },
        {
         "data": {
          "format": {
           "type": "json"
          },
          "url": "altair-data-775701b99681c984d7371eae64d8640e.json"
         },
         "height": 150,
         "layer": [
          {
           "encoding": {
            "color": {
             "field": "tower",
             "type": "nominal"
            },
            "x": {
             "field": "low_bound",
             "title": "",
             "type": "quantitative"
            },
            "x2": {
             "field": "up_bound"
            },
            "y": {
             "field": "height",
             "scale": {
              "zero": true
             },
             "title": "height (m)",
             "type": "quantitative"
            }
           },
           "mark": {
            "opacity": 0.25,
            "type": "area"
           },
           "transform": [
            {
             "aggregate": [
              {
               "as": "mean",
               "field": "value",
               "op": "mean"
              }
             ],
             "groupby": [
              "height",
              "tower"
             ]
            },
            {
             "as": "low_bound",
             "calculate": "datum.mean - 0.2*datum.mean"
            },
            {
             "as": "up_bound",
             "calculate": "datum.mean + 0.2*datum.mean"
            }
           ]
          },
          {
           "encoding": {
            "color": {
             "field": "tower",
             "type": "nominal"
            },
            "x": {
             "aggregate": "mean",
             "field": "value",
             "sort": "-y",
             "title": "<q> (m/s)",
             "type": "quantitative"
            },
            "y": {
             "field": "height",
             "scale": {
              "zero": true
             },
             "title": "height (m)",
             "type": "quantitative"
            }
           },
           "mark": {
            "type": "line"
           },
           "title": [
            "All data",
            "(n = 15)"
           ]
          }
         ],
         "width": 150
        },
        {
         "data": {
          "format": {
           "type": "json"
          },
          "url": "altair-data-42af8990d6d5fd2f6caa3368013e34d5.json"
         },
         "height": 150,
         "layer": [
          {
           "encoding": {
            "color": {
             "field": "tower",
             "type": "nominal"
            },
            "x": {
             "field": "low_bound",
             "title": "",
             "type": "quantitative"
            },
            "x2": {
             "field": "up_bound"
            },
            "y": {
             "field": "height",
             "scale": {
              "zero": true
             },
             "title": "height (m)",
             "type": "quantitative"
            }
           },
           "mark": {
            "opacity": 0.25,
            "type": "area"
           },
           "transform": [
            {
             "aggregate": [
              {
               "as": "mean",
               "field": "value",
               "op": "mean"
              }
             ],
             "groupby": [
              "height",
              "tower"
             ]
            },
            {
             "as": "low_bound",
             "calculate": "datum.mean - 0.2*datum.mean"
            },
            {
             "as": "up_bound",
             "calculate": "datum.mean + 0.2*datum.mean"
            }
           ]
          },
          {
           "encoding": {
            "color": {
             "field": "tower",
             "type": "nominal"
            },
            "x": {
             "aggregate": "mean",
             "field": "value",
             "sort": "-y",
             "title": "<w'q'> (g/m^2/s)",
             "type": "quantitative"
            },
            "y": {
             "field": "height",
             "scale": {
              "zero": true
             },
             "title": "height (m)",
             "type": "quantitative"
            }
           },
           "mark": {
            "type": "line"
           },
           "title": [
            "All data",
            "(n = 15)"
           ]
          }
         ],
         "width": 150
        },
        {
         "data": {
          "format": {
           "type": "json"
          },
          "url": "altair-data-79b0b94fd38273d360b322558cedd72e.json"
         },
         "height": 150,
         "layer": [
          {
           "encoding": {
            "color": {
             "field": "tower",
             "type": "nominal"
            },
            "x": {
             "field": "low_bound",
             "title": "",
             "type": "quantitative"
            },
            "x2": {
             "field": "up_bound"
            },
            "y": {
             "field": "height",
             "scale": {
              "zero": true
             },
             "title": "height (m)",
             "type": "quantitative"
            }
           },
           "mark": {
            "opacity": 0.25,
            "type": "area"
           },
           "transform": [
            {
             "aggregate": [
              {
               "as": "mean",
               "field": "value",
               "op": "mean"
              }
             ],
             "groupby": [
              "height",
              "tower"
             ]
            },
            {
             "as": "low_bound",
             "calculate": "datum.mean - 0.2*datum.mean"
            },
            {
             "as": "up_bound",
             "calculate": "datum.mean + 0.2*datum.mean"
            }
           ]
          },
          {
           "encoding": {
            "color": {
             "field": "tower",
             "type": "nominal"
            },
            "x": {
             "aggregate": "mean",
             "field": "value",
             "sort": "-y",
             "title": "<u'q'> (g/m^2/s)",
             "type": "quantitative"
            },
            "y": {
             "field": "height",
             "scale": {
              "zero": true
             },
             "title": "height (m)",
             "type": "quantitative"
            }
           },
           "mark": {
            "type": "line"
           },
           "title": [
            "All data",
            "(n = 15)"
           ]
          }
         ],
         "width": 150
        }
       ]
      },
      "text/plain": [
       "<VegaLite 5 object>\n",
       "\n",
       "If you see this message, it means the renderer has not been properly enabled\n",
       "for the frontend that you are using. For more information, see\n",
       "https://altair-viz.github.io/user_guide/display_frontends.html#troubleshooting\n"
      ]
     },
     "execution_count": 89,
     "metadata": {},
     "output_type": "execute_result"
    }
   ],
   "source": [
    "def filter_to_case_study(df):\n",
    "    return df[\n",
    "        (df.time > \"2023-05-05 0900\")\n",
    "        &\n",
    "        (df.time < \"2023-05-05 1700\")\n",
    "    ]\n",
    "\n",
    "\n",
    "profile_chart(filter_to_case_study(w_measurements_df.query(\"height > 1\")), \"All data\", '<w> (m/s)') | \\\n",
    "profile_chart(filter_to_case_study(tke_measurements_df.query(\"height > 1\")), \"All data\", 'tke (m^2/s^2)') | \\\n",
    "profile_chart(filter_to_case_study(w_w__measurements_df.query(\"height > 1\")), \"All data\", \"<w'w'> (m^2/s^2)\") | \\\n",
    "profile_chart(filter_to_case_study(q_measurements_df.query(\"height > 1\")), \"All data\", '<q> (m/s)') | \\\n",
    "lhflux_profile_chart(filter_to_case_study(lhflux_measurements_df.query(\"tower == 'c'\").query(\"height > 1\")), \"All data\") | \\\n",
    "profile_chart(filter_to_case_study(lateral_lhflux_measurements_df.query(\"height > 1\")),  \"All data\",         \"<u'q'> (g/m^2/s)\")"
   ]
  },
  {
   "cell_type": "markdown",
   "metadata": {},
   "source": [
    "# Plot vertical fluxes many different ways"
   ]
  },
  {
   "cell_type": "code",
   "execution_count": 14,
   "metadata": {},
   "outputs": [],
   "source": [
    "rule = alt.Chart().transform_calculate(rule='0').mark_rule().encode(x='rule:Q')"
   ]
  },
  {
   "cell_type": "code",
   "execution_count": 15,
   "metadata": {},
   "outputs": [
    {
     "data": {
      "application/vnd.vegalite.v5+json": {
       "$schema": "https://vega.github.io/schema/vega-lite/v5.17.0.json",
       "config": {
        "view": {
         "continuousHeight": 300,
         "continuousWidth": 300
        }
       },
       "datasets": {
        "empty": [
         {}
        ]
       },
       "hconcat": [
        {
         "height": 150,
         "layer": [
          {
           "data": {
            "name": "empty"
           },
           "encoding": {
            "x": {
             "field": "rule",
             "type": "quantitative"
            }
           },
           "mark": {
            "type": "rule"
           },
           "transform": [
            {
             "as": "rule",
             "calculate": "0"
            }
           ]
          },
          {
           "data": {
            "format": {
             "type": "json"
            },
            "url": "altair-data-d04ad4338ca42c165af35e0a84b2ce5f.json"
           },
           "layer": [
            {
             "encoding": {
              "color": {
               "field": "tower",
               "type": "nominal"
              },
              "x": {
               "field": "low_bound",
               "title": "",
               "type": "quantitative"
              },
              "x2": {
               "field": "up_bound"
              },
              "y": {
               "field": "height",
               "scale": {
                "zero": true
               },
               "title": "height (m)",
               "type": "quantitative"
              }
             },
             "mark": {
              "opacity": 0.25,
              "type": "area"
             },
             "transform": [
              {
               "aggregate": [
                {
                 "as": "mean",
                 "field": "value",
                 "op": "mean"
                }
               ],
               "groupby": [
                "height",
                "tower"
               ]
              },
              {
               "as": "low_bound",
               "calculate": "datum.mean - 0.2*datum.mean"
              },
              {
               "as": "up_bound",
               "calculate": "datum.mean + 0.2*datum.mean"
              }
             ]
            },
            {
             "encoding": {
              "color": {
               "field": "tower",
               "type": "nominal"
              },
              "x": {
               "aggregate": "mean",
               "field": "value",
               "sort": "-y",
               "title": "<w'q'> (g/m^2/s)",
               "type": "quantitative"
              },
              "y": {
               "field": "height",
               "scale": {
                "zero": true
               },
               "title": "height (m)",
               "type": "quantitative"
              }
             },
             "mark": {
              "type": "line"
             },
             "title": [
              "Unstable",
              "(n = 286)"
             ]
            }
           ]
          }
         ],
         "width": 150
        },
        {
         "height": 150,
         "layer": [
          {
           "data": {
            "name": "empty"
           },
           "encoding": {
            "x": {
             "field": "rule",
             "type": "quantitative"
            }
           },
           "mark": {
            "type": "rule"
           },
           "transform": [
            {
             "as": "rule",
             "calculate": "0"
            }
           ]
          },
          {
           "data": {
            "format": {
             "type": "json"
            },
            "url": "altair-data-20a087ed6bbdbc1c0ddd332707317436.json"
           },
           "layer": [
            {
             "encoding": {
              "color": {
               "field": "tower",
               "type": "nominal"
              },
              "x": {
               "field": "low_bound",
               "title": "",
               "type": "quantitative"
              },
              "x2": {
               "field": "up_bound"
              },
              "y": {
               "field": "height",
               "scale": {
                "zero": true
               },
               "title": "height (m)",
               "type": "quantitative"
              }
             },
             "mark": {
              "opacity": 0.25,
              "type": "area"
             },
             "transform": [
              {
               "aggregate": [
                {
                 "as": "mean",
                 "field": "value",
                 "op": "mean"
                }
               ],
               "groupby": [
                "height",
                "tower"
               ]
              },
              {
               "as": "low_bound",
               "calculate": "datum.mean - 0.2*datum.mean"
              },
              {
               "as": "up_bound",
               "calculate": "datum.mean + 0.2*datum.mean"
              }
             ]
            },
            {
             "encoding": {
              "color": {
               "field": "tower",
               "type": "nominal"
              },
              "x": {
               "aggregate": "mean",
               "field": "value",
               "sort": "-y",
               "title": "<w'q'> (g/m^2/s)",
               "type": "quantitative"
              },
              "y": {
               "field": "height",
               "scale": {
                "zero": true
               },
               "title": "height (m)",
               "type": "quantitative"
              }
             },
             "mark": {
              "type": "line"
             },
             "title": [
              "Unstable, BS",
              "(n = 59)"
             ]
            }
           ]
          }
         ],
         "width": 150
        },
        {
         "height": 150,
         "layer": [
          {
           "data": {
            "name": "empty"
           },
           "encoding": {
            "x": {
             "field": "rule",
             "type": "quantitative"
            }
           },
           "mark": {
            "type": "rule"
           },
           "transform": [
            {
             "as": "rule",
             "calculate": "0"
            }
           ]
          },
          {
           "data": {
            "format": {
             "type": "json"
            },
            "url": "altair-data-fe2c178c3fcb7e69624b3463615337e3.json"
           },
           "layer": [
            {
             "encoding": {
              "color": {
               "field": "tower",
               "type": "nominal"
              },
              "x": {
               "field": "low_bound",
               "title": "",
               "type": "quantitative"
              },
              "x2": {
               "field": "up_bound"
              },
              "y": {
               "field": "height",
               "scale": {
                "zero": true
               },
               "title": "height (m)",
               "type": "quantitative"
              }
             },
             "mark": {
              "opacity": 0.25,
              "type": "area"
             },
             "transform": [
              {
               "aggregate": [
                {
                 "as": "mean",
                 "field": "value",
                 "op": "mean"
                }
               ],
               "groupby": [
                "height",
                "tower"
               ]
              },
              {
               "as": "low_bound",
               "calculate": "datum.mean - 0.2*datum.mean"
              },
              {
               "as": "up_bound",
               "calculate": "datum.mean + 0.2*datum.mean"
              }
             ]
            },
            {
             "encoding": {
              "color": {
               "field": "tower",
               "type": "nominal"
              },
              "x": {
               "aggregate": "mean",
               "field": "value",
               "sort": "-y",
               "title": "<w'q'> (g/m^2/s)",
               "type": "quantitative"
              },
              "y": {
               "field": "height",
               "scale": {
                "zero": true
               },
               "title": "height (m)",
               "type": "quantitative"
              }
             },
             "mark": {
              "type": "line"
             },
             "title": [
              "Unstable, no BS",
              "(n = 227)"
             ]
            }
           ]
          }
         ],
         "width": 150
        }
       ],
       "resolve": {
        "scale": {
         "x": "shared",
         "y": "shared"
        }
       }
      },
      "text/plain": [
       "<VegaLite 5 object>\n",
       "\n",
       "If you see this message, it means the renderer has not been properly enabled\n",
       "for the frontend that you are using. For more information, see\n",
       "https://altair-viz.github.io/user_guide/display_frontends.html#troubleshooting\n"
      ]
     },
     "execution_count": 15,
     "metadata": {},
     "output_type": "execute_result"
    }
   ],
   "source": [
    "tgrad_unstable_df_during_bs = tgrad_unstable_df[tgrad_unstable_df.time.isin(bs_times)]\n",
    "tgrad_unstable_df_during_nobs = tgrad_unstable_df[~tgrad_unstable_df.time.isin(bs_times)]\n",
    "\n",
    "(\n",
    "        rule + lhflux_profile_chart(tgrad_unstable_df.query(\"tower == 'c'\").query(\"height > 1\"), \"Unstable\") |\n",
    "        rule + lhflux_profile_chart(tgrad_unstable_df_during_bs.query(\"tower == 'c'\").query(\"height > 1\"), \"Unstable, BS\") |\n",
    "        rule + lhflux_profile_chart(tgrad_unstable_df_during_nobs.query(\"tower == 'c'\").query(\"height > 1\"), \"Unstable, no BS\")\n",
    ").resolve_scale(x='shared', y='shared')"
   ]
  },
  {
   "cell_type": "code",
   "execution_count": 16,
   "metadata": {},
   "outputs": [
    {
     "data": {
      "application/vnd.vegalite.v5+json": {
       "$schema": "https://vega.github.io/schema/vega-lite/v5.17.0.json",
       "config": {
        "view": {
         "continuousHeight": 300,
         "continuousWidth": 300
        }
       },
       "datasets": {
        "empty": [
         {}
        ]
       },
       "hconcat": [
        {
         "height": 100,
         "layer": [
          {
           "data": {
            "name": "empty"
           },
           "encoding": {
            "x": {
             "field": "rule",
             "type": "quantitative"
            }
           },
           "mark": {
            "type": "rule"
           },
           "transform": [
            {
             "as": "rule",
             "calculate": "0"
            }
           ]
          },
          {
           "data": {
            "format": {
             "type": "json"
            },
            "url": "altair-data-7742cda315640a64bca6bfd58aac4f51.json"
           },
           "layer": [
            {
             "encoding": {
              "color": {
               "field": "tower",
               "type": "nominal"
              },
              "x": {
               "field": "low_bound",
               "title": "",
               "type": "quantitative"
              },
              "x2": {
               "field": "up_bound"
              },
              "y": {
               "field": "height",
               "scale": {
                "zero": true
               },
               "title": "height (m)",
               "type": "quantitative"
              }
             },
             "mark": {
              "opacity": 0.25,
              "type": "area"
             },
             "transform": [
              {
               "aggregate": [
                {
                 "as": "mean",
                 "field": "value",
                 "op": "mean"
                }
               ],
               "groupby": [
                "height",
                "tower"
               ]
              },
              {
               "as": "low_bound",
               "calculate": "datum.mean - 0.2*datum.mean"
              },
              {
               "as": "up_bound",
               "calculate": "datum.mean + 0.2*datum.mean"
              }
             ]
            },
            {
             "encoding": {
              "color": {
               "field": "tower",
               "type": "nominal"
              },
              "x": {
               "aggregate": "mean",
               "field": "value",
               "sort": "-y",
               "title": "<w'q'> (g/m^2/s)",
               "type": "quantitative"
              },
              "y": {
               "field": "height",
               "scale": {
                "zero": true
               },
               "title": "height (m)",
               "type": "quantitative"
              }
             },
             "mark": {
              "type": "line"
             },
             "title": [
              "All data",
              "(n = 7714)"
             ]
            }
           ]
          }
         ],
         "width": 100
        },
        {
         "height": 100,
         "layer": [
          {
           "data": {
            "name": "empty"
           },
           "encoding": {
            "x": {
             "field": "rule",
             "type": "quantitative"
            }
           },
           "mark": {
            "type": "rule"
           },
           "transform": [
            {
             "as": "rule",
             "calculate": "0"
            }
           ]
          },
          {
           "data": {
            "format": {
             "type": "json"
            },
            "url": "altair-data-5aa966f6bb0db062b29a1e0498f2cc0e.json"
           },
           "layer": [
            {
             "encoding": {
              "color": {
               "field": "tower",
               "type": "nominal"
              },
              "x": {
               "field": "low_bound",
               "title": "",
               "type": "quantitative"
              },
              "x2": {
               "field": "up_bound"
              },
              "y": {
               "field": "height",
               "scale": {
                "zero": true
               },
               "title": "height (m)",
               "type": "quantitative"
              }
             },
             "mark": {
              "opacity": 0.25,
              "type": "area"
             },
             "transform": [
              {
               "aggregate": [
                {
                 "as": "mean",
                 "field": "value",
                 "op": "mean"
                }
               ],
               "groupby": [
                "height",
                "tower"
               ]
              },
              {
               "as": "low_bound",
               "calculate": "datum.mean - 0.2*datum.mean"
              },
              {
               "as": "up_bound",
               "calculate": "datum.mean + 0.2*datum.mean"
              }
             ]
            },
            {
             "encoding": {
              "color": {
               "field": "tower",
               "type": "nominal"
              },
              "x": {
               "aggregate": "mean",
               "field": "value",
               "sort": "-y",
               "title": "<w'q'> (g/m^2/s)",
               "type": "quantitative"
              },
              "y": {
               "field": "height",
               "scale": {
                "zero": true
               },
               "title": "height (m)",
               "type": "quantitative"
              }
             },
             "mark": {
              "type": "line"
             },
             "title": [
              "Blowing Snow",
              "(n = 1694)"
             ]
            }
           ]
          }
         ],
         "width": 100
        },
        {
         "height": 100,
         "layer": [
          {
           "data": {
            "name": "empty"
           },
           "encoding": {
            "x": {
             "field": "rule",
             "type": "quantitative"
            }
           },
           "mark": {
            "type": "rule"
           },
           "transform": [
            {
             "as": "rule",
             "calculate": "0"
            }
           ]
          },
          {
           "data": {
            "format": {
             "type": "json"
            },
            "url": "altair-data-6ba6c82fc8e56230f7c3fd45d417c0e6.json"
           },
           "layer": [
            {
             "encoding": {
              "color": {
               "field": "tower",
               "type": "nominal"
              },
              "x": {
               "field": "low_bound",
               "title": "",
               "type": "quantitative"
              },
              "x2": {
               "field": "up_bound"
              },
              "y": {
               "field": "height",
               "scale": {
                "zero": true
               },
               "title": "height (m)",
               "type": "quantitative"
              }
             },
             "mark": {
              "opacity": 0.25,
              "type": "area"
             },
             "transform": [
              {
               "aggregate": [
                {
                 "as": "mean",
                 "field": "value",
                 "op": "mean"
                }
               ],
               "groupby": [
                "height",
                "tower"
               ]
              },
              {
               "as": "low_bound",
               "calculate": "datum.mean - 0.2*datum.mean"
              },
              {
               "as": "up_bound",
               "calculate": "datum.mean + 0.2*datum.mean"
              }
             ]
            },
            {
             "encoding": {
              "color": {
               "field": "tower",
               "type": "nominal"
              },
              "x": {
               "aggregate": "mean",
               "field": "value",
               "sort": "-y",
               "title": "<w'q'> (g/m^2/s)",
               "type": "quantitative"
              },
              "y": {
               "field": "height",
               "scale": {
                "zero": true
               },
               "title": "height (m)",
               "type": "quantitative"
              }
             },
             "mark": {
              "type": "line"
             },
             "title": [
              "No blowing snow",
              "(n = 5998)"
             ]
            }
           ]
          }
         ],
         "width": 100
        },
        {
         "height": 100,
         "layer": [
          {
           "data": {
            "name": "empty"
           },
           "encoding": {
            "x": {
             "field": "rule",
             "type": "quantitative"
            }
           },
           "mark": {
            "type": "rule"
           },
           "transform": [
            {
             "as": "rule",
             "calculate": "0"
            }
           ]
          },
          {
           "data": {
            "format": {
             "type": "json"
            },
            "url": "altair-data-e6cff19411169e1a8a728f98f6525d45.json"
           },
           "layer": [
            {
             "encoding": {
              "color": {
               "field": "tower",
               "type": "nominal"
              },
              "x": {
               "field": "low_bound",
               "title": "",
               "type": "quantitative"
              },
              "x2": {
               "field": "up_bound"
              },
              "y": {
               "field": "height",
               "scale": {
                "zero": true
               },
               "title": "height (m)",
               "type": "quantitative"
              }
             },
             "mark": {
              "opacity": 0.25,
              "type": "area"
             },
             "transform": [
              {
               "aggregate": [
                {
                 "as": "mean",
                 "field": "value",
                 "op": "mean"
                }
               ],
               "groupby": [
                "height",
                "tower"
               ]
              },
              {
               "as": "low_bound",
               "calculate": "datum.mean - 0.2*datum.mean"
              },
              {
               "as": "up_bound",
               "calculate": "datum.mean + 0.2*datum.mean"
              }
             ]
            },
            {
             "encoding": {
              "color": {
               "field": "tower",
               "type": "nominal"
              },
              "x": {
               "aggregate": "mean",
               "field": "value",
               "sort": "-y",
               "title": "<w'q'> (g/m^2/s)",
               "type": "quantitative"
              },
              "y": {
               "field": "height",
               "scale": {
                "zero": true
               },
               "title": "height (m)",
               "type": "quantitative"
              }
             },
             "mark": {
              "type": "line"
             },
             "title": [
              "Stable, no BS",
              "(n = 5447)"
             ]
            }
           ]
          }
         ],
         "width": 100
        },
        {
         "height": 100,
         "layer": [
          {
           "data": {
            "name": "empty"
           },
           "encoding": {
            "x": {
             "field": "rule",
             "type": "quantitative"
            }
           },
           "mark": {
            "type": "rule"
           },
           "transform": [
            {
             "as": "rule",
             "calculate": "0"
            }
           ]
          },
          {
           "data": {
            "format": {
             "type": "json"
            },
            "url": "altair-data-fe2c178c3fcb7e69624b3463615337e3.json"
           },
           "layer": [
            {
             "encoding": {
              "color": {
               "field": "tower",
               "type": "nominal"
              },
              "x": {
               "field": "low_bound",
               "title": "",
               "type": "quantitative"
              },
              "x2": {
               "field": "up_bound"
              },
              "y": {
               "field": "height",
               "scale": {
                "zero": true
               },
               "title": "height (m)",
               "type": "quantitative"
              }
             },
             "mark": {
              "opacity": 0.25,
              "type": "area"
             },
             "transform": [
              {
               "aggregate": [
                {
                 "as": "mean",
                 "field": "value",
                 "op": "mean"
                }
               ],
               "groupby": [
                "height",
                "tower"
               ]
              },
              {
               "as": "low_bound",
               "calculate": "datum.mean - 0.2*datum.mean"
              },
              {
               "as": "up_bound",
               "calculate": "datum.mean + 0.2*datum.mean"
              }
             ]
            },
            {
             "encoding": {
              "color": {
               "field": "tower",
               "type": "nominal"
              },
              "x": {
               "aggregate": "mean",
               "field": "value",
               "sort": "-y",
               "title": "<w'q'> (g/m^2/s)",
               "type": "quantitative"
              },
              "y": {
               "field": "height",
               "scale": {
                "zero": true
               },
               "title": "height (m)",
               "type": "quantitative"
              }
             },
             "mark": {
              "type": "line"
             },
             "title": [
              "Unstable, no BS",
              "(n = 227)"
             ]
            }
           ]
          }
         ],
         "width": 100
        },
        {
         "height": 100,
         "layer": [
          {
           "data": {
            "name": "empty"
           },
           "encoding": {
            "x": {
             "field": "rule",
             "type": "quantitative"
            }
           },
           "mark": {
            "type": "rule"
           },
           "transform": [
            {
             "as": "rule",
             "calculate": "0"
            }
           ]
          },
          {
           "data": {
            "format": {
             "type": "json"
            },
            "url": "altair-data-0c15aea0022d6ff41334ffcb3f02f413.json"
           },
           "layer": [
            {
             "encoding": {
              "color": {
               "field": "tower",
               "type": "nominal"
              },
              "x": {
               "field": "low_bound",
               "title": "",
               "type": "quantitative"
              },
              "x2": {
               "field": "up_bound"
              },
              "y": {
               "field": "height",
               "scale": {
                "zero": true
               },
               "title": "height (m)",
               "type": "quantitative"
              }
             },
             "mark": {
              "opacity": 0.25,
              "type": "area"
             },
             "transform": [
              {
               "aggregate": [
                {
                 "as": "mean",
                 "field": "value",
                 "op": "mean"
                }
               ],
               "groupby": [
                "height",
                "tower"
               ]
              },
              {
               "as": "low_bound",
               "calculate": "datum.mean - 0.2*datum.mean"
              },
              {
               "as": "up_bound",
               "calculate": "datum.mean + 0.2*datum.mean"
              }
             ]
            },
            {
             "encoding": {
              "color": {
               "field": "tower",
               "type": "nominal"
              },
              "x": {
               "aggregate": "mean",
               "field": "value",
               "sort": "-y",
               "title": "<w'q'> (g/m^2/s)",
               "type": "quantitative"
              },
              "y": {
               "field": "height",
               "scale": {
                "zero": true
               },
               "title": "height (m)",
               "type": "quantitative"
              }
             },
             "mark": {
              "type": "line"
             },
             "title": [
              "Neutral, no BS",
              "(n = 326)"
             ]
            }
           ]
          }
         ],
         "width": 100
        }
       ],
       "resolve": {
        "scale": {
         "x": "shared",
         "y": "shared"
        }
       }
      },
      "text/plain": [
       "<VegaLite 5 object>\n",
       "\n",
       "If you see this message, it means the renderer has not been properly enabled\n",
       "for the frontend that you are using. For more information, see\n",
       "https://altair-viz.github.io/user_guide/display_frontends.html#troubleshooting\n"
      ]
     },
     "execution_count": 16,
     "metadata": {},
     "output_type": "execute_result"
    }
   ],
   "source": [
    "tgrad_stable_df_during_nobs = tgrad_stable_df[~tgrad_stable_df.time.isin(bs_times)]\n",
    "tgrad_unstable_df_during_nobs = tgrad_unstable_df[~tgrad_unstable_df.time.isin(bs_times)]\n",
    "tgrad_neutral_df_during_nobs = tgrad_neutral_df[~tgrad_neutral_df.time.isin(bs_times)]\n",
    "\n",
    "(\n",
    "    rule + lhflux_profile_chart(lhflux_measurements_df.query(\"height > 1\").query(\"tower == 'c'\"), \"All data\").properties(width=100, height = 100) |\n",
    "    rule + lhflux_profile_chart(bs_lhflux_df.query(\"height > 1\").query(\"tower == 'c'\"), \"Blowing Snow\").properties(width=100, height = 100) | \n",
    "    rule + lhflux_profile_chart(nobs_lhflux_df.query(\"height > 1\").query(\"tower == 'c'\"), \"No blowing snow\").properties(width=100, height = 100) | \n",
    "    rule + lhflux_profile_chart(tgrad_stable_df_during_nobs.query(\"tower == 'c'\").query(\"height > 1\"), \"Stable, no BS\").properties(width=100, height = 100) |\n",
    "    rule + lhflux_profile_chart(tgrad_unstable_df_during_nobs.query(\"tower == 'c'\").query(\"height > 1\"), \"Unstable, no BS\").properties(width=100, height = 100) |\n",
    "    rule + lhflux_profile_chart(tgrad_neutral_df_during_nobs.query(\"tower == 'c'\").query(\"height > 1\"), \"Neutral, no BS\").properties(width=100, height = 100)\n",
    ").resolve_scale(x='shared', y='shared')"
   ]
  },
  {
   "cell_type": "code",
   "execution_count": 17,
   "metadata": {},
   "outputs": [
    {
     "data": {
      "application/vnd.vegalite.v5+json": {
       "$schema": "https://vega.github.io/schema/vega-lite/v5.17.0.json",
       "config": {
        "view": {
         "continuousHeight": 300,
         "continuousWidth": 300
        }
       },
       "datasets": {
        "empty": [
         {}
        ]
       },
       "resolve": {
        "scale": {
         "x": "shared",
         "y": "shared"
        }
       },
       "title": "Mean water vapor flux profiles across snow-on season",
       "vconcat": [
        {
         "hconcat": [
          {
           "height": 100,
           "layer": [
            {
             "data": {
              "name": "empty"
             },
             "encoding": {
              "x": {
               "field": "rule",
               "type": "quantitative"
              }
             },
             "mark": {
              "type": "rule"
             },
             "transform": [
              {
               "as": "rule",
               "calculate": "0"
              }
             ]
            },
            {
             "data": {
              "format": {
               "type": "json"
              },
              "url": "altair-data-a60f3852b52b0d2d514c7b2216b8c8b2.json"
             },
             "layer": [
              {
               "encoding": {
                "color": {
                 "field": "tower",
                 "type": "nominal"
                },
                "x": {
                 "field": "low_bound",
                 "title": "",
                 "type": "quantitative"
                },
                "x2": {
                 "field": "up_bound"
                },
                "y": {
                 "field": "height",
                 "scale": {
                  "zero": true
                 },
                 "title": "height (m)",
                 "type": "quantitative"
                }
               },
               "mark": {
                "opacity": 0.25,
                "type": "area"
               },
               "transform": [
                {
                 "aggregate": [
                  {
                   "as": "mean",
                   "field": "value",
                   "op": "mean"
                  }
                 ],
                 "groupby": [
                  "height",
                  "tower"
                 ]
                },
                {
                 "as": "low_bound",
                 "calculate": "datum.mean - 0.2*datum.mean"
                },
                {
                 "as": "up_bound",
                 "calculate": "datum.mean + 0.2*datum.mean"
                }
               ]
              },
              {
               "encoding": {
                "color": {
                 "field": "tower",
                 "type": "nominal"
                },
                "x": {
                 "aggregate": "mean",
                 "field": "value",
                 "sort": "-y",
                 "title": "<w'q'> (mg/m^2/s)",
                 "type": "quantitative"
                },
                "y": {
                 "field": "height",
                 "scale": {
                  "zero": true
                 },
                 "title": "height (m)",
                 "type": "quantitative"
                }
               },
               "mark": {
                "point": true,
                "type": "line"
               },
               "title": [
                "No blowing snow, daytime",
                "(n = 2611)"
               ]
              }
             ]
            }
           ],
           "width": 100
          },
          {
           "height": 100,
           "layer": [
            {
             "data": {
              "name": "empty"
             },
             "encoding": {
              "x": {
               "field": "rule",
               "type": "quantitative"
              }
             },
             "mark": {
              "type": "rule"
             },
             "transform": [
              {
               "as": "rule",
               "calculate": "0"
              }
             ]
            },
            {
             "data": {
              "format": {
               "type": "json"
              },
              "url": "altair-data-9652073611e92128206cec05106aacc5.json"
             },
             "layer": [
              {
               "encoding": {
                "color": {
                 "field": "tower",
                 "type": "nominal"
                },
                "x": {
                 "field": "low_bound",
                 "title": "",
                 "type": "quantitative"
                },
                "x2": {
                 "field": "up_bound"
                },
                "y": {
                 "field": "height",
                 "scale": {
                  "zero": true
                 },
                 "title": "height (m)",
                 "type": "quantitative"
                }
               },
               "mark": {
                "opacity": 0.25,
                "type": "area"
               },
               "transform": [
                {
                 "aggregate": [
                  {
                   "as": "mean",
                   "field": "value",
                   "op": "mean"
                  }
                 ],
                 "groupby": [
                  "height",
                  "tower"
                 ]
                },
                {
                 "as": "low_bound",
                 "calculate": "datum.mean - 0.2*datum.mean"
                },
                {
                 "as": "up_bound",
                 "calculate": "datum.mean + 0.2*datum.mean"
                }
               ]
              },
              {
               "encoding": {
                "color": {
                 "field": "tower",
                 "type": "nominal"
                },
                "x": {
                 "aggregate": "mean",
                 "field": "value",
                 "sort": "-y",
                 "title": "<w'q'> (mg/m^2/s)",
                 "type": "quantitative"
                },
                "y": {
                 "field": "height",
                 "scale": {
                  "zero": true
                 },
                 "title": "height (m)",
                 "type": "quantitative"
                }
               },
               "mark": {
                "point": true,
                "type": "line"
               },
               "title": [
                "Blowing Snow, daytime",
                "(n = 923)"
               ]
              }
             ]
            }
           ],
           "width": 100
          }
         ],
         "resolve": {
          "scale": {
           "x": "shared",
           "y": "shared"
          }
         }
        },
        {
         "hconcat": [
          {
           "height": 100,
           "layer": [
            {
             "data": {
              "name": "empty"
             },
             "encoding": {
              "x": {
               "field": "rule",
               "type": "quantitative"
              }
             },
             "mark": {
              "type": "rule"
             },
             "transform": [
              {
               "as": "rule",
               "calculate": "0"
              }
             ]
            },
            {
             "data": {
              "format": {
               "type": "json"
              },
              "url": "altair-data-f80c238b1659d4802e011a845c12a7cd.json"
             },
             "layer": [
              {
               "encoding": {
                "color": {
                 "field": "tower",
                 "type": "nominal"
                },
                "x": {
                 "field": "low_bound",
                 "title": "",
                 "type": "quantitative"
                },
                "x2": {
                 "field": "up_bound"
                },
                "y": {
                 "field": "height",
                 "scale": {
                  "zero": true
                 },
                 "title": "height (m)",
                 "type": "quantitative"
                }
               },
               "mark": {
                "opacity": 0.25,
                "type": "area"
               },
               "transform": [
                {
                 "aggregate": [
                  {
                   "as": "mean",
                   "field": "value",
                   "op": "mean"
                  }
                 ],
                 "groupby": [
                  "height",
                  "tower"
                 ]
                },
                {
                 "as": "low_bound",
                 "calculate": "datum.mean - 0.2*datum.mean"
                },
                {
                 "as": "up_bound",
                 "calculate": "datum.mean + 0.2*datum.mean"
                }
               ]
              },
              {
               "encoding": {
                "color": {
                 "field": "tower",
                 "type": "nominal"
                },
                "x": {
                 "aggregate": "mean",
                 "field": "value",
                 "sort": "-y",
                 "title": "<w'q'> (mg/m^2/s)",
                 "type": "quantitative"
                },
                "y": {
                 "field": "height",
                 "scale": {
                  "zero": true
                 },
                 "title": "height (m)",
                 "type": "quantitative"
                }
               },
               "mark": {
                "point": true,
                "type": "line"
               },
               "title": [
                "No blowing snow, nighttime",
                "(n = 3387)"
               ]
              }
             ]
            }
           ],
           "width": 100
          },
          {
           "height": 100,
           "layer": [
            {
             "data": {
              "name": "empty"
             },
             "encoding": {
              "x": {
               "field": "rule",
               "type": "quantitative"
              }
             },
             "mark": {
              "type": "rule"
             },
             "transform": [
              {
               "as": "rule",
               "calculate": "0"
              }
             ]
            },
            {
             "data": {
              "format": {
               "type": "json"
              },
              "url": "altair-data-203b2fdadda0c6195477a77f4b5c06d0.json"
             },
             "layer": [
              {
               "encoding": {
                "color": {
                 "field": "tower",
                 "type": "nominal"
                },
                "x": {
                 "field": "low_bound",
                 "title": "",
                 "type": "quantitative"
                },
                "x2": {
                 "field": "up_bound"
                },
                "y": {
                 "field": "height",
                 "scale": {
                  "zero": true
                 },
                 "title": "height (m)",
                 "type": "quantitative"
                }
               },
               "mark": {
                "opacity": 0.25,
                "type": "area"
               },
               "transform": [
                {
                 "aggregate": [
                  {
                   "as": "mean",
                   "field": "value",
                   "op": "mean"
                  }
                 ],
                 "groupby": [
                  "height",
                  "tower"
                 ]
                },
                {
                 "as": "low_bound",
                 "calculate": "datum.mean - 0.2*datum.mean"
                },
                {
                 "as": "up_bound",
                 "calculate": "datum.mean + 0.2*datum.mean"
                }
               ]
              },
              {
               "encoding": {
                "color": {
                 "field": "tower",
                 "type": "nominal"
                },
                "x": {
                 "aggregate": "mean",
                 "field": "value",
                 "sort": "-y",
                 "title": "<w'q'> (mg/m^2/s)",
                 "type": "quantitative"
                },
                "y": {
                 "field": "height",
                 "scale": {
                  "zero": true
                 },
                 "title": "height (m)",
                 "type": "quantitative"
                }
               },
               "mark": {
                "point": true,
                "type": "line"
               },
               "title": [
                "Blowing Snow, nighttime",
                "(n = 771)"
               ]
              }
             ]
            }
           ],
           "width": 100
          }
         ],
         "resolve": {
          "scale": {
           "x": "shared",
           "y": "shared"
          }
         }
        }
       ]
      },
      "text/plain": [
       "<VegaLite 5 object>\n",
       "\n",
       "If you see this message, it means the renderer has not been properly enabled\n",
       "for the frontend that you are using. For more information, see\n",
       "https://altair-viz.github.io/user_guide/display_frontends.html#troubleshooting\n"
      ]
     },
     "execution_count": 17,
     "metadata": {},
     "output_type": "execute_result"
    }
   ],
   "source": [
    "(\n",
    "    (\n",
    "        rule + lhflux_profile_chart_mg(\n",
    "            nobs_lhflux_df[\n",
    "                nobs_lhflux_df.time.dt.hour.isin([8,9,10,11,12,13,14,15,16,17,18])\n",
    "            ].query(\"height > 1\").query(\"tower == 'c'\"), \"No blowing snow, daytime\"\n",
    "        ).properties(width=100, height = 100) \n",
    "        |\n",
    "        rule + lhflux_profile_chart_mg(\n",
    "            bs_lhflux_df[\n",
    "                bs_lhflux_df.time.dt.hour.isin([8,9,10,11,12,13,14,15,16,17,18])\n",
    "            ].query(\"height > 1\").query(\"tower == 'c'\"), \"Blowing Snow, daytime\"\n",
    "        ).properties(width=100, height = 100)\n",
    "    ).resolve_scale(x='shared', y='shared') & (\n",
    "        rule + lhflux_profile_chart_mg(\n",
    "            nobs_lhflux_df[\n",
    "                nobs_lhflux_df.time.dt.hour.isin([19,20,21,22,23,0,1,2,3,4,5,6,7])\n",
    "            ].query(\"height > 1\").query(\"tower == 'c'\"), \"No blowing snow, nighttime\"\n",
    "        ).properties(width=100, height = 100) \n",
    "        |\n",
    "        rule + lhflux_profile_chart_mg(\n",
    "            bs_lhflux_df[\n",
    "                bs_lhflux_df.time.dt.hour.isin([19,20,21,22,23,0,1,2,3,4,5,6,7])\n",
    "            ].query(\"height > 1\").query(\"tower == 'c'\"), \"Blowing Snow, nighttime\"\n",
    "        ).properties(width=100, height = 100)\n",
    "    ).resolve_scale(x='shared', y='shared')\n",
    ").resolve_scale(x='shared', y='shared').properties(\n",
    "    title='Mean water vapor flux profiles across snow-on season'\n",
    ")"
   ]
  },
  {
   "cell_type": "code",
   "execution_count": 18,
   "metadata": {},
   "outputs": [
    {
     "data": {
      "application/vnd.vegalite.v5+json": {
       "$schema": "https://vega.github.io/schema/vega-lite/v5.17.0.json",
       "config": {
        "view": {
         "continuousHeight": 300,
         "continuousWidth": 300
        }
       },
       "hconcat": [
        {
         "data": {
          "format": {
           "type": "json"
          },
          "url": "altair-data-7742cda315640a64bca6bfd58aac4f51.json"
         },
         "height": 150,
         "layer": [
          {
           "encoding": {
            "x": {
             "field": "low_bound",
             "title": "",
             "type": "quantitative"
            },
            "x2": {
             "field": "up_bound"
            },
            "y": {
             "field": "height",
             "scale": {
              "zero": true
             },
             "type": "quantitative"
            }
           },
           "mark": {
            "color": "black",
            "opacity": 0.2,
            "type": "area"
           },
           "transform": [
            {
             "aggregate": [
              {
               "as": "mean",
               "field": "value",
               "op": "mean"
              }
             ],
             "groupby": [
              "height",
              "tower"
             ]
            },
            {
             "as": "low_bound",
             "calculate": "datum.mean - 0.2*datum.mean"
            },
            {
             "as": "up_bound",
             "calculate": "datum.mean + 0.2*datum.mean"
            }
           ]
          },
          {
           "encoding": {
            "x": {
             "aggregate": "mean",
             "field": "value",
             "sort": "-y",
             "title": "<w'q'> (g/m^2/s)",
             "type": "quantitative"
            },
            "y": {
             "field": "height",
             "scale": {
              "zero": true
             },
             "type": "quantitative"
            }
           },
           "mark": {
            "color": "black",
            "point": {
             "color": "black"
            },
            "type": "line"
           },
           "title": [
            "All data",
            "(n = 7714)"
           ]
          }
         ],
         "width": 150
        },
        {
         "data": {
          "format": {
           "type": "json"
          },
          "url": "altair-data-2f9f1933e6d2cb43e974de5c5ffeffa9.json"
         },
         "height": 150,
         "layer": [
          {
           "encoding": {
            "color": {
             "field": "conditions",
             "type": "nominal"
            },
            "x": {
             "field": "low_bound",
             "title": "",
             "type": "quantitative"
            },
            "x2": {
             "field": "up_bound"
            },
            "y": {
             "field": "height",
             "scale": {
              "zero": true
             },
             "type": "quantitative"
            }
           },
           "mark": {
            "opacity": 0.25,
            "type": "area"
           },
           "transform": [
            {
             "aggregate": [
              {
               "as": "mean",
               "field": "value",
               "op": "mean"
              }
             ],
             "groupby": [
              "height",
              "tower",
              "conditions"
             ]
            },
            {
             "as": "low_bound",
             "calculate": "datum.mean - 0.2*datum.mean"
            },
            {
             "as": "up_bound",
             "calculate": "datum.mean + 0.2*datum.mean"
            }
           ]
          },
          {
           "encoding": {
            "color": {
             "field": "conditions",
             "type": "nominal"
            },
            "x": {
             "aggregate": "mean",
             "field": "value",
             "sort": "-y",
             "title": "<w'q'> (g/m^2/s)",
             "type": "quantitative"
            },
            "y": {
             "field": "height",
             "scale": {
              "zero": true
             },
             "type": "quantitative"
            }
           },
           "mark": {
            "point": true,
            "type": "line"
           },
           "title": [
            "Stable",
            "(n = 1396 BS, 5445 No BS)"
           ]
          }
         ],
         "width": 150
        },
        {
         "data": {
          "format": {
           "type": "json"
          },
          "url": "altair-data-47004873953027722f636b479280ae80.json"
         },
         "height": 150,
         "layer": [
          {
           "encoding": {
            "color": {
             "field": "conditions",
             "type": "nominal"
            },
            "x": {
             "field": "low_bound",
             "title": "",
             "type": "quantitative"
            },
            "x2": {
             "field": "up_bound"
            },
            "y": {
             "field": "height",
             "scale": {
              "zero": true
             },
             "type": "quantitative"
            }
           },
           "mark": {
            "opacity": 0.25,
            "type": "area"
           },
           "transform": [
            {
             "aggregate": [
              {
               "as": "mean",
               "field": "value",
               "op": "mean"
              }
             ],
             "groupby": [
              "height",
              "tower",
              "conditions"
             ]
            },
            {
             "as": "low_bound",
             "calculate": "datum.mean - 0.2*datum.mean"
            },
            {
             "as": "up_bound",
             "calculate": "datum.mean + 0.2*datum.mean"
            }
           ]
          },
          {
           "encoding": {
            "color": {
             "field": "conditions",
             "type": "nominal"
            },
            "x": {
             "aggregate": "mean",
             "field": "value",
             "sort": "-y",
             "title": "<w'q'> (g/m^2/s)",
             "type": "quantitative"
            },
            "y": {
             "field": "height",
             "scale": {
              "zero": true
             },
             "type": "quantitative"
            }
           },
           "mark": {
            "point": true,
            "type": "line"
           },
           "title": [
            "Neutral",
            "(n = 239 BS, 326 No BS)"
           ]
          }
         ],
         "width": 150
        },
        {
         "data": {
          "format": {
           "type": "json"
          },
          "url": "altair-data-06c0de2bd243a6feabad0fd05d6ab2bc.json"
         },
         "height": 150,
         "layer": [
          {
           "encoding": {
            "color": {
             "field": "conditions",
             "type": "nominal"
            },
            "x": {
             "field": "low_bound",
             "title": "",
             "type": "quantitative"
            },
            "x2": {
             "field": "up_bound"
            },
            "y": {
             "field": "height",
             "scale": {
              "zero": true
             },
             "type": "quantitative"
            }
           },
           "mark": {
            "opacity": 0.25,
            "type": "area"
           },
           "transform": [
            {
             "aggregate": [
              {
               "as": "mean",
               "field": "value",
               "op": "mean"
              }
             ],
             "groupby": [
              "height",
              "tower",
              "conditions"
             ]
            },
            {
             "as": "low_bound",
             "calculate": "datum.mean - 0.2*datum.mean"
            },
            {
             "as": "up_bound",
             "calculate": "datum.mean + 0.2*datum.mean"
            }
           ]
          },
          {
           "encoding": {
            "color": {
             "field": "conditions",
             "type": "nominal"
            },
            "x": {
             "aggregate": "mean",
             "field": "value",
             "sort": "-y",
             "title": "<w'q'> (g/m^2/s)",
             "type": "quantitative"
            },
            "y": {
             "field": "height",
             "scale": {
              "zero": true
             },
             "type": "quantitative"
            }
           },
           "mark": {
            "point": true,
            "type": "line"
           },
           "title": [
            "Unstable",
            "(n = 59 BS, 227 No BS)"
           ]
          }
         ],
         "width": 150
        }
       ],
       "resolve": {
        "scale": {
         "x": "shared",
         "y": "shared"
        }
       }
      },
      "text/plain": [
       "<VegaLite 5 object>\n",
       "\n",
       "If you see this message, it means the renderer has not been properly enabled\n",
       "for the frontend that you are using. For more information, see\n",
       "https://altair-viz.github.io/user_guide/display_frontends.html#troubleshooting\n"
      ]
     },
     "execution_count": 18,
     "metadata": {},
     "output_type": "execute_result"
    }
   ],
   "source": [
    "vertical_flux_profiles_4_plots = (\n",
    "    lhflux_profile_chart_notower(lhflux_measurements_df.query(\"tower == 'c'\").query(\"height > 1\"), \"All data\") |\n",
    "    lhflux_profile_chart_split_conditions(tgrad_stable_df_with_bs_indicator.query(\"tower == 'c'\").query(\"height > 1\"), \"Stable\") |\n",
    "    lhflux_profile_chart_split_conditions(tgrad_neutral_df_with_bs_indicator.query(\"tower == 'c'\").query(\"height > 1\"), \"Neutral\") |\n",
    "    lhflux_profile_chart_split_conditions(tgrad_unstable_df_with_bs_indicator.query(\"tower == 'c'\").query(\"height > 1\"), \"Unstable\")\n",
    ").resolve_scale(x='shared', y='shared') \n",
    "vertical_flux_profiles_4_plots"
   ]
  },
  {
   "cell_type": "code",
   "execution_count": 19,
   "metadata": {},
   "outputs": [],
   "source": [
    "lateral_flux_profiles_4_plots = (\n",
    "    lhflux_profile_chart_notower(lateral_lhflux_measurements_df.query(\"tower == 'c'\").query(\"height > 1\"), \"All data\", x_title=\"<u'q'> (g/m^2/s)\") |\n",
    "    lhflux_profile_chart_split_conditions(lateralflux_tgrad_stable_df_with_bs_indicator.query(\"tower == 'c'\").query(\"height > 1\"), \"Stable\", x_title=\"<u'q'> (g/m^2/s)\") |\n",
    "    lhflux_profile_chart_split_conditions(lateralflux_tgrad_neutral_df_with_bs_indicator.query(\"tower == 'c'\").query(\"height > 1\"), \"Neutral\", x_title=\"<u'q'> (g/m^2/s)\") |\n",
    "    lhflux_profile_chart_split_conditions(lateralflux_tgrad_unstable_df_with_bs_indicator.query(\"tower == 'c'\").query(\"height > 1\"), \"Unstable\", x_title=\"<u'q'> (g/m^2/s)\")\n",
    ").resolve_scale(x='shared', y='shared') "
   ]
  },
  {
   "cell_type": "code",
   "execution_count": 20,
   "metadata": {},
   "outputs": [
    {
     "data": {
      "application/vnd.vegalite.v5+json": {
       "$schema": "https://vega.github.io/schema/vega-lite/v5.17.0.json",
       "config": {
        "view": {
         "continuousHeight": 300,
         "continuousWidth": 300
        }
       },
       "vconcat": [
        {
         "hconcat": [
          {
           "data": {
            "format": {
             "type": "json"
            },
            "url": "altair-data-7742cda315640a64bca6bfd58aac4f51.json"
           },
           "height": 150,
           "layer": [
            {
             "encoding": {
              "x": {
               "field": "low_bound",
               "title": "",
               "type": "quantitative"
              },
              "x2": {
               "field": "up_bound"
              },
              "y": {
               "field": "height",
               "scale": {
                "zero": true
               },
               "type": "quantitative"
              }
             },
             "mark": {
              "color": "black",
              "opacity": 0.2,
              "type": "area"
             },
             "transform": [
              {
               "aggregate": [
                {
                 "as": "mean",
                 "field": "value",
                 "op": "mean"
                }
               ],
               "groupby": [
                "height",
                "tower"
               ]
              },
              {
               "as": "low_bound",
               "calculate": "datum.mean - 0.2*datum.mean"
              },
              {
               "as": "up_bound",
               "calculate": "datum.mean + 0.2*datum.mean"
              }
             ]
            },
            {
             "encoding": {
              "x": {
               "aggregate": "mean",
               "field": "value",
               "sort": "-y",
               "title": "<w'q'> (g/m^2/s)",
               "type": "quantitative"
              },
              "y": {
               "field": "height",
               "scale": {
                "zero": true
               },
               "type": "quantitative"
              }
             },
             "mark": {
              "color": "black",
              "point": {
               "color": "black"
              },
              "type": "line"
             },
             "title": [
              "All data",
              "(n = 7714)"
             ]
            }
           ],
           "width": 150
          },
          {
           "data": {
            "format": {
             "type": "json"
            },
            "url": "altair-data-2f9f1933e6d2cb43e974de5c5ffeffa9.json"
           },
           "height": 150,
           "layer": [
            {
             "encoding": {
              "color": {
               "field": "conditions",
               "type": "nominal"
              },
              "x": {
               "field": "low_bound",
               "title": "",
               "type": "quantitative"
              },
              "x2": {
               "field": "up_bound"
              },
              "y": {
               "field": "height",
               "scale": {
                "zero": true
               },
               "type": "quantitative"
              }
             },
             "mark": {
              "opacity": 0.25,
              "type": "area"
             },
             "transform": [
              {
               "aggregate": [
                {
                 "as": "mean",
                 "field": "value",
                 "op": "mean"
                }
               ],
               "groupby": [
                "height",
                "tower",
                "conditions"
               ]
              },
              {
               "as": "low_bound",
               "calculate": "datum.mean - 0.2*datum.mean"
              },
              {
               "as": "up_bound",
               "calculate": "datum.mean + 0.2*datum.mean"
              }
             ]
            },
            {
             "encoding": {
              "color": {
               "field": "conditions",
               "type": "nominal"
              },
              "x": {
               "aggregate": "mean",
               "field": "value",
               "sort": "-y",
               "title": "<w'q'> (g/m^2/s)",
               "type": "quantitative"
              },
              "y": {
               "field": "height",
               "scale": {
                "zero": true
               },
               "type": "quantitative"
              }
             },
             "mark": {
              "point": true,
              "type": "line"
             },
             "title": [
              "Stable",
              "(n = 1396 BS, 5445 No BS)"
             ]
            }
           ],
           "width": 150
          },
          {
           "data": {
            "format": {
             "type": "json"
            },
            "url": "altair-data-47004873953027722f636b479280ae80.json"
           },
           "height": 150,
           "layer": [
            {
             "encoding": {
              "color": {
               "field": "conditions",
               "type": "nominal"
              },
              "x": {
               "field": "low_bound",
               "title": "",
               "type": "quantitative"
              },
              "x2": {
               "field": "up_bound"
              },
              "y": {
               "field": "height",
               "scale": {
                "zero": true
               },
               "type": "quantitative"
              }
             },
             "mark": {
              "opacity": 0.25,
              "type": "area"
             },
             "transform": [
              {
               "aggregate": [
                {
                 "as": "mean",
                 "field": "value",
                 "op": "mean"
                }
               ],
               "groupby": [
                "height",
                "tower",
                "conditions"
               ]
              },
              {
               "as": "low_bound",
               "calculate": "datum.mean - 0.2*datum.mean"
              },
              {
               "as": "up_bound",
               "calculate": "datum.mean + 0.2*datum.mean"
              }
             ]
            },
            {
             "encoding": {
              "color": {
               "field": "conditions",
               "type": "nominal"
              },
              "x": {
               "aggregate": "mean",
               "field": "value",
               "sort": "-y",
               "title": "<w'q'> (g/m^2/s)",
               "type": "quantitative"
              },
              "y": {
               "field": "height",
               "scale": {
                "zero": true
               },
               "type": "quantitative"
              }
             },
             "mark": {
              "point": true,
              "type": "line"
             },
             "title": [
              "Neutral",
              "(n = 239 BS, 326 No BS)"
             ]
            }
           ],
           "width": 150
          },
          {
           "data": {
            "format": {
             "type": "json"
            },
            "url": "altair-data-06c0de2bd243a6feabad0fd05d6ab2bc.json"
           },
           "height": 150,
           "layer": [
            {
             "encoding": {
              "color": {
               "field": "conditions",
               "type": "nominal"
              },
              "x": {
               "field": "low_bound",
               "title": "",
               "type": "quantitative"
              },
              "x2": {
               "field": "up_bound"
              },
              "y": {
               "field": "height",
               "scale": {
                "zero": true
               },
               "type": "quantitative"
              }
             },
             "mark": {
              "opacity": 0.25,
              "type": "area"
             },
             "transform": [
              {
               "aggregate": [
                {
                 "as": "mean",
                 "field": "value",
                 "op": "mean"
                }
               ],
               "groupby": [
                "height",
                "tower",
                "conditions"
               ]
              },
              {
               "as": "low_bound",
               "calculate": "datum.mean - 0.2*datum.mean"
              },
              {
               "as": "up_bound",
               "calculate": "datum.mean + 0.2*datum.mean"
              }
             ]
            },
            {
             "encoding": {
              "color": {
               "field": "conditions",
               "type": "nominal"
              },
              "x": {
               "aggregate": "mean",
               "field": "value",
               "sort": "-y",
               "title": "<w'q'> (g/m^2/s)",
               "type": "quantitative"
              },
              "y": {
               "field": "height",
               "scale": {
                "zero": true
               },
               "type": "quantitative"
              }
             },
             "mark": {
              "point": true,
              "type": "line"
             },
             "title": [
              "Unstable",
              "(n = 59 BS, 227 No BS)"
             ]
            }
           ],
           "width": 150
          }
         ],
         "resolve": {
          "scale": {
           "x": "shared",
           "y": "shared"
          }
         }
        },
        {
         "hconcat": [
          {
           "data": {
            "format": {
             "type": "json"
            },
            "url": "altair-data-02b432cbcc98d348393c2857258f8792.json"
           },
           "height": 150,
           "layer": [
            {
             "encoding": {
              "x": {
               "field": "low_bound",
               "title": "",
               "type": "quantitative"
              },
              "x2": {
               "field": "up_bound"
              },
              "y": {
               "field": "height",
               "scale": {
                "zero": true
               },
               "type": "quantitative"
              }
             },
             "mark": {
              "color": "black",
              "opacity": 0.2,
              "type": "area"
             },
             "transform": [
              {
               "aggregate": [
                {
                 "as": "mean",
                 "field": "value",
                 "op": "mean"
                }
               ],
               "groupby": [
                "height",
                "tower"
               ]
              },
              {
               "as": "low_bound",
               "calculate": "datum.mean - 0.2*datum.mean"
              },
              {
               "as": "up_bound",
               "calculate": "datum.mean + 0.2*datum.mean"
              }
             ]
            },
            {
             "encoding": {
              "x": {
               "aggregate": "mean",
               "field": "value",
               "sort": "-y",
               "title": "<u'q'> (g/m^2/s)",
               "type": "quantitative"
              },
              "y": {
               "field": "height",
               "scale": {
                "zero": true
               },
               "type": "quantitative"
              }
             },
             "mark": {
              "color": "black",
              "point": {
               "color": "black"
              },
              "type": "line"
             },
             "title": [
              "All data",
              "(n = 7714)"
             ]
            }
           ],
           "width": 150
          },
          {
           "data": {
            "format": {
             "type": "json"
            },
            "url": "altair-data-b87c562a8d1b09741b16fbf8ab13dd8a.json"
           },
           "height": 150,
           "layer": [
            {
             "encoding": {
              "color": {
               "field": "conditions",
               "type": "nominal"
              },
              "x": {
               "field": "low_bound",
               "title": "",
               "type": "quantitative"
              },
              "x2": {
               "field": "up_bound"
              },
              "y": {
               "field": "height",
               "scale": {
                "zero": true
               },
               "type": "quantitative"
              }
             },
             "mark": {
              "opacity": 0.25,
              "type": "area"
             },
             "transform": [
              {
               "aggregate": [
                {
                 "as": "mean",
                 "field": "value",
                 "op": "mean"
                }
               ],
               "groupby": [
                "height",
                "tower",
                "conditions"
               ]
              },
              {
               "as": "low_bound",
               "calculate": "datum.mean - 0.2*datum.mean"
              },
              {
               "as": "up_bound",
               "calculate": "datum.mean + 0.2*datum.mean"
              }
             ]
            },
            {
             "encoding": {
              "color": {
               "field": "conditions",
               "type": "nominal"
              },
              "x": {
               "aggregate": "mean",
               "field": "value",
               "sort": "-y",
               "title": "<u'q'> (g/m^2/s)",
               "type": "quantitative"
              },
              "y": {
               "field": "height",
               "scale": {
                "zero": true
               },
               "type": "quantitative"
              }
             },
             "mark": {
              "point": true,
              "type": "line"
             },
             "title": [
              "Stable",
              "(n = 1396 BS, 5445 No BS)"
             ]
            }
           ],
           "width": 150
          },
          {
           "data": {
            "format": {
             "type": "json"
            },
            "url": "altair-data-4d2fb0cf214f49087a5fb248450b6522.json"
           },
           "height": 150,
           "layer": [
            {
             "encoding": {
              "color": {
               "field": "conditions",
               "type": "nominal"
              },
              "x": {
               "field": "low_bound",
               "title": "",
               "type": "quantitative"
              },
              "x2": {
               "field": "up_bound"
              },
              "y": {
               "field": "height",
               "scale": {
                "zero": true
               },
               "type": "quantitative"
              }
             },
             "mark": {
              "opacity": 0.25,
              "type": "area"
             },
             "transform": [
              {
               "aggregate": [
                {
                 "as": "mean",
                 "field": "value",
                 "op": "mean"
                }
               ],
               "groupby": [
                "height",
                "tower",
                "conditions"
               ]
              },
              {
               "as": "low_bound",
               "calculate": "datum.mean - 0.2*datum.mean"
              },
              {
               "as": "up_bound",
               "calculate": "datum.mean + 0.2*datum.mean"
              }
             ]
            },
            {
             "encoding": {
              "color": {
               "field": "conditions",
               "type": "nominal"
              },
              "x": {
               "aggregate": "mean",
               "field": "value",
               "sort": "-y",
               "title": "<u'q'> (g/m^2/s)",
               "type": "quantitative"
              },
              "y": {
               "field": "height",
               "scale": {
                "zero": true
               },
               "type": "quantitative"
              }
             },
             "mark": {
              "point": true,
              "type": "line"
             },
             "title": [
              "Neutral",
              "(n = 239 BS, 326 No BS)"
             ]
            }
           ],
           "width": 150
          },
          {
           "data": {
            "format": {
             "type": "json"
            },
            "url": "altair-data-bf9632fe508f97cdf16aefa5f4239272.json"
           },
           "height": 150,
           "layer": [
            {
             "encoding": {
              "color": {
               "field": "conditions",
               "type": "nominal"
              },
              "x": {
               "field": "low_bound",
               "title": "",
               "type": "quantitative"
              },
              "x2": {
               "field": "up_bound"
              },
              "y": {
               "field": "height",
               "scale": {
                "zero": true
               },
               "type": "quantitative"
              }
             },
             "mark": {
              "opacity": 0.25,
              "type": "area"
             },
             "transform": [
              {
               "aggregate": [
                {
                 "as": "mean",
                 "field": "value",
                 "op": "mean"
                }
               ],
               "groupby": [
                "height",
                "tower",
                "conditions"
               ]
              },
              {
               "as": "low_bound",
               "calculate": "datum.mean - 0.2*datum.mean"
              },
              {
               "as": "up_bound",
               "calculate": "datum.mean + 0.2*datum.mean"
              }
             ]
            },
            {
             "encoding": {
              "color": {
               "field": "conditions",
               "type": "nominal"
              },
              "x": {
               "aggregate": "mean",
               "field": "value",
               "sort": "-y",
               "title": "<u'q'> (g/m^2/s)",
               "type": "quantitative"
              },
              "y": {
               "field": "height",
               "scale": {
                "zero": true
               },
               "type": "quantitative"
              }
             },
             "mark": {
              "point": true,
              "type": "line"
             },
             "title": [
              "Unstable",
              "(n = 59 BS, 227 No BS)"
             ]
            }
           ],
           "width": 150
          }
         ],
         "resolve": {
          "scale": {
           "x": "shared",
           "y": "shared"
          }
         }
        }
       ]
      },
      "text/plain": [
       "<VegaLite 5 object>\n",
       "\n",
       "If you see this message, it means the renderer has not been properly enabled\n",
       "for the frontend that you are using. For more information, see\n",
       "https://altair-viz.github.io/user_guide/display_frontends.html#troubleshooting\n"
      ]
     },
     "execution_count": 20,
     "metadata": {},
     "output_type": "execute_result"
    }
   ],
   "source": [
    "vertical_and_lateral_flux_profiles = (\n",
    "    vertical_flux_profiles_4_plots & lateral_flux_profiles_4_plots\n",
    ")\n",
    "vertical_and_lateral_flux_profiles.save(\"../../figures/lhflux_profiles_vertical_and_lateral_mean.png\", ppi=200)\n",
    "vertical_and_lateral_flux_profiles"
   ]
  },
  {
   "cell_type": "code",
   "execution_count": 21,
   "metadata": {},
   "outputs": [
    {
     "data": {
      "application/vnd.vegalite.v5+json": {
       "$schema": "https://vega.github.io/schema/vega-lite/v5.17.0.json",
       "config": {
        "view": {
         "continuousHeight": 300,
         "continuousWidth": 300
        }
       },
       "resolve": {
        "scale": {
         "x": "shared",
         "y": "shared"
        }
       },
       "vconcat": [
        {
         "hconcat": [
          {
           "data": {
            "format": {
             "type": "json"
            },
            "url": "altair-data-a6e0c11530495892fa915fa7f5985aaa.json"
           },
           "height": 150,
           "layer": [
            {
             "encoding": {
              "color": {
               "field": "tower",
               "type": "nominal"
              },
              "x": {
               "field": "low_bound",
               "title": "",
               "type": "quantitative"
              },
              "x2": {
               "field": "up_bound"
              },
              "y": {
               "field": "height",
               "scale": {
                "zero": true
               },
               "title": "height (m)",
               "type": "quantitative"
              }
             },
             "mark": {
              "opacity": 0.25,
              "type": "area"
             },
             "transform": [
              {
               "aggregate": [
                {
                 "as": "mean",
                 "field": "value",
                 "op": "mean"
                }
               ],
               "groupby": [
                "height",
                "tower"
               ]
              },
              {
               "as": "low_bound",
               "calculate": "datum.mean - 0.2*datum.mean"
              },
              {
               "as": "up_bound",
               "calculate": "datum.mean + 0.2*datum.mean"
              }
             ]
            },
            {
             "encoding": {
              "color": {
               "field": "tower",
               "type": "nominal"
              },
              "x": {
               "aggregate": "mean",
               "field": "value",
               "sort": "-y",
               "title": "<u'q'> (g/m^2/s)",
               "type": "quantitative"
              },
              "y": {
               "field": "height",
               "scale": {
                "zero": true
               },
               "title": "height (m)",
               "type": "quantitative"
              }
             },
             "mark": {
              "type": "line"
             },
             "title": [
              "All data, BS",
              "(n = 1694)"
             ]
            }
           ],
           "width": 150
          },
          {
           "data": {
            "format": {
             "type": "json"
            },
            "url": "altair-data-fc4eba475d48904fc6ab896ae780d1b4.json"
           },
           "height": 150,
           "layer": [
            {
             "encoding": {
              "color": {
               "field": "tower",
               "type": "nominal"
              },
              "x": {
               "field": "low_bound",
               "title": "",
               "type": "quantitative"
              },
              "x2": {
               "field": "up_bound"
              },
              "y": {
               "field": "height",
               "scale": {
                "zero": true
               },
               "title": "height (m)",
               "type": "quantitative"
              }
             },
             "mark": {
              "opacity": 0.25,
              "type": "area"
             },
             "transform": [
              {
               "aggregate": [
                {
                 "as": "mean",
                 "field": "value",
                 "op": "mean"
                }
               ],
               "groupby": [
                "height",
                "tower"
               ]
              },
              {
               "as": "low_bound",
               "calculate": "datum.mean - 0.2*datum.mean"
              },
              {
               "as": "up_bound",
               "calculate": "datum.mean + 0.2*datum.mean"
              }
             ]
            },
            {
             "encoding": {
              "color": {
               "field": "tower",
               "type": "nominal"
              },
              "x": {
               "aggregate": "mean",
               "field": "value",
               "sort": "-y",
               "title": "<u'q'> (g/m^2/s)",
               "type": "quantitative"
              },
              "y": {
               "field": "height",
               "scale": {
                "zero": true
               },
               "title": "height (m)",
               "type": "quantitative"
              }
             },
             "mark": {
              "type": "line"
             },
             "title": [
              "Stable, BS",
              "(n = 1396)"
             ]
            }
           ],
           "width": 150
          },
          {
           "data": {
            "format": {
             "type": "json"
            },
            "url": "altair-data-a0718b4ebe42b20d29b7cda10a278b8c.json"
           },
           "height": 150,
           "layer": [
            {
             "encoding": {
              "color": {
               "field": "tower",
               "type": "nominal"
              },
              "x": {
               "field": "low_bound",
               "title": "",
               "type": "quantitative"
              },
              "x2": {
               "field": "up_bound"
              },
              "y": {
               "field": "height",
               "scale": {
                "zero": true
               },
               "title": "height (m)",
               "type": "quantitative"
              }
             },
             "mark": {
              "opacity": 0.25,
              "type": "area"
             },
             "transform": [
              {
               "aggregate": [
                {
                 "as": "mean",
                 "field": "value",
                 "op": "mean"
                }
               ],
               "groupby": [
                "height",
                "tower"
               ]
              },
              {
               "as": "low_bound",
               "calculate": "datum.mean - 0.2*datum.mean"
              },
              {
               "as": "up_bound",
               "calculate": "datum.mean + 0.2*datum.mean"
              }
             ]
            },
            {
             "encoding": {
              "color": {
               "field": "tower",
               "type": "nominal"
              },
              "x": {
               "aggregate": "mean",
               "field": "value",
               "sort": "-y",
               "title": "<u'q'> (g/m^2/s)",
               "type": "quantitative"
              },
              "y": {
               "field": "height",
               "scale": {
                "zero": true
               },
               "title": "height (m)",
               "type": "quantitative"
              }
             },
             "mark": {
              "type": "line"
             },
             "title": [
              "Neutral, BS",
              "(n = 239)"
             ]
            }
           ],
           "width": 150
          },
          {
           "data": {
            "format": {
             "type": "json"
            },
            "url": "altair-data-31362f9e8c4b1e06bf42281ece479956.json"
           },
           "height": 150,
           "layer": [
            {
             "encoding": {
              "color": {
               "field": "tower",
               "type": "nominal"
              },
              "x": {
               "field": "low_bound",
               "title": "",
               "type": "quantitative"
              },
              "x2": {
               "field": "up_bound"
              },
              "y": {
               "field": "height",
               "scale": {
                "zero": true
               },
               "title": "height (m)",
               "type": "quantitative"
              }
             },
             "mark": {
              "opacity": 0.25,
              "type": "area"
             },
             "transform": [
              {
               "aggregate": [
                {
                 "as": "mean",
                 "field": "value",
                 "op": "mean"
                }
               ],
               "groupby": [
                "height",
                "tower"
               ]
              },
              {
               "as": "low_bound",
               "calculate": "datum.mean - 0.2*datum.mean"
              },
              {
               "as": "up_bound",
               "calculate": "datum.mean + 0.2*datum.mean"
              }
             ]
            },
            {
             "encoding": {
              "color": {
               "field": "tower",
               "type": "nominal"
              },
              "x": {
               "aggregate": "mean",
               "field": "value",
               "sort": "-y",
               "title": "<u'q'> (g/m^2/s)",
               "type": "quantitative"
              },
              "y": {
               "field": "height",
               "scale": {
                "zero": true
               },
               "title": "height (m)",
               "type": "quantitative"
              }
             },
             "mark": {
              "type": "line"
             },
             "title": [
              "Unstable, BS",
              "(n = 59)"
             ]
            }
           ],
           "width": 150
          }
         ],
         "resolve": {
          "scale": {
           "x": "shared",
           "y": "shared"
          }
         }
        },
        {
         "hconcat": [
          {
           "data": {
            "format": {
             "type": "json"
            },
            "url": "altair-data-f2b19d4886dc8812635a2558eb1b0aa5.json"
           },
           "height": 150,
           "layer": [
            {
             "encoding": {
              "color": {
               "field": "tower",
               "type": "nominal"
              },
              "x": {
               "field": "low_bound",
               "title": "",
               "type": "quantitative"
              },
              "x2": {
               "field": "up_bound"
              },
              "y": {
               "field": "height",
               "scale": {
                "zero": true
               },
               "title": "height (m)",
               "type": "quantitative"
              }
             },
             "mark": {
              "opacity": 0.25,
              "type": "area"
             },
             "transform": [
              {
               "aggregate": [
                {
                 "as": "mean",
                 "field": "value",
                 "op": "mean"
                }
               ],
               "groupby": [
                "height",
                "tower"
               ]
              },
              {
               "as": "low_bound",
               "calculate": "datum.mean - 0.2*datum.mean"
              },
              {
               "as": "up_bound",
               "calculate": "datum.mean + 0.2*datum.mean"
              }
             ]
            },
            {
             "encoding": {
              "color": {
               "field": "tower",
               "type": "nominal"
              },
              "x": {
               "aggregate": "mean",
               "field": "value",
               "sort": "-y",
               "title": "<u'q'> (g/m^2/s)",
               "type": "quantitative"
              },
              "y": {
               "field": "height",
               "scale": {
                "zero": true
               },
               "title": "height (m)",
               "type": "quantitative"
              }
             },
             "mark": {
              "type": "line"
             },
             "title": [
              "All data, No BS",
              "(n = 5998)"
             ]
            }
           ],
           "width": 150
          },
          {
           "data": {
            "format": {
             "type": "json"
            },
            "url": "altair-data-c1a36acccc74a54de1ca550cbc976d27.json"
           },
           "height": 150,
           "layer": [
            {
             "encoding": {
              "color": {
               "field": "tower",
               "type": "nominal"
              },
              "x": {
               "field": "low_bound",
               "title": "",
               "type": "quantitative"
              },
              "x2": {
               "field": "up_bound"
              },
              "y": {
               "field": "height",
               "scale": {
                "zero": true
               },
               "title": "height (m)",
               "type": "quantitative"
              }
             },
             "mark": {
              "opacity": 0.25,
              "type": "area"
             },
             "transform": [
              {
               "aggregate": [
                {
                 "as": "mean",
                 "field": "value",
                 "op": "mean"
                }
               ],
               "groupby": [
                "height",
                "tower"
               ]
              },
              {
               "as": "low_bound",
               "calculate": "datum.mean - 0.2*datum.mean"
              },
              {
               "as": "up_bound",
               "calculate": "datum.mean + 0.2*datum.mean"
              }
             ]
            },
            {
             "encoding": {
              "color": {
               "field": "tower",
               "type": "nominal"
              },
              "x": {
               "aggregate": "mean",
               "field": "value",
               "sort": "-y",
               "title": "<u'q'> (g/m^2/s)",
               "type": "quantitative"
              },
              "y": {
               "field": "height",
               "scale": {
                "zero": true
               },
               "title": "height (m)",
               "type": "quantitative"
              }
             },
             "mark": {
              "type": "line"
             },
             "title": [
              "Stable, No BS",
              "(n = 5445)"
             ]
            }
           ],
           "width": 150
          },
          {
           "data": {
            "format": {
             "type": "json"
            },
            "url": "altair-data-997d5059306b082025a544038d1ab791.json"
           },
           "height": 150,
           "layer": [
            {
             "encoding": {
              "color": {
               "field": "tower",
               "type": "nominal"
              },
              "x": {
               "field": "low_bound",
               "title": "",
               "type": "quantitative"
              },
              "x2": {
               "field": "up_bound"
              },
              "y": {
               "field": "height",
               "scale": {
                "zero": true
               },
               "title": "height (m)",
               "type": "quantitative"
              }
             },
             "mark": {
              "opacity": 0.25,
              "type": "area"
             },
             "transform": [
              {
               "aggregate": [
                {
                 "as": "mean",
                 "field": "value",
                 "op": "mean"
                }
               ],
               "groupby": [
                "height",
                "tower"
               ]
              },
              {
               "as": "low_bound",
               "calculate": "datum.mean - 0.2*datum.mean"
              },
              {
               "as": "up_bound",
               "calculate": "datum.mean + 0.2*datum.mean"
              }
             ]
            },
            {
             "encoding": {
              "color": {
               "field": "tower",
               "type": "nominal"
              },
              "x": {
               "aggregate": "mean",
               "field": "value",
               "sort": "-y",
               "title": "<u'q'> (g/m^2/s)",
               "type": "quantitative"
              },
              "y": {
               "field": "height",
               "scale": {
                "zero": true
               },
               "title": "height (m)",
               "type": "quantitative"
              }
             },
             "mark": {
              "type": "line"
             },
             "title": [
              "Neutral, No BS",
              "(n = 326)"
             ]
            }
           ],
           "width": 150
          },
          {
           "data": {
            "format": {
             "type": "json"
            },
            "url": "altair-data-2a7dd68f8e3836f128e3ffb2e54100eb.json"
           },
           "height": 150,
           "layer": [
            {
             "encoding": {
              "color": {
               "field": "tower",
               "type": "nominal"
              },
              "x": {
               "field": "low_bound",
               "title": "",
               "type": "quantitative"
              },
              "x2": {
               "field": "up_bound"
              },
              "y": {
               "field": "height",
               "scale": {
                "zero": true
               },
               "title": "height (m)",
               "type": "quantitative"
              }
             },
             "mark": {
              "opacity": 0.25,
              "type": "area"
             },
             "transform": [
              {
               "aggregate": [
                {
                 "as": "mean",
                 "field": "value",
                 "op": "mean"
                }
               ],
               "groupby": [
                "height",
                "tower"
               ]
              },
              {
               "as": "low_bound",
               "calculate": "datum.mean - 0.2*datum.mean"
              },
              {
               "as": "up_bound",
               "calculate": "datum.mean + 0.2*datum.mean"
              }
             ]
            },
            {
             "encoding": {
              "color": {
               "field": "tower",
               "type": "nominal"
              },
              "x": {
               "aggregate": "mean",
               "field": "value",
               "sort": "-y",
               "title": "<u'q'> (g/m^2/s)",
               "type": "quantitative"
              },
              "y": {
               "field": "height",
               "scale": {
                "zero": true
               },
               "title": "height (m)",
               "type": "quantitative"
              }
             },
             "mark": {
              "type": "line"
             },
             "title": [
              "Unstable, No BS",
              "(n = 227)"
             ]
            }
           ],
           "width": 150
          }
         ],
         "resolve": {
          "scale": {
           "x": "shared",
           "y": "shared"
          }
         }
        }
       ]
      },
      "text/plain": [
       "<VegaLite 5 object>\n",
       "\n",
       "If you see this message, it means the renderer has not been properly enabled\n",
       "for the frontend that you are using. For more information, see\n",
       "https://altair-viz.github.io/user_guide/display_frontends.html#troubleshooting\n"
      ]
     },
     "execution_count": 21,
     "metadata": {},
     "output_type": "execute_result"
    }
   ],
   "source": [
    "src_all_data_bs = lateralflux_df_with_bs_indicator.query(\"conditions == 'BS'\").query(\"height > 1\")\n",
    "src_stable_bs = lateralflux_tgrad_stable_df_with_bs_indicator.query(\"conditions == 'BS'\").query(\"height > 1\")\n",
    "src_neutral_bs = lateralflux_tgrad_neutral_df_with_bs_indicator.query(\"conditions == 'BS'\").query(\"height > 1\")\n",
    "src_unstable_bs = lateralflux_tgrad_unstable_df_with_bs_indicator.query(\"conditions == 'BS'\").query(\"height > 1\")\n",
    "\n",
    "src_all_data_nobs = lateralflux_df_with_bs_indicator.query(\"conditions == 'No BS'\").query(\"height > 1\")\n",
    "src_stable_nobs = lateralflux_tgrad_stable_df_with_bs_indicator.query(\"conditions == 'No BS'\").query(\"height > 1\")\n",
    "src_neutral_nobs = lateralflux_tgrad_neutral_df_with_bs_indicator.query(\"conditions == 'No BS'\").query(\"height > 1\")\n",
    "src_unstable_nobs = lateralflux_tgrad_unstable_df_with_bs_indicator.query(\"conditions == 'No BS'\").query(\"height > 1\")\n",
    "\n",
    "\n",
    "\n",
    "(\n",
    "    (\n",
    "        profile_chart(src_all_data_bs,    \"All data, BS\",   \"<u'q'> (g/m^2/s)\",     'tower:N') |\n",
    "        profile_chart(src_stable_bs,      \"Stable, BS\",     \"<u'q'> (g/m^2/s)\",     'tower:N') |\n",
    "        profile_chart(src_neutral_bs,     \"Neutral, BS\",    \"<u'q'> (g/m^2/s)\",     'tower:N') |\n",
    "        profile_chart(src_unstable_bs,    \"Unstable, BS\",   \"<u'q'> (g/m^2/s)\",     'tower:N')\n",
    "    ).resolve_scale(x='shared', y='shared') & (\n",
    "        profile_chart(src_all_data_nobs,    \"All data, No BS\",  \"<u'q'> (g/m^2/s)\", 'tower:N') |\n",
    "        profile_chart(src_stable_nobs,      \"Stable, No BS\",    \"<u'q'> (g/m^2/s)\", 'tower:N') |\n",
    "        profile_chart(src_neutral_nobs,     \"Neutral, No BS\",   \"<u'q'> (g/m^2/s)\", 'tower:N') |\n",
    "        profile_chart(src_unstable_nobs,    \"Unstable, No BS\",  \"<u'q'> (g/m^2/s)\", 'tower:N')\n",
    "    ).resolve_scale(x='shared', y='shared')\n",
    ").resolve_scale(x='shared', y='shared')"
   ]
  },
  {
   "cell_type": "code",
   "execution_count": 22,
   "metadata": {},
   "outputs": [
    {
     "name": "stderr",
     "output_type": "stream",
     "text": [
      "/var/folders/x_/2h52bcjx2px15bhmdpdd748h0000gn/T/ipykernel_99201/1987941277.py:2: SettingWithCopyWarning: \n",
      "A value is trying to be set on a copy of a slice from a DataFrame.\n",
      "Try using .loc[row_indexer,col_indexer] = value instead\n",
      "\n",
      "See the caveats in the documentation: https://pandas.pydata.org/pandas-docs/stable/user_guide/indexing.html#returning-a-view-versus-a-copy\n",
      "  daytime_df['date'] = daytime_df.time.dt.strftime('%Y%m%d')\n",
      "/var/folders/x_/2h52bcjx2px15bhmdpdd748h0000gn/T/ipykernel_99201/1987941277.py:3: SettingWithCopyWarning: \n",
      "A value is trying to be set on a copy of a slice from a DataFrame.\n",
      "Try using .loc[row_indexer,col_indexer] = value instead\n",
      "\n",
      "See the caveats in the documentation: https://pandas.pydata.org/pandas-docs/stable/user_guide/indexing.html#returning-a-view-versus-a-copy\n",
      "  daytime_df['month'] = daytime_df.time.dt.month\n"
     ]
    }
   ],
   "source": [
    "daytime_df = lhflux_measurements_df[lhflux_measurements_df.time.dt.hour.isin([10,11,12,13,14,15,16])]\n",
    "daytime_df['date'] = daytime_df.time.dt.strftime('%Y%m%d')\n",
    "daytime_df['month'] = daytime_df.time.dt.month\n",
    "daytime_daily_mean_profiles_df = daytime_df.groupby(['date', 'month', 'variable', 'height', 'tower'])[['value']].mean().reset_index()"
   ]
  },
  {
   "cell_type": "code",
   "execution_count": 23,
   "metadata": {},
   "outputs": [
    {
     "data": {
      "application/vnd.vegalite.v5+json": {
       "$schema": "https://vega.github.io/schema/vega-lite/v5.17.0.json",
       "config": {
        "view": {
         "continuousHeight": 300,
         "continuousWidth": 300
        }
       },
       "hconcat": [
        {
         "data": {
          "format": {
           "type": "json"
          },
          "url": "altair-data-4b5552e898abbae001c18f067bf7afb8.json"
         },
         "encoding": {
          "color": {
           "field": "tower",
           "type": "nominal"
          },
          "facet": {
           "field": "month",
           "type": "nominal"
          },
          "x": {
           "aggregate": "mean",
           "field": "value",
           "sort": "-y",
           "type": "quantitative"
          },
          "y": {
           "field": "height",
           "type": "quantitative"
          }
         },
         "height": 80,
         "mark": {
          "point": true,
          "type": "line"
         },
         "width": 80
        },
        {
         "data": {
          "format": {
           "type": "json"
          },
          "url": "altair-data-88b45016e6185b9cf0d17cd43259df39.json"
         },
         "encoding": {
          "color": {
           "field": "tower",
           "type": "nominal"
          },
          "facet": {
           "field": "month",
           "type": "nominal"
          },
          "x": {
           "aggregate": "mean",
           "field": "value",
           "sort": "-y",
           "type": "quantitative"
          },
          "y": {
           "field": "height",
           "type": "quantitative"
          }
         },
         "height": 80,
         "mark": {
          "point": true,
          "type": "line"
         },
         "width": 80
        },
        {
         "data": {
          "format": {
           "type": "json"
          },
          "url": "altair-data-14e7f394ba0f12ab3b972ee268cb85c7.json"
         },
         "encoding": {
          "color": {
           "field": "tower",
           "type": "nominal"
          },
          "facet": {
           "field": "month",
           "type": "nominal"
          },
          "x": {
           "aggregate": "mean",
           "field": "value",
           "sort": "-y",
           "type": "quantitative"
          },
          "y": {
           "field": "height",
           "type": "quantitative"
          }
         },
         "height": 80,
         "mark": {
          "point": true,
          "type": "line"
         },
         "width": 80
        },
        {
         "data": {
          "format": {
           "type": "json"
          },
          "url": "altair-data-5d2a3db131f9396a14c3411a7e07db8b.json"
         },
         "encoding": {
          "color": {
           "field": "tower",
           "type": "nominal"
          },
          "facet": {
           "field": "month",
           "type": "nominal"
          },
          "x": {
           "aggregate": "mean",
           "field": "value",
           "sort": "-y",
           "type": "quantitative"
          },
          "y": {
           "field": "height",
           "type": "quantitative"
          }
         },
         "height": 80,
         "mark": {
          "point": true,
          "type": "line"
         },
         "width": 80
        },
        {
         "data": {
          "format": {
           "type": "json"
          },
          "url": "altair-data-5cc499327017f3bbaaf075d169fb5b18.json"
         },
         "encoding": {
          "color": {
           "field": "tower",
           "type": "nominal"
          },
          "facet": {
           "field": "month",
           "type": "nominal"
          },
          "x": {
           "aggregate": "mean",
           "field": "value",
           "sort": "-y",
           "type": "quantitative"
          },
          "y": {
           "field": "height",
           "type": "quantitative"
          }
         },
         "height": 80,
         "mark": {
          "point": true,
          "type": "line"
         },
         "width": 80
        },
        {
         "data": {
          "format": {
           "type": "json"
          },
          "url": "altair-data-9a9e1a2ccc9efc469e058eb5cd78186f.json"
         },
         "encoding": {
          "color": {
           "field": "tower",
           "type": "nominal"
          },
          "facet": {
           "field": "month",
           "type": "nominal"
          },
          "x": {
           "aggregate": "mean",
           "field": "value",
           "sort": "-y",
           "type": "quantitative"
          },
          "y": {
           "field": "height",
           "type": "quantitative"
          }
         },
         "height": 80,
         "mark": {
          "point": true,
          "type": "line"
         },
         "width": 80
        }
       ]
      },
      "text/plain": [
       "<VegaLite 5 object>\n",
       "\n",
       "If you see this message, it means the renderer has not been properly enabled\n",
       "for the frontend that you are using. For more information, see\n",
       "https://altair-viz.github.io/user_guide/display_frontends.html#troubleshooting\n"
      ]
     },
     "execution_count": 23,
     "metadata": {},
     "output_type": "execute_result"
    }
   ],
   "source": [
    "alt.Chart(\n",
    "    daytime_daily_mean_profiles_df.query(\"month == 12\").query(\"height > 2\")\n",
    ").mark_line(point=True).encode(\n",
    "    alt.X(\"mean(value):Q\").sort('-y'),\n",
    "    alt.Y(\"height\"),\n",
    "    alt.Color(\"tower:N\"),\n",
    "    alt.Facet(\"month:N\")\n",
    ").properties(width=80, height = 80) | alt.Chart(\n",
    "    daytime_daily_mean_profiles_df.query(\"month == 1\").query(\"height > 2\")\n",
    ").mark_line(point=True).encode(\n",
    "    alt.X(\"mean(value):Q\").sort('-y'),\n",
    "    alt.Y(\"height\"),\n",
    "    alt.Color(\"tower:N\"),\n",
    "    alt.Facet(\"month:N\")\n",
    ").properties(width=80, height = 80) | alt.Chart(\n",
    "    daytime_daily_mean_profiles_df.query(\"month == 2\").query(\"height > 2\")\n",
    ").mark_line(point=True).encode(\n",
    "    alt.X(\"mean(value):Q\").sort('-y'),\n",
    "    alt.Y(\"height\"),\n",
    "    alt.Color(\"tower:N\"),\n",
    "    alt.Facet(\"month:N\")\n",
    ").properties(width=80, height = 80) | alt.Chart(\n",
    "    daytime_daily_mean_profiles_df.query(\"month == 3\").query(\"height > 2\")\n",
    ").mark_line(point=True).encode(\n",
    "    alt.X(\"mean(value):Q\").sort('-y'),\n",
    "    alt.Y(\"height\"),\n",
    "    alt.Color(\"tower:N\"),\n",
    "    alt.Facet(\"month:N\")\n",
    ").properties(width=80, height = 80) | alt.Chart(\n",
    "    daytime_daily_mean_profiles_df.query(\"month == 4\").query(\"height > 2\")\n",
    ").mark_line(point=True).encode(\n",
    "    alt.X(\"mean(value):Q\").sort('-y'),\n",
    "    alt.Y(\"height\"),\n",
    "    alt.Color(\"tower:N\"),\n",
    "    alt.Facet(\"month:N\")\n",
    ").properties(width=80, height = 80) | alt.Chart(\n",
    "    daytime_daily_mean_profiles_df.query(\"month == 5\").query(\"height > 2\")\n",
    ").mark_line(point=True).encode(\n",
    "    alt.X(\"mean(value):Q\").sort('-y'),\n",
    "    alt.Y(\"height\"),\n",
    "    alt.Color(\"tower:N\"),\n",
    "    alt.Facet(\"month:N\")\n",
    ").properties(width=80, height = 80)"
   ]
  },
  {
   "cell_type": "markdown",
   "metadata": {},
   "source": [
    "# Examine how divergence varies with instrument distance from snow surface"
   ]
  },
  {
   "cell_type": "code",
   "execution_count": null,
   "metadata": {},
   "outputs": [],
   "source": [
    "div_variation = tidy_df[tidy_df.variable.isin([\n",
    "    # 'w_h2o__1m_c',\n",
    "    'w_h2o__2m_c',\n",
    "    'w_h2o__3m_c',\n",
    "    'w_h2o__5m_c',\n",
    "    'w_h2o__10m_c',\n",
    "    'w_h2o__15m_c',\n",
    "    'w_h2o__20m_c',\n",
    "    'SnowDepth_c',\n",
    "])].pivot(index='time', columns='variable', values='value').reset_index()\n",
    "div_variation['height_adj'] = 2 - div_variation['SnowDepth_c']\n",
    "\n",
    "div_variation['lhflux_div_2_3'] = (div_variation['w_h2o__3m_c'] - div_variation['w_h2o__2m_c']) / 1\n",
    "div_variation['lhflux_div_3_5'] = (div_variation['w_h2o__5m_c'] - div_variation['w_h2o__3m_c']) / 2\n",
    "div_variation['lhflux_div_5_10'] = (div_variation['w_h2o__10m_c'] - div_variation['w_h2o__5m_c']) / 5"
   ]
  },
  {
   "cell_type": "code",
   "execution_count": null,
   "metadata": {},
   "outputs": [],
   "source": [
    "chart_2_3 = alt.Chart(div_variation).transform_filter(\n",
    "    alt.datum.lhflux_div_2_3 <= 1\n",
    ").transform_filter(\n",
    "    alt.datum.lhflux_div_2_3 >= -1\n",
    ").mark_boxplot(outliers=False).encode(\n",
    "    alt.X(\"SnowDepth_c:Q\").bin(True).title(\"Snow Depth (m)\"),\n",
    "    alt.Y(\"lhflux_div_2_3:Q\").title(\"d(w'q')/dz, 2-3m\")\n",
    ") + alt.Chart().transform_calculate(y = '0').mark_rule(strokeWidth=2).encode(y='y:Q').properties(width=200, height=200)\n",
    "\n",
    "chart_3_5 = alt.Chart(div_variation).transform_filter(\n",
    "    alt.datum.lhflux_div_3_5 <= 1\n",
    ").transform_filter(\n",
    "    alt.datum.lhflux_div_3_5 >= -1\n",
    ").mark_boxplot(outliers=False).encode(\n",
    "    alt.X(\"SnowDepth_c:Q\").bin(True).title(\"Snow Depth (m)\"),\n",
    "    alt.Y(\"lhflux_div_3_5:Q\").title(\"d(w'q')/dz, 3-5m\")\n",
    ")+ alt.Chart().transform_calculate(y = '0').mark_rule(strokeWidth=2).encode(y='y:Q').properties(width=200, height=200)\n",
    "\n",
    "chart_5_10 = alt.Chart(div_variation).transform_filter(\n",
    "    alt.datum.lhflux_div_5_10 <= 1\n",
    ").transform_filter(\n",
    "    alt.datum.lhflux_div_5_10 >= -1\n",
    ").mark_boxplot(outliers=False).encode(\n",
    "    alt.X(\"SnowDepth_c:Q\").bin(True).title(\"Snow Depth (m)\"),\n",
    "    alt.Y(\"lhflux_div_5_10:Q\").title((\"d(w'q')/dz, 5-10m\"))\n",
    ")+ alt.Chart().transform_calculate(y = '0').mark_rule(strokeWidth=2).encode(y='y:Q').properties(width=200, height=200)\n",
    "\n",
    "(chart_2_3 & chart_3_5 & chart_5_10).display(renderer='svg')"
   ]
  },
  {
   "cell_type": "code",
   "execution_count": null,
   "metadata": {},
   "outputs": [],
   "source": [
    "import scipy.stats\n",
    "scipy.stats.ks_2samp"
   ]
  },
  {
   "cell_type": "code",
   "execution_count": null,
   "metadata": {},
   "outputs": [],
   "source": [
    "snow_is_deep = div_variation[['lhflux_div_2_3', 'SnowDepth_c']].query(\"SnowDepth_c > 1.2\")\n",
    "snow_is_not_deep = div_variation[['lhflux_div_2_3', 'SnowDepth_c']].query(\"SnowDepth_c <= 1.2\")\n",
    "\n",
    "scipy.stats.ks_2samp(snow_is_deep, snow_is_not_deep)"
   ]
  },
  {
   "cell_type": "code",
   "execution_count": null,
   "metadata": {},
   "outputs": [],
   "source": [
    "snow_is_deep = div_variation[['lhflux_div_3_5', 'SnowDepth_c']].query(\"SnowDepth_c > 1.2\")\n",
    "snow_is_not_deep = div_variation[['lhflux_div_3_5', 'SnowDepth_c']].query(\"SnowDepth_c <= 1.2\")\n",
    "\n",
    "scipy.stats.ks_2samp(snow_is_deep, snow_is_not_deep)"
   ]
  },
  {
   "cell_type": "markdown",
   "metadata": {},
   "source": [
    "# December wind event case study"
   ]
  },
  {
   "cell_type": "markdown",
   "metadata": {},
   "source": [
    "## Plot Vertical Profiles"
   ]
  },
  {
   "cell_type": "markdown",
   "metadata": {},
   "source": [
    "Sensible heat"
   ]
  },
  {
   "cell_type": "code",
   "execution_count": null,
   "metadata": {},
   "outputs": [],
   "source": [
    "src = tidy_df[tidy_df.variable.isin([\n",
    "    'w_tc__1m_c', 'w_tc__2m_c', 'w_tc__3m_c', 'w_tc__5m_c', 'w_tc__10m_c', 'w_tc__15m_c', 'w_tc__20m_c',\n",
    "    'w_tc__1m_ue',  'w_tc__1m_uw',  'w_tc__1m_d',\n",
    "    'w_tc__3m_ue',  'w_tc__3m_uw',  'w_tc__3m_d',\n",
    "    'w_tc__10m_ue', 'w_tc__10m_uw', 'w_tc__10m_d',\n",
    "])]\n",
    "# Tower uw was buried during this event, so lets not look at that data\n",
    "src = src.query(\"tower != 'uw'\")\n",
    "w_tc_prof_timeseries_chart = alt.Chart(\n",
    "    src[\n",
    "        src.time.dt.minute == 0\n",
    "    ].set_index('time').loc[\n",
    "        \"2022-12-21 12\": \"2022-12-21 23\"\n",
    "    ].reset_index()\n",
    ").mark_line(point=True).encode(\n",
    "        alt.X(\"mean(value):Q\").sort('-y').title(\"w'tc'\"), #.scale(domain=[-0.25,0], clamp=True),\n",
    "        alt.Y(\"height:Q\"),\n",
    "        alt.Color(\"tower:N\"),\n",
    "        # alt.Color(\"hours(time):O\"),\n",
    "        alt.Facet(\"time:T\").header(labelFontSize=0).title(None),\n",
    "    ).properties(width=75,height=75)"
   ]
  },
  {
   "cell_type": "markdown",
   "metadata": {},
   "source": [
    "Potential temperature"
   ]
  },
  {
   "cell_type": "code",
   "execution_count": null,
   "metadata": {},
   "outputs": [],
   "source": [
    "src = tidy_df[tidy_df.measurement.isin([\n",
    "    'surface potential temperature',\n",
    "    'potential temperature'\n",
    "])].query(\"tower == 'c'\")\n",
    "theta_prof_timeseries_chart = alt.Chart(\n",
    "    src[\n",
    "        src.time.dt.minute == 0\n",
    "    ].set_index('time').loc[\n",
    "        \"2022-12-21 12\": \"2022-12-21 23\"\n",
    "    ].reset_index()\n",
    ").mark_line(point=True).encode(\n",
    "        alt.X(\"mean(value):Q\").sort('-y').title(\"theta\").scale(zero=False),\n",
    "        alt.Y(\"height:Q\"),\n",
    "        # alt.Color(\"hours(time):O\"),\n",
    "        alt.Facet(\"time:T\").header(labelFontSize=0).title(None),\n",
    "        tooltip='height:Q'\n",
    "    ).properties(width=75,height=75)"
   ]
  },
  {
   "cell_type": "markdown",
   "metadata": {},
   "source": [
    "Temperature"
   ]
  },
  {
   "cell_type": "code",
   "execution_count": null,
   "metadata": {},
   "outputs": [],
   "source": [
    "src = tidy_df[tidy_df.measurement.isin([\n",
    "    'surface temperature',\n",
    "    'temperature'\n",
    "])].query(\"tower == 'c'\")\n",
    "T_prof_timeseries_chart = alt.Chart(\n",
    "    src[\n",
    "        src.time.dt.minute == 0\n",
    "    ].set_index('time').loc[\n",
    "        \"2022-12-21 12\": \"2022-12-21 23\"\n",
    "    ].reset_index()\n",
    ").mark_line(point=True).encode(\n",
    "        alt.X(\"mean(value):Q\").sort('-y').title(\"theta\").scale(zero=False),\n",
    "        alt.Y(\"height:Q\"),\n",
    "        # alt.Color(\"hours(time):O\"),\n",
    "        alt.Facet(\"time:T\").header(labelFontSize=0).title(None),\n",
    "        tooltip='height:Q'\n",
    "    ).properties(width=75,height=75)\n",
    "T_prof_timeseries_chart"
   ]
  },
  {
   "cell_type": "markdown",
   "metadata": {},
   "source": [
    "lh flux "
   ]
  },
  {
   "cell_type": "code",
   "execution_count": null,
   "metadata": {},
   "outputs": [],
   "source": [
    "src = tidy_df[tidy_df.variable.isin([\n",
    "    'w_h2o__1m_c', 'w_h2o__2m_c', 'w_h2o__3m_c', 'w_h2o__5m_c', 'w_h2o__10m_c', 'w_h2o__15m_c', 'w_h2o__20m_c',\n",
    "    'w_h2o__1m_ue',  'w_h2o__1m_uw',  'w_h2o__1m_d',\n",
    "    'w_h2o__3m_ue',  'w_h2o__3m_uw',  'w_h2o__3m_d',\n",
    "    'w_h2o__10m_ue', 'w_h2o__10m_uw', 'w_h2o__10m_d',\n",
    "])]\n",
    "# Tower uw was buried during this event, so lets not look at that data\n",
    "src = src.query(\"tower != 'uw'\")\n",
    "w_q_prof_timeseries_chart = alt.Chart(\n",
    "    src[\n",
    "        src.time.dt.minute == 0\n",
    "    ].set_index('time').loc[\n",
    "        \"2022-12-21 12\": \"2022-12-21 23\"\n",
    "    ].reset_index()\n",
    ").mark_line(point=True).encode(\n",
    "        alt.X(\"mean(value):Q\").sort('-y').scale(domain=[0, 0.05], clamp=True).title(\"w'q'\"),\n",
    "        alt.Y(\"height:Q\"),\n",
    "        alt.Color(\"tower:N\"),\n",
    "        # alt.Color(\"hours(time):O\"),\n",
    "        alt.Facet(\"time:T\").header(format=\"%m/%d %H:%M\")\n",
    "    ).properties(width=75,height=75)"
   ]
  },
  {
   "cell_type": "code",
   "execution_count": null,
   "metadata": {},
   "outputs": [],
   "source": [
    "alt.Chart(\n",
    "    src[\n",
    "        src.time.dt.minute == 0\n",
    "    ].set_index('time').loc[\n",
    "        \"2022-12-21 1955\": \"2022-12-21 2005\"\n",
    "    ].reset_index().query(\"tower == 'c'\").query(\"height <= 10\")\n",
    ").mark_line(point=True).encode(\n",
    "        alt.X(\"mean(value):Q\").sort('-y').scale(domain=[0, 0.05], clamp=True).title(\"<w'q'> (g/m^2/s)\"),\n",
    "        alt.Y(\"height:Q\").scale(domain=[0,20]).title(\"height (m)\"),\n",
    "        # alt.Color(\"tower:N\"),\n",
    "        # alt.Color(\"hours(time):O\"),\n",
    "        alt.Facet(\"time:T\").header(format=\"%m/%d %H:%M\")\n",
    "    ).properties(width=100,height=100)"
   ]
  },
  {
   "cell_type": "markdown",
   "metadata": {},
   "source": [
    "RH"
   ]
  },
  {
   "cell_type": "code",
   "execution_count": null,
   "metadata": {},
   "outputs": [],
   "source": [
    "src = tidy_df[tidy_df.measurement=='RH'].query(\"height != 6\").query(\"height != 12\")\n",
    "rh_prof_timeseries_chart = alt.Chart(\n",
    "    src[\n",
    "        src.time.dt.minute == 0\n",
    "    ].set_index('time').loc[\n",
    "        \"2022-12-21 12\": \"2022-12-21 23\"\n",
    "    ].reset_index()\n",
    ").mark_circle().encode(\n",
    "        alt.X(\"mean(value):Q\").sort('-y').title(\"RH (%)\").scale(domain=[55,75]),\n",
    "        alt.Y(\"height:Q\"),\n",
    "        alt.Color(\"tower:N\"),\n",
    "        # alt.Color(\"hours(time):O\"),\n",
    "        alt.Facet(\"time:T\").header(labelFontSize=0).title(None),\n",
    "        tooltip='height:Q'\n",
    "    ).properties(width=75,height=75)"
   ]
  },
  {
   "cell_type": "markdown",
   "metadata": {},
   "source": [
    "blowing snow time series"
   ]
  },
  {
   "cell_type": "code",
   "execution_count": null,
   "metadata": {},
   "outputs": [],
   "source": [
    "# src = tidy_df[tidy_df.variable == 'SF_avg_ue']\n",
    "src = tidy_df[tidy_df.variable.isin(['SF_avg_1m_ue', 'SF_avg_2m_ue'])]\n",
    "# src = src[src.time.isin(bs_times)]\n",
    "bs_flux_timeseries_chart = alt.Chart(\n",
    "    src.set_index('time').loc[\n",
    "        \"2022-12-21 12\": \"2022-12-21 23\"\n",
    "    ].reset_index().query(\"value > 0\")\n",
    ").mark_circle(point=True, size=75).encode(\n",
    "        alt.X(\"time:T\"),\n",
    "        alt.Y(\"value:Q\").scale(type='log').title(\"Blowing snow flux (g/m^2/s)\"),\n",
    "        alt.Color(\"height:O\")\n",
    ").properties(width=1140,height=100) \n",
    "\n",
    "src = tidy_df[tidy_df.variable.isin(['spd_3m_c', 'spd_5m_c', 'spd_20m_c'])]\n",
    "windspd_timeseries_chart = alt.Chart(\n",
    "    src.set_index('time').loc[\n",
    "        \"2022-12-21 12\": \"2022-12-21 23\"\n",
    "    ].reset_index().query(\"value > 0\")\n",
    ").mark_line().encode(\n",
    "        alt.X(\"time:T\").axis(labels=False).title(None),\n",
    "        alt.Y(\"value:Q\").title(\"Wind speed (m/s)\"),\n",
    "        alt.Color(\"height:O\")\n",
    ").properties(width=1140,height=100) \n",
    "\n",
    "\n",
    "src = tidy_df[tidy_df.variable.isin(['u*_3m_c', 'u*_5m_c', 'u*_20m_c'])]\n",
    "ufric_timeseries_chart = alt.Chart(\n",
    "    src.set_index('time').loc[\n",
    "        \"2022-12-21 12\": \"2022-12-21 23\"\n",
    "    ].reset_index().query(\"value > 0\")\n",
    ").mark_line().encode(\n",
    "        alt.X(\"time:T\").axis(labels=False).title(None),\n",
    "        alt.Y(\"value:Q\").title(\"Friction velocity (m/s)\"),\n",
    "        alt.Color(\"height:O\")\n",
    ").properties(width=1140,height=100) \n"
   ]
  },
  {
   "cell_type": "code",
   "execution_count": null,
   "metadata": {},
   "outputs": [],
   "source": [
    "(\n",
    "    ufric_timeseries_chart & windspd_timeseries_chart & bs_flux_timeseries_chart & \n",
    "    (w_q_prof_timeseries_chart & rh_prof_timeseries_chart & w_tc_prof_timeseries_chart & theta_prof_timeseries_chart)\n",
    ").resolve_scale(color='independent')"
   ]
  },
  {
   "cell_type": "markdown",
   "metadata": {},
   "source": [
    "Look at time series of Snow surface temperature, and other related variables, to see what is going on with surface temperatures during the blowing snow event"
   ]
  },
  {
   "cell_type": "code",
   "execution_count": null,
   "metadata": {},
   "outputs": [],
   "source": [
    "src = tidy_df.set_index('time').sort_index().loc[\n",
    "    \"2022-12-21 12\": \"2022-12-22 23\"\n",
    "].reset_index()\n",
    "# Create DF with renamed Tsnow variables to clarify that they are air sensors at this time because\n",
    "# snowdepth during this time period is 30-40cm, so the in-snow T sensors are ~10, 20cm above snow\n",
    "in_snow_sensors_as_air_sensors_df = src[src.variable.isin([\n",
    "    'T_2m_c',\n",
    "    'Tsnow_0_4m_d', 'Tsnow_0_5m_d', 'Tsnow_0_6m_d', 'Tsnow_0_7m_d',\n",
    "    'SnowDepth_c'\n",
    "])].pivot(index='time', columns='variable', values='value')\n",
    "in_snow_sensors_as_air_sensors_df['T_00cm_c'] = in_snow_sensors_as_air_sensors_df['Tsnow_0_4m_d']\n",
    "in_snow_sensors_as_air_sensors_df['T_10cm_c'] = in_snow_sensors_as_air_sensors_df['Tsnow_0_5m_d']\n",
    "in_snow_sensors_as_air_sensors_df['T_20cm_c'] = in_snow_sensors_as_air_sensors_df['Tsnow_0_6m_d']\n",
    "in_snow_sensors_as_air_sensors_df['T_30cm_c'] = in_snow_sensors_as_air_sensors_df['Tsnow_0_7m_d']\n",
    "in_snow_sensors_as_air_sensors_df = in_snow_sensors_as_air_sensors_df.reset_index().melt(id_vars='time')   \n",
    "\n",
    "# Create DF to hold the COARE model results we care about here\n",
    "# and to rename the run we did using the in-snow temp\n",
    "coare_model_results_local = coare_model_results[coare_model_results.config.isin([\n",
    "    \"Tsurf_d e_sat_alduchov 0.0005\",\n",
    "    \"Tsurf_c e_sat_alduchov 0.0005\",\n",
    "    \"Tsnow_0_4m_d e_sat_alduchov 0.0005\",\n",
    "])].set_index(\"time\").sort_index().loc[\n",
    "    src.time.min():src.time.max()\n",
    "].reset_index()\n",
    "coare_model_results_local.surface_measurement = coare_model_results_local.surface_measurement.replace(\n",
    "    \"Tsnow_0_4m_d\",\n",
    "    'T_00cm_c'\n",
    ")\n",
    "\n",
    "bs_case_study =(alt.Chart(src[src.variable == 'SF_avg_ue']).mark_line().encode(\n",
    "    alt.X(\"time:T\").axis(labels=False).title(None),\n",
    "    alt.Y(\"value:Q\").title(\"BS flux (g/m^2/s)\"),\n",
    ").properties(height = 100) &\\\n",
    "alt.Chart(in_snow_sensors_as_air_sensors_df[in_snow_sensors_as_air_sensors_df.variable.isin(\n",
    "    ['T_00cm_c', 'T_10cm_c', 'T_20cm_c', 'T_30cm_c', 'T_2m_c']\n",
    ")]).mark_line().encode(\n",
    "    alt.X(\"time:T\").axis(labels=False).title(None),\n",
    "    alt.Y(\"value:Q\").title(\"Temp. (˚C)\"),\n",
    "    alt.Color(\"variable:O\").scale(\n",
    "        domain = ['T_00cm_c', 'T_10cm_c', 'T_20cm_c', 'T_30cm_c', 'T_2m_c'],\n",
    "        range=['lightsteelblue', 'cornflowerblue', 'royalblue', 'blue', 'black']\n",
    "    ).title([\"Temp. Measurement\", \"(near-surface and air)\"]),\n",
    ").resolve_scale(x='shared', y='independent', color='independent').properties(height = 100) &\\\n",
    "alt.Chart(src[src.variable.isin([\n",
    "    'T_2m_c',\n",
    "    'Tsurf_d',\n",
    "    'Tsurf_c',\n",
    "    'Tsurf_uw',\n",
    "    'Tsurf_ue',\n",
    "    'Tsurf_rad_d',\n",
    "])]).mark_line().encode(\n",
    "    alt.X(\"time:T\").axis(labels=False).title(None),\n",
    "    alt.Y(\"value:Q\").title(\"Temp. (˚C)\"),\n",
    "    alt.Color(\"variable:O\").scale(range=[\n",
    "        'black', '#1f77b4', '#ff7f0e', '#2ca02c', '#d62728', '#9467bd'\n",
    "    ]).title([\"Temp. Measurement\", \"(surface and air)\"]),\n",
    "    detail='variable'\n",
    ").resolve_scale(x='shared', y='independent').properties(height = 100)).resolve_scale(color='independent', strokeDash='independent') &\\\n",
    "alt.Chart(\n",
    "    tidy_df.query(\"variable == 'w_h2o__3m_c'\").set_index(\"time\").loc[\n",
    "        \"20221221\": \"20221223\"\n",
    "    ].reset_index()\n",
    ").mark_line(color='black').encode(\n",
    "    alt.X(\"time:T\"),\n",
    "    alt.Y(\"value:Q\"),\n",
    ").properties(height = 100) + alt.Chart(\n",
    "    coare_model_results_local\n",
    ").mark_line().encode(\n",
    "    alt.X(\"time:T\"),\n",
    "    alt.Y(\"hlb_gperm2s\").title(\"w'q' (g/m^s/2)\"),\n",
    "    alt.Color(\"surface_measurement\").title([\n",
    "        \"Tsurf used for\",\n",
    "        \"model input\"\n",
    "    ])\n",
    ")"
   ]
  },
  {
   "cell_type": "code",
   "execution_count": null,
   "metadata": {},
   "outputs": [],
   "source": [
    "src = tidy_df.set_index('time').sort_index().loc[\n",
    "    \"20230210\": \"20230212\"\n",
    "].reset_index()\n",
    "# rename the Tsnow variables so clarify that the snowdepth during this time period is 88cm, \n",
    "# so the in-snow T sensors are actually ~10, 20, cm above the snow surface\n",
    "# When we looked at T sensors at 80cm and 90cm, they were clearly under snow (signal attenuated)\n",
    "# So we think its a decent estimate that the snow by the instrument is actually ~1m deep\n",
    "in_snow_sensors_as_air_sensors_df = src[src.variable.isin([\n",
    "    'T_2m_c',\n",
    "    'Tsnow_1_0m_d',\n",
    "    'Tsnow_1_1m_d',\n",
    "    'Tsnow_1_2m_d',\n",
    "    'Tsnow_1_3m_d',\n",
    "    # 'Tsnow_1_4m_d',\n",
    "    'SnowDepth_c'\n",
    "])].pivot(index='time', columns='variable', values='value')\n",
    "in_snow_sensors_as_air_sensors_df['T_00cm_c'] = in_snow_sensors_as_air_sensors_df['Tsnow_1_0m_d']\n",
    "in_snow_sensors_as_air_sensors_df['T_10cm_c'] = in_snow_sensors_as_air_sensors_df['Tsnow_1_1m_d']\n",
    "in_snow_sensors_as_air_sensors_df['T_20cm_c'] = in_snow_sensors_as_air_sensors_df['Tsnow_1_2m_d']\n",
    "in_snow_sensors_as_air_sensors_df['T_30cm_c'] = in_snow_sensors_as_air_sensors_df['Tsnow_1_3m_d']\n",
    "in_snow_sensors_as_air_sensors_df = in_snow_sensors_as_air_sensors_df.reset_index().melt(id_vars='time')\n",
    "\n",
    "# Create DF to hold the COARE model results we care about here\n",
    "# and to rename the run we did using the in-snow temp\n",
    "coare_model_results_local = coare_model_results[coare_model_results.config.isin([\n",
    "    \"Tsurf_d e_sat_alduchov 0.0005\",\n",
    "    \"Tsurf_c e_sat_alduchov 0.0005\",\n",
    "    \"Tsnow_1_0m_d e_sat_alduchov 0.0005\",\n",
    "])].set_index(\"time\").sort_index().loc[\n",
    "    src.time.min():src.time.max()\n",
    "].reset_index()\n",
    "coare_model_results_local.surface_measurement = coare_model_results_local.surface_measurement.replace(\n",
    "    'Tsnow_1_0m_d',\n",
    "    'T_00cm_c'\n",
    ")\n",
    "\n",
    "clear_case_study = (alt.Chart(src[src.variable == 'SF_avg_ue']).mark_line().encode(\n",
    "    alt.X(\"time:T\").axis(labels=False).title(None),\n",
    "    alt.Y(\"value:Q\").title(\"BS flux (g/m^2/s)\"),\n",
    ").properties(height = 100) &\\\n",
    "alt.Chart(in_snow_sensors_as_air_sensors_df[in_snow_sensors_as_air_sensors_df.variable.isin(\n",
    "    ['T_2m_c', 'T_00cm_c', 'T_10cm_c', 'T_20cm_c','T_30cm_c']\n",
    ")]).mark_line().encode(\n",
    "    alt.X(\"time:T\").axis(labels=False).title(None),\n",
    "    alt.Y(\"value:Q\").title(\"Temp. (˚C)\"),\n",
    "    alt.Color(\"variable:O\").scale(\n",
    "        domain = ['T_00cm_c', 'T_10cm_c', 'T_20cm_c','T_30cm_c', 'T_2m_c', ],\n",
    "        range=['lightsteelblue', 'cornflowerblue', 'royalblue', 'blue', 'black']\n",
    "    ).title([\"Temp. Measurement\", \"(near-surface and air)\"]),\n",
    "    # alt.StrokeDash(\"measurement:N\"),\n",
    "    detail='variable'\n",
    ").resolve_scale(x='shared', y='independent', color='independent').properties(height = 100) &\\\n",
    "alt.Chart(src[src.variable.isin([\n",
    "    'T_2m_c',\n",
    "    'Tsurf_d',\n",
    "    'Tsurf_c',\n",
    "    'Tsurf_uw',\n",
    "    'Tsurf_ue',\n",
    "    'Tsurf_rad_d',\n",
    "])]).mark_line().encode(\n",
    "    alt.X(\"time:T\").axis(labels=False).title(None),\n",
    "    alt.Y(\"value:Q\").title(\"Temp. (˚C)\"),\n",
    "    alt.Color(\"variable:O\").scale(range=[\n",
    "        'black', '#1f77b4', '#ff7f0e', '#2ca02c', '#d62728', '#9467bd'\n",
    "    ]).title([\"Temp. Measurement\", \"(surface and air)\"]),\n",
    "    # alt.StrokeDash(\"measurement:N\"),\n",
    "    detail='variable'\n",
    ").resolve_scale(x='shared', y='independent').properties(height = 100)).resolve_scale(color='independent', strokeDash='independent') &\\\n",
    "alt.Chart(\n",
    "    tidy_df.query(\"variable == 'w_h2o__3m_c'\").set_index(\"time\").loc[\n",
    "        \"20230210\": \"20230212\"\n",
    "    ].reset_index()\n",
    ").mark_line(color='black').encode(\n",
    "    alt.X(\"time:T\"),\n",
    "    alt.Y(\"value:Q\")\n",
    ").properties(height = 100) + alt.Chart(\n",
    "    coare_model_results_local\n",
    ").mark_line().encode(\n",
    "    alt.X(\"time:T\"),\n",
    "    alt.Y(\"hlb_gperm2s\").title(\"w'q' (g/m^s/2)\"),\n",
    "    alt.Color(\"surface_measurement:N\").title([\n",
    "        \"Tsurf used for\",\n",
    "        \"model input\"\n",
    "    ])\n",
    ")"
   ]
  },
  {
   "cell_type": "code",
   "execution_count": null,
   "metadata": {},
   "outputs": [],
   "source": [
    "(bs_case_study | clear_case_study)"
   ]
  },
  {
   "cell_type": "code",
   "execution_count": null,
   "metadata": {},
   "outputs": [],
   "source": []
  }
 ],
 "metadata": {
  "kernelspec": {
   "display_name": "arm",
   "language": "python",
   "name": "python3"
  },
  "language_info": {
   "codemirror_mode": {
    "name": "ipython",
    "version": 3
   },
   "file_extension": ".py",
   "mimetype": "text/x-python",
   "name": "python",
   "nbconvert_exporter": "python",
   "pygments_lexer": "ipython3",
   "version": "3.12.1"
  }
 },
 "nbformat": 4,
 "nbformat_minor": 2
}
