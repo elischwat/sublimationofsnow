{
 "cells": [
  {
   "cell_type": "markdown",
   "metadata": {},
   "source": [
    "Take the sos netcdfs, add a bunch of useful variables, save as a tidy dataset."
   ]
  },
  {
   "cell_type": "code",
   "execution_count": 1,
   "metadata": {},
   "outputs": [],
   "source": [
    "import numpy as np\n",
    "import xarray as xr\n",
    "import pandas as pd\n",
    "import datetime as dt\n",
    "\n",
    "from sublimpy import variables\n",
    "from sublimpy import utils\n",
    "from sublimpy import tidy\n",
    "\n",
    "import matplotlib.pyplot as plt\n",
    "\n",
    "import altair as alt\n",
    "alt.data_transformers.enable('json')\n",
    "\n",
    "from metpy.calc import specific_humidity_from_mixing_ratio\n",
    "from metpy.units import units\n",
    "import metpy.constants\n",
    "import pint_pandas\n",
    "import pint_xarray\n",
    "import xarray as xr\n",
    "import os\n",
    "import itertools\n",
    "\n",
    "from tqdm import tqdm\n",
    "from joblib import Parallel, delayed\n",
    "\n",
    "from metpy.constants import density_water"
   ]
  },
  {
   "cell_type": "code",
   "execution_count": 2,
   "metadata": {},
   "outputs": [],
   "source": [
    "example_ds = xr.open_dataset(\"/Users/elischwat/Development/data/sublimationofsnow/sosqc/sos_qc_geo_tiltcor_v20240307/isfs_sos_qc_geo_tiltcor_5min_20230122.nc\")"
   ]
  },
  {
   "attachments": {},
   "cell_type": "markdown",
   "metadata": {},
   "source": [
    "# Inputs"
   ]
  },
  {
   "cell_type": "code",
   "execution_count": 3,
   "metadata": {},
   "outputs": [],
   "source": [
    "sos_data_dir = '/Users/elischwat/Development/data/sublimationofsnow/sosqc/sos_qc_geo_tiltcor_v20240307/'\n",
    "DATE_FORMAT_STR = '%Y%m%d'\n",
    "start_date = '20221130'\n",
    "end_date = '20230509'\n",
    "PLANAR_FIT = False\n",
    "\n",
    "datelist = pd.date_range(\n",
    "    dt.datetime.strptime(start_date, DATE_FORMAT_STR),\n",
    "    dt.datetime.strptime(end_date, DATE_FORMAT_STR),\n",
    "    freq='d'\n",
    ").strftime(DATE_FORMAT_STR).tolist()"
   ]
  },
  {
   "cell_type": "code",
   "execution_count": 4,
   "metadata": {},
   "outputs": [],
   "source": [
    "# Separate out the eddy covariance measurement variable names because they are very repetitive\n",
    "ec_measurement_suffixes = [\n",
    "    '1m_ue',    '2m_ue',    '3m_ue',    '10m_ue', \n",
    "    '1m_d',     '2m_d',     '3m_d',     '10m_d',\n",
    "    '1m_uw',    '2m_uw',    '2_5m_uw',  '3m_uw',    '10m_uw', \n",
    "    '1m_c',     '2m_c',     '3m_c',     '5m_c',     '10m_c',    '15m_c',    '20m_c'\n",
    "]\n",
    "\n",
    "sonic_measurement_prefixes = [\n",
    "    'u_', 'v_', 'w_', 'tc_', 'spd_', 'dir_', \n",
    "    'u_u__', 'v_v__', 'w_w__', 'tc_tc__', \n",
    "    'u_w__', 'v_w__', 'u_v__', \n",
    "    'u_tc__', 'v_tc__', 'w_tc__', \n",
    "    'u_u_u__', 'v_v_v__', 'w_w_w__', \n",
    "    'tc_tc_tc__', \n",
    "]\n",
    "irga_measurement_prefixes = [\n",
    "    'h2o_', 'h2o_h2o__', 'h2o_h2o_h2o__', \n",
    "]\n",
    "sonic_plus_irga_measurement_prefixes = [\n",
    "    'u_h2o__', 'v_h2o__', 'w_h2o__', \n",
    "]\n",
    "ec_measurement_prefixes = sonic_measurement_prefixes + irga_measurement_prefixes + sonic_plus_irga_measurement_prefixes\n",
    "\n",
    "ec_variable_names = [\n",
    "    (prefix + suffix) for prefix in ec_measurement_prefixes for suffix in ec_measurement_suffixes\n",
    "]\n",
    "\n",
    "counts_vars = ['counts_' + suffix for suffix in ec_measurement_suffixes]\n",
    "counts_1_vars = ['counts_' + suffix + '_1' for suffix in ec_measurement_suffixes]\n",
    "counts_2_vars = ['counts_' + suffix + '_2' for suffix in ec_measurement_suffixes]\n",
    "irgadiag_vars = ['irgadiag_' + suffix for suffix in ec_measurement_suffixes]\n",
    "ldiag_vars = ['ldiag_' + suffix for suffix in ec_measurement_suffixes]\n",
    "\n",
    "diagnostic_variable_names = counts_vars + counts_1_vars + counts_2_vars + irgadiag_vars + ldiag_vars\n",
    "\n",
    "VARIABLE_NAMES = ec_variable_names + diagnostic_variable_names + [\n",
    "    # Temperature & Relative Humidity Array \n",
    "    'T_1m_c', 'T_2m_c', 'T_3m_c', 'T_4m_c', 'T_5m_c', 'T_6m_c', 'T_7m_c', 'T_8m_c', 'T_9m_c', 'T_10m_c',\n",
    "    'T_11m_c', 'T_12m_c', 'T_13m_c', 'T_14m_c', 'T_15m_c', 'T_16m_c', 'T_17m_c', 'T_18m_c', 'T_19m_c', 'T_20m_c',\n",
    "\n",
    "    'RH_1m_c', 'RH_2m_c', 'RH_3m_c', 'RH_4m_c', 'RH_5m_c', 'RH_6m_c', 'RH_7m_c', 'RH_8m_c', 'RH_9m_c', 'RH_10m_c',\n",
    "    'RH_11m_c','RH_12m_c','RH_13m_c','RH_14m_c','RH_15m_c','RH_16m_c','RH_17m_c','RH_18m_c','RH_19m_c','RH_20m_c',\n",
    "\n",
    "    # Pressure Sensors\n",
    "    'P_20m_c',\n",
    "    'P_10m_c', 'P_10m_d', 'P_10m_uw', 'P_10m_ue',\n",
    "\n",
    "    # Blowing snow/FlowCapt Sensors\n",
    "    'SF_avg_1m_ue', 'SF_avg_2m_ue',\n",
    "\n",
    "    # Apogee sensors\n",
    "    \"Vtherm_c\", \"Vtherm_d\", \"Vtherm_ue\", \"Vtherm_uw\", \n",
    "    \"Vpile_c\", \"Vpile_d\", \"Vpile_ue\", \"Vpile_uw\",\n",
    "    \"IDir_c\", \"IDir_d\", \"IDir_ue\", \"IDir_uw\",\n",
    "\n",
    "    # Snow-level temperature arrays (towers D and UW)\n",
    "    'Tsnow_0_4m_d', 'Tsnow_0_5m_d', 'Tsnow_0_6m_d', 'Tsnow_0_7m_d', 'Tsnow_0_8m_d', 'Tsnow_0_9m_d', 'Tsnow_1_0m_d', 'Tsnow_1_1m_d', 'Tsnow_1_2m_d', 'Tsnow_1_3m_d', 'Tsnow_1_4m_d', 'Tsnow_1_5m_d',\n",
    "    'Tsnow_0_4m_uw', 'Tsnow_0_5m_uw', 'Tsnow_0_6m_uw', 'Tsnow_0_7m_uw', 'Tsnow_0_8m_uw', 'Tsnow_0_9m_uw', 'Tsnow_1_0m_uw', 'Tsnow_1_1m_uw', 'Tsnow_1_2m_uw', 'Tsnow_1_3m_uw', 'Tsnow_1_4m_uw', 'Tsnow_1_5m_uw',\n",
    "    \n",
    "    # Downward/Upward Facing Longwave Radiometers\n",
    "    'Rpile_out_9m_d','Tcase_out_9m_d',    \n",
    "    'Rpile_in_9m_d', 'Tcase_in_9m_d',\n",
    "    'Tcase_uw', 'Rpile_in_uw', 'Rpile_out_uw',\n",
    "    \n",
    "    # Upward facing shortwave radiometer (tower D) - for measuring incoming solar radiation!\n",
    "    'Rsw_in_9m_d', 'Rsw_out_9m_d',\n",
    "\n",
    "    # Snow Pillow SWE\n",
    "    'SWE_p1_c', 'SWE_p2_c', 'SWE_p3_c', 'SWE_p4_c',\n",
    "\n",
    "    # Soil Moisture\n",
    "    'Qsoil_d',\n",
    "]"
   ]
  },
  {
   "attachments": {},
   "cell_type": "markdown",
   "metadata": {},
   "source": [
    "# Open and concatenate daily SoS datasets"
   ]
  },
  {
   "cell_type": "code",
   "execution_count": 5,
   "metadata": {},
   "outputs": [],
   "source": [
    "# all_file_paths = [\n",
    "#     os.path.join(\n",
    "#         sos_data_dir,\n",
    "#         f'isfs_sos_qc_geo_tiltcor_5min_{date}.nc'\n",
    "#     ) for date in datelist\n",
    "# ]\n",
    "# datasets = []\n",
    "# for file in all_file_paths:\n",
    "#     ds = xr.open_dataset(file)\n",
    "#     # this ensures we don't access variables that aren't in this dataset, which would throw an error\n",
    "#     ds_new = ds[set(ds.data_vars).intersection(VARIABLE_NAMES)]\n",
    "#     datasets.append(ds_new)"
   ]
  },
  {
   "cell_type": "code",
   "execution_count": 6,
   "metadata": {},
   "outputs": [],
   "source": [
    "# sos_ds = xr.concat(datasets, dim='time')"
   ]
  },
  {
   "cell_type": "markdown",
   "metadata": {},
   "source": [
    "Ensure time index is evenly spaced by filling in any missing timestamps"
   ]
  },
  {
   "cell_type": "code",
   "execution_count": 7,
   "metadata": {},
   "outputs": [],
   "source": [
    "# sos_ds = utils.fill_missing_timestamps(sos_ds)"
   ]
  },
  {
   "cell_type": "code",
   "execution_count": 8,
   "metadata": {},
   "outputs": [],
   "source": [
    "# sos_ds.to_netcdf(\"sos_ds_temp_storage.cdf\")"
   ]
  },
  {
   "cell_type": "code",
   "execution_count": 9,
   "metadata": {},
   "outputs": [],
   "source": [
    "sos_ds = xr.open_dataset(\"sos_ds_temp_storage.cdf\")"
   ]
  },
  {
   "cell_type": "markdown",
   "metadata": {},
   "source": [
    "# Apply \"minimum quality criteria\" for data (Stiperski and Rotach, 2016)\n",
    "\n",
    "Based on Stiperski and Rotach (2016, http://link.springer.com/10.1007/s10546-015-0103-z), who recommend the following steps as minimum quality criteria:\n",
    "\n",
    "1. The sonic diagnostic flag was set high (malfunctioning of the instrument) inside the averaging period. \n",
    "2. KH20 voltage fell below 5 mV (indication of condensation occurring on the KH20 window).\n",
    "3. Skewness of temperature and wind components fell outside the [-2, 2] range, following Vickers and Mahrt (1997).\n",
    "4. Kurtosis of temperature and wind components was >8, following Vickers and Mahrt (1997).\n",
    "\n",
    "We only implement number #2 and #3. We tried implementing #1, using the ldiag flag to remove sonic data, but it removed a lot of data, and, without using high rate data, we't cannot filter based on a \"high\" diagnostic flag, we can only filtering using the aggregate of all the flags (i.e. ldiag > 0). The 4th moments are not included in the 5-minute averages, so we cannot implement #4 without using the high rate data."
   ]
  },
  {
   "cell_type": "markdown",
   "metadata": {},
   "source": [
    "## Set bad Irga measurements to NaN\n",
    "\n",
    "The NCAR report recommends all Irga-related measurements be set to NaN when irgadiag is non-zero.  They did this for some but not all of the data."
   ]
  },
  {
   "cell_type": "code",
   "execution_count": 10,
   "metadata": {},
   "outputs": [],
   "source": [
    "# print('h2o_flux_var', 'irgadiag_var', 'old_nan_count', 'new_nan_count', 'old_mean', 'new_mean')\n",
    "# var_ls = []\n",
    "# old_nan_count_ls = []\n",
    "# new_nan_count_ls = []\n",
    "# old_mean_ls = []\n",
    "# new_mean_ls = []\n",
    "# old_median_ls = []\n",
    "# new_median_ls = []\n",
    "# for suffix in ec_measurement_suffixes:\n",
    "#     h2o_flux_var = 'w_h2o__' + suffix\n",
    "#     irgadiag_var = 'irgadiag_' + suffix\n",
    "     \n",
    "#     old_nan_count = (np.isnan(sos_ds[h2o_flux_var])).sum().item()\n",
    "#     old_mean = sos_ds[h2o_flux_var].mean().item()\n",
    "#     old_median = sos_ds[h2o_flux_var].median().item()\n",
    "\n",
    "#     for prefix in ec_measurement_prefixes:\n",
    "#         var = prefix + suffix\n",
    "#         if var in sos_ds:\n",
    "#             sos_ds[var] = sos_ds[var].where(sos_ds[irgadiag_var] == 0)\n",
    "#     # for prefix in [\n",
    "#     #     'h2o_', 'h2o_h2o__', 'u_h2o__', 'v_h2o__', 'w_h2o__',\n",
    "#     #     # I'M NOT SURE I WANT TO REMOVE THESE w_ MEASUREMENTS BUT I\"M CURIOUS WHAT HAPPENS IF I DO\n",
    "#     #     'w_',\n",
    "#     # ]:\n",
    "\n",
    "\n",
    "#     new_nan_count = (np.isnan(sos_ds[h2o_flux_var])).sum().item()\n",
    "#     new_mean = sos_ds[h2o_flux_var].mean().item()\n",
    "#     new_median = sos_ds[h2o_flux_var].median().item()\n",
    "#     print(h2o_flux_var, irgadiag_var, old_nan_count, new_nan_count, round(old_mean,6), round(new_mean,6))\n",
    "#     var_ls.append(h2o_flux_var)\n",
    "#     old_nan_count_ls.append(old_nan_count)\n",
    "#     new_nan_count_ls.append(new_nan_count)\n",
    "#     old_mean_ls.append(old_mean)\n",
    "#     new_mean_ls.append(new_mean)\n",
    "#     old_median_ls.append(old_median)\n",
    "#     new_median_ls.append(new_median)"
   ]
  },
  {
   "cell_type": "code",
   "execution_count": 11,
   "metadata": {},
   "outputs": [],
   "source": [
    "# fig, axes = plt.subplots(2,1, sharex=True, figsize=(10,5))\n",
    "# axes[0].scatter(var_ls, old_nan_count_ls, label = 'before', color='tab:blue')\n",
    "# axes[0].set_ylabel(\"n of nans\")\n",
    "# axes[0].scatter(var_ls, new_nan_count_ls, label = 'after', color='tab:orange')\n",
    "\n",
    "# axes[1].scatter(var_ls, old_mean_ls, label = 'Mean, before', color='tab:blue')\n",
    "# axes[1].set_ylabel(\"<w'q'>\")\n",
    "# axes[1].scatter(var_ls, new_mean_ls, label = 'Mean, after', color='tab:orange')\n",
    "\n",
    "# axes[1].scatter(var_ls, old_median_ls, label = 'Median, before', marker='+', color='tab:blue')\n",
    "# axes[1].set_ylabel(\"<w'q'>\")\n",
    "# axes[1].scatter(var_ls, new_median_ls, label = 'Median, after', marker='+', color='tab:orange')\n",
    "\n",
    "# for ax in axes:\n",
    "#     ax.tick_params(rotation=90, axis='x')\n",
    "#     ax.legend(title='Filtering', bbox_to_anchor=(1,1))"
   ]
  },
  {
   "cell_type": "markdown",
   "metadata": {},
   "source": [
    "## Set bad Sonic measurements to Nan"
   ]
  },
  {
   "cell_type": "code",
   "execution_count": 12,
   "metadata": {},
   "outputs": [],
   "source": [
    "# print('h2o_flux_var', 'ldiag_var', 'old_nan_count', 'new_nan_count', 'old_mean', 'new_mean')\n",
    "\n",
    "# var_ls = []\n",
    "# old_nan_count_ls = []\n",
    "# new_nan_count_ls = []\n",
    "# old_mean_ls = []\n",
    "# new_mean_ls = []\n",
    "# for suffix in [\n",
    "#     '1m_uw','3m_uw', '10m_uw', \n",
    "#     '1m_ue', '3m_ue', '10m_ue', \n",
    "#     '1m_d', '3m_d', '10m_d', \n",
    "#     '2m_c', '3m_c', '5m_c', '10m_c', '15m_c', \n",
    "#     '20m_c',\n",
    "# ]:\n",
    "#     w_var = 'w_' + suffix\n",
    "#     h2o_flux_var = 'w_h2o__' + suffix\n",
    "#     sonicdiag_var = 'ldiag_' + suffix\n",
    "#     old_nan_count = (np.isnan(sos_ds[h2o_flux_var])).sum().item()\n",
    "#     old_mean = sos_ds[h2o_flux_var].mean().item()\n",
    "    \n",
    "#     # sos_ds[h2o_flux_var] = sos_ds[h2o_flux_var].where(sos_ds[sonicdiag_var] == 0)\n",
    "#     # sos_ds[w_var] = sos_ds[w_var].where(sos_ds[sonicdiag_var] == 0)\n",
    "#     for prefix in ec_measurement_prefixes:\n",
    "#         var = prefix + suffix\n",
    "#         if var in sos_ds:\n",
    "#             sos_ds[var] = sos_ds[var].where(sos_ds[sonicdiag_var] == 0)\n",
    "\n",
    "#     new_nan_count = (np.isnan(sos_ds[h2o_flux_var])).sum().item()\n",
    "#     new_mean = sos_ds[h2o_flux_var].mean().item()\n",
    "#     print(h2o_flux_var, sonicdiag_var, old_nan_count, new_nan_count, round(old_mean,6), round(new_mean,6))\n",
    "#     var_ls.append(h2o_flux_var)\n",
    "#     old_nan_count_ls.append(old_nan_count)\n",
    "#     new_nan_count_ls.append(new_nan_count)\n",
    "#     old_mean_ls.append(old_mean)\n",
    "#     new_mean_ls.append(new_mean)"
   ]
  },
  {
   "cell_type": "code",
   "execution_count": 13,
   "metadata": {},
   "outputs": [],
   "source": [
    "# fig, axes = plt.subplots(2,1, sharex=True, figsize=(10,5))\n",
    "# axes[0].scatter(var_ls, old_nan_count_ls, label = 'Before')\n",
    "# axes[0].set_ylabel(\"n of nans\")\n",
    "# axes[0].scatter(var_ls, new_nan_count_ls, label = 'After')\n",
    "\n",
    "# axes[1].scatter(var_ls, old_mean_ls, label = 'Before')\n",
    "# axes[1].set_ylabel(\"<w'q'>\")\n",
    "# axes[1].scatter(var_ls, new_mean_ls, label = 'After')\n",
    "\n",
    "# for ax in axes:\n",
    "#     ax.tick_params(rotation=45)\n",
    "#     ax.legend(title='Filtering')"
   ]
  },
  {
   "cell_type": "markdown",
   "metadata": {},
   "source": [
    "## Remove data points when skewness of temperature and wind components is outside range [-2,2] (Vickers and Mahrt, 1997)\n",
    "\n",
    "THIS IS CALCULATED WRONG"
   ]
  },
  {
   "cell_type": "code",
   "execution_count": 14,
   "metadata": {},
   "outputs": [],
   "source": [
    "# print('h2o_flux_var', 'old_nan_count', 'new_nan_count')\n",
    "# var_ls = []\n",
    "# old_nan_count_ls = []\n",
    "# new_nan_count_ls = []\n",
    "# old_mean_ls = []\n",
    "# new_mean_ls = []\n",
    "# old_median_ls = []\n",
    "# new_median_ls = []\n",
    "# for suffix in ec_measurement_suffixes:\n",
    "#     h2o_var = 'h2o_' + suffix\n",
    "#     w_var = 'w_' + suffix\n",
    "#     h2o_flux_var = 'w_h2o__' + suffix\n",
    "#     old_nan_count = (np.isnan(sos_ds[h2o_flux_var])).sum().item()\n",
    "#     skewness_flag = np.logical_or(\n",
    "#         np.logical_or(\n",
    "#             np.logical_or(\n",
    "#                 np.abs(sos_ds['u_u_u__' + suffix] / sos_ds['u_u__' + suffix]) > 2,\n",
    "#                 np.abs(sos_ds['v_v_v__' + suffix] / sos_ds['v_v__' + suffix]) > 2\n",
    "#             ),\n",
    "#             np.abs(sos_ds['w_w_w__' + suffix] / sos_ds['w_w__' + suffix]) > 2\n",
    "#         ),\n",
    "#         np.abs(sos_ds['tc_tc_tc__' + suffix] / sos_ds['tc_tc__' + suffix]) > 2\n",
    "#     )\n",
    "#     old_mean = sos_ds[h2o_flux_var].mean().item()\n",
    "#     old_median = sos_ds[h2o_flux_var].median().item()\n",
    "    \n",
    "#     # sos_ds[h2o_var].loc[skewness_flag] = np.nan\n",
    "#     # sos_ds[w_var].loc[skewness_flag] = np.nan\n",
    "#     # sos_ds[h2o_flux_var].loc[skewness_flag] = np.nan\n",
    "#     for prefix in ec_measurement_prefixes:\n",
    "#         var = prefix + suffix\n",
    "#         if var in sos_ds:\n",
    "#             sos_ds[var].loc[skewness_flag] = np.nan\n",
    "    \n",
    "#     new_mean = sos_ds[h2o_flux_var].mean().item()\n",
    "#     new_median = sos_ds[h2o_flux_var].median().item()\n",
    "#     new_nan_count = (np.isnan(sos_ds[h2o_flux_var])).sum().item()\n",
    "#     print(h2o_flux_var,old_nan_count, new_nan_count, round(old_mean,6), round(new_mean,6))\n",
    "#     var_ls.append(h2o_flux_var)\n",
    "#     old_nan_count_ls.append(old_nan_count)\n",
    "#     new_nan_count_ls.append(new_nan_count)\n",
    "#     old_mean_ls.append(old_mean)\n",
    "#     new_mean_ls.append(new_mean)\n",
    "#     old_median_ls.append(old_median)\n",
    "#     new_median_ls.append(new_median)"
   ]
  },
  {
   "cell_type": "code",
   "execution_count": 15,
   "metadata": {},
   "outputs": [],
   "source": [
    "# fig, axes = plt.subplots(2,1, sharex=True, figsize=(10,5))\n",
    "# axes[0].scatter(var_ls, old_nan_count_ls, label = 'before', color='tab:blue')\n",
    "# axes[0].set_ylabel(\"n of nans\")\n",
    "# axes[0].scatter(var_ls, new_nan_count_ls, label = 'after', color='tab:orange')\n",
    "\n",
    "# axes[1].scatter(var_ls, old_mean_ls, label = 'Mean, before', color='tab:blue')\n",
    "# axes[1].set_ylabel(\"<w'q'>\")\n",
    "# axes[1].scatter(var_ls, new_mean_ls, label = 'Mean, after', color='tab:orange')\n",
    "\n",
    "# axes[1].scatter(var_ls, old_median_ls, label = 'Median, before', marker='+', color='tab:blue')\n",
    "# axes[1].set_ylabel(\"<w'q'>\")\n",
    "# axes[1].scatter(var_ls, new_median_ls, label = 'Median, after', marker='+', color='tab:orange')\n",
    "\n",
    "# for ax in axes:\n",
    "#     ax.tick_params(rotation=90, axis='x')\n",
    "#     ax.legend(title='Filtering', bbox_to_anchor=(1,1))"
   ]
  },
  {
   "cell_type": "markdown",
   "metadata": {},
   "source": [
    "# Resample dataset"
   ]
  },
  {
   "cell_type": "markdown",
   "metadata": {},
   "source": [
    "### Define dictionary defining the resampling function to use for each variable\n",
    "\n",
    "Covariances are resampled according to the rules of **Reynold averaging** (https://www.eol.ucar.edu/content/combining-short-term-moments-longer-time-periods).\n",
    "\n",
    "Meteorological and turbulence measurements (other than covariances) are resampled using the **mean**.\n",
    "\n",
    "EC count variables are **summed**."
   ]
  },
  {
   "cell_type": "code",
   "execution_count": 16,
   "metadata": {},
   "outputs": [],
   "source": [
    "data_vars_processing_dict = {\n",
    "    'reynolds_average': [\n",
    "        'u_u__1m_uw',    'v_v__1m_uw',    'w_w__1m_uw',    'u_w__1m_uw',    'v_w__1m_uw',  'u_tc__1m_uw',  'v_tc__1m_uw',   'u_h2o__1m_uw',  'v_h2o__1m_uw',   'w_tc__1m_uw',   'w_h2o__1m_uw',\n",
    "        'u_u__2m_uw',    'v_v__2m_uw',    'w_w__2m_uw',    'u_w__2m_uw',    'v_w__2m_uw',  'u_tc__2m_uw',  'v_tc__2m_uw',   'u_h2o__2m_uw',  'v_h2o__2m_uw',   'w_tc__2m_uw',   'w_h2o__2m_uw',\n",
    "        'u_u__2_5m_uw', 'v_v__2_5m_uw',   'w_w__2_5m_uw',  'u_w__2_5m_uw',  'v_w__2_5m_uw','u_tc__2_5m_uw','v_tc__2_5m_uw', 'u_h2o__2_5m_uw','v_h2o__2_5m_uw', 'w_tc__2_5m_uw', 'w_h2o__2_5m_uw',\n",
    "        'u_u__3m_uw',    'v_v__3m_uw',    'w_w__3m_uw',    'u_w__3m_uw',    'v_w__3m_uw',  'u_tc__3m_uw',  'v_tc__3m_uw',   'u_h2o__3m_uw',  'v_h2o__3m_uw',   'w_tc__3m_uw',   'w_h2o__3m_uw',\n",
    "        'u_u__10m_uw',   'v_v__10m_uw',   'w_w__10m_uw',   'u_w__10m_uw',   'v_w__10m_uw', 'u_tc__10m_uw', 'v_tc__10m_uw',  'u_h2o__10m_uw', 'v_h2o__10m_uw',  'w_tc__10m_uw',  'w_h2o__10m_uw',\n",
    "        'u_u__1m_ue',    'v_v__1m_ue',    'w_w__1m_ue',    'u_w__1m_ue',    'v_w__1m_ue',  'u_tc__1m_ue',  'v_tc__1m_ue',   'u_h2o__1m_ue',  'v_h2o__1m_ue',   'w_tc__1m_ue',   'w_h2o__1m_ue',\n",
    "        'u_u__2m_ue',    'v_v__2m_ue',    'w_w__2m_ue',    'u_w__2m_ue',    'v_w__2m_ue',  'u_tc__2m_ue',  'v_tc__2m_ue',   'u_h2o__2m_ue',  'v_h2o__2m_ue',   'w_tc__2m_ue',   'w_h2o__2m_ue',\n",
    "        'u_u__3m_ue',    'v_v__3m_ue',    'w_w__3m_ue',    'u_w__3m_ue',    'v_w__3m_ue',  'u_tc__3m_ue',  'v_tc__3m_ue',   'u_h2o__3m_ue',  'v_h2o__3m_ue',   'w_tc__3m_ue',   'w_h2o__3m_ue',\n",
    "        'u_u__10m_ue',   'v_v__10m_ue',   'w_w__10m_ue',   'u_w__10m_ue',   'v_w__10m_ue', 'u_tc__10m_ue', 'v_tc__10m_ue',  'u_h2o__10m_ue', 'v_h2o__10m_ue',  'w_tc__10m_ue',  'w_h2o__10m_ue',\n",
    "        'u_u__1m_d',     'v_v__1m_d',     'w_w__1m_d',     'u_w__1m_d',     'v_w__1m_d',   'u_tc__1m_d',   'v_tc__1m_d',    'u_h2o__1m_d',   'v_h2o__1m_d',    'w_tc__1m_d',    'w_h2o__1m_d',\n",
    "        'u_u__2m_d',     'v_v__2m_d',     'w_w__2m_d',     'u_w__2m_d',     'v_w__2m_d',   'u_tc__2m_d',   'v_tc__2m_d',    'u_h2o__2m_d',   'v_h2o__2m_d',    'w_tc__2m_d',    'w_h2o__2m_d',\n",
    "        'u_u__3m_d',     'v_v__3m_d',     'w_w__3m_d',     'u_w__3m_d',     'v_w__3m_d',   'u_tc__3m_d',   'v_tc__3m_d',    'u_h2o__3m_d',   'v_h2o__3m_d',    'w_tc__3m_d',    'w_h2o__3m_d',\n",
    "        'u_u__10m_d',    'v_v__10m_d',    'w_w__10m_d',    'u_w__10m_d',    'v_w__10m_d',  'u_tc__10m_d',  'v_tc__10m_d',   'u_h2o__10m_d',  'v_h2o__10m_d',   'w_tc__10m_d',   'w_h2o__10m_d',\n",
    "        'u_u__1m_c',     'v_v__1m_c',     'w_w__1m_c',     'u_w__1m_c',     'v_w__1m_c',   'u_tc__1m_c',   'v_tc__1m_c',    'u_h2o__1m_c',   'v_h2o__1m_c',    'w_tc__1m_c',    'w_h2o__1m_c',\n",
    "        'u_u__2m_c',     'v_v__2m_c',     'w_w__2m_c',     'u_w__2m_c',     'v_w__2m_c',   'u_tc__2m_c',   'v_tc__2m_c',    'u_h2o__2m_c',   'v_h2o__2m_c',    'w_tc__2m_c',    'w_h2o__2m_c',\n",
    "        'u_u__3m_c',     'v_v__3m_c',     'w_w__3m_c',     'u_w__3m_c',     'v_w__3m_c',   'u_tc__3m_c',   'v_tc__3m_c',    'u_h2o__3m_c',   'v_h2o__3m_c',    'w_tc__3m_c',    'w_h2o__3m_c',\n",
    "        'u_u__5m_c',     'v_v__5m_c',     'w_w__5m_c',     'u_w__5m_c',     'v_w__5m_c',   'u_tc__5m_c',   'v_tc__5m_c',    'u_h2o__5m_c',   'v_h2o__5m_c',    'w_tc__5m_c',    'w_h2o__5m_c',\n",
    "        'u_u__10m_c',    'v_v__10m_c',    'w_w__10m_c',    'u_w__10m_c',    'v_w__10m_c',  'u_tc__10m_c',  'v_tc__10m_c',   'u_h2o__10m_c',  'v_h2o__10m_c',   'w_tc__10m_c',   'w_h2o__10m_c',\n",
    "        'u_u__15m_c',    'v_v__15m_c',    'w_w__15m_c',    'u_w__15m_c',    'v_w__15m_c',  'u_tc__15m_c',  'v_tc__15m_c',   'u_h2o__15m_c',  'v_h2o__15m_c',   'w_tc__15m_c',   'w_h2o__15m_c',\n",
    "        'u_u__20m_c',    'v_v__20m_c',    'w_w__20m_c',    'u_w__20m_c',    'v_w__20m_c',  'u_tc__20m_c',  'v_tc__20m_c',   'u_h2o__20m_c',  'v_h2o__20m_c',   'w_tc__20m_c',   'w_h2o__20m_c',\n",
    "    ],\n",
    "    'average': [\n",
    "        # Sonic anemometer data\n",
    "        'h2o_1m_uw' ,       'tc_1m_uw',     'spd_1m_uw',    'dir_1m_uw',    'u_1m_uw',  'v_1m_uw',   'w_1m_uw',  \n",
    "        'h2o_3m_uw' ,       'tc_3m_uw',     'spd_3m_uw',    'dir_3m_uw',    'u_3m_uw',  'v_3m_uw',   'w_3m_uw',  \n",
    "        'h2o_10m_uw' ,      'tc_10m_uw',    'spd_10m_uw',   'dir_10m_uw',   'u_10m_uw', 'v_10m_uw',  'w_10m_uw',  \n",
    "        'h2o_1m_ue' ,       'tc_1m_ue',     'spd_1m_ue',    'dir_1m_ue',    'u_1m_ue',  'v_1m_ue',   'w_1m_ue',  \n",
    "        'h2o_3m_ue' ,       'tc_3m_ue',     'spd_3m_ue',    'dir_3m_ue',    'u_3m_ue',  'v_3m_ue',   'w_3m_ue',  \n",
    "        'h2o_10m_ue' ,      'tc_10m_ue',    'spd_10m_ue',   'dir_10m_ue',   'u_10m_ue', 'v_10m_ue',  'w_10m_ue',  \n",
    "        'h2o_1m_d' ,        'tc_1m_d',      'spd_1m_d',     'dir_1m_d',     'u_1m_d',   'v_1m_d',    'w_1m_d',  \n",
    "        'h2o_3m_d' ,        'tc_3m_d',      'spd_3m_d',     'dir_3m_d',     'u_3m_d',   'v_3m_d',    'w_3m_d',  \n",
    "        'h2o_10m_d' ,       'tc_10m_d',     'spd_10m_d',    'dir_10m_d',    'u_10m_d',  'v_10m_d',   'w_10m_d',  \n",
    "        'h2o_2m_c' ,        'tc_2m_c',      'spd_2m_c',     'dir_2m_c',     'u_2m_c',   'v_2m_c',    'w_2m_c',  \n",
    "        'h2o_3m_c' ,        'tc_3m_c',      'spd_3m_c',     'dir_3m_c',     'u_3m_c',   'v_3m_c',    'w_3m_c',  \n",
    "        'h2o_5m_c' ,        'tc_5m_c',      'spd_5m_c',     'dir_5m_c',     'u_5m_c',   'v_5m_c',    'w_5m_c',  \n",
    "        'h2o_10m_c' ,       'tc_10m_c',     'spd_10m_c',    'dir_10m_c',    'u_10m_c',  'v_10m_c',   'w_10m_c',  \n",
    "        'h2o_15m_c' ,       'tc_15m_c',     'spd_15m_c',    'dir_15m_c',    'u_15m_c',  'v_15m_c',   'w_15m_c',  \n",
    "        'h2o_20m_c' ,       'tc_20m_c',     'spd_20m_c',    'dir_20m_c',    'u_20m_c',  'v_20m_c',   'w_20m_c',  \n",
    "\n",
    "        # Temperature & Relative Humidity Array \n",
    "        'T_1m_c', 'T_2m_c', 'T_3m_c', 'T_4m_c', 'T_5m_c', 'T_6m_c', 'T_7m_c', 'T_8m_c', 'T_9m_c', 'T_10m_c',\n",
    "        'T_11m_c', 'T_12m_c', 'T_13m_c', 'T_14m_c', 'T_15m_c', 'T_16m_c', 'T_17m_c', 'T_18m_c', 'T_19m_c', 'T_20m_c',\n",
    "\n",
    "        'RH_1m_c', 'RH_2m_c', 'RH_3m_c', 'RH_4m_c', 'RH_5m_c', 'RH_6m_c', 'RH_7m_c', 'RH_8m_c', 'RH_9m_c', 'RH_10m_c',\n",
    "        'RH_11m_c','RH_12m_c','RH_13m_c','RH_14m_c','RH_15m_c','RH_16m_c','RH_17m_c','RH_18m_c','RH_19m_c','RH_20m_c',\n",
    "\n",
    "        # Pressure Sensors\n",
    "        'P_20m_c',\n",
    "        'P_10m_c', 'P_10m_d', 'P_10m_uw', 'P_10m_ue',\n",
    "\n",
    "        # Blowing snow/FlowCapt Sensors\n",
    "        'SF_avg_1m_ue', 'SF_avg_2m_ue',\n",
    "\n",
    "        # Apogee sensors\n",
    "        \"Vtherm_c\", \"Vtherm_d\", \"Vtherm_ue\", \"Vtherm_uw\", \n",
    "        \"Vpile_c\", \"Vpile_d\", \"Vpile_ue\", \"Vpile_uw\",\n",
    "        \"IDir_c\", \"IDir_d\", \"IDir_ue\", \"IDir_uw\",\n",
    "\n",
    "        # Snow-level temperature arrays (towers D and UW)\n",
    "        'Tsnow_0_4m_d', 'Tsnow_0_5m_d', 'Tsnow_0_6m_d', 'Tsnow_0_7m_d', 'Tsnow_0_8m_d', 'Tsnow_0_9m_d', 'Tsnow_1_0m_d', 'Tsnow_1_1m_d', 'Tsnow_1_2m_d', 'Tsnow_1_3m_d', 'Tsnow_1_4m_d', 'Tsnow_1_5m_d',\n",
    "        'Tsnow_0_4m_uw', 'Tsnow_0_5m_uw', 'Tsnow_0_6m_uw', 'Tsnow_0_7m_uw', 'Tsnow_0_8m_uw', 'Tsnow_0_9m_uw', 'Tsnow_1_0m_uw', 'Tsnow_1_1m_uw', 'Tsnow_1_2m_uw', 'Tsnow_1_3m_uw', 'Tsnow_1_4m_uw', 'Tsnow_1_5m_uw',\n",
    "        \n",
    "        # Downward Facing Longwave Radiometer (tower D) - for measuring snow surface temperature\n",
    "        'Rpile_out_9m_d',\n",
    "        'Tcase_out_9m_d',    \n",
    "        # Upward Facing Longwave Radiometer (tower D)\n",
    "        'Rpile_in_9m_d',\n",
    "        'Tcase_in_9m_d',\n",
    "        # Downward Facing Longwave Radiometer (tower UW) - for measuring snow surface temperature\n",
    "        'Tcase_uw', 'Rpile_in_uw', 'Rpile_out_uw',\n",
    "        \n",
    "        # Upward facing shortwave radiometer (tower D) - for measuring incoming solar radiation!\n",
    "        'Rsw_in_9m_d',\n",
    "        'Rsw_out_9m_d',\n",
    "\n",
    "        # Snow Pillow SWE\n",
    "        'SWE_p1_c', 'SWE_p2_c', 'SWE_p3_c', 'SWE_p4_c',\n",
    "\n",
    "        # Soil Moisture\n",
    "        'Qsoil_d',\n",
    "        \n",
    "        # Diagnostic variables for irga and sonic\n",
    "        'irgadiag_1m_c',    'ldiag_1m_c',\n",
    "        'irgadiag_2m_c',    'ldiag_2m_c',\n",
    "        'irgadiag_3m_c',    'ldiag_3m_c',\n",
    "        'irgadiag_5m_c',    'ldiag_5m_c',\n",
    "        'irgadiag_10m_c',   'ldiag_10m_c',\n",
    "        'irgadiag_15m_c',   'ldiag_15m_c',\n",
    "        'irgadiag_20m_c',   'ldiag_20m_c',\n",
    "        'irgadiag_1m_uw',   'ldiag_1m_uw',\n",
    "        'irgadiag_3m_uw',   'ldiag_3m_uw',\n",
    "        'irgadiag_10m_uw',  'ldiag_10m_uw',\n",
    "        'irgadiag_1m_ue',   'ldiag_1m_ue',\n",
    "        'irgadiag_3m_ue',   'ldiag_3m_ue',\n",
    "        'irgadiag_10m_ue',  'ldiag_10m_ue',\n",
    "        'irgadiag_1m_d',    'ldiag_1m_d',\n",
    "        'irgadiag_3m_d',    'ldiag_3m_d',\n",
    "        'irgadiag_10m_d',   'ldiag_10m_d',\n",
    "    ],\n",
    "    'sum' : [\n",
    "        # Counts of unflagged instantaneous (20hz) eddy covariance measurements\n",
    "        # momentum flux flags   LHFlux flags   SH flux flags       \n",
    "        'counts_1m_c',    'counts_1m_c_1',    'counts_1m_c_2',    \n",
    "        'counts_2m_c',    'counts_2m_c_1',    'counts_2m_c_2',    \n",
    "        'counts_3m_c',    'counts_3m_c_1',    'counts_3m_c_2',    \n",
    "        'counts_5m_c',    'counts_5m_c_1',    'counts_5m_c_2',    \n",
    "        'counts_10m_c',   'counts_10m_c_1',   'counts_10m_c_2',   \n",
    "        'counts_15m_c',   'counts_15m_c_1',   'counts_15m_c_2',   \n",
    "        'counts_20m_c',   'counts_20m_c_1',   'counts_20m_c_2',   \n",
    "        'counts_1m_uw',   'counts_1m_uw_1',   'counts_1m_uw_2',   \n",
    "        'counts_3m_uw',   'counts_3m_uw_1',   'counts_3m_uw_2',   \n",
    "        'counts_10m_uw',  'counts_10m_uw_1',  'counts_10m_uw_2',  \n",
    "        'counts_1m_ue',   'counts_1m_ue_1',   'counts_1m_ue_2',   \n",
    "        'counts_3m_ue',   'counts_3m_ue_1',   'counts_3m_ue_2',   \n",
    "        'counts_10m_ue',  'counts_10m_ue_1',  'counts_10m_ue_2',  \n",
    "        'counts_1m_d',    'counts_1m_d_1',    'counts_1m_d_2',    \n",
    "        'counts_3m_d',    'counts_3m_d_1',    'counts_3m_d_2',    \n",
    "        'counts_10m_d',   'counts_10m_d_1',   'counts_10m_d_2',   \n",
    "    ]\n",
    "}"
   ]
  },
  {
   "cell_type": "markdown",
   "metadata": {},
   "source": [
    "# Define function for resampling covariances"
   ]
  },
  {
   "cell_type": "code",
   "execution_count": 17,
   "metadata": {},
   "outputs": [],
   "source": [
    "def separate_covariance_variable_name(cov_name):\n",
    "    \"\"\"Get the names of the two mean variables associated with a covariance variable. Built to use\n",
    "    with SOS datasets. For example, one might provide `w_h2o__3m_c` and this function will return\n",
    "    `w_3m_c` and `h2o_3m_c`.\n",
    "\n",
    "    Args:\n",
    "        cov_name (str): name of variable that you want to separate into the two names of the \n",
    "        asssociated mean variables.\n",
    "\n",
    "    Returns:\n",
    "        var1, var 2 (str, str): two strings with the names of the two mean variables\n",
    "    \"\"\"\n",
    "    [first_parts, second_part] = cov_name.split('__')\n",
    "    [var1, var2] = first_parts.split('_')\n",
    "    [var1, var2] = [\n",
    "        var1 +'_' + second_part,\n",
    "        var2 +'_' + second_part,\n",
    "    ]\n",
    "    return var1, var2\n",
    "\n",
    "def resample_moment(df, cov, mean1, mean2, new_frequency, n_in_new_re_length, skipna=True):\n",
    "    \"\"\"Combines moments into longer time periods, using reynolds averaging. Built to use with SOS \n",
    "    datasets. Resampling covariances which have been calculated for a specific Reynolds\n",
    "    averaging length (e.g. the SOS datasets are averaged to 5minutes), you need both the mean\n",
    "    values and covariance. For example, the variable `w_h2o__3m_c` is associated with mean values\n",
    "    `w_3m_c` and `h2o_3m_c`. To reasmple `w_h2o__3m_c` to another averaging length, we need the three\n",
    "    variables.\n",
    "\n",
    "    Args:\n",
    "        df (pd.Dataframe): Dataframe containing the three columns required for calculations (contains)\n",
    "                    the names supplied as parameters `cov`, `mean1`, and `mean2`.\n",
    "        cov (str): Name of covariance variable to resample using Reynolds averaing\n",
    "        mean1 (str): Name of one of the two mean variables associated with `cov`\n",
    "        mean2 (str): Name of the other mean variable associated with `cov`\n",
    "        new_frequency (str): String interpretable by pandas/xarray that describes the reynolds length you \n",
    "            are resampling to. EG: '60Min'\n",
    "        n_in_new_re_length (_type_): Number of 5 minute intervals that fit in the new_frequency. E.G. for\n",
    "            new_frequency='60Min', you would provide 12.\n",
    "        skipna (bool, optional): Whether to skip NaNs when calculating the new variables. Providing True\n",
    "            will allow more moments to be calculated, but those moments may be inaccurate/non-representative.\n",
    "            Providing False will result in more missing data.\n",
    "\n",
    "    Returns:\n",
    "        pd.DataFrame: Dataframe with resampled data.\n",
    "    \"\"\"\n",
    "    return pd.DataFrame({\n",
    "            cov: df.groupby(pd.Grouper(freq=new_frequency)).apply(\n",
    "                lambda row: \n",
    "                    (1/n_in_new_re_length)*(row[cov] + row[mean1]*row[mean2]).sum(skipna=skipna)\n",
    "                    - (\n",
    "                        (1/n_in_new_re_length)*row[mean1].sum(skipna=skipna)\n",
    "                        * (1/n_in_new_re_length)*row[mean2].sum(skipna=skipna)\n",
    "                    )\n",
    "            )\n",
    "        })\n",
    "\n",
    "from tqdm import tqdm\n",
    "def resample(ds, new_frequency, n_in_new_re_length, skipna=True):\n",
    "    \"\"\"Resample SOS xarray datasets, applying the proper aggregation function\n",
    "    for different variables. Some are resampled by taking the mean, some by \n",
    "    summing, and others by Reynolds averaging. \n",
    "    \"\"\"\n",
    "    # Resample data vars that need to be averaged (plain old averaging)\n",
    "    # Use built in xarray functionality\n",
    "    resampled_averages = ds[\n",
    "        data_vars_processing_dict['average']\n",
    "    ].to_dataframe().resample(new_frequency).mean().to_xarray()\n",
    "    \n",
    "    # Resample data vars that need to be summed\n",
    "    # Use built in xarray functionality\n",
    "    resampled_sums = ds[\n",
    "        data_vars_processing_dict['sum']\n",
    "    ].to_dataframe().resample(new_frequency).sum().to_xarray()\n",
    "    \n",
    "    # Resample data vars that need to be summed using the rules of Reynolds Averaging\n",
    "    # Use our custom function defined above\n",
    "    resampled_reynolds_averages_list = []\n",
    "    for covariance_name in tqdm(data_vars_processing_dict['reynolds_average']):\n",
    "        mean_var1, mean_var2 = separate_covariance_variable_name(covariance_name)\n",
    "        resampled = resample_moment(\n",
    "            ds[[mean_var1, mean_var2, covariance_name]].to_dataframe(), \n",
    "            covariance_name, \n",
    "            mean_var1, \n",
    "            mean_var2, \n",
    "            new_frequency, \n",
    "            n_in_new_re_length, \n",
    "            skipna=skipna\n",
    "        )\n",
    "        resampled_reynolds_averages_list.append(\n",
    "            resampled.to_xarray()\n",
    "        )\n",
    "    new_ds = xr.merge(\n",
    "        [\n",
    "            resampled_sums, \n",
    "            resampled_averages\n",
    "        ] + resampled_reynolds_averages_list\n",
    "    )\n",
    "\n",
    "    ## Copy attributes from the original dataset\n",
    "    new_ds.attrs = ds.attrs\n",
    "    for var in new_ds:\n",
    "        new_ds[var].attrs = ds[var].attrs\n",
    "    return new_ds"
   ]
  },
  {
   "cell_type": "code",
   "execution_count": 18,
   "metadata": {},
   "outputs": [],
   "source": [
    "def separate_covariance_variable_name(cov_name):\n",
    "    \"\"\"Get the names of the two mean variables associated with a covariance variable. Built to use\n",
    "    with SOS datasets. For example, one might provide `w_h2o__3m_c` and this function will return\n",
    "    `w_3m_c` and `h2o_3m_c`.\n",
    "\n",
    "    Args:\n",
    "        cov_name (str): name of variable that you want to separate into the two names of the \n",
    "        asssociated mean variables.\n",
    "\n",
    "    Returns:\n",
    "        var1, var 2 (str, str): two strings with the names of the two mean variables\n",
    "    \"\"\"\n",
    "    [first_parts, second_part] = cov_name.split('__')\n",
    "    [var1, var2] = first_parts.split('_')\n",
    "    [var1, var2] = [\n",
    "        var1 +'_' + second_part,\n",
    "        var2 +'_' + second_part,\n",
    "    ]\n",
    "    return var1, var2\n",
    "\n",
    "def resample_moment(df, cov, mean1, mean2, new_frequency, n_in_new_re_length, skipna=True):\n",
    "    \"\"\"Combines moments into longer time periods, using reynolds averaging. Built to use with SOS \n",
    "    datasets. Resampling covariances which have been calculated for a specific Reynolds\n",
    "    averaging length (e.g. the SOS datasets are averaged to 5minutes), you need both the mean\n",
    "    values and covariance. For example, the variable `w_h2o__3m_c` is associated with mean values\n",
    "    `w_3m_c` and `h2o_3m_c`. To reasmple `w_h2o__3m_c` to another averaging length, we need the three\n",
    "    variables.\n",
    "\n",
    "    Args:\n",
    "        df (pd.Dataframe): Dataframe containing the three columns required for calculations (contains)\n",
    "                    the names supplied as parameters `cov`, `mean1`, and `mean2`.\n",
    "        cov (str): Name of covariance variable to resample using Reynolds averaing\n",
    "        mean1 (str): Name of one of the two mean variables associated with `cov`\n",
    "        mean2 (str): Name of the other mean variable associated with `cov`\n",
    "        new_frequency (str): String interpretable by pandas/xarray that describes the reynolds length you \n",
    "            are resampling to. EG: '60Min'\n",
    "        n_in_new_re_length (_type_): Number of 5 minute intervals that fit in the new_frequency. E.G. for\n",
    "            new_frequency='60Min', you would provide 12.\n",
    "        skipna (bool, optional): Whether to skip NaNs when calculating the new variables. Providing True\n",
    "            will allow more moments to be calculated, but those moments may be inaccurate/non-representative.\n",
    "            Providing False will result in more missing data.\n",
    "\n",
    "    Returns:\n",
    "        pd.DataFrame: Dataframe with resampled data.\n",
    "    \"\"\"\n",
    "    return pd.DataFrame({\n",
    "            cov: df.groupby(pd.Grouper(freq=new_frequency)).apply(\n",
    "                lambda row: \n",
    "                    (1/n_in_new_re_length)*(row[cov] + row[mean1]*row[mean2]).sum(skipna=skipna)\n",
    "                    - (\n",
    "                        (1/n_in_new_re_length)*row[mean1].sum(skipna=skipna)\n",
    "                        * (1/n_in_new_re_length)*row[mean2].sum(skipna=skipna)\n",
    "                    )\n",
    "            )\n",
    "        })\n",
    "\n",
    "def resample(ds, new_frequency, n_in_new_re_length, skipna=True):\n",
    "    \"\"\"Resample SOS xarray datasets, applying the proper aggregation function\n",
    "    for different variables. Some are resampled by taking the mean, some by \n",
    "    summing, and others by Reynolds averaging. \n",
    "    \"\"\"\n",
    "    # Resample data vars that need to be averaged (plain old averaging)\n",
    "    # Use built in xarray functionality\n",
    "    resampled_averages = ds[\n",
    "        data_vars_processing_dict['average']\n",
    "    ].to_dataframe().resample(new_frequency).mean().to_xarray()\n",
    "    \n",
    "    # Resample data vars that need to be summed\n",
    "    # Use built in xarray functionality\n",
    "    resampled_sums = ds[\n",
    "        data_vars_processing_dict['sum']\n",
    "    ].to_dataframe().resample(new_frequency).sum().to_xarray()\n",
    "    \n",
    "    # Resample data vars that need to be summed using the rules of Reynolds Averaging\n",
    "    # Use our custom function defined above\n",
    "    resampled_reynolds_averages_list = []\n",
    "    def split_covariance_name_and_resample(name):\n",
    "        mean_var1, mean_var2 = separate_covariance_variable_name(name)\n",
    "        resampled = resample_moment(\n",
    "            ds[[mean_var1, mean_var2, name]].to_dataframe(), \n",
    "            name, \n",
    "            mean_var1, \n",
    "            mean_var2, \n",
    "            new_frequency, \n",
    "            n_in_new_re_length, \n",
    "            skipna=skipna\n",
    "        )\n",
    "        return resampled.to_xarray()\n",
    "    resampled_reynolds_averages_list =  Parallel(n_jobs = 8)(\n",
    "        delayed(split_covariance_name_and_resample)(name) \n",
    "        for name in tqdm(data_vars_processing_dict['reynolds_average'])\n",
    "    )\n",
    "    \n",
    "    new_ds = xr.merge(\n",
    "        [\n",
    "            resampled_sums, \n",
    "            resampled_averages\n",
    "        ] + resampled_reynolds_averages_list\n",
    "    )\n",
    "\n",
    "    ## Copy attributes from the original dataset\n",
    "    new_ds.attrs = ds.attrs\n",
    "    for var in new_ds:\n",
    "        new_ds[var].attrs = ds[var].attrs\n",
    "    return new_ds"
   ]
  },
  {
   "cell_type": "markdown",
   "metadata": {},
   "source": [
    "# Resample variables"
   ]
  },
  {
   "cell_type": "code",
   "execution_count": 19,
   "metadata": {},
   "outputs": [
    {
     "name": "stderr",
     "output_type": "stream",
     "text": [
      " 15%|█▍        | 32/220 [00:09<01:01,  3.04it/s]/Users/elischwat/miniforge3/envs/sublimationofsnow/lib/python3.12/site-packages/joblib/externals/loky/process_executor.py:752: UserWarning: A worker stopped while some jobs were given to the executor. This can be caused by a too short worker timeout or by a memory leak.\n",
      "  warnings.warn(\n",
      "100%|██████████| 220/220 [01:19<00:00,  2.77it/s]\n",
      "100%|██████████| 220/220 [00:33<00:00,  6.58it/s]\n",
      "100%|██████████| 220/220 [00:23<00:00,  9.25it/s]\n",
      "100%|██████████| 220/220 [00:20<00:00, 10.78it/s]\n"
     ]
    }
   ],
   "source": [
    "sos_ds10min = resample(sos_ds, '10Min', 2, skipna=True)\n",
    "sos_ds30min = resample(sos_ds, '30Min', 6, skipna=True)\n",
    "sos_ds60min = resample(sos_ds, '60Min', 12, skipna=True)\n",
    "sos_ds120min = resample(sos_ds, '120Min', 24, skipna=True)\n",
    "\n",
    "sos_ds5min = sos_ds\n",
    "sos_ds = sos_ds30min"
   ]
  },
  {
   "cell_type": "markdown",
   "metadata": {},
   "source": [
    "# Plot latent and sensible heat flux means for different resampling intervals"
   ]
  },
  {
   "cell_type": "code",
   "execution_count": 20,
   "metadata": {},
   "outputs": [],
   "source": [
    "lhflux_vars =[\n",
    "    # 'w_h2o__1m_uw',\n",
    "    'w_h2o__3m_uw',\n",
    "    'w_h2o__10m_uw',\n",
    "    # 'w_h2o__1m_ue',\n",
    "    'w_h2o__3m_ue',\n",
    "    'w_h2o__10m_ue',\n",
    "    # 'w_h2o__1m_d',\n",
    "    'w_h2o__3m_d',\n",
    "    'w_h2o__10m_d',\n",
    "    # 'w_h2o__2m_c',\n",
    "    'w_h2o__3m_c',\n",
    "    'w_h2o__5m_c',\n",
    "    'w_h2o__10m_c',\n",
    "    'w_h2o__15m_c',\n",
    "    'w_h2o__20m_c',\n",
    "]\n",
    "old_ds_mean_lhflux = sos_ds[lhflux_vars].to_dataframe().mean()\n",
    "sos_ds_10min_mean_lhflux = sos_ds10min[lhflux_vars].to_dataframe().mean()\n",
    "sos_ds_30min_mean_lhflux = sos_ds30min[lhflux_vars].to_dataframe().mean()\n",
    "sos_ds_60min_mean_lhflux = sos_ds60min[lhflux_vars].to_dataframe().mean()\n",
    "sos_ds_120min_mean_lhflux = sos_ds120min[lhflux_vars].to_dataframe().mean()\n",
    "\n",
    "mean_lhflux_estimates = pd.concat([\n",
    "    pd.DataFrame(old_ds_mean_lhflux).rename(columns={0:'5min'}),\n",
    "    pd.DataFrame(sos_ds_10min_mean_lhflux).rename(columns={0:'10min'}),\n",
    "    pd.DataFrame(sos_ds_30min_mean_lhflux).rename(columns={0:'30min'}),\n",
    "    pd.DataFrame(sos_ds_60min_mean_lhflux).rename(columns={0:'60min'}),\n",
    "    pd.DataFrame(sos_ds_120min_mean_lhflux).rename(columns={0:'120min'}),\n",
    "], axis=1)\n",
    "mean_lhflux_estimates.index.name = 'location'\n",
    "mean_lhflux_estimates = mean_lhflux_estimates.reset_index()\n",
    "mean_lhflux_estimates\n",
    "mean_lhflux_estimates['height'] = mean_lhflux_estimates['location'].apply(lambda s: int(s.split('__')[1].split('m_')[0]))\n",
    "mean_lhflux_estimates['tower'] = mean_lhflux_estimates['location'].apply(lambda s: s.split('_')[-1])\n",
    "mean_lhflux_estimates\n",
    "lhflux_estimates_chart = alt.Chart(mean_lhflux_estimates).transform_fold(\n",
    "    ['5min', '10min', '30min', '60min', '120min']\n",
    ").mark_point().encode(\n",
    "    alt.X(\"key:O\").sort(['5min', '10min', '30min', '60min', '120min']).title(\"Reynolds Avg Length\").axis(None).title(None),\n",
    "    alt.Y(\"value:Q\").scale(zero=False).title(\"Mean w'q' (g/m^2/s)\"),\n",
    "    alt.Color(\"tower:N\"),\n",
    "    alt.Facet(\"height:O\").title(None)\n",
    ").properties(height = 100)"
   ]
  },
  {
   "cell_type": "code",
   "execution_count": 21,
   "metadata": {},
   "outputs": [],
   "source": [
    "old_ds_sum_lhflux = sos_ds[lhflux_vars].to_dataframe().sum()*60*5/density_water.magnitude\n",
    "sos_ds_10min_sum_lhflux = sos_ds10min[lhflux_vars].to_dataframe().sum()*60*10/density_water.magnitude\n",
    "sos_ds_30min_sum_lhflux = sos_ds30min[lhflux_vars].to_dataframe().sum()*60*30/density_water.magnitude\n",
    "sos_ds_60min_sum_lhflux = sos_ds60min[lhflux_vars].to_dataframe().sum()*60*60/density_water.magnitude\n",
    "sos_ds_120min_sum_lhflux = sos_ds120min[lhflux_vars].to_dataframe().sum()*60*120/density_water.magnitude\n",
    "\n",
    "sum_lhflux_estimates = pd.concat([\n",
    "    pd.DataFrame(old_ds_sum_lhflux).rename(columns={0:'5min'}),\n",
    "    pd.DataFrame(sos_ds_10min_sum_lhflux).rename(columns={0:'10min'}),\n",
    "    pd.DataFrame(sos_ds_30min_sum_lhflux).rename(columns={0:'30min'}),\n",
    "    pd.DataFrame(sos_ds_60min_sum_lhflux).rename(columns={0:'60min'}),\n",
    "    pd.DataFrame(sos_ds_120min_sum_lhflux).rename(columns={0:'120min'}),\n",
    "], axis=1)\n",
    "sum_lhflux_estimates.index.name = 'location'\n",
    "sum_lhflux_estimates = sum_lhflux_estimates.reset_index()\n",
    "sum_lhflux_estimates\n",
    "sum_lhflux_estimates['height'] = sum_lhflux_estimates['location'].apply(lambda s: int(s.split('__')[1].split('m_')[0]))\n",
    "sum_lhflux_estimates['tower'] = sum_lhflux_estimates['location'].apply(lambda s: s.split('_')[-1])\n",
    "sum_lhflux_estimates\n",
    "cumsub_estimates_chart = alt.Chart(sum_lhflux_estimates).transform_fold(\n",
    "    ['5min', '10min', '30min', '60min', '120min']\n",
    ").mark_point().encode(\n",
    "    alt.X(\"key:O\").sort(['5min', '10min', '30min', '60min', '120min']).title(\"Reynolds Avg Length\").axis(None).title(None),\n",
    "    alt.Y(\"value:Q\").scale(zero=False).title(\"Sublimation (mm)\"),\n",
    "    alt.Color(\"tower:N\"),\n",
    "    alt.Facet(\"height:O\").title(\"Instrument height (m)\")\n",
    ").properties(height = 100)"
   ]
  },
  {
   "cell_type": "code",
   "execution_count": 22,
   "metadata": {},
   "outputs": [],
   "source": [
    "shflux_vars =[\n",
    "    # 'w_tc__1m_uw',\n",
    "    'w_tc__3m_uw',\n",
    "    'w_tc__10m_uw',\n",
    "    # 'w_tc__1m_ue',\n",
    "    'w_tc__3m_ue',\n",
    "    'w_tc__10m_ue',\n",
    "    # 'w_tc__1m_d',\n",
    "    'w_tc__3m_d',\n",
    "    'w_tc__10m_d',\n",
    "    # 'w_tc__2m_c',\n",
    "    'w_tc__3m_c',\n",
    "    'w_tc__5m_c',\n",
    "    'w_tc__10m_c',\n",
    "    'w_tc__15m_c',\n",
    "    'w_tc__20m_c',\n",
    "]\n",
    "old_ds_mean_shflux = sos_ds[shflux_vars].to_dataframe().mean()\n",
    "sos_ds_10min_mean_shflux = sos_ds10min[shflux_vars].to_dataframe().mean()\n",
    "sos_ds_30min_mean_shflux = sos_ds30min[shflux_vars].to_dataframe().mean()\n",
    "sos_ds_60min_mean_shflux = sos_ds60min[shflux_vars].to_dataframe().mean()\n",
    "sos_ds_120min_mean_shflux = sos_ds120min[shflux_vars].to_dataframe().mean()\n",
    "\n",
    "mean_shflux_estimates = pd.concat([\n",
    "    pd.DataFrame(old_ds_mean_shflux).rename(columns={0:'5min'}),\n",
    "    pd.DataFrame(sos_ds_10min_mean_shflux).rename(columns={0:'10min'}),\n",
    "    pd.DataFrame(sos_ds_30min_mean_shflux).rename(columns={0:'30min'}),\n",
    "    pd.DataFrame(sos_ds_60min_mean_shflux).rename(columns={0:'60min'}),\n",
    "    pd.DataFrame(sos_ds_120min_mean_shflux).rename(columns={0:'120min'}),\n",
    "], axis=1)\n",
    "mean_shflux_estimates.index.name = 'location'\n",
    "mean_shflux_estimates = mean_shflux_estimates.reset_index()\n",
    "mean_shflux_estimates\n",
    "mean_shflux_estimates['height'] = mean_shflux_estimates['location'].apply(lambda s: int(s.split('__')[1].split('m_')[0]))\n",
    "mean_shflux_estimates['tower'] = mean_shflux_estimates['location'].apply(lambda s: s.split('_')[-1])\n",
    "mean_shflux_estimates\n",
    "shflux_estimates_chart = alt.Chart(mean_shflux_estimates).transform_fold(\n",
    "    ['5min', '10min', '30min', '60min', '120min']\n",
    ").mark_point().encode(\n",
    "    alt.X(\"key:O\").sort(['5min', '10min', '30min', '60min', '120min']).title(\"Reynolds Avg Length\"),\n",
    "    alt.Y(\"value:Q\").scale(zero=False).title(\"Mean w'T' (˚C*m/s)\"),\n",
    "    alt.Color(\"tower:N\"),\n",
    "    alt.Facet(\"height:O\").title(None).header(labelFontSize=0)\n",
    ").properties(height = 100)"
   ]
  },
  {
   "cell_type": "code",
   "execution_count": 23,
   "metadata": {},
   "outputs": [
    {
     "data": {
      "text/html": [
       "\n",
       "<style>\n",
       "  #altair-viz-044616934eca4c45a37e98285fe2f041.vega-embed {\n",
       "    width: 100%;\n",
       "    display: flex;\n",
       "  }\n",
       "\n",
       "  #altair-viz-044616934eca4c45a37e98285fe2f041.vega-embed details,\n",
       "  #altair-viz-044616934eca4c45a37e98285fe2f041.vega-embed details summary {\n",
       "    position: relative;\n",
       "  }\n",
       "</style>\n",
       "<div id=\"altair-viz-044616934eca4c45a37e98285fe2f041\"></div>\n",
       "<script type=\"text/javascript\">\n",
       "  var VEGA_DEBUG = (typeof VEGA_DEBUG == \"undefined\") ? {} : VEGA_DEBUG;\n",
       "  (function(spec, embedOpt){\n",
       "    let outputDiv = document.currentScript.previousElementSibling;\n",
       "    if (outputDiv.id !== \"altair-viz-044616934eca4c45a37e98285fe2f041\") {\n",
       "      outputDiv = document.getElementById(\"altair-viz-044616934eca4c45a37e98285fe2f041\");\n",
       "    }\n",
       "    const paths = {\n",
       "      \"vega\": \"https://cdn.jsdelivr.net/npm/vega@5?noext\",\n",
       "      \"vega-lib\": \"https://cdn.jsdelivr.net/npm/vega-lib?noext\",\n",
       "      \"vega-lite\": \"https://cdn.jsdelivr.net/npm/vega-lite@5.16.3?noext\",\n",
       "      \"vega-embed\": \"https://cdn.jsdelivr.net/npm/vega-embed@6?noext\",\n",
       "    };\n",
       "\n",
       "    function maybeLoadScript(lib, version) {\n",
       "      var key = `${lib.replace(\"-\", \"\")}_version`;\n",
       "      return (VEGA_DEBUG[key] == version) ?\n",
       "        Promise.resolve(paths[lib]) :\n",
       "        new Promise(function(resolve, reject) {\n",
       "          var s = document.createElement('script');\n",
       "          document.getElementsByTagName(\"head\")[0].appendChild(s);\n",
       "          s.async = true;\n",
       "          s.onload = () => {\n",
       "            VEGA_DEBUG[key] = version;\n",
       "            return resolve(paths[lib]);\n",
       "          };\n",
       "          s.onerror = () => reject(`Error loading script: ${paths[lib]}`);\n",
       "          s.src = paths[lib];\n",
       "        });\n",
       "    }\n",
       "\n",
       "    function showError(err) {\n",
       "      outputDiv.innerHTML = `<div class=\"error\" style=\"color:red;\">${err}</div>`;\n",
       "      throw err;\n",
       "    }\n",
       "\n",
       "    function displayChart(vegaEmbed) {\n",
       "      vegaEmbed(outputDiv, spec, embedOpt)\n",
       "        .catch(err => showError(`Javascript Error: ${err.message}<br>This usually means there's a typo in your chart specification. See the javascript console for the full traceback.`));\n",
       "    }\n",
       "\n",
       "    if(typeof define === \"function\" && define.amd) {\n",
       "      requirejs.config({paths});\n",
       "      require([\"vega-embed\"], displayChart, err => showError(`Error loading script: ${err.message}`));\n",
       "    } else {\n",
       "      maybeLoadScript(\"vega\", \"5\")\n",
       "        .then(() => maybeLoadScript(\"vega-lite\", \"5.16.3\"))\n",
       "        .then(() => maybeLoadScript(\"vega-embed\", \"6\"))\n",
       "        .catch(showError)\n",
       "        .then(() => displayChart(vegaEmbed));\n",
       "    }\n",
       "  })({\"config\": {\"view\": {\"continuousWidth\": 300, \"continuousHeight\": 300}}, \"vconcat\": [{\"data\": {\"url\": \"altair-data-f545d4dad9490167d5582f792161261e.json\", \"format\": {\"type\": \"json\"}}, \"mark\": {\"type\": \"point\"}, \"encoding\": {\"color\": {\"field\": \"tower\", \"type\": \"nominal\"}, \"facet\": {\"field\": \"height\", \"title\": \"Instrument height (m)\", \"type\": \"ordinal\"}, \"x\": {\"axis\": null, \"field\": \"key\", \"sort\": [\"5min\", \"10min\", \"30min\", \"60min\", \"120min\"], \"title\": null, \"type\": \"ordinal\"}, \"y\": {\"field\": \"value\", \"scale\": {\"zero\": false}, \"title\": \"Sublimation (mm)\", \"type\": \"quantitative\"}}, \"height\": 100, \"transform\": [{\"fold\": [\"5min\", \"10min\", \"30min\", \"60min\", \"120min\"]}]}, {\"data\": {\"url\": \"altair-data-f3340722b1105838541154b9e8086aa7.json\", \"format\": {\"type\": \"json\"}}, \"mark\": {\"type\": \"point\"}, \"encoding\": {\"color\": {\"field\": \"tower\", \"type\": \"nominal\"}, \"facet\": {\"field\": \"height\", \"title\": null, \"type\": \"ordinal\"}, \"x\": {\"axis\": null, \"field\": \"key\", \"sort\": [\"5min\", \"10min\", \"30min\", \"60min\", \"120min\"], \"title\": null, \"type\": \"ordinal\"}, \"y\": {\"field\": \"value\", \"scale\": {\"zero\": false}, \"title\": \"Mean w'q' (g/m^2/s)\", \"type\": \"quantitative\"}}, \"height\": 100, \"transform\": [{\"fold\": [\"5min\", \"10min\", \"30min\", \"60min\", \"120min\"]}]}, {\"data\": {\"url\": \"altair-data-93b826efca92ebaefcfc5df6bef52f79.json\", \"format\": {\"type\": \"json\"}}, \"mark\": {\"type\": \"point\"}, \"encoding\": {\"color\": {\"field\": \"tower\", \"type\": \"nominal\"}, \"facet\": {\"field\": \"height\", \"header\": {\"labelFontSize\": 0}, \"title\": null, \"type\": \"ordinal\"}, \"x\": {\"field\": \"key\", \"sort\": [\"5min\", \"10min\", \"30min\", \"60min\", \"120min\"], \"title\": \"Reynolds Avg Length\", \"type\": \"ordinal\"}, \"y\": {\"field\": \"value\", \"scale\": {\"zero\": false}, \"title\": \"Mean w'T' (\\u02daC*m/s)\", \"type\": \"quantitative\"}}, \"height\": 100, \"transform\": [{\"fold\": [\"5min\", \"10min\", \"30min\", \"60min\", \"120min\"]}]}], \"$schema\": \"https://vega.github.io/schema/vega-lite/v5.16.3.json\"}, {\"mode\": \"vega-lite\"});\n",
       "</script>"
      ],
      "text/plain": [
       "alt.VConcatChart(...)"
      ]
     },
     "execution_count": 23,
     "metadata": {},
     "output_type": "execute_result"
    }
   ],
   "source": [
    "cumsub_estimates_chart & lhflux_estimates_chart & shflux_estimates_chart"
   ]
  },
  {
   "cell_type": "code",
   "execution_count": 24,
   "metadata": {},
   "outputs": [
    {
     "data": {
      "text/plain": [
       "<Axes: xlabel='time'>"
      ]
     },
     "execution_count": 24,
     "metadata": {},
     "output_type": "execute_result"
    },
    {
     "data": {
      "image/png": "[encoded data removed]",
      "text/plain": [
       "<Figure size 640x480 with 1 Axes>"
      ]
     },
     "metadata": {},
     "output_type": "display_data"
    }
   ],
   "source": [
    "fig, ax = plt.subplots()\n",
    "(sos_ds5min['w_h2o__3m_c'].to_dataframe().cumsum()*60*5/density_water.magnitude).plot(ax=ax)\n",
    "(sos_ds10min['w_h2o__3m_c'].to_dataframe().cumsum()*60*10/density_water.magnitude).plot(ax=ax)\n",
    "(sos_ds30min['w_h2o__3m_c'].to_dataframe().cumsum()*60*30/density_water.magnitude).plot(ax=ax)\n",
    "(sos_ds60min['w_h2o__3m_c'].to_dataframe().cumsum()*60*60/density_water.magnitude).plot(ax=ax)\n",
    "(sos_ds120min['w_h2o__3m_c'].to_dataframe().cumsum()*60*120/density_water.magnitude).plot(ax=ax)"
   ]
  },
  {
   "cell_type": "markdown",
   "metadata": {},
   "source": [
    "# Add additional variables"
   ]
  },
  {
   "cell_type": "markdown",
   "metadata": {},
   "source": [
    "## Add snow depth"
   ]
  },
  {
   "cell_type": "markdown",
   "metadata": {},
   "source": [
    "Open snow depth data"
   ]
  },
  {
   "cell_type": "code",
   "execution_count": 25,
   "metadata": {},
   "outputs": [
    {
     "data": {
      "image/png": "[encoded data removed]",
      "text/plain": [
       "<Figure size 640x480 with 1 Axes>"
      ]
     },
     "metadata": {},
     "output_type": "display_data"
    }
   ],
   "source": [
    "towerc_snowdepth_dataset = xr.open_dataset(\"~/Development/data/sublimationofsnow/lidar_snow_depth/C_l2.nc\")\n",
    "towerc_lidar_snowdepth_da = towerc_snowdepth_dataset.resample(time='1440Min').median()['surface']\n",
    "towerc_lidar_snowdepth_da = towerc_lidar_snowdepth_da.interpolate_na(dim = 'time', method='linear')\n",
    "towerc_lidar_snowdepth_da = towerc_lidar_snowdepth_da.where(towerc_lidar_snowdepth_da > 0, 0)\n",
    "towerc_lidar_snowdepth_upsample_da = towerc_lidar_snowdepth_da.resample(time = '30min').pad()\n",
    "towerc_lidar_snowdepth_da.plot()\n",
    "towerc_lidar_snowdepth_upsample_da.plot()\n",
    "plt.show()"
   ]
  },
  {
   "cell_type": "code",
   "execution_count": 26,
   "metadata": {},
   "outputs": [],
   "source": [
    "towerc_snowdepth_df = towerc_lidar_snowdepth_upsample_da.loc[\n",
    "    sos_ds.time.min():sos_ds.time.max()\n",
    "].to_dataframe()\n",
    "towerc_snowdepth_df = towerc_snowdepth_df.reset_index()\n",
    "sos_ds['SnowDepth_c'] = (['time'],  towerc_snowdepth_df.surface.values)"
   ]
  },
  {
   "cell_type": "code",
   "execution_count": 27,
   "metadata": {},
   "outputs": [
    {
     "data": {
      "image/png": "[encoded data removed]",
      "text/plain": [
       "<Figure size 640x480 with 1 Axes>"
      ]
     },
     "metadata": {},
     "output_type": "display_data"
    }
   ],
   "source": [
    "towerd_snowdepth_dataset = xr.open_dataset(\"~/Development/data/sublimationofsnow/lidar_snow_depth/D_from_D_l6.nc\")\n",
    "towerd_lidar_snowdepth_da = towerd_snowdepth_dataset.resample(time='1440Min').median()['surface']\n",
    "towerd_lidar_snowdepth_da = towerd_lidar_snowdepth_da.interpolate_na(dim = 'time', method='linear')\n",
    "towerd_lidar_snowdepth_da = towerd_lidar_snowdepth_da.where(towerd_lidar_snowdepth_da > 0, 0)\n",
    "towerd_lidar_snowdepth_upsample_da = towerd_lidar_snowdepth_da.resample(time = '30min').pad()\n",
    "towerd_lidar_snowdepth_da.plot()\n",
    "towerd_lidar_snowdepth_upsample_da.plot()\n",
    "plt.show()"
   ]
  },
  {
   "cell_type": "code",
   "execution_count": 28,
   "metadata": {},
   "outputs": [],
   "source": [
    "towerd_snowdepth_df = towerd_lidar_snowdepth_upsample_da.loc[\n",
    "    sos_ds.time.min():sos_ds.time.max()\n",
    "].to_dataframe()\n",
    "towerd_snowdepth_df = towerd_snowdepth_df.reset_index()\n",
    "sos_ds['SnowDepth_d'] = (['time'],  towerd_snowdepth_df.surface.values)"
   ]
  },
  {
   "cell_type": "code",
   "execution_count": 29,
   "metadata": {},
   "outputs": [
    {
     "data": {
      "text/plain": [
       "<matplotlib.legend.Legend at 0x177b43890>"
      ]
     },
     "execution_count": 29,
     "metadata": {},
     "output_type": "execute_result"
    },
    {
     "data": {
      "image/png": "[encoded data removed]",
      "text/plain": [
       "<Figure size 640x480 with 1 Axes>"
      ]
     },
     "metadata": {},
     "output_type": "display_data"
    }
   ],
   "source": [
    "sos_ds['SnowDepth_c'].plot(label='SnowDepth_c')\n",
    "sos_ds['SnowDepth_d'].plot(label='SnowDepth_d')\n",
    "plt.legend()"
   ]
  },
  {
   "cell_type": "markdown",
   "metadata": {},
   "source": [
    "## Add/calculate longwave radiation and surface temperatures"
   ]
  },
  {
   "cell_type": "code",
   "execution_count": 68,
   "metadata": {},
   "outputs": [],
   "source": [
    "sos_ds = variables.add_longwave_radiation(sos_ds)\n",
    "sos_ds = variables.add_surface_temps(sos_ds)"
   ]
  },
  {
   "cell_type": "markdown",
   "metadata": {},
   "source": [
    "### Clean $T_s$ variables before proceeding with other calculations\n",
    "\n",
    "(as of Feb 20, 2023, using NCAR's QC data release, we found a single $T_s$ outlier.)"
   ]
  },
  {
   "cell_type": "code",
   "execution_count": 69,
   "metadata": {},
   "outputs": [
    {
     "data": {
      "text/plain": [
       "['Tsurf_rad_d',\n",
       " 'Tsurf_c',\n",
       " 'Tsurf_d',\n",
       " 'Tsurf_ue',\n",
       " 'Tsurf_uw',\n",
       " 'Tsurfplanck_c',\n",
       " 'Tsurfplanck_d',\n",
       " 'Tsurfplanck_ue',\n",
       " 'Tsurfplanck_uw']"
      ]
     },
     "execution_count": 69,
     "metadata": {},
     "output_type": "execute_result"
    }
   ],
   "source": [
    "Tsurf_vars = [v for v in sos_ds.data_vars if v.startswith('Tsurf')]\n",
    "Tsurf_vars"
   ]
  },
  {
   "cell_type": "code",
   "execution_count": 70,
   "metadata": {},
   "outputs": [
    {
     "name": "stdout",
     "output_type": "stream",
     "text": [
      "Tsurf_rad_d\t -30.2\t5.2\n",
      "Tsurf_c\t -78.7\t2.0\n",
      "Tsurf_d\t -84.7\t222.2\n",
      "Tsurf_ue\t -70.1\t2.2\n",
      "Tsurf_uw\t -32.0\t2.2\n",
      "Tsurfplanck_c\t -79.1\t1.7\n",
      "Tsurfplanck_d\t -85.1\t223.2\n",
      "Tsurfplanck_ue\t -70.5\t2.0\n",
      "Tsurfplanck_uw\t -32.3\t1.9\n"
     ]
    }
   ],
   "source": [
    "for var in Tsurf_vars:\n",
    "    print(f\"{var}\\t {round(sos_ds[var].min().item(), 1)}\\t{round(sos_ds[var].max().item(), 1)}\")"
   ]
  },
  {
   "cell_type": "code",
   "execution_count": 71,
   "metadata": {},
   "outputs": [],
   "source": [
    "for var in Tsurf_vars:\n",
    "    sos_ds[var] = sos_ds[var].where(\n",
    "        (sos_ds[var].values > -40)\n",
    "        &\n",
    "        (sos_ds[var].values < 40)\n",
    "    ).interpolate_na(\n",
    "        dim='time', \n",
    "        method='linear'\n",
    "    ).where(\n",
    "        ~ sos_ds[var].isnull()\n",
    "    )"
   ]
  },
  {
   "cell_type": "code",
   "execution_count": 72,
   "metadata": {},
   "outputs": [
    {
     "name": "stdout",
     "output_type": "stream",
     "text": [
      "Tsurf_rad_d\t -30.2\t5.2\n",
      "Tsurf_c\t -32.5\t2.0\n",
      "Tsurf_d\t -32.6\t1.9\n",
      "Tsurf_ue\t -32.0\t2.2\n",
      "Tsurf_uw\t -32.0\t2.2\n",
      "Tsurfplanck_c\t -32.8\t1.7\n",
      "Tsurfplanck_d\t -32.9\t1.7\n",
      "Tsurfplanck_ue\t -32.3\t2.0\n",
      "Tsurfplanck_uw\t -32.3\t1.9\n"
     ]
    }
   ],
   "source": [
    "for var in Tsurf_vars:\n",
    "    print(f\"{var}\\t {round(sos_ds[var].min().item(), 1)}\\t{round(sos_ds[var].max().item(), 1)}\")\n"
   ]
  },
  {
   "cell_type": "code",
   "execution_count": 78,
   "metadata": {},
   "outputs": [
    {
     "data": {
      "text/plain": [
       "[<matplotlib.lines.Line2D at 0x287b03320>]"
      ]
     },
     "execution_count": 78,
     "metadata": {},
     "output_type": "execute_result"
    },
    {
     "data": {
      "image/png": "[encoded data removed]",
      "text/plain": [
       "<Figure size 640x480 with 4 Axes>"
      ]
     },
     "metadata": {},
     "output_type": "display_data"
    }
   ],
   "source": [
    "fig, axes = plt.subplots(2,2,sharex=True,sharey=True)\n",
    "sos_ds['Tsurf_c'].plot(ax=axes[0][0])\n",
    "sos_ds['Tsurf_d'].plot(ax=axes[0][1])\n",
    "sos_ds['Tsurf_ue'].plot(ax=axes[1][0])\n",
    "sos_ds['Tsurf_uw'].plot(ax=axes[1][1])"
   ]
  },
  {
   "cell_type": "markdown",
   "metadata": {},
   "source": [
    "## Add $T_v, \\theta, \\theta_v, \\textbf{tke}, R_i, L$"
   ]
  },
  {
   "cell_type": "code",
   "execution_count": 79,
   "metadata": {},
   "outputs": [
    {
     "name": "stderr",
     "output_type": "stream",
     "text": [
      "/Users/elischwat/miniforge3/envs/sublimationofsnow/lib/python3.12/site-packages/sublimpy/gradients.py:126: OptimizeWarning: Covariance of the parameters could not be estimated\n",
      "  [a,b,c], _ = curve_fit(LogPolynomial.function, heights, values)\n",
      "/Users/elischwat/miniforge3/envs/sublimationofsnow/lib/python3.12/site-packages/sublimpy/gradients.py:126: OptimizeWarning: Covariance of the parameters could not be estimated\n",
      "  [a,b,c], _ = curve_fit(LogPolynomial.function, heights, values)\n",
      "/Users/elischwat/miniforge3/envs/sublimationofsnow/lib/python3.12/site-packages/sublimpy/gradients.py:126: OptimizeWarning: Covariance of the parameters could not be estimated\n",
      "  [a,b,c], _ = curve_fit(LogPolynomial.function, heights, values)\n",
      "/Users/elischwat/miniforge3/envs/sublimationofsnow/lib/python3.12/site-packages/sublimpy/gradients.py:126: OptimizeWarning: Covariance of the parameters could not be estimated\n",
      "  [a,b,c], _ = curve_fit(LogPolynomial.function, heights, values)\n",
      "/Users/elischwat/miniforge3/envs/sublimationofsnow/lib/python3.12/site-packages/sublimpy/gradients.py:126: OptimizeWarning: Covariance of the parameters could not be estimated\n",
      "  [a,b,c], _ = curve_fit(LogPolynomial.function, heights, values)\n",
      "/Users/elischwat/miniforge3/envs/sublimationofsnow/lib/python3.12/site-packages/sublimpy/gradients.py:126: OptimizeWarning: Covariance of the parameters could not be estimated\n",
      "  [a,b,c], _ = curve_fit(LogPolynomial.function, heights, values)\n",
      "/Users/elischwat/miniforge3/envs/sublimationofsnow/lib/python3.12/site-packages/sublimpy/gradients.py:126: OptimizeWarning: Covariance of the parameters could not be estimated\n",
      "  [a,b,c], _ = curve_fit(LogPolynomial.function, heights, values)\n",
      "/Users/elischwat/miniforge3/envs/sublimationofsnow/lib/python3.12/site-packages/sublimpy/gradients.py:126: OptimizeWarning: Covariance of the parameters could not be estimated\n",
      "  [a,b,c], _ = curve_fit(LogPolynomial.function, heights, values)\n",
      "/Users/elischwat/miniforge3/envs/sublimationofsnow/lib/python3.12/site-packages/sublimpy/gradients.py:126: OptimizeWarning: Covariance of the parameters could not be estimated\n",
      "  [a,b,c], _ = curve_fit(LogPolynomial.function, heights, values)\n",
      "/Users/elischwat/miniforge3/envs/sublimationofsnow/lib/python3.12/site-packages/sublimpy/gradients.py:126: OptimizeWarning: Covariance of the parameters could not be estimated\n",
      "  [a,b,c], _ = curve_fit(LogPolynomial.function, heights, values)\n",
      "/Users/elischwat/miniforge3/envs/sublimationofsnow/lib/python3.12/site-packages/sublimpy/gradients.py:126: OptimizeWarning: Covariance of the parameters could not be estimated\n",
      "  [a,b,c], _ = curve_fit(LogPolynomial.function, heights, values)\n",
      "/Users/elischwat/miniforge3/envs/sublimationofsnow/lib/python3.12/site-packages/sublimpy/gradients.py:126: OptimizeWarning: Covariance of the parameters could not be estimated\n",
      "  [a,b,c], _ = curve_fit(LogPolynomial.function, heights, values)\n"
     ]
    }
   ],
   "source": [
    "sos_ds = variables.add_potential_virtual_temperatures(sos_ds)\n",
    "sos_ds = variables.add_surface_potential_virtual_temperatures(sos_ds)\n",
    "sos_ds = variables.add_tke(sos_ds)\n",
    "sos_ds = variables.add_gradients_and_ri(sos_ds)\n",
    "sos_ds = variables.add_shear_velocity_and_obukhov_length(sos_ds)"
   ]
  },
  {
   "cell_type": "markdown",
   "metadata": {},
   "source": [
    "## Add decoupling metric, from Peltola et al. (2021).\n",
    "\n",
    "We adjust the height value for snow depth."
   ]
  },
  {
   "cell_type": "code",
   "execution_count": 81,
   "metadata": {},
   "outputs": [],
   "source": [
    "def decoupling_metric(z, sigma_w, N):\n",
    "    \"\"\"Calculate the decoupling metric as described in Peltola et al (2021).\n",
    "\n",
    "    Peltola, O., Lapo, K., & Thomas, C. K. (2021). A Physics‐Based Universal Indicator for Vertical Decoupling and Mixing Across Canopies Architectures and Dynamic Stabilities. Geophysical Research Letters, 48(5), e2020GL091615. https://doi.org/10.1029/2020GL091615\n",
    "    \n",
    "    Args:\n",
    "        z (float): height of measurements \n",
    "        sigma_w (float): standarad deviation of w, vertical velocity\n",
    "        N (float): Brunt-Vaisala frequency\n",
    "    \"\"\"\n",
    "    # Brunt Vaisala frequency estimated using the bulk theta gradient\n",
    "    # N = np.sqrt(\n",
    "    #     g * (theta_e - theta_mean) / theta_mean\n",
    "    # )\n",
    "\n",
    "    Lb = sigma_w / N\n",
    "    omega = Lb / ( np.sqrt(2)*z )\n",
    "    return omega\n"
   ]
  },
  {
   "cell_type": "code",
   "execution_count": 82,
   "metadata": {},
   "outputs": [
    {
     "name": "stdout",
     "output_type": "stream",
     "text": [
      "7728\n",
      "7728\n",
      "7728\n",
      "7728\n"
     ]
    },
    {
     "name": "stderr",
     "output_type": "stream",
     "text": [
      "/var/folders/x_/2h52bcjx2px15bhmdpdd748h0000gn/T/ipykernel_26436/56407381.py:16: RuntimeWarning: divide by zero encountered in divide\n",
      "  Lb = sigma_w / N\n"
     ]
    }
   ],
   "source": [
    "#######################################################################\n",
    "### OLD METHOD USING GRADIENT-BASED N\n",
    "#######################################################################\n",
    "from metpy.calc import brunt_vaisala_frequency\n",
    "\n",
    "sigma_w = np.sqrt(sos_ds['w_w__3m_c']).values\n",
    "pot_temps = sos_ds[[\n",
    "    'Tpot_2m_c', \n",
    "    'Tpot_3m_c', \n",
    "    'Tpot_4m_c', \n",
    "    'Tpot_5m_c', \n",
    "    'Tpot_6m_c'\n",
    "]].to_stacked_array(\n",
    "    'z', ['time']\n",
    ").values\n",
    "\n",
    "snow_depth_values = sos_ds['SnowDepth_c']\n",
    "snow_depth_values_reshaped = np.repeat(sos_ds['SnowDepth_c'].values, 5).reshape(-1, 5)\n",
    "\n",
    "heights = np.full(pot_temps.shape,  [ 2,    3,    4,    5,    6])\n",
    "heights_adjusted = heights - snow_depth_values_reshaped\n",
    "brunt_vaisala_values = [ Ns[1] for Ns in \n",
    "    brunt_vaisala_frequency( \n",
    "        heights_adjusted * units(\"meters\"),\n",
    "        pot_temps * units(\"celsius\"), \n",
    "        vertical_dim=1\n",
    "    ).magnitude   \n",
    "]\n",
    "z = np.full(sigma_w.shape, 3) - snow_depth_values.values\n",
    "\n",
    "# decoupling_metric(z, sigma_w, N)\n",
    "print(len(z))\n",
    "print(len(sigma_w))\n",
    "print(len(brunt_vaisala_values))\n",
    "\n",
    "omegas = decoupling_metric(z, sigma_w, brunt_vaisala_values)\n",
    "sos_ds['omega_3m_c'] = (['time'],  omegas)\n",
    "print(len(omegas))\n",
    "\n",
    "\n",
    "\n",
    "#######################################################################\n",
    "### NEW METHOD USING BULK N\n",
    "#######################################################################\n",
    "# sigma_w = np.sqrt(sos_ds['w_w__3m_c']).values\n",
    "\n",
    "# snow_depth_values = sos_ds['SnowDepth_c'].values\n",
    "\n",
    "# air_temp_height = 3\n",
    "# heights_adjusted = air_temp_height - snow_depth_values\n",
    "# surf_pottemp = sos_ds['Tsurfpot_c'].values\n",
    "# air_pottemp = sos_ds['Tpot_3m_c'].values\n",
    "# surfacealyer_avg_pottemp = 0.5*(air_pottemp + surf_pottemp)\n",
    "# bulk_brunt_vaisala_value = np.sqrt(\n",
    "#     metpy.constants.earth_gravity.magnitude.item()*(air_pottemp - surfacealyer_avg_pottemp) \n",
    "#     /\n",
    "#     (surfacealyer_avg_pottemp * heights_adjusted)\n",
    "# )\n",
    "# z = np.full(sigma_w.shape, 3) - snow_depth_values\n",
    "\n",
    "# # decoupling_metric(z, sigma_w, N)\n",
    "# print(len(z))\n",
    "# print(len(sigma_w))\n",
    "# print(len(bulk_brunt_vaisala_value))\n",
    "\n",
    "# omegas = decoupling_metric(z, sigma_w, bulk_brunt_vaisala_value)\n",
    "# sos_ds['omega_3m_c'] = (['time'],  omegas)"
   ]
  },
  {
   "cell_type": "code",
   "execution_count": 83,
   "metadata": {},
   "outputs": [
    {
     "data": {
      "text/plain": [
       "(0.0, 1.0)"
      ]
     },
     "execution_count": 83,
     "metadata": {},
     "output_type": "execute_result"
    },
    {
     "data": {
      "image/png": "[encoded data removed]",
      "text/plain": [
       "<Figure size 640x480 with 1 Axes>"
      ]
     },
     "metadata": {},
     "output_type": "display_data"
    }
   ],
   "source": [
    "import seaborn as sns\n",
    "sns.histplot(sos_ds['omega_3m_c'])\n",
    "plt.xlim(0,1)"
   ]
  },
  {
   "cell_type": "markdown",
   "metadata": {},
   "source": [
    "## Net LW and Net SW"
   ]
  },
  {
   "cell_type": "code",
   "execution_count": 84,
   "metadata": {},
   "outputs": [],
   "source": [
    "sos_ds['Rlw_net_9m_d'] = sos_ds['Rlw_in_9m_d'] - sos_ds['Rlw_out_9m_d']\n",
    "sos_ds['Rsw_net_9m_d'] = sos_ds['Rsw_in_9m_d'] - sos_ds['Rsw_out_9m_d']"
   ]
  },
  {
   "cell_type": "markdown",
   "metadata": {},
   "source": [
    "## Net Radiation"
   ]
  },
  {
   "cell_type": "code",
   "execution_count": 85,
   "metadata": {},
   "outputs": [],
   "source": [
    "sos_ds['Rnet_9m_d'] = (\n",
    "    (sos_ds['Rsw_in_9m_d'] + sos_ds['Rlw_in_9m_d'])\n",
    "    -\n",
    "    (sos_ds['Rsw_out_9m_d'] + sos_ds['Rlw_out_9m_d'])\n",
    ")"
   ]
  },
  {
   "cell_type": "markdown",
   "metadata": {},
   "source": [
    "## Specific humidity"
   ]
  },
  {
   "cell_type": "code",
   "execution_count": 86,
   "metadata": {},
   "outputs": [],
   "source": [
    "for var in [\n",
    "    'Tsurfmixingratio_c',\n",
    "    'mixingratio_2m_c',\n",
    "    'mixingratio_3m_c',\n",
    "    'mixingratio_4m_c',\n",
    "    'mixingratio_5m_c',\n",
    "    'mixingratio_6m_c',\n",
    "    'mixingratio_7m_c',\n",
    "    'mixingratio_8m_c',\n",
    "    'mixingratio_9m_c',\n",
    "    'mixingratio_10m_c',\n",
    "    'mixingratio_11m_c',\n",
    "    'mixingratio_12m_c',\n",
    "    'mixingratio_13m_c',\n",
    "    'mixingratio_14m_c',\n",
    "    'mixingratio_15m_c',\n",
    "    'mixingratio_16m_c',\n",
    "    'mixingratio_17m_c',\n",
    "    'mixingratio_18m_c',\n",
    "    'mixingratio_19m_c',\n",
    "    'mixingratio_20m_c',\n",
    "]:\n",
    "    new_var_name = var.replace('mixingratio', 'specifichumidity')\n",
    "    sos_ds[new_var_name] = (['time'], specific_humidity_from_mixing_ratio(\n",
    "        sos_ds[var]*units('g/g')\n",
    "    ).values)"
   ]
  },
  {
   "cell_type": "markdown",
   "metadata": {},
   "source": [
    "# Apply sensible and latent heat flux corrections (lots of citations, see here: https://www.eol.ucar.edu/content/corrections-sensible-and-latent-heat-flux-measurements)"
   ]
  },
  {
   "cell_type": "code",
   "execution_count": 186,
   "metadata": {},
   "outputs": [],
   "source": [
    "rho_d = 1293*units('g/m^3') # density of dry air\n",
    "rho_a = 1287*units('g/m^3') #density of moist air\n",
    "mu = 1/0.622\n",
    "\n",
    "def corrected_sensible_heat_flux(\n",
    "    w_tc_, #sonic_temperature_flux\n",
    "    w_h2o_, #h2o_flux\n",
    "    Q, #specific_humidity\n",
    "    T, #absolute_temperature\n",
    "    A, #A\n",
    "    Mr, #mean_mixing_ratio\n",
    "):\n",
    "    Ctc = 0.51*(1 + Q*(mu-1))\n",
    "    part1 = w_tc_ - Ctc*(T/rho_a)*A*w_h2o_\n",
    "    part2 = 1 + Ctc*Q\n",
    "    return part1 / part2\n",
    "\n",
    "def corrected_latent_heat_flux(\n",
    "    w_tc_, #sonic_temperature_flux\n",
    "    w_h2o_, #h2o_flux\n",
    "    Q, #specific_humidity\n",
    "    T, #absolute_temperature\n",
    "    A, #A\n",
    "    Mr, #mean_mixing_ratio\n",
    "):\n",
    "    Ctc = 0.51*(1 + Q*(mu-1))\n",
    "    return (1 + mu*Mr)* (\n",
    "        (A/rho_d)*w_h2o_ + (Mr/T)*(w_tc_)\n",
    "    ) / (\n",
    "        1 + Ctc*Q\n",
    "    )"
   ]
  },
  {
   "cell_type": "code",
   "execution_count": 251,
   "metadata": {},
   "outputs": [
    {
     "data": {
      "text/html": [
       "<div><svg style=\"position: absolute; width: 0; height: 0; overflow: hidden\">\n",
       "<defs>\n",
       "<symbol id=\"icon-database\" viewBox=\"0 0 32 32\">\n",
       "<path d=\"M16 0c-8.837 0-16 2.239-16 5v4c0 2.761 7.163 5 16 5s16-2.239 16-5v-4c0-2.761-7.163-5-16-5z\"></path>\n",
       "<path d=\"M16 17c-8.837 0-16-2.239-16-5v6c0 2.761 7.163 5 16 5s16-2.239 16-5v-6c0 2.761-7.163 5-16 5z\"></path>\n",
       "<path d=\"M16 26c-8.837 0-16-2.239-16-5v6c0 2.761 7.163 5 16 5s16-2.239 16-5v-6c0 2.761-7.163 5-16 5z\"></path>\n",
       "</symbol>\n",
       "<symbol id=\"icon-file-text2\" viewBox=\"0 0 32 32\">\n",
       "<path d=\"M28.681 7.159c-0.694-0.947-1.662-2.053-2.724-3.116s-2.169-2.030-3.116-2.724c-1.612-1.182-2.393-1.319-2.841-1.319h-15.5c-1.378 0-2.5 1.121-2.5 2.5v27c0 1.378 1.122 2.5 2.5 2.5h23c1.378 0 2.5-1.122 2.5-2.5v-19.5c0-0.448-0.137-1.23-1.319-2.841zM24.543 5.457c0.959 0.959 1.712 1.825 2.268 2.543h-4.811v-4.811c0.718 0.556 1.584 1.309 2.543 2.268zM28 29.5c0 0.271-0.229 0.5-0.5 0.5h-23c-0.271 0-0.5-0.229-0.5-0.5v-27c0-0.271 0.229-0.5 0.5-0.5 0 0 15.499-0 15.5 0v7c0 0.552 0.448 1 1 1h7v19.5z\"></path>\n",
       "<path d=\"M23 26h-14c-0.552 0-1-0.448-1-1s0.448-1 1-1h14c0.552 0 1 0.448 1 1s-0.448 1-1 1z\"></path>\n",
       "<path d=\"M23 22h-14c-0.552 0-1-0.448-1-1s0.448-1 1-1h14c0.552 0 1 0.448 1 1s-0.448 1-1 1z\"></path>\n",
       "<path d=\"M23 18h-14c-0.552 0-1-0.448-1-1s0.448-1 1-1h14c0.552 0 1 0.448 1 1s-0.448 1-1 1z\"></path>\n",
       "</symbol>\n",
       "</defs>\n",
       "</svg>\n",
       "<style>/* CSS stylesheet for displaying xarray objects in jupyterlab.\n",
       " *\n",
       " */\n",
       "\n",
       ":root {\n",
       "  --xr-font-color0: var(--jp-content-font-color0, rgba(0, 0, 0, 1));\n",
       "  --xr-font-color2: var(--jp-content-font-color2, rgba(0, 0, 0, 0.54));\n",
       "  --xr-font-color3: var(--jp-content-font-color3, rgba(0, 0, 0, 0.38));\n",
       "  --xr-border-color: var(--jp-border-color2, #e0e0e0);\n",
       "  --xr-disabled-color: var(--jp-layout-color3, #bdbdbd);\n",
       "  --xr-background-color: var(--jp-layout-color0, white);\n",
       "  --xr-background-color-row-even: var(--jp-layout-color1, white);\n",
       "  --xr-background-color-row-odd: var(--jp-layout-color2, #eeeeee);\n",
       "}\n",
       "\n",
       "html[theme=dark],\n",
       "body[data-theme=dark],\n",
       "body.vscode-dark {\n",
       "  --xr-font-color0: rgba(255, 255, 255, 1);\n",
       "  --xr-font-color2: rgba(255, 255, 255, 0.54);\n",
       "  --xr-font-color3: rgba(255, 255, 255, 0.38);\n",
       "  --xr-border-color: #1F1F1F;\n",
       "  --xr-disabled-color: #515151;\n",
       "  --xr-background-color: #111111;\n",
       "  --xr-background-color-row-even: #111111;\n",
       "  --xr-background-color-row-odd: #313131;\n",
       "}\n",
       "\n",
       ".xr-wrap {\n",
       "  display: block !important;\n",
       "  min-width: 300px;\n",
       "  max-width: 700px;\n",
       "}\n",
       "\n",
       ".xr-text-repr-fallback {\n",
       "  /* fallback to plain text repr when CSS is not injected (untrusted notebook) */\n",
       "  display: none;\n",
       "}\n",
       "\n",
       ".xr-header {\n",
       "  padding-top: 6px;\n",
       "  padding-bottom: 6px;\n",
       "  margin-bottom: 4px;\n",
       "  border-bottom: solid 1px var(--xr-border-color);\n",
       "}\n",
       "\n",
       ".xr-header > div,\n",
       ".xr-header > ul {\n",
       "  display: inline;\n",
       "  margin-top: 0;\n",
       "  margin-bottom: 0;\n",
       "}\n",
       "\n",
       ".xr-obj-type,\n",
       ".xr-array-name {\n",
       "  margin-left: 2px;\n",
       "  margin-right: 10px;\n",
       "}\n",
       "\n",
       ".xr-obj-type {\n",
       "  color: var(--xr-font-color2);\n",
       "}\n",
       "\n",
       ".xr-sections {\n",
       "  padding-left: 0 !important;\n",
       "  display: grid;\n",
       "  grid-template-columns: 150px auto auto 1fr 20px 20px;\n",
       "}\n",
       "\n",
       ".xr-section-item {\n",
       "  display: contents;\n",
       "}\n",
       "\n",
       ".xr-section-item input {\n",
       "  display: none;\n",
       "}\n",
       "\n",
       ".xr-section-item input + label {\n",
       "  color: var(--xr-disabled-color);\n",
       "}\n",
       "\n",
       ".xr-section-item input:enabled + label {\n",
       "  cursor: pointer;\n",
       "  color: var(--xr-font-color2);\n",
       "}\n",
       "\n",
       ".xr-section-item input:enabled + label:hover {\n",
       "  color: var(--xr-font-color0);\n",
       "}\n",
       "\n",
       ".xr-section-summary {\n",
       "  grid-column: 1;\n",
       "  color: var(--xr-font-color2);\n",
       "  font-weight: 500;\n",
       "}\n",
       "\n",
       ".xr-section-summary > span {\n",
       "  display: inline-block;\n",
       "  padding-left: 0.5em;\n",
       "}\n",
       "\n",
       ".xr-section-summary-in:disabled + label {\n",
       "  color: var(--xr-font-color2);\n",
       "}\n",
       "\n",
       ".xr-section-summary-in + label:before {\n",
       "  display: inline-block;\n",
       "  content: '►';\n",
       "  font-size: 11px;\n",
       "  width: 15px;\n",
       "  text-align: center;\n",
       "}\n",
       "\n",
       ".xr-section-summary-in:disabled + label:before {\n",
       "  color: var(--xr-disabled-color);\n",
       "}\n",
       "\n",
       ".xr-section-summary-in:checked + label:before {\n",
       "  content: '▼';\n",
       "}\n",
       "\n",
       ".xr-section-summary-in:checked + label > span {\n",
       "  display: none;\n",
       "}\n",
       "\n",
       ".xr-section-summary,\n",
       ".xr-section-inline-details {\n",
       "  padding-top: 4px;\n",
       "  padding-bottom: 4px;\n",
       "}\n",
       "\n",
       ".xr-section-inline-details {\n",
       "  grid-column: 2 / -1;\n",
       "}\n",
       "\n",
       ".xr-section-details {\n",
       "  display: none;\n",
       "  grid-column: 1 / -1;\n",
       "  margin-bottom: 5px;\n",
       "}\n",
       "\n",
       ".xr-section-summary-in:checked ~ .xr-section-details {\n",
       "  display: contents;\n",
       "}\n",
       "\n",
       ".xr-array-wrap {\n",
       "  grid-column: 1 / -1;\n",
       "  display: grid;\n",
       "  grid-template-columns: 20px auto;\n",
       "}\n",
       "\n",
       ".xr-array-wrap > label {\n",
       "  grid-column: 1;\n",
       "  vertical-align: top;\n",
       "}\n",
       "\n",
       ".xr-preview {\n",
       "  color: var(--xr-font-color3);\n",
       "}\n",
       "\n",
       ".xr-array-preview,\n",
       ".xr-array-data {\n",
       "  padding: 0 5px !important;\n",
       "  grid-column: 2;\n",
       "}\n",
       "\n",
       ".xr-array-data,\n",
       ".xr-array-in:checked ~ .xr-array-preview {\n",
       "  display: none;\n",
       "}\n",
       "\n",
       ".xr-array-in:checked ~ .xr-array-data,\n",
       ".xr-array-preview {\n",
       "  display: inline-block;\n",
       "}\n",
       "\n",
       ".xr-dim-list {\n",
       "  display: inline-block !important;\n",
       "  list-style: none;\n",
       "  padding: 0 !important;\n",
       "  margin: 0;\n",
       "}\n",
       "\n",
       ".xr-dim-list li {\n",
       "  display: inline-block;\n",
       "  padding: 0;\n",
       "  margin: 0;\n",
       "}\n",
       "\n",
       ".xr-dim-list:before {\n",
       "  content: '(';\n",
       "}\n",
       "\n",
       ".xr-dim-list:after {\n",
       "  content: ')';\n",
       "}\n",
       "\n",
       ".xr-dim-list li:not(:last-child):after {\n",
       "  content: ',';\n",
       "  padding-right: 5px;\n",
       "}\n",
       "\n",
       ".xr-has-index {\n",
       "  font-weight: bold;\n",
       "}\n",
       "\n",
       ".xr-var-list,\n",
       ".xr-var-item {\n",
       "  display: contents;\n",
       "}\n",
       "\n",
       ".xr-var-item > div,\n",
       ".xr-var-item label,\n",
       ".xr-var-item > .xr-var-name span {\n",
       "  background-color: var(--xr-background-color-row-even);\n",
       "  margin-bottom: 0;\n",
       "}\n",
       "\n",
       ".xr-var-item > .xr-var-name:hover span {\n",
       "  padding-right: 5px;\n",
       "}\n",
       "\n",
       ".xr-var-list > li:nth-child(odd) > div,\n",
       ".xr-var-list > li:nth-child(odd) > label,\n",
       ".xr-var-list > li:nth-child(odd) > .xr-var-name span {\n",
       "  background-color: var(--xr-background-color-row-odd);\n",
       "}\n",
       "\n",
       ".xr-var-name {\n",
       "  grid-column: 1;\n",
       "}\n",
       "\n",
       ".xr-var-dims {\n",
       "  grid-column: 2;\n",
       "}\n",
       "\n",
       ".xr-var-dtype {\n",
       "  grid-column: 3;\n",
       "  text-align: right;\n",
       "  color: var(--xr-font-color2);\n",
       "}\n",
       "\n",
       ".xr-var-preview {\n",
       "  grid-column: 4;\n",
       "}\n",
       "\n",
       ".xr-index-preview {\n",
       "  grid-column: 2 / 5;\n",
       "  color: var(--xr-font-color2);\n",
       "}\n",
       "\n",
       ".xr-var-name,\n",
       ".xr-var-dims,\n",
       ".xr-var-dtype,\n",
       ".xr-preview,\n",
       ".xr-attrs dt {\n",
       "  white-space: nowrap;\n",
       "  overflow: hidden;\n",
       "  text-overflow: ellipsis;\n",
       "  padding-right: 10px;\n",
       "}\n",
       "\n",
       ".xr-var-name:hover,\n",
       ".xr-var-dims:hover,\n",
       ".xr-var-dtype:hover,\n",
       ".xr-attrs dt:hover {\n",
       "  overflow: visible;\n",
       "  width: auto;\n",
       "  z-index: 1;\n",
       "}\n",
       "\n",
       ".xr-var-attrs,\n",
       ".xr-var-data,\n",
       ".xr-index-data {\n",
       "  display: none;\n",
       "  background-color: var(--xr-background-color) !important;\n",
       "  padding-bottom: 5px !important;\n",
       "}\n",
       "\n",
       ".xr-var-attrs-in:checked ~ .xr-var-attrs,\n",
       ".xr-var-data-in:checked ~ .xr-var-data,\n",
       ".xr-index-data-in:checked ~ .xr-index-data {\n",
       "  display: block;\n",
       "}\n",
       "\n",
       ".xr-var-data > table {\n",
       "  float: right;\n",
       "}\n",
       "\n",
       ".xr-var-name span,\n",
       ".xr-var-data,\n",
       ".xr-index-name div,\n",
       ".xr-index-data,\n",
       ".xr-attrs {\n",
       "  padding-left: 25px !important;\n",
       "}\n",
       "\n",
       ".xr-attrs,\n",
       ".xr-var-attrs,\n",
       ".xr-var-data,\n",
       ".xr-index-data {\n",
       "  grid-column: 1 / -1;\n",
       "}\n",
       "\n",
       "dl.xr-attrs {\n",
       "  padding: 0;\n",
       "  margin: 0;\n",
       "  display: grid;\n",
       "  grid-template-columns: 125px auto;\n",
       "}\n",
       "\n",
       ".xr-attrs dt,\n",
       ".xr-attrs dd {\n",
       "  padding: 0;\n",
       "  margin: 0;\n",
       "  float: left;\n",
       "  padding-right: 10px;\n",
       "  width: auto;\n",
       "}\n",
       "\n",
       ".xr-attrs dt {\n",
       "  font-weight: normal;\n",
       "  grid-column: 1;\n",
       "}\n",
       "\n",
       ".xr-attrs dt:hover span {\n",
       "  display: inline-block;\n",
       "  background: var(--xr-background-color);\n",
       "  padding-right: 10px;\n",
       "}\n",
       "\n",
       ".xr-attrs dd {\n",
       "  grid-column: 2;\n",
       "  white-space: pre-wrap;\n",
       "  word-break: break-all;\n",
       "}\n",
       "\n",
       ".xr-icon-database,\n",
       ".xr-icon-file-text2,\n",
       ".xr-no-icon {\n",
       "  display: inline-block;\n",
       "  vertical-align: middle;\n",
       "  width: 1em;\n",
       "  height: 1.5em !important;\n",
       "  stroke-width: 0;\n",
       "  stroke: currentColor;\n",
       "  fill: currentColor;\n",
       "}\n",
       "</style><pre class='xr-text-repr-fallback'>&lt;xarray.DataArray &#x27;w_h2o__3m_c&#x27; (time: 7728)&gt;\n",
       "array([ 0.00188555,  0.00047202, -0.00058369, ...,  0.00971058,\n",
       "        0.01054055,  0.00384376])\n",
       "Coordinates:\n",
       "  * time                   (time) datetime64[ns] 2022-11-30 ... 2023-05-09T23...\n",
       "    w_tc__3m_c_corrected   (time) float64 [K·m/s] -0.02688 -0.05102 ... -0.01698\n",
       "    w_h2o__3m_c_corrected  (time) float64 [m/s] -1.364e-07 ... -1.929e-07\n",
       "Attributes:\n",
       "    long_name:   2nd moment\n",
       "    short_name:  w&#x27;h2o&#x27;.3m.c\n",
       "    units:       m/s g/m^3\n",
       "    counts:      counts_3m_c_1</pre><div class='xr-wrap' style='display:none'><div class='xr-header'><div class='xr-obj-type'>xarray.DataArray</div><div class='xr-array-name'>'w_h2o__3m_c'</div><ul class='xr-dim-list'><li><span class='xr-has-index'>time</span>: 7728</li></ul></div><ul class='xr-sections'><li class='xr-section-item'><div class='xr-array-wrap'><input id='section-6806a994-fef8-4621-a2af-540bbd26197d' class='xr-array-in' type='checkbox' checked><label for='section-6806a994-fef8-4621-a2af-540bbd26197d' title='Show/hide data repr'><svg class='icon xr-icon-database'><use xlink:href='#icon-database'></use></svg></label><div class='xr-array-preview xr-preview'><span>0.001886 0.000472 -0.0005837 -0.001696 ... 0.009711 0.01054 0.003844</span></div><div class='xr-array-data'><pre>array([ 0.00188555,  0.00047202, -0.00058369, ...,  0.00971058,\n",
       "        0.01054055,  0.00384376])</pre></div></div></li><li class='xr-section-item'><input id='section-1352911c-badb-4dd5-b1e5-bbc41fa70e2a' class='xr-section-summary-in' type='checkbox'  checked><label for='section-1352911c-badb-4dd5-b1e5-bbc41fa70e2a' class='xr-section-summary' >Coordinates: <span>(3)</span></label><div class='xr-section-inline-details'></div><div class='xr-section-details'><ul class='xr-var-list'><li class='xr-var-item'><div class='xr-var-name'><span class='xr-has-index'>time</span></div><div class='xr-var-dims'>(time)</div><div class='xr-var-dtype'>datetime64[ns]</div><div class='xr-var-preview xr-preview'>2022-11-30 ... 2023-05-09T23:30:00</div><input id='attrs-43f1f220-5750-4e4d-bb14-60e604caa2e3' class='xr-var-attrs-in' type='checkbox' disabled><label for='attrs-43f1f220-5750-4e4d-bb14-60e604caa2e3' title='Show/Hide attributes'><svg class='icon xr-icon-file-text2'><use xlink:href='#icon-file-text2'></use></svg></label><input id='data-725c67dc-7953-4490-9c61-fcd4a30e6db8' class='xr-var-data-in' type='checkbox'><label for='data-725c67dc-7953-4490-9c61-fcd4a30e6db8' title='Show/Hide data repr'><svg class='icon xr-icon-database'><use xlink:href='#icon-database'></use></svg></label><div class='xr-var-attrs'><dl class='xr-attrs'></dl></div><div class='xr-var-data'><pre>array([&#x27;2022-11-30T00:00:00.000000000&#x27;, &#x27;2022-11-30T00:30:00.000000000&#x27;,\n",
       "       &#x27;2022-11-30T01:00:00.000000000&#x27;, ..., &#x27;2023-05-09T22:30:00.000000000&#x27;,\n",
       "       &#x27;2023-05-09T23:00:00.000000000&#x27;, &#x27;2023-05-09T23:30:00.000000000&#x27;],\n",
       "      dtype=&#x27;datetime64[ns]&#x27;)</pre></div></li><li class='xr-var-item'><div class='xr-var-name'><span>w_tc__3m_c_corrected</span></div><div class='xr-var-dims'>(time)</div><div class='xr-var-dtype'>float64</div><div class='xr-var-preview xr-preview'>[K·m/s] -0.02688 ... -0.01698</div><input id='attrs-e82b88a0-d12a-4bbc-8b71-b21056bc726e' class='xr-var-attrs-in' type='checkbox' disabled><label for='attrs-e82b88a0-d12a-4bbc-8b71-b21056bc726e' title='Show/Hide attributes'><svg class='icon xr-icon-file-text2'><use xlink:href='#icon-file-text2'></use></svg></label><input id='data-264fe508-8ff3-4a7b-aa37-ffdf714fdd8d' class='xr-var-data-in' type='checkbox'><label for='data-264fe508-8ff3-4a7b-aa37-ffdf714fdd8d' title='Show/Hide data repr'><svg class='icon xr-icon-database'><use xlink:href='#icon-database'></use></svg></label><div class='xr-var-attrs'><dl class='xr-attrs'></dl></div><div class='xr-var-data'><table><tbody><tr><th>Magnitude</th><td style='text-align:left;'><pre>[-0.026882640390210162 -0.05102173597371101 -0.045493501937363755 ...<br> -0.03421036073271935 -0.04852584075242899 -0.016976581124224267]</pre></td></tr><tr><th>Units</th><td style='text-align:left;'>kelvin meter/second</td></tr></tbody></table></div></li><li class='xr-var-item'><div class='xr-var-name'><span>w_h2o__3m_c_corrected</span></div><div class='xr-var-dims'>(time)</div><div class='xr-var-dtype'>float64</div><div class='xr-var-preview xr-preview'>[m/s] -1.364e-07 ... -1.929e-07</div><input id='attrs-d2255053-e5c4-43e7-bb90-a65ab0f57a8b' class='xr-var-attrs-in' type='checkbox' disabled><label for='attrs-d2255053-e5c4-43e7-bb90-a65ab0f57a8b' title='Show/Hide attributes'><svg class='icon xr-icon-file-text2'><use xlink:href='#icon-file-text2'></use></svg></label><input id='data-14a418dd-68e2-4551-873f-b5c3035a3804' class='xr-var-data-in' type='checkbox'><label for='data-14a418dd-68e2-4551-873f-b5c3035a3804' title='Show/Hide data repr'><svg class='icon xr-icon-database'><use xlink:href='#icon-database'></use></svg></label><div class='xr-var-attrs'><dl class='xr-attrs'></dl></div><div class='xr-var-data'><table><tbody><tr><th>Magnitude</th><td style='text-align:left;'><pre>[-1.3636075961109074e-07 -1.9610654321961688e-07 -1.6884523163908754e-07<br> ... -3.715874376828768e-07 -5.094707799617918e-07 -1.928806262895727e-07]</pre></td></tr><tr><th>Units</th><td style='text-align:left;'>meter/second</td></tr></tbody></table></div></li></ul></div></li><li class='xr-section-item'><input id='section-8d9fb236-1302-4b47-88ec-c44bd267bc1d' class='xr-section-summary-in' type='checkbox'  ><label for='section-8d9fb236-1302-4b47-88ec-c44bd267bc1d' class='xr-section-summary' >Indexes: <span>(1)</span></label><div class='xr-section-inline-details'></div><div class='xr-section-details'><ul class='xr-var-list'><li class='xr-var-item'><div class='xr-index-name'><div>time</div></div><div class='xr-index-preview'>PandasIndex</div><div></div><input id='index-ade78cf4-e320-4517-8484-4122286886c1' class='xr-index-data-in' type='checkbox'/><label for='index-ade78cf4-e320-4517-8484-4122286886c1' title='Show/Hide index repr'><svg class='icon xr-icon-database'><use xlink:href='#icon-database'></use></svg></label><div class='xr-index-data'><pre>PandasIndex(DatetimeIndex([&#x27;2022-11-30 00:00:00&#x27;, &#x27;2022-11-30 00:30:00&#x27;,\n",
       "               &#x27;2022-11-30 01:00:00&#x27;, &#x27;2022-11-30 01:30:00&#x27;,\n",
       "               &#x27;2022-11-30 02:00:00&#x27;, &#x27;2022-11-30 02:30:00&#x27;,\n",
       "               &#x27;2022-11-30 03:00:00&#x27;, &#x27;2022-11-30 03:30:00&#x27;,\n",
       "               &#x27;2022-11-30 04:00:00&#x27;, &#x27;2022-11-30 04:30:00&#x27;,\n",
       "               ...\n",
       "               &#x27;2023-05-09 19:00:00&#x27;, &#x27;2023-05-09 19:30:00&#x27;,\n",
       "               &#x27;2023-05-09 20:00:00&#x27;, &#x27;2023-05-09 20:30:00&#x27;,\n",
       "               &#x27;2023-05-09 21:00:00&#x27;, &#x27;2023-05-09 21:30:00&#x27;,\n",
       "               &#x27;2023-05-09 22:00:00&#x27;, &#x27;2023-05-09 22:30:00&#x27;,\n",
       "               &#x27;2023-05-09 23:00:00&#x27;, &#x27;2023-05-09 23:30:00&#x27;],\n",
       "              dtype=&#x27;datetime64[ns]&#x27;, name=&#x27;time&#x27;, length=7728, freq=&#x27;30min&#x27;))</pre></div></li></ul></div></li><li class='xr-section-item'><input id='section-3dfab8a1-7405-4971-b129-2b2313c75ae9' class='xr-section-summary-in' type='checkbox'  checked><label for='section-3dfab8a1-7405-4971-b129-2b2313c75ae9' class='xr-section-summary' >Attributes: <span>(4)</span></label><div class='xr-section-inline-details'></div><div class='xr-section-details'><dl class='xr-attrs'><dt><span>long_name :</span></dt><dd>2nd moment</dd><dt><span>short_name :</span></dt><dd>w&#x27;h2o&#x27;.3m.c</dd><dt><span>units :</span></dt><dd>m/s g/m^3</dd><dt><span>counts :</span></dt><dd>counts_3m_c_1</dd></dl></div></li></ul></div></div>"
      ],
      "text/plain": [
       "<xarray.DataArray 'w_h2o__3m_c' (time: 7728)>\n",
       "array([ 0.00188555,  0.00047202, -0.00058369, ...,  0.00971058,\n",
       "        0.01054055,  0.00384376])\n",
       "Coordinates:\n",
       "  * time                   (time) datetime64[ns] 2022-11-30 ... 2023-05-09T23...\n",
       "    w_tc__3m_c_corrected   (time) float64 [K·m/s] -0.02688 -0.05102 ... -0.01698\n",
       "    w_h2o__3m_c_corrected  (time) float64 [m/s] -1.364e-07 ... -1.929e-07\n",
       "Attributes:\n",
       "    long_name:   2nd moment\n",
       "    short_name:  w'h2o'.3m.c\n",
       "    units:       m/s g/m^3\n",
       "    counts:      counts_3m_c_1"
      ]
     },
     "execution_count": 251,
     "metadata": {},
     "output_type": "execute_result"
    }
   ],
   "source": [
    "sos_ds['w_h2o__3m_c']"
   ]
  },
  {
   "cell_type": "code",
   "execution_count": 247,
   "metadata": {},
   "outputs": [],
   "source": [
    "w_tc__corrected = corrected_sensible_heat_flux(\n",
    "    sos_ds['w_tc__3m_c'].values*units(\"(m/s)(kelvin)\"),\n",
    "    `sos_ds['w_h2o__3m_c'].values*units(\"(m/s)(g/m^3)\"),\n",
    "    sos_ds['specifichumidity_3m_c'].values*units(\"g/g\"),\n",
    "    (sos_ds['T_3m_c'].values * units.degC).to('kelvin'),\n",
    "    0, #A\n",
    "    sos_ds['mixingratio_3m_c'].values*units(\"g/g\")\n",
    ")\n",
    "w_h2o__corrected = corrected_latent_heat_flux(\n",
    "    sos_ds['w_tc__3m_c'].values*units(\"(m/s)(kelvin)\"),\n",
    "    sos_ds['w_h2o__3m_c'].values*units(\"(m/s)(g/m^3)\"),\n",
    "    sos_ds['specifichumidity_3m_c'].values*units(\"g/g\"),\n",
    "    (sos_ds['T_3m_c'].values * units.degC).to('kelvin'),\n",
    "    0, #A\n",
    "    sos_ds['mixingratio_3m_c'].values*units(\"g/g\")\n",
    ")"
   ]
  },
  {
   "cell_type": "code",
   "execution_count": 248,
   "metadata": {},
   "outputs": [],
   "source": [
    "sos_ds['w_tc__3m_c_corrected']  = (['time'], w_tc__corrected)\n",
    "sos_ds['w_h2o__3m_c_corrected'] = (['time'], w_h2o__corrected)"
   ]
  },
  {
   "cell_type": "code",
   "execution_count": 249,
   "metadata": {},
   "outputs": [
    {
     "data": {
      "text/plain": [
       "[<matplotlib.lines.Line2D at 0x2be7b2750>]"
      ]
     },
     "execution_count": 249,
     "metadata": {},
     "output_type": "execute_result"
    },
    {
     "data": {
      "image/png": "[encoded data removed]",
      "text/plain": [
       "<Figure size 640x480 with 1 Axes>"
      ]
     },
     "metadata": {},
     "output_type": "display_data"
    }
   ],
   "source": [
    "# sos_ds['w_tc__3m_c_corrected'] \n",
    "sos_ds['w_tc__3m_c_corrected'].sel(time=slice('20221201', '20221215')).plot()\n",
    "sos_ds['w_tc__3m_c'].sel(time=slice('20221201', '20221215')).plot()"
   ]
  },
  {
   "cell_type": "code",
   "execution_count": 250,
   "metadata": {},
   "outputs": [
    {
     "data": {
      "text/plain": [
       "[<matplotlib.lines.Line2D at 0x2be340260>]"
      ]
     },
     "execution_count": 250,
     "metadata": {},
     "output_type": "execute_result"
    },
    {
     "data": {
      "image/png": "[encoded data removed]",
      "text/plain": [
       "<Figure size 640x480 with 1 Axes>"
      ]
     },
     "metadata": {},
     "output_type": "display_data"
    }
   ],
   "source": [
    "# sos_ds['w_tc__3m_c_corrected'] \n",
    "sos_ds['w_h2o__3m_c'].sel(time=slice('20221201', '20221215')).plot()\n",
    "sos_ds['w_h2o__3m_c_corrected'].sel(time=slice('20221201', '20221215')).plot()"
   ]
  },
  {
   "attachments": {},
   "cell_type": "markdown",
   "metadata": {},
   "source": [
    "# Get Tidy Dataset"
   ]
  },
  {
   "cell_type": "code",
   "execution_count": null,
   "metadata": {},
   "outputs": [],
   "source": [
    "tidy_df = tidy.get_tidy_dataset(sos_ds, list(sos_ds.data_vars))"
   ]
  },
  {
   "cell_type": "code",
   "execution_count": null,
   "metadata": {},
   "outputs": [],
   "source": [
    "tidy_df.query(\"variable == 'Tsurf_d'\").set_index('time')['value'].plot()"
   ]
  },
  {
   "cell_type": "code",
   "execution_count": null,
   "metadata": {},
   "outputs": [],
   "source": [
    "tidy_df.query(\"variable == 'u*_3m_c'\").variable.unique()"
   ]
  },
  {
   "cell_type": "code",
   "execution_count": null,
   "metadata": {},
   "outputs": [],
   "source": [
    "assert len(tidy_df.query(\"variable == 'omega_3m_c'\")) > 0"
   ]
  },
  {
   "attachments": {},
   "cell_type": "markdown",
   "metadata": {},
   "source": [
    "Which variables did not get a \"measurement\" name assigned?"
   ]
  },
  {
   "cell_type": "code",
   "execution_count": null,
   "metadata": {},
   "outputs": [],
   "source": [
    "variables_with_no_measurement = tidy_df[tidy_df.measurement.apply(lambda x: x is None)].variable.unique()\n",
    "variables_with_no_measurement"
   ]
  },
  {
   "cell_type": "code",
   "execution_count": null,
   "metadata": {},
   "outputs": [],
   "source": [
    "set(tidy_df.variable.unique()).difference(set(list(sos_ds.data_vars)))"
   ]
  },
  {
   "cell_type": "markdown",
   "metadata": {},
   "source": [
    "# Model Estimates"
   ]
  },
  {
   "cell_type": "markdown",
   "metadata": {},
   "source": [
    "## Penman-Monteith and Priestley-Taylor"
   ]
  },
  {
   "cell_type": "markdown",
   "metadata": {},
   "source": [
    "### Gather the data we need"
   ]
  },
  {
   "cell_type": "code",
   "execution_count": null,
   "metadata": {},
   "outputs": [],
   "source": [
    "pyet_src = tidy_df[tidy_df.variable.isin([\n",
    "    'Rnet_9m_d',\n",
    "    'airdensity_3m_c',\n",
    "    'Tsurfvaporpressure_c',\n",
    "    'vaporpressure_3m_c',\n",
    "    'T_3m_c',\n",
    "    'spd_3m_c',\n",
    "    'P_10m_c'\n",
    "])].pivot_table(\n",
    "    index=['time'],\n",
    "    values='value',\n",
    "    columns='variable'\n",
    "# Calculate means across 30min periods, mins and maxes for the required variables too\n",
    ").reset_index()\n",
    "pyet_src.head(2)"
   ]
  },
  {
   "cell_type": "code",
   "execution_count": null,
   "metadata": {},
   "outputs": [],
   "source": [
    "# From PyET code\n",
    "# Equation for calculating the latent heat of vaporization from:\n",
    "# Richard G Allen, Luis S Pereira, Dirk Raes, Martin Smith, and others. Crop evapotranspiration-Guidelines for computing crop \n",
    "# water requirements-FAO Irrigation and drainage paper 56. Fao, Rome, 300(9):D05109, 1998.\n",
    "pyet_src['L_v estimated'] = 2.501 - 0.002361 * pyet_src['T_3m_c']"
   ]
  },
  {
   "cell_type": "markdown",
   "metadata": {},
   "source": [
    "### Define function"
   ]
  },
  {
   "cell_type": "code",
   "execution_count": null,
   "metadata": {},
   "outputs": [],
   "source": [
    "import pyet"
   ]
  },
  {
   "cell_type": "code",
   "execution_count": null,
   "metadata": {},
   "outputs": [],
   "source": [
    "def calc_delta_alduchov(t_in_c):\n",
    "# Taking the derivative of the Alduchov curve\n",
    "# returns in kPa\n",
    "    numerator = 37836.5*np.exp((22.587*t_in_c)/(273.86+t_in_c))\n",
    "    denominator = (t_in_c + 273.86)**2\n",
    "    # 0.1 to convert from millibars to kPa\n",
    "    return 0.1*numerator/denominator\n",
    "\n",
    "def calc_psychrometric_constant(C_p, P, L_v):\n",
    "    # C_p in MJ/kg/˚C\n",
    "    # P in kPa\n",
    "    # L_v in MJ/kg\n",
    "    # From wikipedia\n",
    "    # https://en.wikipedia.org/wiki/Psychrometric_constant#cite_note-1\n",
    "    # which cites this:\n",
    "    #  Allen, R.G.; Pereira, L.S.; Raes, D.; Smith, M. (1998). Crop Evapotranspiration—Guidelines for Computing Crop Water Requirements. \n",
    "    # FAO Irrigation and drainage paper 56. Rome, Italy: Food and Agriculture Organization of the United Nations. ISBN 92-5-104219-5. Retrieved 2007-10-08.\n",
    "    return C_p*P/(0.622 * L_v)"
   ]
  },
  {
   "cell_type": "code",
   "execution_count": null,
   "metadata": {},
   "outputs": [],
   "source": [
    "C_p = 1.013 * 10 ** -3  # MJ/kg/K\n",
    "\n",
    "def penman_monteith(\n",
    "    energy_available, # MJ/m^2/day\n",
    "    density_air, # kg/m^3\n",
    "    vapor_pressure_surface, # kPa\n",
    "    vapor_pressure_air, # kPa\n",
    "    temp_air, # ˚C\n",
    "    pressure, # kPa\n",
    "    wind_speed, # m/s\n",
    "    L_v\n",
    "):\n",
    "    A = energy_available\n",
    "    rho_a = density_air\n",
    "    e_s = vapor_pressure_surface\n",
    "    e_a = vapor_pressure_air\n",
    "    \n",
    "    # delta = pyet.calc_vpc(temp_air)\n",
    "    delta = calc_delta_alduchov(temp_air)\n",
    "    y = calc_psychrometric_constant(C_p, pressure, L_v)\n",
    "    r_a = pyet.calc_res_aero(wind_speed) # I should replace this with some better method for estimating atmospheric resistance - i.e. see Mahrt and Vickers, 2005, i.e. r_a = 1/(wind_speed * C_q)\n",
    "    r_s = 0\n",
    "\n",
    "    numerator = delta*A + rho_a*86400*C_p*(e_s - e_a)/r_a\n",
    "    denominator = delta + y*(1 + r_s / r_a)\n",
    "    return (1/L_v)*(numerator/denominator)"
   ]
  },
  {
   "cell_type": "markdown",
   "metadata": {},
   "source": [
    "### Do calculations"
   ]
  },
  {
   "cell_type": "code",
   "execution_count": null,
   "metadata": {},
   "outputs": [],
   "source": [
    "pyet_src['pm results'] = penman_monteith(\n",
    "    (pyet_src['Rnet_9m_d'].to_xarray() * units(\"W/m^2\")).pint.to(\"MJ/m^2/day\").values,\n",
    "    pyet_src['airdensity_3m_c'].values,\n",
    "    (pyet_src['Tsurfvaporpressure_c'].to_xarray() * units(\"Pa\")).pint.to(\"kPa\").values,\n",
    "    (pyet_src['vaporpressure_3m_c'].to_xarray() * units(\"Pa\")).pint.to(\"kPa\").values,\n",
    "    pyet_src['T_3m_c'].values,\n",
    "    (pyet_src['P_10m_c'].to_xarray() * units(\"millibars\")).pint.to(\"kPa\").values,\n",
    "    pyet_src['spd_3m_c'].values,\n",
    "    pyet_src['L_v estimated'].values\n",
    ")"
   ]
  },
  {
   "cell_type": "markdown",
   "metadata": {},
   "source": [
    "### Convert from mm/day to g/m^2/s"
   ]
  },
  {
   "cell_type": "code",
   "execution_count": null,
   "metadata": {},
   "outputs": [],
   "source": [
    "pyet_src['pm results'] = pyet_src['pm results']/(86.4)"
   ]
  },
  {
   "cell_type": "code",
   "execution_count": null,
   "metadata": {},
   "outputs": [],
   "source": [
    "pyet_src.set_index('time')['pm results'].plot(alpha=0.5)"
   ]
  },
  {
   "cell_type": "code",
   "execution_count": null,
   "metadata": {},
   "outputs": [],
   "source": [
    "pyet_src.set_index('time')['pm results'].cumsum().plot(alpha=0.5)"
   ]
  },
  {
   "cell_type": "markdown",
   "metadata": {},
   "source": [
    "### Add to tidy df"
   ]
  },
  {
   "cell_type": "markdown",
   "metadata": {},
   "source": [
    "Fill missing timestamps with NaNs"
   ]
  },
  {
   "cell_type": "code",
   "execution_count": null,
   "metadata": {},
   "outputs": [],
   "source": [
    "pm_values = tidy_df.query(\"variable == 'spd_3m_c'\").merge(\n",
    "    pyet_src[['time', 'pm results']],\n",
    "    on='time',\n",
    "    how='left'\n",
    ")['pm results'].values"
   ]
  },
  {
   "cell_type": "code",
   "execution_count": null,
   "metadata": {},
   "outputs": [],
   "source": [
    "tidy_df = tidy.tidy_df_add_variable(\n",
    "    tidy_df,\n",
    "    pm_values,\n",
    "    f'w_h2o__3m_c predicted (Penman Monteith)',\n",
    "    'w_h2o_',\n",
    "    3,\n",
    "    'c'\n",
    ")"
   ]
  },
  {
   "cell_type": "markdown",
   "metadata": {},
   "source": [
    "## MOST (my iterative solution, in most.py)"
   ]
  },
  {
   "cell_type": "markdown",
   "metadata": {},
   "source": [
    "Prepare the input data we need"
   ]
  },
  {
   "cell_type": "code",
   "execution_count": null,
   "metadata": {},
   "outputs": [],
   "source": [
    "# EXTRACT VARIABLES\n",
    "VARIABLES = [\n",
    "    ## Input Variables\n",
    "    'spd_3m_c',\n",
    "    'Tpot_3m_c',\n",
    "    'Tsurfpot_c',\n",
    "    'airdensity_3m_c',\n",
    "    'mixingratio_3m_c',\n",
    "    'Tsurfmixingratio_c',\n",
    "    'T_3m_c',\n",
    "    ## Measurement Variables\n",
    "    'w_h2o__3m_c',\n",
    "    'w_tc__3m_c',\n",
    "    'u*_3m_c',\n",
    "    'Ri_3m_c',\n",
    "]\n",
    "print([ v for v in tidy_df.variable.unique() if v in VARIABLES ])\n",
    "\n",
    "# CREATE WIDE DATAFRAME\n",
    "variables_df = tidy_df[tidy_df.variable.isin(VARIABLES)].pivot_table(\n",
    "    values = 'value',\n",
    "    index = 'time',\n",
    "    columns='variable'\n",
    ").reset_index()\n",
    "\n",
    "# MAKE CONVERSIONS\n",
    "# convert from ˚C to K\n",
    "variables_df['T_3m_c'] = variables_df['T_3m_c'] + 273.15\n",
    "variables_df['Tpot_3m_c'] = variables_df['Tpot_3m_c'] + 273.15\n",
    "variables_df['Tsurfpot_c'] = variables_df['Tsurfpot_c'] + 273.15\n",
    "# comes in units of g/g\n",
    "variables_df['specifichumidity_3m_c'] = specific_humidity_from_mixing_ratio(\n",
    "    xr.DataArray(variables_df['mixingratio_3m_c'])*units('g/g')\n",
    ").pint.to('g/kg').values\n",
    "# comes in units of g/g,  solution requires it in units of g/kg\n",
    "variables_df['specifichumidity_surface_c'] = specific_humidity_from_mixing_ratio(\n",
    "    xr.DataArray(variables_df['Tsurfmixingratio_c'])*units('g/g')\n",
    ").pint.to('g/kg').values\n",
    "\n",
    "\n",
    "\n",
    "# CREATE MEASUREMENT HEIGHT VARIABLES\n",
    "variables_df['measurement_height'] = 3"
   ]
  },
  {
   "cell_type": "code",
   "execution_count": null,
   "metadata": {},
   "outputs": [],
   "source": [
    "import sys\n",
    "sys.path.append('../paper1/')\n",
    "from most import MOST, StabilityFunctionBrutsaert1982\n",
    "\n",
    "most_config_dict = {\n",
    "    0.00001: MOST(StabilityFunctionBrutsaert1982(), snow_surface_roughness = 0.00001),\n",
    "    0.00005: MOST(StabilityFunctionBrutsaert1982(), snow_surface_roughness = 0.00005),\n",
    "    0.0001: MOST(StabilityFunctionBrutsaert1982(), snow_surface_roughness = 0.0001),\n",
    "    0.0005: MOST(StabilityFunctionBrutsaert1982(), snow_surface_roughness = 0.0005),\n",
    "    0.001: MOST(StabilityFunctionBrutsaert1982(), snow_surface_roughness = 0.001),\n",
    "    0.005: MOST(StabilityFunctionBrutsaert1982(), snow_surface_roughness = 0.005),\n",
    "}\n",
    "\n",
    "for z0, this_most in most_config_dict.items():\n",
    "    L_solutions, u_friction_solutions, H_solutions, E_solutions = this_most.solve(\n",
    "        variables_df['spd_3m_c'],\n",
    "        variables_df['Tpot_3m_c'],\n",
    "        variables_df['Tsurfpot_c'],\n",
    "        variables_df['airdensity_3m_c'],\n",
    "        variables_df['specifichumidity_3m_c'],\n",
    "        variables_df['specifichumidity_surface_c'],\n",
    "        variables_df['T_3m_c'],\n",
    "        variables_df['measurement_height']\n",
    "    )\n",
    "\n",
    "    variables_df[f'L_solution_z0_{str(z0)}'] = L_solutions\n",
    "    variables_df[f'u_friction_solution_z0_{str(z0)}'] = u_friction_solutions\n",
    "    variables_df[f'H_solution_z0_{str(z0)}'] = H_solutions\n",
    "    variables_df[f'E_solution_z0_{str(z0)}'] = E_solutions\n",
    "\n",
    "    # convert from W/m^2 to ˚C*m/s\n",
    "    variables_df[f'H_solution_z0_{str(z0)}'] = (variables_df[f'H_solution_z0_{str(z0)}']/(variables_df['airdensity_3m_c']*0.718*1000))"
   ]
  },
  {
   "cell_type": "markdown",
   "metadata": {},
   "source": [
    "Add nans for the model results where there are missing timesteps (As compared to the tidy dataset of measurements)"
   ]
  },
  {
   "cell_type": "code",
   "execution_count": null,
   "metadata": {},
   "outputs": [],
   "source": [
    "variables_df['time'] = pd.to_datetime(variables_df['time'])\n",
    "\n",
    "variables_df = pd.merge(\n",
    "    tidy_df.query(\"variable == 'w_h2o__3m_c'\")[['time']],\n",
    "    variables_df,\n",
    "    on='time',\n",
    "    how='outer'\n",
    ")"
   ]
  },
  {
   "cell_type": "markdown",
   "metadata": {},
   "source": [
    "### Add to tidy df"
   ]
  },
  {
   "cell_type": "code",
   "execution_count": null,
   "metadata": {},
   "outputs": [],
   "source": [
    "# OUR SOLUTIONS\n",
    "for z0 in most_config_dict.keys():\n",
    "    tidy_df = tidy.tidy_df_add_variable(\n",
    "        tidy_df,  \n",
    "        variables_df[f'L_solution_z0_{z0}'], \n",
    "        f'L predicted ({z0})',\n",
    "        'Obukhov length', \n",
    "        3,\n",
    "        'c'\n",
    "    )\n",
    "\n",
    "    tidy_df = tidy.tidy_df_add_variable(\n",
    "        tidy_df, \n",
    "        variables_df[f'u_friction_solution_z0_{z0}'], \n",
    "        f'u*_3m_c predicted ({z0})',\n",
    "        'shear velocity', \n",
    "        3,\n",
    "        'c'\n",
    "    )\n",
    "\n",
    "    tidy_df = tidy.tidy_df_add_variable(\n",
    "        tidy_df, \n",
    "        variables_df[f'H_solution_z0_{z0}'], \n",
    "        f'w_tc__3m_c predicted ({z0})',\n",
    "        'w_tc_', \n",
    "        3,\n",
    "        'c'\n",
    "    )\n",
    "\n",
    "    tidy_df = tidy.tidy_df_add_variable(\n",
    "        tidy_df, \n",
    "        variables_df[f'E_solution_z0_{z0}'], \n",
    "        f'w_h2o__3m_c predicted ({z0})',\n",
    "        'w_h2o_', \n",
    "        3,\n",
    "        'c'\n",
    "    )"
   ]
  },
  {
   "cell_type": "code",
   "execution_count": null,
   "metadata": {},
   "outputs": [],
   "source": [
    "src = tidy_df[tidy_df.measurement == 'w_h2o_'].pivot_table(\n",
    "    values = 'value',\n",
    "    index = 'time',\n",
    "    columns='variable'\n",
    ").reset_index()\n",
    "\n",
    "\n",
    "src['w_h2o__5m_c'].cumsum().plot(color='black', label='measured')\n",
    "for col in [c for c in src.columns if 'predicted' in c]:\n",
    "    src[col].cumsum().plot(label = f\"predicted, z0 == {col.split(' ')[-1][1:-1]}\")\n",
    "plt.ylim(-30,400)\n",
    "plt.legend()"
   ]
  },
  {
   "attachments": {},
   "cell_type": "markdown",
   "metadata": {},
   "source": [
    "# Save dataset"
   ]
  },
  {
   "cell_type": "code",
   "execution_count": null,
   "metadata": {},
   "outputs": [],
   "source": [
    "ls -lah | grep parquet"
   ]
  },
  {
   "cell_type": "code",
   "execution_count": null,
   "metadata": {},
   "outputs": [],
   "source": [
    "if PLANAR_FIT:    \n",
    "    tidy_df.to_parquet(f'tidy_df_{start_date}_{end_date}_planar_fit.parquet', index=False)\n",
    "else:\n",
    "    tidy_df.to_parquet(f'tidy_df_{start_date}_{end_date}_noplanar_fit.parquet', index=False)"
   ]
  },
  {
   "cell_type": "code",
   "execution_count": null,
   "metadata": {},
   "outputs": [],
   "source": [
    "ls -lah | grep parquet"
   ]
  }
 ],
 "metadata": {
  "kernelspec": {
   "display_name": "arm",
   "language": "python",
   "name": "python3"
  },
  "language_info": {
   "codemirror_mode": {
    "name": "ipython",
    "version": 3
   },
   "file_extension": ".py",
   "mimetype": "text/x-python",
   "name": "python",
   "nbconvert_exporter": "python",
   "pygments_lexer": "ipython3",
   "version": "3.12.1"
  },
  "orig_nbformat": 4
 },
 "nbformat": 4,
 "nbformat_minor": 2
}
