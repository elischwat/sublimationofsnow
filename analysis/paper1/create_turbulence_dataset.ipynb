{
 "cells": [
  {
   "cell_type": "markdown",
   "metadata": {},
   "source": [
    "Take the sos netcdfs, add a bunch of useful variables, save as a tidy dataset."
   ]
  },
  {
   "cell_type": "code",
   "execution_count": 1,
   "metadata": {},
   "outputs": [],
   "source": [
    "import numpy as np\n",
    "import xarray as xr\n",
    "import pandas as pd\n",
    "import datetime as dt\n",
    "import pytz\n",
    "\n",
    "from sublimpy import variables\n",
    "from sublimpy import utils\n",
    "from sublimpy import tidy\n",
    "\n",
    "import matplotlib.pyplot as plt\n",
    "\n",
    "import altair as alt\n",
    "alt.data_transformers.enable('json')\n",
    "\n",
    "\n",
    "from metpy.calc import brunt_vaisala_frequency\n",
    "from metpy.calc import specific_humidity_from_mixing_ratio\n",
    "from metpy.units import units\n",
    "import pint_pandas\n",
    "import pint_xarray\n",
    "import xarray as xr"
   ]
  },
  {
   "attachments": {},
   "cell_type": "markdown",
   "metadata": {},
   "source": [
    "# Inputs"
   ]
  },
  {
   "cell_type": "code",
   "execution_count": 2,
   "metadata": {},
   "outputs": [],
   "source": [
    "sos_download_dir='/storage/elilouis/sublimationofsnow/sosnoqc'\n",
    "DATE_FORMAT_STR = '%Y%m%d'\n",
    "# start_date = '20221201'\n",
    "# end_date = dt.datetime.strftime(dt.date.today() - dt.timedelta(days=1), DATE_FORMAT_STR)\n",
    "start_date = '20221130'\n",
    "end_date = '20230509'\n",
    "PLANAR_FIT = False\n",
    "\n",
    "datelist = pd.date_range(\n",
    "    dt.datetime.strptime(start_date, DATE_FORMAT_STR),\n",
    "    dt.datetime.strptime(end_date, DATE_FORMAT_STR),\n",
    "    freq='d'\n",
    ").strftime(DATE_FORMAT_STR).tolist()\n",
    "\n",
    "VARIABLE_NAMES = [\n",
    "    # Sonic Anemometer Data for 4 towers\n",
    "    'tc_1m_uw',     'spd_1m_uw',     'dir_1m_uw',     'u_1m_uw',   'v_1m_uw',   'w_1m_uw',   'u_u__1m_uw',    'v_v__1m_uw',    'w_w__1m_uw',    \n",
    "        'u_w__1m_uw',    'v_w__1m_uw',  'u_tc__1m_uw',  'v_tc__1m_uw',   'u_h2o__1m_uw',  'v_h2o__1m_uw',   'w_tc__1m_uw',   'w_h2o__1m_uw',\n",
    "    'tc_3m_uw',     'spd_3m_uw',     'dir_3m_uw',     'u_3m_uw',   'v_3m_uw',   'w_3m_uw',   'u_u__3m_uw',    'v_v__3m_uw',    'w_w__3m_uw',    \n",
    "        'u_w__3m_uw',    'v_w__3m_uw',  'u_tc__3m_uw',  'v_tc__3m_uw',   'u_h2o__3m_uw',  'v_h2o__3m_uw',   'w_tc__3m_uw',   'w_h2o__3m_uw',\n",
    "    'tc_10m_uw',    'spd_10m_uw',    'dir_10m_uw',    'u_10m_uw',  'v_10m_uw',  'w_10m_uw',  'u_u__10m_uw',   'v_v__10m_uw',   'w_w__10m_uw',   \n",
    "        'u_w__10m_uw',   'v_w__10m_uw', 'u_tc__10m_uw', 'v_tc__10m_uw',  'u_h2o__10m_uw', 'v_h2o__10m_uw',  'w_tc__10m_uw',  'w_h2o__10m_uw',\n",
    "\n",
    "    'tc_1m_ue',     'spd_1m_ue',     'dir_1m_ue',     'u_1m_ue',   'v_1m_ue',   'w_1m_ue',   'u_u__1m_ue',    'v_v__1m_ue',    'w_w__1m_ue',    \n",
    "        'u_w__1m_ue',    'v_w__1m_ue',  'u_tc__1m_ue',  'v_tc__1m_ue',   'u_h2o__1m_ue',  'v_h2o__1m_ue',   'w_tc__1m_ue',   'w_h2o__1m_ue',\n",
    "    'tc_3m_ue',     'spd_3m_ue',     'dir_3m_ue',     'u_3m_ue',   'v_3m_ue',   'w_3m_ue',   'u_u__3m_ue',    'v_v__3m_ue',    'w_w__3m_ue',    \n",
    "        'u_w__3m_ue',    'v_w__3m_ue',  'u_tc__3m_ue',  'v_tc__3m_ue',   'u_h2o__3m_ue',  'v_h2o__3m_ue',   'w_tc__3m_ue',   'w_h2o__3m_ue',\n",
    "    'tc_10m_ue',    'spd_10m_ue',    'dir_10m_ue',    'u_10m_ue',  'v_10m_ue',  'w_10m_ue',  'u_u__10m_ue',   'v_v__10m_ue',   'w_w__10m_ue',   \n",
    "        'u_w__10m_ue',   'v_w__10m_ue', 'u_tc__10m_ue', 'v_tc__10m_ue',  'u_h2o__10m_ue', 'v_h2o__10m_ue',  'w_tc__10m_ue',  'w_h2o__10m_ue',\n",
    "\n",
    "    'tc_1m_d',      'spd_1m_d',     'dir_1m_d',     'u_1m_d',   'v_1m_d',   'w_1m_d',   'u_u__1m_d',    'v_v__1m_d',    'w_w__1m_d',    \n",
    "        'u_w__1m_d',    'v_w__1m_d',  'u_tc__1m_d',  'v_tc__1m_d',   'u_h2o__1m_d',  'v_h2o__1m_d',   'w_tc__1m_d',   'w_h2o__1m_d',\n",
    "    'tc_3m_d',      'spd_3m_d',     'dir_3m_d',     'u_3m_d',   'v_3m_d',   'w_3m_d',   'u_u__3m_d',    'v_v__3m_d',    'w_w__3m_d',    \n",
    "        'u_w__3m_d',    'v_w__3m_d',  'u_tc__3m_d',  'v_tc__3m_d',   'u_h2o__3m_d',  'v_h2o__3m_d',   'w_tc__3m_d',   'w_h2o__3m_d',\n",
    "    'tc_10m_d',     'spd_10m_d',    'dir_10m_d',    'u_10m_d',  'v_10m_d',  'w_10m_d',  'u_u__10m_d',   'v_v__10m_d',   'w_w__10m_d',   \n",
    "        'u_w__10m_d',   'v_w__10m_d', 'u_tc__10m_d', 'v_tc__10m_d',  'u_h2o__10m_d', 'v_h2o__10m_d',  'w_tc__10m_d',  'w_h2o__10m_d',\n",
    "\n",
    "    'tc_2m_c',  'spd_2m_c',     'dir_2m_c',     'u_2m_c',   'v_2m_c',   'w_2m_c',   'u_u__2m_c',    'v_v__2m_c',    'w_w__2m_c',    \n",
    "        'u_w__2m_c',    'v_w__2m_c',  'u_tc__2m_c',  'v_tc__2m_c',   'u_h2o__2m_c',  'v_h2o__2m_c',   'w_tc__2m_c',   'w_h2o__2m_c',\n",
    "    'tc_3m_c',  'spd_3m_c',     'dir_3m_c',     'u_3m_c',   'v_3m_c',   'w_3m_c',   'u_u__3m_c',    'v_v__3m_c',    'w_w__3m_c',    \n",
    "        'u_w__3m_c',    'v_w__3m_c',  'u_tc__3m_c',  'v_tc__3m_c',   'u_h2o__3m_c',  'v_h2o__3m_c',   'w_tc__3m_c',   'w_h2o__3m_c',\n",
    "    'tc_5m_c',  'spd_5m_c',     'dir_5m_c',     'u_5m_c',   'v_5m_c',   'w_5m_c',   'u_u__5m_c',    'v_v__5m_c',    'w_w__5m_c',    \n",
    "        'u_w__5m_c',    'v_w__5m_c',  'u_tc__5m_c',  'v_tc__5m_c',   'u_h2o__5m_c',  'v_h2o__5m_c',   'w_tc__5m_c',   'w_h2o__5m_c',\n",
    "    'tc_10m_c', 'spd_10m_c',    'dir_10m_c',    'u_10m_c',  'v_10m_c',  'w_10m_c',  'u_u__10m_c',   'v_v__10m_c',   'w_w__10m_c',   \n",
    "        'u_w__10m_c',   'v_w__10m_c', 'u_tc__10m_c', 'v_tc__10m_c',  'u_h2o__10m_c', 'v_h2o__10m_c',  'w_tc__10m_c',  'w_h2o__10m_c',\n",
    "    'tc_15m_c', 'spd_15m_c',    'dir_15m_c',    'u_15m_c',  'v_15m_c',  'w_15m_c',  'u_u__15m_c',   'v_v__15m_c',   'w_w__15m_c',   \n",
    "        'u_w__15m_c',   'v_w__15m_c', 'u_tc__15m_c', 'v_tc__15m_c',  'u_h2o__15m_c', 'v_h2o__15m_c',  'w_tc__15m_c',  'w_h2o__15m_c',\n",
    "    'tc_20m_c', 'spd_20m_c',    'dir_20m_c',    'u_20m_c',  'v_20m_c',  'w_20m_c',  'u_u__20m_c',   'v_v__20m_c',   'w_w__20m_c',   \n",
    "        'u_w__20m_c',   'v_w__20m_c', 'u_tc__20m_c', 'v_tc__20m_c',  'u_h2o__20m_c', 'v_h2o__20m_c',  'w_tc__20m_c',  'w_h2o__20m_c',\n",
    "\n",
    "    \n",
    "    # Temperature & Relative Humidity Array \n",
    "    'T_2m_c', 'T_3m_c', 'T_4m_c', 'T_5m_c', 'T_6m_c', 'T_7m_c', 'T_8m_c', 'T_9m_c', 'T_10m_c',\n",
    "    'T_11m_c', 'T_12m_c', 'T_13m_c', 'T_14m_c', 'T_15m_c', 'T_16m_c', 'T_17m_c', 'T_18m_c', 'T_19m_c', 'T_20m_c',\n",
    "\n",
    "    'RH_2m_c', 'RH_3m_c', 'RH_4m_c', 'RH_5m_c', 'RH_6m_c', 'RH_7m_c', 'RH_8m_c', 'RH_9m_c', 'RH_10m_c',\n",
    "    'RH_11m_c','RH_12m_c','RH_13m_c','RH_14m_c','RH_15m_c','RH_16m_c','RH_17m_c','RH_18m_c','RH_19m_c','RH_20m_c',\n",
    "\n",
    "    # Pressure Sensors\n",
    "    'P_20m_c',\n",
    "    'P_10m_c', 'P_10m_d', 'P_10m_uw', 'P_10m_ue',\n",
    "\n",
    "    # Blowing snow/FlowCapt Sensors\n",
    "    'SF_avg_1m_ue', 'SF_avg_2m_ue',\n",
    "\n",
    "    # Apogee sensors\n",
    "    \"Vtherm_c\", \"Vtherm_d\", \"Vtherm_ue\", \"Vtherm_uw\", \n",
    "    \"Vpile_c\", \"Vpile_d\", \"Vpile_ue\", \"Vpile_uw\",\n",
    "    \"IDir_c\", \"IDir_d\", \"IDir_ue\", \"IDir_uw\",\n",
    "\n",
    "    # Snow-level temperature arrays (towers D and UW)\n",
    "    'Tsnow_0_4m_d', 'Tsnow_0_5m_d', 'Tsnow_0_6m_d', 'Tsnow_0_7m_d', 'Tsnow_0_8m_d', 'Tsnow_0_9m_d', 'Tsnow_1_0m_d', 'Tsnow_1_1m_d', 'Tsnow_1_2m_d', 'Tsnow_1_3m_d', 'Tsnow_1_4m_d', 'Tsnow_1_5mq_d',\n",
    "    'Tsnow_0_4m_uw', 'Tsnow_0_5m_uw', 'Tsnow_0_6m_uw', 'Tsnow_0_7m_uw', 'Tsnow_0_8m_uw', 'Tsnow_0_9m_uw', 'Tsnow_1_0m_uw', 'Tsnow_1_1m_uw', 'Tsnow_1_2m_uw', 'Tsnow_1_3m_uw', 'Tsnow_1_4m_uw', 'Tsnow_1_5m_uw',\n",
    "    \n",
    "    # Downward Facing Longwave Radiometer (tower D) - for measuring snow surface temperature\n",
    "    'Rpile_out_9m_d',\n",
    "    'Tcase_out_9m_d',    \n",
    "    # Upward Facing Longwave Radiometer (tower D)\n",
    "    'Rpile_in_9m_d',\n",
    "    'Tcase_in_9m_d',\n",
    "    # Downward Facing Longwave Radiometer (tower UW) - for measuring snow surface temperature\n",
    "    'Tcase_uw', 'Rpile_in_uw', 'Rpile_out_uw',\n",
    "    \n",
    "    # Upward facing shortwave radiometer (tower D) - for measuring incoming solar radiation!\n",
    "    'Rsw_in_9m_d',\n",
    "    'Rsw_out_9m_d',\n",
    "\n",
    "    # Snow Pillow SWE\n",
    "    'SWE_p1_c', 'SWE_p2_c', 'SWE_p3_c', 'SWE_p4_c',\n",
    "\n",
    "    # Soil Moisture\n",
    "    'Qsoil_d',\n",
    "\n",
    "    # Counts\n",
    "    'counts_15m_c',\n",
    "    'counts_15m_c_1',\n",
    "    'counts_15m_c_2',\n",
    "    'counts_10m_c',\n",
    "    'counts_10m_c_1',\n",
    "    'counts_10m_c_2',\n",
    "    'counts_2m_c',\n",
    "    'counts_2m_c_1',\n",
    "    'counts_2m_c_2',\n",
    "    'counts_1m_c',\n",
    "    'counts_1m_c_1',\n",
    "    'counts_1m_c_2',\n",
    "    'counts_20m_c',\n",
    "    'counts_20m_c_1',\n",
    "    'counts_20m_c_2',\n",
    "    'counts_3m_c',\n",
    "    'counts_3m_c_1',\n",
    "    'counts_3m_c_2',\n",
    "    'counts_5m_c',\n",
    "    'counts_5m_c_1',\n",
    "    'counts_5m_c_2',\n",
    "\n",
    "    'counts_1m_uw',\n",
    "    'counts_1m_uw_1',\n",
    "    'counts_1m_uw_2',\n",
    "    'counts_3m_uw',\n",
    "    'counts_3m_uw_1',\n",
    "    'counts_3m_uw_2',\n",
    "    'counts_10m_uw',\n",
    "    'counts_10m_uw_1',\n",
    "    'counts_10m_uw_2',\n",
    "    \n",
    "    'counts_1m_ue',\n",
    "    'counts_1m_ue_1',\n",
    "    'counts_1m_ue_2',\n",
    "    'counts_3m_ue',\n",
    "    'counts_3m_ue_1',\n",
    "    'counts_3m_ue_2',\n",
    "    'counts_10m_ue',\n",
    "    'counts_10m_ue_1',\n",
    "    'counts_10m_ue_2',\n",
    "    \n",
    "    'counts_1m_d',\n",
    "    'counts_1m_d_1',\n",
    "    'counts_1m_d_2',\n",
    "    'counts_3m_d',\n",
    "    'counts_3m_d_1',\n",
    "    'counts_3m_d_2',\n",
    "    'counts_10m_d',\n",
    "    'counts_10m_d_1',\n",
    "    'counts_10m_d_2',\n",
    "]"
   ]
  },
  {
   "attachments": {},
   "cell_type": "markdown",
   "metadata": {},
   "source": [
    "# Download and Clean SoS data"
   ]
  },
  {
   "cell_type": "code",
   "execution_count": null,
   "metadata": {},
   "outputs": [],
   "source": [
    "sos_ds = utils.download_sos_data(start_date, end_date, VARIABLE_NAMES, sos_download_dir, cache=True, planar_fit=False)"
   ]
  },
  {
   "cell_type": "code",
   "execution_count": 4,
   "metadata": {},
   "outputs": [],
   "source": [
    "example = xr.open_dataset(os.path.join(sos_download_dir, \"isfs_20230513.nc\"))\n",
    "example2 = xr.open_dataset(os.path.join(sos_download_dir, \"isfs_20230511.nc\"))"
   ]
  },
  {
   "attachments": {},
   "cell_type": "markdown",
   "metadata": {},
   "source": [
    "# Add Variables"
   ]
  },
  {
   "cell_type": "code",
   "execution_count": null,
   "metadata": {},
   "outputs": [],
   "source": [
    "sos_ds = variables.add_longwave_radiation(sos_ds)\n",
    "sos_ds = variables.add_surface_temps(sos_ds)\n",
    "sos_ds = variables.add_potential_virtual_temperatures(sos_ds)\n",
    "sos_ds = variables.add_surface_potential_virtual_temperatures(sos_ds)\n",
    "sos_ds = variables.add_tke(sos_ds)\n",
    "sos_ds = variables.add_gradients_and_ri(sos_ds)\n",
    "sos_ds = variables.add_obukhov_length(sos_ds)"
   ]
  },
  {
   "cell_type": "markdown",
   "metadata": {},
   "source": [
    "## Add decoupling metric, from Peltola et al. (2021)."
   ]
  },
  {
   "cell_type": "code",
   "execution_count": null,
   "metadata": {},
   "outputs": [],
   "source": [
    "def decoupling_metric(z, sigma_w, N):\n",
    "    \"\"\"Calculate the decoupling metric as described in Peltola et al (2021).\n",
    "\n",
    "    Peltola, O., Lapo, K., & Thomas, C. K. (2021). A Physics‐Based Universal Indicator for Vertical Decoupling and Mixing Across Canopies Architectures and Dynamic Stabilities. Geophysical Research Letters, 48(5), e2020GL091615. https://doi.org/10.1029/2020GL091615\n",
    "    \n",
    "    Args:\n",
    "        z (float): height of measurements \n",
    "        sigma_w (float): standarad deviation of w, vertical velocity\n",
    "        N (float): Brunt-Vaisala frequency\n",
    "    \"\"\"\n",
    "    # Brunt Vaisala frequency estimated using the bulk theta gradient\n",
    "    # N = np.sqrt(\n",
    "    #     g * (theta_e - theta_mean) / theta_mean\n",
    "    # )\n",
    "\n",
    "    Lb = sigma_w / N\n",
    "    omega = Lb / ( np.sqrt(2)*z )\n",
    "    return omega\n"
   ]
  },
  {
   "cell_type": "code",
   "execution_count": null,
   "metadata": {},
   "outputs": [],
   "source": [
    "sigma_w = np.sqrt(sos_ds['w_w__3m_c']).values\n",
    "pot_temps = sos_ds[[\n",
    "    'Tpot_2m_c', \n",
    "    'Tpot_3m_c', \n",
    "    'Tpot_4m_c', \n",
    "    'Tpot_5m_c', \n",
    "    'Tpot_6m_c'\n",
    "]].to_stacked_array(\n",
    "    'z', ['time']\n",
    ").values\n",
    "heights = np.full(pot_temps.shape,  [ 2,    3,    4,    5,    6])\n",
    "brunt_vaisala_values = [ Ns[1] for Ns in \n",
    "    brunt_vaisala_frequency( \n",
    "        heights * units(\"meters\"),\n",
    "        pot_temps * units(\"celsius\"), \n",
    "        vertical_dim=1\n",
    "    ).magnitude   \n",
    "]\n",
    "z = np.full(sigma_w.shape, 3)\n",
    "\n",
    "# decoupling_metric(z, sigma_w, N)\n",
    "print(len(z))\n",
    "print(len(sigma_w))\n",
    "print(len(brunt_vaisala_values))\n",
    "\n",
    "omegas = decoupling_metric(z, sigma_w, brunt_vaisala_values)\n",
    "sos_ds['omega_3m_c'] = (['time'],  omegas)\n",
    "print(len(omegas))"
   ]
  },
  {
   "attachments": {},
   "cell_type": "markdown",
   "metadata": {},
   "source": [
    "# Get Tidy Dataset"
   ]
  },
  {
   "cell_type": "code",
   "execution_count": null,
   "metadata": {},
   "outputs": [],
   "source": [
    "tidy_df = tidy.get_tidy_dataset(sos_ds, list(sos_ds.data_vars))"
   ]
  },
  {
   "cell_type": "code",
   "execution_count": null,
   "metadata": {},
   "outputs": [],
   "source": [
    "tidy_df = utils.modify_df_timezone(tidy_df, pytz.UTC, pytz.timezone('US/Mountain'))"
   ]
  },
  {
   "cell_type": "code",
   "execution_count": null,
   "metadata": {},
   "outputs": [],
   "source": [
    "assert len(tidy_df.query(\"variable == 'omega_3m_c'\")) > 0"
   ]
  },
  {
   "attachments": {},
   "cell_type": "markdown",
   "metadata": {},
   "source": [
    "Which variables did not get a \"measurement\" name assigned?"
   ]
  },
  {
   "cell_type": "code",
   "execution_count": null,
   "metadata": {},
   "outputs": [],
   "source": [
    "variables_with_no_measurement = tidy_df[tidy_df.measurement.apply(lambda x: x is None)].variable.unique()\n",
    "variables_with_no_measurement"
   ]
  },
  {
   "cell_type": "markdown",
   "metadata": {},
   "source": [
    "# Calculate additional new variables"
   ]
  },
  {
   "cell_type": "markdown",
   "metadata": {},
   "source": [
    "## Net LW and Net SW"
   ]
  },
  {
   "cell_type": "code",
   "execution_count": null,
   "metadata": {},
   "outputs": [],
   "source": [
    "## Add Net LW variable\n",
    "net_lw_radiation_values = (\n",
    "        tidy_df.query(\"variable == 'Rlw_in_9m_d'\")['value'].values\n",
    "        -\n",
    "        tidy_df.query(\"variable == 'Rlw_out_9m_d'\")['value'].values\n",
    "    )\n",
    "tidy_df = tidy.tidy_df_add_variable(\n",
    "    tidy_df,\n",
    "    net_lw_radiation_values,\n",
    "    'Rlw_net_9m_d',\n",
    "    'longwave net radiation',\n",
    "    9,\n",
    "    'd'\n",
    ")\n",
    "\n",
    "## Add Net SW variable\n",
    "net_sw_radiation_values = (\n",
    "        tidy_df.query(\"variable == 'Rsw_in_9m_d'\")['value'].values\n",
    "        -\n",
    "        tidy_df.query(\"variable == 'Rsw_out_9m_d'\")['value'].values\n",
    "    )\n",
    "tidy_df = tidy.tidy_df_add_variable(\n",
    "    tidy_df,\n",
    "    net_sw_radiation_values,\n",
    "    'Rsw_net_9m_d',\n",
    "    'shortwave net radiation',\n",
    "    9,\n",
    "    'd'\n",
    ")"
   ]
  },
  {
   "cell_type": "markdown",
   "metadata": {},
   "source": [
    "## Net Radiation"
   ]
  },
  {
   "cell_type": "code",
   "execution_count": null,
   "metadata": {},
   "outputs": [],
   "source": [
    "## Add Net Rad variable\n",
    "net_radiation_values = (\n",
    "    (\n",
    "        tidy_df.query(\"variable == 'Rsw_in_9m_d'\")['value'].values\n",
    "        +\n",
    "        tidy_df.query(\"variable == 'Rlw_in_9m_d'\")['value'].values\n",
    "    ) - (\n",
    "        tidy_df.query(\"variable == 'Rsw_out_9m_d'\")['value'].values\n",
    "        +\n",
    "        tidy_df.query(\"variable == 'Rlw_out_9m_d'\")['value'].values\n",
    "    )\n",
    ")\n",
    "tidy_df = tidy.tidy_df_add_variable(\n",
    "    tidy_df,\n",
    "    net_radiation_values,\n",
    "    'Rnet_9m_d',\n",
    "    'net radiation',\n",
    "    9,\n",
    "    'd'\n",
    ")"
   ]
  },
  {
   "cell_type": "markdown",
   "metadata": {},
   "source": [
    "## Specific humidity"
   ]
  },
  {
   "cell_type": "code",
   "execution_count": null,
   "metadata": {},
   "outputs": [],
   "source": [
    "for v in [\n",
    "    'Tsurfmixingratio_c',\n",
    "    'mixingratio_2m_c',\n",
    "    'mixingratio_3m_c',\n",
    "    'mixingratio_4m_c',\n",
    "    'mixingratio_5m_c',\n",
    "    'mixingratio_6m_c',\n",
    "    'mixingratio_7m_c',\n",
    "    'mixingratio_8m_c',\n",
    "    'mixingratio_9m_c',\n",
    "    'mixingratio_10m_c',\n",
    "    'mixingratio_11m_c',\n",
    "    'mixingratio_12m_c',\n",
    "    'mixingratio_13m_c',\n",
    "    'mixingratio_14m_c',\n",
    "    'mixingratio_15m_c',\n",
    "    'mixingratio_16m_c',\n",
    "    'mixingratio_17m_c',\n",
    "    'mixingratio_18m_c',\n",
    "    'mixingratio_19m_c',\n",
    "    'mixingratio_20m_c',\n",
    "]:\n",
    "    data = tidy_df[tidy_df.variable == v]\n",
    "    specific_humidity_values = specific_humidity_from_mixing_ratio(\n",
    "        xr.DataArray(data.value.values)*units('g/g')\n",
    "    ).values\n",
    "    tidy_df = tidy.tidy_df_add_variable(\n",
    "        tidy_df,\n",
    "        specific_humidity_values,\n",
    "        v.replace('mixingratio', 'specifichumidity'),\n",
    "        'specific humidity',\n",
    "        data.height.iloc[0],\n",
    "        data.tower.iloc[0]\n",
    "    )"
   ]
  },
  {
   "cell_type": "markdown",
   "metadata": {},
   "source": [
    "## Mixing ratio gradient"
   ]
  },
  {
   "cell_type": "code",
   "execution_count": null,
   "metadata": {},
   "outputs": [],
   "source": [
    "new_variable = (\n",
    "    tidy_df.query(\"variable == 'mixingratio_3m_c'\").value.values\n",
    "    - tidy_df.query(\"variable == 'Tsurfmixingratio_c'\").value.values\n",
    ") / 3\n",
    "\n",
    "tidy_df = tidy.tidy_df_add_variable(\n",
    "    tidy_df,\n",
    "    new_variable,\n",
    "    \"q_gradient_3m_c\",\n",
    "    \"mixing ratio gradient\",\n",
    "    3,\n",
    "    'c'\n",
    ")"
   ]
  },
  {
   "cell_type": "markdown",
   "metadata": {},
   "source": [
    "## Rotated momentum flux variables"
   ]
  },
  {
   "cell_type": "code",
   "execution_count": null,
   "metadata": {},
   "outputs": [],
   "source": [
    "tidy_df = tidy.tidy_df_add_variable(\n",
    "    tidy_df,\n",
    "    (\n",
    "        tidy_df.query(\"variable == 'u_w__3m_c'\")['value'].values**2 \n",
    "        + tidy_df.query(\"variable == 'v_w__3m_c'\")['value'].values**2\n",
    "    ),\n",
    "    'u_w_rot__3m_c',\n",
    "    'u_w_rot__',\n",
    "    3,\n",
    "    'c'\n",
    ")\n",
    "\n",
    "tidy_df = tidy.tidy_df_add_variable(\n",
    "    tidy_df,\n",
    "    (\n",
    "        tidy_df.query(\"variable == 'u_w__10m_c'\")['value'].values**2 \n",
    "        + tidy_df.query(\"variable == 'v_w__10m_c'\")['value'].values**2\n",
    "    ),\n",
    "    'u_w_rot__10m_c',\n",
    "    'u_w_rot__',\n",
    "    10,\n",
    "    'c'\n",
    ")\n",
    "\n",
    "tidy_df = tidy.tidy_df_add_variable(\n",
    "    tidy_df,\n",
    "    (\n",
    "        tidy_df.query(\"variable == 'u_w__20m_c'\")['value'].values**2 \n",
    "        + tidy_df.query(\"variable == 'v_w__20m_c'\")['value'].values**2\n",
    "    ),\n",
    "    'u_w_rot__20m_c',\n",
    "    'u_w_rot__',\n",
    "    20,\n",
    "    'c'\n",
    ")\n"
   ]
  },
  {
   "cell_type": "markdown",
   "metadata": {},
   "source": [
    "# Add Snow Depth and \"True Height\" variables"
   ]
  },
  {
   "cell_type": "markdown",
   "metadata": {},
   "source": [
    "Open snow depth data"
   ]
  },
  {
   "cell_type": "code",
   "execution_count": null,
   "metadata": {},
   "outputs": [],
   "source": [
    "lidar_snowdepth_da = xr.open_dataset(\"/storage/elilouis/sublimationofsnow/lidar_snow_depth/D_from_D_l6.nc\").resample(time = \"1440Min\").mean()['surface']\n",
    "lidar_snowdepth_da = lidar_snowdepth_da.interpolate_na('time')\n",
    "lidar_snowdepth_da = lidar_snowdepth_da.where(lidar_snowdepth_da > 0, 0)\n",
    "lidar_snowdepth_upsample_da = lidar_snowdepth_da.resample(time = '5Min', ).pad()\n",
    "lidar_snowdepth_upsample_da = lidar_snowdepth_upsample_da.assign_coords(time = pd.to_datetime(lidar_snowdepth_upsample_da.time) + dt.timedelta(minutes=2.5))\n",
    "\n",
    "lidar_snowdepth_da.plot()\n",
    "lidar_snowdepth_upsample_da.plot()"
   ]
  },
  {
   "cell_type": "code",
   "execution_count": null,
   "metadata": {},
   "outputs": [],
   "source": [
    "snowdepth_df = lidar_snowdepth_upsample_da.loc[\n",
    "    tidy_df.time.min():tidy_df.time.max()\n",
    "].to_dataframe()\n",
    "\n",
    "\n",
    "# Option 2: Add as a variable\n",
    "snowdepth_df = snowdepth_df.reset_index()\n",
    "snowdepth_df = snowdepth_df[snowdepth_df.time.isin(tidy_df.time.unique())]\n",
    "snowdepth_df"
   ]
  },
  {
   "cell_type": "code",
   "execution_count": null,
   "metadata": {},
   "outputs": [],
   "source": [
    "len(tidy_df.time.unique())"
   ]
  },
  {
   "cell_type": "code",
   "execution_count": null,
   "metadata": {},
   "outputs": [],
   "source": [
    "tidy_df = tidy.tidy_df_add_variable(\n",
    "    tidy_df,\n",
    "    snowdepth_df.surface.values,\n",
    "    'SnowDepth_d',\n",
    "    'snow depth',\n",
    "    10,\n",
    "    'd'\n",
    ")\n"
   ]
  },
  {
   "attachments": {},
   "cell_type": "markdown",
   "metadata": {},
   "source": [
    "# Calculate 30 Minute averages"
   ]
  },
  {
   "cell_type": "code",
   "execution_count": null,
   "metadata": {},
   "outputs": [],
   "source": [
    "tidy_df_30Min = pd.DataFrame(\n",
    "    tidy_df.set_index('time').groupby(\n",
    "        ['measurement', 'variable', 'height',  'tower']\n",
    "    )['value'].resample('30Min').mean()\n",
    ").reset_index()"
   ]
  },
  {
   "cell_type": "markdown",
   "metadata": {},
   "source": [
    "# Calculate Penman-Monteith and Priestley-Taylor estimates of sublimation"
   ]
  },
  {
   "cell_type": "markdown",
   "metadata": {},
   "source": [
    "### Gather the data we need"
   ]
  },
  {
   "cell_type": "code",
   "execution_count": null,
   "metadata": {},
   "outputs": [],
   "source": [
    "pyet_src = tidy_df_30Min[tidy_df_30Min.variable.isin([\n",
    "    'Rnet_9m_d',\n",
    "    'airdensity_3m_c',\n",
    "    'Tsurfvaporpressure_c',\n",
    "    'vaporpressure_3m_c',\n",
    "    'T_3m_c',\n",
    "    'spd_3m_c',\n",
    "    'P_10m_c'\n",
    "])].pivot_table(\n",
    "    index=['time'],\n",
    "    values='value',\n",
    "    columns='variable'\n",
    "# Calculate means across 30min periods, mins and maxes for the required variables too\n",
    ").reset_index()\n",
    "pyet_src.head(2)"
   ]
  },
  {
   "cell_type": "code",
   "execution_count": null,
   "metadata": {},
   "outputs": [],
   "source": [
    "# From PyET code\n",
    "# Equation for calculating the latent heat of vaporization from:\n",
    "# Richard G Allen, Luis S Pereira, Dirk Raes, Martin Smith, and others. Crop evapotranspiration-Guidelines for computing crop \n",
    "# water requirements-FAO Irrigation and drainage paper 56. Fao, Rome, 300(9):D05109, 1998.\n",
    "pyet_src['L_v estimated'] = 2.501 - 0.002361 * pyet_src['T_3m_c']"
   ]
  },
  {
   "cell_type": "markdown",
   "metadata": {},
   "source": [
    "### Define function"
   ]
  },
  {
   "cell_type": "code",
   "execution_count": null,
   "metadata": {},
   "outputs": [],
   "source": [
    "import pyet"
   ]
  },
  {
   "cell_type": "code",
   "execution_count": null,
   "metadata": {},
   "outputs": [],
   "source": [
    "def calc_delta_alduchov(t_in_c):\n",
    "# Taking the derivative of the Alduchov curve\n",
    "# returns in kPa\n",
    "    numerator = 37836.5*np.exp((22.587*t_in_c)/(273.86+t_in_c))\n",
    "    denominator = (t_in_c + 273.86)**2\n",
    "    # 0.1 to convert from millibars to kPa\n",
    "    return 0.1*numerator/denominator\n",
    "\n",
    "def calc_psychrometric_constant(C_p, P, L_v):\n",
    "    # C_p in MJ/kg/˚C\n",
    "    # P in kPa\n",
    "    # L_v in MJ/kg\n",
    "    # From wikipedia\n",
    "    # https://en.wikipedia.org/wiki/Psychrometric_constant#cite_note-1\n",
    "    # which cites this:\n",
    "    #  Allen, R.G.; Pereira, L.S.; Raes, D.; Smith, M. (1998). Crop Evapotranspiration—Guidelines for Computing Crop Water Requirements. \n",
    "    # FAO Irrigation and drainage paper 56. Rome, Italy: Food and Agriculture Organization of the United Nations. ISBN 92-5-104219-5. Retrieved 2007-10-08.\n",
    "    return C_p*P/(0.622 * L_v)"
   ]
  },
  {
   "cell_type": "code",
   "execution_count": null,
   "metadata": {},
   "outputs": [],
   "source": [
    "C_p = 1.013 * 10 ** -3  # MJ/kg/K\n",
    "\n",
    "def penman_monteith(\n",
    "    energy_available, # MJ/m^2/day\n",
    "    density_air, # kg/m^3\n",
    "    vapor_pressure_surface, # kPa\n",
    "    vapor_pressure_air, # kPa\n",
    "    temp_air, # ˚C\n",
    "    pressure, # kPa\n",
    "    wind_speed, # m/s\n",
    "    L_v\n",
    "):\n",
    "    A = energy_available\n",
    "    rho_a = density_air\n",
    "    e_s = vapor_pressure_surface\n",
    "    e_a = vapor_pressure_air\n",
    "    \n",
    "    # delta = pyet.calc_vpc(temp_air)\n",
    "    delta = calc_delta_alduchov(temp_air)\n",
    "    y = calc_psychrometric_constant(C_p, pressure, L_v)\n",
    "    r_a = pyet.calc_res_aero(wind_speed) # I should replace this with some better method for estimating atmospheric resistance - i.e. see Mahrt and Vickers, 2005, i.e. r_a = 1/(wind_speed * C_q)\n",
    "    r_s = 0\n",
    "\n",
    "    numerator = delta*A + rho_a*86400*C_p*(e_s - e_a)/r_a\n",
    "    denominator = delta + y*(1 + r_s / r_a)\n",
    "    return (1/L_v)*(numerator/denominator)"
   ]
  },
  {
   "cell_type": "markdown",
   "metadata": {},
   "source": [
    "### Do calculations"
   ]
  },
  {
   "cell_type": "code",
   "execution_count": null,
   "metadata": {},
   "outputs": [],
   "source": [
    "pyet_src['pm results'] = penman_monteith(\n",
    "    (pyet_src['Rnet_9m_d'].to_xarray() * units(\"W/m^2\")).pint.to(\"MJ/m^2/day\").values,\n",
    "    pyet_src['airdensity_3m_c'].values,\n",
    "    (pyet_src['Tsurfvaporpressure_c'].to_xarray() * units(\"Pa\")).pint.to(\"kPa\").values,\n",
    "    (pyet_src['vaporpressure_3m_c'].to_xarray() * units(\"Pa\")).pint.to(\"kPa\").values,\n",
    "    pyet_src['T_3m_c'].values,\n",
    "    (pyet_src['P_10m_c'].to_xarray() * units(\"millibars\")).pint.to(\"kPa\").values,\n",
    "    pyet_src['spd_3m_c'].values,\n",
    "    pyet_src['L_v estimated'].values\n",
    ")"
   ]
  },
  {
   "cell_type": "markdown",
   "metadata": {},
   "source": [
    "## Convert from mm/day to g/m^2/s"
   ]
  },
  {
   "cell_type": "code",
   "execution_count": null,
   "metadata": {},
   "outputs": [],
   "source": [
    "pyet_src['pm results'] = pyet_src['pm results']/(86.4)"
   ]
  },
  {
   "cell_type": "code",
   "execution_count": null,
   "metadata": {},
   "outputs": [],
   "source": [
    "pyet_src.set_index('time')['pm results'].plot(alpha=0.5)"
   ]
  },
  {
   "cell_type": "code",
   "execution_count": null,
   "metadata": {},
   "outputs": [],
   "source": [
    "pyet_src.set_index('time')['pm results'].cumsum().plot(alpha=0.5)"
   ]
  },
  {
   "cell_type": "markdown",
   "metadata": {},
   "source": [
    "## Add to tidy df"
   ]
  },
  {
   "cell_type": "markdown",
   "metadata": {},
   "source": [
    "Fill missing timestamps with NaNs"
   ]
  },
  {
   "cell_type": "code",
   "execution_count": null,
   "metadata": {},
   "outputs": [],
   "source": [
    "pm_values = tidy_df_30Min.query(\"variable == 'spd_3m_c'\").merge(\n",
    "    pyet_src[['time', 'pm results']],\n",
    "    on='time',\n",
    "    how='left'\n",
    ")['pm results'].values"
   ]
  },
  {
   "cell_type": "code",
   "execution_count": null,
   "metadata": {},
   "outputs": [],
   "source": [
    "tidy_df_30Min = tidy.tidy_df_add_variable(\n",
    "    tidy_df_30Min,\n",
    "    pm_values,\n",
    "    f'w_h2o__3m_c predicted (Penman Monteith)',\n",
    "    'w_h2o_',\n",
    "    3,\n",
    "    'c'\n",
    ")"
   ]
  },
  {
   "cell_type": "markdown",
   "metadata": {},
   "source": [
    "# Calculate turbulent fluxes with MOST (my iterative solution using the MOST class)"
   ]
  },
  {
   "cell_type": "markdown",
   "metadata": {},
   "source": [
    "Prepare the input data we need"
   ]
  },
  {
   "cell_type": "code",
   "execution_count": null,
   "metadata": {},
   "outputs": [],
   "source": [
    "# EXTRACT VARIABLES\n",
    "VARIABLES = [\n",
    "    ## Input Variables\n",
    "    'spd_3m_c',\n",
    "    'Tpot_3m_c',\n",
    "    'Tsurfpot_c',\n",
    "    'airdensity_3m_c',\n",
    "    'mixingratio_3m_c',\n",
    "    'Tsurfmixingratio_c',\n",
    "    'T_3m_c',\n",
    "    ## Measurement Variables\n",
    "    'w_h2o__3m_c',\n",
    "    'w_tc__3m_c',\n",
    "    'u*_3m_c',\n",
    "    'Ri_3m_c',\n",
    "]\n",
    "print([ v for v in tidy_df_30Min.variable.unique() if v in VARIABLES ])\n",
    "\n",
    "# CREATE WIDE DATAFRAME\n",
    "variables_df = tidy_df_30Min[tidy_df_30Min.variable.isin(VARIABLES)].pivot_table(\n",
    "    values = 'value',\n",
    "    index = 'time',\n",
    "    columns='variable'\n",
    ").reset_index()\n",
    "\n",
    "# MAKE CONVERSIONS\n",
    "# convert from ˚C to K\n",
    "variables_df['T_3m_c'] = variables_df['T_3m_c'] + 273.15\n",
    "variables_df['Tpot_3m_c'] = variables_df['Tpot_3m_c'] + 273.15\n",
    "variables_df['Tsurfpot_c'] = variables_df['Tsurfpot_c'] + 273.15\n",
    "# comes in units of g/g\n",
    "variables_df['specifichumidity_3m_c'] = specific_humidity_from_mixing_ratio(\n",
    "    xr.DataArray(variables_df['mixingratio_3m_c'])*units('g/g')\n",
    ").pint.to('g/kg').values\n",
    "# comes in units of g/g,  solution requires it in units of g/kg\n",
    "variables_df['specifichumidity_surface_c'] = specific_humidity_from_mixing_ratio(\n",
    "    xr.DataArray(variables_df['Tsurfmixingratio_c'])*units('g/g')\n",
    ").pint.to('g/kg').values\n",
    "\n",
    "# CREATE MEASUREMENT HEIGHT VARIABLES\n",
    "variables_df['measurement_height'] = 3"
   ]
  },
  {
   "cell_type": "code",
   "execution_count": null,
   "metadata": {},
   "outputs": [],
   "source": [
    "import sys\n",
    "sys.path.append('../paper1/')\n",
    "from most import MOST, StabilityFunctionBrutsaert1982\n",
    "\n",
    "most_config_dict = {\n",
    "    0.00001: MOST(StabilityFunctionBrutsaert1982(), snow_surface_roughness = 0.00001),\n",
    "    0.00005: MOST(StabilityFunctionBrutsaert1982(), snow_surface_roughness = 0.00005),\n",
    "    0.0001: MOST(StabilityFunctionBrutsaert1982(), snow_surface_roughness = 0.0001),\n",
    "    0.0005: MOST(StabilityFunctionBrutsaert1982(), snow_surface_roughness = 0.0005),\n",
    "    0.001: MOST(StabilityFunctionBrutsaert1982(), snow_surface_roughness = 0.001),\n",
    "    0.005: MOST(StabilityFunctionBrutsaert1982(), snow_surface_roughness = 0.005),\n",
    "}\n",
    "\n",
    "for z0, this_most in most_config_dict.items():\n",
    "    L_solutions, u_friction_solutions, H_solutions, E_solutions = this_most.solve(\n",
    "        variables_df['spd_3m_c'],\n",
    "        variables_df['Tpot_3m_c'],\n",
    "        variables_df['Tsurfpot_c'],\n",
    "        variables_df['airdensity_3m_c'],\n",
    "        variables_df['specifichumidity_3m_c'],\n",
    "        variables_df['specifichumidity_surface_c'],\n",
    "        variables_df['T_3m_c'],\n",
    "        variables_df['measurement_height']\n",
    "    )\n",
    "\n",
    "    variables_df[f'L_solution_z0_{str(z0)}'] = L_solutions\n",
    "    variables_df[f'u_friction_solution_z0_{str(z0)}'] = u_friction_solutions\n",
    "    variables_df[f'H_solution_z0_{str(z0)}'] = H_solutions\n",
    "    variables_df[f'E_solution_z0_{str(z0)}'] = E_solutions\n",
    "\n",
    "    # convert from W/m^2 to ˚C*m/s\n",
    "    variables_df[f'H_solution_z0_{str(z0)}'] = (variables_df[f'H_solution_z0_{str(z0)}']/(variables_df['airdensity_3m_c']*0.718*1000))"
   ]
  },
  {
   "cell_type": "markdown",
   "metadata": {},
   "source": [
    "Add nans for the model results where there are missing timesteps (As compared to the tidy dataset of measurements)"
   ]
  },
  {
   "cell_type": "code",
   "execution_count": null,
   "metadata": {},
   "outputs": [],
   "source": [
    "variables_df['time'] = pd.to_datetime(variables_df['time'])\n",
    "\n",
    "variables_df = pd.merge(\n",
    "    tidy_df_30Min.query(\"variable == 'w_h2o__3m_c'\")[['time']],\n",
    "    variables_df,\n",
    "    on='time',\n",
    "    how='outer'\n",
    ")"
   ]
  },
  {
   "cell_type": "markdown",
   "metadata": {},
   "source": [
    "# Add solutions to the tidy dataset"
   ]
  },
  {
   "cell_type": "code",
   "execution_count": null,
   "metadata": {},
   "outputs": [],
   "source": [
    "# OUR SOLUTIONS\n",
    "for z0 in most_config_dict.keys():\n",
    "    tidy_df_30Min = tidy.tidy_df_add_variable(\n",
    "        tidy_df_30Min,  \n",
    "        variables_df[f'L_solution_z0_{z0}'], \n",
    "        f'L predicted ({z0})',\n",
    "        'Obukhov length', \n",
    "        3,\n",
    "        'c'\n",
    "    )\n",
    "\n",
    "    tidy_df_30Min = tidy.tidy_df_add_variable(\n",
    "        tidy_df_30Min, \n",
    "        variables_df[f'u_friction_solution_z0_{z0}'], \n",
    "        f'u*_3m_c predicted ({z0})',\n",
    "        'shear velocity', \n",
    "        3,\n",
    "        'c'\n",
    "    )\n",
    "\n",
    "    tidy_df_30Min = tidy.tidy_df_add_variable(\n",
    "        tidy_df_30Min, \n",
    "        variables_df[f'H_solution_z0_{z0}'], \n",
    "        f'w_tc__3m_c predicted ({z0})',\n",
    "        'w_tc_', \n",
    "        3,\n",
    "        'c'\n",
    "    )\n",
    "\n",
    "    tidy_df_30Min = tidy.tidy_df_add_variable(\n",
    "        tidy_df_30Min, \n",
    "        variables_df[f'E_solution_z0_{z0}'], \n",
    "        f'w_h2o__3m_c predicted ({z0})',\n",
    "        'w_h2o_', \n",
    "        3,\n",
    "        'c'\n",
    "    )"
   ]
  },
  {
   "cell_type": "code",
   "execution_count": null,
   "metadata": {},
   "outputs": [],
   "source": [
    "src = tidy_df_30Min[tidy_df_30Min.measurement == 'w_h2o_'].pivot_table(\n",
    "    values = 'value',\n",
    "    index = 'time',\n",
    "    columns='variable'\n",
    ").reset_index()\n",
    "\n",
    "\n",
    "src['w_h2o__5m_c'].cumsum().plot(color='black', label='measured')\n",
    "for col in [c for c in src.columns if 'predicted' in c]:\n",
    "    src[col].cumsum().plot(label = f\"predicted, z0 == {col.split(' ')[-1][1:-1]}\")\n",
    "plt.ylim(-30,100)\n",
    "plt.legend()"
   ]
  },
  {
   "attachments": {},
   "cell_type": "markdown",
   "metadata": {},
   "source": [
    "# Save dataset"
   ]
  },
  {
   "cell_type": "code",
   "execution_count": null,
   "metadata": {},
   "outputs": [],
   "source": [
    "ls -lah | grep parquet"
   ]
  },
  {
   "cell_type": "code",
   "execution_count": null,
   "metadata": {},
   "outputs": [],
   "source": [
    "if PLANAR_FIT:\n",
    "    tidy_df_30Min.to_parquet(f'tidy_df_30Min_{start_date}_{end_date}_planar_fit.parquet', index=False)\n",
    "    tidy_df.to_parquet(f'tidy_df_{start_date}_{end_date}_planar_fit.parquet', index=False)\n",
    "else:\n",
    "    tidy_df_30Min.to_parquet(f'tidy_df_30Min_{start_date}_{end_date}_noplanar_fit.parquet', index=False)\n",
    "    tidy_df.to_parquet(f'tidy_df_{start_date}_{end_date}_noplanar_fit.parquet', index=False)"
   ]
  },
  {
   "cell_type": "code",
   "execution_count": null,
   "metadata": {},
   "outputs": [],
   "source": [
    "ls -lah | grep parquet"
   ]
  }
 ],
 "metadata": {
  "kernelspec": {
   "display_name": "arm",
   "language": "python",
   "name": "python3"
  },
  "language_info": {
   "codemirror_mode": {
    "name": "ipython",
    "version": 3
   },
   "file_extension": ".py",
   "mimetype": "text/x-python",
   "name": "python",
   "nbconvert_exporter": "python",
   "pygments_lexer": "ipython3",
   "version": "3.12.1"
  },
  "orig_nbformat": 4
 },
 "nbformat": 4,
 "nbformat_minor": 2
}
