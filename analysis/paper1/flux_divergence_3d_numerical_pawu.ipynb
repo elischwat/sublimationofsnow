{
 "cells": [
  {
   "cell_type": "markdown",
   "metadata": {},
   "source": [
    "# Improvements to make:\n",
    "\n",
    "1. Calculate terms in the continuity equation.\n",
    "2. Look at some numbers from NON snow dates - don't need to worry about instrument height.\n",
    "3. Duplicate/interpolate density (and mixing ratio) measurements across the towers in a more sophisticated way (currently using ground-relative height, should be using snow-surface-relative height).\n",
    "4. Looking at moisture/water vapor data at downvalley sites - KPS annex site? Brush Creek\n",
    "\n",
    "T should be in kelvin"
   ]
  },
  {
   "cell_type": "code",
   "execution_count": null,
   "metadata": {},
   "outputs": [],
   "source": [
    "import numpy as np\n",
    "import pandas as pd\n",
    "import xarray as xr\n",
    "import matplotlib.pyplot as plt\n",
    "import altair as alt\n",
    "alt.data_transformers.enable('json')\n",
    "alt.renderers.enable('jupyterlab')\n",
    "from sublimpy import tidy, utils\n",
    "import pytz\n",
    "import datetime as dt\n",
    "\n",
    "seconds_in_timestep = 60*30\n",
    "from metpy.constants import density_water\n",
    "\n",
    "from metpy.units import units\n",
    "import pint_pandas\n",
    "from metpy import constants\n",
    "from scipy import interpolate\n",
    "np.set_printoptions(suppress=True,precision=10)"
   ]
  },
  {
   "cell_type": "markdown",
   "metadata": {},
   "source": [
    "# Parameters for calculations"
   ]
  },
  {
   "cell_type": "code",
   "execution_count": null,
   "metadata": {},
   "outputs": [],
   "source": [
    "HEIGHTS = [1,3,10]\n",
    "HORIZ_GRID_SPACING = 50\n",
    "VERT_GRID_SPACING = 20\n",
    "start_date = '20221130'\n",
    "end_date = '20230509'\n",
    "# start_date = '20221101'\n",
    "# end_date = '20230619'\n",
    "\n",
    "data_cutoff_date = '20230508'\n",
    "# data_cutoff_date = '20230619'\n",
    "\n",
    "    # streamwise-coords\n",
    "# tidy_df = pd.read_parquet(f\"tidy_df_{start_date}_{end_date}_planar_fit_multiplane.parquet\")\n",
    "    # slope-adjusted earthwise-coords\n",
    "tidy_df = pd.read_parquet(f\"tidy_df_{start_date}_{end_date}_planar_fit.parquet\")\n",
    "    # sonic coords\n",
    "# tidy_df = pd.read_parquet(f\"tidy_df_{start_date}_{end_date}_noplanar_fit.parquet\")\n",
    "\n",
    "# method_numerical_advection = 'wind_divergence'      # q * d/dx_i (u_i)\n",
    "# method_numerical_advection = 'scalar_divergence'    # u_i * d/dx_i (q)\n",
    "# method_numerical_advection = 'summed'               # q * d/dx_i (u_i) + u_i * d/dx_i (q)\n",
    "# method_numerical_advection = 'derivative'           # d/dx_i (q * u_i)"
   ]
  },
  {
   "cell_type": "code",
   "execution_count": null,
   "metadata": {},
   "outputs": [],
   "source": [
    "def daily_w_cycle(src, title, ylim):\n",
    "    return alt.Chart(\n",
    "        src[src.variable.isin([\n",
    "            'w_2m_c', 'w_3m_c', 'w_5m_c', 'w_10m_c', 'w_15m_c', 'w_20m_c',\n",
    "            'w_3m_ue','w_10m_ue',\n",
    "            'w_3m_uw','w_10m_uw',\n",
    "            'w_3m_d','w_10m_d',\n",
    "        ])]\n",
    "    ).mark_line().encode(\n",
    "        alt.X('hoursminutes(time):T'),\n",
    "        alt.Y('median(value):Q').title('Wind speed (m/s)').scale(domain=ylim),\n",
    "        alt.Color('height:O').scale(scheme='sinebow'),\n",
    "        alt.StrokeDash('tower:N'),\n",
    "        tooltip='variable',\n",
    "    ).properties(width = 200, height = 200, title=title)\n",
    "\n",
    "(\n",
    "\n",
    "    daily_w_cycle(\n",
    "        pd.read_parquet(f\"tidy_df_{start_date}_{end_date}_planar_fit.parquet\"),\n",
    "        'SRLEC',\n",
    "        ylim=[-0.10, 0.05]\n",
    "    ) | daily_w_cycle(\n",
    "        pd.read_parquet(f\"tidy_df_{start_date}_{end_date}_noplanar_fit.parquet\"),\n",
    "        'Geographic',\n",
    "        ylim=[-0.10, 0.05]\n",
    "    ) | \n",
    "    daily_w_cycle(\n",
    "        pd.read_parquet(f\"tidy_df_{start_date}_{end_date}_planar_fit_multiplane.parquet\"),\n",
    "        'Streamwise',\n",
    "        ylim=[-0.10, 0.05]\n",
    "    )\n",
    ").properties(title='Vertical wind speed, different coordinate systems').display(renderer='svg')"
   ]
  },
  {
   "cell_type": "code",
   "execution_count": 63,
   "metadata": {},
   "outputs": [
    {
     "data": {
      "application/vnd.vegalite.v5+json": {
       "$schema": "https://vega.github.io/schema/vega-lite/v5.17.0.json",
       "config": {
        "view": {
         "continuousHeight": 300,
         "continuousWidth": 300
        }
       },
       "data": {
        "format": {
         "type": "json"
        },
        "url": "altair-data-bbfe3c8dfdc1de36be1d2f70ba3132f7.json"
       },
       "encoding": {
        "color": {
         "field": "tower",
         "type": "nominal"
        },
        "facet": {
         "columns": 3,
         "field": "height",
         "type": "ordinal"
        },
        "tooltip": {
         "field": "variable",
         "type": "nominal"
        },
        "x": {
         "field": "time",
         "timeUnit": "hoursminutes",
         "type": "temporal"
        },
        "y": {
         "aggregate": "mean",
         "field": "rolling_avg",
         "scale": {
          "domain": [
           -0.02,
           0.02
          ]
         },
         "title": "Wind speed (m/s)",
         "type": "quantitative"
        }
       },
       "height": 100,
       "mark": {
        "type": "line"
       },
       "title": "Streamwise",
       "transform": [
        {
         "frame": [
          -2,
          2
         ],
         "groupby": [
          "height",
          "tower",
          "variable"
         ],
         "window": [
          {
           "as": "rolling_avg",
           "field": "value",
           "op": "mean"
          }
         ]
        }
       ],
       "width": 100
      },
      "text/plain": [
       "<VegaLite 5 object>\n",
       "\n",
       "If you see this message, it means the renderer has not been properly enabled\n",
       "for the frontend that you are using. For more information, see\n",
       "https://altair-viz.github.io/user_guide/display_frontends.html#troubleshooting\n"
      ]
     },
     "metadata": {
      "application/vnd.vegalite.v5+json": {
       "embed_options": {
        "renderer": "svg"
       }
      }
     },
     "output_type": "display_data"
    }
   ],
   "source": [
    "src = pd.read_parquet(f\"tidy_df_{start_date}_{end_date}_planar_fit_multiplane.parquet\")\n",
    "src = utils.modify_df_timezone(src, 'UTC', 'US/Mountain')\n",
    "alt.Chart(\n",
    "        src[src.variable.isin([\n",
    "            'w_2m_c', 'w_3m_c', 'w_5m_c', 'w_10m_c', 'w_15m_c', 'w_20m_c',\n",
    "            'w_3m_ue','w_10m_ue',\n",
    "            'w_3m_uw','w_10m_uw',\n",
    "            'w_3m_d','w_10m_d',\n",
    "        ])]\n",
    "    ).transform_window(\n",
    "        rolling_avg = \"mean(value)\",\n",
    "        frame=[-2,2],\n",
    "        groupby=['height', 'tower', 'variable']\n",
    "    ).mark_line().encode(\n",
    "        alt.X('hoursminutes(time):T'),\n",
    "        alt.Y('mean(rolling_avg):Q').title('Wind speed (m/s)').scale(domain=[-0.02, 0.02]),\n",
    "        alt.Color('tower:N'),\n",
    "        alt.Facet('height:O', columns=3),\n",
    "        tooltip='variable',\n",
    "    ).properties(width = 100, height = 100, title=    'Streamwise',).display(renderer='svg')"
   ]
  },
  {
   "cell_type": "code",
   "execution_count": 65,
   "metadata": {},
   "outputs": [
    {
     "data": {
      "application/vnd.vegalite.v5+json": {
       "$schema": "https://vega.github.io/schema/vega-lite/v5.17.0.json",
       "config": {
        "view": {
         "continuousHeight": 300,
         "continuousWidth": 300
        }
       },
       "data": {
        "format": {
         "type": "json"
        },
        "url": "altair-data-4ccbac35ec3cbf286f9f6d52e487369e.json"
       },
       "encoding": {
        "color": {
         "field": "height",
         "type": "ordinal"
        },
        "facet": {
         "columns": 2,
         "field": "tower",
         "type": "nominal"
        },
        "tooltip": {
         "field": "variable",
         "type": "nominal"
        },
        "x": {
         "field": "time",
         "timeUnit": "hoursminutes",
         "type": "temporal"
        },
        "y": {
         "aggregate": "median",
         "field": "rolling_avg",
         "scale": {
          "domain": [
           0,
           360
          ]
         },
         "title": "Wind speed (m/s)",
         "type": "quantitative"
        }
       },
       "height": 200,
       "mark": {
        "type": "line"
       },
       "title": "Streamwise",
       "transform": [
        {
         "frame": [
          -1,
          1
         ],
         "groupby": [
          "height",
          "tower",
          "variable"
         ],
         "window": [
          {
           "as": "rolling_avg",
           "field": "value",
           "op": "median"
          }
         ]
        }
       ],
       "width": 200
      },
      "text/plain": [
       "<VegaLite 5 object>\n",
       "\n",
       "If you see this message, it means the renderer has not been properly enabled\n",
       "for the frontend that you are using. For more information, see\n",
       "https://altair-viz.github.io/user_guide/display_frontends.html#troubleshooting\n"
      ]
     },
     "metadata": {
      "application/vnd.vegalite.v5+json": {
       "embed_options": {
        "renderer": "svg"
       }
      }
     },
     "output_type": "display_data"
    }
   ],
   "source": [
    "src = pd.read_parquet(f\"tidy_df_{start_date}_{end_date}_planar_fit_multiplane.parquet\")\n",
    "src = utils.modify_df_timezone(src, 'UTC', 'US/Mountain')\n",
    "alt.Chart(\n",
    "        src[src.variable.isin([\n",
    "            'dir_2m_c', 'dir_3m_c', 'dir_5m_c', 'dir_10m_c', 'dir_15m_c', 'dir_20m_c',\n",
    "            'dir_3m_ue','dir_10m_ue',\n",
    "            'dir_3m_uw','dir_10m_uw',\n",
    "            'dir_3m_d','dir_10m_d',\n",
    "        ])]\n",
    "    ).transform_window(\n",
    "        rolling_avg = \"median(value)\",\n",
    "        frame=[-1,1],\n",
    "        groupby=['height', 'tower', 'variable']\n",
    "    ).mark_line().encode(\n",
    "        alt.X('hoursminutes(time):T'),\n",
    "        alt.Y('median(rolling_avg):Q').title('Wind speed (m/s)').scale(domain=[0, 360]),\n",
    "        alt.Color('height:O'),\n",
    "        alt.Facet('tower:N', columns=2),\n",
    "        tooltip='variable',\n",
    "    ).properties(width = 200, height = 200, title=    'Streamwise',).display(renderer='svg')"
   ]
  },
  {
   "cell_type": "code",
   "execution_count": null,
   "metadata": {},
   "outputs": [],
   "source": []
  },
  {
   "cell_type": "code",
   "execution_count": null,
   "metadata": {},
   "outputs": [],
   "source": [
    "src = pd.read_parquet(f\"tidy_df_20221101_20230619_noplanar_fit.parquet\")\n",
    "alt.Chart(\n",
    "        src[src.variable.isin([\n",
    "            'w_2m_c', 'w_3m_c', 'w_5m_c', 'w_10m_c', 'w_15m_c', 'w_20m_c',\n",
    "            'w_3m_ue','w_10m_ue',\n",
    "            'w_3m_uw','w_10m_uw',\n",
    "            'w_3m_d','w_10m_d',\n",
    "        ])]\n",
    "    ).mark_line().encode(\n",
    "        alt.X('hoursminutes(time):T'),\n",
    "        alt.Y('mean(value):Q').title('Wind speed (m/s)'),\n",
    "        alt.Color('height:O').scale(scheme='sinebow'),\n",
    "        alt.StrokeDash('tower:N'),\n",
    "        alt.Facet('month(time):T', columns=4).sort([11,12,1,2,3,4,5,6]),\n",
    "        tooltip='variable',\n",
    "    ).properties(width = 200, height = 200)"
   ]
  },
  {
   "cell_type": "markdown",
   "metadata": {},
   "source": [
    "# Prepare data"
   ]
  },
  {
   "cell_type": "markdown",
   "metadata": {},
   "source": [
    "## Open SOS Measurement Dataset"
   ]
  },
  {
   "cell_type": "code",
   "execution_count": null,
   "metadata": {},
   "outputs": [],
   "source": [
    "# convert time column to datetime\n",
    "tidy_df['time'] = pd.to_datetime(tidy_df['time'])\n",
    "tidy_df = utils.modify_df_timezone(tidy_df, pytz.UTC, 'US/Mountain')\n",
    "# limit data to our dates of interest, based on continuous snow cover at Kettle Ponds\n",
    "tidy_df = tidy_df.set_index('time').sort_index().loc[start_date:data_cutoff_date].reset_index()"
   ]
  },
  {
   "cell_type": "code",
   "execution_count": null,
   "metadata": {},
   "outputs": [],
   "source": [
    "## Add combined blowing snow flux variable\n",
    "tidy_df = tidy.tidy_df_add_variable(\n",
    "    tidy_df,\n",
    "    (\n",
    "        tidy_df.query(\"variable == 'SF_avg_1m_ue'\")['value'].values + \n",
    "        tidy_df.query(\"variable == 'SF_avg_2m_ue'\")['value'].values\n",
    "    ), \n",
    "    'SF_avg_ue', 'snow flux', 1, 'ue',\n",
    ")"
   ]
  },
  {
   "cell_type": "markdown",
   "metadata": {},
   "source": [
    "## Add absolute humidity measurements by converting hygrometer measurements"
   ]
  },
  {
   "cell_type": "code",
   "execution_count": null,
   "metadata": {},
   "outputs": [],
   "source": [
    "tower_height_keys = tidy_df[tidy_df.measurement=='specific humidity'].groupby(['tower', 'height']).indices.keys()\n",
    "for t, h in tower_height_keys:\n",
    "    this_tower_height_tidy_df = tidy_df.query(\n",
    "            f\"tower == '{t}'\"\n",
    "        ).query(\n",
    "            f\"height == {h}\"\n",
    "        )\n",
    "    specific_humidity_values = this_tower_height_tidy_df.query(\n",
    "            \"measurement == 'specific humidity'\"\n",
    "        ).set_index('time')[['value']].rename(columns={'value': 'specific humidity'})\n",
    "    air_density_values = this_tower_height_tidy_df.query(\n",
    "            \"measurement == 'air density'\"\n",
    "        ).set_index('time')[['value']].rename(columns={'value': 'air density'})\n",
    "    combined_df = specific_humidity_values.join(air_density_values)\n",
    "\n",
    "    abs_humidity_values = (\n",
    "        combined_df['specific humidity'].values * units('g/g')\n",
    "    ).to('g/kg') * (\n",
    "        combined_df['air density'].values * units('kg/m^3')\n",
    "    ).m\n",
    "\n",
    "    tidy_df = tidy.tidy_df_add_variable(\n",
    "        tidy_df,\n",
    "        abs_humidity_values,\n",
    "        f\"absolutehumidity_{int(h)}m_{t}\",\n",
    "        'absolute humidity',\n",
    "        int(h),\n",
    "        t\n",
    "    )"
   ]
  },
  {
   "cell_type": "markdown",
   "metadata": {},
   "source": [
    "## Calibrate gas analyzer measurements\n",
    "\n",
    "We calibrate by assuming that all gas analyzers have the same seasonal mean as the corresponding hygrometer measurement on the central tower (at a given height)"
   ]
  },
  {
   "cell_type": "markdown",
   "metadata": {},
   "source": [
    "### With seasonal mean"
   ]
  },
  {
   "cell_type": "code",
   "execution_count": null,
   "metadata": {},
   "outputs": [],
   "source": [
    "hygrometer_absolute_humidity_mean = (\n",
    "    1000 * tidy_df[tidy_df.measurement=='specific humidity'].groupby(['tower', 'height'])[['value']].mean() *\\\n",
    "    tidy_df[tidy_df.measurement=='air density'].groupby(['tower', 'height'])[['value']].mean()\n",
    ").reset_index().query(\"tower == 'c'\")"
   ]
  },
  {
   "cell_type": "code",
   "execution_count": null,
   "metadata": {},
   "outputs": [],
   "source": [
    "ec_absolute_humidity_mean = tidy_df[tidy_df.measurement=='Water vapor density'].groupby(['variable', 'tower', 'height'])[['value']].mean().reset_index()"
   ]
  },
  {
   "cell_type": "code",
   "execution_count": null,
   "metadata": {},
   "outputs": [],
   "source": [
    "corrections_df = ec_absolute_humidity_mean.merge(\n",
    "    hygrometer_absolute_humidity_mean[['height', 'value']].rename(columns={'value': 'truth'}),\n",
    "    on='height'\n",
    ")\n",
    "corrections_df['offset'] = corrections_df['value'] - corrections_df['truth']\n",
    "corrections_df"
   ]
  },
  {
   "cell_type": "markdown",
   "metadata": {},
   "source": [
    "Update dataset with corrections"
   ]
  },
  {
   "cell_type": "code",
   "execution_count": null,
   "metadata": {},
   "outputs": [],
   "source": [
    "src = tidy_df[tidy_df.measurement=='Water vapor density']\n",
    "src = src[src.height.isin([1,3,10])]\n",
    "src"
   ]
  },
  {
   "cell_type": "code",
   "execution_count": null,
   "metadata": {},
   "outputs": [],
   "source": [
    "alt.Chart(\n",
    "    (\n",
    "    1000 * tidy_df[tidy_df.measurement=='specific humidity'].groupby(['tower', 'height'])[['value']].mean() *\\\n",
    "    tidy_df[tidy_df.measurement=='air density'].groupby(['tower', 'height'])[['value']].mean()\n",
    "    ).reset_index()\n",
    ").mark_point(shape='square', filled=True, color='black', size=20).encode(\n",
    "    alt.X(\"value:Q\"),\n",
    "    alt.Y(\"height:Q\")\n",
    ").properties(width=150, height = 150)\\\n",
    "+ alt.Chart(\n",
    "    tidy_df[tidy_df.measurement=='Water vapor density'].groupby(['variable', 'tower', 'height'])[['value']].mean().reset_index()\n",
    ").mark_circle(size=40).encode(\n",
    "    alt.X(\"value:Q\"),\n",
    "    alt.Y(\"height:Q\"),\n",
    "    alt.Color('tower:N')\n",
    ").properties(width=150, height = 150)"
   ]
  },
  {
   "cell_type": "code",
   "execution_count": null,
   "metadata": {},
   "outputs": [],
   "source": [
    "\n",
    "\n",
    "alt.Chart(\n",
    "    src[ src.time > '20221212' ][ src.time < '20221214' ]\n",
    ").mark_line().encode(\n",
    "    alt.X(\"time:T\"),\n",
    "    alt.Y(\"value:Q\"),\n",
    "    alt.Color(\"height:N\"),\n",
    "    detail='variable'\n",
    ")"
   ]
  },
  {
   "cell_type": "code",
   "execution_count": null,
   "metadata": {},
   "outputs": [],
   "source": [
    "for idx, row in corrections_df.iterrows():\n",
    "    src = tidy_df.query(f\"variable == '{row['variable']}'\")\n",
    "    src = src.assign(value = src.value - row['offset'])\n",
    "    tidy_df = tidy_df[tidy_df.variable != row['variable']]\n",
    "    tidy_df = pd.concat([tidy_df, src])"
   ]
  },
  {
   "cell_type": "code",
   "execution_count": null,
   "metadata": {},
   "outputs": [],
   "source": [
    "alt.Chart(\n",
    "    (\n",
    "    1000 * tidy_df[tidy_df.measurement=='specific humidity'].groupby(['tower', 'height'])[['value']].mean() *\\\n",
    "    tidy_df[tidy_df.measurement=='air density'].groupby(['tower', 'height'])[['value']].mean()\n",
    "    ).reset_index()\n",
    ").mark_point(shape='square', filled=True, color='black', size=20).encode(\n",
    "    alt.X(\"value:Q\"),\n",
    "    alt.Y(\"height:Q\")\n",
    ").properties(width=150, height = 150)\\\n",
    "+ alt.Chart(\n",
    "    tidy_df[tidy_df.measurement=='Water vapor density'].groupby(['variable', 'tower', 'height'])[['value']].mean().reset_index()\n",
    ").mark_circle(size=40).encode(\n",
    "    alt.X(\"value:Q\"),\n",
    "    alt.Y(\"height:Q\"),\n",
    "    alt.Color('tower:N')\n",
    ").properties(width=150, height = 150)"
   ]
  },
  {
   "cell_type": "code",
   "execution_count": null,
   "metadata": {},
   "outputs": [],
   "source": [
    "src = tidy_df[tidy_df.measurement=='Water vapor density']\n",
    "src = src[src.height.isin([1,3,10])]\n",
    "abs_hum = alt.Chart(\n",
    "    src[ src.time > '20221212' ][ src.time < '20221214' ]\n",
    ").mark_line(strokeWidth=0.5).encode(\n",
    "    alt.X(\"time:T\"),\n",
    "    alt.Y(\"value:Q\").title(\"Absolute humidity (g/m^3)\").scale(zero=False),\n",
    "    alt.Color(\"height:N\"),\n",
    "    alt.Shape('tower:N'),\n",
    "    detail='variable'\n",
    ").properties(width=600)\n",
    "\n",
    "src = tidy_df[tidy_df.measurement=='snow depth']\n",
    "snowdepth = alt.Chart(\n",
    "    src[ src.time > '20221212' ][ src.time < '20221214' ]\n",
    ").mark_line(strokeWidth=0.5).encode(\n",
    "    alt.X(\"time:T\"),\n",
    "    alt.Y(\"value:Q\").title(\"Snow depth (m)\"),\n",
    "    alt.Shape('tower:N'),\n",
    "    detail='variable'\n",
    ").properties(width=600, height=150)\n",
    "\n",
    "(snowdepth & abs_hum).resolve_scale(color='independent', shape='independent')"
   ]
  },
  {
   "cell_type": "markdown",
   "metadata": {},
   "source": [
    "### With monthly means"
   ]
  },
  {
   "cell_type": "code",
   "execution_count": null,
   "metadata": {},
   "outputs": [],
   "source": [
    "# filtered_spechumidity = tidy_df[tidy_df.measurement=='specific humidity']\n",
    "# hygrometer_absolute_humidity_mean = (\n",
    "#     1000 * filtered_spechumidity.groupby(['tower', 'height', filtered_spechumidity.time.dt.month])[['value']].mean() *\\\n",
    "#     tidy_df[tidy_df.measurement=='air density'].groupby(['tower', 'height'])[['value']].mean()\n",
    "# ).reset_index().query(\"tower == 'c'\")"
   ]
  },
  {
   "cell_type": "code",
   "execution_count": null,
   "metadata": {},
   "outputs": [],
   "source": [
    "# filtered_abshumidity = tidy_df[tidy_df.measurement=='Water vapor density']\n",
    "# ec_absolute_humidity_mean = filtered_abshumidity.groupby([\n",
    "#     'variable', 'tower', 'height', filtered_abshumidity.time.dt.month\n",
    "# ])[['value']].mean().reset_index()\n",
    "# ec_absolute_humidity_mean"
   ]
  },
  {
   "cell_type": "code",
   "execution_count": null,
   "metadata": {},
   "outputs": [],
   "source": [
    "# corrections_df = ec_absolute_humidity_mean.merge(\n",
    "#     hygrometer_absolute_humidity_mean[['height', 'value', 'time', 'tower']].rename(columns={'value': 'truth'}),\n",
    "#     on=['height', 'tower', 'time']\n",
    "# )\n",
    "# corrections_df['offset'] = corrections_df['value'] - corrections_df['truth']\n"
   ]
  },
  {
   "cell_type": "markdown",
   "metadata": {},
   "source": [
    "Update dataset with corrections"
   ]
  },
  {
   "cell_type": "code",
   "execution_count": null,
   "metadata": {},
   "outputs": [],
   "source": [
    "# corrected_measurements = []\n",
    "# for variable in corrections_df.variable.unique():\n",
    "#     for month in corrections_df[corrections_df.variable == variable].time.unique():\n",
    "#         src = tidy_df.query(f\"variable == '{variable}'\")\n",
    "#         src = src[src.time.dt.month == month]\n",
    "#         row = corrections_df.set_index(['variable', 'time']).loc[variable, month]\n",
    "#         src = src.assign(value = src.value - row['offset'])\n",
    "#         corrected_measurements.append(src)"
   ]
  },
  {
   "cell_type": "code",
   "execution_count": null,
   "metadata": {},
   "outputs": [],
   "source": [
    "# for variable in corrections_df.variable.unique():\n",
    "#     tidy_df = tidy_df[tidy_df.variable != variable]\n",
    "# tidy_df = pd.concat([tidy_df] + corrected_measurements)"
   ]
  },
  {
   "cell_type": "code",
   "execution_count": null,
   "metadata": {},
   "outputs": [],
   "source": [
    "# hygr_vals = (\n",
    "#     1000 * tidy_df[tidy_df.measurement=='specific humidity'].groupby(['tower', 'height'])[['value']].mean() *\\\n",
    "#     tidy_df[tidy_df.measurement=='air density'].groupby(['tower', 'height'])[['value']].mean()\n",
    "#     ).reset_index()\n",
    "# irga_vals = tidy_df[tidy_df.measurement=='Water vapor density'].groupby(['variable', 'tower', 'height'])[['value']].mean().reset_index()\n",
    "# hygr_vals = hygr_vals[hygr_vals.time.dt.month==12]\n",
    "# irga_vals = irga_vals[irga_vals.time.dt.month==12]\n",
    "# alt.Chart(hygr_vals).mark_point(shape='square', filled=True, color='black', size=20).encode(\n",
    "#     alt.X(\"value:Q\"),\n",
    "#     alt.Y(\"height:Q\")\n",
    "# ).properties(width=150, height = 150)\\\n",
    "# + alt.Chart(irga_vals).mark_circle(size=40).encode(\n",
    "#     alt.X(\"value:Q\"),\n",
    "#     alt.Y(\"height:Q\"),\n",
    "#     alt.Color('tower:N')\n",
    "# ).properties(width=150, height = 150)"
   ]
  },
  {
   "cell_type": "markdown",
   "metadata": {},
   "source": [
    "# Identify categories for timestamps"
   ]
  },
  {
   "cell_type": "code",
   "execution_count": null,
   "metadata": {},
   "outputs": [],
   "source": [
    "# Identify lists of timestamps for different categories\n",
    "bs_times = tidy_df.query(\"variable == 'SF_avg_ue'\").query(\"value > 0\").time\n",
    "nobs_times = tidy_df.query(\"variable == 'SF_avg_ue'\").query(\"value == 0\").time\n",
    "\n",
    "decoupled_times = tidy_df.query(\"variable == 'omega_3m_c'\").query(\"value < 0.43\").time\n",
    "weaklycoupled_times = tidy_df.query(\"variable == 'omega_3m_c'\").query(\"value >= 0.43\").query(\"value <= 0.61\").time\n",
    "coupled_times = tidy_df.query(\"variable == 'omega_3m_c'\").query(\"value > 0.61\").time\n",
    "\n",
    "ri_stable_times = tidy_df.query(\"variable == 'Ri_3m_c'\").query(\"value > 0.25\").time\n",
    "ri_unstable_times = tidy_df.query(\"variable == 'Ri_3m_c'\").query(\"value < -0.01\").time\n",
    "ri_neutral_times = tidy_df.query(\"variable == 'Ri_3m_c'\").query(\"value >= -0.01\").query(\"value <= 0.25\").time\n",
    "\n",
    "tgrad_stable_times = tidy_df.query(\"variable == 'temp_gradient_3m_c'\").query(\"value > 0.01\").time\n",
    "tgrad_unstable_times = tidy_df.query(\"variable == 'temp_gradient_3m_c'\").query(\"value < -0.01\").time\n",
    "tgrad_neutral_times = tidy_df.query(\"variable == 'temp_gradient_3m_c'\").query(\"value >= -0.01\").query(\"value <= 0.01\").time\n",
    "\n",
    "december_times = tidy_df[tidy_df.time.dt.month == 12].time\n",
    "january_times = tidy_df[tidy_df.time.dt.month == 1].time\n",
    "february_times = tidy_df[tidy_df.time.dt.month == 2].time\n",
    "march_times = tidy_df[tidy_df.time.dt.month == 3].time\n",
    "april_times = tidy_df[tidy_df.time.dt.month == 4].time\n",
    "\n",
    "midwinter_times = tidy_df[tidy_df.time < '20230320'].time\n",
    "spring_times = tidy_df[tidy_df.time > '20230320'].time"
   ]
  },
  {
   "cell_type": "code",
   "execution_count": null,
   "metadata": {},
   "outputs": [],
   "source": [
    "precip_df = xr.open_dataset(\"/Users/elischwat/Development/data/sublimationofsnow/precip_danny/precipitation_rate_gts_w23.nc\")['corrected_prcp_rate_m2'].to_dataframe()\n",
    "\n",
    "is_snowing_dates = pd.concat([\n",
    "    precip_df.query(\"corrected_prcp_rate_m2 > 0\").index.to_series(),\n",
    "    precip_df.query(\"corrected_prcp_rate_m2 > 0\").index.to_series() + dt.timedelta(minutes=30)\n",
    "])\n",
    "    \n",
    "is_not_snowing_dates = pd.concat([\n",
    "    precip_df.query(\"corrected_prcp_rate_m2 <= 0\").index.to_series(),\n",
    "    precip_df.query(\"corrected_prcp_rate_m2 <= 0\").index.to_series() + dt.timedelta(minutes=30)\n",
    "])"
   ]
  },
  {
   "cell_type": "markdown",
   "metadata": {},
   "source": [
    "# Create tables"
   ]
  },
  {
   "cell_type": "markdown",
   "metadata": {},
   "source": [
    "## Instrument location info (georeferenced)\n",
    "We use a file with theodolite/GPS readings provided by NCAR. "
   ]
  },
  {
   "cell_type": "code",
   "execution_count": null,
   "metadata": {},
   "outputs": [],
   "source": [
    "instrument_loc_df = pd.read_csv(\"~/Development/data/sublimationofsnow/SOSm.txt\", names = ['ec', 'x', 'y', 'z'])\n",
    "instrument_loc_df = instrument_loc_df[ \n",
    "    instrument_loc_df['ec'].str.startswith('CS')\n",
    "    |\n",
    "    instrument_loc_df['ec'].str.startswith('DS') \n",
    "    |\n",
    "    instrument_loc_df['ec'].str.startswith('UWS') \n",
    "    |\n",
    "    instrument_loc_df['ec'].str.startswith('UES') \n",
    "]\n",
    "instrument_loc_df = instrument_loc_df[ \n",
    "    instrument_loc_df['ec'].str.endswith('T') \n",
    "    |\n",
    "    instrument_loc_df['ec'].str.endswith('B') \n",
    "]\n",
    "instrument_loc_df['top or bottom'] = instrument_loc_df['ec'].str[-1]\n",
    "instrument_loc_df['tower'] = instrument_loc_df['ec'].apply(lambda str: str.split('S')[0].lower())\n",
    "instrument_loc_df['height'] = instrument_loc_df['ec'].apply(lambda str: int(str.split('S')[1][:-1]))\n",
    "instrument_loc_df = instrument_loc_df.drop(columns='ec')\n",
    "instrument_loc_df = instrument_loc_df.pivot(index=['height', 'tower'], columns='top or bottom').reset_index()\n",
    "instrument_loc_df = instrument_loc_df.set_index(['height', 'tower']).groupby(level=0, axis=1).mean()\n",
    "instrument_loc_df"
   ]
  },
  {
   "cell_type": "code",
   "execution_count": null,
   "metadata": {},
   "outputs": [],
   "source": [
    "import geopandas as gpd\n",
    "gpd.GeoDataFrame(\n",
    "    geometry=gpd.points_from_xy(\n",
    "        instrument_loc_df.loc[3].x,\n",
    "        instrument_loc_df.loc[3].y\n",
    "    ),\n",
    "    crs='EPSG:32613'\n",
    ").to_file(\"~/Downloads/tower_locs.geojson\")"
   ]
  },
  {
   "cell_type": "markdown",
   "metadata": {},
   "source": [
    "## Wind field measurements"
   ]
  },
  {
   "cell_type": "code",
   "execution_count": null,
   "metadata": {},
   "outputs": [],
   "source": [
    "wind_field_df = tidy_df[tidy_df.measurement.isin(['u','v','w']) & tidy_df.height.isin(HEIGHTS)]\n",
    "wind_field_df = round(wind_field_df.pivot_table(index='time', columns=['height', 'tower', 'measurement'], values='value'), 4)\n",
    "wind_field_df"
   ]
  },
  {
   "cell_type": "markdown",
   "metadata": {},
   "source": [
    "## Turbulent water vapor flux measurements"
   ]
  },
  {
   "cell_type": "code",
   "execution_count": null,
   "metadata": {},
   "outputs": [],
   "source": [
    "turb_flux_field_df = tidy_df[tidy_df.measurement.isin(['u_h2o_','v_h2o_','w_h2o_']) & tidy_df.height.isin(HEIGHTS)]\n",
    "turb_flux_field_df = round(turb_flux_field_df.pivot_table(index='time', columns=['height', 'tower', 'measurement'], values='value'), 4)\n",
    "turb_flux_field_df"
   ]
  },
  {
   "cell_type": "markdown",
   "metadata": {},
   "source": [
    "## Turbulent temperature flux measurements"
   ]
  },
  {
   "cell_type": "code",
   "execution_count": null,
   "metadata": {},
   "outputs": [],
   "source": [
    "temp_turb_flux_field_df = tidy_df[tidy_df.measurement.isin(['u_tc_','v_tc_','w_tc_']) & tidy_df.height.isin(HEIGHTS)]\n",
    "temp_turb_flux_field_df = round(temp_turb_flux_field_df.pivot_table(index='time', columns=['height', 'tower', 'measurement'], values='value'), 4)\n",
    "temp_turb_flux_field_df"
   ]
  },
  {
   "cell_type": "markdown",
   "metadata": {},
   "source": [
    "## Humidity measurements"
   ]
  },
  {
   "cell_type": "code",
   "execution_count": null,
   "metadata": {},
   "outputs": [],
   "source": [
    "abs_hum_field_df = tidy_df[tidy_df.measurement.isin(['Water vapor density']) & tidy_df.height.isin(HEIGHTS)]\n",
    "abs_hum_field_df.measurement = 'q'\n",
    "abs_hum_field_df = round(\n",
    "    abs_hum_field_df.pivot_table(\n",
    "        index='time', columns=['height', 'tower', 'measurement'], values='value'\n",
    "    ), \n",
    "    4\n",
    ")\n",
    "abs_hum_field_df"
   ]
  },
  {
   "cell_type": "markdown",
   "metadata": {},
   "source": [
    "## Advective flux measurements"
   ]
  },
  {
   "cell_type": "code",
   "execution_count": null,
   "metadata": {},
   "outputs": [],
   "source": [
    "ls = []\n",
    "for h in wind_field_df.columns.get_level_values('height').unique():\n",
    "    for t in wind_field_df.columns.get_level_values('tower').unique():\n",
    "        this_wind_df = wind_field_df[(h,t)].copy()\n",
    "        this_abs_hum_df = abs_hum_field_df[(h,t)].copy()  \n",
    "        this_wind_df['uq'] = this_wind_df['u']*this_abs_hum_df['q']\n",
    "        this_wind_df['vq'] = this_wind_df['v']*this_abs_hum_df['q']\n",
    "        this_wind_df['wq'] = this_wind_df['w']*this_abs_hum_df['q']\n",
    "        new = pd.concat([this_wind_df], axis=1, keys=[(h,t)])\n",
    "        ls.append(new.drop(columns=[(h,t,'u'),(h,t,'v'),(h,t,'w')]))\n",
    "\n",
    "adv_flux_field_df = ls[0]\n",
    "for l in ls[1:]:\n",
    "    adv_flux_field_df = adv_flux_field_df.join(l)\n",
    "adv_flux_field_df.columns = adv_flux_field_df.columns.set_names('height', level=0)\n",
    "adv_flux_field_df.columns = adv_flux_field_df.columns.set_names('tower', level=1)\n",
    "adv_flux_field_df"
   ]
  },
  {
   "cell_type": "markdown",
   "metadata": {},
   "source": [
    "## Dry air density measurements"
   ]
  },
  {
   "cell_type": "code",
   "execution_count": null,
   "metadata": {},
   "outputs": [],
   "source": [
    "# gather dry air density measurements\n",
    "dryair_density_field_df = tidy_df[tidy_df.measurement.isin(['dry air density']) & tidy_df.height.isin(HEIGHTS)]\n",
    "dryair_density_field_df.measurement = 'rho'\n",
    "dryair_density_field_df = round(\n",
    "    dryair_density_field_df.pivot_table(\n",
    "        index='time', columns=['height', 'tower', 'measurement'], values='value'\n",
    "    ), \n",
    "    4\n",
    ")\n",
    "\n",
    "# duplicate the dry air density measurements across the towers (THIS IS NAIVE)\n",
    "dryair_density_for_tower_d = dryair_density_field_df.copy()\n",
    "dryair_density_for_tower_d.columns = pd.MultiIndex.from_tuples([(cs[0], 'd', cs[2]) for cs in dryair_density_for_tower_d.columns])\n",
    "\n",
    "dryair_density_for_tower_uw = dryair_density_field_df.copy()\n",
    "dryair_density_for_tower_uw.columns = pd.MultiIndex.from_tuples([(cs[0], 'uw', cs[2]) for cs in dryair_density_for_tower_d.columns])\n",
    "\n",
    "dryair_density_for_tower_ue = dryair_density_field_df.copy()\n",
    "dryair_density_for_tower_ue.columns = pd.MultiIndex.from_tuples([(cs[0], 'ue', cs[2]) for cs in dryair_density_for_tower_d.columns])\n",
    "\n",
    "dryair_density_field_df = dryair_density_field_df.join(\n",
    "    dryair_density_for_tower_d\n",
    ").join(\n",
    "    dryair_density_for_tower_ue\n",
    ").join(\n",
    "    dryair_density_for_tower_uw\n",
    ")\n",
    "\n",
    "dryair_density_field_df.columns = dryair_density_field_df.columns.set_names(['height', 'tower', 'measurement'])\n",
    "\n",
    "# convert from kg/m^3 to g/m^3\n",
    "dryair_density_field_df = dryair_density_field_df*1000\n",
    "\n",
    "dryair_density_field_df"
   ]
  },
  {
   "cell_type": "markdown",
   "metadata": {},
   "source": [
    "# Temperature measurements"
   ]
  },
  {
   "cell_type": "code",
   "execution_count": null,
   "metadata": {},
   "outputs": [],
   "source": [
    "# gather dry air density measurements\n",
    "temp_field_df = tidy_df[tidy_df.measurement.isin(['temperature']) & tidy_df.height.isin(HEIGHTS)]\n",
    "temp_field_df.measurement = 'T'\n",
    "temp_field_df = round(\n",
    "    temp_field_df.pivot_table(\n",
    "        index='time', columns=['height', 'tower', 'measurement'], values='value'\n",
    "    ), \n",
    "    4\n",
    ")\n",
    "\n",
    "# duplicate the dry air density measurements across the towers (THIS IS NAIVE)\n",
    "temp_for_tower_d = temp_field_df.copy()\n",
    "temp_for_tower_d.columns = pd.MultiIndex.from_tuples([(cs[0], 'd', cs[2]) for cs in temp_for_tower_d.columns])\n",
    "\n",
    "temp_for_tower_uw = temp_field_df.copy()\n",
    "temp_for_tower_uw.columns = pd.MultiIndex.from_tuples([(cs[0], 'uw', cs[2]) for cs in temp_for_tower_d.columns])\n",
    "\n",
    "temp_for_tower_ue = temp_field_df.copy()\n",
    "temp_for_tower_ue.columns = pd.MultiIndex.from_tuples([(cs[0], 'ue', cs[2]) for cs in temp_for_tower_d.columns])\n",
    "\n",
    "temp_field_df = temp_field_df.join(\n",
    "    temp_for_tower_d\n",
    ").join(\n",
    "    temp_for_tower_ue\n",
    ").join(\n",
    "    temp_for_tower_uw\n",
    ")\n",
    "\n",
    "temp_field_df.columns = temp_field_df.columns.set_names(['height', 'tower', 'measurement'])\n",
    "\n",
    "temp_field_df"
   ]
  },
  {
   "cell_type": "markdown",
   "metadata": {},
   "source": [
    "## Mixing ratio measurements"
   ]
  },
  {
   "cell_type": "code",
   "execution_count": null,
   "metadata": {},
   "outputs": [],
   "source": [
    "mixing_ratio_field_df = abs_hum_field_df.droplevel(2, 1) / dryair_density_field_df.droplevel(2, 1)\n",
    "\n",
    "mixing_ratio_field_df.columns = pd.MultiIndex.from_product(mixing_ratio_field_df.columns.levels + [['r']])\n",
    "mixing_ratio_field_df.columns = mixing_ratio_field_df.columns.set_names('measurement', level=2)\n",
    "\n",
    "mixing_ratio_field_df"
   ]
  },
  {
   "cell_type": "code",
   "execution_count": null,
   "metadata": {},
   "outputs": [],
   "source": [
    "mixing_ratio_field_df.to_pickle('mixing_ratio_field_df.pkl')"
   ]
  },
  {
   "cell_type": "markdown",
   "metadata": {},
   "source": [
    "# Divergence calculations"
   ]
  },
  {
   "cell_type": "code",
   "execution_count": null,
   "metadata": {},
   "outputs": [],
   "source": [
    "def divergence(f,sp):\n",
    "    \"\"\" \n",
    "    From: https://stackoverflow.com/a/67971515\n",
    "    Computes divergence of vector field \n",
    "    f: array -> vector field components [Fx,Fy,Fz,...]\n",
    "    sp: array -> spacing between points in respecitve directions [spx, spy,spz,...]\n",
    "    \"\"\"\n",
    "    num_dims = len(f)\n",
    "    return np.ufunc.reduce(np.add, [np.gradient(f[i], sp[i], axis=i) for i in range(num_dims)])"
   ]
  },
  {
   "cell_type": "markdown",
   "metadata": {},
   "source": [
    "## Calculate interpolated fields (3D)"
   ]
  },
  {
   "cell_type": "code",
   "execution_count": null,
   "metadata": {},
   "outputs": [],
   "source": [
    "# Initialize lists to store results\n",
    "wind_fields = []\n",
    "turbulent_latentheat_flux_fields = []\n",
    "turbulent_sensibleheat_flux_fields = []\n",
    "abshumidity_fields = []\n",
    "advectedflux_fields = []\n",
    "dryairdensity_fields = []\n",
    "temperature_fields = []\n",
    "mixingratio_fields = []\n",
    "\n",
    "grid_spacings = []\n",
    "timestamps = []\n",
    "\n",
    "\n",
    "field_dataframes ={\n",
    "    'wind' :            wind_field_df,              # m/s\n",
    "    'turb_flux' :       turb_flux_field_df,         # g/m^2/s\n",
    "    'temp_turb_flux' :  temp_turb_flux_field_df,    # K/m^2/s\n",
    "    'abs_hum' :         abs_hum_field_df,           # g/m^3/s\n",
    "    'adv_flux' :        adv_flux_field_df,          # g/m^2/s\n",
    "    'dryair_density' :  dryair_density_field_df,    # g/m^3\n",
    "    'temperature':      temp_field_df,              # ˚C\n",
    "    'mixing_ratio' :    mixing_ratio_field_df,      # g/g\n",
    "}\n",
    "\n",
    "for i in wind_field_df.index:\n",
    "    # sometimes we don't have all measurements - this ensures we only retrieve data that exists\n",
    "    if all([i in df.index for df in field_dataframes.values()]):\n",
    "        values_dataframes = {}\n",
    "        \n",
    "        # Isolate all measurementsfor this timestamp\n",
    "        for key in field_dataframes.keys():\n",
    "            values_dataframes[key] = pd.DataFrame(\n",
    "                field_dataframes[key].loc[i]\n",
    "            ).reset_index().set_index(['height', 'tower']).pivot(columns='measurement')\n",
    "            values_dataframes[key].columns = values_dataframes[key].columns.droplevel(0)\n",
    "\n",
    "        # Combine all measurements of fields and instrument locations into one dataframe\n",
    "        points_and_fields = instrument_loc_df.join(\n",
    "            values_dataframes['wind'], how='right' # join on right df, so we drop instruments that we don't have measurements for\n",
    "        )\n",
    "        for key in field_dataframes.keys():\n",
    "            if key != 'wind':\n",
    "                points_and_fields = points_and_fields.join(values_dataframes[key])\n",
    "\n",
    "        # Create a meshgrid for the interpolation\n",
    "        xx, yy, zz = np.meshgrid(\n",
    "            np.linspace(points_and_fields.x.min(), points_and_fields.x.max(), HORIZ_GRID_SPACING),\n",
    "            np.linspace(points_and_fields.y.min(), points_and_fields.y.max(), HORIZ_GRID_SPACING),\n",
    "            np.linspace(points_and_fields.z.min(), points_and_fields.z.max(), VERT_GRID_SPACING)\n",
    "        )\n",
    "        points = np.transpose(np.vstack((points_and_fields.x, points_and_fields.y, points_and_fields.z)))\n",
    "\n",
    "        # Interpolate wind field\n",
    "        u_interp = interpolate.griddata(points, points_and_fields['u'], (xx, yy, zz), method='linear')\n",
    "        v_interp = interpolate.griddata(points, points_and_fields['v'], (xx, yy, zz), method='linear')\n",
    "        w_interp = interpolate.griddata(points, points_and_fields['w'], (xx, yy, zz), method='linear')\n",
    "\n",
    "        # Interpolate turbulent latent heat flux fields\n",
    "        u_q__interp = interpolate.griddata(points, points_and_fields['u_h2o_'], (xx, yy, zz), method='linear')\n",
    "        v_q__interp = interpolate.griddata(points, points_and_fields['v_h2o_'], (xx, yy, zz), method='linear')\n",
    "        w_q__interp = interpolate.griddata(points, points_and_fields['w_h2o_'], (xx, yy, zz), method='linear')\n",
    "\n",
    "        # Interpolate turbulent sensible heat flux fields\n",
    "        u_tc__interp = interpolate.griddata(points, points_and_fields['u_tc_'], (xx, yy, zz), method='linear')\n",
    "        v_tc__interp = interpolate.griddata(points, points_and_fields['v_tc_'], (xx, yy, zz), method='linear')\n",
    "        w_tc__interp = interpolate.griddata(points, points_and_fields['w_tc_'], (xx, yy, zz), method='linear')\n",
    "\n",
    "        # Interpolate advected flux field\n",
    "        uq_interp = interpolate.griddata(points, points_and_fields['uq'], (xx, yy, zz), method='linear')\n",
    "        vq_interp = interpolate.griddata(points, points_and_fields['vq'], (xx, yy, zz), method='linear')\n",
    "        wq_interp = interpolate.griddata(points, points_and_fields['wq'], (xx, yy, zz), method='linear')\n",
    "\n",
    "        # Interpolate abs. humidity field\n",
    "        q_interp = interpolate.griddata(points, points_and_fields['q'], (xx, yy, zz), method='linear')\n",
    "\n",
    "        # Interpolate dry air density field\n",
    "        rho_interp = interpolate.griddata(points, points_and_fields['rho'], (xx, yy, zz), method='linear')\n",
    "\n",
    "        # Interpolatet temperature field\n",
    "        T_interp = interpolate.griddata(points, points_and_fields['T'], (xx, yy, zz), method='linear')\n",
    "\n",
    "        # Interpolate (water vapor) mixing ratio field\n",
    "        r_interp = interpolate.griddata(points, points_and_fields['r'], (xx, yy, zz), method='linear')\n",
    "\n",
    "        # Combine interpolated components into vector fields\n",
    "        F = np.array([u_interp, v_interp, w_interp])\n",
    "        Fq = np.array([uq_interp, vq_interp, wq_interp])\n",
    "        F_q_ = np.array([u_q__interp, v_q__interp, w_q__interp])\n",
    "        F_tc_ = np.array([u_tc__interp, v_tc__interp, w_tc__interp])\n",
    "\n",
    "        # Record grid spacing        \n",
    "        sp_x = np.diff(xx[0,:,0]).mean()\n",
    "        sp_y = np.diff(yy[:,0,0]).mean()\n",
    "        sp_z = np.diff(zz[0,0,:]).mean()\n",
    "        sp = [sp_x, sp_y, sp_z]\n",
    "\n",
    "        # Append interpolated fields to our results lists\n",
    "        wind_fields.append(F)\n",
    "        advectedflux_fields.append(Fq)\n",
    "        turbulent_latentheat_flux_fields.append(F_q_)\n",
    "        turbulent_sensibleheat_flux_fields.append(F_tc_)\n",
    "        abshumidity_fields.append(q_interp)\n",
    "        dryairdensity_fields.append(rho_interp)\n",
    "        temperature_fields.append(T_interp)\n",
    "        mixingratio_fields.append(r_interp)\n",
    "        grid_spacings.append(sp)\n",
    "        timestamps.append(i)"
   ]
  },
  {
   "cell_type": "markdown",
   "metadata": {},
   "source": [
    "## Calculate interpolated fields (2D)"
   ]
  },
  {
   "cell_type": "code",
   "execution_count": null,
   "metadata": {},
   "outputs": [],
   "source": [
    "# Initialize lists to store results\n",
    "wind_fields_2d = []\n",
    "turbulent_latentheat_flux_fields_2d = []\n",
    "turbulent_sensibleheat_flux_fields_2d = []\n",
    "abshumidity_fields_2d = []\n",
    "advectedflux_fields_2d = []\n",
    "dryairdensity_fields_2d = []\n",
    "temperature_fields_2d = []\n",
    "mixingratio_fields_2d = []\n",
    "\n",
    "grid_spacings_2d = []\n",
    "timestamps_2d = []\n",
    "\n",
    "\n",
    "field_dataframes ={\n",
    "    'wind' :            wind_field_df,              # m/s\n",
    "    'turb_flux' :       turb_flux_field_df,         # g/m^2/s\n",
    "    'temp_turb_flux' :  temp_turb_flux_field_df,    # K/m^2/s\n",
    "    'abs_hum' :         abs_hum_field_df,           # g/m^3/s\n",
    "    'adv_flux' :        adv_flux_field_df,          # g/m^2/s\n",
    "    'dryair_density' :  dryair_density_field_df,    # g/m^3\n",
    "    'temperature':      temp_field_df,              # ˚C\n",
    "    'mixing_ratio' :    mixing_ratio_field_df,      # g/g\n",
    "}\n",
    "\n",
    "for i in wind_field_df.index:\n",
    "    # sometimes we don't have all measurements - this ensures we only retrieve data that exists\n",
    "    if all([i in df.index for df in field_dataframes.values()]):\n",
    "        values_dataframes = {}\n",
    "        \n",
    "        # Isolate all measurementsfor this timestamp\n",
    "        for key in field_dataframes.keys():\n",
    "            values_dataframes[key] = pd.DataFrame(\n",
    "                field_dataframes[key].loc[i]\n",
    "            ).reset_index().set_index(['height', 'tower']).pivot(columns='measurement')\n",
    "            values_dataframes[key].columns = values_dataframes[key].columns.droplevel(0)\n",
    "\n",
    "        # Combine all measurements of fields and instrument locations into one dataframe\n",
    "        points_and_fields = instrument_loc_df.join(\n",
    "            values_dataframes['wind'], how='right' # join on right df, so we drop instruments that we don't have measurements for\n",
    "        )\n",
    "        for key in field_dataframes.keys():\n",
    "            if key != 'wind':\n",
    "                points_and_fields = points_and_fields.join(values_dataframes[key])\n",
    "\n",
    "        # Create a meshgrid for the interpolation\n",
    "        wind_fields_2d_dict = {}\n",
    "        advectedflux_fields_2d_dict = {}\n",
    "        turbulent_latentheat_flux_fields_2d_dict = {}\n",
    "        turbulent_sensibleheat_flux_fields_2d_dict = {}\n",
    "        abshumidity_fields_2d_dict = {}\n",
    "        dryairdensity_fields_2d_dict = {}\n",
    "        temperature_fields_2d_dict = {}\n",
    "        mixingratio_fields_2d_dict = {}\n",
    "        grid_spacings_2d_dict = {}\n",
    "        timestamps_2d_dict = {}\n",
    "        for height in HEIGHTS:\n",
    "            these_points_and_fields = points_and_fields.query(f\"height == {height}\")\n",
    "            xx, yy = np.meshgrid(\n",
    "                np.linspace(these_points_and_fields.x.min(), these_points_and_fields.x.max(), HORIZ_GRID_SPACING),\n",
    "                np.linspace(these_points_and_fields.y.min(), these_points_and_fields.y.max(), HORIZ_GRID_SPACING),\n",
    "            )\n",
    "            points = np.transpose(np.vstack((these_points_and_fields.x, these_points_and_fields.y)))\n",
    "\n",
    "            # Interpolate wind field\n",
    "            u_interp = interpolate.griddata(points, these_points_and_fields['u'], (xx, yy), method='linear')\n",
    "            v_interp = interpolate.griddata(points, these_points_and_fields['v'], (xx, yy), method='linear')\n",
    "            w_interp = interpolate.griddata(points, these_points_and_fields['w'], (xx, yy), method='linear')\n",
    "\n",
    "            # Interpolate turbulent latent heat flux fields\n",
    "            u_q__interp = interpolate.griddata(points, these_points_and_fields['u_h2o_'], (xx, yy), method='linear')\n",
    "            v_q__interp = interpolate.griddata(points, these_points_and_fields['v_h2o_'], (xx, yy), method='linear')\n",
    "            w_q__interp = interpolate.griddata(points, these_points_and_fields['w_h2o_'], (xx, yy), method='linear')\n",
    "\n",
    "            # Interpolate turbulent sensible heat flux fields\n",
    "            u_tc__interp = interpolate.griddata(points, these_points_and_fields['u_tc_'], (xx, yy), method='linear')\n",
    "            v_tc__interp = interpolate.griddata(points, these_points_and_fields['v_tc_'], (xx, yy), method='linear')\n",
    "            w_tc__interp = interpolate.griddata(points, these_points_and_fields['w_tc_'], (xx, yy), method='linear')\n",
    "\n",
    "            # Interpolate advected flux field\n",
    "            uq_interp = interpolate.griddata(points, these_points_and_fields['uq'], (xx, yy), method='linear')\n",
    "            vq_interp = interpolate.griddata(points, these_points_and_fields['vq'], (xx, yy), method='linear')\n",
    "            wq_interp = interpolate.griddata(points, these_points_and_fields['wq'], (xx, yy), method='linear')\n",
    "\n",
    "            # Interpolate abs. humidity field\n",
    "            q_interp = interpolate.griddata(points, these_points_and_fields['q'], (xx, yy), method='linear')\n",
    "\n",
    "            # Interpolate dry air density field\n",
    "            rho_interp = interpolate.griddata(points, these_points_and_fields['rho'], (xx, yy), method='linear')\n",
    "\n",
    "            # Interpolatet temperature field\n",
    "            T_interp = interpolate.griddata(points, these_points_and_fields['T'], (xx, yy), method='linear')\n",
    "\n",
    "            # Interpolate (water vapor) mixing ratio field\n",
    "            r_interp = interpolate.griddata(points, these_points_and_fields['r'], (xx, yy), method='linear')\n",
    "\n",
    "            # Combine interpolated components into vector fields\n",
    "            F = np.array([u_interp, v_interp, w_interp])\n",
    "            Fq = np.array([uq_interp, vq_interp, wq_interp])\n",
    "            F_q_ = np.array([u_q__interp, v_q__interp, w_q__interp])\n",
    "            F_tc_ = np.array([u_tc__interp, v_tc__interp, w_tc__interp])\n",
    "\n",
    "            # Record grid spacing        \n",
    "            sp_x = np.diff(xx[0,:]).mean()\n",
    "            sp_y = np.diff(yy[:,0]).mean()\n",
    "            sp = [sp_x, sp_y]\n",
    "\n",
    "            wind_fields_2d_dict[height] = F\n",
    "            advectedflux_fields_2d_dict[height] = Fq\n",
    "            turbulent_latentheat_flux_fields_2d_dict[height] = F_q_\n",
    "            turbulent_sensibleheat_flux_fields_2d_dict[height] = F_tc_\n",
    "            abshumidity_fields_2d_dict[height] = q_interp\n",
    "            dryairdensity_fields_2d_dict[height] = rho_interp\n",
    "            temperature_fields_2d_dict[height] = T_interp\n",
    "            mixingratio_fields_2d_dict[height] = r_interp\n",
    "            grid_spacings_2d_dict[height] = sp\n",
    "            timestamps_2d_dict[height] = i\n",
    "\n",
    "        # Append interpolated fields to our results lists\n",
    "        wind_fields_2d.append(wind_fields_2d_dict)\n",
    "        advectedflux_fields_2d.append(advectedflux_fields_2d_dict)\n",
    "        turbulent_latentheat_flux_fields_2d.append(turbulent_latentheat_flux_fields_2d_dict)\n",
    "        turbulent_sensibleheat_flux_fields_2d.append(turbulent_sensibleheat_flux_fields_2d_dict)\n",
    "        abshumidity_fields_2d.append(abshumidity_fields_2d_dict)\n",
    "        dryairdensity_fields_2d.append(dryairdensity_fields_2d_dict)\n",
    "        temperature_fields_2d.append(temperature_fields_2d_dict)\n",
    "        mixingratio_fields_2d.append(mixingratio_fields_2d_dict)\n",
    "        grid_spacings_2d.append(grid_spacings_2d_dict)\n",
    "        timestamps_2d.append(timestamps_2d_dict)"
   ]
  },
  {
   "cell_type": "markdown",
   "metadata": {},
   "source": [
    "## Calculate divergences (3D)"
   ]
  },
  {
   "cell_type": "markdown",
   "metadata": {},
   "source": [
    "Conservation of mass, calculated with substitution of species mass density for the product of the mixing ratio and the dry air density ($q = s \\rho$). This is done so that the effects of dry air density changes caused by perturbations in temperature and water vapor (for moist air) can be separated from the effects of mixing ratio perturbations (Paw U et al., 2000).\n",
    "\n",
    "$$\n",
    "\\overline{\\rho} \\frac{\\partial \\overline{s}}{\\partial t} \n",
    "+ \\overline{s} \\frac{\\partial }{\\partial z} \\Big( \n",
    "    \\frac{\\overline{\\rho}}{\\overline{T}} ( 1 + \\mu \\overline{s}) \\overline{w'T'} + \\mu \\overline{w'q'} \n",
    "\\Big)\n",
    "+ \\overline{u_i} \\space \\overline{\\rho} \\frac{\\partial \\overline{s}}{\\partial x_i} \n",
    "+ \\frac{\\partial \\overline{w'q'}}{\\partial z}  = \\overline{S}\n",
    "$$\n",
    "\n",
    "Continuity, with reynolds decomposition, averaging, and some assumptions, is\n",
    "\n",
    "$$\n",
    "(\\overline{\\rho} \\frac{\\partial \\overline{u}}{\\partial x} + \\overline{\\rho} \\frac{\\partial \\overline{v}}{\\partial y} + \\overline{\\rho} \\frac{\\partial \\overline{w}}{\\partial z}) = \n",
    "(- \\overline{w} \\frac{\\partial \\overline{\\rho}}{\\partial z} - \\overline{u} \\frac{\\partial \\overline{\\rho} }{\\partial x} - \\overline{v} \\frac{\\partial \\overline{\\rho} }{\\partial y})\n",
    "- \\frac{\\partial \\overline{w'\\rho'}}{\\partial z}\n",
    "- \\frac{\\partial \\overline{\\rho} }{\\partial t}\n",
    "$$\n",
    "\n",
    "and note that from Webb et al. (1980), we can substitute\n",
    "$$\n",
    "\\frac{\\partial \\overline{w'\\rho'}}{\\partial z} = \\frac{\\partial}{\\partial z} \\biggl( \n",
    "    \\frac{\\overline{\\rho}}{\\overline{T}} (1 + \\mu \\overline{s} ) \\overline{w'T'} + \\mu \\overline{w'q'})\n",
    "\\biggl)\n",
    "$$"
   ]
  },
  {
   "cell_type": "code",
   "execution_count": null,
   "metadata": {},
   "outputs": [],
   "source": [
    "mu = 1/0.622"
   ]
  },
  {
   "cell_type": "code",
   "execution_count": null,
   "metadata": {},
   "outputs": [],
   "source": [
    "advective_term_lateral_ls = []\n",
    "advective_term_vertical_ls = []\n",
    "advective_term_total_ls = []\n",
    "airdensityflux_term_vertical_ls = []\n",
    "turbulent_term_vertical_ls = []\n",
    "\n",
    "advective_density_flux_windgrad_lateral_ls = []\n",
    "advective_density_flux_windgrad_vertical_ls = []\n",
    "advective_density_flux_densitygrad_lateral_ls = []\n",
    "advective_density_flux_densitygrad_vertical_ls = []\n",
    "vertical_density_flux_deriv_term_ls = []\n",
    "\n",
    "for i in range(0, len(wind_fields)):\n",
    "    wind_field                          = wind_fields[i]\n",
    "    turbulent_latentheat_flux_field     = turbulent_latentheat_flux_fields[i]\n",
    "    turbulent_sensibleheat_flux_field   = turbulent_sensibleheat_flux_fields[i]\n",
    "    abshumidity_field                   = abshumidity_fields[i]\n",
    "    dryairdensity_field                 = dryairdensity_fields[i]\n",
    "    temperature_field                  = temperature_fields[i]\n",
    "    mixingratio_field                   = mixingratio_fields[i]\n",
    "    grid_spacing                        = grid_spacings[i]\n",
    "    \n",
    "    # continuity stuff\n",
    "    advective_density_flux_windgrad_lateral = (\n",
    "        dryairdensity_field * np.gradient(wind_field[0], grid_spacing[0], axis=0) +\n",
    "        dryairdensity_field * np.gradient(wind_field[1], grid_spacing[1], axis=1)\n",
    "    )\n",
    "    advective_density_flux_windgrad_vertical = (\n",
    "        dryairdensity_field * np.gradient(wind_field[2], grid_spacing[2], axis=2)\n",
    "    )\n",
    "    advective_density_flux_densitygrad_lateral = (\n",
    "        wind_field[0]*np.gradient(dryairdensity_field, grid_spacing[0], axis=0) + \n",
    "        wind_field[1]*np.gradient(dryairdensity_field, grid_spacing[1], axis=1)\n",
    "    )\n",
    "    advective_density_flux_densitygrad_vertical = (\n",
    "        wind_field[2]*np.gradient(dryairdensity_field, grid_spacing[2], axis=2)\n",
    "    )\n",
    "\n",
    "    vertical_density_flux_term = (\n",
    "            (dryairdensity_field/temperature_field) * (1 + mu*mixingratio_field) * turbulent_sensibleheat_flux_field[2] + mu*turbulent_latentheat_flux_field[2]\n",
    "        )\n",
    "    vertical_density_flux_deriv_term = np.gradient(\n",
    "        vertical_density_flux_term,\n",
    "        grid_spacing[2],\n",
    "        axis=2\n",
    "    )\n",
    "\n",
    "    # conservation of moisture stuff\n",
    "    ds_dx = np.gradient(mixingratio_field,  grid_spacing[0],    axis=0)\n",
    "    ds_dy = np.gradient(mixingratio_field,  grid_spacing[1],    axis=1)\n",
    "    ds_dz = np.gradient(mixingratio_field,  grid_spacing[2],    axis=2)\n",
    "    advective_term_lateral = (\n",
    "        wind_field[0] * dryairdensity_field * ds_dx + \n",
    "        wind_field[1] * dryairdensity_field * ds_dy\n",
    "    )\n",
    "    advective_term_vertical = (\n",
    "        wind_field[2]*dryairdensity_field*ds_dz\n",
    "    )\n",
    "    advective_term_total = advective_term_lateral + advective_term_vertical\n",
    "\n",
    "    airdensityflux_term_vertical = mixingratio_field * np.gradient(\n",
    "        vertical_density_flux_term,\n",
    "        grid_spacing[2],\n",
    "        axis=2\n",
    "    )\n",
    "\n",
    "    turbulent_term_vertical = np.gradient(\n",
    "        turbulent_latentheat_flux_field[2],\n",
    "        grid_spacing[2],\n",
    "        axis=2\n",
    "    )\n",
    "\n",
    "    advective_density_flux_windgrad_lateral_ls.append(np.nanmedian(advective_density_flux_windgrad_lateral))\n",
    "    advective_density_flux_windgrad_vertical_ls.append(np.nanmedian(advective_density_flux_windgrad_vertical))\n",
    "    advective_density_flux_densitygrad_lateral_ls.append(np.nanmedian(advective_density_flux_densitygrad_lateral))\n",
    "    advective_density_flux_densitygrad_vertical_ls.append(np.nanmedian(advective_density_flux_densitygrad_vertical))\n",
    "    vertical_density_flux_deriv_term_ls.append(np.nanmedian(vertical_density_flux_deriv_term))\n",
    "\n",
    "    advective_term_lateral_ls.append(np.nanmedian(advective_term_lateral))\n",
    "    advective_term_vertical_ls.append(np.nanmedian(advective_term_vertical))\n",
    "    advective_term_total_ls.append(np.nanmedian(advective_term_total))\n",
    "    airdensityflux_term_vertical_ls.append(np.nanmedian(airdensityflux_term_vertical))\n",
    "    turbulent_term_vertical_ls.append(np.nanmedian(turbulent_term_vertical))"
   ]
  },
  {
   "cell_type": "markdown",
   "metadata": {},
   "source": [
    "## Calculate divergences (2D)"
   ]
  },
  {
   "cell_type": "code",
   "execution_count": null,
   "metadata": {},
   "outputs": [],
   "source": [
    "advective_term_lateral_ls_2d = []\n",
    "advective_term_vertical_ls_2d = []\n",
    "advective_term_total_ls_2d = []\n",
    "airdensityflux_term_vertical_ls_2d = []\n",
    "turbulent_term_vertical_ls_2d = []\n",
    "\n",
    "for i in range(0, len(wind_fields_2d)):\n",
    "    wind_field                          = wind_fields_2d[i]\n",
    "    turbulent_latentheat_flux_field     = turbulent_latentheat_flux_fields_2d[i]\n",
    "    turbulent_sensibleheat_flux_field   = turbulent_sensibleheat_flux_fields_2d[i]\n",
    "    abshumidity_field                   = abshumidity_fields_2d[i]\n",
    "    dryairdensity_field                 = dryairdensity_fields_2d[i]\n",
    "    temperature_field                  = temperature_fields_2d[i]\n",
    "    mixingratio_field                   = mixingratio_fields_2d[i]\n",
    "    grid_spacing                        = grid_spacings_2d[i]\n",
    "    \n",
    "    advective_term_lateral_ls_2d_dict = {}  \n",
    "    advective_term_vertical_ls_2d_dict = {}\n",
    "    advective_term_total_ls_2d_dict = {}\n",
    "    airdensityflux_term_vertical_ls_2d_dict = {}\n",
    "    turbulent_term_vertical_ls_2d_dict = {}\n",
    "    for height in wind_field.keys():\n",
    "        ds_dx = np.gradient(mixingratio_field[height],  grid_spacing[height][0],    axis=0)\n",
    "        ds_dy = np.gradient(mixingratio_field[height],  grid_spacing[height][1],    axis=1)\n",
    "        ds_dz = np.gradient(\n",
    "            np.stack([mixingratio_field[3], mixingratio_field[10]], axis=2),\n",
    "            7,\n",
    "            axis=2\n",
    "        ).mean(axis=2)\n",
    "        advective_term_lateral = (\n",
    "            wind_field[height][0] * dryairdensity_field[height] * ds_dx + \n",
    "            wind_field[height][1] * dryairdensity_field[height] * ds_dy\n",
    "        )\n",
    "        advective_term_vertical = (\n",
    "            wind_field[height][2]*dryairdensity_field[height]*ds_dz\n",
    "        )\n",
    "        advective_term_total = advective_term_lateral + advective_term_vertical\n",
    "\n",
    "        # airdensityflux_term_vertical = mixingratio_field[height] * np.gradient(\n",
    "        #     (\n",
    "        #         (dryairdensity_field[height]/temperature_field[height]) * (1 + mu*mixingratio_field[height]) * turbulent_sensibleheat_flux_field[height][2] + mu*turbulent_latentheat_flux_field[height][2]\n",
    "        #     ),\n",
    "        #     grid_spacing[height][2],\n",
    "        #     axis=2\n",
    "        # )\n",
    "\n",
    "        # turbulent_term_vertical = np.gradient(\n",
    "        #     turbulent_latentheat_flux_field[height][2],\n",
    "        #     grid_spacing[height][2],\n",
    "        #     axis=2\n",
    "        # )\n",
    "        advective_term_lateral_ls_2d_dict[height] = np.nanmedian(advective_term_lateral)\n",
    "        advective_term_vertical_ls_2d_dict[height] = np.nanmedian(advective_term_vertical)\n",
    "        advective_term_total_ls_2d_dict[height] = np.nanmedian(advective_term_total)\n",
    "        # airdensityflux_term_vertical_ls_2d_dict[height] = np.nanmedian(airdensityflux_term_vertical)\n",
    "        # turbulent_term_vertical_ls_2d_dict[height] = np.nanmedian(turbulent_term_vertical)\n",
    "    \n",
    "    advective_term_lateral_ls_2d.append(advective_term_lateral_ls_2d_dict)\n",
    "    advective_term_vertical_ls_2d.append(advective_term_vertical_ls_2d_dict)\n",
    "    advective_term_total_ls_2d.append(advective_term_total_ls_2d_dict)\n",
    "    # airdensityflux_term_vertical_ls_2d.append(airdensityflux_term_vertical_ls_2d_dict)\n",
    "    # turbulent_term_vertical_ls_2d.append(turbulent_term_vertical_ls_2d_dict)"
   ]
  },
  {
   "cell_type": "markdown",
   "metadata": {},
   "source": [
    "## Calculate spatially averaged divergence values (3D)"
   ]
  },
  {
   "cell_type": "code",
   "execution_count": null,
   "metadata": {},
   "outputs": [],
   "source": [
    "conservation_spatial_mean_df = pd.DataFrame({\n",
    "    'advective_term_lateral' : advective_term_lateral_ls,\n",
    "    'advective_term_vertical' : advective_term_vertical_ls,\n",
    "    'advective_term_total' : advective_term_total_ls,\n",
    "    'airdensityflux_term_vertical' : airdensityflux_term_vertical_ls,\n",
    "    'turbulent_term_vertical' : turbulent_term_vertical_ls,\n",
    "    'dryair_density' : [np.nanmedian(item) for item in dryairdensity_fields],\n",
    "    'mixing_ratio' : [np.nanmedian(item) for item in mixingratio_fields],\n",
    "})\n",
    "conservation_spatial_mean_df['time'] = timestamps\n",
    "conservation_spatial_mean_df = conservation_spatial_mean_df.set_index('time')\n",
    "conservation_spatial_mean_df['storage_change'] = conservation_spatial_mean_df['dryair_density'] * np.gradient(\n",
    "    conservation_spatial_mean_df['mixing_ratio'],\n",
    "    conservation_spatial_mean_df.index.diff()[1].seconds\n",
    ")\n",
    "conservation_spatial_mean_df['source'] = (\n",
    "    conservation_spatial_mean_df['storage_change']\n",
    "    + conservation_spatial_mean_df['advective_term_total']\n",
    "    - conservation_spatial_mean_df['airdensityflux_term_vertical']\n",
    "    + conservation_spatial_mean_df['turbulent_term_vertical']\n",
    ")\n",
    "\n",
    "continuity_spatial_mean_df = pd.DataFrame({\n",
    "    'rho du/dx + rho dv/dy' : advective_density_flux_windgrad_lateral_ls,\n",
    "    'rho dw/dz'             : advective_density_flux_windgrad_vertical_ls,\n",
    "    'u d(rho)/dx + v drho/dy' : advective_density_flux_densitygrad_lateral_ls,\n",
    "    'w d(rho)/dz'             : advective_density_flux_densitygrad_vertical_ls,\n",
    "    \"d(w_rho_)/dz\"          : vertical_density_flux_deriv_term_ls,\n",
    "    'dryair_density'        : [np.nanmedian(item) for item in dryairdensity_fields],\n",
    "})\n",
    "continuity_spatial_mean_df['time'] = timestamps\n",
    "continuity_spatial_mean_df = continuity_spatial_mean_df.set_index('time')\n",
    "continuity_spatial_mean_df['d(rho)_dt'] = np.gradient(\n",
    "    continuity_spatial_mean_df['dryair_density'],\n",
    "    continuity_spatial_mean_df.index.diff()[1].seconds\n",
    ")"
   ]
  },
  {
   "cell_type": "markdown",
   "metadata": {},
   "source": [
    "## Calculate spatially averaged divergence values (2D)"
   ]
  },
  {
   "cell_type": "code",
   "execution_count": null,
   "metadata": {},
   "outputs": [],
   "source": [
    "conservation_spatial_mean_2d_df = pd.DataFrame({\n",
    "    'advective_term_lateral_1m' : [d[3] for d in advective_term_lateral_ls_2d],\n",
    "    'advective_term_lateral_3m' : [d[3] for d in advective_term_lateral_ls_2d],\n",
    "    'advective_term_lateral_10m' : [d[10] for d in advective_term_lateral_ls_2d],\n",
    "    'advective_term_vertical_3m' : [d[3] for d in advective_term_vertical_ls_2d],\n",
    "    'advective_term_vertical_10m' : [d[10] for d in advective_term_vertical_ls_2d],\n",
    "    'advective_term_total_3m' : [d[3] for d in advective_term_total_ls_2d],\n",
    "    'advective_term_total_10m' : [d[10] for d in advective_term_total_ls_2d],\n",
    "    # 'advective_term_total_1m' : [d[1] for d in advective_term_total_ls_2d],\n",
    "    # 'advective_term_total_3m' : [d[3] for d in advective_term_total_ls_2d],\n",
    "    # 'advective_term_total_10m' : [d[10] for d in advective_term_total_ls_2d],\n",
    "    # 'airdensityflux_term_vertical' : airdensityflux_term_vertical_ls,\n",
    "    # 'turbulent_term_vertical' : turbulent_term_vertical_ls,\n",
    "    # 'dryair_density' : [np.nanmedian(item) for item in dryairdensity_fields],\n",
    "    # 'mixing_ratio' : [np.nanmedian(item) for item in mixingratio_fields],\n",
    "})\n",
    "conservation_spatial_mean_2d_df['time'] = [d[10] for d in timestamps_2d]\n",
    "conservation_spatial_mean_2d_df = conservation_spatial_mean_2d_df.set_index('time')"
   ]
  },
  {
   "cell_type": "markdown",
   "metadata": {},
   "source": [
    "# Explore how interpolation method affects divergence calculations"
   ]
  },
  {
   "cell_type": "code",
   "execution_count": null,
   "metadata": {},
   "outputs": [],
   "source": [
    "interpolate.Rbf(\n",
    "    points_and_fields[['x','y','z','r']].dropna().x,\n",
    "    points_and_fields[['x','y','z','r']].dropna().y,\n",
    "    points_and_fields[['x','y','z','r']].dropna().z,\n",
    "    points_and_fields[['x','y','z','r']].dropna().r\n",
    ")(\n",
    "    np.linspace(points_and_fields.x.min(), points_and_fields.x.max(), HORIZ_GRID_SPACING),\n",
    "    np.linspace(points_and_fields.y.min(), points_and_fields.y.max(), HORIZ_GRID_SPACING),\n",
    "    np.linspace(points_and_fields.z.min(), points_and_fields.z.max(), HORIZ_GRID_SPACING)\n",
    ")\n",
    "\n",
    "\n",
    "interpolate.Rbf(\n",
    "    points_and_fields[['x','y','z','r']].dropna().x,\n",
    "    points_and_fields[['x','y','z','r']].dropna().y,\n",
    "    points_and_fields[['x','y','z','r']].dropna().z,\n",
    "    points_and_fields[['x','y','z','r']].dropna().r\n",
    ")(\n",
    "    np.linspace(points_and_fields.x.min(), points_and_fields.x.max(), HORIZ_GRID_SPACING),\n",
    "    np.linspace(points_and_fields.y.min(), points_and_fields.y.max(), HORIZ_GRID_SPACING),\n",
    "    np.linspace(points_and_fields.z.min(), points_and_fields.z.max(), HORIZ_GRID_SPACING)\n",
    ")\n"
   ]
  },
  {
   "cell_type": "code",
   "execution_count": null,
   "metadata": {},
   "outputs": [],
   "source": [
    "xx_horiz, yy_horiz = np.meshgrid(\n",
    "    np.linspace(points_and_fields.x.min(), points_and_fields.x.max(), HORIZ_GRID_SPACING),\n",
    "    np.linspace(points_and_fields.y.min(), points_and_fields.y.max(), HORIZ_GRID_SPACING),\n",
    ")\n",
    "\n",
    "src_linear = interpolate.griddata(\n",
    "    points_and_fields.loc[3][['x','y']].values, \n",
    "    points_and_fields.loc[3]['r'], \n",
    "    (xx_horiz, yy_horiz), \n",
    "    method='linear'\n",
    ")\n",
    "src_cubic = interpolate.griddata(\n",
    "    points_and_fields.loc[3][['x','y']].values, \n",
    "    points_and_fields.loc[3]['r'], \n",
    "    (xx_horiz, yy_horiz), \n",
    "    method='cubic'\n",
    ")\n",
    "src_grad_linear = (\n",
    "    np.gradient(src_linear, grid_spacing[0], axis=0) + \n",
    "    np.gradient(src_linear, grid_spacing[1], axis=1)\n",
    ")\n",
    "src_grad_cubic = (\n",
    "    np.gradient(src_cubic, grid_spacing[0], axis=0) + \n",
    "    np.gradient(src_cubic, grid_spacing[1], axis=1)\n",
    ")\n",
    "fig, axes = plt.subplots(2,2, sharex=True, sharey=True)\n",
    "axes[0,0].imshow(src_linear)\n",
    "axes[0,1].imshow(src_cubic)\n",
    "axes[1,0].imshow(src_grad_linear)\n",
    "axes[1,1].imshow(src_grad_cubic)\n",
    "axes[0,0].set_title(\"linear interp.\\nq\")\n",
    "axes[0,1].set_title(\"cubic interp.\\nq\")\n",
    "axes[1,0].set_title(f\"dq/dx + dq/dy \\n(median = {round(np.nanmedian(src_grad_linear),8)})\")\n",
    "axes[1,1].set_title(f\"dq/dx + dq/dy \\n(median = {round(np.nanmedian(src_grad_cubic),8)})\")\n",
    "plt.tight_layout()"
   ]
  },
  {
   "cell_type": "markdown",
   "metadata": {},
   "source": [
    "# Plot results"
   ]
  },
  {
   "cell_type": "code",
   "execution_count": null,
   "metadata": {},
   "outputs": [],
   "source": [
    "line = alt.Chart().mark_rule().encode(y=alt.datum(0))\n",
    "\n",
    "def conservation_spatial_mean_composite_plot(src, columns, title, times_filter = None, normalize = None):\n",
    "    src = src.copy(deep=True)\n",
    "    if times_filter is not None:\n",
    "        src = src[src.time.isin(times_filter)]\n",
    "    else:\n",
    "        src = src\n",
    "    if normalize is not None:\n",
    "        src[columns] = src[columns] * normalize\n",
    "    return line + alt.Chart(\n",
    "        src.reset_index()\n",
    "    ).transform_fold(\n",
    "        columns\n",
    "    ).mark_line().encode(\n",
    "        alt.X('hoursminutes(time):T').title('time'),\n",
    "        alt.Y('median(value):Q'),\n",
    "        alt.Color('key:N')\n",
    "    ).properties(height = 200, width = 200, title=title)"
   ]
  },
  {
   "cell_type": "code",
   "execution_count": null,
   "metadata": {},
   "outputs": [],
   "source": [
    "method_3d_chart = conservation_spatial_mean_composite_plot(\n",
    "        conservation_spatial_mean_df,\n",
    "        [\n",
    "            'advective_term_lateral', 'advective_term_vertical', 'advective_term_total', \n",
    "            'airdensityflux_term_vertical', 'turbulent_term_vertical', 'storage_change', 'source'\n",
    "        ],\n",
    "        title='3D Method', normalize = 7\n",
    "    )\n",
    "method_2d_chart = conservation_spatial_mean_composite_plot(\n",
    "        conservation_spatial_mean_2d_df, \n",
    "        [c for c in list(conservation_spatial_mean_2d_df.columns) if '1m' not in c], \n",
    "        '2D Method, cubic interpolation', \n",
    "        times_filter = None, \n",
    "        normalize = 7\n",
    "    )"
   ]
  },
  {
   "cell_type": "code",
   "execution_count": null,
   "metadata": {},
   "outputs": [],
   "source": [
    "src = conservation_spatial_mean_df.join(\n",
    "    tidy_df.query(\"variable=='w_h2o__3m_c'\")[['time', 'value']].set_index('time').rename(columns={'value':'w_h2o__3m_c'})\n",
    ")\n",
    "alt.Chart(\n",
    "    src.reset_index()\n",
    ").transform_fold(\n",
    "    ['advective_term_lateral', 'w_h2o__3m_c', 'advective_term_vertical']\n",
    ").mark_line().encode(\n",
    "    alt.X('hoursminutes(time):T'),\n",
    "    alt.Y('median(value):Q').title('Water vapor flux density (g/m^2/s)').scale(\n",
    "        domain=[-0.001, 0.006]\n",
    "    ),\n",
    "    alt.Color('key:N').sort([\n",
    "        'w_h2o__3m_c', 'advective_term_lateral', 'advective_term_vertical'\n",
    "    ])\n",
    "    \n",
    ").properties(width = 200, height = 200).display(renderer='svg')"
   ]
  },
  {
   "cell_type": "code",
   "execution_count": null,
   "metadata": {},
   "outputs": [],
   "source": [
    "method_3d_chart = conservation_spatial_mean_composite_plot(\n",
    "        conservation_spatial_mean_df,\n",
    "        [\n",
    "            'advective_term_lateral', \n",
    "            'advective_term_vertical', \n",
    "            'advective_term_total', \n",
    "            # 'airdensityflux_term_vertical', 'turbulent_term_vertical', 'storage_change', 'source'\n",
    "        ],\n",
    "        title='3D Method', normalize = 7\n",
    "    )"
   ]
  },
  {
   "cell_type": "code",
   "execution_count": null,
   "metadata": {},
   "outputs": [],
   "source": [
    "alt.Chart(\n",
    "    conservation_spatial_mean_df.loc['20221101':'20221120'].reset_index()\n",
    ").transform_fold([\n",
    "    'advective_term_lateral', \n",
    "    'advective_term_vertical', \n",
    "    'advective_term_total', \n",
    "]).mark_line().encode(\n",
    "    alt.X('time:T'),\n",
    "    alt.Y('value:Q').scale(domain=[-0.1,0.1], clamp=True),\n",
    "    alt.Color('key:N')\n",
    ").properties(width=800)"
   ]
  },
  {
   "cell_type": "code",
   "execution_count": null,
   "metadata": {},
   "outputs": [],
   "source": [
    "conservation_spatial_mean_composite_plot(\n",
    "        conservation_spatial_mean_df.loc['20221101':'20221120'],\n",
    "        [\n",
    "            'advective_term_lateral', \n",
    "            'advective_term_vertical', \n",
    "            'advective_term_total', \n",
    "            # 'airdensityflux_term_vertical', 'turbulent_term_vertical', 'storage_change', 'source'\n",
    "        ],\n",
    "        title='3D Method', normalize = 7\n",
    "    ) | conservation_spatial_mean_composite_plot(\n",
    "        conservation_spatial_mean_df.loc['20230601':'20230619'],\n",
    "        [\n",
    "            'advective_term_lateral', \n",
    "            'advective_term_vertical', \n",
    "            'advective_term_total', \n",
    "            # 'airdensityflux_term_vertical', 'turbulent_term_vertical', 'storage_change', 'source'\n",
    "        ],\n",
    "        title='3D Method', normalize = 7\n",
    "    )"
   ]
  },
  {
   "cell_type": "code",
   "execution_count": null,
   "metadata": {},
   "outputs": [],
   "source": [
    "src = continuity_spatial_mean_df.drop(columns='dryair_density')\n",
    "src['conservation'] = src.sum(axis=1)\n",
    "alt.Chart(src.reset_index()).transform_fold(\n",
    "    list(src.columns)\n",
    ").mark_line().encode(\n",
    "    alt.X('hoursminutes(time):T').title('time'),\n",
    "    alt.Y('median(value):Q'),\n",
    "    alt.Color('key:N', legend=alt.Legend(labelLimit=1000))\n",
    ")"
   ]
  },
  {
   "cell_type": "code",
   "execution_count": null,
   "metadata": {},
   "outputs": [],
   "source": [
    "src = tidy_df.query(\"measurement == 'wind speed'\").query(\"tower == 'c'\").set_index(['time', 'height'])\n",
    "src = src.groupby([\n",
    "    src.index.get_level_values(0).floor('120T').time, 'height'\n",
    "])[['value']].mean()\n",
    "src = src.reset_index().rename(columns={'level_0':'time'})\n",
    "src['hour'] = src.time.apply(lambda t: t.hour)\n",
    "chart = alt.Chart(\n",
    "    src\n",
    ").mark_line().encode(\n",
    "    alt.X('value:Q').sort('-y'),\n",
    "    alt.Y('height:Q'),\n",
    "    alt.Color('hour:O').scale(scheme='rainbow')\n",
    ").properties(width=110,height=110)\n",
    "(\n",
    "    chart.transform_filter(alt.FieldOneOfPredicate('hour', [0, 2,4,6])) |\\\n",
    "    chart.transform_filter(alt.FieldOneOfPredicate('hour', [8,10,12,14])) |\\\n",
    "    chart.transform_filter(alt.FieldOneOfPredicate('hour', [16,18,20,22]))\n",
    ").configure_legend(orient='top').resolve_scale(color='shared')"
   ]
  },
  {
   "cell_type": "code",
   "execution_count": null,
   "metadata": {},
   "outputs": [],
   "source": [
    "src = tidy_df.query(\"measurement == 'wind speed'\").query(\"tower == 'c'\")\n",
    "src = src.set_index('time').loc['20230203':'20230203'].reset_index()\n",
    "src = src.set_index(['time', 'height'])\n",
    "src = src.groupby([\n",
    "    src.index.get_level_values(0).floor('120T').time, 'height'\n",
    "])[['value']].mean()\n",
    "src = src.reset_index().rename(columns={'level_0':'time'})\n",
    "src['hour'] = src.time.apply(lambda t: t.hour)\n",
    "chart = alt.Chart(\n",
    "    src\n",
    ").mark_line().encode(\n",
    "    alt.X('value:Q').sort('-y'),\n",
    "    alt.Y('height:Q'),\n",
    "    alt.Color('hour:O').scale(scheme='rainbow')\n",
    ").properties(width=110,height=110)\n",
    "(\n",
    "    chart.transform_filter(alt.FieldOneOfPredicate('hour', [0, 2,4,6])) |\\\n",
    "    chart.transform_filter(alt.FieldOneOfPredicate('hour', [8,10,12,14])) |\\\n",
    "    chart.transform_filter(alt.FieldOneOfPredicate('hour', [16,18,20,22]))\n",
    ").configure_legend(orient='top').resolve_scale(color='shared')"
   ]
  },
  {
   "cell_type": "code",
   "execution_count": null,
   "metadata": {},
   "outputs": [],
   "source": [
    "src = tidy_df.query(\"measurement == 'wind direction'\")\n",
    "src = src.set_index('time').loc['20230203':'20230203'].reset_index()\n",
    "src = src.set_index(['time', 'height', 'tower'])\n",
    "src = src.groupby([\n",
    "    src.index.get_level_values(0).floor('120T').time, 'height', 'tower'\n",
    "])[['value']].mean()\n",
    "src = src.reset_index().rename(columns={'level_0':'time'})\n",
    "src['hour'] = src.time.apply(lambda t: t.hour)\n",
    "chart = alt.Chart(\n",
    "    src\n",
    ").mark_line().encode(\n",
    "    alt.X('value:Q').sort('-y'),\n",
    "    alt.Y('height:Q'),\n",
    "    alt.Color('hour:O').scale(scheme='rainbow'),\n",
    "    alt.StrokeDash('tower:N')\n",
    ").properties(width=110,height=110)\n",
    "(\n",
    "    chart.transform_filter(alt.FieldOneOfPredicate('hour', [0, 2,4,6])) |\\\n",
    "    chart.transform_filter(alt.FieldOneOfPredicate('hour', [8,10,12,14])) |\\\n",
    "    chart.transform_filter(alt.FieldOneOfPredicate('hour', [16,18,20,22]))\n",
    ").configure_legend(orient='top').resolve_scale(x='shared', color='shared').display(renderer='svg')"
   ]
  },
  {
   "cell_type": "code",
   "execution_count": null,
   "metadata": {},
   "outputs": [],
   "source": [
    "src = tidy_df.query(\"measurement == 'wind speed'\")\n",
    "src = src.set_index('time').loc['20230203':'20230203'].reset_index()\n",
    "src = src.set_index(['time', 'height', 'tower'])\n",
    "src = src.groupby([\n",
    "    src.index.get_level_values(0).floor('120T').time, 'height', 'tower'\n",
    "])[['value']].mean()\n",
    "src = src.reset_index().rename(columns={'level_0':'time'})\n",
    "src['hour'] = src.time.apply(lambda t: t.hour)\n",
    "chart = alt.Chart(\n",
    "    src\n",
    ").mark_line().encode(\n",
    "    alt.X('value:Q').sort('-y'),\n",
    "    alt.Y('height:Q'),\n",
    "    alt.Color('hour:O').scale(scheme='rainbow'),\n",
    "    alt.StrokeDash('tower:N')\n",
    ").properties(width=110,height=110)\n",
    "(\n",
    "    chart.transform_filter(alt.FieldOneOfPredicate('hour', [0, 2,4,6])) |\\\n",
    "    chart.transform_filter(alt.FieldOneOfPredicate('hour', [8,10,12,14])) |\\\n",
    "    chart.transform_filter(alt.FieldOneOfPredicate('hour', [16,18,20,22]))\n",
    ").configure_legend(orient='top').resolve_scale(color='shared').display(renderer='svg')"
   ]
  },
  {
   "cell_type": "code",
   "execution_count": null,
   "metadata": {},
   "outputs": [],
   "source": [
    "(\n",
    "    conservation_spatial_mean_composite_plot(\n",
    "        conservation_spatial_mean_df.reset_index(),\n",
    "        [\n",
    "            'advective_term_lateral', 'advective_term_vertical', 'advective_term_total', \n",
    "            'airdensityflux_term_vertical', 'turbulent_term_vertical', 'storage_change', 'source'\n",
    "        ],\n",
    "        title='All data', normalize = 7\n",
    "    ) | conservation_spatial_mean_composite_plot(\n",
    "        conservation_spatial_mean_df.reset_index(),\n",
    "        [\n",
    "            'advective_term_lateral', 'advective_term_vertical', 'advective_term_total', \n",
    "            'airdensityflux_term_vertical', 'turbulent_term_vertical', 'storage_change', 'source'\n",
    "        ],\n",
    "        title='No BS', normalize = 7,\n",
    "        times_filter = set(nobs_times)\n",
    "    ) | conservation_spatial_mean_composite_plot(\n",
    "        conservation_spatial_mean_df.reset_index(),\n",
    "        [\n",
    "            'advective_term_lateral', 'advective_term_vertical', 'advective_term_total', \n",
    "            'airdensityflux_term_vertical', 'turbulent_term_vertical', 'storage_change', 'source'\n",
    "        ],\n",
    "        title='No BS, not snowing', normalize = 7,\n",
    "        times_filter = set(nobs_times).intersection(set(is_not_snowing_dates))\n",
    "    ) | conservation_spatial_mean_composite_plot(\n",
    "        conservation_spatial_mean_df.reset_index(),\n",
    "        [\n",
    "            'advective_term_lateral', 'advective_term_vertical', 'advective_term_total', \n",
    "            'airdensityflux_term_vertical', 'turbulent_term_vertical', 'storage_change', 'source'\n",
    "        ],\n",
    "        title='Not snowing', normalize = 7,\n",
    "        times_filter = set(is_not_snowing_dates)\n",
    "    ) | conservation_spatial_mean_composite_plot(\n",
    "        conservation_spatial_mean_df.reset_index(),\n",
    "        [\n",
    "            'advective_term_lateral', \n",
    "            'advective_term_vertical', \n",
    "            'advective_term_total', \n",
    "            'airdensityflux_term_vertical', \n",
    "            'turbulent_term_vertical', \n",
    "            'storage_change', 'source'\n",
    "        ],\n",
    "        title='BS', normalize = 7,\n",
    "        times_filter = set(bs_times)\n",
    "    )\n",
    ").resolve_scale(y='shared', x='shared', color='shared').display(renderer='svg')"
   ]
  },
  {
   "cell_type": "code",
   "execution_count": null,
   "metadata": {},
   "outputs": [],
   "source": [
    "(\n",
    "    conservation_spatial_mean_composite_plot(\n",
    "        conservation_spatial_mean_df,\n",
    "        [\n",
    "            'advective_term_lateral', 'advective_term_vertical', 'advective_term_total', \n",
    "            'airdensityflux_term_vertical', 'turbulent_term_vertical', 'storage_change', 'source'\n",
    "        ],\n",
    "        title='All data', normalize = 7\n",
    "    ) | conservation_spatial_mean_composite_plot(\n",
    "        conservation_spatial_mean_df,\n",
    "        [\n",
    "            'advective_term_lateral', 'advective_term_vertical', 'advective_term_total', \n",
    "            'airdensityflux_term_vertical', 'turbulent_term_vertical', 'storage_change', 'source'\n",
    "        ],\n",
    "        title='Stable, No BS', normalize = 7,\n",
    "        times_filter = set(tgrad_stable_times).intersection(set(nobs_times))\n",
    "    ) | conservation_spatial_mean_composite_plot(\n",
    "        conservation_spatial_mean_df,\n",
    "        [\n",
    "            'advective_term_lateral', 'advective_term_vertical', 'advective_term_total', \n",
    "            'airdensityflux_term_vertical', 'turbulent_term_vertical', 'storage_change', 'source'\n",
    "        ],\n",
    "        title='Neutral, No BS', normalize = 7,\n",
    "        times_filter = set(tgrad_neutral_times).intersection(set(nobs_times))\n",
    "    ) | conservation_spatial_mean_composite_plot(\n",
    "        conservation_spatial_mean_df,\n",
    "        [\n",
    "            'advective_term_lateral', 'advective_term_vertical', 'advective_term_total', \n",
    "            'airdensityflux_term_vertical', 'turbulent_term_vertical', 'storage_change', 'source'\n",
    "        ],\n",
    "        title='Unstable, No BS', normalize = 7,\n",
    "        times_filter = set(tgrad_unstable_times).intersection(set(nobs_times))\n",
    "    )\n",
    ").resolve_scale(y='shared', x='shared', color='shared').display(renderer='svg')"
   ]
  },
  {
   "cell_type": "code",
   "execution_count": null,
   "metadata": {},
   "outputs": [],
   "source": [
    "(\n",
    "    conservation_spatial_mean_composite_plot(\n",
    "        conservation_spatial_mean_df,\n",
    "        [\n",
    "            'advective_term_lateral', 'advective_term_vertical', 'advective_term_total', \n",
    "            'airdensityflux_term_vertical', 'turbulent_term_vertical', 'storage_change',\t'source'\n",
    "        ],\n",
    "        title='Flux density terms (g/m^2/s)', normalize = 7,\n",
    "        times_filter = set(nobs_times)\n",
    "    ) \n",
    "    | \n",
    "    alt.Chart(\n",
    "        tidy_df[\n",
    "            tidy_df.variable.isin(['w_h2o__3m_c', 'w_h2o__5m_c', 'w_h2o__10m_c'])\n",
    "            &\n",
    "            tidy_df.time.isin(set(nobs_times))\n",
    "        ]\n",
    "    ).mark_line().encode(\n",
    "        alt.X('hoursminutes(time):T'),\n",
    "        alt.Y('median(value):Q'),\n",
    "        alt.Color('height:O')\n",
    "    ).properties(\n",
    "        width = 200, height = 200, title=('Vertical eddy covariance flux (g/m^2/s)')\n",
    "    )\n",
    ").resolve_scale(y='shared', color='independent').configure_legend(orient='top', columns=2).display(renderer='svg')"
   ]
  },
  {
   "cell_type": "code",
   "execution_count": null,
   "metadata": {},
   "outputs": [],
   "source": [
    "\n",
    "src1 = conservation_spatial_mean_df.set_index('time').loc['20221221': '20221223'].reset_index().assign(casestudy = 1)\n",
    "src2 = conservation_spatial_mean_df.set_index('time').loc['20221212': '20221214'].reset_index().assign(casestudy = 2)\n",
    "src3 = conservation_spatial_mean_df.set_index('time').loc['20230201': '20230203'].reset_index().assign(casestudy = 3)\n",
    "src = pd.concat([src1, src2, src3])\n",
    "alt.Chart(src).transform_fold([\n",
    "    'advective_term_lateral', 'advective_term_vertical',\n",
    "    'advective_term_total', 'airdensityflux_term_vertical',\n",
    "    'turbulent_term_vertical', 'storage_change', 'source',\n",
    "]).mark_line().encode(\n",
    "    alt.X('time:T'),\n",
    "    alt.Y('value:Q').scale(domain=[-0.04,0.04], clamp=True),\n",
    "    alt.Color('key:N'),\n",
    "    alt.Facet('casestudy:N').title(None)\n",
    ").properties(width = 300, height = 200).resolve_scale(x='independent').display(renderer='svg')"
   ]
  },
  {
   "cell_type": "code",
   "execution_count": null,
   "metadata": {},
   "outputs": [],
   "source": [
    "alt.Chart(\n",
    "    conservation_spatial_mean_df.set_index('time').loc['20230401': '20230407'].reset_index()\n",
    ").transform_fold([\n",
    "    'advective_term_lateral', 'advective_term_vertical',\n",
    "    'advective_term_total', 'airdensityflux_term_vertical',\n",
    "    'turbulent_term_vertical', 'storage_change', 'source',\n",
    "]).mark_line().encode(\n",
    "    alt.X('time:T'),\n",
    "    alt.Y('value:Q').scale(domain=[-0.04,0.04], clamp=True),\n",
    "    alt.Color('key:N'),\n",
    "    alt.Facet('casestudy:N').title(None)\n",
    ").properties(width =600, height = 200).resolve_scale(x='independent').display(renderer='svg')"
   ]
  },
  {
   "cell_type": "code",
   "execution_count": null,
   "metadata": {},
   "outputs": [],
   "source": [
    "(\n",
    "    (\n",
    "        alt.Chart(\n",
    "            (conservation_spatial_mean_df.set_index('time') * 7).loc['20230202': '20230204'].reset_index().assign(casestudy = 3)\n",
    "        ).transform_fold([\n",
    "            'advective_term_lateral', \n",
    "            'advective_term_vertical',\n",
    "            # 'advective_term_total', \n",
    "            'airdensityflux_term_vertical',\n",
    "            'turbulent_term_vertical', \n",
    "            # 'storage_change', \n",
    "            # 'source',\n",
    "        ]).mark_line().encode(\n",
    "            alt.X('time:T').axis(None),\n",
    "            alt.Y('value:Q').scale(domain=[-0.1,0.1], clamp=True).title('Flux density (g/m^2/s)'),\n",
    "            alt.Color('key:N'),\n",
    "            alt.Facet('casestudy:N').title(None)\n",
    "        ).properties(width = 800, height = 200) &\\\n",
    "        alt.Chart(\n",
    "            tidy_df.query(\"variable == 'w_h2o__3m_c'\").set_index('time').loc['20230202': '20230204'].reset_index()\n",
    "        ).mark_line().encode(\n",
    "            alt.X('time:T').axis(None),\n",
    "            alt.Y('value:Q').title([\"Vertical eddy cov.\", \"flux density (g/m^2/s)\"]),\n",
    "            alt.Color('height:O')\n",
    "        ).properties(width = 800, height = 100)\n",
    "     ).resolve_scale(y='shared') &\\\n",
    "    alt.Chart(\n",
    "        tidy_df.query(\"measurement == 'wind direction'\").query(\"tower == 'c'\").query(\n",
    "            \"height <= 10\"\n",
    "        ).set_index('time').loc['20230202': '20230204'].reset_index()\n",
    "    ).mark_line().encode(\n",
    "        alt.X('time:T').axis(None),\n",
    "        alt.Y('value:Q').title('Wind Dir. (˚)'),\n",
    "        alt.Color('height:O')\n",
    "    ).properties(width = 800, height = 100) &\\\n",
    "    alt.Chart(\n",
    "        tidy_df.query(\"variable == 'Ri_3m_c'\").set_index('time').loc['20230202': '20230204'].reset_index()\n",
    "    ).mark_line().encode(\n",
    "        alt.X('time:T').axis(None),\n",
    "        alt.Y('value:Q').scale(type='symlog', domain=[-10,10], clamp=True).title('Ri (at 3 meters)'),\n",
    "        alt.Color('height:O')\n",
    "    ).properties(width = 800, height = 100) &\\\n",
    "    alt.Chart(\n",
    "        tidy_df.query(\"variable == 'spd_10m_c'\").set_index('time').loc['20230202': '20230204'].reset_index()\n",
    "    ).mark_line().encode(\n",
    "        alt.X('time:T'),\n",
    "        alt.Y('value:Q').title('Wind speed (m/s)'),\n",
    "        alt.Color('height:O')\n",
    "    ).properties(width = 800, height = 100)\n",
    ").resolve_scale(color='independent')"
   ]
  },
  {
   "cell_type": "code",
   "execution_count": null,
   "metadata": {},
   "outputs": [],
   "source": [
    "alt.Chart(\n",
    "    tidy_df.query(\"measurement == 'wind direction'\").query(\"tower == 'c'\").query(\n",
    "        \"height <= 10\"\n",
    "    ).set_index('time').loc['20221221': '20221223'].reset_index()\n",
    ").mark_line().encode(\n",
    "    alt.X('time:T'),\n",
    "    alt.Y('value:Q'),\n",
    "    alt.Color('height:O')\n",
    ").properties(width = 300, height = 200) | alt.Chart(\n",
    "    tidy_df.query(\"measurement == 'wind direction'\").query(\"tower == 'c'\").query(\n",
    "        \"height <= 10\"\n",
    "    ).set_index('time').loc['20221212': '20221214'].reset_index()\n",
    ").mark_line().encode(\n",
    "    alt.X('time:T'),\n",
    "    alt.Y('value:Q'),\n",
    "    alt.Color('height:O')\n",
    ").properties(width = 300, height = 200) | alt.Chart(\n",
    "    tidy_df.query(\"measurement == 'wind direction'\").query(\"tower == 'c'\").query(\n",
    "        \"height <= 10\"\n",
    "    ).set_index('time').loc['20230201': '20230203'].reset_index()\n",
    ").mark_line().encode(\n",
    "    alt.X('time:T'),\n",
    "    alt.Y('value:Q'),\n",
    "    alt.Color('height:O')\n",
    ").properties(width = 300, height = 200)"
   ]
  },
  {
   "cell_type": "code",
   "execution_count": null,
   "metadata": {},
   "outputs": [],
   "source": [
    "src = tidy_df[\n",
    "    tidy_df.time.isin(\n",
    "        set(nobs_times).intersection(set(is_not_snowing_dates))\n",
    "    )\n",
    "]\n",
    "src = src[src.variable.isin(['w_h2o__3m_c', 'w_h2o__5m_c', 'w_h2o__10m_c'])]\n",
    "alt.Chart(\n",
    "    src\n",
    ").mark_line().encode(\n",
    "    alt.X('hoursminutes(time):T'),\n",
    "    alt.Y('median(value):Q'),\n",
    "    alt.Color('height:O')\n",
    ").properties(height = 200, width = 200, title='Vertical turbulent flux (g/m^2/s)')"
   ]
  },
  {
   "cell_type": "code",
   "execution_count": null,
   "metadata": {},
   "outputs": [],
   "source": [
    "alt.Chart(\n",
    "    tidy_df.query(\"measurement == 'air density'\").query(\"height > 0\")\n",
    ").mark_line().encode(\n",
    "    alt.X('hoursminutes(time):T'),\n",
    "    alt.Y('median(value):Q').scale(zero=False),\n",
    "    alt.Color('height:O')\n",
    ") | alt.Chart(\n",
    "    tidy_df.query(\"measurement == 'temperature'\").query(\"height > 0\")\n",
    ").mark_line().encode(\n",
    "    alt.X('hoursminutes(time):T'),\n",
    "    alt.Y('median(value):Q').scale(zero=False),\n",
    "    alt.Color('height:O')\n",
    ")"
   ]
  },
  {
   "cell_type": "code",
   "execution_count": null,
   "metadata": {},
   "outputs": [],
   "source": [
    "src = mixing_ratio_field_df.copy()\n",
    "src.columns = src.columns.droplevel(2)\n",
    "src.columns = [f\"{int(c1)}_{c2}\" for (c1,c2) in zip(\n",
    "    src.columns.get_level_values(0),\n",
    "    src.columns.get_level_values(1)\n",
    ")]\n",
    "src = src.melt(ignore_index=False)\n",
    "src['height'] = src['variable'].apply(lambda s: int(s.split('_')[0]))\n",
    "src['tower'] = src['variable'].apply(lambda s: s.split('_')[1])\n",
    "src = src[src.tower != 'c']\n",
    "daily_mixingratio_chart = alt.Chart(src.reset_index()).mark_line().encode(\n",
    "    alt.X('hoursminutes(time):T'),\n",
    "    alt.Y('median(value):Q').scale(zero=False),\n",
    "    alt.Color('tower:N'),\n",
    "    alt.StrokeDash('height:O'),\n",
    ").properties(title='Daily composite water vapor mixing ratio (g/g)')"
   ]
  },
  {
   "cell_type": "code",
   "execution_count": null,
   "metadata": {},
   "outputs": [],
   "source": [
    "src = mixing_ratio_field_df.copy()\n",
    "src.columns = src.columns.droplevel(2)\n",
    "src.columns = [f\"{int(c1)}_{c2}\" for (c1,c2) in zip(\n",
    "    src.columns.get_level_values(0),\n",
    "    src.columns.get_level_values(1)\n",
    ")]\n",
    "src = src.melt(ignore_index=False)\n",
    "src['height'] = src['variable'].apply(lambda s: int(s.split('_')[0]))\n",
    "src['tower'] = src['variable'].apply(lambda s: s.split('_')[1])\n",
    "src = src.reset_index()\n",
    "src = src[(src.time > '20230201') & (src.time < '20230205')]\n",
    "src = src.query(\"height == 3\")\n",
    "src.to_csv('irga_mixingratio_estimates.csv')\n",
    "alt.Chart(src).mark_line().encode(\n",
    "    alt.X('time:T'),\n",
    "    alt.Y('value:Q'),\n",
    "    alt.Color('tower:N')\n",
    ").properties()"
   ]
  },
  {
   "cell_type": "code",
   "execution_count": null,
   "metadata": {},
   "outputs": [],
   "source": [
    "src = mixing_ratio_field_df.copy()\n",
    "src.columns = src.columns.droplevel(2)\n",
    "src.columns = [f\"{int(c1)}_{c2}\" for (c1,c2) in zip(\n",
    "    src.columns.get_level_values(0),\n",
    "    src.columns.get_level_values(1)\n",
    ")]\n",
    "src = src.melt(ignore_index=False)\n",
    "src['height'] = src['variable'].apply(lambda s: int(s.split('_')[0]))\n",
    "src['tower'] = src['variable'].apply(lambda s: s.split('_')[1])\n",
    "src = src.reset_index()\n",
    "src = src[(src.time > '20221201') & (src.time < '20221205')]\n",
    "src = src.query(\"height == 3\")\n",
    "src.to_csv('irga_mixingratio_estimates_2.csv')\n",
    "alt.Chart(src).mark_line().encode(\n",
    "    alt.X('time:T'),\n",
    "    alt.Y('value:Q'),\n",
    "    alt.Color('tower:N')\n",
    ").properties()"
   ]
  },
  {
   "cell_type": "code",
   "execution_count": null,
   "metadata": {},
   "outputs": [],
   "source": [
    "src"
   ]
  },
  {
   "cell_type": "code",
   "execution_count": null,
   "metadata": {},
   "outputs": [],
   "source": [
    "src = dryair_density_field_df.copy()\n",
    "src.columns = src.columns.droplevel(2)\n",
    "src.columns = [f\"{int(c1)}_{c2}\" for (c1,c2) in zip(\n",
    "    src.columns.get_level_values(0),\n",
    "    src.columns.get_level_values(1)\n",
    ")]\n",
    "src = src.melt(ignore_index=False)\n",
    "src['height'] = src['variable'].apply(lambda s: int(s.split('_')[0]))\n",
    "src['tower'] = src['variable'].apply(lambda s: s.split('_')[1])\n",
    "src = src.reset_index()\n",
    "src = src[(src.time > '20230201') & (src.time < '20230205')]\n",
    "src = src.query(\"height == 3\")\n",
    "alt.Chart(src).mark_line().encode(\n",
    "    alt.X('time:T'),\n",
    "    alt.Y('value:Q').scale(zero=False),\n",
    "    alt.Color('tower:N')\n",
    ").properties()"
   ]
  },
  {
   "cell_type": "code",
   "execution_count": null,
   "metadata": {},
   "outputs": [],
   "source": []
  },
  {
   "cell_type": "code",
   "execution_count": null,
   "metadata": {},
   "outputs": [],
   "source": [
    "tc_field_df = tidy_df[tidy_df.measurement.isin(['virtual temperature']) & tidy_df.height.isin(HEIGHTS)]\n",
    "tc_field_df.measurement = 'tc'\n",
    "tc_field_df = round(\n",
    "    tc_field_df.pivot_table(\n",
    "        index='time', columns=['height', 'tower', 'measurement'], values='value'\n",
    "    ), \n",
    "    4\n",
    ")\n",
    "\n",
    "src = tc_field_df.copy()\n",
    "src.columns = src.columns.droplevel(2)\n",
    "src.columns = [f\"{int(c1)}_{c2}\" for (c1,c2) in zip(\n",
    "    src.columns.get_level_values(0),\n",
    "    src.columns.get_level_values(1)\n",
    ")]\n",
    "src = src.melt(ignore_index=False)\n",
    "src['height'] = src['variable'].apply(lambda s: int(s.split('_')[0]))\n",
    "src['tower'] = src['variable'].apply(lambda s: s.split('_')[1])\n",
    "src = src[src.tower != 'c']\n",
    "daily_sonic_temp_chart = alt.Chart(src.reset_index()).mark_line().encode(\n",
    "    alt.X('hoursminutes(time):T'),\n",
    "    alt.Y('median(value):Q').scale(zero=False\n",
    "                                   ),\n",
    "    alt.Color('tower:N'),\n",
    "    alt.StrokeDash('height:O'),\n",
    ").properties(title='Daily composite sonic temperature (˚C)')"
   ]
  },
  {
   "cell_type": "code",
   "execution_count": null,
   "metadata": {},
   "outputs": [],
   "source": [
    "(daily_mixingratio_chart | daily_sonic_temp_chart\n",
    ").display(renderer='svg')"
   ]
  }
 ],
 "metadata": {
  "kernelspec": {
   "display_name": "arm",
   "language": "python",
   "name": "python3"
  },
  "language_info": {
   "codemirror_mode": {
    "name": "ipython",
    "version": 3
   },
   "file_extension": ".py",
   "mimetype": "text/x-python",
   "name": "python",
   "nbconvert_exporter": "python",
   "pygments_lexer": "ipython3",
   "version": "3.12.4"
  }
 },
 "nbformat": 4,
 "nbformat_minor": 2
}
