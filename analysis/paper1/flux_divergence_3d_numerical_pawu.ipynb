{
 "cells": [
  {
   "cell_type": "markdown",
   "metadata": {},
   "source": [
    "# Improvements to make:\n",
    "\n",
    "1. Calculate terms in the continuity equation.\n",
    "2. Look at some numbers from NON snow dates - don't need to worry about instrument height.\n",
    "3. Duplicate/interpolate density (and mixing ratio) measurements across the towers in a more sophisticated way (currently using ground-relative height, should be using snow-surface-relative height).\n",
    "4. Looking at moisture/water vapor data at downvalley sites - KPS annex site? Brush Creek\n",
    "\n",
    "T should be in kelvin"
   ]
  },
  {
   "cell_type": "code",
   "execution_count": 1,
   "metadata": {},
   "outputs": [],
   "source": [
    "import numpy as np\n",
    "import pandas as pd\n",
    "import xarray as xr\n",
    "import matplotlib.pyplot as plt\n",
    "import altair as alt\n",
    "alt.data_transformers.enable('json')\n",
    "alt.renderers.enable('jupyterlab')\n",
    "from sublimpy import tidy, utils\n",
    "import pytz\n",
    "import datetime as dt\n",
    "\n",
    "seconds_in_timestep = 60*30\n",
    "from metpy.constants import density_water\n",
    "\n",
    "from metpy.units import units\n",
    "import pint_pandas\n",
    "from metpy import constants\n",
    "from scipy import interpolate\n",
    "np.set_printoptions(suppress=True,precision=10)"
   ]
  },
  {
   "cell_type": "markdown",
   "metadata": {},
   "source": [
    "# Parameters for calculations"
   ]
  },
  {
   "cell_type": "code",
   "execution_count": 2,
   "metadata": {},
   "outputs": [],
   "source": [
    "HEIGHTS = [1,3,10]\n",
    "HORIZ_GRID_SPACING = 50\n",
    "VERT_GRID_SPACING = 20\n",
    "# start_date = '20221130'\n",
    "# end_date = '20230509'\n",
    "start_date = '20221101'\n",
    "end_date = '20230619'\n",
    "\n",
    "# data_cutoff_date = '20230508'\n",
    "data_cutoff_date = '20230619'\n",
    "\n",
    "    # streamwise coordinates\n",
    "# tidy_df = pd.read_parquet(f\"tidy_df_{start_date}_{end_date}_planar_fit_multiplane.parquet\")\n",
    "    # slope relative local earth coodinates\n",
    "# tidy_df = pd.read_parquet(f\"tidy_df_{start_date}_{end_date}_planar_fit.parquet\")\n",
    "    # seemingly local earth coodinates\n",
    "tidy_df = pd.read_parquet(f\"tidy_df_{start_date}_{end_date}_noplanar_fit.parquet\")\n"
   ]
  },
  {
   "cell_type": "code",
   "execution_count": 3,
   "metadata": {},
   "outputs": [],
   "source": [
    "# convert time column to datetime\n",
    "# tidy_df['time'] = pd.to_datetime(tidy_df['time'])\n",
    "tidy_df = utils.modify_df_timezone(tidy_df, 'UTC', 'US/Mountain')\n",
    "# limit data to our dates of interest, based on continuous snow cover at Kettle Ponds\n",
    "tidy_df = tidy_df.set_index('time').sort_index().loc[start_date:data_cutoff_date].reset_index()\n",
    "# tidy_df = tidy_df.drop_duplicates()"
   ]
  },
  {
   "cell_type": "markdown",
   "metadata": {},
   "source": [
    "## Add absolute humidity measurements by converting hygrometer measurements"
   ]
  },
  {
   "cell_type": "code",
   "execution_count": 4,
   "metadata": {},
   "outputs": [],
   "source": [
    "tower_height_keys = tidy_df[tidy_df.measurement=='specific humidity'].groupby(['tower', 'height']).indices.keys()\n",
    "for t, h in tower_height_keys:\n",
    "    this_tower_height_tidy_df = tidy_df.query(\n",
    "            f\"tower == '{t}'\"\n",
    "        ).query(\n",
    "            f\"height == {h}\"\n",
    "        )\n",
    "    specific_humidity_values = this_tower_height_tidy_df.query(\n",
    "            \"measurement == 'specific humidity'\"\n",
    "        ).set_index('time')[['value']].rename(columns={'value': 'specific humidity'})\n",
    "    air_density_values = this_tower_height_tidy_df.query(\n",
    "            \"measurement == 'air density'\"\n",
    "        ).set_index('time')[['value']].rename(columns={'value': 'air density'})\n",
    "    combined_df = specific_humidity_values.join(air_density_values)\n",
    "    #WHY DO I HAVE TO DO THIS????\n",
    "    combined_df = combined_df.reset_index().drop_duplicates('time')\n",
    "    abs_humidity_values = (\n",
    "        combined_df['specific humidity'].values * units('g/g')\n",
    "    ).to('g/kg') * (\n",
    "        combined_df['air density'].values * units('kg/m^3')\n",
    "    ).m\n",
    "\n",
    "    tidy_df = tidy.tidy_df_add_variable(\n",
    "        tidy_df,\n",
    "        abs_humidity_values,\n",
    "        f\"absolutehumidity_{int(h)}m_{t}\",\n",
    "        'absolute humidity',\n",
    "        int(h),\n",
    "        t\n",
    "    )"
   ]
  },
  {
   "cell_type": "markdown",
   "metadata": {},
   "source": [
    "## Calibrate gas analyzer measurements\n",
    "\n",
    "We calibrate by assuming that all gas analyzers have the same seasonal mean as the corresponding hygrometer measurement on the central tower (at a given height)"
   ]
  },
  {
   "cell_type": "markdown",
   "metadata": {},
   "source": [
    "### With seasonal mean"
   ]
  },
  {
   "cell_type": "code",
   "execution_count": 5,
   "metadata": {},
   "outputs": [],
   "source": [
    "hygrometer_absolute_humidity_mean = (\n",
    "    1000 * tidy_df[tidy_df.measurement=='specific humidity'].groupby(['tower', 'height'])[['value']].mean() *\\\n",
    "    tidy_df[tidy_df.measurement=='air density'].groupby(['tower', 'height'])[['value']].mean()\n",
    ").reset_index().query(\"tower == 'c'\")"
   ]
  },
  {
   "cell_type": "code",
   "execution_count": 6,
   "metadata": {},
   "outputs": [],
   "source": [
    "ec_absolute_humidity_mean = tidy_df[tidy_df.measurement=='Water vapor density'].groupby(['variable', 'tower', 'height'])[['value']].mean().reset_index()"
   ]
  },
  {
   "cell_type": "code",
   "execution_count": 7,
   "metadata": {},
   "outputs": [
    {
     "data": {
      "text/html": [
       "<div>\n",
       "<style scoped>\n",
       "    .dataframe tbody tr th:only-of-type {\n",
       "        vertical-align: middle;\n",
       "    }\n",
       "\n",
       "    .dataframe tbody tr th {\n",
       "        vertical-align: top;\n",
       "    }\n",
       "\n",
       "    .dataframe thead th {\n",
       "        text-align: right;\n",
       "    }\n",
       "</style>\n",
       "<table border=\"1\" class=\"dataframe\">\n",
       "  <thead>\n",
       "    <tr style=\"text-align: right;\">\n",
       "      <th></th>\n",
       "      <th>variable</th>\n",
       "      <th>tower</th>\n",
       "      <th>height</th>\n",
       "      <th>value</th>\n",
       "      <th>truth</th>\n",
       "      <th>offset</th>\n",
       "    </tr>\n",
       "  </thead>\n",
       "  <tbody>\n",
       "    <tr>\n",
       "      <th>0</th>\n",
       "      <td>h2o_10m_c</td>\n",
       "      <td>c</td>\n",
       "      <td>10.0</td>\n",
       "      <td>2.524665</td>\n",
       "      <td>2.487664</td>\n",
       "      <td>0.037000</td>\n",
       "    </tr>\n",
       "    <tr>\n",
       "      <th>1</th>\n",
       "      <td>h2o_10m_d</td>\n",
       "      <td>d</td>\n",
       "      <td>10.0</td>\n",
       "      <td>1.777192</td>\n",
       "      <td>2.487664</td>\n",
       "      <td>-0.710472</td>\n",
       "    </tr>\n",
       "    <tr>\n",
       "      <th>2</th>\n",
       "      <td>h2o_10m_ue</td>\n",
       "      <td>ue</td>\n",
       "      <td>10.0</td>\n",
       "      <td>1.466298</td>\n",
       "      <td>2.487664</td>\n",
       "      <td>-1.021366</td>\n",
       "    </tr>\n",
       "    <tr>\n",
       "      <th>3</th>\n",
       "      <td>h2o_10m_uw</td>\n",
       "      <td>uw</td>\n",
       "      <td>10.0</td>\n",
       "      <td>2.096407</td>\n",
       "      <td>2.487664</td>\n",
       "      <td>-0.391257</td>\n",
       "    </tr>\n",
       "    <tr>\n",
       "      <th>4</th>\n",
       "      <td>h2o_15m_c</td>\n",
       "      <td>c</td>\n",
       "      <td>15.0</td>\n",
       "      <td>2.289604</td>\n",
       "      <td>2.466423</td>\n",
       "      <td>-0.176820</td>\n",
       "    </tr>\n",
       "    <tr>\n",
       "      <th>5</th>\n",
       "      <td>h2o_1m_c</td>\n",
       "      <td>c</td>\n",
       "      <td>1.0</td>\n",
       "      <td>2.840210</td>\n",
       "      <td>2.644168</td>\n",
       "      <td>0.196042</td>\n",
       "    </tr>\n",
       "    <tr>\n",
       "      <th>6</th>\n",
       "      <td>h2o_1m_d</td>\n",
       "      <td>d</td>\n",
       "      <td>1.0</td>\n",
       "      <td>2.035098</td>\n",
       "      <td>2.644168</td>\n",
       "      <td>-0.609070</td>\n",
       "    </tr>\n",
       "    <tr>\n",
       "      <th>7</th>\n",
       "      <td>h2o_1m_ue</td>\n",
       "      <td>ue</td>\n",
       "      <td>1.0</td>\n",
       "      <td>2.150399</td>\n",
       "      <td>2.644168</td>\n",
       "      <td>-0.493769</td>\n",
       "    </tr>\n",
       "    <tr>\n",
       "      <th>8</th>\n",
       "      <td>h2o_1m_uw</td>\n",
       "      <td>uw</td>\n",
       "      <td>1.0</td>\n",
       "      <td>2.425554</td>\n",
       "      <td>2.644168</td>\n",
       "      <td>-0.218614</td>\n",
       "    </tr>\n",
       "    <tr>\n",
       "      <th>9</th>\n",
       "      <td>h2o_20m_c</td>\n",
       "      <td>c</td>\n",
       "      <td>20.0</td>\n",
       "      <td>1.255368</td>\n",
       "      <td>2.452797</td>\n",
       "      <td>-1.197429</td>\n",
       "    </tr>\n",
       "    <tr>\n",
       "      <th>10</th>\n",
       "      <td>h2o_2m_c</td>\n",
       "      <td>c</td>\n",
       "      <td>2.0</td>\n",
       "      <td>2.380101</td>\n",
       "      <td>2.549958</td>\n",
       "      <td>-0.169857</td>\n",
       "    </tr>\n",
       "    <tr>\n",
       "      <th>11</th>\n",
       "      <td>h2o_3m_c</td>\n",
       "      <td>c</td>\n",
       "      <td>3.0</td>\n",
       "      <td>2.203538</td>\n",
       "      <td>2.548291</td>\n",
       "      <td>-0.344753</td>\n",
       "    </tr>\n",
       "    <tr>\n",
       "      <th>12</th>\n",
       "      <td>h2o_3m_d</td>\n",
       "      <td>d</td>\n",
       "      <td>3.0</td>\n",
       "      <td>2.220945</td>\n",
       "      <td>2.548291</td>\n",
       "      <td>-0.327346</td>\n",
       "    </tr>\n",
       "    <tr>\n",
       "      <th>13</th>\n",
       "      <td>h2o_3m_ue</td>\n",
       "      <td>ue</td>\n",
       "      <td>3.0</td>\n",
       "      <td>2.305207</td>\n",
       "      <td>2.548291</td>\n",
       "      <td>-0.243084</td>\n",
       "    </tr>\n",
       "    <tr>\n",
       "      <th>14</th>\n",
       "      <td>h2o_3m_uw</td>\n",
       "      <td>uw</td>\n",
       "      <td>3.0</td>\n",
       "      <td>2.407654</td>\n",
       "      <td>2.548291</td>\n",
       "      <td>-0.140637</td>\n",
       "    </tr>\n",
       "    <tr>\n",
       "      <th>15</th>\n",
       "      <td>h2o_5m_c</td>\n",
       "      <td>c</td>\n",
       "      <td>5.0</td>\n",
       "      <td>2.345029</td>\n",
       "      <td>2.512928</td>\n",
       "      <td>-0.167899</td>\n",
       "    </tr>\n",
       "  </tbody>\n",
       "</table>\n",
       "</div>"
      ],
      "text/plain": [
       "      variable tower  height     value     truth    offset\n",
       "0    h2o_10m_c     c    10.0  2.524665  2.487664  0.037000\n",
       "1    h2o_10m_d     d    10.0  1.777192  2.487664 -0.710472\n",
       "2   h2o_10m_ue    ue    10.0  1.466298  2.487664 -1.021366\n",
       "3   h2o_10m_uw    uw    10.0  2.096407  2.487664 -0.391257\n",
       "4    h2o_15m_c     c    15.0  2.289604  2.466423 -0.176820\n",
       "5     h2o_1m_c     c     1.0  2.840210  2.644168  0.196042\n",
       "6     h2o_1m_d     d     1.0  2.035098  2.644168 -0.609070\n",
       "7    h2o_1m_ue    ue     1.0  2.150399  2.644168 -0.493769\n",
       "8    h2o_1m_uw    uw     1.0  2.425554  2.644168 -0.218614\n",
       "9    h2o_20m_c     c    20.0  1.255368  2.452797 -1.197429\n",
       "10    h2o_2m_c     c     2.0  2.380101  2.549958 -0.169857\n",
       "11    h2o_3m_c     c     3.0  2.203538  2.548291 -0.344753\n",
       "12    h2o_3m_d     d     3.0  2.220945  2.548291 -0.327346\n",
       "13   h2o_3m_ue    ue     3.0  2.305207  2.548291 -0.243084\n",
       "14   h2o_3m_uw    uw     3.0  2.407654  2.548291 -0.140637\n",
       "15    h2o_5m_c     c     5.0  2.345029  2.512928 -0.167899"
      ]
     },
     "execution_count": 7,
     "metadata": {},
     "output_type": "execute_result"
    }
   ],
   "source": [
    "corrections_df = ec_absolute_humidity_mean.merge(\n",
    "    hygrometer_absolute_humidity_mean[['height', 'value']].rename(columns={'value': 'truth'}),\n",
    "    on='height'\n",
    ")\n",
    "corrections_df['offset'] = corrections_df['value'] - corrections_df['truth']\n",
    "corrections_df"
   ]
  },
  {
   "cell_type": "markdown",
   "metadata": {},
   "source": [
    "Update dataset with corrections"
   ]
  },
  {
   "cell_type": "code",
   "execution_count": 8,
   "metadata": {},
   "outputs": [
    {
     "data": {
      "text/html": [
       "<div>\n",
       "<style scoped>\n",
       "    .dataframe tbody tr th:only-of-type {\n",
       "        vertical-align: middle;\n",
       "    }\n",
       "\n",
       "    .dataframe tbody tr th {\n",
       "        vertical-align: top;\n",
       "    }\n",
       "\n",
       "    .dataframe thead th {\n",
       "        text-align: right;\n",
       "    }\n",
       "</style>\n",
       "<table border=\"1\" class=\"dataframe\">\n",
       "  <thead>\n",
       "    <tr style=\"text-align: right;\">\n",
       "      <th></th>\n",
       "      <th>time</th>\n",
       "      <th>variable</th>\n",
       "      <th>value</th>\n",
       "      <th>height</th>\n",
       "      <th>tower</th>\n",
       "      <th>measurement</th>\n",
       "    </tr>\n",
       "  </thead>\n",
       "  <tbody>\n",
       "    <tr>\n",
       "      <th>77</th>\n",
       "      <td>2022-11-01 00:00:00</td>\n",
       "      <td>h2o_3m_ue</td>\n",
       "      <td>2.575798</td>\n",
       "      <td>3.0</td>\n",
       "      <td>ue</td>\n",
       "      <td>Water vapor density</td>\n",
       "    </tr>\n",
       "    <tr>\n",
       "      <th>104</th>\n",
       "      <td>2022-11-01 00:00:00</td>\n",
       "      <td>h2o_10m_d</td>\n",
       "      <td>1.920190</td>\n",
       "      <td>10.0</td>\n",
       "      <td>d</td>\n",
       "      <td>Water vapor density</td>\n",
       "    </tr>\n",
       "    <tr>\n",
       "      <th>289</th>\n",
       "      <td>2022-11-01 00:00:00</td>\n",
       "      <td>h2o_1m_d</td>\n",
       "      <td>2.311011</td>\n",
       "      <td>1.0</td>\n",
       "      <td>d</td>\n",
       "      <td>Water vapor density</td>\n",
       "    </tr>\n",
       "    <tr>\n",
       "      <th>320</th>\n",
       "      <td>2022-11-01 00:00:00</td>\n",
       "      <td>h2o_10m_uw</td>\n",
       "      <td>2.390329</td>\n",
       "      <td>10.0</td>\n",
       "      <td>uw</td>\n",
       "      <td>Water vapor density</td>\n",
       "    </tr>\n",
       "    <tr>\n",
       "      <th>478</th>\n",
       "      <td>2022-11-01 00:00:00</td>\n",
       "      <td>h2o_1m_ue</td>\n",
       "      <td>2.032952</td>\n",
       "      <td>1.0</td>\n",
       "      <td>ue</td>\n",
       "      <td>Water vapor density</td>\n",
       "    </tr>\n",
       "    <tr>\n",
       "      <th>...</th>\n",
       "      <td>...</td>\n",
       "      <td>...</td>\n",
       "      <td>...</td>\n",
       "      <td>...</td>\n",
       "      <td>...</td>\n",
       "      <td>...</td>\n",
       "    </tr>\n",
       "    <tr>\n",
       "      <th>9580274</th>\n",
       "      <td>2023-06-19 17:30:00</td>\n",
       "      <td>h2o_3m_d</td>\n",
       "      <td>3.101750</td>\n",
       "      <td>3.0</td>\n",
       "      <td>d</td>\n",
       "      <td>Water vapor density</td>\n",
       "    </tr>\n",
       "    <tr>\n",
       "      <th>9580296</th>\n",
       "      <td>2023-06-19 17:30:00</td>\n",
       "      <td>h2o_10m_d</td>\n",
       "      <td>2.669686</td>\n",
       "      <td>10.0</td>\n",
       "      <td>d</td>\n",
       "      <td>Water vapor density</td>\n",
       "    </tr>\n",
       "    <tr>\n",
       "      <th>9580306</th>\n",
       "      <td>2023-06-19 17:30:00</td>\n",
       "      <td>h2o_3m_c</td>\n",
       "      <td>2.461334</td>\n",
       "      <td>3.0</td>\n",
       "      <td>c</td>\n",
       "      <td>Water vapor density</td>\n",
       "    </tr>\n",
       "    <tr>\n",
       "      <th>9580408</th>\n",
       "      <td>2023-06-19 17:30:00</td>\n",
       "      <td>h2o_1m_uw</td>\n",
       "      <td>3.362670</td>\n",
       "      <td>1.0</td>\n",
       "      <td>uw</td>\n",
       "      <td>Water vapor density</td>\n",
       "    </tr>\n",
       "    <tr>\n",
       "      <th>9580665</th>\n",
       "      <td>2023-06-19 17:30:00</td>\n",
       "      <td>h2o_10m_c</td>\n",
       "      <td>2.646889</td>\n",
       "      <td>10.0</td>\n",
       "      <td>c</td>\n",
       "      <td>Water vapor density</td>\n",
       "    </tr>\n",
       "  </tbody>\n",
       "</table>\n",
       "<p>132912 rows × 6 columns</p>\n",
       "</div>"
      ],
      "text/plain": [
       "                       time    variable     value  height tower  \\\n",
       "77      2022-11-01 00:00:00   h2o_3m_ue  2.575798     3.0    ue   \n",
       "104     2022-11-01 00:00:00   h2o_10m_d  1.920190    10.0     d   \n",
       "289     2022-11-01 00:00:00    h2o_1m_d  2.311011     1.0     d   \n",
       "320     2022-11-01 00:00:00  h2o_10m_uw  2.390329    10.0    uw   \n",
       "478     2022-11-01 00:00:00   h2o_1m_ue  2.032952     1.0    ue   \n",
       "...                     ...         ...       ...     ...   ...   \n",
       "9580274 2023-06-19 17:30:00    h2o_3m_d  3.101750     3.0     d   \n",
       "9580296 2023-06-19 17:30:00   h2o_10m_d  2.669686    10.0     d   \n",
       "9580306 2023-06-19 17:30:00    h2o_3m_c  2.461334     3.0     c   \n",
       "9580408 2023-06-19 17:30:00   h2o_1m_uw  3.362670     1.0    uw   \n",
       "9580665 2023-06-19 17:30:00   h2o_10m_c  2.646889    10.0     c   \n",
       "\n",
       "                 measurement  \n",
       "77       Water vapor density  \n",
       "104      Water vapor density  \n",
       "289      Water vapor density  \n",
       "320      Water vapor density  \n",
       "478      Water vapor density  \n",
       "...                      ...  \n",
       "9580274  Water vapor density  \n",
       "9580296  Water vapor density  \n",
       "9580306  Water vapor density  \n",
       "9580408  Water vapor density  \n",
       "9580665  Water vapor density  \n",
       "\n",
       "[132912 rows x 6 columns]"
      ]
     },
     "execution_count": 8,
     "metadata": {},
     "output_type": "execute_result"
    }
   ],
   "source": [
    "src = tidy_df[tidy_df.measurement=='Water vapor density']\n",
    "src = src[src.height.isin([1,3,10])]\n",
    "src"
   ]
  },
  {
   "cell_type": "code",
   "execution_count": 9,
   "metadata": {},
   "outputs": [
    {
     "data": {
      "application/vnd.vegalite.v5+json": {
       "$schema": "https://vega.github.io/schema/vega-lite/v5.17.0.json",
       "config": {
        "view": {
         "continuousHeight": 300,
         "continuousWidth": 300
        }
       },
       "height": 150,
       "layer": [
        {
         "data": {
          "format": {
           "type": "json"
          },
          "url": "altair-data-d17ca2f771ff6e007113f5e99953e82a.json"
         },
         "encoding": {
          "x": {
           "field": "value",
           "type": "quantitative"
          },
          "y": {
           "field": "height",
           "type": "quantitative"
          }
         },
         "mark": {
          "color": "black",
          "filled": true,
          "shape": "square",
          "size": 20,
          "type": "point"
         }
        },
        {
         "data": {
          "format": {
           "type": "json"
          },
          "url": "altair-data-143e3280dc83ae3afec105284e8884aa.json"
         },
         "encoding": {
          "color": {
           "field": "tower",
           "type": "nominal"
          },
          "x": {
           "field": "value",
           "type": "quantitative"
          },
          "y": {
           "field": "height",
           "type": "quantitative"
          }
         },
         "mark": {
          "size": 40,
          "type": "circle"
         }
        }
       ],
       "width": 150
      },
      "text/plain": [
       "<VegaLite 5 object>\n",
       "\n",
       "If you see this message, it means the renderer has not been properly enabled\n",
       "for the frontend that you are using. For more information, see\n",
       "https://altair-viz.github.io/user_guide/display_frontends.html#troubleshooting\n"
      ]
     },
     "execution_count": 9,
     "metadata": {},
     "output_type": "execute_result"
    }
   ],
   "source": [
    "alt.Chart(\n",
    "    (\n",
    "    1000 * tidy_df[tidy_df.measurement=='specific humidity'].groupby(['tower', 'height'])[['value']].mean() *\\\n",
    "    tidy_df[tidy_df.measurement=='air density'].groupby(['tower', 'height'])[['value']].mean()\n",
    "    ).reset_index()\n",
    ").mark_point(shape='square', filled=True, color='black', size=20).encode(\n",
    "    alt.X(\"value:Q\"),\n",
    "    alt.Y(\"height:Q\")\n",
    ").properties(width=150, height = 150)\\\n",
    "+ alt.Chart(\n",
    "    tidy_df[tidy_df.measurement=='Water vapor density'].groupby(['variable', 'tower', 'height'])[['value']].mean().reset_index()\n",
    ").mark_circle(size=40).encode(\n",
    "    alt.X(\"value:Q\"),\n",
    "    alt.Y(\"height:Q\"),\n",
    "    alt.Color('tower:N')\n",
    ").properties(width=150, height = 150)"
   ]
  },
  {
   "cell_type": "code",
   "execution_count": 10,
   "metadata": {},
   "outputs": [
    {
     "name": "stderr",
     "output_type": "stream",
     "text": [
      "/var/folders/x_/2h52bcjx2px15bhmdpdd748h0000gn/T/ipykernel_13412/1085128452.py:2: UserWarning: Boolean Series key will be reindexed to match DataFrame index.\n",
      "  src[ src.time > '20221212' ][ src.time < '20221214' ]\n"
     ]
    },
    {
     "data": {
      "application/vnd.vegalite.v5+json": {
       "$schema": "https://vega.github.io/schema/vega-lite/v5.17.0.json",
       "config": {
        "view": {
         "continuousHeight": 300,
         "continuousWidth": 300
        }
       },
       "data": {
        "format": {
         "type": "json"
        },
        "url": "altair-data-8d1cf4fcc6022874c4a113040c3cf8cd.json"
       },
       "encoding": {
        "color": {
         "field": "height",
         "type": "nominal"
        },
        "detail": {
         "field": "variable",
         "type": "nominal"
        },
        "x": {
         "field": "time",
         "type": "temporal"
        },
        "y": {
         "field": "value",
         "type": "quantitative"
        }
       },
       "mark": {
        "type": "line"
       }
      },
      "text/plain": [
       "<VegaLite 5 object>\n",
       "\n",
       "If you see this message, it means the renderer has not been properly enabled\n",
       "for the frontend that you are using. For more information, see\n",
       "https://altair-viz.github.io/user_guide/display_frontends.html#troubleshooting\n"
      ]
     },
     "execution_count": 10,
     "metadata": {},
     "output_type": "execute_result"
    }
   ],
   "source": [
    "\n",
    "\n",
    "alt.Chart(\n",
    "    src[ src.time > '20221212' ][ src.time < '20221214' ]\n",
    ").mark_line().encode(\n",
    "    alt.X(\"time:T\"),\n",
    "    alt.Y(\"value:Q\"),\n",
    "    alt.Color(\"height:N\"),\n",
    "    detail='variable'\n",
    ")"
   ]
  },
  {
   "cell_type": "code",
   "execution_count": 11,
   "metadata": {},
   "outputs": [],
   "source": [
    "for idx, row in corrections_df.iterrows():\n",
    "    src = tidy_df.query(f\"variable == '{row['variable']}'\")\n",
    "    src = src.assign(value = src.value - row['offset'])\n",
    "    tidy_df = tidy_df[tidy_df.variable != row['variable']]\n",
    "    tidy_df = pd.concat([tidy_df, src])"
   ]
  },
  {
   "cell_type": "code",
   "execution_count": 12,
   "metadata": {},
   "outputs": [
    {
     "data": {
      "application/vnd.vegalite.v5+json": {
       "$schema": "https://vega.github.io/schema/vega-lite/v5.17.0.json",
       "config": {
        "view": {
         "continuousHeight": 300,
         "continuousWidth": 300
        }
       },
       "height": 150,
       "layer": [
        {
         "data": {
          "format": {
           "type": "json"
          },
          "url": "altair-data-d17ca2f771ff6e007113f5e99953e82a.json"
         },
         "encoding": {
          "x": {
           "field": "value",
           "type": "quantitative"
          },
          "y": {
           "field": "height",
           "type": "quantitative"
          }
         },
         "mark": {
          "color": "black",
          "filled": true,
          "shape": "square",
          "size": 20,
          "type": "point"
         }
        },
        {
         "data": {
          "format": {
           "type": "json"
          },
          "url": "altair-data-57771140ecbde1964c055a259848105a.json"
         },
         "encoding": {
          "color": {
           "field": "tower",
           "type": "nominal"
          },
          "x": {
           "field": "value",
           "type": "quantitative"
          },
          "y": {
           "field": "height",
           "type": "quantitative"
          }
         },
         "mark": {
          "size": 40,
          "type": "circle"
         }
        }
       ],
       "width": 150
      },
      "text/plain": [
       "<VegaLite 5 object>\n",
       "\n",
       "If you see this message, it means the renderer has not been properly enabled\n",
       "for the frontend that you are using. For more information, see\n",
       "https://altair-viz.github.io/user_guide/display_frontends.html#troubleshooting\n"
      ]
     },
     "execution_count": 12,
     "metadata": {},
     "output_type": "execute_result"
    }
   ],
   "source": [
    "alt.Chart(\n",
    "    (\n",
    "    1000 * tidy_df[tidy_df.measurement=='specific humidity'].groupby(['tower', 'height'])[['value']].mean() *\\\n",
    "    tidy_df[tidy_df.measurement=='air density'].groupby(['tower', 'height'])[['value']].mean()\n",
    "    ).reset_index()\n",
    ").mark_point(shape='square', filled=True, color='black', size=20).encode(\n",
    "    alt.X(\"value:Q\"),\n",
    "    alt.Y(\"height:Q\")\n",
    ").properties(width=150, height = 150)\\\n",
    "+ alt.Chart(\n",
    "    tidy_df[tidy_df.measurement=='Water vapor density'].groupby(['variable', 'tower', 'height'])[['value']].mean().reset_index()\n",
    ").mark_circle(size=40).encode(\n",
    "    alt.X(\"value:Q\"),\n",
    "    alt.Y(\"height:Q\"),\n",
    "    alt.Color('tower:N')\n",
    ").properties(width=150, height = 150)"
   ]
  },
  {
   "cell_type": "code",
   "execution_count": 13,
   "metadata": {},
   "outputs": [
    {
     "name": "stderr",
     "output_type": "stream",
     "text": [
      "/var/folders/x_/2h52bcjx2px15bhmdpdd748h0000gn/T/ipykernel_13412/427924892.py:4: UserWarning: Boolean Series key will be reindexed to match DataFrame index.\n",
      "  src[ src.time > '20221212' ][ src.time < '20221214' ]\n",
      "/var/folders/x_/2h52bcjx2px15bhmdpdd748h0000gn/T/ipykernel_13412/427924892.py:15: UserWarning: Boolean Series key will be reindexed to match DataFrame index.\n",
      "  src[ src.time > '20221212' ][ src.time < '20221214' ]\n"
     ]
    },
    {
     "data": {
      "application/vnd.vegalite.v5+json": {
       "$schema": "https://vega.github.io/schema/vega-lite/v5.17.0.json",
       "config": {
        "view": {
         "continuousHeight": 300,
         "continuousWidth": 300
        }
       },
       "resolve": {
        "scale": {
         "color": "independent",
         "shape": "independent"
        }
       },
       "vconcat": [
        {
         "data": {
          "format": {
           "type": "json"
          },
          "url": "altair-data-e6e0ad229b73772b16fa186d14e8f733.json"
         },
         "encoding": {
          "detail": {
           "field": "variable",
           "type": "nominal"
          },
          "shape": {
           "field": "tower",
           "type": "nominal"
          },
          "x": {
           "field": "time",
           "type": "temporal"
          },
          "y": {
           "field": "value",
           "title": "Snow depth (m)",
           "type": "quantitative"
          }
         },
         "height": 150,
         "mark": {
          "strokeWidth": 0.5,
          "type": "line"
         },
         "width": 600
        },
        {
         "data": {
          "format": {
           "type": "json"
          },
          "url": "altair-data-9b9b2c5902f2481b9e4568ff9883a610.json"
         },
         "encoding": {
          "color": {
           "field": "height",
           "type": "nominal"
          },
          "detail": {
           "field": "variable",
           "type": "nominal"
          },
          "shape": {
           "field": "tower",
           "type": "nominal"
          },
          "x": {
           "field": "time",
           "type": "temporal"
          },
          "y": {
           "field": "value",
           "scale": {
            "zero": false
           },
           "title": "Absolute humidity (g/m^3)",
           "type": "quantitative"
          }
         },
         "mark": {
          "strokeWidth": 0.5,
          "type": "line"
         },
         "width": 600
        }
       ]
      },
      "text/plain": [
       "<VegaLite 5 object>\n",
       "\n",
       "If you see this message, it means the renderer has not been properly enabled\n",
       "for the frontend that you are using. For more information, see\n",
       "https://altair-viz.github.io/user_guide/display_frontends.html#troubleshooting\n"
      ]
     },
     "execution_count": 13,
     "metadata": {},
     "output_type": "execute_result"
    }
   ],
   "source": [
    "src = tidy_df[tidy_df.measurement=='Water vapor density']\n",
    "src = src[src.height.isin([1,3,10])]\n",
    "abs_hum = alt.Chart(\n",
    "    src[ src.time > '20221212' ][ src.time < '20221214' ]\n",
    ").mark_line(strokeWidth=0.5).encode(\n",
    "    alt.X(\"time:T\"),\n",
    "    alt.Y(\"value:Q\").title(\"Absolute humidity (g/m^3)\").scale(zero=False),\n",
    "    alt.Color(\"height:N\"),\n",
    "    alt.Shape('tower:N'),\n",
    "    detail='variable'\n",
    ").properties(width=600)\n",
    "\n",
    "src = tidy_df[tidy_df.measurement=='snow depth']\n",
    "snowdepth = alt.Chart(\n",
    "    src[ src.time > '20221212' ][ src.time < '20221214' ]\n",
    ").mark_line(strokeWidth=0.5).encode(\n",
    "    alt.X(\"time:T\"),\n",
    "    alt.Y(\"value:Q\").title(\"Snow depth (m)\"),\n",
    "    alt.Shape('tower:N'),\n",
    "    detail='variable'\n",
    ").properties(width=600, height=150)\n",
    "\n",
    "(snowdepth & abs_hum).resolve_scale(color='independent', shape='independent')"
   ]
  },
  {
   "cell_type": "markdown",
   "metadata": {},
   "source": [
    "### With monthly means"
   ]
  },
  {
   "cell_type": "code",
   "execution_count": 14,
   "metadata": {},
   "outputs": [],
   "source": [
    "# filtered_spechumidity = tidy_df[tidy_df.measurement=='specific humidity']\n",
    "# hygrometer_absolute_humidity_mean = (\n",
    "#     1000 * filtered_spechumidity.groupby(['tower', 'height', filtered_spechumidity.time.dt.month])[['value']].mean() *\\\n",
    "#     tidy_df[tidy_df.measurement=='air density'].groupby(['tower', 'height'])[['value']].mean()\n",
    "# ).reset_index().query(\"tower == 'c'\")"
   ]
  },
  {
   "cell_type": "code",
   "execution_count": 15,
   "metadata": {},
   "outputs": [],
   "source": [
    "# filtered_abshumidity = tidy_df[tidy_df.measurement=='Water vapor density']\n",
    "# ec_absolute_humidity_mean = filtered_abshumidity.groupby([\n",
    "#     'variable', 'tower', 'height', filtered_abshumidity.time.dt.month\n",
    "# ])[['value']].mean().reset_index()\n",
    "# ec_absolute_humidity_mean"
   ]
  },
  {
   "cell_type": "code",
   "execution_count": 16,
   "metadata": {},
   "outputs": [],
   "source": [
    "# corrections_df = ec_absolute_humidity_mean.merge(\n",
    "#     hygrometer_absolute_humidity_mean[['height', 'value', 'time', 'tower']].rename(columns={'value': 'truth'}),\n",
    "#     on=['height', 'tower', 'time']\n",
    "# )\n",
    "# corrections_df['offset'] = corrections_df['value'] - corrections_df['truth']\n"
   ]
  },
  {
   "cell_type": "markdown",
   "metadata": {},
   "source": [
    "Update dataset with corrections"
   ]
  },
  {
   "cell_type": "code",
   "execution_count": 17,
   "metadata": {},
   "outputs": [],
   "source": [
    "# corrected_measurements = []\n",
    "# for variable in corrections_df.variable.unique():\n",
    "#     for month in corrections_df[corrections_df.variable == variable].time.unique():\n",
    "#         src = tidy_df.query(f\"variable == '{variable}'\")\n",
    "#         src = src[src.time.dt.month == month]\n",
    "#         row = corrections_df.set_index(['variable', 'time']).loc[variable, month]\n",
    "#         src = src.assign(value = src.value - row['offset'])\n",
    "#         corrected_measurements.append(src)"
   ]
  },
  {
   "cell_type": "code",
   "execution_count": 18,
   "metadata": {},
   "outputs": [],
   "source": [
    "# for variable in corrections_df.variable.unique():\n",
    "#     tidy_df = tidy_df[tidy_df.variable != variable]\n",
    "# tidy_df = pd.concat([tidy_df] + corrected_measurements)"
   ]
  },
  {
   "cell_type": "code",
   "execution_count": 19,
   "metadata": {},
   "outputs": [],
   "source": [
    "# hygr_vals = (\n",
    "#     1000 * tidy_df[tidy_df.measurement=='specific humidity'].groupby(['tower', 'height'])[['value']].mean() *\\\n",
    "#     tidy_df[tidy_df.measurement=='air density'].groupby(['tower', 'height'])[['value']].mean()\n",
    "#     ).reset_index()\n",
    "# irga_vals = tidy_df[tidy_df.measurement=='Water vapor density'].groupby(['variable', 'tower', 'height'])[['value']].mean().reset_index()\n",
    "# hygr_vals = hygr_vals[hygr_vals.time.dt.month==12]\n",
    "# irga_vals = irga_vals[irga_vals.time.dt.month==12]\n",
    "# alt.Chart(hygr_vals).mark_point(shape='square', filled=True, color='black', size=20).encode(\n",
    "#     alt.X(\"value:Q\"),\n",
    "#     alt.Y(\"height:Q\")\n",
    "# ).properties(width=150, height = 150)\\\n",
    "# + alt.Chart(irga_vals).mark_circle(size=40).encode(\n",
    "#     alt.X(\"value:Q\"),\n",
    "#     alt.Y(\"height:Q\"),\n",
    "#     alt.Color('tower:N')\n",
    "# ).properties(width=150, height = 150)"
   ]
  },
  {
   "cell_type": "markdown",
   "metadata": {},
   "source": [
    "# Identify categories for timestamps"
   ]
  },
  {
   "cell_type": "code",
   "execution_count": 20,
   "metadata": {},
   "outputs": [],
   "source": [
    "# Identify lists of timestamps for different categories\n",
    "bs_times = tidy_df.query(\"variable == 'SF_avg_ue'\").query(\"value > 0\").time\n",
    "nobs_times = tidy_df.query(\"variable == 'SF_avg_ue'\").query(\"value == 0\").time\n",
    "\n",
    "decoupled_times = tidy_df.query(\"variable == 'omega_3m_c'\").query(\"value < 0.43\").time\n",
    "weaklycoupled_times = tidy_df.query(\"variable == 'omega_3m_c'\").query(\"value >= 0.43\").query(\"value <= 0.61\").time\n",
    "coupled_times = tidy_df.query(\"variable == 'omega_3m_c'\").query(\"value > 0.61\").time\n",
    "\n",
    "ri_stable_times = tidy_df.query(\"variable == 'Ri_3m_c'\").query(\"value > 0.25\").time\n",
    "ri_unstable_times = tidy_df.query(\"variable == 'Ri_3m_c'\").query(\"value < -0.01\").time\n",
    "ri_neutral_times = tidy_df.query(\"variable == 'Ri_3m_c'\").query(\"value >= -0.01\").query(\"value <= 0.25\").time\n",
    "\n",
    "tgrad_stable_times = tidy_df.query(\"variable == 'temp_gradient_3m_c'\").query(\"value > 0.01\").time\n",
    "tgrad_unstable_times = tidy_df.query(\"variable == 'temp_gradient_3m_c'\").query(\"value < -0.01\").time\n",
    "tgrad_neutral_times = tidy_df.query(\"variable == 'temp_gradient_3m_c'\").query(\"value >= -0.01\").query(\"value <= 0.01\").time\n",
    "\n",
    "december_times = tidy_df[tidy_df.time.dt.month == 12].time\n",
    "january_times = tidy_df[tidy_df.time.dt.month == 1].time\n",
    "february_times = tidy_df[tidy_df.time.dt.month == 2].time\n",
    "march_times = tidy_df[tidy_df.time.dt.month == 3].time\n",
    "april_times = tidy_df[tidy_df.time.dt.month == 4].time\n",
    "\n",
    "midwinter_times = tidy_df[tidy_df.time < '20230320'].time\n",
    "spring_times = tidy_df[tidy_df.time > '20230320'].time"
   ]
  },
  {
   "cell_type": "code",
   "execution_count": 21,
   "metadata": {},
   "outputs": [],
   "source": [
    "precip_df = xr.open_dataset(\"/Users/elischwat/Development/data/sublimationofsnow/precip_danny/precipitation_rate_gts_w23.nc\")['corrected_prcp_rate_m2'].to_dataframe()\n",
    "\n",
    "is_snowing_dates = pd.concat([\n",
    "    precip_df.query(\"corrected_prcp_rate_m2 > 0\").index.to_series(),\n",
    "    precip_df.query(\"corrected_prcp_rate_m2 > 0\").index.to_series() + dt.timedelta(minutes=30)\n",
    "])\n",
    "    \n",
    "is_not_snowing_dates = pd.concat([\n",
    "    precip_df.query(\"corrected_prcp_rate_m2 <= 0\").index.to_series(),\n",
    "    precip_df.query(\"corrected_prcp_rate_m2 <= 0\").index.to_series() + dt.timedelta(minutes=30)\n",
    "])"
   ]
  },
  {
   "cell_type": "markdown",
   "metadata": {},
   "source": [
    "# Create tables"
   ]
  },
  {
   "cell_type": "markdown",
   "metadata": {},
   "source": [
    "## Instrument location info (georeferenced)\n",
    "We use a file with theodolite/GPS readings provided by NCAR. "
   ]
  },
  {
   "cell_type": "code",
   "execution_count": 22,
   "metadata": {},
   "outputs": [
    {
     "name": "stderr",
     "output_type": "stream",
     "text": [
      "/var/folders/x_/2h52bcjx2px15bhmdpdd748h0000gn/T/ipykernel_13412/3668931392.py:21: FutureWarning: DataFrame.groupby with axis=1 is deprecated. Do `frame.T.groupby(...)` without axis instead.\n",
      "  instrument_loc_df = instrument_loc_df.set_index(['height', 'tower']).groupby(level=0, axis=1).mean()\n"
     ]
    },
    {
     "data": {
      "text/html": [
       "<div>\n",
       "<style scoped>\n",
       "    .dataframe tbody tr th:only-of-type {\n",
       "        vertical-align: middle;\n",
       "    }\n",
       "\n",
       "    .dataframe tbody tr th {\n",
       "        vertical-align: top;\n",
       "    }\n",
       "\n",
       "    .dataframe thead th {\n",
       "        text-align: right;\n",
       "    }\n",
       "</style>\n",
       "<table border=\"1\" class=\"dataframe\">\n",
       "  <thead>\n",
       "    <tr style=\"text-align: right;\">\n",
       "      <th></th>\n",
       "      <th></th>\n",
       "      <th>x</th>\n",
       "      <th>y</th>\n",
       "      <th>z</th>\n",
       "    </tr>\n",
       "    <tr>\n",
       "      <th>height</th>\n",
       "      <th>tower</th>\n",
       "      <th></th>\n",
       "      <th></th>\n",
       "      <th></th>\n",
       "    </tr>\n",
       "  </thead>\n",
       "  <tbody>\n",
       "    <tr>\n",
       "      <th rowspan=\"4\" valign=\"top\">1</th>\n",
       "      <th>c</th>\n",
       "      <td>329002.47110</td>\n",
       "      <td>4.312171e+06</td>\n",
       "      <td>2861.36010</td>\n",
       "    </tr>\n",
       "    <tr>\n",
       "      <th>d</th>\n",
       "      <td>329016.77615</td>\n",
       "      <td>4.312158e+06</td>\n",
       "      <td>2860.09135</td>\n",
       "    </tr>\n",
       "    <tr>\n",
       "      <th>ue</th>\n",
       "      <td>329005.76010</td>\n",
       "      <td>4.312190e+06</td>\n",
       "      <td>2862.19275</td>\n",
       "    </tr>\n",
       "    <tr>\n",
       "      <th>uw</th>\n",
       "      <td>328983.46715</td>\n",
       "      <td>4.312165e+06</td>\n",
       "      <td>2860.54055</td>\n",
       "    </tr>\n",
       "    <tr>\n",
       "      <th>2</th>\n",
       "      <th>c</th>\n",
       "      <td>329002.49025</td>\n",
       "      <td>4.312171e+06</td>\n",
       "      <td>2862.28475</td>\n",
       "    </tr>\n",
       "    <tr>\n",
       "      <th rowspan=\"4\" valign=\"top\">3</th>\n",
       "      <th>c</th>\n",
       "      <td>329002.53920</td>\n",
       "      <td>4.312171e+06</td>\n",
       "      <td>2863.30060</td>\n",
       "    </tr>\n",
       "    <tr>\n",
       "      <th>d</th>\n",
       "      <td>329016.82015</td>\n",
       "      <td>4.312158e+06</td>\n",
       "      <td>2862.02455</td>\n",
       "    </tr>\n",
       "    <tr>\n",
       "      <th>ue</th>\n",
       "      <td>329005.80410</td>\n",
       "      <td>4.312190e+06</td>\n",
       "      <td>2864.12270</td>\n",
       "    </tr>\n",
       "    <tr>\n",
       "      <th>uw</th>\n",
       "      <td>328983.52075</td>\n",
       "      <td>4.312165e+06</td>\n",
       "      <td>2862.50290</td>\n",
       "    </tr>\n",
       "    <tr>\n",
       "      <th>5</th>\n",
       "      <th>c</th>\n",
       "      <td>329002.53790</td>\n",
       "      <td>4.312171e+06</td>\n",
       "      <td>2865.33380</td>\n",
       "    </tr>\n",
       "    <tr>\n",
       "      <th rowspan=\"4\" valign=\"top\">10</th>\n",
       "      <th>c</th>\n",
       "      <td>329002.65185</td>\n",
       "      <td>4.312171e+06</td>\n",
       "      <td>2870.36580</td>\n",
       "    </tr>\n",
       "    <tr>\n",
       "      <th>d</th>\n",
       "      <td>329016.90980</td>\n",
       "      <td>4.312158e+06</td>\n",
       "      <td>2868.59560</td>\n",
       "    </tr>\n",
       "    <tr>\n",
       "      <th>ue</th>\n",
       "      <td>329005.87765</td>\n",
       "      <td>4.312190e+06</td>\n",
       "      <td>2870.70875</td>\n",
       "    </tr>\n",
       "    <tr>\n",
       "      <th>uw</th>\n",
       "      <td>328983.59905</td>\n",
       "      <td>4.312165e+06</td>\n",
       "      <td>2869.09490</td>\n",
       "    </tr>\n",
       "    <tr>\n",
       "      <th>15</th>\n",
       "      <th>c</th>\n",
       "      <td>329002.72120</td>\n",
       "      <td>4.312171e+06</td>\n",
       "      <td>2875.37755</td>\n",
       "    </tr>\n",
       "    <tr>\n",
       "      <th>20</th>\n",
       "      <th>c</th>\n",
       "      <td>329002.80045</td>\n",
       "      <td>4.312171e+06</td>\n",
       "      <td>2880.25445</td>\n",
       "    </tr>\n",
       "  </tbody>\n",
       "</table>\n",
       "</div>"
      ],
      "text/plain": [
       "                         x             y           z\n",
       "height tower                                        \n",
       "1      c      329002.47110  4.312171e+06  2861.36010\n",
       "       d      329016.77615  4.312158e+06  2860.09135\n",
       "       ue     329005.76010  4.312190e+06  2862.19275\n",
       "       uw     328983.46715  4.312165e+06  2860.54055\n",
       "2      c      329002.49025  4.312171e+06  2862.28475\n",
       "3      c      329002.53920  4.312171e+06  2863.30060\n",
       "       d      329016.82015  4.312158e+06  2862.02455\n",
       "       ue     329005.80410  4.312190e+06  2864.12270\n",
       "       uw     328983.52075  4.312165e+06  2862.50290\n",
       "5      c      329002.53790  4.312171e+06  2865.33380\n",
       "10     c      329002.65185  4.312171e+06  2870.36580\n",
       "       d      329016.90980  4.312158e+06  2868.59560\n",
       "       ue     329005.87765  4.312190e+06  2870.70875\n",
       "       uw     328983.59905  4.312165e+06  2869.09490\n",
       "15     c      329002.72120  4.312171e+06  2875.37755\n",
       "20     c      329002.80045  4.312171e+06  2880.25445"
      ]
     },
     "execution_count": 22,
     "metadata": {},
     "output_type": "execute_result"
    }
   ],
   "source": [
    "instrument_loc_df = pd.read_csv(\"~/Development/data/sublimationofsnow/SOSm.txt\", names = ['ec', 'x', 'y', 'z'])\n",
    "instrument_loc_df = instrument_loc_df[ \n",
    "    instrument_loc_df['ec'].str.startswith('CS')\n",
    "    |\n",
    "    instrument_loc_df['ec'].str.startswith('DS') \n",
    "    |\n",
    "    instrument_loc_df['ec'].str.startswith('UWS') \n",
    "    |\n",
    "    instrument_loc_df['ec'].str.startswith('UES') \n",
    "]\n",
    "instrument_loc_df = instrument_loc_df[ \n",
    "    instrument_loc_df['ec'].str.endswith('T') \n",
    "    |\n",
    "    instrument_loc_df['ec'].str.endswith('B') \n",
    "]\n",
    "instrument_loc_df['top or bottom'] = instrument_loc_df['ec'].str[-1]\n",
    "instrument_loc_df['tower'] = instrument_loc_df['ec'].apply(lambda str: str.split('S')[0].lower())\n",
    "instrument_loc_df['height'] = instrument_loc_df['ec'].apply(lambda str: int(str.split('S')[1][:-1]))\n",
    "instrument_loc_df = instrument_loc_df.drop(columns='ec')\n",
    "instrument_loc_df = instrument_loc_df.pivot(index=['height', 'tower'], columns='top or bottom').reset_index()\n",
    "instrument_loc_df = instrument_loc_df.set_index(['height', 'tower']).groupby(level=0, axis=1).mean()\n",
    "instrument_loc_df"
   ]
  },
  {
   "cell_type": "code",
   "execution_count": 23,
   "metadata": {},
   "outputs": [],
   "source": [
    "import geopandas as gpd\n",
    "gpd.GeoDataFrame(\n",
    "    geometry=gpd.points_from_xy(\n",
    "        instrument_loc_df.loc[3].x,\n",
    "        instrument_loc_df.loc[3].y\n",
    "    ),\n",
    "    crs='EPSG:32613'\n",
    ").to_file(\"~/Downloads/tower_locs.geojson\")"
   ]
  },
  {
   "cell_type": "markdown",
   "metadata": {},
   "source": [
    "## Wind field measurements"
   ]
  },
  {
   "cell_type": "code",
   "execution_count": 24,
   "metadata": {},
   "outputs": [
    {
     "data": {
      "text/html": [
       "<div>\n",
       "<style scoped>\n",
       "    .dataframe tbody tr th:only-of-type {\n",
       "        vertical-align: middle;\n",
       "    }\n",
       "\n",
       "    .dataframe tbody tr th {\n",
       "        vertical-align: top;\n",
       "    }\n",
       "\n",
       "    .dataframe thead tr th {\n",
       "        text-align: left;\n",
       "    }\n",
       "\n",
       "    .dataframe thead tr:last-of-type th {\n",
       "        text-align: right;\n",
       "    }\n",
       "</style>\n",
       "<table border=\"1\" class=\"dataframe\">\n",
       "  <thead>\n",
       "    <tr>\n",
       "      <th>height</th>\n",
       "      <th colspan=\"10\" halign=\"left\">1.0</th>\n",
       "      <th>...</th>\n",
       "      <th colspan=\"10\" halign=\"left\">10.0</th>\n",
       "    </tr>\n",
       "    <tr>\n",
       "      <th>tower</th>\n",
       "      <th colspan=\"3\" halign=\"left\">c</th>\n",
       "      <th colspan=\"3\" halign=\"left\">d</th>\n",
       "      <th colspan=\"3\" halign=\"left\">ue</th>\n",
       "      <th>uw</th>\n",
       "      <th>...</th>\n",
       "      <th>c</th>\n",
       "      <th colspan=\"3\" halign=\"left\">d</th>\n",
       "      <th colspan=\"3\" halign=\"left\">ue</th>\n",
       "      <th colspan=\"3\" halign=\"left\">uw</th>\n",
       "    </tr>\n",
       "    <tr>\n",
       "      <th>measurement</th>\n",
       "      <th>u</th>\n",
       "      <th>v</th>\n",
       "      <th>w</th>\n",
       "      <th>u</th>\n",
       "      <th>v</th>\n",
       "      <th>w</th>\n",
       "      <th>u</th>\n",
       "      <th>v</th>\n",
       "      <th>w</th>\n",
       "      <th>u</th>\n",
       "      <th>...</th>\n",
       "      <th>w</th>\n",
       "      <th>u</th>\n",
       "      <th>v</th>\n",
       "      <th>w</th>\n",
       "      <th>u</th>\n",
       "      <th>v</th>\n",
       "      <th>w</th>\n",
       "      <th>u</th>\n",
       "      <th>v</th>\n",
       "      <th>w</th>\n",
       "    </tr>\n",
       "    <tr>\n",
       "      <th>time</th>\n",
       "      <th></th>\n",
       "      <th></th>\n",
       "      <th></th>\n",
       "      <th></th>\n",
       "      <th></th>\n",
       "      <th></th>\n",
       "      <th></th>\n",
       "      <th></th>\n",
       "      <th></th>\n",
       "      <th></th>\n",
       "      <th></th>\n",
       "      <th></th>\n",
       "      <th></th>\n",
       "      <th></th>\n",
       "      <th></th>\n",
       "      <th></th>\n",
       "      <th></th>\n",
       "      <th></th>\n",
       "      <th></th>\n",
       "      <th></th>\n",
       "      <th></th>\n",
       "    </tr>\n",
       "  </thead>\n",
       "  <tbody>\n",
       "    <tr>\n",
       "      <th>2022-11-01 00:00:00</th>\n",
       "      <td>0.0866</td>\n",
       "      <td>-0.6911</td>\n",
       "      <td>0.0403</td>\n",
       "      <td>0.0367</td>\n",
       "      <td>-0.7525</td>\n",
       "      <td>0.0306</td>\n",
       "      <td>0.0443</td>\n",
       "      <td>-0.6557</td>\n",
       "      <td>0.0279</td>\n",
       "      <td>-0.0319</td>\n",
       "      <td>...</td>\n",
       "      <td>-0.0164</td>\n",
       "      <td>0.4101</td>\n",
       "      <td>-0.2789</td>\n",
       "      <td>0.0766</td>\n",
       "      <td>0.2659</td>\n",
       "      <td>-0.1333</td>\n",
       "      <td>0.0322</td>\n",
       "      <td>0.4170</td>\n",
       "      <td>-0.3487</td>\n",
       "      <td>0.0207</td>\n",
       "    </tr>\n",
       "    <tr>\n",
       "      <th>2022-11-01 00:30:00</th>\n",
       "      <td>0.5442</td>\n",
       "      <td>-1.6472</td>\n",
       "      <td>0.0165</td>\n",
       "      <td>0.5243</td>\n",
       "      <td>-1.4512</td>\n",
       "      <td>0.0057</td>\n",
       "      <td>0.4870</td>\n",
       "      <td>-1.5875</td>\n",
       "      <td>0.0260</td>\n",
       "      <td>-0.0001</td>\n",
       "      <td>...</td>\n",
       "      <td>-0.0400</td>\n",
       "      <td>1.9956</td>\n",
       "      <td>-1.7328</td>\n",
       "      <td>0.0705</td>\n",
       "      <td>1.7226</td>\n",
       "      <td>-1.8312</td>\n",
       "      <td>0.0013</td>\n",
       "      <td>1.4679</td>\n",
       "      <td>-2.1716</td>\n",
       "      <td>0.0203</td>\n",
       "    </tr>\n",
       "    <tr>\n",
       "      <th>2022-11-01 01:00:00</th>\n",
       "      <td>0.5346</td>\n",
       "      <td>-0.8556</td>\n",
       "      <td>0.0226</td>\n",
       "      <td>0.4851</td>\n",
       "      <td>-0.7125</td>\n",
       "      <td>0.0138</td>\n",
       "      <td>0.4988</td>\n",
       "      <td>-0.7829</td>\n",
       "      <td>0.0229</td>\n",
       "      <td>0.0892</td>\n",
       "      <td>...</td>\n",
       "      <td>-0.0516</td>\n",
       "      <td>1.8366</td>\n",
       "      <td>-1.0534</td>\n",
       "      <td>0.0421</td>\n",
       "      <td>1.6725</td>\n",
       "      <td>-1.1872</td>\n",
       "      <td>0.0146</td>\n",
       "      <td>1.4775</td>\n",
       "      <td>-1.5447</td>\n",
       "      <td>-0.0152</td>\n",
       "    </tr>\n",
       "    <tr>\n",
       "      <th>2022-11-01 01:30:00</th>\n",
       "      <td>0.9003</td>\n",
       "      <td>-1.4850</td>\n",
       "      <td>0.0114</td>\n",
       "      <td>0.8566</td>\n",
       "      <td>-1.2743</td>\n",
       "      <td>0.0143</td>\n",
       "      <td>0.8837</td>\n",
       "      <td>-1.2988</td>\n",
       "      <td>0.0058</td>\n",
       "      <td>0.1967</td>\n",
       "      <td>...</td>\n",
       "      <td>-0.1158</td>\n",
       "      <td>1.9837</td>\n",
       "      <td>-1.4110</td>\n",
       "      <td>0.0068</td>\n",
       "      <td>1.7847</td>\n",
       "      <td>-1.4233</td>\n",
       "      <td>-0.0723</td>\n",
       "      <td>1.5770</td>\n",
       "      <td>-1.9732</td>\n",
       "      <td>-0.0553</td>\n",
       "    </tr>\n",
       "    <tr>\n",
       "      <th>2022-11-01 02:00:00</th>\n",
       "      <td>0.9737</td>\n",
       "      <td>-1.7045</td>\n",
       "      <td>0.0086</td>\n",
       "      <td>1.0091</td>\n",
       "      <td>-1.5010</td>\n",
       "      <td>0.0028</td>\n",
       "      <td>0.9485</td>\n",
       "      <td>-1.5199</td>\n",
       "      <td>0.0087</td>\n",
       "      <td>0.1894</td>\n",
       "      <td>...</td>\n",
       "      <td>-0.1367</td>\n",
       "      <td>2.1558</td>\n",
       "      <td>-1.7670</td>\n",
       "      <td>-0.0164</td>\n",
       "      <td>1.9923</td>\n",
       "      <td>-1.8656</td>\n",
       "      <td>-0.1139</td>\n",
       "      <td>1.6969</td>\n",
       "      <td>-2.4584</td>\n",
       "      <td>-0.0885</td>\n",
       "    </tr>\n",
       "    <tr>\n",
       "      <th>...</th>\n",
       "      <td>...</td>\n",
       "      <td>...</td>\n",
       "      <td>...</td>\n",
       "      <td>...</td>\n",
       "      <td>...</td>\n",
       "      <td>...</td>\n",
       "      <td>...</td>\n",
       "      <td>...</td>\n",
       "      <td>...</td>\n",
       "      <td>...</td>\n",
       "      <td>...</td>\n",
       "      <td>...</td>\n",
       "      <td>...</td>\n",
       "      <td>...</td>\n",
       "      <td>...</td>\n",
       "      <td>...</td>\n",
       "      <td>...</td>\n",
       "      <td>...</td>\n",
       "      <td>...</td>\n",
       "      <td>...</td>\n",
       "      <td>...</td>\n",
       "    </tr>\n",
       "    <tr>\n",
       "      <th>2023-06-19 15:30:00</th>\n",
       "      <td>0.0975</td>\n",
       "      <td>-1.1206</td>\n",
       "      <td>-0.0203</td>\n",
       "      <td>0.0664</td>\n",
       "      <td>-0.8292</td>\n",
       "      <td>0.0276</td>\n",
       "      <td>0.1215</td>\n",
       "      <td>-0.8971</td>\n",
       "      <td>-0.0109</td>\n",
       "      <td>-0.1335</td>\n",
       "      <td>...</td>\n",
       "      <td>-0.0979</td>\n",
       "      <td>0.4159</td>\n",
       "      <td>-1.4596</td>\n",
       "      <td>0.0147</td>\n",
       "      <td>0.4202</td>\n",
       "      <td>-1.3950</td>\n",
       "      <td>-0.0713</td>\n",
       "      <td>-0.0500</td>\n",
       "      <td>-1.6622</td>\n",
       "      <td>-0.1227</td>\n",
       "    </tr>\n",
       "    <tr>\n",
       "      <th>2023-06-19 16:00:00</th>\n",
       "      <td>1.9466</td>\n",
       "      <td>-2.1961</td>\n",
       "      <td>-0.0346</td>\n",
       "      <td>1.5297</td>\n",
       "      <td>-1.5743</td>\n",
       "      <td>-0.0217</td>\n",
       "      <td>1.8683</td>\n",
       "      <td>-1.9187</td>\n",
       "      <td>-0.0058</td>\n",
       "      <td>1.0617</td>\n",
       "      <td>...</td>\n",
       "      <td>-0.1131</td>\n",
       "      <td>3.4905</td>\n",
       "      <td>-2.9132</td>\n",
       "      <td>-0.0238</td>\n",
       "      <td>3.3054</td>\n",
       "      <td>-3.2433</td>\n",
       "      <td>-0.0377</td>\n",
       "      <td>2.5994</td>\n",
       "      <td>-3.7503</td>\n",
       "      <td>0.0077</td>\n",
       "    </tr>\n",
       "    <tr>\n",
       "      <th>2023-06-19 16:30:00</th>\n",
       "      <td>1.2121</td>\n",
       "      <td>-2.0250</td>\n",
       "      <td>-0.0282</td>\n",
       "      <td>0.9903</td>\n",
       "      <td>-1.5651</td>\n",
       "      <td>-0.0179</td>\n",
       "      <td>1.2014</td>\n",
       "      <td>-1.6947</td>\n",
       "      <td>-0.0065</td>\n",
       "      <td>0.5533</td>\n",
       "      <td>...</td>\n",
       "      <td>-0.1165</td>\n",
       "      <td>2.4094</td>\n",
       "      <td>-2.7975</td>\n",
       "      <td>-0.0192</td>\n",
       "      <td>2.0965</td>\n",
       "      <td>-2.9158</td>\n",
       "      <td>-0.0555</td>\n",
       "      <td>1.5916</td>\n",
       "      <td>-3.4580</td>\n",
       "      <td>-0.0512</td>\n",
       "    </tr>\n",
       "    <tr>\n",
       "      <th>2023-06-19 17:00:00</th>\n",
       "      <td>1.8889</td>\n",
       "      <td>-1.7773</td>\n",
       "      <td>-0.0402</td>\n",
       "      <td>1.5128</td>\n",
       "      <td>-1.2574</td>\n",
       "      <td>-0.0222</td>\n",
       "      <td>1.7471</td>\n",
       "      <td>-1.5138</td>\n",
       "      <td>-0.0102</td>\n",
       "      <td>1.0731</td>\n",
       "      <td>...</td>\n",
       "      <td>-0.1250</td>\n",
       "      <td>3.3336</td>\n",
       "      <td>-2.3292</td>\n",
       "      <td>-0.0131</td>\n",
       "      <td>3.0597</td>\n",
       "      <td>-2.6145</td>\n",
       "      <td>-0.0487</td>\n",
       "      <td>2.5732</td>\n",
       "      <td>-3.1588</td>\n",
       "      <td>-0.0278</td>\n",
       "    </tr>\n",
       "    <tr>\n",
       "      <th>2023-06-19 17:30:00</th>\n",
       "      <td>0.4290</td>\n",
       "      <td>-1.8166</td>\n",
       "      <td>-0.0092</td>\n",
       "      <td>0.4020</td>\n",
       "      <td>-1.3603</td>\n",
       "      <td>-0.0006</td>\n",
       "      <td>0.3289</td>\n",
       "      <td>-1.5561</td>\n",
       "      <td>-0.0121</td>\n",
       "      <td>-0.0056</td>\n",
       "      <td>...</td>\n",
       "      <td>-0.0889</td>\n",
       "      <td>0.9394</td>\n",
       "      <td>-2.5932</td>\n",
       "      <td>0.0327</td>\n",
       "      <td>0.5646</td>\n",
       "      <td>-2.7326</td>\n",
       "      <td>0.0441</td>\n",
       "      <td>0.1754</td>\n",
       "      <td>-2.8818</td>\n",
       "      <td>-0.0804</td>\n",
       "    </tr>\n",
       "  </tbody>\n",
       "</table>\n",
       "<p>10835 rows × 36 columns</p>\n",
       "</div>"
      ],
      "text/plain": [
       "height                 1.0                                                   \\\n",
       "tower                     c                       d                      ue   \n",
       "measurement               u       v       w       u       v       w       u   \n",
       "time                                                                          \n",
       "2022-11-01 00:00:00  0.0866 -0.6911  0.0403  0.0367 -0.7525  0.0306  0.0443   \n",
       "2022-11-01 00:30:00  0.5442 -1.6472  0.0165  0.5243 -1.4512  0.0057  0.4870   \n",
       "2022-11-01 01:00:00  0.5346 -0.8556  0.0226  0.4851 -0.7125  0.0138  0.4988   \n",
       "2022-11-01 01:30:00  0.9003 -1.4850  0.0114  0.8566 -1.2743  0.0143  0.8837   \n",
       "2022-11-01 02:00:00  0.9737 -1.7045  0.0086  1.0091 -1.5010  0.0028  0.9485   \n",
       "...                     ...     ...     ...     ...     ...     ...     ...   \n",
       "2023-06-19 15:30:00  0.0975 -1.1206 -0.0203  0.0664 -0.8292  0.0276  0.1215   \n",
       "2023-06-19 16:00:00  1.9466 -2.1961 -0.0346  1.5297 -1.5743 -0.0217  1.8683   \n",
       "2023-06-19 16:30:00  1.2121 -2.0250 -0.0282  0.9903 -1.5651 -0.0179  1.2014   \n",
       "2023-06-19 17:00:00  1.8889 -1.7773 -0.0402  1.5128 -1.2574 -0.0222  1.7471   \n",
       "2023-06-19 17:30:00  0.4290 -1.8166 -0.0092  0.4020 -1.3603 -0.0006  0.3289   \n",
       "\n",
       "height                                       ...    10.0                  \\\n",
       "tower                                    uw  ...       c       d           \n",
       "measurement               v       w       u  ...       w       u       v   \n",
       "time                                         ...                           \n",
       "2022-11-01 00:00:00 -0.6557  0.0279 -0.0319  ... -0.0164  0.4101 -0.2789   \n",
       "2022-11-01 00:30:00 -1.5875  0.0260 -0.0001  ... -0.0400  1.9956 -1.7328   \n",
       "2022-11-01 01:00:00 -0.7829  0.0229  0.0892  ... -0.0516  1.8366 -1.0534   \n",
       "2022-11-01 01:30:00 -1.2988  0.0058  0.1967  ... -0.1158  1.9837 -1.4110   \n",
       "2022-11-01 02:00:00 -1.5199  0.0087  0.1894  ... -0.1367  2.1558 -1.7670   \n",
       "...                     ...     ...     ...  ...     ...     ...     ...   \n",
       "2023-06-19 15:30:00 -0.8971 -0.0109 -0.1335  ... -0.0979  0.4159 -1.4596   \n",
       "2023-06-19 16:00:00 -1.9187 -0.0058  1.0617  ... -0.1131  3.4905 -2.9132   \n",
       "2023-06-19 16:30:00 -1.6947 -0.0065  0.5533  ... -0.1165  2.4094 -2.7975   \n",
       "2023-06-19 17:00:00 -1.5138 -0.0102  1.0731  ... -0.1250  3.3336 -2.3292   \n",
       "2023-06-19 17:30:00 -1.5561 -0.0121 -0.0056  ... -0.0889  0.9394 -2.5932   \n",
       "\n",
       "height                                                                       \n",
       "tower                            ue                      uw                  \n",
       "measurement               w       u       v       w       u       v       w  \n",
       "time                                                                         \n",
       "2022-11-01 00:00:00  0.0766  0.2659 -0.1333  0.0322  0.4170 -0.3487  0.0207  \n",
       "2022-11-01 00:30:00  0.0705  1.7226 -1.8312  0.0013  1.4679 -2.1716  0.0203  \n",
       "2022-11-01 01:00:00  0.0421  1.6725 -1.1872  0.0146  1.4775 -1.5447 -0.0152  \n",
       "2022-11-01 01:30:00  0.0068  1.7847 -1.4233 -0.0723  1.5770 -1.9732 -0.0553  \n",
       "2022-11-01 02:00:00 -0.0164  1.9923 -1.8656 -0.1139  1.6969 -2.4584 -0.0885  \n",
       "...                     ...     ...     ...     ...     ...     ...     ...  \n",
       "2023-06-19 15:30:00  0.0147  0.4202 -1.3950 -0.0713 -0.0500 -1.6622 -0.1227  \n",
       "2023-06-19 16:00:00 -0.0238  3.3054 -3.2433 -0.0377  2.5994 -3.7503  0.0077  \n",
       "2023-06-19 16:30:00 -0.0192  2.0965 -2.9158 -0.0555  1.5916 -3.4580 -0.0512  \n",
       "2023-06-19 17:00:00 -0.0131  3.0597 -2.6145 -0.0487  2.5732 -3.1588 -0.0278  \n",
       "2023-06-19 17:30:00  0.0327  0.5646 -2.7326  0.0441  0.1754 -2.8818 -0.0804  \n",
       "\n",
       "[10835 rows x 36 columns]"
      ]
     },
     "execution_count": 24,
     "metadata": {},
     "output_type": "execute_result"
    }
   ],
   "source": [
    "wind_field_df = tidy_df[tidy_df.measurement.isin(['u','v','w']) & tidy_df.height.isin(HEIGHTS)]\n",
    "wind_field_df = round(wind_field_df.pivot_table(index='time', columns=['height', 'tower', 'measurement'], values='value'), 4)\n",
    "wind_field_df"
   ]
  },
  {
   "cell_type": "markdown",
   "metadata": {},
   "source": [
    "## Turbulent water vapor flux measurements"
   ]
  },
  {
   "cell_type": "code",
   "execution_count": 25,
   "metadata": {},
   "outputs": [
    {
     "data": {
      "text/html": [
       "<div>\n",
       "<style scoped>\n",
       "    .dataframe tbody tr th:only-of-type {\n",
       "        vertical-align: middle;\n",
       "    }\n",
       "\n",
       "    .dataframe tbody tr th {\n",
       "        vertical-align: top;\n",
       "    }\n",
       "\n",
       "    .dataframe thead tr th {\n",
       "        text-align: left;\n",
       "    }\n",
       "\n",
       "    .dataframe thead tr:last-of-type th {\n",
       "        text-align: right;\n",
       "    }\n",
       "</style>\n",
       "<table border=\"1\" class=\"dataframe\">\n",
       "  <thead>\n",
       "    <tr>\n",
       "      <th>height</th>\n",
       "      <th colspan=\"10\" halign=\"left\">1.0</th>\n",
       "      <th>...</th>\n",
       "      <th colspan=\"10\" halign=\"left\">10.0</th>\n",
       "    </tr>\n",
       "    <tr>\n",
       "      <th>tower</th>\n",
       "      <th colspan=\"3\" halign=\"left\">c</th>\n",
       "      <th colspan=\"3\" halign=\"left\">d</th>\n",
       "      <th colspan=\"3\" halign=\"left\">ue</th>\n",
       "      <th>uw</th>\n",
       "      <th>...</th>\n",
       "      <th>c</th>\n",
       "      <th colspan=\"3\" halign=\"left\">d</th>\n",
       "      <th colspan=\"3\" halign=\"left\">ue</th>\n",
       "      <th colspan=\"3\" halign=\"left\">uw</th>\n",
       "    </tr>\n",
       "    <tr>\n",
       "      <th>measurement</th>\n",
       "      <th>u_h2o_</th>\n",
       "      <th>v_h2o_</th>\n",
       "      <th>w_h2o_</th>\n",
       "      <th>u_h2o_</th>\n",
       "      <th>v_h2o_</th>\n",
       "      <th>w_h2o_</th>\n",
       "      <th>u_h2o_</th>\n",
       "      <th>v_h2o_</th>\n",
       "      <th>w_h2o_</th>\n",
       "      <th>u_h2o_</th>\n",
       "      <th>...</th>\n",
       "      <th>w_h2o_</th>\n",
       "      <th>u_h2o_</th>\n",
       "      <th>v_h2o_</th>\n",
       "      <th>w_h2o_</th>\n",
       "      <th>u_h2o_</th>\n",
       "      <th>v_h2o_</th>\n",
       "      <th>w_h2o_</th>\n",
       "      <th>u_h2o_</th>\n",
       "      <th>v_h2o_</th>\n",
       "      <th>w_h2o_</th>\n",
       "    </tr>\n",
       "    <tr>\n",
       "      <th>time</th>\n",
       "      <th></th>\n",
       "      <th></th>\n",
       "      <th></th>\n",
       "      <th></th>\n",
       "      <th></th>\n",
       "      <th></th>\n",
       "      <th></th>\n",
       "      <th></th>\n",
       "      <th></th>\n",
       "      <th></th>\n",
       "      <th></th>\n",
       "      <th></th>\n",
       "      <th></th>\n",
       "      <th></th>\n",
       "      <th></th>\n",
       "      <th></th>\n",
       "      <th></th>\n",
       "      <th></th>\n",
       "      <th></th>\n",
       "      <th></th>\n",
       "      <th></th>\n",
       "    </tr>\n",
       "  </thead>\n",
       "  <tbody>\n",
       "    <tr>\n",
       "      <th>2022-11-01 00:00:00</th>\n",
       "      <td>-0.0024</td>\n",
       "      <td>-0.0017</td>\n",
       "      <td>-0.0002</td>\n",
       "      <td>0.0022</td>\n",
       "      <td>-0.0041</td>\n",
       "      <td>-0.0001</td>\n",
       "      <td>-0.0014</td>\n",
       "      <td>-0.0012</td>\n",
       "      <td>-0.0001</td>\n",
       "      <td>0.0011</td>\n",
       "      <td>...</td>\n",
       "      <td>-0.0018</td>\n",
       "      <td>0.0056</td>\n",
       "      <td>0.0038</td>\n",
       "      <td>-0.0012</td>\n",
       "      <td>0.0062</td>\n",
       "      <td>0.0114</td>\n",
       "      <td>-0.0013</td>\n",
       "      <td>0.0021</td>\n",
       "      <td>0.0031</td>\n",
       "      <td>-0.0002</td>\n",
       "    </tr>\n",
       "    <tr>\n",
       "      <th>2022-11-01 00:30:00</th>\n",
       "      <td>0.0064</td>\n",
       "      <td>-0.0000</td>\n",
       "      <td>-0.0005</td>\n",
       "      <td>0.0044</td>\n",
       "      <td>-0.0008</td>\n",
       "      <td>-0.0002</td>\n",
       "      <td>0.0071</td>\n",
       "      <td>0.0035</td>\n",
       "      <td>-0.0002</td>\n",
       "      <td>-0.0030</td>\n",
       "      <td>...</td>\n",
       "      <td>-0.0003</td>\n",
       "      <td>-0.0037</td>\n",
       "      <td>0.0043</td>\n",
       "      <td>-0.0002</td>\n",
       "      <td>-0.0089</td>\n",
       "      <td>0.0163</td>\n",
       "      <td>-0.0004</td>\n",
       "      <td>-0.0030</td>\n",
       "      <td>0.0064</td>\n",
       "      <td>-0.0003</td>\n",
       "    </tr>\n",
       "    <tr>\n",
       "      <th>2022-11-01 01:00:00</th>\n",
       "      <td>0.0007</td>\n",
       "      <td>-0.0005</td>\n",
       "      <td>-0.0005</td>\n",
       "      <td>-0.0001</td>\n",
       "      <td>-0.0002</td>\n",
       "      <td>-0.0004</td>\n",
       "      <td>0.0020</td>\n",
       "      <td>0.0033</td>\n",
       "      <td>-0.0003</td>\n",
       "      <td>-0.0000</td>\n",
       "      <td>...</td>\n",
       "      <td>-0.0012</td>\n",
       "      <td>0.0053</td>\n",
       "      <td>-0.0015</td>\n",
       "      <td>-0.0004</td>\n",
       "      <td>0.0078</td>\n",
       "      <td>0.0003</td>\n",
       "      <td>-0.0010</td>\n",
       "      <td>0.0071</td>\n",
       "      <td>-0.0062</td>\n",
       "      <td>-0.0009</td>\n",
       "    </tr>\n",
       "    <tr>\n",
       "      <th>2022-11-01 01:30:00</th>\n",
       "      <td>-0.0002</td>\n",
       "      <td>-0.0015</td>\n",
       "      <td>-0.0007</td>\n",
       "      <td>0.0001</td>\n",
       "      <td>-0.0021</td>\n",
       "      <td>-0.0005</td>\n",
       "      <td>0.0004</td>\n",
       "      <td>-0.0005</td>\n",
       "      <td>-0.0004</td>\n",
       "      <td>-0.0001</td>\n",
       "      <td>...</td>\n",
       "      <td>-0.0005</td>\n",
       "      <td>0.0009</td>\n",
       "      <td>0.0006</td>\n",
       "      <td>-0.0003</td>\n",
       "      <td>0.0037</td>\n",
       "      <td>-0.0014</td>\n",
       "      <td>-0.0003</td>\n",
       "      <td>0.0004</td>\n",
       "      <td>0.0015</td>\n",
       "      <td>-0.0005</td>\n",
       "    </tr>\n",
       "    <tr>\n",
       "      <th>2022-11-01 02:00:00</th>\n",
       "      <td>0.0015</td>\n",
       "      <td>-0.0078</td>\n",
       "      <td>-0.0010</td>\n",
       "      <td>0.0023</td>\n",
       "      <td>-0.0086</td>\n",
       "      <td>-0.0007</td>\n",
       "      <td>0.0045</td>\n",
       "      <td>-0.0046</td>\n",
       "      <td>-0.0007</td>\n",
       "      <td>-0.0053</td>\n",
       "      <td>...</td>\n",
       "      <td>-0.0015</td>\n",
       "      <td>0.0055</td>\n",
       "      <td>-0.0036</td>\n",
       "      <td>-0.0003</td>\n",
       "      <td>0.0128</td>\n",
       "      <td>-0.0085</td>\n",
       "      <td>-0.0012</td>\n",
       "      <td>0.0078</td>\n",
       "      <td>-0.0073</td>\n",
       "      <td>-0.0009</td>\n",
       "    </tr>\n",
       "    <tr>\n",
       "      <th>...</th>\n",
       "      <td>...</td>\n",
       "      <td>...</td>\n",
       "      <td>...</td>\n",
       "      <td>...</td>\n",
       "      <td>...</td>\n",
       "      <td>...</td>\n",
       "      <td>...</td>\n",
       "      <td>...</td>\n",
       "      <td>...</td>\n",
       "      <td>...</td>\n",
       "      <td>...</td>\n",
       "      <td>...</td>\n",
       "      <td>...</td>\n",
       "      <td>...</td>\n",
       "      <td>...</td>\n",
       "      <td>...</td>\n",
       "      <td>...</td>\n",
       "      <td>...</td>\n",
       "      <td>...</td>\n",
       "      <td>...</td>\n",
       "      <td>...</td>\n",
       "    </tr>\n",
       "    <tr>\n",
       "      <th>2023-06-19 15:30:00</th>\n",
       "      <td>0.1642</td>\n",
       "      <td>-0.1486</td>\n",
       "      <td>0.0992</td>\n",
       "      <td>0.0659</td>\n",
       "      <td>-0.1321</td>\n",
       "      <td>0.0863</td>\n",
       "      <td>-0.0605</td>\n",
       "      <td>-0.1906</td>\n",
       "      <td>0.1000</td>\n",
       "      <td>-0.0991</td>\n",
       "      <td>...</td>\n",
       "      <td>0.1608</td>\n",
       "      <td>0.0586</td>\n",
       "      <td>-0.1408</td>\n",
       "      <td>0.1389</td>\n",
       "      <td>0.0294</td>\n",
       "      <td>-0.2184</td>\n",
       "      <td>0.1361</td>\n",
       "      <td>0.0272</td>\n",
       "      <td>-0.1028</td>\n",
       "      <td>0.1122</td>\n",
       "    </tr>\n",
       "    <tr>\n",
       "      <th>2023-06-19 16:00:00</th>\n",
       "      <td>-0.0859</td>\n",
       "      <td>0.0397</td>\n",
       "      <td>0.0977</td>\n",
       "      <td>-0.1753</td>\n",
       "      <td>0.1004</td>\n",
       "      <td>0.0985</td>\n",
       "      <td>-0.0850</td>\n",
       "      <td>0.1358</td>\n",
       "      <td>0.1000</td>\n",
       "      <td>-0.1954</td>\n",
       "      <td>...</td>\n",
       "      <td>0.1264</td>\n",
       "      <td>-0.0117</td>\n",
       "      <td>0.0647</td>\n",
       "      <td>0.1152</td>\n",
       "      <td>-0.0033</td>\n",
       "      <td>0.0404</td>\n",
       "      <td>0.1120</td>\n",
       "      <td>-0.0442</td>\n",
       "      <td>0.1329</td>\n",
       "      <td>0.1263</td>\n",
       "    </tr>\n",
       "    <tr>\n",
       "      <th>2023-06-19 16:30:00</th>\n",
       "      <td>0.0102</td>\n",
       "      <td>0.1013</td>\n",
       "      <td>0.0926</td>\n",
       "      <td>-0.0608</td>\n",
       "      <td>0.1004</td>\n",
       "      <td>0.0755</td>\n",
       "      <td>-0.0850</td>\n",
       "      <td>0.0444</td>\n",
       "      <td>0.0976</td>\n",
       "      <td>-0.1120</td>\n",
       "      <td>...</td>\n",
       "      <td>0.1479</td>\n",
       "      <td>-0.0482</td>\n",
       "      <td>0.1745</td>\n",
       "      <td>0.0940</td>\n",
       "      <td>0.0121</td>\n",
       "      <td>0.1621</td>\n",
       "      <td>0.1093</td>\n",
       "      <td>-0.0157</td>\n",
       "      <td>0.0791</td>\n",
       "      <td>0.1017</td>\n",
       "    </tr>\n",
       "    <tr>\n",
       "      <th>2023-06-19 17:00:00</th>\n",
       "      <td>-0.0234</td>\n",
       "      <td>-0.0696</td>\n",
       "      <td>0.0769</td>\n",
       "      <td>-0.1371</td>\n",
       "      <td>-0.0346</td>\n",
       "      <td>0.0645</td>\n",
       "      <td>-0.0613</td>\n",
       "      <td>-0.0686</td>\n",
       "      <td>0.0730</td>\n",
       "      <td>-0.1378</td>\n",
       "      <td>...</td>\n",
       "      <td>0.0966</td>\n",
       "      <td>0.0327</td>\n",
       "      <td>-0.1032</td>\n",
       "      <td>0.0970</td>\n",
       "      <td>0.0463</td>\n",
       "      <td>-0.0642</td>\n",
       "      <td>0.1068</td>\n",
       "      <td>0.0623</td>\n",
       "      <td>-0.0521</td>\n",
       "      <td>0.1032</td>\n",
       "    </tr>\n",
       "    <tr>\n",
       "      <th>2023-06-19 17:30:00</th>\n",
       "      <td>0.0744</td>\n",
       "      <td>0.0408</td>\n",
       "      <td>0.0617</td>\n",
       "      <td>-0.0337</td>\n",
       "      <td>0.0645</td>\n",
       "      <td>0.0610</td>\n",
       "      <td>0.0495</td>\n",
       "      <td>0.0915</td>\n",
       "      <td>0.0646</td>\n",
       "      <td>-0.0379</td>\n",
       "      <td>...</td>\n",
       "      <td>0.1030</td>\n",
       "      <td>-0.0059</td>\n",
       "      <td>0.0891</td>\n",
       "      <td>0.1015</td>\n",
       "      <td>0.0649</td>\n",
       "      <td>0.0907</td>\n",
       "      <td>0.1023</td>\n",
       "      <td>0.0857</td>\n",
       "      <td>0.0751</td>\n",
       "      <td>0.0875</td>\n",
       "    </tr>\n",
       "  </tbody>\n",
       "</table>\n",
       "<p>11074 rows × 36 columns</p>\n",
       "</div>"
      ],
      "text/plain": [
       "height                 1.0                                                   \\\n",
       "tower                     c                       d                      ue   \n",
       "measurement          u_h2o_  v_h2o_  w_h2o_  u_h2o_  v_h2o_  w_h2o_  u_h2o_   \n",
       "time                                                                          \n",
       "2022-11-01 00:00:00 -0.0024 -0.0017 -0.0002  0.0022 -0.0041 -0.0001 -0.0014   \n",
       "2022-11-01 00:30:00  0.0064 -0.0000 -0.0005  0.0044 -0.0008 -0.0002  0.0071   \n",
       "2022-11-01 01:00:00  0.0007 -0.0005 -0.0005 -0.0001 -0.0002 -0.0004  0.0020   \n",
       "2022-11-01 01:30:00 -0.0002 -0.0015 -0.0007  0.0001 -0.0021 -0.0005  0.0004   \n",
       "2022-11-01 02:00:00  0.0015 -0.0078 -0.0010  0.0023 -0.0086 -0.0007  0.0045   \n",
       "...                     ...     ...     ...     ...     ...     ...     ...   \n",
       "2023-06-19 15:30:00  0.1642 -0.1486  0.0992  0.0659 -0.1321  0.0863 -0.0605   \n",
       "2023-06-19 16:00:00 -0.0859  0.0397  0.0977 -0.1753  0.1004  0.0985 -0.0850   \n",
       "2023-06-19 16:30:00  0.0102  0.1013  0.0926 -0.0608  0.1004  0.0755 -0.0850   \n",
       "2023-06-19 17:00:00 -0.0234 -0.0696  0.0769 -0.1371 -0.0346  0.0645 -0.0613   \n",
       "2023-06-19 17:30:00  0.0744  0.0408  0.0617 -0.0337  0.0645  0.0610  0.0495   \n",
       "\n",
       "height                                       ...    10.0                  \\\n",
       "tower                                    uw  ...       c       d           \n",
       "measurement          v_h2o_  w_h2o_  u_h2o_  ...  w_h2o_  u_h2o_  v_h2o_   \n",
       "time                                         ...                           \n",
       "2022-11-01 00:00:00 -0.0012 -0.0001  0.0011  ... -0.0018  0.0056  0.0038   \n",
       "2022-11-01 00:30:00  0.0035 -0.0002 -0.0030  ... -0.0003 -0.0037  0.0043   \n",
       "2022-11-01 01:00:00  0.0033 -0.0003 -0.0000  ... -0.0012  0.0053 -0.0015   \n",
       "2022-11-01 01:30:00 -0.0005 -0.0004 -0.0001  ... -0.0005  0.0009  0.0006   \n",
       "2022-11-01 02:00:00 -0.0046 -0.0007 -0.0053  ... -0.0015  0.0055 -0.0036   \n",
       "...                     ...     ...     ...  ...     ...     ...     ...   \n",
       "2023-06-19 15:30:00 -0.1906  0.1000 -0.0991  ...  0.1608  0.0586 -0.1408   \n",
       "2023-06-19 16:00:00  0.1358  0.1000 -0.1954  ...  0.1264 -0.0117  0.0647   \n",
       "2023-06-19 16:30:00  0.0444  0.0976 -0.1120  ...  0.1479 -0.0482  0.1745   \n",
       "2023-06-19 17:00:00 -0.0686  0.0730 -0.1378  ...  0.0966  0.0327 -0.1032   \n",
       "2023-06-19 17:30:00  0.0915  0.0646 -0.0379  ...  0.1030 -0.0059  0.0891   \n",
       "\n",
       "height                                                                       \n",
       "tower                            ue                      uw                  \n",
       "measurement          w_h2o_  u_h2o_  v_h2o_  w_h2o_  u_h2o_  v_h2o_  w_h2o_  \n",
       "time                                                                         \n",
       "2022-11-01 00:00:00 -0.0012  0.0062  0.0114 -0.0013  0.0021  0.0031 -0.0002  \n",
       "2022-11-01 00:30:00 -0.0002 -0.0089  0.0163 -0.0004 -0.0030  0.0064 -0.0003  \n",
       "2022-11-01 01:00:00 -0.0004  0.0078  0.0003 -0.0010  0.0071 -0.0062 -0.0009  \n",
       "2022-11-01 01:30:00 -0.0003  0.0037 -0.0014 -0.0003  0.0004  0.0015 -0.0005  \n",
       "2022-11-01 02:00:00 -0.0003  0.0128 -0.0085 -0.0012  0.0078 -0.0073 -0.0009  \n",
       "...                     ...     ...     ...     ...     ...     ...     ...  \n",
       "2023-06-19 15:30:00  0.1389  0.0294 -0.2184  0.1361  0.0272 -0.1028  0.1122  \n",
       "2023-06-19 16:00:00  0.1152 -0.0033  0.0404  0.1120 -0.0442  0.1329  0.1263  \n",
       "2023-06-19 16:30:00  0.0940  0.0121  0.1621  0.1093 -0.0157  0.0791  0.1017  \n",
       "2023-06-19 17:00:00  0.0970  0.0463 -0.0642  0.1068  0.0623 -0.0521  0.1032  \n",
       "2023-06-19 17:30:00  0.1015  0.0649  0.0907  0.1023  0.0857  0.0751  0.0875  \n",
       "\n",
       "[11074 rows x 36 columns]"
      ]
     },
     "execution_count": 25,
     "metadata": {},
     "output_type": "execute_result"
    }
   ],
   "source": [
    "turb_flux_field_df = tidy_df[tidy_df.measurement.isin(['u_h2o_','v_h2o_','w_h2o_']) & tidy_df.height.isin(HEIGHTS)]\n",
    "turb_flux_field_df = round(turb_flux_field_df.pivot_table(index='time', columns=['height', 'tower', 'measurement'], values='value'), 4)\n",
    "turb_flux_field_df"
   ]
  },
  {
   "cell_type": "markdown",
   "metadata": {},
   "source": [
    "## Turbulent temperature flux measurements"
   ]
  },
  {
   "cell_type": "code",
   "execution_count": 26,
   "metadata": {},
   "outputs": [
    {
     "data": {
      "text/html": [
       "<div>\n",
       "<style scoped>\n",
       "    .dataframe tbody tr th:only-of-type {\n",
       "        vertical-align: middle;\n",
       "    }\n",
       "\n",
       "    .dataframe tbody tr th {\n",
       "        vertical-align: top;\n",
       "    }\n",
       "\n",
       "    .dataframe thead tr th {\n",
       "        text-align: left;\n",
       "    }\n",
       "\n",
       "    .dataframe thead tr:last-of-type th {\n",
       "        text-align: right;\n",
       "    }\n",
       "</style>\n",
       "<table border=\"1\" class=\"dataframe\">\n",
       "  <thead>\n",
       "    <tr>\n",
       "      <th>height</th>\n",
       "      <th colspan=\"10\" halign=\"left\">1.0</th>\n",
       "      <th>...</th>\n",
       "      <th colspan=\"10\" halign=\"left\">10.0</th>\n",
       "    </tr>\n",
       "    <tr>\n",
       "      <th>tower</th>\n",
       "      <th colspan=\"3\" halign=\"left\">c</th>\n",
       "      <th colspan=\"3\" halign=\"left\">d</th>\n",
       "      <th colspan=\"3\" halign=\"left\">ue</th>\n",
       "      <th>uw</th>\n",
       "      <th>...</th>\n",
       "      <th>c</th>\n",
       "      <th colspan=\"3\" halign=\"left\">d</th>\n",
       "      <th colspan=\"3\" halign=\"left\">ue</th>\n",
       "      <th colspan=\"3\" halign=\"left\">uw</th>\n",
       "    </tr>\n",
       "    <tr>\n",
       "      <th>measurement</th>\n",
       "      <th>u_tc_</th>\n",
       "      <th>v_tc_</th>\n",
       "      <th>w_tc_</th>\n",
       "      <th>u_tc_</th>\n",
       "      <th>v_tc_</th>\n",
       "      <th>w_tc_</th>\n",
       "      <th>u_tc_</th>\n",
       "      <th>v_tc_</th>\n",
       "      <th>w_tc_</th>\n",
       "      <th>u_tc_</th>\n",
       "      <th>...</th>\n",
       "      <th>w_tc_</th>\n",
       "      <th>u_tc_</th>\n",
       "      <th>v_tc_</th>\n",
       "      <th>w_tc_</th>\n",
       "      <th>u_tc_</th>\n",
       "      <th>v_tc_</th>\n",
       "      <th>w_tc_</th>\n",
       "      <th>u_tc_</th>\n",
       "      <th>v_tc_</th>\n",
       "      <th>w_tc_</th>\n",
       "    </tr>\n",
       "    <tr>\n",
       "      <th>time</th>\n",
       "      <th></th>\n",
       "      <th></th>\n",
       "      <th></th>\n",
       "      <th></th>\n",
       "      <th></th>\n",
       "      <th></th>\n",
       "      <th></th>\n",
       "      <th></th>\n",
       "      <th></th>\n",
       "      <th></th>\n",
       "      <th></th>\n",
       "      <th></th>\n",
       "      <th></th>\n",
       "      <th></th>\n",
       "      <th></th>\n",
       "      <th></th>\n",
       "      <th></th>\n",
       "      <th></th>\n",
       "      <th></th>\n",
       "      <th></th>\n",
       "      <th></th>\n",
       "    </tr>\n",
       "  </thead>\n",
       "  <tbody>\n",
       "    <tr>\n",
       "      <th>2022-11-01 00:00:00</th>\n",
       "      <td>-0.0144</td>\n",
       "      <td>0.0506</td>\n",
       "      <td>-0.0025</td>\n",
       "      <td>0.0782</td>\n",
       "      <td>-0.0485</td>\n",
       "      <td>-0.0058</td>\n",
       "      <td>-0.0347</td>\n",
       "      <td>0.0673</td>\n",
       "      <td>-0.0006</td>\n",
       "      <td>0.1241</td>\n",
       "      <td>...</td>\n",
       "      <td>0.0088</td>\n",
       "      <td>-0.0894</td>\n",
       "      <td>0.0553</td>\n",
       "      <td>0.0069</td>\n",
       "      <td>-0.1766</td>\n",
       "      <td>0.0248</td>\n",
       "      <td>0.0196</td>\n",
       "      <td>-0.0797</td>\n",
       "      <td>0.1353</td>\n",
       "      <td>-0.0071</td>\n",
       "    </tr>\n",
       "    <tr>\n",
       "      <th>2022-11-01 00:30:00</th>\n",
       "      <td>0.0023</td>\n",
       "      <td>0.0634</td>\n",
       "      <td>-0.0144</td>\n",
       "      <td>-0.0005</td>\n",
       "      <td>0.0169</td>\n",
       "      <td>-0.0120</td>\n",
       "      <td>0.0054</td>\n",
       "      <td>0.0438</td>\n",
       "      <td>-0.0078</td>\n",
       "      <td>-0.0557</td>\n",
       "      <td>...</td>\n",
       "      <td>0.0101</td>\n",
       "      <td>0.0071</td>\n",
       "      <td>-0.0487</td>\n",
       "      <td>0.0033</td>\n",
       "      <td>-0.0371</td>\n",
       "      <td>-0.1335</td>\n",
       "      <td>0.0087</td>\n",
       "      <td>-0.0500</td>\n",
       "      <td>0.0264</td>\n",
       "      <td>0.0140</td>\n",
       "    </tr>\n",
       "    <tr>\n",
       "      <th>2022-11-01 01:00:00</th>\n",
       "      <td>0.0194</td>\n",
       "      <td>0.0553</td>\n",
       "      <td>-0.0086</td>\n",
       "      <td>0.0183</td>\n",
       "      <td>0.0777</td>\n",
       "      <td>-0.0052</td>\n",
       "      <td>0.0267</td>\n",
       "      <td>0.0532</td>\n",
       "      <td>-0.0078</td>\n",
       "      <td>0.0763</td>\n",
       "      <td>...</td>\n",
       "      <td>0.0440</td>\n",
       "      <td>-0.1478</td>\n",
       "      <td>0.0345</td>\n",
       "      <td>0.0366</td>\n",
       "      <td>-0.1753</td>\n",
       "      <td>-0.0137</td>\n",
       "      <td>0.0328</td>\n",
       "      <td>-0.1135</td>\n",
       "      <td>0.0702</td>\n",
       "      <td>0.0374</td>\n",
       "    </tr>\n",
       "    <tr>\n",
       "      <th>2022-11-01 01:30:00</th>\n",
       "      <td>0.0064</td>\n",
       "      <td>-0.0403</td>\n",
       "      <td>-0.0125</td>\n",
       "      <td>0.0228</td>\n",
       "      <td>-0.0687</td>\n",
       "      <td>-0.0129</td>\n",
       "      <td>0.0052</td>\n",
       "      <td>-0.0348</td>\n",
       "      <td>-0.0120</td>\n",
       "      <td>0.0091</td>\n",
       "      <td>...</td>\n",
       "      <td>0.0064</td>\n",
       "      <td>-0.2841</td>\n",
       "      <td>0.1923</td>\n",
       "      <td>0.0089</td>\n",
       "      <td>-0.1702</td>\n",
       "      <td>0.1949</td>\n",
       "      <td>0.0121</td>\n",
       "      <td>-0.1902</td>\n",
       "      <td>0.2880</td>\n",
       "      <td>-0.0090</td>\n",
       "    </tr>\n",
       "    <tr>\n",
       "      <th>2022-11-01 02:00:00</th>\n",
       "      <td>0.0131</td>\n",
       "      <td>0.0094</td>\n",
       "      <td>-0.0123</td>\n",
       "      <td>0.0133</td>\n",
       "      <td>-0.0214</td>\n",
       "      <td>-0.0150</td>\n",
       "      <td>0.0268</td>\n",
       "      <td>0.0538</td>\n",
       "      <td>-0.0142</td>\n",
       "      <td>0.0197</td>\n",
       "      <td>...</td>\n",
       "      <td>0.0510</td>\n",
       "      <td>-0.2426</td>\n",
       "      <td>0.0943</td>\n",
       "      <td>0.0321</td>\n",
       "      <td>-0.4158</td>\n",
       "      <td>0.2685</td>\n",
       "      <td>0.0219</td>\n",
       "      <td>-0.1177</td>\n",
       "      <td>0.0901</td>\n",
       "      <td>-0.0044</td>\n",
       "    </tr>\n",
       "    <tr>\n",
       "      <th>...</th>\n",
       "      <td>...</td>\n",
       "      <td>...</td>\n",
       "      <td>...</td>\n",
       "      <td>...</td>\n",
       "      <td>...</td>\n",
       "      <td>...</td>\n",
       "      <td>...</td>\n",
       "      <td>...</td>\n",
       "      <td>...</td>\n",
       "      <td>...</td>\n",
       "      <td>...</td>\n",
       "      <td>...</td>\n",
       "      <td>...</td>\n",
       "      <td>...</td>\n",
       "      <td>...</td>\n",
       "      <td>...</td>\n",
       "      <td>...</td>\n",
       "      <td>...</td>\n",
       "      <td>...</td>\n",
       "      <td>...</td>\n",
       "      <td>...</td>\n",
       "    </tr>\n",
       "    <tr>\n",
       "      <th>2023-06-19 15:30:00</th>\n",
       "      <td>0.0932</td>\n",
       "      <td>-0.0075</td>\n",
       "      <td>0.1172</td>\n",
       "      <td>0.1735</td>\n",
       "      <td>-0.0488</td>\n",
       "      <td>0.0624</td>\n",
       "      <td>0.1551</td>\n",
       "      <td>-0.0277</td>\n",
       "      <td>0.0946</td>\n",
       "      <td>0.0003</td>\n",
       "      <td>...</td>\n",
       "      <td>0.1306</td>\n",
       "      <td>0.0139</td>\n",
       "      <td>-0.0256</td>\n",
       "      <td>0.1253</td>\n",
       "      <td>0.0034</td>\n",
       "      <td>-0.1039</td>\n",
       "      <td>0.1146</td>\n",
       "      <td>0.0183</td>\n",
       "      <td>-0.0699</td>\n",
       "      <td>0.1096</td>\n",
       "    </tr>\n",
       "    <tr>\n",
       "      <th>2023-06-19 16:00:00</th>\n",
       "      <td>-0.1570</td>\n",
       "      <td>0.1062</td>\n",
       "      <td>0.1090</td>\n",
       "      <td>-0.0873</td>\n",
       "      <td>0.0792</td>\n",
       "      <td>0.0542</td>\n",
       "      <td>-0.0643</td>\n",
       "      <td>0.2119</td>\n",
       "      <td>0.1036</td>\n",
       "      <td>-0.2039</td>\n",
       "      <td>...</td>\n",
       "      <td>0.1069</td>\n",
       "      <td>-0.0527</td>\n",
       "      <td>0.1209</td>\n",
       "      <td>0.1103</td>\n",
       "      <td>-0.0660</td>\n",
       "      <td>0.0983</td>\n",
       "      <td>0.0988</td>\n",
       "      <td>-0.0810</td>\n",
       "      <td>0.2126</td>\n",
       "      <td>0.1320</td>\n",
       "    </tr>\n",
       "    <tr>\n",
       "      <th>2023-06-19 16:30:00</th>\n",
       "      <td>0.0087</td>\n",
       "      <td>0.1552</td>\n",
       "      <td>0.0955</td>\n",
       "      <td>0.2008</td>\n",
       "      <td>0.1419</td>\n",
       "      <td>0.0210</td>\n",
       "      <td>0.1730</td>\n",
       "      <td>0.1866</td>\n",
       "      <td>0.0857</td>\n",
       "      <td>0.0285</td>\n",
       "      <td>...</td>\n",
       "      <td>0.1010</td>\n",
       "      <td>0.0802</td>\n",
       "      <td>0.2637</td>\n",
       "      <td>0.0741</td>\n",
       "      <td>0.1080</td>\n",
       "      <td>0.2188</td>\n",
       "      <td>0.0784</td>\n",
       "      <td>0.1102</td>\n",
       "      <td>0.1933</td>\n",
       "      <td>0.0946</td>\n",
       "    </tr>\n",
       "    <tr>\n",
       "      <th>2023-06-19 17:00:00</th>\n",
       "      <td>-0.0677</td>\n",
       "      <td>0.0465</td>\n",
       "      <td>0.0645</td>\n",
       "      <td>0.0606</td>\n",
       "      <td>-0.0133</td>\n",
       "      <td>0.0007</td>\n",
       "      <td>0.0731</td>\n",
       "      <td>0.0866</td>\n",
       "      <td>0.0561</td>\n",
       "      <td>-0.0770</td>\n",
       "      <td>...</td>\n",
       "      <td>0.0495</td>\n",
       "      <td>0.0285</td>\n",
       "      <td>0.0244</td>\n",
       "      <td>0.0638</td>\n",
       "      <td>0.0253</td>\n",
       "      <td>0.0505</td>\n",
       "      <td>0.0691</td>\n",
       "      <td>0.0530</td>\n",
       "      <td>0.0697</td>\n",
       "      <td>0.0720</td>\n",
       "    </tr>\n",
       "    <tr>\n",
       "      <th>2023-06-19 17:30:00</th>\n",
       "      <td>0.0081</td>\n",
       "      <td>0.0833</td>\n",
       "      <td>0.0463</td>\n",
       "      <td>0.0920</td>\n",
       "      <td>0.0981</td>\n",
       "      <td>-0.0080</td>\n",
       "      <td>0.0961</td>\n",
       "      <td>0.1416</td>\n",
       "      <td>0.0314</td>\n",
       "      <td>0.0425</td>\n",
       "      <td>...</td>\n",
       "      <td>0.0377</td>\n",
       "      <td>0.0142</td>\n",
       "      <td>0.0366</td>\n",
       "      <td>0.0395</td>\n",
       "      <td>0.0326</td>\n",
       "      <td>0.0418</td>\n",
       "      <td>0.0387</td>\n",
       "      <td>0.0380</td>\n",
       "      <td>0.0277</td>\n",
       "      <td>0.0448</td>\n",
       "    </tr>\n",
       "  </tbody>\n",
       "</table>\n",
       "<p>11074 rows × 36 columns</p>\n",
       "</div>"
      ],
      "text/plain": [
       "height                 1.0                                                   \\\n",
       "tower                     c                       d                      ue   \n",
       "measurement           u_tc_   v_tc_   w_tc_   u_tc_   v_tc_   w_tc_   u_tc_   \n",
       "time                                                                          \n",
       "2022-11-01 00:00:00 -0.0144  0.0506 -0.0025  0.0782 -0.0485 -0.0058 -0.0347   \n",
       "2022-11-01 00:30:00  0.0023  0.0634 -0.0144 -0.0005  0.0169 -0.0120  0.0054   \n",
       "2022-11-01 01:00:00  0.0194  0.0553 -0.0086  0.0183  0.0777 -0.0052  0.0267   \n",
       "2022-11-01 01:30:00  0.0064 -0.0403 -0.0125  0.0228 -0.0687 -0.0129  0.0052   \n",
       "2022-11-01 02:00:00  0.0131  0.0094 -0.0123  0.0133 -0.0214 -0.0150  0.0268   \n",
       "...                     ...     ...     ...     ...     ...     ...     ...   \n",
       "2023-06-19 15:30:00  0.0932 -0.0075  0.1172  0.1735 -0.0488  0.0624  0.1551   \n",
       "2023-06-19 16:00:00 -0.1570  0.1062  0.1090 -0.0873  0.0792  0.0542 -0.0643   \n",
       "2023-06-19 16:30:00  0.0087  0.1552  0.0955  0.2008  0.1419  0.0210  0.1730   \n",
       "2023-06-19 17:00:00 -0.0677  0.0465  0.0645  0.0606 -0.0133  0.0007  0.0731   \n",
       "2023-06-19 17:30:00  0.0081  0.0833  0.0463  0.0920  0.0981 -0.0080  0.0961   \n",
       "\n",
       "height                                       ...    10.0                  \\\n",
       "tower                                    uw  ...       c       d           \n",
       "measurement           v_tc_   w_tc_   u_tc_  ...   w_tc_   u_tc_   v_tc_   \n",
       "time                                         ...                           \n",
       "2022-11-01 00:00:00  0.0673 -0.0006  0.1241  ...  0.0088 -0.0894  0.0553   \n",
       "2022-11-01 00:30:00  0.0438 -0.0078 -0.0557  ...  0.0101  0.0071 -0.0487   \n",
       "2022-11-01 01:00:00  0.0532 -0.0078  0.0763  ...  0.0440 -0.1478  0.0345   \n",
       "2022-11-01 01:30:00 -0.0348 -0.0120  0.0091  ...  0.0064 -0.2841  0.1923   \n",
       "2022-11-01 02:00:00  0.0538 -0.0142  0.0197  ...  0.0510 -0.2426  0.0943   \n",
       "...                     ...     ...     ...  ...     ...     ...     ...   \n",
       "2023-06-19 15:30:00 -0.0277  0.0946  0.0003  ...  0.1306  0.0139 -0.0256   \n",
       "2023-06-19 16:00:00  0.2119  0.1036 -0.2039  ...  0.1069 -0.0527  0.1209   \n",
       "2023-06-19 16:30:00  0.1866  0.0857  0.0285  ...  0.1010  0.0802  0.2637   \n",
       "2023-06-19 17:00:00  0.0866  0.0561 -0.0770  ...  0.0495  0.0285  0.0244   \n",
       "2023-06-19 17:30:00  0.1416  0.0314  0.0425  ...  0.0377  0.0142  0.0366   \n",
       "\n",
       "height                                                                       \n",
       "tower                            ue                      uw                  \n",
       "measurement           w_tc_   u_tc_   v_tc_   w_tc_   u_tc_   v_tc_   w_tc_  \n",
       "time                                                                         \n",
       "2022-11-01 00:00:00  0.0069 -0.1766  0.0248  0.0196 -0.0797  0.1353 -0.0071  \n",
       "2022-11-01 00:30:00  0.0033 -0.0371 -0.1335  0.0087 -0.0500  0.0264  0.0140  \n",
       "2022-11-01 01:00:00  0.0366 -0.1753 -0.0137  0.0328 -0.1135  0.0702  0.0374  \n",
       "2022-11-01 01:30:00  0.0089 -0.1702  0.1949  0.0121 -0.1902  0.2880 -0.0090  \n",
       "2022-11-01 02:00:00  0.0321 -0.4158  0.2685  0.0219 -0.1177  0.0901 -0.0044  \n",
       "...                     ...     ...     ...     ...     ...     ...     ...  \n",
       "2023-06-19 15:30:00  0.1253  0.0034 -0.1039  0.1146  0.0183 -0.0699  0.1096  \n",
       "2023-06-19 16:00:00  0.1103 -0.0660  0.0983  0.0988 -0.0810  0.2126  0.1320  \n",
       "2023-06-19 16:30:00  0.0741  0.1080  0.2188  0.0784  0.1102  0.1933  0.0946  \n",
       "2023-06-19 17:00:00  0.0638  0.0253  0.0505  0.0691  0.0530  0.0697  0.0720  \n",
       "2023-06-19 17:30:00  0.0395  0.0326  0.0418  0.0387  0.0380  0.0277  0.0448  \n",
       "\n",
       "[11074 rows x 36 columns]"
      ]
     },
     "execution_count": 26,
     "metadata": {},
     "output_type": "execute_result"
    }
   ],
   "source": [
    "temp_turb_flux_field_df = tidy_df[tidy_df.measurement.isin(['u_tc_','v_tc_','w_tc_']) & tidy_df.height.isin(HEIGHTS)]\n",
    "temp_turb_flux_field_df = round(temp_turb_flux_field_df.pivot_table(index='time', columns=['height', 'tower', 'measurement'], values='value'), 4)\n",
    "temp_turb_flux_field_df"
   ]
  },
  {
   "cell_type": "markdown",
   "metadata": {},
   "source": [
    "## Humidity measurements"
   ]
  },
  {
   "cell_type": "code",
   "execution_count": 27,
   "metadata": {},
   "outputs": [
    {
     "name": "stderr",
     "output_type": "stream",
     "text": [
      "/var/folders/x_/2h52bcjx2px15bhmdpdd748h0000gn/T/ipykernel_13412/4019576317.py:2: SettingWithCopyWarning: \n",
      "A value is trying to be set on a copy of a slice from a DataFrame.\n",
      "Try using .loc[row_indexer,col_indexer] = value instead\n",
      "\n",
      "See the caveats in the documentation: https://pandas.pydata.org/pandas-docs/stable/user_guide/indexing.html#returning-a-view-versus-a-copy\n",
      "  abs_hum_field_df.measurement = 'q'\n"
     ]
    },
    {
     "data": {
      "text/html": [
       "<div>\n",
       "<style scoped>\n",
       "    .dataframe tbody tr th:only-of-type {\n",
       "        vertical-align: middle;\n",
       "    }\n",
       "\n",
       "    .dataframe tbody tr th {\n",
       "        vertical-align: top;\n",
       "    }\n",
       "\n",
       "    .dataframe thead tr th {\n",
       "        text-align: left;\n",
       "    }\n",
       "\n",
       "    .dataframe thead tr:last-of-type th {\n",
       "        text-align: right;\n",
       "    }\n",
       "</style>\n",
       "<table border=\"1\" class=\"dataframe\">\n",
       "  <thead>\n",
       "    <tr>\n",
       "      <th>height</th>\n",
       "      <th colspan=\"4\" halign=\"left\">1.0</th>\n",
       "      <th colspan=\"4\" halign=\"left\">3.0</th>\n",
       "      <th colspan=\"4\" halign=\"left\">10.0</th>\n",
       "    </tr>\n",
       "    <tr>\n",
       "      <th>tower</th>\n",
       "      <th>c</th>\n",
       "      <th>d</th>\n",
       "      <th>ue</th>\n",
       "      <th>uw</th>\n",
       "      <th>c</th>\n",
       "      <th>d</th>\n",
       "      <th>ue</th>\n",
       "      <th>uw</th>\n",
       "      <th>c</th>\n",
       "      <th>d</th>\n",
       "      <th>ue</th>\n",
       "      <th>uw</th>\n",
       "    </tr>\n",
       "    <tr>\n",
       "      <th>measurement</th>\n",
       "      <th>q</th>\n",
       "      <th>q</th>\n",
       "      <th>q</th>\n",
       "      <th>q</th>\n",
       "      <th>q</th>\n",
       "      <th>q</th>\n",
       "      <th>q</th>\n",
       "      <th>q</th>\n",
       "      <th>q</th>\n",
       "      <th>q</th>\n",
       "      <th>q</th>\n",
       "      <th>q</th>\n",
       "    </tr>\n",
       "    <tr>\n",
       "      <th>time</th>\n",
       "      <th></th>\n",
       "      <th></th>\n",
       "      <th></th>\n",
       "      <th></th>\n",
       "      <th></th>\n",
       "      <th></th>\n",
       "      <th></th>\n",
       "      <th></th>\n",
       "      <th></th>\n",
       "      <th></th>\n",
       "      <th></th>\n",
       "      <th></th>\n",
       "    </tr>\n",
       "  </thead>\n",
       "  <tbody>\n",
       "    <tr>\n",
       "      <th>2022-11-01 00:00:00</th>\n",
       "      <td>2.3869</td>\n",
       "      <td>2.9201</td>\n",
       "      <td>2.5267</td>\n",
       "      <td>2.7744</td>\n",
       "      <td>2.8564</td>\n",
       "      <td>2.7094</td>\n",
       "      <td>2.8189</td>\n",
       "      <td>2.8136</td>\n",
       "      <td>2.7801</td>\n",
       "      <td>2.6307</td>\n",
       "      <td>2.8003</td>\n",
       "      <td>2.7816</td>\n",
       "    </tr>\n",
       "    <tr>\n",
       "      <th>2022-11-01 00:30:00</th>\n",
       "      <td>2.3605</td>\n",
       "      <td>2.9034</td>\n",
       "      <td>2.4872</td>\n",
       "      <td>2.7860</td>\n",
       "      <td>2.8324</td>\n",
       "      <td>2.6924</td>\n",
       "      <td>2.8086</td>\n",
       "      <td>2.7926</td>\n",
       "      <td>2.7770</td>\n",
       "      <td>2.6318</td>\n",
       "      <td>2.7750</td>\n",
       "      <td>2.7867</td>\n",
       "    </tr>\n",
       "    <tr>\n",
       "      <th>2022-11-01 01:00:00</th>\n",
       "      <td>2.3668</td>\n",
       "      <td>2.9124</td>\n",
       "      <td>2.4926</td>\n",
       "      <td>2.7667</td>\n",
       "      <td>2.8425</td>\n",
       "      <td>2.6844</td>\n",
       "      <td>2.7957</td>\n",
       "      <td>2.7862</td>\n",
       "      <td>2.7743</td>\n",
       "      <td>2.6111</td>\n",
       "      <td>2.7765</td>\n",
       "      <td>2.7649</td>\n",
       "    </tr>\n",
       "    <tr>\n",
       "      <th>2022-11-01 01:30:00</th>\n",
       "      <td>2.3367</td>\n",
       "      <td>2.8852</td>\n",
       "      <td>2.4618</td>\n",
       "      <td>2.7323</td>\n",
       "      <td>2.8180</td>\n",
       "      <td>2.6584</td>\n",
       "      <td>2.7707</td>\n",
       "      <td>2.7519</td>\n",
       "      <td>2.7562</td>\n",
       "      <td>2.6034</td>\n",
       "      <td>2.7492</td>\n",
       "      <td>2.7608</td>\n",
       "    </tr>\n",
       "    <tr>\n",
       "      <th>2022-11-01 02:00:00</th>\n",
       "      <td>2.3302</td>\n",
       "      <td>2.8817</td>\n",
       "      <td>2.4482</td>\n",
       "      <td>2.7324</td>\n",
       "      <td>2.8084</td>\n",
       "      <td>2.6481</td>\n",
       "      <td>2.7584</td>\n",
       "      <td>2.7498</td>\n",
       "      <td>2.7356</td>\n",
       "      <td>2.5794</td>\n",
       "      <td>2.7333</td>\n",
       "      <td>2.7394</td>\n",
       "    </tr>\n",
       "    <tr>\n",
       "      <th>...</th>\n",
       "      <td>...</td>\n",
       "      <td>...</td>\n",
       "      <td>...</td>\n",
       "      <td>...</td>\n",
       "      <td>...</td>\n",
       "      <td>...</td>\n",
       "      <td>...</td>\n",
       "      <td>...</td>\n",
       "      <td>...</td>\n",
       "      <td>...</td>\n",
       "      <td>...</td>\n",
       "      <td>...</td>\n",
       "    </tr>\n",
       "    <tr>\n",
       "      <th>2023-06-19 15:30:00</th>\n",
       "      <td>3.1976</td>\n",
       "      <td>2.8887</td>\n",
       "      <td>3.8792</td>\n",
       "      <td>3.7139</td>\n",
       "      <td>2.6272</td>\n",
       "      <td>3.2357</td>\n",
       "      <td>3.0312</td>\n",
       "      <td>3.0504</td>\n",
       "      <td>2.3465</td>\n",
       "      <td>3.2317</td>\n",
       "      <td>3.0105</td>\n",
       "      <td>3.7593</td>\n",
       "    </tr>\n",
       "    <tr>\n",
       "      <th>2023-06-19 16:00:00</th>\n",
       "      <td>3.5362</td>\n",
       "      <td>3.1038</td>\n",
       "      <td>4.1881</td>\n",
       "      <td>4.0108</td>\n",
       "      <td>2.9379</td>\n",
       "      <td>3.4930</td>\n",
       "      <td>3.3349</td>\n",
       "      <td>3.4720</td>\n",
       "      <td>2.5266</td>\n",
       "      <td>3.3290</td>\n",
       "      <td>3.1415</td>\n",
       "      <td>3.8499</td>\n",
       "    </tr>\n",
       "    <tr>\n",
       "      <th>2023-06-19 16:30:00</th>\n",
       "      <td>3.2706</td>\n",
       "      <td>2.7881</td>\n",
       "      <td>3.8643</td>\n",
       "      <td>3.6184</td>\n",
       "      <td>2.7885</td>\n",
       "      <td>3.2903</td>\n",
       "      <td>3.1489</td>\n",
       "      <td>3.2402</td>\n",
       "      <td>2.4888</td>\n",
       "      <td>3.2496</td>\n",
       "      <td>3.0667</td>\n",
       "      <td>3.7539</td>\n",
       "    </tr>\n",
       "    <tr>\n",
       "      <th>2023-06-19 17:00:00</th>\n",
       "      <td>3.4169</td>\n",
       "      <td>2.9181</td>\n",
       "      <td>4.0179</td>\n",
       "      <td>3.7048</td>\n",
       "      <td>2.8934</td>\n",
       "      <td>3.4355</td>\n",
       "      <td>3.2753</td>\n",
       "      <td>3.3384</td>\n",
       "      <td>2.5249</td>\n",
       "      <td>3.3030</td>\n",
       "      <td>3.1565</td>\n",
       "      <td>3.7944</td>\n",
       "    </tr>\n",
       "    <tr>\n",
       "      <th>2023-06-19 17:30:00</th>\n",
       "      <td>3.2861</td>\n",
       "      <td>2.8738</td>\n",
       "      <td>3.9489</td>\n",
       "      <td>3.5813</td>\n",
       "      <td>2.8061</td>\n",
       "      <td>3.4291</td>\n",
       "      <td>3.2620</td>\n",
       "      <td>3.2189</td>\n",
       "      <td>2.6099</td>\n",
       "      <td>3.3802</td>\n",
       "      <td>3.2715</td>\n",
       "      <td>3.8599</td>\n",
       "    </tr>\n",
       "  </tbody>\n",
       "</table>\n",
       "<p>10789 rows × 12 columns</p>\n",
       "</div>"
      ],
      "text/plain": [
       "height                 1.0                             3.0                   \\\n",
       "tower                     c       d      ue      uw       c       d      ue   \n",
       "measurement               q       q       q       q       q       q       q   \n",
       "time                                                                          \n",
       "2022-11-01 00:00:00  2.3869  2.9201  2.5267  2.7744  2.8564  2.7094  2.8189   \n",
       "2022-11-01 00:30:00  2.3605  2.9034  2.4872  2.7860  2.8324  2.6924  2.8086   \n",
       "2022-11-01 01:00:00  2.3668  2.9124  2.4926  2.7667  2.8425  2.6844  2.7957   \n",
       "2022-11-01 01:30:00  2.3367  2.8852  2.4618  2.7323  2.8180  2.6584  2.7707   \n",
       "2022-11-01 02:00:00  2.3302  2.8817  2.4482  2.7324  2.8084  2.6481  2.7584   \n",
       "...                     ...     ...     ...     ...     ...     ...     ...   \n",
       "2023-06-19 15:30:00  3.1976  2.8887  3.8792  3.7139  2.6272  3.2357  3.0312   \n",
       "2023-06-19 16:00:00  3.5362  3.1038  4.1881  4.0108  2.9379  3.4930  3.3349   \n",
       "2023-06-19 16:30:00  3.2706  2.7881  3.8643  3.6184  2.7885  3.2903  3.1489   \n",
       "2023-06-19 17:00:00  3.4169  2.9181  4.0179  3.7048  2.8934  3.4355  3.2753   \n",
       "2023-06-19 17:30:00  3.2861  2.8738  3.9489  3.5813  2.8061  3.4291  3.2620   \n",
       "\n",
       "height                         10.0                          \n",
       "tower                    uw       c       d      ue      uw  \n",
       "measurement               q       q       q       q       q  \n",
       "time                                                         \n",
       "2022-11-01 00:00:00  2.8136  2.7801  2.6307  2.8003  2.7816  \n",
       "2022-11-01 00:30:00  2.7926  2.7770  2.6318  2.7750  2.7867  \n",
       "2022-11-01 01:00:00  2.7862  2.7743  2.6111  2.7765  2.7649  \n",
       "2022-11-01 01:30:00  2.7519  2.7562  2.6034  2.7492  2.7608  \n",
       "2022-11-01 02:00:00  2.7498  2.7356  2.5794  2.7333  2.7394  \n",
       "...                     ...     ...     ...     ...     ...  \n",
       "2023-06-19 15:30:00  3.0504  2.3465  3.2317  3.0105  3.7593  \n",
       "2023-06-19 16:00:00  3.4720  2.5266  3.3290  3.1415  3.8499  \n",
       "2023-06-19 16:30:00  3.2402  2.4888  3.2496  3.0667  3.7539  \n",
       "2023-06-19 17:00:00  3.3384  2.5249  3.3030  3.1565  3.7944  \n",
       "2023-06-19 17:30:00  3.2189  2.6099  3.3802  3.2715  3.8599  \n",
       "\n",
       "[10789 rows x 12 columns]"
      ]
     },
     "execution_count": 27,
     "metadata": {},
     "output_type": "execute_result"
    }
   ],
   "source": [
    "abs_hum_field_df = tidy_df[tidy_df.measurement.isin(['Water vapor density']) & tidy_df.height.isin(HEIGHTS)]\n",
    "abs_hum_field_df.measurement = 'q'\n",
    "abs_hum_field_df = round(\n",
    "    abs_hum_field_df.pivot_table(\n",
    "        index='time', columns=['height', 'tower', 'measurement'], values='value'\n",
    "    ), \n",
    "    4\n",
    ")\n",
    "abs_hum_field_df"
   ]
  },
  {
   "cell_type": "markdown",
   "metadata": {},
   "source": [
    "## Advective flux measurements"
   ]
  },
  {
   "cell_type": "code",
   "execution_count": 28,
   "metadata": {},
   "outputs": [
    {
     "data": {
      "text/html": [
       "<div>\n",
       "<style scoped>\n",
       "    .dataframe tbody tr th:only-of-type {\n",
       "        vertical-align: middle;\n",
       "    }\n",
       "\n",
       "    .dataframe tbody tr th {\n",
       "        vertical-align: top;\n",
       "    }\n",
       "\n",
       "    .dataframe thead tr th {\n",
       "        text-align: left;\n",
       "    }\n",
       "\n",
       "    .dataframe thead tr:last-of-type th {\n",
       "        text-align: right;\n",
       "    }\n",
       "</style>\n",
       "<table border=\"1\" class=\"dataframe\">\n",
       "  <thead>\n",
       "    <tr>\n",
       "      <th>height</th>\n",
       "      <th colspan=\"10\" halign=\"left\">1.0</th>\n",
       "      <th>...</th>\n",
       "      <th colspan=\"10\" halign=\"left\">10.0</th>\n",
       "    </tr>\n",
       "    <tr>\n",
       "      <th>tower</th>\n",
       "      <th colspan=\"3\" halign=\"left\">c</th>\n",
       "      <th colspan=\"3\" halign=\"left\">d</th>\n",
       "      <th colspan=\"3\" halign=\"left\">ue</th>\n",
       "      <th>uw</th>\n",
       "      <th>...</th>\n",
       "      <th>c</th>\n",
       "      <th colspan=\"3\" halign=\"left\">d</th>\n",
       "      <th colspan=\"3\" halign=\"left\">ue</th>\n",
       "      <th colspan=\"3\" halign=\"left\">uw</th>\n",
       "    </tr>\n",
       "    <tr>\n",
       "      <th>measurement</th>\n",
       "      <th>uq</th>\n",
       "      <th>vq</th>\n",
       "      <th>wq</th>\n",
       "      <th>uq</th>\n",
       "      <th>vq</th>\n",
       "      <th>wq</th>\n",
       "      <th>uq</th>\n",
       "      <th>vq</th>\n",
       "      <th>wq</th>\n",
       "      <th>uq</th>\n",
       "      <th>...</th>\n",
       "      <th>wq</th>\n",
       "      <th>uq</th>\n",
       "      <th>vq</th>\n",
       "      <th>wq</th>\n",
       "      <th>uq</th>\n",
       "      <th>vq</th>\n",
       "      <th>wq</th>\n",
       "      <th>uq</th>\n",
       "      <th>vq</th>\n",
       "      <th>wq</th>\n",
       "    </tr>\n",
       "    <tr>\n",
       "      <th>time</th>\n",
       "      <th></th>\n",
       "      <th></th>\n",
       "      <th></th>\n",
       "      <th></th>\n",
       "      <th></th>\n",
       "      <th></th>\n",
       "      <th></th>\n",
       "      <th></th>\n",
       "      <th></th>\n",
       "      <th></th>\n",
       "      <th></th>\n",
       "      <th></th>\n",
       "      <th></th>\n",
       "      <th></th>\n",
       "      <th></th>\n",
       "      <th></th>\n",
       "      <th></th>\n",
       "      <th></th>\n",
       "      <th></th>\n",
       "      <th></th>\n",
       "      <th></th>\n",
       "    </tr>\n",
       "  </thead>\n",
       "  <tbody>\n",
       "    <tr>\n",
       "      <th>2022-11-01 00:00:00</th>\n",
       "      <td>0.206706</td>\n",
       "      <td>-1.649587</td>\n",
       "      <td>0.096192</td>\n",
       "      <td>0.107168</td>\n",
       "      <td>-2.197375</td>\n",
       "      <td>0.089355</td>\n",
       "      <td>0.111933</td>\n",
       "      <td>-1.656757</td>\n",
       "      <td>0.070495</td>\n",
       "      <td>-0.088503</td>\n",
       "      <td>...</td>\n",
       "      <td>-0.045594</td>\n",
       "      <td>1.078850</td>\n",
       "      <td>-0.733702</td>\n",
       "      <td>0.201512</td>\n",
       "      <td>0.744600</td>\n",
       "      <td>-0.373280</td>\n",
       "      <td>0.090170</td>\n",
       "      <td>1.159927</td>\n",
       "      <td>-0.969944</td>\n",
       "      <td>0.057579</td>\n",
       "    </tr>\n",
       "    <tr>\n",
       "      <th>2022-11-01 00:30:00</th>\n",
       "      <td>1.284584</td>\n",
       "      <td>-3.888216</td>\n",
       "      <td>0.038948</td>\n",
       "      <td>1.522253</td>\n",
       "      <td>-4.213414</td>\n",
       "      <td>0.016549</td>\n",
       "      <td>1.211266</td>\n",
       "      <td>-3.948430</td>\n",
       "      <td>0.064667</td>\n",
       "      <td>-0.000279</td>\n",
       "      <td>...</td>\n",
       "      <td>-0.111080</td>\n",
       "      <td>5.252020</td>\n",
       "      <td>-4.560383</td>\n",
       "      <td>0.185542</td>\n",
       "      <td>4.780215</td>\n",
       "      <td>-5.081580</td>\n",
       "      <td>0.003607</td>\n",
       "      <td>4.090597</td>\n",
       "      <td>-6.051598</td>\n",
       "      <td>0.056570</td>\n",
       "    </tr>\n",
       "    <tr>\n",
       "      <th>2022-11-01 01:00:00</th>\n",
       "      <td>1.265291</td>\n",
       "      <td>-2.025034</td>\n",
       "      <td>0.053490</td>\n",
       "      <td>1.412805</td>\n",
       "      <td>-2.075085</td>\n",
       "      <td>0.040191</td>\n",
       "      <td>1.243309</td>\n",
       "      <td>-1.951457</td>\n",
       "      <td>0.057081</td>\n",
       "      <td>0.246790</td>\n",
       "      <td>...</td>\n",
       "      <td>-0.143154</td>\n",
       "      <td>4.795546</td>\n",
       "      <td>-2.750533</td>\n",
       "      <td>0.109927</td>\n",
       "      <td>4.643696</td>\n",
       "      <td>-3.296261</td>\n",
       "      <td>0.040537</td>\n",
       "      <td>4.085140</td>\n",
       "      <td>-4.270941</td>\n",
       "      <td>-0.042026</td>\n",
       "    </tr>\n",
       "    <tr>\n",
       "      <th>2022-11-01 01:30:00</th>\n",
       "      <td>2.103731</td>\n",
       "      <td>-3.470000</td>\n",
       "      <td>0.026638</td>\n",
       "      <td>2.471462</td>\n",
       "      <td>-3.676610</td>\n",
       "      <td>0.041258</td>\n",
       "      <td>2.175493</td>\n",
       "      <td>-3.197386</td>\n",
       "      <td>0.014278</td>\n",
       "      <td>0.537443</td>\n",
       "      <td>...</td>\n",
       "      <td>-0.319168</td>\n",
       "      <td>5.164365</td>\n",
       "      <td>-3.673397</td>\n",
       "      <td>0.017703</td>\n",
       "      <td>4.906497</td>\n",
       "      <td>-3.912936</td>\n",
       "      <td>-0.198767</td>\n",
       "      <td>4.353782</td>\n",
       "      <td>-5.447611</td>\n",
       "      <td>-0.152672</td>\n",
       "    </tr>\n",
       "    <tr>\n",
       "      <th>2022-11-01 02:00:00</th>\n",
       "      <td>2.268916</td>\n",
       "      <td>-3.971826</td>\n",
       "      <td>0.020040</td>\n",
       "      <td>2.907923</td>\n",
       "      <td>-4.325432</td>\n",
       "      <td>0.008069</td>\n",
       "      <td>2.322118</td>\n",
       "      <td>-3.721019</td>\n",
       "      <td>0.021299</td>\n",
       "      <td>0.517517</td>\n",
       "      <td>...</td>\n",
       "      <td>-0.373957</td>\n",
       "      <td>5.560671</td>\n",
       "      <td>-4.557800</td>\n",
       "      <td>-0.042302</td>\n",
       "      <td>5.445554</td>\n",
       "      <td>-5.099244</td>\n",
       "      <td>-0.311323</td>\n",
       "      <td>4.648488</td>\n",
       "      <td>-6.734541</td>\n",
       "      <td>-0.242437</td>\n",
       "    </tr>\n",
       "    <tr>\n",
       "      <th>...</th>\n",
       "      <td>...</td>\n",
       "      <td>...</td>\n",
       "      <td>...</td>\n",
       "      <td>...</td>\n",
       "      <td>...</td>\n",
       "      <td>...</td>\n",
       "      <td>...</td>\n",
       "      <td>...</td>\n",
       "      <td>...</td>\n",
       "      <td>...</td>\n",
       "      <td>...</td>\n",
       "      <td>...</td>\n",
       "      <td>...</td>\n",
       "      <td>...</td>\n",
       "      <td>...</td>\n",
       "      <td>...</td>\n",
       "      <td>...</td>\n",
       "      <td>...</td>\n",
       "      <td>...</td>\n",
       "      <td>...</td>\n",
       "      <td>...</td>\n",
       "    </tr>\n",
       "    <tr>\n",
       "      <th>2023-06-19 15:30:00</th>\n",
       "      <td>0.311766</td>\n",
       "      <td>-3.583231</td>\n",
       "      <td>-0.064911</td>\n",
       "      <td>0.191810</td>\n",
       "      <td>-2.395310</td>\n",
       "      <td>0.079728</td>\n",
       "      <td>0.471323</td>\n",
       "      <td>-3.480030</td>\n",
       "      <td>-0.042283</td>\n",
       "      <td>-0.495806</td>\n",
       "      <td>...</td>\n",
       "      <td>-0.229722</td>\n",
       "      <td>1.344064</td>\n",
       "      <td>-4.716989</td>\n",
       "      <td>0.047506</td>\n",
       "      <td>1.265012</td>\n",
       "      <td>-4.199648</td>\n",
       "      <td>-0.214649</td>\n",
       "      <td>-0.187965</td>\n",
       "      <td>-6.248708</td>\n",
       "      <td>-0.461266</td>\n",
       "    </tr>\n",
       "    <tr>\n",
       "      <th>2023-06-19 16:00:00</th>\n",
       "      <td>6.883567</td>\n",
       "      <td>-7.765849</td>\n",
       "      <td>-0.122353</td>\n",
       "      <td>4.747883</td>\n",
       "      <td>-4.886312</td>\n",
       "      <td>-0.067352</td>\n",
       "      <td>7.824627</td>\n",
       "      <td>-8.035707</td>\n",
       "      <td>-0.024291</td>\n",
       "      <td>4.258266</td>\n",
       "      <td>...</td>\n",
       "      <td>-0.285758</td>\n",
       "      <td>11.619874</td>\n",
       "      <td>-9.698043</td>\n",
       "      <td>-0.079230</td>\n",
       "      <td>10.383914</td>\n",
       "      <td>-10.188827</td>\n",
       "      <td>-0.118435</td>\n",
       "      <td>10.007430</td>\n",
       "      <td>-14.438280</td>\n",
       "      <td>0.029644</td>\n",
       "    </tr>\n",
       "    <tr>\n",
       "      <th>2023-06-19 16:30:00</th>\n",
       "      <td>3.964294</td>\n",
       "      <td>-6.622965</td>\n",
       "      <td>-0.092231</td>\n",
       "      <td>2.761055</td>\n",
       "      <td>-4.363655</td>\n",
       "      <td>-0.049907</td>\n",
       "      <td>4.642570</td>\n",
       "      <td>-6.548829</td>\n",
       "      <td>-0.025118</td>\n",
       "      <td>2.002061</td>\n",
       "      <td>...</td>\n",
       "      <td>-0.289945</td>\n",
       "      <td>7.829586</td>\n",
       "      <td>-9.090756</td>\n",
       "      <td>-0.062392</td>\n",
       "      <td>6.429337</td>\n",
       "      <td>-8.941884</td>\n",
       "      <td>-0.170202</td>\n",
       "      <td>5.974707</td>\n",
       "      <td>-12.980986</td>\n",
       "      <td>-0.192200</td>\n",
       "    </tr>\n",
       "    <tr>\n",
       "      <th>2023-06-19 17:00:00</th>\n",
       "      <td>6.454182</td>\n",
       "      <td>-6.072856</td>\n",
       "      <td>-0.137359</td>\n",
       "      <td>4.414502</td>\n",
       "      <td>-3.669219</td>\n",
       "      <td>-0.064782</td>\n",
       "      <td>7.019673</td>\n",
       "      <td>-6.082297</td>\n",
       "      <td>-0.040983</td>\n",
       "      <td>3.975621</td>\n",
       "      <td>...</td>\n",
       "      <td>-0.315613</td>\n",
       "      <td>11.010881</td>\n",
       "      <td>-7.693348</td>\n",
       "      <td>-0.043269</td>\n",
       "      <td>9.657943</td>\n",
       "      <td>-8.252669</td>\n",
       "      <td>-0.153722</td>\n",
       "      <td>9.763750</td>\n",
       "      <td>-11.985751</td>\n",
       "      <td>-0.105484</td>\n",
       "    </tr>\n",
       "    <tr>\n",
       "      <th>2023-06-19 17:30:00</th>\n",
       "      <td>1.409737</td>\n",
       "      <td>-5.969529</td>\n",
       "      <td>-0.030232</td>\n",
       "      <td>1.155268</td>\n",
       "      <td>-3.909230</td>\n",
       "      <td>-0.001724</td>\n",
       "      <td>1.298793</td>\n",
       "      <td>-6.144883</td>\n",
       "      <td>-0.047782</td>\n",
       "      <td>-0.020055</td>\n",
       "      <td>...</td>\n",
       "      <td>-0.232020</td>\n",
       "      <td>3.175360</td>\n",
       "      <td>-8.765535</td>\n",
       "      <td>0.110533</td>\n",
       "      <td>1.847089</td>\n",
       "      <td>-8.939701</td>\n",
       "      <td>0.144273</td>\n",
       "      <td>0.677026</td>\n",
       "      <td>-11.123460</td>\n",
       "      <td>-0.310336</td>\n",
       "    </tr>\n",
       "  </tbody>\n",
       "</table>\n",
       "<p>10835 rows × 36 columns</p>\n",
       "</div>"
      ],
      "text/plain": [
       "height                   1.0                                           \\\n",
       "tower                       c                             d             \n",
       "measurement                uq        vq        wq        uq        vq   \n",
       "time                                                                    \n",
       "2022-11-01 00:00:00  0.206706 -1.649587  0.096192  0.107168 -2.197375   \n",
       "2022-11-01 00:30:00  1.284584 -3.888216  0.038948  1.522253 -4.213414   \n",
       "2022-11-01 01:00:00  1.265291 -2.025034  0.053490  1.412805 -2.075085   \n",
       "2022-11-01 01:30:00  2.103731 -3.470000  0.026638  2.471462 -3.676610   \n",
       "2022-11-01 02:00:00  2.268916 -3.971826  0.020040  2.907923 -4.325432   \n",
       "...                       ...       ...       ...       ...       ...   \n",
       "2023-06-19 15:30:00  0.311766 -3.583231 -0.064911  0.191810 -2.395310   \n",
       "2023-06-19 16:00:00  6.883567 -7.765849 -0.122353  4.747883 -4.886312   \n",
       "2023-06-19 16:30:00  3.964294 -6.622965 -0.092231  2.761055 -4.363655   \n",
       "2023-06-19 17:00:00  6.454182 -6.072856 -0.137359  4.414502 -3.669219   \n",
       "2023-06-19 17:30:00  1.409737 -5.969529 -0.030232  1.155268 -3.909230   \n",
       "\n",
       "height                                                                 ...  \\\n",
       "tower                                ue                            uw  ...   \n",
       "measurement                wq        uq        vq        wq        uq  ...   \n",
       "time                                                                   ...   \n",
       "2022-11-01 00:00:00  0.089355  0.111933 -1.656757  0.070495 -0.088503  ...   \n",
       "2022-11-01 00:30:00  0.016549  1.211266 -3.948430  0.064667 -0.000279  ...   \n",
       "2022-11-01 01:00:00  0.040191  1.243309 -1.951457  0.057081  0.246790  ...   \n",
       "2022-11-01 01:30:00  0.041258  2.175493 -3.197386  0.014278  0.537443  ...   \n",
       "2022-11-01 02:00:00  0.008069  2.322118 -3.721019  0.021299  0.517517  ...   \n",
       "...                       ...       ...       ...       ...       ...  ...   \n",
       "2023-06-19 15:30:00  0.079728  0.471323 -3.480030 -0.042283 -0.495806  ...   \n",
       "2023-06-19 16:00:00 -0.067352  7.824627 -8.035707 -0.024291  4.258266  ...   \n",
       "2023-06-19 16:30:00 -0.049907  4.642570 -6.548829 -0.025118  2.002061  ...   \n",
       "2023-06-19 17:00:00 -0.064782  7.019673 -6.082297 -0.040983  3.975621  ...   \n",
       "2023-06-19 17:30:00 -0.001724  1.298793 -6.144883 -0.047782 -0.020055  ...   \n",
       "\n",
       "height                   10.0                                            \\\n",
       "tower                       c          d                             ue   \n",
       "measurement                wq         uq        vq        wq         uq   \n",
       "time                                                                      \n",
       "2022-11-01 00:00:00 -0.045594   1.078850 -0.733702  0.201512   0.744600   \n",
       "2022-11-01 00:30:00 -0.111080   5.252020 -4.560383  0.185542   4.780215   \n",
       "2022-11-01 01:00:00 -0.143154   4.795546 -2.750533  0.109927   4.643696   \n",
       "2022-11-01 01:30:00 -0.319168   5.164365 -3.673397  0.017703   4.906497   \n",
       "2022-11-01 02:00:00 -0.373957   5.560671 -4.557800 -0.042302   5.445554   \n",
       "...                       ...        ...       ...       ...        ...   \n",
       "2023-06-19 15:30:00 -0.229722   1.344064 -4.716989  0.047506   1.265012   \n",
       "2023-06-19 16:00:00 -0.285758  11.619874 -9.698043 -0.079230  10.383914   \n",
       "2023-06-19 16:30:00 -0.289945   7.829586 -9.090756 -0.062392   6.429337   \n",
       "2023-06-19 17:00:00 -0.315613  11.010881 -7.693348 -0.043269   9.657943   \n",
       "2023-06-19 17:30:00 -0.232020   3.175360 -8.765535  0.110533   1.847089   \n",
       "\n",
       "height                                                                    \n",
       "tower                                            uw                       \n",
       "measurement                 vq        wq         uq         vq        wq  \n",
       "time                                                                      \n",
       "2022-11-01 00:00:00  -0.373280  0.090170   1.159927  -0.969944  0.057579  \n",
       "2022-11-01 00:30:00  -5.081580  0.003607   4.090597  -6.051598  0.056570  \n",
       "2022-11-01 01:00:00  -3.296261  0.040537   4.085140  -4.270941 -0.042026  \n",
       "2022-11-01 01:30:00  -3.912936 -0.198767   4.353782  -5.447611 -0.152672  \n",
       "2022-11-01 02:00:00  -5.099244 -0.311323   4.648488  -6.734541 -0.242437  \n",
       "...                        ...       ...        ...        ...       ...  \n",
       "2023-06-19 15:30:00  -4.199648 -0.214649  -0.187965  -6.248708 -0.461266  \n",
       "2023-06-19 16:00:00 -10.188827 -0.118435  10.007430 -14.438280  0.029644  \n",
       "2023-06-19 16:30:00  -8.941884 -0.170202   5.974707 -12.980986 -0.192200  \n",
       "2023-06-19 17:00:00  -8.252669 -0.153722   9.763750 -11.985751 -0.105484  \n",
       "2023-06-19 17:30:00  -8.939701  0.144273   0.677026 -11.123460 -0.310336  \n",
       "\n",
       "[10835 rows x 36 columns]"
      ]
     },
     "execution_count": 28,
     "metadata": {},
     "output_type": "execute_result"
    }
   ],
   "source": [
    "ls = []\n",
    "for h in wind_field_df.columns.get_level_values('height').unique():\n",
    "    for t in wind_field_df.columns.get_level_values('tower').unique():\n",
    "        this_wind_df = wind_field_df[(h,t)].copy()\n",
    "        this_abs_hum_df = abs_hum_field_df[(h,t)].copy()  \n",
    "        this_wind_df['uq'] = this_wind_df['u']*this_abs_hum_df['q']\n",
    "        this_wind_df['vq'] = this_wind_df['v']*this_abs_hum_df['q']\n",
    "        this_wind_df['wq'] = this_wind_df['w']*this_abs_hum_df['q']\n",
    "        new = pd.concat([this_wind_df], axis=1, keys=[(h,t)])\n",
    "        ls.append(new.drop(columns=[(h,t,'u'),(h,t,'v'),(h,t,'w')]))\n",
    "\n",
    "adv_flux_field_df = ls[0]\n",
    "for l in ls[1:]:\n",
    "    adv_flux_field_df = adv_flux_field_df.join(l)\n",
    "adv_flux_field_df.columns = adv_flux_field_df.columns.set_names('height', level=0)\n",
    "adv_flux_field_df.columns = adv_flux_field_df.columns.set_names('tower', level=1)\n",
    "adv_flux_field_df"
   ]
  },
  {
   "cell_type": "markdown",
   "metadata": {},
   "source": [
    "## Dry air density measurements"
   ]
  },
  {
   "cell_type": "code",
   "execution_count": 29,
   "metadata": {},
   "outputs": [
    {
     "name": "stderr",
     "output_type": "stream",
     "text": [
      "/var/folders/x_/2h52bcjx2px15bhmdpdd748h0000gn/T/ipykernel_13412/809722049.py:3: SettingWithCopyWarning: \n",
      "A value is trying to be set on a copy of a slice from a DataFrame.\n",
      "Try using .loc[row_indexer,col_indexer] = value instead\n",
      "\n",
      "See the caveats in the documentation: https://pandas.pydata.org/pandas-docs/stable/user_guide/indexing.html#returning-a-view-versus-a-copy\n",
      "  dryair_density_field_df.measurement = 'rho'\n"
     ]
    },
    {
     "data": {
      "text/html": [
       "<div>\n",
       "<style scoped>\n",
       "    .dataframe tbody tr th:only-of-type {\n",
       "        vertical-align: middle;\n",
       "    }\n",
       "\n",
       "    .dataframe tbody tr th {\n",
       "        vertical-align: top;\n",
       "    }\n",
       "\n",
       "    .dataframe thead tr th {\n",
       "        text-align: left;\n",
       "    }\n",
       "\n",
       "    .dataframe thead tr:last-of-type th {\n",
       "        text-align: right;\n",
       "    }\n",
       "</style>\n",
       "<table border=\"1\" class=\"dataframe\">\n",
       "  <thead>\n",
       "    <tr>\n",
       "      <th>height</th>\n",
       "      <th>1.0</th>\n",
       "      <th>3.0</th>\n",
       "      <th>10.0</th>\n",
       "      <th>1.0</th>\n",
       "      <th>3.0</th>\n",
       "      <th>10.0</th>\n",
       "      <th>1.0</th>\n",
       "      <th>3.0</th>\n",
       "      <th>10.0</th>\n",
       "      <th>1.0</th>\n",
       "      <th>3.0</th>\n",
       "      <th>10.0</th>\n",
       "    </tr>\n",
       "    <tr>\n",
       "      <th>tower</th>\n",
       "      <th>c</th>\n",
       "      <th>c</th>\n",
       "      <th>c</th>\n",
       "      <th>d</th>\n",
       "      <th>d</th>\n",
       "      <th>d</th>\n",
       "      <th>ue</th>\n",
       "      <th>ue</th>\n",
       "      <th>ue</th>\n",
       "      <th>uw</th>\n",
       "      <th>uw</th>\n",
       "      <th>uw</th>\n",
       "    </tr>\n",
       "    <tr>\n",
       "      <th>measurement</th>\n",
       "      <th>rho</th>\n",
       "      <th>rho</th>\n",
       "      <th>rho</th>\n",
       "      <th>rho</th>\n",
       "      <th>rho</th>\n",
       "      <th>rho</th>\n",
       "      <th>rho</th>\n",
       "      <th>rho</th>\n",
       "      <th>rho</th>\n",
       "      <th>rho</th>\n",
       "      <th>rho</th>\n",
       "      <th>rho</th>\n",
       "    </tr>\n",
       "    <tr>\n",
       "      <th>time</th>\n",
       "      <th></th>\n",
       "      <th></th>\n",
       "      <th></th>\n",
       "      <th></th>\n",
       "      <th></th>\n",
       "      <th></th>\n",
       "      <th></th>\n",
       "      <th></th>\n",
       "      <th></th>\n",
       "      <th></th>\n",
       "      <th></th>\n",
       "      <th></th>\n",
       "    </tr>\n",
       "  </thead>\n",
       "  <tbody>\n",
       "    <tr>\n",
       "      <th>2022-11-01 00:00:00</th>\n",
       "      <td>936.4</td>\n",
       "      <td>933.7</td>\n",
       "      <td>930.7</td>\n",
       "      <td>936.4</td>\n",
       "      <td>933.7</td>\n",
       "      <td>930.7</td>\n",
       "      <td>936.4</td>\n",
       "      <td>933.7</td>\n",
       "      <td>930.7</td>\n",
       "      <td>936.4</td>\n",
       "      <td>933.7</td>\n",
       "      <td>930.7</td>\n",
       "    </tr>\n",
       "    <tr>\n",
       "      <th>2022-11-01 00:30:00</th>\n",
       "      <td>938.0</td>\n",
       "      <td>933.5</td>\n",
       "      <td>930.0</td>\n",
       "      <td>938.0</td>\n",
       "      <td>933.5</td>\n",
       "      <td>930.0</td>\n",
       "      <td>938.0</td>\n",
       "      <td>933.5</td>\n",
       "      <td>930.0</td>\n",
       "      <td>938.0</td>\n",
       "      <td>933.5</td>\n",
       "      <td>930.0</td>\n",
       "    </tr>\n",
       "    <tr>\n",
       "      <th>2022-11-01 01:00:00</th>\n",
       "      <td>940.9</td>\n",
       "      <td>938.5</td>\n",
       "      <td>933.8</td>\n",
       "      <td>940.9</td>\n",
       "      <td>938.5</td>\n",
       "      <td>933.8</td>\n",
       "      <td>940.9</td>\n",
       "      <td>938.5</td>\n",
       "      <td>933.8</td>\n",
       "      <td>940.9</td>\n",
       "      <td>938.5</td>\n",
       "      <td>933.8</td>\n",
       "    </tr>\n",
       "    <tr>\n",
       "      <th>2022-11-01 01:30:00</th>\n",
       "      <td>941.1</td>\n",
       "      <td>938.8</td>\n",
       "      <td>931.7</td>\n",
       "      <td>941.1</td>\n",
       "      <td>938.8</td>\n",
       "      <td>931.7</td>\n",
       "      <td>941.1</td>\n",
       "      <td>938.8</td>\n",
       "      <td>931.7</td>\n",
       "      <td>941.1</td>\n",
       "      <td>938.8</td>\n",
       "      <td>931.7</td>\n",
       "    </tr>\n",
       "    <tr>\n",
       "      <th>2022-11-01 02:00:00</th>\n",
       "      <td>941.5</td>\n",
       "      <td>939.5</td>\n",
       "      <td>933.6</td>\n",
       "      <td>941.5</td>\n",
       "      <td>939.5</td>\n",
       "      <td>933.6</td>\n",
       "      <td>941.5</td>\n",
       "      <td>939.5</td>\n",
       "      <td>933.6</td>\n",
       "      <td>941.5</td>\n",
       "      <td>939.5</td>\n",
       "      <td>933.6</td>\n",
       "    </tr>\n",
       "    <tr>\n",
       "      <th>...</th>\n",
       "      <td>...</td>\n",
       "      <td>...</td>\n",
       "      <td>...</td>\n",
       "      <td>...</td>\n",
       "      <td>...</td>\n",
       "      <td>...</td>\n",
       "      <td>...</td>\n",
       "      <td>...</td>\n",
       "      <td>...</td>\n",
       "      <td>...</td>\n",
       "      <td>...</td>\n",
       "      <td>...</td>\n",
       "    </tr>\n",
       "    <tr>\n",
       "      <th>2023-06-19 15:30:00</th>\n",
       "      <td>859.6</td>\n",
       "      <td>860.4</td>\n",
       "      <td>860.9</td>\n",
       "      <td>859.6</td>\n",
       "      <td>860.4</td>\n",
       "      <td>860.9</td>\n",
       "      <td>859.6</td>\n",
       "      <td>860.4</td>\n",
       "      <td>860.9</td>\n",
       "      <td>859.6</td>\n",
       "      <td>860.4</td>\n",
       "      <td>860.9</td>\n",
       "    </tr>\n",
       "    <tr>\n",
       "      <th>2023-06-19 16:00:00</th>\n",
       "      <td>859.7</td>\n",
       "      <td>860.6</td>\n",
       "      <td>861.0</td>\n",
       "      <td>859.7</td>\n",
       "      <td>860.6</td>\n",
       "      <td>861.0</td>\n",
       "      <td>859.7</td>\n",
       "      <td>860.6</td>\n",
       "      <td>861.0</td>\n",
       "      <td>859.7</td>\n",
       "      <td>860.6</td>\n",
       "      <td>861.0</td>\n",
       "    </tr>\n",
       "    <tr>\n",
       "      <th>2023-06-19 16:30:00</th>\n",
       "      <td>859.5</td>\n",
       "      <td>860.2</td>\n",
       "      <td>860.2</td>\n",
       "      <td>859.5</td>\n",
       "      <td>860.2</td>\n",
       "      <td>860.2</td>\n",
       "      <td>859.5</td>\n",
       "      <td>860.2</td>\n",
       "      <td>860.2</td>\n",
       "      <td>859.5</td>\n",
       "      <td>860.2</td>\n",
       "      <td>860.2</td>\n",
       "    </tr>\n",
       "    <tr>\n",
       "      <th>2023-06-19 17:00:00</th>\n",
       "      <td>859.4</td>\n",
       "      <td>859.9</td>\n",
       "      <td>859.9</td>\n",
       "      <td>859.4</td>\n",
       "      <td>859.9</td>\n",
       "      <td>859.9</td>\n",
       "      <td>859.4</td>\n",
       "      <td>859.9</td>\n",
       "      <td>859.9</td>\n",
       "      <td>859.4</td>\n",
       "      <td>859.9</td>\n",
       "      <td>859.9</td>\n",
       "    </tr>\n",
       "    <tr>\n",
       "      <th>2023-06-19 17:30:00</th>\n",
       "      <td>860.2</td>\n",
       "      <td>860.5</td>\n",
       "      <td>860.0</td>\n",
       "      <td>860.2</td>\n",
       "      <td>860.5</td>\n",
       "      <td>860.0</td>\n",
       "      <td>860.2</td>\n",
       "      <td>860.5</td>\n",
       "      <td>860.0</td>\n",
       "      <td>860.2</td>\n",
       "      <td>860.5</td>\n",
       "      <td>860.0</td>\n",
       "    </tr>\n",
       "  </tbody>\n",
       "</table>\n",
       "<p>11025 rows × 12 columns</p>\n",
       "</div>"
      ],
      "text/plain": [
       "height                1.0    3.0    10.0   1.0    3.0    10.0   1.0    3.0   \\\n",
       "tower                    c      c      c      d      d      d     ue     ue   \n",
       "measurement            rho    rho    rho    rho    rho    rho    rho    rho   \n",
       "time                                                                          \n",
       "2022-11-01 00:00:00  936.4  933.7  930.7  936.4  933.7  930.7  936.4  933.7   \n",
       "2022-11-01 00:30:00  938.0  933.5  930.0  938.0  933.5  930.0  938.0  933.5   \n",
       "2022-11-01 01:00:00  940.9  938.5  933.8  940.9  938.5  933.8  940.9  938.5   \n",
       "2022-11-01 01:30:00  941.1  938.8  931.7  941.1  938.8  931.7  941.1  938.8   \n",
       "2022-11-01 02:00:00  941.5  939.5  933.6  941.5  939.5  933.6  941.5  939.5   \n",
       "...                    ...    ...    ...    ...    ...    ...    ...    ...   \n",
       "2023-06-19 15:30:00  859.6  860.4  860.9  859.6  860.4  860.9  859.6  860.4   \n",
       "2023-06-19 16:00:00  859.7  860.6  861.0  859.7  860.6  861.0  859.7  860.6   \n",
       "2023-06-19 16:30:00  859.5  860.2  860.2  859.5  860.2  860.2  859.5  860.2   \n",
       "2023-06-19 17:00:00  859.4  859.9  859.9  859.4  859.9  859.9  859.4  859.9   \n",
       "2023-06-19 17:30:00  860.2  860.5  860.0  860.2  860.5  860.0  860.2  860.5   \n",
       "\n",
       "height                10.0   1.0    3.0    10.0  \n",
       "tower                   ue     uw     uw     uw  \n",
       "measurement            rho    rho    rho    rho  \n",
       "time                                             \n",
       "2022-11-01 00:00:00  930.7  936.4  933.7  930.7  \n",
       "2022-11-01 00:30:00  930.0  938.0  933.5  930.0  \n",
       "2022-11-01 01:00:00  933.8  940.9  938.5  933.8  \n",
       "2022-11-01 01:30:00  931.7  941.1  938.8  931.7  \n",
       "2022-11-01 02:00:00  933.6  941.5  939.5  933.6  \n",
       "...                    ...    ...    ...    ...  \n",
       "2023-06-19 15:30:00  860.9  859.6  860.4  860.9  \n",
       "2023-06-19 16:00:00  861.0  859.7  860.6  861.0  \n",
       "2023-06-19 16:30:00  860.2  859.5  860.2  860.2  \n",
       "2023-06-19 17:00:00  859.9  859.4  859.9  859.9  \n",
       "2023-06-19 17:30:00  860.0  860.2  860.5  860.0  \n",
       "\n",
       "[11025 rows x 12 columns]"
      ]
     },
     "execution_count": 29,
     "metadata": {},
     "output_type": "execute_result"
    }
   ],
   "source": [
    "# gather dry air density measurements\n",
    "dryair_density_field_df = tidy_df[tidy_df.measurement.isin(['dry air density']) & tidy_df.height.isin(HEIGHTS)]\n",
    "dryair_density_field_df.measurement = 'rho'\n",
    "dryair_density_field_df = round(\n",
    "    dryair_density_field_df.pivot_table(\n",
    "        index='time', columns=['height', 'tower', 'measurement'], values='value'\n",
    "    ), \n",
    "    4\n",
    ")\n",
    "\n",
    "# duplicate the dry air density measurements across the towers (THIS IS NAIVE)\n",
    "dryair_density_for_tower_d = dryair_density_field_df.copy()\n",
    "dryair_density_for_tower_d.columns = pd.MultiIndex.from_tuples([(cs[0], 'd', cs[2]) for cs in dryair_density_for_tower_d.columns])\n",
    "\n",
    "dryair_density_for_tower_uw = dryair_density_field_df.copy()\n",
    "dryair_density_for_tower_uw.columns = pd.MultiIndex.from_tuples([(cs[0], 'uw', cs[2]) for cs in dryair_density_for_tower_d.columns])\n",
    "\n",
    "dryair_density_for_tower_ue = dryair_density_field_df.copy()\n",
    "dryair_density_for_tower_ue.columns = pd.MultiIndex.from_tuples([(cs[0], 'ue', cs[2]) for cs in dryair_density_for_tower_d.columns])\n",
    "\n",
    "dryair_density_field_df = dryair_density_field_df.join(\n",
    "    dryair_density_for_tower_d\n",
    ").join(\n",
    "    dryair_density_for_tower_ue\n",
    ").join(\n",
    "    dryair_density_for_tower_uw\n",
    ")\n",
    "\n",
    "dryair_density_field_df.columns = dryair_density_field_df.columns.set_names(['height', 'tower', 'measurement'])\n",
    "\n",
    "# convert from kg/m^3 to g/m^3\n",
    "dryair_density_field_df = dryair_density_field_df*1000\n",
    "\n",
    "dryair_density_field_df"
   ]
  },
  {
   "cell_type": "markdown",
   "metadata": {},
   "source": [
    "# Temperature measurements"
   ]
  },
  {
   "cell_type": "code",
   "execution_count": 30,
   "metadata": {},
   "outputs": [
    {
     "name": "stderr",
     "output_type": "stream",
     "text": [
      "/var/folders/x_/2h52bcjx2px15bhmdpdd748h0000gn/T/ipykernel_13412/2411004737.py:3: SettingWithCopyWarning: \n",
      "A value is trying to be set on a copy of a slice from a DataFrame.\n",
      "Try using .loc[row_indexer,col_indexer] = value instead\n",
      "\n",
      "See the caveats in the documentation: https://pandas.pydata.org/pandas-docs/stable/user_guide/indexing.html#returning-a-view-versus-a-copy\n",
      "  temp_field_df.measurement = 'T'\n"
     ]
    },
    {
     "data": {
      "text/html": [
       "<div>\n",
       "<style scoped>\n",
       "    .dataframe tbody tr th:only-of-type {\n",
       "        vertical-align: middle;\n",
       "    }\n",
       "\n",
       "    .dataframe tbody tr th {\n",
       "        vertical-align: top;\n",
       "    }\n",
       "\n",
       "    .dataframe thead tr th {\n",
       "        text-align: left;\n",
       "    }\n",
       "\n",
       "    .dataframe thead tr:last-of-type th {\n",
       "        text-align: right;\n",
       "    }\n",
       "</style>\n",
       "<table border=\"1\" class=\"dataframe\">\n",
       "  <thead>\n",
       "    <tr>\n",
       "      <th>height</th>\n",
       "      <th>1.0</th>\n",
       "      <th>3.0</th>\n",
       "      <th>10.0</th>\n",
       "      <th>1.0</th>\n",
       "      <th>3.0</th>\n",
       "      <th>10.0</th>\n",
       "      <th>1.0</th>\n",
       "      <th>3.0</th>\n",
       "      <th>10.0</th>\n",
       "      <th>1.0</th>\n",
       "      <th>3.0</th>\n",
       "      <th>10.0</th>\n",
       "    </tr>\n",
       "    <tr>\n",
       "      <th>tower</th>\n",
       "      <th>c</th>\n",
       "      <th>c</th>\n",
       "      <th>c</th>\n",
       "      <th>d</th>\n",
       "      <th>d</th>\n",
       "      <th>d</th>\n",
       "      <th>ue</th>\n",
       "      <th>ue</th>\n",
       "      <th>ue</th>\n",
       "      <th>uw</th>\n",
       "      <th>uw</th>\n",
       "      <th>uw</th>\n",
       "    </tr>\n",
       "    <tr>\n",
       "      <th>measurement</th>\n",
       "      <th>T</th>\n",
       "      <th>T</th>\n",
       "      <th>T</th>\n",
       "      <th>T</th>\n",
       "      <th>T</th>\n",
       "      <th>T</th>\n",
       "      <th>T</th>\n",
       "      <th>T</th>\n",
       "      <th>T</th>\n",
       "      <th>T</th>\n",
       "      <th>T</th>\n",
       "      <th>T</th>\n",
       "    </tr>\n",
       "    <tr>\n",
       "      <th>time</th>\n",
       "      <th></th>\n",
       "      <th></th>\n",
       "      <th></th>\n",
       "      <th></th>\n",
       "      <th></th>\n",
       "      <th></th>\n",
       "      <th></th>\n",
       "      <th></th>\n",
       "      <th></th>\n",
       "      <th></th>\n",
       "      <th></th>\n",
       "      <th></th>\n",
       "    </tr>\n",
       "  </thead>\n",
       "  <tbody>\n",
       "    <tr>\n",
       "      <th>2022-11-01 00:00:00</th>\n",
       "      <td>-4.6591</td>\n",
       "      <td>-3.9324</td>\n",
       "      <td>-3.3253</td>\n",
       "      <td>-4.6591</td>\n",
       "      <td>-3.9324</td>\n",
       "      <td>-3.3253</td>\n",
       "      <td>-4.6591</td>\n",
       "      <td>-3.9324</td>\n",
       "      <td>-3.3253</td>\n",
       "      <td>-4.6591</td>\n",
       "      <td>-3.9324</td>\n",
       "      <td>-3.3253</td>\n",
       "    </tr>\n",
       "    <tr>\n",
       "      <th>2022-11-01 00:30:00</th>\n",
       "      <td>-5.0626</td>\n",
       "      <td>-3.8335</td>\n",
       "      <td>-3.0639</td>\n",
       "      <td>-5.0626</td>\n",
       "      <td>-3.8335</td>\n",
       "      <td>-3.0639</td>\n",
       "      <td>-5.0626</td>\n",
       "      <td>-3.8335</td>\n",
       "      <td>-3.0639</td>\n",
       "      <td>-5.0626</td>\n",
       "      <td>-3.8335</td>\n",
       "      <td>-3.0639</td>\n",
       "    </tr>\n",
       "    <tr>\n",
       "      <th>2022-11-01 01:00:00</th>\n",
       "      <td>-5.8362</td>\n",
       "      <td>-5.2189</td>\n",
       "      <td>-4.1234</td>\n",
       "      <td>-5.8362</td>\n",
       "      <td>-5.2189</td>\n",
       "      <td>-4.1234</td>\n",
       "      <td>-5.8362</td>\n",
       "      <td>-5.2189</td>\n",
       "      <td>-4.1234</td>\n",
       "      <td>-5.8362</td>\n",
       "      <td>-5.2189</td>\n",
       "      <td>-4.1234</td>\n",
       "    </tr>\n",
       "    <tr>\n",
       "      <th>2022-11-01 01:30:00</th>\n",
       "      <td>-5.9188</td>\n",
       "      <td>-5.3286</td>\n",
       "      <td>-3.5455</td>\n",
       "      <td>-5.9188</td>\n",
       "      <td>-5.3286</td>\n",
       "      <td>-3.5455</td>\n",
       "      <td>-5.9188</td>\n",
       "      <td>-5.3286</td>\n",
       "      <td>-3.5455</td>\n",
       "      <td>-5.9188</td>\n",
       "      <td>-5.3286</td>\n",
       "      <td>-3.5455</td>\n",
       "    </tr>\n",
       "    <tr>\n",
       "      <th>2022-11-01 02:00:00</th>\n",
       "      <td>-6.0507</td>\n",
       "      <td>-5.5540</td>\n",
       "      <td>-4.0786</td>\n",
       "      <td>-6.0507</td>\n",
       "      <td>-5.5540</td>\n",
       "      <td>-4.0786</td>\n",
       "      <td>-6.0507</td>\n",
       "      <td>-5.5540</td>\n",
       "      <td>-4.0786</td>\n",
       "      <td>-6.0507</td>\n",
       "      <td>-5.5540</td>\n",
       "      <td>-4.0786</td>\n",
       "    </tr>\n",
       "    <tr>\n",
       "      <th>...</th>\n",
       "      <td>...</td>\n",
       "      <td>...</td>\n",
       "      <td>...</td>\n",
       "      <td>...</td>\n",
       "      <td>...</td>\n",
       "      <td>...</td>\n",
       "      <td>...</td>\n",
       "      <td>...</td>\n",
       "      <td>...</td>\n",
       "      <td>...</td>\n",
       "      <td>...</td>\n",
       "      <td>...</td>\n",
       "    </tr>\n",
       "    <tr>\n",
       "      <th>2023-06-19 15:30:00</th>\n",
       "      <td>19.3884</td>\n",
       "      <td>19.0545</td>\n",
       "      <td>18.6256</td>\n",
       "      <td>19.3884</td>\n",
       "      <td>19.0545</td>\n",
       "      <td>18.6256</td>\n",
       "      <td>19.3884</td>\n",
       "      <td>19.0545</td>\n",
       "      <td>18.6256</td>\n",
       "      <td>19.3884</td>\n",
       "      <td>19.0545</td>\n",
       "      <td>18.6256</td>\n",
       "    </tr>\n",
       "    <tr>\n",
       "      <th>2023-06-19 16:00:00</th>\n",
       "      <td>19.3906</td>\n",
       "      <td>19.0026</td>\n",
       "      <td>18.6239</td>\n",
       "      <td>19.3906</td>\n",
       "      <td>19.0026</td>\n",
       "      <td>18.6239</td>\n",
       "      <td>19.3906</td>\n",
       "      <td>19.0026</td>\n",
       "      <td>18.6239</td>\n",
       "      <td>19.3906</td>\n",
       "      <td>19.0026</td>\n",
       "      <td>18.6239</td>\n",
       "    </tr>\n",
       "    <tr>\n",
       "      <th>2023-06-19 16:30:00</th>\n",
       "      <td>19.3642</td>\n",
       "      <td>19.0457</td>\n",
       "      <td>18.7982</td>\n",
       "      <td>19.3642</td>\n",
       "      <td>19.0457</td>\n",
       "      <td>18.7982</td>\n",
       "      <td>19.3642</td>\n",
       "      <td>19.0457</td>\n",
       "      <td>18.7982</td>\n",
       "      <td>19.3642</td>\n",
       "      <td>19.0457</td>\n",
       "      <td>18.7982</td>\n",
       "    </tr>\n",
       "    <tr>\n",
       "      <th>2023-06-19 17:00:00</th>\n",
       "      <td>19.4126</td>\n",
       "      <td>19.1953</td>\n",
       "      <td>18.9316</td>\n",
       "      <td>19.4126</td>\n",
       "      <td>19.1953</td>\n",
       "      <td>18.9316</td>\n",
       "      <td>19.4126</td>\n",
       "      <td>19.1953</td>\n",
       "      <td>18.9316</td>\n",
       "      <td>19.4126</td>\n",
       "      <td>19.1953</td>\n",
       "      <td>18.9316</td>\n",
       "    </tr>\n",
       "    <tr>\n",
       "      <th>2023-06-19 17:30:00</th>\n",
       "      <td>19.1464</td>\n",
       "      <td>18.9890</td>\n",
       "      <td>18.8792</td>\n",
       "      <td>19.1464</td>\n",
       "      <td>18.9890</td>\n",
       "      <td>18.8792</td>\n",
       "      <td>19.1464</td>\n",
       "      <td>18.9890</td>\n",
       "      <td>18.8792</td>\n",
       "      <td>19.1464</td>\n",
       "      <td>18.9890</td>\n",
       "      <td>18.8792</td>\n",
       "    </tr>\n",
       "  </tbody>\n",
       "</table>\n",
       "<p>11044 rows × 12 columns</p>\n",
       "</div>"
      ],
      "text/plain": [
       "height                  1.0      3.0      10.0     1.0      3.0      10.0  \\\n",
       "tower                      c        c        c        d        d        d   \n",
       "measurement                T        T        T        T        T        T   \n",
       "time                                                                        \n",
       "2022-11-01 00:00:00  -4.6591  -3.9324  -3.3253  -4.6591  -3.9324  -3.3253   \n",
       "2022-11-01 00:30:00  -5.0626  -3.8335  -3.0639  -5.0626  -3.8335  -3.0639   \n",
       "2022-11-01 01:00:00  -5.8362  -5.2189  -4.1234  -5.8362  -5.2189  -4.1234   \n",
       "2022-11-01 01:30:00  -5.9188  -5.3286  -3.5455  -5.9188  -5.3286  -3.5455   \n",
       "2022-11-01 02:00:00  -6.0507  -5.5540  -4.0786  -6.0507  -5.5540  -4.0786   \n",
       "...                      ...      ...      ...      ...      ...      ...   \n",
       "2023-06-19 15:30:00  19.3884  19.0545  18.6256  19.3884  19.0545  18.6256   \n",
       "2023-06-19 16:00:00  19.3906  19.0026  18.6239  19.3906  19.0026  18.6239   \n",
       "2023-06-19 16:30:00  19.3642  19.0457  18.7982  19.3642  19.0457  18.7982   \n",
       "2023-06-19 17:00:00  19.4126  19.1953  18.9316  19.4126  19.1953  18.9316   \n",
       "2023-06-19 17:30:00  19.1464  18.9890  18.8792  19.1464  18.9890  18.8792   \n",
       "\n",
       "height                  1.0      3.0      10.0     1.0      3.0      10.0  \n",
       "tower                     ue       ue       ue       uw       uw       uw  \n",
       "measurement                T        T        T        T        T        T  \n",
       "time                                                                       \n",
       "2022-11-01 00:00:00  -4.6591  -3.9324  -3.3253  -4.6591  -3.9324  -3.3253  \n",
       "2022-11-01 00:30:00  -5.0626  -3.8335  -3.0639  -5.0626  -3.8335  -3.0639  \n",
       "2022-11-01 01:00:00  -5.8362  -5.2189  -4.1234  -5.8362  -5.2189  -4.1234  \n",
       "2022-11-01 01:30:00  -5.9188  -5.3286  -3.5455  -5.9188  -5.3286  -3.5455  \n",
       "2022-11-01 02:00:00  -6.0507  -5.5540  -4.0786  -6.0507  -5.5540  -4.0786  \n",
       "...                      ...      ...      ...      ...      ...      ...  \n",
       "2023-06-19 15:30:00  19.3884  19.0545  18.6256  19.3884  19.0545  18.6256  \n",
       "2023-06-19 16:00:00  19.3906  19.0026  18.6239  19.3906  19.0026  18.6239  \n",
       "2023-06-19 16:30:00  19.3642  19.0457  18.7982  19.3642  19.0457  18.7982  \n",
       "2023-06-19 17:00:00  19.4126  19.1953  18.9316  19.4126  19.1953  18.9316  \n",
       "2023-06-19 17:30:00  19.1464  18.9890  18.8792  19.1464  18.9890  18.8792  \n",
       "\n",
       "[11044 rows x 12 columns]"
      ]
     },
     "execution_count": 30,
     "metadata": {},
     "output_type": "execute_result"
    }
   ],
   "source": [
    "# gather dry air density measurements\n",
    "temp_field_df = tidy_df[tidy_df.measurement.isin(['temperature']) & tidy_df.height.isin(HEIGHTS)]\n",
    "temp_field_df.measurement = 'T'\n",
    "temp_field_df = round(\n",
    "    temp_field_df.pivot_table(\n",
    "        index='time', columns=['height', 'tower', 'measurement'], values='value'\n",
    "    ), \n",
    "    4\n",
    ")\n",
    "\n",
    "# duplicate the dry air density measurements across the towers (THIS IS NAIVE)\n",
    "temp_for_tower_d = temp_field_df.copy()\n",
    "temp_for_tower_d.columns = pd.MultiIndex.from_tuples([(cs[0], 'd', cs[2]) for cs in temp_for_tower_d.columns])\n",
    "\n",
    "temp_for_tower_uw = temp_field_df.copy()\n",
    "temp_for_tower_uw.columns = pd.MultiIndex.from_tuples([(cs[0], 'uw', cs[2]) for cs in temp_for_tower_d.columns])\n",
    "\n",
    "temp_for_tower_ue = temp_field_df.copy()\n",
    "temp_for_tower_ue.columns = pd.MultiIndex.from_tuples([(cs[0], 'ue', cs[2]) for cs in temp_for_tower_d.columns])\n",
    "\n",
    "temp_field_df = temp_field_df.join(\n",
    "    temp_for_tower_d\n",
    ").join(\n",
    "    temp_for_tower_ue\n",
    ").join(\n",
    "    temp_for_tower_uw\n",
    ")\n",
    "\n",
    "temp_field_df.columns = temp_field_df.columns.set_names(['height', 'tower', 'measurement'])\n",
    "\n",
    "temp_field_df"
   ]
  },
  {
   "cell_type": "markdown",
   "metadata": {},
   "source": [
    "## Mixing ratio measurements"
   ]
  },
  {
   "cell_type": "code",
   "execution_count": 31,
   "metadata": {},
   "outputs": [
    {
     "data": {
      "text/html": [
       "<div>\n",
       "<style scoped>\n",
       "    .dataframe tbody tr th:only-of-type {\n",
       "        vertical-align: middle;\n",
       "    }\n",
       "\n",
       "    .dataframe tbody tr th {\n",
       "        vertical-align: top;\n",
       "    }\n",
       "\n",
       "    .dataframe thead tr th {\n",
       "        text-align: left;\n",
       "    }\n",
       "\n",
       "    .dataframe thead tr:last-of-type th {\n",
       "        text-align: right;\n",
       "    }\n",
       "</style>\n",
       "<table border=\"1\" class=\"dataframe\">\n",
       "  <thead>\n",
       "    <tr>\n",
       "      <th>height</th>\n",
       "      <th colspan=\"4\" halign=\"left\">1.0</th>\n",
       "      <th colspan=\"4\" halign=\"left\">3.0</th>\n",
       "      <th colspan=\"4\" halign=\"left\">10.0</th>\n",
       "    </tr>\n",
       "    <tr>\n",
       "      <th>tower</th>\n",
       "      <th>c</th>\n",
       "      <th>d</th>\n",
       "      <th>ue</th>\n",
       "      <th>uw</th>\n",
       "      <th>c</th>\n",
       "      <th>d</th>\n",
       "      <th>ue</th>\n",
       "      <th>uw</th>\n",
       "      <th>c</th>\n",
       "      <th>d</th>\n",
       "      <th>ue</th>\n",
       "      <th>uw</th>\n",
       "    </tr>\n",
       "    <tr>\n",
       "      <th>measurement</th>\n",
       "      <th>r</th>\n",
       "      <th>r</th>\n",
       "      <th>r</th>\n",
       "      <th>r</th>\n",
       "      <th>r</th>\n",
       "      <th>r</th>\n",
       "      <th>r</th>\n",
       "      <th>r</th>\n",
       "      <th>r</th>\n",
       "      <th>r</th>\n",
       "      <th>r</th>\n",
       "      <th>r</th>\n",
       "    </tr>\n",
       "    <tr>\n",
       "      <th>time</th>\n",
       "      <th></th>\n",
       "      <th></th>\n",
       "      <th></th>\n",
       "      <th></th>\n",
       "      <th></th>\n",
       "      <th></th>\n",
       "      <th></th>\n",
       "      <th></th>\n",
       "      <th></th>\n",
       "      <th></th>\n",
       "      <th></th>\n",
       "      <th></th>\n",
       "    </tr>\n",
       "  </thead>\n",
       "  <tbody>\n",
       "    <tr>\n",
       "      <th>2022-11-01 00:00:00</th>\n",
       "      <td>0.002549</td>\n",
       "      <td>0.003118</td>\n",
       "      <td>0.002698</td>\n",
       "      <td>0.002963</td>\n",
       "      <td>0.003059</td>\n",
       "      <td>0.002902</td>\n",
       "      <td>0.003019</td>\n",
       "      <td>0.003013</td>\n",
       "      <td>0.002987</td>\n",
       "      <td>0.002827</td>\n",
       "      <td>0.003009</td>\n",
       "      <td>0.002989</td>\n",
       "    </tr>\n",
       "    <tr>\n",
       "      <th>2022-11-01 00:30:00</th>\n",
       "      <td>0.002517</td>\n",
       "      <td>0.003095</td>\n",
       "      <td>0.002652</td>\n",
       "      <td>0.002970</td>\n",
       "      <td>0.003034</td>\n",
       "      <td>0.002884</td>\n",
       "      <td>0.003009</td>\n",
       "      <td>0.002992</td>\n",
       "      <td>0.002986</td>\n",
       "      <td>0.002830</td>\n",
       "      <td>0.002984</td>\n",
       "      <td>0.002996</td>\n",
       "    </tr>\n",
       "    <tr>\n",
       "      <th>2022-11-01 01:00:00</th>\n",
       "      <td>0.002515</td>\n",
       "      <td>0.003095</td>\n",
       "      <td>0.002649</td>\n",
       "      <td>0.002940</td>\n",
       "      <td>0.003029</td>\n",
       "      <td>0.002860</td>\n",
       "      <td>0.002979</td>\n",
       "      <td>0.002969</td>\n",
       "      <td>0.002971</td>\n",
       "      <td>0.002796</td>\n",
       "      <td>0.002973</td>\n",
       "      <td>0.002961</td>\n",
       "    </tr>\n",
       "    <tr>\n",
       "      <th>2022-11-01 01:30:00</th>\n",
       "      <td>0.002483</td>\n",
       "      <td>0.003066</td>\n",
       "      <td>0.002616</td>\n",
       "      <td>0.002903</td>\n",
       "      <td>0.003002</td>\n",
       "      <td>0.002832</td>\n",
       "      <td>0.002951</td>\n",
       "      <td>0.002931</td>\n",
       "      <td>0.002958</td>\n",
       "      <td>0.002794</td>\n",
       "      <td>0.002951</td>\n",
       "      <td>0.002963</td>\n",
       "    </tr>\n",
       "    <tr>\n",
       "      <th>2022-11-01 02:00:00</th>\n",
       "      <td>0.002475</td>\n",
       "      <td>0.003061</td>\n",
       "      <td>0.002600</td>\n",
       "      <td>0.002902</td>\n",
       "      <td>0.002989</td>\n",
       "      <td>0.002819</td>\n",
       "      <td>0.002936</td>\n",
       "      <td>0.002927</td>\n",
       "      <td>0.002930</td>\n",
       "      <td>0.002763</td>\n",
       "      <td>0.002928</td>\n",
       "      <td>0.002934</td>\n",
       "    </tr>\n",
       "    <tr>\n",
       "      <th>...</th>\n",
       "      <td>...</td>\n",
       "      <td>...</td>\n",
       "      <td>...</td>\n",
       "      <td>...</td>\n",
       "      <td>...</td>\n",
       "      <td>...</td>\n",
       "      <td>...</td>\n",
       "      <td>...</td>\n",
       "      <td>...</td>\n",
       "      <td>...</td>\n",
       "      <td>...</td>\n",
       "      <td>...</td>\n",
       "    </tr>\n",
       "    <tr>\n",
       "      <th>2023-06-19 15:30:00</th>\n",
       "      <td>0.003720</td>\n",
       "      <td>0.003361</td>\n",
       "      <td>0.004513</td>\n",
       "      <td>0.004320</td>\n",
       "      <td>0.003053</td>\n",
       "      <td>0.003761</td>\n",
       "      <td>0.003523</td>\n",
       "      <td>0.003545</td>\n",
       "      <td>0.002726</td>\n",
       "      <td>0.003754</td>\n",
       "      <td>0.003497</td>\n",
       "      <td>0.004367</td>\n",
       "    </tr>\n",
       "    <tr>\n",
       "      <th>2023-06-19 16:00:00</th>\n",
       "      <td>0.004113</td>\n",
       "      <td>0.003610</td>\n",
       "      <td>0.004872</td>\n",
       "      <td>0.004665</td>\n",
       "      <td>0.003414</td>\n",
       "      <td>0.004059</td>\n",
       "      <td>0.003875</td>\n",
       "      <td>0.004034</td>\n",
       "      <td>0.002934</td>\n",
       "      <td>0.003866</td>\n",
       "      <td>0.003649</td>\n",
       "      <td>0.004471</td>\n",
       "    </tr>\n",
       "    <tr>\n",
       "      <th>2023-06-19 16:30:00</th>\n",
       "      <td>0.003805</td>\n",
       "      <td>0.003244</td>\n",
       "      <td>0.004496</td>\n",
       "      <td>0.004210</td>\n",
       "      <td>0.003242</td>\n",
       "      <td>0.003825</td>\n",
       "      <td>0.003661</td>\n",
       "      <td>0.003767</td>\n",
       "      <td>0.002893</td>\n",
       "      <td>0.003778</td>\n",
       "      <td>0.003565</td>\n",
       "      <td>0.004364</td>\n",
       "    </tr>\n",
       "    <tr>\n",
       "      <th>2023-06-19 17:00:00</th>\n",
       "      <td>0.003976</td>\n",
       "      <td>0.003396</td>\n",
       "      <td>0.004675</td>\n",
       "      <td>0.004311</td>\n",
       "      <td>0.003365</td>\n",
       "      <td>0.003995</td>\n",
       "      <td>0.003809</td>\n",
       "      <td>0.003882</td>\n",
       "      <td>0.002936</td>\n",
       "      <td>0.003841</td>\n",
       "      <td>0.003671</td>\n",
       "      <td>0.004413</td>\n",
       "    </tr>\n",
       "    <tr>\n",
       "      <th>2023-06-19 17:30:00</th>\n",
       "      <td>0.003820</td>\n",
       "      <td>0.003341</td>\n",
       "      <td>0.004591</td>\n",
       "      <td>0.004163</td>\n",
       "      <td>0.003261</td>\n",
       "      <td>0.003985</td>\n",
       "      <td>0.003791</td>\n",
       "      <td>0.003741</td>\n",
       "      <td>0.003035</td>\n",
       "      <td>0.003930</td>\n",
       "      <td>0.003804</td>\n",
       "      <td>0.004488</td>\n",
       "    </tr>\n",
       "  </tbody>\n",
       "</table>\n",
       "<p>11051 rows × 12 columns</p>\n",
       "</div>"
      ],
      "text/plain": [
       "height                   1.0                                     3.0   \\\n",
       "tower                       c         d        ue        uw         c   \n",
       "measurement                 r         r         r         r         r   \n",
       "time                                                                    \n",
       "2022-11-01 00:00:00  0.002549  0.003118  0.002698  0.002963  0.003059   \n",
       "2022-11-01 00:30:00  0.002517  0.003095  0.002652  0.002970  0.003034   \n",
       "2022-11-01 01:00:00  0.002515  0.003095  0.002649  0.002940  0.003029   \n",
       "2022-11-01 01:30:00  0.002483  0.003066  0.002616  0.002903  0.003002   \n",
       "2022-11-01 02:00:00  0.002475  0.003061  0.002600  0.002902  0.002989   \n",
       "...                       ...       ...       ...       ...       ...   \n",
       "2023-06-19 15:30:00  0.003720  0.003361  0.004513  0.004320  0.003053   \n",
       "2023-06-19 16:00:00  0.004113  0.003610  0.004872  0.004665  0.003414   \n",
       "2023-06-19 16:30:00  0.003805  0.003244  0.004496  0.004210  0.003242   \n",
       "2023-06-19 17:00:00  0.003976  0.003396  0.004675  0.004311  0.003365   \n",
       "2023-06-19 17:30:00  0.003820  0.003341  0.004591  0.004163  0.003261   \n",
       "\n",
       "height                                                 10.0            \\\n",
       "tower                       d        ue        uw         c         d   \n",
       "measurement                 r         r         r         r         r   \n",
       "time                                                                    \n",
       "2022-11-01 00:00:00  0.002902  0.003019  0.003013  0.002987  0.002827   \n",
       "2022-11-01 00:30:00  0.002884  0.003009  0.002992  0.002986  0.002830   \n",
       "2022-11-01 01:00:00  0.002860  0.002979  0.002969  0.002971  0.002796   \n",
       "2022-11-01 01:30:00  0.002832  0.002951  0.002931  0.002958  0.002794   \n",
       "2022-11-01 02:00:00  0.002819  0.002936  0.002927  0.002930  0.002763   \n",
       "...                       ...       ...       ...       ...       ...   \n",
       "2023-06-19 15:30:00  0.003761  0.003523  0.003545  0.002726  0.003754   \n",
       "2023-06-19 16:00:00  0.004059  0.003875  0.004034  0.002934  0.003866   \n",
       "2023-06-19 16:30:00  0.003825  0.003661  0.003767  0.002893  0.003778   \n",
       "2023-06-19 17:00:00  0.003995  0.003809  0.003882  0.002936  0.003841   \n",
       "2023-06-19 17:30:00  0.003985  0.003791  0.003741  0.003035  0.003930   \n",
       "\n",
       "height                                   \n",
       "tower                      ue        uw  \n",
       "measurement                 r         r  \n",
       "time                                     \n",
       "2022-11-01 00:00:00  0.003009  0.002989  \n",
       "2022-11-01 00:30:00  0.002984  0.002996  \n",
       "2022-11-01 01:00:00  0.002973  0.002961  \n",
       "2022-11-01 01:30:00  0.002951  0.002963  \n",
       "2022-11-01 02:00:00  0.002928  0.002934  \n",
       "...                       ...       ...  \n",
       "2023-06-19 15:30:00  0.003497  0.004367  \n",
       "2023-06-19 16:00:00  0.003649  0.004471  \n",
       "2023-06-19 16:30:00  0.003565  0.004364  \n",
       "2023-06-19 17:00:00  0.003671  0.004413  \n",
       "2023-06-19 17:30:00  0.003804  0.004488  \n",
       "\n",
       "[11051 rows x 12 columns]"
      ]
     },
     "execution_count": 31,
     "metadata": {},
     "output_type": "execute_result"
    }
   ],
   "source": [
    "mixing_ratio_field_df = abs_hum_field_df.droplevel(2, 1) / dryair_density_field_df.droplevel(2, 1)\n",
    "\n",
    "mixing_ratio_field_df.columns = pd.MultiIndex.from_product(mixing_ratio_field_df.columns.levels + [['r']])\n",
    "mixing_ratio_field_df.columns = mixing_ratio_field_df.columns.set_names('measurement', level=2)\n",
    "\n",
    "mixing_ratio_field_df"
   ]
  },
  {
   "cell_type": "code",
   "execution_count": 32,
   "metadata": {},
   "outputs": [],
   "source": [
    "mixing_ratio_field_df.to_pickle('mixing_ratio_field_df.pkl')"
   ]
  },
  {
   "cell_type": "markdown",
   "metadata": {},
   "source": [
    "## Calculate interpolated fields (3D)"
   ]
  },
  {
   "cell_type": "code",
   "execution_count": 33,
   "metadata": {},
   "outputs": [],
   "source": [
    "# Initialize lists to store results\n",
    "wind_fields = []\n",
    "turbulent_latentheat_flux_fields = []\n",
    "turbulent_sensibleheat_flux_fields = []\n",
    "abshumidity_fields = []\n",
    "advectedflux_fields = []\n",
    "dryairdensity_fields = []\n",
    "temperature_fields = []\n",
    "\\\n",
    "mixingratio_fields = []\n",
    "\n",
    "grid_spacings = []\n",
    "timestamps = []\n",
    "\n",
    "\n",
    "field_dataframes ={\n",
    "    'wind' :            wind_field_df,              # m/s\n",
    "    'turb_flux' :       turb_flux_field_df,         # g/m^2/s\n",
    "    'temp_turb_flux' :  temp_turb_flux_field_df,    # K/m^2/s\n",
    "    'abs_hum' :         abs_hum_field_df,           # g/m^3/s\n",
    "    'adv_flux' :        adv_flux_field_df,          # g/m^2/s\n",
    "    'dryair_density' :  dryair_density_field_df,    # g/m^3\n",
    "    'temperature':      temp_field_df,              # ˚C\n",
    "    'mixing_ratio' :    mixing_ratio_field_df,      # g/g\n",
    "}\n",
    "\n",
    "for i in wind_field_df.index:\n",
    "    # sometimes we don't have all measurements - this ensures we only retrieve data that exists\n",
    "    if all([i in df.index for df in field_dataframes.values()]):\n",
    "        values_dataframes = {}\n",
    "        \n",
    "        # Isolate all measurementsfor this timestamp\n",
    "        for key in field_dataframes.keys():\n",
    "            values_dataframes[key] = pd.DataFrame(\n",
    "                field_dataframes[key].loc[i]\n",
    "            ).reset_index().set_index(['height', 'tower']).pivot(columns='measurement')\n",
    "            values_dataframes[key].columns = values_dataframes[key].columns.droplevel(0)\n",
    "\n",
    "        # Combine all measurements of fields and instrument locations into one dataframe\n",
    "        points_and_fields = instrument_loc_df.join(\n",
    "            values_dataframes['wind'], how='right' # join on right df, so we drop instruments that we don't have measurements for\n",
    "        )\n",
    "        for key in field_dataframes.keys():\n",
    "            if key != 'wind':\n",
    "                points_and_fields = points_and_fields.join(values_dataframes[key])\n",
    "\n",
    "        # Create a meshgrid for the interpolation\n",
    "        xx, yy, zz = np.meshgrid(\n",
    "            np.linspace(points_and_fields.x.min(), points_and_fields.x.max(), HORIZ_GRID_SPACING),\n",
    "            np.linspace(points_and_fields.y.min(), points_and_fields.y.max(), HORIZ_GRID_SPACING),\n",
    "            np.linspace(points_and_fields.z.min(), points_and_fields.z.max(), VERT_GRID_SPACING)\n",
    "        )\n",
    "        points = np.transpose(np.vstack((points_and_fields.x, points_and_fields.y, points_and_fields.z)))\n",
    "\n",
    "        # Interpolate wind field\n",
    "        u_interp = interpolate.griddata(points, points_and_fields['u'], (xx, yy, zz), method='linear')\n",
    "        v_interp = interpolate.griddata(points, points_and_fields['v'], (xx, yy, zz), method='linear')\n",
    "        w_interp = interpolate.griddata(points, points_and_fields['w'], (xx, yy, zz), method='linear')\n",
    "\n",
    "        # Interpolate turbulent latent heat flux fields\n",
    "        u_q__interp = interpolate.griddata(points, points_and_fields['u_h2o_'], (xx, yy, zz), method='linear')\n",
    "        v_q__interp = interpolate.griddata(points, points_and_fields['v_h2o_'], (xx, yy, zz), method='linear')\n",
    "        w_q__interp = interpolate.griddata(points, points_and_fields['w_h2o_'], (xx, yy, zz), method='linear')\n",
    "\n",
    "        # Interpolate turbulent sensible heat flux fields\n",
    "        u_tc__interp = interpolate.griddata(points, points_and_fields['u_tc_'], (xx, yy, zz), method='linear')\n",
    "        v_tc__interp = interpolate.griddata(points, points_and_fields['v_tc_'], (xx, yy, zz), method='linear')\n",
    "        w_tc__interp = interpolate.griddata(points, points_and_fields['w_tc_'], (xx, yy, zz), method='linear')\n",
    "\n",
    "        # Interpolate advected flux field\n",
    "        uq_interp = interpolate.griddata(points, points_and_fields['uq'], (xx, yy, zz), method='linear')\n",
    "        vq_interp = interpolate.griddata(points, points_and_fields['vq'], (xx, yy, zz), method='linear')\n",
    "        wq_interp = interpolate.griddata(points, points_and_fields['wq'], (xx, yy, zz), method='linear')\n",
    "\n",
    "        # Interpolate abs. humidity field\n",
    "        q_interp = interpolate.griddata(points, points_and_fields['q'], (xx, yy, zz), method='linear')\n",
    "\n",
    "        # Interpolate dry air density field\n",
    "        rho_interp = interpolate.griddata(points, points_and_fields['rho'], (xx, yy, zz), method='linear')\n",
    "\n",
    "        # Interpolatet temperature field\n",
    "        T_interp = interpolate.griddata(points, points_and_fields['T'], (xx, yy, zz), method='linear')\n",
    "\n",
    "        # Interpolate (water vapor) mixing ratio field\n",
    "        r_interp = interpolate.griddata(points, points_and_fields['r'], (xx, yy, zz), method='linear')\n",
    "\n",
    "        # Combine interpolated components into vector fields\n",
    "        F = np.array([u_interp, v_interp, w_interp])\n",
    "        Fq = np.array([uq_interp, vq_interp, wq_interp])\n",
    "        F_q_ = np.array([u_q__interp, v_q__interp, w_q__interp])\n",
    "        F_tc_ = np.array([u_tc__interp, v_tc__interp, w_tc__interp])\n",
    "\n",
    "        # Record grid spacing        \n",
    "        sp_x = np.diff(xx[0,:,0]).mean()\n",
    "        sp_y = np.diff(yy[:,0,0]).mean()\n",
    "        sp_z = np.diff(zz[0,0,:]).mean()\n",
    "        sp = [sp_x, sp_y, sp_z]\n",
    "\n",
    "        # Append interpolated fields to our results lists\n",
    "        wind_fields.append(F)\n",
    "        advectedflux_fields.append(Fq)\n",
    "        turbulent_latentheat_flux_fields.append(F_q_)\n",
    "        turbulent_sensibleheat_flux_fields.append(F_tc_)\n",
    "        abshumidity_fields.append(q_interp)\n",
    "        dryairdensity_fields.append(rho_interp)\n",
    "        temperature_fields.append(T_interp)\n",
    "        mixingratio_fields.append(r_interp)\n",
    "        grid_spacings.append(sp)\n",
    "        timestamps.append(i)"
   ]
  },
  {
   "cell_type": "markdown",
   "metadata": {},
   "source": [
    "## Calculate interpolated fields (2D)"
   ]
  },
  {
   "cell_type": "code",
   "execution_count": 34,
   "metadata": {},
   "outputs": [],
   "source": [
    "# # Initialize lists to store results\n",
    "# wind_fields_2d = []\n",
    "# turbulent_latentheat_flux_fields_2d = []\n",
    "# turbulent_sensibleheat_flux_fields_2d = []\n",
    "# abshumidity_fields_2d = []\n",
    "# advectedflux_fields_2d = []\n",
    "# dryairdensity_fields_2d = []\n",
    "# temperature_fields_2d = []\n",
    "# mixingratio_fields_2d = []\n",
    "\n",
    "# grid_spacings_2d = []\n",
    "# timestamps_2d = []\n",
    "\n",
    "\n",
    "# field_dataframes ={\n",
    "#     'wind' :            wind_field_df,              # m/s\n",
    "#     'turb_flux' :       turb_flux_field_df,         # g/m^2/s\n",
    "#     'temp_turb_flux' :  temp_turb_flux_field_df,    # K/m^2/s\n",
    "#     'abs_hum' :         abs_hum_field_df,           # g/m^3/s\n",
    "#     'adv_flux' :        adv_flux_field_df,          # g/m^2/s\n",
    "#     'dryair_density' :  dryair_density_field_df,    # g/m^3\n",
    "#     'temperature':      temp_field_df,              # ˚C\n",
    "#     'mixing_ratio' :    mixing_ratio_field_df,      # g/g\n",
    "# }\n",
    "\n",
    "# for i in wind_field_df.index:\n",
    "#     # sometimes we don't have all measurements - this ensures we only retrieve data that exists\n",
    "#     if all([i in df.index for df in field_dataframes.values()]):\n",
    "#         values_dataframes = {}\n",
    "        \n",
    "#         # Isolate all measurementsfor this timestamp\n",
    "#         for key in field_dataframes.keys():\n",
    "#             values_dataframes[key] = pd.DataFrame(\n",
    "#                 field_dataframes[key].loc[i]\n",
    "#             ).reset_index().set_index(['height', 'tower']).pivot(columns='measurement')\n",
    "#             values_dataframes[key].columns = values_dataframes[key].columns.droplevel(0)\n",
    "\n",
    "#         # Combine all measurements of fields and instrument locations into one dataframe\n",
    "#         points_and_fields = instrument_loc_df.join(\n",
    "#             values_dataframes['wind'], how='right' # join on right df, so we drop instruments that we don't have measurements for\n",
    "#         )\n",
    "#         for key in field_dataframes.keys():\n",
    "#             if key != 'wind':\n",
    "#                 points_and_fields = points_and_fields.join(values_dataframes[key])\n",
    "\n",
    "#         # Create a meshgrid for the interpolation\n",
    "#         wind_fields_2d_dict = {}\n",
    "#         advectedflux_fields_2d_dict = {}\n",
    "#         turbulent_latentheat_flux_fields_2d_dict = {}\n",
    "#         turbulent_sensibleheat_flux_fields_2d_dict = {}\n",
    "#         abshumidity_fields_2d_dict = {}\n",
    "#         dryairdensity_fields_2d_dict = {}\n",
    "#         temperature_fields_2d_dict = {}\n",
    "#         mixingratio_fields_2d_dict = {}\n",
    "#         grid_spacings_2d_dict = {}\n",
    "#         timestamps_2d_dict = {}\n",
    "#         for height in HEIGHTS:\n",
    "#             these_points_and_fields = points_and_fields.query(f\"height == {height}\")\n",
    "#             xx, yy = np.meshgrid(\n",
    "#                 np.linspace(these_points_and_fields.x.min(), these_points_and_fields.x.max(), HORIZ_GRID_SPACING),\n",
    "#                 np.linspace(these_points_and_fields.y.min(), these_points_and_fields.y.max(), HORIZ_GRID_SPACING),\n",
    "#             )\n",
    "#             points = np.transpose(np.vstack((these_points_and_fields.x, these_points_and_fields.y)))\n",
    "\n",
    "#             # Interpolate wind field\n",
    "#             u_interp = interpolate.griddata(points, these_points_and_fields['u'], (xx, yy), method='linear')\n",
    "#             v_interp = interpolate.griddata(points, these_points_and_fields['v'], (xx, yy), method='linear')\n",
    "#             w_interp = interpolate.griddata(points, these_points_and_fields['w'], (xx, yy), method='linear')\n",
    "\n",
    "#             # Interpolate turbulent latent heat flux fields\n",
    "#             u_q__interp = interpolate.griddata(points, these_points_and_fields['u_h2o_'], (xx, yy), method='linear')\n",
    "#             v_q__interp = interpolate.griddata(points, these_points_and_fields['v_h2o_'], (xx, yy), method='linear')\n",
    "#             w_q__interp = interpolate.griddata(points, these_points_and_fields['w_h2o_'], (xx, yy), method='linear')\n",
    "\n",
    "#             # Interpolate turbulent sensible heat flux fields\n",
    "#             u_tc__interp = interpolate.griddata(points, these_points_and_fields['u_tc_'], (xx, yy), method='linear')\n",
    "#             v_tc__interp = interpolate.griddata(points, these_points_and_fields['v_tc_'], (xx, yy), method='linear')\n",
    "#             w_tc__interp = interpolate.griddata(points, these_points_and_fields['w_tc_'], (xx, yy), method='linear')\n",
    "\n",
    "#             # Interpolate advected flux field\n",
    "#             uq_interp = interpolate.griddata(points, these_points_and_fields['uq'], (xx, yy), method='linear')\n",
    "#             vq_interp = interpolate.griddata(points, these_points_and_fields['vq'], (xx, yy), method='linear')\n",
    "#             wq_interp = interpolate.griddata(points, these_points_and_fields['wq'], (xx, yy), method='linear')\n",
    "\n",
    "#             # Interpolate abs. humidity field\n",
    "#             q_interp = interpolate.griddata(points, these_points_and_fields['q'], (xx, yy), method='linear')\n",
    "\n",
    "#             # Interpolate dry air density field\n",
    "#             rho_interp = interpolate.griddata(points, these_points_and_fields['rho'], (xx, yy), method='linear')\n",
    "\n",
    "#             # Interpolatet temperature field\n",
    "#             T_interp = interpolate.griddata(points, these_points_and_fields['T'], (xx, yy), method='linear')\n",
    "\n",
    "#             # Interpolate (water vapor) mixing ratio field\n",
    "#             r_interp = interpolate.griddata(points, these_points_and_fields['r'], (xx, yy), method='linear')\n",
    "\n",
    "#             # Combine interpolated components into vector fields\n",
    "#             F = np.array([u_interp, v_interp, w_interp])\n",
    "#             Fq = np.array([uq_interp, vq_interp, wq_interp])\n",
    "#             F_q_ = np.array([u_q__interp, v_q__interp, w_q__interp])\n",
    "#             F_tc_ = np.array([u_tc__interp, v_tc__interp, w_tc__interp])\n",
    "\n",
    "#             # Record grid spacing        \n",
    "#             sp_x = np.diff(xx[0,:]).mean()\n",
    "#             sp_y = np.diff(yy[:,0]).mean()\n",
    "#             sp = [sp_x, sp_y]\n",
    "\n",
    "#             wind_fields_2d_dict[height] = F\n",
    "#             advectedflux_fields_2d_dict[height] = Fq\n",
    "#             turbulent_latentheat_flux_fields_2d_dict[height] = F_q_\n",
    "#             turbulent_sensibleheat_flux_fields_2d_dict[height] = F_tc_\n",
    "#             abshumidity_fields_2d_dict[height] = q_interp\n",
    "#             dryairdensity_fields_2d_dict[height] = rho_interp\n",
    "#             temperature_fields_2d_dict[height] = T_interp\n",
    "#             mixingratio_fields_2d_dict[height] = r_interp\n",
    "#             grid_spacings_2d_dict[height] = sp\n",
    "#             timestamps_2d_dict[height] = i\n",
    "\n",
    "#         # Append interpolated fields to our results lists\n",
    "#         wind_fields_2d.append(wind_fields_2d_dict)\n",
    "#         advectedflux_fields_2d.append(advectedflux_fields_2d_dict)\n",
    "#         turbulent_latentheat_flux_fields_2d.append(turbulent_latentheat_flux_fields_2d_dict)\n",
    "#         turbulent_sensibleheat_flux_fields_2d.append(turbulent_sensibleheat_flux_fields_2d_dict)\n",
    "#         abshumidity_fields_2d.append(abshumidity_fields_2d_dict)\n",
    "#         dryairdensity_fields_2d.append(dryairdensity_fields_2d_dict)\n",
    "#         temperature_fields_2d.append(temperature_fields_2d_dict)\n",
    "#         mixingratio_fields_2d.append(mixingratio_fields_2d_dict)\n",
    "#         grid_spacings_2d.append(grid_spacings_2d_dict)\n",
    "#         timestamps_2d.append(timestamps_2d_dict)"
   ]
  },
  {
   "cell_type": "markdown",
   "metadata": {},
   "source": [
    "## Calculate divergences (3D)"
   ]
  },
  {
   "cell_type": "markdown",
   "metadata": {},
   "source": [
    "Conservation of mass, calculated with substitution of species mass density for the product of the mixing ratio and the dry air density ($q = s \\rho$). This is done so that the effects of dry air density changes caused by perturbations in temperature and water vapor (for moist air) can be separated from the effects of mixing ratio perturbations (Paw U et al., 2000).\n",
    "\n",
    "$$\n",
    "\\overline{\\rho} \\frac{\\partial \\overline{s}}{\\partial t} \n",
    "+ \\overline{s} \\frac{\\partial }{\\partial z} \\Big( \n",
    "    \\frac{\\overline{\\rho}}{\\overline{T}} ( 1 + \\mu \\overline{s}) \\overline{w'T'} + \\mu \\overline{w'q'} \n",
    "\\Big)\n",
    "+ \\overline{u_i} \\space \\overline{\\rho} \\frac{\\partial \\overline{s}}{\\partial x_i} \n",
    "+ \\frac{\\partial \\overline{w'q'}}{\\partial z}  = \\overline{S}\n",
    "$$\n",
    "\n",
    "Continuity, with reynolds decomposition, averaging, and some assumptions, is\n",
    "\n",
    "$$\n",
    "(\\overline{\\rho} \\frac{\\partial \\overline{u}}{\\partial x} + \\overline{\\rho} \\frac{\\partial \\overline{v}}{\\partial y} + \\overline{\\rho} \\frac{\\partial \\overline{w}}{\\partial z}) = \n",
    "(- \\overline{w} \\frac{\\partial \\overline{\\rho}}{\\partial z} - \\overline{u} \\frac{\\partial \\overline{\\rho} }{\\partial x} - \\overline{v} \\frac{\\partial \\overline{\\rho} }{\\partial y})\n",
    "- \\frac{\\partial \\overline{w'\\rho'}}{\\partial z}\n",
    "- \\frac{\\partial \\overline{\\rho} }{\\partial t}\n",
    "$$\n",
    "\n",
    "and note that from Webb et al. (1980), we can substitute\n",
    "$$\n",
    "\\frac{\\partial \\overline{w'\\rho'}}{\\partial z} = \\frac{\\partial}{\\partial z} \\biggl( \n",
    "    \\frac{\\overline{\\rho}}{\\overline{T}} (1 + \\mu \\overline{s} ) \\overline{w'T'} + \\mu \\overline{w'q'})\n",
    "\\biggl)\n",
    "$$"
   ]
  },
  {
   "cell_type": "code",
   "execution_count": 35,
   "metadata": {},
   "outputs": [],
   "source": [
    "mu = 1/0.622"
   ]
  },
  {
   "cell_type": "markdown",
   "metadata": {},
   "source": [
    "### But first, try calculaing w from continuity (a la Sun 2007)"
   ]
  },
  {
   "cell_type": "code",
   "execution_count": 36,
   "metadata": {},
   "outputs": [
    {
     "name": "stderr",
     "output_type": "stream",
     "text": [
      "/var/folders/x_/2h52bcjx2px15bhmdpdd748h0000gn/T/ipykernel_13412/825256972.py:7: RuntimeWarning: Mean of empty slice\n",
      "  - np.nanmean(np.gradient(wind_field[0], grid_spacing[0], axis=0)[:,:,:3])\n",
      "/var/folders/x_/2h52bcjx2px15bhmdpdd748h0000gn/T/ipykernel_13412/825256972.py:6: RuntimeWarning: Mean of empty slice\n",
      "  np.nanmean(np.gradient(wind_field[0], grid_spacing[0], axis=0)[:,:,17:])\n"
     ]
    }
   ],
   "source": [
    "vertical_velocity_from_continuity = []\n",
    "for i in range(0, len(wind_fields)):\n",
    "    wind_field = wind_fields[i]\n",
    "    grid_spacing = grid_spacings[i]\n",
    "    wbar = -1*(\n",
    "        np.nanmean(np.gradient(wind_field[0], grid_spacing[0], axis=0)[:,:,17:])\n",
    "        - np.nanmean(np.gradient(wind_field[0], grid_spacing[0], axis=0)[:,:,:3])\n",
    "    )*7\n",
    "    vertical_velocity_from_continuity.append(wbar)"
   ]
  },
  {
   "cell_type": "code",
   "execution_count": 37,
   "metadata": {},
   "outputs": [
    {
     "data": {
      "application/vnd.vegalite.v5+json": {
       "$schema": "https://vega.github.io/schema/vega-lite/v5.17.0.json",
       "config": {
        "view": {
         "continuousHeight": 300,
         "continuousWidth": 300
        }
       },
       "data": {
        "format": {
         "type": "json"
        },
        "url": "altair-data-1c2a1c163da0b7560c8e967ba36fa0a2.json"
       },
       "encoding": {
        "color": {
         "field": "key",
         "type": "nominal"
        },
        "x": {
         "field": "time",
         "timeUnit": "hoursminutes",
         "type": "temporal"
        },
        "y": {
         "aggregate": "mean",
         "field": "value",
         "type": "quantitative"
        }
       },
       "mark": {
        "type": "line"
       },
       "transform": [
        {
         "fold": [
          "w",
          "w_3m_c",
          "w_5m_c",
          "w_10m_c",
          "w_3m_ue",
          "w_10m_ue",
          "w_3m_uw",
          "w_10m_uw",
          "w_3m_d",
          "w_10m_d"
         ]
        }
       ]
      },
      "text/plain": [
       "<VegaLite 5 object>\n",
       "\n",
       "If you see this message, it means the renderer has not been properly enabled\n",
       "for the frontend that you are using. For more information, see\n",
       "https://altair-viz.github.io/user_guide/display_frontends.html#troubleshooting\n"
      ]
     },
     "execution_count": 37,
     "metadata": {},
     "output_type": "execute_result"
    }
   ],
   "source": [
    "w_meas = tidy_df[tidy_df.measurement == 'w'].pivot_table(index='time', values='value', columns='variable')\n",
    "w_meas.name = 'w_meas'\n",
    "\n",
    "\n",
    "\n",
    "w_from_continuity_df = pd.DataFrame({\n",
    "    'time':timestamps,\n",
    "    'w':vertical_velocity_from_continuity,\n",
    "}).set_index('time').join(\n",
    "    pd.DataFrame(w_meas)\n",
    ").reset_index()\n",
    "w_from_continuity_df\n",
    "alt.Chart(w_from_continuity_df).transform_fold(\n",
    "    ['w', 'w_3m_c', 'w_5m_c', 'w_10m_c',\n",
    "     'w_3m_ue', 'w_10m_ue',\n",
    "     'w_3m_uw', 'w_10m_uw',\n",
    "     'w_3m_d', 'w_10m_d'\n",
    "    ]\n",
    ").mark_line().encode(\n",
    "    alt.X('hoursminutes(time):T'),\n",
    "    alt.Y('mean(value):Q'),\n",
    "    alt.Color('key:N')\n",
    ")"
   ]
  },
  {
   "cell_type": "code",
   "execution_count": 38,
   "metadata": {},
   "outputs": [
    {
     "name": "stderr",
     "output_type": "stream",
     "text": [
      "/var/folders/x_/2h52bcjx2px15bhmdpdd748h0000gn/T/ipykernel_13412/3968809132.py:73: RuntimeWarning: All-NaN slice encountered\n",
      "  advective_density_flux_windgrad_lateral_ls.append(np.nanmedian(advective_density_flux_windgrad_lateral))\n",
      "/var/folders/x_/2h52bcjx2px15bhmdpdd748h0000gn/T/ipykernel_13412/3968809132.py:74: RuntimeWarning: All-NaN slice encountered\n",
      "  advective_density_flux_windgrad_vertical_ls.append(np.nanmedian(advective_density_flux_windgrad_vertical))\n",
      "/var/folders/x_/2h52bcjx2px15bhmdpdd748h0000gn/T/ipykernel_13412/3968809132.py:75: RuntimeWarning: All-NaN slice encountered\n",
      "  advective_density_flux_densitygrad_lateral_ls.append(np.nanmedian(advective_density_flux_densitygrad_lateral))\n",
      "/var/folders/x_/2h52bcjx2px15bhmdpdd748h0000gn/T/ipykernel_13412/3968809132.py:76: RuntimeWarning: All-NaN slice encountered\n",
      "  advective_density_flux_densitygrad_vertical_ls.append(np.nanmedian(advective_density_flux_densitygrad_vertical))\n",
      "/var/folders/x_/2h52bcjx2px15bhmdpdd748h0000gn/T/ipykernel_13412/3968809132.py:77: RuntimeWarning: All-NaN slice encountered\n",
      "  vertical_density_flux_deriv_term_ls.append(np.nanmedian(vertical_density_flux_deriv_term))\n",
      "/var/folders/x_/2h52bcjx2px15bhmdpdd748h0000gn/T/ipykernel_13412/3968809132.py:79: RuntimeWarning: All-NaN slice encountered\n",
      "  advective_term_lateral_ls.append(np.nanmedian(advective_term_lateral))\n",
      "/var/folders/x_/2h52bcjx2px15bhmdpdd748h0000gn/T/ipykernel_13412/3968809132.py:80: RuntimeWarning: All-NaN slice encountered\n",
      "  advective_term_vertical_ls.append(np.nanmedian(advective_term_vertical))\n",
      "/var/folders/x_/2h52bcjx2px15bhmdpdd748h0000gn/T/ipykernel_13412/3968809132.py:81: RuntimeWarning: All-NaN slice encountered\n",
      "  advective_term_total_ls.append(np.nanmedian(advective_term_total))\n",
      "/var/folders/x_/2h52bcjx2px15bhmdpdd748h0000gn/T/ipykernel_13412/3968809132.py:82: RuntimeWarning: All-NaN slice encountered\n",
      "  airdensityflux_term_vertical_ls.append(np.nanmedian(airdensityflux_term_vertical))\n"
     ]
    }
   ],
   "source": [
    "advective_term_lateral_ls = []\n",
    "advective_term_vertical_ls = []\n",
    "advective_term_total_ls = []\n",
    "airdensityflux_term_vertical_ls = []\n",
    "turbulent_term_vertical_ls = []\n",
    "\n",
    "advective_density_flux_windgrad_lateral_ls = []\n",
    "advective_density_flux_windgrad_vertical_ls = []\n",
    "advective_density_flux_densitygrad_lateral_ls = []\n",
    "advective_density_flux_densitygrad_vertical_ls = []\n",
    "vertical_density_flux_deriv_term_ls = []\n",
    "\n",
    "for i in range(0, len(wind_fields)):\n",
    "    wind_field                          = wind_fields[i]\n",
    "    turbulent_latentheat_flux_field     = turbulent_latentheat_flux_fields[i]\n",
    "    turbulent_sensibleheat_flux_field   = turbulent_sensibleheat_flux_fields[i]\n",
    "    abshumidity_field                   = abshumidity_fields[i]\n",
    "    dryairdensity_field                 = dryairdensity_fields[i]\n",
    "    temperature_field                  = temperature_fields[i]\n",
    "    mixingratio_field                   = mixingratio_fields[i]\n",
    "    grid_spacing                        = grid_spacings[i]\n",
    "    \n",
    "    # continuity stuff\n",
    "    advective_density_flux_windgrad_lateral = (\n",
    "        dryairdensity_field * np.gradient(wind_field[0], grid_spacing[0], axis=0) +\n",
    "        dryairdensity_field * np.gradient(wind_field[1], grid_spacing[1], axis=1)\n",
    "    )\n",
    "    advective_density_flux_windgrad_vertical = (\n",
    "        dryairdensity_field * np.gradient(wind_field[2], grid_spacing[2], axis=2)\n",
    "    )\n",
    "    advective_density_flux_densitygrad_lateral = (\n",
    "        wind_field[0]*np.gradient(dryairdensity_field, grid_spacing[0], axis=0) + \n",
    "        wind_field[1]*np.gradient(dryairdensity_field, grid_spacing[1], axis=1)\n",
    "    )\n",
    "    advective_density_flux_densitygrad_vertical = (\n",
    "        wind_field[2]*np.gradient(dryairdensity_field, grid_spacing[2], axis=2)\n",
    "    )\n",
    "\n",
    "    vertical_density_flux_term = (\n",
    "            (dryairdensity_field/temperature_field) * (1 + mu*mixingratio_field) * turbulent_sensibleheat_flux_field[2] + mu*turbulent_latentheat_flux_field[2]\n",
    "        )\n",
    "    vertical_density_flux_deriv_term = np.gradient(\n",
    "        vertical_density_flux_term,\n",
    "        grid_spacing[2],\n",
    "        axis=2\n",
    "    )\n",
    "\n",
    "    # conservation of moisture stuff\n",
    "    ds_dx = np.gradient(mixingratio_field,  grid_spacing[0],    axis=0)\n",
    "    ds_dy = np.gradient(mixingratio_field,  grid_spacing[1],    axis=1)\n",
    "    ds_dz = np.gradient(mixingratio_field,  grid_spacing[2],    axis=2)\n",
    "    advective_term_lateral = (\n",
    "        wind_field[0] * dryairdensity_field * ds_dx + \n",
    "        wind_field[1] * dryairdensity_field * ds_dy\n",
    "    )\n",
    "    advective_term_vertical = (\n",
    "        wind_field[2]*dryairdensity_field*ds_dz\n",
    "    )\n",
    "    advective_term_total = advective_term_lateral + advective_term_vertical\n",
    "\n",
    "    airdensityflux_term_vertical = mixingratio_field * np.gradient(\n",
    "        vertical_density_flux_term,\n",
    "        grid_spacing[2],\n",
    "        axis=2\n",
    "    )\n",
    "\n",
    "    turbulent_term_vertical = np.gradient(\n",
    "        turbulent_latentheat_flux_field[2],\n",
    "        grid_spacing[2],\n",
    "        axis=2\n",
    "    )\n",
    "\n",
    "    advective_density_flux_windgrad_lateral_ls.append(np.nanmedian(advective_density_flux_windgrad_lateral))\n",
    "    advective_density_flux_windgrad_vertical_ls.append(np.nanmedian(advective_density_flux_windgrad_vertical))\n",
    "    advective_density_flux_densitygrad_lateral_ls.append(np.nanmedian(advective_density_flux_densitygrad_lateral))\n",
    "    advective_density_flux_densitygrad_vertical_ls.append(np.nanmedian(advective_density_flux_densitygrad_vertical))\n",
    "    vertical_density_flux_deriv_term_ls.append(np.nanmedian(vertical_density_flux_deriv_term))\n",
    "\n",
    "    advective_term_lateral_ls.append(np.nanmedian(advective_term_lateral))\n",
    "    advective_term_vertical_ls.append(np.nanmedian(advective_term_vertical))\n",
    "    advective_term_total_ls.append(np.nanmedian(advective_term_total))\n",
    "    airdensityflux_term_vertical_ls.append(np.nanmedian(airdensityflux_term_vertical))\n",
    "    turbulent_term_vertical_ls.append(np.nanmedian(turbulent_term_vertical))"
   ]
  },
  {
   "cell_type": "markdown",
   "metadata": {},
   "source": [
    "## Calculate divergences (2D)"
   ]
  },
  {
   "cell_type": "code",
   "execution_count": 39,
   "metadata": {},
   "outputs": [],
   "source": [
    "# advective_term_lateral_ls_2d = []\n",
    "# advective_term_vertical_ls_2d = []\n",
    "# advective_term_total_ls_2d = []\n",
    "# airdensityflux_term_vertical_ls_2d = []\n",
    "# turbulent_term_vertical_ls_2d = []\n",
    "\n",
    "# for i in range(0, len(wind_fields_2d)):\n",
    "#     wind_field                          = wind_fields_2d[i]\n",
    "#     turbulent_latentheat_flux_field     = turbulent_latentheat_flux_fields_2d[i]\n",
    "#     turbulent_sensibleheat_flux_field   = turbulent_sensibleheat_flux_fields_2d[i]\n",
    "#     abshumidity_field                   = abshumidity_fields_2d[i]\n",
    "#     dryairdensity_field                 = dryairdensity_fields_2d[i]\n",
    "#     temperature_field                  = temperature_fields_2d[i]\n",
    "#     mixingratio_field                   = mixingratio_fields_2d[i]\n",
    "#     grid_spacing                        = grid_spacings_2d[i]\n",
    "    \n",
    "#     advective_term_lateral_ls_2d_dict = {}  \n",
    "#     advective_term_vertical_ls_2d_dict = {}\n",
    "#     advective_term_total_ls_2d_dict = {}\n",
    "#     airdensityflux_term_vertical_ls_2d_dict = {}\n",
    "#     turbulent_term_vertical_ls_2d_dict = {}\n",
    "#     for height in wind_field.keys():\n",
    "#         ds_dx = np.gradient(mixingratio_field[height],  grid_spacing[height][0],    axis=0)\n",
    "#         ds_dy = np.gradient(mixingratio_field[height],  grid_spacing[height][1],    axis=1)\n",
    "#         ds_dz = np.gradient(\n",
    "#             np.stack([mixingratio_field[3], mixingratio_field[10]], axis=2),\n",
    "#             7,\n",
    "#             axis=2\n",
    "#         ).mean(axis=2)\n",
    "#         advective_term_lateral = (\n",
    "#             wind_field[height][0] * dryairdensity_field[height] * ds_dx + \n",
    "#             wind_field[height][1] * dryairdensity_field[height] * ds_dy\n",
    "#         )\n",
    "#         advective_term_vertical = (\n",
    "#             wind_field[height][2]*dryairdensity_field[height]*ds_dz\n",
    "#         )\n",
    "#         advective_term_total = advective_term_lateral + advective_term_vertical\n",
    "\n",
    "#         # airdensityflux_term_vertical = mixingratio_field[height] * np.gradient(\n",
    "#         #     (\n",
    "#         #         (dryairdensity_field[height]/temperature_field[height]) * (1 + mu*mixingratio_field[height]) * turbulent_sensibleheat_flux_field[height][2] + mu*turbulent_latentheat_flux_field[height][2]\n",
    "#         #     ),\n",
    "#         #     grid_spacing[height][2],\n",
    "#         #     axis=2\n",
    "#         # )\n",
    "\n",
    "#         # turbulent_term_vertical = np.gradient(\n",
    "#         #     turbulent_latentheat_flux_field[height][2],\n",
    "#         #     grid_spacing[height][2],\n",
    "#         #     axis=2\n",
    "#         # )\n",
    "#         advective_term_lateral_ls_2d_dict[height] = np.nanmedian(advective_term_lateral)\n",
    "#         advective_term_vertical_ls_2d_dict[height] = np.nanmedian(advective_term_vertical)\n",
    "#         advective_term_total_ls_2d_dict[height] = np.nanmedian(advective_term_total)\n",
    "#         # airdensityflux_term_vertical_ls_2d_dict[height] = np.nanmedian(airdensityflux_term_vertical)\n",
    "#         # turbulent_term_vertical_ls_2d_dict[height] = np.nanmedian(turbulent_term_vertical)\n",
    "    \n",
    "#     advective_term_lateral_ls_2d.append(advective_term_lateral_ls_2d_dict)\n",
    "#     advective_term_vertical_ls_2d.append(advective_term_vertical_ls_2d_dict)\n",
    "#     advective_term_total_ls_2d.append(advective_term_total_ls_2d_dict)\n",
    "#     # airdensityflux_term_vertical_ls_2d.append(airdensityflux_term_vertical_ls_2d_dict)\n",
    "#     # turbulent_term_vertical_ls_2d.append(turbulent_term_vertical_ls_2d_dict)"
   ]
  },
  {
   "cell_type": "markdown",
   "metadata": {},
   "source": [
    "## Calculate spatially averaged divergence values (3D)"
   ]
  },
  {
   "cell_type": "code",
   "execution_count": 40,
   "metadata": {},
   "outputs": [
    {
     "name": "stderr",
     "output_type": "stream",
     "text": [
      "/var/folders/x_/2h52bcjx2px15bhmdpdd748h0000gn/T/ipykernel_13412/3340012660.py:7: RuntimeWarning: All-NaN slice encountered\n",
      "  'dryair_density' : [np.nanmedian(item) for item in dryairdensity_fields],\n",
      "/var/folders/x_/2h52bcjx2px15bhmdpdd748h0000gn/T/ipykernel_13412/3340012660.py:8: RuntimeWarning: All-NaN slice encountered\n",
      "  'mixing_ratio' : [np.nanmedian(item) for item in mixingratio_fields],\n",
      "/var/folders/x_/2h52bcjx2px15bhmdpdd748h0000gn/T/ipykernel_13412/3340012660.py:29: RuntimeWarning: All-NaN slice encountered\n",
      "  'dryair_density'        : [np.nanmedian(item) for item in dryairdensity_fields],\n"
     ]
    }
   ],
   "source": [
    "conservation_spatial_mean_df = pd.DataFrame({\n",
    "    'advective_term_lateral' : advective_term_lateral_ls,\n",
    "    'advective_term_vertical' : advective_term_vertical_ls,\n",
    "    'advective_term_total' : advective_term_total_ls,\n",
    "    'airdensityflux_term_vertical' : airdensityflux_term_vertical_ls,\n",
    "    'turbulent_term_vertical' : turbulent_term_vertical_ls,\n",
    "    'dryair_density' : [np.nanmedian(item) for item in dryairdensity_fields],\n",
    "    'mixing_ratio' : [np.nanmedian(item) for item in mixingratio_fields],\n",
    "})\n",
    "conservation_spatial_mean_df['time'] = timestamps\n",
    "conservation_spatial_mean_df = conservation_spatial_mean_df.set_index('time')\n",
    "conservation_spatial_mean_df['storage_change'] = conservation_spatial_mean_df['dryair_density'] * np.gradient(\n",
    "    conservation_spatial_mean_df['mixing_ratio'],\n",
    "    conservation_spatial_mean_df.index.diff()[1].seconds\n",
    ")\n",
    "conservation_spatial_mean_df['source'] = (\n",
    "    conservation_spatial_mean_df['storage_change']\n",
    "    + conservation_spatial_mean_df['advective_term_total']\n",
    "    - conservation_spatial_mean_df['airdensityflux_term_vertical']\n",
    "    + conservation_spatial_mean_df['turbulent_term_vertical']\n",
    ")\n",
    "\n",
    "continuity_spatial_mean_df = pd.DataFrame({\n",
    "    'rho du/dx + rho dv/dy' : advective_density_flux_windgrad_lateral_ls,\n",
    "    'rho dw/dz'             : advective_density_flux_windgrad_vertical_ls,\n",
    "    'u d(rho)/dx + v drho/dy' : advective_density_flux_densitygrad_lateral_ls,\n",
    "    'w d(rho)/dz'             : advective_density_flux_densitygrad_vertical_ls,\n",
    "    \"d(w_rho_)/dz\"          : vertical_density_flux_deriv_term_ls,\n",
    "    'dryair_density'        : [np.nanmedian(item) for item in dryairdensity_fields],\n",
    "})\n",
    "continuity_spatial_mean_df['time'] = timestamps\n",
    "continuity_spatial_mean_df = continuity_spatial_mean_df.set_index('time')\n",
    "continuity_spatial_mean_df['d(rho)_dt'] = np.gradient(\n",
    "    continuity_spatial_mean_df['dryair_density'],\n",
    "    continuity_spatial_mean_df.index.diff()[1].seconds\n",
    ")"
   ]
  },
  {
   "cell_type": "markdown",
   "metadata": {},
   "source": [
    "## Calculate spatially averaged divergence values (2D)"
   ]
  },
  {
   "cell_type": "code",
   "execution_count": 41,
   "metadata": {},
   "outputs": [],
   "source": [
    "# conservation_spatial_mean_2d_df = pd.DataFrame({\n",
    "#     'advective_term_lateral_1m' : [d[3] for d in advective_term_lateral_ls_2d],\n",
    "#     'advective_term_lateral_3m' : [d[3] for d in advective_term_lateral_ls_2d],\n",
    "#     'advective_term_lateral_10m' : [d[10] for d in advective_term_lateral_ls_2d],\n",
    "#     'advective_term_vertical_3m' : [d[3] for d in advective_term_vertical_ls_2d],\n",
    "#     'advective_term_vertical_10m' : [d[10] for d in advective_term_vertical_ls_2d],\n",
    "#     'advective_term_total_3m' : [d[3] for d in advective_term_total_ls_2d],\n",
    "#     'advective_term_total_10m' : [d[10] for d in advective_term_total_ls_2d],\n",
    "#     # 'advective_term_total_1m' : [d[1] for d in advective_term_total_ls_2d],\n",
    "#     # 'advective_term_total_3m' : [d[3] for d in advective_term_total_ls_2d],\n",
    "#     # 'advective_term_total_10m' : [d[10] for d in advective_term_total_ls_2d],\n",
    "#     # 'airdensityflux_term_vertical' : airdensityflux_term_vertical_ls,\n",
    "#     # 'turbulent_term_vertical' : turbulent_term_vertical_ls,\n",
    "#     # 'dryair_density' : [np.nanmedian(item) for item in dryairdensity_fields],\n",
    "#     # 'mixing_ratio' : [np.nanmedian(item) for item in mixingratio_fields],\n",
    "# })\n",
    "# conservation_spatial_mean_2d_df['time'] = [d[10] for d in timestamps_2d]\n",
    "# conservation_spatial_mean_2d_df = conservation_spatial_mean_2d_df.set_index('time')"
   ]
  },
  {
   "cell_type": "markdown",
   "metadata": {},
   "source": [
    "# Explore how interpolation method affects divergence calculations"
   ]
  },
  {
   "cell_type": "code",
   "execution_count": 42,
   "metadata": {},
   "outputs": [
    {
     "data": {
      "text/plain": [
       "array([0.0044520936, 0.0042740404, 0.0041058983, 0.0039506715,\n",
       "       0.0038114298, 0.0036909648, 0.0035913796, 0.0035137023,\n",
       "       0.0034576242, 0.0034214422, 0.0034022209, 0.0033961269,\n",
       "       0.0033988465, 0.0034059998, 0.003413496 , 0.0034178081,\n",
       "       0.0034161735, 0.0034067381, 0.0033886494, 0.0033620908,\n",
       "       0.0033282283, 0.0032890337, 0.0032469677, 0.0032045505,\n",
       "       0.0031639055, 0.0031264026, 0.0030925099, 0.0030618969,\n",
       "       0.0030337416, 0.0030071353, 0.0029814726, 0.0029567465,\n",
       "       0.0029337152, 0.0029139386, 0.0028997003, 0.0028938308,\n",
       "       0.0028994487, 0.0029196455, 0.0029571483, 0.0030140102,\n",
       "       0.0030913821, 0.0031894095, 0.0033072708, 0.0034433405,\n",
       "       0.0035954324, 0.0037610656, 0.003937706 , 0.0041229506,\n",
       "       0.0043146467, 0.004510951 ])"
      ]
     },
     "execution_count": 42,
     "metadata": {},
     "output_type": "execute_result"
    }
   ],
   "source": [
    "interpolate.Rbf(\n",
    "    points_and_fields[['x','y','z','r']].dropna().x,\n",
    "    points_and_fields[['x','y','z','r']].dropna().y,\n",
    "    points_and_fields[['x','y','z','r']].dropna().z,\n",
    "    points_and_fields[['x','y','z','r']].dropna().r\n",
    ")(\n",
    "    np.linspace(points_and_fields.x.min(), points_and_fields.x.max(), HORIZ_GRID_SPACING),\n",
    "    np.linspace(points_and_fields.y.min(), points_and_fields.y.max(), HORIZ_GRID_SPACING),\n",
    "    np.linspace(points_and_fields.z.min(), points_and_fields.z.max(), HORIZ_GRID_SPACING)\n",
    ")\n",
    "\n",
    "\n",
    "interpolate.Rbf(\n",
    "    points_and_fields[['x','y','z','r']].dropna().x,\n",
    "    points_and_fields[['x','y','z','r']].dropna().y,\n",
    "    points_and_fields[['x','y','z','r']].dropna().z,\n",
    "    points_and_fields[['x','y','z','r']].dropna().r\n",
    ")(\n",
    "    np.linspace(points_and_fields.x.min(), points_and_fields.x.max(), HORIZ_GRID_SPACING),\n",
    "    np.linspace(points_and_fields.y.min(), points_and_fields.y.max(), HORIZ_GRID_SPACING),\n",
    "    np.linspace(points_and_fields.z.min(), points_and_fields.z.max(), HORIZ_GRID_SPACING)\n",
    ")\n"
   ]
  },
  {
   "cell_type": "code",
   "execution_count": 43,
   "metadata": {},
   "outputs": [
    {
     "data": {
      "image/png": "[encoded data removed]",
      "text/plain": [
       "<Figure size 640x480 with 4 Axes>"
      ]
     },
     "metadata": {},
     "output_type": "display_data"
    }
   ],
   "source": [
    "xx_horiz, yy_horiz = np.meshgrid(\n",
    "    np.linspace(points_and_fields.x.min(), points_and_fields.x.max(), HORIZ_GRID_SPACING),\n",
    "    np.linspace(points_and_fields.y.min(), points_and_fields.y.max(), HORIZ_GRID_SPACING),\n",
    ")\n",
    "\n",
    "src_linear = interpolate.griddata(\n",
    "    points_and_fields.loc[3][['x','y']].values, \n",
    "    points_and_fields.loc[3]['r'], \n",
    "    (xx_horiz, yy_horiz), \n",
    "    method='linear'\n",
    ")\n",
    "src_cubic = interpolate.griddata(\n",
    "    points_and_fields.loc[3][['x','y']].values, \n",
    "    points_and_fields.loc[3]['r'], \n",
    "    (xx_horiz, yy_horiz), \n",
    "    method='cubic'\n",
    ")\n",
    "src_grad_linear = (\n",
    "    np.gradient(src_linear, grid_spacing[0], axis=0) + \n",
    "    np.gradient(src_linear, grid_spacing[1], axis=1)\n",
    ")\n",
    "src_grad_cubic = (\n",
    "    np.gradient(src_cubic, grid_spacing[0], axis=0) + \n",
    "    np.gradient(src_cubic, grid_spacing[1], axis=1)\n",
    ")\n",
    "fig, axes = plt.subplots(2,2, sharex=True, sharey=True)\n",
    "axes[0,0].imshow(src_linear)\n",
    "axes[0,1].imshow(src_cubic)\n",
    "axes[1,0].imshow(src_grad_linear)\n",
    "axes[1,1].imshow(src_grad_cubic)\n",
    "axes[0,0].set_title(\"linear interp.\\nq\")\n",
    "axes[0,1].set_title(\"cubic interp.\\nq\")\n",
    "axes[1,0].set_title(f\"dq/dx + dq/dy \\n(median = {round(np.nanmedian(src_grad_linear),8)})\")\n",
    "axes[1,1].set_title(f\"dq/dx + dq/dy \\n(median = {round(np.nanmedian(src_grad_cubic),8)})\")\n",
    "plt.tight_layout()"
   ]
  },
  {
   "cell_type": "markdown",
   "metadata": {},
   "source": [
    "# Plot results"
   ]
  },
  {
   "cell_type": "code",
   "execution_count": 44,
   "metadata": {},
   "outputs": [],
   "source": [
    "line = alt.Chart().mark_rule().encode(y=alt.datum(0))\n",
    "\n",
    "def conservation_spatial_mean_composite_plot(src, columns, title, times_filter = None, normalize = None):\n",
    "    src = src.copy(deep=True)\n",
    "    if times_filter is not None:\n",
    "        src = src[src.time.isin(times_filter)]\n",
    "    else:\n",
    "        src = src\n",
    "    if normalize is not None:\n",
    "        src[columns] = src[columns] * normalize\n",
    "    return line + alt.Chart(\n",
    "        src.reset_index()\n",
    "    ).transform_fold(\n",
    "        columns\n",
    "    ).mark_line().encode(\n",
    "        alt.X('hoursminutes(time):T').title('time'),\n",
    "        alt.Y('median(value):Q'),\n",
    "        alt.Color('key:N')\n",
    "    ).properties(height = 200, width = 200, title=title)"
   ]
  },
  {
   "cell_type": "code",
   "execution_count": 45,
   "metadata": {},
   "outputs": [],
   "source": [
    "method_3d_chart = conservation_spatial_mean_composite_plot(\n",
    "        conservation_spatial_mean_df,\n",
    "        [\n",
    "            'advective_term_lateral', 'advective_term_vertical', 'advective_term_total', \n",
    "            'airdensityflux_term_vertical', 'turbulent_term_vertical', 'storage_change', 'source'\n",
    "        ],\n",
    "        title='3D Method', normalize = 7\n",
    "    )\n",
    "# method_2d_chart = conservation_spatial_mean_composite_plot(\n",
    "#         conservation_spatial_mean_2d_df, \n",
    "#         [c for c in list(conservation_spatial_mean_2d_df.columns) if '1m' not in c], \n",
    "#         '2D Method, cubic interpolation', \n",
    "#         times_filter = None, \n",
    "#         normalize = 7\n",
    "#     )"
   ]
  },
  {
   "cell_type": "code",
   "execution_count": 57,
   "metadata": {},
   "outputs": [
    {
     "data": {
      "application/vnd.vegalite.v5+json": {
       "$schema": "https://vega.github.io/schema/vega-lite/v5.17.0.json",
       "config": {
        "view": {
         "continuousHeight": 300,
         "continuousWidth": 300
        }
       },
       "datasets": {
        "empty": [
         {}
        ]
       },
       "height": 200,
       "layer": [
        {
         "data": {
          "name": "empty"
         },
         "encoding": {
          "y": {
           "datum": 0
          }
         },
         "mark": {
          "type": "rule"
         }
        },
        {
         "data": {
          "format": {
           "type": "json"
          },
          "url": "altair-data-21da1ea55f76574fc56c68d94ce2ebd2.json"
         },
         "encoding": {
          "color": {
           "field": "key",
           "type": "nominal"
          },
          "x": {
           "field": "time",
           "timeUnit": "hoursminutes",
           "title": "time",
           "type": "temporal"
          },
          "y": {
           "aggregate": "median",
           "field": "value",
           "type": "quantitative"
          }
         },
         "mark": {
          "type": "line"
         },
         "title": "3D Method",
         "transform": [
          {
           "fold": [
            "advective_term_lateral",
            "advective_term_vertical",
            "advective_term_total"
           ]
          }
         ]
        }
       ],
       "width": 200
      },
      "text/plain": [
       "<VegaLite 5 object>\n",
       "\n",
       "If you see this message, it means the renderer has not been properly enabled\n",
       "for the frontend that you are using. For more information, see\n",
       "https://altair-viz.github.io/user_guide/display_frontends.html#troubleshooting\n"
      ]
     },
     "execution_count": 57,
     "metadata": {},
     "output_type": "execute_result"
    },
    {
     "ename": "",
     "evalue": "",
     "output_type": "error",
     "traceback": [
      "\u001b[1;31mThe Kernel crashed while executing code in the the current cell or a previous cell. Please review the code in the cell(s) to identify a possible cause of the failure. Click <a href='https://aka.ms/vscodeJupyterKernelCrash'>here</a> for more info. View Jupyter <a href='command:jupyter.viewOutput'>log</a> for further details."
     ]
    }
   ],
   "source": [
    "method_3d_chart"
   ]
  },
  {
   "cell_type": "code",
   "execution_count": 46,
   "metadata": {},
   "outputs": [
    {
     "data": {
      "application/vnd.vegalite.v5+json": {
       "$schema": "https://vega.github.io/schema/vega-lite/v5.17.0.json",
       "config": {
        "view": {
         "continuousHeight": 300,
         "continuousWidth": 300
        }
       },
       "data": {
        "format": {
         "type": "json"
        },
        "url": "altair-data-5f729ceb3cb3138c56e376c0f7cc84e6.json"
       },
       "encoding": {
        "color": {
         "field": "key",
         "sort": [
          "w_h2o__3m_c",
          "advective_term_lateral",
          "advective_term_vertical"
         ],
         "type": "nominal"
        },
        "x": {
         "field": "time",
         "timeUnit": "hoursminutes",
         "type": "temporal"
        },
        "y": {
         "aggregate": "median",
         "field": "value",
         "scale": {
          "domain": [
           -0.001,
           0.006
          ]
         },
         "title": "Water vapor flux density (g/m^2/s)",
         "type": "quantitative"
        }
       },
       "height": 200,
       "mark": {
        "type": "line"
       },
       "transform": [
        {
         "fold": [
          "advective_term_lateral",
          "w_h2o__3m_c",
          "advective_term_vertical"
         ]
        }
       ],
       "width": 200
      },
      "text/plain": [
       "<VegaLite 5 object>\n",
       "\n",
       "If you see this message, it means the renderer has not been properly enabled\n",
       "for the frontend that you are using. For more information, see\n",
       "https://altair-viz.github.io/user_guide/display_frontends.html#troubleshooting\n"
      ]
     },
     "metadata": {
      "application/vnd.vegalite.v5+json": {
       "embed_options": {
        "renderer": "svg"
       }
      }
     },
     "output_type": "display_data"
    }
   ],
   "source": [
    "src = conservation_spatial_mean_df.join(\n",
    "    tidy_df.query(\"variable=='w_h2o__3m_c'\")[['time', 'value']].set_index('time').rename(columns={'value':'w_h2o__3m_c'})\n",
    ")\n",
    "alt.Chart(\n",
    "    src.reset_index()\n",
    ").transform_fold(\n",
    "    ['advective_term_lateral', 'w_h2o__3m_c', 'advective_term_vertical']\n",
    ").mark_line().encode(\n",
    "    alt.X('hoursminutes(time):T'),\n",
    "    alt.Y('median(value):Q').title('Water vapor flux density (g/m^2/s)').scale(\n",
    "        domain=[-0.001, 0.006]\n",
    "    ),\n",
    "    alt.Color('key:N').sort([\n",
    "        'w_h2o__3m_c', 'advective_term_lateral', 'advective_term_vertical'\n",
    "    ])\n",
    "    \n",
    ").properties(width = 200, height = 200).display(renderer='svg')"
   ]
  },
  {
   "cell_type": "code",
   "execution_count": 47,
   "metadata": {},
   "outputs": [],
   "source": [
    "method_3d_chart = conservation_spatial_mean_composite_plot(\n",
    "        conservation_spatial_mean_df,\n",
    "        [\n",
    "            'advective_term_lateral', \n",
    "            'advective_term_vertical', \n",
    "            'advective_term_total', \n",
    "            # 'airdensityflux_term_vertical', 'turbulent_term_vertical', 'storage_change', 'source'\n",
    "        ],\n",
    "        title='3D Method', normalize = 7\n",
    "    )"
   ]
  },
  {
   "cell_type": "code",
   "execution_count": 48,
   "metadata": {},
   "outputs": [
    {
     "data": {
      "application/vnd.vegalite.v5+json": {
       "$schema": "https://vega.github.io/schema/vega-lite/v5.17.0.json",
       "config": {
        "view": {
         "continuousHeight": 300,
         "continuousWidth": 300
        }
       },
       "data": {
        "format": {
         "type": "json"
        },
        "url": "altair-data-ea68a95588d766fd2c6b69cf10b63745.json"
       },
       "encoding": {
        "color": {
         "field": "key",
         "type": "nominal"
        },
        "x": {
         "field": "time",
         "type": "temporal"
        },
        "y": {
         "field": "value",
         "scale": {
          "clamp": true,
          "domain": [
           -0.1,
           0.1
          ]
         },
         "type": "quantitative"
        }
       },
       "mark": {
        "type": "line"
       },
       "transform": [
        {
         "fold": [
          "advective_term_lateral",
          "advective_term_vertical",
          "advective_term_total"
         ]
        }
       ],
       "width": 800
      },
      "text/plain": [
       "<VegaLite 5 object>\n",
       "\n",
       "If you see this message, it means the renderer has not been properly enabled\n",
       "for the frontend that you are using. For more information, see\n",
       "https://altair-viz.github.io/user_guide/display_frontends.html#troubleshooting\n"
      ]
     },
     "execution_count": 48,
     "metadata": {},
     "output_type": "execute_result"
    }
   ],
   "source": [
    "alt.Chart(\n",
    "    conservation_spatial_mean_df.loc['20221101':'20221120'].reset_index()\n",
    ").transform_fold([\n",
    "    'advective_term_lateral', \n",
    "    'advective_term_vertical', \n",
    "    'advective_term_total', \n",
    "]).mark_line().encode(\n",
    "    alt.X('time:T'),\n",
    "    alt.Y('value:Q').scale(domain=[-0.1,0.1], clamp=True),\n",
    "    alt.Color('key:N')\n",
    ").properties(width=800)"
   ]
  },
  {
   "cell_type": "code",
   "execution_count": 49,
   "metadata": {},
   "outputs": [
    {
     "data": {
      "application/vnd.vegalite.v5+json": {
       "$schema": "https://vega.github.io/schema/vega-lite/v5.17.0.json",
       "config": {
        "view": {
         "continuousHeight": 300,
         "continuousWidth": 300
        }
       },
       "datasets": {
        "empty": [
         {}
        ]
       },
       "hconcat": [
        {
         "height": 200,
         "layer": [
          {
           "data": {
            "name": "empty"
           },
           "encoding": {
            "y": {
             "datum": 0
            }
           },
           "mark": {
            "type": "rule"
           }
          },
          {
           "data": {
            "format": {
             "type": "json"
            },
            "url": "altair-data-1ab34e61d6074caf174e1bad8f0b9037.json"
           },
           "encoding": {
            "color": {
             "field": "key",
             "type": "nominal"
            },
            "x": {
             "field": "time",
             "timeUnit": "hoursminutes",
             "title": "time",
             "type": "temporal"
            },
            "y": {
             "aggregate": "median",
             "field": "value",
             "type": "quantitative"
            }
           },
           "mark": {
            "type": "line"
           },
           "title": "3D Method",
           "transform": [
            {
             "fold": [
              "advective_term_lateral",
              "advective_term_vertical",
              "advective_term_total"
             ]
            }
           ]
          }
         ],
         "width": 200
        },
        {
         "height": 200,
         "layer": [
          {
           "data": {
            "name": "empty"
           },
           "encoding": {
            "y": {
             "datum": 0
            }
           },
           "mark": {
            "type": "rule"
           }
          },
          {
           "data": {
            "format": {
             "type": "json"
            },
            "url": "altair-data-d80cba04e887198bda6589702861d5b1.json"
           },
           "encoding": {
            "color": {
             "field": "key",
             "type": "nominal"
            },
            "x": {
             "field": "time",
             "timeUnit": "hoursminutes",
             "title": "time",
             "type": "temporal"
            },
            "y": {
             "aggregate": "median",
             "field": "value",
             "type": "quantitative"
            }
           },
           "mark": {
            "type": "line"
           },
           "title": "3D Method",
           "transform": [
            {
             "fold": [
              "advective_term_lateral",
              "advective_term_vertical",
              "advective_term_total"
             ]
            }
           ]
          }
         ],
         "width": 200
        }
       ]
      },
      "text/plain": [
       "<VegaLite 5 object>\n",
       "\n",
       "If you see this message, it means the renderer has not been properly enabled\n",
       "for the frontend that you are using. For more information, see\n",
       "https://altair-viz.github.io/user_guide/display_frontends.html#troubleshooting\n"
      ]
     },
     "execution_count": 49,
     "metadata": {},
     "output_type": "execute_result"
    }
   ],
   "source": [
    "conservation_spatial_mean_composite_plot(\n",
    "        conservation_spatial_mean_df.loc['20221101':'20221120'],\n",
    "        [\n",
    "            'advective_term_lateral', \n",
    "            'advective_term_vertical', \n",
    "            'advective_term_total', \n",
    "            # 'airdensityflux_term_vertical', 'turbulent_term_vertical', 'storage_change', 'source'\n",
    "        ],\n",
    "        title='3D Method', normalize = 7\n",
    "    ) | conservation_spatial_mean_composite_plot(\n",
    "        conservation_spatial_mean_df.loc['20230601':'20230619'],\n",
    "        [\n",
    "            'advective_term_lateral', \n",
    "            'advective_term_vertical', \n",
    "            'advective_term_total', \n",
    "            # 'airdensityflux_term_vertical', 'turbulent_term_vertical', 'storage_change', 'source'\n",
    "        ],\n",
    "        title='3D Method', normalize = 7\n",
    "    )"
   ]
  },
  {
   "cell_type": "code",
   "execution_count": 50,
   "metadata": {},
   "outputs": [
    {
     "data": {
      "application/vnd.vegalite.v5+json": {
       "$schema": "https://vega.github.io/schema/vega-lite/v5.17.0.json",
       "config": {
        "view": {
         "continuousHeight": 300,
         "continuousWidth": 300
        }
       },
       "data": {
        "format": {
         "type": "json"
        },
        "url": "altair-data-87ff7d32353b9a7b0d2af3233b54df48.json"
       },
       "encoding": {
        "color": {
         "field": "key",
         "legend": {
          "labelLimit": 1000
         },
         "type": "nominal"
        },
        "x": {
         "field": "time",
         "timeUnit": "hoursminutes",
         "title": "time",
         "type": "temporal"
        },
        "y": {
         "aggregate": "median",
         "field": "value",
         "type": "quantitative"
        }
       },
       "mark": {
        "type": "line"
       },
       "transform": [
        {
         "fold": [
          "rho du/dx + rho dv/dy",
          "rho dw/dz",
          "u d(rho)/dx + v drho/dy",
          "w d(rho)/dz",
          "d(w_rho_)/dz",
          "d(rho)_dt",
          "conservation"
         ]
        }
       ]
      },
      "text/plain": [
       "<VegaLite 5 object>\n",
       "\n",
       "If you see this message, it means the renderer has not been properly enabled\n",
       "for the frontend that you are using. For more information, see\n",
       "https://altair-viz.github.io/user_guide/display_frontends.html#troubleshooting\n"
      ]
     },
     "execution_count": 50,
     "metadata": {},
     "output_type": "execute_result"
    }
   ],
   "source": [
    "src = continuity_spatial_mean_df.drop(columns='dryair_density')\n",
    "src['conservation'] = src.sum(axis=1)\n",
    "alt.Chart(src.reset_index()).transform_fold(\n",
    "    list(src.columns)\n",
    ").mark_line().encode(\n",
    "    alt.X('hoursminutes(time):T').title('time'),\n",
    "    alt.Y('median(value):Q'),\n",
    "    alt.Color('key:N', legend=alt.Legend(labelLimit=1000))\n",
    ")"
   ]
  },
  {
   "cell_type": "code",
   "execution_count": 51,
   "metadata": {},
   "outputs": [
    {
     "name": "stderr",
     "output_type": "stream",
     "text": [
      "/var/folders/x_/2h52bcjx2px15bhmdpdd748h0000gn/T/ipykernel_13412/3952423949.py:3: FutureWarning: 'T' is deprecated and will be removed in a future version, please use 'min' instead.\n",
      "  src.index.get_level_values(0).floor('120T').time, 'height'\n"
     ]
    },
    {
     "data": {
      "application/vnd.vegalite.v5+json": {
       "$schema": "https://vega.github.io/schema/vega-lite/v5.17.0.json",
       "config": {
        "legend": {
         "orient": "top"
        },
        "view": {
         "continuousHeight": 300,
         "continuousWidth": 300
        }
       },
       "data": {
        "format": {
         "type": "json"
        },
        "url": "altair-data-cea7f87a0e1d70eef5c8414a681ff7e1.json"
       },
       "hconcat": [
        {
         "encoding": {
          "color": {
           "field": "hour",
           "scale": {
            "scheme": "rainbow"
           },
           "type": "ordinal"
          },
          "x": {
           "field": "value",
           "sort": "-y",
           "type": "quantitative"
          },
          "y": {
           "field": "height",
           "type": "quantitative"
          }
         },
         "height": 110,
         "mark": {
          "type": "line"
         },
         "transform": [
          {
           "filter": {
            "field": "hour",
            "oneOf": [
             0,
             2,
             4,
             6
            ]
           }
          }
         ],
         "width": 110
        },
        {
         "encoding": {
          "color": {
           "field": "hour",
           "scale": {
            "scheme": "rainbow"
           },
           "type": "ordinal"
          },
          "x": {
           "field": "value",
           "sort": "-y",
           "type": "quantitative"
          },
          "y": {
           "field": "height",
           "type": "quantitative"
          }
         },
         "height": 110,
         "mark": {
          "type": "line"
         },
         "transform": [
          {
           "filter": {
            "field": "hour",
            "oneOf": [
             8,
             10,
             12,
             14
            ]
           }
          }
         ],
         "width": 110
        },
        {
         "encoding": {
          "color": {
           "field": "hour",
           "scale": {
            "scheme": "rainbow"
           },
           "type": "ordinal"
          },
          "x": {
           "field": "value",
           "sort": "-y",
           "type": "quantitative"
          },
          "y": {
           "field": "height",
           "type": "quantitative"
          }
         },
         "height": 110,
         "mark": {
          "type": "line"
         },
         "transform": [
          {
           "filter": {
            "field": "hour",
            "oneOf": [
             16,
             18,
             20,
             22
            ]
           }
          }
         ],
         "width": 110
        }
       ],
       "resolve": {
        "scale": {
         "color": "shared"
        }
       }
      },
      "text/plain": [
       "<VegaLite 5 object>\n",
       "\n",
       "If you see this message, it means the renderer has not been properly enabled\n",
       "for the frontend that you are using. For more information, see\n",
       "https://altair-viz.github.io/user_guide/display_frontends.html#troubleshooting\n"
      ]
     },
     "execution_count": 51,
     "metadata": {},
     "output_type": "execute_result"
    }
   ],
   "source": [
    "src = tidy_df.query(\"measurement == 'wind speed'\").query(\"tower == 'c'\").set_index(['time', 'height'])\n",
    "src = src.groupby([\n",
    "    src.index.get_level_values(0).floor('120T').time, 'height'\n",
    "])[['value']].mean()\n",
    "src = src.reset_index().rename(columns={'level_0':'time'})\n",
    "src['hour'] = src.time.apply(lambda t: t.hour)\n",
    "chart = alt.Chart(\n",
    "    src\n",
    ").mark_line().encode(\n",
    "    alt.X('value:Q').sort('-y'),\n",
    "    alt.Y('height:Q'),\n",
    "    alt.Color('hour:O').scale(scheme='rainbow')\n",
    ").properties(width=110,height=110)\n",
    "(\n",
    "    chart.transform_filter(alt.FieldOneOfPredicate('hour', [0, 2,4,6])) |\\\n",
    "    chart.transform_filter(alt.FieldOneOfPredicate('hour', [8,10,12,14])) |\\\n",
    "    chart.transform_filter(alt.FieldOneOfPredicate('hour', [16,18,20,22]))\n",
    ").configure_legend(orient='top').resolve_scale(color='shared')"
   ]
  },
  {
   "cell_type": "code",
   "execution_count": 52,
   "metadata": {},
   "outputs": [
    {
     "name": "stderr",
     "output_type": "stream",
     "text": [
      "/var/folders/x_/2h52bcjx2px15bhmdpdd748h0000gn/T/ipykernel_13412/1803575803.py:5: FutureWarning: 'T' is deprecated and will be removed in a future version, please use 'min' instead.\n",
      "  src.index.get_level_values(0).floor('120T').time, 'height'\n"
     ]
    },
    {
     "data": {
      "application/vnd.vegalite.v5+json": {
       "$schema": "https://vega.github.io/schema/vega-lite/v5.17.0.json",
       "config": {
        "legend": {
         "orient": "top"
        },
        "view": {
         "continuousHeight": 300,
         "continuousWidth": 300
        }
       },
       "data": {
        "format": {
         "type": "json"
        },
        "url": "altair-data-c375fde0d0fccc395678d1ccff65f2aa.json"
       },
       "hconcat": [
        {
         "encoding": {
          "color": {
           "field": "hour",
           "scale": {
            "scheme": "rainbow"
           },
           "type": "ordinal"
          },
          "x": {
           "field": "value",
           "sort": "-y",
           "type": "quantitative"
          },
          "y": {
           "field": "height",
           "type": "quantitative"
          }
         },
         "height": 110,
         "mark": {
          "type": "line"
         },
         "transform": [
          {
           "filter": {
            "field": "hour",
            "oneOf": [
             0,
             2,
             4,
             6
            ]
           }
          }
         ],
         "width": 110
        },
        {
         "encoding": {
          "color": {
           "field": "hour",
           "scale": {
            "scheme": "rainbow"
           },
           "type": "ordinal"
          },
          "x": {
           "field": "value",
           "sort": "-y",
           "type": "quantitative"
          },
          "y": {
           "field": "height",
           "type": "quantitative"
          }
         },
         "height": 110,
         "mark": {
          "type": "line"
         },
         "transform": [
          {
           "filter": {
            "field": "hour",
            "oneOf": [
             8,
             10,
             12,
             14
            ]
           }
          }
         ],
         "width": 110
        },
        {
         "encoding": {
          "color": {
           "field": "hour",
           "scale": {
            "scheme": "rainbow"
           },
           "type": "ordinal"
          },
          "x": {
           "field": "value",
           "sort": "-y",
           "type": "quantitative"
          },
          "y": {
           "field": "height",
           "type": "quantitative"
          }
         },
         "height": 110,
         "mark": {
          "type": "line"
         },
         "transform": [
          {
           "filter": {
            "field": "hour",
            "oneOf": [
             16,
             18,
             20,
             22
            ]
           }
          }
         ],
         "width": 110
        }
       ],
       "resolve": {
        "scale": {
         "color": "shared"
        }
       }
      },
      "text/plain": [
       "<VegaLite 5 object>\n",
       "\n",
       "If you see this message, it means the renderer has not been properly enabled\n",
       "for the frontend that you are using. For more information, see\n",
       "https://altair-viz.github.io/user_guide/display_frontends.html#troubleshooting\n"
      ]
     },
     "execution_count": 52,
     "metadata": {},
     "output_type": "execute_result"
    }
   ],
   "source": [
    "src = tidy_df.query(\"measurement == 'wind speed'\").query(\"tower == 'c'\")\n",
    "src = src.set_index('time').loc['20230203':'20230203'].reset_index()\n",
    "src = src.set_index(['time', 'height'])\n",
    "src = src.groupby([\n",
    "    src.index.get_level_values(0).floor('120T').time, 'height'\n",
    "])[['value']].mean()\n",
    "src = src.reset_index().rename(columns={'level_0':'time'})\n",
    "src['hour'] = src.time.apply(lambda t: t.hour)\n",
    "chart = alt.Chart(\n",
    "    src\n",
    ").mark_line().encode(\n",
    "    alt.X('value:Q').sort('-y'),\n",
    "    alt.Y('height:Q'),\n",
    "    alt.Color('hour:O').scale(scheme='rainbow')\n",
    ").properties(width=110,height=110)\n",
    "(\n",
    "    chart.transform_filter(alt.FieldOneOfPredicate('hour', [0, 2,4,6])) |\\\n",
    "    chart.transform_filter(alt.FieldOneOfPredicate('hour', [8,10,12,14])) |\\\n",
    "    chart.transform_filter(alt.FieldOneOfPredicate('hour', [16,18,20,22]))\n",
    ").configure_legend(orient='top').resolve_scale(color='shared')"
   ]
  },
  {
   "cell_type": "code",
   "execution_count": 53,
   "metadata": {},
   "outputs": [
    {
     "name": "stderr",
     "output_type": "stream",
     "text": [
      "/var/folders/x_/2h52bcjx2px15bhmdpdd748h0000gn/T/ipykernel_13412/875321252.py:5: FutureWarning: 'T' is deprecated and will be removed in a future version, please use 'min' instead.\n",
      "  src.index.get_level_values(0).floor('120T').time, 'height', 'tower'\n"
     ]
    },
    {
     "data": {
      "application/vnd.vegalite.v5+json": {
       "$schema": "https://vega.github.io/schema/vega-lite/v5.17.0.json",
       "config": {
        "legend": {
         "orient": "top"
        },
        "view": {
         "continuousHeight": 300,
         "continuousWidth": 300
        }
       },
       "data": {
        "format": {
         "type": "json"
        },
        "url": "altair-data-3fc0d67ea370d5cd917d5b53a8276d8b.json"
       },
       "hconcat": [
        {
         "encoding": {
          "color": {
           "field": "hour",
           "scale": {
            "scheme": "rainbow"
           },
           "type": "ordinal"
          },
          "strokeDash": {
           "field": "tower",
           "type": "nominal"
          },
          "x": {
           "field": "value",
           "sort": "-y",
           "type": "quantitative"
          },
          "y": {
           "field": "height",
           "type": "quantitative"
          }
         },
         "height": 110,
         "mark": {
          "type": "line"
         },
         "transform": [
          {
           "filter": {
            "field": "hour",
            "oneOf": [
             0,
             2,
             4,
             6
            ]
           }
          }
         ],
         "width": 110
        },
        {
         "encoding": {
          "color": {
           "field": "hour",
           "scale": {
            "scheme": "rainbow"
           },
           "type": "ordinal"
          },
          "strokeDash": {
           "field": "tower",
           "type": "nominal"
          },
          "x": {
           "field": "value",
           "sort": "-y",
           "type": "quantitative"
          },
          "y": {
           "field": "height",
           "type": "quantitative"
          }
         },
         "height": 110,
         "mark": {
          "type": "line"
         },
         "transform": [
          {
           "filter": {
            "field": "hour",
            "oneOf": [
             8,
             10,
             12,
             14
            ]
           }
          }
         ],
         "width": 110
        },
        {
         "encoding": {
          "color": {
           "field": "hour",
           "scale": {
            "scheme": "rainbow"
           },
           "type": "ordinal"
          },
          "strokeDash": {
           "field": "tower",
           "type": "nominal"
          },
          "x": {
           "field": "value",
           "sort": "-y",
           "type": "quantitative"
          },
          "y": {
           "field": "height",
           "type": "quantitative"
          }
         },
         "height": 110,
         "mark": {
          "type": "line"
         },
         "transform": [
          {
           "filter": {
            "field": "hour",
            "oneOf": [
             16,
             18,
             20,
             22
            ]
           }
          }
         ],
         "width": 110
        }
       ],
       "resolve": {
        "scale": {
         "color": "shared",
         "x": "shared"
        }
       }
      },
      "text/plain": [
       "<VegaLite 5 object>\n",
       "\n",
       "If you see this message, it means the renderer has not been properly enabled\n",
       "for the frontend that you are using. For more information, see\n",
       "https://altair-viz.github.io/user_guide/display_frontends.html#troubleshooting\n"
      ]
     },
     "metadata": {
      "application/vnd.vegalite.v5+json": {
       "embed_options": {
        "renderer": "svg"
       }
      }
     },
     "output_type": "display_data"
    }
   ],
   "source": [
    "src = tidy_df.query(\"measurement == 'wind direction'\")\n",
    "src = src.set_index('time').loc['20230203':'20230203'].reset_index()\n",
    "src = src.set_index(['time', 'height', 'tower'])\n",
    "src = src.groupby([\n",
    "    src.index.get_level_values(0).floor('120T').time, 'height', 'tower'\n",
    "])[['value']].mean()\n",
    "src = src.reset_index().rename(columns={'level_0':'time'})\n",
    "src['hour'] = src.time.apply(lambda t: t.hour)\n",
    "chart = alt.Chart(\n",
    "    src\n",
    ").mark_line().encode(\n",
    "    alt.X('value:Q').sort('-y'),\n",
    "    alt.Y('height:Q'),\n",
    "    alt.Color('hour:O').scale(scheme='rainbow'),\n",
    "    alt.StrokeDash('tower:N')\n",
    ").properties(width=110,height=110)\n",
    "(\n",
    "    chart.transform_filter(alt.FieldOneOfPredicate('hour', [0, 2,4,6])) |\\\n",
    "    chart.transform_filter(alt.FieldOneOfPredicate('hour', [8,10,12,14])) |\\\n",
    "    chart.transform_filter(alt.FieldOneOfPredicate('hour', [16,18,20,22]))\n",
    ").configure_legend(orient='top').resolve_scale(x='shared', color='shared').display(renderer='svg')"
   ]
  },
  {
   "cell_type": "code",
   "execution_count": 54,
   "metadata": {},
   "outputs": [
    {
     "name": "stderr",
     "output_type": "stream",
     "text": [
      "/var/folders/x_/2h52bcjx2px15bhmdpdd748h0000gn/T/ipykernel_13412/349792119.py:5: FutureWarning: 'T' is deprecated and will be removed in a future version, please use 'min' instead.\n",
      "  src.index.get_level_values(0).floor('120T').time, 'height', 'tower'\n"
     ]
    },
    {
     "data": {
      "application/vnd.vegalite.v5+json": {
       "$schema": "https://vega.github.io/schema/vega-lite/v5.17.0.json",
       "config": {
        "legend": {
         "orient": "top"
        },
        "view": {
         "continuousHeight": 300,
         "continuousWidth": 300
        }
       },
       "data": {
        "format": {
         "type": "json"
        },
        "url": "altair-data-6f278137d18c3050186cb8c7b65b070e.json"
       },
       "hconcat": [
        {
         "encoding": {
          "color": {
           "field": "hour",
           "scale": {
            "scheme": "rainbow"
           },
           "type": "ordinal"
          },
          "strokeDash": {
           "field": "tower",
           "type": "nominal"
          },
          "x": {
           "field": "value",
           "sort": "-y",
           "type": "quantitative"
          },
          "y": {
           "field": "height",
           "type": "quantitative"
          }
         },
         "height": 110,
         "mark": {
          "type": "line"
         },
         "transform": [
          {
           "filter": {
            "field": "hour",
            "oneOf": [
             0,
             2,
             4,
             6
            ]
           }
          }
         ],
         "width": 110
        },
        {
         "encoding": {
          "color": {
           "field": "hour",
           "scale": {
            "scheme": "rainbow"
           },
           "type": "ordinal"
          },
          "strokeDash": {
           "field": "tower",
           "type": "nominal"
          },
          "x": {
           "field": "value",
           "sort": "-y",
           "type": "quantitative"
          },
          "y": {
           "field": "height",
           "type": "quantitative"
          }
         },
         "height": 110,
         "mark": {
          "type": "line"
         },
         "transform": [
          {
           "filter": {
            "field": "hour",
            "oneOf": [
             8,
             10,
             12,
             14
            ]
           }
          }
         ],
         "width": 110
        },
        {
         "encoding": {
          "color": {
           "field": "hour",
           "scale": {
            "scheme": "rainbow"
           },
           "type": "ordinal"
          },
          "strokeDash": {
           "field": "tower",
           "type": "nominal"
          },
          "x": {
           "field": "value",
           "sort": "-y",
           "type": "quantitative"
          },
          "y": {
           "field": "height",
           "type": "quantitative"
          }
         },
         "height": 110,
         "mark": {
          "type": "line"
         },
         "transform": [
          {
           "filter": {
            "field": "hour",
            "oneOf": [
             16,
             18,
             20,
             22
            ]
           }
          }
         ],
         "width": 110
        }
       ],
       "resolve": {
        "scale": {
         "color": "shared"
        }
       }
      },
      "text/plain": [
       "<VegaLite 5 object>\n",
       "\n",
       "If you see this message, it means the renderer has not been properly enabled\n",
       "for the frontend that you are using. For more information, see\n",
       "https://altair-viz.github.io/user_guide/display_frontends.html#troubleshooting\n"
      ]
     },
     "metadata": {
      "application/vnd.vegalite.v5+json": {
       "embed_options": {
        "renderer": "svg"
       }
      }
     },
     "output_type": "display_data"
    }
   ],
   "source": [
    "src = tidy_df.query(\"measurement == 'wind speed'\")\n",
    "src = src.set_index('time').loc['20230203':'20230203'].reset_index()\n",
    "src = src.set_index(['time', 'height', 'tower'])\n",
    "src = src.groupby([\n",
    "    src.index.get_level_values(0).floor('120T').time, 'height', 'tower'\n",
    "])[['value']].mean()\n",
    "src = src.reset_index().rename(columns={'level_0':'time'})\n",
    "src['hour'] = src.time.apply(lambda t: t.hour)\n",
    "chart = alt.Chart(\n",
    "    src\n",
    ").mark_line().encode(\n",
    "    alt.X('value:Q').sort('-y'),\n",
    "    alt.Y('height:Q'),\n",
    "    alt.Color('hour:O').scale(scheme='rainbow'),\n",
    "    alt.StrokeDash('tower:N')\n",
    ").properties(width=110,height=110)\n",
    "(\n",
    "    chart.transform_filter(alt.FieldOneOfPredicate('hour', [0, 2,4,6])) |\\\n",
    "    chart.transform_filter(alt.FieldOneOfPredicate('hour', [8,10,12,14])) |\\\n",
    "    chart.transform_filter(alt.FieldOneOfPredicate('hour', [16,18,20,22]))\n",
    ").configure_legend(orient='top').resolve_scale(color='shared').display(renderer='svg')"
   ]
  },
  {
   "cell_type": "code",
   "execution_count": 55,
   "metadata": {},
   "outputs": [
    {
     "data": {
      "application/vnd.vegalite.v5+json": {
       "$schema": "https://vega.github.io/schema/vega-lite/v5.17.0.json",
       "config": {
        "view": {
         "continuousHeight": 300,
         "continuousWidth": 300
        }
       },
       "datasets": {
        "empty": [
         {}
        ]
       },
       "hconcat": [
        {
         "height": 200,
         "layer": [
          {
           "data": {
            "name": "empty"
           },
           "encoding": {
            "y": {
             "datum": 0
            }
           },
           "mark": {
            "type": "rule"
           }
          },
          {
           "data": {
            "format": {
             "type": "json"
            },
            "url": "altair-data-99226284be3ac873d66266c505a4e108.json"
           },
           "encoding": {
            "color": {
             "field": "key",
             "type": "nominal"
            },
            "x": {
             "field": "time",
             "timeUnit": "hoursminutes",
             "title": "time",
             "type": "temporal"
            },
            "y": {
             "aggregate": "median",
             "field": "value",
             "type": "quantitative"
            }
           },
           "mark": {
            "type": "line"
           },
           "title": "All data",
           "transform": [
            {
             "fold": [
              "advective_term_lateral",
              "advective_term_vertical",
              "advective_term_total",
              "airdensityflux_term_vertical",
              "turbulent_term_vertical",
              "storage_change",
              "source"
             ]
            }
           ]
          }
         ],
         "width": 200
        },
        {
         "height": 200,
         "layer": [
          {
           "data": {
            "name": "empty"
           },
           "encoding": {
            "y": {
             "datum": 0
            }
           },
           "mark": {
            "type": "rule"
           }
          },
          {
           "data": {
            "format": {
             "type": "json"
            },
            "url": "altair-data-4f53cda18c2baa0c0354bb5f9a3ecbe5.json"
           },
           "encoding": {
            "color": {
             "field": "key",
             "type": "nominal"
            },
            "x": {
             "field": "time",
             "timeUnit": "hoursminutes",
             "title": "time",
             "type": "temporal"
            },
            "y": {
             "aggregate": "median",
             "field": "value",
             "type": "quantitative"
            }
           },
           "mark": {
            "type": "line"
           },
           "title": "No BS",
           "transform": [
            {
             "fold": [
              "advective_term_lateral",
              "advective_term_vertical",
              "advective_term_total",
              "airdensityflux_term_vertical",
              "turbulent_term_vertical",
              "storage_change",
              "source"
             ]
            }
           ]
          }
         ],
         "width": 200
        },
        {
         "height": 200,
         "layer": [
          {
           "data": {
            "name": "empty"
           },
           "encoding": {
            "y": {
             "datum": 0
            }
           },
           "mark": {
            "type": "rule"
           }
          },
          {
           "data": {
            "format": {
             "type": "json"
            },
            "url": "altair-data-4f53cda18c2baa0c0354bb5f9a3ecbe5.json"
           },
           "encoding": {
            "color": {
             "field": "key",
             "type": "nominal"
            },
            "x": {
             "field": "time",
             "timeUnit": "hoursminutes",
             "title": "time",
             "type": "temporal"
            },
            "y": {
             "aggregate": "median",
             "field": "value",
             "type": "quantitative"
            }
           },
           "mark": {
            "type": "line"
           },
           "title": "No BS, not snowing",
           "transform": [
            {
             "fold": [
              "advective_term_lateral",
              "advective_term_vertical",
              "advective_term_total",
              "airdensityflux_term_vertical",
              "turbulent_term_vertical",
              "storage_change",
              "source"
             ]
            }
           ]
          }
         ],
         "width": 200
        },
        {
         "height": 200,
         "layer": [
          {
           "data": {
            "name": "empty"
           },
           "encoding": {
            "y": {
             "datum": 0
            }
           },
           "mark": {
            "type": "rule"
           }
          },
          {
           "data": {
            "format": {
             "type": "json"
            },
            "url": "altair-data-fa1be5ca48e18c09f71de03146eb96eb.json"
           },
           "encoding": {
            "color": {
             "field": "key",
             "type": "nominal"
            },
            "x": {
             "field": "time",
             "timeUnit": "hoursminutes",
             "title": "time",
             "type": "temporal"
            },
            "y": {
             "aggregate": "median",
             "field": "value",
             "type": "quantitative"
            }
           },
           "mark": {
            "type": "line"
           },
           "title": "Not snowing",
           "transform": [
            {
             "fold": [
              "advective_term_lateral",
              "advective_term_vertical",
              "advective_term_total",
              "airdensityflux_term_vertical",
              "turbulent_term_vertical",
              "storage_change",
              "source"
             ]
            }
           ]
          }
         ],
         "width": 200
        },
        {
         "height": 200,
         "layer": [
          {
           "data": {
            "name": "empty"
           },
           "encoding": {
            "y": {
             "datum": 0
            }
           },
           "mark": {
            "type": "rule"
           }
          },
          {
           "data": {
            "format": {
             "type": "json"
            },
            "url": "altair-data-4f53cda18c2baa0c0354bb5f9a3ecbe5.json"
           },
           "encoding": {
            "color": {
             "field": "key",
             "type": "nominal"
            },
            "x": {
             "field": "time",
             "timeUnit": "hoursminutes",
             "title": "time",
             "type": "temporal"
            },
            "y": {
             "aggregate": "median",
             "field": "value",
             "type": "quantitative"
            }
           },
           "mark": {
            "type": "line"
           },
           "title": "BS",
           "transform": [
            {
             "fold": [
              "advective_term_lateral",
              "advective_term_vertical",
              "advective_term_total",
              "airdensityflux_term_vertical",
              "turbulent_term_vertical",
              "storage_change",
              "source"
             ]
            }
           ]
          }
         ],
         "width": 200
        }
       ],
       "resolve": {
        "scale": {
         "color": "shared",
         "x": "shared",
         "y": "shared"
        }
       }
      },
      "text/plain": [
       "<VegaLite 5 object>\n",
       "\n",
       "If you see this message, it means the renderer has not been properly enabled\n",
       "for the frontend that you are using. For more information, see\n",
       "https://altair-viz.github.io/user_guide/display_frontends.html#troubleshooting\n"
      ]
     },
     "metadata": {
      "application/vnd.vegalite.v5+json": {
       "embed_options": {
        "renderer": "svg"
       }
      }
     },
     "output_type": "display_data"
    }
   ],
   "source": [
    "(\n",
    "    conservation_spatial_mean_composite_plot(\n",
    "        conservation_spatial_mean_df.reset_index(),\n",
    "        [\n",
    "            'advective_term_lateral', 'advective_term_vertical', 'advective_term_total', \n",
    "            'airdensityflux_term_vertical', 'turbulent_term_vertical', 'storage_change', 'source'\n",
    "        ],\n",
    "        title='All data', normalize = 7\n",
    "    ) | conservation_spatial_mean_composite_plot(\n",
    "        conservation_spatial_mean_df.reset_index(),\n",
    "        [\n",
    "            'advective_term_lateral', 'advective_term_vertical', 'advective_term_total', \n",
    "            'airdensityflux_term_vertical', 'turbulent_term_vertical', 'storage_change', 'source'\n",
    "        ],\n",
    "        title='No BS', normalize = 7,\n",
    "        times_filter = set(nobs_times)\n",
    "    ) | conservation_spatial_mean_composite_plot(\n",
    "        conservation_spatial_mean_df.reset_index(),\n",
    "        [\n",
    "            'advective_term_lateral', 'advective_term_vertical', 'advective_term_total', \n",
    "            'airdensityflux_term_vertical', 'turbulent_term_vertical', 'storage_change', 'source'\n",
    "        ],\n",
    "        title='No BS, not snowing', normalize = 7,\n",
    "        times_filter = set(nobs_times).intersection(set(is_not_snowing_dates))\n",
    "    ) | conservation_spatial_mean_composite_plot(\n",
    "        conservation_spatial_mean_df.reset_index(),\n",
    "        [\n",
    "            'advective_term_lateral', 'advective_term_vertical', 'advective_term_total', \n",
    "            'airdensityflux_term_vertical', 'turbulent_term_vertical', 'storage_change', 'source'\n",
    "        ],\n",
    "        title='Not snowing', normalize = 7,\n",
    "        times_filter = set(is_not_snowing_dates)\n",
    "    ) | conservation_spatial_mean_composite_plot(\n",
    "        conservation_spatial_mean_df.reset_index(),\n",
    "        [\n",
    "            'advective_term_lateral', \n",
    "            'advective_term_vertical', \n",
    "            'advective_term_total', \n",
    "            'airdensityflux_term_vertical', \n",
    "            'turbulent_term_vertical', \n",
    "            'storage_change', 'source'\n",
    "        ],\n",
    "        title='BS', normalize = 7,\n",
    "        times_filter = set(bs_times)\n",
    "    )\n",
    ").resolve_scale(y='shared', x='shared', color='shared').display(renderer='svg')"
   ]
  },
  {
   "cell_type": "code",
   "execution_count": 56,
   "metadata": {},
   "outputs": [
    {
     "ename": "AttributeError",
     "evalue": "'DataFrame' object has no attribute 'time'",
     "output_type": "error",
     "traceback": [
      "\u001b[0;31m---------------------------------------------------------------------------\u001b[0m",
      "\u001b[0;31mAttributeError\u001b[0m                            Traceback (most recent call last)",
      "\u001b[0;32m/var/folders/x_/2h52bcjx2px15bhmdpdd748h0000gn/T/ipykernel_13412/3914222667.py\u001b[0m in \u001b[0;36m?\u001b[0;34m()\u001b[0m\n\u001b[1;32m      5\u001b[0m             \u001b[0;34m'advective_term_lateral'\u001b[0m\u001b[0;34m,\u001b[0m \u001b[0;34m'advective_term_vertical'\u001b[0m\u001b[0;34m,\u001b[0m \u001b[0;34m'advective_term_total'\u001b[0m\u001b[0;34m,\u001b[0m\u001b[0;34m\u001b[0m\u001b[0;34m\u001b[0m\u001b[0m\n\u001b[1;32m      6\u001b[0m             \u001b[0;34m'airdensityflux_term_vertical'\u001b[0m\u001b[0;34m,\u001b[0m \u001b[0;34m'turbulent_term_vertical'\u001b[0m\u001b[0;34m,\u001b[0m \u001b[0;34m'storage_change'\u001b[0m\u001b[0;34m,\u001b[0m \u001b[0;34m'source'\u001b[0m\u001b[0;34m\u001b[0m\u001b[0;34m\u001b[0m\u001b[0m\n\u001b[1;32m      7\u001b[0m         \u001b[0;34m]\u001b[0m\u001b[0;34m,\u001b[0m\u001b[0;34m\u001b[0m\u001b[0;34m\u001b[0m\u001b[0m\n\u001b[1;32m      8\u001b[0m         \u001b[0mtitle\u001b[0m\u001b[0;34m=\u001b[0m\u001b[0;34m'All data'\u001b[0m\u001b[0;34m,\u001b[0m \u001b[0mnormalize\u001b[0m \u001b[0;34m=\u001b[0m \u001b[0;36m7\u001b[0m\u001b[0;34m\u001b[0m\u001b[0;34m\u001b[0m\u001b[0m\n\u001b[0;32m----> 9\u001b[0;31m     ) | conservation_spatial_mean_composite_plot(\n\u001b[0m\u001b[1;32m     10\u001b[0m         \u001b[0mconservation_spatial_mean_df\u001b[0m\u001b[0;34m,\u001b[0m\u001b[0;34m\u001b[0m\u001b[0;34m\u001b[0m\u001b[0m\n\u001b[1;32m     11\u001b[0m         [\n\u001b[1;32m     12\u001b[0m             \u001b[0;34m'advective_term_lateral'\u001b[0m\u001b[0;34m,\u001b[0m \u001b[0;34m'advective_term_vertical'\u001b[0m\u001b[0;34m,\u001b[0m \u001b[0;34m'advective_term_total'\u001b[0m\u001b[0;34m,\u001b[0m\u001b[0;34m\u001b[0m\u001b[0;34m\u001b[0m\u001b[0m\n",
      "\u001b[0;32m/var/folders/x_/2h52bcjx2px15bhmdpdd748h0000gn/T/ipykernel_13412/1475824554.py\u001b[0m in \u001b[0;36m?\u001b[0;34m(src, columns, title, times_filter, normalize)\u001b[0m\n\u001b[1;32m      3\u001b[0m \u001b[0;32mdef\u001b[0m \u001b[0mconservation_spatial_mean_composite_plot\u001b[0m\u001b[0;34m(\u001b[0m\u001b[0msrc\u001b[0m\u001b[0;34m,\u001b[0m \u001b[0mcolumns\u001b[0m\u001b[0;34m,\u001b[0m \u001b[0mtitle\u001b[0m\u001b[0;34m,\u001b[0m \u001b[0mtimes_filter\u001b[0m \u001b[0;34m=\u001b[0m \u001b[0;32mNone\u001b[0m\u001b[0;34m,\u001b[0m \u001b[0mnormalize\u001b[0m \u001b[0;34m=\u001b[0m \u001b[0;32mNone\u001b[0m\u001b[0;34m)\u001b[0m\u001b[0;34m:\u001b[0m\u001b[0;34m\u001b[0m\u001b[0;34m\u001b[0m\u001b[0m\n\u001b[1;32m      4\u001b[0m     \u001b[0msrc\u001b[0m \u001b[0;34m=\u001b[0m \u001b[0msrc\u001b[0m\u001b[0;34m.\u001b[0m\u001b[0mcopy\u001b[0m\u001b[0;34m(\u001b[0m\u001b[0mdeep\u001b[0m\u001b[0;34m=\u001b[0m\u001b[0;32mTrue\u001b[0m\u001b[0;34m)\u001b[0m\u001b[0;34m\u001b[0m\u001b[0;34m\u001b[0m\u001b[0m\n\u001b[1;32m      5\u001b[0m     \u001b[0;32mif\u001b[0m \u001b[0mtimes_filter\u001b[0m \u001b[0;32mis\u001b[0m \u001b[0;32mnot\u001b[0m \u001b[0;32mNone\u001b[0m\u001b[0;34m:\u001b[0m\u001b[0;34m\u001b[0m\u001b[0;34m\u001b[0m\u001b[0m\n\u001b[0;32m----> 6\u001b[0;31m         \u001b[0msrc\u001b[0m \u001b[0;34m=\u001b[0m \u001b[0msrc\u001b[0m\u001b[0;34m[\u001b[0m\u001b[0msrc\u001b[0m\u001b[0;34m.\u001b[0m\u001b[0mtime\u001b[0m\u001b[0;34m.\u001b[0m\u001b[0misin\u001b[0m\u001b[0;34m(\u001b[0m\u001b[0mtimes_filter\u001b[0m\u001b[0;34m)\u001b[0m\u001b[0;34m]\u001b[0m\u001b[0;34m\u001b[0m\u001b[0;34m\u001b[0m\u001b[0m\n\u001b[0m\u001b[1;32m      7\u001b[0m     \u001b[0;32melse\u001b[0m\u001b[0;34m:\u001b[0m\u001b[0;34m\u001b[0m\u001b[0;34m\u001b[0m\u001b[0m\n\u001b[1;32m      8\u001b[0m         \u001b[0msrc\u001b[0m \u001b[0;34m=\u001b[0m \u001b[0msrc\u001b[0m\u001b[0;34m\u001b[0m\u001b[0;34m\u001b[0m\u001b[0m\n\u001b[1;32m      9\u001b[0m     \u001b[0;32mif\u001b[0m \u001b[0mnormalize\u001b[0m \u001b[0;32mis\u001b[0m \u001b[0;32mnot\u001b[0m \u001b[0;32mNone\u001b[0m\u001b[0;34m:\u001b[0m\u001b[0;34m\u001b[0m\u001b[0;34m\u001b[0m\u001b[0m\n",
      "\u001b[0;32m~/miniforge3/envs/sublimationofsnow/lib/python3.12/site-packages/pandas/core/generic.py\u001b[0m in \u001b[0;36m?\u001b[0;34m(self, name)\u001b[0m\n\u001b[1;32m   6295\u001b[0m             \u001b[0;32mand\u001b[0m \u001b[0mname\u001b[0m \u001b[0;32mnot\u001b[0m \u001b[0;32min\u001b[0m \u001b[0mself\u001b[0m\u001b[0;34m.\u001b[0m\u001b[0m_accessors\u001b[0m\u001b[0;34m\u001b[0m\u001b[0;34m\u001b[0m\u001b[0m\n\u001b[1;32m   6296\u001b[0m             \u001b[0;32mand\u001b[0m \u001b[0mself\u001b[0m\u001b[0;34m.\u001b[0m\u001b[0m_info_axis\u001b[0m\u001b[0;34m.\u001b[0m\u001b[0m_can_hold_identifiers_and_holds_name\u001b[0m\u001b[0;34m(\u001b[0m\u001b[0mname\u001b[0m\u001b[0;34m)\u001b[0m\u001b[0;34m\u001b[0m\u001b[0;34m\u001b[0m\u001b[0m\n\u001b[1;32m   6297\u001b[0m         \u001b[0;34m)\u001b[0m\u001b[0;34m:\u001b[0m\u001b[0;34m\u001b[0m\u001b[0;34m\u001b[0m\u001b[0m\n\u001b[1;32m   6298\u001b[0m             \u001b[0;32mreturn\u001b[0m \u001b[0mself\u001b[0m\u001b[0;34m[\u001b[0m\u001b[0mname\u001b[0m\u001b[0;34m]\u001b[0m\u001b[0;34m\u001b[0m\u001b[0;34m\u001b[0m\u001b[0m\n\u001b[0;32m-> 6299\u001b[0;31m         \u001b[0;32mreturn\u001b[0m \u001b[0mobject\u001b[0m\u001b[0;34m.\u001b[0m\u001b[0m__getattribute__\u001b[0m\u001b[0;34m(\u001b[0m\u001b[0mself\u001b[0m\u001b[0;34m,\u001b[0m \u001b[0mname\u001b[0m\u001b[0;34m)\u001b[0m\u001b[0;34m\u001b[0m\u001b[0;34m\u001b[0m\u001b[0m\n\u001b[0m",
      "\u001b[0;31mAttributeError\u001b[0m: 'DataFrame' object has no attribute 'time'"
     ]
    }
   ],
   "source": [
    "(\n",
    "    conservation_spatial_mean_composite_plot(\n",
    "        conservation_spatial_mean_df,\n",
    "        [\n",
    "            'advective_term_lateral', 'advective_term_vertical', 'advective_term_total', \n",
    "            'airdensityflux_term_vertical', 'turbulent_term_vertical', 'storage_change', 'source'\n",
    "        ],\n",
    "        title='All data', normalize = 7\n",
    "    ) | conservation_spatial_mean_composite_plot(\n",
    "        conservation_spatial_mean_df,\n",
    "        [\n",
    "            'advective_term_lateral', 'advective_term_vertical', 'advective_term_total', \n",
    "            'airdensityflux_term_vertical', 'turbulent_term_vertical', 'storage_change', 'source'\n",
    "        ],\n",
    "        title='Stable, No BS', normalize = 7,\n",
    "        times_filter = set(tgrad_stable_times).intersection(set(nobs_times))\n",
    "    ) | conservation_spatial_mean_composite_plot(\n",
    "        conservation_spatial_mean_df,\n",
    "        [\n",
    "            'advective_term_lateral', 'advective_term_vertical', 'advective_term_total', \n",
    "            'airdensityflux_term_vertical', 'turbulent_term_vertical', 'storage_change', 'source'\n",
    "        ],\n",
    "        title='Neutral, No BS', normalize = 7,\n",
    "        times_filter = set(tgrad_neutral_times).intersection(set(nobs_times))\n",
    "    ) | conservation_spatial_mean_composite_plot(\n",
    "        conservation_spatial_mean_df,\n",
    "        [\n",
    "            'advective_term_lateral', 'advective_term_vertical', 'advective_term_total', \n",
    "            'airdensityflux_term_vertical', 'turbulent_term_vertical', 'storage_change', 'source'\n",
    "        ],\n",
    "        title='Unstable, No BS', normalize = 7,\n",
    "        times_filter = set(tgrad_unstable_times).intersection(set(nobs_times))\n",
    "    )\n",
    ").resolve_scale(y='shared', x='shared', color='shared').display(renderer='svg')"
   ]
  },
  {
   "cell_type": "code",
   "execution_count": null,
   "metadata": {},
   "outputs": [],
   "source": [
    "(\n",
    "    conservation_spatial_mean_composite_plot(\n",
    "        conservation_spatial_mean_df,\n",
    "        [\n",
    "            'advective_term_lateral', 'advective_term_vertical', 'advective_term_total', \n",
    "            'airdensityflux_term_vertical', 'turbulent_term_vertical', 'storage_change',\t'source'\n",
    "        ],\n",
    "        title='Flux density terms (g/m^2/s)', normalize = 7,\n",
    "        times_filter = set(nobs_times)\n",
    "    ) \n",
    "    | \n",
    "    alt.Chart(\n",
    "        tidy_df[\n",
    "            tidy_df.variable.isin(['w_h2o__3m_c', 'w_h2o__5m_c', 'w_h2o__10m_c'])\n",
    "            &\n",
    "            tidy_df.time.isin(set(nobs_times))\n",
    "        ]\n",
    "    ).mark_line().encode(\n",
    "        alt.X('hoursminutes(time):T'),\n",
    "        alt.Y('median(value):Q'),\n",
    "        alt.Color('height:O')\n",
    "    ).properties(\n",
    "        width = 200, height = 200, title=('Vertical eddy covariance flux (g/m^2/s)')\n",
    "    )\n",
    ").resolve_scale(y='shared', color='independent').configure_legend(orient='top', columns=2).display(renderer='svg')"
   ]
  },
  {
   "cell_type": "code",
   "execution_count": null,
   "metadata": {},
   "outputs": [],
   "source": [
    "\n",
    "src1 = conservation_spatial_mean_df.set_index('time').loc['20221221': '20221223'].reset_index().assign(casestudy = 1)\n",
    "src2 = conservation_spatial_mean_df.set_index('time').loc['20221212': '20221214'].reset_index().assign(casestudy = 2)\n",
    "src3 = conservation_spatial_mean_df.set_index('time').loc['20230201': '20230203'].reset_index().assign(casestudy = 3)\n",
    "src = pd.concat([src1, src2, src3])\n",
    "alt.Chart(src).transform_fold([\n",
    "    'advective_term_lateral', 'advective_term_vertical',\n",
    "    'advective_term_total', 'airdensityflux_term_vertical',\n",
    "    'turbulent_term_vertical', 'storage_change', 'source',\n",
    "]).mark_line().encode(\n",
    "    alt.X('time:T'),\n",
    "    alt.Y('value:Q').scale(domain=[-0.04,0.04], clamp=True),\n",
    "    alt.Color('key:N'),\n",
    "    alt.Facet('casestudy:N').title(None)\n",
    ").properties(width = 300, height = 200).resolve_scale(x='independent').display(renderer='svg')"
   ]
  },
  {
   "cell_type": "code",
   "execution_count": null,
   "metadata": {},
   "outputs": [],
   "source": [
    "alt.Chart(\n",
    "    conservation_spatial_mean_df.set_index('time').loc['20230401': '20230407'].reset_index()\n",
    ").transform_fold([\n",
    "    'advective_term_lateral', 'advective_term_vertical',\n",
    "    'advective_term_total', 'airdensityflux_term_vertical',\n",
    "    'turbulent_term_vertical', 'storage_change', 'source',\n",
    "]).mark_line().encode(\n",
    "    alt.X('time:T'),\n",
    "    alt.Y('value:Q').scale(domain=[-0.04,0.04], clamp=True),\n",
    "    alt.Color('key:N'),\n",
    "    alt.Facet('casestudy:N').title(None)\n",
    ").properties(width =600, height = 200).resolve_scale(x='independent').display(renderer='svg')"
   ]
  },
  {
   "cell_type": "code",
   "execution_count": null,
   "metadata": {},
   "outputs": [],
   "source": [
    "(\n",
    "    (\n",
    "        alt.Chart(\n",
    "            (conservation_spatial_mean_df.set_index('time') * 7).loc['20230202': '20230204'].reset_index().assign(casestudy = 3)\n",
    "        ).transform_fold([\n",
    "            'advective_term_lateral', \n",
    "            'advective_term_vertical',\n",
    "            # 'advective_term_total', \n",
    "            'airdensityflux_term_vertical',\n",
    "            'turbulent_term_vertical', \n",
    "            # 'storage_change', \n",
    "            # 'source',\n",
    "        ]).mark_line().encode(\n",
    "            alt.X('time:T').axis(None),\n",
    "            alt.Y('value:Q').scale(domain=[-0.1,0.1], clamp=True).title('Flux density (g/m^2/s)'),\n",
    "            alt.Color('key:N'),\n",
    "            alt.Facet('casestudy:N').title(None)\n",
    "        ).properties(width = 800, height = 200) &\\\n",
    "        alt.Chart(\n",
    "            tidy_df.query(\"variable == 'w_h2o__3m_c'\").set_index('time').loc['20230202': '20230204'].reset_index()\n",
    "        ).mark_line().encode(\n",
    "            alt.X('time:T').axis(None),\n",
    "            alt.Y('value:Q').title([\"Vertical eddy cov.\", \"flux density (g/m^2/s)\"]),\n",
    "            alt.Color('height:O')\n",
    "        ).properties(width = 800, height = 100)\n",
    "     ).resolve_scale(y='shared') &\\\n",
    "    alt.Chart(\n",
    "        tidy_df.query(\"measurement == 'wind direction'\").query(\"tower == 'c'\").query(\n",
    "            \"height <= 10\"\n",
    "        ).set_index('time').loc['20230202': '20230204'].reset_index()\n",
    "    ).mark_line().encode(\n",
    "        alt.X('time:T').axis(None),\n",
    "        alt.Y('value:Q').title('Wind Dir. (˚)'),\n",
    "        alt.Color('height:O')\n",
    "    ).properties(width = 800, height = 100) &\\\n",
    "    alt.Chart(\n",
    "        tidy_df.query(\"variable == 'Ri_3m_c'\").set_index('time').loc['20230202': '20230204'].reset_index()\n",
    "    ).mark_line().encode(\n",
    "        alt.X('time:T').axis(None),\n",
    "        alt.Y('value:Q').scale(type='symlog', domain=[-10,10], clamp=True).title('Ri (at 3 meters)'),\n",
    "        alt.Color('height:O')\n",
    "    ).properties(width = 800, height = 100) &\\\n",
    "    alt.Chart(\n",
    "        tidy_df.query(\"variable == 'spd_10m_c'\").set_index('time').loc['20230202': '20230204'].reset_index()\n",
    "    ).mark_line().encode(\n",
    "        alt.X('time:T'),\n",
    "        alt.Y('value:Q').title('Wind speed (m/s)'),\n",
    "        alt.Color('height:O')\n",
    "    ).properties(width = 800, height = 100)\n",
    ").resolve_scale(color='independent')"
   ]
  },
  {
   "cell_type": "code",
   "execution_count": null,
   "metadata": {},
   "outputs": [],
   "source": [
    "alt.Chart(\n",
    "    tidy_df.query(\"measurement == 'wind direction'\").query(\"tower == 'c'\").query(\n",
    "        \"height <= 10\"\n",
    "    ).set_index('time').loc['20221221': '20221223'].reset_index()\n",
    ").mark_line().encode(\n",
    "    alt.X('time:T'),\n",
    "    alt.Y('value:Q'),\n",
    "    alt.Color('height:O')\n",
    ").properties(width = 300, height = 200) | alt.Chart(\n",
    "    tidy_df.query(\"measurement == 'wind direction'\").query(\"tower == 'c'\").query(\n",
    "        \"height <= 10\"\n",
    "    ).set_index('time').loc['20221212': '20221214'].reset_index()\n",
    ").mark_line().encode(\n",
    "    alt.X('time:T'),\n",
    "    alt.Y('value:Q'),\n",
    "    alt.Color('height:O')\n",
    ").properties(width = 300, height = 200) | alt.Chart(\n",
    "    tidy_df.query(\"measurement == 'wind direction'\").query(\"tower == 'c'\").query(\n",
    "        \"height <= 10\"\n",
    "    ).set_index('time').loc['20230201': '20230203'].reset_index()\n",
    ").mark_line().encode(\n",
    "    alt.X('time:T'),\n",
    "    alt.Y('value:Q'),\n",
    "    alt.Color('height:O')\n",
    ").properties(width = 300, height = 200)"
   ]
  },
  {
   "cell_type": "code",
   "execution_count": null,
   "metadata": {},
   "outputs": [],
   "source": [
    "src = tidy_df[\n",
    "    tidy_df.time.isin(\n",
    "        set(nobs_times).intersection(set(is_not_snowing_dates))\n",
    "    )\n",
    "]\n",
    "src = src[src.variable.isin(['w_h2o__3m_c', 'w_h2o__5m_c', 'w_h2o__10m_c'])]\n",
    "alt.Chart(\n",
    "    src\n",
    ").mark_line().encode(\n",
    "    alt.X('hoursminutes(time):T'),\n",
    "    alt.Y('median(value):Q'),\n",
    "    alt.Color('height:O')\n",
    ").properties(height = 200, width = 200, title='Vertical turbulent flux (g/m^2/s)')"
   ]
  },
  {
   "cell_type": "code",
   "execution_count": null,
   "metadata": {},
   "outputs": [],
   "source": [
    "alt.Chart(\n",
    "    tidy_df.query(\"measurement == 'air density'\").query(\"height > 0\")\n",
    ").mark_line().encode(\n",
    "    alt.X('hoursminutes(time):T'),\n",
    "    alt.Y('median(value):Q').scale(zero=False),\n",
    "    alt.Color('height:O')\n",
    ") | alt.Chart(\n",
    "    tidy_df.query(\"measurement == 'temperature'\").query(\"height > 0\")\n",
    ").mark_line().encode(\n",
    "    alt.X('hoursminutes(time):T'),\n",
    "    alt.Y('median(value):Q').scale(zero=False),\n",
    "    alt.Color('height:O')\n",
    ")"
   ]
  },
  {
   "cell_type": "code",
   "execution_count": null,
   "metadata": {},
   "outputs": [],
   "source": [
    "src = mixing_ratio_field_df.copy()\n",
    "src.columns = src.columns.droplevel(2)\n",
    "src.columns = [f\"{int(c1)}_{c2}\" for (c1,c2) in zip(\n",
    "    src.columns.get_level_values(0),\n",
    "    src.columns.get_level_values(1)\n",
    ")]\n",
    "src = src.melt(ignore_index=False)\n",
    "src['height'] = src['variable'].apply(lambda s: int(s.split('_')[0]))\n",
    "src['tower'] = src['variable'].apply(lambda s: s.split('_')[1])\n",
    "src = src[src.tower != 'c']\n",
    "daily_mixingratio_chart = alt.Chart(src.reset_index()).mark_line().encode(\n",
    "    alt.X('hoursminutes(time):T'),\n",
    "    alt.Y('median(value):Q').scale(zero=False),\n",
    "    alt.Color('tower:N'),\n",
    "    alt.StrokeDash('height:O'),\n",
    ").properties(title='Daily composite water vapor mixing ratio (g/g)')"
   ]
  },
  {
   "cell_type": "code",
   "execution_count": null,
   "metadata": {},
   "outputs": [],
   "source": [
    "src = mixing_ratio_field_df.copy()\n",
    "src.columns = src.columns.droplevel(2)\n",
    "src.columns = [f\"{int(c1)}_{c2}\" for (c1,c2) in zip(\n",
    "    src.columns.get_level_values(0),\n",
    "    src.columns.get_level_values(1)\n",
    ")]\n",
    "src = src.melt(ignore_index=False)\n",
    "src['height'] = src['variable'].apply(lambda s: int(s.split('_')[0]))\n",
    "src['tower'] = src['variable'].apply(lambda s: s.split('_')[1])\n",
    "src = src.reset_index()\n",
    "src = src[(src.time > '20230201') & (src.time < '20230205')]\n",
    "src = src.query(\"height == 3\")\n",
    "src.to_csv('irga_mixingratio_estimates.csv')\n",
    "alt.Chart(src).mark_line().encode(\n",
    "    alt.X('time:T'),\n",
    "    alt.Y('value:Q'),\n",
    "    alt.Color('tower:N')\n",
    ").properties()"
   ]
  },
  {
   "cell_type": "code",
   "execution_count": null,
   "metadata": {},
   "outputs": [],
   "source": [
    "src = mixing_ratio_field_df.copy()\n",
    "src.columns = src.columns.droplevel(2)\n",
    "src.columns = [f\"{int(c1)}_{c2}\" for (c1,c2) in zip(\n",
    "    src.columns.get_level_values(0),\n",
    "    src.columns.get_level_values(1)\n",
    ")]\n",
    "src = src.melt(ignore_index=False)\n",
    "src['height'] = src['variable'].apply(lambda s: int(s.split('_')[0]))\n",
    "src['tower'] = src['variable'].apply(lambda s: s.split('_')[1])\n",
    "src = src.reset_index()\n",
    "src = src[(src.time > '20221201') & (src.time < '20221205')]\n",
    "src = src.query(\"height == 3\")\n",
    "src.to_csv('irga_mixingratio_estimates_2.csv')\n",
    "alt.Chart(src).mark_line().encode(\n",
    "    alt.X('time:T'),\n",
    "    alt.Y('value:Q'),\n",
    "    alt.Color('tower:N')\n",
    ").properties()"
   ]
  },
  {
   "cell_type": "code",
   "execution_count": null,
   "metadata": {},
   "outputs": [],
   "source": [
    "src"
   ]
  },
  {
   "cell_type": "code",
   "execution_count": null,
   "metadata": {},
   "outputs": [],
   "source": [
    "src = dryair_density_field_df.copy()\n",
    "src.columns = src.columns.droplevel(2)\n",
    "src.columns = [f\"{int(c1)}_{c2}\" for (c1,c2) in zip(\n",
    "    src.columns.get_level_values(0),\n",
    "    src.columns.get_level_values(1)\n",
    ")]\n",
    "src = src.melt(ignore_index=False)\n",
    "src['height'] = src['variable'].apply(lambda s: int(s.split('_')[0]))\n",
    "src['tower'] = src['variable'].apply(lambda s: s.split('_')[1])\n",
    "src = src.reset_index()\n",
    "src = src[(src.time > '20230201') & (src.time < '20230205')]\n",
    "src = src.query(\"height == 3\")\n",
    "alt.Chart(src).mark_line().encode(\n",
    "    alt.X('time:T'),\n",
    "    alt.Y('value:Q').scale(zero=False),\n",
    "    alt.Color('tower:N')\n",
    ").properties()"
   ]
  },
  {
   "cell_type": "code",
   "execution_count": null,
   "metadata": {},
   "outputs": [],
   "source": []
  },
  {
   "cell_type": "code",
   "execution_count": null,
   "metadata": {},
   "outputs": [],
   "source": [
    "tc_field_df = tidy_df[tidy_df.measurement.isin(['virtual temperature']) & tidy_df.height.isin(HEIGHTS)]\n",
    "tc_field_df.measurement = 'tc'\n",
    "tc_field_df = round(\n",
    "    tc_field_df.pivot_table(\n",
    "        index='time', columns=['height', 'tower', 'measurement'], values='value'\n",
    "    ), \n",
    "    4\n",
    ")\n",
    "\n",
    "src = tc_field_df.copy()\n",
    "src.columns = src.columns.droplevel(2)\n",
    "src.columns = [f\"{int(c1)}_{c2}\" for (c1,c2) in zip(\n",
    "    src.columns.get_level_values(0),\n",
    "    src.columns.get_level_values(1)\n",
    ")]\n",
    "src = src.melt(ignore_index=False)\n",
    "src['height'] = src['variable'].apply(lambda s: int(s.split('_')[0]))\n",
    "src['tower'] = src['variable'].apply(lambda s: s.split('_')[1])\n",
    "src = src[src.tower != 'c']\n",
    "daily_sonic_temp_chart = alt.Chart(src.reset_index()).mark_line().encode(\n",
    "    alt.X('hoursminutes(time):T'),\n",
    "    alt.Y('median(value):Q').scale(zero=False\n",
    "                                   ),\n",
    "    alt.Color('tower:N'),\n",
    "    alt.StrokeDash('height:O'),\n",
    ").properties(title='Daily composite sonic temperature (˚C)')"
   ]
  },
  {
   "cell_type": "code",
   "execution_count": null,
   "metadata": {},
   "outputs": [],
   "source": [
    "(daily_mixingratio_chart | daily_sonic_temp_chart\n",
    ").display(renderer='svg')"
   ]
  }
 ],
 "metadata": {
  "kernelspec": {
   "display_name": "arm",
   "language": "python",
   "name": "python3"
  },
  "language_info": {
   "codemirror_mode": {
    "name": "ipython",
    "version": 3
   },
   "file_extension": ".py",
   "mimetype": "text/x-python",
   "name": "python",
   "nbconvert_exporter": "python",
   "pygments_lexer": "ipython3",
   "version": "3.12.5"
  }
 },
 "nbformat": 4,
 "nbformat_minor": 2
}
