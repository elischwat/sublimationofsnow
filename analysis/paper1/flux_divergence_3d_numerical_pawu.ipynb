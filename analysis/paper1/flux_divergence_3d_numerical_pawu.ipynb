{
 "cells": [
  {
   "cell_type": "code",
   "execution_count": null,
   "metadata": {},
   "outputs": [],
   "source": [
    "import numpy as np\n",
    "import pandas as pd\n",
    "import xarray as xr\n",
    "import matplotlib.pyplot as plt\n",
    "import altair as alt\n",
    "alt.data_transformers.enable('json')\n",
    "alt.renderers.enable('jupyterlab')\n",
    "from sublimpy import tidy, utils\n",
    "import pytz\n",
    "import datetime as dt\n",
    "\n",
    "seconds_in_timestep = 60*30\n",
    "from metpy.constants import density_water\n",
    "\n",
    "from metpy.units import units\n",
    "import pint_pandas\n",
    "from metpy import constants\n",
    "from scipy import interpolate\n",
    "np.set_printoptions(suppress=True,precision=10)"
   ]
  },
  {
   "cell_type": "markdown",
   "metadata": {},
   "source": [
    "# Parameters for calculations"
   ]
  },
  {
   "cell_type": "code",
   "execution_count": null,
   "metadata": {},
   "outputs": [],
   "source": [
    "HEIGHTS = [1,3,10]\n",
    "HORIZ_GRID_SPACING = 50\n",
    "VERT_GRID_SPACING = 20\n",
    "start_date = '20221130'\n",
    "end_date = '20230509'\n",
    "\n",
    "data_cutoff_date = '20230508'\n",
    "    # streamwise-coords\n",
    "# tidy_df = pd.read_parquet(f\"tidy_df_{start_date}_{end_date}_planar_fit_multiplane.parquet\")\n",
    "    # slope-adjusted earthwise-coords\n",
    "tidy_df = pd.read_parquet(f\"tidy_df_{start_date}_{end_date}_planar_fit.parquet\")\n",
    "    # sonic coords\n",
    "# tidy_df = pd.read_parquet(f\"tidy_df_{start_date}_{end_date}_noplanar_fit.parquet\")\n",
    "\n",
    "# method_numerical_advection = 'wind_divergence'      # q * d/dx_i (u_i)\n",
    "# method_numerical_advection = 'scalar_divergence'    # u_i * d/dx_i (q)\n",
    "# method_numerical_advection = 'summed'               # q * d/dx_i (u_i) + u_i * d/dx_i (q)\n",
    "# method_numerical_advection = 'derivative'           # d/dx_i (q * u_i)"
   ]
  },
  {
   "cell_type": "markdown",
   "metadata": {},
   "source": [
    "# Prepare data"
   ]
  },
  {
   "cell_type": "markdown",
   "metadata": {},
   "source": [
    "## Open SOS Measurement Dataset"
   ]
  },
  {
   "cell_type": "code",
   "execution_count": null,
   "metadata": {},
   "outputs": [],
   "source": [
    "# convert time column to datetime\n",
    "tidy_df['time'] = pd.to_datetime(tidy_df['time'])\n",
    "tidy_df = utils.modify_df_timezone(tidy_df, pytz.UTC, 'US/Mountain')\n",
    "# limit data to our dates of interest, based on continuous snow cover at Kettle Ponds\n",
    "tidy_df = tidy_df.set_index('time').sort_index().loc[start_date:data_cutoff_date].reset_index()\n",
    "\n",
    "## Add combined blowing snow flux variable\n",
    "tidy_df = tidy.tidy_df_add_variable(\n",
    "    tidy_df,\n",
    "    (\n",
    "        tidy_df.query(\"variable == 'SF_avg_1m_ue'\")['value'].values + \n",
    "        tidy_df.query(\"variable == 'SF_avg_2m_ue'\")['value'].values\n",
    "    ), \n",
    "    'SF_avg_ue', 'snow flux', 1, 'ue',\n",
    ")"
   ]
  },
  {
   "cell_type": "code",
   "execution_count": null,
   "metadata": {},
   "outputs": [],
   "source": [
    "tidy_df"
   ]
  },
  {
   "cell_type": "markdown",
   "metadata": {},
   "source": [
    "## Add absolute humidity measurements by converting hygrometer measurements"
   ]
  },
  {
   "cell_type": "code",
   "execution_count": null,
   "metadata": {},
   "outputs": [],
   "source": [
    "tower_height_keys = tidy_df[tidy_df.measurement=='specific humidity'].groupby(['tower', 'height']).indices.keys()\n",
    "for t, h in tower_height_keys:\n",
    "    this_tower_height_tidy_df = tidy_df.query(\n",
    "            f\"tower == '{t}'\"\n",
    "        ).query(\n",
    "            f\"height == {h}\"\n",
    "        )\n",
    "    specific_humidity_values = this_tower_height_tidy_df.query(\n",
    "            \"measurement == 'specific humidity'\"\n",
    "        ).set_index('time')[['value']].rename(columns={'value': 'specific humidity'})\n",
    "    air_density_values = this_tower_height_tidy_df.query(\n",
    "            \"measurement == 'air density'\"\n",
    "        ).set_index('time')[['value']].rename(columns={'value': 'air density'})\n",
    "    combined_df = specific_humidity_values.join(air_density_values)\n",
    "\n",
    "    abs_humidity_values = (\n",
    "        combined_df['specific humidity'].values * units('g/g')\n",
    "    ).to('g/kg') * (\n",
    "        combined_df['air density'].values * units('kg/m^3')\n",
    "    ).m\n",
    "\n",
    "    tidy_df = tidy.tidy_df_add_variable(\n",
    "        tidy_df,\n",
    "        abs_humidity_values,\n",
    "        f\"absolutehumidity_{int(h)}m_{t}\",\n",
    "        'absolute humidity',\n",
    "        int(h),\n",
    "        t\n",
    "    )"
   ]
  },
  {
   "cell_type": "markdown",
   "metadata": {},
   "source": [
    "## Calibrate gas analyzer measurements\n",
    "\n",
    "We calibrate by assuming that all gas analyzers have the same seasonal mean as the corresponding hygrometer measurement on the central tower (at a given height)"
   ]
  },
  {
   "cell_type": "code",
   "execution_count": null,
   "metadata": {},
   "outputs": [],
   "source": [
    "hygrometer_absolute_humidity_mean = (\n",
    "    1000 * tidy_df[tidy_df.measurement=='specific humidity'].groupby(['tower', 'height'])[['value']].mean() *\\\n",
    "    tidy_df[tidy_df.measurement=='air density'].groupby(['tower', 'height'])[['value']].mean()\n",
    ").reset_index().query(\"tower == 'c'\")"
   ]
  },
  {
   "cell_type": "code",
   "execution_count": null,
   "metadata": {},
   "outputs": [],
   "source": [
    "ec_absolute_humidity_mean = tidy_df[tidy_df.measurement=='Water vapor density'].groupby(['variable', 'tower', 'height'])[['value']].mean().reset_index()"
   ]
  },
  {
   "cell_type": "code",
   "execution_count": null,
   "metadata": {},
   "outputs": [],
   "source": [
    "corrections_df = ec_absolute_humidity_mean.merge(\n",
    "    hygrometer_absolute_humidity_mean[['height', 'value']].rename(columns={'value': 'truth'}),\n",
    "    on='height'\n",
    ")\n",
    "corrections_df['offset'] = corrections_df['value'] - corrections_df['truth']\n",
    "corrections_df"
   ]
  },
  {
   "cell_type": "markdown",
   "metadata": {},
   "source": [
    "Update dataset with corrections"
   ]
  },
  {
   "cell_type": "code",
   "execution_count": null,
   "metadata": {},
   "outputs": [],
   "source": [
    "src = tidy_df[tidy_df.measurement=='Water vapor density']\n",
    "src = src[src.height.isin([1,3,10])]\n",
    "src"
   ]
  },
  {
   "cell_type": "code",
   "execution_count": null,
   "metadata": {},
   "outputs": [],
   "source": [
    "alt.Chart(\n",
    "    (\n",
    "    1000 * tidy_df[tidy_df.measurement=='specific humidity'].groupby(['tower', 'height'])[['value']].mean() *\\\n",
    "    tidy_df[tidy_df.measurement=='air density'].groupby(['tower', 'height'])[['value']].mean()\n",
    "    ).reset_index()\n",
    ").mark_point(shape='square', filled=True, color='black', size=20).encode(\n",
    "    alt.X(\"value:Q\"),\n",
    "    alt.Y(\"height:Q\")\n",
    ").properties(width=150, height = 150)\\\n",
    "+ alt.Chart(\n",
    "    tidy_df[tidy_df.measurement=='Water vapor density'].groupby(['variable', 'tower', 'height'])[['value']].mean().reset_index()\n",
    ").mark_circle(size=40).encode(\n",
    "    alt.X(\"value:Q\"),\n",
    "    alt.Y(\"height:Q\"),\n",
    "    alt.Color('tower:N')\n",
    ").properties(width=150, height = 150)"
   ]
  },
  {
   "cell_type": "code",
   "execution_count": null,
   "metadata": {},
   "outputs": [],
   "source": [
    "\n",
    "\n",
    "alt.Chart(\n",
    "    src[ src.time > '20221212' ][ src.time < '20221214' ]\n",
    ").mark_line().encode(\n",
    "    alt.X(\"time:T\"),\n",
    "    alt.Y(\"value:Q\"),\n",
    "    alt.Color(\"height:N\"),\n",
    "    detail='variable'\n",
    ")"
   ]
  },
  {
   "cell_type": "code",
   "execution_count": null,
   "metadata": {},
   "outputs": [],
   "source": [
    "for idx, row in corrections_df.iterrows():\n",
    "    src = tidy_df.query(f\"variable == '{row['variable']}'\")\n",
    "    src = src.assign(value = src.value - row['offset'])\n",
    "    tidy_df = tidy_df[tidy_df.variable != row['variable']]\n",
    "    tidy_df = pd.concat([tidy_df, src])"
   ]
  },
  {
   "cell_type": "code",
   "execution_count": null,
   "metadata": {},
   "outputs": [],
   "source": [
    "alt.Chart(\n",
    "    (\n",
    "    1000 * tidy_df[tidy_df.measurement=='specific humidity'].groupby(['tower', 'height'])[['value']].mean() *\\\n",
    "    tidy_df[tidy_df.measurement=='air density'].groupby(['tower', 'height'])[['value']].mean()\n",
    "    ).reset_index()\n",
    ").mark_point(shape='square', filled=True, color='black', size=20).encode(\n",
    "    alt.X(\"value:Q\"),\n",
    "    alt.Y(\"height:Q\")\n",
    ").properties(width=150, height = 150)\\\n",
    "+ alt.Chart(\n",
    "    tidy_df[tidy_df.measurement=='Water vapor density'].groupby(['variable', 'tower', 'height'])[['value']].mean().reset_index()\n",
    ").mark_circle(size=40).encode(\n",
    "    alt.X(\"value:Q\"),\n",
    "    alt.Y(\"height:Q\"),\n",
    "    alt.Color('tower:N')\n",
    ").properties(width=150, height = 150)"
   ]
  },
  {
   "cell_type": "code",
   "execution_count": null,
   "metadata": {},
   "outputs": [],
   "source": [
    "src = tidy_df[tidy_df.measurement=='Water vapor density']\n",
    "src = src[src.height.isin([1,3,10])]\n",
    "abs_hum = alt.Chart(\n",
    "    src[ src.time > '20221212' ][ src.time < '20221214' ]\n",
    ").mark_line(strokeWidth=0.5).encode(\n",
    "    alt.X(\"time:T\"),\n",
    "    alt.Y(\"value:Q\").title(\"Absolute humidity (g/m^3)\").scale(zero=False),\n",
    "    alt.Color(\"height:N\"),\n",
    "    alt.Shape('tower:N'),\n",
    "    detail='variable'\n",
    ").properties(width=600)\n",
    "\n",
    "src = tidy_df[tidy_df.measurement=='snow depth']\n",
    "snowdepth = alt.Chart(\n",
    "    src[ src.time > '20221212' ][ src.time < '20221214' ]\n",
    ").mark_line(strokeWidth=0.5).encode(\n",
    "    alt.X(\"time:T\"),\n",
    "    alt.Y(\"value:Q\").title(\"Snow depth (m)\"),\n",
    "    alt.Shape('tower:N'),\n",
    "    detail='variable'\n",
    ").properties(width=600, height=150)\n",
    "\n",
    "(snowdepth & abs_hum).resolve_scale(color='independent', shape='independent')"
   ]
  },
  {
   "cell_type": "markdown",
   "metadata": {},
   "source": [
    "# Identify categories for timestamps"
   ]
  },
  {
   "cell_type": "code",
   "execution_count": null,
   "metadata": {},
   "outputs": [],
   "source": [
    "# Identify lists of timestamps for different categories\n",
    "bs_times = tidy_df.query(\"variable == 'SF_avg_ue'\").query(\"value > 0\").time\n",
    "nobs_times = tidy_df.query(\"variable == 'SF_avg_ue'\").query(\"value == 0\").time\n",
    "\n",
    "decoupled_times = tidy_df.query(\"variable == 'omega_3m_c'\").query(\"value < 0.43\").time\n",
    "weaklycoupled_times = tidy_df.query(\"variable == 'omega_3m_c'\").query(\"value >= 0.43\").query(\"value <= 0.61\").time\n",
    "coupled_times = tidy_df.query(\"variable == 'omega_3m_c'\").query(\"value > 0.61\").time\n",
    "\n",
    "ri_stable_times = tidy_df.query(\"variable == 'Ri_3m_c'\").query(\"value > 0.25\").time\n",
    "ri_unstable_times = tidy_df.query(\"variable == 'Ri_3m_c'\").query(\"value < -0.01\").time\n",
    "ri_neutral_times = tidy_df.query(\"variable == 'Ri_3m_c'\").query(\"value >= -0.01\").query(\"value <= 0.25\").time\n",
    "\n",
    "tgrad_stable_times = tidy_df.query(\"variable == 'temp_gradient_3m_c'\").query(\"value > 0.01\").time\n",
    "tgrad_unstable_times = tidy_df.query(\"variable == 'temp_gradient_3m_c'\").query(\"value < -0.01\").time\n",
    "tgrad_neutral_times = tidy_df.query(\"variable == 'temp_gradient_3m_c'\").query(\"value >= -0.01\").query(\"value <= 0.01\").time\n",
    "\n",
    "december_times = tidy_df[tidy_df.time.dt.month == 12].time\n",
    "january_times = tidy_df[tidy_df.time.dt.month == 1].time\n",
    "february_times = tidy_df[tidy_df.time.dt.month == 2].time\n",
    "march_times = tidy_df[tidy_df.time.dt.month == 3].time\n",
    "april_times = tidy_df[tidy_df.time.dt.month == 4].time\n",
    "\n",
    "midwinter_times = tidy_df[tidy_df.time < '20230320'].time\n",
    "spring_times = tidy_df[tidy_df.time > '20230320'].time"
   ]
  },
  {
   "cell_type": "code",
   "execution_count": null,
   "metadata": {},
   "outputs": [],
   "source": [
    "precip_df = xr.open_dataset(\"/Users/elischwat/Development/data/sublimationofsnow/precip_danny/precipitation_rate_gts_w23.nc\")['corrected_prcp_rate_m2'].to_dataframe()\n",
    "\n",
    "is_snowing_dates = pd.concat([\n",
    "    precip_df.query(\"corrected_prcp_rate_m2 > 0\").index.to_series(),\n",
    "    precip_df.query(\"corrected_prcp_rate_m2 > 0\").index.to_series() + dt.timedelta(minutes=30)\n",
    "])\n",
    "    \n",
    "is_not_snowing_dates = pd.concat([\n",
    "    precip_df.query(\"corrected_prcp_rate_m2 <= 0\").index.to_series(),\n",
    "    precip_df.query(\"corrected_prcp_rate_m2 <= 0\").index.to_series() + dt.timedelta(minutes=30)\n",
    "])"
   ]
  },
  {
   "cell_type": "markdown",
   "metadata": {},
   "source": [
    "# Create tables"
   ]
  },
  {
   "cell_type": "markdown",
   "metadata": {},
   "source": [
    "## Instrument location info (georeferenced)\n",
    "We use a file with theodolite/GPS readings provided by NCAR. "
   ]
  },
  {
   "cell_type": "code",
   "execution_count": null,
   "metadata": {},
   "outputs": [],
   "source": [
    "instrument_loc_df = pd.read_csv(\"~/Development/data/sublimationofsnow/SOSm.txt\", names = ['ec', 'x', 'y', 'z'])\n",
    "instrument_loc_df = instrument_loc_df[ \n",
    "    instrument_loc_df['ec'].str.startswith('CS')\n",
    "    |\n",
    "    instrument_loc_df['ec'].str.startswith('DS') \n",
    "    |\n",
    "    instrument_loc_df['ec'].str.startswith('UWS') \n",
    "    |\n",
    "    instrument_loc_df['ec'].str.startswith('UES') \n",
    "]\n",
    "instrument_loc_df = instrument_loc_df[ \n",
    "    instrument_loc_df['ec'].str.endswith('T') \n",
    "    |\n",
    "    instrument_loc_df['ec'].str.endswith('B') \n",
    "]\n",
    "instrument_loc_df['top or bottom'] = instrument_loc_df['ec'].str[-1]\n",
    "instrument_loc_df['tower'] = instrument_loc_df['ec'].apply(lambda str: str.split('S')[0].lower())\n",
    "instrument_loc_df['height'] = instrument_loc_df['ec'].apply(lambda str: int(str.split('S')[1][:-1]))\n",
    "instrument_loc_df = instrument_loc_df.drop(columns='ec')\n",
    "instrument_loc_df = instrument_loc_df.pivot(index=['height', 'tower'], columns='top or bottom').reset_index()\n",
    "instrument_loc_df = instrument_loc_df.set_index(['height', 'tower']).groupby(level=0, axis=1).mean()\n",
    "instrument_loc_df"
   ]
  },
  {
   "cell_type": "markdown",
   "metadata": {},
   "source": [
    "## Wind field measurements"
   ]
  },
  {
   "cell_type": "code",
   "execution_count": null,
   "metadata": {},
   "outputs": [],
   "source": [
    "wind_field_df = tidy_df[tidy_df.measurement.isin(['u','v','w']) & tidy_df.height.isin(HEIGHTS)]\n",
    "wind_field_df = round(wind_field_df.pivot_table(index='time', columns=['height', 'tower', 'measurement'], values='value'), 4)\n",
    "wind_field_df"
   ]
  },
  {
   "cell_type": "markdown",
   "metadata": {},
   "source": [
    "## Turbulent water vapor flux measurements"
   ]
  },
  {
   "cell_type": "code",
   "execution_count": null,
   "metadata": {},
   "outputs": [],
   "source": [
    "turb_flux_field_df = tidy_df[tidy_df.measurement.isin(['u_h2o_','v_h2o_','w_h2o_']) & tidy_df.height.isin(HEIGHTS)]\n",
    "turb_flux_field_df = round(turb_flux_field_df.pivot_table(index='time', columns=['height', 'tower', 'measurement'], values='value'), 4)\n",
    "turb_flux_field_df"
   ]
  },
  {
   "cell_type": "markdown",
   "metadata": {},
   "source": [
    "## Turbulent temperature flux measurements"
   ]
  },
  {
   "cell_type": "code",
   "execution_count": null,
   "metadata": {},
   "outputs": [],
   "source": [
    "temp_turb_flux_field_df = tidy_df[tidy_df.measurement.isin(['u_tc_','v_tc_','w_tc_']) & tidy_df.height.isin(HEIGHTS)]\n",
    "temp_turb_flux_field_df = round(temp_turb_flux_field_df.pivot_table(index='time', columns=['height', 'tower', 'measurement'], values='value'), 4)\n",
    "temp_turb_flux_field_df"
   ]
  },
  {
   "cell_type": "markdown",
   "metadata": {},
   "source": [
    "## Humidity measurements"
   ]
  },
  {
   "cell_type": "code",
   "execution_count": null,
   "metadata": {},
   "outputs": [],
   "source": [
    "abs_hum_field_df = tidy_df[tidy_df.measurement.isin(['Water vapor density']) & tidy_df.height.isin(HEIGHTS)]\n",
    "abs_hum_field_df.measurement = 'q'\n",
    "abs_hum_field_df = round(\n",
    "    abs_hum_field_df.pivot_table(\n",
    "        index='time', columns=['height', 'tower', 'measurement'], values='value'\n",
    "    ), \n",
    "    4\n",
    ")\n",
    "abs_hum_field_df"
   ]
  },
  {
   "cell_type": "markdown",
   "metadata": {},
   "source": [
    "## Advective flux measurements"
   ]
  },
  {
   "cell_type": "code",
   "execution_count": null,
   "metadata": {},
   "outputs": [],
   "source": [
    "ls = []\n",
    "for h in wind_field_df.columns.get_level_values('height').unique():\n",
    "    for t in wind_field_df.columns.get_level_values('tower').unique():\n",
    "        this_wind_df = wind_field_df[(h,t)].copy()\n",
    "        this_abs_hum_df = abs_hum_field_df[(h,t)].copy()  \n",
    "        this_wind_df['uq'] = this_wind_df['u']*this_abs_hum_df['q']\n",
    "        this_wind_df['vq'] = this_wind_df['v']*this_abs_hum_df['q']\n",
    "        this_wind_df['wq'] = this_wind_df['w']*this_abs_hum_df['q']\n",
    "        new = pd.concat([this_wind_df], axis=1, keys=[(h,t)])\n",
    "        ls.append(new.drop(columns=[(h,t,'u'),(h,t,'v'),(h,t,'w')]))\n",
    "\n",
    "adv_flux_field_df = ls[0]\n",
    "for l in ls[1:]:\n",
    "    adv_flux_field_df = adv_flux_field_df.join(l)\n",
    "adv_flux_field_df.columns = adv_flux_field_df.columns.set_names('height', level=0)\n",
    "adv_flux_field_df.columns = adv_flux_field_df.columns.set_names('tower', level=1)\n",
    "adv_flux_field_df"
   ]
  },
  {
   "cell_type": "markdown",
   "metadata": {},
   "source": [
    "## Dry air density measurements"
   ]
  },
  {
   "cell_type": "code",
   "execution_count": null,
   "metadata": {},
   "outputs": [],
   "source": [
    "# gather dry air density measurements\n",
    "dryair_density_field_df = tidy_df[tidy_df.measurement.isin(['dry air density']) & tidy_df.height.isin(HEIGHTS)]\n",
    "dryair_density_field_df.measurement = 'rho'\n",
    "dryair_density_field_df = round(\n",
    "    dryair_density_field_df.pivot_table(\n",
    "        index='time', columns=['height', 'tower', 'measurement'], values='value'\n",
    "    ), \n",
    "    4\n",
    ")\n",
    "\n",
    "# duplicate the dry air density measurements across the towers (THIS IS NAIVE)\n",
    "dryair_density_for_tower_d = dryair_density_field_df.copy()\n",
    "dryair_density_for_tower_d.columns = pd.MultiIndex.from_tuples([(cs[0], 'd', cs[2]) for cs in dryair_density_for_tower_d.columns])\n",
    "\n",
    "dryair_density_for_tower_uw = dryair_density_field_df.copy()\n",
    "dryair_density_for_tower_uw.columns = pd.MultiIndex.from_tuples([(cs[0], 'uw', cs[2]) for cs in dryair_density_for_tower_d.columns])\n",
    "\n",
    "dryair_density_for_tower_ue = dryair_density_field_df.copy()\n",
    "dryair_density_for_tower_ue.columns = pd.MultiIndex.from_tuples([(cs[0], 'ue', cs[2]) for cs in dryair_density_for_tower_d.columns])\n",
    "\n",
    "dryair_density_field_df = dryair_density_field_df.join(\n",
    "    dryair_density_for_tower_d\n",
    ").join(\n",
    "    dryair_density_for_tower_ue\n",
    ").join(\n",
    "    dryair_density_for_tower_uw\n",
    ")\n",
    "\n",
    "dryair_density_field_df.columns = dryair_density_field_df.columns.set_names(['height', 'tower', 'measurement'])\n",
    "dryair_density_field_df"
   ]
  },
  {
   "cell_type": "markdown",
   "metadata": {},
   "source": [
    "## Mixing ratio measurements"
   ]
  },
  {
   "cell_type": "code",
   "execution_count": null,
   "metadata": {},
   "outputs": [],
   "source": [
    "mixing_ratio_field_df = abs_hum_field_df.droplevel(2, 1) / dryair_density_field_df.droplevel(2, 1)\n",
    "\n",
    "mixing_ratio_field_df.columns = pd.MultiIndex.from_product(mixing_ratio_field_df.columns.levels + [['r']])\n",
    "mixing_ratio_field_df.columns = mixing_ratio_field_df.columns.set_names('measurement', level=2)\n",
    "mixing_ratio_field_df"
   ]
  },
  {
   "cell_type": "markdown",
   "metadata": {},
   "source": [
    "# Divergence calculations"
   ]
  },
  {
   "cell_type": "code",
   "execution_count": null,
   "metadata": {},
   "outputs": [],
   "source": [
    "def divergence(f,sp):\n",
    "    \"\"\" \n",
    "    From: https://stackoverflow.com/a/67971515\n",
    "    Computes divergence of vector field \n",
    "    f: array -> vector field components [Fx,Fy,Fz,...]\n",
    "    sp: array -> spacing between points in respecitve directions [spx, spy,spz,...]\n",
    "    \"\"\"\n",
    "    num_dims = len(f)\n",
    "    return np.ufunc.reduce(np.add, [np.gradient(f[i], sp[i], axis=i) for i in range(num_dims)])"
   ]
  },
  {
   "cell_type": "markdown",
   "metadata": {},
   "source": [
    "## Calculate interpolated fields"
   ]
  },
  {
   "cell_type": "code",
   "execution_count": null,
   "metadata": {},
   "outputs": [],
   "source": [
    "# Initialize lists to store results\n",
    "wind_fields = []\n",
    "turbulent_latentheat_flux_fields = []\n",
    "turbulent_sensibleheat_flux_fields = []\n",
    "abshumidity_fields = []\n",
    "advectedflux_fields = []\n",
    "dryairdensity_fields = []\n",
    "mixingratio_fields = []\n",
    "\n",
    "grid_spacings = []\n",
    "timestamps = []\n",
    "\n",
    "\n",
    "field_dataframes ={\n",
    "    'wind' :            wind_field_df,\n",
    "    'turb_flux' :       turb_flux_field_df,\n",
    "    'temp_turb_flux' :  temp_turb_flux_field_df,\n",
    "    'abs_hum' :         abs_hum_field_df,\n",
    "    'adv_flux' :        adv_flux_field_df,\n",
    "    'dryair_density' :  dryair_density_field_df,\n",
    "    'mixing_ratio' :    mixing_ratio_field_df,\n",
    "}\n",
    "\n",
    "for i in wind_field_df.index:\n",
    "    # sometimes we don't have all measurements - this ensures we only retrieve data that exists\n",
    "    if all([i in df.index for df in field_dataframes.values()]):\n",
    "        values_dataframes = {}\n",
    "        \n",
    "        # Isolate all measurementsfor this timestamp\n",
    "        for key in field_dataframes.keys():\n",
    "            values_dataframes[key] = pd.DataFrame(\n",
    "                field_dataframes[key].loc[i]\n",
    "            ).reset_index().set_index(['height', 'tower']).pivot(columns='measurement')\n",
    "            values_dataframes[key].columns = values_dataframes[key].columns.droplevel(0)\n",
    "\n",
    "        # Combine all measurements of fields and instrument locations into one dataframe\n",
    "        points_and_fields = instrument_loc_df.join(\n",
    "            values_dataframes['wind'], how='right' # join on right df, so we drop instruments that we don't have measurements for\n",
    "        )\n",
    "        for key in field_dataframes.keys():\n",
    "            if key != 'wind':\n",
    "                points_and_fields = points_and_fields.join(values_dataframes[key])\n",
    "\n",
    "        # Create a meshgrid for the interpolation\n",
    "        xx, yy, zz = np.meshgrid(\n",
    "            np.linspace(points_and_fields.x.min(), points_and_fields.x.max(), HORIZ_GRID_SPACING),\n",
    "            np.linspace(points_and_fields.y.min(), points_and_fields.y.max(), HORIZ_GRID_SPACING),\n",
    "            np.linspace(points_and_fields.z.min(), points_and_fields.z.max(), VERT_GRID_SPACING)\n",
    "        )\n",
    "        points = np.transpose(np.vstack((points_and_fields.x, points_and_fields.y, points_and_fields.z)))\n",
    "\n",
    "        # Interpolate wind field\n",
    "        u_interp = interpolate.griddata(points, points_and_fields['u'], (xx, yy, zz), method='linear')\n",
    "        v_interp = interpolate.griddata(points, points_and_fields['v'], (xx, yy, zz), method='linear')\n",
    "        w_interp = interpolate.griddata(points, points_and_fields['w'], (xx, yy, zz), method='linear')\n",
    "\n",
    "        # Interpolate turbulent latent heat flux fields\n",
    "        u_q__interp = interpolate.griddata(points, points_and_fields['u_h2o_'], (xx, yy, zz), method='linear')\n",
    "        v_q__interp = interpolate.griddata(points, points_and_fields['v_h2o_'], (xx, yy, zz), method='linear')\n",
    "        w_q__interp = interpolate.griddata(points, points_and_fields['w_h2o_'], (xx, yy, zz), method='linear')\n",
    "\n",
    "        # Interpolate turbulent sensible heat flux fields\n",
    "        u_tc__interp = interpolate.griddata(points, points_and_fields['u_tc_'], (xx, yy, zz), method='linear')\n",
    "        v_tc__interp = interpolate.griddata(points, points_and_fields['v_tc_'], (xx, yy, zz), method='linear')\n",
    "        w_tc__interp = interpolate.griddata(points, points_and_fields['w_tc_'], (xx, yy, zz), method='linear')\n",
    "\n",
    "        # Interpolate advected flux field\n",
    "        uq_interp = interpolate.griddata(points, points_and_fields['uq'], (xx, yy, zz), method='linear')\n",
    "        vq_interp = interpolate.griddata(points, points_and_fields['vq'], (xx, yy, zz), method='linear')\n",
    "        wq_interp = interpolate.griddata(points, points_and_fields['wq'], (xx, yy, zz), method='linear')\n",
    "\n",
    "        # Interpolate abs. humidity field\n",
    "        q_interp = interpolate.griddata(points, points_and_fields['q'], (xx, yy, zz), method='linear')\n",
    "\n",
    "        # Interpolate dry air density field\n",
    "        rho_interp = interpolate.griddata(points, points_and_fields['rho'], (xx, yy, zz), method='linear')\n",
    "\n",
    "        # Interpolate (water vapor) mixing ratio field\n",
    "        r_interp = interpolate.griddata(points, points_and_fields['r'], (xx, yy, zz), method='linear')\n",
    "\n",
    "        # Combine interpolated components into vector fields\n",
    "        F = np.array([u_interp, v_interp, w_interp])\n",
    "        Fq = np.array([uq_interp, vq_interp, wq_interp])\n",
    "        F_q_ = np.array([u_q__interp, v_q__interp, w_q__interp])\n",
    "        F_tc_ = np.array([u_tc__interp, v_tc__interp, w_tc__interp])\n",
    "\n",
    "        # Record grid spacing        \n",
    "        sp_x = np.diff(xx[0,:,0]).mean()\n",
    "        sp_y = np.diff(yy[:,0,0]).mean()\n",
    "        sp_z = np.diff(zz[0,0,:]).mean()\n",
    "        sp = [sp_x, sp_y, sp_z]\n",
    "\n",
    "        # Append interpolated fields to our results lists\n",
    "        wind_fields.append(F)\n",
    "        advectedflux_fields.append(Fq)\n",
    "        turbulent_latentheat_flux_fields.append(F_q_)\n",
    "        turbulent_sensibleheat_flux_fields.append(F_tc_)\n",
    "        abshumidity_fields.append(q_interp)\n",
    "        dryairdensity_fields.append(rho_interp)\n",
    "        mixingratio_fields.append(r_interp)\n",
    "        grid_spacings.append(sp)\n",
    "        timestamps.append(i)"
   ]
  },
  {
   "cell_type": "markdown",
   "metadata": {},
   "source": [
    "## Calculate divergences\n"
   ]
  },
  {
   "cell_type": "markdown",
   "metadata": {},
   "source": [
    "$$\n",
    "\\overline{S} = \n",
    "\\overline{\\rho} \\frac{\\partial \\overline{s}}{\\partial t} \n",
    "+ \\overline{u_i} \\space \\overline{\\rho} \\frac{\\partial \\overline{s}}{\\partial x_i} \n",
    "- \\overline{s} \\frac{\\partial }{\\partial z} \\Big( \n",
    "    \\frac{\\overline{\\rho}}{\\overline{T}} ( 1 + \\mu \\overline{s}) \\overline{w'T'} + \\mu \\overline{w'q'} \n",
    "\\Big)\n",
    "+ \\frac{\\partial \\overline{w'q'}}{\\partial z}  \n",
    "$$"
   ]
  },
  {
   "cell_type": "code",
   "execution_count": null,
   "metadata": {},
   "outputs": [],
   "source": [
    "mu = 1/0.622\n",
    "T = 273.15"
   ]
  },
  {
   "cell_type": "code",
   "execution_count": null,
   "metadata": {},
   "outputs": [],
   "source": [
    "advective_term_lateral_ls = []\n",
    "advective_term_vertical_ls = []\n",
    "advective_term_total_ls = []\n",
    "airdensityflux_term_vertical_ls = []\n",
    "turbulent_term_vertical_ls = []\n",
    "\n",
    "for i in range(0, len(wind_fields)):\n",
    "    wind_field          = wind_fields[i]\n",
    "    advectedflux_field  = advectedflux_fields[i]\n",
    "    turbulent_latentheat_flux_field = turbulent_latentheat_flux_fields[i]\n",
    "    turbulent_sensibleheat_flux_field = turbulent_sensibleheat_flux_fields[i]\n",
    "    abshumidity_field   = abshumidity_fields[i]\n",
    "    dryairdensity_field   = dryairdensity_fields[i]\n",
    "    mixingratio_field   = mixingratio_fields[i]\n",
    "    grid_spacing        = grid_spacings[i]\n",
    "\n",
    "    # create wind fields with just lateral and vertical components\n",
    "    wind_field_vertical_only = wind_field.copy()\n",
    "    wind_field_lateral_only  = wind_field.copy()\n",
    "    wind_field_vertical_only[0] = 0\n",
    "    wind_field_vertical_only[1] = 0\n",
    "    wind_field_lateral_only[2] = 0\n",
    "\n",
    "    advectedflux_field_vertical_only = advectedflux_field.copy()\n",
    "    advectedflux_field_lateral_only  = advectedflux_field.copy()\n",
    "    advectedflux_field_vertical_only[0] = 0\n",
    "    advectedflux_field_vertical_only[1] = 0\n",
    "    advectedflux_field_lateral_only[2] = 0\n",
    "\n",
    "    turbulent_latentheat_flux_field_vertical_only = turbulent_latentheat_flux_field.copy()\n",
    "    turbulent_latentheat_flux_field_lateral_only = turbulent_latentheat_flux_field.copy()\n",
    "    turbulent_latentheat_flux_field_vertical_only[0] = 0\n",
    "    turbulent_latentheat_flux_field_vertical_only[1] = 0\n",
    "    turbulent_latentheat_flux_field_lateral_only[2] = 0\n",
    "\n",
    "    turbulent_sensibleheat_flux_field_vertical_only = turbulent_sensibleheat_flux_field.copy()\n",
    "    turbulent_sensibleheat_flux_field_lateral_only = turbulent_sensibleheat_flux_field.copy()\n",
    "    turbulent_sensibleheat_flux_field_vertical_only[0] = 0\n",
    "    turbulent_sensibleheat_flux_field_vertical_only[1] = 0\n",
    "    turbulent_sensibleheat_flux_field_lateral_only[2] = 0\n",
    "\n",
    "    advective_term_lateral = wind_field*dryairdensity_field*np.gradient(\n",
    "        mixingratio_field,  grid_spacing[0],    axis=0\n",
    "    ) + np.gradient(\n",
    "        mixingratio_field,  grid_spacing[1],    axis=1\n",
    "    )\n",
    "    \n",
    "    advective_term_vertical = wind_field*dryairdensity_field*np.gradient(\n",
    "        mixingratio_field,  grid_spacing[2],    axis=2\n",
    "    )\n",
    "\n",
    "    advective_term_total = advective_term_lateral + advective_term_vertical\n",
    "\n",
    "    airdensityflux_term_vertical = mixingratio_field * np.gradient(\n",
    "        (\n",
    "            (dryairdensity_field/T) * (1 + mu*mixingratio_field) * turbulent_sensibleheat_flux_field + mu*turbulent_latentheat_flux_field\n",
    "        ),\n",
    "        grid_spacing[2],\n",
    "        axis=2\n",
    "    )\n",
    "\n",
    "    turbulent_term_vertical = np.gradient(\n",
    "        turbulent_latentheat_flux_field,\n",
    "        grid_spacing[2],\n",
    "        axis=2\n",
    "    )\n",
    "\n",
    "    advective_term_lateral_ls.append(advective_term_lateral)\n",
    "    advective_term_vertical_ls.append(advective_term_vertical)\n",
    "    advective_term_total_ls.append(advective_term_total)\n",
    "    airdensityflux_term_vertical_ls.append(airdensityflux_term_vertical)\n",
    "    turbulent_term_vertical_ls.append(turbulent_term_vertical)"
   ]
  },
  {
   "cell_type": "markdown",
   "metadata": {},
   "source": [
    "## Calculate spatially averaged divergence values"
   ]
  },
  {
   "cell_type": "code",
   "execution_count": null,
   "metadata": {},
   "outputs": [],
   "source": [
    "conservation_spatial_mean_df = pd.DataFrame({\n",
    "    'advective_term_lateral' : [\n",
    "        np.nanmean(item) for item in advective_term_lateral_ls\n",
    "    ],\n",
    "    'advective_term_vertical' : [\n",
    "        np.nanmean(item) for item in advective_term_vertical_ls\n",
    "    ],\n",
    "    'advective_term_total' : [\n",
    "        np.nanmean(item) for item in advective_term_total_ls\n",
    "    ],\n",
    "    'airdensityflux_term_vertical' : [\n",
    "        np.nanmean(item) for item in airdensityflux_term_vertical_ls\n",
    "    ],\n",
    "    'turbulent_term_vertical' : [\n",
    "        np.nanmean(item) for item in turbulent_term_vertical_ls\n",
    "    ],\n",
    "})\n",
    "conservation_spatial_mean_df['time'] = timestamps\n",
    "conservation_spatial_mean_df = conservation_spatial_mean_df.set_index('time')"
   ]
  },
  {
   "cell_type": "code",
   "execution_count": null,
   "metadata": {},
   "outputs": [],
   "source": [
    "conservation_spatial_mean_df.to_csv(\"hi.csv\")"
   ]
  },
  {
   "cell_type": "code",
   "execution_count": null,
   "metadata": {},
   "outputs": [],
   "source": [
    "conservation_spatial_mean_df = pd.read_csv(\"hi.csv\")\n",
    "conservation_spatial_mean_df.time = pd.to_datetime(conservation_spatial_mean_df.time)"
   ]
  },
  {
   "cell_type": "code",
   "execution_count": null,
   "metadata": {},
   "outputs": [],
   "source": [
    "line = alt.Chart().mark_rule().encode(y=alt.datum(0))\n",
    "\n",
    "def conservation_spatial_mean_composite_plot(src, columns, title, times_filter = None, normalize = None):\n",
    "    if times_filter is not None:\n",
    "        src = src[src.time.isin(times_filter)]\n",
    "    else:\n",
    "        src = src\n",
    "    if normalize is not None:\n",
    "        src[columns] = src[columns] * normalize\n",
    "    return line + alt.Chart(\n",
    "        src.reset_index()\n",
    "    ).transform_fold(\n",
    "        columns\n",
    "    ).mark_line().encode(\n",
    "        alt.X('hoursminutes(time):T').title('time'),\n",
    "        alt.Y('median(value):Q'),\n",
    "        alt.Color('key:N')\n",
    "    ).properties(height = 200, width = 200, title=title)"
   ]
  },
  {
   "cell_type": "code",
   "execution_count": null,
   "metadata": {},
   "outputs": [],
   "source": [
    "(\n",
    "    conservation_spatial_mean_composite_plot(\n",
    "        conservation_spatial_mean_df,\n",
    "        [\n",
    "            'advective_term_lateral', 'advective_term_vertical', 'advective_term_total', \n",
    "            'airdensityflux_term_vertical', 'turbulent_term_vertical'\n",
    "        ],\n",
    "        title='All data', normalize = 7\n",
    "    ) | conservation_spatial_mean_composite_plot(\n",
    "        conservation_spatial_mean_df,\n",
    "        [\n",
    "            'advective_term_lateral', 'advective_term_vertical', 'advective_term_total', \n",
    "            'airdensityflux_term_vertical', 'turbulent_term_vertical'\n",
    "        ],\n",
    "        title='No BS, not snowing', normalize = 7,\n",
    "        times_filter = set(nobs_times).intersection(set(is_not_snowing_dates))\n",
    "    ) | conservation_spatial_mean_composite_plot(\n",
    "        conservation_spatial_mean_df,\n",
    "        [\n",
    "            'advective_term_lateral', 'advective_term_vertical', 'advective_term_total', \n",
    "            'airdensityflux_term_vertical', 'turbulent_term_vertical'\n",
    "        ],\n",
    "        title='Not snowing', normalize = 7,\n",
    "        times_filter = set(is_not_snowing_dates)\n",
    "    ) | conservation_spatial_mean_composite_plot(\n",
    "        conservation_spatial_mean_df,\n",
    "        [\n",
    "            'advective_term_lateral', 'advective_term_vertical', 'advective_term_total', \n",
    "            'airdensityflux_term_vertical', 'turbulent_term_vertical'\n",
    "        ],\n",
    "        title='BS', normalize = 7,\n",
    "        times_filter = set(bs_times)\n",
    "    )\n",
    ").resolve_scale(y='shared', x='shared', color='shared').display(renderer='svg')"
   ]
  },
  {
   "cell_type": "code",
   "execution_count": null,
   "metadata": {},
   "outputs": [],
   "source": [
    "alt.Chart(\n",
    "    tidy_df[tidy_df.variable.isin(['w_h2o__3m_c', 'w_h2o__5m_c', 'w_h2o__10m_c'])]\n",
    ").mark_line().encode(\n",
    "    alt.X('hoursminutes(time):T'),\n",
    "    alt.Y('median(value):Q'),\n",
    "    alt.Color('height:O')\n",
    ").properties(width = 400, height = 200)"
   ]
  },
  {
   "cell_type": "code",
   "execution_count": null,
   "metadata": {},
   "outputs": [],
   "source": [
    "alt.Chart(\n",
    "    tidy_df.query(\n",
    "        \"measurement == ''\"\n",
    "    ).query(\n",
    "        \"tower == 'c'\"\n",
    "    ).query(\"height <= 10\").set_index('time').loc['20221221': '20221223'].reset_index()\n",
    ").mark_line().encode(\n",
    "    alt.X('time:T'),\n",
    "    alt.Y('value:Q'),\n",
    "    alt.Color('height:O')\n",
    ").properties(width = 400, height = 200)"
   ]
  },
  {
   "cell_type": "code",
   "execution_count": null,
   "metadata": {},
   "outputs": [],
   "source": [
    "\n",
    "src1 = conservation_spatial_mean_df.set_index('time').loc['20221221': '20221223'].reset_index().assign(casestudy = 1)\n",
    "src2 = conservation_spatial_mean_df.set_index('time').loc['20221212': '20221214'].reset_index().assign(casestudy = 2)\n",
    "alt.Chart(pd.concat([src1, src2])).transform_fold(\n",
    "    src.columns.drop('time').tolist()\n",
    ").mark_line().encode(\n",
    "    alt.X('time:T'),\n",
    "    alt.Y('value:Q'),\n",
    "    alt.Color('key:N').scale(\n",
    "        domain = ['advective_term_total', 'advective_term_lateral', 'advective_term_vertical',  'turbulent_term_vertical', 'airdensityflux_term_vertical'],\n",
    "        range = ['black', 'darkgrey', 'light', 'red', 'blue']\n",
    "    ),\n",
    "    alt.Facet('casestudy:N').title(None)\n",
    ").properties(width = 400, height = 200).resolve_scale(x='independent')"
   ]
  },
  {
   "cell_type": "code",
   "execution_count": null,
   "metadata": {},
   "outputs": [],
   "source": [
    "alt.Chart(\n",
    "    tidy_df.query(\n",
    "        \"measurement == 'wind direction'\"\n",
    "    ).query(\n",
    "        \"tower == 'c'\"\n",
    "    ).query(\"height <= 10\").set_index('time').loc['20221221': '20221223'].reset_index()\n",
    ").mark_line().encode(\n",
    "    alt.X('time:T'),\n",
    "    alt.Y('value:Q'),\n",
    "    alt.Color('height:O')\n",
    ").properties(width = 400, height = 200)"
   ]
  },
  {
   "cell_type": "code",
   "execution_count": null,
   "metadata": {},
   "outputs": [],
   "source": [
    "(\n",
    "    conservation_spatial_mean_composite_plot([\n",
    "            'div_wind_field',\n",
    "            'div_wind_field_lateral',\n",
    "            'div_wind_field_vertical',\n",
    "        ], 'Divergence of wind field (1/s)',\n",
    "        set(nobs_times).intersection(set(is_not_snowing_dates))\n",
    "    ) | (\n",
    "        conservation_spatial_mean_composite_plot([\n",
    "            'div_advectedflux_field',\n",
    "            'div_advectedflux_field_lateral',\n",
    "            'div_advectedflux_field_vertical',\n",
    "        ], 'Divergence of advective flux (g/m^3)',\n",
    "        set(nobs_times).intersection(set(is_not_snowing_dates))\n",
    "        ) | conservation_spatial_mean_composite_plot([\n",
    "                'div_turbulentflux_field',\n",
    "                'div_turbulentflux_field_lateral',\n",
    "                'div_turbulentflux_field_vertical',\n",
    "            ], 'Divergence of turbulent flux (g/m^3)',\n",
    "        set(nobs_times).intersection(set(is_not_snowing_dates))\n",
    "        )\n",
    "    ).resolve_scale(color='independent', x='shared', y='shared')\n",
    ").resolve_scale(\n",
    "    color='independent', x='shared', y='independent',\n",
    ").configure_legend(orient='top', columns=1).properties(\n",
    "    title='All data'\n",
    ").display(renderer='svg')"
   ]
  },
  {
   "cell_type": "code",
   "execution_count": null,
   "metadata": {},
   "outputs": [],
   "source": [
    "src = tidy_df[\n",
    "    tidy_df.time.isin(\n",
    "        set(nobs_times).intersection(set(is_not_snowing_dates))\n",
    "    )\n",
    "]\n",
    "src = src[src.variable.isin(['w_h2o__3m_c', 'w_h2o__5m_c', 'w_h2o__10m_c'])]\n",
    "ec_flux_chart = alt.Chart(\n",
    "    src\n",
    ").mark_line().encode(\n",
    "    alt.X('hoursminutes(time):T'),\n",
    "    alt.Y('median(value):Q'),\n",
    "    alt.Color('height:O')\n",
    ").properties(height = 200, width = 200, title='Vertical turbulent flux (g/m^2/s)')"
   ]
  },
  {
   "cell_type": "code",
   "execution_count": null,
   "metadata": {},
   "outputs": [],
   "source": [
    "alt.Chart(\n",
    "    tidy_df.query(\"measurement == 'air density'\").query(\"height > 0\")\n",
    ").mark_line().encode(\n",
    "    alt.X('hoursminutes(time):T'),\n",
    "    alt.Y('median(value):Q').scale(zero=False),\n",
    "    alt.Color('height:O')\n",
    ") | alt.Chart(\n",
    "    tidy_df.query(\"measurement == 'temperature'\").query(\"height > 0\")\n",
    ").mark_line().encode(\n",
    "    alt.X('hoursminutes(time):T'),\n",
    "    alt.Y('median(value):Q').scale(zero=False),\n",
    "    alt.Color('height:O')\n",
    ")"
   ]
  },
  {
   "cell_type": "code",
   "execution_count": null,
   "metadata": {},
   "outputs": [],
   "source": []
  }
 ],
 "metadata": {
  "kernelspec": {
   "display_name": "arm",
   "language": "python",
   "name": "python3"
  },
  "language_info": {
   "codemirror_mode": {
    "name": "ipython",
    "version": 3
   },
   "file_extension": ".py",
   "mimetype": "text/x-python",
   "name": "python",
   "nbconvert_exporter": "python",
   "pygments_lexer": "ipython3",
   "version": "3.12.4"
  }
 },
 "nbformat": 4,
 "nbformat_minor": 2
}
