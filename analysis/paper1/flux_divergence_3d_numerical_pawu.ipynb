{
 "cells": [
  {
   "cell_type": "code",
   "execution_count": 1,
   "metadata": {},
   "outputs": [],
   "source": [
    "import numpy as np\n",
    "import pandas as pd\n",
    "import xarray as xr\n",
    "import matplotlib.pyplot as plt\n",
    "import altair as alt\n",
    "alt.data_transformers.enable('json')\n",
    "alt.renderers.enable('jupyterlab')\n",
    "from sublimpy import tidy, utils\n",
    "import pytz\n",
    "import datetime as dt\n",
    "\n",
    "seconds_in_timestep = 60*30\n",
    "from metpy.constants import density_water\n",
    "\n",
    "from metpy.units import units\n",
    "import pint_pandas\n",
    "from metpy import constants\n",
    "from scipy import interpolate\n",
    "np.set_printoptions(suppress=True,precision=10)"
   ]
  },
  {
   "cell_type": "markdown",
   "metadata": {},
   "source": [
    "# Parameters for calculations"
   ]
  },
  {
   "cell_type": "code",
   "execution_count": 2,
   "metadata": {},
   "outputs": [],
   "source": [
    "HEIGHTS = [1,3,10]\n",
    "HORIZ_GRID_SPACING = 50\n",
    "VERT_GRID_SPACING = 20\n",
    "start_date = '20221130'\n",
    "end_date = '20230509'\n",
    "\n",
    "data_cutoff_date = '20230508'\n",
    "    # streamwise-coords\n",
    "# tidy_df = pd.read_parquet(f\"tidy_df_{start_date}_{end_date}_planar_fit_multiplane.parquet\")\n",
    "    # slope-adjusted earthwise-coords\n",
    "tidy_df = pd.read_parquet(f\"tidy_df_{start_date}_{end_date}_planar_fit.parquet\")\n",
    "    # sonic coords\n",
    "# tidy_df = pd.read_parquet(f\"tidy_df_{start_date}_{end_date}_noplanar_fit.parquet\")\n",
    "\n",
    "# method_numerical_advection = 'wind_divergence'      # q * d/dx_i (u_i)\n",
    "# method_numerical_advection = 'scalar_divergence'    # u_i * d/dx_i (q)\n",
    "# method_numerical_advection = 'summed'               # q * d/dx_i (u_i) + u_i * d/dx_i (q)\n",
    "# method_numerical_advection = 'derivative'           # d/dx_i (q * u_i)"
   ]
  },
  {
   "cell_type": "markdown",
   "metadata": {},
   "source": [
    "# Prepare data"
   ]
  },
  {
   "cell_type": "markdown",
   "metadata": {},
   "source": [
    "## Open SOS Measurement Dataset"
   ]
  },
  {
   "cell_type": "code",
   "execution_count": 3,
   "metadata": {},
   "outputs": [],
   "source": [
    "# convert time column to datetime\n",
    "tidy_df['time'] = pd.to_datetime(tidy_df['time'])\n",
    "tidy_df = utils.modify_df_timezone(tidy_df, pytz.UTC, 'US/Mountain')\n",
    "# limit data to our dates of interest, based on continuous snow cover at Kettle Ponds\n",
    "tidy_df = tidy_df.set_index('time').sort_index().loc[start_date:data_cutoff_date].reset_index()\n",
    "\n",
    "## Add combined blowing snow flux variable\n",
    "tidy_df = tidy.tidy_df_add_variable(\n",
    "    tidy_df,\n",
    "    (\n",
    "        tidy_df.query(\"variable == 'SF_avg_1m_ue'\")['value'].values + \n",
    "        tidy_df.query(\"variable == 'SF_avg_2m_ue'\")['value'].values\n",
    "    ), \n",
    "    'SF_avg_ue', 'snow flux', 1, 'ue',\n",
    ")"
   ]
  },
  {
   "cell_type": "markdown",
   "metadata": {},
   "source": [
    "## Add absolute humidity measurements by converting hygrometer measurements"
   ]
  },
  {
   "cell_type": "code",
   "execution_count": 4,
   "metadata": {},
   "outputs": [],
   "source": [
    "tower_height_keys = tidy_df[tidy_df.measurement=='specific humidity'].groupby(['tower', 'height']).indices.keys()\n",
    "for t, h in tower_height_keys:\n",
    "    this_tower_height_tidy_df = tidy_df.query(\n",
    "            f\"tower == '{t}'\"\n",
    "        ).query(\n",
    "            f\"height == {h}\"\n",
    "        )\n",
    "    specific_humidity_values = this_tower_height_tidy_df.query(\n",
    "            \"measurement == 'specific humidity'\"\n",
    "        ).set_index('time')[['value']].rename(columns={'value': 'specific humidity'})\n",
    "    air_density_values = this_tower_height_tidy_df.query(\n",
    "            \"measurement == 'air density'\"\n",
    "        ).set_index('time')[['value']].rename(columns={'value': 'air density'})\n",
    "    combined_df = specific_humidity_values.join(air_density_values)\n",
    "\n",
    "    abs_humidity_values = (\n",
    "        combined_df['specific humidity'].values * units('g/g')\n",
    "    ).to('g/kg') * (\n",
    "        combined_df['air density'].values * units('kg/m^3')\n",
    "    ).m\n",
    "\n",
    "    tidy_df = tidy.tidy_df_add_variable(\n",
    "        tidy_df,\n",
    "        abs_humidity_values,\n",
    "        f\"absolutehumidity_{int(h)}m_{t}\",\n",
    "        'absolute humidity',\n",
    "        int(h),\n",
    "        t\n",
    "    )"
   ]
  },
  {
   "cell_type": "markdown",
   "metadata": {},
   "source": [
    "## Calibrate gas analyzer measurements\n",
    "\n",
    "We calibrate by assuming that all gas analyzers have the same seasonal mean as the corresponding hygrometer measurement on the central tower (at a given height)"
   ]
  },
  {
   "cell_type": "markdown",
   "metadata": {},
   "source": [
    "### With seasonal mean"
   ]
  },
  {
   "cell_type": "code",
   "execution_count": 5,
   "metadata": {},
   "outputs": [],
   "source": [
    "hygrometer_absolute_humidity_mean = (\n",
    "    1000 * tidy_df[tidy_df.measurement=='specific humidity'].groupby(['tower', 'height'])[['value']].mean() *\\\n",
    "    tidy_df[tidy_df.measurement=='air density'].groupby(['tower', 'height'])[['value']].mean()\n",
    ").reset_index().query(\"tower == 'c'\")"
   ]
  },
  {
   "cell_type": "code",
   "execution_count": 6,
   "metadata": {},
   "outputs": [],
   "source": [
    "ec_absolute_humidity_mean = tidy_df[tidy_df.measurement=='Water vapor density'].groupby(['variable', 'tower', 'height'])[['value']].mean().reset_index()"
   ]
  },
  {
   "cell_type": "code",
   "execution_count": 7,
   "metadata": {},
   "outputs": [
    {
     "data": {
      "text/html": [
       "<div>\n",
       "<style scoped>\n",
       "    .dataframe tbody tr th:only-of-type {\n",
       "        vertical-align: middle;\n",
       "    }\n",
       "\n",
       "    .dataframe tbody tr th {\n",
       "        vertical-align: top;\n",
       "    }\n",
       "\n",
       "    .dataframe thead th {\n",
       "        text-align: right;\n",
       "    }\n",
       "</style>\n",
       "<table border=\"1\" class=\"dataframe\">\n",
       "  <thead>\n",
       "    <tr style=\"text-align: right;\">\n",
       "      <th></th>\n",
       "      <th>variable</th>\n",
       "      <th>tower</th>\n",
       "      <th>height</th>\n",
       "      <th>value</th>\n",
       "      <th>truth</th>\n",
       "      <th>offset</th>\n",
       "    </tr>\n",
       "  </thead>\n",
       "  <tbody>\n",
       "    <tr>\n",
       "      <th>0</th>\n",
       "      <td>h2o_10m_c</td>\n",
       "      <td>c</td>\n",
       "      <td>10.0</td>\n",
       "      <td>2.126837</td>\n",
       "      <td>2.077731</td>\n",
       "      <td>0.049106</td>\n",
       "    </tr>\n",
       "    <tr>\n",
       "      <th>1</th>\n",
       "      <td>h2o_10m_d</td>\n",
       "      <td>d</td>\n",
       "      <td>10.0</td>\n",
       "      <td>1.261839</td>\n",
       "      <td>2.077731</td>\n",
       "      <td>-0.815892</td>\n",
       "    </tr>\n",
       "    <tr>\n",
       "      <th>2</th>\n",
       "      <td>h2o_10m_ue</td>\n",
       "      <td>ue</td>\n",
       "      <td>10.0</td>\n",
       "      <td>1.088801</td>\n",
       "      <td>2.077731</td>\n",
       "      <td>-0.988930</td>\n",
       "    </tr>\n",
       "    <tr>\n",
       "      <th>3</th>\n",
       "      <td>h2o_10m_uw</td>\n",
       "      <td>uw</td>\n",
       "      <td>10.0</td>\n",
       "      <td>1.607363</td>\n",
       "      <td>2.077731</td>\n",
       "      <td>-0.470367</td>\n",
       "    </tr>\n",
       "    <tr>\n",
       "      <th>4</th>\n",
       "      <td>h2o_15m_c</td>\n",
       "      <td>c</td>\n",
       "      <td>15.0</td>\n",
       "      <td>1.954261</td>\n",
       "      <td>2.063564</td>\n",
       "      <td>-0.109303</td>\n",
       "    </tr>\n",
       "    <tr>\n",
       "      <th>5</th>\n",
       "      <td>h2o_1m_c</td>\n",
       "      <td>c</td>\n",
       "      <td>1.0</td>\n",
       "      <td>2.257756</td>\n",
       "      <td>2.108068</td>\n",
       "      <td>0.149688</td>\n",
       "    </tr>\n",
       "    <tr>\n",
       "      <th>6</th>\n",
       "      <td>h2o_1m_d</td>\n",
       "      <td>d</td>\n",
       "      <td>1.0</td>\n",
       "      <td>1.700445</td>\n",
       "      <td>2.108068</td>\n",
       "      <td>-0.407623</td>\n",
       "    </tr>\n",
       "    <tr>\n",
       "      <th>7</th>\n",
       "      <td>h2o_1m_ue</td>\n",
       "      <td>ue</td>\n",
       "      <td>1.0</td>\n",
       "      <td>1.310203</td>\n",
       "      <td>2.108068</td>\n",
       "      <td>-0.797865</td>\n",
       "    </tr>\n",
       "    <tr>\n",
       "      <th>8</th>\n",
       "      <td>h2o_1m_uw</td>\n",
       "      <td>uw</td>\n",
       "      <td>1.0</td>\n",
       "      <td>1.502313</td>\n",
       "      <td>2.108068</td>\n",
       "      <td>-0.605755</td>\n",
       "    </tr>\n",
       "    <tr>\n",
       "      <th>9</th>\n",
       "      <td>h2o_20m_c</td>\n",
       "      <td>c</td>\n",
       "      <td>20.0</td>\n",
       "      <td>0.934561</td>\n",
       "      <td>2.054133</td>\n",
       "      <td>-1.119572</td>\n",
       "    </tr>\n",
       "    <tr>\n",
       "      <th>10</th>\n",
       "      <td>h2o_2m_c</td>\n",
       "      <td>c</td>\n",
       "      <td>2.0</td>\n",
       "      <td>1.972555</td>\n",
       "      <td>2.112779</td>\n",
       "      <td>-0.140224</td>\n",
       "    </tr>\n",
       "    <tr>\n",
       "      <th>11</th>\n",
       "      <td>h2o_3m_c</td>\n",
       "      <td>c</td>\n",
       "      <td>3.0</td>\n",
       "      <td>1.827839</td>\n",
       "      <td>2.115377</td>\n",
       "      <td>-0.287538</td>\n",
       "    </tr>\n",
       "    <tr>\n",
       "      <th>12</th>\n",
       "      <td>h2o_3m_d</td>\n",
       "      <td>d</td>\n",
       "      <td>3.0</td>\n",
       "      <td>1.731458</td>\n",
       "      <td>2.115377</td>\n",
       "      <td>-0.383919</td>\n",
       "    </tr>\n",
       "    <tr>\n",
       "      <th>13</th>\n",
       "      <td>h2o_3m_ue</td>\n",
       "      <td>ue</td>\n",
       "      <td>3.0</td>\n",
       "      <td>1.889768</td>\n",
       "      <td>2.115377</td>\n",
       "      <td>-0.225609</td>\n",
       "    </tr>\n",
       "    <tr>\n",
       "      <th>14</th>\n",
       "      <td>h2o_3m_uw</td>\n",
       "      <td>uw</td>\n",
       "      <td>3.0</td>\n",
       "      <td>1.968198</td>\n",
       "      <td>2.115377</td>\n",
       "      <td>-0.147178</td>\n",
       "    </tr>\n",
       "    <tr>\n",
       "      <th>15</th>\n",
       "      <td>h2o_5m_c</td>\n",
       "      <td>c</td>\n",
       "      <td>5.0</td>\n",
       "      <td>1.950209</td>\n",
       "      <td>2.088826</td>\n",
       "      <td>-0.138617</td>\n",
       "    </tr>\n",
       "  </tbody>\n",
       "</table>\n",
       "</div>"
      ],
      "text/plain": [
       "      variable tower  height     value     truth    offset\n",
       "0    h2o_10m_c     c    10.0  2.126837  2.077731  0.049106\n",
       "1    h2o_10m_d     d    10.0  1.261839  2.077731 -0.815892\n",
       "2   h2o_10m_ue    ue    10.0  1.088801  2.077731 -0.988930\n",
       "3   h2o_10m_uw    uw    10.0  1.607363  2.077731 -0.470367\n",
       "4    h2o_15m_c     c    15.0  1.954261  2.063564 -0.109303\n",
       "5     h2o_1m_c     c     1.0  2.257756  2.108068  0.149688\n",
       "6     h2o_1m_d     d     1.0  1.700445  2.108068 -0.407623\n",
       "7    h2o_1m_ue    ue     1.0  1.310203  2.108068 -0.797865\n",
       "8    h2o_1m_uw    uw     1.0  1.502313  2.108068 -0.605755\n",
       "9    h2o_20m_c     c    20.0  0.934561  2.054133 -1.119572\n",
       "10    h2o_2m_c     c     2.0  1.972555  2.112779 -0.140224\n",
       "11    h2o_3m_c     c     3.0  1.827839  2.115377 -0.287538\n",
       "12    h2o_3m_d     d     3.0  1.731458  2.115377 -0.383919\n",
       "13   h2o_3m_ue    ue     3.0  1.889768  2.115377 -0.225609\n",
       "14   h2o_3m_uw    uw     3.0  1.968198  2.115377 -0.147178\n",
       "15    h2o_5m_c     c     5.0  1.950209  2.088826 -0.138617"
      ]
     },
     "execution_count": 7,
     "metadata": {},
     "output_type": "execute_result"
    }
   ],
   "source": [
    "corrections_df = ec_absolute_humidity_mean.merge(\n",
    "    hygrometer_absolute_humidity_mean[['height', 'value']].rename(columns={'value': 'truth'}),\n",
    "    on='height'\n",
    ")\n",
    "corrections_df['offset'] = corrections_df['value'] - corrections_df['truth']\n",
    "corrections_df"
   ]
  },
  {
   "cell_type": "markdown",
   "metadata": {},
   "source": [
    "Update dataset with corrections"
   ]
  },
  {
   "cell_type": "code",
   "execution_count": 8,
   "metadata": {},
   "outputs": [
    {
     "data": {
      "text/html": [
       "<div>\n",
       "<style scoped>\n",
       "    .dataframe tbody tr th:only-of-type {\n",
       "        vertical-align: middle;\n",
       "    }\n",
       "\n",
       "    .dataframe tbody tr th {\n",
       "        vertical-align: top;\n",
       "    }\n",
       "\n",
       "    .dataframe thead th {\n",
       "        text-align: right;\n",
       "    }\n",
       "</style>\n",
       "<table border=\"1\" class=\"dataframe\">\n",
       "  <thead>\n",
       "    <tr style=\"text-align: right;\">\n",
       "      <th></th>\n",
       "      <th>time</th>\n",
       "      <th>variable</th>\n",
       "      <th>value</th>\n",
       "      <th>height</th>\n",
       "      <th>tower</th>\n",
       "      <th>measurement</th>\n",
       "    </tr>\n",
       "  </thead>\n",
       "  <tbody>\n",
       "    <tr>\n",
       "      <th>94</th>\n",
       "      <td>2022-11-30 00:00:00</td>\n",
       "      <td>h2o_3m_uw</td>\n",
       "      <td>0.724031</td>\n",
       "      <td>3.0</td>\n",
       "      <td>uw</td>\n",
       "      <td>Water vapor density</td>\n",
       "    </tr>\n",
       "    <tr>\n",
       "      <th>189</th>\n",
       "      <td>2022-11-30 00:00:00</td>\n",
       "      <td>h2o_3m_c</td>\n",
       "      <td>0.913812</td>\n",
       "      <td>3.0</td>\n",
       "      <td>c</td>\n",
       "      <td>Water vapor density</td>\n",
       "    </tr>\n",
       "    <tr>\n",
       "      <th>219</th>\n",
       "      <td>2022-11-30 00:00:00</td>\n",
       "      <td>h2o_3m_ue</td>\n",
       "      <td>0.565408</td>\n",
       "      <td>3.0</td>\n",
       "      <td>ue</td>\n",
       "      <td>Water vapor density</td>\n",
       "    </tr>\n",
       "    <tr>\n",
       "      <th>221</th>\n",
       "      <td>2022-11-30 00:00:00</td>\n",
       "      <td>h2o_10m_ue</td>\n",
       "      <td>0.015322</td>\n",
       "      <td>10.0</td>\n",
       "      <td>ue</td>\n",
       "      <td>Water vapor density</td>\n",
       "    </tr>\n",
       "    <tr>\n",
       "      <th>337</th>\n",
       "      <td>2022-11-30 00:00:00</td>\n",
       "      <td>h2o_1m_uw</td>\n",
       "      <td>0.054356</td>\n",
       "      <td>1.0</td>\n",
       "      <td>uw</td>\n",
       "      <td>Water vapor density</td>\n",
       "    </tr>\n",
       "    <tr>\n",
       "      <th>...</th>\n",
       "      <td>...</td>\n",
       "      <td>...</td>\n",
       "      <td>...</td>\n",
       "      <td>...</td>\n",
       "      <td>...</td>\n",
       "      <td>...</td>\n",
       "    </tr>\n",
       "    <tr>\n",
       "      <th>6625843</th>\n",
       "      <td>2023-05-08 23:30:00</td>\n",
       "      <td>h2o_1m_ue</td>\n",
       "      <td>NaN</td>\n",
       "      <td>1.0</td>\n",
       "      <td>ue</td>\n",
       "      <td>Water vapor density</td>\n",
       "    </tr>\n",
       "    <tr>\n",
       "      <th>6625867</th>\n",
       "      <td>2023-05-08 23:30:00</td>\n",
       "      <td>h2o_3m_d</td>\n",
       "      <td>2.763570</td>\n",
       "      <td>3.0</td>\n",
       "      <td>d</td>\n",
       "      <td>Water vapor density</td>\n",
       "    </tr>\n",
       "    <tr>\n",
       "      <th>6625874</th>\n",
       "      <td>2023-05-08 23:30:00</td>\n",
       "      <td>h2o_1m_d</td>\n",
       "      <td>NaN</td>\n",
       "      <td>1.0</td>\n",
       "      <td>d</td>\n",
       "      <td>Water vapor density</td>\n",
       "    </tr>\n",
       "    <tr>\n",
       "      <th>6625880</th>\n",
       "      <td>2023-05-08 23:30:00</td>\n",
       "      <td>h2o_3m_ue</td>\n",
       "      <td>2.909646</td>\n",
       "      <td>3.0</td>\n",
       "      <td>ue</td>\n",
       "      <td>Water vapor density</td>\n",
       "    </tr>\n",
       "    <tr>\n",
       "      <th>6626113</th>\n",
       "      <td>2023-05-08 23:30:00</td>\n",
       "      <td>h2o_1m_uw</td>\n",
       "      <td>NaN</td>\n",
       "      <td>1.0</td>\n",
       "      <td>uw</td>\n",
       "      <td>Water vapor density</td>\n",
       "    </tr>\n",
       "  </tbody>\n",
       "</table>\n",
       "<p>92136 rows × 6 columns</p>\n",
       "</div>"
      ],
      "text/plain": [
       "                       time    variable     value  height tower  \\\n",
       "94      2022-11-30 00:00:00   h2o_3m_uw  0.724031     3.0    uw   \n",
       "189     2022-11-30 00:00:00    h2o_3m_c  0.913812     3.0     c   \n",
       "219     2022-11-30 00:00:00   h2o_3m_ue  0.565408     3.0    ue   \n",
       "221     2022-11-30 00:00:00  h2o_10m_ue  0.015322    10.0    ue   \n",
       "337     2022-11-30 00:00:00   h2o_1m_uw  0.054356     1.0    uw   \n",
       "...                     ...         ...       ...     ...   ...   \n",
       "6625843 2023-05-08 23:30:00   h2o_1m_ue       NaN     1.0    ue   \n",
       "6625867 2023-05-08 23:30:00    h2o_3m_d  2.763570     3.0     d   \n",
       "6625874 2023-05-08 23:30:00    h2o_1m_d       NaN     1.0     d   \n",
       "6625880 2023-05-08 23:30:00   h2o_3m_ue  2.909646     3.0    ue   \n",
       "6626113 2023-05-08 23:30:00   h2o_1m_uw       NaN     1.0    uw   \n",
       "\n",
       "                 measurement  \n",
       "94       Water vapor density  \n",
       "189      Water vapor density  \n",
       "219      Water vapor density  \n",
       "221      Water vapor density  \n",
       "337      Water vapor density  \n",
       "...                      ...  \n",
       "6625843  Water vapor density  \n",
       "6625867  Water vapor density  \n",
       "6625874  Water vapor density  \n",
       "6625880  Water vapor density  \n",
       "6626113  Water vapor density  \n",
       "\n",
       "[92136 rows x 6 columns]"
      ]
     },
     "execution_count": 8,
     "metadata": {},
     "output_type": "execute_result"
    }
   ],
   "source": [
    "src = tidy_df[tidy_df.measurement=='Water vapor density']\n",
    "src = src[src.height.isin([1,3,10])]\n",
    "src"
   ]
  },
  {
   "cell_type": "code",
   "execution_count": 9,
   "metadata": {},
   "outputs": [
    {
     "data": {
      "application/vnd.vegalite.v5+json": {
       "$schema": "https://vega.github.io/schema/vega-lite/v5.17.0.json",
       "config": {
        "view": {
         "continuousHeight": 300,
         "continuousWidth": 300
        }
       },
       "height": 150,
       "layer": [
        {
         "data": {
          "format": {
           "type": "json"
          },
          "url": "altair-data-318077fc8f280dd0e7c83a058ff451b8.json"
         },
         "encoding": {
          "x": {
           "field": "value",
           "type": "quantitative"
          },
          "y": {
           "field": "height",
           "type": "quantitative"
          }
         },
         "mark": {
          "color": "black",
          "filled": true,
          "shape": "square",
          "size": 20,
          "type": "point"
         }
        },
        {
         "data": {
          "format": {
           "type": "json"
          },
          "url": "altair-data-1c89b8113b79b7ccb9cdd484c726a0b0.json"
         },
         "encoding": {
          "color": {
           "field": "tower",
           "type": "nominal"
          },
          "x": {
           "field": "value",
           "type": "quantitative"
          },
          "y": {
           "field": "height",
           "type": "quantitative"
          }
         },
         "mark": {
          "size": 40,
          "type": "circle"
         }
        }
       ],
       "width": 150
      },
      "text/plain": [
       "<VegaLite 5 object>\n",
       "\n",
       "If you see this message, it means the renderer has not been properly enabled\n",
       "for the frontend that you are using. For more information, see\n",
       "https://altair-viz.github.io/user_guide/display_frontends.html#troubleshooting\n"
      ]
     },
     "execution_count": 9,
     "metadata": {},
     "output_type": "execute_result"
    }
   ],
   "source": [
    "alt.Chart(\n",
    "    (\n",
    "    1000 * tidy_df[tidy_df.measurement=='specific humidity'].groupby(['tower', 'height'])[['value']].mean() *\\\n",
    "    tidy_df[tidy_df.measurement=='air density'].groupby(['tower', 'height'])[['value']].mean()\n",
    "    ).reset_index()\n",
    ").mark_point(shape='square', filled=True, color='black', size=20).encode(\n",
    "    alt.X(\"value:Q\"),\n",
    "    alt.Y(\"height:Q\")\n",
    ").properties(width=150, height = 150)\\\n",
    "+ alt.Chart(\n",
    "    tidy_df[tidy_df.measurement=='Water vapor density'].groupby(['variable', 'tower', 'height'])[['value']].mean().reset_index()\n",
    ").mark_circle(size=40).encode(\n",
    "    alt.X(\"value:Q\"),\n",
    "    alt.Y(\"height:Q\"),\n",
    "    alt.Color('tower:N')\n",
    ").properties(width=150, height = 150)"
   ]
  },
  {
   "cell_type": "code",
   "execution_count": 10,
   "metadata": {},
   "outputs": [
    {
     "name": "stderr",
     "output_type": "stream",
     "text": [
      "/var/folders/x_/2h52bcjx2px15bhmdpdd748h0000gn/T/ipykernel_17809/1085128452.py:2: UserWarning: Boolean Series key will be reindexed to match DataFrame index.\n",
      "  src[ src.time > '20221212' ][ src.time < '20221214' ]\n"
     ]
    },
    {
     "data": {
      "application/vnd.vegalite.v5+json": {
       "$schema": "https://vega.github.io/schema/vega-lite/v5.17.0.json",
       "config": {
        "view": {
         "continuousHeight": 300,
         "continuousWidth": 300
        }
       },
       "data": {
        "format": {
         "type": "json"
        },
        "url": "altair-data-5f2fcf2b23f715f2bef7ad03072077e9.json"
       },
       "encoding": {
        "color": {
         "field": "height",
         "type": "nominal"
        },
        "detail": {
         "field": "variable",
         "type": "nominal"
        },
        "x": {
         "field": "time",
         "type": "temporal"
        },
        "y": {
         "field": "value",
         "type": "quantitative"
        }
       },
       "mark": {
        "type": "line"
       }
      },
      "text/plain": [
       "<VegaLite 5 object>\n",
       "\n",
       "If you see this message, it means the renderer has not been properly enabled\n",
       "for the frontend that you are using. For more information, see\n",
       "https://altair-viz.github.io/user_guide/display_frontends.html#troubleshooting\n"
      ]
     },
     "execution_count": 10,
     "metadata": {},
     "output_type": "execute_result"
    }
   ],
   "source": [
    "\n",
    "\n",
    "alt.Chart(\n",
    "    src[ src.time > '20221212' ][ src.time < '20221214' ]\n",
    ").mark_line().encode(\n",
    "    alt.X(\"time:T\"),\n",
    "    alt.Y(\"value:Q\"),\n",
    "    alt.Color(\"height:N\"),\n",
    "    detail='variable'\n",
    ")"
   ]
  },
  {
   "cell_type": "code",
   "execution_count": 11,
   "metadata": {},
   "outputs": [],
   "source": [
    "for idx, row in corrections_df.iterrows():\n",
    "    src = tidy_df.query(f\"variable == '{row['variable']}'\")\n",
    "    src = src.assign(value = src.value - row['offset'])\n",
    "    tidy_df = tidy_df[tidy_df.variable != row['variable']]\n",
    "    tidy_df = pd.concat([tidy_df, src])"
   ]
  },
  {
   "cell_type": "code",
   "execution_count": 12,
   "metadata": {},
   "outputs": [
    {
     "data": {
      "application/vnd.vegalite.v5+json": {
       "$schema": "https://vega.github.io/schema/vega-lite/v5.17.0.json",
       "config": {
        "view": {
         "continuousHeight": 300,
         "continuousWidth": 300
        }
       },
       "height": 150,
       "layer": [
        {
         "data": {
          "format": {
           "type": "json"
          },
          "url": "altair-data-318077fc8f280dd0e7c83a058ff451b8.json"
         },
         "encoding": {
          "x": {
           "field": "value",
           "type": "quantitative"
          },
          "y": {
           "field": "height",
           "type": "quantitative"
          }
         },
         "mark": {
          "color": "black",
          "filled": true,
          "shape": "square",
          "size": 20,
          "type": "point"
         }
        },
        {
         "data": {
          "format": {
           "type": "json"
          },
          "url": "altair-data-307677176e6744b47e15aef4ce57775c.json"
         },
         "encoding": {
          "color": {
           "field": "tower",
           "type": "nominal"
          },
          "x": {
           "field": "value",
           "type": "quantitative"
          },
          "y": {
           "field": "height",
           "type": "quantitative"
          }
         },
         "mark": {
          "size": 40,
          "type": "circle"
         }
        }
       ],
       "width": 150
      },
      "text/plain": [
       "<VegaLite 5 object>\n",
       "\n",
       "If you see this message, it means the renderer has not been properly enabled\n",
       "for the frontend that you are using. For more information, see\n",
       "https://altair-viz.github.io/user_guide/display_frontends.html#troubleshooting\n"
      ]
     },
     "execution_count": 12,
     "metadata": {},
     "output_type": "execute_result"
    }
   ],
   "source": [
    "alt.Chart(\n",
    "    (\n",
    "    1000 * tidy_df[tidy_df.measurement=='specific humidity'].groupby(['tower', 'height'])[['value']].mean() *\\\n",
    "    tidy_df[tidy_df.measurement=='air density'].groupby(['tower', 'height'])[['value']].mean()\n",
    "    ).reset_index()\n",
    ").mark_point(shape='square', filled=True, color='black', size=20).encode(\n",
    "    alt.X(\"value:Q\"),\n",
    "    alt.Y(\"height:Q\")\n",
    ").properties(width=150, height = 150)\\\n",
    "+ alt.Chart(\n",
    "    tidy_df[tidy_df.measurement=='Water vapor density'].groupby(['variable', 'tower', 'height'])[['value']].mean().reset_index()\n",
    ").mark_circle(size=40).encode(\n",
    "    alt.X(\"value:Q\"),\n",
    "    alt.Y(\"height:Q\"),\n",
    "    alt.Color('tower:N')\n",
    ").properties(width=150, height = 150)"
   ]
  },
  {
   "cell_type": "code",
   "execution_count": 13,
   "metadata": {},
   "outputs": [
    {
     "name": "stderr",
     "output_type": "stream",
     "text": [
      "/var/folders/x_/2h52bcjx2px15bhmdpdd748h0000gn/T/ipykernel_17809/427924892.py:4: UserWarning: Boolean Series key will be reindexed to match DataFrame index.\n",
      "  src[ src.time > '20221212' ][ src.time < '20221214' ]\n",
      "/var/folders/x_/2h52bcjx2px15bhmdpdd748h0000gn/T/ipykernel_17809/427924892.py:15: UserWarning: Boolean Series key will be reindexed to match DataFrame index.\n",
      "  src[ src.time > '20221212' ][ src.time < '20221214' ]\n"
     ]
    },
    {
     "data": {
      "application/vnd.vegalite.v5+json": {
       "$schema": "https://vega.github.io/schema/vega-lite/v5.17.0.json",
       "config": {
        "view": {
         "continuousHeight": 300,
         "continuousWidth": 300
        }
       },
       "resolve": {
        "scale": {
         "color": "independent",
         "shape": "independent"
        }
       },
       "vconcat": [
        {
         "data": {
          "format": {
           "type": "json"
          },
          "url": "altair-data-68df0842625ec438aee7e6171aedec6a.json"
         },
         "encoding": {
          "detail": {
           "field": "variable",
           "type": "nominal"
          },
          "shape": {
           "field": "tower",
           "type": "nominal"
          },
          "x": {
           "field": "time",
           "type": "temporal"
          },
          "y": {
           "field": "value",
           "title": "Snow depth (m)",
           "type": "quantitative"
          }
         },
         "height": 150,
         "mark": {
          "strokeWidth": 0.5,
          "type": "line"
         },
         "width": 600
        },
        {
         "data": {
          "format": {
           "type": "json"
          },
          "url": "altair-data-e54c7176aacf07e51b54711ab4029103.json"
         },
         "encoding": {
          "color": {
           "field": "height",
           "type": "nominal"
          },
          "detail": {
           "field": "variable",
           "type": "nominal"
          },
          "shape": {
           "field": "tower",
           "type": "nominal"
          },
          "x": {
           "field": "time",
           "type": "temporal"
          },
          "y": {
           "field": "value",
           "scale": {
            "zero": false
           },
           "title": "Absolute humidity (g/m^3)",
           "type": "quantitative"
          }
         },
         "mark": {
          "strokeWidth": 0.5,
          "type": "line"
         },
         "width": 600
        }
       ]
      },
      "text/plain": [
       "<VegaLite 5 object>\n",
       "\n",
       "If you see this message, it means the renderer has not been properly enabled\n",
       "for the frontend that you are using. For more information, see\n",
       "https://altair-viz.github.io/user_guide/display_frontends.html#troubleshooting\n"
      ]
     },
     "execution_count": 13,
     "metadata": {},
     "output_type": "execute_result"
    }
   ],
   "source": [
    "src = tidy_df[tidy_df.measurement=='Water vapor density']\n",
    "src = src[src.height.isin([1,3,10])]\n",
    "abs_hum = alt.Chart(\n",
    "    src[ src.time > '20221212' ][ src.time < '20221214' ]\n",
    ").mark_line(strokeWidth=0.5).encode(\n",
    "    alt.X(\"time:T\"),\n",
    "    alt.Y(\"value:Q\").title(\"Absolute humidity (g/m^3)\").scale(zero=False),\n",
    "    alt.Color(\"height:N\"),\n",
    "    alt.Shape('tower:N'),\n",
    "    detail='variable'\n",
    ").properties(width=600)\n",
    "\n",
    "src = tidy_df[tidy_df.measurement=='snow depth']\n",
    "snowdepth = alt.Chart(\n",
    "    src[ src.time > '20221212' ][ src.time < '20221214' ]\n",
    ").mark_line(strokeWidth=0.5).encode(\n",
    "    alt.X(\"time:T\"),\n",
    "    alt.Y(\"value:Q\").title(\"Snow depth (m)\"),\n",
    "    alt.Shape('tower:N'),\n",
    "    detail='variable'\n",
    ").properties(width=600, height=150)\n",
    "\n",
    "(snowdepth & abs_hum).resolve_scale(color='independent', shape='independent')"
   ]
  },
  {
   "cell_type": "markdown",
   "metadata": {},
   "source": [
    "### With monthly means"
   ]
  },
  {
   "cell_type": "code",
   "execution_count": null,
   "metadata": {},
   "outputs": [],
   "source": [
    "filtered_spechumidity = tidy_df[tidy_df.measurement=='specific humidity']\n",
    "hygrometer_absolute_humidity_mean = (\n",
    "    1000 * filtered_spechumidity.groupby(['tower', 'height', filtered_spechumidity.time.dt.month])[['value']].mean() *\\\n",
    "    tidy_df[tidy_df.measurement=='air density'].groupby(['tower', 'height'])[['value']].mean()\n",
    ").reset_index().query(\"tower == 'c'\")"
   ]
  },
  {
   "cell_type": "code",
   "execution_count": null,
   "metadata": {},
   "outputs": [],
   "source": [
    "filtered_abshumidity = tidy_df[tidy_df.measurement=='Water vapor density']\n",
    "ec_absolute_humidity_mean = filtered_abshumidity.groupby([\n",
    "    'variable', 'tower', 'height', filtered_abshumidity.time.dt.month\n",
    "])[['value']].mean().reset_index()\n",
    "ec_absolute_humidity_mean"
   ]
  },
  {
   "cell_type": "code",
   "execution_count": null,
   "metadata": {},
   "outputs": [],
   "source": [
    "corrections_df = ec_absolute_humidity_mean.merge(\n",
    "    hygrometer_absolute_humidity_mean[['height', 'value', 'time', 'tower']].rename(columns={'value': 'truth'}),\n",
    "    on=['height', 'tower', 'time']\n",
    ")\n",
    "corrections_df['offset'] = corrections_df['value'] - corrections_df['truth']\n"
   ]
  },
  {
   "cell_type": "markdown",
   "metadata": {},
   "source": [
    "Update dataset with corrections"
   ]
  },
  {
   "cell_type": "code",
   "execution_count": null,
   "metadata": {},
   "outputs": [],
   "source": [
    "corrected_measurements = []\n",
    "for variable in corrections_df.variable.unique():\n",
    "    for month in corrections_df[corrections_df.variable == variable].time.unique():\n",
    "        src = tidy_df.query(f\"variable == '{variable}'\")\n",
    "        src = src[src.time.dt.month == month]\n",
    "        row = corrections_df.set_index(['variable', 'time']).loc[variable, month]\n",
    "        src = src.assign(value = src.value - row['offset'])\n",
    "        corrected_measurements.append(src)"
   ]
  },
  {
   "cell_type": "code",
   "execution_count": null,
   "metadata": {},
   "outputs": [],
   "source": [
    "corrected_measurements[0]"
   ]
  },
  {
   "cell_type": "code",
   "execution_count": null,
   "metadata": {},
   "outputs": [],
   "source": [
    "for variable in corrections_df.variable.unique():\n",
    "    tidy_df = tidy_df[tidy_df.variable != variable]\n",
    "tidy_df = pd.concat([tidy_df] + corrected_measurements)"
   ]
  },
  {
   "cell_type": "code",
   "execution_count": null,
   "metadata": {},
   "outputs": [],
   "source": [
    "hygr_vals = (\n",
    "    1000 * tidy_df[tidy_df.measurement=='specific humidity'].groupby(['tower', 'height'])[['value']].mean() *\\\n",
    "    tidy_df[tidy_df.measurement=='air density'].groupby(['tower', 'height'])[['value']].mean()\n",
    "    ).reset_index()\n",
    "irga_vals = tidy_df[tidy_df.measurement=='Water vapor density'].groupby(['variable', 'tower', 'height'])[['value']].mean().reset_index()\n",
    "hygr_vals = hygr_vals[hygr_vals.time.dt.month==12]\n",
    "irga_vals = irga_vals[irga_vals.time.dt.month==12]\n",
    "alt.Chart(hygr_vals).mark_point(shape='square', filled=True, color='black', size=20).encode(\n",
    "    alt.X(\"value:Q\"),\n",
    "    alt.Y(\"height:Q\")\n",
    ").properties(width=150, height = 150)\\\n",
    "+ alt.Chart(irga_vals).mark_circle(size=40).encode(\n",
    "    alt.X(\"value:Q\"),\n",
    "    alt.Y(\"height:Q\"),\n",
    "    alt.Color('tower:N')\n",
    ").properties(width=150, height = 150)"
   ]
  },
  {
   "cell_type": "markdown",
   "metadata": {},
   "source": [
    "# Identify categories for timestamps"
   ]
  },
  {
   "cell_type": "code",
   "execution_count": 14,
   "metadata": {},
   "outputs": [],
   "source": [
    "# Identify lists of timestamps for different categories\n",
    "bs_times = tidy_df.query(\"variable == 'SF_avg_ue'\").query(\"value > 0\").time\n",
    "nobs_times = tidy_df.query(\"variable == 'SF_avg_ue'\").query(\"value == 0\").time\n",
    "\n",
    "decoupled_times = tidy_df.query(\"variable == 'omega_3m_c'\").query(\"value < 0.43\").time\n",
    "weaklycoupled_times = tidy_df.query(\"variable == 'omega_3m_c'\").query(\"value >= 0.43\").query(\"value <= 0.61\").time\n",
    "coupled_times = tidy_df.query(\"variable == 'omega_3m_c'\").query(\"value > 0.61\").time\n",
    "\n",
    "ri_stable_times = tidy_df.query(\"variable == 'Ri_3m_c'\").query(\"value > 0.25\").time\n",
    "ri_unstable_times = tidy_df.query(\"variable == 'Ri_3m_c'\").query(\"value < -0.01\").time\n",
    "ri_neutral_times = tidy_df.query(\"variable == 'Ri_3m_c'\").query(\"value >= -0.01\").query(\"value <= 0.25\").time\n",
    "\n",
    "tgrad_stable_times = tidy_df.query(\"variable == 'temp_gradient_3m_c'\").query(\"value > 0.01\").time\n",
    "tgrad_unstable_times = tidy_df.query(\"variable == 'temp_gradient_3m_c'\").query(\"value < -0.01\").time\n",
    "tgrad_neutral_times = tidy_df.query(\"variable == 'temp_gradient_3m_c'\").query(\"value >= -0.01\").query(\"value <= 0.01\").time\n",
    "\n",
    "december_times = tidy_df[tidy_df.time.dt.month == 12].time\n",
    "january_times = tidy_df[tidy_df.time.dt.month == 1].time\n",
    "february_times = tidy_df[tidy_df.time.dt.month == 2].time\n",
    "march_times = tidy_df[tidy_df.time.dt.month == 3].time\n",
    "april_times = tidy_df[tidy_df.time.dt.month == 4].time\n",
    "\n",
    "midwinter_times = tidy_df[tidy_df.time < '20230320'].time\n",
    "spring_times = tidy_df[tidy_df.time > '20230320'].time"
   ]
  },
  {
   "cell_type": "code",
   "execution_count": 15,
   "metadata": {},
   "outputs": [],
   "source": [
    "precip_df = xr.open_dataset(\"/Users/elischwat/Development/data/sublimationofsnow/precip_danny/precipitation_rate_gts_w23.nc\")['corrected_prcp_rate_m2'].to_dataframe()\n",
    "\n",
    "is_snowing_dates = pd.concat([\n",
    "    precip_df.query(\"corrected_prcp_rate_m2 > 0\").index.to_series(),\n",
    "    precip_df.query(\"corrected_prcp_rate_m2 > 0\").index.to_series() + dt.timedelta(minutes=30)\n",
    "])\n",
    "    \n",
    "is_not_snowing_dates = pd.concat([\n",
    "    precip_df.query(\"corrected_prcp_rate_m2 <= 0\").index.to_series(),\n",
    "    precip_df.query(\"corrected_prcp_rate_m2 <= 0\").index.to_series() + dt.timedelta(minutes=30)\n",
    "])"
   ]
  },
  {
   "cell_type": "markdown",
   "metadata": {},
   "source": [
    "# Create tables"
   ]
  },
  {
   "cell_type": "markdown",
   "metadata": {},
   "source": [
    "## Instrument location info (georeferenced)\n",
    "We use a file with theodolite/GPS readings provided by NCAR. "
   ]
  },
  {
   "cell_type": "code",
   "execution_count": 16,
   "metadata": {},
   "outputs": [
    {
     "name": "stderr",
     "output_type": "stream",
     "text": [
      "/var/folders/x_/2h52bcjx2px15bhmdpdd748h0000gn/T/ipykernel_17809/3668931392.py:21: FutureWarning: DataFrame.groupby with axis=1 is deprecated. Do `frame.T.groupby(...)` without axis instead.\n",
      "  instrument_loc_df = instrument_loc_df.set_index(['height', 'tower']).groupby(level=0, axis=1).mean()\n"
     ]
    },
    {
     "data": {
      "text/html": [
       "<div>\n",
       "<style scoped>\n",
       "    .dataframe tbody tr th:only-of-type {\n",
       "        vertical-align: middle;\n",
       "    }\n",
       "\n",
       "    .dataframe tbody tr th {\n",
       "        vertical-align: top;\n",
       "    }\n",
       "\n",
       "    .dataframe thead th {\n",
       "        text-align: right;\n",
       "    }\n",
       "</style>\n",
       "<table border=\"1\" class=\"dataframe\">\n",
       "  <thead>\n",
       "    <tr style=\"text-align: right;\">\n",
       "      <th></th>\n",
       "      <th></th>\n",
       "      <th>x</th>\n",
       "      <th>y</th>\n",
       "      <th>z</th>\n",
       "    </tr>\n",
       "    <tr>\n",
       "      <th>height</th>\n",
       "      <th>tower</th>\n",
       "      <th></th>\n",
       "      <th></th>\n",
       "      <th></th>\n",
       "    </tr>\n",
       "  </thead>\n",
       "  <tbody>\n",
       "    <tr>\n",
       "      <th rowspan=\"4\" valign=\"top\">1</th>\n",
       "      <th>c</th>\n",
       "      <td>329002.47110</td>\n",
       "      <td>4.312171e+06</td>\n",
       "      <td>2861.36010</td>\n",
       "    </tr>\n",
       "    <tr>\n",
       "      <th>d</th>\n",
       "      <td>329016.77615</td>\n",
       "      <td>4.312158e+06</td>\n",
       "      <td>2860.09135</td>\n",
       "    </tr>\n",
       "    <tr>\n",
       "      <th>ue</th>\n",
       "      <td>329005.76010</td>\n",
       "      <td>4.312190e+06</td>\n",
       "      <td>2862.19275</td>\n",
       "    </tr>\n",
       "    <tr>\n",
       "      <th>uw</th>\n",
       "      <td>328983.46715</td>\n",
       "      <td>4.312165e+06</td>\n",
       "      <td>2860.54055</td>\n",
       "    </tr>\n",
       "    <tr>\n",
       "      <th>2</th>\n",
       "      <th>c</th>\n",
       "      <td>329002.49025</td>\n",
       "      <td>4.312171e+06</td>\n",
       "      <td>2862.28475</td>\n",
       "    </tr>\n",
       "    <tr>\n",
       "      <th rowspan=\"4\" valign=\"top\">3</th>\n",
       "      <th>c</th>\n",
       "      <td>329002.53920</td>\n",
       "      <td>4.312171e+06</td>\n",
       "      <td>2863.30060</td>\n",
       "    </tr>\n",
       "    <tr>\n",
       "      <th>d</th>\n",
       "      <td>329016.82015</td>\n",
       "      <td>4.312158e+06</td>\n",
       "      <td>2862.02455</td>\n",
       "    </tr>\n",
       "    <tr>\n",
       "      <th>ue</th>\n",
       "      <td>329005.80410</td>\n",
       "      <td>4.312190e+06</td>\n",
       "      <td>2864.12270</td>\n",
       "    </tr>\n",
       "    <tr>\n",
       "      <th>uw</th>\n",
       "      <td>328983.52075</td>\n",
       "      <td>4.312165e+06</td>\n",
       "      <td>2862.50290</td>\n",
       "    </tr>\n",
       "    <tr>\n",
       "      <th>5</th>\n",
       "      <th>c</th>\n",
       "      <td>329002.53790</td>\n",
       "      <td>4.312171e+06</td>\n",
       "      <td>2865.33380</td>\n",
       "    </tr>\n",
       "    <tr>\n",
       "      <th rowspan=\"4\" valign=\"top\">10</th>\n",
       "      <th>c</th>\n",
       "      <td>329002.65185</td>\n",
       "      <td>4.312171e+06</td>\n",
       "      <td>2870.36580</td>\n",
       "    </tr>\n",
       "    <tr>\n",
       "      <th>d</th>\n",
       "      <td>329016.90980</td>\n",
       "      <td>4.312158e+06</td>\n",
       "      <td>2868.59560</td>\n",
       "    </tr>\n",
       "    <tr>\n",
       "      <th>ue</th>\n",
       "      <td>329005.87765</td>\n",
       "      <td>4.312190e+06</td>\n",
       "      <td>2870.70875</td>\n",
       "    </tr>\n",
       "    <tr>\n",
       "      <th>uw</th>\n",
       "      <td>328983.59905</td>\n",
       "      <td>4.312165e+06</td>\n",
       "      <td>2869.09490</td>\n",
       "    </tr>\n",
       "    <tr>\n",
       "      <th>15</th>\n",
       "      <th>c</th>\n",
       "      <td>329002.72120</td>\n",
       "      <td>4.312171e+06</td>\n",
       "      <td>2875.37755</td>\n",
       "    </tr>\n",
       "    <tr>\n",
       "      <th>20</th>\n",
       "      <th>c</th>\n",
       "      <td>329002.80045</td>\n",
       "      <td>4.312171e+06</td>\n",
       "      <td>2880.25445</td>\n",
       "    </tr>\n",
       "  </tbody>\n",
       "</table>\n",
       "</div>"
      ],
      "text/plain": [
       "                         x             y           z\n",
       "height tower                                        \n",
       "1      c      329002.47110  4.312171e+06  2861.36010\n",
       "       d      329016.77615  4.312158e+06  2860.09135\n",
       "       ue     329005.76010  4.312190e+06  2862.19275\n",
       "       uw     328983.46715  4.312165e+06  2860.54055\n",
       "2      c      329002.49025  4.312171e+06  2862.28475\n",
       "3      c      329002.53920  4.312171e+06  2863.30060\n",
       "       d      329016.82015  4.312158e+06  2862.02455\n",
       "       ue     329005.80410  4.312190e+06  2864.12270\n",
       "       uw     328983.52075  4.312165e+06  2862.50290\n",
       "5      c      329002.53790  4.312171e+06  2865.33380\n",
       "10     c      329002.65185  4.312171e+06  2870.36580\n",
       "       d      329016.90980  4.312158e+06  2868.59560\n",
       "       ue     329005.87765  4.312190e+06  2870.70875\n",
       "       uw     328983.59905  4.312165e+06  2869.09490\n",
       "15     c      329002.72120  4.312171e+06  2875.37755\n",
       "20     c      329002.80045  4.312171e+06  2880.25445"
      ]
     },
     "execution_count": 16,
     "metadata": {},
     "output_type": "execute_result"
    }
   ],
   "source": [
    "instrument_loc_df = pd.read_csv(\"~/Development/data/sublimationofsnow/SOSm.txt\", names = ['ec', 'x', 'y', 'z'])\n",
    "instrument_loc_df = instrument_loc_df[ \n",
    "    instrument_loc_df['ec'].str.startswith('CS')\n",
    "    |\n",
    "    instrument_loc_df['ec'].str.startswith('DS') \n",
    "    |\n",
    "    instrument_loc_df['ec'].str.startswith('UWS') \n",
    "    |\n",
    "    instrument_loc_df['ec'].str.startswith('UES') \n",
    "]\n",
    "instrument_loc_df = instrument_loc_df[ \n",
    "    instrument_loc_df['ec'].str.endswith('T') \n",
    "    |\n",
    "    instrument_loc_df['ec'].str.endswith('B') \n",
    "]\n",
    "instrument_loc_df['top or bottom'] = instrument_loc_df['ec'].str[-1]\n",
    "instrument_loc_df['tower'] = instrument_loc_df['ec'].apply(lambda str: str.split('S')[0].lower())\n",
    "instrument_loc_df['height'] = instrument_loc_df['ec'].apply(lambda str: int(str.split('S')[1][:-1]))\n",
    "instrument_loc_df = instrument_loc_df.drop(columns='ec')\n",
    "instrument_loc_df = instrument_loc_df.pivot(index=['height', 'tower'], columns='top or bottom').reset_index()\n",
    "instrument_loc_df = instrument_loc_df.set_index(['height', 'tower']).groupby(level=0, axis=1).mean()\n",
    "instrument_loc_df"
   ]
  },
  {
   "cell_type": "markdown",
   "metadata": {},
   "source": [
    "## Wind field measurements"
   ]
  },
  {
   "cell_type": "code",
   "execution_count": 17,
   "metadata": {},
   "outputs": [
    {
     "data": {
      "text/html": [
       "<div>\n",
       "<style scoped>\n",
       "    .dataframe tbody tr th:only-of-type {\n",
       "        vertical-align: middle;\n",
       "    }\n",
       "\n",
       "    .dataframe tbody tr th {\n",
       "        vertical-align: top;\n",
       "    }\n",
       "\n",
       "    .dataframe thead tr th {\n",
       "        text-align: left;\n",
       "    }\n",
       "\n",
       "    .dataframe thead tr:last-of-type th {\n",
       "        text-align: right;\n",
       "    }\n",
       "</style>\n",
       "<table border=\"1\" class=\"dataframe\">\n",
       "  <thead>\n",
       "    <tr>\n",
       "      <th>height</th>\n",
       "      <th colspan=\"10\" halign=\"left\">1.0</th>\n",
       "      <th>...</th>\n",
       "      <th colspan=\"10\" halign=\"left\">10.0</th>\n",
       "    </tr>\n",
       "    <tr>\n",
       "      <th>tower</th>\n",
       "      <th colspan=\"3\" halign=\"left\">c</th>\n",
       "      <th colspan=\"3\" halign=\"left\">d</th>\n",
       "      <th colspan=\"3\" halign=\"left\">ue</th>\n",
       "      <th>uw</th>\n",
       "      <th>...</th>\n",
       "      <th>c</th>\n",
       "      <th colspan=\"3\" halign=\"left\">d</th>\n",
       "      <th colspan=\"3\" halign=\"left\">ue</th>\n",
       "      <th colspan=\"3\" halign=\"left\">uw</th>\n",
       "    </tr>\n",
       "    <tr>\n",
       "      <th>measurement</th>\n",
       "      <th>u</th>\n",
       "      <th>v</th>\n",
       "      <th>w</th>\n",
       "      <th>u</th>\n",
       "      <th>v</th>\n",
       "      <th>w</th>\n",
       "      <th>u</th>\n",
       "      <th>v</th>\n",
       "      <th>w</th>\n",
       "      <th>u</th>\n",
       "      <th>...</th>\n",
       "      <th>w</th>\n",
       "      <th>u</th>\n",
       "      <th>v</th>\n",
       "      <th>w</th>\n",
       "      <th>u</th>\n",
       "      <th>v</th>\n",
       "      <th>w</th>\n",
       "      <th>u</th>\n",
       "      <th>v</th>\n",
       "      <th>w</th>\n",
       "    </tr>\n",
       "    <tr>\n",
       "      <th>time</th>\n",
       "      <th></th>\n",
       "      <th></th>\n",
       "      <th></th>\n",
       "      <th></th>\n",
       "      <th></th>\n",
       "      <th></th>\n",
       "      <th></th>\n",
       "      <th></th>\n",
       "      <th></th>\n",
       "      <th></th>\n",
       "      <th></th>\n",
       "      <th></th>\n",
       "      <th></th>\n",
       "      <th></th>\n",
       "      <th></th>\n",
       "      <th></th>\n",
       "      <th></th>\n",
       "      <th></th>\n",
       "      <th></th>\n",
       "      <th></th>\n",
       "      <th></th>\n",
       "    </tr>\n",
       "  </thead>\n",
       "  <tbody>\n",
       "    <tr>\n",
       "      <th>2022-11-30 00:00:00</th>\n",
       "      <td>0.8442</td>\n",
       "      <td>-2.0019</td>\n",
       "      <td>-0.0388</td>\n",
       "      <td>0.8241</td>\n",
       "      <td>-1.8621</td>\n",
       "      <td>-0.0258</td>\n",
       "      <td>0.7621</td>\n",
       "      <td>-1.9373</td>\n",
       "      <td>-0.0491</td>\n",
       "      <td>0.3113</td>\n",
       "      <td>...</td>\n",
       "      <td>-0.0823</td>\n",
       "      <td>2.5216</td>\n",
       "      <td>-2.1892</td>\n",
       "      <td>-0.0065</td>\n",
       "      <td>2.2063</td>\n",
       "      <td>-2.3716</td>\n",
       "      <td>0.0385</td>\n",
       "      <td>1.9062</td>\n",
       "      <td>-2.7111</td>\n",
       "      <td>-0.0001</td>\n",
       "    </tr>\n",
       "    <tr>\n",
       "      <th>2022-11-30 00:30:00</th>\n",
       "      <td>-0.2592</td>\n",
       "      <td>-1.0267</td>\n",
       "      <td>-0.0255</td>\n",
       "      <td>-0.1717</td>\n",
       "      <td>-1.0263</td>\n",
       "      <td>-0.0297</td>\n",
       "      <td>-0.3245</td>\n",
       "      <td>-1.0934</td>\n",
       "      <td>-0.0513</td>\n",
       "      <td>-0.2333</td>\n",
       "      <td>...</td>\n",
       "      <td>-0.0342</td>\n",
       "      <td>-0.0728</td>\n",
       "      <td>-0.8173</td>\n",
       "      <td>0.0189</td>\n",
       "      <td>-0.2529</td>\n",
       "      <td>-0.7708</td>\n",
       "      <td>0.0288</td>\n",
       "      <td>-0.2268</td>\n",
       "      <td>-0.7774</td>\n",
       "      <td>-0.0121</td>\n",
       "    </tr>\n",
       "    <tr>\n",
       "      <th>2022-11-30 01:00:00</th>\n",
       "      <td>0.2995</td>\n",
       "      <td>-1.1331</td>\n",
       "      <td>-0.0291</td>\n",
       "      <td>0.3493</td>\n",
       "      <td>-1.0744</td>\n",
       "      <td>-0.0199</td>\n",
       "      <td>0.2869</td>\n",
       "      <td>-1.1269</td>\n",
       "      <td>-0.0483</td>\n",
       "      <td>0.0885</td>\n",
       "      <td>...</td>\n",
       "      <td>-0.0566</td>\n",
       "      <td>0.6077</td>\n",
       "      <td>-0.6620</td>\n",
       "      <td>0.0028</td>\n",
       "      <td>0.4626</td>\n",
       "      <td>-0.7354</td>\n",
       "      <td>0.0229</td>\n",
       "      <td>0.4762</td>\n",
       "      <td>-0.8680</td>\n",
       "      <td>-0.0210</td>\n",
       "    </tr>\n",
       "    <tr>\n",
       "      <th>2022-11-30 01:30:00</th>\n",
       "      <td>0.6549</td>\n",
       "      <td>-1.6004</td>\n",
       "      <td>-0.0338</td>\n",
       "      <td>0.6431</td>\n",
       "      <td>-1.4701</td>\n",
       "      <td>-0.0231</td>\n",
       "      <td>0.6043</td>\n",
       "      <td>-1.5538</td>\n",
       "      <td>-0.0509</td>\n",
       "      <td>0.1304</td>\n",
       "      <td>...</td>\n",
       "      <td>-0.0922</td>\n",
       "      <td>1.8981</td>\n",
       "      <td>-1.5050</td>\n",
       "      <td>-0.0322</td>\n",
       "      <td>1.7291</td>\n",
       "      <td>-1.6854</td>\n",
       "      <td>-0.0059</td>\n",
       "      <td>1.4609</td>\n",
       "      <td>-2.0032</td>\n",
       "      <td>-0.0751</td>\n",
       "    </tr>\n",
       "    <tr>\n",
       "      <th>2022-11-30 02:00:00</th>\n",
       "      <td>-0.2904</td>\n",
       "      <td>-0.8675</td>\n",
       "      <td>-0.0303</td>\n",
       "      <td>-0.2469</td>\n",
       "      <td>-0.8933</td>\n",
       "      <td>-0.0251</td>\n",
       "      <td>-0.3630</td>\n",
       "      <td>-0.9753</td>\n",
       "      <td>-0.0559</td>\n",
       "      <td>-0.2954</td>\n",
       "      <td>...</td>\n",
       "      <td>-0.0281</td>\n",
       "      <td>-0.0230</td>\n",
       "      <td>-0.5847</td>\n",
       "      <td>0.0230</td>\n",
       "      <td>-0.1797</td>\n",
       "      <td>-0.4797</td>\n",
       "      <td>0.0546</td>\n",
       "      <td>-0.0708</td>\n",
       "      <td>-0.5148</td>\n",
       "      <td>-0.0342</td>\n",
       "    </tr>\n",
       "    <tr>\n",
       "      <th>...</th>\n",
       "      <td>...</td>\n",
       "      <td>...</td>\n",
       "      <td>...</td>\n",
       "      <td>...</td>\n",
       "      <td>...</td>\n",
       "      <td>...</td>\n",
       "      <td>...</td>\n",
       "      <td>...</td>\n",
       "      <td>...</td>\n",
       "      <td>...</td>\n",
       "      <td>...</td>\n",
       "      <td>...</td>\n",
       "      <td>...</td>\n",
       "      <td>...</td>\n",
       "      <td>...</td>\n",
       "      <td>...</td>\n",
       "      <td>...</td>\n",
       "      <td>...</td>\n",
       "      <td>...</td>\n",
       "      <td>...</td>\n",
       "      <td>...</td>\n",
       "    </tr>\n",
       "    <tr>\n",
       "      <th>2023-05-08 21:30:00</th>\n",
       "      <td>0.5110</td>\n",
       "      <td>-0.1599</td>\n",
       "      <td>-0.0411</td>\n",
       "      <td>NaN</td>\n",
       "      <td>NaN</td>\n",
       "      <td>NaN</td>\n",
       "      <td>NaN</td>\n",
       "      <td>NaN</td>\n",
       "      <td>NaN</td>\n",
       "      <td>NaN</td>\n",
       "      <td>...</td>\n",
       "      <td>-0.2534</td>\n",
       "      <td>1.0231</td>\n",
       "      <td>0.0100</td>\n",
       "      <td>-0.0554</td>\n",
       "      <td>0.9757</td>\n",
       "      <td>0.1614</td>\n",
       "      <td>-0.0826</td>\n",
       "      <td>0.8291</td>\n",
       "      <td>-0.0674</td>\n",
       "      <td>-0.1177</td>\n",
       "    </tr>\n",
       "    <tr>\n",
       "      <th>2023-05-08 22:00:00</th>\n",
       "      <td>0.1444</td>\n",
       "      <td>-1.1128</td>\n",
       "      <td>-0.0077</td>\n",
       "      <td>NaN</td>\n",
       "      <td>NaN</td>\n",
       "      <td>NaN</td>\n",
       "      <td>NaN</td>\n",
       "      <td>NaN</td>\n",
       "      <td>NaN</td>\n",
       "      <td>NaN</td>\n",
       "      <td>...</td>\n",
       "      <td>-0.0844</td>\n",
       "      <td>1.3090</td>\n",
       "      <td>-0.9156</td>\n",
       "      <td>0.0147</td>\n",
       "      <td>1.2692</td>\n",
       "      <td>-0.9948</td>\n",
       "      <td>0.0202</td>\n",
       "      <td>1.1321</td>\n",
       "      <td>-1.2884</td>\n",
       "      <td>-0.0005</td>\n",
       "    </tr>\n",
       "    <tr>\n",
       "      <th>2023-05-08 22:30:00</th>\n",
       "      <td>-0.3317</td>\n",
       "      <td>-0.4067</td>\n",
       "      <td>-0.0196</td>\n",
       "      <td>NaN</td>\n",
       "      <td>NaN</td>\n",
       "      <td>NaN</td>\n",
       "      <td>NaN</td>\n",
       "      <td>NaN</td>\n",
       "      <td>NaN</td>\n",
       "      <td>NaN</td>\n",
       "      <td>...</td>\n",
       "      <td>-0.1070</td>\n",
       "      <td>-0.2333</td>\n",
       "      <td>0.0913</td>\n",
       "      <td>-0.0040</td>\n",
       "      <td>-0.1814</td>\n",
       "      <td>0.1751</td>\n",
       "      <td>0.0165</td>\n",
       "      <td>-0.1984</td>\n",
       "      <td>0.0486</td>\n",
       "      <td>0.0082</td>\n",
       "    </tr>\n",
       "    <tr>\n",
       "      <th>2023-05-08 23:00:00</th>\n",
       "      <td>0.2711</td>\n",
       "      <td>-1.6311</td>\n",
       "      <td>-0.0267</td>\n",
       "      <td>NaN</td>\n",
       "      <td>NaN</td>\n",
       "      <td>NaN</td>\n",
       "      <td>NaN</td>\n",
       "      <td>NaN</td>\n",
       "      <td>NaN</td>\n",
       "      <td>NaN</td>\n",
       "      <td>...</td>\n",
       "      <td>-0.0639</td>\n",
       "      <td>0.8123</td>\n",
       "      <td>-1.6862</td>\n",
       "      <td>0.0529</td>\n",
       "      <td>0.5919</td>\n",
       "      <td>-1.7747</td>\n",
       "      <td>0.0272</td>\n",
       "      <td>0.4242</td>\n",
       "      <td>-1.9011</td>\n",
       "      <td>-0.0194</td>\n",
       "    </tr>\n",
       "    <tr>\n",
       "      <th>2023-05-08 23:30:00</th>\n",
       "      <td>0.7165</td>\n",
       "      <td>-1.7929</td>\n",
       "      <td>-0.0314</td>\n",
       "      <td>NaN</td>\n",
       "      <td>NaN</td>\n",
       "      <td>NaN</td>\n",
       "      <td>NaN</td>\n",
       "      <td>NaN</td>\n",
       "      <td>NaN</td>\n",
       "      <td>NaN</td>\n",
       "      <td>...</td>\n",
       "      <td>-0.1111</td>\n",
       "      <td>2.0669</td>\n",
       "      <td>-1.9998</td>\n",
       "      <td>0.0297</td>\n",
       "      <td>1.8293</td>\n",
       "      <td>-2.1972</td>\n",
       "      <td>0.0063</td>\n",
       "      <td>1.5742</td>\n",
       "      <td>-2.5053</td>\n",
       "      <td>-0.0364</td>\n",
       "    </tr>\n",
       "  </tbody>\n",
       "</table>\n",
       "<p>7449 rows × 36 columns</p>\n",
       "</div>"
      ],
      "text/plain": [
       "height                 1.0                                                   \\\n",
       "tower                     c                       d                      ue   \n",
       "measurement               u       v       w       u       v       w       u   \n",
       "time                                                                          \n",
       "2022-11-30 00:00:00  0.8442 -2.0019 -0.0388  0.8241 -1.8621 -0.0258  0.7621   \n",
       "2022-11-30 00:30:00 -0.2592 -1.0267 -0.0255 -0.1717 -1.0263 -0.0297 -0.3245   \n",
       "2022-11-30 01:00:00  0.2995 -1.1331 -0.0291  0.3493 -1.0744 -0.0199  0.2869   \n",
       "2022-11-30 01:30:00  0.6549 -1.6004 -0.0338  0.6431 -1.4701 -0.0231  0.6043   \n",
       "2022-11-30 02:00:00 -0.2904 -0.8675 -0.0303 -0.2469 -0.8933 -0.0251 -0.3630   \n",
       "...                     ...     ...     ...     ...     ...     ...     ...   \n",
       "2023-05-08 21:30:00  0.5110 -0.1599 -0.0411     NaN     NaN     NaN     NaN   \n",
       "2023-05-08 22:00:00  0.1444 -1.1128 -0.0077     NaN     NaN     NaN     NaN   \n",
       "2023-05-08 22:30:00 -0.3317 -0.4067 -0.0196     NaN     NaN     NaN     NaN   \n",
       "2023-05-08 23:00:00  0.2711 -1.6311 -0.0267     NaN     NaN     NaN     NaN   \n",
       "2023-05-08 23:30:00  0.7165 -1.7929 -0.0314     NaN     NaN     NaN     NaN   \n",
       "\n",
       "height                                       ...    10.0                  \\\n",
       "tower                                    uw  ...       c       d           \n",
       "measurement               v       w       u  ...       w       u       v   \n",
       "time                                         ...                           \n",
       "2022-11-30 00:00:00 -1.9373 -0.0491  0.3113  ... -0.0823  2.5216 -2.1892   \n",
       "2022-11-30 00:30:00 -1.0934 -0.0513 -0.2333  ... -0.0342 -0.0728 -0.8173   \n",
       "2022-11-30 01:00:00 -1.1269 -0.0483  0.0885  ... -0.0566  0.6077 -0.6620   \n",
       "2022-11-30 01:30:00 -1.5538 -0.0509  0.1304  ... -0.0922  1.8981 -1.5050   \n",
       "2022-11-30 02:00:00 -0.9753 -0.0559 -0.2954  ... -0.0281 -0.0230 -0.5847   \n",
       "...                     ...     ...     ...  ...     ...     ...     ...   \n",
       "2023-05-08 21:30:00     NaN     NaN     NaN  ... -0.2534  1.0231  0.0100   \n",
       "2023-05-08 22:00:00     NaN     NaN     NaN  ... -0.0844  1.3090 -0.9156   \n",
       "2023-05-08 22:30:00     NaN     NaN     NaN  ... -0.1070 -0.2333  0.0913   \n",
       "2023-05-08 23:00:00     NaN     NaN     NaN  ... -0.0639  0.8123 -1.6862   \n",
       "2023-05-08 23:30:00     NaN     NaN     NaN  ... -0.1111  2.0669 -1.9998   \n",
       "\n",
       "height                                                                       \n",
       "tower                            ue                      uw                  \n",
       "measurement               w       u       v       w       u       v       w  \n",
       "time                                                                         \n",
       "2022-11-30 00:00:00 -0.0065  2.2063 -2.3716  0.0385  1.9062 -2.7111 -0.0001  \n",
       "2022-11-30 00:30:00  0.0189 -0.2529 -0.7708  0.0288 -0.2268 -0.7774 -0.0121  \n",
       "2022-11-30 01:00:00  0.0028  0.4626 -0.7354  0.0229  0.4762 -0.8680 -0.0210  \n",
       "2022-11-30 01:30:00 -0.0322  1.7291 -1.6854 -0.0059  1.4609 -2.0032 -0.0751  \n",
       "2022-11-30 02:00:00  0.0230 -0.1797 -0.4797  0.0546 -0.0708 -0.5148 -0.0342  \n",
       "...                     ...     ...     ...     ...     ...     ...     ...  \n",
       "2023-05-08 21:30:00 -0.0554  0.9757  0.1614 -0.0826  0.8291 -0.0674 -0.1177  \n",
       "2023-05-08 22:00:00  0.0147  1.2692 -0.9948  0.0202  1.1321 -1.2884 -0.0005  \n",
       "2023-05-08 22:30:00 -0.0040 -0.1814  0.1751  0.0165 -0.1984  0.0486  0.0082  \n",
       "2023-05-08 23:00:00  0.0529  0.5919 -1.7747  0.0272  0.4242 -1.9011 -0.0194  \n",
       "2023-05-08 23:30:00  0.0297  1.8293 -2.1972  0.0063  1.5742 -2.5053 -0.0364  \n",
       "\n",
       "[7449 rows x 36 columns]"
      ]
     },
     "execution_count": 17,
     "metadata": {},
     "output_type": "execute_result"
    }
   ],
   "source": [
    "wind_field_df = tidy_df[tidy_df.measurement.isin(['u','v','w']) & tidy_df.height.isin(HEIGHTS)]\n",
    "wind_field_df = round(wind_field_df.pivot_table(index='time', columns=['height', 'tower', 'measurement'], values='value'), 4)\n",
    "wind_field_df"
   ]
  },
  {
   "cell_type": "markdown",
   "metadata": {},
   "source": [
    "## Turbulent water vapor flux measurements"
   ]
  },
  {
   "cell_type": "code",
   "execution_count": 18,
   "metadata": {},
   "outputs": [
    {
     "data": {
      "text/plain": [
       "array([0.8830032 , 0.8861803 , 0.8797217 , 0.8501243 , 0.83197004,\n",
       "       0.85578555, 0.9044695 , 0.883821  , 0.8045693 , 0.8451464 ,\n",
       "       0.82116735, 0.82001185, 0.8245952 , 0.80685455, 0.79758674,\n",
       "       0.8030679 , 0.812742  , 0.83969325, 0.8456785 , 0.8545238 ,\n",
       "       0.8663699 , 0.83464444, 0.8394104 , 0.8273378 , 0.8514928 ,\n",
       "       0.8578015 , 0.85431665, 0.87466174, 0.8475494 , 0.8536981 ,\n",
       "       0.84865505, 0.81288236, 0.839955  , 0.8446944 , 0.87992126,\n",
       "       0.8693866 , 0.8331792 , 0.877814  , 0.87913615, 0.8416871 ,\n",
       "       0.85635257, 0.8849624 , 0.86362606, 0.84519917, 0.8534598 ,\n",
       "       0.8820116 , 0.8852701 , 0.8909652 , 0.89164376, 0.91837275,\n",
       "       0.8820488 , 0.89416844, 0.90137357, 0.9179057 , 0.9050803 ,\n",
       "       0.888219  , 0.8661297 , 0.8382657 , 0.8855346 , 0.8860198 ,\n",
       "       0.83745086, 0.82157433, 0.85524404, 0.82701814, 0.8668114 ,\n",
       "       0.83086663, 0.8850516 , 0.86667466, 0.89958507, 0.790919  ,\n",
       "       0.7992207 , 0.7692675 , 0.7842591 , 0.76704305, 0.78021204,\n",
       "       0.7475614 , 0.7387133 , 0.7251215 , 0.7398497 , 0.7441272 ,\n",
       "       0.7611371 , 0.78276944, 0.8073576 , 0.8151494 , 0.864139  ,\n",
       "       0.86289376, 0.8583294 , 0.8433179 , 0.8446932 , 0.89883906,\n",
       "       0.90265954, 0.82281137, 0.8549133 , 0.9162318 , 0.8820663 ,\n",
       "       0.8594025 , 0.9157547 , 0.8692831 , 0.8233074 , 0.98776823,\n",
       "       1.0094498 , 1.0780004 , 1.0885464 , 1.1881185 , 1.2105604 ,\n",
       "       1.2105606 , 1.1697813 , 1.2134193 , 1.2450626 , 1.2170675 ,\n",
       "       1.23968   , 1.2594534 , 1.2322886 , 1.237097  , 1.2492611 ,\n",
       "       1.2748009 , 1.2346114 , 1.2207142 , 1.2003195 , 1.2052313 ,\n",
       "       1.1868455 , 1.1933296 , 1.215273  , 1.2296938 , 1.2524197 ,\n",
       "       1.2412671 , 1.2228869 , 1.2193708 , 1.2035016 , 1.2068405 ,\n",
       "       1.2164886 , 1.1982169 , 1.1885856 , 1.1708531 , 1.1509975 ,\n",
       "       1.1296078 , 1.1595176 , 1.1432407 , 1.1082418 , 1.0880021 ,\n",
       "       1.0447693 , 1.0439205 , 1.0500882 , 1.0743774 , 1.0726764 ,\n",
       "       1.0929949 , 1.0886041 , 1.0602125 , 1.0525582 , 1.060682  ,\n",
       "       1.0753163 , 1.057147  , 1.0681272 , 1.0754015 , 1.0914565 ,\n",
       "       1.0704916 , 1.063856  , 1.0789305 , 1.0790888 , 1.1156368 ,\n",
       "       1.1327769 , 1.1253237 , 1.1095566 , 1.0977448 , 1.0855174 ,\n",
       "       1.0772868 , 1.0405481 , 1.0250305 , 1.0150442 , 0.9917819 ,\n",
       "       1.0405902 , 1.0454587 , 1.0261134 , 1.0660492 , 1.0959711 ,\n",
       "       1.057486  , 1.0819002 , 1.1142449 , 1.1096668 , 1.0987568 ,\n",
       "       1.0835268 , 1.0498444 , 1.0336809 , 1.030003  , 1.0185673 ,\n",
       "       1.0060712 , 0.9928125 , 0.9739616 , 0.9731468 , 0.9626022 ,\n",
       "       0.93769175, 0.93628806, 0.9278499 , 0.88676417, 0.8489787 ,\n",
       "       0.85655487, 0.86765623, 0.8842914 , 0.8820737 , 0.8557035 ,\n",
       "       0.8776328 , 0.9085586 , 0.9108454 , 0.9711877 , 1.0281503 ,\n",
       "       1.030093  , 1.0370257 , 1.0458196 , 1.0429007 , 1.0589443 ,\n",
       "       1.1555245 , 1.1304997 , 1.0788056 , 1.0507734 , 1.0325587 ,\n",
       "       1.0507154 , 1.0495414 , 1.0506737 , 1.1162655 , 1.2617844 ,\n",
       "       1.3149102 , 1.3053929 , 1.3511709 , 1.3636433 , 1.3636929 ,\n",
       "       1.364735  , 1.4013008 , 1.4404272 , 1.4395957 , 1.3704134 ,\n",
       "       1.4000287 , 1.414657  , 1.424963  , 1.3924601 , 1.3347797 ,\n",
       "       1.3065888 , 1.2827258 , 1.2889627 , 1.308957  , 1.2957112 ,\n",
       "       1.3178695 , 1.3517263 , 1.370981  , 1.3670684 , 1.3714713 ,\n",
       "       1.3409901 , 1.3643107 , 1.344521  , 1.3585651 , 1.3798777 ,\n",
       "       1.4913242 , 1.5704418 , 1.5260187 , 1.5288641 , 1.5360594 ,\n",
       "       1.5041301 , 1.4902908 , 1.4928281 , 1.5521376 , 1.473849  ,\n",
       "       1.4886333 , 1.5126129 , 1.5155889 , 1.5063338 , 1.4907193 ,\n",
       "       1.5201892 , 1.5408928 , 1.5294456 , 1.51392   , 1.5613563 ,\n",
       "       1.5799978 , 1.5771133 , 1.5909964 , 1.5970362 , 1.6168008 ,\n",
       "       1.6148888 , 1.6010588 , 1.6133068 , 1.6206342 , 1.6207448 ,\n",
       "       1.6230732 , 1.6344577 , 1.6244097 , 1.63497   , 1.645564  ,\n",
       "       1.6422633 , 1.6513066 , 1.6534486 ], dtype=float32)"
      ]
     },
     "execution_count": 18,
     "metadata": {},
     "output_type": "execute_result"
    }
   ],
   "source": [
    "ds = xr.open_dataset(\"~/Development/data/sublimationofsnow/sosqc/sos_qc_geo_tiltcor_v20240307/isfs_sos_qc_geo_tiltcor_5min_20221223.nc\")\n",
    "ds['h2o_3m_c'].values"
   ]
  },
  {
   "cell_type": "code",
   "execution_count": 19,
   "metadata": {},
   "outputs": [
    {
     "data": {
      "text/html": [
       "<div>\n",
       "<style scoped>\n",
       "    .dataframe tbody tr th:only-of-type {\n",
       "        vertical-align: middle;\n",
       "    }\n",
       "\n",
       "    .dataframe tbody tr th {\n",
       "        vertical-align: top;\n",
       "    }\n",
       "\n",
       "    .dataframe thead tr th {\n",
       "        text-align: left;\n",
       "    }\n",
       "\n",
       "    .dataframe thead tr:last-of-type th {\n",
       "        text-align: right;\n",
       "    }\n",
       "</style>\n",
       "<table border=\"1\" class=\"dataframe\">\n",
       "  <thead>\n",
       "    <tr>\n",
       "      <th>height</th>\n",
       "      <th colspan=\"10\" halign=\"left\">1.0</th>\n",
       "      <th>...</th>\n",
       "      <th colspan=\"10\" halign=\"left\">10.0</th>\n",
       "    </tr>\n",
       "    <tr>\n",
       "      <th>tower</th>\n",
       "      <th colspan=\"3\" halign=\"left\">c</th>\n",
       "      <th colspan=\"3\" halign=\"left\">d</th>\n",
       "      <th colspan=\"3\" halign=\"left\">ue</th>\n",
       "      <th>uw</th>\n",
       "      <th>...</th>\n",
       "      <th>c</th>\n",
       "      <th colspan=\"3\" halign=\"left\">d</th>\n",
       "      <th colspan=\"3\" halign=\"left\">ue</th>\n",
       "      <th colspan=\"3\" halign=\"left\">uw</th>\n",
       "    </tr>\n",
       "    <tr>\n",
       "      <th>measurement</th>\n",
       "      <th>u_h2o_</th>\n",
       "      <th>v_h2o_</th>\n",
       "      <th>w_h2o_</th>\n",
       "      <th>u_h2o_</th>\n",
       "      <th>v_h2o_</th>\n",
       "      <th>w_h2o_</th>\n",
       "      <th>u_h2o_</th>\n",
       "      <th>v_h2o_</th>\n",
       "      <th>w_h2o_</th>\n",
       "      <th>u_h2o_</th>\n",
       "      <th>...</th>\n",
       "      <th>w_h2o_</th>\n",
       "      <th>u_h2o_</th>\n",
       "      <th>v_h2o_</th>\n",
       "      <th>w_h2o_</th>\n",
       "      <th>u_h2o_</th>\n",
       "      <th>v_h2o_</th>\n",
       "      <th>w_h2o_</th>\n",
       "      <th>u_h2o_</th>\n",
       "      <th>v_h2o_</th>\n",
       "      <th>w_h2o_</th>\n",
       "    </tr>\n",
       "    <tr>\n",
       "      <th>time</th>\n",
       "      <th></th>\n",
       "      <th></th>\n",
       "      <th></th>\n",
       "      <th></th>\n",
       "      <th></th>\n",
       "      <th></th>\n",
       "      <th></th>\n",
       "      <th></th>\n",
       "      <th></th>\n",
       "      <th></th>\n",
       "      <th></th>\n",
       "      <th></th>\n",
       "      <th></th>\n",
       "      <th></th>\n",
       "      <th></th>\n",
       "      <th></th>\n",
       "      <th></th>\n",
       "      <th></th>\n",
       "      <th></th>\n",
       "      <th></th>\n",
       "      <th></th>\n",
       "    </tr>\n",
       "  </thead>\n",
       "  <tbody>\n",
       "    <tr>\n",
       "      <th>2022-11-30 00:00:00</th>\n",
       "      <td>-0.0023</td>\n",
       "      <td>0.0060</td>\n",
       "      <td>-0.0008</td>\n",
       "      <td>-0.0013</td>\n",
       "      <td>0.0067</td>\n",
       "      <td>-0.0008</td>\n",
       "      <td>0.0005</td>\n",
       "      <td>-0.0009</td>\n",
       "      <td>0.0000</td>\n",
       "      <td>0.0082</td>\n",
       "      <td>...</td>\n",
       "      <td>0.0011</td>\n",
       "      <td>-0.0254</td>\n",
       "      <td>0.0075</td>\n",
       "      <td>0.0009</td>\n",
       "      <td>-0.0040</td>\n",
       "      <td>0.0051</td>\n",
       "      <td>-0.0003</td>\n",
       "      <td>-0.0298</td>\n",
       "      <td>0.0238</td>\n",
       "      <td>0.0001</td>\n",
       "    </tr>\n",
       "    <tr>\n",
       "      <th>2022-11-30 00:30:00</th>\n",
       "      <td>-0.0122</td>\n",
       "      <td>0.0142</td>\n",
       "      <td>-0.0007</td>\n",
       "      <td>-0.0032</td>\n",
       "      <td>0.0118</td>\n",
       "      <td>-0.0005</td>\n",
       "      <td>-0.0000</td>\n",
       "      <td>0.0000</td>\n",
       "      <td>0.0000</td>\n",
       "      <td>0.0042</td>\n",
       "      <td>...</td>\n",
       "      <td>0.0005</td>\n",
       "      <td>-0.0213</td>\n",
       "      <td>0.0102</td>\n",
       "      <td>0.0005</td>\n",
       "      <td>-0.0119</td>\n",
       "      <td>0.0123</td>\n",
       "      <td>0.0005</td>\n",
       "      <td>-0.0179</td>\n",
       "      <td>0.0177</td>\n",
       "      <td>0.0005</td>\n",
       "    </tr>\n",
       "    <tr>\n",
       "      <th>2022-11-30 01:00:00</th>\n",
       "      <td>-0.0024</td>\n",
       "      <td>0.0032</td>\n",
       "      <td>-0.0003</td>\n",
       "      <td>0.0033</td>\n",
       "      <td>0.0017</td>\n",
       "      <td>-0.0001</td>\n",
       "      <td>-0.0000</td>\n",
       "      <td>-0.0000</td>\n",
       "      <td>-0.0000</td>\n",
       "      <td>0.0056</td>\n",
       "      <td>...</td>\n",
       "      <td>-0.0007</td>\n",
       "      <td>-0.0098</td>\n",
       "      <td>0.0011</td>\n",
       "      <td>-0.0002</td>\n",
       "      <td>-0.0048</td>\n",
       "      <td>0.0034</td>\n",
       "      <td>0.0003</td>\n",
       "      <td>-0.0110</td>\n",
       "      <td>0.0028</td>\n",
       "      <td>0.0007</td>\n",
       "    </tr>\n",
       "    <tr>\n",
       "      <th>2022-11-30 01:30:00</th>\n",
       "      <td>-0.0007</td>\n",
       "      <td>-0.0005</td>\n",
       "      <td>-0.0004</td>\n",
       "      <td>0.0026</td>\n",
       "      <td>-0.0012</td>\n",
       "      <td>-0.0003</td>\n",
       "      <td>0.0004</td>\n",
       "      <td>-0.0002</td>\n",
       "      <td>-0.0001</td>\n",
       "      <td>-0.0001</td>\n",
       "      <td>...</td>\n",
       "      <td>0.0004</td>\n",
       "      <td>-0.0119</td>\n",
       "      <td>0.0032</td>\n",
       "      <td>0.0006</td>\n",
       "      <td>-0.0108</td>\n",
       "      <td>0.0058</td>\n",
       "      <td>-0.0006</td>\n",
       "      <td>-0.0108</td>\n",
       "      <td>0.0062</td>\n",
       "      <td>-0.0002</td>\n",
       "    </tr>\n",
       "    <tr>\n",
       "      <th>2022-11-30 02:00:00</th>\n",
       "      <td>-0.0013</td>\n",
       "      <td>0.0059</td>\n",
       "      <td>-0.0004</td>\n",
       "      <td>-0.0003</td>\n",
       "      <td>0.0132</td>\n",
       "      <td>-0.0001</td>\n",
       "      <td>0.0005</td>\n",
       "      <td>-0.0001</td>\n",
       "      <td>-0.0001</td>\n",
       "      <td>-0.0005</td>\n",
       "      <td>...</td>\n",
       "      <td>-0.0003</td>\n",
       "      <td>-0.0088</td>\n",
       "      <td>0.0135</td>\n",
       "      <td>-0.0004</td>\n",
       "      <td>0.0060</td>\n",
       "      <td>0.0244</td>\n",
       "      <td>-0.0002</td>\n",
       "      <td>-0.0002</td>\n",
       "      <td>0.0046</td>\n",
       "      <td>-0.0013</td>\n",
       "    </tr>\n",
       "    <tr>\n",
       "      <th>...</th>\n",
       "      <td>...</td>\n",
       "      <td>...</td>\n",
       "      <td>...</td>\n",
       "      <td>...</td>\n",
       "      <td>...</td>\n",
       "      <td>...</td>\n",
       "      <td>...</td>\n",
       "      <td>...</td>\n",
       "      <td>...</td>\n",
       "      <td>...</td>\n",
       "      <td>...</td>\n",
       "      <td>...</td>\n",
       "      <td>...</td>\n",
       "      <td>...</td>\n",
       "      <td>...</td>\n",
       "      <td>...</td>\n",
       "      <td>...</td>\n",
       "      <td>...</td>\n",
       "      <td>...</td>\n",
       "      <td>...</td>\n",
       "      <td>...</td>\n",
       "    </tr>\n",
       "    <tr>\n",
       "      <th>2023-05-08 21:30:00</th>\n",
       "      <td>-0.0099</td>\n",
       "      <td>-0.1348</td>\n",
       "      <td>0.0141</td>\n",
       "      <td>0.0000</td>\n",
       "      <td>0.0000</td>\n",
       "      <td>0.0000</td>\n",
       "      <td>0.0000</td>\n",
       "      <td>0.0000</td>\n",
       "      <td>0.0000</td>\n",
       "      <td>0.0000</td>\n",
       "      <td>...</td>\n",
       "      <td>0.0253</td>\n",
       "      <td>0.1150</td>\n",
       "      <td>-0.1107</td>\n",
       "      <td>0.0206</td>\n",
       "      <td>0.1498</td>\n",
       "      <td>-0.2064</td>\n",
       "      <td>0.0178</td>\n",
       "      <td>0.1213</td>\n",
       "      <td>-0.1743</td>\n",
       "      <td>0.0190</td>\n",
       "    </tr>\n",
       "    <tr>\n",
       "      <th>2023-05-08 22:00:00</th>\n",
       "      <td>-0.0076</td>\n",
       "      <td>0.0061</td>\n",
       "      <td>0.0021</td>\n",
       "      <td>0.0000</td>\n",
       "      <td>0.0000</td>\n",
       "      <td>0.0000</td>\n",
       "      <td>0.0000</td>\n",
       "      <td>0.0000</td>\n",
       "      <td>0.0000</td>\n",
       "      <td>0.0000</td>\n",
       "      <td>...</td>\n",
       "      <td>-0.0012</td>\n",
       "      <td>-0.0682</td>\n",
       "      <td>0.0801</td>\n",
       "      <td>-0.0164</td>\n",
       "      <td>-0.0721</td>\n",
       "      <td>0.0997</td>\n",
       "      <td>-0.0072</td>\n",
       "      <td>-0.0547</td>\n",
       "      <td>0.1091</td>\n",
       "      <td>0.0095</td>\n",
       "    </tr>\n",
       "    <tr>\n",
       "      <th>2023-05-08 22:30:00</th>\n",
       "      <td>-0.0227</td>\n",
       "      <td>0.0018</td>\n",
       "      <td>0.0013</td>\n",
       "      <td>0.0000</td>\n",
       "      <td>0.0000</td>\n",
       "      <td>0.0000</td>\n",
       "      <td>0.0000</td>\n",
       "      <td>0.0000</td>\n",
       "      <td>0.0000</td>\n",
       "      <td>0.0000</td>\n",
       "      <td>...</td>\n",
       "      <td>-0.0017</td>\n",
       "      <td>0.0369</td>\n",
       "      <td>0.0665</td>\n",
       "      <td>0.0005</td>\n",
       "      <td>0.0582</td>\n",
       "      <td>0.1006</td>\n",
       "      <td>0.0049</td>\n",
       "      <td>0.0557</td>\n",
       "      <td>0.0758</td>\n",
       "      <td>-0.0005</td>\n",
       "    </tr>\n",
       "    <tr>\n",
       "      <th>2023-05-08 23:00:00</th>\n",
       "      <td>0.0097</td>\n",
       "      <td>0.0275</td>\n",
       "      <td>0.0023</td>\n",
       "      <td>0.0000</td>\n",
       "      <td>0.0000</td>\n",
       "      <td>0.0000</td>\n",
       "      <td>0.0000</td>\n",
       "      <td>0.0000</td>\n",
       "      <td>0.0000</td>\n",
       "      <td>0.0000</td>\n",
       "      <td>...</td>\n",
       "      <td>-0.0048</td>\n",
       "      <td>0.0267</td>\n",
       "      <td>0.0438</td>\n",
       "      <td>0.0011</td>\n",
       "      <td>0.0363</td>\n",
       "      <td>0.0433</td>\n",
       "      <td>-0.0027</td>\n",
       "      <td>0.0531</td>\n",
       "      <td>0.0230</td>\n",
       "      <td>-0.0003</td>\n",
       "    </tr>\n",
       "    <tr>\n",
       "      <th>2023-05-08 23:30:00</th>\n",
       "      <td>-0.0254</td>\n",
       "      <td>-0.0133</td>\n",
       "      <td>0.0024</td>\n",
       "      <td>0.0000</td>\n",
       "      <td>0.0000</td>\n",
       "      <td>0.0000</td>\n",
       "      <td>0.0000</td>\n",
       "      <td>0.0000</td>\n",
       "      <td>0.0000</td>\n",
       "      <td>0.0000</td>\n",
       "      <td>...</td>\n",
       "      <td>-0.0091</td>\n",
       "      <td>0.0208</td>\n",
       "      <td>0.0312</td>\n",
       "      <td>-0.0024</td>\n",
       "      <td>0.0350</td>\n",
       "      <td>0.0511</td>\n",
       "      <td>-0.0051</td>\n",
       "      <td>0.0194</td>\n",
       "      <td>0.0368</td>\n",
       "      <td>-0.0001</td>\n",
       "    </tr>\n",
       "  </tbody>\n",
       "</table>\n",
       "<p>7678 rows × 36 columns</p>\n",
       "</div>"
      ],
      "text/plain": [
       "height                 1.0                                                   \\\n",
       "tower                     c                       d                      ue   \n",
       "measurement          u_h2o_  v_h2o_  w_h2o_  u_h2o_  v_h2o_  w_h2o_  u_h2o_   \n",
       "time                                                                          \n",
       "2022-11-30 00:00:00 -0.0023  0.0060 -0.0008 -0.0013  0.0067 -0.0008  0.0005   \n",
       "2022-11-30 00:30:00 -0.0122  0.0142 -0.0007 -0.0032  0.0118 -0.0005 -0.0000   \n",
       "2022-11-30 01:00:00 -0.0024  0.0032 -0.0003  0.0033  0.0017 -0.0001 -0.0000   \n",
       "2022-11-30 01:30:00 -0.0007 -0.0005 -0.0004  0.0026 -0.0012 -0.0003  0.0004   \n",
       "2022-11-30 02:00:00 -0.0013  0.0059 -0.0004 -0.0003  0.0132 -0.0001  0.0005   \n",
       "...                     ...     ...     ...     ...     ...     ...     ...   \n",
       "2023-05-08 21:30:00 -0.0099 -0.1348  0.0141  0.0000  0.0000  0.0000  0.0000   \n",
       "2023-05-08 22:00:00 -0.0076  0.0061  0.0021  0.0000  0.0000  0.0000  0.0000   \n",
       "2023-05-08 22:30:00 -0.0227  0.0018  0.0013  0.0000  0.0000  0.0000  0.0000   \n",
       "2023-05-08 23:00:00  0.0097  0.0275  0.0023  0.0000  0.0000  0.0000  0.0000   \n",
       "2023-05-08 23:30:00 -0.0254 -0.0133  0.0024  0.0000  0.0000  0.0000  0.0000   \n",
       "\n",
       "height                                       ...    10.0                  \\\n",
       "tower                                    uw  ...       c       d           \n",
       "measurement          v_h2o_  w_h2o_  u_h2o_  ...  w_h2o_  u_h2o_  v_h2o_   \n",
       "time                                         ...                           \n",
       "2022-11-30 00:00:00 -0.0009  0.0000  0.0082  ...  0.0011 -0.0254  0.0075   \n",
       "2022-11-30 00:30:00  0.0000  0.0000  0.0042  ...  0.0005 -0.0213  0.0102   \n",
       "2022-11-30 01:00:00 -0.0000 -0.0000  0.0056  ... -0.0007 -0.0098  0.0011   \n",
       "2022-11-30 01:30:00 -0.0002 -0.0001 -0.0001  ...  0.0004 -0.0119  0.0032   \n",
       "2022-11-30 02:00:00 -0.0001 -0.0001 -0.0005  ... -0.0003 -0.0088  0.0135   \n",
       "...                     ...     ...     ...  ...     ...     ...     ...   \n",
       "2023-05-08 21:30:00  0.0000  0.0000  0.0000  ...  0.0253  0.1150 -0.1107   \n",
       "2023-05-08 22:00:00  0.0000  0.0000  0.0000  ... -0.0012 -0.0682  0.0801   \n",
       "2023-05-08 22:30:00  0.0000  0.0000  0.0000  ... -0.0017  0.0369  0.0665   \n",
       "2023-05-08 23:00:00  0.0000  0.0000  0.0000  ... -0.0048  0.0267  0.0438   \n",
       "2023-05-08 23:30:00  0.0000  0.0000  0.0000  ... -0.0091  0.0208  0.0312   \n",
       "\n",
       "height                                                                       \n",
       "tower                            ue                      uw                  \n",
       "measurement          w_h2o_  u_h2o_  v_h2o_  w_h2o_  u_h2o_  v_h2o_  w_h2o_  \n",
       "time                                                                         \n",
       "2022-11-30 00:00:00  0.0009 -0.0040  0.0051 -0.0003 -0.0298  0.0238  0.0001  \n",
       "2022-11-30 00:30:00  0.0005 -0.0119  0.0123  0.0005 -0.0179  0.0177  0.0005  \n",
       "2022-11-30 01:00:00 -0.0002 -0.0048  0.0034  0.0003 -0.0110  0.0028  0.0007  \n",
       "2022-11-30 01:30:00  0.0006 -0.0108  0.0058 -0.0006 -0.0108  0.0062 -0.0002  \n",
       "2022-11-30 02:00:00 -0.0004  0.0060  0.0244 -0.0002 -0.0002  0.0046 -0.0013  \n",
       "...                     ...     ...     ...     ...     ...     ...     ...  \n",
       "2023-05-08 21:30:00  0.0206  0.1498 -0.2064  0.0178  0.1213 -0.1743  0.0190  \n",
       "2023-05-08 22:00:00 -0.0164 -0.0721  0.0997 -0.0072 -0.0547  0.1091  0.0095  \n",
       "2023-05-08 22:30:00  0.0005  0.0582  0.1006  0.0049  0.0557  0.0758 -0.0005  \n",
       "2023-05-08 23:00:00  0.0011  0.0363  0.0433 -0.0027  0.0531  0.0230 -0.0003  \n",
       "2023-05-08 23:30:00 -0.0024  0.0350  0.0511 -0.0051  0.0194  0.0368 -0.0001  \n",
       "\n",
       "[7678 rows x 36 columns]"
      ]
     },
     "execution_count": 19,
     "metadata": {},
     "output_type": "execute_result"
    }
   ],
   "source": [
    "turb_flux_field_df = tidy_df[tidy_df.measurement.isin(['u_h2o_','v_h2o_','w_h2o_']) & tidy_df.height.isin(HEIGHTS)]\n",
    "turb_flux_field_df = round(turb_flux_field_df.pivot_table(index='time', columns=['height', 'tower', 'measurement'], values='value'), 4)\n",
    "turb_flux_field_df"
   ]
  },
  {
   "cell_type": "markdown",
   "metadata": {},
   "source": [
    "## Turbulent temperature flux measurements"
   ]
  },
  {
   "cell_type": "code",
   "execution_count": 20,
   "metadata": {},
   "outputs": [
    {
     "data": {
      "text/html": [
       "<div>\n",
       "<style scoped>\n",
       "    .dataframe tbody tr th:only-of-type {\n",
       "        vertical-align: middle;\n",
       "    }\n",
       "\n",
       "    .dataframe tbody tr th {\n",
       "        vertical-align: top;\n",
       "    }\n",
       "\n",
       "    .dataframe thead tr th {\n",
       "        text-align: left;\n",
       "    }\n",
       "\n",
       "    .dataframe thead tr:last-of-type th {\n",
       "        text-align: right;\n",
       "    }\n",
       "</style>\n",
       "<table border=\"1\" class=\"dataframe\">\n",
       "  <thead>\n",
       "    <tr>\n",
       "      <th>height</th>\n",
       "      <th colspan=\"10\" halign=\"left\">1.0</th>\n",
       "      <th>...</th>\n",
       "      <th colspan=\"10\" halign=\"left\">10.0</th>\n",
       "    </tr>\n",
       "    <tr>\n",
       "      <th>tower</th>\n",
       "      <th colspan=\"3\" halign=\"left\">c</th>\n",
       "      <th colspan=\"3\" halign=\"left\">d</th>\n",
       "      <th colspan=\"3\" halign=\"left\">ue</th>\n",
       "      <th>uw</th>\n",
       "      <th>...</th>\n",
       "      <th>c</th>\n",
       "      <th colspan=\"3\" halign=\"left\">d</th>\n",
       "      <th colspan=\"3\" halign=\"left\">ue</th>\n",
       "      <th colspan=\"3\" halign=\"left\">uw</th>\n",
       "    </tr>\n",
       "    <tr>\n",
       "      <th>measurement</th>\n",
       "      <th>u_tc_</th>\n",
       "      <th>v_tc_</th>\n",
       "      <th>w_tc_</th>\n",
       "      <th>u_tc_</th>\n",
       "      <th>v_tc_</th>\n",
       "      <th>w_tc_</th>\n",
       "      <th>u_tc_</th>\n",
       "      <th>v_tc_</th>\n",
       "      <th>w_tc_</th>\n",
       "      <th>u_tc_</th>\n",
       "      <th>...</th>\n",
       "      <th>w_tc_</th>\n",
       "      <th>u_tc_</th>\n",
       "      <th>v_tc_</th>\n",
       "      <th>w_tc_</th>\n",
       "      <th>u_tc_</th>\n",
       "      <th>v_tc_</th>\n",
       "      <th>w_tc_</th>\n",
       "      <th>u_tc_</th>\n",
       "      <th>v_tc_</th>\n",
       "      <th>w_tc_</th>\n",
       "    </tr>\n",
       "    <tr>\n",
       "      <th>time</th>\n",
       "      <th></th>\n",
       "      <th></th>\n",
       "      <th></th>\n",
       "      <th></th>\n",
       "      <th></th>\n",
       "      <th></th>\n",
       "      <th></th>\n",
       "      <th></th>\n",
       "      <th></th>\n",
       "      <th></th>\n",
       "      <th></th>\n",
       "      <th></th>\n",
       "      <th></th>\n",
       "      <th></th>\n",
       "      <th></th>\n",
       "      <th></th>\n",
       "      <th></th>\n",
       "      <th></th>\n",
       "      <th></th>\n",
       "      <th></th>\n",
       "      <th></th>\n",
       "    </tr>\n",
       "  </thead>\n",
       "  <tbody>\n",
       "    <tr>\n",
       "      <th>2022-11-30 00:00:00</th>\n",
       "      <td>-0.0674</td>\n",
       "      <td>0.1582</td>\n",
       "      <td>-0.0203</td>\n",
       "      <td>-0.0226</td>\n",
       "      <td>0.1021</td>\n",
       "      <td>-0.0218</td>\n",
       "      <td>-0.1716</td>\n",
       "      <td>0.1064</td>\n",
       "      <td>-0.0203</td>\n",
       "      <td>0.1468</td>\n",
       "      <td>...</td>\n",
       "      <td>0.0422</td>\n",
       "      <td>-0.7459</td>\n",
       "      <td>-0.0608</td>\n",
       "      <td>0.0360</td>\n",
       "      <td>-0.9263</td>\n",
       "      <td>-0.0424</td>\n",
       "      <td>0.0388</td>\n",
       "      <td>-0.7198</td>\n",
       "      <td>0.0436</td>\n",
       "      <td>0.0608</td>\n",
       "    </tr>\n",
       "    <tr>\n",
       "      <th>2022-11-30 00:30:00</th>\n",
       "      <td>-0.2295</td>\n",
       "      <td>0.2938</td>\n",
       "      <td>-0.0135</td>\n",
       "      <td>-0.1212</td>\n",
       "      <td>0.2718</td>\n",
       "      <td>-0.0139</td>\n",
       "      <td>-0.3598</td>\n",
       "      <td>0.2681</td>\n",
       "      <td>-0.0197</td>\n",
       "      <td>0.0908</td>\n",
       "      <td>...</td>\n",
       "      <td>0.0182</td>\n",
       "      <td>-0.4149</td>\n",
       "      <td>0.0622</td>\n",
       "      <td>0.0128</td>\n",
       "      <td>-0.4323</td>\n",
       "      <td>0.1328</td>\n",
       "      <td>-0.0057</td>\n",
       "      <td>-0.4289</td>\n",
       "      <td>0.2197</td>\n",
       "      <td>0.0129</td>\n",
       "    </tr>\n",
       "    <tr>\n",
       "      <th>2022-11-30 01:00:00</th>\n",
       "      <td>-0.1569</td>\n",
       "      <td>0.0335</td>\n",
       "      <td>-0.0094</td>\n",
       "      <td>-0.0093</td>\n",
       "      <td>-0.0229</td>\n",
       "      <td>-0.0053</td>\n",
       "      <td>-0.1105</td>\n",
       "      <td>0.0074</td>\n",
       "      <td>-0.0021</td>\n",
       "      <td>0.0245</td>\n",
       "      <td>...</td>\n",
       "      <td>-0.0064</td>\n",
       "      <td>-0.2581</td>\n",
       "      <td>0.0090</td>\n",
       "      <td>-0.0027</td>\n",
       "      <td>-0.2444</td>\n",
       "      <td>0.0067</td>\n",
       "      <td>0.0081</td>\n",
       "      <td>-0.2947</td>\n",
       "      <td>0.1271</td>\n",
       "      <td>0.0156</td>\n",
       "    </tr>\n",
       "    <tr>\n",
       "      <th>2022-11-30 01:30:00</th>\n",
       "      <td>0.0009</td>\n",
       "      <td>-0.0341</td>\n",
       "      <td>-0.0137</td>\n",
       "      <td>0.0481</td>\n",
       "      <td>-0.0272</td>\n",
       "      <td>-0.0102</td>\n",
       "      <td>-0.0407</td>\n",
       "      <td>-0.0262</td>\n",
       "      <td>-0.0131</td>\n",
       "      <td>0.0604</td>\n",
       "      <td>...</td>\n",
       "      <td>0.0188</td>\n",
       "      <td>-0.2786</td>\n",
       "      <td>0.0457</td>\n",
       "      <td>0.0161</td>\n",
       "      <td>-0.3969</td>\n",
       "      <td>0.1331</td>\n",
       "      <td>0.0102</td>\n",
       "      <td>-0.2328</td>\n",
       "      <td>0.0881</td>\n",
       "      <td>0.0026</td>\n",
       "    </tr>\n",
       "    <tr>\n",
       "      <th>2022-11-30 02:00:00</th>\n",
       "      <td>-0.0671</td>\n",
       "      <td>0.0908</td>\n",
       "      <td>-0.0088</td>\n",
       "      <td>-0.0014</td>\n",
       "      <td>0.0658</td>\n",
       "      <td>-0.0068</td>\n",
       "      <td>-0.1517</td>\n",
       "      <td>0.0952</td>\n",
       "      <td>-0.0179</td>\n",
       "      <td>0.1217</td>\n",
       "      <td>...</td>\n",
       "      <td>0.0152</td>\n",
       "      <td>-0.3046</td>\n",
       "      <td>0.0824</td>\n",
       "      <td>0.0043</td>\n",
       "      <td>-0.3388</td>\n",
       "      <td>0.1545</td>\n",
       "      <td>0.0026</td>\n",
       "      <td>-0.2224</td>\n",
       "      <td>0.1263</td>\n",
       "      <td>-0.0177</td>\n",
       "    </tr>\n",
       "    <tr>\n",
       "      <th>...</th>\n",
       "      <td>...</td>\n",
       "      <td>...</td>\n",
       "      <td>...</td>\n",
       "      <td>...</td>\n",
       "      <td>...</td>\n",
       "      <td>...</td>\n",
       "      <td>...</td>\n",
       "      <td>...</td>\n",
       "      <td>...</td>\n",
       "      <td>...</td>\n",
       "      <td>...</td>\n",
       "      <td>...</td>\n",
       "      <td>...</td>\n",
       "      <td>...</td>\n",
       "      <td>...</td>\n",
       "      <td>...</td>\n",
       "      <td>...</td>\n",
       "      <td>...</td>\n",
       "      <td>...</td>\n",
       "      <td>...</td>\n",
       "      <td>...</td>\n",
       "    </tr>\n",
       "    <tr>\n",
       "      <th>2023-05-08 21:30:00</th>\n",
       "      <td>-0.1731</td>\n",
       "      <td>1.0900</td>\n",
       "      <td>-0.0691</td>\n",
       "      <td>0.0000</td>\n",
       "      <td>0.0000</td>\n",
       "      <td>0.0000</td>\n",
       "      <td>0.0000</td>\n",
       "      <td>0.0000</td>\n",
       "      <td>0.0000</td>\n",
       "      <td>0.0000</td>\n",
       "      <td>...</td>\n",
       "      <td>-0.1050</td>\n",
       "      <td>-0.9438</td>\n",
       "      <td>0.9916</td>\n",
       "      <td>-0.1117</td>\n",
       "      <td>-0.9355</td>\n",
       "      <td>1.1978</td>\n",
       "      <td>-0.0821</td>\n",
       "      <td>-0.9600</td>\n",
       "      <td>1.5156</td>\n",
       "      <td>-0.1037</td>\n",
       "    </tr>\n",
       "    <tr>\n",
       "      <th>2023-05-08 22:00:00</th>\n",
       "      <td>0.0506</td>\n",
       "      <td>-0.1076</td>\n",
       "      <td>-0.0178</td>\n",
       "      <td>0.0000</td>\n",
       "      <td>0.0000</td>\n",
       "      <td>0.0000</td>\n",
       "      <td>0.0000</td>\n",
       "      <td>0.0000</td>\n",
       "      <td>0.0000</td>\n",
       "      <td>0.0000</td>\n",
       "      <td>...</td>\n",
       "      <td>0.0028</td>\n",
       "      <td>0.4501</td>\n",
       "      <td>-0.4979</td>\n",
       "      <td>0.0947</td>\n",
       "      <td>0.4328</td>\n",
       "      <td>-0.5384</td>\n",
       "      <td>0.0317</td>\n",
       "      <td>0.3765</td>\n",
       "      <td>-0.6885</td>\n",
       "      <td>-0.0645</td>\n",
       "    </tr>\n",
       "    <tr>\n",
       "      <th>2023-05-08 22:30:00</th>\n",
       "      <td>0.1383</td>\n",
       "      <td>-0.2215</td>\n",
       "      <td>-0.0099</td>\n",
       "      <td>0.0000</td>\n",
       "      <td>0.0000</td>\n",
       "      <td>0.0000</td>\n",
       "      <td>0.0000</td>\n",
       "      <td>0.0000</td>\n",
       "      <td>0.0000</td>\n",
       "      <td>0.0000</td>\n",
       "      <td>...</td>\n",
       "      <td>0.0069</td>\n",
       "      <td>-0.1858</td>\n",
       "      <td>-0.4071</td>\n",
       "      <td>-0.0045</td>\n",
       "      <td>-0.2219</td>\n",
       "      <td>-0.4112</td>\n",
       "      <td>-0.0327</td>\n",
       "      <td>-0.2899</td>\n",
       "      <td>-0.5273</td>\n",
       "      <td>0.0027</td>\n",
       "    </tr>\n",
       "    <tr>\n",
       "      <th>2023-05-08 23:00:00</th>\n",
       "      <td>-0.0951</td>\n",
       "      <td>-0.2003</td>\n",
       "      <td>-0.0186</td>\n",
       "      <td>0.0000</td>\n",
       "      <td>0.0000</td>\n",
       "      <td>0.0000</td>\n",
       "      <td>0.0000</td>\n",
       "      <td>0.0000</td>\n",
       "      <td>0.0000</td>\n",
       "      <td>0.0000</td>\n",
       "      <td>...</td>\n",
       "      <td>0.0439</td>\n",
       "      <td>-0.4797</td>\n",
       "      <td>-0.0616</td>\n",
       "      <td>0.0021</td>\n",
       "      <td>-0.4765</td>\n",
       "      <td>-0.0235</td>\n",
       "      <td>0.0238</td>\n",
       "      <td>-0.5918</td>\n",
       "      <td>0.1259</td>\n",
       "      <td>0.0125</td>\n",
       "    </tr>\n",
       "    <tr>\n",
       "      <th>2023-05-08 23:30:00</th>\n",
       "      <td>0.4258</td>\n",
       "      <td>0.1745</td>\n",
       "      <td>-0.0253</td>\n",
       "      <td>0.0000</td>\n",
       "      <td>0.0000</td>\n",
       "      <td>0.0000</td>\n",
       "      <td>0.0000</td>\n",
       "      <td>0.0000</td>\n",
       "      <td>0.0000</td>\n",
       "      <td>0.0000</td>\n",
       "      <td>...</td>\n",
       "      <td>0.0510</td>\n",
       "      <td>-0.2828</td>\n",
       "      <td>-0.1326</td>\n",
       "      <td>0.0160</td>\n",
       "      <td>-0.3851</td>\n",
       "      <td>-0.1768</td>\n",
       "      <td>0.0323</td>\n",
       "      <td>-0.2324</td>\n",
       "      <td>-0.1528</td>\n",
       "      <td>-0.0028</td>\n",
       "    </tr>\n",
       "  </tbody>\n",
       "</table>\n",
       "<p>7678 rows × 36 columns</p>\n",
       "</div>"
      ],
      "text/plain": [
       "height                 1.0                                                   \\\n",
       "tower                     c                       d                      ue   \n",
       "measurement           u_tc_   v_tc_   w_tc_   u_tc_   v_tc_   w_tc_   u_tc_   \n",
       "time                                                                          \n",
       "2022-11-30 00:00:00 -0.0674  0.1582 -0.0203 -0.0226  0.1021 -0.0218 -0.1716   \n",
       "2022-11-30 00:30:00 -0.2295  0.2938 -0.0135 -0.1212  0.2718 -0.0139 -0.3598   \n",
       "2022-11-30 01:00:00 -0.1569  0.0335 -0.0094 -0.0093 -0.0229 -0.0053 -0.1105   \n",
       "2022-11-30 01:30:00  0.0009 -0.0341 -0.0137  0.0481 -0.0272 -0.0102 -0.0407   \n",
       "2022-11-30 02:00:00 -0.0671  0.0908 -0.0088 -0.0014  0.0658 -0.0068 -0.1517   \n",
       "...                     ...     ...     ...     ...     ...     ...     ...   \n",
       "2023-05-08 21:30:00 -0.1731  1.0900 -0.0691  0.0000  0.0000  0.0000  0.0000   \n",
       "2023-05-08 22:00:00  0.0506 -0.1076 -0.0178  0.0000  0.0000  0.0000  0.0000   \n",
       "2023-05-08 22:30:00  0.1383 -0.2215 -0.0099  0.0000  0.0000  0.0000  0.0000   \n",
       "2023-05-08 23:00:00 -0.0951 -0.2003 -0.0186  0.0000  0.0000  0.0000  0.0000   \n",
       "2023-05-08 23:30:00  0.4258  0.1745 -0.0253  0.0000  0.0000  0.0000  0.0000   \n",
       "\n",
       "height                                       ...    10.0                  \\\n",
       "tower                                    uw  ...       c       d           \n",
       "measurement           v_tc_   w_tc_   u_tc_  ...   w_tc_   u_tc_   v_tc_   \n",
       "time                                         ...                           \n",
       "2022-11-30 00:00:00  0.1064 -0.0203  0.1468  ...  0.0422 -0.7459 -0.0608   \n",
       "2022-11-30 00:30:00  0.2681 -0.0197  0.0908  ...  0.0182 -0.4149  0.0622   \n",
       "2022-11-30 01:00:00  0.0074 -0.0021  0.0245  ... -0.0064 -0.2581  0.0090   \n",
       "2022-11-30 01:30:00 -0.0262 -0.0131  0.0604  ...  0.0188 -0.2786  0.0457   \n",
       "2022-11-30 02:00:00  0.0952 -0.0179  0.1217  ...  0.0152 -0.3046  0.0824   \n",
       "...                     ...     ...     ...  ...     ...     ...     ...   \n",
       "2023-05-08 21:30:00  0.0000  0.0000  0.0000  ... -0.1050 -0.9438  0.9916   \n",
       "2023-05-08 22:00:00  0.0000  0.0000  0.0000  ...  0.0028  0.4501 -0.4979   \n",
       "2023-05-08 22:30:00  0.0000  0.0000  0.0000  ...  0.0069 -0.1858 -0.4071   \n",
       "2023-05-08 23:00:00  0.0000  0.0000  0.0000  ...  0.0439 -0.4797 -0.0616   \n",
       "2023-05-08 23:30:00  0.0000  0.0000  0.0000  ...  0.0510 -0.2828 -0.1326   \n",
       "\n",
       "height                                                                       \n",
       "tower                            ue                      uw                  \n",
       "measurement           w_tc_   u_tc_   v_tc_   w_tc_   u_tc_   v_tc_   w_tc_  \n",
       "time                                                                         \n",
       "2022-11-30 00:00:00  0.0360 -0.9263 -0.0424  0.0388 -0.7198  0.0436  0.0608  \n",
       "2022-11-30 00:30:00  0.0128 -0.4323  0.1328 -0.0057 -0.4289  0.2197  0.0129  \n",
       "2022-11-30 01:00:00 -0.0027 -0.2444  0.0067  0.0081 -0.2947  0.1271  0.0156  \n",
       "2022-11-30 01:30:00  0.0161 -0.3969  0.1331  0.0102 -0.2328  0.0881  0.0026  \n",
       "2022-11-30 02:00:00  0.0043 -0.3388  0.1545  0.0026 -0.2224  0.1263 -0.0177  \n",
       "...                     ...     ...     ...     ...     ...     ...     ...  \n",
       "2023-05-08 21:30:00 -0.1117 -0.9355  1.1978 -0.0821 -0.9600  1.5156 -0.1037  \n",
       "2023-05-08 22:00:00  0.0947  0.4328 -0.5384  0.0317  0.3765 -0.6885 -0.0645  \n",
       "2023-05-08 22:30:00 -0.0045 -0.2219 -0.4112 -0.0327 -0.2899 -0.5273  0.0027  \n",
       "2023-05-08 23:00:00  0.0021 -0.4765 -0.0235  0.0238 -0.5918  0.1259  0.0125  \n",
       "2023-05-08 23:30:00  0.0160 -0.3851 -0.1768  0.0323 -0.2324 -0.1528 -0.0028  \n",
       "\n",
       "[7678 rows x 36 columns]"
      ]
     },
     "execution_count": 20,
     "metadata": {},
     "output_type": "execute_result"
    }
   ],
   "source": [
    "temp_turb_flux_field_df = tidy_df[tidy_df.measurement.isin(['u_tc_','v_tc_','w_tc_']) & tidy_df.height.isin(HEIGHTS)]\n",
    "temp_turb_flux_field_df = round(temp_turb_flux_field_df.pivot_table(index='time', columns=['height', 'tower', 'measurement'], values='value'), 4)\n",
    "temp_turb_flux_field_df"
   ]
  },
  {
   "cell_type": "markdown",
   "metadata": {},
   "source": [
    "## Humidity measurements"
   ]
  },
  {
   "cell_type": "code",
   "execution_count": 21,
   "metadata": {},
   "outputs": [
    {
     "name": "stderr",
     "output_type": "stream",
     "text": [
      "/var/folders/x_/2h52bcjx2px15bhmdpdd748h0000gn/T/ipykernel_17809/4019576317.py:2: SettingWithCopyWarning: \n",
      "A value is trying to be set on a copy of a slice from a DataFrame.\n",
      "Try using .loc[row_indexer,col_indexer] = value instead\n",
      "\n",
      "See the caveats in the documentation: https://pandas.pydata.org/pandas-docs/stable/user_guide/indexing.html#returning-a-view-versus-a-copy\n",
      "  abs_hum_field_df.measurement = 'q'\n"
     ]
    },
    {
     "data": {
      "text/html": [
       "<div>\n",
       "<style scoped>\n",
       "    .dataframe tbody tr th:only-of-type {\n",
       "        vertical-align: middle;\n",
       "    }\n",
       "\n",
       "    .dataframe tbody tr th {\n",
       "        vertical-align: top;\n",
       "    }\n",
       "\n",
       "    .dataframe thead tr th {\n",
       "        text-align: left;\n",
       "    }\n",
       "\n",
       "    .dataframe thead tr:last-of-type th {\n",
       "        text-align: right;\n",
       "    }\n",
       "</style>\n",
       "<table border=\"1\" class=\"dataframe\">\n",
       "  <thead>\n",
       "    <tr>\n",
       "      <th>height</th>\n",
       "      <th colspan=\"4\" halign=\"left\">1.0</th>\n",
       "      <th colspan=\"4\" halign=\"left\">3.0</th>\n",
       "      <th colspan=\"4\" halign=\"left\">10.0</th>\n",
       "    </tr>\n",
       "    <tr>\n",
       "      <th>tower</th>\n",
       "      <th>c</th>\n",
       "      <th>d</th>\n",
       "      <th>ue</th>\n",
       "      <th>uw</th>\n",
       "      <th>c</th>\n",
       "      <th>d</th>\n",
       "      <th>ue</th>\n",
       "      <th>uw</th>\n",
       "      <th>c</th>\n",
       "      <th>d</th>\n",
       "      <th>ue</th>\n",
       "      <th>uw</th>\n",
       "    </tr>\n",
       "    <tr>\n",
       "      <th>measurement</th>\n",
       "      <th>q</th>\n",
       "      <th>q</th>\n",
       "      <th>q</th>\n",
       "      <th>q</th>\n",
       "      <th>q</th>\n",
       "      <th>q</th>\n",
       "      <th>q</th>\n",
       "      <th>q</th>\n",
       "      <th>q</th>\n",
       "      <th>q</th>\n",
       "      <th>q</th>\n",
       "      <th>q</th>\n",
       "    </tr>\n",
       "    <tr>\n",
       "      <th>time</th>\n",
       "      <th></th>\n",
       "      <th></th>\n",
       "      <th></th>\n",
       "      <th></th>\n",
       "      <th></th>\n",
       "      <th></th>\n",
       "      <th></th>\n",
       "      <th></th>\n",
       "      <th></th>\n",
       "      <th></th>\n",
       "      <th></th>\n",
       "      <th></th>\n",
       "    </tr>\n",
       "  </thead>\n",
       "  <tbody>\n",
       "    <tr>\n",
       "      <th>2022-11-30 00:00:00</th>\n",
       "      <td>0.6368</td>\n",
       "      <td>1.1511</td>\n",
       "      <td>0.8079</td>\n",
       "      <td>0.6601</td>\n",
       "      <td>1.2014</td>\n",
       "      <td>0.7557</td>\n",
       "      <td>0.7910</td>\n",
       "      <td>0.8712</td>\n",
       "      <td>1.0100</td>\n",
       "      <td>0.9129</td>\n",
       "      <td>1.0043</td>\n",
       "      <td>1.0080</td>\n",
       "    </tr>\n",
       "    <tr>\n",
       "      <th>2022-11-30 00:30:00</th>\n",
       "      <td>0.7361</td>\n",
       "      <td>1.2460</td>\n",
       "      <td>0.8012</td>\n",
       "      <td>0.6732</td>\n",
       "      <td>1.3122</td>\n",
       "      <td>0.7871</td>\n",
       "      <td>0.7597</td>\n",
       "      <td>0.9396</td>\n",
       "      <td>1.0500</td>\n",
       "      <td>0.9741</td>\n",
       "      <td>1.0801</td>\n",
       "      <td>1.1266</td>\n",
       "    </tr>\n",
       "    <tr>\n",
       "      <th>2022-11-30 01:00:00</th>\n",
       "      <td>0.7683</td>\n",
       "      <td>1.2487</td>\n",
       "      <td>0.8021</td>\n",
       "      <td>0.6620</td>\n",
       "      <td>1.3318</td>\n",
       "      <td>0.7879</td>\n",
       "      <td>0.7878</td>\n",
       "      <td>0.9677</td>\n",
       "      <td>1.0802</td>\n",
       "      <td>1.0060</td>\n",
       "      <td>1.1242</td>\n",
       "      <td>1.1647</td>\n",
       "    </tr>\n",
       "    <tr>\n",
       "      <th>2022-11-30 01:30:00</th>\n",
       "      <td>0.7255</td>\n",
       "      <td>1.2021</td>\n",
       "      <td>0.8013</td>\n",
       "      <td>0.6291</td>\n",
       "      <td>1.3032</td>\n",
       "      <td>0.7972</td>\n",
       "      <td>0.8062</td>\n",
       "      <td>0.9279</td>\n",
       "      <td>1.0609</td>\n",
       "      <td>0.9826</td>\n",
       "      <td>1.0908</td>\n",
       "      <td>1.1431</td>\n",
       "    </tr>\n",
       "    <tr>\n",
       "      <th>2022-11-30 02:00:00</th>\n",
       "      <td>0.7223</td>\n",
       "      <td>1.2450</td>\n",
       "      <td>0.8025</td>\n",
       "      <td>0.6220</td>\n",
       "      <td>1.3354</td>\n",
       "      <td>0.6985</td>\n",
       "      <td>0.7071</td>\n",
       "      <td>0.9482</td>\n",
       "      <td>1.0982</td>\n",
       "      <td>1.0048</td>\n",
       "      <td>1.1195</td>\n",
       "      <td>1.1817</td>\n",
       "    </tr>\n",
       "    <tr>\n",
       "      <th>...</th>\n",
       "      <td>...</td>\n",
       "      <td>...</td>\n",
       "      <td>...</td>\n",
       "      <td>...</td>\n",
       "      <td>...</td>\n",
       "      <td>...</td>\n",
       "      <td>...</td>\n",
       "      <td>...</td>\n",
       "      <td>...</td>\n",
       "      <td>...</td>\n",
       "      <td>...</td>\n",
       "      <td>...</td>\n",
       "    </tr>\n",
       "    <tr>\n",
       "      <th>2023-05-08 21:30:00</th>\n",
       "      <td>2.5807</td>\n",
       "      <td>NaN</td>\n",
       "      <td>NaN</td>\n",
       "      <td>NaN</td>\n",
       "      <td>2.5942</td>\n",
       "      <td>2.7794</td>\n",
       "      <td>2.7680</td>\n",
       "      <td>2.8365</td>\n",
       "      <td>2.5561</td>\n",
       "      <td>2.5983</td>\n",
       "      <td>2.5865</td>\n",
       "      <td>2.3502</td>\n",
       "    </tr>\n",
       "    <tr>\n",
       "      <th>2023-05-08 22:00:00</th>\n",
       "      <td>2.8290</td>\n",
       "      <td>NaN</td>\n",
       "      <td>NaN</td>\n",
       "      <td>NaN</td>\n",
       "      <td>2.7821</td>\n",
       "      <td>2.9329</td>\n",
       "      <td>2.9013</td>\n",
       "      <td>3.0251</td>\n",
       "      <td>2.6759</td>\n",
       "      <td>2.6873</td>\n",
       "      <td>2.7723</td>\n",
       "      <td>2.4496</td>\n",
       "    </tr>\n",
       "    <tr>\n",
       "      <th>2023-05-08 22:30:00</th>\n",
       "      <td>2.9706</td>\n",
       "      <td>NaN</td>\n",
       "      <td>NaN</td>\n",
       "      <td>NaN</td>\n",
       "      <td>3.0374</td>\n",
       "      <td>3.1592</td>\n",
       "      <td>3.1466</td>\n",
       "      <td>3.2406</td>\n",
       "      <td>3.0294</td>\n",
       "      <td>2.9466</td>\n",
       "      <td>3.0199</td>\n",
       "      <td>2.7060</td>\n",
       "    </tr>\n",
       "    <tr>\n",
       "      <th>2023-05-08 23:00:00</th>\n",
       "      <td>3.0299</td>\n",
       "      <td>NaN</td>\n",
       "      <td>NaN</td>\n",
       "      <td>NaN</td>\n",
       "      <td>3.0192</td>\n",
       "      <td>3.1797</td>\n",
       "      <td>3.1437</td>\n",
       "      <td>3.2513</td>\n",
       "      <td>3.0204</td>\n",
       "      <td>2.9436</td>\n",
       "      <td>2.9582</td>\n",
       "      <td>2.6858</td>\n",
       "    </tr>\n",
       "    <tr>\n",
       "      <th>2023-05-08 23:30:00</th>\n",
       "      <td>3.0041</td>\n",
       "      <td>NaN</td>\n",
       "      <td>NaN</td>\n",
       "      <td>NaN</td>\n",
       "      <td>2.9978</td>\n",
       "      <td>3.1475</td>\n",
       "      <td>3.1353</td>\n",
       "      <td>3.2354</td>\n",
       "      <td>2.9176</td>\n",
       "      <td>2.8493</td>\n",
       "      <td>2.8718</td>\n",
       "      <td>2.5963</td>\n",
       "    </tr>\n",
       "  </tbody>\n",
       "</table>\n",
       "<p>7404 rows × 12 columns</p>\n",
       "</div>"
      ],
      "text/plain": [
       "height                 1.0                             3.0                   \\\n",
       "tower                     c       d      ue      uw       c       d      ue   \n",
       "measurement               q       q       q       q       q       q       q   \n",
       "time                                                                          \n",
       "2022-11-30 00:00:00  0.6368  1.1511  0.8079  0.6601  1.2014  0.7557  0.7910   \n",
       "2022-11-30 00:30:00  0.7361  1.2460  0.8012  0.6732  1.3122  0.7871  0.7597   \n",
       "2022-11-30 01:00:00  0.7683  1.2487  0.8021  0.6620  1.3318  0.7879  0.7878   \n",
       "2022-11-30 01:30:00  0.7255  1.2021  0.8013  0.6291  1.3032  0.7972  0.8062   \n",
       "2022-11-30 02:00:00  0.7223  1.2450  0.8025  0.6220  1.3354  0.6985  0.7071   \n",
       "...                     ...     ...     ...     ...     ...     ...     ...   \n",
       "2023-05-08 21:30:00  2.5807     NaN     NaN     NaN  2.5942  2.7794  2.7680   \n",
       "2023-05-08 22:00:00  2.8290     NaN     NaN     NaN  2.7821  2.9329  2.9013   \n",
       "2023-05-08 22:30:00  2.9706     NaN     NaN     NaN  3.0374  3.1592  3.1466   \n",
       "2023-05-08 23:00:00  3.0299     NaN     NaN     NaN  3.0192  3.1797  3.1437   \n",
       "2023-05-08 23:30:00  3.0041     NaN     NaN     NaN  2.9978  3.1475  3.1353   \n",
       "\n",
       "height                         10.0                          \n",
       "tower                    uw       c       d      ue      uw  \n",
       "measurement               q       q       q       q       q  \n",
       "time                                                         \n",
       "2022-11-30 00:00:00  0.8712  1.0100  0.9129  1.0043  1.0080  \n",
       "2022-11-30 00:30:00  0.9396  1.0500  0.9741  1.0801  1.1266  \n",
       "2022-11-30 01:00:00  0.9677  1.0802  1.0060  1.1242  1.1647  \n",
       "2022-11-30 01:30:00  0.9279  1.0609  0.9826  1.0908  1.1431  \n",
       "2022-11-30 02:00:00  0.9482  1.0982  1.0048  1.1195  1.1817  \n",
       "...                     ...     ...     ...     ...     ...  \n",
       "2023-05-08 21:30:00  2.8365  2.5561  2.5983  2.5865  2.3502  \n",
       "2023-05-08 22:00:00  3.0251  2.6759  2.6873  2.7723  2.4496  \n",
       "2023-05-08 22:30:00  3.2406  3.0294  2.9466  3.0199  2.7060  \n",
       "2023-05-08 23:00:00  3.2513  3.0204  2.9436  2.9582  2.6858  \n",
       "2023-05-08 23:30:00  3.2354  2.9176  2.8493  2.8718  2.5963  \n",
       "\n",
       "[7404 rows x 12 columns]"
      ]
     },
     "execution_count": 21,
     "metadata": {},
     "output_type": "execute_result"
    }
   ],
   "source": [
    "abs_hum_field_df = tidy_df[tidy_df.measurement.isin(['Water vapor density']) & tidy_df.height.isin(HEIGHTS)]\n",
    "abs_hum_field_df.measurement = 'q'\n",
    "abs_hum_field_df = round(\n",
    "    abs_hum_field_df.pivot_table(\n",
    "        index='time', columns=['height', 'tower', 'measurement'], values='value'\n",
    "    ), \n",
    "    4\n",
    ")\n",
    "abs_hum_field_df"
   ]
  },
  {
   "cell_type": "markdown",
   "metadata": {},
   "source": [
    "## Advective flux measurements"
   ]
  },
  {
   "cell_type": "code",
   "execution_count": 22,
   "metadata": {},
   "outputs": [
    {
     "data": {
      "text/html": [
       "<div>\n",
       "<style scoped>\n",
       "    .dataframe tbody tr th:only-of-type {\n",
       "        vertical-align: middle;\n",
       "    }\n",
       "\n",
       "    .dataframe tbody tr th {\n",
       "        vertical-align: top;\n",
       "    }\n",
       "\n",
       "    .dataframe thead tr th {\n",
       "        text-align: left;\n",
       "    }\n",
       "\n",
       "    .dataframe thead tr:last-of-type th {\n",
       "        text-align: right;\n",
       "    }\n",
       "</style>\n",
       "<table border=\"1\" class=\"dataframe\">\n",
       "  <thead>\n",
       "    <tr>\n",
       "      <th>height</th>\n",
       "      <th colspan=\"10\" halign=\"left\">1.0</th>\n",
       "      <th>...</th>\n",
       "      <th colspan=\"10\" halign=\"left\">10.0</th>\n",
       "    </tr>\n",
       "    <tr>\n",
       "      <th>tower</th>\n",
       "      <th colspan=\"3\" halign=\"left\">c</th>\n",
       "      <th colspan=\"3\" halign=\"left\">d</th>\n",
       "      <th colspan=\"3\" halign=\"left\">ue</th>\n",
       "      <th>uw</th>\n",
       "      <th>...</th>\n",
       "      <th>c</th>\n",
       "      <th colspan=\"3\" halign=\"left\">d</th>\n",
       "      <th colspan=\"3\" halign=\"left\">ue</th>\n",
       "      <th colspan=\"3\" halign=\"left\">uw</th>\n",
       "    </tr>\n",
       "    <tr>\n",
       "      <th>measurement</th>\n",
       "      <th>uq</th>\n",
       "      <th>vq</th>\n",
       "      <th>wq</th>\n",
       "      <th>uq</th>\n",
       "      <th>vq</th>\n",
       "      <th>wq</th>\n",
       "      <th>uq</th>\n",
       "      <th>vq</th>\n",
       "      <th>wq</th>\n",
       "      <th>uq</th>\n",
       "      <th>...</th>\n",
       "      <th>wq</th>\n",
       "      <th>uq</th>\n",
       "      <th>vq</th>\n",
       "      <th>wq</th>\n",
       "      <th>uq</th>\n",
       "      <th>vq</th>\n",
       "      <th>wq</th>\n",
       "      <th>uq</th>\n",
       "      <th>vq</th>\n",
       "      <th>wq</th>\n",
       "    </tr>\n",
       "    <tr>\n",
       "      <th>time</th>\n",
       "      <th></th>\n",
       "      <th></th>\n",
       "      <th></th>\n",
       "      <th></th>\n",
       "      <th></th>\n",
       "      <th></th>\n",
       "      <th></th>\n",
       "      <th></th>\n",
       "      <th></th>\n",
       "      <th></th>\n",
       "      <th></th>\n",
       "      <th></th>\n",
       "      <th></th>\n",
       "      <th></th>\n",
       "      <th></th>\n",
       "      <th></th>\n",
       "      <th></th>\n",
       "      <th></th>\n",
       "      <th></th>\n",
       "      <th></th>\n",
       "      <th></th>\n",
       "    </tr>\n",
       "  </thead>\n",
       "  <tbody>\n",
       "    <tr>\n",
       "      <th>2022-11-30 00:00:00</th>\n",
       "      <td>0.537587</td>\n",
       "      <td>-1.274810</td>\n",
       "      <td>-0.024708</td>\n",
       "      <td>0.948622</td>\n",
       "      <td>-2.143463</td>\n",
       "      <td>-0.029698</td>\n",
       "      <td>0.615701</td>\n",
       "      <td>-1.565145</td>\n",
       "      <td>-0.039668</td>\n",
       "      <td>0.205489</td>\n",
       "      <td>...</td>\n",
       "      <td>-0.083123</td>\n",
       "      <td>2.301969</td>\n",
       "      <td>-1.998521</td>\n",
       "      <td>-0.005934</td>\n",
       "      <td>2.215787</td>\n",
       "      <td>-2.381798</td>\n",
       "      <td>0.038666</td>\n",
       "      <td>1.921450</td>\n",
       "      <td>-2.732789</td>\n",
       "      <td>-0.000101</td>\n",
       "    </tr>\n",
       "    <tr>\n",
       "      <th>2022-11-30 00:30:00</th>\n",
       "      <td>-0.190797</td>\n",
       "      <td>-0.755754</td>\n",
       "      <td>-0.018771</td>\n",
       "      <td>-0.213938</td>\n",
       "      <td>-1.278770</td>\n",
       "      <td>-0.037006</td>\n",
       "      <td>-0.259989</td>\n",
       "      <td>-0.876032</td>\n",
       "      <td>-0.041102</td>\n",
       "      <td>-0.157058</td>\n",
       "      <td>...</td>\n",
       "      <td>-0.035910</td>\n",
       "      <td>-0.070914</td>\n",
       "      <td>-0.796132</td>\n",
       "      <td>0.018410</td>\n",
       "      <td>-0.273157</td>\n",
       "      <td>-0.832541</td>\n",
       "      <td>0.031107</td>\n",
       "      <td>-0.255513</td>\n",
       "      <td>-0.875819</td>\n",
       "      <td>-0.013632</td>\n",
       "    </tr>\n",
       "    <tr>\n",
       "      <th>2022-11-30 01:00:00</th>\n",
       "      <td>0.230106</td>\n",
       "      <td>-0.870561</td>\n",
       "      <td>-0.022358</td>\n",
       "      <td>0.436171</td>\n",
       "      <td>-1.341603</td>\n",
       "      <td>-0.024849</td>\n",
       "      <td>0.230122</td>\n",
       "      <td>-0.903886</td>\n",
       "      <td>-0.038741</td>\n",
       "      <td>0.058587</td>\n",
       "      <td>...</td>\n",
       "      <td>-0.061139</td>\n",
       "      <td>0.611346</td>\n",
       "      <td>-0.665972</td>\n",
       "      <td>0.002817</td>\n",
       "      <td>0.520055</td>\n",
       "      <td>-0.826737</td>\n",
       "      <td>0.025744</td>\n",
       "      <td>0.554630</td>\n",
       "      <td>-1.010960</td>\n",
       "      <td>-0.024459</td>\n",
       "    </tr>\n",
       "    <tr>\n",
       "      <th>2022-11-30 01:30:00</th>\n",
       "      <td>0.475130</td>\n",
       "      <td>-1.161090</td>\n",
       "      <td>-0.024522</td>\n",
       "      <td>0.773071</td>\n",
       "      <td>-1.767207</td>\n",
       "      <td>-0.027769</td>\n",
       "      <td>0.484226</td>\n",
       "      <td>-1.245060</td>\n",
       "      <td>-0.040786</td>\n",
       "      <td>0.082035</td>\n",
       "      <td>...</td>\n",
       "      <td>-0.097815</td>\n",
       "      <td>1.865073</td>\n",
       "      <td>-1.478813</td>\n",
       "      <td>-0.031640</td>\n",
       "      <td>1.886102</td>\n",
       "      <td>-1.838434</td>\n",
       "      <td>-0.006436</td>\n",
       "      <td>1.669955</td>\n",
       "      <td>-2.289858</td>\n",
       "      <td>-0.085847</td>\n",
       "    </tr>\n",
       "    <tr>\n",
       "      <th>2022-11-30 02:00:00</th>\n",
       "      <td>-0.209756</td>\n",
       "      <td>-0.626595</td>\n",
       "      <td>-0.021886</td>\n",
       "      <td>-0.307391</td>\n",
       "      <td>-1.112159</td>\n",
       "      <td>-0.031250</td>\n",
       "      <td>-0.291307</td>\n",
       "      <td>-0.782678</td>\n",
       "      <td>-0.044860</td>\n",
       "      <td>-0.183739</td>\n",
       "      <td>...</td>\n",
       "      <td>-0.030859</td>\n",
       "      <td>-0.023110</td>\n",
       "      <td>-0.587507</td>\n",
       "      <td>0.023110</td>\n",
       "      <td>-0.201174</td>\n",
       "      <td>-0.537024</td>\n",
       "      <td>0.061125</td>\n",
       "      <td>-0.083664</td>\n",
       "      <td>-0.608339</td>\n",
       "      <td>-0.040414</td>\n",
       "    </tr>\n",
       "    <tr>\n",
       "      <th>...</th>\n",
       "      <td>...</td>\n",
       "      <td>...</td>\n",
       "      <td>...</td>\n",
       "      <td>...</td>\n",
       "      <td>...</td>\n",
       "      <td>...</td>\n",
       "      <td>...</td>\n",
       "      <td>...</td>\n",
       "      <td>...</td>\n",
       "      <td>...</td>\n",
       "      <td>...</td>\n",
       "      <td>...</td>\n",
       "      <td>...</td>\n",
       "      <td>...</td>\n",
       "      <td>...</td>\n",
       "      <td>...</td>\n",
       "      <td>...</td>\n",
       "      <td>...</td>\n",
       "      <td>...</td>\n",
       "      <td>...</td>\n",
       "      <td>...</td>\n",
       "    </tr>\n",
       "    <tr>\n",
       "      <th>2023-05-08 21:30:00</th>\n",
       "      <td>1.318738</td>\n",
       "      <td>-0.412654</td>\n",
       "      <td>-0.106067</td>\n",
       "      <td>NaN</td>\n",
       "      <td>NaN</td>\n",
       "      <td>NaN</td>\n",
       "      <td>NaN</td>\n",
       "      <td>NaN</td>\n",
       "      <td>NaN</td>\n",
       "      <td>NaN</td>\n",
       "      <td>...</td>\n",
       "      <td>-0.647716</td>\n",
       "      <td>2.658321</td>\n",
       "      <td>0.025983</td>\n",
       "      <td>-0.143946</td>\n",
       "      <td>2.523648</td>\n",
       "      <td>0.417461</td>\n",
       "      <td>-0.213645</td>\n",
       "      <td>1.948551</td>\n",
       "      <td>-0.158403</td>\n",
       "      <td>-0.276619</td>\n",
       "    </tr>\n",
       "    <tr>\n",
       "      <th>2023-05-08 22:00:00</th>\n",
       "      <td>0.408508</td>\n",
       "      <td>-3.148111</td>\n",
       "      <td>-0.021783</td>\n",
       "      <td>NaN</td>\n",
       "      <td>NaN</td>\n",
       "      <td>NaN</td>\n",
       "      <td>NaN</td>\n",
       "      <td>NaN</td>\n",
       "      <td>NaN</td>\n",
       "      <td>NaN</td>\n",
       "      <td>...</td>\n",
       "      <td>-0.225846</td>\n",
       "      <td>3.517676</td>\n",
       "      <td>-2.460492</td>\n",
       "      <td>0.039503</td>\n",
       "      <td>3.518603</td>\n",
       "      <td>-2.757884</td>\n",
       "      <td>0.056000</td>\n",
       "      <td>2.773192</td>\n",
       "      <td>-3.156065</td>\n",
       "      <td>-0.001225</td>\n",
       "    </tr>\n",
       "    <tr>\n",
       "      <th>2023-05-08 22:30:00</th>\n",
       "      <td>-0.985348</td>\n",
       "      <td>-1.208143</td>\n",
       "      <td>-0.058224</td>\n",
       "      <td>NaN</td>\n",
       "      <td>NaN</td>\n",
       "      <td>NaN</td>\n",
       "      <td>NaN</td>\n",
       "      <td>NaN</td>\n",
       "      <td>NaN</td>\n",
       "      <td>NaN</td>\n",
       "      <td>...</td>\n",
       "      <td>-0.324146</td>\n",
       "      <td>-0.687442</td>\n",
       "      <td>0.269025</td>\n",
       "      <td>-0.011786</td>\n",
       "      <td>-0.547810</td>\n",
       "      <td>0.528784</td>\n",
       "      <td>0.049828</td>\n",
       "      <td>-0.536870</td>\n",
       "      <td>0.131512</td>\n",
       "      <td>0.022189</td>\n",
       "    </tr>\n",
       "    <tr>\n",
       "      <th>2023-05-08 23:00:00</th>\n",
       "      <td>0.821406</td>\n",
       "      <td>-4.942070</td>\n",
       "      <td>-0.080898</td>\n",
       "      <td>NaN</td>\n",
       "      <td>NaN</td>\n",
       "      <td>NaN</td>\n",
       "      <td>NaN</td>\n",
       "      <td>NaN</td>\n",
       "      <td>NaN</td>\n",
       "      <td>NaN</td>\n",
       "      <td>...</td>\n",
       "      <td>-0.193004</td>\n",
       "      <td>2.391086</td>\n",
       "      <td>-4.963498</td>\n",
       "      <td>0.155716</td>\n",
       "      <td>1.750959</td>\n",
       "      <td>-5.249918</td>\n",
       "      <td>0.080463</td>\n",
       "      <td>1.139316</td>\n",
       "      <td>-5.105974</td>\n",
       "      <td>-0.052105</td>\n",
       "    </tr>\n",
       "    <tr>\n",
       "      <th>2023-05-08 23:30:00</th>\n",
       "      <td>2.152438</td>\n",
       "      <td>-5.386051</td>\n",
       "      <td>-0.094329</td>\n",
       "      <td>NaN</td>\n",
       "      <td>NaN</td>\n",
       "      <td>NaN</td>\n",
       "      <td>NaN</td>\n",
       "      <td>NaN</td>\n",
       "      <td>NaN</td>\n",
       "      <td>NaN</td>\n",
       "      <td>...</td>\n",
       "      <td>-0.324145</td>\n",
       "      <td>5.889218</td>\n",
       "      <td>-5.698030</td>\n",
       "      <td>0.084624</td>\n",
       "      <td>5.253384</td>\n",
       "      <td>-6.309919</td>\n",
       "      <td>0.018092</td>\n",
       "      <td>4.087095</td>\n",
       "      <td>-6.504510</td>\n",
       "      <td>-0.094505</td>\n",
       "    </tr>\n",
       "  </tbody>\n",
       "</table>\n",
       "<p>7449 rows × 36 columns</p>\n",
       "</div>"
      ],
      "text/plain": [
       "height                   1.0                                           \\\n",
       "tower                       c                             d             \n",
       "measurement                uq        vq        wq        uq        vq   \n",
       "time                                                                    \n",
       "2022-11-30 00:00:00  0.537587 -1.274810 -0.024708  0.948622 -2.143463   \n",
       "2022-11-30 00:30:00 -0.190797 -0.755754 -0.018771 -0.213938 -1.278770   \n",
       "2022-11-30 01:00:00  0.230106 -0.870561 -0.022358  0.436171 -1.341603   \n",
       "2022-11-30 01:30:00  0.475130 -1.161090 -0.024522  0.773071 -1.767207   \n",
       "2022-11-30 02:00:00 -0.209756 -0.626595 -0.021886 -0.307391 -1.112159   \n",
       "...                       ...       ...       ...       ...       ...   \n",
       "2023-05-08 21:30:00  1.318738 -0.412654 -0.106067       NaN       NaN   \n",
       "2023-05-08 22:00:00  0.408508 -3.148111 -0.021783       NaN       NaN   \n",
       "2023-05-08 22:30:00 -0.985348 -1.208143 -0.058224       NaN       NaN   \n",
       "2023-05-08 23:00:00  0.821406 -4.942070 -0.080898       NaN       NaN   \n",
       "2023-05-08 23:30:00  2.152438 -5.386051 -0.094329       NaN       NaN   \n",
       "\n",
       "height                                                                 ...  \\\n",
       "tower                                ue                            uw  ...   \n",
       "measurement                wq        uq        vq        wq        uq  ...   \n",
       "time                                                                   ...   \n",
       "2022-11-30 00:00:00 -0.029698  0.615701 -1.565145 -0.039668  0.205489  ...   \n",
       "2022-11-30 00:30:00 -0.037006 -0.259989 -0.876032 -0.041102 -0.157058  ...   \n",
       "2022-11-30 01:00:00 -0.024849  0.230122 -0.903886 -0.038741  0.058587  ...   \n",
       "2022-11-30 01:30:00 -0.027769  0.484226 -1.245060 -0.040786  0.082035  ...   \n",
       "2022-11-30 02:00:00 -0.031250 -0.291307 -0.782678 -0.044860 -0.183739  ...   \n",
       "...                       ...       ...       ...       ...       ...  ...   \n",
       "2023-05-08 21:30:00       NaN       NaN       NaN       NaN       NaN  ...   \n",
       "2023-05-08 22:00:00       NaN       NaN       NaN       NaN       NaN  ...   \n",
       "2023-05-08 22:30:00       NaN       NaN       NaN       NaN       NaN  ...   \n",
       "2023-05-08 23:00:00       NaN       NaN       NaN       NaN       NaN  ...   \n",
       "2023-05-08 23:30:00       NaN       NaN       NaN       NaN       NaN  ...   \n",
       "\n",
       "height                   10.0                                          \\\n",
       "tower                       c         d                            ue   \n",
       "measurement                wq        uq        vq        wq        uq   \n",
       "time                                                                    \n",
       "2022-11-30 00:00:00 -0.083123  2.301969 -1.998521 -0.005934  2.215787   \n",
       "2022-11-30 00:30:00 -0.035910 -0.070914 -0.796132  0.018410 -0.273157   \n",
       "2022-11-30 01:00:00 -0.061139  0.611346 -0.665972  0.002817  0.520055   \n",
       "2022-11-30 01:30:00 -0.097815  1.865073 -1.478813 -0.031640  1.886102   \n",
       "2022-11-30 02:00:00 -0.030859 -0.023110 -0.587507  0.023110 -0.201174   \n",
       "...                       ...       ...       ...       ...       ...   \n",
       "2023-05-08 21:30:00 -0.647716  2.658321  0.025983 -0.143946  2.523648   \n",
       "2023-05-08 22:00:00 -0.225846  3.517676 -2.460492  0.039503  3.518603   \n",
       "2023-05-08 22:30:00 -0.324146 -0.687442  0.269025 -0.011786 -0.547810   \n",
       "2023-05-08 23:00:00 -0.193004  2.391086 -4.963498  0.155716  1.750959   \n",
       "2023-05-08 23:30:00 -0.324145  5.889218 -5.698030  0.084624  5.253384   \n",
       "\n",
       "height                                                                 \n",
       "tower                                          uw                      \n",
       "measurement                vq        wq        uq        vq        wq  \n",
       "time                                                                   \n",
       "2022-11-30 00:00:00 -2.381798  0.038666  1.921450 -2.732789 -0.000101  \n",
       "2022-11-30 00:30:00 -0.832541  0.031107 -0.255513 -0.875819 -0.013632  \n",
       "2022-11-30 01:00:00 -0.826737  0.025744  0.554630 -1.010960 -0.024459  \n",
       "2022-11-30 01:30:00 -1.838434 -0.006436  1.669955 -2.289858 -0.085847  \n",
       "2022-11-30 02:00:00 -0.537024  0.061125 -0.083664 -0.608339 -0.040414  \n",
       "...                       ...       ...       ...       ...       ...  \n",
       "2023-05-08 21:30:00  0.417461 -0.213645  1.948551 -0.158403 -0.276619  \n",
       "2023-05-08 22:00:00 -2.757884  0.056000  2.773192 -3.156065 -0.001225  \n",
       "2023-05-08 22:30:00  0.528784  0.049828 -0.536870  0.131512  0.022189  \n",
       "2023-05-08 23:00:00 -5.249918  0.080463  1.139316 -5.105974 -0.052105  \n",
       "2023-05-08 23:30:00 -6.309919  0.018092  4.087095 -6.504510 -0.094505  \n",
       "\n",
       "[7449 rows x 36 columns]"
      ]
     },
     "execution_count": 22,
     "metadata": {},
     "output_type": "execute_result"
    }
   ],
   "source": [
    "ls = []\n",
    "for h in wind_field_df.columns.get_level_values('height').unique():\n",
    "    for t in wind_field_df.columns.get_level_values('tower').unique():\n",
    "        this_wind_df = wind_field_df[(h,t)].copy()\n",
    "        this_abs_hum_df = abs_hum_field_df[(h,t)].copy()  \n",
    "        this_wind_df['uq'] = this_wind_df['u']*this_abs_hum_df['q']\n",
    "        this_wind_df['vq'] = this_wind_df['v']*this_abs_hum_df['q']\n",
    "        this_wind_df['wq'] = this_wind_df['w']*this_abs_hum_df['q']\n",
    "        new = pd.concat([this_wind_df], axis=1, keys=[(h,t)])\n",
    "        ls.append(new.drop(columns=[(h,t,'u'),(h,t,'v'),(h,t,'w')]))\n",
    "\n",
    "adv_flux_field_df = ls[0]\n",
    "for l in ls[1:]:\n",
    "    adv_flux_field_df = adv_flux_field_df.join(l)\n",
    "adv_flux_field_df.columns = adv_flux_field_df.columns.set_names('height', level=0)\n",
    "adv_flux_field_df.columns = adv_flux_field_df.columns.set_names('tower', level=1)\n",
    "adv_flux_field_df"
   ]
  },
  {
   "cell_type": "markdown",
   "metadata": {},
   "source": [
    "## Dry air density measurements"
   ]
  },
  {
   "cell_type": "code",
   "execution_count": 23,
   "metadata": {},
   "outputs": [
    {
     "name": "stderr",
     "output_type": "stream",
     "text": [
      "/var/folders/x_/2h52bcjx2px15bhmdpdd748h0000gn/T/ipykernel_17809/809722049.py:3: SettingWithCopyWarning: \n",
      "A value is trying to be set on a copy of a slice from a DataFrame.\n",
      "Try using .loc[row_indexer,col_indexer] = value instead\n",
      "\n",
      "See the caveats in the documentation: https://pandas.pydata.org/pandas-docs/stable/user_guide/indexing.html#returning-a-view-versus-a-copy\n",
      "  dryair_density_field_df.measurement = 'rho'\n"
     ]
    },
    {
     "data": {
      "text/html": [
       "<div>\n",
       "<style scoped>\n",
       "    .dataframe tbody tr th:only-of-type {\n",
       "        vertical-align: middle;\n",
       "    }\n",
       "\n",
       "    .dataframe tbody tr th {\n",
       "        vertical-align: top;\n",
       "    }\n",
       "\n",
       "    .dataframe thead tr th {\n",
       "        text-align: left;\n",
       "    }\n",
       "\n",
       "    .dataframe thead tr:last-of-type th {\n",
       "        text-align: right;\n",
       "    }\n",
       "</style>\n",
       "<table border=\"1\" class=\"dataframe\">\n",
       "  <thead>\n",
       "    <tr>\n",
       "      <th>height</th>\n",
       "      <th>1.0</th>\n",
       "      <th>3.0</th>\n",
       "      <th>10.0</th>\n",
       "      <th>1.0</th>\n",
       "      <th>3.0</th>\n",
       "      <th>10.0</th>\n",
       "      <th>1.0</th>\n",
       "      <th>3.0</th>\n",
       "      <th>10.0</th>\n",
       "      <th>1.0</th>\n",
       "      <th>3.0</th>\n",
       "      <th>10.0</th>\n",
       "    </tr>\n",
       "    <tr>\n",
       "      <th>tower</th>\n",
       "      <th>c</th>\n",
       "      <th>c</th>\n",
       "      <th>c</th>\n",
       "      <th>d</th>\n",
       "      <th>d</th>\n",
       "      <th>d</th>\n",
       "      <th>ue</th>\n",
       "      <th>ue</th>\n",
       "      <th>ue</th>\n",
       "      <th>uw</th>\n",
       "      <th>uw</th>\n",
       "      <th>uw</th>\n",
       "    </tr>\n",
       "    <tr>\n",
       "      <th>measurement</th>\n",
       "      <th>rho</th>\n",
       "      <th>rho</th>\n",
       "      <th>rho</th>\n",
       "      <th>rho</th>\n",
       "      <th>rho</th>\n",
       "      <th>rho</th>\n",
       "      <th>rho</th>\n",
       "      <th>rho</th>\n",
       "      <th>rho</th>\n",
       "      <th>rho</th>\n",
       "      <th>rho</th>\n",
       "      <th>rho</th>\n",
       "    </tr>\n",
       "    <tr>\n",
       "      <th>time</th>\n",
       "      <th></th>\n",
       "      <th></th>\n",
       "      <th></th>\n",
       "      <th></th>\n",
       "      <th></th>\n",
       "      <th></th>\n",
       "      <th></th>\n",
       "      <th></th>\n",
       "      <th></th>\n",
       "      <th></th>\n",
       "      <th></th>\n",
       "      <th></th>\n",
       "    </tr>\n",
       "  </thead>\n",
       "  <tbody>\n",
       "    <tr>\n",
       "      <th>2022-11-30 00:00:00</th>\n",
       "      <td>996.7</td>\n",
       "      <td>991.9</td>\n",
       "      <td>984.1</td>\n",
       "      <td>996.7</td>\n",
       "      <td>991.9</td>\n",
       "      <td>984.1</td>\n",
       "      <td>996.7</td>\n",
       "      <td>991.9</td>\n",
       "      <td>984.1</td>\n",
       "      <td>996.7</td>\n",
       "      <td>991.9</td>\n",
       "      <td>984.1</td>\n",
       "    </tr>\n",
       "    <tr>\n",
       "      <th>2022-11-30 00:30:00</th>\n",
       "      <td>991.7</td>\n",
       "      <td>987.7</td>\n",
       "      <td>983.8</td>\n",
       "      <td>991.7</td>\n",
       "      <td>987.7</td>\n",
       "      <td>983.8</td>\n",
       "      <td>991.7</td>\n",
       "      <td>987.7</td>\n",
       "      <td>983.8</td>\n",
       "      <td>991.7</td>\n",
       "      <td>987.7</td>\n",
       "      <td>983.8</td>\n",
       "    </tr>\n",
       "    <tr>\n",
       "      <th>2022-11-30 01:00:00</th>\n",
       "      <td>992.2</td>\n",
       "      <td>988.9</td>\n",
       "      <td>985.0</td>\n",
       "      <td>992.2</td>\n",
       "      <td>988.9</td>\n",
       "      <td>985.0</td>\n",
       "      <td>992.2</td>\n",
       "      <td>988.9</td>\n",
       "      <td>985.0</td>\n",
       "      <td>992.2</td>\n",
       "      <td>988.9</td>\n",
       "      <td>985.0</td>\n",
       "    </tr>\n",
       "    <tr>\n",
       "      <th>2022-11-30 01:30:00</th>\n",
       "      <td>993.7</td>\n",
       "      <td>990.0</td>\n",
       "      <td>985.1</td>\n",
       "      <td>993.7</td>\n",
       "      <td>990.0</td>\n",
       "      <td>985.1</td>\n",
       "      <td>993.7</td>\n",
       "      <td>990.0</td>\n",
       "      <td>985.1</td>\n",
       "      <td>993.7</td>\n",
       "      <td>990.0</td>\n",
       "      <td>985.1</td>\n",
       "    </tr>\n",
       "    <tr>\n",
       "      <th>2022-11-30 02:00:00</th>\n",
       "      <td>992.7</td>\n",
       "      <td>988.5</td>\n",
       "      <td>983.8</td>\n",
       "      <td>992.7</td>\n",
       "      <td>988.5</td>\n",
       "      <td>983.8</td>\n",
       "      <td>992.7</td>\n",
       "      <td>988.5</td>\n",
       "      <td>983.8</td>\n",
       "      <td>992.7</td>\n",
       "      <td>988.5</td>\n",
       "      <td>983.8</td>\n",
       "    </tr>\n",
       "    <tr>\n",
       "      <th>...</th>\n",
       "      <td>...</td>\n",
       "      <td>...</td>\n",
       "      <td>...</td>\n",
       "      <td>...</td>\n",
       "      <td>...</td>\n",
       "      <td>...</td>\n",
       "      <td>...</td>\n",
       "      <td>...</td>\n",
       "      <td>...</td>\n",
       "      <td>...</td>\n",
       "      <td>...</td>\n",
       "      <td>...</td>\n",
       "    </tr>\n",
       "    <tr>\n",
       "      <th>2023-05-08 21:30:00</th>\n",
       "      <td>899.2</td>\n",
       "      <td>896.7</td>\n",
       "      <td>894.0</td>\n",
       "      <td>899.2</td>\n",
       "      <td>896.7</td>\n",
       "      <td>894.0</td>\n",
       "      <td>899.2</td>\n",
       "      <td>896.7</td>\n",
       "      <td>894.0</td>\n",
       "      <td>899.2</td>\n",
       "      <td>896.7</td>\n",
       "      <td>894.0</td>\n",
       "    </tr>\n",
       "    <tr>\n",
       "      <th>2023-05-08 22:00:00</th>\n",
       "      <td>901.6</td>\n",
       "      <td>897.5</td>\n",
       "      <td>894.0</td>\n",
       "      <td>901.6</td>\n",
       "      <td>897.5</td>\n",
       "      <td>894.0</td>\n",
       "      <td>901.6</td>\n",
       "      <td>897.5</td>\n",
       "      <td>894.0</td>\n",
       "      <td>901.6</td>\n",
       "      <td>897.5</td>\n",
       "      <td>894.0</td>\n",
       "    </tr>\n",
       "    <tr>\n",
       "      <th>2023-05-08 22:30:00</th>\n",
       "      <td>907.6</td>\n",
       "      <td>904.8</td>\n",
       "      <td>902.0</td>\n",
       "      <td>907.6</td>\n",
       "      <td>904.8</td>\n",
       "      <td>902.0</td>\n",
       "      <td>907.6</td>\n",
       "      <td>904.8</td>\n",
       "      <td>902.0</td>\n",
       "      <td>907.6</td>\n",
       "      <td>904.8</td>\n",
       "      <td>902.0</td>\n",
       "    </tr>\n",
       "    <tr>\n",
       "      <th>2023-05-08 23:00:00</th>\n",
       "      <td>909.6</td>\n",
       "      <td>905.6</td>\n",
       "      <td>902.6</td>\n",
       "      <td>909.6</td>\n",
       "      <td>905.6</td>\n",
       "      <td>902.6</td>\n",
       "      <td>909.6</td>\n",
       "      <td>905.6</td>\n",
       "      <td>902.6</td>\n",
       "      <td>909.6</td>\n",
       "      <td>905.6</td>\n",
       "      <td>902.6</td>\n",
       "    </tr>\n",
       "    <tr>\n",
       "      <th>2023-05-08 23:30:00</th>\n",
       "      <td>913.4</td>\n",
       "      <td>908.1</td>\n",
       "      <td>903.4</td>\n",
       "      <td>913.4</td>\n",
       "      <td>908.1</td>\n",
       "      <td>903.4</td>\n",
       "      <td>913.4</td>\n",
       "      <td>908.1</td>\n",
       "      <td>903.4</td>\n",
       "      <td>913.4</td>\n",
       "      <td>908.1</td>\n",
       "      <td>903.4</td>\n",
       "    </tr>\n",
       "  </tbody>\n",
       "</table>\n",
       "<p>7658 rows × 12 columns</p>\n",
       "</div>"
      ],
      "text/plain": [
       "height                1.0    3.0    10.0   1.0    3.0    10.0   1.0    3.0   \\\n",
       "tower                    c      c      c      d      d      d     ue     ue   \n",
       "measurement            rho    rho    rho    rho    rho    rho    rho    rho   \n",
       "time                                                                          \n",
       "2022-11-30 00:00:00  996.7  991.9  984.1  996.7  991.9  984.1  996.7  991.9   \n",
       "2022-11-30 00:30:00  991.7  987.7  983.8  991.7  987.7  983.8  991.7  987.7   \n",
       "2022-11-30 01:00:00  992.2  988.9  985.0  992.2  988.9  985.0  992.2  988.9   \n",
       "2022-11-30 01:30:00  993.7  990.0  985.1  993.7  990.0  985.1  993.7  990.0   \n",
       "2022-11-30 02:00:00  992.7  988.5  983.8  992.7  988.5  983.8  992.7  988.5   \n",
       "...                    ...    ...    ...    ...    ...    ...    ...    ...   \n",
       "2023-05-08 21:30:00  899.2  896.7  894.0  899.2  896.7  894.0  899.2  896.7   \n",
       "2023-05-08 22:00:00  901.6  897.5  894.0  901.6  897.5  894.0  901.6  897.5   \n",
       "2023-05-08 22:30:00  907.6  904.8  902.0  907.6  904.8  902.0  907.6  904.8   \n",
       "2023-05-08 23:00:00  909.6  905.6  902.6  909.6  905.6  902.6  909.6  905.6   \n",
       "2023-05-08 23:30:00  913.4  908.1  903.4  913.4  908.1  903.4  913.4  908.1   \n",
       "\n",
       "height                10.0   1.0    3.0    10.0  \n",
       "tower                   ue     uw     uw     uw  \n",
       "measurement            rho    rho    rho    rho  \n",
       "time                                             \n",
       "2022-11-30 00:00:00  984.1  996.7  991.9  984.1  \n",
       "2022-11-30 00:30:00  983.8  991.7  987.7  983.8  \n",
       "2022-11-30 01:00:00  985.0  992.2  988.9  985.0  \n",
       "2022-11-30 01:30:00  985.1  993.7  990.0  985.1  \n",
       "2022-11-30 02:00:00  983.8  992.7  988.5  983.8  \n",
       "...                    ...    ...    ...    ...  \n",
       "2023-05-08 21:30:00  894.0  899.2  896.7  894.0  \n",
       "2023-05-08 22:00:00  894.0  901.6  897.5  894.0  \n",
       "2023-05-08 22:30:00  902.0  907.6  904.8  902.0  \n",
       "2023-05-08 23:00:00  902.6  909.6  905.6  902.6  \n",
       "2023-05-08 23:30:00  903.4  913.4  908.1  903.4  \n",
       "\n",
       "[7658 rows x 12 columns]"
      ]
     },
     "execution_count": 23,
     "metadata": {},
     "output_type": "execute_result"
    }
   ],
   "source": [
    "# gather dry air density measurements\n",
    "dryair_density_field_df = tidy_df[tidy_df.measurement.isin(['dry air density']) & tidy_df.height.isin(HEIGHTS)]\n",
    "dryair_density_field_df.measurement = 'rho'\n",
    "dryair_density_field_df = round(\n",
    "    dryair_density_field_df.pivot_table(\n",
    "        index='time', columns=['height', 'tower', 'measurement'], values='value'\n",
    "    ), \n",
    "    4\n",
    ")\n",
    "\n",
    "# duplicate the dry air density measurements across the towers (THIS IS NAIVE)\n",
    "dryair_density_for_tower_d = dryair_density_field_df.copy()\n",
    "dryair_density_for_tower_d.columns = pd.MultiIndex.from_tuples([(cs[0], 'd', cs[2]) for cs in dryair_density_for_tower_d.columns])\n",
    "\n",
    "dryair_density_for_tower_uw = dryair_density_field_df.copy()\n",
    "dryair_density_for_tower_uw.columns = pd.MultiIndex.from_tuples([(cs[0], 'uw', cs[2]) for cs in dryair_density_for_tower_d.columns])\n",
    "\n",
    "dryair_density_for_tower_ue = dryair_density_field_df.copy()\n",
    "dryair_density_for_tower_ue.columns = pd.MultiIndex.from_tuples([(cs[0], 'ue', cs[2]) for cs in dryair_density_for_tower_d.columns])\n",
    "\n",
    "dryair_density_field_df = dryair_density_field_df.join(\n",
    "    dryair_density_for_tower_d\n",
    ").join(\n",
    "    dryair_density_for_tower_ue\n",
    ").join(\n",
    "    dryair_density_for_tower_uw\n",
    ")\n",
    "\n",
    "dryair_density_field_df.columns = dryair_density_field_df.columns.set_names(['height', 'tower', 'measurement'])\n",
    "\n",
    "# convert from kg/m^3 to g/m^3\n",
    "dryair_density_field_df = dryair_density_field_df*1000\n",
    "\n",
    "dryair_density_field_df"
   ]
  },
  {
   "cell_type": "markdown",
   "metadata": {},
   "source": [
    "## Mixing ratio measurements"
   ]
  },
  {
   "cell_type": "code",
   "execution_count": 24,
   "metadata": {},
   "outputs": [
    {
     "data": {
      "text/html": [
       "<div>\n",
       "<style scoped>\n",
       "    .dataframe tbody tr th:only-of-type {\n",
       "        vertical-align: middle;\n",
       "    }\n",
       "\n",
       "    .dataframe tbody tr th {\n",
       "        vertical-align: top;\n",
       "    }\n",
       "\n",
       "    .dataframe thead tr th {\n",
       "        text-align: left;\n",
       "    }\n",
       "\n",
       "    .dataframe thead tr:last-of-type th {\n",
       "        text-align: right;\n",
       "    }\n",
       "</style>\n",
       "<table border=\"1\" class=\"dataframe\">\n",
       "  <thead>\n",
       "    <tr>\n",
       "      <th>height</th>\n",
       "      <th colspan=\"4\" halign=\"left\">1.0</th>\n",
       "      <th colspan=\"4\" halign=\"left\">3.0</th>\n",
       "      <th colspan=\"4\" halign=\"left\">10.0</th>\n",
       "    </tr>\n",
       "    <tr>\n",
       "      <th>tower</th>\n",
       "      <th>c</th>\n",
       "      <th>d</th>\n",
       "      <th>ue</th>\n",
       "      <th>uw</th>\n",
       "      <th>c</th>\n",
       "      <th>d</th>\n",
       "      <th>ue</th>\n",
       "      <th>uw</th>\n",
       "      <th>c</th>\n",
       "      <th>d</th>\n",
       "      <th>ue</th>\n",
       "      <th>uw</th>\n",
       "    </tr>\n",
       "    <tr>\n",
       "      <th>measurement</th>\n",
       "      <th>r</th>\n",
       "      <th>r</th>\n",
       "      <th>r</th>\n",
       "      <th>r</th>\n",
       "      <th>r</th>\n",
       "      <th>r</th>\n",
       "      <th>r</th>\n",
       "      <th>r</th>\n",
       "      <th>r</th>\n",
       "      <th>r</th>\n",
       "      <th>r</th>\n",
       "      <th>r</th>\n",
       "    </tr>\n",
       "    <tr>\n",
       "      <th>time</th>\n",
       "      <th></th>\n",
       "      <th></th>\n",
       "      <th></th>\n",
       "      <th></th>\n",
       "      <th></th>\n",
       "      <th></th>\n",
       "      <th></th>\n",
       "      <th></th>\n",
       "      <th></th>\n",
       "      <th></th>\n",
       "      <th></th>\n",
       "      <th></th>\n",
       "    </tr>\n",
       "  </thead>\n",
       "  <tbody>\n",
       "    <tr>\n",
       "      <th>2022-11-30 00:00:00</th>\n",
       "      <td>0.000639</td>\n",
       "      <td>0.001155</td>\n",
       "      <td>0.000811</td>\n",
       "      <td>0.000662</td>\n",
       "      <td>0.001211</td>\n",
       "      <td>0.000762</td>\n",
       "      <td>0.000797</td>\n",
       "      <td>0.000878</td>\n",
       "      <td>0.001026</td>\n",
       "      <td>0.000928</td>\n",
       "      <td>0.001021</td>\n",
       "      <td>0.001024</td>\n",
       "    </tr>\n",
       "    <tr>\n",
       "      <th>2022-11-30 00:30:00</th>\n",
       "      <td>0.000742</td>\n",
       "      <td>0.001256</td>\n",
       "      <td>0.000808</td>\n",
       "      <td>0.000679</td>\n",
       "      <td>0.001329</td>\n",
       "      <td>0.000797</td>\n",
       "      <td>0.000769</td>\n",
       "      <td>0.000951</td>\n",
       "      <td>0.001067</td>\n",
       "      <td>0.000990</td>\n",
       "      <td>0.001098</td>\n",
       "      <td>0.001145</td>\n",
       "    </tr>\n",
       "    <tr>\n",
       "      <th>2022-11-30 01:00:00</th>\n",
       "      <td>0.000774</td>\n",
       "      <td>0.001259</td>\n",
       "      <td>0.000808</td>\n",
       "      <td>0.000667</td>\n",
       "      <td>0.001347</td>\n",
       "      <td>0.000797</td>\n",
       "      <td>0.000797</td>\n",
       "      <td>0.000979</td>\n",
       "      <td>0.001097</td>\n",
       "      <td>0.001021</td>\n",
       "      <td>0.001141</td>\n",
       "      <td>0.001182</td>\n",
       "    </tr>\n",
       "    <tr>\n",
       "      <th>2022-11-30 01:30:00</th>\n",
       "      <td>0.000730</td>\n",
       "      <td>0.001210</td>\n",
       "      <td>0.000806</td>\n",
       "      <td>0.000633</td>\n",
       "      <td>0.001316</td>\n",
       "      <td>0.000805</td>\n",
       "      <td>0.000814</td>\n",
       "      <td>0.000937</td>\n",
       "      <td>0.001077</td>\n",
       "      <td>0.000997</td>\n",
       "      <td>0.001107</td>\n",
       "      <td>0.001160</td>\n",
       "    </tr>\n",
       "    <tr>\n",
       "      <th>2022-11-30 02:00:00</th>\n",
       "      <td>0.000728</td>\n",
       "      <td>0.001254</td>\n",
       "      <td>0.000808</td>\n",
       "      <td>0.000627</td>\n",
       "      <td>0.001351</td>\n",
       "      <td>0.000707</td>\n",
       "      <td>0.000715</td>\n",
       "      <td>0.000959</td>\n",
       "      <td>0.001116</td>\n",
       "      <td>0.001021</td>\n",
       "      <td>0.001138</td>\n",
       "      <td>0.001201</td>\n",
       "    </tr>\n",
       "    <tr>\n",
       "      <th>...</th>\n",
       "      <td>...</td>\n",
       "      <td>...</td>\n",
       "      <td>...</td>\n",
       "      <td>...</td>\n",
       "      <td>...</td>\n",
       "      <td>...</td>\n",
       "      <td>...</td>\n",
       "      <td>...</td>\n",
       "      <td>...</td>\n",
       "      <td>...</td>\n",
       "      <td>...</td>\n",
       "      <td>...</td>\n",
       "    </tr>\n",
       "    <tr>\n",
       "      <th>2023-05-08 21:30:00</th>\n",
       "      <td>0.002870</td>\n",
       "      <td>NaN</td>\n",
       "      <td>NaN</td>\n",
       "      <td>NaN</td>\n",
       "      <td>0.002893</td>\n",
       "      <td>0.003100</td>\n",
       "      <td>0.003087</td>\n",
       "      <td>0.003163</td>\n",
       "      <td>0.002859</td>\n",
       "      <td>0.002906</td>\n",
       "      <td>0.002893</td>\n",
       "      <td>0.002629</td>\n",
       "    </tr>\n",
       "    <tr>\n",
       "      <th>2023-05-08 22:00:00</th>\n",
       "      <td>0.003138</td>\n",
       "      <td>NaN</td>\n",
       "      <td>NaN</td>\n",
       "      <td>NaN</td>\n",
       "      <td>0.003100</td>\n",
       "      <td>0.003268</td>\n",
       "      <td>0.003233</td>\n",
       "      <td>0.003371</td>\n",
       "      <td>0.002993</td>\n",
       "      <td>0.003006</td>\n",
       "      <td>0.003101</td>\n",
       "      <td>0.002740</td>\n",
       "    </tr>\n",
       "    <tr>\n",
       "      <th>2023-05-08 22:30:00</th>\n",
       "      <td>0.003273</td>\n",
       "      <td>NaN</td>\n",
       "      <td>NaN</td>\n",
       "      <td>NaN</td>\n",
       "      <td>0.003357</td>\n",
       "      <td>0.003492</td>\n",
       "      <td>0.003478</td>\n",
       "      <td>0.003582</td>\n",
       "      <td>0.003359</td>\n",
       "      <td>0.003267</td>\n",
       "      <td>0.003348</td>\n",
       "      <td>0.003000</td>\n",
       "    </tr>\n",
       "    <tr>\n",
       "      <th>2023-05-08 23:00:00</th>\n",
       "      <td>0.003331</td>\n",
       "      <td>NaN</td>\n",
       "      <td>NaN</td>\n",
       "      <td>NaN</td>\n",
       "      <td>0.003334</td>\n",
       "      <td>0.003511</td>\n",
       "      <td>0.003471</td>\n",
       "      <td>0.003590</td>\n",
       "      <td>0.003346</td>\n",
       "      <td>0.003261</td>\n",
       "      <td>0.003277</td>\n",
       "      <td>0.002976</td>\n",
       "    </tr>\n",
       "    <tr>\n",
       "      <th>2023-05-08 23:30:00</th>\n",
       "      <td>0.003289</td>\n",
       "      <td>NaN</td>\n",
       "      <td>NaN</td>\n",
       "      <td>NaN</td>\n",
       "      <td>0.003301</td>\n",
       "      <td>0.003466</td>\n",
       "      <td>0.003453</td>\n",
       "      <td>0.003563</td>\n",
       "      <td>0.003230</td>\n",
       "      <td>0.003154</td>\n",
       "      <td>0.003179</td>\n",
       "      <td>0.002874</td>\n",
       "    </tr>\n",
       "  </tbody>\n",
       "</table>\n",
       "<p>7664 rows × 12 columns</p>\n",
       "</div>"
      ],
      "text/plain": [
       "height                   1.0                                     3.0   \\\n",
       "tower                       c         d        ue        uw         c   \n",
       "measurement                 r         r         r         r         r   \n",
       "time                                                                    \n",
       "2022-11-30 00:00:00  0.000639  0.001155  0.000811  0.000662  0.001211   \n",
       "2022-11-30 00:30:00  0.000742  0.001256  0.000808  0.000679  0.001329   \n",
       "2022-11-30 01:00:00  0.000774  0.001259  0.000808  0.000667  0.001347   \n",
       "2022-11-30 01:30:00  0.000730  0.001210  0.000806  0.000633  0.001316   \n",
       "2022-11-30 02:00:00  0.000728  0.001254  0.000808  0.000627  0.001351   \n",
       "...                       ...       ...       ...       ...       ...   \n",
       "2023-05-08 21:30:00  0.002870       NaN       NaN       NaN  0.002893   \n",
       "2023-05-08 22:00:00  0.003138       NaN       NaN       NaN  0.003100   \n",
       "2023-05-08 22:30:00  0.003273       NaN       NaN       NaN  0.003357   \n",
       "2023-05-08 23:00:00  0.003331       NaN       NaN       NaN  0.003334   \n",
       "2023-05-08 23:30:00  0.003289       NaN       NaN       NaN  0.003301   \n",
       "\n",
       "height                                                 10.0            \\\n",
       "tower                       d        ue        uw         c         d   \n",
       "measurement                 r         r         r         r         r   \n",
       "time                                                                    \n",
       "2022-11-30 00:00:00  0.000762  0.000797  0.000878  0.001026  0.000928   \n",
       "2022-11-30 00:30:00  0.000797  0.000769  0.000951  0.001067  0.000990   \n",
       "2022-11-30 01:00:00  0.000797  0.000797  0.000979  0.001097  0.001021   \n",
       "2022-11-30 01:30:00  0.000805  0.000814  0.000937  0.001077  0.000997   \n",
       "2022-11-30 02:00:00  0.000707  0.000715  0.000959  0.001116  0.001021   \n",
       "...                       ...       ...       ...       ...       ...   \n",
       "2023-05-08 21:30:00  0.003100  0.003087  0.003163  0.002859  0.002906   \n",
       "2023-05-08 22:00:00  0.003268  0.003233  0.003371  0.002993  0.003006   \n",
       "2023-05-08 22:30:00  0.003492  0.003478  0.003582  0.003359  0.003267   \n",
       "2023-05-08 23:00:00  0.003511  0.003471  0.003590  0.003346  0.003261   \n",
       "2023-05-08 23:30:00  0.003466  0.003453  0.003563  0.003230  0.003154   \n",
       "\n",
       "height                                   \n",
       "tower                      ue        uw  \n",
       "measurement                 r         r  \n",
       "time                                     \n",
       "2022-11-30 00:00:00  0.001021  0.001024  \n",
       "2022-11-30 00:30:00  0.001098  0.001145  \n",
       "2022-11-30 01:00:00  0.001141  0.001182  \n",
       "2022-11-30 01:30:00  0.001107  0.001160  \n",
       "2022-11-30 02:00:00  0.001138  0.001201  \n",
       "...                       ...       ...  \n",
       "2023-05-08 21:30:00  0.002893  0.002629  \n",
       "2023-05-08 22:00:00  0.003101  0.002740  \n",
       "2023-05-08 22:30:00  0.003348  0.003000  \n",
       "2023-05-08 23:00:00  0.003277  0.002976  \n",
       "2023-05-08 23:30:00  0.003179  0.002874  \n",
       "\n",
       "[7664 rows x 12 columns]"
      ]
     },
     "execution_count": 24,
     "metadata": {},
     "output_type": "execute_result"
    }
   ],
   "source": [
    "mixing_ratio_field_df = abs_hum_field_df.droplevel(2, 1) / dryair_density_field_df.droplevel(2, 1)\n",
    "\n",
    "mixing_ratio_field_df.columns = pd.MultiIndex.from_product(mixing_ratio_field_df.columns.levels + [['r']])\n",
    "mixing_ratio_field_df.columns = mixing_ratio_field_df.columns.set_names('measurement', level=2)\n",
    "\n",
    "mixing_ratio_field_df"
   ]
  },
  {
   "cell_type": "markdown",
   "metadata": {},
   "source": [
    "# Divergence calculations"
   ]
  },
  {
   "cell_type": "code",
   "execution_count": 25,
   "metadata": {},
   "outputs": [],
   "source": [
    "def divergence(f,sp):\n",
    "    \"\"\" \n",
    "    From: https://stackoverflow.com/a/67971515\n",
    "    Computes divergence of vector field \n",
    "    f: array -> vector field components [Fx,Fy,Fz,...]\n",
    "    sp: array -> spacing between points in respecitve directions [spx, spy,spz,...]\n",
    "    \"\"\"\n",
    "    num_dims = len(f)\n",
    "    return np.ufunc.reduce(np.add, [np.gradient(f[i], sp[i], axis=i) for i in range(num_dims)])"
   ]
  },
  {
   "cell_type": "markdown",
   "metadata": {},
   "source": [
    "## Calculate interpolated fields"
   ]
  },
  {
   "cell_type": "code",
   "execution_count": 26,
   "metadata": {},
   "outputs": [],
   "source": [
    "# Initialize lists to store results\n",
    "wind_fields = []\n",
    "turbulent_latentheat_flux_fields = []\n",
    "turbulent_sensibleheat_flux_fields = []\n",
    "abshumidity_fields = []\n",
    "advectedflux_fields = []\n",
    "dryairdensity_fields = []\n",
    "mixingratio_fields = []\n",
    "\n",
    "grid_spacings = []\n",
    "timestamps = []\n",
    "\n",
    "\n",
    "field_dataframes ={\n",
    "    'wind' :            wind_field_df,              # m/s\n",
    "    'turb_flux' :       turb_flux_field_df,         # g/m^2/s\n",
    "    'temp_turb_flux' :  temp_turb_flux_field_df,    # K/m^2/s\n",
    "    'abs_hum' :         abs_hum_field_df,           # g/m^3/s\n",
    "    'adv_flux' :        adv_flux_field_df,          # g/m^2/s\n",
    "    'dryair_density' :  dryair_density_field_df,    # g/m^3\n",
    "    'mixing_ratio' :    mixing_ratio_field_df,      # g/g\n",
    "}\n",
    "\n",
    "for i in wind_field_df.index:\n",
    "    # sometimes we don't have all measurements - this ensures we only retrieve data that exists\n",
    "    if all([i in df.index for df in field_dataframes.values()]):\n",
    "        values_dataframes = {}\n",
    "        \n",
    "        # Isolate all measurementsfor this timestamp\n",
    "        for key in field_dataframes.keys():\n",
    "            values_dataframes[key] = pd.DataFrame(\n",
    "                field_dataframes[key].loc[i]\n",
    "            ).reset_index().set_index(['height', 'tower']).pivot(columns='measurement')\n",
    "            values_dataframes[key].columns = values_dataframes[key].columns.droplevel(0)\n",
    "\n",
    "        # Combine all measurements of fields and instrument locations into one dataframe\n",
    "        points_and_fields = instrument_loc_df.join(\n",
    "            values_dataframes['wind'], how='right' # join on right df, so we drop instruments that we don't have measurements for\n",
    "        )\n",
    "        for key in field_dataframes.keys():\n",
    "            if key != 'wind':\n",
    "                points_and_fields = points_and_fields.join(values_dataframes[key])\n",
    "\n",
    "        # Create a meshgrid for the interpolation\n",
    "        xx, yy, zz = np.meshgrid(\n",
    "            np.linspace(points_and_fields.x.min(), points_and_fields.x.max(), HORIZ_GRID_SPACING),\n",
    "            np.linspace(points_and_fields.y.min(), points_and_fields.y.max(), HORIZ_GRID_SPACING),\n",
    "            np.linspace(points_and_fields.z.min(), points_and_fields.z.max(), VERT_GRID_SPACING)\n",
    "        )\n",
    "        points = np.transpose(np.vstack((points_and_fields.x, points_and_fields.y, points_and_fields.z)))\n",
    "\n",
    "        # Interpolate wind field\n",
    "        u_interp = interpolate.griddata(points, points_and_fields['u'], (xx, yy, zz), method='linear')\n",
    "        v_interp = interpolate.griddata(points, points_and_fields['v'], (xx, yy, zz), method='linear')\n",
    "        w_interp = interpolate.griddata(points, points_and_fields['w'], (xx, yy, zz), method='linear')\n",
    "\n",
    "        # Interpolate turbulent latent heat flux fields\n",
    "        u_q__interp = interpolate.griddata(points, points_and_fields['u_h2o_'], (xx, yy, zz), method='linear')\n",
    "        v_q__interp = interpolate.griddata(points, points_and_fields['v_h2o_'], (xx, yy, zz), method='linear')\n",
    "        w_q__interp = interpolate.griddata(points, points_and_fields['w_h2o_'], (xx, yy, zz), method='linear')\n",
    "\n",
    "        # Interpolate turbulent sensible heat flux fields\n",
    "        u_tc__interp = interpolate.griddata(points, points_and_fields['u_tc_'], (xx, yy, zz), method='linear')\n",
    "        v_tc__interp = interpolate.griddata(points, points_and_fields['v_tc_'], (xx, yy, zz), method='linear')\n",
    "        w_tc__interp = interpolate.griddata(points, points_and_fields['w_tc_'], (xx, yy, zz), method='linear')\n",
    "\n",
    "        # Interpolate advected flux field\n",
    "        uq_interp = interpolate.griddata(points, points_and_fields['uq'], (xx, yy, zz), method='linear')\n",
    "        vq_interp = interpolate.griddata(points, points_and_fields['vq'], (xx, yy, zz), method='linear')\n",
    "        wq_interp = interpolate.griddata(points, points_and_fields['wq'], (xx, yy, zz), method='linear')\n",
    "\n",
    "        # Interpolate abs. humidity field\n",
    "        q_interp = interpolate.griddata(points, points_and_fields['q'], (xx, yy, zz), method='linear')\n",
    "\n",
    "        # Interpolate dry air density field\n",
    "        rho_interp = interpolate.griddata(points, points_and_fields['rho'], (xx, yy, zz), method='linear')\n",
    "\n",
    "        # Interpolate (water vapor) mixing ratio field\n",
    "        r_interp = interpolate.griddata(points, points_and_fields['r'], (xx, yy, zz), method='linear')\n",
    "\n",
    "        # Combine interpolated components into vector fields\n",
    "        F = np.array([u_interp, v_interp, w_interp])\n",
    "        Fq = np.array([uq_interp, vq_interp, wq_interp])\n",
    "        F_q_ = np.array([u_q__interp, v_q__interp, w_q__interp])\n",
    "        F_tc_ = np.array([u_tc__interp, v_tc__interp, w_tc__interp])\n",
    "\n",
    "        # Record grid spacing        \n",
    "        sp_x = np.diff(xx[0,:,0]).mean()\n",
    "        sp_y = np.diff(yy[:,0,0]).mean()\n",
    "        sp_z = np.diff(zz[0,0,:]).mean()\n",
    "        sp = [sp_x, sp_y, sp_z]\n",
    "\n",
    "        # Append interpolated fields to our results lists\n",
    "        wind_fields.append(F)\n",
    "        advectedflux_fields.append(Fq)\n",
    "        turbulent_latentheat_flux_fields.append(F_q_)\n",
    "        turbulent_sensibleheat_flux_fields.append(F_tc_)\n",
    "        abshumidity_fields.append(q_interp)\n",
    "        dryairdensity_fields.append(rho_interp)\n",
    "        mixingratio_fields.append(r_interp)\n",
    "        grid_spacings.append(sp)\n",
    "        timestamps.append(i)"
   ]
  },
  {
   "cell_type": "markdown",
   "metadata": {},
   "source": [
    "## Calculate divergences\n"
   ]
  },
  {
   "cell_type": "markdown",
   "metadata": {},
   "source": [
    "$$\n",
    "\\overline{S} = \n",
    "\\overline{\\rho} \\frac{\\partial \\overline{s}}{\\partial t} \n",
    "+ \\overline{u_i} \\space \\overline{\\rho} \\frac{\\partial \\overline{s}}{\\partial x_i} \n",
    "- \\overline{s} \\frac{\\partial }{\\partial z} \\Big( \n",
    "    \\frac{\\overline{\\rho}}{\\overline{T}} ( 1 + \\mu \\overline{s}) \\overline{w'T'} + \\mu \\overline{w'q'} \n",
    "\\Big)\n",
    "+ \\frac{\\partial \\overline{w'q'}}{\\partial z}  \n",
    "$$"
   ]
  },
  {
   "cell_type": "code",
   "execution_count": 27,
   "metadata": {},
   "outputs": [],
   "source": [
    "mu = 1/0.622\n",
    "T = -10"
   ]
  },
  {
   "cell_type": "code",
   "execution_count": 28,
   "metadata": {},
   "outputs": [
    {
     "name": "stderr",
     "output_type": "stream",
     "text": [
      "/var/folders/x_/2h52bcjx2px15bhmdpdd748h0000gn/T/ipykernel_17809/1718551599.py:42: RuntimeWarning: All-NaN slice encountered\n",
      "  advective_term_lateral_ls.append(np.nanmedian(advective_term_lateral))\n",
      "/var/folders/x_/2h52bcjx2px15bhmdpdd748h0000gn/T/ipykernel_17809/1718551599.py:43: RuntimeWarning: All-NaN slice encountered\n",
      "  advective_term_vertical_ls.append(np.nanmedian(advective_term_vertical))\n",
      "/var/folders/x_/2h52bcjx2px15bhmdpdd748h0000gn/T/ipykernel_17809/1718551599.py:44: RuntimeWarning: All-NaN slice encountered\n",
      "  advective_term_total_ls.append(np.nanmedian(advective_term_total))\n",
      "/var/folders/x_/2h52bcjx2px15bhmdpdd748h0000gn/T/ipykernel_17809/1718551599.py:45: RuntimeWarning: All-NaN slice encountered\n",
      "  airdensityflux_term_vertical_ls.append(np.nanmedian(airdensityflux_term_vertical))\n"
     ]
    }
   ],
   "source": [
    "advective_term_lateral_ls = []\n",
    "advective_term_vertical_ls = []\n",
    "advective_term_total_ls = []\n",
    "airdensityflux_term_vertical_ls = []\n",
    "turbulent_term_vertical_ls = []\n",
    "\n",
    "for i in range(0, len(wind_fields)):\n",
    "    wind_field                          = wind_fields[i]\n",
    "    turbulent_latentheat_flux_field     = turbulent_latentheat_flux_fields[i]\n",
    "    turbulent_sensibleheat_flux_field   = turbulent_sensibleheat_flux_fields[i]\n",
    "    abshumidity_field                   = abshumidity_fields[i]\n",
    "    dryairdensity_field                 = dryairdensity_fields[i]\n",
    "    mixingratio_field                   = mixingratio_fields[i]\n",
    "    grid_spacing                        = grid_spacings[i]\n",
    "    \n",
    "    ds_dx = np.gradient(mixingratio_field,  grid_spacing[0],    axis=0)\n",
    "    ds_dy = np.gradient(mixingratio_field,  grid_spacing[1],    axis=1)\n",
    "    ds_dz = np.gradient(mixingratio_field,  grid_spacing[2],    axis=2)\n",
    "    advective_term_lateral = (\n",
    "        wind_field[0] * dryairdensity_field * ds_dx + \n",
    "        wind_field[1] * dryairdensity_field * ds_dy\n",
    "    )\n",
    "    advective_term_vertical = (\n",
    "        wind_field[2]*dryairdensity_field*ds_dz\n",
    "    )\n",
    "    advective_term_total = advective_term_lateral + advective_term_vertical\n",
    "\n",
    "    airdensityflux_term_vertical = mixingratio_field * np.gradient(\n",
    "        (\n",
    "            (dryairdensity_field/T) * (1 + mu*mixingratio_field) * turbulent_sensibleheat_flux_field[2] + mu*turbulent_latentheat_flux_field[2]\n",
    "        ),\n",
    "        grid_spacing[2],\n",
    "        axis=2\n",
    "    )\n",
    "\n",
    "    turbulent_term_vertical = np.gradient(\n",
    "        turbulent_latentheat_flux_field[2],\n",
    "        grid_spacing[2],\n",
    "        axis=2\n",
    "    )\n",
    "\n",
    "    advective_term_lateral_ls.append(np.nanmedian(advective_term_lateral))\n",
    "    advective_term_vertical_ls.append(np.nanmedian(advective_term_vertical))\n",
    "    advective_term_total_ls.append(np.nanmedian(advective_term_total))\n",
    "    airdensityflux_term_vertical_ls.append(np.nanmedian(airdensityflux_term_vertical))\n",
    "    turbulent_term_vertical_ls.append(np.nanmedian(turbulent_term_vertical))"
   ]
  },
  {
   "cell_type": "markdown",
   "metadata": {},
   "source": [
    "## Calculate spatially averaged divergence values"
   ]
  },
  {
   "cell_type": "code",
   "execution_count": 43,
   "metadata": {},
   "outputs": [
    {
     "name": "stderr",
     "output_type": "stream",
     "text": [
      "/var/folders/x_/2h52bcjx2px15bhmdpdd748h0000gn/T/ipykernel_17809/3391051564.py:7: RuntimeWarning: All-NaN slice encountered\n",
      "  'dryair_density' : [np.nanmedian(item) for item in dryairdensity_fields],\n",
      "/var/folders/x_/2h52bcjx2px15bhmdpdd748h0000gn/T/ipykernel_17809/3391051564.py:8: RuntimeWarning: All-NaN slice encountered\n",
      "  'mixing_ratio' : [np.nanmedian(item) for item in mixingratio_fields],\n"
     ]
    }
   ],
   "source": [
    "conservation_spatial_mean_df = pd.DataFrame({\n",
    "    'advective_term_lateral' : advective_term_lateral_ls,\n",
    "    'advective_term_vertical' : advective_term_vertical_ls,\n",
    "    'advective_term_total' : advective_term_total_ls,\n",
    "    'airdensityflux_term_vertical' : airdensityflux_term_vertical_ls,\n",
    "    'turbulent_term_vertical' : turbulent_term_vertical_ls,\n",
    "    'dryair_density' : [np.nanmedian(item) for item in dryairdensity_fields],\n",
    "    'mixing_ratio' : [np.nanmedian(item) for item in mixingratio_fields],\n",
    "})\n",
    "conservation_spatial_mean_df['time'] = timestamps\n",
    "conservation_spatial_mean_df = conservation_spatial_mean_df.set_index('time')"
   ]
  },
  {
   "cell_type": "markdown",
   "metadata": {},
   "source": [
    "$$\n",
    "\\overline{S} = \n",
    "\\overline{\\rho} \\frac{\\partial \\overline{s}}{\\partial t} \n",
    "+ \\overline{u_i} \\space \\overline{\\rho} \\frac{\\partial \\overline{s}}{\\partial x_i} \n",
    "- \\overline{s} \\frac{\\partial }{\\partial z} \\Big( \n",
    "    \\frac{\\overline{\\rho}}{\\overline{T}} ( 1 + \\mu \\overline{s}) \\overline{w'T'} + \\mu \\overline{w'q'} \n",
    "\\Big)\n",
    "+ \\frac{\\partial \\overline{w'q'}}{\\partial z}  \n",
    "$$"
   ]
  },
  {
   "cell_type": "code",
   "execution_count": 44,
   "metadata": {},
   "outputs": [],
   "source": [
    "conservation_spatial_mean_df['storage_change'] = conservation_spatial_mean_df['dryair_density'] * np.gradient(\n",
    "    conservation_spatial_mean_df['mixing_ratio'],\n",
    "    conservation_spatial_mean_df.index.diff()[1].seconds\n",
    ")\n",
    "\n",
    "conservation_spatial_mean_df['source'] = (\n",
    "    conservation_spatial_mean_df['storage_change']\n",
    "    + conservation_spatial_mean_df['advective_term_total']\n",
    "    - conservation_spatial_mean_df['airdensityflux_term_vertical']\n",
    "    + conservation_spatial_mean_df['turbulent_term_vertical']\n",
    ")"
   ]
  },
  {
   "cell_type": "code",
   "execution_count": 46,
   "metadata": {},
   "outputs": [],
   "source": [
    "conservation_spatial_mean_df.to_csv(\"hi.csv\")"
   ]
  },
  {
   "cell_type": "code",
   "execution_count": 47,
   "metadata": {},
   "outputs": [],
   "source": [
    "conservation_spatial_mean_df = pd.read_csv(\"hi.csv\")\n",
    "conservation_spatial_mean_df.time = pd.to_datetime(conservation_spatial_mean_df.time)"
   ]
  },
  {
   "cell_type": "code",
   "execution_count": 48,
   "metadata": {},
   "outputs": [],
   "source": [
    "line = alt.Chart().mark_rule().encode(y=alt.datum(0))\n",
    "\n",
    "def conservation_spatial_mean_composite_plot(src, columns, title, times_filter = None, normalize = None):\n",
    "    src = src.copy(deep=True)\n",
    "    if times_filter is not None:\n",
    "        src = src[src.time.isin(times_filter)]\n",
    "    else:\n",
    "        src = src\n",
    "    if normalize is not None:\n",
    "        src[columns] = src[columns] * normalize\n",
    "    return line + alt.Chart(\n",
    "        src.reset_index()\n",
    "    ).transform_fold(\n",
    "        columns\n",
    "    ).mark_line().encode(\n",
    "        alt.X('hoursminutes(time):T').title('time'),\n",
    "        alt.Y('median(value):Q'),\n",
    "        alt.Color('key:N')\n",
    "    ).properties(height = 200, width = 200, title=title)"
   ]
  },
  {
   "cell_type": "code",
   "execution_count": 81,
   "metadata": {},
   "outputs": [
    {
     "data": {
      "application/vnd.vegalite.v5+json": {
       "$schema": "https://vega.github.io/schema/vega-lite/v5.17.0.json",
       "config": {
        "view": {
         "continuousHeight": 300,
         "continuousWidth": 300
        }
       },
       "datasets": {
        "empty": [
         {}
        ]
       },
       "height": 200,
       "layer": [
        {
         "data": {
          "name": "empty"
         },
         "encoding": {
          "y": {
           "datum": 0
          }
         },
         "mark": {
          "type": "rule"
         }
        },
        {
         "data": {
          "format": {
           "type": "json"
          },
          "url": "altair-data-41f4376ba6d02f52044dbbfa0454f068.json"
         },
         "encoding": {
          "color": {
           "field": "key",
           "type": "nominal"
          },
          "x": {
           "field": "time",
           "timeUnit": "hoursminutes",
           "title": "time",
           "type": "temporal"
          },
          "y": {
           "aggregate": "median",
           "field": "value",
           "type": "quantitative"
          }
         },
         "mark": {
          "type": "line"
         },
         "title": "All data",
         "transform": [
          {
           "fold": [
            "advective_term_lateral",
            "advective_term_vertical",
            "advective_term_total",
            "airdensityflux_term_vertical",
            "turbulent_term_vertical",
            "storage_change",
            "source"
           ]
          }
         ]
        }
       ],
       "width": 200
      },
      "text/plain": [
       "<VegaLite 5 object>\n",
       "\n",
       "If you see this message, it means the renderer has not been properly enabled\n",
       "for the frontend that you are using. For more information, see\n",
       "https://altair-viz.github.io/user_guide/display_frontends.html#troubleshooting\n"
      ]
     },
     "execution_count": 81,
     "metadata": {},
     "output_type": "execute_result"
    }
   ],
   "source": [
    "conservation_spatial_mean_composite_plot(\n",
    "        conservation_spatial_mean_df,\n",
    "        [\n",
    "            'advective_term_lateral', 'advective_term_vertical', 'advective_term_total', \n",
    "            'airdensityflux_term_vertical', 'turbulent_term_vertical', 'storage_change', 'source'\n",
    "        ],\n",
    "        title='All data', normalize = 7\n",
    "    )"
   ]
  },
  {
   "cell_type": "code",
   "execution_count": 49,
   "metadata": {},
   "outputs": [
    {
     "data": {
      "application/vnd.vegalite.v5+json": {
       "$schema": "https://vega.github.io/schema/vega-lite/v5.17.0.json",
       "config": {
        "view": {
         "continuousHeight": 300,
         "continuousWidth": 300
        }
       },
       "datasets": {
        "empty": [
         {}
        ]
       },
       "hconcat": [
        {
         "height": 200,
         "layer": [
          {
           "data": {
            "name": "empty"
           },
           "encoding": {
            "y": {
             "datum": 0
            }
           },
           "mark": {
            "type": "rule"
           }
          },
          {
           "data": {
            "format": {
             "type": "json"
            },
            "url": "altair-data-41f4376ba6d02f52044dbbfa0454f068.json"
           },
           "encoding": {
            "color": {
             "field": "key",
             "type": "nominal"
            },
            "x": {
             "field": "time",
             "timeUnit": "hoursminutes",
             "title": "time",
             "type": "temporal"
            },
            "y": {
             "aggregate": "median",
             "field": "value",
             "type": "quantitative"
            }
           },
           "mark": {
            "type": "line"
           },
           "title": "All data",
           "transform": [
            {
             "fold": [
              "advective_term_lateral",
              "advective_term_vertical",
              "advective_term_total",
              "airdensityflux_term_vertical",
              "turbulent_term_vertical",
              "storage_change",
              "source"
             ]
            }
           ]
          }
         ],
         "width": 200
        },
        {
         "height": 200,
         "layer": [
          {
           "data": {
            "name": "empty"
           },
           "encoding": {
            "y": {
             "datum": 0
            }
           },
           "mark": {
            "type": "rule"
           }
          },
          {
           "data": {
            "format": {
             "type": "json"
            },
            "url": "altair-data-4c77145cba492fd2aadde514ca75730c.json"
           },
           "encoding": {
            "color": {
             "field": "key",
             "type": "nominal"
            },
            "x": {
             "field": "time",
             "timeUnit": "hoursminutes",
             "title": "time",
             "type": "temporal"
            },
            "y": {
             "aggregate": "median",
             "field": "value",
             "type": "quantitative"
            }
           },
           "mark": {
            "type": "line"
           },
           "title": "No BS",
           "transform": [
            {
             "fold": [
              "advective_term_lateral",
              "advective_term_vertical",
              "advective_term_total",
              "airdensityflux_term_vertical",
              "turbulent_term_vertical",
              "storage_change",
              "source"
             ]
            }
           ]
          }
         ],
         "width": 200
        },
        {
         "height": 200,
         "layer": [
          {
           "data": {
            "name": "empty"
           },
           "encoding": {
            "y": {
             "datum": 0
            }
           },
           "mark": {
            "type": "rule"
           }
          },
          {
           "data": {
            "format": {
             "type": "json"
            },
            "url": "altair-data-0f6ade9e87399b761d02349f715fcc81.json"
           },
           "encoding": {
            "color": {
             "field": "key",
             "type": "nominal"
            },
            "x": {
             "field": "time",
             "timeUnit": "hoursminutes",
             "title": "time",
             "type": "temporal"
            },
            "y": {
             "aggregate": "median",
             "field": "value",
             "type": "quantitative"
            }
           },
           "mark": {
            "type": "line"
           },
           "title": "No BS, not snowing",
           "transform": [
            {
             "fold": [
              "advective_term_lateral",
              "advective_term_vertical",
              "advective_term_total",
              "airdensityflux_term_vertical",
              "turbulent_term_vertical",
              "storage_change",
              "source"
             ]
            }
           ]
          }
         ],
         "width": 200
        },
        {
         "height": 200,
         "layer": [
          {
           "data": {
            "name": "empty"
           },
           "encoding": {
            "y": {
             "datum": 0
            }
           },
           "mark": {
            "type": "rule"
           }
          },
          {
           "data": {
            "format": {
             "type": "json"
            },
            "url": "altair-data-111d08d770c496529832c865f84595c2.json"
           },
           "encoding": {
            "color": {
             "field": "key",
             "type": "nominal"
            },
            "x": {
             "field": "time",
             "timeUnit": "hoursminutes",
             "title": "time",
             "type": "temporal"
            },
            "y": {
             "aggregate": "median",
             "field": "value",
             "type": "quantitative"
            }
           },
           "mark": {
            "type": "line"
           },
           "title": "Not snowing",
           "transform": [
            {
             "fold": [
              "advective_term_lateral",
              "advective_term_vertical",
              "advective_term_total",
              "airdensityflux_term_vertical",
              "turbulent_term_vertical",
              "storage_change",
              "source"
             ]
            }
           ]
          }
         ],
         "width": 200
        },
        {
         "height": 200,
         "layer": [
          {
           "data": {
            "name": "empty"
           },
           "encoding": {
            "y": {
             "datum": 0
            }
           },
           "mark": {
            "type": "rule"
           }
          },
          {
           "data": {
            "format": {
             "type": "json"
            },
            "url": "altair-data-1ba629d3ff7d5d5c8d5b66ab2e074194.json"
           },
           "encoding": {
            "color": {
             "field": "key",
             "type": "nominal"
            },
            "x": {
             "field": "time",
             "timeUnit": "hoursminutes",
             "title": "time",
             "type": "temporal"
            },
            "y": {
             "aggregate": "median",
             "field": "value",
             "type": "quantitative"
            }
           },
           "mark": {
            "type": "line"
           },
           "title": "BS",
           "transform": [
            {
             "fold": [
              "advective_term_lateral",
              "advective_term_vertical",
              "advective_term_total",
              "airdensityflux_term_vertical",
              "turbulent_term_vertical",
              "storage_change",
              "source"
             ]
            }
           ]
          }
         ],
         "width": 200
        }
       ],
       "resolve": {
        "scale": {
         "color": "shared",
         "x": "shared",
         "y": "shared"
        }
       }
      },
      "text/plain": [
       "<VegaLite 5 object>\n",
       "\n",
       "If you see this message, it means the renderer has not been properly enabled\n",
       "for the frontend that you are using. For more information, see\n",
       "https://altair-viz.github.io/user_guide/display_frontends.html#troubleshooting\n"
      ]
     },
     "metadata": {
      "application/vnd.vegalite.v5+json": {
       "embed_options": {
        "renderer": "svg"
       }
      }
     },
     "output_type": "display_data"
    }
   ],
   "source": [
    "(\n",
    "    conservation_spatial_mean_composite_plot(\n",
    "        conservation_spatial_mean_df,\n",
    "        [\n",
    "            'advective_term_lateral', 'advective_term_vertical', 'advective_term_total', \n",
    "            'airdensityflux_term_vertical', 'turbulent_term_vertical', 'storage_change', 'source'\n",
    "        ],\n",
    "        title='All data', normalize = 7\n",
    "    ) | conservation_spatial_mean_composite_plot(\n",
    "        conservation_spatial_mean_df,\n",
    "        [\n",
    "            'advective_term_lateral', 'advective_term_vertical', 'advective_term_total', \n",
    "            'airdensityflux_term_vertical', 'turbulent_term_vertical', 'storage_change', 'source'\n",
    "        ],\n",
    "        title='No BS', normalize = 7,\n",
    "        times_filter = set(nobs_times)\n",
    "    ) | conservation_spatial_mean_composite_plot(\n",
    "        conservation_spatial_mean_df,\n",
    "        [\n",
    "            'advective_term_lateral', 'advective_term_vertical', 'advective_term_total', \n",
    "            'airdensityflux_term_vertical', 'turbulent_term_vertical', 'storage_change', 'source'\n",
    "        ],\n",
    "        title='No BS, not snowing', normalize = 7,\n",
    "        times_filter = set(nobs_times).intersection(set(is_not_snowing_dates))\n",
    "    ) | conservation_spatial_mean_composite_plot(\n",
    "        conservation_spatial_mean_df,\n",
    "        [\n",
    "            'advective_term_lateral', 'advective_term_vertical', 'advective_term_total', \n",
    "            'airdensityflux_term_vertical', 'turbulent_term_vertical', 'storage_change', 'source'\n",
    "        ],\n",
    "        title='Not snowing', normalize = 7,\n",
    "        times_filter = set(is_not_snowing_dates)\n",
    "    ) | conservation_spatial_mean_composite_plot(\n",
    "        conservation_spatial_mean_df,\n",
    "        [\n",
    "            'advective_term_lateral', 'advective_term_vertical', 'advective_term_total', \n",
    "            'airdensityflux_term_vertical', 'turbulent_term_vertical', 'storage_change', 'source'\n",
    "        ],\n",
    "        title='BS', normalize = 7,\n",
    "        times_filter = set(bs_times)\n",
    "    )\n",
    ").resolve_scale(y='shared', x='shared', color='shared').display(renderer='svg')"
   ]
  },
  {
   "cell_type": "code",
   "execution_count": 50,
   "metadata": {},
   "outputs": [
    {
     "data": {
      "application/vnd.vegalite.v5+json": {
       "$schema": "https://vega.github.io/schema/vega-lite/v5.17.0.json",
       "config": {
        "view": {
         "continuousHeight": 300,
         "continuousWidth": 300
        }
       },
       "datasets": {
        "empty": [
         {}
        ]
       },
       "hconcat": [
        {
         "height": 200,
         "layer": [
          {
           "data": {
            "name": "empty"
           },
           "encoding": {
            "y": {
             "datum": 0
            }
           },
           "mark": {
            "type": "rule"
           }
          },
          {
           "data": {
            "format": {
             "type": "json"
            },
            "url": "altair-data-41f4376ba6d02f52044dbbfa0454f068.json"
           },
           "encoding": {
            "color": {
             "field": "key",
             "type": "nominal"
            },
            "x": {
             "field": "time",
             "timeUnit": "hoursminutes",
             "title": "time",
             "type": "temporal"
            },
            "y": {
             "aggregate": "median",
             "field": "value",
             "type": "quantitative"
            }
           },
           "mark": {
            "type": "line"
           },
           "title": "All data",
           "transform": [
            {
             "fold": [
              "advective_term_lateral",
              "advective_term_vertical",
              "advective_term_total",
              "airdensityflux_term_vertical",
              "turbulent_term_vertical",
              "storage_change",
              "source"
             ]
            }
           ]
          }
         ],
         "width": 200
        },
        {
         "height": 200,
         "layer": [
          {
           "data": {
            "name": "empty"
           },
           "encoding": {
            "y": {
             "datum": 0
            }
           },
           "mark": {
            "type": "rule"
           }
          },
          {
           "data": {
            "format": {
             "type": "json"
            },
            "url": "altair-data-f692f439971b6f5346fa3cb9738e7e1b.json"
           },
           "encoding": {
            "color": {
             "field": "key",
             "type": "nominal"
            },
            "x": {
             "field": "time",
             "timeUnit": "hoursminutes",
             "title": "time",
             "type": "temporal"
            },
            "y": {
             "aggregate": "median",
             "field": "value",
             "type": "quantitative"
            }
           },
           "mark": {
            "type": "line"
           },
           "title": "Stable, No BS",
           "transform": [
            {
             "fold": [
              "advective_term_lateral",
              "advective_term_vertical",
              "advective_term_total",
              "airdensityflux_term_vertical",
              "turbulent_term_vertical",
              "storage_change",
              "source"
             ]
            }
           ]
          }
         ],
         "width": 200
        },
        {
         "height": 200,
         "layer": [
          {
           "data": {
            "name": "empty"
           },
           "encoding": {
            "y": {
             "datum": 0
            }
           },
           "mark": {
            "type": "rule"
           }
          },
          {
           "data": {
            "format": {
             "type": "json"
            },
            "url": "altair-data-c8628b4e02b88b94d887f5466779c8aa.json"
           },
           "encoding": {
            "color": {
             "field": "key",
             "type": "nominal"
            },
            "x": {
             "field": "time",
             "timeUnit": "hoursminutes",
             "title": "time",
             "type": "temporal"
            },
            "y": {
             "aggregate": "median",
             "field": "value",
             "type": "quantitative"
            }
           },
           "mark": {
            "type": "line"
           },
           "title": "Neutral, No BS",
           "transform": [
            {
             "fold": [
              "advective_term_lateral",
              "advective_term_vertical",
              "advective_term_total",
              "airdensityflux_term_vertical",
              "turbulent_term_vertical",
              "storage_change",
              "source"
             ]
            }
           ]
          }
         ],
         "width": 200
        },
        {
         "height": 200,
         "layer": [
          {
           "data": {
            "name": "empty"
           },
           "encoding": {
            "y": {
             "datum": 0
            }
           },
           "mark": {
            "type": "rule"
           }
          },
          {
           "data": {
            "format": {
             "type": "json"
            },
            "url": "altair-data-03161dcf7f35fea5078fbdf9d281490a.json"
           },
           "encoding": {
            "color": {
             "field": "key",
             "type": "nominal"
            },
            "x": {
             "field": "time",
             "timeUnit": "hoursminutes",
             "title": "time",
             "type": "temporal"
            },
            "y": {
             "aggregate": "median",
             "field": "value",
             "type": "quantitative"
            }
           },
           "mark": {
            "type": "line"
           },
           "title": "Unstable, No BS",
           "transform": [
            {
             "fold": [
              "advective_term_lateral",
              "advective_term_vertical",
              "advective_term_total",
              "airdensityflux_term_vertical",
              "turbulent_term_vertical",
              "storage_change",
              "source"
             ]
            }
           ]
          }
         ],
         "width": 200
        }
       ],
       "resolve": {
        "scale": {
         "color": "shared",
         "x": "shared",
         "y": "shared"
        }
       }
      },
      "text/plain": [
       "<VegaLite 5 object>\n",
       "\n",
       "If you see this message, it means the renderer has not been properly enabled\n",
       "for the frontend that you are using. For more information, see\n",
       "https://altair-viz.github.io/user_guide/display_frontends.html#troubleshooting\n"
      ]
     },
     "metadata": {
      "application/vnd.vegalite.v5+json": {
       "embed_options": {
        "renderer": "svg"
       }
      }
     },
     "output_type": "display_data"
    }
   ],
   "source": [
    "(\n",
    "    conservation_spatial_mean_composite_plot(\n",
    "        conservation_spatial_mean_df,\n",
    "        [\n",
    "            'advective_term_lateral', 'advective_term_vertical', 'advective_term_total', \n",
    "            'airdensityflux_term_vertical', 'turbulent_term_vertical', 'storage_change', 'source'\n",
    "        ],\n",
    "        title='All data', normalize = 7\n",
    "    ) | conservation_spatial_mean_composite_plot(\n",
    "        conservation_spatial_mean_df,\n",
    "        [\n",
    "            'advective_term_lateral', 'advective_term_vertical', 'advective_term_total', \n",
    "            'airdensityflux_term_vertical', 'turbulent_term_vertical', 'storage_change', 'source'\n",
    "        ],\n",
    "        title='Stable, No BS', normalize = 7,\n",
    "        times_filter = set(tgrad_stable_times).intersection(set(nobs_times))\n",
    "    ) | conservation_spatial_mean_composite_plot(\n",
    "        conservation_spatial_mean_df,\n",
    "        [\n",
    "            'advective_term_lateral', 'advective_term_vertical', 'advective_term_total', \n",
    "            'airdensityflux_term_vertical', 'turbulent_term_vertical', 'storage_change', 'source'\n",
    "        ],\n",
    "        title='Neutral, No BS', normalize = 7,\n",
    "        times_filter = set(tgrad_neutral_times).intersection(set(nobs_times))\n",
    "    ) | conservation_spatial_mean_composite_plot(\n",
    "        conservation_spatial_mean_df,\n",
    "        [\n",
    "            'advective_term_lateral', 'advective_term_vertical', 'advective_term_total', \n",
    "            'airdensityflux_term_vertical', 'turbulent_term_vertical', 'storage_change', 'source'\n",
    "        ],\n",
    "        title='Unstable, No BS', normalize = 7,\n",
    "        times_filter = set(tgrad_unstable_times).intersection(set(nobs_times))\n",
    "    )\n",
    ").resolve_scale(y='shared', x='shared', color='shared').display(renderer='svg')"
   ]
  },
  {
   "cell_type": "code",
   "execution_count": 83,
   "metadata": {},
   "outputs": [
    {
     "data": {
      "application/vnd.vegalite.v5+json": {
       "$schema": "https://vega.github.io/schema/vega-lite/v5.17.0.json",
       "config": {
        "legend": {
         "columns": 2,
         "orient": "top"
        },
        "view": {
         "continuousHeight": 300,
         "continuousWidth": 300
        }
       },
       "datasets": {
        "empty": [
         {}
        ]
       },
       "hconcat": [
        {
         "height": 200,
         "layer": [
          {
           "data": {
            "name": "empty"
           },
           "encoding": {
            "y": {
             "datum": 0
            }
           },
           "mark": {
            "type": "rule"
           }
          },
          {
           "data": {
            "format": {
             "type": "json"
            },
            "url": "altair-data-0f6ade9e87399b761d02349f715fcc81.json"
           },
           "encoding": {
            "color": {
             "field": "key",
             "type": "nominal"
            },
            "x": {
             "field": "time",
             "timeUnit": "hoursminutes",
             "title": "time",
             "type": "temporal"
            },
            "y": {
             "aggregate": "median",
             "field": "value",
             "type": "quantitative"
            }
           },
           "mark": {
            "type": "line"
           },
           "title": "Flux density terms (g/m^2/s)",
           "transform": [
            {
             "fold": [
              "advective_term_lateral",
              "advective_term_vertical",
              "advective_term_total",
              "airdensityflux_term_vertical",
              "turbulent_term_vertical",
              "storage_change",
              "source"
             ]
            }
           ]
          }
         ],
         "width": 200
        },
        {
         "data": {
          "format": {
           "type": "json"
          },
          "url": "altair-data-4c6282130d2b79c744514090cabf6d61.json"
         },
         "encoding": {
          "color": {
           "field": "height",
           "type": "ordinal"
          },
          "x": {
           "field": "time",
           "timeUnit": "hoursminutes",
           "type": "temporal"
          },
          "y": {
           "aggregate": "median",
           "field": "value",
           "type": "quantitative"
          }
         },
         "height": 200,
         "mark": {
          "type": "line"
         },
         "title": "Vertical eddy covariance flux (g/m^2/s)",
         "width": 200
        }
       ],
       "resolve": {
        "scale": {
         "color": "independent",
         "y": "shared"
        }
       }
      },
      "text/plain": [
       "<VegaLite 5 object>\n",
       "\n",
       "If you see this message, it means the renderer has not been properly enabled\n",
       "for the frontend that you are using. For more information, see\n",
       "https://altair-viz.github.io/user_guide/display_frontends.html#troubleshooting\n"
      ]
     },
     "metadata": {
      "application/vnd.vegalite.v5+json": {
       "embed_options": {
        "renderer": "svg"
       }
      }
     },
     "output_type": "display_data"
    }
   ],
   "source": [
    "(\n",
    "    conservation_spatial_mean_composite_plot(\n",
    "        conservation_spatial_mean_df,\n",
    "        [\n",
    "            'advective_term_lateral', 'advective_term_vertical', 'advective_term_total', \n",
    "            'airdensityflux_term_vertical', 'turbulent_term_vertical', 'storage_change',\t'source'\n",
    "        ],\n",
    "        title='Flux density terms (g/m^2/s)', normalize = 7,\n",
    "        times_filter = set(nobs_times).intersection(set(is_not_snowing_dates))\n",
    "    ) \n",
    "    | \n",
    "    alt.Chart(\n",
    "        tidy_df[\n",
    "            tidy_df.variable.isin(['w_h2o__3m_c', 'w_h2o__5m_c', 'w_h2o__10m_c'])\n",
    "            &\n",
    "            tidy_df.time.isin(set(nobs_times).intersection(set(is_not_snowing_dates)))\n",
    "        ]\n",
    "    ).mark_line().encode(\n",
    "        alt.X('hoursminutes(time):T'),\n",
    "        alt.Y('median(value):Q'),\n",
    "        alt.Color('height:O')\n",
    "    ).properties(\n",
    "        width = 200, height = 200, title=('Vertical eddy covariance flux (g/m^2/s)')\n",
    "    )\n",
    ").resolve_scale(y='shared', color='independent').configure_legend(orient='top', columns=2).display(renderer='svg')"
   ]
  },
  {
   "cell_type": "code",
   "execution_count": 52,
   "metadata": {},
   "outputs": [
    {
     "data": {
      "application/vnd.vegalite.v5+json": {
       "$schema": "https://vega.github.io/schema/vega-lite/v5.17.0.json",
       "config": {
        "view": {
         "continuousHeight": 300,
         "continuousWidth": 300
        }
       },
       "data": {
        "format": {
         "type": "json"
        },
        "url": "altair-data-9220a237bdb699b6dab6962c3f96d9a3.json"
       },
       "encoding": {
        "color": {
         "field": "key",
         "type": "nominal"
        },
        "facet": {
         "field": "casestudy",
         "title": null,
         "type": "nominal"
        },
        "x": {
         "field": "time",
         "type": "temporal"
        },
        "y": {
         "field": "value",
         "scale": {
          "clamp": true,
          "domain": [
           -0.04,
           0.04
          ]
         },
         "type": "quantitative"
        }
       },
       "height": 200,
       "mark": {
        "type": "line"
       },
       "resolve": {
        "scale": {
         "x": "independent"
        }
       },
       "transform": [
        {
         "fold": [
          "advective_term_lateral",
          "advective_term_vertical",
          "advective_term_total",
          "airdensityflux_term_vertical",
          "turbulent_term_vertical",
          "storage_change",
          "source"
         ]
        }
       ],
       "width": 300
      },
      "text/plain": [
       "<VegaLite 5 object>\n",
       "\n",
       "If you see this message, it means the renderer has not been properly enabled\n",
       "for the frontend that you are using. For more information, see\n",
       "https://altair-viz.github.io/user_guide/display_frontends.html#troubleshooting\n"
      ]
     },
     "metadata": {
      "application/vnd.vegalite.v5+json": {
       "embed_options": {
        "renderer": "svg"
       }
      }
     },
     "output_type": "display_data"
    }
   ],
   "source": [
    "\n",
    "src1 = conservation_spatial_mean_df.set_index('time').loc['20221221': '20221223'].reset_index().assign(casestudy = 1)\n",
    "src2 = conservation_spatial_mean_df.set_index('time').loc['20221212': '20221214'].reset_index().assign(casestudy = 2)\n",
    "src3 = conservation_spatial_mean_df.set_index('time').loc['20230201': '20230203'].reset_index().assign(casestudy = 3)\n",
    "src = pd.concat([src1, src2, src3])\n",
    "alt.Chart(src).transform_fold([\n",
    "    'advective_term_lateral', 'advective_term_vertical',\n",
    "    'advective_term_total', 'airdensityflux_term_vertical',\n",
    "    'turbulent_term_vertical', 'storage_change', 'source',\n",
    "]).mark_line().encode(\n",
    "    alt.X('time:T'),\n",
    "    alt.Y('value:Q').scale(domain=[-0.04,0.04], clamp=True),\n",
    "    alt.Color('key:N'),\n",
    "    alt.Facet('casestudy:N').title(None)\n",
    ").properties(width = 300, height = 200).resolve_scale(x='independent').display(renderer='svg')"
   ]
  },
  {
   "cell_type": "code",
   "execution_count": 80,
   "metadata": {},
   "outputs": [
    {
     "data": {
      "application/vnd.vegalite.v5+json": {
       "$schema": "https://vega.github.io/schema/vega-lite/v5.17.0.json",
       "config": {
        "view": {
         "continuousHeight": 300,
         "continuousWidth": 300
        }
       },
       "resolve": {
        "scale": {
         "color": "independent"
        }
       },
       "vconcat": [
        {
         "data": {
          "format": {
           "type": "json"
          },
          "url": "altair-data-ac8d23baea2c8b45a1e5977a1c90711a.json"
         },
         "encoding": {
          "color": {
           "field": "key",
           "type": "nominal"
          },
          "facet": {
           "field": "casestudy",
           "title": null,
           "type": "nominal"
          },
          "x": {
           "axis": null,
           "field": "time",
           "type": "temporal"
          },
          "y": {
           "field": "value",
           "scale": {
            "clamp": true,
            "domain": [
             -0.04,
             0.04
            ]
           },
           "title": "Flux density (g/m^2/s)",
           "type": "quantitative"
          }
         },
         "height": 200,
         "mark": {
          "type": "line"
         },
         "transform": [
          {
           "fold": [
            "advective_term_total",
            "airdensityflux_term_vertical",
            "turbulent_term_vertical"
           ]
          }
         ],
         "width": 800
        },
        {
         "data": {
          "format": {
           "type": "json"
          },
          "url": "altair-data-063dfa802626f24d934bef09a7731fb9.json"
         },
         "encoding": {
          "color": {
           "field": "height",
           "type": "ordinal"
          },
          "x": {
           "axis": null,
           "field": "time",
           "type": "temporal"
          },
          "y": {
           "field": "value",
           "title": [
            "Vertical eddy cov.",
            "flux density (g/m^2/s)"
           ],
           "type": "quantitative"
          }
         },
         "height": 100,
         "mark": {
          "type": "line"
         },
         "width": 800
        },
        {
         "data": {
          "format": {
           "type": "json"
          },
          "url": "altair-data-9ef780a23fbc45d1d4f6c4cdee849a5b.json"
         },
         "encoding": {
          "color": {
           "field": "height",
           "type": "ordinal"
          },
          "x": {
           "axis": null,
           "field": "time",
           "type": "temporal"
          },
          "y": {
           "field": "value",
           "title": "Wind Dir. (˚)",
           "type": "quantitative"
          }
         },
         "height": 100,
         "mark": {
          "type": "line"
         },
         "width": 800
        },
        {
         "data": {
          "format": {
           "type": "json"
          },
          "url": "altair-data-429d74909fb23c71d0b168189e979ab1.json"
         },
         "encoding": {
          "color": {
           "field": "height",
           "type": "ordinal"
          },
          "x": {
           "axis": null,
           "field": "time",
           "type": "temporal"
          },
          "y": {
           "field": "value",
           "scale": {
            "clamp": true,
            "domain": [
             -10,
             10
            ],
            "type": "symlog"
           },
           "title": "Ri (at 3 meters)",
           "type": "quantitative"
          }
         },
         "height": 100,
         "mark": {
          "type": "line"
         },
         "width": 800
        },
        {
         "data": {
          "format": {
           "type": "json"
          },
          "url": "altair-data-c545c49e28a4fab10f985b839e14f6bd.json"
         },
         "encoding": {
          "color": {
           "field": "height",
           "type": "ordinal"
          },
          "x": {
           "field": "time",
           "type": "temporal"
          },
          "y": {
           "field": "value",
           "title": "Wind speed (m/s)",
           "type": "quantitative"
          }
         },
         "height": 100,
         "mark": {
          "type": "line"
         },
         "width": 800
        }
       ]
      },
      "text/plain": [
       "<VegaLite 5 object>\n",
       "\n",
       "If you see this message, it means the renderer has not been properly enabled\n",
       "for the frontend that you are using. For more information, see\n",
       "https://altair-viz.github.io/user_guide/display_frontends.html#troubleshooting\n"
      ]
     },
     "execution_count": 80,
     "metadata": {},
     "output_type": "execute_result"
    }
   ],
   "source": [
    "(\n",
    "    (\n",
    "        alt.Chart(\n",
    "            (conservation_spatial_mean_df.set_index('time') * 7).loc['20230201': '20230207'].reset_index().assign(casestudy = 3)\n",
    "        ).transform_fold([\n",
    "            # 'advective_term_lateral', \n",
    "            # 'advective_term_vertical',\n",
    "            'advective_term_total', \n",
    "            'airdensityflux_term_vertical',\n",
    "            'turbulent_term_vertical', \n",
    "            # 'storage_change', \n",
    "            # 'source',\n",
    "        ]).mark_line().encode(\n",
    "            alt.X('time:T').axis(None),\n",
    "            alt.Y('value:Q').scale(domain=[-0.04,0.04], clamp=True).title('Flux density (g/m^2/s)'),\n",
    "            alt.Color('key:N'),\n",
    "            alt.Facet('casestudy:N').title(None)\n",
    "        ).properties(width = 800, height = 200) &\\\n",
    "        alt.Chart(\n",
    "            tidy_df.query(\"variable == 'w_h2o__3m_c'\").set_index('time').loc['20230201': '20230207'].reset_index()\n",
    "        ).mark_line().encode(\n",
    "            alt.X('time:T').axis(None),\n",
    "            alt.Y('value:Q').title([\"Vertical eddy cov.\", \"flux density (g/m^2/s)\"]),\n",
    "            alt.Color('height:O')\n",
    "        ).properties(width = 800, height = 100)\n",
    "     ).resolve_scale(y='shared') &\\\n",
    "    alt.Chart(\n",
    "        tidy_df.query(\"measurement == 'wind direction'\").query(\"tower == 'c'\").query(\n",
    "            \"height <= 10\"\n",
    "        ).set_index('time').loc['20230201': '20230207'].reset_index()\n",
    "    ).mark_line().encode(\n",
    "        alt.X('time:T').axis(None),\n",
    "        alt.Y('value:Q').title('Wind Dir. (˚)'),\n",
    "        alt.Color('height:O')\n",
    "    ).properties(width = 800, height = 100) &\\\n",
    "    alt.Chart(\n",
    "        tidy_df.query(\"variable == 'Ri_3m_c'\").set_index('time').loc['20230201': '20230207'].reset_index()\n",
    "    ).mark_line().encode(\n",
    "        alt.X('time:T').axis(None),\n",
    "        alt.Y('value:Q').scale(type='symlog', domain=[-10,10], clamp=True).title('Ri (at 3 meters)'),\n",
    "        alt.Color('height:O')\n",
    "    ).properties(width = 800, height = 100) &\\\n",
    "    alt.Chart(\n",
    "        tidy_df.query(\"variable == 'spd_10m_c'\").set_index('time').loc['20230201': '20230207'].reset_index()\n",
    "    ).mark_line().encode(\n",
    "        alt.X('time:T'),\n",
    "        alt.Y('value:Q').title('Wind speed (m/s)'),\n",
    "        alt.Color('height:O')\n",
    "    ).properties(width = 800, height = 100)\n",
    ").resolve_scale(color='independent')"
   ]
  },
  {
   "cell_type": "code",
   "execution_count": null,
   "metadata": {},
   "outputs": [],
   "source": [
    "alt.Chart(\n",
    "    tidy_df.query(\"measurement == 'wind direction'\").query(\"tower == 'c'\").query(\n",
    "        \"height <= 10\"\n",
    "    ).set_index('time').loc['20221221': '20221223'].reset_index()\n",
    ").mark_line().encode(\n",
    "    alt.X('time:T'),\n",
    "    alt.Y('value:Q'),\n",
    "    alt.Color('height:O')\n",
    ").properties(width = 300, height = 200) | alt.Chart(\n",
    "    tidy_df.query(\"measurement == 'wind direction'\").query(\"tower == 'c'\").query(\n",
    "        \"height <= 10\"\n",
    "    ).set_index('time').loc['20221212': '20221214'].reset_index()\n",
    ").mark_line().encode(\n",
    "    alt.X('time:T'),\n",
    "    alt.Y('value:Q'),\n",
    "    alt.Color('height:O')\n",
    ").properties(width = 300, height = 200) | alt.Chart(\n",
    "    tidy_df.query(\"measurement == 'wind direction'\").query(\"tower == 'c'\").query(\n",
    "        \"height <= 10\"\n",
    "    ).set_index('time').loc['20230201': '20230203'].reset_index()\n",
    ").mark_line().encode(\n",
    "    alt.X('time:T'),\n",
    "    alt.Y('value:Q'),\n",
    "    alt.Color('height:O')\n",
    ").properties(width = 300, height = 200)"
   ]
  },
  {
   "cell_type": "code",
   "execution_count": null,
   "metadata": {},
   "outputs": [],
   "source": [
    "src = tidy_df[\n",
    "    tidy_df.time.isin(\n",
    "        set(nobs_times).intersection(set(is_not_snowing_dates))\n",
    "    )\n",
    "]\n",
    "src = src[src.variable.isin(['w_h2o__3m_c', 'w_h2o__5m_c', 'w_h2o__10m_c'])]\n",
    "alt.Chart(\n",
    "    src\n",
    ").mark_line().encode(\n",
    "    alt.X('hoursminutes(time):T'),\n",
    "    alt.Y('median(value):Q'),\n",
    "    alt.Color('height:O')\n",
    ").properties(height = 200, width = 200, title='Vertical turbulent flux (g/m^2/s)')"
   ]
  },
  {
   "cell_type": "code",
   "execution_count": null,
   "metadata": {},
   "outputs": [],
   "source": [
    "alt.Chart(\n",
    "    tidy_df.query(\"measurement == 'air density'\").query(\"height > 0\")\n",
    ").mark_line().encode(\n",
    "    alt.X('hoursminutes(time):T'),\n",
    "    alt.Y('median(value):Q').scale(zero=False),\n",
    "    alt.Color('height:O')\n",
    ") | alt.Chart(\n",
    "    tidy_df.query(\"measurement == 'temperature'\").query(\"height > 0\")\n",
    ").mark_line().encode(\n",
    "    alt.X('hoursminutes(time):T'),\n",
    "    alt.Y('median(value):Q').scale(zero=False),\n",
    "    alt.Color('height:O')\n",
    ")"
   ]
  },
  {
   "cell_type": "code",
   "execution_count": null,
   "metadata": {},
   "outputs": [],
   "source": [
    "src = mixing_ratio_field_df.copy()\n",
    "src.columns = src.columns.droplevel(2)\n",
    "src.columns = [f\"{int(c1)}_{c2}\" for (c1,c2) in zip(\n",
    "    src.columns.get_level_values(0),\n",
    "    src.columns.get_level_values(1)\n",
    ")]\n",
    "src = src.melt(ignore_index=False)\n",
    "src['height'] = src['variable'].apply(lambda s: int(s.split('_')[0]))\n",
    "src['tower'] = src['variable'].apply(lambda s: s.split('_')[1])\n",
    "src = src[src.tower != 'c']\n",
    "alt.Chart(src.reset_index()).mark_line().encode(\n",
    "    alt.X('hoursminutes(time):T'),\n",
    "    alt.Y('median(value):Q').scale(zero=False\n",
    "                                   ),\n",
    "    alt.Color('tower:N'),\n",
    "    alt.StrokeDash('height:O'),\n",
    ")"
   ]
  }
 ],
 "metadata": {
  "kernelspec": {
   "display_name": "arm",
   "language": "python",
   "name": "python3"
  },
  "language_info": {
   "codemirror_mode": {
    "name": "ipython",
    "version": 3
   },
   "file_extension": ".py",
   "mimetype": "text/x-python",
   "name": "python",
   "nbconvert_exporter": "python",
   "pygments_lexer": "ipython3",
   "version": "3.12.4"
  }
 },
 "nbformat": 4,
 "nbformat_minor": 2
}
