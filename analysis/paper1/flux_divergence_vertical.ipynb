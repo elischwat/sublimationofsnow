{
 "cells": [
  {
   "cell_type": "code",
   "execution_count": 1,
   "metadata": {},
   "outputs": [],
   "source": [
    "import numpy as np\n",
    "import pandas as pd\n",
    "import matplotlib.pyplot as plt\n",
    "import altair as alt\n",
    "alt.data_transformers.enable('json')\n",
    "alt.renderers.enable('jupyterlab')\n",
    "from sublimpy import tidy, utils\n",
    "import pytz\n",
    "import datetime as dt\n",
    "\n",
    "seconds_in_timestep = 60*30\n",
    "from metpy.constants import density_water\n",
    "\n",
    "from metpy.units import units\n",
    "import pint_pandas\n",
    "from metpy import constants"
   ]
  },
  {
   "cell_type": "markdown",
   "metadata": {},
   "source": [
    "# Open SOS Measurement Dataset"
   ]
  },
  {
   "cell_type": "code",
   "execution_count": 2,
   "metadata": {},
   "outputs": [
    {
     "name": "stdout",
     "output_type": "stream",
     "text": [
      "-rw-r--r--@    1 elischwat  staff   202M Apr  3 18:07 coare_model_results.parquet\n",
      "-rw-r--r--@    1 elischwat  staff   116M Mar  6 15:57 model_results.parquet\n",
      "-rw-r--r--     1 elischwat  staff    57M Jul 30 15:16 tidy_df_20221101_20230619_noplanar_fit.parquet\n",
      "-rw-r--r--     1 elischwat  staff    57M Jul 18 15:41 tidy_df_20221101_20230619_planar_fit.parquet\n",
      "-rw-r--r--     1 elischwat  staff    57M Aug  6 12:59 tidy_df_20221101_20230619_planar_fit_multiplane.parquet\n",
      "-rw-r--r--@    1 elischwat  staff    38M Jul  2 22:09 tidy_df_20221130_20230509_noplanar_fit.parquet\n",
      "-rw-r--r--     1 elischwat  staff   257M Feb 20 22:02 tidy_df_20221130_20230509_noplanar_fit_ARCHIVE.parquet\n",
      "-rw-r--r--@    1 elischwat  staff    50M Apr  3 18:06 tidy_df_20221130_20230509_noplanar_fit_clean.parquet\n",
      "-rw-r--r--     1 elischwat  staff    44M Jul 16 11:00 tidy_df_20221130_20230509_planar_fit.parquet\n",
      "-rw-r--r--     1 elischwat  staff    39M Jun 11 14:38 tidy_df_20221130_20230509_planar_fit_multiplane.parquet\n",
      "-rw-r--r--     1 elischwat  staff    50M Apr 29 20:28 tidy_df_20221130_20230619_noplanar_fit.parquet\n"
     ]
    }
   ],
   "source": [
    "ls -lah | grep parquet"
   ]
  },
  {
   "cell_type": "code",
   "execution_count": 3,
   "metadata": {},
   "outputs": [],
   "source": [
    "start_date = '20221130'\n",
    "end_date = '20230509'\n",
    "# open files\n",
    "# tidy_df = pd.read_parquet(f'tidy_df_{start_date}_{end_date}_noplanar_fit_clean.parquet')\n",
    "tidy_df_noplanarfit = pd.read_parquet(f'tidy_df_{start_date}_{end_date}_noplanar_fit.parquet')\n",
    "tidy_df = pd.read_parquet(f'tidy_df_{start_date}_{end_date}_planar_fit.parquet')\n",
    "# convert time column to datetime\n",
    "tidy_df['time'] = pd.to_datetime(tidy_df['time'])\n",
    "tidy_df = utils.modify_df_timezone(tidy_df, pytz.UTC, 'US/Mountain')\n",
    "# limit data to our dates of interest, based on continuous snow cover at Kettle Ponds\n",
    "tidy_df = tidy_df.set_index('time').sort_index().loc[start_date:end_date].reset_index()\n",
    "\n",
    "## Add combined blowing snow flux variable\n",
    "tidy_df = tidy.tidy_df_add_variable(\n",
    "    tidy_df,\n",
    "    (\n",
    "        tidy_df.query(\"variable == 'SF_avg_1m_ue'\")['value'].values + \n",
    "        tidy_df.query(\"variable == 'SF_avg_2m_ue'\")['value'].values\n",
    "    ), \n",
    "    'SF_avg_ue',\n",
    "    'snow flux',\n",
    "    1,\n",
    "    'ue',\n",
    ")"
   ]
  },
  {
   "cell_type": "markdown",
   "metadata": {},
   "source": [
    "# Identify categories"
   ]
  },
  {
   "cell_type": "code",
   "execution_count": 4,
   "metadata": {},
   "outputs": [],
   "source": [
    "# Identify lists of timestamps for different categories\n",
    "bs_times = tidy_df.query(\"variable == 'SF_avg_ue'\").query(\"value > 0\").time\n",
    "nobs_times = tidy_df.query(\"variable == 'SF_avg_ue'\").query(\"value == 0\").time\n",
    "\n",
    "decoupled_times = tidy_df.query(\"variable == 'omega_3m_c'\").query(\"value < 0.43\").time\n",
    "weaklycoupled_times = tidy_df.query(\"variable == 'omega_3m_c'\").query(\"value >= 0.43\").query(\"value <= 0.61\").time\n",
    "coupled_times = tidy_df.query(\"variable == 'omega_3m_c'\").query(\"value > 0.61\").time\n",
    "\n",
    "ri_stable_times = tidy_df.query(\"variable == 'Ri_3m_c'\").query(\"value > 0.25\").time\n",
    "ri_unstable_times = tidy_df.query(\"variable == 'Ri_3m_c'\").query(\"value < -0.01\").time\n",
    "ri_neutral_times = tidy_df.query(\"variable == 'Ri_3m_c'\").query(\"value >= -0.01\").query(\"value <= 0.25\").time\n",
    "\n",
    "tgrad_stable_times = tidy_df.query(\"variable == 'temp_gradient_3m_c'\").query(\"value > 0.01\").time\n",
    "tgrad_unstable_times = tidy_df.query(\"variable == 'temp_gradient_3m_c'\").query(\"value < -0.01\").time\n",
    "tgrad_neutral_times = tidy_df.query(\"variable == 'temp_gradient_3m_c'\").query(\"value >= -0.01\").query(\"value <= 0.01\").time"
   ]
  },
  {
   "cell_type": "markdown",
   "metadata": {},
   "source": [
    "# Test 3D divergence"
   ]
  },
  {
   "cell_type": "code",
   "execution_count": 5,
   "metadata": {},
   "outputs": [
    {
     "data": {
      "text/plain": [
       "(<Quantity(370, 'meter ** 2')>,\n",
       " <Quantity(370, 'meter ** 2')>,\n",
       " <Quantity(370, 'meter ** 2')>,\n",
       " <Quantity(580.2, 'meter ** 2')>,\n",
       " <Quantity(580.2, 'meter ** 2')>,\n",
       " <Quantity(4061.4, 'meter ** 3')>)"
      ]
     },
     "execution_count": 5,
     "metadata": {},
     "output_type": "execute_result"
    }
   ],
   "source": [
    "# Define face areas\n",
    "A1 = A2 = A3 = 37 * 10 * units('m^2')\n",
    "A4 = A5 = 580.2 * units('m^2')\n",
    "VOLUME = A4*7*units('m')\n",
    "A1, A2, A3, A4, A5, VOLUME"
   ]
  },
  {
   "cell_type": "code",
   "execution_count": 6,
   "metadata": {},
   "outputs": [],
   "source": [
    "pivot_df = tidy_df[tidy_df.variable.isin([\n",
    "    'u_h2o__3m_ue', 'v_h2o__3m_ue',\n",
    "    'u_h2o__10m_ue','v_h2o__10m_ue',\n",
    "    \n",
    "    'u_h2o__3m_uw', 'v_h2o__3m_uw',\n",
    "    'u_h2o__10m_uw','v_h2o__10m_uw',\n",
    "\n",
    "    'u_h2o__3m_d', 'v_h2o__3m_d',\n",
    "    'u_h2o__10m_d','v_h2o__10m_d',\n",
    "\n",
    "    'w_h2o__3m_ue',\n",
    "    'w_h2o__10m_ue',\n",
    "    'w_h2o__3m_uw',\n",
    "    'w_h2o__10m_uw',\n",
    "    'w_h2o__3m_d',\n",
    "    'w_h2o__10m_d',\n",
    "    'w_h2o__3m_c',\n",
    "    'w_h2o__10m_c',\n",
    "])][['time', 'variable', 'value']].pivot(index='time', columns='variable', values='value')\n"
   ]
  },
  {
   "cell_type": "code",
   "execution_count": 7,
   "metadata": {},
   "outputs": [],
   "source": [
    "n1 = np.array([ np.cos(np.deg2rad(-188)),   np.sin(np.deg2rad(-188))])*units(None)\n",
    "n2 = np.array([ np.cos(np.deg2rad(-69)),   np.sin(np.deg2rad(-69))])*units(None)\n",
    "n3 = np.array([ np.cos(np.deg2rad(-312)),   np.sin(np.deg2rad(-312))])*units(None)"
   ]
  },
  {
   "cell_type": "code",
   "execution_count": 8,
   "metadata": {},
   "outputs": [],
   "source": [
    "storage_change_term = tidy_df[\n",
    "    tidy_df.measurement.isin(['specific humidity', 'air density'])\n",
    "].query(\"tower == 'c'\").groupby(\n",
    "    ['time', 'tower', 'measurement']\n",
    ")[['value']].mean().reset_index() \n",
    "storage_change_term = pd.merge(\n",
    "    storage_change_term.query(\"measurement == 'specific humidity'\").rename(columns={'value': 'specific humidity'}),\n",
    "    storage_change_term.query(\"measurement == 'air density'\").rename(columns={'value': 'air density'}),\n",
    "    on='time'\n",
    ")[['time', 'specific humidity', 'air density']]\n",
    "storage_change_term['absolute humidity'] = storage_change_term['specific humidity'].values * units(\"g/g\") * (\n",
    "    storage_change_term['air density'].values * units(\"kg/m^3\")\n",
    ")\n",
    "storage_change_term['delta water storage'] = np.diff(\n",
    "    storage_change_term['absolute humidity'].values * units('g/m^3') * VOLUME,\n",
    "    append=np.nan\n",
    ")"
   ]
  },
  {
   "cell_type": "code",
   "execution_count": 9,
   "metadata": {},
   "outputs": [],
   "source": [
    "face1_avg_flux = 0.25*(\n",
    "    pivot_df[['v_h2o__3m_ue', 'u_h2o__3m_ue']].values * units('g/m^2/s') +\n",
    "    pivot_df[['v_h2o__10m_ue', 'u_h2o__10m_ue']].values * units('g/m^2/s') +\n",
    "    pivot_df[['v_h2o__3m_d', 'u_h2o__3m_d']].values * units('g/m^2/s') +\n",
    "    pivot_df[['v_h2o__10m_d', 'u_h2o__10m_d']].values * units('g/m^2/s')\n",
    ")\n",
    "face2_avg_flux = 0.25*(\n",
    "    pivot_df[['v_h2o__3m_uw', 'u_h2o__3m_uw']].values * units('g/m^2/s') +\n",
    "    pivot_df[['v_h2o__10m_uw', 'u_h2o__10m_uw']].values * units('g/m^2/s') +\n",
    "    pivot_df[['v_h2o__3m_d', 'u_h2o__3m_d']].values * units('g/m^2/s') +\n",
    "    pivot_df[['v_h2o__10m_d', 'u_h2o__10m_d']].values * units('g/m^2/s')\n",
    ")\n",
    "face3_avg_flux = 0.25*(\n",
    "    pivot_df[['v_h2o__3m_uw', 'u_h2o__3m_uw']].values * units('g/m^2/s') +\n",
    "    pivot_df[['v_h2o__10m_uw', 'u_h2o__10m_uw']].values * units('g/m^2/s') +\n",
    "    pivot_df[['v_h2o__3m_ue', 'u_h2o__3m_ue']].values * units('g/m^2/s') +\n",
    "    pivot_df[['v_h2o__10m_ue', 'u_h2o__10m_ue']].values * units('g/m^2/s')\n",
    ")\n",
    "average_upward_3m_flux = 0.25*(\n",
    "    pivot_df['w_h2o__3m_ue'].values * units('g/m^2/s') +\n",
    "    pivot_df['w_h2o__3m_uw'].values * units('g/m^2/s') +\n",
    "    pivot_df['w_h2o__3m_d'].values * units('g/m^2/s') +\n",
    "    pivot_df['w_h2o__3m_c'].values * units('g/m^2/s')\n",
    ")\n",
    "\n",
    "average_upward_10m_flux = 0.25*(\n",
    "    pivot_df['w_h2o__10m_ue'].values * units('g/m^2/s') +\n",
    "    pivot_df['w_h2o__10m_uw'].values * units('g/m^2/s') +\n",
    "    pivot_df['w_h2o__10m_d'].values * units('g/m^2/s') +\n",
    "    pivot_df['w_h2o__10m_c'].values * units('g/m^2/s')\n",
    ")\n",
    "\n",
    "face1_projected_flux = np.dot(face1_avg_flux, n1)\n",
    "face2_projected_flux = np.dot(face2_avg_flux, n2)\n",
    "face3_projected_flux = np.dot(face3_avg_flux, n3)"
   ]
  },
  {
   "cell_type": "code",
   "execution_count": 10,
   "metadata": {},
   "outputs": [],
   "source": [
    "pivot_df['storage_change'] = storage_change_term.set_index('time')['delta water storage']"
   ]
  },
  {
   "cell_type": "code",
   "execution_count": 11,
   "metadata": {},
   "outputs": [],
   "source": [
    "pivot_df['face1_projected_flux'] = face1_projected_flux\n",
    "pivot_df['face2_projected_flux'] = face2_projected_flux\n",
    "pivot_df['face3_projected_flux'] = face3_projected_flux\n",
    "pivot_df['integrated_lateral_flux'] = (\n",
    "    face1_projected_flux*A1 + \n",
    "    face2_projected_flux*A2 + \n",
    "    face3_projected_flux*A3\n",
    ")\n",
    "pivot_df['vertical_divergence'] = average_upward_10m_flux - average_upward_3m_flux\n",
    "pivot_df['integrated_vertical_flux'] = average_upward_10m_flux*A4 - average_upward_3m_flux*A5\n",
    "\n",
    "pivot_df['total_divergence'] = pivot_df['integrated_lateral_flux'] + pivot_df['integrated_vertical_flux']"
   ]
  },
  {
   "cell_type": "code",
   "execution_count": 12,
   "metadata": {},
   "outputs": [
    {
     "data": {
      "text/plain": [
       "time\n",
       "2022-11-30 00:00:00    0.016662\n",
       "2022-11-30 00:30:00   -0.015309\n",
       "2022-11-30 01:00:00    0.048541\n",
       "2022-11-30 01:30:00    0.071968\n",
       "2022-11-30 02:00:00   -0.035387\n",
       "                         ...   \n",
       "2023-05-09 15:00:00    0.496993\n",
       "2023-05-09 15:30:00    0.185954\n",
       "2023-05-09 16:00:00    0.570032\n",
       "2023-05-09 16:30:00   -0.161200\n",
       "2023-05-09 17:00:00    0.406368\n",
       "Name: storage_change, Length: 7691, dtype: float64"
      ]
     },
     "execution_count": 12,
     "metadata": {},
     "output_type": "execute_result"
    }
   ],
   "source": [
    "pivot_df['storage_change'].dropna()"
   ]
  },
  {
   "cell_type": "code",
   "execution_count": 13,
   "metadata": {},
   "outputs": [],
   "source": [
    "pivot_df['BS Sublimation'] = pivot_df['storage_change'] + pivot_df['total_divergence']"
   ]
  },
  {
   "cell_type": "code",
   "execution_count": 14,
   "metadata": {},
   "outputs": [
    {
     "data": {
      "application/vnd.vegalite.v5+json": {
       "$schema": "https://vega.github.io/schema/vega-lite/v5.17.0.json",
       "config": {
        "view": {
         "continuousHeight": 300,
         "continuousWidth": 300
        }
       },
       "hconcat": [
        {
         "vconcat": [
          {
           "data": {
            "format": {
             "type": "json"
            },
            "url": "altair-data-309279287b5c22e004265bdf5559d78c.json"
           },
           "encoding": {
            "x": {
             "field": "time",
             "type": "temporal"
            },
            "y": {
             "field": "value",
             "type": "quantitative"
            }
           },
           "height": 125,
           "mark": {
            "color": "black",
            "type": "line"
           },
           "width": 300
          },
          {
           "data": {
            "format": {
             "type": "json"
            },
            "url": "altair-data-69f4b920e9a763d5e9ac57b684c07aa0.json"
           },
           "encoding": {
            "color": {
             "field": "variable",
             "type": "nominal"
            },
            "x": {
             "field": "time",
             "type": "temporal"
            },
            "y": {
             "field": "rolling_avg",
             "scale": {
              "clamp": true,
              "domain": [
               -20,
               20
              ]
             },
             "type": "quantitative"
            }
           },
           "height": 125,
           "mark": {
            "type": "line"
           },
           "transform": [
            {
             "frame": [
              -2,
              2
             ],
             "groupby": [
              "variable"
             ],
             "window": [
              {
               "as": "rolling_avg",
               "field": "value",
               "op": "mean"
              }
             ]
            }
           ],
           "width": 300
          }
         ]
        },
        {
         "vconcat": [
          {
           "data": {
            "format": {
             "type": "json"
            },
            "url": "altair-data-7e9161b830cbee78a10754e398c9b68c.json"
           },
           "encoding": {
            "x": {
             "field": "time",
             "type": "temporal"
            },
            "y": {
             "field": "value",
             "type": "quantitative"
            }
           },
           "height": 125,
           "mark": {
            "color": "black",
            "type": "line"
           },
           "width": 300
          },
          {
           "data": {
            "format": {
             "type": "json"
            },
            "url": "altair-data-a5857d19db1393325eb5107a1140b409.json"
           },
           "encoding": {
            "color": {
             "field": "variable",
             "type": "nominal"
            },
            "x": {
             "field": "time",
             "type": "temporal"
            },
            "y": {
             "field": "rolling_avg",
             "scale": {
              "clamp": true,
              "domain": [
               -20,
               20
              ]
             },
             "type": "quantitative"
            }
           },
           "height": 125,
           "mark": {
            "type": "line"
           },
           "transform": [
            {
             "frame": [
              -2,
              2
             ],
             "groupby": [
              "variable"
             ],
             "window": [
              {
               "as": "rolling_avg",
               "field": "value",
               "op": "mean"
              }
             ]
            }
           ],
           "width": 300
          }
         ]
        },
        {
         "vconcat": [
          {
           "data": {
            "format": {
             "type": "json"
            },
            "url": "altair-data-a582eaaab25daa7604f66a5c050ac335.json"
           },
           "encoding": {
            "x": {
             "field": "time",
             "type": "temporal"
            },
            "y": {
             "field": "value",
             "type": "quantitative"
            }
           },
           "height": 125,
           "mark": {
            "color": "black",
            "type": "line"
           },
           "width": 300
          },
          {
           "data": {
            "format": {
             "type": "json"
            },
            "url": "altair-data-4df5376f321ca075913cf3cd0713c547.json"
           },
           "encoding": {
            "color": {
             "field": "variable",
             "type": "nominal"
            },
            "x": {
             "field": "time",
             "type": "temporal"
            },
            "y": {
             "field": "rolling_avg",
             "scale": {
              "clamp": true,
              "domain": [
               -20,
               20
              ]
             },
             "type": "quantitative"
            }
           },
           "height": 125,
           "mark": {
            "type": "line"
           },
           "transform": [
            {
             "frame": [
              -2,
              2
             ],
             "groupby": [
              "variable"
             ],
             "window": [
              {
               "as": "rolling_avg",
               "field": "value",
               "op": "mean"
              }
             ]
            }
           ],
           "width": 300
          }
         ]
        }
       ]
      },
      "text/plain": [
       "<VegaLite 5 object>\n",
       "\n",
       "If you see this message, it means the renderer has not been properly enabled\n",
       "for the frontend that you are using. For more information, see\n",
       "https://altair-viz.github.io/user_guide/display_frontends.html#troubleshooting\n"
      ]
     },
     "execution_count": 14,
     "metadata": {},
     "output_type": "execute_result"
    }
   ],
   "source": [
    "(\n",
    "    alt.Chart(\n",
    "        tidy_df.query(\"variable == 'SF_avg_ue'\").set_index('time').loc[\n",
    "            '20221220':'20221223'\n",
    "        ].reset_index()\n",
    "    ).mark_line(color='black').encode(\n",
    "        alt.X('time:T'),\n",
    "        alt.Y('value:Q')\n",
    "    ).properties(width = 300, height = 125) \n",
    "    \n",
    "    &\n",
    "    \n",
    "    alt.Chart(\n",
    "        pivot_df[[\n",
    "            'total_divergence',\n",
    "            'integrated_lateral_flux',\n",
    "            'integrated_vertical_flux',\n",
    "            'storage_change',\n",
    "            'BS Sublimation'\n",
    "        ]].loc['20221220':'20221223'].melt(ignore_index=False).reset_index()\n",
    "    ).transform_window(\n",
    "        rolling_avg = \"mean(value)\",\n",
    "        frame = [-2, 2],\n",
    "        groupby = ['variable']\n",
    "    ).mark_line().encode(\n",
    "        alt.X(\"time:T\"),\n",
    "        alt.Y(\"rolling_avg:Q\").scale(domain=[-20,20], clamp=True),\n",
    "        alt.Color(\"variable:N\")\n",
    "    ).properties(width = 300, height = 125)\n",
    ") | (\n",
    "    alt.Chart(\n",
    "        tidy_df.query(\"variable == 'SF_avg_ue'\").set_index('time').loc[\n",
    "            '20221211':'20221214'\n",
    "        ].reset_index()\n",
    "    ).mark_line(color='black').encode(\n",
    "        alt.X('time:T'),\n",
    "        alt.Y('value:Q')\n",
    "    ).properties(width = 300, height = 125) \n",
    "    \n",
    "    &\n",
    "    \n",
    "    alt.Chart(\n",
    "        pivot_df[[\n",
    "            'total_divergence',\n",
    "            'integrated_lateral_flux',\n",
    "            'integrated_vertical_flux',\n",
    "            'storage_change',\n",
    "            'BS Sublimation'\n",
    "        ]].loc['20221211':'20221214'].melt(ignore_index=False).reset_index()\n",
    "    ).transform_window(\n",
    "        rolling_avg = \"mean(value)\",\n",
    "        frame = [-2, 2],\n",
    "        groupby = ['variable']\n",
    "    ).mark_line().encode(\n",
    "        alt.X(\"time:T\"),\n",
    "        alt.Y(\"rolling_avg:Q\").scale(domain=[-20,20], clamp=True),\n",
    "        alt.Color(\"variable:N\")\n",
    "    ).properties(width = 300, height = 125)   \n",
    ") | (\n",
    "    alt.Chart(\n",
    "        tidy_df.query(\"variable == 'SF_avg_ue'\").set_index('time').loc[\n",
    "            '20230328':'20230331    '\n",
    "        ].reset_index()\n",
    "    ).mark_line(color='black').encode(\n",
    "        alt.X('time:T'),\n",
    "        alt.Y('value:Q')\n",
    "    ).properties(width = 300, height = 125) \n",
    "    \n",
    "    &\n",
    "    \n",
    "    alt.Chart(\n",
    "        pivot_df[[\n",
    "            'total_divergence',\n",
    "            'integrated_lateral_flux',\n",
    "            'integrated_vertical_flux',\n",
    "            'storage_change',\n",
    "            'BS Sublimation'\n",
    "        ]].loc['20230328':'20230331 '].melt(ignore_index=False).reset_index()\n",
    "    ).transform_window(\n",
    "        rolling_avg = \"mean(value)\",\n",
    "        frame = [-2, 2],\n",
    "        groupby = ['variable']\n",
    "    ).mark_line().encode(\n",
    "        alt.X(\"time:T\"),\n",
    "        alt.Y(\"rolling_avg:Q\").scale(domain=[-20,20], clamp=True),\n",
    "        alt.Color(\"variable:N\")\n",
    "    ).properties(width = 300, height = 125)   \n",
    ")"
   ]
  },
  {
   "cell_type": "code",
   "execution_count": 15,
   "metadata": {},
   "outputs": [
    {
     "data": {
      "text/plain": [
       "(0.6931619646799569,\n",
       " 0.3050373289904129,\n",
       " 0.49594677899104267,\n",
       " -0.3103992759135513,\n",
       " 0.19721518568891525,\n",
       " 0.6154366049039641)"
      ]
     },
     "execution_count": 15,
     "metadata": {},
     "output_type": "execute_result"
    }
   ],
   "source": [
    "pivot_df[ ~ pivot_df.index.hour.isin([19,20,21,22,23,0,1,2,3,4,5,6]) & (pivot_df.index.isin(bs_times))         ]['total_divergence'].mean(),\\\n",
    "pivot_df[ ~ pivot_df.index.hour.isin([19,20,21,22,23,0,1,2,3,4,5,6]) & (pivot_df.index.isin(nobs_times))       ]['total_divergence'].mean(),\\\n",
    "\\\n",
    "pivot_df[ ~ pivot_df.index.hour.isin([19,20,21,22,23,0,1,2,3,4,5,6]) & (pivot_df.index.isin(set(bs_times)))    ]['integrated_vertical_flux'].mean(),\\\n",
    "pivot_df[ ~ pivot_df.index.hour.isin([19,20,21,22,23,0,1,2,3,4,5,6]) & (pivot_df.index.isin(set(nobs_times)))  ]['integrated_vertical_flux'].mean(),\\\n",
    "\\\n",
    "pivot_df[ ~ pivot_df.index.hour.isin([19,20,21,22,23,0,1,2,3,4,5,6]) & (pivot_df.index.isin(bs_times))         ]['integrated_lateral_flux'].mean(),\\\n",
    "pivot_df[ ~ pivot_df.index.hour.isin([19,20,21,22,23,0,1,2,3,4,5,6]) & (pivot_df.index.isin(nobs_times))       ]['integrated_lateral_flux'].mean(),"
   ]
  },
  {
   "cell_type": "code",
   "execution_count": 16,
   "metadata": {},
   "outputs": [
    {
     "data": {
      "text/plain": [
       "<matplotlib.legend.Legend at 0x15b023950>"
      ]
     },
     "execution_count": 16,
     "metadata": {},
     "output_type": "execute_result"
    },
    {
     "data": {
      "image/png": "[encoded data removed]",
      "text/plain": [
       "<Figure size 500x600 with 3 Axes>"
      ]
     },
     "metadata": {},
     "output_type": "display_data"
    }
   ],
   "source": [
    "fig, axes = plt.subplots(3,1, sharex=True, figsize=(5, 6))\n",
    "axes[0].plot(\n",
    "    tidy_df.query(\"variable == 'SF_avg_ue'\").set_index('time').sort_index().loc['20221221':'20221223'].index,\n",
    "    tidy_df.query(\"variable == 'SF_avg_ue'\").set_index('time').sort_index().loc['20221221':'20221223'].value\n",
    ")\n",
    "axes[1].plot(\n",
    "    tidy_df.query(\"variable == 'specifichumidity_5m_c'\").set_index('time').sort_index().loc['20221221':'20221223'].index,\n",
    "    tidy_df.query(\"variable == 'specifichumidity_5m_c'\").set_index('time').sort_index().loc['20221221':'20221223'].value\n",
    ")\n",
    "axes[2].plot(\n",
    "    pivot_df['integrated_vertical_flux'].loc['20221221':'20221223'].index,\n",
    "    pivot_df['integrated_vertical_flux'].loc['20221221':'20221223'],\n",
    "    color='blue',\n",
    "    label = 'vertical divergence'\n",
    ")\n",
    "axes[2].plot(\n",
    "    pivot_df['total_divergence'].loc['20221221':'20221223'].index,\n",
    "    pivot_df['total_divergence'].loc['20221221':'20221223'],\n",
    "    color='red',\n",
    "    label = 'total divergence'\n",
    ")\n",
    "axes[2].plot(\n",
    "    pivot_df['integrated_lateral_flux'].loc['20221221':'20221223'].index,\n",
    "    pivot_df['integrated_lateral_flux'].loc['20221221':'20221223'],\n",
    "    color='yellow',\n",
    "    label = 'lateral divergence'\n",
    ")\n",
    "axes[0].axhline(0, color='grey')\n",
    "axes[1].axhline(0, color='grey')\n",
    "axes[2].axhline(0, color='grey')\n",
    "axes[0].set_ylabel(\"Blowing snow\\nflux (g/m^2/s)\", rotation=0, labelpad=60)\n",
    "axes[1].set_ylabel(\"Specific\\nhumidity (g/g)\", rotation=0, labelpad=60)\n",
    "axes[2].set_ylabel(\"Vertical divergence\\n(10-3m vertical flux)\\n(g/m^2/s)\", rotation=0, labelpad=60)\n",
    "axes[2].legend(loc='upper right')"
   ]
  },
  {
   "cell_type": "markdown",
   "metadata": {},
   "source": [
    "# LATERAL AND VERTICAL PLOTS ABOVE NEED TO BE CONVERTED SO THEY ARE INTEGRATED ACROSS THE SURFACES and are in units g/s"
   ]
  },
  {
   "cell_type": "markdown",
   "metadata": {},
   "source": [
    "# Separate measurements into categories"
   ]
  },
  {
   "cell_type": "code",
   "execution_count": 17,
   "metadata": {},
   "outputs": [],
   "source": [
    "w_h2o__vars = ['w_h2o__1m_ue',\n",
    " 'w_h2o__2m_ue',\n",
    " 'w_h2o__2m_d',\n",
    " 'w_h2o__10m_d',\n",
    " 'w_h2o__3m_d',\n",
    " 'w_h2o__10m_uw',\n",
    " 'w_h2o__3m_uw',\n",
    " 'w_h2o__10m_ue',\n",
    " 'w_h2o__3m_ue',\n",
    " 'w_h2o__15m_c',\n",
    " 'w_h2o__10m_c',\n",
    " 'w_h2o__5m_c',\n",
    " 'w_h2o__3m_c',\n",
    " 'w_h2o__2m_c',\n",
    " 'w_h2o__2m_uw',\n",
    " 'w_h2o__20m_c',\n",
    " 'w_h2o__2_5m_uw',\n",
    " 'w_h2o__1m_uw',\n",
    " 'w_h2o__1m_c',\n",
    " 'w_h2o__1m_d']"
   ]
  },
  {
   "cell_type": "code",
   "execution_count": 18,
   "metadata": {},
   "outputs": [],
   "source": [
    "from sublimpy import extrautils"
   ]
  },
  {
   "cell_type": "code",
   "execution_count": null,
   "metadata": {},
   "outputs": [],
   "source": [
    "tidy_df_streamwise = tidy_df.groupby('time').apply(extrautils.streamwise_coordinates_single_rotation_tidy_df)\n",
    "tidy_df_streamwise = tidy_df_streamwise.reset_index(drop=True)\n",
    "\n",
    "# tidy_df_streamwise = extrautils.streamwise_coordinates_single_rotation_tidy_df(tidy_df)"
   ]
  },
  {
   "cell_type": "code",
   "execution_count": null,
   "metadata": {},
   "outputs": [],
   "source": [
    "alt.Chart(tidy_df[tidy_df.variable.isin(['u_3m_c', 'v_3m_c'])].query(\"time < '20221215'\")).mark_line().encode(\n",
    "    alt.X(\"time:T\"),\n",
    "    alt.Y(\"value:Q\"),\n",
    "    alt.Color(\"variable\")\n",
    ").properties(width=600) &\\\n",
    "alt.Chart(tidy_df_streamwise[tidy_df_streamwise.variable.isin(['u_3m_c', 'v_3m_c'])].query(\"time < '20221215'\")).mark_line().encode(\n",
    "    alt.X(\"time:T\"),\n",
    "    alt.Y(\"value:Q\"),\n",
    "    alt.Color(\"variable\")\n",
    ").properties(width=600)"
   ]
  },
  {
   "cell_type": "code",
   "execution_count": 19,
   "metadata": {},
   "outputs": [],
   "source": [
    "w_measurements_df = tidy_df[tidy_df.measurement == 'w']\n",
    "u_measurements_df = tidy_df[tidy_df.measurement == 'u']\n",
    "v_measurements_df = tidy_df[tidy_df.measurement == 'v']\n",
    "q_measurements_df = tidy_df[tidy_df.measurement == 'specific humidity']\n",
    "tke_measurements_df = tidy_df[tidy_df.measurement  == 'turbulent kinetic energy']\n",
    "w_w__measurements_df = tidy_df[tidy_df.measurement  == 'w_w_']\n",
    "w_h2o__measurements_df = tidy_df[tidy_df.variable.isin(w_h2o__vars)]\n",
    "u_h2o__measurements_df = tidy_df[tidy_df.measurement == 'u_h2o_']\n",
    "v_h2o__measurements_df = tidy_df[tidy_df.measurement == 'v_h2o_']"
   ]
  },
  {
   "cell_type": "markdown",
   "metadata": {},
   "source": [
    "# Create sub groups of the separate measurements"
   ]
  },
  {
   "cell_type": "code",
   "execution_count": 20,
   "metadata": {},
   "outputs": [],
   "source": [
    "def filt_times(df, times):\n",
    "    return df[df.time.isin(times)]\n",
    "\n",
    "def get_groups(df):\n",
    "    return (\n",
    "        filt_times(df, bs_times),\n",
    "        filt_times(df, nobs_times),\n",
    "        filt_times(df, decoupled_times),\n",
    "        filt_times(df, weaklycoupled_times),\n",
    "        filt_times(df, coupled_times),\n",
    "        filt_times(df, ri_stable_times),\n",
    "        filt_times(df, ri_unstable_times),\n",
    "        filt_times(df, ri_neutral_times),\n",
    "        filt_times(df, tgrad_stable_times),\n",
    "        filt_times(df, tgrad_unstable_times),\n",
    "        filt_times(df, tgrad_neutral_times)\n",
    "    )\n",
    "\n",
    "# <w> measurements - divide into groups\n",
    "(bs_w_df, nobs_w_df, decoupled_w_df, weaklycoupled_w_df, coupled_w_df, \n",
    "ri_stable_w_df, ri_unstable_w_df, ri_neutral_w_df, \n",
    "tgrad_stable_w_df, tgrad_unstable_w_df, tgrad_neutral_w_df ) = get_groups(w_measurements_df)\n",
    "\n",
    "# <u> measurements - divide into groups\n",
    "(bs_u_df, nobs_u_df, decoupled_u_df, weaklycoupled_u_df, coupled_u_df, \n",
    "ri_stable_u_df, ri_unstable_u_df, ri_neutral_u_df, \n",
    "tgrad_stable_u_df, tgrad_unstable_u_df, tgrad_neutral_u_df ) = get_groups(u_measurements_df)\n",
    "\n",
    "# <v> measurements - divide into groups\n",
    "(bs_v_df, nobs_v_df, decoupled_v_df, weaklycoupled_v_df, coupled_v_df, \n",
    "ri_stable_v_df, ri_unstable_v_df, ri_neutral_v_df, \n",
    "tgrad_stable_v_df, tgrad_unstable_v_df, tgrad_neutral_v_df ) = get_groups(v_measurements_df)\n",
    "\n",
    "# <q> measurements - divide into groups\n",
    "(bs_q_df, nobs_q_df, decoupled_q_df, weaklycoupled_q_df, coupled_q_df, \n",
    "ri_stable_q_df, ri_unstable_q_df, ri_neutral_q_df, \n",
    "tgrad_stable_q_df, tgrad_unstable_q_df, tgrad_neutral_q_df ) = get_groups(q_measurements_df)\n",
    "\n",
    "# tke measurements - divide into groups\n",
    "(bs_tke_df, nobs_tke_df, decoupled_tke_df, weaklycoupled_tke_df, coupled_tke_df, \n",
    "ri_stable_tke_df, ri_unstable_tke_df, ri_neutral_tke_df, \n",
    "tgrad_stable_tke_df, tgrad_unstable_tke_df, tgrad_neutral_tke_df ) = get_groups(tke_measurements_df)\n",
    "\n",
    "# <w'w'> measurements - divide into groups\n",
    "(bs_w_w__df, nobs_w_w__df, decoupled_w_w__df, weaklycoupled_w_w__df, coupled_w_w__df, \n",
    "ri_stable_w_w__df, ri_unstable_w_w__df, ri_neutral_w_w__df, \n",
    "tgrad_stable_w_w__df, tgrad_unstable_w_w__df, tgrad_neutral_w_w__df ) = get_groups(w_w__measurements_df)\n",
    "\n",
    "# <w'q'> measurements - divide into groups\n",
    "(bs_w_h2o_df, nobs_w_h2o_df, decoupled_w_h2o_df, weaklycoupled_w_h2o_df, coupled_w_h2o_df, \n",
    "ri_stable_w_h2o_df, ri_unstable_w_h2o_df, ri_neutral_w_h2o_df, \n",
    "tgrad_stable_w_h2o_df, tgrad_unstable_w_h2o_df, tgrad_neutral_w_h2o_df ) = get_groups(w_h2o__measurements_df)\n",
    "\n",
    "# create dfs that have bs/no-bs labels\n",
    "w_h2o__df_with_bs_indicator = pd.concat([\n",
    "    filt_times(w_h2o__measurements_df, nobs_times).assign(conditions='No BS'),\n",
    "    filt_times(w_h2o__measurements_df, bs_times).assign(conditions='BS')\n",
    "])\n",
    "w_h2o__tgrad_stable_df_with_bs_indicator = pd.concat([\n",
    "    filt_times( w_h2o__measurements_df, set(nobs_times).intersection(set(tgrad_stable_times))).assign(conditions='No BS'),\n",
    "    filt_times( w_h2o__measurements_df, set(bs_times).intersection(set(tgrad_stable_times))).assign(conditions='BS')\n",
    "])\n",
    "w_h2o__tgrad_neutral_df_with_bs_indicator = pd.concat([\n",
    "    filt_times( w_h2o__measurements_df, set(nobs_times).intersection(set(tgrad_neutral_times))).assign(conditions='No BS'),\n",
    "    filt_times( w_h2o__measurements_df, set(bs_times).intersection(set(tgrad_neutral_times))).assign(conditions='BS')\n",
    "])\n",
    "w_h2o__tgrad_unstable_df_with_bs_indicator = pd.concat([\n",
    "    filt_times( w_h2o__measurements_df, set(nobs_times).intersection(set(tgrad_unstable_times))).assign(conditions='No BS'),\n",
    "    filt_times( w_h2o__measurements_df, set(bs_times).intersection(set(tgrad_unstable_times))).assign(conditions='BS')\n",
    "])\n",
    "\n",
    "\n",
    "# <u'q'> measurements - divide into groups\n",
    "(bs_u_h2o_df, nobs_u_h2o_df, decoupled_u_h2o_df, weaklycoupled_u_h2o_df, coupled_u_h2o_df, \n",
    "ri_stable_u_h2o_df, ri_unstable_u_h2o_df, ri_neutral_u_h2o_df, \n",
    "tgrad_stable_u_h2o_df, tgrad_unstable_u_h2o_df, tgrad_neutral_u_h2o_df ) = get_groups(u_h2o__measurements_df)\n",
    "\n",
    "u_h2o__df_with_bs_indicator = pd.concat([\n",
    "    filt_times(u_h2o__measurements_df, nobs_times).assign(conditions='No BS'),\n",
    "    filt_times(u_h2o__measurements_df, bs_times).assign(conditions='BS')\n",
    "])\n",
    "u_h2o__tgrad_stable_df_with_bs_indicator = pd.concat([\n",
    "    filt_times( u_h2o__measurements_df, set(nobs_times).intersection(set(tgrad_stable_times))).assign(conditions='No BS'),\n",
    "    filt_times( u_h2o__measurements_df, set(bs_times).intersection(set(tgrad_stable_times))).assign(conditions='BS')\n",
    "])\n",
    "u_h2o__tgrad_neutral_df_with_bs_indicator = pd.concat([\n",
    "    filt_times( u_h2o__measurements_df, set(nobs_times).intersection(set(tgrad_neutral_times))).assign(conditions='No BS'),\n",
    "    filt_times( u_h2o__measurements_df, set(bs_times).intersection(set(tgrad_neutral_times))).assign(conditions='BS')\n",
    "])\n",
    "u_h2o__tgrad_unstable_df_with_bs_indicator = pd.concat([\n",
    "    filt_times( u_h2o__measurements_df, set(nobs_times).intersection(set(tgrad_unstable_times))).assign(conditions='No BS'),\n",
    "    filt_times( u_h2o__measurements_df, set(bs_times).intersection(set(tgrad_unstable_times))).assign(conditions='BS')\n",
    "])\n",
    "\n",
    "# <v'q'> measurements - divide into groups\n",
    "(bs_v_h2o_df, nobs_v_h2o_df, decoupled_v_h2o_df, weaklycoupled_v_h2o_df, coupled_v_h2o_df, \n",
    "ri_stable_v_h2o_df, ri_unstable_v_h2o_df, ri_neutral_v_h2o_df, \n",
    "tgrad_stable_v_h2o_df, tgrad_unstable_v_h2o_df, tgrad_neutral_v_h2o_df ) = get_groups(v_h2o__measurements_df)\n",
    "\n",
    "v_h2o__df_with_bs_indicator = pd.concat([\n",
    "    filt_times(v_h2o__measurements_df, nobs_times).assign(conditions='No BS'),\n",
    "    filt_times(v_h2o__measurements_df, bs_times).assign(conditions='BS')\n",
    "])\n",
    "v_h2o__tgrad_stable_df_with_bs_indicator = pd.concat([\n",
    "    filt_times( v_h2o__measurements_df, set(nobs_times).intersection(set(tgrad_stable_times))).assign(conditions='No BS'),\n",
    "    filt_times( v_h2o__measurements_df, set(bs_times).intersection(set(tgrad_stable_times))).assign(conditions='BS')\n",
    "])\n",
    "v_h2o__tgrad_neutral_df_with_bs_indicator = pd.concat([\n",
    "    filt_times( v_h2o__measurements_df, set(nobs_times).intersection(set(tgrad_neutral_times))).assign(conditions='No BS'),\n",
    "    filt_times( v_h2o__measurements_df, set(bs_times).intersection(set(tgrad_neutral_times))).assign(conditions='BS')\n",
    "])\n",
    "v_h2o__tgrad_unstable_df_with_bs_indicator = pd.concat([\n",
    "    filt_times( v_h2o__measurements_df, set(nobs_times).intersection(set(tgrad_unstable_times))).assign(conditions='No BS'),\n",
    "    filt_times( v_h2o__measurements_df, set(bs_times).intersection(set(tgrad_unstable_times))).assign(conditions='BS')\n",
    "])\n"
   ]
  },
  {
   "cell_type": "markdown",
   "metadata": {},
   "source": [
    "# Calculate frequency of lh flux divergence \n",
    "\n",
    "Use two different thresholds, 10% and 30%\n",
    "\n",
    "We compare measurements at 2 measurement heights at a time (2 and 3, and 3 and 5). This is not comprehensive."
   ]
  },
  {
   "cell_type": "code",
   "execution_count": 21,
   "metadata": {},
   "outputs": [],
   "source": [
    "src = w_h2o__measurements_df.pivot(index='time', columns='variable', values='value')\n",
    "src_w = w_measurements_df.pivot(index='time', columns='variable', values='value')"
   ]
  },
  {
   "cell_type": "markdown",
   "metadata": {},
   "source": [
    "## Using 2 and 3 meter measurements and 3 and 5 meter measurements"
   ]
  },
  {
   "cell_type": "code",
   "execution_count": 22,
   "metadata": {},
   "outputs": [
    {
     "name": "stdout",
     "output_type": "stream",
     "text": [
      "Using 2 and 3m ECs, LH flux diverges more than 10%, 38.9% of the time\n",
      "Using 3 and 5m ECs, LH flux diverges more than 10%, 43.2% of the time\n",
      "Using 2 and 3m ECs, LH flux diverges more than 30%, 24.8% of the time\n",
      "Using 3 and 5m ECs, LH flux diverges more than 30%, 30.2% of the time\n"
     ]
    }
   ],
   "source": [
    "src['percent diff 2 3'] = (src['w_h2o__3m_c'] - src['w_h2o__2m_c']) / src[['w_h2o__3m_c', 'w_h2o__2m_c']].mean(axis=1)\n",
    "src['percent diff 3 5'] = (src['w_h2o__5m_c'] - src['w_h2o__3m_c']) / src[['w_h2o__5m_c', 'w_h2o__3m_c']].mean(axis=1)\n",
    "\n",
    "percent_gt_10_2_3 = len(src[src[\"percent diff 2 3\"] > 0.1])/len(src)\n",
    "percent_gt_10_3_5 = len(src[src[\"percent diff 3 5\"] > 0.1])/len(src)\n",
    "percent_gt_30_2_3 = len(src[src[\"percent diff 2 3\"] > 0.3])/len(src)\n",
    "percent_gt_30_3_5 = len(src[src[\"percent diff 3 5\"] > 0.3])/len(src)\n",
    "\n",
    "print(f\"Using 2 and 3m ECs, LH flux diverges more than 10%, {round(percent_gt_10_2_3*100, 1)}% of the time\")\n",
    "print(f\"Using 3 and 5m ECs, LH flux diverges more than 10%, {round(percent_gt_10_3_5*100, 1)}% of the time\")\n",
    "print(f\"Using 2 and 3m ECs, LH flux diverges more than 30%, {round(percent_gt_30_2_3*100, 1)}% of the time\")\n",
    "print(f\"Using 3 and 5m ECs, LH flux diverges more than 30%, {round(percent_gt_30_3_5*100, 1)}% of the time\")"
   ]
  },
  {
   "cell_type": "code",
   "execution_count": 23,
   "metadata": {},
   "outputs": [
    {
     "name": "stdout",
     "output_type": "stream",
     "text": [
      "bs_times\n",
      "Using 2 and 3m ECs, LH flux diverges more than 10%, 46.8% of the time\n",
      "Using 3 and 5m ECs, LH flux diverges more than 10%, 44.5% of the time\n",
      "Using 2 and 3m ECs, LH flux diverges more than 30%, 24.9% of the time\n",
      "Using 3 and 5m ECs, LH flux diverges more than 30%, 20.8% of the time\n",
      "\n",
      "nobs_times\n",
      "Using 2 and 3m ECs, LH flux diverges more than 10%, 36.8% of the time\n",
      "Using 3 and 5m ECs, LH flux diverges more than 10%, 43.0% of the time\n",
      "Using 2 and 3m ECs, LH flux diverges more than 30%, 24.8% of the time\n",
      "Using 3 and 5m ECs, LH flux diverges more than 30%, 32.9% of the time\n",
      "\n",
      "decoupled_times\n",
      "Using 2 and 3m ECs, LH flux diverges more than 10%, 33.1% of the time\n",
      "Using 3 and 5m ECs, LH flux diverges more than 10%, 45.9% of the time\n",
      "Using 2 and 3m ECs, LH flux diverges more than 30%, 25.3% of the time\n",
      "Using 3 and 5m ECs, LH flux diverges more than 30%, 39.8% of the time\n",
      "\n",
      "weaklycoupled_times\n",
      "Using 2 and 3m ECs, LH flux diverges more than 10%, 38.5% of the time\n",
      "Using 3 and 5m ECs, LH flux diverges more than 10%, 41.5% of the time\n",
      "Using 2 and 3m ECs, LH flux diverges more than 30%, 27.4% of the time\n",
      "Using 3 and 5m ECs, LH flux diverges more than 30%, 32.5% of the time\n",
      "\n",
      "coupled_times\n",
      "Using 2 and 3m ECs, LH flux diverges more than 10%, 44.2% of the time\n",
      "Using 3 and 5m ECs, LH flux diverges more than 10%, 41.1% of the time\n",
      "Using 2 and 3m ECs, LH flux diverges more than 30%, 22.6% of the time\n",
      "Using 3 and 5m ECs, LH flux diverges more than 30%, 20.9% of the time\n",
      "\n",
      "ri_stable_times\n",
      "Using 2 and 3m ECs, LH flux diverges more than 10%, 42.4% of the time\n",
      "Using 3 and 5m ECs, LH flux diverges more than 10%, 48.5% of the time\n",
      "Using 2 and 3m ECs, LH flux diverges more than 30%, 29.9% of the time\n",
      "Using 3 and 5m ECs, LH flux diverges more than 30%, 39.2% of the time\n",
      "\n",
      "ri_unstable_times\n",
      "Using 2 and 3m ECs, LH flux diverges more than 10%, 49.0% of the time\n",
      "Using 3 and 5m ECs, LH flux diverges more than 10%, 45.3% of the time\n",
      "Using 2 and 3m ECs, LH flux diverges more than 30%, 24.9% of the time\n",
      "Using 3 and 5m ECs, LH flux diverges more than 30%, 20.9% of the time\n",
      "\n",
      "ri_neutral_times\n",
      "Using 2 and 3m ECs, LH flux diverges more than 10%, 38.1% of the time\n",
      "Using 3 and 5m ECs, LH flux diverges more than 10%, 41.9% of the time\n",
      "Using 2 and 3m ECs, LH flux diverges more than 30%, 23.1% of the time\n",
      "Using 3 and 5m ECs, LH flux diverges more than 30%, 27.2% of the time\n",
      "\n",
      "tgrad_stable_times\n",
      "Using 2 and 3m ECs, LH flux diverges more than 10%, 38.3% of the time\n",
      "Using 3 and 5m ECs, LH flux diverges more than 10%, 43.1% of the time\n",
      "Using 2 and 3m ECs, LH flux diverges more than 30%, 24.4% of the time\n",
      "Using 3 and 5m ECs, LH flux diverges more than 30%, 30.8% of the time\n",
      "\n",
      "tgrad_unstable_times\n",
      "Using 2 and 3m ECs, LH flux diverges more than 10%, 52.4% of the time\n",
      "Using 3 and 5m ECs, LH flux diverges more than 10%, 43.4% of the time\n",
      "Using 2 and 3m ECs, LH flux diverges more than 30%, 26.2% of the time\n",
      "Using 3 and 5m ECs, LH flux diverges more than 30%, 18.5% of the time\n",
      "\n",
      "tgrad_neutral_times\n",
      "Using 2 and 3m ECs, LH flux diverges more than 10%, 41.4% of the time\n",
      "Using 3 and 5m ECs, LH flux diverges more than 10%, 46.0% of the time\n",
      "Using 2 and 3m ECs, LH flux diverges more than 30%, 29.2% of the time\n",
      "Using 3 and 5m ECs, LH flux diverges more than 30%, 29.7% of the time\n",
      "\n"
     ]
    }
   ],
   "source": [
    "for name, times in [\n",
    "    (\"bs_times\", bs_times,),\n",
    "    (\"nobs_times\", nobs_times,),\n",
    "    (\"decoupled_times\", decoupled_times,),\n",
    "    (\"weaklycoupled_times\", weaklycoupled_times,),\n",
    "    (\"coupled_times\", coupled_times,),\n",
    "    (\"ri_stable_times\", ri_stable_times,),\n",
    "    (\"ri_unstable_times\", ri_unstable_times,),\n",
    "    (\"ri_neutral_times\", ri_neutral_times,),\n",
    "    (\"tgrad_stable_times\", tgrad_stable_times,),\n",
    "    (\"tgrad_unstable_times\", tgrad_unstable_times,),\n",
    "    (\"tgrad_neutral_times\", tgrad_neutral_times),\n",
    "]:\n",
    "    local_src = src.reset_index()\n",
    "    local_src = local_src[local_src.time.isin(times)]\n",
    "    percent_gt_10_2_3 = len(local_src[local_src[\"percent diff 2 3\"] > 0.1])/len(local_src)\n",
    "    percent_gt_10_3_5 = len(local_src[local_src[\"percent diff 3 5\"] > 0.1])/len(local_src)\n",
    "    percent_gt_30_2_3 = len(local_src[local_src[\"percent diff 2 3\"] > 0.3])/len(local_src)\n",
    "    percent_gt_30_3_5 = len(local_src[local_src[\"percent diff 3 5\"] > 0.3])/len(local_src)\n",
    "    print(name)\n",
    "    print(f\"Using 2 and 3m ECs, LH flux diverges more than 10%, {round(percent_gt_10_2_3*100, 1)}% of the time\")\n",
    "    print(f\"Using 3 and 5m ECs, LH flux diverges more than 10%, {round(percent_gt_10_3_5*100, 1)}% of the time\")\n",
    "    print(f\"Using 2 and 3m ECs, LH flux diverges more than 30%, {round(percent_gt_30_2_3*100, 1)}% of the time\")\n",
    "    print(f\"Using 3 and 5m ECs, LH flux diverges more than 30%, {round(percent_gt_30_3_5*100, 1)}% of the time\")\n",
    "    print()"
   ]
  },
  {
   "cell_type": "markdown",
   "metadata": {},
   "source": [
    "# Define functions for plotting profiles"
   ]
  },
  {
   "cell_type": "code",
   "execution_count": 24,
   "metadata": {},
   "outputs": [],
   "source": [
    "def profile_chart(df, title, x_title):\n",
    "    return (\n",
    "        alt.Chart(df).mark_line().encode(\n",
    "            alt.X(\"mean(value):Q\").sort('-y').title(x_title),\n",
    "            alt.Y(\"height:Q\").scale(zero=True).title(\"height (m)\"),\n",
    "            alt.Color(\"tower:N\")\n",
    "        ).properties(title=[title, f\"(n = {len(df.time.unique())})\"], width=100, height=100)\n",
    "    )\n",
    "\n",
    "def lhflux_profile_chart(df, title):\n",
    "    return (\n",
    "        alt.Chart(df).transform_aggregate(\n",
    "            mean = \"mean(value)\",\n",
    "            groupby=['height', 'tower']\n",
    "        ).transform_calculate(\n",
    "            low_bound = 'datum.mean - 0.2*datum.mean',\n",
    "            up_bound = 'datum.mean + 0.2*datum.mean'\n",
    "        ).mark_area(opacity=0.25).encode(\n",
    "            alt.X(\"low_bound:Q\").title(\"\"),\n",
    "            alt.X2(\"up_bound:Q\"),\n",
    "            alt.Y(\"height:Q\").scale(zero=True).title(\"height (m)\"),\n",
    "            alt.Color(\"tower:N\")\n",
    "        )\n",
    "        +\n",
    "        alt.Chart(df).mark_line().encode(\n",
    "            alt.X(\"mean(value):Q\").sort('-y').title(\"<w'q'> (g/m^2/s)\"),\n",
    "            alt.Y(\"height:Q\").scale(zero=True).title(\"height (m)\"),\n",
    "            alt.Color(\"tower:N\")\n",
    "        ).properties(title=[title, f\"(n = {len(df.time.unique())})\"], width=150, height=150)\n",
    "    )\n",
    "\n",
    "def lhflux_profile_chart_split_conditions(df, title, x_title=\"<w'q'> (g/m^2/s)\", color_encoding=alt.Color(f\"conditions:N\")):\n",
    "    n_bs = len(df[df.conditions == 'BS'].time.unique())\n",
    "    n_nobs = len(df[df.conditions == 'No BS'].time.unique())\n",
    "    return (\n",
    "        alt.Chart(df).transform_aggregate(\n",
    "            mean = \"mean(value)\",\n",
    "            groupby=['height', 'tower', 'conditions']\n",
    "        ).transform_calculate(\n",
    "            low_bound = 'datum.mean - 0.2*datum.mean',\n",
    "            up_bound = 'datum.mean + 0.2*datum.mean'\n",
    "        ).mark_area(opacity=0.25).encode(\n",
    "            alt.X(\"low_bound:Q\").title(\"\"),\n",
    "            alt.X2(\"up_bound:Q\"),\n",
    "            alt.Y(\"height:Q\").scale(zero=True),\n",
    "            color_encoding\n",
    "        )\n",
    "        +\n",
    "        alt.Chart(df).mark_line(point=True).encode(\n",
    "            alt.X(\"mean(value):Q\").sort('-y').title(x_title),\n",
    "            alt.Y(\"height:Q\").scale(zero=True),\n",
    "            color_encoding\n",
    "        ).properties(title=[title, f\"(n = {n_bs} BS, {n_nobs} No BS)\"], width=150, height=150)\n",
    "    )\n",
    "\n",
    "def lhflux_profile_chart_split_conditions_noerror(df, title, x_title=\"<w'q'> (g/m^2/s)\", color_encoding=alt.Color(f\"conditions:N\")):\n",
    "    n_bs = len(df[df.conditions == 'BS'].time.unique())\n",
    "    n_nobs = len(df[df.conditions == 'No BS'].time.unique())\n",
    "    return alt.Chart(df).mark_line(point=True).encode(\n",
    "            alt.X(\"mean(value):Q\").sort('-y').title(x_title),\n",
    "            alt.Y(\"height:Q\").scale(zero=True),\n",
    "            color_encoding\n",
    "        ).properties(title=[title, f\"(n = {n_bs} BS, {n_nobs} No BS)\"], width=150, height=150)\n",
    "\n",
    "def lhflux_profile_chart_notower(df, title, x_title=\"<w'q'> (g/m^2/s)\"):\n",
    "    return (\n",
    "        alt.Chart(df).transform_aggregate(\n",
    "            mean = \"mean(value)\",\n",
    "            groupby=['height', 'tower']\n",
    "        ).transform_calculate(\n",
    "            low_bound = 'datum.mean - 0.2*datum.mean',\n",
    "            up_bound = 'datum.mean + 0.2*datum.mean'\n",
    "        ).mark_area(opacity=0.2, color='black').encode(\n",
    "            alt.X(\"low_bound:Q\").title(\"\"),\n",
    "            alt.X2(\"up_bound:Q\"),\n",
    "            alt.Y(\"height:Q\").scale(zero=True),\n",
    "        )\n",
    "        +\n",
    "        alt.Chart(df).mark_line(point=alt.OverlayMarkDef(color='black'), color='black').encode(\n",
    "            alt.X(\"mean(value):Q\").sort('-y').title(x_title),\n",
    "            alt.Y(\"height:Q\").scale(zero=True),\n",
    "        ).properties(title=[title, f\"(n = {len(df.time.unique())})\"], width=150, height=150)\n",
    "    )\n",
    "\n",
    "def lhflux_profile_chart_mg(df, title):\n",
    "    df.value = df.value*1000\n",
    "    return (\n",
    "        alt.Chart(df).transform_aggregate(\n",
    "            mean = \"mean(value)\",\n",
    "            groupby=['height', 'tower']\n",
    "        ).transform_calculate(\n",
    "            low_bound = 'datum.mean - 0.2*datum.mean',\n",
    "            up_bound = 'datum.mean + 0.2*datum.mean'\n",
    "        ).mark_area(opacity=0.25).encode(\n",
    "            alt.X(\"low_bound:Q\").title(\"\"),\n",
    "            alt.X2(\"up_bound:Q\"),\n",
    "            alt.Y(\"height:Q\").scale(zero=True).title(\"height (m)\"),\n",
    "            alt.Color(\"tower:N\")\n",
    "        )\n",
    "        +\n",
    "        alt.Chart(df).mark_line(point=True).encode(\n",
    "            alt.X(\"mean(value):Q\").sort('-y').title(\"<w'q'> (mg/m^2/s)\"),\n",
    "            alt.Y(\"height:Q\").scale(zero=True).title(\"height (m)\"),\n",
    "            alt.Color(\"tower:N\")\n",
    "        ).properties(title=[title, f\"(n = {len(df.time.unique())})\"], width=150, height=150)\n",
    "    )\n",
    "\n",
    "def profile_chart(df, title, x_title, color=\"tower:N\"):\n",
    "    return (\n",
    "        alt.Chart(df).transform_aggregate(\n",
    "            mean = \"mean(value)\",\n",
    "            groupby=['height', 'tower']\n",
    "        ).transform_calculate(\n",
    "            low_bound = 'datum.mean - 0.2*datum.mean',\n",
    "            up_bound = 'datum.mean + 0.2*datum.mean'\n",
    "        ).mark_area(opacity=0.25).encode(\n",
    "            alt.X(\"low_bound:Q\").title(\"\"),\n",
    "            alt.X2(\"up_bound:Q\"),\n",
    "            alt.Y(\"height:Q\").scale(zero=True).title(\"height (m)\"),\n",
    "            alt.Color(\"tower:N\")\n",
    "        )\n",
    "        +\n",
    "        alt.Chart(df).mark_line().encode(\n",
    "            alt.X(\"mean(value):Q\").sort('-y').title(x_title),\n",
    "            alt.Y(\"height:Q\").scale(zero=True).title(\"height (m)\"),\n",
    "            alt.Color(color)\n",
    "        ).properties(title=[title, f\"(n = {len(df.time.unique())})\"], width=150, height=150)\n",
    "    )"
   ]
  },
  {
   "cell_type": "markdown",
   "metadata": {},
   "source": [
    "# Plot vertical profiles using the basic categories (stability and BS)"
   ]
  },
  {
   "cell_type": "code",
   "execution_count": 25,
   "metadata": {},
   "outputs": [],
   "source": [
    "combo_mean_w_profile_chart = (\n",
    "        profile_chart(w_measurements_df.query(\"height > 1\"), \"All data\", '<w> (m/s)') | \n",
    "        profile_chart(bs_w_df.query(\"height > 1\"), \"BS\", '<w> (m/s)') | \n",
    "        profile_chart(nobs_w_df.query(\"height > 1\"), \"No BS\", '<w> (m/s)') |         \n",
    "        profile_chart(tgrad_stable_w_df.query(\"height > 1\"), \"Tgrad stable\", '<w> (m/s)') | \n",
    "        profile_chart(tgrad_neutral_w_df.query(\"height > 1\"), \"Tgrad Neutral\", '<w> (m/s)') | \n",
    "        profile_chart(tgrad_unstable_w_df.query(\"height > 1\"), \"Tgrad Unstable\", '<w> (m/s)') #| \n",
    ").resolve_scale(x='shared', y='shared')\n",
    "\n",
    "combo_mean_u_profile_chart = (\n",
    "        profile_chart(u_measurements_df.query(\"height > 1\"), \"All data\", '<u> (m/s)') | \n",
    "        profile_chart(bs_u_df.query(\"height > 1\"), \"BS\", '<u> (m/s)') | \n",
    "        profile_chart(nobs_u_df.query(\"height > 1\"), \"No BS\", '<u> (m/s)') |         \n",
    "        profile_chart(tgrad_stable_u_df.query(\"height > 1\"), \"Tgrad stable\", '<u> (m/s)') | \n",
    "        profile_chart(tgrad_neutral_u_df.query(\"height > 1\"), \"Tgrad Neutral\", '<u> (m/s)') | \n",
    "        profile_chart(tgrad_unstable_u_df.query(\"height > 1\"), \"Tgrad Unstable\", '<u> (m/s)') #| \n",
    ").resolve_scale(x='shared', y='shared')\n",
    "\n",
    "combo_mean_v_profile_chart = ( \n",
    "        profile_chart(v_measurements_df.query(\"height > 1\"), \"All data\", '<v> (m/s)') | \n",
    "        profile_chart(bs_v_df.query(\"height > 1\"), \"BS\", '<v> (m/s)') | \n",
    "        profile_chart(nobs_v_df.query(\"height > 1\"), \"No BS\", '<v> (m/s)') |         \n",
    "        profile_chart(tgrad_stable_v_df.query(\"height > 1\"), \"Tgrad stable\", '<v> (m/s)') | \n",
    "        profile_chart(tgrad_neutral_v_df.query(\"height > 1\"), \"Tgrad Neutral\", '<v> (m/s)') | \n",
    "        profile_chart(tgrad_unstable_v_df.query(\"height > 1\"), \"Tgrad Unstable\", '<v> (m/s)') #| \n",
    ").resolve_scale(x='shared', y='shared')\n",
    "\n",
    "combo_mean_tke_profile_chart = (\n",
    "        profile_chart(tke_measurements_df.query(\"height > 1\"), \"All data\", 'tke (m^2/s^2)') | \n",
    "        profile_chart(bs_tke_df.query(\"height > 1\"), \"BS\", 'tke (m^2/s^2)') | \n",
    "        profile_chart(nobs_tke_df.query(\"height > 1\"), \"No BS\", 'tke (m^2/s^2)') |         \n",
    "        profile_chart(tgrad_stable_tke_df.query(\"height > 1\"), \"Tgrad stable\", 'tke (m^2/s^2)') | \n",
    "        profile_chart(tgrad_neutral_tke_df.query(\"height > 1\"), \"Tgrad Neutral\", 'tke (m^2/s^2)') | \n",
    "        profile_chart(tgrad_unstable_tke_df.query(\"height > 1\"), \"Tgrad Unstable\", 'tke (m^2/s^2)') #| \n",
    ").resolve_scale(x='shared', y='shared')\n",
    "\n",
    "combo_mean_w_w__profile_chart = (\n",
    "        profile_chart(w_w__measurements_df.query(\"height > 1\"), \"All data\", \"<w'w'> (m^2/s^2)\") | \n",
    "        profile_chart(bs_w_w__df.query(\"height > 1\"), \"BS\", \"<w'w'> (m^2/s^2)\") | \n",
    "        profile_chart(nobs_w_w__df.query(\"height > 1\"), \"No BS\", \"<w'w'> (m^2/s^2)\") |\n",
    "        profile_chart(tgrad_stable_w_w__df.query(\"height > 1\"), \"Tgrad stable\", \"<w'w'> (m^2/s^2)\") | \n",
    "        profile_chart(tgrad_neutral_w_w__df.query(\"height > 1\"), \"Tgrad Neutral\", \"<w'w'> (m^2/s^2)\") | \n",
    "        profile_chart(tgrad_unstable_w_w__df.query(\"height > 1\"), \"Tgrad Unstable\", \"<w'w'> (m^2/s^2)\") #| \n",
    ").resolve_scale(x='shared', y='shared')\n",
    "\n",
    "combo_mean_q_profile_chart = (\n",
    "        profile_chart(q_measurements_df.query(\"height > 1\"), \"All data\", '<q> (m/s)') | \n",
    "        profile_chart(bs_q_df.query(\"height > 1\"), \"BS\", '<q> (m/s)') | \n",
    "        profile_chart(nobs_q_df.query(\"height > 1\"), \"No BS\", '<q> (m/s)') |         \n",
    "        profile_chart(tgrad_stable_q_df.query(\"height > 1\"), \"Tgrad stable\", '<q> (m/s)') | \n",
    "        profile_chart(tgrad_neutral_q_df.query(\"height > 1\"), \"Tgrad Neutral\", '<q> (m/s)') | \n",
    "        profile_chart(tgrad_unstable_q_df.query(\"height > 1\"), \"Tgrad Unstable\", '<q> (m/s)') #| \n",
    ").resolve_scale(x='shared', y='shared')\n",
    "\n",
    "combo_mean_w_q__profile_chart = (\n",
    "    lhflux_profile_chart(w_h2o__measurements_df.query(\"tower == 'c'\").query(\"height > 1\"), \"All data\") | \n",
    "    lhflux_profile_chart(bs_w_h2o_df.query(\"tower == 'c'\").query(\"height > 1\"), \"BS\") | \n",
    "    lhflux_profile_chart(nobs_w_h2o_df.query(\"tower == 'c'\").query(\"height > 1\"), \"No BS\") | \n",
    "    lhflux_profile_chart(tgrad_stable_w_h2o_df.query(\"tower == 'c'\").query(\"height > 1\"), \"Tgrad stable\") | \n",
    "    lhflux_profile_chart(tgrad_neutral_w_h2o_df.query(\"tower == 'c'\").query(\"height > 1\"), \"Tgrad Neutral\") | \n",
    "    lhflux_profile_chart(tgrad_unstable_w_h2o_df.query(\"tower == 'c'\").query(\"height > 1\"), \"Tgrad Unstable\") #\n",
    ").resolve_scale(x='shared', y='shared')\n",
    "\n",
    "combo_mean_u_q__profile_chart = (\n",
    "    profile_chart(u_h2o__measurements_df.query(\"height > 1\"),  \"All data\",         \"<u'q'> (g/m^2/s)\") | \n",
    "    profile_chart(bs_u_h2o_df.query(\"height > 1\"),               \"BS\",               \"<u'q'> (g/m^2/s)\") | \n",
    "    profile_chart(nobs_u_h2o_df.query(\"height > 1\"),             \"No BS\",            \"<u'q'> (g/m^2/s)\") | \n",
    "    profile_chart(tgrad_stable_u_h2o_df.query(\"height > 1\"),     \"Tgrad stable\",     \"<u'q'> (g/m^2/s)\") | \n",
    "    profile_chart(tgrad_neutral_u_h2o_df.query(\"height > 1\"),    \"Tgrad Neutral\",    \"<u'q'> (g/m^2/s)\") | \n",
    "    profile_chart(tgrad_unstable_u_h2o_df.query(\"height > 1\"),   \"Tgrad Unstable\",   \"<u'q'> (g/m^2/s)\") #\n",
    ").resolve_scale(x='shared', y='shared')\n",
    "\n",
    "combo_mean_v_q__profile_chart = (\n",
    "    profile_chart(v_h2o__measurements_df.query(\"height > 1\"),  \"All data\",         \"<v'q'> (g/m^2/s)\") | \n",
    "    profile_chart(bs_v_h2o_df.query(\"height > 1\"),               \"BS\",               \"<v'q'> (g/m^2/s)\") | \n",
    "    profile_chart(nobs_v_h2o_df.query(\"height > 1\"),             \"No BS\",            \"<v'q'> (g/m^2/s)\") | \n",
    "    profile_chart(tgrad_stable_v_h2o_df.query(\"height > 1\"),     \"Tgrad stable\",     \"<v'q'> (g/m^2/s)\") | \n",
    "    profile_chart(tgrad_neutral_v_h2o_df.query(\"height > 1\"),    \"Tgrad Neutral\",    \"<v'q'> (g/m^2/s)\") | \n",
    "    profile_chart(tgrad_unstable_v_h2o_df.query(\"height > 1\"),   \"Tgrad Unstable\",   \"<v'q'> (g/m^2/s)\") #\n",
    ").resolve_scale(x='shared', y='shared')"
   ]
  },
  {
   "cell_type": "code",
   "execution_count": 26,
   "metadata": {},
   "outputs": [
    {
     "ename": "KeyboardInterrupt",
     "evalue": "",
     "output_type": "error",
     "traceback": [
      "\u001b[0;31m---------------------------------------------------------------------------\u001b[0m",
      "\u001b[0;31mKeyboardInterrupt\u001b[0m                         Traceback (most recent call last)",
      "Cell \u001b[0;32mIn[26], line 1\u001b[0m\n\u001b[0;32m----> 1\u001b[0m (\n\u001b[1;32m      2\u001b[0m     combo_mean_w_q__profile_chart \u001b[38;5;241m&\u001b[39m \n\u001b[1;32m      3\u001b[0m     combo_mean_u_q__profile_chart \u001b[38;5;241m&\u001b[39m \n\u001b[1;32m      4\u001b[0m     combo_mean_v_q__profile_chart \u001b[38;5;241m&\u001b[39m\n\u001b[1;32m      5\u001b[0m     combo_mean_w_profile_chart \u001b[38;5;241m&\u001b[39m \n\u001b[1;32m      6\u001b[0m     combo_mean_u_profile_chart \u001b[38;5;241m&\u001b[39m\n\u001b[1;32m      7\u001b[0m     combo_mean_v_profile_chart \u001b[38;5;241m&\u001b[39m\n\u001b[1;32m      8\u001b[0m     combo_mean_q_profile_chart \u001b[38;5;241m&\u001b[39m \n\u001b[1;32m      9\u001b[0m     combo_mean_tke_profile_chart \u001b[38;5;241m&\u001b[39m\n\u001b[1;32m     10\u001b[0m     combo_mean_w_w__profile_chart\n\u001b[1;32m     11\u001b[0m )\n",
      "File \u001b[0;32m~/miniforge3/envs/sublimationofsnow/lib/python3.12/site-packages/IPython/core/displayhook.py:268\u001b[0m, in \u001b[0;36mDisplayHook.__call__\u001b[0;34m(self, result)\u001b[0m\n\u001b[1;32m    266\u001b[0m \u001b[38;5;28mself\u001b[39m\u001b[38;5;241m.\u001b[39mstart_displayhook()\n\u001b[1;32m    267\u001b[0m \u001b[38;5;28mself\u001b[39m\u001b[38;5;241m.\u001b[39mwrite_output_prompt()\n\u001b[0;32m--> 268\u001b[0m format_dict, md_dict \u001b[38;5;241m=\u001b[39m \u001b[38;5;28;43mself\u001b[39;49m\u001b[38;5;241;43m.\u001b[39;49m\u001b[43mcompute_format_data\u001b[49m\u001b[43m(\u001b[49m\u001b[43mresult\u001b[49m\u001b[43m)\u001b[49m\n\u001b[1;32m    269\u001b[0m \u001b[38;5;28mself\u001b[39m\u001b[38;5;241m.\u001b[39mupdate_user_ns(result)\n\u001b[1;32m    270\u001b[0m \u001b[38;5;28mself\u001b[39m\u001b[38;5;241m.\u001b[39mfill_exec_result(result)\n",
      "File \u001b[0;32m~/miniforge3/envs/sublimationofsnow/lib/python3.12/site-packages/IPython/core/displayhook.py:157\u001b[0m, in \u001b[0;36mDisplayHook.compute_format_data\u001b[0;34m(self, result)\u001b[0m\n\u001b[1;32m    127\u001b[0m \u001b[38;5;28;01mdef\u001b[39;00m \u001b[38;5;21mcompute_format_data\u001b[39m(\u001b[38;5;28mself\u001b[39m, result):\n\u001b[1;32m    128\u001b[0m \u001b[38;5;250m    \u001b[39m\u001b[38;5;124;03m\"\"\"Compute format data of the object to be displayed.\u001b[39;00m\n\u001b[1;32m    129\u001b[0m \n\u001b[1;32m    130\u001b[0m \u001b[38;5;124;03m    The format data is a generalization of the :func:`repr` of an object.\u001b[39;00m\n\u001b[0;32m   (...)\u001b[0m\n\u001b[1;32m    155\u001b[0m \n\u001b[1;32m    156\u001b[0m \u001b[38;5;124;03m    \"\"\"\u001b[39;00m\n\u001b[0;32m--> 157\u001b[0m     \u001b[38;5;28;01mreturn\u001b[39;00m \u001b[38;5;28;43mself\u001b[39;49m\u001b[38;5;241;43m.\u001b[39;49m\u001b[43mshell\u001b[49m\u001b[38;5;241;43m.\u001b[39;49m\u001b[43mdisplay_formatter\u001b[49m\u001b[38;5;241;43m.\u001b[39;49m\u001b[43mformat\u001b[49m\u001b[43m(\u001b[49m\u001b[43mresult\u001b[49m\u001b[43m)\u001b[49m\n",
      "File \u001b[0;32m~/miniforge3/envs/sublimationofsnow/lib/python3.12/site-packages/IPython/core/formatters.py:152\u001b[0m, in \u001b[0;36mDisplayFormatter.format\u001b[0;34m(self, obj, include, exclude)\u001b[0m\n\u001b[1;32m    148\u001b[0m \u001b[38;5;28;01mif\u001b[39;00m \u001b[38;5;28mself\u001b[39m\u001b[38;5;241m.\u001b[39mipython_display_formatter(obj):\n\u001b[1;32m    149\u001b[0m     \u001b[38;5;66;03m# object handled itself, don't proceed\u001b[39;00m\n\u001b[1;32m    150\u001b[0m     \u001b[38;5;28;01mreturn\u001b[39;00m {}, {}\n\u001b[0;32m--> 152\u001b[0m format_dict, md_dict \u001b[38;5;241m=\u001b[39m \u001b[38;5;28;43mself\u001b[39;49m\u001b[38;5;241;43m.\u001b[39;49m\u001b[43mmimebundle_formatter\u001b[49m\u001b[43m(\u001b[49m\u001b[43mobj\u001b[49m\u001b[43m,\u001b[49m\u001b[43m \u001b[49m\u001b[43minclude\u001b[49m\u001b[38;5;241;43m=\u001b[39;49m\u001b[43minclude\u001b[49m\u001b[43m,\u001b[49m\u001b[43m \u001b[49m\u001b[43mexclude\u001b[49m\u001b[38;5;241;43m=\u001b[39;49m\u001b[43mexclude\u001b[49m\u001b[43m)\u001b[49m\n\u001b[1;32m    154\u001b[0m \u001b[38;5;28;01mif\u001b[39;00m format_dict \u001b[38;5;129;01mor\u001b[39;00m md_dict:\n\u001b[1;32m    155\u001b[0m     \u001b[38;5;28;01mif\u001b[39;00m include:\n",
      "File \u001b[0;32m~/miniforge3/envs/sublimationofsnow/lib/python3.12/site-packages/decorator.py:232\u001b[0m, in \u001b[0;36mdecorate.<locals>.fun\u001b[0;34m(*args, **kw)\u001b[0m\n\u001b[1;32m    230\u001b[0m \u001b[38;5;28;01mif\u001b[39;00m \u001b[38;5;129;01mnot\u001b[39;00m kwsyntax:\n\u001b[1;32m    231\u001b[0m     args, kw \u001b[38;5;241m=\u001b[39m fix(args, kw, sig)\n\u001b[0;32m--> 232\u001b[0m \u001b[38;5;28;01mreturn\u001b[39;00m \u001b[43mcaller\u001b[49m\u001b[43m(\u001b[49m\u001b[43mfunc\u001b[49m\u001b[43m,\u001b[49m\u001b[43m \u001b[49m\u001b[38;5;241;43m*\u001b[39;49m\u001b[43m(\u001b[49m\u001b[43mextras\u001b[49m\u001b[43m \u001b[49m\u001b[38;5;241;43m+\u001b[39;49m\u001b[43m \u001b[49m\u001b[43margs\u001b[49m\u001b[43m)\u001b[49m\u001b[43m,\u001b[49m\u001b[43m \u001b[49m\u001b[38;5;241;43m*\u001b[39;49m\u001b[38;5;241;43m*\u001b[39;49m\u001b[43mkw\u001b[49m\u001b[43m)\u001b[49m\n",
      "File \u001b[0;32m~/miniforge3/envs/sublimationofsnow/lib/python3.12/site-packages/IPython/core/formatters.py:226\u001b[0m, in \u001b[0;36mcatch_format_error\u001b[0;34m(method, self, *args, **kwargs)\u001b[0m\n\u001b[1;32m    224\u001b[0m \u001b[38;5;250m\u001b[39m\u001b[38;5;124;03m\"\"\"show traceback on failed format call\"\"\"\u001b[39;00m\n\u001b[1;32m    225\u001b[0m \u001b[38;5;28;01mtry\u001b[39;00m:\n\u001b[0;32m--> 226\u001b[0m     r \u001b[38;5;241m=\u001b[39m \u001b[43mmethod\u001b[49m\u001b[43m(\u001b[49m\u001b[38;5;28;43mself\u001b[39;49m\u001b[43m,\u001b[49m\u001b[43m \u001b[49m\u001b[38;5;241;43m*\u001b[39;49m\u001b[43margs\u001b[49m\u001b[43m,\u001b[49m\u001b[43m \u001b[49m\u001b[38;5;241;43m*\u001b[39;49m\u001b[38;5;241;43m*\u001b[39;49m\u001b[43mkwargs\u001b[49m\u001b[43m)\u001b[49m\n\u001b[1;32m    227\u001b[0m \u001b[38;5;28;01mexcept\u001b[39;00m \u001b[38;5;167;01mNotImplementedError\u001b[39;00m:\n\u001b[1;32m    228\u001b[0m     \u001b[38;5;66;03m# don't warn on NotImplementedErrors\u001b[39;00m\n\u001b[1;32m    229\u001b[0m     \u001b[38;5;28;01mreturn\u001b[39;00m \u001b[38;5;28mself\u001b[39m\u001b[38;5;241m.\u001b[39m_check_return(\u001b[38;5;28;01mNone\u001b[39;00m, args[\u001b[38;5;241m0\u001b[39m])\n",
      "File \u001b[0;32m~/miniforge3/envs/sublimationofsnow/lib/python3.12/site-packages/IPython/core/formatters.py:977\u001b[0m, in \u001b[0;36mMimeBundleFormatter.__call__\u001b[0;34m(self, obj, include, exclude)\u001b[0m\n\u001b[1;32m    974\u001b[0m     method \u001b[38;5;241m=\u001b[39m get_real_method(obj, \u001b[38;5;28mself\u001b[39m\u001b[38;5;241m.\u001b[39mprint_method)\n\u001b[1;32m    976\u001b[0m     \u001b[38;5;28;01mif\u001b[39;00m method \u001b[38;5;129;01mis\u001b[39;00m \u001b[38;5;129;01mnot\u001b[39;00m \u001b[38;5;28;01mNone\u001b[39;00m:\n\u001b[0;32m--> 977\u001b[0m         \u001b[38;5;28;01mreturn\u001b[39;00m \u001b[43mmethod\u001b[49m\u001b[43m(\u001b[49m\u001b[43minclude\u001b[49m\u001b[38;5;241;43m=\u001b[39;49m\u001b[43minclude\u001b[49m\u001b[43m,\u001b[49m\u001b[43m \u001b[49m\u001b[43mexclude\u001b[49m\u001b[38;5;241;43m=\u001b[39;49m\u001b[43mexclude\u001b[49m\u001b[43m)\u001b[49m\n\u001b[1;32m    978\u001b[0m     \u001b[38;5;28;01mreturn\u001b[39;00m \u001b[38;5;28;01mNone\u001b[39;00m\n\u001b[1;32m    979\u001b[0m \u001b[38;5;28;01melse\u001b[39;00m:\n",
      "File \u001b[0;32m~/miniforge3/envs/sublimationofsnow/lib/python3.12/site-packages/altair/vegalite/v5/api.py:2571\u001b[0m, in \u001b[0;36mTopLevelMixin._repr_mimebundle_\u001b[0;34m(self, include, exclude)\u001b[0m\n\u001b[1;32m   2568\u001b[0m \u001b[38;5;66;03m# Catch errors explicitly to get around issues in Jupyter frontend\u001b[39;00m\n\u001b[1;32m   2569\u001b[0m \u001b[38;5;66;03m# see https://github.com/ipython/ipython/issues/11038\u001b[39;00m\n\u001b[1;32m   2570\u001b[0m \u001b[38;5;28;01mtry\u001b[39;00m:\n\u001b[0;32m-> 2571\u001b[0m     dct \u001b[38;5;241m=\u001b[39m \u001b[38;5;28;43mself\u001b[39;49m\u001b[38;5;241;43m.\u001b[39;49m\u001b[43mto_dict\u001b[49m\u001b[43m(\u001b[49m\u001b[43mcontext\u001b[49m\u001b[38;5;241;43m=\u001b[39;49m\u001b[43m{\u001b[49m\u001b[38;5;124;43m\"\u001b[39;49m\u001b[38;5;124;43mpre_transform\u001b[39;49m\u001b[38;5;124;43m\"\u001b[39;49m\u001b[43m:\u001b[49m\u001b[43m \u001b[49m\u001b[38;5;28;43;01mFalse\u001b[39;49;00m\u001b[43m}\u001b[49m\u001b[43m)\u001b[49m\n\u001b[1;32m   2572\u001b[0m \u001b[38;5;28;01mexcept\u001b[39;00m \u001b[38;5;167;01mException\u001b[39;00m:\n\u001b[1;32m   2573\u001b[0m     utils\u001b[38;5;241m.\u001b[39mdisplay_traceback(in_ipython\u001b[38;5;241m=\u001b[39m\u001b[38;5;28;01mTrue\u001b[39;00m)\n",
      "File \u001b[0;32m~/miniforge3/envs/sublimationofsnow/lib/python3.12/site-packages/altair/vegalite/v5/api.py:961\u001b[0m, in \u001b[0;36mTopLevelMixin.to_dict\u001b[0;34m(self, validate, format, ignore, context)\u001b[0m\n\u001b[1;32m    956\u001b[0m context[\u001b[38;5;124m\"\u001b[39m\u001b[38;5;124mtop_level\u001b[39m\u001b[38;5;124m\"\u001b[39m] \u001b[38;5;241m=\u001b[39m \u001b[38;5;28;01mFalse\u001b[39;00m\n\u001b[1;32m    958\u001b[0m \u001b[38;5;66;03m# TopLevelMixin instance does not necessarily have to_dict defined\u001b[39;00m\n\u001b[1;32m    959\u001b[0m \u001b[38;5;66;03m# but due to how Altair is set up this should hold.\u001b[39;00m\n\u001b[1;32m    960\u001b[0m \u001b[38;5;66;03m# Too complex to type hint right now\u001b[39;00m\n\u001b[0;32m--> 961\u001b[0m vegalite_spec \u001b[38;5;241m=\u001b[39m \u001b[38;5;28;43msuper\u001b[39;49m\u001b[43m(\u001b[49m\u001b[43mTopLevelMixin\u001b[49m\u001b[43m,\u001b[49m\u001b[43m \u001b[49m\u001b[43mcopy\u001b[49m\u001b[43m)\u001b[49m\u001b[38;5;241;43m.\u001b[39;49m\u001b[43mto_dict\u001b[49m\u001b[43m(\u001b[49m\u001b[43m  \u001b[49m\u001b[38;5;66;43;03m# type: ignore[misc]\u001b[39;49;00m\n\u001b[1;32m    962\u001b[0m \u001b[43m    \u001b[49m\u001b[43mvalidate\u001b[49m\u001b[38;5;241;43m=\u001b[39;49m\u001b[43mvalidate\u001b[49m\u001b[43m,\u001b[49m\u001b[43m \u001b[49m\u001b[43mignore\u001b[49m\u001b[38;5;241;43m=\u001b[39;49m\u001b[43mignore\u001b[49m\u001b[43m,\u001b[49m\u001b[43m \u001b[49m\u001b[43mcontext\u001b[49m\u001b[38;5;241;43m=\u001b[39;49m\u001b[38;5;28;43mdict\u001b[39;49m\u001b[43m(\u001b[49m\u001b[43mcontext\u001b[49m\u001b[43m,\u001b[49m\u001b[43m \u001b[49m\u001b[43mpre_transform\u001b[49m\u001b[38;5;241;43m=\u001b[39;49m\u001b[38;5;28;43;01mFalse\u001b[39;49;00m\u001b[43m)\u001b[49m\n\u001b[1;32m    963\u001b[0m \u001b[43m\u001b[49m\u001b[43m)\u001b[49m\n\u001b[1;32m    965\u001b[0m \u001b[38;5;66;03m# TODO: following entries are added after validation. Should they be validated?\u001b[39;00m\n\u001b[1;32m    966\u001b[0m \u001b[38;5;28;01mif\u001b[39;00m is_top_level:\n\u001b[1;32m    967\u001b[0m     \u001b[38;5;66;03m# since this is top-level we add $schema if it's missing\u001b[39;00m\n",
      "File \u001b[0;32m~/miniforge3/envs/sublimationofsnow/lib/python3.12/site-packages/altair/utils/schemapi.py:960\u001b[0m, in \u001b[0;36mSchemaBase.to_dict\u001b[0;34m(self, validate, ignore, context)\u001b[0m\n\u001b[1;32m    958\u001b[0m     \u001b[38;5;28;01mif\u001b[39;00m \u001b[38;5;124m\"\u001b[39m\u001b[38;5;124mmark\u001b[39m\u001b[38;5;124m\"\u001b[39m \u001b[38;5;129;01min\u001b[39;00m kwds \u001b[38;5;129;01mand\u001b[39;00m \u001b[38;5;28misinstance\u001b[39m(kwds[\u001b[38;5;124m\"\u001b[39m\u001b[38;5;124mmark\u001b[39m\u001b[38;5;124m\"\u001b[39m], \u001b[38;5;28mstr\u001b[39m):\n\u001b[1;32m    959\u001b[0m         kwds[\u001b[38;5;124m\"\u001b[39m\u001b[38;5;124mmark\u001b[39m\u001b[38;5;124m\"\u001b[39m] \u001b[38;5;241m=\u001b[39m {\u001b[38;5;124m\"\u001b[39m\u001b[38;5;124mtype\u001b[39m\u001b[38;5;124m\"\u001b[39m: kwds[\u001b[38;5;124m\"\u001b[39m\u001b[38;5;124mmark\u001b[39m\u001b[38;5;124m\"\u001b[39m]}\n\u001b[0;32m--> 960\u001b[0m     result \u001b[38;5;241m=\u001b[39m \u001b[43m_todict\u001b[49m\u001b[43m(\u001b[49m\n\u001b[1;32m    961\u001b[0m \u001b[43m        \u001b[49m\u001b[43mkwds\u001b[49m\u001b[43m,\u001b[49m\n\u001b[1;32m    962\u001b[0m \u001b[43m        \u001b[49m\u001b[43mcontext\u001b[49m\u001b[38;5;241;43m=\u001b[39;49m\u001b[43mcontext\u001b[49m\u001b[43m,\u001b[49m\n\u001b[1;32m    963\u001b[0m \u001b[43m    \u001b[49m\u001b[43m)\u001b[49m\n\u001b[1;32m    964\u001b[0m \u001b[38;5;28;01melse\u001b[39;00m:\n\u001b[1;32m    965\u001b[0m     \u001b[38;5;28;01mraise\u001b[39;00m \u001b[38;5;167;01mValueError\u001b[39;00m(\n\u001b[1;32m    966\u001b[0m         \u001b[38;5;124m\"\u001b[39m\u001b[38;5;132;01m{}\u001b[39;00m\u001b[38;5;124m instance has both a value and properties : \u001b[39m\u001b[38;5;124m\"\u001b[39m\n\u001b[1;32m    967\u001b[0m         \u001b[38;5;124m\"\u001b[39m\u001b[38;5;124mcannot serialize to dict\u001b[39m\u001b[38;5;124m\"\u001b[39m\u001b[38;5;241m.\u001b[39mformat(\u001b[38;5;28mself\u001b[39m\u001b[38;5;241m.\u001b[39m\u001b[38;5;18m__class__\u001b[39m)\n\u001b[1;32m    968\u001b[0m     )\n",
      "File \u001b[0;32m~/miniforge3/envs/sublimationofsnow/lib/python3.12/site-packages/altair/utils/schemapi.py:476\u001b[0m, in \u001b[0;36m_todict\u001b[0;34m(obj, context)\u001b[0m\n\u001b[1;32m    474\u001b[0m     \u001b[38;5;28;01mreturn\u001b[39;00m [_todict(v, context) \u001b[38;5;28;01mfor\u001b[39;00m v \u001b[38;5;129;01min\u001b[39;00m obj]\n\u001b[1;32m    475\u001b[0m \u001b[38;5;28;01melif\u001b[39;00m \u001b[38;5;28misinstance\u001b[39m(obj, \u001b[38;5;28mdict\u001b[39m):\n\u001b[0;32m--> 476\u001b[0m     \u001b[38;5;28;01mreturn\u001b[39;00m {k: \u001b[43m_todict\u001b[49m\u001b[43m(\u001b[49m\u001b[43mv\u001b[49m\u001b[43m,\u001b[49m\u001b[43m \u001b[49m\u001b[43mcontext\u001b[49m\u001b[43m)\u001b[49m \u001b[38;5;28;01mfor\u001b[39;00m k, v \u001b[38;5;129;01min\u001b[39;00m obj\u001b[38;5;241m.\u001b[39mitems() \u001b[38;5;28;01mif\u001b[39;00m v \u001b[38;5;129;01mis\u001b[39;00m \u001b[38;5;129;01mnot\u001b[39;00m Undefined}\n\u001b[1;32m    477\u001b[0m \u001b[38;5;28;01melif\u001b[39;00m \u001b[38;5;28mhasattr\u001b[39m(obj, \u001b[38;5;124m\"\u001b[39m\u001b[38;5;124mto_dict\u001b[39m\u001b[38;5;124m\"\u001b[39m):\n\u001b[1;32m    478\u001b[0m     \u001b[38;5;28;01mreturn\u001b[39;00m obj\u001b[38;5;241m.\u001b[39mto_dict()\n",
      "File \u001b[0;32m~/miniforge3/envs/sublimationofsnow/lib/python3.12/site-packages/altair/utils/schemapi.py:474\u001b[0m, in \u001b[0;36m_todict\u001b[0;34m(obj, context)\u001b[0m\n\u001b[1;32m    472\u001b[0m     \u001b[38;5;28;01mreturn\u001b[39;00m obj\u001b[38;5;241m.\u001b[39mto_dict(validate\u001b[38;5;241m=\u001b[39m\u001b[38;5;28;01mFalse\u001b[39;00m, context\u001b[38;5;241m=\u001b[39mcontext)\n\u001b[1;32m    473\u001b[0m \u001b[38;5;28;01melif\u001b[39;00m \u001b[38;5;28misinstance\u001b[39m(obj, (\u001b[38;5;28mlist\u001b[39m, \u001b[38;5;28mtuple\u001b[39m, np\u001b[38;5;241m.\u001b[39mndarray)):\n\u001b[0;32m--> 474\u001b[0m     \u001b[38;5;28;01mreturn\u001b[39;00m [\u001b[43m_todict\u001b[49m\u001b[43m(\u001b[49m\u001b[43mv\u001b[49m\u001b[43m,\u001b[49m\u001b[43m \u001b[49m\u001b[43mcontext\u001b[49m\u001b[43m)\u001b[49m \u001b[38;5;28;01mfor\u001b[39;00m v \u001b[38;5;129;01min\u001b[39;00m obj]\n\u001b[1;32m    475\u001b[0m \u001b[38;5;28;01melif\u001b[39;00m \u001b[38;5;28misinstance\u001b[39m(obj, \u001b[38;5;28mdict\u001b[39m):\n\u001b[1;32m    476\u001b[0m     \u001b[38;5;28;01mreturn\u001b[39;00m {k: _todict(v, context) \u001b[38;5;28;01mfor\u001b[39;00m k, v \u001b[38;5;129;01min\u001b[39;00m obj\u001b[38;5;241m.\u001b[39mitems() \u001b[38;5;28;01mif\u001b[39;00m v \u001b[38;5;129;01mis\u001b[39;00m \u001b[38;5;129;01mnot\u001b[39;00m Undefined}\n",
      "File \u001b[0;32m~/miniforge3/envs/sublimationofsnow/lib/python3.12/site-packages/altair/utils/schemapi.py:472\u001b[0m, in \u001b[0;36m_todict\u001b[0;34m(obj, context)\u001b[0m\n\u001b[1;32m    470\u001b[0m \u001b[38;5;250m\u001b[39m\u001b[38;5;124;03m\"\"\"Convert an object to a dict representation.\"\"\"\u001b[39;00m\n\u001b[1;32m    471\u001b[0m \u001b[38;5;28;01mif\u001b[39;00m \u001b[38;5;28misinstance\u001b[39m(obj, SchemaBase):\n\u001b[0;32m--> 472\u001b[0m     \u001b[38;5;28;01mreturn\u001b[39;00m \u001b[43mobj\u001b[49m\u001b[38;5;241;43m.\u001b[39;49m\u001b[43mto_dict\u001b[49m\u001b[43m(\u001b[49m\u001b[43mvalidate\u001b[49m\u001b[38;5;241;43m=\u001b[39;49m\u001b[38;5;28;43;01mFalse\u001b[39;49;00m\u001b[43m,\u001b[49m\u001b[43m \u001b[49m\u001b[43mcontext\u001b[49m\u001b[38;5;241;43m=\u001b[39;49m\u001b[43mcontext\u001b[49m\u001b[43m)\u001b[49m\n\u001b[1;32m    473\u001b[0m \u001b[38;5;28;01melif\u001b[39;00m \u001b[38;5;28misinstance\u001b[39m(obj, (\u001b[38;5;28mlist\u001b[39m, \u001b[38;5;28mtuple\u001b[39m, np\u001b[38;5;241m.\u001b[39mndarray)):\n\u001b[1;32m    474\u001b[0m     \u001b[38;5;28;01mreturn\u001b[39;00m [_todict(v, context) \u001b[38;5;28;01mfor\u001b[39;00m v \u001b[38;5;129;01min\u001b[39;00m obj]\n",
      "File \u001b[0;32m~/miniforge3/envs/sublimationofsnow/lib/python3.12/site-packages/altair/vegalite/v5/api.py:961\u001b[0m, in \u001b[0;36mTopLevelMixin.to_dict\u001b[0;34m(self, validate, format, ignore, context)\u001b[0m\n\u001b[1;32m    956\u001b[0m context[\u001b[38;5;124m\"\u001b[39m\u001b[38;5;124mtop_level\u001b[39m\u001b[38;5;124m\"\u001b[39m] \u001b[38;5;241m=\u001b[39m \u001b[38;5;28;01mFalse\u001b[39;00m\n\u001b[1;32m    958\u001b[0m \u001b[38;5;66;03m# TopLevelMixin instance does not necessarily have to_dict defined\u001b[39;00m\n\u001b[1;32m    959\u001b[0m \u001b[38;5;66;03m# but due to how Altair is set up this should hold.\u001b[39;00m\n\u001b[1;32m    960\u001b[0m \u001b[38;5;66;03m# Too complex to type hint right now\u001b[39;00m\n\u001b[0;32m--> 961\u001b[0m vegalite_spec \u001b[38;5;241m=\u001b[39m \u001b[38;5;28;43msuper\u001b[39;49m\u001b[43m(\u001b[49m\u001b[43mTopLevelMixin\u001b[49m\u001b[43m,\u001b[49m\u001b[43m \u001b[49m\u001b[43mcopy\u001b[49m\u001b[43m)\u001b[49m\u001b[38;5;241;43m.\u001b[39;49m\u001b[43mto_dict\u001b[49m\u001b[43m(\u001b[49m\u001b[43m  \u001b[49m\u001b[38;5;66;43;03m# type: ignore[misc]\u001b[39;49;00m\n\u001b[1;32m    962\u001b[0m \u001b[43m    \u001b[49m\u001b[43mvalidate\u001b[49m\u001b[38;5;241;43m=\u001b[39;49m\u001b[43mvalidate\u001b[49m\u001b[43m,\u001b[49m\u001b[43m \u001b[49m\u001b[43mignore\u001b[49m\u001b[38;5;241;43m=\u001b[39;49m\u001b[43mignore\u001b[49m\u001b[43m,\u001b[49m\u001b[43m \u001b[49m\u001b[43mcontext\u001b[49m\u001b[38;5;241;43m=\u001b[39;49m\u001b[38;5;28;43mdict\u001b[39;49m\u001b[43m(\u001b[49m\u001b[43mcontext\u001b[49m\u001b[43m,\u001b[49m\u001b[43m \u001b[49m\u001b[43mpre_transform\u001b[49m\u001b[38;5;241;43m=\u001b[39;49m\u001b[38;5;28;43;01mFalse\u001b[39;49;00m\u001b[43m)\u001b[49m\n\u001b[1;32m    963\u001b[0m \u001b[43m\u001b[49m\u001b[43m)\u001b[49m\n\u001b[1;32m    965\u001b[0m \u001b[38;5;66;03m# TODO: following entries are added after validation. Should they be validated?\u001b[39;00m\n\u001b[1;32m    966\u001b[0m \u001b[38;5;28;01mif\u001b[39;00m is_top_level:\n\u001b[1;32m    967\u001b[0m     \u001b[38;5;66;03m# since this is top-level we add $schema if it's missing\u001b[39;00m\n",
      "File \u001b[0;32m~/miniforge3/envs/sublimationofsnow/lib/python3.12/site-packages/altair/utils/schemapi.py:960\u001b[0m, in \u001b[0;36mSchemaBase.to_dict\u001b[0;34m(self, validate, ignore, context)\u001b[0m\n\u001b[1;32m    958\u001b[0m     \u001b[38;5;28;01mif\u001b[39;00m \u001b[38;5;124m\"\u001b[39m\u001b[38;5;124mmark\u001b[39m\u001b[38;5;124m\"\u001b[39m \u001b[38;5;129;01min\u001b[39;00m kwds \u001b[38;5;129;01mand\u001b[39;00m \u001b[38;5;28misinstance\u001b[39m(kwds[\u001b[38;5;124m\"\u001b[39m\u001b[38;5;124mmark\u001b[39m\u001b[38;5;124m\"\u001b[39m], \u001b[38;5;28mstr\u001b[39m):\n\u001b[1;32m    959\u001b[0m         kwds[\u001b[38;5;124m\"\u001b[39m\u001b[38;5;124mmark\u001b[39m\u001b[38;5;124m\"\u001b[39m] \u001b[38;5;241m=\u001b[39m {\u001b[38;5;124m\"\u001b[39m\u001b[38;5;124mtype\u001b[39m\u001b[38;5;124m\"\u001b[39m: kwds[\u001b[38;5;124m\"\u001b[39m\u001b[38;5;124mmark\u001b[39m\u001b[38;5;124m\"\u001b[39m]}\n\u001b[0;32m--> 960\u001b[0m     result \u001b[38;5;241m=\u001b[39m \u001b[43m_todict\u001b[49m\u001b[43m(\u001b[49m\n\u001b[1;32m    961\u001b[0m \u001b[43m        \u001b[49m\u001b[43mkwds\u001b[49m\u001b[43m,\u001b[49m\n\u001b[1;32m    962\u001b[0m \u001b[43m        \u001b[49m\u001b[43mcontext\u001b[49m\u001b[38;5;241;43m=\u001b[39;49m\u001b[43mcontext\u001b[49m\u001b[43m,\u001b[49m\n\u001b[1;32m    963\u001b[0m \u001b[43m    \u001b[49m\u001b[43m)\u001b[49m\n\u001b[1;32m    964\u001b[0m \u001b[38;5;28;01melse\u001b[39;00m:\n\u001b[1;32m    965\u001b[0m     \u001b[38;5;28;01mraise\u001b[39;00m \u001b[38;5;167;01mValueError\u001b[39;00m(\n\u001b[1;32m    966\u001b[0m         \u001b[38;5;124m\"\u001b[39m\u001b[38;5;132;01m{}\u001b[39;00m\u001b[38;5;124m instance has both a value and properties : \u001b[39m\u001b[38;5;124m\"\u001b[39m\n\u001b[1;32m    967\u001b[0m         \u001b[38;5;124m\"\u001b[39m\u001b[38;5;124mcannot serialize to dict\u001b[39m\u001b[38;5;124m\"\u001b[39m\u001b[38;5;241m.\u001b[39mformat(\u001b[38;5;28mself\u001b[39m\u001b[38;5;241m.\u001b[39m\u001b[38;5;18m__class__\u001b[39m)\n\u001b[1;32m    968\u001b[0m     )\n",
      "File \u001b[0;32m~/miniforge3/envs/sublimationofsnow/lib/python3.12/site-packages/altair/utils/schemapi.py:476\u001b[0m, in \u001b[0;36m_todict\u001b[0;34m(obj, context)\u001b[0m\n\u001b[1;32m    474\u001b[0m     \u001b[38;5;28;01mreturn\u001b[39;00m [_todict(v, context) \u001b[38;5;28;01mfor\u001b[39;00m v \u001b[38;5;129;01min\u001b[39;00m obj]\n\u001b[1;32m    475\u001b[0m \u001b[38;5;28;01melif\u001b[39;00m \u001b[38;5;28misinstance\u001b[39m(obj, \u001b[38;5;28mdict\u001b[39m):\n\u001b[0;32m--> 476\u001b[0m     \u001b[38;5;28;01mreturn\u001b[39;00m {k: \u001b[43m_todict\u001b[49m\u001b[43m(\u001b[49m\u001b[43mv\u001b[49m\u001b[43m,\u001b[49m\u001b[43m \u001b[49m\u001b[43mcontext\u001b[49m\u001b[43m)\u001b[49m \u001b[38;5;28;01mfor\u001b[39;00m k, v \u001b[38;5;129;01min\u001b[39;00m obj\u001b[38;5;241m.\u001b[39mitems() \u001b[38;5;28;01mif\u001b[39;00m v \u001b[38;5;129;01mis\u001b[39;00m \u001b[38;5;129;01mnot\u001b[39;00m Undefined}\n\u001b[1;32m    477\u001b[0m \u001b[38;5;28;01melif\u001b[39;00m \u001b[38;5;28mhasattr\u001b[39m(obj, \u001b[38;5;124m\"\u001b[39m\u001b[38;5;124mto_dict\u001b[39m\u001b[38;5;124m\"\u001b[39m):\n\u001b[1;32m    478\u001b[0m     \u001b[38;5;28;01mreturn\u001b[39;00m obj\u001b[38;5;241m.\u001b[39mto_dict()\n",
      "File \u001b[0;32m~/miniforge3/envs/sublimationofsnow/lib/python3.12/site-packages/altair/utils/schemapi.py:474\u001b[0m, in \u001b[0;36m_todict\u001b[0;34m(obj, context)\u001b[0m\n\u001b[1;32m    472\u001b[0m     \u001b[38;5;28;01mreturn\u001b[39;00m obj\u001b[38;5;241m.\u001b[39mto_dict(validate\u001b[38;5;241m=\u001b[39m\u001b[38;5;28;01mFalse\u001b[39;00m, context\u001b[38;5;241m=\u001b[39mcontext)\n\u001b[1;32m    473\u001b[0m \u001b[38;5;28;01melif\u001b[39;00m \u001b[38;5;28misinstance\u001b[39m(obj, (\u001b[38;5;28mlist\u001b[39m, \u001b[38;5;28mtuple\u001b[39m, np\u001b[38;5;241m.\u001b[39mndarray)):\n\u001b[0;32m--> 474\u001b[0m     \u001b[38;5;28;01mreturn\u001b[39;00m [\u001b[43m_todict\u001b[49m\u001b[43m(\u001b[49m\u001b[43mv\u001b[49m\u001b[43m,\u001b[49m\u001b[43m \u001b[49m\u001b[43mcontext\u001b[49m\u001b[43m)\u001b[49m \u001b[38;5;28;01mfor\u001b[39;00m v \u001b[38;5;129;01min\u001b[39;00m obj]\n\u001b[1;32m    475\u001b[0m \u001b[38;5;28;01melif\u001b[39;00m \u001b[38;5;28misinstance\u001b[39m(obj, \u001b[38;5;28mdict\u001b[39m):\n\u001b[1;32m    476\u001b[0m     \u001b[38;5;28;01mreturn\u001b[39;00m {k: _todict(v, context) \u001b[38;5;28;01mfor\u001b[39;00m k, v \u001b[38;5;129;01min\u001b[39;00m obj\u001b[38;5;241m.\u001b[39mitems() \u001b[38;5;28;01mif\u001b[39;00m v \u001b[38;5;129;01mis\u001b[39;00m \u001b[38;5;129;01mnot\u001b[39;00m Undefined}\n",
      "File \u001b[0;32m~/miniforge3/envs/sublimationofsnow/lib/python3.12/site-packages/altair/utils/schemapi.py:472\u001b[0m, in \u001b[0;36m_todict\u001b[0;34m(obj, context)\u001b[0m\n\u001b[1;32m    470\u001b[0m \u001b[38;5;250m\u001b[39m\u001b[38;5;124;03m\"\"\"Convert an object to a dict representation.\"\"\"\u001b[39;00m\n\u001b[1;32m    471\u001b[0m \u001b[38;5;28;01mif\u001b[39;00m \u001b[38;5;28misinstance\u001b[39m(obj, SchemaBase):\n\u001b[0;32m--> 472\u001b[0m     \u001b[38;5;28;01mreturn\u001b[39;00m \u001b[43mobj\u001b[49m\u001b[38;5;241;43m.\u001b[39;49m\u001b[43mto_dict\u001b[49m\u001b[43m(\u001b[49m\u001b[43mvalidate\u001b[49m\u001b[38;5;241;43m=\u001b[39;49m\u001b[38;5;28;43;01mFalse\u001b[39;49;00m\u001b[43m,\u001b[49m\u001b[43m \u001b[49m\u001b[43mcontext\u001b[49m\u001b[38;5;241;43m=\u001b[39;49m\u001b[43mcontext\u001b[49m\u001b[43m)\u001b[49m\n\u001b[1;32m    473\u001b[0m \u001b[38;5;28;01melif\u001b[39;00m \u001b[38;5;28misinstance\u001b[39m(obj, (\u001b[38;5;28mlist\u001b[39m, \u001b[38;5;28mtuple\u001b[39m, np\u001b[38;5;241m.\u001b[39mndarray)):\n\u001b[1;32m    474\u001b[0m     \u001b[38;5;28;01mreturn\u001b[39;00m [_todict(v, context) \u001b[38;5;28;01mfor\u001b[39;00m v \u001b[38;5;129;01min\u001b[39;00m obj]\n",
      "File \u001b[0;32m~/miniforge3/envs/sublimationofsnow/lib/python3.12/site-packages/altair/vegalite/v5/api.py:950\u001b[0m, in \u001b[0;36mTopLevelMixin.to_dict\u001b[0;34m(self, validate, format, ignore, context)\u001b[0m\n\u001b[1;32m    948\u001b[0m copy \u001b[38;5;241m=\u001b[39m \u001b[38;5;28mself\u001b[39m\u001b[38;5;241m.\u001b[39mcopy(deep\u001b[38;5;241m=\u001b[39m\u001b[38;5;28;01mFalse\u001b[39;00m)  \u001b[38;5;66;03m# type: ignore[attr-defined]\u001b[39;00m\n\u001b[1;32m    949\u001b[0m original_data \u001b[38;5;241m=\u001b[39m \u001b[38;5;28mgetattr\u001b[39m(copy, \u001b[38;5;124m\"\u001b[39m\u001b[38;5;124mdata\u001b[39m\u001b[38;5;124m\"\u001b[39m, Undefined)\n\u001b[0;32m--> 950\u001b[0m copy\u001b[38;5;241m.\u001b[39mdata \u001b[38;5;241m=\u001b[39m \u001b[43m_prepare_data\u001b[49m\u001b[43m(\u001b[49m\u001b[43moriginal_data\u001b[49m\u001b[43m,\u001b[49m\u001b[43m \u001b[49m\u001b[43mcontext\u001b[49m\u001b[43m)\u001b[49m\n\u001b[1;32m    952\u001b[0m \u001b[38;5;28;01mif\u001b[39;00m original_data \u001b[38;5;129;01mis\u001b[39;00m \u001b[38;5;129;01mnot\u001b[39;00m Undefined:\n\u001b[1;32m    953\u001b[0m     context[\u001b[38;5;124m\"\u001b[39m\u001b[38;5;124mdata\u001b[39m\u001b[38;5;124m\"\u001b[39m] \u001b[38;5;241m=\u001b[39m original_data\n",
      "File \u001b[0;32m~/miniforge3/envs/sublimationofsnow/lib/python3.12/site-packages/altair/vegalite/v5/api.py:111\u001b[0m, in \u001b[0;36m_prepare_data\u001b[0;34m(data, context)\u001b[0m\n\u001b[1;32m    109\u001b[0m \u001b[38;5;66;03m# convert dataframes  or objects with __geo_interface__ to dict\u001b[39;00m\n\u001b[1;32m    110\u001b[0m \u001b[38;5;28;01melif\u001b[39;00m \u001b[38;5;28misinstance\u001b[39m(data, pd\u001b[38;5;241m.\u001b[39mDataFrame) \u001b[38;5;129;01mor\u001b[39;00m \u001b[38;5;28mhasattr\u001b[39m(data, \u001b[38;5;124m\"\u001b[39m\u001b[38;5;124m__geo_interface__\u001b[39m\u001b[38;5;124m\"\u001b[39m):\n\u001b[0;32m--> 111\u001b[0m     data \u001b[38;5;241m=\u001b[39m \u001b[43m_pipe\u001b[49m\u001b[43m(\u001b[49m\u001b[43mdata\u001b[49m\u001b[43m,\u001b[49m\u001b[43m \u001b[49m\u001b[43mdata_transformers\u001b[49m\u001b[38;5;241;43m.\u001b[39;49m\u001b[43mget\u001b[49m\u001b[43m(\u001b[49m\u001b[43m)\u001b[49m\u001b[43m)\u001b[49m\n\u001b[1;32m    113\u001b[0m \u001b[38;5;66;03m# convert string input to a URLData\u001b[39;00m\n\u001b[1;32m    114\u001b[0m \u001b[38;5;28;01melif\u001b[39;00m \u001b[38;5;28misinstance\u001b[39m(data, \u001b[38;5;28mstr\u001b[39m):\n",
      "File \u001b[0;32m~/miniforge3/envs/sublimationofsnow/lib/python3.12/site-packages/toolz/functoolz.py:628\u001b[0m, in \u001b[0;36mpipe\u001b[0;34m(data, *funcs)\u001b[0m\n\u001b[1;32m    608\u001b[0m \u001b[38;5;250m\u001b[39m\u001b[38;5;124;03m\"\"\" Pipe a value through a sequence of functions\u001b[39;00m\n\u001b[1;32m    609\u001b[0m \n\u001b[1;32m    610\u001b[0m \u001b[38;5;124;03mI.e. ``pipe(data, f, g, h)`` is equivalent to ``h(g(f(data)))``\u001b[39;00m\n\u001b[0;32m   (...)\u001b[0m\n\u001b[1;32m    625\u001b[0m \u001b[38;5;124;03m    thread_last\u001b[39;00m\n\u001b[1;32m    626\u001b[0m \u001b[38;5;124;03m\"\"\"\u001b[39;00m\n\u001b[1;32m    627\u001b[0m \u001b[38;5;28;01mfor\u001b[39;00m func \u001b[38;5;129;01min\u001b[39;00m funcs:\n\u001b[0;32m--> 628\u001b[0m     data \u001b[38;5;241m=\u001b[39m \u001b[43mfunc\u001b[49m\u001b[43m(\u001b[49m\u001b[43mdata\u001b[49m\u001b[43m)\u001b[49m\n\u001b[1;32m    629\u001b[0m \u001b[38;5;28;01mreturn\u001b[39;00m data\n",
      "File \u001b[0;32m~/miniforge3/envs/sublimationofsnow/lib/python3.12/site-packages/toolz/functoolz.py:304\u001b[0m, in \u001b[0;36mcurry.__call__\u001b[0;34m(self, *args, **kwargs)\u001b[0m\n\u001b[1;32m    302\u001b[0m \u001b[38;5;28;01mdef\u001b[39;00m \u001b[38;5;21m__call__\u001b[39m(\u001b[38;5;28mself\u001b[39m, \u001b[38;5;241m*\u001b[39margs, \u001b[38;5;241m*\u001b[39m\u001b[38;5;241m*\u001b[39mkwargs):\n\u001b[1;32m    303\u001b[0m     \u001b[38;5;28;01mtry\u001b[39;00m:\n\u001b[0;32m--> 304\u001b[0m         \u001b[38;5;28;01mreturn\u001b[39;00m \u001b[38;5;28;43mself\u001b[39;49m\u001b[38;5;241;43m.\u001b[39;49m\u001b[43m_partial\u001b[49m\u001b[43m(\u001b[49m\u001b[38;5;241;43m*\u001b[39;49m\u001b[43margs\u001b[49m\u001b[43m,\u001b[49m\u001b[43m \u001b[49m\u001b[38;5;241;43m*\u001b[39;49m\u001b[38;5;241;43m*\u001b[39;49m\u001b[43mkwargs\u001b[49m\u001b[43m)\u001b[49m\n\u001b[1;32m    305\u001b[0m     \u001b[38;5;28;01mexcept\u001b[39;00m \u001b[38;5;167;01mTypeError\u001b[39;00m \u001b[38;5;28;01mas\u001b[39;00m exc:\n\u001b[1;32m    306\u001b[0m         \u001b[38;5;28;01mif\u001b[39;00m \u001b[38;5;28mself\u001b[39m\u001b[38;5;241m.\u001b[39m_should_curry(args, kwargs, exc):\n",
      "File \u001b[0;32m~/miniforge3/envs/sublimationofsnow/lib/python3.12/site-packages/altair/utils/data.py:189\u001b[0m, in \u001b[0;36mto_json\u001b[0;34m(data, prefix, extension, filename, urlpath)\u001b[0m\n\u001b[1;32m    178\u001b[0m \u001b[38;5;129m@curried\u001b[39m\u001b[38;5;241m.\u001b[39mcurry\n\u001b[1;32m    179\u001b[0m \u001b[38;5;28;01mdef\u001b[39;00m \u001b[38;5;21mto_json\u001b[39m(\n\u001b[1;32m    180\u001b[0m     data: DataType,\n\u001b[0;32m   (...)\u001b[0m\n\u001b[1;32m    184\u001b[0m     urlpath: \u001b[38;5;28mstr\u001b[39m \u001b[38;5;241m=\u001b[39m \u001b[38;5;124m\"\u001b[39m\u001b[38;5;124m\"\u001b[39m,\n\u001b[1;32m    185\u001b[0m ) \u001b[38;5;241m-\u001b[39m\u001b[38;5;241m>\u001b[39m _ToJsonReturnUrlDict:\n\u001b[1;32m    186\u001b[0m \u001b[38;5;250m    \u001b[39m\u001b[38;5;124;03m\"\"\"\u001b[39;00m\n\u001b[1;32m    187\u001b[0m \u001b[38;5;124;03m    Write the data model to a .json file and return a url based data model.\u001b[39;00m\n\u001b[1;32m    188\u001b[0m \u001b[38;5;124;03m    \"\"\"\u001b[39;00m\n\u001b[0;32m--> 189\u001b[0m     data_json \u001b[38;5;241m=\u001b[39m \u001b[43m_data_to_json_string\u001b[49m\u001b[43m(\u001b[49m\u001b[43mdata\u001b[49m\u001b[43m)\u001b[49m\n\u001b[1;32m    190\u001b[0m     data_hash \u001b[38;5;241m=\u001b[39m _compute_data_hash(data_json)\n\u001b[1;32m    191\u001b[0m     filename \u001b[38;5;241m=\u001b[39m filename\u001b[38;5;241m.\u001b[39mformat(prefix\u001b[38;5;241m=\u001b[39mprefix, \u001b[38;5;28mhash\u001b[39m\u001b[38;5;241m=\u001b[39mdata_hash, extension\u001b[38;5;241m=\u001b[39mextension)\n",
      "File \u001b[0;32m~/miniforge3/envs/sublimationofsnow/lib/python3.12/site-packages/altair/utils/data.py:269\u001b[0m, in \u001b[0;36m_data_to_json_string\u001b[0;34m(data)\u001b[0m\n\u001b[1;32m    267\u001b[0m     \u001b[38;5;28;01mreturn\u001b[39;00m json\u001b[38;5;241m.\u001b[39mdumps(data)\n\u001b[1;32m    268\u001b[0m \u001b[38;5;28;01melif\u001b[39;00m \u001b[38;5;28misinstance\u001b[39m(data, pd\u001b[38;5;241m.\u001b[39mDataFrame):\n\u001b[0;32m--> 269\u001b[0m     data \u001b[38;5;241m=\u001b[39m \u001b[43msanitize_dataframe\u001b[49m\u001b[43m(\u001b[49m\u001b[43mdata\u001b[49m\u001b[43m)\u001b[49m\n\u001b[1;32m    270\u001b[0m     \u001b[38;5;28;01mreturn\u001b[39;00m data\u001b[38;5;241m.\u001b[39mto_json(orient\u001b[38;5;241m=\u001b[39m\u001b[38;5;124m\"\u001b[39m\u001b[38;5;124mrecords\u001b[39m\u001b[38;5;124m\"\u001b[39m, double_precision\u001b[38;5;241m=\u001b[39m\u001b[38;5;241m15\u001b[39m)\n\u001b[1;32m    271\u001b[0m \u001b[38;5;28;01melif\u001b[39;00m \u001b[38;5;28misinstance\u001b[39m(data, \u001b[38;5;28mdict\u001b[39m):\n",
      "File \u001b[0;32m~/miniforge3/envs/sublimationofsnow/lib/python3.12/site-packages/altair/utils/core.py:420\u001b[0m, in \u001b[0;36msanitize_dataframe\u001b[0;34m(df)\u001b[0m\n\u001b[1;32m    416\u001b[0m     \u001b[38;5;28;01melif\u001b[39;00m dtype \u001b[38;5;241m==\u001b[39m \u001b[38;5;28mobject\u001b[39m:\n\u001b[1;32m    417\u001b[0m         \u001b[38;5;66;03m# Convert numpy arrays saved as objects to lists\u001b[39;00m\n\u001b[1;32m    418\u001b[0m         \u001b[38;5;66;03m# Arrays are not JSON serializable\u001b[39;00m\n\u001b[1;32m    419\u001b[0m         col \u001b[38;5;241m=\u001b[39m df[col_name]\u001b[38;5;241m.\u001b[39mastype(\u001b[38;5;28mobject\u001b[39m)\u001b[38;5;241m.\u001b[39mapply(to_list_if_array)\n\u001b[0;32m--> 420\u001b[0m         df[col_name] \u001b[38;5;241m=\u001b[39m col\u001b[38;5;241m.\u001b[39mwhere(\u001b[43mcol\u001b[49m\u001b[38;5;241;43m.\u001b[39;49m\u001b[43mnotnull\u001b[49m\u001b[43m(\u001b[49m\u001b[43m)\u001b[49m, \u001b[38;5;28;01mNone\u001b[39;00m)\n\u001b[1;32m    421\u001b[0m \u001b[38;5;28;01mreturn\u001b[39;00m df\n",
      "File \u001b[0;32m~/miniforge3/envs/sublimationofsnow/lib/python3.12/site-packages/pandas/core/series.py:5796\u001b[0m, in \u001b[0;36mSeries.notnull\u001b[0;34m(self)\u001b[0m\n\u001b[1;32m   5791\u001b[0m \u001b[38;5;129m@doc\u001b[39m(NDFrame\u001b[38;5;241m.\u001b[39mnotna, klass\u001b[38;5;241m=\u001b[39m_shared_doc_kwargs[\u001b[38;5;124m\"\u001b[39m\u001b[38;5;124mklass\u001b[39m\u001b[38;5;124m\"\u001b[39m])  \u001b[38;5;66;03m# type: ignore[has-type]\u001b[39;00m\n\u001b[1;32m   5792\u001b[0m \u001b[38;5;28;01mdef\u001b[39;00m \u001b[38;5;21mnotnull\u001b[39m(\u001b[38;5;28mself\u001b[39m) \u001b[38;5;241m-\u001b[39m\u001b[38;5;241m>\u001b[39m Series:\n\u001b[1;32m   5793\u001b[0m \u001b[38;5;250m    \u001b[39m\u001b[38;5;124;03m\"\"\"\u001b[39;00m\n\u001b[1;32m   5794\u001b[0m \u001b[38;5;124;03m    Series.notnull is an alias for Series.notna.\u001b[39;00m\n\u001b[1;32m   5795\u001b[0m \u001b[38;5;124;03m    \"\"\"\u001b[39;00m\n\u001b[0;32m-> 5796\u001b[0m     \u001b[38;5;28;01mreturn\u001b[39;00m \u001b[38;5;28;43msuper\u001b[39;49m\u001b[43m(\u001b[49m\u001b[43m)\u001b[49m\u001b[38;5;241;43m.\u001b[39;49m\u001b[43mnotnull\u001b[49m\u001b[43m(\u001b[49m\u001b[43m)\u001b[49m\n",
      "File \u001b[0;32m~/miniforge3/envs/sublimationofsnow/lib/python3.12/site-packages/pandas/core/generic.py:8825\u001b[0m, in \u001b[0;36mNDFrame.notnull\u001b[0;34m(self)\u001b[0m\n\u001b[1;32m   8823\u001b[0m \u001b[38;5;129m@doc\u001b[39m(notna, klass\u001b[38;5;241m=\u001b[39m_shared_doc_kwargs[\u001b[38;5;124m\"\u001b[39m\u001b[38;5;124mklass\u001b[39m\u001b[38;5;124m\"\u001b[39m])\n\u001b[1;32m   8824\u001b[0m \u001b[38;5;28;01mdef\u001b[39;00m \u001b[38;5;21mnotnull\u001b[39m(\u001b[38;5;28mself\u001b[39m) \u001b[38;5;241m-\u001b[39m\u001b[38;5;241m>\u001b[39m Self:\n\u001b[0;32m-> 8825\u001b[0m     \u001b[38;5;28;01mreturn\u001b[39;00m \u001b[43mnotna\u001b[49m\u001b[43m(\u001b[49m\u001b[38;5;28;43mself\u001b[39;49m\u001b[43m)\u001b[49m\u001b[38;5;241m.\u001b[39m__finalize__(\u001b[38;5;28mself\u001b[39m, method\u001b[38;5;241m=\u001b[39m\u001b[38;5;124m\"\u001b[39m\u001b[38;5;124mnotnull\u001b[39m\u001b[38;5;124m\"\u001b[39m)\n",
      "File \u001b[0;32m~/miniforge3/envs/sublimationofsnow/lib/python3.12/site-packages/pandas/core/dtypes/missing.py:457\u001b[0m, in \u001b[0;36mnotna\u001b[0;34m(obj)\u001b[0m\n\u001b[1;32m    380\u001b[0m \u001b[38;5;28;01mdef\u001b[39;00m \u001b[38;5;21mnotna\u001b[39m(obj: \u001b[38;5;28mobject\u001b[39m) \u001b[38;5;241m-\u001b[39m\u001b[38;5;241m>\u001b[39m \u001b[38;5;28mbool\u001b[39m \u001b[38;5;241m|\u001b[39m npt\u001b[38;5;241m.\u001b[39mNDArray[np\u001b[38;5;241m.\u001b[39mbool_] \u001b[38;5;241m|\u001b[39m NDFrame:\n\u001b[1;32m    381\u001b[0m \u001b[38;5;250m    \u001b[39m\u001b[38;5;124;03m\"\"\"\u001b[39;00m\n\u001b[1;32m    382\u001b[0m \u001b[38;5;124;03m    Detect non-missing values for an array-like object.\u001b[39;00m\n\u001b[1;32m    383\u001b[0m \n\u001b[0;32m   (...)\u001b[0m\n\u001b[1;32m    455\u001b[0m \u001b[38;5;124;03m    Name: 1, dtype: bool\u001b[39;00m\n\u001b[1;32m    456\u001b[0m \u001b[38;5;124;03m    \"\"\"\u001b[39;00m\n\u001b[0;32m--> 457\u001b[0m     res \u001b[38;5;241m=\u001b[39m \u001b[43misna\u001b[49m\u001b[43m(\u001b[49m\u001b[43mobj\u001b[49m\u001b[43m)\u001b[49m\n\u001b[1;32m    458\u001b[0m     \u001b[38;5;28;01mif\u001b[39;00m \u001b[38;5;28misinstance\u001b[39m(res, \u001b[38;5;28mbool\u001b[39m):\n\u001b[1;32m    459\u001b[0m         \u001b[38;5;28;01mreturn\u001b[39;00m \u001b[38;5;129;01mnot\u001b[39;00m res\n",
      "File \u001b[0;32m~/miniforge3/envs/sublimationofsnow/lib/python3.12/site-packages/pandas/core/dtypes/missing.py:178\u001b[0m, in \u001b[0;36misna\u001b[0;34m(obj)\u001b[0m\n\u001b[1;32m    101\u001b[0m \u001b[38;5;28;01mdef\u001b[39;00m \u001b[38;5;21misna\u001b[39m(obj: \u001b[38;5;28mobject\u001b[39m) \u001b[38;5;241m-\u001b[39m\u001b[38;5;241m>\u001b[39m \u001b[38;5;28mbool\u001b[39m \u001b[38;5;241m|\u001b[39m npt\u001b[38;5;241m.\u001b[39mNDArray[np\u001b[38;5;241m.\u001b[39mbool_] \u001b[38;5;241m|\u001b[39m NDFrame:\n\u001b[1;32m    102\u001b[0m \u001b[38;5;250m    \u001b[39m\u001b[38;5;124;03m\"\"\"\u001b[39;00m\n\u001b[1;32m    103\u001b[0m \u001b[38;5;124;03m    Detect missing values for an array-like object.\u001b[39;00m\n\u001b[1;32m    104\u001b[0m \n\u001b[0;32m   (...)\u001b[0m\n\u001b[1;32m    176\u001b[0m \u001b[38;5;124;03m    Name: 1, dtype: bool\u001b[39;00m\n\u001b[1;32m    177\u001b[0m \u001b[38;5;124;03m    \"\"\"\u001b[39;00m\n\u001b[0;32m--> 178\u001b[0m     \u001b[38;5;28;01mreturn\u001b[39;00m \u001b[43m_isna\u001b[49m\u001b[43m(\u001b[49m\u001b[43mobj\u001b[49m\u001b[43m)\u001b[49m\n",
      "File \u001b[0;32m~/miniforge3/envs/sublimationofsnow/lib/python3.12/site-packages/pandas/core/dtypes/missing.py:216\u001b[0m, in \u001b[0;36m_isna\u001b[0;34m(obj, inf_as_na)\u001b[0m\n\u001b[1;32m    213\u001b[0m     \u001b[38;5;28;01mreturn\u001b[39;00m _isna_array(obj\u001b[38;5;241m.\u001b[39m_values, inf_as_na\u001b[38;5;241m=\u001b[39minf_as_na)\n\u001b[1;32m    215\u001b[0m \u001b[38;5;28;01melif\u001b[39;00m \u001b[38;5;28misinstance\u001b[39m(obj, ABCSeries):\n\u001b[0;32m--> 216\u001b[0m     result \u001b[38;5;241m=\u001b[39m \u001b[43m_isna_array\u001b[49m\u001b[43m(\u001b[49m\u001b[43mobj\u001b[49m\u001b[38;5;241;43m.\u001b[39;49m\u001b[43m_values\u001b[49m\u001b[43m,\u001b[49m\u001b[43m \u001b[49m\u001b[43minf_as_na\u001b[49m\u001b[38;5;241;43m=\u001b[39;49m\u001b[43minf_as_na\u001b[49m\u001b[43m)\u001b[49m\n\u001b[1;32m    217\u001b[0m     \u001b[38;5;66;03m# box\u001b[39;00m\n\u001b[1;32m    218\u001b[0m     result \u001b[38;5;241m=\u001b[39m obj\u001b[38;5;241m.\u001b[39m_constructor(result, index\u001b[38;5;241m=\u001b[39mobj\u001b[38;5;241m.\u001b[39mindex, name\u001b[38;5;241m=\u001b[39mobj\u001b[38;5;241m.\u001b[39mname, copy\u001b[38;5;241m=\u001b[39m\u001b[38;5;28;01mFalse\u001b[39;00m)\n",
      "File \u001b[0;32m~/miniforge3/envs/sublimationofsnow/lib/python3.12/site-packages/pandas/core/dtypes/missing.py:292\u001b[0m, in \u001b[0;36m_isna_array\u001b[0;34m(values, inf_as_na)\u001b[0m\n\u001b[1;32m    290\u001b[0m     result \u001b[38;5;241m=\u001b[39m _isna_recarray_dtype(values, inf_as_na\u001b[38;5;241m=\u001b[39minf_as_na)\n\u001b[1;32m    291\u001b[0m \u001b[38;5;28;01melif\u001b[39;00m is_string_or_object_np_dtype(values\u001b[38;5;241m.\u001b[39mdtype):\n\u001b[0;32m--> 292\u001b[0m     result \u001b[38;5;241m=\u001b[39m \u001b[43m_isna_string_dtype\u001b[49m\u001b[43m(\u001b[49m\u001b[43mvalues\u001b[49m\u001b[43m,\u001b[49m\u001b[43m \u001b[49m\u001b[43minf_as_na\u001b[49m\u001b[38;5;241;43m=\u001b[39;49m\u001b[43minf_as_na\u001b[49m\u001b[43m)\u001b[49m\n\u001b[1;32m    293\u001b[0m \u001b[38;5;28;01melif\u001b[39;00m dtype\u001b[38;5;241m.\u001b[39mkind \u001b[38;5;129;01min\u001b[39;00m \u001b[38;5;124m\"\u001b[39m\u001b[38;5;124mmM\u001b[39m\u001b[38;5;124m\"\u001b[39m:\n\u001b[1;32m    294\u001b[0m     \u001b[38;5;66;03m# this is the NaT pattern\u001b[39;00m\n\u001b[1;32m    295\u001b[0m     result \u001b[38;5;241m=\u001b[39m values\u001b[38;5;241m.\u001b[39mview(\u001b[38;5;124m\"\u001b[39m\u001b[38;5;124mi8\u001b[39m\u001b[38;5;124m\"\u001b[39m) \u001b[38;5;241m==\u001b[39m iNaT\n",
      "File \u001b[0;32m~/miniforge3/envs/sublimationofsnow/lib/python3.12/site-packages/pandas/core/dtypes/missing.py:313\u001b[0m, in \u001b[0;36m_isna_string_dtype\u001b[0;34m(values, inf_as_na)\u001b[0m\n\u001b[1;32m    311\u001b[0m \u001b[38;5;28;01melse\u001b[39;00m:\n\u001b[1;32m    312\u001b[0m     \u001b[38;5;28;01mif\u001b[39;00m values\u001b[38;5;241m.\u001b[39mndim \u001b[38;5;129;01min\u001b[39;00m {\u001b[38;5;241m1\u001b[39m, \u001b[38;5;241m2\u001b[39m}:\n\u001b[0;32m--> 313\u001b[0m         result \u001b[38;5;241m=\u001b[39m \u001b[43mlibmissing\u001b[49m\u001b[38;5;241;43m.\u001b[39;49m\u001b[43misnaobj\u001b[49m\u001b[43m(\u001b[49m\u001b[43mvalues\u001b[49m\u001b[43m,\u001b[49m\u001b[43m \u001b[49m\u001b[43minf_as_na\u001b[49m\u001b[38;5;241;43m=\u001b[39;49m\u001b[43minf_as_na\u001b[49m\u001b[43m)\u001b[49m\n\u001b[1;32m    314\u001b[0m     \u001b[38;5;28;01melse\u001b[39;00m:\n\u001b[1;32m    315\u001b[0m         \u001b[38;5;66;03m# 0-D, reached via e.g. mask_missing\u001b[39;00m\n\u001b[1;32m    316\u001b[0m         result \u001b[38;5;241m=\u001b[39m libmissing\u001b[38;5;241m.\u001b[39misnaobj(values\u001b[38;5;241m.\u001b[39mravel(), inf_as_na\u001b[38;5;241m=\u001b[39minf_as_na)\n",
      "\u001b[0;31mKeyboardInterrupt\u001b[0m: "
     ]
    }
   ],
   "source": [
    "(\n",
    "    combo_mean_w_q__profile_chart & \n",
    "    combo_mean_u_q__profile_chart & \n",
    "    combo_mean_v_q__profile_chart &\n",
    "    combo_mean_w_profile_chart & \n",
    "    combo_mean_u_profile_chart &\n",
    "    combo_mean_v_profile_chart &\n",
    "    combo_mean_q_profile_chart & \n",
    "    combo_mean_tke_profile_chart &\n",
    "    combo_mean_w_w__profile_chart\n",
    ")"
   ]
  },
  {
   "cell_type": "code",
   "execution_count": null,
   "metadata": {},
   "outputs": [],
   "source": [
    "def filter_to_case_study(df):\n",
    "    return df[\n",
    "        (df.time > \"2022-12-21 1800\")\n",
    "        &\n",
    "        (df.time < \"2022-12-22 0600\")\n",
    "    ]\n",
    "\n",
    "\n",
    "lhflux_profile_chart(filter_to_case_study(w_h2o__measurements_df.query(\"tower == 'c'\").query(\"height > 1\")), \"All data\") | \\\n",
    "profile_chart(filter_to_case_study(u_h2o__measurements_df.query(\"height > 1\")),  \"All data\",         \"<u'q'> (g/m^2/s)\") | \\\n",
    "profile_chart(filter_to_case_study(w_measurements_df.query(\"height > 1\")), \"All data\", '<w> (m/s)') | \\\n",
    "profile_chart(filter_to_case_study(q_measurements_df.query(\"height > 1\")), \"All data\", '<q> (m/s)') | \\\n",
    "profile_chart(filter_to_case_study(tke_measurements_df.query(\"height > 1\")), \"All data\", 'tke (m^2/s^2)') | \\\n",
    "profile_chart(filter_to_case_study(w_w__measurements_df.query(\"height > 1\")), \"All data\", \"<w'w'> (m^2/s^2)\")\n"
   ]
  },
  {
   "cell_type": "code",
   "execution_count": null,
   "metadata": {},
   "outputs": [],
   "source": [
    "def filter_to_case_study(df):\n",
    "    return df[\n",
    "        (df.time > \"2022-12-12 1800\")\n",
    "        &\n",
    "        (df.time < \"2022-12-13 0600\")\n",
    "    ]\n",
    "\n",
    "\n",
    "lhflux_profile_chart(filter_to_case_study(w_h2o__measurements_df.query(\"tower == 'c'\").query(\"height > 1\")), \"All data\") | \\\n",
    "profile_chart(filter_to_case_study(u_h2o__measurements_df.query(\"height > 1\")),  \"All data\",         \"<u'q'> (g/m^2/s)\") | \\\n",
    "profile_chart(filter_to_case_study(w_measurements_df.query(\"height > 1\")), \"All data\", '<w> (m/s)') | \\\n",
    "profile_chart(filter_to_case_study(q_measurements_df.query(\"height > 1\")), \"All data\", '<q> (m/s)') | \\\n",
    "profile_chart(filter_to_case_study(tke_measurements_df.query(\"height > 1\")), \"All data\", 'tke (m^2/s^2)') | \\\n",
    "profile_chart(filter_to_case_study(w_w__measurements_df.query(\"height > 1\")), \"All data\", \"<w'w'> (m^2/s^2)\")\n"
   ]
  },
  {
   "cell_type": "code",
   "execution_count": null,
   "metadata": {},
   "outputs": [],
   "source": [
    "def filter_to_case_study(df):\n",
    "    return df[\n",
    "        (df.time > \"2023-03-28 0900\")\n",
    "        &\n",
    "        (df.time < \"2023-03-28 1700\")\n",
    "    ]\n",
    "\n",
    "lhflux_profile_chart(filter_to_case_study(w_h2o__measurements_df.query(\"tower == 'c'\").query(\"height > 1\")), \"All data\") | \\\n",
    "profile_chart(filter_to_case_study(u_h2o__measurements_df.query(\"height > 1\")),  \"All data\",         \"<u'q'> (g/m^2/s)\") | \\\n",
    "profile_chart(filter_to_case_study(w_measurements_df.query(\"height > 1\")), \"All data\", '<w> (m/s)') | \\\n",
    "profile_chart(filter_to_case_study(q_measurements_df.query(\"height > 1\")), \"All data\", '<q> (m/s)') | \\\n",
    "profile_chart(filter_to_case_study(tke_measurements_df.query(\"height > 1\")), \"All data\", 'tke (m^2/s^2)') | \\\n",
    "profile_chart(filter_to_case_study(w_w__measurements_df.query(\"height > 1\")), \"All data\", \"<w'w'> (m^2/s^2)\")"
   ]
  },
  {
   "cell_type": "code",
   "execution_count": null,
   "metadata": {},
   "outputs": [],
   "source": [
    "def filter_to_case_study(df):\n",
    "    return df[\n",
    "        (df.time > \"2023-05-05 0900\")\n",
    "        &\n",
    "        (df.time < \"2023-05-05 1700\")\n",
    "    ]\n",
    "\n",
    "\n",
    "lhflux_profile_chart(filter_to_case_study(w_h2o__measurements_df.query(\"tower == 'c'\").query(\"height > 1\")), \"All data\") | \\\n",
    "profile_chart(filter_to_case_study(u_h2o__measurements_df.query(\"height > 1\")),  \"All data\",         \"<u'q'> (g/m^2/s)\") | \\\n",
    "profile_chart(filter_to_case_study(w_measurements_df.query(\"height > 1\")), \"All data\", '<w> (m/s)') | \\\n",
    "profile_chart(filter_to_case_study(q_measurements_df.query(\"height > 1\")), \"All data\", '<q> (m/s)') | \\\n",
    "profile_chart(filter_to_case_study(tke_measurements_df.query(\"height > 1\")), \"All data\", 'tke (m^2/s^2)') | \\\n",
    "profile_chart(filter_to_case_study(w_w__measurements_df.query(\"height > 1\")), \"All data\", \"<w'w'> (m^2/s^2)\")"
   ]
  },
  {
   "cell_type": "markdown",
   "metadata": {},
   "source": [
    "# Plot vertical fluxes many different ways"
   ]
  },
  {
   "cell_type": "code",
   "execution_count": 29,
   "metadata": {},
   "outputs": [],
   "source": [
    "rule = alt.Chart().transform_calculate(rule='0').mark_rule().encode(x='rule:Q')"
   ]
  },
  {
   "cell_type": "code",
   "execution_count": 30,
   "metadata": {},
   "outputs": [],
   "source": [
    "tgrad_unstable_df = w_h2o__measurements_df[w_h2o__measurements_df.time.isin(set(tgrad_unstable_times))]\n",
    "tgrad_stable_df = w_h2o__measurements_df[w_h2o__measurements_df.time.isin(set(tgrad_stable_times))]\n",
    "tgrad_neutral_df = w_h2o__measurements_df[w_h2o__measurements_df.time.isin(set(tgrad_neutral_times))]"
   ]
  },
  {
   "cell_type": "code",
   "execution_count": 32,
   "metadata": {},
   "outputs": [
    {
     "data": {
      "application/vnd.vegalite.v5+json": {
       "$schema": "https://vega.github.io/schema/vega-lite/v5.17.0.json",
       "config": {
        "view": {
         "continuousHeight": 300,
         "continuousWidth": 300
        }
       },
       "datasets": {
        "empty": [
         {}
        ]
       },
       "hconcat": [
        {
         "height": 150,
         "layer": [
          {
           "data": {
            "name": "empty"
           },
           "encoding": {
            "x": {
             "field": "rule",
             "type": "quantitative"
            }
           },
           "mark": {
            "type": "rule"
           },
           "transform": [
            {
             "as": "rule",
             "calculate": "0"
            }
           ]
          },
          {
           "data": {
            "format": {
             "type": "json"
            },
            "url": "altair-data-78a81e8468df572ec8bd11e746267348.json"
           },
           "layer": [
            {
             "encoding": {
              "color": {
               "field": "tower",
               "type": "nominal"
              },
              "x": {
               "field": "low_bound",
               "title": "",
               "type": "quantitative"
              },
              "x2": {
               "field": "up_bound"
              },
              "y": {
               "field": "height",
               "scale": {
                "zero": true
               },
               "title": "height (m)",
               "type": "quantitative"
              }
             },
             "mark": {
              "opacity": 0.25,
              "type": "area"
             },
             "transform": [
              {
               "aggregate": [
                {
                 "as": "mean",
                 "field": "value",
                 "op": "mean"
                }
               ],
               "groupby": [
                "height",
                "tower"
               ]
              },
              {
               "as": "low_bound",
               "calculate": "datum.mean - 0.2*datum.mean"
              },
              {
               "as": "up_bound",
               "calculate": "datum.mean + 0.2*datum.mean"
              }
             ]
            },
            {
             "encoding": {
              "color": {
               "field": "tower",
               "type": "nominal"
              },
              "x": {
               "aggregate": "mean",
               "field": "value",
               "sort": "-y",
               "title": "<w'q'> (g/m^2/s)",
               "type": "quantitative"
              },
              "y": {
               "field": "height",
               "scale": {
                "zero": true
               },
               "title": "height (m)",
               "type": "quantitative"
              }
             },
             "mark": {
              "type": "line"
             },
             "title": [
              "Unstable",
              "(n = 286)"
             ]
            }
           ]
          }
         ],
         "width": 150
        },
        {
         "height": 150,
         "layer": [
          {
           "data": {
            "name": "empty"
           },
           "encoding": {
            "x": {
             "field": "rule",
             "type": "quantitative"
            }
           },
           "mark": {
            "type": "rule"
           },
           "transform": [
            {
             "as": "rule",
             "calculate": "0"
            }
           ]
          },
          {
           "data": {
            "format": {
             "type": "json"
            },
            "url": "altair-data-c5a575a3a6fe8ba288f52f67fcfdb642.json"
           },
           "layer": [
            {
             "encoding": {
              "color": {
               "field": "tower",
               "type": "nominal"
              },
              "x": {
               "field": "low_bound",
               "title": "",
               "type": "quantitative"
              },
              "x2": {
               "field": "up_bound"
              },
              "y": {
               "field": "height",
               "scale": {
                "zero": true
               },
               "title": "height (m)",
               "type": "quantitative"
              }
             },
             "mark": {
              "opacity": 0.25,
              "type": "area"
             },
             "transform": [
              {
               "aggregate": [
                {
                 "as": "mean",
                 "field": "value",
                 "op": "mean"
                }
               ],
               "groupby": [
                "height",
                "tower"
               ]
              },
              {
               "as": "low_bound",
               "calculate": "datum.mean - 0.2*datum.mean"
              },
              {
               "as": "up_bound",
               "calculate": "datum.mean + 0.2*datum.mean"
              }
             ]
            },
            {
             "encoding": {
              "color": {
               "field": "tower",
               "type": "nominal"
              },
              "x": {
               "aggregate": "mean",
               "field": "value",
               "sort": "-y",
               "title": "<w'q'> (g/m^2/s)",
               "type": "quantitative"
              },
              "y": {
               "field": "height",
               "scale": {
                "zero": true
               },
               "title": "height (m)",
               "type": "quantitative"
              }
             },
             "mark": {
              "type": "line"
             },
             "title": [
              "Unstable, BS",
              "(n = 59)"
             ]
            }
           ]
          }
         ],
         "width": 150
        },
        {
         "height": 150,
         "layer": [
          {
           "data": {
            "name": "empty"
           },
           "encoding": {
            "x": {
             "field": "rule",
             "type": "quantitative"
            }
           },
           "mark": {
            "type": "rule"
           },
           "transform": [
            {
             "as": "rule",
             "calculate": "0"
            }
           ]
          },
          {
           "data": {
            "format": {
             "type": "json"
            },
            "url": "altair-data-eea2716aaa6e5b81ea6d4bdbdf43025e.json"
           },
           "layer": [
            {
             "encoding": {
              "color": {
               "field": "tower",
               "type": "nominal"
              },
              "x": {
               "field": "low_bound",
               "title": "",
               "type": "quantitative"
              },
              "x2": {
               "field": "up_bound"
              },
              "y": {
               "field": "height",
               "scale": {
                "zero": true
               },
               "title": "height (m)",
               "type": "quantitative"
              }
             },
             "mark": {
              "opacity": 0.25,
              "type": "area"
             },
             "transform": [
              {
               "aggregate": [
                {
                 "as": "mean",
                 "field": "value",
                 "op": "mean"
                }
               ],
               "groupby": [
                "height",
                "tower"
               ]
              },
              {
               "as": "low_bound",
               "calculate": "datum.mean - 0.2*datum.mean"
              },
              {
               "as": "up_bound",
               "calculate": "datum.mean + 0.2*datum.mean"
              }
             ]
            },
            {
             "encoding": {
              "color": {
               "field": "tower",
               "type": "nominal"
              },
              "x": {
               "aggregate": "mean",
               "field": "value",
               "sort": "-y",
               "title": "<w'q'> (g/m^2/s)",
               "type": "quantitative"
              },
              "y": {
               "field": "height",
               "scale": {
                "zero": true
               },
               "title": "height (m)",
               "type": "quantitative"
              }
             },
             "mark": {
              "type": "line"
             },
             "title": [
              "Unstable, no BS",
              "(n = 227)"
             ]
            }
           ]
          }
         ],
         "width": 150
        }
       ],
       "resolve": {
        "scale": {
         "x": "shared",
         "y": "shared"
        }
       }
      },
      "text/plain": [
       "<VegaLite 5 object>\n",
       "\n",
       "If you see this message, it means the renderer has not been properly enabled\n",
       "for the frontend that you are using. For more information, see\n",
       "https://altair-viz.github.io/user_guide/display_frontends.html#troubleshooting\n"
      ]
     },
     "execution_count": 32,
     "metadata": {},
     "output_type": "execute_result"
    }
   ],
   "source": [
    "tgrad_unstable_df_during_bs = w_h2o__measurements_df[w_h2o__measurements_df.time.isin(set(bs_times).intersection(tgrad_unstable_times))]\n",
    "tgrad_unstable_df_during_nobs = w_h2o__measurements_df[w_h2o__measurements_df.time.isin(set(nobs_times).intersection(tgrad_unstable_times))]\n",
    "\n",
    "(\n",
    "        rule + lhflux_profile_chart(tgrad_unstable_df.query(\"tower == 'c'\").query(\"height > 1\"), \"Unstable\") |\n",
    "        rule + lhflux_profile_chart(tgrad_unstable_df_during_bs.query(\"tower == 'c'\").query(\"height > 1\"), \"Unstable, BS\") |\n",
    "        rule + lhflux_profile_chart(tgrad_unstable_df_during_nobs.query(\"tower == 'c'\").query(\"height > 1\"), \"Unstable, no BS\")\n",
    ").resolve_scale(x='shared', y='shared')"
   ]
  },
  {
   "cell_type": "code",
   "execution_count": 33,
   "metadata": {},
   "outputs": [
    {
     "data": {
      "application/vnd.vegalite.v5+json": {
       "$schema": "https://vega.github.io/schema/vega-lite/v5.17.0.json",
       "config": {
        "view": {
         "continuousHeight": 300,
         "continuousWidth": 300
        }
       },
       "datasets": {
        "empty": [
         {}
        ]
       },
       "hconcat": [
        {
         "height": 100,
         "layer": [
          {
           "data": {
            "name": "empty"
           },
           "encoding": {
            "x": {
             "field": "rule",
             "type": "quantitative"
            }
           },
           "mark": {
            "type": "rule"
           },
           "transform": [
            {
             "as": "rule",
             "calculate": "0"
            }
           ]
          },
          {
           "data": {
            "format": {
             "type": "json"
            },
            "url": "altair-data-2a4816bd7e243541b8549fba155384c2.json"
           },
           "layer": [
            {
             "encoding": {
              "color": {
               "field": "tower",
               "type": "nominal"
              },
              "x": {
               "field": "low_bound",
               "title": "",
               "type": "quantitative"
              },
              "x2": {
               "field": "up_bound"
              },
              "y": {
               "field": "height",
               "scale": {
                "zero": true
               },
               "title": "height (m)",
               "type": "quantitative"
              }
             },
             "mark": {
              "opacity": 0.25,
              "type": "area"
             },
             "transform": [
              {
               "aggregate": [
                {
                 "as": "mean",
                 "field": "value",
                 "op": "mean"
                }
               ],
               "groupby": [
                "height",
                "tower"
               ]
              },
              {
               "as": "low_bound",
               "calculate": "datum.mean - 0.2*datum.mean"
              },
              {
               "as": "up_bound",
               "calculate": "datum.mean + 0.2*datum.mean"
              }
             ]
            },
            {
             "encoding": {
              "color": {
               "field": "tower",
               "type": "nominal"
              },
              "x": {
               "aggregate": "mean",
               "field": "value",
               "sort": "-y",
               "title": "<w'q'> (g/m^2/s)",
               "type": "quantitative"
              },
              "y": {
               "field": "height",
               "scale": {
                "zero": true
               },
               "title": "height (m)",
               "type": "quantitative"
              }
             },
             "mark": {
              "type": "line"
             },
             "title": [
              "All data",
              "(n = 7714)"
             ]
            }
           ]
          }
         ],
         "width": 100
        },
        {
         "height": 100,
         "layer": [
          {
           "data": {
            "name": "empty"
           },
           "encoding": {
            "x": {
             "field": "rule",
             "type": "quantitative"
            }
           },
           "mark": {
            "type": "rule"
           },
           "transform": [
            {
             "as": "rule",
             "calculate": "0"
            }
           ]
          },
          {
           "data": {
            "format": {
             "type": "json"
            },
            "url": "altair-data-7ace7a418e5408b3db7aba21b1e21dd2.json"
           },
           "layer": [
            {
             "encoding": {
              "color": {
               "field": "tower",
               "type": "nominal"
              },
              "x": {
               "field": "low_bound",
               "title": "",
               "type": "quantitative"
              },
              "x2": {
               "field": "up_bound"
              },
              "y": {
               "field": "height",
               "scale": {
                "zero": true
               },
               "title": "height (m)",
               "type": "quantitative"
              }
             },
             "mark": {
              "opacity": 0.25,
              "type": "area"
             },
             "transform": [
              {
               "aggregate": [
                {
                 "as": "mean",
                 "field": "value",
                 "op": "mean"
                }
               ],
               "groupby": [
                "height",
                "tower"
               ]
              },
              {
               "as": "low_bound",
               "calculate": "datum.mean - 0.2*datum.mean"
              },
              {
               "as": "up_bound",
               "calculate": "datum.mean + 0.2*datum.mean"
              }
             ]
            },
            {
             "encoding": {
              "color": {
               "field": "tower",
               "type": "nominal"
              },
              "x": {
               "aggregate": "mean",
               "field": "value",
               "sort": "-y",
               "title": "<w'q'> (g/m^2/s)",
               "type": "quantitative"
              },
              "y": {
               "field": "height",
               "scale": {
                "zero": true
               },
               "title": "height (m)",
               "type": "quantitative"
              }
             },
             "mark": {
              "type": "line"
             },
             "title": [
              "Blowing Snow",
              "(n = 1694)"
             ]
            }
           ]
          }
         ],
         "width": 100
        },
        {
         "height": 100,
         "layer": [
          {
           "data": {
            "name": "empty"
           },
           "encoding": {
            "x": {
             "field": "rule",
             "type": "quantitative"
            }
           },
           "mark": {
            "type": "rule"
           },
           "transform": [
            {
             "as": "rule",
             "calculate": "0"
            }
           ]
          },
          {
           "data": {
            "format": {
             "type": "json"
            },
            "url": "altair-data-1ea14a92dc5ac56ee1089dbc61422d11.json"
           },
           "layer": [
            {
             "encoding": {
              "color": {
               "field": "tower",
               "type": "nominal"
              },
              "x": {
               "field": "low_bound",
               "title": "",
               "type": "quantitative"
              },
              "x2": {
               "field": "up_bound"
              },
              "y": {
               "field": "height",
               "scale": {
                "zero": true
               },
               "title": "height (m)",
               "type": "quantitative"
              }
             },
             "mark": {
              "opacity": 0.25,
              "type": "area"
             },
             "transform": [
              {
               "aggregate": [
                {
                 "as": "mean",
                 "field": "value",
                 "op": "mean"
                }
               ],
               "groupby": [
                "height",
                "tower"
               ]
              },
              {
               "as": "low_bound",
               "calculate": "datum.mean - 0.2*datum.mean"
              },
              {
               "as": "up_bound",
               "calculate": "datum.mean + 0.2*datum.mean"
              }
             ]
            },
            {
             "encoding": {
              "color": {
               "field": "tower",
               "type": "nominal"
              },
              "x": {
               "aggregate": "mean",
               "field": "value",
               "sort": "-y",
               "title": "<w'q'> (g/m^2/s)",
               "type": "quantitative"
              },
              "y": {
               "field": "height",
               "scale": {
                "zero": true
               },
               "title": "height (m)",
               "type": "quantitative"
              }
             },
             "mark": {
              "type": "line"
             },
             "title": [
              "No blowing snow",
              "(n = 5998)"
             ]
            }
           ]
          }
         ],
         "width": 100
        },
        {
         "height": 100,
         "layer": [
          {
           "data": {
            "name": "empty"
           },
           "encoding": {
            "x": {
             "field": "rule",
             "type": "quantitative"
            }
           },
           "mark": {
            "type": "rule"
           },
           "transform": [
            {
             "as": "rule",
             "calculate": "0"
            }
           ]
          },
          {
           "data": {
            "format": {
             "type": "json"
            },
            "url": "altair-data-7186640e2e2666c678d85510d3833733.json"
           },
           "layer": [
            {
             "encoding": {
              "color": {
               "field": "tower",
               "type": "nominal"
              },
              "x": {
               "field": "low_bound",
               "title": "",
               "type": "quantitative"
              },
              "x2": {
               "field": "up_bound"
              },
              "y": {
               "field": "height",
               "scale": {
                "zero": true
               },
               "title": "height (m)",
               "type": "quantitative"
              }
             },
             "mark": {
              "opacity": 0.25,
              "type": "area"
             },
             "transform": [
              {
               "aggregate": [
                {
                 "as": "mean",
                 "field": "value",
                 "op": "mean"
                }
               ],
               "groupby": [
                "height",
                "tower"
               ]
              },
              {
               "as": "low_bound",
               "calculate": "datum.mean - 0.2*datum.mean"
              },
              {
               "as": "up_bound",
               "calculate": "datum.mean + 0.2*datum.mean"
              }
             ]
            },
            {
             "encoding": {
              "color": {
               "field": "tower",
               "type": "nominal"
              },
              "x": {
               "aggregate": "mean",
               "field": "value",
               "sort": "-y",
               "title": "<w'q'> (g/m^2/s)",
               "type": "quantitative"
              },
              "y": {
               "field": "height",
               "scale": {
                "zero": true
               },
               "title": "height (m)",
               "type": "quantitative"
              }
             },
             "mark": {
              "type": "line"
             },
             "title": [
              "Stable, no BS",
              "(n = 5447)"
             ]
            }
           ]
          }
         ],
         "width": 100
        },
        {
         "height": 100,
         "layer": [
          {
           "data": {
            "name": "empty"
           },
           "encoding": {
            "x": {
             "field": "rule",
             "type": "quantitative"
            }
           },
           "mark": {
            "type": "rule"
           },
           "transform": [
            {
             "as": "rule",
             "calculate": "0"
            }
           ]
          },
          {
           "data": {
            "format": {
             "type": "json"
            },
            "url": "altair-data-eea2716aaa6e5b81ea6d4bdbdf43025e.json"
           },
           "layer": [
            {
             "encoding": {
              "color": {
               "field": "tower",
               "type": "nominal"
              },
              "x": {
               "field": "low_bound",
               "title": "",
               "type": "quantitative"
              },
              "x2": {
               "field": "up_bound"
              },
              "y": {
               "field": "height",
               "scale": {
                "zero": true
               },
               "title": "height (m)",
               "type": "quantitative"
              }
             },
             "mark": {
              "opacity": 0.25,
              "type": "area"
             },
             "transform": [
              {
               "aggregate": [
                {
                 "as": "mean",
                 "field": "value",
                 "op": "mean"
                }
               ],
               "groupby": [
                "height",
                "tower"
               ]
              },
              {
               "as": "low_bound",
               "calculate": "datum.mean - 0.2*datum.mean"
              },
              {
               "as": "up_bound",
               "calculate": "datum.mean + 0.2*datum.mean"
              }
             ]
            },
            {
             "encoding": {
              "color": {
               "field": "tower",
               "type": "nominal"
              },
              "x": {
               "aggregate": "mean",
               "field": "value",
               "sort": "-y",
               "title": "<w'q'> (g/m^2/s)",
               "type": "quantitative"
              },
              "y": {
               "field": "height",
               "scale": {
                "zero": true
               },
               "title": "height (m)",
               "type": "quantitative"
              }
             },
             "mark": {
              "type": "line"
             },
             "title": [
              "Unstable, no BS",
              "(n = 227)"
             ]
            }
           ]
          }
         ],
         "width": 100
        },
        {
         "height": 100,
         "layer": [
          {
           "data": {
            "name": "empty"
           },
           "encoding": {
            "x": {
             "field": "rule",
             "type": "quantitative"
            }
           },
           "mark": {
            "type": "rule"
           },
           "transform": [
            {
             "as": "rule",
             "calculate": "0"
            }
           ]
          },
          {
           "data": {
            "format": {
             "type": "json"
            },
            "url": "altair-data-3dcb0f3846140d10bd48897080f1ea5b.json"
           },
           "layer": [
            {
             "encoding": {
              "color": {
               "field": "tower",
               "type": "nominal"
              },
              "x": {
               "field": "low_bound",
               "title": "",
               "type": "quantitative"
              },
              "x2": {
               "field": "up_bound"
              },
              "y": {
               "field": "height",
               "scale": {
                "zero": true
               },
               "title": "height (m)",
               "type": "quantitative"
              }
             },
             "mark": {
              "opacity": 0.25,
              "type": "area"
             },
             "transform": [
              {
               "aggregate": [
                {
                 "as": "mean",
                 "field": "value",
                 "op": "mean"
                }
               ],
               "groupby": [
                "height",
                "tower"
               ]
              },
              {
               "as": "low_bound",
               "calculate": "datum.mean - 0.2*datum.mean"
              },
              {
               "as": "up_bound",
               "calculate": "datum.mean + 0.2*datum.mean"
              }
             ]
            },
            {
             "encoding": {
              "color": {
               "field": "tower",
               "type": "nominal"
              },
              "x": {
               "aggregate": "mean",
               "field": "value",
               "sort": "-y",
               "title": "<w'q'> (g/m^2/s)",
               "type": "quantitative"
              },
              "y": {
               "field": "height",
               "scale": {
                "zero": true
               },
               "title": "height (m)",
               "type": "quantitative"
              }
             },
             "mark": {
              "type": "line"
             },
             "title": [
              "Neutral, no BS",
              "(n = 326)"
             ]
            }
           ]
          }
         ],
         "width": 100
        }
       ],
       "resolve": {
        "scale": {
         "x": "shared",
         "y": "shared"
        }
       }
      },
      "text/plain": [
       "<VegaLite 5 object>\n",
       "\n",
       "If you see this message, it means the renderer has not been properly enabled\n",
       "for the frontend that you are using. For more information, see\n",
       "https://altair-viz.github.io/user_guide/display_frontends.html#troubleshooting\n"
      ]
     },
     "execution_count": 33,
     "metadata": {},
     "output_type": "execute_result"
    }
   ],
   "source": [
    "tgrad_stable_df_during_nobs = tgrad_stable_df[~tgrad_stable_df.time.isin(bs_times)]\n",
    "tgrad_unstable_df_during_nobs = tgrad_unstable_df[~tgrad_unstable_df.time.isin(bs_times)]\n",
    "tgrad_neutral_df_during_nobs = tgrad_neutral_df[~tgrad_neutral_df.time.isin(bs_times)]\n",
    "\n",
    "nobs_lhflux_df = w_h2o__measurements_df[w_h2o__measurements_df.time.isin(nobs_times)]\n",
    "bs_lhflux_df = w_h2o__measurements_df[w_h2o__measurements_df.time.isin(bs_times)]\n",
    "\n",
    "(\n",
    "    rule + lhflux_profile_chart(w_h2o__measurements_df.query(\"height > 1\").query(\"tower == 'c'\"), \"All data\").properties(width=100, height = 100) |\n",
    "    rule + lhflux_profile_chart(\n",
    "        bs_lhflux_df.query(\"height > 1\").query(\"tower == 'c'\"), \"Blowing Snow\"\n",
    "    ).properties(width=100, height = 100) | \n",
    "    rule + lhflux_profile_chart(\n",
    "        nobs_lhflux_df.query(\"height > 1\").query(\"tower == 'c'\"), \"No blowing snow\"\n",
    ").properties(width=100, height = 100) | \n",
    "    rule + lhflux_profile_chart(tgrad_stable_df_during_nobs.query(\"tower == 'c'\").query(\"height > 1\"), \"Stable, no BS\").properties(width=100, height = 100) |\n",
    "    rule + lhflux_profile_chart(tgrad_unstable_df_during_nobs.query(\"tower == 'c'\").query(\"height > 1\"), \"Unstable, no BS\").properties(width=100, height = 100) |\n",
    "    rule + lhflux_profile_chart(tgrad_neutral_df_during_nobs.query(\"tower == 'c'\").query(\"height > 1\"), \"Neutral, no BS\").properties(width=100, height = 100)\n",
    ").resolve_scale(x='shared', y='shared')"
   ]
  },
  {
   "cell_type": "code",
   "execution_count": 52,
   "metadata": {},
   "outputs": [
    {
     "data": {
      "application/vnd.vegalite.v5+json": {
       "$schema": "https://vega.github.io/schema/vega-lite/v5.17.0.json",
       "config": {
        "view": {
         "continuousHeight": 300,
         "continuousWidth": 300
        }
       },
       "resolve": {
        "scale": {
         "color": "shared",
         "x": "shared",
         "y": "shared"
        }
       },
       "vconcat": [
        {
         "data": {
          "format": {
           "type": "json"
          },
          "url": "altair-data-b4b0fdcd4c8bb35e91161bb77677ac05.json"
         },
         "facet": {
          "field": "time",
          "sort": [
           11,
           12
          ],
          "timeUnit": "month",
          "type": "temporal"
         },
         "spec": {
          "height": 150,
          "layer": [
           {
            "encoding": {
             "color": {
              "field": "tower",
              "type": "nominal"
             },
             "x": {
              "field": "low_bound",
              "title": "",
              "type": "quantitative"
             },
             "x2": {
              "field": "up_bound"
             },
             "y": {
              "field": "height",
              "scale": {
               "zero": true
              },
              "title": "height (m)",
              "type": "quantitative"
             }
            },
            "mark": {
             "opacity": 0.25,
             "type": "area"
            },
            "transform": [
             {
              "aggregate": [
               {
                "as": "mean",
                "field": "value",
                "op": "mean"
               }
              ],
              "groupby": [
               "height",
               "tower"
              ]
             },
             {
              "as": "low_bound",
              "calculate": "datum.mean - 0.2*datum.mean"
             },
             {
              "as": "up_bound",
              "calculate": "datum.mean + 0.2*datum.mean"
             }
            ]
           },
           {
            "encoding": {
             "color": {
              "field": "tower",
              "type": "nominal"
             },
             "x": {
              "aggregate": "mean",
              "field": "value",
              "sort": "-y",
              "title": "<w'q'> (mg/m^2/s)",
              "type": "quantitative"
             },
             "y": {
              "field": "height",
              "scale": {
               "zero": true
              },
              "title": "height (m)",
              "type": "quantitative"
             }
            },
            "mark": {
             "point": true,
             "type": "line"
            },
            "title": [
             "No blowing snow, daytime",
             "(n = 2611)"
            ]
           }
          ],
          "width": 150
         },
         "title": "Daytime, no blowing snow"
        },
        {
         "data": {
          "format": {
           "type": "json"
          },
          "url": "altair-data-7427b89ebbd89ba43fd2d476c834de7a.json"
         },
         "facet": {
          "field": "time",
          "sort": [
           11,
           12
          ],
          "timeUnit": "month",
          "type": "temporal"
         },
         "spec": {
          "height": 150,
          "layer": [
           {
            "encoding": {
             "color": {
              "field": "tower",
              "type": "nominal"
             },
             "x": {
              "field": "low_bound",
              "title": "",
              "type": "quantitative"
             },
             "x2": {
              "field": "up_bound"
             },
             "y": {
              "field": "height",
              "scale": {
               "zero": true
              },
              "title": "height (m)",
              "type": "quantitative"
             }
            },
            "mark": {
             "opacity": 0.25,
             "type": "area"
            },
            "transform": [
             {
              "aggregate": [
               {
                "as": "mean",
                "field": "value",
                "op": "mean"
               }
              ],
              "groupby": [
               "height",
               "tower"
              ]
             },
             {
              "as": "low_bound",
              "calculate": "datum.mean - 0.2*datum.mean"
             },
             {
              "as": "up_bound",
              "calculate": "datum.mean + 0.2*datum.mean"
             }
            ]
           },
           {
            "encoding": {
             "color": {
              "field": "tower",
              "type": "nominal"
             },
             "x": {
              "aggregate": "mean",
              "field": "value",
              "sort": "-y",
              "title": "<w'q'> (mg/m^2/s)",
              "type": "quantitative"
             },
             "y": {
              "field": "height",
              "scale": {
               "zero": true
              },
              "title": "height (m)",
              "type": "quantitative"
             }
            },
            "mark": {
             "point": true,
             "type": "line"
            },
            "title": [
             "No blowing snow, daytime",
             "(n = 3387)"
            ]
           }
          ],
          "width": 150
         },
         "title": "Nighttime, no blowing snow"
        }
       ]
      },
      "text/plain": [
       "<VegaLite 5 object>\n",
       "\n",
       "If you see this message, it means the renderer has not been properly enabled\n",
       "for the frontend that you are using. For more information, see\n",
       "https://altair-viz.github.io/user_guide/display_frontends.html#troubleshooting\n"
      ]
     },
     "execution_count": 52,
     "metadata": {},
     "output_type": "execute_result"
    }
   ],
   "source": [
    "(\n",
    "    lhflux_profile_chart_mg(\n",
    "        nobs_lhflux_df[\n",
    "            nobs_lhflux_df.time.dt.hour.isin([8,9,10,11,12,13,14,15,16,17,18])\n",
    "        ].query(\"height > 1\").query(\"tower == 'c'\"), \"No blowing snow, daytime\"\n",
    "    ).facet(alt.Column('month(time)', sort=[11,12])).properties(title='Daytime, no blowing snow') &\\\n",
    "    lhflux_profile_chart_mg(\n",
    "        nobs_lhflux_df[\n",
    "            nobs_lhflux_df.time.dt.hour.isin([19,20,21,22,23,0,1,2,3,4,5,6,7])\n",
    "        ].query(\"height > 1\").query(\"tower == 'c'\"), \"No blowing snow, daytime\"\n",
    "    ).facet(alt.Column('month(time)', sort=[11,12])).properties(title='Nighttime, no blowing snow')\n",
    ").resolve_scale(x='shared', y='shared', color='shared')"
   ]
  },
  {
   "cell_type": "code",
   "execution_count": 34,
   "metadata": {},
   "outputs": [
    {
     "data": {
      "application/vnd.vegalite.v5+json": {
       "$schema": "https://vega.github.io/schema/vega-lite/v5.17.0.json",
       "config": {
        "view": {
         "continuousHeight": 300,
         "continuousWidth": 300
        }
       },
       "datasets": {
        "empty": [
         {}
        ]
       },
       "resolve": {
        "scale": {
         "x": "shared",
         "y": "shared"
        }
       },
       "title": "Mean water vapor flux profiles across snow-on season",
       "vconcat": [
        {
         "hconcat": [
          {
           "height": 100,
           "layer": [
            {
             "data": {
              "name": "empty"
             },
             "encoding": {
              "x": {
               "field": "rule",
               "type": "quantitative"
              }
             },
             "mark": {
              "type": "rule"
             },
             "transform": [
              {
               "as": "rule",
               "calculate": "0"
              }
             ]
            },
            {
             "data": {
              "format": {
               "type": "json"
              },
              "url": "altair-data-b4b0fdcd4c8bb35e91161bb77677ac05.json"
             },
             "layer": [
              {
               "encoding": {
                "color": {
                 "field": "tower",
                 "type": "nominal"
                },
                "x": {
                 "field": "low_bound",
                 "title": "",
                 "type": "quantitative"
                },
                "x2": {
                 "field": "up_bound"
                },
                "y": {
                 "field": "height",
                 "scale": {
                  "zero": true
                 },
                 "title": "height (m)",
                 "type": "quantitative"
                }
               },
               "mark": {
                "opacity": 0.25,
                "type": "area"
               },
               "transform": [
                {
                 "aggregate": [
                  {
                   "as": "mean",
                   "field": "value",
                   "op": "mean"
                  }
                 ],
                 "groupby": [
                  "height",
                  "tower"
                 ]
                },
                {
                 "as": "low_bound",
                 "calculate": "datum.mean - 0.2*datum.mean"
                },
                {
                 "as": "up_bound",
                 "calculate": "datum.mean + 0.2*datum.mean"
                }
               ]
              },
              {
               "encoding": {
                "color": {
                 "field": "tower",
                 "type": "nominal"
                },
                "x": {
                 "aggregate": "mean",
                 "field": "value",
                 "sort": "-y",
                 "title": "<w'q'> (mg/m^2/s)",
                 "type": "quantitative"
                },
                "y": {
                 "field": "height",
                 "scale": {
                  "zero": true
                 },
                 "title": "height (m)",
                 "type": "quantitative"
                }
               },
               "mark": {
                "point": true,
                "type": "line"
               },
               "title": [
                "No blowing snow, daytime",
                "(n = 2611)"
               ]
              }
             ]
            }
           ],
           "width": 100
          },
          {
           "height": 100,
           "layer": [
            {
             "data": {
              "name": "empty"
             },
             "encoding": {
              "x": {
               "field": "rule",
               "type": "quantitative"
              }
             },
             "mark": {
              "type": "rule"
             },
             "transform": [
              {
               "as": "rule",
               "calculate": "0"
              }
             ]
            },
            {
             "data": {
              "format": {
               "type": "json"
              },
              "url": "altair-data-3e15c8de728749c8a8da531f32cc90db.json"
             },
             "layer": [
              {
               "encoding": {
                "color": {
                 "field": "tower",
                 "type": "nominal"
                },
                "x": {
                 "field": "low_bound",
                 "title": "",
                 "type": "quantitative"
                },
                "x2": {
                 "field": "up_bound"
                },
                "y": {
                 "field": "height",
                 "scale": {
                  "zero": true
                 },
                 "title": "height (m)",
                 "type": "quantitative"
                }
               },
               "mark": {
                "opacity": 0.25,
                "type": "area"
               },
               "transform": [
                {
                 "aggregate": [
                  {
                   "as": "mean",
                   "field": "value",
                   "op": "mean"
                  }
                 ],
                 "groupby": [
                  "height",
                  "tower"
                 ]
                },
                {
                 "as": "low_bound",
                 "calculate": "datum.mean - 0.2*datum.mean"
                },
                {
                 "as": "up_bound",
                 "calculate": "datum.mean + 0.2*datum.mean"
                }
               ]
              },
              {
               "encoding": {
                "color": {
                 "field": "tower",
                 "type": "nominal"
                },
                "x": {
                 "aggregate": "mean",
                 "field": "value",
                 "sort": "-y",
                 "title": "<w'q'> (mg/m^2/s)",
                 "type": "quantitative"
                },
                "y": {
                 "field": "height",
                 "scale": {
                  "zero": true
                 },
                 "title": "height (m)",
                 "type": "quantitative"
                }
               },
               "mark": {
                "point": true,
                "type": "line"
               },
               "title": [
                "Blowing Snow, daytime",
                "(n = 923)"
               ]
              }
             ]
            }
           ],
           "width": 100
          }
         ],
         "resolve": {
          "scale": {
           "x": "shared",
           "y": "shared"
          }
         }
        },
        {
         "hconcat": [
          {
           "height": 100,
           "layer": [
            {
             "data": {
              "name": "empty"
             },
             "encoding": {
              "x": {
               "field": "rule",
               "type": "quantitative"
              }
             },
             "mark": {
              "type": "rule"
             },
             "transform": [
              {
               "as": "rule",
               "calculate": "0"
              }
             ]
            },
            {
             "data": {
              "format": {
               "type": "json"
              },
              "url": "altair-data-7427b89ebbd89ba43fd2d476c834de7a.json"
             },
             "layer": [
              {
               "encoding": {
                "color": {
                 "field": "tower",
                 "type": "nominal"
                },
                "x": {
                 "field": "low_bound",
                 "title": "",
                 "type": "quantitative"
                },
                "x2": {
                 "field": "up_bound"
                },
                "y": {
                 "field": "height",
                 "scale": {
                  "zero": true
                 },
                 "title": "height (m)",
                 "type": "quantitative"
                }
               },
               "mark": {
                "opacity": 0.25,
                "type": "area"
               },
               "transform": [
                {
                 "aggregate": [
                  {
                   "as": "mean",
                   "field": "value",
                   "op": "mean"
                  }
                 ],
                 "groupby": [
                  "height",
                  "tower"
                 ]
                },
                {
                 "as": "low_bound",
                 "calculate": "datum.mean - 0.2*datum.mean"
                },
                {
                 "as": "up_bound",
                 "calculate": "datum.mean + 0.2*datum.mean"
                }
               ]
              },
              {
               "encoding": {
                "color": {
                 "field": "tower",
                 "type": "nominal"
                },
                "x": {
                 "aggregate": "mean",
                 "field": "value",
                 "sort": "-y",
                 "title": "<w'q'> (mg/m^2/s)",
                 "type": "quantitative"
                },
                "y": {
                 "field": "height",
                 "scale": {
                  "zero": true
                 },
                 "title": "height (m)",
                 "type": "quantitative"
                }
               },
               "mark": {
                "point": true,
                "type": "line"
               },
               "title": [
                "No blowing snow, nighttime",
                "(n = 3387)"
               ]
              }
             ]
            }
           ],
           "width": 100
          },
          {
           "height": 100,
           "layer": [
            {
             "data": {
              "name": "empty"
             },
             "encoding": {
              "x": {
               "field": "rule",
               "type": "quantitative"
              }
             },
             "mark": {
              "type": "rule"
             },
             "transform": [
              {
               "as": "rule",
               "calculate": "0"
              }
             ]
            },
            {
             "data": {
              "format": {
               "type": "json"
              },
              "url": "altair-data-0259cf4bdfdec545a51a2315db5458f4.json"
             },
             "layer": [
              {
               "encoding": {
                "color": {
                 "field": "tower",
                 "type": "nominal"
                },
                "x": {
                 "field": "low_bound",
                 "title": "",
                 "type": "quantitative"
                },
                "x2": {
                 "field": "up_bound"
                },
                "y": {
                 "field": "height",
                 "scale": {
                  "zero": true
                 },
                 "title": "height (m)",
                 "type": "quantitative"
                }
               },
               "mark": {
                "opacity": 0.25,
                "type": "area"
               },
               "transform": [
                {
                 "aggregate": [
                  {
                   "as": "mean",
                   "field": "value",
                   "op": "mean"
                  }
                 ],
                 "groupby": [
                  "height",
                  "tower"
                 ]
                },
                {
                 "as": "low_bound",
                 "calculate": "datum.mean - 0.2*datum.mean"
                },
                {
                 "as": "up_bound",
                 "calculate": "datum.mean + 0.2*datum.mean"
                }
               ]
              },
              {
               "encoding": {
                "color": {
                 "field": "tower",
                 "type": "nominal"
                },
                "x": {
                 "aggregate": "mean",
                 "field": "value",
                 "sort": "-y",
                 "title": "<w'q'> (mg/m^2/s)",
                 "type": "quantitative"
                },
                "y": {
                 "field": "height",
                 "scale": {
                  "zero": true
                 },
                 "title": "height (m)",
                 "type": "quantitative"
                }
               },
               "mark": {
                "point": true,
                "type": "line"
               },
               "title": [
                "Blowing Snow, nighttime",
                "(n = 771)"
               ]
              }
             ]
            }
           ],
           "width": 100
          }
         ],
         "resolve": {
          "scale": {
           "x": "shared",
           "y": "shared"
          }
         }
        }
       ]
      },
      "text/plain": [
       "<VegaLite 5 object>\n",
       "\n",
       "If you see this message, it means the renderer has not been properly enabled\n",
       "for the frontend that you are using. For more information, see\n",
       "https://altair-viz.github.io/user_guide/display_frontends.html#troubleshooting\n"
      ]
     },
     "execution_count": 34,
     "metadata": {},
     "output_type": "execute_result"
    }
   ],
   "source": [
    "\n",
    "(\n",
    "    (\n",
    "        rule + lhflux_profile_chart_mg(\n",
    "            nobs_lhflux_df[\n",
    "                nobs_lhflux_df.time.dt.hour.isin([8,9,10,11,12,13,14,15,16,17,18])\n",
    "            ].query(\"height > 1\").query(\"tower == 'c'\"), \"No blowing snow, daytime\"\n",
    "        ).properties(width=100, height = 100) \n",
    "        |\n",
    "        rule + lhflux_profile_chart_mg(\n",
    "            bs_lhflux_df[\n",
    "                bs_lhflux_df.time.dt.hour.isin([8,9,10,11,12,13,14,15,16,17,18])\n",
    "            ].query(\"height > 1\").query(\"tower == 'c'\"), \"Blowing Snow, daytime\"\n",
    "        ).properties(width=100, height = 100)\n",
    "    ).resolve_scale(x='shared', y='shared') & (\n",
    "        rule + lhflux_profile_chart_mg(\n",
    "            nobs_lhflux_df[\n",
    "                nobs_lhflux_df.time.dt.hour.isin([19,20,21,22,23,0,1,2,3,4,5,6,7])\n",
    "            ].query(\"height > 1\").query(\"tower == 'c'\"), \"No blowing snow, nighttime\"\n",
    "        ).properties(width=100, height = 100) \n",
    "        |\n",
    "        rule + lhflux_profile_chart_mg(\n",
    "            bs_lhflux_df[\n",
    "                bs_lhflux_df.time.dt.hour.isin([19,20,21,22,23,0,1,2,3,4,5,6,7])\n",
    "            ].query(\"height > 1\").query(\"tower == 'c'\"), \"Blowing Snow, nighttime\"\n",
    "        ).properties(width=100, height = 100)\n",
    "    ).resolve_scale(x='shared', y='shared')\n",
    ").resolve_scale(x='shared', y='shared').properties(\n",
    "    title='Mean water vapor flux profiles across snow-on season'\n",
    ")"
   ]
  },
  {
   "cell_type": "code",
   "execution_count": null,
   "metadata": {},
   "outputs": [],
   "source": []
  },
  {
   "cell_type": "code",
   "execution_count": null,
   "metadata": {},
   "outputs": [],
   "source": [
    "tgrad_stable_df['conditions'] = tgrad_stable_df.time.isin(bs_times).apply(lambda is_bs: 'BS' if is_bs else 'No BS')\n",
    "tgrad_neutral_df['conditions'] = tgrad_neutral_df.time.isin(bs_times).apply(lambda is_bs: 'BS' if is_bs else 'No BS')\n",
    "tgrad_unstable_df['conditions'] = tgrad_unstable_df.time.isin(bs_times).apply(lambda is_bs: 'BS' if is_bs else 'No BS')\n",
    "\n",
    "vertical_flux_profiles_4_plots = (\n",
    "    lhflux_profile_chart_notower(w_h2o__measurements_df.query(\"tower == 'c'\").query(\"height > 1\"), \"All data\") |\n",
    "    lhflux_profile_chart_split_conditions(tgrad_stable_df.query(\"tower == 'c'\").query(\"height > 1\"), \"Stable\") |\n",
    "    lhflux_profile_chart_split_conditions(tgrad_neutral_df.query(\"tower == 'c'\").query(\"height > 1\"), \"Neutral\") |\n",
    "    lhflux_profile_chart_split_conditions(tgrad_unstable_df.query(\"tower == 'c'\").query(\"height > 1\"), \"Unstable\")\n",
    ").resolve_scale(x='shared', y='shared') \n",
    "vertical_flux_profiles_4_plots"
   ]
  },
  {
   "cell_type": "code",
   "execution_count": 27,
   "metadata": {},
   "outputs": [
    {
     "ename": "NameError",
     "evalue": "name 'tgrad_stable_df' is not defined",
     "output_type": "error",
     "traceback": [
      "\u001b[0;31m---------------------------------------------------------------------------\u001b[0m",
      "\u001b[0;31mNameError\u001b[0m                                 Traceback (most recent call last)",
      "Cell \u001b[0;32mIn[27], line 1\u001b[0m\n\u001b[0;32m----> 1\u001b[0m tgrad_stable_df_day \u001b[38;5;241m=\u001b[39m \u001b[43mtgrad_stable_df\u001b[49m[tgrad_stable_df\u001b[38;5;241m.\u001b[39mtime\u001b[38;5;241m.\u001b[39mdt\u001b[38;5;241m.\u001b[39mhour\u001b[38;5;241m.\u001b[39misin([\u001b[38;5;241m9\u001b[39m,\u001b[38;5;241m10\u001b[39m,\u001b[38;5;241m11\u001b[39m,\u001b[38;5;241m12\u001b[39m,\u001b[38;5;241m13\u001b[39m,\u001b[38;5;241m14\u001b[39m,\u001b[38;5;241m15\u001b[39m,\u001b[38;5;241m16\u001b[39m,\u001b[38;5;241m17\u001b[39m])]\n\u001b[1;32m      2\u001b[0m tgrad_neutral_df_day \u001b[38;5;241m=\u001b[39m tgrad_neutral_df[tgrad_neutral_df\u001b[38;5;241m.\u001b[39mtime\u001b[38;5;241m.\u001b[39mdt\u001b[38;5;241m.\u001b[39mhour\u001b[38;5;241m.\u001b[39misin([\u001b[38;5;241m9\u001b[39m,\u001b[38;5;241m10\u001b[39m,\u001b[38;5;241m11\u001b[39m,\u001b[38;5;241m12\u001b[39m,\u001b[38;5;241m13\u001b[39m,\u001b[38;5;241m14\u001b[39m,\u001b[38;5;241m15\u001b[39m,\u001b[38;5;241m16\u001b[39m,\u001b[38;5;241m17\u001b[39m])]\n\u001b[1;32m      3\u001b[0m tgrad_unstable_df_day \u001b[38;5;241m=\u001b[39m tgrad_unstable_df[tgrad_unstable_df\u001b[38;5;241m.\u001b[39mtime\u001b[38;5;241m.\u001b[39mdt\u001b[38;5;241m.\u001b[39mhour\u001b[38;5;241m.\u001b[39misin([\u001b[38;5;241m9\u001b[39m,\u001b[38;5;241m10\u001b[39m,\u001b[38;5;241m11\u001b[39m,\u001b[38;5;241m12\u001b[39m,\u001b[38;5;241m13\u001b[39m,\u001b[38;5;241m14\u001b[39m,\u001b[38;5;241m15\u001b[39m,\u001b[38;5;241m16\u001b[39m,\u001b[38;5;241m17\u001b[39m])]\n",
      "\u001b[0;31mNameError\u001b[0m: name 'tgrad_stable_df' is not defined"
     ]
    }
   ],
   "source": [
    "tgrad_stable_df_day = tgrad_stable_df[tgrad_stable_df.time.dt.hour.isin([9,10,11,12,13,14,15,16,17])]\n",
    "tgrad_neutral_df_day = tgrad_neutral_df[tgrad_neutral_df.time.dt.hour.isin([9,10,11,12,13,14,15,16,17])]\n",
    "tgrad_unstable_df_day = tgrad_unstable_df[tgrad_unstable_df.time.dt.hour.isin([9,10,11,12,13,14,15,16,17])]\n",
    "\n",
    "tgrad_stable_df_night = tgrad_stable_df[tgrad_stable_df.time.dt.hour.isin([19,20,21,21,23,0,1,2,3,4,5,6])]\n",
    "tgrad_neutral_df_night = tgrad_neutral_df[tgrad_neutral_df.time.dt.hour.isin([19,20,21,21,23,0,1,2,3,4,5,6])]\n",
    "tgrad_unstable_df_night = tgrad_unstable_df[tgrad_unstable_df.time.dt.hour.isin([19,20,21,21,23,0,1,2,3,4,5,6])]\n",
    "\n",
    "vertical_flux_profiles_4_plots_day = (\n",
    "    lhflux_profile_chart_notower(\n",
    "        w_h2o__measurements_df[\n",
    "            w_h2o__measurements_df.time.dt.hour.isin([9,10,11,12,13,14,15,16,17])\n",
    "        ].query(\"tower == 'c'\").query(\"height > 1\"), \"All data (Daytime)\") |\n",
    "    lhflux_profile_chart_split_conditions(tgrad_stable_df_day.query(\"tower == 'c'\").query(\"height > 1\"), \"Stable (Daytime)\") |\n",
    "    lhflux_profile_chart_split_conditions(tgrad_neutral_df_day.query(\"tower == 'c'\").query(\"height > 1\"), \"Neutral (Daytime)\") |\n",
    "    lhflux_profile_chart_split_conditions(tgrad_unstable_df_day.query(\"tower == 'c'\").query(\"height > 1\"), \"Unstable (Daytime)\")\n",
    ").resolve_scale(x='shared', y='shared') \n",
    "\n",
    "vertical_flux_profiles_4_plots_night = (\n",
    "    lhflux_profile_chart_notower(\n",
    "        w_h2o__measurements_df[\n",
    "            w_h2o__measurements_df.time.dt.hour.isin([19,20,21,21,23,0,1,2,3,4,5,6])\n",
    "        ].query(\"tower == 'c'\").query(\"height > 1\"), \"All data (Nighttime)\") |\n",
    "    lhflux_profile_chart_split_conditions(tgrad_stable_df_night.query(\"tower == 'c'\").query(\"height > 1\"), \"Stable (Nighttime)\") |\n",
    "    lhflux_profile_chart_split_conditions(tgrad_neutral_df_night.query(\"tower == 'c'\").query(\"height > 1\"), \"Neutral (Nighttime)\")\n",
    "    # lhflux_profile_chart_split_conditions(tgrad_unstable_df_night.query(\"tower == 'c'\").query(\"height > 1\"), \"Unstable (Nighttime)\")\n",
    ").resolve_scale(x='shared', y='shared') \n",
    "(\n",
    "    vertical_flux_profiles_4_plots_day &\n",
    "    vertical_flux_profiles_4_plots_night\n",
    ")#.resolve_scale(x='shared', y='shared') "
   ]
  },
  {
   "cell_type": "markdown",
   "metadata": {},
   "source": [
    "HELLO YOU ARE WORKING HERE"
   ]
  },
  {
   "cell_type": "code",
   "execution_count": null,
   "metadata": {},
   "outputs": [],
   "source": [
    "src_neutral = tgrad_neutral_df.query(\"tower == 'c'\").query(\"height > 1\").query(\"conditions == 'No BS'\")\n",
    "src_neutral.conditions = src_neutral.time.dt.hour\n",
    "src_neutral['conditions group'] = pd.cut(src_neutral.conditions, np.concatenate([[-0.5], np.linspace(2,24,12) + 0.5]))\n",
    "src_neutral['conditions'] = src_neutral['conditions group'].apply(lambda interval: int(interval.left))\n",
    "\n",
    "src_unstable = tgrad_unstable_df.query(\"tower == 'c'\").query(\"height > 1\").query(\"conditions == 'No BS'\")\n",
    "src_unstable.conditions = src_unstable.time.dt.hour\n",
    "src_unstable['conditions group'] = pd.cut(src_unstable.conditions, np.concatenate([[-0.5], np.linspace(2,24,12) + 0.5]))\n",
    "src_unstable['conditions'] = src_unstable['conditions group'].apply(lambda interval: int(interval.left))"
   ]
  },
  {
   "cell_type": "code",
   "execution_count": null,
   "metadata": {},
   "outputs": [],
   "source": [
    "(\n",
    "    lhflux_profile_chart_split_conditions_noerror(src_neutral, \"Neutral, No BS\", color_encoding=alt.Color(f\"conditions:O\").scale(scheme='rainbow')) |\n",
    "    lhflux_profile_chart_split_conditions_noerror(src_unstable, \"Unstable, No BS\", color_encoding=alt.Color(f\"conditions:O\").scale(scheme='rainbow')) |\n",
    "    lhflux_profile_chart_split_conditions_noerror(pd.concat([src_neutral, src_unstable]), \"Neutral and Unstable, No BS\", color_encoding=alt.Color(f\"conditions:O\").scale(scheme='rainbow'))\n",
    ")"
   ]
  },
  {
   "cell_type": "code",
   "execution_count": null,
   "metadata": {},
   "outputs": [],
   "source": [
    "(\n",
    "    lhflux_profile_chart_split_conditions_noerror(src_neutral, \"Neutral, No BS\", color_encoding=alt.Facet(f\"conditions:O\", columns=6)) &\n",
    "    lhflux_profile_chart_split_conditions_noerror(src_unstable, \"Unstable, No BS\", color_encoding=alt.Facet(f\"conditions:O\", columns=6)) &\n",
    "    lhflux_profile_chart_split_conditions_noerror(pd.concat([src_neutral, src_unstable]), \"Neutral and Unstable, No BS\", color_encoding=alt.Facet(f\"conditions:O\"))\n",
    ")"
   ]
  },
  {
   "cell_type": "code",
   "execution_count": null,
   "metadata": {},
   "outputs": [],
   "source": [
    "lateral_flux_profiles_4_plots = (\n",
    "    (\n",
    "        lhflux_profile_chart_notower(u_h2o__df_with_bs_indicator.query(\"tower == 'c'\").query(\"height > 1\"), \"All data\", x_title=\"<u'q'> (g/m^2/s)\") |\n",
    "        lhflux_profile_chart_split_conditions(u_h2o__tgrad_stable_df_with_bs_indicator.query(\"tower == 'c'\").query(\"height > 1\"), \"Stable\", x_title=\"<u'q'> (g/m^2/s)\") |\n",
    "        lhflux_profile_chart_split_conditions(u_h2o__tgrad_neutral_df_with_bs_indicator.query(\"tower == 'c'\").query(\"height > 1\"), \"Neutral\", x_title=\"<u'q'> (g/m^2/s)\") |\n",
    "        lhflux_profile_chart_split_conditions(u_h2o__tgrad_unstable_df_with_bs_indicator.query(\"tower == 'c'\").query(\"height > 1\"), \"Unstable\", x_title=\"<u'q'> (g/m^2/s)\")\n",
    "    ) & (\n",
    "        lhflux_profile_chart_notower(v_h2o__df_with_bs_indicator.query(\"tower == 'c'\").query(\"height > 1\"), \"All data\", x_title=\"<v'q'> (g/m^2/s)\") |\n",
    "        lhflux_profile_chart_split_conditions(v_h2o__tgrad_stable_df_with_bs_indicator.query(\"tower == 'c'\").query(\"height > 1\"), \"Stable\", x_title=\"<v'q'> (g/m^2/s)\") |\n",
    "        lhflux_profile_chart_split_conditions(v_h2o__tgrad_neutral_df_with_bs_indicator.query(\"tower == 'c'\").query(\"height > 1\"), \"Neutral\", x_title=\"<v'q'> (g/m^2/s)\") |\n",
    "        lhflux_profile_chart_split_conditions(v_h2o__tgrad_unstable_df_with_bs_indicator.query(\"tower == 'c'\").query(\"height > 1\"), \"Unstable\", x_title=\"<v'q'> (g/m^2/s)\")\n",
    "    )\n",
    ").resolve_scale(x='shared', y='shared') \n",
    "lateral_flux_profiles_4_plots"
   ]
  },
  {
   "cell_type": "code",
   "execution_count": null,
   "metadata": {},
   "outputs": [],
   "source": [
    "vertical_and_lateral_flux_profiles = (\n",
    "    vertical_flux_profiles_4_plots & lateral_flux_profiles_4_plots\n",
    ")\n",
    "# vertical_and_lateral_flux_profiles.save(\"../../figures/lhflux_profiles_vertical_and_lateral_mean.png\", ppi=200)\n",
    "vertical_and_lateral_flux_profiles"
   ]
  },
  {
   "cell_type": "code",
   "execution_count": null,
   "metadata": {},
   "outputs": [],
   "source": [
    "src_all_data_bs = u_h2o__df_with_bs_indicator.query(\"conditions == 'BS'\").query(\"height > 1\")\n",
    "src_stable_bs = u_h2o__tgrad_stable_df_with_bs_indicator.query(\"conditions == 'BS'\").query(\"height > 1\")\n",
    "src_neutral_bs = u_h2o__tgrad_neutral_df_with_bs_indicator.query(\"conditions == 'BS'\").query(\"height > 1\")\n",
    "src_unstable_bs = u_h2o__tgrad_unstable_df_with_bs_indicator.query(\"conditions == 'BS'\").query(\"height > 1\")\n",
    "\n",
    "src_all_data_nobs = u_h2o__df_with_bs_indicator.query(\"conditions == 'No BS'\").query(\"height > 1\")\n",
    "src_stable_nobs = u_h2o__tgrad_stable_df_with_bs_indicator.query(\"conditions == 'No BS'\").query(\"height > 1\")\n",
    "src_neutral_nobs = u_h2o__tgrad_neutral_df_with_bs_indicator.query(\"conditions == 'No BS'\").query(\"height > 1\")\n",
    "src_unstable_nobs = u_h2o__tgrad_unstable_df_with_bs_indicator.query(\"conditions == 'No BS'\").query(\"height > 1\")\n",
    "\n",
    "(\n",
    "    (\n",
    "        profile_chart(src_all_data_bs,    \"All data, BS\",   \"<u'q'> (g/m^2/s)\",     'tower:N') |\n",
    "        profile_chart(src_stable_bs,      \"Stable, BS\",     \"<u'q'> (g/m^2/s)\",     'tower:N') |\n",
    "        profile_chart(src_neutral_bs,     \"Neutral, BS\",    \"<u'q'> (g/m^2/s)\",     'tower:N') |\n",
    "        profile_chart(src_unstable_bs,    \"Unstable, BS\",   \"<u'q'> (g/m^2/s)\",     'tower:N')\n",
    "    ).resolve_scale(x='shared', y='shared') & (\n",
    "        profile_chart(src_all_data_nobs,    \"All data, No BS\",  \"<u'q'> (g/m^2/s)\", 'tower:N') |\n",
    "        profile_chart(src_stable_nobs,      \"Stable, No BS\",    \"<u'q'> (g/m^2/s)\", 'tower:N') |\n",
    "        profile_chart(src_neutral_nobs,     \"Neutral, No BS\",   \"<u'q'> (g/m^2/s)\", 'tower:N') |\n",
    "        profile_chart(src_unstable_nobs,    \"Unstable, No BS\",  \"<u'q'> (g/m^2/s)\", 'tower:N')\n",
    "    ).resolve_scale(x='shared', y='shared')\n",
    ").resolve_scale(x='shared', y='shared')"
   ]
  },
  {
   "cell_type": "code",
   "execution_count": null,
   "metadata": {},
   "outputs": [],
   "source": [
    "daytime_df = w_h2o__measurements_df[w_h2o__measurements_df.time.dt.hour.isin([10,11,12,13,14,15,16])]\n",
    "daytime_df['date'] = daytime_df.time.dt.strftime('%Y%m%d')\n",
    "daytime_df['month'] = daytime_df.time.dt.month\n",
    "daytime_daily_mean_profiles_df = daytime_df.groupby(['date', 'month', 'variable', 'height', 'tower'])[['value']].mean().reset_index()\n",
    "\n",
    "alt.Chart(\n",
    "    daytime_daily_mean_profiles_df.query(\"month == 12\").query(\"height > 2\")\n",
    ").mark_line(point=True).encode(\n",
    "    alt.X(\"mean(value):Q\").sort('-y'),\n",
    "    alt.Y(\"height\"),\n",
    "    alt.Color(\"tower:N\"),\n",
    "    alt.Facet(\"month:N\")\n",
    ").properties(width=80, height = 80) | alt.Chart(\n",
    "    daytime_daily_mean_profiles_df.query(\"month == 1\").query(\"height > 2\")\n",
    ").mark_line(point=True).encode(\n",
    "    alt.X(\"mean(value):Q\").sort('-y'),\n",
    "    alt.Y(\"height\"),\n",
    "    alt.Color(\"tower:N\"),\n",
    "    alt.Facet(\"month:N\")\n",
    ").properties(width=80, height = 80) | alt.Chart(\n",
    "    daytime_daily_mean_profiles_df.query(\"month == 2\").query(\"height > 2\")\n",
    ").mark_line(point=True).encode(\n",
    "    alt.X(\"mean(value):Q\").sort('-y'),\n",
    "    alt.Y(\"height\"),\n",
    "    alt.Color(\"tower:N\"),\n",
    "    alt.Facet(\"month:N\")\n",
    ").properties(width=80, height = 80) | alt.Chart(\n",
    "    daytime_daily_mean_profiles_df.query(\"month == 3\").query(\"height > 2\")\n",
    ").mark_line(point=True).encode(\n",
    "    alt.X(\"mean(value):Q\").sort('-y'),\n",
    "    alt.Y(\"height\"),\n",
    "    alt.Color(\"tower:N\"),\n",
    "    alt.Facet(\"month:N\")\n",
    ").properties(width=80, height = 80) | alt.Chart(\n",
    "    daytime_daily_mean_profiles_df.query(\"month == 4\").query(\"height > 2\")\n",
    ").mark_line(point=True).encode(\n",
    "    alt.X(\"mean(value):Q\").sort('-y'),\n",
    "    alt.Y(\"height\"),\n",
    "    alt.Color(\"tower:N\"),\n",
    "    alt.Facet(\"month:N\")\n",
    ").properties(width=80, height = 80) | alt.Chart(\n",
    "    daytime_daily_mean_profiles_df.query(\"month == 5\").query(\"height > 2\")\n",
    ").mark_line(point=True).encode(\n",
    "    alt.X(\"mean(value):Q\").sort('-y'),\n",
    "    alt.Y(\"height\"),\n",
    "    alt.Color(\"tower:N\"),\n",
    "    alt.Facet(\"month:N\")\n",
    ").properties(width=80, height = 80)"
   ]
  },
  {
   "cell_type": "markdown",
   "metadata": {},
   "source": [
    "# Examine how divergence varies with instrument distance from snow surface"
   ]
  },
  {
   "cell_type": "code",
   "execution_count": null,
   "metadata": {},
   "outputs": [],
   "source": [
    "div_variation = tidy_df[tidy_df.variable.isin([\n",
    "    # 'w_h2o__1m_c',\n",
    "    'w_h2o__2m_c',\n",
    "    'w_h2o__3m_c',\n",
    "    'w_h2o__5m_c',\n",
    "    'w_h2o__10m_c',\n",
    "    'w_h2o__15m_c',\n",
    "    'w_h2o__20m_c',\n",
    "    'SnowDepth_c',\n",
    "])].pivot(index='time', columns='variable', values='value').reset_index()\n",
    "div_variation['height_adj'] = 2 - div_variation['SnowDepth_c']\n",
    "\n",
    "div_variation['lhflux_div_2_3'] = (div_variation['w_h2o__3m_c'] - div_variation['w_h2o__2m_c']) / 1\n",
    "div_variation['lhflux_div_3_5'] = (div_variation['w_h2o__5m_c'] - div_variation['w_h2o__3m_c']) / 2\n",
    "div_variation['lhflux_div_5_10'] = (div_variation['w_h2o__10m_c'] - div_variation['w_h2o__5m_c']) / 5"
   ]
  },
  {
   "cell_type": "code",
   "execution_count": null,
   "metadata": {},
   "outputs": [],
   "source": [
    "chart_2_3 = alt.Chart(div_variation).transform_filter(\n",
    "    alt.datum.lhflux_div_2_3 <= 1\n",
    ").transform_filter(\n",
    "    alt.datum.lhflux_div_2_3 >= -1\n",
    ").mark_boxplot(outliers=False).encode(\n",
    "    alt.X(\"SnowDepth_c:Q\").bin(True).title(\"Snow Depth (m)\"),\n",
    "    alt.Y(\"lhflux_div_2_3:Q\").title(\"d(w'q')/dz, 2-3m\")\n",
    ") + alt.Chart().transform_calculate(y = '0').mark_rule(strokeWidth=2).encode(y='y:Q').properties(width=200, height=200)\n",
    "\n",
    "chart_3_5 = alt.Chart(div_variation).transform_filter(\n",
    "    alt.datum.lhflux_div_3_5 <= 1\n",
    ").transform_filter(\n",
    "    alt.datum.lhflux_div_3_5 >= -1\n",
    ").mark_boxplot(outliers=False).encode(\n",
    "    alt.X(\"SnowDepth_c:Q\").bin(True).title(\"Snow Depth (m)\"),\n",
    "    alt.Y(\"lhflux_div_3_5:Q\").title(\"d(w'q')/dz, 3-5m\")\n",
    ")+ alt.Chart().transform_calculate(y = '0').mark_rule(strokeWidth=2).encode(y='y:Q').properties(width=200, height=200)\n",
    "\n",
    "chart_5_10 = alt.Chart(div_variation).transform_filter(\n",
    "    alt.datum.lhflux_div_5_10 <= 1\n",
    ").transform_filter(\n",
    "    alt.datum.lhflux_div_5_10 >= -1\n",
    ").mark_boxplot(outliers=False).encode(\n",
    "    alt.X(\"SnowDepth_c:Q\").bin(True).title(\"Snow Depth (m)\"),\n",
    "    alt.Y(\"lhflux_div_5_10:Q\").title((\"d(w'q')/dz, 5-10m\"))\n",
    ")+ alt.Chart().transform_calculate(y = '0').mark_rule(strokeWidth=2).encode(y='y:Q').properties(width=200, height=200)\n",
    "\n",
    "(chart_2_3 & chart_3_5 & chart_5_10).display(renderer='svg')"
   ]
  },
  {
   "cell_type": "code",
   "execution_count": null,
   "metadata": {},
   "outputs": [],
   "source": [
    "import scipy.stats\n",
    "scipy.stats.ks_2samp"
   ]
  },
  {
   "cell_type": "code",
   "execution_count": null,
   "metadata": {},
   "outputs": [],
   "source": [
    "snow_is_deep = div_variation[['lhflux_div_2_3', 'SnowDepth_c']].query(\"SnowDepth_c > 1.2\")\n",
    "snow_is_not_deep = div_variation[['lhflux_div_2_3', 'SnowDepth_c']].query(\"SnowDepth_c <= 1.2\")\n",
    "\n",
    "scipy.stats.ks_2samp(snow_is_deep, snow_is_not_deep)"
   ]
  },
  {
   "cell_type": "code",
   "execution_count": null,
   "metadata": {},
   "outputs": [],
   "source": [
    "snow_is_deep = div_variation[['lhflux_div_3_5', 'SnowDepth_c']].query(\"SnowDepth_c > 1.2\")\n",
    "snow_is_not_deep = div_variation[['lhflux_div_3_5', 'SnowDepth_c']].query(\"SnowDepth_c <= 1.2\")\n",
    "\n",
    "scipy.stats.ks_2samp(snow_is_deep, snow_is_not_deep)"
   ]
  },
  {
   "cell_type": "markdown",
   "metadata": {},
   "source": [
    "# December wind event case study"
   ]
  },
  {
   "cell_type": "markdown",
   "metadata": {},
   "source": [
    "## Plot Vertical Profiles"
   ]
  },
  {
   "cell_type": "markdown",
   "metadata": {},
   "source": [
    "Sensible heat"
   ]
  },
  {
   "cell_type": "code",
   "execution_count": null,
   "metadata": {},
   "outputs": [],
   "source": [
    "src = tidy_df[tidy_df.variable.isin([\n",
    "    'w_tc__1m_c', 'w_tc__2m_c', 'w_tc__3m_c', 'w_tc__5m_c', 'w_tc__10m_c', 'w_tc__15m_c', 'w_tc__20m_c',\n",
    "    'w_tc__1m_ue',  'w_tc__1m_uw',  'w_tc__1m_d',\n",
    "    'w_tc__3m_ue',  'w_tc__3m_uw',  'w_tc__3m_d',\n",
    "    'w_tc__10m_ue', 'w_tc__10m_uw', 'w_tc__10m_d',\n",
    "])]\n",
    "# Tower uw was buried during this event, so lets not look at that data\n",
    "src = src.query(\"tower != 'uw'\")\n",
    "w_tc_prof_timeseries_chart = alt.Chart(\n",
    "    src[\n",
    "        src.time.dt.minute == 0\n",
    "    ].set_index('time').loc[\n",
    "        \"2022-12-21 12\": \"2022-12-21 23\"\n",
    "    ].reset_index()\n",
    ").mark_line(point=True).encode(\n",
    "        alt.X(\"mean(value):Q\").sort('-y').title(\"w'tc'\"), #.scale(domain=[-0.25,0], clamp=True),\n",
    "        alt.Y(\"height:Q\"),\n",
    "        alt.Color(\"tower:N\"),\n",
    "        # alt.Color(\"hours(time):O\"),\n",
    "        alt.Facet(\"time:T\").header(labelFontSize=0).title(None),\n",
    "    ).properties(width=75,height=75)"
   ]
  },
  {
   "cell_type": "markdown",
   "metadata": {},
   "source": [
    "Potential temperature"
   ]
  },
  {
   "cell_type": "code",
   "execution_count": null,
   "metadata": {},
   "outputs": [],
   "source": [
    "src = tidy_df[tidy_df.measurement.isin([\n",
    "    'surface potential temperature',\n",
    "    'potential temperature'\n",
    "])].query(\"tower == 'c'\")\n",
    "theta_prof_timeseries_chart = alt.Chart(\n",
    "    src[\n",
    "        src.time.dt.minute == 0\n",
    "    ].set_index('time').loc[\n",
    "        \"2022-12-21 12\": \"2022-12-21 23\"\n",
    "    ].reset_index()\n",
    ").mark_line(point=True).encode(\n",
    "        alt.X(\"mean(value):Q\").sort('-y').title(\"theta\").scale(zero=False),\n",
    "        alt.Y(\"height:Q\"),\n",
    "        # alt.Color(\"hours(time):O\"),\n",
    "        alt.Facet(\"time:T\").header(labelFontSize=0).title(None),\n",
    "        tooltip='height:Q'\n",
    "    ).properties(width=75,height=75)"
   ]
  },
  {
   "cell_type": "markdown",
   "metadata": {},
   "source": [
    "Temperature"
   ]
  },
  {
   "cell_type": "code",
   "execution_count": null,
   "metadata": {},
   "outputs": [],
   "source": [
    "src = tidy_df[tidy_df.measurement.isin([\n",
    "    'surface temperature',\n",
    "    'temperature'\n",
    "])].query(\"tower == 'c'\")\n",
    "T_prof_timeseries_chart = alt.Chart(\n",
    "    src[\n",
    "        src.time.dt.minute == 0\n",
    "    ].set_index('time').loc[\n",
    "        \"2022-12-21 12\": \"2022-12-21 23\"\n",
    "    ].reset_index()\n",
    ").mark_line(point=True).encode(\n",
    "        alt.X(\"mean(value):Q\").sort('-y').title(\"theta\").scale(zero=False),\n",
    "        alt.Y(\"height:Q\"),\n",
    "        # alt.Color(\"hours(time):O\"),\n",
    "        alt.Facet(\"time:T\").header(labelFontSize=0).title(None),\n",
    "        tooltip='height:Q'\n",
    "    ).properties(width=75,height=75)\n",
    "T_prof_timeseries_chart"
   ]
  },
  {
   "cell_type": "markdown",
   "metadata": {},
   "source": [
    "lh flux "
   ]
  },
  {
   "cell_type": "code",
   "execution_count": null,
   "metadata": {},
   "outputs": [],
   "source": [
    "src = tidy_df[tidy_df.variable.isin([\n",
    "    'w_h2o__1m_c', 'w_h2o__2m_c', 'w_h2o__3m_c', 'w_h2o__5m_c', 'w_h2o__10m_c', 'w_h2o__15m_c', 'w_h2o__20m_c',\n",
    "    'w_h2o__1m_ue',  'w_h2o__1m_uw',  'w_h2o__1m_d',\n",
    "    'w_h2o__3m_ue',  'w_h2o__3m_uw',  'w_h2o__3m_d',\n",
    "    'w_h2o__10m_ue', 'w_h2o__10m_uw', 'w_h2o__10m_d',\n",
    "])]\n",
    "# Tower uw was buried during this event, so lets not look at that data\n",
    "src = src.query(\"tower != 'uw'\")\n",
    "w_q_prof_timeseries_chart = alt.Chart(\n",
    "    src[\n",
    "        src.time.dt.minute == 0\n",
    "    ].set_index('time').loc[\n",
    "        \"2022-12-21 12\": \"2022-12-21 23\"\n",
    "    ].reset_index()\n",
    ").mark_line(point=True).encode(\n",
    "        alt.X(\"mean(value):Q\").sort('-y').scale(domain=[0, 0.05], clamp=True).title(\"w'q'\"),\n",
    "        alt.Y(\"height:Q\"),\n",
    "        alt.Color(\"tower:N\"),\n",
    "        # alt.Color(\"hours(time):O\"),\n",
    "        alt.Facet(\"time:T\").header(format=\"%m/%d %H:%M\")\n",
    "    ).properties(width=75,height=75)"
   ]
  },
  {
   "cell_type": "code",
   "execution_count": null,
   "metadata": {},
   "outputs": [],
   "source": [
    "alt.Chart(\n",
    "    src[\n",
    "        src.time.dt.minute == 0\n",
    "    ].set_index('time').loc[\n",
    "        \"2022-12-21 1955\": \"2022-12-21 2005\"\n",
    "    ].reset_index().query(\"tower == 'c'\").query(\"height <= 10\")\n",
    ").mark_line(point=True).encode(\n",
    "        alt.X(\"mean(value):Q\").sort('-y').scale(domain=[0, 0.05], clamp=True).title(\"<w'q'> (g/m^2/s)\"),\n",
    "        alt.Y(\"height:Q\").scale(domain=[0,20]).title(\"height (m)\"),\n",
    "        # alt.Color(\"tower:N\"),\n",
    "        # alt.Color(\"hours(time):O\"),\n",
    "        alt.Facet(\"time:T\").header(format=\"%m/%d %H:%M\")\n",
    "    ).properties(width=100,height=100)"
   ]
  },
  {
   "cell_type": "markdown",
   "metadata": {},
   "source": [
    "RH"
   ]
  },
  {
   "cell_type": "code",
   "execution_count": null,
   "metadata": {},
   "outputs": [],
   "source": [
    "src = tidy_df[tidy_df.measurement=='RH'].query(\"height != 6\").query(\"height != 12\")\n",
    "rh_prof_timeseries_chart = alt.Chart(\n",
    "    src[\n",
    "        src.time.dt.minute == 0\n",
    "    ].set_index('time').loc[\n",
    "        \"2022-12-21 12\": \"2022-12-21 23\"\n",
    "    ].reset_index()\n",
    ").mark_circle().encode(\n",
    "        alt.X(\"mean(value):Q\").sort('-y').title(\"RH (%)\").scale(domain=[55,75]),\n",
    "        alt.Y(\"height:Q\"),\n",
    "        alt.Color(\"tower:N\"),\n",
    "        # alt.Color(\"hours(time):O\"),\n",
    "        alt.Facet(\"time:T\").header(labelFontSize=0).title(None),\n",
    "        tooltip='height:Q'\n",
    "    ).properties(width=75,height=75)"
   ]
  },
  {
   "cell_type": "markdown",
   "metadata": {},
   "source": [
    "blowing snow time series"
   ]
  },
  {
   "cell_type": "code",
   "execution_count": null,
   "metadata": {},
   "outputs": [],
   "source": [
    "# src = tidy_df[tidy_df.variable == 'SF_avg_ue']\n",
    "src = tidy_df[tidy_df.variable.isin(['SF_avg_1m_ue', 'SF_avg_2m_ue'])]\n",
    "# src = src[src.time.isin(bs_times)]\n",
    "bs_flux_timeseries_chart = alt.Chart(\n",
    "    src.set_index('time').loc[\n",
    "        \"2022-12-21 12\": \"2022-12-21 23\"\n",
    "    ].reset_index().query(\"value > 0\")\n",
    ").mark_circle(point=True, size=75).encode(\n",
    "        alt.X(\"time:T\"),\n",
    "        alt.Y(\"value:Q\").scale(type='log').title(\"Blowing snow flux (g/m^2/s)\"),\n",
    "        alt.Color(\"height:O\")\n",
    ").properties(width=1140,height=100) \n",
    "\n",
    "src = tidy_df[tidy_df.variable.isin(['spd_3m_c', 'spd_5m_c', 'spd_20m_c'])]\n",
    "windspd_timeseries_chart = alt.Chart(\n",
    "    src.set_index('time').loc[\n",
    "        \"2022-12-21 12\": \"2022-12-21 23\"\n",
    "    ].reset_index().query(\"value > 0\")\n",
    ").mark_line().encode(\n",
    "        alt.X(\"time:T\").axis(labels=False).title(None),\n",
    "        alt.Y(\"value:Q\").title(\"Wind speed (m/s)\"),\n",
    "        alt.Color(\"height:O\")\n",
    ").properties(width=1140,height=100) \n",
    "\n",
    "\n",
    "src = tidy_df[tidy_df.variable.isin(['u*_3m_c', 'u*_5m_c', 'u*_20m_c'])]\n",
    "ufric_timeseries_chart = alt.Chart(\n",
    "    src.set_index('time').loc[\n",
    "        \"2022-12-21 12\": \"2022-12-21 23\"\n",
    "    ].reset_index().query(\"value > 0\")\n",
    ").mark_line().encode(\n",
    "        alt.X(\"time:T\").axis(labels=False).title(None),\n",
    "        alt.Y(\"value:Q\").title(\"Friction velocity (m/s)\"),\n",
    "        alt.Color(\"height:O\")\n",
    ").properties(width=1140,height=100) \n"
   ]
  },
  {
   "cell_type": "code",
   "execution_count": null,
   "metadata": {},
   "outputs": [],
   "source": [
    "(\n",
    "    ufric_timeseries_chart & windspd_timeseries_chart & bs_flux_timeseries_chart & \n",
    "    (w_q_prof_timeseries_chart & rh_prof_timeseries_chart & w_tc_prof_timeseries_chart & theta_prof_timeseries_chart)\n",
    ").resolve_scale(color='independent')"
   ]
  },
  {
   "cell_type": "markdown",
   "metadata": {},
   "source": [
    "Look at time series of Snow surface temperature, and other related variables, to see what is going on with surface temperatures during the blowing snow event"
   ]
  },
  {
   "cell_type": "code",
   "execution_count": null,
   "metadata": {},
   "outputs": [],
   "source": [
    "src = tidy_df.set_index('time').sort_index().loc[\n",
    "    \"2022-12-21 12\": \"2022-12-22 23\"\n",
    "].reset_index()\n",
    "# Create DF with renamed Tsnow variables to clarify that they are air sensors at this time because\n",
    "# snowdepth during this time period is 30-40cm, so the in-snow T sensors are ~10, 20cm above snow\n",
    "in_snow_sensors_as_air_sensors_df = src[src.variable.isin([\n",
    "    'T_2m_c',\n",
    "    'Tsnow_0_4m_d', 'Tsnow_0_5m_d', 'Tsnow_0_6m_d', 'Tsnow_0_7m_d',\n",
    "    'SnowDepth_c'\n",
    "])].pivot(index='time', columns='variable', values='value')\n",
    "in_snow_sensors_as_air_sensors_df['T_00cm_c'] = in_snow_sensors_as_air_sensors_df['Tsnow_0_4m_d']\n",
    "in_snow_sensors_as_air_sensors_df['T_10cm_c'] = in_snow_sensors_as_air_sensors_df['Tsnow_0_5m_d']\n",
    "in_snow_sensors_as_air_sensors_df['T_20cm_c'] = in_snow_sensors_as_air_sensors_df['Tsnow_0_6m_d']\n",
    "in_snow_sensors_as_air_sensors_df['T_30cm_c'] = in_snow_sensors_as_air_sensors_df['Tsnow_0_7m_d']\n",
    "in_snow_sensors_as_air_sensors_df = in_snow_sensors_as_air_sensors_df.reset_index().melt(id_vars='time')   \n",
    "\n",
    "# Create DF to hold the COARE model results we care about here\n",
    "# and to rename the run we did using the in-snow temp\n",
    "coare_model_results_local = coare_model_results[coare_model_results.config.isin([\n",
    "    \"Tsurf_d e_sat_alduchov 0.0005\",\n",
    "    \"Tsurf_c e_sat_alduchov 0.0005\",\n",
    "    \"Tsnow_0_4m_d e_sat_alduchov 0.0005\",\n",
    "])].set_index(\"time\").sort_index().loc[\n",
    "    src.time.min():src.time.max()\n",
    "].reset_index()\n",
    "coare_model_results_local.surface_measurement = coare_model_results_local.surface_measurement.replace(\n",
    "    \"Tsnow_0_4m_d\",\n",
    "    'T_00cm_c'\n",
    ")\n",
    "\n",
    "bs_case_study =(alt.Chart(src[src.variable == 'SF_avg_ue']).mark_line().encode(\n",
    "    alt.X(\"time:T\").axis(labels=False).title(None),\n",
    "    alt.Y(\"value:Q\").title(\"BS flux (g/m^2/s)\"),\n",
    ").properties(height = 100) &\\\n",
    "alt.Chart(in_snow_sensors_as_air_sensors_df[in_snow_sensors_as_air_sensors_df.variable.isin(\n",
    "    ['T_00cm_c', 'T_10cm_c', 'T_20cm_c', 'T_30cm_c', 'T_2m_c']\n",
    ")]).mark_line().encode(\n",
    "    alt.X(\"time:T\").axis(labels=False).title(None),\n",
    "    alt.Y(\"value:Q\").title(\"Temp. (˚C)\"),\n",
    "    alt.Color(\"variable:O\").scale(\n",
    "        domain = ['T_00cm_c', 'T_10cm_c', 'T_20cm_c', 'T_30cm_c', 'T_2m_c'],\n",
    "        range=['lightsteelblue', 'cornflowerblue', 'royalblue', 'blue', 'black']\n",
    "    ).title([\"Temp. Measurement\", \"(near-surface and air)\"]),\n",
    ").resolve_scale(x='shared', y='independent', color='independent').properties(height = 100) &\\\n",
    "alt.Chart(src[src.variable.isin([\n",
    "    'T_2m_c',\n",
    "    'Tsurf_d',\n",
    "    'Tsurf_c',\n",
    "    'Tsurf_uw',\n",
    "    'Tsurf_ue',\n",
    "    'Tsurf_rad_d',\n",
    "])]).mark_line().encode(\n",
    "    alt.X(\"time:T\").axis(labels=False).title(None),\n",
    "    alt.Y(\"value:Q\").title(\"Temp. (˚C)\"),\n",
    "    alt.Color(\"variable:O\").scale(range=[\n",
    "        'black', '#1f77b4', '#ff7f0e', '#2ca02c', '#d62728', '#9467bd'\n",
    "    ]).title([\"Temp. Measurement\", \"(surface and air)\"]),\n",
    "    detail='variable'\n",
    ").resolve_scale(x='shared', y='independent').properties(height = 100)).resolve_scale(color='independent', strokeDash='independent') &\\\n",
    "alt.Chart(\n",
    "    tidy_df.query(\"variable == 'w_h2o__3m_c'\").set_index(\"time\").loc[\n",
    "        \"20221221\": \"20221223\"\n",
    "    ].reset_index()\n",
    ").mark_line(color='black').encode(\n",
    "    alt.X(\"time:T\"),\n",
    "    alt.Y(\"value:Q\"),\n",
    ").properties(height = 100) + alt.Chart(\n",
    "    coare_model_results_local\n",
    ").mark_line().encode(\n",
    "    alt.X(\"time:T\"),\n",
    "    alt.Y(\"hlb_gperm2s\").title(\"w'q' (g/m^s/2)\"),\n",
    "    alt.Color(\"surface_measurement\").title([\n",
    "        \"Tsurf used for\",\n",
    "        \"model input\"\n",
    "    ])\n",
    ")"
   ]
  },
  {
   "cell_type": "code",
   "execution_count": null,
   "metadata": {},
   "outputs": [],
   "source": [
    "src = tidy_df.set_index('time').sort_index().loc[\n",
    "    \"20230210\": \"20230212\"\n",
    "].reset_index()\n",
    "# rename the Tsnow variables so clarify that the snowdepth during this time period is 88cm, \n",
    "# so the in-snow T sensors are actually ~10, 20, cm above the snow surface\n",
    "# When we looked at T sensors at 80cm and 90cm, they were clearly under snow (signal attenuated)\n",
    "# So we think its a decent estimate that the snow by the instrument is actually ~1m deep\n",
    "in_snow_sensors_as_air_sensors_df = src[src.variable.isin([\n",
    "    'T_2m_c',\n",
    "    'Tsnow_1_0m_d',\n",
    "    'Tsnow_1_1m_d',\n",
    "    'Tsnow_1_2m_d',\n",
    "    'Tsnow_1_3m_d',\n",
    "    # 'Tsnow_1_4m_d',\n",
    "    'SnowDepth_c'\n",
    "])].pivot(index='time', columns='variable', values='value')\n",
    "in_snow_sensors_as_air_sensors_df['T_00cm_c'] = in_snow_sensors_as_air_sensors_df['Tsnow_1_0m_d']\n",
    "in_snow_sensors_as_air_sensors_df['T_10cm_c'] = in_snow_sensors_as_air_sensors_df['Tsnow_1_1m_d']\n",
    "in_snow_sensors_as_air_sensors_df['T_20cm_c'] = in_snow_sensors_as_air_sensors_df['Tsnow_1_2m_d']\n",
    "in_snow_sensors_as_air_sensors_df['T_30cm_c'] = in_snow_sensors_as_air_sensors_df['Tsnow_1_3m_d']\n",
    "in_snow_sensors_as_air_sensors_df = in_snow_sensors_as_air_sensors_df.reset_index().melt(id_vars='time')\n",
    "\n",
    "# Create DF to hold the COARE model results we care about here\n",
    "# and to rename the run we did using the in-snow temp\n",
    "coare_model_results_local = coare_model_results[coare_model_results.config.isin([\n",
    "    \"Tsurf_d e_sat_alduchov 0.0005\",\n",
    "    \"Tsurf_c e_sat_alduchov 0.0005\",\n",
    "    \"Tsnow_1_0m_d e_sat_alduchov 0.0005\",\n",
    "])].set_index(\"time\").sort_index().loc[\n",
    "    src.time.min():src.time.max()\n",
    "].reset_index()\n",
    "coare_model_results_local.surface_measurement = coare_model_results_local.surface_measurement.replace(\n",
    "    'Tsnow_1_0m_d',\n",
    "    'T_00cm_c'\n",
    ")\n",
    "\n",
    "clear_case_study = (alt.Chart(src[src.variable == 'SF_avg_ue']).mark_line().encode(\n",
    "    alt.X(\"time:T\").axis(labels=False).title(None),\n",
    "    alt.Y(\"value:Q\").title(\"BS flux (g/m^2/s)\"),\n",
    ").properties(height = 100) &\\\n",
    "alt.Chart(in_snow_sensors_as_air_sensors_df[in_snow_sensors_as_air_sensors_df.variable.isin(\n",
    "    ['T_2m_c', 'T_00cm_c', 'T_10cm_c', 'T_20cm_c','T_30cm_c']\n",
    ")]).mark_line().encode(\n",
    "    alt.X(\"time:T\").axis(labels=False).title(None),\n",
    "    alt.Y(\"value:Q\").title(\"Temp. (˚C)\"),\n",
    "    alt.Color(\"variable:O\").scale(\n",
    "        domain = ['T_00cm_c', 'T_10cm_c', 'T_20cm_c','T_30cm_c', 'T_2m_c', ],\n",
    "        range=['lightsteelblue', 'cornflowerblue', 'royalblue', 'blue', 'black']\n",
    "    ).title([\"Temp. Measurement\", \"(near-surface and air)\"]),\n",
    "    # alt.StrokeDash(\"measurement:N\"),\n",
    "    detail='variable'\n",
    ").resolve_scale(x='shared', y='independent', color='independent').properties(height = 100) &\\\n",
    "alt.Chart(src[src.variable.isin([\n",
    "    'T_2m_c',\n",
    "    'Tsurf_d',\n",
    "    'Tsurf_c',\n",
    "    'Tsurf_uw',\n",
    "    'Tsurf_ue',\n",
    "    'Tsurf_rad_d',\n",
    "])]).mark_line().encode(\n",
    "    alt.X(\"time:T\").axis(labels=False).title(None),\n",
    "    alt.Y(\"value:Q\").title(\"Temp. (˚C)\"),\n",
    "    alt.Color(\"variable:O\").scale(range=[\n",
    "        'black', '#1f77b4', '#ff7f0e', '#2ca02c', '#d62728', '#9467bd'\n",
    "    ]).title([\"Temp. Measurement\", \"(surface and air)\"]),\n",
    "    # alt.StrokeDash(\"measurement:N\"),\n",
    "    detail='variable'\n",
    ").resolve_scale(x='shared', y='independent').properties(height = 100)).resolve_scale(color='independent', strokeDash='independent') &\\\n",
    "alt.Chart(\n",
    "    tidy_df.query(\"variable == 'w_h2o__3m_c'\").set_index(\"time\").loc[\n",
    "        \"20230210\": \"20230212\"\n",
    "    ].reset_index()\n",
    ").mark_line(color='black').encode(\n",
    "    alt.X(\"time:T\"),\n",
    "    alt.Y(\"value:Q\")\n",
    ").properties(height = 100) + alt.Chart(\n",
    "    coare_model_results_local\n",
    ").mark_line().encode(\n",
    "    alt.X(\"time:T\"),\n",
    "    alt.Y(\"hlb_gperm2s\").title(\"w'q' (g/m^s/2)\"),\n",
    "    alt.Color(\"surface_measurement:N\").title([\n",
    "        \"Tsurf used for\",\n",
    "        \"model input\"\n",
    "    ])\n",
    ")"
   ]
  },
  {
   "cell_type": "code",
   "execution_count": null,
   "metadata": {},
   "outputs": [],
   "source": [
    "(bs_case_study | clear_case_study)"
   ]
  },
  {
   "cell_type": "code",
   "execution_count": null,
   "metadata": {},
   "outputs": [],
   "source": []
  }
 ],
 "metadata": {
  "kernelspec": {
   "display_name": "arm",
   "language": "python",
   "name": "python3"
  },
  "language_info": {
   "codemirror_mode": {
    "name": "ipython",
    "version": 3
   },
   "file_extension": ".py",
   "mimetype": "text/x-python",
   "name": "python",
   "nbconvert_exporter": "python",
   "pygments_lexer": "ipython3",
   "version": "3.12.5"
  }
 },
 "nbformat": 4,
 "nbformat_minor": 2
}
