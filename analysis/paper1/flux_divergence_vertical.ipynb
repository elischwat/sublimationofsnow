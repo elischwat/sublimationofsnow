{
 "cells": [
  {
   "cell_type": "code",
   "execution_count": 18,
   "metadata": {},
   "outputs": [],
   "source": [
    "import numpy as np\n",
    "import pandas as pd\n",
    "import matplotlib.pyplot as plt\n",
    "import altair as alt\n",
    "alt.data_transformers.enable('json')\n",
    "alt.renderers.enable('jupyterlab')\n",
    "from sublimpy import tidy, utils\n",
    "import pytz\n",
    "import datetime as dt\n",
    "\n",
    "seconds_in_timestep = 60*30\n",
    "from metpy.constants import density_water\n",
    "\n",
    "from metpy.units import units\n",
    "import pint_pandas\n",
    "from metpy import constants"
   ]
  },
  {
   "cell_type": "markdown",
   "metadata": {},
   "source": [
    "# Open SOS Measurement Dataset"
   ]
  },
  {
   "cell_type": "code",
   "execution_count": 19,
   "metadata": {},
   "outputs": [
    {
     "name": "stdout",
     "output_type": "stream",
     "text": [
      "-rw-r--r--@    1 elischwat  staff   202M Apr  3 18:07 coare_model_results.parquet\n",
      "-rw-r--r--@    1 elischwat  staff   116M Mar  6 15:57 model_results.parquet\n",
      "-rw-r--r--     1 elischwat  staff    57M Jul 30 15:16 tidy_df_20221101_20230619_noplanar_fit.parquet\n",
      "-rw-r--r--     1 elischwat  staff    57M Jul 18 15:41 tidy_df_20221101_20230619_planar_fit.parquet\n",
      "-rw-r--r--@    1 elischwat  staff    57M Aug 21 14:30 tidy_df_20221101_20230619_planar_fit_multiplane.parquet\n",
      "-rw-r--r--@    1 elischwat  staff    38M Jul  2 22:09 tidy_df_20221130_20230509_noplanar_fit.parquet\n",
      "-rw-r--r--     1 elischwat  staff   257M Feb 20  2024 tidy_df_20221130_20230509_noplanar_fit_ARCHIVE.parquet\n",
      "-rw-r--r--@    1 elischwat  staff    50M Apr  3 18:06 tidy_df_20221130_20230509_noplanar_fit_clean.parquet\n",
      "-rw-r--r--     1 elischwat  staff    44M Jul 16 11:00 tidy_df_20221130_20230509_planar_fit.parquet\n",
      "-rw-r--r--     1 elischwat  staff    39M Jun 11 14:38 tidy_df_20221130_20230509_planar_fit_multiplane.parquet\n",
      "-rw-r--r--     1 elischwat  staff    50M Apr 29 20:28 tidy_df_20221130_20230619_noplanar_fit.parquet\n"
     ]
    }
   ],
   "source": [
    "ls -lah | grep parquet"
   ]
  },
  {
   "cell_type": "code",
   "execution_count": 20,
   "metadata": {},
   "outputs": [
    {
     "name": "stderr",
     "output_type": "stream",
     "text": [
      "/var/folders/x_/2h52bcjx2px15bhmdpdd748h0000gn/T/ipykernel_37271/2979933738.py:25: UserWarning: Boolean Series key will be reindexed to match DataFrame index.\n",
      "  tidy_df = tidy_df[tidy_df.time > '20221130'][tidy_df.time < '20230509']\n"
     ]
    }
   ],
   "source": [
    "start_date = '20221101'\n",
    "end_date = '20230619'\n",
    "# open files\n",
    "# tidy_df = pd.read_parquet(f'tidy_df_{start_date}_{end_date}_noplanar_fit_clean.parquet')\n",
    "tidy_df = pd.read_parquet(f'tidy_df_{start_date}_{end_date}_planar_fit_multiplane.parquet')\n",
    "# convert time column to datetime\n",
    "tidy_df['time'] = pd.to_datetime(tidy_df['time'])\n",
    "tidy_df = utils.modify_df_timezone(tidy_df, pytz.UTC, 'US/Mountain')\n",
    "# limit data to our dates of interest, based on continuous snow cover at Kettle Ponds\n",
    "tidy_df = tidy_df.set_index('time').sort_index().loc[start_date:end_date].reset_index()\n",
    "\n",
    "# ## Add combined blowing snow flux variable\n",
    "# tidy_df = tidy.tidy_df_add_variable(\n",
    "#     tidy_df,\n",
    "#     (\n",
    "#         tidy_df.query(\"variable == 'SF_avg_1m_ue'\")['value'].values + \n",
    "#         tidy_df.query(\"variable == 'SF_avg_2m_ue'\")['value'].values\n",
    "#     ), \n",
    "#     'SF_avg_ue',\n",
    "#     'snow flux',\n",
    "#     1,\n",
    "#     'ue',\n",
    "# )\n",
    "\n",
    "tidy_df = tidy_df[tidy_df.time > '20221130'][tidy_df.time < '20230509']\n"
   ]
  },
  {
   "cell_type": "markdown",
   "metadata": {},
   "source": [
    "# Identify categories"
   ]
  },
  {
   "cell_type": "code",
   "execution_count": 24,
   "metadata": {},
   "outputs": [],
   "source": [
    "# Identify lists of timestamps for different categories\n",
    "bs_times = set(\n",
    "    tidy_df.query(\"variable == 'SF_avg_1m_ue'\").query(\"value > 0\").time\n",
    ").union(\n",
    "    set(tidy_df.query(\"variable == 'SF_avg_2m_ue'\").query(\"value > 0\").time)\n",
    ")\n",
    "nobs_times = set(tidy_df.time).difference(bs_times)\n",
    "\n",
    "decoupled_times = tidy_df.query(\"variable == 'omega_3m_c'\").query(\"value < 0.43\").time\n",
    "weaklycoupled_times = tidy_df.query(\"variable == 'omega_3m_c'\").query(\"value >= 0.43\").query(\"value <= 0.61\").time\n",
    "coupled_times = tidy_df.query(\"variable == 'omega_3m_c'\").query(\"value > 0.61\").time\n",
    "\n",
    "ri_stable_times = tidy_df.query(\"variable == 'Ri_3m_c'\").query(\"value > 0.25\").time\n",
    "ri_unstable_times = tidy_df.query(\"variable == 'Ri_3m_c'\").query(\"value < -0.01\").time\n",
    "ri_neutral_times = tidy_df.query(\"variable == 'Ri_3m_c'\").query(\"value >= -0.01\").query(\"value <= 0.25\").time\n",
    "\n",
    "tgrad_stable_times = tidy_df.query(\"variable == 'temp_gradient_3m_c'\").query(\"value > 0.01\").time\n",
    "tgrad_unstable_times = tidy_df.query(\"variable == 'temp_gradient_3m_c'\").query(\"value < -0.01\").time\n",
    "tgrad_neutral_times = tidy_df.query(\"variable == 'temp_gradient_3m_c'\").query(\"value >= -0.01\").query(\"value <= 0.01\").time"
   ]
  },
  {
   "cell_type": "code",
   "execution_count": 25,
   "metadata": {},
   "outputs": [],
   "source": [
    "pivot_df = tidy_df[tidy_df.variable.isin([\n",
    "    'u_h2o__3m_ue', 'v_h2o__3m_ue',\n",
    "    'u_h2o__10m_ue','v_h2o__10m_ue',\n",
    "    \n",
    "    'u_h2o__3m_uw', 'v_h2o__3m_uw',\n",
    "    'u_h2o__10m_uw','v_h2o__10m_uw',\n",
    "\n",
    "    'u_h2o__3m_d', 'v_h2o__3m_d',\n",
    "    'u_h2o__10m_d','v_h2o__10m_d',\n",
    "\n",
    "    'w_h2o__3m_ue',\n",
    "    'w_h2o__10m_ue',\n",
    "    'w_h2o__3m_uw',\n",
    "    'w_h2o__10m_uw',\n",
    "    'w_h2o__3m_d',\n",
    "    'w_h2o__10m_d',\n",
    "    'w_h2o__3m_c',\n",
    "    'w_h2o__10m_c',\n",
    "])][['time', 'variable', 'value']].pivot(index='time', columns='variable', values='value')\n"
   ]
  },
  {
   "cell_type": "code",
   "execution_count": 26,
   "metadata": {},
   "outputs": [],
   "source": [
    "w_h2o__vars = ['w_h2o__1m_ue',\n",
    " 'w_h2o__2m_ue',\n",
    " 'w_h2o__2m_d',\n",
    " 'w_h2o__10m_d',\n",
    " 'w_h2o__3m_d',\n",
    " 'w_h2o__10m_uw',\n",
    " 'w_h2o__3m_uw',\n",
    " 'w_h2o__10m_ue',\n",
    " 'w_h2o__3m_ue',\n",
    " 'w_h2o__15m_c',\n",
    " 'w_h2o__10m_c',\n",
    " 'w_h2o__5m_c',\n",
    " 'w_h2o__3m_c',\n",
    " 'w_h2o__2m_c',\n",
    " 'w_h2o__2m_uw',\n",
    " 'w_h2o__20m_c',\n",
    " 'w_h2o__2_5m_uw',\n",
    " 'w_h2o__1m_uw',\n",
    " 'w_h2o__1m_c',\n",
    " 'w_h2o__1m_d']"
   ]
  },
  {
   "cell_type": "code",
   "execution_count": 27,
   "metadata": {},
   "outputs": [],
   "source": [
    "from sublimpy import extrautils"
   ]
  },
  {
   "cell_type": "code",
   "execution_count": 28,
   "metadata": {},
   "outputs": [],
   "source": [
    "import swifter"
   ]
  },
  {
   "cell_type": "code",
   "execution_count": 29,
   "metadata": {},
   "outputs": [],
   "source": [
    "w_measurements_df = tidy_df[tidy_df.measurement == 'w']\n",
    "u_measurements_df = tidy_df[tidy_df.measurement == 'u']\n",
    "v_measurements_df = tidy_df[tidy_df.measurement == 'v']\n",
    "q_measurements_df = tidy_df[tidy_df.measurement == 'specific humidity']\n",
    "tke_measurements_df = tidy_df[tidy_df.measurement  == 'turbulent kinetic energy']\n",
    "w_w__measurements_df = tidy_df[tidy_df.measurement  == 'w_w_']\n",
    "w_h2o__measurements_df = tidy_df[tidy_df.variable.isin(w_h2o__vars)]\n",
    "u_h2o__measurements_df = tidy_df[tidy_df.measurement == 'u_h2o_']\n",
    "v_h2o__measurements_df = tidy_df[tidy_df.measurement == 'v_h2o_']"
   ]
  },
  {
   "cell_type": "markdown",
   "metadata": {},
   "source": [
    "# Create sub groups of the separate measurements"
   ]
  },
  {
   "cell_type": "code",
   "execution_count": 30,
   "metadata": {},
   "outputs": [],
   "source": [
    "def filt_times(df, times):\n",
    "    return df[df.time.isin(times)]\n",
    "\n",
    "def get_groups(df):\n",
    "    return (\n",
    "        filt_times(df, bs_times),\n",
    "        filt_times(df, nobs_times),\n",
    "        filt_times(df, decoupled_times),\n",
    "        filt_times(df, weaklycoupled_times),\n",
    "        filt_times(df, coupled_times),\n",
    "        filt_times(df, ri_stable_times),\n",
    "        filt_times(df, ri_unstable_times),\n",
    "        filt_times(df, ri_neutral_times),\n",
    "        filt_times(df, tgrad_stable_times),\n",
    "        filt_times(df, tgrad_unstable_times),\n",
    "        filt_times(df, tgrad_neutral_times)\n",
    "    )\n",
    "\n",
    "# <w> measurements - divide into groups\n",
    "(bs_w_df, nobs_w_df, decoupled_w_df, weaklycoupled_w_df, coupled_w_df, \n",
    "ri_stable_w_df, ri_unstable_w_df, ri_neutral_w_df, \n",
    "tgrad_stable_w_df, tgrad_unstable_w_df, tgrad_neutral_w_df ) = get_groups(w_measurements_df)\n",
    "\n",
    "# <u> measurements - divide into groups\n",
    "(bs_u_df, nobs_u_df, decoupled_u_df, weaklycoupled_u_df, coupled_u_df, \n",
    "ri_stable_u_df, ri_unstable_u_df, ri_neutral_u_df, \n",
    "tgrad_stable_u_df, tgrad_unstable_u_df, tgrad_neutral_u_df ) = get_groups(u_measurements_df)\n",
    "\n",
    "# <v> measurements - divide into groups\n",
    "(bs_v_df, nobs_v_df, decoupled_v_df, weaklycoupled_v_df, coupled_v_df, \n",
    "ri_stable_v_df, ri_unstable_v_df, ri_neutral_v_df, \n",
    "tgrad_stable_v_df, tgrad_unstable_v_df, tgrad_neutral_v_df ) = get_groups(v_measurements_df)\n",
    "\n",
    "# <q> measurements - divide into groups\n",
    "(bs_q_df, nobs_q_df, decoupled_q_df, weaklycoupled_q_df, coupled_q_df, \n",
    "ri_stable_q_df, ri_unstable_q_df, ri_neutral_q_df, \n",
    "tgrad_stable_q_df, tgrad_unstable_q_df, tgrad_neutral_q_df ) = get_groups(q_measurements_df)\n",
    "\n",
    "# tke measurements - divide into groups\n",
    "(bs_tke_df, nobs_tke_df, decoupled_tke_df, weaklycoupled_tke_df, coupled_tke_df, \n",
    "ri_stable_tke_df, ri_unstable_tke_df, ri_neutral_tke_df, \n",
    "tgrad_stable_tke_df, tgrad_unstable_tke_df, tgrad_neutral_tke_df ) = get_groups(tke_measurements_df)\n",
    "\n",
    "# <w'w'> measurements - divide into groups\n",
    "(bs_w_w__df, nobs_w_w__df, decoupled_w_w__df, weaklycoupled_w_w__df, coupled_w_w__df, \n",
    "ri_stable_w_w__df, ri_unstable_w_w__df, ri_neutral_w_w__df, \n",
    "tgrad_stable_w_w__df, tgrad_unstable_w_w__df, tgrad_neutral_w_w__df ) = get_groups(w_w__measurements_df)\n",
    "\n",
    "# <w'q'> measurements - divide into groups\n",
    "(bs_w_h2o_df, nobs_w_h2o_df, decoupled_w_h2o_df, weaklycoupled_w_h2o_df, coupled_w_h2o_df, \n",
    "ri_stable_w_h2o_df, ri_unstable_w_h2o_df, ri_neutral_w_h2o_df, \n",
    "tgrad_stable_w_h2o_df, tgrad_unstable_w_h2o_df, tgrad_neutral_w_h2o_df ) = get_groups(w_h2o__measurements_df)\n",
    "\n",
    "# create dfs that have bs/no-bs labels\n",
    "w_h2o__df_with_bs_indicator = pd.concat([\n",
    "    filt_times(w_h2o__measurements_df, nobs_times).assign(conditions='No BS'),\n",
    "    filt_times(w_h2o__measurements_df, bs_times).assign(conditions='BS')\n",
    "])\n",
    "w_h2o__tgrad_stable_df_with_bs_indicator = pd.concat([\n",
    "    filt_times( w_h2o__measurements_df, set(nobs_times).intersection(set(tgrad_stable_times))).assign(conditions='No BS'),\n",
    "    filt_times( w_h2o__measurements_df, set(bs_times).intersection(set(tgrad_stable_times))).assign(conditions='BS')\n",
    "])\n",
    "w_h2o__tgrad_neutral_df_with_bs_indicator = pd.concat([\n",
    "    filt_times( w_h2o__measurements_df, set(nobs_times).intersection(set(tgrad_neutral_times))).assign(conditions='No BS'),\n",
    "    filt_times( w_h2o__measurements_df, set(bs_times).intersection(set(tgrad_neutral_times))).assign(conditions='BS')\n",
    "])\n",
    "w_h2o__tgrad_unstable_df_with_bs_indicator = pd.concat([\n",
    "    filt_times( w_h2o__measurements_df, set(nobs_times).intersection(set(tgrad_unstable_times))).assign(conditions='No BS'),\n",
    "    filt_times( w_h2o__measurements_df, set(bs_times).intersection(set(tgrad_unstable_times))).assign(conditions='BS')\n",
    "])\n",
    "\n",
    "\n",
    "# <u'q'> measurements - divide into groups\n",
    "(bs_u_h2o_df, nobs_u_h2o_df, decoupled_u_h2o_df, weaklycoupled_u_h2o_df, coupled_u_h2o_df, \n",
    "ri_stable_u_h2o_df, ri_unstable_u_h2o_df, ri_neutral_u_h2o_df, \n",
    "tgrad_stable_u_h2o_df, tgrad_unstable_u_h2o_df, tgrad_neutral_u_h2o_df ) = get_groups(u_h2o__measurements_df)\n",
    "\n",
    "u_h2o__df_with_bs_indicator = pd.concat([\n",
    "    filt_times(u_h2o__measurements_df, nobs_times).assign(conditions='No BS'),\n",
    "    filt_times(u_h2o__measurements_df, bs_times).assign(conditions='BS')\n",
    "])\n",
    "u_h2o__tgrad_stable_df_with_bs_indicator = pd.concat([\n",
    "    filt_times( u_h2o__measurements_df, set(nobs_times).intersection(set(tgrad_stable_times))).assign(conditions='No BS'),\n",
    "    filt_times( u_h2o__measurements_df, set(bs_times).intersection(set(tgrad_stable_times))).assign(conditions='BS')\n",
    "])\n",
    "u_h2o__tgrad_neutral_df_with_bs_indicator = pd.concat([\n",
    "    filt_times( u_h2o__measurements_df, set(nobs_times).intersection(set(tgrad_neutral_times))).assign(conditions='No BS'),\n",
    "    filt_times( u_h2o__measurements_df, set(bs_times).intersection(set(tgrad_neutral_times))).assign(conditions='BS')\n",
    "])\n",
    "u_h2o__tgrad_unstable_df_with_bs_indicator = pd.concat([\n",
    "    filt_times( u_h2o__measurements_df, set(nobs_times).intersection(set(tgrad_unstable_times))).assign(conditions='No BS'),\n",
    "    filt_times( u_h2o__measurements_df, set(bs_times).intersection(set(tgrad_unstable_times))).assign(conditions='BS')\n",
    "])\n",
    "\n",
    "# <v'q'> measurements - divide into groups\n",
    "(bs_v_h2o_df, nobs_v_h2o_df, decoupled_v_h2o_df, weaklycoupled_v_h2o_df, coupled_v_h2o_df, \n",
    "ri_stable_v_h2o_df, ri_unstable_v_h2o_df, ri_neutral_v_h2o_df, \n",
    "tgrad_stable_v_h2o_df, tgrad_unstable_v_h2o_df, tgrad_neutral_v_h2o_df ) = get_groups(v_h2o__measurements_df)\n",
    "\n",
    "v_h2o__df_with_bs_indicator = pd.concat([\n",
    "    filt_times(v_h2o__measurements_df, nobs_times).assign(conditions='No BS'),\n",
    "    filt_times(v_h2o__measurements_df, bs_times).assign(conditions='BS')\n",
    "])\n",
    "v_h2o__tgrad_stable_df_with_bs_indicator = pd.concat([\n",
    "    filt_times( v_h2o__measurements_df, set(nobs_times).intersection(set(tgrad_stable_times))).assign(conditions='No BS'),\n",
    "    filt_times( v_h2o__measurements_df, set(bs_times).intersection(set(tgrad_stable_times))).assign(conditions='BS')\n",
    "])\n",
    "v_h2o__tgrad_neutral_df_with_bs_indicator = pd.concat([\n",
    "    filt_times( v_h2o__measurements_df, set(nobs_times).intersection(set(tgrad_neutral_times))).assign(conditions='No BS'),\n",
    "    filt_times( v_h2o__measurements_df, set(bs_times).intersection(set(tgrad_neutral_times))).assign(conditions='BS')\n",
    "])\n",
    "v_h2o__tgrad_unstable_df_with_bs_indicator = pd.concat([\n",
    "    filt_times( v_h2o__measurements_df, set(nobs_times).intersection(set(tgrad_unstable_times))).assign(conditions='No BS'),\n",
    "    filt_times( v_h2o__measurements_df, set(bs_times).intersection(set(tgrad_unstable_times))).assign(conditions='BS')\n",
    "])\n"
   ]
  },
  {
   "cell_type": "markdown",
   "metadata": {},
   "source": [
    "# Calculate frequency of lh flux divergence \n",
    "\n",
    "Use two different thresholds, 10% and 30%\n",
    "\n",
    "We compare measurements at 2 measurement heights at a time (2 and 3, and 3 and 5). This is not comprehensive."
   ]
  },
  {
   "cell_type": "code",
   "execution_count": 31,
   "metadata": {},
   "outputs": [],
   "source": [
    "src = w_h2o__measurements_df.pivot(index='time', columns='variable', values='value')\n",
    "src_w = w_measurements_df.pivot(index='time', columns='variable', values='value')"
   ]
  },
  {
   "cell_type": "markdown",
   "metadata": {},
   "source": [
    "## Using 2 and 3 meter measurements and 3 and 5 meter measurements"
   ]
  },
  {
   "cell_type": "code",
   "execution_count": 32,
   "metadata": {},
   "outputs": [
    {
     "name": "stdout",
     "output_type": "stream",
     "text": [
      "Using 2 and 3m ECs, LH flux diverges more than 10%, 38.9% of the time\n",
      "Using 3 and 5m ECs, LH flux diverges more than 10%, 43.4% of the time\n",
      "Using 2 and 3m ECs, LH flux diverges more than 30%, 24.9% of the time\n",
      "Using 3 and 5m ECs, LH flux diverges more than 30%, 30.3% of the time\n"
     ]
    }
   ],
   "source": [
    "src['percent diff 2 3'] = (src['w_h2o__3m_c'] - src['w_h2o__2m_c']) / src[['w_h2o__3m_c', 'w_h2o__2m_c']].mean(axis=1)\n",
    "src['percent diff 3 5'] = (src['w_h2o__5m_c'] - src['w_h2o__3m_c']) / src[['w_h2o__5m_c', 'w_h2o__3m_c']].mean(axis=1)\n",
    "\n",
    "percent_gt_10_2_3 = len(src[src[\"percent diff 2 3\"] > 0.1])/len(src)\n",
    "percent_gt_10_3_5 = len(src[src[\"percent diff 3 5\"] > 0.1])/len(src)\n",
    "percent_gt_30_2_3 = len(src[src[\"percent diff 2 3\"] > 0.3])/len(src)\n",
    "percent_gt_30_3_5 = len(src[src[\"percent diff 3 5\"] > 0.3])/len(src)\n",
    "\n",
    "print(f\"Using 2 and 3m ECs, LH flux diverges more than 10%, {round(percent_gt_10_2_3*100, 1)}% of the time\")\n",
    "print(f\"Using 3 and 5m ECs, LH flux diverges more than 10%, {round(percent_gt_10_3_5*100, 1)}% of the time\")\n",
    "print(f\"Using 2 and 3m ECs, LH flux diverges more than 30%, {round(percent_gt_30_2_3*100, 1)}% of the time\")\n",
    "print(f\"Using 3 and 5m ECs, LH flux diverges more than 30%, {round(percent_gt_30_3_5*100, 1)}% of the time\")"
   ]
  },
  {
   "cell_type": "code",
   "execution_count": 33,
   "metadata": {},
   "outputs": [
    {
     "name": "stdout",
     "output_type": "stream",
     "text": [
      "bs_times\n",
      "Using 2 and 3m ECs, LH flux diverges more than 10%, 46.4% of the time\n",
      "Using 3 and 5m ECs, LH flux diverges more than 10%, 44.6% of the time\n",
      "Using 2 and 3m ECs, LH flux diverges more than 30%, 24.8% of the time\n",
      "Using 3 and 5m ECs, LH flux diverges more than 30%, 21.3% of the time\n",
      "\n",
      "nobs_times\n",
      "Using 2 and 3m ECs, LH flux diverges more than 10%, 36.7% of the time\n",
      "Using 3 and 5m ECs, LH flux diverges more than 10%, 43.0% of the time\n",
      "Using 2 and 3m ECs, LH flux diverges more than 30%, 25.0% of the time\n",
      "Using 3 and 5m ECs, LH flux diverges more than 30%, 32.9% of the time\n",
      "\n",
      "decoupled_times\n",
      "Using 2 and 3m ECs, LH flux diverges more than 10%, 33.1% of the time\n",
      "Using 3 and 5m ECs, LH flux diverges more than 10%, 46.0% of the time\n",
      "Using 2 and 3m ECs, LH flux diverges more than 30%, 25.6% of the time\n",
      "Using 3 and 5m ECs, LH flux diverges more than 30%, 39.9% of the time\n",
      "\n",
      "weaklycoupled_times\n",
      "Using 2 and 3m ECs, LH flux diverges more than 10%, 38.3% of the time\n",
      "Using 3 and 5m ECs, LH flux diverges more than 10%, 41.1% of the time\n",
      "Using 2 and 3m ECs, LH flux diverges more than 30%, 27.5% of the time\n",
      "Using 3 and 5m ECs, LH flux diverges more than 30%, 32.1% of the time\n",
      "\n",
      "coupled_times\n",
      "Using 2 and 3m ECs, LH flux diverges more than 10%, 44.1% of the time\n",
      "Using 3 and 5m ECs, LH flux diverges more than 10%, 41.2% of the time\n",
      "Using 2 and 3m ECs, LH flux diverges more than 30%, 22.7% of the time\n",
      "Using 3 and 5m ECs, LH flux diverges more than 30%, 20.9% of the time\n",
      "\n",
      "ri_stable_times\n",
      "Using 2 and 3m ECs, LH flux diverges more than 10%, 43.0% of the time\n",
      "Using 3 and 5m ECs, LH flux diverges more than 10%, 49.1% of the time\n",
      "Using 2 and 3m ECs, LH flux diverges more than 30%, 30.8% of the time\n",
      "Using 3 and 5m ECs, LH flux diverges more than 30%, 39.5% of the time\n",
      "\n",
      "ri_unstable_times\n",
      "Using 2 and 3m ECs, LH flux diverges more than 10%, 48.3% of the time\n",
      "Using 3 and 5m ECs, LH flux diverges more than 10%, 45.7% of the time\n",
      "Using 2 and 3m ECs, LH flux diverges more than 30%, 24.7% of the time\n",
      "Using 3 and 5m ECs, LH flux diverges more than 30%, 21.6% of the time\n",
      "\n",
      "ri_neutral_times\n",
      "Using 2 and 3m ECs, LH flux diverges more than 10%, 37.8% of the time\n",
      "Using 3 and 5m ECs, LH flux diverges more than 10%, 41.9% of the time\n",
      "Using 2 and 3m ECs, LH flux diverges more than 30%, 23.0% of the time\n",
      "Using 3 and 5m ECs, LH flux diverges more than 30%, 27.3% of the time\n",
      "\n",
      "tgrad_stable_times\n",
      "Using 2 and 3m ECs, LH flux diverges more than 10%, 38.2% of the time\n",
      "Using 3 and 5m ECs, LH flux diverges more than 10%, 43.3% of the time\n",
      "Using 2 and 3m ECs, LH flux diverges more than 30%, 24.6% of the time\n",
      "Using 3 and 5m ECs, LH flux diverges more than 30%, 31.0% of the time\n",
      "\n",
      "tgrad_unstable_times\n",
      "Using 2 and 3m ECs, LH flux diverges more than 10%, 52.1% of the time\n",
      "Using 3 and 5m ECs, LH flux diverges more than 10%, 44.1% of the time\n",
      "Using 2 and 3m ECs, LH flux diverges more than 30%, 26.6% of the time\n",
      "Using 3 and 5m ECs, LH flux diverges more than 30%, 19.2% of the time\n",
      "\n",
      "tgrad_neutral_times\n",
      "Using 2 and 3m ECs, LH flux diverges more than 10%, 41.6% of the time\n",
      "Using 3 and 5m ECs, LH flux diverges more than 10%, 45.8% of the time\n",
      "Using 2 and 3m ECs, LH flux diverges more than 30%, 29.0% of the time\n",
      "Using 3 and 5m ECs, LH flux diverges more than 30%, 29.6% of the time\n",
      "\n"
     ]
    }
   ],
   "source": [
    "for name, times in [\n",
    "    (\"bs_times\", bs_times,),\n",
    "    (\"nobs_times\", nobs_times,),\n",
    "    (\"decoupled_times\", decoupled_times,),\n",
    "    (\"weaklycoupled_times\", weaklycoupled_times,),\n",
    "    (\"coupled_times\", coupled_times,),\n",
    "    (\"ri_stable_times\", ri_stable_times,),\n",
    "    (\"ri_unstable_times\", ri_unstable_times,),\n",
    "    (\"ri_neutral_times\", ri_neutral_times,),\n",
    "    (\"tgrad_stable_times\", tgrad_stable_times,),\n",
    "    (\"tgrad_unstable_times\", tgrad_unstable_times,),\n",
    "    (\"tgrad_neutral_times\", tgrad_neutral_times),\n",
    "]:\n",
    "    local_src = src.reset_index()\n",
    "    local_src = local_src[local_src.time.isin(times)]\n",
    "    percent_gt_10_2_3 = len(local_src[local_src[\"percent diff 2 3\"] > 0.1])/len(local_src)\n",
    "    percent_gt_10_3_5 = len(local_src[local_src[\"percent diff 3 5\"] > 0.1])/len(local_src)\n",
    "    percent_gt_30_2_3 = len(local_src[local_src[\"percent diff 2 3\"] > 0.3])/len(local_src)\n",
    "    percent_gt_30_3_5 = len(local_src[local_src[\"percent diff 3 5\"] > 0.3])/len(local_src)\n",
    "    print(name)\n",
    "    print(f\"Using 2 and 3m ECs, LH flux diverges more than 10%, {round(percent_gt_10_2_3*100, 1)}% of the time\")\n",
    "    print(f\"Using 3 and 5m ECs, LH flux diverges more than 10%, {round(percent_gt_10_3_5*100, 1)}% of the time\")\n",
    "    print(f\"Using 2 and 3m ECs, LH flux diverges more than 30%, {round(percent_gt_30_2_3*100, 1)}% of the time\")\n",
    "    print(f\"Using 3 and 5m ECs, LH flux diverges more than 30%, {round(percent_gt_30_3_5*100, 1)}% of the time\")\n",
    "    print()"
   ]
  },
  {
   "cell_type": "markdown",
   "metadata": {},
   "source": [
    "# Define functions for plotting profiles"
   ]
  },
  {
   "cell_type": "code",
   "execution_count": 34,
   "metadata": {},
   "outputs": [],
   "source": [
    "def profile_chart(df, title, x_title):\n",
    "    return (\n",
    "        alt.Chart(df).mark_line().encode(\n",
    "            alt.X(\"median(value):Q\").sort('-y').title(x_title),\n",
    "            alt.Y(\"height:Q\").scale(zero=True).title(\"height (m)\"),\n",
    "            alt.Color(\"tower:N\")\n",
    "        ).properties(title=[title, f\"(n = {len(df.time.unique())})\"], width=100, height=100)\n",
    "    )\n",
    "\n",
    "def lhflux_profile_chart(df, title):\n",
    "    return (\n",
    "        alt.Chart(df).transform_aggregate(\n",
    "            median = \"median(value)\",\n",
    "            groupby=['height', 'tower']\n",
    "        ).transform_calculate(\n",
    "            low_bound = 'datum.median - 0.2*datum.median',\n",
    "            up_bound = 'datum.median + 0.2*datum.median'\n",
    "        ).mark_area(opacity=0.25).encode(\n",
    "            alt.X(\"low_bound:Q\").title(\"\"),\n",
    "            alt.X2(\"up_bound:Q\"),\n",
    "            alt.Y(\"height:Q\").scale(zero=True).title(\"height (m)\"),\n",
    "            alt.Color(\"tower:N\")\n",
    "        )\n",
    "        +\n",
    "        alt.Chart(df).mark_line().encode(\n",
    "            alt.X(\"median(value):Q\").sort('-y').title(\"<w'q'> (g/m^2/s)\"),\n",
    "            alt.Y(\"height:Q\").scale(zero=True).title(\"height (m)\"),\n",
    "            alt.Color(\"tower:N\")\n",
    "        ).properties(title=[title, f\"(n = {len(df.time.unique())})\"], width=150, height=150)\n",
    "    )\n",
    "\n",
    "def lhflux_profile_chart_split_conditions(df, title, x_title=\"<w'q'> (g/m^2/s)\", color_encoding=alt.Color(f\"conditions:N\")):\n",
    "    n_bs = len(df[df.conditions == 'BS'].time.unique())\n",
    "    n_nobs = len(df[df.conditions == 'No BS'].time.unique())\n",
    "    return (\n",
    "        alt.Chart(df).transform_aggregate(\n",
    "            median = \"median(value)\",\n",
    "            groupby=['height', 'tower', 'conditions']\n",
    "        ).transform_calculate(\n",
    "            low_bound = 'datum.median - 0.2*datum.median',\n",
    "            up_bound = 'datum.median + 0.2*datum.median'\n",
    "        ).mark_area(opacity=0.25).encode(\n",
    "            alt.X(\"low_bound:Q\").title(\"\"),\n",
    "            alt.X2(\"up_bound:Q\"),\n",
    "            alt.Y(\"height:Q\").scale(zero=True),\n",
    "            color_encoding\n",
    "        )\n",
    "        +\n",
    "        alt.Chart(df).mark_line(point=True).encode(\n",
    "            alt.X(\"median(value):Q\").sort('-y').title(x_title),\n",
    "            alt.Y(\"height:Q\").scale(zero=True),\n",
    "            color_encoding\n",
    "        ).properties(title=[title, f\"(n = {n_bs} BS, {n_nobs} No BS)\"], width=150, height=150)\n",
    "    )\n",
    "\n",
    "def lhflux_profile_chart_split_conditions_noerror(df, title, x_title=\"<w'q'> (g/m^2/s)\", color_encoding=alt.Color(f\"conditions:N\")):\n",
    "    n_bs = len(df[df.conditions == 'BS'].time.unique())\n",
    "    n_nobs = len(df[df.conditions == 'No BS'].time.unique())\n",
    "    return alt.Chart(df).mark_line(point=True).encode(\n",
    "            alt.X(\"median(value):Q\").sort('-y').title(x_title),\n",
    "            alt.Y(\"height:Q\").scale(zero=True),\n",
    "            color_encoding\n",
    "        ).properties(title=[title, f\"(n = {n_bs} BS, {n_nobs} No BS)\"], width=150, height=150)\n",
    "\n",
    "def lhflux_profile_chart_notower(df, title, x_title=\"<w'q'> (g/m^2/s)\"):\n",
    "    return (\n",
    "        alt.Chart(df).transform_aggregate(\n",
    "            median = \"median(value)\",\n",
    "            groupby=['height', 'tower']\n",
    "        ).transform_calculate(\n",
    "            low_bound = 'datum.median - 0.2*datum.median',\n",
    "            up_bound = 'datum.median + 0.2*datum.median'\n",
    "        ).mark_area(opacity=0.2, color='black').encode(\n",
    "            alt.X(\"low_bound:Q\").title(\"\"),\n",
    "            alt.X2(\"up_bound:Q\"),\n",
    "            alt.Y(\"height:Q\").scale(zero=True),\n",
    "        )\n",
    "        +\n",
    "        alt.Chart(df).mark_line(point=alt.OverlayMarkDef(color='black'), color='black').encode(\n",
    "            alt.X(\"median(value):Q\").sort('-y').title(x_title),\n",
    "            alt.Y(\"height:Q\").scale(zero=True),\n",
    "        ).properties(title=[title, f\"(n = {len(df.time.unique())})\"], width=150, height=150)\n",
    "    )\n",
    "\n",
    "def lhflux_profile_chart_mg(df, title):\n",
    "    df.value = df.value*1000\n",
    "    return (\n",
    "        alt.Chart(df).transform_aggregate(\n",
    "            median = \"median(value)\",\n",
    "            groupby=['height', 'tower']\n",
    "        ).transform_calculate(\n",
    "            low_bound = 'datum.median - 0.2*datum.median',\n",
    "            up_bound = 'datum.median + 0.2*datum.median'\n",
    "        ).mark_area(opacity=0.25).encode(\n",
    "            alt.X(\"low_bound:Q\").title(\"\"),\n",
    "            alt.X2(\"up_bound:Q\"),\n",
    "            alt.Y(\"height:Q\").scale(zero=True).title(\"height (m)\"),\n",
    "            alt.Color(\"tower:N\")\n",
    "        )\n",
    "        +\n",
    "        alt.Chart(df).mark_line(point=True).encode(\n",
    "            alt.X(\"median(value):Q\").sort('-y').title(\"<w'q'> (mg/m^2/s)\"),\n",
    "            alt.Y(\"height:Q\").scale(zero=True).title(\"height (m)\"),\n",
    "            alt.Color(\"tower:N\")\n",
    "        ).properties(title=[title, f\"(n = {len(df.time.unique())})\"], width=150, height=150)\n",
    "    )\n",
    "\n",
    "def profile_chart(df, title, x_title, color=\"tower:N\"):\n",
    "    return (\n",
    "        alt.Chart(df).transform_aggregate(\n",
    "            median = \"median(value)\",\n",
    "            groupby=['height', 'tower']\n",
    "        ).transform_calculate(\n",
    "            low_bound = 'datum.median - 0.2*datum.median',\n",
    "            up_bound = 'datum.median + 0.2*datum.median'\n",
    "        ).mark_area(opacity=0.25).encode(\n",
    "            alt.X(\"low_bound:Q\").title(\"\"),\n",
    "            alt.X2(\"up_bound:Q\"),\n",
    "            alt.Y(\"height:Q\").scale(zero=True).title(\"height (m)\"),\n",
    "            alt.Color(\"tower:N\")\n",
    "        )\n",
    "        +\n",
    "        alt.Chart(df).mark_line().encode(\n",
    "            alt.X(\"median(value):Q\").sort('-y').title(x_title),\n",
    "            alt.Y(\"height:Q\").scale(zero=True).title(\"height (m)\"),\n",
    "            alt.Color(color)\n",
    "        ).properties(title=[title, f\"(n = {len(df.time.unique())})\"], width=150, height=150)\n",
    "    )"
   ]
  },
  {
   "cell_type": "code",
   "execution_count": 35,
   "metadata": {},
   "outputs": [],
   "source": [
    "tgrad_unstable_df = w_h2o__measurements_df[w_h2o__measurements_df.time.isin(set(tgrad_unstable_times))]\n",
    "tgrad_stable_df = w_h2o__measurements_df[w_h2o__measurements_df.time.isin(set(tgrad_stable_times))]\n",
    "tgrad_neutral_df = w_h2o__measurements_df[w_h2o__measurements_df.time.isin(set(tgrad_neutral_times))]"
   ]
  },
  {
   "cell_type": "code",
   "execution_count": 36,
   "metadata": {},
   "outputs": [
    {
     "name": "stderr",
     "output_type": "stream",
     "text": [
      "/var/folders/x_/2h52bcjx2px15bhmdpdd748h0000gn/T/ipykernel_37271/3139732193.py:1: SettingWithCopyWarning: \n",
      "A value is trying to be set on a copy of a slice from a DataFrame.\n",
      "Try using .loc[row_indexer,col_indexer] = value instead\n",
      "\n",
      "See the caveats in the documentation: https://pandas.pydata.org/pandas-docs/stable/user_guide/indexing.html#returning-a-view-versus-a-copy\n",
      "  tgrad_stable_df['conditions'] = tgrad_stable_df.time.isin(bs_times).apply(lambda is_bs: 'BS' if is_bs else 'No BS')\n",
      "/var/folders/x_/2h52bcjx2px15bhmdpdd748h0000gn/T/ipykernel_37271/3139732193.py:2: SettingWithCopyWarning: \n",
      "A value is trying to be set on a copy of a slice from a DataFrame.\n",
      "Try using .loc[row_indexer,col_indexer] = value instead\n",
      "\n",
      "See the caveats in the documentation: https://pandas.pydata.org/pandas-docs/stable/user_guide/indexing.html#returning-a-view-versus-a-copy\n",
      "  tgrad_neutral_df['conditions'] = tgrad_neutral_df.time.isin(bs_times).apply(lambda is_bs: 'BS' if is_bs else 'No BS')\n",
      "/var/folders/x_/2h52bcjx2px15bhmdpdd748h0000gn/T/ipykernel_37271/3139732193.py:3: SettingWithCopyWarning: \n",
      "A value is trying to be set on a copy of a slice from a DataFrame.\n",
      "Try using .loc[row_indexer,col_indexer] = value instead\n",
      "\n",
      "See the caveats in the documentation: https://pandas.pydata.org/pandas-docs/stable/user_guide/indexing.html#returning-a-view-versus-a-copy\n",
      "  tgrad_unstable_df['conditions'] = tgrad_unstable_df.time.isin(bs_times).apply(lambda is_bs: 'BS' if is_bs else 'No BS')\n"
     ]
    },
    {
     "data": {
      "application/vnd.vegalite.v5+json": {
       "$schema": "https://vega.github.io/schema/vega-lite/v5.17.0.json",
       "config": {
        "view": {
         "continuousHeight": 300,
         "continuousWidth": 300
        }
       },
       "hconcat": [
        {
         "data": {
          "format": {
           "type": "json"
          },
          "url": "altair-data-3a258e5061cba34a2b7dc9feadcfd4f7.json"
         },
         "height": 150,
         "layer": [
          {
           "encoding": {
            "x": {
             "field": "low_bound",
             "title": "",
             "type": "quantitative"
            },
            "x2": {
             "field": "up_bound"
            },
            "y": {
             "field": "height",
             "scale": {
              "zero": true
             },
             "type": "quantitative"
            }
           },
           "mark": {
            "color": "black",
            "opacity": 0.2,
            "type": "area"
           },
           "transform": [
            {
             "aggregate": [
              {
               "as": "median",
               "field": "value",
               "op": "median"
              }
             ],
             "groupby": [
              "height",
              "tower"
             ]
            },
            {
             "as": "low_bound",
             "calculate": "datum.median - 0.2*datum.median"
            },
            {
             "as": "up_bound",
             "calculate": "datum.median + 0.2*datum.median"
            }
           ]
          },
          {
           "encoding": {
            "x": {
             "aggregate": "median",
             "field": "value",
             "sort": "-y",
             "title": "<w'q'> (g/m^2/s)",
             "type": "quantitative"
            },
            "y": {
             "field": "height",
             "scale": {
              "zero": true
             },
             "type": "quantitative"
            }
           },
           "mark": {
            "color": "black",
            "point": {
             "color": "black"
            },
            "type": "line"
           },
           "title": [
            "All data",
            "(n = 7677)"
           ]
          }
         ],
         "width": 150
        },
        {
         "data": {
          "format": {
           "type": "json"
          },
          "url": "altair-data-12516cf0b3c72211003aae945425679c.json"
         },
         "height": 150,
         "layer": [
          {
           "encoding": {
            "color": {
             "field": "conditions",
             "type": "nominal"
            },
            "x": {
             "field": "low_bound",
             "title": "",
             "type": "quantitative"
            },
            "x2": {
             "field": "up_bound"
            },
            "y": {
             "field": "height",
             "scale": {
              "zero": true
             },
             "type": "quantitative"
            }
           },
           "mark": {
            "opacity": 0.25,
            "type": "area"
           },
           "transform": [
            {
             "aggregate": [
              {
               "as": "median",
               "field": "value",
               "op": "median"
              }
             ],
             "groupby": [
              "height",
              "tower",
              "conditions"
             ]
            },
            {
             "as": "low_bound",
             "calculate": "datum.median - 0.2*datum.median"
            },
            {
             "as": "up_bound",
             "calculate": "datum.median + 0.2*datum.median"
            }
           ]
          },
          {
           "encoding": {
            "color": {
             "field": "conditions",
             "type": "nominal"
            },
            "x": {
             "aggregate": "median",
             "field": "value",
             "sort": "-y",
             "title": "<w'q'> (g/m^2/s)",
             "type": "quantitative"
            },
            "y": {
             "field": "height",
             "scale": {
              "zero": true
             },
             "type": "quantitative"
            }
           },
           "mark": {
            "point": true,
            "type": "line"
           },
           "title": [
            "Stable",
            "(n = 1398 BS, 5408 No BS)"
           ]
          }
         ],
         "width": 150
        },
        {
         "data": {
          "format": {
           "type": "json"
          },
          "url": "altair-data-eb89a46ab6e79412d5eb39b1d8883f29.json"
         },
         "height": 150,
         "layer": [
          {
           "encoding": {
            "color": {
             "field": "conditions",
             "type": "nominal"
            },
            "x": {
             "field": "low_bound",
             "title": "",
             "type": "quantitative"
            },
            "x2": {
             "field": "up_bound"
            },
            "y": {
             "field": "height",
             "scale": {
              "zero": true
             },
             "type": "quantitative"
            }
           },
           "mark": {
            "opacity": 0.25,
            "type": "area"
           },
           "transform": [
            {
             "aggregate": [
              {
               "as": "median",
               "field": "value",
               "op": "median"
              }
             ],
             "groupby": [
              "height",
              "tower",
              "conditions"
             ]
            },
            {
             "as": "low_bound",
             "calculate": "datum.median - 0.2*datum.median"
            },
            {
             "as": "up_bound",
             "calculate": "datum.median + 0.2*datum.median"
            }
           ]
          },
          {
           "encoding": {
            "color": {
             "field": "conditions",
             "type": "nominal"
            },
            "x": {
             "aggregate": "median",
             "field": "value",
             "sort": "-y",
             "title": "<w'q'> (g/m^2/s)",
             "type": "quantitative"
            },
            "y": {
             "field": "height",
             "scale": {
              "zero": true
             },
             "type": "quantitative"
            }
           },
           "mark": {
            "point": true,
            "type": "line"
           },
           "title": [
            "Neutral",
            "(n = 239 BS, 326 No BS)"
           ]
          }
         ],
         "width": 150
        },
        {
         "data": {
          "format": {
           "type": "json"
          },
          "url": "altair-data-7f2fa7e524aa336639a63ba6a9f36514.json"
         },
         "height": 150,
         "layer": [
          {
           "encoding": {
            "color": {
             "field": "conditions",
             "type": "nominal"
            },
            "x": {
             "field": "low_bound",
             "title": "",
             "type": "quantitative"
            },
            "x2": {
             "field": "up_bound"
            },
            "y": {
             "field": "height",
             "scale": {
              "zero": true
             },
             "type": "quantitative"
            }
           },
           "mark": {
            "opacity": 0.25,
            "type": "area"
           },
           "transform": [
            {
             "aggregate": [
              {
               "as": "median",
               "field": "value",
               "op": "median"
              }
             ],
             "groupby": [
              "height",
              "tower",
              "conditions"
             ]
            },
            {
             "as": "low_bound",
             "calculate": "datum.median - 0.2*datum.median"
            },
            {
             "as": "up_bound",
             "calculate": "datum.median + 0.2*datum.median"
            }
           ]
          },
          {
           "encoding": {
            "color": {
             "field": "conditions",
             "type": "nominal"
            },
            "x": {
             "aggregate": "median",
             "field": "value",
             "sort": "-y",
             "title": "<w'q'> (g/m^2/s)",
             "type": "quantitative"
            },
            "y": {
             "field": "height",
             "scale": {
              "zero": true
             },
             "type": "quantitative"
            }
           },
           "mark": {
            "point": true,
            "type": "line"
           },
           "title": [
            "Unstable",
            "(n = 59 BS, 227 No BS)"
           ]
          }
         ],
         "width": 150
        }
       ],
       "resolve": {
        "scale": {
         "x": "shared",
         "y": "shared"
        }
       }
      },
      "text/plain": [
       "<VegaLite 5 object>\n",
       "\n",
       "If you see this message, it means the renderer has not been properly enabled\n",
       "for the frontend that you are using. For more information, see\n",
       "https://altair-viz.github.io/user_guide/display_frontends.html#troubleshooting\n"
      ]
     },
     "execution_count": 36,
     "metadata": {},
     "output_type": "execute_result"
    }
   ],
   "source": [
    "tgrad_stable_df['conditions'] = tgrad_stable_df.time.isin(bs_times).apply(lambda is_bs: 'BS' if is_bs else 'No BS')\n",
    "tgrad_neutral_df['conditions'] = tgrad_neutral_df.time.isin(bs_times).apply(lambda is_bs: 'BS' if is_bs else 'No BS')\n",
    "tgrad_unstable_df['conditions'] = tgrad_unstable_df.time.isin(bs_times).apply(lambda is_bs: 'BS' if is_bs else 'No BS')\n",
    "\n",
    "vertical_flux_profiles_4_plots = (\n",
    "    lhflux_profile_chart_notower(w_h2o__measurements_df.query(\"tower == 'c'\").query(\"height > 1\"), \"All data\") |\n",
    "    lhflux_profile_chart_split_conditions(tgrad_stable_df.query(\"tower == 'c'\").query(\"height > 1\"), \"Stable\") |\n",
    "    lhflux_profile_chart_split_conditions(tgrad_neutral_df.query(\"tower == 'c'\").query(\"height > 1\"), \"Neutral\") |\n",
    "    lhflux_profile_chart_split_conditions(tgrad_unstable_df.query(\"tower == 'c'\").query(\"height > 1\"), \"Unstable\")\n",
    ").resolve_scale(x='shared', y='shared') \n",
    "vertical_flux_profiles_4_plots"
   ]
  },
  {
   "cell_type": "code",
   "execution_count": 62,
   "metadata": {},
   "outputs": [
    {
     "data": {
      "application/vnd.vegalite.v5+json": {
       "$schema": "https://vega.github.io/schema/vega-lite/v5.17.0.json",
       "config": {
        "view": {
         "continuousHeight": 300,
         "continuousWidth": 300
        }
       },
       "resolve": {
        "scale": {
         "x": "shared",
         "y": "shared"
        }
       },
       "vconcat": [
        {
         "data": {
          "format": {
           "type": "json"
          },
          "url": "altair-data-d1c3a82cebdc9c7956e1e90cce375c69.json"
         },
         "encoding": {
          "color": {
           "field": "height",
           "scale": {
            "scheme": "sinebow"
           },
           "type": "ordinal"
          },
          "facet": {
           "field": "tower",
           "type": "nominal"
          },
          "x": {
           "field": "time",
           "timeUnit": "hours",
           "type": "temporal"
          },
          "y": {
           "aggregate": "median",
           "field": "value",
           "scale": {
            "clamp": true,
            "domain": [
             -0.006,
             0.006
            ]
           },
           "type": "quantitative"
          }
         },
         "height": 150,
         "mark": {
          "type": "line"
         },
         "title": "all data",
         "width": 150
        },
        {
         "data": {
          "format": {
           "type": "json"
          },
          "url": "altair-data-637757f06e859e6ff9efe55210facd5b.json"
         },
         "encoding": {
          "color": {
           "field": "height",
           "scale": {
            "scheme": "sinebow"
           },
           "type": "ordinal"
          },
          "facet": {
           "field": "tower",
           "type": "nominal"
          },
          "x": {
           "field": "time",
           "timeUnit": "hours",
           "type": "temporal"
          },
          "y": {
           "aggregate": "median",
           "field": "value",
           "type": "quantitative"
          }
         },
         "height": 150,
         "mark": {
          "type": "line"
         },
         "title": "stable",
         "width": 150
        },
        {
         "data": {
          "format": {
           "type": "json"
          },
          "url": "altair-data-ded4f3b8ffd33dda58c57ac1621f26f7.json"
         },
         "encoding": {
          "color": {
           "field": "height",
           "scale": {
            "scheme": "sinebow"
           },
           "type": "ordinal"
          },
          "facet": {
           "field": "tower",
           "type": "nominal"
          },
          "x": {
           "field": "time",
           "timeUnit": "hours",
           "type": "temporal"
          },
          "y": {
           "aggregate": "median",
           "field": "value",
           "type": "quantitative"
          }
         },
         "height": 150,
         "mark": {
          "type": "line"
         },
         "title": "neutral",
         "width": 150
        },
        {
         "data": {
          "format": {
           "type": "json"
          },
          "url": "altair-data-d354de28ecab66d9d5159cf84782d21c.json"
         },
         "encoding": {
          "color": {
           "field": "height",
           "scale": {
            "scheme": "sinebow"
           },
           "type": "ordinal"
          },
          "facet": {
           "field": "tower",
           "type": "nominal"
          },
          "x": {
           "field": "time",
           "timeUnit": "hours",
           "type": "temporal"
          },
          "y": {
           "aggregate": "median",
           "field": "value",
           "type": "quantitative"
          }
         },
         "height": 150,
         "mark": {
          "type": "line"
         },
         "title": "unstable",
         "width": 150
        }
       ]
      },
      "text/plain": [
       "<VegaLite 5 object>\n",
       "\n",
       "If you see this message, it means the renderer has not been properly enabled\n",
       "for the frontend that you are using. For more information, see\n",
       "https://altair-viz.github.io/user_guide/display_frontends.html#troubleshooting\n"
      ]
     },
     "execution_count": 62,
     "metadata": {},
     "output_type": "execute_result"
    }
   ],
   "source": [
    "src = w_h2o__measurements_df[w_h2o__measurements_df.variable.isin([\n",
    "    'w_h2o__2m_c', 'w_h2o__3m_c', 'w_h2o__5m_c', 'w_h2o__10m_c', 'w_h2o__15m_c', 'w_h2o__20m_c',\n",
    "    'w_h2o__3m_ue', 'w_h2o__10m_ue',\n",
    "    'w_h2o__3m_d', 'w_h2o__10m_d',\n",
    "    'w_h2o__3m_uw', 'w_h2o__10m_uw',\n",
    "])]\n",
    "src = src[~src.time.isin(bs_times)]\n",
    "(\n",
    "    alt.Chart(src).mark_line().encode(\n",
    "        alt.X('hours(time):T'),\n",
    "        alt.Y('median(value):Q').scale(domain=[-0.006,0.006], clamp=True),\n",
    "        alt.Color('height:O').scale(scheme='sinebow'),\n",
    "        alt.Facet('tower:N')\n",
    "    ).properties(width = 150, height = 150, title='all data') &\\\n",
    "    alt.Chart(src[src.time.isin(set(tgrad_stable_times))]).mark_line().encode(\n",
    "        alt.X('hours(time):T'),\n",
    "        alt.Y('median(value):Q'),\n",
    "        alt.Color('height:O').scale(scheme='sinebow'),\n",
    "        alt.Facet('tower:N')\n",
    "    ).properties(width = 150, height = 150, title='stable') &\\\n",
    "    alt.Chart(src[src.time.isin(set(tgrad_neutral_times))]).mark_line().encode(\n",
    "        alt.X('hours(time):T'),\n",
    "        alt.Y('median(value):Q'),\n",
    "        alt.Color('height:O').scale(scheme='sinebow'),\n",
    "        alt.Facet('tower:N')\n",
    "    ).properties(width = 150, height = 150, title='neutral') &\\\n",
    "    alt.Chart(src[src.time.isin(set(tgrad_unstable_times))]).mark_line().encode(\n",
    "        alt.X('hours(time):T'),\n",
    "        alt.Y('median(value):Q'),\n",
    "        alt.Color('height:O').scale(scheme='sinebow'),\n",
    "        alt.Facet('tower:N')\n",
    "    ).properties(width = 150, height = 150, title='unstable')\n",
    ").resolve_scale(y='shared', x='shared')"
   ]
  },
  {
   "cell_type": "code",
   "execution_count": 17,
   "metadata": {},
   "outputs": [
    {
     "data": {
      "application/vnd.vegalite.v5+json": {
       "$schema": "https://vega.github.io/schema/vega-lite/v5.17.0.json",
       "config": {
        "view": {
         "continuousHeight": 300,
         "continuousWidth": 300
        }
       },
       "vconcat": [
        {
         "hconcat": [
          {
           "data": {
            "format": {
             "type": "json"
            },
            "url": "altair-data-b070e03437f4aa94252c29f62b3aa6cc.json"
           },
           "height": 150,
           "layer": [
            {
             "encoding": {
              "x": {
               "field": "low_bound",
               "title": "",
               "type": "quantitative"
              },
              "x2": {
               "field": "up_bound"
              },
              "y": {
               "field": "height",
               "scale": {
                "zero": true
               },
               "type": "quantitative"
              }
             },
             "mark": {
              "color": "black",
              "opacity": 0.2,
              "type": "area"
             },
             "transform": [
              {
               "aggregate": [
                {
                 "as": "median",
                 "field": "value",
                 "op": "median"
                }
               ],
               "groupby": [
                "height",
                "tower"
               ]
              },
              {
               "as": "low_bound",
               "calculate": "datum.median - 0.2*datum.median"
              },
              {
               "as": "up_bound",
               "calculate": "datum.median + 0.2*datum.median"
              }
             ]
            },
            {
             "encoding": {
              "x": {
               "aggregate": "median",
               "field": "value",
               "sort": "-y",
               "title": "<w'q'> (g/m^2/s)",
               "type": "quantitative"
              },
              "y": {
               "field": "height",
               "scale": {
                "zero": true
               },
               "type": "quantitative"
              }
             },
             "mark": {
              "color": "black",
              "point": {
               "color": "black"
              },
              "type": "line"
             },
             "title": [
              "All data (Daytime)",
              "(n = 2880)"
             ]
            }
           ],
           "width": 150
          },
          {
           "data": {
            "format": {
             "type": "json"
            },
            "url": "altair-data-d24612e5f9f2cb92bb4c3ccc9efc112a.json"
           },
           "height": 150,
           "layer": [
            {
             "encoding": {
              "color": {
               "field": "conditions",
               "type": "nominal"
              },
              "x": {
               "field": "low_bound",
               "title": "",
               "type": "quantitative"
              },
              "x2": {
               "field": "up_bound"
              },
              "y": {
               "field": "height",
               "scale": {
                "zero": true
               },
               "type": "quantitative"
              }
             },
             "mark": {
              "opacity": 0.25,
              "type": "area"
             },
             "transform": [
              {
               "aggregate": [
                {
                 "as": "median",
                 "field": "value",
                 "op": "median"
                }
               ],
               "groupby": [
                "height",
                "tower",
                "conditions"
               ]
              },
              {
               "as": "low_bound",
               "calculate": "datum.median - 0.2*datum.median"
              },
              {
               "as": "up_bound",
               "calculate": "datum.median + 0.2*datum.median"
              }
             ]
            },
            {
             "encoding": {
              "color": {
               "field": "conditions",
               "type": "nominal"
              },
              "x": {
               "aggregate": "median",
               "field": "value",
               "sort": "-y",
               "title": "<w'q'> (g/m^2/s)",
               "type": "quantitative"
              },
              "y": {
               "field": "height",
               "scale": {
                "zero": true
               },
               "type": "quantitative"
              }
             },
             "mark": {
              "point": true,
              "type": "line"
             },
             "title": [
              "Stable (Daytime)",
              "(n = 578 BS, 1570 No BS)"
             ]
            }
           ],
           "width": 150
          },
          {
           "data": {
            "format": {
             "type": "json"
            },
            "url": "altair-data-7fef3c3a8112c7d28c5505b71a249dd2.json"
           },
           "height": 150,
           "layer": [
            {
             "encoding": {
              "color": {
               "field": "conditions",
               "type": "nominal"
              },
              "x": {
               "field": "low_bound",
               "title": "",
               "type": "quantitative"
              },
              "x2": {
               "field": "up_bound"
              },
              "y": {
               "field": "height",
               "scale": {
                "zero": true
               },
               "type": "quantitative"
              }
             },
             "mark": {
              "opacity": 0.25,
              "type": "area"
             },
             "transform": [
              {
               "aggregate": [
                {
                 "as": "median",
                 "field": "value",
                 "op": "median"
                }
               ],
               "groupby": [
                "height",
                "tower",
                "conditions"
               ]
              },
              {
               "as": "low_bound",
               "calculate": "datum.median - 0.2*datum.median"
              },
              {
               "as": "up_bound",
               "calculate": "datum.median + 0.2*datum.median"
              }
             ]
            },
            {
             "encoding": {
              "color": {
               "field": "conditions",
               "type": "nominal"
              },
              "x": {
               "aggregate": "median",
               "field": "value",
               "sort": "-y",
               "title": "<w'q'> (g/m^2/s)",
               "type": "quantitative"
              },
              "y": {
               "field": "height",
               "scale": {
                "zero": true
               },
               "type": "quantitative"
              }
             },
             "mark": {
              "point": true,
              "type": "line"
             },
             "title": [
              "Neutral (Daytime)",
              "(n = 165 BS, 281 No BS)"
             ]
            }
           ],
           "width": 150
          },
          {
           "data": {
            "format": {
             "type": "json"
            },
            "url": "altair-data-6186298645642efd5dc765fb9151de8e.json"
           },
           "height": 150,
           "layer": [
            {
             "encoding": {
              "color": {
               "field": "conditions",
               "type": "nominal"
              },
              "x": {
               "field": "low_bound",
               "title": "",
               "type": "quantitative"
              },
              "x2": {
               "field": "up_bound"
              },
              "y": {
               "field": "height",
               "scale": {
                "zero": true
               },
               "type": "quantitative"
              }
             },
             "mark": {
              "opacity": 0.25,
              "type": "area"
             },
             "transform": [
              {
               "aggregate": [
                {
                 "as": "median",
                 "field": "value",
                 "op": "median"
                }
               ],
               "groupby": [
                "height",
                "tower",
                "conditions"
               ]
              },
              {
               "as": "low_bound",
               "calculate": "datum.median - 0.2*datum.median"
              },
              {
               "as": "up_bound",
               "calculate": "datum.median + 0.2*datum.median"
              }
             ]
            },
            {
             "encoding": {
              "color": {
               "field": "conditions",
               "type": "nominal"
              },
              "x": {
               "aggregate": "median",
               "field": "value",
               "sort": "-y",
               "title": "<w'q'> (g/m^2/s)",
               "type": "quantitative"
              },
              "y": {
               "field": "height",
               "scale": {
                "zero": true
               },
               "type": "quantitative"
              }
             },
             "mark": {
              "point": true,
              "type": "line"
             },
             "title": [
              "Unstable (Daytime)",
              "(n = 58 BS, 224 No BS)"
             ]
            }
           ],
           "width": 150
          }
         ],
         "resolve": {
          "scale": {
           "x": "shared",
           "y": "shared"
          }
         }
        },
        {
         "hconcat": [
          {
           "data": {
            "format": {
             "type": "json"
            },
            "url": "altair-data-927f63c03e7e8391f1a2247d95cfbffd.json"
           },
           "height": 150,
           "layer": [
            {
             "encoding": {
              "x": {
               "field": "low_bound",
               "title": "",
               "type": "quantitative"
              },
              "x2": {
               "field": "up_bound"
              },
              "y": {
               "field": "height",
               "scale": {
                "zero": true
               },
               "type": "quantitative"
              }
             },
             "mark": {
              "color": "black",
              "opacity": 0.2,
              "type": "area"
             },
             "transform": [
              {
               "aggregate": [
                {
                 "as": "median",
                 "field": "value",
                 "op": "median"
                }
               ],
               "groupby": [
                "height",
                "tower"
               ]
              },
              {
               "as": "low_bound",
               "calculate": "datum.median - 0.2*datum.median"
              },
              {
               "as": "up_bound",
               "calculate": "datum.median + 0.2*datum.median"
              }
             ]
            },
            {
             "encoding": {
              "x": {
               "aggregate": "median",
               "field": "value",
               "sort": "-y",
               "title": "<w'q'> (g/m^2/s)",
               "type": "quantitative"
              },
              "y": {
               "field": "height",
               "scale": {
                "zero": true
               },
               "type": "quantitative"
              }
             },
             "mark": {
              "color": "black",
              "point": {
               "color": "black"
              },
              "type": "line"
             },
             "title": [
              "All data (Nighttime)",
              "(n = 3517)"
             ]
            }
           ],
           "width": 150
          },
          {
           "data": {
            "format": {
             "type": "json"
            },
            "url": "altair-data-67c9679963df11916a7690f8add9f026.json"
           },
           "height": 150,
           "layer": [
            {
             "encoding": {
              "color": {
               "field": "conditions",
               "type": "nominal"
              },
              "x": {
               "field": "low_bound",
               "title": "",
               "type": "quantitative"
              },
              "x2": {
               "field": "up_bound"
              },
              "y": {
               "field": "height",
               "scale": {
                "zero": true
               },
               "type": "quantitative"
              }
             },
             "mark": {
              "opacity": 0.25,
              "type": "area"
             },
             "transform": [
              {
               "aggregate": [
                {
                 "as": "median",
                 "field": "value",
                 "op": "median"
                }
               ],
               "groupby": [
                "height",
                "tower",
                "conditions"
               ]
              },
              {
               "as": "low_bound",
               "calculate": "datum.median - 0.2*datum.median"
              },
              {
               "as": "up_bound",
               "calculate": "datum.median + 0.2*datum.median"
              }
             ]
            },
            {
             "encoding": {
              "color": {
               "field": "conditions",
               "type": "nominal"
              },
              "x": {
               "aggregate": "median",
               "field": "value",
               "sort": "-y",
               "title": "<w'q'> (g/m^2/s)",
               "type": "quantitative"
              },
              "y": {
               "field": "height",
               "scale": {
                "zero": true
               },
               "type": "quantitative"
              }
             },
             "mark": {
              "point": true,
              "type": "line"
             },
             "title": [
              "Stable (Nighttime)",
              "(n = 607 BS, 2818 No BS)"
             ]
            }
           ],
           "width": 150
          },
          {
           "data": {
            "format": {
             "type": "json"
            },
            "url": "altair-data-128d0876426d64207f71474b21046b06.json"
           },
           "height": 150,
           "layer": [
            {
             "encoding": {
              "color": {
               "field": "conditions",
               "type": "nominal"
              },
              "x": {
               "field": "low_bound",
               "title": "",
               "type": "quantitative"
              },
              "x2": {
               "field": "up_bound"
              },
              "y": {
               "field": "height",
               "scale": {
                "zero": true
               },
               "type": "quantitative"
              }
             },
             "mark": {
              "opacity": 0.25,
              "type": "area"
             },
             "transform": [
              {
               "aggregate": [
                {
                 "as": "median",
                 "field": "value",
                 "op": "median"
                }
               ],
               "groupby": [
                "height",
                "tower",
                "conditions"
               ]
              },
              {
               "as": "low_bound",
               "calculate": "datum.median - 0.2*datum.median"
              },
              {
               "as": "up_bound",
               "calculate": "datum.median + 0.2*datum.median"
              }
             ]
            },
            {
             "encoding": {
              "color": {
               "field": "conditions",
               "type": "nominal"
              },
              "x": {
               "aggregate": "median",
               "field": "value",
               "sort": "-y",
               "title": "<w'q'> (g/m^2/s)",
               "type": "quantitative"
              },
              "y": {
               "field": "height",
               "scale": {
                "zero": true
               },
               "type": "quantitative"
              }
             },
             "mark": {
              "point": true,
              "type": "line"
             },
             "title": [
              "Neutral (Nighttime)",
              "(n = 57 BS, 22 No BS)"
             ]
            }
           ],
           "width": 150
          }
         ],
         "resolve": {
          "scale": {
           "x": "shared",
           "y": "shared"
          }
         }
        }
       ]
      },
      "text/plain": [
       "<VegaLite 5 object>\n",
       "\n",
       "If you see this message, it means the renderer has not been properly enabled\n",
       "for the frontend that you are using. For more information, see\n",
       "https://altair-viz.github.io/user_guide/display_frontends.html#troubleshooting\n"
      ]
     },
     "execution_count": 17,
     "metadata": {},
     "output_type": "execute_result"
    }
   ],
   "source": [
    "tgrad_stable_df_day = tgrad_stable_df[tgrad_stable_df.time.dt.hour.isin([9,10,11,12,13,14,15,16,17])]\n",
    "tgrad_neutral_df_day = tgrad_neutral_df[tgrad_neutral_df.time.dt.hour.isin([9,10,11,12,13,14,15,16,17])]\n",
    "tgrad_unstable_df_day = tgrad_unstable_df[tgrad_unstable_df.time.dt.hour.isin([9,10,11,12,13,14,15,16,17])]\n",
    "\n",
    "tgrad_stable_df_night = tgrad_stable_df[tgrad_stable_df.time.dt.hour.isin([19,20,21,21,23,0,1,2,3,4,5,6])]\n",
    "tgrad_neutral_df_night = tgrad_neutral_df[tgrad_neutral_df.time.dt.hour.isin([19,20,21,21,23,0,1,2,3,4,5,6])]\n",
    "tgrad_unstable_df_night = tgrad_unstable_df[tgrad_unstable_df.time.dt.hour.isin([19,20,21,21,23,0,1,2,3,4,5,6])]\n",
    "\n",
    "vertical_flux_profiles_4_plots_day = (\n",
    "    lhflux_profile_chart_notower(\n",
    "        w_h2o__measurements_df[\n",
    "            w_h2o__measurements_df.time.dt.hour.isin([9,10,11,12,13,14,15,16,17])\n",
    "        ].query(\"tower == 'c'\").query(\"height > 1\"), \"All data (Daytime)\") |\n",
    "    lhflux_profile_chart_split_conditions(tgrad_stable_df_day.query(\"tower == 'c'\").query(\"height > 1\"), \"Stable (Daytime)\") |\n",
    "    lhflux_profile_chart_split_conditions(tgrad_neutral_df_day.query(\"tower == 'c'\").query(\"height > 1\"), \"Neutral (Daytime)\") |\n",
    "    lhflux_profile_chart_split_conditions(tgrad_unstable_df_day.query(\"tower == 'c'\").query(\"height > 1\"), \"Unstable (Daytime)\")\n",
    ").resolve_scale(x='shared', y='shared') \n",
    "\n",
    "vertical_flux_profiles_4_plots_night = (\n",
    "    lhflux_profile_chart_notower(\n",
    "        w_h2o__measurements_df[\n",
    "            w_h2o__measurements_df.time.dt.hour.isin([19,20,21,21,23,0,1,2,3,4,5,6])\n",
    "        ].query(\"tower == 'c'\").query(\"height > 1\"), \"All data (Nighttime)\") |\n",
    "    lhflux_profile_chart_split_conditions(tgrad_stable_df_night.query(\"tower == 'c'\").query(\"height > 1\"), \"Stable (Nighttime)\") |\n",
    "    lhflux_profile_chart_split_conditions(tgrad_neutral_df_night.query(\"tower == 'c'\").query(\"height > 1\"), \"Neutral (Nighttime)\")\n",
    "    # lhflux_profile_chart_split_conditions(tgrad_unstable_df_night.query(\"tower == 'c'\").query(\"height > 1\"), \"Unstable (Nighttime)\")\n",
    ").resolve_scale(x='shared', y='shared') \n",
    "(\n",
    "    vertical_flux_profiles_4_plots_day &\n",
    "    vertical_flux_profiles_4_plots_night\n",
    ")#.resolve_scale(x='shared', y='shared') "
   ]
  },
  {
   "cell_type": "markdown",
   "metadata": {},
   "source": [
    "# Create streamwise dataset"
   ]
  },
  {
   "cell_type": "code",
   "execution_count": null,
   "metadata": {},
   "outputs": [],
   "source": [
    "tidy_df_streamwise = tidy_df.swifter.groupby('time').apply(extrautils.streamwise_coordinates_single_rotation_tidy_df)\n",
    "tidy_df_streamwise = tidy_df_streamwise.reset_index(drop=True)\n",
    "\n",
    "# tidy_df_streamwise = extrautils.streamwise_coordinates_single_rotation_tidy_df(tidy_df)"
   ]
  },
  {
   "cell_type": "code",
   "execution_count": null,
   "metadata": {},
   "outputs": [],
   "source": [
    "alt.Chart(tidy_df[tidy_df.variable.isin(['u_3m_c', 'v_3m_c'])].query(\"time < '20221215'\")).mark_line().encode(\n",
    "    alt.X(\"time:T\"),\n",
    "    alt.Y(\"value:Q\"),\n",
    "    alt.Color(\"variable\")\n",
    ").properties(width=600) &\\\n",
    "alt.Chart(tidy_df_streamwise[tidy_df_streamwise.variable.isin(['u_3m_c', 'v_3m_c'])].query(\"time < '20221215'\")).mark_line().encode(\n",
    "    alt.X(\"time:T\"),\n",
    "    alt.Y(\"value:Q\"),\n",
    "    alt.Color(\"variable\")\n",
    ").properties(width=600)"
   ]
  },
  {
   "cell_type": "markdown",
   "metadata": {},
   "source": [
    "# Plot vertical profiles using the basic categories (stability and BS)"
   ]
  },
  {
   "cell_type": "code",
   "execution_count": null,
   "metadata": {},
   "outputs": [],
   "source": [
    "combo_mean_w_profile_chart = (\n",
    "        profile_chart(w_measurements_df.query(\"height > 1\"), \"All data\", '<w> (m/s)') | \n",
    "        profile_chart(bs_w_df.query(\"height > 1\"), \"BS\", '<w> (m/s)') | \n",
    "        profile_chart(nobs_w_df.query(\"height > 1\"), \"No BS\", '<w> (m/s)') |         \n",
    "        profile_chart(tgrad_stable_w_df.query(\"height > 1\"), \"Tgrad stable\", '<w> (m/s)') | \n",
    "        profile_chart(tgrad_neutral_w_df.query(\"height > 1\"), \"Tgrad Neutral\", '<w> (m/s)') | \n",
    "        profile_chart(tgrad_unstable_w_df.query(\"height > 1\"), \"Tgrad Unstable\", '<w> (m/s)') #| \n",
    ").resolve_scale(x='shared', y='shared')\n",
    "\n",
    "combo_mean_u_profile_chart = (\n",
    "        profile_chart(u_measurements_df.query(\"height > 1\"), \"All data\", '<u> (m/s)') | \n",
    "        profile_chart(bs_u_df.query(\"height > 1\"), \"BS\", '<u> (m/s)') | \n",
    "        profile_chart(nobs_u_df.query(\"height > 1\"), \"No BS\", '<u> (m/s)') |         \n",
    "        profile_chart(tgrad_stable_u_df.query(\"height > 1\"), \"Tgrad stable\", '<u> (m/s)') | \n",
    "        profile_chart(tgrad_neutral_u_df.query(\"height > 1\"), \"Tgrad Neutral\", '<u> (m/s)') | \n",
    "        profile_chart(tgrad_unstable_u_df.query(\"height > 1\"), \"Tgrad Unstable\", '<u> (m/s)') #| \n",
    ").resolve_scale(x='shared', y='shared')\n",
    "\n",
    "combo_mean_v_profile_chart = ( \n",
    "        profile_chart(v_measurements_df.query(\"height > 1\"), \"All data\", '<v> (m/s)') | \n",
    "        profile_chart(bs_v_df.query(\"height > 1\"), \"BS\", '<v> (m/s)') | \n",
    "        profile_chart(nobs_v_df.query(\"height > 1\"), \"No BS\", '<v> (m/s)') |         \n",
    "        profile_chart(tgrad_stable_v_df.query(\"height > 1\"), \"Tgrad stable\", '<v> (m/s)') | \n",
    "        profile_chart(tgrad_neutral_v_df.query(\"height > 1\"), \"Tgrad Neutral\", '<v> (m/s)') | \n",
    "        profile_chart(tgrad_unstable_v_df.query(\"height > 1\"), \"Tgrad Unstable\", '<v> (m/s)') #| \n",
    ").resolve_scale(x='shared', y='shared')\n",
    "\n",
    "combo_mean_tke_profile_chart = (\n",
    "        profile_chart(tke_measurements_df.query(\"height > 1\"), \"All data\", 'tke (m^2/s^2)') | \n",
    "        profile_chart(bs_tke_df.query(\"height > 1\"), \"BS\", 'tke (m^2/s^2)') | \n",
    "        profile_chart(nobs_tke_df.query(\"height > 1\"), \"No BS\", 'tke (m^2/s^2)') |         \n",
    "        profile_chart(tgrad_stable_tke_df.query(\"height > 1\"), \"Tgrad stable\", 'tke (m^2/s^2)') | \n",
    "        profile_chart(tgrad_neutral_tke_df.query(\"height > 1\"), \"Tgrad Neutral\", 'tke (m^2/s^2)') | \n",
    "        profile_chart(tgrad_unstable_tke_df.query(\"height > 1\"), \"Tgrad Unstable\", 'tke (m^2/s^2)') #| \n",
    ").resolve_scale(x='shared', y='shared')\n",
    "\n",
    "combo_mean_w_w__profile_chart = (\n",
    "        profile_chart(w_w__measurements_df.query(\"height > 1\"), \"All data\", \"<w'w'> (m^2/s^2)\") | \n",
    "        profile_chart(bs_w_w__df.query(\"height > 1\"), \"BS\", \"<w'w'> (m^2/s^2)\") | \n",
    "        profile_chart(nobs_w_w__df.query(\"height > 1\"), \"No BS\", \"<w'w'> (m^2/s^2)\") |\n",
    "        profile_chart(tgrad_stable_w_w__df.query(\"height > 1\"), \"Tgrad stable\", \"<w'w'> (m^2/s^2)\") | \n",
    "        profile_chart(tgrad_neutral_w_w__df.query(\"height > 1\"), \"Tgrad Neutral\", \"<w'w'> (m^2/s^2)\") | \n",
    "        profile_chart(tgrad_unstable_w_w__df.query(\"height > 1\"), \"Tgrad Unstable\", \"<w'w'> (m^2/s^2)\") #| \n",
    ").resolve_scale(x='shared', y='shared')\n",
    "\n",
    "combo_mean_q_profile_chart = (\n",
    "        profile_chart(q_measurements_df.query(\"height > 1\"), \"All data\", '<q> (m/s)') | \n",
    "        profile_chart(bs_q_df.query(\"height > 1\"), \"BS\", '<q> (m/s)') | \n",
    "        profile_chart(nobs_q_df.query(\"height > 1\"), \"No BS\", '<q> (m/s)') |         \n",
    "        profile_chart(tgrad_stable_q_df.query(\"height > 1\"), \"Tgrad stable\", '<q> (m/s)') | \n",
    "        profile_chart(tgrad_neutral_q_df.query(\"height > 1\"), \"Tgrad Neutral\", '<q> (m/s)') | \n",
    "        profile_chart(tgrad_unstable_q_df.query(\"height > 1\"), \"Tgrad Unstable\", '<q> (m/s)') #| \n",
    ").resolve_scale(x='shared', y='shared')\n",
    "\n",
    "combo_mean_w_q__profile_chart = (\n",
    "    lhflux_profile_chart(w_h2o__measurements_df.query(\"tower == 'c'\").query(\"height > 1\"), \"All data\") | \n",
    "    lhflux_profile_chart(bs_w_h2o_df.query(\"tower == 'c'\").query(\"height > 1\"), \"BS\") | \n",
    "    lhflux_profile_chart(nobs_w_h2o_df.query(\"tower == 'c'\").query(\"height > 1\"), \"No BS\") | \n",
    "    lhflux_profile_chart(tgrad_stable_w_h2o_df.query(\"tower == 'c'\").query(\"height > 1\"), \"Tgrad stable\") | \n",
    "    lhflux_profile_chart(tgrad_neutral_w_h2o_df.query(\"tower == 'c'\").query(\"height > 1\"), \"Tgrad Neutral\") | \n",
    "    lhflux_profile_chart(tgrad_unstable_w_h2o_df.query(\"tower == 'c'\").query(\"height > 1\"), \"Tgrad Unstable\") #\n",
    ").resolve_scale(x='shared', y='shared')\n",
    "\n",
    "combo_mean_u_q__profile_chart = (\n",
    "    profile_chart(u_h2o__measurements_df.query(\"height > 1\"),  \"All data\",         \"<u'q'> (g/m^2/s)\") | \n",
    "    profile_chart(bs_u_h2o_df.query(\"height > 1\"),               \"BS\",               \"<u'q'> (g/m^2/s)\") | \n",
    "    profile_chart(nobs_u_h2o_df.query(\"height > 1\"),             \"No BS\",            \"<u'q'> (g/m^2/s)\") | \n",
    "    profile_chart(tgrad_stable_u_h2o_df.query(\"height > 1\"),     \"Tgrad stable\",     \"<u'q'> (g/m^2/s)\") | \n",
    "    profile_chart(tgrad_neutral_u_h2o_df.query(\"height > 1\"),    \"Tgrad Neutral\",    \"<u'q'> (g/m^2/s)\") | \n",
    "    profile_chart(tgrad_unstable_u_h2o_df.query(\"height > 1\"),   \"Tgrad Unstable\",   \"<u'q'> (g/m^2/s)\") #\n",
    ").resolve_scale(x='shared', y='shared')\n",
    "\n",
    "combo_mean_v_q__profile_chart = (\n",
    "    profile_chart(v_h2o__measurements_df.query(\"height > 1\"),  \"All data\",         \"<v'q'> (g/m^2/s)\") | \n",
    "    profile_chart(bs_v_h2o_df.query(\"height > 1\"),               \"BS\",               \"<v'q'> (g/m^2/s)\") | \n",
    "    profile_chart(nobs_v_h2o_df.query(\"height > 1\"),             \"No BS\",            \"<v'q'> (g/m^2/s)\") | \n",
    "    profile_chart(tgrad_stable_v_h2o_df.query(\"height > 1\"),     \"Tgrad stable\",     \"<v'q'> (g/m^2/s)\") | \n",
    "    profile_chart(tgrad_neutral_v_h2o_df.query(\"height > 1\"),    \"Tgrad Neutral\",    \"<v'q'> (g/m^2/s)\") | \n",
    "    profile_chart(tgrad_unstable_v_h2o_df.query(\"height > 1\"),   \"Tgrad Unstable\",   \"<v'q'> (g/m^2/s)\") #\n",
    ").resolve_scale(x='shared', y='shared')"
   ]
  },
  {
   "cell_type": "code",
   "execution_count": null,
   "metadata": {},
   "outputs": [],
   "source": [
    "(\n",
    "    combo_mean_w_q__profile_chart & \n",
    "    combo_mean_u_q__profile_chart & \n",
    "    combo_mean_v_q__profile_chart &\n",
    "    combo_mean_w_profile_chart & \n",
    "    combo_mean_u_profile_chart &\n",
    "    combo_mean_v_profile_chart &\n",
    "    combo_mean_q_profile_chart & \n",
    "    combo_mean_tke_profile_chart &\n",
    "    combo_mean_w_w__profile_chart\n",
    ")"
   ]
  },
  {
   "cell_type": "code",
   "execution_count": null,
   "metadata": {},
   "outputs": [],
   "source": [
    "def filter_to_case_study(df):\n",
    "    return df[\n",
    "        (df.time > \"2022-12-21 1800\")\n",
    "        &\n",
    "        (df.time < \"2022-12-22 0600\")\n",
    "    ]\n",
    "\n",
    "\n",
    "lhflux_profile_chart(filter_to_case_study(w_h2o__measurements_df.query(\"tower == 'c'\").query(\"height > 1\")), \"All data\") | \\\n",
    "profile_chart(filter_to_case_study(u_h2o__measurements_df.query(\"height > 1\")),  \"All data\",         \"<u'q'> (g/m^2/s)\") | \\\n",
    "profile_chart(filter_to_case_study(w_measurements_df.query(\"height > 1\")), \"All data\", '<w> (m/s)') | \\\n",
    "profile_chart(filter_to_case_study(q_measurements_df.query(\"height > 1\")), \"All data\", '<q> (m/s)') | \\\n",
    "profile_chart(filter_to_case_study(tke_measurements_df.query(\"height > 1\")), \"All data\", 'tke (m^2/s^2)') | \\\n",
    "profile_chart(filter_to_case_study(w_w__measurements_df.query(\"height > 1\")), \"All data\", \"<w'w'> (m^2/s^2)\")\n"
   ]
  },
  {
   "cell_type": "code",
   "execution_count": null,
   "metadata": {},
   "outputs": [],
   "source": [
    "def filter_to_case_study(df):\n",
    "    return df[\n",
    "        (df.time > \"2022-12-12 1800\")\n",
    "        &\n",
    "        (df.time < \"2022-12-13 0600\")\n",
    "    ]\n",
    "\n",
    "\n",
    "lhflux_profile_chart(filter_to_case_study(w_h2o__measurements_df.query(\"tower == 'c'\").query(\"height > 1\")), \"All data\") | \\\n",
    "profile_chart(filter_to_case_study(u_h2o__measurements_df.query(\"height > 1\")),  \"All data\",         \"<u'q'> (g/m^2/s)\") | \\\n",
    "profile_chart(filter_to_case_study(w_measurements_df.query(\"height > 1\")), \"All data\", '<w> (m/s)') | \\\n",
    "profile_chart(filter_to_case_study(q_measurements_df.query(\"height > 1\")), \"All data\", '<q> (m/s)') | \\\n",
    "profile_chart(filter_to_case_study(tke_measurements_df.query(\"height > 1\")), \"All data\", 'tke (m^2/s^2)') | \\\n",
    "profile_chart(filter_to_case_study(w_w__measurements_df.query(\"height > 1\")), \"All data\", \"<w'w'> (m^2/s^2)\")\n"
   ]
  },
  {
   "cell_type": "code",
   "execution_count": null,
   "metadata": {},
   "outputs": [],
   "source": [
    "def filter_to_case_study(df):\n",
    "    return df[\n",
    "        (df.time > \"2023-03-28 0900\")\n",
    "        &\n",
    "        (df.time < \"2023-03-28 1700\")\n",
    "    ]\n",
    "\n",
    "lhflux_profile_chart(filter_to_case_study(w_h2o__measurements_df.query(\"tower == 'c'\").query(\"height > 1\")), \"All data\") | \\\n",
    "profile_chart(filter_to_case_study(u_h2o__measurements_df.query(\"height > 1\")),  \"All data\",         \"<u'q'> (g/m^2/s)\") | \\\n",
    "profile_chart(filter_to_case_study(w_measurements_df.query(\"height > 1\")), \"All data\", '<w> (m/s)') | \\\n",
    "profile_chart(filter_to_case_study(q_measurements_df.query(\"height > 1\")), \"All data\", '<q> (m/s)') | \\\n",
    "profile_chart(filter_to_case_study(tke_measurements_df.query(\"height > 1\")), \"All data\", 'tke (m^2/s^2)') | \\\n",
    "profile_chart(filter_to_case_study(w_w__measurements_df.query(\"height > 1\")), \"All data\", \"<w'w'> (m^2/s^2)\")"
   ]
  },
  {
   "cell_type": "code",
   "execution_count": null,
   "metadata": {},
   "outputs": [],
   "source": [
    "def filter_to_case_study(df):\n",
    "    return df[\n",
    "        (df.time > \"2023-05-05 0900\")\n",
    "        &\n",
    "        (df.time < \"2023-05-05 1700\")\n",
    "    ]\n",
    "\n",
    "\n",
    "lhflux_profile_chart(filter_to_case_study(w_h2o__measurements_df.query(\"tower == 'c'\").query(\"height > 1\")), \"All data\") | \\\n",
    "profile_chart(filter_to_case_study(u_h2o__measurements_df.query(\"height > 1\")),  \"All data\",         \"<u'q'> (g/m^2/s)\") | \\\n",
    "profile_chart(filter_to_case_study(w_measurements_df.query(\"height > 1\")), \"All data\", '<w> (m/s)') | \\\n",
    "profile_chart(filter_to_case_study(q_measurements_df.query(\"height > 1\")), \"All data\", '<q> (m/s)') | \\\n",
    "profile_chart(filter_to_case_study(tke_measurements_df.query(\"height > 1\")), \"All data\", 'tke (m^2/s^2)') | \\\n",
    "profile_chart(filter_to_case_study(w_w__measurements_df.query(\"height > 1\")), \"All data\", \"<w'w'> (m^2/s^2)\")"
   ]
  },
  {
   "cell_type": "markdown",
   "metadata": {},
   "source": [
    "# Plot vertical fluxes many different ways"
   ]
  },
  {
   "cell_type": "code",
   "execution_count": null,
   "metadata": {},
   "outputs": [],
   "source": [
    "rule = alt.Chart().transform_calculate(rule='0').mark_rule().encode(x='rule:Q')"
   ]
  },
  {
   "cell_type": "code",
   "execution_count": null,
   "metadata": {},
   "outputs": [],
   "source": [
    "tgrad_unstable_df_during_bs = w_h2o__measurements_df[w_h2o__measurements_df.time.isin(set(bs_times).intersection(tgrad_unstable_times))]\n",
    "tgrad_unstable_df_during_nobs = w_h2o__measurements_df[w_h2o__measurements_df.time.isin(set(nobs_times).intersection(tgrad_unstable_times))]\n",
    "\n",
    "(\n",
    "        rule + lhflux_profile_chart(tgrad_unstable_df.query(\"tower == 'c'\").query(\"height > 1\"), \"Unstable\") |\n",
    "        rule + lhflux_profile_chart(tgrad_unstable_df_during_bs.query(\"tower == 'c'\").query(\"height > 1\"), \"Unstable, BS\") |\n",
    "        rule + lhflux_profile_chart(tgrad_unstable_df_during_nobs.query(\"tower == 'c'\").query(\"height > 1\"), \"Unstable, no BS\")\n",
    ").resolve_scale(x='shared', y='shared')"
   ]
  },
  {
   "cell_type": "code",
   "execution_count": null,
   "metadata": {},
   "outputs": [],
   "source": [
    "tgrad_stable_df_during_nobs = tgrad_stable_df[~tgrad_stable_df.time.isin(bs_times)]\n",
    "tgrad_unstable_df_during_nobs = tgrad_unstable_df[~tgrad_unstable_df.time.isin(bs_times)]\n",
    "tgrad_neutral_df_during_nobs = tgrad_neutral_df[~tgrad_neutral_df.time.isin(bs_times)]\n",
    "\n",
    "nobs_lhflux_df = w_h2o__measurements_df[w_h2o__measurements_df.time.isin(nobs_times)]\n",
    "bs_lhflux_df = w_h2o__measurements_df[w_h2o__measurements_df.time.isin(bs_times)]\n",
    "\n",
    "(\n",
    "    rule + lhflux_profile_chart(w_h2o__measurements_df.query(\"height > 1\").query(\"tower == 'c'\"), \"All data\").properties(width=100, height = 100) |\n",
    "    rule + lhflux_profile_chart(\n",
    "        bs_lhflux_df.query(\"height > 1\").query(\"tower == 'c'\"), \"Blowing Snow\"\n",
    "    ).properties(width=100, height = 100) | \n",
    "    rule + lhflux_profile_chart(\n",
    "        nobs_lhflux_df.query(\"height > 1\").query(\"tower == 'c'\"), \"No blowing snow\"\n",
    ").properties(width=100, height = 100) | \n",
    "    rule + lhflux_profile_chart(tgrad_stable_df_during_nobs.query(\"tower == 'c'\").query(\"height > 1\"), \"Stable, no BS\").properties(width=100, height = 100) |\n",
    "    rule + lhflux_profile_chart(tgrad_unstable_df_during_nobs.query(\"tower == 'c'\").query(\"height > 1\"), \"Unstable, no BS\").properties(width=100, height = 100) |\n",
    "    rule + lhflux_profile_chart(tgrad_neutral_df_during_nobs.query(\"tower == 'c'\").query(\"height > 1\"), \"Neutral, no BS\").properties(width=100, height = 100)\n",
    ").resolve_scale(x='shared', y='shared')"
   ]
  },
  {
   "cell_type": "code",
   "execution_count": null,
   "metadata": {},
   "outputs": [],
   "source": [
    "(\n",
    "    lhflux_profile_chart_mg(\n",
    "        nobs_lhflux_df[\n",
    "            nobs_lhflux_df.time.dt.hour.isin([8,9,10,11,12,13,14,15,16,17,18])\n",
    "        ].query(\"height > 1\").query(\"tower == 'c'\"), \"No blowing snow, daytime\"\n",
    "    ).facet(alt.Column('month(time)', sort=[11,12])).properties(title='Daytime, no blowing snow') &\\\n",
    "    lhflux_profile_chart_mg(\n",
    "        nobs_lhflux_df[\n",
    "            nobs_lhflux_df.time.dt.hour.isin([19,20,21,22,23,0,1,2,3,4,5,6,7])\n",
    "        ].query(\"height > 1\").query(\"tower == 'c'\"), \"No blowing snow, daytime\"\n",
    "    ).facet(alt.Column('month(time)', sort=[11,12])).properties(title='Nighttime, no blowing snow')\n",
    ").resolve_scale(x='shared', y='shared', color='shared')"
   ]
  },
  {
   "cell_type": "code",
   "execution_count": null,
   "metadata": {},
   "outputs": [],
   "source": [
    "\n",
    "(\n",
    "    (\n",
    "        rule + lhflux_profile_chart_mg(\n",
    "            nobs_lhflux_df[\n",
    "                nobs_lhflux_df.time.dt.hour.isin([8,9,10,11,12,13,14,15,16,17,18])\n",
    "            ].query(\"height > 1\").query(\"tower == 'c'\"), \"No blowing snow, daytime\"\n",
    "        ).properties(width=100, height = 100) \n",
    "        |\n",
    "        rule + lhflux_profile_chart_mg(\n",
    "            bs_lhflux_df[\n",
    "                bs_lhflux_df.time.dt.hour.isin([8,9,10,11,12,13,14,15,16,17,18])\n",
    "            ].query(\"height > 1\").query(\"tower == 'c'\"), \"Blowing Snow, daytime\"\n",
    "        ).properties(width=100, height = 100)\n",
    "    ).resolve_scale(x='shared', y='shared') & (\n",
    "        rule + lhflux_profile_chart_mg(\n",
    "            nobs_lhflux_df[\n",
    "                nobs_lhflux_df.time.dt.hour.isin([19,20,21,22,23,0,1,2,3,4,5,6,7])\n",
    "            ].query(\"height > 1\").query(\"tower == 'c'\"), \"No blowing snow, nighttime\"\n",
    "        ).properties(width=100, height = 100) \n",
    "        |\n",
    "        rule + lhflux_profile_chart_mg(\n",
    "            bs_lhflux_df[\n",
    "                bs_lhflux_df.time.dt.hour.isin([19,20,21,22,23,0,1,2,3,4,5,6,7])\n",
    "            ].query(\"height > 1\").query(\"tower == 'c'\"), \"Blowing Snow, nighttime\"\n",
    "        ).properties(width=100, height = 100)\n",
    "    ).resolve_scale(x='shared', y='shared')\n",
    ").resolve_scale(x='shared', y='shared').properties(\n",
    "    title='Mean water vapor flux profiles across snow-on season'\n",
    ")"
   ]
  },
  {
   "cell_type": "code",
   "execution_count": null,
   "metadata": {},
   "outputs": [],
   "source": [
    "src_neutral = tgrad_neutral_df.query(\"tower == 'c'\").query(\"height > 1\").query(\"conditions == 'No BS'\")\n",
    "src_neutral.conditions = src_neutral.time.dt.hour\n",
    "src_neutral['conditions group'] = pd.cut(src_neutral.conditions, np.concatenate([[-0.5], np.linspace(2,24,12) + 0.5]))\n",
    "src_neutral['conditions'] = src_neutral['conditions group'].apply(lambda interval: int(interval.left))\n",
    "\n",
    "src_unstable = tgrad_unstable_df.query(\"tower == 'c'\").query(\"height > 1\").query(\"conditions == 'No BS'\")\n",
    "src_unstable.conditions = src_unstable.time.dt.hour\n",
    "src_unstable['conditions group'] = pd.cut(src_unstable.conditions, np.concatenate([[-0.5], np.linspace(2,24,12) + 0.5]))\n",
    "src_unstable['conditions'] = src_unstable['conditions group'].apply(lambda interval: int(interval.left))"
   ]
  },
  {
   "cell_type": "code",
   "execution_count": null,
   "metadata": {},
   "outputs": [],
   "source": [
    "(\n",
    "    lhflux_profile_chart_split_conditions_noerror(src_neutral, \"Neutral, No BS\", color_encoding=alt.Color(f\"conditions:O\").scale(scheme='rainbow')) |\n",
    "    lhflux_profile_chart_split_conditions_noerror(src_unstable, \"Unstable, No BS\", color_encoding=alt.Color(f\"conditions:O\").scale(scheme='rainbow')) |\n",
    "    lhflux_profile_chart_split_conditions_noerror(pd.concat([src_neutral, src_unstable]), \"Neutral and Unstable, No BS\", color_encoding=alt.Color(f\"conditions:O\").scale(scheme='rainbow'))\n",
    ")"
   ]
  },
  {
   "cell_type": "code",
   "execution_count": null,
   "metadata": {},
   "outputs": [],
   "source": [
    "(\n",
    "    lhflux_profile_chart_split_conditions_noerror(src_neutral, \"Neutral, No BS\", color_encoding=alt.Facet(f\"conditions:O\", columns=6)) &\n",
    "    lhflux_profile_chart_split_conditions_noerror(src_unstable, \"Unstable, No BS\", color_encoding=alt.Facet(f\"conditions:O\", columns=6)) &\n",
    "    lhflux_profile_chart_split_conditions_noerror(pd.concat([src_neutral, src_unstable]), \"Neutral and Unstable, No BS\", color_encoding=alt.Facet(f\"conditions:O\"))\n",
    ")"
   ]
  },
  {
   "cell_type": "code",
   "execution_count": null,
   "metadata": {},
   "outputs": [],
   "source": [
    "lateral_flux_profiles_4_plots = (\n",
    "    (\n",
    "        lhflux_profile_chart_notower(u_h2o__df_with_bs_indicator.query(\"tower == 'c'\").query(\"height > 1\"), \"All data\", x_title=\"<u'q'> (g/m^2/s)\") |\n",
    "        lhflux_profile_chart_split_conditions(u_h2o__tgrad_stable_df_with_bs_indicator.query(\"tower == 'c'\").query(\"height > 1\"), \"Stable\", x_title=\"<u'q'> (g/m^2/s)\") |\n",
    "        lhflux_profile_chart_split_conditions(u_h2o__tgrad_neutral_df_with_bs_indicator.query(\"tower == 'c'\").query(\"height > 1\"), \"Neutral\", x_title=\"<u'q'> (g/m^2/s)\") |\n",
    "        lhflux_profile_chart_split_conditions(u_h2o__tgrad_unstable_df_with_bs_indicator.query(\"tower == 'c'\").query(\"height > 1\"), \"Unstable\", x_title=\"<u'q'> (g/m^2/s)\")\n",
    "    ) & (\n",
    "        lhflux_profile_chart_notower(v_h2o__df_with_bs_indicator.query(\"tower == 'c'\").query(\"height > 1\"), \"All data\", x_title=\"<v'q'> (g/m^2/s)\") |\n",
    "        lhflux_profile_chart_split_conditions(v_h2o__tgrad_stable_df_with_bs_indicator.query(\"tower == 'c'\").query(\"height > 1\"), \"Stable\", x_title=\"<v'q'> (g/m^2/s)\") |\n",
    "        lhflux_profile_chart_split_conditions(v_h2o__tgrad_neutral_df_with_bs_indicator.query(\"tower == 'c'\").query(\"height > 1\"), \"Neutral\", x_title=\"<v'q'> (g/m^2/s)\") |\n",
    "        lhflux_profile_chart_split_conditions(v_h2o__tgrad_unstable_df_with_bs_indicator.query(\"tower == 'c'\").query(\"height > 1\"), \"Unstable\", x_title=\"<v'q'> (g/m^2/s)\")\n",
    "    )\n",
    ").resolve_scale(x='shared', y='shared') \n",
    "lateral_flux_profiles_4_plots"
   ]
  },
  {
   "cell_type": "code",
   "execution_count": null,
   "metadata": {},
   "outputs": [],
   "source": [
    "vertical_and_lateral_flux_profiles = (\n",
    "    vertical_flux_profiles_4_plots & lateral_flux_profiles_4_plots\n",
    ")\n",
    "# vertical_and_lateral_flux_profiles.save(\"../../figures/lhflux_profiles_vertical_and_lateral_mean.png\", ppi=200)\n",
    "vertical_and_lateral_flux_profiles"
   ]
  },
  {
   "cell_type": "code",
   "execution_count": null,
   "metadata": {},
   "outputs": [],
   "source": [
    "src_all_data_bs = u_h2o__df_with_bs_indicator.query(\"conditions == 'BS'\").query(\"height > 1\")\n",
    "src_stable_bs = u_h2o__tgrad_stable_df_with_bs_indicator.query(\"conditions == 'BS'\").query(\"height > 1\")\n",
    "src_neutral_bs = u_h2o__tgrad_neutral_df_with_bs_indicator.query(\"conditions == 'BS'\").query(\"height > 1\")\n",
    "src_unstable_bs = u_h2o__tgrad_unstable_df_with_bs_indicator.query(\"conditions == 'BS'\").query(\"height > 1\")\n",
    "\n",
    "src_all_data_nobs = u_h2o__df_with_bs_indicator.query(\"conditions == 'No BS'\").query(\"height > 1\")\n",
    "src_stable_nobs = u_h2o__tgrad_stable_df_with_bs_indicator.query(\"conditions == 'No BS'\").query(\"height > 1\")\n",
    "src_neutral_nobs = u_h2o__tgrad_neutral_df_with_bs_indicator.query(\"conditions == 'No BS'\").query(\"height > 1\")\n",
    "src_unstable_nobs = u_h2o__tgrad_unstable_df_with_bs_indicator.query(\"conditions == 'No BS'\").query(\"height > 1\")\n",
    "\n",
    "(\n",
    "    (\n",
    "        profile_chart(src_all_data_bs,    \"All data, BS\",   \"<u'q'> (g/m^2/s)\",     'tower:N') |\n",
    "        profile_chart(src_stable_bs,      \"Stable, BS\",     \"<u'q'> (g/m^2/s)\",     'tower:N') |\n",
    "        profile_chart(src_neutral_bs,     \"Neutral, BS\",    \"<u'q'> (g/m^2/s)\",     'tower:N') |\n",
    "        profile_chart(src_unstable_bs,    \"Unstable, BS\",   \"<u'q'> (g/m^2/s)\",     'tower:N')\n",
    "    ).resolve_scale(x='shared', y='shared') & (\n",
    "        profile_chart(src_all_data_nobs,    \"All data, No BS\",  \"<u'q'> (g/m^2/s)\", 'tower:N') |\n",
    "        profile_chart(src_stable_nobs,      \"Stable, No BS\",    \"<u'q'> (g/m^2/s)\", 'tower:N') |\n",
    "        profile_chart(src_neutral_nobs,     \"Neutral, No BS\",   \"<u'q'> (g/m^2/s)\", 'tower:N') |\n",
    "        profile_chart(src_unstable_nobs,    \"Unstable, No BS\",  \"<u'q'> (g/m^2/s)\", 'tower:N')\n",
    "    ).resolve_scale(x='shared', y='shared')\n",
    ").resolve_scale(x='shared', y='shared')"
   ]
  },
  {
   "cell_type": "code",
   "execution_count": null,
   "metadata": {},
   "outputs": [],
   "source": [
    "daytime_df = w_h2o__measurements_df[w_h2o__measurements_df.time.dt.hour.isin([10,11,12,13,14,15,16])]\n",
    "daytime_df['date'] = daytime_df.time.dt.strftime('%Y%m%d')\n",
    "daytime_df['month'] = daytime_df.time.dt.month\n",
    "daytime_daily_mean_profiles_df = daytime_df.groupby(['date', 'month', 'variable', 'height', 'tower'])[['value']].mean().reset_index()\n",
    "\n",
    "alt.Chart(\n",
    "    daytime_daily_mean_profiles_df.query(\"month == 12\").query(\"height > 2\")\n",
    ").mark_line(point=True).encode(\n",
    "    alt.X(\"mean(value):Q\").sort('-y'),\n",
    "    alt.Y(\"height\"),\n",
    "    alt.Color(\"tower:N\"),\n",
    "    alt.Facet(\"month:N\")\n",
    ").properties(width=80, height = 80) | alt.Chart(\n",
    "    daytime_daily_mean_profiles_df.query(\"month == 1\").query(\"height > 2\")\n",
    ").mark_line(point=True).encode(\n",
    "    alt.X(\"mean(value):Q\").sort('-y'),\n",
    "    alt.Y(\"height\"),\n",
    "    alt.Color(\"tower:N\"),\n",
    "    alt.Facet(\"month:N\")\n",
    ").properties(width=80, height = 80) | alt.Chart(\n",
    "    daytime_daily_mean_profiles_df.query(\"month == 2\").query(\"height > 2\")\n",
    ").mark_line(point=True).encode(\n",
    "    alt.X(\"mean(value):Q\").sort('-y'),\n",
    "    alt.Y(\"height\"),\n",
    "    alt.Color(\"tower:N\"),\n",
    "    alt.Facet(\"month:N\")\n",
    ").properties(width=80, height = 80) | alt.Chart(\n",
    "    daytime_daily_mean_profiles_df.query(\"month == 3\").query(\"height > 2\")\n",
    ").mark_line(point=True).encode(\n",
    "    alt.X(\"mean(value):Q\").sort('-y'),\n",
    "    alt.Y(\"height\"),\n",
    "    alt.Color(\"tower:N\"),\n",
    "    alt.Facet(\"month:N\")\n",
    ").properties(width=80, height = 80) | alt.Chart(\n",
    "    daytime_daily_mean_profiles_df.query(\"month == 4\").query(\"height > 2\")\n",
    ").mark_line(point=True).encode(\n",
    "    alt.X(\"mean(value):Q\").sort('-y'),\n",
    "    alt.Y(\"height\"),\n",
    "    alt.Color(\"tower:N\"),\n",
    "    alt.Facet(\"month:N\")\n",
    ").properties(width=80, height = 80) | alt.Chart(\n",
    "    daytime_daily_mean_profiles_df.query(\"month == 5\").query(\"height > 2\")\n",
    ").mark_line(point=True).encode(\n",
    "    alt.X(\"mean(value):Q\").sort('-y'),\n",
    "    alt.Y(\"height\"),\n",
    "    alt.Color(\"tower:N\"),\n",
    "    alt.Facet(\"month:N\")\n",
    ").properties(width=80, height = 80)"
   ]
  },
  {
   "cell_type": "markdown",
   "metadata": {},
   "source": [
    "# Examine how divergence varies with instrument distance from snow surface"
   ]
  },
  {
   "cell_type": "code",
   "execution_count": null,
   "metadata": {},
   "outputs": [],
   "source": [
    "div_variation = tidy_df[tidy_df.variable.isin([\n",
    "    # 'w_h2o__1m_c',\n",
    "    'w_h2o__2m_c',\n",
    "    'w_h2o__3m_c',\n",
    "    'w_h2o__5m_c',\n",
    "    'w_h2o__10m_c',\n",
    "    'w_h2o__15m_c',\n",
    "    'w_h2o__20m_c',\n",
    "    'SnowDepth_c',\n",
    "])].pivot(index='time', columns='variable', values='value').reset_index()\n",
    "div_variation['height_adj'] = 2 - div_variation['SnowDepth_c']\n",
    "\n",
    "div_variation['lhflux_div_2_3'] = (div_variation['w_h2o__3m_c'] - div_variation['w_h2o__2m_c']) / 1\n",
    "div_variation['lhflux_div_3_5'] = (div_variation['w_h2o__5m_c'] - div_variation['w_h2o__3m_c']) / 2\n",
    "div_variation['lhflux_div_5_10'] = (div_variation['w_h2o__10m_c'] - div_variation['w_h2o__5m_c']) / 5"
   ]
  },
  {
   "cell_type": "code",
   "execution_count": null,
   "metadata": {},
   "outputs": [],
   "source": [
    "chart_2_3 = alt.Chart(div_variation).transform_filter(\n",
    "    alt.datum.lhflux_div_2_3 <= 1\n",
    ").transform_filter(\n",
    "    alt.datum.lhflux_div_2_3 >= -1\n",
    ").mark_boxplot(outliers=False).encode(\n",
    "    alt.X(\"SnowDepth_c:Q\").bin(True).title(\"Snow Depth (m)\"),\n",
    "    alt.Y(\"lhflux_div_2_3:Q\").title(\"d(w'q')/dz, 2-3m\")\n",
    ") + alt.Chart().transform_calculate(y = '0').mark_rule(strokeWidth=2).encode(y='y:Q').properties(width=200, height=200)\n",
    "\n",
    "chart_3_5 = alt.Chart(div_variation).transform_filter(\n",
    "    alt.datum.lhflux_div_3_5 <= 1\n",
    ").transform_filter(\n",
    "    alt.datum.lhflux_div_3_5 >= -1\n",
    ").mark_boxplot(outliers=False).encode(\n",
    "    alt.X(\"SnowDepth_c:Q\").bin(True).title(\"Snow Depth (m)\"),\n",
    "    alt.Y(\"lhflux_div_3_5:Q\").title(\"d(w'q')/dz, 3-5m\")\n",
    ")+ alt.Chart().transform_calculate(y = '0').mark_rule(strokeWidth=2).encode(y='y:Q').properties(width=200, height=200)\n",
    "\n",
    "chart_5_10 = alt.Chart(div_variation).transform_filter(\n",
    "    alt.datum.lhflux_div_5_10 <= 1\n",
    ").transform_filter(\n",
    "    alt.datum.lhflux_div_5_10 >= -1\n",
    ").mark_boxplot(outliers=False).encode(\n",
    "    alt.X(\"SnowDepth_c:Q\").bin(True).title(\"Snow Depth (m)\"),\n",
    "    alt.Y(\"lhflux_div_5_10:Q\").title((\"d(w'q')/dz, 5-10m\"))\n",
    ")+ alt.Chart().transform_calculate(y = '0').mark_rule(strokeWidth=2).encode(y='y:Q').properties(width=200, height=200)\n",
    "\n",
    "(chart_2_3 & chart_3_5 & chart_5_10).display(renderer='svg')"
   ]
  },
  {
   "cell_type": "code",
   "execution_count": null,
   "metadata": {},
   "outputs": [],
   "source": [
    "import scipy.stats\n",
    "scipy.stats.ks_2samp"
   ]
  },
  {
   "cell_type": "code",
   "execution_count": null,
   "metadata": {},
   "outputs": [],
   "source": [
    "snow_is_deep = div_variation[['lhflux_div_2_3', 'SnowDepth_c']].query(\"SnowDepth_c > 1.2\")\n",
    "snow_is_not_deep = div_variation[['lhflux_div_2_3', 'SnowDepth_c']].query(\"SnowDepth_c <= 1.2\")\n",
    "\n",
    "scipy.stats.ks_2samp(snow_is_deep, snow_is_not_deep)"
   ]
  },
  {
   "cell_type": "code",
   "execution_count": null,
   "metadata": {},
   "outputs": [],
   "source": [
    "snow_is_deep = div_variation[['lhflux_div_3_5', 'SnowDepth_c']].query(\"SnowDepth_c > 1.2\")\n",
    "snow_is_not_deep = div_variation[['lhflux_div_3_5', 'SnowDepth_c']].query(\"SnowDepth_c <= 1.2\")\n",
    "\n",
    "scipy.stats.ks_2samp(snow_is_deep, snow_is_not_deep)"
   ]
  },
  {
   "cell_type": "markdown",
   "metadata": {},
   "source": [
    "# December wind event case study"
   ]
  },
  {
   "cell_type": "markdown",
   "metadata": {},
   "source": [
    "## Plot Vertical Profiles"
   ]
  },
  {
   "cell_type": "markdown",
   "metadata": {},
   "source": [
    "Sensible heat"
   ]
  },
  {
   "cell_type": "code",
   "execution_count": null,
   "metadata": {},
   "outputs": [],
   "source": [
    "src = tidy_df[tidy_df.variable.isin([\n",
    "    'w_tc__1m_c', 'w_tc__2m_c', 'w_tc__3m_c', 'w_tc__5m_c', 'w_tc__10m_c', 'w_tc__15m_c', 'w_tc__20m_c',\n",
    "    'w_tc__1m_ue',  'w_tc__1m_uw',  'w_tc__1m_d',\n",
    "    'w_tc__3m_ue',  'w_tc__3m_uw',  'w_tc__3m_d',\n",
    "    'w_tc__10m_ue', 'w_tc__10m_uw', 'w_tc__10m_d',\n",
    "])]\n",
    "# Tower uw was buried during this event, so lets not look at that data\n",
    "src = src.query(\"tower != 'uw'\")\n",
    "w_tc_prof_timeseries_chart = alt.Chart(\n",
    "    src[\n",
    "        src.time.dt.minute == 0\n",
    "    ].set_index('time').loc[\n",
    "        \"2022-12-21 12\": \"2022-12-21 23\"\n",
    "    ].reset_index()\n",
    ").mark_line(point=True).encode(\n",
    "        alt.X(\"mean(value):Q\").sort('-y').title(\"w'tc'\"), #.scale(domain=[-0.25,0], clamp=True),\n",
    "        alt.Y(\"height:Q\"),\n",
    "        alt.Color(\"tower:N\"),\n",
    "        # alt.Color(\"hours(time):O\"),\n",
    "        alt.Facet(\"time:T\").header(labelFontSize=0).title(None),\n",
    "    ).properties(width=75,height=75)"
   ]
  },
  {
   "cell_type": "markdown",
   "metadata": {},
   "source": [
    "Potential temperature"
   ]
  },
  {
   "cell_type": "code",
   "execution_count": null,
   "metadata": {},
   "outputs": [],
   "source": [
    "src = tidy_df[tidy_df.measurement.isin([\n",
    "    'surface potential temperature',\n",
    "    'potential temperature'\n",
    "])].query(\"tower == 'c'\")\n",
    "theta_prof_timeseries_chart = alt.Chart(\n",
    "    src[\n",
    "        src.time.dt.minute == 0\n",
    "    ].set_index('time').loc[\n",
    "        \"2022-12-21 12\": \"2022-12-21 23\"\n",
    "    ].reset_index()\n",
    ").mark_line(point=True).encode(\n",
    "        alt.X(\"mean(value):Q\").sort('-y').title(\"theta\").scale(zero=False),\n",
    "        alt.Y(\"height:Q\"),\n",
    "        # alt.Color(\"hours(time):O\"),\n",
    "        alt.Facet(\"time:T\").header(labelFontSize=0).title(None),\n",
    "        tooltip='height:Q'\n",
    "    ).properties(width=75,height=75)"
   ]
  },
  {
   "cell_type": "markdown",
   "metadata": {},
   "source": [
    "Temperature"
   ]
  },
  {
   "cell_type": "code",
   "execution_count": null,
   "metadata": {},
   "outputs": [],
   "source": [
    "src = tidy_df[tidy_df.measurement.isin([\n",
    "    'surface temperature',\n",
    "    'temperature'\n",
    "])].query(\"tower == 'c'\")\n",
    "T_prof_timeseries_chart = alt.Chart(\n",
    "    src[\n",
    "        src.time.dt.minute == 0\n",
    "    ].set_index('time').loc[\n",
    "        \"2022-12-21 12\": \"2022-12-21 23\"\n",
    "    ].reset_index()\n",
    ").mark_line(point=True).encode(\n",
    "        alt.X(\"mean(value):Q\").sort('-y').title(\"theta\").scale(zero=False),\n",
    "        alt.Y(\"height:Q\"),\n",
    "        # alt.Color(\"hours(time):O\"),\n",
    "        alt.Facet(\"time:T\").header(labelFontSize=0).title(None),\n",
    "        tooltip='height:Q'\n",
    "    ).properties(width=75,height=75)\n",
    "T_prof_timeseries_chart"
   ]
  },
  {
   "cell_type": "markdown",
   "metadata": {},
   "source": [
    "lh flux "
   ]
  },
  {
   "cell_type": "code",
   "execution_count": null,
   "metadata": {},
   "outputs": [],
   "source": [
    "src = tidy_df[tidy_df.variable.isin([\n",
    "    'w_h2o__1m_c', 'w_h2o__2m_c', 'w_h2o__3m_c', 'w_h2o__5m_c', 'w_h2o__10m_c', 'w_h2o__15m_c', 'w_h2o__20m_c',\n",
    "    'w_h2o__1m_ue',  'w_h2o__1m_uw',  'w_h2o__1m_d',\n",
    "    'w_h2o__3m_ue',  'w_h2o__3m_uw',  'w_h2o__3m_d',\n",
    "    'w_h2o__10m_ue', 'w_h2o__10m_uw', 'w_h2o__10m_d',\n",
    "])]\n",
    "# Tower uw was buried during this event, so lets not look at that data\n",
    "src = src.query(\"tower != 'uw'\")\n",
    "w_q_prof_timeseries_chart = alt.Chart(\n",
    "    src[\n",
    "        src.time.dt.minute == 0\n",
    "    ].set_index('time').loc[\n",
    "        \"2022-12-21 12\": \"2022-12-21 23\"\n",
    "    ].reset_index()\n",
    ").mark_line(point=True).encode(\n",
    "        alt.X(\"mean(value):Q\").sort('-y').scale(domain=[0, 0.05], clamp=True).title(\"w'q'\"),\n",
    "        alt.Y(\"height:Q\"),\n",
    "        alt.Color(\"tower:N\"),\n",
    "        # alt.Color(\"hours(time):O\"),\n",
    "        alt.Facet(\"time:T\").header(format=\"%m/%d %H:%M\")\n",
    "    ).properties(width=75,height=75)"
   ]
  },
  {
   "cell_type": "code",
   "execution_count": null,
   "metadata": {},
   "outputs": [],
   "source": [
    "alt.Chart(\n",
    "    src[\n",
    "        src.time.dt.minute == 0\n",
    "    ].set_index('time').loc[\n",
    "        \"2022-12-21 1955\": \"2022-12-21 2005\"\n",
    "    ].reset_index().query(\"tower == 'c'\").query(\"height <= 10\")\n",
    ").mark_line(point=True).encode(\n",
    "        alt.X(\"mean(value):Q\").sort('-y').scale(domain=[0, 0.05], clamp=True).title(\"<w'q'> (g/m^2/s)\"),\n",
    "        alt.Y(\"height:Q\").scale(domain=[0,20]).title(\"height (m)\"),\n",
    "        # alt.Color(\"tower:N\"),\n",
    "        # alt.Color(\"hours(time):O\"),\n",
    "        alt.Facet(\"time:T\").header(format=\"%m/%d %H:%M\")\n",
    "    ).properties(width=100,height=100)"
   ]
  },
  {
   "cell_type": "markdown",
   "metadata": {},
   "source": [
    "RH"
   ]
  },
  {
   "cell_type": "code",
   "execution_count": null,
   "metadata": {},
   "outputs": [],
   "source": [
    "src = tidy_df[tidy_df.measurement=='RH'].query(\"height != 6\").query(\"height != 12\")\n",
    "rh_prof_timeseries_chart = alt.Chart(\n",
    "    src[\n",
    "        src.time.dt.minute == 0\n",
    "    ].set_index('time').loc[\n",
    "        \"2022-12-21 12\": \"2022-12-21 23\"\n",
    "    ].reset_index()\n",
    ").mark_circle().encode(\n",
    "        alt.X(\"mean(value):Q\").sort('-y').title(\"RH (%)\").scale(domain=[55,75]),\n",
    "        alt.Y(\"height:Q\"),\n",
    "        alt.Color(\"tower:N\"),\n",
    "        # alt.Color(\"hours(time):O\"),\n",
    "        alt.Facet(\"time:T\").header(labelFontSize=0).title(None),\n",
    "        tooltip='height:Q'\n",
    "    ).properties(width=75,height=75)"
   ]
  },
  {
   "cell_type": "markdown",
   "metadata": {},
   "source": [
    "blowing snow time series"
   ]
  },
  {
   "cell_type": "code",
   "execution_count": null,
   "metadata": {},
   "outputs": [],
   "source": [
    "# src = tidy_df[tidy_df.variable == 'SF_avg_ue']\n",
    "src = tidy_df[tidy_df.variable.isin(['SF_avg_1m_ue', 'SF_avg_2m_ue'])]\n",
    "# src = src[src.time.isin(bs_times)]\n",
    "bs_flux_timeseries_chart = alt.Chart(\n",
    "    src.set_index('time').loc[\n",
    "        \"2022-12-21 12\": \"2022-12-21 23\"\n",
    "    ].reset_index().query(\"value > 0\")\n",
    ").mark_circle(point=True, size=75).encode(\n",
    "        alt.X(\"time:T\"),\n",
    "        alt.Y(\"value:Q\").scale(type='log').title(\"Blowing snow flux (g/m^2/s)\"),\n",
    "        alt.Color(\"height:O\")\n",
    ").properties(width=1140,height=100) \n",
    "\n",
    "src = tidy_df[tidy_df.variable.isin(['spd_3m_c', 'spd_5m_c', 'spd_20m_c'])]\n",
    "windspd_timeseries_chart = alt.Chart(\n",
    "    src.set_index('time').loc[\n",
    "        \"2022-12-21 12\": \"2022-12-21 23\"\n",
    "    ].reset_index().query(\"value > 0\")\n",
    ").mark_line().encode(\n",
    "        alt.X(\"time:T\").axis(labels=False).title(None),\n",
    "        alt.Y(\"value:Q\").title(\"Wind speed (m/s)\"),\n",
    "        alt.Color(\"height:O\")\n",
    ").properties(width=1140,height=100) \n",
    "\n",
    "\n",
    "src = tidy_df[tidy_df.variable.isin(['u*_3m_c', 'u*_5m_c', 'u*_20m_c'])]\n",
    "ufric_timeseries_chart = alt.Chart(\n",
    "    src.set_index('time').loc[\n",
    "        \"2022-12-21 12\": \"2022-12-21 23\"\n",
    "    ].reset_index().query(\"value > 0\")\n",
    ").mark_line().encode(\n",
    "        alt.X(\"time:T\").axis(labels=False).title(None),\n",
    "        alt.Y(\"value:Q\").title(\"Friction velocity (m/s)\"),\n",
    "        alt.Color(\"height:O\")\n",
    ").properties(width=1140,height=100) \n"
   ]
  },
  {
   "cell_type": "code",
   "execution_count": null,
   "metadata": {},
   "outputs": [],
   "source": [
    "(\n",
    "    ufric_timeseries_chart & windspd_timeseries_chart & bs_flux_timeseries_chart & \n",
    "    (w_q_prof_timeseries_chart & rh_prof_timeseries_chart & w_tc_prof_timeseries_chart & theta_prof_timeseries_chart)\n",
    ").resolve_scale(color='independent')"
   ]
  },
  {
   "cell_type": "markdown",
   "metadata": {},
   "source": [
    "Look at time series of Snow surface temperature, and other related variables, to see what is going on with surface temperatures during the blowing snow event"
   ]
  },
  {
   "cell_type": "code",
   "execution_count": null,
   "metadata": {},
   "outputs": [],
   "source": [
    "src = tidy_df.set_index('time').sort_index().loc[\n",
    "    \"2022-12-21 12\": \"2022-12-22 23\"\n",
    "].reset_index()\n",
    "# Create DF with renamed Tsnow variables to clarify that they are air sensors at this time because\n",
    "# snowdepth during this time period is 30-40cm, so the in-snow T sensors are ~10, 20cm above snow\n",
    "in_snow_sensors_as_air_sensors_df = src[src.variable.isin([\n",
    "    'T_2m_c',\n",
    "    'Tsnow_0_4m_d', 'Tsnow_0_5m_d', 'Tsnow_0_6m_d', 'Tsnow_0_7m_d',\n",
    "    'SnowDepth_c'\n",
    "])].pivot(index='time', columns='variable', values='value')\n",
    "in_snow_sensors_as_air_sensors_df['T_00cm_c'] = in_snow_sensors_as_air_sensors_df['Tsnow_0_4m_d']\n",
    "in_snow_sensors_as_air_sensors_df['T_10cm_c'] = in_snow_sensors_as_air_sensors_df['Tsnow_0_5m_d']\n",
    "in_snow_sensors_as_air_sensors_df['T_20cm_c'] = in_snow_sensors_as_air_sensors_df['Tsnow_0_6m_d']\n",
    "in_snow_sensors_as_air_sensors_df['T_30cm_c'] = in_snow_sensors_as_air_sensors_df['Tsnow_0_7m_d']\n",
    "in_snow_sensors_as_air_sensors_df = in_snow_sensors_as_air_sensors_df.reset_index().melt(id_vars='time')   \n",
    "\n",
    "# Create DF to hold the COARE model results we care about here\n",
    "# and to rename the run we did using the in-snow temp\n",
    "coare_model_results_local = coare_model_results[coare_model_results.config.isin([\n",
    "    \"Tsurf_d e_sat_alduchov 0.0005\",\n",
    "    \"Tsurf_c e_sat_alduchov 0.0005\",\n",
    "    \"Tsnow_0_4m_d e_sat_alduchov 0.0005\",\n",
    "])].set_index(\"time\").sort_index().loc[\n",
    "    src.time.min():src.time.max()\n",
    "].reset_index()\n",
    "coare_model_results_local.surface_measurement = coare_model_results_local.surface_measurement.replace(\n",
    "    \"Tsnow_0_4m_d\",\n",
    "    'T_00cm_c'\n",
    ")\n",
    "\n",
    "bs_case_study =(alt.Chart(src[src.variable == 'SF_avg_ue']).mark_line().encode(\n",
    "    alt.X(\"time:T\").axis(labels=False).title(None),\n",
    "    alt.Y(\"value:Q\").title(\"BS flux (g/m^2/s)\"),\n",
    ").properties(height = 100) &\\\n",
    "alt.Chart(in_snow_sensors_as_air_sensors_df[in_snow_sensors_as_air_sensors_df.variable.isin(\n",
    "    ['T_00cm_c', 'T_10cm_c', 'T_20cm_c', 'T_30cm_c', 'T_2m_c']\n",
    ")]).mark_line().encode(\n",
    "    alt.X(\"time:T\").axis(labels=False).title(None),\n",
    "    alt.Y(\"value:Q\").title(\"Temp. (˚C)\"),\n",
    "    alt.Color(\"variable:O\").scale(\n",
    "        domain = ['T_00cm_c', 'T_10cm_c', 'T_20cm_c', 'T_30cm_c', 'T_2m_c'],\n",
    "        range=['lightsteelblue', 'cornflowerblue', 'royalblue', 'blue', 'black']\n",
    "    ).title([\"Temp. Measurement\", \"(near-surface and air)\"]),\n",
    ").resolve_scale(x='shared', y='independent', color='independent').properties(height = 100) &\\\n",
    "alt.Chart(src[src.variable.isin([\n",
    "    'T_2m_c',\n",
    "    'Tsurf_d',\n",
    "    'Tsurf_c',\n",
    "    'Tsurf_uw',\n",
    "    'Tsurf_ue',\n",
    "    'Tsurf_rad_d',\n",
    "])]).mark_line().encode(\n",
    "    alt.X(\"time:T\").axis(labels=False).title(None),\n",
    "    alt.Y(\"value:Q\").title(\"Temp. (˚C)\"),\n",
    "    alt.Color(\"variable:O\").scale(range=[\n",
    "        'black', '#1f77b4', '#ff7f0e', '#2ca02c', '#d62728', '#9467bd'\n",
    "    ]).title([\"Temp. Measurement\", \"(surface and air)\"]),\n",
    "    detail='variable'\n",
    ").resolve_scale(x='shared', y='independent').properties(height = 100)).resolve_scale(color='independent', strokeDash='independent') &\\\n",
    "alt.Chart(\n",
    "    tidy_df.query(\"variable == 'w_h2o__3m_c'\").set_index(\"time\").loc[\n",
    "        \"20221221\": \"20221223\"\n",
    "    ].reset_index()\n",
    ").mark_line(color='black').encode(\n",
    "    alt.X(\"time:T\"),\n",
    "    alt.Y(\"value:Q\"),\n",
    ").properties(height = 100) + alt.Chart(\n",
    "    coare_model_results_local\n",
    ").mark_line().encode(\n",
    "    alt.X(\"time:T\"),\n",
    "    alt.Y(\"hlb_gperm2s\").title(\"w'q' (g/m^s/2)\"),\n",
    "    alt.Color(\"surface_measurement\").title([\n",
    "        \"Tsurf used for\",\n",
    "        \"model input\"\n",
    "    ])\n",
    ")"
   ]
  },
  {
   "cell_type": "code",
   "execution_count": null,
   "metadata": {},
   "outputs": [],
   "source": [
    "src = tidy_df.set_index('time').sort_index().loc[\n",
    "    \"20230210\": \"20230212\"\n",
    "].reset_index()\n",
    "# rename the Tsnow variables so clarify that the snowdepth during this time period is 88cm, \n",
    "# so the in-snow T sensors are actually ~10, 20, cm above the snow surface\n",
    "# When we looked at T sensors at 80cm and 90cm, they were clearly under snow (signal attenuated)\n",
    "# So we think its a decent estimate that the snow by the instrument is actually ~1m deep\n",
    "in_snow_sensors_as_air_sensors_df = src[src.variable.isin([\n",
    "    'T_2m_c',\n",
    "    'Tsnow_1_0m_d',\n",
    "    'Tsnow_1_1m_d',\n",
    "    'Tsnow_1_2m_d',\n",
    "    'Tsnow_1_3m_d',\n",
    "    # 'Tsnow_1_4m_d',\n",
    "    'SnowDepth_c'\n",
    "])].pivot(index='time', columns='variable', values='value')\n",
    "in_snow_sensors_as_air_sensors_df['T_00cm_c'] = in_snow_sensors_as_air_sensors_df['Tsnow_1_0m_d']\n",
    "in_snow_sensors_as_air_sensors_df['T_10cm_c'] = in_snow_sensors_as_air_sensors_df['Tsnow_1_1m_d']\n",
    "in_snow_sensors_as_air_sensors_df['T_20cm_c'] = in_snow_sensors_as_air_sensors_df['Tsnow_1_2m_d']\n",
    "in_snow_sensors_as_air_sensors_df['T_30cm_c'] = in_snow_sensors_as_air_sensors_df['Tsnow_1_3m_d']\n",
    "in_snow_sensors_as_air_sensors_df = in_snow_sensors_as_air_sensors_df.reset_index().melt(id_vars='time')\n",
    "\n",
    "# Create DF to hold the COARE model results we care about here\n",
    "# and to rename the run we did using the in-snow temp\n",
    "coare_model_results_local = coare_model_results[coare_model_results.config.isin([\n",
    "    \"Tsurf_d e_sat_alduchov 0.0005\",\n",
    "    \"Tsurf_c e_sat_alduchov 0.0005\",\n",
    "    \"Tsnow_1_0m_d e_sat_alduchov 0.0005\",\n",
    "])].set_index(\"time\").sort_index().loc[\n",
    "    src.time.min():src.time.max()\n",
    "].reset_index()\n",
    "coare_model_results_local.surface_measurement = coare_model_results_local.surface_measurement.replace(\n",
    "    'Tsnow_1_0m_d',\n",
    "    'T_00cm_c'\n",
    ")\n",
    "\n",
    "clear_case_study = (alt.Chart(src[src.variable == 'SF_avg_ue']).mark_line().encode(\n",
    "    alt.X(\"time:T\").axis(labels=False).title(None),\n",
    "    alt.Y(\"value:Q\").title(\"BS flux (g/m^2/s)\"),\n",
    ").properties(height = 100) &\\\n",
    "alt.Chart(in_snow_sensors_as_air_sensors_df[in_snow_sensors_as_air_sensors_df.variable.isin(\n",
    "    ['T_2m_c', 'T_00cm_c', 'T_10cm_c', 'T_20cm_c','T_30cm_c']\n",
    ")]).mark_line().encode(\n",
    "    alt.X(\"time:T\").axis(labels=False).title(None),\n",
    "    alt.Y(\"value:Q\").title(\"Temp. (˚C)\"),\n",
    "    alt.Color(\"variable:O\").scale(\n",
    "        domain = ['T_00cm_c', 'T_10cm_c', 'T_20cm_c','T_30cm_c', 'T_2m_c', ],\n",
    "        range=['lightsteelblue', 'cornflowerblue', 'royalblue', 'blue', 'black']\n",
    "    ).title([\"Temp. Measurement\", \"(near-surface and air)\"]),\n",
    "    # alt.StrokeDash(\"measurement:N\"),\n",
    "    detail='variable'\n",
    ").resolve_scale(x='shared', y='independent', color='independent').properties(height = 100) &\\\n",
    "alt.Chart(src[src.variable.isin([\n",
    "    'T_2m_c',\n",
    "    'Tsurf_d',\n",
    "    'Tsurf_c',\n",
    "    'Tsurf_uw',\n",
    "    'Tsurf_ue',\n",
    "    'Tsurf_rad_d',\n",
    "])]).mark_line().encode(\n",
    "    alt.X(\"time:T\").axis(labels=False).title(None),\n",
    "    alt.Y(\"value:Q\").title(\"Temp. (˚C)\"),\n",
    "    alt.Color(\"variable:O\").scale(range=[\n",
    "        'black', '#1f77b4', '#ff7f0e', '#2ca02c', '#d62728', '#9467bd'\n",
    "    ]).title([\"Temp. Measurement\", \"(surface and air)\"]),\n",
    "    # alt.StrokeDash(\"measurement:N\"),\n",
    "    detail='variable'\n",
    ").resolve_scale(x='shared', y='independent').properties(height = 100)).resolve_scale(color='independent', strokeDash='independent') &\\\n",
    "alt.Chart(\n",
    "    tidy_df.query(\"variable == 'w_h2o__3m_c'\").set_index(\"time\").loc[\n",
    "        \"20230210\": \"20230212\"\n",
    "    ].reset_index()\n",
    ").mark_line(color='black').encode(\n",
    "    alt.X(\"time:T\"),\n",
    "    alt.Y(\"value:Q\")\n",
    ").properties(height = 100) + alt.Chart(\n",
    "    coare_model_results_local\n",
    ").mark_line().encode(\n",
    "    alt.X(\"time:T\"),\n",
    "    alt.Y(\"hlb_gperm2s\").title(\"w'q' (g/m^s/2)\"),\n",
    "    alt.Color(\"surface_measurement:N\").title([\n",
    "        \"Tsurf used for\",\n",
    "        \"model input\"\n",
    "    ])\n",
    ")"
   ]
  },
  {
   "cell_type": "code",
   "execution_count": null,
   "metadata": {},
   "outputs": [],
   "source": [
    "(bs_case_study | clear_case_study)"
   ]
  },
  {
   "cell_type": "code",
   "execution_count": null,
   "metadata": {},
   "outputs": [],
   "source": []
  }
 ],
 "metadata": {
  "kernelspec": {
   "display_name": "arm",
   "language": "python",
   "name": "python3"
  },
  "language_info": {
   "codemirror_mode": {
    "name": "ipython",
    "version": 3
   },
   "file_extension": ".py",
   "mimetype": "text/x-python",
   "name": "python",
   "nbconvert_exporter": "python",
   "pygments_lexer": "ipython3",
   "version": "3.12.5"
  }
 },
 "nbformat": 4,
 "nbformat_minor": 2
}
