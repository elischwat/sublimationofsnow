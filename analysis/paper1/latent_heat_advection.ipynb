{
 "cells": [
  {
   "cell_type": "code",
   "execution_count": 1,
   "metadata": {},
   "outputs": [],
   "source": [
    "import numpy as np\n",
    "import pandas as pd\n",
    "from sublimpy import utils, tidy\n",
    "import altair as alt\n",
    "alt.data_transformers.enable('json')\n",
    "from scipy import interpolate\n",
    "\n",
    "import swifter\n",
    "import xarray as xr\n",
    "import tqdm\n",
    "import matplotlib.pyplot as plt\n",
    "from metpy.units import units\n",
    "\n",
    "import datetime as dt\n",
    "from sklearn.metrics import r2_score\n",
    "from metpy.units import units\n",
    "import math \n",
    "import geopandas as gpd"
   ]
  },
  {
   "cell_type": "code",
   "execution_count": 2,
   "metadata": {},
   "outputs": [],
   "source": [
    "HEIGHTS = [1,3,10]\n",
    "HORIZ_GRID_SPACING = 50\n",
    "VERT_GRID_SPACING = 20\n",
    "\n",
    "data_start_date = '20221129 2330'\n",
    "data_cutoff_date = '20230509 0000'\n",
    "\n",
    "## PARAMETERS FOR SOS DATA\n",
    "# streamwise coordinates\n",
    "sos_tidy_fn = f\"process_slow_data/tidy_df_20221101_20230619_planar_fit_multiplane_STRAIGHTUP_q7_flags9000_pf10.parquet\"\n",
    "sos_tidy_fn_single_pf = f\"process_slow_data/tidy_df_20221101_20230619_planar_fit_multiplane_STRAIGHTUP_q7_flags9000_archive.parquet\"\n",
    "\n",
    "## PARAMETERS FOR SPLASH DATA\n",
    "# download dir\n",
    "avp_download_dir = \"/Users/elischwat/Development/data/sublimationofsnow/asfs/ASFS-50_Level2_SPLASH2021-2023/\"\n",
    "kps_download_dir = \"/Users/elischwat/Development/data/sublimationofsnow/asfs/ASFS-30_Level2_SPLASH2021-2023/\"\n",
    "\n",
    "ftp_url = 'ftp1.esrl.noaa.gov'\n",
    "# Avery Picnic product\n",
    "avp_url = f'Observations/Campaigns/SPLASH/asfs50/2_level_ingest/'\n",
    "# Kettle Ponds product\n",
    "kps_url = f'Observations/Campaigns/SPLASH/asfs30/2_level_ingest/'"
   ]
  },
  {
   "cell_type": "markdown",
   "metadata": {},
   "source": [
    "# Open data"
   ]
  },
  {
   "cell_type": "markdown",
   "metadata": {},
   "source": [
    "## SOS"
   ]
  },
  {
   "cell_type": "code",
   "execution_count": 3,
   "metadata": {},
   "outputs": [
    {
     "name": "stderr",
     "output_type": "stream",
     "text": [
      "/var/folders/x_/2h52bcjx2px15bhmdpdd748h0000gn/T/ipykernel_49359/831388400.py:7: UserWarning: Boolean Series key will be reindexed to match DataFrame index.\n",
      "  tidy_df = tidy_df[tidy_df.time > data_start_date][tidy_df.time < data_cutoff_date]\n",
      "/var/folders/x_/2h52bcjx2px15bhmdpdd748h0000gn/T/ipykernel_49359/831388400.py:16: UserWarning: Boolean Series key will be reindexed to match DataFrame index.\n",
      "  tidy_df_single_pf = tidy_df_single_pf[tidy_df_single_pf.time > data_start_date][tidy_df_single_pf.time < data_cutoff_date]\n"
     ]
    }
   ],
   "source": [
    "tidy_df = pd.read_parquet(sos_tidy_fn)\n",
    "# Convert data timezone to local and clean up data on the ends\n",
    "# convert time column to datetime\n",
    "tidy_df['time'] = pd.to_datetime(tidy_df['time'])\n",
    "tidy_df = utils.modify_df_timezone(tidy_df, 'UTC', 'US/Mountain')\n",
    "# limit data to our dates of interest, based on continuous snow cover at Kettle Ponds\n",
    "tidy_df = tidy_df[tidy_df.time > data_start_date][tidy_df.time < data_cutoff_date]\n",
    "tidy_df = tidy_df.set_index('time').sort_index().loc[data_start_date:data_cutoff_date].reset_index()\n",
    "\n",
    "tidy_df_single_pf = pd.read_parquet(sos_tidy_fn_single_pf)\n",
    "# Convert data timezone to local and clean up data on the ends\n",
    "# convert time column to datetime\n",
    "tidy_df_single_pf['time'] = pd.to_datetime(tidy_df_single_pf['time'])\n",
    "tidy_df_single_pf = utils.modify_df_timezone(tidy_df_single_pf, 'UTC', 'US/Mountain')\n",
    "# limit data to our dates of interest, based on continuous snow cover at Kettle Ponds\n",
    "tidy_df_single_pf = tidy_df_single_pf[tidy_df_single_pf.time > data_start_date][tidy_df_single_pf.time < data_cutoff_date]\n",
    "tidy_df_single_pf = tidy_df_single_pf.set_index('time').sort_index().loc[data_start_date:data_cutoff_date].reset_index()"
   ]
  },
  {
   "cell_type": "code",
   "execution_count": 4,
   "metadata": {},
   "outputs": [
    {
     "data": {
      "text/plain": [
       "(Timestamp('2022-11-30 00:00:00'), Timestamp('2023-05-08 23:30:00'))"
      ]
     },
     "execution_count": 4,
     "metadata": {},
     "output_type": "execute_result"
    }
   ],
   "source": [
    "tidy_df.time.min(), tidy_df.time.max()"
   ]
  },
  {
   "cell_type": "code",
   "execution_count": 5,
   "metadata": {},
   "outputs": [
    {
     "name": "stdout",
     "output_type": "stream",
     "text": [
      "1534\n",
      "1513\n"
     ]
    }
   ],
   "source": [
    "print(len(tidy_df.query(\"variable == 'T_3m_c'\").set_index('time').loc['20230301':'20230401']))\n",
    "print(len(tidy_df.query(\"variable == 'T_3m_c'\").set_index('time').loc['20230301':'20230401'].dropna()))"
   ]
  },
  {
   "cell_type": "code",
   "execution_count": 6,
   "metadata": {},
   "outputs": [
    {
     "name": "stdout",
     "output_type": "stream",
     "text": [
      "1488\n",
      "1488\n"
     ]
    }
   ],
   "source": [
    "print(len(tidy_df.query(\"variable == 'T_3m_c'\").set_index('time').loc['20230401':'20230501']))\n",
    "print(len(tidy_df.query(\"variable == 'T_3m_c'\").set_index('time').loc['20230401':'20230501'].dropna()))"
   ]
  },
  {
   "cell_type": "code",
   "execution_count": 7,
   "metadata": {},
   "outputs": [
    {
     "data": {
      "text/plain": [
       "value\n",
       "(292, 332]    0.454391\n",
       "(80, 140]     0.214632\n",
       "(0, 80]       0.147756\n",
       "(332, 360]    0.102343\n",
       "(140, 292]    0.080879\n",
       "Name: count, dtype: float64"
      ]
     },
     "execution_count": 7,
     "metadata": {},
     "output_type": "execute_result"
    }
   ],
   "source": [
    "src = tidy_df.query(f\"variable == 'dir_3m_c'\")['value'].dropna()\n",
    "pd.cut(\n",
    "    src,\n",
    "    [0,80, 140, 292,332, 360]\n",
    ").value_counts() / len(src)"
   ]
  },
  {
   "cell_type": "markdown",
   "metadata": {},
   "source": [
    "## SPLASH"
   ]
  },
  {
   "cell_type": "code",
   "execution_count": 8,
   "metadata": {},
   "outputs": [
    {
     "name": "stderr",
     "output_type": "stream",
     "text": [
      "100%|██████████| 646/646 [00:35<00:00, 18.27it/s]\n"
     ]
    }
   ],
   "source": [
    "\n",
    "# Get the list of files in the directory\n",
    "file_list = os.listdir(kps_download_dir)\n",
    "\n",
    "# file_list = [f for f in file_list if 'sledmet.asfs30.level2.0.1min.' in f]\n",
    "file_list = [f for f in file_list if 'sledmet.asfs30.level2.0.1min.' in f]\n",
    "\n",
    "# Sort the file list\n",
    "file_list.sort()\n",
    "\n",
    "# Create an empty list to store the dataarrays\n",
    "mixingratio_dataarray_list = []\n",
    "abshum_dataarray_list = []\n",
    "snowdepth_list = []\n",
    "temp_dataarray_list = []\n",
    "rh_dataarray_list = []\n",
    "w_dataarray_list = []\n",
    "\n",
    "# Iterate over each file with tqdm\n",
    "for file_name in tqdm.tqdm(file_list):\n",
    "    # Open the file using xarray\n",
    "    dataset = xr.open_dataset(os.path.join(kps_download_dir, file_name))\n",
    "    \n",
    "    # Extract the dataarray for the variable 'mixing_ratio', Add the dataarray to the list\n",
    "    mixingratio_dataarray_list.append(dataset['mixing_ratio'])\n",
    "    abshum_dataarray_list.append(dataset['h2o_licor'])\n",
    "    snowdepth_list.append(dataset['snow_depth'])\n",
    "    temp_dataarray_list.append(dataset['temp'])  # Add this line\n",
    "    rh_dataarray_list.append(dataset['rh'])  # Add this line\n",
    "    w_dataarray_list.append(dataset['wspd_w_mean'])  # Add this line\n",
    "\n",
    "mixingratio_ds = xr.concat(mixingratio_dataarray_list, dim='time')\n",
    "mixingratio_ds = utils.modify_xarray_timezone(mixingratio_ds, 'UTC', 'US/Mountain')\n",
    "abshum_ds = xr.concat(abshum_dataarray_list, dim='time')\n",
    "abshum_ds = utils.modify_xarray_timezone(abshum_ds, 'UTC', 'US/Mountain')\n",
    "annex_snowdepth_ds = xr.concat(snowdepth_list, dim='time')\n",
    "annex_snowdepth_ds = utils.modify_xarray_timezone(annex_snowdepth_ds, 'UTC', 'US/Mountain')\n",
    "temp_ds = xr.concat(temp_dataarray_list, dim='time')\n",
    "temp_ds = utils.modify_xarray_timezone(temp_ds, 'UTC', 'US/Mountain')\n",
    "rh_ds = xr.concat(rh_dataarray_list, dim='time')\n",
    "rh_ds = utils.modify_xarray_timezone(rh_ds, 'UTC', 'US/Mountain')\n",
    "w_ds = xr.concat(w_dataarray_list, dim='time')\n",
    "w_ds = utils.modify_xarray_timezone(w_ds, 'UTC', 'US/Mountain')"
   ]
  },
  {
   "cell_type": "markdown",
   "metadata": {},
   "source": [
    "# Create categories"
   ]
  },
  {
   "cell_type": "code",
   "execution_count": 9,
   "metadata": {},
   "outputs": [
    {
     "data": {
      "text/plain": [
       "(1409, 3891)"
      ]
     },
     "execution_count": 9,
     "metadata": {},
     "output_type": "execute_result"
    }
   ],
   "source": [
    "# Identify lists of timestamps for different categories\n",
    "bs_times = list(pd.to_datetime(list(set(\n",
    "    tidy_df.query(\"variable == 'SF_avg_1m_ue'\").query(\"value > 0\").time\n",
    ").union(\n",
    "    set(tidy_df.query(\"variable == 'SF_avg_2m_ue'\").query(\"value > 0\").time)\n",
    "))))\n",
    "nobs_times = list(pd.to_datetime(list(set(tidy_df.time).difference(bs_times))))\n",
    "\n",
    "decoupled_times = list(pd.to_datetime(tidy_df.query(\"variable == 'omega_3m_c'\").query(\"value < 0.43\").time))\n",
    "weaklycoupled_times = list(pd.to_datetime(tidy_df.query(\"variable == 'omega_3m_c'\").query(\"value >= 0.43\").query(\"value <= 0.61\").time))\n",
    "coupled_times = list(pd.to_datetime(tidy_df.query(\"variable == 'omega_3m_c'\").query(\"value > 0.61\").time))\n",
    "\n",
    "ri_stable_times = list(pd.to_datetime(tidy_df.query(\"variable == 'Ri_3m_c'\").query(\"value > 0.25\").time))\n",
    "ri_unstable_times = list(pd.to_datetime(tidy_df.query(\"variable == 'Ri_3m_c'\").query(\"value < -0.01\").time))\n",
    "ri_neutral_times = list(pd.to_datetime(tidy_df.query(\"variable == 'Ri_3m_c'\").query(\"value >= -0.01\").query(\"value <= 0.25\").time))\n",
    "\n",
    "tgrad_stable_times = list(pd.to_datetime(tidy_df.query(\"variable == 'temp_gradient_3m_c'\").query(\"value > 0.01\").time))\n",
    "tgrad_unstable_times = list(pd.to_datetime(tidy_df.query(\"variable == 'temp_gradient_3m_c'\").query(\"value < -0.01\").time))\n",
    "tgrad_neutral_times = list(pd.to_datetime(tidy_df.query(\"variable == 'temp_gradient_3m_c'\").query(\"value >= -0.01\").query(\"value <= 0.01\").time))\n",
    "\n",
    "upvalley_wind_times = list(pd.to_datetime(tidy_df[tidy_df.variable == 'dir_3m_c'].query(\"value < 152\").query(\"value > 92\").time.values))\n",
    "downvalley_wind_times = list(pd.to_datetime(tidy_df[tidy_df.variable == 'dir_3m_c'].query(\"value < 342\").query(\"value > 292\").time.values))\n",
    "\n",
    "downvalley_nobs_times = set(downvalley_wind_times).intersection(set(nobs_times))\n",
    "upvalley_nobs_times = set(upvalley_wind_times).intersection(set(nobs_times))\n",
    "\n",
    "len(upvalley_wind_times),len(downvalley_wind_times)"
   ]
  },
  {
   "cell_type": "code",
   "execution_count": 10,
   "metadata": {},
   "outputs": [
    {
     "name": "stdout",
     "output_type": "stream",
     "text": [
      "2899\n",
      "296\n",
      "4460\n",
      "7014\n",
      "229\n",
      "415\n"
     ]
    }
   ],
   "source": [
    "print(len(ri_stable_times))\n",
    "print(len(ri_unstable_times))\n",
    "print(len(ri_neutral_times))\n",
    "print(len(tgrad_stable_times))\n",
    "print(len(tgrad_unstable_times))\n",
    "print(len(tgrad_neutral_times))"
   ]
  },
  {
   "cell_type": "markdown",
   "metadata": {},
   "source": [
    "# Compare Vertical velocities for the two datasets (10-sector PF vs normal PF)"
   ]
  },
  {
   "cell_type": "code",
   "execution_count": 11,
   "metadata": {},
   "outputs": [],
   "source": [
    "w_chart_all_data = (\n",
    "    alt.Chart(\n",
    "        tidy_df.query(\"measurement == 'w'\").query(\"tower == 'c'\").query(\"height > 1\")\n",
    "    ).mark_line().encode(\n",
    "        alt.X('hoursminutes(time):T'),\n",
    "        alt.Y('mean(value):Q'),\n",
    "        alt.Color('height:O')\n",
    "    ).properties(width=200, height=200, title = 'Planar fit with 10 sectors') | alt.Chart(\n",
    "        tidy_df_single_pf.query(\"measurement == 'w'\").query(\"tower == 'c'\").query(\"height > 1\")\n",
    "    ).mark_line().encode(\n",
    "        alt.X('hoursminutes(time):T'),\n",
    "        alt.Y('mean(value):Q'),\n",
    "        alt.Color('height:O').scale(scheme='turbo')\n",
    "    ).properties(width=200, height=200, title = 'Planar Fit')\n",
    ").resolve_scale(y='shared', x='shared', color='shared').properties(title= \"All Data\")"
   ]
  },
  {
   "cell_type": "code",
   "execution_count": 12,
   "metadata": {},
   "outputs": [],
   "source": [
    "w_chart_upvalley_winds = (\n",
    "    alt.Chart(\n",
    "        tidy_df[tidy_df.time.isin(upvalley_wind_times)].query(\"measurement == 'w'\").query(\"tower == 'c'\").query(\"height > 1\")\n",
    "    ).mark_line().encode(\n",
    "        alt.X('hours(time):T'),\n",
    "        alt.Y('median(value):Q'),\n",
    "        alt.Color('height:O')\n",
    "    ).properties(width=200, height=200, title='Planar fit with 10 sectors') | alt.Chart(\n",
    "        tidy_df_single_pf[tidy_df_single_pf.time.isin(upvalley_wind_times)].query(\"measurement == 'w'\").query(\"tower == 'c'\").query(\"height > 1\")\n",
    "    ).mark_line().encode(\n",
    "        alt.X('hours(time):T'),\n",
    "        alt.Y('median(value):Q'),\n",
    "        alt.Color('height:O').scale(scheme='turbo')\n",
    "    ).properties(width=200, height=200, title='Planar Fit')\n",
    ").resolve_scale(y='shared', x='shared', color='shared').properties(title= \"During Upvalley Winds\")"
   ]
  },
  {
   "cell_type": "code",
   "execution_count": 13,
   "metadata": {},
   "outputs": [
    {
     "data": {
      "text/html": [
       "\n",
       "<style>\n",
       "  #altair-viz-a5e76e7a932a47f4b5b930fdcf122ef4.vega-embed {\n",
       "    width: 100%;\n",
       "    display: flex;\n",
       "  }\n",
       "\n",
       "  #altair-viz-a5e76e7a932a47f4b5b930fdcf122ef4.vega-embed details,\n",
       "  #altair-viz-a5e76e7a932a47f4b5b930fdcf122ef4.vega-embed details summary {\n",
       "    position: relative;\n",
       "  }\n",
       "</style>\n",
       "<div id=\"altair-viz-a5e76e7a932a47f4b5b930fdcf122ef4\"></div>\n",
       "<script type=\"text/javascript\">\n",
       "  var VEGA_DEBUG = (typeof VEGA_DEBUG == \"undefined\") ? {} : VEGA_DEBUG;\n",
       "  (function(spec, embedOpt){\n",
       "    let outputDiv = document.currentScript.previousElementSibling;\n",
       "    if (outputDiv.id !== \"altair-viz-a5e76e7a932a47f4b5b930fdcf122ef4\") {\n",
       "      outputDiv = document.getElementById(\"altair-viz-a5e76e7a932a47f4b5b930fdcf122ef4\");\n",
       "    }\n",
       "    const paths = {\n",
       "      \"vega\": \"https://cdn.jsdelivr.net/npm/vega@5?noext\",\n",
       "      \"vega-lib\": \"https://cdn.jsdelivr.net/npm/vega-lib?noext\",\n",
       "      \"vega-lite\": \"https://cdn.jsdelivr.net/npm/vega-lite@5.20.1?noext\",\n",
       "      \"vega-embed\": \"https://cdn.jsdelivr.net/npm/vega-embed@6?noext\",\n",
       "    };\n",
       "\n",
       "    function maybeLoadScript(lib, version) {\n",
       "      var key = `${lib.replace(\"-\", \"\")}_version`;\n",
       "      return (VEGA_DEBUG[key] == version) ?\n",
       "        Promise.resolve(paths[lib]) :\n",
       "        new Promise(function(resolve, reject) {\n",
       "          var s = document.createElement('script');\n",
       "          document.getElementsByTagName(\"head\")[0].appendChild(s);\n",
       "          s.async = true;\n",
       "          s.onload = () => {\n",
       "            VEGA_DEBUG[key] = version;\n",
       "            return resolve(paths[lib]);\n",
       "          };\n",
       "          s.onerror = () => reject(`Error loading script: ${paths[lib]}`);\n",
       "          s.src = paths[lib];\n",
       "        });\n",
       "    }\n",
       "\n",
       "    function showError(err) {\n",
       "      outputDiv.innerHTML = `<div class=\"error\" style=\"color:red;\">${err}</div>`;\n",
       "      throw err;\n",
       "    }\n",
       "\n",
       "    function displayChart(vegaEmbed) {\n",
       "      vegaEmbed(outputDiv, spec, embedOpt)\n",
       "        .catch(err => showError(`Javascript Error: ${err.message}<br>This usually means there's a typo in your chart specification. See the javascript console for the full traceback.`));\n",
       "    }\n",
       "\n",
       "    if(typeof define === \"function\" && define.amd) {\n",
       "      requirejs.config({paths});\n",
       "      require([\"vega-embed\"], displayChart, err => showError(`Error loading script: ${err.message}`));\n",
       "    } else {\n",
       "      maybeLoadScript(\"vega\", \"5\")\n",
       "        .then(() => maybeLoadScript(\"vega-lite\", \"5.20.1\"))\n",
       "        .then(() => maybeLoadScript(\"vega-embed\", \"6\"))\n",
       "        .catch(showError)\n",
       "        .then(() => displayChart(vegaEmbed));\n",
       "    }\n",
       "  })({\"config\": {\"view\": {\"continuousWidth\": 300, \"continuousHeight\": 300}, \"title\": {\"anchor\": \"middle\"}}, \"vconcat\": [{\"hconcat\": [{\"data\": {\"url\": \"altair-data-fb2c5fc633448eebb150390b8aad935b.json\", \"format\": {\"type\": \"json\"}}, \"mark\": {\"type\": \"line\"}, \"encoding\": {\"color\": {\"field\": \"height\", \"type\": \"ordinal\"}, \"x\": {\"field\": \"time\", \"timeUnit\": \"hoursminutes\", \"type\": \"temporal\"}, \"y\": {\"aggregate\": \"mean\", \"field\": \"value\", \"type\": \"quantitative\"}}, \"height\": 200, \"title\": \"Planar fit with 10 sectors\", \"width\": 200}, {\"data\": {\"url\": \"altair-data-52de2f9ac78926583c585014540b41ed.json\", \"format\": {\"type\": \"json\"}}, \"mark\": {\"type\": \"line\"}, \"encoding\": {\"color\": {\"field\": \"height\", \"scale\": {\"scheme\": \"turbo\"}, \"type\": \"ordinal\"}, \"x\": {\"field\": \"time\", \"timeUnit\": \"hoursminutes\", \"type\": \"temporal\"}, \"y\": {\"aggregate\": \"mean\", \"field\": \"value\", \"type\": \"quantitative\"}}, \"height\": 200, \"title\": \"Planar Fit\", \"width\": 200}], \"resolve\": {\"scale\": {\"color\": \"shared\", \"x\": \"shared\", \"y\": \"shared\"}}, \"title\": \"All Data\"}, {\"hconcat\": [{\"data\": {\"url\": \"altair-data-b4b329c551887f9e874d3134e3bbc36d.json\", \"format\": {\"type\": \"json\"}}, \"mark\": {\"type\": \"line\"}, \"encoding\": {\"color\": {\"field\": \"height\", \"type\": \"ordinal\"}, \"x\": {\"field\": \"time\", \"timeUnit\": \"hours\", \"type\": \"temporal\"}, \"y\": {\"aggregate\": \"median\", \"field\": \"value\", \"type\": \"quantitative\"}}, \"height\": 200, \"title\": \"Planar fit with 10 sectors\", \"width\": 200}, {\"data\": {\"url\": \"altair-data-59cd581b508ca197b14be1e4bd492f93.json\", \"format\": {\"type\": \"json\"}}, \"mark\": {\"type\": \"line\"}, \"encoding\": {\"color\": {\"field\": \"height\", \"scale\": {\"scheme\": \"turbo\"}, \"type\": \"ordinal\"}, \"x\": {\"field\": \"time\", \"timeUnit\": \"hours\", \"type\": \"temporal\"}, \"y\": {\"aggregate\": \"median\", \"field\": \"value\", \"type\": \"quantitative\"}}, \"height\": 200, \"title\": \"Planar Fit\", \"width\": 200}], \"resolve\": {\"scale\": {\"color\": \"shared\", \"x\": \"shared\", \"y\": \"shared\"}}, \"title\": \"During Upvalley Winds\"}], \"$schema\": \"https://vega.github.io/schema/vega-lite/v5.20.1.json\"}, {\"mode\": \"vega-lite\"});\n",
       "</script>"
      ],
      "text/plain": [
       "alt.VConcatChart(...)"
      ]
     },
     "execution_count": 13,
     "metadata": {},
     "output_type": "execute_result"
    }
   ],
   "source": [
    "(w_chart_all_data & w_chart_upvalley_winds).configure_title(\n",
    "    anchor='middle',\n",
    ")\n"
   ]
  },
  {
   "cell_type": "markdown",
   "metadata": {},
   "source": [
    "# Solutions for transport terms"
   ]
  },
  {
   "cell_type": "markdown",
   "metadata": {},
   "source": [
    "## Vertical advection term, 1D numerical solution"
   ]
  },
  {
   "cell_type": "markdown",
   "metadata": {},
   "source": [
    "### Collect mixing ratio data we need"
   ]
  },
  {
   "cell_type": "code",
   "execution_count": 14,
   "metadata": {},
   "outputs": [
    {
     "name": "stderr",
     "output_type": "stream",
     "text": [
      "/var/folders/x_/2h52bcjx2px15bhmdpdd748h0000gn/T/ipykernel_49359/1081983149.py:3: SettingWithCopyWarning: \n",
      "A value is trying to be set on a copy of a slice from a DataFrame.\n",
      "Try using .loc[row_indexer,col_indexer] = value instead\n",
      "\n",
      "See the caveats in the documentation: https://pandas.pydata.org/pandas-docs/stable/user_guide/indexing.html#returning-a-view-versus-a-copy\n",
      "  mixing_ratio_profile_df.measurement = 'q_hygr'\n"
     ]
    }
   ],
   "source": [
    "## Isolate humidity measurements (from hygrometers)\n",
    "mixing_ratio_profile_df = tidy_df[tidy_df.measurement.isin(['mixing ratio'])]\n",
    "mixing_ratio_profile_df.measurement = 'q_hygr'\n",
    "mixing_ratio_profile_df = mixing_ratio_profile_df.pivot_table(\n",
    "        index='time', columns=['height', 'tower', 'measurement'], values='value'\n",
    "    )\n",
    "\n",
    "# Combine with snow depth data\n",
    "mixing_ratio_profile_df = mixing_ratio_profile_df.melt(ignore_index=False).join(\n",
    "    tidy_df[tidy_df.variable == 'SnowDepth_c'].set_index('time')['value'].rename('snow depth')\n",
    ")\n",
    "\n",
    "# Calculate instrument height above snow surface\n",
    "mixing_ratio_profile_df['instrument_height'] = mixing_ratio_profile_df['height'] - mixing_ratio_profile_df['snow depth']\n",
    "\n",
    "# Filter out measurements that are buried in the snow\n",
    "mixing_ratio_profile_df = mixing_ratio_profile_df[\n",
    "    (mixing_ratio_profile_df['instrument_height'] > 0)\n",
    "    | (mixing_ratio_profile_df['height'] == 0)\n",
    "]\n",
    "\n",
    "mixing_ratio_profile_df['instrument_height'] = mixing_ratio_profile_df['instrument_height'].where(\n",
    "    mixing_ratio_profile_df['instrument_height'] > 0,\n",
    "    0\n",
    ")"
   ]
  },
  {
   "cell_type": "markdown",
   "metadata": {},
   "source": [
    "### Define functions to calculate gradient"
   ]
  },
  {
   "cell_type": "code",
   "execution_count": 15,
   "metadata": {},
   "outputs": [],
   "source": [
    "from sublimpy.gradients import LogPolynomialWithRoughness\n",
    "\n",
    "def calculate_mixingratio_gradient(\n",
    "        one_ts_groupby,\n",
    "        height4estimate,\n",
    "        Z0Q = 0.005\n",
    "    ):\n",
    "    \"\"\" \n",
    "    Calculates mixing ratio gradient from a dataframe with datetimeindex,\n",
    "    and columns `instrument_height`  and `value`, which holds mixing ratio\n",
    "    values. These calculations are done by fitting log-polynomial curve to \n",
    "    measurements of z and X where X is some measured variable.\n",
    "    We include a boundary wall condition, applying measured X at\n",
    "    roughness height (T=T_s at z=z0). We also adjust for snow depth \n",
    "    in our calculations.\n",
    "    \"\"\"    \n",
    "    heights = one_ts_groupby.sort_values('instrument_height')['instrument_height']\n",
    "    values = one_ts_groupby.sort_values('instrument_height')['value']\n",
    "\n",
    "    # USING SIMPLE NUMPY GRADIENTS\n",
    "    ########################################\n",
    "    # gradients = np.gradient(values, heights)\n",
    "    # gradients = pd.Series(\n",
    "    #     gradients, \n",
    "    #     index=one_ts_groupby.sort_values('instrument_height')['height']\n",
    "    # )\n",
    "    # return gradients.loc[height4estimate]\n",
    "    \n",
    "    # USING A FITTED LOG-LINEAR CURVE\n",
    "    ########################################\n",
    "    heights = heights.replace(0,Z0Q)\n",
    "\n",
    "    # calculate fitted loglinear parameters\n",
    "    params = LogPolynomialWithRoughness.fit_function(\n",
    "        values,\n",
    "        heights\n",
    "    )\n",
    "    values_pred = [\n",
    "        LogPolynomialWithRoughness.function(z, params[0], params[1], params[2])\n",
    "        for z in heights\n",
    "    ]\n",
    "    a = params[0]\n",
    "    b = params[1]\n",
    "    gradient = LogPolynomialWithRoughness.gradient_single_component(height4estimate, a, b)\n",
    "    return gradient"
   ]
  },
  {
   "cell_type": "code",
   "execution_count": 16,
   "metadata": {},
   "outputs": [],
   "source": [
    "def get_dsigma_dz_values_for_height(H):\n",
    "    dsigma_dz = mixing_ratio_profile_df.reset_index().swifter.groupby('time').apply(\n",
    "        lambda df: calculate_mixingratio_gradient(df, H)\n",
    "    )\n",
    "    return pd.DataFrame(dsigma_dz.rename('dsigma_dz'))\n",
    "\n",
    "def add_variables_to_dsigma_dz_values(H, dsigma_dz_values, tidy_df_specific_pf):\n",
    "    return dsigma_dz_values.join(\n",
    "        tidy_df_specific_pf.query(f\"variable == 'w_{H}m_c'\").set_index('time')['value'].rename('w')\n",
    "    ).join(\n",
    "        tidy_df_specific_pf.query(f\"variable == 'airdensity_{H}m_c'\").set_index('time')['value'].rename('rho_d')\n",
    "    ).join(\n",
    "        tidy_df_specific_pf.query(f\"variable == 'w_h2o__{H}m_c_gapfill'\").set_index('time')['value'].rename('w_h2o__')\n",
    "    )\n",
    "\n",
    "def calculate_transport_terms_with_dsigma_dz(H, dsigma_dz_values):\n",
    "    dsigma_dz_values['vertical_advection'] = dsigma_dz_values['w']*dsigma_dz_values['rho_d']*dsigma_dz_values['dsigma_dz']*1000\n",
    "    return dsigma_dz_values\n",
    "\n",
    "def get_advection_and_cumsum_df(H, tidy_df_specific_pf):\n",
    "    df = get_dsigma_dz_values_for_height(H)\n",
    "    df = add_variables_to_dsigma_dz_values(H, df, tidy_df_specific_pf) \n",
    "    df = calculate_transport_terms_with_dsigma_dz(H, df)\n",
    "    cumsum_df = df.loc['20221130': '20230509']\n",
    "    return df, cumsum_df\n"
   ]
  },
  {
   "cell_type": "markdown",
   "metadata": {},
   "source": [
    "### Calculate gradient for all timestamps\n",
    "Tower measurements at all heights >= 2"
   ]
  },
  {
   "cell_type": "code",
   "execution_count": 17,
   "metadata": {},
   "outputs": [
    {
     "data": {
      "application/vnd.jupyter.widget-view+json": {
       "model_id": "88b36ec7ef444df69e55e8b8e661e910",
       "version_major": 2,
       "version_minor": 0
      },
      "text/plain": [
       "  0%|          | 0/22 [00:00<?, ?it/s]"
      ]
     },
     "metadata": {},
     "output_type": "display_data"
    },
    {
     "name": "stderr",
     "output_type": "stream",
     "text": [
      "2025-01-25 17:31:35,944\tINFO worker.py:1781 -- Started a local Ray instance.\n"
     ]
    },
    {
     "data": {
      "application/vnd.jupyter.widget-view+json": {
       "model_id": "b51ed3a96d37448f86f9fee28675484e",
       "version_major": 2,
       "version_minor": 0
      },
      "text/plain": [
       "  0%|          | 0/22 [00:00<?, ?it/s]"
      ]
     },
     "metadata": {},
     "output_type": "display_data"
    },
    {
     "data": {
      "application/vnd.jupyter.widget-view+json": {
       "model_id": "d1e3cb224e3f4636b4f177ea64fbb075",
       "version_major": 2,
       "version_minor": 0
      },
      "text/plain": [
       "  0%|          | 0/22 [00:00<?, ?it/s]"
      ]
     },
     "metadata": {},
     "output_type": "display_data"
    },
    {
     "data": {
      "application/vnd.jupyter.widget-view+json": {
       "model_id": "4cb46b040da840d3b9a2dd6119b8ae18",
       "version_major": 2,
       "version_minor": 0
      },
      "text/plain": [
       "  0%|          | 0/22 [00:00<?, ?it/s]"
      ]
     },
     "metadata": {},
     "output_type": "display_data"
    },
    {
     "data": {
      "application/vnd.jupyter.widget-view+json": {
       "model_id": "6e8dc2f95ab7445daf179491d5e89d66",
       "version_major": 2,
       "version_minor": 0
      },
      "text/plain": [
       "  0%|          | 0/22 [00:00<?, ?it/s]"
      ]
     },
     "metadata": {},
     "output_type": "display_data"
    },
    {
     "data": {
      "application/vnd.jupyter.widget-view+json": {
       "model_id": "81b9552213564fd89699ce560a851e76",
       "version_major": 2,
       "version_minor": 0
      },
      "text/plain": [
       "  0%|          | 0/22 [00:00<?, ?it/s]"
      ]
     },
     "metadata": {},
     "output_type": "display_data"
    },
    {
     "data": {
      "application/vnd.jupyter.widget-view+json": {
       "model_id": "329adf75d8e44b6cb31b7606e309c8ed",
       "version_major": 2,
       "version_minor": 0
      },
      "text/plain": [
       "  0%|          | 0/22 [00:00<?, ?it/s]"
      ]
     },
     "metadata": {},
     "output_type": "display_data"
    },
    {
     "data": {
      "application/vnd.jupyter.widget-view+json": {
       "model_id": "e307766df3f94a7db2047180f758b501",
       "version_major": 2,
       "version_minor": 0
      },
      "text/plain": [
       "  0%|          | 0/22 [00:00<?, ?it/s]"
      ]
     },
     "metadata": {},
     "output_type": "display_data"
    },
    {
     "data": {
      "application/vnd.jupyter.widget-view+json": {
       "model_id": "bbe31547399c472db060fb23d0ee5700",
       "version_major": 2,
       "version_minor": 0
      },
      "text/plain": [
       "  0%|          | 0/22 [00:00<?, ?it/s]"
      ]
     },
     "metadata": {},
     "output_type": "display_data"
    },
    {
     "data": {
      "application/vnd.jupyter.widget-view+json": {
       "model_id": "a0c4d788d6384474863d4fc1d375811e",
       "version_major": 2,
       "version_minor": 0
      },
      "text/plain": [
       "  0%|          | 0/22 [00:00<?, ?it/s]"
      ]
     },
     "metadata": {},
     "output_type": "display_data"
    },
    {
     "data": {
      "application/vnd.jupyter.widget-view+json": {
       "model_id": "8ff543ef9c7c4a02885b04502f019067",
       "version_major": 2,
       "version_minor": 0
      },
      "text/plain": [
       "  0%|          | 0/22 [00:00<?, ?it/s]"
      ]
     },
     "metadata": {},
     "output_type": "display_data"
    },
    {
     "data": {
      "application/vnd.jupyter.widget-view+json": {
       "model_id": "cbd90e4d7ba149f98bcccd4e89f3c172",
       "version_major": 2,
       "version_minor": 0
      },
      "text/plain": [
       "  0%|          | 0/22 [00:00<?, ?it/s]"
      ]
     },
     "metadata": {},
     "output_type": "display_data"
    },
    {
     "data": {
      "application/vnd.jupyter.widget-view+json": {
       "model_id": "bd9e51755bdc4a719493ceafdd190a79",
       "version_major": 2,
       "version_minor": 0
      },
      "text/plain": [
       "  0%|          | 0/22 [00:00<?, ?it/s]"
      ]
     },
     "metadata": {},
     "output_type": "display_data"
    },
    {
     "data": {
      "application/vnd.jupyter.widget-view+json": {
       "model_id": "50a756178e6045c5a32115a94baa88e0",
       "version_major": 2,
       "version_minor": 0
      },
      "text/plain": [
       "  0%|          | 0/22 [00:00<?, ?it/s]"
      ]
     },
     "metadata": {},
     "output_type": "display_data"
    },
    {
     "data": {
      "application/vnd.jupyter.widget-view+json": {
       "model_id": "21f0f89ed15644d29eefa1f5c27ef7c6",
       "version_major": 2,
       "version_minor": 0
      },
      "text/plain": [
       "  0%|          | 0/22 [00:00<?, ?it/s]"
      ]
     },
     "metadata": {},
     "output_type": "display_data"
    },
    {
     "data": {
      "application/vnd.jupyter.widget-view+json": {
       "model_id": "92d18c427914468a9ed9152868772c25",
       "version_major": 2,
       "version_minor": 0
      },
      "text/plain": [
       "  0%|          | 0/22 [00:00<?, ?it/s]"
      ]
     },
     "metadata": {},
     "output_type": "display_data"
    },
    {
     "data": {
      "application/vnd.jupyter.widget-view+json": {
       "model_id": "71a465d7eee34c079369cb49c0929f2e",
       "version_major": 2,
       "version_minor": 0
      },
      "text/plain": [
       "  0%|          | 0/22 [00:00<?, ?it/s]"
      ]
     },
     "metadata": {},
     "output_type": "display_data"
    },
    {
     "data": {
      "application/vnd.jupyter.widget-view+json": {
       "model_id": "7d081b6b12a44a96983c4b3641f73cfc",
       "version_major": 2,
       "version_minor": 0
      },
      "text/plain": [
       "  0%|          | 0/22 [00:00<?, ?it/s]"
      ]
     },
     "metadata": {},
     "output_type": "display_data"
    },
    {
     "data": {
      "application/vnd.jupyter.widget-view+json": {
       "model_id": "1659a79d6216471f99573b3232cf8e6f",
       "version_major": 2,
       "version_minor": 0
      },
      "text/plain": [
       "  0%|          | 0/22 [00:00<?, ?it/s]"
      ]
     },
     "metadata": {},
     "output_type": "display_data"
    }
   ],
   "source": [
    "dsigma_dz_values_for_height = dict()\n",
    "for H in range(2,21):\n",
    "    dsigma_dz_values_for_height[H] = get_advection_and_cumsum_df(H,     tidy_df)"
   ]
  },
  {
   "cell_type": "code",
   "execution_count": 18,
   "metadata": {},
   "outputs": [],
   "source": [
    "vertical_advection_estimates = pd.concat([\n",
    "    df[0].assign(height = H) for (H, df) in dsigma_dz_values_for_height.items()\n",
    "])"
   ]
  },
  {
   "cell_type": "markdown",
   "metadata": {},
   "source": [
    "## Air density flux term, finite difference"
   ]
  },
  {
   "cell_type": "code",
   "execution_count": 19,
   "metadata": {},
   "outputs": [
    {
     "data": {
      "text/html": [
       "<table><tbody><tr><th>Magnitude</th><td style='text-align:left;'><pre>[1.0871778340332137e-05 4.438436302736628e-06 2.7653485996096386e-06 ... 3.1808707728347766e-05 4.917137425181963e-07 4.7850655395347494e-05]</pre></td></tr><tr><th>Units</th><td style='text-align:left;'>gram/(meter<sup>3</sup> second)</td></tr></tbody></table>"
      ],
      "text/latex": [
       "$\\begin{pmatrix} &  &  &  &  &  &  &  &  &  &  &  &  &  &  &  &  &  &  &  &  &  &  &  &  &  &  &  &  &  &  &  &  &  &  &  &  &  &  &  &  &  &  &  &  &  &  &  &  &  &  &  &  &  &  &  &  &  &  &  &  &  &  &  &  &  &  &  &  &  &  &  &  &  &  &  &  &  &  &  &  &  &  &  &  &  &  &  &  &  &  &  &  &  &  &  &  &  &  &  &  &  &  &  &  &  &  &  &  &  &  &  &  &  &  &  &  &  &  &  &  &  &  &  &  &  &  &  &  &  &  &  &  &  &  &  &  &  &  &  &  &  &  &  &  &  &  &  &  &  &  &  &  &  &  &  &  &  &  &  &  &  &  &  &  &  &  &  &  &  &  &  &  &  &  &  &  &  &  &  &  &  &  &  &  &  &  &  &  &  &  &  &  &  &  &  &  &  &  &  &  &  &  &  &  &  &  &  &  &  &  &  &  &  &  &  &  &  &  &  &  &  &  &  &  &  &  &  &  &  &  &  &  &  &  &  &  &  &  &  &  &  &  &  &  &  &  &  &  &  &  &  &  &  &  &  &  &  &  &  &  &  &  &  &  &  &  &  &  &  &  &  &  &  &  &  &  &  &  &  &  &  &  &  &  &  &  &  &  &  &  &  &  &  &  &  &  &  &  &  &  &  &  &  &  &  &  &  &  &  &  &  &  &  &  &  &  &  &  &  &  &  &  &  &  &  &  &  &  &  &  &  &  &  &  &  &  &  &  &  &  &  &  &  &  &  &  &  &  &  &  &  &  &  &  &  &  &  &  &  &  &  &  &  &  &  &  &  &  &  &  &  &  &  &  &  &  &  &  &  &  &  &  &  &  &  &  &  &  &  &  &  &  &  &  &  &  &  &  &  &  &  &  &  &  &  &  &  &  &  &  &  &  &  &  &  &  &  &  &  &  &  &  &  &  &  &  &  &  &  &  &  &  &  &  &  &  &  &  &  &  &  &  &  &  &  &  &  &  &  &  &  &  &  &  &  &  &  &  &  &  &  &  &  &  &  &  &  &  &  &  &  &  &  &  &  &  &  &  &  &  &  &  &  &  &  &  &  &  &  &  &  &  &  &  &  &  &  &  &  &  &  &  &  &  &  &  &  &  &  &  &  &  &  &  &  &  &  &  &  &  &  &  &  &  &  &  &  &  &  &  &  &  &  &  &  &  &  &  &  &  &  &  &  &  &  &  &  &  &  &  &  &  &  &  &  &  &  &  &  &  &  &  &  &  &  &  &  &  &  &  &  &  &  &  &  &  &  &  &  &  &  &  &  &  &  &  &  &  &  &  &  &  &  &  &  &  &  &  &  &  &  &  &  &  &  &  &  &  &  &  &  &  &  &  &  &  &  &  &  &  &  &  &  &  &  &  &  &  &  &  &  &  &  &  &  &  &  &  &  &  &  &  &  &  &  &  &  &  &  &  &  &  &  &  &  &  &  &  &  &  &  &  &  &  &  &  &  &  &  &  &  &  &  &  &  &  &  &  &  &  &  &  &  &  &  &  &  &  &  &  &  &  &  &  &  &  &  &  &  &  &  &  &  &  &  &  &  &  &  &  &  &  &  &  &  &  &  &  &  &  &  &  &  &  &  &  &  &  &  &  &  &  &  &  &  &  &  &  &  &  &  &  &  &  &  &  &  &  &  &  &  &  &  &  &  &  &  &  &  &  &  &  &  &  &  &  &  &  &  &  &  &  &  &  &  &  &  &  &  &  &  &  &  &  &  &  &  &  &  &  &  &  &  &  &  &  &  &  &  &  &  &  &  &  &  &  &  &  &  &  &  &  &  &  &  &  &  &  &  &  &  &  &  &  &  &  &  &  &  &  &  &  &  &  &  &  &  &  &  &  &  &  &  &  &  &  &  &  &  &  &  &  &  &  &  &  &  &  &  &  &  &  &  &  &  &  &  &  &  &  &  &  &  &  &  &  &  &  &  &  &  &  &  &  &  &  &  &  &  &  &  &  &  &  &  &  &  &  &  &  &  &  &  &  &  &  &  &  &  &  &  &  &  &  &  &  &  &  &  &  &  &  &  &  &  &  &  &  &  &  &  &  &  &  &  &  &  &  &  &  &  &  &  &  &  &  &  &  &  &  &  &  &  &  &  &  &  &  &  &  &  &  &  &  &  &  &  &  &  &  &  &  &  &  &  &  &  &  &  &  &  &  &  &  &  &  &  &  &  &  &  &  &  &  &  &  &  &  &  &  &  &  &  &  &  &  &  &  &  &  &  &  &  &  &  &  &  &  &  &  &  &  &  &  &  &  &  &  &  &  &  &  &  &  &  &  &  &  &  &  &  &  &  &  &  &  &  &  &  &  &  &  &  &  &  &  &  &  &  &  &  &  &  &  &  &  &  &  &  &  &  &  &  &  &  &  &  &  &  &  &  &  &  &  &  &  &  &  &  &  &  &  &  &  &  &  &  &  &  &  &  &  &  &  &  &  &  &  &  &  &  &  &  &  &  &  &  &  &  &  &  &  &  &  &  &  &  &  &  &  &  &  &  &  &  &  &  &  &  &  &  &  &  &  &  &  &  &  &  &  &  &  &  &  &  &  &  &  &  &  &  &  &  &  &  &  &  &  &  &  &  &  &  &  &  &  &  &  &  &  &  &  &  &  &  &  &  &  &  &  &  &  &  &  &  &  &  &  &  &  &  &  &  &  &  &  &  &  &  &  &  &  &  &  &  &  &  &  &  &  &  &  &  &  &  &  &  &  &  &  &  &  &  &  &  &  &  &  &  &  &  &  &  &  &  &  &  &  &  &  &  &  &  &  &  &  &  &  &  &  &  &  &  &  &  &  &  &  &  &  &  &  &  &  &  &  &  &  &  &  &  &  &  &  &  &  &  &  &  &  &  &  &  &  &  &  &  &  &  &  &  &  &  &  &  &  &  &  &  &  &  &  &  &  &  &  &  &  &  &  &  &  &  &  &  &  &  &  &  &  &  &  &  &  &  &  &  &  &  &  &  &  &  &  &  &  &  &  &  &  &  &  &  &  &  &  &  &  &  &  &  &  &  &  &  &  &  &  &  &  &  &  &  &  &  &  &  &  &  &  &  &  &  &  &  &  &  &  &  &  &  &  &  &  &  &  &  &  &  &  &  &  &  &  &  &  &  &  &  &  &  &  &  &  &  &  &  &  &  &  &  &  &  &  &  &  &  &  &  &  &  &  &  &  &  &  &  &  &  &  &  &  &  &  &  &  &  &  &  &  &  &  &  &  &  &  &  &  &  &  &  &  &  &  &  &  &  &  &  &  &  &  &  &  &  &  &  &  &  &  &  &  &  &  &  &  &  &  &  &  &  &  &  &  &  &  &  &  &  &  &  &  &  &  &  &  &  &  &  &  &  &  &  &  &  &  &  &  &  &  &  &  &  &  &  &  &  &  &  &  &  &  &  &  &  &  &  &  &  &  &  &  &  &  &  &  &  &  &  &  &  &  &  &  &  &  &  &  &  &  &  &  &  &  &  &  &  &  &  &  &  &  &  &  &  &  &  &  &  &  &  &  &  &  &  &  &  &  &  &  &  &  &  &  &  &  &  &  &  &  &  &  &  &  &  &  &  &  &  &  &  &  &  &  &  &  &  &  &  &  &  &  &  &  &  &  &  &  &  &  &  &  &  &  &  &  &  &  &  &  &  &  &  &  &  &  &  &  &  &  &  &  &  &  &  &  &  &  &  &  &  &  &  &  &  &  &  &  &  &  &  &  &  &  &  &  &  &  &  &  &  &  &  &  &  &  &  &  &  &  &  &  &  &  &  &  &  &  &  &  &  &  &  &  &  &  &  &  &  &  &  &  &  &  &  &  &  &  &  &  &  &  &  &  &  &  &  &  &  &  &  &  &  &  &  &  &  &  &  &  &  &  &  &  &  &  &  &  &  &  &  &  &  &  &  &  &  &  &  &  &  &  &  &  &  &  &  &  &  &  &  &  &  &  &  &  &  &  &  &  &  &  &  &  &  &  &  &  &  &  &  &  &  &  &  &  &  &  &  &  &  &  &  &  &  &  &  &  &  &  &  &  &  &  &  &  &  &  &  &  &  &  &  &  &  &  &  &  &  &  &  &  &  &  &  &  &  &  &  &  &  &  &  &  &  &  &  &  &  &  &  &  &  &  &  &  &  &  &  &  &  &  &  &  &  &  &  &  &  &  &  &  &  &  &  &  &  &  &  &  &  &  &  &  &  &  &  &  &  &  &  &  &  &  &  &  &  &  &  &  &  &  &  &  &  &  &  &  &  &  &  &  &  &  &  &  &  &  &  &  &  &  &  &  &  &  &  &  &  &  &  &  &  &  &  &  &  &  &  &  &  &  &  &  &  &  &  &  &  &  &  &  &  &  &  &  &  &  &  &  &  &  &  &  &  &  &  &  &  &  &  &  &  &  &  &  &  &  &  &  &  &  &  &  &  &  &  &  &  &  &  &  &  &  &  &  &  &  &  &  &  &  &  &  &  &  &  &  &  &  &  &  &  &  &  &  &  &  &  &  &  &  &  &  &  &  &  &  &  &  &  &  &  &  &  &  &  &  &  &  &  &  &  &  &  &  &  &  &  &  &  &  &  &  &  &  &  &  &  &  &  &  &  &  &  &  &  &  &  &  &  &  &  &  &  &  &  &  &  &  &  &  &  &  &  &  &  &  &  &  &  &  &  &  &  &  &  &  &  &  &  &  &  &  &  &  &  &  &  &  &  &  &  &  &  &  &  &  &  &  &  &  &  &  &  &  &  &  &  &  &  &  &  &  &  &  &  &  &  &  &  &  &  &  &  &  &  &  &  &  &  &  &  &  &  &  &  &  &  &  &  &  &  &  &  &  &  &  &  &  &  &  &  &  &  &  &  &  &  &  &  &  &  &  &  &  &  &  &  &  &  &  &  &  &  &  &  &  &  &  &  &  &  &  &  &  &  &  &  &  &  &  &  &  &  &  &  &  &  &  &  &  &  &  &  &  &  &  &  &  &  &  &  &  &  &  &  &  &  &  &  &  &  &  &  &  &  &  &  &  &  &  &  &  &  &  &  &  &  &  &  &  &  &  &  &  &  &  &  &  &  &  &  &  &  &  &  &  &  &  &  &  &  &  &  &  &  &  &  &  &  &  &  &  &  &  &  &  &  &  &  &  &  &  &  &  &  &  &  &  &  &  &  &  &  &  &  &  &  &  &  &  &  &  &  &  &  &  &  &  &  &  &  &  &  &  &  &  &  &  &  &  &  &  &  &  &  &  &  &  &  &  &  &  &  &  &  &  &  &  &  &  &  &  &  &  &  &  &  &  &  &  &  &  &  &  &  &  &  &  &  &  &  &  &  &  &  &  &  &  &  &  &  &  &  &  &  &  &  &  &  &  &  &  &  &  &  &  &  &  &  &  &  &  &  &  &  &  &  &  &  &  &  &  &  &  &  &  &  &  &  &  &  &  &  &  &  &  &  &  &  &  &  &  &  &  &  &  &  &  &  &  &  &  &  &  &  &  &  &  &  &  &  &  &  &  &  &  &  &  &  &  &  &  &  &  &  &  &  &  &  &  &  &  &  &  &  &  &  &  &  &  &  &  &  &  &  &  &  &  &  &  &  &  &  &  &  &  &  &  &  &  &  &  &  &  &  &  &  &  &  &  &  &  &  &  &  &  &  &  &  &  &  &  &  &  &  &  &  &  &  &  &  &  &  &  &  &  &  &  &  &  &  &  &  &  &  &  &  &  &  &  &  &  &  &  &  &  &  &  &  &  &  &  &  &  &  &  &  &  &  &  &  &  &  &  &  &  &  &  &  &  &  &  &  &  &  &  &  &  &  &  &  &  &  &  &  &  &  &  &  &  &  &  &  &  &  &  &  &  &  &  &  &  &  &  &  &  &  &  &  &  &  &  &  &  &  &  &  &  &  &  &  &  &  &  &  &  &  &  &  &  &  &  &  &  &  &  &  &  &  &  &  &  &  &  &  &  &  &  &  &  &  &  &  &  &  &  &  &  &  &  &  &  &  &  &  &  &  &  &  &  &  &  &  &  &  &  &  &  &  &  &  &  &  &  &  &  &  &  &  &  &  &  &  &  &  &  &  &  &  &  &  &  &  &  &  &  &  &  &  &  &  &  &  &  &  &  &  &  &  &  &  &  &  &  &  &  &  &  &  &  &  &  &  &  &  &  &  &  &  &  &  &  &  &  &  &  &  &  &  &  &  &  &  &  &  &  &  &  &  &  &  &  &  &  &  &  &  &  &  &  &  &  &  &  &  &  &  &  &  &  &  &  &  &  &  &  &  &  &  &  &  &  &  &  &  &  &  &  &  &  &  &  &  &  &  &  &  &  &  &  &  &  &  &  &  &  &  &  &  &  &  &  &  &  &  &  &  &  &  &  &  &  &  &  &  &  &  &  &  &  &  &  &  &  &  &  &  &  &  &  &  &  &  &  &  &  &  &  &  &  &  &  &  &  &  &  &  &  &  &  &  &  &  &  &  &  &  &  &  &  &  &  &  &  &  &  &  &  &  &  &  &  &  &  &  &  &  &  &  &  &  &  &  &  &  &  &  &  &  &  &  &  &  &  &  &  &  &  &  &  &  &  &  &  &  &  &  &  &  &  &  &  &  &  &  &  &  &  &  &  &  &  &  &  &  &  &  &  &  &  &  &  &  &  &  &  &  &  &  &  &  &  &  &  &  &  &  &  &  &  &  &  &  &  &  &  &  &  &  &  &  &  &  &  &  &  &  &  &  &  &  &  &  &  &  &  &  &  &  &  &  &  &  &  &  &  &  &  &  &  &  &  &  &  &  &  &  &  &  &  &  &  &  &  &  &  &  &  &  &  &  &  &  &  &  &  &  &  &  &  &  &  &  &  &  &  &  &  &  &  &  &  &  &  &  &  &  &  &  &  &  &  &  &  &  &  &  &  &  &  &  &  &  &  &  &  &  &  &  &  &  &  &  &  &  &  &  &  &  &  &  &  &  &  &  &  &  &  &  &  &  &  &  &  &  &  &  &  &  &  &  &  &  &  &  &  &  &  &  &  &  &  &  &  &  &  &  &  &  &  &  &  &  &  &  &  &  &  &  &  &  &  &  &  &  &  &  &  &  &  &  &  &  &  &  &  &  &  &  &  &  &  &  &  &  &  &  &  &  &  &  &  &  &  &  &  &  &  &  &  &  &  &  &  &  &  &  &  &  &  &  &  &  &  &  &  &  &  &  &  &  &  &  &  &  &  &  &  &  &  &  &  &  &  &  &  &  &  &  &  &  &  &  &  &  &  &  &  &  &  &  &  &  &  &  &  &  &  &  &  &  &  &  &  &  &  &  &  &  &  &  &  &  &  &  &  &  &  &  &  &  &  &  &  &  &  &  &  &  &  &  &  &  &  &  &  &  &  &  &  &  &  &  &  &  &  &  &  &  &  &  &  &  &  &  &  &  &  &  &  &  &  &  &  &  &  &  &  &  &  &  &  &  &  &  &  &  &  &  &  &  &  &  &  &  &  &  &  &  &  &  &  &  &  &  &  &  &  &  &  &  &  &  &  &  &  &  &  &  &  &  &  &  &  &  &  &  &  &  &  &  &  &  &  &  &  &  &  &  &  &  &  &  &  &  &  &  &  &  &  &  &  &  &  &  &  &  &  &  &  &  &  &  &  &  &  &  &  &  &  &  &  &  &  &  &  &  &  &  &  &  &  &  &  &  &  &  &  &  &  &  &  &  &  &  &  &  &  &  &  &  &  &  &  &  &  &  &  &  &  &  &  &  &  &  &  &  &  &  &  &  &  &  &  &  &  &  &  &  &  &  &  &  &  &  &  &  &  &  &  &  &  &  &  &  &  &  &  &  &  &  &  &  &  &  &  &  &  &  &  &  &  &  &  &  &  &  &  &  &  &  &  &  &  &  &  &  &  &  &  &  &  &  &  &  &  &  &  &  &  &  &  &  &  &  &  &  &  &  &  &  &  &  &  &  &  &  &  &  &  &  &  &  &  &  &  &  &  &  &  &  &  &  &  &  &  &  &  &  &  &  &  &  &  &  &  &  &  &  &  &  &  &  &  &  &  &  &  &  &  &  &  &  &  &  &  &  &  &  &  &  &  &  &  &  &  &  &  &  &  &  &  &  &  &  &  &  &  &  &  &  &  &  &  &  &  &  &  &  &  &  &  &  &  &  &  &  &  &  &  &  &  &  &  &  &  &  &  &  &  &  &  &  &  &  &  &  &  &  &  &  &  &  &  &  &  &  &  &  &  &  &  &  &  &  &  &  &  &  &  &  &  &  &  &  &  &  &  &  &  &  &  &  &  &  &  &  &  &  &  &  &  &  &  &  &  &  &  &  &  &  &  &  &  &  &  &  &  &  &  &  &  &  &  &  &  &  &  &  &  &  &  &  &  &  &  &  &  &  &  &  &  &  &  &  &  &  &  &  &  &  &  &  &  &  &  &  &  &  &  &  &  &  &  &  &  &  &  &  &  &  &  &  &  &  &  &  &  &  &  &  &  &  &  &  &  &  &  &  &  &  &  &  &  &  &  &  &  &  &  &  &  &  &  &  &  &  &  &  &  &  &  &  &  &  &  &  &  &  &  &  &  &  &  &  &  &  &  &  &  &  &  &  &  &  &  &  &  &  &  &  &  &  &  &  &  &  &  &  &  &  &  &  &  &  &  &  &  &  &  &  &  &  &  &  &  &  &  &  &  &  &  &  &  &  &  &  &  &  &  &  &  &  &  &  &  &  &  &  &  &  &  &  &  &  &  &  &  &  &  &  &  &  &  &  &  &  &  &  &  &  &  &  &  &  &  &  &  &  &  &  &  &  &  &  &  &  &  &  &  &  &  &  &  &  &  &  &  &  &  &  &  &  &  &  &  &  &  &  &  &  &  &  &  &  &  &  &  &  &  &  &  &  &  &  &  &  &  &  &  &  &  &  &  &  &  &  &  &  &  &  &  &  &  &  &  &  &  &  &  &  &  &  &  &  &  &  &  &  &  &  &  &  &  &  &  &  &  &  &  &  &  &  &  &  &  &  &  &  &  &  &  &  &  &  &  &  &  &  &  &  &  &  &  &  &  &  &  &  &  &  &  &  &  &  &  &  &  &  &  &  &  &  &  &  &  &  &  &  &  &  &  &  &  &  &  &  &  &  &  &  &  &  &  &  &  &  &  &  &  &  &  &  &  &  &  &  &  &  &  &  &  &  &  &  &  &  &  &  &  &  &  &  &  &  &  &  &  &  &  &  &  &  &  &  &  &  &  &  &  &  &  &  &  &  &  &  &  &  &  &  &  &  &  &  &  &  &  &  &  &  &  &  &  &  &  &  &  &  &  &  &  &  &  &  &  &  &  &  &  &  &  &  &  &  &  &  &  &  &  &  &  &  &  &  &  &  &  &  &  &  &  &  &  &  &  &  &  &  &  &  &  &  &  &  &  &  &  &  &  &  &  &  &  &  &  &  &  &  &  &  &  &  &  &  &  &  &  &  &  &  &  &  &  &  &  &  &  &  &  &  &  &  &  &  &  &  &  &  &  &  &  &  &  &  &  &  &  &  &  &  &  &  &  &  &  &  &  &  &  &  &  &  &  &  &  &  &  &  &  &  &  &  &  &  &  &  &  &  &  &  &  &  &  &  &  &  &  &  &  &  &  &  &  &  &  &  &  &  &  &  &  &  &  &  &  &  &  &  &  &  &  &  &  &  &  &  &  &  &  &  &  &  &  &  &  &  &  &  &  &  &  &  &  &  &  &  &  &  &  &  &  &  &  &  &  &  &  &  &  &  &  &  &  &  &  &  &  &  &  &  &  &  &  &  &  &  &  &  &  &  &  &  &  &  &  &  &  &  &  &  &  &  &  &  &  &  &  &  &  &  &  &  &  &  &  &  &  &  &  &  &  &  &  &  &  &  &  &  &  &  &  &  &  &  &  &  &  &  &  &  &  &  &  &  &  &  &  &  &  &  &  &  &  &  &  &  &  &  &  &  &  &  &  &  &  &  &  &  &  &  &  &  &  &  &  &  &  &  &  &  &  &  &  &  &  &  &  &  &  &  &  &  &  &  &  &  &  &  &  &  &  &  &  &  &  &  &  &  &  &  &  &  &  &  &  &  &  &  &  &  &  &  &  &  &  &  &  &  &  &  &  &  &  &  &  &  &  &  &  &  &  &  &  &  &  &  &  &  &  &  &  &  &  &  &  &  &  &  &  &  &  &  &  &  &  &  &  &  &  &  &  &  &  &  &  &  &  &  &  &  &  &  &  &  &  &  &  &  &  &  &  &  &  &  &  &  &  &  &  &  &  &  &  &  &  &  &  &  &  &  &  &  &  &  &  &  &  &  &  &  &  &  &  &  &  &  &  &  &  &  &  &  &  &  &  &  &  &  &  &  &  &  &  &  &  &  &  &  &  &  &  &  &  &  &  &  &  &  &  &  &  &  &  &  &  &  &  &  &  &  &  &  &  &  &  &  &  &  &  &  &  &  &  &  &  &  &  &  &  &  &  &  &  &  &  &  &  &  &  &  &  &  &  &  &  &  &  &  &  &  &  &  &  &  &  &  &  &  &  &  &  &  &  &  &  &  &  &  &  &  &  &  &  &  &  &  &  &  &  &  &  &  &  &  &  &  &  &  &  &  &  &  &  &  &  &  &  &  &  &  &  &  &  &  &  &  &  &  &  &  &  &  &  &  &  &  &  &  &  &  &  &  &  &  &  &  &  &  &  &  &  &  &  &  &  &  &  &  &  &  &  &  &  &  &  &  &  &  &  &  &  &  &  &  &  &  &  &  &  &  &  &  &  &  &  &  &  &  &  &  &  &  &  &  &  &  &  &  &  &  &  &  &  &  &  &  &  &  &  &  &  &  &  &  &  &  &  &  &  &  &  &  &  &  &  &  &  &  &  &  &  &  &  &  &  &  &  &  &  &  &  &  &  &  &  &  &  &  &  &  &  &  &  &  &  &  &  &  &  &  &  &  &  &  &  &  &  &  &  &  &  &  &  &  &  &  &  &  &  &  &  &  &  &  &  &  &  &  &  &  &  &  &  &  &  &  &  &  &  &  &  &  &  &  &  &  &  &  &  &  &  &  &  &  &  &  &  &  &  &  &  &  &  &  &  &  &  &  &  &  &  &  &  &  &  &  &  &  &  &  &  &  &  &  &  &  &  &  &  &  &  &  &  &  &  &  &  &  &  &  &  &  &  &  &  &  &  &  &  &  &  &  &  &  &  &  &  &  &  &  &  &  &  &  &  &  &  &  &  &  &  &  &  &  &  &  &  &  &  &  &  &  &  &  &  &  &  &  &  &  &  &  &  &  &  &  &  &  &  &  &  &  &  &  &  &  &  &  &  &  &  &  &  &  &  &  &  &  &  &  &  &  &  &  &  &  &  &  &  &  &  &  &  &  &  &  &  &  &  &  &  &  &  &  &  &  &  &  &  &  &  &  &  &  &  &  &  &  &  &  &  &  &  &  &  &  &  &  &  &  &  &  &  &  &  &  &  &  &  &  &  &  &  &  &  &  &  &  &  &  &  &  &  &  &  &  &  &  &  &  &  &  &  &  &  &  &  &  &  &  &  &  &  &  &  &  &  &  &  &  &  &  &  &  &  &  &  &  &  &  &  &  &  &  &  &  &  &  &  &  &  &  &  &  &  &  &  &  &  &  &  &  &  &  &  &  &  &  &  &  &  &  &  &  &  &  &  &  &  &  &  &  &  &  &  &  &  &  &  &  &  &  &  &  &  &  &  &  &  &  &  &  &  &  &  &  &  &  &  &  &  &  &  &  &  &  &  &  &  &  &  &  &  &  &  &  &  &  &  &  &  &  &  &  &  &  &  &  &  &  &  &  &  &  &  &  &  &  &  &  &  &  &  &  &  &  &  &  &  &  &  &  &  &  &  &  &  &  &  &  &  &  &  &  &  &  &  &  &  &  &  &  &  &  &  &  &  &  &  &  &  &  &  &  &  &  &  &  &  &  &  &  &  &  &  &  &  &  &  &  &  &  &  &  &  &  &  &  &  &  &  &  &  &  &  &  &  &  &  &  &  &  &  &  &  &  &  &  &  &  &  &  &  &  &  &  &  &  &  &  &  &  &  &  &  &  &  &  &  &  &  &  &  &  &  &  &  &  &  &  &  &  &  &  &  &  &  &  &  &  &  &  &  &  &  &  &  &  &  &  &  &  &  &  &  &  &  &  &  &  &  &  &  &  &  &  &  &  &  &  &  &  &  &  &  &  &  &  &  &  &  &  &  &  &  &  &  &  &  &  &  &  &  &  &  &  &  &  &  &  &  &  &  &  &  &  &  &  &  &  &  &  &  &  &  &  &  &  &  &  &  &  &  &  &  &  &  &  &  &  &  &  &  &  &  &  &  &  &  &  &  &  &  &  &  &  &  &  &  &  &  &  &  &  &  &  &  &  &  &  &  &  &  &  &  &  &  &  &  &  &  &  &  &  &  &  &  &  &  &  &  &  &  &  &  &  &  &  &  &  &  &  &  &  &  &  &  &  &  &  &  &  &  &  &  &  &  &  &  &  &  &  &  &  &  &  &  &  &  &  &  &  &  &  &  &  &  &  &  &  &  &  &  &  &  &  &  &  &  &  &  &  &  &  &  &  &  &  &  &  &  &  &  &  &  &  &  &  &  &  &  &  &  &  &  &  &  &  &  &  &  &  &  &  &  &  &  &  &  &  &  &  &  &  &  &  &  &  &  &  &  &  &  &  &  &  &  &  &  &  &  &  &  &  &  &  &  &  &  &  &  &  &  &  &  &  &  &  &  &  &  &  &  &  &  &  &  &  &  &  &  &  &  &  &  &  &  &  &  &  &  &  &  &  &  &  &  &  &  &  &  &  &  &  &  &  &  &  &  &  &  &  &  &  &  &  &  &  &  &  &  &  &  &  &  &  &  &  &  &  &  &  &  &  &  &  &  &  &  &  &  &  &  &  &  &  &  &  &  &  &  &  &  &  &  &  &  &  &  &  &  &  &  &  &  &  &  &  &  &  &  &  &  &  &  &  &  &  &  &  &  &  &  &  &  &  &  &  &  &  &  &  &  &  &  &  &  &  &  &  &  &  &  &  &  &  &  &  &  &  &  &  &  &  &  &  &  &  &  &  &  &  &  &  &  &  &  &  &  &  &  &  &  &  &  &  &  &  &  &  &  &  &  &  &  &  &  &  &  &  &  &  &  &  &  &  &  &  &  &  &  &  &  &  &  &  &  &  &  &  &  &  &  &  &  &  &  &  &  &  &  &  &  &  &  &  &  &  &  &  &  &  &  &  &  &  &  &  &  &  &  &  &  &  &  &  &  &  &  &  &  &  &  &  &  &  &  &  &  &  &  &  &  &  &  &  &  &  &  &  &  &  &  &  &  &  &  &  &  &  &  &  &  &  &  &  &  &  &  &  &  &  &  &  &  &  &  &  &  &  &  &  &  &  &  &  &  &  &  &  &  &  &  &  &  &  &  &  &  &  &  &  &  &  &  &  &  &  &  &  &  &  &  &  &  &  &  &  &  &  &  &  &  &  &  &  &  &  &  &  &  &  &  &  &  &  &  &  &  &  &  &  &  &  &  &  &  &  &  &  &  &  &  &  &  &  &  &  &  &  &  &  &  &  &  &  &  &  &  &  &  &  &  &  &  &  &  &  &  &  &  &  &  &  &  &  &  &  &  &  &  &  &  &  &  &  &  &  &  &  &  &  &  &  &  &  &  &  &  &  &  &  &  &  &  &  &  &  &  &  &  &  &  &  &  &  &  &  &  &  &  &  &  &  &  &  &  &  &  &  &  &  &  &  &  &  &  &  &  &  &  &  &  &  &  &  &  &  &  &  &  &  &  &  &  &  &  &  &  &  &  &  &  &  &  &  &  &  &  &  &  &  &  &  &  &  &  &  &  &  &  &  &  &  &  &  &  &  &  &  &  &  &  &  &  &  &  &  &  &  &  &  &  &  &  &  &  &  &  &  &  &  &  &  &  &  &  &  &  &  &  &  &  &  &  &  &  &  &  &  &  &  &  &  &  &  &  &  &  &  &  &  &  &  &  &  &  &  &  &  &  &  &  &  &  &  &  &  &  &  &  &  &  &  &  &  &  &  &  &  &  &  &  &  &  &  &  &  &  &  &  &  &  &  &  &  &  &  &  &  &  &  &  &  &  &  &  &  &  &  &  &  &  &  &  &  &  &  &  &  &  &  &  &  &  &  &  &  &  &  &  &  &  &  &  &  &  &  &  &  &  &  &  &  &  &  &  &  &  &  &  &  &  &  &  &  &  &  &  &  &  &  &  &  &  &  &  &  &  &  &  &  &  &  &  &  &  &  &  &  &  &  &  &  &  &  &  &  &  &  &  &  &  &  &  &  &  &  &  &  &  &  &  &  &  &  &  &  &  &  &  &  &  &  &  &  &  &  &  &  &  &  &  &  &  &  &  &  &  &  &  &  &  &  &  &  &  &  &  &  &  &  &  &  &  &  &  &  &  &  &  &  &  &  &  &  &  &  &  &  &  &  &  &  &  &  &  &  &  &  &  &  &  &  &  &  &  &  &  &  &  &  &  &  &  &  &  &  &  &  &  &  &  &  &  &  &  &  &  &  &  &  &  &  &  &  &  &  &  &  &  &  &  &  &  &  &  &  &  &  &  &  &  &  &  &  &  &  &  &  &  &  &  &  &  &  &  &  &  &  &  &  &  &  &  &  &  &  &  &  &  &  &  &  &  &  &  &  &  &  &  &  &  &  &  &  &  &  &  &  &  &  &  &  &  &  &  &  &  &  &  &  &  &  &  &  &  &  &  &  &  &  &  &  &  &  &  &  &  &  &  &  &  &  &  &  &  &  &  &  &  &  &  &  &  &  &  &  &  &  &  &  &  &  &  &  &  &  &  &  &  &  &  &  &  &  &  &  &  &  &  &  &  &  &  &  &  &  &  &  &  &  &  &  &  &  &  &  &  &  &  &  &  &  &  &  &  &  &  &  &  &  &  &  &  &  &  &  &  &  &  &  &  &  &  &  &  &  &  &  &  &  &  &  &  &  &  &  &  &  &  &  &  &  &  &  &  &  &  &  &  &  &  &  &  &  &  &  &  &  &  &  &  &  &  &  &  &  &  &  &  &  &  &  &  &  &  &  &  &  &  &  &  &  &  &  &  &  &  &  &  &  &  &  &  &  &  &  &  &  &  &  &  &  &  &  &  &  &  &  &  &  &  &  &  &  &  &  &  &  &  &  &  &  &  &  &  &  &  &  &  &  &  &  &  &  &  &  &  &  &  &  &  &  &  &  &  &  &  &  &  &  &  &  &  &  &  &  &  &  &  &  &  &  &  &  &  &  &  &  &  &  &  &  &  &  &  &  &  &  &  &  &  &  &  &  &  &  &  &  &  &  &  &  &  &  &  &  &  &  &  &  &  &  &  &  &  &  &  &  &  &  &  &  &  &  &  &  &  &  &  &  &  &  &  &  &  &  &  &  &  &  &  &  &  &  &  &  &  &  &  &  &  &  &  &  &  &  &  &  &  &  &  &  &  &  &  &  &  &  &  &  &  &  &  &  &  &  &  &  &  &  &  &  &  &  &  &  &  &  &  &  &  &  &  &  &  &  &  &  &  &  &  &  &  &  &  &  &  &  &  &  &  &  &  &  &  &  &  &  &  &  &  &  &  &  &  &  &  &  &  &  &  &  &  &  &  &  &  &  &  &  &  &  &  &  &  &  &  &  &  &  &  &  &  &  &  &  &  &  &  &  &  &  &  &  &  &  &  &  &  &  &  &  &  &  &  &  &  &  &  &  &  &  &  &  &  &  &  &  &  &  &  &  &  &  &  &  &  &  &  &  &  &  &  &  &  &  &  &  &  &  &  &  &  &  &  &  &  &  &  &  &  &  &  &  &  &  &  &  &  &  &  &  &  &  &  &  &  &  &  &  &  &  &  &  &  &  &  &  &  &  &  &  &  &  &  &  &  &  &  &  &  &  &  &  &  &  &  &  &  &  &  &  &  &  &  &  &  &  &  &  &  &  &  &  &  &  &  &  &  &  &  &  &  &  &  &  &  &  &  &  &  &  &  &  &  &  &  &  &  &  &  &  &  &  &  &  &  &  &  &  &  &  &  &  &  &  &  &  &  &  &  &  &  &  &  &  &  &  &  &  &  &  &  &  &  &  &  &  &  &  &  &  &  &  &  &  &  &  &  &  &  &  &  &  &  &  &  &  &  &  &  &  &  &  &  &  &  &  &  &  &  &  &  &  &  &  &  &  &  &  &  &  &  &  &  &  &  &  &  &  &  &  &  &  &  &  &  &  &  &  &  &  &  &  &  &  &  &  &  &  &  &  &  &  &  &  &  &  &  &  &  &  &  &  &  &  &  &  &  &  &  &  &  &  &  &  &  &  &  &  &  &  &  &  &  &  &  &  &  &  &  &  &  &  &  &  &  &  &  &  &  &  &  &  &  &  &  &  &  &  &  &  &  &  &  &  &  &  &  &  &  &  &  &  &  &  &  &  &  &  &  &  &  &  &  &  &  &  &  &  &  &  &  &  &  &  &  &  &  &  &  &  &  &  &  &  &  &  &  &  &  &  &  &  &  &  &  &  &  &  &  &  &  &  &  &  &  &  &  &  &  &  &  &  &  &  &  &  &  &  &  &  &  &  &  &  &  &  &  &  &  &  &  &  &  &  &  &  &  &  &  &  &  &  &  &  &  &  &  &  &  &  &  &  &  &  &  &  &  &  &  &  &  &  &  &  &  &  &  &  &  &  &  &  &  &  &  &  &  &  &  &  &  &  &  &  &  &  &  &  &  &  &  &  &  &  &  &  &  &  &  &  &  &  &  &  &  &  &  &  &  &  &  &  &  &  &  &  &  &  &  &  &  &  &  &  &  &  &  &  &  &  &  &  &  &  &  &  &  &  &  &  &  &  &  &  &  &  &  &  &  &  &  &  &  &  &  &  &  &  &  &  &  &  &  &  &  &  &  &  &  &  &  &  &  &  &  &  &  &  &  &  &  &  &  &  &  &  &  &  &  &  &  &  &  &  &  &  &  &  &  &  &  &  &  &  &  &  &  &  &  &  &  &  &  &  &  &  &  &  &  &  &  &  &  &  &  &  &  &  &  &  &  &  &  &  &  &  &  &  &  &  &  &  &  &  &  &  &  &  &  &  &  &  &  &  &  &  &  &  &  &  &  &  &  &  &  &  &  &  &  & \\end{pmatrix}\\ \\frac{\\mathrm{gram}}{\\left(\\mathrm{meter}^{3} \\cdot \\mathrm{second}\\right)}$"
      ],
      "text/plain": [
       "<Quantity([1.08717783e-05 4.43843630e-06 2.76534860e-06 ... 3.18087077e-05\n",
       " 4.91713743e-07 4.78506554e-05], 'gram / meter ** 3 / second')>"
      ]
     },
     "execution_count": 19,
     "metadata": {},
     "output_type": "execute_result"
    }
   ],
   "source": [
    "airdensityflux_df = tidy_df[tidy_df.variable.isin([\n",
    "    'dryairdensity_3m_c',   'dryairdensity_20m_c',\n",
    "    'T_3m_c',   'T_20m_c',\n",
    "    'mixingratio_3m_c',   'mixingratio_20m_c',\n",
    "    'w_tc__3m_c',   'w_tc__20m_c',\n",
    "    'w_h2o__3m_c',   'w_h2o__20m_c',\n",
    "])].pivot(index='time', columns='variable', values='value')\n",
    "\n",
    "mean_mixing_ratio = tidy_df.query(\n",
    "    \"measurement == 'mixing ratio'\"\n",
    ").query(\n",
    "    \"height >= 3\"\n",
    ").query(\n",
    "    \"height <= 20\"\n",
    ").groupby('time').value.mean().rename('mixingratio_mean_3to17')\n",
    "\n",
    "airdensityflux_df = airdensityflux_df.join(mean_mixing_ratio)\n",
    "\n",
    "# ALL KELVIN\n",
    "UNITS_FOR_T_MEAS = units('kelvin')\n",
    "UNITS_FOR_SH_FLUX = units(\"kelvin*m/s\")\n",
    "airdensityflux_df['T_3m_c'] = (airdensityflux_df['T_3m_c'].values * units(\"degC\")).to(UNITS_FOR_T_MEAS)\n",
    "airdensityflux_df['T_20m_c'] = (airdensityflux_df['T_20m_c'].values * units(\"degC\")).to(UNITS_FOR_T_MEAS)\n",
    "\n",
    "# ALL CELSIUS\n",
    "# UNITS_FOR_T_MEAS = units('degC')\n",
    "# UNITS_FOR_SH_FLUX = units(\"degC*m/s\")\n",
    "# airdensityflux_df['T_3m_c'] = (airdensityflux_df['T_3m_c'].values * units(\"degC\")).to(UNITS_FOR_T_MEAS)\n",
    "# airdensityflux_df['T_20m_c'] = (airdensityflux_df['T_20m_c'].values * units(\"degC\")).to(UNITS_FOR_T_MEAS)\n",
    "\n",
    "mu = 1/0.622\n",
    "air_density_flux = (\n",
    "    (\n",
    "        airdensityflux_df['mixingratio_mean_3to17'].values * units(\"g/g\")\n",
    "    ) * (\n",
    "        (\n",
    "            ((airdensityflux_df['dryairdensity_20m_c'].values * units(\"kg/m^3\")) / (airdensityflux_df['T_20m_c'].values * UNITS_FOR_T_MEAS))\n",
    "            * (1 + mu * (airdensityflux_df['mixingratio_20m_c'].values * units(\"g/g\")))\n",
    "            * (airdensityflux_df['w_tc__20m_c'].values * UNITS_FOR_SH_FLUX) + mu*(airdensityflux_df['w_h2o__20m_c'].values * units(\"g/m^2/s\"))\n",
    "        )\n",
    "        -\n",
    "        (\n",
    "            ((airdensityflux_df['dryairdensity_3m_c'].values * units(\"kg/m^3\")) / (airdensityflux_df['T_3m_c'].values * UNITS_FOR_T_MEAS))\n",
    "            * (1 + mu * (airdensityflux_df['mixingratio_3m_c'].values * units(\"g/g\")))\n",
    "            * (airdensityflux_df['w_tc__3m_c'].values * UNITS_FOR_SH_FLUX) + mu*(airdensityflux_df['w_h2o__3m_c'].values * units(\"g/m^2/s\"))\n",
    "        )\n",
    "\n",
    "    ) / (17 * units('m'))\n",
    ").to(units('g/m^3/s'))\n",
    "\n",
    "airdensityflux_df['air_density_flux'] = air_density_flux\n",
    "air_density_flux"
   ]
  },
  {
   "cell_type": "markdown",
   "metadata": {},
   "source": [
    "## Horizontal advection and storage change terms, finite difference"
   ]
  },
  {
   "cell_type": "code",
   "execution_count": 20,
   "metadata": {},
   "outputs": [],
   "source": [
    "# combine mixing ratio measurements from the two sites into one dataframe \n",
    "kpsannex_mixingratio_measurements = mixingratio_ds.sortby('time').sel(\n",
    "    time=slice(data_start_date, data_cutoff_date)\n",
    ").resample(time='30min').mean().rename('annex').to_dataframe() / 1000\n",
    "kps_mixingratio_measurements_2m = tidy_df.query(\"variable == 'mixingratio_2m_c'\").set_index('time')['value'].rename('kps_2m')\n",
    "kps_mixingratio_measurements_3m = tidy_df.query(\"variable == 'mixingratio_3m_c'\").set_index('time')['value'].rename('kps_3m')\n",
    "kps_mixingratio_measurements_4m = tidy_df.query(\"variable == 'mixingratio_4m_c'\").set_index('time')['value'].rename('kps_4m')\n",
    "\n",
    "kps_lateral_simple_df = kpsannex_mixingratio_measurements.join(\n",
    "    kps_mixingratio_measurements_2m\n",
    ").join(\n",
    "    kps_mixingratio_measurements_3m\n",
    ").join(\n",
    "    kps_mixingratio_measurements_4m\n",
    ")\n",
    "\n",
    "# isolate measurements to when wind is up (100˚ - 140˚) or downvalley (300 - 340)\n",
    "kps_lateral_simple_df = kps_lateral_simple_df.join(\n",
    "    tidy_df.query(\"variable == 'dir_10m_c'\").set_index('time')['value'].rename('dir_10m_c')\n",
    ").join(\n",
    "    tidy_df.query(\"variable == 'spd_3m_c'\").set_index('time')['value'].rename('spd_3m_c')\n",
    ").join(\n",
    "    1000*tidy_df.query(\"variable == 'dryairdensity_3m_c'\").set_index('time')['value'].rename('rho')\n",
    ").join(\n",
    "    tidy_df.query(\"variable == 'w_h2o__3m_c'\").set_index('time')['value'].rename('w_h2o__3m_c')\n",
    ")\n",
    "\n",
    "kps_lateral_simple_df = kps_lateral_simple_df[\n",
    "    ((kps_lateral_simple_df.dir_10m_c >= 112) & (kps_lateral_simple_df.dir_10m_c <= 152))\n",
    "    |\n",
    "    ((kps_lateral_simple_df.dir_10m_c >= 292) & (kps_lateral_simple_df.dir_10m_c <= 332))\n",
    "]\n",
    "# label each timestamp up or downvalley\n",
    "kps_lateral_simple_df['direction'] = kps_lateral_simple_df['dir_10m_c'].apply(lambda x: 'down' if 292 <= x <= 332 else 'up')\n",
    "# # Calculate deltas. During downvalley winds, ds = annex - kps. During up valley winds, ds = kps - annex\n",
    "kps_lateral_simple_df['ds_2m'] = kps_lateral_simple_df.apply(\n",
    "    lambda row: row['annex'] - row['kps_2m'] if row['direction'] == 'down' else row['kps_2m'] - row['annex'],\n",
    "    axis=1\n",
    ")\n",
    "kps_lateral_simple_df['ds_3m'] = kps_lateral_simple_df.apply(\n",
    "    lambda row: row['annex'] - row['kps_3m'] if row['direction'] == 'down' else row['kps_3m'] - row['annex'],\n",
    "    axis=1\n",
    ")\n",
    "\n",
    "kps_lateral_simple_df['ds_3m_uncertainty'] = 0.2/1000\n",
    "\n",
    "kps_lateral_simple_df['ds_4m'] = kps_lateral_simple_df.apply(\n",
    "    lambda row: row['annex'] - row['kps_4m'] if row['direction'] == 'down' else row['kps_4m'] - row['annex'],\n",
    "    axis=1\n",
    ")\n",
    "kps_lateral_simple_df['dx'] = 400\n",
    "kps_lateral_simple_df['ds/dx 2m'] = kps_lateral_simple_df['ds_2m'] / kps_lateral_simple_df['dx']\n",
    "kps_lateral_simple_df['ds/dx 3m'] = kps_lateral_simple_df['ds_3m'] / kps_lateral_simple_df['dx']\n",
    "kps_lateral_simple_df['ds/dx 3m uncertainty'] = kps_lateral_simple_df['ds_3m_uncertainty'] / kps_lateral_simple_df['dx']\n",
    "kps_lateral_simple_df['ds/dx 4m'] = kps_lateral_simple_df['ds_4m'] / kps_lateral_simple_df['dx']\n",
    "\n",
    "kps_lateral_simple_df['lateral_advection_2m'] = kps_lateral_simple_df['spd_3m_c'] * kps_lateral_simple_df['rho'] * kps_lateral_simple_df['ds/dx 2m']\n",
    "kps_lateral_simple_df['lateral_advection_3m'] = kps_lateral_simple_df['spd_3m_c'] * kps_lateral_simple_df['rho'] * kps_lateral_simple_df['ds/dx 3m']\n",
    "kps_lateral_simple_df['lateral_advection_3m_uncertainty'] = kps_lateral_simple_df['spd_3m_c'] * kps_lateral_simple_df['rho'] * kps_lateral_simple_df['ds/dx 3m uncertainty']\n",
    "kps_lateral_simple_df['lateral_advection_4m'] = kps_lateral_simple_df['spd_3m_c'] * kps_lateral_simple_df['rho'] * kps_lateral_simple_df['ds/dx 4m']\n",
    "\n",
    "\n",
    "kps_lateral_simple_df['ds/dt'] = kps_lateral_simple_df['rho'] * (kps_lateral_simple_df[['kps_2m', 'kps_3m', 'kps_4m']].mean(axis=1)).diff() * units('g/g') / (30*60*units('seconds'))\n",
    "# kps_lateral_simple_df"
   ]
  },
  {
   "cell_type": "code",
   "execution_count": 21,
   "metadata": {},
   "outputs": [
    {
     "name": "stderr",
     "output_type": "stream",
     "text": [
      "/var/folders/x_/2h52bcjx2px15bhmdpdd748h0000gn/T/ipykernel_49359/3574805051.py:2: SettingWithCopyWarning: \n",
      "A value is trying to be set on a copy of a slice from a DataFrame.\n",
      "Try using .loc[row_indexer,col_indexer] = value instead\n",
      "\n",
      "See the caveats in the documentation: https://pandas.pydata.org/pandas-docs/stable/user_guide/indexing.html#returning-a-view-versus-a-copy\n",
      "  src['ub'] = src['lateral_advection_3m'] + src['lateral_advection_3m_uncertainty']\n",
      "/var/folders/x_/2h52bcjx2px15bhmdpdd748h0000gn/T/ipykernel_49359/3574805051.py:3: SettingWithCopyWarning: \n",
      "A value is trying to be set on a copy of a slice from a DataFrame.\n",
      "Try using .loc[row_indexer,col_indexer] = value instead\n",
      "\n",
      "See the caveats in the documentation: https://pandas.pydata.org/pandas-docs/stable/user_guide/indexing.html#returning-a-view-versus-a-copy\n",
      "  src['lb'] = src['lateral_advection_3m'] - src['lateral_advection_3m_uncertainty']\n"
     ]
    },
    {
     "data": {
      "text/html": [
       "\n",
       "<style>\n",
       "  #altair-viz-a36da32584a8438faff3b75c0a483f09.vega-embed {\n",
       "    width: 100%;\n",
       "    display: flex;\n",
       "  }\n",
       "\n",
       "  #altair-viz-a36da32584a8438faff3b75c0a483f09.vega-embed details,\n",
       "  #altair-viz-a36da32584a8438faff3b75c0a483f09.vega-embed details summary {\n",
       "    position: relative;\n",
       "  }\n",
       "</style>\n",
       "<div id=\"altair-viz-a36da32584a8438faff3b75c0a483f09\"></div>\n",
       "<script type=\"text/javascript\">\n",
       "  var VEGA_DEBUG = (typeof VEGA_DEBUG == \"undefined\") ? {} : VEGA_DEBUG;\n",
       "  (function(spec, embedOpt){\n",
       "    let outputDiv = document.currentScript.previousElementSibling;\n",
       "    if (outputDiv.id !== \"altair-viz-a36da32584a8438faff3b75c0a483f09\") {\n",
       "      outputDiv = document.getElementById(\"altair-viz-a36da32584a8438faff3b75c0a483f09\");\n",
       "    }\n",
       "    const paths = {\n",
       "      \"vega\": \"https://cdn.jsdelivr.net/npm/vega@5?noext\",\n",
       "      \"vega-lib\": \"https://cdn.jsdelivr.net/npm/vega-lib?noext\",\n",
       "      \"vega-lite\": \"https://cdn.jsdelivr.net/npm/vega-lite@5.20.1?noext\",\n",
       "      \"vega-embed\": \"https://cdn.jsdelivr.net/npm/vega-embed@6?noext\",\n",
       "    };\n",
       "\n",
       "    function maybeLoadScript(lib, version) {\n",
       "      var key = `${lib.replace(\"-\", \"\")}_version`;\n",
       "      return (VEGA_DEBUG[key] == version) ?\n",
       "        Promise.resolve(paths[lib]) :\n",
       "        new Promise(function(resolve, reject) {\n",
       "          var s = document.createElement('script');\n",
       "          document.getElementsByTagName(\"head\")[0].appendChild(s);\n",
       "          s.async = true;\n",
       "          s.onload = () => {\n",
       "            VEGA_DEBUG[key] = version;\n",
       "            return resolve(paths[lib]);\n",
       "          };\n",
       "          s.onerror = () => reject(`Error loading script: ${paths[lib]}`);\n",
       "          s.src = paths[lib];\n",
       "        });\n",
       "    }\n",
       "\n",
       "    function showError(err) {\n",
       "      outputDiv.innerHTML = `<div class=\"error\" style=\"color:red;\">${err}</div>`;\n",
       "      throw err;\n",
       "    }\n",
       "\n",
       "    function displayChart(vegaEmbed) {\n",
       "      vegaEmbed(outputDiv, spec, embedOpt)\n",
       "        .catch(err => showError(`Javascript Error: ${err.message}<br>This usually means there's a typo in your chart specification. See the javascript console for the full traceback.`));\n",
       "    }\n",
       "\n",
       "    if(typeof define === \"function\" && define.amd) {\n",
       "      requirejs.config({paths});\n",
       "      require([\"vega-embed\"], displayChart, err => showError(`Error loading script: ${err.message}`));\n",
       "    } else {\n",
       "      maybeLoadScript(\"vega\", \"5\")\n",
       "        .then(() => maybeLoadScript(\"vega-lite\", \"5.20.1\"))\n",
       "        .then(() => maybeLoadScript(\"vega-embed\", \"6\"))\n",
       "        .catch(showError)\n",
       "        .then(() => displayChart(vegaEmbed));\n",
       "    }\n",
       "  })({\"config\": {\"view\": {\"continuousWidth\": 300, \"continuousHeight\": 300}}, \"layer\": [{\"data\": {\"url\": \"altair-data-0fe7d7cdcb521747c4974b8f05c44ccd.json\", \"format\": {\"type\": \"json\"}}, \"mark\": {\"type\": \"area\", \"opacity\": 0.5}, \"encoding\": {\"x\": {\"field\": \"time\", \"timeUnit\": \"hoursminutes\", \"type\": \"temporal\"}, \"y\": {\"aggregate\": \"mean\", \"field\": \"lb\", \"type\": \"quantitative\"}, \"y2\": {\"aggregate\": \"mean\", \"field\": \"ub\"}}}, {\"data\": {\"url\": \"altair-data-0fe7d7cdcb521747c4974b8f05c44ccd.json\", \"format\": {\"type\": \"json\"}}, \"mark\": {\"type\": \"line\"}, \"encoding\": {\"x\": {\"field\": \"time\", \"timeUnit\": \"hoursminutes\", \"type\": \"temporal\"}, \"y\": {\"aggregate\": \"mean\", \"field\": \"lateral_advection_3m\", \"type\": \"quantitative\"}}}], \"$schema\": \"https://vega.github.io/schema/vega-lite/v5.20.1.json\"}, {\"mode\": \"vega-lite\"});\n",
       "</script>"
      ],
      "text/plain": [
       "alt.LayerChart(...)"
      ]
     },
     "execution_count": 21,
     "metadata": {},
     "output_type": "execute_result"
    }
   ],
   "source": [
    "src = kps_lateral_simple_df[['lateral_advection_3m', 'lateral_advection_3m_uncertainty']]\n",
    "src['ub'] = src['lateral_advection_3m'] + src['lateral_advection_3m_uncertainty']\n",
    "src['lb'] = src['lateral_advection_3m'] - src['lateral_advection_3m_uncertainty']\n",
    "\n",
    "alt.Chart(src.reset_index()).mark_area(opacity=0.5).encode(\n",
    "    alt.X('hoursminutes(time):T'),\n",
    "    alt.Y('mean(lb):Q'),\n",
    "    alt.Y2('mean(ub):Q')\n",
    ") + alt.Chart(src.reset_index()).mark_line().encode(\n",
    "    alt.X('hoursminutes(time):T'),\n",
    "    alt.Y('mean(lateral_advection_3m):Q'),\n",
    ")"
   ]
  },
  {
   "cell_type": "markdown",
   "metadata": {},
   "source": [
    "## Aggregate results"
   ]
  },
  {
   "cell_type": "code",
   "execution_count": 22,
   "metadata": {},
   "outputs": [],
   "source": [
    "meas_vars_df = pd.DataFrame(\n",
    "    1000*tidy_df.query(\"variable == 'dryairdensity_5m_c'\").set_index('time').loc['20221101': '20230620']['value'].rename('rho')\n",
    ").join(\n",
    "    tidy_df.query(\"variable == 'w_h2o__3m_c_gapfill'\").set_index('time').loc['20221101': '20230620']['value'].rename('w_h2o__3m_c')\n",
    ").join(\n",
    "    tidy_df.query(\"variable == 'w_h2o__2m_c_gapfill'\").set_index('time').loc['20221101': '20230620']['value'].rename('w_h2o__2m_c')\n",
    ").join(\n",
    "    tidy_df.query(\"variable == 'w_h2o__5m_c_gapfill'\").set_index('time').loc['20221101': '20230620']['value'].rename('w_h2o__5m_c')\n",
    ").join(\n",
    "    tidy_df.query(\"variable == 'w_h2o__10m_c_gapfill'\").set_index('time').loc['20221101': '20230620']['value'].rename('w_h2o__10m_c')\n",
    ").join(\n",
    "    tidy_df.query(\"variable == 'w_h2o__15m_c_gapfill'\").set_index('time').loc['20221101': '20230620']['value'].rename('w_h2o__15m_c')\n",
    ").join(\n",
    "    tidy_df.query(\"variable == 'w_h2o__20m_c_gapfill'\").set_index('time').loc['20221101': '20230620']['value'].rename('w_h2o__20m_c')\n",
    ").join(\n",
    "    tidy_df.query(\"variable == 'w_h2o__3m_c_raw'\").set_index('time').loc['20221101': '20230620']['value'].rename('w_h2o__3m_c_raw')\n",
    ").join(\n",
    "    tidy_df.query(\"variable == 'w_h2o__2m_c_raw'\").set_index('time').loc['20221101': '20230620']['value'].rename('w_h2o__2m_c_raw')\n",
    ").join(\n",
    "    tidy_df.query(\"variable == 'w_h2o__5m_c_raw'\").set_index('time').loc['20221101': '20230620']['value'].rename('w_h2o__5m_c_raw')\n",
    ").join(\n",
    "    tidy_df.query(\"variable == 'w_h2o__10m_c_raw'\").set_index('time').loc['20221101': '20230620']['value'].rename('w_h2o__10m_c_raw')\n",
    ").join(\n",
    "    tidy_df.query(\"variable == 'w_h2o__15m_c_raw'\").set_index('time').loc['20221101': '20230620']['value'].rename('w_h2o__15m_c_raw')\n",
    ").join(\n",
    "    tidy_df.query(\"variable == 'w_h2o__20m_c_raw'\").set_index('time').loc['20221101': '20230620']['value'].rename('w_h2o__20m_c_raw')\n",
    ")"
   ]
  },
  {
   "cell_type": "code",
   "execution_count": 23,
   "metadata": {},
   "outputs": [],
   "source": [
    "advection_1d_fluxdensity_nonnorm_df = meas_vars_df[[\n",
    "    'w_h2o__2m_c', 'w_h2o__3m_c', 'w_h2o__5m_c', 'w_h2o__10m_c', 'w_h2o__15m_c', 'w_h2o__20m_c',\n",
    "    'w_h2o__2m_c_raw', 'w_h2o__3m_c_raw', 'w_h2o__5m_c_raw', 'w_h2o__10m_c_raw', 'w_h2o__15m_c_raw', 'w_h2o__20m_c_raw'\n",
    "]].join(\n",
    "    kps_lateral_simple_df[['lateral_advection_2m', 'lateral_advection_3m', 'lateral_advection_4m', 'lateral_advection_3m_uncertainty']]\n",
    ").join(\n",
    "    kps_lateral_simple_df[['ds/dt']]\n",
    ").join(\n",
    "    airdensityflux_df['air_density_flux']\n",
    ").join(\n",
    "    vertical_advection_estimates.query(\"height == 2\")['vertical_advection'].rename('vertical_advection_numerical_2')\n",
    ").join(\n",
    "    vertical_advection_estimates.query(\"height == 3\")['vertical_advection'].rename('vertical_advection_numerical_3')\n",
    ").join(\n",
    "    vertical_advection_estimates.query(\"height == 5\")['vertical_advection'].rename('vertical_advection_numerical_5')\n",
    ").join(\n",
    "    vertical_advection_estimates.query(\"height == 10\")['vertical_advection'].rename('vertical_advection_numerical_10')\n",
    ").join(\n",
    "    vertical_advection_estimates.query(\"height == 15\")['vertical_advection'].rename('vertical_advection_numerical_15')\n",
    ").join(\n",
    "    vertical_advection_estimates.query(\"height == 20\")['vertical_advection'].rename('vertical_advection_numerical_20')\n",
    ")"
   ]
  },
  {
   "cell_type": "markdown",
   "metadata": {},
   "source": [
    "## Calculate vertical flux divergence, finite difference"
   ]
  },
  {
   "cell_type": "markdown",
   "metadata": {},
   "source": [
    "Calculate $ \\frac{\\Delta \\overline{w'q'}}{\\Delta z} $"
   ]
  },
  {
   "cell_type": "code",
   "execution_count": 24,
   "metadata": {},
   "outputs": [],
   "source": [
    "advection_1d_fluxdensity_nonnorm_df['vertical_turb_flux_divergence_3to20'] = (\n",
    "    advection_1d_fluxdensity_nonnorm_df['w_h2o__20m_c_raw'] - advection_1d_fluxdensity_nonnorm_df['w_h2o__3m_c_raw']\n",
    ") / 17\n",
    "\n",
    "advection_1d_fluxdensity_nonnorm_df['vertical_turb_flux_divergence_3to10'] = (\n",
    "    advection_1d_fluxdensity_nonnorm_df['w_h2o__10m_c_raw'] - advection_1d_fluxdensity_nonnorm_df['w_h2o__3m_c_raw']\n",
    ") / 7\n",
    "\n",
    "advection_1d_fluxdensity_nonnorm_df['vertical_turb_flux_divergence_2to20'] = (\n",
    "    advection_1d_fluxdensity_nonnorm_df['w_h2o__20m_c_raw'] - advection_1d_fluxdensity_nonnorm_df['w_h2o__2m_c_raw']\n",
    ") / 18\n",
    "\n",
    "advection_1d_fluxdensity_nonnorm_df['vertical_turb_flux_divergence_2to10'] = (\n",
    "    advection_1d_fluxdensity_nonnorm_df['w_h2o__10m_c_raw'] - advection_1d_fluxdensity_nonnorm_df['w_h2o__2m_c_raw']\n",
    ") / 8"
   ]
  },
  {
   "cell_type": "markdown",
   "metadata": {},
   "source": [
    "# Estimate uncertainty in the mixing ratio \n",
    "\n",
    "For estimating uncertainty in the vertical advection terms:\n",
    "\n",
    "$$W \\rho \\frac{d s}{d z}$$\n",
    "\n",
    "where our uncertainty in:\n",
    "* W is $\\pm$ 0.001 m/s (u and v are +/- 1mm, w is +/- 0.5mm, but w planar fitted involves u, v, and w, so we juse use 1mm/s)\n",
    "* $s$ is 0.1 g/kg ()\n",
    "* $\\rho$ is a function of P and T, where T \n",
    "  * For the Paroscientific 6000 nanobarometer, they estimate +/- 0.01% error. We commonly estimate around 700mb, so let's say +/- 0.1\n",
    "  * For the Sensirion SHT85 T measurement, manufacturer reported error is $\\pm$ 0.1\t°C\n",
    "  * For the Sensirion SHT85 RH measurement, manufacturer reported error is $\\pm$ 1.5 %\n",
    "* $\\frac{d s}{d z}$ as 0.2 g/kg (I have no idea if this is correct or makes any sense) \n",
    "then our estimate of uncertainty for the whole term is \n",
    "\n",
    "For estimating error in mixing ratio:\n",
    "\n",
    "We calculate mixing ratio from instrument measurements of pressure, temperature, relative_humidity:\n",
    "\n",
    "```\n",
    "metpy.calc.mixing_ratio_from_relative_humidity(\n",
    "  pressure,\n",
    "  temperature,\n",
    "  relative_humidity\n",
    ")\n",
    "```"
   ]
  },
  {
   "cell_type": "code",
   "execution_count": 25,
   "metadata": {},
   "outputs": [
    {
     "data": {
      "text/plain": [
       "(Timestamp('2023-04-27 23:00:00'),\n",
       " 1.6049364805221558,\n",
       " 716.6376342773438,\n",
       " 64.16825866699219)"
      ]
     },
     "execution_count": 25,
     "metadata": {},
     "output_type": "execute_result"
    }
   ],
   "source": [
    "# CHOOSE OUR T, P, RH values by calculating the mean of each variable\n",
    "# P = tidy_df.query(\"variable == 'P_10m_c'\").set_index('time').value.mean()\n",
    "# T = tidy_df.query(\"variable == 'T_10m_c'\").set_index('time').value.mean()\n",
    "# RH = tidy_df.query(\"variable == 'RH_10m_c'\").set_index('time').value.mean()\n",
    "\n",
    "# CHOOSE OUR T, P, RH values by selecting a median or quantile T value, and use that same timestamp to select P and RH values\n",
    "t_values_sorted = tidy_df.query(\"variable == 'T_10m_c'\").set_index('time').value.sort_values().dropna()\n",
    "i_median = int(len(t_values_sorted) / 2)\n",
    "i_quartile_hi = int(len(t_values_sorted) / 4)\n",
    "i_quartile_hi = int(len(t_values_sorted) / 2 + len(t_values_sorted) / 4)\n",
    "i_quantile_10percent_low = int(len(t_values_sorted)*0.1)\n",
    "i_quantile_10percent_hi = int(len(t_values_sorted)*0.9)\n",
    "\n",
    "T = t_values_sorted[i_quantile_10percent_hi]\n",
    "index = t_values_sorted.index[i_quantile_10percent_hi]\n",
    "P = tidy_df.query(\"variable == 'P_10m_c'\").set_index('time').value.loc[index]\n",
    "RH = tidy_df.query(\"variable == 'RH_10m_c'\").set_index('time').value.loc[index]\n",
    "index, T, P, RH"
   ]
  },
  {
   "cell_type": "code",
   "execution_count": 26,
   "metadata": {},
   "outputs": [],
   "source": [
    "from uncertainties import ufloat\n",
    "import numpy as np\n",
    "\n",
    "P_mean = P  # Assuming P is already defined\n",
    "P_error = P * 0.0001\n",
    "P_std = P_error / 2  # Standard deviation of 0.01%\n",
    "\n",
    "T_mean = T  # Assuming P is already defined\n",
    "T_error = 0.1\n",
    "T_std = T_error / 2  # Standard deviation of 0.01%\n",
    "\n",
    "RH_mean = RH  # Assuming P is already defined\n",
    "RH_error = 1.5\n",
    "RH_std = RH_error / 2  # Standard deviation of 0.01%\n",
    "\n",
    "\n",
    "Samples = pd.DataFrame({\n",
    "    'P': np.random.normal(P_mean, P_std, 5000),\n",
    "    'T': np.random.normal(T_mean, T_std, 5000),\n",
    "    'RH': np.random.normal(RH_mean, RH_std, 5000),\n",
    "})"
   ]
  },
  {
   "cell_type": "code",
   "execution_count": 27,
   "metadata": {},
   "outputs": [],
   "source": [
    "P_dist = (\n",
    "    alt.Chart(Samples).mark_bar().encode(\n",
    "        alt.X('P:Q').bin(step = 0.01).title('Mean pressure value + random errors (millibars)').scale(nice=False),\n",
    "        alt.Y('count():Q')\n",
    "    ) + alt.Chart(Samples).mark_rule(\n",
    "        color='red', strokeWidth=2\n",
    "    ).encode(x='mean(P):Q')\n",
    ").properties(width=300, height = 100)\n",
    "T_dist = (\n",
    "    alt.Chart(Samples).mark_bar().encode(\n",
    "        alt.X('T:Q').bin(step = 0.01).title('Mean temperature value + random errors (˚C)').scale(nice=False),\n",
    "        alt.Y('count():Q'),\n",
    "    ) + alt.Chart(Samples).mark_rule(\n",
    "        color='red', strokeWidth=2\n",
    "    ).encode(x='mean(T):Q')\n",
    ").properties(width=300, height = 100)\n",
    "RH_dist = (\n",
    "    alt.Chart(Samples).mark_bar().encode(\n",
    "        alt.X('RH:Q').bin(step = 0.2).title('Mean RH value + random errors (%)').scale(nice=False),\n",
    "        alt.Y('count():Q')\n",
    "    ) + alt.Chart(Samples).mark_rule(\n",
    "        color='red', strokeWidth=2\n",
    "    ).encode(x='mean(RH):Q')\n",
    ").properties(width=300, height = 100)"
   ]
  },
  {
   "cell_type": "code",
   "execution_count": 28,
   "metadata": {},
   "outputs": [],
   "source": [
    "from metpy.calc import mixing_ratio_from_relative_humidity"
   ]
  },
  {
   "cell_type": "code",
   "execution_count": 29,
   "metadata": {},
   "outputs": [
    {
     "data": {
      "text/plain": [
       "0.094"
      ]
     },
     "execution_count": 29,
     "metadata": {},
     "output_type": "execute_result"
    }
   ],
   "source": [
    "Samples['s'] = Samples.apply(\n",
    "    lambda ro: mixing_ratio_from_relative_humidity(\n",
    "    ro['P']*units(\"millibars\"), ro['T']*units(\"degC\"), ro['RH']*units(\"percent\")\n",
    "    ).to(units(\"g/kg\")).magnitude, \n",
    "    axis=1\n",
    ")\n",
    "s_2_sigma = round(2*Samples['s'].std(), 3)\n",
    "s_2_sigma"
   ]
  },
  {
   "cell_type": "code",
   "execution_count": 30,
   "metadata": {},
   "outputs": [],
   "source": [
    "s_dist = (\n",
    "    alt.Chart(Samples).mark_bar().encode(\n",
    "        alt.X('s:Q').bin(step = 0.01).scale(nice=False).title(['Water vapor ratio (g/Kg), values calculated through', 'Monte Carlo propagation of T, RH, and P errors']),\n",
    "        alt.Y('count():Q')\n",
    "    ) + alt.Chart(Samples).mark_rule(\n",
    "        color='red', strokeWidth=2\n",
    "    ).encode(x='mean(s):Q')\n",
    ").properties(\n",
    "    width=300, height = 100,\n",
    "    title=f\"2σ = {s_2_sigma}\"\n",
    ")"
   ]
  },
  {
   "cell_type": "code",
   "execution_count": 31,
   "metadata": {},
   "outputs": [
    {
     "data": {
      "text/html": [
       "\n",
       "<style>\n",
       "  #altair-viz-9b9763aa113040cda8e1e68c3b91019e.vega-embed {\n",
       "    width: 100%;\n",
       "    display: flex;\n",
       "  }\n",
       "\n",
       "  #altair-viz-9b9763aa113040cda8e1e68c3b91019e.vega-embed details,\n",
       "  #altair-viz-9b9763aa113040cda8e1e68c3b91019e.vega-embed details summary {\n",
       "    position: relative;\n",
       "  }\n",
       "</style>\n",
       "<div id=\"altair-viz-9b9763aa113040cda8e1e68c3b91019e\"></div>\n",
       "<script type=\"text/javascript\">\n",
       "  var VEGA_DEBUG = (typeof VEGA_DEBUG == \"undefined\") ? {} : VEGA_DEBUG;\n",
       "  (function(spec, embedOpt){\n",
       "    let outputDiv = document.currentScript.previousElementSibling;\n",
       "    if (outputDiv.id !== \"altair-viz-9b9763aa113040cda8e1e68c3b91019e\") {\n",
       "      outputDiv = document.getElementById(\"altair-viz-9b9763aa113040cda8e1e68c3b91019e\");\n",
       "    }\n",
       "    const paths = {\n",
       "      \"vega\": \"https://cdn.jsdelivr.net/npm/vega@5?noext\",\n",
       "      \"vega-lib\": \"https://cdn.jsdelivr.net/npm/vega-lib?noext\",\n",
       "      \"vega-lite\": \"https://cdn.jsdelivr.net/npm/vega-lite@5.20.1?noext\",\n",
       "      \"vega-embed\": \"https://cdn.jsdelivr.net/npm/vega-embed@6?noext\",\n",
       "    };\n",
       "\n",
       "    function maybeLoadScript(lib, version) {\n",
       "      var key = `${lib.replace(\"-\", \"\")}_version`;\n",
       "      return (VEGA_DEBUG[key] == version) ?\n",
       "        Promise.resolve(paths[lib]) :\n",
       "        new Promise(function(resolve, reject) {\n",
       "          var s = document.createElement('script');\n",
       "          document.getElementsByTagName(\"head\")[0].appendChild(s);\n",
       "          s.async = true;\n",
       "          s.onload = () => {\n",
       "            VEGA_DEBUG[key] = version;\n",
       "            return resolve(paths[lib]);\n",
       "          };\n",
       "          s.onerror = () => reject(`Error loading script: ${paths[lib]}`);\n",
       "          s.src = paths[lib];\n",
       "        });\n",
       "    }\n",
       "\n",
       "    function showError(err) {\n",
       "      outputDiv.innerHTML = `<div class=\"error\" style=\"color:red;\">${err}</div>`;\n",
       "      throw err;\n",
       "    }\n",
       "\n",
       "    function displayChart(vegaEmbed) {\n",
       "      vegaEmbed(outputDiv, spec, embedOpt)\n",
       "        .catch(err => showError(`Javascript Error: ${err.message}<br>This usually means there's a typo in your chart specification. See the javascript console for the full traceback.`));\n",
       "    }\n",
       "\n",
       "    if(typeof define === \"function\" && define.amd) {\n",
       "      requirejs.config({paths});\n",
       "      require([\"vega-embed\"], displayChart, err => showError(`Error loading script: ${err.message}`));\n",
       "    } else {\n",
       "      maybeLoadScript(\"vega\", \"5\")\n",
       "        .then(() => maybeLoadScript(\"vega-lite\", \"5.20.1\"))\n",
       "        .then(() => maybeLoadScript(\"vega-embed\", \"6\"))\n",
       "        .catch(showError)\n",
       "        .then(() => displayChart(vegaEmbed));\n",
       "    }\n",
       "  })({\"config\": {\"view\": {\"continuousWidth\": 300, \"continuousHeight\": 300}}, \"vconcat\": [{\"layer\": [{\"mark\": {\"type\": \"bar\"}, \"encoding\": {\"x\": {\"bin\": {\"step\": 0.01}, \"field\": \"P\", \"scale\": {\"nice\": false}, \"title\": \"Mean pressure value + random errors (millibars)\", \"type\": \"quantitative\"}, \"y\": {\"aggregate\": \"count\", \"type\": \"quantitative\"}}}, {\"mark\": {\"type\": \"rule\", \"color\": \"red\", \"strokeWidth\": 2}, \"encoding\": {\"x\": {\"aggregate\": \"mean\", \"field\": \"P\", \"type\": \"quantitative\"}}}], \"height\": 100, \"width\": 300}, {\"layer\": [{\"mark\": {\"type\": \"bar\"}, \"encoding\": {\"x\": {\"bin\": {\"step\": 0.01}, \"field\": \"T\", \"scale\": {\"nice\": false}, \"title\": \"Mean temperature value + random errors (\\u02daC)\", \"type\": \"quantitative\"}, \"y\": {\"aggregate\": \"count\", \"type\": \"quantitative\"}}}, {\"mark\": {\"type\": \"rule\", \"color\": \"red\", \"strokeWidth\": 2}, \"encoding\": {\"x\": {\"aggregate\": \"mean\", \"field\": \"T\", \"type\": \"quantitative\"}}}], \"height\": 100, \"width\": 300}, {\"layer\": [{\"mark\": {\"type\": \"bar\"}, \"encoding\": {\"x\": {\"bin\": {\"step\": 0.2}, \"field\": \"RH\", \"scale\": {\"nice\": false}, \"title\": \"Mean RH value + random errors (%)\", \"type\": \"quantitative\"}, \"y\": {\"aggregate\": \"count\", \"type\": \"quantitative\"}}}, {\"mark\": {\"type\": \"rule\", \"color\": \"red\", \"strokeWidth\": 2}, \"encoding\": {\"x\": {\"aggregate\": \"mean\", \"field\": \"RH\", \"type\": \"quantitative\"}}}], \"height\": 100, \"width\": 300}, {\"layer\": [{\"mark\": {\"type\": \"bar\"}, \"encoding\": {\"x\": {\"bin\": {\"step\": 0.01}, \"field\": \"s\", \"scale\": {\"nice\": false}, \"title\": [\"Water vapor ratio (g/Kg), values calculated through\", \"Monte Carlo propagation of T, RH, and P errors\"], \"type\": \"quantitative\"}, \"y\": {\"aggregate\": \"count\", \"type\": \"quantitative\"}}}, {\"mark\": {\"type\": \"rule\", \"color\": \"red\", \"strokeWidth\": 2}, \"encoding\": {\"x\": {\"aggregate\": \"mean\", \"field\": \"s\", \"type\": \"quantitative\"}}}], \"height\": 100, \"title\": \"2\\u03c3 = 0.094\", \"width\": 300}], \"data\": {\"url\": \"altair-data-11c76fe505813b7df1e1184194446aec.json\", \"format\": {\"type\": \"json\"}}, \"$schema\": \"https://vega.github.io/schema/vega-lite/v5.20.1.json\"}, {\"mode\": \"vega-lite\"});\n",
       "</script>"
      ],
      "text/plain": [
       "alt.VConcatChart(...)"
      ]
     },
     "execution_count": 31,
     "metadata": {},
     "output_type": "execute_result"
    }
   ],
   "source": [
    "P_dist & T_dist & RH_dist & s_dist"
   ]
  },
  {
   "cell_type": "code",
   "execution_count": 32,
   "metadata": {},
   "outputs": [
    {
     "data": {
      "text/html": [
       "\n",
       "<style>\n",
       "  #altair-viz-65ec30b99bde46b99728db1c1d1a2e63.vega-embed {\n",
       "    width: 100%;\n",
       "    display: flex;\n",
       "  }\n",
       "\n",
       "  #altair-viz-65ec30b99bde46b99728db1c1d1a2e63.vega-embed details,\n",
       "  #altair-viz-65ec30b99bde46b99728db1c1d1a2e63.vega-embed details summary {\n",
       "    position: relative;\n",
       "  }\n",
       "</style>\n",
       "<div id=\"altair-viz-65ec30b99bde46b99728db1c1d1a2e63\"></div>\n",
       "<script type=\"text/javascript\">\n",
       "  var VEGA_DEBUG = (typeof VEGA_DEBUG == \"undefined\") ? {} : VEGA_DEBUG;\n",
       "  (function(spec, embedOpt){\n",
       "    let outputDiv = document.currentScript.previousElementSibling;\n",
       "    if (outputDiv.id !== \"altair-viz-65ec30b99bde46b99728db1c1d1a2e63\") {\n",
       "      outputDiv = document.getElementById(\"altair-viz-65ec30b99bde46b99728db1c1d1a2e63\");\n",
       "    }\n",
       "    const paths = {\n",
       "      \"vega\": \"https://cdn.jsdelivr.net/npm/vega@5?noext\",\n",
       "      \"vega-lib\": \"https://cdn.jsdelivr.net/npm/vega-lib?noext\",\n",
       "      \"vega-lite\": \"https://cdn.jsdelivr.net/npm/vega-lite@5.20.1?noext\",\n",
       "      \"vega-embed\": \"https://cdn.jsdelivr.net/npm/vega-embed@6?noext\",\n",
       "    };\n",
       "\n",
       "    function maybeLoadScript(lib, version) {\n",
       "      var key = `${lib.replace(\"-\", \"\")}_version`;\n",
       "      return (VEGA_DEBUG[key] == version) ?\n",
       "        Promise.resolve(paths[lib]) :\n",
       "        new Promise(function(resolve, reject) {\n",
       "          var s = document.createElement('script');\n",
       "          document.getElementsByTagName(\"head\")[0].appendChild(s);\n",
       "          s.async = true;\n",
       "          s.onload = () => {\n",
       "            VEGA_DEBUG[key] = version;\n",
       "            return resolve(paths[lib]);\n",
       "          };\n",
       "          s.onerror = () => reject(`Error loading script: ${paths[lib]}`);\n",
       "          s.src = paths[lib];\n",
       "        });\n",
       "    }\n",
       "\n",
       "    function showError(err) {\n",
       "      outputDiv.innerHTML = `<div class=\"error\" style=\"color:red;\">${err}</div>`;\n",
       "      throw err;\n",
       "    }\n",
       "\n",
       "    function displayChart(vegaEmbed) {\n",
       "      vegaEmbed(outputDiv, spec, embedOpt)\n",
       "        .catch(err => showError(`Javascript Error: ${err.message}<br>This usually means there's a typo in your chart specification. See the javascript console for the full traceback.`));\n",
       "    }\n",
       "\n",
       "    if(typeof define === \"function\" && define.amd) {\n",
       "      requirejs.config({paths});\n",
       "      require([\"vega-embed\"], displayChart, err => showError(`Error loading script: ${err.message}`));\n",
       "    } else {\n",
       "      maybeLoadScript(\"vega\", \"5\")\n",
       "        .then(() => maybeLoadScript(\"vega-lite\", \"5.20.1\"))\n",
       "        .then(() => maybeLoadScript(\"vega-embed\", \"6\"))\n",
       "        .catch(showError)\n",
       "        .then(() => displayChart(vegaEmbed));\n",
       "    }\n",
       "  })({\"config\": {\"view\": {\"continuousWidth\": 300, \"continuousHeight\": 300}}, \"layer\": [{\"data\": {\"name\": \"empty\"}, \"mark\": {\"type\": \"rule\"}, \"encoding\": {\"x\": {\"field\": \"x\", \"type\": \"quantitative\"}}, \"transform\": [{\"calculate\": \"0.094\", \"as\": \"x\"}]}, {\"data\": {\"name\": \"empty\"}, \"mark\": {\"type\": \"rule\"}, \"encoding\": {\"x\": {\"field\": \"x\", \"type\": \"quantitative\"}}, \"transform\": [{\"calculate\": \"-0.094\", \"as\": \"x\"}]}, {\"data\": {\"url\": \"altair-data-b0fe3e625ca649c8bf9ed9c21e11273e.json\", \"format\": {\"type\": \"json\"}}, \"mark\": {\"type\": \"bar\", \"color\": \"blue\", \"opacity\": 0.5}, \"encoding\": {\"x\": {\"bin\": {\"step\": 0.05}, \"field\": \"vertical\", \"title\": \"\\u2206 (Water vapor mixing ratio) (g/Kg)\", \"type\": \"quantitative\"}, \"y\": {\"aggregate\": \"count\", \"stack\": null, \"type\": \"quantitative\"}}}, {\"data\": {\"url\": \"altair-data-b0fe3e625ca649c8bf9ed9c21e11273e.json\", \"format\": {\"type\": \"json\"}}, \"mark\": {\"type\": \"bar\", \"color\": \"red\", \"opacity\": 0.5}, \"encoding\": {\"x\": {\"bin\": {\"step\": 0.05}, \"field\": \"horizontal\", \"type\": \"quantitative\"}, \"y\": {\"aggregate\": \"count\", \"stack\": null, \"type\": \"quantitative\"}}}], \"height\": 200, \"$schema\": \"https://vega.github.io/schema/vega-lite/v5.20.1.json\", \"datasets\": {\"empty\": [{}]}}, {\"mode\": \"vega-lite\"});\n",
       "</script>"
      ],
      "text/plain": [
       "alt.LayerChart(...)"
      ]
     },
     "execution_count": 32,
     "metadata": {},
     "output_type": "execute_result"
    }
   ],
   "source": [
    "src = mixing_ratio_profile_df.query(\"height == 2\")[['value']].rename(columns={'value': 's_2m'}).join(\n",
    "    mixing_ratio_profile_df.query(\"height == 20\")['value'].rename('s_20m')\n",
    ")\n",
    "src_vert = src['s_20m'] - src['s_2m']\n",
    "src_horiz = kps_lateral_simple_df['ds_3m']\n",
    "\n",
    "rule = alt.Chart().mark_rule().transform_calculate(x=f'{s_2_sigma}').encode(x='x:Q')\n",
    "rule2 = alt.Chart().mark_rule().transform_calculate(x=f'-{s_2_sigma}').encode(x='x:Q')\n",
    "rule + rule2 + alt.Chart(\n",
    "    (pd.DataFrame(src_vert.rename('vertical')).join(src_horiz.rename('horizontal'))*1000).query(\"vertical > -1\").query(\"horizontal > -1\")\n",
    ").mark_bar(color='blue', opacity=0.5).encode(\n",
    "    alt.X('vertical:Q').bin(step=0.05).title(\"∆ (Water vapor mixing ratio) (g/Kg)\"),\n",
    "    alt.Y('count():Q').stack(None),\n",
    ") + alt.Chart(\n",
    "    (pd.DataFrame(src_vert.rename('vertical')).join(src_horiz.rename('horizontal'))*1000).query(\"vertical > -1\").query(\"horizontal > -1\")\n",
    ").mark_bar(color='red', opacity=0.5).encode(\n",
    "    alt.X('horizontal:Q').bin(step=0.05),\n",
    "    alt.Y('count():Q').stack(None),\n",
    ").properties(height = 200)"
   ]
  },
  {
   "cell_type": "code",
   "execution_count": 33,
   "metadata": {},
   "outputs": [
    {
     "name": "stdout",
     "output_type": "stream",
     "text": [
      "0.9347\n",
      "\n",
      "varying P +/- 20millibars\n",
      "0.9608\n",
      "0.9085\n",
      "\n",
      "varying T +/- 2˚C\n",
      "0.9277\n",
      "0.9417\n"
     ]
    }
   ],
   "source": [
    "import metpy.calc\n",
    "mean_p = tidy_df.query(\"variable == 'P_10m_c'\").value.mean() * units(\"millibars\")\n",
    "mean_t = tidy_df.query(\"variable == 'T_10m_c'\").value.mean() * units(\"degC\")\n",
    "print(round(metpy.calc.density(mean_p, mean_t, 0).magnitude.item(), 4))\n",
    "\n",
    "print()\n",
    "print(\"varying P +/- 20millibars\")\n",
    "print(round(metpy.calc.density(mean_p + 20*units(\"millibars\"), mean_t, 0).magnitude.item(), 4))\n",
    "print(round(metpy.calc.density(mean_p - 20*units(\"millibars\"), mean_t, 0).magnitude.item(), 4))\n",
    "\n",
    "print()\n",
    "print(\"varying T +/- 2˚C\")\n",
    "print(round(metpy.calc.density(mean_p, mean_t + 2*units(\"delta_degC\"), 0).magnitude.item(), 4))\n",
    "print(round(metpy.calc.density(mean_p, mean_t - 2*units(\"delta_degC\"), 0).magnitude.item(), 4))"
   ]
  },
  {
   "cell_type": "markdown",
   "metadata": {},
   "source": [
    "# Plot water vapor transport results"
   ]
  },
  {
   "cell_type": "markdown",
   "metadata": {},
   "source": [
    "## Seasonal Composite Analysis - Non Blowing Snow Conditions"
   ]
  },
  {
   "cell_type": "markdown",
   "metadata": {},
   "source": [
    "Define plotting functions"
   ]
  },
  {
   "cell_type": "code",
   "execution_count": 89,
   "metadata": {},
   "outputs": [],
   "source": [
    "PLOT_WIDTH = 150\n",
    "PLOT_HEIGHT = 150\n",
    "\n",
    "# Function to plot diurnal cycles in conservation terms, for the vertical advection estimates using a numerical solution\n",
    "########################################################\n",
    "def get_vert_advection_with_height(src, title, y_domain=[-0.0002, 0.0002]):\n",
    "    vars = [ \n",
    "        # 'vertical_advection_numerical_2',\n",
    "        'vertical_advection_numerical_3',\n",
    "        'vertical_advection_numerical_5',\n",
    "        'vertical_advection_numerical_10',\n",
    "        'vertical_advection_numerical_15',\n",
    "        'vertical_advection_numerical_20',\n",
    "    ]\n",
    "    vert_advection_chart = alt.Chart(src).mark_line().transform_fold(\n",
    "        vars\n",
    "    ).encode(\n",
    "        alt.X('hours(time):T').axis(labelAlign='center', tickCount=4),\n",
    "        alt.Y('median(value):Q').title('Flux density (g/m^3/s)').scale(\n",
    "            domain = y_domain, clamp=False\n",
    "        ).axis(\n",
    "                values=[-0.0003, -0.0002, -0.0001, 0.000, 0.0001, 0.0002, 0.0003], \n",
    "                tickCount = 7\n",
    "            ),\n",
    "        alt.Color('key:N').sort(vars).scale(scheme='turbo')\n",
    "    ).properties(width=PLOT_WIDTH, height=PLOT_HEIGHT, title=title)\n",
    "    flux_div_chart = alt.Chart(src).mark_line(\n",
    "        color='black'\n",
    "    ).transform_fold([\n",
    "        'ds/dt', 'vertical_turb_flux_divergence_3to20'\n",
    "    ]).encode(\n",
    "        alt.X('hours(time):T').axis(labelAlign='center'),\n",
    "        alt.Y('median(value):Q').title('Flux density (g/m^3/s)').scale(domain = y_domain, clamp=False),\n",
    "        alt.StrokeDash('key:N').sort(['vertical_turb_flux_divergence_3to20', 'ds/dt']).scale(range=[(4,2), (1.5,1.5)])\n",
    "    ).properties(width=PLOT_WIDTH, height=PLOT_HEIGHT, title=title)\n",
    "    return (vert_advection_chart + flux_div_chart)\n",
    "    \n",
    "# Function to plot diurnal cycles in profiles\n",
    "########################################################\n",
    "def plot_profiles(src):\n",
    "    return alt.Chart(src).transform_filter(\n",
    "        alt.datum.height > 1\n",
    "    ).transform_filter(\n",
    "        alt.datum.height != 12\n",
    "    ).transform_filter(\n",
    "        alt.datum.height != 6\n",
    "    ).mark_line(\n",
    "        point={'size':20, 'color': 'black'}, strokeWidth=1, color='black'\n",
    "    ).encode(\n",
    "        alt.X('median(value):Q').scale(zero=False).title('Mixing ratio (g/Kg)'),\n",
    "        alt.Y('height:Q').title('Height (m)'),\n",
    "        alt.Order('height:Q'),\n",
    "        alt.Detail('conditions:N')\n",
    "    ).properties(width=PLOT_WIDTH, height=PLOT_HEIGHT)\n",
    "\n",
    "# Function to plot diurnal cycles in w\n",
    "########################################################\n",
    "def w_diurnal_chart(src, title):\n",
    "    line = alt.Chart().transform_calculate(y = '0').mark_rule().encode(y='y:Q')\n",
    "    return alt.layer(\n",
    "        line, \n",
    "        alt.Chart().mark_line().encode(\n",
    "            alt.X('hours(time):T').axis(labelAlign='center', values=[0,6,12,18,]),\n",
    "            alt.Y('median(value):Q').title('Vertical velocity (m/s)').scale(\n",
    "                domain = [-0.03, 0.03], clamp=False\n",
    "            ).axis(\n",
    "                values=[-0.03, -0.02, -0.01, 0.0, 0.01, 0.02, 0.03], \n",
    "                tickCount = 7\n",
    "            ),\n",
    "            alt.Color('height:O').scale(scheme='turbo')\n",
    "        ), \n",
    "        data = src\n",
    "    ).properties(width=PLOT_WIDTH, height=PLOT_HEIGHT, title=title)"
   ]
  },
  {
   "cell_type": "markdown",
   "metadata": {},
   "source": [
    "Isolate data"
   ]
  },
  {
   "cell_type": "code",
   "execution_count": 90,
   "metadata": {},
   "outputs": [],
   "source": [
    "# Identify timestamps for the two categories\n",
    "upvalley_nobs_times = set(pd.to_datetime(upvalley_wind_times)).intersection(set(nobs_times))\n",
    "downvalley_nobs_times = set(pd.to_datetime(downvalley_wind_times)).intersection(set(nobs_times))\n",
    "\n",
    "# Data for diurnal cycles in CONSERVATION TERMS, FINITE DIFFERENCE METHOD\n",
    "########################################################\n",
    "src_cons_terms_numerical = advection_1d_fluxdensity_nonnorm_df.copy()\n",
    "src_cons_terms_numerical_upvalley_nobs = src_cons_terms_numerical[src_cons_terms_numerical.index.isin(upvalley_nobs_times)].reset_index()\n",
    "src_cons_terms_numerical_dovalley_nobs = src_cons_terms_numerical[src_cons_terms_numerical.index.isin(downvalley_nobs_times)].reset_index()\n",
    "\n",
    "# Data for diurnal cycles in MIXING RATIO PROFILES\n",
    "########################################################\n",
    "src_mixingratio = tidy_df[tidy_df.measurement == 'mixing ratio'].query(\"tower == 'c'\")\n",
    "src_mixingratio = src_mixingratio[src_mixingratio.time.isin(nobs_times)]\n",
    "src_mixingratio['conditions'] = src_mixingratio.time.dt.hour\n",
    "# src_mixingratio = src_mixingratio[src_mixingratio.conditions % 4 == 0]\n",
    "src_mixingratio['conditions'] = pd.cut(\n",
    "    src_mixingratio.time.dt.hour,\n",
    "    [-1,3,6,9,12,15,18,21,24],\n",
    "    labels=['0-3', '3-6', '6-9', '9-12', '12-15', '15-18', '18-21', '21-0'],\n",
    "    right=False\n",
    ")\n",
    "\n",
    "src_mixingratio = src_mixingratio[\n",
    "    src_mixingratio['conditions'].isin([ '0-3', '6-9', '12-15', '18-21'])\n",
    "]\n",
    "src_mixingratio['value'] = src_mixingratio['value']*1000\n",
    "src_mixingratio_upvalley_nobs = src_mixingratio[src_mixingratio.time.isin(upvalley_nobs_times)].query(\"height > 1\")\n",
    "src_mixingratio_dovalley_nobs = src_mixingratio[src_mixingratio.time.isin(downvalley_nobs_times)].query(\"height > 1\")\n",
    "\n",
    "# Data for diurnal cycles in MEAN W\n",
    "########################################################\n",
    "src_w = tidy_df[tidy_df.measurement == 'w'].query(\"tower == 'c'\")\n",
    "src_w_upvalley_nobs = src_w[src_w.time.isin(upvalley_nobs_times)]\n",
    "src_w_dovalley_nobs = src_w[src_w.time.isin(downvalley_nobs_times)]\n",
    "src_w_upvalley_nobs = src_w_upvalley_nobs.query(\"height > 1\")\n",
    "\n",
    "src_w_dovalley_nobs = src_w_dovalley_nobs.query(\"height > 1\")"
   ]
  },
  {
   "cell_type": "code",
   "execution_count": 91,
   "metadata": {},
   "outputs": [
    {
     "data": {
      "text/html": [
       "\n",
       "<style>\n",
       "  #altair-viz-b5ae23209f5d46779aa855131702dcdc.vega-embed {\n",
       "    width: 100%;\n",
       "    display: flex;\n",
       "  }\n",
       "\n",
       "  #altair-viz-b5ae23209f5d46779aa855131702dcdc.vega-embed details,\n",
       "  #altair-viz-b5ae23209f5d46779aa855131702dcdc.vega-embed details summary {\n",
       "    position: relative;\n",
       "  }\n",
       "</style>\n",
       "<div id=\"altair-viz-b5ae23209f5d46779aa855131702dcdc\"></div>\n",
       "<script type=\"text/javascript\">\n",
       "  var VEGA_DEBUG = (typeof VEGA_DEBUG == \"undefined\") ? {} : VEGA_DEBUG;\n",
       "  (function(spec, embedOpt){\n",
       "    let outputDiv = document.currentScript.previousElementSibling;\n",
       "    if (outputDiv.id !== \"altair-viz-b5ae23209f5d46779aa855131702dcdc\") {\n",
       "      outputDiv = document.getElementById(\"altair-viz-b5ae23209f5d46779aa855131702dcdc\");\n",
       "    }\n",
       "    const paths = {\n",
       "      \"vega\": \"https://cdn.jsdelivr.net/npm/vega@5?noext\",\n",
       "      \"vega-lib\": \"https://cdn.jsdelivr.net/npm/vega-lib?noext\",\n",
       "      \"vega-lite\": \"https://cdn.jsdelivr.net/npm/vega-lite@5.20.1?noext\",\n",
       "      \"vega-embed\": \"https://cdn.jsdelivr.net/npm/vega-embed@6?noext\",\n",
       "    };\n",
       "\n",
       "    function maybeLoadScript(lib, version) {\n",
       "      var key = `${lib.replace(\"-\", \"\")}_version`;\n",
       "      return (VEGA_DEBUG[key] == version) ?\n",
       "        Promise.resolve(paths[lib]) :\n",
       "        new Promise(function(resolve, reject) {\n",
       "          var s = document.createElement('script');\n",
       "          document.getElementsByTagName(\"head\")[0].appendChild(s);\n",
       "          s.async = true;\n",
       "          s.onload = () => {\n",
       "            VEGA_DEBUG[key] = version;\n",
       "            return resolve(paths[lib]);\n",
       "          };\n",
       "          s.onerror = () => reject(`Error loading script: ${paths[lib]}`);\n",
       "          s.src = paths[lib];\n",
       "        });\n",
       "    }\n",
       "\n",
       "    function showError(err) {\n",
       "      outputDiv.innerHTML = `<div class=\"error\" style=\"color:red;\">${err}</div>`;\n",
       "      throw err;\n",
       "    }\n",
       "\n",
       "    function displayChart(vegaEmbed) {\n",
       "      vegaEmbed(outputDiv, spec, embedOpt)\n",
       "        .catch(err => showError(`Javascript Error: ${err.message}<br>This usually means there's a typo in your chart specification. See the javascript console for the full traceback.`));\n",
       "    }\n",
       "\n",
       "    if(typeof define === \"function\" && define.amd) {\n",
       "      requirejs.config({paths});\n",
       "      require([\"vega-embed\"], displayChart, err => showError(`Error loading script: ${err.message}`));\n",
       "    } else {\n",
       "      maybeLoadScript(\"vega\", \"5\")\n",
       "        .then(() => maybeLoadScript(\"vega-lite\", \"5.20.1\"))\n",
       "        .then(() => maybeLoadScript(\"vega-embed\", \"6\"))\n",
       "        .catch(showError)\n",
       "        .then(() => displayChart(vegaEmbed));\n",
       "    }\n",
       "  })({\"config\": {\"view\": {\"continuousWidth\": 300, \"continuousHeight\": 300}, \"legend\": {\"columns\": 1, \"orient\": \"top\"}}, \"hconcat\": [{\"vconcat\": [{\"data\": {\"url\": \"altair-data-8edb03d115ad37773816ef00b9cc6a00.json\", \"format\": {\"type\": \"json\"}}, \"mark\": {\"type\": \"line\", \"color\": \"black\", \"point\": {\"size\": 20, \"color\": \"black\"}, \"strokeWidth\": 1}, \"encoding\": {\"detail\": {\"field\": \"conditions\", \"type\": \"nominal\"}, \"order\": {\"field\": \"height\", \"type\": \"quantitative\"}, \"x\": {\"aggregate\": \"median\", \"field\": \"value\", \"scale\": {\"zero\": false}, \"title\": \"Mixing ratio (g/Kg)\", \"type\": \"quantitative\"}, \"y\": {\"field\": \"height\", \"title\": \"Height (m)\", \"type\": \"quantitative\"}}, \"height\": 150, \"title\": \"\", \"transform\": [{\"filter\": \"(datum.height > 1)\"}, {\"filter\": \"(datum.height !== 12)\"}, {\"filter\": \"(datum.height !== 6)\"}], \"width\": 150}, {\"data\": {\"url\": \"altair-data-b385f14b6a4e2e20ed5fb098ec959b47.json\", \"format\": {\"type\": \"json\"}}, \"mark\": {\"type\": \"line\", \"color\": \"black\", \"point\": {\"size\": 20, \"color\": \"black\"}, \"strokeWidth\": 1}, \"encoding\": {\"detail\": {\"field\": \"conditions\", \"type\": \"nominal\"}, \"order\": {\"field\": \"height\", \"type\": \"quantitative\"}, \"x\": {\"aggregate\": \"median\", \"field\": \"value\", \"scale\": {\"zero\": false}, \"title\": \"Mixing ratio (g/Kg)\", \"type\": \"quantitative\"}, \"y\": {\"field\": \"height\", \"title\": \"Height (m)\", \"type\": \"quantitative\"}}, \"height\": 150, \"title\": \"\", \"transform\": [{\"filter\": \"(datum.height > 1)\"}, {\"filter\": \"(datum.height !== 12)\"}, {\"filter\": \"(datum.height !== 6)\"}], \"width\": 150}]}, {\"vconcat\": [{\"layer\": [{\"mark\": {\"type\": \"rule\"}, \"encoding\": {\"y\": {\"field\": \"y\", \"type\": \"quantitative\"}}, \"transform\": [{\"calculate\": \"0\", \"as\": \"y\"}]}, {\"mark\": {\"type\": \"line\"}, \"encoding\": {\"color\": {\"field\": \"height\", \"scale\": {\"scheme\": \"turbo\"}, \"type\": \"ordinal\"}, \"x\": {\"axis\": {\"labelAlign\": \"center\", \"values\": [0, 6, 12, 18]}, \"field\": \"time\", \"timeUnit\": \"hours\", \"type\": \"temporal\"}, \"y\": {\"aggregate\": \"median\", \"axis\": {\"values\": [-0.03, -0.02, -0.01, 0.0, 0.01, 0.02, 0.03], \"tickCount\": 7}, \"field\": \"value\", \"scale\": {\"domain\": [-0.03, 0.03], \"clamp\": false}, \"title\": \"Vertical velocity (m/s)\", \"type\": \"quantitative\"}}}], \"data\": {\"url\": \"altair-data-3ac7ba518e5e16dfef9d99bd56c5d8e3.json\", \"format\": {\"type\": \"json\"}}, \"height\": 150, \"title\": \"\", \"width\": 150}, {\"layer\": [{\"mark\": {\"type\": \"rule\"}, \"encoding\": {\"y\": {\"field\": \"y\", \"type\": \"quantitative\"}}, \"transform\": [{\"calculate\": \"0\", \"as\": \"y\"}]}, {\"mark\": {\"type\": \"line\"}, \"encoding\": {\"color\": {\"field\": \"height\", \"scale\": {\"scheme\": \"turbo\"}, \"type\": \"ordinal\"}, \"x\": {\"axis\": {\"labelAlign\": \"center\", \"values\": [0, 6, 12, 18]}, \"field\": \"time\", \"timeUnit\": \"hours\", \"type\": \"temporal\"}, \"y\": {\"aggregate\": \"median\", \"axis\": {\"values\": [-0.03, -0.02, -0.01, 0.0, 0.01, 0.02, 0.03], \"tickCount\": 7}, \"field\": \"value\", \"scale\": {\"domain\": [-0.03, 0.03], \"clamp\": false}, \"title\": \"Vertical velocity (m/s)\", \"type\": \"quantitative\"}}}], \"data\": {\"url\": \"altair-data-a7bbed5c62c5255dae867e50544e54a6.json\", \"format\": {\"type\": \"json\"}}, \"height\": 150, \"title\": \"\", \"width\": 150}], \"resolve\": {\"scale\": {\"y\": \"shared\"}}}, {\"vconcat\": [{\"layer\": [{\"mark\": {\"type\": \"line\"}, \"encoding\": {\"color\": {\"field\": \"key\", \"scale\": {\"scheme\": \"turbo\"}, \"sort\": [\"vertical_advection_numerical_3\", \"vertical_advection_numerical_5\", \"vertical_advection_numerical_10\", \"vertical_advection_numerical_15\", \"vertical_advection_numerical_20\"], \"type\": \"nominal\"}, \"x\": {\"axis\": {\"labelAlign\": \"center\", \"tickCount\": 4}, \"field\": \"time\", \"timeUnit\": \"hours\", \"type\": \"temporal\"}, \"y\": {\"aggregate\": \"median\", \"axis\": {\"values\": [-0.0003, -0.0002, -0.0001, 0.0, 0.0001, 0.0002, 0.0003], \"tickCount\": 7}, \"field\": \"value\", \"scale\": {\"domain\": [-0.0002, 0.0002], \"clamp\": false}, \"title\": \"Flux density (g/m^3/s)\", \"type\": \"quantitative\"}}, \"title\": \"\", \"transform\": [{\"fold\": [\"vertical_advection_numerical_3\", \"vertical_advection_numerical_5\", \"vertical_advection_numerical_10\", \"vertical_advection_numerical_15\", \"vertical_advection_numerical_20\"]}]}, {\"mark\": {\"type\": \"line\", \"color\": \"black\"}, \"encoding\": {\"strokeDash\": {\"field\": \"key\", \"scale\": {\"range\": [[4, 2], [1.5, 1.5]]}, \"sort\": [\"vertical_turb_flux_divergence_3to20\", \"ds/dt\"], \"type\": \"nominal\"}, \"x\": {\"axis\": {\"labelAlign\": \"center\"}, \"field\": \"time\", \"timeUnit\": \"hours\", \"type\": \"temporal\"}, \"y\": {\"aggregate\": \"median\", \"field\": \"value\", \"scale\": {\"domain\": [-0.0002, 0.0002], \"clamp\": false}, \"title\": \"Flux density (g/m^3/s)\", \"type\": \"quantitative\"}}, \"title\": \"\", \"transform\": [{\"fold\": [\"ds/dt\", \"vertical_turb_flux_divergence_3to20\"]}]}], \"data\": {\"url\": \"altair-data-2ec1171b75b34bef7e7c105db33b9cb9.json\", \"format\": {\"type\": \"json\"}}, \"height\": 150, \"width\": 150}, {\"layer\": [{\"mark\": {\"type\": \"line\"}, \"encoding\": {\"color\": {\"field\": \"key\", \"scale\": {\"scheme\": \"turbo\"}, \"sort\": [\"vertical_advection_numerical_3\", \"vertical_advection_numerical_5\", \"vertical_advection_numerical_10\", \"vertical_advection_numerical_15\", \"vertical_advection_numerical_20\"], \"type\": \"nominal\"}, \"x\": {\"axis\": {\"labelAlign\": \"center\", \"tickCount\": 4}, \"field\": \"time\", \"timeUnit\": \"hours\", \"type\": \"temporal\"}, \"y\": {\"aggregate\": \"median\", \"axis\": {\"values\": [-0.0003, -0.0002, -0.0001, 0.0, 0.0001, 0.0002, 0.0003], \"tickCount\": 7}, \"field\": \"value\", \"scale\": {\"domain\": [-0.0002, 0.0002], \"clamp\": false}, \"title\": \"Flux density (g/m^3/s)\", \"type\": \"quantitative\"}}, \"title\": \"\", \"transform\": [{\"fold\": [\"vertical_advection_numerical_3\", \"vertical_advection_numerical_5\", \"vertical_advection_numerical_10\", \"vertical_advection_numerical_15\", \"vertical_advection_numerical_20\"]}]}, {\"mark\": {\"type\": \"line\", \"color\": \"black\"}, \"encoding\": {\"strokeDash\": {\"field\": \"key\", \"scale\": {\"range\": [[4, 2], [1.5, 1.5]]}, \"sort\": [\"vertical_turb_flux_divergence_3to20\", \"ds/dt\"], \"type\": \"nominal\"}, \"x\": {\"axis\": {\"labelAlign\": \"center\"}, \"field\": \"time\", \"timeUnit\": \"hours\", \"type\": \"temporal\"}, \"y\": {\"aggregate\": \"median\", \"field\": \"value\", \"scale\": {\"domain\": [-0.0002, 0.0002], \"clamp\": false}, \"title\": \"Flux density (g/m^3/s)\", \"type\": \"quantitative\"}}, \"title\": \"\", \"transform\": [{\"fold\": [\"ds/dt\", \"vertical_turb_flux_divergence_3to20\"]}]}], \"data\": {\"url\": \"altair-data-a4aceed06ea13be108025ce4cf8efb4b.json\", \"format\": {\"type\": \"json\"}}, \"height\": 150, \"width\": 150}]}], \"resolve\": {\"scale\": {\"color\": \"independent\", \"strokeDash\": \"independent\"}}, \"$schema\": \"https://vega.github.io/schema/vega-lite/v5.20.1.json\"}, {\"mode\": \"vega-lite\"});\n",
       "</script>"
      ],
      "text/plain": [
       "alt.HConcatChart(...)"
      ]
     },
     "execution_count": 91,
     "metadata": {},
     "output_type": "execute_result"
    }
   ],
   "source": [
    "s_profile_charts = (\n",
    "    plot_profiles(src_mixingratio_upvalley_nobs).properties(title='') &\\\n",
    "    plot_profiles(src_mixingratio_dovalley_nobs).properties(title='')\n",
    ")\n",
    "w_charts = (\n",
    "    w_diurnal_chart(src_w_upvalley_nobs.query(\"height > 2\"), title='') &\\\n",
    "    w_diurnal_chart(src_w_dovalley_nobs.query(\"height > 2\"), title='')\n",
    ").resolve_scale(y='shared')\n",
    "conservation_charts_numerical = (\n",
    "    get_vert_advection_with_height(src_cons_terms_numerical_upvalley_nobs, title='', y_domain=[-0.0002, 0.0002]) &\\\n",
    "    get_vert_advection_with_height(src_cons_terms_numerical_dovalley_nobs, title='', y_domain=[-0.0002, 0.0002])\n",
    ")\n",
    "\n",
    "(\n",
    "    (\n",
    "        s_profile_charts | w_charts | conservation_charts_numerical\n",
    "    ).resolve_scale(color='independent', strokeDash='independent')\n",
    ").configure_legend(orient='top', columns=1)"
   ]
  },
  {
   "cell_type": "code",
   "execution_count": 92,
   "metadata": {},
   "outputs": [
    {
     "name": "stdout",
     "output_type": "stream",
     "text": [
      "0.184\n",
      "0.507\n"
     ]
    }
   ],
   "source": [
    "upvalley_wind_times = tidy_df[tidy_df.variable == 'dir_3m_c'].dropna().query(\"value < 152\").query(\"value > 92\").drop_duplicates().time\n",
    "downvalley_wind_times = tidy_df[tidy_df.variable == 'dir_3m_c'].dropna().query(\"value < 342\").query(\"value > 292\").drop_duplicates().time\n",
    "all_wind_times = tidy_df[tidy_df.variable == 'dir_3m_c'].drop_duplicates().time\n",
    "print(round(len(upvalley_wind_times)/len(all_wind_times),3))\n",
    "print(round(len(downvalley_wind_times)/len(all_wind_times),3))"
   ]
  },
  {
   "cell_type": "code",
   "execution_count": 93,
   "metadata": {},
   "outputs": [
    {
     "name": "stderr",
     "output_type": "stream",
     "text": [
      "/var/folders/x_/2h52bcjx2px15bhmdpdd748h0000gn/T/ipykernel_49359/3978936221.py:2: UserWarning: Boolean Series key will be reindexed to match DataFrame index.\n",
      "  src = tidy_df[tidy_df.time.isin(downvalley_wind_times)][\n"
     ]
    },
    {
     "data": {
      "text/plain": [
       "Text(0.5, 1.0, '20m wind rose')"
      ]
     },
     "execution_count": 93,
     "metadata": {},
     "output_type": "execute_result"
    },
    {
     "data": {
      "image/png": "[encoded data removed]",
      "text/plain": [
       "<Figure size 160x160 with 1 Axes>"
      ]
     },
     "metadata": {},
     "output_type": "display_data"
    }
   ],
   "source": [
    "from windrose import WindroseAxes\n",
    "src = tidy_df[tidy_df.time.isin(downvalley_wind_times)][\n",
    "    tidy_df.variable.isin(['spd_20m_c', 'dir_20m_c'])\n",
    "].pivot_table(values = 'value', index='time', columns=['measurement']).reset_index()\n",
    "ax = WindroseAxes.from_ax(figsize=(2,2))\n",
    "ax.bar(src['wind direction'], src['wind speed'], normed=True, opening=.9, edgecolor='white', bins=1, nsector=17)\n",
    "ax.set_yticks([])\n",
    "# ax.set_yticklabels(['10%','25%'])\n",
    "plt.title(\"20m wind rose\")"
   ]
  },
  {
   "cell_type": "code",
   "execution_count": 94,
   "metadata": {},
   "outputs": [
    {
     "name": "stderr",
     "output_type": "stream",
     "text": [
      "/var/folders/x_/2h52bcjx2px15bhmdpdd748h0000gn/T/ipykernel_49359/1302002679.py:2: UserWarning: Boolean Series key will be reindexed to match DataFrame index.\n",
      "  src = tidy_df[tidy_df.time.isin(upvalley_wind_times)][\n"
     ]
    },
    {
     "data": {
      "text/plain": [
       "Text(0.5, 1.0, '20m wind rose')"
      ]
     },
     "execution_count": 94,
     "metadata": {},
     "output_type": "execute_result"
    },
    {
     "data": {
      "image/png": "[encoded data removed]",
      "text/plain": [
       "<Figure size 160x160 with 1 Axes>"
      ]
     },
     "metadata": {},
     "output_type": "display_data"
    }
   ],
   "source": [
    "from windrose import WindroseAxes\n",
    "src = tidy_df[tidy_df.time.isin(upvalley_wind_times)][\n",
    "    tidy_df.variable.isin(['spd_20m_c', 'dir_20m_c'])\n",
    "].pivot_table(values = 'value', index='time', columns=['measurement']).reset_index()\n",
    "ax = WindroseAxes.from_ax(figsize=(2,2))\n",
    "ax.bar(src['wind direction'], src['wind speed'], normed=True, opening=.9, edgecolor='white', bins=1, nsector=17)\n",
    "ax.set_yticks([])\n",
    "# ax.set_yticklabels(['10%','25%'])\n",
    "plt.title(\"20m wind rose\")"
   ]
  },
  {
   "cell_type": "markdown",
   "metadata": {},
   "source": [
    "### December Blowing Snow Case Study"
   ]
  },
  {
   "cell_type": "code",
   "execution_count": 110,
   "metadata": {},
   "outputs": [
    {
     "data": {
      "text/html": [
       "\n",
       "<style>\n",
       "  #altair-viz-5c90f3ccf99540c4879c7e3025fe1edb.vega-embed {\n",
       "    width: 100%;\n",
       "    display: flex;\n",
       "  }\n",
       "\n",
       "  #altair-viz-5c90f3ccf99540c4879c7e3025fe1edb.vega-embed details,\n",
       "  #altair-viz-5c90f3ccf99540c4879c7e3025fe1edb.vega-embed details summary {\n",
       "    position: relative;\n",
       "  }\n",
       "</style>\n",
       "<div id=\"altair-viz-5c90f3ccf99540c4879c7e3025fe1edb\"></div>\n",
       "<script type=\"text/javascript\">\n",
       "  var VEGA_DEBUG = (typeof VEGA_DEBUG == \"undefined\") ? {} : VEGA_DEBUG;\n",
       "  (function(spec, embedOpt){\n",
       "    let outputDiv = document.currentScript.previousElementSibling;\n",
       "    if (outputDiv.id !== \"altair-viz-5c90f3ccf99540c4879c7e3025fe1edb\") {\n",
       "      outputDiv = document.getElementById(\"altair-viz-5c90f3ccf99540c4879c7e3025fe1edb\");\n",
       "    }\n",
       "    const paths = {\n",
       "      \"vega\": \"https://cdn.jsdelivr.net/npm/vega@5?noext\",\n",
       "      \"vega-lib\": \"https://cdn.jsdelivr.net/npm/vega-lib?noext\",\n",
       "      \"vega-lite\": \"https://cdn.jsdelivr.net/npm/vega-lite@5.20.1?noext\",\n",
       "      \"vega-embed\": \"https://cdn.jsdelivr.net/npm/vega-embed@6?noext\",\n",
       "    };\n",
       "\n",
       "    function maybeLoadScript(lib, version) {\n",
       "      var key = `${lib.replace(\"-\", \"\")}_version`;\n",
       "      return (VEGA_DEBUG[key] == version) ?\n",
       "        Promise.resolve(paths[lib]) :\n",
       "        new Promise(function(resolve, reject) {\n",
       "          var s = document.createElement('script');\n",
       "          document.getElementsByTagName(\"head\")[0].appendChild(s);\n",
       "          s.async = true;\n",
       "          s.onload = () => {\n",
       "            VEGA_DEBUG[key] = version;\n",
       "            return resolve(paths[lib]);\n",
       "          };\n",
       "          s.onerror = () => reject(`Error loading script: ${paths[lib]}`);\n",
       "          s.src = paths[lib];\n",
       "        });\n",
       "    }\n",
       "\n",
       "    function showError(err) {\n",
       "      outputDiv.innerHTML = `<div class=\"error\" style=\"color:red;\">${err}</div>`;\n",
       "      throw err;\n",
       "    }\n",
       "\n",
       "    function displayChart(vegaEmbed) {\n",
       "      vegaEmbed(outputDiv, spec, embedOpt)\n",
       "        .catch(err => showError(`Javascript Error: ${err.message}<br>This usually means there's a typo in your chart specification. See the javascript console for the full traceback.`));\n",
       "    }\n",
       "\n",
       "    if(typeof define === \"function\" && define.amd) {\n",
       "      requirejs.config({paths});\n",
       "      require([\"vega-embed\"], displayChart, err => showError(`Error loading script: ${err.message}`));\n",
       "    } else {\n",
       "      maybeLoadScript(\"vega\", \"5\")\n",
       "        .then(() => maybeLoadScript(\"vega-lite\", \"5.20.1\"))\n",
       "        .then(() => maybeLoadScript(\"vega-embed\", \"6\"))\n",
       "        .catch(showError)\n",
       "        .then(() => displayChart(vegaEmbed));\n",
       "    }\n",
       "  })({\"config\": {\"view\": {\"continuousWidth\": 300, \"continuousHeight\": 300}}, \"hconcat\": [{\"data\": {\"url\": \"altair-data-c2639c88f3c022a882123e629a9c3022.json\", \"format\": {\"type\": \"json\"}}, \"mark\": {\"type\": \"line\", \"color\": \"black\"}, \"encoding\": {\"strokeDash\": {\"field\": \"height\", \"legend\": null, \"type\": \"nominal\"}, \"x\": {\"axis\": {\"format\": \"%m/%d\"}, \"field\": \"time\", \"title\": null, \"type\": \"temporal\"}, \"y\": {\"field\": \"value\", \"title\": [\"Blowing snow flux\", \"(g/m^2/s)\"], \"type\": \"quantitative\"}}, \"height\": 150, \"width\": 150}, {\"data\": {\"url\": \"altair-data-7dba441e927b3613ba701fc63b38c2c1.json\", \"format\": {\"type\": \"json\"}}, \"mark\": {\"type\": \"line\"}, \"encoding\": {\"color\": {\"field\": \"height\", \"scale\": {\"scheme\": \"turbo\"}, \"type\": \"ordinal\"}, \"x\": {\"axis\": {}, \"field\": \"time\", \"title\": null, \"type\": \"temporal\"}, \"y\": {\"field\": \"rolling_avg\", \"title\": [\"w'q' (g/m^2/s)\"], \"type\": \"quantitative\"}}, \"height\": 150, \"transform\": [{\"window\": [{\"op\": \"mean\", \"field\": \"value\", \"as\": \"rolling_avg\"}], \"frame\": [-1, 1], \"groupby\": [\"height\"]}], \"width\": 150}, {\"layer\": [{\"mark\": {\"type\": \"line\"}, \"encoding\": {\"color\": {\"field\": \"key\", \"scale\": {\"scheme\": \"turbo\"}, \"sort\": [\"vertical_advection_numerical_3\", \"vertical_advection_numerical_5\", \"vertical_advection_numerical_10\", \"vertical_advection_numerical_15\", \"vertical_advection_numerical_20\"], \"type\": \"nominal\"}, \"x\": {\"axis\": {\"format\": \"%m/%d\"}, \"field\": \"time\", \"title\": null, \"type\": \"temporal\"}, \"y\": {\"field\": \"rolling_avg\", \"scale\": {\"domain\": [-0.002, 0.004], \"clamp\": true}, \"title\": [\"Water vapor flux density\", \"(g/m^3/s)\"], \"type\": \"quantitative\"}}, \"transform\": [{\"fold\": [\"vertical_advection_numerical_3\", \"vertical_advection_numerical_5\", \"vertical_advection_numerical_10\", \"vertical_advection_numerical_15\", \"vertical_advection_numerical_20\"]}, {\"window\": [{\"op\": \"mean\", \"field\": \"value\", \"as\": \"rolling_avg\"}], \"frame\": [-1, 1], \"groupby\": [\"key\"]}]}, {\"mark\": {\"type\": \"line\", \"color\": \"black\"}, \"encoding\": {\"strokeDash\": {\"field\": \"key\", \"scale\": {\"domain\": [\"vertical_turb_flux_divergence_3to10\", \"ds/dt\"], \"range\": [[4, 2], [1.5, 1.5]]}, \"type\": \"nominal\"}, \"x\": {\"axis\": {\"format\": \"%m/%d\"}, \"field\": \"time\", \"title\": null, \"type\": \"temporal\"}, \"y\": {\"field\": \"rolling_avg\", \"scale\": {\"domain\": [-0.002, 0.004], \"clamp\": true}, \"title\": [\"Water vapor flux density\", \"(g/m^3/s)\"], \"type\": \"quantitative\"}}, \"transform\": [{\"fold\": [\"vertical_turb_flux_divergence_3to10\", \"ds/dt\"]}, {\"window\": [{\"op\": \"mean\", \"field\": \"value\", \"as\": \"rolling_avg\"}], \"frame\": [-1, 1], \"groupby\": [\"key\"]}]}], \"data\": {\"url\": \"altair-data-de0028022b7baa219596d75d747a7fb4.json\", \"format\": {\"type\": \"json\"}}, \"height\": 150, \"resolve\": {\"scale\": {}}, \"width\": 150}], \"resolve\": {\"scale\": {\"color\": \"independent\", \"strokeDash\": \"independent\", \"x\": \"shared\"}}, \"$schema\": \"https://vega.github.io/schema/vega-lite/v5.20.1.json\"}, {\"renderer\": \"svg\", \"mode\": \"vega-lite\"});\n",
       "</script>"
      ],
      "text/plain": [
       "alt.HConcatChart(...)"
      ]
     },
     "metadata": {},
     "output_type": "display_data"
    }
   ],
   "source": [
    "src = advection_1d_fluxdensity_nonnorm_df.loc['20221221 1200': '20221223 0000'][[\n",
    "        'w_h2o__3m_c',\n",
    "        'w_h2o__20m_c',\n",
    "        'vertical_turb_flux_divergence_3to10',\n",
    "        'vertical_turb_flux_divergence_3to20',\n",
    "        'vertical_turb_flux_divergence_2to10',\n",
    "        'vertical_turb_flux_divergence_2to20',\n",
    "        'ds/dt',\n",
    "        'vertical_advection_numerical_2',\n",
    "        'vertical_advection_numerical_3',\n",
    "        'vertical_advection_numerical_5',\n",
    "        'vertical_advection_numerical_10',\n",
    "        'vertical_advection_numerical_15',\n",
    "        'vertical_advection_numerical_20',\n",
    "    ]].reset_index()\n",
    "\n",
    "line_chart_base = alt.Chart(src).encode(\n",
    "    alt.X('time:T'). axis(format='%m/%d').title(None),\n",
    "    alt.Y('value:Q').title(['Water vapor flux density', '(g/m^3/s)']).scale(\n",
    "        domain = [-0.002, 0.005], clamp=True\n",
    "    )\n",
    ").properties(width=150, height=150)\n",
    "vertical_advection_vars = [\n",
    "    # 'vertical_advection_numerical_2', \n",
    "    'vertical_advection_numerical_3', 'vertical_advection_numerical_5',\n",
    "    'vertical_advection_numerical_10', 'vertical_advection_numerical_15', 'vertical_advection_numerical_20',\n",
    "]\n",
    "\n",
    "lines_chart_1 = alt.Chart(src).transform_fold(vertical_advection_vars).transform_window(\n",
    "    rolling_avg = 'mean(value)',\n",
    "    groupby=['key'],\n",
    "    frame=[-1,1]\n",
    ").mark_line().encode(\n",
    "    alt.X('time:T'). axis(format='%m/%d').title(None),\n",
    "    alt.Y('rolling_avg:Q').title(['Water vapor flux density', '(g/m^3/s)']).scale(\n",
    "        domain = [-0.002, 0.004], clamp=True\n",
    "    ),\n",
    "    alt.Color('key:N').scale(scheme='turbo').sort(vertical_advection_vars)\n",
    ").properties(width=150, height=150)\n",
    "\n",
    "\n",
    "lines_chart_2 = alt.Chart(src).transform_fold([\n",
    "    'vertical_turb_flux_divergence_3to10',\n",
    "    'ds/dt',\n",
    "]).transform_window(\n",
    "    rolling_avg = 'mean(value)',\n",
    "    groupby=['key'],\n",
    "    frame=[-1,1]\n",
    ").mark_line(color='black').encode(\n",
    "    alt.StrokeDash('key:N').scale(\n",
    "        domain = ['vertical_turb_flux_divergence_3to10', 'ds/dt'],\n",
    "        range=[(4,2), (1.5,1.5)]\n",
    "    ),\n",
    "    alt.X('time:T'). axis(format='%m/%d').title(None),\n",
    "    alt.Y('rolling_avg:Q').title(['Water vapor flux density', '(g/m^3/s)']).scale(\n",
    "        domain = [-0.002, 0.004], clamp=True\n",
    "    ),\n",
    ")\n",
    "\n",
    "bs_chart = alt.Chart(\n",
    "    tidy_df[tidy_df.measurement == 'snow flux'].set_index('time').loc['20221221 1200': '20221223 0000'].reset_index()\n",
    ").mark_line(color='black').encode(\n",
    "    alt.X('time:T'). axis(format='%m/%d').title(None),\n",
    "    alt.Y('value:Q').title(['Blowing snow flux', '(g/m^2/s)']),\n",
    "    alt.StrokeDash('height:N', legend=None)\n",
    ").properties(width=150, height=150)\n",
    "\n",
    "w_q_chart = alt.Chart(\n",
    "    tidy_df[tidy_df.variable.isin(\n",
    "        [\n",
    "            # 'w_h2o__2m_c_raw', \n",
    "            'w_h2o__3m_c_raw', \n",
    "            'w_h2o__5m_c_raw', \n",
    "            'w_h2o__10m_c_raw', 'w_h2o__15m_c_raw','w_h2o__20m_c_raw'])\n",
    "    ].set_index('time').loc['20221221 1200': '20221223 0000'].reset_index()\n",
    ").transform_window(\n",
    "    rolling_avg = 'mean(value)',\n",
    "    frame=[-1,1],\n",
    "    groupby = ['height']\n",
    ").mark_line().encode(\n",
    "    alt.X('time:T'). axis().title(None),\n",
    "    alt.Y('rolling_avg:Q').title([\"w'q' (g/m^2/s)\"]),\n",
    "    alt.Color('height:O').scale(scheme='turbo')\n",
    ").properties(width=150, height=150)\n",
    "\n",
    "\n",
    "(\n",
    "    bs_chart.properties(width=150, height = 150)\n",
    "    |\n",
    "    w_q_chart.properties(width=150, height = 150)\n",
    "    |\n",
    "    (lines_chart_1 + lines_chart_2).resolve_scale()\n",
    ").resolve_scale(\n",
    "    x='shared', color='independent', strokeDash='independent'\n",
    ").display(renderer='svg')"
   ]
  },
  {
   "cell_type": "markdown",
   "metadata": {},
   "source": [
    "### May 5th Case Study, horizontal advection"
   ]
  },
  {
   "cell_type": "code",
   "execution_count": 109,
   "metadata": {},
   "outputs": [
    {
     "data": {
      "text/html": [
       "\n",
       "<style>\n",
       "  #altair-viz-56828839a9ef4c178427da20e335e545.vega-embed {\n",
       "    width: 100%;\n",
       "    display: flex;\n",
       "  }\n",
       "\n",
       "  #altair-viz-56828839a9ef4c178427da20e335e545.vega-embed details,\n",
       "  #altair-viz-56828839a9ef4c178427da20e335e545.vega-embed details summary {\n",
       "    position: relative;\n",
       "  }\n",
       "</style>\n",
       "<div id=\"altair-viz-56828839a9ef4c178427da20e335e545\"></div>\n",
       "<script type=\"text/javascript\">\n",
       "  var VEGA_DEBUG = (typeof VEGA_DEBUG == \"undefined\") ? {} : VEGA_DEBUG;\n",
       "  (function(spec, embedOpt){\n",
       "    let outputDiv = document.currentScript.previousElementSibling;\n",
       "    if (outputDiv.id !== \"altair-viz-56828839a9ef4c178427da20e335e545\") {\n",
       "      outputDiv = document.getElementById(\"altair-viz-56828839a9ef4c178427da20e335e545\");\n",
       "    }\n",
       "    const paths = {\n",
       "      \"vega\": \"https://cdn.jsdelivr.net/npm/vega@5?noext\",\n",
       "      \"vega-lib\": \"https://cdn.jsdelivr.net/npm/vega-lib?noext\",\n",
       "      \"vega-lite\": \"https://cdn.jsdelivr.net/npm/vega-lite@5.20.1?noext\",\n",
       "      \"vega-embed\": \"https://cdn.jsdelivr.net/npm/vega-embed@6?noext\",\n",
       "    };\n",
       "\n",
       "    function maybeLoadScript(lib, version) {\n",
       "      var key = `${lib.replace(\"-\", \"\")}_version`;\n",
       "      return (VEGA_DEBUG[key] == version) ?\n",
       "        Promise.resolve(paths[lib]) :\n",
       "        new Promise(function(resolve, reject) {\n",
       "          var s = document.createElement('script');\n",
       "          document.getElementsByTagName(\"head\")[0].appendChild(s);\n",
       "          s.async = true;\n",
       "          s.onload = () => {\n",
       "            VEGA_DEBUG[key] = version;\n",
       "            return resolve(paths[lib]);\n",
       "          };\n",
       "          s.onerror = () => reject(`Error loading script: ${paths[lib]}`);\n",
       "          s.src = paths[lib];\n",
       "        });\n",
       "    }\n",
       "\n",
       "    function showError(err) {\n",
       "      outputDiv.innerHTML = `<div class=\"error\" style=\"color:red;\">${err}</div>`;\n",
       "      throw err;\n",
       "    }\n",
       "\n",
       "    function displayChart(vegaEmbed) {\n",
       "      vegaEmbed(outputDiv, spec, embedOpt)\n",
       "        .catch(err => showError(`Javascript Error: ${err.message}<br>This usually means there's a typo in your chart specification. See the javascript console for the full traceback.`));\n",
       "    }\n",
       "\n",
       "    if(typeof define === \"function\" && define.amd) {\n",
       "      requirejs.config({paths});\n",
       "      require([\"vega-embed\"], displayChart, err => showError(`Error loading script: ${err.message}`));\n",
       "    } else {\n",
       "      maybeLoadScript(\"vega\", \"5\")\n",
       "        .then(() => maybeLoadScript(\"vega-lite\", \"5.20.1\"))\n",
       "        .then(() => maybeLoadScript(\"vega-embed\", \"6\"))\n",
       "        .catch(showError)\n",
       "        .then(() => displayChart(vegaEmbed));\n",
       "    }\n",
       "  })({\"config\": {\"view\": {\"continuousWidth\": 300, \"continuousHeight\": 300}}, \"hconcat\": [{\"data\": {\"url\": \"altair-data-bfd2c991dbbb8bde01f95cd2a163514d.json\", \"format\": {\"type\": \"json\"}}, \"mark\": {\"type\": \"line\"}, \"encoding\": {\"color\": {\"field\": \"height\", \"scale\": {\"scheme\": \"turbo\"}, \"type\": \"ordinal\"}, \"x\": {\"axis\": {}, \"field\": \"time\", \"title\": null, \"type\": \"temporal\"}, \"y\": {\"field\": \"rolling_avg\", \"title\": [\"w'q' (g/m^2/s)\"], \"type\": \"quantitative\"}}, \"height\": 150, \"transform\": [{\"window\": [{\"op\": \"mean\", \"field\": \"value\", \"as\": \"rolling_avg\"}], \"frame\": [-2, 2], \"groupby\": [\"height\"]}], \"width\": 150}, {\"layer\": [{\"mark\": {\"type\": \"line\"}, \"encoding\": {\"color\": {\"field\": \"key\", \"scale\": {\"scheme\": \"turbo\"}, \"sort\": [\"vertical_advection_numerical_3\", \"vertical_advection_numerical_5\", \"vertical_advection_numerical_10\", \"vertical_advection_numerical_15\", \"vertical_advection_numerical_20\"], \"type\": \"nominal\"}, \"x\": {\"axis\": {\"format\": \"%m/%d\"}, \"field\": \"time\", \"title\": null, \"type\": \"temporal\"}, \"y\": {\"field\": \"rolling_avg\", \"scale\": {}, \"title\": [\"Water vapor flux density\", \"(g/m^3/s)\"], \"type\": \"quantitative\"}}, \"transform\": [{\"fold\": [\"vertical_advection_numerical_3\", \"vertical_advection_numerical_5\", \"vertical_advection_numerical_10\", \"vertical_advection_numerical_15\", \"vertical_advection_numerical_20\"]}, {\"window\": [{\"op\": \"mean\", \"field\": \"value\", \"as\": \"rolling_avg\"}], \"frame\": [-2, 2], \"groupby\": [\"key\"]}]}, {\"mark\": {\"type\": \"line\", \"color\": \"black\"}, \"encoding\": {\"strokeDash\": {\"field\": \"key\", \"scale\": {\"domain\": [\"vertical_turb_flux_divergence_3to20\", \"ds/dt\"], \"range\": [[4, 2], [1.5, 1.5]]}, \"type\": \"nominal\"}, \"x\": {\"axis\": {\"format\": \"%m/%d\"}, \"field\": \"time\", \"title\": null, \"type\": \"temporal\"}, \"y\": {\"field\": \"rolling_avg\", \"scale\": {}, \"title\": [\"Water vapor flux density\", \"(g/m^3/s)\"], \"type\": \"quantitative\"}}, \"transform\": [{\"fold\": [\"vertical_turb_flux_divergence_3to20\", \"ds/dt\"]}, {\"window\": [{\"op\": \"mean\", \"field\": \"value\", \"as\": \"rolling_avg\"}], \"frame\": [-2, 2], \"groupby\": [\"key\"]}]}], \"data\": {\"url\": \"altair-data-89d5a9ab57a8cd556cf3a9ee28dc2938.json\", \"format\": {\"type\": \"json\"}}, \"height\": 150, \"resolve\": {\"scale\": {}}, \"width\": 150}], \"resolve\": {\"scale\": {\"color\": \"independent\", \"strokeDash\": \"independent\", \"x\": \"shared\"}}, \"$schema\": \"https://vega.github.io/schema/vega-lite/v5.20.1.json\"}, {\"renderer\": \"svg\", \"mode\": \"vega-lite\"});\n",
       "</script>"
      ],
      "text/plain": [
       "alt.HConcatChart(...)"
      ]
     },
     "metadata": {},
     "output_type": "display_data"
    }
   ],
   "source": [
    "src = advection_1d_fluxdensity_nonnorm_df.loc['20230505'][[\n",
    "        'w_h2o__3m_c',\n",
    "        'w_h2o__20m_c',\n",
    "        'vertical_turb_flux_divergence_3to10',\n",
    "        'vertical_turb_flux_divergence_3to20',\n",
    "        'vertical_turb_flux_divergence_2to10',\n",
    "        'vertical_turb_flux_divergence_2to20',\n",
    "        'ds/dt',\n",
    "        # 'vertical_advection_numerical_2',\n",
    "        'vertical_advection_numerical_3',\n",
    "        'vertical_advection_numerical_5',\n",
    "        'vertical_advection_numerical_10',\n",
    "        'vertical_advection_numerical_15',\n",
    "        'vertical_advection_numerical_20',\n",
    "    ]].reset_index()\n",
    "\n",
    "line_chart_base = alt.Chart(src).encode(\n",
    "    alt.X('time:T'). axis(format='%m/%d').title(None),\n",
    "    alt.Y('value:Q').title(['Water vapor flux density', '(g/m^3/s)']).scale(\n",
    "        domain = [-0.002, 0.005], clamp=True\n",
    "    )\n",
    ").properties(width=150, height=150)\n",
    "vertical_advection_vars = [\n",
    "    # 'vertical_advection_numerical_2', \n",
    "    'vertical_advection_numerical_3', 'vertical_advection_numerical_5',\n",
    "    'vertical_advection_numerical_10', 'vertical_advection_numerical_15', 'vertical_advection_numerical_20',\n",
    "]\n",
    "\n",
    "lines_chart_1 = alt.Chart(src).transform_fold(vertical_advection_vars).transform_window(\n",
    "    rolling_avg = 'mean(value)',\n",
    "    groupby=['key'],\n",
    "    frame=[-2,2]\n",
    ").mark_line().encode(\n",
    "    alt.X('time:T'). axis(format='%m/%d').title(None),\n",
    "    alt.Y('rolling_avg:Q').title(['Water vapor flux density', '(g/m^3/s)']).scale(\n",
    "        # domain = [-0.002, 0.004], clamp=True\n",
    "    ),\n",
    "    alt.Color('key:N').scale(scheme='turbo').sort(vertical_advection_vars)\n",
    ").properties(width=150, height=150)\n",
    "\n",
    "\n",
    "lines_chart_2 = alt.Chart(src).transform_fold([\n",
    "    'vertical_turb_flux_divergence_3to20',\n",
    "    'ds/dt',\n",
    "]).transform_window(\n",
    "    rolling_avg = 'mean(value)',\n",
    "    groupby=['key'],\n",
    "    frame=[-2,2]\n",
    ").mark_line(color='black').encode(\n",
    "    alt.StrokeDash('key:N').scale(\n",
    "        domain = ['vertical_turb_flux_divergence_3to20', 'ds/dt'],\n",
    "        range=[(4,2), (1.5,1.5)]\n",
    "    ),\n",
    "    alt.X('time:T'). axis(format='%m/%d').title(None),\n",
    "    alt.Y('rolling_avg:Q').title(['Water vapor flux density', '(g/m^3/s)']).scale(\n",
    "        # domain = [-0.002, 0.004], clamp=True\n",
    "    ),\n",
    ")\n",
    "\n",
    "w_q_chart = alt.Chart(\n",
    "    tidy_df[tidy_df.variable.isin(\n",
    "        [\n",
    "            # 'w_h2o__2m_c_raw', \n",
    "            'w_h2o__3m_c_raw', \n",
    "            'w_h2o__5m_c_raw', \n",
    "            'w_h2o__10m_c_raw', 'w_h2o__15m_c_raw','w_h2o__20m_c_raw'])\n",
    "    ].set_index('time').loc['20230505'].reset_index()\n",
    ").transform_window(\n",
    "    rolling_avg = 'mean(value)',\n",
    "    frame=[-2,2],\n",
    "    groupby = ['height']\n",
    ").mark_line().encode(\n",
    "    alt.X('time:T'). axis().title(None),\n",
    "    alt.Y('rolling_avg:Q').title([\"w'q' (g/m^2/s)\"]),\n",
    "    alt.Color('height:O').scale(scheme='turbo')\n",
    ").properties(width=150, height=150)\n",
    "\n",
    "\n",
    "(\n",
    "    w_q_chart.properties(width=150, height = 150)\n",
    "    |\n",
    "    (lines_chart_1 + lines_chart_2).resolve_scale()\n",
    ").resolve_scale(\n",
    "    x='shared', color='independent', strokeDash='independent'\n",
    ").display(renderer='svg')"
   ]
  },
  {
   "cell_type": "code",
   "execution_count": null,
   "metadata": {},
   "outputs": [],
   "source": []
  },
  {
   "cell_type": "code",
   "execution_count": null,
   "metadata": {},
   "outputs": [],
   "source": []
  },
  {
   "cell_type": "markdown",
   "metadata": {},
   "source": [
    "# Solutions for advection corrections"
   ]
  },
  {
   "cell_type": "markdown",
   "metadata": {},
   "source": [
    "## Linearly interpolate w everywhere"
   ]
  },
  {
   "cell_type": "code",
   "execution_count": 43,
   "metadata": {},
   "outputs": [],
   "source": [
    "interp_w_values = []\n",
    "for datetime, data in vertical_advection_estimates.reset_index().groupby('time'):\n",
    "    data = data.sort_values('height')\n",
    "    data['w'] = data['w'].interpolate().values\n",
    "    interp_w_values.append(data[['time', 'w', 'height']])\n",
    "interp_w_values = pd.concat(interp_w_values).set_index('time')"
   ]
  },
  {
   "cell_type": "code",
   "execution_count": 44,
   "metadata": {},
   "outputs": [],
   "source": [
    "vertical_advection_estimates_updated_w = vertical_advection_estimates.reset_index().set_index(['time', 'height']).drop(columns='w').join(\n",
    "    interp_w_values.reset_index().set_index(['time', 'height'])\n",
    ")"
   ]
  },
  {
   "cell_type": "code",
   "execution_count": 45,
   "metadata": {},
   "outputs": [
    {
     "data": {
      "text/plain": [
       "<matplotlib.collections.PathCollection at 0x3504a7bc0>"
      ]
     },
     "execution_count": 45,
     "metadata": {},
     "output_type": "execute_result"
    },
    {
     "data": {
      "image/png": "[encoded data removed]",
      "text/plain": [
       "<Figure size 640x480 with 1 Axes>"
      ]
     },
     "metadata": {},
     "output_type": "display_data"
    }
   ],
   "source": [
    "plt.scatter(\n",
    "    vertical_advection_estimates.loc['20230505 1300']['w'],\n",
    "    vertical_advection_estimates.loc['20230505 1300']['height'],\n",
    ")\n",
    "\n",
    "plt.scatter(\n",
    "    vertical_advection_estimates_updated_w.loc['20230505 1300'].reset_index()['w'],\n",
    "    vertical_advection_estimates_updated_w.loc['20230505 1300'].reset_index()['height'],\n",
    "    s=2\n",
    ")"
   ]
  },
  {
   "cell_type": "markdown",
   "metadata": {},
   "source": [
    "## Solve the integral numerically"
   ]
  },
  {
   "cell_type": "markdown",
   "metadata": {},
   "source": [
    "$$ \\overline{w'\\rho_v'}_{0} = \\overline{w'\\rho_v'}_{H} + \\int_0^H \\overline{w} \\rho \\frac{d \\sigma}{d z} dz$$"
   ]
  },
  {
   "cell_type": "markdown",
   "metadata": {},
   "source": [
    "Calculate the above integral for each time step. At each time step, linearly interpolate measurements of $\\overline{w}$, assuming a no-slip condition, as we have measurements of $\\rho$ and estimates of $d\\sigma / dz$ every meter. This allows us to solve the integral between 0 and $H$ at any of the eddy covariance heights, using a trapezoidal approach.\n",
    "\n",
    "Note that:\n",
    "* H for each EC changes with time due to snow depth\n",
    "* $\\frac{d \\sigma}{dz}$ is estimated using log polynomial, while $\\overline{w}$ is estimated using linear interpolation"
   ]
  },
  {
   "cell_type": "code",
   "execution_count": 46,
   "metadata": {},
   "outputs": [],
   "source": [
    "snowdepth_data = tidy_df.query(\"variable == 'SnowDepth_c'\").set_index('time')['value']\n",
    "snowdepth_data = round(snowdepth_data, 4)"
   ]
  },
  {
   "cell_type": "code",
   "execution_count": 47,
   "metadata": {},
   "outputs": [],
   "source": [
    "vertical_advection_estimates_updated_w = vertical_advection_estimates_updated_w.reset_index().set_index('time')"
   ]
  },
  {
   "cell_type": "code",
   "execution_count": 48,
   "metadata": {},
   "outputs": [],
   "source": [
    "corrections = dict()\n",
    "for datetime in vertical_advection_estimates_updated_w.index.unique():\n",
    "    one_date_example = vertical_advection_estimates_updated_w.loc[datetime].set_index('height')\n",
    "    \n",
    "    # this_snowdepth = snowdepth_data.loc[datetime]\n",
    "    this_snowdepth = 0\n",
    "\n",
    "    one_date_example.index = one_date_example.index - this_snowdepth\n",
    "    one_date_example = one_date_example[one_date_example.index > 0]\n",
    "\n",
    "    lowest_meas_height = one_date_example.index.min()\n",
    "    one_date_example.loc[0, 'w'] = 0\n",
    "    one_date_example.loc[0, 'rho_d'] = one_date_example.loc[lowest_meas_height, 'rho_d']\n",
    "    one_date_example.loc[0, 'dsigma_dz'] = one_date_example.loc[lowest_meas_height, 'dsigma_dz']\n",
    "\n",
    "    one_date_example['vertical_advection'] = one_date_example['w'] * one_date_example['rho_d'] * one_date_example['dsigma_dz'] * 1000\n",
    "\n",
    "    one_date_example = one_date_example.sort_index()\n",
    "    \n",
    "    vert_adv_correction_2m = np.trapz(\n",
    "        one_date_example['vertical_advection'].loc[ : (2 - this_snowdepth)],\n",
    "        one_date_example['vertical_advection'].loc[ : (2 - this_snowdepth)].index\n",
    "    )\n",
    "    vert_adv_correction_3m = np.trapz(\n",
    "        one_date_example['vertical_advection'].loc[ : (3 - this_snowdepth)],\n",
    "        one_date_example['vertical_advection'].loc[ : (3 - this_snowdepth)].index\n",
    "    )\n",
    "    vert_adv_correction_5m = np.trapz(\n",
    "        one_date_example['vertical_advection'].loc[ : (5 - this_snowdepth)],\n",
    "        one_date_example['vertical_advection'].loc[ : (5 - this_snowdepth)].index\n",
    "    )\n",
    "    vert_adv_correction_10m = np.trapz(\n",
    "        one_date_example['vertical_advection'].loc[ : (10 - this_snowdepth)],\n",
    "        one_date_example['vertical_advection'].loc[ : (10 - this_snowdepth)].index\n",
    "    )\n",
    "    vert_adv_correction_15m = np.trapz(\n",
    "        one_date_example['vertical_advection'].loc[ : (15 - this_snowdepth)],\n",
    "        one_date_example['vertical_advection'].loc[ : (15 - this_snowdepth)].index\n",
    "    )\n",
    "    vert_adv_correction_20m = np.trapz(\n",
    "        one_date_example['vertical_advection'].loc[ : (20 - this_snowdepth)],\n",
    "        one_date_example['vertical_advection'].loc[ : (20 - this_snowdepth)].index\n",
    "    )\n",
    "    corrections[datetime] = {\n",
    "        2: vert_adv_correction_2m,\n",
    "        3: vert_adv_correction_3m,\n",
    "        5: vert_adv_correction_5m,\n",
    "        10: vert_adv_correction_10m,\n",
    "        15: vert_adv_correction_15m,\n",
    "        20: vert_adv_correction_20m\n",
    "    }\n",
    "    "
   ]
  },
  {
   "cell_type": "markdown",
   "metadata": {},
   "source": [
    "## Aggregate results"
   ]
  },
  {
   "cell_type": "markdown",
   "metadata": {},
   "source": [
    "Aggregate vertical advection correction estimates"
   ]
  },
  {
   "cell_type": "code",
   "execution_count": 49,
   "metadata": {},
   "outputs": [
    {
     "data": {
      "text/html": [
       "<div>\n",
       "<style scoped>\n",
       "    .dataframe tbody tr th:only-of-type {\n",
       "        vertical-align: middle;\n",
       "    }\n",
       "\n",
       "    .dataframe tbody tr th {\n",
       "        vertical-align: top;\n",
       "    }\n",
       "\n",
       "    .dataframe thead th {\n",
       "        text-align: right;\n",
       "    }\n",
       "</style>\n",
       "<table border=\"1\" class=\"dataframe\">\n",
       "  <thead>\n",
       "    <tr style=\"text-align: right;\">\n",
       "      <th></th>\n",
       "      <th></th>\n",
       "      <th>vertical_advection_correction</th>\n",
       "    </tr>\n",
       "    <tr>\n",
       "      <th>time</th>\n",
       "      <th>height</th>\n",
       "      <th></th>\n",
       "    </tr>\n",
       "  </thead>\n",
       "  <tbody>\n",
       "    <tr>\n",
       "      <th>2022-11-30 00:00:00</th>\n",
       "      <th>2</th>\n",
       "      <td>0.000845</td>\n",
       "    </tr>\n",
       "    <tr>\n",
       "      <th>2022-11-30 00:30:00</th>\n",
       "      <th>2</th>\n",
       "      <td>0.000220</td>\n",
       "    </tr>\n",
       "    <tr>\n",
       "      <th>2022-11-30 01:00:00</th>\n",
       "      <th>2</th>\n",
       "      <td>0.000288</td>\n",
       "    </tr>\n",
       "    <tr>\n",
       "      <th>2022-11-30 01:30:00</th>\n",
       "      <th>2</th>\n",
       "      <td>0.000515</td>\n",
       "    </tr>\n",
       "    <tr>\n",
       "      <th>2022-11-30 02:00:00</th>\n",
       "      <th>2</th>\n",
       "      <td>0.000155</td>\n",
       "    </tr>\n",
       "    <tr>\n",
       "      <th>...</th>\n",
       "      <th>...</th>\n",
       "      <td>...</td>\n",
       "    </tr>\n",
       "    <tr>\n",
       "      <th>2023-05-08 21:30:00</th>\n",
       "      <th>20</th>\n",
       "      <td>0.019793</td>\n",
       "    </tr>\n",
       "    <tr>\n",
       "      <th>2023-05-08 22:00:00</th>\n",
       "      <th>20</th>\n",
       "      <td>-0.003954</td>\n",
       "    </tr>\n",
       "    <tr>\n",
       "      <th>2023-05-08 22:30:00</th>\n",
       "      <th>20</th>\n",
       "      <td>0.004329</td>\n",
       "    </tr>\n",
       "    <tr>\n",
       "      <th>2023-05-08 23:00:00</th>\n",
       "      <th>20</th>\n",
       "      <td>-0.003190</td>\n",
       "    </tr>\n",
       "    <tr>\n",
       "      <th>2023-05-08 23:30:00</th>\n",
       "      <th>20</th>\n",
       "      <td>-0.000092</td>\n",
       "    </tr>\n",
       "  </tbody>\n",
       "</table>\n",
       "<p>45948 rows × 1 columns</p>\n",
       "</div>"
      ],
      "text/plain": [
       "                            vertical_advection_correction\n",
       "time                height                               \n",
       "2022-11-30 00:00:00 2                            0.000845\n",
       "2022-11-30 00:30:00 2                            0.000220\n",
       "2022-11-30 01:00:00 2                            0.000288\n",
       "2022-11-30 01:30:00 2                            0.000515\n",
       "2022-11-30 02:00:00 2                            0.000155\n",
       "...                                                   ...\n",
       "2023-05-08 21:30:00 20                           0.019793\n",
       "2023-05-08 22:00:00 20                          -0.003954\n",
       "2023-05-08 22:30:00 20                           0.004329\n",
       "2023-05-08 23:00:00 20                          -0.003190\n",
       "2023-05-08 23:30:00 20                          -0.000092\n",
       "\n",
       "[45948 rows x 1 columns]"
      ]
     },
     "execution_count": 49,
     "metadata": {},
     "output_type": "execute_result"
    }
   ],
   "source": [
    "corrections_df = pd.DataFrame(corrections).T.melt(ignore_index=False).rename(columns={\n",
    "    'variable': 'height',\n",
    "    'value': 'vertical_advection_correction'\n",
    "})\n",
    "corrections_df.index = corrections_df.index.rename('time')\n",
    "corrections_df = corrections_df.reset_index().set_index(['time', 'height'])\n",
    "corrections_df"
   ]
  },
  {
   "cell_type": "markdown",
   "metadata": {},
   "source": [
    "Combine with gapfilled EC flux measurements"
   ]
  },
  {
   "cell_type": "code",
   "execution_count": 50,
   "metadata": {},
   "outputs": [
    {
     "data": {
      "text/html": [
       "<div>\n",
       "<style scoped>\n",
       "    .dataframe tbody tr th:only-of-type {\n",
       "        vertical-align: middle;\n",
       "    }\n",
       "\n",
       "    .dataframe tbody tr th {\n",
       "        vertical-align: top;\n",
       "    }\n",
       "\n",
       "    .dataframe thead th {\n",
       "        text-align: right;\n",
       "    }\n",
       "</style>\n",
       "<table border=\"1\" class=\"dataframe\">\n",
       "  <thead>\n",
       "    <tr style=\"text-align: right;\">\n",
       "      <th></th>\n",
       "      <th></th>\n",
       "      <th>variable</th>\n",
       "      <th>w_h2o__</th>\n",
       "      <th>tower</th>\n",
       "      <th>measurement</th>\n",
       "      <th>vertical_advection_correction</th>\n",
       "      <th>w_h2o__corrected</th>\n",
       "    </tr>\n",
       "    <tr>\n",
       "      <th>time</th>\n",
       "      <th>height</th>\n",
       "      <th></th>\n",
       "      <th></th>\n",
       "      <th></th>\n",
       "      <th></th>\n",
       "      <th></th>\n",
       "      <th></th>\n",
       "    </tr>\n",
       "  </thead>\n",
       "  <tbody>\n",
       "    <tr>\n",
       "      <th rowspan=\"5\" valign=\"top\">2022-11-30 00:00:00</th>\n",
       "      <th>20.0</th>\n",
       "      <td>w_h2o__20m_c_gapfill</td>\n",
       "      <td>0.001538</td>\n",
       "      <td>c</td>\n",
       "      <td>w_h2o_</td>\n",
       "      <td>0.000000</td>\n",
       "      <td>0.001538</td>\n",
       "    </tr>\n",
       "    <tr>\n",
       "      <th>10.0</th>\n",
       "      <td>w_h2o__10m_c_gapfill</td>\n",
       "      <td>0.001134</td>\n",
       "      <td>c</td>\n",
       "      <td>w_h2o_</td>\n",
       "      <td>0.003045</td>\n",
       "      <td>0.004180</td>\n",
       "    </tr>\n",
       "    <tr>\n",
       "      <th>15.0</th>\n",
       "      <td>w_h2o__15m_c_gapfill</td>\n",
       "      <td>0.000584</td>\n",
       "      <td>c</td>\n",
       "      <td>w_h2o_</td>\n",
       "      <td>0.000000</td>\n",
       "      <td>0.000584</td>\n",
       "    </tr>\n",
       "    <tr>\n",
       "      <th>2.0</th>\n",
       "      <td>w_h2o__2m_c_gapfill</td>\n",
       "      <td>-0.000569</td>\n",
       "      <td>c</td>\n",
       "      <td>w_h2o_</td>\n",
       "      <td>0.000845</td>\n",
       "      <td>0.000277</td>\n",
       "    </tr>\n",
       "    <tr>\n",
       "      <th>5.0</th>\n",
       "      <td>w_h2o__5m_c_gapfill</td>\n",
       "      <td>0.000995</td>\n",
       "      <td>c</td>\n",
       "      <td>w_h2o_</td>\n",
       "      <td>0.002367</td>\n",
       "      <td>0.003361</td>\n",
       "    </tr>\n",
       "    <tr>\n",
       "      <th>...</th>\n",
       "      <th>...</th>\n",
       "      <td>...</td>\n",
       "      <td>...</td>\n",
       "      <td>...</td>\n",
       "      <td>...</td>\n",
       "      <td>...</td>\n",
       "      <td>...</td>\n",
       "    </tr>\n",
       "    <tr>\n",
       "      <th rowspan=\"5\" valign=\"top\">2023-05-08 23:30:00</th>\n",
       "      <th>15.0</th>\n",
       "      <td>w_h2o__15m_c_gapfill</td>\n",
       "      <td>-0.002004</td>\n",
       "      <td>c</td>\n",
       "      <td>w_h2o_</td>\n",
       "      <td>0.000750</td>\n",
       "      <td>-0.001255</td>\n",
       "    </tr>\n",
       "    <tr>\n",
       "      <th>10.0</th>\n",
       "      <td>w_h2o__10m_c_gapfill</td>\n",
       "      <td>-0.010111</td>\n",
       "      <td>c</td>\n",
       "      <td>w_h2o_</td>\n",
       "      <td>0.001211</td>\n",
       "      <td>-0.008900</td>\n",
       "    </tr>\n",
       "    <tr>\n",
       "      <th>5.0</th>\n",
       "      <td>w_h2o__5m_c_gapfill</td>\n",
       "      <td>0.000812</td>\n",
       "      <td>c</td>\n",
       "      <td>w_h2o_</td>\n",
       "      <td>0.001125</td>\n",
       "      <td>0.001937</td>\n",
       "    </tr>\n",
       "    <tr>\n",
       "      <th>3.0</th>\n",
       "      <td>w_h2o__3m_c_gapfill</td>\n",
       "      <td>0.000856</td>\n",
       "      <td>c</td>\n",
       "      <td>w_h2o_</td>\n",
       "      <td>0.001242</td>\n",
       "      <td>0.002097</td>\n",
       "    </tr>\n",
       "    <tr>\n",
       "      <th>2.0</th>\n",
       "      <td>w_h2o__2m_c_gapfill</td>\n",
       "      <td>0.002355</td>\n",
       "      <td>c</td>\n",
       "      <td>w_h2o_</td>\n",
       "      <td>0.000825</td>\n",
       "      <td>0.003180</td>\n",
       "    </tr>\n",
       "  </tbody>\n",
       "</table>\n",
       "<p>46068 rows × 6 columns</p>\n",
       "</div>"
      ],
      "text/plain": [
       "                                        variable   w_h2o__ tower measurement  \\\n",
       "time                height                                                     \n",
       "2022-11-30 00:00:00 20.0    w_h2o__20m_c_gapfill  0.001538     c      w_h2o_   \n",
       "                    10.0    w_h2o__10m_c_gapfill  0.001134     c      w_h2o_   \n",
       "                    15.0    w_h2o__15m_c_gapfill  0.000584     c      w_h2o_   \n",
       "                    2.0      w_h2o__2m_c_gapfill -0.000569     c      w_h2o_   \n",
       "                    5.0      w_h2o__5m_c_gapfill  0.000995     c      w_h2o_   \n",
       "...                                          ...       ...   ...         ...   \n",
       "2023-05-08 23:30:00 15.0    w_h2o__15m_c_gapfill -0.002004     c      w_h2o_   \n",
       "                    10.0    w_h2o__10m_c_gapfill -0.010111     c      w_h2o_   \n",
       "                    5.0      w_h2o__5m_c_gapfill  0.000812     c      w_h2o_   \n",
       "                    3.0      w_h2o__3m_c_gapfill  0.000856     c      w_h2o_   \n",
       "                    2.0      w_h2o__2m_c_gapfill  0.002355     c      w_h2o_   \n",
       "\n",
       "                            vertical_advection_correction  w_h2o__corrected  \n",
       "time                height                                                   \n",
       "2022-11-30 00:00:00 20.0                         0.000000          0.001538  \n",
       "                    10.0                         0.003045          0.004180  \n",
       "                    15.0                         0.000000          0.000584  \n",
       "                    2.0                          0.000845          0.000277  \n",
       "                    5.0                          0.002367          0.003361  \n",
       "...                                                   ...               ...  \n",
       "2023-05-08 23:30:00 15.0                         0.000750         -0.001255  \n",
       "                    10.0                         0.001211         -0.008900  \n",
       "                    5.0                          0.001125          0.001937  \n",
       "                    3.0                          0.001242          0.002097  \n",
       "                    2.0                          0.000825          0.003180  \n",
       "\n",
       "[46068 rows x 6 columns]"
      ]
     },
     "execution_count": 50,
     "metadata": {},
     "output_type": "execute_result"
    }
   ],
   "source": [
    "sublimation_gapfilled = tidy_df.query(\"measurement == 'w_h2o_'\").query(\"tower == 'c'\").query(\"height > 1\")\n",
    "sublimation_gapfilled = sublimation_gapfilled[sublimation_gapfilled.variable.str.contains('gapfill')].set_index(['time', 'height'])\n",
    "sublimation_gapfilled = sublimation_gapfilled.join(corrections_df)\n",
    "sublimation_gapfilled = sublimation_gapfilled.rename(columns={'value': 'w_h2o__'})\n",
    "sublimation_gapfilled['vertical_advection_correction'] = sublimation_gapfilled['vertical_advection_correction'].fillna(0)\n",
    "sublimation_gapfilled['w_h2o__corrected'] = sublimation_gapfilled['w_h2o__'] + sublimation_gapfilled['vertical_advection_correction']\n",
    "sublimation_gapfilled"
   ]
  },
  {
   "cell_type": "code",
   "execution_count": 51,
   "metadata": {},
   "outputs": [],
   "source": [
    "from metpy.constants import density_water\n",
    "seconds_in_timestep = 60*30\n",
    "sublimation_gapfilled_mm = sublimation_gapfilled[['w_h2o__', 'w_h2o__corrected']]\n",
    "sublimation_gapfilled_mm = sublimation_gapfilled_mm*seconds_in_timestep/density_water.magnitude"
   ]
  },
  {
   "cell_type": "code",
   "execution_count": 52,
   "metadata": {},
   "outputs": [],
   "source": [
    "sublimation_gapfilled_cumsum = sublimation_gapfilled_mm.groupby(level=[1]).apply(lambda df: df.cumsum())\n",
    "sublimation_gapfilled_cumsum.index = sublimation_gapfilled_cumsum.index.droplevel(0)\n",
    "sublimation_gapfilled_cumsum_daily = sublimation_gapfilled_cumsum.reset_index().set_index('time').groupby([\n",
    "    pd.Grouper(freq='1440min'), 'height'\n",
    "]).max().reset_index()"
   ]
  },
  {
   "cell_type": "code",
   "execution_count": 53,
   "metadata": {},
   "outputs": [
    {
     "data": {
      "text/html": [
       "\n",
       "<style>\n",
       "  #altair-viz-955864bcb1784334bd2a0106df95cfab.vega-embed {\n",
       "    width: 100%;\n",
       "    display: flex;\n",
       "  }\n",
       "\n",
       "  #altair-viz-955864bcb1784334bd2a0106df95cfab.vega-embed details,\n",
       "  #altair-viz-955864bcb1784334bd2a0106df95cfab.vega-embed details summary {\n",
       "    position: relative;\n",
       "  }\n",
       "</style>\n",
       "<div id=\"altair-viz-955864bcb1784334bd2a0106df95cfab\"></div>\n",
       "<script type=\"text/javascript\">\n",
       "  var VEGA_DEBUG = (typeof VEGA_DEBUG == \"undefined\") ? {} : VEGA_DEBUG;\n",
       "  (function(spec, embedOpt){\n",
       "    let outputDiv = document.currentScript.previousElementSibling;\n",
       "    if (outputDiv.id !== \"altair-viz-955864bcb1784334bd2a0106df95cfab\") {\n",
       "      outputDiv = document.getElementById(\"altair-viz-955864bcb1784334bd2a0106df95cfab\");\n",
       "    }\n",
       "    const paths = {\n",
       "      \"vega\": \"https://cdn.jsdelivr.net/npm/vega@5?noext\",\n",
       "      \"vega-lib\": \"https://cdn.jsdelivr.net/npm/vega-lib?noext\",\n",
       "      \"vega-lite\": \"https://cdn.jsdelivr.net/npm/vega-lite@5.20.1?noext\",\n",
       "      \"vega-embed\": \"https://cdn.jsdelivr.net/npm/vega-embed@6?noext\",\n",
       "    };\n",
       "\n",
       "    function maybeLoadScript(lib, version) {\n",
       "      var key = `${lib.replace(\"-\", \"\")}_version`;\n",
       "      return (VEGA_DEBUG[key] == version) ?\n",
       "        Promise.resolve(paths[lib]) :\n",
       "        new Promise(function(resolve, reject) {\n",
       "          var s = document.createElement('script');\n",
       "          document.getElementsByTagName(\"head\")[0].appendChild(s);\n",
       "          s.async = true;\n",
       "          s.onload = () => {\n",
       "            VEGA_DEBUG[key] = version;\n",
       "            return resolve(paths[lib]);\n",
       "          };\n",
       "          s.onerror = () => reject(`Error loading script: ${paths[lib]}`);\n",
       "          s.src = paths[lib];\n",
       "        });\n",
       "    }\n",
       "\n",
       "    function showError(err) {\n",
       "      outputDiv.innerHTML = `<div class=\"error\" style=\"color:red;\">${err}</div>`;\n",
       "      throw err;\n",
       "    }\n",
       "\n",
       "    function displayChart(vegaEmbed) {\n",
       "      vegaEmbed(outputDiv, spec, embedOpt)\n",
       "        .catch(err => showError(`Javascript Error: ${err.message}<br>This usually means there's a typo in your chart specification. See the javascript console for the full traceback.`));\n",
       "    }\n",
       "\n",
       "    if(typeof define === \"function\" && define.amd) {\n",
       "      requirejs.config({paths});\n",
       "      require([\"vega-embed\"], displayChart, err => showError(`Error loading script: ${err.message}`));\n",
       "    } else {\n",
       "      maybeLoadScript(\"vega\", \"5\")\n",
       "        .then(() => maybeLoadScript(\"vega-lite\", \"5.20.1\"))\n",
       "        .then(() => maybeLoadScript(\"vega-embed\", \"6\"))\n",
       "        .catch(showError)\n",
       "        .then(() => displayChart(vegaEmbed));\n",
       "    }\n",
       "  })({\"config\": {\"view\": {\"continuousWidth\": 300, \"continuousHeight\": 300}}, \"data\": {\"url\": \"altair-data-2c7efbd14d3516aec53c68e9ae92e4ae.json\", \"format\": {\"type\": \"json\"}}, \"mark\": {\"type\": \"line\"}, \"encoding\": {\"color\": {\"field\": \"height\", \"scale\": {\"scheme\": \"turbo\"}, \"type\": \"ordinal\"}, \"strokeDash\": {\"field\": \"key\", \"type\": \"nominal\"}, \"x\": {\"field\": \"time\", \"type\": \"temporal\"}, \"y\": {\"field\": \"value\", \"type\": \"quantitative\"}}, \"height\": 300, \"transform\": [{\"filter\": {\"field\": \"height\", \"oneOf\": [3, 5, 10, 20]}}, {\"fold\": [\"w_h2o__\", \"w_h2o__corrected\"]}], \"width\": 400, \"$schema\": \"https://vega.github.io/schema/vega-lite/v5.20.1.json\"}, {\"mode\": \"vega-lite\"});\n",
       "</script>"
      ],
      "text/plain": [
       "alt.Chart(...)"
      ]
     },
     "execution_count": 53,
     "metadata": {},
     "output_type": "execute_result"
    }
   ],
   "source": [
    "alt.Chart(\n",
    "    sublimation_gapfilled_cumsum_daily\n",
    ").transform_filter(\n",
    "    alt.FieldOneOfPredicate('height', [3,5,10,20])\n",
    ").transform_fold(\n",
    "    ['w_h2o__',\t'w_h2o__corrected']\n",
    ").mark_line().encode(\n",
    "    alt.X('time:T'),\n",
    "    alt.Y('value:Q'),\n",
    "    alt.StrokeDash('key:N'),\n",
    "    alt.Color('height:O').scale(scheme='turbo')\n",
    ").properties(width=400, height=300)"
   ]
  },
  {
   "cell_type": "code",
   "execution_count": 54,
   "metadata": {},
   "outputs": [
    {
     "data": {
      "text/html": [
       "\n",
       "<style>\n",
       "  #altair-viz-c4e4f85654034ff98e7b3bacc23e97bf.vega-embed {\n",
       "    width: 100%;\n",
       "    display: flex;\n",
       "  }\n",
       "\n",
       "  #altair-viz-c4e4f85654034ff98e7b3bacc23e97bf.vega-embed details,\n",
       "  #altair-viz-c4e4f85654034ff98e7b3bacc23e97bf.vega-embed details summary {\n",
       "    position: relative;\n",
       "  }\n",
       "</style>\n",
       "<div id=\"altair-viz-c4e4f85654034ff98e7b3bacc23e97bf\"></div>\n",
       "<script type=\"text/javascript\">\n",
       "  var VEGA_DEBUG = (typeof VEGA_DEBUG == \"undefined\") ? {} : VEGA_DEBUG;\n",
       "  (function(spec, embedOpt){\n",
       "    let outputDiv = document.currentScript.previousElementSibling;\n",
       "    if (outputDiv.id !== \"altair-viz-c4e4f85654034ff98e7b3bacc23e97bf\") {\n",
       "      outputDiv = document.getElementById(\"altair-viz-c4e4f85654034ff98e7b3bacc23e97bf\");\n",
       "    }\n",
       "    const paths = {\n",
       "      \"vega\": \"https://cdn.jsdelivr.net/npm/vega@5?noext\",\n",
       "      \"vega-lib\": \"https://cdn.jsdelivr.net/npm/vega-lib?noext\",\n",
       "      \"vega-lite\": \"https://cdn.jsdelivr.net/npm/vega-lite@5.20.1?noext\",\n",
       "      \"vega-embed\": \"https://cdn.jsdelivr.net/npm/vega-embed@6?noext\",\n",
       "    };\n",
       "\n",
       "    function maybeLoadScript(lib, version) {\n",
       "      var key = `${lib.replace(\"-\", \"\")}_version`;\n",
       "      return (VEGA_DEBUG[key] == version) ?\n",
       "        Promise.resolve(paths[lib]) :\n",
       "        new Promise(function(resolve, reject) {\n",
       "          var s = document.createElement('script');\n",
       "          document.getElementsByTagName(\"head\")[0].appendChild(s);\n",
       "          s.async = true;\n",
       "          s.onload = () => {\n",
       "            VEGA_DEBUG[key] = version;\n",
       "            return resolve(paths[lib]);\n",
       "          };\n",
       "          s.onerror = () => reject(`Error loading script: ${paths[lib]}`);\n",
       "          s.src = paths[lib];\n",
       "        });\n",
       "    }\n",
       "\n",
       "    function showError(err) {\n",
       "      outputDiv.innerHTML = `<div class=\"error\" style=\"color:red;\">${err}</div>`;\n",
       "      throw err;\n",
       "    }\n",
       "\n",
       "    function displayChart(vegaEmbed) {\n",
       "      vegaEmbed(outputDiv, spec, embedOpt)\n",
       "        .catch(err => showError(`Javascript Error: ${err.message}<br>This usually means there's a typo in your chart specification. See the javascript console for the full traceback.`));\n",
       "    }\n",
       "\n",
       "    if(typeof define === \"function\" && define.amd) {\n",
       "      requirejs.config({paths});\n",
       "      require([\"vega-embed\"], displayChart, err => showError(`Error loading script: ${err.message}`));\n",
       "    } else {\n",
       "      maybeLoadScript(\"vega\", \"5\")\n",
       "        .then(() => maybeLoadScript(\"vega-lite\", \"5.20.1\"))\n",
       "        .then(() => maybeLoadScript(\"vega-embed\", \"6\"))\n",
       "        .catch(showError)\n",
       "        .then(() => displayChart(vegaEmbed));\n",
       "    }\n",
       "  })({\"config\": {\"view\": {\"continuousWidth\": 300, \"continuousHeight\": 300}}, \"data\": {\"url\": \"altair-data-4f5c5f608176f52c32a862081fae5cc6.json\", \"format\": {\"type\": \"json\"}}, \"mark\": {\"type\": \"point\", \"size\": 100}, \"encoding\": {\"shape\": {\"field\": \"key\", \"type\": \"nominal\"}, \"x\": {\"field\": \"value\", \"scale\": {\"zero\": false}, \"title\": [\"Total sublimation (mm)\"], \"type\": \"quantitative\"}, \"y\": {\"field\": \"height\", \"sort\": \"-y\", \"title\": \"Height (m)\", \"type\": \"ordinal\"}}, \"height\": 150, \"transform\": [{\"fold\": [\"w_h2o__\", \"w_h2o__corrected\"]}], \"width\": 150, \"$schema\": \"https://vega.github.io/schema/vega-lite/v5.20.1.json\"}, {\"mode\": \"vega-lite\"});\n",
       "</script>"
      ],
      "text/plain": [
       "alt.Chart(...)"
      ]
     },
     "execution_count": 54,
     "metadata": {},
     "output_type": "execute_result"
    }
   ],
   "source": [
    "\n",
    "\n",
    "alt.Chart(\n",
    "    sublimation_gapfilled_cumsum.loc['20230508 2330', :].reset_index()\n",
    ").transform_fold([\n",
    "    'w_h2o__', 'w_h2o__corrected'\n",
    "]).mark_point(size=100).encode(\n",
    "    alt.Y(\"height:O\").sort('-y').title(\"Height (m)\"),\n",
    "    alt.X(\"value:Q\").scale(zero=False).title([\"Total sublimation (mm)\"]),\n",
    "    alt.Shape(\"key:N\")\n",
    ").properties(width = 150, height = 150)"
   ]
  },
  {
   "cell_type": "code",
   "execution_count": null,
   "metadata": {},
   "outputs": [],
   "source": [
    "alt.Chart(\n",
    "    sublimation_gapfilled_cumsum.reset_index()\n",
    ").transform_fold([\n",
    "    'w_h2o__', 'w_h2o__corrected'\n",
    "]).mark_line().encode(\n",
    "    alt.X('hoursminutes(time):T'),\n",
    "    alt.Y('value:Q'),\n",
    "    alt.StrokeDash('key:N'),\n",
    "    alt.Facet('height:O')\n",
    ")"
   ]
  }
 ],
 "metadata": {
  "kernelspec": {
   "display_name": "sublimationofsnow",
   "language": "python",
   "name": "python3"
  },
  "language_info": {
   "codemirror_mode": {
    "name": "ipython",
    "version": 3
   },
   "file_extension": ".py",
   "mimetype": "text/x-python",
   "name": "python",
   "nbconvert_exporter": "python",
   "pygments_lexer": "ipython3",
   "version": "3.12.5"
  }
 },
 "nbformat": 4,
 "nbformat_minor": 2
}
