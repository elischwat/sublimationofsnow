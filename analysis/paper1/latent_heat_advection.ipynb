{
 "cells": [
  {
   "cell_type": "code",
   "execution_count": 1,
   "metadata": {},
   "outputs": [],
   "source": [
    "import numpy as np\n",
    "import pandas as pd\n",
    "from sublimpy import utils, tidy\n",
    "import altair as alt\n",
    "alt.data_transformers.enable('json')\n",
    "from scipy import interpolate\n",
    "\n",
    "import swifter\n",
    "import xarray as xr\n",
    "import tqdm\n",
    "import matplotlib.pyplot as plt\n",
    "from metpy.units import units\n",
    "\n",
    "import datetime as dt\n",
    "from sklearn.metrics import r2_score\n",
    "from metpy.units import units\n",
    "import math \n",
    "import geopandas as gpd"
   ]
  },
  {
   "cell_type": "code",
   "execution_count": 2,
   "metadata": {},
   "outputs": [],
   "source": [
    "HEIGHTS = [1,3,10]\n",
    "HORIZ_GRID_SPACING = 50\n",
    "VERT_GRID_SPACING = 20\n",
    "\n",
    "data_start_date = '20221129 2330'\n",
    "data_cutoff_date = '20230509 0000'\n",
    "\n",
    "## PARAMETERS FOR SOS DATA\n",
    "# streamwise coordinates\n",
    "sos_tidy_fn = f\"process_slow_data/tidy_df_20221101_20230619_planar_fit_multiplane_STRAIGHTUP_q7_flags9000_pf10.parquet\"\n",
    "sos_tidy_fn_single_pf = f\"process_slow_data/tidy_df_20221101_20230619_planar_fit_multiplane_STRAIGHTUP_q7_flags9000_archive.parquet\"\n",
    "\n",
    "## PARAMETERS FOR SPLASH DATA\n",
    "# download dir\n",
    "avp_download_dir = \"/Users/elischwat/Development/data/sublimationofsnow/asfs/ASFS-50_Level2_SPLASH2021-2023/\"\n",
    "kps_download_dir = \"/Users/elischwat/Development/data/sublimationofsnow/asfs/ASFS-30_Level2_SPLASH2021-2023/\"\n",
    "\n",
    "ftp_url = 'ftp1.esrl.noaa.gov'\n",
    "# Avery Picnic product\n",
    "avp_url = f'Observations/Campaigns/SPLASH/asfs50/2_level_ingest/'\n",
    "# Kettle Ponds product\n",
    "kps_url = f'Observations/Campaigns/SPLASH/asfs30/2_level_ingest/'"
   ]
  },
  {
   "cell_type": "markdown",
   "metadata": {},
   "source": [
    "# Open data"
   ]
  },
  {
   "cell_type": "markdown",
   "metadata": {},
   "source": [
    "## SOS"
   ]
  },
  {
   "cell_type": "code",
   "execution_count": 3,
   "metadata": {},
   "outputs": [
    {
     "name": "stderr",
     "output_type": "stream",
     "text": [
      "/var/folders/x_/2h52bcjx2px15bhmdpdd748h0000gn/T/ipykernel_39920/831388400.py:7: UserWarning: Boolean Series key will be reindexed to match DataFrame index.\n",
      "  tidy_df = tidy_df[tidy_df.time > data_start_date][tidy_df.time < data_cutoff_date]\n",
      "/var/folders/x_/2h52bcjx2px15bhmdpdd748h0000gn/T/ipykernel_39920/831388400.py:16: UserWarning: Boolean Series key will be reindexed to match DataFrame index.\n",
      "  tidy_df_single_pf = tidy_df_single_pf[tidy_df_single_pf.time > data_start_date][tidy_df_single_pf.time < data_cutoff_date]\n"
     ]
    }
   ],
   "source": [
    "tidy_df = pd.read_parquet(sos_tidy_fn)\n",
    "# Convert data timezone to local and clean up data on the ends\n",
    "# convert time column to datetime\n",
    "tidy_df['time'] = pd.to_datetime(tidy_df['time'])\n",
    "tidy_df = utils.modify_df_timezone(tidy_df, 'UTC', 'US/Mountain')\n",
    "# limit data to our dates of interest, based on continuous snow cover at Kettle Ponds\n",
    "tidy_df = tidy_df[tidy_df.time > data_start_date][tidy_df.time < data_cutoff_date]\n",
    "tidy_df = tidy_df.set_index('time').sort_index().loc[data_start_date:data_cutoff_date].reset_index()\n",
    "\n",
    "tidy_df_single_pf = pd.read_parquet(sos_tidy_fn_single_pf)\n",
    "# Convert data timezone to local and clean up data on the ends\n",
    "# convert time column to datetime\n",
    "tidy_df_single_pf['time'] = pd.to_datetime(tidy_df_single_pf['time'])\n",
    "tidy_df_single_pf = utils.modify_df_timezone(tidy_df_single_pf, 'UTC', 'US/Mountain')\n",
    "# limit data to our dates of interest, based on continuous snow cover at Kettle Ponds\n",
    "tidy_df_single_pf = tidy_df_single_pf[tidy_df_single_pf.time > data_start_date][tidy_df_single_pf.time < data_cutoff_date]\n",
    "tidy_df_single_pf = tidy_df_single_pf.set_index('time').sort_index().loc[data_start_date:data_cutoff_date].reset_index()"
   ]
  },
  {
   "cell_type": "code",
   "execution_count": 4,
   "metadata": {},
   "outputs": [
    {
     "data": {
      "text/plain": [
       "(Timestamp('2022-11-30 00:00:00'), Timestamp('2023-05-08 23:30:00'))"
      ]
     },
     "execution_count": 4,
     "metadata": {},
     "output_type": "execute_result"
    }
   ],
   "source": [
    "tidy_df.time.min(), tidy_df.time.max()"
   ]
  },
  {
   "cell_type": "code",
   "execution_count": 5,
   "metadata": {},
   "outputs": [
    {
     "name": "stdout",
     "output_type": "stream",
     "text": [
      "1534\n",
      "1513\n"
     ]
    }
   ],
   "source": [
    "print(len(tidy_df.query(\"variable == 'T_3m_c'\").set_index('time').loc['20230301':'20230401']))\n",
    "print(len(tidy_df.query(\"variable == 'T_3m_c'\").set_index('time').loc['20230301':'20230401'].dropna()))"
   ]
  },
  {
   "cell_type": "code",
   "execution_count": 6,
   "metadata": {},
   "outputs": [
    {
     "name": "stdout",
     "output_type": "stream",
     "text": [
      "1488\n",
      "1488\n"
     ]
    }
   ],
   "source": [
    "print(len(tidy_df.query(\"variable == 'T_3m_c'\").set_index('time').loc['20230401':'20230501']))\n",
    "print(len(tidy_df.query(\"variable == 'T_3m_c'\").set_index('time').loc['20230401':'20230501'].dropna()))"
   ]
  },
  {
   "cell_type": "code",
   "execution_count": 7,
   "metadata": {},
   "outputs": [
    {
     "data": {
      "text/plain": [
       "value\n",
       "(292, 332]    0.454391\n",
       "(80, 140]     0.214632\n",
       "(0, 80]       0.147756\n",
       "(332, 360]    0.102343\n",
       "(140, 292]    0.080879\n",
       "Name: count, dtype: float64"
      ]
     },
     "execution_count": 7,
     "metadata": {},
     "output_type": "execute_result"
    }
   ],
   "source": [
    "src = tidy_df.query(f\"variable == 'dir_3m_c'\")['value'].dropna()\n",
    "pd.cut(\n",
    "    src,\n",
    "    [0,80, 140, 292,332, 360]\n",
    ").value_counts() / len(src)"
   ]
  },
  {
   "cell_type": "markdown",
   "metadata": {},
   "source": [
    "## SPLASH"
   ]
  },
  {
   "cell_type": "code",
   "execution_count": 8,
   "metadata": {},
   "outputs": [
    {
     "name": "stderr",
     "output_type": "stream",
     "text": [
      "100%|██████████| 646/646 [00:35<00:00, 18.35it/s]\n"
     ]
    }
   ],
   "source": [
    "\n",
    "# Get the list of files in the directory\n",
    "file_list = os.listdir(kps_download_dir)\n",
    "\n",
    "# file_list = [f for f in file_list if 'sledmet.asfs30.level2.0.1min.' in f]\n",
    "file_list = [f for f in file_list if 'sledmet.asfs30.level2.0.1min.' in f]\n",
    "\n",
    "# Sort the file list\n",
    "file_list.sort()\n",
    "\n",
    "# Create an empty list to store the dataarrays\n",
    "mixingratio_dataarray_list = []\n",
    "abshum_dataarray_list = []\n",
    "snowdepth_list = []\n",
    "temp_dataarray_list = []\n",
    "rh_dataarray_list = []\n",
    "w_dataarray_list = []\n",
    "\n",
    "# Iterate over each file with tqdm\n",
    "for file_name in tqdm.tqdm(file_list):\n",
    "    # Open the file using xarray\n",
    "    dataset = xr.open_dataset(os.path.join(kps_download_dir, file_name))\n",
    "    \n",
    "    # Extract the dataarray for the variable 'mixing_ratio', Add the dataarray to the list\n",
    "    mixingratio_dataarray_list.append(dataset['mixing_ratio'])\n",
    "    abshum_dataarray_list.append(dataset['h2o_licor'])\n",
    "    snowdepth_list.append(dataset['snow_depth'])\n",
    "    temp_dataarray_list.append(dataset['temp'])  # Add this line\n",
    "    rh_dataarray_list.append(dataset['rh'])  # Add this line\n",
    "    w_dataarray_list.append(dataset['wspd_w_mean'])  # Add this line\n",
    "\n",
    "mixingratio_ds = xr.concat(mixingratio_dataarray_list, dim='time')\n",
    "mixingratio_ds = utils.modify_xarray_timezone(mixingratio_ds, 'UTC', 'US/Mountain')\n",
    "abshum_ds = xr.concat(abshum_dataarray_list, dim='time')\n",
    "abshum_ds = utils.modify_xarray_timezone(abshum_ds, 'UTC', 'US/Mountain')\n",
    "annex_snowdepth_ds = xr.concat(snowdepth_list, dim='time')\n",
    "annex_snowdepth_ds = utils.modify_xarray_timezone(annex_snowdepth_ds, 'UTC', 'US/Mountain')\n",
    "temp_ds = xr.concat(temp_dataarray_list, dim='time')\n",
    "temp_ds = utils.modify_xarray_timezone(temp_ds, 'UTC', 'US/Mountain')\n",
    "rh_ds = xr.concat(rh_dataarray_list, dim='time')\n",
    "rh_ds = utils.modify_xarray_timezone(rh_ds, 'UTC', 'US/Mountain')\n",
    "w_ds = xr.concat(w_dataarray_list, dim='time')\n",
    "w_ds = utils.modify_xarray_timezone(w_ds, 'UTC', 'US/Mountain')"
   ]
  },
  {
   "cell_type": "markdown",
   "metadata": {},
   "source": [
    "# Create categories"
   ]
  },
  {
   "cell_type": "code",
   "execution_count": 9,
   "metadata": {},
   "outputs": [
    {
     "data": {
      "text/plain": [
       "(1409, 3891)"
      ]
     },
     "execution_count": 9,
     "metadata": {},
     "output_type": "execute_result"
    }
   ],
   "source": [
    "# Identify lists of timestamps for different categories\n",
    "bs_times = list(pd.to_datetime(list(set(\n",
    "    tidy_df.query(\"variable == 'SF_avg_1m_ue'\").query(\"value > 0\").time\n",
    ").union(\n",
    "    set(tidy_df.query(\"variable == 'SF_avg_2m_ue'\").query(\"value > 0\").time)\n",
    "))))\n",
    "nobs_times = list(pd.to_datetime(list(set(tidy_df.time).difference(bs_times))))\n",
    "\n",
    "decoupled_times = list(pd.to_datetime(tidy_df.query(\"variable == 'omega_3m_c'\").query(\"value < 0.43\").time))\n",
    "weaklycoupled_times = list(pd.to_datetime(tidy_df.query(\"variable == 'omega_3m_c'\").query(\"value >= 0.43\").query(\"value <= 0.61\").time))\n",
    "coupled_times = list(pd.to_datetime(tidy_df.query(\"variable == 'omega_3m_c'\").query(\"value > 0.61\").time))\n",
    "\n",
    "ri_stable_times = list(pd.to_datetime(tidy_df.query(\"variable == 'Ri_3m_c'\").query(\"value > 0.25\").time))\n",
    "ri_unstable_times = list(pd.to_datetime(tidy_df.query(\"variable == 'Ri_3m_c'\").query(\"value < -0.01\").time))\n",
    "ri_neutral_times = list(pd.to_datetime(tidy_df.query(\"variable == 'Ri_3m_c'\").query(\"value >= -0.01\").query(\"value <= 0.25\").time))\n",
    "\n",
    "tgrad_stable_times = list(pd.to_datetime(tidy_df.query(\"variable == 'temp_gradient_3m_c'\").query(\"value > 0.01\").time))\n",
    "tgrad_unstable_times = list(pd.to_datetime(tidy_df.query(\"variable == 'temp_gradient_3m_c'\").query(\"value < -0.01\").time))\n",
    "tgrad_neutral_times = list(pd.to_datetime(tidy_df.query(\"variable == 'temp_gradient_3m_c'\").query(\"value >= -0.01\").query(\"value <= 0.01\").time))\n",
    "\n",
    "upvalley_wind_times = list(pd.to_datetime(tidy_df[tidy_df.variable == 'dir_3m_c'].query(\"value < 152\").query(\"value > 92\").time.values))\n",
    "downvalley_wind_times = list(pd.to_datetime(tidy_df[tidy_df.variable == 'dir_3m_c'].query(\"value < 342\").query(\"value > 292\").time.values))\n",
    "\n",
    "downvalley_nobs_times = set(downvalley_wind_times).intersection(set(nobs_times))\n",
    "upvalley_nobs_times = set(upvalley_wind_times).intersection(set(nobs_times))\n",
    "\n",
    "len(upvalley_wind_times),len(downvalley_wind_times)"
   ]
  },
  {
   "cell_type": "code",
   "execution_count": 10,
   "metadata": {},
   "outputs": [
    {
     "name": "stdout",
     "output_type": "stream",
     "text": [
      "2899\n",
      "296\n",
      "4460\n",
      "7014\n",
      "229\n",
      "415\n"
     ]
    }
   ],
   "source": [
    "print(len(ri_stable_times))\n",
    "print(len(ri_unstable_times))\n",
    "print(len(ri_neutral_times))\n",
    "print(len(tgrad_stable_times))\n",
    "print(len(tgrad_unstable_times))\n",
    "print(len(tgrad_neutral_times))"
   ]
  },
  {
   "cell_type": "markdown",
   "metadata": {},
   "source": [
    "# Vertical velocities for the two datasets (10-sector PF vs normal PF)"
   ]
  },
  {
   "cell_type": "code",
   "execution_count": 11,
   "metadata": {},
   "outputs": [],
   "source": [
    "w_chart_all_data = (\n",
    "    alt.Chart(\n",
    "        tidy_df.query(\"measurement == 'w'\").query(\"tower == 'c'\").query(\"height > 1\")\n",
    "    ).mark_line().encode(\n",
    "        alt.X('hoursminutes(time):T'),\n",
    "        alt.Y('mean(value):Q'),\n",
    "        alt.Color('height:O')\n",
    "    ).properties(width=200, height=200, title = 'Planar fit with 10 sectors') | alt.Chart(\n",
    "        tidy_df_single_pf.query(\"measurement == 'w'\").query(\"tower == 'c'\").query(\"height > 1\")\n",
    "    ).mark_line().encode(\n",
    "        alt.X('hoursminutes(time):T'),\n",
    "        alt.Y('mean(value):Q'),\n",
    "        alt.Color('height:O').scale(scheme='turbo')\n",
    "    ).properties(width=200, height=200, title = 'Planar Fit')\n",
    ").resolve_scale(y='shared', x='shared', color='shared').properties(title= \"All Data\")"
   ]
  },
  {
   "cell_type": "code",
   "execution_count": 12,
   "metadata": {},
   "outputs": [],
   "source": [
    "w_chart_upvalley_winds = (\n",
    "    alt.Chart(\n",
    "        tidy_df[tidy_df.time.isin(upvalley_wind_times)].query(\"measurement == 'w'\").query(\"tower == 'c'\").query(\"height > 1\")\n",
    "    ).mark_line().encode(\n",
    "        alt.X('hours(time):T'),\n",
    "        alt.Y('median(value):Q'),\n",
    "        alt.Color('height:O')\n",
    "    ).properties(width=200, height=200, title='Planar fit with 10 sectors') | alt.Chart(\n",
    "        tidy_df_single_pf[tidy_df_single_pf.time.isin(upvalley_wind_times)].query(\"measurement == 'w'\").query(\"tower == 'c'\").query(\"height > 1\")\n",
    "    ).mark_line().encode(\n",
    "        alt.X('hours(time):T'),\n",
    "        alt.Y('median(value):Q'),\n",
    "        alt.Color('height:O').scale(scheme='turbo')\n",
    "    ).properties(width=200, height=200, title='Planar Fit')\n",
    ").resolve_scale(y='shared', x='shared', color='shared').properties(title= \"During Upvalley Winds\")"
   ]
  },
  {
   "cell_type": "code",
   "execution_count": 13,
   "metadata": {},
   "outputs": [
    {
     "data": {
      "text/html": [
       "\n",
       "<style>\n",
       "  #altair-viz-083177d3fccd4371bd256d2ce0587b78.vega-embed {\n",
       "    width: 100%;\n",
       "    display: flex;\n",
       "  }\n",
       "\n",
       "  #altair-viz-083177d3fccd4371bd256d2ce0587b78.vega-embed details,\n",
       "  #altair-viz-083177d3fccd4371bd256d2ce0587b78.vega-embed details summary {\n",
       "    position: relative;\n",
       "  }\n",
       "</style>\n",
       "<div id=\"altair-viz-083177d3fccd4371bd256d2ce0587b78\"></div>\n",
       "<script type=\"text/javascript\">\n",
       "  var VEGA_DEBUG = (typeof VEGA_DEBUG == \"undefined\") ? {} : VEGA_DEBUG;\n",
       "  (function(spec, embedOpt){\n",
       "    let outputDiv = document.currentScript.previousElementSibling;\n",
       "    if (outputDiv.id !== \"altair-viz-083177d3fccd4371bd256d2ce0587b78\") {\n",
       "      outputDiv = document.getElementById(\"altair-viz-083177d3fccd4371bd256d2ce0587b78\");\n",
       "    }\n",
       "    const paths = {\n",
       "      \"vega\": \"https://cdn.jsdelivr.net/npm/vega@5?noext\",\n",
       "      \"vega-lib\": \"https://cdn.jsdelivr.net/npm/vega-lib?noext\",\n",
       "      \"vega-lite\": \"https://cdn.jsdelivr.net/npm/vega-lite@5.20.1?noext\",\n",
       "      \"vega-embed\": \"https://cdn.jsdelivr.net/npm/vega-embed@6?noext\",\n",
       "    };\n",
       "\n",
       "    function maybeLoadScript(lib, version) {\n",
       "      var key = `${lib.replace(\"-\", \"\")}_version`;\n",
       "      return (VEGA_DEBUG[key] == version) ?\n",
       "        Promise.resolve(paths[lib]) :\n",
       "        new Promise(function(resolve, reject) {\n",
       "          var s = document.createElement('script');\n",
       "          document.getElementsByTagName(\"head\")[0].appendChild(s);\n",
       "          s.async = true;\n",
       "          s.onload = () => {\n",
       "            VEGA_DEBUG[key] = version;\n",
       "            return resolve(paths[lib]);\n",
       "          };\n",
       "          s.onerror = () => reject(`Error loading script: ${paths[lib]}`);\n",
       "          s.src = paths[lib];\n",
       "        });\n",
       "    }\n",
       "\n",
       "    function showError(err) {\n",
       "      outputDiv.innerHTML = `<div class=\"error\" style=\"color:red;\">${err}</div>`;\n",
       "      throw err;\n",
       "    }\n",
       "\n",
       "    function displayChart(vegaEmbed) {\n",
       "      vegaEmbed(outputDiv, spec, embedOpt)\n",
       "        .catch(err => showError(`Javascript Error: ${err.message}<br>This usually means there's a typo in your chart specification. See the javascript console for the full traceback.`));\n",
       "    }\n",
       "\n",
       "    if(typeof define === \"function\" && define.amd) {\n",
       "      requirejs.config({paths});\n",
       "      require([\"vega-embed\"], displayChart, err => showError(`Error loading script: ${err.message}`));\n",
       "    } else {\n",
       "      maybeLoadScript(\"vega\", \"5\")\n",
       "        .then(() => maybeLoadScript(\"vega-lite\", \"5.20.1\"))\n",
       "        .then(() => maybeLoadScript(\"vega-embed\", \"6\"))\n",
       "        .catch(showError)\n",
       "        .then(() => displayChart(vegaEmbed));\n",
       "    }\n",
       "  })({\"config\": {\"view\": {\"continuousWidth\": 300, \"continuousHeight\": 300}, \"title\": {\"anchor\": \"middle\"}}, \"vconcat\": [{\"hconcat\": [{\"data\": {\"url\": \"altair-data-fb2c5fc633448eebb150390b8aad935b.json\", \"format\": {\"type\": \"json\"}}, \"mark\": {\"type\": \"line\"}, \"encoding\": {\"color\": {\"field\": \"height\", \"type\": \"ordinal\"}, \"x\": {\"field\": \"time\", \"timeUnit\": \"hoursminutes\", \"type\": \"temporal\"}, \"y\": {\"aggregate\": \"mean\", \"field\": \"value\", \"type\": \"quantitative\"}}, \"height\": 200, \"title\": \"Planar fit with 10 sectors\", \"width\": 200}, {\"data\": {\"url\": \"altair-data-52de2f9ac78926583c585014540b41ed.json\", \"format\": {\"type\": \"json\"}}, \"mark\": {\"type\": \"line\"}, \"encoding\": {\"color\": {\"field\": \"height\", \"scale\": {\"scheme\": \"turbo\"}, \"type\": \"ordinal\"}, \"x\": {\"field\": \"time\", \"timeUnit\": \"hoursminutes\", \"type\": \"temporal\"}, \"y\": {\"aggregate\": \"mean\", \"field\": \"value\", \"type\": \"quantitative\"}}, \"height\": 200, \"title\": \"Planar Fit\", \"width\": 200}], \"resolve\": {\"scale\": {\"color\": \"shared\", \"x\": \"shared\", \"y\": \"shared\"}}, \"title\": \"All Data\"}, {\"hconcat\": [{\"data\": {\"url\": \"altair-data-b4b329c551887f9e874d3134e3bbc36d.json\", \"format\": {\"type\": \"json\"}}, \"mark\": {\"type\": \"line\"}, \"encoding\": {\"color\": {\"field\": \"height\", \"type\": \"ordinal\"}, \"x\": {\"field\": \"time\", \"timeUnit\": \"hours\", \"type\": \"temporal\"}, \"y\": {\"aggregate\": \"median\", \"field\": \"value\", \"type\": \"quantitative\"}}, \"height\": 200, \"title\": \"Planar fit with 10 sectors\", \"width\": 200}, {\"data\": {\"url\": \"altair-data-59cd581b508ca197b14be1e4bd492f93.json\", \"format\": {\"type\": \"json\"}}, \"mark\": {\"type\": \"line\"}, \"encoding\": {\"color\": {\"field\": \"height\", \"scale\": {\"scheme\": \"turbo\"}, \"type\": \"ordinal\"}, \"x\": {\"field\": \"time\", \"timeUnit\": \"hours\", \"type\": \"temporal\"}, \"y\": {\"aggregate\": \"median\", \"field\": \"value\", \"type\": \"quantitative\"}}, \"height\": 200, \"title\": \"Planar Fit\", \"width\": 200}], \"resolve\": {\"scale\": {\"color\": \"shared\", \"x\": \"shared\", \"y\": \"shared\"}}, \"title\": \"During Upvalley Winds\"}], \"$schema\": \"https://vega.github.io/schema/vega-lite/v5.20.1.json\"}, {\"mode\": \"vega-lite\"});\n",
       "</script>"
      ],
      "text/plain": [
       "alt.VConcatChart(...)"
      ]
     },
     "execution_count": 13,
     "metadata": {},
     "output_type": "execute_result"
    }
   ],
   "source": [
    "(w_chart_all_data & w_chart_upvalley_winds).configure_title(\n",
    "    anchor='middle',\n",
    ")\n"
   ]
  },
  {
   "cell_type": "markdown",
   "metadata": {},
   "source": [
    "# Vertical advection term, 1D numerical solution"
   ]
  },
  {
   "cell_type": "markdown",
   "metadata": {},
   "source": [
    "## Collect mixing ratio data we need"
   ]
  },
  {
   "cell_type": "code",
   "execution_count": 14,
   "metadata": {},
   "outputs": [
    {
     "name": "stderr",
     "output_type": "stream",
     "text": [
      "/var/folders/x_/2h52bcjx2px15bhmdpdd748h0000gn/T/ipykernel_39920/1081983149.py:3: SettingWithCopyWarning: \n",
      "A value is trying to be set on a copy of a slice from a DataFrame.\n",
      "Try using .loc[row_indexer,col_indexer] = value instead\n",
      "\n",
      "See the caveats in the documentation: https://pandas.pydata.org/pandas-docs/stable/user_guide/indexing.html#returning-a-view-versus-a-copy\n",
      "  mixing_ratio_profile_df.measurement = 'q_hygr'\n"
     ]
    }
   ],
   "source": [
    "## Isolate humidity measurements (from hygrometers)\n",
    "mixing_ratio_profile_df = tidy_df[tidy_df.measurement.isin(['mixing ratio'])]\n",
    "mixing_ratio_profile_df.measurement = 'q_hygr'\n",
    "mixing_ratio_profile_df = mixing_ratio_profile_df.pivot_table(\n",
    "        index='time', columns=['height', 'tower', 'measurement'], values='value'\n",
    "    )\n",
    "\n",
    "# Combine with snow depth data\n",
    "mixing_ratio_profile_df = mixing_ratio_profile_df.melt(ignore_index=False).join(\n",
    "    tidy_df[tidy_df.variable == 'SnowDepth_c'].set_index('time')['value'].rename('snow depth')\n",
    ")\n",
    "\n",
    "# Calculate instrument height above snow surface\n",
    "mixing_ratio_profile_df['instrument_height'] = mixing_ratio_profile_df['height'] - mixing_ratio_profile_df['snow depth']\n",
    "\n",
    "# Filter out measurements that are buried in the snow\n",
    "mixing_ratio_profile_df = mixing_ratio_profile_df[\n",
    "    (mixing_ratio_profile_df['instrument_height'] > 0)\n",
    "    | (mixing_ratio_profile_df['height'] == 0)\n",
    "]\n",
    "\n",
    "mixing_ratio_profile_df['instrument_height'] = mixing_ratio_profile_df['instrument_height'].where(\n",
    "    mixing_ratio_profile_df['instrument_height'] > 0,\n",
    "    0\n",
    ")"
   ]
  },
  {
   "cell_type": "markdown",
   "metadata": {},
   "source": [
    "## Define function to calculate gradient for a given set of heights and mixingratio measurements (for single timestamp)"
   ]
  },
  {
   "cell_type": "code",
   "execution_count": 15,
   "metadata": {},
   "outputs": [],
   "source": [
    "from sublimpy.gradients import LogPolynomialWithRoughness\n",
    "\n",
    "def calculate_mixingratio_gradient(\n",
    "        one_ts_groupby,\n",
    "        height4estimate,\n",
    "        Z0Q = 0.005\n",
    "    ):\n",
    "    \"\"\" \n",
    "    Calculates mixing ratio gradient from a dataframe with datetimeindex,\n",
    "    and columns `instrument_height`  and `value`, which holds mixing ratio\n",
    "    values. These calculations are done by fitting log-polynomial curve to \n",
    "    measurements of z and X where X is some measured variable.\n",
    "    We include a boundary wall condition, applying measured X at\n",
    "    roughness height (T=T_s at z=z0). We also adjust for snow depth \n",
    "    in our calculations.\n",
    "    \"\"\"    \n",
    "    heights = one_ts_groupby.sort_values('instrument_height')['instrument_height']\n",
    "    values = one_ts_groupby.sort_values('instrument_height')['value']\n",
    "\n",
    "    # USING SIMPLE NUMPY GRADIENTS\n",
    "    ########################################\n",
    "    # gradients = np.gradient(values, heights)\n",
    "    # gradients = pd.Series(\n",
    "    #     gradients, \n",
    "    #     index=one_ts_groupby.sort_values('instrument_height')['height']\n",
    "    # )\n",
    "    # return gradients.loc[height4estimate]\n",
    "    \n",
    "    # USING A FITTED LOG-LINEAR CURVE\n",
    "    ########################################\n",
    "    heights = heights.replace(0,Z0Q)\n",
    "\n",
    "    # calculate fitted loglinear parameters\n",
    "    params = LogPolynomialWithRoughness.fit_function(\n",
    "        values,\n",
    "        heights\n",
    "    )\n",
    "    values_pred = [\n",
    "        LogPolynomialWithRoughness.function(z, params[0], params[1], params[2])\n",
    "        for z in heights\n",
    "    ]\n",
    "    a = params[0]\n",
    "    b = params[1]\n",
    "    gradient = LogPolynomialWithRoughness.gradient_single_component(height4estimate, a, b)\n",
    "    return gradient"
   ]
  },
  {
   "cell_type": "markdown",
   "metadata": {},
   "source": [
    "## Calculate $d\\sigma/dz$ for all timestamps, tower measurements at all heights >= 2"
   ]
  },
  {
   "cell_type": "code",
   "execution_count": 16,
   "metadata": {},
   "outputs": [],
   "source": [
    "def get_dsigma_dz_values_for_height(H):\n",
    "    dsigma_dz = mixing_ratio_profile_df.reset_index().swifter.groupby('time').apply(\n",
    "        lambda df: calculate_mixingratio_gradient(df, H)\n",
    "    )\n",
    "    return pd.DataFrame(dsigma_dz.rename('dsigma_dz'))\n",
    "\n",
    "def add_variables_to_dsigma_dz_values(H, dsigma_dz_values, tidy_df_specific_pf):\n",
    "    return dsigma_dz_values.join(\n",
    "        tidy_df_specific_pf.query(f\"variable == 'w_{H}m_c'\").set_index('time')['value'].rename('w')\n",
    "    ).join(\n",
    "        tidy_df_specific_pf.query(f\"variable == 'airdensity_{H}m_c'\").set_index('time')['value'].rename('rho_d')\n",
    "    ).join(\n",
    "        tidy_df_specific_pf.query(f\"variable == 'w_h2o__{H}m_c_gapfill'\").set_index('time')['value'].rename('w_h2o__')\n",
    "    )\n",
    "\n",
    "def calculate_transport_terms_with_dsigma_dz(H, dsigma_dz_values):\n",
    "    dsigma_dz_values['vertical_advection'] = dsigma_dz_values['w']*dsigma_dz_values['rho_d']*dsigma_dz_values['dsigma_dz']*1000\n",
    "    dsigma_dz_values['w_h2o__corrected'] = (dsigma_dz_values['w_h2o__'] + dsigma_dz_values['vertical_advection']*H)\n",
    "    return dsigma_dz_values\n",
    "\n",
    "def get_advection_and_cumsum_df(H, tidy_df_specific_pf):\n",
    "    df = get_dsigma_dz_values_for_height(H)\n",
    "    df = add_variables_to_dsigma_dz_values(H, df, tidy_df_specific_pf) \n",
    "    df = calculate_transport_terms_with_dsigma_dz(H, df)\n",
    "\n",
    "    cumsum_df = df.loc['20221130': '20230509']\n",
    "    cumsum_df['w_h2o___cumsum'] = cumsum_df['w_h2o__'].cumsum()\n",
    "    cumsum_df['w_h2o__corrected_cumsum'] = cumsum_df['w_h2o__corrected'].cumsum()\n",
    "    return df, cumsum_df\n"
   ]
  },
  {
   "cell_type": "code",
   "execution_count": 17,
   "metadata": {},
   "outputs": [
    {
     "data": {
      "application/vnd.jupyter.widget-view+json": {
       "model_id": "14a96d78d61a4fed95de9f7dc76728bf",
       "version_major": 2,
       "version_minor": 0
      },
      "text/plain": [
       "  0%|          | 0/22 [00:00<?, ?it/s]"
      ]
     },
     "metadata": {},
     "output_type": "display_data"
    },
    {
     "name": "stderr",
     "output_type": "stream",
     "text": [
      "2025-01-24 18:38:48,542\tINFO worker.py:1781 -- Started a local Ray instance.\n",
      "/var/folders/x_/2h52bcjx2px15bhmdpdd748h0000gn/T/ipykernel_39920/4228155044.py:27: SettingWithCopyWarning: \n",
      "A value is trying to be set on a copy of a slice from a DataFrame.\n",
      "Try using .loc[row_indexer,col_indexer] = value instead\n",
      "\n",
      "See the caveats in the documentation: https://pandas.pydata.org/pandas-docs/stable/user_guide/indexing.html#returning-a-view-versus-a-copy\n",
      "  cumsum_df['w_h2o___cumsum'] = cumsum_df['w_h2o__'].cumsum()\n",
      "/var/folders/x_/2h52bcjx2px15bhmdpdd748h0000gn/T/ipykernel_39920/4228155044.py:28: SettingWithCopyWarning: \n",
      "A value is trying to be set on a copy of a slice from a DataFrame.\n",
      "Try using .loc[row_indexer,col_indexer] = value instead\n",
      "\n",
      "See the caveats in the documentation: https://pandas.pydata.org/pandas-docs/stable/user_guide/indexing.html#returning-a-view-versus-a-copy\n",
      "  cumsum_df['w_h2o__corrected_cumsum'] = cumsum_df['w_h2o__corrected'].cumsum()\n"
     ]
    },
    {
     "data": {
      "application/vnd.jupyter.widget-view+json": {
       "model_id": "097ef93914d74038984f90828b66c832",
       "version_major": 2,
       "version_minor": 0
      },
      "text/plain": [
       "  0%|          | 0/22 [00:00<?, ?it/s]"
      ]
     },
     "metadata": {},
     "output_type": "display_data"
    },
    {
     "name": "stderr",
     "output_type": "stream",
     "text": [
      "/var/folders/x_/2h52bcjx2px15bhmdpdd748h0000gn/T/ipykernel_39920/4228155044.py:27: SettingWithCopyWarning: \n",
      "A value is trying to be set on a copy of a slice from a DataFrame.\n",
      "Try using .loc[row_indexer,col_indexer] = value instead\n",
      "\n",
      "See the caveats in the documentation: https://pandas.pydata.org/pandas-docs/stable/user_guide/indexing.html#returning-a-view-versus-a-copy\n",
      "  cumsum_df['w_h2o___cumsum'] = cumsum_df['w_h2o__'].cumsum()\n",
      "/var/folders/x_/2h52bcjx2px15bhmdpdd748h0000gn/T/ipykernel_39920/4228155044.py:28: SettingWithCopyWarning: \n",
      "A value is trying to be set on a copy of a slice from a DataFrame.\n",
      "Try using .loc[row_indexer,col_indexer] = value instead\n",
      "\n",
      "See the caveats in the documentation: https://pandas.pydata.org/pandas-docs/stable/user_guide/indexing.html#returning-a-view-versus-a-copy\n",
      "  cumsum_df['w_h2o__corrected_cumsum'] = cumsum_df['w_h2o__corrected'].cumsum()\n"
     ]
    },
    {
     "data": {
      "application/vnd.jupyter.widget-view+json": {
       "model_id": "58443db0a37c4ee7b31290e908bd88fe",
       "version_major": 2,
       "version_minor": 0
      },
      "text/plain": [
       "  0%|          | 0/22 [00:00<?, ?it/s]"
      ]
     },
     "metadata": {},
     "output_type": "display_data"
    },
    {
     "name": "stderr",
     "output_type": "stream",
     "text": [
      "/var/folders/x_/2h52bcjx2px15bhmdpdd748h0000gn/T/ipykernel_39920/4228155044.py:27: SettingWithCopyWarning: \n",
      "A value is trying to be set on a copy of a slice from a DataFrame.\n",
      "Try using .loc[row_indexer,col_indexer] = value instead\n",
      "\n",
      "See the caveats in the documentation: https://pandas.pydata.org/pandas-docs/stable/user_guide/indexing.html#returning-a-view-versus-a-copy\n",
      "  cumsum_df['w_h2o___cumsum'] = cumsum_df['w_h2o__'].cumsum()\n",
      "/var/folders/x_/2h52bcjx2px15bhmdpdd748h0000gn/T/ipykernel_39920/4228155044.py:28: SettingWithCopyWarning: \n",
      "A value is trying to be set on a copy of a slice from a DataFrame.\n",
      "Try using .loc[row_indexer,col_indexer] = value instead\n",
      "\n",
      "See the caveats in the documentation: https://pandas.pydata.org/pandas-docs/stable/user_guide/indexing.html#returning-a-view-versus-a-copy\n",
      "  cumsum_df['w_h2o__corrected_cumsum'] = cumsum_df['w_h2o__corrected'].cumsum()\n"
     ]
    },
    {
     "data": {
      "application/vnd.jupyter.widget-view+json": {
       "model_id": "beee9292c428447ca971ac43d4760085",
       "version_major": 2,
       "version_minor": 0
      },
      "text/plain": [
       "  0%|          | 0/22 [00:00<?, ?it/s]"
      ]
     },
     "metadata": {},
     "output_type": "display_data"
    },
    {
     "name": "stderr",
     "output_type": "stream",
     "text": [
      "/var/folders/x_/2h52bcjx2px15bhmdpdd748h0000gn/T/ipykernel_39920/4228155044.py:27: SettingWithCopyWarning: \n",
      "A value is trying to be set on a copy of a slice from a DataFrame.\n",
      "Try using .loc[row_indexer,col_indexer] = value instead\n",
      "\n",
      "See the caveats in the documentation: https://pandas.pydata.org/pandas-docs/stable/user_guide/indexing.html#returning-a-view-versus-a-copy\n",
      "  cumsum_df['w_h2o___cumsum'] = cumsum_df['w_h2o__'].cumsum()\n",
      "/var/folders/x_/2h52bcjx2px15bhmdpdd748h0000gn/T/ipykernel_39920/4228155044.py:28: SettingWithCopyWarning: \n",
      "A value is trying to be set on a copy of a slice from a DataFrame.\n",
      "Try using .loc[row_indexer,col_indexer] = value instead\n",
      "\n",
      "See the caveats in the documentation: https://pandas.pydata.org/pandas-docs/stable/user_guide/indexing.html#returning-a-view-versus-a-copy\n",
      "  cumsum_df['w_h2o__corrected_cumsum'] = cumsum_df['w_h2o__corrected'].cumsum()\n"
     ]
    },
    {
     "data": {
      "application/vnd.jupyter.widget-view+json": {
       "model_id": "83b88cc946724e0e8ee0c4c53633807f",
       "version_major": 2,
       "version_minor": 0
      },
      "text/plain": [
       "  0%|          | 0/22 [00:00<?, ?it/s]"
      ]
     },
     "metadata": {},
     "output_type": "display_data"
    },
    {
     "name": "stderr",
     "output_type": "stream",
     "text": [
      "/var/folders/x_/2h52bcjx2px15bhmdpdd748h0000gn/T/ipykernel_39920/4228155044.py:27: SettingWithCopyWarning: \n",
      "A value is trying to be set on a copy of a slice from a DataFrame.\n",
      "Try using .loc[row_indexer,col_indexer] = value instead\n",
      "\n",
      "See the caveats in the documentation: https://pandas.pydata.org/pandas-docs/stable/user_guide/indexing.html#returning-a-view-versus-a-copy\n",
      "  cumsum_df['w_h2o___cumsum'] = cumsum_df['w_h2o__'].cumsum()\n",
      "/var/folders/x_/2h52bcjx2px15bhmdpdd748h0000gn/T/ipykernel_39920/4228155044.py:28: SettingWithCopyWarning: \n",
      "A value is trying to be set on a copy of a slice from a DataFrame.\n",
      "Try using .loc[row_indexer,col_indexer] = value instead\n",
      "\n",
      "See the caveats in the documentation: https://pandas.pydata.org/pandas-docs/stable/user_guide/indexing.html#returning-a-view-versus-a-copy\n",
      "  cumsum_df['w_h2o__corrected_cumsum'] = cumsum_df['w_h2o__corrected'].cumsum()\n"
     ]
    },
    {
     "data": {
      "application/vnd.jupyter.widget-view+json": {
       "model_id": "868beddbfe4d40848383d12dd2846bca",
       "version_major": 2,
       "version_minor": 0
      },
      "text/plain": [
       "  0%|          | 0/22 [00:00<?, ?it/s]"
      ]
     },
     "metadata": {},
     "output_type": "display_data"
    },
    {
     "name": "stderr",
     "output_type": "stream",
     "text": [
      "/var/folders/x_/2h52bcjx2px15bhmdpdd748h0000gn/T/ipykernel_39920/4228155044.py:27: SettingWithCopyWarning: \n",
      "A value is trying to be set on a copy of a slice from a DataFrame.\n",
      "Try using .loc[row_indexer,col_indexer] = value instead\n",
      "\n",
      "See the caveats in the documentation: https://pandas.pydata.org/pandas-docs/stable/user_guide/indexing.html#returning-a-view-versus-a-copy\n",
      "  cumsum_df['w_h2o___cumsum'] = cumsum_df['w_h2o__'].cumsum()\n",
      "/var/folders/x_/2h52bcjx2px15bhmdpdd748h0000gn/T/ipykernel_39920/4228155044.py:28: SettingWithCopyWarning: \n",
      "A value is trying to be set on a copy of a slice from a DataFrame.\n",
      "Try using .loc[row_indexer,col_indexer] = value instead\n",
      "\n",
      "See the caveats in the documentation: https://pandas.pydata.org/pandas-docs/stable/user_guide/indexing.html#returning-a-view-versus-a-copy\n",
      "  cumsum_df['w_h2o__corrected_cumsum'] = cumsum_df['w_h2o__corrected'].cumsum()\n"
     ]
    },
    {
     "data": {
      "application/vnd.jupyter.widget-view+json": {
       "model_id": "2f447832959b489ab9b3048fd2b57496",
       "version_major": 2,
       "version_minor": 0
      },
      "text/plain": [
       "  0%|          | 0/22 [00:00<?, ?it/s]"
      ]
     },
     "metadata": {},
     "output_type": "display_data"
    },
    {
     "name": "stderr",
     "output_type": "stream",
     "text": [
      "/var/folders/x_/2h52bcjx2px15bhmdpdd748h0000gn/T/ipykernel_39920/4228155044.py:27: SettingWithCopyWarning: \n",
      "A value is trying to be set on a copy of a slice from a DataFrame.\n",
      "Try using .loc[row_indexer,col_indexer] = value instead\n",
      "\n",
      "See the caveats in the documentation: https://pandas.pydata.org/pandas-docs/stable/user_guide/indexing.html#returning-a-view-versus-a-copy\n",
      "  cumsum_df['w_h2o___cumsum'] = cumsum_df['w_h2o__'].cumsum()\n",
      "/var/folders/x_/2h52bcjx2px15bhmdpdd748h0000gn/T/ipykernel_39920/4228155044.py:28: SettingWithCopyWarning: \n",
      "A value is trying to be set on a copy of a slice from a DataFrame.\n",
      "Try using .loc[row_indexer,col_indexer] = value instead\n",
      "\n",
      "See the caveats in the documentation: https://pandas.pydata.org/pandas-docs/stable/user_guide/indexing.html#returning-a-view-versus-a-copy\n",
      "  cumsum_df['w_h2o__corrected_cumsum'] = cumsum_df['w_h2o__corrected'].cumsum()\n"
     ]
    },
    {
     "data": {
      "application/vnd.jupyter.widget-view+json": {
       "model_id": "a0d99f53a9ee4a40871abc3fc390e423",
       "version_major": 2,
       "version_minor": 0
      },
      "text/plain": [
       "  0%|          | 0/22 [00:00<?, ?it/s]"
      ]
     },
     "metadata": {},
     "output_type": "display_data"
    },
    {
     "name": "stderr",
     "output_type": "stream",
     "text": [
      "/var/folders/x_/2h52bcjx2px15bhmdpdd748h0000gn/T/ipykernel_39920/4228155044.py:27: SettingWithCopyWarning: \n",
      "A value is trying to be set on a copy of a slice from a DataFrame.\n",
      "Try using .loc[row_indexer,col_indexer] = value instead\n",
      "\n",
      "See the caveats in the documentation: https://pandas.pydata.org/pandas-docs/stable/user_guide/indexing.html#returning-a-view-versus-a-copy\n",
      "  cumsum_df['w_h2o___cumsum'] = cumsum_df['w_h2o__'].cumsum()\n",
      "/var/folders/x_/2h52bcjx2px15bhmdpdd748h0000gn/T/ipykernel_39920/4228155044.py:28: SettingWithCopyWarning: \n",
      "A value is trying to be set on a copy of a slice from a DataFrame.\n",
      "Try using .loc[row_indexer,col_indexer] = value instead\n",
      "\n",
      "See the caveats in the documentation: https://pandas.pydata.org/pandas-docs/stable/user_guide/indexing.html#returning-a-view-versus-a-copy\n",
      "  cumsum_df['w_h2o__corrected_cumsum'] = cumsum_df['w_h2o__corrected'].cumsum()\n"
     ]
    },
    {
     "data": {
      "application/vnd.jupyter.widget-view+json": {
       "model_id": "8d75d398804b4d94972b1a05cf619abc",
       "version_major": 2,
       "version_minor": 0
      },
      "text/plain": [
       "  0%|          | 0/22 [00:00<?, ?it/s]"
      ]
     },
     "metadata": {},
     "output_type": "display_data"
    },
    {
     "name": "stderr",
     "output_type": "stream",
     "text": [
      "/var/folders/x_/2h52bcjx2px15bhmdpdd748h0000gn/T/ipykernel_39920/4228155044.py:27: SettingWithCopyWarning: \n",
      "A value is trying to be set on a copy of a slice from a DataFrame.\n",
      "Try using .loc[row_indexer,col_indexer] = value instead\n",
      "\n",
      "See the caveats in the documentation: https://pandas.pydata.org/pandas-docs/stable/user_guide/indexing.html#returning-a-view-versus-a-copy\n",
      "  cumsum_df['w_h2o___cumsum'] = cumsum_df['w_h2o__'].cumsum()\n",
      "/var/folders/x_/2h52bcjx2px15bhmdpdd748h0000gn/T/ipykernel_39920/4228155044.py:28: SettingWithCopyWarning: \n",
      "A value is trying to be set on a copy of a slice from a DataFrame.\n",
      "Try using .loc[row_indexer,col_indexer] = value instead\n",
      "\n",
      "See the caveats in the documentation: https://pandas.pydata.org/pandas-docs/stable/user_guide/indexing.html#returning-a-view-versus-a-copy\n",
      "  cumsum_df['w_h2o__corrected_cumsum'] = cumsum_df['w_h2o__corrected'].cumsum()\n"
     ]
    },
    {
     "data": {
      "application/vnd.jupyter.widget-view+json": {
       "model_id": "81f5034868da4e84a4929e6dc5b2fb25",
       "version_major": 2,
       "version_minor": 0
      },
      "text/plain": [
       "  0%|          | 0/22 [00:00<?, ?it/s]"
      ]
     },
     "metadata": {},
     "output_type": "display_data"
    },
    {
     "name": "stderr",
     "output_type": "stream",
     "text": [
      "/var/folders/x_/2h52bcjx2px15bhmdpdd748h0000gn/T/ipykernel_39920/4228155044.py:27: SettingWithCopyWarning: \n",
      "A value is trying to be set on a copy of a slice from a DataFrame.\n",
      "Try using .loc[row_indexer,col_indexer] = value instead\n",
      "\n",
      "See the caveats in the documentation: https://pandas.pydata.org/pandas-docs/stable/user_guide/indexing.html#returning-a-view-versus-a-copy\n",
      "  cumsum_df['w_h2o___cumsum'] = cumsum_df['w_h2o__'].cumsum()\n",
      "/var/folders/x_/2h52bcjx2px15bhmdpdd748h0000gn/T/ipykernel_39920/4228155044.py:28: SettingWithCopyWarning: \n",
      "A value is trying to be set on a copy of a slice from a DataFrame.\n",
      "Try using .loc[row_indexer,col_indexer] = value instead\n",
      "\n",
      "See the caveats in the documentation: https://pandas.pydata.org/pandas-docs/stable/user_guide/indexing.html#returning-a-view-versus-a-copy\n",
      "  cumsum_df['w_h2o__corrected_cumsum'] = cumsum_df['w_h2o__corrected'].cumsum()\n"
     ]
    },
    {
     "data": {
      "application/vnd.jupyter.widget-view+json": {
       "model_id": "64b6172421f840d18e54bd8656f186e8",
       "version_major": 2,
       "version_minor": 0
      },
      "text/plain": [
       "  0%|          | 0/22 [00:00<?, ?it/s]"
      ]
     },
     "metadata": {},
     "output_type": "display_data"
    },
    {
     "name": "stderr",
     "output_type": "stream",
     "text": [
      "/var/folders/x_/2h52bcjx2px15bhmdpdd748h0000gn/T/ipykernel_39920/4228155044.py:27: SettingWithCopyWarning: \n",
      "A value is trying to be set on a copy of a slice from a DataFrame.\n",
      "Try using .loc[row_indexer,col_indexer] = value instead\n",
      "\n",
      "See the caveats in the documentation: https://pandas.pydata.org/pandas-docs/stable/user_guide/indexing.html#returning-a-view-versus-a-copy\n",
      "  cumsum_df['w_h2o___cumsum'] = cumsum_df['w_h2o__'].cumsum()\n",
      "/var/folders/x_/2h52bcjx2px15bhmdpdd748h0000gn/T/ipykernel_39920/4228155044.py:28: SettingWithCopyWarning: \n",
      "A value is trying to be set on a copy of a slice from a DataFrame.\n",
      "Try using .loc[row_indexer,col_indexer] = value instead\n",
      "\n",
      "See the caveats in the documentation: https://pandas.pydata.org/pandas-docs/stable/user_guide/indexing.html#returning-a-view-versus-a-copy\n",
      "  cumsum_df['w_h2o__corrected_cumsum'] = cumsum_df['w_h2o__corrected'].cumsum()\n"
     ]
    },
    {
     "data": {
      "application/vnd.jupyter.widget-view+json": {
       "model_id": "b849f3fde7f446e191e2143784319662",
       "version_major": 2,
       "version_minor": 0
      },
      "text/plain": [
       "  0%|          | 0/22 [00:00<?, ?it/s]"
      ]
     },
     "metadata": {},
     "output_type": "display_data"
    },
    {
     "name": "stderr",
     "output_type": "stream",
     "text": [
      "/var/folders/x_/2h52bcjx2px15bhmdpdd748h0000gn/T/ipykernel_39920/4228155044.py:27: SettingWithCopyWarning: \n",
      "A value is trying to be set on a copy of a slice from a DataFrame.\n",
      "Try using .loc[row_indexer,col_indexer] = value instead\n",
      "\n",
      "See the caveats in the documentation: https://pandas.pydata.org/pandas-docs/stable/user_guide/indexing.html#returning-a-view-versus-a-copy\n",
      "  cumsum_df['w_h2o___cumsum'] = cumsum_df['w_h2o__'].cumsum()\n",
      "/var/folders/x_/2h52bcjx2px15bhmdpdd748h0000gn/T/ipykernel_39920/4228155044.py:28: SettingWithCopyWarning: \n",
      "A value is trying to be set on a copy of a slice from a DataFrame.\n",
      "Try using .loc[row_indexer,col_indexer] = value instead\n",
      "\n",
      "See the caveats in the documentation: https://pandas.pydata.org/pandas-docs/stable/user_guide/indexing.html#returning-a-view-versus-a-copy\n",
      "  cumsum_df['w_h2o__corrected_cumsum'] = cumsum_df['w_h2o__corrected'].cumsum()\n"
     ]
    },
    {
     "data": {
      "application/vnd.jupyter.widget-view+json": {
       "model_id": "e2175954771044f78cecbb3bd740292e",
       "version_major": 2,
       "version_minor": 0
      },
      "text/plain": [
       "  0%|          | 0/22 [00:00<?, ?it/s]"
      ]
     },
     "metadata": {},
     "output_type": "display_data"
    },
    {
     "name": "stderr",
     "output_type": "stream",
     "text": [
      "/var/folders/x_/2h52bcjx2px15bhmdpdd748h0000gn/T/ipykernel_39920/4228155044.py:27: SettingWithCopyWarning: \n",
      "A value is trying to be set on a copy of a slice from a DataFrame.\n",
      "Try using .loc[row_indexer,col_indexer] = value instead\n",
      "\n",
      "See the caveats in the documentation: https://pandas.pydata.org/pandas-docs/stable/user_guide/indexing.html#returning-a-view-versus-a-copy\n",
      "  cumsum_df['w_h2o___cumsum'] = cumsum_df['w_h2o__'].cumsum()\n",
      "/var/folders/x_/2h52bcjx2px15bhmdpdd748h0000gn/T/ipykernel_39920/4228155044.py:28: SettingWithCopyWarning: \n",
      "A value is trying to be set on a copy of a slice from a DataFrame.\n",
      "Try using .loc[row_indexer,col_indexer] = value instead\n",
      "\n",
      "See the caveats in the documentation: https://pandas.pydata.org/pandas-docs/stable/user_guide/indexing.html#returning-a-view-versus-a-copy\n",
      "  cumsum_df['w_h2o__corrected_cumsum'] = cumsum_df['w_h2o__corrected'].cumsum()\n"
     ]
    },
    {
     "data": {
      "application/vnd.jupyter.widget-view+json": {
       "model_id": "3c431b11fcfa4bb38769d5324de68f4a",
       "version_major": 2,
       "version_minor": 0
      },
      "text/plain": [
       "  0%|          | 0/22 [00:00<?, ?it/s]"
      ]
     },
     "metadata": {},
     "output_type": "display_data"
    },
    {
     "name": "stderr",
     "output_type": "stream",
     "text": [
      "/var/folders/x_/2h52bcjx2px15bhmdpdd748h0000gn/T/ipykernel_39920/4228155044.py:27: SettingWithCopyWarning: \n",
      "A value is trying to be set on a copy of a slice from a DataFrame.\n",
      "Try using .loc[row_indexer,col_indexer] = value instead\n",
      "\n",
      "See the caveats in the documentation: https://pandas.pydata.org/pandas-docs/stable/user_guide/indexing.html#returning-a-view-versus-a-copy\n",
      "  cumsum_df['w_h2o___cumsum'] = cumsum_df['w_h2o__'].cumsum()\n",
      "/var/folders/x_/2h52bcjx2px15bhmdpdd748h0000gn/T/ipykernel_39920/4228155044.py:28: SettingWithCopyWarning: \n",
      "A value is trying to be set on a copy of a slice from a DataFrame.\n",
      "Try using .loc[row_indexer,col_indexer] = value instead\n",
      "\n",
      "See the caveats in the documentation: https://pandas.pydata.org/pandas-docs/stable/user_guide/indexing.html#returning-a-view-versus-a-copy\n",
      "  cumsum_df['w_h2o__corrected_cumsum'] = cumsum_df['w_h2o__corrected'].cumsum()\n"
     ]
    },
    {
     "data": {
      "application/vnd.jupyter.widget-view+json": {
       "model_id": "0c06a1e310f04070a820c4b7e2977de5",
       "version_major": 2,
       "version_minor": 0
      },
      "text/plain": [
       "  0%|          | 0/22 [00:00<?, ?it/s]"
      ]
     },
     "metadata": {},
     "output_type": "display_data"
    },
    {
     "name": "stderr",
     "output_type": "stream",
     "text": [
      "/var/folders/x_/2h52bcjx2px15bhmdpdd748h0000gn/T/ipykernel_39920/4228155044.py:27: SettingWithCopyWarning: \n",
      "A value is trying to be set on a copy of a slice from a DataFrame.\n",
      "Try using .loc[row_indexer,col_indexer] = value instead\n",
      "\n",
      "See the caveats in the documentation: https://pandas.pydata.org/pandas-docs/stable/user_guide/indexing.html#returning-a-view-versus-a-copy\n",
      "  cumsum_df['w_h2o___cumsum'] = cumsum_df['w_h2o__'].cumsum()\n",
      "/var/folders/x_/2h52bcjx2px15bhmdpdd748h0000gn/T/ipykernel_39920/4228155044.py:28: SettingWithCopyWarning: \n",
      "A value is trying to be set on a copy of a slice from a DataFrame.\n",
      "Try using .loc[row_indexer,col_indexer] = value instead\n",
      "\n",
      "See the caveats in the documentation: https://pandas.pydata.org/pandas-docs/stable/user_guide/indexing.html#returning-a-view-versus-a-copy\n",
      "  cumsum_df['w_h2o__corrected_cumsum'] = cumsum_df['w_h2o__corrected'].cumsum()\n"
     ]
    },
    {
     "data": {
      "application/vnd.jupyter.widget-view+json": {
       "model_id": "ea144a86bb314e0e80a1c5442221984e",
       "version_major": 2,
       "version_minor": 0
      },
      "text/plain": [
       "  0%|          | 0/22 [00:00<?, ?it/s]"
      ]
     },
     "metadata": {},
     "output_type": "display_data"
    },
    {
     "name": "stderr",
     "output_type": "stream",
     "text": [
      "/var/folders/x_/2h52bcjx2px15bhmdpdd748h0000gn/T/ipykernel_39920/4228155044.py:27: SettingWithCopyWarning: \n",
      "A value is trying to be set on a copy of a slice from a DataFrame.\n",
      "Try using .loc[row_indexer,col_indexer] = value instead\n",
      "\n",
      "See the caveats in the documentation: https://pandas.pydata.org/pandas-docs/stable/user_guide/indexing.html#returning-a-view-versus-a-copy\n",
      "  cumsum_df['w_h2o___cumsum'] = cumsum_df['w_h2o__'].cumsum()\n",
      "/var/folders/x_/2h52bcjx2px15bhmdpdd748h0000gn/T/ipykernel_39920/4228155044.py:28: SettingWithCopyWarning: \n",
      "A value is trying to be set on a copy of a slice from a DataFrame.\n",
      "Try using .loc[row_indexer,col_indexer] = value instead\n",
      "\n",
      "See the caveats in the documentation: https://pandas.pydata.org/pandas-docs/stable/user_guide/indexing.html#returning-a-view-versus-a-copy\n",
      "  cumsum_df['w_h2o__corrected_cumsum'] = cumsum_df['w_h2o__corrected'].cumsum()\n"
     ]
    },
    {
     "data": {
      "application/vnd.jupyter.widget-view+json": {
       "model_id": "bb224ec6e52d40a7979c3fa2d962c562",
       "version_major": 2,
       "version_minor": 0
      },
      "text/plain": [
       "  0%|          | 0/22 [00:00<?, ?it/s]"
      ]
     },
     "metadata": {},
     "output_type": "display_data"
    },
    {
     "name": "stderr",
     "output_type": "stream",
     "text": [
      "/var/folders/x_/2h52bcjx2px15bhmdpdd748h0000gn/T/ipykernel_39920/4228155044.py:27: SettingWithCopyWarning: \n",
      "A value is trying to be set on a copy of a slice from a DataFrame.\n",
      "Try using .loc[row_indexer,col_indexer] = value instead\n",
      "\n",
      "See the caveats in the documentation: https://pandas.pydata.org/pandas-docs/stable/user_guide/indexing.html#returning-a-view-versus-a-copy\n",
      "  cumsum_df['w_h2o___cumsum'] = cumsum_df['w_h2o__'].cumsum()\n",
      "/var/folders/x_/2h52bcjx2px15bhmdpdd748h0000gn/T/ipykernel_39920/4228155044.py:28: SettingWithCopyWarning: \n",
      "A value is trying to be set on a copy of a slice from a DataFrame.\n",
      "Try using .loc[row_indexer,col_indexer] = value instead\n",
      "\n",
      "See the caveats in the documentation: https://pandas.pydata.org/pandas-docs/stable/user_guide/indexing.html#returning-a-view-versus-a-copy\n",
      "  cumsum_df['w_h2o__corrected_cumsum'] = cumsum_df['w_h2o__corrected'].cumsum()\n"
     ]
    },
    {
     "data": {
      "application/vnd.jupyter.widget-view+json": {
       "model_id": "1c4e1dc63a3c4051be7b42870115565d",
       "version_major": 2,
       "version_minor": 0
      },
      "text/plain": [
       "  0%|          | 0/22 [00:00<?, ?it/s]"
      ]
     },
     "metadata": {},
     "output_type": "display_data"
    },
    {
     "name": "stderr",
     "output_type": "stream",
     "text": [
      "/var/folders/x_/2h52bcjx2px15bhmdpdd748h0000gn/T/ipykernel_39920/4228155044.py:27: SettingWithCopyWarning: \n",
      "A value is trying to be set on a copy of a slice from a DataFrame.\n",
      "Try using .loc[row_indexer,col_indexer] = value instead\n",
      "\n",
      "See the caveats in the documentation: https://pandas.pydata.org/pandas-docs/stable/user_guide/indexing.html#returning-a-view-versus-a-copy\n",
      "  cumsum_df['w_h2o___cumsum'] = cumsum_df['w_h2o__'].cumsum()\n",
      "/var/folders/x_/2h52bcjx2px15bhmdpdd748h0000gn/T/ipykernel_39920/4228155044.py:28: SettingWithCopyWarning: \n",
      "A value is trying to be set on a copy of a slice from a DataFrame.\n",
      "Try using .loc[row_indexer,col_indexer] = value instead\n",
      "\n",
      "See the caveats in the documentation: https://pandas.pydata.org/pandas-docs/stable/user_guide/indexing.html#returning-a-view-versus-a-copy\n",
      "  cumsum_df['w_h2o__corrected_cumsum'] = cumsum_df['w_h2o__corrected'].cumsum()\n"
     ]
    },
    {
     "data": {
      "application/vnd.jupyter.widget-view+json": {
       "model_id": "37fe22a8f7f141c89e0bcc994949ad68",
       "version_major": 2,
       "version_minor": 0
      },
      "text/plain": [
       "  0%|          | 0/22 [00:00<?, ?it/s]"
      ]
     },
     "metadata": {},
     "output_type": "display_data"
    },
    {
     "name": "stderr",
     "output_type": "stream",
     "text": [
      "/var/folders/x_/2h52bcjx2px15bhmdpdd748h0000gn/T/ipykernel_39920/4228155044.py:27: SettingWithCopyWarning: \n",
      "A value is trying to be set on a copy of a slice from a DataFrame.\n",
      "Try using .loc[row_indexer,col_indexer] = value instead\n",
      "\n",
      "See the caveats in the documentation: https://pandas.pydata.org/pandas-docs/stable/user_guide/indexing.html#returning-a-view-versus-a-copy\n",
      "  cumsum_df['w_h2o___cumsum'] = cumsum_df['w_h2o__'].cumsum()\n",
      "/var/folders/x_/2h52bcjx2px15bhmdpdd748h0000gn/T/ipykernel_39920/4228155044.py:28: SettingWithCopyWarning: \n",
      "A value is trying to be set on a copy of a slice from a DataFrame.\n",
      "Try using .loc[row_indexer,col_indexer] = value instead\n",
      "\n",
      "See the caveats in the documentation: https://pandas.pydata.org/pandas-docs/stable/user_guide/indexing.html#returning-a-view-versus-a-copy\n",
      "  cumsum_df['w_h2o__corrected_cumsum'] = cumsum_df['w_h2o__corrected'].cumsum()\n"
     ]
    }
   ],
   "source": [
    "dsigma_dz_values_for_height = dict()\n",
    "for H in range(2,21):\n",
    "    dsigma_dz_values_for_height[H] = get_advection_and_cumsum_df(H,     tidy_df)"
   ]
  },
  {
   "cell_type": "code",
   "execution_count": 18,
   "metadata": {},
   "outputs": [],
   "source": [
    "vertical_advection_estimates = pd.concat([\n",
    "    df[0].assign(height = H) for (H, df) in dsigma_dz_values_for_height.items()\n",
    "])\n",
    "cumsub_vertical_advection_correction_estimates = pd.concat([\n",
    "    df[1].assign(height = H) for (H, df) in dsigma_dz_values_for_height.items()\n",
    "])\n"
   ]
  },
  {
   "cell_type": "markdown",
   "metadata": {},
   "source": [
    "# Air density flux term, finite difference"
   ]
  },
  {
   "cell_type": "code",
   "execution_count": 19,
   "metadata": {},
   "outputs": [
    {
     "data": {
      "text/html": [
       "<table><tbody><tr><th>Magnitude</th><td style='text-align:left;'><pre>[1.0871778340332137e-05 4.438436302736628e-06 2.7653485996096386e-06 ... 3.1808707728347766e-05 4.917137425181963e-07 4.7850655395347494e-05]</pre></td></tr><tr><th>Units</th><td style='text-align:left;'>gram/(meter<sup>3</sup> second)</td></tr></tbody></table>"
      ],
      "text/latex": [
       "$\\begin{pmatrix} &  &  &  &  &  &  &  &  &  &  &  &  &  &  &  &  &  &  &  &  &  &  &  &  &  &  &  &  &  &  &  &  &  &  &  &  &  &  &  &  &  &  &  &  &  &  &  &  &  &  &  &  &  &  &  &  &  &  &  &  &  &  &  &  &  &  &  &  &  &  &  &  &  &  &  &  &  &  &  &  &  &  &  &  &  &  &  &  &  &  &  &  &  &  &  &  &  &  &  &  &  &  &  &  &  &  &  &  &  &  &  &  &  &  &  &  &  &  &  &  &  &  &  &  &  &  &  &  &  &  &  &  &  &  &  &  &  &  &  &  &  &  &  &  &  &  &  &  &  &  &  &  &  &  &  &  &  &  &  &  &  &  &  &  &  &  &  &  &  &  &  &  &  &  &  &  &  &  &  &  &  &  &  &  &  &  &  &  &  &  &  &  &  &  &  &  &  &  &  &  &  &  &  &  &  &  &  &  &  &  &  &  &  &  &  &  &  &  &  &  &  &  &  &  &  &  &  &  &  &  &  &  &  &  &  &  &  &  &  &  &  &  &  &  &  &  &  &  &  &  &  &  &  &  &  &  &  &  &  &  &  &  &  &  &  &  &  &  &  &  &  &  &  &  &  &  &  &  &  &  &  &  &  &  &  &  &  &  &  &  &  &  &  &  &  &  &  &  &  &  &  &  &  &  &  &  &  &  &  &  &  &  &  &  &  &  &  &  &  &  &  &  &  &  &  &  &  &  &  &  &  &  &  &  &  &  &  &  &  &  &  &  &  &  &  &  &  &  &  &  &  &  &  &  &  &  &  &  &  &  &  &  &  &  &  &  &  &  &  &  &  &  &  &  &  &  &  &  &  &  &  &  &  &  &  &  &  &  &  &  &  &  &  &  &  &  &  &  &  &  &  &  &  &  &  &  &  &  &  &  &  &  &  &  &  &  &  &  &  &  &  &  &  &  &  &  &  &  &  &  &  &  &  &  &  &  &  &  &  &  &  &  &  &  &  &  &  &  &  &  &  &  &  &  &  &  &  &  &  &  &  &  &  &  &  &  &  &  &  &  &  &  &  &  &  &  &  &  &  &  &  &  &  &  &  &  &  &  &  &  &  &  &  &  &  &  &  &  &  &  &  &  &  &  &  &  &  &  &  &  &  &  &  &  &  &  &  &  &  &  &  &  &  &  &  &  &  &  &  &  &  &  &  &  &  &  &  &  &  &  &  &  &  &  &  &  &  &  &  &  &  &  &  &  &  &  &  &  &  &  &  &  &  &  &  &  &  &  &  &  &  &  &  &  &  &  &  &  &  &  &  &  &  &  &  &  &  &  &  &  &  &  &  &  &  &  &  &  &  &  &  &  &  &  &  &  &  &  &  &  &  &  &  &  &  &  &  &  &  &  &  &  &  &  &  &  &  &  &  &  &  &  &  &  &  &  &  &  &  &  &  &  &  &  &  &  &  &  &  &  &  &  &  &  &  &  &  &  &  &  &  &  &  &  &  &  &  &  &  &  &  &  &  &  &  &  &  &  &  &  &  &  &  &  &  &  &  &  &  &  &  &  &  &  &  &  &  &  &  &  &  &  &  &  &  &  &  &  &  &  &  &  &  &  &  &  &  &  &  &  &  &  &  &  &  &  &  &  &  &  &  &  &  &  &  &  &  &  &  &  &  &  &  &  &  &  &  &  &  &  &  &  &  &  &  &  &  &  &  &  &  &  &  &  &  &  &  &  &  &  &  &  &  &  &  &  &  &  &  &  &  &  &  &  &  &  &  &  &  &  &  &  &  &  &  &  &  &  &  &  &  &  &  &  &  &  &  &  &  &  &  &  &  &  &  &  &  &  &  &  &  &  &  &  &  &  &  &  &  &  &  &  &  &  &  &  &  &  &  &  &  &  &  &  &  &  &  &  &  &  &  &  &  &  &  &  &  &  &  &  &  &  &  &  &  &  &  &  &  &  &  &  &  &  &  &  &  &  &  &  &  &  &  &  &  &  &  &  &  &  &  &  &  &  &  &  &  &  &  &  &  &  &  &  &  &  &  &  &  &  &  &  &  &  &  &  &  &  &  &  &  &  &  &  &  &  &  &  &  &  &  &  &  &  &  &  &  &  &  &  &  &  &  &  &  &  &  &  &  &  &  &  &  &  &  &  &  &  &  &  &  &  &  &  &  &  &  &  &  &  &  &  &  &  &  &  &  &  &  &  &  &  &  &  &  &  &  &  &  &  &  &  &  &  &  &  &  &  &  &  &  &  &  &  &  &  &  &  &  &  &  &  &  &  &  &  &  &  &  &  &  &  &  &  &  &  &  &  &  &  &  &  &  &  &  &  &  &  &  &  &  &  &  &  &  &  &  &  &  &  &  &  &  &  &  &  &  &  &  &  &  &  &  &  &  &  &  &  &  &  &  &  &  &  &  &  &  &  &  &  &  &  &  &  &  &  &  &  &  &  &  &  &  &  &  &  &  &  &  &  &  &  &  &  &  &  &  &  &  &  &  &  &  &  &  &  &  &  &  &  &  &  &  &  &  &  &  &  &  &  &  &  &  &  &  &  &  &  &  &  &  &  &  &  &  &  &  &  &  &  &  &  &  &  &  &  &  &  &  &  &  &  &  &  &  &  &  &  &  &  &  &  &  &  &  &  &  &  &  &  &  &  &  &  &  &  &  &  &  &  &  &  &  &  &  &  &  &  &  &  &  &  &  &  &  &  &  &  &  &  &  &  &  &  &  &  &  &  &  &  &  &  &  &  &  &  &  &  &  &  &  &  &  &  &  &  &  &  &  &  &  &  &  &  &  &  &  &  &  &  &  &  &  &  &  &  &  &  &  &  &  &  &  &  &  &  &  &  &  &  &  &  &  &  &  &  &  &  &  &  &  &  &  &  &  &  &  &  &  &  &  &  &  &  &  &  &  &  &  &  &  &  &  &  &  &  &  &  &  &  &  &  &  &  &  &  &  &  &  &  &  &  &  &  &  &  &  &  &  &  &  &  &  &  &  &  &  &  &  &  &  &  &  &  &  &  &  &  &  &  &  &  &  &  &  &  &  &  &  &  &  &  &  &  &  &  &  &  &  &  &  &  &  &  &  &  &  &  &  &  &  &  &  &  &  &  &  &  &  &  &  &  &  &  &  &  &  &  &  &  &  &  &  &  &  &  &  &  &  &  &  &  &  &  &  &  &  &  &  &  &  &  &  &  &  &  &  &  &  &  &  &  &  &  &  &  &  &  &  &  &  &  &  &  &  &  &  &  &  &  &  &  &  &  &  &  &  &  &  &  &  &  &  &  &  &  &  &  &  &  &  &  &  &  &  &  &  &  &  &  &  &  &  &  &  &  &  &  &  &  &  &  &  &  &  &  &  &  &  &  &  &  &  &  &  &  &  &  &  &  &  &  &  &  &  &  &  &  &  &  &  &  &  &  &  &  &  &  &  &  &  &  &  &  &  &  &  &  &  &  &  &  &  &  &  &  &  &  &  &  &  &  &  &  &  &  &  &  &  &  &  &  &  &  &  &  &  &  &  &  &  &  &  &  &  &  &  &  &  &  &  &  &  &  &  &  &  &  &  &  &  &  &  &  &  &  &  &  &  &  &  &  &  &  &  &  &  &  &  &  &  &  &  &  &  &  &  &  &  &  &  &  &  &  &  &  &  &  &  &  &  &  &  &  &  &  &  &  &  &  &  &  &  &  &  &  &  &  &  &  &  &  &  &  &  &  &  &  &  &  &  &  &  &  &  &  &  &  &  &  &  &  &  &  &  &  &  &  &  &  &  &  &  &  &  &  &  &  &  &  &  &  &  &  &  &  &  &  &  &  &  &  &  &  &  &  &  &  &  &  &  &  &  &  &  &  &  &  &  &  &  &  &  &  &  &  &  &  &  &  &  &  &  &  &  &  &  &  &  &  &  &  &  &  &  &  &  &  &  &  &  &  &  &  &  &  &  &  &  &  &  &  &  &  &  &  &  &  &  &  &  &  &  &  &  &  &  &  &  &  &  &  &  &  &  &  &  &  &  &  &  &  &  &  &  &  &  &  &  &  &  &  &  &  &  &  &  &  &  &  &  &  &  &  &  &  &  &  &  &  &  &  &  &  &  &  &  &  &  &  &  &  &  &  &  &  &  &  &  &  &  &  &  &  &  &  &  &  &  &  &  &  &  &  &  &  &  &  &  &  &  &  &  &  &  &  &  &  &  &  &  &  &  &  &  &  &  &  &  &  &  &  &  &  &  &  &  &  &  &  &  &  &  &  &  &  &  &  &  &  &  &  &  &  &  &  &  &  &  &  &  &  &  &  &  &  &  &  &  &  &  &  &  &  &  &  &  &  &  &  &  &  &  &  &  &  &  &  &  &  &  &  &  &  &  &  &  &  &  &  &  &  &  &  &  &  &  &  &  &  &  &  &  &  &  &  &  &  &  &  &  &  &  &  &  &  &  &  &  &  &  &  &  &  &  &  &  &  &  &  &  &  &  &  &  &  &  &  &  &  &  &  &  &  &  &  &  &  &  &  &  &  &  &  &  &  &  &  &  &  &  &  &  &  &  &  &  &  &  &  &  &  &  &  &  &  &  &  &  &  &  &  &  &  &  &  &  &  &  &  &  &  &  &  &  &  &  &  &  &  &  &  &  &  &  &  &  &  &  &  &  &  &  &  &  &  &  &  &  &  &  &  &  &  &  &  &  &  &  &  &  &  &  &  &  &  &  &  &  &  &  &  &  &  &  &  &  &  &  &  &  &  &  &  &  &  &  &  &  &  &  &  &  &  &  &  &  &  &  &  &  &  &  &  &  &  &  &  &  &  &  &  &  &  &  &  &  &  &  &  &  &  &  &  &  &  &  &  &  &  &  &  &  &  &  &  &  &  &  &  &  &  &  &  &  &  &  &  &  &  &  &  &  &  &  &  &  &  &  &  &  &  &  &  &  &  &  &  &  &  &  &  &  &  &  &  &  &  &  &  &  &  &  &  &  &  &  &  &  &  &  &  &  &  &  &  &  &  &  &  &  &  &  &  &  &  &  &  &  &  &  &  &  &  &  &  &  &  &  &  &  &  &  &  &  &  &  &  &  &  &  &  &  &  &  &  &  &  &  &  &  &  &  &  &  &  &  &  &  &  &  &  &  &  &  &  &  &  &  &  &  &  &  &  &  &  &  &  &  &  &  &  &  &  &  &  &  &  &  &  &  &  &  &  &  &  &  &  &  &  &  &  &  &  &  &  &  &  &  &  &  &  &  &  &  &  &  &  &  &  &  &  &  &  &  &  &  &  &  &  &  &  &  &  &  &  &  &  &  &  &  &  &  &  &  &  &  &  &  &  &  &  &  &  &  &  &  &  &  &  &  &  &  &  &  &  &  &  &  &  &  &  &  &  &  &  &  &  &  &  &  &  &  &  &  &  &  &  &  &  &  &  &  &  &  &  &  &  &  &  &  &  &  &  &  &  &  &  &  &  &  &  &  &  &  &  &  &  &  &  &  &  &  &  &  &  &  &  &  &  &  &  &  &  &  &  &  &  &  &  &  &  &  &  &  &  &  &  &  &  &  &  &  &  &  &  &  &  &  &  &  &  &  &  &  &  &  &  &  &  &  &  &  &  &  &  &  &  &  &  &  &  &  &  &  &  &  &  &  &  &  &  &  &  &  &  &  &  &  &  &  &  &  &  &  &  &  &  &  &  &  &  &  &  &  &  &  &  &  &  &  &  &  &  &  &  &  &  &  &  &  &  &  &  &  &  &  &  &  &  &  &  &  &  &  &  &  &  &  &  &  &  &  &  &  &  &  &  &  &  &  &  &  &  &  &  &  &  &  &  &  &  &  &  &  &  &  &  &  &  &  &  &  &  &  &  &  &  &  &  &  &  &  &  &  &  &  &  &  &  &  &  &  &  &  &  &  &  &  &  &  &  &  &  &  &  &  &  &  &  &  &  &  &  &  &  &  &  &  &  &  &  &  &  &  &  &  &  &  &  &  &  &  &  &  &  &  &  &  &  &  &  &  &  &  &  &  &  &  &  &  &  &  &  &  &  &  &  &  &  &  &  &  &  &  &  &  &  &  &  &  &  &  &  &  &  &  &  &  &  &  &  &  &  &  &  &  &  &  &  &  &  &  &  &  &  &  &  &  &  &  &  &  &  &  &  &  &  &  &  &  &  &  &  &  &  &  &  &  &  &  &  &  &  &  &  &  &  &  &  &  &  &  &  &  &  &  &  &  &  &  &  &  &  &  &  &  &  &  &  &  &  &  &  &  &  &  &  &  &  &  &  &  &  &  &  &  &  &  &  &  &  &  &  &  &  &  &  &  &  &  &  &  &  &  &  &  &  &  &  &  &  &  &  &  &  &  &  &  &  &  &  &  &  &  &  &  &  &  &  &  &  &  &  &  &  &  &  &  &  &  &  &  &  &  &  &  &  &  &  &  &  &  &  &  &  &  &  &  &  &  &  &  &  &  &  &  &  &  &  &  &  &  &  &  &  &  &  &  &  &  &  &  &  &  &  &  &  &  &  &  &  &  &  &  &  &  &  &  &  &  &  &  &  &  &  &  &  &  &  &  &  &  &  &  &  &  &  &  &  &  &  &  &  &  &  &  &  &  &  &  &  &  &  &  &  &  &  &  &  &  &  &  &  &  &  &  &  &  &  &  &  &  &  &  &  &  &  &  &  &  &  &  &  &  &  &  &  &  &  &  &  &  &  &  &  &  &  &  &  &  &  &  &  &  &  &  &  &  &  &  &  &  &  &  &  &  &  &  &  &  &  &  &  &  &  &  &  &  &  &  &  &  &  &  &  &  &  &  &  &  &  &  &  &  &  &  &  &  &  &  &  &  &  &  &  &  &  &  &  &  &  &  &  &  &  &  &  &  &  &  &  &  &  &  &  &  &  &  &  &  &  &  &  &  &  &  &  &  &  &  &  &  &  &  &  &  &  &  &  &  &  &  &  &  &  &  &  &  &  &  &  &  &  &  &  &  &  &  &  &  &  &  &  &  &  &  &  &  &  &  &  &  &  &  &  &  &  &  &  &  &  &  &  &  &  &  &  &  &  &  &  &  &  &  &  &  &  &  &  &  &  &  &  &  &  &  &  &  &  &  &  &  &  &  &  &  &  &  &  &  &  &  &  &  &  &  &  &  &  &  &  &  &  &  &  &  &  &  &  &  &  &  &  &  &  &  &  &  &  &  &  &  &  &  &  &  &  &  &  &  &  &  &  &  &  &  &  &  &  &  &  &  &  &  &  &  &  &  &  &  &  &  &  &  &  &  &  &  &  &  &  &  &  &  &  &  &  &  &  &  &  &  &  &  &  &  &  &  &  &  &  &  &  &  &  &  &  &  &  &  &  &  &  &  &  &  &  &  &  &  &  &  &  &  &  &  &  &  &  &  &  &  &  &  &  &  &  &  &  &  &  &  &  &  &  &  &  &  &  &  &  &  &  &  &  &  &  &  &  &  &  &  &  &  &  &  &  &  &  &  &  &  &  &  &  &  &  &  &  &  &  &  &  &  &  &  &  &  &  &  &  &  &  &  &  &  &  &  &  &  &  &  &  &  &  &  &  &  &  &  &  &  &  &  &  &  &  &  &  &  &  &  &  &  &  &  &  &  &  &  &  &  &  &  &  &  &  &  &  &  &  &  &  &  &  &  &  &  &  &  &  &  &  &  &  &  &  &  &  &  &  &  &  &  &  &  &  &  &  &  &  &  &  &  &  &  &  &  &  &  &  &  &  &  &  &  &  &  &  &  &  &  &  &  &  &  &  &  &  &  &  &  &  &  &  &  &  &  &  &  &  &  &  &  &  &  &  &  &  &  &  &  &  &  &  &  &  &  &  &  &  &  &  &  &  &  &  &  &  &  &  &  &  &  &  &  &  &  &  &  &  &  &  &  &  &  &  &  &  &  &  &  &  &  &  &  &  &  &  &  &  &  &  &  &  &  &  &  &  &  &  &  &  &  &  &  &  &  &  &  &  &  &  &  &  &  &  &  &  &  &  &  &  &  &  &  &  &  &  &  &  &  &  &  &  &  &  &  &  &  &  &  &  &  &  &  &  &  &  &  &  &  &  &  &  &  &  &  &  &  &  &  &  &  &  &  &  &  &  &  &  &  &  &  &  &  &  &  &  &  &  &  &  &  &  &  &  &  &  &  &  &  &  &  &  &  &  &  &  &  &  &  &  &  &  &  &  &  &  &  &  &  &  &  &  &  &  &  &  &  &  &  &  &  &  &  &  &  &  &  &  &  &  &  &  &  &  &  &  &  &  &  &  &  &  &  &  &  &  &  &  &  &  &  &  &  &  &  &  &  &  &  &  &  &  &  &  &  &  &  &  &  &  &  &  &  &  &  &  &  &  &  &  &  &  &  &  &  &  &  &  &  &  &  &  &  &  &  &  &  &  &  &  &  &  &  &  &  &  &  &  &  &  &  &  &  &  &  &  &  &  &  &  &  &  &  &  &  &  &  &  &  &  &  &  &  &  &  &  &  &  &  &  &  &  &  &  &  &  &  &  &  &  &  &  &  &  &  &  &  &  &  &  &  &  &  &  &  &  &  &  &  &  &  &  &  &  &  &  &  &  &  &  &  &  &  &  &  &  &  &  &  &  &  &  &  &  &  &  &  &  &  &  &  &  &  &  &  &  &  &  &  &  &  &  &  &  &  &  &  &  &  &  &  &  &  &  &  &  &  &  &  &  &  &  &  &  &  &  &  &  &  &  &  &  &  &  &  &  &  &  &  &  &  &  &  &  &  &  &  &  &  &  &  &  &  &  &  &  &  &  &  &  &  &  &  &  &  &  &  &  &  &  &  &  &  &  &  &  &  &  &  &  &  &  &  &  &  &  &  &  &  &  &  &  &  &  &  &  &  &  &  &  &  &  &  &  &  &  &  &  &  &  &  &  &  &  &  &  &  &  &  &  &  &  &  &  &  &  &  &  &  &  &  &  &  &  &  &  &  &  &  &  &  &  &  &  &  &  &  &  &  &  &  &  &  &  &  &  &  &  &  &  &  &  &  &  &  &  &  &  &  &  &  &  &  &  &  &  &  &  &  &  &  &  &  &  &  &  &  &  &  &  &  &  &  &  &  &  &  &  &  &  &  &  &  &  &  &  &  &  &  &  &  &  &  &  &  &  &  &  &  &  &  &  &  &  &  &  &  &  &  &  &  &  &  &  &  &  &  &  &  &  &  &  &  &  &  &  &  &  &  &  &  &  &  &  &  &  &  &  &  &  &  &  &  &  &  &  &  &  &  &  &  &  &  &  &  &  &  &  &  &  &  &  &  &  &  &  &  &  &  &  &  &  &  &  &  &  &  &  &  &  &  &  &  &  &  &  &  &  &  &  &  &  &  &  &  &  &  &  &  &  &  &  &  &  &  &  &  &  &  &  &  &  &  &  &  &  &  &  &  &  &  &  &  &  &  &  &  &  &  &  &  &  &  &  &  &  &  &  &  &  &  &  &  &  &  &  &  &  &  &  &  &  &  &  &  &  &  &  &  &  &  &  &  &  &  &  &  &  &  &  &  &  &  &  &  &  &  &  &  &  &  &  &  &  &  &  &  &  &  &  &  &  &  &  &  &  &  &  &  &  &  &  &  &  &  &  &  &  &  &  &  &  &  &  &  &  &  &  &  &  &  &  &  &  &  &  &  &  &  &  &  &  &  &  &  &  &  &  &  &  &  &  &  &  &  &  &  &  &  &  &  &  &  &  &  &  &  &  &  &  &  &  &  &  &  &  &  &  &  &  &  &  &  &  &  &  &  &  &  &  &  &  &  &  &  &  &  &  &  &  &  &  &  &  &  &  &  &  &  &  &  &  &  &  &  &  &  &  &  &  &  &  &  &  &  &  &  &  &  &  &  &  &  &  &  &  &  &  &  &  &  &  &  &  &  &  &  &  &  &  &  &  &  &  &  &  &  &  &  &  &  &  &  &  &  &  &  &  &  &  &  &  &  &  &  &  &  &  &  &  &  &  &  &  &  &  &  &  &  &  &  &  &  &  &  &  &  &  &  &  &  &  &  &  &  &  &  &  &  &  &  &  &  &  &  &  &  &  &  &  &  &  &  &  &  &  &  &  &  &  &  &  &  &  &  &  &  &  &  &  &  &  &  &  &  &  &  &  &  &  &  &  &  &  &  &  &  &  &  &  &  &  &  &  &  &  &  &  &  &  &  &  &  &  &  &  &  &  &  &  &  &  &  &  &  &  &  &  &  &  &  &  &  &  &  &  &  &  &  &  &  &  &  &  &  &  &  &  &  &  &  &  &  &  &  &  &  &  &  &  &  &  &  &  &  &  &  &  &  &  &  &  &  &  &  &  &  &  &  &  &  &  &  &  &  &  &  &  &  &  &  &  &  &  &  &  &  &  &  &  &  &  &  &  &  &  &  &  &  &  &  &  &  &  &  &  &  &  &  &  &  &  &  &  &  &  &  &  &  &  &  &  &  &  &  &  &  &  &  &  &  &  &  &  &  &  &  &  &  &  &  &  &  &  &  &  &  &  &  &  &  &  &  &  &  &  &  &  &  &  &  &  &  &  &  &  &  &  &  &  &  &  &  &  &  &  &  &  &  &  &  &  &  &  &  &  &  &  &  &  &  &  &  &  &  &  &  &  &  &  &  &  &  &  &  &  &  &  &  &  &  &  &  &  &  &  &  &  &  &  &  &  &  &  &  &  &  &  &  &  &  &  &  &  &  &  &  &  &  &  &  &  &  &  &  &  &  &  &  &  &  &  &  &  &  &  &  &  &  &  &  &  &  &  &  &  &  &  &  &  &  &  &  &  &  &  &  &  &  &  &  &  &  &  &  &  &  &  &  &  &  &  &  &  &  &  &  &  &  &  &  &  &  &  &  &  &  &  &  &  &  &  &  &  &  &  &  &  &  &  &  &  &  &  &  &  &  &  &  &  &  &  &  &  &  &  &  &  &  &  &  &  &  &  &  &  &  &  &  &  &  &  &  &  &  &  &  &  &  &  &  &  &  &  &  &  &  &  &  &  &  &  &  &  &  &  &  &  &  &  &  &  &  &  &  &  &  &  &  &  &  &  &  &  &  &  &  &  &  &  &  &  &  &  &  &  &  &  &  &  &  &  &  &  &  &  &  &  &  &  &  &  &  &  &  &  &  &  &  &  &  &  &  &  &  &  &  &  &  &  &  &  &  &  &  &  &  &  &  &  &  &  &  &  &  &  &  &  &  &  &  &  &  &  &  &  &  &  &  &  &  &  &  &  &  &  &  &  &  &  &  &  &  &  &  &  &  &  &  &  &  &  &  &  &  &  &  &  &  &  &  &  &  &  &  &  &  &  &  &  &  &  &  &  &  &  &  &  &  &  &  &  &  &  &  &  &  &  &  &  &  &  &  &  &  &  &  &  &  &  &  &  &  &  &  &  &  &  &  &  &  &  &  &  &  &  &  &  &  &  &  &  &  &  &  &  &  &  &  &  &  &  &  &  &  &  &  &  &  &  &  &  &  &  &  &  &  &  &  &  &  &  &  &  &  &  &  &  &  &  &  &  &  &  &  &  &  &  &  &  &  &  &  &  &  &  &  &  &  &  &  &  &  &  &  &  &  &  &  &  &  &  &  &  &  &  &  &  &  &  &  &  &  &  &  &  &  &  &  &  &  &  &  &  &  &  &  &  &  &  &  &  &  &  &  &  &  &  &  &  &  &  &  &  &  &  &  &  &  &  &  &  &  &  &  &  &  &  &  &  &  &  &  &  &  &  &  &  &  &  &  &  &  &  &  &  &  &  &  &  &  &  &  &  &  &  &  &  &  &  &  &  &  &  &  &  &  &  &  &  &  &  &  &  &  &  &  &  &  &  &  &  &  &  &  &  &  &  &  &  &  &  &  &  &  &  &  &  &  &  &  &  &  &  &  &  &  &  &  &  &  &  &  &  &  &  &  &  &  &  &  &  &  &  &  &  &  &  &  &  &  &  &  &  &  &  &  &  &  &  &  &  &  &  &  &  &  &  &  &  &  &  &  &  &  &  &  &  &  &  &  &  &  &  &  &  &  &  &  &  &  &  &  &  &  &  &  &  &  &  &  &  &  &  &  &  &  &  &  &  &  &  &  &  &  &  &  &  &  &  &  &  &  &  &  &  &  &  &  &  &  &  &  &  &  &  &  &  &  &  &  &  &  &  &  &  &  &  &  &  &  &  &  &  &  &  &  &  &  &  &  &  &  &  &  &  &  &  &  &  &  &  &  &  &  &  &  &  &  &  &  &  &  &  &  &  &  &  &  &  &  &  &  &  &  &  &  &  &  &  &  &  &  &  &  &  &  &  &  &  &  &  &  &  &  &  &  &  &  &  &  &  &  &  &  &  &  &  &  &  &  &  &  &  &  &  &  &  &  &  &  &  &  &  &  &  &  &  &  &  &  &  &  &  &  &  &  &  &  &  &  &  &  &  &  &  &  &  &  &  &  &  &  &  &  &  &  &  &  &  &  &  &  &  &  &  &  &  &  &  &  &  &  &  &  &  &  &  &  &  &  &  &  &  &  &  &  &  &  &  &  &  &  &  &  &  &  &  &  &  &  &  &  &  &  &  &  &  &  &  &  &  &  &  &  &  &  &  &  &  &  &  &  &  &  &  &  &  &  &  &  &  &  &  &  &  &  &  &  &  &  &  &  &  &  &  &  &  &  &  &  &  &  &  &  &  &  &  &  &  &  &  &  &  &  &  &  &  &  &  &  &  &  &  &  &  &  &  &  &  &  &  &  &  &  &  &  &  &  &  &  &  &  &  &  &  &  &  &  &  &  &  &  &  &  &  &  &  &  &  &  &  &  &  &  &  &  &  &  &  &  &  &  &  &  &  &  &  &  &  &  &  &  &  &  &  &  &  &  &  &  &  &  &  &  &  &  &  &  &  &  &  &  &  &  &  &  &  &  &  &  &  &  &  &  &  &  &  &  &  &  &  &  &  &  &  &  &  &  &  &  &  &  &  &  &  &  &  &  &  &  &  &  &  &  &  &  &  &  &  &  &  &  &  &  &  &  &  &  &  &  &  &  &  &  &  &  &  &  &  &  &  &  &  &  &  &  &  &  &  &  &  &  &  &  &  &  &  &  &  &  &  &  &  &  &  &  &  &  &  &  &  &  &  &  &  &  &  &  &  &  &  &  &  &  &  &  &  &  &  &  &  &  &  &  &  &  &  &  &  &  &  &  &  &  &  &  &  &  &  &  &  &  &  &  &  &  &  &  &  &  &  &  &  &  &  &  &  &  &  &  &  &  &  &  &  &  &  &  &  &  &  &  &  &  &  &  &  &  &  &  &  &  &  &  &  &  &  &  &  &  &  &  &  &  &  &  &  &  &  &  &  &  &  &  &  &  &  &  &  &  &  &  &  &  &  &  &  &  &  &  &  &  &  &  &  &  &  &  &  &  &  &  &  &  &  &  &  &  &  &  &  &  &  &  &  &  &  &  &  &  &  &  &  &  &  &  &  &  &  &  &  &  &  &  &  &  &  &  &  &  &  &  &  &  &  &  &  &  &  &  &  &  &  &  &  &  &  &  &  &  &  &  &  &  &  &  &  &  &  &  &  &  &  &  &  &  &  &  &  &  &  &  &  &  &  &  &  &  &  &  &  &  &  &  &  &  &  &  &  &  &  &  &  &  &  &  &  &  &  &  &  &  &  &  &  &  &  &  &  &  &  &  &  &  &  &  &  &  &  &  &  &  &  &  &  &  &  &  &  &  &  &  &  &  &  &  &  &  &  &  &  &  &  &  &  &  &  &  &  &  &  &  &  &  &  &  &  &  &  &  &  &  &  &  &  &  &  &  &  &  &  &  &  &  &  &  &  &  &  &  &  &  &  &  &  &  &  &  &  &  &  &  &  &  &  &  &  &  &  &  &  &  &  &  &  &  &  &  &  &  &  &  &  &  &  &  &  &  &  &  &  &  &  &  &  &  &  &  &  &  &  &  &  &  &  &  &  &  &  &  &  &  &  &  &  &  &  &  &  &  &  &  &  &  &  &  &  &  &  &  &  &  &  &  &  &  &  &  &  &  &  &  &  &  &  &  &  &  &  &  &  &  &  &  &  &  &  &  &  &  &  &  &  &  &  &  &  &  &  &  &  &  &  &  &  &  &  &  &  &  &  &  &  &  &  &  &  &  &  &  &  &  &  &  &  &  &  &  &  &  &  &  &  &  &  &  &  &  &  &  &  &  &  &  &  &  &  &  &  &  &  &  &  &  &  &  &  &  &  &  &  &  &  &  &  &  &  &  &  &  &  &  &  &  &  &  &  &  &  &  &  &  &  &  &  &  &  &  &  &  &  &  &  &  &  &  &  &  &  &  &  &  &  &  &  &  &  &  &  &  &  &  &  &  &  &  &  &  &  &  &  &  &  &  &  &  &  &  &  &  &  &  &  &  &  &  &  &  &  &  &  &  &  &  &  &  &  &  &  &  &  &  &  &  &  &  &  &  &  &  &  &  &  &  &  &  &  &  &  &  &  &  &  &  &  &  &  &  &  &  &  &  &  &  &  &  &  &  &  &  &  &  &  &  &  &  &  &  &  &  &  &  &  &  &  &  &  &  &  &  &  &  &  &  &  &  &  &  &  &  &  &  &  &  &  &  &  &  &  &  &  &  &  &  &  &  &  &  &  &  &  &  &  &  &  &  &  &  &  &  &  &  &  &  &  &  &  &  &  &  &  &  &  &  &  &  &  &  &  &  &  &  &  &  &  &  &  &  &  &  &  &  &  &  &  &  &  &  &  &  &  &  &  &  &  &  &  &  &  &  &  &  &  &  &  &  &  &  &  &  &  &  &  &  &  &  &  &  &  &  &  &  &  &  &  &  &  &  &  &  &  &  &  &  &  &  &  &  &  &  &  &  &  &  &  &  &  &  &  &  &  &  &  &  &  &  &  &  &  &  &  &  &  &  &  &  &  &  &  &  &  &  &  &  &  &  &  &  &  &  &  &  &  &  &  &  &  &  &  &  &  &  &  &  &  &  &  &  &  &  &  &  &  &  &  &  &  &  &  &  &  &  &  &  &  &  &  &  &  &  &  &  &  &  &  &  &  &  &  &  &  &  &  &  &  &  &  &  &  &  &  &  &  &  &  &  &  &  &  &  &  &  &  &  &  &  &  &  &  &  &  &  &  &  &  &  &  &  &  &  &  &  &  &  &  &  &  &  &  &  &  &  &  &  &  &  &  &  &  &  &  &  &  &  &  &  &  &  &  &  &  &  &  &  &  &  &  &  &  &  &  &  &  &  &  &  &  &  &  &  &  &  &  &  &  &  &  &  &  &  &  &  &  &  &  &  &  &  &  &  &  &  &  &  &  &  &  &  &  &  &  &  &  &  &  &  &  &  &  &  &  &  &  &  &  &  &  &  &  &  &  &  &  &  &  &  &  &  &  &  &  &  &  &  &  &  &  &  &  &  &  &  &  &  &  &  &  &  &  &  &  &  &  &  &  &  &  &  &  &  &  &  &  &  &  &  &  &  &  &  &  &  &  &  &  &  &  &  &  &  &  &  &  &  &  &  &  &  &  &  &  &  &  &  &  &  &  &  &  &  &  &  &  &  &  &  &  &  &  &  &  &  &  &  &  &  &  &  &  &  &  &  &  &  &  &  &  &  &  &  &  &  &  &  &  &  &  &  &  &  &  &  &  &  &  &  &  &  &  &  &  &  &  &  &  &  &  &  &  &  &  &  &  &  &  &  &  &  &  &  &  &  &  &  &  &  &  &  &  &  &  &  &  &  &  &  &  &  &  &  &  &  &  &  &  &  &  &  &  &  &  &  &  &  &  &  &  &  &  &  &  &  &  &  &  &  &  &  &  &  &  &  &  &  &  &  &  &  &  &  &  &  &  &  &  &  &  &  &  &  &  &  &  &  &  &  &  &  &  &  &  &  &  &  &  &  &  &  &  &  &  &  &  &  &  &  &  &  &  &  &  &  &  &  &  &  &  &  &  &  &  &  &  &  &  &  &  &  &  &  &  &  &  &  &  &  &  &  &  &  &  &  &  &  &  &  &  &  &  &  &  &  &  &  &  &  &  &  &  &  &  &  &  &  &  &  &  &  &  &  &  &  &  &  &  &  &  &  &  &  &  &  &  &  &  &  &  &  &  &  &  &  &  &  &  &  &  &  &  &  &  &  &  &  &  &  &  &  &  &  &  &  &  &  &  &  &  &  &  &  &  &  &  &  &  &  &  &  &  &  &  &  &  &  &  &  &  &  &  &  &  &  &  &  &  &  &  &  &  &  &  &  &  &  &  &  &  &  &  &  &  &  &  &  &  &  &  &  &  &  &  &  &  &  &  &  &  &  &  &  &  &  &  &  &  &  &  &  &  &  &  &  &  &  &  &  &  &  &  &  &  &  &  &  &  &  &  &  &  &  &  &  &  &  &  &  &  &  &  &  &  &  &  &  &  &  &  &  &  &  &  &  &  &  &  &  &  &  &  &  &  &  &  &  &  &  &  &  &  &  &  &  &  &  &  &  &  &  &  &  &  &  &  &  &  &  &  &  &  &  &  &  &  &  &  &  &  &  &  &  &  &  &  &  &  &  &  &  &  &  &  &  &  &  &  &  &  &  &  &  &  &  &  &  &  &  &  &  &  &  &  &  &  &  &  &  &  &  &  &  &  &  &  &  &  &  &  &  &  &  &  &  &  &  &  &  &  &  &  &  &  &  &  &  &  &  &  &  &  &  &  &  &  &  &  &  &  &  &  &  &  &  &  &  &  &  &  &  &  &  &  &  &  &  &  &  &  &  &  &  &  &  &  &  &  &  &  &  &  &  &  &  &  &  &  &  &  &  &  &  &  &  &  &  &  &  &  &  &  &  &  &  &  &  &  &  &  &  &  &  &  &  &  &  &  &  &  &  &  &  &  &  &  &  &  &  &  &  &  &  &  &  &  &  &  &  &  &  &  &  &  &  &  &  &  &  &  &  &  &  &  &  &  &  &  &  &  &  &  &  &  &  &  &  &  &  &  &  &  &  &  &  &  &  &  &  &  &  &  &  &  &  &  &  &  &  &  &  &  &  &  &  &  &  &  &  &  &  &  &  &  &  &  &  &  &  &  &  &  &  &  &  &  &  &  &  &  &  &  &  &  &  &  &  &  &  &  &  &  &  &  &  &  &  &  &  &  &  &  &  &  &  &  &  &  &  &  &  &  &  &  &  &  &  &  &  &  &  &  &  &  &  &  &  &  &  &  &  &  &  &  & \\end{pmatrix}\\ \\frac{\\mathrm{gram}}{\\left(\\mathrm{meter}^{3} \\cdot \\mathrm{second}\\right)}$"
      ],
      "text/plain": [
       "<Quantity([1.08717783e-05 4.43843630e-06 2.76534860e-06 ... 3.18087077e-05\n",
       " 4.91713743e-07 4.78506554e-05], 'gram / meter ** 3 / second')>"
      ]
     },
     "execution_count": 19,
     "metadata": {},
     "output_type": "execute_result"
    }
   ],
   "source": [
    "airdensityflux_df = tidy_df[tidy_df.variable.isin([\n",
    "    'dryairdensity_3m_c',   'dryairdensity_20m_c',\n",
    "    'T_3m_c',   'T_20m_c',\n",
    "    'mixingratio_3m_c',   'mixingratio_20m_c',\n",
    "    'w_tc__3m_c',   'w_tc__20m_c',\n",
    "    'w_h2o__3m_c',   'w_h2o__20m_c',\n",
    "])].pivot(index='time', columns='variable', values='value')\n",
    "\n",
    "mean_mixing_ratio = tidy_df.query(\n",
    "    \"measurement == 'mixing ratio'\"\n",
    ").query(\n",
    "    \"height >= 3\"\n",
    ").query(\n",
    "    \"height <= 20\"\n",
    ").groupby('time').value.mean().rename('mixingratio_mean_3to17')\n",
    "\n",
    "airdensityflux_df = airdensityflux_df.join(mean_mixing_ratio)\n",
    "\n",
    "# ALL KELVIN\n",
    "UNITS_FOR_T_MEAS = units('kelvin')\n",
    "UNITS_FOR_SH_FLUX = units(\"kelvin*m/s\")\n",
    "airdensityflux_df['T_3m_c'] = (airdensityflux_df['T_3m_c'].values * units(\"degC\")).to(UNITS_FOR_T_MEAS)\n",
    "airdensityflux_df['T_20m_c'] = (airdensityflux_df['T_20m_c'].values * units(\"degC\")).to(UNITS_FOR_T_MEAS)\n",
    "\n",
    "# ALL CELSIUS\n",
    "# UNITS_FOR_T_MEAS = units('degC')\n",
    "# UNITS_FOR_SH_FLUX = units(\"degC*m/s\")\n",
    "# airdensityflux_df['T_3m_c'] = (airdensityflux_df['T_3m_c'].values * units(\"degC\")).to(UNITS_FOR_T_MEAS)\n",
    "# airdensityflux_df['T_20m_c'] = (airdensityflux_df['T_20m_c'].values * units(\"degC\")).to(UNITS_FOR_T_MEAS)\n",
    "\n",
    "mu = 1/0.622\n",
    "air_density_flux = (\n",
    "    (\n",
    "        airdensityflux_df['mixingratio_mean_3to17'].values * units(\"g/g\")\n",
    "    ) * (\n",
    "        (\n",
    "            ((airdensityflux_df['dryairdensity_20m_c'].values * units(\"kg/m^3\")) / (airdensityflux_df['T_20m_c'].values * UNITS_FOR_T_MEAS))\n",
    "            * (1 + mu * (airdensityflux_df['mixingratio_20m_c'].values * units(\"g/g\")))\n",
    "            * (airdensityflux_df['w_tc__20m_c'].values * UNITS_FOR_SH_FLUX) + mu*(airdensityflux_df['w_h2o__20m_c'].values * units(\"g/m^2/s\"))\n",
    "        )\n",
    "        -\n",
    "        (\n",
    "            ((airdensityflux_df['dryairdensity_3m_c'].values * units(\"kg/m^3\")) / (airdensityflux_df['T_3m_c'].values * UNITS_FOR_T_MEAS))\n",
    "            * (1 + mu * (airdensityflux_df['mixingratio_3m_c'].values * units(\"g/g\")))\n",
    "            * (airdensityflux_df['w_tc__3m_c'].values * UNITS_FOR_SH_FLUX) + mu*(airdensityflux_df['w_h2o__3m_c'].values * units(\"g/m^2/s\"))\n",
    "        )\n",
    "\n",
    "    ) / (17 * units('m'))\n",
    ").to(units('g/m^3/s'))\n",
    "\n",
    "airdensityflux_df['air_density_flux'] = air_density_flux\n",
    "air_density_flux"
   ]
  },
  {
   "cell_type": "markdown",
   "metadata": {},
   "source": [
    "# Horizontal advection and storage change terms, finite difference"
   ]
  },
  {
   "cell_type": "code",
   "execution_count": 20,
   "metadata": {},
   "outputs": [],
   "source": [
    "# combine mixing ratio measurements from the two sites into one dataframe \n",
    "kpsannex_mixingratio_measurements = mixingratio_ds.sortby('time').sel(\n",
    "    time=slice(data_start_date, data_cutoff_date)\n",
    ").resample(time='30min').mean().rename('annex').to_dataframe() / 1000\n",
    "kps_mixingratio_measurements_2m = tidy_df.query(\"variable == 'mixingratio_2m_c'\").set_index('time')['value'].rename('kps_2m')\n",
    "kps_mixingratio_measurements_3m = tidy_df.query(\"variable == 'mixingratio_3m_c'\").set_index('time')['value'].rename('kps_3m')\n",
    "kps_mixingratio_measurements_4m = tidy_df.query(\"variable == 'mixingratio_4m_c'\").set_index('time')['value'].rename('kps_4m')\n",
    "\n",
    "kps_lateral_simple_df = kpsannex_mixingratio_measurements.join(\n",
    "    kps_mixingratio_measurements_2m\n",
    ").join(\n",
    "    kps_mixingratio_measurements_3m\n",
    ").join(\n",
    "    kps_mixingratio_measurements_4m\n",
    ")\n",
    "\n",
    "# isolate measurements to when wind is up (100˚ - 140˚) or downvalley (300 - 340)\n",
    "kps_lateral_simple_df = kps_lateral_simple_df.join(\n",
    "    tidy_df.query(\"variable == 'dir_10m_c'\").set_index('time')['value'].rename('dir_10m_c')\n",
    ").join(\n",
    "    tidy_df.query(\"variable == 'spd_3m_c'\").set_index('time')['value'].rename('spd_3m_c')\n",
    ").join(\n",
    "    1000*tidy_df.query(\"variable == 'dryairdensity_3m_c'\").set_index('time')['value'].rename('rho')\n",
    ").join(\n",
    "    tidy_df.query(\"variable == 'w_h2o__3m_c'\").set_index('time')['value'].rename('w_h2o__3m_c')\n",
    ")\n",
    "\n",
    "kps_lateral_simple_df = kps_lateral_simple_df[\n",
    "    ((kps_lateral_simple_df.dir_10m_c >= 112) & (kps_lateral_simple_df.dir_10m_c <= 152))\n",
    "    |\n",
    "    ((kps_lateral_simple_df.dir_10m_c >= 292) & (kps_lateral_simple_df.dir_10m_c <= 332))\n",
    "]\n",
    "# label each timestamp up or downvalley\n",
    "kps_lateral_simple_df['direction'] = kps_lateral_simple_df['dir_10m_c'].apply(lambda x: 'down' if 292 <= x <= 332 else 'up')\n",
    "# # Calculate deltas. During downvalley winds, ds = annex - kps. During up valley winds, ds = kps - annex\n",
    "kps_lateral_simple_df['ds_2m'] = kps_lateral_simple_df.apply(\n",
    "    lambda row: row['annex'] - row['kps_2m'] if row['direction'] == 'down' else row['kps_2m'] - row['annex'],\n",
    "    axis=1\n",
    ")\n",
    "kps_lateral_simple_df['ds_3m'] = kps_lateral_simple_df.apply(\n",
    "    lambda row: row['annex'] - row['kps_3m'] if row['direction'] == 'down' else row['kps_3m'] - row['annex'],\n",
    "    axis=1\n",
    ")\n",
    "\n",
    "kps_lateral_simple_df['ds_3m_uncertainty'] = 0.2/1000\n",
    "\n",
    "kps_lateral_simple_df['ds_4m'] = kps_lateral_simple_df.apply(\n",
    "    lambda row: row['annex'] - row['kps_4m'] if row['direction'] == 'down' else row['kps_4m'] - row['annex'],\n",
    "    axis=1\n",
    ")\n",
    "kps_lateral_simple_df['dx'] = 400\n",
    "kps_lateral_simple_df['ds/dx 2m'] = kps_lateral_simple_df['ds_2m'] / kps_lateral_simple_df['dx']\n",
    "kps_lateral_simple_df['ds/dx 3m'] = kps_lateral_simple_df['ds_3m'] / kps_lateral_simple_df['dx']\n",
    "kps_lateral_simple_df['ds/dx 3m uncertainty'] = kps_lateral_simple_df['ds_3m_uncertainty'] / kps_lateral_simple_df['dx']\n",
    "kps_lateral_simple_df['ds/dx 4m'] = kps_lateral_simple_df['ds_4m'] / kps_lateral_simple_df['dx']\n",
    "\n",
    "kps_lateral_simple_df['lateral_advection_2m'] = kps_lateral_simple_df['spd_3m_c'] * kps_lateral_simple_df['rho'] * kps_lateral_simple_df['ds/dx 2m']\n",
    "kps_lateral_simple_df['lateral_advection_3m'] = kps_lateral_simple_df['spd_3m_c'] * kps_lateral_simple_df['rho'] * kps_lateral_simple_df['ds/dx 3m']\n",
    "kps_lateral_simple_df['lateral_advection_3m_uncertainty'] = kps_lateral_simple_df['spd_3m_c'] * kps_lateral_simple_df['rho'] * kps_lateral_simple_df['ds/dx 3m uncertainty']\n",
    "kps_lateral_simple_df['lateral_advection_4m'] = kps_lateral_simple_df['spd_3m_c'] * kps_lateral_simple_df['rho'] * kps_lateral_simple_df['ds/dx 4m']\n",
    "\n",
    "\n",
    "kps_lateral_simple_df['ds/dt'] = kps_lateral_simple_df['rho'] * (kps_lateral_simple_df[['kps_2m', 'kps_3m', 'kps_4m']].mean(axis=1)).diff() * units('g/g') / (30*60*units('seconds'))\n",
    "# kps_lateral_simple_df"
   ]
  },
  {
   "cell_type": "code",
   "execution_count": 21,
   "metadata": {},
   "outputs": [
    {
     "name": "stderr",
     "output_type": "stream",
     "text": [
      "/var/folders/x_/2h52bcjx2px15bhmdpdd748h0000gn/T/ipykernel_39920/3574805051.py:2: SettingWithCopyWarning: \n",
      "A value is trying to be set on a copy of a slice from a DataFrame.\n",
      "Try using .loc[row_indexer,col_indexer] = value instead\n",
      "\n",
      "See the caveats in the documentation: https://pandas.pydata.org/pandas-docs/stable/user_guide/indexing.html#returning-a-view-versus-a-copy\n",
      "  src['ub'] = src['lateral_advection_3m'] + src['lateral_advection_3m_uncertainty']\n",
      "/var/folders/x_/2h52bcjx2px15bhmdpdd748h0000gn/T/ipykernel_39920/3574805051.py:3: SettingWithCopyWarning: \n",
      "A value is trying to be set on a copy of a slice from a DataFrame.\n",
      "Try using .loc[row_indexer,col_indexer] = value instead\n",
      "\n",
      "See the caveats in the documentation: https://pandas.pydata.org/pandas-docs/stable/user_guide/indexing.html#returning-a-view-versus-a-copy\n",
      "  src['lb'] = src['lateral_advection_3m'] - src['lateral_advection_3m_uncertainty']\n"
     ]
    },
    {
     "data": {
      "text/html": [
       "\n",
       "<style>\n",
       "  #altair-viz-c07276f573694a7089f8010f23a14c70.vega-embed {\n",
       "    width: 100%;\n",
       "    display: flex;\n",
       "  }\n",
       "\n",
       "  #altair-viz-c07276f573694a7089f8010f23a14c70.vega-embed details,\n",
       "  #altair-viz-c07276f573694a7089f8010f23a14c70.vega-embed details summary {\n",
       "    position: relative;\n",
       "  }\n",
       "</style>\n",
       "<div id=\"altair-viz-c07276f573694a7089f8010f23a14c70\"></div>\n",
       "<script type=\"text/javascript\">\n",
       "  var VEGA_DEBUG = (typeof VEGA_DEBUG == \"undefined\") ? {} : VEGA_DEBUG;\n",
       "  (function(spec, embedOpt){\n",
       "    let outputDiv = document.currentScript.previousElementSibling;\n",
       "    if (outputDiv.id !== \"altair-viz-c07276f573694a7089f8010f23a14c70\") {\n",
       "      outputDiv = document.getElementById(\"altair-viz-c07276f573694a7089f8010f23a14c70\");\n",
       "    }\n",
       "    const paths = {\n",
       "      \"vega\": \"https://cdn.jsdelivr.net/npm/vega@5?noext\",\n",
       "      \"vega-lib\": \"https://cdn.jsdelivr.net/npm/vega-lib?noext\",\n",
       "      \"vega-lite\": \"https://cdn.jsdelivr.net/npm/vega-lite@5.20.1?noext\",\n",
       "      \"vega-embed\": \"https://cdn.jsdelivr.net/npm/vega-embed@6?noext\",\n",
       "    };\n",
       "\n",
       "    function maybeLoadScript(lib, version) {\n",
       "      var key = `${lib.replace(\"-\", \"\")}_version`;\n",
       "      return (VEGA_DEBUG[key] == version) ?\n",
       "        Promise.resolve(paths[lib]) :\n",
       "        new Promise(function(resolve, reject) {\n",
       "          var s = document.createElement('script');\n",
       "          document.getElementsByTagName(\"head\")[0].appendChild(s);\n",
       "          s.async = true;\n",
       "          s.onload = () => {\n",
       "            VEGA_DEBUG[key] = version;\n",
       "            return resolve(paths[lib]);\n",
       "          };\n",
       "          s.onerror = () => reject(`Error loading script: ${paths[lib]}`);\n",
       "          s.src = paths[lib];\n",
       "        });\n",
       "    }\n",
       "\n",
       "    function showError(err) {\n",
       "      outputDiv.innerHTML = `<div class=\"error\" style=\"color:red;\">${err}</div>`;\n",
       "      throw err;\n",
       "    }\n",
       "\n",
       "    function displayChart(vegaEmbed) {\n",
       "      vegaEmbed(outputDiv, spec, embedOpt)\n",
       "        .catch(err => showError(`Javascript Error: ${err.message}<br>This usually means there's a typo in your chart specification. See the javascript console for the full traceback.`));\n",
       "    }\n",
       "\n",
       "    if(typeof define === \"function\" && define.amd) {\n",
       "      requirejs.config({paths});\n",
       "      require([\"vega-embed\"], displayChart, err => showError(`Error loading script: ${err.message}`));\n",
       "    } else {\n",
       "      maybeLoadScript(\"vega\", \"5\")\n",
       "        .then(() => maybeLoadScript(\"vega-lite\", \"5.20.1\"))\n",
       "        .then(() => maybeLoadScript(\"vega-embed\", \"6\"))\n",
       "        .catch(showError)\n",
       "        .then(() => displayChart(vegaEmbed));\n",
       "    }\n",
       "  })({\"config\": {\"view\": {\"continuousWidth\": 300, \"continuousHeight\": 300}}, \"layer\": [{\"data\": {\"url\": \"altair-data-0fe7d7cdcb521747c4974b8f05c44ccd.json\", \"format\": {\"type\": \"json\"}}, \"mark\": {\"type\": \"area\", \"opacity\": 0.5}, \"encoding\": {\"x\": {\"field\": \"time\", \"timeUnit\": \"hoursminutes\", \"type\": \"temporal\"}, \"y\": {\"aggregate\": \"mean\", \"field\": \"lb\", \"type\": \"quantitative\"}, \"y2\": {\"aggregate\": \"mean\", \"field\": \"ub\"}}}, {\"data\": {\"url\": \"altair-data-0fe7d7cdcb521747c4974b8f05c44ccd.json\", \"format\": {\"type\": \"json\"}}, \"mark\": {\"type\": \"line\"}, \"encoding\": {\"x\": {\"field\": \"time\", \"timeUnit\": \"hoursminutes\", \"type\": \"temporal\"}, \"y\": {\"aggregate\": \"mean\", \"field\": \"lateral_advection_3m\", \"type\": \"quantitative\"}}}], \"$schema\": \"https://vega.github.io/schema/vega-lite/v5.20.1.json\"}, {\"mode\": \"vega-lite\"});\n",
       "</script>"
      ],
      "text/plain": [
       "alt.LayerChart(...)"
      ]
     },
     "execution_count": 21,
     "metadata": {},
     "output_type": "execute_result"
    }
   ],
   "source": [
    "src = kps_lateral_simple_df[['lateral_advection_3m', 'lateral_advection_3m_uncertainty']]\n",
    "src['ub'] = src['lateral_advection_3m'] + src['lateral_advection_3m_uncertainty']\n",
    "src['lb'] = src['lateral_advection_3m'] - src['lateral_advection_3m_uncertainty']\n",
    "\n",
    "alt.Chart(src.reset_index()).mark_area(opacity=0.5).encode(\n",
    "    alt.X('hoursminutes(time):T'),\n",
    "    alt.Y('mean(lb):Q'),\n",
    "    alt.Y2('mean(ub):Q')\n",
    ") + alt.Chart(src.reset_index()).mark_line().encode(\n",
    "    alt.X('hoursminutes(time):T'),\n",
    "    alt.Y('mean(lateral_advection_3m):Q'),\n",
    ")"
   ]
  },
  {
   "cell_type": "markdown",
   "metadata": {},
   "source": [
    "# Aggregate results"
   ]
  },
  {
   "cell_type": "code",
   "execution_count": 22,
   "metadata": {},
   "outputs": [],
   "source": [
    "meas_vars_df = pd.DataFrame(\n",
    "    1000*tidy_df.query(\"variable == 'dryairdensity_5m_c'\").set_index('time').loc['20221101': '20230620']['value'].rename('rho')\n",
    ").join(\n",
    "    tidy_df.query(\"variable == 'w_h2o__3m_c_gapfill'\").set_index('time').loc['20221101': '20230620']['value'].rename('w_h2o__3m_c')\n",
    ").join(\n",
    "    tidy_df.query(\"variable == 'w_h2o__2m_c_gapfill'\").set_index('time').loc['20221101': '20230620']['value'].rename('w_h2o__2m_c')\n",
    ").join(\n",
    "    tidy_df.query(\"variable == 'w_h2o__5m_c_gapfill'\").set_index('time').loc['20221101': '20230620']['value'].rename('w_h2o__5m_c')\n",
    ").join(\n",
    "    tidy_df.query(\"variable == 'w_h2o__10m_c_gapfill'\").set_index('time').loc['20221101': '20230620']['value'].rename('w_h2o__10m_c')\n",
    ").join(\n",
    "    tidy_df.query(\"variable == 'w_h2o__15m_c_gapfill'\").set_index('time').loc['20221101': '20230620']['value'].rename('w_h2o__15m_c')\n",
    ").join(\n",
    "    tidy_df.query(\"variable == 'w_h2o__20m_c_gapfill'\").set_index('time').loc['20221101': '20230620']['value'].rename('w_h2o__20m_c')\n",
    ").join(\n",
    "    tidy_df.query(\"variable == 'w_h2o__3m_c_raw'\").set_index('time').loc['20221101': '20230620']['value'].rename('w_h2o__3m_c_raw')\n",
    ").join(\n",
    "    tidy_df.query(\"variable == 'w_h2o__2m_c_raw'\").set_index('time').loc['20221101': '20230620']['value'].rename('w_h2o__2m_c_raw')\n",
    ").join(\n",
    "    tidy_df.query(\"variable == 'w_h2o__5m_c_raw'\").set_index('time').loc['20221101': '20230620']['value'].rename('w_h2o__5m_c_raw')\n",
    ").join(\n",
    "    tidy_df.query(\"variable == 'w_h2o__10m_c_raw'\").set_index('time').loc['20221101': '20230620']['value'].rename('w_h2o__10m_c_raw')\n",
    ").join(\n",
    "    tidy_df.query(\"variable == 'w_h2o__15m_c_raw'\").set_index('time').loc['20221101': '20230620']['value'].rename('w_h2o__15m_c_raw')\n",
    ").join(\n",
    "    tidy_df.query(\"variable == 'w_h2o__20m_c_raw'\").set_index('time').loc['20221101': '20230620']['value'].rename('w_h2o__20m_c_raw')\n",
    ")"
   ]
  },
  {
   "cell_type": "code",
   "execution_count": 23,
   "metadata": {},
   "outputs": [],
   "source": [
    "advection_1d_fluxdensity_nonnorm_df = meas_vars_df[[\n",
    "    'w_h2o__2m_c', 'w_h2o__3m_c', 'w_h2o__5m_c', 'w_h2o__10m_c', 'w_h2o__15m_c', 'w_h2o__20m_c',\n",
    "    'w_h2o__2m_c_raw', 'w_h2o__3m_c_raw', 'w_h2o__5m_c_raw', 'w_h2o__10m_c_raw', 'w_h2o__15m_c_raw', 'w_h2o__20m_c_raw'\n",
    "]].join(\n",
    "    kps_lateral_simple_df[['lateral_advection_2m', 'lateral_advection_3m', 'lateral_advection_4m', 'lateral_advection_3m_uncertainty']]\n",
    ").join(\n",
    "    kps_lateral_simple_df[['ds/dt']]\n",
    ").join(\n",
    "    airdensityflux_df['air_density_flux']\n",
    ").join(\n",
    "    vertical_advection_estimates.query(\"height == 2\")['vertical_advection'].rename('vertical_advection_numerical_2')\n",
    ").join(\n",
    "    vertical_advection_estimates.query(\"height == 3\")['vertical_advection'].rename('vertical_advection_numerical_3')\n",
    ").join(\n",
    "    vertical_advection_estimates.query(\"height == 5\")['vertical_advection'].rename('vertical_advection_numerical_5')\n",
    ").join(\n",
    "    vertical_advection_estimates.query(\"height == 10\")['vertical_advection'].rename('vertical_advection_numerical_10')\n",
    ").join(\n",
    "    vertical_advection_estimates.query(\"height == 15\")['vertical_advection'].rename('vertical_advection_numerical_15')\n",
    ").join(\n",
    "    vertical_advection_estimates.query(\"height == 20\")['vertical_advection'].rename('vertical_advection_numerical_20')\n",
    ")"
   ]
  },
  {
   "cell_type": "markdown",
   "metadata": {},
   "source": [
    "# Estimate uncertainty in the mixing ratio \n",
    "\n",
    "For estimating uncertainty in the vertical advection terms:\n",
    "\n",
    "$$W \\rho \\frac{d s}{d z}$$\n",
    "\n",
    "where our uncertainty in:\n",
    "* W is $\\pm$ 0.001 m/s (u and v are +/- 1mm, w is +/- 0.5mm, but w planar fitted involves u, v, and w, so we juse use 1mm/s)\n",
    "* $s$ is 0.1 g/kg ()\n",
    "* $\\rho$ is a function of P and T, where T \n",
    "  * For the Paroscientific 6000 nanobarometer, they estimate +/- 0.01% error. We commonly estimate around 700mb, so let's say +/- 0.1\n",
    "  * For the Sensirion SHT85 T measurement, manufacturer reported error is $\\pm$ 0.1\t°C\n",
    "  * For the Sensirion SHT85 RH measurement, manufacturer reported error is $\\pm$ 1.5 %\n",
    "* $\\frac{d s}{d z}$ as 0.2 g/kg (I have no idea if this is correct or makes any sense) \n",
    "then our estimate of uncertainty for the whole term is \n",
    "\n",
    "For estimating error in mixing ratio:\n",
    "\n",
    "We calculate mixing ratio from instrument measurements of pressure, temperature, relative_humidity:\n",
    "\n",
    "```\n",
    "metpy.calc.mixing_ratio_from_relative_humidity(\n",
    "  pressure,\n",
    "  temperature,\n",
    "  relative_humidity\n",
    ")\n",
    "```"
   ]
  },
  {
   "cell_type": "code",
   "execution_count": 24,
   "metadata": {},
   "outputs": [
    {
     "data": {
      "text/plain": [
       "(Timestamp('2023-04-27 23:00:00'),\n",
       " 1.6049364805221558,\n",
       " 716.6376342773438,\n",
       " 64.16825866699219)"
      ]
     },
     "execution_count": 24,
     "metadata": {},
     "output_type": "execute_result"
    }
   ],
   "source": [
    "# CHOOSE OUR T, P, RH values by calculating the mean of each variable\n",
    "# P = tidy_df.query(\"variable == 'P_10m_c'\").set_index('time').value.mean()\n",
    "# T = tidy_df.query(\"variable == 'T_10m_c'\").set_index('time').value.mean()\n",
    "# RH = tidy_df.query(\"variable == 'RH_10m_c'\").set_index('time').value.mean()\n",
    "\n",
    "# CHOOSE OUR T, P, RH values by selecting a median or quantile T value, and use that same timestamp to select P and RH values\n",
    "t_values_sorted = tidy_df.query(\"variable == 'T_10m_c'\").set_index('time').value.sort_values().dropna()\n",
    "i_median = int(len(t_values_sorted) / 2)\n",
    "i_quartile_hi = int(len(t_values_sorted) / 4)\n",
    "i_quartile_hi = int(len(t_values_sorted) / 2 + len(t_values_sorted) / 4)\n",
    "i_quantile_10percent_low = int(len(t_values_sorted)*0.1)\n",
    "i_quantile_10percent_hi = int(len(t_values_sorted)*0.9)\n",
    "\n",
    "T = t_values_sorted[i_quantile_10percent_hi]\n",
    "index = t_values_sorted.index[i_quantile_10percent_hi]\n",
    "P = tidy_df.query(\"variable == 'P_10m_c'\").set_index('time').value.loc[index]\n",
    "RH = tidy_df.query(\"variable == 'RH_10m_c'\").set_index('time').value.loc[index]\n",
    "index, T, P, RH"
   ]
  },
  {
   "cell_type": "code",
   "execution_count": 25,
   "metadata": {},
   "outputs": [],
   "source": [
    "from uncertainties import ufloat\n",
    "import numpy as np\n",
    "\n",
    "P_mean = P  # Assuming P is already defined\n",
    "P_error = P * 0.0001\n",
    "P_std = P_error / 2  # Standard deviation of 0.01%\n",
    "\n",
    "T_mean = T  # Assuming P is already defined\n",
    "T_error = 0.1\n",
    "T_std = T_error / 2  # Standard deviation of 0.01%\n",
    "\n",
    "RH_mean = RH  # Assuming P is already defined\n",
    "RH_error = 1.5\n",
    "RH_std = RH_error / 2  # Standard deviation of 0.01%\n",
    "\n",
    "\n",
    "Samples = pd.DataFrame({\n",
    "    'P': np.random.normal(P_mean, P_std, 5000),\n",
    "    'T': np.random.normal(T_mean, T_std, 5000),\n",
    "    'RH': np.random.normal(RH_mean, RH_std, 5000),\n",
    "})"
   ]
  },
  {
   "cell_type": "code",
   "execution_count": 26,
   "metadata": {},
   "outputs": [],
   "source": [
    "P_dist = (\n",
    "    alt.Chart(Samples).mark_bar().encode(\n",
    "        alt.X('P:Q').bin(step = 0.01).title('Mean pressure value + random errors (millibars)').scale(nice=False),\n",
    "        alt.Y('count():Q')\n",
    "    ) + alt.Chart(Samples).mark_rule(\n",
    "        color='red', strokeWidth=2\n",
    "    ).encode(x='mean(P):Q')\n",
    ").properties(width=300, height = 100)\n",
    "T_dist = (\n",
    "    alt.Chart(Samples).mark_bar().encode(\n",
    "        alt.X('T:Q').bin(step = 0.01).title('Mean temperature value + random errors (˚C)').scale(nice=False),\n",
    "        alt.Y('count():Q'),\n",
    "    ) + alt.Chart(Samples).mark_rule(\n",
    "        color='red', strokeWidth=2\n",
    "    ).encode(x='mean(T):Q')\n",
    ").properties(width=300, height = 100)\n",
    "RH_dist = (\n",
    "    alt.Chart(Samples).mark_bar().encode(\n",
    "        alt.X('RH:Q').bin(step = 0.2).title('Mean RH value + random errors (%)').scale(nice=False),\n",
    "        alt.Y('count():Q')\n",
    "    ) + alt.Chart(Samples).mark_rule(\n",
    "        color='red', strokeWidth=2\n",
    "    ).encode(x='mean(RH):Q')\n",
    ").properties(width=300, height = 100)"
   ]
  },
  {
   "cell_type": "code",
   "execution_count": 27,
   "metadata": {},
   "outputs": [],
   "source": [
    "from metpy.calc import mixing_ratio_from_relative_humidity"
   ]
  },
  {
   "cell_type": "code",
   "execution_count": 28,
   "metadata": {},
   "outputs": [
    {
     "data": {
      "text/plain": [
       "0.095"
      ]
     },
     "execution_count": 28,
     "metadata": {},
     "output_type": "execute_result"
    }
   ],
   "source": [
    "Samples['s'] = Samples.apply(\n",
    "    lambda ro: mixing_ratio_from_relative_humidity(\n",
    "    ro['P']*units(\"millibars\"), ro['T']*units(\"degC\"), ro['RH']*units(\"percent\")\n",
    "    ).to(units(\"g/kg\")).magnitude, \n",
    "    axis=1\n",
    ")\n",
    "s_2_sigma = round(2*Samples['s'].std(), 3)\n",
    "s_2_sigma"
   ]
  },
  {
   "cell_type": "code",
   "execution_count": 29,
   "metadata": {},
   "outputs": [],
   "source": [
    "s_dist = (\n",
    "    alt.Chart(Samples).mark_bar().encode(\n",
    "        alt.X('s:Q').bin(step = 0.01).scale(nice=False).title(['Water vapor ratio (g/Kg), values calculated through', 'Monte Carlo propagation of T, RH, and P errors']),\n",
    "        alt.Y('count():Q')\n",
    "    ) + alt.Chart(Samples).mark_rule(\n",
    "        color='red', strokeWidth=2\n",
    "    ).encode(x='mean(s):Q')\n",
    ").properties(\n",
    "    width=300, height = 100,\n",
    "    title=f\"2σ = {s_2_sigma}\"\n",
    ")"
   ]
  },
  {
   "cell_type": "code",
   "execution_count": 30,
   "metadata": {},
   "outputs": [
    {
     "data": {
      "text/html": [
       "\n",
       "<style>\n",
       "  #altair-viz-20856217916f4ebeb49176c3f5c91a5d.vega-embed {\n",
       "    width: 100%;\n",
       "    display: flex;\n",
       "  }\n",
       "\n",
       "  #altair-viz-20856217916f4ebeb49176c3f5c91a5d.vega-embed details,\n",
       "  #altair-viz-20856217916f4ebeb49176c3f5c91a5d.vega-embed details summary {\n",
       "    position: relative;\n",
       "  }\n",
       "</style>\n",
       "<div id=\"altair-viz-20856217916f4ebeb49176c3f5c91a5d\"></div>\n",
       "<script type=\"text/javascript\">\n",
       "  var VEGA_DEBUG = (typeof VEGA_DEBUG == \"undefined\") ? {} : VEGA_DEBUG;\n",
       "  (function(spec, embedOpt){\n",
       "    let outputDiv = document.currentScript.previousElementSibling;\n",
       "    if (outputDiv.id !== \"altair-viz-20856217916f4ebeb49176c3f5c91a5d\") {\n",
       "      outputDiv = document.getElementById(\"altair-viz-20856217916f4ebeb49176c3f5c91a5d\");\n",
       "    }\n",
       "    const paths = {\n",
       "      \"vega\": \"https://cdn.jsdelivr.net/npm/vega@5?noext\",\n",
       "      \"vega-lib\": \"https://cdn.jsdelivr.net/npm/vega-lib?noext\",\n",
       "      \"vega-lite\": \"https://cdn.jsdelivr.net/npm/vega-lite@5.20.1?noext\",\n",
       "      \"vega-embed\": \"https://cdn.jsdelivr.net/npm/vega-embed@6?noext\",\n",
       "    };\n",
       "\n",
       "    function maybeLoadScript(lib, version) {\n",
       "      var key = `${lib.replace(\"-\", \"\")}_version`;\n",
       "      return (VEGA_DEBUG[key] == version) ?\n",
       "        Promise.resolve(paths[lib]) :\n",
       "        new Promise(function(resolve, reject) {\n",
       "          var s = document.createElement('script');\n",
       "          document.getElementsByTagName(\"head\")[0].appendChild(s);\n",
       "          s.async = true;\n",
       "          s.onload = () => {\n",
       "            VEGA_DEBUG[key] = version;\n",
       "            return resolve(paths[lib]);\n",
       "          };\n",
       "          s.onerror = () => reject(`Error loading script: ${paths[lib]}`);\n",
       "          s.src = paths[lib];\n",
       "        });\n",
       "    }\n",
       "\n",
       "    function showError(err) {\n",
       "      outputDiv.innerHTML = `<div class=\"error\" style=\"color:red;\">${err}</div>`;\n",
       "      throw err;\n",
       "    }\n",
       "\n",
       "    function displayChart(vegaEmbed) {\n",
       "      vegaEmbed(outputDiv, spec, embedOpt)\n",
       "        .catch(err => showError(`Javascript Error: ${err.message}<br>This usually means there's a typo in your chart specification. See the javascript console for the full traceback.`));\n",
       "    }\n",
       "\n",
       "    if(typeof define === \"function\" && define.amd) {\n",
       "      requirejs.config({paths});\n",
       "      require([\"vega-embed\"], displayChart, err => showError(`Error loading script: ${err.message}`));\n",
       "    } else {\n",
       "      maybeLoadScript(\"vega\", \"5\")\n",
       "        .then(() => maybeLoadScript(\"vega-lite\", \"5.20.1\"))\n",
       "        .then(() => maybeLoadScript(\"vega-embed\", \"6\"))\n",
       "        .catch(showError)\n",
       "        .then(() => displayChart(vegaEmbed));\n",
       "    }\n",
       "  })({\"config\": {\"view\": {\"continuousWidth\": 300, \"continuousHeight\": 300}}, \"vconcat\": [{\"layer\": [{\"mark\": {\"type\": \"bar\"}, \"encoding\": {\"x\": {\"bin\": {\"step\": 0.01}, \"field\": \"P\", \"scale\": {\"nice\": false}, \"title\": \"Mean pressure value + random errors (millibars)\", \"type\": \"quantitative\"}, \"y\": {\"aggregate\": \"count\", \"type\": \"quantitative\"}}}, {\"mark\": {\"type\": \"rule\", \"color\": \"red\", \"strokeWidth\": 2}, \"encoding\": {\"x\": {\"aggregate\": \"mean\", \"field\": \"P\", \"type\": \"quantitative\"}}}], \"height\": 100, \"width\": 300}, {\"layer\": [{\"mark\": {\"type\": \"bar\"}, \"encoding\": {\"x\": {\"bin\": {\"step\": 0.01}, \"field\": \"T\", \"scale\": {\"nice\": false}, \"title\": \"Mean temperature value + random errors (\\u02daC)\", \"type\": \"quantitative\"}, \"y\": {\"aggregate\": \"count\", \"type\": \"quantitative\"}}}, {\"mark\": {\"type\": \"rule\", \"color\": \"red\", \"strokeWidth\": 2}, \"encoding\": {\"x\": {\"aggregate\": \"mean\", \"field\": \"T\", \"type\": \"quantitative\"}}}], \"height\": 100, \"width\": 300}, {\"layer\": [{\"mark\": {\"type\": \"bar\"}, \"encoding\": {\"x\": {\"bin\": {\"step\": 0.2}, \"field\": \"RH\", \"scale\": {\"nice\": false}, \"title\": \"Mean RH value + random errors (%)\", \"type\": \"quantitative\"}, \"y\": {\"aggregate\": \"count\", \"type\": \"quantitative\"}}}, {\"mark\": {\"type\": \"rule\", \"color\": \"red\", \"strokeWidth\": 2}, \"encoding\": {\"x\": {\"aggregate\": \"mean\", \"field\": \"RH\", \"type\": \"quantitative\"}}}], \"height\": 100, \"width\": 300}, {\"layer\": [{\"mark\": {\"type\": \"bar\"}, \"encoding\": {\"x\": {\"bin\": {\"step\": 0.01}, \"field\": \"s\", \"scale\": {\"nice\": false}, \"title\": [\"Water vapor ratio (g/Kg), values calculated through\", \"Monte Carlo propagation of T, RH, and P errors\"], \"type\": \"quantitative\"}, \"y\": {\"aggregate\": \"count\", \"type\": \"quantitative\"}}}, {\"mark\": {\"type\": \"rule\", \"color\": \"red\", \"strokeWidth\": 2}, \"encoding\": {\"x\": {\"aggregate\": \"mean\", \"field\": \"s\", \"type\": \"quantitative\"}}}], \"height\": 100, \"title\": \"2\\u03c3 = 0.095\", \"width\": 300}], \"data\": {\"url\": \"altair-data-7c434d23387cbf266393f65af144726e.json\", \"format\": {\"type\": \"json\"}}, \"$schema\": \"https://vega.github.io/schema/vega-lite/v5.20.1.json\"}, {\"mode\": \"vega-lite\"});\n",
       "</script>"
      ],
      "text/plain": [
       "alt.VConcatChart(...)"
      ]
     },
     "execution_count": 30,
     "metadata": {},
     "output_type": "execute_result"
    }
   ],
   "source": [
    "P_dist & T_dist & RH_dist & s_dist"
   ]
  },
  {
   "cell_type": "code",
   "execution_count": 31,
   "metadata": {},
   "outputs": [
    {
     "data": {
      "text/html": [
       "\n",
       "<style>\n",
       "  #altair-viz-68d9ab4752674a299f2069768e688d01.vega-embed {\n",
       "    width: 100%;\n",
       "    display: flex;\n",
       "  }\n",
       "\n",
       "  #altair-viz-68d9ab4752674a299f2069768e688d01.vega-embed details,\n",
       "  #altair-viz-68d9ab4752674a299f2069768e688d01.vega-embed details summary {\n",
       "    position: relative;\n",
       "  }\n",
       "</style>\n",
       "<div id=\"altair-viz-68d9ab4752674a299f2069768e688d01\"></div>\n",
       "<script type=\"text/javascript\">\n",
       "  var VEGA_DEBUG = (typeof VEGA_DEBUG == \"undefined\") ? {} : VEGA_DEBUG;\n",
       "  (function(spec, embedOpt){\n",
       "    let outputDiv = document.currentScript.previousElementSibling;\n",
       "    if (outputDiv.id !== \"altair-viz-68d9ab4752674a299f2069768e688d01\") {\n",
       "      outputDiv = document.getElementById(\"altair-viz-68d9ab4752674a299f2069768e688d01\");\n",
       "    }\n",
       "    const paths = {\n",
       "      \"vega\": \"https://cdn.jsdelivr.net/npm/vega@5?noext\",\n",
       "      \"vega-lib\": \"https://cdn.jsdelivr.net/npm/vega-lib?noext\",\n",
       "      \"vega-lite\": \"https://cdn.jsdelivr.net/npm/vega-lite@5.20.1?noext\",\n",
       "      \"vega-embed\": \"https://cdn.jsdelivr.net/npm/vega-embed@6?noext\",\n",
       "    };\n",
       "\n",
       "    function maybeLoadScript(lib, version) {\n",
       "      var key = `${lib.replace(\"-\", \"\")}_version`;\n",
       "      return (VEGA_DEBUG[key] == version) ?\n",
       "        Promise.resolve(paths[lib]) :\n",
       "        new Promise(function(resolve, reject) {\n",
       "          var s = document.createElement('script');\n",
       "          document.getElementsByTagName(\"head\")[0].appendChild(s);\n",
       "          s.async = true;\n",
       "          s.onload = () => {\n",
       "            VEGA_DEBUG[key] = version;\n",
       "            return resolve(paths[lib]);\n",
       "          };\n",
       "          s.onerror = () => reject(`Error loading script: ${paths[lib]}`);\n",
       "          s.src = paths[lib];\n",
       "        });\n",
       "    }\n",
       "\n",
       "    function showError(err) {\n",
       "      outputDiv.innerHTML = `<div class=\"error\" style=\"color:red;\">${err}</div>`;\n",
       "      throw err;\n",
       "    }\n",
       "\n",
       "    function displayChart(vegaEmbed) {\n",
       "      vegaEmbed(outputDiv, spec, embedOpt)\n",
       "        .catch(err => showError(`Javascript Error: ${err.message}<br>This usually means there's a typo in your chart specification. See the javascript console for the full traceback.`));\n",
       "    }\n",
       "\n",
       "    if(typeof define === \"function\" && define.amd) {\n",
       "      requirejs.config({paths});\n",
       "      require([\"vega-embed\"], displayChart, err => showError(`Error loading script: ${err.message}`));\n",
       "    } else {\n",
       "      maybeLoadScript(\"vega\", \"5\")\n",
       "        .then(() => maybeLoadScript(\"vega-lite\", \"5.20.1\"))\n",
       "        .then(() => maybeLoadScript(\"vega-embed\", \"6\"))\n",
       "        .catch(showError)\n",
       "        .then(() => displayChart(vegaEmbed));\n",
       "    }\n",
       "  })({\"config\": {\"view\": {\"continuousWidth\": 300, \"continuousHeight\": 300}}, \"layer\": [{\"data\": {\"name\": \"empty\"}, \"mark\": {\"type\": \"rule\"}, \"encoding\": {\"x\": {\"field\": \"x\", \"type\": \"quantitative\"}}, \"transform\": [{\"calculate\": \"0.095\", \"as\": \"x\"}]}, {\"data\": {\"name\": \"empty\"}, \"mark\": {\"type\": \"rule\"}, \"encoding\": {\"x\": {\"field\": \"x\", \"type\": \"quantitative\"}}, \"transform\": [{\"calculate\": \"-0.095\", \"as\": \"x\"}]}, {\"data\": {\"url\": \"altair-data-b0fe3e625ca649c8bf9ed9c21e11273e.json\", \"format\": {\"type\": \"json\"}}, \"mark\": {\"type\": \"bar\", \"color\": \"blue\", \"opacity\": 0.5}, \"encoding\": {\"x\": {\"bin\": {\"step\": 0.05}, \"field\": \"vertical\", \"title\": \"\\u2206 (Water vapor mixing ratio) (g/Kg)\", \"type\": \"quantitative\"}, \"y\": {\"aggregate\": \"count\", \"stack\": null, \"type\": \"quantitative\"}}}, {\"data\": {\"url\": \"altair-data-b0fe3e625ca649c8bf9ed9c21e11273e.json\", \"format\": {\"type\": \"json\"}}, \"mark\": {\"type\": \"bar\", \"color\": \"red\", \"opacity\": 0.5}, \"encoding\": {\"x\": {\"bin\": {\"step\": 0.05}, \"field\": \"horizontal\", \"type\": \"quantitative\"}, \"y\": {\"aggregate\": \"count\", \"stack\": null, \"type\": \"quantitative\"}}}], \"height\": 200, \"$schema\": \"https://vega.github.io/schema/vega-lite/v5.20.1.json\", \"datasets\": {\"empty\": [{}]}}, {\"mode\": \"vega-lite\"});\n",
       "</script>"
      ],
      "text/plain": [
       "alt.LayerChart(...)"
      ]
     },
     "execution_count": 31,
     "metadata": {},
     "output_type": "execute_result"
    }
   ],
   "source": [
    "src = mixing_ratio_profile_df.query(\"height == 2\")[['value']].rename(columns={'value': 's_2m'}).join(\n",
    "    mixing_ratio_profile_df.query(\"height == 20\")['value'].rename('s_20m')\n",
    ")\n",
    "src_vert = src['s_20m'] - src['s_2m']\n",
    "src_horiz = kps_lateral_simple_df['ds_3m']\n",
    "\n",
    "rule = alt.Chart().mark_rule().transform_calculate(x=f'{s_2_sigma}').encode(x='x:Q')\n",
    "rule2 = alt.Chart().mark_rule().transform_calculate(x=f'-{s_2_sigma}').encode(x='x:Q')\n",
    "rule + rule2 + alt.Chart(\n",
    "    (pd.DataFrame(src_vert.rename('vertical')).join(src_horiz.rename('horizontal'))*1000).query(\"vertical > -1\").query(\"horizontal > -1\")\n",
    ").mark_bar(color='blue', opacity=0.5).encode(\n",
    "    alt.X('vertical:Q').bin(step=0.05).title(\"∆ (Water vapor mixing ratio) (g/Kg)\"),\n",
    "    alt.Y('count():Q').stack(None),\n",
    ") + alt.Chart(\n",
    "    (pd.DataFrame(src_vert.rename('vertical')).join(src_horiz.rename('horizontal'))*1000).query(\"vertical > -1\").query(\"horizontal > -1\")\n",
    ").mark_bar(color='red', opacity=0.5).encode(\n",
    "    alt.X('horizontal:Q').bin(step=0.05),\n",
    "    alt.Y('count():Q').stack(None),\n",
    ").properties(height = 200)"
   ]
  },
  {
   "cell_type": "code",
   "execution_count": 32,
   "metadata": {},
   "outputs": [
    {
     "name": "stdout",
     "output_type": "stream",
     "text": [
      "0.9347\n",
      "\n",
      "varying P +/- 20millibars\n",
      "0.9608\n",
      "0.9085\n",
      "\n",
      "varying T +/- 2˚C\n",
      "0.9277\n",
      "0.9417\n"
     ]
    }
   ],
   "source": [
    "import metpy.calc\n",
    "mean_p = tidy_df.query(\"variable == 'P_10m_c'\").value.mean() * units(\"millibars\")\n",
    "mean_t = tidy_df.query(\"variable == 'T_10m_c'\").value.mean() * units(\"degC\")\n",
    "print(round(metpy.calc.density(mean_p, mean_t, 0).magnitude.item(), 4))\n",
    "\n",
    "print()\n",
    "print(\"varying P +/- 20millibars\")\n",
    "print(round(metpy.calc.density(mean_p + 20*units(\"millibars\"), mean_t, 0).magnitude.item(), 4))\n",
    "print(round(metpy.calc.density(mean_p - 20*units(\"millibars\"), mean_t, 0).magnitude.item(), 4))\n",
    "\n",
    "print()\n",
    "print(\"varying T +/- 2˚C\")\n",
    "print(round(metpy.calc.density(mean_p, mean_t + 2*units(\"delta_degC\"), 0).magnitude.item(), 4))\n",
    "print(round(metpy.calc.density(mean_p, mean_t - 2*units(\"delta_degC\"), 0).magnitude.item(), 4))"
   ]
  },
  {
   "cell_type": "markdown",
   "metadata": {},
   "source": [
    "# Turbulent flux divergence terms, finite difference"
   ]
  },
  {
   "cell_type": "markdown",
   "metadata": {},
   "source": [
    "Calculate $$ \\frac{\\Delta \\overline{w'q'}}{\\Delta z} \\quad \\text{and} \\quad  \\frac{\\Delta \\overline{w'q'}}{\\Delta z}$$"
   ]
  },
  {
   "cell_type": "code",
   "execution_count": 33,
   "metadata": {},
   "outputs": [],
   "source": [
    "advection_1d_fluxdensity_nonnorm_df['vertical_turb_flux_divergence_3to20'] = (\n",
    "    advection_1d_fluxdensity_nonnorm_df['w_h2o__20m_c_raw'] - advection_1d_fluxdensity_nonnorm_df['w_h2o__3m_c_raw']\n",
    ") / 17\n",
    "\n",
    "advection_1d_fluxdensity_nonnorm_df['vertical_turb_flux_divergence_3to10'] = (\n",
    "    advection_1d_fluxdensity_nonnorm_df['w_h2o__10m_c_raw'] - advection_1d_fluxdensity_nonnorm_df['w_h2o__3m_c_raw']\n",
    ") / 7"
   ]
  },
  {
   "cell_type": "markdown",
   "metadata": {},
   "source": [
    "# Plot water vapor transport results"
   ]
  },
  {
   "cell_type": "markdown",
   "metadata": {},
   "source": [
    "## Seasonal Composite Analysis - Non Blowing Snow Conditions"
   ]
  },
  {
   "cell_type": "markdown",
   "metadata": {},
   "source": [
    "Define plotting functions"
   ]
  },
  {
   "cell_type": "code",
   "execution_count": 34,
   "metadata": {},
   "outputs": [],
   "source": [
    "PLOT_WIDTH = 150\n",
    "PLOT_HEIGHT = 150\n",
    "\n",
    "# Function to plot diurnal cycles in conservation terms, for the vertical advection estimates using a numerical solution\n",
    "########################################################\n",
    "def get_vert_advection_with_height(src, title):\n",
    "    vars = [ \n",
    "        'vertical_advection_numerical_2',\n",
    "        'vertical_advection_numerical_3',\n",
    "        'vertical_advection_numerical_5',\n",
    "        'vertical_advection_numerical_10',\n",
    "        'vertical_advection_numerical_15',\n",
    "        'vertical_advection_numerical_20',\n",
    "    ]\n",
    "    vert_advection_chart = alt.Chart(src).mark_line().transform_fold(\n",
    "        vars\n",
    "    ).encode(\n",
    "        alt.X('hours(time):T').axis(labelAlign='center'),\n",
    "        alt.Y('median(value):Q').title('Flux density (g/m^3/s)').scale(domain = [-0.00025, 0.00025], clamp=True),\n",
    "        alt.Color('key:N').sort(vars).scale(scheme='turbo')\n",
    "    ).properties(width=PLOT_WIDTH, height=PLOT_HEIGHT, title=title)\n",
    "    flux_div_chart = alt.Chart(src).mark_line(\n",
    "        color='black'\n",
    "    ).transform_fold([\n",
    "        'ds/dt', 'vertical_turb_flux_divergence_3to20'\n",
    "    ]).encode(\n",
    "        alt.X('hours(time):T').axis(labelAlign='center'),\n",
    "        alt.Y('median(value):Q').title('Flux density (g/m^3/s)').scale(domain = [-0.00025, 0.00025], clamp=True),\n",
    "        alt.StrokeDash('key:N')\n",
    "    ).properties(width=PLOT_WIDTH, height=PLOT_HEIGHT, title=title)\n",
    "    return (vert_advection_chart + flux_div_chart)\n",
    "    \n",
    "\n",
    "# Function to plot diurnal cycles in conservation terms, for the vertical advection estimates using a finite difference solution\n",
    "def get_chart_with_errorbands(src, title):\n",
    "    vars = [\n",
    "            # 'vertical_turb_flux_divergence_3to20', \n",
    "            'vertical_advection_simple_2to10',  \n",
    "            # 'vertical_advection_simple_2to20',  \n",
    "            'ds/dt',\n",
    "            #  'air_density_flux'\n",
    "        ]\n",
    "    colors = [\n",
    "        # black + rainbow scheme\n",
    "        'black', 'grey'\n",
    "        # '#f80c12','#ff9933','#ccbb33','#69d025','#3311bb','#442299'\n",
    "        # simple color scheme\n",
    "        # '#ff7f0e', '#1f77b4',  '#2ca02c', , 'grey' \n",
    "            ]\n",
    "    all_data_chart = alt.Chart(src).mark_line().transform_fold(\n",
    "        vars\n",
    "    ).encode(\n",
    "        alt.X('hours(time):T').axis(labelAlign='center'),\n",
    "        alt.Y('median(value):Q').title('Flux density (g/m^3/s)').scale(domain = [-0.00025, 0.00025], clamp=True),\n",
    "        alt.Color('key:N').scale(\n",
    "            domain = vars,range = colors\n",
    "        )\n",
    "    ).properties(width=PLOT_WIDTH, height=PLOT_HEIGHT, title=title)\n",
    "    all_data_chart_vert_adv_uncertainty = alt.Chart(src).mark_area(\n",
    "        color = colors[1],\n",
    "        opacity=0.35\n",
    "    ).encode(\n",
    "        alt.X('hours(time):T'),\n",
    "        alt.Y('median(vertical_advection_lb):Q').title(''),\n",
    "        alt.Y2('median(vertical_advection_ub):Q').title(''),\n",
    "    )\n",
    "    return all_data_chart_vert_adv_uncertainty + all_data_chart \n",
    "\n",
    "# Function to plot diurnal cycles in profiles\n",
    "########################################################\n",
    "def plot_profiles(src):\n",
    "    return alt.Chart(src).transform_filter(\n",
    "        alt.datum.height > 1\n",
    "    ).transform_filter(\n",
    "        alt.datum.height != 12\n",
    "    ).transform_filter(\n",
    "        alt.datum.height != 6\n",
    "    ).mark_line(\n",
    "        point={'size':20}, strokeWidth=1\n",
    "    ).encode(\n",
    "        alt.X('median(value):Q').scale(zero=False).title('Mixing ratio (g/Kg)'),\n",
    "        alt.Y('height:Q').title('Height (m)'),\n",
    "                \n",
    "        alt.Color('conditions:N', sort=\n",
    "                  ['0-3','3-6','6-9','9-12','12-15','15-18','18-21','21-0' ]\n",
    "                ).title(\n",
    "            'time (hours)'\n",
    "        ),\n",
    "        alt.Order('height:Q')\n",
    "    ).properties(width=PLOT_WIDTH, height=PLOT_HEIGHT)\n",
    "def plot_profiles_nocolor(src):\n",
    "    return alt.Chart(src).transform_filter(\n",
    "        alt.datum.height > 1\n",
    "    ).transform_filter(\n",
    "        alt.datum.height != 12\n",
    "    ).transform_filter(\n",
    "        alt.datum.height != 6\n",
    "    ).mark_line(\n",
    "        point={'size':20, 'color': 'black'}, strokeWidth=1, color='black'\n",
    "    ).encode(\n",
    "        alt.X('median(value):Q').scale(zero=False).title('Mixing ratio (g/Kg)'),\n",
    "        alt.Y('height:Q').title('Height (m)'),\n",
    "        alt.Order('height:Q'),\n",
    "        alt.Detail('conditions:N')\n",
    "    ).properties(width=PLOT_WIDTH, height=PLOT_HEIGHT)\n",
    "\n",
    "# Function to plot diurnal cycles in w\n",
    "########################################################\n",
    "def w_diurnal_chart(src, title):\n",
    "    line = alt.Chart().transform_calculate(y = '0').mark_rule().encode(y='y:Q')\n",
    "    return alt.layer(\n",
    "        line, \n",
    "        alt.Chart().mark_line().encode(\n",
    "            alt.X('hours(time):T').axis(labelAlign='center', values=[0,6,12,18,]),\n",
    "            alt.Y('median(value):Q').title('Vertical velocity (m/s)').scale(domain = [-0.05, 0.05], clamp=True),\n",
    "            alt.Color('height:O').scale(scheme='turbo')\n",
    "        ), \n",
    "        data = src\n",
    "    ).properties(width=PLOT_WIDTH, height=PLOT_HEIGHT, title=title)"
   ]
  },
  {
   "cell_type": "markdown",
   "metadata": {},
   "source": [
    "Isolate data"
   ]
  },
  {
   "cell_type": "code",
   "execution_count": 35,
   "metadata": {},
   "outputs": [],
   "source": [
    "# Identify timestamps for the two categories\n",
    "upvalley_nobs_times = set(pd.to_datetime(upvalley_wind_times)).intersection(set(nobs_times))\n",
    "downvalley_nobs_times = set(pd.to_datetime(downvalley_wind_times)).intersection(set(nobs_times))\n",
    "\n",
    "# Data for diurnal cycles in CONSERVATION TERMS, FINITE DIFFERENCE METHOD\n",
    "########################################################\n",
    "src_cons_terms_numerical = advection_1d_fluxdensity_nonnorm_df.copy()\n",
    "src_cons_terms_numerical_upvalley_nobs = src_cons_terms_numerical[src_cons_terms_numerical.index.isin(upvalley_nobs_times)].reset_index()\n",
    "src_cons_terms_numerical_dovalley_nobs = src_cons_terms_numerical[src_cons_terms_numerical.index.isin(downvalley_nobs_times)].reset_index()\n",
    "\n",
    "# Data for diurnal cycles in MIXING RATIO PROFILES\n",
    "########################################################\n",
    "src_mixingratio = tidy_df[tidy_df.measurement == 'mixing ratio'].query(\"tower == 'c'\")\n",
    "src_mixingratio = src_mixingratio[src_mixingratio.time.isin(nobs_times)]\n",
    "src_mixingratio['conditions'] = src_mixingratio.time.dt.hour\n",
    "# src_mixingratio = src_mixingratio[src_mixingratio.conditions % 4 == 0]\n",
    "src_mixingratio['conditions'] = pd.cut(\n",
    "    src_mixingratio.time.dt.hour,\n",
    "    [-1,3,6,9,12,15,18,21,24],\n",
    "    labels=['0-3', '3-6', '6-9', '9-12', '12-15', '15-18', '18-21', '21-0'],\n",
    "    right=False\n",
    ")\n",
    "\n",
    "src_mixingratio = src_mixingratio[\n",
    "    src_mixingratio['conditions'].isin([ '0-3', '6-9', '12-15', '18-21'])\n",
    "]\n",
    "src_mixingratio['value'] = src_mixingratio['value']*1000\n",
    "src_mixingratio_upvalley_nobs = src_mixingratio[src_mixingratio.time.isin(upvalley_nobs_times)].query(\"height > 1\")\n",
    "src_mixingratio_dovalley_nobs = src_mixingratio[src_mixingratio.time.isin(downvalley_nobs_times)].query(\"height > 1\")\n",
    "\n",
    "# Data for diurnal cycles in MEAN W\n",
    "########################################################\n",
    "src_w = tidy_df[tidy_df.measurement == 'w'].query(\"tower == 'c'\")\n",
    "src_w_upvalley_nobs = src_w[src_w.time.isin(upvalley_nobs_times)]\n",
    "src_w_dovalley_nobs = src_w[src_w.time.isin(downvalley_nobs_times)]\n",
    "src_w_upvalley_nobs = src_w_upvalley_nobs.query(\"height > 1\")\n",
    "\n",
    "src_w_dovalley_nobs = src_w_dovalley_nobs.query(\"height > 1\")"
   ]
  },
  {
   "cell_type": "code",
   "execution_count": 36,
   "metadata": {},
   "outputs": [
    {
     "data": {
      "text/html": [
       "\n",
       "<style>\n",
       "  #altair-viz-8c17d46dcbc64b7db09c1945b39f85ec.vega-embed {\n",
       "    width: 100%;\n",
       "    display: flex;\n",
       "  }\n",
       "\n",
       "  #altair-viz-8c17d46dcbc64b7db09c1945b39f85ec.vega-embed details,\n",
       "  #altair-viz-8c17d46dcbc64b7db09c1945b39f85ec.vega-embed details summary {\n",
       "    position: relative;\n",
       "  }\n",
       "</style>\n",
       "<div id=\"altair-viz-8c17d46dcbc64b7db09c1945b39f85ec\"></div>\n",
       "<script type=\"text/javascript\">\n",
       "  var VEGA_DEBUG = (typeof VEGA_DEBUG == \"undefined\") ? {} : VEGA_DEBUG;\n",
       "  (function(spec, embedOpt){\n",
       "    let outputDiv = document.currentScript.previousElementSibling;\n",
       "    if (outputDiv.id !== \"altair-viz-8c17d46dcbc64b7db09c1945b39f85ec\") {\n",
       "      outputDiv = document.getElementById(\"altair-viz-8c17d46dcbc64b7db09c1945b39f85ec\");\n",
       "    }\n",
       "    const paths = {\n",
       "      \"vega\": \"https://cdn.jsdelivr.net/npm/vega@5?noext\",\n",
       "      \"vega-lib\": \"https://cdn.jsdelivr.net/npm/vega-lib?noext\",\n",
       "      \"vega-lite\": \"https://cdn.jsdelivr.net/npm/vega-lite@5.20.1?noext\",\n",
       "      \"vega-embed\": \"https://cdn.jsdelivr.net/npm/vega-embed@6?noext\",\n",
       "    };\n",
       "\n",
       "    function maybeLoadScript(lib, version) {\n",
       "      var key = `${lib.replace(\"-\", \"\")}_version`;\n",
       "      return (VEGA_DEBUG[key] == version) ?\n",
       "        Promise.resolve(paths[lib]) :\n",
       "        new Promise(function(resolve, reject) {\n",
       "          var s = document.createElement('script');\n",
       "          document.getElementsByTagName(\"head\")[0].appendChild(s);\n",
       "          s.async = true;\n",
       "          s.onload = () => {\n",
       "            VEGA_DEBUG[key] = version;\n",
       "            return resolve(paths[lib]);\n",
       "          };\n",
       "          s.onerror = () => reject(`Error loading script: ${paths[lib]}`);\n",
       "          s.src = paths[lib];\n",
       "        });\n",
       "    }\n",
       "\n",
       "    function showError(err) {\n",
       "      outputDiv.innerHTML = `<div class=\"error\" style=\"color:red;\">${err}</div>`;\n",
       "      throw err;\n",
       "    }\n",
       "\n",
       "    function displayChart(vegaEmbed) {\n",
       "      vegaEmbed(outputDiv, spec, embedOpt)\n",
       "        .catch(err => showError(`Javascript Error: ${err.message}<br>This usually means there's a typo in your chart specification. See the javascript console for the full traceback.`));\n",
       "    }\n",
       "\n",
       "    if(typeof define === \"function\" && define.amd) {\n",
       "      requirejs.config({paths});\n",
       "      require([\"vega-embed\"], displayChart, err => showError(`Error loading script: ${err.message}`));\n",
       "    } else {\n",
       "      maybeLoadScript(\"vega\", \"5\")\n",
       "        .then(() => maybeLoadScript(\"vega-lite\", \"5.20.1\"))\n",
       "        .then(() => maybeLoadScript(\"vega-embed\", \"6\"))\n",
       "        .catch(showError)\n",
       "        .then(() => displayChart(vegaEmbed));\n",
       "    }\n",
       "  })({\"config\": {\"view\": {\"continuousWidth\": 300, \"continuousHeight\": 300}, \"legend\": {\"columns\": 1, \"orient\": \"top\"}}, \"hconcat\": [{\"vconcat\": [{\"data\": {\"url\": \"altair-data-8edb03d115ad37773816ef00b9cc6a00.json\", \"format\": {\"type\": \"json\"}}, \"mark\": {\"type\": \"line\", \"color\": \"black\", \"point\": {\"size\": 20, \"color\": \"black\"}, \"strokeWidth\": 1}, \"encoding\": {\"detail\": {\"field\": \"conditions\", \"type\": \"nominal\"}, \"order\": {\"field\": \"height\", \"type\": \"quantitative\"}, \"x\": {\"aggregate\": \"median\", \"field\": \"value\", \"scale\": {\"zero\": false}, \"title\": \"Mixing ratio (g/Kg)\", \"type\": \"quantitative\"}, \"y\": {\"field\": \"height\", \"title\": \"Height (m)\", \"type\": \"quantitative\"}}, \"height\": 150, \"title\": \"\", \"transform\": [{\"filter\": \"(datum.height > 1)\"}, {\"filter\": \"(datum.height !== 12)\"}, {\"filter\": \"(datum.height !== 6)\"}], \"width\": 150}, {\"data\": {\"url\": \"altair-data-b385f14b6a4e2e20ed5fb098ec959b47.json\", \"format\": {\"type\": \"json\"}}, \"mark\": {\"type\": \"line\", \"color\": \"black\", \"point\": {\"size\": 20, \"color\": \"black\"}, \"strokeWidth\": 1}, \"encoding\": {\"detail\": {\"field\": \"conditions\", \"type\": \"nominal\"}, \"order\": {\"field\": \"height\", \"type\": \"quantitative\"}, \"x\": {\"aggregate\": \"median\", \"field\": \"value\", \"scale\": {\"zero\": false}, \"title\": \"Mixing ratio (g/Kg)\", \"type\": \"quantitative\"}, \"y\": {\"field\": \"height\", \"title\": \"Height (m)\", \"type\": \"quantitative\"}}, \"height\": 150, \"title\": \"\", \"transform\": [{\"filter\": \"(datum.height > 1)\"}, {\"filter\": \"(datum.height !== 12)\"}, {\"filter\": \"(datum.height !== 6)\"}], \"width\": 150}]}, {\"vconcat\": [{\"layer\": [{\"mark\": {\"type\": \"line\"}, \"encoding\": {\"color\": {\"field\": \"key\", \"scale\": {\"scheme\": \"turbo\"}, \"sort\": [\"vertical_advection_numerical_2\", \"vertical_advection_numerical_3\", \"vertical_advection_numerical_5\", \"vertical_advection_numerical_10\", \"vertical_advection_numerical_15\", \"vertical_advection_numerical_20\"], \"type\": \"nominal\"}, \"x\": {\"axis\": {\"labelAlign\": \"center\"}, \"field\": \"time\", \"timeUnit\": \"hours\", \"type\": \"temporal\"}, \"y\": {\"aggregate\": \"median\", \"field\": \"value\", \"scale\": {\"domain\": [-0.00025, 0.00025], \"clamp\": true}, \"title\": \"Flux density (g/m^3/s)\", \"type\": \"quantitative\"}}, \"title\": \"\", \"transform\": [{\"fold\": [\"vertical_advection_numerical_2\", \"vertical_advection_numerical_3\", \"vertical_advection_numerical_5\", \"vertical_advection_numerical_10\", \"vertical_advection_numerical_15\", \"vertical_advection_numerical_20\"]}]}, {\"mark\": {\"type\": \"line\", \"color\": \"black\"}, \"encoding\": {\"strokeDash\": {\"field\": \"key\", \"type\": \"nominal\"}, \"x\": {\"axis\": {\"labelAlign\": \"center\"}, \"field\": \"time\", \"timeUnit\": \"hours\", \"type\": \"temporal\"}, \"y\": {\"aggregate\": \"median\", \"field\": \"value\", \"scale\": {\"domain\": [-0.00025, 0.00025], \"clamp\": true}, \"title\": \"Flux density (g/m^3/s)\", \"type\": \"quantitative\"}}, \"title\": \"\", \"transform\": [{\"fold\": [\"ds/dt\", \"vertical_turb_flux_divergence_3to20\"]}]}], \"data\": {\"url\": \"altair-data-42f7966ec191da248bad819ee94f635f.json\", \"format\": {\"type\": \"json\"}}, \"height\": 150, \"width\": 150}, {\"layer\": [{\"mark\": {\"type\": \"line\"}, \"encoding\": {\"color\": {\"field\": \"key\", \"scale\": {\"scheme\": \"turbo\"}, \"sort\": [\"vertical_advection_numerical_2\", \"vertical_advection_numerical_3\", \"vertical_advection_numerical_5\", \"vertical_advection_numerical_10\", \"vertical_advection_numerical_15\", \"vertical_advection_numerical_20\"], \"type\": \"nominal\"}, \"x\": {\"axis\": {\"labelAlign\": \"center\"}, \"field\": \"time\", \"timeUnit\": \"hours\", \"type\": \"temporal\"}, \"y\": {\"aggregate\": \"median\", \"field\": \"value\", \"scale\": {\"domain\": [-0.00025, 0.00025], \"clamp\": true}, \"title\": \"Flux density (g/m^3/s)\", \"type\": \"quantitative\"}}, \"title\": \"\", \"transform\": [{\"fold\": [\"vertical_advection_numerical_2\", \"vertical_advection_numerical_3\", \"vertical_advection_numerical_5\", \"vertical_advection_numerical_10\", \"vertical_advection_numerical_15\", \"vertical_advection_numerical_20\"]}]}, {\"mark\": {\"type\": \"line\", \"color\": \"black\"}, \"encoding\": {\"strokeDash\": {\"field\": \"key\", \"type\": \"nominal\"}, \"x\": {\"axis\": {\"labelAlign\": \"center\"}, \"field\": \"time\", \"timeUnit\": \"hours\", \"type\": \"temporal\"}, \"y\": {\"aggregate\": \"median\", \"field\": \"value\", \"scale\": {\"domain\": [-0.00025, 0.00025], \"clamp\": true}, \"title\": \"Flux density (g/m^3/s)\", \"type\": \"quantitative\"}}, \"title\": \"\", \"transform\": [{\"fold\": [\"ds/dt\", \"vertical_turb_flux_divergence_3to20\"]}]}], \"data\": {\"url\": \"altair-data-d50de79ec805900a21108c77bcd6a0dd.json\", \"format\": {\"type\": \"json\"}}, \"height\": 150, \"width\": 150}]}, {\"vconcat\": [{\"layer\": [{\"mark\": {\"type\": \"rule\"}, \"encoding\": {\"y\": {\"field\": \"y\", \"type\": \"quantitative\"}}, \"transform\": [{\"calculate\": \"0\", \"as\": \"y\"}]}, {\"mark\": {\"type\": \"line\"}, \"encoding\": {\"color\": {\"field\": \"height\", \"scale\": {\"scheme\": \"turbo\"}, \"type\": \"ordinal\"}, \"x\": {\"axis\": {\"labelAlign\": \"center\", \"values\": [0, 6, 12, 18]}, \"field\": \"time\", \"timeUnit\": \"hours\", \"type\": \"temporal\"}, \"y\": {\"aggregate\": \"median\", \"field\": \"value\", \"scale\": {\"domain\": [-0.05, 0.05], \"clamp\": true}, \"title\": \"Vertical velocity (m/s)\", \"type\": \"quantitative\"}}}], \"data\": {\"url\": \"altair-data-782604751abc4f9236a4176dbc210f45.json\", \"format\": {\"type\": \"json\"}}, \"height\": 150, \"title\": \"\", \"width\": 150}, {\"layer\": [{\"mark\": {\"type\": \"rule\"}, \"encoding\": {\"y\": {\"field\": \"y\", \"type\": \"quantitative\"}}, \"transform\": [{\"calculate\": \"0\", \"as\": \"y\"}]}, {\"mark\": {\"type\": \"line\"}, \"encoding\": {\"color\": {\"field\": \"height\", \"scale\": {\"scheme\": \"turbo\"}, \"type\": \"ordinal\"}, \"x\": {\"axis\": {\"labelAlign\": \"center\", \"values\": [0, 6, 12, 18]}, \"field\": \"time\", \"timeUnit\": \"hours\", \"type\": \"temporal\"}, \"y\": {\"aggregate\": \"median\", \"field\": \"value\", \"scale\": {\"domain\": [-0.05, 0.05], \"clamp\": true}, \"title\": \"Vertical velocity (m/s)\", \"type\": \"quantitative\"}}}], \"data\": {\"url\": \"altair-data-dbb9efd279e40c2bea810cef1934e5c7.json\", \"format\": {\"type\": \"json\"}}, \"height\": 150, \"title\": \"\", \"width\": 150}], \"resolve\": {\"scale\": {\"y\": \"shared\"}}}], \"resolve\": {\"scale\": {\"color\": \"independent\", \"strokeDash\": \"independent\"}}, \"$schema\": \"https://vega.github.io/schema/vega-lite/v5.20.1.json\"}, {\"mode\": \"vega-lite\"});\n",
       "</script>"
      ],
      "text/plain": [
       "alt.HConcatChart(...)"
      ]
     },
     "execution_count": 36,
     "metadata": {},
     "output_type": "execute_result"
    }
   ],
   "source": [
    "s_profile_charts = (\n",
    "    plot_profiles_nocolor(src_mixingratio_upvalley_nobs).properties(title='') &\\\n",
    "    plot_profiles_nocolor(src_mixingratio_dovalley_nobs).properties(title='')\n",
    ")\n",
    "w_charts = (\n",
    "    w_diurnal_chart(src_w_upvalley_nobs.query(\"height > 1\"), title='') &\\\n",
    "    w_diurnal_chart(src_w_dovalley_nobs.query(\"height > 1\"), title='')\n",
    ").resolve_scale(y='shared')\n",
    "conservation_charts_numerical = (\n",
    "    get_vert_advection_with_height(src_cons_terms_numerical_upvalley_nobs, title='') &\\\n",
    "    get_vert_advection_with_height(src_cons_terms_numerical_dovalley_nobs, title='')\n",
    ")\n",
    "\n",
    "(\n",
    "    (\n",
    "        s_profile_charts | conservation_charts_numerical | w_charts\n",
    "    ).resolve_scale(color='independent', strokeDash='independent')\n",
    ").configure_legend(orient='top', columns=1)"
   ]
  },
  {
   "cell_type": "code",
   "execution_count": null,
   "metadata": {},
   "outputs": [],
   "source": []
  },
  {
   "cell_type": "code",
   "execution_count": null,
   "metadata": {},
   "outputs": [],
   "source": [
    "upvalley_wind_times = tidy_df[tidy_df.variable == 'dir_3m_c'].dropna().query(\"value < 152\").query(\"value > 92\").drop_duplicates().time\n",
    "downvalley_wind_times = tidy_df[tidy_df.variable == 'dir_3m_c'].dropna().query(\"value < 342\").query(\"value > 292\").drop_duplicates().time\n",
    "all_wind_times = tidy_df[tidy_df.variable == 'dir_3m_c'].drop_duplicates().time\n",
    "print(round(len(upvalley_wind_times)/len(all_wind_times),3))\n",
    "print(round(len(downvalley_wind_times)/len(all_wind_times),3))"
   ]
  },
  {
   "cell_type": "code",
   "execution_count": null,
   "metadata": {},
   "outputs": [],
   "source": [
    "from windrose import WindroseAxes\n",
    "src = tidy_df[tidy_df.time.isin(downvalley_wind_times)][\n",
    "    tidy_df.variable.isin(['spd_20m_c', 'dir_20m_c'])\n",
    "].pivot_table(values = 'value', index='time', columns=['measurement']).reset_index()\n",
    "ax = WindroseAxes.from_ax(figsize=(2,2))\n",
    "ax.bar(src['wind direction'], src['wind speed'], normed=True, opening=.9, edgecolor='white', bins=1, nsector=17)\n",
    "ax.set_yticks([])\n",
    "# ax.set_yticklabels(['10%','25%'])\n",
    "plt.title(\"20m wind rose\")"
   ]
  },
  {
   "cell_type": "code",
   "execution_count": null,
   "metadata": {},
   "outputs": [],
   "source": [
    "from windrose import WindroseAxes\n",
    "src = tidy_df[tidy_df.time.isin(upvalley_wind_times)][\n",
    "    tidy_df.variable.isin(['spd_20m_c', 'dir_20m_c'])\n",
    "].pivot_table(values = 'value', index='time', columns=['measurement']).reset_index()\n",
    "ax = WindroseAxes.from_ax(figsize=(2,2))\n",
    "ax.bar(src['wind direction'], src['wind speed'], normed=True, opening=.9, edgecolor='white', bins=1, nsector=17)\n",
    "ax.set_yticks([])\n",
    "# ax.set_yticklabels(['10%','25%'])\n",
    "plt.title(\"20m wind rose\")"
   ]
  },
  {
   "cell_type": "markdown",
   "metadata": {},
   "source": [
    "## Analyze seasonal advection corrections"
   ]
  },
  {
   "cell_type": "markdown",
   "metadata": {},
   "source": [
    "## Linearly interpolate w everywhere"
   ]
  },
  {
   "cell_type": "code",
   "execution_count": null,
   "metadata": {},
   "outputs": [],
   "source": [
    "w_interp = vertical_advection_estimates.reset_index().groupby('time').apply(lambda x:x).interpolate(method='linear')['w'].reset_index()\n",
    "src = w_interp.set_index('time').loc['20230408 1400']\n",
    "\n",
    "plt.scatter(\n",
    "    vertical_advection_estimates.loc['20230408 1400']['w'],\n",
    "    vertical_advection_estimates.loc['20230408 1400']['height'],\n",
    ")\n",
    "plt.scatter(\n",
    "    src['w'],\n",
    "    vertical_advection_estimates.loc['20230408 1400']['height'],\n",
    "    s=3\n",
    ")"
   ]
  },
  {
   "cell_type": "code",
   "execution_count": null,
   "metadata": {},
   "outputs": [],
   "source": [
    "vertical_advection_estimates['w'] = w_interp['w'].values"
   ]
  },
  {
   "cell_type": "markdown",
   "metadata": {},
   "source": [
    "# IMPROVE CALCULATIONS OF W HERE!!!!!!!!!"
   ]
  },
  {
   "cell_type": "code",
   "execution_count": null,
   "metadata": {},
   "outputs": [],
   "source": [
    "one_date_example = vertical_advection_estimates.loc['20230505 1200'].set_index('height')\n",
    "one_date_example.loc[0, 'w'] = 0\n",
    "one_date_example.loc[0, 'rho_d'] = one_date_example.loc[2, 'rho_d']\n",
    "one_date_example.loc[0, 'dsigma_dz'] = one_date_example.loc[2, 'dsigma_dz']\n",
    "\n",
    "one_date_example.loc[1, 'w'] = 0.5 * (one_date_example.loc[0, 'w'] + one_date_example.loc[2, 'w'])\n",
    "one_date_example.loc[1, 'rho_d'] = one_date_example.loc[2, 'rho_d']\n",
    "one_date_example.loc[1, 'dsigma_dz'] = one_date_example.loc[2, 'dsigma_dz']\n",
    "\n",
    "one_date_example = one_date_example.sort_index()\n",
    "\n",
    "one_date_example['vertical_advection'] = one_date_example['w'] * one_date_example['rho_d'] * one_date_example['dsigma_dz'] * 1000\n",
    "display(one_date_example)\n",
    "\n",
    "np.trapz(\n",
    "    one_date_example['vertical_advection'],\n",
    "    one_date_example['vertical_advection'].index\n",
    ")\n"
   ]
  },
  {
   "cell_type": "markdown",
   "metadata": {},
   "source": [
    "$$ \\overline{w'\\rho_v'}_{0} = \\overline{w'\\rho_v'}_{H} + \\int_0^H \\overline{w} \\rho \\frac{d \\sigma}{d z} dz$$"
   ]
  },
  {
   "cell_type": "markdown",
   "metadata": {},
   "source": [
    "$$\\int_0^H \\overline{w} \\rho \\frac{d \\sigma}{d z} = \\int_0^2 \\overline{w}\\Big|_{z=2} \\rho \\frac{d \\sigma}{d z}\\Big|_{z=2} dz\n",
    "+ \\int_2^{4} \\overline{w}\\Big|_{z=3} \\rho \\frac{d \\sigma}{d z}\\Big|_{z=3} dz\n",
    "+ \\int_4^{8} \\overline{w}\\Big|_{z=5} \\rho \\frac{d \\sigma}{d z}\\Big|_{z=5} dz\n",
    "+ \\int_8^{13} \\overline{w}\\Big|_{z=10} \\rho \\frac{d \\sigma}{d z}\\Big|_{z=10} dz\n",
    "+ \\int_{13}^{18} \\overline{w}\\Big|_{z=15} \\rho \\frac{d \\sigma}{d z}\\Big|_{z=15} dz\n",
    "+ \\int_{18}^{20} \\overline{w}\\Big|_{z=20} \\rho \\frac{d \\sigma}{d z}\\Big|_{z=20} dz\n",
    "$$\n",
    "\n",
    "$$\\int_0^H \\overline{w} \\rho \\frac{d \\sigma}{d z} = (2) \\overline{w}_{2} \\rho \\frac{d \\sigma}{d z}\\Big|_{z=2} dz\n",
    "+ 2 * \\overline{w}_{3} \\rho \\frac{d \\sigma}{d z}_{3}\n",
    "+ 4 * \\overline{w}_{5} \\rho \\frac{d \\sigma}{d z}_{5}\n",
    "+ 5 * \\overline{w}_{10} \\rho \\frac{d \\sigma}{d z}_{10}\n",
    "+ 5 * \\overline{w}_{15} \\rho \\frac{d \\sigma}{d z}_{15}\n",
    "+ 2 * \\overline{w}_{20} \\rho \\frac{d \\sigma}{d z}_{20}\n",
    "$$"
   ]
  },
  {
   "cell_type": "code",
   "execution_count": null,
   "metadata": {},
   "outputs": [],
   "source": [
    "# 2 meter corrections \n",
    "w_h2o__2m_c_cumsum = ((1800/1000)*advection_1d_fluxdensity_nonnorm_df.loc['20221107': '20230618'].w_h2o__2m_c).cumsum()\n",
    "w_h2o__2m_c_corrected_cumsum = ((1800/1000)*(\n",
    "        advection_1d_fluxdensity_nonnorm_df.loc['20221107': '20230618'].w_h2o__2m_c\n",
    "        + (2*advection_1d_fluxdensity_nonnorm_df.loc['20221107': '20230618'].vertical_advection_numerical_2)\n",
    ")\n",
    ").cumsum()\n",
    "\n",
    "# 3 meter corrections\n",
    "w_h2o__3m_c_cumsum = ((1800/1000)*advection_1d_fluxdensity_nonnorm_df.loc['20221107': '20230618'].w_h2o__3m_c).cumsum()\n",
    "w_h2o__3m_c_corrected_cumsum = ((1800/1000)*(\n",
    "        advection_1d_fluxdensity_nonnorm_df.loc['20221107': '20230618'].w_h2o__3m_c\n",
    "        + (2*advection_1d_fluxdensity_nonnorm_df.loc['20221107': '20230618'].vertical_advection_numerical_2)\n",
    "        + (1*advection_1d_fluxdensity_nonnorm_df.loc['20221107': '20230618'].vertical_advection_numerical_3)\n",
    ")\n",
    ").cumsum()\n",
    "\n",
    "# 5 meter corrections\n",
    "w_h2o__5m_c_cumsum = ((1800/1000)*advection_1d_fluxdensity_nonnorm_df.loc['20221107': '20230618'].w_h2o__5m_c).cumsum()\n",
    "w_h2o__5m_c_corrected_cumsum = ((1800/1000)*(\n",
    "        advection_1d_fluxdensity_nonnorm_df.loc['20221107': '20230618'].w_h2o__5m_c\n",
    "        + (2*advection_1d_fluxdensity_nonnorm_df.loc['20221107': '20230618'].vertical_advection_numerical_2)\n",
    "        + (1*advection_1d_fluxdensity_nonnorm_df.loc['20221107': '20230618'].vertical_advection_numerical_3)\n",
    "        + (2*advection_1d_fluxdensity_nonnorm_df.loc['20221107': '20230618'].vertical_advection_numerical_5)\n",
    ")\n",
    ").cumsum()\n",
    "\n",
    "# 10 meter corrections\n",
    "w_h2o__10m_c_cumsum = ((1800/1000)*advection_1d_fluxdensity_nonnorm_df.loc['20221107': '20230618'].w_h2o__10m_c).cumsum()\n",
    "w_h2o__10m_c_corrected_cumsum = ((1800/1000)*(\n",
    "        advection_1d_fluxdensity_nonnorm_df.loc['20221107': '20230618'].w_h2o__10m_c\n",
    "        + (2*advection_1d_fluxdensity_nonnorm_df.loc['20221107': '20230618'].vertical_advection_numerical_2)\n",
    "        + (1*advection_1d_fluxdensity_nonnorm_df.loc['20221107': '20230618'].vertical_advection_numerical_3)\n",
    "        + (2*advection_1d_fluxdensity_nonnorm_df.loc['20221107': '20230618'].vertical_advection_numerical_5)\n",
    "        + (5*advection_1d_fluxdensity_nonnorm_df.loc['20221107': '20230618'].vertical_advection_numerical_10)\n",
    ")\n",
    ").cumsum()\n",
    "\n",
    "# 15 meter corrections\n",
    "w_h2o__15m_c_cumsum = ((1800/1000)*advection_1d_fluxdensity_nonnorm_df.loc['20221107': '20230618'].w_h2o__15m_c).cumsum()\n",
    "w_h2o__15m_c_corrected_cumsum = ((1800/1000)*(\n",
    "        advection_1d_fluxdensity_nonnorm_df.loc['20221107': '20230618'].w_h2o__15m_c\n",
    "        + (2*advection_1d_fluxdensity_nonnorm_df.loc['20221107': '20230618'].vertical_advection_numerical_2)\n",
    "        + (1*advection_1d_fluxdensity_nonnorm_df.loc['20221107': '20230618'].vertical_advection_numerical_3)\n",
    "        + (2*advection_1d_fluxdensity_nonnorm_df.loc['20221107': '20230618'].vertical_advection_numerical_5)\n",
    "        + (5*advection_1d_fluxdensity_nonnorm_df.loc['20221107': '20230618'].vertical_advection_numerical_10)\n",
    "        + (5*advection_1d_fluxdensity_nonnorm_df.loc['20221107': '20230618'].vertical_advection_numerical_15)\n",
    ")\n",
    ").cumsum()\n",
    "\n",
    "# 20 meter corrections\n",
    "w_h2o__20m_c_cumsum = ((1800/1000)*advection_1d_fluxdensity_nonnorm_df.loc['20221107': '20230618'].w_h2o__20m_c).cumsum()\n",
    "w_h2o__20m_c_corrected_cumsum = ((1800/1000)*(\n",
    "        advection_1d_fluxdensity_nonnorm_df.loc['20221107': '20230618'].w_h2o__20m_c\n",
    "        + (2*advection_1d_fluxdensity_nonnorm_df.loc['20221107': '20230618'].vertical_advection_numerical_2)\n",
    "        + (1*advection_1d_fluxdensity_nonnorm_df.loc['20221107': '20230618'].vertical_advection_numerical_3)\n",
    "        + (2*advection_1d_fluxdensity_nonnorm_df.loc['20221107': '20230618'].vertical_advection_numerical_5)\n",
    "        + (5*advection_1d_fluxdensity_nonnorm_df.loc['20221107': '20230618'].vertical_advection_numerical_10)\n",
    "        + (5*advection_1d_fluxdensity_nonnorm_df.loc['20221107': '20230618'].vertical_advection_numerical_15)\n",
    "        + (5*advection_1d_fluxdensity_nonnorm_df.loc['20221107': '20230618'].vertical_advection_numerical_20)\n",
    ")\n",
    ").cumsum()"
   ]
  },
  {
   "cell_type": "code",
   "execution_count": null,
   "metadata": {},
   "outputs": [],
   "source": [
    "\n",
    "w_h2o__2m_c_cumsum.plot(           color = 'black',     linestyle = '-', label=r\"$\\overline{w'\\rho_v'}$ (2m)\")\n",
    "w_h2o__2m_c_corrected_cumsum.plot( color = 'black',     linestyle = 'dotted',   label='w/ correction')\n",
    "w_h2o__3m_c_cumsum.plot(           color = 'tab:blue',     linestyle = '-', label=r\"$\\overline{w'\\rho_v'}$ (3m)\")\n",
    "w_h2o__3m_c_corrected_cumsum.plot( color = 'tab:blue',     linestyle = 'dotted',   label='w/ correction')\n",
    "w_h2o__5m_c_cumsum.plot(           color = 'tab:orange',     linestyle = '-', label=r\"$\\overline{w'\\rho_v'}$ (5m)\")\n",
    "w_h2o__5m_c_corrected_cumsum.plot( color = 'tab:orange',     linestyle = 'dotted',   label='w/ correction')\n",
    "w_h2o__10m_c_cumsum.plot(           color = 'tab:red',     linestyle = '-', label=r\"$\\overline{w'\\rho_v'}$ (10m)\")\n",
    "w_h2o__10m_c_corrected_cumsum.plot( color = 'tab:red',     linestyle = 'dotted',   label='w/ correction')\n",
    "w_h2o__15m_c_cumsum.plot(           color = 'tab:green',     linestyle = '-', label=r\"$\\overline{w'\\rho_v'}$ (15m)\")\n",
    "w_h2o__15m_c_corrected_cumsum.plot( color = 'tab:green',     linestyle = 'dotted',   label='w/ correction')\n",
    "w_h2o__20m_c_cumsum.plot(           color = 'tab:purple',     linestyle = '-', label=r\"$\\overline{w'\\rho_v'}$ (20m)\")\n",
    "w_h2o__20m_c_corrected_cumsum.plot( color = 'tab:purple',     linestyle = 'dotted',   label='w/ correction')\n",
    "\n",
    "plt.legend(loc='lower left')\n",
    "plt.ylabel('Cumulative sublimation (mm)')\n",
    "plt.xlim('20230501', '20230620')\n",
    "\n",
    "print('w_h2o__2m_c,     \\t\\t',          round(w_h2o__2m_c_cumsum.max(), 1))\n",
    "print('w_h2o__2m_c_corrected,   \\t',          round(w_h2o__2m_c_corrected_cumsum.max(), 1), round(100*w_h2o__2m_c_corrected_cumsum.max()/ w_h2o__2m_c_cumsum.max(), 1))\n",
    "print('w_h2o__3m_c,     \\t\\t',          round(w_h2o__3m_c_cumsum.max(), 1))\n",
    "print('w_h2o__3m_c_corrected,   \\t',          round(w_h2o__3m_c_corrected_cumsum.max(), 1), round(100*w_h2o__3m_c_corrected_cumsum.max()/ w_h2o__3m_c_cumsum.max(), 1))\n",
    "print('w_h2o__10m_c,    \\t\\t',          round(w_h2o__10m_c_cumsum.max(), 1))\n",
    "print('w_h2o__10m_c_corrected,  \\t',          round(w_h2o__10m_c_corrected_cumsum.max(), 1), round(100*w_h2o__10m_c_corrected_cumsum.max()/ w_h2o__10m_c_cumsum.max(), 1))\n",
    "print('w_h2o__15m_c,    \\t\\t',          round(w_h2o__15m_c_cumsum.max(), 1))\n",
    "print('w_h2o__15m_c_corrected,  \\t',          round(w_h2o__15m_c_corrected_cumsum.max(), 1), round(100*w_h2o__15m_c_corrected_cumsum.max()/ w_h2o__15m_c_cumsum.max(), 1))\n",
    "print('w_h2o__20m_c,    \\t\\t',          round(w_h2o__20m_c_cumsum.max(), 1))\n",
    "print('w_h2o__20m_c_corrected,  \\t',          round(w_h2o__20m_c_corrected_cumsum.max(), 1), round(100*w_h2o__20m_c_corrected_cumsum.max()/ w_h2o__20m_c_cumsum.max(), 1))"
   ]
  },
  {
   "cell_type": "markdown",
   "metadata": {},
   "source": [
    "## Analyze case studies"
   ]
  },
  {
   "cell_type": "markdown",
   "metadata": {},
   "source": [
    "### December case study"
   ]
  },
  {
   "cell_type": "code",
   "execution_count": null,
   "metadata": {},
   "outputs": [],
   "source": [
    "src = advection_1d_fluxdensity_nonnorm_df.loc['20221221 1200': '20221223 0000'][[\n",
    "        'w_h2o__3m_c',\n",
    "        'w_h2o__20m_c',\n",
    "        'vertical_advection_simple_3to10',\n",
    "        'vertical_advection_simple_3to10_uncertainty',\n",
    "        'vertical_turb_flux_divergence_3to10',\n",
    "        'vertical_turb_flux_divergence_3to20',\n",
    "        'lateral_advection_3m',\n",
    "        'ds/dt',\n",
    "        'lateral_advection_3m_uncertainty',\n",
    "        'vertical_advection_simple_3to20',\n",
    "        'vertical_advection_simple_3to20_uncertainty',\n",
    "        \n",
    "        'vertical_advection_numerical_2',\n",
    "        'vertical_advection_numerical_3',\n",
    "        'vertical_advection_numerical_5',\n",
    "        'vertical_advection_numerical_10',\n",
    "        'vertical_advection_numerical_15',\n",
    "        'vertical_advection_numerical_20',\n",
    "    ]].reset_index()\n",
    "\n",
    "\n",
    "src['vertical_advection_lb'] = src['vertical_advection_simple_3to10'] - src['vertical_advection_simple_3to10_uncertainty']\n",
    "src['vertical_advection_ub'] = src['vertical_advection_simple_3to10'] + src['vertical_advection_simple_3to10_uncertainty']\n",
    "\n",
    "lines_chart = alt.Chart(src).transform_fold([\n",
    "    'vertical_advection_simple_3to10',\n",
    "    # 'vertical_advection_simple_3to20',\n",
    "    'vertical_turb_flux_divergence_3to10',\n",
    "    # 'vertical_turb_flux_divergence_3to20',\n",
    "    # 'ds/dt',\n",
    "]).mark_line().encode(\n",
    "    alt.X('time:T'). axis(format='%m/%d').title(None),\n",
    "    alt.Y('value:Q').title(['Water vapor flux density', '(g/m^3/s)']).scale(\n",
    "        domain = [-0.002, 0.005], clamp=True\n",
    "    ),\n",
    "    alt.Color('key:N', )\n",
    ").properties(width=250, height = 166.66) \n",
    "\n",
    "vert_adv_uncert_chart = alt.Chart(src).mark_area(\n",
    "    color = '#1f77b4',\n",
    "    opacity=0.35\n",
    ").encode(\n",
    "    alt.X('time:T'),\n",
    "    alt.Y('vertical_advection_lb:Q').title(''),\n",
    "    alt.Y2('vertical_advection_ub:Q').title(''),\n",
    ")    \n",
    "\n",
    "bs_chart = alt.Chart(\n",
    "    tidy_df[tidy_df.measurement == 'snow flux'].set_index('time').loc['20221221 1200': '20221223 0000'].reset_index()\n",
    ").mark_line(color='black').encode(\n",
    "    alt.X('time:T'). axis(format='%m/%d').title(None),\n",
    "    alt.Y('value:Q').title(['Blowing snow flux', '(g/m^2/s)']),\n",
    "    alt.StrokeDash('height:N', legend=None)\n",
    ")\n",
    "\n",
    "w_q_chart = alt.Chart(\n",
    "    tidy_df[tidy_df.variable.isin(\n",
    "        [\n",
    "            'w_h2o__2m_c_raw', 'w_h2o__3m_c_raw', \n",
    "            'w_h2o__5m_c_raw', \n",
    "            'w_h2o__10m_c_raw', 'w_h2o__15m_c_raw','w_h2o__20m_c_raw'])\n",
    "    ].set_index('time').loc['20221221 1200': '20221223 0000'].reset_index()\n",
    ").transform_window(\n",
    "    rolling_avg = 'mean(value)',\n",
    "    frame=[-1,1],\n",
    "    groupby = ['height']\n",
    ").mark_line().encode(\n",
    "    alt.X('time:T'). axis().title(None),\n",
    "    alt.Y('rolling_avg:Q').title([\"w'q' (g/m^2/s)\"]),\n",
    "    alt.Color('height:O').scale(scheme='turbo')\n",
    ")\n",
    "\n",
    "\n",
    "(\n",
    "    bs_chart.properties(width=250, height = 83.33)\n",
    "    &\n",
    "    w_q_chart.properties(width=250, height = 83.33)\n",
    "    &\n",
    "    (vert_adv_uncert_chart + lines_chart)\n",
    ").resolve_scale(\n",
    "    x='shared', color='independent', strokeDash='independent'\n",
    ").display(renderer='svg')"
   ]
  },
  {
   "cell_type": "code",
   "execution_count": null,
   "metadata": {},
   "outputs": [],
   "source": [
    "src = advection_1d_fluxdensity_nonnorm_df.loc['20221221 1200': '20221223 0000'][[\n",
    "        'w_h2o__3m_c',\n",
    "        'w_h2o__20m_c',\n",
    "        'vertical_advection_simple_3to10',\n",
    "        'vertical_advection_simple_3to10_uncertainty',\n",
    "        'vertical_turb_flux_divergence_3to10',\n",
    "        'vertical_turb_flux_divergence_3to20',\n",
    "        'lateral_advection_3m',\n",
    "        'ds/dt',\n",
    "        'lateral_advection_3m_uncertainty',\n",
    "        'vertical_advection_simple_3to20',\n",
    "        'vertical_advection_simple_3to20_uncertainty',\n",
    "        \n",
    "        'vertical_advection_numerical_2',\n",
    "        'vertical_advection_numerical_3',\n",
    "        'vertical_advection_numerical_5',\n",
    "        'vertical_advection_numerical_10',\n",
    "        'vertical_advection_numerical_15',\n",
    "        'vertical_advection_numerical_20',\n",
    "    ]].reset_index()\n",
    "\n",
    "\n",
    "src['vertical_advection_lb'] = src['vertical_advection_simple_3to10'] - src['vertical_advection_simple_3to10_uncertainty']\n",
    "src['vertical_advection_ub'] = src['vertical_advection_simple_3to10'] + src['vertical_advection_simple_3to10_uncertainty']\n",
    "\n",
    "lines_chart = alt.Chart(src).transform_fold([\n",
    "    'vertical_advection_simple_3to10',\n",
    "    # 'vertical_advection_simple_3to20',\n",
    "    'vertical_turb_flux_divergence_3to10',\n",
    "    # 'vertical_turb_flux_divergence_3to20',\n",
    "    # 'ds/dt',\n",
    "    'vertical_advection_numerical_2',\n",
    "    'vertical_advection_numerical_3',\n",
    "    'vertical_advection_numerical_5',\n",
    "    'vertical_advection_numerical_10',\n",
    "    'vertical_advection_numerical_15',\n",
    "    'vertical_advection_numerical_20',\n",
    "]).mark_line().encode(\n",
    "    alt.X('time:T'). axis(format='%m/%d').title(None),\n",
    "    alt.Y('value:Q').title(['Water vapor flux density', '(g/m^3/s)']).scale(\n",
    "        domain = [-0.002, 0.005], clamp=True\n",
    "    ),\n",
    "    alt.Color('key:N', )\n",
    ").properties(width=250, height = 166.66) \n",
    "\n",
    "vert_adv_uncert_chart = alt.Chart(src).mark_area(\n",
    "    color = '#1f77b4',\n",
    "    opacity=0.35\n",
    ").encode(\n",
    "    alt.X('time:T'),\n",
    "    alt.Y('vertical_advection_lb:Q').title(''),\n",
    "    alt.Y2('vertical_advection_ub:Q').title(''),\n",
    ")    \n",
    "\n",
    "bs_chart = alt.Chart(\n",
    "    tidy_df[tidy_df.measurement == 'snow flux'].set_index('time').loc['20221221 1200': '20221223 0000'].reset_index()\n",
    ").mark_line(color='black').encode(\n",
    "    alt.X('time:T'). axis(format='%m/%d').title(None),\n",
    "    alt.Y('value:Q').title(['Blowing snow flux', '(g/m^2/s)']),\n",
    "    alt.StrokeDash('height:N', legend=None)\n",
    ")\n",
    "\n",
    "w_q_chart = alt.Chart(\n",
    "    tidy_df[tidy_df.variable.isin(\n",
    "        [\n",
    "            'w_h2o__2m_c_raw', 'w_h2o__3m_c_raw', \n",
    "            'w_h2o__5m_c_raw', \n",
    "            'w_h2o__10m_c_raw', 'w_h2o__15m_c_raw','w_h2o__20m_c_raw'])\n",
    "    ].set_index('time').loc['20221221 1200': '20221223 0000'].reset_index()\n",
    ").transform_window(\n",
    "    rolling_avg = 'mean(value)',\n",
    "    frame=[-1,1],\n",
    "    groupby = ['height']\n",
    ").mark_line().encode(\n",
    "    alt.X('time:T'). axis().title(None),\n",
    "    alt.Y('rolling_avg:Q').title([\"w'q' (g/m^2/s)\"]),\n",
    "    alt.Color('height:O').scale(scheme='turbo')\n",
    ")\n",
    "\n",
    "\n",
    "(\n",
    "    bs_chart.properties(width=250, height = 83.33)\n",
    "    &\n",
    "    w_q_chart.properties(width=250, height = 83.33)\n",
    "    &\n",
    "    (vert_adv_uncert_chart + lines_chart)\n",
    ").resolve_scale(\n",
    "    x='shared', color='independent', strokeDash='independent'\n",
    ").display(renderer='svg')"
   ]
  },
  {
   "cell_type": "markdown",
   "metadata": {},
   "source": [
    "### April/May case studies"
   ]
  },
  {
   "cell_type": "code",
   "execution_count": null,
   "metadata": {},
   "outputs": [],
   "source": [
    "def get_nice_advection_timeseries(date, date2=None, frame=[-2,2], width=300, height = 200, ydomain=[-0.001,0.001]):\n",
    "    if date2 is None:\n",
    "        date2 = date\n",
    "    src = advection_1d_fluxdensity_nonnorm_df.loc[date: date2][[\n",
    "            'w_h2o__3m_c',\n",
    "            'w_h2o__20m_c',\n",
    "            'vertical_advection_simple_3to10',\n",
    "            'vertical_advection_simple_3to20',\n",
    "            'vertical_advection_simple_3to20_uncertainty',\n",
    "            'vertical_turb_flux_divergence_3to20',\n",
    "            'lateral_advection_3m',\n",
    "            'lateral_advection_3m_uncertainty',\n",
    "            'ds/dt',\n",
    "            \n",
    "            'vertical_advection_numerical_2',\n",
    "            'vertical_advection_numerical_3',\n",
    "            'vertical_advection_numerical_5',\n",
    "            'vertical_advection_numerical_10',\n",
    "            'vertical_advection_numerical_15',\n",
    "            'vertical_advection_numerical_20',\n",
    "        ]].reset_index()\n",
    "\n",
    "    src['vertical_advection_lb'] = src['vertical_advection_simple_3to20'] - src['vertical_advection_simple_3to20_uncertainty']\n",
    "    src['vertical_advection_ub'] = src['vertical_advection_simple_3to20'] + src['vertical_advection_simple_3to20_uncertainty']\n",
    "    src['lateral_advection_lb'] = src['lateral_advection_3m'] - src['lateral_advection_3m_uncertainty']\n",
    "    src['lateral_advection_ub'] = src['lateral_advection_3m'] + src['lateral_advection_3m_uncertainty']\n",
    "\n",
    "    flux_div_chart = alt.Chart(src).transform_fold([\n",
    "        # 'vertical_advection_simple_3to10',\n",
    "        'vertical_advection_simple_3to20',\n",
    "        'vertical_turb_flux_divergence_3to20',\n",
    "        # 'lateral_advection_3m',\n",
    "        # 'ds/dt'\n",
    "        'vertical_advection_numerical_2',\n",
    "        'vertical_advection_numerical_3',\n",
    "        'vertical_advection_numerical_5',\n",
    "        'vertical_advection_numerical_10',\n",
    "        'vertical_advection_numerical_15',\n",
    "        'vertical_advection_numerical_20',\n",
    "    ]).transform_window(\n",
    "        rolling_avg = 'mean(value)',\n",
    "        frame=frame,\n",
    "        groupby = ['key']\n",
    "    ).mark_line().encode(\n",
    "        alt.X('time:T'). axis().title(None),\n",
    "        alt.Y('rolling_avg:Q').title(['Water vapor flux density', '(g/m^2/s)']).scale(domain=ydomain, clamp=True),\n",
    "        alt.Color('key:N')\n",
    "    ).properties(width=width, height = height)\n",
    "\n",
    "    vert_adv_errorbar = alt.Chart(src).transform_window(\n",
    "        rollavg_vert_adv_lb = 'mean(vertical_advection_lb)',\n",
    "        rollavg_vert_adv_ub = 'mean(vertical_advection_ub)',\n",
    "        frame=frame,\n",
    "        groupby = ['key']\n",
    "    ).mark_area(\n",
    "        opacity = 0.3,\n",
    "        color = '#1f77b4'\n",
    "    ).encode(\n",
    "        alt.X('time:T'). axis().title(None),\n",
    "        alt.Y('rollavg_vert_adv_lb:Q').title(''),\n",
    "        alt.Y2('rollavg_vert_adv_ub:Q').title(''),\n",
    "    )\n",
    "\n",
    "\n",
    "    return  vert_adv_errorbar + flux_div_chart"
   ]
  },
  {
   "cell_type": "code",
   "execution_count": null,
   "metadata": {},
   "outputs": [],
   "source": [
    "def get_chart(date):\n",
    "    flux_div_chart = get_nice_advection_timeseries(date, ydomain=[-0.003,0.003]).properties(\n",
    "        width=300, height = 125\n",
    "    )\n",
    "\n",
    "    w_chart = alt.Chart(\n",
    "        tidy_df[tidy_df.variable.isin(\n",
    "            ['w_3m_c', 'w_5m_c', 'w_10m_c', 'w_15m_c','w_20m_c'])\n",
    "        ].set_index('time').sort_index().loc[date: date].reset_index()\n",
    "    ).transform_window(\n",
    "        rolling_avg = 'mean(value)',\n",
    "        frame=[-2,2],\n",
    "        groupby = ['height']\n",
    "    ).mark_line().encode(\n",
    "        alt.X('time:T'). axis().title(None),\n",
    "        alt.Y('rolling_avg:Q').title(['Vertical wind speed (m/s)']),\n",
    "        # alt.Y('value:Q').title(['Vertical wind speed (m/s)']),\n",
    "        alt.Color('height:O').scale(scheme='turbo')\n",
    "    ).properties(width=300, height = 125)\n",
    "\n",
    "    dir_chart = alt.Chart(\n",
    "        tidy_df[\n",
    "            tidy_df.variable == 'dir_20m_c'\n",
    "        ].set_index('time').loc[date: date].reset_index()\n",
    "    ).mark_line(color='black', strokeDash=[4,2]).encode(\n",
    "        alt.X('time:T'). axis().title(None),\n",
    "        alt.Y('value:Q').title(['Wind direction']),\n",
    "    ).properties(width=300, height = 125)\n",
    "\n",
    "    mixingratio_chart = alt.Chart(\n",
    "        tidy_df.query(\"measurement == 'mixing ratio'\").set_index('time').loc[date: date].reset_index()\n",
    "    ).transform_filter(\n",
    "        'hours(datum.time)%3 == 0 & hours(datum.time)%6 != 0'\n",
    "    ).transform_calculate(\n",
    "        value_g_per_kg = '1000 * datum.value'\n",
    "    ).mark_line().encode(\n",
    "        alt.X('mean(value_g_per_kg):Q').sort('-y').title('s (g/kg)').scale(zero=True),\n",
    "        alt.Y('height:Q'),\n",
    "        alt.Facet('hours(time):O', spacing=5),\n",
    "    ).properties(width=70, height = 70)\n",
    "\n",
    "    # wspd_chart = alt.Chart(\n",
    "    #     tidy_df.query(\"measurement == 'wind speed'\").query(\"tower == 'c'\").set_index('time').loc[date: date].reset_index()\n",
    "    # ).transform_filter(\n",
    "    #     # 'hours(datum.time)%3 == 0 & hours(datum.time)%6 != 0'\n",
    "    #     'hours(datum.time)%1 == 0'\n",
    "    # ).mark_point().encode(\n",
    "    #     alt.X('mean(value):Q').sort('-y'),\n",
    "    #     alt.Y('height:Q'),\n",
    "    #     alt.Facet('hours(time):O', spacing=5),\n",
    "    # ).properties(width=70, height = 70)\n",
    "\n",
    "    lhflux_chart = alt.Chart(\n",
    "        tidy_df[tidy_df.variable.isin(\n",
    "            ['w_h2o__3m_c_raw', \n",
    "             'w_h2o__5m_c_raw', \n",
    "             'w_h2o__10m_c_raw', 'w_h2o__15m_c_raw','w_h2o__20m_c_raw'])\n",
    "        ].set_index('time').loc[date: date].reset_index()\n",
    "    ).transform_window(\n",
    "        rolling_avg = 'mean(value)',\n",
    "        frame=[-1,1],\n",
    "        groupby = ['height']\n",
    "    ).mark_line().encode(\n",
    "        alt.X('time:T'). axis().title(None),\n",
    "        alt.Y('rolling_avg:Q').title([\"w'q' (g/m^2/s)\"]),\n",
    "        alt.Color('height:O').scale(scheme='turbo')\n",
    "    ).properties(width=300, height = 125)\n",
    "\n",
    "    ri_chart = alt.Chart(\n",
    "        tidy_df[tidy_df.variable.isin(\n",
    "            ['Ri_3m_c', 'Ri_20m_c'])\n",
    "        ].set_index('time').loc[date: date].reset_index()\n",
    "    ).transform_window(\n",
    "        rolling_avg = 'median(value)',\n",
    "        frame=[-1,1],\n",
    "        groupby = ['height']\n",
    "    ).mark_line().encode(\n",
    "        alt.X('time:T'). axis().title(None),\n",
    "        alt.Y('rolling_avg:Q').title(['Ri']).scale(domain=[-1,2], clamp=True),\n",
    "        alt.Color('height:O').scale(scheme='turbo')\n",
    "    ).properties(width=300, height = 125)\n",
    "\n",
    "    T_chart = alt.Chart(\n",
    "        tidy_df[tidy_df.variable.isin(\n",
    "            ['Tsurf_c', 'T_3m_c', 'T_20m_c'])\n",
    "        ].set_index('time').loc[date: date].reset_index()\n",
    "    ).transform_window(\n",
    "        rolling_avg = 'median(value)',\n",
    "        frame=[-1,1],\n",
    "        groupby = ['height']\n",
    "    ).mark_line().encode(\n",
    "        alt.X('time:T'). axis().title(None),\n",
    "        alt.Y('rolling_avg:Q').title(['T (˚C)']),\n",
    "        alt.Color('height:O').scale(scheme='turbo')\n",
    "    ).properties(width=300, height = 125)\n",
    "\n",
    "    wspd_chart = alt.Chart(\n",
    "        tidy_df[tidy_df.variable.isin(\n",
    "            ['spd_3m_c', 'spd_20m_c'])\n",
    "        ].set_index('time').loc[date: date].reset_index()\n",
    "    ).transform_window(\n",
    "        rolling_avg = 'median(value)',\n",
    "        frame=[-1,1],\n",
    "        groupby = ['height']\n",
    "    ).mark_line().encode(\n",
    "        alt.X('time:T'). axis().title(None),\n",
    "        alt.Y('rolling_avg:Q').title(['Wind speed (m/s)']),\n",
    "        alt.Color('height:O').scale(scheme='turbo')\n",
    "    ).properties(width=300, height = 125)\n",
    "\n",
    "    return (\n",
    "        lhflux_chart \n",
    "        & (w_chart + dir_chart).resolve_scale(y='independent') \n",
    "        & flux_div_chart\n",
    "        # & ri_chart & mixingratio_chart \n",
    "        # & wspd_chart \n",
    "        # & T_chart\n",
    "    ).resolve_scale(color='independent')"
   ]
  },
  {
   "cell_type": "code",
   "execution_count": null,
   "metadata": {},
   "outputs": [],
   "source": [
    "get_chart('20230505')"
   ]
  },
  {
   "cell_type": "code",
   "execution_count": null,
   "metadata": {},
   "outputs": [],
   "source": [
    "(get_chart('20230415') | get_chart('20230417') ).display(renderer='svg')"
   ]
  },
  {
   "cell_type": "code",
   "execution_count": null,
   "metadata": {},
   "outputs": [],
   "source": [
    "(get_chart('20230418') | get_chart('20230607') ).display(renderer='svg')"
   ]
  },
  {
   "cell_type": "code",
   "execution_count": null,
   "metadata": {},
   "outputs": [],
   "source": [
    "rule = alt.Chart().transform_calculate(y='0').mark_rule().encode(y='y:Q')\n",
    "local_downvalley_wind_times = tidy_df[\n",
    "    tidy_df.variable == 'dir_3m_c'\n",
    "].dropna().query(\"value < 360\").query(\"value > 252\").drop_duplicates().time\n",
    "# src = src[src.time.isin(local_downvalley_wind_times)]\n",
    "vars = [\n",
    "        'w_2m_c', 'w_3m_c', 'w_5m_c', 'w_10m_c', 'w_15m_c', 'w_20m_c',\n",
    "        'w_3m_d', 'w_10m_d',\n",
    "        'w_3m_ue', 'w_10m_ue',\n",
    "        'w_3m_uw', 'w_10m_uw',\n",
    "    ]\n",
    "(alt.Chart(\n",
    "    tidy_df[tidy_df.variable.isin(\n",
    "        ['dir_3m_c'] + vars\n",
    "    )].pivot(index='time', columns='variable', values='value')\n",
    ").transform_fold(vars).mark_boxplot(outliers=False).encode(\n",
    "    alt.X('dir_3m_c:Q').bin(maxbins=20),\n",
    "    alt.Y('value:Q').scale(domain=[-0.5, 0.5], clamp=True).title('Vertical wind speed (m/s)'),\n",
    "    alt.Facet('key:O', columns = 3).sort(vars)\n",
    ")).properties(height = 200, width=300)"
   ]
  },
  {
   "cell_type": "code",
   "execution_count": null,
   "metadata": {},
   "outputs": [],
   "source": [
    "rule = alt.Chart().transform_calculate(y='0').mark_rule().encode(y='y:Q')\n",
    "local_downvalley_wind_times = tidy_df[\n",
    "    tidy_df.variable == 'dir_3m_c'\n",
    "].dropna().query(\"value < 360\").query(\"value > 252\").drop_duplicates().time\n",
    "# src = src[src.time.isin(local_downvalley_wind_times)]\n",
    "vars = [\n",
    "        'w_10m_c',\n",
    "        'w_10m_d',\n",
    "         'w_10m_ue',\n",
    "         'w_10m_uw',\n",
    "    ]\n",
    "(alt.Chart(\n",
    "    tidy_df[tidy_df.variable.isin(\n",
    "        ['dir_3m_c'] + vars\n",
    "    )].pivot(index='time', columns='variable', values='value')\n",
    ").transform_fold(vars).mark_boxplot(outliers=False).encode(\n",
    "    alt.X('dir_3m_c:Q').bin(maxbins=20),\n",
    "    alt.Y('value:Q').scale(domain=[-0.5, 0.5], clamp=True).title('Vertical wind speed (m/s)'),\n",
    "    alt.Facet('key:O', columns = 2).sort(vars)\n",
    ")).properties(height = 200, width=300)"
   ]
  },
  {
   "cell_type": "code",
   "execution_count": null,
   "metadata": {},
   "outputs": [],
   "source": [
    "raw = (\n",
    "    (1800/1000)*(advection_1d_fluxdensity_nonnorm_df.loc['20221130': '20230619'].w_h2o__10m_c)\n",
    ")\n",
    "corrected_10m = (\n",
    "    (1800/1000)*(\n",
    "        advection_1d_fluxdensity_nonnorm_df.loc['20221130': '20230619'].w_h2o__10m_c\n",
    "        + (\n",
    "            10*advection_1d_fluxdensity_nonnorm_df.loc['20221130': '20230619'].vertical_advection_simple_3to10\n",
    "        )\n",
    "    )\n",
    ")\n",
    "corrected_20m = (\n",
    "    (1800/1000)*(\n",
    "        advection_1d_fluxdensity_nonnorm_df.loc['20221130': '20230619'].w_h2o__10m_c\n",
    "        + (\n",
    "            20*advection_1d_fluxdensity_nonnorm_df.loc['20221130': '20230619'].vertical_advection_simple_3to20\n",
    "        )\n",
    "    )\n",
    ")\n",
    "raw.loc['20230415': '20230415'].cumsum().plot(label = 'raw')\n",
    "corrected_10m.loc['20230415': '20230415'].cumsum().plot(label = 'corrected (10m)')\n",
    "corrected_20m.loc['20230415': '20230415'].cumsum().plot(label = 'corrected (20m)')\n",
    "plt.legend()"
   ]
  },
  {
   "cell_type": "code",
   "execution_count": null,
   "metadata": {},
   "outputs": [],
   "source": [
    "raw = (\n",
    "    (1800/1000)*(advection_1d_fluxdensity_nonnorm_df.loc['20221130': '20230619'].w_h2o__10m_c)\n",
    ")\n",
    "corrected_10m = (\n",
    "    (1800/1000)*(\n",
    "        advection_1d_fluxdensity_nonnorm_df.loc['20221130': '20230619'].w_h2o__10m_c\n",
    "        + (\n",
    "            10*advection_1d_fluxdensity_nonnorm_df.loc['20221130': '20230619'].vertical_advection_simple_3to10\n",
    "        )\n",
    "    )\n",
    ")\n",
    "corrected_20m = (\n",
    "    (1800/1000)*(\n",
    "        advection_1d_fluxdensity_nonnorm_df.loc['20221130': '20230619'].w_h2o__10m_c\n",
    "        + (\n",
    "            20*advection_1d_fluxdensity_nonnorm_df.loc['20221130': '20230619'].vertical_advection_simple_3to20\n",
    "        )\n",
    "    )\n",
    ")\n",
    "raw.loc['20230607': '20230607'].cumsum().plot(label = 'raw')\n",
    "corrected_10m.loc['20230607': '20230607'].cumsum().plot(label = 'corrected (10m)')\n",
    "corrected_20m.loc['20230607': '20230607'].cumsum().plot(label = 'corrected (20m)')\n",
    "plt.legend()"
   ]
  },
  {
   "cell_type": "code",
   "execution_count": null,
   "metadata": {},
   "outputs": [],
   "source": [
    "measurements = [\n",
    "    'w_h2o_',   'u_h2o_',   'v_h2o_', \n",
    "    'w_tc_',    'u_tc_',    'v_tc_',   \n",
    "    'u_w_', 'v_w_', \n",
    "    'turbulent kinetic energy',\n",
    "    'mixing ratio',\n",
    "    'potential temperature',\n",
    "    'w',\n",
    "]\n",
    "heights = [3, 5, 10, 15, 20]\n",
    "date = '20230417'\n",
    "src = tidy_df[tidy_df.measurement.isin(measurements)]\n",
    "src = src[ ~ src.variable.str.contains('predicted')]\n",
    "src = src.set_index('time').loc[date: date].reset_index()\n",
    "src = src.query(\"tower == 'c'\")\n",
    "src = src[src.height.isin(heights)]\n",
    "\n",
    "alt.Chart(src).mark_line().encode(\n",
    "    alt.X('time:T'). axis().title(None),\n",
    "    alt.Y('value:Q'),\n",
    "    alt.Color('height:O').scale(scheme='turbo'),\n",
    "    alt.Facet(\"measurement:N\", columns = 3).sort(\n",
    "        measurements\n",
    "    )\n",
    ").properties(width=300, height = 125).resolve_scale(\n",
    "    y='independent'\n",
    ")"
   ]
  },
  {
   "cell_type": "code",
   "execution_count": null,
   "metadata": {},
   "outputs": [],
   "source": [
    "kps_mixingratio_vars = [\n",
    "    'Tsurfmixingratio_c',\n",
    "    'mixingratio_1m_c',\n",
    "    'mixingratio_2m_c',\n",
    "    'mixingratio_3m_c',\n",
    "    'mixingratio_4m_c',\n",
    "    'mixingratio_5m_c',\n",
    "    'mixingratio_6m_c',\n",
    "    'mixingratio_7m_c',\n",
    "    'mixingratio_8m_c',\n",
    "    'mixingratio_9m_c'\n",
    "    'mixingratio_10m_c',\n",
    "    'mixingratio_11m_c',\n",
    "    'mixingratio_12m_c',\n",
    "    'mixingratio_13m_c',\n",
    "    'mixingratio_14m_c',\n",
    "    'mixingratio_15m_c',\n",
    "    'mixingratio_16m_c',\n",
    "    'mixingratio_17m_c',\n",
    "    'mixingratio_18m_c',\n",
    "    'mixingratio_19m_c',\n",
    "    'mixingratio_20m_c',\n",
    "]\n",
    "s_compare_df = tidy_df[tidy_df.variable.isin(kps_mixingratio_vars)].set_index('time').loc['20230505':'20230505'][['value', 'height']]\n",
    "s_compare_df['site'] = 'kps'\n",
    "s_compare_df_annex = s_annex_df.sort_index().loc['20230505':'20230505'].rename(columns={'mixing_ratio_annex': 'value'})\n",
    "s_compare_df_annex = s_compare_df_annex.resample('30min').mean()\n",
    "s_compare_df_annex['height'] = 2.8\n",
    "s_compare_df_annex['site'] = 'annex'\n",
    "s_compare_df = pd.concat([s_compare_df.reset_index(), s_compare_df_annex.reset_index()])\n",
    "s_compare_df['value'] = s_compare_df['value']*1000\n",
    "alt.Chart(s_compare_df).mark_line().encode(\n",
    "    alt.X('time:T'),\n",
    "    alt.Y('value:Q').scale(zero=False).title('mixing ratio (g/kg)'),\n",
    "    alt.Color('height:N').scale(\n",
    "        domain = [2.8, 2, 3, 4],\n",
    "        range = ['black', '#1f77b4', '#ff7f0e', '#2ca02c']\n",
    "    )\n",
    ").properties(width=400, height=200)"
   ]
  },
  {
   "cell_type": "code",
   "execution_count": null,
   "metadata": {},
   "outputs": [],
   "source": [
    "(alt.Chart(\n",
    "    tidy_df.query(\"measurement == 'wind speed'\").set_index('time').loc['20230415'].reset_index()\n",
    ").mark_line().encode(\n",
    "    alt.X('time:T'),\n",
    "    alt.Y('value:Q'),\n",
    "    alt.Color('height:O').scale(scheme='turbo'),\n",
    "    alt.StrokeDash('tower:N')\n",
    ") & alt.Chart(\n",
    "    tidy_df.query(\"measurement == 'temperature'\").set_index('time').loc['20230415'].reset_index()\n",
    ").mark_line().encode(\n",
    "    alt.X('time:T'),\n",
    "    alt.Y('value:Q'),\n",
    "    alt.Color('height:O').scale(scheme='turbo'),\n",
    "    alt.StrokeDash('tower:N')\n",
    ")).resolve_scale(color='independent', strokeDash='independent')"
   ]
  },
  {
   "cell_type": "code",
   "execution_count": null,
   "metadata": {},
   "outputs": [],
   "source": [
    "(alt.Chart(\n",
    "    tidy_df.query(\"measurement == 'wind speed'\").set_index('time').loc['20230417'].reset_index()\n",
    ").mark_line().encode(\n",
    "    alt.X('time:T'),\n",
    "    alt.Y('value:Q'),\n",
    "    alt.Color('height:O').scale(scheme='turbo'),\n",
    "    alt.StrokeDash('tower:N')\n",
    ") & alt.Chart(\n",
    "    tidy_df.query(\"measurement == 'temperature'\").set_index('time').loc['20230417'].reset_index()\n",
    ").mark_line().encode(\n",
    "    alt.X('time:T'),\n",
    "    alt.Y('value:Q'),\n",
    "    alt.Color('height:O').scale(scheme='turbo'),\n",
    "    alt.StrokeDash('tower:N')\n",
    ")).resolve_scale(color='independent', strokeDash='independent')"
   ]
  },
  {
   "cell_type": "code",
   "execution_count": null,
   "metadata": {},
   "outputs": [],
   "source": [
    "s_compare_df['site_and_height'] = s_compare_df['site'] + '_' + s_compare_df['height'].astype('str')\n",
    "s_compare_df = s_compare_df.pivot(index='time', values='value', columns='site_and_height')\n",
    "(s_compare_df['kps_3.0'] - s_compare_df['annex_2.8']).plot()"
   ]
  },
  {
   "cell_type": "code",
   "execution_count": null,
   "metadata": {},
   "outputs": [],
   "source": [
    "(s_compare_df['kps_3.0'] - s_compare_df['annex_2.8']).mean(), (s_compare_df['kps_3.0'] - s_compare_df['annex_2.8']).max(), (s_compare_df['kps_3.0'] - s_compare_df['annex_2.8']).min()"
   ]
  },
  {
   "cell_type": "code",
   "execution_count": null,
   "metadata": {},
   "outputs": [],
   "source": [
    "(s_compare_df['kps_20.0'] - s_compare_df['kps_3.0']).plot()"
   ]
  },
  {
   "cell_type": "code",
   "execution_count": null,
   "metadata": {},
   "outputs": [],
   "source": [
    "(s_compare_df['kps_20.0'] - s_compare_df['kps_3.0']).mean(),(s_compare_df['kps_20.0'] - s_compare_df['kps_3.0']).max(),(s_compare_df['kps_20.0'] - s_compare_df['kps_3.0']).min(),"
   ]
  },
  {
   "cell_type": "code",
   "execution_count": null,
   "metadata": {},
   "outputs": [],
   "source": [
    "src = s_compare_df.query(\"height <= 20\").query(\"height > 0\")\n",
    "alt.Chart(src).transform_filter(\n",
    "    'hours(datum.time) % 3 == 0 & hours(datum.time) >= 6 & hours(datum.time) <= 18'\n",
    ").mark_line(point=True).encode(\n",
    "    alt.X('mean(value):Q').scale(zero=False).title(['mixing ratio', '(g/kg)']).axis(values=[2,3,4]),\n",
    "    alt.Y('height').title('height (m)'),\n",
    "    alt.Color('site:N', sort='descending').scale(\n",
    "        domain = ['kps', 'annex'],\n",
    "        range = ['#ff7f0e', 'black', ],\n",
    "    ),\n",
    "    alt.Order('height'),\n",
    "    alt.Facet('hours(time):T', columns=5, spacing=2).header(format='%H:%M')\n",
    ").properties(width=75, height=100).resolve_scale(x='shared').display(renderer='svg')"
   ]
  },
  {
   "cell_type": "code",
   "execution_count": null,
   "metadata": {},
   "outputs": [],
   "source": [
    "alt.Chart(\n",
    "    tidy_df[tidy_df.variable == 'spd_3m_c'].set_index('time').loc['20230505':'20230505'].reset_index()\n",
    ").mark_line().encode(\n",
    "    alt.X('time:T'),\n",
    "    alt.Y('value:Q').title('Horizontal wind speed (m/s)')\n",
    ").properties(width=400, height=200)"
   ]
  },
  {
   "cell_type": "code",
   "execution_count": null,
   "metadata": {},
   "outputs": [],
   "source": [
    "alt.Chart(\n",
    "    tidy_df[tidy_df.measurement == 'w_h2o_'].query(\"tower == 'c'\").set_index('time').loc['20230505 1000 ': '20230505 1700'].reset_index()\n",
    ").mark_line().encode(\n",
    "    alt.X('mean(value):Q').sort('-y'),\n",
    "    alt.Y('height:Q'),\n",
    "    alt.Color('minutes(time):N'),\n",
    "    alt.Facet('hours(time)', columns=8)\n",
    ").properties(height = 100, width= 100) &\\\n",
    "alt.Chart(\n",
    "    tidy_df[tidy_df.measurement == 'w'].query(\"tower == 'c'\").set_index('time').loc['20230505 1000 ': '20230505 1700'].reset_index()\n",
    ").mark_line().encode(\n",
    "    alt.X('mean(value):Q').sort('-y'),\n",
    "    alt.Y('height:Q'),\n",
    "    alt.Color('minutes(time):N'),\n",
    "    alt.Facet('hours(time)', columns=8)\n",
    ").properties(height = 100, width= 100) &\\\n",
    "alt.Chart(\n",
    "    tidy_df[tidy_df.measurement == 'mixing ratio'].query(\"tower == 'c'\").set_index('time').loc['20230505 1000 ': '20230505 1700'].reset_index()\n",
    ").mark_line().encode(\n",
    "    alt.X('mean(value):Q').sort('-y'),\n",
    "    alt.Y('height:Q'),\n",
    "    alt.Color('minutes(time):N'),\n",
    "    alt.Facet('hours(time)', columns=8)\n",
    ").properties(height = 100, width= 100)"
   ]
  },
  {
   "cell_type": "code",
   "execution_count": null,
   "metadata": {},
   "outputs": [],
   "source": [
    "\n",
    "src = tidy_df[tidy_df.measurement == 'wind direction'][tidy_df.height.isin([3,10,20])]\n",
    "src = src.set_index('time').loc['20230501':'20230508'].reset_index()\n",
    "alt.Chart(src).mark_line().encode(\n",
    "    alt.X('time:T'),\n",
    "    alt.Y('value:Q'),\n",
    "    alt.StrokeDash('height:O')\n",
    ").properties(width=1000)"
   ]
  },
  {
   "cell_type": "code",
   "execution_count": null,
   "metadata": {},
   "outputs": [],
   "source": [
    "src = advection_1d_fluxdensity_nonnorm_df.loc['20230415': '20230420'][[\n",
    "        'w_h2o__3m_c',\n",
    "        'w_h2o__20m_c',\n",
    "        'vertical_advection_simple_3to20',\n",
    "        'vertical_turb_flux_divergence_3to20',\n",
    "        'lateral_advection_3m',\n",
    "        'ds/dt'\n",
    "    ]].reset_index()\n",
    "\n",
    "april_casestudy_differential_form = (\n",
    "    alt.Chart(src).transform_fold([\n",
    "        'vertical_advection_simple_3to20',\n",
    "        'vertical_turb_flux_divergence_3to20',\n",
    "        'lateral_advection_3m',\n",
    "        'ds/dt'\n",
    "    ]).transform_window(\n",
    "        rolling_avg = 'mean(value)',\n",
    "        frame=[-2,2],\n",
    "        groupby = ['key']\n",
    "    ).mark_line().encode(\n",
    "        alt.X('time:T'). axis(format='%m/%d').title(None),\n",
    "        alt.Y('rolling_avg:Q').title(['Water vapor flux density', '(g/m^2/s)']),\n",
    "        alt.Color('key:N')\n",
    "    ).properties(width=400, height = 200) &\n",
    "    alt.Chart(\n",
    "        tidy_df[tidy_df.measurement == 'snow flux'].set_index('time').loc['20230415': '20230420'].reset_index()\n",
    "    ).mark_line(color='black').encode(\n",
    "        alt.X('time:T'). axis(format='%m/%d').title(None),\n",
    "        alt.Y('value:Q').title(['Blowing snow flux', '(g/m^2/s)']),\n",
    "        alt.StrokeDash('height:N', )\n",
    "    ).properties(width=400, height = 200)\n",
    ").resolve_scale(x='shared', color='independent', strokeDash='independent')\n",
    "\n",
    "april_casestudy_differential_form"
   ]
  },
  {
   "cell_type": "markdown",
   "metadata": {},
   "source": [
    "### Mid-May Case Study, lateral advection due to source heterogeneity"
   ]
  },
  {
   "cell_type": "code",
   "execution_count": null,
   "metadata": {},
   "outputs": [],
   "source": [
    "src = advection_1d_fluxdensity_nonnorm_df.loc['20230510': '20230520'][[\n",
    "        'w_h2o__3m_c',\n",
    "        'w_h2o__20m_c',\n",
    "        'vertical_advection_simple_3to20',\n",
    "        'vertical_turb_flux_divergence_3to20',\n",
    "        'lateral_advection_3m',\n",
    "        'ds/dt'\n",
    "    ]].reset_index()\n",
    "\n",
    "may_casestudy_differential_form = (\n",
    "    alt.Chart(src).transform_fold([\n",
    "        'vertical_advection_simple_3to20',\n",
    "        'vertical_turb_flux_divergence_3to20',\n",
    "        'lateral_advection_3m',\n",
    "        'ds/dt'\n",
    "    ]).transform_window(\n",
    "        rolling_avg = 'mean(value)',\n",
    "        frame=[-2,2],\n",
    "        groupby = ['key']\n",
    "    ).mark_line().encode(\n",
    "        alt.X('time:T'). axis(format='%m/%d').title(None),\n",
    "        alt.Y('rolling_avg:Q').title(['Water vapor flux density', '(g/m^2/s)']),\n",
    "        alt.Color('key:N')\n",
    "    ).properties(width=400, height = 200) &\n",
    "    alt.Chart(\n",
    "        tidy_df[tidy_df.measurement == 'snow flux'].set_index('time').loc['20230510': '20230520'].reset_index()\n",
    "    ).mark_line(color='black').encode(\n",
    "        alt.X('time:T'). axis(format='%m/%d').title(None),\n",
    "        alt.Y('value:Q').title(['Blowing snow flux', '(g/m^2/s)']),\n",
    "        alt.StrokeDash('height:N', )\n",
    "    ).properties(width=400, height = 200)\n",
    ").resolve_scale(x='shared', color='independent', strokeDash='independent')\n",
    "\n",
    "may_casestudy_differential_form"
   ]
  },
  {
   "cell_type": "markdown",
   "metadata": {},
   "source": [
    "# Data exploration"
   ]
  },
  {
   "cell_type": "markdown",
   "metadata": {},
   "source": [
    "## Compare IRGA and Hygrometer measurements"
   ]
  },
  {
   "cell_type": "code",
   "execution_count": null,
   "metadata": {},
   "outputs": [],
   "source": [
    "comparison_df = pd.concat([\n",
    "    (1000*tidy_df[tidy_df.measurement=='specific humidity'].set_index(['time','height','tower', 'measurement'])),\n",
    "    tidy_df[tidy_df.measurement=='air density'].set_index(['time','height','tower', 'measurement']),\n",
    "    tidy_df[tidy_df.measurement=='Water vapor density'].set_index(['time','height','tower', 'measurement'])\n",
    "])[['value']]\n",
    "comparison_df = comparison_df.reset_index().pivot_table(values='value', columns='measurement', index=['time','height','tower'])\n",
    "comparison_df ['Water vapor density (hygr)'] = comparison_df['air density'] * comparison_df['specific humidity']\n",
    "comparison_df = comparison_df.rename(columns={'Water vapor density': 'Water vapor density (irga)'})\n",
    "comparison_df"
   ]
  },
  {
   "cell_type": "code",
   "execution_count": null,
   "metadata": {},
   "outputs": [],
   "source": [
    "\n",
    "\n",
    "src = comparison_df.loc[:,3,'c'].reset_index()\n",
    "# max_val = math.ceil(\n",
    "#     src[['Water vapor density (hygr)', 'Water vapor density (irga)']].dropna().values.max()\n",
    "# )\n",
    "max_val = 7\n",
    "line = pd.DataFrame({\n",
    "    'Goals Conceded': [0, max_val],\n",
    "    'Goals': [0, max_val],\n",
    "})\n",
    "\n",
    "arr = np.array([0, max_val] * (len(src) // 2))\n",
    "if len(arr) < len(src):\n",
    "    src['one'] = list(arr) + [0]\n",
    "    src['onetoone'] = list(arr) + [0]\n",
    "else:\n",
    "    src['one'] = list(arr)\n",
    "    src['onetoone'] = list(arr)\n",
    "\n",
    "line_plot = alt.Chart().mark_line(color= 'grey').encode(\n",
    "    alt.X('one', title=''),\n",
    "    alt.Y('onetoone', title='')\n",
    ")\n",
    "scatter_plot = alt.Chart().mark_rect().encode(\n",
    "    alt.X('Water vapor density (hygr):Q').scale(domain = [0, max_val], clamp=True).bin(maxbins=75).axis(values=[0,1,2,3,4,5,6,7]).title('Water vapor density (hygr)'),\n",
    "    alt.Y('Water vapor density (irga):Q').scale(domain = [0, max_val], clamp=True).bin(maxbins=75).axis(values=[0,1,2,3,4,5,6,7]).title('Water vapor density (irga)'),\n",
    "    alt.Color('count()'),\n",
    ").properties(width=200, height=200)\n",
    "\n",
    "src['diff'] = (src.set_index('time')['Water vapor density (irga)'] - src.set_index('time')['Water vapor density (hygr)']).values\n",
    "\n",
    "\n",
    "meanerror_by_month = round(src.groupby(src.time.dt.month).mean().drop(columns='time')['diff'], 3)\n",
    "r2_by_month = round(src.groupby(src.time.dt.month)[[\n",
    "    'Water vapor density (hygr)', 'Water vapor density (irga)'\n",
    "]].apply(\n",
    "    lambda df: r2_score(df.dropna()['Water vapor density (hygr)'], df.dropna()['Water vapor density (irga)'])\n",
    "), 3)\n",
    "\n",
    "def r2_plot(month, title):\n",
    "    return alt.layer(\n",
    "        scatter_plot,\n",
    "        line_plot,\n",
    "        data=src[(src.time.dt.month == month)]\n",
    "    ).properties(title=f'{title} (ME: {meanerror_by_month.loc[month]}, R2: {r2_by_month.loc[month]})')\n",
    "\n",
    "(\n",
    "    r2_plot(11, 'Nov.') | r2_plot(12, 'Dec.') | r2_plot(1, 'Jan.') | r2_plot(2, 'Feb.') | r2_plot(3, 'Mar.') | r2_plot(4, 'Apr.') | r2_plot(5, 'May') \n",
    ") & (\n",
    "    alt.layer(\n",
    "        alt.Chart().mark_rule().transform_calculate(\n",
    "            y = '0'\n",
    "        ).mark_rule().encode(alt.Y('y:Q')),\n",
    "        alt.Chart().mark_line().encode(\n",
    "            alt.X('hoursminutes(time):T'),\n",
    "            alt.Y('mean(diff):Q').title('Mean difference (irga - hygr) (g/m^3)'),\n",
    "        ),\n",
    "        data = src[(src.time.dt.month != 10)]\n",
    "    ).properties(width=230, height=230).facet(\n",
    "        column=alt.Column('month(time):T', sort=[11,12,1,2,3,4,5,6])\n",
    "    )  \n",
    ")"
   ]
  },
  {
   "cell_type": "markdown",
   "metadata": {},
   "source": [
    "# DL vertical staring BL turbulence"
   ]
  },
  {
   "cell_type": "code",
   "execution_count": null,
   "metadata": {},
   "outputs": [],
   "source": [
    "import act.discovery, act.io\n",
    "# Inputs\n",
    "username = os.getenv(\"ARM_USERNAME\")\n",
    "token = os.getenv(\"ARM_TOKEN\")\n",
    "DATE_FORMAT_STR = '%Y-%m-%d'\n",
    "start_date = \"20230505\"\n",
    "end_date = \"20230506\"\n",
    "DLW_DATA_STREAM = 'gucdlprofwstats4newsM1.c1'\n",
    "DLW_DATA_STREAM_FILEEXT = '.cdf'\n",
    "DLW_OUTPUT_DIR = os.path.join(\"/Users/elischwat/Development/data/sublimationofsnow/\", DLW_DATA_STREAM)\n",
    "file_list = act.discovery.download_arm_data(\n",
    "            username, token, DLW_DATA_STREAM, start_date, end_date, output = DLW_OUTPUT_DIR)"
   ]
  },
  {
   "cell_type": "code",
   "execution_count": null,
   "metadata": {},
   "outputs": [],
   "source": [
    "wstats_df = act.io.read_arm_netcdf(file_list).to_dataframe().reset_index()\n",
    "wstats_df = utils.modify_df_timezone(wstats_df, 'UTC', 'US/Mountain')\n",
    "wstats_df = wstats_df[(wstats_df.time > '20230505') & (wstats_df.time < '20230506')]\n",
    "wstats_df['time_low'] = wstats_df['time'] - dt.timedelta(minutes=5)\n",
    "wstats_df['time_high'] = wstats_df['time'] + dt.timedelta(minutes=5)\n",
    "wstats_df['height_low'] = wstats_df['height'] - 15\n",
    "wstats_df['height_high'] = wstats_df['height'] + 15\n",
    "wstats_df = wstats_df.rename(columns={'w_variance': 'value'})"
   ]
  },
  {
   "cell_type": "code",
   "execution_count": null,
   "metadata": {},
   "outputs": [],
   "source": [
    "alt.Chart(\n",
    "    wstats_df.set_index('time').query(\"height < 1000\").reset_index()\n",
    ").mark_bar().encode(\n",
    "    alt.X('w:Q').title([\"w\", \"(m/s)\"]).bin(step=0.25).axis(values=[-4,-2,-1,0,1,2,4]),\n",
    "    alt.Y('count():Q')\n",
    ").properties(\n",
    "    width=200, height = 200,\n",
    ") | alt.Chart(\n",
    "    wstats_df.set_index('time').query(\"height < 1000\").reset_index()\n",
    ").mark_rect().encode(\n",
    "    alt.X('time_low:T').title('time'),\n",
    "    alt.X2('time_high:T'),\n",
    "    alt.Y('height_low:Q').title('Height (m)'),\n",
    "    alt.Y2('height_high:Q'),\n",
    "    alt.Color('w:Q').title([\"w\", \"(m/s)\"]).scale(scheme='purpleorange', domain=[-1,1],),\n",
    "    tooltip='value'\n",
    ").properties(\n",
    "    width=500, height = 200,\n",
    "    title = 'Vertical velocity from Doppler Lidar at Gothic'\n",
    ")"
   ]
  },
  {
   "cell_type": "code",
   "execution_count": null,
   "metadata": {},
   "outputs": [],
   "source": [
    "src = wstats_df.set_index('time').query(\"height < 1000\")[['w', 'height']]\n",
    "src = src.groupby([pd.Grouper(freq='30min'), 'height']).mean().reset_index()\n",
    "src['time_low'] = src['time'] - dt.timedelta(minutes=15)\n",
    "src['time_high'] = src['time'] + dt.timedelta(minutes=15)\n",
    "src['height_low'] = src['height'] - 15\n",
    "src['height_high'] = src['height'] + 15\n",
    "\n",
    "alt.Chart(\n",
    "    src\n",
    ").mark_rect().encode(\n",
    "    alt.X('time_low:T').title('time'),\n",
    "    alt.X2('time_high:T'),\n",
    "    alt.Y('height_low:Q').title('Height (m)'),\n",
    "    alt.Y2('height_high:Q'),\n",
    "    alt.Color('w:Q').title([\"w\", \"(m/s)\"]).scale(scheme='purpleorange', domain=[-1,1],),\n",
    ").properties(\n",
    "    width=500, height = 200,\n",
    "    title = 'Vertical velocity from Doppler Lidar at Gothic'\n",
    ") &\\\n",
    "alt.Chart(\n",
    "    wstats_df.set_index('time').query(\"height < 500\")[['w', 'height']].reset_index()\n",
    ").mark_line().encode(\n",
    "    alt.X('time:T'),\n",
    "    alt.Y('mean(w):Q')\n",
    ").properties(width=500, height = 200)"
   ]
  },
  {
   "cell_type": "code",
   "execution_count": null,
   "metadata": {},
   "outputs": [],
   "source": [
    "alt.Chart(wstats_df).mark_bar().encode(\n",
    "    alt.X('value:Q').title([\"w'w'\", \"(m² s⁻²)\"]).bin(step=2),\n",
    "    alt.Y('count():Q')\n",
    ").properties(\n",
    "    width=200, height = 200,\n",
    ") | alt.Chart(\n",
    "    wstats_df.set_index('time').query(\"height < 2000\").reset_index()\n",
    ").mark_rect().encode(\n",
    "    alt.X('time_low:T').title('time'),\n",
    "    alt.X2('time_high:T'),\n",
    "    alt.Y('height_low:Q').title('Height (m)'),\n",
    "    alt.Y2('height_high:Q'),\n",
    "    alt.Color('value:Q').title([\"w'w'\", \"(m² s⁻²)\"]).scale(scheme='turbo'),\n",
    "    tooltip='value'\n",
    ").properties(\n",
    "    width=500, height = 200,\n",
    "    title = 'Vertical velocity variance from Doppler Lidar at Gothic'\n",
    ")"
   ]
  },
  {
   "cell_type": "code",
   "execution_count": null,
   "metadata": {},
   "outputs": [],
   "source": [
    "src = tidy_df[\n",
    "        (tidy_df.time > '20230505') & (tidy_df.time < '20230506')\n",
    "    ].query(\"measurement == 'w_w_'\").query(\"tower == 'c'\")\n",
    "src['time_low'] = src['time'] - dt.timedelta(minutes=15)\n",
    "src['time_high'] = src['time'] + dt.timedelta(minutes=15)\n",
    "src['height_low'] = src['height'].apply(lambda h: {\n",
    "    1: 0,\n",
    "    2: 1,\n",
    "    3: 2,\n",
    "    5: 3,\n",
    "    10: 6.25,\n",
    "    15: 10.25,\n",
    "    20: 14.5,\n",
    "}.get(h))\n",
    "src['height_high'] = src['height'].apply(lambda h: {\n",
    "    1: 1,\n",
    "    2: 2,\n",
    "    3: 3,\n",
    "    5: 6.25,\n",
    "    10: 10.25,\n",
    "    15: 14.5,\n",
    "    20: 20,\n",
    "}.get(h))\n",
    "\n",
    "alt.Chart(src).mark_bar().encode(\n",
    "    alt.X('value:Q').title([\"w'w' (m² s⁻²)\"]).bin(),\n",
    "    alt.Y('count():Q')\n",
    ").properties(\n",
    "    width=200, height = 200,\n",
    ") | alt.Chart(\n",
    "    src\n",
    ").mark_rect().encode(\n",
    "    alt.X('time_low:T').title('time'),\n",
    "    alt.X2('time_high:T'),\n",
    "    alt.Y('height_low:Q').title('Height (m)'),\n",
    "    alt.Y2('height_high:Q'),\n",
    "    alt.Color('value:Q').title([\"w'w'\", \"(m² s⁻²)\"]).scale(scheme='turbo'),\n",
    "    tooltip='value'\n",
    ").properties(\n",
    "    width=500, height = 200,\n",
    "    title = \"w'w' from Tower c\"\n",
    ")"
   ]
  },
  {
   "cell_type": "code",
   "execution_count": null,
   "metadata": {},
   "outputs": [],
   "source": [
    "upper_chart = alt.Chart(\n",
    "        wstats_df.set_index('time').query(\"height < 2000\").query(\"height >= 20\").reset_index()\n",
    "    ).mark_rect().encode(\n",
    "        alt.X('time_low:T').title('time').axis(None),\n",
    "        alt.X2('time_high:T'),\n",
    "        alt.Y('height_low:Q').title('Height (m)').scale(domain = [20, 2000]),\n",
    "        alt.Y2('height_high:Q'),\n",
    "        alt.Color('value:Q').title([\"w'w'\", \"(m² s⁻²)\"]).scale(scheme='turbo'),\n",
    "        tooltip='value'\n",
    "    ).properties(\n",
    "        width=500, height = 200,\n",
    "        title = 'Vertical velocity variance from Doppler Lidar at Gothic'\n",
    "    )\n",
    "lower_chart = alt.Chart(\n",
    "        src\n",
    "    ).mark_rect().encode(\n",
    "        alt.X('time_low:T').title('time'),\n",
    "        alt.X2('time_high:T'),\n",
    "        alt.Y('height_low:Q').title('Height (m)'),\n",
    "        alt.Y2('height_high:Q'),\n",
    "        alt.Color('value:Q').title([\"w'w'\", \"(m² s⁻²)\"]).scale(domain=[0,8], scheme='turbo'),\n",
    "        tooltip='value'\n",
    "    ).properties(\n",
    "        width=500, height = 100,\n",
    "    )\n",
    "alt.vconcat(\n",
    "    upper_chart,\n",
    "    lower_chart,\n",
    "    spacing = -2\n",
    ").resolve_scale(x='shared', color='shared')"
   ]
  },
  {
   "cell_type": "code",
   "execution_count": null,
   "metadata": {},
   "outputs": [],
   "source": [
    "alt.Chart(src.loc['20230505']).mark_circle().encode(\n",
    "    alt.X('value:Q'),\n",
    "    alt.Y('height:Q')\n",
    ").properties(width=250,height=150)"
   ]
  },
  {
   "cell_type": "code",
   "execution_count": null,
   "metadata": {},
   "outputs": [],
   "source": []
  },
  {
   "cell_type": "code",
   "execution_count": null,
   "metadata": {},
   "outputs": [],
   "source": [
    "src = tidy_df.query(\"measurement == 'w'\").query(\"tower == 'c'\")\n",
    "src = src[src.time > '20230322']\n",
    "src = src[src.time < '20230323']\n",
    "src\n",
    "alt.Chart(src).mark_line().encode(\n",
    "    alt.X('time:T'),\n",
    "    alt.Y('value:Q'),\n",
    "    alt.Color('height:O')\n",
    ") + alt.Chart().mark_rule().transform_calculate(y='0').encode(y='y:Q')"
   ]
  },
  {
   "cell_type": "code",
   "execution_count": null,
   "metadata": {},
   "outputs": [],
   "source": []
  }
 ],
 "metadata": {
  "kernelspec": {
   "display_name": "sublimationofsnow",
   "language": "python",
   "name": "python3"
  },
  "language_info": {
   "codemirror_mode": {
    "name": "ipython",
    "version": 3
   },
   "file_extension": ".py",
   "mimetype": "text/x-python",
   "name": "python",
   "nbconvert_exporter": "python",
   "pygments_lexer": "ipython3",
   "version": "3.12.5"
  }
 },
 "nbformat": 4,
 "nbformat_minor": 2
}
