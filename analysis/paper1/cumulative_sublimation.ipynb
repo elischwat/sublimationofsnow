{
 "cells": [
  {
   "cell_type": "code",
   "execution_count": 33,
   "metadata": {},
   "outputs": [],
   "source": [
    "import pandas as pd\n",
    "import act\n",
    "import glob\n",
    "import xarray as xr\n",
    "import numpy as np\n",
    "\n",
    "import altair as alt\n",
    "alt.data_transformers.enable('json')\n",
    "\n",
    "from sublimpy import tidy\n",
    "import datetime as dt"
   ]
  },
  {
   "attachments": {},
   "cell_type": "markdown",
   "metadata": {},
   "source": [
    "# User inputs"
   ]
  },
  {
   "cell_type": "code",
   "execution_count": 34,
   "metadata": {},
   "outputs": [],
   "source": [
    "start_date = '20221130'\n",
    "end_date = '20230509'\n",
    "\n",
    "start_date_lastseason = '20211101'\n",
    "end_date_lastseason = '20220601'\n",
    "\n",
    "tidy_dataset_fn = f\"../sos/tidy_df_30Min_{start_date}_{end_date}_noplanar_fit.parquet\"\n",
    "tidy_daily_dataset_output_fn = f\"tidy_df_daily_{start_date}_{end_date}_noplanar_fit.parquet\""
   ]
  },
  {
   "attachments": {},
   "cell_type": "markdown",
   "metadata": {},
   "source": [
    "# Load data"
   ]
  },
  {
   "attachments": {},
   "cell_type": "markdown",
   "metadata": {},
   "source": [
    "## SoS\n",
    "\n",
    "This dataset is created by the `create_turbulence_dataset.ipynb` notebook"
   ]
  },
  {
   "cell_type": "code",
   "execution_count": 35,
   "metadata": {},
   "outputs": [],
   "source": [
    "try:\n",
    "    tidy_df_30Min = pd.read_parquet(\n",
    "        tidy_dataset_fn\n",
    "    )\n",
    "except FileNotFoundError:\n",
    "    print(\"No file such file exists for these dates.\")\n",
    "tidy_df_30Min['time'] = pd.to_datetime(tidy_df_30Min['time'])"
   ]
  },
  {
   "attachments": {},
   "cell_type": "markdown",
   "metadata": {},
   "source": [
    "## SAIL ECOR"
   ]
  },
  {
   "cell_type": "code",
   "execution_count": 36,
   "metadata": {},
   "outputs": [],
   "source": [
    "# username = os.getenv(\"ARM_USERNAME\")\n",
    "# token = os.getenv(\"ARM_TOKEN\")\n",
    "# ecor_gothic = 'guc/30ecorM1.b1'\n",
    "# ecor_kp = 'guc30ecorS3.b1'\n",
    "# output_dir = '/data2/elilouis/sublimationofsnow/'\n",
    "\n",
    "# kp_sail_ecor_download_dir = os.path.join(output_dir, ecor_kp)\n",
    "# gothic_sail_ecor_download_dir = os.path.join(output_dir, ecor_gothic)"
   ]
  },
  {
   "cell_type": "code",
   "execution_count": 37,
   "metadata": {},
   "outputs": [],
   "source": [
    "# act.discovery.download_data(\n",
    "#     username,    token,    ecor_gothic,    \n",
    "#     start_date_lastseason,\n",
    "#     end_date,\n",
    "#     output = os.path.join(output_dir, ecor_gothic)\n",
    "# )\n",
    "# act.discovery.download_data(\n",
    "#     username,    token,    ecor_kp,    \n",
    "#     start_date_lastseason,\n",
    "#     end_date,\n",
    "#     output = os.path.join(output_dir, ecor_kp)\n",
    "# )"
   ]
  },
  {
   "cell_type": "code",
   "execution_count": 38,
   "metadata": {},
   "outputs": [],
   "source": [
    "# ecor_gothic_ds = act.io.armfiles.read_netcdf(\n",
    "#     glob.glob(os.path.join(output_dir, ecor_gothic, '*.cdf'))\n",
    "# )\n",
    "# ecor_gothic_ds_thisseason = ecor_gothic_ds.sel(time = slice(start_date, end_date))\n",
    "# ecor_gothic_ds_lastseason = ecor_gothic_ds.sel(time = slice(start_date_lastseason, end_date_lastseason))\n",
    "# del ecor_gothic_ds"
   ]
  },
  {
   "cell_type": "code",
   "execution_count": 39,
   "metadata": {},
   "outputs": [],
   "source": [
    "# ecor_kps_ds = act.io.armfiles.read_netcdf(\n",
    "#     glob.glob(os.path.join(output_dir, ecor_kp, '*.cdf'))\n",
    "# )\n",
    "# ecor_kps_ds_thisseason = ecor_kps_ds.sel(time = slice(start_date, end_date))\n",
    "# ecor_kps_ds_lastseason = ecor_kps_ds.sel(time = slice(start_date_lastseason, end_date_lastseason))\n",
    "# del ecor_kps_ds"
   ]
  },
  {
   "attachments": {},
   "cell_type": "markdown",
   "metadata": {},
   "source": [
    "# Cache SAIL data"
   ]
  },
  {
   "cell_type": "code",
   "execution_count": 40,
   "metadata": {},
   "outputs": [],
   "source": [
    "# ecor_gothic_ds_thisseason.to_netcdf('cumulative_sublimation-ecor_gothic_ds_thisseason.cdf')\n",
    "# ecor_kps_ds_thisseason.to_netcdf('cumulative_sublimation-ecor_kps_ds_thisseason.cdf')\n",
    "# ecor_gothic_ds_lastseason.to_netcdf('cumulative_sublimation-ecor_gothic_ds_lastseason.cdf')\n",
    "# ecor_kps_ds_lastseason.to_netcdf('cumulative_sublimation-ecor_kps_ds_lastseason.cdf')"
   ]
  },
  {
   "cell_type": "code",
   "execution_count": 41,
   "metadata": {},
   "outputs": [],
   "source": [
    "# ecor_gothic_ds_thisseason = xr.open_dataset('cumulative_sublimation-ecor_gothic_ds_thisseason.cdf')\n",
    "# ecor_kps_ds_thisseason = xr.open_dataset('cumulative_sublimation-ecor_kps_ds_thisseason.cdf')\n",
    "# ecor_gothic_ds_lastseason = xr.open_dataset('cumulative_sublimation-ecor_gothic_ds_lastseason.cdf')\n",
    "# ecor_kps_ds_lastseason = xr.open_dataset('cumulative_sublimation-ecor_kps_ds_lastseason.cdf')"
   ]
  },
  {
   "attachments": {},
   "cell_type": "markdown",
   "metadata": {},
   "source": [
    "# Examine Eddy Covariance QC flags at ECOR towers"
   ]
  },
  {
   "cell_type": "code",
   "execution_count": 42,
   "metadata": {},
   "outputs": [],
   "source": [
    "\n",
    "# import matplotlib.pyplot as plt\n",
    "# fig, axes = plt.subplots(2,1, figsize=(15,2*5/3))\n",
    "# ecor_kps_ds_lastseason['lv_e'].plot(ax = axes[0])\n",
    "# ecor_kps_ds_lastseason['qc_lv_e'].plot.scatter(ax = axes[1], color='k', s=1, marker='x')\n",
    "# for ax in axes:\n",
    "#     ax.set_ylabel(ax.get_ylabel(), rotation=0)\n",
    "#     ax.yaxis.set_label_coords(-0.1, 0.5)\n",
    "# plt.show()\n",
    "\n",
    "# fig, axes = plt.subplots(2,1, figsize=(15,2*5/3))\n",
    "# ecor_kps_ds_thisseason['lv_e'].plot(ax = axes[0])\n",
    "# ecor_kps_ds_thisseason['qc_lv_e'].plot.scatter(ax = axes[1], color='k', s=1, marker='x')\n",
    "# for ax in axes:\n",
    "#     ax.set_ylabel(ax.get_ylabel(), rotation=0)\n",
    "#     ax.yaxis.set_label_coords(-0.1, 0.5)\n",
    "# plt.show()"
   ]
  },
  {
   "attachments": {},
   "cell_type": "markdown",
   "metadata": {},
   "source": [
    "# Remove LH flux outliers"
   ]
  },
  {
   "cell_type": "code",
   "execution_count": 43,
   "metadata": {},
   "outputs": [],
   "source": [
    "def get_outlier_threshold(values, iqr_multiple = 100):\n",
    "    q1, q3 = np.percentile(sorted(values), [25, 75])\n",
    "\n",
    "    # compute IRQ\n",
    "    iqr = q3 - q1\n",
    "\n",
    "    # find lower and upper bounds\n",
    "    lower_bound = q1 - (iqr_multiple * iqr)\n",
    "    upper_bound = q3 + (iqr_multiple * iqr)\n",
    "    return lower_bound, upper_bound"
   ]
  },
  {
   "attachments": {},
   "cell_type": "markdown",
   "metadata": {},
   "source": [
    "## SoS"
   ]
  },
  {
   "cell_type": "code",
   "execution_count": 44,
   "metadata": {},
   "outputs": [
    {
     "name": "stdout",
     "output_type": "stream",
     "text": [
      "(-0.39412668454194016, 0.397650318807185)\n",
      "(-0.4041484573857209, 0.40781173511519836)\n"
     ]
    },
    {
     "name": "stdout",
     "output_type": "stream",
     "text": [
      "(-0.4011447868879259, 0.40468159659394587)\n",
      "(-0.40724045862589264, 0.4108625949584166)\n"
     ]
    }
   ],
   "source": [
    "for variable in [\n",
    "    'w_h2o__3m_uw',\n",
    "    'w_h2o__3m_ue',\n",
    "    'w_h2o__3m_c',\n",
    "    'w_h2o__3m_d'\n",
    "]:\n",
    "    filter = tidy_df_30Min.variable == variable\n",
    "    lower_bound, upper_bound = get_outlier_threshold(\n",
    "        tidy_df_30Min.loc[filter, 'value'].dropna().values\n",
    "    )\n",
    "    print((lower_bound, upper_bound))\n",
    "    tidy_df_30Min.loc[filter, 'value'] = tidy_df_30Min.loc[filter, 'value'].where(\n",
    "            (tidy_df_30Min.loc[filter, 'value'] > lower_bound) & \n",
    "            (tidy_df_30Min.loc[filter, 'value'] < upper_bound)\n",
    "        )"
   ]
  },
  {
   "attachments": {},
   "cell_type": "markdown",
   "metadata": {},
   "source": [
    "## ECOR"
   ]
  },
  {
   "cell_type": "code",
   "execution_count": 45,
   "metadata": {},
   "outputs": [],
   "source": [
    "# lower_bound, upper_bound = get_outlier_threshold(\n",
    "#     ecor_kps_ds_thisseason['cvar_wq'].dropna(dim='time').values\n",
    "# )\n",
    "# print((lower_bound, upper_bound))\n",
    "# ecor_kps_ds_thisseason['cvar_wq'] = ecor_kps_ds_thisseason['cvar_wq'].where(\n",
    "#         (ecor_kps_ds_thisseason['cvar_wq'] > lower_bound) & \n",
    "#         (ecor_kps_ds_thisseason['cvar_wq'] < upper_bound)\n",
    "#     )\n",
    "\n",
    "# lower_bound, upper_bound = get_outlier_threshold(\n",
    "#     ecor_gothic_ds_thisseason['cvar_wq'].dropna(dim='time').values\n",
    "# )\n",
    "# print((lower_bound, upper_bound))\n",
    "# ecor_gothic_ds_thisseason['cvar_wq'] = ecor_gothic_ds_thisseason['cvar_wq'].where(\n",
    "#         (ecor_gothic_ds_thisseason['cvar_wq'] > lower_bound) & \n",
    "#         (ecor_gothic_ds_thisseason['cvar_wq'] < upper_bound)\n",
    "#     )\n",
    "\n",
    "\n",
    "# lower_bound, upper_bound = get_outlier_threshold(\n",
    "#     ecor_kps_ds_lastseason['cvar_wq'].dropna(dim='time').values\n",
    "# )\n",
    "# print((lower_bound, upper_bound))\n",
    "# ecor_kps_ds_lastseason['cvar_wq'] = ecor_kps_ds_lastseason['cvar_wq'].where(\n",
    "#         (ecor_kps_ds_lastseason['cvar_wq'] > lower_bound) & \n",
    "#         (ecor_kps_ds_lastseason['cvar_wq'] < upper_bound)\n",
    "#     )\n",
    "\n",
    "# lower_bound, upper_bound = get_outlier_threshold(\n",
    "#     ecor_gothic_ds_lastseason['cvar_wq'].dropna(dim='time').values\n",
    "# )\n",
    "# print((lower_bound, upper_bound))\n",
    "# ecor_gothic_ds_lastseason['cvar_wq'] = ecor_gothic_ds_lastseason['cvar_wq'].where(\n",
    "#         (ecor_gothic_ds_lastseason['cvar_wq'] > lower_bound) & \n",
    "#         (ecor_gothic_ds_lastseason['cvar_wq'] < upper_bound)\n",
    "#     )"
   ]
  },
  {
   "attachments": {},
   "cell_type": "markdown",
   "metadata": {},
   "source": [
    "# Calculate cumulative sublimation with daily mean latent heat fluxes"
   ]
  },
  {
   "attachments": {},
   "cell_type": "markdown",
   "metadata": {},
   "source": [
    "## SoS"
   ]
  },
  {
   "attachments": {},
   "cell_type": "markdown",
   "metadata": {},
   "source": [
    "### Create daily dataset"
   ]
  },
  {
   "cell_type": "code",
   "execution_count": 46,
   "metadata": {},
   "outputs": [
    {
     "name": "stderr",
     "output_type": "stream",
     "text": [
      "/tmp/ipykernel_211974/400594300.py:12: UserWarning: Boolean Series key will be reindexed to match DataFrame index.\n",
      "  tidy_df_daily = tidy_df_daily[\n"
     ]
    }
   ],
   "source": [
    "tidy_df_30Min['date'] = tidy_df_30Min['time'].dt.date\n",
    "\n",
    "tidy_df_daily = tidy_df_30Min.drop(columns=['time']).groupby(\n",
    "    ['date', 'tower', 'height', 'measurement', 'variable']\n",
    ").mean().reset_index()\n",
    "\n",
    "tidy_df_daily['time'] = pd.to_datetime(tidy_df_daily['date'])\n",
    "\n",
    "tidy_df_daily = tidy_df_daily.drop(columns=['date'])\n",
    "\n",
    "# remove days with only partial data\n",
    "tidy_df_daily = tidy_df_daily[\n",
    "    tidy_df_daily.time > tidy_df_daily.time.min()\n",
    "][\n",
    "    tidy_df_daily.time < tidy_df_daily.time.max()\n",
    "]"
   ]
  },
  {
   "attachments": {},
   "cell_type": "markdown",
   "metadata": {},
   "source": [
    "### Calculate cumulative sublimation"
   ]
  },
  {
   "cell_type": "code",
   "execution_count": 47,
   "metadata": {},
   "outputs": [],
   "source": [
    "for variable in [\n",
    "    'w_h2o__3m_uw',\n",
    "    'w_h2o__3m_ue',\n",
    "    'w_h2o__3m_c',\n",
    "    'w_h2o__3m_d'\n",
    "]:\n",
    "    tidy_df_daily = tidy.tidy_df_add_variable(\n",
    "        tidy_df_daily,\n",
    "        np.cumsum(tidy_df_daily.query(f\"variable == '{variable}'\")['value']*60*60*24).values*1000/(1e6),\n",
    "        \"Cumulative sublimation (mm)\",\n",
    "        \"Cumulative sublimation (mm)\",\n",
    "        int(variable.split('_')[-2].split('m')[0]),\n",
    "        variable.split('_')[-1]\n",
    "    )"
   ]
  },
  {
   "cell_type": "markdown",
   "metadata": {},
   "source": [
    "### Save daily data"
   ]
  },
  {
   "cell_type": "code",
   "execution_count": 50,
   "metadata": {},
   "outputs": [],
   "source": [
    "tidy_df_daily.to_parquet(tidy_daily_dataset_output_fn)"
   ]
  },
  {
   "attachments": {},
   "cell_type": "markdown",
   "metadata": {},
   "source": [
    "## ECOR"
   ]
  },
  {
   "attachments": {},
   "cell_type": "markdown",
   "metadata": {},
   "source": [
    "### Convert from mmol/m^3 to g/m^2"
   ]
  },
  {
   "cell_type": "code",
   "execution_count": 16,
   "metadata": {},
   "outputs": [
    {
     "ename": "NameError",
     "evalue": "name 'ecor_kps_ds_thisseason' is not defined",
     "output_type": "error",
     "traceback": [
      "\u001b[0;31m---------------------------------------------------------------------------\u001b[0m",
      "\u001b[0;31mNameError\u001b[0m                                 Traceback (most recent call last)",
      "Cell \u001b[0;32mIn[16], line 4\u001b[0m\n\u001b[1;32m      1\u001b[0m \u001b[39m# convert from mmol/m^3 to g/m^2\u001b[39;00m\n\u001b[1;32m      2\u001b[0m \u001b[39m# 18.02 grams/mol\u001b[39;00m\n\u001b[1;32m      3\u001b[0m \u001b[39m# conversion: (original / 1000) * 18.02\u001b[39;00m\n\u001b[0;32m----> 4\u001b[0m ecor_kps_df_thisseason \u001b[39m=\u001b[39m (ecor_kps_ds_thisseason[\u001b[39m'\u001b[39m\u001b[39mcvar_wq\u001b[39m\u001b[39m'\u001b[39m]\u001b[39m*\u001b[39m\u001b[39m18.02\u001b[39m\u001b[39m/\u001b[39m\u001b[39m1000\u001b[39m)\u001b[39m.\u001b[39mto_dataframe()\u001b[39m.\u001b[39mreset_index()\n\u001b[1;32m      5\u001b[0m ecor_gothic_df_thisseason \u001b[39m=\u001b[39m (ecor_gothic_ds_thisseason[\u001b[39m'\u001b[39m\u001b[39mcvar_wq\u001b[39m\u001b[39m'\u001b[39m]\u001b[39m*\u001b[39m\u001b[39m18.02\u001b[39m\u001b[39m/\u001b[39m\u001b[39m1000\u001b[39m)\u001b[39m.\u001b[39mto_dataframe()\u001b[39m.\u001b[39mreset_index()\n\u001b[1;32m      7\u001b[0m ecor_kps_df_lastseason \u001b[39m=\u001b[39m (ecor_kps_ds_lastseason[\u001b[39m'\u001b[39m\u001b[39mcvar_wq\u001b[39m\u001b[39m'\u001b[39m]\u001b[39m*\u001b[39m\u001b[39m18.02\u001b[39m\u001b[39m/\u001b[39m\u001b[39m1000\u001b[39m)\u001b[39m.\u001b[39mto_dataframe()\u001b[39m.\u001b[39mreset_index()\n",
      "\u001b[0;31mNameError\u001b[0m: name 'ecor_kps_ds_thisseason' is not defined"
     ]
    }
   ],
   "source": [
    "\n",
    "# convert from mmol/m^3 to g/m^2\n",
    "# 18.02 grams/mol\n",
    "# conversion: (original / 1000) * 18.02\n",
    "ecor_kps_df_thisseason = (ecor_kps_ds_thisseason['cvar_wq']*18.02/1000).to_dataframe().reset_index()\n",
    "ecor_gothic_df_thisseason = (ecor_gothic_ds_thisseason['cvar_wq']*18.02/1000).to_dataframe().reset_index()\n",
    "\n",
    "ecor_kps_df_lastseason = (ecor_kps_ds_lastseason['cvar_wq']*18.02/1000).to_dataframe().reset_index()\n",
    "ecor_gothic_df_lastseason = (ecor_gothic_ds_lastseason['cvar_wq']*18.02/1000).to_dataframe().reset_index()"
   ]
  },
  {
   "attachments": {},
   "cell_type": "markdown",
   "metadata": {},
   "source": [
    "### Remove ECOR data to match time/extent of SoS data from 2022-23"
   ]
  },
  {
   "cell_type": "code",
   "execution_count": 17,
   "metadata": {},
   "outputs": [
    {
     "ename": "NameError",
     "evalue": "name 'ecor_kps_df_thisseason' is not defined",
     "output_type": "error",
     "traceback": [
      "\u001b[0;31m---------------------------------------------------------------------------\u001b[0m",
      "\u001b[0;31mNameError\u001b[0m                                 Traceback (most recent call last)",
      "Cell \u001b[0;32mIn[17], line 1\u001b[0m\n\u001b[0;32m----> 1\u001b[0m ecor_kps_df_thisseason \u001b[39m=\u001b[39m ecor_kps_df_thisseason[ecor_kps_df_thisseason[\u001b[39m'\u001b[39m\u001b[39mtime\u001b[39m\u001b[39m'\u001b[39m] \u001b[39m>\u001b[39m dt\u001b[39m.\u001b[39mdatetime\u001b[39m.\u001b[39mstrptime(start_date, \u001b[39m'\u001b[39m\u001b[39m%\u001b[39m\u001b[39mY\u001b[39m\u001b[39m%\u001b[39m\u001b[39mm\u001b[39m\u001b[39m%d\u001b[39;00m\u001b[39m'\u001b[39m)]\n\u001b[1;32m      2\u001b[0m ecor_kps_df_thisseason \u001b[39m=\u001b[39m ecor_kps_df_thisseason[ecor_kps_df_thisseason[\u001b[39m'\u001b[39m\u001b[39mtime\u001b[39m\u001b[39m'\u001b[39m] \u001b[39m<\u001b[39m dt\u001b[39m.\u001b[39mdatetime\u001b[39m.\u001b[39mstrptime(end_date, \u001b[39m'\u001b[39m\u001b[39m%\u001b[39m\u001b[39mY\u001b[39m\u001b[39m%\u001b[39m\u001b[39mm\u001b[39m\u001b[39m%d\u001b[39;00m\u001b[39m'\u001b[39m)]\n\u001b[1;32m      4\u001b[0m ecor_gothic_df_thisseason \u001b[39m=\u001b[39m ecor_gothic_df_thisseason[ecor_gothic_df_thisseason[\u001b[39m'\u001b[39m\u001b[39mtime\u001b[39m\u001b[39m'\u001b[39m] \u001b[39m>\u001b[39m dt\u001b[39m.\u001b[39mdatetime\u001b[39m.\u001b[39mstrptime(start_date, \u001b[39m'\u001b[39m\u001b[39m%\u001b[39m\u001b[39mY\u001b[39m\u001b[39m%\u001b[39m\u001b[39mm\u001b[39m\u001b[39m%d\u001b[39;00m\u001b[39m'\u001b[39m)]\n",
      "\u001b[0;31mNameError\u001b[0m: name 'ecor_kps_df_thisseason' is not defined"
     ]
    }
   ],
   "source": [
    "ecor_kps_df_thisseason = ecor_kps_df_thisseason[ecor_kps_df_thisseason['time'] > dt.datetime.strptime(start_date, '%Y%m%d')]\n",
    "ecor_kps_df_thisseason = ecor_kps_df_thisseason[ecor_kps_df_thisseason['time'] < dt.datetime.strptime(end_date, '%Y%m%d')]\n",
    "\n",
    "ecor_gothic_df_thisseason = ecor_gothic_df_thisseason[ecor_gothic_df_thisseason['time'] > dt.datetime.strptime(start_date, '%Y%m%d')]\n",
    "ecor_gothic_df_thisseason = ecor_gothic_df_thisseason[ecor_gothic_df_thisseason['time'] < dt.datetime.strptime(end_date, '%Y%m%d')]\n",
    "\n",
    "ecor_kps_df_lastseason = ecor_kps_df_lastseason[ecor_kps_df_lastseason['time'] > dt.datetime.strptime(start_date, '%Y%m%d').replace(year=2021)]\n",
    "ecor_kps_df_lastseason = ecor_kps_df_lastseason[ecor_kps_df_lastseason['time'] < dt.datetime.strptime(end_date, '%Y%m%d').replace(year=2022)]\n",
    "\n",
    "ecor_gothic_df_lastseason = ecor_gothic_df_lastseason[ecor_gothic_df_lastseason['time'] > dt.datetime.strptime(start_date, '%Y%m%d').replace(year=2021)]\n",
    "ecor_gothic_df_lastseason = ecor_gothic_df_lastseason[ecor_gothic_df_lastseason['time'] < dt.datetime.strptime(end_date, '%Y%m%d').replace(year=2022)]"
   ]
  },
  {
   "attachments": {},
   "cell_type": "markdown",
   "metadata": {},
   "source": [
    "### Create daily datasets"
   ]
  },
  {
   "cell_type": "code",
   "execution_count": 18,
   "metadata": {},
   "outputs": [
    {
     "ename": "NameError",
     "evalue": "name 'ecor_gothic_df_thisseason' is not defined",
     "output_type": "error",
     "traceback": [
      "\u001b[0;31m---------------------------------------------------------------------------\u001b[0m",
      "\u001b[0;31mNameError\u001b[0m                                 Traceback (most recent call last)",
      "Cell \u001b[0;32mIn[18], line 1\u001b[0m\n\u001b[0;32m----> 1\u001b[0m ecor_gothic_df_thisseason_daily \u001b[39m=\u001b[39m ecor_gothic_df_thisseason\u001b[39m.\u001b[39mset_index(\u001b[39m'\u001b[39m\u001b[39mtime\u001b[39m\u001b[39m'\u001b[39m)\u001b[39m.\u001b[39mresample(\u001b[39m'\u001b[39m\u001b[39m1440Min\u001b[39m\u001b[39m'\u001b[39m)\u001b[39m.\u001b[39mmean()\u001b[39m.\u001b[39mreset_index()\n\u001b[1;32m      2\u001b[0m ecor_kps_df_thisseason_daily \u001b[39m=\u001b[39m ecor_kps_df_thisseason\u001b[39m.\u001b[39mset_index(\u001b[39m'\u001b[39m\u001b[39mtime\u001b[39m\u001b[39m'\u001b[39m)\u001b[39m.\u001b[39mresample(\u001b[39m'\u001b[39m\u001b[39m1440Min\u001b[39m\u001b[39m'\u001b[39m)\u001b[39m.\u001b[39mmean()\u001b[39m.\u001b[39mreset_index()\n\u001b[1;32m      3\u001b[0m ecor_gothic_df_lastseason_daily \u001b[39m=\u001b[39m ecor_gothic_df_lastseason\u001b[39m.\u001b[39mset_index(\u001b[39m'\u001b[39m\u001b[39mtime\u001b[39m\u001b[39m'\u001b[39m)\u001b[39m.\u001b[39mresample(\u001b[39m'\u001b[39m\u001b[39m1440Min\u001b[39m\u001b[39m'\u001b[39m)\u001b[39m.\u001b[39mmean()\u001b[39m.\u001b[39mreset_index()\n",
      "\u001b[0;31mNameError\u001b[0m: name 'ecor_gothic_df_thisseason' is not defined"
     ]
    }
   ],
   "source": [
    "ecor_gothic_df_thisseason_daily = ecor_gothic_df_thisseason.set_index('time').resample('1440Min').mean().reset_index()\n",
    "ecor_kps_df_thisseason_daily = ecor_kps_df_thisseason.set_index('time').resample('1440Min').mean().reset_index()\n",
    "ecor_gothic_df_lastseason_daily = ecor_gothic_df_lastseason.set_index('time').resample('1440Min').mean().reset_index()\n",
    "ecor_kps_df_lastseason_daily = ecor_kps_df_lastseason.set_index('time').resample('1440Min').mean().reset_index()"
   ]
  },
  {
   "attachments": {},
   "cell_type": "markdown",
   "metadata": {},
   "source": [
    "### Calculate cumulative sublimation"
   ]
  },
  {
   "cell_type": "code",
   "execution_count": 19,
   "metadata": {},
   "outputs": [
    {
     "ename": "NameError",
     "evalue": "name 'ecor_gothic_df_thisseason_daily' is not defined",
     "output_type": "error",
     "traceback": [
      "\u001b[0;31m---------------------------------------------------------------------------\u001b[0m",
      "\u001b[0;31mNameError\u001b[0m                                 Traceback (most recent call last)",
      "Cell \u001b[0;32mIn[19], line 2\u001b[0m\n\u001b[1;32m      1\u001b[0m ecor_gothic_df_thisseason_daily[\u001b[39m'\u001b[39m\u001b[39mCumulative sublimation (mm)\u001b[39m\u001b[39m'\u001b[39m] \u001b[39m=\u001b[39m np\u001b[39m.\u001b[39mcumsum(\n\u001b[0;32m----> 2\u001b[0m     (ecor_gothic_df_thisseason_daily[\u001b[39m'\u001b[39m\u001b[39mcvar_wq\u001b[39m\u001b[39m'\u001b[39m]\u001b[39m.\u001b[39mfillna(\u001b[39m0\u001b[39m)\u001b[39m*\u001b[39m\u001b[39m60\u001b[39m\u001b[39m*\u001b[39m\u001b[39m60\u001b[39m\u001b[39m*\u001b[39m\u001b[39m24\u001b[39m)\u001b[39m.\u001b[39mvalues\u001b[39m*\u001b[39m\u001b[39m1000\u001b[39m\u001b[39m/\u001b[39m(\u001b[39m1e6\u001b[39m)\n\u001b[1;32m      3\u001b[0m )\n\u001b[1;32m      4\u001b[0m ecor_kps_df_thisseason_daily[\u001b[39m'\u001b[39m\u001b[39mCumulative sublimation (mm)\u001b[39m\u001b[39m'\u001b[39m] \u001b[39m=\u001b[39m np\u001b[39m.\u001b[39mcumsum(\n\u001b[1;32m      5\u001b[0m     (ecor_kps_df_thisseason_daily[\u001b[39m'\u001b[39m\u001b[39mcvar_wq\u001b[39m\u001b[39m'\u001b[39m]\u001b[39m.\u001b[39mfillna(\u001b[39m0\u001b[39m)\u001b[39m*\u001b[39m\u001b[39m60\u001b[39m\u001b[39m*\u001b[39m\u001b[39m60\u001b[39m\u001b[39m*\u001b[39m\u001b[39m24\u001b[39m)\u001b[39m.\u001b[39mvalues\u001b[39m*\u001b[39m\u001b[39m1000\u001b[39m\u001b[39m/\u001b[39m(\u001b[39m1e6\u001b[39m)\n\u001b[1;32m      6\u001b[0m )\n\u001b[1;32m      8\u001b[0m ecor_gothic_df_lastseason_daily[\u001b[39m'\u001b[39m\u001b[39mCumulative sublimation (mm)\u001b[39m\u001b[39m'\u001b[39m] \u001b[39m=\u001b[39m np\u001b[39m.\u001b[39mcumsum(\n\u001b[1;32m      9\u001b[0m     (ecor_gothic_df_lastseason_daily[\u001b[39m'\u001b[39m\u001b[39mcvar_wq\u001b[39m\u001b[39m'\u001b[39m]\u001b[39m.\u001b[39mfillna(\u001b[39m0\u001b[39m)\u001b[39m*\u001b[39m\u001b[39m60\u001b[39m\u001b[39m*\u001b[39m\u001b[39m60\u001b[39m\u001b[39m*\u001b[39m\u001b[39m24\u001b[39m)\u001b[39m.\u001b[39mvalues\u001b[39m*\u001b[39m\u001b[39m1000\u001b[39m\u001b[39m/\u001b[39m(\u001b[39m1e6\u001b[39m)\n\u001b[1;32m     10\u001b[0m )\n",
      "\u001b[0;31mNameError\u001b[0m: name 'ecor_gothic_df_thisseason_daily' is not defined"
     ]
    }
   ],
   "source": [
    "ecor_gothic_df_thisseason_daily['Cumulative sublimation (mm)'] = np.cumsum(\n",
    "    (ecor_gothic_df_thisseason_daily['cvar_wq'].fillna(0)*60*60*24).values*1000/(1e6)\n",
    ")\n",
    "ecor_kps_df_thisseason_daily['Cumulative sublimation (mm)'] = np.cumsum(\n",
    "    (ecor_kps_df_thisseason_daily['cvar_wq'].fillna(0)*60*60*24).values*1000/(1e6)\n",
    ")\n",
    "\n",
    "ecor_gothic_df_lastseason_daily['Cumulative sublimation (mm)'] = np.cumsum(\n",
    "    (ecor_gothic_df_lastseason_daily['cvar_wq'].fillna(0)*60*60*24).values*1000/(1e6)\n",
    ")\n",
    "ecor_kps_df_lastseason_daily['Cumulative sublimation (mm)'] = np.cumsum(\n",
    "    (ecor_kps_df_lastseason_daily['cvar_wq'].fillna(0)*60*60*24).values*1000/(1e6)\n",
    ")"
   ]
  },
  {
   "attachments": {},
   "cell_type": "markdown",
   "metadata": {},
   "source": [
    "# Compare multiple cumulative sublimation estimates"
   ]
  },
  {
   "cell_type": "code",
   "execution_count": 27,
   "metadata": {},
   "outputs": [],
   "source": [
    "sos_swe_chart_src = tidy_df_daily.query(\n",
    "        \"measurement == 'SWE'\"\n",
    "    ).dropna()\n",
    "\n",
    "sos_swe_chart = alt.Chart(\n",
    "    sos_swe_chart_src    \n",
    ").mark_line(opacity=0.6, strokeDash=[4,2]).encode(\n",
    "    alt.X('time:T'),\n",
    "    alt.Y(\"value:Q\", title='Snow Pillow SWE (mm)').axis(offset=50),\n",
    "    alt.Color(\n",
    "        'tower:N',\n",
    "        legend=alt.Legend(symbolOpacity=1)\n",
    "    )\n",
    ")"
   ]
  },
  {
   "cell_type": "code",
   "execution_count": 28,
   "metadata": {},
   "outputs": [],
   "source": [
    "sos_sublimation_src = tidy_df_daily.query(\n",
    "        \"measurement == 'Cumulative sublimation (mm)'\"\n",
    "    ).query(\n",
    "        \"height == 3\"\n",
    "    ).dropna()\n",
    "\n",
    "sos_sublimation_chart = alt.Chart(\n",
    "    sos_sublimation_src    \n",
    ").mark_line().encode(\n",
    "    alt.X('time:T'),\n",
    "    alt.Y(\"value:Q\", title='Cumulative sublimation (mm)').scale(domain=[0,50], clamp=True),\n",
    "    alt.Color(\"tower:N\")\n",
    ")"
   ]
  },
  {
   "attachments": {},
   "cell_type": "markdown",
   "metadata": {},
   "source": [
    "## Artificially adjust timestamps of ECOR 2021-22 so that they overlap with the 22-23 seasons"
   ]
  },
  {
   "cell_type": "code",
   "execution_count": null,
   "metadata": {},
   "outputs": [],
   "source": [
    "ecor_kps_df_lastseason_daily['time'] = ecor_kps_df_lastseason_daily['time'].apply(\n",
    "    lambda dt: (dt.replace(year = dt.year + 1))\n",
    ")\n",
    "ecor_gothic_df_lastseason_daily['time'] = ecor_gothic_df_lastseason_daily['time'].apply(\n",
    "    lambda dt: (dt.replace(year = dt.year + 1))\n",
    ")"
   ]
  },
  {
   "cell_type": "code",
   "execution_count": null,
   "metadata": {},
   "outputs": [],
   "source": [
    "src = pd.concat([\n",
    "    ecor_kps_df_thisseason_daily.assign(measurement = 'KPS ECOR', season='2022-23'),\n",
    "    ecor_gothic_df_thisseason_daily.assign(measurement = 'Gothic ECOR', season='2022-23'),\n",
    "    ecor_kps_df_lastseason_daily.assign(measurement = 'KPS ECOR', season='2021-22'),\n",
    "    ecor_gothic_df_lastseason_daily.assign(measurement = 'Gothic ECOR', season='2021-22'),\n",
    "])\n",
    "\n",
    "ecor_sublimation_chart = alt.Chart(src).mark_line(\n",
    "    strokeDash=[20,8]\n",
    ").encode(\n",
    "    alt.X(\"time:T\"),\n",
    "    alt.Y(\"Cumulative sublimation (mm)\"),\n",
    "    alt.Color(\"measurement:N\"),\n",
    "    alt.StrokeDash(\"season:O\")\n",
    ")\n",
    "\n",
    "ecor_sublimation_chart"
   ]
  },
  {
   "cell_type": "code",
   "execution_count": null,
   "metadata": {},
   "outputs": [],
   "source": [
    "sos_sublimation_df = tidy_df_daily.query(\n",
    "        \"measurement == 'Cumulative sublimation (mm)'\"\n",
    "    ).query(\n",
    "        \"height  == 3\"\n",
    "    )\n",
    "sos_sublimation_df['EC system'] = sos_sublimation_df.apply(lambda row: f\"tower {row.tower}, {int(row.height)}m\", axis=1)\n",
    "\n",
    "\n",
    "\n",
    "ecor_sublimation_df = pd.concat([\n",
    "    ecor_kps_df_thisseason_daily.assign(measurement = 'KPS ECOR, 22-23'),\n",
    "    ecor_gothic_df_thisseason_daily.assign(measurement = 'Gothic ECOR, 22-23'),\n",
    "    ecor_kps_df_lastseason_daily.assign(measurement = 'KPS ECOR, 21-22'),\n",
    "    ecor_gothic_df_lastseason_daily.assign(measurement = 'Gothic ECOR, 21-22')\n",
    "])"
   ]
  },
  {
   "cell_type": "code",
   "execution_count": null,
   "metadata": {},
   "outputs": [],
   "source": [
    "cumulative_sublimation_df = pd.concat([\n",
    "    ecor_sublimation_df[\n",
    "        ['time', 'measurement', 'Cumulative sublimation (mm)']\n",
    "    ].rename(\n",
    "        columns = {'Cumulative sublimation (mm)': 'value'}\n",
    "    ),\n",
    "    sos_sublimation_df[['time', 'EC system', 'value']].rename(columns = {'EC system': 'measurement'})\n",
    "])"
   ]
  },
  {
   "cell_type": "code",
   "execution_count": null,
   "metadata": {},
   "outputs": [],
   "source": [
    "cum_sublimation_chart = alt.Chart(cumulative_sublimation_df).mark_line().encode(\n",
    "    alt.X('time:T').title('time (local)'),\n",
    "    alt.Y('value:Q').scale(domain=[0,50], clamp=True).title(\"Cumulative sublimation (mm)\"), \n",
    "    alt.Color(\"measurement:N\")\n",
    ")"
   ]
  },
  {
   "cell_type": "code",
   "execution_count": null,
   "metadata": {},
   "outputs": [],
   "source": [
    "cum_sublimation_chart"
   ]
  },
  {
   "attachments": {},
   "cell_type": "markdown",
   "metadata": {},
   "source": [
    "# Make additional calculations"
   ]
  },
  {
   "attachments": {},
   "cell_type": "markdown",
   "metadata": {},
   "source": [
    "## Calculate daily sublimation rates"
   ]
  },
  {
   "cell_type": "code",
   "execution_count": 22,
   "metadata": {},
   "outputs": [],
   "source": [
    "local_src = tidy_df_daily.query(\"variable == 'w_h2o__3m_c'\")\n",
    "local_src = local_src.iloc[1:-1] # drop days with partial measurements\n",
    "local_src['value'] = local_src['value']*60*60*24*0.001 # calculate daily sublimation"
   ]
  },
  {
   "attachments": {},
   "cell_type": "markdown",
   "metadata": {},
   "source": [
    "$$ \\frac{g}{m^2 * s} * \\frac{1800 s}{measurement} * \\frac{.001 kg}{g} * \\frac{1 m^3}{1000 kg} * \\frac{1000 mm }{m}$$\n",
    "\n",
    "$$ \\frac{m}{s} * 1800 * .001 * (1 / 1000) * (1000)$$"
   ]
  },
  {
   "cell_type": "code",
   "execution_count": 23,
   "metadata": {},
   "outputs": [],
   "source": [
    "daily_sublimation_chart = alt.Chart(local_src).mark_bar(opacity=0.2).encode(\n",
    "    alt.X(\"time:T\").title('time (local)'),\n",
    "    alt.Y(\"value:Q\").title(\"Daily sublimation (mm)\"), \n",
    ")"
   ]
  },
  {
   "attachments": {},
   "cell_type": "markdown",
   "metadata": {},
   "source": [
    "## Calculate Net Radiation"
   ]
  },
  {
   "cell_type": "code",
   "execution_count": 24,
   "metadata": {},
   "outputs": [],
   "source": [
    "net_radiation_values = (\n",
    "    (\n",
    "        tidy_df_daily.query(\"variable == 'Rsw_in_9m_d'\")['value'].values\n",
    "        +\n",
    "        tidy_df_daily.query(\"variable == 'Rlw_in_9m_d'\")['value'].values\n",
    "    ) - (\n",
    "        tidy_df_daily.query(\"variable == 'Rsw_out_9m_d'\")['value'].values\n",
    "        +\n",
    "        tidy_df_daily.query(\"variable == 'Rlw_out_9m_d'\")['value'].values\n",
    "    )\n",
    ")\n",
    "\n",
    "\n",
    "\n",
    "tidy_df_daily = tidy.tidy_df_add_variable(\n",
    "    tidy_df_daily,\n",
    "    net_radiation_values,\n",
    "    'Rnet_9m_d',\n",
    "    'net radiation',\n",
    "    9,\n",
    "    'd'\n",
    ")\n"
   ]
  },
  {
   "attachments": {},
   "cell_type": "markdown",
   "metadata": {},
   "source": [
    "To Do/Add:\n",
    "\n",
    "* water flux into soil\n",
    "* SWE from snow pillows + overlaid snow pit data"
   ]
  },
  {
   "cell_type": "code",
   "execution_count": 221,
   "metadata": {},
   "outputs": [],
   "source": [
    "daily_sublimation_chart = alt.Chart(local_src).mark_bar(opacity=0.2).encode(\n",
    "    alt.X(\"time:T\", title=None).axis(labels=False, ticks=False),\n",
    "    alt.Y(\"value:Q\").title(\"Daily sublimation (mm)\"), \n",
    ")\n",
    "\n",
    "temp_chart = alt.Chart(\n",
    "    tidy_df_daily.query(\"variable == 'T_3m_c'\")\n",
    ").mark_line().encode(\n",
    "    alt.X(\"time:T\").title('time (local)'),\n",
    "    alt.Y(\"value:Q\").title('Mean daily temperature (˚C)')\n",
    ")\n",
    "\n",
    "surf_temp_chart = alt.Chart(\n",
    "    tidy_df_daily.query(\"variable == 'Tsurf_c'\")\n",
    ").mark_line().encode(\n",
    "    alt.X(\"time:T\").title('time (local)').axis(labels=False, ticks=False),\n",
    "    alt.Y(\"value:Q\").title('Mean daily surface temperature (˚C)')\n",
    ")\n",
    "\n",
    "surf_and_air_temp_chart = alt.Chart(\n",
    "    tidy_df_daily[tidy_df_daily.variable.isin(['T_3m_c', 'Tsurf_c'])]\n",
    ").mark_line().encode(\n",
    "    alt.X(\"time:T\", title=None).axis(labels=False, ticks=False),\n",
    "    alt.Y(\"value:Q\").title(\"Temperature (˚C)\"),\n",
    "    alt.StrokeDash(\"measurement:N\")\n",
    ")\n",
    "\n",
    "spd_chart = alt.Chart(\n",
    "    tidy_df_daily.query(\"variable == 'spd_3m_c'\")\n",
    ").mark_line().encode(\n",
    "    alt.X(\"time:T\").title('time (local)'),\n",
    "    alt.Y(\"value:Q\").title('Mean daily wind speed (m/s)')\n",
    ")\n",
    "\n",
    "netrad_chart = alt.Chart(\n",
    "    tidy_df_daily.query(\"variable == 'Rnet_9m_d'\")\n",
    ").mark_line().encode(\n",
    "    alt.X(\"time:T\").title('time (local)'),\n",
    "    alt.Y(\"value:Q\").title('Net radiation (W/m^2)').axis(orient='right')\n",
    ")\n",
    "\n",
    "swrad_chart = alt.Chart(\n",
    "    tidy_df_30Min.query(\"variable == 'Rsw_in_9m_d'\")\n",
    ").mark_line(opacity=0.3).encode(\n",
    "    alt.X(\"time:T\").title('time (local)'),\n",
    "    alt.Y(\"value:Q\").title(['Incoming SW', 'radiation (W/m^2)']).axis(offset=50, orient='right').scale(domain=[-1000,1000])\n",
    ")\n",
    "\n",
    "soil_moisture_chart = alt.Chart(\n",
    "    tidy_df_daily[tidy_df_daily.variable == 'Qsoil_d']\n",
    ").mark_line(color='orange').encode(\n",
    "    alt.X(\"time:T\"),\n",
    "    alt.Y(\"value:Q\").title(\"Soil moisture\").axis(orient='left'),\n",
    ")\n",
    "\n",
    "blowing_snow_flux_chart = alt.Chart(\n",
    "    tidy_df_30Min[tidy_df_30Min.measurement == 'snow flux']\n",
    ").transform_window(\n",
    "    rolling_avg = \"median(value)\",\n",
    "    frame = [-3, 3]\n",
    ").mark_line().encode(\n",
    "    alt.X(\"time:T\", title=None).axis(labels=False, ticks=False),\n",
    "    alt.Y(\"rolling_avg:Q\").title(\"Blowing snow flux (g/m^2/s)\").scale(domain=[0,0.5], clamp=True),\n",
    "    alt.Color(\"height:N\")\n",
    ")"
   ]
  },
  {
   "cell_type": "code",
   "execution_count": 222,
   "metadata": {},
   "outputs": [],
   "source": [
    "swe_dailysub_and_cumsub_chart = (\n",
    "    daily_sublimation_chart + \n",
    "    sos_sublimation_chart + \n",
    "    sos_swe_chart\n",
    ").resolve_scale(y='independent').properties(width=800, height = 200)\n",
    "\n",
    "zero_line = alt.Chart(pd.DataFrame({'y': [0]})).mark_rule().encode(alt.Y('y').axis(None))\n",
    "\n",
    "net_rad_and_soil_moisture_chart = (\n",
    "    swrad_chart + netrad_chart + soil_moisture_chart\n",
    ").resolve_scale(y='independent')"
   ]
  },
  {
   "cell_type": "code",
   "execution_count": 223,
   "metadata": {},
   "outputs": [],
   "source": [
    "figure = (\n",
    "    swe_dailysub_and_cumsub_chart &\n",
    "    blowing_snow_flux_chart.properties(height = 100) &\n",
    "    surf_and_air_temp_chart.properties(height = 100) &\n",
    "    net_rad_and_soil_moisture_chart.properties(height = 100)\n",
    "    \n",
    "    # soil_moisture_chart.properties(height = 100) &\n",
    "    # temp_chart.properties(height = 100) &\n",
    "    # surf_temp_chart.properties(height = 100) &\n",
    "    # spd_chart.properties(height = 100) &\n",
    "    # netrad_chart.properties(height = 100)\n",
    ").resolve_scale(x='shared', color='independent', strokeDash='independent').configure_legend(orient='left')"
   ]
  },
  {
   "cell_type": "code",
   "execution_count": 224,
   "metadata": {},
   "outputs": [
    {
     "data": {
      "text/html": [
       "\n",
       "<style>\n",
       "  #altair-viz-a2ec1f0676cc49fcb2e3954a41eff268.vega-embed {\n",
       "    width: 100%;\n",
       "    display: flex;\n",
       "  }\n",
       "\n",
       "  #altair-viz-a2ec1f0676cc49fcb2e3954a41eff268.vega-embed details,\n",
       "  #altair-viz-a2ec1f0676cc49fcb2e3954a41eff268.vega-embed details summary {\n",
       "    position: relative;\n",
       "  }\n",
       "</style>\n",
       "<div id=\"altair-viz-a2ec1f0676cc49fcb2e3954a41eff268\"></div>\n",
       "<script type=\"text/javascript\">\n",
       "  var VEGA_DEBUG = (typeof VEGA_DEBUG == \"undefined\") ? {} : VEGA_DEBUG;\n",
       "  (function(spec, embedOpt){\n",
       "    let outputDiv = document.currentScript.previousElementSibling;\n",
       "    if (outputDiv.id !== \"altair-viz-a2ec1f0676cc49fcb2e3954a41eff268\") {\n",
       "      outputDiv = document.getElementById(\"altair-viz-a2ec1f0676cc49fcb2e3954a41eff268\");\n",
       "    }\n",
       "    const paths = {\n",
       "      \"vega\": \"https://cdn.jsdelivr.net/npm/vega@5?noext\",\n",
       "      \"vega-lib\": \"https://cdn.jsdelivr.net/npm/vega-lib?noext\",\n",
       "      \"vega-lite\": \"https://cdn.jsdelivr.net/npm/vega-lite@5.8.0?noext\",\n",
       "      \"vega-embed\": \"https://cdn.jsdelivr.net/npm/vega-embed@6?noext\",\n",
       "    };\n",
       "\n",
       "    function maybeLoadScript(lib, version) {\n",
       "      var key = `${lib.replace(\"-\", \"\")}_version`;\n",
       "      return (VEGA_DEBUG[key] == version) ?\n",
       "        Promise.resolve(paths[lib]) :\n",
       "        new Promise(function(resolve, reject) {\n",
       "          var s = document.createElement('script');\n",
       "          document.getElementsByTagName(\"head\")[0].appendChild(s);\n",
       "          s.async = true;\n",
       "          s.onload = () => {\n",
       "            VEGA_DEBUG[key] = version;\n",
       "            return resolve(paths[lib]);\n",
       "          };\n",
       "          s.onerror = () => reject(`Error loading script: ${paths[lib]}`);\n",
       "          s.src = paths[lib];\n",
       "        });\n",
       "    }\n",
       "\n",
       "    function showError(err) {\n",
       "      outputDiv.innerHTML = `<div class=\"error\" style=\"color:red;\">${err}</div>`;\n",
       "      throw err;\n",
       "    }\n",
       "\n",
       "    function displayChart(vegaEmbed) {\n",
       "      vegaEmbed(outputDiv, spec, embedOpt)\n",
       "        .catch(err => showError(`Javascript Error: ${err.message}<br>This usually means there's a typo in your chart specification. See the javascript console for the full traceback.`));\n",
       "    }\n",
       "\n",
       "    if(typeof define === \"function\" && define.amd) {\n",
       "      requirejs.config({paths});\n",
       "      require([\"vega-embed\"], displayChart, err => showError(`Error loading script: ${err.message}`));\n",
       "    } else {\n",
       "      maybeLoadScript(\"vega\", \"5\")\n",
       "        .then(() => maybeLoadScript(\"vega-lite\", \"5.8.0\"))\n",
       "        .then(() => maybeLoadScript(\"vega-embed\", \"6\"))\n",
       "        .catch(showError)\n",
       "        .then(() => displayChart(vegaEmbed));\n",
       "    }\n",
       "  })({\"config\": {\"view\": {\"continuousWidth\": 300, \"continuousHeight\": 300}, \"legend\": {\"orient\": \"left\"}}, \"vconcat\": [{\"layer\": [{\"data\": {\"url\": \"altair-data-1b8727d780373e272dbc76899b5379c8.json\", \"format\": {\"type\": \"json\"}}, \"mark\": {\"type\": \"bar\", \"opacity\": 0.2}, \"encoding\": {\"x\": {\"axis\": {\"labels\": false, \"ticks\": false}, \"field\": \"time\", \"title\": null, \"type\": \"temporal\"}, \"y\": {\"field\": \"value\", \"title\": \"Daily sublimation (mm)\", \"type\": \"quantitative\"}}}, {\"data\": {\"url\": \"altair-data-d61f487c595ed99d357cd6eb5866d211.json\", \"format\": {\"type\": \"json\"}}, \"mark\": {\"type\": \"line\"}, \"encoding\": {\"color\": {\"field\": \"tower\", \"type\": \"nominal\"}, \"x\": {\"field\": \"time\", \"type\": \"temporal\"}, \"y\": {\"field\": \"value\", \"scale\": {\"domain\": [0, 50], \"clamp\": true}, \"title\": \"Cumulative sublimation (mm)\", \"type\": \"quantitative\"}}}, {\"data\": {\"url\": \"altair-data-e5c7fea2037179f4e8541a91d536b741.json\", \"format\": {\"type\": \"json\"}}, \"mark\": {\"type\": \"line\", \"opacity\": 0.6, \"strokeDash\": [4, 2]}, \"encoding\": {\"color\": {\"field\": \"tower\", \"legend\": {\"symbolOpacity\": 1}, \"type\": \"nominal\"}, \"x\": {\"field\": \"time\", \"type\": \"temporal\"}, \"y\": {\"axis\": {\"offset\": 50}, \"field\": \"value\", \"title\": \"Snow Pillow SWE (mm)\", \"type\": \"quantitative\"}}}], \"height\": 200, \"resolve\": {\"scale\": {\"y\": \"independent\"}}, \"width\": 800}, {\"data\": {\"url\": \"altair-data-a9c39f471bb72b1ae888e324e85235bc.json\", \"format\": {\"type\": \"json\"}}, \"mark\": {\"type\": \"line\"}, \"encoding\": {\"color\": {\"field\": \"height\", \"type\": \"nominal\"}, \"x\": {\"axis\": {\"labels\": false, \"ticks\": false}, \"field\": \"time\", \"title\": null, \"type\": \"temporal\"}, \"y\": {\"field\": \"rolling_avg\", \"scale\": {\"domain\": [0, 0.5], \"clamp\": true}, \"title\": \"Blowing snow flux (g/m^2/s)\", \"type\": \"quantitative\"}}, \"height\": 100, \"transform\": [{\"window\": [{\"op\": \"median\", \"field\": \"value\", \"as\": \"rolling_avg\"}], \"frame\": [-3, 3]}]}, {\"data\": {\"url\": \"altair-data-0dc1914618e54184fd821f8c93a925bd.json\", \"format\": {\"type\": \"json\"}}, \"mark\": {\"type\": \"line\"}, \"encoding\": {\"strokeDash\": {\"field\": \"measurement\", \"type\": \"nominal\"}, \"x\": {\"axis\": {\"labels\": false, \"ticks\": false}, \"field\": \"time\", \"title\": null, \"type\": \"temporal\"}, \"y\": {\"field\": \"value\", \"title\": \"Temperature (\\u02daC)\", \"type\": \"quantitative\"}}, \"height\": 100}, {\"layer\": [{\"data\": {\"url\": \"altair-data-da9c87c1aac11c79c01a25f3c825eee2.json\", \"format\": {\"type\": \"json\"}}, \"mark\": {\"type\": \"line\", \"opacity\": 0.3}, \"encoding\": {\"x\": {\"field\": \"time\", \"title\": \"time (local)\", \"type\": \"temporal\"}, \"y\": {\"axis\": {\"offset\": 50, \"orient\": \"right\"}, \"field\": \"value\", \"scale\": {\"domain\": [-1000, 1000]}, \"title\": [\"Incoming SW\", \"radiation (W/m^2)\"], \"type\": \"quantitative\"}}}, {\"data\": {\"url\": \"altair-data-c863130e3d86951f88c15c52dff3838d.json\", \"format\": {\"type\": \"json\"}}, \"mark\": {\"type\": \"line\"}, \"encoding\": {\"x\": {\"field\": \"time\", \"title\": \"time (local)\", \"type\": \"temporal\"}, \"y\": {\"axis\": {\"orient\": \"right\"}, \"field\": \"value\", \"title\": \"Net radiation (W/m^2)\", \"type\": \"quantitative\"}}}, {\"data\": {\"url\": \"altair-data-62a5ee068ae32e192e9ee8d394c1d428.json\", \"format\": {\"type\": \"json\"}}, \"mark\": {\"type\": \"line\", \"color\": \"orange\"}, \"encoding\": {\"x\": {\"field\": \"time\", \"type\": \"temporal\"}, \"y\": {\"axis\": {\"orient\": \"left\"}, \"field\": \"value\", \"title\": \"Soil moisture\", \"type\": \"quantitative\"}}}], \"height\": 100, \"resolve\": {\"scale\": {\"y\": \"independent\"}}}], \"resolve\": {\"scale\": {\"color\": \"independent\", \"strokeDash\": \"independent\", \"x\": \"shared\"}}, \"$schema\": \"https://vega.github.io/schema/vega-lite/v5.8.0.json\"}, {\"mode\": \"vega-lite\"});\n",
       "</script>"
      ],
      "text/plain": [
       "alt.VConcatChart(...)"
      ]
     },
     "execution_count": 224,
     "metadata": {},
     "output_type": "execute_result"
    }
   ],
   "source": [
    "figure"
   ]
  },
  {
   "attachments": {},
   "cell_type": "markdown",
   "metadata": {},
   "source": [
    "Find day and value of max SWE by tower"
   ]
  },
  {
   "cell_type": "code",
   "execution_count": null,
   "metadata": {},
   "outputs": [],
   "source": [
    "display(sos_sublimation_src.query(\"tower == 'c'\").sort_values('value', ascending=False).head(1))\n",
    "display(sos_sublimation_src.query(\"tower == 'd'\").sort_values('value', ascending=False).head(1))\n",
    "display(sos_sublimation_src.query(\"tower == 'ue'\").sort_values('value', ascending=False).head(1))\n",
    "display(sos_sublimation_src.query(\"tower == 'uw'\").sort_values('value', ascending=False).head(1))"
   ]
  },
  {
   "cell_type": "code",
   "execution_count": null,
   "metadata": {},
   "outputs": [],
   "source": [
    "display(sos_swe_chart_src.query(\"tower == 'c'\").sort_values('value', ascending=False).head(1))\n",
    "display(sos_swe_chart_src.query(\"tower == 'd'\").sort_values('value', ascending=False).head(1))\n",
    "display(sos_swe_chart_src.query(\"tower == 'ue'\").sort_values('value', ascending=False).head(1))\n",
    "display(sos_swe_chart_src.query(\"tower == 'uw'\").sort_values('value', ascending=False).head(1))"
   ]
  },
  {
   "cell_type": "code",
   "execution_count": null,
   "metadata": {},
   "outputs": [],
   "source": [
    "print(100 *\n",
    "    list(sos_sublimation_src.query(\"tower == 'c'\").sort_values('value', ascending=False).head(1).value)[0]\n",
    "    /\n",
    "    list(sos_swe_chart_src.query(\"tower == 'c'\").sort_values('value', ascending=False).head(1).value)[0]\n",
    ")\n",
    "print(100 *\n",
    "    list(sos_sublimation_src.query(\"tower == 'd'\").sort_values('value', ascending=False).head(1).value)[0]\n",
    "    /\n",
    "    list(sos_swe_chart_src.query(\"tower == 'd'\").sort_values('value', ascending=False).head(1).value)[0]\n",
    ")\n",
    "print(100 *\n",
    "    list(sos_sublimation_src.query(\"tower == 'ue'\").sort_values('value', ascending=False).head(1).value)[0]\n",
    "    /\n",
    "    list(sos_swe_chart_src.query(\"tower == 'ue'\").sort_values('value', ascending=False).head(1).value)[0]\n",
    ")\n",
    "print(100 *\n",
    "    list(sos_sublimation_src.query(\"tower == 'uw'\").sort_values('value', ascending=False).head(1).value)[0]\n",
    "    /\n",
    "    list(sos_swe_chart_src.query(\"tower == 'uw'\").sort_values('value', ascending=False).head(1).value)[0]\n",
    ")"
   ]
  },
  {
   "attachments": {},
   "cell_type": "markdown",
   "metadata": {},
   "source": [
    "# Find case study dates:\n",
    "1. Calculate 3-consecutive-day average sublimation rate\n",
    "2. Find largest value in each month (excluding May)\n",
    "4. Find smallest value in each month (excluding May)"
   ]
  },
  {
   "cell_type": "code",
   "execution_count": null,
   "metadata": {},
   "outputs": [],
   "source": [
    "local_src.set_index('time').loc[:'2023-04-09'].rolling(window=3, center=True).sum().sort_values('value', ascending=False).head(50)\n",
    "\n",
    "# highest, first appearance from each month excluding May:\n",
    "#   12/22\n",
    "#   03/06\n",
    "#   04/03\n",
    "#   02/20"
   ]
  },
  {
   "cell_type": "code",
   "execution_count": null,
   "metadata": {},
   "outputs": [],
   "source": [
    "local_src[['value', 'time']].set_index('time').rolling(window=3, center=True).sum().sort_values('value', ascending=True).head(50)\n",
    "\n",
    "# lowest, first appearance from each month excluding May:\n",
    "#   01/07 (negative)\n",
    "#   12/10 (negative)\n",
    "#   02/02 (negative)\n",
    "#   02/12 (positive)\n",
    "#   12/17 (positive)\n",
    "#   01/13 (positive)"
   ]
  },
  {
   "attachments": {},
   "cell_type": "markdown",
   "metadata": {},
   "source": [
    "# Look at Turbulence at different sites"
   ]
  },
  {
   "cell_type": "code",
   "execution_count": null,
   "metadata": {},
   "outputs": [],
   "source": [
    "sos_tke_src = tidy_df_30Min.query(\n",
    "    \"measurement == 'turbulent kinetic energy'\"\n",
    ").query(\n",
    "    \"height  == 3\"\n",
    ")\n",
    "sos_tke_src['EC System'] = sos_tke_src.apply(lambda row: f\"SoS SAIL Kettle Ponds, tower {row.tower}\", axis=1)"
   ]
  },
  {
   "cell_type": "code",
   "execution_count": null,
   "metadata": {},
   "outputs": [],
   "source": [
    "alt.Chart(sos_tke_src).mark_line().encode(\n",
    "    alt.X(\"time:T\"),\n",
    "    alt.Y(\"value:Q\"),\n",
    "    alt.Color(\"EC System:N\")\n",
    ").properties(width=800)"
   ]
  },
  {
   "cell_type": "code",
   "execution_count": null,
   "metadata": {},
   "outputs": [],
   "source": [
    "ecor_gothic_ds_thisseason['TKE'] = 0.5*(ecor_gothic_ds_thisseason['var_u'] + ecor_gothic_ds_thisseason['var_v'] + ecor_gothic_ds_thisseason['var_w'])\n",
    "ecor_kps_ds_thisseason['TKE'] = 0.5*(ecor_kps_ds_thisseason['var_u'] + ecor_kps_ds_thisseason['var_v'] + ecor_kps_ds_thisseason['var_w'])"
   ]
  },
  {
   "cell_type": "code",
   "execution_count": null,
   "metadata": {},
   "outputs": [],
   "source": [
    "ecor_gothic_ds_thisseason_tke_df = ecor_gothic_ds_thisseason['TKE'].to_dataframe().reset_index().rename(columns={'TKE': 'value'})\n",
    "ecor_kps_ds_thisseason_tke_df = ecor_kps_ds_thisseason['TKE'].to_dataframe().reset_index().rename(columns={'TKE': 'value'})\n",
    "\n",
    "ecor_gothic_ds_thisseason_tke_df['EC System'] = 'SAIL Gothic'\n",
    "ecor_kps_ds_thisseason_tke_df['EC System']  = 'SAIL Kettle Ponds'"
   ]
  },
  {
   "cell_type": "code",
   "execution_count": null,
   "metadata": {},
   "outputs": [],
   "source": [
    "tke_src = pd.concat([\n",
    "    ecor_gothic_ds_thisseason_tke_df,\n",
    "    ecor_kps_ds_thisseason_tke_df,\n",
    "    sos_tke_src.query(\"tower == 'c'\")[['time', 'EC System', 'value']]\n",
    "])"
   ]
  },
  {
   "cell_type": "code",
   "execution_count": null,
   "metadata": {},
   "outputs": [],
   "source": [
    "tke_boxplot = alt.Chart(tke_src).mark_boxplot(size=80, outliers=False).encode(\n",
    "    alt.X(\"EC System:N\").axis(labelAngle=20, labels=False),\n",
    "    alt.Y(\"value:Q\").title(\"TKE\"),\n",
    "    alt.Color(\"EC System:N\")\n",
    ").properties(width = 200)"
   ]
  },
  {
   "cell_type": "code",
   "execution_count": null,
   "metadata": {},
   "outputs": [],
   "source": [
    "tke_timeseries = alt.Chart(tke_src).transform_window(\n",
    "    rolling_mean = 'mean(value)',\n",
    "    frame = [-20, 20]\n",
    ").mark_line().encode(\n",
    "    alt.X(\"time:T\"),\n",
    "    alt.Y(\"rolling_mean:Q\").title(\"TKE\"),\n",
    "    alt.Color(\"EC System:N\")\n",
    ").properties(width=800)"
   ]
  },
  {
   "cell_type": "code",
   "execution_count": null,
   "metadata": {},
   "outputs": [],
   "source": [
    "tke_timeseries | tke_boxplot"
   ]
  },
  {
   "cell_type": "code",
   "execution_count": null,
   "metadata": {},
   "outputs": [],
   "source": []
  },
  {
   "cell_type": "code",
   "execution_count": null,
   "metadata": {},
   "outputs": [],
   "source": []
  },
  {
   "cell_type": "code",
   "execution_count": null,
   "metadata": {},
   "outputs": [],
   "source": []
  },
  {
   "cell_type": "code",
   "execution_count": null,
   "metadata": {},
   "outputs": [],
   "source": []
  }
 ],
 "metadata": {
  "kernelspec": {
   "display_name": "arm",
   "language": "python",
   "name": "python3"
  },
  "language_info": {
   "codemirror_mode": {
    "name": "ipython",
    "version": 3
   },
   "file_extension": ".py",
   "mimetype": "text/x-python",
   "name": "python",
   "nbconvert_exporter": "python",
   "pygments_lexer": "ipython3",
   "version": "3.11.0"
  },
  "orig_nbformat": 4
 },
 "nbformat": 4,
 "nbformat_minor": 2
}
