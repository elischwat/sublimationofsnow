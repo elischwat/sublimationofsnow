{
 "cells": [
  {
   "cell_type": "code",
   "execution_count": 1,
   "metadata": {},
   "outputs": [],
   "source": [
    "import numpy as np\n",
    "import pandas as pd\n",
    "from sublimpy import utils, tidy\n",
    "import altair as alt\n",
    "alt.data_transformers.enable('json')\n",
    "from scipy import interpolate\n",
    "\n",
    "import swifter\n",
    "import xarray as xr\n",
    "import tqdm\n",
    "import matplotlib.pyplot as plt\n",
    "from metpy.units import units\n",
    "\n",
    "import datetime as dt\n",
    "from sklearn.metrics import r2_score\n",
    "from metpy.units import units\n",
    "import math \n",
    "import geopandas as gpd"
   ]
  },
  {
   "cell_type": "code",
   "execution_count": 2,
   "metadata": {},
   "outputs": [],
   "source": [
    "HEIGHTS = [1,3,10]\n",
    "HORIZ_GRID_SPACING = 50\n",
    "VERT_GRID_SPACING = 20\n",
    "\n",
    "data_start_date = '20221129 2330'\n",
    "data_cutoff_date = '20230509 0000'\n",
    "\n",
    "## PARAMETERS FOR SOS DATA\n",
    "# streamwise coordinates\n",
    "sos_tidy_fn = f\"process_slow_data/tidy_df_20221101_20230619_planar_fit_multiplane_STRAIGHTUP_q7_flags9000_pf10.parquet\"\n",
    "sos_tidy_fn_single_pf = f\"process_slow_data/tidy_df_20221101_20230619_planar_fit_multiplane_STRAIGHTUP_q7_flags9000_archive.parquet\"\n",
    "\n",
    "## PARAMETERS FOR SPLASH DATA\n",
    "# download dir\n",
    "avp_download_dir = \"/Users/elischwat/Development/data/sublimationofsnow/asfs/ASFS-50_Level2_SPLASH2021-2023/\"\n",
    "kps_download_dir = \"/Users/elischwat/Development/data/sublimationofsnow/asfs/ASFS-30_Level2_SPLASH2021-2023/\"\n",
    "\n",
    "ftp_url = 'ftp1.esrl.noaa.gov'\n",
    "# Avery Picnic product\n",
    "avp_url = f'Observations/Campaigns/SPLASH/asfs50/2_level_ingest/'\n",
    "# Kettle Ponds product\n",
    "kps_url = f'Observations/Campaigns/SPLASH/asfs30/2_level_ingest/'"
   ]
  },
  {
   "cell_type": "markdown",
   "metadata": {},
   "source": [
    "# Open data"
   ]
  },
  {
   "cell_type": "markdown",
   "metadata": {},
   "source": [
    "## SOS"
   ]
  },
  {
   "cell_type": "code",
   "execution_count": 3,
   "metadata": {},
   "outputs": [
    {
     "name": "stderr",
     "output_type": "stream",
     "text": [
      "/var/folders/x_/2h52bcjx2px15bhmdpdd748h0000gn/T/ipykernel_60108/831388400.py:7: UserWarning: Boolean Series key will be reindexed to match DataFrame index.\n",
      "  tidy_df = tidy_df[tidy_df.time > data_start_date][tidy_df.time < data_cutoff_date]\n",
      "/var/folders/x_/2h52bcjx2px15bhmdpdd748h0000gn/T/ipykernel_60108/831388400.py:16: UserWarning: Boolean Series key will be reindexed to match DataFrame index.\n",
      "  tidy_df_single_pf = tidy_df_single_pf[tidy_df_single_pf.time > data_start_date][tidy_df_single_pf.time < data_cutoff_date]\n"
     ]
    }
   ],
   "source": [
    "tidy_df = pd.read_parquet(sos_tidy_fn)\n",
    "# Convert data timezone to local and clean up data on the ends\n",
    "# convert time column to datetime\n",
    "tidy_df['time'] = pd.to_datetime(tidy_df['time'])\n",
    "tidy_df = utils.modify_df_timezone(tidy_df, 'UTC', 'US/Mountain')\n",
    "# limit data to our dates of interest, based on continuous snow cover at Kettle Ponds\n",
    "tidy_df = tidy_df[tidy_df.time > data_start_date][tidy_df.time < data_cutoff_date]\n",
    "tidy_df = tidy_df.set_index('time').sort_index().loc[data_start_date:data_cutoff_date].reset_index()\n",
    "\n",
    "tidy_df_single_pf = pd.read_parquet(sos_tidy_fn_single_pf)\n",
    "# Convert data timezone to local and clean up data on the ends\n",
    "# convert time column to datetime\n",
    "tidy_df_single_pf['time'] = pd.to_datetime(tidy_df_single_pf['time'])\n",
    "tidy_df_single_pf = utils.modify_df_timezone(tidy_df_single_pf, 'UTC', 'US/Mountain')\n",
    "# limit data to our dates of interest, based on continuous snow cover at Kettle Ponds\n",
    "tidy_df_single_pf = tidy_df_single_pf[tidy_df_single_pf.time > data_start_date][tidy_df_single_pf.time < data_cutoff_date]\n",
    "tidy_df_single_pf = tidy_df_single_pf.set_index('time').sort_index().loc[data_start_date:data_cutoff_date].reset_index()"
   ]
  },
  {
   "cell_type": "code",
   "execution_count": 4,
   "metadata": {},
   "outputs": [
    {
     "data": {
      "text/plain": [
       "(Timestamp('2022-11-30 00:00:00'), Timestamp('2023-05-08 23:30:00'))"
      ]
     },
     "execution_count": 4,
     "metadata": {},
     "output_type": "execute_result"
    }
   ],
   "source": [
    "tidy_df.time.min(), tidy_df.time.max()"
   ]
  },
  {
   "cell_type": "code",
   "execution_count": 5,
   "metadata": {},
   "outputs": [
    {
     "name": "stdout",
     "output_type": "stream",
     "text": [
      "1534\n",
      "1513\n"
     ]
    }
   ],
   "source": [
    "print(len(tidy_df.query(\"variable == 'T_3m_c'\").set_index('time').loc['20230301':'20230401']))\n",
    "print(len(tidy_df.query(\"variable == 'T_3m_c'\").set_index('time').loc['20230301':'20230401'].dropna()))"
   ]
  },
  {
   "cell_type": "code",
   "execution_count": 6,
   "metadata": {},
   "outputs": [
    {
     "name": "stdout",
     "output_type": "stream",
     "text": [
      "1488\n",
      "1488\n"
     ]
    }
   ],
   "source": [
    "print(len(tidy_df.query(\"variable == 'T_3m_c'\").set_index('time').loc['20230401':'20230501']))\n",
    "print(len(tidy_df.query(\"variable == 'T_3m_c'\").set_index('time').loc['20230401':'20230501'].dropna()))"
   ]
  },
  {
   "cell_type": "code",
   "execution_count": 7,
   "metadata": {},
   "outputs": [
    {
     "data": {
      "text/plain": [
       "value\n",
       "(292, 332]    0.454391\n",
       "(80, 140]     0.214632\n",
       "(0, 80]       0.147756\n",
       "(332, 360]    0.102343\n",
       "(140, 292]    0.080879\n",
       "Name: count, dtype: float64"
      ]
     },
     "execution_count": 7,
     "metadata": {},
     "output_type": "execute_result"
    }
   ],
   "source": [
    "src = tidy_df.query(f\"variable == 'dir_3m_c'\")['value'].dropna()\n",
    "pd.cut(\n",
    "    src,\n",
    "    [0,80, 140, 292,332, 360]\n",
    ").value_counts() / len(src)"
   ]
  },
  {
   "cell_type": "markdown",
   "metadata": {},
   "source": [
    "## SPLASH"
   ]
  },
  {
   "cell_type": "code",
   "execution_count": 55,
   "metadata": {},
   "outputs": [
    {
     "name": "stderr",
     "output_type": "stream",
     "text": [
      "100%|██████████| 646/646 [00:35<00:00, 18.01it/s]\n"
     ]
    }
   ],
   "source": [
    "\n",
    "# Get the list of files in the directory\n",
    "file_list = os.listdir(kps_download_dir)\n",
    "\n",
    "# file_list = [f for f in file_list if 'sledmet.asfs30.level2.0.1min.' in f]\n",
    "file_list = [f for f in file_list if 'sledmet.asfs30.level2.0.1min.' in f]\n",
    "\n",
    "# Sort the file list\n",
    "file_list.sort()\n",
    "\n",
    "# Create an empty list to store the dataarrays\n",
    "mixingratio_dataarray_list = []\n",
    "abshum_dataarray_list = []\n",
    "snowdepth_list = []\n",
    "temp_dataarray_list = []\n",
    "rh_dataarray_list = []\n",
    "w_dataarray_list = []\n",
    "\n",
    "# Iterate over each file with tqdm\n",
    "for file_name in tqdm.tqdm(file_list):\n",
    "    # Open the file using xarray\n",
    "    dataset = xr.open_dataset(os.path.join(kps_download_dir, file_name))\n",
    "    \n",
    "    # Extract the dataarray for the variable 'mixing_ratio', Add the dataarray to the list\n",
    "    mixingratio_dataarray_list.append(dataset['mixing_ratio'])\n",
    "    abshum_dataarray_list.append(dataset['h2o_licor'])\n",
    "    snowdepth_list.append(dataset['snow_depth'])\n",
    "    temp_dataarray_list.append(dataset['temp'])  # Add this line\n",
    "    rh_dataarray_list.append(dataset['rh'])  # Add this line\n",
    "    w_dataarray_list.append(dataset['wspd_w_mean'])  # Add this line\n",
    "\n",
    "mixingratio_ds = xr.concat(mixingratio_dataarray_list, dim='time')\n",
    "mixingratio_ds = utils.modify_xarray_timezone(mixingratio_ds, 'UTC', 'US/Mountain')\n",
    "abshum_ds = xr.concat(abshum_dataarray_list, dim='time')\n",
    "abshum_ds = utils.modify_xarray_timezone(abshum_ds, 'UTC', 'US/Mountain')\n",
    "annex_snowdepth_ds = xr.concat(snowdepth_list, dim='time')\n",
    "annex_snowdepth_ds = utils.modify_xarray_timezone(annex_snowdepth_ds, 'UTC', 'US/Mountain')\n",
    "temp_ds = xr.concat(temp_dataarray_list, dim='time')\n",
    "temp_ds = utils.modify_xarray_timezone(temp_ds, 'UTC', 'US/Mountain')\n",
    "rh_ds = xr.concat(rh_dataarray_list, dim='time')\n",
    "rh_ds = utils.modify_xarray_timezone(rh_ds, 'UTC', 'US/Mountain')\n",
    "w_ds = xr.concat(w_dataarray_list, dim='time')\n",
    "w_ds = utils.modify_xarray_timezone(w_ds, 'UTC', 'US/Mountain')"
   ]
  },
  {
   "cell_type": "markdown",
   "metadata": {},
   "source": [
    "# Create categories"
   ]
  },
  {
   "cell_type": "code",
   "execution_count": 8,
   "metadata": {},
   "outputs": [
    {
     "data": {
      "text/plain": [
       "(1409, 3891)"
      ]
     },
     "execution_count": 8,
     "metadata": {},
     "output_type": "execute_result"
    }
   ],
   "source": [
    "# Identify lists of timestamps for different categories\n",
    "bs_times = list(pd.to_datetime(list(set(\n",
    "    tidy_df.query(\"variable == 'SF_avg_1m_ue'\").query(\"value > 0\").time\n",
    ").union(\n",
    "    set(tidy_df.query(\"variable == 'SF_avg_2m_ue'\").query(\"value > 0\").time)\n",
    "))))\n",
    "nobs_times = list(pd.to_datetime(list(set(tidy_df.time).difference(bs_times))))\n",
    "\n",
    "decoupled_times = list(pd.to_datetime(tidy_df.query(\"variable == 'omega_3m_c'\").query(\"value < 0.43\").time))\n",
    "weaklycoupled_times = list(pd.to_datetime(tidy_df.query(\"variable == 'omega_3m_c'\").query(\"value >= 0.43\").query(\"value <= 0.61\").time))\n",
    "coupled_times = list(pd.to_datetime(tidy_df.query(\"variable == 'omega_3m_c'\").query(\"value > 0.61\").time))\n",
    "\n",
    "ri_stable_times = list(pd.to_datetime(tidy_df.query(\"variable == 'Ri_3m_c'\").query(\"value > 0.25\").time))\n",
    "ri_unstable_times = list(pd.to_datetime(tidy_df.query(\"variable == 'Ri_3m_c'\").query(\"value < -0.01\").time))\n",
    "ri_neutral_times = list(pd.to_datetime(tidy_df.query(\"variable == 'Ri_3m_c'\").query(\"value >= -0.01\").query(\"value <= 0.25\").time))\n",
    "\n",
    "tgrad_stable_times = list(pd.to_datetime(tidy_df.query(\"variable == 'temp_gradient_3m_c'\").query(\"value > 0.01\").time))\n",
    "tgrad_unstable_times = list(pd.to_datetime(tidy_df.query(\"variable == 'temp_gradient_3m_c'\").query(\"value < -0.01\").time))\n",
    "tgrad_neutral_times = list(pd.to_datetime(tidy_df.query(\"variable == 'temp_gradient_3m_c'\").query(\"value >= -0.01\").query(\"value <= 0.01\").time))\n",
    "\n",
    "upvalley_wind_times = list(pd.to_datetime(tidy_df[tidy_df.variable == 'dir_3m_c'].query(\"value < 152\").query(\"value > 92\").time.values))\n",
    "downvalley_wind_times = list(pd.to_datetime(tidy_df[tidy_df.variable == 'dir_3m_c'].query(\"value < 342\").query(\"value > 292\").time.values))\n",
    "\n",
    "downvalley_nobs_times = set(downvalley_wind_times).intersection(set(nobs_times))\n",
    "upvalley_nobs_times = set(upvalley_wind_times).intersection(set(nobs_times))\n",
    "\n",
    "len(upvalley_wind_times),len(downvalley_wind_times)"
   ]
  },
  {
   "cell_type": "code",
   "execution_count": 9,
   "metadata": {},
   "outputs": [
    {
     "name": "stdout",
     "output_type": "stream",
     "text": [
      "2899\n",
      "296\n",
      "4460\n",
      "7014\n",
      "229\n",
      "415\n"
     ]
    }
   ],
   "source": [
    "print(len(ri_stable_times))\n",
    "print(len(ri_unstable_times))\n",
    "print(len(ri_neutral_times))\n",
    "print(len(tgrad_stable_times))\n",
    "print(len(tgrad_unstable_times))\n",
    "print(len(tgrad_neutral_times))"
   ]
  },
  {
   "cell_type": "markdown",
   "metadata": {},
   "source": [
    "# Compare Vertical velocities for the two datasets (10-sector PF vs normal PF)"
   ]
  },
  {
   "cell_type": "code",
   "execution_count": 10,
   "metadata": {},
   "outputs": [],
   "source": [
    "w_chart_all_data = (\n",
    "    alt.Chart(\n",
    "        tidy_df.query(\"measurement == 'w'\").query(\"tower == 'c'\").query(\"height > 1\")\n",
    "    ).mark_line().encode(\n",
    "        alt.X('hoursminutes(time):T'),\n",
    "        alt.Y('mean(value):Q'),\n",
    "        alt.Color('height:O')\n",
    "    ).properties(width=200, height=200, title = 'Planar fit with 10 sectors') | alt.Chart(\n",
    "        tidy_df_single_pf.query(\"measurement == 'w'\").query(\"tower == 'c'\").query(\"height > 1\")\n",
    "    ).mark_line().encode(\n",
    "        alt.X('hoursminutes(time):T'),\n",
    "        alt.Y('mean(value):Q'),\n",
    "        alt.Color('height:O').scale(scheme='turbo')\n",
    "    ).properties(width=200, height=200, title = 'Planar Fit')\n",
    ").resolve_scale(y='shared', x='shared', color='shared').properties(title= \"All Data\")"
   ]
  },
  {
   "cell_type": "code",
   "execution_count": 11,
   "metadata": {},
   "outputs": [],
   "source": [
    "w_chart_upvalley_winds = (\n",
    "    alt.Chart(\n",
    "        tidy_df[tidy_df.time.isin(upvalley_wind_times)].query(\"measurement == 'w'\").query(\"tower == 'c'\").query(\"height > 1\")\n",
    "    ).mark_line().encode(\n",
    "        alt.X('hours(time):T'),\n",
    "        alt.Y('median(value):Q'),\n",
    "        alt.Color('height:O')\n",
    "    ).properties(width=200, height=200, title='Planar fit with 10 sectors') | alt.Chart(\n",
    "        tidy_df_single_pf[tidy_df_single_pf.time.isin(upvalley_wind_times)].query(\"measurement == 'w'\").query(\"tower == 'c'\").query(\"height > 1\")\n",
    "    ).mark_line().encode(\n",
    "        alt.X('hours(time):T'),\n",
    "        alt.Y('median(value):Q'),\n",
    "        alt.Color('height:O').scale(scheme='turbo')\n",
    "    ).properties(width=200, height=200, title='Planar Fit')\n",
    ").resolve_scale(y='shared', x='shared', color='shared').properties(title= \"During Upvalley Winds\")"
   ]
  },
  {
   "cell_type": "code",
   "execution_count": 12,
   "metadata": {},
   "outputs": [
    {
     "data": {
      "text/html": [
       "\n",
       "<style>\n",
       "  #altair-viz-5c02efff269b4b068ffb99138ef63ee5.vega-embed {\n",
       "    width: 100%;\n",
       "    display: flex;\n",
       "  }\n",
       "\n",
       "  #altair-viz-5c02efff269b4b068ffb99138ef63ee5.vega-embed details,\n",
       "  #altair-viz-5c02efff269b4b068ffb99138ef63ee5.vega-embed details summary {\n",
       "    position: relative;\n",
       "  }\n",
       "</style>\n",
       "<div id=\"altair-viz-5c02efff269b4b068ffb99138ef63ee5\"></div>\n",
       "<script type=\"text/javascript\">\n",
       "  var VEGA_DEBUG = (typeof VEGA_DEBUG == \"undefined\") ? {} : VEGA_DEBUG;\n",
       "  (function(spec, embedOpt){\n",
       "    let outputDiv = document.currentScript.previousElementSibling;\n",
       "    if (outputDiv.id !== \"altair-viz-5c02efff269b4b068ffb99138ef63ee5\") {\n",
       "      outputDiv = document.getElementById(\"altair-viz-5c02efff269b4b068ffb99138ef63ee5\");\n",
       "    }\n",
       "    const paths = {\n",
       "      \"vega\": \"https://cdn.jsdelivr.net/npm/vega@5?noext\",\n",
       "      \"vega-lib\": \"https://cdn.jsdelivr.net/npm/vega-lib?noext\",\n",
       "      \"vega-lite\": \"https://cdn.jsdelivr.net/npm/vega-lite@5.20.1?noext\",\n",
       "      \"vega-embed\": \"https://cdn.jsdelivr.net/npm/vega-embed@6?noext\",\n",
       "    };\n",
       "\n",
       "    function maybeLoadScript(lib, version) {\n",
       "      var key = `${lib.replace(\"-\", \"\")}_version`;\n",
       "      return (VEGA_DEBUG[key] == version) ?\n",
       "        Promise.resolve(paths[lib]) :\n",
       "        new Promise(function(resolve, reject) {\n",
       "          var s = document.createElement('script');\n",
       "          document.getElementsByTagName(\"head\")[0].appendChild(s);\n",
       "          s.async = true;\n",
       "          s.onload = () => {\n",
       "            VEGA_DEBUG[key] = version;\n",
       "            return resolve(paths[lib]);\n",
       "          };\n",
       "          s.onerror = () => reject(`Error loading script: ${paths[lib]}`);\n",
       "          s.src = paths[lib];\n",
       "        });\n",
       "    }\n",
       "\n",
       "    function showError(err) {\n",
       "      outputDiv.innerHTML = `<div class=\"error\" style=\"color:red;\">${err}</div>`;\n",
       "      throw err;\n",
       "    }\n",
       "\n",
       "    function displayChart(vegaEmbed) {\n",
       "      vegaEmbed(outputDiv, spec, embedOpt)\n",
       "        .catch(err => showError(`Javascript Error: ${err.message}<br>This usually means there's a typo in your chart specification. See the javascript console for the full traceback.`));\n",
       "    }\n",
       "\n",
       "    if(typeof define === \"function\" && define.amd) {\n",
       "      requirejs.config({paths});\n",
       "      require([\"vega-embed\"], displayChart, err => showError(`Error loading script: ${err.message}`));\n",
       "    } else {\n",
       "      maybeLoadScript(\"vega\", \"5\")\n",
       "        .then(() => maybeLoadScript(\"vega-lite\", \"5.20.1\"))\n",
       "        .then(() => maybeLoadScript(\"vega-embed\", \"6\"))\n",
       "        .catch(showError)\n",
       "        .then(() => displayChart(vegaEmbed));\n",
       "    }\n",
       "  })({\"config\": {\"view\": {\"continuousWidth\": 300, \"continuousHeight\": 300}, \"title\": {\"anchor\": \"middle\"}}, \"vconcat\": [{\"hconcat\": [{\"data\": {\"url\": \"altair-data-fb2c5fc633448eebb150390b8aad935b.json\", \"format\": {\"type\": \"json\"}}, \"mark\": {\"type\": \"line\"}, \"encoding\": {\"color\": {\"field\": \"height\", \"type\": \"ordinal\"}, \"x\": {\"field\": \"time\", \"timeUnit\": \"hoursminutes\", \"type\": \"temporal\"}, \"y\": {\"aggregate\": \"mean\", \"field\": \"value\", \"type\": \"quantitative\"}}, \"height\": 200, \"title\": \"Planar fit with 10 sectors\", \"width\": 200}, {\"data\": {\"url\": \"altair-data-52de2f9ac78926583c585014540b41ed.json\", \"format\": {\"type\": \"json\"}}, \"mark\": {\"type\": \"line\"}, \"encoding\": {\"color\": {\"field\": \"height\", \"scale\": {\"scheme\": \"turbo\"}, \"type\": \"ordinal\"}, \"x\": {\"field\": \"time\", \"timeUnit\": \"hoursminutes\", \"type\": \"temporal\"}, \"y\": {\"aggregate\": \"mean\", \"field\": \"value\", \"type\": \"quantitative\"}}, \"height\": 200, \"title\": \"Planar Fit\", \"width\": 200}], \"resolve\": {\"scale\": {\"color\": \"shared\", \"x\": \"shared\", \"y\": \"shared\"}}, \"title\": \"All Data\"}, {\"hconcat\": [{\"data\": {\"url\": \"altair-data-b4b329c551887f9e874d3134e3bbc36d.json\", \"format\": {\"type\": \"json\"}}, \"mark\": {\"type\": \"line\"}, \"encoding\": {\"color\": {\"field\": \"height\", \"type\": \"ordinal\"}, \"x\": {\"field\": \"time\", \"timeUnit\": \"hours\", \"type\": \"temporal\"}, \"y\": {\"aggregate\": \"median\", \"field\": \"value\", \"type\": \"quantitative\"}}, \"height\": 200, \"title\": \"Planar fit with 10 sectors\", \"width\": 200}, {\"data\": {\"url\": \"altair-data-59cd581b508ca197b14be1e4bd492f93.json\", \"format\": {\"type\": \"json\"}}, \"mark\": {\"type\": \"line\"}, \"encoding\": {\"color\": {\"field\": \"height\", \"scale\": {\"scheme\": \"turbo\"}, \"type\": \"ordinal\"}, \"x\": {\"field\": \"time\", \"timeUnit\": \"hours\", \"type\": \"temporal\"}, \"y\": {\"aggregate\": \"median\", \"field\": \"value\", \"type\": \"quantitative\"}}, \"height\": 200, \"title\": \"Planar Fit\", \"width\": 200}], \"resolve\": {\"scale\": {\"color\": \"shared\", \"x\": \"shared\", \"y\": \"shared\"}}, \"title\": \"During Upvalley Winds\"}], \"$schema\": \"https://vega.github.io/schema/vega-lite/v5.20.1.json\"}, {\"mode\": \"vega-lite\"});\n",
       "</script>"
      ],
      "text/plain": [
       "alt.VConcatChart(...)"
      ]
     },
     "execution_count": 12,
     "metadata": {},
     "output_type": "execute_result"
    }
   ],
   "source": [
    "(w_chart_all_data & w_chart_upvalley_winds).configure_title(\n",
    "    anchor='middle',\n",
    ")\n"
   ]
  },
  {
   "cell_type": "markdown",
   "metadata": {},
   "source": [
    "# Solutions for transport terms"
   ]
  },
  {
   "cell_type": "markdown",
   "metadata": {},
   "source": [
    "## Vertical advection term, 1D numerical solution"
   ]
  },
  {
   "cell_type": "markdown",
   "metadata": {},
   "source": [
    "### Collect mixing ratio data we need"
   ]
  },
  {
   "cell_type": "code",
   "execution_count": 186,
   "metadata": {},
   "outputs": [
    {
     "name": "stderr",
     "output_type": "stream",
     "text": [
      "/var/folders/x_/2h52bcjx2px15bhmdpdd748h0000gn/T/ipykernel_60108/1512543711.py:3: SettingWithCopyWarning: \n",
      "A value is trying to be set on a copy of a slice from a DataFrame.\n",
      "Try using .loc[row_indexer,col_indexer] = value instead\n",
      "\n",
      "See the caveats in the documentation: https://pandas.pydata.org/pandas-docs/stable/user_guide/indexing.html#returning-a-view-versus-a-copy\n",
      "  mixing_ratio_profile_df.measurement = 'q_hygr'\n"
     ]
    }
   ],
   "source": [
    "## Isolate humidity measurements (from hygrometers)\n",
    "mixing_ratio_profile_df = tidy_df[tidy_df.measurement.isin(['mixing ratio'])]\n",
    "mixing_ratio_profile_df.measurement = 'q_hygr'\n",
    "mixing_ratio_profile_df = mixing_ratio_profile_df.pivot_table(\n",
    "    index='time', columns=['height', 'tower', 'measurement'], values='value'\n",
    ")\n",
    "\n",
    "## Isolate humidity measurements (from hygrometers)\n",
    "dryairdensity_profile_df = pd.concat([\n",
    "    tidy_df[tidy_df.measurement.isin(['dry air density'])],\n",
    "    tidy_df[tidy_df.variable.str.contains('Tsurfdryairdensity')]\n",
    "])\n",
    "dryairdensity_profile_df.measurement = 'rho_dryair'\n",
    "dryairdensity_profile_df = dryairdensity_profile_df.pivot_table(\n",
    "    index='time', columns=['height', 'tower', 'measurement'], values='value'\n",
    ")\n",
    "\n",
    "abs_humidity_df = mixing_ratio_profile_df.droplevel(level=2, axis=1) * dryairdensity_profile_df.droplevel(level=2, axis=1)"
   ]
  },
  {
   "cell_type": "code",
   "execution_count": 188,
   "metadata": {},
   "outputs": [],
   "source": [
    "\n",
    "# Combine with snow depth data\n",
    "abs_humidity_df = abs_humidity_df.melt(ignore_index=False).join(\n",
    "    tidy_df[tidy_df.variable == 'SnowDepth_c'].set_index('time')['value'].rename('snow depth')\n",
    ")\n",
    "\n",
    "# Calculate instrument height above snow surface\n",
    "abs_humidity_df['instrument_height'] = abs_humidity_df['height'] - abs_humidity_df['snow depth']\n",
    "\n",
    "# Filter out measurements that are buried in the snow\n",
    "abs_humidity_df = abs_humidity_df[\n",
    "    (abs_humidity_df['instrument_height'] > 0)\n",
    "    | (abs_humidity_df['height'] == 0)\n",
    "]\n",
    "\n",
    "abs_humidity_df['instrument_height'] = abs_humidity_df['instrument_height'].where(\n",
    "    abs_humidity_df['instrument_height'] > 0,\n",
    "    0\n",
    ")"
   ]
  },
  {
   "cell_type": "markdown",
   "metadata": {},
   "source": [
    "### Define functions to calculate gradient"
   ]
  },
  {
   "cell_type": "code",
   "execution_count": 189,
   "metadata": {},
   "outputs": [],
   "source": [
    "from sublimpy.gradients import LogPolynomialWithRoughness\n",
    "\n",
    "def calculate_mixingratio_gradient(\n",
    "        one_ts_groupby,\n",
    "        height4estimate,\n",
    "        Z0Q = 0.005\n",
    "    ):\n",
    "    \"\"\" \n",
    "    Calculates mixing ratio gradient from a dataframe with datetimeindex,\n",
    "    and columns `instrument_height`  and `value`, which holds mixing ratio\n",
    "    values. These calculations are done by fitting log-polynomial curve to \n",
    "    measurements of z and X where X is some measured variable.\n",
    "    We include a boundary wall condition, applying measured X at\n",
    "    roughness height (T=T_s at z=z0). We also adjust for snow depth \n",
    "    in our calculations.\n",
    "    \"\"\"    \n",
    "    heights = one_ts_groupby.sort_values('instrument_height')['instrument_height']\n",
    "    values = one_ts_groupby.sort_values('instrument_height')['value']\n",
    "\n",
    "    # USING SIMPLE NUMPY GRADIENTS\n",
    "    ########################################\n",
    "    # gradients = np.gradient(values, heights)\n",
    "    # gradients = pd.Series(\n",
    "    #     gradients, \n",
    "    #     index=one_ts_groupby.sort_values('instrument_height')['height']\n",
    "    # )\n",
    "    # return gradients.loc[height4estimate]\n",
    "    \n",
    "    # USING A FITTED LOG-LINEAR CURVE\n",
    "    ########################################\n",
    "    heights = heights.replace(0,Z0Q)\n",
    "\n",
    "    # calculate fitted loglinear parameters\n",
    "    params = LogPolynomialWithRoughness.fit_function(\n",
    "        values,\n",
    "        heights\n",
    "    )\n",
    "    values_pred = [\n",
    "        LogPolynomialWithRoughness.function(z, params[0], params[1], params[2])\n",
    "        for z in heights\n",
    "    ]\n",
    "    a = params[0]\n",
    "    b = params[1]\n",
    "    gradient = LogPolynomialWithRoughness.gradient_single_component(height4estimate, a, b)\n",
    "    return gradient"
   ]
  },
  {
   "cell_type": "code",
   "execution_count": 190,
   "metadata": {},
   "outputs": [],
   "source": [
    "def get_dsigma_dz_values_for_height(H):\n",
    "    dsigma_dz = abs_humidity_df.reset_index().swifter.groupby('time').apply(\n",
    "        lambda df: calculate_mixingratio_gradient(df, H)\n",
    "    )\n",
    "    return pd.DataFrame(dsigma_dz.rename('dsigma_dz'))\n",
    "\n",
    "def add_variables_to_dsigma_dz_values(H, dsigma_dz_values, tidy_df_specific_pf):\n",
    "    return dsigma_dz_values.join(\n",
    "        tidy_df_specific_pf.query(f\"variable == 'w_{H}m_c'\").set_index('time')['value'].rename('w')\n",
    "    ).join(\n",
    "        tidy_df_specific_pf.query(f\"variable == 'airdensity_{H}m_c'\").set_index('time')['value'].rename('rho_d')\n",
    "    ).join(\n",
    "        tidy_df_specific_pf.query(f\"variable == 'w_h2o__{H}m_c_gapfill'\").set_index('time')['value'].rename('w_h2o__')\n",
    "    )\n",
    "\n",
    "def calculate_transport_terms_with_dsigma_dz(H, dsigma_dz_values):\n",
    "    dsigma_dz_values['vertical_advection'] = dsigma_dz_values['w']*dsigma_dz_values['rho_d']*dsigma_dz_values['dsigma_dz']*1000\n",
    "    return dsigma_dz_values\n",
    "\n",
    "def get_advection_and_cumsum_df(H, tidy_df_specific_pf):\n",
    "    df = get_dsigma_dz_values_for_height(H)\n",
    "    df = add_variables_to_dsigma_dz_values(H, df, tidy_df_specific_pf) \n",
    "    df = calculate_transport_terms_with_dsigma_dz(H, df)\n",
    "    cumsum_df = df.loc['20221130': '20230509']\n",
    "    return df, cumsum_df\n"
   ]
  },
  {
   "cell_type": "markdown",
   "metadata": {},
   "source": [
    "### Calculate gradient for all timestamps\n",
    "Tower measurements at all heights >= 2"
   ]
  },
  {
   "cell_type": "code",
   "execution_count": 191,
   "metadata": {},
   "outputs": [
    {
     "data": {
      "application/vnd.jupyter.widget-view+json": {
       "model_id": "ab86c50f71ac4c2289e0da0a910fe61b",
       "version_major": 2,
       "version_minor": 0
      },
      "text/plain": [
       "  0%|          | 0/22 [00:00<?, ?it/s]"
      ]
     },
     "metadata": {},
     "output_type": "display_data"
    },
    {
     "data": {
      "application/vnd.jupyter.widget-view+json": {
       "model_id": "5879196ca1484d3199776bd7665db65a",
       "version_major": 2,
       "version_minor": 0
      },
      "text/plain": [
       "  0%|          | 0/22 [00:00<?, ?it/s]"
      ]
     },
     "metadata": {},
     "output_type": "display_data"
    },
    {
     "data": {
      "application/vnd.jupyter.widget-view+json": {
       "model_id": "a5146d9b0b8a4ed78222e0b7ed98e5e3",
       "version_major": 2,
       "version_minor": 0
      },
      "text/plain": [
       "  0%|          | 0/22 [00:00<?, ?it/s]"
      ]
     },
     "metadata": {},
     "output_type": "display_data"
    },
    {
     "data": {
      "application/vnd.jupyter.widget-view+json": {
       "model_id": "ee7cd2c16f804a0cb3db9c18abfc82a5",
       "version_major": 2,
       "version_minor": 0
      },
      "text/plain": [
       "  0%|          | 0/22 [00:00<?, ?it/s]"
      ]
     },
     "metadata": {},
     "output_type": "display_data"
    },
    {
     "data": {
      "application/vnd.jupyter.widget-view+json": {
       "model_id": "d3c4caff08ac4dc890e1dfe038404c7c",
       "version_major": 2,
       "version_minor": 0
      },
      "text/plain": [
       "  0%|          | 0/22 [00:00<?, ?it/s]"
      ]
     },
     "metadata": {},
     "output_type": "display_data"
    },
    {
     "data": {
      "application/vnd.jupyter.widget-view+json": {
       "model_id": "29cdd02f578941b2953f7b9ec4002ef2",
       "version_major": 2,
       "version_minor": 0
      },
      "text/plain": [
       "  0%|          | 0/22 [00:00<?, ?it/s]"
      ]
     },
     "metadata": {},
     "output_type": "display_data"
    },
    {
     "data": {
      "application/vnd.jupyter.widget-view+json": {
       "model_id": "919c1d41dd4247668598f1bbf380a831",
       "version_major": 2,
       "version_minor": 0
      },
      "text/plain": [
       "  0%|          | 0/22 [00:00<?, ?it/s]"
      ]
     },
     "metadata": {},
     "output_type": "display_data"
    },
    {
     "data": {
      "application/vnd.jupyter.widget-view+json": {
       "model_id": "db1d48dd87b641c39183b50c0f7c9fd6",
       "version_major": 2,
       "version_minor": 0
      },
      "text/plain": [
       "  0%|          | 0/22 [00:00<?, ?it/s]"
      ]
     },
     "metadata": {},
     "output_type": "display_data"
    },
    {
     "data": {
      "application/vnd.jupyter.widget-view+json": {
       "model_id": "3635b9719ac44a319533a698eabad735",
       "version_major": 2,
       "version_minor": 0
      },
      "text/plain": [
       "  0%|          | 0/22 [00:00<?, ?it/s]"
      ]
     },
     "metadata": {},
     "output_type": "display_data"
    },
    {
     "data": {
      "application/vnd.jupyter.widget-view+json": {
       "model_id": "3956754ccf2d415cb5a09fc2cd0b2036",
       "version_major": 2,
       "version_minor": 0
      },
      "text/plain": [
       "  0%|          | 0/22 [00:00<?, ?it/s]"
      ]
     },
     "metadata": {},
     "output_type": "display_data"
    },
    {
     "data": {
      "application/vnd.jupyter.widget-view+json": {
       "model_id": "db334dffa991466692c42bd011b9de4c",
       "version_major": 2,
       "version_minor": 0
      },
      "text/plain": [
       "  0%|          | 0/22 [00:00<?, ?it/s]"
      ]
     },
     "metadata": {},
     "output_type": "display_data"
    },
    {
     "data": {
      "application/vnd.jupyter.widget-view+json": {
       "model_id": "a4ae0b8ab7234b6d9cc877762a89c37e",
       "version_major": 2,
       "version_minor": 0
      },
      "text/plain": [
       "  0%|          | 0/22 [00:00<?, ?it/s]"
      ]
     },
     "metadata": {},
     "output_type": "display_data"
    },
    {
     "data": {
      "application/vnd.jupyter.widget-view+json": {
       "model_id": "d565d346385747cb8e4348b2e3b2eb55",
       "version_major": 2,
       "version_minor": 0
      },
      "text/plain": [
       "  0%|          | 0/22 [00:00<?, ?it/s]"
      ]
     },
     "metadata": {},
     "output_type": "display_data"
    },
    {
     "data": {
      "application/vnd.jupyter.widget-view+json": {
       "model_id": "f09210b07b584a83ab6bca84fab8e0f5",
       "version_major": 2,
       "version_minor": 0
      },
      "text/plain": [
       "  0%|          | 0/22 [00:00<?, ?it/s]"
      ]
     },
     "metadata": {},
     "output_type": "display_data"
    },
    {
     "data": {
      "application/vnd.jupyter.widget-view+json": {
       "model_id": "63ca567c1dfb49c7a5ac15fdb57c9cf2",
       "version_major": 2,
       "version_minor": 0
      },
      "text/plain": [
       "  0%|          | 0/22 [00:00<?, ?it/s]"
      ]
     },
     "metadata": {},
     "output_type": "display_data"
    },
    {
     "data": {
      "application/vnd.jupyter.widget-view+json": {
       "model_id": "c73629e330d04b51a6907ba676db4fc9",
       "version_major": 2,
       "version_minor": 0
      },
      "text/plain": [
       "  0%|          | 0/22 [00:00<?, ?it/s]"
      ]
     },
     "metadata": {},
     "output_type": "display_data"
    },
    {
     "data": {
      "application/vnd.jupyter.widget-view+json": {
       "model_id": "de5edf3de7f646bc9341a4f03a2ba8d4",
       "version_major": 2,
       "version_minor": 0
      },
      "text/plain": [
       "  0%|          | 0/22 [00:00<?, ?it/s]"
      ]
     },
     "metadata": {},
     "output_type": "display_data"
    },
    {
     "data": {
      "application/vnd.jupyter.widget-view+json": {
       "model_id": "80e5390f22bc4aa09e368ae46e7a0f86",
       "version_major": 2,
       "version_minor": 0
      },
      "text/plain": [
       "  0%|          | 0/22 [00:00<?, ?it/s]"
      ]
     },
     "metadata": {},
     "output_type": "display_data"
    },
    {
     "data": {
      "application/vnd.jupyter.widget-view+json": {
       "model_id": "8b8408c93cc2451a89d2615dd7160a16",
       "version_major": 2,
       "version_minor": 0
      },
      "text/plain": [
       "  0%|          | 0/22 [00:00<?, ?it/s]"
      ]
     },
     "metadata": {},
     "output_type": "display_data"
    }
   ],
   "source": [
    "dsigma_dz_values_for_height = dict()\n",
    "for H in range(2,21):\n",
    "    dsigma_dz_values_for_height[H] = get_advection_and_cumsum_df(H,     tidy_df)"
   ]
  },
  {
   "cell_type": "code",
   "execution_count": 192,
   "metadata": {},
   "outputs": [],
   "source": [
    "vertical_advection_estimates = pd.concat([\n",
    "    df[0].assign(height = H) for (H, df) in dsigma_dz_values_for_height.items()\n",
    "])"
   ]
  },
  {
   "cell_type": "markdown",
   "metadata": {},
   "source": [
    "## Horizontal advection finite difference"
   ]
  },
  {
   "cell_type": "code",
   "execution_count": 193,
   "metadata": {},
   "outputs": [],
   "source": [
    "# combine mixing ratio measurements from the two sites into one dataframe \n",
    "kpsannex_mixingratio_measurements = mixingratio_ds.sortby('time').sel(\n",
    "    time=slice(data_start_date, data_cutoff_date)\n",
    ").resample(time='30min').mean().rename('annex').to_dataframe() / 1000\n",
    "\n",
    "kps_mixingratio_measurements_2m = tidy_df.query(\"variable == 'mixingratio_2m_c'\").set_index('time')['value'].rename('kps_2m')\n",
    "kps_mixingratio_measurements_3m = tidy_df.query(\"variable == 'mixingratio_3m_c'\").set_index('time')['value'].rename('kps_3m')\n",
    "kps_mixingratio_measurements_4m = tidy_df.query(\"variable == 'mixingratio_4m_c'\").set_index('time')['value'].rename('kps_4m')\n",
    "\n",
    "kps_lateral_simple_df = kpsannex_mixingratio_measurements.join(\n",
    "    kps_mixingratio_measurements_2m\n",
    ").join(\n",
    "    kps_mixingratio_measurements_3m\n",
    ").join(\n",
    "    kps_mixingratio_measurements_4m\n",
    ")\n",
    "\n",
    "# isolate measurements to when wind is up (100˚ - 140˚) or downvalley (300 - 340)\n",
    "kps_lateral_simple_df = kps_lateral_simple_df.join(\n",
    "    tidy_df.query(\"variable == 'dir_10m_c'\").set_index('time')['value'].rename('dir_10m_c')\n",
    ").join(\n",
    "    tidy_df.query(\"variable == 'spd_3m_c'\").set_index('time')['value'].rename('spd_3m_c')\n",
    ").join(\n",
    "    1000*tidy_df.query(\"variable == 'dryairdensity_3m_c'\").set_index('time')['value'].rename('rho')\n",
    ").join(\n",
    "    tidy_df.query(\"variable == 'w_h2o__3m_c'\").set_index('time')['value'].rename('w_h2o__3m_c')\n",
    ")\n",
    "\n",
    "kps_lateral_simple_df = kps_lateral_simple_df[\n",
    "    ((kps_lateral_simple_df.dir_10m_c >= 112) & (kps_lateral_simple_df.dir_10m_c <= 152))\n",
    "    |\n",
    "    ((kps_lateral_simple_df.dir_10m_c >= 292) & (kps_lateral_simple_df.dir_10m_c <= 332))\n",
    "]\n",
    "# label each timestamp up or downvalley\n",
    "kps_lateral_simple_df['direction'] = kps_lateral_simple_df['dir_10m_c'].apply(lambda x: 'down' if 292 <= x <= 332 else 'up')\n",
    "# # Calculate deltas. During downvalley winds, ds = annex - kps. During up valley winds, ds = kps - annex\n",
    "kps_lateral_simple_df['ds_2m'] = kps_lateral_simple_df.apply(\n",
    "    lambda row: row['annex'] - row['kps_2m'] if row['direction'] == 'down' else row['kps_2m'] - row['annex'],\n",
    "    axis=1\n",
    ")\n",
    "kps_lateral_simple_df['ds_3m'] = kps_lateral_simple_df.apply(\n",
    "    lambda row: row['annex'] - row['kps_3m'] if row['direction'] == 'down' else row['kps_3m'] - row['annex'],\n",
    "    axis=1\n",
    ")\n",
    "\n",
    "kps_lateral_simple_df['ds_3m_uncertainty'] = 0.2/1000\n",
    "\n",
    "kps_lateral_simple_df['ds_4m'] = kps_lateral_simple_df.apply(\n",
    "    lambda row: row['annex'] - row['kps_4m'] if row['direction'] == 'down' else row['kps_4m'] - row['annex'],\n",
    "    axis=1\n",
    ")\n",
    "kps_lateral_simple_df['dx'] = 400\n",
    "kps_lateral_simple_df['ds/dx 2m'] = kps_lateral_simple_df['ds_2m'] / kps_lateral_simple_df['dx']\n",
    "kps_lateral_simple_df['ds/dx 3m'] = kps_lateral_simple_df['ds_3m'] / kps_lateral_simple_df['dx']\n",
    "kps_lateral_simple_df['ds/dx 3m uncertainty'] = kps_lateral_simple_df['ds_3m_uncertainty'] / kps_lateral_simple_df['dx']\n",
    "kps_lateral_simple_df['ds/dx 4m'] = kps_lateral_simple_df['ds_4m'] / kps_lateral_simple_df['dx']\n",
    "\n",
    "kps_lateral_simple_df['lateral_advection_2m'] = kps_lateral_simple_df['spd_3m_c'] * kps_lateral_simple_df['rho'] * kps_lateral_simple_df['ds/dx 2m']\n",
    "kps_lateral_simple_df['lateral_advection_3m'] = kps_lateral_simple_df['spd_3m_c'] * kps_lateral_simple_df['rho'] * kps_lateral_simple_df['ds/dx 3m']\n",
    "kps_lateral_simple_df['lateral_advection_3m_uncertainty'] = kps_lateral_simple_df['spd_3m_c'] * kps_lateral_simple_df['rho'] * kps_lateral_simple_df['ds/dx 3m uncertainty']\n",
    "kps_lateral_simple_df['lateral_advection_4m'] = kps_lateral_simple_df['spd_3m_c'] * kps_lateral_simple_df['rho'] * kps_lateral_simple_df['ds/dx 4m']\n"
   ]
  },
  {
   "cell_type": "markdown",
   "metadata": {},
   "source": [
    "## Storage change term, finite difference"
   ]
  },
  {
   "cell_type": "code",
   "execution_count": 194,
   "metadata": {},
   "outputs": [],
   "source": [
    "ds_dt_term = (1000 * (abs_humidity_df.query(\"height > 0\").groupby('time')[['value']].mean()).diff() / (30*60))\n",
    "ds_dt_term = ds_dt_term.rename(columns={'value': 'ds/dt'})"
   ]
  },
  {
   "cell_type": "code",
   "execution_count": 195,
   "metadata": {},
   "outputs": [
    {
     "name": "stderr",
     "output_type": "stream",
     "text": [
      "/var/folders/x_/2h52bcjx2px15bhmdpdd748h0000gn/T/ipykernel_60108/3574805051.py:2: SettingWithCopyWarning: \n",
      "A value is trying to be set on a copy of a slice from a DataFrame.\n",
      "Try using .loc[row_indexer,col_indexer] = value instead\n",
      "\n",
      "See the caveats in the documentation: https://pandas.pydata.org/pandas-docs/stable/user_guide/indexing.html#returning-a-view-versus-a-copy\n",
      "  src['ub'] = src['lateral_advection_3m'] + src['lateral_advection_3m_uncertainty']\n",
      "/var/folders/x_/2h52bcjx2px15bhmdpdd748h0000gn/T/ipykernel_60108/3574805051.py:3: SettingWithCopyWarning: \n",
      "A value is trying to be set on a copy of a slice from a DataFrame.\n",
      "Try using .loc[row_indexer,col_indexer] = value instead\n",
      "\n",
      "See the caveats in the documentation: https://pandas.pydata.org/pandas-docs/stable/user_guide/indexing.html#returning-a-view-versus-a-copy\n",
      "  src['lb'] = src['lateral_advection_3m'] - src['lateral_advection_3m_uncertainty']\n"
     ]
    },
    {
     "data": {
      "text/html": [
       "\n",
       "<style>\n",
       "  #altair-viz-0b32a5a48c0c477b859123e0a402c274.vega-embed {\n",
       "    width: 100%;\n",
       "    display: flex;\n",
       "  }\n",
       "\n",
       "  #altair-viz-0b32a5a48c0c477b859123e0a402c274.vega-embed details,\n",
       "  #altair-viz-0b32a5a48c0c477b859123e0a402c274.vega-embed details summary {\n",
       "    position: relative;\n",
       "  }\n",
       "</style>\n",
       "<div id=\"altair-viz-0b32a5a48c0c477b859123e0a402c274\"></div>\n",
       "<script type=\"text/javascript\">\n",
       "  var VEGA_DEBUG = (typeof VEGA_DEBUG == \"undefined\") ? {} : VEGA_DEBUG;\n",
       "  (function(spec, embedOpt){\n",
       "    let outputDiv = document.currentScript.previousElementSibling;\n",
       "    if (outputDiv.id !== \"altair-viz-0b32a5a48c0c477b859123e0a402c274\") {\n",
       "      outputDiv = document.getElementById(\"altair-viz-0b32a5a48c0c477b859123e0a402c274\");\n",
       "    }\n",
       "    const paths = {\n",
       "      \"vega\": \"https://cdn.jsdelivr.net/npm/vega@5?noext\",\n",
       "      \"vega-lib\": \"https://cdn.jsdelivr.net/npm/vega-lib?noext\",\n",
       "      \"vega-lite\": \"https://cdn.jsdelivr.net/npm/vega-lite@5.20.1?noext\",\n",
       "      \"vega-embed\": \"https://cdn.jsdelivr.net/npm/vega-embed@6?noext\",\n",
       "    };\n",
       "\n",
       "    function maybeLoadScript(lib, version) {\n",
       "      var key = `${lib.replace(\"-\", \"\")}_version`;\n",
       "      return (VEGA_DEBUG[key] == version) ?\n",
       "        Promise.resolve(paths[lib]) :\n",
       "        new Promise(function(resolve, reject) {\n",
       "          var s = document.createElement('script');\n",
       "          document.getElementsByTagName(\"head\")[0].appendChild(s);\n",
       "          s.async = true;\n",
       "          s.onload = () => {\n",
       "            VEGA_DEBUG[key] = version;\n",
       "            return resolve(paths[lib]);\n",
       "          };\n",
       "          s.onerror = () => reject(`Error loading script: ${paths[lib]}`);\n",
       "          s.src = paths[lib];\n",
       "        });\n",
       "    }\n",
       "\n",
       "    function showError(err) {\n",
       "      outputDiv.innerHTML = `<div class=\"error\" style=\"color:red;\">${err}</div>`;\n",
       "      throw err;\n",
       "    }\n",
       "\n",
       "    function displayChart(vegaEmbed) {\n",
       "      vegaEmbed(outputDiv, spec, embedOpt)\n",
       "        .catch(err => showError(`Javascript Error: ${err.message}<br>This usually means there's a typo in your chart specification. See the javascript console for the full traceback.`));\n",
       "    }\n",
       "\n",
       "    if(typeof define === \"function\" && define.amd) {\n",
       "      requirejs.config({paths});\n",
       "      require([\"vega-embed\"], displayChart, err => showError(`Error loading script: ${err.message}`));\n",
       "    } else {\n",
       "      maybeLoadScript(\"vega\", \"5\")\n",
       "        .then(() => maybeLoadScript(\"vega-lite\", \"5.20.1\"))\n",
       "        .then(() => maybeLoadScript(\"vega-embed\", \"6\"))\n",
       "        .catch(showError)\n",
       "        .then(() => displayChart(vegaEmbed));\n",
       "    }\n",
       "  })({\"config\": {\"view\": {\"continuousWidth\": 300, \"continuousHeight\": 300}}, \"layer\": [{\"data\": {\"url\": \"altair-data-0fe7d7cdcb521747c4974b8f05c44ccd.json\", \"format\": {\"type\": \"json\"}}, \"mark\": {\"type\": \"area\", \"opacity\": 0.5}, \"encoding\": {\"x\": {\"field\": \"time\", \"timeUnit\": \"hoursminutes\", \"type\": \"temporal\"}, \"y\": {\"aggregate\": \"mean\", \"field\": \"lb\", \"type\": \"quantitative\"}, \"y2\": {\"aggregate\": \"mean\", \"field\": \"ub\"}}}, {\"data\": {\"url\": \"altair-data-0fe7d7cdcb521747c4974b8f05c44ccd.json\", \"format\": {\"type\": \"json\"}}, \"mark\": {\"type\": \"line\"}, \"encoding\": {\"x\": {\"field\": \"time\", \"timeUnit\": \"hoursminutes\", \"type\": \"temporal\"}, \"y\": {\"aggregate\": \"mean\", \"field\": \"lateral_advection_3m\", \"type\": \"quantitative\"}}}], \"$schema\": \"https://vega.github.io/schema/vega-lite/v5.20.1.json\"}, {\"mode\": \"vega-lite\"});\n",
       "</script>"
      ],
      "text/plain": [
       "alt.LayerChart(...)"
      ]
     },
     "execution_count": 195,
     "metadata": {},
     "output_type": "execute_result"
    }
   ],
   "source": [
    "src = kps_lateral_simple_df[['lateral_advection_3m', 'lateral_advection_3m_uncertainty']]\n",
    "src['ub'] = src['lateral_advection_3m'] + src['lateral_advection_3m_uncertainty']\n",
    "src['lb'] = src['lateral_advection_3m'] - src['lateral_advection_3m_uncertainty']\n",
    "\n",
    "alt.Chart(src.reset_index()).mark_area(opacity=0.5).encode(\n",
    "    alt.X('hoursminutes(time):T'),\n",
    "    alt.Y('mean(lb):Q'),\n",
    "    alt.Y2('mean(ub):Q')\n",
    ") + alt.Chart(src.reset_index()).mark_line().encode(\n",
    "    alt.X('hoursminutes(time):T'),\n",
    "    alt.Y('mean(lateral_advection_3m):Q'),\n",
    ")"
   ]
  },
  {
   "cell_type": "markdown",
   "metadata": {},
   "source": [
    "## Aggregate results"
   ]
  },
  {
   "cell_type": "code",
   "execution_count": 240,
   "metadata": {},
   "outputs": [],
   "source": [
    "meas_vars_df = pd.DataFrame(\n",
    "    1000*tidy_df.query(\"variable == 'dryairdensity_5m_c'\").set_index('time').loc['20221101': '20230620']['value'].rename('rho')\n",
    ").join(\n",
    "    tidy_df.query(\"variable == 'w_h2o__3m_c_gapfill'\").set_index('time').loc['20221101': '20230620']['value'].rename('w_h2o__3m_c')\n",
    ").join(\n",
    "    tidy_df.query(\"variable == 'w_h2o__2m_c_gapfill'\").set_index('time').loc['20221101': '20230620']['value'].rename('w_h2o__2m_c')\n",
    ").join(\n",
    "    tidy_df.query(\"variable == 'w_h2o__5m_c_gapfill'\").set_index('time').loc['20221101': '20230620']['value'].rename('w_h2o__5m_c')\n",
    ").join(\n",
    "    tidy_df.query(\"variable == 'w_h2o__10m_c_gapfill'\").set_index('time').loc['20221101': '20230620']['value'].rename('w_h2o__10m_c')\n",
    ").join(\n",
    "    tidy_df.query(\"variable == 'w_h2o__15m_c_gapfill'\").set_index('time').loc['20221101': '20230620']['value'].rename('w_h2o__15m_c')\n",
    ").join(\n",
    "    tidy_df.query(\"variable == 'w_h2o__20m_c_gapfill'\").set_index('time').loc['20221101': '20230620']['value'].rename('w_h2o__20m_c')\n",
    ").join(\n",
    "    tidy_df.query(\"variable == 'w_h2o__3m_c_raw'\").set_index('time').loc['20221101': '20230620']['value'].rename('w_h2o__3m_c_raw')\n",
    ").join(\n",
    "    tidy_df.query(\"variable == 'w_h2o__2m_c_raw'\").set_index('time').loc['20221101': '20230620']['value'].rename('w_h2o__2m_c_raw')\n",
    ").join(\n",
    "    tidy_df.query(\"variable == 'w_h2o__5m_c_raw'\").set_index('time').loc['20221101': '20230620']['value'].rename('w_h2o__5m_c_raw')\n",
    ").join(\n",
    "    tidy_df.query(\"variable == 'w_h2o__10m_c_raw'\").set_index('time').loc['20221101': '20230620']['value'].rename('w_h2o__10m_c_raw')\n",
    ").join(\n",
    "    tidy_df.query(\"variable == 'w_h2o__15m_c_raw'\").set_index('time').loc['20221101': '20230620']['value'].rename('w_h2o__15m_c_raw')\n",
    ").join(\n",
    "    tidy_df.query(\"variable == 'w_h2o__20m_c_raw'\").set_index('time').loc['20221101': '20230620']['value'].rename('w_h2o__20m_c_raw')\n",
    ")"
   ]
  },
  {
   "cell_type": "code",
   "execution_count": 241,
   "metadata": {},
   "outputs": [],
   "source": [
    "advection_1d_fluxdensity_nonnorm_df = meas_vars_df[[\n",
    "    'w_h2o__2m_c', 'w_h2o__3m_c', 'w_h2o__5m_c', 'w_h2o__10m_c', 'w_h2o__15m_c', 'w_h2o__20m_c',\n",
    "    'w_h2o__2m_c_raw', 'w_h2o__3m_c_raw', 'w_h2o__5m_c_raw', 'w_h2o__10m_c_raw', 'w_h2o__15m_c_raw', 'w_h2o__20m_c_raw'\n",
    "]].join(\n",
    "    kps_lateral_simple_df[['lateral_advection_2m', 'lateral_advection_3m', 'lateral_advection_4m', 'lateral_advection_3m_uncertainty']]\n",
    ").join(\n",
    "    ds_dt_term[['ds/dt']]\n",
    ").join(\n",
    "    vertical_advection_estimates.query(\"height == 2\")['vertical_advection'].rename('vertical_advection_numerical_2')\n",
    ").join(\n",
    "    vertical_advection_estimates.query(\"height == 3\")['vertical_advection'].rename('vertical_advection_numerical_3')\n",
    ").join(\n",
    "    vertical_advection_estimates.query(\"height == 5\")['vertical_advection'].rename('vertical_advection_numerical_5')\n",
    ").join(\n",
    "    vertical_advection_estimates.query(\"height == 10\")['vertical_advection'].rename('vertical_advection_numerical_10')\n",
    ").join(\n",
    "    vertical_advection_estimates.query(\"height == 15\")['vertical_advection'].rename('vertical_advection_numerical_15')\n",
    ").join(\n",
    "    vertical_advection_estimates.query(\"height == 20\")['vertical_advection'].rename('vertical_advection_numerical_20')\n",
    ")"
   ]
  },
  {
   "cell_type": "markdown",
   "metadata": {},
   "source": [
    "## Calculate vertical flux divergence, finite difference"
   ]
  },
  {
   "cell_type": "markdown",
   "metadata": {},
   "source": [
    "Calculate $ \\frac{\\Delta \\overline{w'q'}}{\\Delta z} $"
   ]
  },
  {
   "cell_type": "code",
   "execution_count": 242,
   "metadata": {},
   "outputs": [],
   "source": [
    "advection_1d_fluxdensity_nonnorm_df['vertical_turb_flux_divergence_3to20'] = (\n",
    "    advection_1d_fluxdensity_nonnorm_df['w_h2o__20m_c_raw'] - advection_1d_fluxdensity_nonnorm_df['w_h2o__3m_c_raw']\n",
    ") / 17\n",
    "\n",
    "advection_1d_fluxdensity_nonnorm_df['vertical_turb_flux_divergence_3to10'] = (\n",
    "    advection_1d_fluxdensity_nonnorm_df['w_h2o__10m_c_raw'] - advection_1d_fluxdensity_nonnorm_df['w_h2o__3m_c_raw']\n",
    ") / 7\n",
    "\n",
    "advection_1d_fluxdensity_nonnorm_df['vertical_turb_flux_divergence_2to20'] = (\n",
    "    advection_1d_fluxdensity_nonnorm_df['w_h2o__20m_c_raw'] - advection_1d_fluxdensity_nonnorm_df['w_h2o__2m_c_raw']\n",
    ") / 18\n",
    "\n",
    "advection_1d_fluxdensity_nonnorm_df['vertical_turb_flux_divergence_2to10'] = (\n",
    "    advection_1d_fluxdensity_nonnorm_df['w_h2o__10m_c_raw'] - advection_1d_fluxdensity_nonnorm_df['w_h2o__2m_c_raw']\n",
    ") / 8"
   ]
  },
  {
   "cell_type": "markdown",
   "metadata": {},
   "source": [
    "# Estimate uncertainty in the mixing ratio \n",
    "\n",
    "For estimating uncertainty in the vertical advection terms:\n",
    "\n",
    "$$W \\rho \\frac{d s}{d z}$$\n",
    "\n",
    "where our uncertainty in:\n",
    "* W is $\\pm$ 0.001 m/s (u and v are +/- 1mm, w is +/- 0.5mm, but w planar fitted involves u, v, and w, so we juse use 1mm/s)\n",
    "* $s$ is 0.1 g/kg ()\n",
    "* $\\rho$ is a function of P and T, where T \n",
    "  * For the Paroscientific 6000 nanobarometer, they estimate +/- 0.01% error. We commonly estimate around 700mb, so let's say +/- 0.1\n",
    "  * For the Sensirion SHT85 T measurement, manufacturer reported error is $\\pm$ 0.1\t°C\n",
    "  * For the Sensirion SHT85 RH measurement, manufacturer reported error is $\\pm$ 1.5 %\n",
    "* $\\frac{d s}{d z}$ as 0.2 g/kg (I have no idea if this is correct or makes any sense) \n",
    "then our estimate of uncertainty for the whole term is \n",
    "\n",
    "For estimating error in mixing ratio:\n",
    "\n",
    "We calculate mixing ratio from instrument measurements of pressure, temperature, relative_humidity:\n",
    "\n",
    "```\n",
    "metpy.calc.mixing_ratio_from_relative_humidity(\n",
    "  pressure,\n",
    "  temperature,\n",
    "  relative_humidity\n",
    ")\n",
    "```"
   ]
  },
  {
   "cell_type": "code",
   "execution_count": 243,
   "metadata": {},
   "outputs": [
    {
     "data": {
      "text/plain": [
       "(Timestamp('2023-01-05 14:00:00'),\n",
       " -6.661566257476807,\n",
       " 719.5869750976562,\n",
       " 64.94750213623047)"
      ]
     },
     "execution_count": 243,
     "metadata": {},
     "output_type": "execute_result"
    }
   ],
   "source": [
    "# CHOOSE OUR T, P, RH values by calculating the mean of each variable\n",
    "# P = tidy_df.query(\"variable == 'P_10m_c'\").set_index('time').value.mean()\n",
    "# T = tidy_df.query(\"variable == 'T_10m_c'\").set_index('time').value.mean()\n",
    "# RH = tidy_df.query(\"variable == 'RH_10m_c'\").set_index('time').value.mean()\n",
    "\n",
    "# CHOOSE OUR T, P, RH values by selecting a median or quantile T value, and use that same timestamp to select P and RH values\n",
    "t_values_sorted = tidy_df.query(\"variable == 'T_10m_c'\").set_index('time').value.sort_values().dropna()\n",
    "i_median = int(len(t_values_sorted) / 2)\n",
    "i_quartile_hi = int(len(t_values_sorted) / 4)\n",
    "i_quartile_hi = int(len(t_values_sorted) / 2 + len(t_values_sorted) / 4)\n",
    "i_quantile_10percent_low = int(len(t_values_sorted)*0.1)\n",
    "i_quantile_10percent_hi = int(len(t_values_sorted)*0.9)\n",
    "\n",
    "T = t_values_sorted[i_median]\n",
    "index = t_values_sorted.index[i_median]\n",
    "P = tidy_df.query(\"variable == 'P_10m_c'\").set_index('time').value.loc[index]\n",
    "RH = tidy_df.query(\"variable == 'RH_10m_c'\").set_index('time').value.loc[index]\n",
    "index, T, P, RH"
   ]
  },
  {
   "cell_type": "code",
   "execution_count": 244,
   "metadata": {},
   "outputs": [],
   "source": [
    "from uncertainties import ufloat\n",
    "import numpy as np\n",
    "\n",
    "P_mean = P  # Assuming P is already defined\n",
    "P_error = P * 0.0001\n",
    "P_std = P_error / 2  # Standard deviation of 0.01%\n",
    "\n",
    "T_mean = T  # Assuming P is already defined\n",
    "T_error = 0.1\n",
    "T_std = T_error / 2  # Standard deviation of 0.01%\n",
    "\n",
    "RH_mean = RH  # Assuming P is already defined\n",
    "RH_error = 1.5\n",
    "RH_std = RH_error / 2  # Standard deviation of 0.01%\n",
    "\n",
    "\n",
    "Samples = pd.DataFrame({\n",
    "    'P': np.random.normal(P_mean, P_std, 5000),\n",
    "    'T': np.random.normal(T_mean, T_std, 5000),\n",
    "    'RH': np.random.normal(RH_mean, RH_std, 5000),\n",
    "})"
   ]
  },
  {
   "cell_type": "code",
   "execution_count": 245,
   "metadata": {},
   "outputs": [],
   "source": [
    "P_dist = (\n",
    "    alt.Chart(Samples).mark_bar().encode(\n",
    "        alt.X('P:Q').bin(step = 0.01).title('Mean pressure (P) + random errors (millibars)').scale(nice=False),\n",
    "        alt.Y('count():Q')\n",
    "    ) + alt.Chart(Samples).mark_rule(\n",
    "        color='red', strokeWidth=2\n",
    "    ).encode(x='mean(P):Q')\n",
    ").properties(width=300, height = 100)\n",
    "T_dist = (\n",
    "    alt.Chart(Samples).mark_bar().encode(\n",
    "        alt.X('T:Q').bin(step = 0.01).title('Mean temperature (T) + random errors (˚C)').scale(nice=False),\n",
    "        alt.Y('count():Q'),\n",
    "    ) + alt.Chart(Samples).mark_rule(\n",
    "        color='red', strokeWidth=2\n",
    "    ).encode(x='mean(T):Q')\n",
    ").properties(width=300, height = 100)\n",
    "RH_dist = (\n",
    "    alt.Chart(Samples).mark_bar().encode(\n",
    "        alt.X('RH:Q').bin(step = 0.2).title('Mean relative humidity (RH) + random errors (%)').scale(nice=False),\n",
    "        alt.Y('count():Q')\n",
    "    ) + alt.Chart(Samples).mark_rule(\n",
    "        color='red', strokeWidth=2\n",
    "    ).encode(x='mean(RH):Q')\n",
    ").properties(width=300, height = 100)"
   ]
  },
  {
   "cell_type": "code",
   "execution_count": 246,
   "metadata": {},
   "outputs": [],
   "source": [
    "from metpy.calc import mixing_ratio_from_relative_humidity"
   ]
  },
  {
   "cell_type": "code",
   "execution_count": 247,
   "metadata": {},
   "outputs": [
    {
     "data": {
      "text/plain": [
       "0.051"
      ]
     },
     "execution_count": 247,
     "metadata": {},
     "output_type": "execute_result"
    }
   ],
   "source": [
    "Samples['s'] = Samples.apply(\n",
    "    lambda ro: mixing_ratio_from_relative_humidity(\n",
    "    ro['P']*units(\"millibars\"), ro['T']*units(\"degC\"), ro['RH']*units(\"percent\")\n",
    "    ).to(units(\"g/kg\")).magnitude, \n",
    "    axis=1\n",
    ")\n",
    "s_2_sigma = round(2*Samples['s'].std(), 3)\n",
    "s_2_sigma"
   ]
  },
  {
   "cell_type": "code",
   "execution_count": 248,
   "metadata": {},
   "outputs": [],
   "source": [
    "s_dist = (\n",
    "    alt.Chart(Samples).mark_bar().encode(\n",
    "        alt.X('s:Q').bin(step = 0.01).scale(nice=False).title(['Water vapor mixing ratio (σ) from Monte Carlo propagation of T, RH, P (g/kg)']),\n",
    "        alt.Y('count():Q')\n",
    "    ) + alt.Chart(Samples).mark_rule(\n",
    "        color='red', strokeWidth=2\n",
    "    ).encode(x='mean(s):Q')\n",
    ").properties(\n",
    "    width=300, height = 100,\n",
    ")"
   ]
  },
  {
   "cell_type": "code",
   "execution_count": 249,
   "metadata": {},
   "outputs": [],
   "source": [
    "src = mixing_ratio_profile_df.loc[:, 2]['c'][['q_hygr']].rename(columns={'q_hygr': 's_2m'}).join(\n",
    "    mixing_ratio_profile_df.loc[:, 20]['c'][['q_hygr']].rename(columns={'q_hygr': 's_20m'})\n",
    ")\n",
    "src_vert = src['s_20m'] - src['s_2m']\n",
    "src_horiz = kps_lateral_simple_df['ds_3m']\n",
    "\n",
    "rule = alt.Chart().mark_rule().transform_calculate(x=f'{2*s_2_sigma}').encode(x='x:Q')\n",
    "rule2 = alt.Chart().mark_rule().transform_calculate(x=f'-{2*s_2_sigma}').encode(x='x:Q')\n",
    "gradient_distribution_chart = rule + rule2 + alt.Chart(\n",
    "    (pd.DataFrame(src_vert.rename('vertical')).join(src_horiz.rename('horizontal'))*1000).query(\"vertical > -1\").query(\"horizontal > -1\")\n",
    ").mark_bar(color='blue', opacity=0.5).encode(\n",
    "    alt.X('vertical:Q').bin(step=0.05).title(\"∆σ (g/kg)\").axis(values=np.linspace(-1, 1, 21)),\n",
    "    alt.Y('count():Q').stack(None),\n",
    ") + alt.Chart(\n",
    "    (pd.DataFrame(src_vert.rename('vertical')).join(src_horiz.rename('horizontal'))*1000).query(\"vertical > -1\").query(\"horizontal > -1\")\n",
    ").mark_bar(color='red', opacity=0.5).encode(\n",
    "    alt.X('horizontal:Q').bin(step=0.05).axis(values=np.linspace(-1, 1, 21)),\n",
    "    alt.Y('count():Q').stack(None),\n",
    ").properties(height = 200)"
   ]
  },
  {
   "cell_type": "code",
   "execution_count": 250,
   "metadata": {},
   "outputs": [
    {
     "data": {
      "text/html": [
       "\n",
       "<style>\n",
       "  #altair-viz-8131ed7fe541454784bd994677007fe1.vega-embed {\n",
       "    width: 100%;\n",
       "    display: flex;\n",
       "  }\n",
       "\n",
       "  #altair-viz-8131ed7fe541454784bd994677007fe1.vega-embed details,\n",
       "  #altair-viz-8131ed7fe541454784bd994677007fe1.vega-embed details summary {\n",
       "    position: relative;\n",
       "  }\n",
       "</style>\n",
       "<div id=\"altair-viz-8131ed7fe541454784bd994677007fe1\"></div>\n",
       "<script type=\"text/javascript\">\n",
       "  var VEGA_DEBUG = (typeof VEGA_DEBUG == \"undefined\") ? {} : VEGA_DEBUG;\n",
       "  (function(spec, embedOpt){\n",
       "    let outputDiv = document.currentScript.previousElementSibling;\n",
       "    if (outputDiv.id !== \"altair-viz-8131ed7fe541454784bd994677007fe1\") {\n",
       "      outputDiv = document.getElementById(\"altair-viz-8131ed7fe541454784bd994677007fe1\");\n",
       "    }\n",
       "    const paths = {\n",
       "      \"vega\": \"https://cdn.jsdelivr.net/npm/vega@5?noext\",\n",
       "      \"vega-lib\": \"https://cdn.jsdelivr.net/npm/vega-lib?noext\",\n",
       "      \"vega-lite\": \"https://cdn.jsdelivr.net/npm/vega-lite@5.20.1?noext\",\n",
       "      \"vega-embed\": \"https://cdn.jsdelivr.net/npm/vega-embed@6?noext\",\n",
       "    };\n",
       "\n",
       "    function maybeLoadScript(lib, version) {\n",
       "      var key = `${lib.replace(\"-\", \"\")}_version`;\n",
       "      return (VEGA_DEBUG[key] == version) ?\n",
       "        Promise.resolve(paths[lib]) :\n",
       "        new Promise(function(resolve, reject) {\n",
       "          var s = document.createElement('script');\n",
       "          document.getElementsByTagName(\"head\")[0].appendChild(s);\n",
       "          s.async = true;\n",
       "          s.onload = () => {\n",
       "            VEGA_DEBUG[key] = version;\n",
       "            return resolve(paths[lib]);\n",
       "          };\n",
       "          s.onerror = () => reject(`Error loading script: ${paths[lib]}`);\n",
       "          s.src = paths[lib];\n",
       "        });\n",
       "    }\n",
       "\n",
       "    function showError(err) {\n",
       "      outputDiv.innerHTML = `<div class=\"error\" style=\"color:red;\">${err}</div>`;\n",
       "      throw err;\n",
       "    }\n",
       "\n",
       "    function displayChart(vegaEmbed) {\n",
       "      vegaEmbed(outputDiv, spec, embedOpt)\n",
       "        .catch(err => showError(`Javascript Error: ${err.message}<br>This usually means there's a typo in your chart specification. See the javascript console for the full traceback.`));\n",
       "    }\n",
       "\n",
       "    if(typeof define === \"function\" && define.amd) {\n",
       "      requirejs.config({paths});\n",
       "      require([\"vega-embed\"], displayChart, err => showError(`Error loading script: ${err.message}`));\n",
       "    } else {\n",
       "      maybeLoadScript(\"vega\", \"5\")\n",
       "        .then(() => maybeLoadScript(\"vega-lite\", \"5.20.1\"))\n",
       "        .then(() => maybeLoadScript(\"vega-embed\", \"6\"))\n",
       "        .catch(showError)\n",
       "        .then(() => displayChart(vegaEmbed));\n",
       "    }\n",
       "  })({\"config\": {\"view\": {\"continuousWidth\": 300, \"continuousHeight\": 300}}, \"hconcat\": [{\"vconcat\": [{\"layer\": [{\"mark\": {\"type\": \"bar\"}, \"encoding\": {\"x\": {\"bin\": {\"step\": 0.01}, \"field\": \"P\", \"scale\": {\"nice\": false}, \"title\": \"Mean pressure (P) + random errors (millibars)\", \"type\": \"quantitative\"}, \"y\": {\"aggregate\": \"count\", \"type\": \"quantitative\"}}}, {\"mark\": {\"type\": \"rule\", \"color\": \"red\", \"strokeWidth\": 2}, \"encoding\": {\"x\": {\"aggregate\": \"mean\", \"field\": \"P\", \"type\": \"quantitative\"}}}], \"height\": 100, \"width\": 300}, {\"layer\": [{\"mark\": {\"type\": \"bar\"}, \"encoding\": {\"x\": {\"bin\": {\"step\": 0.01}, \"field\": \"T\", \"scale\": {\"nice\": false}, \"title\": \"Mean temperature (T) + random errors (\\u02daC)\", \"type\": \"quantitative\"}, \"y\": {\"aggregate\": \"count\", \"type\": \"quantitative\"}}}, {\"mark\": {\"type\": \"rule\", \"color\": \"red\", \"strokeWidth\": 2}, \"encoding\": {\"x\": {\"aggregate\": \"mean\", \"field\": \"T\", \"type\": \"quantitative\"}}}], \"height\": 100, \"width\": 300}, {\"layer\": [{\"mark\": {\"type\": \"bar\"}, \"encoding\": {\"x\": {\"bin\": {\"step\": 0.2}, \"field\": \"RH\", \"scale\": {\"nice\": false}, \"title\": \"Mean relative humidity (RH) + random errors (%)\", \"type\": \"quantitative\"}, \"y\": {\"aggregate\": \"count\", \"type\": \"quantitative\"}}}, {\"mark\": {\"type\": \"rule\", \"color\": \"red\", \"strokeWidth\": 2}, \"encoding\": {\"x\": {\"aggregate\": \"mean\", \"field\": \"RH\", \"type\": \"quantitative\"}}}], \"height\": 100, \"width\": 300}], \"data\": {\"url\": \"altair-data-402b8eaa552d25a74f8548faeab2928e.json\", \"format\": {\"type\": \"json\"}}}, {\"vconcat\": [{\"layer\": [{\"mark\": {\"type\": \"bar\"}, \"encoding\": {\"x\": {\"bin\": {\"step\": 0.01}, \"field\": \"s\", \"scale\": {\"nice\": false}, \"title\": [\"Water vapor mixing ratio (\\u03c3) from Monte Carlo propagation of T, RH, P (g/kg)\"], \"type\": \"quantitative\"}, \"y\": {\"aggregate\": \"count\", \"type\": \"quantitative\"}}}, {\"mark\": {\"type\": \"rule\", \"color\": \"red\", \"strokeWidth\": 2}, \"encoding\": {\"x\": {\"aggregate\": \"mean\", \"field\": \"s\", \"type\": \"quantitative\"}}}], \"data\": {\"url\": \"altair-data-402b8eaa552d25a74f8548faeab2928e.json\", \"format\": {\"type\": \"json\"}}, \"height\": 100, \"width\": 300}, {\"layer\": [{\"data\": {\"name\": \"empty\"}, \"mark\": {\"type\": \"rule\"}, \"encoding\": {\"x\": {\"field\": \"x\", \"type\": \"quantitative\"}}, \"transform\": [{\"calculate\": \"0.102\", \"as\": \"x\"}]}, {\"data\": {\"name\": \"empty\"}, \"mark\": {\"type\": \"rule\"}, \"encoding\": {\"x\": {\"field\": \"x\", \"type\": \"quantitative\"}}, \"transform\": [{\"calculate\": \"-0.102\", \"as\": \"x\"}]}, {\"data\": {\"url\": \"altair-data-b0fe3e625ca649c8bf9ed9c21e11273e.json\", \"format\": {\"type\": \"json\"}}, \"mark\": {\"type\": \"bar\", \"color\": \"blue\", \"opacity\": 0.5}, \"encoding\": {\"x\": {\"axis\": {\"values\": [-1.0, -0.9, -0.8, -0.7, -0.6, -0.5, -0.3999999999999999, -0.29999999999999993, -0.19999999999999996, -0.09999999999999998, 0.0, 0.10000000000000009, 0.20000000000000018, 0.30000000000000004, 0.40000000000000013, 0.5, 0.6000000000000001, 0.7000000000000002, 0.8, 0.9000000000000001, 1.0]}, \"bin\": {\"step\": 0.05}, \"field\": \"vertical\", \"title\": \"\\u2206\\u03c3 (g/kg)\", \"type\": \"quantitative\"}, \"y\": {\"aggregate\": \"count\", \"stack\": null, \"type\": \"quantitative\"}}}, {\"data\": {\"url\": \"altair-data-b0fe3e625ca649c8bf9ed9c21e11273e.json\", \"format\": {\"type\": \"json\"}}, \"mark\": {\"type\": \"bar\", \"color\": \"red\", \"opacity\": 0.5}, \"encoding\": {\"x\": {\"axis\": {\"values\": [-1.0, -0.9, -0.8, -0.7, -0.6, -0.5, -0.3999999999999999, -0.29999999999999993, -0.19999999999999996, -0.09999999999999998, 0.0, 0.10000000000000009, 0.20000000000000018, 0.30000000000000004, 0.40000000000000013, 0.5, 0.6000000000000001, 0.7000000000000002, 0.8, 0.9000000000000001, 1.0]}, \"bin\": {\"step\": 0.05}, \"field\": \"horizontal\", \"type\": \"quantitative\"}, \"y\": {\"aggregate\": \"count\", \"stack\": null, \"type\": \"quantitative\"}}}], \"height\": 200}]}], \"$schema\": \"https://vega.github.io/schema/vega-lite/v5.20.1.json\", \"datasets\": {\"empty\": [{}]}}, {\"mode\": \"vega-lite\"});\n",
       "</script>"
      ],
      "text/plain": [
       "alt.HConcatChart(...)"
      ]
     },
     "execution_count": 250,
     "metadata": {},
     "output_type": "execute_result"
    }
   ],
   "source": [
    "P_dist & T_dist & RH_dist | s_dist & gradient_distribution_chart"
   ]
  },
  {
   "cell_type": "code",
   "execution_count": 251,
   "metadata": {},
   "outputs": [],
   "source": [
    "src_horiz = src_horiz.dropna()\n",
    "src_vert = src_vert.dropna()\n",
    "\n",
    "src_horiz_daytime = src_horiz[src_horiz.index.hour.isin([9, 10, 11, 12, 13, 14, 15, 16])]\n",
    "src_vert_daytime = src_vert[src_vert.index.hour.isin([9, 10, 11, 12, 13, 14, 15, 16])]"
   ]
  },
  {
   "cell_type": "code",
   "execution_count": 252,
   "metadata": {},
   "outputs": [
    {
     "name": "stdout",
     "output_type": "stream",
     "text": [
      "0.07164502164502165\n",
      "0.15526950925181013\n"
     ]
    }
   ],
   "source": [
    "print(len(src_horiz[np.abs(src_horiz)*1000 > 2*s_2_sigma]) / len(src_horiz.dropna()))\n",
    "print(len(src_horiz_daytime[np.abs(src_horiz_daytime)*1000 > 2*s_2_sigma]) / len(src_horiz_daytime.dropna()))"
   ]
  },
  {
   "cell_type": "code",
   "execution_count": 253,
   "metadata": {},
   "outputs": [
    {
     "name": "stdout",
     "output_type": "stream",
     "text": [
      "0.4230116233511819\n",
      "0.5168231611893583\n"
     ]
    }
   ],
   "source": [
    "print(len(src_vert[np.abs(src_vert)*1000 > 2*s_2_sigma]) / len(src_vert.dropna()))\n",
    "print(len(src_vert_daytime[np.abs(src_vert_daytime)*1000 > 2*s_2_sigma]) / len(src_vert_daytime.dropna()))"
   ]
  },
  {
   "cell_type": "code",
   "execution_count": 254,
   "metadata": {},
   "outputs": [
    {
     "name": "stdout",
     "output_type": "stream",
     "text": [
      "0.9347\n",
      "\n",
      "varying P +/- 20millibars\n",
      "0.9608\n",
      "0.9085\n",
      "\n",
      "varying T +/- 2˚C\n",
      "0.9277\n",
      "0.9417\n"
     ]
    }
   ],
   "source": [
    "import metpy.calc\n",
    "mean_p = tidy_df.query(\"variable == 'P_10m_c'\").value.mean() * units(\"millibars\")\n",
    "mean_t = tidy_df.query(\"variable == 'T_10m_c'\").value.mean() * units(\"degC\")\n",
    "print(round(metpy.calc.density(mean_p, mean_t, 0).magnitude.item(), 4))\n",
    "\n",
    "print()\n",
    "print(\"varying P +/- 20millibars\")\n",
    "print(round(metpy.calc.density(mean_p + 20*units(\"millibars\"), mean_t, 0).magnitude.item(), 4))\n",
    "print(round(metpy.calc.density(mean_p - 20*units(\"millibars\"), mean_t, 0).magnitude.item(), 4))\n",
    "\n",
    "print()\n",
    "print(\"varying T +/- 2˚C\")\n",
    "print(round(metpy.calc.density(mean_p, mean_t + 2*units(\"delta_degC\"), 0).magnitude.item(), 4))\n",
    "print(round(metpy.calc.density(mean_p, mean_t - 2*units(\"delta_degC\"), 0).magnitude.item(), 4))"
   ]
  },
  {
   "cell_type": "markdown",
   "metadata": {},
   "source": [
    "# Plot water vapor transport results"
   ]
  },
  {
   "cell_type": "markdown",
   "metadata": {},
   "source": [
    "## Seasonal Composite Analysis"
   ]
  },
  {
   "cell_type": "markdown",
   "metadata": {},
   "source": [
    "Define plotting functions"
   ]
  },
  {
   "cell_type": "code",
   "execution_count": 255,
   "metadata": {},
   "outputs": [],
   "source": [
    "PLOT_WIDTH = 150\n",
    "PLOT_HEIGHT = 150\n",
    "\n",
    "# Function to plot diurnal cycles in conservation terms, for the vertical advection estimates using a numerical solution\n",
    "########################################################\n",
    "def get_vert_advection_with_height(src, title, y_domain=[-0.0002, 0.0002]):\n",
    "    vars = [ \n",
    "        # 'vertical_advection_numerical_2',\n",
    "        'vertical_advection_numerical_3',\n",
    "        'vertical_advection_numerical_5',\n",
    "        'vertical_advection_numerical_10',\n",
    "        'vertical_advection_numerical_15',\n",
    "        'vertical_advection_numerical_20',\n",
    "    ]\n",
    "    vert_advection_chart = alt.Chart(src).mark_line().transform_fold(\n",
    "        vars\n",
    "    ).encode(\n",
    "        alt.X('hours(time):T').axis(labelAlign='center', tickCount=4),\n",
    "        alt.Y('median(value):Q').title('Flux density (g/m^3/s)').scale(\n",
    "            domain = y_domain, clamp=False\n",
    "        ).axis(\n",
    "                values=[-0.0003, -0.0002, -0.0001, 0.000, 0.0001, 0.0002, 0.0003], \n",
    "                tickCount = 7\n",
    "            ),\n",
    "        alt.Color('key:N').sort(vars).scale(scheme='turbo')\n",
    "    ).properties(width=PLOT_WIDTH, height=PLOT_HEIGHT, title=title)\n",
    "    flux_div_chart = alt.Chart(src).mark_line(\n",
    "        color='black'\n",
    "    ).transform_fold([\n",
    "        'ds/dt', 'vertical_turb_flux_divergence_3to20'\n",
    "    ]).encode(\n",
    "        alt.X('hours(time):T').axis(labelAlign='center'),\n",
    "        alt.Y('median(value):Q').title('Flux density (g/m^3/s)').scale(domain = y_domain, clamp=False),\n",
    "        alt.StrokeDash('key:N').sort(['vertical_turb_flux_divergence_3to20', 'ds/dt']).scale(range=[(4,2), (1.5,1.5)])\n",
    "    ).properties(width=PLOT_WIDTH, height=PLOT_HEIGHT, title=title)\n",
    "    src['residual_3'] = src['vertical_turb_flux_divergence_3to20'] + src['ds/dt'] + src['vertical_advection_numerical_3']\n",
    "    src['residual_5'] = src['vertical_turb_flux_divergence_3to20'] + src['ds/dt'] + src['vertical_advection_numerical_5']\n",
    "    src['residual_10'] = src['vertical_turb_flux_divergence_3to20'] + src['ds/dt'] + src['vertical_advection_numerical_10']\n",
    "    src['residual_15'] = src['vertical_turb_flux_divergence_3to20'] + src['ds/dt'] + src['vertical_advection_numerical_15']\n",
    "    src['residual_20'] = src['vertical_turb_flux_divergence_3to20'] + src['ds/dt'] + src['vertical_advection_numerical_20']\n",
    "    src['hour'] = src.groupby('hour').median()\n",
    "    residual_chart = alt.Chart(src).mark_area(\n",
    "        color='grey', opacity = 0.25\n",
    "    ).transform_fold([\n",
    "        'residual_3',\n",
    "        'residual_5',\n",
    "        'residual_10',\n",
    "        'residual_15',\n",
    "        'residual_20'   \n",
    "    ]).encode(\n",
    "        alt.X('hours(time):T').axis(labelAlign='center'),\n",
    "        alt.Y('min(value):Q'),\n",
    "        alt.Y2('max(value):Q'),\n",
    "    ).properties(width=PLOT_WIDTH, height=PLOT_HEIGHT, title=title)\n",
    "    return (residual_chart + vert_advection_chart + flux_div_chart)\n",
    "    \n",
    "# Function to plot diurnal cycles in profiles\n",
    "########################################################\n",
    "def plot_profiles(src):\n",
    "    return alt.Chart(src).transform_filter(\n",
    "        alt.datum.height != 12\n",
    "    ).transform_filter(\n",
    "        alt.datum.height != 6\n",
    "    ).mark_line(\n",
    "        point={'size':20, 'color': 'black'}, strokeWidth=1, color='black'\n",
    "    ).encode(\n",
    "        alt.X('median(value):Q').scale(zero=False).title('Absolute humidty (g/m^-3)'),\n",
    "        alt.Y('height:Q').title('Height (m)'),\n",
    "        alt.Order('height:Q'),\n",
    "        alt.Detail('conditions:N'),\n",
    "        alt.Color('conditions:N')\n",
    "    ).properties(width=PLOT_WIDTH, height=PLOT_HEIGHT)\n",
    "\n",
    "# Function to plot diurnal cycles in w\n",
    "########################################################\n",
    "def w_diurnal_chart(src, title):\n",
    "    line = alt.Chart().transform_calculate(y = '0').mark_rule().encode(y='y:Q')\n",
    "    return alt.layer(\n",
    "        line, \n",
    "        alt.Chart().mark_line().encode(\n",
    "            alt.X('hours(time):T').axis(labelAlign='center', values=[0,6,12,18,]),\n",
    "            alt.Y('median(value):Q').title('Vertical velocity (m/s)').scale(\n",
    "                domain = [-0.03, 0.03], clamp=False\n",
    "            ).axis(\n",
    "                values=[-0.03, -0.02, -0.01, 0.0, 0.01, 0.02, 0.03], \n",
    "                tickCount = 7\n",
    "            ),\n",
    "            alt.Color('height:O').scale(scheme='turbo')\n",
    "        ), \n",
    "        data = src\n",
    "    ).properties(width=PLOT_WIDTH, height=PLOT_HEIGHT, title=title)"
   ]
  },
  {
   "cell_type": "markdown",
   "metadata": {},
   "source": [
    "### Non Blowing Snow Conditions"
   ]
  },
  {
   "cell_type": "markdown",
   "metadata": {},
   "source": [
    "Isolate data"
   ]
  },
  {
   "cell_type": "code",
   "execution_count": 256,
   "metadata": {},
   "outputs": [
    {
     "name": "stderr",
     "output_type": "stream",
     "text": [
      "/var/folders/x_/2h52bcjx2px15bhmdpdd748h0000gn/T/ipykernel_60108/954460485.py:23: SettingWithCopyWarning: \n",
      "A value is trying to be set on a copy of a slice from a DataFrame.\n",
      "Try using .loc[row_indexer,col_indexer] = value instead\n",
      "\n",
      "See the caveats in the documentation: https://pandas.pydata.org/pandas-docs/stable/user_guide/indexing.html#returning-a-view-versus-a-copy\n",
      "  src_abshum['conditions'] = src_abshum.index.hour\n",
      "/var/folders/x_/2h52bcjx2px15bhmdpdd748h0000gn/T/ipykernel_60108/954460485.py:25: SettingWithCopyWarning: \n",
      "A value is trying to be set on a copy of a slice from a DataFrame.\n",
      "Try using .loc[row_indexer,col_indexer] = value instead\n",
      "\n",
      "See the caveats in the documentation: https://pandas.pydata.org/pandas-docs/stable/user_guide/indexing.html#returning-a-view-versus-a-copy\n",
      "  src_abshum['conditions'] = pd.cut(\n"
     ]
    }
   ],
   "source": [
    "# Identify timestamps for the two categories\n",
    "upvalley_nobs_times = set(pd.to_datetime(upvalley_wind_times)).intersection(set(nobs_times))\n",
    "downvalley_nobs_times = set(pd.to_datetime(downvalley_wind_times)).intersection(set(nobs_times))\n",
    "\n",
    "# Data for diurnal cycles in CONSERVATION TERMS, FINITE DIFFERENCE METHOD\n",
    "########################################################\n",
    "src_cons_terms_numerical = advection_1d_fluxdensity_nonnorm_df.copy()\n",
    "src_cons_terms_numerical_upvalley_nobs = src_cons_terms_numerical[src_cons_terms_numerical.index.isin(upvalley_nobs_times)].reset_index()\n",
    "src_cons_terms_numerical_dovalley_nobs = src_cons_terms_numerical[src_cons_terms_numerical.index.isin(downvalley_nobs_times)].reset_index()\n",
    "\n",
    "# Data for diurnal cycles in MEAN W\n",
    "########################################################\n",
    "src_w = tidy_df[tidy_df.measurement == 'w'].query(\"tower == 'c'\")\n",
    "src_w_upvalley_nobs = src_w[src_w.time.isin(upvalley_nobs_times)]\n",
    "src_w_dovalley_nobs = src_w[src_w.time.isin(downvalley_nobs_times)]\n",
    "src_w_upvalley_nobs = src_w_upvalley_nobs.query(\"height != 1\")\n",
    "\n",
    "src_w_dovalley_nobs = src_w_dovalley_nobs.query(\"height != 1\")\n",
    "\n",
    "# Data for diurnal cycles in MIXING RATIO PROFILES\n",
    "########################################################\n",
    "src_abshum = abs_humidity_df[abs_humidity_df.index.isin(nobs_times)]\n",
    "src_abshum['conditions'] = src_abshum.index.hour\n",
    "\n",
    "src_abshum['conditions'] = pd.cut(\n",
    "    src_abshum.index.hour,\n",
    "    [-1,3,6,9,12,15,18,21,24],\n",
    "    labels=['0-3', '3-6', '6-9', '9-12', '12-15', '15-18', '18-21', '21-0'],\n",
    "    right=False\n",
    ")\n",
    "src_abshum = src_abshum[\n",
    "    src_abshum['conditions'].isin([ \n",
    "        # '0-3',\n",
    "        '3-6',\n",
    "        # '6-9',\n",
    "        # '9-12',\n",
    "        '12-15',\n",
    "        # '15-18',\n",
    "        '18-21',\n",
    "        # '21-0'\n",
    "    ])\n",
    "]\n",
    "src_abshum['value'] = src_abshum['value']*1000\n",
    "src_abshum = src_abshum.reset_index()\n",
    "src_abshum_upvalley_nobs = src_abshum[src_abshum.time.isin(upvalley_nobs_times)].query(\"height != 1\")\n",
    "src_abshum_dovalley_nobs = src_abshum[src_abshum.time.isin(downvalley_nobs_times)].query(\"height != 1\")"
   ]
  },
  {
   "cell_type": "code",
   "execution_count": 257,
   "metadata": {},
   "outputs": [
    {
     "data": {
      "text/html": [
       "\n",
       "<style>\n",
       "  #altair-viz-41e72b953e4641d093c09235febeeea2.vega-embed {\n",
       "    width: 100%;\n",
       "    display: flex;\n",
       "  }\n",
       "\n",
       "  #altair-viz-41e72b953e4641d093c09235febeeea2.vega-embed details,\n",
       "  #altair-viz-41e72b953e4641d093c09235febeeea2.vega-embed details summary {\n",
       "    position: relative;\n",
       "  }\n",
       "</style>\n",
       "<div id=\"altair-viz-41e72b953e4641d093c09235febeeea2\"></div>\n",
       "<script type=\"text/javascript\">\n",
       "  var VEGA_DEBUG = (typeof VEGA_DEBUG == \"undefined\") ? {} : VEGA_DEBUG;\n",
       "  (function(spec, embedOpt){\n",
       "    let outputDiv = document.currentScript.previousElementSibling;\n",
       "    if (outputDiv.id !== \"altair-viz-41e72b953e4641d093c09235febeeea2\") {\n",
       "      outputDiv = document.getElementById(\"altair-viz-41e72b953e4641d093c09235febeeea2\");\n",
       "    }\n",
       "    const paths = {\n",
       "      \"vega\": \"https://cdn.jsdelivr.net/npm/vega@5?noext\",\n",
       "      \"vega-lib\": \"https://cdn.jsdelivr.net/npm/vega-lib?noext\",\n",
       "      \"vega-lite\": \"https://cdn.jsdelivr.net/npm/vega-lite@5.20.1?noext\",\n",
       "      \"vega-embed\": \"https://cdn.jsdelivr.net/npm/vega-embed@6?noext\",\n",
       "    };\n",
       "\n",
       "    function maybeLoadScript(lib, version) {\n",
       "      var key = `${lib.replace(\"-\", \"\")}_version`;\n",
       "      return (VEGA_DEBUG[key] == version) ?\n",
       "        Promise.resolve(paths[lib]) :\n",
       "        new Promise(function(resolve, reject) {\n",
       "          var s = document.createElement('script');\n",
       "          document.getElementsByTagName(\"head\")[0].appendChild(s);\n",
       "          s.async = true;\n",
       "          s.onload = () => {\n",
       "            VEGA_DEBUG[key] = version;\n",
       "            return resolve(paths[lib]);\n",
       "          };\n",
       "          s.onerror = () => reject(`Error loading script: ${paths[lib]}`);\n",
       "          s.src = paths[lib];\n",
       "        });\n",
       "    }\n",
       "\n",
       "    function showError(err) {\n",
       "      outputDiv.innerHTML = `<div class=\"error\" style=\"color:red;\">${err}</div>`;\n",
       "      throw err;\n",
       "    }\n",
       "\n",
       "    function displayChart(vegaEmbed) {\n",
       "      vegaEmbed(outputDiv, spec, embedOpt)\n",
       "        .catch(err => showError(`Javascript Error: ${err.message}<br>This usually means there's a typo in your chart specification. See the javascript console for the full traceback.`));\n",
       "    }\n",
       "\n",
       "    if(typeof define === \"function\" && define.amd) {\n",
       "      requirejs.config({paths});\n",
       "      require([\"vega-embed\"], displayChart, err => showError(`Error loading script: ${err.message}`));\n",
       "    } else {\n",
       "      maybeLoadScript(\"vega\", \"5\")\n",
       "        .then(() => maybeLoadScript(\"vega-lite\", \"5.20.1\"))\n",
       "        .then(() => maybeLoadScript(\"vega-embed\", \"6\"))\n",
       "        .catch(showError)\n",
       "        .then(() => displayChart(vegaEmbed));\n",
       "    }\n",
       "  })({\"config\": {\"view\": {\"continuousWidth\": 300, \"continuousHeight\": 300}}, \"vconcat\": [{\"data\": {\"url\": \"altair-data-c575b8685a9868b0dbc49e34048dfcb8.json\", \"format\": {\"type\": \"json\"}}, \"mark\": {\"type\": \"line\", \"color\": \"black\", \"point\": {\"size\": 20, \"color\": \"black\"}, \"strokeWidth\": 1}, \"encoding\": {\"color\": {\"field\": \"conditions\", \"type\": \"nominal\"}, \"detail\": {\"field\": \"conditions\", \"type\": \"nominal\"}, \"order\": {\"field\": \"height\", \"type\": \"quantitative\"}, \"x\": {\"aggregate\": \"median\", \"field\": \"value\", \"scale\": {\"zero\": false}, \"title\": \"Absolute humidty (g/m^-3)\", \"type\": \"quantitative\"}, \"y\": {\"field\": \"height\", \"title\": \"Height (m)\", \"type\": \"quantitative\"}}, \"height\": 150, \"title\": \"\", \"transform\": [{\"filter\": \"(datum.height !== 12)\"}, {\"filter\": \"(datum.height !== 6)\"}], \"width\": 150}, {\"data\": {\"url\": \"altair-data-bfaca7007958ba2beb1ce081832d68ea.json\", \"format\": {\"type\": \"json\"}}, \"mark\": {\"type\": \"line\", \"color\": \"black\", \"point\": {\"size\": 20, \"color\": \"black\"}, \"strokeWidth\": 1}, \"encoding\": {\"color\": {\"field\": \"conditions\", \"type\": \"nominal\"}, \"detail\": {\"field\": \"conditions\", \"type\": \"nominal\"}, \"order\": {\"field\": \"height\", \"type\": \"quantitative\"}, \"x\": {\"aggregate\": \"median\", \"field\": \"value\", \"scale\": {\"zero\": false}, \"title\": \"Absolute humidty (g/m^-3)\", \"type\": \"quantitative\"}, \"y\": {\"field\": \"height\", \"title\": \"Height (m)\", \"type\": \"quantitative\"}}, \"height\": 150, \"title\": \"\", \"transform\": [{\"filter\": \"(datum.height !== 12)\"}, {\"filter\": \"(datum.height !== 6)\"}], \"width\": 150}], \"resolve\": {\"scale\": {\"x\": \"shared\"}}, \"$schema\": \"https://vega.github.io/schema/vega-lite/v5.20.1.json\"}, {\"mode\": \"vega-lite\"});\n",
       "</script>"
      ],
      "text/plain": [
       "alt.VConcatChart(...)"
      ]
     },
     "execution_count": 257,
     "metadata": {},
     "output_type": "execute_result"
    }
   ],
   "source": [
    "(\n",
    "    plot_profiles(src_abshum_upvalley_nobs).properties(title='') &\\\n",
    "    plot_profiles(src_abshum_dovalley_nobs).properties(title='')\n",
    ").resolve_scale(x='shared')"
   ]
  },
  {
   "cell_type": "code",
   "execution_count": 258,
   "metadata": {},
   "outputs": [],
   "source": [
    "def get_vert_advection_with_height(src, title, y_domain=[-0.0002, 0.0002]):\n",
    "    vars = [ \n",
    "        # 'vertical_advection_numerical_2',\n",
    "        'vertical_advection_numerical_3',\n",
    "        'vertical_advection_numerical_5',\n",
    "        'vertical_advection_numerical_10',\n",
    "        'vertical_advection_numerical_15',\n",
    "        'vertical_advection_numerical_20',\n",
    "    ]\n",
    "    ###\n",
    "    # CREATE CHART WITH VERTICAL ADVECTION TERM\n",
    "    ###\n",
    "    vert_advection_chart = alt.Chart(src).mark_line().transform_fold(\n",
    "        vars\n",
    "    ).encode(\n",
    "        alt.X('hours(time):T').axis(labelAlign='center', tickCount=4),\n",
    "        alt.Y('median(value):Q').title('Flux density (g/m^3/s)').scale(\n",
    "            domain = y_domain, clamp=False\n",
    "        ).axis(\n",
    "                values=[-0.0003, -0.0002, -0.0001, 0.000, 0.0001, 0.0002, 0.0003], \n",
    "                tickCount = 7\n",
    "            ),\n",
    "        alt.Color('key:N').sort(vars).scale(scheme='turbo')\n",
    "    ).properties(width=PLOT_WIDTH, height=PLOT_HEIGHT, title=title)\n",
    "    ###\n",
    "    # CREATE CHART WITH FLUX DIVERGENCE TERM AND dS_dT term\n",
    "    ###\n",
    "    flux_div_chart = alt.Chart(src).mark_line(\n",
    "        color='black'\n",
    "    ).transform_fold([\n",
    "        'ds/dt', 'vertical_turb_flux_divergence_3to20'\n",
    "    ]).encode(\n",
    "        alt.X('hours(time):T').axis(labelAlign='center'),\n",
    "        alt.Y('median(value):Q').title('Flux density (g/m^3/s)').scale(domain = y_domain, clamp=False),\n",
    "        alt.StrokeDash('key:N').sort(['vertical_turb_flux_divergence_3to20', 'ds/dt']).scale(range=[(4,2), (1.5,1.5)])\n",
    "    ).properties(width=PLOT_WIDTH, height=PLOT_HEIGHT, title=title)\n",
    "    ### \n",
    "    # CREATE CHART WITH RESIDUAL TERM\n",
    "    ###\n",
    "    residual_src = src.copy()\n",
    "    residual_src['residual_3'] = residual_src['vertical_turb_flux_divergence_3to20'] + residual_src['ds/dt'] + residual_src['vertical_advection_numerical_3']\n",
    "    residual_src['residual_5'] = residual_src['vertical_turb_flux_divergence_3to20'] + residual_src['ds/dt'] + residual_src['vertical_advection_numerical_5']\n",
    "    residual_src['residual_10'] = residual_src['vertical_turb_flux_divergence_3to20'] + residual_src['ds/dt'] + residual_src['vertical_advection_numerical_10']\n",
    "    residual_src['residual_15'] = residual_src['vertical_turb_flux_divergence_3to20'] + residual_src['ds/dt'] + residual_src['vertical_advection_numerical_15']\n",
    "    residual_src['residual_20'] = residual_src['vertical_turb_flux_divergence_3to20'] + residual_src['ds/dt'] + residual_src['vertical_advection_numerical_20']\n",
    "    residual_src = residual_src.set_index('time')[[\n",
    "        'vertical_advection_numerical_3',\n",
    "        'vertical_advection_numerical_5',\n",
    "        'vertical_advection_numerical_10',\n",
    "        'vertical_advection_numerical_15',\n",
    "        'vertical_advection_numerical_20',\n",
    "        'ds/dt', \n",
    "        'vertical_turb_flux_divergence_3to20',\n",
    "        'residual_3',\n",
    "        'residual_5',\n",
    "        'residual_10',\n",
    "        'residual_15',\n",
    "        'residual_20',\n",
    "    ]]\n",
    "    residual_src['hour'] = residual_src.index.hour\n",
    "    residual_src = residual_src.groupby('hour').median()\n",
    "    residual_src['time'] = residual_src.reset_index().hour.apply(lambda hr: dt.datetime(\n",
    "        year=2000,\n",
    "        month=1,\n",
    "        day=1,\n",
    "        hour=hr\n",
    "    ))\n",
    "    residual_src['residual_3m'] = residual_src['vertical_advection_numerical_3'] +\\\n",
    "                                residual_src['ds/dt'] +\\\n",
    "                                residual_src['vertical_turb_flux_divergence_3to20']\n",
    "    residual_src['residual_5m'] = residual_src['vertical_advection_numerical_5'] +\\\n",
    "                                residual_src['ds/dt'] +\\\n",
    "                                residual_src['vertical_turb_flux_divergence_3to20']\n",
    "    residual_src['residual_10m'] = residual_src['vertical_advection_numerical_10'] +\\\n",
    "                                residual_src['ds/dt'] +\\\n",
    "                                residual_src['vertical_turb_flux_divergence_3to20']\n",
    "    residual_src['residual_15m'] = residual_src['vertical_advection_numerical_15'] +\\\n",
    "                                residual_src['ds/dt'] +\\\n",
    "                                residual_src['vertical_turb_flux_divergence_3to20']\n",
    "    residual_src['residual_20m'] = residual_src['vertical_advection_numerical_20'] +\\\n",
    "                                residual_src['ds/dt'] +\\\n",
    "                                residual_src['vertical_turb_flux_divergence_3to20']\n",
    "    residual_src = residual_src.dropna()\n",
    "    residual_chart = alt.Chart(residual_src).mark_area(\n",
    "        color='grey', opacity=0.4\n",
    "    ).transform_fold([\n",
    "        'residual_3m',\n",
    "        'residual_5m',\n",
    "        'residual_10m',\n",
    "        'residual_15m',\n",
    "        'residual_20m',\n",
    "    ]).encode(\n",
    "        alt.X('hours(time):T'),\n",
    "        alt.Y('min(value):Q'),\n",
    "        alt.Y2('max(value):Q'),\n",
    "    )\n",
    "    return (residual_chart + vert_advection_chart + flux_div_chart)"
   ]
  },
  {
   "cell_type": "code",
   "execution_count": 259,
   "metadata": {},
   "outputs": [
    {
     "data": {
      "text/html": [
       "\n",
       "<style>\n",
       "  #altair-viz-535005f75603448bbe37e45afa0889a4.vega-embed {\n",
       "    width: 100%;\n",
       "    display: flex;\n",
       "  }\n",
       "\n",
       "  #altair-viz-535005f75603448bbe37e45afa0889a4.vega-embed details,\n",
       "  #altair-viz-535005f75603448bbe37e45afa0889a4.vega-embed details summary {\n",
       "    position: relative;\n",
       "  }\n",
       "</style>\n",
       "<div id=\"altair-viz-535005f75603448bbe37e45afa0889a4\"></div>\n",
       "<script type=\"text/javascript\">\n",
       "  var VEGA_DEBUG = (typeof VEGA_DEBUG == \"undefined\") ? {} : VEGA_DEBUG;\n",
       "  (function(spec, embedOpt){\n",
       "    let outputDiv = document.currentScript.previousElementSibling;\n",
       "    if (outputDiv.id !== \"altair-viz-535005f75603448bbe37e45afa0889a4\") {\n",
       "      outputDiv = document.getElementById(\"altair-viz-535005f75603448bbe37e45afa0889a4\");\n",
       "    }\n",
       "    const paths = {\n",
       "      \"vega\": \"https://cdn.jsdelivr.net/npm/vega@5?noext\",\n",
       "      \"vega-lib\": \"https://cdn.jsdelivr.net/npm/vega-lib?noext\",\n",
       "      \"vega-lite\": \"https://cdn.jsdelivr.net/npm/vega-lite@5.20.1?noext\",\n",
       "      \"vega-embed\": \"https://cdn.jsdelivr.net/npm/vega-embed@6?noext\",\n",
       "    };\n",
       "\n",
       "    function maybeLoadScript(lib, version) {\n",
       "      var key = `${lib.replace(\"-\", \"\")}_version`;\n",
       "      return (VEGA_DEBUG[key] == version) ?\n",
       "        Promise.resolve(paths[lib]) :\n",
       "        new Promise(function(resolve, reject) {\n",
       "          var s = document.createElement('script');\n",
       "          document.getElementsByTagName(\"head\")[0].appendChild(s);\n",
       "          s.async = true;\n",
       "          s.onload = () => {\n",
       "            VEGA_DEBUG[key] = version;\n",
       "            return resolve(paths[lib]);\n",
       "          };\n",
       "          s.onerror = () => reject(`Error loading script: ${paths[lib]}`);\n",
       "          s.src = paths[lib];\n",
       "        });\n",
       "    }\n",
       "\n",
       "    function showError(err) {\n",
       "      outputDiv.innerHTML = `<div class=\"error\" style=\"color:red;\">${err}</div>`;\n",
       "      throw err;\n",
       "    }\n",
       "\n",
       "    function displayChart(vegaEmbed) {\n",
       "      vegaEmbed(outputDiv, spec, embedOpt)\n",
       "        .catch(err => showError(`Javascript Error: ${err.message}<br>This usually means there's a typo in your chart specification. See the javascript console for the full traceback.`));\n",
       "    }\n",
       "\n",
       "    if(typeof define === \"function\" && define.amd) {\n",
       "      requirejs.config({paths});\n",
       "      require([\"vega-embed\"], displayChart, err => showError(`Error loading script: ${err.message}`));\n",
       "    } else {\n",
       "      maybeLoadScript(\"vega\", \"5\")\n",
       "        .then(() => maybeLoadScript(\"vega-lite\", \"5.20.1\"))\n",
       "        .then(() => maybeLoadScript(\"vega-embed\", \"6\"))\n",
       "        .catch(showError)\n",
       "        .then(() => displayChart(vegaEmbed));\n",
       "    }\n",
       "  })({\"config\": {\"view\": {\"continuousWidth\": 300, \"continuousHeight\": 300}, \"legend\": {\"columns\": 1, \"orient\": \"top\"}}, \"hconcat\": [{\"vconcat\": [{\"data\": {\"url\": \"altair-data-c575b8685a9868b0dbc49e34048dfcb8.json\", \"format\": {\"type\": \"json\"}}, \"mark\": {\"type\": \"line\", \"color\": \"black\", \"point\": {\"size\": 20, \"color\": \"black\"}, \"strokeWidth\": 1}, \"encoding\": {\"color\": {\"field\": \"conditions\", \"type\": \"nominal\"}, \"detail\": {\"field\": \"conditions\", \"type\": \"nominal\"}, \"order\": {\"field\": \"height\", \"type\": \"quantitative\"}, \"x\": {\"aggregate\": \"median\", \"field\": \"value\", \"scale\": {\"zero\": false}, \"title\": \"Absolute humidty (g/m^-3)\", \"type\": \"quantitative\"}, \"y\": {\"field\": \"height\", \"title\": \"Height (m)\", \"type\": \"quantitative\"}}, \"height\": 150, \"title\": \"\", \"transform\": [{\"filter\": \"(datum.height !== 12)\"}, {\"filter\": \"(datum.height !== 6)\"}], \"width\": 150}, {\"data\": {\"url\": \"altair-data-bfaca7007958ba2beb1ce081832d68ea.json\", \"format\": {\"type\": \"json\"}}, \"mark\": {\"type\": \"line\", \"color\": \"black\", \"point\": {\"size\": 20, \"color\": \"black\"}, \"strokeWidth\": 1}, \"encoding\": {\"color\": {\"field\": \"conditions\", \"type\": \"nominal\"}, \"detail\": {\"field\": \"conditions\", \"type\": \"nominal\"}, \"order\": {\"field\": \"height\", \"type\": \"quantitative\"}, \"x\": {\"aggregate\": \"median\", \"field\": \"value\", \"scale\": {\"zero\": false}, \"title\": \"Absolute humidty (g/m^-3)\", \"type\": \"quantitative\"}, \"y\": {\"field\": \"height\", \"title\": \"Height (m)\", \"type\": \"quantitative\"}}, \"height\": 150, \"title\": \"\", \"transform\": [{\"filter\": \"(datum.height !== 12)\"}, {\"filter\": \"(datum.height !== 6)\"}], \"width\": 150}]}, {\"vconcat\": [{\"layer\": [{\"mark\": {\"type\": \"rule\"}, \"encoding\": {\"y\": {\"field\": \"y\", \"type\": \"quantitative\"}}, \"transform\": [{\"calculate\": \"0\", \"as\": \"y\"}]}, {\"mark\": {\"type\": \"line\"}, \"encoding\": {\"color\": {\"field\": \"height\", \"scale\": {\"scheme\": \"turbo\"}, \"type\": \"ordinal\"}, \"x\": {\"axis\": {\"labelAlign\": \"center\", \"values\": [0, 6, 12, 18]}, \"field\": \"time\", \"timeUnit\": \"hours\", \"type\": \"temporal\"}, \"y\": {\"aggregate\": \"median\", \"axis\": {\"values\": [-0.03, -0.02, -0.01, 0.0, 0.01, 0.02, 0.03], \"tickCount\": 7}, \"field\": \"value\", \"scale\": {\"domain\": [-0.03, 0.03], \"clamp\": false}, \"title\": \"Vertical velocity (m/s)\", \"type\": \"quantitative\"}}}], \"data\": {\"url\": \"altair-data-3ac7ba518e5e16dfef9d99bd56c5d8e3.json\", \"format\": {\"type\": \"json\"}}, \"height\": 150, \"title\": \"\", \"width\": 150}, {\"layer\": [{\"mark\": {\"type\": \"rule\"}, \"encoding\": {\"y\": {\"field\": \"y\", \"type\": \"quantitative\"}}, \"transform\": [{\"calculate\": \"0\", \"as\": \"y\"}]}, {\"mark\": {\"type\": \"line\"}, \"encoding\": {\"color\": {\"field\": \"height\", \"scale\": {\"scheme\": \"turbo\"}, \"type\": \"ordinal\"}, \"x\": {\"axis\": {\"labelAlign\": \"center\", \"values\": [0, 6, 12, 18]}, \"field\": \"time\", \"timeUnit\": \"hours\", \"type\": \"temporal\"}, \"y\": {\"aggregate\": \"median\", \"axis\": {\"values\": [-0.03, -0.02, -0.01, 0.0, 0.01, 0.02, 0.03], \"tickCount\": 7}, \"field\": \"value\", \"scale\": {\"domain\": [-0.03, 0.03], \"clamp\": false}, \"title\": \"Vertical velocity (m/s)\", \"type\": \"quantitative\"}}}], \"data\": {\"url\": \"altair-data-a7bbed5c62c5255dae867e50544e54a6.json\", \"format\": {\"type\": \"json\"}}, \"height\": 150, \"title\": \"\", \"width\": 150}], \"resolve\": {\"scale\": {\"y\": \"shared\"}}}, {\"vconcat\": [{\"layer\": [{\"data\": {\"url\": \"altair-data-ff0af4ebbb9830e31a630c8ef2732d49.json\", \"format\": {\"type\": \"json\"}}, \"mark\": {\"type\": \"area\", \"color\": \"grey\", \"opacity\": 0.4}, \"encoding\": {\"x\": {\"field\": \"time\", \"timeUnit\": \"hours\", \"type\": \"temporal\"}, \"y\": {\"aggregate\": \"min\", \"field\": \"value\", \"type\": \"quantitative\"}, \"y2\": {\"aggregate\": \"max\", \"field\": \"value\"}}, \"transform\": [{\"fold\": [\"residual_3m\", \"residual_5m\", \"residual_10m\", \"residual_15m\", \"residual_20m\"]}]}, {\"data\": {\"url\": \"altair-data-02ea543f305b05c28494c7753c804a2f.json\", \"format\": {\"type\": \"json\"}}, \"mark\": {\"type\": \"line\"}, \"encoding\": {\"color\": {\"field\": \"key\", \"scale\": {\"scheme\": \"turbo\"}, \"sort\": [\"vertical_advection_numerical_3\", \"vertical_advection_numerical_5\", \"vertical_advection_numerical_10\", \"vertical_advection_numerical_15\", \"vertical_advection_numerical_20\"], \"type\": \"nominal\"}, \"x\": {\"axis\": {\"labelAlign\": \"center\", \"tickCount\": 4}, \"field\": \"time\", \"timeUnit\": \"hours\", \"type\": \"temporal\"}, \"y\": {\"aggregate\": \"median\", \"axis\": {\"values\": [-0.0003, -0.0002, -0.0001, 0.0, 0.0001, 0.0002, 0.0003], \"tickCount\": 7}, \"field\": \"value\", \"scale\": {\"domain\": [-0.0002, 0.0002], \"clamp\": false}, \"title\": \"Flux density (g/m^3/s)\", \"type\": \"quantitative\"}}, \"title\": \"\", \"transform\": [{\"fold\": [\"vertical_advection_numerical_3\", \"vertical_advection_numerical_5\", \"vertical_advection_numerical_10\", \"vertical_advection_numerical_15\", \"vertical_advection_numerical_20\"]}]}, {\"data\": {\"url\": \"altair-data-02ea543f305b05c28494c7753c804a2f.json\", \"format\": {\"type\": \"json\"}}, \"mark\": {\"type\": \"line\", \"color\": \"black\"}, \"encoding\": {\"strokeDash\": {\"field\": \"key\", \"scale\": {\"range\": [[4, 2], [1.5, 1.5]]}, \"sort\": [\"vertical_turb_flux_divergence_3to20\", \"ds/dt\"], \"type\": \"nominal\"}, \"x\": {\"axis\": {\"labelAlign\": \"center\"}, \"field\": \"time\", \"timeUnit\": \"hours\", \"type\": \"temporal\"}, \"y\": {\"aggregate\": \"median\", \"field\": \"value\", \"scale\": {\"domain\": [-0.0002, 0.0002], \"clamp\": false}, \"title\": \"Flux density (g/m^3/s)\", \"type\": \"quantitative\"}}, \"title\": \"\", \"transform\": [{\"fold\": [\"ds/dt\", \"vertical_turb_flux_divergence_3to20\"]}]}], \"height\": 150, \"width\": 150}, {\"layer\": [{\"data\": {\"url\": \"altair-data-5cb9abbbb42d6fb35cddef6cb2954c98.json\", \"format\": {\"type\": \"json\"}}, \"mark\": {\"type\": \"area\", \"color\": \"grey\", \"opacity\": 0.4}, \"encoding\": {\"x\": {\"field\": \"time\", \"timeUnit\": \"hours\", \"type\": \"temporal\"}, \"y\": {\"aggregate\": \"min\", \"field\": \"value\", \"type\": \"quantitative\"}, \"y2\": {\"aggregate\": \"max\", \"field\": \"value\"}}, \"transform\": [{\"fold\": [\"residual_3m\", \"residual_5m\", \"residual_10m\", \"residual_15m\", \"residual_20m\"]}]}, {\"data\": {\"url\": \"altair-data-8c7830923ef7a63d89dcc0d70625c531.json\", \"format\": {\"type\": \"json\"}}, \"mark\": {\"type\": \"line\"}, \"encoding\": {\"color\": {\"field\": \"key\", \"scale\": {\"scheme\": \"turbo\"}, \"sort\": [\"vertical_advection_numerical_3\", \"vertical_advection_numerical_5\", \"vertical_advection_numerical_10\", \"vertical_advection_numerical_15\", \"vertical_advection_numerical_20\"], \"type\": \"nominal\"}, \"x\": {\"axis\": {\"labelAlign\": \"center\", \"tickCount\": 4}, \"field\": \"time\", \"timeUnit\": \"hours\", \"type\": \"temporal\"}, \"y\": {\"aggregate\": \"median\", \"axis\": {\"values\": [-0.0003, -0.0002, -0.0001, 0.0, 0.0001, 0.0002, 0.0003], \"tickCount\": 7}, \"field\": \"value\", \"scale\": {\"domain\": [-0.0002, 0.0002], \"clamp\": false}, \"title\": \"Flux density (g/m^3/s)\", \"type\": \"quantitative\"}}, \"title\": \"\", \"transform\": [{\"fold\": [\"vertical_advection_numerical_3\", \"vertical_advection_numerical_5\", \"vertical_advection_numerical_10\", \"vertical_advection_numerical_15\", \"vertical_advection_numerical_20\"]}]}, {\"data\": {\"url\": \"altair-data-8c7830923ef7a63d89dcc0d70625c531.json\", \"format\": {\"type\": \"json\"}}, \"mark\": {\"type\": \"line\", \"color\": \"black\"}, \"encoding\": {\"strokeDash\": {\"field\": \"key\", \"scale\": {\"range\": [[4, 2], [1.5, 1.5]]}, \"sort\": [\"vertical_turb_flux_divergence_3to20\", \"ds/dt\"], \"type\": \"nominal\"}, \"x\": {\"axis\": {\"labelAlign\": \"center\"}, \"field\": \"time\", \"timeUnit\": \"hours\", \"type\": \"temporal\"}, \"y\": {\"aggregate\": \"median\", \"field\": \"value\", \"scale\": {\"domain\": [-0.0002, 0.0002], \"clamp\": false}, \"title\": \"Flux density (g/m^3/s)\", \"type\": \"quantitative\"}}, \"title\": \"\", \"transform\": [{\"fold\": [\"ds/dt\", \"vertical_turb_flux_divergence_3to20\"]}]}], \"height\": 150, \"width\": 150}]}], \"resolve\": {\"scale\": {\"color\": \"independent\", \"strokeDash\": \"independent\"}}, \"$schema\": \"https://vega.github.io/schema/vega-lite/v5.20.1.json\"}, {\"mode\": \"vega-lite\"});\n",
       "</script>"
      ],
      "text/plain": [
       "alt.HConcatChart(...)"
      ]
     },
     "execution_count": 259,
     "metadata": {},
     "output_type": "execute_result"
    }
   ],
   "source": [
    "s_profile_charts = (\n",
    "    plot_profiles(src_abshum_upvalley_nobs).properties(title='') &\\\n",
    "    plot_profiles(src_abshum_dovalley_nobs).properties(title='')\n",
    ")\n",
    "w_charts = (\n",
    "    w_diurnal_chart(src_w_upvalley_nobs.query(\"height > 2\"), title='') &\\\n",
    "    w_diurnal_chart(src_w_dovalley_nobs.query(\"height > 2\"), title='')\n",
    ").resolve_scale(y='shared')\n",
    "conservation_charts_numerical = (\n",
    "    get_vert_advection_with_height(src_cons_terms_numerical_upvalley_nobs, title='', y_domain=[-0.0002, 0.0002]) &\\\n",
    "    get_vert_advection_with_height(src_cons_terms_numerical_dovalley_nobs, title='', y_domain=[-0.0002, 0.0002])\n",
    ")\n",
    "\n",
    "(\n",
    "    (\n",
    "        s_profile_charts | w_charts | conservation_charts_numerical\n",
    "    ).resolve_scale(color='independent', strokeDash='independent')\n",
    ").configure_legend(orient='top', columns=1)"
   ]
  },
  {
   "cell_type": "markdown",
   "metadata": {},
   "source": [
    "### Blowing Snow Conditions"
   ]
  },
  {
   "cell_type": "markdown",
   "metadata": {},
   "source": [
    "Isolate data"
   ]
  },
  {
   "cell_type": "code",
   "execution_count": 260,
   "metadata": {},
   "outputs": [],
   "source": [
    "# Identify timestamps for the two categories\n",
    "upvalley_bs_times = set(pd.to_datetime(upvalley_wind_times)).intersection(set(bs_times))\n",
    "downvalley_bs_times = set(pd.to_datetime(downvalley_wind_times)).intersection(set(bs_times))\n",
    "\n",
    "# Data for diurnal cycles in CONSERVATION TERMS, FINITE DIFFERENCE METHOD\n",
    "########################################################\n",
    "src_cons_terms_numerical = advection_1d_fluxdensity_nonnorm_df.copy()\n",
    "src_cons_terms_numerical_upvalley_bs = src_cons_terms_numerical[src_cons_terms_numerical.index.isin(upvalley_bs_times)].reset_index()\n",
    "src_cons_terms_numerical_dovalley_bs = src_cons_terms_numerical[src_cons_terms_numerical.index.isin(downvalley_bs_times)].reset_index()\n",
    "\n",
    "# Data for diurnal cycles in MIXING RATIO PROFILES\n",
    "########################################################\n",
    "\n",
    "src_mixingratio = pd.concat([\n",
    "    tidy_df[tidy_df.measurement == 'mixing ratio'].query(\"tower == 'c'\"),\n",
    "    tidy_df[tidy_df.variable == 'Tsurfmixingratio_c'].query(\"tower == 'c'\")\n",
    "\n",
    "])\n",
    "src_mixingratio = src_mixingratio[src_mixingratio.time.isin(bs_times)]\n",
    "src_mixingratio['conditions'] = src_mixingratio.time.dt.hour\n",
    "# src_mixingratio = src_mixingratio[src_mixingratio.conditions % 4 == 0]\n",
    "src_mixingratio['conditions'] = pd.cut(\n",
    "    src_mixingratio.time.dt.hour,\n",
    "    [-1,3,6,9,12,15,18,21,24],\n",
    "    labels=['0-3', '3-6', '6-9', '9-12', '12-15', '15-18', '18-21', '21-0'],\n",
    "    right=False\n",
    ")\n",
    "\n",
    "src_mixingratio = src_mixingratio[\n",
    "    src_mixingratio['conditions'].isin([ \n",
    "        # '0-3',\n",
    "        '3-6',\n",
    "        # '6-9',\n",
    "        # '9-12',\n",
    "        '12-15',\n",
    "        # '15-18',\n",
    "        '18-21',\n",
    "        # '21-0'\n",
    "    ])\n",
    "]\n",
    "src_mixingratio['value'] = src_mixingratio['value']*1000\n",
    "src_mixingratio_upvalley_bs = src_mixingratio[src_mixingratio.time.isin(upvalley_bs_times)].query(\"height != 1\")\n",
    "src_mixingratio_dovalley_bs = src_mixingratio[src_mixingratio.time.isin(downvalley_bs_times)].query(\"height != 1\")\n",
    "\n",
    "# Data for diurnal cycles in MEAN W\n",
    "########################################################\n",
    "src_w = tidy_df[tidy_df.measurement == 'w'].query(\"tower == 'c'\")\n",
    "src_w_upvalley_bs = src_w[src_w.time.isin(upvalley_bs_times)]\n",
    "src_w_dovalley_bs = src_w[src_w.time.isin(downvalley_bs_times)]\n",
    "src_w_upvalley_bs = src_w_upvalley_bs.query(\"height != 1\")\n",
    "\n",
    "src_w_dovalley_bs = src_w_dovalley_bs.query(\"height != 1\")"
   ]
  },
  {
   "cell_type": "code",
   "execution_count": 261,
   "metadata": {},
   "outputs": [
    {
     "data": {
      "text/plain": [
       "(343, 880)"
      ]
     },
     "execution_count": 261,
     "metadata": {},
     "output_type": "execute_result"
    }
   ],
   "source": [
    "len(upvalley_bs_times), len(downvalley_bs_times)"
   ]
  },
  {
   "cell_type": "code",
   "execution_count": 262,
   "metadata": {},
   "outputs": [
    {
     "data": {
      "text/html": [
       "\n",
       "<style>\n",
       "  #altair-viz-9e90fbc143254dc383bd82c3a10950d3.vega-embed {\n",
       "    width: 100%;\n",
       "    display: flex;\n",
       "  }\n",
       "\n",
       "  #altair-viz-9e90fbc143254dc383bd82c3a10950d3.vega-embed details,\n",
       "  #altair-viz-9e90fbc143254dc383bd82c3a10950d3.vega-embed details summary {\n",
       "    position: relative;\n",
       "  }\n",
       "</style>\n",
       "<div id=\"altair-viz-9e90fbc143254dc383bd82c3a10950d3\"></div>\n",
       "<script type=\"text/javascript\">\n",
       "  var VEGA_DEBUG = (typeof VEGA_DEBUG == \"undefined\") ? {} : VEGA_DEBUG;\n",
       "  (function(spec, embedOpt){\n",
       "    let outputDiv = document.currentScript.previousElementSibling;\n",
       "    if (outputDiv.id !== \"altair-viz-9e90fbc143254dc383bd82c3a10950d3\") {\n",
       "      outputDiv = document.getElementById(\"altair-viz-9e90fbc143254dc383bd82c3a10950d3\");\n",
       "    }\n",
       "    const paths = {\n",
       "      \"vega\": \"https://cdn.jsdelivr.net/npm/vega@5?noext\",\n",
       "      \"vega-lib\": \"https://cdn.jsdelivr.net/npm/vega-lib?noext\",\n",
       "      \"vega-lite\": \"https://cdn.jsdelivr.net/npm/vega-lite@5.20.1?noext\",\n",
       "      \"vega-embed\": \"https://cdn.jsdelivr.net/npm/vega-embed@6?noext\",\n",
       "    };\n",
       "\n",
       "    function maybeLoadScript(lib, version) {\n",
       "      var key = `${lib.replace(\"-\", \"\")}_version`;\n",
       "      return (VEGA_DEBUG[key] == version) ?\n",
       "        Promise.resolve(paths[lib]) :\n",
       "        new Promise(function(resolve, reject) {\n",
       "          var s = document.createElement('script');\n",
       "          document.getElementsByTagName(\"head\")[0].appendChild(s);\n",
       "          s.async = true;\n",
       "          s.onload = () => {\n",
       "            VEGA_DEBUG[key] = version;\n",
       "            return resolve(paths[lib]);\n",
       "          };\n",
       "          s.onerror = () => reject(`Error loading script: ${paths[lib]}`);\n",
       "          s.src = paths[lib];\n",
       "        });\n",
       "    }\n",
       "\n",
       "    function showError(err) {\n",
       "      outputDiv.innerHTML = `<div class=\"error\" style=\"color:red;\">${err}</div>`;\n",
       "      throw err;\n",
       "    }\n",
       "\n",
       "    function displayChart(vegaEmbed) {\n",
       "      vegaEmbed(outputDiv, spec, embedOpt)\n",
       "        .catch(err => showError(`Javascript Error: ${err.message}<br>This usually means there's a typo in your chart specification. See the javascript console for the full traceback.`));\n",
       "    }\n",
       "\n",
       "    if(typeof define === \"function\" && define.amd) {\n",
       "      requirejs.config({paths});\n",
       "      require([\"vega-embed\"], displayChart, err => showError(`Error loading script: ${err.message}`));\n",
       "    } else {\n",
       "      maybeLoadScript(\"vega\", \"5\")\n",
       "        .then(() => maybeLoadScript(\"vega-lite\", \"5.20.1\"))\n",
       "        .then(() => maybeLoadScript(\"vega-embed\", \"6\"))\n",
       "        .catch(showError)\n",
       "        .then(() => displayChart(vegaEmbed));\n",
       "    }\n",
       "  })({\"config\": {\"view\": {\"continuousWidth\": 300, \"continuousHeight\": 300}}, \"vconcat\": [{\"data\": {\"url\": \"altair-data-7eb15b5d9f801ae0cbee7ce230e05bab.json\", \"format\": {\"type\": \"json\"}}, \"mark\": {\"type\": \"line\", \"color\": \"black\", \"point\": {\"size\": 20, \"color\": \"black\"}, \"strokeWidth\": 1}, \"encoding\": {\"color\": {\"field\": \"conditions\", \"type\": \"nominal\"}, \"detail\": {\"field\": \"conditions\", \"type\": \"nominal\"}, \"order\": {\"field\": \"height\", \"type\": \"quantitative\"}, \"x\": {\"aggregate\": \"median\", \"field\": \"value\", \"scale\": {\"zero\": false}, \"title\": \"Absolute humidty (g/m^-3)\", \"type\": \"quantitative\"}, \"y\": {\"field\": \"height\", \"title\": \"Height (m)\", \"type\": \"quantitative\"}}, \"height\": 150, \"title\": \"\", \"transform\": [{\"filter\": \"(datum.height !== 12)\"}, {\"filter\": \"(datum.height !== 6)\"}], \"width\": 150}, {\"data\": {\"url\": \"altair-data-81cea4737396dd826494002378969edf.json\", \"format\": {\"type\": \"json\"}}, \"mark\": {\"type\": \"line\", \"color\": \"black\", \"point\": {\"size\": 20, \"color\": \"black\"}, \"strokeWidth\": 1}, \"encoding\": {\"color\": {\"field\": \"conditions\", \"type\": \"nominal\"}, \"detail\": {\"field\": \"conditions\", \"type\": \"nominal\"}, \"order\": {\"field\": \"height\", \"type\": \"quantitative\"}, \"x\": {\"aggregate\": \"median\", \"field\": \"value\", \"scale\": {\"zero\": false}, \"title\": \"Absolute humidty (g/m^-3)\", \"type\": \"quantitative\"}, \"y\": {\"field\": \"height\", \"title\": \"Height (m)\", \"type\": \"quantitative\"}}, \"height\": 150, \"title\": \"\", \"transform\": [{\"filter\": \"(datum.height !== 12)\"}, {\"filter\": \"(datum.height !== 6)\"}], \"width\": 150}], \"resolve\": {\"scale\": {\"x\": \"shared\"}}, \"$schema\": \"https://vega.github.io/schema/vega-lite/v5.20.1.json\"}, {\"mode\": \"vega-lite\"});\n",
       "</script>"
      ],
      "text/plain": [
       "alt.VConcatChart(...)"
      ]
     },
     "execution_count": 262,
     "metadata": {},
     "output_type": "execute_result"
    }
   ],
   "source": [
    "(\n",
    "    plot_profiles(src_mixingratio_upvalley_bs).properties(title='') &\\\n",
    "    plot_profiles(src_mixingratio_dovalley_bs).properties(title='')\n",
    ").resolve_scale(x='shared')"
   ]
  },
  {
   "cell_type": "code",
   "execution_count": 263,
   "metadata": {},
   "outputs": [],
   "source": [
    "def get_vert_advection_with_height(src, title, y_domain=[-0.0002, 0.0002]):\n",
    "    vars = [ \n",
    "        # 'vertical_advection_numerical_2',\n",
    "        'vertical_advection_numerical_3',\n",
    "        'vertical_advection_numerical_5',\n",
    "        'vertical_advection_numerical_10',\n",
    "        'vertical_advection_numerical_15',\n",
    "        'vertical_advection_numerical_20',\n",
    "    ]\n",
    "    ###\n",
    "    # CREATE CHART WITH VERTICAL ADVECTION TERM\n",
    "    ###\n",
    "    vert_advection_chart = alt.Chart(src).mark_line().transform_fold(\n",
    "        vars\n",
    "    ).encode(\n",
    "        alt.X('hours(time):T').axis(labelAlign='center', tickCount=4),\n",
    "        alt.Y('median(value):Q').title('Flux density (g/m^3/s)').scale(\n",
    "            domain = y_domain, clamp=False\n",
    "        ).axis(\n",
    "                values=[-0.0003, -0.0002, -0.0001, 0.000, 0.0001, 0.0002, 0.0003], \n",
    "                tickCount = 7\n",
    "            ),\n",
    "        alt.Color('key:N').sort(vars).scale(scheme='turbo')\n",
    "    ).properties(width=PLOT_WIDTH, height=PLOT_HEIGHT, title=title)\n",
    "    ###\n",
    "    # CREATE CHART WITH FLUX DIVERGENCE TERM AND dS_dT term\n",
    "    ###\n",
    "    flux_div_chart = alt.Chart(src).mark_line(\n",
    "        color='black'\n",
    "    ).transform_fold([\n",
    "        'ds/dt', 'vertical_turb_flux_divergence_3to20'\n",
    "    ]).encode(\n",
    "        alt.X('hours(time):T').axis(labelAlign='center'),\n",
    "        alt.Y('median(value):Q').title('Flux density (g/m^3/s)').scale(domain = y_domain, clamp=False),\n",
    "        alt.StrokeDash('key:N').sort(['vertical_turb_flux_divergence_3to20', 'ds/dt']).scale(range=[(4,2), (1.5,1.5)])\n",
    "    ).properties(width=PLOT_WIDTH, height=PLOT_HEIGHT, title=title)\n",
    "    ### \n",
    "    # CREATE CHART WITH RESIDUAL TERM\n",
    "    ###\n",
    "    residual_src = src.copy()\n",
    "    residual_src['residual_3'] = residual_src['vertical_turb_flux_divergence_3to20'] + residual_src['ds/dt'] + residual_src['vertical_advection_numerical_3']\n",
    "    residual_src['residual_5'] = residual_src['vertical_turb_flux_divergence_3to20'] + residual_src['ds/dt'] + residual_src['vertical_advection_numerical_5']\n",
    "    residual_src['residual_10'] = residual_src['vertical_turb_flux_divergence_3to20'] + residual_src['ds/dt'] + residual_src['vertical_advection_numerical_10']\n",
    "    residual_src['residual_15'] = residual_src['vertical_turb_flux_divergence_3to20'] + residual_src['ds/dt'] + residual_src['vertical_advection_numerical_15']\n",
    "    residual_src['residual_20'] = residual_src['vertical_turb_flux_divergence_3to20'] + residual_src['ds/dt'] + residual_src['vertical_advection_numerical_20']\n",
    "    residual_src = residual_src.set_index('time')[[\n",
    "        'vertical_advection_numerical_3',\n",
    "        'vertical_advection_numerical_5',\n",
    "        'vertical_advection_numerical_10',\n",
    "        'vertical_advection_numerical_15',\n",
    "        'vertical_advection_numerical_20',\n",
    "        'ds/dt', \n",
    "        'vertical_turb_flux_divergence_3to20',\n",
    "        'residual_3',\n",
    "        'residual_5',\n",
    "        'residual_10',\n",
    "        'residual_15',\n",
    "        'residual_20',\n",
    "    ]]\n",
    "    residual_src['hour'] = residual_src.index.hour\n",
    "    residual_src = residual_src.groupby('hour').median()\n",
    "    residual_src['time'] = residual_src.reset_index().hour.apply(lambda hr: dt.datetime(\n",
    "        year=2000,\n",
    "        month=1,\n",
    "        day=1,\n",
    "        hour=hr\n",
    "    ))\n",
    "    residual_src['residual_3m'] = residual_src['vertical_advection_numerical_3'] +\\\n",
    "                                residual_src['ds/dt'] +\\\n",
    "                                residual_src['vertical_turb_flux_divergence_3to20']\n",
    "    residual_src['residual_5m'] = residual_src['vertical_advection_numerical_5'] +\\\n",
    "                                residual_src['ds/dt'] +\\\n",
    "                                residual_src['vertical_turb_flux_divergence_3to20']\n",
    "    residual_src['residual_10m'] = residual_src['vertical_advection_numerical_10'] +\\\n",
    "                                residual_src['ds/dt'] +\\\n",
    "                                residual_src['vertical_turb_flux_divergence_3to20']\n",
    "    residual_src['residual_15m'] = residual_src['vertical_advection_numerical_15'] +\\\n",
    "                                residual_src['ds/dt'] +\\\n",
    "                                residual_src['vertical_turb_flux_divergence_3to20']\n",
    "    residual_src['residual_20m'] = residual_src['vertical_advection_numerical_20'] +\\\n",
    "                                residual_src['ds/dt'] +\\\n",
    "                                residual_src['vertical_turb_flux_divergence_3to20']\n",
    "    residual_src = residual_src.dropna()\n",
    "    residual_chart = alt.Chart(residual_src).mark_area(\n",
    "        color='grey', opacity=0.4\n",
    "    ).transform_fold([\n",
    "        'residual_3m',\n",
    "        'residual_5m',\n",
    "        'residual_10m',\n",
    "        'residual_15m',\n",
    "        'residual_20m',\n",
    "    ]).encode(\n",
    "        alt.X('hours(time):T'),\n",
    "        alt.Y('min(value):Q'),\n",
    "        alt.Y2('max(value):Q'),\n",
    "    )\n",
    "    return (residual_chart + vert_advection_chart + flux_div_chart)"
   ]
  },
  {
   "cell_type": "code",
   "execution_count": 264,
   "metadata": {},
   "outputs": [
    {
     "data": {
      "text/html": [
       "\n",
       "<style>\n",
       "  #altair-viz-33a40309974d4e0e910a58676957626a.vega-embed {\n",
       "    width: 100%;\n",
       "    display: flex;\n",
       "  }\n",
       "\n",
       "  #altair-viz-33a40309974d4e0e910a58676957626a.vega-embed details,\n",
       "  #altair-viz-33a40309974d4e0e910a58676957626a.vega-embed details summary {\n",
       "    position: relative;\n",
       "  }\n",
       "</style>\n",
       "<div id=\"altair-viz-33a40309974d4e0e910a58676957626a\"></div>\n",
       "<script type=\"text/javascript\">\n",
       "  var VEGA_DEBUG = (typeof VEGA_DEBUG == \"undefined\") ? {} : VEGA_DEBUG;\n",
       "  (function(spec, embedOpt){\n",
       "    let outputDiv = document.currentScript.previousElementSibling;\n",
       "    if (outputDiv.id !== \"altair-viz-33a40309974d4e0e910a58676957626a\") {\n",
       "      outputDiv = document.getElementById(\"altair-viz-33a40309974d4e0e910a58676957626a\");\n",
       "    }\n",
       "    const paths = {\n",
       "      \"vega\": \"https://cdn.jsdelivr.net/npm/vega@5?noext\",\n",
       "      \"vega-lib\": \"https://cdn.jsdelivr.net/npm/vega-lib?noext\",\n",
       "      \"vega-lite\": \"https://cdn.jsdelivr.net/npm/vega-lite@5.20.1?noext\",\n",
       "      \"vega-embed\": \"https://cdn.jsdelivr.net/npm/vega-embed@6?noext\",\n",
       "    };\n",
       "\n",
       "    function maybeLoadScript(lib, version) {\n",
       "      var key = `${lib.replace(\"-\", \"\")}_version`;\n",
       "      return (VEGA_DEBUG[key] == version) ?\n",
       "        Promise.resolve(paths[lib]) :\n",
       "        new Promise(function(resolve, reject) {\n",
       "          var s = document.createElement('script');\n",
       "          document.getElementsByTagName(\"head\")[0].appendChild(s);\n",
       "          s.async = true;\n",
       "          s.onload = () => {\n",
       "            VEGA_DEBUG[key] = version;\n",
       "            return resolve(paths[lib]);\n",
       "          };\n",
       "          s.onerror = () => reject(`Error loading script: ${paths[lib]}`);\n",
       "          s.src = paths[lib];\n",
       "        });\n",
       "    }\n",
       "\n",
       "    function showError(err) {\n",
       "      outputDiv.innerHTML = `<div class=\"error\" style=\"color:red;\">${err}</div>`;\n",
       "      throw err;\n",
       "    }\n",
       "\n",
       "    function displayChart(vegaEmbed) {\n",
       "      vegaEmbed(outputDiv, spec, embedOpt)\n",
       "        .catch(err => showError(`Javascript Error: ${err.message}<br>This usually means there's a typo in your chart specification. See the javascript console for the full traceback.`));\n",
       "    }\n",
       "\n",
       "    if(typeof define === \"function\" && define.amd) {\n",
       "      requirejs.config({paths});\n",
       "      require([\"vega-embed\"], displayChart, err => showError(`Error loading script: ${err.message}`));\n",
       "    } else {\n",
       "      maybeLoadScript(\"vega\", \"5\")\n",
       "        .then(() => maybeLoadScript(\"vega-lite\", \"5.20.1\"))\n",
       "        .then(() => maybeLoadScript(\"vega-embed\", \"6\"))\n",
       "        .catch(showError)\n",
       "        .then(() => displayChart(vegaEmbed));\n",
       "    }\n",
       "  })({\"config\": {\"view\": {\"continuousWidth\": 300, \"continuousHeight\": 300}, \"legend\": {\"columns\": 1, \"orient\": \"top\"}}, \"hconcat\": [{\"vconcat\": [{\"data\": {\"url\": \"altair-data-7eb15b5d9f801ae0cbee7ce230e05bab.json\", \"format\": {\"type\": \"json\"}}, \"mark\": {\"type\": \"line\", \"color\": \"black\", \"point\": {\"size\": 20, \"color\": \"black\"}, \"strokeWidth\": 1}, \"encoding\": {\"color\": {\"field\": \"conditions\", \"type\": \"nominal\"}, \"detail\": {\"field\": \"conditions\", \"type\": \"nominal\"}, \"order\": {\"field\": \"height\", \"type\": \"quantitative\"}, \"x\": {\"aggregate\": \"median\", \"field\": \"value\", \"scale\": {\"zero\": false}, \"title\": \"Absolute humidty (g/m^-3)\", \"type\": \"quantitative\"}, \"y\": {\"field\": \"height\", \"title\": \"Height (m)\", \"type\": \"quantitative\"}}, \"height\": 150, \"title\": \"\", \"transform\": [{\"filter\": \"(datum.height !== 12)\"}, {\"filter\": \"(datum.height !== 6)\"}], \"width\": 150}, {\"data\": {\"url\": \"altair-data-81cea4737396dd826494002378969edf.json\", \"format\": {\"type\": \"json\"}}, \"mark\": {\"type\": \"line\", \"color\": \"black\", \"point\": {\"size\": 20, \"color\": \"black\"}, \"strokeWidth\": 1}, \"encoding\": {\"color\": {\"field\": \"conditions\", \"type\": \"nominal\"}, \"detail\": {\"field\": \"conditions\", \"type\": \"nominal\"}, \"order\": {\"field\": \"height\", \"type\": \"quantitative\"}, \"x\": {\"aggregate\": \"median\", \"field\": \"value\", \"scale\": {\"zero\": false}, \"title\": \"Absolute humidty (g/m^-3)\", \"type\": \"quantitative\"}, \"y\": {\"field\": \"height\", \"title\": \"Height (m)\", \"type\": \"quantitative\"}}, \"height\": 150, \"title\": \"\", \"transform\": [{\"filter\": \"(datum.height !== 12)\"}, {\"filter\": \"(datum.height !== 6)\"}], \"width\": 150}]}, {\"vconcat\": [{\"layer\": [{\"mark\": {\"type\": \"rule\"}, \"encoding\": {\"y\": {\"field\": \"y\", \"type\": \"quantitative\"}}, \"transform\": [{\"calculate\": \"0\", \"as\": \"y\"}]}, {\"mark\": {\"type\": \"line\"}, \"encoding\": {\"color\": {\"field\": \"height\", \"scale\": {\"scheme\": \"turbo\"}, \"type\": \"ordinal\"}, \"x\": {\"axis\": {\"labelAlign\": \"center\", \"values\": [0, 6, 12, 18]}, \"field\": \"time\", \"timeUnit\": \"hours\", \"type\": \"temporal\"}, \"y\": {\"aggregate\": \"median\", \"axis\": {\"values\": [-0.03, -0.02, -0.01, 0.0, 0.01, 0.02, 0.03], \"tickCount\": 7}, \"field\": \"value\", \"scale\": {\"domain\": [-0.03, 0.03], \"clamp\": false}, \"title\": \"Vertical velocity (m/s)\", \"type\": \"quantitative\"}}}], \"data\": {\"url\": \"altair-data-417548058a8726da97cee091ec58e88c.json\", \"format\": {\"type\": \"json\"}}, \"height\": 150, \"title\": \"\", \"width\": 150}, {\"layer\": [{\"mark\": {\"type\": \"rule\"}, \"encoding\": {\"y\": {\"field\": \"y\", \"type\": \"quantitative\"}}, \"transform\": [{\"calculate\": \"0\", \"as\": \"y\"}]}, {\"mark\": {\"type\": \"line\"}, \"encoding\": {\"color\": {\"field\": \"height\", \"scale\": {\"scheme\": \"turbo\"}, \"type\": \"ordinal\"}, \"x\": {\"axis\": {\"labelAlign\": \"center\", \"values\": [0, 6, 12, 18]}, \"field\": \"time\", \"timeUnit\": \"hours\", \"type\": \"temporal\"}, \"y\": {\"aggregate\": \"median\", \"axis\": {\"values\": [-0.03, -0.02, -0.01, 0.0, 0.01, 0.02, 0.03], \"tickCount\": 7}, \"field\": \"value\", \"scale\": {\"domain\": [-0.03, 0.03], \"clamp\": false}, \"title\": \"Vertical velocity (m/s)\", \"type\": \"quantitative\"}}}], \"data\": {\"url\": \"altair-data-b1fc71391e52463f219f4938c39f1014.json\", \"format\": {\"type\": \"json\"}}, \"height\": 150, \"title\": \"\", \"width\": 150}], \"resolve\": {\"scale\": {\"y\": \"shared\"}}}, {\"vconcat\": [{\"layer\": [{\"data\": {\"url\": \"altair-data-aa30c3bf0b20f84c01aad52f6f9e1361.json\", \"format\": {\"type\": \"json\"}}, \"mark\": {\"type\": \"area\", \"color\": \"grey\", \"opacity\": 0.4}, \"encoding\": {\"x\": {\"field\": \"time\", \"timeUnit\": \"hours\", \"type\": \"temporal\"}, \"y\": {\"aggregate\": \"min\", \"field\": \"value\", \"type\": \"quantitative\"}, \"y2\": {\"aggregate\": \"max\", \"field\": \"value\"}}, \"transform\": [{\"fold\": [\"residual_3m\", \"residual_5m\", \"residual_10m\", \"residual_15m\", \"residual_20m\"]}]}, {\"data\": {\"url\": \"altair-data-64b65e026c6532072ea0855fb26bbd0e.json\", \"format\": {\"type\": \"json\"}}, \"mark\": {\"type\": \"line\"}, \"encoding\": {\"color\": {\"field\": \"key\", \"scale\": {\"scheme\": \"turbo\"}, \"sort\": [\"vertical_advection_numerical_3\", \"vertical_advection_numerical_5\", \"vertical_advection_numerical_10\", \"vertical_advection_numerical_15\", \"vertical_advection_numerical_20\"], \"type\": \"nominal\"}, \"x\": {\"axis\": {\"labelAlign\": \"center\", \"tickCount\": 4}, \"field\": \"time\", \"timeUnit\": \"hours\", \"type\": \"temporal\"}, \"y\": {\"aggregate\": \"median\", \"axis\": {\"values\": [-0.0003, -0.0002, -0.0001, 0.0, 0.0001, 0.0002, 0.0003], \"tickCount\": 7}, \"field\": \"value\", \"scale\": {\"domain\": [-0.0002, 0.0002], \"clamp\": false}, \"title\": \"Flux density (g/m^3/s)\", \"type\": \"quantitative\"}}, \"title\": \"\", \"transform\": [{\"fold\": [\"vertical_advection_numerical_3\", \"vertical_advection_numerical_5\", \"vertical_advection_numerical_10\", \"vertical_advection_numerical_15\", \"vertical_advection_numerical_20\"]}]}, {\"data\": {\"url\": \"altair-data-64b65e026c6532072ea0855fb26bbd0e.json\", \"format\": {\"type\": \"json\"}}, \"mark\": {\"type\": \"line\", \"color\": \"black\"}, \"encoding\": {\"strokeDash\": {\"field\": \"key\", \"scale\": {\"range\": [[4, 2], [1.5, 1.5]]}, \"sort\": [\"vertical_turb_flux_divergence_3to20\", \"ds/dt\"], \"type\": \"nominal\"}, \"x\": {\"axis\": {\"labelAlign\": \"center\"}, \"field\": \"time\", \"timeUnit\": \"hours\", \"type\": \"temporal\"}, \"y\": {\"aggregate\": \"median\", \"field\": \"value\", \"scale\": {\"domain\": [-0.0002, 0.0002], \"clamp\": false}, \"title\": \"Flux density (g/m^3/s)\", \"type\": \"quantitative\"}}, \"title\": \"\", \"transform\": [{\"fold\": [\"ds/dt\", \"vertical_turb_flux_divergence_3to20\"]}]}], \"height\": 150, \"width\": 150}, {\"layer\": [{\"data\": {\"url\": \"altair-data-db6a0cc9d9176c0822cb3baaa10a0a55.json\", \"format\": {\"type\": \"json\"}}, \"mark\": {\"type\": \"area\", \"color\": \"grey\", \"opacity\": 0.4}, \"encoding\": {\"x\": {\"field\": \"time\", \"timeUnit\": \"hours\", \"type\": \"temporal\"}, \"y\": {\"aggregate\": \"min\", \"field\": \"value\", \"type\": \"quantitative\"}, \"y2\": {\"aggregate\": \"max\", \"field\": \"value\"}}, \"transform\": [{\"fold\": [\"residual_3m\", \"residual_5m\", \"residual_10m\", \"residual_15m\", \"residual_20m\"]}]}, {\"data\": {\"url\": \"altair-data-da6ae75feb213636f19d65ed1f5faf19.json\", \"format\": {\"type\": \"json\"}}, \"mark\": {\"type\": \"line\"}, \"encoding\": {\"color\": {\"field\": \"key\", \"scale\": {\"scheme\": \"turbo\"}, \"sort\": [\"vertical_advection_numerical_3\", \"vertical_advection_numerical_5\", \"vertical_advection_numerical_10\", \"vertical_advection_numerical_15\", \"vertical_advection_numerical_20\"], \"type\": \"nominal\"}, \"x\": {\"axis\": {\"labelAlign\": \"center\", \"tickCount\": 4}, \"field\": \"time\", \"timeUnit\": \"hours\", \"type\": \"temporal\"}, \"y\": {\"aggregate\": \"median\", \"axis\": {\"values\": [-0.0003, -0.0002, -0.0001, 0.0, 0.0001, 0.0002, 0.0003], \"tickCount\": 7}, \"field\": \"value\", \"scale\": {\"domain\": [-0.0002, 0.0002], \"clamp\": false}, \"title\": \"Flux density (g/m^3/s)\", \"type\": \"quantitative\"}}, \"title\": \"\", \"transform\": [{\"fold\": [\"vertical_advection_numerical_3\", \"vertical_advection_numerical_5\", \"vertical_advection_numerical_10\", \"vertical_advection_numerical_15\", \"vertical_advection_numerical_20\"]}]}, {\"data\": {\"url\": \"altair-data-da6ae75feb213636f19d65ed1f5faf19.json\", \"format\": {\"type\": \"json\"}}, \"mark\": {\"type\": \"line\", \"color\": \"black\"}, \"encoding\": {\"strokeDash\": {\"field\": \"key\", \"scale\": {\"range\": [[4, 2], [1.5, 1.5]]}, \"sort\": [\"vertical_turb_flux_divergence_3to20\", \"ds/dt\"], \"type\": \"nominal\"}, \"x\": {\"axis\": {\"labelAlign\": \"center\"}, \"field\": \"time\", \"timeUnit\": \"hours\", \"type\": \"temporal\"}, \"y\": {\"aggregate\": \"median\", \"field\": \"value\", \"scale\": {\"domain\": [-0.0002, 0.0002], \"clamp\": false}, \"title\": \"Flux density (g/m^3/s)\", \"type\": \"quantitative\"}}, \"title\": \"\", \"transform\": [{\"fold\": [\"ds/dt\", \"vertical_turb_flux_divergence_3to20\"]}]}], \"height\": 150, \"width\": 150}]}], \"resolve\": {\"scale\": {\"color\": \"independent\", \"strokeDash\": \"independent\"}}, \"$schema\": \"https://vega.github.io/schema/vega-lite/v5.20.1.json\"}, {\"mode\": \"vega-lite\"});\n",
       "</script>"
      ],
      "text/plain": [
       "alt.HConcatChart(...)"
      ]
     },
     "execution_count": 264,
     "metadata": {},
     "output_type": "execute_result"
    }
   ],
   "source": [
    "s_profile_charts = (\n",
    "    plot_profiles(src_mixingratio_upvalley_bs).properties(title='') &\\\n",
    "    plot_profiles(src_mixingratio_dovalley_bs).properties(title='')\n",
    ")\n",
    "w_charts = (\n",
    "    w_diurnal_chart(src_w_upvalley_bs.query(\"height > 2\"), title='') &\\\n",
    "    w_diurnal_chart(src_w_dovalley_bs.query(\"height > 2\"), title='')\n",
    ").resolve_scale(y='shared')\n",
    "conservation_charts_numerical = (\n",
    "    get_vert_advection_with_height(src_cons_terms_numerical_upvalley_bs, title='', y_domain=[-0.0002, 0.0002]) &\\\n",
    "    get_vert_advection_with_height(src_cons_terms_numerical_dovalley_bs, title='', y_domain=[-0.0002, 0.0002])\n",
    ")\n",
    "\n",
    "(\n",
    "    (\n",
    "        s_profile_charts | w_charts | conservation_charts_numerical\n",
    "    ).resolve_scale(color='independent', strokeDash='independent')\n",
    ").configure_legend(orient='top', columns=1)"
   ]
  },
  {
   "cell_type": "code",
   "execution_count": 265,
   "metadata": {},
   "outputs": [
    {
     "data": {
      "text/html": [
       "\n",
       "<style>\n",
       "  #altair-viz-b1b7f3b8fcfc421599b7956efca2ae7a.vega-embed {\n",
       "    width: 100%;\n",
       "    display: flex;\n",
       "  }\n",
       "\n",
       "  #altair-viz-b1b7f3b8fcfc421599b7956efca2ae7a.vega-embed details,\n",
       "  #altair-viz-b1b7f3b8fcfc421599b7956efca2ae7a.vega-embed details summary {\n",
       "    position: relative;\n",
       "  }\n",
       "</style>\n",
       "<div id=\"altair-viz-b1b7f3b8fcfc421599b7956efca2ae7a\"></div>\n",
       "<script type=\"text/javascript\">\n",
       "  var VEGA_DEBUG = (typeof VEGA_DEBUG == \"undefined\") ? {} : VEGA_DEBUG;\n",
       "  (function(spec, embedOpt){\n",
       "    let outputDiv = document.currentScript.previousElementSibling;\n",
       "    if (outputDiv.id !== \"altair-viz-b1b7f3b8fcfc421599b7956efca2ae7a\") {\n",
       "      outputDiv = document.getElementById(\"altair-viz-b1b7f3b8fcfc421599b7956efca2ae7a\");\n",
       "    }\n",
       "    const paths = {\n",
       "      \"vega\": \"https://cdn.jsdelivr.net/npm/vega@5?noext\",\n",
       "      \"vega-lib\": \"https://cdn.jsdelivr.net/npm/vega-lib?noext\",\n",
       "      \"vega-lite\": \"https://cdn.jsdelivr.net/npm/vega-lite@5.20.1?noext\",\n",
       "      \"vega-embed\": \"https://cdn.jsdelivr.net/npm/vega-embed@6?noext\",\n",
       "    };\n",
       "\n",
       "    function maybeLoadScript(lib, version) {\n",
       "      var key = `${lib.replace(\"-\", \"\")}_version`;\n",
       "      return (VEGA_DEBUG[key] == version) ?\n",
       "        Promise.resolve(paths[lib]) :\n",
       "        new Promise(function(resolve, reject) {\n",
       "          var s = document.createElement('script');\n",
       "          document.getElementsByTagName(\"head\")[0].appendChild(s);\n",
       "          s.async = true;\n",
       "          s.onload = () => {\n",
       "            VEGA_DEBUG[key] = version;\n",
       "            return resolve(paths[lib]);\n",
       "          };\n",
       "          s.onerror = () => reject(`Error loading script: ${paths[lib]}`);\n",
       "          s.src = paths[lib];\n",
       "        });\n",
       "    }\n",
       "\n",
       "    function showError(err) {\n",
       "      outputDiv.innerHTML = `<div class=\"error\" style=\"color:red;\">${err}</div>`;\n",
       "      throw err;\n",
       "    }\n",
       "\n",
       "    function displayChart(vegaEmbed) {\n",
       "      vegaEmbed(outputDiv, spec, embedOpt)\n",
       "        .catch(err => showError(`Javascript Error: ${err.message}<br>This usually means there's a typo in your chart specification. See the javascript console for the full traceback.`));\n",
       "    }\n",
       "\n",
       "    if(typeof define === \"function\" && define.amd) {\n",
       "      requirejs.config({paths});\n",
       "      require([\"vega-embed\"], displayChart, err => showError(`Error loading script: ${err.message}`));\n",
       "    } else {\n",
       "      maybeLoadScript(\"vega\", \"5\")\n",
       "        .then(() => maybeLoadScript(\"vega-lite\", \"5.20.1\"))\n",
       "        .then(() => maybeLoadScript(\"vega-embed\", \"6\"))\n",
       "        .catch(showError)\n",
       "        .then(() => displayChart(vegaEmbed));\n",
       "    }\n",
       "  })({\"config\": {\"view\": {\"continuousWidth\": 300, \"continuousHeight\": 300}}, \"layer\": [{\"mark\": {\"type\": \"rule\"}, \"encoding\": {\"y\": {\"field\": \"y\", \"type\": \"quantitative\"}}, \"transform\": [{\"calculate\": \"0\", \"as\": \"y\"}]}, {\"mark\": {\"type\": \"line\"}, \"encoding\": {\"color\": {\"field\": \"height\", \"scale\": {\"scheme\": \"turbo\"}, \"type\": \"ordinal\"}, \"x\": {\"axis\": {\"labelAlign\": \"center\", \"values\": [0, 6, 12, 18]}, \"field\": \"time\", \"timeUnit\": \"hours\", \"type\": \"temporal\"}, \"y\": {\"aggregate\": \"median\", \"axis\": {\"values\": [-0.03, -0.02, -0.01, 0.0, 0.01, 0.02, 0.03], \"tickCount\": 7}, \"field\": \"value\", \"scale\": {\"domain\": [-0.03, 0.03], \"clamp\": false}, \"title\": \"Vertical velocity (m/s)\", \"type\": \"quantitative\"}}}], \"data\": {\"url\": \"altair-data-3ac7ba518e5e16dfef9d99bd56c5d8e3.json\", \"format\": {\"type\": \"json\"}}, \"height\": 150, \"title\": \"\", \"width\": 150, \"$schema\": \"https://vega.github.io/schema/vega-lite/v5.20.1.json\"}, {\"mode\": \"vega-lite\"});\n",
       "</script>"
      ],
      "text/plain": [
       "alt.LayerChart(...)"
      ]
     },
     "execution_count": 265,
     "metadata": {},
     "output_type": "execute_result"
    }
   ],
   "source": [
    "w_diurnal_chart(src_w_upvalley_nobs.query(\"height > 2\"), title='') "
   ]
  },
  {
   "cell_type": "code",
   "execution_count": 266,
   "metadata": {},
   "outputs": [
    {
     "data": {
      "text/html": [
       "\n",
       "<style>\n",
       "  #altair-viz-0d8da2c51c8f479880b86a5abbdeb310.vega-embed {\n",
       "    width: 100%;\n",
       "    display: flex;\n",
       "  }\n",
       "\n",
       "  #altair-viz-0d8da2c51c8f479880b86a5abbdeb310.vega-embed details,\n",
       "  #altair-viz-0d8da2c51c8f479880b86a5abbdeb310.vega-embed details summary {\n",
       "    position: relative;\n",
       "  }\n",
       "</style>\n",
       "<div id=\"altair-viz-0d8da2c51c8f479880b86a5abbdeb310\"></div>\n",
       "<script type=\"text/javascript\">\n",
       "  var VEGA_DEBUG = (typeof VEGA_DEBUG == \"undefined\") ? {} : VEGA_DEBUG;\n",
       "  (function(spec, embedOpt){\n",
       "    let outputDiv = document.currentScript.previousElementSibling;\n",
       "    if (outputDiv.id !== \"altair-viz-0d8da2c51c8f479880b86a5abbdeb310\") {\n",
       "      outputDiv = document.getElementById(\"altair-viz-0d8da2c51c8f479880b86a5abbdeb310\");\n",
       "    }\n",
       "    const paths = {\n",
       "      \"vega\": \"https://cdn.jsdelivr.net/npm/vega@5?noext\",\n",
       "      \"vega-lib\": \"https://cdn.jsdelivr.net/npm/vega-lib?noext\",\n",
       "      \"vega-lite\": \"https://cdn.jsdelivr.net/npm/vega-lite@5.20.1?noext\",\n",
       "      \"vega-embed\": \"https://cdn.jsdelivr.net/npm/vega-embed@6?noext\",\n",
       "    };\n",
       "\n",
       "    function maybeLoadScript(lib, version) {\n",
       "      var key = `${lib.replace(\"-\", \"\")}_version`;\n",
       "      return (VEGA_DEBUG[key] == version) ?\n",
       "        Promise.resolve(paths[lib]) :\n",
       "        new Promise(function(resolve, reject) {\n",
       "          var s = document.createElement('script');\n",
       "          document.getElementsByTagName(\"head\")[0].appendChild(s);\n",
       "          s.async = true;\n",
       "          s.onload = () => {\n",
       "            VEGA_DEBUG[key] = version;\n",
       "            return resolve(paths[lib]);\n",
       "          };\n",
       "          s.onerror = () => reject(`Error loading script: ${paths[lib]}`);\n",
       "          s.src = paths[lib];\n",
       "        });\n",
       "    }\n",
       "\n",
       "    function showError(err) {\n",
       "      outputDiv.innerHTML = `<div class=\"error\" style=\"color:red;\">${err}</div>`;\n",
       "      throw err;\n",
       "    }\n",
       "\n",
       "    function displayChart(vegaEmbed) {\n",
       "      vegaEmbed(outputDiv, spec, embedOpt)\n",
       "        .catch(err => showError(`Javascript Error: ${err.message}<br>This usually means there's a typo in your chart specification. See the javascript console for the full traceback.`));\n",
       "    }\n",
       "\n",
       "    if(typeof define === \"function\" && define.amd) {\n",
       "      requirejs.config({paths});\n",
       "      require([\"vega-embed\"], displayChart, err => showError(`Error loading script: ${err.message}`));\n",
       "    } else {\n",
       "      maybeLoadScript(\"vega\", \"5\")\n",
       "        .then(() => maybeLoadScript(\"vega-lite\", \"5.20.1\"))\n",
       "        .then(() => maybeLoadScript(\"vega-embed\", \"6\"))\n",
       "        .catch(showError)\n",
       "        .then(() => displayChart(vegaEmbed));\n",
       "    }\n",
       "  })({\"config\": {\"view\": {\"continuousWidth\": 300, \"continuousHeight\": 300}}, \"vconcat\": [{\"layer\": [{\"data\": {\"url\": \"altair-data-aa30c3bf0b20f84c01aad52f6f9e1361.json\", \"format\": {\"type\": \"json\"}}, \"mark\": {\"type\": \"area\", \"color\": \"grey\", \"opacity\": 0.4}, \"encoding\": {\"x\": {\"field\": \"time\", \"timeUnit\": \"hours\", \"type\": \"temporal\"}, \"y\": {\"aggregate\": \"min\", \"field\": \"value\", \"type\": \"quantitative\"}, \"y2\": {\"aggregate\": \"max\", \"field\": \"value\"}}, \"transform\": [{\"fold\": [\"residual_3m\", \"residual_5m\", \"residual_10m\", \"residual_15m\", \"residual_20m\"]}]}, {\"data\": {\"url\": \"altair-data-64b65e026c6532072ea0855fb26bbd0e.json\", \"format\": {\"type\": \"json\"}}, \"mark\": {\"type\": \"line\"}, \"encoding\": {\"color\": {\"field\": \"key\", \"scale\": {\"scheme\": \"turbo\"}, \"sort\": [\"vertical_advection_numerical_3\", \"vertical_advection_numerical_5\", \"vertical_advection_numerical_10\", \"vertical_advection_numerical_15\", \"vertical_advection_numerical_20\"], \"type\": \"nominal\"}, \"x\": {\"axis\": {\"labelAlign\": \"center\", \"tickCount\": 4}, \"field\": \"time\", \"timeUnit\": \"hours\", \"type\": \"temporal\"}, \"y\": {\"aggregate\": \"median\", \"axis\": {\"values\": [-0.0003, -0.0002, -0.0001, 0.0, 0.0001, 0.0002, 0.0003], \"tickCount\": 7}, \"field\": \"value\", \"scale\": {\"domain\": [-0.0002, 0.0002], \"clamp\": false}, \"title\": \"Flux density (g/m^3/s)\", \"type\": \"quantitative\"}}, \"title\": \"\", \"transform\": [{\"fold\": [\"vertical_advection_numerical_3\", \"vertical_advection_numerical_5\", \"vertical_advection_numerical_10\", \"vertical_advection_numerical_15\", \"vertical_advection_numerical_20\"]}]}, {\"data\": {\"url\": \"altair-data-64b65e026c6532072ea0855fb26bbd0e.json\", \"format\": {\"type\": \"json\"}}, \"mark\": {\"type\": \"line\", \"color\": \"black\"}, \"encoding\": {\"strokeDash\": {\"field\": \"key\", \"scale\": {\"range\": [[4, 2], [1.5, 1.5]]}, \"sort\": [\"vertical_turb_flux_divergence_3to20\", \"ds/dt\"], \"type\": \"nominal\"}, \"x\": {\"axis\": {\"labelAlign\": \"center\"}, \"field\": \"time\", \"timeUnit\": \"hours\", \"type\": \"temporal\"}, \"y\": {\"aggregate\": \"median\", \"field\": \"value\", \"scale\": {\"domain\": [-0.0002, 0.0002], \"clamp\": false}, \"title\": \"Flux density (g/m^3/s)\", \"type\": \"quantitative\"}}, \"title\": \"\", \"transform\": [{\"fold\": [\"ds/dt\", \"vertical_turb_flux_divergence_3to20\"]}]}], \"height\": 150, \"width\": 150}, {\"layer\": [{\"data\": {\"url\": \"altair-data-db6a0cc9d9176c0822cb3baaa10a0a55.json\", \"format\": {\"type\": \"json\"}}, \"mark\": {\"type\": \"area\", \"color\": \"grey\", \"opacity\": 0.4}, \"encoding\": {\"x\": {\"field\": \"time\", \"timeUnit\": \"hours\", \"type\": \"temporal\"}, \"y\": {\"aggregate\": \"min\", \"field\": \"value\", \"type\": \"quantitative\"}, \"y2\": {\"aggregate\": \"max\", \"field\": \"value\"}}, \"transform\": [{\"fold\": [\"residual_3m\", \"residual_5m\", \"residual_10m\", \"residual_15m\", \"residual_20m\"]}]}, {\"data\": {\"url\": \"altair-data-da6ae75feb213636f19d65ed1f5faf19.json\", \"format\": {\"type\": \"json\"}}, \"mark\": {\"type\": \"line\"}, \"encoding\": {\"color\": {\"field\": \"key\", \"scale\": {\"scheme\": \"turbo\"}, \"sort\": [\"vertical_advection_numerical_3\", \"vertical_advection_numerical_5\", \"vertical_advection_numerical_10\", \"vertical_advection_numerical_15\", \"vertical_advection_numerical_20\"], \"type\": \"nominal\"}, \"x\": {\"axis\": {\"labelAlign\": \"center\", \"tickCount\": 4}, \"field\": \"time\", \"timeUnit\": \"hours\", \"type\": \"temporal\"}, \"y\": {\"aggregate\": \"median\", \"axis\": {\"values\": [-0.0003, -0.0002, -0.0001, 0.0, 0.0001, 0.0002, 0.0003], \"tickCount\": 7}, \"field\": \"value\", \"scale\": {\"domain\": [-0.0002, 0.0002], \"clamp\": false}, \"title\": \"Flux density (g/m^3/s)\", \"type\": \"quantitative\"}}, \"title\": \"\", \"transform\": [{\"fold\": [\"vertical_advection_numerical_3\", \"vertical_advection_numerical_5\", \"vertical_advection_numerical_10\", \"vertical_advection_numerical_15\", \"vertical_advection_numerical_20\"]}]}, {\"data\": {\"url\": \"altair-data-da6ae75feb213636f19d65ed1f5faf19.json\", \"format\": {\"type\": \"json\"}}, \"mark\": {\"type\": \"line\", \"color\": \"black\"}, \"encoding\": {\"strokeDash\": {\"field\": \"key\", \"scale\": {\"range\": [[4, 2], [1.5, 1.5]]}, \"sort\": [\"vertical_turb_flux_divergence_3to20\", \"ds/dt\"], \"type\": \"nominal\"}, \"x\": {\"axis\": {\"labelAlign\": \"center\"}, \"field\": \"time\", \"timeUnit\": \"hours\", \"type\": \"temporal\"}, \"y\": {\"aggregate\": \"median\", \"field\": \"value\", \"scale\": {\"domain\": [-0.0002, 0.0002], \"clamp\": false}, \"title\": \"Flux density (g/m^3/s)\", \"type\": \"quantitative\"}}, \"title\": \"\", \"transform\": [{\"fold\": [\"ds/dt\", \"vertical_turb_flux_divergence_3to20\"]}]}], \"height\": 150, \"width\": 150}], \"$schema\": \"https://vega.github.io/schema/vega-lite/v5.20.1.json\"}, {\"mode\": \"vega-lite\"});\n",
       "</script>"
      ],
      "text/plain": [
       "alt.VConcatChart(...)"
      ]
     },
     "execution_count": 266,
     "metadata": {},
     "output_type": "execute_result"
    }
   ],
   "source": [
    "conservation_charts_numerical"
   ]
  },
  {
   "cell_type": "code",
   "execution_count": 267,
   "metadata": {},
   "outputs": [
    {
     "name": "stdout",
     "output_type": "stream",
     "text": [
      "0.184\n",
      "0.507\n"
     ]
    }
   ],
   "source": [
    "upvalley_wind_times = tidy_df[tidy_df.variable == 'dir_3m_c'].dropna().query(\"value < 152\").query(\"value > 92\").drop_duplicates().time\n",
    "downvalley_wind_times = tidy_df[tidy_df.variable == 'dir_3m_c'].dropna().query(\"value < 342\").query(\"value > 292\").drop_duplicates().time\n",
    "all_wind_times = tidy_df[tidy_df.variable == 'dir_3m_c'].drop_duplicates().time\n",
    "print(round(len(upvalley_wind_times)/len(all_wind_times),3))\n",
    "print(round(len(downvalley_wind_times)/len(all_wind_times),3))"
   ]
  },
  {
   "cell_type": "code",
   "execution_count": 268,
   "metadata": {},
   "outputs": [
    {
     "name": "stderr",
     "output_type": "stream",
     "text": [
      "/var/folders/x_/2h52bcjx2px15bhmdpdd748h0000gn/T/ipykernel_60108/3978936221.py:2: UserWarning: Boolean Series key will be reindexed to match DataFrame index.\n",
      "  src = tidy_df[tidy_df.time.isin(downvalley_wind_times)][\n"
     ]
    },
    {
     "data": {
      "text/plain": [
       "Text(0.5, 1.0, '20m wind rose')"
      ]
     },
     "execution_count": 268,
     "metadata": {},
     "output_type": "execute_result"
    },
    {
     "data": {
      "image/png": "[encoded data removed]",
      "text/plain": [
       "<Figure size 160x160 with 1 Axes>"
      ]
     },
     "metadata": {},
     "output_type": "display_data"
    }
   ],
   "source": [
    "from windrose import WindroseAxes\n",
    "src = tidy_df[tidy_df.time.isin(downvalley_wind_times)][\n",
    "    tidy_df.variable.isin(['spd_20m_c', 'dir_20m_c'])\n",
    "].pivot_table(values = 'value', index='time', columns=['measurement']).reset_index()\n",
    "ax = WindroseAxes.from_ax(figsize=(2,2))\n",
    "ax.bar(src['wind direction'], src['wind speed'], normed=True, opening=.9, edgecolor='white', bins=1, nsector=17)\n",
    "ax.set_yticks([])\n",
    "# ax.set_yticklabels(['10%','25%'])\n",
    "plt.title(\"20m wind rose\")"
   ]
  },
  {
   "cell_type": "code",
   "execution_count": 269,
   "metadata": {},
   "outputs": [
    {
     "name": "stderr",
     "output_type": "stream",
     "text": [
      "/var/folders/x_/2h52bcjx2px15bhmdpdd748h0000gn/T/ipykernel_60108/1302002679.py:2: UserWarning: Boolean Series key will be reindexed to match DataFrame index.\n",
      "  src = tidy_df[tidy_df.time.isin(upvalley_wind_times)][\n"
     ]
    },
    {
     "data": {
      "text/plain": [
       "Text(0.5, 1.0, '20m wind rose')"
      ]
     },
     "execution_count": 269,
     "metadata": {},
     "output_type": "execute_result"
    },
    {
     "data": {
      "image/png": "[encoded data removed]",
      "text/plain": [
       "<Figure size 160x160 with 1 Axes>"
      ]
     },
     "metadata": {},
     "output_type": "display_data"
    }
   ],
   "source": [
    "from windrose import WindroseAxes\n",
    "src = tidy_df[tidy_df.time.isin(upvalley_wind_times)][\n",
    "    tidy_df.variable.isin(['spd_20m_c', 'dir_20m_c'])\n",
    "].pivot_table(values = 'value', index='time', columns=['measurement']).reset_index()\n",
    "ax = WindroseAxes.from_ax(figsize=(2,2))\n",
    "ax.bar(src['wind direction'], src['wind speed'], normed=True, opening=.9, edgecolor='white', bins=1, nsector=17)\n",
    "ax.set_yticks([])\n",
    "# ax.set_yticklabels(['10%','25%'])\n",
    "plt.title(\"20m wind rose\")"
   ]
  },
  {
   "cell_type": "markdown",
   "metadata": {},
   "source": [
    "### December Blowing Snow Case Study"
   ]
  },
  {
   "cell_type": "code",
   "execution_count": 270,
   "metadata": {},
   "outputs": [
    {
     "data": {
      "text/html": [
       "\n",
       "<style>\n",
       "  #altair-viz-b41a75852b2d4d31aa6d5e8f9eb89cdc.vega-embed {\n",
       "    width: 100%;\n",
       "    display: flex;\n",
       "  }\n",
       "\n",
       "  #altair-viz-b41a75852b2d4d31aa6d5e8f9eb89cdc.vega-embed details,\n",
       "  #altair-viz-b41a75852b2d4d31aa6d5e8f9eb89cdc.vega-embed details summary {\n",
       "    position: relative;\n",
       "  }\n",
       "</style>\n",
       "<div id=\"altair-viz-b41a75852b2d4d31aa6d5e8f9eb89cdc\"></div>\n",
       "<script type=\"text/javascript\">\n",
       "  var VEGA_DEBUG = (typeof VEGA_DEBUG == \"undefined\") ? {} : VEGA_DEBUG;\n",
       "  (function(spec, embedOpt){\n",
       "    let outputDiv = document.currentScript.previousElementSibling;\n",
       "    if (outputDiv.id !== \"altair-viz-b41a75852b2d4d31aa6d5e8f9eb89cdc\") {\n",
       "      outputDiv = document.getElementById(\"altair-viz-b41a75852b2d4d31aa6d5e8f9eb89cdc\");\n",
       "    }\n",
       "    const paths = {\n",
       "      \"vega\": \"https://cdn.jsdelivr.net/npm/vega@5?noext\",\n",
       "      \"vega-lib\": \"https://cdn.jsdelivr.net/npm/vega-lib?noext\",\n",
       "      \"vega-lite\": \"https://cdn.jsdelivr.net/npm/vega-lite@5.20.1?noext\",\n",
       "      \"vega-embed\": \"https://cdn.jsdelivr.net/npm/vega-embed@6?noext\",\n",
       "    };\n",
       "\n",
       "    function maybeLoadScript(lib, version) {\n",
       "      var key = `${lib.replace(\"-\", \"\")}_version`;\n",
       "      return (VEGA_DEBUG[key] == version) ?\n",
       "        Promise.resolve(paths[lib]) :\n",
       "        new Promise(function(resolve, reject) {\n",
       "          var s = document.createElement('script');\n",
       "          document.getElementsByTagName(\"head\")[0].appendChild(s);\n",
       "          s.async = true;\n",
       "          s.onload = () => {\n",
       "            VEGA_DEBUG[key] = version;\n",
       "            return resolve(paths[lib]);\n",
       "          };\n",
       "          s.onerror = () => reject(`Error loading script: ${paths[lib]}`);\n",
       "          s.src = paths[lib];\n",
       "        });\n",
       "    }\n",
       "\n",
       "    function showError(err) {\n",
       "      outputDiv.innerHTML = `<div class=\"error\" style=\"color:red;\">${err}</div>`;\n",
       "      throw err;\n",
       "    }\n",
       "\n",
       "    function displayChart(vegaEmbed) {\n",
       "      vegaEmbed(outputDiv, spec, embedOpt)\n",
       "        .catch(err => showError(`Javascript Error: ${err.message}<br>This usually means there's a typo in your chart specification. See the javascript console for the full traceback.`));\n",
       "    }\n",
       "\n",
       "    if(typeof define === \"function\" && define.amd) {\n",
       "      requirejs.config({paths});\n",
       "      require([\"vega-embed\"], displayChart, err => showError(`Error loading script: ${err.message}`));\n",
       "    } else {\n",
       "      maybeLoadScript(\"vega\", \"5\")\n",
       "        .then(() => maybeLoadScript(\"vega-lite\", \"5.20.1\"))\n",
       "        .then(() => maybeLoadScript(\"vega-embed\", \"6\"))\n",
       "        .catch(showError)\n",
       "        .then(() => displayChart(vegaEmbed));\n",
       "    }\n",
       "  })({\"config\": {\"view\": {\"continuousWidth\": 300, \"continuousHeight\": 300}}, \"hconcat\": [{\"data\": {\"url\": \"altair-data-c2639c88f3c022a882123e629a9c3022.json\", \"format\": {\"type\": \"json\"}}, \"mark\": {\"type\": \"line\", \"color\": \"black\"}, \"encoding\": {\"strokeDash\": {\"field\": \"height\", \"legend\": null, \"type\": \"nominal\"}, \"x\": {\"axis\": {\"format\": \"%m/%d\"}, \"field\": \"time\", \"title\": null, \"type\": \"temporal\"}, \"y\": {\"field\": \"value\", \"title\": [\"Blowing snow flux\", \"(g/m^2/s)\"], \"type\": \"quantitative\"}}, \"height\": 150, \"width\": 150}, {\"data\": {\"url\": \"altair-data-d2c01f05fd06d88ba6d77bc39ba827e3.json\", \"format\": {\"type\": \"json\"}}, \"mark\": {\"type\": \"line\"}, \"encoding\": {\"color\": {\"field\": \"key\", \"scale\": {\"scheme\": \"turbo\", \"domain\": [\"w_h2o__3m_c_raw\", \"w_h2o__5m_c_raw\", \"w_h2o__10m_c_raw\", \"w_h2o__15m_c_raw\", \"w_h2o__20m_c_raw\"]}, \"type\": \"ordinal\"}, \"x\": {\"axis\": {}, \"field\": \"time\", \"title\": null, \"type\": \"temporal\"}, \"y\": {\"field\": \"value\", \"title\": [\"w'q' (g/m^2/s)\"], \"type\": \"quantitative\"}}, \"height\": 150, \"transform\": [{\"fold\": [\"w_h2o__3m_c_raw\", \"w_h2o__5m_c_raw\", \"w_h2o__10m_c_raw\", \"w_h2o__15m_c_raw\", \"w_h2o__20m_c_raw\"]}], \"width\": 150}, {\"layer\": [{\"data\": {\"url\": \"altair-data-e9d70e52233d8a1f90fff777f7d67958.json\", \"format\": {\"type\": \"json\"}}, \"mark\": {\"type\": \"area\", \"color\": \"grey\", \"opacity\": 0.4}, \"encoding\": {\"x\": {\"axis\": {\"format\": \"%m/%d\"}, \"field\": \"time\", \"title\": null, \"type\": \"temporal\"}, \"y\": {\"aggregate\": \"min\", \"field\": \"value\", \"title\": [\"Water vapor flux density\", \"(g/m^3/s)\"], \"type\": \"quantitative\"}, \"y2\": {\"aggregate\": \"max\", \"field\": \"value\", \"title\": [\"Water vapor flux density\", \"(g/m^3/s)\"]}}, \"transform\": [{\"fold\": [\"residual_3\", \"residual_5\", \"residual_10\", \"residual_15\", \"residual_20\"]}]}, {\"data\": {\"url\": \"altair-data-c04b0a44f0b10296f93e3d1bd3868f4d.json\", \"format\": {\"type\": \"json\"}}, \"mark\": {\"type\": \"line\"}, \"encoding\": {\"color\": {\"field\": \"key\", \"scale\": {\"scheme\": \"turbo\"}, \"sort\": [\"vertical_advection_numerical_3\", \"vertical_advection_numerical_5\", \"vertical_advection_numerical_10\", \"vertical_advection_numerical_15\", \"vertical_advection_numerical_20\"], \"type\": \"nominal\"}, \"x\": {\"axis\": {\"format\": \"%m/%d\"}, \"field\": \"time\", \"title\": null, \"type\": \"temporal\"}, \"y\": {\"field\": \"value\", \"title\": [\"Water vapor flux density\", \"(g/m^3/s)\"], \"type\": \"quantitative\"}}, \"transform\": [{\"fold\": [\"vertical_advection_numerical_3\", \"vertical_advection_numerical_5\", \"vertical_advection_numerical_10\", \"vertical_advection_numerical_15\", \"vertical_advection_numerical_20\"]}]}, {\"data\": {\"url\": \"altair-data-5f3a5be87862d7d4e8c0d9cde951b8a2.json\", \"format\": {\"type\": \"json\"}}, \"mark\": {\"type\": \"line\", \"color\": \"black\"}, \"encoding\": {\"strokeDash\": {\"field\": \"key\", \"scale\": {\"domain\": [\"vertical_turb_flux_divergence_3to10\", \"ds/dt\"], \"range\": [[4, 2], [1.5, 1.5]]}, \"type\": \"nominal\"}, \"x\": {\"axis\": {\"format\": \"%m/%d\"}, \"field\": \"time\", \"title\": null, \"type\": \"temporal\"}, \"y\": {\"field\": \"value\", \"scale\": {}, \"title\": [\"Water vapor flux density\", \"(g/m^3/s)\"], \"type\": \"quantitative\"}}, \"transform\": [{\"fold\": [\"vertical_turb_flux_divergence_3to10\", \"ds/dt\"]}]}], \"height\": 150, \"resolve\": {\"scale\": {}}, \"width\": 150}], \"resolve\": {\"scale\": {\"color\": \"independent\", \"strokeDash\": \"independent\", \"x\": \"shared\"}}, \"$schema\": \"https://vega.github.io/schema/vega-lite/v5.20.1.json\"}, {\"renderer\": \"svg\", \"mode\": \"vega-lite\"});\n",
       "</script>"
      ],
      "text/plain": [
       "alt.HConcatChart(...)"
      ]
     },
     "metadata": {},
     "output_type": "display_data"
    }
   ],
   "source": [
    "src = advection_1d_fluxdensity_nonnorm_df.loc['20221221 1200': '20221223 0000'][[\n",
    "        'w_h2o__3m_c',\n",
    "        'w_h2o__20m_c',\n",
    "        'vertical_turb_flux_divergence_3to10',\n",
    "        'vertical_turb_flux_divergence_2to10',\n",
    "        'vertical_turb_flux_divergence_2to20',\n",
    "        'ds/dt',\n",
    "        'vertical_advection_numerical_2',\n",
    "        'vertical_advection_numerical_3',\n",
    "        'vertical_advection_numerical_5',\n",
    "        'vertical_advection_numerical_10',\n",
    "        'vertical_advection_numerical_15',\n",
    "        'vertical_advection_numerical_20',\n",
    "    ]].reset_index()\n",
    "\n",
    "vertical_advection_vars = [\n",
    "    'vertical_advection_numerical_3', 'vertical_advection_numerical_5',\n",
    "    'vertical_advection_numerical_10', 'vertical_advection_numerical_15', 'vertical_advection_numerical_20',\n",
    "]\n",
    "residual_vars = [\n",
    "    'residual_3', 'residual_5', 'residual_10', 'residual_15', 'residual_20'\n",
    "]\n",
    "w_q_variables = [\n",
    "    'w_h2o__3m_c_raw',  'w_h2o__5m_c_raw', 'w_h2o__10m_c_raw', 'w_h2o__15m_c_raw','w_h2o__20m_c_raw'\n",
    "]\n",
    "\n",
    "vertical_advection_df = src.dropna()[\n",
    "        ['time'] + vertical_advection_vars\n",
    "    ].set_index('time').rolling(\n",
    "        window=5, center=True, min_periods=0\n",
    "    ).mean().reset_index()\n",
    "\n",
    "\n",
    "lines_chart_1 = alt.Chart(\n",
    "    vertical_advection_df\n",
    ").transform_fold(\n",
    "    vertical_advection_vars\n",
    ").mark_line().encode(\n",
    "    alt.X('time:T'). axis(format='%m/%d').title(None),\n",
    "    alt.Y('value:Q').title(['Water vapor flux density', '(g/m^3/s)']),\n",
    "    alt.Color('key:N').scale(scheme='turbo').sort(vertical_advection_vars)\n",
    ").properties(width=150, height=150)\n",
    "\n",
    "other_terms_df = src.dropna()[\n",
    "        ['time'] + ['vertical_turb_flux_divergence_3to10', 'ds/dt']\n",
    "    ].set_index('time').rolling(\n",
    "        window=5, center=True, min_periods=0\n",
    "    ).mean().reset_index()\n",
    "\n",
    "lines_chart_2 = alt.Chart(\n",
    "    other_terms_df\n",
    ").transform_fold(\n",
    "    ['vertical_turb_flux_divergence_3to10', 'ds/dt']\n",
    ").mark_line(color='black').encode(\n",
    "    alt.X('time:T'). axis(format='%m/%d').title(None),\n",
    "    alt.Y('value:Q').title(['Water vapor flux density', '(g/m^3/s)']).scale(\n",
    "        # domain = [-0.002, 0.004], clamp=True\n",
    "    ),\n",
    "    alt.StrokeDash('key:N').scale(\n",
    "        domain = ['vertical_turb_flux_divergence_3to10', 'ds/dt'],\n",
    "        range=[(4,2), (1.5,1.5)]\n",
    "    ),\n",
    ").properties(width=150, height=150)\n",
    "\n",
    "\n",
    "\n",
    "bs_chart = alt.Chart(\n",
    "    tidy_df[tidy_df.measurement == 'snow flux'].set_index('time').loc['20221221 1200': '20221223 0000'].reset_index()\n",
    ").mark_line(color='black').encode(\n",
    "    alt.X('time:T'). axis(format='%m/%d').title(None),\n",
    "    alt.Y('value:Q').title(['Blowing snow flux', '(g/m^2/s)']),\n",
    "    alt.StrokeDash('height:N', legend=None)\n",
    ").properties(width=150, height=150)\n",
    "\n",
    "\n",
    "w_q_chart = alt.Chart(\n",
    "    tidy_df[tidy_df.variable.isin(w_q_variables)\n",
    "    ].set_index('time').loc['20221221 1200': '20221223 0000'].reset_index().pivot_table(\n",
    "        index='time',\n",
    "        columns='variable',\n",
    "        values='value'\n",
    "    ).rolling(\n",
    "        window=5, center=True, min_periods=0\n",
    "    ).mean().reset_index()\n",
    ").transform_fold(\n",
    "    w_q_variables\n",
    ").mark_line().encode(\n",
    "    alt.X('time:T'). axis().title(None),\n",
    "    alt.Y('value:Q').title([\"w'q' (g/m^2/s)\"]),\n",
    "    alt.Color('key:O').scale(scheme='turbo', domain=w_q_variables)\n",
    ").properties(width=150, height=150)\n",
    "\n",
    "residuals_df = other_terms_df.merge(\n",
    "    vertical_advection_df, on='time'\n",
    ")\n",
    "\n",
    "residuals_df['residual_3'] = residuals_df['vertical_turb_flux_divergence_3to10'] + residuals_df['ds/dt'] + residuals_df['vertical_advection_numerical_3']\n",
    "residuals_df['residual_5'] = residuals_df['vertical_turb_flux_divergence_3to10'] + residuals_df['ds/dt'] + residuals_df['vertical_advection_numerical_5']\n",
    "residuals_df['residual_10'] = residuals_df['vertical_turb_flux_divergence_3to10'] + residuals_df['ds/dt'] + residuals_df['vertical_advection_numerical_10']\n",
    "residuals_df['residual_15'] = residuals_df['vertical_turb_flux_divergence_3to10'] + residuals_df['ds/dt'] + residuals_df['vertical_advection_numerical_15']\n",
    "residuals_df['residual_20'] = residuals_df['vertical_turb_flux_divergence_3to10'] + residuals_df['ds/dt'] + residuals_df['vertical_advection_numerical_20']\n",
    "\n",
    "residuals_chart = alt.Chart(\n",
    "    residuals_df\n",
    ").transform_fold(\n",
    "    residual_vars\n",
    ").mark_area(color='grey', opacity=0.4).encode(\n",
    "    alt.X('time:T'). axis(format='%m/%d').title(None),\n",
    "    alt.Y('min(value):Q').title(['Water vapor flux density', '(g/m^3/s)']),\n",
    "    alt.Y2('max(value):Q').title(['Water vapor flux density', '(g/m^3/s)']),\n",
    ").properties(width=150, height=150)\n",
    "\n",
    "\n",
    "(\n",
    "    bs_chart.properties(width=150, height = 150)\n",
    "    |\n",
    "    w_q_chart.properties(width=150, height = 150)\n",
    "    |\n",
    "    (residuals_chart + lines_chart_1 + lines_chart_2\n",
    "    ).resolve_scale()\n",
    ").resolve_scale(\n",
    "    x='shared', color='independent', strokeDash='independent'\n",
    ").display(renderer='svg')"
   ]
  },
  {
   "cell_type": "markdown",
   "metadata": {},
   "source": [
    "### May 5th Case Study, horizontal advection"
   ]
  },
  {
   "cell_type": "code",
   "execution_count": 271,
   "metadata": {},
   "outputs": [
    {
     "data": {
      "text/html": [
       "\n",
       "<style>\n",
       "  #altair-viz-addffd55cba64982901df639e5083ae6.vega-embed {\n",
       "    width: 100%;\n",
       "    display: flex;\n",
       "  }\n",
       "\n",
       "  #altair-viz-addffd55cba64982901df639e5083ae6.vega-embed details,\n",
       "  #altair-viz-addffd55cba64982901df639e5083ae6.vega-embed details summary {\n",
       "    position: relative;\n",
       "  }\n",
       "</style>\n",
       "<div id=\"altair-viz-addffd55cba64982901df639e5083ae6\"></div>\n",
       "<script type=\"text/javascript\">\n",
       "  var VEGA_DEBUG = (typeof VEGA_DEBUG == \"undefined\") ? {} : VEGA_DEBUG;\n",
       "  (function(spec, embedOpt){\n",
       "    let outputDiv = document.currentScript.previousElementSibling;\n",
       "    if (outputDiv.id !== \"altair-viz-addffd55cba64982901df639e5083ae6\") {\n",
       "      outputDiv = document.getElementById(\"altair-viz-addffd55cba64982901df639e5083ae6\");\n",
       "    }\n",
       "    const paths = {\n",
       "      \"vega\": \"https://cdn.jsdelivr.net/npm/vega@5?noext\",\n",
       "      \"vega-lib\": \"https://cdn.jsdelivr.net/npm/vega-lib?noext\",\n",
       "      \"vega-lite\": \"https://cdn.jsdelivr.net/npm/vega-lite@5.20.1?noext\",\n",
       "      \"vega-embed\": \"https://cdn.jsdelivr.net/npm/vega-embed@6?noext\",\n",
       "    };\n",
       "\n",
       "    function maybeLoadScript(lib, version) {\n",
       "      var key = `${lib.replace(\"-\", \"\")}_version`;\n",
       "      return (VEGA_DEBUG[key] == version) ?\n",
       "        Promise.resolve(paths[lib]) :\n",
       "        new Promise(function(resolve, reject) {\n",
       "          var s = document.createElement('script');\n",
       "          document.getElementsByTagName(\"head\")[0].appendChild(s);\n",
       "          s.async = true;\n",
       "          s.onload = () => {\n",
       "            VEGA_DEBUG[key] = version;\n",
       "            return resolve(paths[lib]);\n",
       "          };\n",
       "          s.onerror = () => reject(`Error loading script: ${paths[lib]}`);\n",
       "          s.src = paths[lib];\n",
       "        });\n",
       "    }\n",
       "\n",
       "    function showError(err) {\n",
       "      outputDiv.innerHTML = `<div class=\"error\" style=\"color:red;\">${err}</div>`;\n",
       "      throw err;\n",
       "    }\n",
       "\n",
       "    function displayChart(vegaEmbed) {\n",
       "      vegaEmbed(outputDiv, spec, embedOpt)\n",
       "        .catch(err => showError(`Javascript Error: ${err.message}<br>This usually means there's a typo in your chart specification. See the javascript console for the full traceback.`));\n",
       "    }\n",
       "\n",
       "    if(typeof define === \"function\" && define.amd) {\n",
       "      requirejs.config({paths});\n",
       "      require([\"vega-embed\"], displayChart, err => showError(`Error loading script: ${err.message}`));\n",
       "    } else {\n",
       "      maybeLoadScript(\"vega\", \"5\")\n",
       "        .then(() => maybeLoadScript(\"vega-lite\", \"5.20.1\"))\n",
       "        .then(() => maybeLoadScript(\"vega-embed\", \"6\"))\n",
       "        .catch(showError)\n",
       "        .then(() => displayChart(vegaEmbed));\n",
       "    }\n",
       "  })({\"config\": {\"view\": {\"continuousWidth\": 300, \"continuousHeight\": 300}}, \"hconcat\": [{\"data\": {\"url\": \"altair-data-ea474bdc14f5eaa731e2f8e69a6a0b9b.json\", \"format\": {\"type\": \"json\"}}, \"mark\": {\"type\": \"line\"}, \"encoding\": {\"color\": {\"field\": \"key\", \"scale\": {\"scheme\": \"turbo\", \"domain\": [\"w_h2o__3m_c_raw\", \"w_h2o__5m_c_raw\", \"w_h2o__10m_c_raw\", \"w_h2o__15m_c_raw\", \"w_h2o__20m_c_raw\"]}, \"type\": \"ordinal\"}, \"x\": {\"axis\": {}, \"field\": \"time\", \"title\": null, \"type\": \"temporal\"}, \"y\": {\"field\": \"value\", \"title\": [\"w'q' (g/m^2/s)\"], \"type\": \"quantitative\"}}, \"height\": 150, \"transform\": [{\"fold\": [\"w_h2o__3m_c_raw\", \"w_h2o__5m_c_raw\", \"w_h2o__10m_c_raw\", \"w_h2o__15m_c_raw\", \"w_h2o__20m_c_raw\"]}], \"width\": 150}, {\"layer\": [{\"data\": {\"url\": \"altair-data-237ee4ba4969c93b4a9dafbf23e84767.json\", \"format\": {\"type\": \"json\"}}, \"mark\": {\"type\": \"area\", \"color\": \"grey\", \"opacity\": 0.4}, \"encoding\": {\"x\": {\"axis\": {\"format\": \"%m/%d\"}, \"field\": \"time\", \"title\": null, \"type\": \"temporal\"}, \"y\": {\"aggregate\": \"min\", \"field\": \"value\", \"title\": [\"Water vapor flux density\", \"(g/m^3/s)\"], \"type\": \"quantitative\"}, \"y2\": {\"aggregate\": \"max\", \"field\": \"value\", \"title\": [\"Water vapor flux density\", \"(g/m^3/s)\"]}}, \"transform\": [{\"fold\": [\"residual_3\", \"residual_5\", \"residual_10\", \"residual_15\", \"residual_20\"]}]}, {\"data\": {\"url\": \"altair-data-fe1e4ed0d1f10307b79649c568c296a4.json\", \"format\": {\"type\": \"json\"}}, \"mark\": {\"type\": \"line\"}, \"encoding\": {\"color\": {\"field\": \"key\", \"scale\": {\"scheme\": \"turbo\"}, \"sort\": [\"vertical_advection_numerical_3\", \"vertical_advection_numerical_5\", \"vertical_advection_numerical_10\", \"vertical_advection_numerical_15\", \"vertical_advection_numerical_20\"], \"type\": \"nominal\"}, \"x\": {\"axis\": {\"format\": \"%m/%d\"}, \"field\": \"time\", \"title\": null, \"type\": \"temporal\"}, \"y\": {\"field\": \"value\", \"title\": [\"Water vapor flux density\", \"(g/m^3/s)\"], \"type\": \"quantitative\"}}, \"transform\": [{\"fold\": [\"vertical_advection_numerical_3\", \"vertical_advection_numerical_5\", \"vertical_advection_numerical_10\", \"vertical_advection_numerical_15\", \"vertical_advection_numerical_20\"]}]}, {\"data\": {\"url\": \"altair-data-bd98bac055b49ad79250064f2dd800ce.json\", \"format\": {\"type\": \"json\"}}, \"mark\": {\"type\": \"line\", \"color\": \"black\"}, \"encoding\": {\"strokeDash\": {\"field\": \"key\", \"scale\": {\"domain\": [\"vertical_turb_flux_divergence_3to20\", \"ds/dt\"], \"range\": [[4, 2], [1.5, 1.5]]}, \"type\": \"nominal\"}, \"x\": {\"axis\": {\"format\": \"%m/%d\"}, \"field\": \"time\", \"title\": null, \"type\": \"temporal\"}, \"y\": {\"field\": \"value\", \"scale\": {}, \"title\": [\"Water vapor flux density\", \"(g/m^3/s)\"], \"type\": \"quantitative\"}}, \"transform\": [{\"fold\": [\"vertical_turb_flux_divergence_3to20\", \"ds/dt\"]}]}], \"height\": 150, \"resolve\": {\"scale\": {}}, \"width\": 150}], \"resolve\": {\"scale\": {\"color\": \"independent\", \"strokeDash\": \"independent\", \"x\": \"shared\"}}, \"$schema\": \"https://vega.github.io/schema/vega-lite/v5.20.1.json\"}, {\"renderer\": \"svg\", \"mode\": \"vega-lite\"});\n",
       "</script>"
      ],
      "text/plain": [
       "alt.HConcatChart(...)"
      ]
     },
     "metadata": {},
     "output_type": "display_data"
    }
   ],
   "source": [
    "src = advection_1d_fluxdensity_nonnorm_df.loc['20230505'][[\n",
    "        'w_h2o__3m_c',\n",
    "        'w_h2o__20m_c',\n",
    "        'vertical_turb_flux_divergence_3to10',\n",
    "        'vertical_turb_flux_divergence_3to20',\n",
    "        'vertical_turb_flux_divergence_2to10',\n",
    "        'vertical_turb_flux_divergence_2to20',\n",
    "        'ds/dt',\n",
    "        # 'vertical_advection_numerical_2',\n",
    "        'vertical_advection_numerical_3',\n",
    "        'vertical_advection_numerical_5',\n",
    "        'vertical_advection_numerical_10',\n",
    "        'vertical_advection_numerical_15',\n",
    "        'vertical_advection_numerical_20',\n",
    "    ]].reset_index()\n",
    "\n",
    "vertical_advection_vars = [\n",
    "    'vertical_advection_numerical_3', 'vertical_advection_numerical_5',\n",
    "    'vertical_advection_numerical_10', 'vertical_advection_numerical_15', 'vertical_advection_numerical_20',\n",
    "]\n",
    "residual_vars = [\n",
    "    'residual_3', 'residual_5', 'residual_10', 'residual_15', 'residual_20'\n",
    "]\n",
    "w_q_variables = [\n",
    "    'w_h2o__3m_c_raw',  'w_h2o__5m_c_raw', 'w_h2o__10m_c_raw', 'w_h2o__15m_c_raw','w_h2o__20m_c_raw'\n",
    "]\n",
    "\n",
    "vertical_advection_df = src.dropna()[\n",
    "        ['time'] + vertical_advection_vars\n",
    "    ].set_index('time').rolling(\n",
    "        window=5, center=True, min_periods=0\n",
    "    ).mean().reset_index()\n",
    "\n",
    "\n",
    "lines_chart_1 = alt.Chart(\n",
    "    vertical_advection_df\n",
    ").transform_fold(\n",
    "    vertical_advection_vars\n",
    ").mark_line().encode(\n",
    "    alt.X('time:T'). axis(format='%m/%d').title(None),\n",
    "    alt.Y('value:Q').title(['Water vapor flux density', '(g/m^3/s)']),\n",
    "    alt.Color('key:N').scale(scheme='turbo').sort(vertical_advection_vars)\n",
    ").properties(width=150, height=150)\n",
    "\n",
    "other_terms_df = src.dropna()[\n",
    "        ['time'] + ['vertical_turb_flux_divergence_3to20', 'ds/dt']\n",
    "    ].set_index('time').rolling(\n",
    "        window=5, center=True, min_periods=0\n",
    "    ).mean().reset_index()\n",
    "\n",
    "lines_chart_2 = alt.Chart(\n",
    "    other_terms_df\n",
    ").transform_fold(\n",
    "    ['vertical_turb_flux_divergence_3to20', 'ds/dt']\n",
    ").mark_line(color='black').encode(\n",
    "    alt.X('time:T'). axis(format='%m/%d').title(None),\n",
    "    alt.Y('value:Q').title(['Water vapor flux density', '(g/m^3/s)']).scale(\n",
    "        # domain = [-0.002, 0.004], clamp=True\n",
    "    ),\n",
    "    alt.StrokeDash('key:N').scale(\n",
    "        domain = ['vertical_turb_flux_divergence_3to20', 'ds/dt'],\n",
    "        range=[(4,2), (1.5,1.5)]\n",
    "    ),\n",
    ").properties(width=150, height=150)\n",
    "\n",
    "w_q_chart = alt.Chart(\n",
    "    tidy_df[tidy_df.variable.isin(w_q_variables)\n",
    "    ].set_index('time').loc['20230505'].reset_index().pivot_table(\n",
    "        index='time',\n",
    "        columns='variable',\n",
    "        values='value'\n",
    "    ).rolling(\n",
    "        window=5, center=True, min_periods=0\n",
    "    ).mean().reset_index()\n",
    ").transform_fold(\n",
    "    w_q_variables\n",
    ").mark_line().encode(\n",
    "    alt.X('time:T'). axis().title(None),\n",
    "    alt.Y('value:Q').title([\"w'q' (g/m^2/s)\"]),\n",
    "    alt.Color('key:O').scale(scheme='turbo', domain=w_q_variables)\n",
    ").properties(width=150, height=150)\n",
    "\n",
    "residuals_df = other_terms_df.merge(\n",
    "    vertical_advection_df, on='time'\n",
    ")\n",
    "\n",
    "residuals_df['residual_3'] = residuals_df['vertical_turb_flux_divergence_3to20'] + residuals_df['ds/dt'] + residuals_df['vertical_advection_numerical_3']\n",
    "residuals_df['residual_5'] = residuals_df['vertical_turb_flux_divergence_3to20'] + residuals_df['ds/dt'] + residuals_df['vertical_advection_numerical_5']\n",
    "residuals_df['residual_10'] = residuals_df['vertical_turb_flux_divergence_3to20'] + residuals_df['ds/dt'] + residuals_df['vertical_advection_numerical_10']\n",
    "residuals_df['residual_15'] = residuals_df['vertical_turb_flux_divergence_3to20'] + residuals_df['ds/dt'] + residuals_df['vertical_advection_numerical_15']\n",
    "residuals_df['residual_20'] = residuals_df['vertical_turb_flux_divergence_3to20'] + residuals_df['ds/dt'] + residuals_df['vertical_advection_numerical_20']\n",
    "\n",
    "residuals_chart = alt.Chart(\n",
    "    residuals_df\n",
    ").transform_fold(\n",
    "    residual_vars\n",
    ").mark_area(color='grey', opacity=0.4).encode(\n",
    "    alt.X('time:T'). axis(format='%m/%d').title(None),\n",
    "    alt.Y('min(value):Q').title(['Water vapor flux density', '(g/m^3/s)']),\n",
    "    alt.Y2('max(value):Q').title(['Water vapor flux density', '(g/m^3/s)']),\n",
    ").properties(width=150, height=150)\n",
    "\n",
    "(\n",
    "    w_q_chart.properties(width=150, height = 150)\n",
    "    |\n",
    "    (\n",
    "        residuals_chart + lines_chart_1 + lines_chart_2).resolve_scale()\n",
    ").resolve_scale(\n",
    "    x='shared', color='independent', strokeDash='independent'\n",
    ").display(renderer='svg')"
   ]
  },
  {
   "cell_type": "markdown",
   "metadata": {},
   "source": [
    "# Solutions for advection corrections"
   ]
  },
  {
   "cell_type": "markdown",
   "metadata": {},
   "source": [
    "## Linearly interpolate w everywhere"
   ]
  },
  {
   "cell_type": "code",
   "execution_count": null,
   "metadata": {},
   "outputs": [],
   "source": [
    "interp_w_values = []\n",
    "for datetime, data in vertical_advection_estimates.reset_index().groupby('time'):\n",
    "    data = data.sort_values('height')\n",
    "    data['w'] = data['w'].interpolate().values\n",
    "    interp_w_values.append(data[['time', 'w', 'height']])\n",
    "interp_w_values = pd.concat(interp_w_values).set_index('time')"
   ]
  },
  {
   "cell_type": "code",
   "execution_count": null,
   "metadata": {},
   "outputs": [],
   "source": [
    "vertical_advection_estimates_updated_w = vertical_advection_estimates.reset_index().set_index(['time', 'height']).drop(columns='w').join(\n",
    "    interp_w_values.reset_index().set_index(['time', 'height'])\n",
    ")"
   ]
  },
  {
   "cell_type": "code",
   "execution_count": null,
   "metadata": {},
   "outputs": [],
   "source": [
    "plt.scatter(\n",
    "    vertical_advection_estimates.loc['20230505 1200']['w'],\n",
    "    vertical_advection_estimates.loc['20230505 1200']['height'],\n",
    ")\n",
    "\n",
    "plt.scatter(\n",
    "    vertical_advection_estimates_updated_w.loc['20230505 1200'].reset_index()['w'],\n",
    "    vertical_advection_estimates_updated_w.loc['20230505 1200'].reset_index()['height'],\n",
    "    s=2\n",
    ")\n",
    "plt.xlabel('w (m/s)')\n",
    "plt.ylabel('z (m)')"
   ]
  },
  {
   "cell_type": "code",
   "execution_count": null,
   "metadata": {},
   "outputs": [],
   "source": []
  },
  {
   "cell_type": "markdown",
   "metadata": {},
   "source": [
    "## Solve the integral numerically"
   ]
  },
  {
   "cell_type": "markdown",
   "metadata": {},
   "source": [
    "$$ \\overline{w'\\rho_v'}_{0} = \\overline{w'\\rho_v'}_{H} + \\int_0^H \\overline{w} \\rho \\frac{d \\sigma}{d z} dz$$"
   ]
  },
  {
   "cell_type": "markdown",
   "metadata": {},
   "source": [
    "Calculate the above integral for each time step. At each time step, linearly interpolate measurements of $\\overline{w}$, assuming a no-slip condition, as we have measurements of $\\rho$ and estimates of $d\\sigma / dz$ every meter. This allows us to solve the integral between 0 and $H$ at any of the eddy covariance heights, using a trapezoidal approach.\n",
    "\n",
    "Note that:\n",
    "* H for each EC changes with time due to snow depth\n",
    "* $\\frac{d \\sigma}{dz}$ is estimated using log polynomial, while $\\overline{w}$ is estimated using linear interpolation"
   ]
  },
  {
   "cell_type": "code",
   "execution_count": null,
   "metadata": {},
   "outputs": [],
   "source": [
    "snowdepth_data = tidy_df.query(\"variable == 'SnowDepth_c'\").set_index('time')['value']\n",
    "snowdepth_data = round(snowdepth_data, 4)"
   ]
  },
  {
   "cell_type": "code",
   "execution_count": null,
   "metadata": {},
   "outputs": [],
   "source": [
    "vertical_advection_estimates_updated_w = vertical_advection_estimates_updated_w.reset_index().set_index('time')"
   ]
  },
  {
   "cell_type": "code",
   "execution_count": null,
   "metadata": {},
   "outputs": [],
   "source": [
    "corrections = dict()\n",
    "for datetime in vertical_advection_estimates_updated_w.index.unique():\n",
    "    one_date_example = vertical_advection_estimates_updated_w.loc[datetime].set_index('height')\n",
    "    \n",
    "    # this_snowdepth = snowdepth_data.loc[datetime]\n",
    "    this_snowdepth = 0\n",
    "\n",
    "    one_date_example.index = one_date_example.index - this_snowdepth\n",
    "    one_date_example = one_date_example[one_date_example.index > 0]\n",
    "\n",
    "    lowest_meas_height = one_date_example.index.min()\n",
    "    one_date_example.loc[0, 'w'] = 0\n",
    "    one_date_example.loc[0, 'rho_d'] = one_date_example.loc[lowest_meas_height, 'rho_d']\n",
    "    one_date_example.loc[0, 'dsigma_dz'] = one_date_example.loc[lowest_meas_height, 'dsigma_dz']\n",
    "\n",
    "    one_date_example['vertical_advection'] = one_date_example['w'] * one_date_example['rho_d'] * one_date_example['dsigma_dz'] * 1000\n",
    "\n",
    "    one_date_example = one_date_example.sort_index()\n",
    "    \n",
    "    vert_adv_correction_2m = np.trapz(\n",
    "        one_date_example['vertical_advection'].loc[ : (2 - this_snowdepth)],\n",
    "        one_date_example['vertical_advection'].loc[ : (2 - this_snowdepth)].index\n",
    "    )\n",
    "    vert_adv_correction_3m = np.trapz(\n",
    "        one_date_example['vertical_advection'].loc[ : (3 - this_snowdepth)],\n",
    "        one_date_example['vertical_advection'].loc[ : (3 - this_snowdepth)].index\n",
    "    )\n",
    "    vert_adv_correction_5m = np.trapz(\n",
    "        one_date_example['vertical_advection'].loc[ : (5 - this_snowdepth)],\n",
    "        one_date_example['vertical_advection'].loc[ : (5 - this_snowdepth)].index\n",
    "    )\n",
    "    vert_adv_correction_10m = np.trapz(\n",
    "        one_date_example['vertical_advection'].loc[ : (10 - this_snowdepth)],\n",
    "        one_date_example['vertical_advection'].loc[ : (10 - this_snowdepth)].index\n",
    "    )\n",
    "    vert_adv_correction_15m = np.trapz(\n",
    "        one_date_example['vertical_advection'].loc[ : (15 - this_snowdepth)],\n",
    "        one_date_example['vertical_advection'].loc[ : (15 - this_snowdepth)].index\n",
    "    )\n",
    "    vert_adv_correction_20m = np.trapz(\n",
    "        one_date_example['vertical_advection'].loc[ : (20 - this_snowdepth)],\n",
    "        one_date_example['vertical_advection'].loc[ : (20 - this_snowdepth)].index\n",
    "    )\n",
    "    corrections[datetime] = {\n",
    "        2: vert_adv_correction_2m,\n",
    "        3: vert_adv_correction_3m,\n",
    "        5: vert_adv_correction_5m,\n",
    "        10: vert_adv_correction_10m,\n",
    "        15: vert_adv_correction_15m,\n",
    "        20: vert_adv_correction_20m\n",
    "    }\n",
    "    "
   ]
  },
  {
   "cell_type": "markdown",
   "metadata": {},
   "source": [
    "## Aggregate results"
   ]
  },
  {
   "cell_type": "markdown",
   "metadata": {},
   "source": [
    "Aggregate vertical advection correction estimates"
   ]
  },
  {
   "cell_type": "code",
   "execution_count": null,
   "metadata": {},
   "outputs": [],
   "source": [
    "corrections_df = pd.DataFrame(corrections).T.melt(ignore_index=False).rename(columns={\n",
    "    'variable': 'height',\n",
    "    'value': 'vertical_advection_correction'\n",
    "})\n",
    "corrections_df.index = corrections_df.index.rename('time')\n",
    "corrections_df = corrections_df.reset_index().set_index(['time', 'height'])\n",
    "corrections_df"
   ]
  },
  {
   "cell_type": "markdown",
   "metadata": {},
   "source": [
    "Combine with gapfilled EC flux measurements"
   ]
  },
  {
   "cell_type": "code",
   "execution_count": null,
   "metadata": {},
   "outputs": [],
   "source": [
    "sublimation_gapfilled = tidy_df.query(\"measurement == 'w_h2o_'\").query(\"tower == 'c'\").query(\"height > 1\")\n",
    "sublimation_gapfilled = sublimation_gapfilled[sublimation_gapfilled.variable.str.contains('gapfill')].set_index(['time', 'height'])\n",
    "sublimation_gapfilled = sublimation_gapfilled.join(corrections_df)\n",
    "sublimation_gapfilled = sublimation_gapfilled.rename(columns={'value': 'w_h2o__'})\n",
    "sublimation_gapfilled['vertical_advection_correction'] = sublimation_gapfilled['vertical_advection_correction'].fillna(0)\n",
    "sublimation_gapfilled['w_h2o__corrected'] = sublimation_gapfilled['w_h2o__'] + sublimation_gapfilled['vertical_advection_correction']\n",
    "sublimation_gapfilled"
   ]
  },
  {
   "cell_type": "code",
   "execution_count": null,
   "metadata": {},
   "outputs": [],
   "source": [
    "from metpy.constants import density_water\n",
    "seconds_in_timestep = 60*30\n",
    "sublimation_gapfilled_mm = sublimation_gapfilled[['w_h2o__', 'w_h2o__corrected']]\n",
    "sublimation_gapfilled_mm = sublimation_gapfilled_mm*seconds_in_timestep/density_water.magnitude"
   ]
  },
  {
   "cell_type": "code",
   "execution_count": null,
   "metadata": {},
   "outputs": [],
   "source": [
    "sublimation_gapfilled_cumsum = sublimation_gapfilled_mm.groupby(level=[1]).apply(lambda df: df.cumsum())\n",
    "sublimation_gapfilled_cumsum.index = sublimation_gapfilled_cumsum.index.droplevel(0)\n",
    "sublimation_gapfilled_cumsum_daily = sublimation_gapfilled_cumsum.reset_index().set_index('time').groupby([\n",
    "    pd.Grouper(freq='1440min'), 'height'\n",
    "]).max().reset_index()"
   ]
  },
  {
   "cell_type": "code",
   "execution_count": null,
   "metadata": {},
   "outputs": [],
   "source": [
    "alt.Chart(\n",
    "    sublimation_gapfilled_cumsum_daily\n",
    ").transform_filter(\n",
    "    alt.FieldOneOfPredicate('height', [3,5,10,20])\n",
    ").transform_fold(\n",
    "    ['w_h2o__',\t'w_h2o__corrected']\n",
    ").mark_line().encode(\n",
    "    alt.X('time:T'),\n",
    "    alt.Y('value:Q'),\n",
    "    alt.StrokeDash('key:N'),\n",
    "    alt.Color('height:O').scale(scheme='turbo')\n",
    ").properties(width=400, height=300)"
   ]
  },
  {
   "cell_type": "code",
   "execution_count": null,
   "metadata": {},
   "outputs": [],
   "source": [
    "\n",
    "\n",
    "alt.Chart(\n",
    "    sublimation_gapfilled_cumsum.loc['20230508 2330', :].reset_index()\n",
    ").transform_fold([\n",
    "    'w_h2o__', 'w_h2o__corrected'\n",
    "]).mark_point(size=100).encode(\n",
    "    alt.Y(\"height:O\").sort('-y').title(\"Height (m)\"),\n",
    "    alt.X(\"value:Q\").scale(zero=False).title([\"Total sublimation (mm)\"]),\n",
    "    alt.Shape(\"key:N\")\n",
    ").properties(width = 150, height = 150)"
   ]
  },
  {
   "cell_type": "code",
   "execution_count": null,
   "metadata": {},
   "outputs": [],
   "source": [
    "round(sublimation_gapfilled_cumsum.loc['2023-05-08 23:30:00'], 1)"
   ]
  },
  {
   "cell_type": "code",
   "execution_count": null,
   "metadata": {},
   "outputs": [],
   "source": [
    "import seaborn as sns"
   ]
  },
  {
   "cell_type": "code",
   "execution_count": null,
   "metadata": {},
   "outputs": [],
   "source": [
    "src = ((sublimation_gapfilled['w_h2o__corrected'] - sublimation_gapfilled['w_h2o__']) / sublimation_gapfilled['w_h2o__'])\n",
    "print(len(src))\n",
    "src = src[src < 1]\n",
    "print(len(src))\n",
    "src = src[src > -1]\n",
    "print(len(src))"
   ]
  },
  {
   "cell_type": "code",
   "execution_count": null,
   "metadata": {},
   "outputs": [],
   "source": [
    "sns.distplot(\n",
    "    src\n",
    ")"
   ]
  },
  {
   "cell_type": "code",
   "execution_count": null,
   "metadata": {},
   "outputs": [],
   "source": [
    "display(((sublimation_gapfilled['w_h2o__corrected'] - sublimation_gapfilled['w_h2o__']) / sublimation_gapfilled['w_h2o__']).quantile(0.25))\n",
    "display(((sublimation_gapfilled['w_h2o__corrected'] - sublimation_gapfilled['w_h2o__']) / sublimation_gapfilled['w_h2o__']).quantile(0.50))\n",
    "display(((sublimation_gapfilled['w_h2o__corrected'] - sublimation_gapfilled['w_h2o__']) / sublimation_gapfilled['w_h2o__']).quantile(0.75))"
   ]
  },
  {
   "cell_type": "code",
   "execution_count": null,
   "metadata": {},
   "outputs": [],
   "source": [
    "round(sublimation_gapfilled_cumsum.loc['2023-05-08 23:30:00']['w_h2o__corrected'] / sublimation_gapfilled_cumsum.loc['2023-05-08 23:30:00']['w_h2o__'] - 1, 3)"
   ]
  },
  {
   "cell_type": "code",
   "execution_count": null,
   "metadata": {},
   "outputs": [],
   "source": [
    "round(sublimation_gapfilled_cumsum.loc['2023-05-08 23:30:00']['w_h2o__corrected'] / sublimation_gapfilled_cumsum.loc['2023-05-08 23:30:00']['w_h2o__'] - 1, 3).mean()"
   ]
  },
  {
   "cell_type": "code",
   "execution_count": null,
   "metadata": {},
   "outputs": [],
   "source": [
    "alt.Chart(\n",
    "    sublimation_gapfilled_cumsum.reset_index()\n",
    ").transform_fold([\n",
    "    'w_h2o__', 'w_h2o__corrected'\n",
    "]).mark_line().encode(\n",
    "    alt.X('hoursminutes(time):T'),\n",
    "    alt.Y('value:Q'),\n",
    "    alt.StrokeDash('key:N'),\n",
    "    alt.Facet('height:O')\n",
    ")"
   ]
  },
  {
   "cell_type": "code",
   "execution_count": null,
   "metadata": {},
   "outputs": [],
   "source": []
  },
  {
   "cell_type": "code",
   "execution_count": null,
   "metadata": {},
   "outputs": [],
   "source": []
  },
  {
   "cell_type": "code",
   "execution_count": null,
   "metadata": {},
   "outputs": [],
   "source": []
  },
  {
   "cell_type": "code",
   "execution_count": null,
   "metadata": {},
   "outputs": [],
   "source": []
  }
 ],
 "metadata": {
  "kernelspec": {
   "display_name": "sublimationofsnow",
   "language": "python",
   "name": "python3"
  },
  "language_info": {
   "codemirror_mode": {
    "name": "ipython",
    "version": 3
   },
   "file_extension": ".py",
   "mimetype": "text/x-python",
   "name": "python",
   "nbconvert_exporter": "python",
   "pygments_lexer": "ipython3",
   "version": "3.12.5"
  }
 },
 "nbformat": 4,
 "nbformat_minor": 2
}
