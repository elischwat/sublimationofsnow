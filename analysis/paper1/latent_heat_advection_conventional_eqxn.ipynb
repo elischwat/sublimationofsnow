{
 "cells": [
  {
   "cell_type": "code",
   "execution_count": 1,
   "metadata": {},
   "outputs": [],
   "source": [
    "import numpy as np\n",
    "import pandas as pd\n",
    "from sublimpy import utils, tidy\n",
    "import altair as alt\n",
    "alt.data_transformers.enable('json')\n",
    "from scipy import interpolate\n",
    "\n",
    "import swifter\n",
    "import xarray as xr\n",
    "import tqdm\n",
    "import matplotlib.pyplot as plt\n",
    "from metpy.units import units\n",
    "\n",
    "import datetime as dt\n",
    "from sklearn.metrics import r2_score\n",
    "from metpy.units import units\n",
    "import math \n",
    "import geopandas as gpd"
   ]
  },
  {
   "cell_type": "code",
   "execution_count": 2,
   "metadata": {},
   "outputs": [
    {
     "name": "stdout",
     "output_type": "stream",
     "text": [
      "tidy_df_20221101_20230619_planar_fit_multiplane_q7_flags360_pf10.parquet\n",
      "tidy_df_20221101_20230619_planar_fit_multiplane_q7_flags9000_pf10.parquet\n",
      "tidy_df_20221101_20230619_planar_fit_multiplane_q7_flags9000_pf10_archive.parquet\n"
     ]
    }
   ],
   "source": [
    "ls process_slow_data | grep parquet"
   ]
  },
  {
   "cell_type": "code",
   "execution_count": 3,
   "metadata": {},
   "outputs": [],
   "source": [
    "HEIGHTS = [1,3,10]\n",
    "HORIZ_GRID_SPACING = 50\n",
    "VERT_GRID_SPACING = 20\n",
    "\n",
    "data_start_date = '20221129 2330'\n",
    "data_cutoff_date = '20230509 0000'\n",
    "\n",
    "## PARAMETERS FOR SOS DATA\n",
    "# streamwise coordinates\n",
    "sos_tidy_fn = f\"process_slow_data/tidy_df_20221101_20230619_planar_fit_multiplane_q7_flags9000_pf10.parquet\"\n",
    "\n",
    "## PARAMETERS FOR SPLASH DATA\n",
    "# download dir\n",
    "avp_download_dir = \"/Users/elischwat/Development/data/sublimationofsnow/asfs/ASFS-50_Level2_SPLASH2021-2023/\"\n",
    "kps_download_dir = \"/Users/elischwat/Development/data/sublimationofsnow/asfs/ASFS-30_Level2_SPLASH2021-2023/\"\n",
    "\n",
    "ftp_url = 'ftp1.esrl.noaa.gov'\n",
    "# Avery Picnic product\n",
    "avp_url = f'Observations/Campaigns/SPLASH/asfs50/2_level_ingest/'\n",
    "# Kettle Ponds product\n",
    "kps_url = f'Observations/Campaigns/SPLASH/asfs30/2_level_ingest/'"
   ]
  },
  {
   "cell_type": "markdown",
   "metadata": {},
   "source": [
    "# Open data"
   ]
  },
  {
   "cell_type": "markdown",
   "metadata": {},
   "source": [
    "## SOS"
   ]
  },
  {
   "cell_type": "code",
   "execution_count": 4,
   "metadata": {},
   "outputs": [
    {
     "name": "stderr",
     "output_type": "stream",
     "text": [
      "/var/folders/x_/2h52bcjx2px15bhmdpdd748h0000gn/T/ipykernel_40732/2969110800.py:7: UserWarning: Boolean Series key will be reindexed to match DataFrame index.\n",
      "  tidy_df = tidy_df[tidy_df.time > data_start_date][tidy_df.time < data_cutoff_date]\n"
     ]
    }
   ],
   "source": [
    "tidy_df = pd.read_parquet(sos_tidy_fn)\n",
    "# Convert data timezone to local and clean up data on the ends\n",
    "# convert time column to datetime\n",
    "tidy_df['time'] = pd.to_datetime(tidy_df['time'])\n",
    "tidy_df = utils.modify_df_timezone(tidy_df, 'UTC', 'US/Mountain')\n",
    "# limit data to our dates of interest, based on continuous snow cover at Kettle Ponds\n",
    "tidy_df = tidy_df[tidy_df.time > data_start_date][tidy_df.time < data_cutoff_date]\n",
    "tidy_df = tidy_df.set_index('time').sort_index().loc[data_start_date:data_cutoff_date].reset_index()\n",
    "\n",
    "# tidy_df_single_pf = pd.read_parquet(sos_tidy_fn_single_pf)\n",
    "# # Convert data timezone to local and clean up data on the ends\n",
    "# # convert time column to datetime\n",
    "# tidy_df_single_pf['time'] = pd.to_datetime(tidy_df_single_pf['time'])\n",
    "# tidy_df_single_pf = utils.modify_df_timezone(tidy_df_single_pf, 'UTC', 'US/Mountain')\n",
    "# # limit data to our dates of interest, based on continuous snow cover at Kettle Ponds\n",
    "# tidy_df_single_pf = tidy_df_single_pf[tidy_df_single_pf.time > data_start_date][tidy_df_single_pf.time < data_cutoff_date]\n",
    "# tidy_df_single_pf = tidy_df_single_pf.set_index('time').sort_index().loc[data_start_date:data_cutoff_date].reset_index()"
   ]
  },
  {
   "cell_type": "code",
   "execution_count": 5,
   "metadata": {},
   "outputs": [
    {
     "data": {
      "text/plain": [
       "(Timestamp('2022-11-30 00:00:00'), Timestamp('2023-05-08 23:30:00'))"
      ]
     },
     "execution_count": 5,
     "metadata": {},
     "output_type": "execute_result"
    }
   ],
   "source": [
    "tidy_df.time.min(), tidy_df.time.max()"
   ]
  },
  {
   "cell_type": "code",
   "execution_count": 6,
   "metadata": {},
   "outputs": [
    {
     "name": "stdout",
     "output_type": "stream",
     "text": [
      "1534\n",
      "1513\n"
     ]
    }
   ],
   "source": [
    "print(len(tidy_df.query(\"variable == 'T_3m_c'\").set_index('time').loc['20230301':'20230401']))\n",
    "print(len(tidy_df.query(\"variable == 'T_3m_c'\").set_index('time').loc['20230301':'20230401'].dropna()))"
   ]
  },
  {
   "cell_type": "code",
   "execution_count": 7,
   "metadata": {},
   "outputs": [
    {
     "name": "stdout",
     "output_type": "stream",
     "text": [
      "1488\n",
      "1488\n"
     ]
    }
   ],
   "source": [
    "print(len(tidy_df.query(\"variable == 'T_3m_c'\").set_index('time').loc['20230401':'20230501']))\n",
    "print(len(tidy_df.query(\"variable == 'T_3m_c'\").set_index('time').loc['20230401':'20230501'].dropna()))"
   ]
  },
  {
   "cell_type": "code",
   "execution_count": 8,
   "metadata": {},
   "outputs": [
    {
     "data": {
      "text/plain": [
       "value\n",
       "(292, 332]    0.454391\n",
       "(80, 140]     0.214632\n",
       "(0, 80]       0.147756\n",
       "(332, 360]    0.102343\n",
       "(140, 292]    0.080879\n",
       "Name: count, dtype: float64"
      ]
     },
     "execution_count": 8,
     "metadata": {},
     "output_type": "execute_result"
    }
   ],
   "source": [
    "src = tidy_df.query(f\"variable == 'dir_3m_c'\")['value'].dropna()\n",
    "pd.cut(\n",
    "    src,\n",
    "    [0,80, 140, 292,332, 360]\n",
    ").value_counts() / len(src)"
   ]
  },
  {
   "cell_type": "markdown",
   "metadata": {},
   "source": [
    "## SPLASH"
   ]
  },
  {
   "cell_type": "code",
   "execution_count": 9,
   "metadata": {},
   "outputs": [
    {
     "name": "stderr",
     "output_type": "stream",
     "text": [
      "100%|██████████| 646/646 [00:36<00:00, 17.86it/s]\n"
     ]
    }
   ],
   "source": [
    "\n",
    "# Get the list of files in the directory\n",
    "file_list = os.listdir(kps_download_dir)\n",
    "\n",
    "# file_list = [f for f in file_list if 'sledmet.asfs30.level2.0.1min.' in f]\n",
    "file_list = [f for f in file_list if 'sledmet.asfs30.level2.0.1min.' in f]\n",
    "\n",
    "# Sort the file list\n",
    "file_list.sort()\n",
    "\n",
    "# Create an empty list to store the dataarrays\n",
    "mixingratio_dataarray_list = []\n",
    "snowdepth_list = []\n",
    "temp_dataarray_list = []\n",
    "rh_dataarray_list = []\n",
    "w_dataarray_list = []\n",
    "p_dataarray_list = []\n",
    "\n",
    "# Iterate over each file with tqdm\n",
    "for file_name in tqdm.tqdm(file_list):\n",
    "    # Open the file using xarray\n",
    "    dataset = xr.open_dataset(os.path.join(kps_download_dir, file_name))\n",
    "    \n",
    "    # Extract the dataarray for the variable 'mixing_ratio', Add the dataarray to the list\n",
    "    mixingratio_dataarray_list.append(dataset['mixing_ratio'])\n",
    "    snowdepth_list.append(dataset['snow_depth'])\n",
    "    temp_dataarray_list.append(dataset['temp'])  # Add this line\n",
    "    rh_dataarray_list.append(dataset['rh'])  # Add this line\n",
    "    w_dataarray_list.append(dataset['wspd_w_mean'])  # Add this line\n",
    "    p_dataarray_list.append(dataset['atmos_pressure'])\n",
    "\n",
    "\n",
    "mixingratio_ds = xr.concat(mixingratio_dataarray_list, dim='time')\n",
    "mixingratio_ds = utils.modify_xarray_timezone(mixingratio_ds, 'UTC', 'US/Mountain')\n",
    "annex_snowdepth_ds = xr.concat(snowdepth_list, dim='time')\n",
    "annex_snowdepth_ds = utils.modify_xarray_timezone(annex_snowdepth_ds, 'UTC', 'US/Mountain')\n",
    "temp_ds = xr.concat(temp_dataarray_list, dim='time')\n",
    "temp_ds = utils.modify_xarray_timezone(temp_ds, 'UTC', 'US/Mountain')\n",
    "rh_ds = xr.concat(rh_dataarray_list, dim='time')\n",
    "rh_ds = utils.modify_xarray_timezone(rh_ds, 'UTC', 'US/Mountain')\n",
    "w_ds = xr.concat(w_dataarray_list, dim='time')\n",
    "w_ds = utils.modify_xarray_timezone(w_ds, 'UTC', 'US/Mountain')\n",
    "p_ds = xr.concat(p_dataarray_list, dim='time')\n",
    "p_ds = utils.modify_xarray_timezone(p_ds, 'UTC', 'US/Mountain')\n",
    "\n",
    "from metpy.calc import density\n",
    "dryairdensity_ds = density(p_ds * units(\"hPa\"), temp_ds * units('degC'), 0)\n",
    "# units say kg/m^3 but they are actually g/m^3?? why??\n",
    "abshum_ds = (mixingratio_ds * dryairdensity_ds)"
   ]
  },
  {
   "cell_type": "markdown",
   "metadata": {},
   "source": [
    "# Create categories"
   ]
  },
  {
   "cell_type": "code",
   "execution_count": 10,
   "metadata": {},
   "outputs": [
    {
     "data": {
      "text/plain": [
       "(1409, 3891)"
      ]
     },
     "execution_count": 10,
     "metadata": {},
     "output_type": "execute_result"
    }
   ],
   "source": [
    "# Identify lists of timestamps for different categories\n",
    "bs_times = list(pd.to_datetime(list(set(\n",
    "    tidy_df.query(\"variable == 'SF_avg_1m_ue'\").query(\"value > 0\").time\n",
    ").union(\n",
    "    set(tidy_df.query(\"variable == 'SF_avg_2m_ue'\").query(\"value > 0\").time)\n",
    "))))\n",
    "nobs_times = list(pd.to_datetime(list(set(tidy_df.time).difference(bs_times))))\n",
    "\n",
    "decoupled_times = list(pd.to_datetime(tidy_df.query(\"variable == 'omega_3m_c'\").query(\"value < 0.43\").time))\n",
    "weaklycoupled_times = list(pd.to_datetime(tidy_df.query(\"variable == 'omega_3m_c'\").query(\"value >= 0.43\").query(\"value <= 0.61\").time))\n",
    "coupled_times = list(pd.to_datetime(tidy_df.query(\"variable == 'omega_3m_c'\").query(\"value > 0.61\").time))\n",
    "\n",
    "ri_stable_times = list(pd.to_datetime(tidy_df.query(\"variable == 'Ri_3m_c'\").query(\"value > 0.25\").time))\n",
    "ri_unstable_times = list(pd.to_datetime(tidy_df.query(\"variable == 'Ri_3m_c'\").query(\"value < -0.01\").time))\n",
    "ri_neutral_times = list(pd.to_datetime(tidy_df.query(\"variable == 'Ri_3m_c'\").query(\"value >= -0.01\").query(\"value <= 0.25\").time))\n",
    "\n",
    "tgrad_stable_times = list(pd.to_datetime(tidy_df.query(\"variable == 'temp_gradient_3m_c'\").query(\"value > 0.01\").time))\n",
    "tgrad_unstable_times = list(pd.to_datetime(tidy_df.query(\"variable == 'temp_gradient_3m_c'\").query(\"value < -0.01\").time))\n",
    "tgrad_neutral_times = list(pd.to_datetime(tidy_df.query(\"variable == 'temp_gradient_3m_c'\").query(\"value >= -0.01\").query(\"value <= 0.01\").time))\n",
    "\n",
    "upvalley_wind_times = list(pd.to_datetime(tidy_df[tidy_df.variable == 'dir_3m_c'].query(\"value < 152\").query(\"value > 92\").time.values))\n",
    "downvalley_wind_times = list(pd.to_datetime(tidy_df[tidy_df.variable == 'dir_3m_c'].query(\"value < 342\").query(\"value > 292\").time.values))\n",
    "\n",
    "downvalley_nobs_times = set(downvalley_wind_times).intersection(set(nobs_times))\n",
    "upvalley_nobs_times = set(upvalley_wind_times).intersection(set(nobs_times))\n",
    "\n",
    "len(upvalley_wind_times),len(downvalley_wind_times)"
   ]
  },
  {
   "cell_type": "code",
   "execution_count": 11,
   "metadata": {},
   "outputs": [
    {
     "name": "stdout",
     "output_type": "stream",
     "text": [
      "2899\n",
      "296\n",
      "4460\n",
      "7014\n",
      "229\n",
      "415\n"
     ]
    }
   ],
   "source": [
    "print(len(ri_stable_times))\n",
    "print(len(ri_unstable_times))\n",
    "print(len(ri_neutral_times))\n",
    "print(len(tgrad_stable_times))\n",
    "print(len(tgrad_unstable_times))\n",
    "print(len(tgrad_neutral_times))"
   ]
  },
  {
   "cell_type": "code",
   "execution_count": 12,
   "metadata": {},
   "outputs": [
    {
     "data": {
      "text/plain": [
       "{Timestamp('2023-01-30 07:00:00'),\n",
       " Timestamp('2023-03-17 11:00:00'),\n",
       " Timestamp('2022-12-20 11:00:00'),\n",
       " Timestamp('2023-02-21 01:00:00'),\n",
       " Timestamp('2023-02-17 13:30:00'),\n",
       " Timestamp('2023-02-21 20:30:00'),\n",
       " Timestamp('2023-03-23 15:00:00'),\n",
       " Timestamp('2023-05-03 12:00:00'),\n",
       " Timestamp('2023-02-01 12:30:00'),\n",
       " Timestamp('2023-04-19 13:00:00'),\n",
       " Timestamp('2023-04-02 20:00:00'),\n",
       " Timestamp('2023-02-07 13:00:00'),\n",
       " Timestamp('2023-04-14 08:00:00'),\n",
       " Timestamp('2023-02-14 19:30:00'),\n",
       " Timestamp('2023-04-24 12:30:00'),\n",
       " Timestamp('2023-02-14 16:00:00'),\n",
       " Timestamp('2022-12-23 12:30:00'),\n",
       " Timestamp('2023-03-16 00:30:00'),\n",
       " Timestamp('2023-01-16 15:30:00'),\n",
       " Timestamp('2023-02-26 13:30:00'),\n",
       " Timestamp('2023-01-06 15:30:00'),\n",
       " Timestamp('2023-04-25 23:30:00'),\n",
       " Timestamp('2022-12-30 15:00:00'),\n",
       " Timestamp('2023-03-08 11:30:00'),\n",
       " Timestamp('2022-12-12 00:30:00'),\n",
       " Timestamp('2022-12-05 21:00:00'),\n",
       " Timestamp('2022-12-12 02:30:00'),\n",
       " Timestamp('2022-11-30 13:00:00'),\n",
       " Timestamp('2023-02-04 11:00:00'),\n",
       " Timestamp('2023-04-03 08:00:00'),\n",
       " Timestamp('2023-03-23 03:30:00'),\n",
       " Timestamp('2023-01-01 15:00:00'),\n",
       " Timestamp('2023-01-17 04:30:00'),\n",
       " Timestamp('2023-03-14 16:00:00'),\n",
       " Timestamp('2023-01-15 03:00:00'),\n",
       " Timestamp('2023-02-02 11:30:00'),\n",
       " Timestamp('2023-03-23 12:00:00'),\n",
       " Timestamp('2023-02-16 14:00:00'),\n",
       " Timestamp('2023-04-12 16:30:00'),\n",
       " Timestamp('2023-02-16 11:00:00'),\n",
       " Timestamp('2023-02-07 12:30:00'),\n",
       " Timestamp('2022-12-23 18:30:00'),\n",
       " Timestamp('2022-12-12 08:30:00'),\n",
       " Timestamp('2023-04-03 14:30:00'),\n",
       " Timestamp('2023-02-02 14:00:00'),\n",
       " Timestamp('2023-03-16 00:00:00'),\n",
       " Timestamp('2023-02-24 15:00:00'),\n",
       " Timestamp('2023-01-28 08:30:00'),\n",
       " Timestamp('2023-03-24 11:00:00'),\n",
       " Timestamp('2023-03-01 13:30:00'),\n",
       " Timestamp('2023-03-30 06:00:00'),\n",
       " Timestamp('2023-03-15 23:30:00'),\n",
       " Timestamp('2023-02-14 15:30:00'),\n",
       " Timestamp('2023-04-13 01:30:00'),\n",
       " Timestamp('2022-11-30 12:30:00'),\n",
       " Timestamp('2023-04-23 00:00:00'),\n",
       " Timestamp('2023-05-07 08:00:00'),\n",
       " Timestamp('2022-12-21 00:00:00'),\n",
       " Timestamp('2022-12-28 21:30:00'),\n",
       " Timestamp('2023-02-24 04:00:00'),\n",
       " Timestamp('2023-03-12 20:30:00'),\n",
       " Timestamp('2023-03-12 05:30:00'),\n",
       " Timestamp('2023-03-13 12:30:00'),\n",
       " Timestamp('2023-01-14 19:30:00'),\n",
       " Timestamp('2022-12-25 09:00:00'),\n",
       " Timestamp('2023-03-14 22:00:00'),\n",
       " Timestamp('2023-04-01 15:00:00'),\n",
       " Timestamp('2023-05-05 11:00:00'),\n",
       " Timestamp('2023-02-23 14:00:00'),\n",
       " Timestamp('2023-02-23 13:00:00'),\n",
       " Timestamp('2022-12-11 11:00:00'),\n",
       " Timestamp('2023-01-30 06:30:00'),\n",
       " Timestamp('2023-04-12 21:00:00'),\n",
       " Timestamp('2023-01-15 04:00:00'),\n",
       " Timestamp('2023-01-14 21:00:00'),\n",
       " Timestamp('2023-04-01 14:30:00'),\n",
       " Timestamp('2023-03-15 17:30:00'),\n",
       " Timestamp('2022-12-12 08:00:00'),\n",
       " Timestamp('2023-01-27 09:30:00'),\n",
       " Timestamp('2023-01-26 12:30:00'),\n",
       " Timestamp('2022-12-29 06:30:00'),\n",
       " Timestamp('2023-04-06 14:30:00'),\n",
       " Timestamp('2022-12-12 10:00:00'),\n",
       " Timestamp('2023-02-04 10:30:00'),\n",
       " Timestamp('2023-05-07 07:30:00'),\n",
       " Timestamp('2022-12-23 13:00:00'),\n",
       " Timestamp('2023-01-06 10:00:00'),\n",
       " Timestamp('2022-12-20 13:30:00'),\n",
       " Timestamp('2022-12-09 12:00:00'),\n",
       " Timestamp('2022-12-04 20:30:00'),\n",
       " Timestamp('2023-03-18 13:00:00'),\n",
       " Timestamp('2023-04-14 09:00:00'),\n",
       " Timestamp('2023-01-20 11:30:00'),\n",
       " Timestamp('2023-02-13 10:30:00'),\n",
       " Timestamp('2023-03-05 05:30:00'),\n",
       " Timestamp('2023-04-07 17:00:00'),\n",
       " Timestamp('2023-01-14 12:30:00'),\n",
       " Timestamp('2023-04-13 06:30:00'),\n",
       " Timestamp('2023-01-15 10:30:00'),\n",
       " Timestamp('2023-03-13 11:30:00'),\n",
       " Timestamp('2023-01-30 23:00:00'),\n",
       " Timestamp('2023-02-16 16:30:00'),\n",
       " Timestamp('2023-01-23 15:30:00'),\n",
       " Timestamp('2023-04-18 10:30:00'),\n",
       " Timestamp('2022-12-16 09:00:00'),\n",
       " Timestamp('2023-02-17 13:00:00'),\n",
       " Timestamp('2023-01-12 16:00:00'),\n",
       " Timestamp('2023-03-22 08:30:00'),\n",
       " Timestamp('2023-03-19 12:30:00'),\n",
       " Timestamp('2022-12-01 13:00:00'),\n",
       " Timestamp('2023-01-16 19:30:00'),\n",
       " Timestamp('2023-01-01 08:00:00'),\n",
       " Timestamp('2023-03-15 18:00:00'),\n",
       " Timestamp('2022-12-01 23:00:00'),\n",
       " Timestamp('2023-03-06 22:30:00'),\n",
       " Timestamp('2023-04-13 08:30:00'),\n",
       " Timestamp('2022-12-05 09:30:00'),\n",
       " Timestamp('2023-01-11 06:00:00'),\n",
       " Timestamp('2023-01-16 11:30:00'),\n",
       " Timestamp('2023-04-07 17:30:00'),\n",
       " Timestamp('2022-12-28 17:30:00'),\n",
       " Timestamp('2023-01-10 22:00:00'),\n",
       " Timestamp('2023-04-01 10:30:00'),\n",
       " Timestamp('2023-03-12 04:00:00'),\n",
       " Timestamp('2022-12-28 02:00:00'),\n",
       " Timestamp('2023-01-29 06:30:00'),\n",
       " Timestamp('2023-04-19 10:00:00'),\n",
       " Timestamp('2023-04-01 05:00:00'),\n",
       " Timestamp('2022-12-16 10:30:00'),\n",
       " Timestamp('2023-03-15 14:30:00'),\n",
       " Timestamp('2023-02-24 01:30:00'),\n",
       " Timestamp('2023-03-20 12:00:00'),\n",
       " Timestamp('2023-02-18 12:30:00'),\n",
       " Timestamp('2023-03-26 17:30:00'),\n",
       " Timestamp('2023-03-03 13:00:00'),\n",
       " Timestamp('2023-02-07 13:30:00'),\n",
       " Timestamp('2023-01-01 15:30:00'),\n",
       " Timestamp('2022-12-28 16:30:00'),\n",
       " Timestamp('2023-03-03 20:30:00'),\n",
       " Timestamp('2022-12-06 11:30:00'),\n",
       " Timestamp('2023-02-23 22:30:00'),\n",
       " Timestamp('2022-12-12 16:30:00'),\n",
       " Timestamp('2023-03-30 08:30:00'),\n",
       " Timestamp('2022-12-01 18:00:00'),\n",
       " Timestamp('2023-01-29 02:00:00'),\n",
       " Timestamp('2022-12-16 09:30:00'),\n",
       " Timestamp('2023-04-01 01:30:00'),\n",
       " Timestamp('2023-03-01 12:30:00'),\n",
       " Timestamp('2023-03-04 16:00:00'),\n",
       " Timestamp('2023-03-01 17:00:00'),\n",
       " Timestamp('2023-02-25 10:30:00'),\n",
       " Timestamp('2023-01-29 04:30:00'),\n",
       " Timestamp('2023-04-13 11:30:00'),\n",
       " Timestamp('2023-03-22 21:30:00'),\n",
       " Timestamp('2023-04-14 18:30:00'),\n",
       " Timestamp('2022-12-07 23:00:00'),\n",
       " Timestamp('2023-04-14 08:30:00'),\n",
       " Timestamp('2022-12-28 11:00:00'),\n",
       " Timestamp('2023-02-15 16:30:00'),\n",
       " Timestamp('2023-03-20 12:30:00'),\n",
       " Timestamp('2023-03-14 20:00:00'),\n",
       " Timestamp('2023-03-24 06:00:00'),\n",
       " Timestamp('2023-03-17 12:00:00'),\n",
       " Timestamp('2023-04-14 05:30:00'),\n",
       " Timestamp('2023-01-06 09:30:00'),\n",
       " Timestamp('2022-12-24 05:00:00'),\n",
       " Timestamp('2023-03-11 18:30:00'),\n",
       " Timestamp('2023-01-28 06:30:00'),\n",
       " Timestamp('2023-01-09 11:30:00'),\n",
       " Timestamp('2023-01-02 05:30:00'),\n",
       " Timestamp('2023-05-07 09:30:00'),\n",
       " Timestamp('2023-02-17 12:30:00'),\n",
       " Timestamp('2022-12-03 17:30:00'),\n",
       " Timestamp('2023-02-14 16:30:00'),\n",
       " Timestamp('2023-03-28 14:30:00'),\n",
       " Timestamp('2023-04-12 19:00:00'),\n",
       " Timestamp('2023-01-01 05:30:00'),\n",
       " Timestamp('2023-03-14 21:30:00'),\n",
       " Timestamp('2023-02-14 10:00:00'),\n",
       " Timestamp('2023-01-16 07:30:00'),\n",
       " Timestamp('2023-03-20 16:30:00'),\n",
       " Timestamp('2023-03-20 17:30:00'),\n",
       " Timestamp('2023-01-02 07:30:00'),\n",
       " Timestamp('2023-02-24 03:00:00'),\n",
       " Timestamp('2022-12-07 20:30:00'),\n",
       " Timestamp('2023-03-13 13:00:00'),\n",
       " Timestamp('2022-12-28 12:30:00'),\n",
       " Timestamp('2023-04-23 01:30:00'),\n",
       " Timestamp('2023-03-15 20:00:00'),\n",
       " Timestamp('2023-05-06 02:00:00'),\n",
       " Timestamp('2023-03-24 19:30:00'),\n",
       " Timestamp('2023-04-22 00:30:00'),\n",
       " Timestamp('2023-02-24 05:30:00'),\n",
       " Timestamp('2023-01-28 05:30:00'),\n",
       " Timestamp('2023-01-28 10:30:00'),\n",
       " Timestamp('2022-12-16 10:00:00'),\n",
       " Timestamp('2023-04-06 12:30:00'),\n",
       " Timestamp('2023-02-23 11:30:00'),\n",
       " Timestamp('2023-03-18 12:30:00'),\n",
       " Timestamp('2023-01-14 15:30:00'),\n",
       " Timestamp('2023-01-06 06:30:00'),\n",
       " Timestamp('2023-03-01 23:00:00'),\n",
       " Timestamp('2023-02-23 22:00:00'),\n",
       " Timestamp('2023-03-04 19:30:00'),\n",
       " Timestamp('2023-03-29 14:30:00'),\n",
       " Timestamp('2023-03-14 15:00:00'),\n",
       " Timestamp('2023-03-15 23:00:00'),\n",
       " Timestamp('2022-12-26 11:00:00'),\n",
       " Timestamp('2023-01-11 02:00:00'),\n",
       " Timestamp('2023-04-02 04:30:00'),\n",
       " Timestamp('2023-01-16 04:30:00'),\n",
       " Timestamp('2023-03-22 21:00:00'),\n",
       " Timestamp('2022-12-04 16:00:00'),\n",
       " Timestamp('2023-03-22 22:00:00'),\n",
       " Timestamp('2023-02-16 13:00:00'),\n",
       " Timestamp('2022-12-03 13:00:00'),\n",
       " Timestamp('2023-04-12 14:30:00'),\n",
       " Timestamp('2023-01-29 01:00:00'),\n",
       " Timestamp('2023-01-30 09:00:00'),\n",
       " Timestamp('2023-02-18 10:30:00'),\n",
       " Timestamp('2023-04-08 12:00:00'),\n",
       " Timestamp('2023-04-14 01:00:00'),\n",
       " Timestamp('2023-01-14 22:30:00'),\n",
       " Timestamp('2023-01-28 21:00:00'),\n",
       " Timestamp('2023-05-06 01:30:00'),\n",
       " Timestamp('2023-01-29 07:00:00'),\n",
       " Timestamp('2023-04-08 11:00:00'),\n",
       " Timestamp('2022-12-23 01:30:00'),\n",
       " Timestamp('2023-01-16 13:00:00'),\n",
       " Timestamp('2023-03-23 17:00:00'),\n",
       " Timestamp('2023-01-06 14:30:00'),\n",
       " Timestamp('2023-03-15 14:00:00'),\n",
       " Timestamp('2022-12-12 07:30:00'),\n",
       " Timestamp('2023-01-13 12:00:00'),\n",
       " Timestamp('2023-04-12 19:30:00'),\n",
       " Timestamp('2022-12-06 05:30:00'),\n",
       " Timestamp('2023-03-12 19:30:00'),\n",
       " Timestamp('2023-04-13 01:00:00'),\n",
       " Timestamp('2023-01-16 20:30:00'),\n",
       " Timestamp('2022-12-01 22:30:00'),\n",
       " Timestamp('2023-03-10 05:30:00'),\n",
       " Timestamp('2023-01-20 10:30:00'),\n",
       " Timestamp('2023-01-26 12:00:00'),\n",
       " Timestamp('2023-02-23 12:30:00'),\n",
       " Timestamp('2023-05-02 14:00:00'),\n",
       " Timestamp('2023-03-05 06:00:00'),\n",
       " Timestamp('2022-12-07 10:00:00'),\n",
       " Timestamp('2023-02-08 10:30:00'),\n",
       " Timestamp('2022-12-24 02:00:00'),\n",
       " Timestamp('2023-03-24 17:30:00'),\n",
       " Timestamp('2023-01-07 13:30:00'),\n",
       " Timestamp('2023-01-29 01:30:00'),\n",
       " Timestamp('2023-01-02 06:30:00'),\n",
       " Timestamp('2023-05-08 12:00:00'),\n",
       " Timestamp('2022-12-28 09:00:00'),\n",
       " Timestamp('2022-12-24 02:30:00'),\n",
       " Timestamp('2023-01-16 13:30:00'),\n",
       " Timestamp('2022-12-19 13:30:00'),\n",
       " Timestamp('2023-05-02 11:00:00'),\n",
       " Timestamp('2023-05-05 10:30:00'),\n",
       " Timestamp('2022-12-28 09:30:00'),\n",
       " Timestamp('2023-01-09 13:00:00'),\n",
       " Timestamp('2022-12-31 08:00:00'),\n",
       " Timestamp('2023-02-27 21:00:00'),\n",
       " Timestamp('2023-01-16 03:00:00'),\n",
       " Timestamp('2022-12-07 23:30:00'),\n",
       " Timestamp('2022-12-07 14:30:00'),\n",
       " Timestamp('2022-12-31 16:30:00'),\n",
       " Timestamp('2023-04-24 20:00:00'),\n",
       " Timestamp('2023-03-28 17:00:00'),\n",
       " Timestamp('2023-04-03 15:00:00'),\n",
       " Timestamp('2023-01-21 09:30:00'),\n",
       " Timestamp('2023-01-03 06:30:00'),\n",
       " Timestamp('2023-02-14 17:30:00'),\n",
       " Timestamp('2023-02-14 17:00:00'),\n",
       " Timestamp('2022-12-06 05:00:00'),\n",
       " Timestamp('2023-01-06 11:30:00'),\n",
       " Timestamp('2023-02-24 15:30:00'),\n",
       " Timestamp('2022-12-06 00:30:00'),\n",
       " Timestamp('2023-02-06 00:00:00'),\n",
       " Timestamp('2022-12-07 21:30:00'),\n",
       " Timestamp('2022-12-02 20:30:00'),\n",
       " Timestamp('2023-01-22 14:30:00'),\n",
       " Timestamp('2023-05-02 11:30:00'),\n",
       " Timestamp('2023-05-02 13:00:00'),\n",
       " Timestamp('2023-04-03 13:00:00'),\n",
       " Timestamp('2023-01-01 06:00:00'),\n",
       " Timestamp('2023-01-02 08:30:00'),\n",
       " Timestamp('2023-03-15 12:30:00'),\n",
       " Timestamp('2023-05-06 03:30:00'),\n",
       " Timestamp('2022-12-09 14:00:00'),\n",
       " Timestamp('2023-03-10 11:00:00'),\n",
       " Timestamp('2022-12-28 05:00:00'),\n",
       " Timestamp('2023-02-24 06:30:00'),\n",
       " Timestamp('2023-03-19 15:30:00'),\n",
       " Timestamp('2023-03-23 13:30:00'),\n",
       " Timestamp('2023-04-03 06:00:00'),\n",
       " Timestamp('2023-01-20 14:30:00'),\n",
       " Timestamp('2022-12-06 04:30:00'),\n",
       " Timestamp('2023-03-26 14:00:00'),\n",
       " Timestamp('2023-04-25 09:30:00'),\n",
       " Timestamp('2022-12-31 07:00:00'),\n",
       " Timestamp('2023-02-14 23:00:00'),\n",
       " Timestamp('2023-03-12 10:00:00'),\n",
       " Timestamp('2023-01-02 02:00:00'),\n",
       " Timestamp('2022-12-31 16:00:00'),\n",
       " Timestamp('2022-12-27 20:30:00'),\n",
       " Timestamp('2023-03-14 16:30:00'),\n",
       " Timestamp('2023-01-23 16:30:00'),\n",
       " Timestamp('2023-02-15 00:00:00'),\n",
       " Timestamp('2023-01-07 13:00:00'),\n",
       " Timestamp('2023-03-29 20:00:00'),\n",
       " Timestamp('2023-04-19 10:30:00'),\n",
       " Timestamp('2023-02-07 15:30:00'),\n",
       " Timestamp('2023-01-16 10:00:00'),\n",
       " Timestamp('2023-04-03 12:30:00'),\n",
       " Timestamp('2023-01-29 02:30:00'),\n",
       " Timestamp('2023-01-01 19:00:00'),\n",
       " Timestamp('2022-12-05 21:30:00'),\n",
       " Timestamp('2023-01-17 04:00:00'),\n",
       " Timestamp('2023-01-21 23:00:00'),\n",
       " Timestamp('2023-04-14 04:30:00'),\n",
       " Timestamp('2023-04-24 10:30:00'),\n",
       " Timestamp('2023-04-14 06:30:00'),\n",
       " Timestamp('2023-01-06 08:00:00'),\n",
       " Timestamp('2022-12-31 17:00:00'),\n",
       " Timestamp('2023-04-03 12:00:00'),\n",
       " Timestamp('2023-04-03 22:30:00'),\n",
       " Timestamp('2023-01-17 06:30:00'),\n",
       " Timestamp('2023-04-06 13:00:00'),\n",
       " Timestamp('2023-04-16 13:30:00'),\n",
       " Timestamp('2023-03-08 11:00:00'),\n",
       " Timestamp('2023-02-26 10:00:00'),\n",
       " Timestamp('2022-12-04 14:00:00'),\n",
       " Timestamp('2022-12-30 13:00:00'),\n",
       " Timestamp('2022-12-31 13:00:00'),\n",
       " Timestamp('2023-01-11 00:30:00'),\n",
       " Timestamp('2023-03-12 18:00:00'),\n",
       " Timestamp('2023-02-27 22:30:00'),\n",
       " Timestamp('2023-03-26 18:30:00'),\n",
       " Timestamp('2023-05-02 12:00:00'),\n",
       " Timestamp('2022-12-28 18:30:00'),\n",
       " Timestamp('2023-04-14 06:00:00'),\n",
       " Timestamp('2023-04-14 02:30:00'),\n",
       " Timestamp('2023-05-02 13:30:00'),\n",
       " Timestamp('2023-03-18 15:30:00'),\n",
       " Timestamp('2022-12-27 16:30:00'),\n",
       " Timestamp('2022-12-08 05:00:00'),\n",
       " Timestamp('2023-03-17 11:30:00'),\n",
       " Timestamp('2022-12-12 06:30:00'),\n",
       " Timestamp('2023-05-05 12:00:00'),\n",
       " Timestamp('2022-12-28 13:00:00'),\n",
       " Timestamp('2023-01-10 02:00:00'),\n",
       " Timestamp('2023-05-07 10:00:00'),\n",
       " Timestamp('2023-03-01 15:30:00'),\n",
       " Timestamp('2022-12-01 17:30:00'),\n",
       " Timestamp('2023-03-01 21:30:00'),\n",
       " Timestamp('2023-01-15 20:30:00'),\n",
       " Timestamp('2023-02-24 00:30:00'),\n",
       " Timestamp('2023-03-29 14:00:00'),\n",
       " Timestamp('2022-12-07 00:00:00'),\n",
       " Timestamp('2023-02-16 14:30:00'),\n",
       " Timestamp('2023-01-07 00:00:00'),\n",
       " Timestamp('2023-04-23 10:30:00'),\n",
       " Timestamp('2023-02-24 16:30:00'),\n",
       " Timestamp('2023-01-22 13:30:00'),\n",
       " Timestamp('2023-02-22 06:30:00'),\n",
       " Timestamp('2023-01-05 11:00:00'),\n",
       " Timestamp('2023-02-21 00:00:00'),\n",
       " Timestamp('2023-03-05 06:30:00'),\n",
       " Timestamp('2023-03-19 11:00:00'),\n",
       " Timestamp('2023-02-01 13:30:00'),\n",
       " Timestamp('2023-04-18 21:00:00'),\n",
       " Timestamp('2022-12-31 01:30:00'),\n",
       " Timestamp('2023-01-23 14:30:00'),\n",
       " Timestamp('2023-03-21 12:30:00'),\n",
       " Timestamp('2023-01-03 03:00:00'),\n",
       " Timestamp('2023-02-23 09:00:00'),\n",
       " Timestamp('2023-01-30 08:00:00'),\n",
       " Timestamp('2023-01-16 08:00:00'),\n",
       " Timestamp('2022-12-31 18:30:00'),\n",
       " Timestamp('2023-01-29 13:30:00'),\n",
       " Timestamp('2022-12-28 12:00:00'),\n",
       " Timestamp('2023-01-30 01:30:00'),\n",
       " Timestamp('2023-04-06 12:00:00'),\n",
       " Timestamp('2023-04-24 19:30:00'),\n",
       " Timestamp('2023-05-07 06:30:00'),\n",
       " Timestamp('2023-04-23 11:30:00'),\n",
       " Timestamp('2023-01-16 01:30:00'),\n",
       " Timestamp('2022-12-04 20:00:00'),\n",
       " Timestamp('2023-01-27 11:30:00'),\n",
       " Timestamp('2023-03-20 18:00:00'),\n",
       " Timestamp('2023-01-11 07:00:00'),\n",
       " Timestamp('2023-03-01 19:00:00'),\n",
       " Timestamp('2022-12-18 13:00:00'),\n",
       " Timestamp('2023-05-05 11:30:00'),\n",
       " Timestamp('2023-02-23 13:30:00'),\n",
       " Timestamp('2023-04-14 00:00:00'),\n",
       " Timestamp('2023-04-03 02:30:00'),\n",
       " Timestamp('2023-04-13 11:00:00'),\n",
       " Timestamp('2023-03-15 11:00:00'),\n",
       " Timestamp('2023-01-23 15:00:00'),\n",
       " Timestamp('2023-03-01 23:30:00'),\n",
       " Timestamp('2023-01-17 14:00:00'),\n",
       " Timestamp('2023-03-17 10:30:00'),\n",
       " Timestamp('2023-02-02 15:00:00'),\n",
       " Timestamp('2023-02-22 00:30:00'),\n",
       " Timestamp('2023-04-03 11:00:00'),\n",
       " Timestamp('2023-04-18 15:00:00'),\n",
       " Timestamp('2023-02-02 14:30:00'),\n",
       " Timestamp('2023-02-16 12:00:00'),\n",
       " Timestamp('2023-03-26 15:00:00'),\n",
       " Timestamp('2022-12-30 16:30:00'),\n",
       " Timestamp('2022-12-03 17:00:00'),\n",
       " Timestamp('2023-04-19 08:30:00'),\n",
       " Timestamp('2023-04-24 09:30:00'),\n",
       " Timestamp('2023-01-10 22:30:00'),\n",
       " Timestamp('2023-03-04 00:30:00'),\n",
       " Timestamp('2022-12-31 10:00:00'),\n",
       " Timestamp('2023-02-24 04:30:00'),\n",
       " Timestamp('2023-01-28 09:00:00'),\n",
       " Timestamp('2023-02-23 07:30:00'),\n",
       " Timestamp('2023-03-22 20:00:00'),\n",
       " Timestamp('2023-01-11 07:30:00'),\n",
       " Timestamp('2023-02-26 08:30:00'),\n",
       " Timestamp('2023-03-23 16:30:00'),\n",
       " Timestamp('2023-02-16 13:30:00'),\n",
       " Timestamp('2023-04-03 10:00:00'),\n",
       " Timestamp('2023-01-15 17:00:00'),\n",
       " Timestamp('2023-04-01 12:30:00'),\n",
       " Timestamp('2023-04-14 03:00:00'),\n",
       " Timestamp('2023-04-24 10:00:00'),\n",
       " Timestamp('2023-01-17 17:30:00'),\n",
       " Timestamp('2023-01-21 07:30:00'),\n",
       " Timestamp('2023-04-03 20:00:00'),\n",
       " Timestamp('2023-02-21 00:30:00'),\n",
       " Timestamp('2022-12-04 15:30:00'),\n",
       " Timestamp('2023-02-23 20:30:00'),\n",
       " Timestamp('2023-04-16 12:00:00'),\n",
       " Timestamp('2023-04-03 22:00:00'),\n",
       " Timestamp('2022-12-28 20:00:00'),\n",
       " Timestamp('2023-01-26 17:30:00'),\n",
       " Timestamp('2023-02-03 10:00:00'),\n",
       " Timestamp('2023-02-12 11:00:00'),\n",
       " Timestamp('2023-01-19 13:00:00'),\n",
       " Timestamp('2022-12-04 16:30:00'),\n",
       " Timestamp('2023-03-04 12:30:00'),\n",
       " Timestamp('2023-01-01 23:00:00'),\n",
       " Timestamp('2023-01-03 05:30:00'),\n",
       " Timestamp('2023-03-23 16:00:00'),\n",
       " Timestamp('2023-03-19 13:00:00'),\n",
       " Timestamp('2022-12-16 11:30:00'),\n",
       " Timestamp('2023-01-16 10:30:00'),\n",
       " Timestamp('2022-12-30 12:30:00'),\n",
       " Timestamp('2023-03-29 13:30:00'),\n",
       " Timestamp('2022-12-18 11:00:00'),\n",
       " Timestamp('2023-01-16 00:00:00'),\n",
       " Timestamp('2023-05-08 10:00:00'),\n",
       " Timestamp('2023-01-08 14:00:00'),\n",
       " Timestamp('2023-03-21 16:30:00'),\n",
       " Timestamp('2023-03-26 16:00:00'),\n",
       " Timestamp('2023-03-29 12:30:00'),\n",
       " Timestamp('2023-01-29 04:00:00'),\n",
       " Timestamp('2023-02-05 10:30:00'),\n",
       " Timestamp('2023-02-23 08:00:00'),\n",
       " Timestamp('2022-12-18 13:30:00'),\n",
       " Timestamp('2023-01-11 01:30:00'),\n",
       " Timestamp('2023-04-12 15:30:00'),\n",
       " Timestamp('2022-12-05 18:30:00'),\n",
       " Timestamp('2022-12-26 13:00:00'),\n",
       " Timestamp('2023-03-10 10:00:00'),\n",
       " Timestamp('2022-12-23 10:30:00'),\n",
       " Timestamp('2023-02-17 11:30:00'),\n",
       " Timestamp('2023-04-13 13:00:00'),\n",
       " Timestamp('2023-04-21 10:00:00'),\n",
       " Timestamp('2023-03-15 20:30:00'),\n",
       " Timestamp('2023-01-02 04:30:00'),\n",
       " Timestamp('2023-02-27 23:00:00'),\n",
       " Timestamp('2023-03-01 18:00:00'),\n",
       " Timestamp('2023-03-10 10:30:00'),\n",
       " Timestamp('2023-01-14 22:00:00'),\n",
       " Timestamp('2023-03-23 13:00:00'),\n",
       " Timestamp('2023-04-14 07:00:00'),\n",
       " Timestamp('2022-12-04 01:00:00'),\n",
       " Timestamp('2022-12-28 04:30:00'),\n",
       " Timestamp('2023-04-13 10:00:00'),\n",
       " Timestamp('2022-12-07 13:30:00'),\n",
       " Timestamp('2023-05-05 10:00:00'),\n",
       " Timestamp('2023-01-01 13:30:00'),\n",
       " Timestamp('2023-01-17 02:30:00'),\n",
       " Timestamp('2023-04-13 19:00:00'),\n",
       " Timestamp('2022-12-01 11:00:00'),\n",
       " Timestamp('2023-01-14 19:00:00'),\n",
       " Timestamp('2023-01-29 00:00:00'),\n",
       " Timestamp('2023-05-04 05:30:00'),\n",
       " Timestamp('2023-01-10 23:30:00'),\n",
       " Timestamp('2023-01-17 06:00:00'),\n",
       " Timestamp('2023-03-01 15:00:00'),\n",
       " Timestamp('2022-12-04 17:00:00'),\n",
       " Timestamp('2022-12-07 16:00:00'),\n",
       " Timestamp('2023-02-04 10:00:00'),\n",
       " Timestamp('2023-03-26 21:30:00'),\n",
       " Timestamp('2023-02-14 22:30:00'),\n",
       " Timestamp('2023-05-07 01:00:00'),\n",
       " Timestamp('2023-01-16 09:30:00'),\n",
       " Timestamp('2023-04-19 04:30:00'),\n",
       " Timestamp('2022-12-23 02:00:00'),\n",
       " Timestamp('2023-01-29 07:30:00'),\n",
       " Timestamp('2023-02-26 08:00:00'),\n",
       " Timestamp('2023-02-16 15:30:00'),\n",
       " Timestamp('2023-02-24 14:30:00'),\n",
       " Timestamp('2022-12-17 09:30:00'),\n",
       " Timestamp('2023-03-30 19:00:00'),\n",
       " Timestamp('2023-01-16 04:00:00'),\n",
       " Timestamp('2023-01-16 18:00:00'),\n",
       " Timestamp('2023-01-14 15:00:00'),\n",
       " Timestamp('2023-03-04 18:00:00'),\n",
       " Timestamp('2023-01-16 02:00:00'),\n",
       " Timestamp('2022-12-20 10:00:00'),\n",
       " Timestamp('2023-03-15 02:30:00'),\n",
       " Timestamp('2023-02-14 18:00:00'),\n",
       " Timestamp('2023-04-23 09:30:00'),\n",
       " Timestamp('2023-02-10 13:00:00'),\n",
       " Timestamp('2023-01-21 08:30:00'),\n",
       " Timestamp('2023-02-21 19:00:00'),\n",
       " Timestamp('2023-03-12 19:00:00'),\n",
       " Timestamp('2023-03-15 22:30:00'),\n",
       " Timestamp('2023-01-06 15:00:00'),\n",
       " Timestamp('2023-01-07 01:00:00'),\n",
       " Timestamp('2023-04-03 20:30:00'),\n",
       " Timestamp('2023-05-02 14:30:00'),\n",
       " Timestamp('2023-01-29 03:30:00'),\n",
       " Timestamp('2023-03-08 12:00:00'),\n",
       " Timestamp('2022-12-19 11:30:00'),\n",
       " Timestamp('2023-04-16 10:30:00'),\n",
       " Timestamp('2023-03-18 14:30:00'),\n",
       " Timestamp('2023-01-30 17:30:00'),\n",
       " Timestamp('2022-12-26 11:30:00'),\n",
       " Timestamp('2023-01-16 12:00:00'),\n",
       " Timestamp('2023-01-15 23:30:00'),\n",
       " Timestamp('2023-03-15 18:30:00'),\n",
       " Timestamp('2023-01-16 17:00:00'),\n",
       " Timestamp('2023-02-23 11:00:00'),\n",
       " Timestamp('2022-12-20 13:00:00'),\n",
       " Timestamp('2023-02-27 01:30:00'),\n",
       " Timestamp('2023-04-03 09:00:00'),\n",
       " Timestamp('2023-03-01 09:00:00'),\n",
       " Timestamp('2023-03-20 16:00:00'),\n",
       " Timestamp('2023-04-13 05:30:00'),\n",
       " Timestamp('2023-01-30 05:00:00'),\n",
       " Timestamp('2023-03-26 21:00:00'),\n",
       " Timestamp('2023-03-13 11:00:00'),\n",
       " Timestamp('2023-01-13 14:00:00'),\n",
       " Timestamp('2023-02-12 14:30:00'),\n",
       " Timestamp('2023-01-01 23:30:00'),\n",
       " Timestamp('2023-05-07 12:00:00'),\n",
       " Timestamp('2023-01-28 20:00:00'),\n",
       " Timestamp('2023-04-03 09:30:00'),\n",
       " Timestamp('2022-12-20 10:30:00'),\n",
       " Timestamp('2023-03-26 15:30:00'),\n",
       " Timestamp('2023-01-09 12:00:00'),\n",
       " Timestamp('2023-02-20 22:00:00'),\n",
       " Timestamp('2023-02-24 01:00:00'),\n",
       " Timestamp('2023-01-28 11:00:00'),\n",
       " Timestamp('2023-05-05 09:30:00'),\n",
       " Timestamp('2022-12-28 15:00:00'),\n",
       " Timestamp('2023-05-07 11:30:00'),\n",
       " Timestamp('2022-12-01 18:30:00'),\n",
       " Timestamp('2022-12-06 17:00:00'),\n",
       " Timestamp('2023-01-08 10:30:00'),\n",
       " Timestamp('2023-01-31 12:00:00'),\n",
       " Timestamp('2023-04-22 08:30:00'),\n",
       " Timestamp('2023-03-26 23:30:00'),\n",
       " Timestamp('2023-04-19 06:30:00'),\n",
       " Timestamp('2023-01-29 06:00:00'),\n",
       " Timestamp('2023-03-03 11:30:00'),\n",
       " Timestamp('2023-04-14 09:30:00'),\n",
       " Timestamp('2022-12-07 15:00:00'),\n",
       " Timestamp('2023-01-26 19:30:00'),\n",
       " Timestamp('2022-12-05 06:30:00'),\n",
       " Timestamp('2023-01-06 09:00:00'),\n",
       " Timestamp('2023-04-03 21:00:00'),\n",
       " Timestamp('2023-01-16 01:00:00'),\n",
       " Timestamp('2022-12-12 04:00:00'),\n",
       " Timestamp('2023-03-14 11:30:00'),\n",
       " Timestamp('2022-12-19 14:30:00'),\n",
       " Timestamp('2022-12-19 15:00:00'),\n",
       " Timestamp('2023-03-12 06:00:00'),\n",
       " Timestamp('2023-03-23 09:00:00'),\n",
       " Timestamp('2023-04-04 00:00:00'),\n",
       " Timestamp('2023-01-29 05:00:00'),\n",
       " Timestamp('2022-12-31 19:00:00'),\n",
       " Timestamp('2022-12-07 22:30:00'),\n",
       " Timestamp('2023-04-03 00:30:00'),\n",
       " Timestamp('2023-03-04 20:00:00'),\n",
       " Timestamp('2023-02-21 03:30:00'),\n",
       " Timestamp('2023-03-15 00:00:00'),\n",
       " Timestamp('2023-04-18 16:30:00'),\n",
       " Timestamp('2023-01-30 17:00:00'),\n",
       " Timestamp('2022-12-26 13:30:00'),\n",
       " Timestamp('2023-03-04 18:30:00'),\n",
       " Timestamp('2023-01-06 13:00:00'),\n",
       " Timestamp('2023-02-23 23:00:00'),\n",
       " Timestamp('2023-02-01 15:00:00'),\n",
       " Timestamp('2023-02-28 11:30:00'),\n",
       " Timestamp('2023-02-25 13:30:00'),\n",
       " Timestamp('2023-02-26 09:00:00'),\n",
       " Timestamp('2023-03-08 10:00:00'),\n",
       " Timestamp('2023-05-03 19:00:00'),\n",
       " Timestamp('2023-01-01 17:30:00'),\n",
       " Timestamp('2023-02-25 12:00:00'),\n",
       " Timestamp('2023-04-25 09:00:00'),\n",
       " Timestamp('2023-01-06 08:30:00'),\n",
       " Timestamp('2023-01-11 08:00:00'),\n",
       " Timestamp('2023-01-30 08:30:00'),\n",
       " Timestamp('2023-01-22 15:00:00'),\n",
       " Timestamp('2023-01-08 07:30:00'),\n",
       " Timestamp('2023-01-29 23:00:00'),\n",
       " Timestamp('2023-04-13 09:00:00'),\n",
       " Timestamp('2023-04-16 14:00:00'),\n",
       " Timestamp('2023-04-22 22:30:00'),\n",
       " Timestamp('2023-04-08 11:30:00'),\n",
       " Timestamp('2023-04-01 23:30:00'),\n",
       " Timestamp('2022-12-12 09:00:00'),\n",
       " Timestamp('2023-02-25 08:30:00'),\n",
       " Timestamp('2023-04-14 07:30:00'),\n",
       " Timestamp('2023-04-03 07:00:00'),\n",
       " Timestamp('2023-03-15 19:00:00'),\n",
       " Timestamp('2023-04-23 06:30:00'),\n",
       " Timestamp('2023-02-02 12:30:00'),\n",
       " Timestamp('2023-03-29 13:00:00'),\n",
       " Timestamp('2022-12-28 07:00:00'),\n",
       " Timestamp('2023-03-28 15:00:00'),\n",
       " Timestamp('2023-01-16 07:00:00'),\n",
       " Timestamp('2023-04-14 00:30:00'),\n",
       " Timestamp('2022-12-19 12:30:00'),\n",
       " Timestamp('2023-01-01 11:30:00'),\n",
       " Timestamp('2023-03-20 10:30:00'),\n",
       " Timestamp('2023-01-17 03:30:00'),\n",
       " Timestamp('2023-05-07 05:30:00'),\n",
       " Timestamp('2023-01-01 12:30:00'),\n",
       " Timestamp('2023-02-05 13:30:00'),\n",
       " Timestamp('2023-01-28 09:30:00'),\n",
       " Timestamp('2023-03-18 12:00:00'),\n",
       " Timestamp('2023-05-08 10:30:00'),\n",
       " Timestamp('2023-01-30 11:00:00'),\n",
       " Timestamp('2022-12-03 10:30:00'),\n",
       " Timestamp('2022-12-28 14:30:00'),\n",
       " Timestamp('2022-12-15 10:00:00'),\n",
       " Timestamp('2023-03-14 23:00:00'),\n",
       " Timestamp('2023-01-21 08:00:00'),\n",
       " Timestamp('2023-04-03 11:30:00'),\n",
       " Timestamp('2023-04-16 11:30:00'),\n",
       " Timestamp('2023-01-16 02:30:00'),\n",
       " Timestamp('2023-01-01 20:00:00'),\n",
       " Timestamp('2023-01-08 11:30:00'),\n",
       " Timestamp('2023-02-20 19:00:00'),\n",
       " Timestamp('2023-02-02 12:00:00'),\n",
       " Timestamp('2022-12-23 13:30:00'),\n",
       " Timestamp('2023-02-01 13:00:00'),\n",
       " Timestamp('2023-04-22 23:30:00'),\n",
       " Timestamp('2023-01-06 23:00:00'),\n",
       " Timestamp('2023-05-02 12:30:00'),\n",
       " Timestamp('2023-03-15 13:30:00'),\n",
       " Timestamp('2023-04-13 12:00:00'),\n",
       " Timestamp('2023-04-13 07:30:00'),\n",
       " Timestamp('2022-12-28 04:00:00'),\n",
       " Timestamp('2023-02-26 07:30:00'),\n",
       " Timestamp('2023-04-03 15:30:00'),\n",
       " Timestamp('2023-01-16 17:30:00'),\n",
       " Timestamp('2023-01-06 13:30:00'),\n",
       " Timestamp('2022-12-02 01:00:00'),\n",
       " Timestamp('2023-02-16 15:00:00'),\n",
       " Timestamp('2023-03-01 11:00:00'),\n",
       " Timestamp('2023-05-07 06:00:00'),\n",
       " Timestamp('2023-03-26 22:00:00'),\n",
       " Timestamp('2023-01-02 06:00:00'),\n",
       " Timestamp('2023-01-11 01:00:00'),\n",
       " Timestamp('2023-02-15 01:00:00'),\n",
       " Timestamp('2023-03-14 12:30:00'),\n",
       " Timestamp('2023-02-25 13:00:00'),\n",
       " Timestamp('2022-12-07 14:00:00'),\n",
       " Timestamp('2023-01-10 19:00:00'),\n",
       " Timestamp('2023-02-14 23:30:00'),\n",
       " Timestamp('2022-12-12 03:00:00'),\n",
       " Timestamp('2023-02-22 01:00:00'),\n",
       " Timestamp('2023-02-07 12:00:00'),\n",
       " Timestamp('2023-01-21 22:30:00'),\n",
       " Timestamp('2023-05-06 04:00:00'),\n",
       " Timestamp('2023-01-30 01:00:00'),\n",
       " Timestamp('2023-02-21 22:00:00'),\n",
       " Timestamp('2022-12-16 11:00:00'),\n",
       " Timestamp('2023-01-02 08:00:00'),\n",
       " Timestamp('2023-04-13 09:30:00'),\n",
       " Timestamp('2023-01-28 05:00:00'),\n",
       " Timestamp('2023-01-02 05:00:00'),\n",
       " Timestamp('2023-02-25 12:30:00'),\n",
       " Timestamp('2023-01-15 09:30:00'),\n",
       " Timestamp('2023-01-14 16:30:00'),\n",
       " Timestamp('2023-01-29 00:30:00'),\n",
       " Timestamp('2023-04-14 02:00:00'),\n",
       " Timestamp('2023-03-14 11:00:00'),\n",
       " Timestamp('2023-01-07 14:00:00'),\n",
       " Timestamp('2023-03-14 14:00:00'),\n",
       " Timestamp('2023-04-14 03:30:00'),\n",
       " Timestamp('2023-01-03 04:30:00'),\n",
       " Timestamp('2023-03-06 21:00:00'),\n",
       " Timestamp('2023-02-10 12:30:00'),\n",
       " Timestamp('2023-03-01 13:00:00'),\n",
       " Timestamp('2023-03-29 19:00:00'),\n",
       " Timestamp('2022-12-26 12:30:00'),\n",
       " Timestamp('2023-03-27 01:30:00'),\n",
       " Timestamp('2023-05-08 18:00:00'),\n",
       " Timestamp('2023-01-30 05:30:00'),\n",
       " Timestamp('2023-04-03 23:00:00'),\n",
       " Timestamp('2022-12-04 22:00:00'),\n",
       " Timestamp('2023-01-10 21:30:00'),\n",
       " Timestamp('2023-01-03 10:30:00'),\n",
       " Timestamp('2023-03-01 12:00:00'),\n",
       " Timestamp('2022-12-12 10:30:00'),\n",
       " Timestamp('2023-04-14 05:00:00'),\n",
       " Timestamp('2023-04-12 20:30:00'),\n",
       " Timestamp('2023-01-29 05:30:00'),\n",
       " Timestamp('2023-01-03 01:00:00'),\n",
       " Timestamp('2023-01-04 19:30:00'),\n",
       " Timestamp('2023-01-21 11:00:00'),\n",
       " Timestamp('2022-11-30 09:30:00'),\n",
       " Timestamp('2023-01-02 13:30:00'),\n",
       " Timestamp('2023-01-10 18:00:00'),\n",
       " Timestamp('2022-12-06 17:30:00'),\n",
       " Timestamp('2022-12-26 09:30:00'),\n",
       " Timestamp('2023-02-01 12:00:00'),\n",
       " Timestamp('2022-12-12 07:00:00'),\n",
       " Timestamp('2022-12-12 04:30:00'),\n",
       " Timestamp('2023-02-21 22:30:00'),\n",
       " Timestamp('2023-03-15 17:00:00'),\n",
       " Timestamp('2023-01-17 00:30:00'),\n",
       " Timestamp('2023-01-26 19:00:00'),\n",
       " Timestamp('2022-12-07 22:00:00'),\n",
       " Timestamp('2022-12-24 04:30:00'),\n",
       " Timestamp('2023-02-23 19:30:00'),\n",
       " Timestamp('2023-03-30 08:00:00'),\n",
       " Timestamp('2023-01-03 06:00:00'),\n",
       " Timestamp('2023-03-23 14:30:00'),\n",
       " Timestamp('2022-12-30 13:30:00'),\n",
       " Timestamp('2023-02-23 15:00:00'),\n",
       " Timestamp('2023-04-03 13:30:00'),\n",
       " Timestamp('2023-01-27 18:30:00'),\n",
       " Timestamp('2023-02-12 15:30:00'),\n",
       " Timestamp('2023-01-02 07:00:00'),\n",
       " Timestamp('2023-03-06 22:00:00'),\n",
       " Timestamp('2023-01-02 11:00:00'),\n",
       " Timestamp('2023-01-28 07:00:00'),\n",
       " Timestamp('2023-01-30 10:30:00'),\n",
       " Timestamp('2023-04-13 12:30:00'),\n",
       " Timestamp('2023-04-16 10:00:00'),\n",
       " Timestamp('2023-01-15 16:00:00'),\n",
       " Timestamp('2023-01-16 00:30:00'),\n",
       " Timestamp('2023-04-12 18:30:00'),\n",
       " Timestamp('2023-01-17 02:00:00'),\n",
       " Timestamp('2023-02-27 23:30:00'),\n",
       " Timestamp('2022-11-30 13:30:00'),\n",
       " Timestamp('2023-01-29 03:00:00'),\n",
       " Timestamp('2023-01-30 07:30:00'),\n",
       " Timestamp('2023-02-10 13:30:00'),\n",
       " Timestamp('2023-01-15 07:00:00'),\n",
       " Timestamp('2022-12-01 10:00:00'),\n",
       " Timestamp('2023-01-05 12:30:00'),\n",
       " Timestamp('2023-03-20 14:00:00'),\n",
       " Timestamp('2023-01-06 11:00:00'),\n",
       " Timestamp('2023-03-20 11:30:00'),\n",
       " Timestamp('2023-02-24 13:00:00'),\n",
       " Timestamp('2023-01-06 19:00:00'),\n",
       " Timestamp('2023-04-14 04:00:00'),\n",
       " Timestamp('2023-03-04 16:30:00'),\n",
       " Timestamp('2022-12-05 19:30:00'),\n",
       " Timestamp('2023-03-19 14:00:00'),\n",
       " Timestamp('2022-12-27 12:00:00'),\n",
       " Timestamp('2023-01-16 08:30:00'),\n",
       " Timestamp('2022-12-28 14:00:00'),\n",
       " Timestamp('2022-12-21 01:30:00'),\n",
       " Timestamp('2023-04-19 03:00:00'),\n",
       " Timestamp('2023-03-15 16:30:00'),\n",
       " Timestamp('2023-01-06 19:30:00'),\n",
       " Timestamp('2023-01-27 09:00:00'),\n",
       " Timestamp('2023-02-12 15:00:00'),\n",
       " Timestamp('2022-12-12 09:30:00'),\n",
       " Timestamp('2023-02-03 12:00:00'),\n",
       " Timestamp('2022-12-27 18:00:00'),\n",
       " Timestamp('2022-12-31 15:00:00'),\n",
       " Timestamp('2023-01-28 20:30:00'),\n",
       " Timestamp('2023-03-01 19:30:00'),\n",
       " Timestamp('2023-01-14 20:30:00'),\n",
       " Timestamp('2023-01-14 21:30:00'),\n",
       " Timestamp('2023-05-02 10:30:00'),\n",
       " Timestamp('2022-12-18 12:00:00'),\n",
       " Timestamp('2023-01-23 16:00:00'),\n",
       " Timestamp('2023-03-15 00:30:00'),\n",
       " Timestamp('2023-03-20 11:00:00'),\n",
       " Timestamp('2023-03-18 15:00:00'),\n",
       " Timestamp('2023-04-19 02:30:00'),\n",
       " Timestamp('2023-04-01 12:00:00'),\n",
       " Timestamp('2023-04-13 08:00:00'),\n",
       " Timestamp('2023-04-19 03:30:00'),\n",
       " Timestamp('2023-03-28 12:00:00'),\n",
       " Timestamp('2023-01-14 12:00:00'),\n",
       " Timestamp('2023-03-15 15:30:00'),\n",
       " Timestamp('2023-01-10 23:00:00'),\n",
       " Timestamp('2022-12-01 22:00:00'),\n",
       " Timestamp('2023-04-13 05:00:00'),\n",
       " Timestamp('2022-12-28 13:30:00'),\n",
       " Timestamp('2023-04-13 04:30:00'),\n",
       " Timestamp('2023-04-23 08:30:00'),\n",
       " Timestamp('2023-04-01 13:30:00'),\n",
       " Timestamp('2022-11-30 10:00:00'),\n",
       " Timestamp('2023-04-03 01:30:00'),\n",
       " Timestamp('2023-01-15 05:00:00'),\n",
       " Timestamp('2023-02-09 22:00:00'),\n",
       " Timestamp('2022-12-04 21:00:00'),\n",
       " Timestamp('2023-04-02 19:30:00'),\n",
       " Timestamp('2023-01-17 13:30:00'),\n",
       " Timestamp('2022-12-31 14:30:00'),\n",
       " Timestamp('2023-04-21 19:00:00'),\n",
       " Timestamp('2023-04-07 18:00:00'),\n",
       " Timestamp('2023-01-28 23:30:00'),\n",
       " Timestamp('2023-01-01 08:30:00'),\n",
       " Timestamp('2023-03-30 21:30:00'),\n",
       " Timestamp('2023-03-12 12:00:00'),\n",
       " Timestamp('2023-04-19 09:30:00'),\n",
       " Timestamp('2023-01-21 10:00:00'),\n",
       " Timestamp('2023-03-08 10:30:00'),\n",
       " Timestamp('2022-12-01 17:00:00'),\n",
       " Timestamp('2023-01-14 20:00:00'),\n",
       " Timestamp('2023-01-03 09:00:00'),\n",
       " Timestamp('2023-04-02 06:30:00'),\n",
       " Timestamp('2023-02-23 16:30:00'),\n",
       " Timestamp('2023-01-06 14:00:00'),\n",
       " Timestamp('2023-01-29 11:30:00'),\n",
       " Timestamp('2023-04-21 10:30:00'),\n",
       " Timestamp('2023-03-30 09:00:00'),\n",
       " Timestamp('2023-02-23 21:00:00'),\n",
       " Timestamp('2022-12-12 01:00:00'),\n",
       " Timestamp('2023-02-01 14:30:00'),\n",
       " Timestamp('2023-04-23 11:00:00'),\n",
       " Timestamp('2023-03-23 15:30:00'),\n",
       " Timestamp('2023-04-13 07:00:00'),\n",
       " Timestamp('2022-12-30 12:00:00'),\n",
       " Timestamp('2023-04-24 13:00:00'),\n",
       " Timestamp('2023-04-12 20:00:00'),\n",
       " Timestamp('2022-12-19 14:00:00'),\n",
       " Timestamp('2023-02-23 08:30:00'),\n",
       " Timestamp('2023-01-15 07:30:00'),\n",
       " Timestamp('2023-01-01 13:00:00'),\n",
       " Timestamp('2023-01-01 12:00:00'),\n",
       " Timestamp('2023-03-20 21:00:00'),\n",
       " Timestamp('2023-04-19 12:30:00'),\n",
       " Timestamp('2023-01-16 06:30:00'),\n",
       " Timestamp('2023-02-06 02:00:00'),\n",
       " Timestamp('2023-03-03 21:00:00'),\n",
       " Timestamp('2023-02-24 03:30:00'),\n",
       " Timestamp('2023-03-15 16:00:00'),\n",
       " Timestamp('2022-12-03 22:30:00'),\n",
       " Timestamp('2023-01-30 10:00:00'),\n",
       " Timestamp('2023-05-06 21:30:00'),\n",
       " Timestamp('2023-04-13 19:30:00'),\n",
       " Timestamp('2023-03-30 07:00:00'),\n",
       " Timestamp('2023-01-30 09:30:00'),\n",
       " Timestamp('2023-04-13 06:00:00'),\n",
       " Timestamp('2023-01-30 11:30:00'),\n",
       " Timestamp('2023-04-03 10:30:00'),\n",
       " Timestamp('2022-12-03 15:30:00'),\n",
       " Timestamp('2023-03-12 18:30:00'),\n",
       " Timestamp('2023-03-22 20:30:00'),\n",
       " Timestamp('2022-12-09 11:00:00'),\n",
       " Timestamp('2023-02-24 05:00:00'),\n",
       " Timestamp('2022-12-05 03:30:00'),\n",
       " Timestamp('2022-12-31 01:00:00'),\n",
       " Timestamp('2023-05-08 19:30:00'),\n",
       " Timestamp('2023-03-26 17:00:00'),\n",
       " Timestamp('2022-12-12 05:00:00'),\n",
       " Timestamp('2022-12-28 11:30:00'),\n",
       " Timestamp('2023-04-03 14:00:00'),\n",
       " Timestamp('2023-01-16 16:30:00'),\n",
       " Timestamp('2023-03-15 19:30:00'),\n",
       " Timestamp('2023-02-14 22:00:00'),\n",
       " Timestamp('2022-12-30 23:00:00'),\n",
       " Timestamp('2023-03-01 16:00:00'),\n",
       " Timestamp('2023-03-23 14:00:00'),\n",
       " Timestamp('2023-04-19 09:00:00'),\n",
       " Timestamp('2023-02-07 14:00:00'),\n",
       " Timestamp('2023-01-01 17:00:00'),\n",
       " Timestamp('2023-03-14 19:00:00'),\n",
       " Timestamp('2023-03-15 22:00:00'),\n",
       " Timestamp('2023-02-23 21:30:00'),\n",
       " Timestamp('2023-01-14 23:00:00'),\n",
       " Timestamp('2023-04-13 02:00:00'),\n",
       " Timestamp('2022-12-28 03:30:00'),\n",
       " Timestamp('2023-01-09 18:00:00'),\n",
       " Timestamp('2022-12-01 19:00:00'),\n",
       " Timestamp('2023-03-12 04:30:00'),\n",
       " Timestamp('2023-02-10 11:30:00'),\n",
       " Timestamp('2023-03-25 19:30:00'),\n",
       " Timestamp('2023-01-01 14:30:00'),\n",
       " Timestamp('2023-03-13 12:00:00'),\n",
       " Timestamp('2023-01-17 05:00:00'),\n",
       " Timestamp('2023-02-23 16:00:00'),\n",
       " Timestamp('2023-02-23 14:30:00'),\n",
       " Timestamp('2023-03-14 22:30:00'),\n",
       " Timestamp('2022-12-17 13:30:00'),\n",
       " Timestamp('2023-04-18 21:30:00'),\n",
       " Timestamp('2023-01-18 06:00:00'),\n",
       " Timestamp('2023-03-12 11:30:00'),\n",
       " Timestamp('2023-03-15 13:00:00'),\n",
       " Timestamp('2023-01-27 18:00:00'),\n",
       " Timestamp('2023-04-12 15:00:00'),\n",
       " Timestamp('2023-03-04 14:00:00'),\n",
       " Timestamp('2023-01-22 13:00:00'),\n",
       " Timestamp('2023-01-30 16:00:00'),\n",
       " Timestamp('2023-03-15 21:00:00'),\n",
       " Timestamp('2022-12-06 04:00:00'),\n",
       " Timestamp('2023-01-14 10:00:00'),\n",
       " Timestamp('2022-12-06 20:30:00'),\n",
       " Timestamp('2023-03-23 11:00:00'),\n",
       " Timestamp('2023-01-20 10:00:00'),\n",
       " Timestamp('2023-01-15 10:00:00'),\n",
       " Timestamp('2022-12-05 23:00:00'),\n",
       " Timestamp('2023-01-21 10:30:00'),\n",
       " Timestamp('2023-01-14 11:00:00'),\n",
       " Timestamp('2023-04-16 12:30:00'),\n",
       " Timestamp('2022-12-28 10:00:00'),\n",
       " Timestamp('2022-12-26 10:30:00'),\n",
       " Timestamp('2023-04-21 09:30:00'),\n",
       " Timestamp('2023-05-06 08:00:00'),\n",
       " Timestamp('2023-01-03 02:30:00'),\n",
       " Timestamp('2023-02-22 07:30:00'),\n",
       " Timestamp('2023-01-27 19:00:00'),\n",
       " Timestamp('2022-12-27 21:00:00'),\n",
       " Timestamp('2023-05-01 16:30:00'),\n",
       " Timestamp('2023-05-07 10:30:00'),\n",
       " Timestamp('2023-03-04 00:00:00'),\n",
       " Timestamp('2023-02-04 11:30:00'),\n",
       " Timestamp('2022-12-12 02:00:00'),\n",
       " Timestamp('2023-04-26 01:30:00'),\n",
       " Timestamp('2022-12-23 12:00:00'),\n",
       " Timestamp('2023-05-06 21:00:00'),\n",
       " Timestamp('2023-03-06 09:30:00'),\n",
       " Timestamp('2023-04-12 12:30:00'),\n",
       " Timestamp('2023-03-10 05:00:00'),\n",
       " Timestamp('2023-04-07 20:00:00'),\n",
       " Timestamp('2022-12-03 19:00:00'),\n",
       " Timestamp('2023-02-21 21:30:00'),\n",
       " Timestamp('2023-02-14 13:30:00'),\n",
       " Timestamp('2023-01-03 09:30:00'),\n",
       " Timestamp('2023-02-02 13:00:00'),\n",
       " Timestamp('2023-02-21 01:30:00'),\n",
       " Timestamp('2023-02-23 15:30:00'),\n",
       " Timestamp('2022-12-05 18:00:00'),\n",
       " Timestamp('2023-04-14 11:30:00'),\n",
       " Timestamp('2023-01-06 03:30:00'),\n",
       " Timestamp('2023-02-04 09:00:00'),\n",
       " Timestamp('2022-12-25 10:30:00'),\n",
       " Timestamp('2023-02-10 14:00:00'),\n",
       " Timestamp('2023-05-06 05:30:00'),\n",
       " Timestamp('2022-12-04 13:30:00'),\n",
       " Timestamp('2023-01-16 05:30:00'),\n",
       " Timestamp('2023-03-20 19:30:00'),\n",
       " Timestamp('2023-04-14 11:00:00'),\n",
       " Timestamp('2023-02-27 10:30:00'),\n",
       " Timestamp('2022-12-28 17:00:00'),\n",
       " Timestamp('2023-03-01 11:30:00'),\n",
       " Timestamp('2023-03-29 19:30:00'),\n",
       " Timestamp('2022-12-12 06:00:00'),\n",
       " Timestamp('2023-01-15 19:00:00'),\n",
       " Timestamp('2023-02-17 14:00:00'),\n",
       " Timestamp('2023-02-17 12:00:00'),\n",
       " Timestamp('2023-04-01 13:00:00'),\n",
       " Timestamp('2023-03-03 12:30:00'),\n",
       " Timestamp('2023-03-14 13:30:00'),\n",
       " Timestamp('2023-01-17 14:30:00'),\n",
       " Timestamp('2023-03-14 13:00:00'),\n",
       " Timestamp('2023-04-04 03:30:00'),\n",
       " Timestamp('2023-03-04 19:00:00'),\n",
       " Timestamp('2023-03-19 13:30:00'),\n",
       " Timestamp('2022-12-17 13:00:00'),\n",
       " Timestamp('2023-04-16 13:00:00'),\n",
       " Timestamp('2022-12-04 12:00:00'),\n",
       " Timestamp('2023-03-28 16:00:00'),\n",
       " Timestamp('2023-04-24 12:00:00'),\n",
       " Timestamp('2023-04-23 01:00:00'),\n",
       " Timestamp('2023-04-24 11:00:00'),\n",
       " Timestamp('2023-03-15 10:30:00'),\n",
       " Timestamp('2023-02-24 06:00:00'),\n",
       " Timestamp('2023-02-24 00:00:00'),\n",
       " Timestamp('2023-01-30 22:00:00'),\n",
       " Timestamp('2023-03-26 18:00:00'),\n",
       " Timestamp('2022-12-04 04:00:00'),\n",
       " Timestamp('2023-01-02 04:00:00'),\n",
       " Timestamp('2023-01-12 14:30:00'),\n",
       " Timestamp('2023-03-26 16:30:00'),\n",
       " Timestamp('2023-03-30 05:30:00'),\n",
       " ...}"
      ]
     },
     "execution_count": 12,
     "metadata": {},
     "output_type": "execute_result"
    }
   ],
   "source": [
    "downvalley_nobs_times\n",
    "upvalley_nobs_times"
   ]
  },
  {
   "cell_type": "code",
   "execution_count": 13,
   "metadata": {},
   "outputs": [
    {
     "data": {
      "text/html": [
       "\n",
       "<style>\n",
       "  #altair-viz-bab0f147acf24548ba2a1a2421e09949.vega-embed {\n",
       "    width: 100%;\n",
       "    display: flex;\n",
       "  }\n",
       "\n",
       "  #altair-viz-bab0f147acf24548ba2a1a2421e09949.vega-embed details,\n",
       "  #altair-viz-bab0f147acf24548ba2a1a2421e09949.vega-embed details summary {\n",
       "    position: relative;\n",
       "  }\n",
       "</style>\n",
       "<div id=\"altair-viz-bab0f147acf24548ba2a1a2421e09949\"></div>\n",
       "<script type=\"text/javascript\">\n",
       "  var VEGA_DEBUG = (typeof VEGA_DEBUG == \"undefined\") ? {} : VEGA_DEBUG;\n",
       "  (function(spec, embedOpt){\n",
       "    let outputDiv = document.currentScript.previousElementSibling;\n",
       "    if (outputDiv.id !== \"altair-viz-bab0f147acf24548ba2a1a2421e09949\") {\n",
       "      outputDiv = document.getElementById(\"altair-viz-bab0f147acf24548ba2a1a2421e09949\");\n",
       "    }\n",
       "    const paths = {\n",
       "      \"vega\": \"https://cdn.jsdelivr.net/npm/vega@5?noext\",\n",
       "      \"vega-lib\": \"https://cdn.jsdelivr.net/npm/vega-lib?noext\",\n",
       "      \"vega-lite\": \"https://cdn.jsdelivr.net/npm/vega-lite@5.20.1?noext\",\n",
       "      \"vega-embed\": \"https://cdn.jsdelivr.net/npm/vega-embed@6?noext\",\n",
       "    };\n",
       "\n",
       "    function maybeLoadScript(lib, version) {\n",
       "      var key = `${lib.replace(\"-\", \"\")}_version`;\n",
       "      return (VEGA_DEBUG[key] == version) ?\n",
       "        Promise.resolve(paths[lib]) :\n",
       "        new Promise(function(resolve, reject) {\n",
       "          var s = document.createElement('script');\n",
       "          document.getElementsByTagName(\"head\")[0].appendChild(s);\n",
       "          s.async = true;\n",
       "          s.onload = () => {\n",
       "            VEGA_DEBUG[key] = version;\n",
       "            return resolve(paths[lib]);\n",
       "          };\n",
       "          s.onerror = () => reject(`Error loading script: ${paths[lib]}`);\n",
       "          s.src = paths[lib];\n",
       "        });\n",
       "    }\n",
       "\n",
       "    function showError(err) {\n",
       "      outputDiv.innerHTML = `<div class=\"error\" style=\"color:red;\">${err}</div>`;\n",
       "      throw err;\n",
       "    }\n",
       "\n",
       "    function displayChart(vegaEmbed) {\n",
       "      vegaEmbed(outputDiv, spec, embedOpt)\n",
       "        .catch(err => showError(`Javascript Error: ${err.message}<br>This usually means there's a typo in your chart specification. See the javascript console for the full traceback.`));\n",
       "    }\n",
       "\n",
       "    if(typeof define === \"function\" && define.amd) {\n",
       "      requirejs.config({paths});\n",
       "      require([\"vega-embed\"], displayChart, err => showError(`Error loading script: ${err.message}`));\n",
       "    } else {\n",
       "      maybeLoadScript(\"vega\", \"5\")\n",
       "        .then(() => maybeLoadScript(\"vega-lite\", \"5.20.1\"))\n",
       "        .then(() => maybeLoadScript(\"vega-embed\", \"6\"))\n",
       "        .catch(showError)\n",
       "        .then(() => displayChart(vegaEmbed));\n",
       "    }\n",
       "  })({\"config\": {\"view\": {\"continuousWidth\": 300, \"continuousHeight\": 300}}, \"hconcat\": [{\"data\": {\"url\": \"altair-data-f5e29b1d9f30981e68e5d7fb70d014db.json\", \"format\": {\"type\": \"json\"}}, \"mark\": {\"type\": \"bar\"}, \"encoding\": {\"x\": {\"field\": \"time\", \"timeUnit\": \"hours\", \"type\": \"temporal\"}, \"y\": {\"aggregate\": \"count\", \"type\": \"quantitative\"}}, \"title\": \"Downvalley, No BS Times\"}, {\"data\": {\"url\": \"altair-data-f7064f3df986de02cca3d7434f70eb3e.json\", \"format\": {\"type\": \"json\"}}, \"mark\": {\"type\": \"bar\"}, \"encoding\": {\"x\": {\"field\": \"time\", \"timeUnit\": \"hours\", \"type\": \"temporal\"}, \"y\": {\"aggregate\": \"count\", \"type\": \"quantitative\"}}, \"title\": \"Upvalley, No BS Times\"}], \"resolve\": {\"scale\": {\"y\": \"shared\"}}, \"$schema\": \"https://vega.github.io/schema/vega-lite/v5.20.1.json\"}, {\"mode\": \"vega-lite\"});\n",
       "</script>"
      ],
      "text/plain": [
       "alt.HConcatChart(...)"
      ]
     },
     "execution_count": 13,
     "metadata": {},
     "output_type": "execute_result"
    }
   ],
   "source": [
    "(   alt.Chart(pd.DataFrame(downvalley_nobs_times, columns=['time'])).mark_bar().encode(\n",
    "        alt.X('hours(time):T'),\n",
    "        alt.Y('count()')\n",
    "    ).properties(title='Downvalley, No BS Times') |\n",
    "    alt.Chart(pd.DataFrame(upvalley_nobs_times, columns=['time'])).mark_bar().encode(\n",
    "        alt.X('hours(time):T'),\n",
    "        alt.Y('count()')\n",
    "    ).properties(title='Upvalley, No BS Times')\n",
    ").resolve_scale(y='shared')"
   ]
  },
  {
   "cell_type": "markdown",
   "metadata": {},
   "source": [
    "# Compare Vertical velocities for the two datasets (10-sector PF vs normal PF)"
   ]
  },
  {
   "cell_type": "code",
   "execution_count": 14,
   "metadata": {},
   "outputs": [],
   "source": [
    "w_chart_all_data = (\n",
    "    alt.Chart(\n",
    "        tidy_df.query(\"measurement == 'w'\").query(\"tower == 'c'\").query(\"height > 1\")\n",
    "    ).mark_line().encode(\n",
    "        alt.X('hoursminutes(time):T'),\n",
    "        alt.Y('mean(value):Q'),\n",
    "        alt.Color('height:O')\n",
    "    ).properties(width=200, height=200, title = 'Planar fit with 10 sectors') \n",
    "    # | \n",
    "    # alt.Chart(\n",
    "    #     tidy_df_single_pf.query(\"measurement == 'w'\").query(\"tower == 'c'\").query(\"height > 1\")\n",
    "    # ).mark_line().encode(\n",
    "    #     alt.X('hoursminutes(time):T'),\n",
    "    #     alt.Y('mean(value):Q'),\n",
    "    #     alt.Color('height:O').scale(scheme='turbo')\n",
    "    # ).properties(width=200, height=200, title = 'Planar Fit')\n",
    ").resolve_scale(y='shared', x='shared', color='shared').properties(title= \"All Data\")"
   ]
  },
  {
   "cell_type": "code",
   "execution_count": 15,
   "metadata": {},
   "outputs": [],
   "source": [
    "w_chart_upvalley_winds = (\n",
    "    alt.Chart(\n",
    "        tidy_df[tidy_df.time.isin(upvalley_wind_times)].query(\"measurement == 'w'\").query(\"tower == 'c'\").query(\"height > 1\")\n",
    "    ).mark_line().encode(\n",
    "        alt.X('hours(time):T'),\n",
    "        alt.Y('median(value):Q'),\n",
    "        alt.Color('height:O')\n",
    "    ).properties(width=200, height=200, title='Planar fit with 10 sectors') \n",
    "    # | \n",
    "    # alt.Chart(\n",
    "    #     tidy_df_single_pf[tidy_df_single_pf.time.isin(upvalley_wind_times)].query(\"measurement == 'w'\").query(\"tower == 'c'\").query(\"height > 1\")\n",
    "    # ).mark_line().encode(\n",
    "    #     alt.X('hours(time):T'),\n",
    "    #     alt.Y('median(value):Q'),\n",
    "    #     alt.Color('height:O').scale(scheme='turbo')\n",
    "    # ).properties(width=200, height=200, title='Planar Fit')\n",
    ").resolve_scale(y='shared', x='shared', color='shared').properties(title= \"During Upvalley Winds\")"
   ]
  },
  {
   "cell_type": "code",
   "execution_count": 16,
   "metadata": {},
   "outputs": [
    {
     "data": {
      "text/html": [
       "\n",
       "<style>\n",
       "  #altair-viz-0d44aabf89a049fbb9cfc2f8f9a489b3.vega-embed {\n",
       "    width: 100%;\n",
       "    display: flex;\n",
       "  }\n",
       "\n",
       "  #altair-viz-0d44aabf89a049fbb9cfc2f8f9a489b3.vega-embed details,\n",
       "  #altair-viz-0d44aabf89a049fbb9cfc2f8f9a489b3.vega-embed details summary {\n",
       "    position: relative;\n",
       "  }\n",
       "</style>\n",
       "<div id=\"altair-viz-0d44aabf89a049fbb9cfc2f8f9a489b3\"></div>\n",
       "<script type=\"text/javascript\">\n",
       "  var VEGA_DEBUG = (typeof VEGA_DEBUG == \"undefined\") ? {} : VEGA_DEBUG;\n",
       "  (function(spec, embedOpt){\n",
       "    let outputDiv = document.currentScript.previousElementSibling;\n",
       "    if (outputDiv.id !== \"altair-viz-0d44aabf89a049fbb9cfc2f8f9a489b3\") {\n",
       "      outputDiv = document.getElementById(\"altair-viz-0d44aabf89a049fbb9cfc2f8f9a489b3\");\n",
       "    }\n",
       "    const paths = {\n",
       "      \"vega\": \"https://cdn.jsdelivr.net/npm/vega@5?noext\",\n",
       "      \"vega-lib\": \"https://cdn.jsdelivr.net/npm/vega-lib?noext\",\n",
       "      \"vega-lite\": \"https://cdn.jsdelivr.net/npm/vega-lite@5.20.1?noext\",\n",
       "      \"vega-embed\": \"https://cdn.jsdelivr.net/npm/vega-embed@6?noext\",\n",
       "    };\n",
       "\n",
       "    function maybeLoadScript(lib, version) {\n",
       "      var key = `${lib.replace(\"-\", \"\")}_version`;\n",
       "      return (VEGA_DEBUG[key] == version) ?\n",
       "        Promise.resolve(paths[lib]) :\n",
       "        new Promise(function(resolve, reject) {\n",
       "          var s = document.createElement('script');\n",
       "          document.getElementsByTagName(\"head\")[0].appendChild(s);\n",
       "          s.async = true;\n",
       "          s.onload = () => {\n",
       "            VEGA_DEBUG[key] = version;\n",
       "            return resolve(paths[lib]);\n",
       "          };\n",
       "          s.onerror = () => reject(`Error loading script: ${paths[lib]}`);\n",
       "          s.src = paths[lib];\n",
       "        });\n",
       "    }\n",
       "\n",
       "    function showError(err) {\n",
       "      outputDiv.innerHTML = `<div class=\"error\" style=\"color:red;\">${err}</div>`;\n",
       "      throw err;\n",
       "    }\n",
       "\n",
       "    function displayChart(vegaEmbed) {\n",
       "      vegaEmbed(outputDiv, spec, embedOpt)\n",
       "        .catch(err => showError(`Javascript Error: ${err.message}<br>This usually means there's a typo in your chart specification. See the javascript console for the full traceback.`));\n",
       "    }\n",
       "\n",
       "    if(typeof define === \"function\" && define.amd) {\n",
       "      requirejs.config({paths});\n",
       "      require([\"vega-embed\"], displayChart, err => showError(`Error loading script: ${err.message}`));\n",
       "    } else {\n",
       "      maybeLoadScript(\"vega\", \"5\")\n",
       "        .then(() => maybeLoadScript(\"vega-lite\", \"5.20.1\"))\n",
       "        .then(() => maybeLoadScript(\"vega-embed\", \"6\"))\n",
       "        .catch(showError)\n",
       "        .then(() => displayChart(vegaEmbed));\n",
       "    }\n",
       "  })({\"config\": {\"view\": {\"continuousWidth\": 300, \"continuousHeight\": 300}, \"title\": {\"anchor\": \"middle\"}}, \"vconcat\": [{\"data\": {\"url\": \"altair-data-c44317092de84bfe162001cc5bca2fae.json\", \"format\": {\"type\": \"json\"}}, \"mark\": {\"type\": \"line\"}, \"encoding\": {\"color\": {\"field\": \"height\", \"type\": \"ordinal\"}, \"x\": {\"field\": \"time\", \"timeUnit\": \"hoursminutes\", \"type\": \"temporal\"}, \"y\": {\"aggregate\": \"mean\", \"field\": \"value\", \"type\": \"quantitative\"}}, \"height\": 200, \"resolve\": {\"scale\": {\"color\": \"shared\", \"x\": \"shared\", \"y\": \"shared\"}}, \"title\": \"All Data\", \"width\": 200}, {\"data\": {\"url\": \"altair-data-eb674c01ba7471a6d50400f28a37c3f6.json\", \"format\": {\"type\": \"json\"}}, \"mark\": {\"type\": \"line\"}, \"encoding\": {\"color\": {\"field\": \"height\", \"type\": \"ordinal\"}, \"x\": {\"field\": \"time\", \"timeUnit\": \"hours\", \"type\": \"temporal\"}, \"y\": {\"aggregate\": \"median\", \"field\": \"value\", \"type\": \"quantitative\"}}, \"height\": 200, \"resolve\": {\"scale\": {\"color\": \"shared\", \"x\": \"shared\", \"y\": \"shared\"}}, \"title\": \"During Upvalley Winds\", \"width\": 200}], \"$schema\": \"https://vega.github.io/schema/vega-lite/v5.20.1.json\"}, {\"mode\": \"vega-lite\"});\n",
       "</script>"
      ],
      "text/plain": [
       "alt.VConcatChart(...)"
      ]
     },
     "execution_count": 16,
     "metadata": {},
     "output_type": "execute_result"
    }
   ],
   "source": [
    "(w_chart_all_data & w_chart_upvalley_winds).configure_title(\n",
    "    anchor='middle',\n",
    ")\n"
   ]
  },
  {
   "cell_type": "markdown",
   "metadata": {},
   "source": [
    "# Solutions for transport terms"
   ]
  },
  {
   "cell_type": "markdown",
   "metadata": {},
   "source": [
    "## Vertical advection term, 1D numerical solution\n",
    "\n",
    "$$\\overline{w} \\frac{d \\rho_v}{d z}$$"
   ]
  },
  {
   "cell_type": "markdown",
   "metadata": {},
   "source": [
    "### Collect absolute humidity data we need"
   ]
  },
  {
   "cell_type": "code",
   "execution_count": 17,
   "metadata": {},
   "outputs": [
    {
     "name": "stderr",
     "output_type": "stream",
     "text": [
      "/var/folders/x_/2h52bcjx2px15bhmdpdd748h0000gn/T/ipykernel_40732/126585096.py:3: SettingWithCopyWarning: \n",
      "A value is trying to be set on a copy of a slice from a DataFrame.\n",
      "Try using .loc[row_indexer,col_indexer] = value instead\n",
      "\n",
      "See the caveats in the documentation: https://pandas.pydata.org/pandas-docs/stable/user_guide/indexing.html#returning-a-view-versus-a-copy\n",
      "  mixing_ratio_profile_df.measurement = 'q_hygr'\n"
     ]
    }
   ],
   "source": [
    "## Isolate humidity measurements (from hygrometers)\n",
    "mixing_ratio_profile_df = tidy_df[tidy_df.measurement.isin(['mixing ratio'])]\n",
    "mixing_ratio_profile_df.measurement = 'q_hygr'\n",
    "mixing_ratio_profile_df = mixing_ratio_profile_df.pivot_table(\n",
    "    index='time', columns=['height', 'tower', 'measurement'], values='value'\n",
    ")\n",
    "\n",
    "## Isolate dry air density measurements\n",
    "dryairdensity_profile_df = pd.concat([\n",
    "    tidy_df[tidy_df.measurement.isin(['dry air density'])],\n",
    "    tidy_df[tidy_df.variable.str.contains('Tsurfdryairdensity')]\n",
    "])\n",
    "dryairdensity_profile_df.measurement = 'rho_dryair'\n",
    "dryairdensity_profile_df = dryairdensity_profile_df.pivot_table(\n",
    "    index='time', columns=['height', 'tower', 'measurement'], values='value'\n",
    ")\n",
    "\n",
    "## Calculate absolute humidity\n",
    "abs_humidity_df = mixing_ratio_profile_df.droplevel(level=2, axis=1) * dryairdensity_profile_df.droplevel(level=2, axis=1)"
   ]
  },
  {
   "cell_type": "code",
   "execution_count": 18,
   "metadata": {},
   "outputs": [],
   "source": [
    "# Combine with snow depth data\n",
    "abs_humidity_df = abs_humidity_df.melt(ignore_index=False).join(\n",
    "    tidy_df[tidy_df.variable == 'SnowDepth_c'].set_index('time')['value'].rename('snow depth')\n",
    ")\n",
    "\n",
    "# Calculate instrument height above snow surface\n",
    "abs_humidity_df['instrument_height'] = abs_humidity_df['height'] - abs_humidity_df['snow depth']\n",
    "\n",
    "# Filter out measurements that are buried in the snow\n",
    "abs_humidity_df = abs_humidity_df[\n",
    "    (abs_humidity_df['instrument_height'] > 0)\n",
    "    | (abs_humidity_df['height'] == 0)\n",
    "]\n",
    "\n",
    "abs_humidity_df['instrument_height'] = abs_humidity_df['instrument_height'].where(\n",
    "    abs_humidity_df['instrument_height'] > 0,\n",
    "    0\n",
    ")"
   ]
  },
  {
   "cell_type": "markdown",
   "metadata": {},
   "source": [
    "### Define functions to calculate gradient"
   ]
  },
  {
   "cell_type": "code",
   "execution_count": 19,
   "metadata": {},
   "outputs": [],
   "source": [
    "from sublimpy.gradients import LogPolynomialWithRoughness\n",
    "\n",
    "def calculate_abshum_gradient(\n",
    "        one_ts_groupby,\n",
    "        height4estimate,\n",
    "        Z0Q = 0.005\n",
    "    ):\n",
    "    \"\"\" \n",
    "    Calculates mixing ratio gradient from a dataframe with datetimeindex,\n",
    "    and columns `instrument_height`  and `value`, which holds mixing ratio\n",
    "    values. These calculations are done by fitting log-polynomial curve to \n",
    "    measurements of z and X where X is some measured variable.\n",
    "    We include a boundary wall condition, applying measured X at\n",
    "    roughness height (T=T_s at z=z0). We also adjust for snow depth \n",
    "    in our calculations.\n",
    "    \"\"\"    \n",
    "    heights = one_ts_groupby.sort_values('instrument_height')['instrument_height']\n",
    "    values = one_ts_groupby.sort_values('instrument_height')['value']\n",
    "\n",
    "    # USING SIMPLE NUMPY GRADIENTS\n",
    "    ########################################\n",
    "    # gradients = np.gradient(values, heights)\n",
    "    # gradients = pd.Series(\n",
    "    #     gradients, \n",
    "    #     index=one_ts_groupby.sort_values('instrument_height')['height']\n",
    "    # )\n",
    "    # return gradients.loc[height4estimate]\n",
    "    \n",
    "    # USING A FITTED LOG-LINEAR CURVE\n",
    "    ########################################\n",
    "    heights = heights.replace(0,Z0Q)\n",
    "\n",
    "    # calculate fitted loglinear parameters\n",
    "    params = LogPolynomialWithRoughness.fit_function(\n",
    "        values,\n",
    "        heights\n",
    "    )\n",
    "    values_pred = [\n",
    "        LogPolynomialWithRoughness.function(z, params[0], params[1], params[2])\n",
    "        for z in heights\n",
    "    ]\n",
    "    a = params[0]\n",
    "    b = params[1]\n",
    "    gradient = LogPolynomialWithRoughness.gradient_single_component(height4estimate, a, b)\n",
    "    return gradient"
   ]
  },
  {
   "cell_type": "code",
   "execution_count": 20,
   "metadata": {},
   "outputs": [],
   "source": [
    "def get_dabshum_dz_values_for_height(H):\n",
    "    dabshum_dz = abs_humidity_df.reset_index().swifter.groupby('time').apply(\n",
    "        lambda df: calculate_abshum_gradient(df, H)\n",
    "    )\n",
    "    return pd.DataFrame(dabshum_dz.rename('dabshum_dz'))\n",
    "\n",
    "def add_variables_to_dabshum_dz_values(H, dabshum_dz_values, tidy_df_specific_pf):\n",
    "    return dabshum_dz_values.join(\n",
    "        tidy_df_specific_pf.query(f\"variable == 'w_{H}m_c'\").set_index('time')['value'].rename('w')\n",
    "    ).join(\n",
    "        tidy_df_specific_pf.query(f\"variable == 'w_h2o__{H}m_c_gapfill'\").set_index('time')['value'].rename('w_h2o__')\n",
    "    )\n",
    "\n",
    "def calculate_transport_terms_with_dabshum_dz(H, dabshum_dz_values):\n",
    "    dabshum_dz_values['vertical_advection'] = dabshum_dz_values['w']*dabshum_dz_values['dabshum_dz']*1000\n",
    "    return dabshum_dz_values\n",
    "\n",
    "def get_advection_and_cumsum_df(H, tidy_df_specific_pf):\n",
    "    df = get_dabshum_dz_values_for_height(H)\n",
    "    df = add_variables_to_dabshum_dz_values(H, df, tidy_df_specific_pf) \n",
    "    df = calculate_transport_terms_with_dabshum_dz(H, df)\n",
    "    cumsum_df = df.loc['20221130': '20230509']\n",
    "    return df, cumsum_df\n"
   ]
  },
  {
   "cell_type": "markdown",
   "metadata": {},
   "source": [
    "### Calculate gradient for all timestamps\n",
    "Tower measurements at all heights >= 2"
   ]
  },
  {
   "cell_type": "code",
   "execution_count": 21,
   "metadata": {},
   "outputs": [
    {
     "data": {
      "application/vnd.jupyter.widget-view+json": {
       "model_id": "d112eed319f844a1b5b4f84d99ac3789",
       "version_major": 2,
       "version_minor": 0
      },
      "text/plain": [
       "  0%|          | 0/22 [00:00<?, ?it/s]"
      ]
     },
     "metadata": {},
     "output_type": "display_data"
    },
    {
     "name": "stderr",
     "output_type": "stream",
     "text": [
      "2025-05-14 12:46:20,582\tINFO worker.py:1781 -- Started a local Ray instance.\n"
     ]
    },
    {
     "data": {
      "application/vnd.jupyter.widget-view+json": {
       "model_id": "d9ff6887b4c84153814a7272617b654c",
       "version_major": 2,
       "version_minor": 0
      },
      "text/plain": [
       "  0%|          | 0/22 [00:00<?, ?it/s]"
      ]
     },
     "metadata": {},
     "output_type": "display_data"
    },
    {
     "data": {
      "application/vnd.jupyter.widget-view+json": {
       "model_id": "e3786dfdbc054aec82a5da05c1e742ea",
       "version_major": 2,
       "version_minor": 0
      },
      "text/plain": [
       "  0%|          | 0/22 [00:00<?, ?it/s]"
      ]
     },
     "metadata": {},
     "output_type": "display_data"
    },
    {
     "data": {
      "application/vnd.jupyter.widget-view+json": {
       "model_id": "2e689e1db79c4bd3909f9007ab051eaa",
       "version_major": 2,
       "version_minor": 0
      },
      "text/plain": [
       "  0%|          | 0/22 [00:00<?, ?it/s]"
      ]
     },
     "metadata": {},
     "output_type": "display_data"
    },
    {
     "data": {
      "application/vnd.jupyter.widget-view+json": {
       "model_id": "92e5077d0d0c4d669b94385dbb5b4c11",
       "version_major": 2,
       "version_minor": 0
      },
      "text/plain": [
       "  0%|          | 0/22 [00:00<?, ?it/s]"
      ]
     },
     "metadata": {},
     "output_type": "display_data"
    },
    {
     "data": {
      "application/vnd.jupyter.widget-view+json": {
       "model_id": "10e6a30381aa45d19bfaa116a1cdaa62",
       "version_major": 2,
       "version_minor": 0
      },
      "text/plain": [
       "  0%|          | 0/22 [00:00<?, ?it/s]"
      ]
     },
     "metadata": {},
     "output_type": "display_data"
    },
    {
     "data": {
      "application/vnd.jupyter.widget-view+json": {
       "model_id": "30b81f3cf2704386bf1276ead5133d0d",
       "version_major": 2,
       "version_minor": 0
      },
      "text/plain": [
       "  0%|          | 0/22 [00:00<?, ?it/s]"
      ]
     },
     "metadata": {},
     "output_type": "display_data"
    },
    {
     "data": {
      "application/vnd.jupyter.widget-view+json": {
       "model_id": "91fb9e3e70ec461a835a69be7706b386",
       "version_major": 2,
       "version_minor": 0
      },
      "text/plain": [
       "  0%|          | 0/22 [00:00<?, ?it/s]"
      ]
     },
     "metadata": {},
     "output_type": "display_data"
    },
    {
     "data": {
      "application/vnd.jupyter.widget-view+json": {
       "model_id": "18dc6d5d27464352b02bad0c10cd399f",
       "version_major": 2,
       "version_minor": 0
      },
      "text/plain": [
       "  0%|          | 0/22 [00:00<?, ?it/s]"
      ]
     },
     "metadata": {},
     "output_type": "display_data"
    },
    {
     "data": {
      "application/vnd.jupyter.widget-view+json": {
       "model_id": "b6e0025152844cf58d9c387bff460c71",
       "version_major": 2,
       "version_minor": 0
      },
      "text/plain": [
       "  0%|          | 0/22 [00:00<?, ?it/s]"
      ]
     },
     "metadata": {},
     "output_type": "display_data"
    },
    {
     "data": {
      "application/vnd.jupyter.widget-view+json": {
       "model_id": "e8c42611f566409ba57da5e16c2a32fd",
       "version_major": 2,
       "version_minor": 0
      },
      "text/plain": [
       "  0%|          | 0/22 [00:00<?, ?it/s]"
      ]
     },
     "metadata": {},
     "output_type": "display_data"
    },
    {
     "data": {
      "application/vnd.jupyter.widget-view+json": {
       "model_id": "c7da2958d02948999a65dab83c8d80ba",
       "version_major": 2,
       "version_minor": 0
      },
      "text/plain": [
       "  0%|          | 0/22 [00:00<?, ?it/s]"
      ]
     },
     "metadata": {},
     "output_type": "display_data"
    },
    {
     "data": {
      "application/vnd.jupyter.widget-view+json": {
       "model_id": "3a362264be9f4880ace6c7aaeb3df7d9",
       "version_major": 2,
       "version_minor": 0
      },
      "text/plain": [
       "  0%|          | 0/22 [00:00<?, ?it/s]"
      ]
     },
     "metadata": {},
     "output_type": "display_data"
    },
    {
     "data": {
      "application/vnd.jupyter.widget-view+json": {
       "model_id": "b37619a3ebbc4fc69ef7ed5b02c54e87",
       "version_major": 2,
       "version_minor": 0
      },
      "text/plain": [
       "  0%|          | 0/22 [00:00<?, ?it/s]"
      ]
     },
     "metadata": {},
     "output_type": "display_data"
    },
    {
     "data": {
      "application/vnd.jupyter.widget-view+json": {
       "model_id": "915f34aa4c4b4ba7ad08279e2b81a325",
       "version_major": 2,
       "version_minor": 0
      },
      "text/plain": [
       "  0%|          | 0/22 [00:00<?, ?it/s]"
      ]
     },
     "metadata": {},
     "output_type": "display_data"
    },
    {
     "data": {
      "application/vnd.jupyter.widget-view+json": {
       "model_id": "4626784da4f54a14858cdb77dcb8070a",
       "version_major": 2,
       "version_minor": 0
      },
      "text/plain": [
       "  0%|          | 0/22 [00:00<?, ?it/s]"
      ]
     },
     "metadata": {},
     "output_type": "display_data"
    },
    {
     "data": {
      "application/vnd.jupyter.widget-view+json": {
       "model_id": "09dfb9d13ee048d0bc8380e67dbf6a3e",
       "version_major": 2,
       "version_minor": 0
      },
      "text/plain": [
       "  0%|          | 0/22 [00:00<?, ?it/s]"
      ]
     },
     "metadata": {},
     "output_type": "display_data"
    },
    {
     "data": {
      "application/vnd.jupyter.widget-view+json": {
       "model_id": "c162d3b183a14af89b8019d6426666ab",
       "version_major": 2,
       "version_minor": 0
      },
      "text/plain": [
       "  0%|          | 0/22 [00:00<?, ?it/s]"
      ]
     },
     "metadata": {},
     "output_type": "display_data"
    },
    {
     "data": {
      "application/vnd.jupyter.widget-view+json": {
       "model_id": "3f3f44ef6df4468db2975e19673bd563",
       "version_major": 2,
       "version_minor": 0
      },
      "text/plain": [
       "  0%|          | 0/22 [00:00<?, ?it/s]"
      ]
     },
     "metadata": {},
     "output_type": "display_data"
    }
   ],
   "source": [
    "dabshum_dz_values_for_height = dict()\n",
    "for H in range(2,21):\n",
    "    dabshum_dz_values_for_height[H] = get_advection_and_cumsum_df(H, tidy_df)"
   ]
  },
  {
   "cell_type": "code",
   "execution_count": 22,
   "metadata": {},
   "outputs": [],
   "source": [
    "vertical_advection_estimates = pd.concat([\n",
    "    df[0].assign(height = H) for (H, df) in dabshum_dz_values_for_height.items()\n",
    "])"
   ]
  },
  {
   "cell_type": "markdown",
   "metadata": {},
   "source": [
    "## Vertical advection of dry air term, 1D numerical solution \n",
    "$$\\rho_v \\frac{d \\overline{w}}{d z}$$"
   ]
  },
  {
   "cell_type": "markdown",
   "metadata": {},
   "source": [
    "### Collect w data we need"
   ]
  },
  {
   "cell_type": "code",
   "execution_count": 23,
   "metadata": {},
   "outputs": [],
   "source": [
    "w_profile_df = tidy_df[tidy_df.measurement.isin(['w'])].query(\"tower == 'c'\")\n",
    "w_profile_df.measurement = 'w'\n",
    "w_profile_df = w_profile_df.pivot_table(\n",
    "    index='time', columns=['height', 'tower', 'measurement'], values='value'\n",
    ")\n",
    "\n",
    "# add zero velocity at 0\n",
    "w_profile_df.loc[:, (0, 'c', 'w')] = 0"
   ]
  },
  {
   "cell_type": "code",
   "execution_count": 24,
   "metadata": {},
   "outputs": [],
   "source": [
    "# Combine with snow depth data\n",
    "w_profile_df = w_profile_df.melt(ignore_index=False).join(\n",
    "    tidy_df[tidy_df.variable == 'SnowDepth_c'].set_index('time')['value'].rename('snow depth')\n",
    ")\n",
    "\n",
    "# Calculate instrument height above snow surface\n",
    "w_profile_df['instrument_height'] = w_profile_df['height'] - w_profile_df['snow depth']\n",
    "\n",
    "# Filter out measurements that are buried in the snow\n",
    "w_profile_df = w_profile_df[\n",
    "    (w_profile_df['instrument_height'] > 0)\n",
    "    | (w_profile_df['height'] == 0)\n",
    "]\n",
    "\n",
    "w_profile_df['instrument_height'] = w_profile_df['instrument_height'].where(\n",
    "    w_profile_df['instrument_height'] > 0,\n",
    "    0\n",
    ")"
   ]
  },
  {
   "cell_type": "code",
   "execution_count": 25,
   "metadata": {},
   "outputs": [],
   "source": [
    "def get_dw_dz_values_for_height(H):\n",
    "    dw_dz = w_profile_df.reset_index().swifter.groupby('time').apply(\n",
    "        lambda df: calculate_abshum_gradient(df, H)\n",
    "    )\n",
    "    return pd.DataFrame(dw_dz.rename('dw_dz'))\n",
    "\n",
    "def add_variables_to_dw_dz_values(H, dabshum_dz_values, tidy_df_specific_pf):\n",
    "    return dabshum_dz_values.join(\n",
    "        abs_humidity_df.query(\"height == 3\")['value'].rename('abshum')\n",
    "    )\n",
    "\n",
    "def calculate_transport_terms_with_dw_dz(H, dsigma_dz_values):\n",
    "    dsigma_dz_values['dryairvertical_advection'] = dsigma_dz_values['abshum']*dsigma_dz_values['dw_dz']*1000\n",
    "    return dsigma_dz_values\n",
    "\n",
    "def get_dryairadvection_and_cumsum_df(H, tidy_df_specific_pf):\n",
    "    df = get_dw_dz_values_for_height(H)\n",
    "    df = add_variables_to_dw_dz_values(H, df, tidy_df_specific_pf) \n",
    "    df = calculate_transport_terms_with_dw_dz(H, df)\n",
    "    cumsum_df = df.loc['20221130': '20230509']\n",
    "    return df, cumsum_df\n"
   ]
  },
  {
   "cell_type": "code",
   "execution_count": 26,
   "metadata": {},
   "outputs": [
    {
     "data": {
      "application/vnd.jupyter.widget-view+json": {
       "model_id": "14305f113b784428952ce951fd23ff4c",
       "version_major": 2,
       "version_minor": 0
      },
      "text/plain": [
       "  0%|          | 0/22 [00:00<?, ?it/s]"
      ]
     },
     "metadata": {},
     "output_type": "display_data"
    },
    {
     "data": {
      "application/vnd.jupyter.widget-view+json": {
       "model_id": "da9f66d45dfc4f26b589eae408493e42",
       "version_major": 2,
       "version_minor": 0
      },
      "text/plain": [
       "  0%|          | 0/22 [00:00<?, ?it/s]"
      ]
     },
     "metadata": {},
     "output_type": "display_data"
    },
    {
     "data": {
      "application/vnd.jupyter.widget-view+json": {
       "model_id": "15c2a4e19209459fb656b6b00ed2480d",
       "version_major": 2,
       "version_minor": 0
      },
      "text/plain": [
       "  0%|          | 0/22 [00:00<?, ?it/s]"
      ]
     },
     "metadata": {},
     "output_type": "display_data"
    },
    {
     "data": {
      "application/vnd.jupyter.widget-view+json": {
       "model_id": "68d481fab9764744b97b74181f12d05e",
       "version_major": 2,
       "version_minor": 0
      },
      "text/plain": [
       "  0%|          | 0/22 [00:00<?, ?it/s]"
      ]
     },
     "metadata": {},
     "output_type": "display_data"
    },
    {
     "data": {
      "application/vnd.jupyter.widget-view+json": {
       "model_id": "bbc01b2037d940f3b6b85d01e49f54c9",
       "version_major": 2,
       "version_minor": 0
      },
      "text/plain": [
       "  0%|          | 0/22 [00:00<?, ?it/s]"
      ]
     },
     "metadata": {},
     "output_type": "display_data"
    },
    {
     "data": {
      "application/vnd.jupyter.widget-view+json": {
       "model_id": "19682c98f6a940f286d8fccb52247cdf",
       "version_major": 2,
       "version_minor": 0
      },
      "text/plain": [
       "  0%|          | 0/22 [00:00<?, ?it/s]"
      ]
     },
     "metadata": {},
     "output_type": "display_data"
    },
    {
     "data": {
      "application/vnd.jupyter.widget-view+json": {
       "model_id": "ab4a17949b26440f9c1d39681db3b36f",
       "version_major": 2,
       "version_minor": 0
      },
      "text/plain": [
       "  0%|          | 0/22 [00:00<?, ?it/s]"
      ]
     },
     "metadata": {},
     "output_type": "display_data"
    },
    {
     "data": {
      "application/vnd.jupyter.widget-view+json": {
       "model_id": "916de21b35c640a79dec3f83dcb52b84",
       "version_major": 2,
       "version_minor": 0
      },
      "text/plain": [
       "  0%|          | 0/22 [00:00<?, ?it/s]"
      ]
     },
     "metadata": {},
     "output_type": "display_data"
    },
    {
     "data": {
      "application/vnd.jupyter.widget-view+json": {
       "model_id": "813889cd958b44c28bbfdb233bc81eae",
       "version_major": 2,
       "version_minor": 0
      },
      "text/plain": [
       "  0%|          | 0/22 [00:00<?, ?it/s]"
      ]
     },
     "metadata": {},
     "output_type": "display_data"
    },
    {
     "data": {
      "application/vnd.jupyter.widget-view+json": {
       "model_id": "1a8e8047fcaa4b12b0dd35460fd57c30",
       "version_major": 2,
       "version_minor": 0
      },
      "text/plain": [
       "  0%|          | 0/22 [00:00<?, ?it/s]"
      ]
     },
     "metadata": {},
     "output_type": "display_data"
    },
    {
     "data": {
      "application/vnd.jupyter.widget-view+json": {
       "model_id": "773d32797a7441d793e788c94de45199",
       "version_major": 2,
       "version_minor": 0
      },
      "text/plain": [
       "  0%|          | 0/22 [00:00<?, ?it/s]"
      ]
     },
     "metadata": {},
     "output_type": "display_data"
    },
    {
     "data": {
      "application/vnd.jupyter.widget-view+json": {
       "model_id": "db3ab680d6444279b792e1179495d900",
       "version_major": 2,
       "version_minor": 0
      },
      "text/plain": [
       "  0%|          | 0/22 [00:00<?, ?it/s]"
      ]
     },
     "metadata": {},
     "output_type": "display_data"
    },
    {
     "data": {
      "application/vnd.jupyter.widget-view+json": {
       "model_id": "c826cb5d22e5405a92288550c3afad5a",
       "version_major": 2,
       "version_minor": 0
      },
      "text/plain": [
       "  0%|          | 0/22 [00:00<?, ?it/s]"
      ]
     },
     "metadata": {},
     "output_type": "display_data"
    },
    {
     "data": {
      "application/vnd.jupyter.widget-view+json": {
       "model_id": "98ac6157878d4eaebd0fcc5dcf83dafb",
       "version_major": 2,
       "version_minor": 0
      },
      "text/plain": [
       "  0%|          | 0/22 [00:00<?, ?it/s]"
      ]
     },
     "metadata": {},
     "output_type": "display_data"
    },
    {
     "data": {
      "application/vnd.jupyter.widget-view+json": {
       "model_id": "b130806630d847919c1cc35d4e38e686",
       "version_major": 2,
       "version_minor": 0
      },
      "text/plain": [
       "  0%|          | 0/22 [00:00<?, ?it/s]"
      ]
     },
     "metadata": {},
     "output_type": "display_data"
    },
    {
     "data": {
      "application/vnd.jupyter.widget-view+json": {
       "model_id": "b07e791c412b4d0baa54795e33b28f86",
       "version_major": 2,
       "version_minor": 0
      },
      "text/plain": [
       "  0%|          | 0/22 [00:00<?, ?it/s]"
      ]
     },
     "metadata": {},
     "output_type": "display_data"
    },
    {
     "data": {
      "application/vnd.jupyter.widget-view+json": {
       "model_id": "92689e4ff82340458db53e3943c8567f",
       "version_major": 2,
       "version_minor": 0
      },
      "text/plain": [
       "  0%|          | 0/22 [00:00<?, ?it/s]"
      ]
     },
     "metadata": {},
     "output_type": "display_data"
    },
    {
     "data": {
      "application/vnd.jupyter.widget-view+json": {
       "model_id": "d669cd5563a0474cbdcad84456d9f366",
       "version_major": 2,
       "version_minor": 0
      },
      "text/plain": [
       "  0%|          | 0/22 [00:00<?, ?it/s]"
      ]
     },
     "metadata": {},
     "output_type": "display_data"
    },
    {
     "data": {
      "application/vnd.jupyter.widget-view+json": {
       "model_id": "200a34c2a067484890f35b9ef94b8807",
       "version_major": 2,
       "version_minor": 0
      },
      "text/plain": [
       "  0%|          | 0/22 [00:00<?, ?it/s]"
      ]
     },
     "metadata": {},
     "output_type": "display_data"
    }
   ],
   "source": [
    "dw_dz_values_for_height = dict()\n",
    "for H in range(2,21):\n",
    "    dw_dz_values_for_height[H] = get_dryairadvection_and_cumsum_df(H, tidy_df)"
   ]
  },
  {
   "cell_type": "code",
   "execution_count": 27,
   "metadata": {},
   "outputs": [],
   "source": [
    "dryairvertical_advection_estimates = pd.concat([\n",
    "    df[0].assign(height = H) for (H, df) in dw_dz_values_for_height.items()\n",
    "])"
   ]
  },
  {
   "cell_type": "code",
   "execution_count": 28,
   "metadata": {},
   "outputs": [
    {
     "data": {
      "text/html": [
       "<div>\n",
       "<style scoped>\n",
       "    .dataframe tbody tr th:only-of-type {\n",
       "        vertical-align: middle;\n",
       "    }\n",
       "\n",
       "    .dataframe tbody tr th {\n",
       "        vertical-align: top;\n",
       "    }\n",
       "\n",
       "    .dataframe thead th {\n",
       "        text-align: right;\n",
       "    }\n",
       "</style>\n",
       "<table border=\"1\" class=\"dataframe\">\n",
       "  <thead>\n",
       "    <tr style=\"text-align: right;\">\n",
       "      <th></th>\n",
       "      <th>dw_dz</th>\n",
       "      <th>abshum</th>\n",
       "      <th>dryairvertical_advection</th>\n",
       "      <th>height</th>\n",
       "    </tr>\n",
       "    <tr>\n",
       "      <th>time</th>\n",
       "      <th></th>\n",
       "      <th></th>\n",
       "      <th></th>\n",
       "      <th></th>\n",
       "    </tr>\n",
       "  </thead>\n",
       "  <tbody>\n",
       "    <tr>\n",
       "      <th>2022-11-30 00:00:00</th>\n",
       "      <td>-0.008676</td>\n",
       "      <td>0.000794</td>\n",
       "      <td>-0.006889</td>\n",
       "      <td>2</td>\n",
       "    </tr>\n",
       "    <tr>\n",
       "      <th>2022-11-30 00:30:00</th>\n",
       "      <td>0.000921</td>\n",
       "      <td>0.000844</td>\n",
       "      <td>0.000777</td>\n",
       "      <td>2</td>\n",
       "    </tr>\n",
       "    <tr>\n",
       "      <th>2022-11-30 01:00:00</th>\n",
       "      <td>-0.002669</td>\n",
       "      <td>0.000833</td>\n",
       "      <td>-0.002224</td>\n",
       "      <td>2</td>\n",
       "    </tr>\n",
       "    <tr>\n",
       "      <th>2022-11-30 01:30:00</th>\n",
       "      <td>-0.007843</td>\n",
       "      <td>0.000828</td>\n",
       "      <td>-0.006492</td>\n",
       "      <td>2</td>\n",
       "    </tr>\n",
       "    <tr>\n",
       "      <th>2022-11-30 02:00:00</th>\n",
       "      <td>0.003890</td>\n",
       "      <td>0.000856</td>\n",
       "      <td>0.003330</td>\n",
       "      <td>2</td>\n",
       "    </tr>\n",
       "    <tr>\n",
       "      <th>...</th>\n",
       "      <td>...</td>\n",
       "      <td>...</td>\n",
       "      <td>...</td>\n",
       "      <td>...</td>\n",
       "    </tr>\n",
       "    <tr>\n",
       "      <th>2023-05-08 21:30:00</th>\n",
       "      <td>-0.003660</td>\n",
       "      <td>0.002970</td>\n",
       "      <td>-0.010871</td>\n",
       "      <td>20</td>\n",
       "    </tr>\n",
       "    <tr>\n",
       "      <th>2023-05-08 22:00:00</th>\n",
       "      <td>0.000795</td>\n",
       "      <td>0.002913</td>\n",
       "      <td>0.002317</td>\n",
       "      <td>20</td>\n",
       "    </tr>\n",
       "    <tr>\n",
       "      <th>2023-05-08 22:30:00</th>\n",
       "      <td>-0.000468</td>\n",
       "      <td>0.003174</td>\n",
       "      <td>-0.001485</td>\n",
       "      <td>20</td>\n",
       "    </tr>\n",
       "    <tr>\n",
       "      <th>2023-05-08 23:00:00</th>\n",
       "      <td>0.001244</td>\n",
       "      <td>0.003204</td>\n",
       "      <td>0.003987</td>\n",
       "      <td>20</td>\n",
       "    </tr>\n",
       "    <tr>\n",
       "      <th>2023-05-08 23:30:00</th>\n",
       "      <td>0.000622</td>\n",
       "      <td>0.003163</td>\n",
       "      <td>0.001967</td>\n",
       "      <td>20</td>\n",
       "    </tr>\n",
       "  </tbody>\n",
       "</table>\n",
       "<p>145464 rows × 4 columns</p>\n",
       "</div>"
      ],
      "text/plain": [
       "                        dw_dz    abshum  dryairvertical_advection  height\n",
       "time                                                                     \n",
       "2022-11-30 00:00:00 -0.008676  0.000794                 -0.006889       2\n",
       "2022-11-30 00:30:00  0.000921  0.000844                  0.000777       2\n",
       "2022-11-30 01:00:00 -0.002669  0.000833                 -0.002224       2\n",
       "2022-11-30 01:30:00 -0.007843  0.000828                 -0.006492       2\n",
       "2022-11-30 02:00:00  0.003890  0.000856                  0.003330       2\n",
       "...                       ...       ...                       ...     ...\n",
       "2023-05-08 21:30:00 -0.003660  0.002970                 -0.010871      20\n",
       "2023-05-08 22:00:00  0.000795  0.002913                  0.002317      20\n",
       "2023-05-08 22:30:00 -0.000468  0.003174                 -0.001485      20\n",
       "2023-05-08 23:00:00  0.001244  0.003204                  0.003987      20\n",
       "2023-05-08 23:30:00  0.000622  0.003163                  0.001967      20\n",
       "\n",
       "[145464 rows x 4 columns]"
      ]
     },
     "execution_count": 28,
     "metadata": {},
     "output_type": "execute_result"
    }
   ],
   "source": [
    "dryairvertical_advection_estimates"
   ]
  },
  {
   "cell_type": "code",
   "execution_count": 29,
   "metadata": {},
   "outputs": [
    {
     "data": {
      "text/html": [
       "\n",
       "<style>\n",
       "  #altair-viz-e264802470df475ebdf5ddad5b985cda.vega-embed {\n",
       "    width: 100%;\n",
       "    display: flex;\n",
       "  }\n",
       "\n",
       "  #altair-viz-e264802470df475ebdf5ddad5b985cda.vega-embed details,\n",
       "  #altair-viz-e264802470df475ebdf5ddad5b985cda.vega-embed details summary {\n",
       "    position: relative;\n",
       "  }\n",
       "</style>\n",
       "<div id=\"altair-viz-e264802470df475ebdf5ddad5b985cda\"></div>\n",
       "<script type=\"text/javascript\">\n",
       "  var VEGA_DEBUG = (typeof VEGA_DEBUG == \"undefined\") ? {} : VEGA_DEBUG;\n",
       "  (function(spec, embedOpt){\n",
       "    let outputDiv = document.currentScript.previousElementSibling;\n",
       "    if (outputDiv.id !== \"altair-viz-e264802470df475ebdf5ddad5b985cda\") {\n",
       "      outputDiv = document.getElementById(\"altair-viz-e264802470df475ebdf5ddad5b985cda\");\n",
       "    }\n",
       "    const paths = {\n",
       "      \"vega\": \"https://cdn.jsdelivr.net/npm/vega@5?noext\",\n",
       "      \"vega-lib\": \"https://cdn.jsdelivr.net/npm/vega-lib?noext\",\n",
       "      \"vega-lite\": \"https://cdn.jsdelivr.net/npm/vega-lite@5.20.1?noext\",\n",
       "      \"vega-embed\": \"https://cdn.jsdelivr.net/npm/vega-embed@6?noext\",\n",
       "    };\n",
       "\n",
       "    function maybeLoadScript(lib, version) {\n",
       "      var key = `${lib.replace(\"-\", \"\")}_version`;\n",
       "      return (VEGA_DEBUG[key] == version) ?\n",
       "        Promise.resolve(paths[lib]) :\n",
       "        new Promise(function(resolve, reject) {\n",
       "          var s = document.createElement('script');\n",
       "          document.getElementsByTagName(\"head\")[0].appendChild(s);\n",
       "          s.async = true;\n",
       "          s.onload = () => {\n",
       "            VEGA_DEBUG[key] = version;\n",
       "            return resolve(paths[lib]);\n",
       "          };\n",
       "          s.onerror = () => reject(`Error loading script: ${paths[lib]}`);\n",
       "          s.src = paths[lib];\n",
       "        });\n",
       "    }\n",
       "\n",
       "    function showError(err) {\n",
       "      outputDiv.innerHTML = `<div class=\"error\" style=\"color:red;\">${err}</div>`;\n",
       "      throw err;\n",
       "    }\n",
       "\n",
       "    function displayChart(vegaEmbed) {\n",
       "      vegaEmbed(outputDiv, spec, embedOpt)\n",
       "        .catch(err => showError(`Javascript Error: ${err.message}<br>This usually means there's a typo in your chart specification. See the javascript console for the full traceback.`));\n",
       "    }\n",
       "\n",
       "    if(typeof define === \"function\" && define.amd) {\n",
       "      requirejs.config({paths});\n",
       "      require([\"vega-embed\"], displayChart, err => showError(`Error loading script: ${err.message}`));\n",
       "    } else {\n",
       "      maybeLoadScript(\"vega\", \"5\")\n",
       "        .then(() => maybeLoadScript(\"vega-lite\", \"5.20.1\"))\n",
       "        .then(() => maybeLoadScript(\"vega-embed\", \"6\"))\n",
       "        .catch(showError)\n",
       "        .then(() => displayChart(vegaEmbed));\n",
       "    }\n",
       "  })({\"config\": {\"view\": {\"continuousWidth\": 300, \"continuousHeight\": 300}}, \"hconcat\": [{\"data\": {\"url\": \"altair-data-4f7a8a21fd9310cdc29c7b42b8b66a37.json\", \"format\": {\"type\": \"json\"}}, \"mark\": {\"type\": \"line\"}, \"encoding\": {\"color\": {\"field\": \"height\", \"scale\": {\"scheme\": \"turbo\"}, \"type\": \"ordinal\"}, \"x\": {\"field\": \"time\", \"type\": \"temporal\"}, \"y\": {\"field\": \"vertical_advection\", \"type\": \"quantitative\"}}, \"transform\": [{\"filter\": {\"field\": \"height\", \"oneOf\": [3, 5, 10, 15, 20]}}]}, {\"data\": {\"url\": \"altair-data-ff43b37beb65bc438b3efb365ac14277.json\", \"format\": {\"type\": \"json\"}}, \"mark\": {\"type\": \"line\"}, \"encoding\": {\"color\": {\"field\": \"height\", \"scale\": {\"scheme\": \"turbo\"}, \"type\": \"ordinal\"}, \"x\": {\"field\": \"time\", \"type\": \"temporal\"}, \"y\": {\"field\": \"dryairvertical_advection\", \"type\": \"quantitative\"}}, \"transform\": [{\"filter\": {\"field\": \"height\", \"oneOf\": [3, 5, 10, 15, 20]}}]}], \"resolve\": {\"scale\": {\"x\": \"shared\", \"y\": \"shared\"}}, \"$schema\": \"https://vega.github.io/schema/vega-lite/v5.20.1.json\"}, {\"mode\": \"vega-lite\"});\n",
       "</script>"
      ],
      "text/plain": [
       "alt.HConcatChart(...)"
      ]
     },
     "execution_count": 29,
     "metadata": {},
     "output_type": "execute_result"
    }
   ],
   "source": [
    "advection_chart = alt.Chart(\n",
    "    vertical_advection_estimates.loc['20221222'].reset_index()\n",
    ").transform_filter(\n",
    "    alt.FieldOneOfPredicate('height', [3, 5, 10, 15, 20])\n",
    ").mark_line().encode(\n",
    "    alt.X('time:T'),\n",
    "    alt.Y('vertical_advection:Q'),\n",
    "    alt.Color('height:O').scale(scheme='turbo')\n",
    ")\n",
    "\n",
    "dryairadvection_chart = alt.Chart(\n",
    "    dryairvertical_advection_estimates.loc['20221222'].reset_index()\n",
    ").transform_filter(\n",
    "    alt.FieldOneOfPredicate('height', [3, 5, 10, 15, 20])\n",
    ").mark_line().encode(\n",
    "    alt.X('time:T'),\n",
    "    alt.Y('dryairvertical_advection:Q'),\n",
    "    alt.Color('height:O').scale(scheme='turbo')\n",
    ")\n",
    "\n",
    "(advection_chart | dryairadvection_chart).resolve_scale(y='shared', x='shared')"
   ]
  },
  {
   "cell_type": "markdown",
   "metadata": {},
   "source": [
    "## Horizontal advection finite difference"
   ]
  },
  {
   "cell_type": "code",
   "execution_count": null,
   "metadata": {},
   "outputs": [],
   "source": []
  },
  {
   "cell_type": "code",
   "execution_count": 30,
   "metadata": {},
   "outputs": [],
   "source": [
    "# combine absolute humidity measurements from the two sites into one dataframe \n",
    "kpsannex_abshum_measurements = abshum_ds.sortby('time').sel(\n",
    "    time=slice(data_start_date, data_cutoff_date)\n",
    ").resample(time='30min').mean().rename('annex').to_dataframe() / 1000\n",
    "\n",
    "kps_abshum_meas_3m = abs_humidity_df.query(\"height == 3\").query(\"tower == 'c'\")['value'].rename('kps_3m')\n",
    "\n",
    "kps_lateral_simple_df = kpsannex_abshum_measurements.join( kps_abshum_meas_3m )\n",
    "\n",
    "# isolate measurements to when wind is up (100˚ - 140˚) or downvalley (300 - 340)\n",
    "kps_lateral_simple_df = kps_lateral_simple_df.join(\n",
    "    tidy_df.query(\"variable == 'dir_10m_c'\").set_index('time')['value'].rename('dir_10m_c')\n",
    ").join(\n",
    "    tidy_df.query(\"variable == 'spd_3m_c'\").set_index('time')['value'].rename('spd_3m_c')\n",
    ").join(\n",
    "    1000*tidy_df.query(\"variable == 'dryairdensity_3m_c'\").set_index('time')['value'].rename('rho')\n",
    ").join(\n",
    "    tidy_df.query(\"variable == 'w_h2o__3m_c'\").set_index('time')['value'].rename('w_h2o__3m_c')\n",
    ")\n",
    "\n",
    "kps_lateral_simple_df = kps_lateral_simple_df[\n",
    "    ((kps_lateral_simple_df.dir_10m_c >= 112) & (kps_lateral_simple_df.dir_10m_c <= 152))\n",
    "    |\n",
    "    ((kps_lateral_simple_df.dir_10m_c >= 292) & (kps_lateral_simple_df.dir_10m_c <= 332))\n",
    "]\n",
    "\n",
    "# label each timestamp up or downvalley\n",
    "kps_lateral_simple_df['direction'] = kps_lateral_simple_df['dir_10m_c'].apply(lambda x: 'down' if 292 <= x <= 332 else 'up')\n",
    "# # Calculate deltas. During downvalley winds, ds = annex - kps. During up valley winds, ds = kps - annex\n",
    "\n",
    "kps_lateral_simple_df['ds_3m'] = kps_lateral_simple_df.apply(\n",
    "    lambda row: row['annex'] - row['kps_3m'] if row['direction'] == 'down' else row['kps_3m'] - row['annex'],\n",
    "    axis=1\n",
    ")\n",
    "\n",
    "kps_lateral_simple_df['dx'] = 400\n",
    "kps_lateral_simple_df['ds/dx 3m'] = kps_lateral_simple_df['ds_3m'] / kps_lateral_simple_df['dx']\n",
    "\n",
    "kps_lateral_simple_df['lateral_advection_3m'] = kps_lateral_simple_df['spd_3m_c'] * kps_lateral_simple_df['rho'] * kps_lateral_simple_df['ds/dx 3m']"
   ]
  },
  {
   "cell_type": "markdown",
   "metadata": {},
   "source": [
    "## Storage change term, finite difference"
   ]
  },
  {
   "cell_type": "code",
   "execution_count": 31,
   "metadata": {},
   "outputs": [],
   "source": [
    "ds_dt_term = (1000 * (abs_humidity_df.query(\"height > 0\").groupby('time')[['value']].mean()).diff() / (30*60))\n",
    "ds_dt_term = ds_dt_term.rename(columns={'value': 'ds/dt'})"
   ]
  },
  {
   "cell_type": "markdown",
   "metadata": {},
   "source": [
    "## Aggregate results"
   ]
  },
  {
   "cell_type": "code",
   "execution_count": 33,
   "metadata": {},
   "outputs": [],
   "source": [
    "meas_vars_df = pd.DataFrame(\n",
    "    1000*tidy_df.query(\"variable == 'dryairdensity_5m_c'\").set_index('time').loc['20221101': '20230620']['value'].rename('rho')\n",
    ").join(\n",
    "    tidy_df.query(\"variable == 'w_h2o__3m_c_gapfill'\").set_index('time').loc['20221101': '20230620']['value'].rename('w_h2o__3m_c')\n",
    ").join(\n",
    "    tidy_df.query(\"variable == 'w_h2o__2m_c_gapfill'\").set_index('time').loc['20221101': '20230620']['value'].rename('w_h2o__2m_c')\n",
    ").join(\n",
    "    tidy_df.query(\"variable == 'w_h2o__5m_c_gapfill'\").set_index('time').loc['20221101': '20230620']['value'].rename('w_h2o__5m_c')\n",
    ").join(\n",
    "    tidy_df.query(\"variable == 'w_h2o__10m_c_gapfill'\").set_index('time').loc['20221101': '20230620']['value'].rename('w_h2o__10m_c')\n",
    ").join(\n",
    "    tidy_df.query(\"variable == 'w_h2o__15m_c_gapfill'\").set_index('time').loc['20221101': '20230620']['value'].rename('w_h2o__15m_c')\n",
    ").join(\n",
    "    tidy_df.query(\"variable == 'w_h2o__20m_c_gapfill'\").set_index('time').loc['20221101': '20230620']['value'].rename('w_h2o__20m_c')\n",
    ").join(\n",
    "    tidy_df.query(\"variable == 'w_h2o__3m_c_raw'\").set_index('time').loc['20221101': '20230620']['value'].rename('w_h2o__3m_c_raw')\n",
    ").join(\n",
    "    tidy_df.query(\"variable == 'w_h2o__2m_c_raw'\").set_index('time').loc['20221101': '20230620']['value'].rename('w_h2o__2m_c_raw')\n",
    ").join(\n",
    "    tidy_df.query(\"variable == 'w_h2o__5m_c_raw'\").set_index('time').loc['20221101': '20230620']['value'].rename('w_h2o__5m_c_raw')\n",
    ").join(\n",
    "    tidy_df.query(\"variable == 'w_h2o__10m_c_raw'\").set_index('time').loc['20221101': '20230620']['value'].rename('w_h2o__10m_c_raw')\n",
    ").join(\n",
    "    tidy_df.query(\"variable == 'w_h2o__15m_c_raw'\").set_index('time').loc['20221101': '20230620']['value'].rename('w_h2o__15m_c_raw')\n",
    ").join(\n",
    "    tidy_df.query(\"variable == 'w_h2o__20m_c_raw'\").set_index('time').loc['20221101': '20230620']['value'].rename('w_h2o__20m_c_raw')\n",
    ")"
   ]
  },
  {
   "cell_type": "code",
   "execution_count": 35,
   "metadata": {},
   "outputs": [],
   "source": [
    "advection_1d_fluxdensity_nonnorm_df = meas_vars_df[[\n",
    "    'w_h2o__2m_c', 'w_h2o__3m_c', 'w_h2o__5m_c', 'w_h2o__10m_c', 'w_h2o__15m_c', 'w_h2o__20m_c',\n",
    "    'w_h2o__2m_c_raw', 'w_h2o__3m_c_raw', 'w_h2o__5m_c_raw', 'w_h2o__10m_c_raw', 'w_h2o__15m_c_raw', 'w_h2o__20m_c_raw'\n",
    "]].join(\n",
    "    kps_lateral_simple_df[['lateral_advection_3m']]\n",
    ").join(\n",
    "    ds_dt_term[['ds/dt']]\n",
    ").join(\n",
    "    vertical_advection_estimates.query(\"height == 2\")['vertical_advection'].rename('vertical_advection_numerical_2')\n",
    ").join(\n",
    "    vertical_advection_estimates.query(\"height == 3\")['vertical_advection'].rename('vertical_advection_numerical_3')\n",
    ").join(\n",
    "    vertical_advection_estimates.query(\"height == 5\")['vertical_advection'].rename('vertical_advection_numerical_5')\n",
    ").join(\n",
    "    vertical_advection_estimates.query(\"height == 10\")['vertical_advection'].rename('vertical_advection_numerical_10')\n",
    ").join(\n",
    "    vertical_advection_estimates.query(\"height == 15\")['vertical_advection'].rename('vertical_advection_numerical_15')\n",
    ").join(\n",
    "    vertical_advection_estimates.query(\"height == 20\")['vertical_advection'].rename('vertical_advection_numerical_20')\n",
    ")"
   ]
  },
  {
   "cell_type": "markdown",
   "metadata": {},
   "source": [
    "## Calculate vertical flux divergence, finite difference"
   ]
  },
  {
   "cell_type": "markdown",
   "metadata": {},
   "source": [
    "Calculate $ \\frac{\\Delta \\overline{w'q'}}{\\Delta z} $"
   ]
  },
  {
   "cell_type": "code",
   "execution_count": 36,
   "metadata": {},
   "outputs": [],
   "source": [
    "advection_1d_fluxdensity_nonnorm_df['VTFD_3to20'] = (\n",
    "    advection_1d_fluxdensity_nonnorm_df['w_h2o__20m_c_raw'] - advection_1d_fluxdensity_nonnorm_df['w_h2o__3m_c_raw']\n",
    ") / 17\n",
    "\n",
    "advection_1d_fluxdensity_nonnorm_df['VTFD_3to10'] = (\n",
    "    advection_1d_fluxdensity_nonnorm_df['w_h2o__10m_c_raw'] - advection_1d_fluxdensity_nonnorm_df['w_h2o__3m_c_raw']\n",
    ") / 7"
   ]
  },
  {
   "cell_type": "markdown",
   "metadata": {},
   "source": [
    "# Estimate uncertainty in the mixing ratio \n",
    "\n",
    "For estimating uncertainty in the vertical advection terms:\n",
    "\n",
    "$$W \\rho \\frac{d s}{d z}$$\n",
    "\n",
    "where our uncertainty in:\n",
    "* W is $\\pm$ 0.001 m/s (u and v are +/- 1mm, w is +/- 0.5mm, but w planar fitted involves u, v, and w, so we juse use 1mm/s)\n",
    "* $s$ is 0.1 g/kg ()\n",
    "* $\\rho$ is a function of P and T, where T \n",
    "  * For the Paroscientific 6000 nanobarometer, they estimate +/- 0.01% error. We commonly estimate around 700mb, so let's say +/- 0.1\n",
    "  * For the Sensirion SHT85 T measurement, manufacturer reported error is $\\pm$ 0.1\t°C\n",
    "  * For the Sensirion SHT85 RH measurement, manufacturer reported error is $\\pm$ 1.5 %\n",
    "* $\\frac{d s}{d z}$ as 0.2 g/kg (I have no idea if this is correct or makes any sense) \n",
    "then our estimate of uncertainty for the whole term is \n",
    "\n",
    "For estimating error in mixing ratio:\n",
    "\n",
    "We calculate mixing ratio from instrument measurements of pressure, temperature, relative_humidity:\n",
    "\n",
    "```\n",
    "metpy.calc.mixing_ratio_from_relative_humidity(\n",
    "  pressure,\n",
    "  temperature,\n",
    "  relative_humidity\n",
    ")\n",
    "```"
   ]
  },
  {
   "cell_type": "code",
   "execution_count": 37,
   "metadata": {},
   "outputs": [
    {
     "data": {
      "text/plain": [
       "(Timestamp('2023-01-05 14:00:00'),\n",
       " -6.661566257476807,\n",
       " 719.5869750976562,\n",
       " 64.94750213623047)"
      ]
     },
     "execution_count": 37,
     "metadata": {},
     "output_type": "execute_result"
    }
   ],
   "source": [
    "# CHOOSE OUR T, P, RH values by calculating the mean of each variable\n",
    "# P = tidy_df.query(\"variable == 'P_10m_c'\").set_index('time').value.mean()\n",
    "# T = tidy_df.query(\"variable == 'T_10m_c'\").set_index('time').value.mean()\n",
    "# RH = tidy_df.query(\"variable == 'RH_10m_c'\").set_index('time').value.mean()\n",
    "\n",
    "# CHOOSE OUR T, P, RH values by selecting a median or quantile T value, and use that same timestamp to select P and RH values\n",
    "t_values_sorted = tidy_df.query(\"variable == 'T_10m_c'\").set_index('time').value.sort_values().dropna()\n",
    "i_median = int(len(t_values_sorted) / 2)\n",
    "i_quartile_hi = int(len(t_values_sorted) / 4)\n",
    "i_quartile_hi = int(len(t_values_sorted) / 2 + len(t_values_sorted) / 4)\n",
    "i_quantile_10percent_low = int(len(t_values_sorted)*0.1)\n",
    "i_quantile_10percent_hi = int(len(t_values_sorted)*0.9)\n",
    "\n",
    "T = t_values_sorted[i_median]\n",
    "index = t_values_sorted.index[i_median]\n",
    "P = tidy_df.query(\"variable == 'P_10m_c'\").set_index('time').value.loc[index]\n",
    "RH = tidy_df.query(\"variable == 'RH_10m_c'\").set_index('time').value.loc[index]\n",
    "index, T, P, RH"
   ]
  },
  {
   "cell_type": "code",
   "execution_count": 38,
   "metadata": {},
   "outputs": [],
   "source": [
    "from uncertainties import ufloat\n",
    "import numpy as np\n",
    "\n",
    "P_mean = P  # Assuming P is already defined\n",
    "P_error = P * 0.0001\n",
    "P_std = P_error / 2  # Standard deviation of 0.01%\n",
    "\n",
    "T_mean = T  # Assuming P is already defined\n",
    "T_error = 0.1\n",
    "T_std = T_error / 2  # Standard deviation of 0.01%\n",
    "\n",
    "RH_mean = RH  # Assuming P is already defined\n",
    "RH_error = 1.5\n",
    "RH_std = RH_error / 2  # Standard deviation of 0.01%\n",
    "\n",
    "\n",
    "Samples = pd.DataFrame({\n",
    "    'P': np.random.normal(P_mean, P_std, 5000),\n",
    "    'T': np.random.normal(T_mean, T_std, 5000),\n",
    "    'RH': np.random.normal(RH_mean, RH_std, 5000),\n",
    "})"
   ]
  },
  {
   "cell_type": "code",
   "execution_count": 39,
   "metadata": {},
   "outputs": [],
   "source": [
    "P_dist = (\n",
    "    alt.Chart(Samples).mark_bar().encode(\n",
    "        alt.X('P:Q').bin(step = 0.01).title('Mean pressure (P) + random errors (millibars)').scale(nice=False),\n",
    "        alt.Y('count():Q')\n",
    "    ) + alt.Chart(Samples).mark_rule(\n",
    "        color='red', strokeWidth=2\n",
    "    ).encode(x='mean(P):Q')\n",
    ").properties(width=300, height = 100)\n",
    "T_dist = (\n",
    "    alt.Chart(Samples).mark_bar().encode(\n",
    "        alt.X('T:Q').bin(step = 0.01).title('Mean temperature (T) + random errors (˚C)').scale(nice=False),\n",
    "        alt.Y('count():Q'),\n",
    "    ) + alt.Chart(Samples).mark_rule(\n",
    "        color='red', strokeWidth=2\n",
    "    ).encode(x='mean(T):Q')\n",
    ").properties(width=300, height = 100)\n",
    "RH_dist = (\n",
    "    alt.Chart(Samples).mark_bar().encode(\n",
    "        alt.X('RH:Q').bin(step = 0.2).title('Mean relative humidity (RH) + random errors (%)').scale(nice=False),\n",
    "        alt.Y('count():Q')\n",
    "    ) + alt.Chart(Samples).mark_rule(\n",
    "        color='red', strokeWidth=2\n",
    "    ).encode(x='mean(RH):Q')\n",
    ").properties(width=300, height = 100)"
   ]
  },
  {
   "cell_type": "code",
   "execution_count": 40,
   "metadata": {},
   "outputs": [],
   "source": [
    "from metpy.calc import mixing_ratio_from_relative_humidity, density"
   ]
  },
  {
   "cell_type": "code",
   "execution_count": 41,
   "metadata": {},
   "outputs": [
    {
     "data": {
      "text/plain": [
       "0.048"
      ]
     },
     "execution_count": 41,
     "metadata": {},
     "output_type": "execute_result"
    }
   ],
   "source": [
    "Samples['s'] = Samples.apply(\n",
    "    lambda ro: mixing_ratio_from_relative_humidity(\n",
    "    ro['P']*units(\"millibars\"), ro['T']*units(\"degC\"), ro['RH']*units(\"percent\")\n",
    "    ).to(units(\"g/g\")).magnitude, \n",
    "    axis=1\n",
    ")\n",
    "Samples['rho_d'] = Samples.apply(\n",
    "    lambda ro: density(\n",
    "        ro['P']*units(\"millibars\"), ro['T']*units(\"degC\"), 0\n",
    "    ).to(units(\"g/m^3\")).magnitude, \n",
    "    axis=1\n",
    ")\n",
    "\n",
    "Samples['rho_v'] = Samples['s'] * Samples['rho_d']\n",
    "\n",
    "rho_v_2_sigma = round(2*Samples['rho_v'].std(), 3)\n",
    "rho_v_2_sigma"
   ]
  },
  {
   "cell_type": "code",
   "execution_count": 42,
   "metadata": {},
   "outputs": [],
   "source": [
    "s_dist = (\n",
    "    alt.Chart(Samples).mark_bar().encode(\n",
    "        alt.X('rho_v:Q').bin(step = 0.01).scale(nice=False).title(['Absolute humidity from Monte Carlo propagation of T, RH, P (g/m^3)']),\n",
    "        alt.Y('count():Q')\n",
    "    ) + alt.Chart(Samples).mark_rule(\n",
    "        color='red', strokeWidth=2\n",
    "    ).encode(x='mean(rho_v):Q')\n",
    ").properties(\n",
    "    width=300, height = 100,\n",
    ")"
   ]
  },
  {
   "cell_type": "code",
   "execution_count": 63,
   "metadata": {},
   "outputs": [],
   "source": [
    "src = pd.DataFrame(abs_humidity_df.query(\"height == 20\").query(\"tower == 'c'\")['value'].rename('abshum_20m')).join(\n",
    "    abs_humidity_df.query(\"height == 2\").query(\"tower == 'c'\")['value'].rename('abshum_2m')\n",
    ")\n",
    "src_vert = src['abshum_20m'] - src['abshum_2m']\n",
    "src_horiz = kps_lateral_simple_df['ds_3m']\n",
    "# abshum_ds\n",
    "\n",
    "rule = alt.Chart().mark_rule().transform_calculate(x=f'{2*rho_v_2_sigma}').encode(x='x:Q')\n",
    "rule2 = alt.Chart().mark_rule().transform_calculate(x=f'-{2*rho_v_2_sigma}').encode(x='x:Q')\n",
    "gradient_distribution_chart = rule + rule2 + alt.Chart(\n",
    "    (pd.DataFrame(src_vert.rename('vertical')).join(src_horiz.rename('horizontal'))*1000).query(\"vertical > -1\").query(\"horizontal > -1\")\n",
    ").mark_bar(color='blue', opacity=0.5).encode(\n",
    "    alt.X('vertical:Q').bin(step=0.05).title(\"∆abs hum (g/m^3)\").axis(values=np.linspace(-1, 1, 21)),\n",
    "    alt.Y('count():Q').stack(None),\n",
    ") + alt.Chart(\n",
    "    (pd.DataFrame(src_vert.rename('vertical')).join(src_horiz.rename('horizontal'))*1000).query(\"vertical > -1\").query(\"horizontal > -1\")\n",
    ").mark_bar(color='red', opacity=0.5).encode(\n",
    "    alt.X('horizontal:Q').bin(step=0.05).axis(values=np.linspace(-1, 1, 21)),\n",
    "    alt.Y('count():Q').stack(None),\n",
    ").properties(height = 200)"
   ]
  },
  {
   "cell_type": "code",
   "execution_count": 64,
   "metadata": {},
   "outputs": [
    {
     "data": {
      "text/html": [
       "\n",
       "<style>\n",
       "  #altair-viz-b15ff3fc7df54f69a59d4d7009cf53ea.vega-embed {\n",
       "    width: 100%;\n",
       "    display: flex;\n",
       "  }\n",
       "\n",
       "  #altair-viz-b15ff3fc7df54f69a59d4d7009cf53ea.vega-embed details,\n",
       "  #altair-viz-b15ff3fc7df54f69a59d4d7009cf53ea.vega-embed details summary {\n",
       "    position: relative;\n",
       "  }\n",
       "</style>\n",
       "<div id=\"altair-viz-b15ff3fc7df54f69a59d4d7009cf53ea\"></div>\n",
       "<script type=\"text/javascript\">\n",
       "  var VEGA_DEBUG = (typeof VEGA_DEBUG == \"undefined\") ? {} : VEGA_DEBUG;\n",
       "  (function(spec, embedOpt){\n",
       "    let outputDiv = document.currentScript.previousElementSibling;\n",
       "    if (outputDiv.id !== \"altair-viz-b15ff3fc7df54f69a59d4d7009cf53ea\") {\n",
       "      outputDiv = document.getElementById(\"altair-viz-b15ff3fc7df54f69a59d4d7009cf53ea\");\n",
       "    }\n",
       "    const paths = {\n",
       "      \"vega\": \"https://cdn.jsdelivr.net/npm/vega@5?noext\",\n",
       "      \"vega-lib\": \"https://cdn.jsdelivr.net/npm/vega-lib?noext\",\n",
       "      \"vega-lite\": \"https://cdn.jsdelivr.net/npm/vega-lite@5.20.1?noext\",\n",
       "      \"vega-embed\": \"https://cdn.jsdelivr.net/npm/vega-embed@6?noext\",\n",
       "    };\n",
       "\n",
       "    function maybeLoadScript(lib, version) {\n",
       "      var key = `${lib.replace(\"-\", \"\")}_version`;\n",
       "      return (VEGA_DEBUG[key] == version) ?\n",
       "        Promise.resolve(paths[lib]) :\n",
       "        new Promise(function(resolve, reject) {\n",
       "          var s = document.createElement('script');\n",
       "          document.getElementsByTagName(\"head\")[0].appendChild(s);\n",
       "          s.async = true;\n",
       "          s.onload = () => {\n",
       "            VEGA_DEBUG[key] = version;\n",
       "            return resolve(paths[lib]);\n",
       "          };\n",
       "          s.onerror = () => reject(`Error loading script: ${paths[lib]}`);\n",
       "          s.src = paths[lib];\n",
       "        });\n",
       "    }\n",
       "\n",
       "    function showError(err) {\n",
       "      outputDiv.innerHTML = `<div class=\"error\" style=\"color:red;\">${err}</div>`;\n",
       "      throw err;\n",
       "    }\n",
       "\n",
       "    function displayChart(vegaEmbed) {\n",
       "      vegaEmbed(outputDiv, spec, embedOpt)\n",
       "        .catch(err => showError(`Javascript Error: ${err.message}<br>This usually means there's a typo in your chart specification. See the javascript console for the full traceback.`));\n",
       "    }\n",
       "\n",
       "    if(typeof define === \"function\" && define.amd) {\n",
       "      requirejs.config({paths});\n",
       "      require([\"vega-embed\"], displayChart, err => showError(`Error loading script: ${err.message}`));\n",
       "    } else {\n",
       "      maybeLoadScript(\"vega\", \"5\")\n",
       "        .then(() => maybeLoadScript(\"vega-lite\", \"5.20.1\"))\n",
       "        .then(() => maybeLoadScript(\"vega-embed\", \"6\"))\n",
       "        .catch(showError)\n",
       "        .then(() => displayChart(vegaEmbed));\n",
       "    }\n",
       "  })({\"config\": {\"view\": {\"continuousWidth\": 300, \"continuousHeight\": 300}}, \"hconcat\": [{\"vconcat\": [{\"layer\": [{\"mark\": {\"type\": \"bar\"}, \"encoding\": {\"x\": {\"bin\": {\"step\": 0.01}, \"field\": \"P\", \"scale\": {\"nice\": false}, \"title\": \"Mean pressure (P) + random errors (millibars)\", \"type\": \"quantitative\"}, \"y\": {\"aggregate\": \"count\", \"type\": \"quantitative\"}}}, {\"mark\": {\"type\": \"rule\", \"color\": \"red\", \"strokeWidth\": 2}, \"encoding\": {\"x\": {\"aggregate\": \"mean\", \"field\": \"P\", \"type\": \"quantitative\"}}}], \"height\": 100, \"width\": 300}, {\"layer\": [{\"mark\": {\"type\": \"bar\"}, \"encoding\": {\"x\": {\"bin\": {\"step\": 0.01}, \"field\": \"T\", \"scale\": {\"nice\": false}, \"title\": \"Mean temperature (T) + random errors (\\u02daC)\", \"type\": \"quantitative\"}, \"y\": {\"aggregate\": \"count\", \"type\": \"quantitative\"}}}, {\"mark\": {\"type\": \"rule\", \"color\": \"red\", \"strokeWidth\": 2}, \"encoding\": {\"x\": {\"aggregate\": \"mean\", \"field\": \"T\", \"type\": \"quantitative\"}}}], \"height\": 100, \"width\": 300}, {\"layer\": [{\"mark\": {\"type\": \"bar\"}, \"encoding\": {\"x\": {\"bin\": {\"step\": 0.2}, \"field\": \"RH\", \"scale\": {\"nice\": false}, \"title\": \"Mean relative humidity (RH) + random errors (%)\", \"type\": \"quantitative\"}, \"y\": {\"aggregate\": \"count\", \"type\": \"quantitative\"}}}, {\"mark\": {\"type\": \"rule\", \"color\": \"red\", \"strokeWidth\": 2}, \"encoding\": {\"x\": {\"aggregate\": \"mean\", \"field\": \"RH\", \"type\": \"quantitative\"}}}], \"height\": 100, \"width\": 300}], \"data\": {\"url\": \"altair-data-ba10b2eb7c6c9dc10423817f28859d46.json\", \"format\": {\"type\": \"json\"}}}, {\"vconcat\": [{\"layer\": [{\"mark\": {\"type\": \"bar\"}, \"encoding\": {\"x\": {\"bin\": {\"step\": 0.01}, \"field\": \"rho_v\", \"scale\": {\"nice\": false}, \"title\": [\"Absolute humidity from Monte Carlo propagation of T, RH, P (g/m^3)\"], \"type\": \"quantitative\"}, \"y\": {\"aggregate\": \"count\", \"type\": \"quantitative\"}}}, {\"mark\": {\"type\": \"rule\", \"color\": \"red\", \"strokeWidth\": 2}, \"encoding\": {\"x\": {\"aggregate\": \"mean\", \"field\": \"rho_v\", \"type\": \"quantitative\"}}}], \"data\": {\"url\": \"altair-data-ba10b2eb7c6c9dc10423817f28859d46.json\", \"format\": {\"type\": \"json\"}}, \"height\": 100, \"width\": 300}, {\"layer\": [{\"data\": {\"name\": \"empty\"}, \"mark\": {\"type\": \"rule\"}, \"encoding\": {\"x\": {\"field\": \"x\", \"type\": \"quantitative\"}}, \"transform\": [{\"calculate\": \"0.096\", \"as\": \"x\"}]}, {\"data\": {\"name\": \"empty\"}, \"mark\": {\"type\": \"rule\"}, \"encoding\": {\"x\": {\"field\": \"x\", \"type\": \"quantitative\"}}, \"transform\": [{\"calculate\": \"-0.096\", \"as\": \"x\"}]}, {\"data\": {\"url\": \"altair-data-77f59220ff5e638ac4642e733ee82306.json\", \"format\": {\"type\": \"json\"}}, \"mark\": {\"type\": \"bar\", \"color\": \"blue\", \"opacity\": 0.5}, \"encoding\": {\"x\": {\"axis\": {\"values\": [-1.0, -0.9, -0.8, -0.7, -0.6, -0.5, -0.3999999999999999, -0.29999999999999993, -0.19999999999999996, -0.09999999999999998, 0.0, 0.10000000000000009, 0.20000000000000018, 0.30000000000000004, 0.40000000000000013, 0.5, 0.6000000000000001, 0.7000000000000002, 0.8, 0.9000000000000001, 1.0]}, \"bin\": {\"step\": 0.05}, \"field\": \"vertical\", \"title\": \"\\u2206abs hum (g/m^3)\", \"type\": \"quantitative\"}, \"y\": {\"aggregate\": \"count\", \"stack\": null, \"type\": \"quantitative\"}}}, {\"data\": {\"url\": \"altair-data-77f59220ff5e638ac4642e733ee82306.json\", \"format\": {\"type\": \"json\"}}, \"mark\": {\"type\": \"bar\", \"color\": \"red\", \"opacity\": 0.5}, \"encoding\": {\"x\": {\"axis\": {\"values\": [-1.0, -0.9, -0.8, -0.7, -0.6, -0.5, -0.3999999999999999, -0.29999999999999993, -0.19999999999999996, -0.09999999999999998, 0.0, 0.10000000000000009, 0.20000000000000018, 0.30000000000000004, 0.40000000000000013, 0.5, 0.6000000000000001, 0.7000000000000002, 0.8, 0.9000000000000001, 1.0]}, \"bin\": {\"step\": 0.05}, \"field\": \"horizontal\", \"type\": \"quantitative\"}, \"y\": {\"aggregate\": \"count\", \"stack\": null, \"type\": \"quantitative\"}}}], \"height\": 200}]}], \"$schema\": \"https://vega.github.io/schema/vega-lite/v5.20.1.json\", \"datasets\": {\"empty\": [{}]}}, {\"mode\": \"vega-lite\"});\n",
       "</script>"
      ],
      "text/plain": [
       "alt.HConcatChart(...)"
      ]
     },
     "execution_count": 64,
     "metadata": {},
     "output_type": "execute_result"
    }
   ],
   "source": [
    "P_dist & T_dist & RH_dist | s_dist & gradient_distribution_chart"
   ]
  },
  {
   "cell_type": "code",
   "execution_count": 56,
   "metadata": {},
   "outputs": [],
   "source": [
    "src_horiz = src_horiz.dropna()\n",
    "src_vert = src_vert.dropna()\n",
    "\n",
    "src_horiz_daytime = src_horiz[src_horiz.index.hour.isin([9, 10, 11, 12, 13, 14, 15, 16])]\n",
    "src_vert_daytime = src_vert[src_vert.index.hour.isin([9, 10, 11, 12, 13, 14, 15, 16])]"
   ]
  },
  {
   "cell_type": "code",
   "execution_count": 61,
   "metadata": {},
   "outputs": [
    {
     "data": {
      "text/plain": [
       "time\n",
       "2022-11-30 00:00:00    2.039244e-05\n",
       "2022-11-30 01:00:00   -1.235148e-05\n",
       "2022-11-30 01:30:00   -2.120479e-06\n",
       "2022-11-30 02:30:00   -7.198334e-06\n",
       "2022-11-30 03:00:00    5.704589e-08\n",
       "                           ...     \n",
       "2023-05-08 21:00:00    2.128198e-05\n",
       "2023-05-08 22:00:00   -1.483276e-04\n",
       "2023-05-08 22:30:00   -5.704150e-05\n",
       "2023-05-08 23:00:00    4.010419e-05\n",
       "2023-05-08 23:30:00    4.018113e-05\n",
       "Name: ds_3m, Length: 4620, dtype: float64"
      ]
     },
     "execution_count": 61,
     "metadata": {},
     "output_type": "execute_result"
    }
   ],
   "source": [
    "src_horiz"
   ]
  },
  {
   "cell_type": "code",
   "execution_count": 62,
   "metadata": {},
   "outputs": [
    {
     "name": "stdout",
     "output_type": "stream",
     "text": [
      "0.06125541125541126\n",
      "0.14320193081255028\n"
     ]
    }
   ],
   "source": [
    "print(len(src_horiz.dropna()[np.abs(src_horiz.dropna())*1000 > 2*rho_v_2_sigma]) / len(src_horiz.dropna()))\n",
    "print(len(src_horiz_daytime[np.abs(src_horiz_daytime)*1000 > 2*rho_v_2_sigma]) / len(src_horiz_daytime.dropna()))"
   ]
  },
  {
   "cell_type": "code",
   "execution_count": 59,
   "metadata": {},
   "outputs": [
    {
     "name": "stdout",
     "output_type": "stream",
     "text": [
      "0.4203996343215359\n",
      "0.52660406885759\n"
     ]
    }
   ],
   "source": [
    "print(len(src_vert[np.abs(src_vert)*1000 > 2*rho_v_2_sigma]) / len(src_vert.dropna()))\n",
    "print(len(src_vert_daytime[np.abs(src_vert_daytime)*1000 > 2*rho_v_2_sigma]) / len(src_vert_daytime.dropna()))"
   ]
  },
  {
   "cell_type": "code",
   "execution_count": null,
   "metadata": {},
   "outputs": [],
   "source": [
    "import metpy.calc\n",
    "mean_p = tidy_df.query(\"variable == 'P_10m_c'\").value.mean() * units(\"millibars\")\n",
    "mean_t = tidy_df.query(\"variable == 'T_10m_c'\").value.mean() * units(\"degC\")\n",
    "print(round(metpy.calc.density(mean_p, mean_t, 0).magnitude.item(), 4))\n",
    "\n",
    "print()\n",
    "print(\"varying P +/- 20millibars\")\n",
    "print(round(metpy.calc.density(mean_p + 20*units(\"millibars\"), mean_t, 0).magnitude.item(), 4))\n",
    "print(round(metpy.calc.density(mean_p - 20*units(\"millibars\"), mean_t, 0).magnitude.item(), 4))\n",
    "\n",
    "print()\n",
    "print(\"varying T +/- 2˚C\")\n",
    "print(round(metpy.calc.density(mean_p, mean_t + 2*units(\"delta_degC\"), 0).magnitude.item(), 4))\n",
    "print(round(metpy.calc.density(mean_p, mean_t - 2*units(\"delta_degC\"), 0).magnitude.item(), 4))"
   ]
  },
  {
   "cell_type": "markdown",
   "metadata": {},
   "source": [
    "# Plot water vapor transport results"
   ]
  },
  {
   "cell_type": "markdown",
   "metadata": {},
   "source": [
    "## Seasonal Composite Analysis"
   ]
  },
  {
   "cell_type": "markdown",
   "metadata": {},
   "source": [
    "Define plotting functions"
   ]
  },
  {
   "cell_type": "code",
   "execution_count": null,
   "metadata": {},
   "outputs": [],
   "source": [
    "PLOT_WIDTH = 150\n",
    "PLOT_HEIGHT = 150\n",
    "\n",
    "# Function to plot diurnal cycles in conservation terms, for the vertical advection estimates using a numerical solution\n",
    "########################################################\n",
    "def get_vert_advection_with_height(src, title, y_domain=[-0.0002, 0.0002]):\n",
    "    vars = [ \n",
    "        # 'vertical_advection_numerical_2',\n",
    "        'vertical_advection_numerical_3',\n",
    "        'vertical_advection_numerical_5',\n",
    "        'vertical_advection_numerical_10',\n",
    "        'vertical_advection_numerical_15',\n",
    "        'vertical_advection_numerical_20',\n",
    "    ]\n",
    "    vert_advection_chart = alt.Chart(src).mark_line().transform_fold(\n",
    "        vars\n",
    "    ).encode(\n",
    "        alt.X('hours(time):T').axis(labelAlign='center', tickCount=4),\n",
    "        alt.Y('median(value):Q').title('Flux density (g/m^3/s)').scale(\n",
    "            domain = y_domain, clamp=False\n",
    "        ).axis(\n",
    "                values=[-0.0003, -0.0002, -0.0001, 0.000, 0.0001, 0.0002, 0.0003], \n",
    "                tickCount = 7\n",
    "            ),\n",
    "        alt.Color('key:N').sort(vars).scale(scheme='turbo')\n",
    "    ).properties(width=PLOT_WIDTH, height=PLOT_HEIGHT, title=title)\n",
    "    flux_div_chart = alt.Chart(src).mark_line(\n",
    "        color='black'\n",
    "    ).transform_fold(\n",
    "        ['ds/dt', 'VTFD_3to20']\n",
    "    ).encode(\n",
    "        alt.X('hours(time):T').axis(labelAlign='center'),\n",
    "        alt.Y('median(value):Q').title('Flux density (g/m^3/s)').scale(domain = y_domain, clamp=False),\n",
    "        alt.StrokeDash('key:N').scale(\n",
    "            domain=['ds/dt', 'VTFD_3to20'],\n",
    "            range=[(1,1), (4,2)]\n",
    "        )\n",
    "    ).properties(width=PLOT_WIDTH, height=PLOT_HEIGHT, title=title)\n",
    "    src['residual_3'] = src['VTFD_3to20'] + src['ds/dt'] + src['vertical_advection_numerical_3']\n",
    "    src['residual_5'] = src['VTFD_3to20'] + src['ds/dt'] + src['vertical_advection_numerical_5']\n",
    "    src['residual_10'] = src['VTFD_3to20'] + src['ds/dt'] + src['vertical_advection_numerical_10']\n",
    "    src['residual_15'] = src['VTFD_3to20'] + src['ds/dt'] + src['vertical_advection_numerical_15']\n",
    "    src['residual_20'] = src['VTFD_3to20'] + src['ds/dt'] + src['vertical_advection_numerical_20']\n",
    "    src['hour'] = src.groupby('hour').median()\n",
    "    residual_chart = alt.Chart(src).mark_area(\n",
    "        color='grey', opacity = 0.25\n",
    "    ).transform_fold([\n",
    "        'residual_3',\n",
    "        'residual_5',\n",
    "        'residual_10',\n",
    "        'residual_15',\n",
    "        'residual_20'   \n",
    "    ]).encode(\n",
    "        alt.X('hours(time):T').axis(labelAlign='center'),\n",
    "        alt.Y('min(value):Q'),\n",
    "        alt.Y2('max(value):Q'),\n",
    "    ).properties(width=PLOT_WIDTH, height=PLOT_HEIGHT, title=title)\n",
    "    return (residual_chart + vert_advection_chart + flux_div_chart)\n",
    "    \n",
    "# Function to plot diurnal cycles in profiles\n",
    "########################################################\n",
    "def plot_profiles(src):\n",
    "    return alt.Chart(src).transform_filter(\n",
    "        alt.datum.height != 12\n",
    "    ).transform_filter(\n",
    "        alt.datum.height != 6\n",
    "    ).mark_line(\n",
    "        point={'size':20, 'color': 'black'}, strokeWidth=1, color='black'\n",
    "    ).encode(\n",
    "        alt.X('median(value):Q').scale(zero=False).title('Absolute humidty (g/m^-3)'),\n",
    "        alt.Y('height:Q').title('Height (m)'),\n",
    "        alt.Order('height:Q'),\n",
    "        alt.Detail('conditions:N'),\n",
    "        alt.Color('conditions:N')\n",
    "    ).properties(width=PLOT_WIDTH, height=PLOT_HEIGHT)\n",
    "\n",
    "# Function to plot diurnal cycles in w\n",
    "########################################################\n",
    "def w_diurnal_chart(src, title):\n",
    "    line = alt.Chart().transform_calculate(y = '0').mark_rule().encode(y='y:Q')\n",
    "    return alt.layer(\n",
    "        line, \n",
    "        alt.Chart().mark_line().encode(\n",
    "            alt.X('hours(time):T').axis(labelAlign='center', values=[0,6,12,18,]),\n",
    "            alt.Y('median(value):Q').title('Vertical velocity (m/s)').scale(\n",
    "                domain = [-0.03, 0.03], clamp=False\n",
    "            ).axis(\n",
    "                values=[-0.03, -0.02, -0.01, 0.0, 0.01, 0.02, 0.03], \n",
    "                tickCount = 7\n",
    "            ),\n",
    "            alt.Color('height:O').scale(scheme='turbo')\n",
    "        ), \n",
    "        data = src\n",
    "    ).properties(width=PLOT_WIDTH, height=PLOT_HEIGHT, title=title)"
   ]
  },
  {
   "cell_type": "markdown",
   "metadata": {},
   "source": [
    "### Non Blowing Snow Conditions"
   ]
  },
  {
   "cell_type": "markdown",
   "metadata": {},
   "source": [
    "Isolate data"
   ]
  },
  {
   "cell_type": "code",
   "execution_count": null,
   "metadata": {},
   "outputs": [],
   "source": [
    "# Identify timestamps for the two categories\n",
    "upvalley_nobs_times = set(pd.to_datetime(upvalley_wind_times)).intersection(set(nobs_times))\n",
    "downvalley_nobs_times = set(pd.to_datetime(downvalley_wind_times)).intersection(set(nobs_times))\n",
    "\n",
    "# Data for diurnal cycles in CONSERVATION TERMS, FINITE DIFFERENCE METHOD\n",
    "########################################################\n",
    "src_cons_terms_numerical = advection_1d_fluxdensity_nonnorm_df.copy()\n",
    "src_cons_terms_numerical_upvalley_nobs = src_cons_terms_numerical[src_cons_terms_numerical.index.isin(upvalley_nobs_times)].reset_index()\n",
    "src_cons_terms_numerical_dovalley_nobs = src_cons_terms_numerical[src_cons_terms_numerical.index.isin(downvalley_nobs_times)].reset_index()\n",
    "\n",
    "# Data for diurnal cycles in MEAN W\n",
    "########################################################\n",
    "src_w = tidy_df[tidy_df.measurement == 'w'].query(\"tower == 'c'\")\n",
    "src_w_upvalley_nobs = src_w[src_w.time.isin(upvalley_nobs_times)]\n",
    "src_w_dovalley_nobs = src_w[src_w.time.isin(downvalley_nobs_times)]\n",
    "src_w_upvalley_nobs = src_w_upvalley_nobs.query(\"height != 1\")\n",
    "\n",
    "src_w_dovalley_nobs = src_w_dovalley_nobs.query(\"height != 1\")\n",
    "\n",
    "# Data for diurnal cycles in MIXING RATIO PROFILES\n",
    "########################################################\n",
    "src_abshum = abs_humidity_df[abs_humidity_df.index.isin(nobs_times)]\n",
    "src_abshum['conditions'] = src_abshum.index.hour\n",
    "\n",
    "src_abshum['conditions'] = pd.cut(\n",
    "    src_abshum.index.hour,\n",
    "    [-1,3,6,9,12,15,18,21,24],\n",
    "    labels=['0-3', '3-6', '6-9', '9-12', '12-15', '15-18', '18-21', '21-0'],\n",
    "    right=False\n",
    ")\n",
    "src_abshum = src_abshum[\n",
    "    src_abshum['conditions'].isin([ \n",
    "        # '0-3',\n",
    "        '3-6',\n",
    "        # '6-9',\n",
    "        # '9-12',\n",
    "        '12-15',\n",
    "        # '15-18',\n",
    "        '18-21',\n",
    "        # '21-0'\n",
    "    ])\n",
    "]\n",
    "src_abshum['value'] = src_abshum['value']*1000\n",
    "src_abshum = src_abshum.reset_index()\n",
    "src_abshum_upvalley_nobs = src_abshum[src_abshum.time.isin(upvalley_nobs_times)].query(\"height != 1\")\n",
    "src_abshum_dovalley_nobs = src_abshum[src_abshum.time.isin(downvalley_nobs_times)].query(\"height != 1\")"
   ]
  },
  {
   "cell_type": "code",
   "execution_count": null,
   "metadata": {},
   "outputs": [],
   "source": [
    "def get_vert_advection_with_height(src, title, y_domain=[-0.0002, 0.0002]):\n",
    "    vars = [ \n",
    "        # 'vertical_advection_numerical_2',\n",
    "        'vertical_advection_numerical_3',\n",
    "        'vertical_advection_numerical_5',\n",
    "        'vertical_advection_numerical_10',\n",
    "        'vertical_advection_numerical_15',\n",
    "        'vertical_advection_numerical_20',\n",
    "    ]\n",
    "    ###\n",
    "    # CREATE CHART WITH VERTICAL ADVECTION TERM\n",
    "    ###\n",
    "    vert_advection_chart = alt.Chart(src).mark_line().transform_fold(\n",
    "        vars\n",
    "    ).encode(\n",
    "        alt.X('hours(time):T').axis(labelAlign='center', tickCount=4),\n",
    "        alt.Y('median(value):Q').title('Flux density (g/m^3/s)').scale(\n",
    "            domain = y_domain, clamp=False\n",
    "        ).axis(\n",
    "                values=[-0.0003, -0.0002, -0.0001, 0.000, 0.0001, 0.0002, 0.0003], \n",
    "                tickCount = 7\n",
    "            ),\n",
    "        alt.Color('key:N').sort(vars).scale(scheme='turbo')\n",
    "    ).properties(width=PLOT_WIDTH, height=PLOT_HEIGHT, title=title)\n",
    "    ###\n",
    "    # CREATE CHART WITH FLUX DIVERGENCE TERM AND dS_dT term\n",
    "    ###\n",
    "    flux_div_chart = alt.Chart(src).mark_line(\n",
    "        color='black'\n",
    "    ).transform_fold(\n",
    "        ['ds/dt', 'VTFD_3to20'],\n",
    "    ).encode(\n",
    "        alt.X('hours(time):T').axis(labelAlign='center'),\n",
    "        alt.Y('median(value):Q').title('Flux density (g/m^3/s)').scale(domain = y_domain, clamp=False),\n",
    "        alt.StrokeDash('key:N').scale(\n",
    "            domain=['ds/dt','VTFD_3to20'],\n",
    "            range=[(1,1), (4,2)]\n",
    "        ),\n",
    "    ).properties(width=PLOT_WIDTH, height=PLOT_HEIGHT, title=title)\n",
    "    ### \n",
    "    # CREATE CHART WITH RESIDUAL TERM\n",
    "    ###\n",
    "    residual_src = src.copy()\n",
    "    residual_src['residual_3'] = residual_src['VTFD_3to20'] + residual_src['ds/dt'] + residual_src['vertical_advection_numerical_3']\n",
    "    residual_src['residual_5'] = residual_src['VTFD_3to20'] + residual_src['ds/dt'] + residual_src['vertical_advection_numerical_5']\n",
    "    residual_src['residual_10'] = residual_src['VTFD_3to20'] + residual_src['ds/dt'] + residual_src['vertical_advection_numerical_10']\n",
    "    residual_src['residual_15'] = residual_src['VTFD_3to20'] + residual_src['ds/dt'] + residual_src['vertical_advection_numerical_15']\n",
    "    residual_src['residual_20'] = residual_src['VTFD_3to20'] + residual_src['ds/dt'] + residual_src['vertical_advection_numerical_20']\n",
    "    residual_src = residual_src.set_index('time')[[\n",
    "        'vertical_advection_numerical_3',\n",
    "        'vertical_advection_numerical_5',\n",
    "        'vertical_advection_numerical_10',\n",
    "        'vertical_advection_numerical_15',\n",
    "        'vertical_advection_numerical_20',\n",
    "        'ds/dt', \n",
    "        'VTFD_3to20',\n",
    "        'residual_3',\n",
    "        'residual_5',\n",
    "        'residual_10',\n",
    "        'residual_15',\n",
    "        'residual_20',\n",
    "    ]]\n",
    "    residual_src['hour'] = residual_src.index.hour\n",
    "    residual_src = residual_src.groupby('hour').median()\n",
    "    residual_src['time'] = residual_src.reset_index().hour.apply(lambda hr: dt.datetime(\n",
    "        year=2000,\n",
    "        month=1,\n",
    "        day=1,\n",
    "        hour=hr\n",
    "    ))\n",
    "    residual_src['residual_3m'] = residual_src['vertical_advection_numerical_3'] +\\\n",
    "                                residual_src['ds/dt'] +\\\n",
    "                                residual_src['VTFD_3to20']\n",
    "    residual_src['residual_5m'] = residual_src['vertical_advection_numerical_5'] +\\\n",
    "                                residual_src['ds/dt'] +\\\n",
    "                                residual_src['VTFD_3to20']\n",
    "    residual_src['residual_10m'] = residual_src['vertical_advection_numerical_10'] +\\\n",
    "                                residual_src['ds/dt'] +\\\n",
    "                                residual_src['VTFD_3to20']\n",
    "    residual_src['residual_15m'] = residual_src['vertical_advection_numerical_15'] +\\\n",
    "                                residual_src['ds/dt'] +\\\n",
    "                                residual_src['VTFD_3to20']\n",
    "    residual_src['residual_20m'] = residual_src['vertical_advection_numerical_20'] +\\\n",
    "                                residual_src['ds/dt'] +\\\n",
    "                                residual_src['VTFD_3to20']\n",
    "    residual_src = residual_src.dropna()\n",
    "    residual_chart = alt.Chart(residual_src).mark_area(\n",
    "        color='grey', opacity=0.4\n",
    "    ).transform_fold([\n",
    "        'residual_3m',\n",
    "        'residual_5m',\n",
    "        'residual_10m',\n",
    "        'residual_15m',\n",
    "        'residual_20m',\n",
    "    ]).encode(\n",
    "        alt.X('hours(time):T'),\n",
    "        alt.Y('min(value):Q'),\n",
    "        alt.Y2('max(value):Q'),\n",
    "    )\n",
    "    return (residual_chart + vert_advection_chart + flux_div_chart)"
   ]
  },
  {
   "cell_type": "code",
   "execution_count": null,
   "metadata": {},
   "outputs": [],
   "source": [
    "s_profile_charts = (\n",
    "    plot_profiles(src_abshum_upvalley_nobs).properties(title='') &\\\n",
    "    plot_profiles(src_abshum_dovalley_nobs).properties(title='')\n",
    ")\n",
    "w_charts = (\n",
    "    w_diurnal_chart(src_w_upvalley_nobs.query(\"height > 2\"), title='') &\\\n",
    "    w_diurnal_chart(src_w_dovalley_nobs.query(\"height > 2\"), title='')\n",
    ").resolve_scale(y='shared')\n",
    "conservation_charts_numerical = (\n",
    "    get_vert_advection_with_height(src_cons_terms_numerical_upvalley_nobs, title='', y_domain=[-0.0002, 0.0002]) &\\\n",
    "    get_vert_advection_with_height(src_cons_terms_numerical_dovalley_nobs, title='', y_domain=[-0.0002, 0.0002])\n",
    ")\n",
    "\n",
    "(\n",
    "    (\n",
    "        s_profile_charts | w_charts | conservation_charts_numerical\n",
    "    ).resolve_scale(color='independent', strokeDash='independent')\n",
    ").configure_legend(orient='top', columns=1)"
   ]
  },
  {
   "cell_type": "code",
   "execution_count": null,
   "metadata": {},
   "outputs": [],
   "source": [
    "s_profile_charts.resolve_scale(x='shared', y='shared')"
   ]
  },
  {
   "cell_type": "markdown",
   "metadata": {},
   "source": [
    "### Blowing Snow Conditions"
   ]
  },
  {
   "cell_type": "markdown",
   "metadata": {},
   "source": [
    "Isolate data"
   ]
  },
  {
   "cell_type": "code",
   "execution_count": null,
   "metadata": {},
   "outputs": [],
   "source": [
    "# Identify timestamps for the two categories\n",
    "upvalley_bs_times = set(pd.to_datetime(upvalley_wind_times)).intersection(set(bs_times))\n",
    "downvalley_bs_times = set(pd.to_datetime(downvalley_wind_times)).intersection(set(bs_times))\n",
    "\n",
    "# Data for diurnal cycles in CONSERVATION TERMS, FINITE DIFFERENCE METHOD\n",
    "########################################################\n",
    "src_cons_terms_numerical = advection_1d_fluxdensity_nonnorm_df.copy()\n",
    "src_cons_terms_numerical_upvalley_bs = src_cons_terms_numerical[src_cons_terms_numerical.index.isin(upvalley_bs_times)].reset_index()\n",
    "src_cons_terms_numerical_dovalley_bs = src_cons_terms_numerical[src_cons_terms_numerical.index.isin(downvalley_bs_times)].reset_index()\n",
    "\n",
    "# Data for diurnal cycles in MIXING RATIO PROFILES\n",
    "########################################################\n",
    "\n",
    "src_mixingratio = pd.concat([\n",
    "    tidy_df[tidy_df.measurement == 'mixing ratio'].query(\"tower == 'c'\"),\n",
    "    tidy_df[tidy_df.variable == 'Tsurfmixingratio_c'].query(\"tower == 'c'\")\n",
    "\n",
    "])\n",
    "src_mixingratio = src_mixingratio[src_mixingratio.time.isin(bs_times)]\n",
    "src_mixingratio['conditions'] = src_mixingratio.time.dt.hour\n",
    "# src_mixingratio = src_mixingratio[src_mixingratio.conditions % 4 == 0]\n",
    "src_mixingratio['conditions'] = pd.cut(\n",
    "    src_mixingratio.time.dt.hour,\n",
    "    [-1,3,6,9,12,15,18,21,24],\n",
    "    labels=['0-3', '3-6', '6-9', '9-12', '12-15', '15-18', '18-21', '21-0'],\n",
    "    right=False\n",
    ")\n",
    "\n",
    "src_mixingratio = src_mixingratio[\n",
    "    src_mixingratio['conditions'].isin([ \n",
    "        # '0-3',\n",
    "        '3-6',\n",
    "        # '6-9',\n",
    "        # '9-12',\n",
    "        '12-15',\n",
    "        # '15-18',\n",
    "        '18-21',\n",
    "        # '21-0'\n",
    "    ])\n",
    "]\n",
    "src_mixingratio['value'] = src_mixingratio['value']*1000\n",
    "src_mixingratio_upvalley_bs = src_mixingratio[src_mixingratio.time.isin(upvalley_bs_times)].query(\"height != 1\")\n",
    "src_mixingratio_dovalley_bs = src_mixingratio[src_mixingratio.time.isin(downvalley_bs_times)].query(\"height != 1\")\n",
    "\n",
    "# Data for diurnal cycles in MEAN W\n",
    "########################################################\n",
    "src_w = tidy_df[tidy_df.measurement == 'w'].query(\"tower == 'c'\")\n",
    "src_w_upvalley_bs = src_w[src_w.time.isin(upvalley_bs_times)]\n",
    "src_w_dovalley_bs = src_w[src_w.time.isin(downvalley_bs_times)]\n",
    "src_w_upvalley_bs = src_w_upvalley_bs.query(\"height != 1\")\n",
    "\n",
    "src_w_dovalley_bs = src_w_dovalley_bs.query(\"height != 1\")"
   ]
  },
  {
   "cell_type": "code",
   "execution_count": null,
   "metadata": {},
   "outputs": [],
   "source": [
    "s_profile_charts = (\n",
    "    plot_profiles(src_mixingratio_upvalley_bs).properties(title='') &\\\n",
    "    plot_profiles(src_mixingratio_dovalley_bs).properties(title='')\n",
    ")\n",
    "w_charts = (\n",
    "    w_diurnal_chart(src_w_upvalley_bs.query(\"height > 2\"), title='') &\\\n",
    "    w_diurnal_chart(src_w_dovalley_bs.query(\"height > 2\"), title='')\n",
    ").resolve_scale(y='shared')\n",
    "conservation_charts_numerical = (\n",
    "    get_vert_advection_with_height(src_cons_terms_numerical_upvalley_bs, title='', y_domain=[-0.0002, 0.0002]) &\\\n",
    "    get_vert_advection_with_height(src_cons_terms_numerical_dovalley_bs, title='', y_domain=[-0.0002, 0.0002])\n",
    ")\n",
    "\n",
    "(\n",
    "    (\n",
    "        s_profile_charts | w_charts | conservation_charts_numerical\n",
    "    ).resolve_scale(color='independent', strokeDash='independent')\n",
    ").configure_legend(orient='top', columns=1)"
   ]
  },
  {
   "cell_type": "code",
   "execution_count": null,
   "metadata": {},
   "outputs": [],
   "source": [
    "upvalley_wind_times = tidy_df[tidy_df.variable == 'dir_3m_c'].dropna().query(\"value < 152\").query(\"value > 92\").drop_duplicates().time\n",
    "downvalley_wind_times = tidy_df[tidy_df.variable == 'dir_3m_c'].dropna().query(\"value < 342\").query(\"value > 292\").drop_duplicates().time\n",
    "all_wind_times = tidy_df[tidy_df.variable == 'dir_3m_c'].drop_duplicates().time\n",
    "print(round(len(upvalley_wind_times)/len(all_wind_times),3))\n",
    "print(round(len(downvalley_wind_times)/len(all_wind_times),3))"
   ]
  },
  {
   "cell_type": "code",
   "execution_count": null,
   "metadata": {},
   "outputs": [],
   "source": [
    "from windrose import WindroseAxes\n",
    "src = tidy_df[tidy_df.time.isin(downvalley_wind_times)][\n",
    "    tidy_df.variable.isin(['spd_20m_c', 'dir_20m_c'])\n",
    "].pivot_table(values = 'value', index='time', columns=['measurement']).reset_index()\n",
    "ax = WindroseAxes.from_ax(figsize=(2,2))\n",
    "ax.bar(src['wind direction'], src['wind speed'], normed=True, opening=.9, edgecolor='white', bins=1, nsector=17)\n",
    "ax.set_yticks([])\n",
    "# ax.set_yticklabels(['10%','25%'])\n",
    "plt.title(\"20m wind rose\")"
   ]
  },
  {
   "cell_type": "code",
   "execution_count": null,
   "metadata": {},
   "outputs": [],
   "source": [
    "from windrose import WindroseAxes\n",
    "src = tidy_df[tidy_df.time.isin(upvalley_wind_times)][\n",
    "    tidy_df.variable.isin(['spd_20m_c', 'dir_20m_c'])\n",
    "].pivot_table(values = 'value', index='time', columns=['measurement']).reset_index()\n",
    "ax = WindroseAxes.from_ax(figsize=(2,2))\n",
    "ax.bar(src['wind direction'], src['wind speed'], normed=True, opening=.9, edgecolor='white', bins=1, nsector=17)\n",
    "ax.set_yticks([])\n",
    "# ax.set_yticklabels(['10%','25%'])\n",
    "plt.title(\"20m wind rose\")"
   ]
  },
  {
   "cell_type": "markdown",
   "metadata": {},
   "source": [
    "### December Blowing Snow Case Study"
   ]
  },
  {
   "cell_type": "code",
   "execution_count": null,
   "metadata": {},
   "outputs": [],
   "source": [
    "src = advection_1d_fluxdensity_nonnorm_df.loc['20221221 1200': '20221223 0000'][[\n",
    "        'w_h2o__3m_c',\n",
    "        'w_h2o__20m_c',\n",
    "        'VTFD_3to10',\n",
    "        'VTFD_3to20',\n",
    "        'ds/dt',\n",
    "        'vertical_advection_numerical_2',\n",
    "        'vertical_advection_numerical_3',\n",
    "        'vertical_advection_numerical_5',\n",
    "        'vertical_advection_numerical_10',\n",
    "        'vertical_advection_numerical_15',\n",
    "        'vertical_advection_numerical_20',\n",
    "    ]].reset_index()\n",
    "\n",
    "vertical_advection_vars = [\n",
    "    'vertical_advection_numerical_3', 'vertical_advection_numerical_5',\n",
    "    'vertical_advection_numerical_10', 'vertical_advection_numerical_15', 'vertical_advection_numerical_20',\n",
    "]\n",
    "residual_vars = [\n",
    "    'residual_3', 'residual_5', 'residual_10', 'residual_15', 'residual_20'\n",
    "]\n",
    "w_q_variables = [\n",
    "    'w_h2o__3m_c_raw',  'w_h2o__5m_c_raw', 'w_h2o__10m_c_raw', 'w_h2o__15m_c_raw','w_h2o__20m_c_raw'\n",
    "]\n",
    "\n",
    "vertical_advection_df = src.dropna()[\n",
    "        ['time'] + vertical_advection_vars\n",
    "    ].set_index('time').rolling(\n",
    "        window=5, center=True, min_periods=0\n",
    "    ).mean().reset_index()\n",
    "\n",
    "\n",
    "lines_chart_1 = alt.Chart(\n",
    "    vertical_advection_df\n",
    ").transform_fold(\n",
    "    vertical_advection_vars\n",
    ").mark_line().encode(\n",
    "    alt.X('time:T'). axis(format='%m/%d').title(None),\n",
    "    alt.Y('value:Q').title(['Water vapor flux density', '(g/m^3/s)']),\n",
    "    alt.Color('key:N').scale(scheme='turbo').sort(vertical_advection_vars)\n",
    ").properties(width=150, height=150)\n",
    "\n",
    "other_terms_df = src.dropna()[\n",
    "        ['time'] + ['VTFD_3to10', 'ds/dt']\n",
    "    ].set_index('time').rolling(\n",
    "        window=5, center=True, min_periods=0\n",
    "    ).mean().reset_index()\n",
    "\n",
    "lines_chart_2 = alt.Chart(\n",
    "    other_terms_df\n",
    ").transform_fold(\n",
    "    ['VTFD_3to10', 'VTFD_3to20', 'ds/dt']\n",
    ").mark_line(color='black').encode(\n",
    "    alt.X('time:T'). axis(format='%m/%d').title(None),\n",
    "    alt.Y('value:Q').title(['Water vapor flux density', '(g/m^3/s)']).scale(\n",
    "        # domain = [-0.002, 0.004], clamp=True\n",
    "    ),\n",
    "    alt.StrokeDash('key:N').scale(\n",
    "            domain=['ds/dt', 'VTFD_3to10'],\n",
    "            range=[(1,1), (4,2)]\n",
    "        )\n",
    ").properties(width=150, height=150)\n",
    "\n",
    "\n",
    "\n",
    "bs_chart = alt.Chart(\n",
    "    tidy_df[tidy_df.measurement == 'snow flux'].set_index('time').loc['20221221 1200': '20221223 0000'].reset_index()\n",
    ").mark_line(color='black').encode(\n",
    "    alt.X('time:T'). axis(format='%m/%d').title(None),\n",
    "    alt.Y('value:Q').title(['Blowing snow flux', '(g/m^2/s)']),\n",
    "    alt.StrokeDash('height:N', legend=None)\n",
    ").properties(width=150, height=150)\n",
    "\n",
    "\n",
    "w_q_chart = alt.Chart(\n",
    "    tidy_df[tidy_df.variable.isin(w_q_variables)\n",
    "    ].set_index('time').loc['20221221 1200': '20221223 0000'].reset_index().pivot_table(\n",
    "        index='time',\n",
    "        columns='variable',\n",
    "        values='value'\n",
    "    ).rolling(\n",
    "        window=5, center=True, min_periods=0\n",
    "    ).mean().reset_index()\n",
    ").transform_fold(\n",
    "    w_q_variables\n",
    ").mark_line().encode(\n",
    "    alt.X('time:T'). axis().title(None),\n",
    "    alt.Y('value:Q').title([\"w'q' (g/m^2/s)\"]),\n",
    "    alt.Color('key:O').scale(scheme='turbo', domain=w_q_variables)\n",
    ").properties(width=150, height=150)\n",
    "\n",
    "residuals_df = other_terms_df.merge(\n",
    "    vertical_advection_df, on='time'\n",
    ")\n",
    "\n",
    "residuals_df['residual_3'] = residuals_df['VTFD_3to10'] + residuals_df['ds/dt'] + residuals_df['vertical_advection_numerical_3']\n",
    "residuals_df['residual_5'] = residuals_df['VTFD_3to10'] + residuals_df['ds/dt'] + residuals_df['vertical_advection_numerical_5']\n",
    "residuals_df['residual_10'] = residuals_df['VTFD_3to10'] + residuals_df['ds/dt'] + residuals_df['vertical_advection_numerical_10']\n",
    "residuals_df['residual_15'] = residuals_df['VTFD_3to10'] + residuals_df['ds/dt'] + residuals_df['vertical_advection_numerical_15']\n",
    "residuals_df['residual_20'] = residuals_df['VTFD_3to10'] + residuals_df['ds/dt'] + residuals_df['vertical_advection_numerical_20']\n",
    "\n",
    "residuals_chart = alt.Chart(\n",
    "    residuals_df\n",
    ").transform_fold(\n",
    "    residual_vars\n",
    ").mark_area(color='grey', opacity=0.4).encode(\n",
    "    alt.X('time:T'). axis(format='%m/%d').title(None),\n",
    "    alt.Y('min(value):Q').title(['Water vapor flux density', '(g/m^3/s)']),\n",
    "    alt.Y2('max(value):Q').title(['Water vapor flux density', '(g/m^3/s)']),\n",
    ").properties(width=150, height=150)\n",
    "\n",
    "\n",
    "(\n",
    "    bs_chart.properties(width=150, height = 150)\n",
    "    |\n",
    "    w_q_chart.properties(width=150, height = 150)\n",
    "    |\n",
    "    (residuals_chart + lines_chart_1 + lines_chart_2\n",
    "    ).resolve_scale()\n",
    ").resolve_scale(\n",
    "    x='shared', color='independent', strokeDash='independent'\n",
    ").display(renderer='svg')"
   ]
  },
  {
   "cell_type": "code",
   "execution_count": null,
   "metadata": {},
   "outputs": [],
   "source": [
    "src = advection_1d_fluxdensity_nonnorm_df.loc['20221212 1200': '20221214 0000'][[\n",
    "        'w_h2o__3m_c',\n",
    "        'w_h2o__20m_c',\n",
    "        'VTFD_3to10',\n",
    "        'VTFD_3to20',\n",
    "        'ds/dt',\n",
    "        'vertical_advection_numerical_2',\n",
    "        'vertical_advection_numerical_3',\n",
    "        'vertical_advection_numerical_5',\n",
    "        'vertical_advection_numerical_10',\n",
    "        'vertical_advection_numerical_15',\n",
    "        'vertical_advection_numerical_20',\n",
    "    ]].reset_index()\n",
    "\n",
    "vertical_advection_vars = [\n",
    "    'vertical_advection_numerical_3', 'vertical_advection_numerical_5',\n",
    "    'vertical_advection_numerical_10', 'vertical_advection_numerical_15', 'vertical_advection_numerical_20',\n",
    "]\n",
    "residual_vars = [\n",
    "    'residual_3', 'residual_5', 'residual_10', 'residual_15', 'residual_20'\n",
    "]\n",
    "w_q_variables = [\n",
    "    'w_h2o__3m_c_raw',  'w_h2o__5m_c_raw', 'w_h2o__10m_c_raw', 'w_h2o__15m_c_raw','w_h2o__20m_c_raw'\n",
    "]\n",
    "w_variables = [\n",
    "    'w_3m_c',  'w_5m_c', 'w_10m_c', 'w_15m_c','w_20m_c'\n",
    "]\n",
    "\n",
    "vertical_advection_df = src.dropna()[\n",
    "        ['time'] + vertical_advection_vars\n",
    "    ].set_index('time').rolling(\n",
    "        window=5, center=True, min_periods=0\n",
    "    ).mean().reset_index()\n",
    "\n",
    "\n",
    "lines_chart_1 = alt.Chart(\n",
    "    vertical_advection_df\n",
    ").transform_fold(\n",
    "    vertical_advection_vars\n",
    ").mark_line().encode(\n",
    "    alt.X('time:T'). axis(format='%m/%d').title(None),\n",
    "    alt.Y('value:Q').title(['Water vapor flux density', '(g/m^3/s)']),\n",
    "    alt.Color('key:N').scale(scheme='turbo').sort(vertical_advection_vars)\n",
    ").properties(width=150, height=150)\n",
    "\n",
    "other_terms_df = src.dropna()[\n",
    "        ['time'] + ['VTFD_3to10', 'ds/dt']\n",
    "    ].set_index('time').rolling(\n",
    "        window=5, center=True, min_periods=0\n",
    "    ).mean().reset_index()\n",
    "\n",
    "lines_chart_2 = alt.Chart(\n",
    "    other_terms_df\n",
    ").transform_fold(\n",
    "    ['VTFD_3to10', 'VTFD_3to20', 'ds/dt']\n",
    ").mark_line(color='black').encode(\n",
    "    alt.X('time:T'). axis(format='%m/%d').title(None),\n",
    "    alt.Y('value:Q').title(['Water vapor flux density', '(g/m^3/s)']).scale(\n",
    "        # domain = [-0.002, 0.004], clamp=True\n",
    "    ),\n",
    "    alt.StrokeDash('key:N').scale(\n",
    "            domain=['ds/dt', 'VTFD_3to10'],\n",
    "            range=[(1,1), (4,2)]\n",
    "        )\n",
    ").properties(width=150, height=150)\n",
    "\n",
    "\n",
    "\n",
    "bs_chart = alt.Chart(\n",
    "    tidy_df[tidy_df.measurement == 'snow flux'].set_index('time').loc['20221212 1200': '20221214 0000'].reset_index()\n",
    ").mark_line(color='black').encode(\n",
    "    alt.X('time:T'). axis(format='%m/%d').title(None),\n",
    "    alt.Y('value:Q').title(['Blowing snow flux', '(g/m^2/s)']),\n",
    "    alt.StrokeDash('height:N', legend=None)\n",
    ").properties(width=150, height=150)\n",
    "\n",
    "\n",
    "w_q_chart = alt.Chart(\n",
    "    tidy_df[tidy_df.variable.isin(w_q_variables)\n",
    "    ].set_index('time').loc['20221212 1200': '20221214 0000'].reset_index().pivot_table(\n",
    "        index='time',\n",
    "        columns='variable',\n",
    "        values='value'\n",
    "    ).rolling(\n",
    "        window=5, center=True, min_periods=0\n",
    "    ).mean().reset_index()\n",
    ").transform_fold(\n",
    "    w_q_variables\n",
    ").mark_line().encode(\n",
    "    alt.X('time:T'). axis().title(None),\n",
    "    alt.Y('value:Q').title([\"w'q' (g/m^2/s)\"]),\n",
    "    alt.Color('key:O').scale(scheme='turbo', domain=w_q_variables)\n",
    ").properties(width=150, height=150)\n",
    "\n",
    "w_chart = alt.Chart(\n",
    "    tidy_df[tidy_df.variable.isin(w_variables)\n",
    "    ].set_index('time').loc['20221212 1200': '20221214 0000'].reset_index().pivot_table(\n",
    "        index='time',\n",
    "        columns='variable',\n",
    "        values='value'\n",
    "    ).rolling(\n",
    "        window=5, center=True, min_periods=0\n",
    "    ).mean().reset_index()\n",
    ").transform_fold(\n",
    "    w_variables\n",
    ").mark_line().encode(\n",
    "    alt.X('time:T'). axis().title(None),\n",
    "    alt.Y('value:Q').title([\"w'q' (g/m^2/s)\"]),\n",
    "    alt.Color('key:O').scale(scheme='turbo', domain=w_variables)\n",
    ").properties(width=150, height=150)\n",
    "\n",
    "residuals_df = other_terms_df.merge(\n",
    "    vertical_advection_df, on='time'\n",
    ")\n",
    "\n",
    "residuals_df['residual_3'] = residuals_df['VTFD_3to10'] + residuals_df['ds/dt'] + residuals_df['vertical_advection_numerical_3']\n",
    "residuals_df['residual_5'] = residuals_df['VTFD_3to10'] + residuals_df['ds/dt'] + residuals_df['vertical_advection_numerical_5']\n",
    "residuals_df['residual_10'] = residuals_df['VTFD_3to10'] + residuals_df['ds/dt'] + residuals_df['vertical_advection_numerical_10']\n",
    "residuals_df['residual_15'] = residuals_df['VTFD_3to10'] + residuals_df['ds/dt'] + residuals_df['vertical_advection_numerical_15']\n",
    "residuals_df['residual_20'] = residuals_df['VTFD_3to10'] + residuals_df['ds/dt'] + residuals_df['vertical_advection_numerical_20']\n",
    "\n",
    "residuals_chart = alt.Chart(\n",
    "    residuals_df\n",
    ").transform_fold(\n",
    "    residual_vars\n",
    ").mark_area(color='grey', opacity=0.4).encode(\n",
    "    alt.X('time:T'). axis(format='%m/%d').title(None),\n",
    "    alt.Y('min(value):Q').title(['Water vapor flux density', '(g/m^3/s)']),\n",
    "    alt.Y2('max(value):Q').title(['Water vapor flux density', '(g/m^3/s)']),\n",
    ").properties(width=150, height=150)\n",
    "\n",
    "\n",
    "(\n",
    "    bs_chart.properties(width=150, height = 150)\n",
    "    |\n",
    "    w_q_chart.properties(width=150, height = 150)\n",
    "    |\n",
    "    w_chart\n",
    "    |\n",
    "    (residuals_chart + lines_chart_1 + lines_chart_2\n",
    "    ).resolve_scale()\n",
    ").resolve_scale(\n",
    "    x='shared', color='independent', strokeDash='independent'\n",
    ").display(renderer='svg')"
   ]
  },
  {
   "cell_type": "markdown",
   "metadata": {},
   "source": [
    "### May 5th Case Study, horizontal advection"
   ]
  },
  {
   "cell_type": "code",
   "execution_count": null,
   "metadata": {},
   "outputs": [],
   "source": [
    "src = advection_1d_fluxdensity_nonnorm_df.loc['20230505'][[\n",
    "        'w_h2o__3m_c',\n",
    "        'w_h2o__20m_c',\n",
    "        'VTFD_3to10',\n",
    "        'VTFD_3to20',\n",
    "        'ds/dt',\n",
    "        # 'vertical_advection_numerical_2',\n",
    "        'vertical_advection_numerical_3',\n",
    "        'vertical_advection_numerical_5',\n",
    "        'vertical_advection_numerical_10',\n",
    "        'vertical_advection_numerical_15',\n",
    "        'vertical_advection_numerical_20',\n",
    "    ]].reset_index()\n",
    "\n",
    "vertical_advection_vars = [\n",
    "    'vertical_advection_numerical_3', 'vertical_advection_numerical_5',\n",
    "    'vertical_advection_numerical_10', 'vertical_advection_numerical_15', 'vertical_advection_numerical_20',\n",
    "]\n",
    "residual_vars = [\n",
    "    'residual_3', 'residual_5', 'residual_10', 'residual_15', 'residual_20'\n",
    "]\n",
    "w_q_variables = [\n",
    "    'w_h2o__3m_c_raw',  'w_h2o__5m_c_raw', 'w_h2o__10m_c_raw', 'w_h2o__15m_c_raw','w_h2o__20m_c_raw'\n",
    "]\n",
    "w_variables = [\n",
    "    'w_3m_c',  'w_5m_c', 'w_10m_c', 'w_15m_c','w_20m_c'\n",
    "]\n",
    "dir_variables = [\n",
    "    'dir_3m_c',  'dir_5m_c', 'dir_10m_c', 'dir_15m_c','dir_20m_c'\n",
    "]\n",
    "\n",
    "vertical_advection_df = src.dropna()[\n",
    "        ['time'] + vertical_advection_vars\n",
    "    ].set_index('time').rolling(\n",
    "        window=5, center=True, min_periods=0\n",
    "    ).mean().reset_index()\n",
    "\n",
    "\n",
    "lines_chart_1 = alt.Chart(\n",
    "    vertical_advection_df\n",
    ").transform_fold(\n",
    "    vertical_advection_vars\n",
    ").mark_line().encode(\n",
    "    alt.X('time:T'). axis(format='%m/%d').title(None),\n",
    "    alt.Y('value:Q').title(['Water vapor flux density', '(g/m^3/s)']),\n",
    "    alt.Color('key:N').scale(scheme='turbo').sort(vertical_advection_vars)\n",
    ").properties(width=150, height=150)\n",
    "\n",
    "other_terms_df = src.dropna()[\n",
    "        ['time'] + ['VTFD_3to20', 'ds/dt']\n",
    "    ].set_index('time').rolling(\n",
    "        window=5, center=True, min_periods=0\n",
    "    ).mean().reset_index()\n",
    "\n",
    "\n",
    "\n",
    "lines_chart_2 = alt.Chart(\n",
    "    other_terms_df\n",
    ").transform_fold(\n",
    "    ['VTFD_3to20', 'ds/dt']\n",
    ").mark_line(color='black').encode(\n",
    "    alt.X('time:T'). axis(format='%m/%d').title(None),\n",
    "    alt.Y('value:Q').title(['Water vapor flux density', '(g/m^3/s)']).scale(\n",
    "        # domain = [-0.002, 0.004], clamp=True\n",
    "    ),\n",
    "    alt.StrokeDash('key:N').scale(\n",
    "            domain=['ds/dt', 'VTFD_3to20'],\n",
    "            range=[(1,1), (4,2)]\n",
    "        )\n",
    ").properties(width=150, height=150)\n",
    "\n",
    "w_q_chart = alt.Chart(\n",
    "    tidy_df[tidy_df.variable.isin(w_q_variables)\n",
    "    ].set_index('time').loc['20230505'].reset_index().pivot_table(\n",
    "        index='time',\n",
    "        columns='variable',\n",
    "        values='value'\n",
    "    ).rolling(\n",
    "        window=5, center=True, min_periods=0\n",
    "    ).mean().reset_index()\n",
    ").transform_fold(\n",
    "    w_q_variables\n",
    ").mark_line().encode(\n",
    "    alt.X('time:T'). axis().title(None),\n",
    "    alt.Y('value:Q').title([\"w'q' (g/m^2/s)\"]),\n",
    "    alt.Color('key:O').scale(scheme='turbo', domain=w_q_variables)\n",
    ").properties(width=150, height=150)\n",
    "\n",
    "w_chart = alt.Chart(\n",
    "    tidy_df[tidy_df.variable.isin(w_variables)\n",
    "    ].set_index('time').loc['20230505'].reset_index().pivot_table(\n",
    "        index='time',\n",
    "        columns='variable',\n",
    "        values='value'\n",
    "    ).rolling(\n",
    "        window=1, center=True, min_periods=0\n",
    "    ).mean().reset_index()\n",
    ").transform_fold(\n",
    "    w_variables\n",
    ").mark_line().encode(\n",
    "    alt.X('time:T'). axis().title(None),\n",
    "    alt.Y('value:Q').title([\"w (m/s)\"]),\n",
    "    alt.Color('key:O').scale(scheme='turbo', domain=w_variables)\n",
    ").properties(width=150, height=150)\n",
    "\n",
    "dir_chart = alt.Chart(\n",
    "    tidy_df[tidy_df.variable == 'dir_10m_c'].set_index('time').loc['20230505'].reset_index()\n",
    ").mark_line(color='black', strokeDash=[4,2]).encode(\n",
    "    alt.X('time:T').axis().title(None),\n",
    "    alt.Y('value:Q').title([\"Wind direction (˚)\"]),\n",
    ").properties(width=150, height=150)\n",
    "\n",
    "residuals_df = other_terms_df.merge(\n",
    "    vertical_advection_df, on='time'\n",
    ")\n",
    "\n",
    "residuals_df['residual_3'] = residuals_df['VTFD_3to20'] + residuals_df['ds/dt'] + residuals_df['vertical_advection_numerical_3']\n",
    "residuals_df['residual_5'] = residuals_df['VTFD_3to20'] + residuals_df['ds/dt'] + residuals_df['vertical_advection_numerical_5']\n",
    "residuals_df['residual_10'] = residuals_df['VTFD_3to20'] + residuals_df['ds/dt'] + residuals_df['vertical_advection_numerical_10']\n",
    "residuals_df['residual_15'] = residuals_df['VTFD_3to20'] + residuals_df['ds/dt'] + residuals_df['vertical_advection_numerical_15']\n",
    "residuals_df['residual_20'] = residuals_df['VTFD_3to20'] + residuals_df['ds/dt'] + residuals_df['vertical_advection_numerical_20']\n",
    "\n",
    "residuals_chart = alt.Chart(\n",
    "    residuals_df\n",
    ").transform_fold(\n",
    "    residual_vars\n",
    ").mark_area(color='grey', opacity=0.4).encode(\n",
    "    alt.X('time:T'). axis(format='%m/%d').title(None),\n",
    "    alt.Y('min(value):Q').title(['Water vapor flux density', '(g/m^3/s)']),\n",
    "    alt.Y2('max(value):Q').title(['Water vapor flux density', '(g/m^3/s)']),\n",
    ").properties(width=150, height=150)\n",
    "\n",
    "(\n",
    "    (dir_chart + w_chart).resolve_scale(y='independent')\n",
    "    |\n",
    "    w_q_chart.properties(width=150, height = 150)\n",
    "    |\n",
    "    (\n",
    "        residuals_chart + lines_chart_1 + lines_chart_2).resolve_scale()\n",
    ").resolve_scale(\n",
    "    x='shared', color='independent', strokeDash='independent'\n",
    ").display(renderer='svg')"
   ]
  },
  {
   "cell_type": "code",
   "execution_count": null,
   "metadata": {},
   "outputs": [],
   "source": [
    "alt.Chart(\n",
    "    tidy_df[tidy_df.variable.isin([\n",
    "        'u_h2o__3m_c',\n",
    "        'u_h2o__3m_d',\n",
    "        'u_h2o__3m_ue',\n",
    "        'u_h2o__3m_uw',\n",
    "    ])].set_index('time').loc['20230505'].reset_index()\n",
    ").mark_line().encode(\n",
    "    alt.X('time:T'). axis().title(None),\n",
    "    alt.Y('value:Q').title([\"u'q' (g/m^2/s)\"]),\n",
    "    alt.Color('tower:N')\n",
    ").properties(width=150, height=150) | alt.Chart(\n",
    "    tidy_df[tidy_df.variable.isin([\n",
    "        'v_h2o__3m_c',\n",
    "        'v_h2o__3m_d',\n",
    "        'v_h2o__3m_ue',\n",
    "        'v_h2o__3m_uw',\n",
    "    ])].set_index('time').loc['20230505'].reset_index()\n",
    ").mark_line().encode(\n",
    "    alt.X('time:T'). axis().title(None),\n",
    "    alt.Y('value:Q').title([\"v'q' (g/m^2/s)\"]),\n",
    "    alt.Color('tower:N')\n",
    ").properties(width=150, height=150)"
   ]
  },
  {
   "cell_type": "code",
   "execution_count": null,
   "metadata": {},
   "outputs": [],
   "source": [
    "alt.Chart(\n",
    "    (tidy_df[tidy_df.variable.isin([\n",
    "        # 'u_h2o__10m_c',\n",
    "        'u_h2o__10m_d',\n",
    "        'u_h2o__10m_ue',\n",
    "        'u_h2o__10m_uw',\n",
    "    ])].set_index('time').loc['20230505'].reset_index().groupby('time')[['value']].std() / 30).reset_index()\n",
    ").mark_line().encode(\n",
    "    alt.X('time:T'). axis().title(None),\n",
    "    alt.Y('value:Q').title([\"std dev[u'q' (g/m^2/s) ]\"]),\n",
    ").properties(width=150, height=150) | alt.Chart(\n",
    "    (tidy_df[tidy_df.variable.isin([\n",
    "        # 'v_h2o__10m_c',\n",
    "        'v_h2o__10m_d',\n",
    "        'v_h2o__10m_ue',\n",
    "        'v_h2o__10m_uw',\n",
    "    ])].set_index('time').loc['20230505'].reset_index().groupby('time')[['value']].std() / 30).reset_index()\n",
    ").mark_line().encode(\n",
    "    alt.X('time:T'). axis().title(None),\n",
    "    alt.Y('value:Q').title([\"std dev[v'q' (g/m^2/s) ]\"]),\n",
    ").properties(width=150, height=150)"
   ]
  },
  {
   "cell_type": "markdown",
   "metadata": {},
   "source": [
    "# Solutions for advection corrections"
   ]
  },
  {
   "cell_type": "markdown",
   "metadata": {},
   "source": [
    "## Linearly interpolate w everywhere"
   ]
  },
  {
   "cell_type": "code",
   "execution_count": null,
   "metadata": {},
   "outputs": [],
   "source": [
    "interp_w_values = []\n",
    "for datetime, data in vertical_advection_estimates.reset_index().groupby('time'):\n",
    "    data = data.sort_values('height')\n",
    "    data['w'] = data['w'].interpolate().values\n",
    "    interp_w_values.append(data[['time', 'w', 'height']])\n",
    "interp_w_values = pd.concat(interp_w_values).set_index('time')"
   ]
  },
  {
   "cell_type": "code",
   "execution_count": null,
   "metadata": {},
   "outputs": [],
   "source": [
    "vertical_advection_estimates_updated_w = vertical_advection_estimates.reset_index().set_index(['time', 'height']).drop(columns='w').join(\n",
    "    interp_w_values.reset_index().set_index(['time', 'height'])\n",
    ")"
   ]
  },
  {
   "cell_type": "code",
   "execution_count": null,
   "metadata": {},
   "outputs": [],
   "source": [
    "plt.scatter(\n",
    "    vertical_advection_estimates.loc['20230505 1200']['w'],\n",
    "    vertical_advection_estimates.loc['20230505 1200']['height'],\n",
    ")\n",
    "\n",
    "plt.scatter(\n",
    "    vertical_advection_estimates_updated_w.loc['20230505 1200'].reset_index()['w'],\n",
    "    vertical_advection_estimates_updated_w.loc['20230505 1200'].reset_index()['height'],\n",
    "    s=2\n",
    ")\n",
    "plt.xlabel('w (m/s)')\n",
    "plt.ylabel('z (m)')"
   ]
  },
  {
   "cell_type": "markdown",
   "metadata": {},
   "source": [
    "## Solve the integral numerically"
   ]
  },
  {
   "cell_type": "markdown",
   "metadata": {},
   "source": [
    "$$ \\overline{w'\\rho_v'}_{0} = \\overline{w'\\rho_v'}_{H} + \\int_0^H \\overline{w} \\frac{d \\overline{\\rho_v}}{d z} dz + \\int_0^H \\frac{d \\overline{\\rho_v}}{d t} dz$$"
   ]
  },
  {
   "cell_type": "markdown",
   "metadata": {},
   "source": [
    "Calculate the above integral for each time step. At each time step, linearly interpolate measurements of $\\overline{w}$, assuming a no-slip condition, as we have measurements of $\\rho$ and estimates of $d\\sigma / dz$ every meter. This allows us to solve the integral between 0 and $H$ at any of the eddy covariance heights, using a trapezoidal approach.\n",
    "\n",
    "Note that:\n",
    "* H for each EC changes with time due to snow depth\n",
    "* $\\frac{d \\sigma}{dz}$ is estimated using log polynomial, while $\\overline{w}$ is estimated using linear interpolation"
   ]
  },
  {
   "cell_type": "code",
   "execution_count": null,
   "metadata": {},
   "outputs": [],
   "source": [
    "snowdepth_data = tidy_df.query(\"variable == 'SnowDepth_c'\").set_index('time')['value']\n",
    "snowdepth_data = round(snowdepth_data, 4)"
   ]
  },
  {
   "cell_type": "code",
   "execution_count": null,
   "metadata": {},
   "outputs": [],
   "source": [
    "vertical_advection_estimates_updated_w = vertical_advection_estimates_updated_w.reset_index().set_index('time')"
   ]
  },
  {
   "cell_type": "code",
   "execution_count": null,
   "metadata": {},
   "outputs": [],
   "source": [
    "datetime"
   ]
  },
  {
   "cell_type": "code",
   "execution_count": null,
   "metadata": {},
   "outputs": [],
   "source": [
    "one_date_example = vertical_advection_estimates_updated_w.loc[datetime].set_index('height')\n",
    "# this_snowdepth = snowdepth_data.loc[datetime]\n",
    "this_snowdepth = 0\n",
    "one_date_example.index = one_date_example.index - this_snowdepth\n",
    "one_date_example = one_date_example[one_date_example.index > 0]\n",
    "lowest_meas_height = one_date_example.index.min()\n",
    "one_date_example.loc[0, 'w'] = 0\n",
    "# one_date_example.loc[0, 'rho_d'] = one_date_example.loc[lowest_meas_height, 'rho_d']\n",
    "one_date_example.loc[0, 'dabshum_dz'] = one_date_example.loc[lowest_meas_height, 'dabshum_dz']\n",
    "# one_date_example['vertical_advection'] = one_date_example['w'] * one_date_example['rho_d'] * one_date_example['dabshum_dz'] * 1000\n",
    "one_date_example['vertical_advection'] = one_date_example['w'] * one_date_example['dabshum_dz'] * 1000\n",
    "one_date_example = one_date_example.sort_index()"
   ]
  },
  {
   "cell_type": "code",
   "execution_count": null,
   "metadata": {},
   "outputs": [],
   "source": [
    "snowdepth_data.loc[datetime]"
   ]
  },
  {
   "cell_type": "code",
   "execution_count": null,
   "metadata": {},
   "outputs": [],
   "source": [
    "corrections = dict()\n",
    "for datetime in vertical_advection_estimates_updated_w.index.unique():\n",
    "    one_date_example = vertical_advection_estimates_updated_w.loc[datetime].set_index('height')\n",
    "    \n",
    "    this_snowdepth = snowdepth_data.loc[datetime]\n",
    "\n",
    "    one_date_example.index = one_date_example.index - this_snowdepth\n",
    "    one_date_example = one_date_example[one_date_example.index > 0]\n",
    "\n",
    "    lowest_meas_height = one_date_example.index.min()\n",
    "    one_date_example.loc[0, 'w'] = 0\n",
    "    # one_date_example.loc[0, 'rho_d'] = one_date_example.loc[lowest_meas_height, 'rho_d']\n",
    "    one_date_example.loc[0, 'dabshum_dz'] = one_date_example.loc[lowest_meas_height, 'dabshum_dz']\n",
    "\n",
    "    # one_date_example['vertical_advection'] = one_date_example['w'] * one_date_example['rho_d'] * one_date_example['dabshum_dz'] * 1000\n",
    "    one_date_example['vertical_advection'] = one_date_example['w'] * one_date_example['dabshum_dz'] * 1000\n",
    "\n",
    "    one_date_example = one_date_example.sort_index()\n",
    "    \n",
    "    # pd.Series(one_date_example['vertical_advection'].loc[ : (15 - this_snowdepth)].index).apply(lambda x: x -1.25888 if x > 0 else x)\n",
    "\n",
    "    vert_adv_correction_2m = np.trapz(\n",
    "        one_date_example['vertical_advection'].loc[ : (2 - this_snowdepth)],\n",
    "        one_date_example['vertical_advection'].loc[ : (2 - this_snowdepth)].index\n",
    "    ) + ds_dt_term.loc[datetime][0] * (2 - this_snowdepth)\n",
    "    vert_adv_correction_3m = np.trapz(\n",
    "        one_date_example['vertical_advection'].loc[ : (3 - this_snowdepth)],\n",
    "        one_date_example['vertical_advection'].loc[ : (3 - this_snowdepth)].index\n",
    "    ) + ds_dt_term.loc[datetime][0] * (3 - this_snowdepth)\n",
    "    vert_adv_correction_5m = np.trapz(\n",
    "        one_date_example['vertical_advection'].loc[ : (5 - this_snowdepth)],\n",
    "        one_date_example['vertical_advection'].loc[ : (5 - this_snowdepth)].index\n",
    "    ) + ds_dt_term.loc[datetime][0] * (5 - this_snowdepth)\n",
    "    vert_adv_correction_10m = np.trapz(\n",
    "        one_date_example['vertical_advection'].loc[ : (10 - this_snowdepth)],\n",
    "        one_date_example['vertical_advection'].loc[ : (10 - this_snowdepth)].index\n",
    "    ) + ds_dt_term.loc[datetime][0] * (10 - this_snowdepth)\n",
    "    vert_adv_correction_15m = np.trapz(\n",
    "        one_date_example['vertical_advection'].loc[ : (15 - this_snowdepth)],\n",
    "        one_date_example['vertical_advection'].loc[ : (15 - this_snowdepth)].index\n",
    "    ) + ds_dt_term.loc[datetime][0] * (15 - this_snowdepth)\n",
    "    vert_adv_correction_20m = np.trapz(\n",
    "        one_date_example['vertical_advection'].loc[ : (20 - this_snowdepth)],\n",
    "        one_date_example['vertical_advection'].loc[ : (20 - this_snowdepth)].index\n",
    "    ) + ds_dt_term.loc[datetime][0] * (20 - this_snowdepth)\n",
    "    corrections[datetime] = {\n",
    "        2: vert_adv_correction_2m,\n",
    "        3: vert_adv_correction_3m,\n",
    "        5: vert_adv_correction_5m,\n",
    "        10: vert_adv_correction_10m,\n",
    "        15: vert_adv_correction_15m,\n",
    "        20: vert_adv_correction_20m\n",
    "    }\n",
    "    "
   ]
  },
  {
   "cell_type": "markdown",
   "metadata": {},
   "source": [
    "## Aggregate results"
   ]
  },
  {
   "cell_type": "markdown",
   "metadata": {},
   "source": [
    "Aggregate vertical advection correction estimates"
   ]
  },
  {
   "cell_type": "code",
   "execution_count": null,
   "metadata": {},
   "outputs": [],
   "source": [
    "corrections_df = pd.DataFrame(corrections).T.melt(ignore_index=False).rename(columns={\n",
    "    'variable': 'height',\n",
    "    'value': 'vertical_advection_correction'\n",
    "})\n",
    "corrections_df.index = corrections_df.index.rename('time')\n",
    "corrections_df = corrections_df.reset_index().set_index(['time', 'height'])\n",
    "corrections_df"
   ]
  },
  {
   "cell_type": "markdown",
   "metadata": {},
   "source": [
    "Combine with gapfilled EC flux measurements"
   ]
  },
  {
   "cell_type": "code",
   "execution_count": null,
   "metadata": {},
   "outputs": [],
   "source": [
    "sublimation_gapfilled = tidy_df.query(\"measurement == 'w_h2o_'\").query(\"tower == 'c'\").query(\"height > 1\")\n",
    "sublimation_gapfilled = sublimation_gapfilled[sublimation_gapfilled.variable.str.contains('gapfill')].set_index(['time', 'height'])\n",
    "sublimation_gapfilled = sublimation_gapfilled.join(corrections_df)\n",
    "sublimation_gapfilled = sublimation_gapfilled.rename(columns={'value': 'w_h2o__'})\n",
    "sublimation_gapfilled['vertical_advection_correction'] = sublimation_gapfilled['vertical_advection_correction'].fillna(0)\n",
    "sublimation_gapfilled['w_h2o__corrected'] = sublimation_gapfilled['w_h2o__'] + sublimation_gapfilled['vertical_advection_correction']\n",
    "sublimation_gapfilled"
   ]
  },
  {
   "cell_type": "code",
   "execution_count": null,
   "metadata": {},
   "outputs": [],
   "source": [
    "from metpy.constants import density_water\n",
    "seconds_in_timestep = 60*30\n",
    "sublimation_gapfilled_mm = sublimation_gapfilled[['w_h2o__', 'w_h2o__corrected']]\n",
    "sublimation_gapfilled_mm = sublimation_gapfilled_mm*seconds_in_timestep/density_water.magnitude\n",
    "sublimation_gapfilled_cumsum = sublimation_gapfilled_mm.groupby(level=[1]).apply(lambda df: df.cumsum())\n",
    "sublimation_gapfilled_cumsum.index = sublimation_gapfilled_cumsum.index.droplevel(0)\n",
    "sublimation_gapfilled_cumsum_daily = sublimation_gapfilled_cumsum.reset_index().set_index('time').groupby([\n",
    "    pd.Grouper(freq='1440min'), 'height'\n",
    "]).max().reset_index()\n",
    "sublimation_gapfilled_cumsum_seasonal = sublimation_gapfilled_cumsum.loc['20230508 2330', :]\n",
    "alt.Chart(\n",
    "    sublimation_gapfilled_cumsum_seasonal.reset_index()\n",
    ").transform_fold([\n",
    "    'w_h2o__', 'w_h2o__corrected'\n",
    "]).mark_point(size=100).encode(\n",
    "    alt.Y(\"height:O\").sort('-y').title(\"Height (m)\"),\n",
    "    alt.X(\"value:Q\").scale(zero=False).title([\"Total sublimation (mm)\"]),\n",
    "    alt.Shape(\"key:N\")\n",
    ").properties(width = 150, height = 150)"
   ]
  },
  {
   "cell_type": "code",
   "execution_count": null,
   "metadata": {},
   "outputs": [],
   "source": [
    "sublimation_gapfilled_cumsum_seasonal.round(1)['w_h2o__'][10] / \\\n",
    "sublimation_gapfilled_cumsum_seasonal.round(1)['w_h2o__'][3]"
   ]
  },
  {
   "cell_type": "code",
   "execution_count": null,
   "metadata": {},
   "outputs": [],
   "source": [
    "sublimation_gapfilled_cumsum_seasonal.round(1)['w_h2o__corrected'][10] / \\\n",
    "sublimation_gapfilled_cumsum_seasonal.round(1)['w_h2o__corrected'][3]"
   ]
  },
  {
   "cell_type": "code",
   "execution_count": null,
   "metadata": {},
   "outputs": [],
   "source": [
    "(((sublimation_gapfilled_cumsum_seasonal.round(1)['w_h2o__corrected']/\\\n",
    "sublimation_gapfilled_cumsum_seasonal.round(1)['w_h2o__']).round(3)) - 1)*100"
   ]
  },
  {
   "cell_type": "code",
   "execution_count": null,
   "metadata": {},
   "outputs": [],
   "source": []
  },
  {
   "cell_type": "code",
   "execution_count": null,
   "metadata": {},
   "outputs": [],
   "source": [
    "((((sublimation_gapfilled_cumsum_seasonal.round(1)['w_h2o__corrected']/\\\n",
    "sublimation_gapfilled_cumsum_seasonal.round(1)['w_h2o__']).round(3)) - 1)*100).mean()"
   ]
  },
  {
   "cell_type": "code",
   "execution_count": null,
   "metadata": {},
   "outputs": [],
   "source": [
    "sublimation_gapfilled_mm_during_nobs = sublimation_gapfilled_mm.reset_index()\n",
    "sublimation_gapfilled_mm_during_nobs = sublimation_gapfilled_mm_during_nobs[\n",
    "    sublimation_gapfilled_mm_during_nobs.time.isin(nobs_times)\n",
    "]\n",
    "sublimation_gapfilled_mm_during_nobs = sublimation_gapfilled_mm_during_nobs.set_index('time').groupby('height').sum()\n",
    "\n",
    "((\n",
    "    sublimation_gapfilled_mm_during_nobs['w_h2o__corrected']\n",
    "    / sublimation_gapfilled_mm_during_nobs['w_h2o__']\n",
    ") - 1)*100"
   ]
  },
  {
   "cell_type": "code",
   "execution_count": null,
   "metadata": {},
   "outputs": [],
   "source": [
    "sublimation_gapfilled_mm_during_nobs = sublimation_gapfilled_mm.reset_index()\n",
    "sublimation_gapfilled_mm_during_nobs = sublimation_gapfilled_mm_during_nobs[\n",
    "    sublimation_gapfilled_mm_during_nobs.time.isin(downvalley_nobs_times)\n",
    "]\n",
    "sublimation_gapfilled_mm_during_nobs = sublimation_gapfilled_mm_during_nobs.set_index('time').groupby('height').sum()\n",
    "\n",
    "((\n",
    "    sublimation_gapfilled_mm_during_nobs['w_h2o__corrected']\n",
    "    / sublimation_gapfilled_mm_during_nobs['w_h2o__']\n",
    ") - 1)*100"
   ]
  },
  {
   "cell_type": "code",
   "execution_count": null,
   "metadata": {},
   "outputs": [],
   "source": [
    "sublimation_gapfilled_mm_during_nobs = sublimation_gapfilled_mm.reset_index()\n",
    "sublimation_gapfilled_mm_during_nobs = sublimation_gapfilled_mm_during_nobs[\n",
    "    sublimation_gapfilled_mm_during_nobs.time.isin(upvalley_nobs_times)\n",
    "]\n",
    "sublimation_gapfilled_mm_during_nobs = sublimation_gapfilled_mm_during_nobs.set_index('time').groupby('height').sum()\n",
    "\n",
    "((\n",
    "    sublimation_gapfilled_mm_during_nobs['w_h2o__corrected']\n",
    "    / sublimation_gapfilled_mm_during_nobs['w_h2o__']\n",
    ") - 1)*100"
   ]
  },
  {
   "cell_type": "code",
   "execution_count": null,
   "metadata": {},
   "outputs": [],
   "source": [
    "sublimation_gapfilled_mm.reset_index().set_index('time').loc['20221221': '20221222'].groupby('height').sum().round(2)"
   ]
  },
  {
   "cell_type": "code",
   "execution_count": null,
   "metadata": {},
   "outputs": [],
   "source": [
    "sublimation_gapfilled_mm_20230505_sum = sublimation_gapfilled_mm.reset_index().set_index('time').loc['20230505'].groupby('height').sum().round(2)\n",
    "((\n",
    "    sublimation_gapfilled_mm_20230505_sum['w_h2o__corrected']\n",
    "    / sublimation_gapfilled_mm_20230505_sum['w_h2o__']\n",
    ") - 1)*100"
   ]
  },
  {
   "cell_type": "code",
   "execution_count": null,
   "metadata": {},
   "outputs": [],
   "source": [
    "round(sublimation_gapfilled_cumsum_seasonal['w_h2o__corrected'] / sublimation_gapfilled_cumsum_seasonal['w_h2o__'], 3)"
   ]
  },
  {
   "cell_type": "code",
   "execution_count": null,
   "metadata": {},
   "outputs": [],
   "source": [
    "from metpy.constants import density_water\n",
    "seconds_in_timestep = 60*30\n",
    "sublimation_gapfilled_mm = sublimation_gapfilled[['w_h2o__', 'w_h2o__corrected']]\n",
    "sublimation_gapfilled_mm = sublimation_gapfilled_mm.reset_index() \n",
    "sublimation_gapfilled_mm = sublimation_gapfilled_mm[sublimation_gapfilled_mm.time.isin(upvalley_nobs_times)].groupby('height')[['w_h2o__', 'w_h2o__corrected']].sum().reset_index()\n",
    "upvalley_nobs_corrected_chart = alt.Chart(\n",
    "    sublimation_gapfilled_mm\n",
    ").transform_fold([\n",
    "    'w_h2o__', 'w_h2o__corrected'\n",
    "]).mark_point(size=100).encode(\n",
    "    alt.Y(\"height:O\").sort('-y').title(\"Height (m)\"),\n",
    "    alt.X(\"value:Q\").scale(zero=False).title([\"Total sublimation (mm)\"]),\n",
    "    alt.Shape(\"key:N\")\n",
    ").properties(width = 150, height = 150)"
   ]
  },
  {
   "cell_type": "code",
   "execution_count": null,
   "metadata": {},
   "outputs": [],
   "source": [
    "from metpy.constants import density_water\n",
    "seconds_in_timestep = 60*30\n",
    "sublimation_gapfilled_mm = sublimation_gapfilled[['w_h2o__', 'w_h2o__corrected']]\n",
    "sublimation_gapfilled_mm = sublimation_gapfilled_mm.reset_index() \n",
    "sublimation_gapfilled_mm = sublimation_gapfilled_mm[sublimation_gapfilled_mm.time.isin(downvalley_nobs_times)].groupby('height')[['w_h2o__', 'w_h2o__corrected']].sum().reset_index()\n",
    "downvalley_nobs_corrected_chart = alt.Chart(\n",
    "    sublimation_gapfilled_mm\n",
    ").transform_fold([\n",
    "    'w_h2o__', 'w_h2o__corrected'\n",
    "]).mark_point(size=100).encode(\n",
    "    alt.Y(\"height:O\").sort('-y').title(\"Height (m)\"),\n",
    "    alt.X(\"value:Q\").scale(zero=False).title([\"Total sublimation (mm)\"]),\n",
    "    alt.Shape(\"key:N\")\n",
    ").properties(width = 150, height = 150)"
   ]
  },
  {
   "cell_type": "code",
   "execution_count": null,
   "metadata": {},
   "outputs": [],
   "source": [
    "from metpy.constants import density_water\n",
    "seconds_in_timestep = 60*30\n",
    "sublimation_gapfilled_mm = sublimation_gapfilled[['w_h2o__', 'w_h2o__corrected']]\n",
    "sublimation_gapfilled_mm = sublimation_gapfilled_mm.reset_index() \n",
    "sublimation_gapfilled_mm = sublimation_gapfilled_mm[sublimation_gapfilled_mm.time.isin(bs_times)].groupby('height')[['w_h2o__', 'w_h2o__corrected']].sum().reset_index()\n",
    "bs_corrected_chart = alt.Chart(\n",
    "    sublimation_gapfilled_mm\n",
    ").transform_fold([\n",
    "    'w_h2o__', 'w_h2o__corrected'\n",
    "]).mark_point(size=100).encode(\n",
    "    alt.Y(\"height:O\").sort('-y').title(\"Height (m)\"),\n",
    "    alt.X(\"value:Q\").scale(zero=False).title([\"Total sublimation (mm)\"]),\n",
    "    alt.Shape(\"key:N\")\n",
    ").properties(width = 150, height = 150)"
   ]
  },
  {
   "cell_type": "code",
   "execution_count": null,
   "metadata": {},
   "outputs": [],
   "source": [
    "(upvalley_nobs_corrected_chart | downvalley_nobs_corrected_chart | bs_corrected_chart).resolve_scale(\n",
    "  y='shared'\n",
    ")"
   ]
  },
  {
   "cell_type": "code",
   "execution_count": null,
   "metadata": {},
   "outputs": [],
   "source": [
    "round(sublimation_gapfilled_cumsum.loc['2023-05-08 23:30:00'], 1)"
   ]
  },
  {
   "cell_type": "code",
   "execution_count": null,
   "metadata": {},
   "outputs": [],
   "source": [
    "import seaborn as sns"
   ]
  },
  {
   "cell_type": "code",
   "execution_count": null,
   "metadata": {},
   "outputs": [],
   "source": [
    "src = ((sublimation_gapfilled['w_h2o__corrected'] - sublimation_gapfilled['w_h2o__']) / sublimation_gapfilled['w_h2o__'])\n",
    "print(len(src))\n",
    "src = src[src < 1]\n",
    "print(len(src))\n",
    "src = src[src > -1]\n",
    "print(len(src))"
   ]
  },
  {
   "cell_type": "code",
   "execution_count": null,
   "metadata": {},
   "outputs": [],
   "source": [
    "sns.distplot(\n",
    "    src\n",
    ")"
   ]
  },
  {
   "cell_type": "code",
   "execution_count": null,
   "metadata": {},
   "outputs": [],
   "source": [
    "src.mean(), src.median()"
   ]
  },
  {
   "cell_type": "code",
   "execution_count": null,
   "metadata": {},
   "outputs": [],
   "source": [
    "display(((sublimation_gapfilled['w_h2o__corrected'] - sublimation_gapfilled['w_h2o__']) / sublimation_gapfilled['w_h2o__']).quantile(0.25))\n",
    "display(((sublimation_gapfilled['w_h2o__corrected'] - sublimation_gapfilled['w_h2o__']) / sublimation_gapfilled['w_h2o__']).quantile(0.50))\n",
    "display(((sublimation_gapfilled['w_h2o__corrected'] - sublimation_gapfilled['w_h2o__']) / sublimation_gapfilled['w_h2o__']).quantile(0.75))"
   ]
  },
  {
   "cell_type": "code",
   "execution_count": null,
   "metadata": {},
   "outputs": [],
   "source": [
    "round(sublimation_gapfilled_cumsum.loc['2023-05-08 23:30:00']['w_h2o__corrected'] / sublimation_gapfilled_cumsum.loc['2023-05-08 23:30:00']['w_h2o__'] - 1, 3)"
   ]
  },
  {
   "cell_type": "code",
   "execution_count": null,
   "metadata": {},
   "outputs": [],
   "source": [
    "round(sublimation_gapfilled_cumsum.loc['2023-05-08 23:30:00']['w_h2o__corrected'] / sublimation_gapfilled_cumsum.loc['2023-05-08 23:30:00']['w_h2o__'] - 1, 3).mean()"
   ]
  },
  {
   "cell_type": "code",
   "execution_count": null,
   "metadata": {},
   "outputs": [],
   "source": [
    "alt.Chart(\n",
    "    sublimation_gapfilled_cumsum.reset_index()\n",
    ").transform_fold([\n",
    "    'w_h2o__', 'w_h2o__corrected'\n",
    "]).mark_line().encode(\n",
    "    alt.X('hoursminutes(time):T'),\n",
    "    alt.Y('value:Q'),\n",
    "    alt.StrokeDash('key:N'),\n",
    "    alt.Facet('height:O')\n",
    ")"
   ]
  }
 ],
 "metadata": {
  "kernelspec": {
   "display_name": "sublimationofsnow",
   "language": "python",
   "name": "python3"
  },
  "language_info": {
   "codemirror_mode": {
    "name": "ipython",
    "version": 3
   },
   "file_extension": ".py",
   "mimetype": "text/x-python",
   "name": "python",
   "nbconvert_exporter": "python",
   "pygments_lexer": "ipython3",
   "version": "3.12.5"
  }
 },
 "nbformat": 4,
 "nbformat_minor": 2
}
