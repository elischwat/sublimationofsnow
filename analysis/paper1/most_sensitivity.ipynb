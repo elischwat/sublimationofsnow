{
 "cells": [
  {
   "cell_type": "markdown",
   "metadata": {},
   "source": [
    "In this notebook we run TurbPy and examine the sensivity of TurbPy's MOST solutions to:\n",
    "1. the saturation vapor pressure curve used to calculate surface water vapor pressure from surface temperature measurement\n",
    "2. choice of surface temperature measusrement (including estimating surface temperature as 2/3-meter surface temperature)\n",
    "\n",
    "See `sat_vapor_pressure_curve.ipynb`, the analysis which preceded this, `create_turbulence_dataset.ipynb`, where we create one of the datasets we use here, and `most_sensitivity.py`, where we create the model results dataset we use here."
   ]
  },
  {
   "cell_type": "code",
   "execution_count": 1,
   "metadata": {},
   "outputs": [
    {
     "data": {
      "text/plain": [
       "RendererRegistry.enable('jupyterlab')"
      ]
     },
     "execution_count": 1,
     "metadata": {},
     "output_type": "execute_result"
    }
   ],
   "source": [
    "import os\n",
    "\n",
    "import numpy as np\n",
    "import pandas as pd\n",
    "\n",
    "from sublimpy import tidy\n",
    "\n",
    "import altair as alt\n",
    "alt.data_transformers.enable('json')\n",
    "alt.renderers.enable('jupyterlab')"
   ]
  },
  {
   "cell_type": "markdown",
   "metadata": {},
   "source": [
    "# Prerequisite files"
   ]
  },
  {
   "cell_type": "markdown",
   "metadata": {},
   "source": [
    "\n",
    "* use script `analysis/sail/lidar_wind_profile_synoptic_wind_coherence.py` to download synoptic wind data\n",
    "* use `cumulative_sublimation.ipynb` to create daily dataset\n",
    "* use `analysis/sos/create_turbulence_dataset.ipynb` to create SoS tidy dataset and the (disdrometer) precip data"
   ]
  },
  {
   "cell_type": "code",
   "execution_count": 2,
   "metadata": {},
   "outputs": [],
   "source": [
    "# Inputs\n",
    "start_date = '20221130'\n",
    "end_date = '20230517'\n",
    "met_gothic = 'gucmetM1.b1'\n",
    "tsi_sail_code = 'guctsiskycoverM1.b1'\n",
    "data_dir = '/data2/elilouis/sublimationofsnow'\n",
    "username = os.getenv(\"ARM_USERNAME\")\n",
    "token = os.getenv(\"ARM_TOKEN\")"
   ]
  },
  {
   "cell_type": "markdown",
   "metadata": {},
   "source": [
    "# Open Data "
   ]
  },
  {
   "cell_type": "markdown",
   "metadata": {},
   "source": [
    "## Measurements"
   ]
  },
  {
   "cell_type": "code",
   "execution_count": 3,
   "metadata": {},
   "outputs": [],
   "source": [
    "try:\n",
    "    tidy_df_30Min = pd.read_parquet(f\"../sos/tidy_df_30Min_{start_date}_{end_date}_noplanar_fit.parquet\")\n",
    "except FileNotFoundError:\n",
    "    print(\"No file such file exists for these dates.\")\n",
    "\n",
    "try:\n",
    "    tidy_df_5Min = pd.read_parquet(f\"../sos/tidy_df_{start_date}_{end_date}_noplanar_fit.parquet\")\n",
    "except FileNotFoundError:\n",
    "    print(\"No file such file exists for these dates.\")\n",
    "    \n",
    "tidy_df_5Min['time'] = pd.to_datetime(tidy_df_5Min['time'])\n",
    "tidy_df_30Min['time'] = pd.to_datetime(tidy_df_30Min['time'])\n"
   ]
  },
  {
   "cell_type": "markdown",
   "metadata": {},
   "source": [
    "## Model results"
   ]
  },
  {
   "cell_type": "code",
   "execution_count": 4,
   "metadata": {},
   "outputs": [
    {
     "name": "stdout",
     "output_type": "stream",
     "text": [
      "-rw-rw-r--. 1 elilouis elilouis 113M Oct 30 13:01 model_results.parquet\n"
     ]
    }
   ],
   "source": [
    "ls -lah model_results.parquet"
   ]
  },
  {
   "cell_type": "code",
   "execution_count": 5,
   "metadata": {},
   "outputs": [
    {
     "data": {
      "text/html": [
       "<div>\n",
       "<style scoped>\n",
       "    .dataframe tbody tr th:only-of-type {\n",
       "        vertical-align: middle;\n",
       "    }\n",
       "\n",
       "    .dataframe tbody tr th {\n",
       "        vertical-align: top;\n",
       "    }\n",
       "\n",
       "    .dataframe thead th {\n",
       "        text-align: right;\n",
       "    }\n",
       "</style>\n",
       "<table border=\"1\" class=\"dataframe\">\n",
       "  <thead>\n",
       "    <tr style=\"text-align: right;\">\n",
       "      <th></th>\n",
       "      <th>time</th>\n",
       "      <th>config</th>\n",
       "      <th>latent heat flux</th>\n",
       "      <th>sensible heat flux</th>\n",
       "      <th>zeta</th>\n",
       "      <th>latent heat conductance</th>\n",
       "      <th>sensible heat conductance</th>\n",
       "      <th>scheme</th>\n",
       "      <th>z0</th>\n",
       "      <th>e_sat_curve</th>\n",
       "      <th>surface_measurement</th>\n",
       "      <th>most_config</th>\n",
       "    </tr>\n",
       "  </thead>\n",
       "  <tbody>\n",
       "    <tr>\n",
       "      <th>0</th>\n",
       "      <td>2022-11-29 17:00:00</td>\n",
       "      <td>Standard Tsurf_c e_sat_metpy 1e-05</td>\n",
       "      <td>0.003384</td>\n",
       "      <td>0.002263</td>\n",
       "      <td>NaN</td>\n",
       "      <td>0.003490</td>\n",
       "      <td>0.003490</td>\n",
       "      <td>yang</td>\n",
       "      <td>0.00001</td>\n",
       "      <td>metpy</td>\n",
       "      <td>Tsurf_c</td>\n",
       "      <td>Standard</td>\n",
       "    </tr>\n",
       "    <tr>\n",
       "      <th>1</th>\n",
       "      <td>2022-11-29 17:30:00</td>\n",
       "      <td>Standard Tsurf_c e_sat_metpy 1e-05</td>\n",
       "      <td>0.005943</td>\n",
       "      <td>0.000919</td>\n",
       "      <td>NaN</td>\n",
       "      <td>0.004690</td>\n",
       "      <td>0.004690</td>\n",
       "      <td>yang</td>\n",
       "      <td>0.00001</td>\n",
       "      <td>metpy</td>\n",
       "      <td>Tsurf_c</td>\n",
       "      <td>Standard</td>\n",
       "    </tr>\n",
       "    <tr>\n",
       "      <th>2</th>\n",
       "      <td>2022-11-29 18:00:00</td>\n",
       "      <td>Standard Tsurf_c e_sat_metpy 1e-05</td>\n",
       "      <td>0.004470</td>\n",
       "      <td>-0.001354</td>\n",
       "      <td>NaN</td>\n",
       "      <td>0.003773</td>\n",
       "      <td>0.003773</td>\n",
       "      <td>yang</td>\n",
       "      <td>0.00001</td>\n",
       "      <td>metpy</td>\n",
       "      <td>Tsurf_c</td>\n",
       "      <td>Standard</td>\n",
       "    </tr>\n",
       "    <tr>\n",
       "      <th>3</th>\n",
       "      <td>2022-11-29 18:30:00</td>\n",
       "      <td>Standard Tsurf_c e_sat_metpy 1e-05</td>\n",
       "      <td>0.001274</td>\n",
       "      <td>-0.001298</td>\n",
       "      <td>NaN</td>\n",
       "      <td>0.001657</td>\n",
       "      <td>0.001657</td>\n",
       "      <td>yang</td>\n",
       "      <td>0.00001</td>\n",
       "      <td>metpy</td>\n",
       "      <td>Tsurf_c</td>\n",
       "      <td>Standard</td>\n",
       "    </tr>\n",
       "    <tr>\n",
       "      <th>4</th>\n",
       "      <td>2022-11-29 19:00:00</td>\n",
       "      <td>Standard Tsurf_c e_sat_metpy 1e-05</td>\n",
       "      <td>0.000506</td>\n",
       "      <td>-0.000939</td>\n",
       "      <td>NaN</td>\n",
       "      <td>0.001040</td>\n",
       "      <td>0.001040</td>\n",
       "      <td>yang</td>\n",
       "      <td>0.00001</td>\n",
       "      <td>metpy</td>\n",
       "      <td>Tsurf_c</td>\n",
       "      <td>Standard</td>\n",
       "    </tr>\n",
       "  </tbody>\n",
       "</table>\n",
       "</div>"
      ],
      "text/plain": [
       "                 time                              config  latent heat flux  \\\n",
       "0 2022-11-29 17:00:00  Standard Tsurf_c e_sat_metpy 1e-05          0.003384   \n",
       "1 2022-11-29 17:30:00  Standard Tsurf_c e_sat_metpy 1e-05          0.005943   \n",
       "2 2022-11-29 18:00:00  Standard Tsurf_c e_sat_metpy 1e-05          0.004470   \n",
       "3 2022-11-29 18:30:00  Standard Tsurf_c e_sat_metpy 1e-05          0.001274   \n",
       "4 2022-11-29 19:00:00  Standard Tsurf_c e_sat_metpy 1e-05          0.000506   \n",
       "\n",
       "   sensible heat flux  zeta  latent heat conductance  \\\n",
       "0            0.002263   NaN                 0.003490   \n",
       "1            0.000919   NaN                 0.004690   \n",
       "2           -0.001354   NaN                 0.003773   \n",
       "3           -0.001298   NaN                 0.001657   \n",
       "4           -0.000939   NaN                 0.001040   \n",
       "\n",
       "   sensible heat conductance scheme       z0 e_sat_curve surface_measurement  \\\n",
       "0                   0.003490   yang  0.00001       metpy             Tsurf_c   \n",
       "1                   0.004690   yang  0.00001       metpy             Tsurf_c   \n",
       "2                   0.003773   yang  0.00001       metpy             Tsurf_c   \n",
       "3                   0.001657   yang  0.00001       metpy             Tsurf_c   \n",
       "4                   0.001040   yang  0.00001       metpy             Tsurf_c   \n",
       "\n",
       "  most_config  \n",
       "0    Standard  \n",
       "1    Standard  \n",
       "2    Standard  \n",
       "3    Standard  \n",
       "4    Standard  "
      ]
     },
     "execution_count": 5,
     "metadata": {},
     "output_type": "execute_result"
    }
   ],
   "source": [
    "model_df = pd.read_parquet(\"model_results.parquet\")\n",
    "\n",
    "model_df['scheme'] = model_df['config'].apply(\n",
    "    lambda v: 'andreas' if 'andreas lengths' in v else 'yang'\n",
    ")\n",
    "model_df['z0'] = model_df['config'].apply(\n",
    "    lambda v: float(v.split(' ')[-1])\n",
    ")\n",
    "\n",
    "model_df['e_sat_curve'] = model_df['config'].apply(\n",
    "    lambda v: 'metpy' if 'metpy' in v else 'alduchov'\n",
    ")\n",
    "\n",
    "model_df['surface_measurement'] = model_df['config'].apply(\n",
    "    lambda v: v.split(' ')[-3]\n",
    ")\n",
    "\n",
    "model_df['most_config'] = model_df['config'].apply(lambda s: ' '.join(s.split(' ')[:-3]))\n",
    "# remove the scalar roughness length parameterization info \n",
    "model_df['most_config'] = model_df['most_config'].str.replace(' andreas lengths', '')\n",
    "\n",
    "model_df.head()"
   ]
  },
  {
   "cell_type": "code",
   "execution_count": 6,
   "metadata": {},
   "outputs": [
    {
     "data": {
      "text/plain": [
       "array(['Standard', 'Louis b = 12', 'MO Marks Dozier',\n",
       "       'MO Holtslag de Bruin', 'MO Webb NoahMP', 'MO Beljaars Holtslag',\n",
       "       'MO Cheng Brutsaert'], dtype=object)"
      ]
     },
     "execution_count": 6,
     "metadata": {},
     "output_type": "execute_result"
    }
   ],
   "source": [
    "model_df.most_config.unique()"
   ]
  },
  {
   "cell_type": "code",
   "execution_count": 7,
   "metadata": {},
   "outputs": [
    {
     "data": {
      "text/html": [
       "<div>\n",
       "<style scoped>\n",
       "    .dataframe tbody tr th:only-of-type {\n",
       "        vertical-align: middle;\n",
       "    }\n",
       "\n",
       "    .dataframe tbody tr th {\n",
       "        vertical-align: top;\n",
       "    }\n",
       "\n",
       "    .dataframe thead th {\n",
       "        text-align: right;\n",
       "    }\n",
       "</style>\n",
       "<table border=\"1\" class=\"dataframe\">\n",
       "  <thead>\n",
       "    <tr style=\"text-align: right;\">\n",
       "      <th></th>\n",
       "      <th>measurement</th>\n",
       "      <th>variable</th>\n",
       "      <th>height</th>\n",
       "      <th>tower</th>\n",
       "      <th>time</th>\n",
       "      <th>value</th>\n",
       "    </tr>\n",
       "  </thead>\n",
       "  <tbody>\n",
       "    <tr>\n",
       "      <th>3959632</th>\n",
       "      <td>w_h2o_</td>\n",
       "      <td>w_h2o__3m_c</td>\n",
       "      <td>3.0</td>\n",
       "      <td>c</td>\n",
       "      <td>2022-11-29 17:00:00</td>\n",
       "      <td>0.001584</td>\n",
       "    </tr>\n",
       "    <tr>\n",
       "      <th>3959633</th>\n",
       "      <td>w_h2o_</td>\n",
       "      <td>w_h2o__3m_c</td>\n",
       "      <td>3.0</td>\n",
       "      <td>c</td>\n",
       "      <td>2022-11-29 17:30:00</td>\n",
       "      <td>0.001530</td>\n",
       "    </tr>\n",
       "    <tr>\n",
       "      <th>3959634</th>\n",
       "      <td>w_h2o_</td>\n",
       "      <td>w_h2o__3m_c</td>\n",
       "      <td>3.0</td>\n",
       "      <td>c</td>\n",
       "      <td>2022-11-29 18:00:00</td>\n",
       "      <td>-0.000297</td>\n",
       "    </tr>\n",
       "    <tr>\n",
       "      <th>3959635</th>\n",
       "      <td>w_h2o_</td>\n",
       "      <td>w_h2o__3m_c</td>\n",
       "      <td>3.0</td>\n",
       "      <td>c</td>\n",
       "      <td>2022-11-29 18:30:00</td>\n",
       "      <td>0.000404</td>\n",
       "    </tr>\n",
       "    <tr>\n",
       "      <th>3959636</th>\n",
       "      <td>w_h2o_</td>\n",
       "      <td>w_h2o__3m_c</td>\n",
       "      <td>3.0</td>\n",
       "      <td>c</td>\n",
       "      <td>2022-11-29 19:00:00</td>\n",
       "      <td>-0.000359</td>\n",
       "    </tr>\n",
       "    <tr>\n",
       "      <th>...</th>\n",
       "      <td>...</td>\n",
       "      <td>...</td>\n",
       "      <td>...</td>\n",
       "      <td>...</td>\n",
       "      <td>...</td>\n",
       "      <td>...</td>\n",
       "    </tr>\n",
       "    <tr>\n",
       "      <th>3967741</th>\n",
       "      <td>w_h2o_</td>\n",
       "      <td>w_h2o__3m_c</td>\n",
       "      <td>3.0</td>\n",
       "      <td>c</td>\n",
       "      <td>2023-05-17 15:30:00</td>\n",
       "      <td>0.033596</td>\n",
       "    </tr>\n",
       "    <tr>\n",
       "      <th>3967742</th>\n",
       "      <td>w_h2o_</td>\n",
       "      <td>w_h2o__3m_c</td>\n",
       "      <td>3.0</td>\n",
       "      <td>c</td>\n",
       "      <td>2023-05-17 16:00:00</td>\n",
       "      <td>0.029292</td>\n",
       "    </tr>\n",
       "    <tr>\n",
       "      <th>3967743</th>\n",
       "      <td>w_h2o_</td>\n",
       "      <td>w_h2o__3m_c</td>\n",
       "      <td>3.0</td>\n",
       "      <td>c</td>\n",
       "      <td>2023-05-17 16:30:00</td>\n",
       "      <td>0.025573</td>\n",
       "    </tr>\n",
       "    <tr>\n",
       "      <th>3967744</th>\n",
       "      <td>w_h2o_</td>\n",
       "      <td>w_h2o__3m_c</td>\n",
       "      <td>3.0</td>\n",
       "      <td>c</td>\n",
       "      <td>2023-05-17 17:00:00</td>\n",
       "      <td>0.025568</td>\n",
       "    </tr>\n",
       "    <tr>\n",
       "      <th>3967745</th>\n",
       "      <td>w_h2o_</td>\n",
       "      <td>w_h2o__3m_c</td>\n",
       "      <td>3.0</td>\n",
       "      <td>c</td>\n",
       "      <td>2023-05-17 17:30:00</td>\n",
       "      <td>0.031778</td>\n",
       "    </tr>\n",
       "  </tbody>\n",
       "</table>\n",
       "<p>8114 rows × 6 columns</p>\n",
       "</div>"
      ],
      "text/plain": [
       "        measurement     variable  height tower                time     value\n",
       "3959632      w_h2o_  w_h2o__3m_c     3.0     c 2022-11-29 17:00:00  0.001584\n",
       "3959633      w_h2o_  w_h2o__3m_c     3.0     c 2022-11-29 17:30:00  0.001530\n",
       "3959634      w_h2o_  w_h2o__3m_c     3.0     c 2022-11-29 18:00:00 -0.000297\n",
       "3959635      w_h2o_  w_h2o__3m_c     3.0     c 2022-11-29 18:30:00  0.000404\n",
       "3959636      w_h2o_  w_h2o__3m_c     3.0     c 2022-11-29 19:00:00 -0.000359\n",
       "...             ...          ...     ...   ...                 ...       ...\n",
       "3967741      w_h2o_  w_h2o__3m_c     3.0     c 2023-05-17 15:30:00  0.033596\n",
       "3967742      w_h2o_  w_h2o__3m_c     3.0     c 2023-05-17 16:00:00  0.029292\n",
       "3967743      w_h2o_  w_h2o__3m_c     3.0     c 2023-05-17 16:30:00  0.025573\n",
       "3967744      w_h2o_  w_h2o__3m_c     3.0     c 2023-05-17 17:00:00  0.025568\n",
       "3967745      w_h2o_  w_h2o__3m_c     3.0     c 2023-05-17 17:30:00  0.031778\n",
       "\n",
       "[8114 rows x 6 columns]"
      ]
     },
     "execution_count": 7,
     "metadata": {},
     "output_type": "execute_result"
    }
   ],
   "source": [
    "measured_data = tidy_df_30Min.query(\"variable == 'w_h2o__3m_c'\")\n",
    "measured_data"
   ]
  },
  {
   "cell_type": "markdown",
   "metadata": {},
   "source": [
    "# Calculate r^2 values for model runs"
   ]
  },
  {
   "cell_type": "code",
   "execution_count": 8,
   "metadata": {},
   "outputs": [],
   "source": [
    "# no_blowing_snow_data = tidy_df_30Min[\n",
    "#     tidy_df_30Min.variable.isin([\"SF_avg_1m_ue\", \"SF_avg_2m_ue\"])\n",
    "# ].query(\"value == 0\")\n",
    "\n",
    "# negative_humidity_grad = tidy_df_30Min[\n",
    "#     tidy_df_30Min.variable == 'q_gradient_3m_c'\n",
    "# ].query(\"value < 0\")\n",
    "\n",
    "# times_no_bs_and_negative_q_grad = pd.merge(\n",
    "#     no_blowing_snow_data[['time']],\n",
    "#     negative_humidity_grad[['time']],\n",
    "#     on = 'time',\n",
    "#     how = 'inner'\n",
    "# )['time']\n",
    "\n",
    "# from sklearn.metrics import r2_score\n",
    "\n",
    "# r2_dict = {}\n",
    "# for config in model_df.config.unique():\n",
    "#     this_config_data = model_df[model_df.config == config]\n",
    "#     merged = measured_data[['time', 'value']].merge(this_config_data[['time', 'latent heat flux']], on='time').set_index(\"time\")\n",
    "#     merged = merged[['value', 'latent heat flux']].dropna()\n",
    "#     r2_dict[config] = r2_score(merged['value'], merged['latent heat flux'])\n",
    "\n",
    "# r2_dict_limited_data = {}\n",
    "# for config in model_df.config.unique():\n",
    "#     this_config_data = model_df[model_df.config == config]\n",
    "#     merged = measured_data[['time', 'value']].merge(this_config_data[['time', 'latent heat flux']], on='time').set_index(\"time\")\n",
    "#     merged = merged[['value', 'latent heat flux']].dropna()\n",
    "#     merged = merged.reset_index()[merged.reset_index()['time'].isin(times_no_bs_and_negative_q_grad)]\n",
    "#     r2_dict_limited_data[config] = r2_score(merged['value'], merged['latent heat flux'])\n",
    "\n",
    "# print(r2_dict['MO Holtslag de Bruin Tsurf_c e_sat_alduchov 0.0001'])\n",
    "# print(r2_dict_limited_data['MO Holtslag de Bruin Tsurf_c e_sat_alduchov 0.0001'])\n",
    "\n",
    "# r2_df = pd.DataFrame({\n",
    "#     'config': r2_dict.keys(),\n",
    "#     'r2': r2_dict.values()\n",
    "# })"
   ]
  },
  {
   "cell_type": "code",
   "execution_count": 9,
   "metadata": {},
   "outputs": [],
   "source": [
    "# config = 'MO Holtslag de Bruin Tsurf_c e_sat_alduchov 0.0001'\n",
    "# this_config_data = model_df[model_df.config == config]\n",
    "# merged = measured_data[['time', 'value']].merge(this_config_data[['time', 'latent heat flux']], on='time').set_index(\"time\")\n",
    "# merged = merged[['value', 'latent heat flux']].dropna()\n",
    "# merged = merged.reset_index()[merged.reset_index()['time'].isin(times_no_bs_and_negative_q_grad)]\n",
    "# merged = merged[merged.time > \"2022-12-01\"][merged.time < \"2023-05-12\"]\n",
    "# r2_score(\n",
    "#     merged['value'],\n",
    "#     merged['latent heat flux']\n",
    "# )"
   ]
  },
  {
   "cell_type": "markdown",
   "metadata": {},
   "source": [
    "## Make a wide df form the measured data for convenience\n"
   ]
  },
  {
   "cell_type": "code",
   "execution_count": 10,
   "metadata": {},
   "outputs": [],
   "source": [
    "VARIABLES = [\n",
    "    ## Input Variables for Turbpy\n",
    "    'Tsurf_c',\n",
    "    'Tsurf_d',\n",
    "    'Tsurfplanck_c',\n",
    "    'Tsurfplanck_d',\n",
    "    'Tsurf_ue',\n",
    "    'Tsurf_uw',\n",
    "    'Tsurf_rad_d',\n",
    "    'P_10m_c',\n",
    "    ## Input variables for calculating dewpoint temperature\n",
    "    'T_3m_c',\n",
    "    'RH_3m_c',\n",
    "    ## Input Variables\n",
    "    'spd_3m_c',\n",
    "    'P_10m_c',\n",
    "    # 'Tpot_3m_c',\n",
    "    # 'Tsurfpot_c',\n",
    "    'airdensity_3m_c',\n",
    "    'mixingratio_3m_c',\n",
    "    'Tsurfmixingratio_c',\n",
    "    # 'T_3m_c',\n",
    "    ## Measurement Variables\n",
    "    'w_h2o__3m_c',\n",
    "    'u*_3m_c',\n",
    "    'Ri_3m_c',\n",
    "]\n",
    "\n",
    "# CREATE WIDE DATAFRAME\n",
    "wide_df = tidy_df_30Min[tidy_df_30Min.variable.isin(VARIABLES)].pivot_table(\n",
    "    values = 'value',\n",
    "    index = 'time',\n",
    "    columns='variable'\n",
    ").reset_index()"
   ]
  },
  {
   "cell_type": "code",
   "execution_count": 11,
   "metadata": {},
   "outputs": [
    {
     "data": {
      "text/plain": [
       "['Tsurfairdensity_c',\n",
       " 'Tsurfairdensity_rad_d',\n",
       " 'Tsurfmixingratio_c',\n",
       " 'Tsurfmixingratio_rad_d',\n",
       " 'Tsurfspecifichumidity_c',\n",
       " 'Tsurfpot_c',\n",
       " 'Tsurfpot_rad_d',\n",
       " 'Tsurfpotvirtual_c',\n",
       " 'Tsurfpotvirtual_rad_d',\n",
       " 'Tsurf_c',\n",
       " 'Tsurf_d',\n",
       " 'Tsurf_rad_d',\n",
       " 'Tsurf_ue',\n",
       " 'Tsurf_uw',\n",
       " 'Tsurfplanck_c',\n",
       " 'Tsurfplanck_d',\n",
       " 'Tsurfplanck_ue',\n",
       " 'Tsurfplanck_uw',\n",
       " 'Tsurfvirtual_c',\n",
       " 'Tsurfvirtual_rad_d',\n",
       " 'Tsurfvaporpressure_c',\n",
       " 'Tsurfvaporpressure_rad_d']"
      ]
     },
     "execution_count": 11,
     "metadata": {},
     "output_type": "execute_result"
    }
   ],
   "source": [
    "[v for v in tidy_df_30Min.variable.unique() if 'Tsurf' in v]"
   ]
  },
  {
   "cell_type": "code",
   "execution_count": 12,
   "metadata": {},
   "outputs": [
    {
     "data": {
      "text/plain": [
       "0      -12.732437\n",
       "1      -13.225627\n",
       "2      -13.852748\n",
       "3      -15.690720\n",
       "4      -17.101761\n",
       "          ...    \n",
       "7978    20.186076\n",
       "7979    18.326569\n",
       "7980    17.401835\n",
       "7981    14.687220\n",
       "7982    13.159276\n",
       "Name: Tsurfplanck_c, Length: 7983, dtype: float64"
      ]
     },
     "execution_count": 12,
     "metadata": {},
     "output_type": "execute_result"
    }
   ],
   "source": [
    "wide_df['Tsurfplanck_c']"
   ]
  },
  {
   "cell_type": "markdown",
   "metadata": {},
   "source": [
    "# Look at seasonal cumulative sublimation from all the models"
   ]
  },
  {
   "cell_type": "markdown",
   "metadata": {},
   "source": [
    "## Fix outliers manually"
   ]
  },
  {
   "cell_type": "markdown",
   "metadata": {},
   "source": [
    "This one outlier was due to some strange anamoly in the surface temperature measurement"
   ]
  },
  {
   "cell_type": "code",
   "execution_count": 13,
   "metadata": {},
   "outputs": [],
   "source": [
    "model_df.loc[(model_df.time == \"2023-01-22 1400\") & (model_df.surface_measurement == 'Tsurf_d'), 'latent heat flux'] = 0\n",
    "model_df.loc[(model_df.time == \"2023-01-22 1400\") & (model_df.surface_measurement == 'Tsurf_d'), 'sensible heat flux'] = 0"
   ]
  },
  {
   "cell_type": "markdown",
   "metadata": {},
   "source": []
  },
  {
   "cell_type": "code",
   "execution_count": 14,
   "metadata": {},
   "outputs": [],
   "source": [
    "src_cumsum = pd.DataFrame(model_df.sort_values(\"time\").set_index(\n",
    "    [\"time\", \"config\", \"scheme\", \"z0\", \"e_sat_curve\", \"surface_measurement\", \"most_config\"]\n",
    ").groupby([\"config\", \"scheme\", \"z0\", \"e_sat_curve\", \"surface_measurement\", \"most_config\"])['latent heat flux'].cumsum()).reset_index()\n",
    "src_cumsum_daily = pd.DataFrame(src_cumsum.set_index(\"time\").groupby(\n",
    "    ['config', \"scheme\", \"z0\", \"e_sat_curve\", \"surface_measurement\", \"most_config\", pd.Grouper(freq='1440Min')]\n",
    ")['latent heat flux'].max()).reset_index()"
   ]
  },
  {
   "cell_type": "code",
   "execution_count": 15,
   "metadata": {},
   "outputs": [],
   "source": [
    "from metpy.constants import density_water\n",
    "seconds_per_30min = 60*30\n",
    "src_cumsum_daily['latent heat flux (mm)'] = src_cumsum_daily['latent heat flux'].values * seconds_per_30min/density_water.magnitude"
   ]
  },
  {
   "cell_type": "code",
   "execution_count": 16,
   "metadata": {},
   "outputs": [],
   "source": [
    "tidy_df_30Min = tidy.tidy_df_add_variable(\n",
    "    tidy_df_30Min,\n",
    "    tidy_df_30Min.query(\"variable == 'w_h2o__3m_c'\").value.cumsum().values * seconds_per_30min/density_water.magnitude,\n",
    "    'w_h2o__cum_sub_mm_3m_c',\n",
    "    \"cumulative sublimation\",\n",
    "    3,\n",
    "    'c'\n",
    ")\n",
    "\n",
    "tidy_df_30Min = tidy.tidy_df_add_variable(\n",
    "    tidy_df_30Min,\n",
    "    tidy_df_30Min.query(\"variable == 'w_h2o__3m_d'\").value.cumsum().values * seconds_per_30min/density_water.magnitude,\n",
    "    'w_h2o__cum_sub_mm_3m_d',\n",
    "    \"cumulative sublimation\",\n",
    "    3,\n",
    "    'c'\n",
    ")\n",
    "\n"
   ]
  },
  {
   "cell_type": "code",
   "execution_count": 17,
   "metadata": {},
   "outputs": [
    {
     "data": {
      "application/vnd.vegalite.v5+json": {
       "$schema": "https://vega.github.io/schema/vega-lite/v5.8.0.json",
       "config": {
        "axis": {
         "grid": false
        },
        "view": {
         "continuousHeight": 300,
         "continuousWidth": 300
        }
       },
       "layer": [
        {
         "data": {
          "format": {
           "type": "json"
          },
          "url": "altair-data-67532be51b04be762557e32b0e4e4f7d.json"
         },
         "encoding": {
          "detail": {
           "field": "config",
           "type": "nominal"
          },
          "tooltip": {
           "field": "config",
           "type": "nominal"
          },
          "x": {
           "field": "time",
           "type": "temporal"
          },
          "y": {
           "field": "latent heat flux (mm)",
           "type": "quantitative"
          }
         },
         "mark": {
          "color": "grey",
          "opacity": 0.25,
          "strokeWidth": 0.5,
          "type": "line"
         }
        },
        {
         "data": {
          "format": {
           "type": "json"
          },
          "url": "altair-data-db8e0aabf6618d9744cbed8a50ec52c5.json"
         },
         "encoding": {
          "detail": {
           "field": "variable",
           "type": "nominal"
          },
          "x": {
           "field": "time",
           "type": "temporal"
          },
          "y": {
           "field": "value",
           "title": "Cumulative sublimation (mm)",
           "type": "quantitative"
          }
         },
         "mark": {
          "type": "line"
         }
        }
       ]
      },
      "text/plain": [
       "<VegaLite 5 object>\n",
       "\n",
       "If you see this message, it means the renderer has not been properly enabled\n",
       "for the frontend that you are using. For more information, see\n",
       "https://altair-viz.github.io/user_guide/display_frontends.html#troubleshooting\n"
      ]
     },
     "metadata": {
      "application/vnd.vegalite.v5+json": {
       "embed_options": {
        "renderer": "svg"
       }
      }
     },
     "output_type": "display_data"
    }
   ],
   "source": [
    "src = src_cumsum_daily.query(\"surface_measurement != 'Tsurf_d'\")\n",
    "src = src.query(\"surface_measurement != 'Td_3m_c'\")\n",
    "src = src[src.time < \"2023-05-11\"]\n",
    "(alt.Chart(src.dropna()).mark_line(color='grey', opacity=0.25, strokeWidth=0.5).encode(\n",
    "    alt.X(\"time:T\"),\n",
    "    alt.Y(\"latent heat flux (mm):Q\"),\n",
    "    detail = \"config:N\",\n",
    "    tooltip = \"config:N\"\n",
    ") + \\\n",
    "alt.Chart(\n",
    "    tidy_df_30Min[tidy_df_30Min.variable.isin([\n",
    "        'w_h2o__cum_sub_mm_3m_c', 'w_h2o__cum_sub_mm_3m_d'\n",
    "    ])].dropna().query(\n",
    "        \"time < '2023-05-11'\"\n",
    "    )\n",
    ").mark_line(\n",
    ").encode(\n",
    "    alt.X(\"time:T\"),\n",
    "    alt.Y(\"value:Q\").title(\"Cumulative sublimation (mm)\"),\n",
    "    detail = 'variable'\n",
    ")).configure_axis(grid=False).display(renderer='svg')"
   ]
  },
  {
   "cell_type": "code",
   "execution_count": 18,
   "metadata": {},
   "outputs": [
    {
     "data": {
      "text/plain": [
       "(288, 432)"
      ]
     },
     "execution_count": 18,
     "metadata": {},
     "output_type": "execute_result"
    }
   ],
   "source": [
    "len(src.config.unique()), len(src_cumsum_daily.config.unique())"
   ]
  },
  {
   "cell_type": "code",
   "execution_count": 19,
   "metadata": {},
   "outputs": [
    {
     "data": {
      "application/vnd.vegalite.v5+json": {
       "$schema": "https://vega.github.io/schema/vega-lite/v5.8.0.json",
       "config": {
        "axis": {
         "grid": false
        },
        "view": {
         "continuousHeight": 300,
         "continuousWidth": 300
        }
       },
       "layer": [
        {
         "data": {
          "format": {
           "type": "json"
          },
          "url": "altair-data-78d12562f1c490d472bbd23d393ca286.json"
         },
         "encoding": {
          "detail": {
           "field": "config",
           "type": "nominal"
          },
          "tooltip": {
           "field": "config",
           "type": "nominal"
          },
          "x": {
           "field": "time",
           "type": "temporal"
          },
          "y": {
           "field": "latent heat flux (mm)",
           "type": "quantitative"
          }
         },
         "mark": {
          "color": "grey",
          "opacity": 0.25,
          "strokeWidth": 0.5,
          "type": "line"
         }
        },
        {
         "data": {
          "format": {
           "type": "json"
          },
          "url": "altair-data-7e813b1c354be51a56dea20393fe5717.json"
         },
         "encoding": {
          "x": {
           "field": "time",
           "type": "temporal"
          },
          "y": {
           "field": "value",
           "title": "Cumulative sublimation (mm)",
           "type": "quantitative"
          }
         },
         "mark": {
          "type": "line"
         }
        }
       ]
      },
      "text/plain": [
       "<VegaLite 5 object>\n",
       "\n",
       "If you see this message, it means the renderer has not been properly enabled\n",
       "for the frontend that you are using. For more information, see\n",
       "https://altair-viz.github.io/user_guide/display_frontends.html#troubleshooting\n"
      ]
     },
     "metadata": {
      "application/vnd.vegalite.v5+json": {
       "embed_options": {
        "renderer": "svg"
       }
      }
     },
     "output_type": "display_data"
    }
   ],
   "source": [
    "src = src_cumsum_daily.query(\"surface_measurement != 'Td_3m_c'\")\n",
    "src = src[src.time < \"2023-05-11\"]\n",
    "(alt.Chart(src).mark_line(color='grey', opacity=0.25, strokeWidth=0.5).encode(\n",
    "    alt.X(\"time:T\"),\n",
    "    alt.Y(\"latent heat flux (mm):Q\"),\n",
    "    detail = \"config:N\",\n",
    "    tooltip = \"config:N\"\n",
    ") + \\\n",
    "alt.Chart(\n",
    "    tidy_df_30Min.query(\"variable == 'w_h2o__cum_sub_mm_3m_c'\").dropna().query(\n",
    "        \"time < '2023-05-11'\"\n",
    "    )\n",
    ").mark_line(\n",
    ").encode(\n",
    "    alt.X(\"time:T\"),\n",
    "    alt.Y(\"value:Q\").title(\"Cumulative sublimation (mm)\")\n",
    ")).configure_axis(grid=False).display(renderer='svg')"
   ]
  },
  {
   "cell_type": "code",
   "execution_count": 20,
   "metadata": {},
   "outputs": [
    {
     "data": {
      "text/plain": [
       "(432, 432)"
      ]
     },
     "execution_count": 20,
     "metadata": {},
     "output_type": "execute_result"
    }
   ],
   "source": [
    "len(src.config.unique()), len(src_cumsum_daily.config.unique())"
   ]
  },
  {
   "cell_type": "code",
   "execution_count": 21,
   "metadata": {},
   "outputs": [
    {
     "data": {
      "application/vnd.vegalite.v5+json": {
       "$schema": "https://vega.github.io/schema/vega-lite/v5.8.0.json",
       "config": {
        "axis": {
         "grid": false
        },
        "view": {
         "continuousHeight": 300,
         "continuousWidth": 300
        }
       },
       "data": {
        "format": {
         "type": "json"
        },
        "url": "altair-data-f676d52684ae3b87144582bb2dbad8e8.json"
       },
       "encoding": {
        "color": {
         "field": "surface_measurement",
         "scale": {
          "scheme": "rainbow"
         },
         "type": "nominal"
        },
        "column": {
         "field": "e_sat_curve",
         "type": "nominal"
        },
        "detail": {
         "field": "config",
         "type": "nominal"
        },
        "strokeDash": {
         "field": "z0",
         "type": "quantitative"
        },
        "tooltip": {
         "field": "config",
         "type": "nominal"
        },
        "x": {
         "field": "time",
         "type": "temporal"
        },
        "y": {
         "field": "latent heat flux (mm)",
         "type": "quantitative"
        }
       },
       "height": 150,
       "mark": {
        "opacity": 0.5,
        "type": "line"
       },
       "width": 150
      },
      "text/plain": [
       "<VegaLite 5 object>\n",
       "\n",
       "If you see this message, it means the renderer has not been properly enabled\n",
       "for the frontend that you are using. For more information, see\n",
       "https://altair-viz.github.io/user_guide/display_frontends.html#troubleshooting\n"
      ]
     },
     "metadata": {
      "application/vnd.vegalite.v5+json": {
       "embed_options": {
        "renderer": "svg"
       }
      }
     },
     "output_type": "display_data"
    }
   ],
   "source": [
    "src = src_cumsum_daily[src_cumsum_daily.surface_measurement.isin(['Tsurf_c', 'Tsurf_d'])]\n",
    "src = src[src.most_config == 'MO Webb NoahMP']\n",
    "src = src[src.scheme == 'andreas']\n",
    "src = src[src.z0 < 0.001]\n",
    "src = src[src.time < \"2023-05-11\"]\n",
    "src.config.unique()\n",
    "(alt.Chart(src).mark_line(opacity=0.50).encode(\n",
    "    alt.X(\"time:T\"),\n",
    "    alt.Y(\"latent heat flux (mm):Q\"),\n",
    "    alt.Color(\"surface_measurement:N\").scale(scheme='rainbow'),\n",
    "    alt.StrokeDash('z0:Q'),\n",
    "    alt.Column(\"e_sat_curve:N\"),\n",
    "    detail = \"config:N\",\n",
    "    tooltip = \"config:N\"\n",
    ").properties(width = 150, height = 150)).configure_axis(grid=False).display(renderer='svg')"
   ]
  },
  {
   "cell_type": "code",
   "execution_count": 22,
   "metadata": {},
   "outputs": [
    {
     "data": {
      "text/plain": [
       "config\n",
       "MO Webb NoahMP andreas lengths Tsurf_c e_sat_alduchov 0.0001    56.712852\n",
       "MO Webb NoahMP andreas lengths Tsurf_c e_sat_alduchov 0.0005    68.636274\n",
       "MO Webb NoahMP andreas lengths Tsurf_c e_sat_alduchov 1e-05     41.301367\n",
       "MO Webb NoahMP andreas lengths Tsurf_c e_sat_alduchov 5e-05     51.637791\n",
       "MO Webb NoahMP andreas lengths Tsurf_c e_sat_metpy 0.0001       67.384093\n",
       "MO Webb NoahMP andreas lengths Tsurf_c e_sat_metpy 0.0005       81.663403\n",
       "MO Webb NoahMP andreas lengths Tsurf_c e_sat_metpy 1e-05        49.025897\n",
       "MO Webb NoahMP andreas lengths Tsurf_c e_sat_metpy 5e-05        61.338499\n",
       "MO Webb NoahMP andreas lengths Tsurf_d e_sat_alduchov 0.0001    53.763252\n",
       "MO Webb NoahMP andreas lengths Tsurf_d e_sat_alduchov 0.0005    65.223519\n",
       "MO Webb NoahMP andreas lengths Tsurf_d e_sat_alduchov 1e-05     39.067170\n",
       "MO Webb NoahMP andreas lengths Tsurf_d e_sat_alduchov 5e-05     48.930111\n",
       "MO Webb NoahMP andreas lengths Tsurf_d e_sat_metpy 0.0001       63.960377\n",
       "MO Webb NoahMP andreas lengths Tsurf_d e_sat_metpy 0.0005       77.694881\n",
       "MO Webb NoahMP andreas lengths Tsurf_d e_sat_metpy 1e-05        46.444662\n",
       "MO Webb NoahMP andreas lengths Tsurf_d e_sat_metpy 5e-05        58.193846\n",
       "Name: latent heat flux (mm), dtype: float64"
      ]
     },
     "execution_count": 22,
     "metadata": {},
     "output_type": "execute_result"
    }
   ],
   "source": [
    "src.groupby(\"config\")['latent heat flux (mm)'].max()"
   ]
  },
  {
   "cell_type": "markdown",
   "metadata": {},
   "source": [
    "# Look at a time series of all the model results"
   ]
  },
  {
   "cell_type": "code",
   "execution_count": 23,
   "metadata": {},
   "outputs": [
    {
     "data": {
      "application/vnd.vegalite.v5+json": {
       "$schema": "https://vega.github.io/schema/vega-lite/v5.8.0.json",
       "config": {
        "view": {
         "continuousHeight": 300,
         "continuousWidth": 300
        }
       },
       "layer": [
        {
         "data": {
          "format": {
           "type": "json"
          },
          "url": "altair-data-aa92c36ea433ae665279b7aab05a4131.json"
         },
         "encoding": {
          "color": {
           "field": "config",
           "type": "nominal"
          },
          "x": {
           "field": "time",
           "type": "temporal"
          },
          "y": {
           "field": "latent heat flux",
           "type": "quantitative"
          }
         },
         "mark": {
          "type": "line"
         }
        },
        {
         "data": {
          "format": {
           "type": "json"
          },
          "url": "altair-data-76bd745e35c619c03356185fb747905d.json"
         },
         "encoding": {
          "x": {
           "field": "time",
           "type": "temporal"
          },
          "y": {
           "field": "w_h2o__3m_c",
           "scale": {
            "clamp": true,
            "domain": [
             -0.01,
             0.07
            ]
           },
           "type": "quantitative"
          }
         },
         "mark": {
          "color": "black",
          "type": "circle"
         }
        }
       ],
       "width": 1000
      },
      "text/plain": [
       "<VegaLite 5 object>\n",
       "\n",
       "If you see this message, it means the renderer has not been properly enabled\n",
       "for the frontend that you are using. For more information, see\n",
       "https://altair-viz.github.io/user_guide/display_frontends.html#troubleshooting\n"
      ]
     },
     "execution_count": 23,
     "metadata": {},
     "output_type": "execute_result"
    }
   ],
   "source": [
    "src = model_df.copy()\n",
    "src = src[(src.time > \"2023-02-01\") & (src.time < \"2023-02-08\")]\n",
    "meas_src = wide_df[(wide_df.time > \"2023-02-01\") & (wide_df.time < \"2023-02-08\")]\n",
    "alt.Chart(src).mark_line().encode(\n",
    "    alt.X(\"time:T\"),\n",
    "    alt.Y(\"latent heat flux:Q\"),\n",
    "    alt.Color(\"config:N\")\n",
    ") + alt.Chart(meas_src).mark_circle(color='black').encode(\n",
    "    alt.X(\"time:T\"),\n",
    "    alt.Y(\"w_h2o__3m_c:Q\").scale(domain = [-0.01, 0.07], clamp=True)\n",
    ").properties(width = 1000)"
   ]
  },
  {
   "cell_type": "markdown",
   "metadata": {},
   "source": [
    "# Look at time series of cumulative sublimation, examining effect of different knobs"
   ]
  },
  {
   "cell_type": "markdown",
   "metadata": {},
   "source": [
    "## Roughness length scheme"
   ]
  },
  {
   "cell_type": "code",
   "execution_count": 24,
   "metadata": {},
   "outputs": [
    {
     "data": {
      "application/vnd.vegalite.v5+json": {
       "$schema": "https://vega.github.io/schema/vega-lite/v5.8.0.json",
       "config": {
        "view": {
         "continuousHeight": 300,
         "continuousWidth": 300
        }
       },
       "data": {
        "format": {
         "type": "json"
        },
        "url": "altair-data-a0f0ac62bf2070fb587b39c4edc45824.json"
       },
       "hconcat": [
        {
         "encoding": {
          "color": {
           "field": "scheme",
           "type": "nominal"
          },
          "x": {
           "field": "time",
           "type": "temporal"
          },
          "y": {
           "aggregate": "min",
           "field": "latent heat flux (mm)",
           "type": "quantitative"
          },
          "y2": {
           "aggregate": "max",
           "field": "latent heat flux (mm)"
          }
         },
         "mark": {
          "opacity": 0.25,
          "type": "area"
         }
        },
        {
         "encoding": {
          "color": {
           "field": "scheme",
           "type": "nominal"
          },
          "detail": {
           "field": "config",
           "type": "nominal"
          },
          "x": {
           "field": "time",
           "type": "temporal"
          },
          "y": {
           "field": "latent heat flux (mm)",
           "type": "quantitative"
          }
         },
         "mark": {
          "type": "line"
         }
        }
       ]
      },
      "text/plain": [
       "<VegaLite 5 object>\n",
       "\n",
       "If you see this message, it means the renderer has not been properly enabled\n",
       "for the frontend that you are using. For more information, see\n",
       "https://altair-viz.github.io/user_guide/display_frontends.html#troubleshooting\n"
      ]
     },
     "execution_count": 24,
     "metadata": {},
     "output_type": "execute_result"
    }
   ],
   "source": [
    "src = src_cumsum_daily[src_cumsum_daily.surface_measurement != 'Td_3m_c']\n",
    "src = src[src.surface_measurement != 'Tsurf_d']\n",
    "src = src[src.time < \"2023-05-12\"]\n",
    "src = src[src.most_config.isin([\n",
    "    \"MO Webb NoahMP\", \"MO Webb NoahMP andreas lengths\"\n",
    "])]\n",
    "\n",
    "alt.Chart(\n",
    "    src\n",
    ").mark_area(opacity=0.25).encode(\n",
    "    alt.X(\"time:T\"),\n",
    "    alt.Y(\"min(latent heat flux (mm)):Q\"),\n",
    "    alt.Y2(\"max(latent heat flux (mm)):Q\"),\n",
    "    alt.Color(\"scheme:N\")\n",
    ") | alt.Chart(\n",
    "    src\n",
    ").mark_line().encode(\n",
    "    alt.X(\"time:T\"),\n",
    "    alt.Y(\"latent heat flux (mm):Q\"),\n",
    "    alt.Color(\"scheme:N\"),\n",
    "    detail = 'config'\n",
    ")"
   ]
  },
  {
   "cell_type": "markdown",
   "metadata": {},
   "source": [
    "## Z0"
   ]
  },
  {
   "cell_type": "code",
   "execution_count": 25,
   "metadata": {},
   "outputs": [
    {
     "data": {
      "application/vnd.vegalite.v5+json": {
       "$schema": "https://vega.github.io/schema/vega-lite/v5.8.0.json",
       "config": {
        "view": {
         "continuousHeight": 300,
         "continuousWidth": 300
        }
       },
       "data": {
        "format": {
         "type": "json"
        },
        "url": "altair-data-dbd8b7e6b2b3082cb2edc27edd023e94.json"
       },
       "encoding": {
        "color": {
         "field": "z0",
         "type": "nominal"
        },
        "x": {
         "field": "time",
         "type": "temporal"
        },
        "y": {
         "aggregate": "min",
         "field": "latent heat flux (mm)",
         "type": "quantitative"
        },
        "y2": {
         "aggregate": "max",
         "field": "latent heat flux (mm)"
        }
       },
       "mark": {
        "opacity": 0.25,
        "type": "area"
       },
       "title": "Seasonal cumulative sublimation for 256 MOST model runs"
      },
      "text/plain": [
       "<VegaLite 5 object>\n",
       "\n",
       "If you see this message, it means the renderer has not been properly enabled\n",
       "for the frontend that you are using. For more information, see\n",
       "https://altair-viz.github.io/user_guide/display_frontends.html#troubleshooting\n"
      ]
     },
     "metadata": {
      "application/vnd.vegalite.v5+json": {
       "embed_options": {
        "renderer": "svg"
       }
      }
     },
     "output_type": "display_data"
    }
   ],
   "source": [
    "src = src_cumsum_daily[src_cumsum_daily.surface_measurement != 'Td_3m_c']\n",
    "src = src[src.surface_measurement != 'Tsurf_d']\n",
    "src = src[src.time < \"2023-05-12\"]\n",
    "src = src[src.surface_measurement != \"Tsurf_d\"]\n",
    "\n",
    "alt.Chart(\n",
    "    src\n",
    ").mark_area(opacity=0.25).encode(\n",
    "    alt.X(\"time:T\"),\n",
    "    alt.Y(\"min(latent heat flux (mm)):Q\"),\n",
    "    alt.Y2(\"max(latent heat flux (mm)):Q\"),\n",
    "    alt.Color(\"z0:N\")\n",
    ").properties(title='Seasonal cumulative sublimation for 256 MOST model runs').display(renderer='svg')"
   ]
  },
  {
   "cell_type": "code",
   "execution_count": 26,
   "metadata": {},
   "outputs": [
    {
     "data": {
      "application/vnd.vegalite.v5+json": {
       "$schema": "https://vega.github.io/schema/vega-lite/v5.8.0.json",
       "config": {
        "view": {
         "continuousHeight": 300,
         "continuousWidth": 300
        }
       },
       "data": {
        "format": {
         "type": "json"
        },
        "url": "altair-data-dbd8b7e6b2b3082cb2edc27edd023e94.json"
       },
       "layer": [
        {
         "encoding": {
          "color": {
           "field": "z0",
           "type": "nominal"
          },
          "x": {
           "field": "time",
           "type": "temporal"
          },
          "y": {
           "aggregate": "min",
           "field": "latent heat flux (mm)",
           "type": "quantitative"
          }
         },
         "mark": {
          "strokeDash": [
           4,
           2
          ],
          "type": "line"
         },
         "title": "Seasonal cumulative sublimation for 256 MOST model runs"
        },
        {
         "encoding": {
          "color": {
           "field": "z0",
           "type": "nominal"
          },
          "x": {
           "field": "time",
           "type": "temporal"
          },
          "y": {
           "aggregate": "max",
           "field": "latent heat flux (mm)",
           "type": "quantitative"
          }
         },
         "mark": {
          "type": "line"
         },
         "title": "Seasonal cumulative sublimation for 256 MOST model runs"
        }
       ]
      },
      "text/plain": [
       "<VegaLite 5 object>\n",
       "\n",
       "If you see this message, it means the renderer has not been properly enabled\n",
       "for the frontend that you are using. For more information, see\n",
       "https://altair-viz.github.io/user_guide/display_frontends.html#troubleshooting\n"
      ]
     },
     "execution_count": 26,
     "metadata": {},
     "output_type": "execute_result"
    }
   ],
   "source": [
    "src = src_cumsum_daily[src_cumsum_daily.surface_measurement != 'Td_3m_c']\n",
    "src = src[src.time < \"2023-05-12\"]\n",
    "src = src[src.surface_measurement != \"Tsurf_d\"]\n",
    "\n",
    "base = alt.Chart(\n",
    "    src\n",
    ").encode(\n",
    "    alt.X(\"time:T\"),\n",
    "    alt.Color(\"z0:N\")\n",
    ").properties(title='Seasonal cumulative sublimation for 256 MOST model runs')\n",
    "\n",
    "base.mark_line(strokeDash=[4,2]).encode(alt.Y(\"min(latent heat flux (mm)):Q\")) + \\\n",
    "base.mark_line().encode(alt.Y(\"max(latent heat flux (mm)):Q\"))"
   ]
  },
  {
   "cell_type": "markdown",
   "metadata": {},
   "source": [
    "## Ts"
   ]
  },
  {
   "cell_type": "code",
   "execution_count": 27,
   "metadata": {},
   "outputs": [
    {
     "data": {
      "application/vnd.vegalite.v5+json": {
       "$schema": "https://vega.github.io/schema/vega-lite/v5.8.0.json",
       "config": {
        "view": {
         "continuousHeight": 300,
         "continuousWidth": 300
        }
       },
       "data": {
        "format": {
         "type": "json"
        },
        "url": "altair-data-23d9a2e729010f3afff62d84d24074f1.json"
       },
       "encoding": {
        "color": {
         "field": "surface_measurement",
         "type": "nominal"
        },
        "x": {
         "field": "time",
         "type": "temporal"
        },
        "y": {
         "aggregate": "min",
         "field": "latent heat flux (mm)",
         "title": "latent heat flux (mm), min to max",
         "type": "quantitative"
        },
        "y2": {
         "aggregate": "max",
         "field": "latent heat flux (mm)"
        }
       },
       "mark": {
        "opacity": 0.25,
        "type": "area"
       },
       "title": "Seasonal cumulative sublimation for model ensemble"
      },
      "text/plain": [
       "<VegaLite 5 object>\n",
       "\n",
       "If you see this message, it means the renderer has not been properly enabled\n",
       "for the frontend that you are using. For more information, see\n",
       "https://altair-viz.github.io/user_guide/display_frontends.html#troubleshooting\n"
      ]
     },
     "metadata": {
      "application/vnd.vegalite.v5+json": {
       "embed_options": {
        "renderer": "svg"
       }
      }
     },
     "output_type": "display_data"
    }
   ],
   "source": [
    "src = src_cumsum_daily[src_cumsum_daily.time < \"2023-05-12\"]\n",
    "alt.Chart(\n",
    "    src\n",
    ").mark_area(opacity=0.25).encode(\n",
    "    alt.X(\"time:T\"),\n",
    "    alt.Y(\"min(latent heat flux (mm)):Q\").title(\"latent heat flux (mm), min to max\"),\n",
    "    alt.Y2(\"max(latent heat flux (mm)):Q\"),\n",
    "    alt.Color(\"surface_measurement:N\")\n",
    ").properties(\n",
    "    title='Seasonal cumulative sublimation for model ensemble'\n",
    ").display(renderer='svg')"
   ]
  },
  {
   "cell_type": "code",
   "execution_count": 28,
   "metadata": {},
   "outputs": [
    {
     "data": {
      "application/vnd.vegalite.v5+json": {
       "$schema": "https://vega.github.io/schema/vega-lite/v5.8.0.json",
       "config": {
        "view": {
         "continuousHeight": 300,
         "continuousWidth": 300
        }
       },
       "data": {
        "format": {
         "type": "json"
        },
        "url": "altair-data-39c914eba5262901bcd23954608c8eac.json"
       },
       "encoding": {
        "color": {
         "field": "surface_measurement",
         "type": "nominal"
        },
        "x": {
         "field": "time",
         "type": "temporal"
        },
        "y": {
         "aggregate": "min",
         "field": "latent heat flux (mm)",
         "title": "latent heat flux (mm), min to max",
         "type": "quantitative"
        },
        "y2": {
         "aggregate": "max",
         "field": "latent heat flux (mm)"
        }
       },
       "mark": {
        "opacity": 0.25,
        "type": "area"
       },
       "title": "Seasonal cumulative sublimation for model ensemble"
      },
      "text/plain": [
       "<VegaLite 5 object>\n",
       "\n",
       "If you see this message, it means the renderer has not been properly enabled\n",
       "for the frontend that you are using. For more information, see\n",
       "https://altair-viz.github.io/user_guide/display_frontends.html#troubleshooting\n"
      ]
     },
     "metadata": {
      "application/vnd.vegalite.v5+json": {
       "embed_options": {
        "renderer": "svg"
       }
      }
     },
     "output_type": "display_data"
    }
   ],
   "source": [
    "src = src_cumsum_daily[src_cumsum_daily.surface_measurement != 'Td_3m_c']\n",
    "src = src[src.surface_measurement != 'Tsurf_d']\n",
    "src = src[src.time < \"2023-05-12\"]\n",
    "alt.Chart(\n",
    "    src.dropna()\n",
    ").mark_area(opacity=0.25).encode(\n",
    "    alt.X(\"time:T\"),\n",
    "    alt.Y(\"min(latent heat flux (mm)):Q\").title(\"latent heat flux (mm), min to max\"),\n",
    "    alt.Y2(\"max(latent heat flux (mm)):Q\"),\n",
    "    alt.Color(\"surface_measurement:N\")\n",
    ").properties(\n",
    "    title='Seasonal cumulative sublimation for model ensemble'\n",
    ").display(renderer='svg')"
   ]
  },
  {
   "cell_type": "code",
   "execution_count": 29,
   "metadata": {},
   "outputs": [
    {
     "data": {
      "application/vnd.vegalite.v5+json": {
       "$schema": "https://vega.github.io/schema/vega-lite/v5.8.0.json",
       "config": {
        "axis": {
         "grid": false
        },
        "view": {
         "continuousHeight": 300,
         "continuousWidth": 300
        }
       },
       "layer": [
        {
         "data": {
          "format": {
           "type": "json"
          },
          "url": "altair-data-deb00fa4e734f4fc155b531559ddfff2.json"
         },
         "encoding": {
          "color": {
           "field": "surface_measurement",
           "type": "nominal"
          },
          "x": {
           "field": "time",
           "type": "temporal"
          },
          "y": {
           "aggregate": "min",
           "field": "latent heat flux (mm)",
           "title": "Cumulative sublimation (mm)",
           "type": "quantitative"
          },
          "y2": {
           "aggregate": "max",
           "field": "latent heat flux (mm)"
          }
         },
         "mark": {
          "opacity": 0.25,
          "type": "area"
         },
         "title": "Seasonal cumulative sublimation for model ensemble"
        },
        {
         "data": {
          "format": {
           "type": "json"
          },
          "url": "altair-data-deb00fa4e734f4fc155b531559ddfff2.json"
         },
         "encoding": {
          "color": {
           "field": "surface_measurement",
           "type": "nominal"
          },
          "x": {
           "field": "time",
           "type": "temporal"
          },
          "y": {
           "aggregate": "median",
           "field": "latent heat flux (mm)",
           "title": "Cumulative sublimation (mm)",
           "type": "quantitative"
          }
         },
         "mark": {
          "opacity": 0.5,
          "type": "line"
         },
         "title": "Seasonal cumulative sublimation for model ensemble"
        },
        {
         "data": {
          "format": {
           "type": "json"
          },
          "url": "altair-data-7e813b1c354be51a56dea20393fe5717.json"
         },
         "encoding": {
          "x": {
           "field": "time",
           "type": "temporal"
          },
          "y": {
           "field": "value",
           "title": "Cumulative sublimation (mm)",
           "type": "quantitative"
          }
         },
         "mark": {
          "color": "black",
          "type": "line"
         }
        }
       ]
      },
      "text/plain": [
       "<VegaLite 5 object>\n",
       "\n",
       "If you see this message, it means the renderer has not been properly enabled\n",
       "for the frontend that you are using. For more information, see\n",
       "https://altair-viz.github.io/user_guide/display_frontends.html#troubleshooting\n"
      ]
     },
     "metadata": {
      "application/vnd.vegalite.v5+json": {
       "embed_options": {
        "renderer": "svg"
       }
      }
     },
     "output_type": "display_data"
    }
   ],
   "source": [
    "src = src_cumsum_daily[src_cumsum_daily.surface_measurement != 'Td_3m_c']\n",
    "src = src[src.surface_measurement != 'Tsurf_d']\n",
    "src = src[src.time < \"2023-05-12\"]\n",
    "src = src.query(\"z0 <= 0.001\")\n",
    "(\n",
    "    alt.Chart(\n",
    "        src.dropna()\n",
    "    ).mark_area(opacity=0.25).encode(\n",
    "        alt.X(\"time:T\"),\n",
    "        alt.Y(\"min(latent heat flux (mm)):Q\").title(\"Cumulative sublimation (mm)\"),\n",
    "        alt.Y2(\"max(latent heat flux (mm)):Q\"),\n",
    "        alt.Color(\"surface_measurement:N\")\n",
    "    ).properties(\n",
    "        title='Seasonal cumulative sublimation for model ensemble'\n",
    "    )\n",
    "    +\n",
    "    alt.Chart(\n",
    "        src.dropna()\n",
    "    ).mark_line(opacity=0.50).encode(\n",
    "        alt.X(\"time:T\"),\n",
    "        alt.Y(\"median(latent heat flux (mm))\").title(\"Cumulative sublimation (mm)\"),\n",
    "        alt.Color(\"surface_measurement:N\")\n",
    "    ).properties(\n",
    "        title='Seasonal cumulative sublimation for model ensemble'\n",
    "    )\n",
    "    +\n",
    "    alt.Chart(\n",
    "        tidy_df_30Min.query(\"variable == 'w_h2o__cum_sub_mm_3m_c'\").dropna().query(\n",
    "            \"time < '2023-05-11'\"\n",
    "        )\n",
    "    ).mark_line(\n",
    "        color='black'\n",
    "    ).encode(\n",
    "        alt.X(\"time:T\"),\n",
    "        alt.Y(\"value:Q\").title(\"Cumulative sublimation (mm)\")\n",
    "    )\n",
    ").configure_axis(grid=False).display(renderer='svg')"
   ]
  },
  {
   "cell_type": "code",
   "execution_count": 30,
   "metadata": {},
   "outputs": [
    {
     "data": {
      "application/vnd.vegalite.v5+json": {
       "$schema": "https://vega.github.io/schema/vega-lite/v5.8.0.json",
       "config": {
        "view": {
         "continuousHeight": 300,
         "continuousWidth": 300
        }
       },
       "data": {
        "format": {
         "type": "json"
        },
        "url": "altair-data-dbd8b7e6b2b3082cb2edc27edd023e94.json"
       },
       "encoding": {
        "color": {
         "field": "surface_measurement",
         "type": "nominal"
        },
        "detail": {
         "field": "config",
         "type": "nominal"
        },
        "x": {
         "field": "time",
         "type": "temporal"
        },
        "y": {
         "field": "latent heat flux (mm)",
         "type": "quantitative"
        }
       },
       "mark": {
        "type": "line"
       },
       "title": "Seasonal cumulative sublimation for model ensemble"
      },
      "text/plain": [
       "<VegaLite 5 object>\n",
       "\n",
       "If you see this message, it means the renderer has not been properly enabled\n",
       "for the frontend that you are using. For more information, see\n",
       "https://altair-viz.github.io/user_guide/display_frontends.html#troubleshooting\n"
      ]
     },
     "metadata": {
      "application/vnd.vegalite.v5+json": {
       "embed_options": {
        "renderer": "svg"
       }
      }
     },
     "output_type": "display_data"
    }
   ],
   "source": [
    "src = src_cumsum_daily[src_cumsum_daily.surface_measurement != 'Td_3m_c']\n",
    "src = src[src.surface_measurement != 'Tsurf_d']\n",
    "src = src[src.time < \"2023-05-12\"]\n",
    "\n",
    "alt.Chart(\n",
    "    src\n",
    ").mark_line().encode(\n",
    "    alt.X(\"time:T\"),\n",
    "    alt.Y(\"latent heat flux (mm)\"),\n",
    "    alt.Color(\"surface_measurement:N\"),\n",
    "    detail = 'config',\n",
    ").properties(\n",
    "    title='Seasonal cumulative sublimation for model ensemble'\n",
    ").display(renderer='svg')"
   ]
  },
  {
   "cell_type": "markdown",
   "metadata": {},
   "source": [
    "## e_sat_curve"
   ]
  },
  {
   "cell_type": "code",
   "execution_count": 31,
   "metadata": {},
   "outputs": [
    {
     "data": {
      "application/vnd.vegalite.v5+json": {
       "$schema": "https://vega.github.io/schema/vega-lite/v5.8.0.json",
       "config": {
        "view": {
         "continuousHeight": 300,
         "continuousWidth": 300
        }
       },
       "data": {
        "format": {
         "type": "json"
        },
        "url": "altair-data-3344fa94592249310edd159c8884f166.json"
       },
       "encoding": {
        "color": {
         "field": "e_sat_curve",
         "type": "nominal"
        },
        "x": {
         "field": "time",
         "type": "temporal"
        },
        "y": {
         "aggregate": "min",
         "field": "latent heat flux (mm)",
         "type": "quantitative"
        },
        "y2": {
         "aggregate": "max",
         "field": "latent heat flux (mm)"
        }
       },
       "mark": {
        "opacity": 0.25,
        "type": "area"
       },
       "title": "Seasonal cumulative sublimation for 256 MOST model runs"
      },
      "text/plain": [
       "<VegaLite 5 object>\n",
       "\n",
       "If you see this message, it means the renderer has not been properly enabled\n",
       "for the frontend that you are using. For more information, see\n",
       "https://altair-viz.github.io/user_guide/display_frontends.html#troubleshooting\n"
      ]
     },
     "metadata": {
      "application/vnd.vegalite.v5+json": {
       "embed_options": {
        "renderer": "svg"
       }
      }
     },
     "output_type": "display_data"
    }
   ],
   "source": [
    "src = src_cumsum_daily[src_cumsum_daily.surface_measurement != 'Td_3m_c']\n",
    "src = src[src.time < \"2023-05-13\"]\n",
    "src = src[src.surface_measurement != \"Tsurf_d\"]\n",
    "\n",
    "alt.Chart(\n",
    "    src\n",
    ").mark_area(opacity=0.25).encode(\n",
    "    alt.X(\"time:T\"),\n",
    "    alt.Y(\"min(latent heat flux (mm)):Q\"),\n",
    "    alt.Y2(\"max(latent heat flux (mm)):Q\"),\n",
    "    alt.Color(\"e_sat_curve:N\")\n",
    ").properties(title='Seasonal cumulative sublimation for 256 MOST model runs').display(renderer='svg')"
   ]
  },
  {
   "cell_type": "code",
   "execution_count": 32,
   "metadata": {},
   "outputs": [
    {
     "data": {
      "application/vnd.vegalite.v5+json": {
       "$schema": "https://vega.github.io/schema/vega-lite/v5.8.0.json",
       "config": {
        "view": {
         "continuousHeight": 300,
         "continuousWidth": 300
        }
       },
       "vconcat": [
        {
         "data": {
          "format": {
           "type": "json"
          },
          "url": "altair-data-a37d3dea346c3cc5f2f6aee2fe5322bd.json"
         },
         "encoding": {
          "color": {
           "field": "z0",
           "type": "nominal"
          },
          "column": {
           "field": "e_sat_curve",
           "type": "nominal"
          },
          "row": {
           "field": "surface_measurement",
           "title": "Surface temp. sensor",
           "type": "nominal"
          },
          "x": {
           "axis": {
            "labels": false
           },
           "field": "time",
           "title": null,
           "type": "temporal"
          },
          "y": {
           "aggregate": "min",
           "field": "latent heat flux (mm)",
           "scale": {
            "domain": [
             0,
             250
            ]
           },
           "title": "latent heat flux (mm), min to max",
           "type": "quantitative"
          },
          "y2": {
           "aggregate": "max",
           "field": "latent heat flux (mm)"
          }
         },
         "height": 225,
         "mark": {
          "opacity": 0.25,
          "type": "area"
         },
         "width": 225
        },
        {
         "data": {
          "format": {
           "type": "json"
          },
          "url": "altair-data-76461193f744a03efe64debb5ecaea09.json"
         },
         "encoding": {
          "color": {
           "field": "z0",
           "type": "nominal"
          },
          "column": {
           "field": "e_sat_curve",
           "header": {
            "labels": false
           },
           "title": null,
           "type": "nominal"
          },
          "row": {
           "field": "surface_measurement",
           "title": "Surface temp. sensor",
           "type": "nominal"
          },
          "x": {
           "field": "time",
           "type": "temporal"
          },
          "y": {
           "aggregate": "min",
           "field": "latent heat flux (mm)",
           "scale": {
            "domain": [
             0,
             250
            ]
           },
           "title": "latent heat flux (mm), min to max",
           "type": "quantitative"
          },
          "y2": {
           "aggregate": "max",
           "field": "latent heat flux (mm)"
          }
         },
         "height": 225,
         "mark": {
          "opacity": 0.25,
          "type": "area"
         },
         "width": 225
        }
       ]
      },
      "text/plain": [
       "<VegaLite 5 object>\n",
       "\n",
       "If you see this message, it means the renderer has not been properly enabled\n",
       "for the frontend that you are using. For more information, see\n",
       "https://altair-viz.github.io/user_guide/display_frontends.html#troubleshooting\n"
      ]
     },
     "metadata": {
      "application/vnd.vegalite.v5+json": {
       "embed_options": {
        "renderer": "svg"
       }
      }
     },
     "output_type": "display_data"
    }
   ],
   "source": [
    "src = src_cumsum_daily[src_cumsum_daily.surface_measurement != 'Td_3m_c']\n",
    "src = src[src.surface_measurement != 'Tsurf_d']\n",
    "src = src[src.time < \"2023-05-13\"]\n",
    "# src = src[src.scheme == 'yang']\n",
    "# src = src[src.z0 == 0.0001]\n",
    "(\n",
    "alt.Chart(\n",
    "    src.query(\"surface_measurement == 'Tsurf_c'\")\n",
    ").mark_area(opacity=0.25).encode(\n",
    "    alt.X(\"time:T\").axis(labels=False).title(None),\n",
    "    alt.Y(\"min(latent heat flux (mm)):Q\").title(\"latent heat flux (mm), min to max\").scale(domain=[0,250]),\n",
    "    alt.Y2(\"max(latent heat flux (mm)):Q\"),\n",
    "    alt.Color(\"z0:N\"),\n",
    "    alt.Column(\"e_sat_curve:N\"),\n",
    "    alt.Row(\"surface_measurement:N\").title(\"Surface temp. sensor\")\n",
    ").properties(width = 225, height = 225) & alt.Chart(\n",
    "    src.query(\"surface_measurement == 'Tsurf_rad_d'\")\n",
    ").mark_area(opacity=0.25).encode(\n",
    "    alt.X(\"time:T\"),\n",
    "    alt.Y(\"min(latent heat flux (mm)):Q\").title(\"latent heat flux (mm), min to max\").scale(domain=[0,250]),\n",
    "    alt.Y2(\"max(latent heat flux (mm)):Q\"),\n",
    "    alt.Color(\"z0:N\"),\n",
    "    alt.Column(\"e_sat_curve:N\").title(None).header(labels=False),\n",
    "    alt.Row(\"surface_measurement:N\").title(\"Surface temp. sensor\")\n",
    ").properties(width = 225, height = 225)).display(renderer='svg')"
   ]
  },
  {
   "cell_type": "code",
   "execution_count": 33,
   "metadata": {},
   "outputs": [
    {
     "data": {
      "text/plain": [
       "288"
      ]
     },
     "execution_count": 33,
     "metadata": {},
     "output_type": "execute_result"
    }
   ],
   "source": [
    "len(src.config.unique())"
   ]
  },
  {
   "cell_type": "code",
   "execution_count": 34,
   "metadata": {},
   "outputs": [
    {
     "data": {
      "application/vnd.vegalite.v5+json": {
       "$schema": "https://vega.github.io/schema/vega-lite/v5.8.0.json",
       "config": {
        "view": {
         "continuousHeight": 300,
         "continuousWidth": 300
        }
       },
       "data": {
        "format": {
         "type": "json"
        },
        "url": "altair-data-415ea4ee61e0c0653659c51a21e68f06.json"
       },
       "encoding": {
        "color": {
         "field": "z0",
         "type": "nominal"
        },
        "column": {
         "field": "e_sat_curve",
         "type": "nominal"
        },
        "row": {
         "field": "scheme",
         "title": "Scalar roughness scheme",
         "type": "nominal"
        },
        "x": {
         "field": "time",
         "type": "temporal"
        },
        "y": {
         "aggregate": "min",
         "field": "latent heat flux (mm)",
         "title": "latent heat flux (mm), min to max",
         "type": "quantitative"
        },
        "y2": {
         "aggregate": "max",
         "field": "latent heat flux (mm)"
        }
       },
       "height": 225,
       "mark": {
        "opacity": 0.25,
        "type": "area"
       },
       "width": 225
      },
      "text/plain": [
       "<VegaLite 5 object>\n",
       "\n",
       "If you see this message, it means the renderer has not been properly enabled\n",
       "for the frontend that you are using. For more information, see\n",
       "https://altair-viz.github.io/user_guide/display_frontends.html#troubleshooting\n"
      ]
     },
     "metadata": {
      "application/vnd.vegalite.v5+json": {
       "embed_options": {
        "renderer": "svg"
       }
      }
     },
     "output_type": "display_data"
    }
   ],
   "source": [
    "src = src_cumsum_daily[src_cumsum_daily.surface_measurement != 'Td_3m_c']\n",
    "src = src[src.surface_measurement != 'Tsurf_d']\n",
    "src = src[src.time < \"2023-05-13\"]\n",
    "src = src.query(\"surface_measurement == 'Tsurf_c'\")\n",
    "src = src.query(\"z0 < 0.001\")\n",
    "src = src[src.most_config.str.contains(\"MO \")]\n",
    "(\n",
    "alt.Chart(\n",
    "    src\n",
    ").mark_area(opacity=0.25).encode(\n",
    "    alt.X(\"time:T\"),\n",
    "    alt.Y(\"min(latent heat flux (mm)):Q\").title(\"latent heat flux (mm), min to max\"),\n",
    "    alt.Y2(\"max(latent heat flux (mm)):Q\"),\n",
    "    alt.Color(\"z0:N\"),\n",
    "    alt.Column(\"e_sat_curve:N\"),\n",
    "    alt.Row(\"scheme:N\").title(\"Scalar roughness scheme\")\n",
    ").properties(width = 225, height = 225)).display(renderer='svg')"
   ]
  },
  {
   "cell_type": "code",
   "execution_count": 35,
   "metadata": {},
   "outputs": [
    {
     "data": {
      "application/vnd.vegalite.v5+json": {
       "$schema": "https://vega.github.io/schema/vega-lite/v5.8.0.json",
       "config": {
        "view": {
         "continuousHeight": 300,
         "continuousWidth": 300
        }
       },
       "data": {
        "format": {
         "type": "json"
        },
        "url": "altair-data-7e813b1c354be51a56dea20393fe5717.json"
       },
       "encoding": {
        "x": {
         "field": "time",
         "type": "temporal"
        },
        "y": {
         "field": "value",
         "type": "quantitative"
        }
       },
       "mark": {
        "color": "black",
        "strokeDash": [
         1,
         4
        ],
        "type": "line"
       }
      },
      "text/plain": [
       "<VegaLite 5 object>\n",
       "\n",
       "If you see this message, it means the renderer has not been properly enabled\n",
       "for the frontend that you are using. For more information, see\n",
       "https://altair-viz.github.io/user_guide/display_frontends.html#troubleshooting\n"
      ]
     },
     "execution_count": 35,
     "metadata": {},
     "output_type": "execute_result"
    }
   ],
   "source": [
    "measured_line = alt.Chart(\n",
    "    tidy_df_30Min.query(\"variable == 'w_h2o__cum_sub_mm_3m_c'\").dropna().query(\n",
    "        \"time < '2023-05-11'\"\n",
    "    )\n",
    ").mark_line(color='black', strokeDash=[1,4]\n",
    ").encode(\n",
    "    alt.X(\"time:T\"),\n",
    "    alt.Y(\"value:Q\")\n",
    ")\n",
    "measured_line"
   ]
  },
  {
   "cell_type": "code",
   "execution_count": 36,
   "metadata": {},
   "outputs": [
    {
     "data": {
      "application/vnd.vegalite.v5+json": {
       "$schema": "https://vega.github.io/schema/vega-lite/v5.8.0.json",
       "config": {
        "legend": {
         "columns": 1,
         "orient": "left"
        },
        "view": {
         "continuousHeight": 300,
         "continuousWidth": 300
        }
       },
       "hconcat": [
        {
         "height": 225,
         "layer": [
          {
           "data": {
            "format": {
             "type": "json"
            },
            "url": "altair-data-7e813b1c354be51a56dea20393fe5717.json"
           },
           "encoding": {
            "x": {
             "field": "time",
             "type": "temporal"
            },
            "y": {
             "field": "value",
             "type": "quantitative"
            }
           },
           "mark": {
            "color": "black",
            "strokeDash": [
             1,
             4
            ],
            "type": "line"
           }
          },
          {
           "data": {
            "format": {
             "type": "json"
            },
            "url": "altair-data-a58891ca5a4586fbf10dec9c161d1d7a.json"
           },
           "encoding": {
            "color": {
             "field": "most_config",
             "type": "nominal"
            },
            "strokeDash": {
             "field": "scheme",
             "type": "nominal"
            },
            "tooltip": {
             "field": "most_config",
             "type": "nominal"
            },
            "x": {
             "field": "time",
             "type": "temporal"
            },
            "y": {
             "field": "latent heat flux (mm)",
             "scale": {
              "domain": [
               0,
               100
              ]
             },
             "title": "latent heat flux (mm)",
             "type": "quantitative"
            }
           },
           "mark": {
            "type": "line"
           },
           "title": "Alduchov e_sat curve"
          }
         ],
         "width": 225
        },
        {
         "height": 225,
         "layer": [
          {
           "data": {
            "format": {
             "type": "json"
            },
            "url": "altair-data-7e813b1c354be51a56dea20393fe5717.json"
           },
           "encoding": {
            "x": {
             "field": "time",
             "type": "temporal"
            },
            "y": {
             "field": "value",
             "type": "quantitative"
            }
           },
           "mark": {
            "color": "black",
            "strokeDash": [
             1,
             4
            ],
            "type": "line"
           }
          },
          {
           "data": {
            "format": {
             "type": "json"
            },
            "url": "altair-data-2b5d234df9b77d05c15253ca1c390835.json"
           },
           "encoding": {
            "color": {
             "field": "most_config",
             "type": "nominal"
            },
            "strokeDash": {
             "field": "scheme",
             "type": "nominal"
            },
            "tooltip": {
             "field": "most_config",
             "type": "nominal"
            },
            "x": {
             "field": "time",
             "type": "temporal"
            },
            "y": {
             "field": "latent heat flux (mm)",
             "scale": {
              "domain": [
               0,
               100
              ]
             },
             "title": "latent heat flux (mm)",
             "type": "quantitative"
            }
           },
           "mark": {
            "type": "line"
           },
           "title": "Metpy e_sat curve"
          }
         ],
         "width": 225
        }
       ],
       "title": "z0 == 0.0001"
      },
      "text/plain": [
       "<VegaLite 5 object>\n",
       "\n",
       "If you see this message, it means the renderer has not been properly enabled\n",
       "for the frontend that you are using. For more information, see\n",
       "https://altair-viz.github.io/user_guide/display_frontends.html#troubleshooting\n"
      ]
     },
     "metadata": {
      "application/vnd.vegalite.v5+json": {
       "embed_options": {
        "renderer": "svg"
       }
      }
     },
     "output_type": "display_data"
    }
   ],
   "source": [
    "src = src_cumsum_daily[src_cumsum_daily.surface_measurement != 'Td_3m_c']\n",
    "src = src[src.surface_measurement != 'Tsurf_d']\n",
    "src = src[src.time < \"2023-05-13\"]\n",
    "src = src.query(\"surface_measurement == 'Tsurf_c'\")\n",
    "src = src.query(\"z0 == 0.0001\")\n",
    "(\n",
    "(measured_line + alt.Chart(\n",
    "            src.query(\"e_sat_curve == 'alduchov'\")\n",
    "        ).mark_line().encode(\n",
    "            alt.X(\"time:T\"),\n",
    "            alt.Y(\"latent heat flux (mm):Q\").title(\"latent heat flux (mm)\").scale(domain=[0,100]),\n",
    "            alt.StrokeDash(\"scheme:N\"),\n",
    "            alt.Color(\"most_config:N\"),\n",
    "            tooltip = 'most_config:N',\n",
    "        ).properties(width = 225, height = 225, title = \"Alduchov e_sat curve\")\n",
    ") | \\\n",
    "(measured_line + alt.Chart(\n",
    "        src.query(\"e_sat_curve == 'metpy'\")\n",
    "    ).mark_line().encode(\n",
    "        alt.X(\"time:T\"),\n",
    "        alt.Y(\"latent heat flux (mm):Q\").title(\"latent heat flux (mm)\").scale(domain=[0,100]),\n",
    "        alt.StrokeDash(\"scheme:N\"),\n",
    "        alt.Color(\"most_config:N\"),\n",
    "        tooltip = 'most_config:N',\n",
    "    ).properties(width = 225, height = 225, title = \"Metpy e_sat curve\")\n",
    ")).configure_legend(orient='left', columns=1).properties(title='z0 == 0.0001').display(renderer = 'svg')"
   ]
  },
  {
   "cell_type": "code",
   "execution_count": 37,
   "metadata": {},
   "outputs": [
    {
     "data": {
      "application/vnd.vegalite.v5+json": {
       "$schema": "https://vega.github.io/schema/vega-lite/v5.8.0.json",
       "config": {
        "legend": {
         "columns": 1,
         "orient": "left"
        },
        "view": {
         "continuousHeight": 300,
         "continuousWidth": 300
        }
       },
       "hconcat": [
        {
         "height": 225,
         "layer": [
          {
           "data": {
            "format": {
             "type": "json"
            },
            "url": "altair-data-7e813b1c354be51a56dea20393fe5717.json"
           },
           "encoding": {
            "x": {
             "field": "time",
             "type": "temporal"
            },
            "y": {
             "field": "value",
             "type": "quantitative"
            }
           },
           "mark": {
            "color": "black",
            "strokeDash": [
             1,
             4
            ],
            "type": "line"
           }
          },
          {
           "data": {
            "format": {
             "type": "json"
            },
            "url": "altair-data-8858b529ad9ac05fccb9afa8d1a0bf77.json"
           },
           "encoding": {
            "color": {
             "field": "scheme",
             "type": "nominal"
            },
            "strokeDash": {
             "field": "e_sat_curve",
             "type": "nominal"
            },
            "tooltip": {
             "field": "scheme",
             "type": "nominal"
            },
            "x": {
             "field": "time",
             "type": "temporal"
            },
            "y": {
             "field": "latent heat flux (mm)",
             "scale": {
              "domain": [
               0,
               120
              ]
             },
             "title": "latent heat flux (mm)",
             "type": "quantitative"
            }
           },
           "mark": {
            "type": "line"
           },
           "title": "Tsurf_c"
          }
         ],
         "width": 225
        },
        {
         "height": 225,
         "layer": [
          {
           "data": {
            "format": {
             "type": "json"
            },
            "url": "altair-data-7e813b1c354be51a56dea20393fe5717.json"
           },
           "encoding": {
            "x": {
             "field": "time",
             "type": "temporal"
            },
            "y": {
             "field": "value",
             "type": "quantitative"
            }
           },
           "mark": {
            "color": "black",
            "strokeDash": [
             1,
             4
            ],
            "type": "line"
           }
          },
          {
           "data": {
            "format": {
             "type": "json"
            },
            "url": "altair-data-affd3c2ca5fb9fa5b66c4f98c03d002a.json"
           },
           "encoding": {
            "color": {
             "field": "scheme",
             "type": "nominal"
            },
            "strokeDash": {
             "field": "e_sat_curve",
             "type": "nominal"
            },
            "tooltip": {
             "field": "scheme",
             "type": "nominal"
            },
            "x": {
             "field": "time",
             "type": "temporal"
            },
            "y": {
             "field": "latent heat flux (mm)",
             "scale": {
              "domain": [
               0,
               120
              ]
             },
             "title": "latent heat flux (mm)",
             "type": "quantitative"
            }
           },
           "mark": {
            "type": "line"
           },
           "title": "Tsurf_rad_d"
          }
         ],
         "width": 225
        }
       ]
      },
      "text/plain": [
       "<VegaLite 5 object>\n",
       "\n",
       "If you see this message, it means the renderer has not been properly enabled\n",
       "for the frontend that you are using. For more information, see\n",
       "https://altair-viz.github.io/user_guide/display_frontends.html#troubleshooting\n"
      ]
     },
     "metadata": {
      "application/vnd.vegalite.v5+json": {
       "embed_options": {
        "renderer": "svg"
       }
      }
     },
     "output_type": "display_data"
    }
   ],
   "source": [
    "src = src_cumsum_daily[src_cumsum_daily.surface_measurement != 'Td_3m_c']\n",
    "src = src[src.surface_measurement != 'Tsurf_d']\n",
    "src = src[src.time < \"2023-05-13\"]\n",
    "src = src.query(\"z0 == 0.0001\")\n",
    "src = src[src.most_config.str.contains(\"NoahMP\")]\n",
    "(\n",
    "(measured_line + alt.Chart(\n",
    "            src.query(\"surface_measurement == 'Tsurf_c'\")\n",
    "        ).mark_line().encode(\n",
    "            alt.X(\"time:T\"),\n",
    "            alt.Y(\"latent heat flux (mm):Q\").title(\"latent heat flux (mm)\").scale(domain=[0,120]),\n",
    "            alt.StrokeDash(\"e_sat_curve:N\"),\n",
    "            alt.Color(\"scheme:N\"),\n",
    "            tooltip = 'scheme:N',\n",
    "        ).properties(width = 225, height = 225, title = \"Tsurf_c\")\n",
    ") | \\\n",
    "(measured_line + alt.Chart(\n",
    "        src.query(\"surface_measurement == 'Tsurf_rad_d'\")\n",
    "    ).mark_line().encode(\n",
    "        alt.X(\"time:T\"),\n",
    "        alt.Y(\"latent heat flux (mm):Q\").title(\"latent heat flux (mm)\").scale(domain=[0,120]),\n",
    "        alt.StrokeDash(\"e_sat_curve:N\"),\n",
    "        alt.Color(\"scheme:N\"),\n",
    "        tooltip = 'scheme:N',\n",
    "    ).properties(width = 225, height = 225, title = \"Tsurf_rad_d\")\n",
    ")).configure_legend(orient='left', columns=1).display(renderer = 'svg')"
   ]
  },
  {
   "cell_type": "code",
   "execution_count": 38,
   "metadata": {},
   "outputs": [
    {
     "data": {
      "application/vnd.vegalite.v5+json": {
       "$schema": "https://vega.github.io/schema/vega-lite/v5.8.0.json",
       "config": {
        "legend": {
         "columns": 1,
         "orient": "top"
        },
        "view": {
         "continuousHeight": 300,
         "continuousWidth": 300
        }
       },
       "height": 225,
       "layer": [
        {
         "data": {
          "format": {
           "type": "json"
          },
          "url": "altair-data-7e813b1c354be51a56dea20393fe5717.json"
         },
         "encoding": {
          "x": {
           "field": "time",
           "type": "temporal"
          },
          "y": {
           "field": "value",
           "type": "quantitative"
          }
         },
         "mark": {
          "color": "black",
          "strokeDash": [
           1,
           4
          ],
          "type": "line"
         }
        },
        {
         "data": {
          "format": {
           "type": "json"
          },
          "url": "altair-data-779cd4a36eb30688c6ff456f14a2b12d.json"
         },
         "encoding": {
          "color": {
           "field": "e_sat_curve",
           "type": "nominal"
          },
          "strokeDash": {
           "field": "z0",
           "type": "nominal"
          },
          "x": {
           "field": "time",
           "type": "temporal"
          },
          "y": {
           "field": "latent heat flux (mm)",
           "title": "latent heat flux (mm)",
           "type": "quantitative"
          }
         },
         "mark": {
          "type": "line"
         },
         "title": "Tsurf_c, MO Webb NoahMP, Andreas lengths"
        }
       ],
       "width": 225
      },
      "text/plain": [
       "<VegaLite 5 object>\n",
       "\n",
       "If you see this message, it means the renderer has not been properly enabled\n",
       "for the frontend that you are using. For more information, see\n",
       "https://altair-viz.github.io/user_guide/display_frontends.html#troubleshooting\n"
      ]
     },
     "metadata": {
      "application/vnd.vegalite.v5+json": {
       "embed_options": {
        "renderer": "svg"
       }
      }
     },
     "output_type": "display_data"
    }
   ],
   "source": [
    "src = src_cumsum_daily[src_cumsum_daily.surface_measurement == 'Tsurf_c']\n",
    "src = src[src.time < \"2023-05-13\"]\n",
    "src = src.query(\"z0 < 0.001\")\n",
    "src = src[src.most_config == 'MO Webb NoahMP']\n",
    "src = src[src.scheme == 'andreas']\n",
    "(\n",
    "(measured_line + alt.Chart(\n",
    "            src\n",
    "        ).mark_line().encode(\n",
    "            alt.X(\"time:T\"),\n",
    "            alt.Y(\"latent heat flux (mm):Q\").title(\"latent heat flux (mm)\"),\n",
    "            alt.Color(\"e_sat_curve:N\"),\n",
    "            alt.StrokeDash(\"z0:N\"),\n",
    "        ).properties(width = 225, height = 225, title = \"Tsurf_c, MO Webb NoahMP, Andreas lengths\")\n",
    ")).configure_legend(orient='top', columns=1).display(renderer = 'svg')"
   ]
  },
  {
   "cell_type": "markdown",
   "metadata": {},
   "source": [
    "## MOST Config"
   ]
  },
  {
   "cell_type": "code",
   "execution_count": 39,
   "metadata": {},
   "outputs": [
    {
     "name": "stdout",
     "output_type": "stream",
     "text": [
      "288\n"
     ]
    },
    {
     "data": {
      "application/vnd.vegalite.v5+json": {
       "$schema": "https://vega.github.io/schema/vega-lite/v5.8.0.json",
       "config": {
        "view": {
         "continuousHeight": 300,
         "continuousWidth": 300
        }
       },
       "vconcat": [
        {
         "data": {
          "format": {
           "type": "json"
          },
          "url": "altair-data-05197f1acd16c98047276ee83c1fc0c1.json"
         },
         "encoding": {
          "column": {
           "field": "most_config",
           "title": null,
           "type": "nominal"
          },
          "detail": {
           "field": "config",
           "type": "nominal"
          },
          "x": {
           "field": "time",
           "title": null,
           "type": "temporal"
          },
          "y": {
           "field": "latent heat flux (mm)",
           "scale": {
            "domain": [
             0,
             250
            ]
           },
           "type": "quantitative"
          }
         },
         "height": 150,
         "mark": {
          "opacity": 0.25,
          "type": "line"
         },
         "width": 150
        },
        {
         "data": {
          "format": {
           "type": "json"
          },
          "url": "altair-data-b12ff6cd3fbe3c280f00277ebabc1660.json"
         },
         "encoding": {
          "column": {
           "field": "most_config",
           "title": null,
           "type": "nominal"
          },
          "detail": {
           "field": "config",
           "type": "nominal"
          },
          "x": {
           "field": "time",
           "title": null,
           "type": "temporal"
          },
          "y": {
           "field": "latent heat flux (mm)",
           "scale": {
            "domain": [
             0,
             250
            ]
           },
           "type": "quantitative"
          }
         },
         "height": 150,
         "mark": {
          "opacity": 0.25,
          "type": "line"
         },
         "width": 150
        },
        {
         "data": {
          "format": {
           "type": "json"
          },
          "url": "altair-data-71b9bd76ca2c4577395b8b5472f187e3.json"
         },
         "encoding": {
          "column": {
           "field": "most_config",
           "title": null,
           "type": "nominal"
          },
          "detail": {
           "field": "config",
           "type": "nominal"
          },
          "x": {
           "field": "time",
           "title": null,
           "type": "temporal"
          },
          "y": {
           "field": "latent heat flux (mm)",
           "scale": {
            "domain": [
             0,
             250
            ]
           },
           "type": "quantitative"
          }
         },
         "height": 150,
         "mark": {
          "opacity": 0.25,
          "type": "line"
         },
         "width": 150
        }
       ]
      },
      "text/plain": [
       "<VegaLite 5 object>\n",
       "\n",
       "If you see this message, it means the renderer has not been properly enabled\n",
       "for the frontend that you are using. For more information, see\n",
       "https://altair-viz.github.io/user_guide/display_frontends.html#troubleshooting\n"
      ]
     },
     "execution_count": 39,
     "metadata": {},
     "output_type": "execute_result"
    }
   ],
   "source": [
    "src = src_cumsum_daily[src_cumsum_daily.surface_measurement != 'Td_3m_c']\n",
    "src = src[src.surface_measurement != 'Tsurf_d']\n",
    "src = src[src.time < \"2023-05-13\"]\n",
    "print(len(src.config.unique()))\n",
    "\n",
    "def chart(src):\n",
    "    return alt.Chart(\n",
    "        src\n",
    "    ).mark_line(opacity=0.25).encode(\n",
    "        alt.X(\"time:T\").title(None),\n",
    "        alt.Y('latent heat flux (mm):Q').scale(domain = [0,250]),\n",
    "        # alt.Y(\"min(latent heat flux (mm)):Q\"),\n",
    "        # alt.Y2(\"max(latent heat flux (mm)):Q\"),\n",
    "        alt.Column(\"most_config:N\").title(None),\n",
    "        detail='config:N',\n",
    "    ).properties(width = 150, height = 150)\n",
    "chart(src[~src.most_config.str.contains(\"MO \")]) & \\\n",
    "chart(src[src.most_config.str.contains(\"MO \")].query(\"scheme == 'yang'\")) & \\\n",
    "chart(src[src.most_config.str.contains(\"MO \")].query(\"scheme == 'andreas'\"))"
   ]
  },
  {
   "cell_type": "code",
   "execution_count": 40,
   "metadata": {},
   "outputs": [
    {
     "data": {
      "application/vnd.vegalite.v5+json": {
       "$schema": "https://vega.github.io/schema/vega-lite/v5.8.0.json",
       "config": {
        "legend": {
         "orient": "top"
        },
        "view": {
         "continuousHeight": 300,
         "continuousWidth": 300
        }
       },
       "data": {
        "format": {
         "type": "json"
        },
        "url": "altair-data-a0f0ac62bf2070fb587b39c4edc45824.json"
       },
       "encoding": {
        "color": {
         "field": "scheme",
         "type": "nominal"
        },
        "column": {
         "field": "z0",
         "type": "nominal"
        },
        "row": {
         "field": "e_sat_curve",
         "type": "nominal"
        },
        "strokeDash": {
         "field": "surface_measurement",
         "type": "nominal"
        },
        "x": {
         "field": "time",
         "type": "temporal"
        },
        "y": {
         "field": "latent heat flux (mm)",
         "type": "quantitative"
        }
       },
       "height": 150,
       "mark": {
        "type": "line"
       },
       "width": 150
      },
      "text/plain": [
       "<VegaLite 5 object>\n",
       "\n",
       "If you see this message, it means the renderer has not been properly enabled\n",
       "for the frontend that you are using. For more information, see\n",
       "https://altair-viz.github.io/user_guide/display_frontends.html#troubleshooting\n"
      ]
     },
     "metadata": {
      "application/vnd.vegalite.v5+json": {
       "embed_options": {
        "renderer": "svg"
       }
      }
     },
     "output_type": "display_data"
    }
   ],
   "source": [
    "src = src_cumsum_daily[src_cumsum_daily.surface_measurement != 'Td_3m_c']\n",
    "src = src[src.surface_measurement != 'Tsurf_d']\n",
    "src = src[src.time < \"2023-05-12\"]\n",
    "src = src[src.most_config.isin([\n",
    "    \"MO Webb NoahMP\", \"MO Webb NoahMP andreas lengths\"\n",
    "])]\n",
    "# src = src[src.surface_measurement == 'Tsurf_c']\n",
    "\n",
    "alt.Chart(\n",
    "    src\n",
    ").mark_line().encode(\n",
    "    alt.X(\"time:T\"),\n",
    "    alt.Y(\"latent heat flux (mm):Q\"),\n",
    "    # alt.Y(\"min(latent heat flux (mm)):Q\"),\n",
    "    # alt.Y2(\"max(latent heat flux (mm)):Q\"),\n",
    "    alt.Row(\"e_sat_curve:N\"),\n",
    "    alt.StrokeDash(\"surface_measurement:N\"),\n",
    "    alt.Column(\"z0:N\"),\n",
    "    alt.Color(\"scheme:N\")\n",
    ").properties(width = 150, height = 150).configure_legend(orient='top').display(renderer='svg')"
   ]
  },
  {
   "cell_type": "code",
   "execution_count": 41,
   "metadata": {},
   "outputs": [
    {
     "data": {
      "text/plain": [
       "<matplotlib.legend.Legend at 0x7eff360210d0>"
      ]
     },
     "execution_count": 41,
     "metadata": {},
     "output_type": "execute_result"
    },
    {
     "data": {
      "image/png": "[encoded data removed]",
      "text/plain": [
       "<Figure size 640x480 with 1 Axes>"
      ]
     },
     "metadata": {},
     "output_type": "display_data"
    }
   ],
   "source": [
    "import matplotlib.pyplot as plt\n",
    "wide_df.set_index(\"time\")['Tsurf_d'].plot(label = 'Tsurf_d')\n",
    "wide_df.set_index(\"time\")['Tsurf_c'].plot(label = 'Tsurf_c')\n",
    "plt.legend()"
   ]
  },
  {
   "cell_type": "markdown",
   "metadata": {},
   "source": [
    "## Scatterplots"
   ]
  },
  {
   "cell_type": "code",
   "execution_count": 42,
   "metadata": {},
   "outputs": [
    {
     "data": {
      "application/vnd.vegalite.v5+json": {
       "$schema": "https://vega.github.io/schema/vega-lite/v5.8.0.json",
       "config": {
        "view": {
         "continuousHeight": 300,
         "continuousWidth": 300
        }
       },
       "layer": [
        {
         "data": {
          "format": {
           "type": "json"
          },
          "url": "altair-data-3f1f2eec451f805e7209250494c3bb75.json"
         },
         "encoding": {
          "color": {
           "field": "z0",
           "type": "nominal"
          },
          "x": {
           "field": "time",
           "type": "temporal"
          },
          "y": {
           "aggregate": "min",
           "field": "latent heat flux",
           "type": "quantitative"
          },
          "y2": {
           "aggregate": "max",
           "field": "latent heat flux"
          }
         },
         "mark": {
          "opacity": 0.5,
          "type": "area"
         }
        },
        {
         "data": {
          "format": {
           "type": "json"
          },
          "url": "altair-data-76bd745e35c619c03356185fb747905d.json"
         },
         "encoding": {
          "x": {
           "field": "time",
           "type": "temporal"
          },
          "y": {
           "field": "value",
           "type": "quantitative"
          }
         },
         "mark": {
          "color": "black",
          "opacity": 0.5,
          "size": 10,
          "type": "point"
         }
        }
       ],
       "width": 600
      },
      "text/plain": [
       "<VegaLite 5 object>\n",
       "\n",
       "If you see this message, it means the renderer has not been properly enabled\n",
       "for the frontend that you are using. For more information, see\n",
       "https://altair-viz.github.io/user_guide/display_frontends.html#troubleshooting\n"
      ]
     },
     "execution_count": 42,
     "metadata": {},
     "output_type": "execute_result"
    }
   ],
   "source": [
    "src = model_df[model_df.e_sat_curve == 'alduchov']\n",
    "src = src[src.e_sat_curve == 'alduchov']\n",
    "src = src[src.surface_measurement == 'Tsurf_c']\n",
    "src = src[(src.time > \"2023-02-01\") & (src.time < \"2023-02-08\")]\n",
    "\n",
    "alt.Chart(src).mark_area(opacity=0.5).encode(\n",
    "    alt.X(\"time:T\"),\n",
    "    alt.Y(\"min(latent heat flux):Q\"),\n",
    "    alt.Y2(\"max(latent heat flux):Q\"),\n",
    "    alt.Color(\"z0:N\")\n",
    ").properties(width = 600) + \\\n",
    "alt.Chart(meas_src).mark_point(size=10, color='black', opacity=0.5).encode(\n",
    "    alt.X(\"time:T\"),\n",
    "    alt.Y(\"value:Q\")\n",
    ")"
   ]
  },
  {
   "cell_type": "code",
   "execution_count": 43,
   "metadata": {},
   "outputs": [
    {
     "data": {
      "text/plain": [
       "array(['Standard', 'Louis b = 12', 'MO Marks Dozier',\n",
       "       'MO Holtslag de Bruin', 'MO Webb NoahMP', 'MO Beljaars Holtslag',\n",
       "       'MO Cheng Brutsaert'], dtype=object)"
      ]
     },
     "execution_count": 43,
     "metadata": {},
     "output_type": "execute_result"
    }
   ],
   "source": [
    "model_df.most_config.unique()"
   ]
  },
  {
   "cell_type": "code",
   "execution_count": 44,
   "metadata": {},
   "outputs": [
    {
     "data": {
      "application/vnd.vegalite.v5+json": {
       "$schema": "https://vega.github.io/schema/vega-lite/v5.8.0.json",
       "config": {
        "view": {
         "continuousHeight": 300,
         "continuousWidth": 300
        }
       },
       "layer": [
        {
         "data": {
          "format": {
           "type": "json"
          },
          "url": "altair-data-d751713988987e9331980363e24189ce.json"
         },
         "encoding": {
          "color": {
           "field": "e_sat_curve",
           "type": "nominal"
          },
          "x": {
           "field": "time",
           "type": "temporal"
          },
          "y": {
           "aggregate": "min",
           "field": "latent heat flux",
           "type": "quantitative"
          },
          "y2": {
           "aggregate": "max",
           "field": "latent heat flux"
          }
         },
         "mark": {
          "opacity": 0.5,
          "type": "area"
         }
        },
        {
         "data": {
          "format": {
           "type": "json"
          },
          "url": "altair-data-63bc0dc87ee4c70dfef8ddbbb4d15519.json"
         },
         "encoding": {
          "x": {
           "field": "time",
           "type": "temporal"
          },
          "y": {
           "field": "value",
           "type": "quantitative"
          }
         },
         "mark": {
          "color": "black",
          "opacity": 0.5,
          "size": 10,
          "type": "point"
         }
        }
       ]
      },
      "text/plain": [
       "<VegaLite 5 object>\n",
       "\n",
       "If you see this message, it means the renderer has not been properly enabled\n",
       "for the frontend that you are using. For more information, see\n",
       "https://altair-viz.github.io/user_guide/display_frontends.html#troubleshooting\n"
      ]
     },
     "metadata": {
      "application/vnd.vegalite.v5+json": {
       "embed_options": {
        "renderer": "svg"
       }
      }
     },
     "output_type": "display_data"
    }
   ],
   "source": [
    "src = model_df[model_df.surface_measurement == 'Tsurf_c']\n",
    "src = src[src.z0 < 0.001]\n",
    "\n",
    "src = src[src.most_config == 'MO Webb NoahMP andreas lengths']\n",
    "\n",
    "src = src[(src.time > \"2023-02-01\") & (src.time < \"2023-02-02\")]\n",
    "meas_src = measured_data[(measured_data.time > \"2023-02-01\") & (measured_data.time < \"2023-02-02\")]\n",
    "(\n",
    "alt.Chart(src).mark_area(opacity=0.5).encode(\n",
    "    alt.X(\"time:T\"),\n",
    "    alt.Y(\"min(latent heat flux):Q\"),\n",
    "    alt.Y2(\"max(latent heat flux):Q\"),\n",
    "    alt.Color(\"e_sat_curve:N\")\n",
    ").properties() + \\\n",
    "alt.Chart(meas_src).mark_point(size=10, color='black', opacity=0.5).encode(\n",
    "    alt.X(\"time:T\"),\n",
    "    alt.Y(\"value:Q\")\n",
    ")).display(renderer = 'svg')"
   ]
  },
  {
   "cell_type": "code",
   "execution_count": 45,
   "metadata": {},
   "outputs": [
    {
     "data": {
      "application/vnd.vegalite.v5+json": {
       "$schema": "https://vega.github.io/schema/vega-lite/v5.8.0.json",
       "config": {
        "legend": {
         "labelLimit": 1000
        },
        "view": {
         "continuousHeight": 300,
         "continuousWidth": 300
        }
       },
       "data": {
        "format": {
         "type": "json"
        },
        "url": "altair-data-23f3c689b7fe4f1a450418623d6e22cd.json"
       },
       "encoding": {
        "color": {
         "field": "config",
         "type": "nominal"
        },
        "strokeDash": {
         "field": "config",
         "type": "nominal"
        },
        "x": {
         "field": "time",
         "type": "temporal"
        },
        "y": {
         "aggregate": "median",
         "field": "latent heat flux",
         "type": "quantitative"
        }
       },
       "mark": {
        "type": "line"
       }
      },
      "text/plain": [
       "<VegaLite 5 object>\n",
       "\n",
       "If you see this message, it means the renderer has not been properly enabled\n",
       "for the frontend that you are using. For more information, see\n",
       "https://altair-viz.github.io/user_guide/display_frontends.html#troubleshooting\n"
      ]
     },
     "execution_count": 45,
     "metadata": {},
     "output_type": "execute_result"
    }
   ],
   "source": [
    "src = model_df[model_df.surface_measurement == 'Tsurf_c']\n",
    "src = src[src.z0 == 0.0001]\n",
    "src = src[src.most_config.str.contains('MO')]\n",
    "src = src[src.e_sat_curve == 'alduchov']\n",
    "\n",
    "src = src[(src.time > \"2023-02-01\") & (src.time < \"2023-02-02\")]\n",
    "meas_src = measured_data[(measured_data.time > \"2023-02-01\") & (measured_data.time < \"2023-02-02\")]\n",
    "# src = src[(src.time > \"2023-03-28\") & (src.time < \"2023-03-29\")]\n",
    "# meas_src = measured_data[(measured_data.time > \"2023-03-28\") & (measured_data.time < \"2023-03-29\")]\n",
    "\n",
    "# src = src[(src.time > \"2023-03-30\") & (src.time < \"2023-03-31\")]\n",
    "# meas_src = measured_data[(measured_data.time > \"2023-03-30\") & (measured_data.time < \"2023-03-31\")]\n",
    "# src = src[(src.time > \"2023-02-05\") & (src.time < \"2023-02-06\")]\n",
    "# meas_src = measured_data[(measured_data.time > \"2023-02-05\") & (measured_data.time < \"2023-02-06\")]   \n",
    "\n",
    "\n",
    "src = src[~src.most_config.str.contains('Cheng')]\n",
    "# src = src[~src.most_config.str.contains('MO')]\n",
    "\n",
    "alt.Chart(src).mark_line().encode(\n",
    "    alt.X(\"time:T\"),\n",
    "    alt.Y(\"median(latent heat flux):Q\"),\n",
    "    alt.Color(\"config:N\"),\n",
    "    alt.StrokeDash(\"config:N\"),\n",
    ").properties().configure_legend(labelLimit=1000)"
   ]
  },
  {
   "cell_type": "code",
   "execution_count": 84,
   "metadata": {},
   "outputs": [
    {
     "data": {
      "application/vnd.vegalite.v5+json": {
       "$schema": "https://vega.github.io/schema/vega-lite/v5.8.0.json",
       "config": {
        "legend": {
         "orient": "top"
        },
        "view": {
         "continuousHeight": 300,
         "continuousWidth": 300
        }
       },
       "layer": [
        {
         "data": {
          "format": {
           "type": "json"
          },
          "url": "altair-data-ea4d087c47ee3cc2a8de8ff37cf59863.json"
         },
         "encoding": {
          "color": {
           "field": "e_sat_curve",
           "type": "nominal"
          },
          "x": {
           "field": "time",
           "type": "temporal"
          },
          "y": {
           "aggregate": "min",
           "field": "latent heat flux",
           "title": "Latent heat flux (g/m^2/s)",
           "type": "quantitative"
          },
          "y2": {
           "aggregate": "max",
           "field": "latent heat flux"
          }
         },
         "mark": {
          "opacity": 0.5,
          "type": "area"
         }
        },
        {
         "data": {
          "format": {
           "type": "json"
          },
          "url": "altair-data-2ebf17ce066b17793109bd8563e045bd.json"
         },
         "encoding": {
          "x": {
           "field": "time",
           "type": "temporal"
          },
          "y": {
           "field": "value",
           "type": "quantitative"
          }
         },
         "mark": {
          "color": "black",
          "opacity": 0.5,
          "size": 10,
          "type": "point"
         }
        }
       ]
      },
      "text/plain": [
       "<VegaLite 5 object>\n",
       "\n",
       "If you see this message, it means the renderer has not been properly enabled\n",
       "for the frontend that you are using. For more information, see\n",
       "https://altair-viz.github.io/user_guide/display_frontends.html#troubleshooting\n"
      ]
     },
     "metadata": {
      "application/vnd.vegalite.v5+json": {
       "embed_options": {
        "renderer": "svg"
       }
      }
     },
     "output_type": "display_data"
    }
   ],
   "source": [
    "src = model_df[model_df.surface_measurement == 'Tsurf_c']\n",
    "src = src[src.most_config == 'MO Webb NoahMP']\n",
    "src = src[src.scheme == 'andreas']\n",
    "src = src[src.z0 < 0.001]\n",
    "\n",
    "src = src[(src.time > \"2023-03-28\") & (src.time < \"2023-03-29\")]\n",
    "meas_src = measured_data[(measured_data.time > \"2023-03-28\") & (measured_data.time < \"2023-03-29\")]\n",
    "\n",
    "(\n",
    "alt.Chart(src).mark_area(opacity=0.5).encode(\n",
    "    alt.X(\"time:T\"),\n",
    "    alt.Y(\"min(latent heat flux):Q\").title(\"Latent heat flux (g/m^2/s)\"),\n",
    "    alt.Y2(\"max(latent heat flux):Q\"),\n",
    "    alt.Color(\"e_sat_curve:N\")\n",
    ").properties()+ \\\n",
    "alt.Chart(meas_src).mark_point(size=10, color='black', opacity=0.5).encode(\n",
    "    alt.X(\"time:T\"),\n",
    "    alt.Y(\"value:Q\")\n",
    ")).configure_legend(orient='top').display(renderer = 'svg')"
   ]
  },
  {
   "cell_type": "code",
   "execution_count": 97,
   "metadata": {},
   "outputs": [
    {
     "data": {
      "application/vnd.vegalite.v5+json": {
       "$schema": "https://vega.github.io/schema/vega-lite/v5.8.0.json",
       "config": {
        "legend": {
         "orient": "top"
        },
        "view": {
         "continuousHeight": 300,
         "continuousWidth": 300
        }
       },
       "layer": [
        {
         "data": {
          "format": {
           "type": "json"
          },
          "url": "altair-data-ea328b72cdf22ab6a3e003dcd3b402c8.json"
         },
         "encoding": {
          "color": {
           "field": "e_sat_curve",
           "type": "nominal"
          },
          "strokeDash": {
           "field": "surface_measurement",
           "type": "nominal"
          },
          "x": {
           "field": "time",
           "type": "temporal"
          },
          "y": {
           "field": "latent heat flux",
           "title": "Latent heat flux (g/m^2/s)",
           "type": "quantitative"
          }
         },
         "mark": {
          "type": "line"
         }
        },
        {
         "data": {
          "format": {
           "type": "json"
          },
          "url": "altair-data-2ebf17ce066b17793109bd8563e045bd.json"
         },
         "encoding": {
          "x": {
           "field": "time",
           "type": "temporal"
          },
          "y": {
           "field": "value",
           "type": "quantitative"
          }
         },
         "mark": {
          "color": "black",
          "opacity": 0.5,
          "size": 10,
          "type": "point"
         }
        }
       ],
       "width": 500
      },
      "text/plain": [
       "<VegaLite 5 object>\n",
       "\n",
       "If you see this message, it means the renderer has not been properly enabled\n",
       "for the frontend that you are using. For more information, see\n",
       "https://altair-viz.github.io/user_guide/display_frontends.html#troubleshooting\n"
      ]
     },
     "metadata": {
      "application/vnd.vegalite.v5+json": {
       "embed_options": {
        "renderer": "svg"
       }
      }
     },
     "output_type": "display_data"
    }
   ],
   "source": [
    "src = model_df[model_df.surface_measurement.isin(['Tsurf_c', 'Tsurf_rad_d'])]\n",
    "src = src[src.z0 == 1.e-05]\n",
    "src = src[src.most_config == 'MO Webb NoahMP']\n",
    "src = src[src.scheme == 'andreas']\n",
    "\n",
    "src = src[(src.time > \"2023-03-28\") & (src.time < \"2023-03-29\")]\n",
    "meas_src = measured_data[(measured_data.time > \"2023-03-28\") & (measured_data.time < \"2023-03-29\")]\n",
    "\n",
    "(\n",
    "alt.Chart(src).mark_line().encode(\n",
    "    alt.X(\"time:T\"),\n",
    "    alt.Y(\"latent heat flux:Q\").title(\"Latent heat flux (g/m^2/s)\"),\n",
    "    alt.Color(\"e_sat_curve:N\"),\n",
    "    alt.StrokeDash(\"surface_measurement:N\")\n",
    ")+ \\\n",
    "alt.Chart(meas_src).mark_point(size=10, color='black', opacity=0.5).encode(\n",
    "    alt.X(\"time:T\"),\n",
    "    alt.Y(\"value:Q\")\n",
    ")).properties(width = 500).configure_legend(orient='top').display(renderer = 'svg')"
   ]
  },
  {
   "cell_type": "code",
   "execution_count": 88,
   "metadata": {},
   "outputs": [
    {
     "data": {
      "application/vnd.vegalite.v5+json": {
       "$schema": "https://vega.github.io/schema/vega-lite/v5.8.0.json",
       "config": {
        "legend": {
         "orient": "top"
        },
        "view": {
         "continuousHeight": 300,
         "continuousWidth": 300
        }
       },
       "layer": [
        {
         "data": {
          "format": {
           "type": "json"
          },
          "url": "altair-data-42db53a238253cf685aa80d5826cbfd8.json"
         },
         "encoding": {
          "color": {
           "field": "e_sat_curve",
           "type": "nominal"
          },
          "x": {
           "field": "time",
           "type": "temporal"
          },
          "y": {
           "aggregate": "min",
           "field": "latent heat flux",
           "title": "Latent heat flux (g/m^2/s)",
           "type": "quantitative"
          },
          "y2": {
           "aggregate": "max",
           "field": "latent heat flux"
          }
         },
         "mark": {
          "opacity": 0.5,
          "type": "area"
         }
        },
        {
         "data": {
          "format": {
           "type": "json"
          },
          "url": "altair-data-63bc0dc87ee4c70dfef8ddbbb4d15519.json"
         },
         "encoding": {
          "x": {
           "field": "time",
           "type": "temporal"
          },
          "y": {
           "field": "value",
           "type": "quantitative"
          }
         },
         "mark": {
          "color": "black",
          "opacity": 0.5,
          "size": 10,
          "type": "point"
         }
        }
       ]
      },
      "text/plain": [
       "<VegaLite 5 object>\n",
       "\n",
       "If you see this message, it means the renderer has not been properly enabled\n",
       "for the frontend that you are using. For more information, see\n",
       "https://altair-viz.github.io/user_guide/display_frontends.html#troubleshooting\n"
      ]
     },
     "metadata": {
      "application/vnd.vegalite.v5+json": {
       "embed_options": {
        "renderer": "svg"
       }
      }
     },
     "output_type": "display_data"
    }
   ],
   "source": [
    "src = model_df[model_df.surface_measurement.isin(['Tsurf_c', 'Tsurf_rad_d'])]\n",
    "src = src[src.z0 == 1.e-05]\n",
    "src = src[src.most_config == 'MO Webb NoahMP']\n",
    "src = src[src.scheme == 'andreas']\n",
    "\n",
    "src = src[(src.time > \"2023-02-01\") & (src.time < \"2023-02-02\")]\n",
    "meas_src = measured_data[(measured_data.time > \"2023-02-01\") & (measured_data.time < \"2023-02-02\")]\n",
    "\n",
    "(\n",
    "alt.Chart(src).mark_area(opacity=0.5).encode(\n",
    "    alt.X(\"time:T\"),\n",
    "    alt.Y(\"min(latent heat flux):Q\").title(\"Latent heat flux (g/m^2/s)\"),\n",
    "    alt.Y2(\"max(latent heat flux):Q\"),\n",
    "    alt.Color(\"e_sat_curve:N\")\n",
    ").properties()+ \\\n",
    "alt.Chart(meas_src).mark_point(size=10, color='black', opacity=0.5).encode(\n",
    "    alt.X(\"time:T\"),\n",
    "    alt.Y(\"value:Q\")\n",
    ")).configure_legend(orient='top').display(renderer = 'svg')"
   ]
  },
  {
   "cell_type": "code",
   "execution_count": 96,
   "metadata": {},
   "outputs": [
    {
     "data": {
      "application/vnd.vegalite.v5+json": {
       "$schema": "https://vega.github.io/schema/vega-lite/v5.8.0.json",
       "config": {
        "legend": {
         "orient": "top"
        },
        "view": {
         "continuousHeight": 300,
         "continuousWidth": 300
        }
       },
       "layer": [
        {
         "data": {
          "format": {
           "type": "json"
          },
          "url": "altair-data-42db53a238253cf685aa80d5826cbfd8.json"
         },
         "encoding": {
          "color": {
           "field": "e_sat_curve",
           "type": "nominal"
          },
          "strokeDash": {
           "field": "surface_measurement",
           "type": "nominal"
          },
          "x": {
           "field": "time",
           "type": "temporal"
          },
          "y": {
           "field": "latent heat flux",
           "title": "Latent heat flux (g/m^2/s)",
           "type": "quantitative"
          }
         },
         "mark": {
          "type": "line"
         }
        },
        {
         "data": {
          "format": {
           "type": "json"
          },
          "url": "altair-data-63bc0dc87ee4c70dfef8ddbbb4d15519.json"
         },
         "encoding": {
          "x": {
           "field": "time",
           "type": "temporal"
          },
          "y": {
           "field": "value",
           "type": "quantitative"
          }
         },
         "mark": {
          "color": "black",
          "opacity": 0.5,
          "size": 10,
          "type": "point"
         }
        }
       ],
       "width": 500
      },
      "text/plain": [
       "<VegaLite 5 object>\n",
       "\n",
       "If you see this message, it means the renderer has not been properly enabled\n",
       "for the frontend that you are using. For more information, see\n",
       "https://altair-viz.github.io/user_guide/display_frontends.html#troubleshooting\n"
      ]
     },
     "metadata": {
      "application/vnd.vegalite.v5+json": {
       "embed_options": {
        "renderer": "svg"
       }
      }
     },
     "output_type": "display_data"
    }
   ],
   "source": [
    "src = model_df[model_df.surface_measurement.isin(['Tsurf_c', 'Tsurf_rad_d'])]\n",
    "src = src[src.z0 == 1.e-05]\n",
    "src = src[src.most_config == 'MO Webb NoahMP']\n",
    "src = src[src.scheme == 'andreas']\n",
    "\n",
    "src = src[(src.time > \"2023-02-01\") & (src.time < \"2023-02-02\")]\n",
    "meas_src = measured_data[(measured_data.time > \"2023-02-01\") & (measured_data.time < \"2023-02-02\")]\n",
    "\n",
    "(\n",
    "alt.Chart(src).mark_line().encode(\n",
    "    alt.X(\"time:T\"),\n",
    "    alt.Y(\"latent heat flux:Q\").title(\"Latent heat flux (g/m^2/s)\"),\n",
    "    alt.Color(\"e_sat_curve:N\"),\n",
    "    alt.StrokeDash(\"surface_measurement:N\")\n",
    ")+ \\\n",
    "alt.Chart(meas_src).mark_point(size=10, color='black', opacity=0.5).encode(\n",
    "    alt.X(\"time:T\"),\n",
    "    alt.Y(\"value:Q\")\n",
    ")).properties(width = 500).configure_legend(orient='top').display(renderer = 'svg')"
   ]
  },
  {
   "cell_type": "code",
   "execution_count": 47,
   "metadata": {},
   "outputs": [
    {
     "data": {
      "text/plain": [
       "array(['MO Webb NoahMP andreas lengths Tsurf_c e_sat_metpy 1e-05',\n",
       "       'MO Webb NoahMP andreas lengths Tsurf_c e_sat_alduchov 1e-05',\n",
       "       'MO Webb NoahMP andreas lengths Tsurf_c e_sat_metpy 5e-05',\n",
       "       'MO Webb NoahMP andreas lengths Tsurf_c e_sat_alduchov 5e-05',\n",
       "       'MO Webb NoahMP andreas lengths Tsurf_c e_sat_metpy 0.0001',\n",
       "       'MO Webb NoahMP andreas lengths Tsurf_c e_sat_alduchov 0.0001',\n",
       "       'MO Webb NoahMP andreas lengths Tsurf_c e_sat_metpy 0.0005',\n",
       "       'MO Webb NoahMP andreas lengths Tsurf_c e_sat_alduchov 0.0005'],\n",
       "      dtype=object)"
      ]
     },
     "execution_count": 47,
     "metadata": {},
     "output_type": "execute_result"
    }
   ],
   "source": [
    "src.config.unique()"
   ]
  },
  {
   "cell_type": "code",
   "execution_count": 48,
   "metadata": {},
   "outputs": [
    {
     "data": {
      "application/vnd.vegalite.v5+json": {
       "$schema": "https://vega.github.io/schema/vega-lite/v5.8.0.json",
       "config": {
        "view": {
         "continuousHeight": 300,
         "continuousWidth": 300
        }
       },
       "data": {
        "format": {
         "type": "json"
        },
        "url": "altair-data-d751713988987e9331980363e24189ce.json"
       },
       "layer": [
        {
         "encoding": {
          "color": {
           "field": "e_sat_curve",
           "type": "nominal"
          },
          "x": {
           "field": "time",
           "type": "temporal"
          },
          "y": {
           "aggregate": "min",
           "field": "latent heat flux",
           "type": "quantitative"
          },
          "y2": {
           "aggregate": "max",
           "field": "latent heat flux"
          }
         },
         "mark": {
          "opacity": 0.5,
          "type": "area"
         }
        },
        {
         "encoding": {
          "color": {
           "field": "e_sat_curve",
           "type": "nominal"
          },
          "x": {
           "field": "time",
           "type": "temporal"
          },
          "y": {
           "aggregate": "median",
           "field": "latent heat flux",
           "type": "quantitative"
          }
         },
         "mark": {
          "type": "line"
         }
        },
        {
         "data": {
          "format": {
           "type": "json"
          },
          "url": "altair-data-c63bd244a75a06e430028eeef3c6b079.json"
         },
         "encoding": {
          "x": {
           "field": "time",
           "type": "temporal"
          },
          "y": {
           "field": "value",
           "type": "quantitative"
          }
         },
         "mark": {
          "color": "black",
          "opacity": 0.5,
          "size": 10,
          "type": "point"
         }
        }
       ],
       "width": 600
      },
      "text/plain": [
       "<VegaLite 5 object>\n",
       "\n",
       "If you see this message, it means the renderer has not been properly enabled\n",
       "for the frontend that you are using. For more information, see\n",
       "https://altair-viz.github.io/user_guide/display_frontends.html#troubleshooting\n"
      ]
     },
     "execution_count": 48,
     "metadata": {},
     "output_type": "execute_result"
    }
   ],
   "source": [
    "src = model_df[model_df.surface_measurement == 'Tsurf_c']\n",
    "src = src[src.z0 < 0.001]\n",
    "src = src[src.most_config.str.contains(\"andreas lengths\")]\n",
    "src = src[(src.time > \"2023-02-02\") & (src.time < \"2023-02-06\")]\n",
    "meas_src = measured_data[(measured_data.time > \"2023-02-02\") & (measured_data.time < \"2023-02-06\")]\n",
    "\n",
    "alt.Chart(src).mark_area(opacity=0.5).encode(\n",
    "    alt.X(\"time:T\"),\n",
    "    alt.Y(\"min(latent heat flux):Q\"),\n",
    "    alt.Y2(\"max(latent heat flux):Q\"),\n",
    "    alt.Color(\"e_sat_curve:N\")\n",
    ").properties(width = 600) + \\\n",
    "alt.Chart(src).mark_line().encode(\n",
    "    alt.X(\"time:T\"),\n",
    "    alt.Y(\"median(latent heat flux):Q\"),\n",
    "    alt.Color(\"e_sat_curve:N\")\n",
    ") + \\\n",
    "alt.Chart(meas_src).mark_point(size=10, color='black', opacity=0.5).encode(\n",
    "    alt.X(\"time:T\"),\n",
    "    alt.Y(\"value:Q\")\n",
    ")"
   ]
  },
  {
   "cell_type": "code",
   "execution_count": 49,
   "metadata": {},
   "outputs": [
    {
     "data": {
      "application/vnd.vegalite.v5+json": {
       "$schema": "https://vega.github.io/schema/vega-lite/v5.8.0.json",
       "config": {
        "axis": {
         "grid": false
        },
        "view": {
         "continuousHeight": 300,
         "continuousWidth": 300
        }
       },
       "data": {
        "format": {
         "type": "json"
        },
        "url": "altair-data-c44f593acfa7b3f57bf6e96ea8a84153.json"
       },
       "encoding": {
        "color": {
         "field": "e_sat_curve",
         "type": "nominal"
        },
        "x": {
         "field": "time",
         "type": "temporal"
        },
        "y": {
         "aggregate": "median",
         "field": "latent heat flux",
         "type": "quantitative"
        }
       },
       "mark": {
        "strokeWidth": 0.5,
        "type": "line"
       },
       "width": 600
      },
      "text/plain": [
       "<VegaLite 5 object>\n",
       "\n",
       "If you see this message, it means the renderer has not been properly enabled\n",
       "for the frontend that you are using. For more information, see\n",
       "https://altair-viz.github.io/user_guide/display_frontends.html#troubleshooting\n"
      ]
     },
     "execution_count": 49,
     "metadata": {},
     "output_type": "execute_result"
    }
   ],
   "source": [
    "src = model_df[model_df.surface_measurement == 'Tsurf_c']\n",
    "src = src[src.z0 < 0.001]\n",
    "src = src[src.scheme == 'andreas']\n",
    "src = src[src.most_config == 'MO Webb NoahMP']\n",
    "src = src[(src.time > \"2023-01-01\") & (src.time < \"2023-02-01\")]\n",
    "meas_src = measured_data[(measured_data.time > \"2023-01-01\") & (measured_data.time < \"2023-02-01\")]\n",
    "alt.Chart(src).mark_line(strokeWidth=0.5).encode(\n",
    "    alt.X(\"time:T\"),\n",
    "    alt.Y(\"median(latent heat flux):Q\"),\n",
    "    alt.Color(\"e_sat_curve:N\")\n",
    ").properties(width = 600).configure_axis(grid=False)"
   ]
  },
  {
   "cell_type": "code",
   "execution_count": 50,
   "metadata": {},
   "outputs": [
    {
     "data": {
      "application/vnd.vegalite.v5+json": {
       "$schema": "https://vega.github.io/schema/vega-lite/v5.8.0.json",
       "config": {
        "view": {
         "continuousHeight": 300,
         "continuousWidth": 300
        }
       },
       "layer": [
        {
         "data": {
          "format": {
           "type": "json"
          },
          "url": "altair-data-ecc8118a7d3c7a49157fd97b0ecea10c.json"
         },
         "encoding": {
          "color": {
           "field": "most_config",
           "type": "nominal"
          },
          "x": {
           "field": "time",
           "type": "temporal"
          },
          "y": {
           "aggregate": "min",
           "field": "latent heat flux",
           "type": "quantitative"
          },
          "y2": {
           "aggregate": "max",
           "field": "latent heat flux"
          }
         },
         "mark": {
          "opacity": 0.5,
          "type": "area"
         }
        },
        {
         "data": {
          "format": {
           "type": "json"
          },
          "url": "altair-data-706d1100138772435ce88ec6169f93ed.json"
         },
         "encoding": {
          "x": {
           "field": "time",
           "type": "temporal"
          },
          "y": {
           "field": "value",
           "type": "quantitative"
          }
         },
         "mark": {
          "color": "black",
          "opacity": 0.5,
          "size": 10,
          "type": "point"
         }
        }
       ],
       "width": 600
      },
      "text/plain": [
       "<VegaLite 5 object>\n",
       "\n",
       "If you see this message, it means the renderer has not been properly enabled\n",
       "for the frontend that you are using. For more information, see\n",
       "https://altair-viz.github.io/user_guide/display_frontends.html#troubleshooting\n"
      ]
     },
     "metadata": {
      "application/vnd.vegalite.v5+json": {
       "embed_options": {
        "renderer": "svg"
       }
      }
     },
     "output_type": "display_data"
    }
   ],
   "source": [
    "src = model_df[model_df.surface_measurement == 'Tsurf_c']\n",
    "src = src[src.z0 < 0.001]\n",
    "\n",
    "src = src[(src.time > \"2023-03-28\") & (src.time < \"2023-04-01\")]\n",
    "src = src[src.most_config.str.contains(\"MO Webb NoahMP\")]\n",
    "meas_src = measured_data[(measured_data.time > \"2023-03-28\") & (measured_data.time < \"2023-04-01\")]\n",
    "\n",
    "(alt.Chart(src).mark_area(opacity=0.5).encode(\n",
    "    alt.X(\"time:T\"),\n",
    "    alt.Y(\"min(latent heat flux):Q\"),\n",
    "    alt.Y2(\"max(latent heat flux):Q\"),\n",
    "    alt.Color(\"most_config:N\")\n",
    ").properties(width = 600) + \\\n",
    "alt.Chart(meas_src).mark_point(size=10, color='black', opacity=0.5).encode(\n",
    "    alt.X(\"time:T\"),\n",
    "    alt.Y(\"value:Q\")\n",
    ")).display(renderer='svg')"
   ]
  },
  {
   "cell_type": "code",
   "execution_count": 51,
   "metadata": {},
   "outputs": [
    {
     "data": {
      "application/vnd.vegalite.v5+json": {
       "$schema": "https://vega.github.io/schema/vega-lite/v5.8.0.json",
       "config": {
        "legend": {
         "orient": "top"
        },
        "view": {
         "continuousHeight": 300,
         "continuousWidth": 300
        }
       },
       "layer": [
        {
         "data": {
          "format": {
           "type": "json"
          },
          "url": "altair-data-69655d4826bfcf7b9ae614052d9a79a3.json"
         },
         "encoding": {
          "color": {
           "field": "e_sat_curve",
           "type": "nominal"
          },
          "x": {
           "field": "time",
           "type": "temporal"
          },
          "y": {
           "aggregate": "min",
           "field": "latent heat flux",
           "type": "quantitative"
          },
          "y2": {
           "aggregate": "max",
           "field": "latent heat flux"
          }
         },
         "mark": {
          "opacity": 0.5,
          "type": "area"
         }
        },
        {
         "data": {
          "format": {
           "type": "json"
          },
          "url": "altair-data-706d1100138772435ce88ec6169f93ed.json"
         },
         "encoding": {
          "x": {
           "field": "time",
           "type": "temporal"
          },
          "y": {
           "field": "value",
           "type": "quantitative"
          }
         },
         "mark": {
          "color": "black",
          "opacity": 0.5,
          "size": 10,
          "type": "point"
         }
        }
       ],
       "width": 600
      },
      "text/plain": [
       "<VegaLite 5 object>\n",
       "\n",
       "If you see this message, it means the renderer has not been properly enabled\n",
       "for the frontend that you are using. For more information, see\n",
       "https://altair-viz.github.io/user_guide/display_frontends.html#troubleshooting\n"
      ]
     },
     "metadata": {
      "application/vnd.vegalite.v5+json": {
       "embed_options": {
        "renderer": "svg"
       }
      }
     },
     "output_type": "display_data"
    }
   ],
   "source": [
    "src = model_df[model_df.surface_measurement == 'Tsurf_c']\n",
    "src = src[src.z0 < 0.001]\n",
    "src = src[(src.time > \"2023-03-28\") & (src.time < \"2023-04-01\")]\n",
    "src = src[src.most_config == \"MO Webb NoahMP\"]\n",
    "src = src[src.scheme == 'andreas']\n",
    "meas_src = measured_data[(measured_data.time > \"2023-03-28\") & (measured_data.time < \"2023-04-01\")]\n",
    "\n",
    "(alt.Chart(src).mark_area(opacity=0.5).encode(\n",
    "    alt.X(\"time:T\"),\n",
    "    alt.Y(\"min(latent heat flux):Q\"),\n",
    "    alt.Y2(\"max(latent heat flux):Q\"),\n",
    "    alt.Color(\"e_sat_curve:N\")\n",
    ").properties(width = 600) + \\\n",
    "alt.Chart(meas_src).mark_point(size=10, color='black', opacity=0.5).encode(\n",
    "    alt.X(\"time:T\"),\n",
    "    alt.Y(\"value:Q\")\n",
    ")).configure_legend(orient='top').display(renderer='svg')"
   ]
  },
  {
   "cell_type": "code",
   "execution_count": 72,
   "metadata": {},
   "outputs": [
    {
     "data": {
      "text/html": [
       "<div>\n",
       "<style scoped>\n",
       "    .dataframe tbody tr th:only-of-type {\n",
       "        vertical-align: middle;\n",
       "    }\n",
       "\n",
       "    .dataframe tbody tr th {\n",
       "        vertical-align: top;\n",
       "    }\n",
       "\n",
       "    .dataframe thead th {\n",
       "        text-align: right;\n",
       "    }\n",
       "</style>\n",
       "<table border=\"1\" class=\"dataframe\">\n",
       "  <thead>\n",
       "    <tr style=\"text-align: right;\">\n",
       "      <th></th>\n",
       "      <th>time</th>\n",
       "      <th>config</th>\n",
       "      <th>latent heat flux</th>\n",
       "      <th>sensible heat flux</th>\n",
       "      <th>zeta</th>\n",
       "      <th>latent heat conductance</th>\n",
       "      <th>sensible heat conductance</th>\n",
       "      <th>scheme</th>\n",
       "      <th>z0</th>\n",
       "      <th>e_sat_curve</th>\n",
       "      <th>surface_measurement</th>\n",
       "      <th>most_config</th>\n",
       "    </tr>\n",
       "  </thead>\n",
       "  <tbody>\n",
       "    <tr>\n",
       "      <th>0</th>\n",
       "      <td>2022-11-29 17:00:00</td>\n",
       "      <td>Standard Tsurf_c e_sat_metpy 1e-05</td>\n",
       "      <td>0.003384</td>\n",
       "      <td>0.002263</td>\n",
       "      <td>NaN</td>\n",
       "      <td>0.003490</td>\n",
       "      <td>0.003490</td>\n",
       "      <td>yang</td>\n",
       "      <td>0.00001</td>\n",
       "      <td>metpy</td>\n",
       "      <td>Tsurf_c</td>\n",
       "      <td>Standard</td>\n",
       "    </tr>\n",
       "    <tr>\n",
       "      <th>1</th>\n",
       "      <td>2022-11-29 17:30:00</td>\n",
       "      <td>Standard Tsurf_c e_sat_metpy 1e-05</td>\n",
       "      <td>0.005943</td>\n",
       "      <td>0.000919</td>\n",
       "      <td>NaN</td>\n",
       "      <td>0.004690</td>\n",
       "      <td>0.004690</td>\n",
       "      <td>yang</td>\n",
       "      <td>0.00001</td>\n",
       "      <td>metpy</td>\n",
       "      <td>Tsurf_c</td>\n",
       "      <td>Standard</td>\n",
       "    </tr>\n",
       "    <tr>\n",
       "      <th>2</th>\n",
       "      <td>2022-11-29 18:00:00</td>\n",
       "      <td>Standard Tsurf_c e_sat_metpy 1e-05</td>\n",
       "      <td>0.004470</td>\n",
       "      <td>-0.001354</td>\n",
       "      <td>NaN</td>\n",
       "      <td>0.003773</td>\n",
       "      <td>0.003773</td>\n",
       "      <td>yang</td>\n",
       "      <td>0.00001</td>\n",
       "      <td>metpy</td>\n",
       "      <td>Tsurf_c</td>\n",
       "      <td>Standard</td>\n",
       "    </tr>\n",
       "    <tr>\n",
       "      <th>3</th>\n",
       "      <td>2022-11-29 18:30:00</td>\n",
       "      <td>Standard Tsurf_c e_sat_metpy 1e-05</td>\n",
       "      <td>0.001274</td>\n",
       "      <td>-0.001298</td>\n",
       "      <td>NaN</td>\n",
       "      <td>0.001657</td>\n",
       "      <td>0.001657</td>\n",
       "      <td>yang</td>\n",
       "      <td>0.00001</td>\n",
       "      <td>metpy</td>\n",
       "      <td>Tsurf_c</td>\n",
       "      <td>Standard</td>\n",
       "    </tr>\n",
       "    <tr>\n",
       "      <th>4</th>\n",
       "      <td>2022-11-29 19:00:00</td>\n",
       "      <td>Standard Tsurf_c e_sat_metpy 1e-05</td>\n",
       "      <td>0.000506</td>\n",
       "      <td>-0.000939</td>\n",
       "      <td>NaN</td>\n",
       "      <td>0.001040</td>\n",
       "      <td>0.001040</td>\n",
       "      <td>yang</td>\n",
       "      <td>0.00001</td>\n",
       "      <td>metpy</td>\n",
       "      <td>Tsurf_c</td>\n",
       "      <td>Standard</td>\n",
       "    </tr>\n",
       "    <tr>\n",
       "      <th>...</th>\n",
       "      <td>...</td>\n",
       "      <td>...</td>\n",
       "      <td>...</td>\n",
       "      <td>...</td>\n",
       "      <td>...</td>\n",
       "      <td>...</td>\n",
       "      <td>...</td>\n",
       "      <td>...</td>\n",
       "      <td>...</td>\n",
       "      <td>...</td>\n",
       "      <td>...</td>\n",
       "      <td>...</td>\n",
       "    </tr>\n",
       "    <tr>\n",
       "      <th>8107</th>\n",
       "      <td>2023-05-17 15:30:00</td>\n",
       "      <td>MO Cheng Brutsaert andreas lengths Tsurf_rad_d...</td>\n",
       "      <td>NaN</td>\n",
       "      <td>NaN</td>\n",
       "      <td>NaN</td>\n",
       "      <td>NaN</td>\n",
       "      <td>NaN</td>\n",
       "      <td>andreas</td>\n",
       "      <td>0.00500</td>\n",
       "      <td>alduchov</td>\n",
       "      <td>Tsurf_rad_d</td>\n",
       "      <td>MO Cheng Brutsaert</td>\n",
       "    </tr>\n",
       "    <tr>\n",
       "      <th>8108</th>\n",
       "      <td>2023-05-17 16:00:00</td>\n",
       "      <td>MO Cheng Brutsaert andreas lengths Tsurf_rad_d...</td>\n",
       "      <td>NaN</td>\n",
       "      <td>NaN</td>\n",
       "      <td>NaN</td>\n",
       "      <td>NaN</td>\n",
       "      <td>NaN</td>\n",
       "      <td>andreas</td>\n",
       "      <td>0.00500</td>\n",
       "      <td>alduchov</td>\n",
       "      <td>Tsurf_rad_d</td>\n",
       "      <td>MO Cheng Brutsaert</td>\n",
       "    </tr>\n",
       "    <tr>\n",
       "      <th>8109</th>\n",
       "      <td>2023-05-17 16:30:00</td>\n",
       "      <td>MO Cheng Brutsaert andreas lengths Tsurf_rad_d...</td>\n",
       "      <td>NaN</td>\n",
       "      <td>NaN</td>\n",
       "      <td>NaN</td>\n",
       "      <td>NaN</td>\n",
       "      <td>NaN</td>\n",
       "      <td>andreas</td>\n",
       "      <td>0.00500</td>\n",
       "      <td>alduchov</td>\n",
       "      <td>Tsurf_rad_d</td>\n",
       "      <td>MO Cheng Brutsaert</td>\n",
       "    </tr>\n",
       "    <tr>\n",
       "      <th>8110</th>\n",
       "      <td>2023-05-17 17:00:00</td>\n",
       "      <td>MO Cheng Brutsaert andreas lengths Tsurf_rad_d...</td>\n",
       "      <td>NaN</td>\n",
       "      <td>NaN</td>\n",
       "      <td>NaN</td>\n",
       "      <td>NaN</td>\n",
       "      <td>NaN</td>\n",
       "      <td>andreas</td>\n",
       "      <td>0.00500</td>\n",
       "      <td>alduchov</td>\n",
       "      <td>Tsurf_rad_d</td>\n",
       "      <td>MO Cheng Brutsaert</td>\n",
       "    </tr>\n",
       "    <tr>\n",
       "      <th>8111</th>\n",
       "      <td>2023-05-17 17:30:00</td>\n",
       "      <td>MO Cheng Brutsaert andreas lengths Tsurf_rad_d...</td>\n",
       "      <td>NaN</td>\n",
       "      <td>NaN</td>\n",
       "      <td>NaN</td>\n",
       "      <td>NaN</td>\n",
       "      <td>NaN</td>\n",
       "      <td>andreas</td>\n",
       "      <td>0.00500</td>\n",
       "      <td>alduchov</td>\n",
       "      <td>Tsurf_rad_d</td>\n",
       "      <td>MO Cheng Brutsaert</td>\n",
       "    </tr>\n",
       "  </tbody>\n",
       "</table>\n",
       "<p>3504384 rows × 12 columns</p>\n",
       "</div>"
      ],
      "text/plain": [
       "                    time                                             config  \\\n",
       "0    2022-11-29 17:00:00                 Standard Tsurf_c e_sat_metpy 1e-05   \n",
       "1    2022-11-29 17:30:00                 Standard Tsurf_c e_sat_metpy 1e-05   \n",
       "2    2022-11-29 18:00:00                 Standard Tsurf_c e_sat_metpy 1e-05   \n",
       "3    2022-11-29 18:30:00                 Standard Tsurf_c e_sat_metpy 1e-05   \n",
       "4    2022-11-29 19:00:00                 Standard Tsurf_c e_sat_metpy 1e-05   \n",
       "...                  ...                                                ...   \n",
       "8107 2023-05-17 15:30:00  MO Cheng Brutsaert andreas lengths Tsurf_rad_d...   \n",
       "8108 2023-05-17 16:00:00  MO Cheng Brutsaert andreas lengths Tsurf_rad_d...   \n",
       "8109 2023-05-17 16:30:00  MO Cheng Brutsaert andreas lengths Tsurf_rad_d...   \n",
       "8110 2023-05-17 17:00:00  MO Cheng Brutsaert andreas lengths Tsurf_rad_d...   \n",
       "8111 2023-05-17 17:30:00  MO Cheng Brutsaert andreas lengths Tsurf_rad_d...   \n",
       "\n",
       "      latent heat flux  sensible heat flux  zeta  latent heat conductance  \\\n",
       "0             0.003384            0.002263   NaN                 0.003490   \n",
       "1             0.005943            0.000919   NaN                 0.004690   \n",
       "2             0.004470           -0.001354   NaN                 0.003773   \n",
       "3             0.001274           -0.001298   NaN                 0.001657   \n",
       "4             0.000506           -0.000939   NaN                 0.001040   \n",
       "...                ...                 ...   ...                      ...   \n",
       "8107               NaN                 NaN   NaN                      NaN   \n",
       "8108               NaN                 NaN   NaN                      NaN   \n",
       "8109               NaN                 NaN   NaN                      NaN   \n",
       "8110               NaN                 NaN   NaN                      NaN   \n",
       "8111               NaN                 NaN   NaN                      NaN   \n",
       "\n",
       "      sensible heat conductance   scheme       z0 e_sat_curve  \\\n",
       "0                      0.003490     yang  0.00001       metpy   \n",
       "1                      0.004690     yang  0.00001       metpy   \n",
       "2                      0.003773     yang  0.00001       metpy   \n",
       "3                      0.001657     yang  0.00001       metpy   \n",
       "4                      0.001040     yang  0.00001       metpy   \n",
       "...                         ...      ...      ...         ...   \n",
       "8107                        NaN  andreas  0.00500    alduchov   \n",
       "8108                        NaN  andreas  0.00500    alduchov   \n",
       "8109                        NaN  andreas  0.00500    alduchov   \n",
       "8110                        NaN  andreas  0.00500    alduchov   \n",
       "8111                        NaN  andreas  0.00500    alduchov   \n",
       "\n",
       "     surface_measurement         most_config  \n",
       "0                Tsurf_c            Standard  \n",
       "1                Tsurf_c            Standard  \n",
       "2                Tsurf_c            Standard  \n",
       "3                Tsurf_c            Standard  \n",
       "4                Tsurf_c            Standard  \n",
       "...                  ...                 ...  \n",
       "8107         Tsurf_rad_d  MO Cheng Brutsaert  \n",
       "8108         Tsurf_rad_d  MO Cheng Brutsaert  \n",
       "8109         Tsurf_rad_d  MO Cheng Brutsaert  \n",
       "8110         Tsurf_rad_d  MO Cheng Brutsaert  \n",
       "8111         Tsurf_rad_d  MO Cheng Brutsaert  \n",
       "\n",
       "[3504384 rows x 12 columns]"
      ]
     },
     "execution_count": 72,
     "metadata": {},
     "output_type": "execute_result"
    }
   ],
   "source": [
    "src"
   ]
  },
  {
   "cell_type": "code",
   "execution_count": 83,
   "metadata": {},
   "outputs": [
    {
     "data": {
      "application/vnd.vegalite.v5+json": {
       "$schema": "https://vega.github.io/schema/vega-lite/v5.8.0.json",
       "config": {
        "view": {
         "continuousHeight": 300,
         "continuousWidth": 300
        }
       },
       "layer": [
        {
         "data": {
          "format": {
           "type": "json"
          },
          "url": "altair-data-c01f0395eafc6be54df51d64b3686ed4.json"
         },
         "encoding": {
          "color": {
           "field": "z0",
           "type": "nominal"
          },
          "x": {
           "field": "time",
           "type": "temporal"
          },
          "y": {
           "field": "latent heat flux",
           "type": "quantitative"
          }
         },
         "mark": {
          "type": "line"
         }
        },
        {
         "data": {
          "format": {
           "type": "json"
          },
          "url": "altair-data-e3018b0e52f6cea4b44885c43c603a44.json"
         },
         "encoding": {
          "x": {
           "field": "time",
           "type": "temporal"
          },
          "y": {
           "field": "value",
           "type": "quantitative"
          }
         },
         "mark": {
          "color": "black",
          "opacity": 0.5,
          "size": 10,
          "type": "point"
         }
        }
       ],
       "width": 600
      },
      "text/plain": [
       "<VegaLite 5 object>\n",
       "\n",
       "If you see this message, it means the renderer has not been properly enabled\n",
       "for the frontend that you are using. For more information, see\n",
       "https://altair-viz.github.io/user_guide/display_frontends.html#troubleshooting\n"
      ]
     },
     "metadata": {
      "application/vnd.vegalite.v5+json": {
       "embed_options": {
        "renderer": "svg"
       }
      }
     },
     "output_type": "display_data"
    }
   ],
   "source": [
    "src = model_df.query(\"most_config == 'MO Webb NoahMP'\").query(\"surface_measurement == 'Tsurf_c'\").query(\"scheme == 'andreas'\").query(\"e_sat_curve == 'alduchov'\")\n",
    "src = src[(src.time > \"2023-02-01\") & (src.time < \"2023-02-08\")]\n",
    "\n",
    "meas_src = measured_data[(measured_data.time > \"2023-02-01\") & (measured_data.time < \"2023-02-08\")]\n",
    "(\n",
    "alt.Chart(src).mark_line().encode(\n",
    "    alt.X(\"time:T\"),\n",
    "    alt.Y(\"latent heat flux:Q\"),\n",
    "    alt.Color(\"z0:N\")\n",
    ").properties(width = 600) + \\\n",
    "alt.Chart(meas_src).mark_point(size=10, color='black', opacity=0.5).encode(\n",
    "    alt.X(\"time:T\"),\n",
    "    alt.Y(\"value:Q\")\n",
    ")).display(renderer='svg')"
   ]
  },
  {
   "cell_type": "code",
   "execution_count": 54,
   "metadata": {},
   "outputs": [
    {
     "data": {
      "text/plain": [
       "(-0.005, 0.03)"
      ]
     },
     "execution_count": 54,
     "metadata": {},
     "output_type": "execute_result"
    },
    {
     "data": {
      "image/png": "[encoded data removed]",
      "text/plain": [
       "<Figure size 600x600 with 1 Axes>"
      ]
     },
     "metadata": {},
     "output_type": "display_data"
    }
   ],
   "source": [
    "xxx = meas_src.set_index(\"time\")[['value']].merge(src.set_index(\"time\")[['latent heat flux']], on='time')\n",
    "plt.figure(figsize=(6,6))\n",
    "plt.scatter(xxx['value'], xxx['latent heat flux'], s=5, alpha=0.5)\n",
    "plt.xlim(-0.005, 0.03)\n",
    "plt.ylim(-0.005, 0.03)"
   ]
  },
  {
   "cell_type": "code",
   "execution_count": 55,
   "metadata": {},
   "outputs": [
    {
     "data": {
      "application/vnd.vegalite.v5+json": {
       "$schema": "https://vega.github.io/schema/vega-lite/v5.8.0.json",
       "config": {
        "legend": {
         "orient": "top"
        },
        "view": {
         "continuousHeight": 300,
         "continuousWidth": 300
        }
       },
       "data": {
        "format": {
         "type": "json"
        },
        "url": "altair-data-fef2476209c3805c47dd858d601003ba.json"
       },
       "encoding": {
        "color": {
         "field": "key",
         "title": "Surface temp. sensor",
         "type": "nominal"
        },
        "x": {
         "field": "time",
         "type": "temporal"
        },
        "y": {
         "field": "value",
         "title": "Surface Temperature (˚C)",
         "type": "quantitative"
        }
       },
       "height": 300,
       "mark": {
        "type": "line"
       },
       "title": "Surface temperature measurements February 1 - 7, 2023",
       "transform": [
        {
         "fold": [
          "Tsurf_c",
          "Tsurf_d",
          "Tsurf_ue",
          "Tsurf_uw",
          "Tsurf_rad_d"
         ]
        }
       ],
       "width": 600
      },
      "text/plain": [
       "<VegaLite 5 object>\n",
       "\n",
       "If you see this message, it means the renderer has not been properly enabled\n",
       "for the frontend that you are using. For more information, see\n",
       "https://altair-viz.github.io/user_guide/display_frontends.html#troubleshooting\n"
      ]
     },
     "metadata": {
      "application/vnd.vegalite.v5+json": {
       "embed_options": {
        "renderer": "svg"
       }
      }
     },
     "output_type": "display_data"
    }
   ],
   "source": [
    "src = wide_df[(wide_df.time > \"2023-02-01\") & (wide_df.time < \"2023-02-08\")][[\n",
    "    'time',\n",
    "    'Tsurf_c',\n",
    "    'Tsurf_d',\n",
    "    'Tsurf_ue',\n",
    "    'Tsurf_uw',\n",
    "    # 'Tsurfplanck_c',\n",
    "    # 'Tsurfplanck_d',\n",
    "    'Tsurf_rad_d'\n",
    "]]\n",
    "alt.Chart(src).mark_line().transform_fold([\n",
    "    'Tsurf_c',\n",
    "    'Tsurf_d',\n",
    "    'Tsurf_ue',\n",
    "    'Tsurf_uw',\n",
    "    # 'Tsurfplanck_c',\n",
    "    # 'Tsurfplanck_d',\n",
    "    'Tsurf_rad_d'\n",
    "]).encode(\n",
    "    alt.X(\"time:T\"),\n",
    "    alt.Y(\"value:Q\").title(\"Surface Temperature (˚C)\"),\n",
    "    alt.Color(\"key:N\").title(\"Surface temp. sensor\")\n",
    ").properties(\n",
    "    width = 600, \n",
    "    height = 300,\n",
    "    title = 'Surface temperature measurements February 1 - 7, 2023'\n",
    ").configure_legend(orient = 'top').display(renderer = 'svg')"
   ]
  },
  {
   "cell_type": "code",
   "execution_count": 56,
   "metadata": {},
   "outputs": [
    {
     "data": {
      "application/vnd.vegalite.v5+json": {
       "$schema": "https://vega.github.io/schema/vega-lite/v5.8.0.json",
       "config": {
        "legend": {
         "orient": "top"
        },
        "view": {
         "continuousHeight": 300,
         "continuousWidth": 300
        }
       },
       "layer": [
        {
         "data": {
          "format": {
           "type": "json"
          },
          "url": "altair-data-744d87dea06b6703fb634d766568b9ba.json"
         },
         "encoding": {
          "x": {
           "field": "time",
           "type": "temporal"
          },
          "y": {
           "field": "value",
           "title": "Surface Temperature (˚C)",
           "type": "quantitative"
          }
         },
         "mark": {
          "opacity": 1,
          "type": "errorband"
         }
        },
        {
         "data": {
          "format": {
           "type": "json"
          },
          "url": "altair-data-4175133a4813c50deca6532028ecc211.json"
         },
         "encoding": {
          "x": {
           "field": "time",
           "type": "temporal"
          },
          "y": {
           "field": "value",
           "title": "Surface Temperature (˚C)",
           "type": "quantitative"
          }
         },
         "mark": {
          "color": "#ff7f0e",
          "opacity": 0.65,
          "type": "line"
         }
        }
       ],
       "title": "Surface temperature measurements February 1 - 7, 2023",
       "width": 600
      },
      "text/plain": [
       "<VegaLite 5 object>\n",
       "\n",
       "If you see this message, it means the renderer has not been properly enabled\n",
       "for the frontend that you are using. For more information, see\n",
       "https://altair-viz.github.io/user_guide/display_frontends.html#troubleshooting\n"
      ]
     },
     "metadata": {
      "application/vnd.vegalite.v5+json": {
       "embed_options": {
        "renderer": "svg"
       }
      }
     },
     "output_type": "display_data"
    }
   ],
   "source": [
    "src = wide_df[(wide_df.time > \"2023-02-01\") & (wide_df.time < \"2023-02-08\")][[\n",
    "    'time',\n",
    "    'Tsurf_c',\n",
    "    'Tsurf_d',\n",
    "    'Tsurf_ue',\n",
    "    'Tsurf_uw',\n",
    "    # 'Tsurfplanck_c',\n",
    "    # 'Tsurfplanck_d',\n",
    "    'Tsurf_rad_d'\n",
    "]]\n",
    "src = src.melt(id_vars=['time'])\n",
    "src['instrument'] = src['variable'].apply(lambda v: 'LW radiometer' if 'rad' in v else 'Pyrgeometer')\n",
    "\n",
    "(alt.Chart(src.query(\"instrument == 'Pyrgeometer'\")).mark_errorband(opacity = 1.0).encode(\n",
    "    alt.X(\"time:T\"),\n",
    "    alt.Y(\"value:Q\").title(\"Surface Temperature (˚C)\")\n",
    ").properties(width = 600) + \\\n",
    "alt.Chart(src.query(\"instrument == 'LW radiometer'\")).mark_line(opacity = 0.65, color='#ff7f0e').encode(\n",
    "    alt.X(\"time:T\"),\n",
    "    alt.Y(\"value:Q\").title(\"Surface Temperature (˚C)\")\n",
    ")).properties(\n",
    "    width = 600, \n",
    "    title = 'Surface temperature measurements February 1 - 7, 2023'\n",
    ").configure_legend(orient = 'top').display(renderer = 'svg')"
   ]
  },
  {
   "cell_type": "code",
   "execution_count": 57,
   "metadata": {},
   "outputs": [
    {
     "data": {
      "application/vnd.vegalite.v5+json": {
       "$schema": "https://vega.github.io/schema/vega-lite/v5.8.0.json",
       "config": {
        "legend": {
         "orient": "top"
        },
        "view": {
         "continuousHeight": 300,
         "continuousWidth": 300
        }
       },
       "data": {
        "format": {
         "type": "json"
        },
        "url": "altair-data-8ffa4146c7a1696fbb2784129165fb4f.json"
       },
       "encoding": {
        "color": {
         "field": "key",
         "title": "Surface temp. sensor",
         "type": "nominal"
        },
        "x": {
         "field": "time",
         "type": "temporal"
        },
        "y": {
         "field": "value",
         "title": "Surface Temperature (˚C)",
         "type": "quantitative"
        }
       },
       "height": 400,
       "mark": {
        "type": "line"
       },
       "title": "Surface temperature measurements, Winter 2022-2023",
       "transform": [
        {
         "fold": [
          "Tsurf_c",
          "Tsurf_d",
          "Tsurf_ue",
          "Tsurf_uw",
          "Tsurf_rad_d"
         ]
        }
       ],
       "width": 800
      },
      "text/plain": [
       "<VegaLite 5 object>\n",
       "\n",
       "If you see this message, it means the renderer has not been properly enabled\n",
       "for the frontend that you are using. For more information, see\n",
       "https://altair-viz.github.io/user_guide/display_frontends.html#troubleshooting\n"
      ]
     },
     "metadata": {
      "application/vnd.vegalite.v5+json": {
       "embed_options": {
        "renderer": "svg"
       }
      }
     },
     "output_type": "display_data"
    }
   ],
   "source": [
    "src = wide_df[[\n",
    "    'time',\n",
    "    'Tsurf_c',\n",
    "    'Tsurf_d',\n",
    "    'Tsurf_ue',\n",
    "    'Tsurf_uw',\n",
    "    # 'Tsurfplanck_c',\n",
    "    # 'Tsurfplanck_d',\n",
    "    'Tsurf_rad_d'\n",
    "]]\n",
    "alt.Chart(src).mark_line().transform_fold([\n",
    "    'Tsurf_c',\n",
    "    'Tsurf_d',\n",
    "    'Tsurf_ue',\n",
    "    'Tsurf_uw',\n",
    "    # 'Tsurfplanck_c',\n",
    "    # 'Tsurfplanck_d',\n",
    "    'Tsurf_rad_d'\n",
    "]).encode(\n",
    "    alt.X(\"time:T\"),\n",
    "    alt.Y(\"value:Q\").title(\"Surface Temperature (˚C)\"),\n",
    "    alt.Color(\"key:N\").title(\"Surface temp. sensor\")\n",
    ").properties(\n",
    "    width = 800, \n",
    "    height = 400,\n",
    "    title = 'Surface temperature measurements, Winter 2022-2023'\n",
    ").configure_legend(orient = 'top').display(renderer = 'svg')"
   ]
  },
  {
   "cell_type": "code",
   "execution_count": null,
   "metadata": {},
   "outputs": [],
   "source": []
  },
  {
   "cell_type": "code",
   "execution_count": null,
   "metadata": {},
   "outputs": [],
   "source": []
  }
 ],
 "metadata": {
  "kernelspec": {
   "display_name": "arm",
   "language": "python",
   "name": "python3"
  },
  "language_info": {
   "codemirror_mode": {
    "name": "ipython",
    "version": 3
   },
   "file_extension": ".py",
   "mimetype": "text/x-python",
   "name": "python",
   "nbconvert_exporter": "python",
   "pygments_lexer": "ipython3",
   "version": "3.11.0"
  },
  "orig_nbformat": 4
 },
 "nbformat": 4,
 "nbformat_minor": 2
}
