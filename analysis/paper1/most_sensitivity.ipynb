{
 "cells": [
  {
   "cell_type": "markdown",
   "metadata": {},
   "source": [
    "In this notebook we run TurbPy and examine the sensivity of TurbPy's MOST solutions to:\n",
    "1. the saturation vapor pressure curve used to calculate surface water vapor pressure from surface temperature measurement\n",
    "2. choice of surface temperature measusrement (including estimating surface temperature as 2/3-meter surface temperature)\n",
    "\n",
    "See `sat_vapor_pressure_curve.ipynb`, the analysis which preceded this, `create_turbulence_dataset.ipynb`, where we create one of the datasets we use here, and `most_sensitivity.py`, where we create the model results dataset we use here."
   ]
  },
  {
   "cell_type": "code",
   "execution_count": 1,
   "metadata": {},
   "outputs": [
    {
     "data": {
      "text/plain": [
       "RendererRegistry.enable('jupyterlab')"
      ]
     },
     "execution_count": 1,
     "metadata": {},
     "output_type": "execute_result"
    }
   ],
   "source": [
    "import os\n",
    "\n",
    "import numpy as np\n",
    "import pandas as pd\n",
    "\n",
    "from sublimpy import tidy\n",
    "\n",
    "import altair as alt\n",
    "alt.data_transformers.enable('json')\n",
    "alt.renderers.enable('jupyterlab')"
   ]
  },
  {
   "cell_type": "markdown",
   "metadata": {},
   "source": [
    "# Prerequisite files"
   ]
  },
  {
   "cell_type": "markdown",
   "metadata": {},
   "source": [
    "\n",
    "* use script `analysis/sail/lidar_wind_profile_synoptic_wind_coherence.py` to download synoptic wind data\n",
    "* use `cumulative_sublimation.ipynb` to create daily dataset\n",
    "* use `analysis/sos/create_turbulence_dataset.ipynb` to create SoS tidy dataset and the (disdrometer) precip data"
   ]
  },
  {
   "cell_type": "code",
   "execution_count": 2,
   "metadata": {},
   "outputs": [],
   "source": [
    "# Inputs\n",
    "start_date = '20221130'\n",
    "end_date = '20230517'\n",
    "met_gothic = 'gucmetM1.b1'\n",
    "tsi_sail_code = 'guctsiskycoverM1.b1'\n",
    "data_dir = '/data2/elilouis/sublimationofsnow'\n",
    "username = os.getenv(\"ARM_USERNAME\")\n",
    "token = os.getenv(\"ARM_TOKEN\")"
   ]
  },
  {
   "cell_type": "markdown",
   "metadata": {},
   "source": [
    "# Open Data "
   ]
  },
  {
   "cell_type": "markdown",
   "metadata": {},
   "source": [
    "## Measurements"
   ]
  },
  {
   "cell_type": "code",
   "execution_count": 3,
   "metadata": {},
   "outputs": [],
   "source": [
    "try:\n",
    "    tidy_df_30Min = pd.read_parquet(f\"../sos/tidy_df_30Min_{start_date}_{end_date}_noplanar_fit.parquet\")\n",
    "except FileNotFoundError:\n",
    "    print(\"No file such file exists for these dates.\")\n",
    "\n",
    "try:\n",
    "    tidy_df_5Min = pd.read_parquet(f\"../sos/tidy_df_{start_date}_{end_date}_noplanar_fit.parquet\")\n",
    "except FileNotFoundError:\n",
    "    print(\"No file such file exists for these dates.\")\n",
    "    \n",
    "tidy_df_5Min['time'] = pd.to_datetime(tidy_df_5Min['time'])\n",
    "tidy_df_30Min['time'] = pd.to_datetime(tidy_df_30Min['time'])\n"
   ]
  },
  {
   "cell_type": "markdown",
   "metadata": {},
   "source": [
    "## Model results"
   ]
  },
  {
   "cell_type": "code",
   "execution_count": 4,
   "metadata": {},
   "outputs": [
    {
     "data": {
      "text/html": [
       "<div>\n",
       "<style scoped>\n",
       "    .dataframe tbody tr th:only-of-type {\n",
       "        vertical-align: middle;\n",
       "    }\n",
       "\n",
       "    .dataframe tbody tr th {\n",
       "        vertical-align: top;\n",
       "    }\n",
       "\n",
       "    .dataframe thead th {\n",
       "        text-align: right;\n",
       "    }\n",
       "</style>\n",
       "<table border=\"1\" class=\"dataframe\">\n",
       "  <thead>\n",
       "    <tr style=\"text-align: right;\">\n",
       "      <th></th>\n",
       "      <th>time</th>\n",
       "      <th>config</th>\n",
       "      <th>latent heat flux</th>\n",
       "      <th>sensible heat flux</th>\n",
       "      <th>zeta</th>\n",
       "      <th>scheme</th>\n",
       "      <th>z0</th>\n",
       "      <th>e_sat_curve</th>\n",
       "      <th>surface_measurement</th>\n",
       "      <th>most_config</th>\n",
       "    </tr>\n",
       "  </thead>\n",
       "  <tbody>\n",
       "    <tr>\n",
       "      <th>0</th>\n",
       "      <td>2022-11-29 17:00:00</td>\n",
       "      <td>MO Marks Dozier Tsurf_c e_sat_metpy 0.0001</td>\n",
       "      <td>0.002185</td>\n",
       "      <td>-0.020580</td>\n",
       "      <td>0.362784</td>\n",
       "      <td>yang</td>\n",
       "      <td>0.0001</td>\n",
       "      <td>metpy</td>\n",
       "      <td>Tsurf_c</td>\n",
       "      <td>MO Marks Dozier</td>\n",
       "    </tr>\n",
       "    <tr>\n",
       "      <th>1</th>\n",
       "      <td>2022-11-29 17:30:00</td>\n",
       "      <td>MO Marks Dozier Tsurf_c e_sat_metpy 0.0001</td>\n",
       "      <td>0.005578</td>\n",
       "      <td>-0.034212</td>\n",
       "      <td>0.187948</td>\n",
       "      <td>yang</td>\n",
       "      <td>0.0001</td>\n",
       "      <td>metpy</td>\n",
       "      <td>Tsurf_c</td>\n",
       "      <td>MO Marks Dozier</td>\n",
       "    </tr>\n",
       "    <tr>\n",
       "      <th>2</th>\n",
       "      <td>2022-11-29 18:00:00</td>\n",
       "      <td>MO Marks Dozier Tsurf_c e_sat_metpy 0.0001</td>\n",
       "      <td>0.003796</td>\n",
       "      <td>-0.028022</td>\n",
       "      <td>0.341158</td>\n",
       "      <td>yang</td>\n",
       "      <td>0.0001</td>\n",
       "      <td>metpy</td>\n",
       "      <td>Tsurf_c</td>\n",
       "      <td>MO Marks Dozier</td>\n",
       "    </tr>\n",
       "    <tr>\n",
       "      <th>3</th>\n",
       "      <td>2022-11-29 18:30:00</td>\n",
       "      <td>MO Marks Dozier Tsurf_c e_sat_metpy 0.0001</td>\n",
       "      <td>0.000614</td>\n",
       "      <td>-0.009583</td>\n",
       "      <td>2.172267</td>\n",
       "      <td>yang</td>\n",
       "      <td>0.0001</td>\n",
       "      <td>metpy</td>\n",
       "      <td>Tsurf_c</td>\n",
       "      <td>MO Marks Dozier</td>\n",
       "    </tr>\n",
       "    <tr>\n",
       "      <th>4</th>\n",
       "      <td>2022-11-29 19:00:00</td>\n",
       "      <td>MO Marks Dozier Tsurf_c e_sat_metpy 0.0001</td>\n",
       "      <td>0.000159</td>\n",
       "      <td>-0.007379</td>\n",
       "      <td>4.312427</td>\n",
       "      <td>yang</td>\n",
       "      <td>0.0001</td>\n",
       "      <td>metpy</td>\n",
       "      <td>Tsurf_c</td>\n",
       "      <td>MO Marks Dozier</td>\n",
       "    </tr>\n",
       "  </tbody>\n",
       "</table>\n",
       "</div>"
      ],
      "text/plain": [
       "                 time                                      config  \\\n",
       "0 2022-11-29 17:00:00  MO Marks Dozier Tsurf_c e_sat_metpy 0.0001   \n",
       "1 2022-11-29 17:30:00  MO Marks Dozier Tsurf_c e_sat_metpy 0.0001   \n",
       "2 2022-11-29 18:00:00  MO Marks Dozier Tsurf_c e_sat_metpy 0.0001   \n",
       "3 2022-11-29 18:30:00  MO Marks Dozier Tsurf_c e_sat_metpy 0.0001   \n",
       "4 2022-11-29 19:00:00  MO Marks Dozier Tsurf_c e_sat_metpy 0.0001   \n",
       "\n",
       "   latent heat flux  sensible heat flux      zeta scheme      z0 e_sat_curve  \\\n",
       "0          0.002185           -0.020580  0.362784   yang  0.0001       metpy   \n",
       "1          0.005578           -0.034212  0.187948   yang  0.0001       metpy   \n",
       "2          0.003796           -0.028022  0.341158   yang  0.0001       metpy   \n",
       "3          0.000614           -0.009583  2.172267   yang  0.0001       metpy   \n",
       "4          0.000159           -0.007379  4.312427   yang  0.0001       metpy   \n",
       "\n",
       "  surface_measurement      most_config  \n",
       "0             Tsurf_c  MO Marks Dozier  \n",
       "1             Tsurf_c  MO Marks Dozier  \n",
       "2             Tsurf_c  MO Marks Dozier  \n",
       "3             Tsurf_c  MO Marks Dozier  \n",
       "4             Tsurf_c  MO Marks Dozier  "
      ]
     },
     "execution_count": 4,
     "metadata": {},
     "output_type": "execute_result"
    }
   ],
   "source": [
    "model_df = pd.read_parquet(\"model_results.parquet\")\n",
    "model_df['scheme'] = model_df['config'].apply(\n",
    "    lambda v: 'andreas' if 'andreas lengths' in v else 'yang'\n",
    ")\n",
    "model_df['z0'] = model_df['config'].apply(\n",
    "    lambda v: float(v.split(' ')[-1])\n",
    ")\n",
    "\n",
    "model_df['e_sat_curve'] = model_df['config'].apply(\n",
    "    lambda v: 'metpy' if 'metpy' in v else 'alduchov'\n",
    ")\n",
    "\n",
    "model_df['surface_measurement'] = model_df['config'].apply(\n",
    "    lambda v: v.split(' ')[-3]\n",
    ")\n",
    "\n",
    "model_df['most_config'] = model_df['config'].apply(lambda s: ' '.join(s.split(' ')[:-3]))\n",
    "\n",
    "model_df.head()"
   ]
  },
  {
   "cell_type": "code",
   "execution_count": 5,
   "metadata": {},
   "outputs": [
    {
     "data": {
      "text/html": [
       "<div>\n",
       "<style scoped>\n",
       "    .dataframe tbody tr th:only-of-type {\n",
       "        vertical-align: middle;\n",
       "    }\n",
       "\n",
       "    .dataframe tbody tr th {\n",
       "        vertical-align: top;\n",
       "    }\n",
       "\n",
       "    .dataframe thead th {\n",
       "        text-align: right;\n",
       "    }\n",
       "</style>\n",
       "<table border=\"1\" class=\"dataframe\">\n",
       "  <thead>\n",
       "    <tr style=\"text-align: right;\">\n",
       "      <th></th>\n",
       "      <th>measurement</th>\n",
       "      <th>variable</th>\n",
       "      <th>height</th>\n",
       "      <th>tower</th>\n",
       "      <th>time</th>\n",
       "      <th>value</th>\n",
       "    </tr>\n",
       "  </thead>\n",
       "  <tbody>\n",
       "    <tr>\n",
       "      <th>3748668</th>\n",
       "      <td>w_h2o_</td>\n",
       "      <td>w_h2o__3m_c</td>\n",
       "      <td>3.0</td>\n",
       "      <td>c</td>\n",
       "      <td>2022-11-29 17:00:00</td>\n",
       "      <td>0.001584</td>\n",
       "    </tr>\n",
       "    <tr>\n",
       "      <th>3748669</th>\n",
       "      <td>w_h2o_</td>\n",
       "      <td>w_h2o__3m_c</td>\n",
       "      <td>3.0</td>\n",
       "      <td>c</td>\n",
       "      <td>2022-11-29 17:30:00</td>\n",
       "      <td>0.001530</td>\n",
       "    </tr>\n",
       "    <tr>\n",
       "      <th>3748670</th>\n",
       "      <td>w_h2o_</td>\n",
       "      <td>w_h2o__3m_c</td>\n",
       "      <td>3.0</td>\n",
       "      <td>c</td>\n",
       "      <td>2022-11-29 18:00:00</td>\n",
       "      <td>-0.000297</td>\n",
       "    </tr>\n",
       "    <tr>\n",
       "      <th>3748671</th>\n",
       "      <td>w_h2o_</td>\n",
       "      <td>w_h2o__3m_c</td>\n",
       "      <td>3.0</td>\n",
       "      <td>c</td>\n",
       "      <td>2022-11-29 18:30:00</td>\n",
       "      <td>0.000404</td>\n",
       "    </tr>\n",
       "    <tr>\n",
       "      <th>3748672</th>\n",
       "      <td>w_h2o_</td>\n",
       "      <td>w_h2o__3m_c</td>\n",
       "      <td>3.0</td>\n",
       "      <td>c</td>\n",
       "      <td>2022-11-29 19:00:00</td>\n",
       "      <td>-0.000359</td>\n",
       "    </tr>\n",
       "    <tr>\n",
       "      <th>...</th>\n",
       "      <td>...</td>\n",
       "      <td>...</td>\n",
       "      <td>...</td>\n",
       "      <td>...</td>\n",
       "      <td>...</td>\n",
       "      <td>...</td>\n",
       "    </tr>\n",
       "    <tr>\n",
       "      <th>3756777</th>\n",
       "      <td>w_h2o_</td>\n",
       "      <td>w_h2o__3m_c</td>\n",
       "      <td>3.0</td>\n",
       "      <td>c</td>\n",
       "      <td>2023-05-17 15:30:00</td>\n",
       "      <td>0.033596</td>\n",
       "    </tr>\n",
       "    <tr>\n",
       "      <th>3756778</th>\n",
       "      <td>w_h2o_</td>\n",
       "      <td>w_h2o__3m_c</td>\n",
       "      <td>3.0</td>\n",
       "      <td>c</td>\n",
       "      <td>2023-05-17 16:00:00</td>\n",
       "      <td>0.029292</td>\n",
       "    </tr>\n",
       "    <tr>\n",
       "      <th>3756779</th>\n",
       "      <td>w_h2o_</td>\n",
       "      <td>w_h2o__3m_c</td>\n",
       "      <td>3.0</td>\n",
       "      <td>c</td>\n",
       "      <td>2023-05-17 16:30:00</td>\n",
       "      <td>0.025573</td>\n",
       "    </tr>\n",
       "    <tr>\n",
       "      <th>3756780</th>\n",
       "      <td>w_h2o_</td>\n",
       "      <td>w_h2o__3m_c</td>\n",
       "      <td>3.0</td>\n",
       "      <td>c</td>\n",
       "      <td>2023-05-17 17:00:00</td>\n",
       "      <td>0.025568</td>\n",
       "    </tr>\n",
       "    <tr>\n",
       "      <th>3756781</th>\n",
       "      <td>w_h2o_</td>\n",
       "      <td>w_h2o__3m_c</td>\n",
       "      <td>3.0</td>\n",
       "      <td>c</td>\n",
       "      <td>2023-05-17 17:30:00</td>\n",
       "      <td>0.031778</td>\n",
       "    </tr>\n",
       "  </tbody>\n",
       "</table>\n",
       "<p>8114 rows × 6 columns</p>\n",
       "</div>"
      ],
      "text/plain": [
       "        measurement     variable  height tower                time     value\n",
       "3748668      w_h2o_  w_h2o__3m_c     3.0     c 2022-11-29 17:00:00  0.001584\n",
       "3748669      w_h2o_  w_h2o__3m_c     3.0     c 2022-11-29 17:30:00  0.001530\n",
       "3748670      w_h2o_  w_h2o__3m_c     3.0     c 2022-11-29 18:00:00 -0.000297\n",
       "3748671      w_h2o_  w_h2o__3m_c     3.0     c 2022-11-29 18:30:00  0.000404\n",
       "3748672      w_h2o_  w_h2o__3m_c     3.0     c 2022-11-29 19:00:00 -0.000359\n",
       "...             ...          ...     ...   ...                 ...       ...\n",
       "3756777      w_h2o_  w_h2o__3m_c     3.0     c 2023-05-17 15:30:00  0.033596\n",
       "3756778      w_h2o_  w_h2o__3m_c     3.0     c 2023-05-17 16:00:00  0.029292\n",
       "3756779      w_h2o_  w_h2o__3m_c     3.0     c 2023-05-17 16:30:00  0.025573\n",
       "3756780      w_h2o_  w_h2o__3m_c     3.0     c 2023-05-17 17:00:00  0.025568\n",
       "3756781      w_h2o_  w_h2o__3m_c     3.0     c 2023-05-17 17:30:00  0.031778\n",
       "\n",
       "[8114 rows x 6 columns]"
      ]
     },
     "execution_count": 5,
     "metadata": {},
     "output_type": "execute_result"
    }
   ],
   "source": [
    "measured_data = tidy_df_30Min.query(\"variable == 'w_h2o__3m_c'\")\n",
    "measured_data"
   ]
  },
  {
   "cell_type": "markdown",
   "metadata": {},
   "source": [
    "# Calculate r^2 values for model runs"
   ]
  },
  {
   "cell_type": "code",
   "execution_count": 8,
   "metadata": {},
   "outputs": [],
   "source": [
    "no_blowing_snow_data = tidy_df_30Min[\n",
    "    tidy_df_30Min.variable.isin([\"SF_avg_1m_ue\", \"SF_avg_2m_ue\"])\n",
    "].query(\"value == 0\")\n",
    "\n",
    "negative_humidity_grad = tidy_df_30Min[\n",
    "    tidy_df_30Min.variable == 'q_gradient_3m_c'\n",
    "].query(\"value < 0\")\n",
    "\n",
    "times_no_bs_and_negative_q_grad = pd.merge(\n",
    "    no_blowing_snow_data[['time']],\n",
    "    negative_humidity_grad[['time']],\n",
    "    on = 'time',\n",
    "    how = 'inner'\n",
    ")['time']"
   ]
  },
  {
   "cell_type": "code",
   "execution_count": 9,
   "metadata": {},
   "outputs": [],
   "source": [
    "from sklearn.metrics import r2_score\n",
    "\n",
    "r2_dict = {}\n",
    "for config in model_df.config.unique():\n",
    "    this_config_data = model_df[model_df.config == config]\n",
    "    merged = measured_data[['time', 'value']].merge(this_config_data[['time', 'latent heat flux']], on='time').set_index(\"time\")\n",
    "    merged = merged[['value', 'latent heat flux']].dropna()\n",
    "    r2_dict[config] = r2_score(merged['value'], merged['latent heat flux'])\n",
    "\n",
    "r2_dict_limited_data = {}\n",
    "for config in model_df.config.unique():\n",
    "    this_config_data = model_df[model_df.config == config]\n",
    "    merged = measured_data[['time', 'value']].merge(this_config_data[['time', 'latent heat flux']], on='time').set_index(\"time\")\n",
    "    merged = merged[['value', 'latent heat flux']].dropna()\n",
    "    merged = merged.reset_index()[merged.reset_index()['time'].isin(times_no_bs_and_negative_q_grad)]\n",
    "    r2_dict_limited_data[config] = r2_score(merged['value'], merged['latent heat flux'])"
   ]
  },
  {
   "cell_type": "code",
   "execution_count": 84,
   "metadata": {},
   "outputs": [
    {
     "name": "stdout",
     "output_type": "stream",
     "text": [
      "-0.15240220081458178\n",
      "-10.09445458728142\n"
     ]
    }
   ],
   "source": [
    "print(r2_dict['MO Holtslag de Bruin Tsurf_c e_sat_alduchov 0.0001'])\n",
    "print(r2_dict_limited_data['MO Holtslag de Bruin Tsurf_c e_sat_alduchov 0.0001'])"
   ]
  },
  {
   "cell_type": "code",
   "execution_count": 9,
   "metadata": {},
   "outputs": [],
   "source": [
    "r2_df = pd.DataFrame({\n",
    "    'config': r2_dict.keys(),\n",
    "    'r2': r2_dict.values()\n",
    "})"
   ]
  },
  {
   "cell_type": "code",
   "execution_count": 105,
   "metadata": {},
   "outputs": [
    {
     "name": "stderr",
     "output_type": "stream",
     "text": [
      "/tmp/ipykernel_75526/3227485297.py:6: UserWarning: Boolean Series key will be reindexed to match DataFrame index.\n",
      "  merged = merged[merged.time > \"2022-12-01\"][merged.time < \"2023-05-12\"]\n"
     ]
    },
    {
     "data": {
      "text/plain": [
       "0.4991835235745409"
      ]
     },
     "execution_count": 105,
     "metadata": {},
     "output_type": "execute_result"
    }
   ],
   "source": [
    "config = 'MO Holtslag de Bruin Tsurf_c e_sat_alduchov 0.0001'\n",
    "this_config_data = model_df[model_df.config == config]\n",
    "merged = measured_data[['time', 'value']].merge(this_config_data[['time', 'latent heat flux']], on='time').set_index(\"time\")\n",
    "merged = merged[['value', 'latent heat flux']].dropna()\n",
    "merged = merged.reset_index()[merged.reset_index()['time'].isin(times_no_bs_and_negative_q_grad)]\n",
    "merged = merged[merged.time > \"2022-12-01\"][merged.time < \"2023-05-12\"]\n",
    "r2_score(\n",
    "    merged['value'],\n",
    "    merged['latent heat flux']\n",
    ")"
   ]
  },
  {
   "cell_type": "markdown",
   "metadata": {},
   "source": [
    "## Make a wide df form the measured data for convenience\n"
   ]
  },
  {
   "cell_type": "code",
   "execution_count": 6,
   "metadata": {},
   "outputs": [],
   "source": [
    "VARIABLES = [\n",
    "    ## Input Variables for Turbpy\n",
    "    'Tsurf_c',\n",
    "    'Tsurf_d',\n",
    "    'Tsurf_rad_d',\n",
    "    'P_10m_c',\n",
    "    ## Input variables for calculating dewpoint temperature\n",
    "    'T_3m_c',\n",
    "    'RH_3m_c',\n",
    "    ## Input Variables\n",
    "    'spd_3m_c',\n",
    "    'P_10m_c',\n",
    "    # 'Tpot_3m_c',\n",
    "    # 'Tsurfpot_c',\n",
    "    'airdensity_3m_c',\n",
    "    'mixingratio_3m_c',\n",
    "    'Tsurfmixingratio_c',\n",
    "    # 'T_3m_c',\n",
    "    ## Measurement Variables\n",
    "    'w_h2o__3m_c',\n",
    "    'u*_3m_c',\n",
    "    'Ri_3m_c',\n",
    "]\n",
    "\n",
    "# CREATE WIDE DATAFRAME\n",
    "wide_df = tidy_df_30Min[tidy_df_30Min.variable.isin(VARIABLES)].pivot_table(\n",
    "    values = 'value',\n",
    "    index = 'time',\n",
    "    columns='variable'\n",
    ").reset_index()"
   ]
  },
  {
   "cell_type": "markdown",
   "metadata": {},
   "source": [
    "# Look at seasonal cumulative sublimation from all the models"
   ]
  },
  {
   "cell_type": "code",
   "execution_count": 11,
   "metadata": {},
   "outputs": [],
   "source": [
    "src_cumsum = pd.DataFrame(model_df.sort_values(\"time\").set_index(\n",
    "    [\"time\", \"config\", \"scheme\", \"z0\", \"e_sat_curve\", \"surface_measurement\", \"most_config\"]\n",
    ").groupby([\"config\", \"scheme\", \"z0\", \"e_sat_curve\", \"surface_measurement\", \"most_config\"])['latent heat flux'].cumsum()).reset_index()\n",
    "src_cumsum_daily = pd.DataFrame(src_cumsum.set_index(\"time\").groupby(\n",
    "    ['config', \"scheme\", \"z0\", \"e_sat_curve\", \"surface_measurement\", \"most_config\", pd.Grouper(freq='1440Min')]\n",
    ")['latent heat flux'].max()).reset_index()"
   ]
  },
  {
   "cell_type": "code",
   "execution_count": 12,
   "metadata": {},
   "outputs": [],
   "source": [
    "from metpy.constants import density_water\n",
    "seconds_per_30min = 60*30\n",
    "src_cumsum_daily['latent heat flux (mm)'] = src_cumsum_daily['latent heat flux'].values * seconds_per_30min/density_water.magnitude"
   ]
  },
  {
   "cell_type": "code",
   "execution_count": 13,
   "metadata": {},
   "outputs": [],
   "source": [
    "tidy_df_30Min = tidy.tidy_df_add_variable(\n",
    "    tidy_df_30Min,\n",
    "    tidy_df_30Min.query(\"variable == 'w_h2o__3m_c'\").value.cumsum().values * seconds_per_30min/density_water.magnitude,\n",
    "    'w_h2o__cum_sub_mm_3m_c',\n",
    "    \"cumulative sublimation\",\n",
    "    3,\n",
    "    'c'\n",
    ")\n",
    "\n"
   ]
  },
  {
   "cell_type": "code",
   "execution_count": 14,
   "metadata": {},
   "outputs": [
    {
     "data": {
      "application/vnd.vegalite.v5+json": {
       "$schema": "https://vega.github.io/schema/vega-lite/v5.8.0.json",
       "config": {
        "view": {
         "continuousHeight": 300,
         "continuousWidth": 300
        }
       },
       "layer": [
        {
         "data": {
          "format": {
           "type": "json"
          },
          "url": "altair-data-cf431c1feca39e66bc1adfb1eb7ad96c.json"
         },
         "encoding": {
          "detail": {
           "field": "config",
           "type": "nominal"
          },
          "tooltip": {
           "field": "config",
           "type": "nominal"
          },
          "x": {
           "field": "time",
           "type": "temporal"
          },
          "y": {
           "field": "latent heat flux (mm)",
           "type": "quantitative"
          }
         },
         "mark": {
          "color": "grey",
          "opacity": 0.25,
          "strokeWidth": 0.5,
          "type": "line"
         }
        },
        {
         "data": {
          "format": {
           "type": "json"
          },
          "url": "altair-data-7e813b1c354be51a56dea20393fe5717.json"
         },
         "encoding": {
          "x": {
           "field": "time",
           "type": "temporal"
          },
          "y": {
           "field": "value",
           "type": "quantitative"
          }
         },
         "mark": {
          "type": "line"
         }
        }
       ]
      },
      "text/plain": [
       "<VegaLite 5 object>\n",
       "\n",
       "If you see this message, it means the renderer has not been properly enabled\n",
       "for the frontend that you are using. For more information, see\n",
       "https://altair-viz.github.io/user_guide/display_frontends.html#troubleshooting\n"
      ]
     },
     "execution_count": 14,
     "metadata": {},
     "output_type": "execute_result"
    }
   ],
   "source": [
    "src = src_cumsum_daily.query(\"surface_measurement != 'Tsurf_d'\")\n",
    "src = src.query(\"surface_measurement != 'Td_3m_c'\")\n",
    "src = src[src.time < \"2023-05-11\"]\n",
    "alt.Chart(src).mark_line(color='grey', opacity=0.25, strokeWidth=0.5).encode(\n",
    "    alt.X(\"time:T\"),\n",
    "    alt.Y(\"latent heat flux (mm):Q\"),\n",
    "    detail = \"config:N\",\n",
    "    tooltip = \"config:N\"\n",
    ") + \\\n",
    "alt.Chart(\n",
    "    tidy_df_30Min.query(\"variable == 'w_h2o__cum_sub_mm_3m_c'\").dropna().query(\n",
    "        \"time < '2023-05-11'\"\n",
    "    )\n",
    ").mark_line(\n",
    ").encode(\n",
    "    alt.X(\"time:T\"),\n",
    "    alt.Y(\"value:Q\")\n",
    ")\n"
   ]
  },
  {
   "cell_type": "code",
   "execution_count": 15,
   "metadata": {},
   "outputs": [
    {
     "data": {
      "text/plain": [
       "(128, 256)"
      ]
     },
     "execution_count": 15,
     "metadata": {},
     "output_type": "execute_result"
    }
   ],
   "source": [
    "len(src.config.unique()), len(src_cumsum_daily.config.unique())"
   ]
  },
  {
   "cell_type": "markdown",
   "metadata": {},
   "source": [
    "# Look at a time series of all the model results"
   ]
  },
  {
   "cell_type": "code",
   "execution_count": 16,
   "metadata": {},
   "outputs": [
    {
     "data": {
      "application/vnd.vegalite.v5+json": {
       "$schema": "https://vega.github.io/schema/vega-lite/v5.8.0.json",
       "config": {
        "view": {
         "continuousHeight": 300,
         "continuousWidth": 300
        }
       },
       "layer": [
        {
         "data": {
          "format": {
           "type": "json"
          },
          "url": "altair-data-7256a56afe651ac8501499e110f53428.json"
         },
         "encoding": {
          "color": {
           "field": "config",
           "type": "nominal"
          },
          "x": {
           "field": "time",
           "type": "temporal"
          },
          "y": {
           "field": "latent heat flux",
           "type": "quantitative"
          }
         },
         "mark": {
          "type": "line"
         }
        },
        {
         "data": {
          "format": {
           "type": "json"
          },
          "url": "altair-data-9ddb784010410a9cc13efe9f9bf63e70.json"
         },
         "encoding": {
          "x": {
           "field": "time",
           "type": "temporal"
          },
          "y": {
           "field": "w_h2o__3m_c",
           "scale": {
            "clamp": true,
            "domain": [
             -0.01,
             0.07
            ]
           },
           "type": "quantitative"
          }
         },
         "mark": {
          "color": "black",
          "type": "circle"
         }
        }
       ],
       "width": 1000
      },
      "text/plain": [
       "<VegaLite 5 object>\n",
       "\n",
       "If you see this message, it means the renderer has not been properly enabled\n",
       "for the frontend that you are using. For more information, see\n",
       "https://altair-viz.github.io/user_guide/display_frontends.html#troubleshooting\n"
      ]
     },
     "execution_count": 16,
     "metadata": {},
     "output_type": "execute_result"
    }
   ],
   "source": [
    "src = model_df.copy()\n",
    "src = src[(src.time > \"2023-02-01\") & (src.time < \"2023-02-08\")]\n",
    "meas_src = wide_df[(wide_df.time > \"2023-02-01\") & (wide_df.time < \"2023-02-08\")]\n",
    "alt.Chart(src).mark_line().encode(\n",
    "    alt.X(\"time:T\"),\n",
    "    alt.Y(\"latent heat flux:Q\"),\n",
    "    alt.Color(\"config:N\")\n",
    ") + alt.Chart(meas_src).mark_circle(color='black').encode(\n",
    "    alt.X(\"time:T\"),\n",
    "    alt.Y(\"w_h2o__3m_c:Q\").scale(domain = [-0.01, 0.07], clamp=True)\n",
    ").properties(width = 1000)"
   ]
  },
  {
   "cell_type": "markdown",
   "metadata": {},
   "source": [
    "# Look at time series of cumulative sublimation, examining effect of different knobs"
   ]
  },
  {
   "cell_type": "markdown",
   "metadata": {},
   "source": [
    "## Roughness length scheme"
   ]
  },
  {
   "cell_type": "code",
   "execution_count": 17,
   "metadata": {},
   "outputs": [
    {
     "data": {
      "application/vnd.vegalite.v5+json": {
       "$schema": "https://vega.github.io/schema/vega-lite/v5.8.0.json",
       "config": {
        "view": {
         "continuousHeight": 300,
         "continuousWidth": 300
        }
       },
       "data": {
        "format": {
         "type": "json"
        },
        "url": "altair-data-adcd3c8523ef31e334d50fe0d883d274.json"
       },
       "hconcat": [
        {
         "encoding": {
          "color": {
           "field": "scheme",
           "type": "nominal"
          },
          "x": {
           "field": "time",
           "type": "temporal"
          },
          "y": {
           "aggregate": "min",
           "field": "latent heat flux (mm)",
           "type": "quantitative"
          },
          "y2": {
           "aggregate": "max",
           "field": "latent heat flux (mm)"
          }
         },
         "mark": {
          "opacity": 0.25,
          "type": "area"
         }
        },
        {
         "encoding": {
          "color": {
           "field": "scheme",
           "type": "nominal"
          },
          "detail": {
           "field": "config",
           "type": "nominal"
          },
          "x": {
           "field": "time",
           "type": "temporal"
          },
          "y": {
           "field": "latent heat flux (mm)",
           "type": "quantitative"
          }
         },
         "mark": {
          "type": "line"
         }
        }
       ]
      },
      "text/plain": [
       "<VegaLite 5 object>\n",
       "\n",
       "If you see this message, it means the renderer has not been properly enabled\n",
       "for the frontend that you are using. For more information, see\n",
       "https://altair-viz.github.io/user_guide/display_frontends.html#troubleshooting\n"
      ]
     },
     "execution_count": 17,
     "metadata": {},
     "output_type": "execute_result"
    }
   ],
   "source": [
    "src = src_cumsum_daily[src_cumsum_daily.surface_measurement != 'Td_3m_c']\n",
    "src = src[src.surface_measurement != 'Tsurf_d']\n",
    "src = src[src.time < \"2023-05-12\"]\n",
    "src = src[src.most_config.isin([\n",
    "    \"MO Webb NoahMP\", \"MO Webb NoahMP andreas lengths\"\n",
    "])]\n",
    "\n",
    "alt.Chart(\n",
    "    src\n",
    ").mark_area(opacity=0.25).encode(\n",
    "    alt.X(\"time:T\"),\n",
    "    alt.Y(\"min(latent heat flux (mm)):Q\"),\n",
    "    alt.Y2(\"max(latent heat flux (mm)):Q\"),\n",
    "    alt.Color(\"scheme:N\")\n",
    ") | alt.Chart(\n",
    "    src\n",
    ").mark_line().encode(\n",
    "    alt.X(\"time:T\"),\n",
    "    alt.Y(\"latent heat flux (mm):Q\"),\n",
    "    alt.Color(\"scheme:N\"),\n",
    "    detail = 'config'\n",
    ")"
   ]
  },
  {
   "cell_type": "markdown",
   "metadata": {},
   "source": [
    "## Z0"
   ]
  },
  {
   "cell_type": "code",
   "execution_count": 18,
   "metadata": {},
   "outputs": [
    {
     "data": {
      "application/vnd.vegalite.v5+json": {
       "$schema": "https://vega.github.io/schema/vega-lite/v5.8.0.json",
       "config": {
        "view": {
         "continuousHeight": 300,
         "continuousWidth": 300
        }
       },
       "data": {
        "format": {
         "type": "json"
        },
        "url": "altair-data-d9fe15d4c65ca4c64bc77ba510d877c2.json"
       },
       "encoding": {
        "color": {
         "field": "z0",
         "type": "nominal"
        },
        "x": {
         "field": "time",
         "type": "temporal"
        },
        "y": {
         "aggregate": "min",
         "field": "latent heat flux (mm)",
         "type": "quantitative"
        },
        "y2": {
         "aggregate": "max",
         "field": "latent heat flux (mm)"
        }
       },
       "mark": {
        "opacity": 0.25,
        "type": "area"
       },
       "title": "Seasonal cumulative sublimation for 256 MOST model runs"
      },
      "text/plain": [
       "<VegaLite 5 object>\n",
       "\n",
       "If you see this message, it means the renderer has not been properly enabled\n",
       "for the frontend that you are using. For more information, see\n",
       "https://altair-viz.github.io/user_guide/display_frontends.html#troubleshooting\n"
      ]
     },
     "metadata": {
      "application/vnd.vegalite.v5+json": {
       "embed_options": {
        "renderer": "svg"
       }
      }
     },
     "output_type": "display_data"
    }
   ],
   "source": [
    "src = src_cumsum_daily[src_cumsum_daily.surface_measurement != 'Td_3m_c']\n",
    "src = src[src.surface_measurement != 'Tsurf_d']\n",
    "src = src[src.time < \"2023-05-12\"]\n",
    "src = src[src.surface_measurement != \"Tsurf_d\"]\n",
    "\n",
    "alt.Chart(\n",
    "    src\n",
    ").mark_area(opacity=0.25).encode(\n",
    "    alt.X(\"time:T\"),\n",
    "    alt.Y(\"min(latent heat flux (mm)):Q\"),\n",
    "    alt.Y2(\"max(latent heat flux (mm)):Q\"),\n",
    "    alt.Color(\"z0:N\")\n",
    ").properties(title='Seasonal cumulative sublimation for 256 MOST model runs').display(renderer='svg')"
   ]
  },
  {
   "cell_type": "code",
   "execution_count": 19,
   "metadata": {},
   "outputs": [
    {
     "data": {
      "application/vnd.vegalite.v5+json": {
       "$schema": "https://vega.github.io/schema/vega-lite/v5.8.0.json",
       "config": {
        "view": {
         "continuousHeight": 300,
         "continuousWidth": 300
        }
       },
       "data": {
        "format": {
         "type": "json"
        },
        "url": "altair-data-d9fe15d4c65ca4c64bc77ba510d877c2.json"
       },
       "layer": [
        {
         "encoding": {
          "color": {
           "field": "z0",
           "type": "nominal"
          },
          "x": {
           "field": "time",
           "type": "temporal"
          },
          "y": {
           "aggregate": "min",
           "field": "latent heat flux (mm)",
           "type": "quantitative"
          }
         },
         "mark": {
          "strokeDash": [
           4,
           2
          ],
          "type": "line"
         },
         "title": "Seasonal cumulative sublimation for 256 MOST model runs"
        },
        {
         "encoding": {
          "color": {
           "field": "z0",
           "type": "nominal"
          },
          "x": {
           "field": "time",
           "type": "temporal"
          },
          "y": {
           "aggregate": "max",
           "field": "latent heat flux (mm)",
           "type": "quantitative"
          }
         },
         "mark": {
          "type": "line"
         },
         "title": "Seasonal cumulative sublimation for 256 MOST model runs"
        }
       ]
      },
      "text/plain": [
       "<VegaLite 5 object>\n",
       "\n",
       "If you see this message, it means the renderer has not been properly enabled\n",
       "for the frontend that you are using. For more information, see\n",
       "https://altair-viz.github.io/user_guide/display_frontends.html#troubleshooting\n"
      ]
     },
     "execution_count": 19,
     "metadata": {},
     "output_type": "execute_result"
    }
   ],
   "source": [
    "src = src_cumsum_daily[src_cumsum_daily.surface_measurement != 'Td_3m_c']\n",
    "src = src[src.time < \"2023-05-12\"]\n",
    "src = src[src.surface_measurement != \"Tsurf_d\"]\n",
    "\n",
    "base = alt.Chart(\n",
    "    src\n",
    ").encode(\n",
    "    alt.X(\"time:T\"),\n",
    "    alt.Color(\"z0:N\")\n",
    ").properties(title='Seasonal cumulative sublimation for 256 MOST model runs')\n",
    "\n",
    "base.mark_line(strokeDash=[4,2]).encode(alt.Y(\"min(latent heat flux (mm)):Q\")) + \\\n",
    "base.mark_line().encode(alt.Y(\"max(latent heat flux (mm)):Q\"))"
   ]
  },
  {
   "cell_type": "markdown",
   "metadata": {},
   "source": [
    "## Ts"
   ]
  },
  {
   "cell_type": "code",
   "execution_count": 20,
   "metadata": {},
   "outputs": [
    {
     "data": {
      "application/vnd.vegalite.v5+json": {
       "$schema": "https://vega.github.io/schema/vega-lite/v5.8.0.json",
       "config": {
        "view": {
         "continuousHeight": 300,
         "continuousWidth": 300
        }
       },
       "data": {
        "format": {
         "type": "json"
        },
        "url": "altair-data-d9fe15d4c65ca4c64bc77ba510d877c2.json"
       },
       "encoding": {
        "color": {
         "field": "surface_measurement",
         "type": "nominal"
        },
        "x": {
         "field": "time",
         "type": "temporal"
        },
        "y": {
         "aggregate": "min",
         "field": "latent heat flux (mm)",
         "title": "latent heat flux (mm), min to max",
         "type": "quantitative"
        },
        "y2": {
         "aggregate": "max",
         "field": "latent heat flux (mm)"
        }
       },
       "mark": {
        "opacity": 0.25,
        "type": "area"
       },
       "title": "Seasonal cumulative sublimation for model ensemble (n=128)"
      },
      "text/plain": [
       "<VegaLite 5 object>\n",
       "\n",
       "If you see this message, it means the renderer has not been properly enabled\n",
       "for the frontend that you are using. For more information, see\n",
       "https://altair-viz.github.io/user_guide/display_frontends.html#troubleshooting\n"
      ]
     },
     "metadata": {
      "application/vnd.vegalite.v5+json": {
       "embed_options": {
        "renderer": "svg"
       }
      }
     },
     "output_type": "display_data"
    }
   ],
   "source": [
    "src = src_cumsum_daily[src_cumsum_daily.surface_measurement != 'Td_3m_c']\n",
    "src = src[src.surface_measurement != 'Tsurf_d']\n",
    "src = src[src.time < \"2023-05-12\"]\n",
    "\n",
    "alt.Chart(\n",
    "    src\n",
    ").mark_area(opacity=0.25).encode(\n",
    "    alt.X(\"time:T\"),\n",
    "    alt.Y(\"min(latent heat flux (mm)):Q\").title(\"latent heat flux (mm), min to max\"),\n",
    "    alt.Y2(\"max(latent heat flux (mm)):Q\"),\n",
    "    alt.Color(\"surface_measurement:N\")\n",
    ").properties(\n",
    "    title='Seasonal cumulative sublimation for model ensemble (n=128)'\n",
    ").display(renderer='svg')"
   ]
  },
  {
   "cell_type": "markdown",
   "metadata": {},
   "source": [
    "## e_sat_curve"
   ]
  },
  {
   "cell_type": "code",
   "execution_count": 21,
   "metadata": {},
   "outputs": [
    {
     "data": {
      "application/vnd.vegalite.v5+json": {
       "$schema": "https://vega.github.io/schema/vega-lite/v5.8.0.json",
       "config": {
        "view": {
         "continuousHeight": 300,
         "continuousWidth": 300
        }
       },
       "data": {
        "format": {
         "type": "json"
        },
        "url": "altair-data-5481e16413b88b94a0544edc20f7a9cd.json"
       },
       "encoding": {
        "color": {
         "field": "e_sat_curve",
         "type": "nominal"
        },
        "x": {
         "field": "time",
         "type": "temporal"
        },
        "y": {
         "aggregate": "min",
         "field": "latent heat flux (mm)",
         "type": "quantitative"
        },
        "y2": {
         "aggregate": "max",
         "field": "latent heat flux (mm)"
        }
       },
       "mark": {
        "opacity": 0.25,
        "type": "area"
       },
       "title": "Seasonal cumulative sublimation for 256 MOST model runs"
      },
      "text/plain": [
       "<VegaLite 5 object>\n",
       "\n",
       "If you see this message, it means the renderer has not been properly enabled\n",
       "for the frontend that you are using. For more information, see\n",
       "https://altair-viz.github.io/user_guide/display_frontends.html#troubleshooting\n"
      ]
     },
     "metadata": {
      "application/vnd.vegalite.v5+json": {
       "embed_options": {
        "renderer": "svg"
       }
      }
     },
     "output_type": "display_data"
    }
   ],
   "source": [
    "src = src_cumsum_daily[src_cumsum_daily.surface_measurement != 'Td_3m_c']\n",
    "src = src[src.time < \"2023-05-13\"]\n",
    "src = src[src.surface_measurement != \"Tsurf_d\"]\n",
    "\n",
    "alt.Chart(\n",
    "    src\n",
    ").mark_area(opacity=0.25).encode(\n",
    "    alt.X(\"time:T\"),\n",
    "    alt.Y(\"min(latent heat flux (mm)):Q\"),\n",
    "    alt.Y2(\"max(latent heat flux (mm)):Q\"),\n",
    "    alt.Color(\"e_sat_curve:N\")\n",
    ").properties(title='Seasonal cumulative sublimation for 256 MOST model runs').display(renderer='svg')"
   ]
  },
  {
   "cell_type": "code",
   "execution_count": 22,
   "metadata": {},
   "outputs": [
    {
     "data": {
      "application/vnd.vegalite.v5+json": {
       "$schema": "https://vega.github.io/schema/vega-lite/v5.8.0.json",
       "config": {
        "view": {
         "continuousHeight": 300,
         "continuousWidth": 300
        }
       },
       "vconcat": [
        {
         "data": {
          "format": {
           "type": "json"
          },
          "url": "altair-data-8a573ba980eedade493044a095b729f1.json"
         },
         "encoding": {
          "color": {
           "field": "z0",
           "type": "nominal"
          },
          "column": {
           "field": "e_sat_curve",
           "type": "nominal"
          },
          "row": {
           "field": "surface_measurement",
           "title": "Surface temp. sensor",
           "type": "nominal"
          },
          "x": {
           "axis": {
            "labels": false
           },
           "field": "time",
           "title": null,
           "type": "temporal"
          },
          "y": {
           "aggregate": "min",
           "field": "latent heat flux (mm)",
           "title": "latent heat flux (mm), min to max",
           "type": "quantitative"
          },
          "y2": {
           "aggregate": "max",
           "field": "latent heat flux (mm)"
          }
         },
         "height": 225,
         "mark": {
          "opacity": 0.25,
          "type": "area"
         },
         "width": 225
        },
        {
         "data": {
          "format": {
           "type": "json"
          },
          "url": "altair-data-b34ac69fd72ac8200f1037ae91011eec.json"
         },
         "encoding": {
          "color": {
           "field": "z0",
           "type": "nominal"
          },
          "column": {
           "field": "e_sat_curve",
           "header": {
            "labels": false
           },
           "title": null,
           "type": "nominal"
          },
          "row": {
           "field": "surface_measurement",
           "title": "Surface temp. sensor",
           "type": "nominal"
          },
          "x": {
           "field": "time",
           "type": "temporal"
          },
          "y": {
           "aggregate": "min",
           "field": "latent heat flux (mm)",
           "title": "latent heat flux (mm), min to max",
           "type": "quantitative"
          },
          "y2": {
           "aggregate": "max",
           "field": "latent heat flux (mm)"
          }
         },
         "height": 225,
         "mark": {
          "opacity": 0.25,
          "type": "area"
         },
         "width": 225
        }
       ]
      },
      "text/plain": [
       "<VegaLite 5 object>\n",
       "\n",
       "If you see this message, it means the renderer has not been properly enabled\n",
       "for the frontend that you are using. For more information, see\n",
       "https://altair-viz.github.io/user_guide/display_frontends.html#troubleshooting\n"
      ]
     },
     "metadata": {
      "application/vnd.vegalite.v5+json": {
       "embed_options": {
        "renderer": "svg"
       }
      }
     },
     "output_type": "display_data"
    }
   ],
   "source": [
    "src = src_cumsum_daily[src_cumsum_daily.surface_measurement != 'Td_3m_c']\n",
    "src = src[src.surface_measurement != 'Tsurf_d']\n",
    "src = src[src.time < \"2023-05-13\"]\n",
    "# src = src[src.scheme == 'yang']\n",
    "# src = src[src.z0 == 0.0001]\n",
    "(\n",
    "alt.Chart(\n",
    "    src.query(\"surface_measurement == 'Tsurf_c'\")\n",
    ").mark_area(opacity=0.25).encode(\n",
    "    alt.X(\"time:T\").axis(labels=False).title(None),\n",
    "    alt.Y(\"min(latent heat flux (mm)):Q\").title(\"latent heat flux (mm), min to max\"),\n",
    "    alt.Y2(\"max(latent heat flux (mm)):Q\"),\n",
    "    alt.Color(\"z0:N\"),\n",
    "    alt.Column(\"e_sat_curve:N\"),\n",
    "    alt.Row(\"surface_measurement:N\").title(\"Surface temp. sensor\")\n",
    ").properties(width = 225, height = 225) & alt.Chart(\n",
    "    src.query(\"surface_measurement == 'Tsurf_rad_d'\")\n",
    ").mark_area(opacity=0.25).encode(\n",
    "    alt.X(\"time:T\"),\n",
    "    alt.Y(\"min(latent heat flux (mm)):Q\").title(\"latent heat flux (mm), min to max\"),\n",
    "    alt.Y2(\"max(latent heat flux (mm)):Q\"),\n",
    "    alt.Color(\"z0:N\"),\n",
    "    alt.Column(\"e_sat_curve:N\").title(None).header(labels=False),\n",
    "    alt.Row(\"surface_measurement:N\").title(\"Surface temp. sensor\")\n",
    ").properties(width = 225, height = 225)).display(renderer='svg')"
   ]
  },
  {
   "cell_type": "code",
   "execution_count": 23,
   "metadata": {},
   "outputs": [
    {
     "data": {
      "text/plain": [
       "128"
      ]
     },
     "execution_count": 23,
     "metadata": {},
     "output_type": "execute_result"
    }
   ],
   "source": [
    "len(src.config.unique())"
   ]
  },
  {
   "cell_type": "code",
   "execution_count": 24,
   "metadata": {},
   "outputs": [
    {
     "data": {
      "application/vnd.vegalite.v5+json": {
       "$schema": "https://vega.github.io/schema/vega-lite/v5.8.0.json",
       "config": {
        "view": {
         "continuousHeight": 300,
         "continuousWidth": 300
        }
       },
       "data": {
        "format": {
         "type": "json"
        },
        "url": "altair-data-451f00090e03986bdefa101a32730f31.json"
       },
       "encoding": {
        "color": {
         "field": "z0",
         "type": "nominal"
        },
        "column": {
         "field": "e_sat_curve",
         "type": "nominal"
        },
        "row": {
         "field": "surface_measurement",
         "title": "Surface temp. sensor",
         "type": "nominal"
        },
        "x": {
         "field": "time",
         "type": "temporal"
        },
        "y": {
         "aggregate": "min",
         "field": "latent heat flux (mm)",
         "title": "latent heat flux (mm), min to max",
         "type": "quantitative"
        },
        "y2": {
         "aggregate": "max",
         "field": "latent heat flux (mm)"
        }
       },
       "height": 225,
       "mark": {
        "opacity": 0.25,
        "type": "area"
       },
       "width": 225
      },
      "text/plain": [
       "<VegaLite 5 object>\n",
       "\n",
       "If you see this message, it means the renderer has not been properly enabled\n",
       "for the frontend that you are using. For more information, see\n",
       "https://altair-viz.github.io/user_guide/display_frontends.html#troubleshooting\n"
      ]
     },
     "metadata": {
      "application/vnd.vegalite.v5+json": {
       "embed_options": {
        "renderer": "svg"
       }
      }
     },
     "output_type": "display_data"
    }
   ],
   "source": [
    "src = src_cumsum_daily[src_cumsum_daily.surface_measurement != 'Td_3m_c']\n",
    "src = src[src.surface_measurement != 'Tsurf_d']\n",
    "src = src[src.time < \"2023-05-13\"]\n",
    "src = src.query(\"surface_measurement == 'Tsurf_c'\")\n",
    "src = src.query(\"z0 < 0.001\")\n",
    "(\n",
    "alt.Chart(\n",
    "    src\n",
    ").mark_area(opacity=0.25).encode(\n",
    "    alt.X(\"time:T\"),\n",
    "    alt.Y(\"min(latent heat flux (mm)):Q\").title(\"latent heat flux (mm), min to max\"),\n",
    "    alt.Y2(\"max(latent heat flux (mm)):Q\"),\n",
    "    alt.Color(\"z0:N\"),\n",
    "    alt.Column(\"e_sat_curve:N\"),\n",
    "    alt.Row(\"surface_measurement:N\").title(\"Surface temp. sensor\")\n",
    ").properties(width = 225, height = 225)).display(renderer='svg')"
   ]
  },
  {
   "cell_type": "code",
   "execution_count": 25,
   "metadata": {},
   "outputs": [
    {
     "data": {
      "application/vnd.vegalite.v5+json": {
       "$schema": "https://vega.github.io/schema/vega-lite/v5.8.0.json",
       "config": {
        "view": {
         "continuousHeight": 300,
         "continuousWidth": 300
        }
       },
       "data": {
        "format": {
         "type": "json"
        },
        "url": "altair-data-7e813b1c354be51a56dea20393fe5717.json"
       },
       "encoding": {
        "x": {
         "field": "time",
         "type": "temporal"
        },
        "y": {
         "field": "value",
         "type": "quantitative"
        }
       },
       "mark": {
        "color": "black",
        "strokeDash": [
         1,
         4
        ],
        "type": "line"
       }
      },
      "text/plain": [
       "<VegaLite 5 object>\n",
       "\n",
       "If you see this message, it means the renderer has not been properly enabled\n",
       "for the frontend that you are using. For more information, see\n",
       "https://altair-viz.github.io/user_guide/display_frontends.html#troubleshooting\n"
      ]
     },
     "execution_count": 25,
     "metadata": {},
     "output_type": "execute_result"
    }
   ],
   "source": [
    "measured_line = alt.Chart(\n",
    "    tidy_df_30Min.query(\"variable == 'w_h2o__cum_sub_mm_3m_c'\").dropna().query(\n",
    "        \"time < '2023-05-11'\"\n",
    "    )\n",
    ").mark_line(color='black', strokeDash=[1,4]\n",
    ").encode(\n",
    "    alt.X(\"time:T\"),\n",
    "    alt.Y(\"value:Q\")\n",
    ")\n",
    "measured_line"
   ]
  },
  {
   "cell_type": "code",
   "execution_count": 26,
   "metadata": {},
   "outputs": [
    {
     "data": {
      "application/vnd.vegalite.v5+json": {
       "$schema": "https://vega.github.io/schema/vega-lite/v5.8.0.json",
       "config": {
        "legend": {
         "columns": 1,
         "orient": "left"
        },
        "view": {
         "continuousHeight": 300,
         "continuousWidth": 300
        }
       },
       "hconcat": [
        {
         "height": 225,
         "layer": [
          {
           "data": {
            "format": {
             "type": "json"
            },
            "url": "altair-data-7e813b1c354be51a56dea20393fe5717.json"
           },
           "encoding": {
            "x": {
             "field": "time",
             "type": "temporal"
            },
            "y": {
             "field": "value",
             "type": "quantitative"
            }
           },
           "mark": {
            "color": "black",
            "strokeDash": [
             1,
             4
            ],
            "type": "line"
           }
          },
          {
           "data": {
            "format": {
             "type": "json"
            },
            "url": "altair-data-4e681fda6a5b3ed043ed27a11ebeb49c.json"
           },
           "encoding": {
            "color": {
             "field": "most_config",
             "type": "nominal"
            },
            "strokeDash": {
             "field": "z0",
             "type": "nominal"
            },
            "tooltip": {
             "field": "most_config",
             "type": "nominal"
            },
            "x": {
             "field": "time",
             "type": "temporal"
            },
            "y": {
             "field": "latent heat flux (mm)",
             "title": "latent heat flux (mm)",
             "type": "quantitative"
            }
           },
           "mark": {
            "type": "line"
           },
           "title": "Alduchov e_sat curve"
          }
         ],
         "width": 225
        },
        {
         "height": 225,
         "layer": [
          {
           "data": {
            "format": {
             "type": "json"
            },
            "url": "altair-data-7e813b1c354be51a56dea20393fe5717.json"
           },
           "encoding": {
            "x": {
             "field": "time",
             "type": "temporal"
            },
            "y": {
             "field": "value",
             "type": "quantitative"
            }
           },
           "mark": {
            "color": "black",
            "strokeDash": [
             1,
             4
            ],
            "type": "line"
           }
          },
          {
           "data": {
            "format": {
             "type": "json"
            },
            "url": "altair-data-64e5337d65d0a1a38dd59bb0f7d5000c.json"
           },
           "encoding": {
            "color": {
             "field": "most_config",
             "type": "nominal"
            },
            "strokeDash": {
             "field": "z0",
             "type": "nominal"
            },
            "tooltip": {
             "field": "most_config",
             "type": "nominal"
            },
            "x": {
             "field": "time",
             "type": "temporal"
            },
            "y": {
             "field": "latent heat flux (mm)",
             "title": "latent heat flux (mm)",
             "type": "quantitative"
            }
           },
           "mark": {
            "type": "line"
           },
           "title": "Metpy e_sat curve"
          }
         ],
         "width": 225
        }
       ]
      },
      "text/plain": [
       "<VegaLite 5 object>\n",
       "\n",
       "If you see this message, it means the renderer has not been properly enabled\n",
       "for the frontend that you are using. For more information, see\n",
       "https://altair-viz.github.io/user_guide/display_frontends.html#troubleshooting\n"
      ]
     },
     "metadata": {
      "application/vnd.vegalite.v5+json": {
       "embed_options": {
        "renderer": "svg"
       }
      }
     },
     "output_type": "display_data"
    }
   ],
   "source": [
    "src = src_cumsum_daily[src_cumsum_daily.surface_measurement != 'Td_3m_c']\n",
    "src = src[src.surface_measurement != 'Tsurf_d']\n",
    "src = src[src.time < \"2023-05-13\"]\n",
    "src = src.query(\"surface_measurement == 'Tsurf_c'\")\n",
    "src = src.query(\"z0 < 0.001\")\n",
    "(\n",
    "(measured_line + alt.Chart(\n",
    "            src.query(\"e_sat_curve == 'alduchov'\")\n",
    "        ).mark_line().encode(\n",
    "            alt.X(\"time:T\"),\n",
    "            alt.Y(\"latent heat flux (mm):Q\").title(\"latent heat flux (mm)\"),\n",
    "            alt.StrokeDash(\"z0:N\"),\n",
    "            alt.Color(\"most_config:N\"),\n",
    "            tooltip = 'most_config:N',\n",
    "        ).properties(width = 225, height = 225, title = \"Alduchov e_sat curve\")\n",
    ") | \\\n",
    "(measured_line + alt.Chart(\n",
    "        src.query(\"e_sat_curve == 'metpy'\")\n",
    "    ).mark_line().encode(\n",
    "        alt.X(\"time:T\"),\n",
    "        alt.Y(\"latent heat flux (mm):Q\").title(\"latent heat flux (mm)\"),\n",
    "        alt.StrokeDash(\"z0:N\"),\n",
    "        alt.Color(\"most_config:N\"),\n",
    "        tooltip = 'most_config:N',\n",
    "    ).properties(width = 225, height = 225, title = \"Metpy e_sat curve\")\n",
    ")).configure_legend(orient='left', columns=1).display(renderer = 'svg')"
   ]
  },
  {
   "cell_type": "code",
   "execution_count": 27,
   "metadata": {},
   "outputs": [
    {
     "data": {
      "application/vnd.vegalite.v5+json": {
       "$schema": "https://vega.github.io/schema/vega-lite/v5.8.0.json",
       "config": {
        "legend": {
         "columns": 1,
         "orient": "left"
        },
        "view": {
         "continuousHeight": 300,
         "continuousWidth": 300
        }
       },
       "hconcat": [
        {
         "height": 225,
         "layer": [
          {
           "data": {
            "format": {
             "type": "json"
            },
            "url": "altair-data-7e813b1c354be51a56dea20393fe5717.json"
           },
           "encoding": {
            "x": {
             "field": "time",
             "type": "temporal"
            },
            "y": {
             "field": "value",
             "type": "quantitative"
            }
           },
           "mark": {
            "color": "black",
            "strokeDash": [
             1,
             4
            ],
            "type": "line"
           }
          },
          {
           "data": {
            "format": {
             "type": "json"
            },
            "url": "altair-data-80cb81c52572da8763621a4705c0e2cf.json"
           },
           "encoding": {
            "color": {
             "field": "most_config",
             "type": "nominal"
            },
            "strokeDash": {
             "field": "z0",
             "type": "nominal"
            },
            "tooltip": {
             "field": "most_config",
             "type": "nominal"
            },
            "x": {
             "field": "time",
             "type": "temporal"
            },
            "y": {
             "field": "latent heat flux (mm)",
             "title": "latent heat flux (mm)",
             "type": "quantitative"
            }
           },
           "mark": {
            "type": "line"
           },
           "title": "Alduchov e_sat curve"
          }
         ],
         "width": 225
        },
        {
         "height": 225,
         "layer": [
          {
           "data": {
            "format": {
             "type": "json"
            },
            "url": "altair-data-7e813b1c354be51a56dea20393fe5717.json"
           },
           "encoding": {
            "x": {
             "field": "time",
             "type": "temporal"
            },
            "y": {
             "field": "value",
             "type": "quantitative"
            }
           },
           "mark": {
            "color": "black",
            "strokeDash": [
             1,
             4
            ],
            "type": "line"
           }
          },
          {
           "data": {
            "format": {
             "type": "json"
            },
            "url": "altair-data-b58b71d5495c25ccc3e44c780a591f86.json"
           },
           "encoding": {
            "color": {
             "field": "most_config",
             "type": "nominal"
            },
            "strokeDash": {
             "field": "z0",
             "type": "nominal"
            },
            "tooltip": {
             "field": "most_config",
             "type": "nominal"
            },
            "x": {
             "field": "time",
             "type": "temporal"
            },
            "y": {
             "field": "latent heat flux (mm)",
             "title": "latent heat flux (mm)",
             "type": "quantitative"
            }
           },
           "mark": {
            "type": "line"
           },
           "title": "Metpy e_sat curve"
          }
         ],
         "width": 225
        }
       ]
      },
      "text/plain": [
       "<VegaLite 5 object>\n",
       "\n",
       "If you see this message, it means the renderer has not been properly enabled\n",
       "for the frontend that you are using. For more information, see\n",
       "https://altair-viz.github.io/user_guide/display_frontends.html#troubleshooting\n"
      ]
     },
     "metadata": {
      "application/vnd.vegalite.v5+json": {
       "embed_options": {
        "renderer": "svg"
       }
      }
     },
     "output_type": "display_data"
    }
   ],
   "source": [
    "src = src_cumsum_daily[src_cumsum_daily.surface_measurement != 'Td_3m_c']\n",
    "src = src[src.surface_measurement != 'Tsurf_d']\n",
    "src = src[src.time < \"2023-05-13\"]\n",
    "src = src.query(\"surface_measurement == 'Tsurf_c'\")\n",
    "src = src.query(\"z0 < 0.001\")\n",
    "src = src[src.most_config.str.contains(\"NoahMP\")]\n",
    "(\n",
    "(measured_line + alt.Chart(\n",
    "            src.query(\"e_sat_curve == 'alduchov'\")\n",
    "        ).mark_line().encode(\n",
    "            alt.X(\"time:T\"),\n",
    "            alt.Y(\"latent heat flux (mm):Q\").title(\"latent heat flux (mm)\"),\n",
    "            alt.StrokeDash(\"z0:N\"),\n",
    "            alt.Color(\"most_config:N\"),\n",
    "            tooltip = 'most_config:N',\n",
    "        ).properties(width = 225, height = 225, title = \"Alduchov e_sat curve\")\n",
    ") | \\\n",
    "(measured_line + alt.Chart(\n",
    "        src.query(\"e_sat_curve == 'metpy'\")\n",
    "    ).mark_line().encode(\n",
    "        alt.X(\"time:T\"),\n",
    "        alt.Y(\"latent heat flux (mm):Q\").title(\"latent heat flux (mm)\"),\n",
    "        alt.StrokeDash(\"z0:N\"),\n",
    "        alt.Color(\"most_config:N\"),\n",
    "        tooltip = 'most_config:N',\n",
    "    ).properties(width = 225, height = 225, title = \"Metpy e_sat curve\")\n",
    ")).configure_legend(orient='left', columns=1).display(renderer = 'svg')"
   ]
  },
  {
   "cell_type": "code",
   "execution_count": 28,
   "metadata": {},
   "outputs": [
    {
     "data": {
      "application/vnd.vegalite.v5+json": {
       "$schema": "https://vega.github.io/schema/vega-lite/v5.8.0.json",
       "config": {
        "legend": {
         "columns": 1,
         "orient": "top"
        },
        "view": {
         "continuousHeight": 300,
         "continuousWidth": 300
        }
       },
       "height": 225,
       "layer": [
        {
         "data": {
          "format": {
           "type": "json"
          },
          "url": "altair-data-7e813b1c354be51a56dea20393fe5717.json"
         },
         "encoding": {
          "x": {
           "field": "time",
           "type": "temporal"
          },
          "y": {
           "field": "value",
           "type": "quantitative"
          }
         },
         "mark": {
          "color": "black",
          "strokeDash": [
           1,
           4
          ],
          "type": "line"
         }
        },
        {
         "data": {
          "format": {
           "type": "json"
          },
          "url": "altair-data-073fea2bdcf36e3b4615d99415edefac.json"
         },
         "encoding": {
          "color": {
           "field": "e_sat_curve",
           "type": "nominal"
          },
          "strokeDash": {
           "field": "z0",
           "type": "nominal"
          },
          "tooltip": {
           "field": "most_config",
           "type": "nominal"
          },
          "x": {
           "field": "time",
           "type": "temporal"
          },
          "y": {
           "field": "latent heat flux (mm)",
           "title": "latent heat flux (mm)",
           "type": "quantitative"
          }
         },
         "mark": {
          "type": "line"
         },
         "title": "Webb NoahMP andreas lengths"
        }
       ],
       "width": 225
      },
      "text/plain": [
       "<VegaLite 5 object>\n",
       "\n",
       "If you see this message, it means the renderer has not been properly enabled\n",
       "for the frontend that you are using. For more information, see\n",
       "https://altair-viz.github.io/user_guide/display_frontends.html#troubleshooting\n"
      ]
     },
     "metadata": {
      "application/vnd.vegalite.v5+json": {
       "embed_options": {
        "renderer": "svg"
       }
      }
     },
     "output_type": "display_data"
    }
   ],
   "source": [
    "src = src_cumsum_daily[src_cumsum_daily.surface_measurement != 'Td_3m_c']\n",
    "src = src[src.surface_measurement != 'Tsurf_d']\n",
    "src = src[src.time < \"2023-05-13\"]\n",
    "src = src.query(\"surface_measurement == 'Tsurf_c'\")\n",
    "src = src.query(\"z0 < 0.001\")\n",
    "src = src[src.most_config.str.contains(\"andreas lengths\")]\n",
    "(\n",
    "(measured_line + alt.Chart(\n",
    "            src\n",
    "        ).mark_line().encode(\n",
    "            alt.X(\"time:T\"),\n",
    "            alt.Y(\"latent heat flux (mm):Q\").title(\"latent heat flux (mm)\"),\n",
    "            alt.StrokeDash(\"z0:N\"),\n",
    "            alt.Color(\"e_sat_curve:N\"),\n",
    "            tooltip = 'most_config:N',\n",
    "        ).properties(width = 225, height = 225, title = \"Webb NoahMP andreas lengths\")\n",
    ")).configure_legend(orient='top', columns=1).display(renderer = 'svg')"
   ]
  },
  {
   "cell_type": "markdown",
   "metadata": {},
   "source": [
    "## MOST Config"
   ]
  },
  {
   "cell_type": "code",
   "execution_count": 29,
   "metadata": {},
   "outputs": [
    {
     "name": "stdout",
     "output_type": "stream",
     "text": [
      "128\n"
     ]
    },
    {
     "data": {
      "application/vnd.vegalite.v5+json": {
       "$schema": "https://vega.github.io/schema/vega-lite/v5.8.0.json",
       "config": {
        "view": {
         "continuousHeight": 300,
         "continuousWidth": 300
        }
       },
       "data": {
        "format": {
         "type": "json"
        },
        "url": "altair-data-5481e16413b88b94a0544edc20f7a9cd.json"
       },
       "encoding": {
        "facet": {
         "columns": 4,
         "field": "most_config",
         "type": "nominal"
        },
        "x": {
         "field": "time",
         "type": "temporal"
        },
        "y": {
         "aggregate": "min",
         "field": "latent heat flux (mm)",
         "type": "quantitative"
        },
        "y2": {
         "aggregate": "max",
         "field": "latent heat flux (mm)"
        }
       },
       "mark": {
        "opacity": 0.25,
        "type": "area"
       }
      },
      "text/plain": [
       "<VegaLite 5 object>\n",
       "\n",
       "If you see this message, it means the renderer has not been properly enabled\n",
       "for the frontend that you are using. For more information, see\n",
       "https://altair-viz.github.io/user_guide/display_frontends.html#troubleshooting\n"
      ]
     },
     "metadata": {
      "application/vnd.vegalite.v5+json": {
       "embed_options": {
        "renderer": "svg"
       }
      }
     },
     "output_type": "display_data"
    }
   ],
   "source": [
    "src = src_cumsum_daily[src_cumsum_daily.surface_measurement != 'Td_3m_c']\n",
    "src = src[src.surface_measurement != 'Tsurf_d']\n",
    "src = src[src.time < \"2023-05-13\"]\n",
    "print(len(src.config.unique()))\n",
    "alt.Chart(\n",
    "    src\n",
    ").mark_area(opacity=0.25).encode(\n",
    "    alt.X(\"time:T\"),\n",
    "    alt.Y(\"min(latent heat flux (mm)):Q\"),\n",
    "    alt.Y2(\"max(latent heat flux (mm)):Q\"),\n",
    "    alt.Facet(\"most_config:N\", columns = 4)\n",
    ").display(renderer = 'svg')"
   ]
  },
  {
   "cell_type": "code",
   "execution_count": 30,
   "metadata": {},
   "outputs": [
    {
     "data": {
      "application/vnd.vegalite.v5+json": {
       "$schema": "https://vega.github.io/schema/vega-lite/v5.8.0.json",
       "config": {
        "view": {
         "continuousHeight": 300,
         "continuousWidth": 300
        }
       },
       "data": {
        "format": {
         "type": "json"
        },
        "url": "altair-data-adcd3c8523ef31e334d50fe0d883d274.json"
       },
       "encoding": {
        "color": {
         "field": "scheme",
         "type": "nominal"
        },
        "column": {
         "field": "z0",
         "type": "nominal"
        },
        "row": {
         "field": "e_sat_curve",
         "type": "nominal"
        },
        "strokeDash": {
         "field": "surface_measurement",
         "type": "nominal"
        },
        "x": {
         "field": "time",
         "type": "temporal"
        },
        "y": {
         "field": "latent heat flux (mm)",
         "type": "quantitative"
        }
       },
       "height": 150,
       "mark": {
        "type": "line"
       },
       "width": 150
      },
      "text/plain": [
       "<VegaLite 5 object>\n",
       "\n",
       "If you see this message, it means the renderer has not been properly enabled\n",
       "for the frontend that you are using. For more information, see\n",
       "https://altair-viz.github.io/user_guide/display_frontends.html#troubleshooting\n"
      ]
     },
     "metadata": {
      "application/vnd.vegalite.v5+json": {
       "embed_options": {
        "renderer": "svg"
       }
      }
     },
     "output_type": "display_data"
    }
   ],
   "source": [
    "src = src_cumsum_daily[src_cumsum_daily.surface_measurement != 'Td_3m_c']\n",
    "src = src[src.surface_measurement != 'Tsurf_d']\n",
    "src = src[src.time < \"2023-05-12\"]\n",
    "src = src[src.most_config.isin([\n",
    "    \"MO Webb NoahMP\", \"MO Webb NoahMP andreas lengths\"\n",
    "])]\n",
    "# src = src[src.surface_measurement == 'Tsurf_c']\n",
    "\n",
    "alt.Chart(\n",
    "    src\n",
    ").mark_line().encode(\n",
    "    alt.X(\"time:T\"),\n",
    "    alt.Y(\"latent heat flux (mm):Q\"),\n",
    "    # alt.Y(\"min(latent heat flux (mm)):Q\"),\n",
    "    # alt.Y2(\"max(latent heat flux (mm)):Q\"),\n",
    "    alt.Row(\"e_sat_curve:N\"),\n",
    "    alt.StrokeDash(\"surface_measurement:N\"),\n",
    "    alt.Column(\"z0:N\"),\n",
    "    alt.Color(\"scheme:N\")\n",
    ").properties(width = 150, height = 150).display(renderer='svg')"
   ]
  },
  {
   "cell_type": "code",
   "execution_count": 31,
   "metadata": {},
   "outputs": [
    {
     "data": {
      "text/plain": [
       "<matplotlib.legend.Legend at 0x7f081a706e90>"
      ]
     },
     "execution_count": 31,
     "metadata": {},
     "output_type": "execute_result"
    },
    {
     "data": {
      "image/png": "[encoded data removed]",
      "text/plain": [
       "<Figure size 640x480 with 1 Axes>"
      ]
     },
     "metadata": {},
     "output_type": "display_data"
    }
   ],
   "source": [
    "import matplotlib.pyplot as plt\n",
    "wide_df.set_index(\"time\")['Tsurf_d'].plot(label = 'Tsurf_d')\n",
    "wide_df.set_index(\"time\")['Tsurf_c'].plot(label = 'Tsurf_c')\n",
    "plt.legend()"
   ]
  },
  {
   "cell_type": "markdown",
   "metadata": {},
   "source": [
    "## Scatterplots"
   ]
  },
  {
   "cell_type": "code",
   "execution_count": 32,
   "metadata": {},
   "outputs": [
    {
     "data": {
      "application/vnd.vegalite.v5+json": {
       "$schema": "https://vega.github.io/schema/vega-lite/v5.8.0.json",
       "config": {
        "view": {
         "continuousHeight": 300,
         "continuousWidth": 300
        }
       },
       "layer": [
        {
         "data": {
          "format": {
           "type": "json"
          },
          "url": "altair-data-844dbdf13f98b1f15fdec90187e451eb.json"
         },
         "encoding": {
          "color": {
           "field": "z0",
           "type": "nominal"
          },
          "x": {
           "field": "time",
           "type": "temporal"
          },
          "y": {
           "aggregate": "min",
           "field": "latent heat flux",
           "type": "quantitative"
          },
          "y2": {
           "aggregate": "max",
           "field": "latent heat flux"
          }
         },
         "mark": {
          "opacity": 0.5,
          "type": "area"
         }
        },
        {
         "data": {
          "format": {
           "type": "json"
          },
          "url": "altair-data-9ddb784010410a9cc13efe9f9bf63e70.json"
         },
         "encoding": {
          "x": {
           "field": "time",
           "type": "temporal"
          },
          "y": {
           "field": "value",
           "type": "quantitative"
          }
         },
         "mark": {
          "color": "black",
          "opacity": 0.5,
          "size": 10,
          "type": "point"
         }
        }
       ],
       "width": 600
      },
      "text/plain": [
       "<VegaLite 5 object>\n",
       "\n",
       "If you see this message, it means the renderer has not been properly enabled\n",
       "for the frontend that you are using. For more information, see\n",
       "https://altair-viz.github.io/user_guide/display_frontends.html#troubleshooting\n"
      ]
     },
     "execution_count": 32,
     "metadata": {},
     "output_type": "execute_result"
    }
   ],
   "source": [
    "src = model_df[model_df.e_sat_curve == 'alduchov']\n",
    "src = src[src.e_sat_curve == 'alduchov']\n",
    "src = src[src.surface_measurement == 'Tsurf_c']\n",
    "src = src[(src.time > \"2023-02-01\") & (src.time < \"2023-02-08\")]\n",
    "\n",
    "alt.Chart(src).mark_area(opacity=0.5).encode(\n",
    "    alt.X(\"time:T\"),\n",
    "    alt.Y(\"min(latent heat flux):Q\"),\n",
    "    alt.Y2(\"max(latent heat flux):Q\"),\n",
    "    alt.Color(\"z0:N\")\n",
    ").properties(width = 600) + \\\n",
    "alt.Chart(meas_src).mark_point(size=10, color='black', opacity=0.5).encode(\n",
    "    alt.X(\"time:T\"),\n",
    "    alt.Y(\"value:Q\")\n",
    ")"
   ]
  },
  {
   "cell_type": "code",
   "execution_count": 33,
   "metadata": {},
   "outputs": [
    {
     "data": {
      "text/plain": [
       "array(['MO Marks Dozier', 'MO Holtslag de Bruin', 'MO Webb NoahMP',\n",
       "       'MO Webb NoahMP andreas lengths', 'MO Beljaars Holtslag',\n",
       "       'MO Cheng Brutsaert', 'Standard', 'Louis b = 12'], dtype=object)"
      ]
     },
     "execution_count": 33,
     "metadata": {},
     "output_type": "execute_result"
    }
   ],
   "source": [
    "model_df.most_config.unique()"
   ]
  },
  {
   "cell_type": "code",
   "execution_count": 34,
   "metadata": {},
   "outputs": [
    {
     "data": {
      "application/vnd.vegalite.v5+json": {
       "$schema": "https://vega.github.io/schema/vega-lite/v5.8.0.json",
       "config": {
        "view": {
         "continuousHeight": 300,
         "continuousWidth": 300
        }
       },
       "layer": [
        {
         "data": {
          "format": {
           "type": "json"
          },
          "url": "altair-data-4d72e6e7b181e2aede1a265c5af49bc2.json"
         },
         "encoding": {
          "color": {
           "field": "e_sat_curve",
           "type": "nominal"
          },
          "x": {
           "field": "time",
           "type": "temporal"
          },
          "y": {
           "aggregate": "min",
           "field": "latent heat flux",
           "type": "quantitative"
          },
          "y2": {
           "aggregate": "max",
           "field": "latent heat flux"
          }
         },
         "mark": {
          "opacity": 0.5,
          "type": "area"
         }
        },
        {
         "data": {
          "format": {
           "type": "json"
          },
          "url": "altair-data-63bc0dc87ee4c70dfef8ddbbb4d15519.json"
         },
         "encoding": {
          "x": {
           "field": "time",
           "type": "temporal"
          },
          "y": {
           "field": "value",
           "type": "quantitative"
          }
         },
         "mark": {
          "color": "black",
          "opacity": 0.5,
          "size": 10,
          "type": "point"
         }
        }
       ]
      },
      "text/plain": [
       "<VegaLite 5 object>\n",
       "\n",
       "If you see this message, it means the renderer has not been properly enabled\n",
       "for the frontend that you are using. For more information, see\n",
       "https://altair-viz.github.io/user_guide/display_frontends.html#troubleshooting\n"
      ]
     },
     "metadata": {
      "application/vnd.vegalite.v5+json": {
       "embed_options": {
        "renderer": "svg"
       }
      }
     },
     "output_type": "display_data"
    }
   ],
   "source": [
    "src = model_df[model_df.surface_measurement == 'Tsurf_c']\n",
    "src = src[src.z0 < 0.001]\n",
    "\n",
    "src = src[src.most_config == 'MO Webb NoahMP andreas lengths']\n",
    "\n",
    "src = src[(src.time > \"2023-02-01\") & (src.time < \"2023-02-02\")]\n",
    "meas_src = measured_data[(measured_data.time > \"2023-02-01\") & (measured_data.time < \"2023-02-02\")]\n",
    "(\n",
    "alt.Chart(src).mark_area(opacity=0.5).encode(\n",
    "    alt.X(\"time:T\"),\n",
    "    alt.Y(\"min(latent heat flux):Q\"),\n",
    "    alt.Y2(\"max(latent heat flux):Q\"),\n",
    "    alt.Color(\"e_sat_curve:N\")\n",
    ").properties() + \\\n",
    "alt.Chart(meas_src).mark_point(size=10, color='black', opacity=0.5).encode(\n",
    "    alt.X(\"time:T\"),\n",
    "    alt.Y(\"value:Q\")\n",
    ")).display(renderer = 'svg')"
   ]
  },
  {
   "cell_type": "code",
   "execution_count": 35,
   "metadata": {},
   "outputs": [
    {
     "data": {
      "application/vnd.vegalite.v5+json": {
       "$schema": "https://vega.github.io/schema/vega-lite/v5.8.0.json",
       "config": {
        "legend": {
         "labelLimit": 1000
        },
        "view": {
         "continuousHeight": 300,
         "continuousWidth": 300
        }
       },
       "data": {
        "format": {
         "type": "json"
        },
        "url": "altair-data-d0f8196d23d5a72efee9fa297f5167d2.json"
       },
       "encoding": {
        "color": {
         "field": "config",
         "type": "nominal"
        },
        "strokeDash": {
         "field": "config",
         "type": "nominal"
        },
        "x": {
         "field": "time",
         "type": "temporal"
        },
        "y": {
         "aggregate": "median",
         "field": "latent heat flux",
         "type": "quantitative"
        }
       },
       "mark": {
        "type": "line"
       }
      },
      "text/plain": [
       "<VegaLite 5 object>\n",
       "\n",
       "If you see this message, it means the renderer has not been properly enabled\n",
       "for the frontend that you are using. For more information, see\n",
       "https://altair-viz.github.io/user_guide/display_frontends.html#troubleshooting\n"
      ]
     },
     "execution_count": 35,
     "metadata": {},
     "output_type": "execute_result"
    }
   ],
   "source": [
    "src = model_df[model_df.surface_measurement == 'Tsurf_c']\n",
    "src = src[src.z0 == 0.0001]\n",
    "src = src[src.most_config.str.contains('MO')]\n",
    "src = src[src.e_sat_curve == 'alduchov']\n",
    "\n",
    "src = src[(src.time > \"2023-02-01\") & (src.time < \"2023-02-02\")]\n",
    "meas_src = measured_data[(measured_data.time > \"2023-02-01\") & (measured_data.time < \"2023-02-02\")]\n",
    "# src = src[(src.time > \"2023-03-28\") & (src.time < \"2023-03-29\")]\n",
    "# meas_src = measured_data[(measured_data.time > \"2023-03-28\") & (measured_data.time < \"2023-03-29\")]\n",
    "\n",
    "# src = src[(src.time > \"2023-03-30\") & (src.time < \"2023-03-31\")]\n",
    "# meas_src = measured_data[(measured_data.time > \"2023-03-30\") & (measured_data.time < \"2023-03-31\")]\n",
    "# src = src[(src.time > \"2023-02-05\") & (src.time < \"2023-02-06\")]\n",
    "# meas_src = measured_data[(measured_data.time > \"2023-02-05\") & (measured_data.time < \"2023-02-06\")]   \n",
    "\n",
    "\n",
    "src = src[~src.most_config.str.contains('Cheng')]\n",
    "# src = src[~src.most_config.str.contains('MO')]\n",
    "\n",
    "alt.Chart(src).mark_line().encode(\n",
    "    alt.X(\"time:T\"),\n",
    "    alt.Y(\"median(latent heat flux):Q\"),\n",
    "    alt.Color(\"config:N\"),\n",
    "    alt.StrokeDash(\"config:N\"),\n",
    ").properties().configure_legend(labelLimit=1000)"
   ]
  },
  {
   "cell_type": "code",
   "execution_count": 36,
   "metadata": {},
   "outputs": [
    {
     "data": {
      "application/vnd.vegalite.v5+json": {
       "$schema": "https://vega.github.io/schema/vega-lite/v5.8.0.json",
       "config": {
        "view": {
         "continuousHeight": 300,
         "continuousWidth": 300
        }
       },
       "data": {
        "format": {
         "type": "json"
        },
        "url": "altair-data-880586c5e755acd72e4df81c714bd454.json"
       },
       "layer": [
        {
         "encoding": {
          "color": {
           "field": "e_sat_curve",
           "type": "nominal"
          },
          "x": {
           "field": "time",
           "type": "temporal"
          },
          "y": {
           "aggregate": "min",
           "field": "latent heat flux",
           "type": "quantitative"
          },
          "y2": {
           "aggregate": "max",
           "field": "latent heat flux"
          }
         },
         "mark": {
          "opacity": 0.5,
          "type": "area"
         }
        },
        {
         "encoding": {
          "color": {
           "field": "e_sat_curve",
           "type": "nominal"
          },
          "x": {
           "field": "time",
           "type": "temporal"
          },
          "y": {
           "aggregate": "median",
           "field": "latent heat flux",
           "type": "quantitative"
          }
         },
         "mark": {
          "type": "line"
         }
        },
        {
         "data": {
          "format": {
           "type": "json"
          },
          "url": "altair-data-d2dcbcfdc499f256441f9d76d75f4d01.json"
         },
         "encoding": {
          "x": {
           "field": "time",
           "type": "temporal"
          },
          "y": {
           "field": "value",
           "type": "quantitative"
          }
         },
         "mark": {
          "color": "black",
          "opacity": 0.5,
          "size": 10,
          "type": "point"
         }
        }
       ]
      },
      "text/plain": [
       "<VegaLite 5 object>\n",
       "\n",
       "If you see this message, it means the renderer has not been properly enabled\n",
       "for the frontend that you are using. For more information, see\n",
       "https://altair-viz.github.io/user_guide/display_frontends.html#troubleshooting\n"
      ]
     },
     "metadata": {
      "application/vnd.vegalite.v5+json": {
       "embed_options": {
        "renderer": "svg"
       }
      }
     },
     "output_type": "display_data"
    }
   ],
   "source": [
    "src = model_df[model_df.surface_measurement == 'Tsurf_c']\n",
    "src = src[src.z0 < 0.001]\n",
    "\n",
    "src = src[src.most_config.str.contains('MO')]\n",
    "src = src[~src.most_config.str.contains('andreas lengths')]\n",
    "\n",
    "# src = src[(src.time > \"2023-02-01\") & (src.time < \"2023-02-02\")]\n",
    "# meas_src = measured_data[(measured_data.time > \"2023-02-01\") & (measured_data.time < \"2023-02-02\")]\n",
    "# src = src[(src.time > \"2023-03-28\") & (src.time < \"2023-03-29\")]\n",
    "# meas_src = measured_data[(measured_data.time > \"2023-03-28\") & (measured_data.time < \"2023-03-29\")]\n",
    "\n",
    "# src = src[(src.time > \"2023-03-30\") & (src.time < \"2023-03-31\")]\n",
    "# meas_src = measured_data[(measured_data.time > \"2023-03-30\") & (measured_data.time < \"2023-03-31\")]\n",
    "src = src[(src.time > \"2023-02-05\") & (src.time < \"2023-02-06\")]\n",
    "meas_src = measured_data[(measured_data.time > \"2023-02-05\") & (measured_data.time < \"2023-02-06\")]   \n",
    "\n",
    "(\n",
    "alt.Chart(src).mark_area(opacity=0.5).encode(\n",
    "    alt.X(\"time:T\"),\n",
    "    alt.Y(\"min(latent heat flux):Q\"),\n",
    "    alt.Y2(\"max(latent heat flux):Q\"),\n",
    "    alt.Color(\"e_sat_curve:N\")\n",
    ").properties() + \\\n",
    "alt.Chart(src).mark_line().encode(\n",
    "    alt.X(\"time:T\"),\n",
    "    alt.Y(\"median(latent heat flux):Q\"),\n",
    "    alt.Color(\"e_sat_curve:N\")\n",
    ").properties() + \\\n",
    "alt.Chart(meas_src).mark_point(size=10, color='black', opacity=0.5).encode(\n",
    "    alt.X(\"time:T\"),\n",
    "    alt.Y(\"value:Q\")\n",
    ")).display(renderer = 'svg')"
   ]
  },
  {
   "cell_type": "code",
   "execution_count": 37,
   "metadata": {},
   "outputs": [
    {
     "data": {
      "application/vnd.vegalite.v5+json": {
       "$schema": "https://vega.github.io/schema/vega-lite/v5.8.0.json",
       "config": {
        "view": {
         "continuousHeight": 300,
         "continuousWidth": 300
        }
       },
       "data": {
        "format": {
         "type": "json"
        },
        "url": "altair-data-414769f175c1a710a6d27f7557bfbe5c.json"
       },
       "layer": [
        {
         "encoding": {
          "color": {
           "field": "e_sat_curve",
           "type": "nominal"
          },
          "x": {
           "field": "time",
           "type": "temporal"
          },
          "y": {
           "aggregate": "min",
           "field": "latent heat flux",
           "type": "quantitative"
          },
          "y2": {
           "aggregate": "max",
           "field": "latent heat flux"
          }
         },
         "mark": {
          "opacity": 0.5,
          "type": "area"
         }
        },
        {
         "encoding": {
          "color": {
           "field": "e_sat_curve",
           "type": "nominal"
          },
          "x": {
           "field": "time",
           "type": "temporal"
          },
          "y": {
           "aggregate": "median",
           "field": "latent heat flux",
           "type": "quantitative"
          }
         },
         "mark": {
          "type": "line"
         }
        },
        {
         "data": {
          "format": {
           "type": "json"
          },
          "url": "altair-data-c63bd244a75a06e430028eeef3c6b079.json"
         },
         "encoding": {
          "x": {
           "field": "time",
           "type": "temporal"
          },
          "y": {
           "field": "value",
           "type": "quantitative"
          }
         },
         "mark": {
          "color": "black",
          "opacity": 0.5,
          "size": 10,
          "type": "point"
         }
        }
       ],
       "width": 600
      },
      "text/plain": [
       "<VegaLite 5 object>\n",
       "\n",
       "If you see this message, it means the renderer has not been properly enabled\n",
       "for the frontend that you are using. For more information, see\n",
       "https://altair-viz.github.io/user_guide/display_frontends.html#troubleshooting\n"
      ]
     },
     "execution_count": 37,
     "metadata": {},
     "output_type": "execute_result"
    }
   ],
   "source": [
    "src = model_df[model_df.surface_measurement == 'Tsurf_c']\n",
    "src = src[src.z0 < 0.001]\n",
    "src = src[src.most_config.str.contains(\"andreas lengths\")]\n",
    "src = src[(src.time > \"2023-02-02\") & (src.time < \"2023-02-06\")]\n",
    "meas_src = measured_data[(measured_data.time > \"2023-02-02\") & (measured_data.time < \"2023-02-06\")]\n",
    "\n",
    "alt.Chart(src).mark_area(opacity=0.5).encode(\n",
    "    alt.X(\"time:T\"),\n",
    "    alt.Y(\"min(latent heat flux):Q\"),\n",
    "    alt.Y2(\"max(latent heat flux):Q\"),\n",
    "    alt.Color(\"e_sat_curve:N\")\n",
    ").properties(width = 600) + \\\n",
    "alt.Chart(src).mark_line().encode(\n",
    "    alt.X(\"time:T\"),\n",
    "    alt.Y(\"median(latent heat flux):Q\"),\n",
    "    alt.Color(\"e_sat_curve:N\")\n",
    ") + \\\n",
    "alt.Chart(meas_src).mark_point(size=10, color='black', opacity=0.5).encode(\n",
    "    alt.X(\"time:T\"),\n",
    "    alt.Y(\"value:Q\")\n",
    ")"
   ]
  },
  {
   "cell_type": "code",
   "execution_count": 38,
   "metadata": {},
   "outputs": [
    {
     "data": {
      "application/vnd.vegalite.v5+json": {
       "$schema": "https://vega.github.io/schema/vega-lite/v5.8.0.json",
       "config": {
        "axis": {
         "grid": false
        },
        "view": {
         "continuousHeight": 300,
         "continuousWidth": 300
        }
       },
       "data": {
        "format": {
         "type": "json"
        },
        "url": "altair-data-d0a0b9b30e3bc33b50bf13b2cd625a20.json"
       },
       "encoding": {
        "color": {
         "field": "e_sat_curve",
         "type": "nominal"
        },
        "x": {
         "field": "time",
         "type": "temporal"
        },
        "y": {
         "aggregate": "median",
         "field": "latent heat flux",
         "type": "quantitative"
        }
       },
       "mark": {
        "strokeWidth": 0.5,
        "type": "line"
       },
       "width": 1000
      },
      "text/plain": [
       "<VegaLite 5 object>\n",
       "\n",
       "If you see this message, it means the renderer has not been properly enabled\n",
       "for the frontend that you are using. For more information, see\n",
       "https://altair-viz.github.io/user_guide/display_frontends.html#troubleshooting\n"
      ]
     },
     "execution_count": 38,
     "metadata": {},
     "output_type": "execute_result"
    }
   ],
   "source": [
    "src = model_df[model_df.surface_measurement == 'Tsurf_c']\n",
    "src = src[src.z0 < 0.001]\n",
    "src = src[src.most_config.str.contains(\"andreas lengths\")]\n",
    "src = src[(src.time > \"2023-01-01\") & (src.time < \"2023-02-01\")]\n",
    "meas_src = measured_data[(measured_data.time > \"2023-01-01\") & (measured_data.time < \"2023-02-01\")]\n",
    "alt.Chart(src).mark_line(strokeWidth=0.5).encode(\n",
    "    alt.X(\"time:T\"),\n",
    "    alt.Y(\"median(latent heat flux):Q\"),\n",
    "    alt.Color(\"e_sat_curve:N\")\n",
    ").properties(width = 1000).configure_axis(grid=False)"
   ]
  },
  {
   "cell_type": "code",
   "execution_count": 39,
   "metadata": {},
   "outputs": [
    {
     "data": {
      "application/vnd.vegalite.v5+json": {
       "$schema": "https://vega.github.io/schema/vega-lite/v5.8.0.json",
       "config": {
        "view": {
         "continuousHeight": 300,
         "continuousWidth": 300
        }
       },
       "layer": [
        {
         "data": {
          "format": {
           "type": "json"
          },
          "url": "altair-data-7cf8d49fb78b388d2e7f6a859a8a5748.json"
         },
         "encoding": {
          "color": {
           "field": "most_config",
           "type": "nominal"
          },
          "x": {
           "field": "time",
           "type": "temporal"
          },
          "y": {
           "aggregate": "min",
           "field": "latent heat flux",
           "type": "quantitative"
          },
          "y2": {
           "aggregate": "max",
           "field": "latent heat flux"
          }
         },
         "mark": {
          "opacity": 0.5,
          "type": "area"
         }
        },
        {
         "data": {
          "format": {
           "type": "json"
          },
          "url": "altair-data-706d1100138772435ce88ec6169f93ed.json"
         },
         "encoding": {
          "x": {
           "field": "time",
           "type": "temporal"
          },
          "y": {
           "field": "value",
           "type": "quantitative"
          }
         },
         "mark": {
          "color": "black",
          "opacity": 0.5,
          "size": 10,
          "type": "point"
         }
        }
       ],
       "width": 600
      },
      "text/plain": [
       "<VegaLite 5 object>\n",
       "\n",
       "If you see this message, it means the renderer has not been properly enabled\n",
       "for the frontend that you are using. For more information, see\n",
       "https://altair-viz.github.io/user_guide/display_frontends.html#troubleshooting\n"
      ]
     },
     "metadata": {
      "application/vnd.vegalite.v5+json": {
       "embed_options": {
        "renderer": "svg"
       }
      }
     },
     "output_type": "display_data"
    }
   ],
   "source": [
    "src = model_df[model_df.surface_measurement == 'Tsurf_c']\n",
    "src = src[src.z0 < 0.001]\n",
    "\n",
    "src = src[(src.time > \"2023-03-28\") & (src.time < \"2023-04-01\")]\n",
    "src = src[src.most_config.str.contains(\"MO Webb NoahMP\")]\n",
    "meas_src = measured_data[(measured_data.time > \"2023-03-28\") & (measured_data.time < \"2023-04-01\")]\n",
    "\n",
    "(alt.Chart(src).mark_area(opacity=0.5).encode(\n",
    "    alt.X(\"time:T\"),\n",
    "    alt.Y(\"min(latent heat flux):Q\"),\n",
    "    alt.Y2(\"max(latent heat flux):Q\"),\n",
    "    alt.Color(\"most_config:N\")\n",
    ").properties(width = 600) + \\\n",
    "alt.Chart(meas_src).mark_point(size=10, color='black', opacity=0.5).encode(\n",
    "    alt.X(\"time:T\"),\n",
    "    alt.Y(\"value:Q\")\n",
    ")).display(renderer='svg')"
   ]
  },
  {
   "cell_type": "code",
   "execution_count": 40,
   "metadata": {},
   "outputs": [
    {
     "data": {
      "application/vnd.vegalite.v5+json": {
       "$schema": "https://vega.github.io/schema/vega-lite/v5.8.0.json",
       "config": {
        "view": {
         "continuousHeight": 300,
         "continuousWidth": 300
        }
       },
       "layer": [
        {
         "data": {
          "format": {
           "type": "json"
          },
          "url": "altair-data-6d0f8cb1fe0a581fb628ee0a00b90bf3.json"
         },
         "encoding": {
          "color": {
           "field": "most_config",
           "type": "nominal"
          },
          "x": {
           "field": "time",
           "type": "temporal"
          },
          "y": {
           "aggregate": "min",
           "field": "latent heat flux",
           "type": "quantitative"
          },
          "y2": {
           "aggregate": "max",
           "field": "latent heat flux"
          }
         },
         "mark": {
          "opacity": 0.5,
          "type": "area"
         }
        },
        {
         "data": {
          "format": {
           "type": "json"
          },
          "url": "altair-data-706d1100138772435ce88ec6169f93ed.json"
         },
         "encoding": {
          "x": {
           "field": "time",
           "type": "temporal"
          },
          "y": {
           "field": "value",
           "type": "quantitative"
          }
         },
         "mark": {
          "color": "black",
          "opacity": 0.5,
          "size": 10,
          "type": "point"
         }
        }
       ],
       "width": 600
      },
      "text/plain": [
       "<VegaLite 5 object>\n",
       "\n",
       "If you see this message, it means the renderer has not been properly enabled\n",
       "for the frontend that you are using. For more information, see\n",
       "https://altair-viz.github.io/user_guide/display_frontends.html#troubleshooting\n"
      ]
     },
     "metadata": {
      "application/vnd.vegalite.v5+json": {
       "embed_options": {
        "renderer": "svg"
       }
      }
     },
     "output_type": "display_data"
    }
   ],
   "source": [
    "src = model_df[model_df.surface_measurement == 'Tsurf_c']\n",
    "src = src[src.z0 < 0.001]\n",
    "\n",
    "src = src[(src.time > \"2023-03-28\") & (src.time < \"2023-04-01\")]\n",
    "src = src[src.most_config.str.contains(\"andreas lengths\")]\n",
    "meas_src = measured_data[(measured_data.time > \"2023-03-28\") & (measured_data.time < \"2023-04-01\")]\n",
    "\n",
    "(alt.Chart(src).mark_area(opacity=0.5).encode(\n",
    "    alt.X(\"time:T\"),\n",
    "    alt.Y(\"min(latent heat flux):Q\"),\n",
    "    alt.Y2(\"max(latent heat flux):Q\"),\n",
    "    alt.Color(\"most_config:N\")\n",
    ").properties(width = 600) + \\\n",
    "alt.Chart(meas_src).mark_point(size=10, color='black', opacity=0.5).encode(\n",
    "    alt.X(\"time:T\"),\n",
    "    alt.Y(\"value:Q\")\n",
    ")).display(renderer='svg')"
   ]
  },
  {
   "cell_type": "code",
   "execution_count": 41,
   "metadata": {},
   "outputs": [
    {
     "data": {
      "text/plain": [
       "array(['MO Webb NoahMP andreas lengths Tsurf_c e_sat_metpy 0.0001',\n",
       "       'MO Webb NoahMP andreas lengths Tsurf_c e_sat_alduchov 0.0001',\n",
       "       'MO Webb NoahMP andreas lengths Tsurf_c e_sat_metpy 0.0005',\n",
       "       'MO Webb NoahMP andreas lengths Tsurf_c e_sat_alduchov 0.0005'],\n",
       "      dtype=object)"
      ]
     },
     "execution_count": 41,
     "metadata": {},
     "output_type": "execute_result"
    }
   ],
   "source": [
    "src.config.unique()"
   ]
  },
  {
   "cell_type": "code",
   "execution_count": 53,
   "metadata": {},
   "outputs": [
    {
     "data": {
      "application/vnd.vegalite.v5+json": {
       "$schema": "https://vega.github.io/schema/vega-lite/v5.8.0.json",
       "config": {
        "view": {
         "continuousHeight": 300,
         "continuousWidth": 300
        }
       },
       "layer": [
        {
         "data": {
          "format": {
           "type": "json"
          },
          "url": "altair-data-2bc3732bbe2725d3d4d45b5532e69c7d.json"
         },
         "encoding": {
          "color": {
           "field": "e_sat_curve",
           "type": "nominal"
          },
          "x": {
           "field": "time",
           "type": "temporal"
          },
          "y": {
           "field": "latent heat flux",
           "type": "quantitative"
          }
         },
         "mark": {
          "type": "line"
         }
        },
        {
         "data": {
          "format": {
           "type": "json"
          },
          "url": "altair-data-e3018b0e52f6cea4b44885c43c603a44.json"
         },
         "encoding": {
          "x": {
           "field": "time",
           "type": "temporal"
          },
          "y": {
           "field": "value",
           "type": "quantitative"
          }
         },
         "mark": {
          "color": "black",
          "opacity": 0.5,
          "size": 10,
          "type": "point"
         }
        }
       ],
       "width": 600
      },
      "text/plain": [
       "<VegaLite 5 object>\n",
       "\n",
       "If you see this message, it means the renderer has not been properly enabled\n",
       "for the frontend that you are using. For more information, see\n",
       "https://altair-viz.github.io/user_guide/display_frontends.html#troubleshooting\n"
      ]
     },
     "execution_count": 53,
     "metadata": {},
     "output_type": "execute_result"
    }
   ],
   "source": [
    "src = model_df[model_df.config.isin([\n",
    "    'MO Webb NoahMP Tsurf_c e_sat_metpy 0.0001',\n",
    "    'MO Webb NoahMP Tsurf_c e_sat_alduchov 0.0001',\n",
    "])]\n",
    "src = src[(src.time > \"2023-02-01\") & (src.time < \"2023-02-08\")]\n",
    "\n",
    "meas_src = measured_data[(measured_data.time > \"2023-02-01\") & (measured_data.time < \"2023-02-08\")]\n",
    "\n",
    "alt.Chart(src).mark_line().encode(\n",
    "    alt.X(\"time:T\"),\n",
    "    alt.Y(\"latent heat flux:Q\"),\n",
    "    alt.Color(\"e_sat_curve:N\")\n",
    ").properties(width = 600) + \\\n",
    "alt.Chart(meas_src).mark_point(size=10, color='black', opacity=0.5).encode(\n",
    "    alt.X(\"time:T\"),\n",
    "    alt.Y(\"value:Q\")\n",
    ")"
   ]
  },
  {
   "cell_type": "code",
   "execution_count": 54,
   "metadata": {},
   "outputs": [
    {
     "data": {
      "text/plain": [
       "(-0.005, 0.03)"
      ]
     },
     "execution_count": 54,
     "metadata": {},
     "output_type": "execute_result"
    },
    {
     "data": {
      "image/png": "[encoded data removed]",
      "text/plain": [
       "<Figure size 600x600 with 1 Axes>"
      ]
     },
     "metadata": {},
     "output_type": "display_data"
    }
   ],
   "source": [
    "xxx = meas_src.set_index(\"time\")[['value']].merge(src.set_index(\"time\")[['latent heat flux']], on='time')\n",
    "plt.figure(figsize=(6,6))\n",
    "plt.scatter(xxx['value'], xxx['latent heat flux'], s=5, alpha=0.5)\n",
    "plt.xlim(-0.005, 0.03)\n",
    "plt.ylim(-0.005, 0.03)"
   ]
  },
  {
   "cell_type": "code",
   "execution_count": 7,
   "metadata": {},
   "outputs": [
    {
     "data": {
      "application/vnd.vegalite.v5+json": {
       "$schema": "https://vega.github.io/schema/vega-lite/v5.8.0.json",
       "config": {
        "legend": {
         "orient": "top"
        },
        "view": {
         "continuousHeight": 300,
         "continuousWidth": 300
        }
       },
       "data": {
        "format": {
         "type": "json"
        },
        "url": "altair-data-802b7f6672dbdcf78a206a81f170c9de.json"
       },
       "encoding": {
        "color": {
         "field": "key",
         "title": "Surface temp. sensor",
         "type": "nominal"
        },
        "x": {
         "field": "time",
         "type": "temporal"
        },
        "y": {
         "field": "value",
         "title": "Surface Temperature (˚C)",
         "type": "quantitative"
        }
       },
       "height": 200,
       "mark": {
        "type": "line"
       },
       "title": "Surface temperature measurements February 1 - 7, 2023",
       "transform": [
        {
         "fold": [
          "Tsurf_c",
          "Tsurf_d",
          "Tsurf_rad_d"
         ]
        }
       ],
       "width": 400
      },
      "text/plain": [
       "<VegaLite 5 object>\n",
       "\n",
       "If you see this message, it means the renderer has not been properly enabled\n",
       "for the frontend that you are using. For more information, see\n",
       "https://altair-viz.github.io/user_guide/display_frontends.html#troubleshooting\n"
      ]
     },
     "metadata": {
      "application/vnd.vegalite.v5+json": {
       "embed_options": {
        "renderer": "svg"
       }
      }
     },
     "output_type": "display_data"
    }
   ],
   "source": [
    "src = wide_df[(wide_df.time > \"2023-02-01\") & (wide_df.time < \"2023-02-08\")][[\n",
    "    'time',\n",
    "    'Tsurf_c',\n",
    "    'Tsurf_d',\n",
    "    'Tsurf_rad_d'\n",
    "]]\n",
    "alt.Chart(src).mark_line().transform_fold([\n",
    "    'Tsurf_c',\n",
    "    'Tsurf_d',\n",
    "    'Tsurf_rad_d'\n",
    "]).encode(\n",
    "    alt.X(\"time:T\"),\n",
    "    alt.Y(\"value:Q\").title(\"Surface Temperature (˚C)\"),\n",
    "    alt.Color(\"key:N\").title(\"Surface temp. sensor\")\n",
    ").properties(\n",
    "    width = 400, \n",
    "    height = 200,\n",
    "    title = 'Surface temperature measurements February 1 - 7, 2023'\n",
    ").configure_legend(orient = 'top').display(renderer = 'svg')"
   ]
  }
 ],
 "metadata": {
  "kernelspec": {
   "display_name": "arm",
   "language": "python",
   "name": "python3"
  },
  "language_info": {
   "codemirror_mode": {
    "name": "ipython",
    "version": 3
   },
   "file_extension": ".py",
   "mimetype": "text/x-python",
   "name": "python",
   "nbconvert_exporter": "python",
   "pygments_lexer": "ipython3",
   "version": "3.11.0"
  },
  "orig_nbformat": 4
 },
 "nbformat": 4,
 "nbformat_minor": 2
}
