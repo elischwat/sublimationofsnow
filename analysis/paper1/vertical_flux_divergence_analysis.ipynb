{
 "cells": [
  {
   "cell_type": "code",
   "execution_count": 1,
   "metadata": {},
   "outputs": [],
   "source": [
    "import numpy as np\n",
    "import pandas as pd\n",
    "import matplotlib.pyplot as plt\n",
    "import altair as alt\n",
    "alt.data_transformers.enable('json')\n",
    "alt.renderers.enable('jupyterlab')\n",
    "from sublimpy import tidy, utils\n",
    "import pytz\n",
    "import datetime as dt\n",
    "\n",
    "seconds_in_timestep = 60*30\n",
    "from metpy.constants import density_water\n",
    "\n",
    "from metpy.units import units\n",
    "import pint_pandas\n",
    "from metpy import constants\n",
    "from sublimpy import extrautils\n",
    "import swifter\n",
    "from metpy import calc\n",
    "from metpy import units"
   ]
  },
  {
   "cell_type": "markdown",
   "metadata": {},
   "source": [
    "# Open SOS Measurement Dataset"
   ]
  },
  {
   "cell_type": "code",
   "execution_count": 2,
   "metadata": {},
   "outputs": [
    {
     "name": "stdout",
     "output_type": "stream",
     "text": [
      "-rw-r--r--    1 elischwat  staff    57M Oct 15 11:15 tidy_df_20221101_20230619_noplanar_fit.parquet\n",
      "-rw-r--r--    1 elischwat  staff    57M Oct 15 11:15 tidy_df_20221101_20230619_planar_fit_multiplane.parquet\n",
      "-rw-r--r--    1 elischwat  staff    91M Oct 15 12:16 tidy_df_20221101_20230619_planar_fit_multiplane_STRAIGHTUP_q7_flags9000.parquet\n"
     ]
    }
   ],
   "source": [
    "ls -lah | grep parquet"
   ]
  },
  {
   "cell_type": "code",
   "execution_count": 3,
   "metadata": {},
   "outputs": [],
   "source": [
    "start_date = '20221101'\n",
    "end_date = '20230619'\n",
    "# open files\n",
    "tidy_df = pd.read_parquet(f'tidy_df_20221101_20230619_planar_fit_multiplane_STRAIGHTUP_q7_flags9000.parquet')\n",
    "\n",
    "\n",
    "# tidy_df = pd.read_parquet(f\"tidy_df_10min.parquet\")\n",
    "\n",
    "# convert time column to datetime\n",
    "tidy_df = utils.modify_df_timezone(tidy_df, pytz.UTC, 'US/Mountain')\n",
    "# limit data to our dates of interest, based on continuous snow cover at Kettle Ponds\n",
    "\n",
    "# ## Add combined blowing snow flux variable\n",
    "# tidy_df = tidy.tidy_df_add_variable(\n",
    "#     tidy_df,\n",
    "#     (\n",
    "#         tidy_df.query(\"variable == 'SF_avg_1m_ue'\")['value'].values + \n",
    "#         tidy_df.query(\"variable == 'SF_avg_2m_ue'\")['value'].values\n",
    "#     ), \n",
    "#     'SF_avg_ue',\n",
    "#     'snow flux',\n",
    "#     1,\n",
    "#     'ue',\n",
    "# )"
   ]
  },
  {
   "cell_type": "code",
   "execution_count": 4,
   "metadata": {},
   "outputs": [
    {
     "data": {
      "text/plain": [
       "(Timestamp('2022-11-30 00:00:00'), Timestamp('2023-05-08 23:30:00'))"
      ]
     },
     "execution_count": 4,
     "metadata": {},
     "output_type": "execute_result"
    }
   ],
   "source": [
    "tidy_df.time.min(), tidy_df.time.max()"
   ]
  },
  {
   "cell_type": "markdown",
   "metadata": {},
   "source": [
    "# Create streamwise dataset"
   ]
  },
  {
   "cell_type": "code",
   "execution_count": 5,
   "metadata": {},
   "outputs": [
    {
     "data": {
      "application/vnd.jupyter.widget-view+json": {
       "model_id": "9ef6b53fb1ce468f9ec14fa4763b4fa9",
       "version_major": 2,
       "version_minor": 0
      },
      "text/plain": [
       "  0%|          | 0/22 [00:00<?, ?it/s]"
      ]
     },
     "metadata": {},
     "output_type": "display_data"
    },
    {
     "name": "stderr",
     "output_type": "stream",
     "text": [
      "2024-10-17 10:59:08,605\tINFO worker.py:1781 -- Started a local Ray instance.\n",
      "\u001b[36m(raylet)\u001b[0m Spilled 2314 MiB, 19 objects, write throughput 2204 MiB/s. Set RAY_verbose_spill_logs=0 to disable this message.\n",
      "\u001b[36m(raylet)\u001b[0m Spilled 4346 MiB, 34 objects, write throughput 2441 MiB/s.\n"
     ]
    }
   ],
   "source": [
    "tidy_df_streamwise = tidy_df.swifter.groupby('time').apply(extrautils.streamwise_coordinates_single_rotation_tidy_df)\n",
    "tidy_df_streamwise = tidy_df_streamwise.reset_index(drop=True)\n",
    "\n",
    "# tidy_df_streamwise = extrautils.streamwise_coordinates_single_rotation_tidy_df(tidy_df)"
   ]
  },
  {
   "cell_type": "markdown",
   "metadata": {},
   "source": [
    "# Identify categories"
   ]
  },
  {
   "cell_type": "code",
   "execution_count": 6,
   "metadata": {},
   "outputs": [],
   "source": [
    "# Identify lists of timestamps for different categories\n",
    "bs_times = set(\n",
    "    tidy_df.query(\"variable == 'SF_avg_1m_ue'\").query(\"value > 0\").time\n",
    ").union(\n",
    "    set(tidy_df.query(\"variable == 'SF_avg_2m_ue'\").query(\"value > 0\").time)\n",
    ")\n",
    "nobs_times = set(tidy_df.time).difference(bs_times)\n",
    "\n",
    "decoupled_times = tidy_df.query(\"variable == 'omega_3m_c'\").query(\"value < 0.43\").time\n",
    "weaklycoupled_times = tidy_df.query(\"variable == 'omega_3m_c'\").query(\"value >= 0.43\").query(\"value <= 0.61\").time\n",
    "coupled_times = tidy_df.query(\"variable == 'omega_3m_c'\").query(\"value > 0.61\").time\n",
    "\n",
    "ri_stable_times = tidy_df.query(\"variable == 'Ri_3m_c'\").query(\"value > 0.25\").time\n",
    "ri_unstable_times = tidy_df.query(\"variable == 'Ri_3m_c'\").query(\"value < -0.01\").time\n",
    "ri_neutral_times = tidy_df.query(\"variable == 'Ri_3m_c'\").query(\"value >= -0.01\").query(\"value <= 0.25\").time\n",
    "\n",
    "tgrad_stable_times = tidy_df.query(\"variable == 'temp_gradient_3m_c'\").query(\"value > 0.01\").time\n",
    "tgrad_unstable_times = tidy_df.query(\"variable == 'temp_gradient_3m_c'\").query(\"value < -0.01\").time\n",
    "tgrad_neutral_times = tidy_df.query(\"variable == 'temp_gradient_3m_c'\").query(\"value >= -0.01\").query(\"value <= 0.01\").time\n",
    "\n",
    "upvalley_wind_times = tidy_df[tidy_df.variable == 'dir_3m_c'].query(\"value < 152\").query(\"value > 92\").time.values\n",
    "downvalley_wind_times = tidy_df[tidy_df.variable == 'dir_3m_c'].query(\"value < 342\").query(\"value > 292\").time.values"
   ]
  },
  {
   "cell_type": "code",
   "execution_count": 7,
   "metadata": {},
   "outputs": [],
   "source": [
    "w_h2o__vars = [\n",
    "    'w_h2o__1m_ue',\n",
    "    'w_h2o__2m_ue',\n",
    "    'w_h2o__2m_d',\n",
    "    'w_h2o__10m_d',\n",
    "    'w_h2o__3m_d',\n",
    "    'w_h2o__10m_uw',\n",
    "    'w_h2o__3m_uw',\n",
    "    'w_h2o__10m_ue',\n",
    "    'w_h2o__3m_ue',\n",
    "    'w_h2o__15m_c',\n",
    "    'w_h2o__10m_c',\n",
    "    'w_h2o__5m_c',\n",
    "    'w_h2o__3m_c',\n",
    "    'w_h2o__2m_c',\n",
    "    'w_h2o__2m_uw',\n",
    "    'w_h2o__20m_c',\n",
    "    'w_h2o__2_5m_uw',\n",
    "    'w_h2o__1m_uw',\n",
    "    'w_h2o__1m_c',\n",
    "    'w_h2o__1m_d'\n",
    "]\n",
    "\n",
    "w_tc__vars = [\n",
    "    'w_tc__1m_ue',\n",
    "    'w_tc__2m_ue',\n",
    "    'w_tc__2m_d',\n",
    "    'w_tc__10m_d',\n",
    "    'w_tc__3m_d',\n",
    "    'w_tc__10m_uw',\n",
    "    'w_tc__3m_uw',\n",
    "    'w_tc__10m_ue',\n",
    "    'w_tc__3m_ue',\n",
    "    'w_tc__15m_c',\n",
    "    'w_tc__10m_c',\n",
    "    'w_tc__5m_c',\n",
    "    'w_tc__3m_c',\n",
    "    'w_tc__2m_c',\n",
    "    'w_tc__2m_uw',\n",
    "    'w_tc__20m_c',\n",
    "    'w_tc__2_5m_uw',\n",
    "    'w_tc__1m_uw',\n",
    "    'w_tc__1m_c',\n",
    "    'w_tc__1m_d'\n",
    "]"
   ]
  },
  {
   "cell_type": "code",
   "execution_count": 8,
   "metadata": {},
   "outputs": [],
   "source": [
    "w_h2o__measurements_df = tidy_df_streamwise[tidy_df_streamwise.variable.isin(w_h2o__vars)]\n",
    "ustar_measurements_df = tidy_df_streamwise[tidy_df_streamwise.measurement == 'shear velocity']\n",
    "w_tc__measurements_df = tidy_df_streamwise[tidy_df_streamwise.variable.isin(w_tc__vars)]\n",
    "u_h2o__measurements_df = tidy_df_streamwise[tidy_df_streamwise.measurement == 'u_h2o_']\n",
    "v_h2o__measurements_df = tidy_df_streamwise[tidy_df_streamwise.measurement == 'v_h2o_']\n",
    "u_w__measurements_df = tidy_df_streamwise[tidy_df_streamwise.measurement == 'u_w_']\n",
    "v_w__measurements_df = tidy_df_streamwise[tidy_df_streamwise.measurement == 'v_w_']\n",
    "\n",
    "w_measurements_df = tidy_df_streamwise[tidy_df_streamwise.measurement == 'w']\n",
    "u_measurements_df = tidy_df_streamwise[tidy_df_streamwise.measurement == 'u']\n",
    "\n",
    "v_measurements_df = tidy_df_streamwise[tidy_df_streamwise.measurement == 'v']\n",
    "q_measurements_df = tidy_df_streamwise[tidy_df_streamwise.measurement == 'specific humidity']\n",
    "tke_measurements_df = tidy_df_streamwise[tidy_df_streamwise.measurement  == 'turbulent kinetic energy']\n",
    "w_w__measurements_df = tidy_df_streamwise[tidy_df_streamwise.measurement  == 'w_w_']\n",
    "\n",
    "spd_measurements_df = tidy_df_streamwise[tidy_df_streamwise.measurement  == 'wind speed']"
   ]
  },
  {
   "cell_type": "markdown",
   "metadata": {},
   "source": [
    "# Define functions for plotting profiles"
   ]
  },
  {
   "cell_type": "code",
   "execution_count": 9,
   "metadata": {},
   "outputs": [],
   "source": [
    "def profile_chart(df, title, x_title):\n",
    "    return (\n",
    "        alt.Chart(df).mark_line().encode(\n",
    "            alt.X(\"median(value):Q\").sort('-y').title(x_title),\n",
    "            alt.Y(\"height:Q\").scale(zero=True).title(\"Height (m)\"),\n",
    "            alt.Color(\"tower:N\")\n",
    "        ).properties(title=[title, f\"(n = {len(df.time.unique())})\"], width=100, height=100)\n",
    "    )\n",
    "\n",
    "def lhflux_profile_chart(df, title):\n",
    "    return (\n",
    "        alt.Chart(df).transform_aggregate(\n",
    "            median = \"median(value)\",\n",
    "            groupby=['height', 'tower']\n",
    "        ).transform_calculate(\n",
    "            low_bound = 'datum.median - 0.2*datum.median',\n",
    "            up_bound = 'datum.median + 0.2*datum.median'\n",
    "        ).mark_area(opacity=0.25).encode(\n",
    "            alt.X(\"low_bound:Q\").title(\"\"),\n",
    "            alt.X2(\"up_bound:Q\"),\n",
    "            alt.Y(\"height:Q\").scale(zero=True).title(\"Height (m)\"),\n",
    "            alt.Color(\"tower:N\")\n",
    "        )\n",
    "        +\n",
    "        alt.Chart(df).mark_line().encode(\n",
    "            alt.X(\"median(value):Q\").sort('-y').title(\"<w'q'> (g/m^2/s)\"),\n",
    "            alt.Y(\"height:Q\").scale(zero=True).title(\"Height (m)\"),\n",
    "            alt.Color(\"tower:N\")\n",
    "        ).properties(title=[title, f\"(n = {len(df.time.unique())})\"], width=150, height=150)\n",
    "    )\n",
    "\n",
    "def lhflux_profile_chart_split_conditions(df, title, x_title=\"<w'q'> (g/m^2/s)\", color_encoding=alt.Color(f\"conditions:N\")):\n",
    "    n_bs = len(df[df.conditions == 'BS'].time.unique())\n",
    "    n_nobs = len(df[df.conditions == 'No BS'].time.unique())\n",
    "    return (\n",
    "        alt.Chart(df).transform_aggregate(\n",
    "            median = \"median(value)\",\n",
    "            groupby=['height', 'tower', 'conditions']\n",
    "        ).transform_calculate(\n",
    "            low_bound = 'datum.median - 0.2*datum.median',\n",
    "            up_bound = 'datum.median + 0.2*datum.median'\n",
    "        ).mark_area(opacity=0.25).encode(\n",
    "            alt.X(\"low_bound:Q\").title(\"\"),\n",
    "            alt.X2(\"up_bound:Q\"),\n",
    "            alt.Y(\"height:Q\").scale(zero=True).title('Height (m)'),\n",
    "            color_encoding\n",
    "        )\n",
    "        +\n",
    "        alt.Chart(df).mark_line(point=True).encode(\n",
    "            alt.X(\"median(value):Q\").sort('-y').title(x_title),\n",
    "            alt.Y(\"height:Q\").scale(zero=True),\n",
    "            color_encoding\n",
    "        ).properties(\n",
    "            title=[\n",
    "                title, \n",
    "                # f\"(n = {n_bs} BS, {n_nobs} No BS)\"\n",
    "                   ], \n",
    "            width=150, \n",
    "            height=150\n",
    "        )\n",
    "    )\n",
    "\n",
    "def lhflux_profile_chart_split_conditions_noerror(df, title, x_title=\"<w'q'> (g/m^2/s)\", color_encoding=alt.Color(f\"conditions:N\")):\n",
    "    n_bs = len(df[df.conditions == 'BS'].time.unique())\n",
    "    n_nobs = len(df[df.conditions == 'No BS'].time.unique())\n",
    "    return alt.Chart(df).mark_line(point=True).encode(\n",
    "            alt.X(\"median(value):Q\").sort('-y').title(x_title),\n",
    "            alt.Y(\"height:Q\").scale(zero=True),\n",
    "            color_encoding\n",
    "        ).properties(title=[title, f\"(n = {n_bs} BS, {n_nobs} No BS)\"], width=150, height=150)\n",
    "\n",
    "def lhflux_profile_chart_notower(df, title, x_title=\"<w'q'> (g/m^2/s)\"):\n",
    "    return (\n",
    "        alt.Chart(df).transform_aggregate(\n",
    "            median = \"median(value)\",\n",
    "            groupby=['height', 'tower']\n",
    "        ).transform_calculate(\n",
    "            low_bound = 'datum.median - 0.2*datum.median',\n",
    "            up_bound = 'datum.median + 0.2*datum.median'\n",
    "        ).mark_area(opacity=0.2, color='black').encode(\n",
    "            alt.X(\"low_bound:Q\").title(\"\"),\n",
    "            alt.X2(\"up_bound:Q\"),\n",
    "            alt.Y(\"height:Q\").title('Height(m)').scale(zero=True),\n",
    "        )\n",
    "        +\n",
    "        alt.Chart(df).mark_line(point=alt.OverlayMarkDef(color='black'), color='black').encode(\n",
    "            alt.X(\"median(value):Q\").sort('-y').title(x_title),\n",
    "            alt.Y(\"height:Q\").scale(zero=True),\n",
    "        ).properties(title=title, width=150, height=150)\n",
    "    )\n",
    "\n",
    "def lhflux_profile_chart_mg(df, title):\n",
    "    df.value = df.value*1000\n",
    "    return (\n",
    "        alt.Chart(df).transform_aggregate(\n",
    "            median = \"median(value)\",\n",
    "            groupby=['height', 'tower']\n",
    "        ).transform_calculate(\n",
    "            low_bound = 'datum.median - 0.2*datum.median',\n",
    "            up_bound = 'datum.median + 0.2*datum.median'\n",
    "        ).mark_area(opacity=0.25).encode(\n",
    "            alt.X(\"low_bound:Q\").title(\"\"),\n",
    "            alt.X2(\"up_bound:Q\"),\n",
    "            alt.Y(\"height:Q\").scale(zero=True).title(\"Height (m)\"),\n",
    "            alt.Color(\"tower:N\")\n",
    "        )\n",
    "        +\n",
    "        alt.Chart(df).mark_line(point=True).encode(\n",
    "            alt.X(\"median(value):Q\").sort('-y').title(\"<w'q'> (mg/m^2/s)\"),\n",
    "            alt.Y(\"height:Q\").scale(zero=True).title(\"Height (m)\"),\n",
    "            alt.Color(\"tower:N\")\n",
    "        ).properties(title=[title, f\"(n = {len(df.time.unique())})\"], width=150, height=150)\n",
    "    )\n",
    "\n",
    "def profile_chart(df, title, x_title, color=\"tower:N\"):\n",
    "    return (\n",
    "        alt.Chart(df).transform_aggregate(\n",
    "            median = \"median(value)\",\n",
    "            groupby=['height', 'tower']\n",
    "        ).transform_calculate(\n",
    "            low_bound = 'datum.median - 0.2*datum.median',\n",
    "            up_bound = 'datum.median + 0.2*datum.median'\n",
    "        ).mark_area(opacity=0.25).encode(\n",
    "            alt.X(\"low_bound:Q\").title(\"\"),\n",
    "            alt.X2(\"up_bound:Q\"),\n",
    "            alt.Y(\"height:Q\").scale(zero=True).title(\"Height (m)\"),\n",
    "            alt.Color(\"tower:N\")\n",
    "        )\n",
    "        +\n",
    "        alt.Chart(df).mark_line().encode(\n",
    "            alt.X(\"median(value):Q\").sort('-y').title(x_title),\n",
    "            alt.Y(\"height:Q\").scale(zero=True).title(\"Height (m)\"),\n",
    "            alt.Color(color)\n",
    "        ).properties(title=[title, f\"(n = {len(df.time.unique())})\"], width=150, height=150)\n",
    "    )"
   ]
  },
  {
   "cell_type": "markdown",
   "metadata": {},
   "source": [
    "## Define function to categorize profiles as we like"
   ]
  },
  {
   "cell_type": "code",
   "execution_count": 10,
   "metadata": {},
   "outputs": [],
   "source": [
    "from astral import LocationInfo\n",
    "from suntime import Sun\n",
    "import pytz\n",
    "from zoneinfo import ZoneInfo\n",
    "\n",
    "# On a special date in your machine's local time zone\n",
    "sun = Sun(38.957984, -106.988687)\n",
    "def assign_bs_and_daytime_label(this_time):\n",
    "    label = ''\n",
    "    utc_aware = this_time.replace(tzinfo=ZoneInfo('US/Mountain'))  # make aware\n",
    "    sunrise = sun.get_sunrise_time(this_time, time_zone=pytz.timezone('US/Mountain')).replace(tzinfo=None)\n",
    "    sunset = sun.get_sunset_time(this_time, time_zone=pytz.timezone('US/Mountain')).replace(tzinfo=None)\n",
    "    if sunrise > sunset:\n",
    "        sunset = sunset + dt.timedelta(days=1)\n",
    "    \n",
    "    if this_time in bs_times:\n",
    "        label += 'BS'\n",
    "    else:\n",
    "        label += 'No BS'\n",
    "    if (this_time > sunrise) & (this_time < sunset):\n",
    "        label += ', Daytime'\n",
    "    else:\n",
    "        label += ', Nighttime'\n",
    "    if label.startswith('BS'):\n",
    "        label = 'BS'\n",
    "    return label\n"
   ]
  },
  {
   "cell_type": "markdown",
   "metadata": {},
   "source": [
    "# Plot for publication"
   ]
  },
  {
   "cell_type": "code",
   "execution_count": 11,
   "metadata": {},
   "outputs": [],
   "source": [
    "ri_stable_df = w_h2o__measurements_df[w_h2o__measurements_df.time.isin(set(ri_stable_times))]\n",
    "ri_neutral_df = w_h2o__measurements_df[w_h2o__measurements_df.time.isin(set(ri_neutral_times))]\n",
    "ri_unstable_df = w_h2o__measurements_df[w_h2o__measurements_df.time.isin(set(ri_unstable_times))]\n",
    "\n",
    "ri_stable_df = ri_stable_df.assign(conditions = ri_stable_df.time.apply(assign_bs_and_daytime_label))\n",
    "ri_neutral_df = ri_neutral_df.assign(conditions = ri_neutral_df.time.apply(assign_bs_and_daytime_label))\n",
    "ri_unstable_df = ri_unstable_df.assign(conditions = ri_unstable_df.time.apply(assign_bs_and_daytime_label))"
   ]
  },
  {
   "cell_type": "code",
   "execution_count": 12,
   "metadata": {},
   "outputs": [
    {
     "name": "stdout",
     "output_type": "stream",
     "text": [
      "7168\n",
      "conditions\n",
      "BS                   191\n",
      "No BS, Daytime       752\n",
      "No BS, Nighttime    1528\n",
      "dtype: int64\n",
      "conditions\n",
      "BS                  1387\n",
      "No BS, Daytime      1482\n",
      "No BS, Nighttime    1493\n",
      "dtype: int64\n",
      "conditions\n",
      "BS                 62\n",
      "No BS, Daytime    272\n",
      "dtype: int64\n"
     ]
    },
    {
     "name": "stderr",
     "output_type": "stream",
     "text": [
      "/var/folders/x_/2h52bcjx2px15bhmdpdd748h0000gn/T/ipykernel_90725/3791487247.py:2: DeprecationWarning: DataFrameGroupBy.apply operated on the grouping columns. This behavior is deprecated, and in a future version of pandas the grouping columns will be excluded from the operation. Either pass `include_groups=False` to exclude the groupings or explicitly select the grouping columns after groupby to silence this warning.\n",
      "  n_stable = ri_stable_df.query(\"tower == 'c'\").query(\"height == 10\").dropna().groupby('conditions').apply(len)\n",
      "/var/folders/x_/2h52bcjx2px15bhmdpdd748h0000gn/T/ipykernel_90725/3791487247.py:3: DeprecationWarning: DataFrameGroupBy.apply operated on the grouping columns. This behavior is deprecated, and in a future version of pandas the grouping columns will be excluded from the operation. Either pass `include_groups=False` to exclude the groupings or explicitly select the grouping columns after groupby to silence this warning.\n",
      "  n_neutral = ri_neutral_df.query(\"tower == 'c'\").query(\"height == 10\").dropna().groupby('conditions').apply(len)\n",
      "/var/folders/x_/2h52bcjx2px15bhmdpdd748h0000gn/T/ipykernel_90725/3791487247.py:4: DeprecationWarning: DataFrameGroupBy.apply operated on the grouping columns. This behavior is deprecated, and in a future version of pandas the grouping columns will be excluded from the operation. Either pass `include_groups=False` to exclude the groupings or explicitly select the grouping columns after groupby to silence this warning.\n",
      "  n_unstable = ri_unstable_df.query(\"tower == 'c'\").query(\"height == 10\").dropna().groupby('conditions').apply(len)\n"
     ]
    }
   ],
   "source": [
    "n_alldata = len(w_h2o__measurements_df.query(\"tower == 'c'\").query(\"height == 10\").dropna())\n",
    "n_stable = ri_stable_df.query(\"tower == 'c'\").query(\"height == 10\").dropna().groupby('conditions').apply(len)\n",
    "n_neutral = ri_neutral_df.query(\"tower == 'c'\").query(\"height == 10\").dropna().groupby('conditions').apply(len)\n",
    "n_unstable = ri_unstable_df.query(\"tower == 'c'\").query(\"height == 10\").dropna().groupby('conditions').apply(len)\n",
    "\n",
    "print(n_alldata)\n",
    "print(n_stable)\n",
    "print(n_neutral)\n",
    "print(n_unstable)"
   ]
  },
  {
   "cell_type": "code",
   "execution_count": 13,
   "metadata": {},
   "outputs": [
    {
     "data": {
      "application/vnd.vegalite.v5+json": {
       "$schema": "https://vega.github.io/schema/vega-lite/v5.20.1.json",
       "config": {
        "view": {
         "continuousHeight": 300,
         "continuousWidth": 300
        }
       },
       "hconcat": [
        {
         "data": {
          "format": {
           "type": "json"
          },
          "url": "altair-data-857ab34e2c6c77a1e2fef18b95622367.json"
         },
         "height": 150,
         "layer": [
          {
           "encoding": {
            "x": {
             "field": "low_bound",
             "title": "",
             "type": "quantitative"
            },
            "x2": {
             "field": "up_bound"
            },
            "y": {
             "field": "height",
             "scale": {
              "zero": true
             },
             "title": "Height(m)",
             "type": "quantitative"
            }
           },
           "mark": {
            "color": "black",
            "opacity": 0.2,
            "type": "area"
           },
           "transform": [
            {
             "aggregate": [
              {
               "as": "median",
               "field": "value",
               "op": "median"
              }
             ],
             "groupby": [
              "height",
              "tower"
             ]
            },
            {
             "as": "low_bound",
             "calculate": "datum.median - 0.2*datum.median"
            },
            {
             "as": "up_bound",
             "calculate": "datum.median + 0.2*datum.median"
            }
           ]
          },
          {
           "encoding": {
            "x": {
             "aggregate": "median",
             "field": "value",
             "sort": "-y",
             "title": "<w'q'> (g/m^2/s)",
             "type": "quantitative"
            },
            "y": {
             "field": "height",
             "scale": {
              "zero": true
             },
             "type": "quantitative"
            }
           },
           "mark": {
            "color": "black",
            "point": {
             "color": "black"
            },
            "type": "line"
           },
           "title": "All data"
          }
         ],
         "width": 150
        },
        {
         "data": {
          "format": {
           "type": "json"
          },
          "url": "altair-data-6996a5cc2af1b7596df373260ee38c10.json"
         },
         "height": 150,
         "layer": [
          {
           "encoding": {
            "color": {
             "field": "conditions",
             "type": "nominal"
            },
            "x": {
             "field": "low_bound",
             "title": "",
             "type": "quantitative"
            },
            "x2": {
             "field": "up_bound"
            },
            "y": {
             "field": "height",
             "scale": {
              "zero": true
             },
             "title": "Height (m)",
             "type": "quantitative"
            }
           },
           "mark": {
            "opacity": 0.25,
            "type": "area"
           },
           "transform": [
            {
             "aggregate": [
              {
               "as": "median",
               "field": "value",
               "op": "median"
              }
             ],
             "groupby": [
              "height",
              "tower",
              "conditions"
             ]
            },
            {
             "as": "low_bound",
             "calculate": "datum.median - 0.2*datum.median"
            },
            {
             "as": "up_bound",
             "calculate": "datum.median + 0.2*datum.median"
            }
           ]
          },
          {
           "encoding": {
            "color": {
             "field": "conditions",
             "type": "nominal"
            },
            "x": {
             "aggregate": "median",
             "field": "value",
             "sort": "-y",
             "title": "<w'q'> (g/m^2/s)",
             "type": "quantitative"
            },
            "y": {
             "field": "height",
             "scale": {
              "zero": true
             },
             "type": "quantitative"
            }
           },
           "mark": {
            "point": true,
            "type": "line"
           },
           "title": [
            "Stable"
           ]
          }
         ],
         "width": 150
        },
        {
         "data": {
          "format": {
           "type": "json"
          },
          "url": "altair-data-46ca678f64955420824c28608e7e1974.json"
         },
         "height": 150,
         "layer": [
          {
           "encoding": {
            "color": {
             "field": "conditions",
             "type": "nominal"
            },
            "x": {
             "field": "low_bound",
             "title": "",
             "type": "quantitative"
            },
            "x2": {
             "field": "up_bound"
            },
            "y": {
             "field": "height",
             "scale": {
              "zero": true
             },
             "title": "Height (m)",
             "type": "quantitative"
            }
           },
           "mark": {
            "opacity": 0.25,
            "type": "area"
           },
           "transform": [
            {
             "aggregate": [
              {
               "as": "median",
               "field": "value",
               "op": "median"
              }
             ],
             "groupby": [
              "height",
              "tower",
              "conditions"
             ]
            },
            {
             "as": "low_bound",
             "calculate": "datum.median - 0.2*datum.median"
            },
            {
             "as": "up_bound",
             "calculate": "datum.median + 0.2*datum.median"
            }
           ]
          },
          {
           "encoding": {
            "color": {
             "field": "conditions",
             "type": "nominal"
            },
            "x": {
             "aggregate": "median",
             "field": "value",
             "sort": "-y",
             "title": "<w'q'> (g/m^2/s)",
             "type": "quantitative"
            },
            "y": {
             "field": "height",
             "scale": {
              "zero": true
             },
             "type": "quantitative"
            }
           },
           "mark": {
            "point": true,
            "type": "line"
           },
           "title": [
            "Neutral"
           ]
          }
         ],
         "width": 150
        },
        {
         "data": {
          "format": {
           "type": "json"
          },
          "url": "altair-data-31a0e7e1dbd2237bf338ff4e48534a7c.json"
         },
         "height": 150,
         "layer": [
          {
           "encoding": {
            "color": {
             "field": "conditions",
             "type": "nominal"
            },
            "x": {
             "field": "low_bound",
             "title": "",
             "type": "quantitative"
            },
            "x2": {
             "field": "up_bound"
            },
            "y": {
             "field": "height",
             "scale": {
              "zero": true
             },
             "title": "Height (m)",
             "type": "quantitative"
            }
           },
           "mark": {
            "opacity": 0.25,
            "type": "area"
           },
           "transform": [
            {
             "aggregate": [
              {
               "as": "median",
               "field": "value",
               "op": "median"
              }
             ],
             "groupby": [
              "height",
              "tower",
              "conditions"
             ]
            },
            {
             "as": "low_bound",
             "calculate": "datum.median - 0.2*datum.median"
            },
            {
             "as": "up_bound",
             "calculate": "datum.median + 0.2*datum.median"
            }
           ]
          },
          {
           "encoding": {
            "color": {
             "field": "conditions",
             "type": "nominal"
            },
            "x": {
             "aggregate": "median",
             "field": "value",
             "sort": "-y",
             "title": "<w'q'> (g/m^2/s)",
             "type": "quantitative"
            },
            "y": {
             "field": "height",
             "scale": {
              "zero": true
             },
             "type": "quantitative"
            }
           },
           "mark": {
            "point": true,
            "type": "line"
           },
           "title": [
            "Unstable"
           ]
          }
         ],
         "width": 150
        }
       ],
       "resolve": {
        "scale": {
         "x": "shared",
         "y": "shared"
        }
       }
      },
      "text/plain": [
       "<VegaLite 5 object>\n",
       "\n",
       "If you see this message, it means the renderer has not been properly enabled\n",
       "for the frontend that you are using. For more information, see\n",
       "https://altair-viz.github.io/user_guide/display_frontends.html#troubleshooting\n"
      ]
     },
     "execution_count": 13,
     "metadata": {},
     "output_type": "execute_result"
    }
   ],
   "source": [
    "vertical_flux_profiles_4_plots = (\n",
    "    lhflux_profile_chart_notower(w_h2o__measurements_df.query(\"tower == 'c'\").query(\"height > 1\"), \"All data\") |\n",
    "    lhflux_profile_chart_split_conditions(ri_stable_df.query(\"tower == 'c'\").query(\"height > 1\"), \"Stable\") |\n",
    "    lhflux_profile_chart_split_conditions(ri_neutral_df.query(\"tower == 'c'\").query(\"height > 1\"), \"Neutral\") |\n",
    "    lhflux_profile_chart_split_conditions(ri_unstable_df.query(\"tower == 'c'\").query(\"height > 1\"), \"Unstable\")\n",
    ").resolve_scale(x='shared', y='shared') \n",
    "vertical_flux_profiles_4_plots"
   ]
  },
  {
   "cell_type": "code",
   "execution_count": null,
   "metadata": {},
   "outputs": [
    {
     "data": {
      "text/plain": [
       "(0.9180463576158939, 1.0041390728476822)"
      ]
     },
     "execution_count": 11,
     "metadata": {},
     "output_type": "execute_result"
    }
   ],
   "source": [
    "# 2.0     No BS, Daytime      0.002218\n",
    "        \n",
    "# 3.0     No BS, Daytime      0.002416\n",
    "        \n",
    "# 5.0     No BS, Daytime      0.002426\n",
    "        \n",
    "0.002218 / 0.002416, 0.002426/0.002416"
   ]
  },
  {
   "cell_type": "code",
   "execution_count": null,
   "metadata": {},
   "outputs": [
    {
     "data": {
      "text/plain": [
       "height  conditions      \n",
       "2.0     BS                  0.007526\n",
       "        No BS, Daytime      0.002173\n",
       "        No BS, Nighttime    0.000153\n",
       "3.0     BS                  0.008011\n",
       "        No BS, Daytime      0.002229\n",
       "        No BS, Nighttime    0.000204\n",
       "5.0     BS                  0.008445\n",
       "        No BS, Daytime      0.002203\n",
       "        No BS, Nighttime    0.000387\n",
       "10.0    BS                  0.009097\n",
       "        No BS, Daytime      0.001768\n",
       "        No BS, Nighttime    0.000180\n",
       "15.0    BS                  0.007397\n",
       "        No BS, Daytime      0.000748\n",
       "        No BS, Nighttime    0.000473\n",
       "20.0    BS                  0.004081\n",
       "        No BS, Daytime      0.000306\n",
       "        No BS, Nighttime    0.000070\n",
       "Name: value, dtype: float64"
      ]
     },
     "execution_count": 12,
     "metadata": {},
     "output_type": "execute_result"
    }
   ],
   "source": [
    "ri_stable_df.query(\"tower == 'c'\").query(\"height > 1\").groupby(['height', 'conditions'])['value'].mean()"
   ]
  },
  {
   "cell_type": "code",
   "execution_count": null,
   "metadata": {},
   "outputs": [],
   "source": [
    "vertical_flux_profiles_4_plots.save('lhflux_profiles.png', dpi=200)"
   ]
  },
  {
   "cell_type": "code",
   "execution_count": null,
   "metadata": {},
   "outputs": [],
   "source": [
    "def plot_for_turb_variables(\n",
    "        variable_src_df,\n",
    "        x_title=\"<w't'> (K/m^2/s)\"\n",
    "):\n",
    "    ri_stable_df = variable_src_df[variable_src_df.time.isin(set(ri_stable_times))]\n",
    "    ri_neutral_df = variable_src_df[variable_src_df.time.isin(set(ri_neutral_times))]\n",
    "    ri_unstable_df = variable_src_df[variable_src_df.time.isin(set(ri_unstable_times))]\n",
    "\n",
    "    variable_src_df = variable_src_df.assign(conditions = variable_src_df.time.apply(assign_bs_and_daytime_label))\n",
    "    ri_stable_df = ri_stable_df.assign(conditions = ri_stable_df.time.apply(assign_bs_and_daytime_label))\n",
    "    ri_neutral_df = ri_neutral_df.assign(conditions = ri_neutral_df.time.apply(assign_bs_and_daytime_label))\n",
    "    ri_unstable_df = ri_unstable_df.assign(conditions = ri_unstable_df.time.apply(assign_bs_and_daytime_label))\n",
    "\n",
    "    color_encoding_nobs = alt.Color(f\"conditions:N\").scale(domain=['No BS, Daytime', 'No BS, Nighttime'], range=['#ff7f0e', '#d62728'])\n",
    "    return (\n",
    "        lhflux_profile_chart_notower(variable_src_df.query(\"conditions != 'BS'\").query(\"tower == 'c'\").query(\"height > 1\"), \"All data\", x_title=x_title)\n",
    "        |\n",
    "        lhflux_profile_chart_split_conditions(\n",
    "            ri_stable_df.query(\"conditions != 'BS'\").query(\"tower == 'c'\").query(\"height > 1\"), \"Stable\", x_title=x_title,\n",
    "            color_encoding = color_encoding_nobs\n",
    "        )\n",
    "        |\n",
    "        lhflux_profile_chart_split_conditions(\n",
    "            ri_neutral_df.query(\"conditions != 'BS'\").query(\"tower == 'c'\").query(\"height > 1\"), \"Neutral\", x_title=x_title,\n",
    "            color_encoding = color_encoding_nobs\n",
    "        )\n",
    "        |\n",
    "        lhflux_profile_chart_split_conditions(\n",
    "            ri_unstable_df.query(\"conditions != 'BS'\").query(\"tower == 'c'\").query(\"height > 1\"), \"Unstable\", x_title=x_title,\n",
    "            color_encoding = color_encoding_nobs\n",
    "        )\n",
    "    ).resolve_scale(x='shared', y='shared') "
   ]
  },
  {
   "cell_type": "markdown",
   "metadata": {},
   "source": [
    "# Calculate scaled turbulence variables"
   ]
  },
  {
   "cell_type": "markdown",
   "metadata": {},
   "source": [
    "### $ \\sqrt{w'w'} / u_*$"
   ]
  },
  {
   "cell_type": "code",
   "execution_count": null,
   "metadata": {},
   "outputs": [],
   "source": [
    "x = None\n",
    "tower = tidy_df_streamwise.tower.unique()\n",
    "w_w_scaled_df = pd.DataFrame()\n",
    "for t in tower:\n",
    "    src_many_heights = tidy_df_streamwise[tidy_df_streamwise.measurement.isin(['w_w_', 'shear velocity'])]\n",
    "    src_many_heights = src_many_heights[src_many_heights.tower == t]\n",
    "    if t == 'c':\n",
    "        heights = [2,3,5,10,15,20]\n",
    "    else:\n",
    "        heights = [3,10]\n",
    "    for h in heights:\n",
    "        src = src_many_heights[src_many_heights.height == h]\n",
    "        src = src.pivot_table(index='time', columns='measurement', values='value')\n",
    "        src['w_w_scaled'] = src['w_w_']**0.5 / src['shear velocity']\n",
    "        src = src[['w_w_scaled']].reset_index().melt(id_vars='time')\n",
    "        src['variable'] = src['measurement'].apply(lambda meas: f\"{meas}_{h}m_{t}\")\n",
    "        src['height'] = h\n",
    "        src['tower'] = t\n",
    "        w_w_scaled_df = pd.concat([w_w_scaled_df, src])"
   ]
  },
  {
   "cell_type": "markdown",
   "metadata": {},
   "source": [
    "### $ \\sqrt{tke} / u_*$"
   ]
  },
  {
   "cell_type": "code",
   "execution_count": null,
   "metadata": {},
   "outputs": [],
   "source": [
    "x = None\n",
    "tower = tidy_df_streamwise.tower.unique()\n",
    "tke_scaled_df = pd.DataFrame()\n",
    "for t in tower:\n",
    "    src_many_heights = tidy_df_streamwise[tidy_df_streamwise.measurement.isin(['turbulent kinetic energy', 'shear velocity'])]\n",
    "    src_many_heights = src_many_heights[src_many_heights.tower == t]\n",
    "    if t == 'c':\n",
    "        heights = [2,3,5,10,15,20]\n",
    "    else:\n",
    "        heights = [3,10]\n",
    "    for h in heights:\n",
    "        src = src_many_heights[src_many_heights.height == h]\n",
    "        src = src.pivot_table(index='time', columns='measurement', values='value')\n",
    "        src['tke_scaled'] = src['turbulent kinetic energy']**0.5 / src['shear velocity']\n",
    "        src = src[['tke_scaled']].reset_index().melt(id_vars='time')\n",
    "        src['variable'] = src['measurement'].apply(lambda meas: f\"{meas}_{h}m_{t}\")\n",
    "        src['height'] = h\n",
    "        src['tower'] = t\n",
    "        tke_scaled_df = pd.concat([tke_scaled_df, src])"
   ]
  },
  {
   "cell_type": "markdown",
   "metadata": {},
   "source": [
    "# Plot extra turbulence variables"
   ]
  },
  {
   "cell_type": "code",
   "execution_count": null,
   "metadata": {},
   "outputs": [
    {
     "data": {
      "application/vnd.vegalite.v5+json": {
       "$schema": "https://vega.github.io/schema/vega-lite/v5.20.1.json",
       "config": {
        "view": {
         "continuousHeight": 300,
         "continuousWidth": 300
        }
       },
       "vconcat": [
        {
         "hconcat": [
          {
           "data": {
            "format": {
             "type": "json"
            },
            "url": "altair-data-3a258e5061cba34a2b7dc9feadcfd4f7.json"
           },
           "height": 150,
           "layer": [
            {
             "encoding": {
              "x": {
               "field": "low_bound",
               "title": "",
               "type": "quantitative"
              },
              "x2": {
               "field": "up_bound"
              },
              "y": {
               "field": "height",
               "scale": {
                "zero": true
               },
               "type": "quantitative"
              }
             },
             "mark": {
              "color": "black",
              "opacity": 0.2,
              "type": "area"
             },
             "transform": [
              {
               "aggregate": [
                {
                 "as": "median",
                 "field": "value",
                 "op": "median"
                }
               ],
               "groupby": [
                "height",
                "tower"
               ]
              },
              {
               "as": "low_bound",
               "calculate": "datum.median - 0.2*datum.median"
              },
              {
               "as": "up_bound",
               "calculate": "datum.median + 0.2*datum.median"
              }
             ]
            },
            {
             "encoding": {
              "x": {
               "aggregate": "median",
               "field": "value",
               "sort": "-y",
               "title": "<w'q'> (g/m^2/s)",
               "type": "quantitative"
              },
              "y": {
               "field": "height",
               "scale": {
                "zero": true
               },
               "type": "quantitative"
              }
             },
             "mark": {
              "color": "black",
              "point": {
               "color": "black"
              },
              "type": "line"
             },
             "title": [
              "All data",
              "(n = 7677)"
             ]
            }
           ],
           "width": 150
          },
          {
           "data": {
            "format": {
             "type": "json"
            },
            "url": "altair-data-677eff29d1b441c60af4e401fd76be15.json"
           },
           "height": 150,
           "layer": [
            {
             "encoding": {
              "color": {
               "field": "conditions",
               "type": "nominal"
              },
              "x": {
               "field": "low_bound",
               "title": "",
               "type": "quantitative"
              },
              "x2": {
               "field": "up_bound"
              },
              "y": {
               "field": "height",
               "scale": {
                "zero": true
               },
               "title": "height (m)",
               "type": "quantitative"
              }
             },
             "mark": {
              "opacity": 0.25,
              "type": "area"
             },
             "transform": [
              {
               "aggregate": [
                {
                 "as": "median",
                 "field": "value",
                 "op": "median"
                }
               ],
               "groupby": [
                "height",
                "tower",
                "conditions"
               ]
              },
              {
               "as": "low_bound",
               "calculate": "datum.median - 0.2*datum.median"
              },
              {
               "as": "up_bound",
               "calculate": "datum.median + 0.2*datum.median"
              }
             ]
            },
            {
             "encoding": {
              "color": {
               "field": "conditions",
               "type": "nominal"
              },
              "x": {
               "aggregate": "median",
               "field": "value",
               "sort": "-y",
               "title": "<w'q'> (g/m^2/s)",
               "type": "quantitative"
              },
              "y": {
               "field": "height",
               "scale": {
                "zero": true
               },
               "type": "quantitative"
              }
             },
             "mark": {
              "point": true,
              "type": "line"
             },
             "title": [
              "Stable"
             ]
            }
           ],
           "width": 150
          },
          {
           "data": {
            "format": {
             "type": "json"
            },
            "url": "altair-data-c2a5703d1224c7989eab50195d51d6d0.json"
           },
           "height": 150,
           "layer": [
            {
             "encoding": {
              "color": {
               "field": "conditions",
               "type": "nominal"
              },
              "x": {
               "field": "low_bound",
               "title": "",
               "type": "quantitative"
              },
              "x2": {
               "field": "up_bound"
              },
              "y": {
               "field": "height",
               "scale": {
                "zero": true
               },
               "title": "height (m)",
               "type": "quantitative"
              }
             },
             "mark": {
              "opacity": 0.25,
              "type": "area"
             },
             "transform": [
              {
               "aggregate": [
                {
                 "as": "median",
                 "field": "value",
                 "op": "median"
                }
               ],
               "groupby": [
                "height",
                "tower",
                "conditions"
               ]
              },
              {
               "as": "low_bound",
               "calculate": "datum.median - 0.2*datum.median"
              },
              {
               "as": "up_bound",
               "calculate": "datum.median + 0.2*datum.median"
              }
             ]
            },
            {
             "encoding": {
              "color": {
               "field": "conditions",
               "type": "nominal"
              },
              "x": {
               "aggregate": "median",
               "field": "value",
               "sort": "-y",
               "title": "<w'q'> (g/m^2/s)",
               "type": "quantitative"
              },
              "y": {
               "field": "height",
               "scale": {
                "zero": true
               },
               "type": "quantitative"
              }
             },
             "mark": {
              "point": true,
              "type": "line"
             },
             "title": [
              "Neutral"
             ]
            }
           ],
           "width": 150
          },
          {
           "data": {
            "format": {
             "type": "json"
            },
            "url": "altair-data-2160c1c29ec6b8346d32eaf633e59d16.json"
           },
           "height": 150,
           "layer": [
            {
             "encoding": {
              "color": {
               "field": "conditions",
               "type": "nominal"
              },
              "x": {
               "field": "low_bound",
               "title": "",
               "type": "quantitative"
              },
              "x2": {
               "field": "up_bound"
              },
              "y": {
               "field": "height",
               "scale": {
                "zero": true
               },
               "title": "height (m)",
               "type": "quantitative"
              }
             },
             "mark": {
              "opacity": 0.25,
              "type": "area"
             },
             "transform": [
              {
               "aggregate": [
                {
                 "as": "median",
                 "field": "value",
                 "op": "median"
                }
               ],
               "groupby": [
                "height",
                "tower",
                "conditions"
               ]
              },
              {
               "as": "low_bound",
               "calculate": "datum.median - 0.2*datum.median"
              },
              {
               "as": "up_bound",
               "calculate": "datum.median + 0.2*datum.median"
              }
             ]
            },
            {
             "encoding": {
              "color": {
               "field": "conditions",
               "type": "nominal"
              },
              "x": {
               "aggregate": "median",
               "field": "value",
               "sort": "-y",
               "title": "<w'q'> (g/m^2/s)",
               "type": "quantitative"
              },
              "y": {
               "field": "height",
               "scale": {
                "zero": true
               },
               "type": "quantitative"
              }
             },
             "mark": {
              "point": true,
              "type": "line"
             },
             "title": [
              "Unstable"
             ]
            }
           ],
           "width": 150
          }
         ],
         "resolve": {
          "scale": {
           "x": "shared",
           "y": "shared"
          }
         }
        },
        {
         "hconcat": [
          {
           "data": {
            "format": {
             "type": "json"
            },
            "url": "altair-data-fc9ba006ace2d5544d904bdef781c4ce.json"
           },
           "height": 150,
           "layer": [
            {
             "encoding": {
              "x": {
               "field": "low_bound",
               "title": "",
               "type": "quantitative"
              },
              "x2": {
               "field": "up_bound"
              },
              "y": {
               "field": "height",
               "scale": {
                "zero": true
               },
               "type": "quantitative"
              }
             },
             "mark": {
              "color": "black",
              "opacity": 0.2,
              "type": "area"
             },
             "transform": [
              {
               "aggregate": [
                {
                 "as": "median",
                 "field": "value",
                 "op": "median"
                }
               ],
               "groupby": [
                "height",
                "tower"
               ]
              },
              {
               "as": "low_bound",
               "calculate": "datum.median - 0.2*datum.median"
              },
              {
               "as": "up_bound",
               "calculate": "datum.median + 0.2*datum.median"
              }
             ]
            },
            {
             "encoding": {
              "x": {
               "aggregate": "median",
               "field": "value",
               "sort": "-y",
               "title": "<w't'> (K/m^2/s)",
               "type": "quantitative"
              },
              "y": {
               "field": "height",
               "scale": {
                "zero": true
               },
               "type": "quantitative"
              }
             },
             "mark": {
              "color": "black",
              "point": {
               "color": "black"
              },
              "type": "line"
             },
             "title": [
              "All data",
              "(n = 5981)"
             ]
            }
           ],
           "width": 150
          },
          {
           "data": {
            "format": {
             "type": "json"
            },
            "url": "altair-data-ac76a96d5d9195006e192e972c1b0315.json"
           },
           "height": 150,
           "layer": [
            {
             "encoding": {
              "color": {
               "field": "conditions",
               "scale": {
                "domain": [
                 "No BS, Daytime",
                 "No BS, Nighttime"
                ],
                "range": [
                 "#ff7f0e",
                 "#d62728"
                ]
               },
               "type": "nominal"
              },
              "x": {
               "field": "low_bound",
               "title": "",
               "type": "quantitative"
              },
              "x2": {
               "field": "up_bound"
              },
              "y": {
               "field": "height",
               "scale": {
                "zero": true
               },
               "title": "height (m)",
               "type": "quantitative"
              }
             },
             "mark": {
              "opacity": 0.25,
              "type": "area"
             },
             "transform": [
              {
               "aggregate": [
                {
                 "as": "median",
                 "field": "value",
                 "op": "median"
                }
               ],
               "groupby": [
                "height",
                "tower",
                "conditions"
               ]
              },
              {
               "as": "low_bound",
               "calculate": "datum.median - 0.2*datum.median"
              },
              {
               "as": "up_bound",
               "calculate": "datum.median + 0.2*datum.median"
              }
             ]
            },
            {
             "encoding": {
              "color": {
               "field": "conditions",
               "scale": {
                "domain": [
                 "No BS, Daytime",
                 "No BS, Nighttime"
                ],
                "range": [
                 "#ff7f0e",
                 "#d62728"
                ]
               },
               "type": "nominal"
              },
              "x": {
               "aggregate": "median",
               "field": "value",
               "sort": "-y",
               "title": "<w't'> (K/m^2/s)",
               "type": "quantitative"
              },
              "y": {
               "field": "height",
               "scale": {
                "zero": true
               },
               "type": "quantitative"
              }
             },
             "mark": {
              "point": true,
              "type": "line"
             },
             "title": [
              "Stable"
             ]
            }
           ],
           "width": 150
          },
          {
           "data": {
            "format": {
             "type": "json"
            },
            "url": "altair-data-af817d23bac05ca4582a811c98d6417a.json"
           },
           "height": 150,
           "layer": [
            {
             "encoding": {
              "color": {
               "field": "conditions",
               "scale": {
                "domain": [
                 "No BS, Daytime",
                 "No BS, Nighttime"
                ],
                "range": [
                 "#ff7f0e",
                 "#d62728"
                ]
               },
               "type": "nominal"
              },
              "x": {
               "field": "low_bound",
               "title": "",
               "type": "quantitative"
              },
              "x2": {
               "field": "up_bound"
              },
              "y": {
               "field": "height",
               "scale": {
                "zero": true
               },
               "title": "height (m)",
               "type": "quantitative"
              }
             },
             "mark": {
              "opacity": 0.25,
              "type": "area"
             },
             "transform": [
              {
               "aggregate": [
                {
                 "as": "median",
                 "field": "value",
                 "op": "median"
                }
               ],
               "groupby": [
                "height",
                "tower",
                "conditions"
               ]
              },
              {
               "as": "low_bound",
               "calculate": "datum.median - 0.2*datum.median"
              },
              {
               "as": "up_bound",
               "calculate": "datum.median + 0.2*datum.median"
              }
             ]
            },
            {
             "encoding": {
              "color": {
               "field": "conditions",
               "scale": {
                "domain": [
                 "No BS, Daytime",
                 "No BS, Nighttime"
                ],
                "range": [
                 "#ff7f0e",
                 "#d62728"
                ]
               },
               "type": "nominal"
              },
              "x": {
               "aggregate": "median",
               "field": "value",
               "sort": "-y",
               "title": "<w't'> (K/m^2/s)",
               "type": "quantitative"
              },
              "y": {
               "field": "height",
               "scale": {
                "zero": true
               },
               "type": "quantitative"
              }
             },
             "mark": {
              "point": true,
              "type": "line"
             },
             "title": [
              "Neutral"
             ]
            }
           ],
           "width": 150
          },
          {
           "data": {
            "format": {
             "type": "json"
            },
            "url": "altair-data-45fb13526b8ee9b9eee550360f3f2dcb.json"
           },
           "height": 150,
           "layer": [
            {
             "encoding": {
              "color": {
               "field": "conditions",
               "scale": {
                "domain": [
                 "No BS, Daytime",
                 "No BS, Nighttime"
                ],
                "range": [
                 "#ff7f0e",
                 "#d62728"
                ]
               },
               "type": "nominal"
              },
              "x": {
               "field": "low_bound",
               "title": "",
               "type": "quantitative"
              },
              "x2": {
               "field": "up_bound"
              },
              "y": {
               "field": "height",
               "scale": {
                "zero": true
               },
               "title": "height (m)",
               "type": "quantitative"
              }
             },
             "mark": {
              "opacity": 0.25,
              "type": "area"
             },
             "transform": [
              {
               "aggregate": [
                {
                 "as": "median",
                 "field": "value",
                 "op": "median"
                }
               ],
               "groupby": [
                "height",
                "tower",
                "conditions"
               ]
              },
              {
               "as": "low_bound",
               "calculate": "datum.median - 0.2*datum.median"
              },
              {
               "as": "up_bound",
               "calculate": "datum.median + 0.2*datum.median"
              }
             ]
            },
            {
             "encoding": {
              "color": {
               "field": "conditions",
               "scale": {
                "domain": [
                 "No BS, Daytime",
                 "No BS, Nighttime"
                ],
                "range": [
                 "#ff7f0e",
                 "#d62728"
                ]
               },
               "type": "nominal"
              },
              "x": {
               "aggregate": "median",
               "field": "value",
               "sort": "-y",
               "title": "<w't'> (K/m^2/s)",
               "type": "quantitative"
              },
              "y": {
               "field": "height",
               "scale": {
                "zero": true
               },
               "type": "quantitative"
              }
             },
             "mark": {
              "point": true,
              "type": "line"
             },
             "title": [
              "Unstable"
             ]
            }
           ],
           "width": 150
          }
         ],
         "resolve": {
          "scale": {
           "x": "shared",
           "y": "shared"
          }
         }
        },
        {
         "hconcat": [
          {
           "data": {
            "format": {
             "type": "json"
            },
            "url": "altair-data-49f260f2e896b9a7eb24fb687726fedf.json"
           },
           "height": 150,
           "layer": [
            {
             "encoding": {
              "x": {
               "field": "low_bound",
               "title": "",
               "type": "quantitative"
              },
              "x2": {
               "field": "up_bound"
              },
              "y": {
               "field": "height",
               "scale": {
                "zero": true
               },
               "type": "quantitative"
              }
             },
             "mark": {
              "color": "black",
              "opacity": 0.2,
              "type": "area"
             },
             "transform": [
              {
               "aggregate": [
                {
                 "as": "median",
                 "field": "value",
                 "op": "median"
                }
               ],
               "groupby": [
                "height",
                "tower"
               ]
              },
              {
               "as": "low_bound",
               "calculate": "datum.median - 0.2*datum.median"
              },
              {
               "as": "up_bound",
               "calculate": "datum.median + 0.2*datum.median"
              }
             ]
            },
            {
             "encoding": {
              "x": {
               "aggregate": "median",
               "field": "value",
               "sort": "-y",
               "title": "u* (m/s)",
               "type": "quantitative"
              },
              "y": {
               "field": "height",
               "scale": {
                "zero": true
               },
               "type": "quantitative"
              }
             },
             "mark": {
              "color": "black",
              "point": {
               "color": "black"
              },
              "type": "line"
             },
             "title": [
              "All data",
              "(n = 5981)"
             ]
            }
           ],
           "width": 150
          },
          {
           "data": {
            "format": {
             "type": "json"
            },
            "url": "altair-data-b5ed7475ff0e12dc057d0dc6ceace0a5.json"
           },
           "height": 150,
           "layer": [
            {
             "encoding": {
              "color": {
               "field": "conditions",
               "scale": {
                "domain": [
                 "No BS, Daytime",
                 "No BS, Nighttime"
                ],
                "range": [
                 "#ff7f0e",
                 "#d62728"
                ]
               },
               "type": "nominal"
              },
              "x": {
               "field": "low_bound",
               "title": "",
               "type": "quantitative"
              },
              "x2": {
               "field": "up_bound"
              },
              "y": {
               "field": "height",
               "scale": {
                "zero": true
               },
               "title": "height (m)",
               "type": "quantitative"
              }
             },
             "mark": {
              "opacity": 0.25,
              "type": "area"
             },
             "transform": [
              {
               "aggregate": [
                {
                 "as": "median",
                 "field": "value",
                 "op": "median"
                }
               ],
               "groupby": [
                "height",
                "tower",
                "conditions"
               ]
              },
              {
               "as": "low_bound",
               "calculate": "datum.median - 0.2*datum.median"
              },
              {
               "as": "up_bound",
               "calculate": "datum.median + 0.2*datum.median"
              }
             ]
            },
            {
             "encoding": {
              "color": {
               "field": "conditions",
               "scale": {
                "domain": [
                 "No BS, Daytime",
                 "No BS, Nighttime"
                ],
                "range": [
                 "#ff7f0e",
                 "#d62728"
                ]
               },
               "type": "nominal"
              },
              "x": {
               "aggregate": "median",
               "field": "value",
               "sort": "-y",
               "title": "u* (m/s)",
               "type": "quantitative"
              },
              "y": {
               "field": "height",
               "scale": {
                "zero": true
               },
               "type": "quantitative"
              }
             },
             "mark": {
              "point": true,
              "type": "line"
             },
             "title": [
              "Stable"
             ]
            }
           ],
           "width": 150
          },
          {
           "data": {
            "format": {
             "type": "json"
            },
            "url": "altair-data-c0c515baf6ad0abb4a82ef5c8a754862.json"
           },
           "height": 150,
           "layer": [
            {
             "encoding": {
              "color": {
               "field": "conditions",
               "scale": {
                "domain": [
                 "No BS, Daytime",
                 "No BS, Nighttime"
                ],
                "range": [
                 "#ff7f0e",
                 "#d62728"
                ]
               },
               "type": "nominal"
              },
              "x": {
               "field": "low_bound",
               "title": "",
               "type": "quantitative"
              },
              "x2": {
               "field": "up_bound"
              },
              "y": {
               "field": "height",
               "scale": {
                "zero": true
               },
               "title": "height (m)",
               "type": "quantitative"
              }
             },
             "mark": {
              "opacity": 0.25,
              "type": "area"
             },
             "transform": [
              {
               "aggregate": [
                {
                 "as": "median",
                 "field": "value",
                 "op": "median"
                }
               ],
               "groupby": [
                "height",
                "tower",
                "conditions"
               ]
              },
              {
               "as": "low_bound",
               "calculate": "datum.median - 0.2*datum.median"
              },
              {
               "as": "up_bound",
               "calculate": "datum.median + 0.2*datum.median"
              }
             ]
            },
            {
             "encoding": {
              "color": {
               "field": "conditions",
               "scale": {
                "domain": [
                 "No BS, Daytime",
                 "No BS, Nighttime"
                ],
                "range": [
                 "#ff7f0e",
                 "#d62728"
                ]
               },
               "type": "nominal"
              },
              "x": {
               "aggregate": "median",
               "field": "value",
               "sort": "-y",
               "title": "u* (m/s)",
               "type": "quantitative"
              },
              "y": {
               "field": "height",
               "scale": {
                "zero": true
               },
               "type": "quantitative"
              }
             },
             "mark": {
              "point": true,
              "type": "line"
             },
             "title": [
              "Neutral"
             ]
            }
           ],
           "width": 150
          },
          {
           "data": {
            "format": {
             "type": "json"
            },
            "url": "altair-data-24e5aabee81b3d355664181e61f07a06.json"
           },
           "height": 150,
           "layer": [
            {
             "encoding": {
              "color": {
               "field": "conditions",
               "scale": {
                "domain": [
                 "No BS, Daytime",
                 "No BS, Nighttime"
                ],
                "range": [
                 "#ff7f0e",
                 "#d62728"
                ]
               },
               "type": "nominal"
              },
              "x": {
               "field": "low_bound",
               "title": "",
               "type": "quantitative"
              },
              "x2": {
               "field": "up_bound"
              },
              "y": {
               "field": "height",
               "scale": {
                "zero": true
               },
               "title": "height (m)",
               "type": "quantitative"
              }
             },
             "mark": {
              "opacity": 0.25,
              "type": "area"
             },
             "transform": [
              {
               "aggregate": [
                {
                 "as": "median",
                 "field": "value",
                 "op": "median"
                }
               ],
               "groupby": [
                "height",
                "tower",
                "conditions"
               ]
              },
              {
               "as": "low_bound",
               "calculate": "datum.median - 0.2*datum.median"
              },
              {
               "as": "up_bound",
               "calculate": "datum.median + 0.2*datum.median"
              }
             ]
            },
            {
             "encoding": {
              "color": {
               "field": "conditions",
               "scale": {
                "domain": [
                 "No BS, Daytime",
                 "No BS, Nighttime"
                ],
                "range": [
                 "#ff7f0e",
                 "#d62728"
                ]
               },
               "type": "nominal"
              },
              "x": {
               "aggregate": "median",
               "field": "value",
               "sort": "-y",
               "title": "u* (m/s)",
               "type": "quantitative"
              },
              "y": {
               "field": "height",
               "scale": {
                "zero": true
               },
               "type": "quantitative"
              }
             },
             "mark": {
              "point": true,
              "type": "line"
             },
             "title": [
              "Unstable"
             ]
            }
           ],
           "width": 150
          }
         ],
         "resolve": {
          "scale": {
           "x": "shared",
           "y": "shared"
          }
         }
        },
        {
         "hconcat": [
          {
           "data": {
            "format": {
             "type": "json"
            },
            "url": "altair-data-7957d62f654d3e59b2e866f205a4b2a9.json"
           },
           "height": 150,
           "layer": [
            {
             "encoding": {
              "x": {
               "field": "low_bound",
               "title": "",
               "type": "quantitative"
              },
              "x2": {
               "field": "up_bound"
              },
              "y": {
               "field": "height",
               "scale": {
                "zero": true
               },
               "type": "quantitative"
              }
             },
             "mark": {
              "color": "black",
              "opacity": 0.2,
              "type": "area"
             },
             "transform": [
              {
               "aggregate": [
                {
                 "as": "median",
                 "field": "value",
                 "op": "median"
                }
               ],
               "groupby": [
                "height",
                "tower"
               ]
              },
              {
               "as": "low_bound",
               "calculate": "datum.median - 0.2*datum.median"
              },
              {
               "as": "up_bound",
               "calculate": "datum.median + 0.2*datum.median"
              }
             ]
            },
            {
             "encoding": {
              "x": {
               "aggregate": "median",
               "field": "value",
               "sort": "-y",
               "title": "u'q' (g/m^2/s)",
               "type": "quantitative"
              },
              "y": {
               "field": "height",
               "scale": {
                "zero": true
               },
               "type": "quantitative"
              }
             },
             "mark": {
              "color": "black",
              "point": {
               "color": "black"
              },
              "type": "line"
             },
             "title": [
              "All data",
              "(n = 5981)"
             ]
            }
           ],
           "width": 150
          },
          {
           "data": {
            "format": {
             "type": "json"
            },
            "url": "altair-data-3901ef2a791a8c0387b51cd271ac6eea.json"
           },
           "height": 150,
           "layer": [
            {
             "encoding": {
              "color": {
               "field": "conditions",
               "scale": {
                "domain": [
                 "No BS, Daytime",
                 "No BS, Nighttime"
                ],
                "range": [
                 "#ff7f0e",
                 "#d62728"
                ]
               },
               "type": "nominal"
              },
              "x": {
               "field": "low_bound",
               "title": "",
               "type": "quantitative"
              },
              "x2": {
               "field": "up_bound"
              },
              "y": {
               "field": "height",
               "scale": {
                "zero": true
               },
               "title": "height (m)",
               "type": "quantitative"
              }
             },
             "mark": {
              "opacity": 0.25,
              "type": "area"
             },
             "transform": [
              {
               "aggregate": [
                {
                 "as": "median",
                 "field": "value",
                 "op": "median"
                }
               ],
               "groupby": [
                "height",
                "tower",
                "conditions"
               ]
              },
              {
               "as": "low_bound",
               "calculate": "datum.median - 0.2*datum.median"
              },
              {
               "as": "up_bound",
               "calculate": "datum.median + 0.2*datum.median"
              }
             ]
            },
            {
             "encoding": {
              "color": {
               "field": "conditions",
               "scale": {
                "domain": [
                 "No BS, Daytime",
                 "No BS, Nighttime"
                ],
                "range": [
                 "#ff7f0e",
                 "#d62728"
                ]
               },
               "type": "nominal"
              },
              "x": {
               "aggregate": "median",
               "field": "value",
               "sort": "-y",
               "title": "u'q' (g/m^2/s)",
               "type": "quantitative"
              },
              "y": {
               "field": "height",
               "scale": {
                "zero": true
               },
               "type": "quantitative"
              }
             },
             "mark": {
              "point": true,
              "type": "line"
             },
             "title": [
              "Stable"
             ]
            }
           ],
           "width": 150
          },
          {
           "data": {
            "format": {
             "type": "json"
            },
            "url": "altair-data-a0b5bc054680bffa4b832a09165ac9f1.json"
           },
           "height": 150,
           "layer": [
            {
             "encoding": {
              "color": {
               "field": "conditions",
               "scale": {
                "domain": [
                 "No BS, Daytime",
                 "No BS, Nighttime"
                ],
                "range": [
                 "#ff7f0e",
                 "#d62728"
                ]
               },
               "type": "nominal"
              },
              "x": {
               "field": "low_bound",
               "title": "",
               "type": "quantitative"
              },
              "x2": {
               "field": "up_bound"
              },
              "y": {
               "field": "height",
               "scale": {
                "zero": true
               },
               "title": "height (m)",
               "type": "quantitative"
              }
             },
             "mark": {
              "opacity": 0.25,
              "type": "area"
             },
             "transform": [
              {
               "aggregate": [
                {
                 "as": "median",
                 "field": "value",
                 "op": "median"
                }
               ],
               "groupby": [
                "height",
                "tower",
                "conditions"
               ]
              },
              {
               "as": "low_bound",
               "calculate": "datum.median - 0.2*datum.median"
              },
              {
               "as": "up_bound",
               "calculate": "datum.median + 0.2*datum.median"
              }
             ]
            },
            {
             "encoding": {
              "color": {
               "field": "conditions",
               "scale": {
                "domain": [
                 "No BS, Daytime",
                 "No BS, Nighttime"
                ],
                "range": [
                 "#ff7f0e",
                 "#d62728"
                ]
               },
               "type": "nominal"
              },
              "x": {
               "aggregate": "median",
               "field": "value",
               "sort": "-y",
               "title": "u'q' (g/m^2/s)",
               "type": "quantitative"
              },
              "y": {
               "field": "height",
               "scale": {
                "zero": true
               },
               "type": "quantitative"
              }
             },
             "mark": {
              "point": true,
              "type": "line"
             },
             "title": [
              "Neutral"
             ]
            }
           ],
           "width": 150
          },
          {
           "data": {
            "format": {
             "type": "json"
            },
            "url": "altair-data-8e4302d2605939903f73569d4beb3139.json"
           },
           "height": 150,
           "layer": [
            {
             "encoding": {
              "color": {
               "field": "conditions",
               "scale": {
                "domain": [
                 "No BS, Daytime",
                 "No BS, Nighttime"
                ],
                "range": [
                 "#ff7f0e",
                 "#d62728"
                ]
               },
               "type": "nominal"
              },
              "x": {
               "field": "low_bound",
               "title": "",
               "type": "quantitative"
              },
              "x2": {
               "field": "up_bound"
              },
              "y": {
               "field": "height",
               "scale": {
                "zero": true
               },
               "title": "height (m)",
               "type": "quantitative"
              }
             },
             "mark": {
              "opacity": 0.25,
              "type": "area"
             },
             "transform": [
              {
               "aggregate": [
                {
                 "as": "median",
                 "field": "value",
                 "op": "median"
                }
               ],
               "groupby": [
                "height",
                "tower",
                "conditions"
               ]
              },
              {
               "as": "low_bound",
               "calculate": "datum.median - 0.2*datum.median"
              },
              {
               "as": "up_bound",
               "calculate": "datum.median + 0.2*datum.median"
              }
             ]
            },
            {
             "encoding": {
              "color": {
               "field": "conditions",
               "scale": {
                "domain": [
                 "No BS, Daytime",
                 "No BS, Nighttime"
                ],
                "range": [
                 "#ff7f0e",
                 "#d62728"
                ]
               },
               "type": "nominal"
              },
              "x": {
               "aggregate": "median",
               "field": "value",
               "sort": "-y",
               "title": "u'q' (g/m^2/s)",
               "type": "quantitative"
              },
              "y": {
               "field": "height",
               "scale": {
                "zero": true
               },
               "type": "quantitative"
              }
             },
             "mark": {
              "point": true,
              "type": "line"
             },
             "title": [
              "Unstable"
             ]
            }
           ],
           "width": 150
          }
         ],
         "resolve": {
          "scale": {
           "x": "shared",
           "y": "shared"
          }
         }
        },
        {
         "hconcat": [
          {
           "data": {
            "format": {
             "type": "json"
            },
            "url": "altair-data-fc508dbd4b8ed648c9bad15654febd85.json"
           },
           "height": 150,
           "layer": [
            {
             "encoding": {
              "x": {
               "field": "low_bound",
               "title": "",
               "type": "quantitative"
              },
              "x2": {
               "field": "up_bound"
              },
              "y": {
               "field": "height",
               "scale": {
                "zero": true
               },
               "type": "quantitative"
              }
             },
             "mark": {
              "color": "black",
              "opacity": 0.2,
              "type": "area"
             },
             "transform": [
              {
               "aggregate": [
                {
                 "as": "median",
                 "field": "value",
                 "op": "median"
                }
               ],
               "groupby": [
                "height",
                "tower"
               ]
              },
              {
               "as": "low_bound",
               "calculate": "datum.median - 0.2*datum.median"
              },
              {
               "as": "up_bound",
               "calculate": "datum.median + 0.2*datum.median"
              }
             ]
            },
            {
             "encoding": {
              "x": {
               "aggregate": "median",
               "field": "value",
               "sort": "-y",
               "title": "v'q' (g/m^2/s)",
               "type": "quantitative"
              },
              "y": {
               "field": "height",
               "scale": {
                "zero": true
               },
               "type": "quantitative"
              }
             },
             "mark": {
              "color": "black",
              "point": {
               "color": "black"
              },
              "type": "line"
             },
             "title": [
              "All data",
              "(n = 5981)"
             ]
            }
           ],
           "width": 150
          },
          {
           "data": {
            "format": {
             "type": "json"
            },
            "url": "altair-data-e98d63d18f85238918312ced364aed4a.json"
           },
           "height": 150,
           "layer": [
            {
             "encoding": {
              "color": {
               "field": "conditions",
               "scale": {
                "domain": [
                 "No BS, Daytime",
                 "No BS, Nighttime"
                ],
                "range": [
                 "#ff7f0e",
                 "#d62728"
                ]
               },
               "type": "nominal"
              },
              "x": {
               "field": "low_bound",
               "title": "",
               "type": "quantitative"
              },
              "x2": {
               "field": "up_bound"
              },
              "y": {
               "field": "height",
               "scale": {
                "zero": true
               },
               "title": "height (m)",
               "type": "quantitative"
              }
             },
             "mark": {
              "opacity": 0.25,
              "type": "area"
             },
             "transform": [
              {
               "aggregate": [
                {
                 "as": "median",
                 "field": "value",
                 "op": "median"
                }
               ],
               "groupby": [
                "height",
                "tower",
                "conditions"
               ]
              },
              {
               "as": "low_bound",
               "calculate": "datum.median - 0.2*datum.median"
              },
              {
               "as": "up_bound",
               "calculate": "datum.median + 0.2*datum.median"
              }
             ]
            },
            {
             "encoding": {
              "color": {
               "field": "conditions",
               "scale": {
                "domain": [
                 "No BS, Daytime",
                 "No BS, Nighttime"
                ],
                "range": [
                 "#ff7f0e",
                 "#d62728"
                ]
               },
               "type": "nominal"
              },
              "x": {
               "aggregate": "median",
               "field": "value",
               "sort": "-y",
               "title": "v'q' (g/m^2/s)",
               "type": "quantitative"
              },
              "y": {
               "field": "height",
               "scale": {
                "zero": true
               },
               "type": "quantitative"
              }
             },
             "mark": {
              "point": true,
              "type": "line"
             },
             "title": [
              "Stable"
             ]
            }
           ],
           "width": 150
          },
          {
           "data": {
            "format": {
             "type": "json"
            },
            "url": "altair-data-9e315f96d08934c9a8a417832b683cd3.json"
           },
           "height": 150,
           "layer": [
            {
             "encoding": {
              "color": {
               "field": "conditions",
               "scale": {
                "domain": [
                 "No BS, Daytime",
                 "No BS, Nighttime"
                ],
                "range": [
                 "#ff7f0e",
                 "#d62728"
                ]
               },
               "type": "nominal"
              },
              "x": {
               "field": "low_bound",
               "title": "",
               "type": "quantitative"
              },
              "x2": {
               "field": "up_bound"
              },
              "y": {
               "field": "height",
               "scale": {
                "zero": true
               },
               "title": "height (m)",
               "type": "quantitative"
              }
             },
             "mark": {
              "opacity": 0.25,
              "type": "area"
             },
             "transform": [
              {
               "aggregate": [
                {
                 "as": "median",
                 "field": "value",
                 "op": "median"
                }
               ],
               "groupby": [
                "height",
                "tower",
                "conditions"
               ]
              },
              {
               "as": "low_bound",
               "calculate": "datum.median - 0.2*datum.median"
              },
              {
               "as": "up_bound",
               "calculate": "datum.median + 0.2*datum.median"
              }
             ]
            },
            {
             "encoding": {
              "color": {
               "field": "conditions",
               "scale": {
                "domain": [
                 "No BS, Daytime",
                 "No BS, Nighttime"
                ],
                "range": [
                 "#ff7f0e",
                 "#d62728"
                ]
               },
               "type": "nominal"
              },
              "x": {
               "aggregate": "median",
               "field": "value",
               "sort": "-y",
               "title": "v'q' (g/m^2/s)",
               "type": "quantitative"
              },
              "y": {
               "field": "height",
               "scale": {
                "zero": true
               },
               "type": "quantitative"
              }
             },
             "mark": {
              "point": true,
              "type": "line"
             },
             "title": [
              "Neutral"
             ]
            }
           ],
           "width": 150
          },
          {
           "data": {
            "format": {
             "type": "json"
            },
            "url": "altair-data-cba961180f59102ce16c0b47f75582f5.json"
           },
           "height": 150,
           "layer": [
            {
             "encoding": {
              "color": {
               "field": "conditions",
               "scale": {
                "domain": [
                 "No BS, Daytime",
                 "No BS, Nighttime"
                ],
                "range": [
                 "#ff7f0e",
                 "#d62728"
                ]
               },
               "type": "nominal"
              },
              "x": {
               "field": "low_bound",
               "title": "",
               "type": "quantitative"
              },
              "x2": {
               "field": "up_bound"
              },
              "y": {
               "field": "height",
               "scale": {
                "zero": true
               },
               "title": "height (m)",
               "type": "quantitative"
              }
             },
             "mark": {
              "opacity": 0.25,
              "type": "area"
             },
             "transform": [
              {
               "aggregate": [
                {
                 "as": "median",
                 "field": "value",
                 "op": "median"
                }
               ],
               "groupby": [
                "height",
                "tower",
                "conditions"
               ]
              },
              {
               "as": "low_bound",
               "calculate": "datum.median - 0.2*datum.median"
              },
              {
               "as": "up_bound",
               "calculate": "datum.median + 0.2*datum.median"
              }
             ]
            },
            {
             "encoding": {
              "color": {
               "field": "conditions",
               "scale": {
                "domain": [
                 "No BS, Daytime",
                 "No BS, Nighttime"
                ],
                "range": [
                 "#ff7f0e",
                 "#d62728"
                ]
               },
               "type": "nominal"
              },
              "x": {
               "aggregate": "median",
               "field": "value",
               "sort": "-y",
               "title": "v'q' (g/m^2/s)",
               "type": "quantitative"
              },
              "y": {
               "field": "height",
               "scale": {
                "zero": true
               },
               "type": "quantitative"
              }
             },
             "mark": {
              "point": true,
              "type": "line"
             },
             "title": [
              "Unstable"
             ]
            }
           ],
           "width": 150
          }
         ],
         "resolve": {
          "scale": {
           "x": "shared",
           "y": "shared"
          }
         }
        },
        {
         "hconcat": [
          {
           "data": {
            "format": {
             "type": "json"
            },
            "url": "altair-data-1e665d7f2a294010f41c5ad355fe53bc.json"
           },
           "height": 150,
           "layer": [
            {
             "encoding": {
              "x": {
               "field": "low_bound",
               "title": "",
               "type": "quantitative"
              },
              "x2": {
               "field": "up_bound"
              },
              "y": {
               "field": "height",
               "scale": {
                "zero": true
               },
               "type": "quantitative"
              }
             },
             "mark": {
              "color": "black",
              "opacity": 0.2,
              "type": "area"
             },
             "transform": [
              {
               "aggregate": [
                {
                 "as": "median",
                 "field": "value",
                 "op": "median"
                }
               ],
               "groupby": [
                "height",
                "tower"
               ]
              },
              {
               "as": "low_bound",
               "calculate": "datum.median - 0.2*datum.median"
              },
              {
               "as": "up_bound",
               "calculate": "datum.median + 0.2*datum.median"
              }
             ]
            },
            {
             "encoding": {
              "x": {
               "aggregate": "median",
               "field": "value",
               "sort": "-y",
               "title": "u'w' (m^2/s^2)",
               "type": "quantitative"
              },
              "y": {
               "field": "height",
               "scale": {
                "zero": true
               },
               "type": "quantitative"
              }
             },
             "mark": {
              "color": "black",
              "point": {
               "color": "black"
              },
              "type": "line"
             },
             "title": [
              "All data",
              "(n = 5981)"
             ]
            }
           ],
           "width": 150
          },
          {
           "data": {
            "format": {
             "type": "json"
            },
            "url": "altair-data-8e854e7f7410e05b782a42098e375011.json"
           },
           "height": 150,
           "layer": [
            {
             "encoding": {
              "color": {
               "field": "conditions",
               "scale": {
                "domain": [
                 "No BS, Daytime",
                 "No BS, Nighttime"
                ],
                "range": [
                 "#ff7f0e",
                 "#d62728"
                ]
               },
               "type": "nominal"
              },
              "x": {
               "field": "low_bound",
               "title": "",
               "type": "quantitative"
              },
              "x2": {
               "field": "up_bound"
              },
              "y": {
               "field": "height",
               "scale": {
                "zero": true
               },
               "title": "height (m)",
               "type": "quantitative"
              }
             },
             "mark": {
              "opacity": 0.25,
              "type": "area"
             },
             "transform": [
              {
               "aggregate": [
                {
                 "as": "median",
                 "field": "value",
                 "op": "median"
                }
               ],
               "groupby": [
                "height",
                "tower",
                "conditions"
               ]
              },
              {
               "as": "low_bound",
               "calculate": "datum.median - 0.2*datum.median"
              },
              {
               "as": "up_bound",
               "calculate": "datum.median + 0.2*datum.median"
              }
             ]
            },
            {
             "encoding": {
              "color": {
               "field": "conditions",
               "scale": {
                "domain": [
                 "No BS, Daytime",
                 "No BS, Nighttime"
                ],
                "range": [
                 "#ff7f0e",
                 "#d62728"
                ]
               },
               "type": "nominal"
              },
              "x": {
               "aggregate": "median",
               "field": "value",
               "sort": "-y",
               "title": "u'w' (m^2/s^2)",
               "type": "quantitative"
              },
              "y": {
               "field": "height",
               "scale": {
                "zero": true
               },
               "type": "quantitative"
              }
             },
             "mark": {
              "point": true,
              "type": "line"
             },
             "title": [
              "Stable"
             ]
            }
           ],
           "width": 150
          },
          {
           "data": {
            "format": {
             "type": "json"
            },
            "url": "altair-data-153849bb41e83fba0de544cd073abb8d.json"
           },
           "height": 150,
           "layer": [
            {
             "encoding": {
              "color": {
               "field": "conditions",
               "scale": {
                "domain": [
                 "No BS, Daytime",
                 "No BS, Nighttime"
                ],
                "range": [
                 "#ff7f0e",
                 "#d62728"
                ]
               },
               "type": "nominal"
              },
              "x": {
               "field": "low_bound",
               "title": "",
               "type": "quantitative"
              },
              "x2": {
               "field": "up_bound"
              },
              "y": {
               "field": "height",
               "scale": {
                "zero": true
               },
               "title": "height (m)",
               "type": "quantitative"
              }
             },
             "mark": {
              "opacity": 0.25,
              "type": "area"
             },
             "transform": [
              {
               "aggregate": [
                {
                 "as": "median",
                 "field": "value",
                 "op": "median"
                }
               ],
               "groupby": [
                "height",
                "tower",
                "conditions"
               ]
              },
              {
               "as": "low_bound",
               "calculate": "datum.median - 0.2*datum.median"
              },
              {
               "as": "up_bound",
               "calculate": "datum.median + 0.2*datum.median"
              }
             ]
            },
            {
             "encoding": {
              "color": {
               "field": "conditions",
               "scale": {
                "domain": [
                 "No BS, Daytime",
                 "No BS, Nighttime"
                ],
                "range": [
                 "#ff7f0e",
                 "#d62728"
                ]
               },
               "type": "nominal"
              },
              "x": {
               "aggregate": "median",
               "field": "value",
               "sort": "-y",
               "title": "u'w' (m^2/s^2)",
               "type": "quantitative"
              },
              "y": {
               "field": "height",
               "scale": {
                "zero": true
               },
               "type": "quantitative"
              }
             },
             "mark": {
              "point": true,
              "type": "line"
             },
             "title": [
              "Neutral"
             ]
            }
           ],
           "width": 150
          },
          {
           "data": {
            "format": {
             "type": "json"
            },
            "url": "altair-data-690d63252fc40defe598ffe2d1f7257a.json"
           },
           "height": 150,
           "layer": [
            {
             "encoding": {
              "color": {
               "field": "conditions",
               "scale": {
                "domain": [
                 "No BS, Daytime",
                 "No BS, Nighttime"
                ],
                "range": [
                 "#ff7f0e",
                 "#d62728"
                ]
               },
               "type": "nominal"
              },
              "x": {
               "field": "low_bound",
               "title": "",
               "type": "quantitative"
              },
              "x2": {
               "field": "up_bound"
              },
              "y": {
               "field": "height",
               "scale": {
                "zero": true
               },
               "title": "height (m)",
               "type": "quantitative"
              }
             },
             "mark": {
              "opacity": 0.25,
              "type": "area"
             },
             "transform": [
              {
               "aggregate": [
                {
                 "as": "median",
                 "field": "value",
                 "op": "median"
                }
               ],
               "groupby": [
                "height",
                "tower",
                "conditions"
               ]
              },
              {
               "as": "low_bound",
               "calculate": "datum.median - 0.2*datum.median"
              },
              {
               "as": "up_bound",
               "calculate": "datum.median + 0.2*datum.median"
              }
             ]
            },
            {
             "encoding": {
              "color": {
               "field": "conditions",
               "scale": {
                "domain": [
                 "No BS, Daytime",
                 "No BS, Nighttime"
                ],
                "range": [
                 "#ff7f0e",
                 "#d62728"
                ]
               },
               "type": "nominal"
              },
              "x": {
               "aggregate": "median",
               "field": "value",
               "sort": "-y",
               "title": "u'w' (m^2/s^2)",
               "type": "quantitative"
              },
              "y": {
               "field": "height",
               "scale": {
                "zero": true
               },
               "type": "quantitative"
              }
             },
             "mark": {
              "point": true,
              "type": "line"
             },
             "title": [
              "Unstable"
             ]
            }
           ],
           "width": 150
          }
         ],
         "resolve": {
          "scale": {
           "x": "shared",
           "y": "shared"
          }
         }
        },
        {
         "hconcat": [
          {
           "data": {
            "format": {
             "type": "json"
            },
            "url": "altair-data-0f46fe919a82a6ce332947b3f8849b0a.json"
           },
           "height": 150,
           "layer": [
            {
             "encoding": {
              "x": {
               "field": "low_bound",
               "title": "",
               "type": "quantitative"
              },
              "x2": {
               "field": "up_bound"
              },
              "y": {
               "field": "height",
               "scale": {
                "zero": true
               },
               "type": "quantitative"
              }
             },
             "mark": {
              "color": "black",
              "opacity": 0.2,
              "type": "area"
             },
             "transform": [
              {
               "aggregate": [
                {
                 "as": "median",
                 "field": "value",
                 "op": "median"
                }
               ],
               "groupby": [
                "height",
                "tower"
               ]
              },
              {
               "as": "low_bound",
               "calculate": "datum.median - 0.2*datum.median"
              },
              {
               "as": "up_bound",
               "calculate": "datum.median + 0.2*datum.median"
              }
             ]
            },
            {
             "encoding": {
              "x": {
               "aggregate": "median",
               "field": "value",
               "sort": "-y",
               "title": "v'w' (m^2/s^2)",
               "type": "quantitative"
              },
              "y": {
               "field": "height",
               "scale": {
                "zero": true
               },
               "type": "quantitative"
              }
             },
             "mark": {
              "color": "black",
              "point": {
               "color": "black"
              },
              "type": "line"
             },
             "title": [
              "All data",
              "(n = 5981)"
             ]
            }
           ],
           "width": 150
          },
          {
           "data": {
            "format": {
             "type": "json"
            },
            "url": "altair-data-a8355b3fdca8c30ccb3b59f6581d15e6.json"
           },
           "height": 150,
           "layer": [
            {
             "encoding": {
              "color": {
               "field": "conditions",
               "scale": {
                "domain": [
                 "No BS, Daytime",
                 "No BS, Nighttime"
                ],
                "range": [
                 "#ff7f0e",
                 "#d62728"
                ]
               },
               "type": "nominal"
              },
              "x": {
               "field": "low_bound",
               "title": "",
               "type": "quantitative"
              },
              "x2": {
               "field": "up_bound"
              },
              "y": {
               "field": "height",
               "scale": {
                "zero": true
               },
               "title": "height (m)",
               "type": "quantitative"
              }
             },
             "mark": {
              "opacity": 0.25,
              "type": "area"
             },
             "transform": [
              {
               "aggregate": [
                {
                 "as": "median",
                 "field": "value",
                 "op": "median"
                }
               ],
               "groupby": [
                "height",
                "tower",
                "conditions"
               ]
              },
              {
               "as": "low_bound",
               "calculate": "datum.median - 0.2*datum.median"
              },
              {
               "as": "up_bound",
               "calculate": "datum.median + 0.2*datum.median"
              }
             ]
            },
            {
             "encoding": {
              "color": {
               "field": "conditions",
               "scale": {
                "domain": [
                 "No BS, Daytime",
                 "No BS, Nighttime"
                ],
                "range": [
                 "#ff7f0e",
                 "#d62728"
                ]
               },
               "type": "nominal"
              },
              "x": {
               "aggregate": "median",
               "field": "value",
               "sort": "-y",
               "title": "v'w' (m^2/s^2)",
               "type": "quantitative"
              },
              "y": {
               "field": "height",
               "scale": {
                "zero": true
               },
               "type": "quantitative"
              }
             },
             "mark": {
              "point": true,
              "type": "line"
             },
             "title": [
              "Stable"
             ]
            }
           ],
           "width": 150
          },
          {
           "data": {
            "format": {
             "type": "json"
            },
            "url": "altair-data-36a8d07f42b214e64b9c9e010bdd14ca.json"
           },
           "height": 150,
           "layer": [
            {
             "encoding": {
              "color": {
               "field": "conditions",
               "scale": {
                "domain": [
                 "No BS, Daytime",
                 "No BS, Nighttime"
                ],
                "range": [
                 "#ff7f0e",
                 "#d62728"
                ]
               },
               "type": "nominal"
              },
              "x": {
               "field": "low_bound",
               "title": "",
               "type": "quantitative"
              },
              "x2": {
               "field": "up_bound"
              },
              "y": {
               "field": "height",
               "scale": {
                "zero": true
               },
               "title": "height (m)",
               "type": "quantitative"
              }
             },
             "mark": {
              "opacity": 0.25,
              "type": "area"
             },
             "transform": [
              {
               "aggregate": [
                {
                 "as": "median",
                 "field": "value",
                 "op": "median"
                }
               ],
               "groupby": [
                "height",
                "tower",
                "conditions"
               ]
              },
              {
               "as": "low_bound",
               "calculate": "datum.median - 0.2*datum.median"
              },
              {
               "as": "up_bound",
               "calculate": "datum.median + 0.2*datum.median"
              }
             ]
            },
            {
             "encoding": {
              "color": {
               "field": "conditions",
               "scale": {
                "domain": [
                 "No BS, Daytime",
                 "No BS, Nighttime"
                ],
                "range": [
                 "#ff7f0e",
                 "#d62728"
                ]
               },
               "type": "nominal"
              },
              "x": {
               "aggregate": "median",
               "field": "value",
               "sort": "-y",
               "title": "v'w' (m^2/s^2)",
               "type": "quantitative"
              },
              "y": {
               "field": "height",
               "scale": {
                "zero": true
               },
               "type": "quantitative"
              }
             },
             "mark": {
              "point": true,
              "type": "line"
             },
             "title": [
              "Neutral"
             ]
            }
           ],
           "width": 150
          },
          {
           "data": {
            "format": {
             "type": "json"
            },
            "url": "altair-data-ff5a7880423027115345f833f9914b42.json"
           },
           "height": 150,
           "layer": [
            {
             "encoding": {
              "color": {
               "field": "conditions",
               "scale": {
                "domain": [
                 "No BS, Daytime",
                 "No BS, Nighttime"
                ],
                "range": [
                 "#ff7f0e",
                 "#d62728"
                ]
               },
               "type": "nominal"
              },
              "x": {
               "field": "low_bound",
               "title": "",
               "type": "quantitative"
              },
              "x2": {
               "field": "up_bound"
              },
              "y": {
               "field": "height",
               "scale": {
                "zero": true
               },
               "title": "height (m)",
               "type": "quantitative"
              }
             },
             "mark": {
              "opacity": 0.25,
              "type": "area"
             },
             "transform": [
              {
               "aggregate": [
                {
                 "as": "median",
                 "field": "value",
                 "op": "median"
                }
               ],
               "groupby": [
                "height",
                "tower",
                "conditions"
               ]
              },
              {
               "as": "low_bound",
               "calculate": "datum.median - 0.2*datum.median"
              },
              {
               "as": "up_bound",
               "calculate": "datum.median + 0.2*datum.median"
              }
             ]
            },
            {
             "encoding": {
              "color": {
               "field": "conditions",
               "scale": {
                "domain": [
                 "No BS, Daytime",
                 "No BS, Nighttime"
                ],
                "range": [
                 "#ff7f0e",
                 "#d62728"
                ]
               },
               "type": "nominal"
              },
              "x": {
               "aggregate": "median",
               "field": "value",
               "sort": "-y",
               "title": "v'w' (m^2/s^2)",
               "type": "quantitative"
              },
              "y": {
               "field": "height",
               "scale": {
                "zero": true
               },
               "type": "quantitative"
              }
             },
             "mark": {
              "point": true,
              "type": "line"
             },
             "title": [
              "Unstable"
             ]
            }
           ],
           "width": 150
          }
         ],
         "resolve": {
          "scale": {
           "x": "shared",
           "y": "shared"
          }
         }
        },
        {
         "hconcat": [
          {
           "data": {
            "format": {
             "type": "json"
            },
            "url": "altair-data-993d9a3fa43fb57d055b113146ec8f53.json"
           },
           "height": 150,
           "layer": [
            {
             "encoding": {
              "x": {
               "field": "low_bound",
               "title": "",
               "type": "quantitative"
              },
              "x2": {
               "field": "up_bound"
              },
              "y": {
               "field": "height",
               "scale": {
                "zero": true
               },
               "type": "quantitative"
              }
             },
             "mark": {
              "color": "black",
              "opacity": 0.2,
              "type": "area"
             },
             "transform": [
              {
               "aggregate": [
                {
                 "as": "median",
                 "field": "value",
                 "op": "median"
                }
               ],
               "groupby": [
                "height",
                "tower"
               ]
              },
              {
               "as": "low_bound",
               "calculate": "datum.median - 0.2*datum.median"
              },
              {
               "as": "up_bound",
               "calculate": "datum.median + 0.2*datum.median"
              }
             ]
            },
            {
             "encoding": {
              "x": {
               "aggregate": "median",
               "field": "value",
               "sort": "-y",
               "title": "tke (m^2/s^2)",
               "type": "quantitative"
              },
              "y": {
               "field": "height",
               "scale": {
                "zero": true
               },
               "type": "quantitative"
              }
             },
             "mark": {
              "color": "black",
              "point": {
               "color": "black"
              },
              "type": "line"
             },
             "title": [
              "All data",
              "(n = 5981)"
             ]
            }
           ],
           "width": 150
          },
          {
           "data": {
            "format": {
             "type": "json"
            },
            "url": "altair-data-f6dcb1e616d51c04faf5444f25932f76.json"
           },
           "height": 150,
           "layer": [
            {
             "encoding": {
              "color": {
               "field": "conditions",
               "scale": {
                "domain": [
                 "No BS, Daytime",
                 "No BS, Nighttime"
                ],
                "range": [
                 "#ff7f0e",
                 "#d62728"
                ]
               },
               "type": "nominal"
              },
              "x": {
               "field": "low_bound",
               "title": "",
               "type": "quantitative"
              },
              "x2": {
               "field": "up_bound"
              },
              "y": {
               "field": "height",
               "scale": {
                "zero": true
               },
               "title": "height (m)",
               "type": "quantitative"
              }
             },
             "mark": {
              "opacity": 0.25,
              "type": "area"
             },
             "transform": [
              {
               "aggregate": [
                {
                 "as": "median",
                 "field": "value",
                 "op": "median"
                }
               ],
               "groupby": [
                "height",
                "tower",
                "conditions"
               ]
              },
              {
               "as": "low_bound",
               "calculate": "datum.median - 0.2*datum.median"
              },
              {
               "as": "up_bound",
               "calculate": "datum.median + 0.2*datum.median"
              }
             ]
            },
            {
             "encoding": {
              "color": {
               "field": "conditions",
               "scale": {
                "domain": [
                 "No BS, Daytime",
                 "No BS, Nighttime"
                ],
                "range": [
                 "#ff7f0e",
                 "#d62728"
                ]
               },
               "type": "nominal"
              },
              "x": {
               "aggregate": "median",
               "field": "value",
               "sort": "-y",
               "title": "tke (m^2/s^2)",
               "type": "quantitative"
              },
              "y": {
               "field": "height",
               "scale": {
                "zero": true
               },
               "type": "quantitative"
              }
             },
             "mark": {
              "point": true,
              "type": "line"
             },
             "title": [
              "Stable"
             ]
            }
           ],
           "width": 150
          },
          {
           "data": {
            "format": {
             "type": "json"
            },
            "url": "altair-data-b2642ef8946e8ecd520456aa45ef290a.json"
           },
           "height": 150,
           "layer": [
            {
             "encoding": {
              "color": {
               "field": "conditions",
               "scale": {
                "domain": [
                 "No BS, Daytime",
                 "No BS, Nighttime"
                ],
                "range": [
                 "#ff7f0e",
                 "#d62728"
                ]
               },
               "type": "nominal"
              },
              "x": {
               "field": "low_bound",
               "title": "",
               "type": "quantitative"
              },
              "x2": {
               "field": "up_bound"
              },
              "y": {
               "field": "height",
               "scale": {
                "zero": true
               },
               "title": "height (m)",
               "type": "quantitative"
              }
             },
             "mark": {
              "opacity": 0.25,
              "type": "area"
             },
             "transform": [
              {
               "aggregate": [
                {
                 "as": "median",
                 "field": "value",
                 "op": "median"
                }
               ],
               "groupby": [
                "height",
                "tower",
                "conditions"
               ]
              },
              {
               "as": "low_bound",
               "calculate": "datum.median - 0.2*datum.median"
              },
              {
               "as": "up_bound",
               "calculate": "datum.median + 0.2*datum.median"
              }
             ]
            },
            {
             "encoding": {
              "color": {
               "field": "conditions",
               "scale": {
                "domain": [
                 "No BS, Daytime",
                 "No BS, Nighttime"
                ],
                "range": [
                 "#ff7f0e",
                 "#d62728"
                ]
               },
               "type": "nominal"
              },
              "x": {
               "aggregate": "median",
               "field": "value",
               "sort": "-y",
               "title": "tke (m^2/s^2)",
               "type": "quantitative"
              },
              "y": {
               "field": "height",
               "scale": {
                "zero": true
               },
               "type": "quantitative"
              }
             },
             "mark": {
              "point": true,
              "type": "line"
             },
             "title": [
              "Neutral"
             ]
            }
           ],
           "width": 150
          },
          {
           "data": {
            "format": {
             "type": "json"
            },
            "url": "altair-data-7cb5b27fa6f7a5ea95a783dbb2b46121.json"
           },
           "height": 150,
           "layer": [
            {
             "encoding": {
              "color": {
               "field": "conditions",
               "scale": {
                "domain": [
                 "No BS, Daytime",
                 "No BS, Nighttime"
                ],
                "range": [
                 "#ff7f0e",
                 "#d62728"
                ]
               },
               "type": "nominal"
              },
              "x": {
               "field": "low_bound",
               "title": "",
               "type": "quantitative"
              },
              "x2": {
               "field": "up_bound"
              },
              "y": {
               "field": "height",
               "scale": {
                "zero": true
               },
               "title": "height (m)",
               "type": "quantitative"
              }
             },
             "mark": {
              "opacity": 0.25,
              "type": "area"
             },
             "transform": [
              {
               "aggregate": [
                {
                 "as": "median",
                 "field": "value",
                 "op": "median"
                }
               ],
               "groupby": [
                "height",
                "tower",
                "conditions"
               ]
              },
              {
               "as": "low_bound",
               "calculate": "datum.median - 0.2*datum.median"
              },
              {
               "as": "up_bound",
               "calculate": "datum.median + 0.2*datum.median"
              }
             ]
            },
            {
             "encoding": {
              "color": {
               "field": "conditions",
               "scale": {
                "domain": [
                 "No BS, Daytime",
                 "No BS, Nighttime"
                ],
                "range": [
                 "#ff7f0e",
                 "#d62728"
                ]
               },
               "type": "nominal"
              },
              "x": {
               "aggregate": "median",
               "field": "value",
               "sort": "-y",
               "title": "tke (m^2/s^2)",
               "type": "quantitative"
              },
              "y": {
               "field": "height",
               "scale": {
                "zero": true
               },
               "type": "quantitative"
              }
             },
             "mark": {
              "point": true,
              "type": "line"
             },
             "title": [
              "Unstable"
             ]
            }
           ],
           "width": 150
          }
         ],
         "resolve": {
          "scale": {
           "x": "shared",
           "y": "shared"
          }
         }
        },
        {
         "hconcat": [
          {
           "data": {
            "format": {
             "type": "json"
            },
            "url": "altair-data-bd7522c90356657bdb4bc6c265fedb82.json"
           },
           "height": 150,
           "layer": [
            {
             "encoding": {
              "x": {
               "field": "low_bound",
               "title": "",
               "type": "quantitative"
              },
              "x2": {
               "field": "up_bound"
              },
              "y": {
               "field": "height",
               "scale": {
                "zero": true
               },
               "type": "quantitative"
              }
             },
             "mark": {
              "color": "black",
              "opacity": 0.2,
              "type": "area"
             },
             "transform": [
              {
               "aggregate": [
                {
                 "as": "median",
                 "field": "value",
                 "op": "median"
                }
               ],
               "groupby": [
                "height",
                "tower"
               ]
              },
              {
               "as": "low_bound",
               "calculate": "datum.median - 0.2*datum.median"
              },
              {
               "as": "up_bound",
               "calculate": "datum.median + 0.2*datum.median"
              }
             ]
            },
            {
             "encoding": {
              "x": {
               "aggregate": "median",
               "field": "value",
               "sort": "-y",
               "title": "(<w'w'>)^0.5 / u*",
               "type": "quantitative"
              },
              "y": {
               "field": "height",
               "scale": {
                "zero": true
               },
               "type": "quantitative"
              }
             },
             "mark": {
              "color": "black",
              "point": {
               "color": "black"
              },
              "type": "line"
             },
             "title": [
              "All data",
              "(n = 5981)"
             ]
            }
           ],
           "width": 150
          },
          {
           "data": {
            "format": {
             "type": "json"
            },
            "url": "altair-data-b8ac63785bfca71abaed536778467ec2.json"
           },
           "height": 150,
           "layer": [
            {
             "encoding": {
              "color": {
               "field": "conditions",
               "scale": {
                "domain": [
                 "No BS, Daytime",
                 "No BS, Nighttime"
                ],
                "range": [
                 "#ff7f0e",
                 "#d62728"
                ]
               },
               "type": "nominal"
              },
              "x": {
               "field": "low_bound",
               "title": "",
               "type": "quantitative"
              },
              "x2": {
               "field": "up_bound"
              },
              "y": {
               "field": "height",
               "scale": {
                "zero": true
               },
               "title": "height (m)",
               "type": "quantitative"
              }
             },
             "mark": {
              "opacity": 0.25,
              "type": "area"
             },
             "transform": [
              {
               "aggregate": [
                {
                 "as": "median",
                 "field": "value",
                 "op": "median"
                }
               ],
               "groupby": [
                "height",
                "tower",
                "conditions"
               ]
              },
              {
               "as": "low_bound",
               "calculate": "datum.median - 0.2*datum.median"
              },
              {
               "as": "up_bound",
               "calculate": "datum.median + 0.2*datum.median"
              }
             ]
            },
            {
             "encoding": {
              "color": {
               "field": "conditions",
               "scale": {
                "domain": [
                 "No BS, Daytime",
                 "No BS, Nighttime"
                ],
                "range": [
                 "#ff7f0e",
                 "#d62728"
                ]
               },
               "type": "nominal"
              },
              "x": {
               "aggregate": "median",
               "field": "value",
               "sort": "-y",
               "title": "(<w'w'>)^0.5 / u*",
               "type": "quantitative"
              },
              "y": {
               "field": "height",
               "scale": {
                "zero": true
               },
               "type": "quantitative"
              }
             },
             "mark": {
              "point": true,
              "type": "line"
             },
             "title": [
              "Stable"
             ]
            }
           ],
           "width": 150
          },
          {
           "data": {
            "format": {
             "type": "json"
            },
            "url": "altair-data-7dad4ac6049135d69330a27d61bd268f.json"
           },
           "height": 150,
           "layer": [
            {
             "encoding": {
              "color": {
               "field": "conditions",
               "scale": {
                "domain": [
                 "No BS, Daytime",
                 "No BS, Nighttime"
                ],
                "range": [
                 "#ff7f0e",
                 "#d62728"
                ]
               },
               "type": "nominal"
              },
              "x": {
               "field": "low_bound",
               "title": "",
               "type": "quantitative"
              },
              "x2": {
               "field": "up_bound"
              },
              "y": {
               "field": "height",
               "scale": {
                "zero": true
               },
               "title": "height (m)",
               "type": "quantitative"
              }
             },
             "mark": {
              "opacity": 0.25,
              "type": "area"
             },
             "transform": [
              {
               "aggregate": [
                {
                 "as": "median",
                 "field": "value",
                 "op": "median"
                }
               ],
               "groupby": [
                "height",
                "tower",
                "conditions"
               ]
              },
              {
               "as": "low_bound",
               "calculate": "datum.median - 0.2*datum.median"
              },
              {
               "as": "up_bound",
               "calculate": "datum.median + 0.2*datum.median"
              }
             ]
            },
            {
             "encoding": {
              "color": {
               "field": "conditions",
               "scale": {
                "domain": [
                 "No BS, Daytime",
                 "No BS, Nighttime"
                ],
                "range": [
                 "#ff7f0e",
                 "#d62728"
                ]
               },
               "type": "nominal"
              },
              "x": {
               "aggregate": "median",
               "field": "value",
               "sort": "-y",
               "title": "(<w'w'>)^0.5 / u*",
               "type": "quantitative"
              },
              "y": {
               "field": "height",
               "scale": {
                "zero": true
               },
               "type": "quantitative"
              }
             },
             "mark": {
              "point": true,
              "type": "line"
             },
             "title": [
              "Neutral"
             ]
            }
           ],
           "width": 150
          },
          {
           "data": {
            "format": {
             "type": "json"
            },
            "url": "altair-data-66de4bd4e3947845b1fd03a37dc04d3d.json"
           },
           "height": 150,
           "layer": [
            {
             "encoding": {
              "color": {
               "field": "conditions",
               "scale": {
                "domain": [
                 "No BS, Daytime",
                 "No BS, Nighttime"
                ],
                "range": [
                 "#ff7f0e",
                 "#d62728"
                ]
               },
               "type": "nominal"
              },
              "x": {
               "field": "low_bound",
               "title": "",
               "type": "quantitative"
              },
              "x2": {
               "field": "up_bound"
              },
              "y": {
               "field": "height",
               "scale": {
                "zero": true
               },
               "title": "height (m)",
               "type": "quantitative"
              }
             },
             "mark": {
              "opacity": 0.25,
              "type": "area"
             },
             "transform": [
              {
               "aggregate": [
                {
                 "as": "median",
                 "field": "value",
                 "op": "median"
                }
               ],
               "groupby": [
                "height",
                "tower",
                "conditions"
               ]
              },
              {
               "as": "low_bound",
               "calculate": "datum.median - 0.2*datum.median"
              },
              {
               "as": "up_bound",
               "calculate": "datum.median + 0.2*datum.median"
              }
             ]
            },
            {
             "encoding": {
              "color": {
               "field": "conditions",
               "scale": {
                "domain": [
                 "No BS, Daytime",
                 "No BS, Nighttime"
                ],
                "range": [
                 "#ff7f0e",
                 "#d62728"
                ]
               },
               "type": "nominal"
              },
              "x": {
               "aggregate": "median",
               "field": "value",
               "sort": "-y",
               "title": "(<w'w'>)^0.5 / u*",
               "type": "quantitative"
              },
              "y": {
               "field": "height",
               "scale": {
                "zero": true
               },
               "type": "quantitative"
              }
             },
             "mark": {
              "point": true,
              "type": "line"
             },
             "title": [
              "Unstable"
             ]
            }
           ],
           "width": 150
          }
         ],
         "resolve": {
          "scale": {
           "x": "shared",
           "y": "shared"
          }
         }
        },
        {
         "hconcat": [
          {
           "data": {
            "format": {
             "type": "json"
            },
            "url": "altair-data-63495fc6600030046fabf58cabe155dd.json"
           },
           "height": 150,
           "layer": [
            {
             "encoding": {
              "x": {
               "field": "low_bound",
               "title": "",
               "type": "quantitative"
              },
              "x2": {
               "field": "up_bound"
              },
              "y": {
               "field": "height",
               "scale": {
                "zero": true
               },
               "type": "quantitative"
              }
             },
             "mark": {
              "color": "black",
              "opacity": 0.2,
              "type": "area"
             },
             "transform": [
              {
               "aggregate": [
                {
                 "as": "median",
                 "field": "value",
                 "op": "median"
                }
               ],
               "groupby": [
                "height",
                "tower"
               ]
              },
              {
               "as": "low_bound",
               "calculate": "datum.median - 0.2*datum.median"
              },
              {
               "as": "up_bound",
               "calculate": "datum.median + 0.2*datum.median"
              }
             ]
            },
            {
             "encoding": {
              "x": {
               "aggregate": "median",
               "field": "value",
               "sort": "-y",
               "title": "(tke)^0.5 / u*",
               "type": "quantitative"
              },
              "y": {
               "field": "height",
               "scale": {
                "zero": true
               },
               "type": "quantitative"
              }
             },
             "mark": {
              "color": "black",
              "point": {
               "color": "black"
              },
              "type": "line"
             },
             "title": [
              "All data",
              "(n = 5981)"
             ]
            }
           ],
           "width": 150
          },
          {
           "data": {
            "format": {
             "type": "json"
            },
            "url": "altair-data-6259f13351745270d536b37ba5f838e6.json"
           },
           "height": 150,
           "layer": [
            {
             "encoding": {
              "color": {
               "field": "conditions",
               "scale": {
                "domain": [
                 "No BS, Daytime",
                 "No BS, Nighttime"
                ],
                "range": [
                 "#ff7f0e",
                 "#d62728"
                ]
               },
               "type": "nominal"
              },
              "x": {
               "field": "low_bound",
               "title": "",
               "type": "quantitative"
              },
              "x2": {
               "field": "up_bound"
              },
              "y": {
               "field": "height",
               "scale": {
                "zero": true
               },
               "title": "height (m)",
               "type": "quantitative"
              }
             },
             "mark": {
              "opacity": 0.25,
              "type": "area"
             },
             "transform": [
              {
               "aggregate": [
                {
                 "as": "median",
                 "field": "value",
                 "op": "median"
                }
               ],
               "groupby": [
                "height",
                "tower",
                "conditions"
               ]
              },
              {
               "as": "low_bound",
               "calculate": "datum.median - 0.2*datum.median"
              },
              {
               "as": "up_bound",
               "calculate": "datum.median + 0.2*datum.median"
              }
             ]
            },
            {
             "encoding": {
              "color": {
               "field": "conditions",
               "scale": {
                "domain": [
                 "No BS, Daytime",
                 "No BS, Nighttime"
                ],
                "range": [
                 "#ff7f0e",
                 "#d62728"
                ]
               },
               "type": "nominal"
              },
              "x": {
               "aggregate": "median",
               "field": "value",
               "sort": "-y",
               "title": "(tke)^0.5 / u*",
               "type": "quantitative"
              },
              "y": {
               "field": "height",
               "scale": {
                "zero": true
               },
               "type": "quantitative"
              }
             },
             "mark": {
              "point": true,
              "type": "line"
             },
             "title": [
              "Stable"
             ]
            }
           ],
           "width": 150
          },
          {
           "data": {
            "format": {
             "type": "json"
            },
            "url": "altair-data-867505e47c7497c55937746148f4c1a7.json"
           },
           "height": 150,
           "layer": [
            {
             "encoding": {
              "color": {
               "field": "conditions",
               "scale": {
                "domain": [
                 "No BS, Daytime",
                 "No BS, Nighttime"
                ],
                "range": [
                 "#ff7f0e",
                 "#d62728"
                ]
               },
               "type": "nominal"
              },
              "x": {
               "field": "low_bound",
               "title": "",
               "type": "quantitative"
              },
              "x2": {
               "field": "up_bound"
              },
              "y": {
               "field": "height",
               "scale": {
                "zero": true
               },
               "title": "height (m)",
               "type": "quantitative"
              }
             },
             "mark": {
              "opacity": 0.25,
              "type": "area"
             },
             "transform": [
              {
               "aggregate": [
                {
                 "as": "median",
                 "field": "value",
                 "op": "median"
                }
               ],
               "groupby": [
                "height",
                "tower",
                "conditions"
               ]
              },
              {
               "as": "low_bound",
               "calculate": "datum.median - 0.2*datum.median"
              },
              {
               "as": "up_bound",
               "calculate": "datum.median + 0.2*datum.median"
              }
             ]
            },
            {
             "encoding": {
              "color": {
               "field": "conditions",
               "scale": {
                "domain": [
                 "No BS, Daytime",
                 "No BS, Nighttime"
                ],
                "range": [
                 "#ff7f0e",
                 "#d62728"
                ]
               },
               "type": "nominal"
              },
              "x": {
               "aggregate": "median",
               "field": "value",
               "sort": "-y",
               "title": "(tke)^0.5 / u*",
               "type": "quantitative"
              },
              "y": {
               "field": "height",
               "scale": {
                "zero": true
               },
               "type": "quantitative"
              }
             },
             "mark": {
              "point": true,
              "type": "line"
             },
             "title": [
              "Neutral"
             ]
            }
           ],
           "width": 150
          },
          {
           "data": {
            "format": {
             "type": "json"
            },
            "url": "altair-data-82209bb99e31af4bda90f9bdc9f314b4.json"
           },
           "height": 150,
           "layer": [
            {
             "encoding": {
              "color": {
               "field": "conditions",
               "scale": {
                "domain": [
                 "No BS, Daytime",
                 "No BS, Nighttime"
                ],
                "range": [
                 "#ff7f0e",
                 "#d62728"
                ]
               },
               "type": "nominal"
              },
              "x": {
               "field": "low_bound",
               "title": "",
               "type": "quantitative"
              },
              "x2": {
               "field": "up_bound"
              },
              "y": {
               "field": "height",
               "scale": {
                "zero": true
               },
               "title": "height (m)",
               "type": "quantitative"
              }
             },
             "mark": {
              "opacity": 0.25,
              "type": "area"
             },
             "transform": [
              {
               "aggregate": [
                {
                 "as": "median",
                 "field": "value",
                 "op": "median"
                }
               ],
               "groupby": [
                "height",
                "tower",
                "conditions"
               ]
              },
              {
               "as": "low_bound",
               "calculate": "datum.median - 0.2*datum.median"
              },
              {
               "as": "up_bound",
               "calculate": "datum.median + 0.2*datum.median"
              }
             ]
            },
            {
             "encoding": {
              "color": {
               "field": "conditions",
               "scale": {
                "domain": [
                 "No BS, Daytime",
                 "No BS, Nighttime"
                ],
                "range": [
                 "#ff7f0e",
                 "#d62728"
                ]
               },
               "type": "nominal"
              },
              "x": {
               "aggregate": "median",
               "field": "value",
               "sort": "-y",
               "title": "(tke)^0.5 / u*",
               "type": "quantitative"
              },
              "y": {
               "field": "height",
               "scale": {
                "zero": true
               },
               "type": "quantitative"
              }
             },
             "mark": {
              "point": true,
              "type": "line"
             },
             "title": [
              "Unstable"
             ]
            }
           ],
           "width": 150
          }
         ],
         "resolve": {
          "scale": {
           "x": "shared",
           "y": "shared"
          }
         }
        },
        {
         "hconcat": [
          {
           "data": {
            "format": {
             "type": "json"
            },
            "url": "altair-data-b4f8ac5c5720cc407bbabdf3b0df344a.json"
           },
           "height": 150,
           "layer": [
            {
             "encoding": {
              "x": {
               "field": "low_bound",
               "title": "",
               "type": "quantitative"
              },
              "x2": {
               "field": "up_bound"
              },
              "y": {
               "field": "height",
               "scale": {
                "zero": true
               },
               "type": "quantitative"
              }
             },
             "mark": {
              "color": "black",
              "opacity": 0.2,
              "type": "area"
             },
             "transform": [
              {
               "aggregate": [
                {
                 "as": "median",
                 "field": "value",
                 "op": "median"
                }
               ],
               "groupby": [
                "height",
                "tower"
               ]
              },
              {
               "as": "low_bound",
               "calculate": "datum.median - 0.2*datum.median"
              },
              {
               "as": "up_bound",
               "calculate": "datum.median + 0.2*datum.median"
              }
             ]
            },
            {
             "encoding": {
              "x": {
               "aggregate": "median",
               "field": "value",
               "sort": "-y",
               "title": "wind speed (m/s)",
               "type": "quantitative"
              },
              "y": {
               "field": "height",
               "scale": {
                "zero": true
               },
               "type": "quantitative"
              }
             },
             "mark": {
              "color": "black",
              "point": {
               "color": "black"
              },
              "type": "line"
             },
             "title": [
              "All data",
              "(n = 5981)"
             ]
            }
           ],
           "width": 150
          },
          {
           "data": {
            "format": {
             "type": "json"
            },
            "url": "altair-data-02b5708ba0297aaeb1f2735e964a14df.json"
           },
           "height": 150,
           "layer": [
            {
             "encoding": {
              "color": {
               "field": "conditions",
               "scale": {
                "domain": [
                 "No BS, Daytime",
                 "No BS, Nighttime"
                ],
                "range": [
                 "#ff7f0e",
                 "#d62728"
                ]
               },
               "type": "nominal"
              },
              "x": {
               "field": "low_bound",
               "title": "",
               "type": "quantitative"
              },
              "x2": {
               "field": "up_bound"
              },
              "y": {
               "field": "height",
               "scale": {
                "zero": true
               },
               "title": "height (m)",
               "type": "quantitative"
              }
             },
             "mark": {
              "opacity": 0.25,
              "type": "area"
             },
             "transform": [
              {
               "aggregate": [
                {
                 "as": "median",
                 "field": "value",
                 "op": "median"
                }
               ],
               "groupby": [
                "height",
                "tower",
                "conditions"
               ]
              },
              {
               "as": "low_bound",
               "calculate": "datum.median - 0.2*datum.median"
              },
              {
               "as": "up_bound",
               "calculate": "datum.median + 0.2*datum.median"
              }
             ]
            },
            {
             "encoding": {
              "color": {
               "field": "conditions",
               "scale": {
                "domain": [
                 "No BS, Daytime",
                 "No BS, Nighttime"
                ],
                "range": [
                 "#ff7f0e",
                 "#d62728"
                ]
               },
               "type": "nominal"
              },
              "x": {
               "aggregate": "median",
               "field": "value",
               "sort": "-y",
               "title": "wind speed (m/s)",
               "type": "quantitative"
              },
              "y": {
               "field": "height",
               "scale": {
                "zero": true
               },
               "type": "quantitative"
              }
             },
             "mark": {
              "point": true,
              "type": "line"
             },
             "title": [
              "Stable"
             ]
            }
           ],
           "width": 150
          },
          {
           "data": {
            "format": {
             "type": "json"
            },
            "url": "altair-data-a48dd0d41d5e2c732d486d203a99c850.json"
           },
           "height": 150,
           "layer": [
            {
             "encoding": {
              "color": {
               "field": "conditions",
               "scale": {
                "domain": [
                 "No BS, Daytime",
                 "No BS, Nighttime"
                ],
                "range": [
                 "#ff7f0e",
                 "#d62728"
                ]
               },
               "type": "nominal"
              },
              "x": {
               "field": "low_bound",
               "title": "",
               "type": "quantitative"
              },
              "x2": {
               "field": "up_bound"
              },
              "y": {
               "field": "height",
               "scale": {
                "zero": true
               },
               "title": "height (m)",
               "type": "quantitative"
              }
             },
             "mark": {
              "opacity": 0.25,
              "type": "area"
             },
             "transform": [
              {
               "aggregate": [
                {
                 "as": "median",
                 "field": "value",
                 "op": "median"
                }
               ],
               "groupby": [
                "height",
                "tower",
                "conditions"
               ]
              },
              {
               "as": "low_bound",
               "calculate": "datum.median - 0.2*datum.median"
              },
              {
               "as": "up_bound",
               "calculate": "datum.median + 0.2*datum.median"
              }
             ]
            },
            {
             "encoding": {
              "color": {
               "field": "conditions",
               "scale": {
                "domain": [
                 "No BS, Daytime",
                 "No BS, Nighttime"
                ],
                "range": [
                 "#ff7f0e",
                 "#d62728"
                ]
               },
               "type": "nominal"
              },
              "x": {
               "aggregate": "median",
               "field": "value",
               "sort": "-y",
               "title": "wind speed (m/s)",
               "type": "quantitative"
              },
              "y": {
               "field": "height",
               "scale": {
                "zero": true
               },
               "type": "quantitative"
              }
             },
             "mark": {
              "point": true,
              "type": "line"
             },
             "title": [
              "Neutral"
             ]
            }
           ],
           "width": 150
          },
          {
           "data": {
            "format": {
             "type": "json"
            },
            "url": "altair-data-bcf517ddc2535f8404172c39c65617d2.json"
           },
           "height": 150,
           "layer": [
            {
             "encoding": {
              "color": {
               "field": "conditions",
               "scale": {
                "domain": [
                 "No BS, Daytime",
                 "No BS, Nighttime"
                ],
                "range": [
                 "#ff7f0e",
                 "#d62728"
                ]
               },
               "type": "nominal"
              },
              "x": {
               "field": "low_bound",
               "title": "",
               "type": "quantitative"
              },
              "x2": {
               "field": "up_bound"
              },
              "y": {
               "field": "height",
               "scale": {
                "zero": true
               },
               "title": "height (m)",
               "type": "quantitative"
              }
             },
             "mark": {
              "opacity": 0.25,
              "type": "area"
             },
             "transform": [
              {
               "aggregate": [
                {
                 "as": "median",
                 "field": "value",
                 "op": "median"
                }
               ],
               "groupby": [
                "height",
                "tower",
                "conditions"
               ]
              },
              {
               "as": "low_bound",
               "calculate": "datum.median - 0.2*datum.median"
              },
              {
               "as": "up_bound",
               "calculate": "datum.median + 0.2*datum.median"
              }
             ]
            },
            {
             "encoding": {
              "color": {
               "field": "conditions",
               "scale": {
                "domain": [
                 "No BS, Daytime",
                 "No BS, Nighttime"
                ],
                "range": [
                 "#ff7f0e",
                 "#d62728"
                ]
               },
               "type": "nominal"
              },
              "x": {
               "aggregate": "median",
               "field": "value",
               "sort": "-y",
               "title": "wind speed (m/s)",
               "type": "quantitative"
              },
              "y": {
               "field": "height",
               "scale": {
                "zero": true
               },
               "type": "quantitative"
              }
             },
             "mark": {
              "point": true,
              "type": "line"
             },
             "title": [
              "Unstable"
             ]
            }
           ],
           "width": 150
          }
         ],
         "resolve": {
          "scale": {
           "x": "shared",
           "y": "shared"
          }
         }
        }
       ]
      },
      "text/plain": [
       "<VegaLite 5 object>\n",
       "\n",
       "If you see this message, it means the renderer has not been properly enabled\n",
       "for the frontend that you are using. For more information, see\n",
       "https://altair-viz.github.io/user_guide/display_frontends.html#troubleshooting\n"
      ]
     },
     "execution_count": 27,
     "metadata": {},
     "output_type": "execute_result"
    }
   ],
   "source": [
    "vertical_flux_profiles_4_plots &\\\n",
    "plot_for_turb_variables(w_tc__measurements_df,      \"<w't'> (K/m^2/s)\") &\\\n",
    "plot_for_turb_variables(ustar_measurements_df,      \"u* (m/s)\")         &\\\n",
    "plot_for_turb_variables(u_h2o__measurements_df,     \"u'q' (g/m^2/s)\")   &\\\n",
    "plot_for_turb_variables(v_h2o__measurements_df,     \"v'q' (g/m^2/s)\")   &\\\n",
    "plot_for_turb_variables(u_w__measurements_df,       \"u'w' (m^2/s^2)\")   &\\\n",
    "plot_for_turb_variables(v_w__measurements_df,       \"v'w' (m^2/s^2)\")   &\\\n",
    "plot_for_turb_variables(tke_measurements_df,        \"tke (m^2/s^2)\")   &\\\n",
    "plot_for_turb_variables(w_w_scaled_df,              \"(<w'w'>)^0.5 / u*\") &\\\n",
    "plot_for_turb_variables(tke_scaled_df,              \"(tke)^0.5 / u*\") &\\\n",
    "plot_for_turb_variables(spd_measurements_df,              \"wind speed (m/s)\")"
   ]
  },
  {
   "cell_type": "markdown",
   "metadata": {},
   "source": [
    "# EXTRA STUFF"
   ]
  },
  {
   "cell_type": "markdown",
   "metadata": {},
   "source": [
    "# EXTRA STUFF"
   ]
  },
  {
   "cell_type": "markdown",
   "metadata": {},
   "source": [
    "# EXTRA STUFF"
   ]
  },
  {
   "cell_type": "markdown",
   "metadata": {},
   "source": [
    "# EXTRA STUFF"
   ]
  },
  {
   "cell_type": "markdown",
   "metadata": {},
   "source": [
    "# EXTRA STUFF"
   ]
  },
  {
   "cell_type": "markdown",
   "metadata": {},
   "source": [
    "# Create sub groups of the separate measurements"
   ]
  },
  {
   "cell_type": "code",
   "execution_count": null,
   "metadata": {},
   "outputs": [],
   "source": [
    "def filt_times(df, times):\n",
    "    return df[df.time.isin(times)]\n",
    "\n",
    "def get_groups(df):\n",
    "    return (\n",
    "        filt_times(df, bs_times),\n",
    "        filt_times(df, nobs_times),\n",
    "        filt_times(df, decoupled_times),\n",
    "        filt_times(df, weaklycoupled_times),\n",
    "        filt_times(df, coupled_times),\n",
    "        filt_times(df, ri_stable_times),\n",
    "        filt_times(df, ri_unstable_times),\n",
    "        filt_times(df, ri_neutral_times),\n",
    "        filt_times(df, tgrad_stable_times),\n",
    "        filt_times(df, tgrad_unstable_times),\n",
    "        filt_times(df, tgrad_neutral_times)\n",
    "    )\n",
    "\n",
    "# <w> measurements - divide into groups\n",
    "(bs_w_df, nobs_w_df, decoupled_w_df, weaklycoupled_w_df, coupled_w_df, \n",
    "ri_stable_w_df, ri_unstable_w_df, ri_neutral_w_df, \n",
    "tgrad_stable_w_df, tgrad_unstable_w_df, tgrad_neutral_w_df ) = get_groups(w_measurements_df)\n",
    "\n",
    "# <u> measurements - divide into groups\n",
    "(bs_u_df, nobs_u_df, decoupled_u_df, weaklycoupled_u_df, coupled_u_df, \n",
    "ri_stable_u_df, ri_unstable_u_df, ri_neutral_u_df, \n",
    "tgrad_stable_u_df, tgrad_unstable_u_df, tgrad_neutral_u_df ) = get_groups(u_measurements_df)\n",
    "\n",
    "# <v> measurements - divide into groups\n",
    "(bs_v_df, nobs_v_df, decoupled_v_df, weaklycoupled_v_df, coupled_v_df, \n",
    "ri_stable_v_df, ri_unstable_v_df, ri_neutral_v_df, \n",
    "tgrad_stable_v_df, tgrad_unstable_v_df, tgrad_neutral_v_df ) = get_groups(v_measurements_df)\n",
    "\n",
    "# <q> measurements - divide into groups\n",
    "(bs_q_df, nobs_q_df, decoupled_q_df, weaklycoupled_q_df, coupled_q_df, \n",
    "ri_stable_q_df, ri_unstable_q_df, ri_neutral_q_df, \n",
    "tgrad_stable_q_df, tgrad_unstable_q_df, tgrad_neutral_q_df ) = get_groups(q_measurements_df)\n",
    "\n",
    "# tke measurements - divide into groups\n",
    "(bs_tke_df, nobs_tke_df, decoupled_tke_df, weaklycoupled_tke_df, coupled_tke_df, \n",
    "ri_stable_tke_df, ri_unstable_tke_df, ri_neutral_tke_df, \n",
    "tgrad_stable_tke_df, tgrad_unstable_tke_df, tgrad_neutral_tke_df ) = get_groups(tke_measurements_df)\n",
    "\n",
    "# <w'w'> measurements - divide into groups\n",
    "(bs_w_w__df, nobs_w_w__df, decoupled_w_w__df, weaklycoupled_w_w__df, coupled_w_w__df, \n",
    "ri_stable_w_w__df, ri_unstable_w_w__df, ri_neutral_w_w__df, \n",
    "tgrad_stable_w_w__df, tgrad_unstable_w_w__df, tgrad_neutral_w_w__df ) = get_groups(w_w__measurements_df)\n",
    "\n",
    "# <w'q'> measurements - divide into groups\n",
    "(bs_w_h2o_df, nobs_w_h2o_df, decoupled_w_h2o_df, weaklycoupled_w_h2o_df, coupled_w_h2o_df, \n",
    "ri_stable_w_h2o_df, ri_unstable_w_h2o_df, ri_neutral_w_h2o_df, \n",
    "tgrad_stable_w_h2o_df, tgrad_unstable_w_h2o_df, tgrad_neutral_w_h2o_df ) = get_groups(w_h2o__measurements_df)\n",
    "\n",
    "# create dfs that have bs/no-bs labels\n",
    "w_h2o__df_with_bs_indicator = pd.concat([\n",
    "    filt_times(w_h2o__measurements_df, nobs_times).assign(conditions='No BS'),\n",
    "    filt_times(w_h2o__measurements_df, bs_times).assign(conditions='BS')\n",
    "])\n",
    "w_h2o__tgrad_stable_df_with_bs_indicator = pd.concat([\n",
    "    filt_times( w_h2o__measurements_df, set(nobs_times).intersection(set(tgrad_stable_times))).assign(conditions='No BS'),\n",
    "    filt_times( w_h2o__measurements_df, set(bs_times).intersection(set(tgrad_stable_times))).assign(conditions='BS')\n",
    "])\n",
    "w_h2o__tgrad_neutral_df_with_bs_indicator = pd.concat([\n",
    "    filt_times( w_h2o__measurements_df, set(nobs_times).intersection(set(tgrad_neutral_times))).assign(conditions='No BS'),\n",
    "    filt_times( w_h2o__measurements_df, set(bs_times).intersection(set(tgrad_neutral_times))).assign(conditions='BS')\n",
    "])\n",
    "w_h2o__tgrad_unstable_df_with_bs_indicator = pd.concat([\n",
    "    filt_times( w_h2o__measurements_df, set(nobs_times).intersection(set(tgrad_unstable_times))).assign(conditions='No BS'),\n",
    "    filt_times( w_h2o__measurements_df, set(bs_times).intersection(set(tgrad_unstable_times))).assign(conditions='BS')\n",
    "])\n",
    "\n",
    "\n",
    "# <u'q'> measurements - divide into groups\n",
    "(bs_u_h2o_df, nobs_u_h2o_df, decoupled_u_h2o_df, weaklycoupled_u_h2o_df, coupled_u_h2o_df, \n",
    "ri_stable_u_h2o_df, ri_unstable_u_h2o_df, ri_neutral_u_h2o_df, \n",
    "tgrad_stable_u_h2o_df, tgrad_unstable_u_h2o_df, tgrad_neutral_u_h2o_df ) = get_groups(u_h2o__measurements_df)\n",
    "\n",
    "u_h2o__df_with_bs_indicator = pd.concat([\n",
    "    filt_times(u_h2o__measurements_df, nobs_times).assign(conditions='No BS'),\n",
    "    filt_times(u_h2o__measurements_df, bs_times).assign(conditions='BS')\n",
    "])\n",
    "u_h2o__tgrad_stable_df_with_bs_indicator = pd.concat([\n",
    "    filt_times( u_h2o__measurements_df, set(nobs_times).intersection(set(tgrad_stable_times))).assign(conditions='No BS'),\n",
    "    filt_times( u_h2o__measurements_df, set(bs_times).intersection(set(tgrad_stable_times))).assign(conditions='BS')\n",
    "])\n",
    "u_h2o__tgrad_neutral_df_with_bs_indicator = pd.concat([\n",
    "    filt_times( u_h2o__measurements_df, set(nobs_times).intersection(set(tgrad_neutral_times))).assign(conditions='No BS'),\n",
    "    filt_times( u_h2o__measurements_df, set(bs_times).intersection(set(tgrad_neutral_times))).assign(conditions='BS')\n",
    "])\n",
    "u_h2o__tgrad_unstable_df_with_bs_indicator = pd.concat([\n",
    "    filt_times( u_h2o__measurements_df, set(nobs_times).intersection(set(tgrad_unstable_times))).assign(conditions='No BS'),\n",
    "    filt_times( u_h2o__measurements_df, set(bs_times).intersection(set(tgrad_unstable_times))).assign(conditions='BS')\n",
    "])\n",
    "\n",
    "# <v'q'> measurements - divide into groups\n",
    "(bs_v_h2o_df, nobs_v_h2o_df, decoupled_v_h2o_df, weaklycoupled_v_h2o_df, coupled_v_h2o_df, \n",
    "ri_stable_v_h2o_df, ri_unstable_v_h2o_df, ri_neutral_v_h2o_df, \n",
    "tgrad_stable_v_h2o_df, tgrad_unstable_v_h2o_df, tgrad_neutral_v_h2o_df ) = get_groups(v_h2o__measurements_df)\n",
    "\n",
    "v_h2o__df_with_bs_indicator = pd.concat([\n",
    "    filt_times(v_h2o__measurements_df, nobs_times).assign(conditions='No BS'),\n",
    "    filt_times(v_h2o__measurements_df, bs_times).assign(conditions='BS')\n",
    "])\n",
    "v_h2o__tgrad_stable_df_with_bs_indicator = pd.concat([\n",
    "    filt_times( v_h2o__measurements_df, set(nobs_times).intersection(set(tgrad_stable_times))).assign(conditions='No BS'),\n",
    "    filt_times( v_h2o__measurements_df, set(bs_times).intersection(set(tgrad_stable_times))).assign(conditions='BS')\n",
    "])\n",
    "v_h2o__tgrad_neutral_df_with_bs_indicator = pd.concat([\n",
    "    filt_times( v_h2o__measurements_df, set(nobs_times).intersection(set(tgrad_neutral_times))).assign(conditions='No BS'),\n",
    "    filt_times( v_h2o__measurements_df, set(bs_times).intersection(set(tgrad_neutral_times))).assign(conditions='BS')\n",
    "])\n",
    "v_h2o__tgrad_unstable_df_with_bs_indicator = pd.concat([\n",
    "    filt_times( v_h2o__measurements_df, set(nobs_times).intersection(set(tgrad_unstable_times))).assign(conditions='No BS'),\n",
    "    filt_times( v_h2o__measurements_df, set(bs_times).intersection(set(tgrad_unstable_times))).assign(conditions='BS')\n",
    "])\n"
   ]
  },
  {
   "cell_type": "markdown",
   "metadata": {},
   "source": [
    "# Calculate frequency of lh flux divergence \n",
    "\n",
    "Use two different thresholds, 10% and 30%\n",
    "\n",
    "We compare measurements at 2 measurement heights at a time (2 and 3, and 3 and 5). This is not comprehensive."
   ]
  },
  {
   "cell_type": "code",
   "execution_count": null,
   "metadata": {},
   "outputs": [],
   "source": [
    "src = w_h2o__measurements_df.pivot(index='time', columns='variable', values='value')\n",
    "src_w = w_measurements_df.pivot(index='time', columns='variable', values='value')"
   ]
  },
  {
   "cell_type": "markdown",
   "metadata": {},
   "source": [
    "## Using 2 and 3 meter measurements and 3 and 5 meter measurements"
   ]
  },
  {
   "cell_type": "code",
   "execution_count": null,
   "metadata": {},
   "outputs": [],
   "source": [
    "src['percent diff 2 3'] = (src['w_h2o__3m_c'] - src['w_h2o__2m_c']) / src[['w_h2o__3m_c', 'w_h2o__2m_c']].mean(axis=1)\n",
    "src['percent diff 3 5'] = (src['w_h2o__5m_c'] - src['w_h2o__3m_c']) / src[['w_h2o__5m_c', 'w_h2o__3m_c']].mean(axis=1)\n",
    "\n",
    "percent_gt_10_2_3 = len(src[src[\"percent diff 2 3\"] > 0.1])/len(src)\n",
    "percent_gt_10_3_5 = len(src[src[\"percent diff 3 5\"] > 0.1])/len(src)\n",
    "percent_gt_30_2_3 = len(src[src[\"percent diff 2 3\"] > 0.3])/len(src)\n",
    "percent_gt_30_3_5 = len(src[src[\"percent diff 3 5\"] > 0.3])/len(src)\n",
    "\n",
    "print(f\"Using 2 and 3m ECs, LH flux diverges more than 10%, {round(percent_gt_10_2_3*100, 1)}% of the time\")\n",
    "print(f\"Using 3 and 5m ECs, LH flux diverges more than 10%, {round(percent_gt_10_3_5*100, 1)}% of the time\")\n",
    "print(f\"Using 2 and 3m ECs, LH flux diverges more than 30%, {round(percent_gt_30_2_3*100, 1)}% of the time\")\n",
    "print(f\"Using 3 and 5m ECs, LH flux diverges more than 30%, {round(percent_gt_30_3_5*100, 1)}% of the time\")"
   ]
  },
  {
   "cell_type": "code",
   "execution_count": null,
   "metadata": {},
   "outputs": [],
   "source": [
    "for name, times in [\n",
    "    (\"bs_times\", bs_times,),\n",
    "    (\"nobs_times\", nobs_times,),\n",
    "    (\"decoupled_times\", decoupled_times,),\n",
    "    (\"weaklycoupled_times\", weaklycoupled_times,),\n",
    "    (\"coupled_times\", coupled_times,),\n",
    "    (\"ri_stable_times\", ri_stable_times,),\n",
    "    (\"ri_unstable_times\", ri_unstable_times,),\n",
    "    (\"ri_neutral_times\", ri_neutral_times,),\n",
    "    (\"tgrad_stable_times\", tgrad_stable_times,),\n",
    "    (\"tgrad_unstable_times\", tgrad_unstable_times,),\n",
    "    (\"tgrad_neutral_times\", tgrad_neutral_times),\n",
    "]:\n",
    "    local_src = src.reset_index()\n",
    "    local_src = local_src[local_src.time.isin(times)]\n",
    "    percent_gt_10_2_3 = len(local_src[local_src[\"percent diff 2 3\"] > 0.1])/len(local_src)\n",
    "    percent_gt_10_3_5 = len(local_src[local_src[\"percent diff 3 5\"] > 0.1])/len(local_src)\n",
    "    percent_gt_30_2_3 = len(local_src[local_src[\"percent diff 2 3\"] > 0.3])/len(local_src)\n",
    "    percent_gt_30_3_5 = len(local_src[local_src[\"percent diff 3 5\"] > 0.3])/len(local_src)\n",
    "    print(name)\n",
    "    print(f\"Using 2 and 3m ECs, LH flux diverges more than 10%, {round(percent_gt_10_2_3*100, 1)}% of the time\")\n",
    "    print(f\"Using 3 and 5m ECs, LH flux diverges more than 10%, {round(percent_gt_10_3_5*100, 1)}% of the time\")\n",
    "    print(f\"Using 2 and 3m ECs, LH flux diverges more than 30%, {round(percent_gt_30_2_3*100, 1)}% of the time\")\n",
    "    print(f\"Using 3 and 5m ECs, LH flux diverges more than 30%, {round(percent_gt_30_3_5*100, 1)}% of the time\")\n",
    "    print()"
   ]
  },
  {
   "cell_type": "code",
   "execution_count": null,
   "metadata": {},
   "outputs": [],
   "source": [
    "\n",
    "tc_ri_unstable_df = w_tc__measurements_df[w_tc__measurements_df.time.isin(set(ri_unstable_times))]\n",
    "tc_ri_stable_df = w_tc__measurements_df[w_tc__measurements_df.time.isin(set(ri_stable_times))]\n",
    "tc_ri_neutral_df = w_tc__measurements_df[w_tc__measurements_df.time.isin(set(ri_neutral_times))]\n",
    "\n",
    "tc_ri_stable_df = tc_ri_stable_df.assign(\n",
    "    conditions = tc_ri_stable_df.time.apply(assign_bs_and_daytime_label)\n",
    ")\n",
    "tc_ri_neutral_df = tc_ri_neutral_df.assign(\n",
    "    conditions = tc_ri_neutral_df.time.apply(assign_bs_and_daytime_label)\n",
    ")\n",
    "tc_ri_unstable_df = tc_ri_unstable_df.assign(\n",
    "    conditions = tc_ri_unstable_df.time.apply(assign_bs_and_daytime_label)\n",
    ")\n",
    "\n",
    "(\n",
    "    lhflux_profile_chart_notower(w_h2o__measurements_df.query(\"tower == 'c'\").query(\"height > 1\"), \"All data\") |\n",
    "    lhflux_profile_chart_split_conditions(tc_ri_stable_df.query(\"tower == 'c'\").query(\"height > 1\").query(\"conditions != 'BS'\"), \"Stable\") |\n",
    "    lhflux_profile_chart_split_conditions(tc_ri_neutral_df.query(\"tower == 'c'\").query(\"height > 1\").query(\"conditions != 'BS'\"), \"Neutral\") |\n",
    "    lhflux_profile_chart_split_conditions(tc_ri_unstable_df.query(\"tower == 'c'\").query(\"height > 1\").query(\"conditions != 'BS'\"), \"Unstable\")\n",
    ").resolve_scale(x='shared', y='shared') "
   ]
  },
  {
   "cell_type": "code",
   "execution_count": null,
   "metadata": {},
   "outputs": [],
   "source": [
    "\n",
    "w_ri_unstable_df = w_w__measurements_df[w_w__measurements_df.time.isin(set(ri_unstable_times))]\n",
    "w_ri_stable_df = w_w__measurements_df[w_w__measurements_df.time.isin(set(ri_stable_times))]\n",
    "w_ri_neutral_df = w_w__measurements_df[w_w__measurements_df.time.isin(set(ri_neutral_times))]\n",
    "\n",
    "w_ri_stable_df = w_ri_stable_df.assign(\n",
    "    conditions = w_ri_stable_df.time.apply(assign_bs_and_daytime_label)\n",
    ")\n",
    "w_ri_neutral_df = w_ri_neutral_df.assign(\n",
    "    conditions = w_ri_neutral_df.time.apply(assign_bs_and_daytime_label)\n",
    ")\n",
    "w_ri_unstable_df = w_ri_unstable_df.assign(\n",
    "    conditions = w_ri_unstable_df.time.apply(assign_bs_and_daytime_label)\n",
    ")\n",
    "\n",
    "(\n",
    "    lhflux_profile_chart_notower(w_h2o__measurements_df.query(\"tower == 'c'\").query(\"height > 1\"), \"All data\") |\n",
    "    lhflux_profile_chart_split_conditions(w_ri_stable_df.query(\"tower == 'c'\").query(\"height > 1\").query(\"conditions != 'BS'\"), \"Stable\") |\n",
    "    lhflux_profile_chart_split_conditions(w_ri_neutral_df.query(\"tower == 'c'\").query(\"height > 1\").query(\"conditions != 'BS'\"), \"Neutral\") |\n",
    "    lhflux_profile_chart_split_conditions(w_ri_unstable_df.query(\"tower == 'c'\").query(\"height > 1\").query(\"conditions != 'BS'\"), \"Unstable\")\n",
    ").resolve_scale(x='shared', y='shared') "
   ]
  },
  {
   "cell_type": "code",
   "execution_count": null,
   "metadata": {},
   "outputs": [],
   "source": [
    "ri_stable_df = ri_stable_df.assign(\n",
    "    conditions = ri_stable_df.time.isin(bs_times).apply(lambda is_bs: 'BS' if is_bs else 'No BS')\n",
    ")\n",
    "ri_neutral_df = ri_neutral_df.assign(\n",
    "    conditions = ri_neutral_df.time.isin(bs_times).apply(lambda is_bs: 'BS' if is_bs else 'No BS')\n",
    ")\n",
    "ri_unstable_df = ri_unstable_df.assign(\n",
    "    conditions = ri_unstable_df.time.isin(bs_times).apply(lambda is_bs: 'BS' if is_bs else 'No BS')\n",
    ")\n",
    "\n",
    "vertical_flux_profiles_4_plots = (\n",
    "    lhflux_profile_chart_notower(w_h2o__measurements_df[w_h2o__measurements_df.time.isin(nobs_times)][w_h2o__measurements_df.time.dt.hour.isin(\n",
    "        [10,11,12,13,14,15])].query(\"tower == 'c'\").query(\"height > 1\"), \"All data\") |\n",
    "    lhflux_profile_chart_split_conditions(ri_stable_df[ri_stable_df.conditions=='No BS'][ri_stable_df.time.dt.hour.isin(\n",
    "        [10,11,12,13,14,15])].query(\"tower == 'c'\").query(\"height > 1\"), \"Stable\") |\n",
    "    lhflux_profile_chart_split_conditions(ri_neutral_df[ri_neutral_df.conditions=='No BS'][ri_neutral_df.time.dt.hour.isin(\n",
    "        [10,11,12,13,14,15])].query(\"tower == 'c'\").query(\"height > 1\"), \"Neutral\") |\n",
    "    lhflux_profile_chart_split_conditions(ri_unstable_df[ri_unstable_df.conditions=='No BS'][ri_unstable_df.time.dt.hour.isin(\n",
    "        [10,11,12,13,14,15])].query(\"tower == 'c'\").query(\"height > 1\"), \"Unstable\")\n",
    ").resolve_scale(x='shared', y='shared') \n",
    "vertical_flux_profiles_4_plots"
   ]
  },
  {
   "cell_type": "code",
   "execution_count": null,
   "metadata": {},
   "outputs": [],
   "source": [
    "(\n",
    "    lhflux_profile_chart_notower(w_h2o__measurements_df[w_h2o__measurements_df.time.isin(nobs_times)][\n",
    "        w_h2o__measurements_df.time.isin(downvalley_wind_times)\n",
    "    ].query(\"tower == 'c'\").query(\"height > 1\"), \"All data\") \n",
    "    |\n",
    "    lhflux_profile_chart_split_conditions(ri_stable_df[ri_stable_df.conditions=='No BS'][\n",
    "        ri_stable_df.time.isin(downvalley_wind_times)\n",
    "    ].query(\"tower == 'c'\").query(\"height > 1\"), \"Stable\") \n",
    "    |\n",
    "    lhflux_profile_chart_split_conditions(ri_neutral_df[ri_neutral_df.conditions=='No BS'][\n",
    "        ri_neutral_df.time.isin(downvalley_wind_times)\n",
    "    ].query(\"tower == 'c'\").query(\"height > 1\"), \"Neutral\") \n",
    "    |\n",
    "    lhflux_profile_chart_split_conditions(ri_unstable_df[ri_unstable_df.conditions=='No BS'][\n",
    "        ri_unstable_df.time.isin(downvalley_wind_times)\n",
    "    ].query(\"tower == 'c'\").query(\"height > 1\"), \"Unstable\")\n",
    ").resolve_scale(x='shared', y='shared').properties(title='Downvalley wind times') &\\\n",
    "(\n",
    "    lhflux_profile_chart_notower(w_h2o__measurements_df[w_h2o__measurements_df.time.isin(nobs_times)][\n",
    "        w_h2o__measurements_df.time.isin(upvalley_wind_times)\n",
    "    ].query(\"tower == 'c'\").query(\"height > 1\"), \"All data\") \n",
    "    |\n",
    "    lhflux_profile_chart_split_conditions(ri_stable_df[ri_stable_df.conditions=='No BS'][\n",
    "        ri_stable_df.time.isin(upvalley_wind_times)\n",
    "    ].query(\"tower == 'c'\").query(\"height > 1\"), \"Stable\") \n",
    "    |\n",
    "    lhflux_profile_chart_split_conditions(ri_neutral_df[ri_neutral_df.conditions=='No BS'][\n",
    "        ri_neutral_df.time.isin(upvalley_wind_times)\n",
    "    ].query(\"tower == 'c'\").query(\"height > 1\"), \"Neutral\") \n",
    "    |\n",
    "    lhflux_profile_chart_split_conditions(ri_unstable_df[ri_unstable_df.conditions=='No BS'][\n",
    "        ri_unstable_df.time.isin(upvalley_wind_times)\n",
    "    ].query(\"tower == 'c'\").query(\"height > 1\"), \"Unstable\")\n",
    ").resolve_scale(x='shared', y='shared').properties(title='Upvalley wind times')"
   ]
  },
  {
   "cell_type": "markdown",
   "metadata": {},
   "source": [
    "only daytime hours"
   ]
  },
  {
   "cell_type": "code",
   "execution_count": null,
   "metadata": {},
   "outputs": [],
   "source": [
    "(\n",
    "    lhflux_profile_chart_notower(w_h2o__measurements_df[w_h2o__measurements_df.time.dt.hour.isin([10,11,12,13,14,15,16])][w_h2o__measurements_df.time.isin(nobs_times)][\n",
    "        w_h2o__measurements_df.time.isin(downvalley_wind_times)\n",
    "    ].query(\"tower == 'c'\").query(\"height > 1\"), \"All data\") \n",
    "    |\n",
    "    lhflux_profile_chart_split_conditions(ri_stable_df[ri_stable_df.time.dt.hour.isin([10,11,12,13,14,15,16])][ri_stable_df.conditions=='No BS'][\n",
    "        ri_stable_df.time.isin(downvalley_wind_times)\n",
    "    ].query(\"tower == 'c'\").query(\"height > 1\"), \"Stable\") \n",
    "    |\n",
    "    lhflux_profile_chart_split_conditions(ri_neutral_df[ri_neutral_df.time.dt.hour.isin([10,11,12,13,14,15,16])][ri_neutral_df.conditions=='No BS'][\n",
    "        ri_neutral_df.time.isin(downvalley_wind_times)\n",
    "    ].query(\"tower == 'c'\").query(\"height > 1\"), \"Neutral\") \n",
    "    |\n",
    "    lhflux_profile_chart_split_conditions(ri_unstable_df[ri_unstable_df.time.dt.hour.isin([10,11,12,13,14,15,16])][ri_unstable_df.conditions=='No BS'][\n",
    "        ri_unstable_df.time.isin(downvalley_wind_times)\n",
    "    ].query(\"tower == 'c'\").query(\"height > 1\"), \"Unstable\")\n",
    ").resolve_scale(x='shared', y='shared').properties(title='Downvalley wind times') &\\\n",
    "(\n",
    "    lhflux_profile_chart_notower(w_h2o__measurements_df[w_h2o__measurements_df.time.dt.hour.isin([10,11,12,13,14,15,16])][w_h2o__measurements_df.time.isin(nobs_times)][\n",
    "        w_h2o__measurements_df.time.isin(upvalley_wind_times)\n",
    "    ].query(\"tower == 'c'\").query(\"height > 1\"), \"All data\") \n",
    "    |\n",
    "    lhflux_profile_chart_split_conditions(ri_stable_df[ri_stable_df.time.dt.hour.isin([10,11,12,13,14,15,16])][ri_stable_df.conditions=='No BS'][\n",
    "        ri_stable_df.time.isin(upvalley_wind_times)\n",
    "    ].query(\"tower == 'c'\").query(\"height > 1\"), \"Stable\") \n",
    "    |\n",
    "    lhflux_profile_chart_split_conditions(ri_neutral_df[ri_neutral_df.time.dt.hour.isin([10,11,12,13,14,15,16])][ri_neutral_df.conditions=='No BS'][\n",
    "        ri_neutral_df.time.isin(upvalley_wind_times)\n",
    "    ].query(\"tower == 'c'\").query(\"height > 1\"), \"Neutral\") \n",
    "    |\n",
    "    lhflux_profile_chart_split_conditions(ri_unstable_df[ri_unstable_df.time.dt.hour.isin([10,11,12,13,14,15,16])][ri_unstable_df.conditions=='No BS'][\n",
    "        ri_unstable_df.time.isin(upvalley_wind_times)\n",
    "    ].query(\"tower == 'c'\").query(\"height > 1\"), \"Unstable\")\n",
    ").resolve_scale(x='shared', y='shared').properties(title='Upvalley wind times')"
   ]
  },
  {
   "cell_type": "code",
   "execution_count": null,
   "metadata": {},
   "outputs": [],
   "source": [
    "w_measurements_df\n",
    "w_ri_stable_df = w_measurements_df[w_measurements_df.time.isin(tgrad_stable_times)]\n",
    "w_ri_stable_df = w_ri_stable_df.assign(\n",
    "    conditions = w_ri_stable_df.time.isin(bs_times).apply(lambda is_bs: 'BS' if is_bs else 'No BS')\n",
    ")\n",
    "w_ri_nuetral_df = w_measurements_df[w_measurements_df.time.isin(tgrad_neutral_times)]\n",
    "w_ri_nuetral_df = w_ri_nuetral_df.assign(\n",
    "    conditions = w_ri_nuetral_df.time.isin(bs_times).apply(lambda is_bs: 'BS' if is_bs else 'No BS')\n",
    ")\n",
    "w_ri_unstable_df = w_measurements_df[w_measurements_df.time.isin(tgrad_unstable_times)]\n",
    "w_ri_unstable_df = w_ri_unstable_df.assign(\n",
    "    conditions = w_ri_unstable_df.time.isin(bs_times).apply(lambda is_bs: 'BS' if is_bs else 'No BS')\n",
    ")"
   ]
  },
  {
   "cell_type": "code",
   "execution_count": null,
   "metadata": {},
   "outputs": [],
   "source": [
    "(\n",
    "    lhflux_profile_chart_notower(w_measurements_df[w_measurements_df.time.dt.hour.isin([10,11,12,13,14,15,16])][w_measurements_df.time.isin(nobs_times)][\n",
    "        w_measurements_df.time.isin(downvalley_wind_times)\n",
    "    ].query(\"tower == 'c'\").query(\"height > 1\"), \"All data\") \n",
    "    |\n",
    "    lhflux_profile_chart_split_conditions(w_ri_stable_df[w_ri_stable_df.time.dt.hour.isin([10,11,12,13,14,15,16])][w_ri_stable_df.conditions=='No BS'][\n",
    "        w_ri_stable_df.time.isin(downvalley_wind_times)\n",
    "    ].query(\"tower == 'c'\").query(\"height > 1\"), \"Stable\") \n",
    "    |\n",
    "    lhflux_profile_chart_split_conditions(w_ri_nuetral_df[w_ri_nuetral_df.time.dt.hour.isin([10,11,12,13,14,15,16])][w_ri_nuetral_df.conditions=='No BS'][\n",
    "        w_ri_nuetral_df.time.isin(downvalley_wind_times)\n",
    "    ].query(\"tower == 'c'\").query(\"height > 1\"), \"Neutral\") \n",
    "    |\n",
    "    lhflux_profile_chart_split_conditions(w_ri_unstable_df[w_ri_unstable_df.time.dt.hour.isin([10,11,12,13,14,15,16])][w_ri_unstable_df.conditions=='No BS'][\n",
    "        w_ri_unstable_df.time.isin(downvalley_wind_times)\n",
    "    ].query(\"tower == 'c'\").query(\"height > 1\"), \"Unstable\")\n",
    ").resolve_scale(x='shared', y='shared').properties(title='Downvalley wind times') &\\\n",
    "(\n",
    "    lhflux_profile_chart_notower(w_measurements_df[w_measurements_df.time.dt.hour.isin([10,11,12,13,14,15,16])][w_measurements_df.time.isin(nobs_times)][\n",
    "        w_measurements_df.time.isin(upvalley_wind_times)\n",
    "    ].query(\"tower == 'c'\").query(\"height > 1\"), \"All data\") \n",
    "    |\n",
    "    lhflux_profile_chart_split_conditions(w_ri_stable_df[w_ri_stable_df.time.dt.hour.isin([10,11,12,13,14,15,16])][w_ri_stable_df.conditions=='No BS'][\n",
    "        w_ri_stable_df.time.isin(upvalley_wind_times)\n",
    "    ].query(\"tower == 'c'\").query(\"height > 1\"), \"Stable\") \n",
    "    |\n",
    "    lhflux_profile_chart_split_conditions(w_ri_nuetral_df[w_ri_nuetral_df.time.dt.hour.isin([10,11,12,13,14,15,16])][w_ri_nuetral_df.conditions=='No BS'][\n",
    "        w_ri_nuetral_df.time.isin(upvalley_wind_times)\n",
    "    ].query(\"tower == 'c'\").query(\"height > 1\"), \"Neutral\") \n",
    "    |\n",
    "    lhflux_profile_chart_split_conditions(w_ri_unstable_df[w_ri_unstable_df.time.dt.hour.isin([10,11,12,13,14,15,16])][w_ri_unstable_df.conditions=='No BS'][\n",
    "        w_ri_unstable_df.time.isin(upvalley_wind_times)\n",
    "    ].query(\"tower == 'c'\").query(\"height > 1\"), \"Unstable\")\n",
    ").resolve_scale(x='shared', y='shared').properties(title='Upvalley wind times')"
   ]
  },
  {
   "cell_type": "code",
   "execution_count": null,
   "metadata": {},
   "outputs": [],
   "source": [
    "w_measurements_df"
   ]
  },
  {
   "cell_type": "code",
   "execution_count": null,
   "metadata": {},
   "outputs": [],
   "source": [
    "for T in [-20, -10, 0, 5]:\n",
    "    print(f\"T: {T}\")\n",
    "    for rh in [50.0, 50-1.5, 50+1.5]:\n",
    "        s = 1000*calc.mixing_ratio_from_relative_humidity(\n",
    "            0.7   *   units.units('atm'),\n",
    "            T  *   units.units('degC'),\n",
    "            rh  *   units.units('percent')\n",
    "        )\n",
    "        print(f\"RH: {rh}%,\\ts: {round(s,2)}, σ: ± \")"
   ]
  },
  {
   "cell_type": "code",
   "execution_count": 167,
   "metadata": {},
   "outputs": [
    {
     "data": {
      "application/vnd.vegalite.v5+json": {
       "$schema": "https://vega.github.io/schema/vega-lite/v5.20.1.json",
       "config": {
        "view": {
         "continuousHeight": 300,
         "continuousWidth": 300
        }
       },
       "hconcat": [
        {
         "data": {
          "format": {
           "type": "json"
          },
          "url": "altair-data-9b3089a8dcf47fc020e51f24cc7bbfef.json"
         },
         "encoding": {
          "color": {
           "field": "time",
           "timeUnit": "hours",
           "type": "nominal"
          },
          "x": {
           "aggregate": "mean",
           "field": "value",
           "scale": {
            "zero": false
           },
           "type": "quantitative"
          },
          "y": {
           "field": "height",
           "type": "quantitative"
          }
         },
         "height": 150,
         "mark": {
          "type": "line"
         },
         "transform": [
          {
           "filter": "(datum.height > 0)"
          }
         ],
         "width": 150
        },
        {
         "data": {
          "format": {
           "type": "json"
          },
          "url": "altair-data-87c776f9d84e0421671035cb676f3c29.json"
         },
         "encoding": {
          "color": {
           "field": "time",
           "timeUnit": "hours",
           "type": "nominal"
          },
          "x": {
           "aggregate": "mean",
           "field": "value",
           "scale": {
            "zero": false
           },
           "type": "quantitative"
          },
          "y": {
           "field": "height",
           "type": "quantitative"
          }
         },
         "height": 150,
         "mark": {
          "type": "line"
         },
         "transform": [
          {
           "filter": "(datum.height > 0)"
          }
         ],
         "width": 150
        }
       ],
       "resolve": {
        "scale": {
         "color": "independent"
        }
       }
      },
      "text/plain": [
       "<VegaLite 5 object>\n",
       "\n",
       "If you see this message, it means the renderer has not been properly enabled\n",
       "for the frontend that you are using. For more information, see\n",
       "https://altair-viz.github.io/user_guide/display_frontends.html#troubleshooting\n"
      ]
     },
     "metadata": {
      "application/vnd.vegalite.v5+json": {
       "embed_options": {
        "renderer": "svg"
       }
      }
     },
     "output_type": "display_data"
    }
   ],
   "source": [
    "src = tidy_df[tidy_df.measurement == 'mixing ratio'].query(\"tower == 'c'\")\n",
    "src = src[src.time.isin(nobs_times)]\n",
    "src = src[src.time.isin(upvalley_wind_times)]\n",
    "src['conditions'] = src.time.dt.hour\n",
    "src = src[src.conditions % 2 == 0]\n",
    "(alt.Chart(src[src.conditions < 12]).transform_filter(\n",
    "    alt.datum.height > 0\n",
    ").mark_line().encode(\n",
    "    alt.X('mean(value):Q').scale(zero=False),\n",
    "    alt.Y('height:Q'),\n",
    "    alt.Color('hours(time):N')\n",
    ").properties(width=150, height=150) | alt.Chart(src[src.conditions > 12]).transform_filter(\n",
    "    alt.datum.height > 0\n",
    ").mark_line().encode(\n",
    "    alt.X('mean(value):Q').scale(zero=False),\n",
    "    alt.Y('height:Q'),\n",
    "    alt.Color('hours(time):N')\n",
    ").properties(width=150, height=150)).resolve_scale(color='independent').display(renderer='svg')"
   ]
  },
  {
   "cell_type": "code",
   "execution_count": 168,
   "metadata": {},
   "outputs": [
    {
     "data": {
      "application/vnd.vegalite.v5+json": {
       "$schema": "https://vega.github.io/schema/vega-lite/v5.20.1.json",
       "config": {
        "view": {
         "continuousHeight": 300,
         "continuousWidth": 300
        }
       },
       "resolve": {
        "scale": {
         "x": "shared"
        }
       },
       "vconcat": [
        {
         "hconcat": [
          {
           "data": {
            "format": {
             "type": "json"
            },
            "url": "altair-data-facc1991d567929d874ed289ff499a5e.json"
           },
           "encoding": {
            "color": {
             "field": "time",
             "timeUnit": "hours",
             "type": "nominal"
            },
            "x": {
             "aggregate": "mean",
             "field": "value",
             "scale": {
              "zero": false
             },
             "title": "Mixing ratio (g/g)",
             "type": "quantitative"
            },
            "y": {
             "field": "height",
             "type": "quantitative"
            }
           },
           "height": 150,
           "mark": {
            "type": "line"
           },
           "transform": [
            {
             "filter": "(datum.height > 0)"
            }
           ],
           "width": 150
          },
          {
           "data": {
            "format": {
             "type": "json"
            },
            "url": "altair-data-854af2dbad79f4b75c434a809623666f.json"
           },
           "encoding": {
            "color": {
             "field": "time",
             "timeUnit": "hours",
             "type": "nominal"
            },
            "x": {
             "aggregate": "mean",
             "field": "value",
             "scale": {
              "zero": false
             },
             "title": "Mixing ratio (g/g)",
             "type": "quantitative"
            },
            "y": {
             "field": "height",
             "type": "quantitative"
            }
           },
           "height": 150,
           "mark": {
            "type": "line"
           },
           "transform": [
            {
             "filter": "(datum.height > 0)"
            }
           ],
           "width": 150
          }
         ],
         "resolve": {
          "scale": {
           "color": "independent",
           "x": "shared"
          }
         },
         "title": "Downvalley winds"
        },
        {
         "hconcat": [
          {
           "data": {
            "format": {
             "type": "json"
            },
            "url": "altair-data-9b3089a8dcf47fc020e51f24cc7bbfef.json"
           },
           "encoding": {
            "color": {
             "field": "time",
             "timeUnit": "hours",
             "type": "nominal"
            },
            "x": {
             "aggregate": "mean",
             "field": "value",
             "scale": {
              "zero": false
             },
             "title": "Mixing ratio (g/g)",
             "type": "quantitative"
            },
            "y": {
             "field": "height",
             "type": "quantitative"
            }
           },
           "height": 150,
           "mark": {
            "type": "line"
           },
           "transform": [
            {
             "filter": "(datum.height > 0)"
            }
           ],
           "width": 150
          },
          {
           "data": {
            "format": {
             "type": "json"
            },
            "url": "altair-data-87c776f9d84e0421671035cb676f3c29.json"
           },
           "encoding": {
            "color": {
             "field": "time",
             "timeUnit": "hours",
             "type": "nominal"
            },
            "x": {
             "aggregate": "mean",
             "field": "value",
             "scale": {
              "zero": false
             },
             "title": "Mixing ratio (g/g)",
             "type": "quantitative"
            },
            "y": {
             "field": "height",
             "type": "quantitative"
            }
           },
           "height": 150,
           "mark": {
            "type": "line"
           },
           "transform": [
            {
             "filter": "(datum.height > 0)"
            }
           ],
           "width": 150
          }
         ],
         "resolve": {
          "scale": {
           "color": "independent",
           "x": "shared"
          }
         },
         "title": "Upvalley winds"
        },
        {
         "hconcat": [
          {
           "data": {
            "format": {
             "type": "json"
            },
            "url": "altair-data-904c9bcacd62507df1429da21bb41c68.json"
           },
           "encoding": {
            "color": {
             "field": "time",
             "timeUnit": "hours",
             "type": "nominal"
            },
            "x": {
             "aggregate": "mean",
             "field": "value",
             "scale": {
              "zero": false
             },
             "title": "Mixing ratio (g/g)",
             "type": "quantitative"
            },
            "y": {
             "field": "height",
             "type": "quantitative"
            }
           },
           "height": 150,
           "mark": {
            "type": "line"
           },
           "transform": [
            {
             "filter": "(datum.height > 0)"
            }
           ],
           "width": 150
          },
          {
           "data": {
            "format": {
             "type": "json"
            },
            "url": "altair-data-169e7da808398dbe83f798d548db4453.json"
           },
           "encoding": {
            "color": {
             "field": "time",
             "timeUnit": "hours",
             "type": "nominal"
            },
            "x": {
             "aggregate": "mean",
             "field": "value",
             "scale": {
              "zero": false
             },
             "title": "Mixing ratio (g/g)",
             "type": "quantitative"
            },
            "y": {
             "field": "height",
             "type": "quantitative"
            }
           },
           "height": 150,
           "mark": {
            "type": "line"
           },
           "transform": [
            {
             "filter": "(datum.height > 0)"
            }
           ],
           "width": 150
          }
         ],
         "resolve": {
          "scale": {
           "color": "independent",
           "x": "shared"
          }
         },
         "title": "Neither"
        }
       ]
      },
      "text/plain": [
       "<VegaLite 5 object>\n",
       "\n",
       "If you see this message, it means the renderer has not been properly enabled\n",
       "for the frontend that you are using. For more information, see\n",
       "https://altair-viz.github.io/user_guide/display_frontends.html#troubleshooting\n"
      ]
     },
     "execution_count": 168,
     "metadata": {},
     "output_type": "execute_result"
    }
   ],
   "source": [
    "src = tidy_df[tidy_df.measurement == 'mixing ratio'].query(\"tower == 'c'\")\n",
    "src = src[src.time.isin(nobs_times)]\n",
    "src['conditions'] = src.time.dt.hour\n",
    "src = src[src.conditions % 2 == 0]\n",
    "src_downvalley = src[src.time.isin(downvalley_wind_times)]\n",
    "src_upvalley = src[src.time.isin(upvalley_wind_times)]\n",
    "def plot(src):\n",
    "    return (alt.Chart(src[src.conditions < 12]).transform_filter(\n",
    "        alt.datum.height > 0\n",
    "    ).mark_line().encode(\n",
    "        alt.X('mean(value):Q').scale(zero=False).title('Mixing ratio (g/g)'),\n",
    "        alt.Y('height:Q'),\n",
    "        alt.Color('hours(time):N')\n",
    "    ).properties(width=150, height=150) | alt.Chart(src[src.conditions > 12]).transform_filter(\n",
    "        alt.datum.height > 0\n",
    "    ).mark_line().encode(\n",
    "        alt.X('mean(value):Q').scale(zero=False).title('Mixing ratio (g/g)'),\n",
    "        alt.Y('height:Q'),\n",
    "        alt.Color('hours(time):N')\n",
    "    ).properties(width=150, height=150)).resolve_scale(x='shared', color='independent')\n",
    "(plot(src_downvalley).properties(title='Downvalley winds') & plot(src_upvalley).properties(title='Upvalley winds') & plot(src).properties(title='Neither')).resolve_scale(\n",
    "    x='shared', \n",
    "    # color='shared'\n",
    ") "
   ]
  },
  {
   "cell_type": "code",
   "execution_count": 170,
   "metadata": {},
   "outputs": [],
   "source": [
    "rule = alt.Chart().transform_calculate(rule='0').mark_rule().encode(x='rule:Q')"
   ]
  },
  {
   "cell_type": "code",
   "execution_count": 171,
   "metadata": {},
   "outputs": [
    {
     "data": {
      "application/vnd.vegalite.v5+json": {
       "$schema": "https://vega.github.io/schema/vega-lite/v5.20.1.json",
       "config": {
        "view": {
         "continuousHeight": 300,
         "continuousWidth": 300
        }
       },
       "datasets": {
        "empty": [
         {}
        ]
       },
       "resolve": {
        "scale": {
         "x": "shared"
        }
       },
       "vconcat": [
        {
         "hconcat": [
          {
           "height": 150,
           "layer": [
            {
             "data": {
              "format": {
               "type": "json"
              },
              "url": "altair-data-6f72bc9c8e46c32be9ff6dd90ad9fc58.json"
             },
             "encoding": {
              "color": {
               "field": "time",
               "timeUnit": "hours",
               "type": "nominal"
              },
              "x": {
               "aggregate": "median",
               "field": "value",
               "scale": {
                "zero": false
               },
               "title": "w (m/s)",
               "type": "quantitative"
              },
              "y": {
               "field": "height",
               "type": "quantitative"
              }
             },
             "mark": {
              "type": "line"
             },
             "transform": [
              {
               "filter": "(datum.height > 0)"
              }
             ]
            },
            {
             "data": {
              "name": "empty"
             },
             "encoding": {
              "x": {
               "field": "rule",
               "type": "quantitative"
              }
             },
             "mark": {
              "type": "rule"
             },
             "transform": [
              {
               "as": "rule",
               "calculate": "0"
              }
             ]
            }
           ],
           "width": 150
          },
          {
           "height": 150,
           "layer": [
            {
             "data": {
              "name": "empty"
             },
             "encoding": {
              "x": {
               "field": "rule",
               "type": "quantitative"
              }
             },
             "mark": {
              "type": "rule"
             },
             "transform": [
              {
               "as": "rule",
               "calculate": "0"
              }
             ]
            },
            {
             "data": {
              "format": {
               "type": "json"
              },
              "url": "altair-data-bfcd2cdad8a3fb9cf8179718229ada2c.json"
             },
             "encoding": {
              "color": {
               "field": "time",
               "timeUnit": "hours",
               "type": "nominal"
              },
              "x": {
               "aggregate": "median",
               "field": "value",
               "scale": {
                "zero": false
               },
               "title": "w (m/s)",
               "type": "quantitative"
              },
              "y": {
               "field": "height",
               "type": "quantitative"
              }
             },
             "mark": {
              "type": "line"
             },
             "transform": [
              {
               "filter": "(datum.height > 0)"
              }
             ]
            }
           ],
           "width": 150
          }
         ],
         "resolve": {
          "scale": {
           "color": "independent",
           "x": "shared"
          }
         },
         "title": "Downvalley winds"
        },
        {
         "hconcat": [
          {
           "height": 150,
           "layer": [
            {
             "data": {
              "format": {
               "type": "json"
              },
              "url": "altair-data-f7133d611858ea296d8b2864a3a1a8ca.json"
             },
             "encoding": {
              "color": {
               "field": "time",
               "timeUnit": "hours",
               "type": "nominal"
              },
              "x": {
               "aggregate": "median",
               "field": "value",
               "scale": {
                "zero": false
               },
               "title": "w (m/s)",
               "type": "quantitative"
              },
              "y": {
               "field": "height",
               "type": "quantitative"
              }
             },
             "mark": {
              "type": "line"
             },
             "transform": [
              {
               "filter": "(datum.height > 0)"
              }
             ]
            },
            {
             "data": {
              "name": "empty"
             },
             "encoding": {
              "x": {
               "field": "rule",
               "type": "quantitative"
              }
             },
             "mark": {
              "type": "rule"
             },
             "transform": [
              {
               "as": "rule",
               "calculate": "0"
              }
             ]
            }
           ],
           "width": 150
          },
          {
           "height": 150,
           "layer": [
            {
             "data": {
              "name": "empty"
             },
             "encoding": {
              "x": {
               "field": "rule",
               "type": "quantitative"
              }
             },
             "mark": {
              "type": "rule"
             },
             "transform": [
              {
               "as": "rule",
               "calculate": "0"
              }
             ]
            },
            {
             "data": {
              "format": {
               "type": "json"
              },
              "url": "altair-data-3066c7f4176c2f086e1d3d25d2e42f84.json"
             },
             "encoding": {
              "color": {
               "field": "time",
               "timeUnit": "hours",
               "type": "nominal"
              },
              "x": {
               "aggregate": "median",
               "field": "value",
               "scale": {
                "zero": false
               },
               "title": "w (m/s)",
               "type": "quantitative"
              },
              "y": {
               "field": "height",
               "type": "quantitative"
              }
             },
             "mark": {
              "type": "line"
             },
             "transform": [
              {
               "filter": "(datum.height > 0)"
              }
             ]
            }
           ],
           "width": 150
          }
         ],
         "resolve": {
          "scale": {
           "color": "independent",
           "x": "shared"
          }
         },
         "title": "Upvalley winds"
        },
        {
         "hconcat": [
          {
           "height": 150,
           "layer": [
            {
             "data": {
              "format": {
               "type": "json"
              },
              "url": "altair-data-b274a3dafbeba42fdb585c9fd5e463c9.json"
             },
             "encoding": {
              "color": {
               "field": "time",
               "timeUnit": "hours",
               "type": "nominal"
              },
              "x": {
               "aggregate": "median",
               "field": "value",
               "scale": {
                "zero": false
               },
               "title": "w (m/s)",
               "type": "quantitative"
              },
              "y": {
               "field": "height",
               "type": "quantitative"
              }
             },
             "mark": {
              "type": "line"
             },
             "transform": [
              {
               "filter": "(datum.height > 0)"
              }
             ]
            },
            {
             "data": {
              "name": "empty"
             },
             "encoding": {
              "x": {
               "field": "rule",
               "type": "quantitative"
              }
             },
             "mark": {
              "type": "rule"
             },
             "transform": [
              {
               "as": "rule",
               "calculate": "0"
              }
             ]
            }
           ],
           "width": 150
          },
          {
           "height": 150,
           "layer": [
            {
             "data": {
              "name": "empty"
             },
             "encoding": {
              "x": {
               "field": "rule",
               "type": "quantitative"
              }
             },
             "mark": {
              "type": "rule"
             },
             "transform": [
              {
               "as": "rule",
               "calculate": "0"
              }
             ]
            },
            {
             "data": {
              "format": {
               "type": "json"
              },
              "url": "altair-data-b1cc1859477965423f4c141bd11b8e58.json"
             },
             "encoding": {
              "color": {
               "field": "time",
               "timeUnit": "hours",
               "type": "nominal"
              },
              "x": {
               "aggregate": "median",
               "field": "value",
               "scale": {
                "zero": false
               },
               "title": "w (m/s)",
               "type": "quantitative"
              },
              "y": {
               "field": "height",
               "type": "quantitative"
              }
             },
             "mark": {
              "type": "line"
             },
             "transform": [
              {
               "filter": "(datum.height > 0)"
              }
             ]
            }
           ],
           "width": 150
          }
         ],
         "resolve": {
          "scale": {
           "color": "independent",
           "x": "shared"
          }
         },
         "title": "Neither"
        }
       ]
      },
      "text/plain": [
       "<VegaLite 5 object>\n",
       "\n",
       "If you see this message, it means the renderer has not been properly enabled\n",
       "for the frontend that you are using. For more information, see\n",
       "https://altair-viz.github.io/user_guide/display_frontends.html#troubleshooting\n"
      ]
     },
     "execution_count": 171,
     "metadata": {},
     "output_type": "execute_result"
    }
   ],
   "source": [
    "src = tidy_df[tidy_df.measurement == 'w'].query(\"tower == 'c'\").query(\"height >= 3\")\n",
    "src = src[src.time.isin(nobs_times)]\n",
    "src['conditions'] = src.time.dt.hour\n",
    "src = src[src.conditions % 2 == 0]\n",
    "src_downvalley = src[src.time.isin(downvalley_wind_times)]\n",
    "src_upvalley = src[src.time.isin(upvalley_wind_times)]\n",
    "def plot(src):\n",
    "    return (alt.Chart(src[src.conditions < 12]).transform_filter(\n",
    "        alt.datum.height > 0\n",
    "    ).mark_line().encode(\n",
    "        alt.X('median(value):Q').scale(zero=False).title('w (m/s)'),\n",
    "        alt.Y('height:Q'),\n",
    "        alt.Color('hours(time):N')\n",
    "    ).properties(width=150, height=150) + rule | rule+alt.Chart(src[src.conditions > 12]).transform_filter(\n",
    "        alt.datum.height > 0\n",
    "    ).mark_line().encode(\n",
    "        alt.X('median(value):Q').scale(zero=False).title('w (m/s)'),\n",
    "        alt.Y('height:Q'),\n",
    "        alt.Color('hours(time):N')\n",
    "    ).properties(width=150, height=150)).resolve_scale(x='shared', color='independent')\n",
    "(plot(src_downvalley).properties(title='Downvalley winds') & plot(src_upvalley).properties(title='Upvalley winds') & plot(src).properties(title='Neither')).resolve_scale(\n",
    "    x='shared', \n",
    "    # color='shared'\n",
    ") "
   ]
  },
  {
   "cell_type": "code",
   "execution_count": 172,
   "metadata": {},
   "outputs": [
    {
     "data": {
      "application/vnd.vegalite.v5+json": {
       "$schema": "https://vega.github.io/schema/vega-lite/v5.20.1.json",
       "config": {
        "view": {
         "continuousHeight": 300,
         "continuousWidth": 300
        }
       },
       "datasets": {
        "empty": [
         {}
        ]
       },
       "resolve": {
        "scale": {
         "x": "shared"
        }
       },
       "vconcat": [
        {
         "hconcat": [
          {
           "height": 150,
           "layer": [
            {
             "data": {
              "format": {
               "type": "json"
              },
              "url": "altair-data-e89bc45ed25d6966e712b7117b685e67.json"
             },
             "encoding": {
              "color": {
               "field": "time",
               "timeUnit": "hours",
               "type": "nominal"
              },
              "x": {
               "aggregate": "median",
               "field": "value",
               "scale": {
                "zero": false
               },
               "title": "w'q' (g/m^2/s)",
               "type": "quantitative"
              },
              "y": {
               "field": "height",
               "type": "quantitative"
              }
             },
             "mark": {
              "type": "line"
             },
             "transform": [
              {
               "filter": "(datum.height > 0)"
              }
             ]
            },
            {
             "data": {
              "name": "empty"
             },
             "encoding": {
              "x": {
               "field": "rule",
               "type": "quantitative"
              }
             },
             "mark": {
              "type": "rule"
             },
             "transform": [
              {
               "as": "rule",
               "calculate": "0"
              }
             ]
            }
           ],
           "width": 150
          },
          {
           "height": 150,
           "layer": [
            {
             "data": {
              "name": "empty"
             },
             "encoding": {
              "x": {
               "field": "rule",
               "type": "quantitative"
              }
             },
             "mark": {
              "type": "rule"
             },
             "transform": [
              {
               "as": "rule",
               "calculate": "0"
              }
             ]
            },
            {
             "data": {
              "format": {
               "type": "json"
              },
              "url": "altair-data-2956714b65ff5462c417e8914ae7fcba.json"
             },
             "encoding": {
              "color": {
               "field": "time",
               "timeUnit": "hours",
               "type": "nominal"
              },
              "x": {
               "aggregate": "median",
               "field": "value",
               "scale": {
                "zero": false
               },
               "title": "w'q' (g/m^2/s)",
               "type": "quantitative"
              },
              "y": {
               "field": "height",
               "type": "quantitative"
              }
             },
             "mark": {
              "type": "line"
             },
             "transform": [
              {
               "filter": "(datum.height > 0)"
              }
             ]
            }
           ],
           "width": 150
          }
         ],
         "resolve": {
          "scale": {
           "color": "independent",
           "x": "shared"
          }
         },
         "title": "downvalley"
        },
        {
         "hconcat": [
          {
           "height": 150,
           "layer": [
            {
             "data": {
              "format": {
               "type": "json"
              },
              "url": "altair-data-bf2ca9920b7068053dfa01629dbe2b2c.json"
             },
             "encoding": {
              "color": {
               "field": "time",
               "timeUnit": "hours",
               "type": "nominal"
              },
              "x": {
               "aggregate": "median",
               "field": "value",
               "scale": {
                "zero": false
               },
               "title": "w'q' (g/m^2/s)",
               "type": "quantitative"
              },
              "y": {
               "field": "height",
               "type": "quantitative"
              }
             },
             "mark": {
              "type": "line"
             },
             "transform": [
              {
               "filter": "(datum.height > 0)"
              }
             ]
            },
            {
             "data": {
              "name": "empty"
             },
             "encoding": {
              "x": {
               "field": "rule",
               "type": "quantitative"
              }
             },
             "mark": {
              "type": "rule"
             },
             "transform": [
              {
               "as": "rule",
               "calculate": "0"
              }
             ]
            }
           ],
           "width": 150
          },
          {
           "height": 150,
           "layer": [
            {
             "data": {
              "name": "empty"
             },
             "encoding": {
              "x": {
               "field": "rule",
               "type": "quantitative"
              }
             },
             "mark": {
              "type": "rule"
             },
             "transform": [
              {
               "as": "rule",
               "calculate": "0"
              }
             ]
            },
            {
             "data": {
              "format": {
               "type": "json"
              },
              "url": "altair-data-effa690f324c77a1d6f8f5d32c971f33.json"
             },
             "encoding": {
              "color": {
               "field": "time",
               "timeUnit": "hours",
               "type": "nominal"
              },
              "x": {
               "aggregate": "median",
               "field": "value",
               "scale": {
                "zero": false
               },
               "title": "w'q' (g/m^2/s)",
               "type": "quantitative"
              },
              "y": {
               "field": "height",
               "type": "quantitative"
              }
             },
             "mark": {
              "type": "line"
             },
             "transform": [
              {
               "filter": "(datum.height > 0)"
              }
             ]
            }
           ],
           "width": 150
          }
         ],
         "resolve": {
          "scale": {
           "color": "independent",
           "x": "shared"
          }
         },
         "title": "upvalley"
        },
        {
         "hconcat": [
          {
           "height": 150,
           "layer": [
            {
             "data": {
              "format": {
               "type": "json"
              },
              "url": "altair-data-1a89a2be5226d1d1e316226e50d38c23.json"
             },
             "encoding": {
              "color": {
               "field": "time",
               "timeUnit": "hours",
               "type": "nominal"
              },
              "x": {
               "aggregate": "median",
               "field": "value",
               "scale": {
                "zero": false
               },
               "title": "w'q' (g/m^2/s)",
               "type": "quantitative"
              },
              "y": {
               "field": "height",
               "type": "quantitative"
              }
             },
             "mark": {
              "type": "line"
             },
             "transform": [
              {
               "filter": "(datum.height > 0)"
              }
             ]
            },
            {
             "data": {
              "name": "empty"
             },
             "encoding": {
              "x": {
               "field": "rule",
               "type": "quantitative"
              }
             },
             "mark": {
              "type": "rule"
             },
             "transform": [
              {
               "as": "rule",
               "calculate": "0"
              }
             ]
            }
           ],
           "width": 150
          },
          {
           "height": 150,
           "layer": [
            {
             "data": {
              "name": "empty"
             },
             "encoding": {
              "x": {
               "field": "rule",
               "type": "quantitative"
              }
             },
             "mark": {
              "type": "rule"
             },
             "transform": [
              {
               "as": "rule",
               "calculate": "0"
              }
             ]
            },
            {
             "data": {
              "format": {
               "type": "json"
              },
              "url": "altair-data-c9f00059b9d742393477158c4646e5c3.json"
             },
             "encoding": {
              "color": {
               "field": "time",
               "timeUnit": "hours",
               "type": "nominal"
              },
              "x": {
               "aggregate": "median",
               "field": "value",
               "scale": {
                "zero": false
               },
               "title": "w'q' (g/m^2/s)",
               "type": "quantitative"
              },
              "y": {
               "field": "height",
               "type": "quantitative"
              }
             },
             "mark": {
              "type": "line"
             },
             "transform": [
              {
               "filter": "(datum.height > 0)"
              }
             ]
            }
           ],
           "width": 150
          }
         ],
         "resolve": {
          "scale": {
           "color": "independent",
           "x": "shared"
          }
         },
         "title": "Neither"
        }
       ]
      },
      "text/plain": [
       "<VegaLite 5 object>\n",
       "\n",
       "If you see this message, it means the renderer has not been properly enabled\n",
       "for the frontend that you are using. For more information, see\n",
       "https://altair-viz.github.io/user_guide/display_frontends.html#troubleshooting\n"
      ]
     },
     "execution_count": 172,
     "metadata": {},
     "output_type": "execute_result"
    }
   ],
   "source": [
    "src = w_h2o__measurements_df.query(\"tower == 'c'\").query(\"height >= 3\")\n",
    "src = src[src.time.isin(nobs_times)]\n",
    "src['conditions'] = src.time.dt.hour\n",
    "src = src[src.conditions % 2 == 0]\n",
    "src_downvalley = src[src.time.isin(downvalley_wind_times)]\n",
    "src_upvalley = src[src.time.isin(upvalley_wind_times)]\n",
    "def plot(src):\n",
    "    return (alt.Chart(src[src.conditions < 12]).transform_filter(\n",
    "        alt.datum.height > 0\n",
    "    ).mark_line().encode(\n",
    "        alt.X('median(value):Q').scale(zero=False).title(\"w'q' (g/m^2/s)\"),\n",
    "        alt.Y('height:Q'),\n",
    "        alt.Color('hours(time):N')\n",
    "    ).properties(width=150, height=150) + rule | rule+alt.Chart(src[src.conditions > 12]).transform_filter(\n",
    "        alt.datum.height > 0\n",
    "    ).mark_line().encode(\n",
    "        alt.X('median(value):Q').scale(zero=False).title(\"w'q' (g/m^2/s)\"),\n",
    "        alt.Y('height:Q'),\n",
    "        alt.Color('hours(time):N')\n",
    "    ).properties(width=150, height=150)).resolve_scale(x='shared', color='independent')\n",
    "(plot(src_downvalley).properties(title='downvalley') & plot(src_upvalley).properties(title='upvalley') & plot(src).properties(title='Neither')).resolve_scale(\n",
    "    x='shared', \n",
    "    # color='shared'\n",
    ") "
   ]
  },
  {
   "cell_type": "code",
   "execution_count": 173,
   "metadata": {},
   "outputs": [
    {
     "data": {
      "application/vnd.vegalite.v5+json": {
       "$schema": "https://vega.github.io/schema/vega-lite/v5.20.1.json",
       "config": {
        "view": {
         "continuousHeight": 300,
         "continuousWidth": 300
        }
       },
       "hconcat": [
        {
         "data": {
          "format": {
           "type": "json"
          },
          "url": "altair-data-255bd7c169397d2d8d399cded470de4f.json"
         },
         "height": 100,
         "layer": [
          {
           "encoding": {
            "color": {
             "field": "conditions",
             "type": "nominal"
            },
            "x": {
             "field": "low_bound",
             "title": "",
             "type": "quantitative"
            },
            "x2": {
             "field": "up_bound"
            },
            "y": {
             "field": "height",
             "scale": {
              "zero": true
             },
             "title": "Height (m)",
             "type": "quantitative"
            }
           },
           "mark": {
            "opacity": 0.25,
            "type": "area"
           },
           "transform": [
            {
             "aggregate": [
              {
               "as": "median",
               "field": "value",
               "op": "median"
              }
             ],
             "groupby": [
              "height",
              "tower",
              "conditions"
             ]
            },
            {
             "as": "low_bound",
             "calculate": "datum.median - 0.2*datum.median"
            },
            {
             "as": "up_bound",
             "calculate": "datum.median + 0.2*datum.median"
            }
           ]
          },
          {
           "encoding": {
            "color": {
             "field": "conditions",
             "type": "nominal"
            },
            "x": {
             "aggregate": "median",
             "field": "value",
             "sort": "-y",
             "title": "<w'q'> (g/m^2/s)",
             "type": "quantitative"
            },
            "y": {
             "field": "height",
             "scale": {
              "zero": true
             },
             "type": "quantitative"
            }
           },
           "mark": {
            "point": true,
            "type": "line"
           },
           "title": [
            " "
           ]
          }
         ],
         "title": "December",
         "width": 100
        },
        {
         "data": {
          "format": {
           "type": "json"
          },
          "url": "altair-data-5f561b86087590b5096a896072de9e6d.json"
         },
         "height": 100,
         "layer": [
          {
           "encoding": {
            "color": {
             "field": "conditions",
             "type": "nominal"
            },
            "x": {
             "field": "low_bound",
             "title": "",
             "type": "quantitative"
            },
            "x2": {
             "field": "up_bound"
            },
            "y": {
             "field": "height",
             "scale": {
              "zero": true
             },
             "title": "Height (m)",
             "type": "quantitative"
            }
           },
           "mark": {
            "opacity": 0.25,
            "type": "area"
           },
           "transform": [
            {
             "aggregate": [
              {
               "as": "median",
               "field": "value",
               "op": "median"
              }
             ],
             "groupby": [
              "height",
              "tower",
              "conditions"
             ]
            },
            {
             "as": "low_bound",
             "calculate": "datum.median - 0.2*datum.median"
            },
            {
             "as": "up_bound",
             "calculate": "datum.median + 0.2*datum.median"
            }
           ]
          },
          {
           "encoding": {
            "color": {
             "field": "conditions",
             "type": "nominal"
            },
            "x": {
             "aggregate": "median",
             "field": "value",
             "sort": "-y",
             "title": "<w'q'> (g/m^2/s)",
             "type": "quantitative"
            },
            "y": {
             "field": "height",
             "scale": {
              "zero": true
             },
             "type": "quantitative"
            }
           },
           "mark": {
            "point": true,
            "type": "line"
           },
           "title": [
            " "
           ]
          }
         ],
         "title": "January",
         "width": 100
        },
        {
         "data": {
          "format": {
           "type": "json"
          },
          "url": "altair-data-81f38ca92aa56ad0fb3af3a17d40ab68.json"
         },
         "height": 100,
         "layer": [
          {
           "encoding": {
            "color": {
             "field": "conditions",
             "type": "nominal"
            },
            "x": {
             "field": "low_bound",
             "title": "",
             "type": "quantitative"
            },
            "x2": {
             "field": "up_bound"
            },
            "y": {
             "field": "height",
             "scale": {
              "zero": true
             },
             "title": "Height (m)",
             "type": "quantitative"
            }
           },
           "mark": {
            "opacity": 0.25,
            "type": "area"
           },
           "transform": [
            {
             "aggregate": [
              {
               "as": "median",
               "field": "value",
               "op": "median"
              }
             ],
             "groupby": [
              "height",
              "tower",
              "conditions"
             ]
            },
            {
             "as": "low_bound",
             "calculate": "datum.median - 0.2*datum.median"
            },
            {
             "as": "up_bound",
             "calculate": "datum.median + 0.2*datum.median"
            }
           ]
          },
          {
           "encoding": {
            "color": {
             "field": "conditions",
             "type": "nominal"
            },
            "x": {
             "aggregate": "median",
             "field": "value",
             "sort": "-y",
             "title": "<w'q'> (g/m^2/s)",
             "type": "quantitative"
            },
            "y": {
             "field": "height",
             "scale": {
              "zero": true
             },
             "type": "quantitative"
            }
           },
           "mark": {
            "point": true,
            "type": "line"
           },
           "title": [
            " "
           ]
          }
         ],
         "title": "February",
         "width": 100
        },
        {
         "data": {
          "format": {
           "type": "json"
          },
          "url": "altair-data-6c59f4e76028bb22c7d4bfde4a6dfbb4.json"
         },
         "height": 100,
         "layer": [
          {
           "encoding": {
            "color": {
             "field": "conditions",
             "type": "nominal"
            },
            "x": {
             "field": "low_bound",
             "title": "",
             "type": "quantitative"
            },
            "x2": {
             "field": "up_bound"
            },
            "y": {
             "field": "height",
             "scale": {
              "zero": true
             },
             "title": "Height (m)",
             "type": "quantitative"
            }
           },
           "mark": {
            "opacity": 0.25,
            "type": "area"
           },
           "transform": [
            {
             "aggregate": [
              {
               "as": "median",
               "field": "value",
               "op": "median"
              }
             ],
             "groupby": [
              "height",
              "tower",
              "conditions"
             ]
            },
            {
             "as": "low_bound",
             "calculate": "datum.median - 0.2*datum.median"
            },
            {
             "as": "up_bound",
             "calculate": "datum.median + 0.2*datum.median"
            }
           ]
          },
          {
           "encoding": {
            "color": {
             "field": "conditions",
             "type": "nominal"
            },
            "x": {
             "aggregate": "median",
             "field": "value",
             "sort": "-y",
             "title": "<w'q'> (g/m^2/s)",
             "type": "quantitative"
            },
            "y": {
             "field": "height",
             "scale": {
              "zero": true
             },
             "type": "quantitative"
            }
           },
           "mark": {
            "point": true,
            "type": "line"
           },
           "title": [
            " "
           ]
          }
         ],
         "title": "March",
         "width": 100
        },
        {
         "data": {
          "format": {
           "type": "json"
          },
          "url": "altair-data-e6131676c24938825b2e5b91134ee749.json"
         },
         "height": 100,
         "layer": [
          {
           "encoding": {
            "color": {
             "field": "conditions",
             "type": "nominal"
            },
            "x": {
             "field": "low_bound",
             "title": "",
             "type": "quantitative"
            },
            "x2": {
             "field": "up_bound"
            },
            "y": {
             "field": "height",
             "scale": {
              "zero": true
             },
             "title": "Height (m)",
             "type": "quantitative"
            }
           },
           "mark": {
            "opacity": 0.25,
            "type": "area"
           },
           "transform": [
            {
             "aggregate": [
              {
               "as": "median",
               "field": "value",
               "op": "median"
              }
             ],
             "groupby": [
              "height",
              "tower",
              "conditions"
             ]
            },
            {
             "as": "low_bound",
             "calculate": "datum.median - 0.2*datum.median"
            },
            {
             "as": "up_bound",
             "calculate": "datum.median + 0.2*datum.median"
            }
           ]
          },
          {
           "encoding": {
            "color": {
             "field": "conditions",
             "type": "nominal"
            },
            "x": {
             "aggregate": "median",
             "field": "value",
             "sort": "-y",
             "title": "<w'q'> (g/m^2/s)",
             "type": "quantitative"
            },
            "y": {
             "field": "height",
             "scale": {
              "zero": true
             },
             "type": "quantitative"
            }
           },
           "mark": {
            "point": true,
            "type": "line"
           },
           "title": [
            " "
           ]
          }
         ],
         "title": "April",
         "width": 100
        },
        {
         "data": {
          "format": {
           "type": "json"
          },
          "url": "altair-data-dd43f44c17797f28f888b4512245f6ea.json"
         },
         "height": 100,
         "layer": [
          {
           "encoding": {
            "color": {
             "field": "conditions",
             "type": "nominal"
            },
            "x": {
             "field": "low_bound",
             "title": "",
             "type": "quantitative"
            },
            "x2": {
             "field": "up_bound"
            },
            "y": {
             "field": "height",
             "scale": {
              "zero": true
             },
             "title": "Height (m)",
             "type": "quantitative"
            }
           },
           "mark": {
            "opacity": 0.25,
            "type": "area"
           },
           "transform": [
            {
             "aggregate": [
              {
               "as": "median",
               "field": "value",
               "op": "median"
              }
             ],
             "groupby": [
              "height",
              "tower",
              "conditions"
             ]
            },
            {
             "as": "low_bound",
             "calculate": "datum.median - 0.2*datum.median"
            },
            {
             "as": "up_bound",
             "calculate": "datum.median + 0.2*datum.median"
            }
           ]
          },
          {
           "encoding": {
            "color": {
             "field": "conditions",
             "type": "nominal"
            },
            "x": {
             "aggregate": "median",
             "field": "value",
             "sort": "-y",
             "title": "<w'q'> (g/m^2/s)",
             "type": "quantitative"
            },
            "y": {
             "field": "height",
             "scale": {
              "zero": true
             },
             "type": "quantitative"
            }
           },
           "mark": {
            "point": true,
            "type": "line"
           },
           "title": [
            " "
           ]
          }
         ],
         "title": "May",
         "width": 100
        }
       ]
      },
      "text/plain": [
       "<VegaLite 5 object>\n",
       "\n",
       "If you see this message, it means the renderer has not been properly enabled\n",
       "for the frontend that you are using. For more information, see\n",
       "https://altair-viz.github.io/user_guide/display_frontends.html#troubleshooting\n"
      ]
     },
     "metadata": {
      "application/vnd.vegalite.v5+json": {
       "embed_options": {
        "renderer": "svg"
       }
      }
     },
     "output_type": "display_data"
    }
   ],
   "source": [
    "src = w_h2o__measurements_df.copy()\n",
    "src = src[src.time.isin(nobs_times)]\n",
    "src['conditions'] = src.time.dt.hour\n",
    "src = src[src.conditions % 4 == 0]\n",
    "src = src.query(\"tower == 'c'\").query(\"height > 1\")\n",
    "def by_hour_dual_plot(src):\n",
    "    return (\n",
    "        lhflux_profile_chart_split_conditions(src,\" \").properties(title=' ', width=100, height=100)\n",
    "    )\n",
    "(by_hour_dual_plot(src = src[src.time.dt.month == 12]).properties(title='December') |\\\n",
    "by_hour_dual_plot(src = src[src.time.dt.month == 1]).properties(title='January') |\\\n",
    "by_hour_dual_plot(src = src[src.time.dt.month == 2]).properties(title='February') |\\\n",
    "by_hour_dual_plot(src = src[src.time.dt.month == 3]).properties(title='March') |\\\n",
    "by_hour_dual_plot(src = src[src.time.dt.month == 4]).properties(title='April') |\\\n",
    "by_hour_dual_plot(src = src[src.time.dt.month == 5]).properties(title='May')\n",
    ").display(renderer='svg')"
   ]
  },
  {
   "cell_type": "code",
   "execution_count": 174,
   "metadata": {},
   "outputs": [
    {
     "data": {
      "application/vnd.vegalite.v5+json": {
       "$schema": "https://vega.github.io/schema/vega-lite/v5.20.1.json",
       "config": {
        "view": {
         "continuousHeight": 300,
         "continuousWidth": 300
        }
       },
       "data": {
        "format": {
         "type": "json"
        },
        "url": "altair-data-820fe33ef2cd8a133329d7143c7b28bf.json"
       },
       "height": 100,
       "layer": [
        {
         "encoding": {
          "color": {
           "field": "conditions",
           "type": "nominal"
          },
          "x": {
           "field": "low_bound",
           "title": "",
           "type": "quantitative"
          },
          "x2": {
           "field": "up_bound"
          },
          "y": {
           "field": "height",
           "scale": {
            "zero": true
           },
           "title": "Height (m)",
           "type": "quantitative"
          }
         },
         "mark": {
          "opacity": 0.25,
          "type": "area"
         },
         "transform": [
          {
           "aggregate": [
            {
             "as": "median",
             "field": "value",
             "op": "median"
            }
           ],
           "groupby": [
            "height",
            "tower",
            "conditions"
           ]
          },
          {
           "as": "low_bound",
           "calculate": "datum.median - 0.2*datum.median"
          },
          {
           "as": "up_bound",
           "calculate": "datum.median + 0.2*datum.median"
          }
         ]
        },
        {
         "encoding": {
          "color": {
           "field": "conditions",
           "type": "nominal"
          },
          "x": {
           "aggregate": "median",
           "field": "value",
           "sort": "-y",
           "title": "<w'q'> (g/m^2/s)",
           "type": "quantitative"
          },
          "y": {
           "field": "height",
           "scale": {
            "zero": true
           },
           "type": "quantitative"
          }
         },
         "mark": {
          "point": true,
          "type": "line"
         },
         "title": [
          " "
         ]
        }
       ],
       "title": " ",
       "width": 100
      },
      "text/plain": [
       "<VegaLite 5 object>\n",
       "\n",
       "If you see this message, it means the renderer has not been properly enabled\n",
       "for the frontend that you are using. For more information, see\n",
       "https://altair-viz.github.io/user_guide/display_frontends.html#troubleshooting\n"
      ]
     },
     "execution_count": 174,
     "metadata": {},
     "output_type": "execute_result"
    }
   ],
   "source": [
    "by_hour_dual_plot(src = src[src.time.dt.strftime('%Y%m%d') == '20230505'])"
   ]
  },
  {
   "cell_type": "code",
   "execution_count": 175,
   "metadata": {},
   "outputs": [
    {
     "data": {
      "application/vnd.vegalite.v5+json": {
       "$schema": "https://vega.github.io/schema/vega-lite/v5.20.1.json",
       "config": {
        "view": {
         "continuousHeight": 300,
         "continuousWidth": 300
        }
       },
       "hconcat": [
        {
         "data": {
          "format": {
           "type": "json"
          },
          "url": "altair-data-29560016909ef45c411b6edda497a51f.json"
         },
         "height": 200,
         "layer": [
          {
           "encoding": {
            "color": {
             "field": "conditions",
             "type": "nominal"
            },
            "x": {
             "field": "low_bound",
             "title": "",
             "type": "quantitative"
            },
            "x2": {
             "field": "up_bound"
            },
            "y": {
             "field": "height",
             "scale": {
              "zero": true
             },
             "title": "Height (m)",
             "type": "quantitative"
            }
           },
           "mark": {
            "opacity": 0.25,
            "type": "area"
           },
           "transform": [
            {
             "aggregate": [
              {
               "as": "median",
               "field": "value",
               "op": "median"
              }
             ],
             "groupby": [
              "height",
              "tower",
              "conditions"
             ]
            },
            {
             "as": "low_bound",
             "calculate": "datum.median - 0.2*datum.median"
            },
            {
             "as": "up_bound",
             "calculate": "datum.median + 0.2*datum.median"
            }
           ]
          },
          {
           "encoding": {
            "color": {
             "field": "conditions",
             "type": "nominal"
            },
            "x": {
             "aggregate": "median",
             "field": "value",
             "sort": "-y",
             "title": "<w'q'> (g/m^2/s)",
             "type": "quantitative"
            },
            "y": {
             "field": "height",
             "scale": {
              "zero": true
             },
             "type": "quantitative"
            }
           },
           "mark": {
            "point": true,
            "type": "line"
           },
           "title": [
            " "
           ]
          }
         ],
         "title": "20230417",
         "width": 200
        },
        {
         "data": {
          "format": {
           "type": "json"
          },
          "url": "altair-data-7eeb33e965302bf533e2acde8ceb1c4d.json"
         },
         "height": 200,
         "layer": [
          {
           "encoding": {
            "color": {
             "field": "conditions",
             "type": "nominal"
            },
            "x": {
             "field": "low_bound",
             "title": "",
             "type": "quantitative"
            },
            "x2": {
             "field": "up_bound"
            },
            "y": {
             "field": "height",
             "scale": {
              "zero": true
             },
             "title": "Height (m)",
             "type": "quantitative"
            }
           },
           "mark": {
            "opacity": 0.25,
            "type": "area"
           },
           "transform": [
            {
             "aggregate": [
              {
               "as": "median",
               "field": "value",
               "op": "median"
              }
             ],
             "groupby": [
              "height",
              "tower",
              "conditions"
             ]
            },
            {
             "as": "low_bound",
             "calculate": "datum.median - 0.2*datum.median"
            },
            {
             "as": "up_bound",
             "calculate": "datum.median + 0.2*datum.median"
            }
           ]
          },
          {
           "encoding": {
            "color": {
             "field": "conditions",
             "type": "nominal"
            },
            "x": {
             "aggregate": "median",
             "field": "value",
             "sort": "-y",
             "title": "<w'q'> (g/m^2/s)",
             "type": "quantitative"
            },
            "y": {
             "field": "height",
             "scale": {
              "zero": true
             },
             "type": "quantitative"
            }
           },
           "mark": {
            "point": true,
            "type": "line"
           },
           "title": [
            " "
           ]
          }
         ],
         "title": "20230505",
         "width": 200
        }
       ]
      },
      "text/plain": [
       "<VegaLite 5 object>\n",
       "\n",
       "If you see this message, it means the renderer has not been properly enabled\n",
       "for the frontend that you are using. For more information, see\n",
       "https://altair-viz.github.io/user_guide/display_frontends.html#troubleshooting\n"
      ]
     },
     "metadata": {
      "application/vnd.vegalite.v5+json": {
       "embed_options": {
        "renderer": "svg"
       }
      }
     },
     "output_type": "display_data"
    }
   ],
   "source": [
    "src = w_h2o__measurements_df.copy()\n",
    "src = src[src.time.isin(nobs_times)]\n",
    "src['conditions'] = src.time.dt.hour\n",
    "src = src[src.conditions % 3 == 0]\n",
    "src = src.query(\"tower == 'c'\").query(\"height > 1\")\n",
    "(\n",
    "    lhflux_profile_chart_split_conditions(\n",
    "        src[src.time.dt.strftime('%Y%m%d') == '20230417'],\" \"\n",
    "    ).properties(title='20230417', width=200, height=200)\n",
    "    |\\\n",
    "    lhflux_profile_chart_split_conditions(\n",
    "        src[src.time.dt.strftime('%Y%m%d') == '20230505'],\" \"\n",
    "    ).properties(title='20230505', width=200, height=200)\n",
    ").display(renderer='svg')"
   ]
  },
  {
   "cell_type": "code",
   "execution_count": 176,
   "metadata": {},
   "outputs": [
    {
     "data": {
      "application/vnd.vegalite.v5+json": {
       "$schema": "https://vega.github.io/schema/vega-lite/v5.20.1.json",
       "config": {
        "view": {
         "continuousHeight": 300,
         "continuousWidth": 300
        }
       },
       "hconcat": [
        {
         "data": {
          "format": {
           "type": "json"
          },
          "url": "altair-data-69b8022cdfe3e9cf3151cbf107bc6f32.json"
         },
         "height": 150,
         "layer": [
          {
           "encoding": {
            "color": {
             "field": "conditions",
             "type": "nominal"
            },
            "x": {
             "field": "low_bound",
             "title": "",
             "type": "quantitative"
            },
            "x2": {
             "field": "up_bound"
            },
            "y": {
             "field": "height",
             "scale": {
              "zero": true
             },
             "title": "Height (m)",
             "type": "quantitative"
            }
           },
           "mark": {
            "opacity": 0.25,
            "type": "area"
           },
           "transform": [
            {
             "aggregate": [
              {
               "as": "median",
               "field": "value",
               "op": "median"
              }
             ],
             "groupby": [
              "height",
              "tower",
              "conditions"
             ]
            },
            {
             "as": "low_bound",
             "calculate": "datum.median - 0.2*datum.median"
            },
            {
             "as": "up_bound",
             "calculate": "datum.median + 0.2*datum.median"
            }
           ]
          },
          {
           "encoding": {
            "color": {
             "field": "conditions",
             "type": "nominal"
            },
            "x": {
             "aggregate": "median",
             "field": "value",
             "sort": "-y",
             "title": "<w'q'> (g/m^2/s)",
             "type": "quantitative"
            },
            "y": {
             "field": "height",
             "scale": {
              "zero": true
             },
             "type": "quantitative"
            }
           },
           "mark": {
            "point": true,
            "type": "line"
           },
           "title": [
            "All data"
           ]
          }
         ],
         "width": 150
        },
        {
         "data": {
          "format": {
           "type": "json"
          },
          "url": "altair-data-1744d1b4ea17cd3832a26f403f97804b.json"
         },
         "height": 150,
         "layer": [
          {
           "encoding": {
            "color": {
             "field": "conditions",
             "type": "nominal"
            },
            "x": {
             "field": "low_bound",
             "title": "",
             "type": "quantitative"
            },
            "x2": {
             "field": "up_bound"
            },
            "y": {
             "field": "height",
             "scale": {
              "zero": true
             },
             "title": "Height (m)",
             "type": "quantitative"
            }
           },
           "mark": {
            "opacity": 0.25,
            "type": "area"
           },
           "transform": [
            {
             "aggregate": [
              {
               "as": "median",
               "field": "value",
               "op": "median"
              }
             ],
             "groupby": [
              "height",
              "tower",
              "conditions"
             ]
            },
            {
             "as": "low_bound",
             "calculate": "datum.median - 0.2*datum.median"
            },
            {
             "as": "up_bound",
             "calculate": "datum.median + 0.2*datum.median"
            }
           ]
          },
          {
           "encoding": {
            "color": {
             "field": "conditions",
             "type": "nominal"
            },
            "x": {
             "aggregate": "median",
             "field": "value",
             "sort": "-y",
             "title": "<w'q'> (g/m^2/s)",
             "type": "quantitative"
            },
            "y": {
             "field": "height",
             "scale": {
              "zero": true
             },
             "type": "quantitative"
            }
           },
           "mark": {
            "point": true,
            "type": "line"
           },
           "title": [
            "All data"
           ]
          }
         ],
         "width": 150
        }
       ],
       "resolve": {
        "scale": {
         "color": "independent",
         "x": "shared"
        }
       }
      },
      "text/plain": [
       "<VegaLite 5 object>\n",
       "\n",
       "If you see this message, it means the renderer has not been properly enabled\n",
       "for the frontend that you are using. For more information, see\n",
       "https://altair-viz.github.io/user_guide/display_frontends.html#troubleshooting\n"
      ]
     },
     "execution_count": 176,
     "metadata": {},
     "output_type": "execute_result"
    }
   ],
   "source": [
    "src = u_h2o__measurements_df.copy()\n",
    "src = src[src.time.isin(nobs_times)]\n",
    "src['conditions'] = src.time.dt.hour\n",
    "src = src[src.conditions % 2 == 0]\n",
    "src = src.query(\"tower == 'c'\").query(\"height > 1\")\n",
    "(\n",
    "lhflux_profile_chart_split_conditions(src[src.conditions < 12],\"All data\") |\\\n",
    "lhflux_profile_chart_split_conditions(src[src.conditions >= 12],\"All data\")\n",
    ").resolve_scale(color='independent', x='shared')"
   ]
  },
  {
   "cell_type": "code",
   "execution_count": 177,
   "metadata": {},
   "outputs": [
    {
     "data": {
      "application/vnd.vegalite.v5+json": {
       "$schema": "https://vega.github.io/schema/vega-lite/v5.20.1.json",
       "config": {
        "view": {
         "continuousHeight": 300,
         "continuousWidth": 300
        }
       },
       "hconcat": [
        {
         "data": {
          "format": {
           "type": "json"
          },
          "url": "altair-data-6d9fa9ec53fdb8abaf974207e5fcaf00.json"
         },
         "height": 150,
         "layer": [
          {
           "encoding": {
            "color": {
             "field": "conditions",
             "type": "nominal"
            },
            "x": {
             "field": "low_bound",
             "title": "",
             "type": "quantitative"
            },
            "x2": {
             "field": "up_bound"
            },
            "y": {
             "field": "height",
             "scale": {
              "zero": true
             },
             "title": "Height (m)",
             "type": "quantitative"
            }
           },
           "mark": {
            "opacity": 0.25,
            "type": "area"
           },
           "transform": [
            {
             "aggregate": [
              {
               "as": "median",
               "field": "value",
               "op": "median"
              }
             ],
             "groupby": [
              "height",
              "tower",
              "conditions"
             ]
            },
            {
             "as": "low_bound",
             "calculate": "datum.median - 0.2*datum.median"
            },
            {
             "as": "up_bound",
             "calculate": "datum.median + 0.2*datum.median"
            }
           ]
          },
          {
           "encoding": {
            "color": {
             "field": "conditions",
             "type": "nominal"
            },
            "x": {
             "aggregate": "median",
             "field": "value",
             "sort": "-y",
             "title": "<w'q'> (g/m^2/s)",
             "type": "quantitative"
            },
            "y": {
             "field": "height",
             "scale": {
              "zero": true
             },
             "type": "quantitative"
            }
           },
           "mark": {
            "point": true,
            "type": "line"
           },
           "title": [
            "All data"
           ]
          }
         ],
         "width": 150
        },
        {
         "data": {
          "format": {
           "type": "json"
          },
          "url": "altair-data-22971abb5f4a21bac6f8568e09c39d5d.json"
         },
         "height": 150,
         "layer": [
          {
           "encoding": {
            "color": {
             "field": "conditions",
             "type": "nominal"
            },
            "x": {
             "field": "low_bound",
             "title": "",
             "type": "quantitative"
            },
            "x2": {
             "field": "up_bound"
            },
            "y": {
             "field": "height",
             "scale": {
              "zero": true
             },
             "title": "Height (m)",
             "type": "quantitative"
            }
           },
           "mark": {
            "opacity": 0.25,
            "type": "area"
           },
           "transform": [
            {
             "aggregate": [
              {
               "as": "median",
               "field": "value",
               "op": "median"
              }
             ],
             "groupby": [
              "height",
              "tower",
              "conditions"
             ]
            },
            {
             "as": "low_bound",
             "calculate": "datum.median - 0.2*datum.median"
            },
            {
             "as": "up_bound",
             "calculate": "datum.median + 0.2*datum.median"
            }
           ]
          },
          {
           "encoding": {
            "color": {
             "field": "conditions",
             "type": "nominal"
            },
            "x": {
             "aggregate": "median",
             "field": "value",
             "sort": "-y",
             "title": "<w'q'> (g/m^2/s)",
             "type": "quantitative"
            },
            "y": {
             "field": "height",
             "scale": {
              "zero": true
             },
             "type": "quantitative"
            }
           },
           "mark": {
            "point": true,
            "type": "line"
           },
           "title": [
            "All data"
           ]
          }
         ],
         "width": 150
        }
       ],
       "resolve": {
        "scale": {
         "color": "independent",
         "x": "shared"
        }
       }
      },
      "text/plain": [
       "<VegaLite 5 object>\n",
       "\n",
       "If you see this message, it means the renderer has not been properly enabled\n",
       "for the frontend that you are using. For more information, see\n",
       "https://altair-viz.github.io/user_guide/display_frontends.html#troubleshooting\n"
      ]
     },
     "execution_count": 177,
     "metadata": {},
     "output_type": "execute_result"
    }
   ],
   "source": [
    "src = v_h2o__measurements_df.copy()\n",
    "src = src[src.time.isin(nobs_times)]\n",
    "src['conditions'] = src.time.dt.hour\n",
    "src = src[src.conditions % 2 == 0]\n",
    "src = src.query(\"tower == 'c'\").query(\"height > 1\")\n",
    "(\n",
    "lhflux_profile_chart_split_conditions(src[src.conditions < 12],\"All data\") |\\\n",
    "lhflux_profile_chart_split_conditions(src[src.conditions >= 12],\"All data\")\n",
    ").resolve_scale(color='independent', x='shared')"
   ]
  },
  {
   "cell_type": "code",
   "execution_count": 178,
   "metadata": {},
   "outputs": [
    {
     "data": {
      "application/vnd.vegalite.v5+json": {
       "$schema": "https://vega.github.io/schema/vega-lite/v5.20.1.json",
       "config": {
        "view": {
         "continuousHeight": 300,
         "continuousWidth": 300
        }
       },
       "vconcat": [
        {
         "hconcat": [
          {
           "data": {
            "format": {
             "type": "json"
            },
            "url": "altair-data-5780cd0a8de314621573d88e10c5db4b.json"
           },
           "height": 150,
           "layer": [
            {
             "encoding": {
              "x": {
               "field": "low_bound",
               "title": "",
               "type": "quantitative"
              },
              "x2": {
               "field": "up_bound"
              },
              "y": {
               "field": "height",
               "scale": {
                "zero": true
               },
               "title": "Height(m)",
               "type": "quantitative"
              }
             },
             "mark": {
              "color": "black",
              "opacity": 0.2,
              "type": "area"
             },
             "transform": [
              {
               "aggregate": [
                {
                 "as": "median",
                 "field": "value",
                 "op": "median"
                }
               ],
               "groupby": [
                "height",
                "tower"
               ]
              },
              {
               "as": "low_bound",
               "calculate": "datum.median - 0.2*datum.median"
              },
              {
               "as": "up_bound",
               "calculate": "datum.median + 0.2*datum.median"
              }
             ]
            },
            {
             "encoding": {
              "x": {
               "aggregate": "median",
               "field": "value",
               "sort": "-y",
               "title": "<w'q'> (g/m^2/s)",
               "type": "quantitative"
              },
              "y": {
               "field": "height",
               "scale": {
                "zero": true
               },
               "type": "quantitative"
              }
             },
             "mark": {
              "color": "black",
              "point": {
               "color": "black"
              },
              "type": "line"
             },
             "title": "All data"
            }
           ],
           "width": 150
          },
          {
           "data": {
            "format": {
             "type": "json"
            },
            "url": "altair-data-8159d688fba516306e801271ab92bab6.json"
           },
           "height": 150,
           "layer": [
            {
             "encoding": {
              "color": {
               "field": "conditions",
               "type": "nominal"
              },
              "x": {
               "field": "low_bound",
               "title": "",
               "type": "quantitative"
              },
              "x2": {
               "field": "up_bound"
              },
              "y": {
               "field": "height",
               "scale": {
                "zero": true
               },
               "title": "Height (m)",
               "type": "quantitative"
              }
             },
             "mark": {
              "opacity": 0.25,
              "type": "area"
             },
             "transform": [
              {
               "aggregate": [
                {
                 "as": "median",
                 "field": "value",
                 "op": "median"
                }
               ],
               "groupby": [
                "height",
                "tower",
                "conditions"
               ]
              },
              {
               "as": "low_bound",
               "calculate": "datum.median - 0.2*datum.median"
              },
              {
               "as": "up_bound",
               "calculate": "datum.median + 0.2*datum.median"
              }
             ]
            },
            {
             "encoding": {
              "color": {
               "field": "conditions",
               "type": "nominal"
              },
              "x": {
               "aggregate": "median",
               "field": "value",
               "sort": "-y",
               "title": "<w'q'> (g/m^2/s)",
               "type": "quantitative"
              },
              "y": {
               "field": "height",
               "scale": {
                "zero": true
               },
               "type": "quantitative"
              }
             },
             "mark": {
              "point": true,
              "type": "line"
             },
             "title": [
              "Stable"
             ]
            }
           ],
           "width": 150
          },
          {
           "data": {
            "format": {
             "type": "json"
            },
            "url": "altair-data-2faa4fe6dfc1e3e6070094bd082b531a.json"
           },
           "height": 150,
           "layer": [
            {
             "encoding": {
              "color": {
               "field": "conditions",
               "type": "nominal"
              },
              "x": {
               "field": "low_bound",
               "title": "",
               "type": "quantitative"
              },
              "x2": {
               "field": "up_bound"
              },
              "y": {
               "field": "height",
               "scale": {
                "zero": true
               },
               "title": "Height (m)",
               "type": "quantitative"
              }
             },
             "mark": {
              "opacity": 0.25,
              "type": "area"
             },
             "transform": [
              {
               "aggregate": [
                {
                 "as": "median",
                 "field": "value",
                 "op": "median"
                }
               ],
               "groupby": [
                "height",
                "tower",
                "conditions"
               ]
              },
              {
               "as": "low_bound",
               "calculate": "datum.median - 0.2*datum.median"
              },
              {
               "as": "up_bound",
               "calculate": "datum.median + 0.2*datum.median"
              }
             ]
            },
            {
             "encoding": {
              "color": {
               "field": "conditions",
               "type": "nominal"
              },
              "x": {
               "aggregate": "median",
               "field": "value",
               "sort": "-y",
               "title": "<w'q'> (g/m^2/s)",
               "type": "quantitative"
              },
              "y": {
               "field": "height",
               "scale": {
                "zero": true
               },
               "type": "quantitative"
              }
             },
             "mark": {
              "point": true,
              "type": "line"
             },
             "title": [
              "Neutral"
             ]
            }
           ],
           "width": 150
          },
          {
           "data": {
            "format": {
             "type": "json"
            },
            "url": "altair-data-5378aaca4287aa728d0f28a1508b738d.json"
           },
           "height": 150,
           "layer": [
            {
             "encoding": {
              "color": {
               "field": "conditions",
               "type": "nominal"
              },
              "x": {
               "field": "low_bound",
               "title": "",
               "type": "quantitative"
              },
              "x2": {
               "field": "up_bound"
              },
              "y": {
               "field": "height",
               "scale": {
                "zero": true
               },
               "title": "Height (m)",
               "type": "quantitative"
              }
             },
             "mark": {
              "opacity": 0.25,
              "type": "area"
             },
             "transform": [
              {
               "aggregate": [
                {
                 "as": "median",
                 "field": "value",
                 "op": "median"
                }
               ],
               "groupby": [
                "height",
                "tower",
                "conditions"
               ]
              },
              {
               "as": "low_bound",
               "calculate": "datum.median - 0.2*datum.median"
              },
              {
               "as": "up_bound",
               "calculate": "datum.median + 0.2*datum.median"
              }
             ]
            },
            {
             "encoding": {
              "color": {
               "field": "conditions",
               "type": "nominal"
              },
              "x": {
               "aggregate": "median",
               "field": "value",
               "sort": "-y",
               "title": "<w'q'> (g/m^2/s)",
               "type": "quantitative"
              },
              "y": {
               "field": "height",
               "scale": {
                "zero": true
               },
               "type": "quantitative"
              }
             },
             "mark": {
              "point": true,
              "type": "line"
             },
             "title": [
              "Unstable"
             ]
            }
           ],
           "width": 150
          }
         ],
         "resolve": {
          "scale": {
           "x": "shared",
           "y": "shared"
          }
         }
        },
        {
         "hconcat": [
          {
           "data": {
            "format": {
             "type": "json"
            },
            "url": "altair-data-9428ea1e6c4ff421355f0ce7d0c4d87b.json"
           },
           "height": 150,
           "layer": [
            {
             "encoding": {
              "x": {
               "field": "low_bound",
               "title": "",
               "type": "quantitative"
              },
              "x2": {
               "field": "up_bound"
              },
              "y": {
               "field": "height",
               "scale": {
                "zero": true
               },
               "title": "Height(m)",
               "type": "quantitative"
              }
             },
             "mark": {
              "color": "black",
              "opacity": 0.2,
              "type": "area"
             },
             "transform": [
              {
               "aggregate": [
                {
                 "as": "median",
                 "field": "value",
                 "op": "median"
                }
               ],
               "groupby": [
                "height",
                "tower"
               ]
              },
              {
               "as": "low_bound",
               "calculate": "datum.median - 0.2*datum.median"
              },
              {
               "as": "up_bound",
               "calculate": "datum.median + 0.2*datum.median"
              }
             ]
            },
            {
             "encoding": {
              "x": {
               "aggregate": "median",
               "field": "value",
               "sort": "-y",
               "title": "<w'q'> (g/m^2/s)",
               "type": "quantitative"
              },
              "y": {
               "field": "height",
               "scale": {
                "zero": true
               },
               "type": "quantitative"
              }
             },
             "mark": {
              "color": "black",
              "point": {
               "color": "black"
              },
              "type": "line"
             },
             "title": "All data"
            }
           ],
           "width": 150
          },
          {
           "data": {
            "format": {
             "type": "json"
            },
            "url": "altair-data-bda4ed19f16555149a9566b8927067d8.json"
           },
           "height": 150,
           "layer": [
            {
             "encoding": {
              "color": {
               "field": "conditions",
               "type": "nominal"
              },
              "x": {
               "field": "low_bound",
               "title": "",
               "type": "quantitative"
              },
              "x2": {
               "field": "up_bound"
              },
              "y": {
               "field": "height",
               "scale": {
                "zero": true
               },
               "title": "Height (m)",
               "type": "quantitative"
              }
             },
             "mark": {
              "opacity": 0.25,
              "type": "area"
             },
             "transform": [
              {
               "aggregate": [
                {
                 "as": "median",
                 "field": "value",
                 "op": "median"
                }
               ],
               "groupby": [
                "height",
                "tower",
                "conditions"
               ]
              },
              {
               "as": "low_bound",
               "calculate": "datum.median - 0.2*datum.median"
              },
              {
               "as": "up_bound",
               "calculate": "datum.median + 0.2*datum.median"
              }
             ]
            },
            {
             "encoding": {
              "color": {
               "field": "conditions",
               "type": "nominal"
              },
              "x": {
               "aggregate": "median",
               "field": "value",
               "sort": "-y",
               "title": "<w'q'> (g/m^2/s)",
               "type": "quantitative"
              },
              "y": {
               "field": "height",
               "scale": {
                "zero": true
               },
               "type": "quantitative"
              }
             },
             "mark": {
              "point": true,
              "type": "line"
             },
             "title": [
              "Stable"
             ]
            }
           ],
           "width": 150
          },
          {
           "data": {
            "format": {
             "type": "json"
            },
            "url": "altair-data-92d715f5692707a09e1109acc58cffbf.json"
           },
           "height": 150,
           "layer": [
            {
             "encoding": {
              "color": {
               "field": "conditions",
               "type": "nominal"
              },
              "x": {
               "field": "low_bound",
               "title": "",
               "type": "quantitative"
              },
              "x2": {
               "field": "up_bound"
              },
              "y": {
               "field": "height",
               "scale": {
                "zero": true
               },
               "title": "Height (m)",
               "type": "quantitative"
              }
             },
             "mark": {
              "opacity": 0.25,
              "type": "area"
             },
             "transform": [
              {
               "aggregate": [
                {
                 "as": "median",
                 "field": "value",
                 "op": "median"
                }
               ],
               "groupby": [
                "height",
                "tower",
                "conditions"
               ]
              },
              {
               "as": "low_bound",
               "calculate": "datum.median - 0.2*datum.median"
              },
              {
               "as": "up_bound",
               "calculate": "datum.median + 0.2*datum.median"
              }
             ]
            },
            {
             "encoding": {
              "color": {
               "field": "conditions",
               "type": "nominal"
              },
              "x": {
               "aggregate": "median",
               "field": "value",
               "sort": "-y",
               "title": "<w'q'> (g/m^2/s)",
               "type": "quantitative"
              },
              "y": {
               "field": "height",
               "scale": {
                "zero": true
               },
               "type": "quantitative"
              }
             },
             "mark": {
              "point": true,
              "type": "line"
             },
             "title": [
              "Neutral"
             ]
            }
           ],
           "width": 150
          },
          {
           "data": {
            "format": {
             "type": "json"
            },
            "url": "altair-data-81d985c6cc3614e3030bc0edfb3d585d.json"
           },
           "height": 150,
           "layer": [
            {
             "encoding": {
              "color": {
               "field": "conditions",
               "type": "nominal"
              },
              "x": {
               "field": "low_bound",
               "title": "",
               "type": "quantitative"
              },
              "x2": {
               "field": "up_bound"
              },
              "y": {
               "field": "height",
               "scale": {
                "zero": true
               },
               "title": "Height (m)",
               "type": "quantitative"
              }
             },
             "mark": {
              "opacity": 0.25,
              "type": "area"
             },
             "transform": [
              {
               "aggregate": [
                {
                 "as": "median",
                 "field": "value",
                 "op": "median"
                }
               ],
               "groupby": [
                "height",
                "tower",
                "conditions"
               ]
              },
              {
               "as": "low_bound",
               "calculate": "datum.median - 0.2*datum.median"
              },
              {
               "as": "up_bound",
               "calculate": "datum.median + 0.2*datum.median"
              }
             ]
            },
            {
             "encoding": {
              "color": {
               "field": "conditions",
               "type": "nominal"
              },
              "x": {
               "aggregate": "median",
               "field": "value",
               "sort": "-y",
               "title": "<w'q'> (g/m^2/s)",
               "type": "quantitative"
              },
              "y": {
               "field": "height",
               "scale": {
                "zero": true
               },
               "type": "quantitative"
              }
             },
             "mark": {
              "point": true,
              "type": "line"
             },
             "title": [
              "Unstable"
             ]
            }
           ],
           "width": 150
          }
         ],
         "resolve": {
          "scale": {
           "x": "shared",
           "y": "shared"
          }
         }
        },
        {
         "hconcat": [
          {
           "data": {
            "format": {
             "type": "json"
            },
            "url": "altair-data-2e9da0dcc19b2d0c5b7f0d7b41d02074.json"
           },
           "height": 150,
           "layer": [
            {
             "encoding": {
              "x": {
               "field": "low_bound",
               "title": "",
               "type": "quantitative"
              },
              "x2": {
               "field": "up_bound"
              },
              "y": {
               "field": "height",
               "scale": {
                "zero": true
               },
               "title": "Height(m)",
               "type": "quantitative"
              }
             },
             "mark": {
              "color": "black",
              "opacity": 0.2,
              "type": "area"
             },
             "transform": [
              {
               "aggregate": [
                {
                 "as": "median",
                 "field": "value",
                 "op": "median"
                }
               ],
               "groupby": [
                "height",
                "tower"
               ]
              },
              {
               "as": "low_bound",
               "calculate": "datum.median - 0.2*datum.median"
              },
              {
               "as": "up_bound",
               "calculate": "datum.median + 0.2*datum.median"
              }
             ]
            },
            {
             "encoding": {
              "x": {
               "aggregate": "median",
               "field": "value",
               "sort": "-y",
               "title": "<w'q'> (g/m^2/s)",
               "type": "quantitative"
              },
              "y": {
               "field": "height",
               "scale": {
                "zero": true
               },
               "type": "quantitative"
              }
             },
             "mark": {
              "color": "black",
              "point": {
               "color": "black"
              },
              "type": "line"
             },
             "title": "All data"
            }
           ],
           "width": 150
          },
          {
           "data": {
            "format": {
             "type": "json"
            },
            "url": "altair-data-f6de447c388025d42809f31735d47abf.json"
           },
           "height": 150,
           "layer": [
            {
             "encoding": {
              "color": {
               "field": "conditions",
               "type": "nominal"
              },
              "x": {
               "field": "low_bound",
               "title": "",
               "type": "quantitative"
              },
              "x2": {
               "field": "up_bound"
              },
              "y": {
               "field": "height",
               "scale": {
                "zero": true
               },
               "title": "Height (m)",
               "type": "quantitative"
              }
             },
             "mark": {
              "opacity": 0.25,
              "type": "area"
             },
             "transform": [
              {
               "aggregate": [
                {
                 "as": "median",
                 "field": "value",
                 "op": "median"
                }
               ],
               "groupby": [
                "height",
                "tower",
                "conditions"
               ]
              },
              {
               "as": "low_bound",
               "calculate": "datum.median - 0.2*datum.median"
              },
              {
               "as": "up_bound",
               "calculate": "datum.median + 0.2*datum.median"
              }
             ]
            },
            {
             "encoding": {
              "color": {
               "field": "conditions",
               "type": "nominal"
              },
              "x": {
               "aggregate": "median",
               "field": "value",
               "sort": "-y",
               "title": "<w'q'> (g/m^2/s)",
               "type": "quantitative"
              },
              "y": {
               "field": "height",
               "scale": {
                "zero": true
               },
               "type": "quantitative"
              }
             },
             "mark": {
              "point": true,
              "type": "line"
             },
             "title": [
              "Stable"
             ]
            }
           ],
           "width": 150
          },
          {
           "data": {
            "format": {
             "type": "json"
            },
            "url": "altair-data-9a56aee48209f48dfed86a6f02bdeeac.json"
           },
           "height": 150,
           "layer": [
            {
             "encoding": {
              "color": {
               "field": "conditions",
               "type": "nominal"
              },
              "x": {
               "field": "low_bound",
               "title": "",
               "type": "quantitative"
              },
              "x2": {
               "field": "up_bound"
              },
              "y": {
               "field": "height",
               "scale": {
                "zero": true
               },
               "title": "Height (m)",
               "type": "quantitative"
              }
             },
             "mark": {
              "opacity": 0.25,
              "type": "area"
             },
             "transform": [
              {
               "aggregate": [
                {
                 "as": "median",
                 "field": "value",
                 "op": "median"
                }
               ],
               "groupby": [
                "height",
                "tower",
                "conditions"
               ]
              },
              {
               "as": "low_bound",
               "calculate": "datum.median - 0.2*datum.median"
              },
              {
               "as": "up_bound",
               "calculate": "datum.median + 0.2*datum.median"
              }
             ]
            },
            {
             "encoding": {
              "color": {
               "field": "conditions",
               "type": "nominal"
              },
              "x": {
               "aggregate": "median",
               "field": "value",
               "sort": "-y",
               "title": "<w'q'> (g/m^2/s)",
               "type": "quantitative"
              },
              "y": {
               "field": "height",
               "scale": {
                "zero": true
               },
               "type": "quantitative"
              }
             },
             "mark": {
              "point": true,
              "type": "line"
             },
             "title": [
              "Neutral"
             ]
            }
           ],
           "width": 150
          },
          {
           "data": {
            "format": {
             "type": "json"
            },
            "url": "altair-data-8cd1c09fd063decfdd4e153e97d758da.json"
           },
           "height": 150,
           "layer": [
            {
             "encoding": {
              "color": {
               "field": "conditions",
               "type": "nominal"
              },
              "x": {
               "field": "low_bound",
               "title": "",
               "type": "quantitative"
              },
              "x2": {
               "field": "up_bound"
              },
              "y": {
               "field": "height",
               "scale": {
                "zero": true
               },
               "title": "Height (m)",
               "type": "quantitative"
              }
             },
             "mark": {
              "opacity": 0.25,
              "type": "area"
             },
             "transform": [
              {
               "aggregate": [
                {
                 "as": "median",
                 "field": "value",
                 "op": "median"
                }
               ],
               "groupby": [
                "height",
                "tower",
                "conditions"
               ]
              },
              {
               "as": "low_bound",
               "calculate": "datum.median - 0.2*datum.median"
              },
              {
               "as": "up_bound",
               "calculate": "datum.median + 0.2*datum.median"
              }
             ]
            },
            {
             "encoding": {
              "color": {
               "field": "conditions",
               "type": "nominal"
              },
              "x": {
               "aggregate": "median",
               "field": "value",
               "sort": "-y",
               "title": "<w'q'> (g/m^2/s)",
               "type": "quantitative"
              },
              "y": {
               "field": "height",
               "scale": {
                "zero": true
               },
               "type": "quantitative"
              }
             },
             "mark": {
              "point": true,
              "type": "line"
             },
             "title": [
              "Unstable"
             ]
            }
           ],
           "width": 150
          }
         ],
         "resolve": {
          "scale": {
           "x": "shared",
           "y": "shared"
          }
         }
        },
        {
         "hconcat": [
          {
           "data": {
            "format": {
             "type": "json"
            },
            "url": "altair-data-05ef2b70a08ee0e6379c269f025fedaa.json"
           },
           "height": 150,
           "layer": [
            {
             "encoding": {
              "x": {
               "field": "low_bound",
               "title": "",
               "type": "quantitative"
              },
              "x2": {
               "field": "up_bound"
              },
              "y": {
               "field": "height",
               "scale": {
                "zero": true
               },
               "title": "Height(m)",
               "type": "quantitative"
              }
             },
             "mark": {
              "color": "black",
              "opacity": 0.2,
              "type": "area"
             },
             "transform": [
              {
               "aggregate": [
                {
                 "as": "median",
                 "field": "value",
                 "op": "median"
                }
               ],
               "groupby": [
                "height",
                "tower"
               ]
              },
              {
               "as": "low_bound",
               "calculate": "datum.median - 0.2*datum.median"
              },
              {
               "as": "up_bound",
               "calculate": "datum.median + 0.2*datum.median"
              }
             ]
            },
            {
             "encoding": {
              "x": {
               "aggregate": "median",
               "field": "value",
               "sort": "-y",
               "title": "<w'q'> (g/m^2/s)",
               "type": "quantitative"
              },
              "y": {
               "field": "height",
               "scale": {
                "zero": true
               },
               "type": "quantitative"
              }
             },
             "mark": {
              "color": "black",
              "point": {
               "color": "black"
              },
              "type": "line"
             },
             "title": "All data"
            }
           ],
           "width": 150
          },
          {
           "data": {
            "format": {
             "type": "json"
            },
            "url": "altair-data-b28800d6bfe3afd72488996bdc18cdf5.json"
           },
           "height": 150,
           "layer": [
            {
             "encoding": {
              "color": {
               "field": "conditions",
               "type": "nominal"
              },
              "x": {
               "field": "low_bound",
               "title": "",
               "type": "quantitative"
              },
              "x2": {
               "field": "up_bound"
              },
              "y": {
               "field": "height",
               "scale": {
                "zero": true
               },
               "title": "Height (m)",
               "type": "quantitative"
              }
             },
             "mark": {
              "opacity": 0.25,
              "type": "area"
             },
             "transform": [
              {
               "aggregate": [
                {
                 "as": "median",
                 "field": "value",
                 "op": "median"
                }
               ],
               "groupby": [
                "height",
                "tower",
                "conditions"
               ]
              },
              {
               "as": "low_bound",
               "calculate": "datum.median - 0.2*datum.median"
              },
              {
               "as": "up_bound",
               "calculate": "datum.median + 0.2*datum.median"
              }
             ]
            },
            {
             "encoding": {
              "color": {
               "field": "conditions",
               "type": "nominal"
              },
              "x": {
               "aggregate": "median",
               "field": "value",
               "sort": "-y",
               "title": "<w'q'> (g/m^2/s)",
               "type": "quantitative"
              },
              "y": {
               "field": "height",
               "scale": {
                "zero": true
               },
               "type": "quantitative"
              }
             },
             "mark": {
              "point": true,
              "type": "line"
             },
             "title": [
              "Stable"
             ]
            }
           ],
           "width": 150
          },
          {
           "data": {
            "format": {
             "type": "json"
            },
            "url": "altair-data-f714229234ccefa932460793f91d90f5.json"
           },
           "height": 150,
           "layer": [
            {
             "encoding": {
              "color": {
               "field": "conditions",
               "type": "nominal"
              },
              "x": {
               "field": "low_bound",
               "title": "",
               "type": "quantitative"
              },
              "x2": {
               "field": "up_bound"
              },
              "y": {
               "field": "height",
               "scale": {
                "zero": true
               },
               "title": "Height (m)",
               "type": "quantitative"
              }
             },
             "mark": {
              "opacity": 0.25,
              "type": "area"
             },
             "transform": [
              {
               "aggregate": [
                {
                 "as": "median",
                 "field": "value",
                 "op": "median"
                }
               ],
               "groupby": [
                "height",
                "tower",
                "conditions"
               ]
              },
              {
               "as": "low_bound",
               "calculate": "datum.median - 0.2*datum.median"
              },
              {
               "as": "up_bound",
               "calculate": "datum.median + 0.2*datum.median"
              }
             ]
            },
            {
             "encoding": {
              "color": {
               "field": "conditions",
               "type": "nominal"
              },
              "x": {
               "aggregate": "median",
               "field": "value",
               "sort": "-y",
               "title": "<w'q'> (g/m^2/s)",
               "type": "quantitative"
              },
              "y": {
               "field": "height",
               "scale": {
                "zero": true
               },
               "type": "quantitative"
              }
             },
             "mark": {
              "point": true,
              "type": "line"
             },
             "title": [
              "Neutral"
             ]
            }
           ],
           "width": 150
          },
          {
           "data": {
            "format": {
             "type": "json"
            },
            "url": "altair-data-cdcb349b394ca57e1c7c12152aeea940.json"
           },
           "height": 150,
           "layer": [
            {
             "encoding": {
              "color": {
               "field": "conditions",
               "type": "nominal"
              },
              "x": {
               "field": "low_bound",
               "title": "",
               "type": "quantitative"
              },
              "x2": {
               "field": "up_bound"
              },
              "y": {
               "field": "height",
               "scale": {
                "zero": true
               },
               "title": "Height (m)",
               "type": "quantitative"
              }
             },
             "mark": {
              "opacity": 0.25,
              "type": "area"
             },
             "transform": [
              {
               "aggregate": [
                {
                 "as": "median",
                 "field": "value",
                 "op": "median"
                }
               ],
               "groupby": [
                "height",
                "tower",
                "conditions"
               ]
              },
              {
               "as": "low_bound",
               "calculate": "datum.median - 0.2*datum.median"
              },
              {
               "as": "up_bound",
               "calculate": "datum.median + 0.2*datum.median"
              }
             ]
            },
            {
             "encoding": {
              "color": {
               "field": "conditions",
               "type": "nominal"
              },
              "x": {
               "aggregate": "median",
               "field": "value",
               "sort": "-y",
               "title": "<w'q'> (g/m^2/s)",
               "type": "quantitative"
              },
              "y": {
               "field": "height",
               "scale": {
                "zero": true
               },
               "type": "quantitative"
              }
             },
             "mark": {
              "point": true,
              "type": "line"
             },
             "title": [
              "Unstable"
             ]
            }
           ],
           "width": 150
          }
         ],
         "resolve": {
          "scale": {
           "x": "shared",
           "y": "shared"
          }
         }
        },
        {
         "hconcat": [
          {
           "data": {
            "format": {
             "type": "json"
            },
            "url": "altair-data-206153d319982aa22b774e43dba513dd.json"
           },
           "height": 150,
           "layer": [
            {
             "encoding": {
              "x": {
               "field": "low_bound",
               "title": "",
               "type": "quantitative"
              },
              "x2": {
               "field": "up_bound"
              },
              "y": {
               "field": "height",
               "scale": {
                "zero": true
               },
               "title": "Height(m)",
               "type": "quantitative"
              }
             },
             "mark": {
              "color": "black",
              "opacity": 0.2,
              "type": "area"
             },
             "transform": [
              {
               "aggregate": [
                {
                 "as": "median",
                 "field": "value",
                 "op": "median"
                }
               ],
               "groupby": [
                "height",
                "tower"
               ]
              },
              {
               "as": "low_bound",
               "calculate": "datum.median - 0.2*datum.median"
              },
              {
               "as": "up_bound",
               "calculate": "datum.median + 0.2*datum.median"
              }
             ]
            },
            {
             "encoding": {
              "x": {
               "aggregate": "median",
               "field": "value",
               "sort": "-y",
               "title": "<w'q'> (g/m^2/s)",
               "type": "quantitative"
              },
              "y": {
               "field": "height",
               "scale": {
                "zero": true
               },
               "type": "quantitative"
              }
             },
             "mark": {
              "color": "black",
              "point": {
               "color": "black"
              },
              "type": "line"
             },
             "title": "All data"
            }
           ],
           "width": 150
          },
          {
           "data": {
            "format": {
             "type": "json"
            },
            "url": "altair-data-023549f8c2833517d8f733971297f98d.json"
           },
           "height": 150,
           "layer": [
            {
             "encoding": {
              "color": {
               "field": "conditions",
               "type": "nominal"
              },
              "x": {
               "field": "low_bound",
               "title": "",
               "type": "quantitative"
              },
              "x2": {
               "field": "up_bound"
              },
              "y": {
               "field": "height",
               "scale": {
                "zero": true
               },
               "title": "Height (m)",
               "type": "quantitative"
              }
             },
             "mark": {
              "opacity": 0.25,
              "type": "area"
             },
             "transform": [
              {
               "aggregate": [
                {
                 "as": "median",
                 "field": "value",
                 "op": "median"
                }
               ],
               "groupby": [
                "height",
                "tower",
                "conditions"
               ]
              },
              {
               "as": "low_bound",
               "calculate": "datum.median - 0.2*datum.median"
              },
              {
               "as": "up_bound",
               "calculate": "datum.median + 0.2*datum.median"
              }
             ]
            },
            {
             "encoding": {
              "color": {
               "field": "conditions",
               "type": "nominal"
              },
              "x": {
               "aggregate": "median",
               "field": "value",
               "sort": "-y",
               "title": "<w'q'> (g/m^2/s)",
               "type": "quantitative"
              },
              "y": {
               "field": "height",
               "scale": {
                "zero": true
               },
               "type": "quantitative"
              }
             },
             "mark": {
              "point": true,
              "type": "line"
             },
             "title": [
              "Stable"
             ]
            }
           ],
           "width": 150
          },
          {
           "data": {
            "format": {
             "type": "json"
            },
            "url": "altair-data-8089200f82667ddd6e50fccd0b389c7e.json"
           },
           "height": 150,
           "layer": [
            {
             "encoding": {
              "color": {
               "field": "conditions",
               "type": "nominal"
              },
              "x": {
               "field": "low_bound",
               "title": "",
               "type": "quantitative"
              },
              "x2": {
               "field": "up_bound"
              },
              "y": {
               "field": "height",
               "scale": {
                "zero": true
               },
               "title": "Height (m)",
               "type": "quantitative"
              }
             },
             "mark": {
              "opacity": 0.25,
              "type": "area"
             },
             "transform": [
              {
               "aggregate": [
                {
                 "as": "median",
                 "field": "value",
                 "op": "median"
                }
               ],
               "groupby": [
                "height",
                "tower",
                "conditions"
               ]
              },
              {
               "as": "low_bound",
               "calculate": "datum.median - 0.2*datum.median"
              },
              {
               "as": "up_bound",
               "calculate": "datum.median + 0.2*datum.median"
              }
             ]
            },
            {
             "encoding": {
              "color": {
               "field": "conditions",
               "type": "nominal"
              },
              "x": {
               "aggregate": "median",
               "field": "value",
               "sort": "-y",
               "title": "<w'q'> (g/m^2/s)",
               "type": "quantitative"
              },
              "y": {
               "field": "height",
               "scale": {
                "zero": true
               },
               "type": "quantitative"
              }
             },
             "mark": {
              "point": true,
              "type": "line"
             },
             "title": [
              "Neutral"
             ]
            }
           ],
           "width": 150
          },
          {
           "data": {
            "format": {
             "type": "json"
            },
            "url": "altair-data-3004311d64ffa5b54340d81249e34c7a.json"
           },
           "height": 150,
           "layer": [
            {
             "encoding": {
              "color": {
               "field": "conditions",
               "type": "nominal"
              },
              "x": {
               "field": "low_bound",
               "title": "",
               "type": "quantitative"
              },
              "x2": {
               "field": "up_bound"
              },
              "y": {
               "field": "height",
               "scale": {
                "zero": true
               },
               "title": "Height (m)",
               "type": "quantitative"
              }
             },
             "mark": {
              "opacity": 0.25,
              "type": "area"
             },
             "transform": [
              {
               "aggregate": [
                {
                 "as": "median",
                 "field": "value",
                 "op": "median"
                }
               ],
               "groupby": [
                "height",
                "tower",
                "conditions"
               ]
              },
              {
               "as": "low_bound",
               "calculate": "datum.median - 0.2*datum.median"
              },
              {
               "as": "up_bound",
               "calculate": "datum.median + 0.2*datum.median"
              }
             ]
            },
            {
             "encoding": {
              "color": {
               "field": "conditions",
               "type": "nominal"
              },
              "x": {
               "aggregate": "median",
               "field": "value",
               "sort": "-y",
               "title": "<w'q'> (g/m^2/s)",
               "type": "quantitative"
              },
              "y": {
               "field": "height",
               "scale": {
                "zero": true
               },
               "type": "quantitative"
              }
             },
             "mark": {
              "point": true,
              "type": "line"
             },
             "title": [
              "Unstable"
             ]
            }
           ],
           "width": 150
          }
         ],
         "resolve": {
          "scale": {
           "x": "shared",
           "y": "shared"
          }
         }
        },
        {
         "hconcat": [
          {
           "data": {
            "format": {
             "type": "json"
            },
            "url": "altair-data-a5a14b178fdf823a75b7a15184abf387.json"
           },
           "height": 150,
           "layer": [
            {
             "encoding": {
              "x": {
               "field": "low_bound",
               "title": "",
               "type": "quantitative"
              },
              "x2": {
               "field": "up_bound"
              },
              "y": {
               "field": "height",
               "scale": {
                "zero": true
               },
               "title": "Height(m)",
               "type": "quantitative"
              }
             },
             "mark": {
              "color": "black",
              "opacity": 0.2,
              "type": "area"
             },
             "transform": [
              {
               "aggregate": [
                {
                 "as": "median",
                 "field": "value",
                 "op": "median"
                }
               ],
               "groupby": [
                "height",
                "tower"
               ]
              },
              {
               "as": "low_bound",
               "calculate": "datum.median - 0.2*datum.median"
              },
              {
               "as": "up_bound",
               "calculate": "datum.median + 0.2*datum.median"
              }
             ]
            },
            {
             "encoding": {
              "x": {
               "aggregate": "median",
               "field": "value",
               "sort": "-y",
               "title": "<w'q'> (g/m^2/s)",
               "type": "quantitative"
              },
              "y": {
               "field": "height",
               "scale": {
                "zero": true
               },
               "type": "quantitative"
              }
             },
             "mark": {
              "color": "black",
              "point": {
               "color": "black"
              },
              "type": "line"
             },
             "title": "All data"
            }
           ],
           "width": 150
          },
          {
           "data": {
            "format": {
             "type": "json"
            },
            "url": "altair-data-3f31dbc4cce10dc4486cf7958e025bc6.json"
           },
           "height": 150,
           "layer": [
            {
             "encoding": {
              "color": {
               "field": "conditions",
               "type": "nominal"
              },
              "x": {
               "field": "low_bound",
               "title": "",
               "type": "quantitative"
              },
              "x2": {
               "field": "up_bound"
              },
              "y": {
               "field": "height",
               "scale": {
                "zero": true
               },
               "title": "Height (m)",
               "type": "quantitative"
              }
             },
             "mark": {
              "opacity": 0.25,
              "type": "area"
             },
             "transform": [
              {
               "aggregate": [
                {
                 "as": "median",
                 "field": "value",
                 "op": "median"
                }
               ],
               "groupby": [
                "height",
                "tower",
                "conditions"
               ]
              },
              {
               "as": "low_bound",
               "calculate": "datum.median - 0.2*datum.median"
              },
              {
               "as": "up_bound",
               "calculate": "datum.median + 0.2*datum.median"
              }
             ]
            },
            {
             "encoding": {
              "color": {
               "field": "conditions",
               "type": "nominal"
              },
              "x": {
               "aggregate": "median",
               "field": "value",
               "sort": "-y",
               "title": "<w'q'> (g/m^2/s)",
               "type": "quantitative"
              },
              "y": {
               "field": "height",
               "scale": {
                "zero": true
               },
               "type": "quantitative"
              }
             },
             "mark": {
              "point": true,
              "type": "line"
             },
             "title": [
              "Stable"
             ]
            }
           ],
           "width": 150
          },
          {
           "data": {
            "format": {
             "type": "json"
            },
            "url": "altair-data-f045e97f16e644e183093b2c33bacbdc.json"
           },
           "height": 150,
           "layer": [
            {
             "encoding": {
              "color": {
               "field": "conditions",
               "type": "nominal"
              },
              "x": {
               "field": "low_bound",
               "title": "",
               "type": "quantitative"
              },
              "x2": {
               "field": "up_bound"
              },
              "y": {
               "field": "height",
               "scale": {
                "zero": true
               },
               "title": "Height (m)",
               "type": "quantitative"
              }
             },
             "mark": {
              "opacity": 0.25,
              "type": "area"
             },
             "transform": [
              {
               "aggregate": [
                {
                 "as": "median",
                 "field": "value",
                 "op": "median"
                }
               ],
               "groupby": [
                "height",
                "tower",
                "conditions"
               ]
              },
              {
               "as": "low_bound",
               "calculate": "datum.median - 0.2*datum.median"
              },
              {
               "as": "up_bound",
               "calculate": "datum.median + 0.2*datum.median"
              }
             ]
            },
            {
             "encoding": {
              "color": {
               "field": "conditions",
               "type": "nominal"
              },
              "x": {
               "aggregate": "median",
               "field": "value",
               "sort": "-y",
               "title": "<w'q'> (g/m^2/s)",
               "type": "quantitative"
              },
              "y": {
               "field": "height",
               "scale": {
                "zero": true
               },
               "type": "quantitative"
              }
             },
             "mark": {
              "point": true,
              "type": "line"
             },
             "title": [
              "Neutral"
             ]
            }
           ],
           "width": 150
          },
          {
           "data": {
            "format": {
             "type": "json"
            },
            "url": "altair-data-4f53cda18c2baa0c0354bb5f9a3ecbe5.json"
           },
           "height": 150,
           "layer": [
            {
             "encoding": {
              "color": {
               "field": "conditions",
               "type": "nominal"
              },
              "x": {
               "field": "low_bound",
               "title": "",
               "type": "quantitative"
              },
              "x2": {
               "field": "up_bound"
              },
              "y": {
               "field": "height",
               "scale": {
                "zero": true
               },
               "title": "Height (m)",
               "type": "quantitative"
              }
             },
             "mark": {
              "opacity": 0.25,
              "type": "area"
             },
             "transform": [
              {
               "aggregate": [
                {
                 "as": "median",
                 "field": "value",
                 "op": "median"
                }
               ],
               "groupby": [
                "height",
                "tower",
                "conditions"
               ]
              },
              {
               "as": "low_bound",
               "calculate": "datum.median - 0.2*datum.median"
              },
              {
               "as": "up_bound",
               "calculate": "datum.median + 0.2*datum.median"
              }
             ]
            },
            {
             "encoding": {
              "color": {
               "field": "conditions",
               "type": "nominal"
              },
              "x": {
               "aggregate": "median",
               "field": "value",
               "sort": "-y",
               "title": "<w'q'> (g/m^2/s)",
               "type": "quantitative"
              },
              "y": {
               "field": "height",
               "scale": {
                "zero": true
               },
               "type": "quantitative"
              }
             },
             "mark": {
              "point": true,
              "type": "line"
             },
             "title": [
              "Unstable"
             ]
            }
           ],
           "width": 150
          }
         ],
         "resolve": {
          "scale": {
           "x": "shared",
           "y": "shared"
          }
         }
        }
       ]
      },
      "text/plain": [
       "<VegaLite 5 object>\n",
       "\n",
       "If you see this message, it means the renderer has not been properly enabled\n",
       "for the frontend that you are using. For more information, see\n",
       "https://altair-viz.github.io/user_guide/display_frontends.html#troubleshooting\n"
      ]
     },
     "execution_count": 178,
     "metadata": {},
     "output_type": "execute_result"
    }
   ],
   "source": [
    "def vertical_flux_profiles_4_plots_for_month(months):\n",
    "    return (\n",
    "        lhflux_profile_chart_notower(w_h2o__measurements_df[\n",
    "            w_h2o__measurements_df.time.dt.month.isin(months)\n",
    "        ].query(\"tower == 'c'\").query(\"height > 1\"), \"All data\") |\n",
    "        lhflux_profile_chart_split_conditions(ri_stable_df[\n",
    "            ri_stable_df.time.dt.month.isin(months)\n",
    "        ].query(\"tower == 'c'\").query(\"height > 1\"), \"Stable\") |\n",
    "        lhflux_profile_chart_split_conditions(ri_neutral_df[\n",
    "            ri_neutral_df.time.dt.month.isin(months)\n",
    "        ].query(\"tower == 'c'\").query(\"height > 1\"), \"Neutral\") |\n",
    "        lhflux_profile_chart_split_conditions(ri_unstable_df[\n",
    "            ri_unstable_df.time.dt.month.isin(months)\n",
    "        ].query(\"tower == 'c'\").query(\"height > 1\"), \"Unstable\")\n",
    "    ).resolve_scale(x='shared', y='shared') \n",
    "vertical_flux_profiles_4_plots_for_month([12]) &\\\n",
    "vertical_flux_profiles_4_plots_for_month([1]) &\\\n",
    "vertical_flux_profiles_4_plots_for_month([2]) &\\\n",
    "vertical_flux_profiles_4_plots_for_month([3]) &\\\n",
    "vertical_flux_profiles_4_plots_for_month([4]) &\\\n",
    "vertical_flux_profiles_4_plots_for_month([5])\n",
    "    "
   ]
  },
  {
   "cell_type": "code",
   "execution_count": null,
   "metadata": {},
   "outputs": [],
   "source": [
    "tgrad_stable_df['conditions'] = tgrad_stable_df.time.isin(bs_times).apply(lambda is_bs: 'BS' if is_bs else 'No BS')\n",
    "tgrad_neutral_df['conditions'] = tgrad_neutral_df.time.isin(bs_times).apply(lambda is_bs: 'BS' if is_bs else 'No BS')\n",
    "tgrad_unstable_df['conditions'] = tgrad_unstable_df.time.isin(bs_times).apply(lambda is_bs: 'BS' if is_bs else 'No BS')\n",
    "\n",
    "vertical_flux_profiles_4_plots = (\n",
    "    lhflux_profile_chart_notower(w_h2o__measurements_df.query(\"tower == 'c'\").query(\"height > 1\"), \"All data\") |\n",
    "    lhflux_profile_chart_split_conditions(tgrad_stable_df.query(\"tower == 'c'\").query(\"height > 1\"), \"Stable\") |\n",
    "    lhflux_profile_chart_split_conditions(tgrad_neutral_df.query(\"tower == 'c'\").query(\"height > 1\"), \"Neutral\") |\n",
    "    lhflux_profile_chart_split_conditions(tgrad_unstable_df.query(\"tower == 'c'\").query(\"height > 1\"), \"Unstable\")\n",
    ").resolve_scale(x='shared', y='shared') \n",
    "vertical_flux_profiles_4_plots"
   ]
  },
  {
   "cell_type": "code",
   "execution_count": null,
   "metadata": {},
   "outputs": [],
   "source": [
    "src = w_h2o__measurements_df[w_h2o__measurements_df.variable.isin([\n",
    "    'w_h2o__2m_c', 'w_h2o__3m_c', 'w_h2o__5m_c', 'w_h2o__10m_c', 'w_h2o__15m_c', 'w_h2o__20m_c',\n",
    "    'w_h2o__3m_ue', 'w_h2o__10m_ue',\n",
    "    'w_h2o__3m_d', 'w_h2o__10m_d',\n",
    "    'w_h2o__3m_uw', 'w_h2o__10m_uw',\n",
    "])]\n",
    "src = src[~src.time.isin(bs_times)]\n",
    "(\n",
    "    alt.Chart(src).mark_line().encode(\n",
    "        alt.X('hours(time):T'),\n",
    "        alt.Y('median(value):Q').scale(domain=[-0.006,0.006], clamp=True),\n",
    "        alt.Color('height:O').scale(scheme='sinebow'),\n",
    "        alt.Facet('tower:N')\n",
    "    ).properties(width = 150, height = 150, title='all data') &\\\n",
    "    alt.Chart(src[src.time.isin(set(tgrad_stable_times))]).mark_line().encode(\n",
    "        alt.X('hours(time):T'),\n",
    "        alt.Y('median(value):Q'),\n",
    "        alt.Color('height:O').scale(scheme='sinebow'),\n",
    "        alt.Facet('tower:N')\n",
    "    ).properties(width = 150, height = 150, title='stable') &\\\n",
    "    alt.Chart(src[src.time.isin(set(tgrad_neutral_times))]).mark_line().encode(\n",
    "        alt.X('hours(time):T'),\n",
    "        alt.Y('median(value):Q'),\n",
    "        alt.Color('height:O').scale(scheme='sinebow'),\n",
    "        alt.Facet('tower:N')\n",
    "    ).properties(width = 150, height = 150, title='neutral') &\\\n",
    "    alt.Chart(src[src.time.isin(set(tgrad_unstable_times))]).mark_line().encode(\n",
    "        alt.X('hours(time):T'),\n",
    "        alt.Y('median(value):Q'),\n",
    "        alt.Color('height:O').scale(scheme='sinebow'),\n",
    "        alt.Facet('tower:N')\n",
    "    ).properties(width = 150, height = 150, title='unstable')\n",
    ").resolve_scale(y='shared', x='shared')"
   ]
  },
  {
   "cell_type": "code",
   "execution_count": null,
   "metadata": {},
   "outputs": [],
   "source": [
    "tgrad_stable_df_day = tgrad_stable_df[tgrad_stable_df.time.dt.hour.isin([9,10,11,12,13,14,15,16,17])]\n",
    "tgrad_neutral_df_day = tgrad_neutral_df[tgrad_neutral_df.time.dt.hour.isin([9,10,11,12,13,14,15,16,17])]\n",
    "tgrad_unstable_df_day = tgrad_unstable_df[tgrad_unstable_df.time.dt.hour.isin([9,10,11,12,13,14,15,16,17])]\n",
    "\n",
    "tgrad_stable_df_night = tgrad_stable_df[tgrad_stable_df.time.dt.hour.isin([19,20,21,21,23,0,1,2,3,4,5,6])]\n",
    "tgrad_neutral_df_night = tgrad_neutral_df[tgrad_neutral_df.time.dt.hour.isin([19,20,21,21,23,0,1,2,3,4,5,6])]\n",
    "tgrad_unstable_df_night = tgrad_unstable_df[tgrad_unstable_df.time.dt.hour.isin([19,20,21,21,23,0,1,2,3,4,5,6])]\n",
    "\n",
    "vertical_flux_profiles_4_plots_day = (\n",
    "    lhflux_profile_chart_notower(\n",
    "        w_h2o__measurements_df[\n",
    "            w_h2o__measurements_df.time.dt.hour.isin([9,10,11,12,13,14,15,16,17])\n",
    "        ].query(\"tower == 'c'\").query(\"height > 1\"), \"All data (Daytime)\") |\n",
    "    lhflux_profile_chart_split_conditions(tgrad_stable_df_day.query(\"tower == 'c'\").query(\"height > 1\"), \"Stable (Daytime)\") |\n",
    "    lhflux_profile_chart_split_conditions(tgrad_neutral_df_day.query(\"tower == 'c'\").query(\"height > 1\"), \"Neutral (Daytime)\") |\n",
    "    lhflux_profile_chart_split_conditions(tgrad_unstable_df_day.query(\"tower == 'c'\").query(\"height > 1\"), \"Unstable (Daytime)\")\n",
    ").resolve_scale(x='shared', y='shared') \n",
    "\n",
    "vertical_flux_profiles_4_plots_night = (\n",
    "    lhflux_profile_chart_notower(\n",
    "        w_h2o__measurements_df[\n",
    "            w_h2o__measurements_df.time.dt.hour.isin([19,20,21,21,23,0,1,2,3,4,5,6])\n",
    "        ].query(\"tower == 'c'\").query(\"height > 1\"), \"All data (Nighttime)\") |\n",
    "    lhflux_profile_chart_split_conditions(tgrad_stable_df_night.query(\"tower == 'c'\").query(\"height > 1\"), \"Stable (Nighttime)\") |\n",
    "    lhflux_profile_chart_split_conditions(tgrad_neutral_df_night.query(\"tower == 'c'\").query(\"height > 1\"), \"Neutral (Nighttime)\")\n",
    "    # lhflux_profile_chart_split_conditions(tgrad_unstable_df_night.query(\"tower == 'c'\").query(\"height > 1\"), \"Unstable (Nighttime)\")\n",
    ").resolve_scale(x='shared', y='shared') \n",
    "(\n",
    "    vertical_flux_profiles_4_plots_day &\n",
    "    vertical_flux_profiles_4_plots_night\n",
    ")#.resolve_scale(x='shared', y='shared') "
   ]
  },
  {
   "cell_type": "code",
   "execution_count": null,
   "metadata": {},
   "outputs": [],
   "source": [
    "alt.Chart(tidy_df[tidy_df.variable.isin(['u_3m_c', 'v_3m_c'])].query(\"time < '20221215'\")).mark_line().encode(\n",
    "    alt.X(\"time:T\"),\n",
    "    alt.Y(\"value:Q\"),\n",
    "    alt.Color(\"variable\")\n",
    ").properties(width=600) &\\\n",
    "alt.Chart(tidy_df_streamwise[tidy_df_streamwise.variable.isin(['u_3m_c', 'v_3m_c'])].query(\"time < '20221215'\")).mark_line().encode(\n",
    "    alt.X(\"time:T\"),\n",
    "    alt.Y(\"value:Q\"),\n",
    "    alt.Color(\"variable\")\n",
    ").properties(width=600)"
   ]
  },
  {
   "cell_type": "markdown",
   "metadata": {},
   "source": [
    "# Plot vertical profiles using the basic categories (stability and BS)"
   ]
  },
  {
   "cell_type": "code",
   "execution_count": null,
   "metadata": {},
   "outputs": [],
   "source": [
    "combo_mean_w_profile_chart = (\n",
    "        profile_chart(w_measurements_df.query(\"height > 1\"), \"All data\", '<w> (m/s)') | \n",
    "        profile_chart(bs_w_df.query(\"height > 1\"), \"BS\", '<w> (m/s)') | \n",
    "        profile_chart(nobs_w_df.query(\"height > 1\"), \"No BS\", '<w> (m/s)') |         \n",
    "        profile_chart(tgrad_stable_w_df.query(\"height > 1\"), \"Tgrad stable\", '<w> (m/s)') | \n",
    "        profile_chart(tgrad_neutral_w_df.query(\"height > 1\"), \"Tgrad Neutral\", '<w> (m/s)') | \n",
    "        profile_chart(tgrad_unstable_w_df.query(\"height > 1\"), \"Tgrad Unstable\", '<w> (m/s)') #| \n",
    ").resolve_scale(x='shared', y='shared')\n",
    "\n",
    "combo_mean_u_profile_chart = (\n",
    "        profile_chart(u_measurements_df.query(\"height > 1\"), \"All data\", '<u> (m/s)') | \n",
    "        profile_chart(bs_u_df.query(\"height > 1\"), \"BS\", '<u> (m/s)') | \n",
    "        profile_chart(nobs_u_df.query(\"height > 1\"), \"No BS\", '<u> (m/s)') |         \n",
    "        profile_chart(tgrad_stable_u_df.query(\"height > 1\"), \"Tgrad stable\", '<u> (m/s)') | \n",
    "        profile_chart(tgrad_neutral_u_df.query(\"height > 1\"), \"Tgrad Neutral\", '<u> (m/s)') | \n",
    "        profile_chart(tgrad_unstable_u_df.query(\"height > 1\"), \"Tgrad Unstable\", '<u> (m/s)') #| \n",
    ").resolve_scale(x='shared', y='shared')\n",
    "\n",
    "combo_mean_v_profile_chart = ( \n",
    "        profile_chart(v_measurements_df.query(\"height > 1\"), \"All data\", '<v> (m/s)') | \n",
    "        profile_chart(bs_v_df.query(\"height > 1\"), \"BS\", '<v> (m/s)') | \n",
    "        profile_chart(nobs_v_df.query(\"height > 1\"), \"No BS\", '<v> (m/s)') |         \n",
    "        profile_chart(tgrad_stable_v_df.query(\"height > 1\"), \"Tgrad stable\", '<v> (m/s)') | \n",
    "        profile_chart(tgrad_neutral_v_df.query(\"height > 1\"), \"Tgrad Neutral\", '<v> (m/s)') | \n",
    "        profile_chart(tgrad_unstable_v_df.query(\"height > 1\"), \"Tgrad Unstable\", '<v> (m/s)') #| \n",
    ").resolve_scale(x='shared', y='shared')\n",
    "\n",
    "combo_mean_tke_profile_chart = (\n",
    "        profile_chart(tke_measurements_df.query(\"height > 1\"), \"All data\", 'tke (m^2/s^2)') | \n",
    "        profile_chart(bs_tke_df.query(\"height > 1\"), \"BS\", 'tke (m^2/s^2)') | \n",
    "        profile_chart(nobs_tke_df.query(\"height > 1\"), \"No BS\", 'tke (m^2/s^2)') |         \n",
    "        profile_chart(tgrad_stable_tke_df.query(\"height > 1\"), \"Tgrad stable\", 'tke (m^2/s^2)') | \n",
    "        profile_chart(tgrad_neutral_tke_df.query(\"height > 1\"), \"Tgrad Neutral\", 'tke (m^2/s^2)') | \n",
    "        profile_chart(tgrad_unstable_tke_df.query(\"height > 1\"), \"Tgrad Unstable\", 'tke (m^2/s^2)') #| \n",
    ").resolve_scale(x='shared', y='shared')\n",
    "\n",
    "combo_mean_w_w__profile_chart = (\n",
    "        profile_chart(w_w__measurements_df.query(\"height > 1\"), \"All data\", \"<w'w'> (m^2/s^2)\") | \n",
    "        profile_chart(bs_w_w__df.query(\"height > 1\"), \"BS\", \"<w'w'> (m^2/s^2)\") | \n",
    "        profile_chart(nobs_w_w__df.query(\"height > 1\"), \"No BS\", \"<w'w'> (m^2/s^2)\") |\n",
    "        profile_chart(tgrad_stable_w_w__df.query(\"height > 1\"), \"Tgrad stable\", \"<w'w'> (m^2/s^2)\") | \n",
    "        profile_chart(tgrad_neutral_w_w__df.query(\"height > 1\"), \"Tgrad Neutral\", \"<w'w'> (m^2/s^2)\") | \n",
    "        profile_chart(tgrad_unstable_w_w__df.query(\"height > 1\"), \"Tgrad Unstable\", \"<w'w'> (m^2/s^2)\") #| \n",
    ").resolve_scale(x='shared', y='shared')\n",
    "\n",
    "combo_mean_q_profile_chart = (\n",
    "        profile_chart(q_measurements_df.query(\"height > 1\"), \"All data\", '<q> (m/s)') | \n",
    "        profile_chart(bs_q_df.query(\"height > 1\"), \"BS\", '<q> (m/s)') | \n",
    "        profile_chart(nobs_q_df.query(\"height > 1\"), \"No BS\", '<q> (m/s)') |         \n",
    "        profile_chart(tgrad_stable_q_df.query(\"height > 1\"), \"Tgrad stable\", '<q> (m/s)') | \n",
    "        profile_chart(tgrad_neutral_q_df.query(\"height > 1\"), \"Tgrad Neutral\", '<q> (m/s)') | \n",
    "        profile_chart(tgrad_unstable_q_df.query(\"height > 1\"), \"Tgrad Unstable\", '<q> (m/s)') #| \n",
    ").resolve_scale(x='shared', y='shared')\n",
    "\n",
    "combo_mean_w_q__profile_chart = (\n",
    "    lhflux_profile_chart(w_h2o__measurements_df.query(\"tower == 'c'\").query(\"height > 1\"), \"All data\") | \n",
    "    lhflux_profile_chart(bs_w_h2o_df.query(\"tower == 'c'\").query(\"height > 1\"), \"BS\") | \n",
    "    lhflux_profile_chart(nobs_w_h2o_df.query(\"tower == 'c'\").query(\"height > 1\"), \"No BS\") | \n",
    "    lhflux_profile_chart(tgrad_stable_w_h2o_df.query(\"tower == 'c'\").query(\"height > 1\"), \"Tgrad stable\") | \n",
    "    lhflux_profile_chart(tgrad_neutral_w_h2o_df.query(\"tower == 'c'\").query(\"height > 1\"), \"Tgrad Neutral\") | \n",
    "    lhflux_profile_chart(tgrad_unstable_w_h2o_df.query(\"tower == 'c'\").query(\"height > 1\"), \"Tgrad Unstable\") #\n",
    ").resolve_scale(x='shared', y='shared')\n",
    "\n",
    "combo_mean_u_q__profile_chart = (\n",
    "    profile_chart(u_h2o__measurements_df.query(\"height > 1\"),  \"All data\",         \"<u'q'> (g/m^2/s)\") | \n",
    "    profile_chart(bs_u_h2o_df.query(\"height > 1\"),               \"BS\",               \"<u'q'> (g/m^2/s)\") | \n",
    "    profile_chart(nobs_u_h2o_df.query(\"height > 1\"),             \"No BS\",            \"<u'q'> (g/m^2/s)\") | \n",
    "    profile_chart(tgrad_stable_u_h2o_df.query(\"height > 1\"),     \"Tgrad stable\",     \"<u'q'> (g/m^2/s)\") | \n",
    "    profile_chart(tgrad_neutral_u_h2o_df.query(\"height > 1\"),    \"Tgrad Neutral\",    \"<u'q'> (g/m^2/s)\") | \n",
    "    profile_chart(tgrad_unstable_u_h2o_df.query(\"height > 1\"),   \"Tgrad Unstable\",   \"<u'q'> (g/m^2/s)\") #\n",
    ").resolve_scale(x='shared', y='shared')\n",
    "\n",
    "combo_mean_v_q__profile_chart = (\n",
    "    profile_chart(v_h2o__measurements_df.query(\"height > 1\"),  \"All data\",         \"<v'q'> (g/m^2/s)\") | \n",
    "    profile_chart(bs_v_h2o_df.query(\"height > 1\"),               \"BS\",               \"<v'q'> (g/m^2/s)\") | \n",
    "    profile_chart(nobs_v_h2o_df.query(\"height > 1\"),             \"No BS\",            \"<v'q'> (g/m^2/s)\") | \n",
    "    profile_chart(tgrad_stable_v_h2o_df.query(\"height > 1\"),     \"Tgrad stable\",     \"<v'q'> (g/m^2/s)\") | \n",
    "    profile_chart(tgrad_neutral_v_h2o_df.query(\"height > 1\"),    \"Tgrad Neutral\",    \"<v'q'> (g/m^2/s)\") | \n",
    "    profile_chart(tgrad_unstable_v_h2o_df.query(\"height > 1\"),   \"Tgrad Unstable\",   \"<v'q'> (g/m^2/s)\") #\n",
    ").resolve_scale(x='shared', y='shared')"
   ]
  },
  {
   "cell_type": "code",
   "execution_count": null,
   "metadata": {},
   "outputs": [],
   "source": [
    "(\n",
    "    combo_mean_w_q__profile_chart & \n",
    "    combo_mean_u_q__profile_chart & \n",
    "    combo_mean_v_q__profile_chart &\n",
    "    combo_mean_w_profile_chart & \n",
    "    combo_mean_u_profile_chart &\n",
    "    combo_mean_v_profile_chart &\n",
    "    combo_mean_q_profile_chart & \n",
    "    combo_mean_tke_profile_chart &\n",
    "    combo_mean_w_w__profile_chart\n",
    ")"
   ]
  },
  {
   "cell_type": "code",
   "execution_count": null,
   "metadata": {},
   "outputs": [],
   "source": [
    "def filter_to_case_study(df):\n",
    "    return df[\n",
    "        (df.time > \"2022-12-21 1800\")\n",
    "        &\n",
    "        (df.time < \"2022-12-22 0600\")\n",
    "    ]\n",
    "\n",
    "\n",
    "lhflux_profile_chart(filter_to_case_study(w_h2o__measurements_df.query(\"tower == 'c'\").query(\"height > 1\")), \"All data\") | \\\n",
    "profile_chart(filter_to_case_study(u_h2o__measurements_df.query(\"height > 1\")),  \"All data\",         \"<u'q'> (g/m^2/s)\") | \\\n",
    "profile_chart(filter_to_case_study(w_measurements_df.query(\"height > 1\")), \"All data\", '<w> (m/s)') | \\\n",
    "profile_chart(filter_to_case_study(q_measurements_df.query(\"height > 1\")), \"All data\", '<q> (m/s)') | \\\n",
    "profile_chart(filter_to_case_study(tke_measurements_df.query(\"height > 1\")), \"All data\", 'tke (m^2/s^2)') | \\\n",
    "profile_chart(filter_to_case_study(w_w__measurements_df.query(\"height > 1\")), \"All data\", \"<w'w'> (m^2/s^2)\")\n"
   ]
  },
  {
   "cell_type": "code",
   "execution_count": null,
   "metadata": {},
   "outputs": [],
   "source": [
    "def filter_to_case_study(df):\n",
    "    return df[\n",
    "        (df.time > \"2022-12-12 1800\")\n",
    "        &\n",
    "        (df.time < \"2022-12-13 0600\")\n",
    "    ]\n",
    "\n",
    "\n",
    "lhflux_profile_chart(filter_to_case_study(w_h2o__measurements_df.query(\"tower == 'c'\").query(\"height > 1\")), \"All data\") | \\\n",
    "profile_chart(filter_to_case_study(u_h2o__measurements_df.query(\"height > 1\")),  \"All data\",         \"<u'q'> (g/m^2/s)\") | \\\n",
    "profile_chart(filter_to_case_study(w_measurements_df.query(\"height > 1\")), \"All data\", '<w> (m/s)') | \\\n",
    "profile_chart(filter_to_case_study(q_measurements_df.query(\"height > 1\")), \"All data\", '<q> (m/s)') | \\\n",
    "profile_chart(filter_to_case_study(tke_measurements_df.query(\"height > 1\")), \"All data\", 'tke (m^2/s^2)') | \\\n",
    "profile_chart(filter_to_case_study(w_w__measurements_df.query(\"height > 1\")), \"All data\", \"<w'w'> (m^2/s^2)\")\n"
   ]
  },
  {
   "cell_type": "code",
   "execution_count": null,
   "metadata": {},
   "outputs": [],
   "source": [
    "def filter_to_case_study(df):\n",
    "    return df[\n",
    "        (df.time > \"2023-03-28 0900\")\n",
    "        &\n",
    "        (df.time < \"2023-03-28 1700\")\n",
    "    ]\n",
    "\n",
    "lhflux_profile_chart(filter_to_case_study(w_h2o__measurements_df.query(\"tower == 'c'\").query(\"height > 1\")), \"All data\") | \\\n",
    "profile_chart(filter_to_case_study(u_h2o__measurements_df.query(\"height > 1\")),  \"All data\",         \"<u'q'> (g/m^2/s)\") | \\\n",
    "profile_chart(filter_to_case_study(w_measurements_df.query(\"height > 1\")), \"All data\", '<w> (m/s)') | \\\n",
    "profile_chart(filter_to_case_study(q_measurements_df.query(\"height > 1\")), \"All data\", '<q> (m/s)') | \\\n",
    "profile_chart(filter_to_case_study(tke_measurements_df.query(\"height > 1\")), \"All data\", 'tke (m^2/s^2)') | \\\n",
    "profile_chart(filter_to_case_study(w_w__measurements_df.query(\"height > 1\")), \"All data\", \"<w'w'> (m^2/s^2)\")"
   ]
  },
  {
   "cell_type": "code",
   "execution_count": null,
   "metadata": {},
   "outputs": [],
   "source": [
    "def filter_to_case_study(df):\n",
    "    return df[\n",
    "        (df.time > \"2023-05-05 0900\")\n",
    "        &\n",
    "        (df.time < \"2023-05-05 1700\")\n",
    "    ]\n",
    "\n",
    "\n",
    "lhflux_profile_chart(filter_to_case_study(w_h2o__measurements_df.query(\"tower == 'c'\").query(\"height > 1\")), \"All data\") | \\\n",
    "profile_chart(filter_to_case_study(u_h2o__measurements_df.query(\"height > 1\")),  \"All data\",         \"<u'q'> (g/m^2/s)\") | \\\n",
    "profile_chart(filter_to_case_study(w_measurements_df.query(\"height > 1\")), \"All data\", '<w> (m/s)') | \\\n",
    "profile_chart(filter_to_case_study(q_measurements_df.query(\"height > 1\")), \"All data\", '<q> (m/s)') | \\\n",
    "profile_chart(filter_to_case_study(tke_measurements_df.query(\"height > 1\")), \"All data\", 'tke (m^2/s^2)') | \\\n",
    "profile_chart(filter_to_case_study(w_w__measurements_df.query(\"height > 1\")), \"All data\", \"<w'w'> (m^2/s^2)\")"
   ]
  },
  {
   "cell_type": "markdown",
   "metadata": {},
   "source": [
    "# Plot vertical fluxes many different ways"
   ]
  },
  {
   "cell_type": "code",
   "execution_count": null,
   "metadata": {},
   "outputs": [],
   "source": [
    "tgrad_unstable_df_during_bs = w_h2o__measurements_df[w_h2o__measurements_df.time.isin(set(bs_times).intersection(tgrad_unstable_times))]\n",
    "tgrad_unstable_df_during_nobs = w_h2o__measurements_df[w_h2o__measurements_df.time.isin(set(nobs_times).intersection(tgrad_unstable_times))]\n",
    "\n",
    "(\n",
    "        rule + lhflux_profile_chart(tgrad_unstable_df.query(\"tower == 'c'\").query(\"height > 1\"), \"Unstable\") |\n",
    "        rule + lhflux_profile_chart(tgrad_unstable_df_during_bs.query(\"tower == 'c'\").query(\"height > 1\"), \"Unstable, BS\") |\n",
    "        rule + lhflux_profile_chart(tgrad_unstable_df_during_nobs.query(\"tower == 'c'\").query(\"height > 1\"), \"Unstable, no BS\")\n",
    ").resolve_scale(x='shared', y='shared')"
   ]
  },
  {
   "cell_type": "code",
   "execution_count": null,
   "metadata": {},
   "outputs": [],
   "source": [
    "tgrad_stable_df_during_nobs = tgrad_stable_df[~tgrad_stable_df.time.isin(bs_times)]\n",
    "tgrad_unstable_df_during_nobs = tgrad_unstable_df[~tgrad_unstable_df.time.isin(bs_times)]\n",
    "tgrad_neutral_df_during_nobs = tgrad_neutral_df[~tgrad_neutral_df.time.isin(bs_times)]\n",
    "\n",
    "nobs_lhflux_df = w_h2o__measurements_df[w_h2o__measurements_df.time.isin(nobs_times)]\n",
    "bs_lhflux_df = w_h2o__measurements_df[w_h2o__measurements_df.time.isin(bs_times)]\n",
    "\n",
    "(\n",
    "    rule + lhflux_profile_chart(w_h2o__measurements_df.query(\"height > 1\").query(\"tower == 'c'\"), \"All data\").properties(width=100, height = 100) |\n",
    "    rule + lhflux_profile_chart(\n",
    "        bs_lhflux_df.query(\"height > 1\").query(\"tower == 'c'\"), \"Blowing Snow\"\n",
    "    ).properties(width=100, height = 100) | \n",
    "    rule + lhflux_profile_chart(\n",
    "        nobs_lhflux_df.query(\"height > 1\").query(\"tower == 'c'\"), \"No blowing snow\"\n",
    ").properties(width=100, height = 100) | \n",
    "    rule + lhflux_profile_chart(tgrad_stable_df_during_nobs.query(\"tower == 'c'\").query(\"height > 1\"), \"Stable, no BS\").properties(width=100, height = 100) |\n",
    "    rule + lhflux_profile_chart(tgrad_unstable_df_during_nobs.query(\"tower == 'c'\").query(\"height > 1\"), \"Unstable, no BS\").properties(width=100, height = 100) |\n",
    "    rule + lhflux_profile_chart(tgrad_neutral_df_during_nobs.query(\"tower == 'c'\").query(\"height > 1\"), \"Neutral, no BS\").properties(width=100, height = 100)\n",
    ").resolve_scale(x='shared', y='shared')"
   ]
  },
  {
   "cell_type": "code",
   "execution_count": null,
   "metadata": {},
   "outputs": [],
   "source": [
    "(\n",
    "    lhflux_profile_chart_mg(\n",
    "        nobs_lhflux_df[\n",
    "            nobs_lhflux_df.time.dt.hour.isin([8,9,10,11,12,13,14,15,16,17,18])\n",
    "        ].query(\"height > 1\").query(\"tower == 'c'\"), \"No blowing snow, daytime\"\n",
    "    ).facet(alt.Column('month(time)', sort=[11,12])).properties(title='Daytime, no blowing snow') &\\\n",
    "    lhflux_profile_chart_mg(\n",
    "        nobs_lhflux_df[\n",
    "            nobs_lhflux_df.time.dt.hour.isin([19,20,21,22,23,0,1,2,3,4,5,6,7])\n",
    "        ].query(\"height > 1\").query(\"tower == 'c'\"), \"No blowing snow, daytime\"\n",
    "    ).facet(alt.Column('month(time)', sort=[11,12])).properties(title='Nighttime, no blowing snow')\n",
    ").resolve_scale(x='shared', y='shared', color='shared')"
   ]
  },
  {
   "cell_type": "code",
   "execution_count": null,
   "metadata": {},
   "outputs": [],
   "source": [
    "\n",
    "(\n",
    "    (\n",
    "        rule + lhflux_profile_chart_mg(\n",
    "            nobs_lhflux_df[\n",
    "                nobs_lhflux_df.time.dt.hour.isin([8,9,10,11,12,13,14,15,16,17,18])\n",
    "            ].query(\"height > 1\").query(\"tower == 'c'\"), \"No blowing snow, daytime\"\n",
    "        ).properties(width=100, height = 100) \n",
    "        |\n",
    "        rule + lhflux_profile_chart_mg(\n",
    "            bs_lhflux_df[\n",
    "                bs_lhflux_df.time.dt.hour.isin([8,9,10,11,12,13,14,15,16,17,18])\n",
    "            ].query(\"height > 1\").query(\"tower == 'c'\"), \"Blowing Snow, daytime\"\n",
    "        ).properties(width=100, height = 100)\n",
    "    ).resolve_scale(x='shared', y='shared') & (\n",
    "        rule + lhflux_profile_chart_mg(\n",
    "            nobs_lhflux_df[\n",
    "                nobs_lhflux_df.time.dt.hour.isin([19,20,21,22,23,0,1,2,3,4,5,6,7])\n",
    "            ].query(\"height > 1\").query(\"tower == 'c'\"), \"No blowing snow, nighttime\"\n",
    "        ).properties(width=100, height = 100) \n",
    "        |\n",
    "        rule + lhflux_profile_chart_mg(\n",
    "            bs_lhflux_df[\n",
    "                bs_lhflux_df.time.dt.hour.isin([19,20,21,22,23,0,1,2,3,4,5,6,7])\n",
    "            ].query(\"height > 1\").query(\"tower == 'c'\"), \"Blowing Snow, nighttime\"\n",
    "        ).properties(width=100, height = 100)\n",
    "    ).resolve_scale(x='shared', y='shared')\n",
    ").resolve_scale(x='shared', y='shared').properties(\n",
    "    title='Mean water vapor flux profiles across snow-on season'\n",
    ")"
   ]
  },
  {
   "cell_type": "code",
   "execution_count": null,
   "metadata": {},
   "outputs": [],
   "source": [
    "src_neutral = tgrad_neutral_df.query(\"tower == 'c'\").query(\"height > 1\").query(\"conditions == 'No BS'\")\n",
    "src_neutral.conditions = src_neutral.time.dt.hour\n",
    "src_neutral['conditions group'] = pd.cut(src_neutral.conditions, np.concatenate([[-0.5], np.linspace(2,24,12) + 0.5]))\n",
    "src_neutral['conditions'] = src_neutral['conditions group'].apply(lambda interval: int(interval.left))\n",
    "\n",
    "src_unstable = tgrad_unstable_df.query(\"tower == 'c'\").query(\"height > 1\").query(\"conditions == 'No BS'\")\n",
    "src_unstable.conditions = src_unstable.time.dt.hour\n",
    "src_unstable['conditions group'] = pd.cut(src_unstable.conditions, np.concatenate([[-0.5], np.linspace(2,24,12) + 0.5]))\n",
    "src_unstable['conditions'] = src_unstable['conditions group'].apply(lambda interval: int(interval.left))"
   ]
  },
  {
   "cell_type": "code",
   "execution_count": null,
   "metadata": {},
   "outputs": [],
   "source": [
    "(\n",
    "    lhflux_profile_chart_split_conditions_noerror(src_neutral, \"Neutral, No BS\", color_encoding=alt.Color(f\"conditions:O\").scale(scheme='rainbow')) |\n",
    "    lhflux_profile_chart_split_conditions_noerror(src_unstable, \"Unstable, No BS\", color_encoding=alt.Color(f\"conditions:O\").scale(scheme='rainbow')) |\n",
    "    lhflux_profile_chart_split_conditions_noerror(pd.concat([src_neutral, src_unstable]), \"Neutral and Unstable, No BS\", color_encoding=alt.Color(f\"conditions:O\").scale(scheme='rainbow'))\n",
    ")"
   ]
  },
  {
   "cell_type": "code",
   "execution_count": null,
   "metadata": {},
   "outputs": [],
   "source": [
    "(\n",
    "    lhflux_profile_chart_split_conditions_noerror(src_neutral, \"Neutral, No BS\", color_encoding=alt.Facet(f\"conditions:O\", columns=6)) &\n",
    "    lhflux_profile_chart_split_conditions_noerror(src_unstable, \"Unstable, No BS\", color_encoding=alt.Facet(f\"conditions:O\", columns=6)) &\n",
    "    lhflux_profile_chart_split_conditions_noerror(pd.concat([src_neutral, src_unstable]), \"Neutral and Unstable, No BS\", color_encoding=alt.Facet(f\"conditions:O\"))\n",
    ")"
   ]
  },
  {
   "cell_type": "code",
   "execution_count": null,
   "metadata": {},
   "outputs": [],
   "source": [
    "lateral_flux_profiles_4_plots = (\n",
    "    (\n",
    "        lhflux_profile_chart_notower(u_h2o__df_with_bs_indicator.query(\"tower == 'c'\").query(\"height > 1\"), \"All data\", x_title=\"<u'q'> (g/m^2/s)\") |\n",
    "        lhflux_profile_chart_split_conditions(u_h2o__tgrad_stable_df_with_bs_indicator.query(\"tower == 'c'\").query(\"height > 1\"), \"Stable\", x_title=\"<u'q'> (g/m^2/s)\") |\n",
    "        lhflux_profile_chart_split_conditions(u_h2o__tgrad_neutral_df_with_bs_indicator.query(\"tower == 'c'\").query(\"height > 1\"), \"Neutral\", x_title=\"<u'q'> (g/m^2/s)\") |\n",
    "        lhflux_profile_chart_split_conditions(u_h2o__tgrad_unstable_df_with_bs_indicator.query(\"tower == 'c'\").query(\"height > 1\"), \"Unstable\", x_title=\"<u'q'> (g/m^2/s)\")\n",
    "    ) & (\n",
    "        lhflux_profile_chart_notower(v_h2o__df_with_bs_indicator.query(\"tower == 'c'\").query(\"height > 1\"), \"All data\", x_title=\"<v'q'> (g/m^2/s)\") |\n",
    "        lhflux_profile_chart_split_conditions(v_h2o__tgrad_stable_df_with_bs_indicator.query(\"tower == 'c'\").query(\"height > 1\"), \"Stable\", x_title=\"<v'q'> (g/m^2/s)\") |\n",
    "        lhflux_profile_chart_split_conditions(v_h2o__tgrad_neutral_df_with_bs_indicator.query(\"tower == 'c'\").query(\"height > 1\"), \"Neutral\", x_title=\"<v'q'> (g/m^2/s)\") |\n",
    "        lhflux_profile_chart_split_conditions(v_h2o__tgrad_unstable_df_with_bs_indicator.query(\"tower == 'c'\").query(\"height > 1\"), \"Unstable\", x_title=\"<v'q'> (g/m^2/s)\")\n",
    "    )\n",
    ").resolve_scale(x='shared', y='shared') \n",
    "lateral_flux_profiles_4_plots"
   ]
  },
  {
   "cell_type": "code",
   "execution_count": null,
   "metadata": {},
   "outputs": [],
   "source": [
    "vertical_and_lateral_flux_profiles = (\n",
    "    vertical_flux_profiles_4_plots & lateral_flux_profiles_4_plots\n",
    ")\n",
    "# vertical_and_lateral_flux_profiles.save(\"../../figures/lhflux_profiles_vertical_and_lateral_mean.png\", ppi=200)\n",
    "vertical_and_lateral_flux_profiles"
   ]
  },
  {
   "cell_type": "code",
   "execution_count": null,
   "metadata": {},
   "outputs": [],
   "source": [
    "src_all_data_bs = u_h2o__df_with_bs_indicator.query(\"conditions == 'BS'\").query(\"height > 1\")\n",
    "src_stable_bs = u_h2o__tgrad_stable_df_with_bs_indicator.query(\"conditions == 'BS'\").query(\"height > 1\")\n",
    "src_neutral_bs = u_h2o__tgrad_neutral_df_with_bs_indicator.query(\"conditions == 'BS'\").query(\"height > 1\")\n",
    "src_unstable_bs = u_h2o__tgrad_unstable_df_with_bs_indicator.query(\"conditions == 'BS'\").query(\"height > 1\")\n",
    "\n",
    "src_all_data_nobs = u_h2o__df_with_bs_indicator.query(\"conditions == 'No BS'\").query(\"height > 1\")\n",
    "src_stable_nobs = u_h2o__tgrad_stable_df_with_bs_indicator.query(\"conditions == 'No BS'\").query(\"height > 1\")\n",
    "src_neutral_nobs = u_h2o__tgrad_neutral_df_with_bs_indicator.query(\"conditions == 'No BS'\").query(\"height > 1\")\n",
    "src_unstable_nobs = u_h2o__tgrad_unstable_df_with_bs_indicator.query(\"conditions == 'No BS'\").query(\"height > 1\")\n",
    "\n",
    "(\n",
    "    (\n",
    "        profile_chart(src_all_data_bs,    \"All data, BS\",   \"<u'q'> (g/m^2/s)\",     'tower:N') |\n",
    "        profile_chart(src_stable_bs,      \"Stable, BS\",     \"<u'q'> (g/m^2/s)\",     'tower:N') |\n",
    "        profile_chart(src_neutral_bs,     \"Neutral, BS\",    \"<u'q'> (g/m^2/s)\",     'tower:N') |\n",
    "        profile_chart(src_unstable_bs,    \"Unstable, BS\",   \"<u'q'> (g/m^2/s)\",     'tower:N')\n",
    "    ).resolve_scale(x='shared', y='shared') & (\n",
    "        profile_chart(src_all_data_nobs,    \"All data, No BS\",  \"<u'q'> (g/m^2/s)\", 'tower:N') |\n",
    "        profile_chart(src_stable_nobs,      \"Stable, No BS\",    \"<u'q'> (g/m^2/s)\", 'tower:N') |\n",
    "        profile_chart(src_neutral_nobs,     \"Neutral, No BS\",   \"<u'q'> (g/m^2/s)\", 'tower:N') |\n",
    "        profile_chart(src_unstable_nobs,    \"Unstable, No BS\",  \"<u'q'> (g/m^2/s)\", 'tower:N')\n",
    "    ).resolve_scale(x='shared', y='shared')\n",
    ").resolve_scale(x='shared', y='shared')"
   ]
  },
  {
   "cell_type": "code",
   "execution_count": null,
   "metadata": {},
   "outputs": [],
   "source": [
    "daytime_df = w_h2o__measurements_df[w_h2o__measurements_df.time.dt.hour.isin([10,11,12,13,14,15,16])]\n",
    "daytime_df['date'] = daytime_df.time.dt.strftime('%Y%m%d')\n",
    "daytime_df['month'] = daytime_df.time.dt.month\n",
    "daytime_daily_mean_profiles_df = daytime_df.groupby(['date', 'month', 'variable', 'height', 'tower'])[['value']].mean().reset_index()\n",
    "\n",
    "alt.Chart(\n",
    "    daytime_daily_mean_profiles_df.query(\"month == 12\").query(\"height > 2\")\n",
    ").mark_line(point=True).encode(\n",
    "    alt.X(\"mean(value):Q\").sort('-y'),\n",
    "    alt.Y(\"height\"),\n",
    "    alt.Color(\"tower:N\"),\n",
    "    alt.Facet(\"month:N\")\n",
    ").properties(width=80, height = 80) | alt.Chart(\n",
    "    daytime_daily_mean_profiles_df.query(\"month == 1\").query(\"height > 2\")\n",
    ").mark_line(point=True).encode(\n",
    "    alt.X(\"mean(value):Q\").sort('-y'),\n",
    "    alt.Y(\"height\"),\n",
    "    alt.Color(\"tower:N\"),\n",
    "    alt.Facet(\"month:N\")\n",
    ").properties(width=80, height = 80) | alt.Chart(\n",
    "    daytime_daily_mean_profiles_df.query(\"month == 2\").query(\"height > 2\")\n",
    ").mark_line(point=True).encode(\n",
    "    alt.X(\"mean(value):Q\").sort('-y'),\n",
    "    alt.Y(\"height\"),\n",
    "    alt.Color(\"tower:N\"),\n",
    "    alt.Facet(\"month:N\")\n",
    ").properties(width=80, height = 80) | alt.Chart(\n",
    "    daytime_daily_mean_profiles_df.query(\"month == 3\").query(\"height > 2\")\n",
    ").mark_line(point=True).encode(\n",
    "    alt.X(\"mean(value):Q\").sort('-y'),\n",
    "    alt.Y(\"height\"),\n",
    "    alt.Color(\"tower:N\"),\n",
    "    alt.Facet(\"month:N\")\n",
    ").properties(width=80, height = 80) | alt.Chart(\n",
    "    daytime_daily_mean_profiles_df.query(\"month == 4\").query(\"height > 2\")\n",
    ").mark_line(point=True).encode(\n",
    "    alt.X(\"mean(value):Q\").sort('-y'),\n",
    "    alt.Y(\"height\"),\n",
    "    alt.Color(\"tower:N\"),\n",
    "    alt.Facet(\"month:N\")\n",
    ").properties(width=80, height = 80) | alt.Chart(\n",
    "    daytime_daily_mean_profiles_df.query(\"month == 5\").query(\"height > 2\")\n",
    ").mark_line(point=True).encode(\n",
    "    alt.X(\"mean(value):Q\").sort('-y'),\n",
    "    alt.Y(\"height\"),\n",
    "    alt.Color(\"tower:N\"),\n",
    "    alt.Facet(\"month:N\")\n",
    ").properties(width=80, height = 80)"
   ]
  },
  {
   "cell_type": "markdown",
   "metadata": {},
   "source": [
    "# Examine how divergence varies with instrument distance from snow surface"
   ]
  },
  {
   "cell_type": "code",
   "execution_count": null,
   "metadata": {},
   "outputs": [],
   "source": [
    "div_variation = tidy_df[tidy_df.variable.isin([\n",
    "    # 'w_h2o__1m_c',\n",
    "    'w_h2o__2m_c',\n",
    "    'w_h2o__3m_c',\n",
    "    'w_h2o__5m_c',\n",
    "    'w_h2o__10m_c',\n",
    "    'w_h2o__15m_c',\n",
    "    'w_h2o__20m_c',\n",
    "    'SnowDepth_c',\n",
    "])].pivot(index='time', columns='variable', values='value').reset_index()\n",
    "div_variation['height_adj'] = 2 - div_variation['SnowDepth_c']\n",
    "\n",
    "div_variation['lhflux_div_2_3'] = (div_variation['w_h2o__3m_c'] - div_variation['w_h2o__2m_c']) / 1\n",
    "div_variation['lhflux_div_3_5'] = (div_variation['w_h2o__5m_c'] - div_variation['w_h2o__3m_c']) / 2\n",
    "div_variation['lhflux_div_5_10'] = (div_variation['w_h2o__10m_c'] - div_variation['w_h2o__5m_c']) / 5"
   ]
  },
  {
   "cell_type": "code",
   "execution_count": null,
   "metadata": {},
   "outputs": [],
   "source": [
    "chart_2_3 = alt.Chart(div_variation).transform_filter(\n",
    "    alt.datum.lhflux_div_2_3 <= 1\n",
    ").transform_filter(\n",
    "    alt.datum.lhflux_div_2_3 >= -1\n",
    ").mark_boxplot(outliers=False).encode(\n",
    "    alt.X(\"SnowDepth_c:Q\").bin(True).title(\"Snow Depth (m)\"),\n",
    "    alt.Y(\"lhflux_div_2_3:Q\").title(\"d(w'q')/dz, 2-3m\")\n",
    ") + alt.Chart().transform_calculate(y = '0').mark_rule(strokeWidth=2).encode(y='y:Q').properties(width=200, height=200)\n",
    "\n",
    "chart_3_5 = alt.Chart(div_variation).transform_filter(\n",
    "    alt.datum.lhflux_div_3_5 <= 1\n",
    ").transform_filter(\n",
    "    alt.datum.lhflux_div_3_5 >= -1\n",
    ").mark_boxplot(outliers=False).encode(\n",
    "    alt.X(\"SnowDepth_c:Q\").bin(True).title(\"Snow Depth (m)\"),\n",
    "    alt.Y(\"lhflux_div_3_5:Q\").title(\"d(w'q')/dz, 3-5m\")\n",
    ")+ alt.Chart().transform_calculate(y = '0').mark_rule(strokeWidth=2).encode(y='y:Q').properties(width=200, height=200)\n",
    "\n",
    "chart_5_10 = alt.Chart(div_variation).transform_filter(\n",
    "    alt.datum.lhflux_div_5_10 <= 1\n",
    ").transform_filter(\n",
    "    alt.datum.lhflux_div_5_10 >= -1\n",
    ").mark_boxplot(outliers=False).encode(\n",
    "    alt.X(\"SnowDepth_c:Q\").bin(True).title(\"Snow Depth (m)\"),\n",
    "    alt.Y(\"lhflux_div_5_10:Q\").title((\"d(w'q')/dz, 5-10m\"))\n",
    ")+ alt.Chart().transform_calculate(y = '0').mark_rule(strokeWidth=2).encode(y='y:Q').properties(width=200, height=200)\n",
    "\n",
    "(chart_2_3 & chart_3_5 & chart_5_10).display(renderer='svg')"
   ]
  },
  {
   "cell_type": "code",
   "execution_count": null,
   "metadata": {},
   "outputs": [],
   "source": [
    "import scipy.stats\n",
    "scipy.stats.ks_2samp"
   ]
  },
  {
   "cell_type": "code",
   "execution_count": null,
   "metadata": {},
   "outputs": [],
   "source": [
    "snow_is_deep = div_variation[['lhflux_div_2_3', 'SnowDepth_c']].query(\"SnowDepth_c > 1.2\")\n",
    "snow_is_not_deep = div_variation[['lhflux_div_2_3', 'SnowDepth_c']].query(\"SnowDepth_c <= 1.2\")\n",
    "\n",
    "scipy.stats.ks_2samp(snow_is_deep, snow_is_not_deep)"
   ]
  },
  {
   "cell_type": "code",
   "execution_count": null,
   "metadata": {},
   "outputs": [],
   "source": [
    "snow_is_deep = div_variation[['lhflux_div_3_5', 'SnowDepth_c']].query(\"SnowDepth_c > 1.2\")\n",
    "snow_is_not_deep = div_variation[['lhflux_div_3_5', 'SnowDepth_c']].query(\"SnowDepth_c <= 1.2\")\n",
    "\n",
    "scipy.stats.ks_2samp(snow_is_deep, snow_is_not_deep)"
   ]
  },
  {
   "cell_type": "markdown",
   "metadata": {},
   "source": [
    "# December wind event case study"
   ]
  },
  {
   "cell_type": "markdown",
   "metadata": {},
   "source": [
    "## Plot Vertical Profiles"
   ]
  },
  {
   "cell_type": "markdown",
   "metadata": {},
   "source": [
    "Sensible heat"
   ]
  },
  {
   "cell_type": "code",
   "execution_count": null,
   "metadata": {},
   "outputs": [],
   "source": [
    "src = tidy_df[tidy_df.variable.isin([\n",
    "    'w_tc__1m_c', 'w_tc__2m_c', 'w_tc__3m_c', 'w_tc__5m_c', 'w_tc__10m_c', 'w_tc__15m_c', 'w_tc__20m_c',\n",
    "    'w_tc__1m_ue',  'w_tc__1m_uw',  'w_tc__1m_d',\n",
    "    'w_tc__3m_ue',  'w_tc__3m_uw',  'w_tc__3m_d',\n",
    "    'w_tc__10m_ue', 'w_tc__10m_uw', 'w_tc__10m_d',\n",
    "])]\n",
    "# Tower uw was buried during this event, so lets not look at that data\n",
    "src = src.query(\"tower != 'uw'\")\n",
    "w_tc_prof_timeseries_chart = alt.Chart(\n",
    "    src[\n",
    "        src.time.dt.minute == 0\n",
    "    ].set_index('time').loc[\n",
    "        \"2022-12-21 12\": \"2022-12-21 23\"\n",
    "    ].reset_index()\n",
    ").mark_line(point=True).encode(\n",
    "        alt.X(\"mean(value):Q\").sort('-y').title(\"w'tc'\"), #.scale(domain=[-0.25,0], clamp=True),\n",
    "        alt.Y(\"height:Q\"),\n",
    "        alt.Color(\"tower:N\"),\n",
    "        # alt.Color(\"hours(time):O\"),\n",
    "        alt.Facet(\"time:T\").header(labelFontSize=0).title(None),\n",
    "    ).properties(width=75,height=75)"
   ]
  },
  {
   "cell_type": "markdown",
   "metadata": {},
   "source": [
    "Potential temperature"
   ]
  },
  {
   "cell_type": "code",
   "execution_count": null,
   "metadata": {},
   "outputs": [],
   "source": [
    "src = tidy_df[tidy_df.measurement.isin([\n",
    "    'surface potential temperature',\n",
    "    'potential temperature'\n",
    "])].query(\"tower == 'c'\")\n",
    "theta_prof_timeseries_chart = alt.Chart(\n",
    "    src[\n",
    "        src.time.dt.minute == 0\n",
    "    ].set_index('time').loc[\n",
    "        \"2022-12-21 12\": \"2022-12-21 23\"\n",
    "    ].reset_index()\n",
    ").mark_line(point=True).encode(\n",
    "        alt.X(\"mean(value):Q\").sort('-y').title(\"theta\").scale(zero=False),\n",
    "        alt.Y(\"height:Q\"),\n",
    "        # alt.Color(\"hours(time):O\"),\n",
    "        alt.Facet(\"time:T\").header(labelFontSize=0).title(None),\n",
    "        tooltip='height:Q'\n",
    "    ).properties(width=75,height=75)"
   ]
  },
  {
   "cell_type": "markdown",
   "metadata": {},
   "source": [
    "Temperature"
   ]
  },
  {
   "cell_type": "code",
   "execution_count": null,
   "metadata": {},
   "outputs": [],
   "source": [
    "src = tidy_df[tidy_df.measurement.isin([\n",
    "    'surface temperature',\n",
    "    'temperature'\n",
    "])].query(\"tower == 'c'\")\n",
    "T_prof_timeseries_chart = alt.Chart(\n",
    "    src[\n",
    "        src.time.dt.minute == 0\n",
    "    ].set_index('time').loc[\n",
    "        \"2022-12-21 12\": \"2022-12-21 23\"\n",
    "    ].reset_index()\n",
    ").mark_line(point=True).encode(\n",
    "        alt.X(\"mean(value):Q\").sort('-y').title(\"theta\").scale(zero=False),\n",
    "        alt.Y(\"height:Q\"),\n",
    "        # alt.Color(\"hours(time):O\"),\n",
    "        alt.Facet(\"time:T\").header(labelFontSize=0).title(None),\n",
    "        tooltip='height:Q'\n",
    "    ).properties(width=75,height=75)\n",
    "T_prof_timeseries_chart"
   ]
  },
  {
   "cell_type": "markdown",
   "metadata": {},
   "source": [
    "lh flux "
   ]
  },
  {
   "cell_type": "code",
   "execution_count": null,
   "metadata": {},
   "outputs": [],
   "source": [
    "src = tidy_df[tidy_df.variable.isin([\n",
    "    'w_h2o__1m_c', 'w_h2o__2m_c', 'w_h2o__3m_c', 'w_h2o__5m_c', 'w_h2o__10m_c', 'w_h2o__15m_c', 'w_h2o__20m_c',\n",
    "    'w_h2o__1m_ue',  'w_h2o__1m_uw',  'w_h2o__1m_d',\n",
    "    'w_h2o__3m_ue',  'w_h2o__3m_uw',  'w_h2o__3m_d',\n",
    "    'w_h2o__10m_ue', 'w_h2o__10m_uw', 'w_h2o__10m_d',\n",
    "])]\n",
    "# Tower uw was buried during this event, so lets not look at that data\n",
    "src = src.query(\"tower != 'uw'\")\n",
    "w_q_prof_timeseries_chart = alt.Chart(\n",
    "    src[\n",
    "        src.time.dt.minute == 0\n",
    "    ].set_index('time').loc[\n",
    "        \"2022-12-21 12\": \"2022-12-21 23\"\n",
    "    ].reset_index()\n",
    ").mark_line(point=True).encode(\n",
    "        alt.X(\"mean(value):Q\").sort('-y').scale(domain=[0, 0.05], clamp=True).title(\"w'q'\"),\n",
    "        alt.Y(\"height:Q\"),\n",
    "        alt.Color(\"tower:N\"),\n",
    "        # alt.Color(\"hours(time):O\"),\n",
    "        alt.Facet(\"time:T\").header(format=\"%m/%d %H:%M\")\n",
    "    ).properties(width=75,height=75)"
   ]
  },
  {
   "cell_type": "code",
   "execution_count": null,
   "metadata": {},
   "outputs": [],
   "source": [
    "alt.Chart(\n",
    "    src[\n",
    "        src.time.dt.minute == 0\n",
    "    ].set_index('time').loc[\n",
    "        \"2022-12-21 1955\": \"2022-12-21 2005\"\n",
    "    ].reset_index().query(\"tower == 'c'\").query(\"height <= 10\")\n",
    ").mark_line(point=True).encode(\n",
    "        alt.X(\"mean(value):Q\").sort('-y').scale(domain=[0, 0.05], clamp=True).title(\"<w'q'> (g/m^2/s)\"),\n",
    "        alt.Y(\"height:Q\").scale(domain=[0,20]).title(\"height (m)\"),\n",
    "        # alt.Color(\"tower:N\"),\n",
    "        # alt.Color(\"hours(time):O\"),\n",
    "        alt.Facet(\"time:T\").header(format=\"%m/%d %H:%M\")\n",
    "    ).properties(width=100,height=100)"
   ]
  },
  {
   "cell_type": "markdown",
   "metadata": {},
   "source": [
    "RH"
   ]
  },
  {
   "cell_type": "code",
   "execution_count": null,
   "metadata": {},
   "outputs": [],
   "source": [
    "src = tidy_df[tidy_df.measurement=='RH'].query(\"height != 6\").query(\"height != 12\")\n",
    "rh_prof_timeseries_chart = alt.Chart(\n",
    "    src[\n",
    "        src.time.dt.minute == 0\n",
    "    ].set_index('time').loc[\n",
    "        \"2022-12-21 12\": \"2022-12-21 23\"\n",
    "    ].reset_index()\n",
    ").mark_circle().encode(\n",
    "        alt.X(\"mean(value):Q\").sort('-y').title(\"RH (%)\").scale(domain=[55,75]),\n",
    "        alt.Y(\"height:Q\"),\n",
    "        alt.Color(\"tower:N\"),\n",
    "        # alt.Color(\"hours(time):O\"),\n",
    "        alt.Facet(\"time:T\").header(labelFontSize=0).title(None),\n",
    "        tooltip='height:Q'\n",
    "    ).properties(width=75,height=75)"
   ]
  },
  {
   "cell_type": "markdown",
   "metadata": {},
   "source": [
    "blowing snow time series"
   ]
  },
  {
   "cell_type": "code",
   "execution_count": null,
   "metadata": {},
   "outputs": [],
   "source": [
    "# src = tidy_df[tidy_df.variable == 'SF_avg_ue']\n",
    "src = tidy_df[tidy_df.variable.isin(['SF_avg_1m_ue', 'SF_avg_2m_ue'])]\n",
    "# src = src[src.time.isin(bs_times)]\n",
    "bs_flux_timeseries_chart = alt.Chart(\n",
    "    src.set_index('time').loc[\n",
    "        \"2022-12-21 12\": \"2022-12-21 23\"\n",
    "    ].reset_index().query(\"value > 0\")\n",
    ").mark_circle(point=True, size=75).encode(\n",
    "        alt.X(\"time:T\"),\n",
    "        alt.Y(\"value:Q\").scale(type='log').title(\"Blowing snow flux (g/m^2/s)\"),\n",
    "        alt.Color(\"height:O\")\n",
    ").properties(width=1140,height=100) \n",
    "\n",
    "src = tidy_df[tidy_df.variable.isin(['spd_3m_c', 'spd_5m_c', 'spd_20m_c'])]\n",
    "windspd_timeseries_chart = alt.Chart(\n",
    "    src.set_index('time').loc[\n",
    "        \"2022-12-21 12\": \"2022-12-21 23\"\n",
    "    ].reset_index().query(\"value > 0\")\n",
    ").mark_line().encode(\n",
    "        alt.X(\"time:T\").axis(labels=False).title(None),\n",
    "        alt.Y(\"value:Q\").title(\"Wind speed (m/s)\"),\n",
    "        alt.Color(\"height:O\")\n",
    ").properties(width=1140,height=100) \n",
    "\n",
    "\n",
    "src = tidy_df[tidy_df.variable.isin(['u*_3m_c', 'u*_5m_c', 'u*_20m_c'])]\n",
    "ufric_timeseries_chart = alt.Chart(\n",
    "    src.set_index('time').loc[\n",
    "        \"2022-12-21 12\": \"2022-12-21 23\"\n",
    "    ].reset_index().query(\"value > 0\")\n",
    ").mark_line().encode(\n",
    "        alt.X(\"time:T\").axis(labels=False).title(None),\n",
    "        alt.Y(\"value:Q\").title(\"Friction velocity (m/s)\"),\n",
    "        alt.Color(\"height:O\")\n",
    ").properties(width=1140,height=100) \n"
   ]
  },
  {
   "cell_type": "code",
   "execution_count": null,
   "metadata": {},
   "outputs": [],
   "source": [
    "(\n",
    "    ufric_timeseries_chart & windspd_timeseries_chart & bs_flux_timeseries_chart & \n",
    "    (w_q_prof_timeseries_chart & rh_prof_timeseries_chart & w_tc_prof_timeseries_chart & theta_prof_timeseries_chart)\n",
    ").resolve_scale(color='independent')"
   ]
  },
  {
   "cell_type": "markdown",
   "metadata": {},
   "source": [
    "Look at time series of Snow surface temperature, and other related variables, to see what is going on with surface temperatures during the blowing snow event"
   ]
  },
  {
   "cell_type": "code",
   "execution_count": null,
   "metadata": {},
   "outputs": [],
   "source": [
    "src = tidy_df.set_index('time').sort_index().loc[\n",
    "    \"2022-12-21 12\": \"2022-12-22 23\"\n",
    "].reset_index()\n",
    "# Create DF with renamed Tsnow variables to clarify that they are air sensors at this time because\n",
    "# snowdepth during this time period is 30-40cm, so the in-snow T sensors are ~10, 20cm above snow\n",
    "in_snow_sensors_as_air_sensors_df = src[src.variable.isin([\n",
    "    'T_2m_c',\n",
    "    'Tsnow_0_4m_d', 'Tsnow_0_5m_d', 'Tsnow_0_6m_d', 'Tsnow_0_7m_d',\n",
    "    'SnowDepth_c'\n",
    "])].pivot(index='time', columns='variable', values='value')\n",
    "in_snow_sensors_as_air_sensors_df['T_00cm_c'] = in_snow_sensors_as_air_sensors_df['Tsnow_0_4m_d']\n",
    "in_snow_sensors_as_air_sensors_df['T_10cm_c'] = in_snow_sensors_as_air_sensors_df['Tsnow_0_5m_d']\n",
    "in_snow_sensors_as_air_sensors_df['T_20cm_c'] = in_snow_sensors_as_air_sensors_df['Tsnow_0_6m_d']\n",
    "in_snow_sensors_as_air_sensors_df['T_30cm_c'] = in_snow_sensors_as_air_sensors_df['Tsnow_0_7m_d']\n",
    "in_snow_sensors_as_air_sensors_df = in_snow_sensors_as_air_sensors_df.reset_index().melt(id_vars='time')   \n",
    "\n",
    "# Create DF to hold the COARE model results we care about here\n",
    "# and to rename the run we did using the in-snow temp\n",
    "coare_model_results_local = coare_model_results[coare_model_results.config.isin([\n",
    "    \"Tsurf_d e_sat_alduchov 0.0005\",\n",
    "    \"Tsurf_c e_sat_alduchov 0.0005\",\n",
    "    \"Tsnow_0_4m_d e_sat_alduchov 0.0005\",\n",
    "])].set_index(\"time\").sort_index().loc[\n",
    "    src.time.min():src.time.max()\n",
    "].reset_index()\n",
    "coare_model_results_local.surface_measurement = coare_model_results_local.surface_measurement.replace(\n",
    "    \"Tsnow_0_4m_d\",\n",
    "    'T_00cm_c'\n",
    ")\n",
    "\n",
    "bs_case_study =(alt.Chart(src[src.variable == 'SF_avg_ue']).mark_line().encode(\n",
    "    alt.X(\"time:T\").axis(labels=False).title(None),\n",
    "    alt.Y(\"value:Q\").title(\"BS flux (g/m^2/s)\"),\n",
    ").properties(height = 100) &\\\n",
    "alt.Chart(in_snow_sensors_as_air_sensors_df[in_snow_sensors_as_air_sensors_df.variable.isin(\n",
    "    ['T_00cm_c', 'T_10cm_c', 'T_20cm_c', 'T_30cm_c', 'T_2m_c']\n",
    ")]).mark_line().encode(\n",
    "    alt.X(\"time:T\").axis(labels=False).title(None),\n",
    "    alt.Y(\"value:Q\").title(\"Temp. (˚C)\"),\n",
    "    alt.Color(\"variable:O\").scale(\n",
    "        domain = ['T_00cm_c', 'T_10cm_c', 'T_20cm_c', 'T_30cm_c', 'T_2m_c'],\n",
    "        range=['lightsteelblue', 'cornflowerblue', 'royalblue', 'blue', 'black']\n",
    "    ).title([\"Temp. Measurement\", \"(near-surface and air)\"]),\n",
    ").resolve_scale(x='shared', y='independent', color='independent').properties(height = 100) &\\\n",
    "alt.Chart(src[src.variable.isin([\n",
    "    'T_2m_c',\n",
    "    'Tsurf_d',\n",
    "    'Tsurf_c',\n",
    "    'Tsurf_uw',\n",
    "    'Tsurf_ue',\n",
    "    'Tsurf_rad_d',\n",
    "])]).mark_line().encode(\n",
    "    alt.X(\"time:T\").axis(labels=False).title(None),\n",
    "    alt.Y(\"value:Q\").title(\"Temp. (˚C)\"),\n",
    "    alt.Color(\"variable:O\").scale(range=[\n",
    "        'black', '#1f77b4', '#ff7f0e', '#2ca02c', '#d62728', '#9467bd'\n",
    "    ]).title([\"Temp. Measurement\", \"(surface and air)\"]),\n",
    "    detail='variable'\n",
    ").resolve_scale(x='shared', y='independent').properties(height = 100)).resolve_scale(color='independent', strokeDash='independent') &\\\n",
    "alt.Chart(\n",
    "    tidy_df.query(\"variable == 'w_h2o__3m_c'\").set_index(\"time\").loc[\n",
    "        \"20221221\": \"20221223\"\n",
    "    ].reset_index()\n",
    ").mark_line(color='black').encode(\n",
    "    alt.X(\"time:T\"),\n",
    "    alt.Y(\"value:Q\"),\n",
    ").properties(height = 100) + alt.Chart(\n",
    "    coare_model_results_local\n",
    ").mark_line().encode(\n",
    "    alt.X(\"time:T\"),\n",
    "    alt.Y(\"hlb_gperm2s\").title(\"w'q' (g/m^s/2)\"),\n",
    "    alt.Color(\"surface_measurement\").title([\n",
    "        \"Tsurf used for\",\n",
    "        \"model input\"\n",
    "    ])\n",
    ")"
   ]
  },
  {
   "cell_type": "code",
   "execution_count": null,
   "metadata": {},
   "outputs": [],
   "source": [
    "(bs_case_study | clear_case_study)"
   ]
  },
  {
   "cell_type": "markdown",
   "metadata": {},
   "source": [
    "# Compare with Radiosonde data"
   ]
  },
  {
   "cell_type": "code",
   "execution_count": null,
   "metadata": {},
   "outputs": [],
   "source": [
    "import act\n",
    "# from tempfile import TemporaryDirectory\n",
    "import glob"
   ]
  },
  {
   "cell_type": "markdown",
   "metadata": {},
   "source": [
    "## Get radiosonde data"
   ]
  },
  {
   "cell_type": "code",
   "execution_count": null,
   "metadata": {},
   "outputs": [],
   "source": [
    "# Inputs\n",
    "username = os.getenv(\"ARM_USERNAME\")\n",
    "token = os.getenv(\"ARM_TOKEN\")\n",
    "DATE_FORMAT_STR = '%Y-%m-%d'\n",
    "start_date = \"20230505\"\n",
    "end_date = \"20230506\"\n",
    "DLW_DATA_STREAM = 'gucdlfptM1.b1'\n",
    "DLW_DATA_STREAM_FILEEXT = '.cdf'\n",
    "DLW_OUTPUT_DIR = os.path.join(\"/Users/elischwat/Development/data/sublimationofsnow/\", DLW_DATA_STREAM)\n",
    "SONDE_DATA_STREAM = 'gucsondewnpnM1.b1'\n",
    "SONDE_DATA_STREAM_FILEEXT = '.cdf'\n",
    "SONDE_OUTPUT_DIR = os.path.join(\"/Users/elischwat/Development/data/sublimationofsnow/\", SONDE_DATA_STREAM)"
   ]
  },
  {
   "cell_type": "code",
   "execution_count": null,
   "metadata": {},
   "outputs": [],
   "source": [
    "# Download Sonde data\n",
    "# act.discovery.download_arm_data(\n",
    "#             username, token, SONDE_DATA_STREAM, start_date, end_date, output = SONDE_OUTPUT_DIR)\n",
    "# Download Sonde data\n",
    "# act.discovery.download_arm_data(\n",
    "#             username, token, DLW_DATA_STREAM, start_date, end_date, output = DLW_OUTPUT_DIR)"
   ]
  },
  {
   "cell_type": "code",
   "execution_count": null,
   "metadata": {},
   "outputs": [],
   "source": [
    "sonde_ds = act.io.read_arm_netcdf(os.path.join(SONDE_OUTPUT_DIR, \"*cdf\"))"
   ]
  },
  {
   "cell_type": "markdown",
   "metadata": {},
   "source": [
    "## Analyze sonde humidity"
   ]
  },
  {
   "cell_type": "code",
   "execution_count": null,
   "metadata": {},
   "outputs": [],
   "source": [
    "# SONDE: calculate mixing ratio\n",
    "sonde_ds['s'] = ('time', calc.mixing_ratio_from_relative_humidity(\n",
    "    sonde_ds['pres'].values * units.units(sonde_ds['pres'].attrs['units']),\n",
    "    sonde_ds['tdry'].values * units.units(sonde_ds['tdry'].attrs['units']),\n",
    "    sonde_ds['rh'].values * units.units(sonde_ds['rh'].attrs['units']\n",
    "                                        ),\n",
    ").magnitude)\n",
    "sonde_ds['s'].attrs = {\n",
    "    'long_name': 'mixing ratio',\n",
    "    'units': 'none',\n",
    "    'valid_min': 0.0,\n",
    "    'resolution': 1.0,\n",
    "    'standard_name': 'mixing_ratio',\n",
    "}\n",
    "\n",
    "# SONDE: calculate potential temperature\n",
    "sonde_ds['theta'] = ('time', calc.potential_temperature(\n",
    "    sonde_ds['pres'].values * units.units(sonde_ds['pres'].attrs['units']),\n",
    "    sonde_ds['tdry'].values * units.units(sonde_ds['tdry'].attrs['units']),\n",
    ").magnitude\n",
    ")\n",
    "sonde_ds['theta'].attrs = {\n",
    "    'long_name': 'potential temperature',\n",
    "    'standard_name': 'potential_temperature',\n",
    "}\n",
    "\n",
    "# Compare potential temperature difference between the surface and 1500 m above the surface"
   ]
  },
  {
   "cell_type": "code",
   "execution_count": null,
   "metadata": {},
   "outputs": [],
   "source": [
    "sonde_df_src = sonde_ds[['s', 'theta', 'alt']].compute()"
   ]
  },
  {
   "cell_type": "code",
   "execution_count": null,
   "metadata": {},
   "outputs": [],
   "source": [
    "sonde_df = sonde_df_src.where(sonde_df_src.alt<5000, drop=True).to_dataframe().reset_index()"
   ]
  },
  {
   "cell_type": "code",
   "execution_count": null,
   "metadata": {},
   "outputs": [],
   "source": [
    "alt.Chart(sonde_df[sonde_df.time.dt.hour.isin([11,23])][sonde_df.time < '20221205']).mark_line().encode(\n",
    "    alt.X('s').sort('-y'),\n",
    "    alt.Y('alt:Q').scale(zero=False),\n",
    "    alt.Color('hours(time):N'),\n",
    "    alt.Facet('dayofyear(time):O')\n",
    ").properties(width = 100, height = 150) &\\\n",
    "alt.Chart(sonde_df[sonde_df.time.dt.hour.isin([11,23])][sonde_df.time < '20221205']).mark_line().encode(\n",
    "    alt.X('theta').sort('-y'),\n",
    "    alt.Y('alt:Q').scale(zero=False),\n",
    "    alt.Color('hours(time):N'),\n",
    "    alt.Facet('dayofyear(time):O')\n",
    ").properties(width = 100, height = 150)"
   ]
  },
  {
   "cell_type": "code",
   "execution_count": null,
   "metadata": {},
   "outputs": [],
   "source": [
    "from metpy.constants import density_water"
   ]
  },
  {
   "cell_type": "code",
   "execution_count": null,
   "metadata": {},
   "outputs": [],
   "source": [
    "for date in ['20230415', '20230417', '20230505']:\n",
    "    agl_1500 = 4361\n",
    "    src = sonde_df.set_index('time').loc[date].reset_index()\n",
    "    src['hour'] = src.time.dt.hour\n",
    "    src = src[src['hour'] == 23]\n",
    "    theta_mean_1500 = src[np.abs(src.alt - agl_1500) < 10].theta.mean()\n",
    "\n",
    "\n",
    "    src_sfc = tidy_df.query(\"variable == 'Tsurfpot_c'\").set_index('time').loc[date].reset_index()\n",
    "    src_sfc['hour'] = src_sfc.time.dt.hour\n",
    "    src_sfc = src_sfc[src_sfc['hour'] == 16]\n",
    "    theta_mean_0 = src_sfc['value'].mean() + 273\n",
    "\n",
    "    src_daily_sub = tidy_df.query(\"variable == 'w_h2o__3m_c'\").set_index('time').loc[date].reset_index()\n",
    "\n",
    "    dtheta = theta_mean_1500 - theta_mean_0\n",
    "    dtheta\n",
    "\n",
    "    seconds_in_timestep = 30*60\n",
    "    daily_sub_mm = (\n",
    "        src_daily_sub.value * seconds_in_timestep / density_water.magnitude\n",
    "    ).sum()\n",
    "\n",
    "    print(date, dtheta, daily_sub_mm)"
   ]
  },
  {
   "cell_type": "code",
   "execution_count": null,
   "metadata": {},
   "outputs": [],
   "source": [
    "# SONDE DATA:   Calculate the average 4pm mixing ratio gradient at: (<3250, 4000-4250)\n",
    "sonde_src = sonde_df[sonde_df.time.dt.hour == 23]\n",
    "sonde_src['above_ridgeline'] = pd.cut(sonde_src['alt'], [0, 3250, 4000, 4250], labels=['low', 'none', 'high'])\n",
    "sonde_src = sonde_src.assign(date = sonde_src['time'].dt.date)\n",
    "sonde_src = sonde_src.dropna()\n",
    "sonde_src = sonde_src.groupby(['date', 'above_ridgeline'])[['s']].mean().reset_index()\n",
    "sonde_src = sonde_src.pivot_table(index='date', columns='above_ridgeline', values='s').reset_index()\n",
    "sonde_src['ridgeline_diff'] = sonde_src['high'] - sonde_src['low']\n",
    "\n",
    "\n",
    "\n",
    "# SFC DATA:     Calculate the average 4-5pm vertical flux divergence (w_h2o__20m_c - w_h2o__3m_c)\n",
    "sfc_src = tidy_df[tidy_df.variable.isin(['w_h2o__20m_c','w_h2o__3m_c',])]\n",
    "# filter for no bs times\n",
    "sfc_src = sfc_src[sfc_src.time.isin(nobs_times)]\n",
    "sfc_src = sfc_src.pivot_table(index='time', columns='variable', values='value').reset_index()\n",
    "sfc_src['sfc_diff'] = sfc_src['w_h2o__20m_c'] - sfc_src['w_h2o__3m_c']\n",
    "sfc_src = sfc_src[sfc_src.time.dt.hour == 16]\n",
    "sfc_src = sfc_src.assign(date = sfc_src['time'].dt.date)\n",
    "sfc_src = sfc_src.groupby(['date'])[['sfc_diff']].mean().reset_index()"
   ]
  },
  {
   "cell_type": "code",
   "execution_count": null,
   "metadata": {},
   "outputs": [],
   "source": [
    "flux_div_vs_dry_upper_atmosphere_df = sfc_src.set_index('date').join(\n",
    "    sonde_src.set_index('date')[['ridgeline_diff']]\n",
    ").reset_index()"
   ]
  },
  {
   "cell_type": "code",
   "execution_count": null,
   "metadata": {},
   "outputs": [],
   "source": [
    "from sklearn.metrics import r2_score\n",
    "r2_score(\n",
    "    flux_div_vs_dry_upper_atmosphere_df.dropna()['ridgeline_diff'],\n",
    "    flux_div_vs_dry_upper_atmosphere_df.dropna()['sfc_diff'],\n",
    ")"
   ]
  },
  {
   "cell_type": "code",
   "execution_count": null,
   "metadata": {},
   "outputs": [],
   "source": [
    "alt.Chart(flux_div_vs_dry_upper_atmosphere_df).mark_circle(size=30).encode(\n",
    "    alt.X('ridgeline_diff'),\n",
    "    alt.Y('sfc_diff'),\n",
    ") +\\\n",
    "alt.Chart(flux_div_vs_dry_upper_atmosphere_df).mark_rule().transform_calculate(x='0',).encode(x='x:Q')+\\\n",
    "alt.Chart(flux_div_vs_dry_upper_atmosphere_df).mark_rule().transform_calculate(y='0',).encode(y='y:Q')"
   ]
  },
  {
   "cell_type": "markdown",
   "metadata": {},
   "source": [
    "# Compare with doppler lidar w stats - Case Studies"
   ]
  },
  {
   "cell_type": "markdown",
   "metadata": {},
   "source": [
    "## Open data (its saved locally)"
   ]
  },
  {
   "cell_type": "code",
   "execution_count": null,
   "metadata": {},
   "outputs": [],
   "source": [
    "date1 = '20230418'\n",
    "date2 = '20230419'\n",
    "\n",
    "import xarray as xr\n",
    "ds1 = xr.open_dataset(\n",
    "        f\"/Users/elischwat/ftp.archive.arm.gov/schwate1/250128/gucdlprofwstats4newsM1.c1.{date1}.000000.nc\"\n",
    "    )\n",
    "ds2 = xr.open_dataset(\n",
    "        f\"/Users/elischwat/ftp.archive.arm.gov/schwate1/250128/gucdlprofwstats4newsM1.c1.{date2}.000000.nc\"\n",
    "    )\n",
    "ds = xr.concat([ds1,ds2], dim='time')\n",
    "ds = utils.modify_xarray_timezone(ds, 'UTC', 'US/Mountain')\n",
    "wstats_df = ds.to_dataframe().reset_index()\n",
    "wstats_df\n",
    "\n",
    "wstats_df['time_low'] = wstats_df['time'] - dt.timedelta(minutes=5)\n",
    "wstats_df['time_high'] = wstats_df['time'] + dt.timedelta(minutes=5)\n",
    "wstats_df['height_low'] = wstats_df['height'] - 15\n",
    "wstats_df['height_high'] = wstats_df['height'] + 15\n",
    "wstats_df = wstats_df.rename(columns={'w_variance': 'value'})"
   ]
  },
  {
   "cell_type": "markdown",
   "metadata": {},
   "source": [
    "## Compare near-surface w'q' and ABL w'w'"
   ]
  },
  {
   "cell_type": "code",
   "execution_count": null,
   "metadata": {},
   "outputs": [],
   "source": [
    "tidy_df_10min = pd.read_parquet('tidy_df_10min.parquet')\n",
    "tidy_df_10min = utils.modify_df_timezone(tidy_df_10min, 'UTC', \"US/Mountain\")"
   ]
  },
  {
   "cell_type": "code",
   "execution_count": null,
   "metadata": {},
   "outputs": [],
   "source": [
    "src = tidy_df_10min[tidy_df_10min.variable.isin([\n",
    "    'w_h2o__1m_c',\n",
    "    'w_h2o__2m_c',\n",
    "    'w_h2o__3m_c',\n",
    "    'w_h2o__5m_c',\n",
    "    'w_h2o__10m_c',\n",
    "    'w_h2o__15m_c',\n",
    "    'w_h2o__20m_c',\n",
    "])]\n",
    "def h_bounds(h):\n",
    "    if h == 1:\n",
    "        return (0,1)\n",
    "    if h == 2:\n",
    "        return (1,2)\n",
    "    if h == 3:\n",
    "        return (2,3)\n",
    "    if h == 5:\n",
    "        return (3,7)\n",
    "    if h == 10:\n",
    "        return (7,13)\n",
    "    if h == 15:\n",
    "        return (13,17)\n",
    "    if h == 20:\n",
    "        return (17,23)\n",
    "src = src.assign(height_low = src['height'].apply(lambda h: h_bounds(h)[0]))\n",
    "src = src.assign(height_high = src['height'].apply(lambda h: h_bounds(h)[1]))\n",
    "src = src.assign(time_low = src['time'].apply(lambda t: t - dt.timedelta(minutes=15)))\n",
    "src = src.assign(time_high = src['time'].apply(lambda t: t + dt.timedelta(minutes=15)))\n",
    "\n",
    "chart = alt.Chart(\n",
    "    \n",
    ").mark_rect().encode(\n",
    "    alt.X('time_low:T').title('').axis(labels=False),\n",
    "    alt.X2('time_high:T'),\n",
    "    alt.Y('height_low:Q').scale(domain=[0,23]).title('Height (m)'),\n",
    "    alt.Y2('height_high:Q'),\n",
    "    alt.Color('value:Q').scale(domain=[-0.05, 0.05], scheme='redyellowblue', clamp=True).title([\"w'q'\", \"(g m⁻²s⁻¹)\"]),\n",
    "    tooltip='value'\n",
    ").properties(width=300, height = 75)\n"
   ]
  },
  {
   "cell_type": "code",
   "execution_count": 179,
   "metadata": {},
   "outputs": [
    {
     "ename": "NameError",
     "evalue": "name 'chart' is not defined",
     "output_type": "error",
     "traceback": [
      "\u001b[0;31m---------------------------------------------------------------------------\u001b[0m",
      "\u001b[0;31mNameError\u001b[0m                                 Traceback (most recent call last)",
      "Cell \u001b[0;32mIn[179], line 15\u001b[0m\n\u001b[1;32m      1\u001b[0m dl_chart \u001b[38;5;241m=\u001b[39m alt\u001b[38;5;241m.\u001b[39mChart(\n\u001b[1;32m      2\u001b[0m     \n\u001b[1;32m      3\u001b[0m )\u001b[38;5;241m.\u001b[39mmark_rect()\u001b[38;5;241m.\u001b[39mencode(\n\u001b[0;32m   (...)\u001b[0m\n\u001b[1;32m      9\u001b[0m     tooltip\u001b[38;5;241m=\u001b[39m\u001b[38;5;124m'\u001b[39m\u001b[38;5;124mvalue\u001b[39m\u001b[38;5;124m'\u001b[39m\n\u001b[1;32m     10\u001b[0m )\u001b[38;5;241m.\u001b[39mproperties(width\u001b[38;5;241m=\u001b[39m\u001b[38;5;241m300\u001b[39m, height \u001b[38;5;241m=\u001b[39m \u001b[38;5;241m125\u001b[39m)\n\u001b[1;32m     14\u001b[0m (\n\u001b[0;32m---> 15\u001b[0m     alt\u001b[38;5;241m.\u001b[39mlayer(\u001b[43mchart\u001b[49m, data\u001b[38;5;241m=\u001b[39msrc\u001b[38;5;241m.\u001b[39mset_index(\u001b[38;5;124m'\u001b[39m\u001b[38;5;124mtime\u001b[39m\u001b[38;5;124m'\u001b[39m)\u001b[38;5;241m.\u001b[39mloc[date1]\u001b[38;5;241m.\u001b[39mreset_index())\u001b[38;5;241m.\u001b[39mproperties(\n\u001b[1;32m     16\u001b[0m         title\u001b[38;5;241m=\u001b[39m\u001b[38;5;124m'\u001b[39m\u001b[38;5;124mWater vapor flux measurements from tower c at Kettle Ponds\u001b[39m\u001b[38;5;124m'\u001b[39m\n\u001b[1;32m     17\u001b[0m     )\n\u001b[1;32m     18\u001b[0m     \u001b[38;5;241m&\u001b[39m\n\u001b[1;32m     19\u001b[0m     alt\u001b[38;5;241m.\u001b[39mlayer(dl_chart, data\u001b[38;5;241m=\u001b[39mwstats_df\u001b[38;5;241m.\u001b[39mset_index(\u001b[38;5;124m'\u001b[39m\u001b[38;5;124mtime\u001b[39m\u001b[38;5;124m'\u001b[39m)\u001b[38;5;241m.\u001b[39mloc[date1]\u001b[38;5;241m.\u001b[39mquery(\u001b[38;5;124m\"\u001b[39m\u001b[38;5;124mheight < 2000\u001b[39m\u001b[38;5;124m\"\u001b[39m)\u001b[38;5;241m.\u001b[39mreset_index())\u001b[38;5;241m.\u001b[39mproperties(\n\u001b[1;32m     20\u001b[0m         title\u001b[38;5;241m=\u001b[39m\u001b[38;5;124m'\u001b[39m\u001b[38;5;124mVertical velocity variance from Doppler Lidar at Gothic\u001b[39m\u001b[38;5;124m'\u001b[39m\n\u001b[1;32m     21\u001b[0m     )\n\u001b[1;32m     22\u001b[0m )\u001b[38;5;241m.\u001b[39mresolve_scale(\n\u001b[1;32m     23\u001b[0m     x\u001b[38;5;241m=\u001b[39m\u001b[38;5;124m'\u001b[39m\u001b[38;5;124mshared\u001b[39m\u001b[38;5;124m'\u001b[39m,\n\u001b[1;32m     24\u001b[0m     color\u001b[38;5;241m=\u001b[39m\u001b[38;5;124m'\u001b[39m\u001b[38;5;124mindependent\u001b[39m\u001b[38;5;124m'\u001b[39m\n\u001b[1;32m     25\u001b[0m )\u001b[38;5;241m.\u001b[39mconfigure_legend(\n\u001b[1;32m     26\u001b[0m     gradientLength\u001b[38;5;241m=\u001b[39m\u001b[38;5;241m50\u001b[39m,\n\u001b[1;32m     27\u001b[0m )\n",
      "\u001b[0;31mNameError\u001b[0m: name 'chart' is not defined"
     ]
    }
   ],
   "source": [
    "dl_chart = alt.Chart(\n",
    "    \n",
    ").mark_rect().encode(\n",
    "    alt.X('time_low:T').title('time'),\n",
    "    alt.X2('time_high:T'),\n",
    "    alt.Y('height_low:Q').title('Height (m)'),\n",
    "    alt.Y2('height_high:Q'),\n",
    "    alt.Color('value:Q').scale(domain=[0,15]).title([\"w'w'\", \"(m² s⁻²)\"]),\n",
    "    tooltip='value'\n",
    ").properties(width=300, height = 125)\n",
    "\n",
    "\n",
    "\n",
    "(\n",
    "    alt.layer(chart, data=src.set_index('time').loc[date1].reset_index()).properties(\n",
    "        title='Water vapor flux measurements from tower c at Kettle Ponds'\n",
    "    )\n",
    "    &\n",
    "    alt.layer(dl_chart, data=wstats_df.set_index('time').loc[date1].query(\"height < 2000\").reset_index()).properties(\n",
    "        title='Vertical velocity variance from Doppler Lidar at Gothic'\n",
    "    )\n",
    ").resolve_scale(\n",
    "    x='shared',\n",
    "    color='independent'\n",
    ").configure_legend(\n",
    "    gradientLength=50,\n",
    ")"
   ]
  },
  {
   "cell_type": "code",
   "execution_count": null,
   "metadata": {},
   "outputs": [],
   "source": []
  },
  {
   "cell_type": "code",
   "execution_count": null,
   "metadata": {},
   "outputs": [],
   "source": [
    "alt.Chart(\n",
    "    tidy_df_10min.query(\"measurement == 'wind speed'\").set_index('time').loc['20230418'].reset_index()\n",
    ").mark_line().encode(\n",
    "    alt.X('time:T'),\n",
    "    alt.Y('value:Q'),\n",
    "    alt.Color('height:O'),\n",
    "    detail = 'variable',\n",
    "    tooltip = 'variable',\n",
    ")"
   ]
  },
  {
   "cell_type": "code",
   "execution_count": null,
   "metadata": {},
   "outputs": [],
   "source": [
    "alt.Chart(\n",
    "    tidy_df_10min.query(\"measurement == 'wind direction'\").set_index('time').loc['20230418'].reset_index()\n",
    ").mark_line().encode(\n",
    "    alt.X('time:T'),\n",
    "    alt.Y('value:Q'),\n",
    "    alt.Color('height:O'),\n",
    "    detail = 'variable'\n",
    ")"
   ]
  },
  {
   "cell_type": "code",
   "execution_count": null,
   "metadata": {},
   "outputs": [],
   "source": [
    "alt.Chart(\n",
    "    tidy_df_10min[tidy_df_10min.measurement=='w_h2o_'].set_index('time').loc['20230415'].reset_index().query(\"height >= 3\")\n",
    ").mark_line(point=True).encode(\n",
    "    alt.X('mean(value):Q').sort('-y'),\n",
    "    alt.Y('height:Q').scale(zero=True),\n",
    "    alt.Color('tower:N'),\n",
    "    alt.Facet('hours(time):O', columns=6, spacing=3),\n",
    ").properties(width=100, height=100)"
   ]
  },
  {
   "cell_type": "code",
   "execution_count": null,
   "metadata": {},
   "outputs": [],
   "source": [
    "alt.Chart(\n",
    "    tidy_df_10min[tidy_df_10min.measurement=='wind direction'].set_index('time').loc['20230415'].reset_index()\n",
    ").mark_line(point=True).encode(\n",
    "    alt.X('mean(value):Q').sort('-y'),\n",
    "    alt.Y('height:Q').scale(zero=True),\n",
    "    alt.Color('tower:N'),\n",
    "    alt.Facet('hours(time):O', columns=6, spacing=3),\n",
    ").properties(width=100, height=100)"
   ]
  },
  {
   "cell_type": "code",
   "execution_count": null,
   "metadata": {},
   "outputs": [],
   "source": [
    "alt.Chart(\n",
    "    tidy_df_10min[tidy_df_10min.measurement=='wind speed'].set_index('time').loc['20230415'].reset_index()\n",
    ").mark_line(point=True).encode(\n",
    "    alt.X('mean(value):Q').sort('-y'),\n",
    "    alt.Y('height:Q').scale(zero=True),\n",
    "    alt.Color('tower:N'),\n",
    "    alt.Facet('hours(time):O', columns=6, spacing=3),\n",
    ").properties(width=100, height=100)"
   ]
  },
  {
   "cell_type": "code",
   "execution_count": null,
   "metadata": {},
   "outputs": [],
   "source": []
  },
  {
   "cell_type": "code",
   "execution_count": null,
   "metadata": {},
   "outputs": [],
   "source": [
    "alt.Chart(\n",
    "    tidy_df_10min[tidy_df_10min.measurement=='wind direction'].query(\"tower == 'c'\").set_index('time').loc['20230415'].reset_index()\n",
    ").mark_line(point=True).encode(\n",
    "    alt.X('mean(value):Q').sort('-y'),\n",
    "    alt.Y('height:Q').scale(zero=True),\n",
    "    alt.Color('hours(time):O').scale(scheme='rainbow'),\n",
    "    alt.Facet('hours(time):O', columns=6, spacing=3),\n",
    "    detail='hours(time):T'\n",
    ").properties(width=100, height=100)"
   ]
  },
  {
   "cell_type": "code",
   "execution_count": null,
   "metadata": {},
   "outputs": [],
   "source": [
    "alt.Chart(\n",
    "    tidy_df_10min[tidy_df_10min.measurement=='sonic anemometer diagnostic flag'].query(\"tower == 'c'\").set_index('time').loc['20230415'].reset_index()\n",
    ").mark_line().encode(\n",
    "    alt.X('time:T'),\n",
    "    alt.Y('value:Q').scale(zero=True).scale(type='symlog'),\n",
    "    alt.Color('height:O').scale(scheme='rainbow'),\n",
    ").properties(width=600) & \\\n",
    "alt.Chart(\n",
    "    tidy_df_10min[tidy_df_10min.measurement=='irgason diagnostic flag'].query(\"tower == 'c'\").set_index('time').loc['20230415'].reset_index()\n",
    ").mark_line().encode(\n",
    "    alt.X('time:T'),\n",
    "    alt.Y('value:Q').scale(zero=True).scale(type='symlog'),\n",
    "    alt.Color('height:O').scale(scheme='rainbow'),\n",
    ").properties(width=600) & \\\n",
    "alt.Chart(\n",
    "    tidy_df_10min[tidy_df_10min.measurement=='snow flux'].set_index('time').loc['20230415'].reset_index()\n",
    ").mark_line().encode(\n",
    "    alt.X('time:T'),\n",
    "    alt.Y('value:Q').scale(zero=True).scale(type='symlog'),\n",
    "    alt.Color('height:O').scale(scheme='rainbow'),\n",
    ").properties(width=600)"
   ]
  },
  {
   "cell_type": "code",
   "execution_count": null,
   "metadata": {},
   "outputs": [],
   "source": [
    "src = tidy_df_10min[\n",
    "    tidy_df_10min.height.isin([3, 10])\n",
    "][\n",
    "    tidy_df_10min.measurement=='wind direction'\n",
    "].set_index('time').sort_index().loc['20230415 1200': '20230415 2200'].reset_index()\n",
    "alt.Chart(\n",
    "    src    \n",
    ").mark_line(point={'size':60}).encode(\n",
    "    alt.X('time:T'),\n",
    "    alt.Y('value:Q').scale(zero=False),\n",
    "    alt.Color('height:O').scale(scheme='rainbow'),\n",
    "    alt.Shape('tower:N'),\n",
    "    detail='tower',\n",
    ").properties(width=600)"
   ]
  },
  {
   "cell_type": "code",
   "execution_count": null,
   "metadata": {},
   "outputs": [],
   "source": [
    "alt.Chart(\n",
    "    tidy_df_10min[tidy_df_10min.measurement=='w'].set_index('time').sort_index().loc['20230415 1200': '20230415 2200'].reset_index()\n",
    ").mark_line(point={'size':60}).encode(\n",
    "    alt.X('time:T'),\n",
    "    alt.Y('value:Q').scale(zero=True),\n",
    "    alt.Color('height:O').scale(scheme='rainbow'),\n",
    "    alt.Shape('tower:N'),\n",
    "    detail='tower',\n",
    ").properties(width=600)"
   ]
  },
  {
   "cell_type": "code",
   "execution_count": null,
   "metadata": {},
   "outputs": [],
   "source": [
    ","
   ]
  },
  {
   "cell_type": "code",
   "execution_count": null,
   "metadata": {},
   "outputs": [],
   "source": []
  }
 ],
 "metadata": {
  "kernelspec": {
   "display_name": "arm",
   "language": "python",
   "name": "python3"
  },
  "language_info": {
   "codemirror_mode": {
    "name": "ipython",
    "version": 3
   },
   "file_extension": ".py",
   "mimetype": "text/x-python",
   "name": "python",
   "nbconvert_exporter": "python",
   "pygments_lexer": "ipython3",
   "version": "3.12.5"
  }
 },
 "nbformat": 4,
 "nbformat_minor": 2
}
