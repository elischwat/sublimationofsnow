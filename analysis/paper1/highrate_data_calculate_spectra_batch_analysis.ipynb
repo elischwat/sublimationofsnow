{
 "cells": [
  {
   "cell_type": "code",
   "execution_count": 1,
   "metadata": {},
   "outputs": [
    {
     "name": "stderr",
     "output_type": "stream",
     "text": [
      "/var/folders/x_/2h52bcjx2px15bhmdpdd748h0000gn/T/ipykernel_5014/2591516685.py:13: DeprecationWarning: The current Dask DataFrame implementation is deprecated. \n",
      "In a future release, Dask DataFrame will use new implementation that\n",
      "contains several improvements including a logical query planning.\n",
      "The user-facing DataFrame API will remain unchanged.\n",
      "\n",
      "The new implementation is already available and can be enabled by\n",
      "installing the dask-expr library:\n",
      "\n",
      "    $ pip install dask-expr\n",
      "\n",
      "and turning the query planning option on:\n",
      "\n",
      "    >>> import dask\n",
      "    >>> dask.config.set({'dataframe.query-planning': True})\n",
      "    >>> import dask.dataframe as dd\n",
      "\n",
      "API documentation for the new implementation is available at\n",
      "https://docs.dask.org/en/stable/dask-expr-api.html\n",
      "\n",
      "Any feedback can be reported on the Dask issue tracker\n",
      "https://github.com/dask/dask/issues \n",
      "\n",
      "  import dask.dataframe as dd\n"
     ]
    }
   ],
   "source": [
    "import numpy as np\n",
    "import xarray as xr\n",
    "\n",
    "import datetime as dt\n",
    "import pandas as pd\n",
    "\n",
    "import matplotlib.pyplot as plt\n",
    "\n",
    "import altair as alt\n",
    "alt.data_transformers.enable('json')\n",
    "from sublimpy import utils\n",
    "\n",
    "import dask.dataframe as dd"
   ]
  },
  {
   "cell_type": "code",
   "execution_count": 2,
   "metadata": {},
   "outputs": [],
   "source": [
    "df_momentum_night = dd.read_parquet(\"/Users/elischwat/Development/data/sublimationofsnow/spectra/0900_1700/latent_heat/\")\n",
    "df_momentum_day = dd.read_parquet(\"/Users/elischwat/Development/data/sublimationofsnow/spectra/1900_0500/latent_heat/\")"
   ]
  },
  {
   "cell_type": "code",
   "execution_count": 3,
   "metadata": {},
   "outputs": [],
   "source": [
    "df_momentum_night = df_momentum_night[df_momentum_night.date >= '20221129'][df_momentum_night.date <= '20230509']\n",
    "df_momentum_day = df_momentum_day[df_momentum_day.date >= '20221129'][df_momentum_day.date <= '20230509']"
   ]
  },
  {
   "cell_type": "code",
   "execution_count": 8,
   "metadata": {},
   "outputs": [],
   "source": [
    "src = pd.concat([\n",
    "    df_momentum_day.query(\"frequency < 0.1\").query(\"frequency >= 0.001\").query(\"tower == 'c'\").query(\"height > 2\").compute().assign(timeofday = 'Day time'),\n",
    "    df_momentum_night.query(\"frequency < 0.1\").query(\"frequency >= 0.001\").query(\"tower == 'c'\").query(\"height > 2\").compute().assign(timeofday = 'Night time')\n",
    "])\n",
    "src.frequency = pd.cut(src.frequency, np.logspace(-3,-1, 100)).apply(lambda interval: (interval.left + interval.right)/2).astype('float')\n",
    "src = src.groupby(['height', 'tower', 'timeofday', 'frequency'])[['cospectrum']].mean().reset_index()\n",
    "day_and_night_avg_spectra_tower_c_all_heights = alt.Chart(\n",
    "    src\n",
    ").mark_point().encode(\n",
    "    alt.X(\"frequency:Q\").scale(type='log').title(\"Frequency (Hz)\"),\n",
    "    alt.Y(\"mean(cospectrum):Q\").scale(type='linear').title(\"Cospectra(w'q')\"),\n",
    "    alt.Color(\"height:O\").scale(scheme='turbo'),\n",
    "    alt.Facet(\"timeofday:N\").title(None).header(labelFontSize=14, labelFontStyle='bold')\n",
    ").properties(width=300, height = 200).resolve_scale(y='independent')"
   ]
  },
  {
   "cell_type": "code",
   "execution_count": 9,
   "metadata": {},
   "outputs": [],
   "source": [
    "src = df_momentum_day[df_momentum_day.height.isin([3,10])].query(\"frequency < 0.1\").query(\"frequency >= 0.001\").compute()\n",
    "df_momentum_day_agg = src.groupby(['frequency', 'height', 'tower'])[['cospectrum']].mean().reset_index()\n",
    "\n",
    "src = df_momentum_night[df_momentum_night.height.isin([3,10])].query(\"frequency < 0.1\").query(\"frequency >= 0.001\").compute()\n",
    "df_momentum_night_agg = src.groupby(['frequency', 'height', 'tower'])[['cospectrum']].mean().reset_index()\n",
    "\n",
    "src = pd.concat([\n",
    "    df_momentum_day_agg.assign(timeofday = 'Day time'),\n",
    "    df_momentum_night_agg.assign(timeofday = 'Night time')\n",
    "])\n",
    "\n",
    "day_and_night_avg_spectra_tower_all_towers = alt.Chart(\n",
    "    src\n",
    ").mark_line().encode(\n",
    "    alt.X(\"frequency:Q\").scale(type='log').title(\"Frequency (Hz)\"),\n",
    "    alt.Y(\"cospectrum:Q\").scale(type='linear').title(\"Cospectra(w'q')\"),\n",
    "    alt.StrokeDash(\"height:N\"),\n",
    "    alt.Color(\"tower:N\"),\n",
    "    alt.Facet(\"timeofday:N\").title(None).header(labelFontSize=14, labelFontStyle='bold')\n",
    ").properties(width=300, height = 200).resolve_scale(y='independent')"
   ]
  },
  {
   "cell_type": "code",
   "execution_count": 10,
   "metadata": {},
   "outputs": [
    {
     "data": {
      "text/html": [
       "\n",
       "<style>\n",
       "  #altair-viz-d605abec94e64cc591b727c3fdd60258.vega-embed {\n",
       "    width: 100%;\n",
       "    display: flex;\n",
       "  }\n",
       "\n",
       "  #altair-viz-d605abec94e64cc591b727c3fdd60258.vega-embed details,\n",
       "  #altair-viz-d605abec94e64cc591b727c3fdd60258.vega-embed details summary {\n",
       "    position: relative;\n",
       "  }\n",
       "</style>\n",
       "<div id=\"altair-viz-d605abec94e64cc591b727c3fdd60258\"></div>\n",
       "<script type=\"text/javascript\">\n",
       "  var VEGA_DEBUG = (typeof VEGA_DEBUG == \"undefined\") ? {} : VEGA_DEBUG;\n",
       "  (function(spec, embedOpt){\n",
       "    let outputDiv = document.currentScript.previousElementSibling;\n",
       "    if (outputDiv.id !== \"altair-viz-d605abec94e64cc591b727c3fdd60258\") {\n",
       "      outputDiv = document.getElementById(\"altair-viz-d605abec94e64cc591b727c3fdd60258\");\n",
       "    }\n",
       "    const paths = {\n",
       "      \"vega\": \"https://cdn.jsdelivr.net/npm/vega@5?noext\",\n",
       "      \"vega-lib\": \"https://cdn.jsdelivr.net/npm/vega-lib?noext\",\n",
       "      \"vega-lite\": \"https://cdn.jsdelivr.net/npm/vega-lite@5.17.0?noext\",\n",
       "      \"vega-embed\": \"https://cdn.jsdelivr.net/npm/vega-embed@6?noext\",\n",
       "    };\n",
       "\n",
       "    function maybeLoadScript(lib, version) {\n",
       "      var key = `${lib.replace(\"-\", \"\")}_version`;\n",
       "      return (VEGA_DEBUG[key] == version) ?\n",
       "        Promise.resolve(paths[lib]) :\n",
       "        new Promise(function(resolve, reject) {\n",
       "          var s = document.createElement('script');\n",
       "          document.getElementsByTagName(\"head\")[0].appendChild(s);\n",
       "          s.async = true;\n",
       "          s.onload = () => {\n",
       "            VEGA_DEBUG[key] = version;\n",
       "            return resolve(paths[lib]);\n",
       "          };\n",
       "          s.onerror = () => reject(`Error loading script: ${paths[lib]}`);\n",
       "          s.src = paths[lib];\n",
       "        });\n",
       "    }\n",
       "\n",
       "    function showError(err) {\n",
       "      outputDiv.innerHTML = `<div class=\"error\" style=\"color:red;\">${err}</div>`;\n",
       "      throw err;\n",
       "    }\n",
       "\n",
       "    function displayChart(vegaEmbed) {\n",
       "      vegaEmbed(outputDiv, spec, embedOpt)\n",
       "        .catch(err => showError(`Javascript Error: ${err.message}<br>This usually means there's a typo in your chart specification. See the javascript console for the full traceback.`));\n",
       "    }\n",
       "\n",
       "    if(typeof define === \"function\" && define.amd) {\n",
       "      requirejs.config({paths});\n",
       "      require([\"vega-embed\"], displayChart, err => showError(`Error loading script: ${err.message}`));\n",
       "    } else {\n",
       "      maybeLoadScript(\"vega\", \"5\")\n",
       "        .then(() => maybeLoadScript(\"vega-lite\", \"5.17.0\"))\n",
       "        .then(() => maybeLoadScript(\"vega-embed\", \"6\"))\n",
       "        .catch(showError)\n",
       "        .then(() => displayChart(vegaEmbed));\n",
       "    }\n",
       "  })({\"config\": {\"view\": {\"continuousWidth\": 300, \"continuousHeight\": 300}, \"axis\": {\"grid\": false}}, \"vconcat\": [{\"data\": {\"url\": \"altair-data-855e2b7eab62590651742c34e916ea0a.json\", \"format\": {\"type\": \"json\"}}, \"mark\": {\"type\": \"line\"}, \"encoding\": {\"color\": {\"field\": \"tower\", \"type\": \"nominal\"}, \"facet\": {\"field\": \"timeofday\", \"header\": {\"labelFontSize\": 14, \"labelFontStyle\": \"bold\"}, \"title\": null, \"type\": \"nominal\"}, \"strokeDash\": {\"field\": \"height\", \"type\": \"nominal\"}, \"x\": {\"field\": \"frequency\", \"scale\": {\"type\": \"log\"}, \"title\": \"Frequency (Hz)\", \"type\": \"quantitative\"}, \"y\": {\"field\": \"cospectrum\", \"scale\": {\"type\": \"linear\"}, \"title\": \"Cospectra(w'q')\", \"type\": \"quantitative\"}}, \"height\": 200, \"resolve\": {\"scale\": {\"y\": \"independent\"}}, \"width\": 300}, {\"data\": {\"url\": \"altair-data-357d00505c8a28c23b003b65549d06a3.json\", \"format\": {\"type\": \"json\"}}, \"mark\": {\"type\": \"point\"}, \"encoding\": {\"color\": {\"field\": \"height\", \"scale\": {\"scheme\": \"turbo\"}, \"type\": \"ordinal\"}, \"facet\": {\"field\": \"timeofday\", \"header\": {\"labelFontSize\": 14, \"labelFontStyle\": \"bold\"}, \"title\": null, \"type\": \"nominal\"}, \"x\": {\"field\": \"frequency\", \"scale\": {\"type\": \"log\"}, \"title\": \"Frequency (Hz)\", \"type\": \"quantitative\"}, \"y\": {\"aggregate\": \"mean\", \"field\": \"cospectrum\", \"scale\": {\"type\": \"linear\"}, \"title\": \"Cospectra(w'q')\", \"type\": \"quantitative\"}}, \"height\": 200, \"resolve\": {\"scale\": {\"y\": \"independent\"}}, \"width\": 300}], \"resolve\": {\"scale\": {\"color\": \"independent\", \"shape\": \"independent\", \"strokeDash\": \"independent\", \"x\": \"shared\", \"y\": \"shared\"}}, \"$schema\": \"https://vega.github.io/schema/vega-lite/v5.17.0.json\"}, {\"mode\": \"vega-lite\"});\n",
       "</script>"
      ],
      "text/plain": [
       "alt.VConcatChart(...)"
      ]
     },
     "execution_count": 10,
     "metadata": {},
     "output_type": "execute_result"
    }
   ],
   "source": [
    "spectra_combo_plot = (\n",
    "    day_and_night_avg_spectra_tower_all_towers &\n",
    "    day_and_night_avg_spectra_tower_c_all_heights\n",
    ").configure_axis(grid=False).resolve_scale(\n",
    "    x='shared', y='shared', color='independent', strokeDash='independent', shape='independent'\n",
    ")\n",
    "spectra_combo_plot.save(\"../../figures/generalexam_daily_averaged_spectra.png\", ppi=200)\n",
    "spectra_combo_plot"
   ]
  },
  {
   "cell_type": "code",
   "execution_count": null,
   "metadata": {},
   "outputs": [],
   "source": [
    "df_momentum_day_binned = df_momentum_day.compute()\n",
    "df_momentum_day_binned['frequency _binned'] = df_momentum_day_binned.groupby('date')['frequency'].transform(\n",
    "    lambda x: pd.cut(x, bins = np.logspace(-4, -1, 100))\n",
    ")\n",
    "df_momentum_day_binned = df_momentum_day_binned.dropna()\n",
    "df_momentum_day_binned = df_momentum_day_binned.groupby(\n",
    "    ['tower', 'height', 'frequency_binned']\n",
    ")[\n",
    "    ['cospectrum', 'quadrature spectrum']\n",
    "].mean().reset_index()\n",
    "df_momentum_day_binned['frequency_binned'] = df_momentum_day_binned['frequency_binned'].apply(\n",
    "    lambda split: 0.5*(split.left + split.right)\n",
    ").astype(float)"
   ]
  },
  {
   "cell_type": "code",
   "execution_count": null,
   "metadata": {},
   "outputs": [],
   "source": [
    "alt.Chart(\n",
    "    df_momentum_day_binned.query(\"frequency_binned > 0.0009\").query(\"tower == 'c'\")\n",
    ").mark_circle().encode(\n",
    "    alt.X(\"frequency_binned:Q\").scale(type='log'),\n",
    "    alt.Y(\"cospectrum:Q\").scale(type='linear'),\n",
    "    alt.Color(\"height:O\").scale(scheme='turbo'),\n",
    ").properties(width=500)"
   ]
  },
  {
   "cell_type": "code",
   "execution_count": null,
   "metadata": {},
   "outputs": [],
   "source": [
    "alt.Chart(\n",
    "    df_momentum_day_binned.query(\"frequency_binned > 0.0009\").query(\"tower == 'c'\")\n",
    ").transform_calculate(\n",
    "    abs = \"abs(datum.cospectrum)\"\n",
    ").transform_filter(\n",
    "    alt.datum.abs > 0\n",
    ").mark_circle().encode(\n",
    "    alt.X(\"frequency_binned:Q\").scale(type='log'),\n",
    "    alt.Y(\"abs:Q\").scale(type='linear'),\n",
    "    alt.Color(\"height:O\").scale(scheme='turbo'),\n",
    ").properties(width=500)"
   ]
  },
  {
   "cell_type": "code",
   "execution_count": null,
   "metadata": {},
   "outputs": [],
   "source": [
    "alt.Chart(\n",
    "    df_momentum_day_binned.query(\"frequency_binned > 0.0009\").query(\"tower == 'c'\")\n",
    ").mark_circle().encode(\n",
    "    alt.X(\"frequency_binned:Q\").scale(type='log'),\n",
    "    alt.Y(\"cospectrum:Q\").scale(type='symlog'),\n",
    "    alt.Color(\"height:O\").scale(scheme='turbo'),\n",
    ").properties(width=500)"
   ]
  },
  {
   "cell_type": "code",
   "execution_count": null,
   "metadata": {},
   "outputs": [],
   "source": [
    "alt.Chart(\n",
    "    df_momentum_day_binned.query(\"frequency_binned > 0.0009\").query(\"tower == 'c'\")\n",
    ").mark_circle().encode(\n",
    "    alt.X(\"frequency_binned:Q\").scale(type='log'),\n",
    "    alt.Y(\"quadrature spectrum:Q\").scale(type='symlog'),\n",
    "    alt.Color(\"height:O\").scale(scheme='turbo'),\n",
    ").properties(width=500)"
   ]
  },
  {
   "cell_type": "markdown",
   "metadata": {},
   "source": [
    "# Identify times we want to analyze using sos surface measurements"
   ]
  },
  {
   "cell_type": "code",
   "execution_count": null,
   "metadata": {},
   "outputs": [],
   "source": [
    "# bs_times = tidy_df.query(\"variable == 'SF_avg_ue'\").query(\"value > 0\").time\n",
    "# nobs_times = tidy_df.query(\"variable == 'SF_avg_ue'\").query(\"value == 0\").time\n",
    "\n",
    "# decoupled_times = tidy_df.query(\"variable == 'omega_3m_c'\").query(\"value < 0.43\").time\n",
    "# weaklycoupled_times = tidy_df.query(\"variable == 'omega_3m_c'\").query(\"value >= 0.43\").query(\"value <= 0.61\").time\n",
    "# coupled_times = tidy_df.query(\"variable == 'omega_3m_c'\").query(\"value > 0.61\").time\n",
    "\n",
    "# ri_stable_times = tidy_df.query(\"variable == 'Ri_3m_c'\").query(\"value > 0.25\").time\n",
    "# ri_unstable_times = tidy_df.query(\"variable == 'Ri_3m_c'\").query(\"value < -0.01\").time\n",
    "# ri_neutral_times = tidy_df.query(\"variable == 'Ri_3m_c'\").query(\"value >= -0.01\").query(\"value <= 0.25\").time\n",
    "\n",
    "# tgrad_stable_times = tidy_df.query(\"variable == 'temp_gradient_3m_c'\").query(\"value > 0.01\").time\n",
    "# tgrad_unstable_times = tidy_df.query(\"variable == 'temp_gradient_3m_c'\").query(\"value < -0.01\").time\n",
    "# tgrad_neutral_times = tidy_df.query(\"variable == 'temp_gradient_3m_c'\").query(\"value >= -0.01\").query(\"value <= 0.01\").time"
   ]
  },
  {
   "cell_type": "markdown",
   "metadata": {},
   "source": [
    "### Open dataset, divide into daytime/nighttime, and group by stability conditions"
   ]
  },
  {
   "cell_type": "code",
   "execution_count": null,
   "metadata": {},
   "outputs": [],
   "source": [
    "start_date = '20221130'\n",
    "end_date = '20230509'\n",
    "# open files\n",
    "tidy_df = pd.read_parquet(f'tidy_df_{start_date}_{end_date}_noplanar_fit_clean.parquet')\n",
    "tidy_df_unclean = pd.read_parquet(f'tidy_df_{start_date}_{end_date}_noplanar_fit.parquet')\n",
    "\n",
    "# convert time column to datetime\n",
    "tidy_df['time'] = pd.to_datetime(tidy_df['time'])\n",
    "tidy_df_unclean['time'] = pd.to_datetime(tidy_df_unclean['time'])\n",
    "\n",
    "tidy_df = utils.modify_df_timezone(tidy_df, 'UTC', 'US/Mountain')\n",
    "tidy_df_unclean = utils.modify_df_timezone(tidy_df_unclean, 'UTC', 'US/Mountain')"
   ]
  },
  {
   "cell_type": "code",
   "execution_count": null,
   "metadata": {},
   "outputs": [],
   "source": [
    "daytime_tidy_df = tidy_df[tidy_df.time.dt.hour.isin([9,10,11,12,13,14,15,16,17])]\n",
    "nighttime_tidy_df = tidy_df[tidy_df.time.dt.hour.isin([19,20,21,22,23,0,1,2,3,4,5])]"
   ]
  },
  {
   "cell_type": "code",
   "execution_count": null,
   "metadata": {},
   "outputs": [],
   "source": [
    "daytime_daily_min_tempgrad = daytime_tidy_df.query(\"variable == 'temp_gradient_3m_c'\").set_index('time').groupby(\n",
    "    pd.Grouper(freq='1440Min')\n",
    ")[['value']].min()\n",
    "days_list_unstable =    daytime_daily_min_tempgrad.query(\"value < -0.001\").reset_index().time.dt.strftime('%Y%m%d')\n",
    "days_list_neutral =     daytime_daily_min_tempgrad.query(\"value >= -0.001\").query(\"value <= 0.01\").reset_index().time.dt.strftime('%Y%m%d')\n",
    "days_list_stable =      daytime_daily_min_tempgrad.query(\"value > 0.01\").reset_index().time.dt.strftime('%Y%m%d')"
   ]
  },
  {
   "cell_type": "code",
   "execution_count": null,
   "metadata": {},
   "outputs": [],
   "source": [
    "# bs_times = tidy_df.query(\"variable == 'SF_avg_ue'\").query(\"value > 0\").time\n",
    "daytime_daily_max_bsflux = daytime_tidy_df.query(\"variable == 'SF_avg_ue'\").set_index('time').groupby(\n",
    "    pd.Grouper(freq='1440Min')\n",
    ")[['value']].max()\n",
    "\n",
    "days_list_nobs = daytime_daily_max_bsflux.query(\"value == 0\").reset_index().time.dt.strftime('%Y%m%d')"
   ]
  },
  {
   "cell_type": "code",
   "execution_count": null,
   "metadata": {},
   "outputs": [],
   "source": [
    "len(days_list_unstable), len(days_list_neutral), len(days_list_stable)"
   ]
  },
  {
   "cell_type": "code",
   "execution_count": null,
   "metadata": {},
   "outputs": [],
   "source": [
    "df_momentum_day"
   ]
  },
  {
   "cell_type": "code",
   "execution_count": null,
   "metadata": {},
   "outputs": [],
   "source": [
    "# create dataset for momentum covariance, averaged across unstable days\n",
    "df_momentum_day_binned_unstable = df_momentum_day[df_momentum_day.date.isin(days_list_unstable) & df_momentum_day.date.isin(days_list_nobs)]\n",
    "df_momentum_day_binned_unstable = df_momentum_day_binned_unstable.compute()\n",
    "df_momentum_day_binned_unstable['frequency_binned'] = df_momentum_day_binned_unstable.groupby('date')['frequency'].transform(\n",
    "    lambda x: pd.cut(x, bins = np.logspace(-4, -1, 100))\n",
    ")\n",
    "df_momentum_day_binned_unstable = df_momentum_day_binned_unstable.dropna()\n",
    "df_momentum_day_binned_unstable['frequency_binned'] = df_momentum_day_binned_unstable['frequency_binned'].apply(\n",
    "    lambda split: 0.5*(split.left + split.right)\n",
    ").astype(float)\n",
    "df_momentum_day_binned_unstable = df_momentum_day_binned_unstable.groupby(\n",
    "    ['tower', 'height', 'frequency_binned']\n",
    ")[\n",
    "    ['cospectrum', 'quadrature spectrum']\n",
    "].mean().reset_index()\n",
    "\n",
    "# create dataset for momentum covariance, averaged across stable days\n",
    "df_momentum_day_binned_stable = df_momentum_day[df_momentum_day.date.isin(days_list_stable) & df_momentum_day.date.isin(days_list_nobs)]\n",
    "df_momentum_day_binned_stable = df_momentum_day_binned_stable.compute()\n",
    "df_momentum_day_binned_stable['frequency_binned'] = df_momentum_day_binned_stable.groupby('date')['frequency'].transform(\n",
    "    lambda x: pd.cut(x, bins = np.logspace(-4, -1, 100))\n",
    ")\n",
    "df_momentum_day_binned_stable = df_momentum_day_binned_stable.dropna()\n",
    "df_momentum_day_binned_stable['frequency_binned'] = df_momentum_day_binned_stable['frequency_binned'].apply(\n",
    "    lambda split: 0.5*(split.left + split.right)\n",
    ").astype(float)\n",
    "df_momentum_day_binned_stable = df_momentum_day_binned_stable.groupby(\n",
    "    ['tower', 'height', 'frequency_binned']\n",
    ")[\n",
    "    ['cospectrum', 'quadrature spectrum']\n",
    "].mean().reset_index()\n",
    "\n",
    "# create dataset for momentum covariance, averaged across neutral days\n",
    "df_momentum_day_binned_neutral = df_momentum_day[df_momentum_day.date.isin(days_list_neutral) & df_momentum_day.date.isin(days_list_nobs)]\n",
    "df_momentum_day_binned_neutral = df_momentum_day_binned_neutral.compute()\n",
    "df_momentum_day_binned_neutral['frequency_binned'] = df_momentum_day_binned_neutral.groupby('date')['frequency'].transform(\n",
    "    lambda x: pd.cut(x, bins = np.logspace(-4, -1, 100))\n",
    ")\n",
    "df_momentum_day_binned_neutral = df_momentum_day_binned_neutral.dropna()\n",
    "df_momentum_day_binned_neutral['frequency_binned'] = df_momentum_day_binned_neutral['frequency_binned'].apply(\n",
    "    lambda split: 0.5*(split.left + split.right)\n",
    ").astype(float)\n",
    "df_momentum_day_binned_neutral = df_momentum_day_binned_neutral.groupby(\n",
    "    ['tower', 'height', 'frequency_binned']\n",
    ")[\n",
    "    ['cospectrum', 'quadrature spectrum']\n",
    "].mean().reset_index()"
   ]
  },
  {
   "cell_type": "code",
   "execution_count": null,
   "metadata": {},
   "outputs": [],
   "source": [
    "daily_averaged_spectra = (\n",
    "    alt.Chart(\n",
    "        df_momentum_day_binned_stable.query(\"frequency_binned > 0.0009\").query(\"tower == 'c'\").query(\"height > 2\")\n",
    "    ).mark_circle().encode(\n",
    "        alt.X(\"frequency_binned:Q\").scale(type='log').title(\"frequency (hz)\"),\n",
    "        alt.Y(\"cospectrum:Q\").scale(type='linear').scale(domain=[-0.5, 0.5], clamp=True).title(\"Cospectra(w'q')\"),\n",
    "        alt.Color(\"height:O\").scale(scheme='turbo'),\n",
    "    ).properties(width=300, height=200, title='Stable') | alt.Chart(\n",
    "        df_momentum_day_binned_neutral.query(\"frequency_binned > 0.0009\").query(\"tower == 'c'\").query(\"height > 2\")\n",
    "    ).mark_circle().encode(\n",
    "        alt.X(\"frequency_binned:Q\").scale(type='log').title(\"frequency (hz)\"),\n",
    "        alt.Y(\"cospectrum:Q\").scale(type='linear').scale(domain=[-0.5, 0.5], clamp=True).title(\"Cospectra(w'q')\"),\n",
    "        alt.Color(\"height:O\").scale(scheme='turbo'),\n",
    "    ).properties(width=300, height=200, title='Neutral') | alt.Chart(\n",
    "        df_momentum_day_binned_unstable.query(\"frequency_binned > 0.0009\").query(\"tower == 'c'\").query(\"height > 2\")\n",
    "    ).mark_circle().encode(\n",
    "        alt.X(\"frequency_binned:Q\").scale(type='log').title(\"frequency (hz)\"),\n",
    "        alt.Y(\"cospectrum:Q\").scale(type='linear').scale(domain=[-0.5, 0.5], clamp=True).title(\"Cospectra(w'q')\"),\n",
    "        alt.Color(\"height:O\").scale(scheme='turbo'),\n",
    "    ).properties(width=300, height=200, title='Unstable')\n",
    ").resolve_scale(x='shared', y='shared')\n",
    "\n",
    "daily_averaged_spectra"
   ]
  },
  {
   "cell_type": "code",
   "execution_count": null,
   "metadata": {},
   "outputs": [],
   "source": [
    "(\n",
    "    alt.Chart(\n",
    "        df_momentum_day_binned_stable.query(\"frequency_binned > 0.0009\").query(\"tower == 'c'\").query(\"height > 2\")\n",
    "    ).transform_calculate(\n",
    "        abs = 'abs(datum.cospectrum)'\n",
    "    ).mark_circle().encode(\n",
    "        alt.X(\"frequency_binned:Q\").scale(type='log').title(\"frequency (hz)\"),\n",
    "        alt.Y(\"abs:Q\").scale(type='linear'),\n",
    "        alt.Color(\"height:O\").scale(scheme='turbo'),\n",
    "    ).properties(width=300, height=200, title='Stable') | alt.Chart(\n",
    "        df_momentum_day_binned_neutral.query(\"frequency_binned > 0.0009\").query(\"tower == 'c'\").query(\"height > 2\")\n",
    "    ).transform_calculate(\n",
    "        abs = 'abs(datum.cospectrum)'\n",
    "    ).mark_circle().encode(\n",
    "        alt.X(\"frequency_binned:Q\").scale(type='log').title(\"frequency (hz)\"),\n",
    "        alt.Y(\"abs:Q\").scale(type='linear'),\n",
    "        alt.Color(\"height:O\").scale(scheme='turbo'),\n",
    "    ).properties(width=300, height=200, title='Neutral') | alt.Chart(\n",
    "        df_momentum_day_binned_unstable.query(\"frequency_binned > 0.0009\").query(\"tower == 'c'\").query(\"height > 2\")\n",
    "    ).transform_calculate(\n",
    "        abs = 'abs(datum.cospectrum)'\n",
    "    ).mark_circle().encode(\n",
    "        alt.X(\"frequency_binned:Q\").scale(type='log').title(\"frequency (hz)\"),\n",
    "        alt.Y(\"abs:Q\").scale(type='linear'),\n",
    "        alt.Color(\"height:O\").scale(scheme='turbo'),\n",
    "    ).properties(width=300, height=200, title='Unstable')\n",
    ").resolve_scale(x='shared', y='shared')"
   ]
  },
  {
   "cell_type": "code",
   "execution_count": null,
   "metadata": {},
   "outputs": [],
   "source": []
  }
 ],
 "metadata": {
  "kernelspec": {
   "display_name": "arm",
   "language": "python",
   "name": "python3"
  },
  "language_info": {
   "codemirror_mode": {
    "name": "ipython",
    "version": 3
   },
   "file_extension": ".py",
   "mimetype": "text/x-python",
   "name": "python",
   "nbconvert_exporter": "python",
   "pygments_lexer": "ipython3",
   "version": "3.12.1"
  },
  "orig_nbformat": 4,
  "vscode": {
   "interpreter": {
    "hash": "e2b11a00ad1b97cabcd9cc9209b8824a0fcaf6ffe37b5243943912873b5dcab1"
   }
  }
 },
 "nbformat": 4,
 "nbformat_minor": 2
}
