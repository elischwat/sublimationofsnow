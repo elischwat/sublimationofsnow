{
 "cells": [
  {
   "cell_type": "code",
   "execution_count": null,
   "metadata": {},
   "outputs": [],
   "source": [
    "import numpy as np\n",
    "import xarray as xr\n",
    "\n",
    "import datetime as dt\n",
    "import pandas as pd\n",
    "\n",
    "import matplotlib.pyplot as plt\n",
    "\n",
    "import altair as alt\n",
    "alt.data_transformers.enable('json')\n",
    "\n",
    "from sublimpy import utils\n",
    "import glob\n",
    "import pytz\n",
    "from scipy.signal import welch, csd\n",
    "from scipy.stats import chi2"
   ]
  },
  {
   "cell_type": "code",
   "execution_count": null,
   "metadata": {},
   "outputs": [],
   "source": [
    "df_momentum_night = pd.read_parquet(\"/Users/elischwat/Development/data/sublimationofsnow/spectra/0900_1700/latent_heat/\")\n",
    "df_momentum_day = pd.read_parquet(\"/Users/elischwat/Development/data/sublimationofsnow/spectra/1900_0500/latent_heat/\")"
   ]
  },
  {
   "cell_type": "code",
   "execution_count": null,
   "metadata": {},
   "outputs": [],
   "source": [
    "df_momentum_night.head(3)"
   ]
  },
  {
   "cell_type": "code",
   "execution_count": null,
   "metadata": {},
   "outputs": [],
   "source": [
    "df_momentum_day.head(3)"
   ]
  },
  {
   "cell_type": "code",
   "execution_count": null,
   "metadata": {},
   "outputs": [],
   "source": [
    "alt.Chart(\n",
    "    df_momentum_day.query(\"frequency < 0.01\").query(\"frequency > 0\").query(\"tower == 'c'\")\n",
    ").mark_boxplot(\n",
    "    outliers=False\n",
    ").encode(\n",
    "    alt.X(\"frequency:Q\").scale(type='symlog'),\n",
    "    alt.Y(\"cospectrum:Q\").scale(type='symlog'),\n",
    "    alt.Facet(\"height:O\", columns=1)\n",
    ").properties(width=600, height = 200) | \\\n",
    "alt.Chart(\n",
    "    df_momentum_night.query(\"frequency < 0.01\").query(\"frequency > 0\").query(\"tower == 'c'\")\n",
    ").mark_boxplot(\n",
    "    outliers=False\n",
    ").encode(\n",
    "    alt.X(\"frequency:Q\").scale(type='symlog'),\n",
    "    alt.Y(\"cospectrum:Q\").scale(type='symlog'),\n",
    "    alt.Facet(\"height:O\", columns=1)\n",
    ").properties(width=600, height = 200)"
   ]
  },
  {
   "cell_type": "code",
   "execution_count": null,
   "metadata": {},
   "outputs": [],
   "source": [
    "(\n",
    "    alt.Chart(\n",
    "        df_momentum_day.query(\"frequency < 0.1\").query(\"frequency > 0\").query(\"tower == 'c'\")\n",
    "    ).mark_line().encode(\n",
    "        alt.X(\"frequency:Q\").scale(type='log'),\n",
    "        alt.Y(\"mean(cospectrum):Q\").scale(type='symlog'),\n",
    "        alt.Color(\"height:O\").scale(scheme='turbo')\n",
    "    ).properties(width=600, height = 200) &\\\n",
    "    alt.Chart(\n",
    "        df_momentum_night.query(\"frequency < 0.01\").query(\"frequency > 0\").query(\"tower == 'c'\")\n",
    "    ).mark_line().encode(\n",
    "        alt.X(\"frequency:Q\").scale(type='log'),\n",
    "        alt.Y(\"mean(cospectrum):Q\").scale(type='symlog'),\n",
    "        alt.Color(\"height:O\").scale(scheme='turbo')\n",
    "    ).properties(width=600, height = 200)\n",
    ").configure_axis(grid=False)"
   ]
  },
  {
   "cell_type": "code",
   "execution_count": null,
   "metadata": {},
   "outputs": [],
   "source": []
  },
  {
   "cell_type": "code",
   "execution_count": 130,
   "metadata": {},
   "outputs": [
    {
     "name": "stderr",
     "output_type": "stream",
     "text": [
      "/var/folders/x_/2h52bcjx2px15bhmdpdd748h0000gn/T/ipykernel_52135/1090670150.py:6: FutureWarning: The default of observed=False is deprecated and will be changed to True in a future version of pandas. Pass observed=False to retain current behavior or observed=True to adopt the future default and silence this warning.\n",
      "  df_momentum_day_binned = df_momentum_day_binned.groupby(['tower', 'height', 'frequency_binned'])[['cospectrum']].mean().reset_index()\n"
     ]
    },
    {
     "data": {
      "text/html": [
       "\n",
       "<style>\n",
       "  #altair-viz-82b7296ae04641d9b8f478dfb04de0a3.vega-embed {\n",
       "    width: 100%;\n",
       "    display: flex;\n",
       "  }\n",
       "\n",
       "  #altair-viz-82b7296ae04641d9b8f478dfb04de0a3.vega-embed details,\n",
       "  #altair-viz-82b7296ae04641d9b8f478dfb04de0a3.vega-embed details summary {\n",
       "    position: relative;\n",
       "  }\n",
       "</style>\n",
       "<div id=\"altair-viz-82b7296ae04641d9b8f478dfb04de0a3\"></div>\n",
       "<script type=\"text/javascript\">\n",
       "  var VEGA_DEBUG = (typeof VEGA_DEBUG == \"undefined\") ? {} : VEGA_DEBUG;\n",
       "  (function(spec, embedOpt){\n",
       "    let outputDiv = document.currentScript.previousElementSibling;\n",
       "    if (outputDiv.id !== \"altair-viz-82b7296ae04641d9b8f478dfb04de0a3\") {\n",
       "      outputDiv = document.getElementById(\"altair-viz-82b7296ae04641d9b8f478dfb04de0a3\");\n",
       "    }\n",
       "    const paths = {\n",
       "      \"vega\": \"https://cdn.jsdelivr.net/npm/vega@5?noext\",\n",
       "      \"vega-lib\": \"https://cdn.jsdelivr.net/npm/vega-lib?noext\",\n",
       "      \"vega-lite\": \"https://cdn.jsdelivr.net/npm/vega-lite@5.17.0?noext\",\n",
       "      \"vega-embed\": \"https://cdn.jsdelivr.net/npm/vega-embed@6?noext\",\n",
       "    };\n",
       "\n",
       "    function maybeLoadScript(lib, version) {\n",
       "      var key = `${lib.replace(\"-\", \"\")}_version`;\n",
       "      return (VEGA_DEBUG[key] == version) ?\n",
       "        Promise.resolve(paths[lib]) :\n",
       "        new Promise(function(resolve, reject) {\n",
       "          var s = document.createElement('script');\n",
       "          document.getElementsByTagName(\"head\")[0].appendChild(s);\n",
       "          s.async = true;\n",
       "          s.onload = () => {\n",
       "            VEGA_DEBUG[key] = version;\n",
       "            return resolve(paths[lib]);\n",
       "          };\n",
       "          s.onerror = () => reject(`Error loading script: ${paths[lib]}`);\n",
       "          s.src = paths[lib];\n",
       "        });\n",
       "    }\n",
       "\n",
       "    function showError(err) {\n",
       "      outputDiv.innerHTML = `<div class=\"error\" style=\"color:red;\">${err}</div>`;\n",
       "      throw err;\n",
       "    }\n",
       "\n",
       "    function displayChart(vegaEmbed) {\n",
       "      vegaEmbed(outputDiv, spec, embedOpt)\n",
       "        .catch(err => showError(`Javascript Error: ${err.message}<br>This usually means there's a typo in your chart specification. See the javascript console for the full traceback.`));\n",
       "    }\n",
       "\n",
       "    if(typeof define === \"function\" && define.amd) {\n",
       "      requirejs.config({paths});\n",
       "      require([\"vega-embed\"], displayChart, err => showError(`Error loading script: ${err.message}`));\n",
       "    } else {\n",
       "      maybeLoadScript(\"vega\", \"5\")\n",
       "        .then(() => maybeLoadScript(\"vega-lite\", \"5.17.0\"))\n",
       "        .then(() => maybeLoadScript(\"vega-embed\", \"6\"))\n",
       "        .catch(showError)\n",
       "        .then(() => displayChart(vegaEmbed));\n",
       "    }\n",
       "  })({\"config\": {\"view\": {\"continuousWidth\": 300, \"continuousHeight\": 300}}, \"data\": {\"url\": \"altair-data-32b88c51367227d6465bc4d60e233ce6.json\", \"format\": {\"type\": \"json\"}}, \"mark\": {\"type\": \"circle\"}, \"encoding\": {\"color\": {\"field\": \"height\", \"scale\": {\"scheme\": \"turbo\"}, \"type\": \"ordinal\"}, \"x\": {\"field\": \"frequency_binned\", \"scale\": {\"type\": \"log\"}, \"type\": \"quantitative\"}, \"y\": {\"field\": \"cospectrum\", \"scale\": {\"type\": \"symlog\"}, \"type\": \"quantitative\"}}, \"width\": 500, \"$schema\": \"https://vega.github.io/schema/vega-lite/v5.17.0.json\"}, {\"mode\": \"vega-lite\"});\n",
       "</script>"
      ],
      "text/plain": [
       "alt.Chart(...)"
      ]
     },
     "execution_count": 130,
     "metadata": {},
     "output_type": "execute_result"
    }
   ],
   "source": [
    "df_momentum_day_binned = df_momentum_day.copy(deep=True)\n",
    "df_momentum_day_binned['frequency_binned'] = df_momentum_day_binned.groupby('date')[['frequency']].transform(\n",
    "    lambda x: pd.cut(x, bins = np.logspace(-4, -1, 100))\n",
    ")\n",
    "df_momentum_day_binned = df_momentum_day_binned.dropna()\n",
    "df_momentum_day_binned = df_momentum_day_binned.groupby(['tower', 'height', 'frequency_binned'])[['cospectrum']].mean().reset_index()\n",
    "df_momentum_day_binned['frequency_binned'] = df_momentum_day_binned['frequency_binned'].apply(\n",
    "    lambda split: 0.5*(split.left + split.right)\n",
    ").astype(float)\n",
    "\n",
    "alt.Chart(\n",
    "    df_momentum_day_binned.query(\"frequency_binned > 0.0009\").query(\"tower == 'c'\")\n",
    ").mark_circle().encode(\n",
    "    alt.X(\"frequency_binned:Q\").scale(type='log'),\n",
    "    alt.Y(\"cospectrum:Q\").scale(type='symlog'),\n",
    "    alt.Color(\"height:O\").scale(scheme='turbo'),\n",
    ").properties(width=500)"
   ]
  },
  {
   "cell_type": "code",
   "execution_count": 132,
   "metadata": {},
   "outputs": [
    {
     "name": "stderr",
     "output_type": "stream",
     "text": [
      "/var/folders/x_/2h52bcjx2px15bhmdpdd748h0000gn/T/ipykernel_52135/648188133.py:7: FutureWarning: The default of observed=False is deprecated and will be changed to True in a future version of pandas. Pass observed=False to retain current behavior or observed=True to adopt the future default and silence this warning.\n",
      "  df_momentum_day_binned = df_momentum_day_binned.groupby(['tower', 'height', 'frequency_binned'])[['cospectrum']].mean().reset_index()\n"
     ]
    },
    {
     "data": {
      "text/html": [
       "\n",
       "<style>\n",
       "  #altair-viz-424963e7e5d94025b55bf4cded88b20c.vega-embed {\n",
       "    width: 100%;\n",
       "    display: flex;\n",
       "  }\n",
       "\n",
       "  #altair-viz-424963e7e5d94025b55bf4cded88b20c.vega-embed details,\n",
       "  #altair-viz-424963e7e5d94025b55bf4cded88b20c.vega-embed details summary {\n",
       "    position: relative;\n",
       "  }\n",
       "</style>\n",
       "<div id=\"altair-viz-424963e7e5d94025b55bf4cded88b20c\"></div>\n",
       "<script type=\"text/javascript\">\n",
       "  var VEGA_DEBUG = (typeof VEGA_DEBUG == \"undefined\") ? {} : VEGA_DEBUG;\n",
       "  (function(spec, embedOpt){\n",
       "    let outputDiv = document.currentScript.previousElementSibling;\n",
       "    if (outputDiv.id !== \"altair-viz-424963e7e5d94025b55bf4cded88b20c\") {\n",
       "      outputDiv = document.getElementById(\"altair-viz-424963e7e5d94025b55bf4cded88b20c\");\n",
       "    }\n",
       "    const paths = {\n",
       "      \"vega\": \"https://cdn.jsdelivr.net/npm/vega@5?noext\",\n",
       "      \"vega-lib\": \"https://cdn.jsdelivr.net/npm/vega-lib?noext\",\n",
       "      \"vega-lite\": \"https://cdn.jsdelivr.net/npm/vega-lite@5.17.0?noext\",\n",
       "      \"vega-embed\": \"https://cdn.jsdelivr.net/npm/vega-embed@6?noext\",\n",
       "    };\n",
       "\n",
       "    function maybeLoadScript(lib, version) {\n",
       "      var key = `${lib.replace(\"-\", \"\")}_version`;\n",
       "      return (VEGA_DEBUG[key] == version) ?\n",
       "        Promise.resolve(paths[lib]) :\n",
       "        new Promise(function(resolve, reject) {\n",
       "          var s = document.createElement('script');\n",
       "          document.getElementsByTagName(\"head\")[0].appendChild(s);\n",
       "          s.async = true;\n",
       "          s.onload = () => {\n",
       "            VEGA_DEBUG[key] = version;\n",
       "            return resolve(paths[lib]);\n",
       "          };\n",
       "          s.onerror = () => reject(`Error loading script: ${paths[lib]}`);\n",
       "          s.src = paths[lib];\n",
       "        });\n",
       "    }\n",
       "\n",
       "    function showError(err) {\n",
       "      outputDiv.innerHTML = `<div class=\"error\" style=\"color:red;\">${err}</div>`;\n",
       "      throw err;\n",
       "    }\n",
       "\n",
       "    function displayChart(vegaEmbed) {\n",
       "      vegaEmbed(outputDiv, spec, embedOpt)\n",
       "        .catch(err => showError(`Javascript Error: ${err.message}<br>This usually means there's a typo in your chart specification. See the javascript console for the full traceback.`));\n",
       "    }\n",
       "\n",
       "    if(typeof define === \"function\" && define.amd) {\n",
       "      requirejs.config({paths});\n",
       "      require([\"vega-embed\"], displayChart, err => showError(`Error loading script: ${err.message}`));\n",
       "    } else {\n",
       "      maybeLoadScript(\"vega\", \"5\")\n",
       "        .then(() => maybeLoadScript(\"vega-lite\", \"5.17.0\"))\n",
       "        .then(() => maybeLoadScript(\"vega-embed\", \"6\"))\n",
       "        .catch(showError)\n",
       "        .then(() => displayChart(vegaEmbed));\n",
       "    }\n",
       "  })({\"config\": {\"view\": {\"continuousWidth\": 300, \"continuousHeight\": 300}}, \"data\": {\"url\": \"altair-data-871c9e44d958dce8a919585a097202cc.json\", \"format\": {\"type\": \"json\"}}, \"mark\": {\"type\": \"circle\"}, \"encoding\": {\"color\": {\"field\": \"height\", \"scale\": {\"scheme\": \"turbo\"}, \"type\": \"ordinal\"}, \"x\": {\"field\": \"frequency_binned\", \"scale\": {\"type\": \"log\"}, \"type\": \"quantitative\"}, \"y\": {\"field\": \"cospectrum\", \"scale\": {\"type\": \"symlog\"}, \"type\": \"quantitative\"}}, \"width\": 500, \"$schema\": \"https://vega.github.io/schema/vega-lite/v5.17.0.json\"}, {\"mode\": \"vega-lite\"});\n",
       "</script>"
      ],
      "text/plain": [
       "alt.Chart(...)"
      ]
     },
     "execution_count": 132,
     "metadata": {},
     "output_type": "execute_result"
    }
   ],
   "source": [
    "df_momentum_day_binned = df_momentum_day.copy(deep=True)\n",
    "df_momentum_day_binned = df_momentum_day_binned[df_momentum_day_binned.date < '20230326']\n",
    "df_momentum_day_binned['frequency_binned'] = df_momentum_day_binned.groupby('date')[['frequency']].transform(\n",
    "    lambda x: pd.cut(x, bins = np.logspace(-4, -1, 100))\n",
    ")\n",
    "df_momentum_day_binned = df_momentum_day_binned.dropna()\n",
    "df_momentum_day_binned = df_momentum_day_binned.groupby(['tower', 'height', 'frequency_binned'])[['cospectrum']].mean().reset_index()\n",
    "df_momentum_day_binned['frequency_binned'] = df_momentum_day_binned['frequency_binned'].apply(\n",
    "    lambda split: 0.5*(split.left + split.right)\n",
    ").astype(float)\n",
    "\n",
    "alt.Chart(\n",
    "    df_momentum_day_binned.query(\"frequency_binned > 0.0009\").query(\"tower == 'c'\")\n",
    ").mark_circle().encode(\n",
    "    alt.X(\"frequency_binned:Q\").scale(type='log'),\n",
    "    alt.Y(\"cospectrum:Q\").scale(type='symlog'),\n",
    "    alt.Color(\"height:O\").scale(scheme='turbo'),\n",
    ").properties(width=500)"
   ]
  },
  {
   "cell_type": "code",
   "execution_count": 133,
   "metadata": {},
   "outputs": [
    {
     "name": "stderr",
     "output_type": "stream",
     "text": [
      "/var/folders/x_/2h52bcjx2px15bhmdpdd748h0000gn/T/ipykernel_52135/3673408489.py:7: FutureWarning: The default of observed=False is deprecated and will be changed to True in a future version of pandas. Pass observed=False to retain current behavior or observed=True to adopt the future default and silence this warning.\n",
      "  df_momentum_day_binned = df_momentum_day_binned.groupby(['tower', 'height', 'frequency_binned'])[['cospectrum']].mean().reset_index()\n"
     ]
    },
    {
     "data": {
      "text/html": [
       "\n",
       "<style>\n",
       "  #altair-viz-b91abf45b6054b02b02b10daaef82fd9.vega-embed {\n",
       "    width: 100%;\n",
       "    display: flex;\n",
       "  }\n",
       "\n",
       "  #altair-viz-b91abf45b6054b02b02b10daaef82fd9.vega-embed details,\n",
       "  #altair-viz-b91abf45b6054b02b02b10daaef82fd9.vega-embed details summary {\n",
       "    position: relative;\n",
       "  }\n",
       "</style>\n",
       "<div id=\"altair-viz-b91abf45b6054b02b02b10daaef82fd9\"></div>\n",
       "<script type=\"text/javascript\">\n",
       "  var VEGA_DEBUG = (typeof VEGA_DEBUG == \"undefined\") ? {} : VEGA_DEBUG;\n",
       "  (function(spec, embedOpt){\n",
       "    let outputDiv = document.currentScript.previousElementSibling;\n",
       "    if (outputDiv.id !== \"altair-viz-b91abf45b6054b02b02b10daaef82fd9\") {\n",
       "      outputDiv = document.getElementById(\"altair-viz-b91abf45b6054b02b02b10daaef82fd9\");\n",
       "    }\n",
       "    const paths = {\n",
       "      \"vega\": \"https://cdn.jsdelivr.net/npm/vega@5?noext\",\n",
       "      \"vega-lib\": \"https://cdn.jsdelivr.net/npm/vega-lib?noext\",\n",
       "      \"vega-lite\": \"https://cdn.jsdelivr.net/npm/vega-lite@5.17.0?noext\",\n",
       "      \"vega-embed\": \"https://cdn.jsdelivr.net/npm/vega-embed@6?noext\",\n",
       "    };\n",
       "\n",
       "    function maybeLoadScript(lib, version) {\n",
       "      var key = `${lib.replace(\"-\", \"\")}_version`;\n",
       "      return (VEGA_DEBUG[key] == version) ?\n",
       "        Promise.resolve(paths[lib]) :\n",
       "        new Promise(function(resolve, reject) {\n",
       "          var s = document.createElement('script');\n",
       "          document.getElementsByTagName(\"head\")[0].appendChild(s);\n",
       "          s.async = true;\n",
       "          s.onload = () => {\n",
       "            VEGA_DEBUG[key] = version;\n",
       "            return resolve(paths[lib]);\n",
       "          };\n",
       "          s.onerror = () => reject(`Error loading script: ${paths[lib]}`);\n",
       "          s.src = paths[lib];\n",
       "        });\n",
       "    }\n",
       "\n",
       "    function showError(err) {\n",
       "      outputDiv.innerHTML = `<div class=\"error\" style=\"color:red;\">${err}</div>`;\n",
       "      throw err;\n",
       "    }\n",
       "\n",
       "    function displayChart(vegaEmbed) {\n",
       "      vegaEmbed(outputDiv, spec, embedOpt)\n",
       "        .catch(err => showError(`Javascript Error: ${err.message}<br>This usually means there's a typo in your chart specification. See the javascript console for the full traceback.`));\n",
       "    }\n",
       "\n",
       "    if(typeof define === \"function\" && define.amd) {\n",
       "      requirejs.config({paths});\n",
       "      require([\"vega-embed\"], displayChart, err => showError(`Error loading script: ${err.message}`));\n",
       "    } else {\n",
       "      maybeLoadScript(\"vega\", \"5\")\n",
       "        .then(() => maybeLoadScript(\"vega-lite\", \"5.17.0\"))\n",
       "        .then(() => maybeLoadScript(\"vega-embed\", \"6\"))\n",
       "        .catch(showError)\n",
       "        .then(() => displayChart(vegaEmbed));\n",
       "    }\n",
       "  })({\"config\": {\"view\": {\"continuousWidth\": 300, \"continuousHeight\": 300}}, \"data\": {\"url\": \"altair-data-9ae6cf6ac4bf87470ce5e8de2f009e3b.json\", \"format\": {\"type\": \"json\"}}, \"mark\": {\"type\": \"circle\"}, \"encoding\": {\"color\": {\"field\": \"height\", \"scale\": {\"scheme\": \"turbo\"}, \"type\": \"ordinal\"}, \"x\": {\"field\": \"frequency_binned\", \"scale\": {\"type\": \"log\"}, \"type\": \"quantitative\"}, \"y\": {\"field\": \"cospectrum\", \"scale\": {\"type\": \"symlog\"}, \"type\": \"quantitative\"}}, \"width\": 500, \"$schema\": \"https://vega.github.io/schema/vega-lite/v5.17.0.json\"}, {\"mode\": \"vega-lite\"});\n",
       "</script>"
      ],
      "text/plain": [
       "alt.Chart(...)"
      ]
     },
     "execution_count": 133,
     "metadata": {},
     "output_type": "execute_result"
    }
   ],
   "source": [
    "df_momentum_day_binned = df_momentum_day.copy(deep=True)\n",
    "df_momentum_day_binned = df_momentum_day_binned[df_momentum_day_binned.date >= '20230326']\n",
    "df_momentum_day_binned['frequency_binned'] = df_momentum_day_binned.groupby('date')[['frequency']].transform(\n",
    "    lambda x: pd.cut(x, bins = np.logspace(-4, -1, 100))\n",
    ")\n",
    "df_momentum_day_binned = df_momentum_day_binned.dropna()\n",
    "df_momentum_day_binned = df_momentum_day_binned.groupby(['tower', 'height', 'frequency_binned'])[['cospectrum']].mean().reset_index()\n",
    "df_momentum_day_binned['frequency_binned'] = df_momentum_day_binned['frequency_binned'].apply(\n",
    "    lambda split: 0.5*(split.left + split.right)\n",
    ").astype(float)\n",
    "\n",
    "alt.Chart(\n",
    "    df_momentum_day_binned.query(\"frequency_binned > 0.0009\").query(\"tower == 'c'\")\n",
    ").mark_circle().encode(\n",
    "    alt.X(\"frequency_binned:Q\").scale(type='log'),\n",
    "    alt.Y(\"cospectrum:Q\").scale(type='symlog'),\n",
    "    alt.Color(\"height:O\").scale(scheme='turbo'),\n",
    ").properties(width=500)"
   ]
  },
  {
   "cell_type": "code",
   "execution_count": null,
   "metadata": {},
   "outputs": [],
   "source": []
  }
 ],
 "metadata": {
  "kernelspec": {
   "display_name": "arm",
   "language": "python",
   "name": "python3"
  },
  "language_info": {
   "codemirror_mode": {
    "name": "ipython",
    "version": 3
   },
   "file_extension": ".py",
   "mimetype": "text/x-python",
   "name": "python",
   "nbconvert_exporter": "python",
   "pygments_lexer": "ipython3",
   "version": "3.12.1"
  },
  "orig_nbformat": 4,
  "vscode": {
   "interpreter": {
    "hash": "e2b11a00ad1b97cabcd9cc9209b8824a0fcaf6ffe37b5243943912873b5dcab1"
   }
  }
 },
 "nbformat": 4,
 "nbformat_minor": 2
}
