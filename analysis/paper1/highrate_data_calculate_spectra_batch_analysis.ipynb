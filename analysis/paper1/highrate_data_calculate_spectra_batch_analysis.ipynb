{
 "cells": [
  {
   "cell_type": "code",
   "execution_count": 22,
   "metadata": {},
   "outputs": [],
   "source": [
    "import numpy as np\n",
    "import xarray as xr\n",
    "\n",
    "import datetime as dt\n",
    "import pandas as pd\n",
    "\n",
    "import matplotlib.pyplot as plt\n",
    "\n",
    "import altair as alt\n",
    "# alt.data_transformers.enable('json')\n",
    "from sublimpy import utils\n",
    "\n",
    "import dask.dataframe as dd"
   ]
  },
  {
   "cell_type": "code",
   "execution_count": null,
   "metadata": {},
   "outputs": [],
   "source": [
    "df_momentum_night = dd.read_parquet(\"/Users/elischwat/Development/data/sublimationofsnow/spectra/0900_1700/latent_heat/\")\n",
    "df_momentum_day = dd.read_parquet(\"/Users/elischwat/Development/data/sublimationofsnow/spectra/1900_0500/latent_heat/\")"
   ]
  },
  {
   "cell_type": "code",
   "execution_count": null,
   "metadata": {},
   "outputs": [],
   "source": [
    "df_momentum_night = df_momentum_night[df_momentum_night.date >= '20221129'][df_momentum_night.date <= '20230509']\n",
    "df_momentum_day = df_momentum_day[df_momentum_day.date >= '20221129'][df_momentum_day.date <= '20230509']"
   ]
  },
  {
   "cell_type": "code",
   "execution_count": null,
   "metadata": {},
   "outputs": [],
   "source": [
    "src = pd.concat([\n",
    "    df_momentum_day.query(\"frequency < 0.1\").query(\"frequency >= 0.001\").query(\"tower == 'c'\").query(\"height > 2\").compute().assign(timeofday = 'Day time'),\n",
    "    df_momentum_night.query(\"frequency < 0.1\").query(\"frequency >= 0.001\").query(\"tower == 'c'\").query(\"height > 2\").compute().assign(timeofday = 'Night time')\n",
    "])\n",
    "src.frequency = pd.cut(src.frequency, np.logspace(-3,-1, 100)).apply(lambda interval: (interval.left + interval.right)/2).astype('float')\n",
    "src = src.groupby(['height', 'tower', 'timeofday', 'frequency'])[['cospectrum']].mean().reset_index()\n",
    "day_and_night_avg_spectra_tower_c_all_heights = alt.Chart(\n",
    "    src\n",
    ").mark_point().encode(\n",
    "    alt.X(\"frequency:Q\").scale(type='log').title(\"Frequency (Hz)\"),\n",
    "    alt.Y(\"mean(cospectrum):Q\").scale(type='linear').title(\"Cospectra(w'q')\"),\n",
    "    alt.Color(\"height:O\").scale(scheme='turbo'),\n",
    "    alt.Facet(\"timeofday:N\").title(None).header(labelFontSize=14, labelFontStyle='bold')\n",
    ").properties(width=300, height = 200).resolve_scale(y='independent')"
   ]
  },
  {
   "cell_type": "code",
   "execution_count": null,
   "metadata": {},
   "outputs": [],
   "source": [
    "src = df_momentum_day[df_momentum_day.height.isin([3,10])].query(\"frequency < 0.1\").query(\"frequency >= 0.001\").compute()\n",
    "df_momentum_day_agg = src.groupby(['frequency', 'height', 'tower'])[['cospectrum']].mean().reset_index()\n",
    "\n",
    "src = df_momentum_night[df_momentum_night.height.isin([3,10])].query(\"frequency < 0.1\").query(\"frequency >= 0.001\").compute()\n",
    "df_momentum_night_agg = src.groupby(['frequency', 'height', 'tower'])[['cospectrum']].mean().reset_index()\n",
    "\n",
    "src = pd.concat([\n",
    "    df_momentum_day_agg.assign(timeofday = 'Day time'),\n",
    "    df_momentum_night_agg.assign(timeofday = 'Night time')\n",
    "])\n",
    "\n",
    "day_and_night_avg_spectra_tower_all_towers = alt.Chart(\n",
    "    src\n",
    ").mark_line().encode(\n",
    "    alt.X(\"frequency:Q\").scale(type='log').title(\"Frequency (Hz)\"),\n",
    "    alt.Y(\"cospectrum:Q\").scale(type='linear').title(\"Cospectra(w'q')\"),\n",
    "    alt.StrokeDash(\"height:N\"),\n",
    "    alt.Color(\"tower:N\"),\n",
    "    alt.Facet(\"timeofday:N\").title(None).header(labelFontSize=14, labelFontStyle='bold')\n",
    ").properties(width=300, height = 200).resolve_scale(y='independent')"
   ]
  },
  {
   "cell_type": "code",
   "execution_count": 26,
   "metadata": {},
   "outputs": [
    {
     "data": {
      "application/vnd.vegalite.v5+json": {
       "$schema": "https://vega.github.io/schema/vega-lite/v5.17.0.json",
       "config": {
        "axis": {
         "grid": false
        },
        "view": {
         "continuousHeight": 300,
         "continuousWidth": 300
        }
       },
       "resolve": {
        "scale": {
         "color": "independent",
         "shape": "independent",
         "strokeDash": "independent",
         "x": "shared",
         "y": "shared"
        }
       },
       "vconcat": [
        {
         "data": {
          "format": {
           "type": "json"
          },
          "url": "altair-data-855e2b7eab62590651742c34e916ea0a.json"
         },
         "encoding": {
          "color": {
           "field": "tower",
           "type": "nominal"
          },
          "facet": {
           "field": "timeofday",
           "header": {
            "labelFontSize": 14,
            "labelFontStyle": "bold"
           },
           "title": null,
           "type": "nominal"
          },
          "strokeDash": {
           "field": "height",
           "type": "nominal"
          },
          "x": {
           "field": "frequency",
           "scale": {
            "type": "log"
           },
           "title": "Frequency (Hz)",
           "type": "quantitative"
          },
          "y": {
           "field": "cospectrum",
           "scale": {
            "type": "linear"
           },
           "title": "Cospectra(w'q')",
           "type": "quantitative"
          }
         },
         "height": 200,
         "mark": {
          "type": "line"
         },
         "resolve": {
          "scale": {
           "y": "independent"
          }
         },
         "width": 300
        },
        {
         "data": {
          "format": {
           "type": "json"
          },
          "url": "altair-data-357d00505c8a28c23b003b65549d06a3.json"
         },
         "encoding": {
          "color": {
           "field": "height",
           "scale": {
            "scheme": "turbo"
           },
           "type": "ordinal"
          },
          "facet": {
           "field": "timeofday",
           "header": {
            "labelFontSize": 14,
            "labelFontStyle": "bold"
           },
           "title": null,
           "type": "nominal"
          },
          "x": {
           "field": "frequency",
           "scale": {
            "type": "log"
           },
           "title": "Frequency (Hz)",
           "type": "quantitative"
          },
          "y": {
           "aggregate": "mean",
           "field": "cospectrum",
           "scale": {
            "type": "linear"
           },
           "title": "Cospectra(w'q')",
           "type": "quantitative"
          }
         },
         "height": 200,
         "mark": {
          "type": "point"
         },
         "resolve": {
          "scale": {
           "y": "independent"
          }
         },
         "width": 300
        }
       ]
      },
      "text/plain": [
       "<VegaLite 5 object>\n",
       "\n",
       "If you see this message, it means the renderer has not been properly enabled\n",
       "for the frontend that you are using. For more information, see\n",
       "https://altair-viz.github.io/user_guide/display_frontends.html#troubleshooting\n"
      ]
     },
     "execution_count": 26,
     "metadata": {},
     "output_type": "execute_result"
    }
   ],
   "source": [
    "spectra_combo_plot = (\n",
    "    day_and_night_avg_spectra_tower_all_towers &\n",
    "    day_and_night_avg_spectra_tower_c_all_heights\n",
    ").configure_axis(grid=False).resolve_scale(\n",
    "    x='shared', y='shared', color='independent', strokeDash='independent', shape='independent'\n",
    ")\n",
    "spectra_combo_plot.save(\"../../figures/generalexam_daily_averaged_spectra.png\", ppi=200)\n",
    "spectra_combo_plot"
   ]
  },
  {
   "cell_type": "code",
   "execution_count": 27,
   "metadata": {},
   "outputs": [
    {
     "data": {
      "application/vnd.vegalite.v5+json": {
       "$schema": "https://vega.github.io/schema/vega-lite/v5.17.0.json",
       "config": {
        "view": {
         "continuousHeight": 300,
         "continuousWidth": 300
        }
       },
       "data": {
        "format": {
         "type": "json"
        },
        "url": "altair-data-855e2b7eab62590651742c34e916ea0a.json"
       },
       "encoding": {
        "color": {
         "field": "tower",
         "type": "nominal"
        },
        "facet": {
         "field": "timeofday",
         "header": {
          "labelFontSize": 14,
          "labelFontStyle": "bold"
         },
         "title": null,
         "type": "nominal"
        },
        "strokeDash": {
         "field": "height",
         "type": "nominal"
        },
        "x": {
         "field": "frequency",
         "scale": {
          "type": "log"
         },
         "title": "Frequency (Hz)",
         "type": "quantitative"
        },
        "y": {
         "field": "cospectrum",
         "scale": {
          "type": "linear"
         },
         "title": "Cospectra(w'q')",
         "type": "quantitative"
        }
       },
       "height": 200,
       "mark": {
        "type": "line"
       },
       "resolve": {
        "scale": {
         "y": "independent"
        }
       },
       "width": 300
      },
      "text/plain": [
       "<VegaLite 5 object>\n",
       "\n",
       "If you see this message, it means the renderer has not been properly enabled\n",
       "for the frontend that you are using. For more information, see\n",
       "https://altair-viz.github.io/user_guide/display_frontends.html#troubleshooting\n"
      ]
     },
     "execution_count": 27,
     "metadata": {},
     "output_type": "execute_result"
    }
   ],
   "source": [
    "day_and_night_avg_spectra_tower_all_towers"
   ]
  },
  {
   "cell_type": "code",
   "execution_count": 28,
   "metadata": {},
   "outputs": [
    {
     "name": "stderr",
     "output_type": "stream",
     "text": [
      "/var/folders/x_/2h52bcjx2px15bhmdpdd748h0000gn/T/ipykernel_71719/377186084.py:6: FutureWarning: The default of observed=False is deprecated and will be changed to True in a future version of pandas. Pass observed=False to retain current behavior or observed=True to adopt the future default and silence this warning.\n",
      "  df_momentum_day_binned = df_momentum_day_binned.groupby(\n"
     ]
    }
   ],
   "source": [
    "df_momentum_day_binned = df_momentum_day.compute()\n",
    "df_momentum_day_binned['frequency_binned'] = df_momentum_day_binned.groupby('date')['frequency'].transform(\n",
    "    lambda x: pd.cut(x, bins = np.logspace(-4, -1, 100))\n",
    ")\n",
    "df_momentum_day_binned = df_momentum_day_binned.dropna()\n",
    "df_momentum_day_binned = df_momentum_day_binned.groupby(\n",
    "    ['tower', 'height', 'frequency_binned']\n",
    ")[\n",
    "    ['cospectrum', 'quadrature spectrum']\n",
    "].mean().reset_index()\n",
    "df_momentum_day_binned['frequency_binned'] = df_momentum_day_binned['frequency_binned'].apply(\n",
    "    lambda split: 0.5*(split.left + split.right)\n",
    ").astype(float)"
   ]
  },
  {
   "cell_type": "code",
   "execution_count": 29,
   "metadata": {},
   "outputs": [
    {
     "data": {
      "application/vnd.vegalite.v5+json": {
       "$schema": "https://vega.github.io/schema/vega-lite/v5.17.0.json",
       "config": {
        "view": {
         "continuousHeight": 300,
         "continuousWidth": 300
        }
       },
       "data": {
        "format": {
         "type": "json"
        },
        "url": "altair-data-2440f7cdc135cad980c7d628e5b9e63c.json"
       },
       "encoding": {
        "color": {
         "field": "height",
         "scale": {
          "scheme": "turbo"
         },
         "type": "ordinal"
        },
        "x": {
         "field": "frequency_binned",
         "scale": {
          "type": "log"
         },
         "type": "quantitative"
        },
        "y": {
         "field": "cospectrum",
         "scale": {
          "type": "linear"
         },
         "type": "quantitative"
        }
       },
       "mark": {
        "type": "circle"
       },
       "width": 500
      },
      "text/plain": [
       "<VegaLite 5 object>\n",
       "\n",
       "If you see this message, it means the renderer has not been properly enabled\n",
       "for the frontend that you are using. For more information, see\n",
       "https://altair-viz.github.io/user_guide/display_frontends.html#troubleshooting\n"
      ]
     },
     "execution_count": 29,
     "metadata": {},
     "output_type": "execute_result"
    }
   ],
   "source": [
    "alt.Chart(\n",
    "    df_momentum_day_binned.query(\"frequency_binned > 0.0009\").query(\"tower == 'c'\")\n",
    ").mark_circle().encode(\n",
    "    alt.X(\"frequency_binned:Q\").scale(type='log'),\n",
    "    alt.Y(\"cospectrum:Q\").scale(type='linear'),\n",
    "    alt.Color(\"height:O\").scale(scheme='turbo'),\n",
    ").properties(width=500)"
   ]
  },
  {
   "cell_type": "code",
   "execution_count": 30,
   "metadata": {},
   "outputs": [
    {
     "data": {
      "application/vnd.vegalite.v5+json": {
       "$schema": "https://vega.github.io/schema/vega-lite/v5.17.0.json",
       "config": {
        "view": {
         "continuousHeight": 300,
         "continuousWidth": 300
        }
       },
       "data": {
        "format": {
         "type": "json"
        },
        "url": "altair-data-2440f7cdc135cad980c7d628e5b9e63c.json"
       },
       "encoding": {
        "color": {
         "field": "height",
         "scale": {
          "scheme": "turbo"
         },
         "type": "ordinal"
        },
        "x": {
         "field": "frequency_binned",
         "scale": {
          "type": "log"
         },
         "type": "quantitative"
        },
        "y": {
         "field": "abs",
         "scale": {
          "type": "log"
         },
         "type": "quantitative"
        }
       },
       "mark": {
        "type": "point"
       },
       "transform": [
        {
         "as": "abs",
         "calculate": "abs(datum.cospectrum)"
        },
        {
         "filter": "(datum.abs > 0)"
        }
       ],
       "width": 500
      },
      "text/plain": [
       "<VegaLite 5 object>\n",
       "\n",
       "If you see this message, it means the renderer has not been properly enabled\n",
       "for the frontend that you are using. For more information, see\n",
       "https://altair-viz.github.io/user_guide/display_frontends.html#troubleshooting\n"
      ]
     },
     "execution_count": 30,
     "metadata": {},
     "output_type": "execute_result"
    }
   ],
   "source": [
    "alt.Chart(\n",
    "    df_momentum_day_binned.query(\"frequency_binned > 0.0009\").query(\"tower == 'c'\")\n",
    ").transform_calculate(\n",
    "    abs = \"abs(datum.cospectrum)\"\n",
    ").transform_filter(\n",
    "    alt.datum.abs > 0\n",
    ").mark_point().encode(\n",
    "    alt.X(\"frequency_binned:Q\").scale(type='log'),\n",
    "    alt.Y(\"abs:Q\").scale(type='log'),\n",
    "    alt.Color(\"height:O\").scale(scheme='turbo'),\n",
    ").properties(width=500)"
   ]
  },
  {
   "cell_type": "markdown",
   "metadata": {},
   "source": [
    "# Identify times we want to analyze using sos surface measurements"
   ]
  },
  {
   "cell_type": "code",
   "execution_count": null,
   "metadata": {},
   "outputs": [],
   "source": [
    "# bs_times = tidy_df.query(\"variable == 'SF_avg_ue'\").query(\"value > 0\").time\n",
    "# nobs_times = tidy_df.query(\"variable == 'SF_avg_ue'\").query(\"value == 0\").time\n",
    "\n",
    "# decoupled_times = tidy_df.query(\"variable == 'omega_3m_c'\").query(\"value < 0.43\").time\n",
    "# weaklycoupled_times = tidy_df.query(\"variable == 'omega_3m_c'\").query(\"value >= 0.43\").query(\"value <= 0.61\").time\n",
    "# coupled_times = tidy_df.query(\"variable == 'omega_3m_c'\").query(\"value > 0.61\").time\n",
    "\n",
    "# ri_stable_times = tidy_df.query(\"variable == 'Ri_3m_c'\").query(\"value > 0.25\").time\n",
    "# ri_unstable_times = tidy_df.query(\"variable == 'Ri_3m_c'\").query(\"value < -0.01\").time\n",
    "# ri_neutral_times = tidy_df.query(\"variable == 'Ri_3m_c'\").query(\"value >= -0.01\").query(\"value <= 0.25\").time\n",
    "\n",
    "# tgrad_stable_times = tidy_df.query(\"variable == 'temp_gradient_3m_c'\").query(\"value > 0.01\").time\n",
    "# tgrad_unstable_times = tidy_df.query(\"variable == 'temp_gradient_3m_c'\").query(\"value < -0.01\").time\n",
    "# tgrad_neutral_times = tidy_df.query(\"variable == 'temp_gradient_3m_c'\").query(\"value >= -0.01\").query(\"value <= 0.01\").time"
   ]
  },
  {
   "cell_type": "markdown",
   "metadata": {},
   "source": [
    "### Open dataset, divide into daytime/nighttime, and group by stability conditions"
   ]
  },
  {
   "cell_type": "code",
   "execution_count": 45,
   "metadata": {},
   "outputs": [],
   "source": [
    "start_date = '20221130'\n",
    "end_date = '20230509'\n",
    "# open files\n",
    "tidy_df = pd.read_parquet(f'tidy_df_{start_date}_{end_date}_noplanar_fit_clean.parquet')\n",
    "tidy_df_unclean = pd.read_parquet(f'tidy_df_{start_date}_{end_date}_noplanar_fit.parquet')\n",
    "\n",
    "# convert time column to datetime\n",
    "tidy_df['time'] = pd.to_datetime(tidy_df['time'])\n",
    "tidy_df_unclean['time'] = pd.to_datetime(tidy_df_unclean['time'])\n",
    "\n",
    "tidy_df = utils.modify_df_timezone(tidy_df, 'UTC', 'US/Mountain')\n",
    "tidy_df_unclean = utils.modify_df_timezone(tidy_df_unclean, 'UTC', 'US/Mountain')"
   ]
  },
  {
   "cell_type": "code",
   "execution_count": 46,
   "metadata": {},
   "outputs": [],
   "source": [
    "daytime_tidy_df = tidy_df[tidy_df.time.dt.hour.isin([9,10,11,12,13,14,15,16,17])]\n",
    "nighttime_tidy_df = tidy_df[tidy_df.time.dt.hour.isin([19,20,21,22,23,0,1,2,3,4,5])]"
   ]
  },
  {
   "cell_type": "code",
   "execution_count": 53,
   "metadata": {},
   "outputs": [],
   "source": [
    "daytime_daily_min_tempgrad = daytime_tidy_df.query(\"variable == 'temp_gradient_3m_c'\").set_index('time').groupby(\n",
    "    pd.Grouper(freq='1440Min')\n",
    ")[['value']].mean()\n",
    "days_list_unstable =    daytime_daily_min_tempgrad.query(\"value < -0.001\").reset_index().time.dt.strftime('%Y%m%d')\n",
    "days_list_neutral =     daytime_daily_min_tempgrad.query(\"value >= -0.001\").query(\"value <= 0.01\").reset_index().time.dt.strftime('%Y%m%d')\n",
    "days_list_stable =      daytime_daily_min_tempgrad.query(\"value > 0.01\").reset_index().time.dt.strftime('%Y%m%d')"
   ]
  },
  {
   "cell_type": "code",
   "execution_count": 54,
   "metadata": {},
   "outputs": [
    {
     "data": {
      "text/plain": [
       "(10, 10, 142)"
      ]
     },
     "execution_count": 54,
     "metadata": {},
     "output_type": "execute_result"
    }
   ],
   "source": [
    "len(days_list_unstable), len(days_list_neutral), len(days_list_stable)"
   ]
  },
  {
   "cell_type": "code",
   "execution_count": 55,
   "metadata": {},
   "outputs": [],
   "source": [
    "# bs_times = tidy_df.query(\"variable == 'SF_avg_ue'\").query(\"value > 0\").time\n",
    "daytime_daily_max_bsflux = daytime_tidy_df.query(\"variable == 'SF_avg_ue'\").set_index('time').groupby(\n",
    "    pd.Grouper(freq='1440Min')\n",
    ")[['value']].max()\n",
    "\n",
    "days_list_nobs = daytime_daily_max_bsflux.query(\"value == 0\").reset_index().time.dt.strftime('%Y%m%d')"
   ]
  },
  {
   "cell_type": "code",
   "execution_count": 56,
   "metadata": {},
   "outputs": [],
   "source": [
    "# create dataset for momentum covariance, averaged across unstable days, excluding BS days\n",
    "df_momentum_day_binned_unstable = df_momentum_day[df_momentum_day.date.isin(days_list_unstable) & df_momentum_day.date.isin(days_list_nobs)]\n",
    "df_momentum_day_binned_unstable = df_momentum_day_binned_unstable.compute()\n",
    "df_momentum_day_binned_unstable['frequency_binned'] = df_momentum_day_binned_unstable.groupby('date')['frequency'].transform(\n",
    "    lambda x: pd.cut(x, bins = np.logspace(-4, -1, 100))\n",
    ")\n",
    "df_momentum_day_binned_unstable = df_momentum_day_binned_unstable.dropna()\n",
    "df_momentum_day_binned_unstable['frequency_binned'] = df_momentum_day_binned_unstable['frequency_binned'].apply(\n",
    "    lambda split: 0.5*(split.left + split.right)\n",
    ").astype(float)\n",
    "df_momentum_day_binned_unstable = df_momentum_day_binned_unstable.groupby(\n",
    "    ['tower', 'height', 'frequency_binned']\n",
    ")[\n",
    "    ['cospectrum', 'quadrature spectrum']\n",
    "].mean().reset_index()\n",
    "\n",
    "# create dataset for momentum covariance, averaged across stable days, excluding BS days\n",
    "df_momentum_day_binned_stable = df_momentum_day[df_momentum_day.date.isin(days_list_stable) & df_momentum_day.date.isin(days_list_nobs)]\n",
    "df_momentum_day_binned_stable = df_momentum_day_binned_stable.compute()\n",
    "df_momentum_day_binned_stable['frequency_binned'] = df_momentum_day_binned_stable.groupby('date')['frequency'].transform(\n",
    "    lambda x: pd.cut(x, bins = np.logspace(-4, -1, 100))\n",
    ")\n",
    "df_momentum_day_binned_stable = df_momentum_day_binned_stable.dropna()\n",
    "df_momentum_day_binned_stable['frequency_binned'] = df_momentum_day_binned_stable['frequency_binned'].apply(\n",
    "    lambda split: 0.5*(split.left + split.right)\n",
    ").astype(float)\n",
    "df_momentum_day_binned_stable = df_momentum_day_binned_stable.groupby(\n",
    "    ['tower', 'height', 'frequency_binned']\n",
    ")[\n",
    "    ['cospectrum', 'quadrature spectrum']\n",
    "].mean().reset_index()\n",
    "\n",
    "# create dataset for momentum covariance, averaged across neutral days, excluding BS days\n",
    "df_momentum_day_binned_neutral = df_momentum_day[df_momentum_day.date.isin(days_list_neutral) & df_momentum_day.date.isin(days_list_nobs)]\n",
    "df_momentum_day_binned_neutral = df_momentum_day_binned_neutral.compute()\n",
    "df_momentum_day_binned_neutral['frequency_binned'] = df_momentum_day_binned_neutral.groupby('date')['frequency'].transform(\n",
    "    lambda x: pd.cut(x, bins = np.logspace(-4, -1, 100))\n",
    ")\n",
    "df_momentum_day_binned_neutral = df_momentum_day_binned_neutral.dropna()\n",
    "df_momentum_day_binned_neutral['frequency_binned'] = df_momentum_day_binned_neutral['frequency_binned'].apply(\n",
    "    lambda split: 0.5*(split.left + split.right)\n",
    ").astype(float)\n",
    "df_momentum_day_binned_neutral = df_momentum_day_binned_neutral.groupby(\n",
    "    ['tower', 'height', 'frequency_binned']\n",
    ")[\n",
    "    ['cospectrum', 'quadrature spectrum']\n",
    "].mean().reset_index()"
   ]
  },
  {
   "cell_type": "code",
   "execution_count": 62,
   "metadata": {},
   "outputs": [
    {
     "data": {
      "application/vnd.vegalite.v5+json": {
       "$schema": "https://vega.github.io/schema/vega-lite/v5.17.0.json",
       "config": {
        "view": {
         "continuousHeight": 300,
         "continuousWidth": 300
        }
       },
       "hconcat": [
        {
         "data": {
          "format": {
           "type": "json"
          },
          "url": "altair-data-ac0007f97613bc464f51aedbe75b6eb3.json"
         },
         "encoding": {
          "color": {
           "field": "height",
           "scale": {
            "scheme": "turbo"
           },
           "type": "ordinal"
          },
          "x": {
           "field": "frequency_binned",
           "scale": {
            "type": "log"
           },
           "title": "frequency (hz)",
           "type": "quantitative"
          },
          "y": {
           "field": "cospectrum",
           "scale": {
            "clamp": true,
            "domain": [
             -0.5,
             0.5
            ]
           },
           "title": "Cospectra(w'q')",
           "type": "quantitative"
          }
         },
         "height": 200,
         "mark": {
          "type": "circle"
         },
         "title": "Stable",
         "width": 300
        },
        {
         "data": {
          "format": {
           "type": "json"
          },
          "url": "altair-data-011b0120d5818f814b97ba281785c58b.json"
         },
         "encoding": {
          "color": {
           "field": "height",
           "scale": {
            "scheme": "turbo"
           },
           "type": "ordinal"
          },
          "x": {
           "field": "frequency_binned",
           "scale": {
            "type": "log"
           },
           "title": "frequency (hz)",
           "type": "quantitative"
          },
          "y": {
           "field": "cospectrum",
           "scale": {
            "clamp": true,
            "domain": [
             -0.5,
             0.5
            ]
           },
           "title": "Cospectra(w'q')",
           "type": "quantitative"
          }
         },
         "height": 200,
         "mark": {
          "type": "circle"
         },
         "title": "Neutral",
         "width": 300
        },
        {
         "data": {
          "format": {
           "type": "json"
          },
          "url": "altair-data-017331d96fc4748c05bfc8e4f2ecb614.json"
         },
         "encoding": {
          "color": {
           "field": "height",
           "scale": {
            "scheme": "turbo"
           },
           "type": "ordinal"
          },
          "x": {
           "field": "frequency_binned",
           "scale": {
            "type": "log"
           },
           "title": "frequency (hz)",
           "type": "quantitative"
          },
          "y": {
           "field": "cospectrum",
           "scale": {
            "clamp": true,
            "domain": [
             -0.5,
             0.5
            ]
           },
           "title": "Cospectra(w'q')",
           "type": "quantitative"
          }
         },
         "height": 200,
         "mark": {
          "type": "circle"
         },
         "title": "Unstable",
         "width": 300
        }
       ],
       "resolve": {
        "scale": {
         "x": "shared",
         "y": "shared"
        }
       }
      },
      "text/plain": [
       "<VegaLite 5 object>\n",
       "\n",
       "If you see this message, it means the renderer has not been properly enabled\n",
       "for the frontend that you are using. For more information, see\n",
       "https://altair-viz.github.io/user_guide/display_frontends.html#troubleshooting\n"
      ]
     },
     "execution_count": 62,
     "metadata": {},
     "output_type": "execute_result"
    }
   ],
   "source": [
    "daily_averaged_spectra = (\n",
    "    alt.Chart(\n",
    "        df_momentum_day_binned_stable.query(\"frequency_binned > 0.0009\").query(\"tower == 'c'\").query(\"height > 2\")\n",
    "    ).mark_circle().encode(\n",
    "        alt.X(\"frequency_binned:Q\").scale(type='log').title(\"frequency (hz)\"),\n",
    "        alt.Y(\"cospectrum:Q\").scale(type='symlog').scale(domain=[-0.5, 0.5], clamp=True).title(\"Cospectra(w'q')\"),\n",
    "        alt.Color(\"height:O\").scale(scheme='turbo'),\n",
    "    ).properties(width=300, height=200, title='Stable') | alt.Chart(\n",
    "        df_momentum_day_binned_neutral.query(\"frequency_binned > 0.0009\").query(\"tower == 'c'\").query(\"height > 2\")\n",
    "    ).mark_circle().encode(\n",
    "        alt.X(\"frequency_binned:Q\").scale(type='log').title(\"frequency (hz)\"),\n",
    "        alt.Y(\"cospectrum:Q\").scale(type='symlog').scale(domain=[-0.5, 0.5], clamp=True).title(\"Cospectra(w'q')\"),\n",
    "        alt.Color(\"height:O\").scale(scheme='turbo'),\n",
    "    ).properties(width=300, height=200, title='Neutral') | alt.Chart(\n",
    "        df_momentum_day_binned_unstable.query(\"frequency_binned > 0.0009\").query(\"tower == 'c'\").query(\"height > 2\")\n",
    "    ).mark_circle().encode(\n",
    "        alt.X(\"frequency_binned:Q\").scale(type='log').title(\"frequency (hz)\"),\n",
    "        alt.Y(\"cospectrum:Q\").scale(type='symlog').scale(domain=[-0.5, 0.5], clamp=True).title(\"Cospectra(w'q')\"),\n",
    "        alt.Color(\"height:O\").scale(scheme='turbo'),\n",
    "    ).properties(width=300, height=200, title='Unstable')\n",
    ").resolve_scale(x='shared', y='shared')\n",
    "\n",
    "daily_averaged_spectra"
   ]
  },
  {
   "cell_type": "code",
   "execution_count": 60,
   "metadata": {},
   "outputs": [
    {
     "data": {
      "application/vnd.vegalite.v5+json": {
       "$schema": "https://vega.github.io/schema/vega-lite/v5.17.0.json",
       "config": {
        "view": {
         "continuousHeight": 300,
         "continuousWidth": 300
        }
       },
       "hconcat": [
        {
         "data": {
          "format": {
           "type": "json"
          },
          "url": "altair-data-ac0007f97613bc464f51aedbe75b6eb3.json"
         },
         "encoding": {
          "color": {
           "field": "height",
           "scale": {
            "scheme": "turbo"
           },
           "type": "ordinal"
          },
          "x": {
           "field": "frequency_binned",
           "scale": {
            "type": "log"
           },
           "title": "frequency (hz)",
           "type": "quantitative"
          },
          "y": {
           "field": "abs",
           "scale": {
            "type": "log"
           },
           "type": "quantitative"
          }
         },
         "height": 200,
         "mark": {
          "type": "line"
         },
         "title": "Stable",
         "transform": [
          {
           "as": "abs",
           "calculate": "abs(datum.cospectrum)"
          }
         ],
         "width": 300
        },
        {
         "data": {
          "format": {
           "type": "json"
          },
          "url": "altair-data-011b0120d5818f814b97ba281785c58b.json"
         },
         "encoding": {
          "color": {
           "field": "height",
           "scale": {
            "scheme": "turbo"
           },
           "type": "ordinal"
          },
          "x": {
           "field": "frequency_binned",
           "scale": {
            "type": "log"
           },
           "title": "frequency (hz)",
           "type": "quantitative"
          },
          "y": {
           "field": "abs",
           "scale": {
            "type": "log"
           },
           "type": "quantitative"
          }
         },
         "height": 200,
         "mark": {
          "type": "line"
         },
         "title": "Neutral",
         "transform": [
          {
           "as": "abs",
           "calculate": "abs(datum.cospectrum)"
          }
         ],
         "width": 300
        },
        {
         "data": {
          "format": {
           "type": "json"
          },
          "url": "altair-data-017331d96fc4748c05bfc8e4f2ecb614.json"
         },
         "encoding": {
          "color": {
           "field": "height",
           "scale": {
            "scheme": "turbo"
           },
           "type": "ordinal"
          },
          "x": {
           "field": "frequency_binned",
           "scale": {
            "type": "log"
           },
           "title": "frequency (hz)",
           "type": "quantitative"
          },
          "y": {
           "field": "abs",
           "scale": {
            "type": "log"
           },
           "type": "quantitative"
          }
         },
         "height": 200,
         "mark": {
          "type": "line"
         },
         "title": "Unstable",
         "transform": [
          {
           "as": "abs",
           "calculate": "abs(datum.cospectrum)"
          }
         ],
         "width": 300
        }
       ],
       "resolve": {
        "scale": {
         "x": "shared",
         "y": "shared"
        }
       }
      },
      "text/plain": [
       "<VegaLite 5 object>\n",
       "\n",
       "If you see this message, it means the renderer has not been properly enabled\n",
       "for the frontend that you are using. For more information, see\n",
       "https://altair-viz.github.io/user_guide/display_frontends.html#troubleshooting\n"
      ]
     },
     "execution_count": 60,
     "metadata": {},
     "output_type": "execute_result"
    }
   ],
   "source": [
    "(\n",
    "    alt.Chart(\n",
    "        df_momentum_day_binned_stable.query(\"frequency_binned > 0.0009\").query(\"tower == 'c'\").query(\"height > 2\")\n",
    "    ).transform_calculate(\n",
    "        abs = 'abs(datum.cospectrum)'\n",
    "    ).mark_line().encode(\n",
    "        alt.X(\"frequency_binned:Q\").scale(type='log').title(\"frequency (hz)\"),\n",
    "        alt.Y(\"abs:Q\").scale(type='log'),\n",
    "        alt.Color(\"height:O\").scale(scheme='turbo'),\n",
    "    ).properties(width=300, height=200, title='Stable') | alt.Chart(\n",
    "        df_momentum_day_binned_neutral.query(\"frequency_binned > 0.0009\").query(\"tower == 'c'\").query(\"height > 2\")\n",
    "    ).transform_calculate(\n",
    "        abs = 'abs(datum.cospectrum)'\n",
    "    ).mark_line().encode(\n",
    "        alt.X(\"frequency_binned:Q\").scale(type='log').title(\"frequency (hz)\"),\n",
    "        alt.Y(\"abs:Q\").scale(type='log'),\n",
    "        alt.Color(\"height:O\").scale(scheme='turbo'),\n",
    "    ).properties(width=300, height=200, title='Neutral') | alt.Chart(\n",
    "        df_momentum_day_binned_unstable.query(\"frequency_binned > 0.0009\").query(\"tower == 'c'\").query(\"height > 2\")\n",
    "    ).transform_calculate(\n",
    "        abs = 'abs(datum.cospectrum)'\n",
    "    ).mark_line().encode(\n",
    "        alt.X(\"frequency_binned:Q\").scale(type='log').title(\"frequency (hz)\"),\n",
    "        alt.Y(\"abs:Q\").scale(type='log'),\n",
    "        alt.Color(\"height:O\").scale(scheme='turbo'),\n",
    "    ).properties(width=300, height=200, title='Unstable')\n",
    ").resolve_scale(x='shared', y='shared')"
   ]
  },
  {
   "cell_type": "code",
   "execution_count": null,
   "metadata": {},
   "outputs": [],
   "source": []
  }
 ],
 "metadata": {
  "kernelspec": {
   "display_name": "arm",
   "language": "python",
   "name": "python3"
  },
  "language_info": {
   "codemirror_mode": {
    "name": "ipython",
    "version": 3
   },
   "file_extension": ".py",
   "mimetype": "text/x-python",
   "name": "python",
   "nbconvert_exporter": "python",
   "pygments_lexer": "ipython3",
   "version": "3.12.1"
  },
  "orig_nbformat": 4,
  "vscode": {
   "interpreter": {
    "hash": "e2b11a00ad1b97cabcd9cc9209b8824a0fcaf6ffe37b5243943912873b5dcab1"
   }
  }
 },
 "nbformat": 4,
 "nbformat_minor": 2
}
