{
 "cells": [
  {
   "cell_type": "code",
   "execution_count": 1,
   "metadata": {},
   "outputs": [],
   "source": [
    "import pandas as pd\n",
    "import glob\n",
    "import altair as alt\n",
    "from sublimpy import utils\n",
    "import datetime as dt\n",
    "import numpy as np"
   ]
  },
  {
   "cell_type": "code",
   "execution_count": 2,
   "metadata": {},
   "outputs": [],
   "source": [
    "files = glob.glob(\"turb_datasets/tidy_df**.parquet\")\n",
    "df = pd.DataFrame()\n",
    "for file in files:\n",
    "    local = pd.read_parquet(file).query(\"measurement == 'w_h2o_'\")\n",
    "    df = pd.concat([df, local.assign(filename = file)])\n",
    "df = df[df.variable.isin([\n",
    "    'w_h2o__2m_c_gapfill', 'w_h2o__3m_c_gapfill', 'w_h2o__5m_c_gapfill', 'w_h2o__10m_c_gapfill', 'w_h2o__15m_c_gapfill', 'w_h2o__20m_c_gapfill', \n",
    "    'w_h2o__3m_uw_gapfill', 'w_h2o__10m_uw_gapfill', \n",
    "    'w_h2o__3m_ue_gapfill', 'w_h2o__10m_ue_gapfill', \n",
    "    'w_h2o__3m_d_gapfill', 'w_h2o__10m_d_gapfill', \n",
    "])]\n",
    "df = utils.modify_df_timezone(df, 'UTC', 'US/Mountain')\n",
    "df = df[(df['time'] > '20221130') & (df['time'] < '20230508')]"
   ]
  },
  {
   "cell_type": "code",
   "execution_count": 3,
   "metadata": {},
   "outputs": [],
   "source": [
    "df['filename'] = df['filename'].str.replace('turb_datasets/tidy_df_20221101_20230619_planar_fit_multiplane_STRAIGHTUP_', '')\n",
    "df['processing'] = df['filename'].str.replace('.parquet', '')"
   ]
  },
  {
   "cell_type": "code",
   "execution_count": 4,
   "metadata": {},
   "outputs": [
    {
     "data": {
      "text/html": [
       "<div>\n",
       "<style scoped>\n",
       "    .dataframe tbody tr th:only-of-type {\n",
       "        vertical-align: middle;\n",
       "    }\n",
       "\n",
       "    .dataframe tbody tr th {\n",
       "        vertical-align: top;\n",
       "    }\n",
       "\n",
       "    .dataframe thead th {\n",
       "        text-align: right;\n",
       "    }\n",
       "</style>\n",
       "<table border=\"1\" class=\"dataframe\">\n",
       "  <thead>\n",
       "    <tr style=\"text-align: right;\">\n",
       "      <th></th>\n",
       "      <th>time</th>\n",
       "      <th>variable</th>\n",
       "      <th>value</th>\n",
       "      <th>height</th>\n",
       "      <th>tower</th>\n",
       "      <th>measurement</th>\n",
       "      <th>filename</th>\n",
       "      <th>processing</th>\n",
       "    </tr>\n",
       "  </thead>\n",
       "  <tbody>\n",
       "    <tr>\n",
       "      <th>4583767</th>\n",
       "      <td>2022-11-30 00:30:00</td>\n",
       "      <td>w_h2o__2m_c_gapfill</td>\n",
       "      <td>-0.000715</td>\n",
       "      <td>2.0</td>\n",
       "      <td>c</td>\n",
       "      <td>w_h2o_</td>\n",
       "      <td>q7_flags3600_snowfallfilteredno.parquet</td>\n",
       "      <td>q7_flags3600_snowfallfilteredno</td>\n",
       "    </tr>\n",
       "    <tr>\n",
       "      <th>4583768</th>\n",
       "      <td>2022-11-30 01:00:00</td>\n",
       "      <td>w_h2o__2m_c_gapfill</td>\n",
       "      <td>-0.000539</td>\n",
       "      <td>2.0</td>\n",
       "      <td>c</td>\n",
       "      <td>w_h2o_</td>\n",
       "      <td>q7_flags3600_snowfallfilteredno.parquet</td>\n",
       "      <td>q7_flags3600_snowfallfilteredno</td>\n",
       "    </tr>\n",
       "    <tr>\n",
       "      <th>4583769</th>\n",
       "      <td>2022-11-30 01:30:00</td>\n",
       "      <td>w_h2o__2m_c_gapfill</td>\n",
       "      <td>-0.000337</td>\n",
       "      <td>2.0</td>\n",
       "      <td>c</td>\n",
       "      <td>w_h2o_</td>\n",
       "      <td>q7_flags3600_snowfallfilteredno.parquet</td>\n",
       "      <td>q7_flags3600_snowfallfilteredno</td>\n",
       "    </tr>\n",
       "    <tr>\n",
       "      <th>4583770</th>\n",
       "      <td>2022-11-30 02:00:00</td>\n",
       "      <td>w_h2o__2m_c_gapfill</td>\n",
       "      <td>-0.000885</td>\n",
       "      <td>2.0</td>\n",
       "      <td>c</td>\n",
       "      <td>w_h2o_</td>\n",
       "      <td>q7_flags3600_snowfallfilteredno.parquet</td>\n",
       "      <td>q7_flags3600_snowfallfilteredno</td>\n",
       "    </tr>\n",
       "    <tr>\n",
       "      <th>4583771</th>\n",
       "      <td>2022-11-30 02:30:00</td>\n",
       "      <td>w_h2o__2m_c_gapfill</td>\n",
       "      <td>-0.000072</td>\n",
       "      <td>2.0</td>\n",
       "      <td>c</td>\n",
       "      <td>w_h2o_</td>\n",
       "      <td>q7_flags3600_snowfallfilteredno.parquet</td>\n",
       "      <td>q7_flags3600_snowfallfilteredno</td>\n",
       "    </tr>\n",
       "  </tbody>\n",
       "</table>\n",
       "</div>"
      ],
      "text/plain": [
       "                       time             variable     value  height tower  \\\n",
       "4583767 2022-11-30 00:30:00  w_h2o__2m_c_gapfill -0.000715     2.0     c   \n",
       "4583768 2022-11-30 01:00:00  w_h2o__2m_c_gapfill -0.000539     2.0     c   \n",
       "4583769 2022-11-30 01:30:00  w_h2o__2m_c_gapfill -0.000337     2.0     c   \n",
       "4583770 2022-11-30 02:00:00  w_h2o__2m_c_gapfill -0.000885     2.0     c   \n",
       "4583771 2022-11-30 02:30:00  w_h2o__2m_c_gapfill -0.000072     2.0     c   \n",
       "\n",
       "        measurement                                 filename  \\\n",
       "4583767      w_h2o_  q7_flags3600_snowfallfilteredno.parquet   \n",
       "4583768      w_h2o_  q7_flags3600_snowfallfilteredno.parquet   \n",
       "4583769      w_h2o_  q7_flags3600_snowfallfilteredno.parquet   \n",
       "4583770      w_h2o_  q7_flags3600_snowfallfilteredno.parquet   \n",
       "4583771      w_h2o_  q7_flags3600_snowfallfilteredno.parquet   \n",
       "\n",
       "                              processing  \n",
       "4583767  q7_flags3600_snowfallfilteredno  \n",
       "4583768  q7_flags3600_snowfallfilteredno  \n",
       "4583769  q7_flags3600_snowfallfilteredno  \n",
       "4583770  q7_flags3600_snowfallfilteredno  \n",
       "4583771  q7_flags3600_snowfallfilteredno  "
      ]
     },
     "execution_count": 4,
     "metadata": {},
     "output_type": "execute_result"
    }
   ],
   "source": [
    "df.head()"
   ]
  },
  {
   "cell_type": "markdown",
   "metadata": {},
   "source": [
    "# Calculate and plot seasonal totals"
   ]
  },
  {
   "cell_type": "code",
   "execution_count": 5,
   "metadata": {},
   "outputs": [],
   "source": [
    "totals_df = pd.DataFrame(df.groupby(['variable', 'processing'])['value'].sum()*30*60/1000).reset_index()"
   ]
  },
  {
   "cell_type": "code",
   "execution_count": 6,
   "metadata": {},
   "outputs": [
    {
     "data": {
      "text/html": [
       "<div>\n",
       "<style scoped>\n",
       "    .dataframe tbody tr th:only-of-type {\n",
       "        vertical-align: middle;\n",
       "    }\n",
       "\n",
       "    .dataframe tbody tr th {\n",
       "        vertical-align: top;\n",
       "    }\n",
       "\n",
       "    .dataframe thead th {\n",
       "        text-align: right;\n",
       "    }\n",
       "</style>\n",
       "<table border=\"1\" class=\"dataframe\">\n",
       "  <thead>\n",
       "    <tr style=\"text-align: right;\">\n",
       "      <th></th>\n",
       "      <th>variable</th>\n",
       "      <th>processing</th>\n",
       "      <th>value</th>\n",
       "      <th>despiking</th>\n",
       "      <th>instrument_flagging</th>\n",
       "      <th>snowfall_filtering</th>\n",
       "      <th>height</th>\n",
       "      <th>tower</th>\n",
       "    </tr>\n",
       "  </thead>\n",
       "  <tbody>\n",
       "    <tr>\n",
       "      <th>0</th>\n",
       "      <td>w_h2o__10m_c_gapfill</td>\n",
       "      <td>nodespiking_flags36000_snowfallfilteredno</td>\n",
       "      <td>41.066913</td>\n",
       "      <td>nodespiking</td>\n",
       "      <td>flags36000</td>\n",
       "      <td>snowfallfilteredno</td>\n",
       "      <td>10</td>\n",
       "      <td>gapfill</td>\n",
       "    </tr>\n",
       "    <tr>\n",
       "      <th>1</th>\n",
       "      <td>w_h2o__10m_c_gapfill</td>\n",
       "      <td>nodespiking_flags3600_snowfallfilteredno</td>\n",
       "      <td>38.771281</td>\n",
       "      <td>nodespiking</td>\n",
       "      <td>flags3600</td>\n",
       "      <td>snowfallfilteredno</td>\n",
       "      <td>10</td>\n",
       "      <td>gapfill</td>\n",
       "    </tr>\n",
       "    <tr>\n",
       "      <th>2</th>\n",
       "      <td>w_h2o__10m_c_gapfill</td>\n",
       "      <td>nodespiking_flags9000_snowfallfilteredno</td>\n",
       "      <td>39.934237</td>\n",
       "      <td>nodespiking</td>\n",
       "      <td>flags9000</td>\n",
       "      <td>snowfallfilteredno</td>\n",
       "      <td>10</td>\n",
       "      <td>gapfill</td>\n",
       "    </tr>\n",
       "    <tr>\n",
       "      <th>3</th>\n",
       "      <td>w_h2o__10m_c_gapfill</td>\n",
       "      <td>q7_flags36000_snowfallfilteredno</td>\n",
       "      <td>39.038130</td>\n",
       "      <td>q7</td>\n",
       "      <td>flags36000</td>\n",
       "      <td>snowfallfilteredno</td>\n",
       "      <td>10</td>\n",
       "      <td>gapfill</td>\n",
       "    </tr>\n",
       "    <tr>\n",
       "      <th>4</th>\n",
       "      <td>w_h2o__10m_c_gapfill</td>\n",
       "      <td>q7_flags3600_snowfallfilteredno</td>\n",
       "      <td>37.103656</td>\n",
       "      <td>q7</td>\n",
       "      <td>flags3600</td>\n",
       "      <td>snowfallfilteredno</td>\n",
       "      <td>10</td>\n",
       "      <td>gapfill</td>\n",
       "    </tr>\n",
       "    <tr>\n",
       "      <th>...</th>\n",
       "      <td>...</td>\n",
       "      <td>...</td>\n",
       "      <td>...</td>\n",
       "      <td>...</td>\n",
       "      <td>...</td>\n",
       "      <td>...</td>\n",
       "      <td>...</td>\n",
       "      <td>...</td>\n",
       "    </tr>\n",
       "    <tr>\n",
       "      <th>67</th>\n",
       "      <td>w_h2o__5m_c_gapfill</td>\n",
       "      <td>nodespiking_flags3600_snowfallfilteredno</td>\n",
       "      <td>37.734793</td>\n",
       "      <td>nodespiking</td>\n",
       "      <td>flags3600</td>\n",
       "      <td>snowfallfilteredno</td>\n",
       "      <td>5</td>\n",
       "      <td>gapfill</td>\n",
       "    </tr>\n",
       "    <tr>\n",
       "      <th>68</th>\n",
       "      <td>w_h2o__5m_c_gapfill</td>\n",
       "      <td>nodespiking_flags9000_snowfallfilteredno</td>\n",
       "      <td>38.140115</td>\n",
       "      <td>nodespiking</td>\n",
       "      <td>flags9000</td>\n",
       "      <td>snowfallfilteredno</td>\n",
       "      <td>5</td>\n",
       "      <td>gapfill</td>\n",
       "    </tr>\n",
       "    <tr>\n",
       "      <th>69</th>\n",
       "      <td>w_h2o__5m_c_gapfill</td>\n",
       "      <td>q7_flags36000_snowfallfilteredno</td>\n",
       "      <td>36.930368</td>\n",
       "      <td>q7</td>\n",
       "      <td>flags36000</td>\n",
       "      <td>snowfallfilteredno</td>\n",
       "      <td>5</td>\n",
       "      <td>gapfill</td>\n",
       "    </tr>\n",
       "    <tr>\n",
       "      <th>70</th>\n",
       "      <td>w_h2o__5m_c_gapfill</td>\n",
       "      <td>q7_flags3600_snowfallfilteredno</td>\n",
       "      <td>36.010166</td>\n",
       "      <td>q7</td>\n",
       "      <td>flags3600</td>\n",
       "      <td>snowfallfilteredno</td>\n",
       "      <td>5</td>\n",
       "      <td>gapfill</td>\n",
       "    </tr>\n",
       "    <tr>\n",
       "      <th>71</th>\n",
       "      <td>w_h2o__5m_c_gapfill</td>\n",
       "      <td>q7_flags9000_snowfallfilteredno</td>\n",
       "      <td>36.380318</td>\n",
       "      <td>q7</td>\n",
       "      <td>flags9000</td>\n",
       "      <td>snowfallfilteredno</td>\n",
       "      <td>5</td>\n",
       "      <td>gapfill</td>\n",
       "    </tr>\n",
       "  </tbody>\n",
       "</table>\n",
       "<p>72 rows × 8 columns</p>\n",
       "</div>"
      ],
      "text/plain": [
       "                variable                                 processing  \\\n",
       "0   w_h2o__10m_c_gapfill  nodespiking_flags36000_snowfallfilteredno   \n",
       "1   w_h2o__10m_c_gapfill   nodespiking_flags3600_snowfallfilteredno   \n",
       "2   w_h2o__10m_c_gapfill   nodespiking_flags9000_snowfallfilteredno   \n",
       "3   w_h2o__10m_c_gapfill           q7_flags36000_snowfallfilteredno   \n",
       "4   w_h2o__10m_c_gapfill            q7_flags3600_snowfallfilteredno   \n",
       "..                   ...                                        ...   \n",
       "67   w_h2o__5m_c_gapfill   nodespiking_flags3600_snowfallfilteredno   \n",
       "68   w_h2o__5m_c_gapfill   nodespiking_flags9000_snowfallfilteredno   \n",
       "69   w_h2o__5m_c_gapfill           q7_flags36000_snowfallfilteredno   \n",
       "70   w_h2o__5m_c_gapfill            q7_flags3600_snowfallfilteredno   \n",
       "71   w_h2o__5m_c_gapfill            q7_flags9000_snowfallfilteredno   \n",
       "\n",
       "        value    despiking instrument_flagging  snowfall_filtering  height  \\\n",
       "0   41.066913  nodespiking          flags36000  snowfallfilteredno      10   \n",
       "1   38.771281  nodespiking           flags3600  snowfallfilteredno      10   \n",
       "2   39.934237  nodespiking           flags9000  snowfallfilteredno      10   \n",
       "3   39.038130           q7          flags36000  snowfallfilteredno      10   \n",
       "4   37.103656           q7           flags3600  snowfallfilteredno      10   \n",
       "..        ...          ...                 ...                 ...     ...   \n",
       "67  37.734793  nodespiking           flags3600  snowfallfilteredno       5   \n",
       "68  38.140115  nodespiking           flags9000  snowfallfilteredno       5   \n",
       "69  36.930368           q7          flags36000  snowfallfilteredno       5   \n",
       "70  36.010166           q7           flags3600  snowfallfilteredno       5   \n",
       "71  36.380318           q7           flags9000  snowfallfilteredno       5   \n",
       "\n",
       "      tower  \n",
       "0   gapfill  \n",
       "1   gapfill  \n",
       "2   gapfill  \n",
       "3   gapfill  \n",
       "4   gapfill  \n",
       "..      ...  \n",
       "67  gapfill  \n",
       "68  gapfill  \n",
       "69  gapfill  \n",
       "70  gapfill  \n",
       "71  gapfill  \n",
       "\n",
       "[72 rows x 8 columns]"
      ]
     },
     "execution_count": 6,
     "metadata": {},
     "output_type": "execute_result"
    }
   ],
   "source": [
    "totals_df['despiking'] = totals_df['processing'].apply(lambda s: s.split('_')[0])\n",
    "totals_df['instrument_flagging'] = totals_df['processing'].apply(lambda s: s.split('_')[1])\n",
    "totals_df['snowfall_filtering'] = totals_df['processing'].apply(lambda s: s.split('_')[2])\n",
    "totals_df['height'] = totals_df['variable'].str.split('_').str[3].str[:-1].astype(int)\n",
    "totals_df['tower'] = totals_df['variable'].str.split('_').str[-1]\n",
    "totals_df"
   ]
  },
  {
   "cell_type": "code",
   "execution_count": 7,
   "metadata": {},
   "outputs": [
    {
     "data": {
      "text/html": [
       "\n",
       "<style>\n",
       "  #altair-viz-a89ccb9c5594422282ef87e8dccdfaca.vega-embed {\n",
       "    width: 100%;\n",
       "    display: flex;\n",
       "  }\n",
       "\n",
       "  #altair-viz-a89ccb9c5594422282ef87e8dccdfaca.vega-embed details,\n",
       "  #altair-viz-a89ccb9c5594422282ef87e8dccdfaca.vega-embed details summary {\n",
       "    position: relative;\n",
       "  }\n",
       "</style>\n",
       "<div id=\"altair-viz-a89ccb9c5594422282ef87e8dccdfaca\"></div>\n",
       "<script type=\"text/javascript\">\n",
       "  var VEGA_DEBUG = (typeof VEGA_DEBUG == \"undefined\") ? {} : VEGA_DEBUG;\n",
       "  (function(spec, embedOpt){\n",
       "    let outputDiv = document.currentScript.previousElementSibling;\n",
       "    if (outputDiv.id !== \"altair-viz-a89ccb9c5594422282ef87e8dccdfaca\") {\n",
       "      outputDiv = document.getElementById(\"altair-viz-a89ccb9c5594422282ef87e8dccdfaca\");\n",
       "    }\n",
       "    const paths = {\n",
       "      \"vega\": \"https://cdn.jsdelivr.net/npm/vega@5?noext\",\n",
       "      \"vega-lib\": \"https://cdn.jsdelivr.net/npm/vega-lib?noext\",\n",
       "      \"vega-lite\": \"https://cdn.jsdelivr.net/npm/vega-lite@5.20.1?noext\",\n",
       "      \"vega-embed\": \"https://cdn.jsdelivr.net/npm/vega-embed@6?noext\",\n",
       "    };\n",
       "\n",
       "    function maybeLoadScript(lib, version) {\n",
       "      var key = `${lib.replace(\"-\", \"\")}_version`;\n",
       "      return (VEGA_DEBUG[key] == version) ?\n",
       "        Promise.resolve(paths[lib]) :\n",
       "        new Promise(function(resolve, reject) {\n",
       "          var s = document.createElement('script');\n",
       "          document.getElementsByTagName(\"head\")[0].appendChild(s);\n",
       "          s.async = true;\n",
       "          s.onload = () => {\n",
       "            VEGA_DEBUG[key] = version;\n",
       "            return resolve(paths[lib]);\n",
       "          };\n",
       "          s.onerror = () => reject(`Error loading script: ${paths[lib]}`);\n",
       "          s.src = paths[lib];\n",
       "        });\n",
       "    }\n",
       "\n",
       "    function showError(err) {\n",
       "      outputDiv.innerHTML = `<div class=\"error\" style=\"color:red;\">${err}</div>`;\n",
       "      throw err;\n",
       "    }\n",
       "\n",
       "    function displayChart(vegaEmbed) {\n",
       "      vegaEmbed(outputDiv, spec, embedOpt)\n",
       "        .catch(err => showError(`Javascript Error: ${err.message}<br>This usually means there's a typo in your chart specification. See the javascript console for the full traceback.`));\n",
       "    }\n",
       "\n",
       "    if(typeof define === \"function\" && define.amd) {\n",
       "      requirejs.config({paths});\n",
       "      require([\"vega-embed\"], displayChart, err => showError(`Error loading script: ${err.message}`));\n",
       "    } else {\n",
       "      maybeLoadScript(\"vega\", \"5\")\n",
       "        .then(() => maybeLoadScript(\"vega-lite\", \"5.20.1\"))\n",
       "        .then(() => maybeLoadScript(\"vega-embed\", \"6\"))\n",
       "        .catch(showError)\n",
       "        .then(() => displayChart(vegaEmbed));\n",
       "    }\n",
       "  })({\"config\": {\"view\": {\"continuousWidth\": 300, \"continuousHeight\": 300}}, \"data\": {\"name\": \"data-61420ba6d43ae00137e7564c41a1ecc5\"}, \"mark\": {\"type\": \"point\", \"size\": 100}, \"encoding\": {\"column\": {\"field\": \"instrument_flagging\", \"sort\": [\"flags36000\", \"flags9000\", \"flags3600\"], \"type\": \"nominal\"}, \"row\": {\"field\": \"despiking\", \"type\": \"nominal\"}, \"shape\": {\"field\": \"tower\", \"type\": \"nominal\"}, \"x\": {\"field\": \"value\", \"scale\": {\"zero\": false, \"domain\": [20, 40]}, \"type\": \"quantitative\"}, \"y\": {\"field\": \"height\", \"type\": \"quantitative\"}}, \"height\": 150, \"width\": 150, \"$schema\": \"https://vega.github.io/schema/vega-lite/v5.20.1.json\", \"datasets\": {\"data-61420ba6d43ae00137e7564c41a1ecc5\": [{\"variable\": \"w_h2o__10m_c_gapfill\", \"processing\": \"nodespiking_flags36000_snowfallfilteredno\", \"value\": 41.066912674817914, \"despiking\": \"nodespiking\", \"instrument_flagging\": \"flags36000\", \"snowfall_filtering\": \"snowfallfilteredno\", \"height\": 10, \"tower\": \"gapfill\"}, {\"variable\": \"w_h2o__10m_c_gapfill\", \"processing\": \"nodespiking_flags3600_snowfallfilteredno\", \"value\": 38.771280583521985, \"despiking\": \"nodespiking\", \"instrument_flagging\": \"flags3600\", \"snowfall_filtering\": \"snowfallfilteredno\", \"height\": 10, \"tower\": \"gapfill\"}, {\"variable\": \"w_h2o__10m_c_gapfill\", \"processing\": \"nodespiking_flags9000_snowfallfilteredno\", \"value\": 39.934237037417404, \"despiking\": \"nodespiking\", \"instrument_flagging\": \"flags9000\", \"snowfall_filtering\": \"snowfallfilteredno\", \"height\": 10, \"tower\": \"gapfill\"}, {\"variable\": \"w_h2o__10m_c_gapfill\", \"processing\": \"q7_flags36000_snowfallfilteredno\", \"value\": 39.03812984685282, \"despiking\": \"q7\", \"instrument_flagging\": \"flags36000\", \"snowfall_filtering\": \"snowfallfilteredno\", \"height\": 10, \"tower\": \"gapfill\"}, {\"variable\": \"w_h2o__10m_c_gapfill\", \"processing\": \"q7_flags3600_snowfallfilteredno\", \"value\": 37.10365579274981, \"despiking\": \"q7\", \"instrument_flagging\": \"flags3600\", \"snowfall_filtering\": \"snowfallfilteredno\", \"height\": 10, \"tower\": \"gapfill\"}, {\"variable\": \"w_h2o__10m_c_gapfill\", \"processing\": \"q7_flags9000_snowfallfilteredno\", \"value\": 38.282552792223555, \"despiking\": \"q7\", \"instrument_flagging\": \"flags9000\", \"snowfall_filtering\": \"snowfallfilteredno\", \"height\": 10, \"tower\": \"gapfill\"}, {\"variable\": \"w_h2o__10m_d_gapfill\", \"processing\": \"nodespiking_flags36000_snowfallfilteredno\", \"value\": 39.26768489306727, \"despiking\": \"nodespiking\", \"instrument_flagging\": \"flags36000\", \"snowfall_filtering\": \"snowfallfilteredno\", \"height\": 10, \"tower\": \"gapfill\"}, {\"variable\": \"w_h2o__10m_d_gapfill\", \"processing\": \"nodespiking_flags3600_snowfallfilteredno\", \"value\": 37.995488917142254, \"despiking\": \"nodespiking\", \"instrument_flagging\": \"flags3600\", \"snowfall_filtering\": \"snowfallfilteredno\", \"height\": 10, \"tower\": \"gapfill\"}, {\"variable\": \"w_h2o__10m_d_gapfill\", \"processing\": \"nodespiking_flags9000_snowfallfilteredno\", \"value\": 38.836558043780606, \"despiking\": \"nodespiking\", \"instrument_flagging\": \"flags9000\", \"snowfall_filtering\": \"snowfallfilteredno\", \"height\": 10, \"tower\": \"gapfill\"}, {\"variable\": \"w_h2o__10m_d_gapfill\", \"processing\": \"q7_flags36000_snowfallfilteredno\", \"value\": 38.521516724255406, \"despiking\": \"q7\", \"instrument_flagging\": \"flags36000\", \"snowfall_filtering\": \"snowfallfilteredno\", \"height\": 10, \"tower\": \"gapfill\"}, {\"variable\": \"w_h2o__10m_d_gapfill\", \"processing\": \"q7_flags3600_snowfallfilteredno\", \"value\": 36.645998217853965, \"despiking\": \"q7\", \"instrument_flagging\": \"flags3600\", \"snowfall_filtering\": \"snowfallfilteredno\", \"height\": 10, \"tower\": \"gapfill\"}, {\"variable\": \"w_h2o__10m_d_gapfill\", \"processing\": \"q7_flags9000_snowfallfilteredno\", \"value\": 37.52747925071346, \"despiking\": \"q7\", \"instrument_flagging\": \"flags9000\", \"snowfall_filtering\": \"snowfallfilteredno\", \"height\": 10, \"tower\": \"gapfill\"}, {\"variable\": \"w_h2o__10m_ue_gapfill\", \"processing\": \"nodespiking_flags36000_snowfallfilteredno\", \"value\": 33.64487624949155, \"despiking\": \"nodespiking\", \"instrument_flagging\": \"flags36000\", \"snowfall_filtering\": \"snowfallfilteredno\", \"height\": 10, \"tower\": \"gapfill\"}, {\"variable\": \"w_h2o__10m_ue_gapfill\", \"processing\": \"nodespiking_flags3600_snowfallfilteredno\", \"value\": 31.88884018259784, \"despiking\": \"nodespiking\", \"instrument_flagging\": \"flags3600\", \"snowfall_filtering\": \"snowfallfilteredno\", \"height\": 10, \"tower\": \"gapfill\"}, {\"variable\": \"w_h2o__10m_ue_gapfill\", \"processing\": \"nodespiking_flags9000_snowfallfilteredno\", \"value\": 32.75655872403924, \"despiking\": \"nodespiking\", \"instrument_flagging\": \"flags9000\", \"snowfall_filtering\": \"snowfallfilteredno\", \"height\": 10, \"tower\": \"gapfill\"}, {\"variable\": \"w_h2o__10m_ue_gapfill\", \"processing\": \"q7_flags36000_snowfallfilteredno\", \"value\": 34.11114783830964, \"despiking\": \"q7\", \"instrument_flagging\": \"flags36000\", \"snowfall_filtering\": \"snowfallfilteredno\", \"height\": 10, \"tower\": \"gapfill\"}, {\"variable\": \"w_h2o__10m_ue_gapfill\", \"processing\": \"q7_flags3600_snowfallfilteredno\", \"value\": 32.13720293775042, \"despiking\": \"q7\", \"instrument_flagging\": \"flags3600\", \"snowfall_filtering\": \"snowfallfilteredno\", \"height\": 10, \"tower\": \"gapfill\"}, {\"variable\": \"w_h2o__10m_ue_gapfill\", \"processing\": \"q7_flags9000_snowfallfilteredno\", \"value\": 33.05755004090702, \"despiking\": \"q7\", \"instrument_flagging\": \"flags9000\", \"snowfall_filtering\": \"snowfallfilteredno\", \"height\": 10, \"tower\": \"gapfill\"}, {\"variable\": \"w_h2o__10m_uw_gapfill\", \"processing\": \"nodespiking_flags36000_snowfallfilteredno\", \"value\": 38.70027947762211, \"despiking\": \"nodespiking\", \"instrument_flagging\": \"flags36000\", \"snowfall_filtering\": \"snowfallfilteredno\", \"height\": 10, \"tower\": \"gapfill\"}, {\"variable\": \"w_h2o__10m_uw_gapfill\", \"processing\": \"nodespiking_flags3600_snowfallfilteredno\", \"value\": 37.237796158676964, \"despiking\": \"nodespiking\", \"instrument_flagging\": \"flags3600\", \"snowfall_filtering\": \"snowfallfilteredno\", \"height\": 10, \"tower\": \"gapfill\"}, {\"variable\": \"w_h2o__10m_uw_gapfill\", \"processing\": \"nodespiking_flags9000_snowfallfilteredno\", \"value\": 37.45009668508041, \"despiking\": \"nodespiking\", \"instrument_flagging\": \"flags9000\", \"snowfall_filtering\": \"snowfallfilteredno\", \"height\": 10, \"tower\": \"gapfill\"}, {\"variable\": \"w_h2o__10m_uw_gapfill\", \"processing\": \"q7_flags36000_snowfallfilteredno\", \"value\": 38.719840002733285, \"despiking\": \"q7\", \"instrument_flagging\": \"flags36000\", \"snowfall_filtering\": \"snowfallfilteredno\", \"height\": 10, \"tower\": \"gapfill\"}, {\"variable\": \"w_h2o__10m_uw_gapfill\", \"processing\": \"q7_flags3600_snowfallfilteredno\", \"value\": 36.4594485248637, \"despiking\": \"q7\", \"instrument_flagging\": \"flags3600\", \"snowfall_filtering\": \"snowfallfilteredno\", \"height\": 10, \"tower\": \"gapfill\"}, {\"variable\": \"w_h2o__10m_uw_gapfill\", \"processing\": \"q7_flags9000_snowfallfilteredno\", \"value\": 36.75375631135028, \"despiking\": \"q7\", \"instrument_flagging\": \"flags9000\", \"snowfall_filtering\": \"snowfallfilteredno\", \"height\": 10, \"tower\": \"gapfill\"}, {\"variable\": \"w_h2o__15m_c_gapfill\", \"processing\": \"nodespiking_flags36000_snowfallfilteredno\", \"value\": 32.783561172944204, \"despiking\": \"nodespiking\", \"instrument_flagging\": \"flags36000\", \"snowfall_filtering\": \"snowfallfilteredno\", \"height\": 15, \"tower\": \"gapfill\"}, {\"variable\": \"w_h2o__15m_c_gapfill\", \"processing\": \"nodespiking_flags3600_snowfallfilteredno\", \"value\": 33.25996652471253, \"despiking\": \"nodespiking\", \"instrument_flagging\": \"flags3600\", \"snowfall_filtering\": \"snowfallfilteredno\", \"height\": 15, \"tower\": \"gapfill\"}, {\"variable\": \"w_h2o__15m_c_gapfill\", \"processing\": \"nodespiking_flags9000_snowfallfilteredno\", \"value\": 32.304533837594875, \"despiking\": \"nodespiking\", \"instrument_flagging\": \"flags9000\", \"snowfall_filtering\": \"snowfallfilteredno\", \"height\": 15, \"tower\": \"gapfill\"}, {\"variable\": \"w_h2o__15m_c_gapfill\", \"processing\": \"q7_flags36000_snowfallfilteredno\", \"value\": 30.834491797118986, \"despiking\": \"q7\", \"instrument_flagging\": \"flags36000\", \"snowfall_filtering\": \"snowfallfilteredno\", \"height\": 15, \"tower\": \"gapfill\"}, {\"variable\": \"w_h2o__15m_c_gapfill\", \"processing\": \"q7_flags3600_snowfallfilteredno\", \"value\": 31.968448928042193, \"despiking\": \"q7\", \"instrument_flagging\": \"flags3600\", \"snowfall_filtering\": \"snowfallfilteredno\", \"height\": 15, \"tower\": \"gapfill\"}, {\"variable\": \"w_h2o__15m_c_gapfill\", \"processing\": \"q7_flags9000_snowfallfilteredno\", \"value\": 30.45890149622295, \"despiking\": \"q7\", \"instrument_flagging\": \"flags9000\", \"snowfall_filtering\": \"snowfallfilteredno\", \"height\": 15, \"tower\": \"gapfill\"}, {\"variable\": \"w_h2o__20m_c_gapfill\", \"processing\": \"nodespiking_flags36000_snowfallfilteredno\", \"value\": 29.731018966389996, \"despiking\": \"nodespiking\", \"instrument_flagging\": \"flags36000\", \"snowfall_filtering\": \"snowfallfilteredno\", \"height\": 20, \"tower\": \"gapfill\"}, {\"variable\": \"w_h2o__20m_c_gapfill\", \"processing\": \"nodespiking_flags3600_snowfallfilteredno\", \"value\": 29.36698134365341, \"despiking\": \"nodespiking\", \"instrument_flagging\": \"flags3600\", \"snowfall_filtering\": \"snowfallfilteredno\", \"height\": 20, \"tower\": \"gapfill\"}, {\"variable\": \"w_h2o__20m_c_gapfill\", \"processing\": \"nodespiking_flags9000_snowfallfilteredno\", \"value\": 29.257495442154614, \"despiking\": \"nodespiking\", \"instrument_flagging\": \"flags9000\", \"snowfall_filtering\": \"snowfallfilteredno\", \"height\": 20, \"tower\": \"gapfill\"}, {\"variable\": \"w_h2o__20m_c_gapfill\", \"processing\": \"q7_flags36000_snowfallfilteredno\", \"value\": 29.785999363065617, \"despiking\": \"q7\", \"instrument_flagging\": \"flags36000\", \"snowfall_filtering\": \"snowfallfilteredno\", \"height\": 20, \"tower\": \"gapfill\"}, {\"variable\": \"w_h2o__20m_c_gapfill\", \"processing\": \"q7_flags3600_snowfallfilteredno\", \"value\": 28.990774480345834, \"despiking\": \"q7\", \"instrument_flagging\": \"flags3600\", \"snowfall_filtering\": \"snowfallfilteredno\", \"height\": 20, \"tower\": \"gapfill\"}, {\"variable\": \"w_h2o__20m_c_gapfill\", \"processing\": \"q7_flags9000_snowfallfilteredno\", \"value\": 29.170985247798036, \"despiking\": \"q7\", \"instrument_flagging\": \"flags9000\", \"snowfall_filtering\": \"snowfallfilteredno\", \"height\": 20, \"tower\": \"gapfill\"}, {\"variable\": \"w_h2o__2m_c_gapfill\", \"processing\": \"nodespiking_flags36000_snowfallfilteredno\", \"value\": 32.1451322783727, \"despiking\": \"nodespiking\", \"instrument_flagging\": \"flags36000\", \"snowfall_filtering\": \"snowfallfilteredno\", \"height\": 2, \"tower\": \"gapfill\"}, {\"variable\": \"w_h2o__2m_c_gapfill\", \"processing\": \"nodespiking_flags3600_snowfallfilteredno\", \"value\": 30.988719638955722, \"despiking\": \"nodespiking\", \"instrument_flagging\": \"flags3600\", \"snowfall_filtering\": \"snowfallfilteredno\", \"height\": 2, \"tower\": \"gapfill\"}, {\"variable\": \"w_h2o__2m_c_gapfill\", \"processing\": \"nodespiking_flags9000_snowfallfilteredno\", \"value\": 31.72837433554422, \"despiking\": \"nodespiking\", \"instrument_flagging\": \"flags9000\", \"snowfall_filtering\": \"snowfallfilteredno\", \"height\": 2, \"tower\": \"gapfill\"}, {\"variable\": \"w_h2o__2m_c_gapfill\", \"processing\": \"q7_flags36000_snowfallfilteredno\", \"value\": 32.081159502195824, \"despiking\": \"q7\", \"instrument_flagging\": \"flags36000\", \"snowfall_filtering\": \"snowfallfilteredno\", \"height\": 2, \"tower\": \"gapfill\"}, {\"variable\": \"w_h2o__2m_c_gapfill\", \"processing\": \"q7_flags3600_snowfallfilteredno\", \"value\": 30.9180636700007, \"despiking\": \"q7\", \"instrument_flagging\": \"flags3600\", \"snowfall_filtering\": \"snowfallfilteredno\", \"height\": 2, \"tower\": \"gapfill\"}, {\"variable\": \"w_h2o__2m_c_gapfill\", \"processing\": \"q7_flags9000_snowfallfilteredno\", \"value\": 31.647452649105926, \"despiking\": \"q7\", \"instrument_flagging\": \"flags9000\", \"snowfall_filtering\": \"snowfallfilteredno\", \"height\": 2, \"tower\": \"gapfill\"}, {\"variable\": \"w_h2o__3m_c_gapfill\", \"processing\": \"nodespiking_flags36000_snowfallfilteredno\", \"value\": 37.22302328011658, \"despiking\": \"nodespiking\", \"instrument_flagging\": \"flags36000\", \"snowfall_filtering\": \"snowfallfilteredno\", \"height\": 3, \"tower\": \"gapfill\"}, {\"variable\": \"w_h2o__3m_c_gapfill\", \"processing\": \"nodespiking_flags3600_snowfallfilteredno\", \"value\": 35.89694035058596, \"despiking\": \"nodespiking\", \"instrument_flagging\": \"flags3600\", \"snowfall_filtering\": \"snowfallfilteredno\", \"height\": 3, \"tower\": \"gapfill\"}, {\"variable\": \"w_h2o__3m_c_gapfill\", \"processing\": \"nodespiking_flags9000_snowfallfilteredno\", \"value\": 36.46939079520113, \"despiking\": \"nodespiking\", \"instrument_flagging\": \"flags9000\", \"snowfall_filtering\": \"snowfallfilteredno\", \"height\": 3, \"tower\": \"gapfill\"}, {\"variable\": \"w_h2o__3m_c_gapfill\", \"processing\": \"q7_flags36000_snowfallfilteredno\", \"value\": 35.480100944507555, \"despiking\": \"q7\", \"instrument_flagging\": \"flags36000\", \"snowfall_filtering\": \"snowfallfilteredno\", \"height\": 3, \"tower\": \"gapfill\"}, {\"variable\": \"w_h2o__3m_c_gapfill\", \"processing\": \"q7_flags3600_snowfallfilteredno\", \"value\": 34.64804048111688, \"despiking\": \"q7\", \"instrument_flagging\": \"flags3600\", \"snowfall_filtering\": \"snowfallfilteredno\", \"height\": 3, \"tower\": \"gapfill\"}, {\"variable\": \"w_h2o__3m_c_gapfill\", \"processing\": \"q7_flags9000_snowfallfilteredno\", \"value\": 35.15175858877548, \"despiking\": \"q7\", \"instrument_flagging\": \"flags9000\", \"snowfall_filtering\": \"snowfallfilteredno\", \"height\": 3, \"tower\": \"gapfill\"}, {\"variable\": \"w_h2o__3m_d_gapfill\", \"processing\": \"nodespiking_flags36000_snowfallfilteredno\", \"value\": 37.1273854715573, \"despiking\": \"nodespiking\", \"instrument_flagging\": \"flags36000\", \"snowfall_filtering\": \"snowfallfilteredno\", \"height\": 3, \"tower\": \"gapfill\"}, {\"variable\": \"w_h2o__3m_d_gapfill\", \"processing\": \"nodespiking_flags3600_snowfallfilteredno\", \"value\": 37.17094761139353, \"despiking\": \"nodespiking\", \"instrument_flagging\": \"flags3600\", \"snowfall_filtering\": \"snowfallfilteredno\", \"height\": 3, \"tower\": \"gapfill\"}, {\"variable\": \"w_h2o__3m_d_gapfill\", \"processing\": \"nodespiking_flags9000_snowfallfilteredno\", \"value\": 37.18491019291542, \"despiking\": \"nodespiking\", \"instrument_flagging\": \"flags9000\", \"snowfall_filtering\": \"snowfallfilteredno\", \"height\": 3, \"tower\": \"gapfill\"}, {\"variable\": \"w_h2o__3m_d_gapfill\", \"processing\": \"q7_flags36000_snowfallfilteredno\", \"value\": 36.8536971962098, \"despiking\": \"q7\", \"instrument_flagging\": \"flags36000\", \"snowfall_filtering\": \"snowfallfilteredno\", \"height\": 3, \"tower\": \"gapfill\"}, {\"variable\": \"w_h2o__3m_d_gapfill\", \"processing\": \"q7_flags3600_snowfallfilteredno\", \"value\": 36.60556536044751, \"despiking\": \"q7\", \"instrument_flagging\": \"flags3600\", \"snowfall_filtering\": \"snowfallfilteredno\", \"height\": 3, \"tower\": \"gapfill\"}, {\"variable\": \"w_h2o__3m_d_gapfill\", \"processing\": \"q7_flags9000_snowfallfilteredno\", \"value\": 36.676385155085725, \"despiking\": \"q7\", \"instrument_flagging\": \"flags9000\", \"snowfall_filtering\": \"snowfallfilteredno\", \"height\": 3, \"tower\": \"gapfill\"}, {\"variable\": \"w_h2o__3m_ue_gapfill\", \"processing\": \"nodespiking_flags36000_snowfallfilteredno\", \"value\": 38.63054710292778, \"despiking\": \"nodespiking\", \"instrument_flagging\": \"flags36000\", \"snowfall_filtering\": \"snowfallfilteredno\", \"height\": 3, \"tower\": \"gapfill\"}, {\"variable\": \"w_h2o__3m_ue_gapfill\", \"processing\": \"nodespiking_flags3600_snowfallfilteredno\", \"value\": 36.54386906393158, \"despiking\": \"nodespiking\", \"instrument_flagging\": \"flags3600\", \"snowfall_filtering\": \"snowfallfilteredno\", \"height\": 3, \"tower\": \"gapfill\"}, {\"variable\": \"w_h2o__3m_ue_gapfill\", \"processing\": \"nodespiking_flags9000_snowfallfilteredno\", \"value\": 37.258949806014755, \"despiking\": \"nodespiking\", \"instrument_flagging\": \"flags9000\", \"snowfall_filtering\": \"snowfallfilteredno\", \"height\": 3, \"tower\": \"gapfill\"}, {\"variable\": \"w_h2o__3m_ue_gapfill\", \"processing\": \"q7_flags36000_snowfallfilteredno\", \"value\": 37.905563369451684, \"despiking\": \"q7\", \"instrument_flagging\": \"flags36000\", \"snowfall_filtering\": \"snowfallfilteredno\", \"height\": 3, \"tower\": \"gapfill\"}, {\"variable\": \"w_h2o__3m_ue_gapfill\", \"processing\": \"q7_flags3600_snowfallfilteredno\", \"value\": 35.93487894192383, \"despiking\": \"q7\", \"instrument_flagging\": \"flags3600\", \"snowfall_filtering\": \"snowfallfilteredno\", \"height\": 3, \"tower\": \"gapfill\"}, {\"variable\": \"w_h2o__3m_ue_gapfill\", \"processing\": \"q7_flags9000_snowfallfilteredno\", \"value\": 36.64018573678658, \"despiking\": \"q7\", \"instrument_flagging\": \"flags9000\", \"snowfall_filtering\": \"snowfallfilteredno\", \"height\": 3, \"tower\": \"gapfill\"}, {\"variable\": \"w_h2o__3m_uw_gapfill\", \"processing\": \"nodespiking_flags36000_snowfallfilteredno\", \"value\": 36.72613729051168, \"despiking\": \"nodespiking\", \"instrument_flagging\": \"flags36000\", \"snowfall_filtering\": \"snowfallfilteredno\", \"height\": 3, \"tower\": \"gapfill\"}, {\"variable\": \"w_h2o__3m_uw_gapfill\", \"processing\": \"nodespiking_flags3600_snowfallfilteredno\", \"value\": 35.80011274555257, \"despiking\": \"nodespiking\", \"instrument_flagging\": \"flags3600\", \"snowfall_filtering\": \"snowfallfilteredno\", \"height\": 3, \"tower\": \"gapfill\"}, {\"variable\": \"w_h2o__3m_uw_gapfill\", \"processing\": \"nodespiking_flags9000_snowfallfilteredno\", \"value\": 36.17805604135844, \"despiking\": \"nodespiking\", \"instrument_flagging\": \"flags9000\", \"snowfall_filtering\": \"snowfallfilteredno\", \"height\": 3, \"tower\": \"gapfill\"}, {\"variable\": \"w_h2o__3m_uw_gapfill\", \"processing\": \"q7_flags36000_snowfallfilteredno\", \"value\": 35.867048365975855, \"despiking\": \"q7\", \"instrument_flagging\": \"flags36000\", \"snowfall_filtering\": \"snowfallfilteredno\", \"height\": 3, \"tower\": \"gapfill\"}, {\"variable\": \"w_h2o__3m_uw_gapfill\", \"processing\": \"q7_flags3600_snowfallfilteredno\", \"value\": 34.843466438446534, \"despiking\": \"q7\", \"instrument_flagging\": \"flags3600\", \"snowfall_filtering\": \"snowfallfilteredno\", \"height\": 3, \"tower\": \"gapfill\"}, {\"variable\": \"w_h2o__3m_uw_gapfill\", \"processing\": \"q7_flags9000_snowfallfilteredno\", \"value\": 35.19118634210092, \"despiking\": \"q7\", \"instrument_flagging\": \"flags9000\", \"snowfall_filtering\": \"snowfallfilteredno\", \"height\": 3, \"tower\": \"gapfill\"}, {\"variable\": \"w_h2o__5m_c_gapfill\", \"processing\": \"nodespiking_flags36000_snowfallfilteredno\", \"value\": 38.7523492224752, \"despiking\": \"nodespiking\", \"instrument_flagging\": \"flags36000\", \"snowfall_filtering\": \"snowfallfilteredno\", \"height\": 5, \"tower\": \"gapfill\"}, {\"variable\": \"w_h2o__5m_c_gapfill\", \"processing\": \"nodespiking_flags3600_snowfallfilteredno\", \"value\": 37.73479312231065, \"despiking\": \"nodespiking\", \"instrument_flagging\": \"flags3600\", \"snowfall_filtering\": \"snowfallfilteredno\", \"height\": 5, \"tower\": \"gapfill\"}, {\"variable\": \"w_h2o__5m_c_gapfill\", \"processing\": \"nodespiking_flags9000_snowfallfilteredno\", \"value\": 38.14011479614998, \"despiking\": \"nodespiking\", \"instrument_flagging\": \"flags9000\", \"snowfall_filtering\": \"snowfallfilteredno\", \"height\": 5, \"tower\": \"gapfill\"}, {\"variable\": \"w_h2o__5m_c_gapfill\", \"processing\": \"q7_flags36000_snowfallfilteredno\", \"value\": 36.93036836673128, \"despiking\": \"q7\", \"instrument_flagging\": \"flags36000\", \"snowfall_filtering\": \"snowfallfilteredno\", \"height\": 5, \"tower\": \"gapfill\"}, {\"variable\": \"w_h2o__5m_c_gapfill\", \"processing\": \"q7_flags3600_snowfallfilteredno\", \"value\": 36.01016583674444, \"despiking\": \"q7\", \"instrument_flagging\": \"flags3600\", \"snowfall_filtering\": \"snowfallfilteredno\", \"height\": 5, \"tower\": \"gapfill\"}, {\"variable\": \"w_h2o__5m_c_gapfill\", \"processing\": \"q7_flags9000_snowfallfilteredno\", \"value\": 36.380317635478335, \"despiking\": \"q7\", \"instrument_flagging\": \"flags9000\", \"snowfall_filtering\": \"snowfallfilteredno\", \"height\": 5, \"tower\": \"gapfill\"}]}}, {\"mode\": \"vega-lite\"});\n",
       "</script>"
      ],
      "text/plain": [
       "alt.Chart(...)"
      ]
     },
     "execution_count": 7,
     "metadata": {},
     "output_type": "execute_result"
    }
   ],
   "source": [
    "alt.Chart(totals_df).mark_point(size=100).encode(\n",
    "    alt.X('value:Q').scale(zero=False, domain=[20,40]),\n",
    "    alt.Y('height:Q'),\n",
    "    alt.Shape('tower:N'),\n",
    "    alt.Column('instrument_flagging').sort(['flags36000', 'flags9000', 'flags3600']),\n",
    "    alt.Row('despiking'),\n",
    ").properties(width=150, height = 150)"
   ]
  },
  {
   "cell_type": "code",
   "execution_count": 10,
   "metadata": {},
   "outputs": [
    {
     "data": {
      "text/plain": [
       "array(['snowfallfilteredno'], dtype=object)"
      ]
     },
     "execution_count": 10,
     "metadata": {},
     "output_type": "execute_result"
    }
   ],
   "source": [
    "totals_df.snowfall_filtering.unique()"
   ]
  },
  {
   "cell_type": "code",
   "execution_count": 26,
   "metadata": {},
   "outputs": [
    {
     "name": "stdout",
     "output_type": "stream",
     "text": [
      "1.0333333333333332 1.2\n"
     ]
    },
    {
     "data": {
      "text/plain": [
       "variable\n",
       "w_h2o__10m_c_gapfill     3.1\n",
       "w_h2o__10m_d_gapfill     2.3\n",
       "w_h2o__10m_ue_gapfill    2.8\n",
       "w_h2o__10m_uw_gapfill    0.8\n",
       "w_h2o__15m_c_gapfill    -5.0\n",
       "w_h2o__20m_c_gapfill     0.6\n",
       "w_h2o__2m_c_gapfill      2.3\n",
       "w_h2o__3m_c_gapfill      1.4\n",
       "w_h2o__3m_d_gapfill      0.2\n",
       "w_h2o__3m_ue_gapfill     1.9\n",
       "w_h2o__3m_uw_gapfill     1.0\n",
       "w_h2o__5m_c_gapfill      1.0\n",
       "Name: value, dtype: float64"
      ]
     },
     "execution_count": 26,
     "metadata": {},
     "output_type": "execute_result"
    }
   ],
   "source": [
    "values_9000 = totals_df[totals_df.despiking == 'q7'].query(\"instrument_flagging == 'flags9000'\").set_index('variable')['value']\n",
    "values_3600 = totals_df[totals_df.despiking == 'q7'].query(\"instrument_flagging == 'flags3600'\").set_index('variable')['value']\n",
    "changes_due_to_flagging = round(\n",
    "    ((values_9000 - values_3600)/values_9000)*100,\n",
    "    1\n",
    ")\n",
    "print(changes_due_to_flagging.mean(), changes_due_to_flagging.median())\n",
    "changes_due_to_flagging"
   ]
  },
  {
   "cell_type": "code",
   "execution_count": 151,
   "metadata": {},
   "outputs": [
    {
     "data": {
      "text/html": [
       "\n",
       "<style>\n",
       "  #altair-viz-d8878b02a48a4e878c2d0809a4a4ff10.vega-embed {\n",
       "    width: 100%;\n",
       "    display: flex;\n",
       "  }\n",
       "\n",
       "  #altair-viz-d8878b02a48a4e878c2d0809a4a4ff10.vega-embed details,\n",
       "  #altair-viz-d8878b02a48a4e878c2d0809a4a4ff10.vega-embed details summary {\n",
       "    position: relative;\n",
       "  }\n",
       "</style>\n",
       "<div id=\"altair-viz-d8878b02a48a4e878c2d0809a4a4ff10\"></div>\n",
       "<script type=\"text/javascript\">\n",
       "  var VEGA_DEBUG = (typeof VEGA_DEBUG == \"undefined\") ? {} : VEGA_DEBUG;\n",
       "  (function(spec, embedOpt){\n",
       "    let outputDiv = document.currentScript.previousElementSibling;\n",
       "    if (outputDiv.id !== \"altair-viz-d8878b02a48a4e878c2d0809a4a4ff10\") {\n",
       "      outputDiv = document.getElementById(\"altair-viz-d8878b02a48a4e878c2d0809a4a4ff10\");\n",
       "    }\n",
       "    const paths = {\n",
       "      \"vega\": \"https://cdn.jsdelivr.net/npm/vega@5?noext\",\n",
       "      \"vega-lib\": \"https://cdn.jsdelivr.net/npm/vega-lib?noext\",\n",
       "      \"vega-lite\": \"https://cdn.jsdelivr.net/npm/vega-lite@5.20.1?noext\",\n",
       "      \"vega-embed\": \"https://cdn.jsdelivr.net/npm/vega-embed@6?noext\",\n",
       "    };\n",
       "\n",
       "    function maybeLoadScript(lib, version) {\n",
       "      var key = `${lib.replace(\"-\", \"\")}_version`;\n",
       "      return (VEGA_DEBUG[key] == version) ?\n",
       "        Promise.resolve(paths[lib]) :\n",
       "        new Promise(function(resolve, reject) {\n",
       "          var s = document.createElement('script');\n",
       "          document.getElementsByTagName(\"head\")[0].appendChild(s);\n",
       "          s.async = true;\n",
       "          s.onload = () => {\n",
       "            VEGA_DEBUG[key] = version;\n",
       "            return resolve(paths[lib]);\n",
       "          };\n",
       "          s.onerror = () => reject(`Error loading script: ${paths[lib]}`);\n",
       "          s.src = paths[lib];\n",
       "        });\n",
       "    }\n",
       "\n",
       "    function showError(err) {\n",
       "      outputDiv.innerHTML = `<div class=\"error\" style=\"color:red;\">${err}</div>`;\n",
       "      throw err;\n",
       "    }\n",
       "\n",
       "    function displayChart(vegaEmbed) {\n",
       "      vegaEmbed(outputDiv, spec, embedOpt)\n",
       "        .catch(err => showError(`Javascript Error: ${err.message}<br>This usually means there's a typo in your chart specification. See the javascript console for the full traceback.`));\n",
       "    }\n",
       "\n",
       "    if(typeof define === \"function\" && define.amd) {\n",
       "      requirejs.config({paths});\n",
       "      require([\"vega-embed\"], displayChart, err => showError(`Error loading script: ${err.message}`));\n",
       "    } else {\n",
       "      maybeLoadScript(\"vega\", \"5\")\n",
       "        .then(() => maybeLoadScript(\"vega-lite\", \"5.20.1\"))\n",
       "        .then(() => maybeLoadScript(\"vega-embed\", \"6\"))\n",
       "        .catch(showError)\n",
       "        .then(() => displayChart(vegaEmbed));\n",
       "    }\n",
       "  })({\"config\": {\"view\": {\"continuousWidth\": 300, \"continuousHeight\": 300}}, \"layer\": [{\"mark\": {\"type\": \"rule\"}, \"encoding\": {\"x\": {\"aggregate\": \"min\", \"field\": \"value\", \"scale\": {\"zero\": false}, \"type\": \"quantitative\"}, \"x2\": {\"aggregate\": \"max\", \"field\": \"value\"}, \"y\": {\"field\": \"variable\", \"sort\": [\"w_h2o__20m_c\", \"w_h2o__15m_c\", \"w_h2o__10m_c\", \"w_h2o__10m_d\", \"w_h2o__10m_ue\", \"w_h2o__10m_uw\", \"w_h2o__5m_c\", \"w_h2o__3m_c\", \"w_h2o__3m_d\", \"w_h2o__3m_ue\", \"w_h2o__3m_uw\", \"w_h2o__2m_c\"], \"type\": \"nominal\"}}}, {\"mark\": {\"type\": \"circle\", \"color\": \"blue\", \"opacity\": 1}, \"encoding\": {\"x\": {\"field\": \"value\", \"title\": [\"Cumulative sublimation (mm SWE)\"], \"type\": \"quantitative\"}, \"y\": {\"field\": \"variable\", \"sort\": [\"w_h2o__20m_c\", \"w_h2o__15m_c\", \"w_h2o__10m_c\", \"w_h2o__10m_d\", \"w_h2o__10m_ue\", \"w_h2o__10m_uw\", \"w_h2o__5m_c\", \"w_h2o__3m_c\", \"w_h2o__3m_d\", \"w_h2o__3m_ue\", \"w_h2o__3m_uw\", \"w_h2o__2m_c\"], \"type\": \"nominal\"}}, \"transform\": [{\"filter\": \"datum.processing == 'q7_flags9000_snowfallfilteredno'\"}]}], \"data\": {\"name\": \"data-6f10ea2eec28e2a88ec78fb6876006f4\"}, \"height\": 200, \"width\": 200, \"$schema\": \"https://vega.github.io/schema/vega-lite/v5.20.1.json\", \"datasets\": {\"data-6f10ea2eec28e2a88ec78fb6876006f4\": [{\"variable\": \"w_h2o__10m_c\", \"processing\": \"nodespiking_flags36000_snowfallfilteredno\", \"value\": 41.066912674817914, \"despiking\": \"nodespiking\", \"instrument_flagging\": \"flags36000\", \"snowfall_filtering\": \"snowfallfilteredno\", \"height\": 10, \"tower\": \"gapfill\"}, {\"variable\": \"w_h2o__10m_c\", \"processing\": \"nodespiking_flags3600_snowfallfilteredno\", \"value\": 38.771280583521985, \"despiking\": \"nodespiking\", \"instrument_flagging\": \"flags3600\", \"snowfall_filtering\": \"snowfallfilteredno\", \"height\": 10, \"tower\": \"gapfill\"}, {\"variable\": \"w_h2o__10m_c\", \"processing\": \"nodespiking_flags9000_snowfallfilteredno\", \"value\": 39.934237037417404, \"despiking\": \"nodespiking\", \"instrument_flagging\": \"flags9000\", \"snowfall_filtering\": \"snowfallfilteredno\", \"height\": 10, \"tower\": \"gapfill\"}, {\"variable\": \"w_h2o__10m_c\", \"processing\": \"q7_flags36000_snowfallfilteredno\", \"value\": 39.03812984685282, \"despiking\": \"q7\", \"instrument_flagging\": \"flags36000\", \"snowfall_filtering\": \"snowfallfilteredno\", \"height\": 10, \"tower\": \"gapfill\"}, {\"variable\": \"w_h2o__10m_c\", \"processing\": \"q7_flags3600_snowfallfilteredno\", \"value\": 37.10365579274981, \"despiking\": \"q7\", \"instrument_flagging\": \"flags3600\", \"snowfall_filtering\": \"snowfallfilteredno\", \"height\": 10, \"tower\": \"gapfill\"}, {\"variable\": \"w_h2o__10m_c\", \"processing\": \"q7_flags9000_snowfallfilteredno\", \"value\": 38.282552792223555, \"despiking\": \"q7\", \"instrument_flagging\": \"flags9000\", \"snowfall_filtering\": \"snowfallfilteredno\", \"height\": 10, \"tower\": \"gapfill\"}, {\"variable\": \"w_h2o__10m_d\", \"processing\": \"nodespiking_flags36000_snowfallfilteredno\", \"value\": 39.26768489306727, \"despiking\": \"nodespiking\", \"instrument_flagging\": \"flags36000\", \"snowfall_filtering\": \"snowfallfilteredno\", \"height\": 10, \"tower\": \"gapfill\"}, {\"variable\": \"w_h2o__10m_d\", \"processing\": \"nodespiking_flags3600_snowfallfilteredno\", \"value\": 37.995488917142254, \"despiking\": \"nodespiking\", \"instrument_flagging\": \"flags3600\", \"snowfall_filtering\": \"snowfallfilteredno\", \"height\": 10, \"tower\": \"gapfill\"}, {\"variable\": \"w_h2o__10m_d\", \"processing\": \"nodespiking_flags9000_snowfallfilteredno\", \"value\": 38.836558043780606, \"despiking\": \"nodespiking\", \"instrument_flagging\": \"flags9000\", \"snowfall_filtering\": \"snowfallfilteredno\", \"height\": 10, \"tower\": \"gapfill\"}, {\"variable\": \"w_h2o__10m_d\", \"processing\": \"q7_flags36000_snowfallfilteredno\", \"value\": 38.521516724255406, \"despiking\": \"q7\", \"instrument_flagging\": \"flags36000\", \"snowfall_filtering\": \"snowfallfilteredno\", \"height\": 10, \"tower\": \"gapfill\"}, {\"variable\": \"w_h2o__10m_d\", \"processing\": \"q7_flags3600_snowfallfilteredno\", \"value\": 36.645998217853965, \"despiking\": \"q7\", \"instrument_flagging\": \"flags3600\", \"snowfall_filtering\": \"snowfallfilteredno\", \"height\": 10, \"tower\": \"gapfill\"}, {\"variable\": \"w_h2o__10m_d\", \"processing\": \"q7_flags9000_snowfallfilteredno\", \"value\": 37.52747925071346, \"despiking\": \"q7\", \"instrument_flagging\": \"flags9000\", \"snowfall_filtering\": \"snowfallfilteredno\", \"height\": 10, \"tower\": \"gapfill\"}, {\"variable\": \"w_h2o__10m_ue\", \"processing\": \"nodespiking_flags36000_snowfallfilteredno\", \"value\": 33.64487624949155, \"despiking\": \"nodespiking\", \"instrument_flagging\": \"flags36000\", \"snowfall_filtering\": \"snowfallfilteredno\", \"height\": 10, \"tower\": \"gapfill\"}, {\"variable\": \"w_h2o__10m_ue\", \"processing\": \"nodespiking_flags3600_snowfallfilteredno\", \"value\": 31.88884018259784, \"despiking\": \"nodespiking\", \"instrument_flagging\": \"flags3600\", \"snowfall_filtering\": \"snowfallfilteredno\", \"height\": 10, \"tower\": \"gapfill\"}, {\"variable\": \"w_h2o__10m_ue\", \"processing\": \"nodespiking_flags9000_snowfallfilteredno\", \"value\": 32.75655872403924, \"despiking\": \"nodespiking\", \"instrument_flagging\": \"flags9000\", \"snowfall_filtering\": \"snowfallfilteredno\", \"height\": 10, \"tower\": \"gapfill\"}, {\"variable\": \"w_h2o__10m_ue\", \"processing\": \"q7_flags36000_snowfallfilteredno\", \"value\": 34.11114783830964, \"despiking\": \"q7\", \"instrument_flagging\": \"flags36000\", \"snowfall_filtering\": \"snowfallfilteredno\", \"height\": 10, \"tower\": \"gapfill\"}, {\"variable\": \"w_h2o__10m_ue\", \"processing\": \"q7_flags3600_snowfallfilteredno\", \"value\": 32.13720293775042, \"despiking\": \"q7\", \"instrument_flagging\": \"flags3600\", \"snowfall_filtering\": \"snowfallfilteredno\", \"height\": 10, \"tower\": \"gapfill\"}, {\"variable\": \"w_h2o__10m_ue\", \"processing\": \"q7_flags9000_snowfallfilteredno\", \"value\": 33.05755004090702, \"despiking\": \"q7\", \"instrument_flagging\": \"flags9000\", \"snowfall_filtering\": \"snowfallfilteredno\", \"height\": 10, \"tower\": \"gapfill\"}, {\"variable\": \"w_h2o__10m_uw\", \"processing\": \"nodespiking_flags36000_snowfallfilteredno\", \"value\": 38.70027947762211, \"despiking\": \"nodespiking\", \"instrument_flagging\": \"flags36000\", \"snowfall_filtering\": \"snowfallfilteredno\", \"height\": 10, \"tower\": \"gapfill\"}, {\"variable\": \"w_h2o__10m_uw\", \"processing\": \"nodespiking_flags3600_snowfallfilteredno\", \"value\": 37.237796158676964, \"despiking\": \"nodespiking\", \"instrument_flagging\": \"flags3600\", \"snowfall_filtering\": \"snowfallfilteredno\", \"height\": 10, \"tower\": \"gapfill\"}, {\"variable\": \"w_h2o__10m_uw\", \"processing\": \"nodespiking_flags9000_snowfallfilteredno\", \"value\": 37.45009668508041, \"despiking\": \"nodespiking\", \"instrument_flagging\": \"flags9000\", \"snowfall_filtering\": \"snowfallfilteredno\", \"height\": 10, \"tower\": \"gapfill\"}, {\"variable\": \"w_h2o__10m_uw\", \"processing\": \"q7_flags36000_snowfallfilteredno\", \"value\": 38.719840002733285, \"despiking\": \"q7\", \"instrument_flagging\": \"flags36000\", \"snowfall_filtering\": \"snowfallfilteredno\", \"height\": 10, \"tower\": \"gapfill\"}, {\"variable\": \"w_h2o__10m_uw\", \"processing\": \"q7_flags3600_snowfallfilteredno\", \"value\": 36.4594485248637, \"despiking\": \"q7\", \"instrument_flagging\": \"flags3600\", \"snowfall_filtering\": \"snowfallfilteredno\", \"height\": 10, \"tower\": \"gapfill\"}, {\"variable\": \"w_h2o__10m_uw\", \"processing\": \"q7_flags9000_snowfallfilteredno\", \"value\": 36.75375631135028, \"despiking\": \"q7\", \"instrument_flagging\": \"flags9000\", \"snowfall_filtering\": \"snowfallfilteredno\", \"height\": 10, \"tower\": \"gapfill\"}, {\"variable\": \"w_h2o__15m_c\", \"processing\": \"nodespiking_flags36000_snowfallfilteredno\", \"value\": 32.783561172944204, \"despiking\": \"nodespiking\", \"instrument_flagging\": \"flags36000\", \"snowfall_filtering\": \"snowfallfilteredno\", \"height\": 15, \"tower\": \"gapfill\"}, {\"variable\": \"w_h2o__15m_c\", \"processing\": \"nodespiking_flags3600_snowfallfilteredno\", \"value\": 33.25996652471253, \"despiking\": \"nodespiking\", \"instrument_flagging\": \"flags3600\", \"snowfall_filtering\": \"snowfallfilteredno\", \"height\": 15, \"tower\": \"gapfill\"}, {\"variable\": \"w_h2o__15m_c\", \"processing\": \"nodespiking_flags9000_snowfallfilteredno\", \"value\": 32.304533837594875, \"despiking\": \"nodespiking\", \"instrument_flagging\": \"flags9000\", \"snowfall_filtering\": \"snowfallfilteredno\", \"height\": 15, \"tower\": \"gapfill\"}, {\"variable\": \"w_h2o__15m_c\", \"processing\": \"q7_flags36000_snowfallfilteredno\", \"value\": 30.834491797118986, \"despiking\": \"q7\", \"instrument_flagging\": \"flags36000\", \"snowfall_filtering\": \"snowfallfilteredno\", \"height\": 15, \"tower\": \"gapfill\"}, {\"variable\": \"w_h2o__15m_c\", \"processing\": \"q7_flags3600_snowfallfilteredno\", \"value\": 31.968448928042193, \"despiking\": \"q7\", \"instrument_flagging\": \"flags3600\", \"snowfall_filtering\": \"snowfallfilteredno\", \"height\": 15, \"tower\": \"gapfill\"}, {\"variable\": \"w_h2o__15m_c\", \"processing\": \"q7_flags9000_snowfallfilteredno\", \"value\": 30.45890149622295, \"despiking\": \"q7\", \"instrument_flagging\": \"flags9000\", \"snowfall_filtering\": \"snowfallfilteredno\", \"height\": 15, \"tower\": \"gapfill\"}, {\"variable\": \"w_h2o__20m_c\", \"processing\": \"nodespiking_flags36000_snowfallfilteredno\", \"value\": 29.731018966389996, \"despiking\": \"nodespiking\", \"instrument_flagging\": \"flags36000\", \"snowfall_filtering\": \"snowfallfilteredno\", \"height\": 20, \"tower\": \"gapfill\"}, {\"variable\": \"w_h2o__20m_c\", \"processing\": \"nodespiking_flags3600_snowfallfilteredno\", \"value\": 29.36698134365341, \"despiking\": \"nodespiking\", \"instrument_flagging\": \"flags3600\", \"snowfall_filtering\": \"snowfallfilteredno\", \"height\": 20, \"tower\": \"gapfill\"}, {\"variable\": \"w_h2o__20m_c\", \"processing\": \"nodespiking_flags9000_snowfallfilteredno\", \"value\": 29.257495442154614, \"despiking\": \"nodespiking\", \"instrument_flagging\": \"flags9000\", \"snowfall_filtering\": \"snowfallfilteredno\", \"height\": 20, \"tower\": \"gapfill\"}, {\"variable\": \"w_h2o__20m_c\", \"processing\": \"q7_flags36000_snowfallfilteredno\", \"value\": 29.785999363065617, \"despiking\": \"q7\", \"instrument_flagging\": \"flags36000\", \"snowfall_filtering\": \"snowfallfilteredno\", \"height\": 20, \"tower\": \"gapfill\"}, {\"variable\": \"w_h2o__20m_c\", \"processing\": \"q7_flags3600_snowfallfilteredno\", \"value\": 28.990774480345834, \"despiking\": \"q7\", \"instrument_flagging\": \"flags3600\", \"snowfall_filtering\": \"snowfallfilteredno\", \"height\": 20, \"tower\": \"gapfill\"}, {\"variable\": \"w_h2o__20m_c\", \"processing\": \"q7_flags9000_snowfallfilteredno\", \"value\": 29.170985247798036, \"despiking\": \"q7\", \"instrument_flagging\": \"flags9000\", \"snowfall_filtering\": \"snowfallfilteredno\", \"height\": 20, \"tower\": \"gapfill\"}, {\"variable\": \"w_h2o__2m_c\", \"processing\": \"nodespiking_flags36000_snowfallfilteredno\", \"value\": 32.1451322783727, \"despiking\": \"nodespiking\", \"instrument_flagging\": \"flags36000\", \"snowfall_filtering\": \"snowfallfilteredno\", \"height\": 2, \"tower\": \"gapfill\"}, {\"variable\": \"w_h2o__2m_c\", \"processing\": \"nodespiking_flags3600_snowfallfilteredno\", \"value\": 30.988719638955722, \"despiking\": \"nodespiking\", \"instrument_flagging\": \"flags3600\", \"snowfall_filtering\": \"snowfallfilteredno\", \"height\": 2, \"tower\": \"gapfill\"}, {\"variable\": \"w_h2o__2m_c\", \"processing\": \"nodespiking_flags9000_snowfallfilteredno\", \"value\": 31.72837433554422, \"despiking\": \"nodespiking\", \"instrument_flagging\": \"flags9000\", \"snowfall_filtering\": \"snowfallfilteredno\", \"height\": 2, \"tower\": \"gapfill\"}, {\"variable\": \"w_h2o__2m_c\", \"processing\": \"q7_flags36000_snowfallfilteredno\", \"value\": 32.081159502195824, \"despiking\": \"q7\", \"instrument_flagging\": \"flags36000\", \"snowfall_filtering\": \"snowfallfilteredno\", \"height\": 2, \"tower\": \"gapfill\"}, {\"variable\": \"w_h2o__2m_c\", \"processing\": \"q7_flags3600_snowfallfilteredno\", \"value\": 30.9180636700007, \"despiking\": \"q7\", \"instrument_flagging\": \"flags3600\", \"snowfall_filtering\": \"snowfallfilteredno\", \"height\": 2, \"tower\": \"gapfill\"}, {\"variable\": \"w_h2o__2m_c\", \"processing\": \"q7_flags9000_snowfallfilteredno\", \"value\": 31.647452649105926, \"despiking\": \"q7\", \"instrument_flagging\": \"flags9000\", \"snowfall_filtering\": \"snowfallfilteredno\", \"height\": 2, \"tower\": \"gapfill\"}, {\"variable\": \"w_h2o__3m_c\", \"processing\": \"nodespiking_flags36000_snowfallfilteredno\", \"value\": 37.22302328011658, \"despiking\": \"nodespiking\", \"instrument_flagging\": \"flags36000\", \"snowfall_filtering\": \"snowfallfilteredno\", \"height\": 3, \"tower\": \"gapfill\"}, {\"variable\": \"w_h2o__3m_c\", \"processing\": \"nodespiking_flags3600_snowfallfilteredno\", \"value\": 35.89694035058596, \"despiking\": \"nodespiking\", \"instrument_flagging\": \"flags3600\", \"snowfall_filtering\": \"snowfallfilteredno\", \"height\": 3, \"tower\": \"gapfill\"}, {\"variable\": \"w_h2o__3m_c\", \"processing\": \"nodespiking_flags9000_snowfallfilteredno\", \"value\": 36.46939079520113, \"despiking\": \"nodespiking\", \"instrument_flagging\": \"flags9000\", \"snowfall_filtering\": \"snowfallfilteredno\", \"height\": 3, \"tower\": \"gapfill\"}, {\"variable\": \"w_h2o__3m_c\", \"processing\": \"q7_flags36000_snowfallfilteredno\", \"value\": 35.480100944507555, \"despiking\": \"q7\", \"instrument_flagging\": \"flags36000\", \"snowfall_filtering\": \"snowfallfilteredno\", \"height\": 3, \"tower\": \"gapfill\"}, {\"variable\": \"w_h2o__3m_c\", \"processing\": \"q7_flags3600_snowfallfilteredno\", \"value\": 34.64804048111688, \"despiking\": \"q7\", \"instrument_flagging\": \"flags3600\", \"snowfall_filtering\": \"snowfallfilteredno\", \"height\": 3, \"tower\": \"gapfill\"}, {\"variable\": \"w_h2o__3m_c\", \"processing\": \"q7_flags9000_snowfallfilteredno\", \"value\": 35.15175858877548, \"despiking\": \"q7\", \"instrument_flagging\": \"flags9000\", \"snowfall_filtering\": \"snowfallfilteredno\", \"height\": 3, \"tower\": \"gapfill\"}, {\"variable\": \"w_h2o__3m_d\", \"processing\": \"nodespiking_flags36000_snowfallfilteredno\", \"value\": 37.1273854715573, \"despiking\": \"nodespiking\", \"instrument_flagging\": \"flags36000\", \"snowfall_filtering\": \"snowfallfilteredno\", \"height\": 3, \"tower\": \"gapfill\"}, {\"variable\": \"w_h2o__3m_d\", \"processing\": \"nodespiking_flags3600_snowfallfilteredno\", \"value\": 37.17094761139353, \"despiking\": \"nodespiking\", \"instrument_flagging\": \"flags3600\", \"snowfall_filtering\": \"snowfallfilteredno\", \"height\": 3, \"tower\": \"gapfill\"}, {\"variable\": \"w_h2o__3m_d\", \"processing\": \"nodespiking_flags9000_snowfallfilteredno\", \"value\": 37.18491019291542, \"despiking\": \"nodespiking\", \"instrument_flagging\": \"flags9000\", \"snowfall_filtering\": \"snowfallfilteredno\", \"height\": 3, \"tower\": \"gapfill\"}, {\"variable\": \"w_h2o__3m_d\", \"processing\": \"q7_flags36000_snowfallfilteredno\", \"value\": 36.8536971962098, \"despiking\": \"q7\", \"instrument_flagging\": \"flags36000\", \"snowfall_filtering\": \"snowfallfilteredno\", \"height\": 3, \"tower\": \"gapfill\"}, {\"variable\": \"w_h2o__3m_d\", \"processing\": \"q7_flags3600_snowfallfilteredno\", \"value\": 36.60556536044751, \"despiking\": \"q7\", \"instrument_flagging\": \"flags3600\", \"snowfall_filtering\": \"snowfallfilteredno\", \"height\": 3, \"tower\": \"gapfill\"}, {\"variable\": \"w_h2o__3m_d\", \"processing\": \"q7_flags9000_snowfallfilteredno\", \"value\": 36.676385155085725, \"despiking\": \"q7\", \"instrument_flagging\": \"flags9000\", \"snowfall_filtering\": \"snowfallfilteredno\", \"height\": 3, \"tower\": \"gapfill\"}, {\"variable\": \"w_h2o__3m_ue\", \"processing\": \"nodespiking_flags36000_snowfallfilteredno\", \"value\": 38.63054710292778, \"despiking\": \"nodespiking\", \"instrument_flagging\": \"flags36000\", \"snowfall_filtering\": \"snowfallfilteredno\", \"height\": 3, \"tower\": \"gapfill\"}, {\"variable\": \"w_h2o__3m_ue\", \"processing\": \"nodespiking_flags3600_snowfallfilteredno\", \"value\": 36.54386906393158, \"despiking\": \"nodespiking\", \"instrument_flagging\": \"flags3600\", \"snowfall_filtering\": \"snowfallfilteredno\", \"height\": 3, \"tower\": \"gapfill\"}, {\"variable\": \"w_h2o__3m_ue\", \"processing\": \"nodespiking_flags9000_snowfallfilteredno\", \"value\": 37.258949806014755, \"despiking\": \"nodespiking\", \"instrument_flagging\": \"flags9000\", \"snowfall_filtering\": \"snowfallfilteredno\", \"height\": 3, \"tower\": \"gapfill\"}, {\"variable\": \"w_h2o__3m_ue\", \"processing\": \"q7_flags36000_snowfallfilteredno\", \"value\": 37.905563369451684, \"despiking\": \"q7\", \"instrument_flagging\": \"flags36000\", \"snowfall_filtering\": \"snowfallfilteredno\", \"height\": 3, \"tower\": \"gapfill\"}, {\"variable\": \"w_h2o__3m_ue\", \"processing\": \"q7_flags3600_snowfallfilteredno\", \"value\": 35.93487894192383, \"despiking\": \"q7\", \"instrument_flagging\": \"flags3600\", \"snowfall_filtering\": \"snowfallfilteredno\", \"height\": 3, \"tower\": \"gapfill\"}, {\"variable\": \"w_h2o__3m_ue\", \"processing\": \"q7_flags9000_snowfallfilteredno\", \"value\": 36.64018573678658, \"despiking\": \"q7\", \"instrument_flagging\": \"flags9000\", \"snowfall_filtering\": \"snowfallfilteredno\", \"height\": 3, \"tower\": \"gapfill\"}, {\"variable\": \"w_h2o__3m_uw\", \"processing\": \"nodespiking_flags36000_snowfallfilteredno\", \"value\": 36.72613729051168, \"despiking\": \"nodespiking\", \"instrument_flagging\": \"flags36000\", \"snowfall_filtering\": \"snowfallfilteredno\", \"height\": 3, \"tower\": \"gapfill\"}, {\"variable\": \"w_h2o__3m_uw\", \"processing\": \"nodespiking_flags3600_snowfallfilteredno\", \"value\": 35.80011274555257, \"despiking\": \"nodespiking\", \"instrument_flagging\": \"flags3600\", \"snowfall_filtering\": \"snowfallfilteredno\", \"height\": 3, \"tower\": \"gapfill\"}, {\"variable\": \"w_h2o__3m_uw\", \"processing\": \"nodespiking_flags9000_snowfallfilteredno\", \"value\": 36.17805604135844, \"despiking\": \"nodespiking\", \"instrument_flagging\": \"flags9000\", \"snowfall_filtering\": \"snowfallfilteredno\", \"height\": 3, \"tower\": \"gapfill\"}, {\"variable\": \"w_h2o__3m_uw\", \"processing\": \"q7_flags36000_snowfallfilteredno\", \"value\": 35.867048365975855, \"despiking\": \"q7\", \"instrument_flagging\": \"flags36000\", \"snowfall_filtering\": \"snowfallfilteredno\", \"height\": 3, \"tower\": \"gapfill\"}, {\"variable\": \"w_h2o__3m_uw\", \"processing\": \"q7_flags3600_snowfallfilteredno\", \"value\": 34.843466438446534, \"despiking\": \"q7\", \"instrument_flagging\": \"flags3600\", \"snowfall_filtering\": \"snowfallfilteredno\", \"height\": 3, \"tower\": \"gapfill\"}, {\"variable\": \"w_h2o__3m_uw\", \"processing\": \"q7_flags9000_snowfallfilteredno\", \"value\": 35.19118634210092, \"despiking\": \"q7\", \"instrument_flagging\": \"flags9000\", \"snowfall_filtering\": \"snowfallfilteredno\", \"height\": 3, \"tower\": \"gapfill\"}, {\"variable\": \"w_h2o__5m_c\", \"processing\": \"nodespiking_flags36000_snowfallfilteredno\", \"value\": 38.7523492224752, \"despiking\": \"nodespiking\", \"instrument_flagging\": \"flags36000\", \"snowfall_filtering\": \"snowfallfilteredno\", \"height\": 5, \"tower\": \"gapfill\"}, {\"variable\": \"w_h2o__5m_c\", \"processing\": \"nodespiking_flags3600_snowfallfilteredno\", \"value\": 37.73479312231065, \"despiking\": \"nodespiking\", \"instrument_flagging\": \"flags3600\", \"snowfall_filtering\": \"snowfallfilteredno\", \"height\": 5, \"tower\": \"gapfill\"}, {\"variable\": \"w_h2o__5m_c\", \"processing\": \"nodespiking_flags9000_snowfallfilteredno\", \"value\": 38.14011479614998, \"despiking\": \"nodespiking\", \"instrument_flagging\": \"flags9000\", \"snowfall_filtering\": \"snowfallfilteredno\", \"height\": 5, \"tower\": \"gapfill\"}, {\"variable\": \"w_h2o__5m_c\", \"processing\": \"q7_flags36000_snowfallfilteredno\", \"value\": 36.93036836673128, \"despiking\": \"q7\", \"instrument_flagging\": \"flags36000\", \"snowfall_filtering\": \"snowfallfilteredno\", \"height\": 5, \"tower\": \"gapfill\"}, {\"variable\": \"w_h2o__5m_c\", \"processing\": \"q7_flags3600_snowfallfilteredno\", \"value\": 36.01016583674444, \"despiking\": \"q7\", \"instrument_flagging\": \"flags3600\", \"snowfall_filtering\": \"snowfallfilteredno\", \"height\": 5, \"tower\": \"gapfill\"}, {\"variable\": \"w_h2o__5m_c\", \"processing\": \"q7_flags9000_snowfallfilteredno\", \"value\": 36.380317635478335, \"despiking\": \"q7\", \"instrument_flagging\": \"flags9000\", \"snowfall_filtering\": \"snowfallfilteredno\", \"height\": 5, \"tower\": \"gapfill\"}]}}, {\"mode\": \"vega-lite\"});\n",
       "</script>"
      ],
      "text/plain": [
       "alt.LayerChart(...)"
      ]
     },
     "execution_count": 151,
     "metadata": {},
     "output_type": "execute_result"
    }
   ],
   "source": [
    "src = totals_df.assign(variable = totals_df.variable.apply(lambda s: s[:-8]))\n",
    "y = alt.Y('variable:N', sort = [\n",
    "        'w_h2o__20m_c', 'w_h2o__15m_c', \n",
    "        'w_h2o__10m_c', 'w_h2o__10m_d', 'w_h2o__10m_ue', 'w_h2o__10m_uw',\n",
    "        'w_h2o__5m_c',\n",
    "        'w_h2o__3m_c', 'w_h2o__3m_d', 'w_h2o__3m_ue', 'w_h2o__3m_uw', \n",
    "        'w_h2o__2m_c',\n",
    "    ])\n",
    "alt.Chart(\n",
    "    src\n",
    ").mark_rule().encode(\n",
    "    alt.X('min(value):Q').scale(zero=False),\n",
    "    alt.X2('max(value):Q'),\n",
    "    y,\n",
    ") + alt.Chart(\n",
    "    src\n",
    ").transform_filter(\n",
    "    \"datum.processing == 'q7_flags9000_snowfallfilteredno'\"\n",
    ").mark_circle(color='blue', opacity=1).encode(\n",
    "    alt.X('value:Q').title([\n",
    "            'Cumulative sublimation (mm SWE)',\n",
    "\n",
    "        ]),\n",
    "    y,\n",
    ").properties(width = 200, height = 200)"
   ]
  },
  {
   "cell_type": "code",
   "execution_count": 110,
   "metadata": {},
   "outputs": [
    {
     "data": {
      "text/html": [
       "\n",
       "<style>\n",
       "  #altair-viz-a303cebc91bd426391fc4283021b1161.vega-embed {\n",
       "    width: 100%;\n",
       "    display: flex;\n",
       "  }\n",
       "\n",
       "  #altair-viz-a303cebc91bd426391fc4283021b1161.vega-embed details,\n",
       "  #altair-viz-a303cebc91bd426391fc4283021b1161.vega-embed details summary {\n",
       "    position: relative;\n",
       "  }\n",
       "</style>\n",
       "<div id=\"altair-viz-a303cebc91bd426391fc4283021b1161\"></div>\n",
       "<script type=\"text/javascript\">\n",
       "  var VEGA_DEBUG = (typeof VEGA_DEBUG == \"undefined\") ? {} : VEGA_DEBUG;\n",
       "  (function(spec, embedOpt){\n",
       "    let outputDiv = document.currentScript.previousElementSibling;\n",
       "    if (outputDiv.id !== \"altair-viz-a303cebc91bd426391fc4283021b1161\") {\n",
       "      outputDiv = document.getElementById(\"altair-viz-a303cebc91bd426391fc4283021b1161\");\n",
       "    }\n",
       "    const paths = {\n",
       "      \"vega\": \"https://cdn.jsdelivr.net/npm/vega@5?noext\",\n",
       "      \"vega-lib\": \"https://cdn.jsdelivr.net/npm/vega-lib?noext\",\n",
       "      \"vega-lite\": \"https://cdn.jsdelivr.net/npm/vega-lite@5.20.1?noext\",\n",
       "      \"vega-embed\": \"https://cdn.jsdelivr.net/npm/vega-embed@6?noext\",\n",
       "    };\n",
       "\n",
       "    function maybeLoadScript(lib, version) {\n",
       "      var key = `${lib.replace(\"-\", \"\")}_version`;\n",
       "      return (VEGA_DEBUG[key] == version) ?\n",
       "        Promise.resolve(paths[lib]) :\n",
       "        new Promise(function(resolve, reject) {\n",
       "          var s = document.createElement('script');\n",
       "          document.getElementsByTagName(\"head\")[0].appendChild(s);\n",
       "          s.async = true;\n",
       "          s.onload = () => {\n",
       "            VEGA_DEBUG[key] = version;\n",
       "            return resolve(paths[lib]);\n",
       "          };\n",
       "          s.onerror = () => reject(`Error loading script: ${paths[lib]}`);\n",
       "          s.src = paths[lib];\n",
       "        });\n",
       "    }\n",
       "\n",
       "    function showError(err) {\n",
       "      outputDiv.innerHTML = `<div class=\"error\" style=\"color:red;\">${err}</div>`;\n",
       "      throw err;\n",
       "    }\n",
       "\n",
       "    function displayChart(vegaEmbed) {\n",
       "      vegaEmbed(outputDiv, spec, embedOpt)\n",
       "        .catch(err => showError(`Javascript Error: ${err.message}<br>This usually means there's a typo in your chart specification. See the javascript console for the full traceback.`));\n",
       "    }\n",
       "\n",
       "    if(typeof define === \"function\" && define.amd) {\n",
       "      requirejs.config({paths});\n",
       "      require([\"vega-embed\"], displayChart, err => showError(`Error loading script: ${err.message}`));\n",
       "    } else {\n",
       "      maybeLoadScript(\"vega\", \"5\")\n",
       "        .then(() => maybeLoadScript(\"vega-lite\", \"5.20.1\"))\n",
       "        .then(() => maybeLoadScript(\"vega-embed\", \"6\"))\n",
       "        .catch(showError)\n",
       "        .then(() => displayChart(vegaEmbed));\n",
       "    }\n",
       "  })({\"config\": {\"view\": {\"continuousWidth\": 300, \"continuousHeight\": 300}}, \"hconcat\": [{\"mark\": {\"type\": \"rule\"}, \"encoding\": {\"row\": {\"field\": \"variable\", \"header\": {\"labelAngle\": 0, \"labelPadding\": -60}, \"title\": \"\", \"type\": \"nominal\"}, \"x\": {\"aggregate\": \"min\", \"field\": \"value\", \"scale\": {\"zero\": false}, \"title\": \"Cumulative sublimation (mm SWE)\", \"type\": \"quantitative\"}, \"x2\": {\"aggregate\": \"max\", \"field\": \"value\"}, \"y\": {\"field\": \"despiking\", \"title\": \"\", \"type\": \"nominal\"}}, \"height\": 50, \"width\": 200}, {\"mark\": {\"type\": \"rule\"}, \"encoding\": {\"row\": {\"field\": \"variable\", \"header\": {\"labelAngle\": 0, \"labelPadding\": -60}, \"title\": \"\", \"type\": \"nominal\"}, \"x\": {\"aggregate\": \"min\", \"field\": \"value\", \"scale\": {\"zero\": false}, \"title\": \"Cumulative sublimation (mm SWE)\", \"type\": \"quantitative\"}, \"x2\": {\"aggregate\": \"max\", \"field\": \"value\"}, \"y\": {\"field\": \"instrument_flagging\", \"title\": \"\", \"type\": \"nominal\"}}, \"height\": 50, \"width\": 200}], \"data\": {\"name\": \"data-6f10ea2eec28e2a88ec78fb6876006f4\"}, \"$schema\": \"https://vega.github.io/schema/vega-lite/v5.20.1.json\", \"datasets\": {\"data-6f10ea2eec28e2a88ec78fb6876006f4\": [{\"variable\": \"w_h2o__10m_c\", \"processing\": \"nodespiking_flags36000_snowfallfilteredno\", \"value\": 41.066912674817914, \"despiking\": \"nodespiking\", \"instrument_flagging\": \"flags36000\", \"snowfall_filtering\": \"snowfallfilteredno\", \"height\": 10, \"tower\": \"gapfill\"}, {\"variable\": \"w_h2o__10m_c\", \"processing\": \"nodespiking_flags3600_snowfallfilteredno\", \"value\": 38.771280583521985, \"despiking\": \"nodespiking\", \"instrument_flagging\": \"flags3600\", \"snowfall_filtering\": \"snowfallfilteredno\", \"height\": 10, \"tower\": \"gapfill\"}, {\"variable\": \"w_h2o__10m_c\", \"processing\": \"nodespiking_flags9000_snowfallfilteredno\", \"value\": 39.934237037417404, \"despiking\": \"nodespiking\", \"instrument_flagging\": \"flags9000\", \"snowfall_filtering\": \"snowfallfilteredno\", \"height\": 10, \"tower\": \"gapfill\"}, {\"variable\": \"w_h2o__10m_c\", \"processing\": \"q7_flags36000_snowfallfilteredno\", \"value\": 39.03812984685282, \"despiking\": \"q7\", \"instrument_flagging\": \"flags36000\", \"snowfall_filtering\": \"snowfallfilteredno\", \"height\": 10, \"tower\": \"gapfill\"}, {\"variable\": \"w_h2o__10m_c\", \"processing\": \"q7_flags3600_snowfallfilteredno\", \"value\": 37.10365579274981, \"despiking\": \"q7\", \"instrument_flagging\": \"flags3600\", \"snowfall_filtering\": \"snowfallfilteredno\", \"height\": 10, \"tower\": \"gapfill\"}, {\"variable\": \"w_h2o__10m_c\", \"processing\": \"q7_flags9000_snowfallfilteredno\", \"value\": 38.282552792223555, \"despiking\": \"q7\", \"instrument_flagging\": \"flags9000\", \"snowfall_filtering\": \"snowfallfilteredno\", \"height\": 10, \"tower\": \"gapfill\"}, {\"variable\": \"w_h2o__10m_d\", \"processing\": \"nodespiking_flags36000_snowfallfilteredno\", \"value\": 39.26768489306727, \"despiking\": \"nodespiking\", \"instrument_flagging\": \"flags36000\", \"snowfall_filtering\": \"snowfallfilteredno\", \"height\": 10, \"tower\": \"gapfill\"}, {\"variable\": \"w_h2o__10m_d\", \"processing\": \"nodespiking_flags3600_snowfallfilteredno\", \"value\": 37.995488917142254, \"despiking\": \"nodespiking\", \"instrument_flagging\": \"flags3600\", \"snowfall_filtering\": \"snowfallfilteredno\", \"height\": 10, \"tower\": \"gapfill\"}, {\"variable\": \"w_h2o__10m_d\", \"processing\": \"nodespiking_flags9000_snowfallfilteredno\", \"value\": 38.836558043780606, \"despiking\": \"nodespiking\", \"instrument_flagging\": \"flags9000\", \"snowfall_filtering\": \"snowfallfilteredno\", \"height\": 10, \"tower\": \"gapfill\"}, {\"variable\": \"w_h2o__10m_d\", \"processing\": \"q7_flags36000_snowfallfilteredno\", \"value\": 38.521516724255406, \"despiking\": \"q7\", \"instrument_flagging\": \"flags36000\", \"snowfall_filtering\": \"snowfallfilteredno\", \"height\": 10, \"tower\": \"gapfill\"}, {\"variable\": \"w_h2o__10m_d\", \"processing\": \"q7_flags3600_snowfallfilteredno\", \"value\": 36.645998217853965, \"despiking\": \"q7\", \"instrument_flagging\": \"flags3600\", \"snowfall_filtering\": \"snowfallfilteredno\", \"height\": 10, \"tower\": \"gapfill\"}, {\"variable\": \"w_h2o__10m_d\", \"processing\": \"q7_flags9000_snowfallfilteredno\", \"value\": 37.52747925071346, \"despiking\": \"q7\", \"instrument_flagging\": \"flags9000\", \"snowfall_filtering\": \"snowfallfilteredno\", \"height\": 10, \"tower\": \"gapfill\"}, {\"variable\": \"w_h2o__10m_ue\", \"processing\": \"nodespiking_flags36000_snowfallfilteredno\", \"value\": 33.64487624949155, \"despiking\": \"nodespiking\", \"instrument_flagging\": \"flags36000\", \"snowfall_filtering\": \"snowfallfilteredno\", \"height\": 10, \"tower\": \"gapfill\"}, {\"variable\": \"w_h2o__10m_ue\", \"processing\": \"nodespiking_flags3600_snowfallfilteredno\", \"value\": 31.88884018259784, \"despiking\": \"nodespiking\", \"instrument_flagging\": \"flags3600\", \"snowfall_filtering\": \"snowfallfilteredno\", \"height\": 10, \"tower\": \"gapfill\"}, {\"variable\": \"w_h2o__10m_ue\", \"processing\": \"nodespiking_flags9000_snowfallfilteredno\", \"value\": 32.75655872403924, \"despiking\": \"nodespiking\", \"instrument_flagging\": \"flags9000\", \"snowfall_filtering\": \"snowfallfilteredno\", \"height\": 10, \"tower\": \"gapfill\"}, {\"variable\": \"w_h2o__10m_ue\", \"processing\": \"q7_flags36000_snowfallfilteredno\", \"value\": 34.11114783830964, \"despiking\": \"q7\", \"instrument_flagging\": \"flags36000\", \"snowfall_filtering\": \"snowfallfilteredno\", \"height\": 10, \"tower\": \"gapfill\"}, {\"variable\": \"w_h2o__10m_ue\", \"processing\": \"q7_flags3600_snowfallfilteredno\", \"value\": 32.13720293775042, \"despiking\": \"q7\", \"instrument_flagging\": \"flags3600\", \"snowfall_filtering\": \"snowfallfilteredno\", \"height\": 10, \"tower\": \"gapfill\"}, {\"variable\": \"w_h2o__10m_ue\", \"processing\": \"q7_flags9000_snowfallfilteredno\", \"value\": 33.05755004090702, \"despiking\": \"q7\", \"instrument_flagging\": \"flags9000\", \"snowfall_filtering\": \"snowfallfilteredno\", \"height\": 10, \"tower\": \"gapfill\"}, {\"variable\": \"w_h2o__10m_uw\", \"processing\": \"nodespiking_flags36000_snowfallfilteredno\", \"value\": 38.70027947762211, \"despiking\": \"nodespiking\", \"instrument_flagging\": \"flags36000\", \"snowfall_filtering\": \"snowfallfilteredno\", \"height\": 10, \"tower\": \"gapfill\"}, {\"variable\": \"w_h2o__10m_uw\", \"processing\": \"nodespiking_flags3600_snowfallfilteredno\", \"value\": 37.237796158676964, \"despiking\": \"nodespiking\", \"instrument_flagging\": \"flags3600\", \"snowfall_filtering\": \"snowfallfilteredno\", \"height\": 10, \"tower\": \"gapfill\"}, {\"variable\": \"w_h2o__10m_uw\", \"processing\": \"nodespiking_flags9000_snowfallfilteredno\", \"value\": 37.45009668508041, \"despiking\": \"nodespiking\", \"instrument_flagging\": \"flags9000\", \"snowfall_filtering\": \"snowfallfilteredno\", \"height\": 10, \"tower\": \"gapfill\"}, {\"variable\": \"w_h2o__10m_uw\", \"processing\": \"q7_flags36000_snowfallfilteredno\", \"value\": 38.719840002733285, \"despiking\": \"q7\", \"instrument_flagging\": \"flags36000\", \"snowfall_filtering\": \"snowfallfilteredno\", \"height\": 10, \"tower\": \"gapfill\"}, {\"variable\": \"w_h2o__10m_uw\", \"processing\": \"q7_flags3600_snowfallfilteredno\", \"value\": 36.4594485248637, \"despiking\": \"q7\", \"instrument_flagging\": \"flags3600\", \"snowfall_filtering\": \"snowfallfilteredno\", \"height\": 10, \"tower\": \"gapfill\"}, {\"variable\": \"w_h2o__10m_uw\", \"processing\": \"q7_flags9000_snowfallfilteredno\", \"value\": 36.75375631135028, \"despiking\": \"q7\", \"instrument_flagging\": \"flags9000\", \"snowfall_filtering\": \"snowfallfilteredno\", \"height\": 10, \"tower\": \"gapfill\"}, {\"variable\": \"w_h2o__15m_c\", \"processing\": \"nodespiking_flags36000_snowfallfilteredno\", \"value\": 32.783561172944204, \"despiking\": \"nodespiking\", \"instrument_flagging\": \"flags36000\", \"snowfall_filtering\": \"snowfallfilteredno\", \"height\": 15, \"tower\": \"gapfill\"}, {\"variable\": \"w_h2o__15m_c\", \"processing\": \"nodespiking_flags3600_snowfallfilteredno\", \"value\": 33.25996652471253, \"despiking\": \"nodespiking\", \"instrument_flagging\": \"flags3600\", \"snowfall_filtering\": \"snowfallfilteredno\", \"height\": 15, \"tower\": \"gapfill\"}, {\"variable\": \"w_h2o__15m_c\", \"processing\": \"nodespiking_flags9000_snowfallfilteredno\", \"value\": 32.304533837594875, \"despiking\": \"nodespiking\", \"instrument_flagging\": \"flags9000\", \"snowfall_filtering\": \"snowfallfilteredno\", \"height\": 15, \"tower\": \"gapfill\"}, {\"variable\": \"w_h2o__15m_c\", \"processing\": \"q7_flags36000_snowfallfilteredno\", \"value\": 30.834491797118986, \"despiking\": \"q7\", \"instrument_flagging\": \"flags36000\", \"snowfall_filtering\": \"snowfallfilteredno\", \"height\": 15, \"tower\": \"gapfill\"}, {\"variable\": \"w_h2o__15m_c\", \"processing\": \"q7_flags3600_snowfallfilteredno\", \"value\": 31.968448928042193, \"despiking\": \"q7\", \"instrument_flagging\": \"flags3600\", \"snowfall_filtering\": \"snowfallfilteredno\", \"height\": 15, \"tower\": \"gapfill\"}, {\"variable\": \"w_h2o__15m_c\", \"processing\": \"q7_flags9000_snowfallfilteredno\", \"value\": 30.45890149622295, \"despiking\": \"q7\", \"instrument_flagging\": \"flags9000\", \"snowfall_filtering\": \"snowfallfilteredno\", \"height\": 15, \"tower\": \"gapfill\"}, {\"variable\": \"w_h2o__20m_c\", \"processing\": \"nodespiking_flags36000_snowfallfilteredno\", \"value\": 29.731018966389996, \"despiking\": \"nodespiking\", \"instrument_flagging\": \"flags36000\", \"snowfall_filtering\": \"snowfallfilteredno\", \"height\": 20, \"tower\": \"gapfill\"}, {\"variable\": \"w_h2o__20m_c\", \"processing\": \"nodespiking_flags3600_snowfallfilteredno\", \"value\": 29.36698134365341, \"despiking\": \"nodespiking\", \"instrument_flagging\": \"flags3600\", \"snowfall_filtering\": \"snowfallfilteredno\", \"height\": 20, \"tower\": \"gapfill\"}, {\"variable\": \"w_h2o__20m_c\", \"processing\": \"nodespiking_flags9000_snowfallfilteredno\", \"value\": 29.257495442154614, \"despiking\": \"nodespiking\", \"instrument_flagging\": \"flags9000\", \"snowfall_filtering\": \"snowfallfilteredno\", \"height\": 20, \"tower\": \"gapfill\"}, {\"variable\": \"w_h2o__20m_c\", \"processing\": \"q7_flags36000_snowfallfilteredno\", \"value\": 29.785999363065617, \"despiking\": \"q7\", \"instrument_flagging\": \"flags36000\", \"snowfall_filtering\": \"snowfallfilteredno\", \"height\": 20, \"tower\": \"gapfill\"}, {\"variable\": \"w_h2o__20m_c\", \"processing\": \"q7_flags3600_snowfallfilteredno\", \"value\": 28.990774480345834, \"despiking\": \"q7\", \"instrument_flagging\": \"flags3600\", \"snowfall_filtering\": \"snowfallfilteredno\", \"height\": 20, \"tower\": \"gapfill\"}, {\"variable\": \"w_h2o__20m_c\", \"processing\": \"q7_flags9000_snowfallfilteredno\", \"value\": 29.170985247798036, \"despiking\": \"q7\", \"instrument_flagging\": \"flags9000\", \"snowfall_filtering\": \"snowfallfilteredno\", \"height\": 20, \"tower\": \"gapfill\"}, {\"variable\": \"w_h2o__2m_c\", \"processing\": \"nodespiking_flags36000_snowfallfilteredno\", \"value\": 32.1451322783727, \"despiking\": \"nodespiking\", \"instrument_flagging\": \"flags36000\", \"snowfall_filtering\": \"snowfallfilteredno\", \"height\": 2, \"tower\": \"gapfill\"}, {\"variable\": \"w_h2o__2m_c\", \"processing\": \"nodespiking_flags3600_snowfallfilteredno\", \"value\": 30.988719638955722, \"despiking\": \"nodespiking\", \"instrument_flagging\": \"flags3600\", \"snowfall_filtering\": \"snowfallfilteredno\", \"height\": 2, \"tower\": \"gapfill\"}, {\"variable\": \"w_h2o__2m_c\", \"processing\": \"nodespiking_flags9000_snowfallfilteredno\", \"value\": 31.72837433554422, \"despiking\": \"nodespiking\", \"instrument_flagging\": \"flags9000\", \"snowfall_filtering\": \"snowfallfilteredno\", \"height\": 2, \"tower\": \"gapfill\"}, {\"variable\": \"w_h2o__2m_c\", \"processing\": \"q7_flags36000_snowfallfilteredno\", \"value\": 32.081159502195824, \"despiking\": \"q7\", \"instrument_flagging\": \"flags36000\", \"snowfall_filtering\": \"snowfallfilteredno\", \"height\": 2, \"tower\": \"gapfill\"}, {\"variable\": \"w_h2o__2m_c\", \"processing\": \"q7_flags3600_snowfallfilteredno\", \"value\": 30.9180636700007, \"despiking\": \"q7\", \"instrument_flagging\": \"flags3600\", \"snowfall_filtering\": \"snowfallfilteredno\", \"height\": 2, \"tower\": \"gapfill\"}, {\"variable\": \"w_h2o__2m_c\", \"processing\": \"q7_flags9000_snowfallfilteredno\", \"value\": 31.647452649105926, \"despiking\": \"q7\", \"instrument_flagging\": \"flags9000\", \"snowfall_filtering\": \"snowfallfilteredno\", \"height\": 2, \"tower\": \"gapfill\"}, {\"variable\": \"w_h2o__3m_c\", \"processing\": \"nodespiking_flags36000_snowfallfilteredno\", \"value\": 37.22302328011658, \"despiking\": \"nodespiking\", \"instrument_flagging\": \"flags36000\", \"snowfall_filtering\": \"snowfallfilteredno\", \"height\": 3, \"tower\": \"gapfill\"}, {\"variable\": \"w_h2o__3m_c\", \"processing\": \"nodespiking_flags3600_snowfallfilteredno\", \"value\": 35.89694035058596, \"despiking\": \"nodespiking\", \"instrument_flagging\": \"flags3600\", \"snowfall_filtering\": \"snowfallfilteredno\", \"height\": 3, \"tower\": \"gapfill\"}, {\"variable\": \"w_h2o__3m_c\", \"processing\": \"nodespiking_flags9000_snowfallfilteredno\", \"value\": 36.46939079520113, \"despiking\": \"nodespiking\", \"instrument_flagging\": \"flags9000\", \"snowfall_filtering\": \"snowfallfilteredno\", \"height\": 3, \"tower\": \"gapfill\"}, {\"variable\": \"w_h2o__3m_c\", \"processing\": \"q7_flags36000_snowfallfilteredno\", \"value\": 35.480100944507555, \"despiking\": \"q7\", \"instrument_flagging\": \"flags36000\", \"snowfall_filtering\": \"snowfallfilteredno\", \"height\": 3, \"tower\": \"gapfill\"}, {\"variable\": \"w_h2o__3m_c\", \"processing\": \"q7_flags3600_snowfallfilteredno\", \"value\": 34.64804048111688, \"despiking\": \"q7\", \"instrument_flagging\": \"flags3600\", \"snowfall_filtering\": \"snowfallfilteredno\", \"height\": 3, \"tower\": \"gapfill\"}, {\"variable\": \"w_h2o__3m_c\", \"processing\": \"q7_flags9000_snowfallfilteredno\", \"value\": 35.15175858877548, \"despiking\": \"q7\", \"instrument_flagging\": \"flags9000\", \"snowfall_filtering\": \"snowfallfilteredno\", \"height\": 3, \"tower\": \"gapfill\"}, {\"variable\": \"w_h2o__3m_d\", \"processing\": \"nodespiking_flags36000_snowfallfilteredno\", \"value\": 37.1273854715573, \"despiking\": \"nodespiking\", \"instrument_flagging\": \"flags36000\", \"snowfall_filtering\": \"snowfallfilteredno\", \"height\": 3, \"tower\": \"gapfill\"}, {\"variable\": \"w_h2o__3m_d\", \"processing\": \"nodespiking_flags3600_snowfallfilteredno\", \"value\": 37.17094761139353, \"despiking\": \"nodespiking\", \"instrument_flagging\": \"flags3600\", \"snowfall_filtering\": \"snowfallfilteredno\", \"height\": 3, \"tower\": \"gapfill\"}, {\"variable\": \"w_h2o__3m_d\", \"processing\": \"nodespiking_flags9000_snowfallfilteredno\", \"value\": 37.18491019291542, \"despiking\": \"nodespiking\", \"instrument_flagging\": \"flags9000\", \"snowfall_filtering\": \"snowfallfilteredno\", \"height\": 3, \"tower\": \"gapfill\"}, {\"variable\": \"w_h2o__3m_d\", \"processing\": \"q7_flags36000_snowfallfilteredno\", \"value\": 36.8536971962098, \"despiking\": \"q7\", \"instrument_flagging\": \"flags36000\", \"snowfall_filtering\": \"snowfallfilteredno\", \"height\": 3, \"tower\": \"gapfill\"}, {\"variable\": \"w_h2o__3m_d\", \"processing\": \"q7_flags3600_snowfallfilteredno\", \"value\": 36.60556536044751, \"despiking\": \"q7\", \"instrument_flagging\": \"flags3600\", \"snowfall_filtering\": \"snowfallfilteredno\", \"height\": 3, \"tower\": \"gapfill\"}, {\"variable\": \"w_h2o__3m_d\", \"processing\": \"q7_flags9000_snowfallfilteredno\", \"value\": 36.676385155085725, \"despiking\": \"q7\", \"instrument_flagging\": \"flags9000\", \"snowfall_filtering\": \"snowfallfilteredno\", \"height\": 3, \"tower\": \"gapfill\"}, {\"variable\": \"w_h2o__3m_ue\", \"processing\": \"nodespiking_flags36000_snowfallfilteredno\", \"value\": 38.63054710292778, \"despiking\": \"nodespiking\", \"instrument_flagging\": \"flags36000\", \"snowfall_filtering\": \"snowfallfilteredno\", \"height\": 3, \"tower\": \"gapfill\"}, {\"variable\": \"w_h2o__3m_ue\", \"processing\": \"nodespiking_flags3600_snowfallfilteredno\", \"value\": 36.54386906393158, \"despiking\": \"nodespiking\", \"instrument_flagging\": \"flags3600\", \"snowfall_filtering\": \"snowfallfilteredno\", \"height\": 3, \"tower\": \"gapfill\"}, {\"variable\": \"w_h2o__3m_ue\", \"processing\": \"nodespiking_flags9000_snowfallfilteredno\", \"value\": 37.258949806014755, \"despiking\": \"nodespiking\", \"instrument_flagging\": \"flags9000\", \"snowfall_filtering\": \"snowfallfilteredno\", \"height\": 3, \"tower\": \"gapfill\"}, {\"variable\": \"w_h2o__3m_ue\", \"processing\": \"q7_flags36000_snowfallfilteredno\", \"value\": 37.905563369451684, \"despiking\": \"q7\", \"instrument_flagging\": \"flags36000\", \"snowfall_filtering\": \"snowfallfilteredno\", \"height\": 3, \"tower\": \"gapfill\"}, {\"variable\": \"w_h2o__3m_ue\", \"processing\": \"q7_flags3600_snowfallfilteredno\", \"value\": 35.93487894192383, \"despiking\": \"q7\", \"instrument_flagging\": \"flags3600\", \"snowfall_filtering\": \"snowfallfilteredno\", \"height\": 3, \"tower\": \"gapfill\"}, {\"variable\": \"w_h2o__3m_ue\", \"processing\": \"q7_flags9000_snowfallfilteredno\", \"value\": 36.64018573678658, \"despiking\": \"q7\", \"instrument_flagging\": \"flags9000\", \"snowfall_filtering\": \"snowfallfilteredno\", \"height\": 3, \"tower\": \"gapfill\"}, {\"variable\": \"w_h2o__3m_uw\", \"processing\": \"nodespiking_flags36000_snowfallfilteredno\", \"value\": 36.72613729051168, \"despiking\": \"nodespiking\", \"instrument_flagging\": \"flags36000\", \"snowfall_filtering\": \"snowfallfilteredno\", \"height\": 3, \"tower\": \"gapfill\"}, {\"variable\": \"w_h2o__3m_uw\", \"processing\": \"nodespiking_flags3600_snowfallfilteredno\", \"value\": 35.80011274555257, \"despiking\": \"nodespiking\", \"instrument_flagging\": \"flags3600\", \"snowfall_filtering\": \"snowfallfilteredno\", \"height\": 3, \"tower\": \"gapfill\"}, {\"variable\": \"w_h2o__3m_uw\", \"processing\": \"nodespiking_flags9000_snowfallfilteredno\", \"value\": 36.17805604135844, \"despiking\": \"nodespiking\", \"instrument_flagging\": \"flags9000\", \"snowfall_filtering\": \"snowfallfilteredno\", \"height\": 3, \"tower\": \"gapfill\"}, {\"variable\": \"w_h2o__3m_uw\", \"processing\": \"q7_flags36000_snowfallfilteredno\", \"value\": 35.867048365975855, \"despiking\": \"q7\", \"instrument_flagging\": \"flags36000\", \"snowfall_filtering\": \"snowfallfilteredno\", \"height\": 3, \"tower\": \"gapfill\"}, {\"variable\": \"w_h2o__3m_uw\", \"processing\": \"q7_flags3600_snowfallfilteredno\", \"value\": 34.843466438446534, \"despiking\": \"q7\", \"instrument_flagging\": \"flags3600\", \"snowfall_filtering\": \"snowfallfilteredno\", \"height\": 3, \"tower\": \"gapfill\"}, {\"variable\": \"w_h2o__3m_uw\", \"processing\": \"q7_flags9000_snowfallfilteredno\", \"value\": 35.19118634210092, \"despiking\": \"q7\", \"instrument_flagging\": \"flags9000\", \"snowfall_filtering\": \"snowfallfilteredno\", \"height\": 3, \"tower\": \"gapfill\"}, {\"variable\": \"w_h2o__5m_c\", \"processing\": \"nodespiking_flags36000_snowfallfilteredno\", \"value\": 38.7523492224752, \"despiking\": \"nodespiking\", \"instrument_flagging\": \"flags36000\", \"snowfall_filtering\": \"snowfallfilteredno\", \"height\": 5, \"tower\": \"gapfill\"}, {\"variable\": \"w_h2o__5m_c\", \"processing\": \"nodespiking_flags3600_snowfallfilteredno\", \"value\": 37.73479312231065, \"despiking\": \"nodespiking\", \"instrument_flagging\": \"flags3600\", \"snowfall_filtering\": \"snowfallfilteredno\", \"height\": 5, \"tower\": \"gapfill\"}, {\"variable\": \"w_h2o__5m_c\", \"processing\": \"nodespiking_flags9000_snowfallfilteredno\", \"value\": 38.14011479614998, \"despiking\": \"nodespiking\", \"instrument_flagging\": \"flags9000\", \"snowfall_filtering\": \"snowfallfilteredno\", \"height\": 5, \"tower\": \"gapfill\"}, {\"variable\": \"w_h2o__5m_c\", \"processing\": \"q7_flags36000_snowfallfilteredno\", \"value\": 36.93036836673128, \"despiking\": \"q7\", \"instrument_flagging\": \"flags36000\", \"snowfall_filtering\": \"snowfallfilteredno\", \"height\": 5, \"tower\": \"gapfill\"}, {\"variable\": \"w_h2o__5m_c\", \"processing\": \"q7_flags3600_snowfallfilteredno\", \"value\": 36.01016583674444, \"despiking\": \"q7\", \"instrument_flagging\": \"flags3600\", \"snowfall_filtering\": \"snowfallfilteredno\", \"height\": 5, \"tower\": \"gapfill\"}, {\"variable\": \"w_h2o__5m_c\", \"processing\": \"q7_flags9000_snowfallfilteredno\", \"value\": 36.380317635478335, \"despiking\": \"q7\", \"instrument_flagging\": \"flags9000\", \"snowfall_filtering\": \"snowfallfilteredno\", \"height\": 5, \"tower\": \"gapfill\"}]}}, {\"mode\": \"vega-lite\"});\n",
       "</script>"
      ],
      "text/plain": [
       "alt.HConcatChart(...)"
      ]
     },
     "execution_count": 110,
     "metadata": {},
     "output_type": "execute_result"
    }
   ],
   "source": [
    "alt.Chart(\n",
    "    src\n",
    ").mark_rule().encode(\n",
    "    alt.X('min(value):Q').scale(zero=False).title('Cumulative sublimation (mm SWE)'),\n",
    "    alt.X2('max(value):Q'),\n",
    "    alt.Y('despiking:N').title(''),\n",
    "    alt.Row('variable').title('').header(labelAngle=0, labelPadding=-60),\n",
    ").properties(width=200, height=50) | alt.Chart(\n",
    "    src\n",
    ").mark_rule().encode(\n",
    "    alt.X('min(value):Q').scale(zero=False).title('Cumulative sublimation (mm SWE)'),\n",
    "    alt.X2('max(value):Q'),\n",
    "    alt.Y('instrument_flagging:N').title(''),\n",
    "    alt.Row('variable').title('').header(labelAngle=0, labelPadding=-60),\n",
    ").properties(width=200, height=50)"
   ]
  },
  {
   "cell_type": "code",
   "execution_count": 59,
   "metadata": {},
   "outputs": [
    {
     "data": {
      "text/plain": [
       "variable\n",
       "w_h2o__10m_c_gapfill     10.7\n",
       "w_h2o__10m_d_gapfill      7.2\n",
       "w_h2o__10m_ue_gapfill     7.0\n",
       "w_h2o__10m_uw_gapfill     6.2\n",
       "w_h2o__15m_c_gapfill      9.2\n",
       "w_h2o__20m_c_gapfill      2.7\n",
       "w_h2o__2m_c_gapfill       4.0\n",
       "w_h2o__3m_c_gapfill       7.4\n",
       "w_h2o__3m_d_gapfill       1.6\n",
       "w_h2o__3m_ue_gapfill      7.5\n",
       "w_h2o__3m_uw_gapfill      5.4\n",
       "w_h2o__5m_c_gapfill       7.6\n",
       "Name: value, dtype: float64"
      ]
     },
     "execution_count": 59,
     "metadata": {},
     "output_type": "execute_result"
    }
   ],
   "source": [
    "round(100 * (\n",
    "    totals_df.groupby('variable')['value'].max() \n",
    "    - totals_df.groupby('variable')['value'].min()\n",
    ") / totals_df.groupby('variable')['value'].min(), 1)"
   ]
  },
  {
   "cell_type": "code",
   "execution_count": 113,
   "metadata": {},
   "outputs": [
    {
     "name": "stdout",
     "output_type": "stream",
     "text": [
      "['nodespiking' 'q7']\n",
      "['flags36000' 'flags3600' 'flags9000']\n"
     ]
    }
   ],
   "source": [
    "print(totals_df.despiking.unique())\n",
    "print(totals_df.instrument_flagging.unique())"
   ]
  },
  {
   "cell_type": "code",
   "execution_count": 126,
   "metadata": {},
   "outputs": [
    {
     "data": {
      "text/plain": [
       "3.483333333333334"
      ]
     },
     "execution_count": 126,
     "metadata": {},
     "output_type": "execute_result"
    }
   ],
   "source": [
    "(round(100 * (\n",
    "    totals_df.query(\"despiking == 'nodespiking'\").groupby('variable')['value'].max() \n",
    "    - totals_df.query(\"despiking == 'nodespiking'\").groupby('variable')['value'].min()\n",
    ") / totals_df.query(\"despiking == 'nodespiking'\").groupby('variable')['value'].min(), 1)).mean()"
   ]
  },
  {
   "cell_type": "code",
   "execution_count": 120,
   "metadata": {},
   "outputs": [
    {
     "data": {
      "text/plain": [
       "4.016666666666667"
      ]
     },
     "execution_count": 120,
     "metadata": {},
     "output_type": "execute_result"
    }
   ],
   "source": [
    "(round(100 * (\n",
    "    totals_df.query(\"despiking == 'q7'\").groupby('variable')['value'].max() \n",
    "    - totals_df.query(\"despiking == 'q7'\").groupby('variable')['value'].min()\n",
    ") / totals_df.query(\"despiking == 'q7'\").groupby('variable')['value'].min(), 1)).mean()"
   ]
  },
  {
   "cell_type": "code",
   "execution_count": 121,
   "metadata": {},
   "outputs": [
    {
     "data": {
      "text/plain": [
       "2.5083333333333333"
      ]
     },
     "execution_count": 121,
     "metadata": {},
     "output_type": "execute_result"
    }
   ],
   "source": [
    "(round(100 * (\n",
    "    totals_df.query(\"instrument_flagging == 'flags36000'\").groupby('variable')['value'].max() \n",
    "    - totals_df.query(\"instrument_flagging == 'flags36000'\").groupby('variable')['value'].min()\n",
    ") / totals_df.query(\"instrument_flagging == 'flags36000'\").groupby('variable')['value'].min(), 1)).mean()"
   ]
  },
  {
   "cell_type": "code",
   "execution_count": 122,
   "metadata": {},
   "outputs": [
    {
     "data": {
      "text/plain": [
       "2.6416666666666666"
      ]
     },
     "execution_count": 122,
     "metadata": {},
     "output_type": "execute_result"
    }
   ],
   "source": [
    "(round(100 * (\n",
    "    totals_df.query(\"instrument_flagging == 'flags9000'\").groupby('variable')['value'].max() \n",
    "    - totals_df.query(\"instrument_flagging == 'flags9000'\").groupby('variable')['value'].min()\n",
    ") / totals_df.query(\"instrument_flagging == 'flags9000'\").groupby('variable')['value'].min(), 1)).mean()"
   ]
  },
  {
   "cell_type": "code",
   "execution_count": 123,
   "metadata": {},
   "outputs": [
    {
     "data": {
      "text/plain": [
       "2.5749999999999997"
      ]
     },
     "execution_count": 123,
     "metadata": {},
     "output_type": "execute_result"
    }
   ],
   "source": [
    "(round(100 * (\n",
    "    totals_df.query(\"instrument_flagging == 'flags3600'\").groupby('variable')['value'].max() \n",
    "    - totals_df.query(\"instrument_flagging == 'flags3600'\").groupby('variable')['value'].min()\n",
    ") / totals_df.query(\"instrument_flagging == 'flags3600'\").groupby('variable')['value'].min(), 1)).mean()"
   ]
  },
  {
   "cell_type": "markdown",
   "metadata": {},
   "source": [
    "# Calculate and examine seasonal cumulative"
   ]
  },
  {
   "cell_type": "code",
   "execution_count": null,
   "metadata": {},
   "outputs": [],
   "source": [
    "alt.data_transformers.enable('json')"
   ]
  },
  {
   "cell_type": "code",
   "execution_count": null,
   "metadata": {},
   "outputs": [],
   "source": [
    "VARIABLE = 'w_h2o__20m_c'\n",
    "processing_options = df.processing.unique()\n",
    "local = pd.DataFrame()\n",
    "for process in processing_options:\n",
    "    local = pd.concat([\n",
    "        local,\n",
    "        df.query(f\"variable == '{VARIABLE}'\").query(f\"processing == '{process}'\").set_index('time').sort_index()[['value']].cumsum().assign(processing = process)\n",
    "    ])\n",
    "local['value'] = local['value']*1.8\n",
    "local['despiking'] = local['processing'].apply(lambda s: s.split('_')[0])\n",
    "local['instrument_flagging'] = local['processing'].apply(lambda s: s.split('_')[1])\n",
    "local['snowfall_filtering'] = local['processing'].apply(lambda s: s.split('_')[2])"
   ]
  },
  {
   "cell_type": "code",
   "execution_count": null,
   "metadata": {},
   "outputs": [],
   "source": [
    "alt.Chart(local.reset_index().dropna()).mark_line().encode(\n",
    "    alt.X('time:T'),\n",
    "    alt.Y('value:Q'),\n",
    "    alt.Color('processing:N'),\n",
    "    alt.Row('snowfall_filtering:N'),\n",
    "    tooltip = 'processing:N'\n",
    ").properties(width=1000).resolve_scale(color='independent')"
   ]
  },
  {
   "cell_type": "code",
   "execution_count": null,
   "metadata": {},
   "outputs": [],
   "source": [
    "pd.options.display.max_rows = 500\n",
    "display(df.groupby(['variable','processing']).value.max())"
   ]
  },
  {
   "cell_type": "code",
   "execution_count": null,
   "metadata": {},
   "outputs": [],
   "source": [
    "def restrict_time(src):\n",
    "    return src[\n",
    "        (\n",
    "            src.time > '20230111'\n",
    "        )&(\n",
    "            src.time < '20230111 0600'\n",
    "        )\n",
    "    ]\n",
    "alt.Chart(restrict_time(\n",
    "    df.query(\"variable == 'w_h2o__20m_c'\")\n",
    ")).mark_line().encode(\n",
    "    alt.X('time:T'),\n",
    "    alt.Y('value:Q'),\n",
    "    alt.Color('processing'),\n",
    "    facet='processing'\n",
    ")"
   ]
  },
  {
   "cell_type": "code",
   "execution_count": null,
   "metadata": {},
   "outputs": [],
   "source": [
    "def restrict_time(src):\n",
    "    return src[\n",
    "        (\n",
    "            src.time > '20221221'\n",
    "        )&(\n",
    "            src.time < '20221223'\n",
    "        )\n",
    "    ]\n",
    "alt.Chart(restrict_time(\n",
    "    df.query(\"variable == 'w_h2o__20m_c'\")\n",
    ")).mark_line().encode(\n",
    "    alt.X('time:T'),\n",
    "    alt.Y('value:Q'),\n",
    "    alt.Color('processing'),\n",
    "    facet='processing'\n",
    ")"
   ]
  },
  {
   "cell_type": "code",
   "execution_count": null,
   "metadata": {},
   "outputs": [],
   "source": [
    "restrict_time(\n",
    "    df.query(\"variable == 'w_h2o__20m_c'\")\n",
    ").value.value_counts()"
   ]
  },
  {
   "cell_type": "markdown",
   "metadata": {},
   "source": [
    "# Apply mean diurnal gap filling "
   ]
  },
  {
   "cell_type": "code",
   "execution_count": null,
   "metadata": {},
   "outputs": [],
   "source": []
  },
  {
   "cell_type": "code",
   "execution_count": null,
   "metadata": {},
   "outputs": [],
   "source": [
    "df_gapfilled = pd.DataFrame()\n",
    "for lhflux_variable in df.variable.unique():\n",
    "    for process in df.processing.unique():\n",
    "        subset = df.query(f\"variable == '{lhflux_variable}'\")\n",
    "        subset = subset.query(f\"processing == '{process}'\")\n",
    "        subset = subset.set_index('time')\n",
    "        for i,row in subset.iterrows():\n",
    "            if np.isnan(row['value']) or row['value'] == 0:\n",
    "                start_window = i - dt.timedelta(days=3, hours=12)\n",
    "                end_window = i + dt.timedelta(days=3, hours=12)\n",
    "                src = subset.loc[start_window: end_window].reset_index()\n",
    "                means = pd.DataFrame(\n",
    "                    src.groupby([src.time.dt.hour, src.time.dt.minute])['value'].mean()\n",
    "                )\n",
    "                subset.loc[i, 'value'] = means.loc[i.hour, i.minute].value\n",
    "        df_gapfilled = pd.concat([df_gapfilled, subset])"
   ]
  },
  {
   "cell_type": "code",
   "execution_count": null,
   "metadata": {},
   "outputs": [],
   "source": [
    "totals_gapfilled_df = pd.DataFrame(df_gapfilled.groupby(['variable', 'processing'])['value'].sum()*30*60/1000).reset_index()"
   ]
  },
  {
   "cell_type": "code",
   "execution_count": null,
   "metadata": {},
   "outputs": [],
   "source": [
    "totals_gapfilled_df['despiking'] = totals_gapfilled_df['processing'].apply(lambda s: s.split('_')[0])\n",
    "totals_gapfilled_df['instrument_flagging'] = totals_gapfilled_df['processing'].apply(lambda s: s.split('_')[1])\n",
    "totals_gapfilled_df['snowfall_filtering'] = totals_gapfilled_df['processing'].apply(lambda s: s.split('_')[2])\n",
    "totals_gapfilled_df['height'] = totals_gapfilled_df['variable'].str.split('_').str[3].str[:-1].astype(int)\n",
    "totals_gapfilled_df['tower'] = totals_gapfilled_df['variable'].str.split('_').str[-1]\n",
    "totals_gapfilled_df"
   ]
  },
  {
   "cell_type": "code",
   "execution_count": null,
   "metadata": {},
   "outputs": [],
   "source": [
    "alt.Chart(totals_gapfilled_df).mark_point(size=100).encode(\n",
    "    alt.X('value:Q').scale(zero=False, domain=[20,40]),\n",
    "    alt.Y('height:Q'),\n",
    "    alt.Shape('tower:N'),\n",
    "    alt.Column('instrument_flagging').sort(['flags36000', 'flags9000', 'flags3600']),\n",
    "    alt.Row('despiking'),\n",
    "    alt.Color('snowfall_filtering')\n",
    ").properties(width=150, height = 150).display(renderer='svg')"
   ]
  },
  {
   "cell_type": "code",
   "execution_count": null,
   "metadata": {},
   "outputs": [],
   "source": [
    "def restrict_time(src):\n",
    "    return src[\n",
    "        (\n",
    "            src.time > '20221221'\n",
    "        )&(\n",
    "            src.time < '20221223'\n",
    "        )\n",
    "    ]\n",
    "alt.Chart(restrict_time(\n",
    "    df.query(\"variable == 'w_h2o__20m_c'\")\n",
    ")).mark_line().encode(\n",
    "    alt.X('time:T'),\n",
    "    alt.Y('value:Q'),\n",
    "    alt.Color('processing'),\n",
    "    facet='processing'\n",
    ")"
   ]
  }
 ],
 "metadata": {
  "kernelspec": {
   "display_name": "sublimationofsnow",
   "language": "python",
   "name": "python3"
  },
  "language_info": {
   "codemirror_mode": {
    "name": "ipython",
    "version": 3
   },
   "file_extension": ".py",
   "mimetype": "text/x-python",
   "name": "python",
   "nbconvert_exporter": "python",
   "pygments_lexer": "ipython3",
   "version": "3.12.5"
  }
 },
 "nbformat": 4,
 "nbformat_minor": 2
}
