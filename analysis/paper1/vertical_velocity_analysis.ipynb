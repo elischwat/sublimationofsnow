{
 "cells": [
  {
   "cell_type": "code",
<<<<<<< Updated upstream
   "execution_count": 1,
   "metadata": {},
   "outputs": [],
   "source": [
    "import pandas as pd\n",
    "import altair as alt\n",
    "from sublimpy import utils\n",
    "alt.data_transformers.enable('json')\n",
    "import datetime as dt\n",
    "import numpy as np"
   ]
  },
  {
   "cell_type": "code",
   "execution_count": 2,
   "metadata": {},
   "outputs": [],
   "source": [
    "df = pd.read_parquet(\"/storage/elilouis/sublimationofsnow/double_rotated_30min_despiked_q3.5/\")"
   ]
  },
  {
   "cell_type": "code",
   "execution_count": 18,
   "metadata": {},
   "outputs": [
    {
     "data": {
      "text/html": [
       "\n",
       "<style>\n",
       "  #altair-viz-e5f7810f5973486982bf04e9b163c12d.vega-embed {\n",
       "    width: 100%;\n",
       "    display: flex;\n",
       "  }\n",
       "\n",
       "  #altair-viz-e5f7810f5973486982bf04e9b163c12d.vega-embed details,\n",
       "  #altair-viz-e5f7810f5973486982bf04e9b163c12d.vega-embed details summary {\n",
       "    position: relative;\n",
       "  }\n",
       "</style>\n",
       "<div id=\"altair-viz-e5f7810f5973486982bf04e9b163c12d\"></div>\n",
       "<script type=\"text/javascript\">\n",
       "  var VEGA_DEBUG = (typeof VEGA_DEBUG == \"undefined\") ? {} : VEGA_DEBUG;\n",
       "  (function(spec, embedOpt){\n",
       "    let outputDiv = document.currentScript.previousElementSibling;\n",
       "    if (outputDiv.id !== \"altair-viz-e5f7810f5973486982bf04e9b163c12d\") {\n",
       "      outputDiv = document.getElementById(\"altair-viz-e5f7810f5973486982bf04e9b163c12d\");\n",
       "    }\n",
       "    const paths = {\n",
       "      \"vega\": \"https://cdn.jsdelivr.net/npm/vega@5?noext\",\n",
       "      \"vega-lib\": \"https://cdn.jsdelivr.net/npm/vega-lib?noext\",\n",
       "      \"vega-lite\": \"https://cdn.jsdelivr.net/npm/vega-lite@5.16.3?noext\",\n",
       "      \"vega-embed\": \"https://cdn.jsdelivr.net/npm/vega-embed@6?noext\",\n",
       "    };\n",
       "\n",
       "    function maybeLoadScript(lib, version) {\n",
       "      var key = `${lib.replace(\"-\", \"\")}_version`;\n",
       "      return (VEGA_DEBUG[key] == version) ?\n",
       "        Promise.resolve(paths[lib]) :\n",
       "        new Promise(function(resolve, reject) {\n",
       "          var s = document.createElement('script');\n",
       "          document.getElementsByTagName(\"head\")[0].appendChild(s);\n",
       "          s.async = true;\n",
       "          s.onload = () => {\n",
       "            VEGA_DEBUG[key] = version;\n",
       "            return resolve(paths[lib]);\n",
       "          };\n",
       "          s.onerror = () => reject(`Error loading script: ${paths[lib]}`);\n",
       "          s.src = paths[lib];\n",
       "        });\n",
       "    }\n",
       "\n",
       "    function showError(err) {\n",
       "      outputDiv.innerHTML = `<div class=\"error\" style=\"color:red;\">${err}</div>`;\n",
       "      throw err;\n",
       "    }\n",
       "\n",
       "    function displayChart(vegaEmbed) {\n",
       "      vegaEmbed(outputDiv, spec, embedOpt)\n",
       "        .catch(err => showError(`Javascript Error: ${err.message}<br>This usually means there's a typo in your chart specification. See the javascript console for the full traceback.`));\n",
       "    }\n",
       "\n",
       "    if(typeof define === \"function\" && define.amd) {\n",
       "      requirejs.config({paths});\n",
       "      require([\"vega-embed\"], displayChart, err => showError(`Error loading script: ${err.message}`));\n",
       "    } else {\n",
       "      maybeLoadScript(\"vega\", \"5\")\n",
       "        .then(() => maybeLoadScript(\"vega-lite\", \"5.16.3\"))\n",
       "        .then(() => maybeLoadScript(\"vega-embed\", \"6\"))\n",
       "        .catch(showError)\n",
       "        .then(() => displayChart(vegaEmbed));\n",
       "    }\n",
       "  })({\"config\": {\"view\": {\"continuousWidth\": 300, \"continuousHeight\": 300}}, \"vconcat\": [{\"data\": {\"url\": \"altair-data-0086517e994e49af1273a24650567fb2.json\", \"format\": {\"type\": \"json\"}}, \"mark\": {\"type\": \"line\"}, \"encoding\": {\"color\": {\"field\": \"key\", \"sort\": [\"w_3m_c\", \"w_10m_c\", \"w_15m_c\", \"w_20m_c\"], \"type\": \"ordinal\"}, \"facet\": {\"field\": \"time\", \"timeUnit\": \"month\", \"type\": \"ordinal\"}, \"x\": {\"field\": \"time\", \"timeUnit\": \"hours\", \"type\": \"temporal\"}, \"y\": {\"aggregate\": \"mean\", \"field\": \"value\", \"type\": \"quantitative\"}}, \"height\": 150, \"transform\": [{\"fold\": [\"w_3m_c\", \"w_10m_c\", \"w_15m_c\", \"w_20m_c\"]}], \"width\": 200}, {\"data\": {\"url\": \"altair-data-0086517e994e49af1273a24650567fb2.json\", \"format\": {\"type\": \"json\"}}, \"mark\": {\"type\": \"line\"}, \"encoding\": {\"color\": {\"field\": \"key\", \"sort\": [\"w_3m_c\", \"w_10m_c\", \"w_15m_c\", \"w_20m_c\"], \"type\": \"ordinal\"}, \"facet\": {\"field\": \"time\", \"sort\": [\"Nov\", \"Dec\", \"Jan\"], \"timeUnit\": \"month\", \"type\": \"ordinal\"}, \"x\": {\"field\": \"time\", \"timeUnit\": \"hours\", \"type\": \"temporal\"}, \"y\": {\"aggregate\": \"mean\", \"field\": \"value\", \"type\": \"quantitative\"}}, \"height\": 150, \"transform\": [{\"fold\": [\"w_3m_c_fit\", \"w_10m_c_fit\", \"w_15m_c_fit\", \"w_20m_c_fit\"]}], \"width\": 200}], \"$schema\": \"https://vega.github.io/schema/vega-lite/v5.16.3.json\"}, {\"mode\": \"vega-lite\"});\n",
       "</script>"
      ],
      "text/plain": [
       "alt.VConcatChart(...)"
      ]
     },
     "execution_count": 18,
     "metadata": {},
     "output_type": "execute_result"
    }
   ],
   "source": [
    "alt.Chart(df[[\n",
    "    'w_3m_c', 'w_3m_c_fit',\n",
    "    'w_10m_c', 'w_10m_c_fit',\n",
    "    'w_15m_c', 'w_15m_c_fit',\n",
    "    'w_20m_c', 'w_20m_c_fit',\n",
    "]].reset_index()).transform_fold(\n",
    "    ['w_3m_c', 'w_10m_c', 'w_15m_c', 'w_20m_c',]\n",
    ").mark_line().encode(\n",
    "    alt.X('hours(time):T'),\n",
    "    alt.Y('mean(value):Q'),\n",
    "    alt.Color('key:O').sort(['w_3m_c', 'w_10m_c', 'w_15m_c', 'w_20m_c',]),\n",
    "    alt.Facet('month(time):O')\n",
    ").properties(width = 200, height = 150) & alt.Chart(df[[\n",
    "    'w_3m_c', 'w_3m_c_fit',\n",
    "    'w_10m_c', 'w_10m_c_fit',\n",
    "    'w_15m_c', 'w_15m_c_fit',\n",
    "    'w_20m_c', 'w_20m_c_fit',\n",
    "]].reset_index()).transform_fold(\n",
    "    ['w_3m_c_fit', 'w_10m_c_fit', 'w_15m_c_fit', 'w_20m_c_fit',]\n",
    ").mark_line().encode(\n",
    "    alt.X('hours(time):T'),\n",
    "    alt.Y('mean(value):Q'),\n",
    "    alt.Color('key:O').sort(['w_3m_c', 'w_10m_c', 'w_15m_c', 'w_20m_c',]),\n",
    "    alt.Facet('month(time):O').sort(['Nov', 'Dec', 'Jan'])\n",
    ").properties(width = 200, height = 150)"
   ]
  },
  {
   "cell_type": "markdown",
   "metadata": {},
   "source": [
    "ls ~/Development/data/sublimationofsnow/ | grep csv"
   ]
  },
  {
   "cell_type": "code",
   "execution_count": 2,
   "metadata": {},
   "outputs": [
    {
     "name": "stderr",
     "output_type": "stream",
     "text": [
      "/var/folders/x_/2h52bcjx2px15bhmdpdd748h0000gn/T/ipykernel_79237/941560937.py:1: FutureWarning: The 'delim_whitespace' keyword in pd.read_csv is deprecated and will be removed in a future version. Use ``sep='\\s+'`` instead\n",
      "  src = pd.read_csv(\n"
     ]
    },
    {
     "data": {
      "text/html": [
       "<div>\n",
       "<style scoped>\n",
       "    .dataframe tbody tr th:only-of-type {\n",
       "        vertical-align: middle;\n",
       "    }\n",
       "\n",
       "    .dataframe tbody tr th {\n",
       "        vertical-align: top;\n",
       "    }\n",
       "\n",
       "    .dataframe thead th {\n",
       "        text-align: right;\n",
       "    }\n",
       "</style>\n",
       "<table border=\"1\" class=\"dataframe\">\n",
       "  <thead>\n",
       "    <tr style=\"text-align: right;\">\n",
       "      <th></th>\n",
       "      <th>height</th>\n",
       "      <th>tower</th>\n",
       "      <th>month</th>\n",
       "      <th>a</th>\n",
       "      <th>b</th>\n",
       "      <th>c</th>\n",
       "      <th>tilt</th>\n",
       "      <th>tiltaz</th>\n",
       "      <th>W_f_1</th>\n",
       "      <th>W_f_2</th>\n",
       "      <th>W_f_3</th>\n",
       "    </tr>\n",
       "  </thead>\n",
       "  <tbody>\n",
       "    <tr>\n",
       "      <th>1</th>\n",
       "      <td>3</td>\n",
       "      <td>ue</td>\n",
       "      <td>5.5</td>\n",
       "      <td>0.001482</td>\n",
       "      <td>-0.000199</td>\n",
       "      <td>0.000215</td>\n",
       "      <td>0.028113</td>\n",
       "      <td>-47.998771</td>\n",
       "      <td>0.000199</td>\n",
       "      <td>-0.000215</td>\n",
       "      <td>1.000000</td>\n",
       "    </tr>\n",
       "    <tr>\n",
       "      <th>2</th>\n",
       "      <td>3</td>\n",
       "      <td>c</td>\n",
       "      <td>5.5</td>\n",
       "      <td>0.000805</td>\n",
       "      <td>0.000034</td>\n",
       "      <td>-0.000078</td>\n",
       "      <td>0.031190</td>\n",
       "      <td>-25.177788</td>\n",
       "      <td>-0.000034</td>\n",
       "      <td>0.000078</td>\n",
       "      <td>1.000000</td>\n",
       "    </tr>\n",
       "    <tr>\n",
       "      <th>3</th>\n",
       "      <td>3</td>\n",
       "      <td>d</td>\n",
       "      <td>5.5</td>\n",
       "      <td>0.008837</td>\n",
       "      <td>-0.000067</td>\n",
       "      <td>0.000064</td>\n",
       "      <td>0.034341</td>\n",
       "      <td>-32.139706</td>\n",
       "      <td>0.000067</td>\n",
       "      <td>-0.000064</td>\n",
       "      <td>1.000000</td>\n",
       "    </tr>\n",
       "    <tr>\n",
       "      <th>7</th>\n",
       "      <td>10</td>\n",
       "      <td>uw</td>\n",
       "      <td>5.5</td>\n",
       "      <td>-0.000085</td>\n",
       "      <td>-0.000048</td>\n",
       "      <td>0.000637</td>\n",
       "      <td>0.055466</td>\n",
       "      <td>-38.037183</td>\n",
       "      <td>0.000048</td>\n",
       "      <td>-0.000637</td>\n",
       "      <td>0.999999</td>\n",
       "    </tr>\n",
       "    <tr>\n",
       "      <th>8</th>\n",
       "      <td>3</td>\n",
       "      <td>uw</td>\n",
       "      <td>5.5</td>\n",
       "      <td>0.000648</td>\n",
       "      <td>-0.000253</td>\n",
       "      <td>0.000525</td>\n",
       "      <td>0.062453</td>\n",
       "      <td>-54.218484</td>\n",
       "      <td>0.000253</td>\n",
       "      <td>-0.000525</td>\n",
       "      <td>0.999999</td>\n",
       "    </tr>\n",
       "    <tr>\n",
       "      <th>9</th>\n",
       "      <td>10</td>\n",
       "      <td>d</td>\n",
       "      <td>5.5</td>\n",
       "      <td>0.041599</td>\n",
       "      <td>0.000271</td>\n",
       "      <td>0.000619</td>\n",
       "      <td>0.066754</td>\n",
       "      <td>-69.713736</td>\n",
       "      <td>-0.000271</td>\n",
       "      <td>-0.000619</td>\n",
       "      <td>0.999999</td>\n",
       "    </tr>\n",
       "    <tr>\n",
       "      <th>14</th>\n",
       "      <td>10</td>\n",
       "      <td>ue</td>\n",
       "      <td>5.5</td>\n",
       "      <td>0.035018</td>\n",
       "      <td>0.000175</td>\n",
       "      <td>0.000095</td>\n",
       "      <td>0.105877</td>\n",
       "      <td>-10.622671</td>\n",
       "      <td>-0.000175</td>\n",
       "      <td>-0.000095</td>\n",
       "      <td>0.999998</td>\n",
       "    </tr>\n",
       "    <tr>\n",
       "      <th>15</th>\n",
       "      <td>10</td>\n",
       "      <td>c</td>\n",
       "      <td>5.5</td>\n",
       "      <td>-0.055529</td>\n",
       "      <td>0.000526</td>\n",
       "      <td>0.001037</td>\n",
       "      <td>0.114147</td>\n",
       "      <td>-101.547371</td>\n",
       "      <td>-0.000526</td>\n",
       "      <td>-0.001037</td>\n",
       "      <td>0.999997</td>\n",
       "    </tr>\n",
       "  </tbody>\n",
       "</table>\n",
       "</div>"
      ],
      "text/plain": [
       "   height tower  month         a         b         c      tilt      tiltaz  \\\n",
       "1       3    ue    5.5  0.001482 -0.000199  0.000215  0.028113  -47.998771   \n",
       "2       3     c    5.5  0.000805  0.000034 -0.000078  0.031190  -25.177788   \n",
       "3       3     d    5.5  0.008837 -0.000067  0.000064  0.034341  -32.139706   \n",
       "7      10    uw    5.5 -0.000085 -0.000048  0.000637  0.055466  -38.037183   \n",
       "8       3    uw    5.5  0.000648 -0.000253  0.000525  0.062453  -54.218484   \n",
       "9      10     d    5.5  0.041599  0.000271  0.000619  0.066754  -69.713736   \n",
       "14     10    ue    5.5  0.035018  0.000175  0.000095  0.105877  -10.622671   \n",
       "15     10     c    5.5 -0.055529  0.000526  0.001037  0.114147 -101.547371   \n",
       "\n",
       "       W_f_1     W_f_2     W_f_3  \n",
       "1   0.000199 -0.000215  1.000000  \n",
       "2  -0.000034  0.000078  1.000000  \n",
       "3   0.000067 -0.000064  1.000000  \n",
       "7   0.000048 -0.000637  0.999999  \n",
       "8   0.000253 -0.000525  0.999999  \n",
       "9  -0.000271 -0.000619  0.999999  \n",
       "14 -0.000175 -0.000095  0.999998  \n",
       "15 -0.000526 -0.001037  0.999997  "
      ]
     },
     "execution_count": 2,
     "metadata": {},
     "output_type": "execute_result"
    }
   ],
   "source": [
    "src = pd.read_csv(\n",
    "    \"~/Development/data/sublimationofsnow/monthly_planar_fits.csv\", delim_whitespace=True\n",
    ").groupby(['height', 'tower']).mean().sort_values('tilt').reset_index()\n",
    "\n",
    "src[src.height.isin(['3','10'])]"
   ]
  },
  {
   "cell_type": "code",
=======
>>>>>>> Stashed changes
   "execution_count": 3,
   "metadata": {},
   "outputs": [],
   "source": [
    "import numpy as np\n",
    "import pandas as pd\n",
    "pd.options.mode.copy_on_write = True\n",
    "import altair as alt\n",
    "alt.data_transformers.enable('json')\n",
    "import datetime as dt"
   ]
  },
  {
   "cell_type": "markdown",
   "metadata": {},
   "source": [
    "# Open tilt-corrected datasets and merge"
   ]
  },
  {
   "cell_type": "code",
   "execution_count": 1,
   "metadata": {},
   "outputs": [],
   "source": [
    "vars = [\n",
    "    'w_3m_c_fit', 'w_5m_c_fit', 'w_10m_c_fit', 'w_15m_c_fit', 'w_20m_c_fit',\n",
    "    'u_w__3m_c_fit', 'u_w__5m_c_fit', 'u_w__10m_c_fit', 'u_w__15m_c_fit', 'u_w__20m_c_fit',\n",
    "    'v_w__3m_c_fit', 'v_w__5m_c_fit', 'v_w__10m_c_fit', 'v_w__15m_c_fit', 'v_w__20m_c_fit',\n",
    "    # 'w_tc__3m_c_fit', 'w_tc__5m_c_fit', 'w_tc__10m_c_fit', 'w_tc__15m_c_fit', 'w_tc__20m_c_fit',\n",
    "    'w_h2o__3m_c_fit', 'w_h2o__5m_c_fit', 'w_h2o__10m_c_fit', 'w_h2o__15m_c_fit', 'w_h2o__20m_c_fit',\n",
    "]"
   ]
  },
  {
   "cell_type": "code",
   "execution_count": null,
   "metadata": {},
   "outputs": [],
   "source": [
    "df_dr = pd.read_parquet(\"/Users/elischwat/Development/data/sublimationofsnow/double_rotated_30min_despiked_q7/\", columns=vars)\n",
    "df_pf = pd.read_parquet(\"/Users/elischwat/Development/data/sublimationofsnow/planar_fit_nosector_processed_30min_despiked_q7/\", columns=vars)\n",
    "df_pf10 = pd.read_parquet(\"/Users/elischwat/Development/data/sublimationofsnow/planar_fit_10sector_processed_30min_despiked_q7/\", columns=vars)"
   ]
  },
  {
   "cell_type": "code",
   "execution_count": null,
   "metadata": {},
   "outputs": [],
   "source": [
    "df = df_pf10.join(\n",
    "    df_pf, lsuffix='_pf10', rsuffix='_pf'\n",
    ").join(\n",
    "    df_dr.rename(columns = dict([\n",
    "        (col, col + '_dr') for col in df_dr.columns\n",
    "    ]))\n",
    ")"
   ]
  },
  {
   "cell_type": "markdown",
   "metadata": {},
   "source": [
    "Adjust time series to match the time index of the tidy dataset"
   ]
  },
  {
   "cell_type": "code",
   "execution_count": null,
   "metadata": {},
   "outputs": [],
   "source": [
    "df.index = df.index - dt.timedelta(minutes=15)"
   ]
  },
  {
   "cell_type": "code",
   "execution_count": null,
   "metadata": {},
   "outputs": [],
   "source": [
    "print(len(df[['w_h2o__3m_c_fit_pf10']].dropna()))\n",
    "print(len(df[['w_h2o__3m_c_fit_pf']].dropna()))\n",
    "print(len(df[['w_h2o__3m_c_fit_dr']].dropna()))"
   ]
  },
  {
   "cell_type": "markdown",
   "metadata": {},
   "source": [
    "# Open tidy dataset and identify 30-min fluxes removed during preprocessing"
   ]
  },
  {
   "cell_type": "code",
   "execution_count": null,
   "metadata": {},
   "outputs": [],
   "source": [
    "tidy_df = pd.read_parquet(\n",
    "    \"process_slow_data/tidy_df_20221101_20230619_planar_fit_multiplane_STRAIGHTUP_q7_flags9000.parquet\"\n",
    ")"
   ]
  },
  {
   "cell_type": "code",
   "execution_count": null,
   "metadata": {},
   "outputs": [],
   "source": [
    "filter_times_u_w_3m = tidy_df.query(\"variable == 'u_w__3m_c'\")\n",
    "filter_times_u_w_3m = filter_times_u_w_3m[~np.isnan(filter_times_u_w_3m.value)].time\n",
    "\n",
    "filter_times_u_w_5m = tidy_df.query(\"variable == 'u_w__5m_c'\")\n",
    "filter_times_u_w_5m = filter_times_u_w_5m[~np.isnan(filter_times_u_w_5m.value)].time\n",
    "\n",
    "filter_times_u_w_10m = tidy_df.query(\"variable == 'u_w__10m_c'\")\n",
    "filter_times_u_w_10m = filter_times_u_w_10m[~np.isnan(filter_times_u_w_10m.value)].time\n",
    "\n",
    "filter_times_u_w_15m = tidy_df.query(\"variable == 'u_w__15m_c'\")\n",
    "filter_times_u_w_15m = filter_times_u_w_15m[~np.isnan(filter_times_u_w_15m.value)].time\n",
    "\n",
    "filter_times_u_w_20m = tidy_df.query(\"variable == 'u_w__20m_c'\")\n",
    "filter_times_u_w_20m = filter_times_u_w_20m[~np.isnan(filter_times_u_w_20m.value)].time"
   ]
  },
  {
   "cell_type": "code",
   "execution_count": null,
   "metadata": {},
   "outputs": [],
   "source": [
    "filter_times_w_tc_3m = tidy_df.query(\"variable == 'w_tc__3m_c'\")\n",
    "filter_times_w_tc_3m = filter_times_w_tc_3m[~np.isnan(filter_times_w_tc_3m.value)].time\n",
    "\n",
    "filter_times_w_tc_5m = tidy_df.query(\"variable == 'w_tc__5m_c'\")\n",
    "filter_times_w_tc_5m = filter_times_w_tc_5m[~np.isnan(filter_times_w_tc_5m.value)].time\n",
    "\n",
    "filter_times_w_tc_10m = tidy_df.query(\"variable == 'w_tc__10m_c'\")\n",
    "filter_times_w_tc_10m = filter_times_w_tc_10m[~np.isnan(filter_times_w_tc_10m.value)].time\n",
    "\n",
    "filter_times_w_tc_15m = tidy_df.query(\"variable == 'w_tc__15m_c'\")\n",
    "filter_times_w_tc_15m = filter_times_w_tc_15m[~np.isnan(filter_times_w_tc_15m.value)].time\n",
    "\n",
    "filter_times_w_tc_20m = tidy_df.query(\"variable == 'w_tc__20m_c'\")\n",
    "filter_times_w_tc_20m = filter_times_w_tc_20m[~np.isnan(filter_times_w_tc_20m.value)].time"
   ]
  },
  {
   "cell_type": "code",
   "execution_count": null,
   "metadata": {},
   "outputs": [],
   "source": [
    "filter_times_w_h2o_3m = tidy_df.query(\"variable == 'w_h2o__3m_c'\")\n",
    "filter_times_w_h2o_3m = filter_times_w_h2o_3m[~np.isnan(filter_times_w_h2o_3m.value)].time\n",
    "\n",
    "filter_times_w_h2o_5m = tidy_df.query(\"variable == 'w_h2o__5m_c'\")\n",
    "filter_times_w_h2o_5m = filter_times_w_h2o_5m[~np.isnan(filter_times_w_h2o_5m.value)].time\n",
    "\n",
    "filter_times_w_h2o_10m = tidy_df.query(\"variable == 'w_h2o__10m_c'\")\n",
    "filter_times_w_h2o_10m = filter_times_w_h2o_10m[~np.isnan(filter_times_w_h2o_10m.value)].time\n",
    "\n",
    "filter_times_w_h2o_15m = tidy_df.query(\"variable == 'w_h2o__15m_c'\")\n",
    "filter_times_w_h2o_15m = filter_times_w_h2o_15m[~np.isnan(filter_times_w_h2o_15m.value)].time\n",
    "\n",
    "filter_times_w_h2o_20m = tidy_df.query(\"variable == 'w_h2o__20m_c'\")\n",
    "filter_times_w_h2o_20m = filter_times_w_h2o_20m[~np.isnan(filter_times_w_h2o_20m.value)].time"
   ]
  },
  {
   "cell_type": "markdown",
   "metadata": {},
   "source": [
    "# Calculate variables"
   ]
  },
  {
   "cell_type": "markdown",
   "metadata": {},
   "source": [
    "u*"
   ]
  },
  {
   "cell_type": "code",
   "execution_count": null,
   "metadata": {},
   "outputs": [],
   "source": [
    "df['u*_3m_c_fit_pf10'] = (df['u_w__3m_c_fit_pf10']**2 + df['v_w__3m_c_fit_pf10']**2)**0.25\n",
    "df['u*_3m_c_fit_pf'] = (df['u_w__3m_c_fit_pf']**2 + df['v_w__3m_c_fit_pf']**2)**0.25\n",
    "df['u*_3m_c_fit_dr'] = (df['u_w__3m_c_fit_dr']**2 + df['v_w__3m_c_fit_dr']**2)**0.25\n",
    "\n",
    "df['u*_5m_c_fit_pf10'] = (df['u_w__5m_c_fit_pf10']**2 + df['v_w__5m_c_fit_pf10']**2)**0.25\n",
    "df['u*_5m_c_fit_pf'] = (df['u_w__5m_c_fit_pf']**2 + df['v_w__5m_c_fit_pf']**2)**0.25\n",
    "df['u*_5m_c_fit_dr'] = (df['u_w__5m_c_fit_dr']**2 + df['v_w__5m_c_fit_dr']**2)**0.25\n",
    "\n",
    "df['u*_10m_c_fit_pf10'] = (df['u_w__10m_c_fit_pf10']**2 + df['v_w__10m_c_fit_pf10']**2)**0.25\n",
    "df['u*_10m_c_fit_pf'] = (df['u_w__10m_c_fit_pf']**2 + df['v_w__10m_c_fit_pf']**2)**0.25\n",
    "df['u*_10m_c_fit_dr'] = (df['u_w__10m_c_fit_dr']**2 + df['v_w__10m_c_fit_dr']**2)**0.25\n",
    "\n",
    "df['u*_15m_c_fit_pf10'] = (df['u_w__15m_c_fit_pf10']**2 + df['v_w__15m_c_fit_pf10']**2)**0.25\n",
    "df['u*_15m_c_fit_pf'] = (df['u_w__15m_c_fit_pf']**2 + df['v_w__15m_c_fit_pf']**2)**0.25\n",
    "df['u*_15m_c_fit_dr'] = (df['u_w__15m_c_fit_dr']**2 + df['v_w__15m_c_fit_dr']**2)**0.25\n",
    "\n",
    "df['u*_20m_c_fit_pf10'] = (df['u_w__20m_c_fit_pf10']**2 + df['v_w__20m_c_fit_pf10']**2)**0.25\n",
    "df['u*_20m_c_fit_pf'] = (df['u_w__20m_c_fit_pf']**2 + df['v_w__20m_c_fit_pf']**2)**0.25\n",
    "df['u*_20m_c_fit_dr'] = (df['u_w__20m_c_fit_dr']**2 + df['v_w__20m_c_fit_dr']**2)**0.25"
   ]
  },
  {
   "cell_type": "markdown",
   "metadata": {},
   "source": [
    "Differences between DR and PF, DR and PF10"
   ]
  },
  {
   "cell_type": "code",
   "execution_count": null,
   "metadata": {},
   "outputs": [],
   "source": [
    "for H in [3,5,10,15,20]:\n",
    "    for prefix in ['w_h2o_', 'w_tc_', 'u*']:\n",
    "        df[f\"{prefix}_{H}m_c_fit_dr_minus_pf\"] = (df[f\"{prefix}_{H}m_c_fit_dr\"] - df[f\"{prefix}_{H}m_c_fit_pf\"])\n",
    "        df[f\"{prefix}_{H}m_c_fit_dr_minus_pf10\"] = (df[f\"{prefix}_{H}m_c_fit_dr\"] - df[f\"{prefix}_{H}m_c_fit_pf10\"])\n",
    "        "
   ]
  },
  {
   "cell_type": "markdown",
   "metadata": {},
   "source": [
    "# Convert heat fluxes to watts/m^2"
   ]
  },
  {
   "cell_type": "code",
   "execution_count": null,
   "metadata": {},
   "outputs": [],
   "source": [
    "from metpy.units import units\n",
    "def w_tc_to_watts(values):\n",
    "    specific_heat_capacity_air = 1.0005 * units('kilojoules/(K*kg)')\n",
    "    air_density = 1 * units(\"kg/m^3\")\n",
    "    sensible_heat_flux_meas_units = values * units(\"K*m/s\")\n",
    "    return (sensible_heat_flux_meas_units * specific_heat_capacity_air * air_density).to(\"W/m^2\").magnitude\n",
    "def w_h2o_to_watts(values):\n",
    "    latent_heat_of_vaporization = 2838 * units(\"J/g\")\n",
    "    latent_heat_flux_meas_units = values * units(\"g/(m^2 * s)\")\n",
    "    return (latent_heat_flux_meas_units * latent_heat_of_vaporization).to(\"W/m^2\").magnitude"
   ]
  },
  {
   "cell_type": "code",
   "execution_count": null,
   "metadata": {},
   "outputs": [],
   "source": [
    "for var in [c for c in df.columns if 'w_tc__' in c]:\\\n",
    "    df[var] = w_tc_to_watts(df[var].values)\n",
    "for var in [c for c in df.columns if 'w_h2o__' in c]:\\\n",
    "    df[var] = w_h2o_to_watts(df[var].values)"
   ]
  },
  {
   "cell_type": "markdown",
   "metadata": {},
   "source": [
    "# Plots"
   ]
  },
  {
   "cell_type": "markdown",
   "metadata": {},
   "source": [
    "## Vertical velocities"
   ]
  },
  {
   "cell_type": "code",
   "execution_count": null,
   "metadata": {},
   "outputs": [],
   "source": [
    "from sublimpy import utils"
   ]
  },
  {
   "cell_type": "code",
   "execution_count": null,
   "metadata": {},
   "outputs": [],
   "source": [
    "upvalley_wind_times = pd.to_datetime(tidy_df[tidy_df.variable == 'dir_3m_c'].query(\"value < 152\").query(\"value > 92\").time.values)\n",
    "downvalley_wind_times = pd.to_datetime(tidy_df[tidy_df.variable == 'dir_3m_c'].query(\"value < 342\").query(\"value > 292\").time.values)\n",
    "# Identify lists of timestamps for different categories\n",
    "bs_times = pd.to_datetime(list(set(\n",
    "    tidy_df.query(\"variable == 'SF_avg_1m_ue'\").query(\"value > 0\").time.values\n",
    ").union(\n",
    "    set(tidy_df.query(\"variable == 'SF_avg_2m_ue'\").query(\"value > 0\").time.values)\n",
    ")))\n",
    "nobs_times = pd.to_datetime(list(set(tidy_df.time).difference(bs_times)))"
   ]
  },
  {
   "cell_type": "code",
   "execution_count": null,
   "metadata": {},
   "outputs": [],
   "source": [
    "df_localtime = utils.modify_df_timezone(df.reset_index(), 'UTC', 'US/Mountain')\n",
    "df_localtime = df_localtime[df_localtime.time > '20221130']\n",
    "df_localtime = df_localtime[df_localtime.time < '20230510']\n",
    "df_localtime_upvalley = df_localtime[df_localtime.time.isin(set(upvalley_wind_times).intersection(set(nobs_times)))]\n",
    "df_localtime_downvalley = df_localtime[df_localtime.time.isin(set(downvalley_wind_times).intersection(set(nobs_times)))]\n",
    "def w_chart(src, columns):\n",
    "    return alt.Chart(\n",
    "            src\n",
    "        ).transform_fold(\n",
    "            columns,\n",
    "            as_ = ['measurement', 'velocity']\n",
    "        ).mark_line().encode(\n",
    "            alt.X('hoursminutes(time):T'),\n",
    "            alt.Y('median(velocity):Q'),\n",
    "            alt.Color('measurement:N')\n",
    "        ).properties(width=300, height = 100)\n",
    "(\n",
    "    (\n",
    "        w_chart(df_localtime_upvalley, ['w_3m_c_fit_pf10', 'w_3m_c_fit_pf', 'w_3m_c_fit_dr']) &\\\n",
    "        w_chart(df_localtime_upvalley, ['w_5m_c_fit_pf10', 'w_5m_c_fit_pf', 'w_5m_c_fit_dr']) &\\\n",
    "        w_chart(df_localtime_upvalley, ['w_10m_c_fit_pf10', 'w_10m_c_fit_pf', 'w_10m_c_fit_dr']) &\\\n",
    "        w_chart(df_localtime_upvalley, ['w_15m_c_fit_pf10', 'w_15m_c_fit_pf', 'w_15m_c_fit_dr']) &\\\n",
    "        w_chart(df_localtime_upvalley, ['w_20m_c_fit_pf10', 'w_20m_c_fit_pf', 'w_20m_c_fit_dr'])\n",
    "    ).resolve_scale(color='independent', x='shared', y='shared')\n",
    "    |\n",
    "    (\n",
    "        w_chart(df_localtime_downvalley, ['w_3m_c_fit_pf10', 'w_3m_c_fit_pf', 'w_3m_c_fit_dr']) &\\\n",
    "        w_chart(df_localtime_downvalley, ['w_5m_c_fit_pf10', 'w_5m_c_fit_pf', 'w_5m_c_fit_dr']) &\\\n",
    "        w_chart(df_localtime_downvalley, ['w_10m_c_fit_pf10', 'w_10m_c_fit_pf', 'w_10m_c_fit_dr']) &\\\n",
    "        w_chart(df_localtime_downvalley, ['w_15m_c_fit_pf10', 'w_15m_c_fit_pf', 'w_15m_c_fit_dr']) &\\\n",
    "        w_chart(df_localtime_downvalley, ['w_20m_c_fit_pf10', 'w_20m_c_fit_pf', 'w_20m_c_fit_dr'])\n",
    "    ).resolve_scale(color='independent', x='shared', y='shared')\n",
    ")"
   ]
  },
  {
   "cell_type": "code",
   "execution_count": null,
   "metadata": {},
   "outputs": [],
   "source": [
    "(\n",
    "        w_chart(df_localtime, ['w_3m_c_fit_pf10', 'w_3m_c_fit_pf', 'w_3m_c_fit_dr']) &\\\n",
    "        w_chart(df_localtime, ['w_5m_c_fit_pf10', 'w_5m_c_fit_pf', 'w_5m_c_fit_dr']) &\\\n",
    "        w_chart(df_localtime, ['w_10m_c_fit_pf10', 'w_10m_c_fit_pf', 'w_10m_c_fit_dr']) &\\\n",
    "        w_chart(df_localtime, ['w_15m_c_fit_pf10', 'w_15m_c_fit_pf', 'w_15m_c_fit_dr']) &\\\n",
    "        w_chart(df_localtime, ['w_20m_c_fit_pf10', 'w_20m_c_fit_pf', 'w_20m_c_fit_dr'])\n",
    "    ).resolve_scale(color='independent', x='shared', y='shared')"
   ]
  },
  {
   "cell_type": "markdown",
   "metadata": {},
   "source": [
    "## Fluxes"
   ]
  },
  {
   "cell_type": "markdown",
   "metadata": {},
   "source": [
    "### Exploratory"
   ]
  },
  {
   "cell_type": "markdown",
   "metadata": {},
   "source": [
    "#### u*"
   ]
  },
  {
   "cell_type": "code",
   "execution_count": null,
   "metadata": {},
   "outputs": [],
   "source": [
    "base = alt.Chart(df).properties(width=150, height=150)\n",
    "(\n",
    "    base.mark_circle(size=5, opacity=0.25).encode(\n",
    "        alt.X('u*_3m_c_fit_dr:Q'),\n",
    "        alt.Y('u*_3m_c_fit_dr_minus_pf10:Q'),\n",
    "    ) |\\\n",
    "    base.mark_boxplot(outliers=False).encode(\n",
    "        alt.X('u*_3m_c_fit_dr:Q').bin(True),\n",
    "        alt.Y('u*_3m_c_fit_dr_minus_pf10:Q'),\n",
    "    ) |\\\n",
    "    base.mark_circle().encode(\n",
    "        alt.X('u*_3m_c_fit_dr:Q').bin(True),\n",
    "        alt.Y('mean(u*_3m_c_fit_dr_minus_pf10):Q'),\n",
    "    )\n",
    ") &\\\n",
    "(\n",
    "    base.mark_circle(size=5, opacity=0.25).encode(\n",
    "        alt.X('u*_20m_c_fit_dr:Q'),\n",
    "        alt.Y('u*_20m_c_fit_dr_minus_pf10:Q'),\n",
    "    ) |\\\n",
    "    base.mark_boxplot(outliers=False).encode(\n",
    "        alt.X('u*_20m_c_fit_dr:Q').bin(True),\n",
    "        alt.Y('u*_20m_c_fit_dr_minus_pf10:Q'),\n",
    "    ) |\\\n",
    "    base.mark_circle().encode(\n",
    "        alt.X('u*_20m_c_fit_dr:Q').bin(True),\n",
    "        alt.Y('mean(u*_20m_c_fit_dr_minus_pf10):Q'),\n",
    "    )\n",
    ")"
   ]
  },
  {
   "cell_type": "markdown",
   "metadata": {},
   "source": [
    "#### w'tc'"
   ]
  },
  {
   "cell_type": "code",
   "execution_count": null,
   "metadata": {},
   "outputs": [],
   "source": [
    "alt.Chart(df[df.index.isin(filter_times_w_tc_3m)]).mark_bar().encode(\n",
    "    alt.X('w_tc__3m_c_fit_dr:Q').bin(step=20),\n",
    "    alt.Y('count(w_tc__3m_c_fit_d|r):Q')\n",
    ")"
   ]
  },
  {
   "cell_type": "code",
   "execution_count": null,
   "metadata": {},
   "outputs": [],
   "source": [
    "base = alt.Chart(df).properties(width=150, height=150)\n",
    "(\n",
    "    base.mark_circle(size=5, opacity=0.25).encode(\n",
    "        alt.X('w_tc__3m_c_fit_dr:Q'),\n",
    "        alt.Y('w_tc__3m_c_fit_dr_minus_pf10:Q'),\n",
    "    ) |\\\n",
    "    base.mark_boxplot(outliers=False).encode(\n",
    "        alt.X('w_tc__3m_c_fit_dr:Q').bin(True),\n",
    "        alt.Y('w_tc__3m_c_fit_dr_minus_pf10:Q'),\n",
    "    ) |\\\n",
    "    base.mark_circle().encode(\n",
    "        alt.X('w_tc__3m_c_fit_dr:Q').bin(True),\n",
    "        alt.Y('mean(w_tc__3m_c_fit_dr_minus_pf10):Q'),\n",
    "    ) |\\\n",
    "    base.mark_circle().encode(\n",
    "        alt.X('w_tc__3m_c_fit_dr:Q').bin(True),\n",
    "        alt.Y('median(w_tc__3m_c_fit_dr_minus_pf10):Q'),\n",
    "    )\n",
    ") &\\\n",
    "(\n",
    "    base.mark_circle(size=5, opacity=0.25).encode(\n",
    "        alt.X('w_tc__20m_c_fit_dr:Q'),\n",
    "        alt.Y('w_tc__20m_c_fit_dr_minus_pf10:Q'),\n",
    "    ) |\\\n",
    "    base.mark_boxplot(outliers=False).encode(\n",
    "        alt.X('w_tc__20m_c_fit_dr:Q').bin(True),\n",
    "        alt.Y('w_tc__20m_c_fit_dr_minus_pf10:Q'),\n",
    "    ) |\\\n",
    "    base.mark_circle().encode(\n",
    "        alt.X('w_tc__20m_c_fit_dr:Q').bin(True),\n",
    "        alt.Y('mean(w_tc__20m_c_fit_dr_minus_pf10):Q'),\n",
    "    ) |\\\n",
    "    base.mark_circle().encode(\n",
    "        alt.X('w_tc__20m_c_fit_dr:Q').bin(True),\n",
    "        alt.Y('median(w_tc__20m_c_fit_dr_minus_pf10):Q'),\n",
    "    )\n",
    ")"
   ]
  },
  {
   "cell_type": "markdown",
   "metadata": {},
   "source": [
    "#### w'q'"
   ]
  },
  {
   "cell_type": "code",
   "execution_count": null,
   "metadata": {},
   "outputs": [],
   "source": [
    "alt.Chart(\n",
    "    df[df.index.isin(filter_times_w_h2o_3m.values)].query('w_h2o__3m_c_fit_dr > -400')\n",
    ").mark_bar().encode(\n",
    "    alt.X('w_h2o__3m_c_fit_dr:Q').bin(step=10),\n",
    "    alt.Y('count(w_h2o__3m_c_fit_dr):Q')\n",
    ")"
   ]
  },
  {
   "cell_type": "code",
   "execution_count": null,
   "metadata": {},
   "outputs": [],
   "source": [
    "alt.Chart(\n",
    "    df.query(\"w_h2o__3m_c_fit_dr > -20\").query(\"w_h2o__3m_c_fit_dr < 80\")\n",
    ").mark_bar().encode(\n",
    "    alt.X('w_h2o__3m_c_fit_dr:Q').bin(step=5),\n",
    "    alt.Y('count(w_h2o__3m_c_fit_dr):Q')\n",
    ")"
   ]
  },
  {
   "cell_type": "code",
   "execution_count": null,
   "metadata": {},
   "outputs": [],
   "source": [
    "base = alt.Chart(df).properties(width=150, height=150)\n",
    "(\n",
    "    base.mark_circle(size=5, opacity=0.25).encode(\n",
    "        alt.X('w_h2o__3m_c_fit_dr:Q'),\n",
    "        alt.Y('w_h2o__3m_c_fit_dr_minus_pf10:Q'),\n",
    "    ) |\\\n",
    "    base.mark_boxplot(outliers=False).encode(\n",
    "        alt.X('w_h2o__3m_c_fit_dr:Q').bin(True),\n",
    "        alt.Y('w_h2o__3m_c_fit_dr_minus_pf10:Q'),\n",
    "    ) |\\\n",
    "    base.mark_circle().encode(\n",
    "        alt.X('w_h2o__3m_c_fit_dr:Q').bin(True),\n",
    "        alt.Y('mean(w_h2o__3m_c_fit_dr_minus_pf10):Q'),\n",
    "    ) |\\\n",
    "    base.mark_circle().encode(\n",
    "        alt.X('w_h2o__3m_c_fit_dr:Q').bin(True),\n",
    "        alt.Y('median(w_h2o__3m_c_fit_dr_minus_pf10):Q'),\n",
    "    )\n",
    ") &\\\n",
    "(\n",
    "    base.mark_circle(size=5, opacity=0.25).encode(\n",
    "        alt.X('w_h2o__20m_c_fit_dr:Q'),\n",
    "        alt.Y('w_h2o__20m_c_fit_dr_minus_pf10:Q'),\n",
    "    ) |\\\n",
    "    base.mark_boxplot(outliers=False).encode(\n",
    "        alt.X('w_h2o__20m_c_fit_dr:Q').bin(True),\n",
    "        alt.Y('w_h2o__20m_c_fit_dr_minus_pf10:Q'),\n",
    "    ) |\\\n",
    "    base.mark_circle().encode(\n",
    "        alt.X('w_h2o__20m_c_fit_dr:Q').bin(True),\n",
    "        alt.Y('mean(w_h2o__20m_c_fit_dr_minus_pf10):Q'),\n",
    "    ) |\\\n",
    "    base.mark_circle().encode(\n",
    "        alt.X('w_h2o__20m_c_fit_dr:Q').bin(True),\n",
    "        alt.Y('median(w_h2o__20m_c_fit_dr_minus_pf10):Q'),\n",
    "    )\n",
    ")"
   ]
  },
  {
   "cell_type": "markdown",
   "metadata": {},
   "source": [
    "### Final plots"
   ]
  },
  {
   "cell_type": "code",
   "execution_count": null,
   "metadata": {},
   "outputs": [],
   "source": [
    "def get_boxplot(\n",
    "        src, \n",
    "        variable,\n",
    "        limits,\n",
    "        y_domain,\n",
    "        text_y_loc,\n",
    "        bins,\n",
    "        bin_labels,\n",
    "    ):\n",
    "    src = src[\n",
    "            (src[f\"{variable}\"] > limits[0]) & (src[f\"{variable}\"] < limits[1])\n",
    "        ]\n",
    "    src[f'{variable}_bin'] = pd.cut(\n",
    "            src[f'{variable}'],\n",
    "            bins,\n",
    "            labels = bin_labels\n",
    "        )\n",
    "    base = alt.Chart(\n",
    "            src\n",
    "        ).transform_fold([\n",
    "            f\"{variable}_minus_pf\", f\"{variable}_minus_pf10\"\n",
    "        ]).encode(\n",
    "            alt.X(f'{variable}_bin:O'),\n",
    "            # alt.XOffset(\"key:N\"),\n",
    "        ).properties(height = 133, width=300)\n",
    "    boxes = base.encode(   \n",
    "            alt.Y(f'value:Q').title(f'diff'),\n",
    "            alt.Color(\"key:N\"),\n",
    "            alt.XOffset(\"key:N\"),\n",
    "        ).mark_boxplot(outliers=False, box={'size': 12}, ticks=False)\n",
    "    mean_dots = base.encode(\n",
    "            alt.Y(f'mean(value):Q').title(f'diff'),\n",
    "            alt.XOffset(\"key:N\"),\n",
    "        ).mark_circle(color='black')\n",
    "    text = base.transform_calculate(y=text_y_loc).encode(\n",
    "            alt.Y(f'y:Q').scale(domain=y_domain, nice=False),\n",
    "            alt.Text(f'count({variable}_minus_pf10)'),\n",
    "        ).mark_text(align='center', baseline='bottom', size=12)\n",
    "    return boxes + mean_dots + text"
   ]
  },
  {
   "cell_type": "markdown",
   "metadata": {},
   "source": [
    "#### u*"
   ]
  },
  {
   "cell_type": "code",
   "execution_count": null,
   "metadata": {},
   "outputs": [],
   "source": [
    "def ustar_boxplot(\n",
    "        src,\n",
    "        variable = 'u*_3m_c_fit_dr', \n",
    "        limits = [0, 0.8], \n",
    "        y_domain = [-0.3, 0.6], \n",
    "        text_y_loc = '0.6', \n",
    "        bins = np.linspace(0,0.8,9), \n",
    "        bin_labels = np.round(np.linspace(0.05, 0.75, 8), 2)\n",
    "): \n",
    "    return get_boxplot( src,  variable, limits, y_domain, text_y_loc, bins, bin_labels)"
   ]
  },
  {
   "cell_type": "code",
   "execution_count": null,
   "metadata": {},
   "outputs": [],
   "source": [
    "(\n",
    "    ustar_boxplot(df[df.index.isin(filter_times_u_w_3m)], variable = 'u*_3m_c_fit_dr') &\n",
    "    ustar_boxplot(df[df.index.isin(filter_times_u_w_5m)], variable = 'u*_5m_c_fit_dr') &\n",
    "    ustar_boxplot(df[df.index.isin(filter_times_u_w_10m)], variable = 'u*_10m_c_fit_dr') &\n",
    "    ustar_boxplot(df[df.index.isin(filter_times_u_w_15m)], variable = 'u*_15m_c_fit_dr') &\n",
    "    ustar_boxplot(df[df.index.isin(filter_times_u_w_20m)], variable = 'u*_20m_c_fit_dr')\n",
    ").resolve_scale(\n",
    "    color='independent', xOffset='independent',\n",
    "    x='shared', y='shared'\n",
    ")"
   ]
  },
  {
   "cell_type": "markdown",
   "metadata": {},
   "source": [
    "#### w'tc'"
   ]
  },
  {
   "cell_type": "code",
   "execution_count": null,
   "metadata": {},
   "outputs": [],
   "source": [
    "def w_tc_boxplot(\n",
    "        src,\n",
    "        variable = 'w_tc__3m_c_fit_dr', \n",
    "        limits = [-150, 100],\n",
    "        y_domain = [-75, 25], \n",
    "        text_y_loc = '25', \n",
    "        bins = np.linspace(-150, 100, 6),\n",
    "        bin_labels = np.array([\n",
    "                np.linspace(-150, 100, 6)[:-1], \n",
    "                np.linspace(-150, 100, 6)[1:]\n",
    "        ]).mean(axis=0)\n",
    "): \n",
    "    return get_boxplot( src,  variable, limits, y_domain, text_y_loc, bins, bin_labels)\n",
    "\n",
    "def w_tc_stable_boxplot(\n",
    "        src,\n",
    "        variable = 'w_tc__3m_c_fit_dr', \n",
    "        limits = [-150, 0],\n",
    "        y_domain = [-100, 50], \n",
    "        text_y_loc = '50', \n",
    "        bins = np.linspace(-150, 0, 7),\n",
    "        bin_labels = np.array([\n",
    "                np.linspace(-150, 0, 7)[:-1], \n",
    "                np.linspace(-150, 0, 7)[1:]\n",
    "        ]).mean(axis=0)\n",
    "): \n",
    "    return get_boxplot( src,  variable, limits, y_domain, text_y_loc, bins, bin_labels)\n",
    "\n",
    "def w_tc_unstable_boxplot(\n",
    "        src,\n",
    "        variable = 'w_tc__3m_c_fit_dr', \n",
    "        limits = [0, 100],\n",
    "        y_domain = [-25, 25], \n",
    "        text_y_loc = '25', \n",
    "        bins = np.linspace(0, 100, 5),\n",
    "        bin_labels = np.array([\n",
    "                np.linspace(0, 100, 5)[:-1], \n",
    "                np.linspace(0, 100, 5)[1:]\n",
    "        ]).mean(axis=0)\n",
    "): \n",
    "    return get_boxplot( src,  variable, limits, y_domain, text_y_loc, bins, bin_labels)"
   ]
  },
  {
   "cell_type": "code",
   "execution_count": null,
   "metadata": {},
   "outputs": [],
   "source": [
    "(\n",
    "    (\n",
    "        w_tc_unstable_boxplot(df[df.index.isin(filter_times_w_tc_3m)], variable = 'w_tc__3m_c_fit_dr') &\n",
    "        w_tc_unstable_boxplot(df[df.index.isin(filter_times_w_tc_5m)], variable = 'w_tc__5m_c_fit_dr') &\n",
    "        w_tc_unstable_boxplot(df[df.index.isin(filter_times_w_tc_10m)], variable = 'w_tc__10m_c_fit_dr')\n",
    "    ).resolve_scale(color='independent', xOffset='independent', x='shared', y='shared') | (\n",
    "        w_tc_unstable_boxplot(df[df.index.isin(filter_times_w_tc_15m)], variable = 'w_tc__15m_c_fit_dr') &\n",
    "        w_tc_unstable_boxplot(df[df.index.isin(filter_times_w_tc_20m)], variable = 'w_tc__20m_c_fit_dr')\n",
    "    ).resolve_scale(color='independent', xOffset='independent', x='shared', y='shared')\n",
    ").resolve_scale(color='independent', xOffset='independent', x='shared', y='shared')"
   ]
  },
  {
   "cell_type": "code",
   "execution_count": null,
   "metadata": {},
   "outputs": [],
   "source": [
    "(\n",
    "    (\n",
    "        w_tc_boxplot(df[df.index.isin(filter_times_w_tc_3m)], variable = 'w_tc__3m_c_fit_dr') &\n",
    "        w_tc_boxplot(df[df.index.isin(filter_times_w_tc_5m)], variable = 'w_tc__5m_c_fit_dr') &\n",
    "        w_tc_boxplot(df[df.index.isin(filter_times_w_tc_10m)], variable = 'w_tc__10m_c_fit_dr')\n",
    "    ).resolve_scale(color='independent', xOffset='independent', x='shared', y='shared') | (\n",
    "        w_tc_boxplot(df[df.index.isin(filter_times_w_tc_15m)], variable = 'w_tc__15m_c_fit_dr') &\n",
    "        w_tc_boxplot(df[df.index.isin(filter_times_w_tc_20m)], variable = 'w_tc__20m_c_fit_dr')\n",
    "    ).resolve_scale(color='independent', xOffset='independent', x='shared', y='shared')\n",
    ").resolve_scale(color='independent', xOffset='independent', x='shared', y='shared')"
   ]
  },
  {
   "cell_type": "markdown",
   "metadata": {},
   "source": [
    "#### w'q'"
   ]
  },
  {
   "cell_type": "code",
   "execution_count": null,
   "metadata": {},
   "outputs": [],
   "source": [
    "def w_h2o_boxplot(\n",
    "        src,\n",
    "        variable = 'w_h2o__3m_c_fit_dr', \n",
    "        limits = [-20, 80], \n",
    "        y_domain = [-10, 10],\n",
    "        text_y_loc = '10', \n",
    "        bins = np.linspace(-20,80, 6),\n",
    "        bin_labels = np.array([\n",
    "                np.linspace(-20,80, 6)[:-1], \n",
    "                np.linspace(-20,80, 6)[1:]\n",
    "        ]).mean(axis=0)\n",
    "        # bins = np.linspace(0,80, 9),\n",
    "        # bin_labels = np.array([\n",
    "        #         np.linspace(0,80, 9)[:-1], \n",
    "        #         np.linspace(0,80, 9)[1:]\n",
    "        # ]).mean(axis=0)\n",
    "): \n",
    "    return get_boxplot( src,  variable, limits, y_domain, text_y_loc, bins, bin_labels)"
   ]
  },
  {
   "cell_type": "code",
   "execution_count": null,
   "metadata": {},
   "outputs": [],
   "source": [
    "(\n",
    "    (\n",
    "        w_h2o_boxplot(df[df.index.isin(filter_times_w_h2o_3m.values)].query('w_h2o__3m_c_fit_dr > -400'), variable = 'w_h2o__3m_c_fit_dr') &\n",
    "        w_h2o_boxplot(df[df.index.isin(filter_times_w_h2o_5m.values)].query('w_h2o__5m_c_fit_dr > -400'), variable = 'w_h2o__5m_c_fit_dr') &\n",
    "        w_h2o_boxplot(df[df.index.isin(filter_times_w_h2o_10m.values)].query('w_h2o__10m_c_fit_dr > -400'), variable = 'w_h2o__10m_c_fit_dr')\n",
    "    ).resolve_scale(color='independent', xOffset='independent', x='shared', y='shared') | (\n",
    "        w_h2o_boxplot(df[df.index.isin(filter_times_w_h2o_15m.values)].query('w_h2o__15m_c_fit_dr > -400'), variable = 'w_h2o__15m_c_fit_dr') &\n",
    "        w_h2o_boxplot(df[df.index.isin(filter_times_w_h2o_20m.values)].query('w_h2o__20m_c_fit_dr > -400'), variable = 'w_h2o__20m_c_fit_dr')\n",
    "    ).resolve_scale(color='independent', xOffset='independent', x='shared', y='shared')\n",
    ").resolve_scale(color='independent', xOffset='independent', x='shared', y='shared')"
   ]
  },
  {
   "cell_type": "code",
   "execution_count": null,
   "metadata": {},
   "outputs": [],
   "source": []
  }
 ],
 "metadata": {
  "kernelspec": {
   "display_name": "sublimationofsnow",
   "language": "python",
   "name": "python3"
  },
  "language_info": {
   "codemirror_mode": {
    "name": "ipython",
    "version": 3
   },
   "file_extension": ".py",
   "mimetype": "text/x-python",
   "name": "python",
   "nbconvert_exporter": "python",
   "pygments_lexer": "ipython3",
   "version": "3.12.1"
  }
 },
 "nbformat": 4,
 "nbformat_minor": 2
}
