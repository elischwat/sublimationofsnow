{
 "cells": [
  {
   "cell_type": "code",
   "execution_count": null,
   "metadata": {},
   "outputs": [],
   "source": [
    "import pandas as pd\n",
    "import altair as alt\n",
    "from sublimpy import utils\n",
    "alt.data_transformers.enable('json')"
   ]
  },
  {
   "cell_type": "markdown",
   "metadata": {},
   "source": [
    "ls ~/Development/data/sublimationofsnow/ | grep csv"
   ]
  },
  {
   "cell_type": "code",
   "execution_count": null,
   "metadata": {},
   "outputs": [],
   "source": [
    "src = pd.read_csv(\n",
    "    \"~/Development/data/sublimationofsnow/monthly_planar_fits.csv\", delim_whitespace=True\n",
    ").groupby(['height', 'tower']).mean().sort_values('tilt').reset_index()\n",
    "\n",
    "src[src.height.isin(['3','10'])]"
   ]
  },
  {
   "cell_type": "code",
   "execution_count": null,
   "metadata": {},
   "outputs": [],
   "source": [
    "df_nopf = pd.read_parquet(\"tidy_df_20221101_20230619_noplanar_fit.parquet\")\n",
    "df_pf = pd.read_parquet(\"tidy_df_20221101_20230619_planar_fit.parquet\")\n",
    "df_pfmp = pd.read_parquet(\"tidy_df_20221101_20230619_planar_fit_multiplane.parquet\")\n",
    "\n",
    "df_nopf = utils.modify_df_timezone(df_nopf, 'UTC', 'US/Mountain')\n",
    "df_pf = utils.modify_df_timezone(df_pf, 'UTC', 'US/Mountain')\n",
    "df_pfmp = utils.modify_df_timezone(df_pfmp, 'UTC', 'US/Mountain')\n",
    "\n",
    "df = pd.concat([\n",
    "    df_nopf.query(\"measurement == 'w'\").assign(type = \"nopf\"),\n",
    "    df_pf.query(\"measurement == 'w'\").assign(type = \"pf\"),\n",
    "    df_pfmp.query(\"measurement == 'w'\").assign(type = \"pfmp\"),\n",
    "])"
   ]
  },
  {
   "cell_type": "code",
   "execution_count": null,
   "metadata": {},
   "outputs": [],
   "source": [
    "df.query(\"type == 'pfmp'\").query(\"tower == 'c'\")"
   ]
  },
  {
   "cell_type": "code",
   "execution_count": null,
   "metadata": {},
   "outputs": [],
   "source": [
    "import datetime as dt\n",
    "import numpy as np"
   ]
  },
  {
   "cell_type": "code",
   "execution_count": 61,
   "metadata": {},
   "outputs": [
    {
     "name": "stderr",
     "output_type": "stream",
     "text": [
      "/var/folders/x_/2h52bcjx2px15bhmdpdd748h0000gn/T/ipykernel_47932/1236953920.py:2: FutureWarning: 'T' is deprecated and will be removed in a future version, please use 'min' instead.\n",
      "  src_pfmp = src_pfmp.groupby([src_pfmp.index.floor('30T').time, 'height', 'tower', 'type'])[['value']].median()\n",
      "/var/folders/x_/2h52bcjx2px15bhmdpdd748h0000gn/T/ipykernel_47932/1236953920.py:8: FutureWarning: 'T' is deprecated and will be removed in a future version, please use 'min' instead.\n",
      "  src_nopf = src_nopf.groupby([src_nopf.index.floor('30T').time, 'height', 'tower', 'type'])[['value']].median()\n",
      "/var/folders/x_/2h52bcjx2px15bhmdpdd748h0000gn/T/ipykernel_47932/1236953920.py:14: FutureWarning: 'T' is deprecated and will be removed in a future version, please use 'min' instead.\n",
      "  src_pf = src_pf.groupby([src_pf.index.floor('30T').time, 'height', 'tower', 'type'])[['value']].median()\n"
     ]
    }
   ],
   "source": [
    "src_pfmp = df.query(\"type == 'pfmp'\").set_index('time')\n",
    "src_pfmp = src_pfmp.groupby([src_pfmp.index.floor('30T').time, 'height', 'tower', 'type'])[['value']].median()\n",
    "src_pfmp.index = src_pfmp.index.set_names(['time','height','tower', 'type'])\n",
    "src_pfmp = src_pfmp.reset_index()\n",
    "src_pfmp['time'] = src_pfmp['time'].apply(lambda t: dt.datetime.combine(dt.date(2023,1,1),t))\n",
    "\n",
    "src_nopf = df.query(\"type == 'nopf'\").set_index('time')\n",
    "src_nopf = src_nopf.groupby([src_nopf.index.floor('30T').time, 'height', 'tower', 'type'])[['value']].median()\n",
    "src_nopf.index = src_nopf.index.set_names(['time','height','tower', 'type'])\n",
    "src_nopf = src_nopf.reset_index()\n",
    "src_nopf['time'] = src_nopf['time'].apply(lambda t: dt.datetime.combine(dt.date(2023,1,1),t))\n",
    "\n",
    "src_pf = df.query(\"type == 'pf'\").set_index('time')\n",
    "src_pf = src_pf.groupby([src_pf.index.floor('30T').time, 'height', 'tower', 'type'])[['value']].median()\n",
    "src_pf.index = src_pf.index.set_names(['time','height','tower', 'type'])\n",
    "src_pf = src_pf.reset_index()\n",
    "src_pf\n",
    "src_pf['time'] = src_pf['time'].apply(lambda t: dt.datetime.combine(dt.date(2023,1,1),t))"
   ]
  },
  {
   "cell_type": "code",
   "execution_count": 86,
   "metadata": {},
   "outputs": [],
   "source": [
    "line = alt.Chart().transform_calculate(y = '0').mark_rule().encode(y='y:Q')\n",
    "plot = alt.Chart().mark_line().encode(\n",
    "    alt.X('hoursminutes(time):T'),\n",
    "    alt.Y('value:Q'),\n",
    "    alt.Color('height:O').scale(scheme='turbo'),\n",
    ")"
   ]
  },
  {
   "cell_type": "code",
   "execution_count": 87,
   "metadata": {},
   "outputs": [
    {
     "data": {
      "text/html": [
       "\n",
       "<style>\n",
       "  #altair-viz-3878d5fd370a4e028ee249a1b31915f5.vega-embed {\n",
       "    width: 100%;\n",
       "    display: flex;\n",
       "  }\n",
       "\n",
       "  #altair-viz-3878d5fd370a4e028ee249a1b31915f5.vega-embed details,\n",
       "  #altair-viz-3878d5fd370a4e028ee249a1b31915f5.vega-embed details summary {\n",
       "    position: relative;\n",
       "  }\n",
       "</style>\n",
       "<div id=\"altair-viz-3878d5fd370a4e028ee249a1b31915f5\"></div>\n",
       "<script type=\"text/javascript\">\n",
       "  var VEGA_DEBUG = (typeof VEGA_DEBUG == \"undefined\") ? {} : VEGA_DEBUG;\n",
       "  (function(spec, embedOpt){\n",
       "    let outputDiv = document.currentScript.previousElementSibling;\n",
       "    if (outputDiv.id !== \"altair-viz-3878d5fd370a4e028ee249a1b31915f5\") {\n",
       "      outputDiv = document.getElementById(\"altair-viz-3878d5fd370a4e028ee249a1b31915f5\");\n",
       "    }\n",
       "    const paths = {\n",
       "      \"vega\": \"https://cdn.jsdelivr.net/npm/vega@5?noext\",\n",
       "      \"vega-lib\": \"https://cdn.jsdelivr.net/npm/vega-lib?noext\",\n",
       "      \"vega-lite\": \"https://cdn.jsdelivr.net/npm/vega-lite@5.17.0?noext\",\n",
       "      \"vega-embed\": \"https://cdn.jsdelivr.net/npm/vega-embed@6?noext\",\n",
       "    };\n",
       "\n",
       "    function maybeLoadScript(lib, version) {\n",
       "      var key = `${lib.replace(\"-\", \"\")}_version`;\n",
       "      return (VEGA_DEBUG[key] == version) ?\n",
       "        Promise.resolve(paths[lib]) :\n",
       "        new Promise(function(resolve, reject) {\n",
       "          var s = document.createElement('script');\n",
       "          document.getElementsByTagName(\"head\")[0].appendChild(s);\n",
       "          s.async = true;\n",
       "          s.onload = () => {\n",
       "            VEGA_DEBUG[key] = version;\n",
       "            return resolve(paths[lib]);\n",
       "          };\n",
       "          s.onerror = () => reject(`Error loading script: ${paths[lib]}`);\n",
       "          s.src = paths[lib];\n",
       "        });\n",
       "    }\n",
       "\n",
       "    function showError(err) {\n",
       "      outputDiv.innerHTML = `<div class=\"error\" style=\"color:red;\">${err}</div>`;\n",
       "      throw err;\n",
       "    }\n",
       "\n",
       "    function displayChart(vegaEmbed) {\n",
       "      vegaEmbed(outputDiv, spec, embedOpt)\n",
       "        .catch(err => showError(`Javascript Error: ${err.message}<br>This usually means there's a typo in your chart specification. See the javascript console for the full traceback.`));\n",
       "    }\n",
       "\n",
       "    if(typeof define === \"function\" && define.amd) {\n",
       "      requirejs.config({paths});\n",
       "      require([\"vega-embed\"], displayChart, err => showError(`Error loading script: ${err.message}`));\n",
       "    } else {\n",
       "      maybeLoadScript(\"vega\", \"5\")\n",
       "        .then(() => maybeLoadScript(\"vega-lite\", \"5.17.0\"))\n",
       "        .then(() => maybeLoadScript(\"vega-embed\", \"6\"))\n",
       "        .catch(showError)\n",
       "        .then(() => displayChart(vegaEmbed));\n",
       "    }\n",
       "  })({\"config\": {\"view\": {\"continuousWidth\": 300, \"continuousHeight\": 300}}, \"data\": {\"url\": \"altair-data-ea47334c40241cba27619f5850546967.json\", \"format\": {\"type\": \"json\"}}, \"facet\": {\"field\": \"tower\", \"type\": \"nominal\"}, \"spec\": {\"layer\": [{\"mark\": {\"type\": \"rule\"}, \"encoding\": {\"y\": {\"field\": \"y\", \"type\": \"quantitative\"}}, \"transform\": [{\"calculate\": \"0\", \"as\": \"y\"}]}, {\"mark\": {\"type\": \"line\"}, \"encoding\": {\"color\": {\"field\": \"height\", \"scale\": {\"scheme\": \"turbo\"}, \"type\": \"ordinal\"}, \"x\": {\"field\": \"time\", \"timeUnit\": \"hoursminutes\", \"type\": \"temporal\"}, \"y\": {\"field\": \"value\", \"type\": \"quantitative\"}}}], \"height\": 150, \"width\": 150}, \"title\": \"Seemingly local earth coordinates\", \"$schema\": \"https://vega.github.io/schema/vega-lite/v5.17.0.json\"}, {\"renderer\": \"svg\", \"mode\": \"vega-lite\"});\n",
       "</script>"
      ],
      "text/plain": [
       "alt.FacetChart(...)"
      ]
     },
     "metadata": {},
     "output_type": "display_data"
    }
   ],
   "source": [
    "alt.layer(\n",
    "    line, plot, data = src_pfmp\n",
    ").properties(width = 150, height = 150).facet('tower:N', title='Seemingly local earth coordinates').display(renderer='svg')\n"
   ]
  },
  {
   "cell_type": "code",
   "execution_count": 66,
   "metadata": {},
   "outputs": [
    {
     "data": {
      "text/html": [
       "\n",
       "<style>\n",
       "  #altair-viz-cb936c8d152c455c9f2455b90a3efd4a.vega-embed {\n",
       "    width: 100%;\n",
       "    display: flex;\n",
       "  }\n",
       "\n",
       "  #altair-viz-cb936c8d152c455c9f2455b90a3efd4a.vega-embed details,\n",
       "  #altair-viz-cb936c8d152c455c9f2455b90a3efd4a.vega-embed details summary {\n",
       "    position: relative;\n",
       "  }\n",
       "</style>\n",
       "<div id=\"altair-viz-cb936c8d152c455c9f2455b90a3efd4a\"></div>\n",
       "<script type=\"text/javascript\">\n",
       "  var VEGA_DEBUG = (typeof VEGA_DEBUG == \"undefined\") ? {} : VEGA_DEBUG;\n",
       "  (function(spec, embedOpt){\n",
       "    let outputDiv = document.currentScript.previousElementSibling;\n",
       "    if (outputDiv.id !== \"altair-viz-cb936c8d152c455c9f2455b90a3efd4a\") {\n",
       "      outputDiv = document.getElementById(\"altair-viz-cb936c8d152c455c9f2455b90a3efd4a\");\n",
       "    }\n",
       "    const paths = {\n",
       "      \"vega\": \"https://cdn.jsdelivr.net/npm/vega@5?noext\",\n",
       "      \"vega-lib\": \"https://cdn.jsdelivr.net/npm/vega-lib?noext\",\n",
       "      \"vega-lite\": \"https://cdn.jsdelivr.net/npm/vega-lite@5.17.0?noext\",\n",
       "      \"vega-embed\": \"https://cdn.jsdelivr.net/npm/vega-embed@6?noext\",\n",
       "    };\n",
       "\n",
       "    function maybeLoadScript(lib, version) {\n",
       "      var key = `${lib.replace(\"-\", \"\")}_version`;\n",
       "      return (VEGA_DEBUG[key] == version) ?\n",
       "        Promise.resolve(paths[lib]) :\n",
       "        new Promise(function(resolve, reject) {\n",
       "          var s = document.createElement('script');\n",
       "          document.getElementsByTagName(\"head\")[0].appendChild(s);\n",
       "          s.async = true;\n",
       "          s.onload = () => {\n",
       "            VEGA_DEBUG[key] = version;\n",
       "            return resolve(paths[lib]);\n",
       "          };\n",
       "          s.onerror = () => reject(`Error loading script: ${paths[lib]}`);\n",
       "          s.src = paths[lib];\n",
       "        });\n",
       "    }\n",
       "\n",
       "    function showError(err) {\n",
       "      outputDiv.innerHTML = `<div class=\"error\" style=\"color:red;\">${err}</div>`;\n",
       "      throw err;\n",
       "    }\n",
       "\n",
       "    function displayChart(vegaEmbed) {\n",
       "      vegaEmbed(outputDiv, spec, embedOpt)\n",
       "        .catch(err => showError(`Javascript Error: ${err.message}<br>This usually means there's a typo in your chart specification. See the javascript console for the full traceback.`));\n",
       "    }\n",
       "\n",
       "    if(typeof define === \"function\" && define.amd) {\n",
       "      requirejs.config({paths});\n",
       "      require([\"vega-embed\"], displayChart, err => showError(`Error loading script: ${err.message}`));\n",
       "    } else {\n",
       "      maybeLoadScript(\"vega\", \"5\")\n",
       "        .then(() => maybeLoadScript(\"vega-lite\", \"5.17.0\"))\n",
       "        .then(() => maybeLoadScript(\"vega-embed\", \"6\"))\n",
       "        .catch(showError)\n",
       "        .then(() => displayChart(vegaEmbed));\n",
       "    }\n",
       "  })({\"config\": {\"view\": {\"continuousWidth\": 300, \"continuousHeight\": 300}}, \"vconcat\": [{\"data\": {\"url\": \"altair-data-ea47334c40241cba27619f5850546967.json\", \"format\": {\"type\": \"json\"}}, \"facet\": {\"field\": \"tower\", \"type\": \"nominal\"}, \"spec\": {\"layer\": [{\"mark\": {\"type\": \"rule\"}, \"encoding\": {\"y\": {\"field\": \"y\", \"type\": \"quantitative\"}}, \"transform\": [{\"calculate\": \"0\", \"as\": \"y\"}]}, {\"mark\": {\"type\": \"line\"}, \"encoding\": {\"color\": {\"field\": \"height\", \"scale\": {\"scheme\": \"turbo\"}, \"type\": \"ordinal\"}, \"x\": {\"field\": \"time\", \"timeUnit\": \"hoursminutes\", \"type\": \"temporal\"}, \"y\": {\"field\": \"value\", \"type\": \"quantitative\"}}}], \"height\": 150, \"width\": 150}, \"title\": \"Streamwise coordinates\"}, {\"data\": {\"url\": \"altair-data-cfeb0eaf636c37dcb09c11dd12d6cd50.json\", \"format\": {\"type\": \"json\"}}, \"facet\": {\"field\": \"tower\", \"type\": \"nominal\"}, \"spec\": {\"layer\": [{\"mark\": {\"type\": \"rule\"}, \"encoding\": {\"y\": {\"field\": \"y\", \"type\": \"quantitative\"}}, \"transform\": [{\"calculate\": \"0\", \"as\": \"y\"}]}, {\"mark\": {\"type\": \"line\"}, \"encoding\": {\"color\": {\"field\": \"height\", \"scale\": {\"scheme\": \"turbo\"}, \"type\": \"ordinal\"}, \"x\": {\"field\": \"time\", \"timeUnit\": \"hoursminutes\", \"type\": \"temporal\"}, \"y\": {\"field\": \"value\", \"type\": \"quantitative\"}}}], \"height\": 150, \"width\": 150}, \"title\": \"Seemingly local earth coordinates\"}, {\"data\": {\"url\": \"altair-data-aebdf4edafdb6128a7fee7571c391523.json\", \"format\": {\"type\": \"json\"}}, \"facet\": {\"field\": \"tower\", \"type\": \"nominal\"}, \"spec\": {\"layer\": [{\"mark\": {\"type\": \"rule\"}, \"encoding\": {\"y\": {\"field\": \"y\", \"type\": \"quantitative\"}}, \"transform\": [{\"calculate\": \"0\", \"as\": \"y\"}]}, {\"mark\": {\"type\": \"line\"}, \"encoding\": {\"color\": {\"field\": \"height\", \"scale\": {\"scheme\": \"turbo\"}, \"type\": \"ordinal\"}, \"x\": {\"field\": \"time\", \"timeUnit\": \"hoursminutes\", \"type\": \"temporal\"}, \"y\": {\"field\": \"value\", \"type\": \"quantitative\"}}}], \"height\": 150, \"width\": 150}, \"title\": \"Geographic coordinates\"}], \"$schema\": \"https://vega.github.io/schema/vega-lite/v5.17.0.json\"}, {\"renderer\": \"svg\", \"mode\": \"vega-lite\"});\n",
       "</script>"
      ],
      "text/plain": [
       "alt.VConcatChart(...)"
      ]
     },
     "metadata": {},
     "output_type": "display_data"
    }
   ],
   "source": [
    "(\n",
    "    alt.layer(\n",
    "        line, plot, data = src_pfmp\n",
    "    ).properties(width = 150, height = 150).facet('tower:N', title='Streamwise coordinates')\n",
    "    &\n",
    "    alt.layer(\n",
    "        line, plot, data = src_pf\n",
    "    ).properties(width = 150, height = 150).facet('tower:N', title='Seemingly local earth coordinates')\n",
    "\n",
    "    &\n",
    "    alt.layer(\n",
    "        line, plot, data = src_nopf\n",
    "    ).properties(width = 150, height = 150).facet('tower:N', title='Geographic coordinates')\n",
    "\n",
    ").display(renderer='svg')"
   ]
  },
  {
   "cell_type": "code",
   "execution_count": 74,
   "metadata": {},
   "outputs": [],
   "source": [
    "\n",
    "# Identify lists of timestamps for different categories\n",
    "bs_times = set(\n",
    "    df_pf.query(\"variable == 'SF_avg_1m_ue'\").query(\"value > 0\").time\n",
    ").union(\n",
    "    set(df_pf.query(\"variable == 'SF_avg_2m_ue'\").query(\"value > 0\").time)\n",
    ")\n",
    "nobs_times = set(df_pf.time).difference(bs_times)\n",
    "\n",
    "ri_stable_times = df_pf.query(\"variable == 'Ri_3m_c'\").query(\"value > 0.25\").time\n",
    "ri_unstable_times = df_pf.query(\"variable == 'Ri_3m_c'\").query(\"value < -0.01\").time\n",
    "ri_neutral_times = df_pf.query(\"variable == 'Ri_3m_c'\").query(\"value >= -0.01\").query(\"value <= 0.25\").time\n",
    "\n",
    "tgrad_stable_times = df_pf.query(\"variable == 'temp_gradient_3m_c'\").query(\"value > 0.01\").time\n",
    "tgrad_unstable_times = df_pf.query(\"variable == 'temp_gradient_3m_c'\").query(\"value < -0.01\").time\n",
    "tgrad_neutral_times = df_pf.query(\"variable == 'temp_gradient_3m_c'\").query(\"value >= -0.01\").query(\"value <= 0.01\").time"
   ]
  },
  {
   "cell_type": "code",
   "execution_count": 98,
   "metadata": {},
   "outputs": [
    {
     "name": "stderr",
     "output_type": "stream",
     "text": [
      "/var/folders/x_/2h52bcjx2px15bhmdpdd748h0000gn/T/ipykernel_47932/991269909.py:9: FutureWarning: 'T' is deprecated and will be removed in a future version, please use 'min' instead.\n",
      "  src_pfmp = src_pfmp.groupby([src_pfmp.index.floor('30T').time, 'height', 'tower', 'type'])[['value']].median()\n",
      "/var/folders/x_/2h52bcjx2px15bhmdpdd748h0000gn/T/ipykernel_47932/991269909.py:9: FutureWarning: 'T' is deprecated and will be removed in a future version, please use 'min' instead.\n",
      "  src_pfmp = src_pfmp.groupby([src_pfmp.index.floor('30T').time, 'height', 'tower', 'type'])[['value']].median()\n",
      "/var/folders/x_/2h52bcjx2px15bhmdpdd748h0000gn/T/ipykernel_47932/991269909.py:9: FutureWarning: 'T' is deprecated and will be removed in a future version, please use 'min' instead.\n",
      "  src_pfmp = src_pfmp.groupby([src_pfmp.index.floor('30T').time, 'height', 'tower', 'type'])[['value']].median()\n",
      "/var/folders/x_/2h52bcjx2px15bhmdpdd748h0000gn/T/ipykernel_47932/991269909.py:9: FutureWarning: 'T' is deprecated and will be removed in a future version, please use 'min' instead.\n",
      "  src_pfmp = src_pfmp.groupby([src_pfmp.index.floor('30T').time, 'height', 'tower', 'type'])[['value']].median()\n"
     ]
    },
    {
     "data": {
      "text/html": [
       "\n",
       "<style>\n",
       "  #altair-viz-abef50bafb06483daa7ab130be93a0b0.vega-embed {\n",
       "    width: 100%;\n",
       "    display: flex;\n",
       "  }\n",
       "\n",
       "  #altair-viz-abef50bafb06483daa7ab130be93a0b0.vega-embed details,\n",
       "  #altair-viz-abef50bafb06483daa7ab130be93a0b0.vega-embed details summary {\n",
       "    position: relative;\n",
       "  }\n",
       "</style>\n",
       "<div id=\"altair-viz-abef50bafb06483daa7ab130be93a0b0\"></div>\n",
       "<script type=\"text/javascript\">\n",
       "  var VEGA_DEBUG = (typeof VEGA_DEBUG == \"undefined\") ? {} : VEGA_DEBUG;\n",
       "  (function(spec, embedOpt){\n",
       "    let outputDiv = document.currentScript.previousElementSibling;\n",
       "    if (outputDiv.id !== \"altair-viz-abef50bafb06483daa7ab130be93a0b0\") {\n",
       "      outputDiv = document.getElementById(\"altair-viz-abef50bafb06483daa7ab130be93a0b0\");\n",
       "    }\n",
       "    const paths = {\n",
       "      \"vega\": \"https://cdn.jsdelivr.net/npm/vega@5?noext\",\n",
       "      \"vega-lib\": \"https://cdn.jsdelivr.net/npm/vega-lib?noext\",\n",
       "      \"vega-lite\": \"https://cdn.jsdelivr.net/npm/vega-lite@5.17.0?noext\",\n",
       "      \"vega-embed\": \"https://cdn.jsdelivr.net/npm/vega-embed@6?noext\",\n",
       "    };\n",
       "\n",
       "    function maybeLoadScript(lib, version) {\n",
       "      var key = `${lib.replace(\"-\", \"\")}_version`;\n",
       "      return (VEGA_DEBUG[key] == version) ?\n",
       "        Promise.resolve(paths[lib]) :\n",
       "        new Promise(function(resolve, reject) {\n",
       "          var s = document.createElement('script');\n",
       "          document.getElementsByTagName(\"head\")[0].appendChild(s);\n",
       "          s.async = true;\n",
       "          s.onload = () => {\n",
       "            VEGA_DEBUG[key] = version;\n",
       "            return resolve(paths[lib]);\n",
       "          };\n",
       "          s.onerror = () => reject(`Error loading script: ${paths[lib]}`);\n",
       "          s.src = paths[lib];\n",
       "        });\n",
       "    }\n",
       "\n",
       "    function showError(err) {\n",
       "      outputDiv.innerHTML = `<div class=\"error\" style=\"color:red;\">${err}</div>`;\n",
       "      throw err;\n",
       "    }\n",
       "\n",
       "    function displayChart(vegaEmbed) {\n",
       "      vegaEmbed(outputDiv, spec, embedOpt)\n",
       "        .catch(err => showError(`Javascript Error: ${err.message}<br>This usually means there's a typo in your chart specification. See the javascript console for the full traceback.`));\n",
       "    }\n",
       "\n",
       "    if(typeof define === \"function\" && define.amd) {\n",
       "      requirejs.config({paths});\n",
       "      require([\"vega-embed\"], displayChart, err => showError(`Error loading script: ${err.message}`));\n",
       "    } else {\n",
       "      maybeLoadScript(\"vega\", \"5\")\n",
       "        .then(() => maybeLoadScript(\"vega-lite\", \"5.17.0\"))\n",
       "        .then(() => maybeLoadScript(\"vega-embed\", \"6\"))\n",
       "        .catch(showError)\n",
       "        .then(() => displayChart(vegaEmbed));\n",
       "    }\n",
       "  })({\"config\": {\"view\": {\"continuousWidth\": 300, \"continuousHeight\": 300}, \"title\": {\"anchor\": \"middle\"}}, \"hconcat\": [{\"layer\": [{\"mark\": {\"type\": \"rule\"}, \"encoding\": {\"y\": {\"field\": \"y\", \"type\": \"quantitative\"}}, \"name\": \"view_49\", \"transform\": [{\"calculate\": \"0\", \"as\": \"y\"}]}, {\"mark\": {\"type\": \"line\"}, \"encoding\": {\"color\": {\"field\": \"height\", \"scale\": {\"scheme\": \"turbo\"}, \"type\": \"ordinal\"}, \"x\": {\"field\": \"time\", \"timeUnit\": \"hoursminutes\", \"type\": \"temporal\"}, \"y\": {\"field\": \"value\", \"scale\": {\"domain\": [-0.05, 0.05]}, \"type\": \"quantitative\"}}}], \"data\": {\"url\": \"altair-data-93f10cb2f4d9da4476261e3a4e38f8f1.json\", \"format\": {\"type\": \"json\"}}, \"height\": 150, \"title\": \"All times\", \"width\": 150}, {\"layer\": [{\"mark\": {\"type\": \"rule\"}, \"encoding\": {\"y\": {\"field\": \"y\", \"type\": \"quantitative\"}}, \"name\": \"view_50\", \"transform\": [{\"calculate\": \"0\", \"as\": \"y\"}]}, {\"mark\": {\"type\": \"line\"}, \"encoding\": {\"color\": {\"field\": \"height\", \"scale\": {\"scheme\": \"turbo\"}, \"type\": \"ordinal\"}, \"x\": {\"field\": \"time\", \"timeUnit\": \"hoursminutes\", \"type\": \"temporal\"}, \"y\": {\"field\": \"value\", \"scale\": {\"domain\": [-0.05, 0.05]}, \"type\": \"quantitative\"}}}], \"data\": {\"url\": \"altair-data-f851acfb0d9ef6a8f0325bdf545fee3a.json\", \"format\": {\"type\": \"json\"}}, \"height\": 150, \"title\": \"Stable times\", \"width\": 150}, {\"layer\": [{\"mark\": {\"type\": \"rule\"}, \"encoding\": {\"y\": {\"field\": \"y\", \"type\": \"quantitative\"}}, \"name\": \"view_51\", \"transform\": [{\"calculate\": \"0\", \"as\": \"y\"}]}, {\"mark\": {\"type\": \"line\"}, \"encoding\": {\"color\": {\"field\": \"height\", \"scale\": {\"scheme\": \"turbo\"}, \"type\": \"ordinal\"}, \"x\": {\"field\": \"time\", \"timeUnit\": \"hoursminutes\", \"type\": \"temporal\"}, \"y\": {\"field\": \"value\", \"scale\": {\"domain\": [-0.05, 0.05]}, \"type\": \"quantitative\"}}}], \"data\": {\"url\": \"altair-data-dda46166f94a756f9d9d89476447b805.json\", \"format\": {\"type\": \"json\"}}, \"height\": 150, \"title\": \"Unstable times\", \"width\": 150}, {\"layer\": [{\"mark\": {\"type\": \"rule\"}, \"encoding\": {\"y\": {\"field\": \"y\", \"type\": \"quantitative\"}}, \"name\": \"view_52\", \"transform\": [{\"calculate\": \"0\", \"as\": \"y\"}]}, {\"mark\": {\"type\": \"line\"}, \"encoding\": {\"color\": {\"field\": \"height\", \"scale\": {\"scheme\": \"turbo\"}, \"type\": \"ordinal\"}, \"x\": {\"field\": \"time\", \"timeUnit\": \"hoursminutes\", \"type\": \"temporal\"}, \"y\": {\"field\": \"value\", \"scale\": {\"domain\": [-0.05, 0.05]}, \"type\": \"quantitative\"}}}], \"data\": {\"url\": \"altair-data-3176e7c8ce936e4bdc81dd79d9da7642.json\", \"format\": {\"type\": \"json\"}}, \"height\": 150, \"title\": \"Neutral times\", \"width\": 150}], \"params\": [{\"name\": \"param_13\", \"select\": {\"type\": \"interval\", \"encodings\": [\"x\", \"y\"]}, \"bind\": \"scales\", \"views\": [\"view_49\", \"view_50\", \"view_51\", \"view_52\"]}], \"resolve\": {\"scale\": {\"x\": \"shared\", \"y\": \"shared\"}}, \"$schema\": \"https://vega.github.io/schema/vega-lite/v5.17.0.json\"}, {\"renderer\": \"svg\", \"mode\": \"vega-lite\"});\n",
       "</script>"
      ],
      "text/plain": [
       "alt.HConcatChart(...)"
      ]
     },
     "metadata": {},
     "output_type": "display_data"
    }
   ],
   "source": [
    "def w_diurnal_chart(src, title):\n",
    "    return alt.layer(\n",
    "        line, plot.encode(alt.Y('value:Q').scale(domain=[-0.05,0.05])), data = src\n",
    "    ).properties(width = 150, height = 150).properties(title=title)\n",
    "\n",
    "def w_diurnal_df(filter_times):\n",
    "    src_pfmp = df.query(\"type == 'pfmp'\").set_index('time').query(\"tower == 'c'\")\n",
    "    src_pfmp = src_pfmp[src_pfmp.index.isin(filter_times)]\n",
    "    src_pfmp = src_pfmp.groupby([src_pfmp.index.floor('30T').time, 'height', 'tower', 'type'])[['value']].median()\n",
    "    src_pfmp.index = src_pfmp.index.set_names(['time','height','tower', 'type'])\n",
    "    src_pfmp = src_pfmp.reset_index()\n",
    "    src_pfmp['time'] = src_pfmp['time'].apply(lambda t: dt.datetime.combine(dt.date(2023,1,1),t))\n",
    "    return src_pfmp\n",
    "\n",
    "(\n",
    "w_diurnal_chart(w_diurnal_df(df_pf.time), 'All times') |\\\n",
    "w_diurnal_chart(w_diurnal_df(ri_stable_times), 'Stable times') |\\\n",
    "w_diurnal_chart(w_diurnal_df(ri_unstable_times), 'Unstable times') |\\\n",
    "w_diurnal_chart(w_diurnal_df(ri_neutral_times), 'Neutral times')\n",
    ").resolve_scale(y='shared', x='shared').configure_title(anchor='middle').interactive().display(renderer='svg')"
   ]
  },
  {
   "cell_type": "code",
   "execution_count": null,
   "metadata": {},
   "outputs": [],
   "source": [
    "start_date = '20221101'\n",
    "end_date = '20230619'\n",
    "\n",
    "def daily_w_cycle(src, title, ylim):\n",
    "    return alt.Chart(\n",
    "        src[src.variable.isin([\n",
    "            'w_2m_c', 'w_3m_c', 'w_5m_c', 'w_10m_c', 'w_15m_c', 'w_20m_c',\n",
    "            'w_3m_ue','w_10m_ue',\n",
    "            'w_3m_uw','w_10m_uw',\n",
    "            'w_3m_d','w_10m_d',\n",
    "        ])]\n",
    "    ).mark_line().encode(\n",
    "        alt.X('hoursminutes(time):T'),\n",
    "        alt.Y('median(value):Q').title('Wind speed (m/s)').scale(domain=ylim),\n",
    "        alt.Color('height:O').scale(scheme='sinebow'),\n",
    "        alt.StrokeDash('tower:N'),\n",
    "        tooltip='variable',\n",
    "    ).properties(width = 200, height = 200, title=title)\n",
    "\n",
    "(\n",
    "\n",
    "    daily_w_cycle(\n",
    "        pd.read_parquet(f\"tidy_df_{start_date}_{end_date}_planar_fit.parquet\"),\n",
    "        'SRLEC',\n",
    "        ylim=[-0.10, 0.05]\n",
    "    ) | daily_w_cycle(\n",
    "        pd.read_parquet(f\"tidy_df_{start_date}_{end_date}_noplanar_fit.parquet\"),\n",
    "        'Geographic',\n",
    "        ylim=[-0.10, 0.05]\n",
    "    ) | \n",
    "    daily_w_cycle(\n",
    "        pd.read_parquet(f\"tidy_df_{start_date}_{end_date}_planar_fit_multiplane.parquet\"),\n",
    "        'Streamwise',\n",
    "        ylim=[-0.10, 0.05]\n",
    "    )\n",
    ").properties(title='Vertical wind speed, different coordinate systems').display(renderer='svg')"
   ]
  },
  {
   "cell_type": "code",
   "execution_count": null,
   "metadata": {},
   "outputs": [],
   "source": []
  }
 ],
 "metadata": {
  "kernelspec": {
   "display_name": "sublimationofsnow",
   "language": "python",
   "name": "python3"
  },
  "language_info": {
   "codemirror_mode": {
    "name": "ipython",
    "version": 3
   },
   "file_extension": ".py",
   "mimetype": "text/x-python",
   "name": "python",
   "nbconvert_exporter": "python",
   "pygments_lexer": "ipython3",
   "version": "3.12.5"
  }
 },
 "nbformat": 4,
 "nbformat_minor": 2
}
