{
 "cells": [
  {
   "cell_type": "code",
   "execution_count": 229,
   "metadata": {},
   "outputs": [
    {
     "data": {
      "text/plain": [
       "RendererRegistry.enable('jupyterlab')"
      ]
     },
     "execution_count": 229,
     "metadata": {},
     "output_type": "execute_result"
    }
   ],
   "source": [
    "import numpy as np\n",
    "import pandas as pd\n",
    "\n",
    "import matplotlib.pyplot as plt\n",
    "import altair as alt\n",
    "alt.data_transformers.enable('json')\n",
    "alt.renderers.enable('jupyterlab')"
   ]
  },
  {
   "cell_type": "markdown",
   "metadata": {},
   "source": [
    "# User inputs"
   ]
  },
  {
   "cell_type": "code",
   "execution_count": 230,
   "metadata": {},
   "outputs": [],
   "source": [
    "start_date = '20221130'\n",
    "end_date = '20230509'\n",
    "\n",
    "tidy_dataset_fn = f\"tidy_df_{start_date}_{end_date}_noplanar_fit_clean.parquet\""
   ]
  },
  {
   "cell_type": "markdown",
   "metadata": {},
   "source": [
    "# Load data"
   ]
  },
  {
   "cell_type": "code",
   "execution_count": 231,
   "metadata": {},
   "outputs": [],
   "source": [
    "try:\n",
    "    tidy_df = pd.read_parquet(\n",
    "        tidy_dataset_fn\n",
    "    )\n",
    "except FileNotFoundError:\n",
    "    print(\"No file such file exists for these dates.\")\n",
    "tidy_df['time'] = pd.to_datetime(tidy_df['time'])"
   ]
  },
  {
   "cell_type": "code",
   "execution_count": 232,
   "metadata": {},
   "outputs": [],
   "source": [
    "# data = tidy_df.query(\"variable == 'T_3m_c'\").set_index('time')['value']\n",
    "# na_groups = data.notna().cumsum()[data.isna()]\n",
    "# t_lengths_consecutive_na = na_groups.groupby(na_groups).agg(len)\n",
    "\n",
    "# data = tidy_df.query(\"variable == 'RH_3m_c'\").set_index('time')['value']\n",
    "# na_groups = data.notna().cumsum()[data.isna()]\n",
    "# rh_lengths_consecutive_na = na_groups.groupby(na_groups).agg(len)"
   ]
  },
  {
   "cell_type": "markdown",
   "metadata": {},
   "source": [
    "# Examine pot. virtual temperature gradient"
   ]
  },
  {
   "cell_type": "code",
   "execution_count": 233,
   "metadata": {},
   "outputs": [
    {
     "data": {
      "text/plain": [
       "2.138056099376673e-06"
      ]
     },
     "execution_count": 233,
     "metadata": {},
     "output_type": "execute_result"
    }
   ],
   "source": [
    "np.abs(tidy_df[tidy_df.measurement == 'temperature gradient'].value).min()"
   ]
  },
  {
   "cell_type": "code",
   "execution_count": 234,
   "metadata": {},
   "outputs": [
    {
     "data": {
      "application/vnd.vegalite.v5+json": {
       "$schema": "https://vega.github.io/schema/vega-lite/v5.16.3.json",
       "config": {
        "view": {
         "continuousHeight": 300,
         "continuousWidth": 300
        }
       },
       "vconcat": [
        {
         "data": {
          "format": {
           "type": "json"
          },
          "url": "altair-data-571b8fbc76112898a89143aac471492c.json"
         },
         "encoding": {
          "column": {
           "field": "height",
           "type": "ordinal"
          },
          "x": {
           "field": "time",
           "type": "temporal"
          },
          "y": {
           "field": "value",
           "type": "quantitative"
          }
         },
         "height": 200,
         "mark": {
          "type": "line"
         },
         "width": 200
        },
        {
         "data": {
          "format": {
           "type": "json"
          },
          "url": "altair-data-571b8fbc76112898a89143aac471492c.json"
         },
         "encoding": {
          "column": {
           "field": "height",
           "type": "ordinal"
          },
          "x": {
           "bin": {
            "step": 0.1
           },
           "field": "value",
           "type": "quantitative"
          },
          "y": {
           "aggregate": "count",
           "type": "quantitative"
          }
         },
         "height": 200,
         "mark": {
          "type": "bar"
         },
         "width": 200
        }
       ]
      },
      "text/plain": [
       "<VegaLite 5 object>\n",
       "\n",
       "If you see this message, it means the renderer has not been properly enabled\n",
       "for the frontend that you are using. For more information, see\n",
       "https://altair-viz.github.io/user_guide/display_frontends.html#troubleshooting\n"
      ]
     },
     "execution_count": 234,
     "metadata": {},
     "output_type": "execute_result"
    }
   ],
   "source": [
    "alt.Chart(\n",
    "    tidy_df.query(\"measurement == 'temperature gradient'\").query(\"height < 5\")\n",
    ").mark_line().encode(\n",
    "    x = 'time:T',\n",
    "    y = 'value:Q',\n",
    "    column='height:O'\n",
    ").properties(width=200, height = 200) & alt.Chart(\n",
    "    tidy_df.query(\"measurement == 'temperature gradient'\").query(\"height < 5\")\n",
    ").mark_bar().encode(\n",
    "    alt.X('value:Q').bin(step=0.1),\n",
    "    alt.Y(\"count():Q\"),    \n",
    "    alt.Column('height:O')\n",
    ").properties(width=200, height = 200)"
   ]
  },
  {
   "cell_type": "code",
   "execution_count": 235,
   "metadata": {},
   "outputs": [],
   "source": [
    "src = tidy_df.query(\"variable == 'temp_gradient_3m_c'\")\n",
    "neutral_times = src[src['value'].abs() < 0.01].time"
   ]
  },
  {
   "cell_type": "code",
   "execution_count": 236,
   "metadata": {},
   "outputs": [
    {
     "data": {
      "application/vnd.vegalite.v5+json": {
       "$schema": "https://vega.github.io/schema/vega-lite/v5.16.3.json",
       "config": {
        "view": {
         "continuousHeight": 300,
         "continuousWidth": 300
        }
       },
       "data": {
        "format": {
         "type": "json"
        },
        "url": "altair-data-c625944be19d9a721221f17e5856d34e.json"
       },
       "encoding": {
        "facet": {
         "columns": 8,
         "field": "time",
         "type": "ordinal"
        },
        "x": {
         "field": "value",
         "sort": "-y",
         "title": "Wind speed (m/s)",
         "type": "quantitative"
        },
        "y": {
         "field": "height",
         "title": "Height (m)",
         "type": "quantitative"
        }
       },
       "height": 125,
       "mark": {
        "type": "line"
       },
       "width": 125
      },
      "text/plain": [
       "<VegaLite 5 object>\n",
       "\n",
       "If you see this message, it means the renderer has not been properly enabled\n",
       "for the frontend that you are using. For more information, see\n",
       "https://altair-viz.github.io/user_guide/display_frontends.html#troubleshooting\n"
      ]
     },
     "execution_count": 236,
     "metadata": {},
     "output_type": "execute_result"
    }
   ],
   "source": [
    "alt.Chart(\n",
    "    tidy_df[\n",
    "        tidy_df.time.isin(neutral_times.sample(16))\n",
    "    ].query(\"measurement == 'wind speed'\").query(\"tower == 'c'\")\n",
    ").mark_line().encode(\n",
    "    alt.X(\"value:Q\").title(\"Wind speed (m/s)\").sort('-y'),\n",
    "    alt.Y(\"height:Q\").title(\"Height (m)\"),\n",
    "    alt.Facet(\"time:O\", columns=8)\n",
    ").properties(width = 125, height = 125)"
   ]
  },
  {
   "cell_type": "code",
   "execution_count": 237,
   "metadata": {},
   "outputs": [
    {
     "data": {
      "text/html": [
       "<div>\n",
       "<style scoped>\n",
       "    .dataframe tbody tr th:only-of-type {\n",
       "        vertical-align: middle;\n",
       "    }\n",
       "\n",
       "    .dataframe tbody tr th {\n",
       "        vertical-align: top;\n",
       "    }\n",
       "\n",
       "    .dataframe thead th {\n",
       "        text-align: right;\n",
       "    }\n",
       "</style>\n",
       "<table border=\"1\" class=\"dataframe\">\n",
       "  <thead>\n",
       "    <tr style=\"text-align: right;\">\n",
       "      <th></th>\n",
       "      <th>spd_10m_c</th>\n",
       "      <th>spd_15m_c</th>\n",
       "      <th>spd_20m_c</th>\n",
       "      <th>spd_2m_c</th>\n",
       "      <th>spd_3m_c</th>\n",
       "      <th>spd_5m_c</th>\n",
       "      <th>u*_10m_c</th>\n",
       "      <th>u*_15m_c</th>\n",
       "      <th>u*_20m_c</th>\n",
       "      <th>u*_2m_c</th>\n",
       "      <th>u*_3m_c</th>\n",
       "      <th>u*_5m_c</th>\n",
       "      <th>snow_depth</th>\n",
       "    </tr>\n",
       "    <tr>\n",
       "      <th>time</th>\n",
       "      <th></th>\n",
       "      <th></th>\n",
       "      <th></th>\n",
       "      <th></th>\n",
       "      <th></th>\n",
       "      <th></th>\n",
       "      <th></th>\n",
       "      <th></th>\n",
       "      <th></th>\n",
       "      <th></th>\n",
       "      <th></th>\n",
       "      <th></th>\n",
       "      <th></th>\n",
       "    </tr>\n",
       "  </thead>\n",
       "  <tbody>\n",
       "    <tr>\n",
       "      <th>2022-11-30 17:30:00</th>\n",
       "      <td>0.563815</td>\n",
       "      <td>0.519016</td>\n",
       "      <td>0.440678</td>\n",
       "      <td>0.655301</td>\n",
       "      <td>0.636088</td>\n",
       "      <td>0.648741</td>\n",
       "      <td>0.127592</td>\n",
       "      <td>0.080788</td>\n",
       "      <td>0.088558</td>\n",
       "      <td>0.080677</td>\n",
       "      <td>0.088328</td>\n",
       "      <td>0.094388</td>\n",
       "      <td>0.261997</td>\n",
       "    </tr>\n",
       "    <tr>\n",
       "      <th>2022-12-01 18:00:00</th>\n",
       "      <td>1.339750</td>\n",
       "      <td>1.315193</td>\n",
       "      <td>1.315227</td>\n",
       "      <td>1.239395</td>\n",
       "      <td>1.291831</td>\n",
       "      <td>1.318185</td>\n",
       "      <td>0.210201</td>\n",
       "      <td>0.206864</td>\n",
       "      <td>0.159162</td>\n",
       "      <td>0.119090</td>\n",
       "      <td>0.086317</td>\n",
       "      <td>0.140710</td>\n",
       "      <td>0.236329</td>\n",
       "    </tr>\n",
       "    <tr>\n",
       "      <th>2022-12-02 15:00:00</th>\n",
       "      <td>5.218128</td>\n",
       "      <td>5.242333</td>\n",
       "      <td>5.196984</td>\n",
       "      <td>4.659812</td>\n",
       "      <td>4.825768</td>\n",
       "      <td>5.117994</td>\n",
       "      <td>0.338601</td>\n",
       "      <td>0.216612</td>\n",
       "      <td>0.404506</td>\n",
       "      <td>0.292957</td>\n",
       "      <td>0.277848</td>\n",
       "      <td>0.317659</td>\n",
       "      <td>0.346144</td>\n",
       "    </tr>\n",
       "    <tr>\n",
       "      <th>2022-12-02 15:30:00</th>\n",
       "      <td>3.474541</td>\n",
       "      <td>3.531824</td>\n",
       "      <td>3.481877</td>\n",
       "      <td>3.278661</td>\n",
       "      <td>3.368644</td>\n",
       "      <td>3.461675</td>\n",
       "      <td>0.412802</td>\n",
       "      <td>0.376375</td>\n",
       "      <td>0.360358</td>\n",
       "      <td>0.305569</td>\n",
       "      <td>0.113200</td>\n",
       "      <td>0.216040</td>\n",
       "      <td>0.346144</td>\n",
       "    </tr>\n",
       "    <tr>\n",
       "      <th>2022-12-02 17:30:00</th>\n",
       "      <td>5.878656</td>\n",
       "      <td>6.004000</td>\n",
       "      <td>6.186003</td>\n",
       "      <td>5.181984</td>\n",
       "      <td>5.513559</td>\n",
       "      <td>5.807573</td>\n",
       "      <td>0.636175</td>\n",
       "      <td>0.660143</td>\n",
       "      <td>0.721380</td>\n",
       "      <td>0.147376</td>\n",
       "      <td>0.235242</td>\n",
       "      <td>0.432853</td>\n",
       "      <td>0.346144</td>\n",
       "    </tr>\n",
       "  </tbody>\n",
       "</table>\n",
       "</div>"
      ],
      "text/plain": [
       "                     spd_10m_c  spd_15m_c  spd_20m_c  spd_2m_c  spd_3m_c  \\\n",
       "time                                                                       \n",
       "2022-11-30 17:30:00   0.563815   0.519016   0.440678  0.655301  0.636088   \n",
       "2022-12-01 18:00:00   1.339750   1.315193   1.315227  1.239395  1.291831   \n",
       "2022-12-02 15:00:00   5.218128   5.242333   5.196984  4.659812  4.825768   \n",
       "2022-12-02 15:30:00   3.474541   3.531824   3.481877  3.278661  3.368644   \n",
       "2022-12-02 17:30:00   5.878656   6.004000   6.186003  5.181984  5.513559   \n",
       "\n",
       "                     spd_5m_c  u*_10m_c  u*_15m_c  u*_20m_c   u*_2m_c  \\\n",
       "time                                                                    \n",
       "2022-11-30 17:30:00  0.648741  0.127592  0.080788  0.088558  0.080677   \n",
       "2022-12-01 18:00:00  1.318185  0.210201  0.206864  0.159162  0.119090   \n",
       "2022-12-02 15:00:00  5.117994  0.338601  0.216612  0.404506  0.292957   \n",
       "2022-12-02 15:30:00  3.461675  0.412802  0.376375  0.360358  0.305569   \n",
       "2022-12-02 17:30:00  5.807573  0.636175  0.660143  0.721380  0.147376   \n",
       "\n",
       "                      u*_3m_c   u*_5m_c  snow_depth  \n",
       "time                                                 \n",
       "2022-11-30 17:30:00  0.088328  0.094388    0.261997  \n",
       "2022-12-01 18:00:00  0.086317  0.140710    0.236329  \n",
       "2022-12-02 15:00:00  0.277848  0.317659    0.346144  \n",
       "2022-12-02 15:30:00  0.113200  0.216040    0.346144  \n",
       "2022-12-02 17:30:00  0.235242  0.432853    0.346144  "
      ]
     },
     "execution_count": 237,
     "metadata": {},
     "output_type": "execute_result"
    }
   ],
   "source": [
    "z0_df = tidy_df[\n",
    "    tidy_df.time.isin(neutral_times)\n",
    "].query(\"tower == 'c'\")\n",
    "src_snowdepth = tidy_df[\n",
    "    tidy_df.measurement == 'snow depth'\n",
    "]\n",
    "src_snowdepth = src_snowdepth[['time', 'value']].set_index('time').rename(columns={'value': 'snow_depth'})\n",
    "z0_df = z0_df[z0_df.measurement.isin([\n",
    "    'wind speed',\n",
    "    'shear velocity',\n",
    "    'snow depth'\n",
    "])]\n",
    "z0_df = z0_df[~z0_df.variable.str.contains(\"predicted\")]\n",
    "z0_df = z0_df.pivot_table(index=['time'], values='value', columns='variable')\n",
    "z0_df = z0_df.join(src_snowdepth)\n",
    "z0_df.head()"
   ]
  },
  {
   "cell_type": "markdown",
   "metadata": {},
   "source": [
    "# Filter out data without monotonically increasing wind speeds "
   ]
  },
  {
   "cell_type": "code",
   "execution_count": 238,
   "metadata": {},
   "outputs": [
    {
     "data": {
      "text/plain": [
       "664"
      ]
     },
     "execution_count": 238,
     "metadata": {},
     "output_type": "execute_result"
    }
   ],
   "source": [
    "len(z0_df)"
   ]
  },
  {
   "cell_type": "code",
   "execution_count": 239,
   "metadata": {},
   "outputs": [],
   "source": [
    "def monotonically_increasing(l):\n",
    "    return all(x < y for x, y in zip(l, l[1:]))\n",
    "\n",
    "z0_df['is_monotonic_increasing'] = z0_df.apply(\n",
    "    lambda row: monotonically_increasing([\n",
    "            row['spd_2m_c'], \n",
    "            row['spd_3m_c'], \n",
    "            row['spd_5m_c'], \n",
    "            row['spd_10m_c'], \n",
    "            row['spd_15m_c'], \n",
    "            row['spd_20m_c']\n",
    "    ]),\n",
    "    axis = 1\n",
    ")"
   ]
  },
  {
   "cell_type": "code",
   "execution_count": 240,
   "metadata": {},
   "outputs": [],
   "source": [
    "z0_df = z0_df[z0_df.is_monotonic_increasing]"
   ]
  },
  {
   "cell_type": "code",
   "execution_count": 241,
   "metadata": {},
   "outputs": [
    {
     "data": {
      "text/plain": [
       "328"
      ]
     },
     "execution_count": 241,
     "metadata": {},
     "output_type": "execute_result"
    }
   ],
   "source": [
    "len(z0_df)"
   ]
  },
  {
   "cell_type": "markdown",
   "metadata": {},
   "source": [
    "# Solve for $z_0$ assuming $d = 0$\n",
    "\n",
    "https://www.eol.ucar.edu/content/calculation-roughness-length-and-displacement-height"
   ]
  },
  {
   "cell_type": "code",
   "execution_count": 242,
   "metadata": {},
   "outputs": [],
   "source": [
    "von_karman = 0.4"
   ]
  },
  {
   "cell_type": "code",
   "execution_count": 243,
   "metadata": {},
   "outputs": [],
   "source": [
    "d = 0.0\n",
    "z0_df['z0_2m_c'] = (2 - d - z0_df['snow_depth'])/np.exp(z0_df['spd_2m_c']*von_karman/z0_df['u*_2m_c'])\n",
    "z0_df['z0_3m_c'] = (3 - d - z0_df['snow_depth'])/np.exp(z0_df['spd_3m_c']*von_karman/z0_df['u*_3m_c'])\n",
    "z0_df['z0_5m_c'] = (5 - d - z0_df['snow_depth'])/np.exp(z0_df['spd_5m_c']*von_karman/z0_df['u*_5m_c'])\n",
    "z0_df['z0_10m_c'] = (10 - d - z0_df['snow_depth'])/np.exp(z0_df['spd_10m_c']*von_karman/z0_df['u*_10m_c'])\n",
    "z0_df['z0_15m_c'] = (15 - d - z0_df['snow_depth'])/np.exp(z0_df['spd_15m_c']*von_karman/z0_df['u*_15m_c'])\n",
    "z0_df['z0_20m_c'] = (20 - d - z0_df['snow_depth'])/np.exp(z0_df['spd_20m_c']*von_karman/z0_df['u*_20m_c'])"
   ]
  },
  {
   "cell_type": "code",
   "execution_count": 244,
   "metadata": {},
   "outputs": [
    {
     "data": {
      "application/vnd.vegalite.v5+json": {
       "$schema": "https://vega.github.io/schema/vega-lite/v5.16.3.json",
       "config": {
        "view": {
         "continuousHeight": 300,
         "continuousWidth": 300
        }
       },
       "data": {
        "format": {
         "type": "json"
        },
        "url": "altair-data-195b3511073221f522a21ba2bd3a366f.json"
       },
       "encoding": {
        "row": {
         "field": "key",
         "sort": [
          "z0_2m_c",
          "z0_3m_c",
          "z0_5m_c",
          "z0_10m_c",
          "z0_15m_c",
          "z0_20m_c"
         ],
         "type": "nominal"
        },
        "x": {
         "field": "time",
         "type": "temporal"
        },
        "y": {
         "field": "value",
         "scale": {
          "type": "log"
         },
         "type": "quantitative"
        }
       },
       "height": 100,
       "mark": {
        "type": "circle"
       },
       "transform": [
        {
         "fold": [
          "z0_2m_c",
          "z0_3m_c",
          "z0_5m_c",
          "z0_10m_c",
          "z0_15m_c",
          "z0_20m_c"
         ]
        },
        {
         "filter": {
          "field": "key",
          "oneOf": [
           "z0_2m_c",
           "z0_3m_c"
          ]
         }
        }
       ],
       "width": 400
      },
      "text/plain": [
       "<VegaLite 5 object>\n",
       "\n",
       "If you see this message, it means the renderer has not been properly enabled\n",
       "for the frontend that you are using. For more information, see\n",
       "https://altair-viz.github.io/user_guide/display_frontends.html#troubleshooting\n"
      ]
     },
     "execution_count": 244,
     "metadata": {},
     "output_type": "execute_result"
    }
   ],
   "source": [
    "variables = [\n",
    "        'z0_2m_c', \n",
    "        'z0_3m_c', \n",
    "        'z0_5m_c', \n",
    "        'z0_10m_c', \n",
    "        'z0_15m_c', \n",
    "        'z0_20m_c', \n",
    "    ]\n",
    "alt.Chart(\n",
    "    z0_df[variables].reset_index()\n",
    ").transform_fold(\n",
    "    variables\n",
    ").transform_filter(\n",
    "    alt.FieldOneOfPredicate('key', ['z0_2m_c', 'z0_3m_c'])\n",
    ").mark_circle().encode(\n",
    "    alt.X('time:T'),\n",
    "    alt.Y(\"value:Q\").scale(type='log'),\n",
    "    alt.Row(\"key:N\", sort=variables)\n",
    ").properties(height = 100, width = 400)"
   ]
  },
  {
   "cell_type": "code",
   "execution_count": 245,
   "metadata": {},
   "outputs": [],
   "source": [
    "from sklearn.metrics import r2_score"
   ]
  },
  {
   "cell_type": "code",
   "execution_count": 246,
   "metadata": {},
   "outputs": [
    {
     "data": {
      "application/vnd.vegalite.v5+json": {
       "$schema": "https://vega.github.io/schema/vega-lite/v5.16.3.json",
       "config": {
        "view": {
         "continuousHeight": 300,
         "continuousWidth": 300
        }
       },
       "data": {
        "format": {
         "type": "json"
        },
        "url": "altair-data-4bee8afb00cfdf63b4d3ab0783c6f9bc.json"
       },
       "hconcat": [
        {
         "encoding": {
          "x": {
           "field": "z0_3m_c",
           "scale": {
            "domain": [
             1e-9,
             10
            ],
            "type": "log"
           },
           "type": "quantitative"
          },
          "y": {
           "field": "z0_2m_c",
           "scale": {
            "domain": [
             1e-9,
             10
            ],
            "type": "log"
           },
           "type": "quantitative"
          }
         },
         "height": 150,
         "mark": {
          "type": "circle"
         },
         "title": "-0.072",
         "width": 150
        },
        {
         "encoding": {
          "x": {
           "field": "z0_3m_c",
           "scale": {
            "domain": [
             1e-9,
             10
            ],
            "type": "log"
           },
           "type": "quantitative"
          },
          "y": {
           "field": "z0_5m_c",
           "scale": {
            "domain": [
             1e-9,
             10
            ],
            "type": "log"
           },
           "type": "quantitative"
          }
         },
         "height": 150,
         "mark": {
          "type": "circle"
         },
         "title": "-11.547",
         "width": 150
        },
        {
         "encoding": {
          "x": {
           "field": "z0_3m_c",
           "scale": {
            "domain": [
             1e-9,
             10
            ],
            "type": "log"
           },
           "type": "quantitative"
          },
          "y": {
           "field": "z0_10m_c",
           "scale": {
            "domain": [
             1e-9,
             10
            ],
            "type": "log"
           },
           "type": "quantitative"
          }
         },
         "height": 150,
         "mark": {
          "type": "circle"
         },
         "title": "-676.108",
         "width": 150
        },
        {
         "encoding": {
          "x": {
           "field": "z0_3m_c",
           "scale": {
            "domain": [
             1e-9,
             10
            ],
            "type": "log"
           },
           "type": "quantitative"
          },
          "y": {
           "field": "z0_15m_c",
           "scale": {
            "domain": [
             1e-9,
             10
            ],
            "type": "log"
           },
           "type": "quantitative"
          }
         },
         "height": 150,
         "mark": {
          "type": "circle"
         },
         "title": "-1820.834",
         "width": 150
        },
        {
         "encoding": {
          "x": {
           "field": "z0_3m_c",
           "scale": {
            "domain": [
             1e-9,
             10
            ],
            "type": "log"
           },
           "type": "quantitative"
          },
          "y": {
           "field": "z0_20m_c",
           "scale": {
            "domain": [
             1e-9,
             10
            ],
            "type": "log"
           },
           "type": "quantitative"
          }
         },
         "height": 150,
         "mark": {
          "type": "circle"
         },
         "title": "-7474.259",
         "width": 150
        }
       ]
      },
      "text/plain": [
       "<VegaLite 5 object>\n",
       "\n",
       "If you see this message, it means the renderer has not been properly enabled\n",
       "for the frontend that you are using. For more information, see\n",
       "https://altair-viz.github.io/user_guide/display_frontends.html#troubleshooting\n"
      ]
     },
     "execution_count": 246,
     "metadata": {},
     "output_type": "execute_result"
    }
   ],
   "source": [
    "alt.Chart(z0_df).mark_circle().encode(\n",
    "    alt.X(\"z0_3m_c\").scale(domain=[0.000000001, 10], type='log'),\n",
    "    alt.Y(\"z0_2m_c\").scale(domain=[0.000000001, 10], type='log')\n",
    ").properties(width = 150, height = 150, title = str(round(r2_score(\n",
    "        z0_df[\"z0_3m_c\"],\n",
    "        z0_df[\"z0_2m_c\"]\n",
    "    ), 3))\n",
    ") | alt.Chart(z0_df).mark_circle().encode(\n",
    "    alt.X(\"z0_3m_c\").scale(domain=[0.000000001, 10], type='log'),\n",
    "    alt.Y(\"z0_5m_c\").scale(domain=[0.000000001, 10], type='log')\n",
    ").properties(width = 150, height = 150, title = str(round(r2_score(\n",
    "        z0_df[\"z0_3m_c\"],\n",
    "        z0_df[\"z0_5m_c\"]\n",
    "    ), 3))\n",
    ") | alt.Chart(z0_df).mark_circle().encode(\n",
    "    alt.X(\"z0_3m_c\").scale(domain=[0.000000001, 10], type='log'),\n",
    "    alt.Y(\"z0_10m_c\").scale(domain=[0.000000001, 10], type='log')\n",
    ").properties(width = 150, height = 150, title = str(round(r2_score(\n",
    "        z0_df[\"z0_3m_c\"],\n",
    "        z0_df[\"z0_10m_c\"]\n",
    "    ), 3))\n",
    ") | alt.Chart(z0_df).mark_circle().encode(\n",
    "    alt.X(\"z0_3m_c\").scale(domain=[0.000000001, 10], type='log'),\n",
    "    alt.Y(\"z0_15m_c\").scale(domain=[0.000000001, 10], type='log')\n",
    ").properties(width = 150, height = 150, title = str(round(r2_score(\n",
    "        z0_df[\"z0_3m_c\"],\n",
    "        z0_df[\"z0_15m_c\"]\n",
    "    ), 3))\n",
    ") | alt.Chart(z0_df).mark_circle().encode(\n",
    "    alt.X(\"z0_3m_c\").scale(domain=[0.000000001, 10], type='log'),\n",
    "    alt.Y(\"z0_20m_c\").scale(domain=[0.000000001, 10], type='log')\n",
    ").properties(width = 150, height = 150, title = str(round(r2_score(\n",
    "        z0_df[\"z0_3m_c\"],\n",
    "        z0_df[\"z0_20m_c\"]\n",
    "    ), 3))\n",
    ")"
   ]
  },
  {
   "cell_type": "code",
   "execution_count": 247,
   "metadata": {},
   "outputs": [
    {
     "data": {
      "application/vnd.vegalite.v5+json": {
       "$schema": "https://vega.github.io/schema/vega-lite/v5.16.3.json",
       "config": {
        "view": {
         "continuousHeight": 300,
         "continuousWidth": 300
        }
       },
       "height": 100,
       "layer": [
        {
         "data": {
          "format": {
           "type": "json"
          },
          "url": "altair-data-cc8edae5100d9584e4b4bf8bfdd94905.json"
         },
         "encoding": {
          "x": {
           "field": "time",
           "type": "temporal"
          },
          "y": {
           "field": "z0_3m_c",
           "scale": {
            "type": "log"
           },
           "type": "quantitative"
          }
         },
         "mark": {
          "size": 50,
          "type": "circle"
         }
        },
        {
         "data": {
          "format": {
           "type": "json"
          },
          "url": "altair-data-cc8edae5100d9584e4b4bf8bfdd94905.json"
         },
         "encoding": {
          "x": {
           "field": "time",
           "type": "temporal"
          },
          "y": {
           "field": "z0_3m_c",
           "scale": {
            "type": "log"
           },
           "type": "quantitative"
          }
         },
         "mark": {
          "type": "bar",
          "width": 1
         }
        }
       ]
      },
      "text/plain": [
       "<VegaLite 5 object>\n",
       "\n",
       "If you see this message, it means the renderer has not been properly enabled\n",
       "for the frontend that you are using. For more information, see\n",
       "https://altair-viz.github.io/user_guide/display_frontends.html#troubleshooting\n"
      ]
     },
     "execution_count": 247,
     "metadata": {},
     "output_type": "execute_result"
    }
   ],
   "source": [
    "alt.Chart(\n",
    "    z0_df[['z0_3m_c']].resample(\"1D\").median().reset_index()\n",
    ").mark_circle(size=50).encode(\n",
    "    alt.X(\"time:T\"),\n",
    "    alt.Y(\"z0_3m_c\").scale(type='log')\n",
    ") + alt.Chart(\n",
    "    z0_df[['z0_3m_c']].resample(\"1D\").median().reset_index()\n",
    ").mark_bar(width=1).encode(\n",
    "    alt.X(\"time:T\"),\n",
    "    alt.Y(\"z0_3m_c\").scale(type='log')\n",
    ").properties(height = 100)"
   ]
  },
  {
   "cell_type": "code",
   "execution_count": 248,
   "metadata": {},
   "outputs": [],
   "source": [
    "z0_df_weekly = z0_df[['z0_3m_c']].resample(\"W-MON\").median().reset_index()"
   ]
  },
  {
   "cell_type": "code",
   "execution_count": 249,
   "metadata": {},
   "outputs": [
    {
     "data": {
      "text/plain": [
       "z0_3m_c    0.000544\n",
       "dtype: float64"
      ]
     },
     "execution_count": 249,
     "metadata": {},
     "output_type": "execute_result"
    }
   ],
   "source": [
    "z0_df[['z0_3m_c']].median()"
   ]
  },
  {
   "cell_type": "code",
   "execution_count": 250,
   "metadata": {},
   "outputs": [
    {
     "data": {
      "application/vnd.vegalite.v5+json": {
       "$schema": "https://vega.github.io/schema/vega-lite/v5.16.3.json",
       "config": {
        "view": {
         "continuousHeight": 300,
         "continuousWidth": 300
        }
       },
       "data": {
        "format": {
         "type": "json"
        },
        "url": "altair-data-0cc74cf5ced4141dabf8f3268b9a7465.json"
       },
       "height": 100,
       "layer": [
        {
         "encoding": {
          "x": {
           "field": "time",
           "type": "temporal"
          },
          "y": {
           "field": "z0_3m_c",
           "scale": {
            "type": "log"
           },
           "type": "quantitative"
          }
         },
         "mark": {
          "size": 100,
          "type": "circle"
         }
        },
        {
         "encoding": {
          "x": {
           "field": "time",
           "type": "temporal"
          },
          "y": {
           "field": "z0_3m_c",
           "scale": {
            "type": "log"
           },
           "type": "quantitative"
          }
         },
         "mark": {
          "type": "bar",
          "width": 1
         }
        }
       ]
      },
      "text/plain": [
       "<VegaLite 5 object>\n",
       "\n",
       "If you see this message, it means the renderer has not been properly enabled\n",
       "for the frontend that you are using. For more information, see\n",
       "https://altair-viz.github.io/user_guide/display_frontends.html#troubleshooting\n"
      ]
     },
     "execution_count": 250,
     "metadata": {},
     "output_type": "execute_result"
    }
   ],
   "source": [
    "basic_z0_values_chart = alt.Chart(\n",
    "    z0_df_weekly\n",
    ").mark_circle(size=100).encode(\n",
    "    alt.X(\"time:T\"),\n",
    "    alt.Y(\"z0_3m_c\").scale(type='log')\n",
    ") + alt.Chart(\n",
    "    z0_df_weekly\n",
    ").mark_bar(width=1).encode(\n",
    "    alt.X(\"time:T\"),\n",
    "    alt.Y(\"z0_3m_c\").scale(type='log')\n",
    ").properties(height = 100)\n",
    "basic_z0_values_chart"
   ]
  },
  {
   "cell_type": "markdown",
   "metadata": {},
   "source": [
    "# Use Andreas et al. 2010 Method, NOAA/SPLASH (Chris Cox) solution"
   ]
  },
  {
   "cell_type": "code",
   "execution_count": 251,
   "metadata": {},
   "outputs": [
    {
     "name": "stderr",
     "output_type": "stream",
     "text": [
      "/var/folders/x_/2h52bcjx2px15bhmdpdd748h0000gn/T/ipykernel_57672/3760607361.py:44: RuntimeWarning: invalid value encountered in divide\n",
      "  ustar**3 / wT_csp\n"
     ]
    }
   ],
   "source": [
    "tdk = 273.15 \n",
    "# surface temp mean\n",
    "Tsm = tidy_df.query(\"variable == 'Tsurf_c'\")['value'].values \n",
    "# air temp mean\n",
    "Tam = tidy_df.query(\"variable == 'T_3m_c'\")['value'].values \n",
    "# height of sonic\n",
    "z_level_n = 3 - tidy_df.query(\"variable == 'SnowDepth_c'\")['value'].values \n",
    "# wt-covariance, vertical flux of the sonic temperature  [deg m/s]\n",
    "wT_csp = tidy_df.query(\"variable == 'w_tc__3m_c'\")['value'].values   \n",
    "wq_csp = tidy_df.query(\"variable == 'w_h2o__3m_c'\")['value'].values   \n",
    "wsp = tidy_df.query(\"variable == 'spd_3m_c'\")['value'].values \n",
    "ustar = tidy_df.query(\"variable == 'u*_3m_c'\")['value'].values \n",
    "\n",
    "surface_pot_temp = tidy_df.query(\"variable == 'Tsurfpot_c'\")['value'].values\n",
    "air_pot_temp  = tidy_df.query(\"variable == 'Tpot_3m_c'\")['value'].values\n",
    "surface_mixing_ratio = tidy_df.query(\"variable == 'Tsurfmixingratio_c'\")['value'].values\n",
    "air_mixing_ratio = tidy_df.query(\"variable == 'mixingratio_3m_c'\")['value'].values\n",
    "surface_specifichumidity = surface_mixing_ratio / (1 + surface_mixing_ratio)\n",
    "air_specifichumidity  = air_mixing_ratio / (1 + air_mixing_ratio)\n",
    "\n",
    "# Obukhov length\n",
    "surflayr_avg_airtemp = 0.5*(Tsm + Tam)\n",
    "surflayr_avg_specifichumidity = 0.5*(surface_specifichumidity + air_specifichumidity)\n",
    "surflayr_avg_virtualtemp = 0.5*(\n",
    "    tidy_df.query(\"variable == 'Tvirtual_3m_c'\")['value'].values + \n",
    "    tidy_df.query(\"variable == 'Tsurfvirtual_c'\")['value'].values\n",
    ")\n",
    "# right version of equation 2.3 in Andreas 2010\n",
    "# L = - (\n",
    "#     surflayr_avg_airtemp/( 0.4*9.81 )\n",
    "# ) * (\n",
    "#     ustar**3 / (\n",
    "#         wT_csp + wq_csp* (0.61*surflayr_avg_airtemp)/(\n",
    "#             1 + 0.61*surflayr_avg_specifichumidity\n",
    "#           )\n",
    "#     )\n",
    "# )\n",
    "# left version of equation 2.3 in Andreas 2010\n",
    "L = - (\n",
    "    (\n",
    "        tidy_df.query(\"variable == 'Tvirtual_3m_c'\")['value'].values\n",
    "    )/( 0.4*9.81 )\n",
    ") * (\n",
    "    ustar**3 / wT_csp\n",
    ")\n",
    "\n",
    "# Monin-Obukhov stability parameter, z/L:\n",
    "zeta_level_n = z_level_n/L\n",
    "\n",
    "# Drag coefficient, Cd:\n",
    "Cd = ustar**2/wsp**2 #- wu_csp/(wsp**2)\n",
    "\n",
    "Ch = wT_csp / (wsp * (surface_pot_temp - air_pot_temp))\n",
    "\n",
    "Ce = wq_csp / (wsp * (surface_specifichumidity - air_specifichumidity))"
   ]
  },
  {
   "cell_type": "code",
   "execution_count": 252,
   "metadata": {},
   "outputs": [
    {
     "name": "stderr",
     "output_type": "stream",
     "text": [
      "/Users/elischwat/Development/sublimationofsnow/analysis/paper1/../splash/calc_z0.py:16: RuntimeWarning: invalid value encountered in power\n",
      "  sma = 1 + (6.5 * zL * (1+zL)**(1/3)) / (1.3 + zL); # Psi\n",
      "/Users/elischwat/Development/sublimationofsnow/analysis/paper1/../splash/calc_z0.py:20: RuntimeWarning: invalid value encountered in power\n",
      "  x = np.real((1 - 16*zL)**(0.25)) # assumes gamma = 16\n",
      "/Users/elischwat/Development/sublimationofsnow/analysis/paper1/../splash/calc_z0.py:36: RuntimeWarning: invalid value encountered in power\n",
      "  sma = 1 + (6.5 * zL * (1+zL)**(1/3)) / (1.3 + zL); # Psi\n",
      "/Users/elischwat/Development/sublimationofsnow/analysis/paper1/../splash/calc_z0.py:37: RuntimeWarning: invalid value encountered in power\n",
      "  x = np.real((1 - 16*zL)**(0.25)) # assumes gamma = 16\n",
      "/Users/elischwat/Development/sublimationofsnow/analysis/paper1/../splash/calc_z0.py:44: RuntimeWarning: overflow encountered in exp\n",
      "  z0 = z * np.exp(-(k*(Cd**0.5)*(Ch**-1) + sm))\n",
      "/Users/elischwat/Development/sublimationofsnow/analysis/paper1/../splash/calc_z0.py:51: RuntimeWarning: invalid value encountered in power\n",
      "  sma = 1 + (6.5 * zL * (1+zL)**(1/3)) / (1.3 + zL); # Psi\n",
      "/Users/elischwat/Development/sublimationofsnow/analysis/paper1/../splash/calc_z0.py:52: RuntimeWarning: invalid value encountered in power\n",
      "  x = np.real((1 - 16*zL)**(0.25)) # assumes gamma = 16\n"
     ]
    }
   ],
   "source": [
    "import sys\n",
    "sys.path.append(\"../splash/\")\n",
    "import calc_z0\n",
    "z0_values = calc_z0.calc_z0(z_level_n, Cd, zeta_level_n)\n",
    "z0T_values = calc_z0.calc_z0T(z_level_n, Cd, Ch, zeta_level_n)\n",
    "z0q_values = calc_z0.calc_z0Q(z_level_n, Cd, Ce, zeta_level_n)\n",
    "\n",
    "time_values = tidy_df.time.unique()\n",
    "\n",
    "z0_andreas_df = pd.DataFrame({\n",
    "    \"time\": time_values, \n",
    "    \"z0\":   z0_values,\n",
    "    \"z0T\": z0T_values,\n",
    "    \"z0q\": z0q_values,\n",
    "})"
   ]
  },
  {
   "cell_type": "markdown",
   "metadata": {},
   "source": [
    "## Remove values >= 0.1, <= 7e-8 (Andreas et al., 2010)"
   ]
  },
  {
   "cell_type": "code",
   "execution_count": 253,
   "metadata": {},
   "outputs": [
    {
     "name": "stdout",
     "output_type": "stream",
     "text": [
      "7048\n"
     ]
    }
   ],
   "source": [
    "print(len(z0_andreas_df.dropna()))"
   ]
  },
  {
   "cell_type": "code",
   "execution_count": 254,
   "metadata": {},
   "outputs": [],
   "source": [
    "z0_andreas_df['z0'] = z0_andreas_df['z0'].where(\n",
    "    (z0_andreas_df['z0'] > 7e-8)\n",
    "    &\n",
    "    (z0_andreas_df['z0'] < 0.1)\n",
    ")\n"
   ]
  },
  {
   "cell_type": "code",
   "execution_count": 255,
   "metadata": {},
   "outputs": [
    {
     "name": "stdout",
     "output_type": "stream",
     "text": [
      "5298\n"
     ]
    }
   ],
   "source": [
    "print(len(z0_andreas_df.dropna()))"
   ]
  },
  {
   "cell_type": "markdown",
   "metadata": {},
   "source": [
    "## Apply the strict filtering criteria of Andreas et al. (2010)"
   ]
  },
  {
   "cell_type": "code",
   "execution_count": 256,
   "metadata": {},
   "outputs": [],
   "source": [
    "time_values = tidy_df.query(\"variable == 'Tsurf_c'\").set_index('time').sort_index().index.values\n",
    "stress = tidy_df.query(\"variable == 'u*_3m_c'\").assign(\n",
    "    value = np.sqrt(tidy_df.query(\"variable == 'u*_3m_c'\").value)\n",
    ")\n",
    "stress_good_times = stress[stress.value > 0].time\n",
    "\n",
    "shflux = tidy_df.query(\"variable == 'w_tc__3m_c'\")\n",
    "shflux_good_times = shflux[np.abs(shflux.value) > 0.005].time\n",
    "\n",
    "lhflux = tidy_df.query(\"variable == 'w_h2o__3m_c'\")\n",
    "lhflux_good_times = lhflux[np.abs(lhflux.value)/1000 > 2.5e-7].time\n",
    "\n",
    "tdiff = (\n",
    "    tidy_df[tidy_df.variable == 'Tsurfpot_c'].set_index('time')[['value']] - \n",
    "    tidy_df[tidy_df.variable == 'Tpot_3m_c'].set_index('time')[['value']]\n",
    ")\n",
    "tdiff_good_times = tdiff[np.abs(tdiff.value > 0.5)].index\n",
    "\n",
    "Qdiff = (\n",
    "    tidy_df[tidy_df.variable == 'Tsurfspecifichumidity_c'].set_index('time')[['value']] - \n",
    "    tidy_df[tidy_df.variable == 'specifichumidity_3m_c'].set_index('time')[['value']]\n",
    ")\n",
    "Qdiff_good_times = Qdiff[np.abs(Qdiff.value > 1e-5)].index\n",
    "\n",
    "all_good_times = set(stress_good_times).intersection(\n",
    "    set(shflux_good_times)\n",
    ").intersection(\n",
    "    set(lhflux_good_times)\n",
    ").intersection(\n",
    "    set(tdiff_good_times)\n",
    ").intersection(\n",
    "    set(Qdiff_good_times)\n",
    ")"
   ]
  },
  {
   "cell_type": "code",
   "execution_count": 257,
   "metadata": {},
   "outputs": [
    {
     "name": "stdout",
     "output_type": "stream",
     "text": [
      "7728\n",
      "7691\n",
      "4484\n",
      "5679\n",
      "1894\n",
      "5297\n",
      "677\n"
     ]
    }
   ],
   "source": [
    "print(len(tidy_df.time.unique()))\n",
    "print(len(stress_good_times))\n",
    "print(len(shflux_good_times))\n",
    "print(len(lhflux_good_times))\n",
    "print(len(tdiff_good_times))\n",
    "print(len(Qdiff_good_times))\n",
    "print(len(all_good_times))"
   ]
  },
  {
   "cell_type": "code",
   "execution_count": 258,
   "metadata": {},
   "outputs": [],
   "source": [
    "z0_andreas_df_strict = z0_andreas_df[z0_andreas_df.time.isin(all_good_times)]"
   ]
  },
  {
   "cell_type": "code",
   "execution_count": 259,
   "metadata": {},
   "outputs": [
    {
     "name": "stdout",
     "output_type": "stream",
     "text": [
      "5298 520\n"
     ]
    }
   ],
   "source": [
    "print(len(z0_andreas_df.dropna()), len(z0_andreas_df_strict.dropna()))"
   ]
  },
  {
   "cell_type": "code",
   "execution_count": 260,
   "metadata": {},
   "outputs": [
    {
     "name": "stderr",
     "output_type": "stream",
     "text": [
      "/Users/elischwat/miniforge3/envs/sublimationofsnow/lib/python3.12/site-packages/pandas/core/internals/blocks.py:393: RuntimeWarning: divide by zero encountered in log10\n",
      "  result = func(self.values, **kwargs)\n",
      "/Users/elischwat/miniforge3/envs/sublimationofsnow/lib/python3.12/site-packages/pandas/core/internals/blocks.py:393: RuntimeWarning: divide by zero encountered in log10\n",
      "  result = func(self.values, **kwargs)\n"
     ]
    },
    {
     "data": {
      "application/vnd.vegalite.v5+json": {
       "$schema": "https://vega.github.io/schema/vega-lite/v5.16.3.json",
       "config": {
        "view": {
         "continuousHeight": 300,
         "continuousWidth": 300
        }
       },
       "hconcat": [
        {
         "layer": [
          {
           "data": {
            "format": {
             "type": "json"
            },
            "url": "altair-data-1652080cc3dcb1fa1de4ed57f873539e.json"
           },
           "encoding": {
            "x": {
             "bin": {
              "maxbins": 30
             },
             "field": "z0",
             "type": "quantitative"
            },
            "y": {
             "aggregate": "count",
             "type": "quantitative"
            }
           },
           "mark": {
            "type": "bar"
           }
          },
          {
           "data": {
            "format": {
             "type": "json"
            },
            "url": "altair-data-1652080cc3dcb1fa1de4ed57f873539e.json"
           },
           "encoding": {
            "x": {
             "aggregate": "median",
             "field": "z0",
             "type": "quantitative"
            }
           },
           "mark": {
            "color": "red",
            "strokeDash": [
             8,
             4
            ],
            "strokeWidth": 3,
            "type": "rule"
           }
          }
         ]
        },
        {
         "layer": [
          {
           "data": {
            "format": {
             "type": "json"
            },
            "url": "altair-data-e1850b59e8515dbdb6e3b40b292b6bb6.json"
           },
           "encoding": {
            "x": {
             "bin": {
              "maxbins": 30
             },
             "field": "z0",
             "type": "quantitative"
            },
            "y": {
             "aggregate": "count",
             "type": "quantitative"
            }
           },
           "mark": {
            "type": "bar"
           }
          },
          {
           "data": {
            "format": {
             "type": "json"
            },
            "url": "altair-data-e1850b59e8515dbdb6e3b40b292b6bb6.json"
           },
           "encoding": {
            "x": {
             "aggregate": "median",
             "field": "z0",
             "type": "quantitative"
            }
           },
           "mark": {
            "color": "red",
            "strokeDash": [
             8,
             4
            ],
            "strokeWidth": 3,
            "type": "rule"
           }
          }
         ]
        }
       ],
       "resolve": {
        "scale": {
         "x": "shared"
        }
       }
      },
      "text/plain": [
       "<VegaLite 5 object>\n",
       "\n",
       "If you see this message, it means the renderer has not been properly enabled\n",
       "for the frontend that you are using. For more information, see\n",
       "https://altair-viz.github.io/user_guide/display_frontends.html#troubleshooting\n"
      ]
     },
     "execution_count": 260,
     "metadata": {},
     "output_type": "execute_result"
    }
   ],
   "source": [
    "(\n",
    "    (\n",
    "        alt.Chart(\n",
    "            np.log10(z0_andreas_df.set_index('time')).reset_index()\n",
    "        ).mark_bar().encode(\n",
    "            alt.X(\"z0:Q\").bin(maxbins=30),\n",
    "            alt.Y(\"count():Q\")\n",
    "        ) +\n",
    "        alt.Chart(\n",
    "            np.log10(z0_andreas_df.set_index('time')).reset_index()\n",
    "        ).mark_rule(strokeWidth=3, strokeDash=[8,4], color='red').encode(\n",
    "            alt.X(\"median(z0):Q\")\n",
    "        )\n",
    "    )  \n",
    "|\n",
    "    (\n",
    "        alt.Chart(\n",
    "            np.log10(z0_andreas_df_strict.set_index('time')).reset_index()\n",
    "        ).mark_bar().encode(\n",
    "            alt.X(\"z0:Q\").bin(maxbins=30),\n",
    "            alt.Y(\"count():Q\")\n",
    "        ) +\n",
    "        alt.Chart(\n",
    "            np.log10(z0_andreas_df_strict.set_index('time')).reset_index()\n",
    "        ).mark_rule(strokeWidth=3, strokeDash=[8,4], color='red').encode(\n",
    "            alt.X(\"median(z0):Q\")\n",
    "        )\n",
    "    )  \n",
    ").resolve_scale(x='shared')"
   ]
  },
  {
   "cell_type": "markdown",
   "metadata": {},
   "source": [
    "## Calculate weekly medians"
   ]
  },
  {
   "cell_type": "code",
   "execution_count": 261,
   "metadata": {},
   "outputs": [],
   "source": [
    "z0_andreas_df_weekly = z0_andreas_df.set_index('time').resample('W-MON').median().reset_index()\n",
    "z0_andreas_df_strict_weekly = z0_andreas_df_strict.set_index('time').resample('W-MON').median().reset_index()\n",
    "\n",
    "z0_andreas_df_weekly_counts = z0_andreas_df.set_index('time').resample('W-MON').count().reset_index()\n",
    "z0_andreas_df_strict_weekly_counts = z0_andreas_df_strict.set_index('time').resample('W-MON').count().reset_index()"
   ]
  },
  {
   "cell_type": "code",
   "execution_count": 262,
   "metadata": {},
   "outputs": [
    {
     "data": {
      "text/html": [
       "<div>\n",
       "<style scoped>\n",
       "    .dataframe tbody tr th:only-of-type {\n",
       "        vertical-align: middle;\n",
       "    }\n",
       "\n",
       "    .dataframe tbody tr th {\n",
       "        vertical-align: top;\n",
       "    }\n",
       "\n",
       "    .dataframe thead th {\n",
       "        text-align: right;\n",
       "    }\n",
       "</style>\n",
       "<table border=\"1\" class=\"dataframe\">\n",
       "  <thead>\n",
       "    <tr style=\"text-align: right;\">\n",
       "      <th></th>\n",
       "      <th>time</th>\n",
       "      <th>all data</th>\n",
       "      <th>filtered</th>\n",
       "      <th>all data counts</th>\n",
       "      <th>filtered counts</th>\n",
       "      <th>relative</th>\n",
       "    </tr>\n",
       "  </thead>\n",
       "  <tbody>\n",
       "    <tr>\n",
       "      <th>0</th>\n",
       "      <td>2022-12-05</td>\n",
       "      <td>0.000323</td>\n",
       "      <td>0.000506</td>\n",
       "      <td>229</td>\n",
       "      <td>12.0</td>\n",
       "      <td>1.567173</td>\n",
       "    </tr>\n",
       "    <tr>\n",
       "      <th>1</th>\n",
       "      <td>2022-12-12</td>\n",
       "      <td>0.000140</td>\n",
       "      <td>0.000410</td>\n",
       "      <td>278</td>\n",
       "      <td>3.0</td>\n",
       "      <td>2.926994</td>\n",
       "    </tr>\n",
       "    <tr>\n",
       "      <th>2</th>\n",
       "      <td>2022-12-19</td>\n",
       "      <td>0.000271</td>\n",
       "      <td>0.000181</td>\n",
       "      <td>305</td>\n",
       "      <td>22.0</td>\n",
       "      <td>0.667242</td>\n",
       "    </tr>\n",
       "    <tr>\n",
       "      <th>3</th>\n",
       "      <td>2022-12-26</td>\n",
       "      <td>0.000198</td>\n",
       "      <td>0.000727</td>\n",
       "      <td>292</td>\n",
       "      <td>29.0</td>\n",
       "      <td>3.669903</td>\n",
       "    </tr>\n",
       "    <tr>\n",
       "      <th>4</th>\n",
       "      <td>2023-01-02</td>\n",
       "      <td>0.000041</td>\n",
       "      <td>0.000002</td>\n",
       "      <td>272</td>\n",
       "      <td>6.0</td>\n",
       "      <td>0.053655</td>\n",
       "    </tr>\n",
       "    <tr>\n",
       "      <th>5</th>\n",
       "      <td>2023-01-09</td>\n",
       "      <td>0.000157</td>\n",
       "      <td>0.000161</td>\n",
       "      <td>284</td>\n",
       "      <td>56.0</td>\n",
       "      <td>1.026756</td>\n",
       "    </tr>\n",
       "    <tr>\n",
       "      <th>6</th>\n",
       "      <td>2023-01-16</td>\n",
       "      <td>0.000065</td>\n",
       "      <td>0.000072</td>\n",
       "      <td>257</td>\n",
       "      <td>28.0</td>\n",
       "      <td>1.110088</td>\n",
       "    </tr>\n",
       "    <tr>\n",
       "      <th>7</th>\n",
       "      <td>2023-01-23</td>\n",
       "      <td>0.000108</td>\n",
       "      <td>0.000140</td>\n",
       "      <td>282</td>\n",
       "      <td>18.0</td>\n",
       "      <td>1.293302</td>\n",
       "    </tr>\n",
       "    <tr>\n",
       "      <th>8</th>\n",
       "      <td>2023-01-30</td>\n",
       "      <td>0.000077</td>\n",
       "      <td>0.000002</td>\n",
       "      <td>299</td>\n",
       "      <td>20.0</td>\n",
       "      <td>0.029958</td>\n",
       "    </tr>\n",
       "    <tr>\n",
       "      <th>9</th>\n",
       "      <td>2023-02-06</td>\n",
       "      <td>0.000045</td>\n",
       "      <td>0.000027</td>\n",
       "      <td>257</td>\n",
       "      <td>35.0</td>\n",
       "      <td>0.591568</td>\n",
       "    </tr>\n",
       "    <tr>\n",
       "      <th>10</th>\n",
       "      <td>2023-02-13</td>\n",
       "      <td>0.000077</td>\n",
       "      <td>0.000096</td>\n",
       "      <td>263</td>\n",
       "      <td>11.0</td>\n",
       "      <td>1.252454</td>\n",
       "    </tr>\n",
       "    <tr>\n",
       "      <th>11</th>\n",
       "      <td>2023-02-20</td>\n",
       "      <td>0.000188</td>\n",
       "      <td>0.000147</td>\n",
       "      <td>292</td>\n",
       "      <td>20.0</td>\n",
       "      <td>0.779829</td>\n",
       "    </tr>\n",
       "    <tr>\n",
       "      <th>12</th>\n",
       "      <td>2023-02-27</td>\n",
       "      <td>0.000079</td>\n",
       "      <td>0.000270</td>\n",
       "      <td>282</td>\n",
       "      <td>70.0</td>\n",
       "      <td>3.401410</td>\n",
       "    </tr>\n",
       "    <tr>\n",
       "      <th>13</th>\n",
       "      <td>2023-03-06</td>\n",
       "      <td>0.000103</td>\n",
       "      <td>0.000382</td>\n",
       "      <td>279</td>\n",
       "      <td>26.0</td>\n",
       "      <td>3.690286</td>\n",
       "    </tr>\n",
       "    <tr>\n",
       "      <th>14</th>\n",
       "      <td>2023-03-13</td>\n",
       "      <td>0.000054</td>\n",
       "      <td>0.000580</td>\n",
       "      <td>199</td>\n",
       "      <td>4.0</td>\n",
       "      <td>10.719957</td>\n",
       "    </tr>\n",
       "    <tr>\n",
       "      <th>15</th>\n",
       "      <td>2023-03-20</td>\n",
       "      <td>0.000025</td>\n",
       "      <td>0.000017</td>\n",
       "      <td>240</td>\n",
       "      <td>11.0</td>\n",
       "      <td>0.694426</td>\n",
       "    </tr>\n",
       "    <tr>\n",
       "      <th>16</th>\n",
       "      <td>2023-03-27</td>\n",
       "      <td>0.000088</td>\n",
       "      <td>0.000369</td>\n",
       "      <td>286</td>\n",
       "      <td>51.0</td>\n",
       "      <td>4.213389</td>\n",
       "    </tr>\n",
       "    <tr>\n",
       "      <th>17</th>\n",
       "      <td>2023-04-03</td>\n",
       "      <td>0.000046</td>\n",
       "      <td>0.000428</td>\n",
       "      <td>224</td>\n",
       "      <td>35.0</td>\n",
       "      <td>9.284040</td>\n",
       "    </tr>\n",
       "    <tr>\n",
       "      <th>18</th>\n",
       "      <td>2023-04-10</td>\n",
       "      <td>0.000010</td>\n",
       "      <td>0.000016</td>\n",
       "      <td>213</td>\n",
       "      <td>11.0</td>\n",
       "      <td>1.545471</td>\n",
       "    </tr>\n",
       "    <tr>\n",
       "      <th>19</th>\n",
       "      <td>2023-04-17</td>\n",
       "      <td>0.000026</td>\n",
       "      <td>0.000098</td>\n",
       "      <td>188</td>\n",
       "      <td>26.0</td>\n",
       "      <td>3.809203</td>\n",
       "    </tr>\n",
       "    <tr>\n",
       "      <th>20</th>\n",
       "      <td>2023-04-24</td>\n",
       "      <td>0.000023</td>\n",
       "      <td>0.000023</td>\n",
       "      <td>224</td>\n",
       "      <td>23.0</td>\n",
       "      <td>0.975531</td>\n",
       "    </tr>\n",
       "    <tr>\n",
       "      <th>21</th>\n",
       "      <td>2023-05-01</td>\n",
       "      <td>0.000009</td>\n",
       "      <td>0.000403</td>\n",
       "      <td>169</td>\n",
       "      <td>3.0</td>\n",
       "      <td>43.721378</td>\n",
       "    </tr>\n",
       "    <tr>\n",
       "      <th>22</th>\n",
       "      <td>2023-05-08</td>\n",
       "      <td>0.000048</td>\n",
       "      <td>NaN</td>\n",
       "      <td>161</td>\n",
       "      <td>NaN</td>\n",
       "      <td>NaN</td>\n",
       "    </tr>\n",
       "    <tr>\n",
       "      <th>23</th>\n",
       "      <td>2023-05-15</td>\n",
       "      <td>0.000026</td>\n",
       "      <td>NaN</td>\n",
       "      <td>30</td>\n",
       "      <td>NaN</td>\n",
       "      <td>NaN</td>\n",
       "    </tr>\n",
       "  </tbody>\n",
       "</table>\n",
       "</div>"
      ],
      "text/plain": [
       "         time  all data  filtered  all data counts  filtered counts   relative\n",
       "0  2022-12-05  0.000323  0.000506              229             12.0   1.567173\n",
       "1  2022-12-12  0.000140  0.000410              278              3.0   2.926994\n",
       "2  2022-12-19  0.000271  0.000181              305             22.0   0.667242\n",
       "3  2022-12-26  0.000198  0.000727              292             29.0   3.669903\n",
       "4  2023-01-02  0.000041  0.000002              272              6.0   0.053655\n",
       "5  2023-01-09  0.000157  0.000161              284             56.0   1.026756\n",
       "6  2023-01-16  0.000065  0.000072              257             28.0   1.110088\n",
       "7  2023-01-23  0.000108  0.000140              282             18.0   1.293302\n",
       "8  2023-01-30  0.000077  0.000002              299             20.0   0.029958\n",
       "9  2023-02-06  0.000045  0.000027              257             35.0   0.591568\n",
       "10 2023-02-13  0.000077  0.000096              263             11.0   1.252454\n",
       "11 2023-02-20  0.000188  0.000147              292             20.0   0.779829\n",
       "12 2023-02-27  0.000079  0.000270              282             70.0   3.401410\n",
       "13 2023-03-06  0.000103  0.000382              279             26.0   3.690286\n",
       "14 2023-03-13  0.000054  0.000580              199              4.0  10.719957\n",
       "15 2023-03-20  0.000025  0.000017              240             11.0   0.694426\n",
       "16 2023-03-27  0.000088  0.000369              286             51.0   4.213389\n",
       "17 2023-04-03  0.000046  0.000428              224             35.0   9.284040\n",
       "18 2023-04-10  0.000010  0.000016              213             11.0   1.545471\n",
       "19 2023-04-17  0.000026  0.000098              188             26.0   3.809203\n",
       "20 2023-04-24  0.000023  0.000023              224             23.0   0.975531\n",
       "21 2023-05-01  0.000009  0.000403              169              3.0  43.721378\n",
       "22 2023-05-08  0.000048       NaN              161              NaN        NaN\n",
       "23 2023-05-15  0.000026       NaN               30              NaN        NaN"
      ]
     },
     "execution_count": 262,
     "metadata": {},
     "output_type": "execute_result"
    }
   ],
   "source": [
    "z0_andreas_df_weekly = pd.merge(\n",
    "    z0_andreas_df_weekly[['time', 'z0']].rename(columns={'z0': 'all data'}),\n",
    "    z0_andreas_df_strict_weekly[['time', 'z0']].rename(columns={'z0': 'filtered'}),\n",
    "    on='time',\n",
    "    how='outer'\n",
    ")\n",
    "\n",
    "z0_andreas_df_weekly_counts = pd.merge(\n",
    "    z0_andreas_df_weekly_counts[['time', 'z0']].rename(columns={'z0': 'all data'}),\n",
    "    z0_andreas_df_strict_weekly_counts[['time', 'z0']].rename(columns={'z0': 'filtered'}),\n",
    "    on='time',\n",
    "    how='outer'\n",
    ").rename(columns = {\n",
    "    'all data': 'all data counts',\n",
    "    'filtered': 'filtered counts'\n",
    "})\n",
    "\n",
    "z0_andreas_df_weekly = z0_andreas_df_weekly.merge(z0_andreas_df_weekly_counts, on='time')\n",
    "z0_andreas_df_weekly['relative'] = z0_andreas_df_weekly['filtered'] / z0_andreas_df_weekly['all data']\n",
    "z0_andreas_df_weekly"
   ]
  },
  {
   "cell_type": "code",
   "execution_count": 263,
   "metadata": {},
   "outputs": [
    {
     "name": "stdout",
     "output_type": "stream",
     "text": [
      "time    2023-02-18 11:45:00\n",
      "z0                 0.000074\n",
      "z0T                     0.0\n",
      "z0q                0.111271\n",
      "dtype: object\n",
      "\n",
      "time    2023-02-22 21:30:00\n",
      "z0                 0.000149\n",
      "z0T                30.50505\n",
      "z0q                 0.39713\n",
      "dtype: object\n"
     ]
    }
   ],
   "source": [
    "print(z0_andreas_df.median())\n",
    "print()\n",
    "print(z0_andreas_df_strict.median())"
   ]
  },
  {
   "cell_type": "code",
   "execution_count": 264,
   "metadata": {},
   "outputs": [
    {
     "data": {
      "application/vnd.vegalite.v5+json": {
       "$schema": "https://vega.github.io/schema/vega-lite/v5.16.3.json",
       "config": {
        "axis": {
         "grid": false
        },
        "view": {
         "continuousHeight": 300,
         "continuousWidth": 300
        }
       },
       "height": 100,
       "layer": [
        {
         "data": {
          "format": {
           "type": "json"
          },
          "url": "altair-data-e9fe4c1e46b35e13c543ffc7c2f9759f.json"
         },
         "encoding": {
          "y": {
           "field": "y",
           "type": "quantitative"
          }
         },
         "mark": {
          "color": "red",
          "size": 2,
          "type": "rule"
         }
        },
        {
         "data": {
          "format": {
           "type": "json"
          },
          "url": "altair-data-e349f5d10e57987ee11540d0bfc80642.json"
         },
         "encoding": {
          "y": {
           "field": "y",
           "type": "quantitative"
          }
         },
         "mark": {
          "color": "red",
          "size": 2,
          "strokeDash": [
           3,
           2
          ],
          "type": "rule"
         }
        },
        {
         "layer": [
          {
           "data": {
            "format": {
             "type": "json"
            },
            "url": "altair-data-28adda5af4682014e6c4fa093c34d747.json"
           },
           "encoding": {
            "x": {
             "field": "time",
             "type": "temporal"
            },
            "y": {
             "axis": {
              "format": "e"
             },
             "field": "z0",
             "scale": {
              "type": "log"
             },
             "type": "quantitative"
            }
           },
           "mark": {
            "opacity": 0.25,
            "size": 5,
            "type": "circle"
           }
          },
          {
           "data": {
            "format": {
             "type": "json"
            },
            "url": "altair-data-032dc5fa3b811f8b464149c779e28be0.json"
           },
           "encoding": {
            "shape": {
             "field": "key",
             "scale": {
              "range": [
               "circle",
               "triangle"
              ]
             },
             "title": [
              "Weekly",
              "average"
             ],
             "type": "nominal"
            },
            "x": {
             "field": "time",
             "type": "temporal"
            },
            "y": {
             "field": "value",
             "title": "z₀",
             "type": "quantitative"
            }
           },
           "mark": {
            "color": "black",
            "size": 40,
            "type": "point"
           },
           "transform": [
            {
             "fold": [
              "all data",
              "filtered"
             ]
            }
           ]
          }
         ]
        }
       ],
       "width": 250
      },
      "text/plain": [
       "<VegaLite 5 object>\n",
       "\n",
       "If you see this message, it means the renderer has not been properly enabled\n",
       "for the frontend that you are using. For more information, see\n",
       "https://altair-viz.github.io/user_guide/display_frontends.html#troubleshooting\n"
      ]
     },
     "metadata": {
      "application/vnd.vegalite.v5+json": {
       "embed_options": {
        "renderer": "svg"
       }
      }
     },
     "output_type": "display_data"
    }
   ],
   "source": [
    "all_z0 = alt.Chart(\n",
    "    z0_andreas_df\n",
    ").mark_circle(opacity=0.25, size=5).encode(\n",
    "    alt.X('time:T'),\n",
    "    alt.Y(\"z0:Q\").scale(type='log').axis(format=\"e\"),\n",
    ")\n",
    "weekly_median_z0 = alt.Chart(\n",
    "    z0_andreas_df_weekly.iloc[:-1]\n",
    ").transform_fold(\n",
    "    ['all data', 'filtered']\n",
    ").mark_point(size=40, color='black').encode(\n",
    "    alt.X('time:T'),\n",
    "    alt.Y(\"value:Q\").title(\"z₀\"),\n",
    "    alt.Shape(\"key:N\").scale(range=['circle', 'triangle']).title([\"Weekly\", \"average\"])\n",
    ")\n",
    "\n",
    "median_line = alt.Chart(\n",
    "    pd.DataFrame({'y':[z0_andreas_df.median().z0]})\n",
    ").mark_rule(color='red', size=2).encode(y='y')\n",
    "strict_median_line = alt.Chart(\n",
    "    pd.DataFrame({'y':[z0_andreas_df_strict.median().z0]})\n",
    ").mark_rule(color='red', size=2, strokeDash=[3,2]).encode(y='y')\n",
    "\n",
    "z0_calculations_chart = (all_z0 + weekly_median_z0).properties(width = 250, height = 100)\n",
    "z0_calculations_chart = (median_line + strict_median_line + z0_calculations_chart).configure_axis(grid=False)\n",
    "z0_calculations_chart.save(\"z0_calculations_chart.png\", ppi=400)\n",
    "z0_calculations_chart.display(renderer='svg')"
   ]
  },
  {
   "cell_type": "markdown",
   "metadata": {},
   "source": [
    "# Save roughness length values"
   ]
  },
  {
   "cell_type": "code",
   "execution_count": 38,
   "metadata": {},
   "outputs": [],
   "source": [
    "z0_andreas_df.to_parquet(\"z0estimates/z0_andreas_df.parquet\")\n",
    "z0_andreas_df_strict.to_parquet(\"z0estimates/z0_andreas_df_strict.parquet\")\n",
    "z0_andreas_df_weekly.to_parquet(\"z0estimates/z0_andreas_df_weekly.parquet\")"
   ]
  },
  {
   "cell_type": "code",
   "execution_count": 39,
   "metadata": {},
   "outputs": [
    {
     "name": "stdout",
     "output_type": "stream",
     "text": [
      "total 720\n",
      "drwxr-xr-x    5 elischwat  staff   160B Feb 13 21:12 \u001b[34m.\u001b[m\u001b[m/\n",
      "drwxr-xr-x  415 elischwat  staff    13K Feb 22 16:14 \u001b[34m..\u001b[m\u001b[m/\n",
      "-rw-r--r--    1 elischwat  staff   264K Feb 22 16:14 z0_andreas_df.parquet\n",
      "-rw-r--r--    1 elischwat  staff    31K Feb 22 16:14 z0_andreas_df_strict.parquet\n",
      "-rw-r--r--    1 elischwat  staff   3.5K Feb 22 16:14 z0_andreas_df_weekly.parquet\n"
     ]
    }
   ],
   "source": [
    "ls -lah z0estimates"
   ]
  },
  {
   "cell_type": "code",
   "execution_count": null,
   "metadata": {},
   "outputs": [],
   "source": []
  }
 ],
 "metadata": {
  "kernelspec": {
   "display_name": "arm",
   "language": "python",
   "name": "python3"
  },
  "language_info": {
   "codemirror_mode": {
    "name": "ipython",
    "version": 3
   },
   "file_extension": ".py",
   "mimetype": "text/x-python",
   "name": "python",
   "nbconvert_exporter": "python",
   "pygments_lexer": "ipython3",
   "version": "3.1.0"
  }
 },
 "nbformat": 4,
 "nbformat_minor": 2
}
