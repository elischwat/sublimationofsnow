{
 "cells": [
  {
   "cell_type": "code",
   "execution_count": 1,
   "metadata": {},
   "outputs": [
    {
     "data": {
      "text/plain": [
       "RendererRegistry.enable('jupyterlab')"
      ]
     },
     "execution_count": 1,
     "metadata": {},
     "output_type": "execute_result"
    }
   ],
   "source": [
    "import numpy as np\n",
    "import pandas as pd\n",
    "\n",
    "import matplotlib.pyplot as plt\n",
    "import altair as alt\n",
    "alt.data_transformers.enable('json')\n",
    "alt.renderers.enable('jupyterlab')"
   ]
  },
  {
   "cell_type": "markdown",
   "metadata": {},
   "source": [
    "# User inputs"
   ]
  },
  {
   "cell_type": "code",
   "execution_count": 2,
   "metadata": {},
   "outputs": [],
   "source": [
    "start_date = '20221130'\n",
    "end_date = '20230509'\n",
    "\n",
    "tidy_dataset_fn = f\"tidy_df_{start_date}_{end_date}_noplanar_fit.parquet\"\n",
    "tidy_daily_dataset_output_fn = f\"tidy_df_daily_{start_date}_{end_date}_noplanar_fit.parquet\""
   ]
  },
  {
   "cell_type": "markdown",
   "metadata": {},
   "source": [
    "# Load data"
   ]
  },
  {
   "cell_type": "code",
   "execution_count": 3,
   "metadata": {},
   "outputs": [],
   "source": [
    "try:\n",
    "    tidy_df_5Min = pd.read_parquet(\n",
    "        tidy_dataset_fn\n",
    "    )\n",
    "except FileNotFoundError:\n",
    "    print(\"No file such file exists for these dates.\")\n",
    "tidy_df_5Min['time'] = pd.to_datetime(tidy_df_5Min['time'])"
   ]
  },
  {
   "cell_type": "code",
   "execution_count": 4,
   "metadata": {},
   "outputs": [
    {
     "data": {
      "text/html": [
       "<div>\n",
       "<style scoped>\n",
       "    .dataframe tbody tr th:only-of-type {\n",
       "        vertical-align: middle;\n",
       "    }\n",
       "\n",
       "    .dataframe tbody tr th {\n",
       "        vertical-align: top;\n",
       "    }\n",
       "\n",
       "    .dataframe thead th {\n",
       "        text-align: right;\n",
       "    }\n",
       "</style>\n",
       "<table border=\"1\" class=\"dataframe\">\n",
       "  <thead>\n",
       "    <tr style=\"text-align: right;\">\n",
       "      <th></th>\n",
       "      <th>time</th>\n",
       "      <th>value</th>\n",
       "      <th>diff</th>\n",
       "    </tr>\n",
       "  </thead>\n",
       "  <tbody>\n",
       "    <tr>\n",
       "      <th>0</th>\n",
       "      <td>2023-01-22 23:42:30</td>\n",
       "      <td>NaN</td>\n",
       "      <td>NaN</td>\n",
       "    </tr>\n",
       "    <tr>\n",
       "      <th>1</th>\n",
       "      <td>2023-01-22 23:47:30</td>\n",
       "      <td>NaN</td>\n",
       "      <td>300.0</td>\n",
       "    </tr>\n",
       "    <tr>\n",
       "      <th>2</th>\n",
       "      <td>2023-01-22 23:52:30</td>\n",
       "      <td>NaN</td>\n",
       "      <td>300.0</td>\n",
       "    </tr>\n",
       "    <tr>\n",
       "      <th>3</th>\n",
       "      <td>2023-01-31 16:07:30</td>\n",
       "      <td>NaN</td>\n",
       "      <td>58500.0</td>\n",
       "    </tr>\n",
       "    <tr>\n",
       "      <th>4</th>\n",
       "      <td>2023-01-31 16:12:30</td>\n",
       "      <td>NaN</td>\n",
       "      <td>300.0</td>\n",
       "    </tr>\n",
       "    <tr>\n",
       "      <th>...</th>\n",
       "      <td>...</td>\n",
       "      <td>...</td>\n",
       "      <td>...</td>\n",
       "    </tr>\n",
       "    <tr>\n",
       "      <th>904</th>\n",
       "      <td>2023-04-23 22:07:30</td>\n",
       "      <td>NaN</td>\n",
       "      <td>300.0</td>\n",
       "    </tr>\n",
       "    <tr>\n",
       "      <th>905</th>\n",
       "      <td>2023-04-23 22:12:30</td>\n",
       "      <td>NaN</td>\n",
       "      <td>300.0</td>\n",
       "    </tr>\n",
       "    <tr>\n",
       "      <th>906</th>\n",
       "      <td>2023-05-05 15:32:30</td>\n",
       "      <td>NaN</td>\n",
       "      <td>62400.0</td>\n",
       "    </tr>\n",
       "    <tr>\n",
       "      <th>907</th>\n",
       "      <td>2023-05-05 15:37:30</td>\n",
       "      <td>NaN</td>\n",
       "      <td>300.0</td>\n",
       "    </tr>\n",
       "    <tr>\n",
       "      <th>908</th>\n",
       "      <td>2023-05-05 15:42:30</td>\n",
       "      <td>NaN</td>\n",
       "      <td>300.0</td>\n",
       "    </tr>\n",
       "  </tbody>\n",
       "</table>\n",
       "<p>909 rows × 3 columns</p>\n",
       "</div>"
      ],
      "text/plain": [
       "                   time  value     diff\n",
       "0   2023-01-22 23:42:30    NaN      NaN\n",
       "1   2023-01-22 23:47:30    NaN    300.0\n",
       "2   2023-01-22 23:52:30    NaN    300.0\n",
       "3   2023-01-31 16:07:30    NaN  58500.0\n",
       "4   2023-01-31 16:12:30    NaN    300.0\n",
       "..                  ...    ...      ...\n",
       "904 2023-04-23 22:07:30    NaN    300.0\n",
       "905 2023-04-23 22:12:30    NaN    300.0\n",
       "906 2023-05-05 15:32:30    NaN  62400.0\n",
       "907 2023-05-05 15:37:30    NaN    300.0\n",
       "908 2023-05-05 15:42:30    NaN    300.0\n",
       "\n",
       "[909 rows x 3 columns]"
      ]
     },
     "execution_count": 4,
     "metadata": {},
     "output_type": "execute_result"
    }
   ],
   "source": [
    "src = tidy_df_5Min.query(\"variable == 'T_3m_c'\").set_index('time')[['value']]\n",
    "src = src[src.value.isna()].reset_index()\n",
    "src['diff'] = (src['time'] - src['time'].shift(1)).apply(lambda t_delta: t_delta.seconds)\n",
    "src = src.reset_index(drop=True)\n",
    "src"
   ]
  },
  {
   "cell_type": "code",
   "execution_count": 5,
   "metadata": {},
   "outputs": [],
   "source": [
    "data = tidy_df_5Min.query(\"variable == 'T_3m_c'\").set_index('time')['value']\n",
    "na_groups = data.notna().cumsum()[data.isna()]\n",
    "t_lengths_consecutive_na = na_groups.groupby(na_groups).agg(len)\n",
    "\n",
    "data = tidy_df_5Min.query(\"variable == 'RH_3m_c'\").set_index('time')['value']\n",
    "na_groups = data.notna().cumsum()[data.isna()]\n",
    "rh_lengths_consecutive_na = na_groups.groupby(na_groups).agg(len)"
   ]
  },
  {
   "cell_type": "markdown",
   "metadata": {},
   "source": [
    "# Examine pot. virtual temperature gradient"
   ]
  },
  {
   "cell_type": "code",
   "execution_count": 6,
   "metadata": {},
   "outputs": [
    {
     "data": {
      "text/plain": [
       "1.842531134776948e-07"
      ]
     },
     "execution_count": 6,
     "metadata": {},
     "output_type": "execute_result"
    }
   ],
   "source": [
    "np.abs(tidy_df_5Min[tidy_df_5Min.measurement == 'temperature gradient'].value).min()"
   ]
  },
  {
   "cell_type": "code",
   "execution_count": 7,
   "metadata": {},
   "outputs": [
    {
     "data": {
      "application/vnd.vegalite.v5+json": {
       "$schema": "https://vega.github.io/schema/vega-lite/v5.16.3.json",
       "config": {
        "view": {
         "continuousHeight": 300,
         "continuousWidth": 300
        }
       },
       "vconcat": [
        {
         "data": {
          "format": {
           "type": "json"
          },
          "url": "altair-data-d1ef3fa827e59755d1c947c2366c403d.json"
         },
         "encoding": {
          "column": {
           "field": "height",
           "type": "ordinal"
          },
          "x": {
           "field": "time",
           "type": "temporal"
          },
          "y": {
           "field": "value",
           "type": "quantitative"
          }
         },
         "height": 200,
         "mark": {
          "type": "line"
         },
         "width": 200
        },
        {
         "data": {
          "format": {
           "type": "json"
          },
          "url": "altair-data-d1ef3fa827e59755d1c947c2366c403d.json"
         },
         "encoding": {
          "column": {
           "field": "height",
           "type": "ordinal"
          },
          "x": {
           "bin": {
            "step": 0.1
           },
           "field": "value",
           "type": "quantitative"
          },
          "y": {
           "aggregate": "count",
           "type": "quantitative"
          }
         },
         "height": 200,
         "mark": {
          "type": "bar"
         },
         "width": 200
        }
       ]
      },
      "text/plain": [
       "<VegaLite 5 object>\n",
       "\n",
       "If you see this message, it means the renderer has not been properly enabled\n",
       "for the frontend that you are using. For more information, see\n",
       "https://altair-viz.github.io/user_guide/display_frontends.html#troubleshooting\n"
      ]
     },
     "execution_count": 7,
     "metadata": {},
     "output_type": "execute_result"
    }
   ],
   "source": [
    "alt.Chart(\n",
    "    tidy_df_5Min.query(\"measurement == 'temperature gradient'\").query(\"height < 5\")\n",
    ").mark_line().encode(\n",
    "    x = 'time:T',\n",
    "    y = 'value:Q',\n",
    "    column='height:O'\n",
    ").properties(width=200, height = 200) & alt.Chart(\n",
    "    tidy_df_5Min.query(\"measurement == 'temperature gradient'\").query(\"height < 5\")\n",
    ").mark_bar().encode(\n",
    "    alt.X('value:Q').bin(step=0.1),\n",
    "    alt.Y(\"count():Q\"),    \n",
    "    alt.Column('height:O')\n",
    ").properties(width=200, height = 200)"
   ]
  },
  {
   "cell_type": "code",
   "execution_count": 8,
   "metadata": {},
   "outputs": [],
   "source": [
    "src = tidy_df_5Min.query(\"variable == 'temp_gradient_3m_c'\")\n",
    "neutral_times = src[src['value'].abs() < 0.01].time"
   ]
  },
  {
   "cell_type": "code",
   "execution_count": 9,
   "metadata": {},
   "outputs": [
    {
     "data": {
      "application/vnd.vegalite.v5+json": {
       "$schema": "https://vega.github.io/schema/vega-lite/v5.16.3.json",
       "config": {
        "view": {
         "continuousHeight": 300,
         "continuousWidth": 300
        }
       },
       "data": {
        "format": {
         "type": "json"
        },
        "url": "altair-data-bff60d96ea14be53e0944fd39bd1d127.json"
       },
       "encoding": {
        "facet": {
         "columns": 8,
         "field": "time",
         "type": "ordinal"
        },
        "x": {
         "field": "value",
         "sort": "-y",
         "title": "Wind speed (m/s)",
         "type": "quantitative"
        },
        "y": {
         "field": "height",
         "title": "Height (m)",
         "type": "quantitative"
        }
       },
       "height": 125,
       "mark": {
        "type": "line"
       },
       "width": 125
      },
      "text/plain": [
       "<VegaLite 5 object>\n",
       "\n",
       "If you see this message, it means the renderer has not been properly enabled\n",
       "for the frontend that you are using. For more information, see\n",
       "https://altair-viz.github.io/user_guide/display_frontends.html#troubleshooting\n"
      ]
     },
     "execution_count": 9,
     "metadata": {},
     "output_type": "execute_result"
    }
   ],
   "source": [
    "alt.Chart(\n",
    "    tidy_df_5Min[\n",
    "        tidy_df_5Min.time.isin(neutral_times.sample(16))\n",
    "    ].query(\"measurement == 'wind speed'\").query(\"tower == 'c'\")\n",
    ").mark_line().encode(\n",
    "    alt.X(\"value:Q\").title(\"Wind speed (m/s)\").sort('-y'),\n",
    "    alt.Y(\"height:Q\").title(\"Height (m)\"),\n",
    "    alt.Facet(\"time:O\", columns=8)\n",
    ").properties(width = 125, height = 125)"
   ]
  },
  {
   "cell_type": "code",
   "execution_count": 10,
   "metadata": {},
   "outputs": [
    {
     "data": {
      "text/html": [
       "<div>\n",
       "<style scoped>\n",
       "    .dataframe tbody tr th:only-of-type {\n",
       "        vertical-align: middle;\n",
       "    }\n",
       "\n",
       "    .dataframe tbody tr th {\n",
       "        vertical-align: top;\n",
       "    }\n",
       "\n",
       "    .dataframe thead th {\n",
       "        text-align: right;\n",
       "    }\n",
       "</style>\n",
       "<table border=\"1\" class=\"dataframe\">\n",
       "  <thead>\n",
       "    <tr style=\"text-align: right;\">\n",
       "      <th></th>\n",
       "      <th>spd_10m_c</th>\n",
       "      <th>spd_15m_c</th>\n",
       "      <th>spd_20m_c</th>\n",
       "      <th>spd_2m_c</th>\n",
       "      <th>spd_3m_c</th>\n",
       "      <th>spd_5m_c</th>\n",
       "      <th>u*_10m_c</th>\n",
       "      <th>u*_15m_c</th>\n",
       "      <th>u*_20m_c</th>\n",
       "      <th>u*_2m_c</th>\n",
       "      <th>u*_3m_c</th>\n",
       "      <th>u*_5m_c</th>\n",
       "      <th>snow_depth</th>\n",
       "    </tr>\n",
       "    <tr>\n",
       "      <th>time</th>\n",
       "      <th></th>\n",
       "      <th></th>\n",
       "      <th></th>\n",
       "      <th></th>\n",
       "      <th></th>\n",
       "      <th></th>\n",
       "      <th></th>\n",
       "      <th></th>\n",
       "      <th></th>\n",
       "      <th></th>\n",
       "      <th></th>\n",
       "      <th></th>\n",
       "      <th></th>\n",
       "    </tr>\n",
       "  </thead>\n",
       "  <tbody>\n",
       "    <tr>\n",
       "      <th>2022-11-30 10:37:30</th>\n",
       "      <td>0.261196</td>\n",
       "      <td>0.261303</td>\n",
       "      <td>0.278766</td>\n",
       "      <td>0.294917</td>\n",
       "      <td>0.288938</td>\n",
       "      <td>0.263247</td>\n",
       "      <td>0.092021</td>\n",
       "      <td>0.060278</td>\n",
       "      <td>0.119137</td>\n",
       "      <td>0.082064</td>\n",
       "      <td>0.098465</td>\n",
       "      <td>0.075811</td>\n",
       "      <td>0.261997</td>\n",
       "    </tr>\n",
       "    <tr>\n",
       "      <th>2022-11-30 12:37:30</th>\n",
       "      <td>0.375744</td>\n",
       "      <td>0.368134</td>\n",
       "      <td>0.320001</td>\n",
       "      <td>0.332643</td>\n",
       "      <td>0.329449</td>\n",
       "      <td>0.390361</td>\n",
       "      <td>0.050571</td>\n",
       "      <td>0.051124</td>\n",
       "      <td>0.071796</td>\n",
       "      <td>0.055077</td>\n",
       "      <td>0.076588</td>\n",
       "      <td>0.070909</td>\n",
       "      <td>0.261997</td>\n",
       "    </tr>\n",
       "    <tr>\n",
       "      <th>2022-11-30 12:47:30</th>\n",
       "      <td>0.675300</td>\n",
       "      <td>0.651386</td>\n",
       "      <td>0.612457</td>\n",
       "      <td>0.723600</td>\n",
       "      <td>0.763967</td>\n",
       "      <td>0.736115</td>\n",
       "      <td>0.120388</td>\n",
       "      <td>0.123114</td>\n",
       "      <td>0.136278</td>\n",
       "      <td>0.076045</td>\n",
       "      <td>0.049296</td>\n",
       "      <td>0.053659</td>\n",
       "      <td>0.261997</td>\n",
       "    </tr>\n",
       "    <tr>\n",
       "      <th>2022-11-30 13:02:30</th>\n",
       "      <td>1.602720</td>\n",
       "      <td>1.645096</td>\n",
       "      <td>1.631929</td>\n",
       "      <td>1.397709</td>\n",
       "      <td>1.489085</td>\n",
       "      <td>1.518906</td>\n",
       "      <td>0.152537</td>\n",
       "      <td>0.113622</td>\n",
       "      <td>0.082739</td>\n",
       "      <td>0.109909</td>\n",
       "      <td>0.111435</td>\n",
       "      <td>0.142778</td>\n",
       "      <td>0.261997</td>\n",
       "    </tr>\n",
       "    <tr>\n",
       "      <th>2022-11-30 13:07:30</th>\n",
       "      <td>0.848206</td>\n",
       "      <td>0.888767</td>\n",
       "      <td>0.873107</td>\n",
       "      <td>0.787879</td>\n",
       "      <td>0.850785</td>\n",
       "      <td>0.839572</td>\n",
       "      <td>0.101733</td>\n",
       "      <td>0.115202</td>\n",
       "      <td>0.119509</td>\n",
       "      <td>0.061890</td>\n",
       "      <td>0.085271</td>\n",
       "      <td>0.121159</td>\n",
       "      <td>0.261997</td>\n",
       "    </tr>\n",
       "  </tbody>\n",
       "</table>\n",
       "</div>"
      ],
      "text/plain": [
       "                     spd_10m_c  spd_15m_c  spd_20m_c  spd_2m_c  spd_3m_c  \\\n",
       "time                                                                       \n",
       "2022-11-30 10:37:30   0.261196   0.261303   0.278766  0.294917  0.288938   \n",
       "2022-11-30 12:37:30   0.375744   0.368134   0.320001  0.332643  0.329449   \n",
       "2022-11-30 12:47:30   0.675300   0.651386   0.612457  0.723600  0.763967   \n",
       "2022-11-30 13:02:30   1.602720   1.645096   1.631929  1.397709  1.489085   \n",
       "2022-11-30 13:07:30   0.848206   0.888767   0.873107  0.787879  0.850785   \n",
       "\n",
       "                     spd_5m_c  u*_10m_c  u*_15m_c  u*_20m_c   u*_2m_c  \\\n",
       "time                                                                    \n",
       "2022-11-30 10:37:30  0.263247  0.092021  0.060278  0.119137  0.082064   \n",
       "2022-11-30 12:37:30  0.390361  0.050571  0.051124  0.071796  0.055077   \n",
       "2022-11-30 12:47:30  0.736115  0.120388  0.123114  0.136278  0.076045   \n",
       "2022-11-30 13:02:30  1.518906  0.152537  0.113622  0.082739  0.109909   \n",
       "2022-11-30 13:07:30  0.839572  0.101733  0.115202  0.119509  0.061890   \n",
       "\n",
       "                      u*_3m_c   u*_5m_c  snow_depth  \n",
       "time                                                 \n",
       "2022-11-30 10:37:30  0.098465  0.075811    0.261997  \n",
       "2022-11-30 12:37:30  0.076588  0.070909    0.261997  \n",
       "2022-11-30 12:47:30  0.049296  0.053659    0.261997  \n",
       "2022-11-30 13:02:30  0.111435  0.142778    0.261997  \n",
       "2022-11-30 13:07:30  0.085271  0.121159    0.261997  "
      ]
     },
     "execution_count": 10,
     "metadata": {},
     "output_type": "execute_result"
    }
   ],
   "source": [
    "z0_df = tidy_df_5Min[\n",
    "    tidy_df_5Min.time.isin(neutral_times)\n",
    "].query(\"tower == 'c'\")\n",
    "src_snowdepth = tidy_df_5Min[\n",
    "    tidy_df_5Min.measurement == 'snow depth'\n",
    "]\n",
    "src_snowdepth = src_snowdepth[['time', 'value']].set_index('time').rename(columns={'value': 'snow_depth'})\n",
    "z0_df = z0_df[z0_df.measurement.isin([\n",
    "    'wind speed',\n",
    "    'shear velocity',\n",
    "    'snow depth'\n",
    "])]\n",
    "z0_df = z0_df[~z0_df.variable.str.contains(\"predicted\")]\n",
    "z0_df = z0_df.pivot_table(index=['time'], values='value', columns='variable')\n",
    "z0_df = z0_df.join(src_snowdepth)\n",
    "z0_df.head()"
   ]
  },
  {
   "cell_type": "markdown",
   "metadata": {},
   "source": [
    "# Filter out data without monotonically increasing wind speeds "
   ]
  },
  {
   "cell_type": "code",
   "execution_count": 11,
   "metadata": {},
   "outputs": [
    {
     "data": {
      "text/plain": [
       "4220"
      ]
     },
     "execution_count": 11,
     "metadata": {},
     "output_type": "execute_result"
    }
   ],
   "source": [
    "len(z0_df)"
   ]
  },
  {
   "cell_type": "code",
   "execution_count": 12,
   "metadata": {},
   "outputs": [],
   "source": [
    "def monotonically_increasing(l):\n",
    "    return all(x < y for x, y in zip(l, l[1:]))\n",
    "\n",
    "z0_df['is_monotonic_increasing'] = z0_df.apply(\n",
    "    lambda row: monotonically_increasing([\n",
    "            row['spd_2m_c'], \n",
    "            row['spd_3m_c'], \n",
    "            row['spd_5m_c'], \n",
    "            row['spd_10m_c'], \n",
    "            row['spd_15m_c'], \n",
    "            row['spd_20m_c']\n",
    "    ]),\n",
    "    axis = 1\n",
    ")"
   ]
  },
  {
   "cell_type": "code",
   "execution_count": 13,
   "metadata": {},
   "outputs": [],
   "source": [
    "z0_df = z0_df[z0_df.is_monotonic_increasing]"
   ]
  },
  {
   "cell_type": "code",
   "execution_count": 14,
   "metadata": {},
   "outputs": [
    {
     "data": {
      "text/plain": [
       "1960"
      ]
     },
     "execution_count": 14,
     "metadata": {},
     "output_type": "execute_result"
    }
   ],
   "source": [
    "len(z0_df)"
   ]
  },
  {
   "cell_type": "markdown",
   "metadata": {},
   "source": [
    "# Solve for $z_0$ assuming $d = 0$\n",
    "\n",
    "https://www.eol.ucar.edu/content/calculation-roughness-length-and-displacement-height"
   ]
  },
  {
   "cell_type": "code",
   "execution_count": 15,
   "metadata": {},
   "outputs": [],
   "source": [
    "von_karman = 0.4"
   ]
  },
  {
   "cell_type": "code",
   "execution_count": 16,
   "metadata": {},
   "outputs": [],
   "source": [
    "d = 0.0\n",
    "z0_df['z0_2m_c'] = (2 - d - z0_df['snow_depth'])/np.exp(z0_df['spd_2m_c']*von_karman/z0_df['u*_2m_c'])\n",
    "z0_df['z0_3m_c'] = (3 - d - z0_df['snow_depth'])/np.exp(z0_df['spd_3m_c']*von_karman/z0_df['u*_3m_c'])\n",
    "z0_df['z0_5m_c'] = (5 - d - z0_df['snow_depth'])/np.exp(z0_df['spd_5m_c']*von_karman/z0_df['u*_5m_c'])\n",
    "z0_df['z0_10m_c'] = (10 - d - z0_df['snow_depth'])/np.exp(z0_df['spd_10m_c']*von_karman/z0_df['u*_10m_c'])\n",
    "z0_df['z0_15m_c'] = (15 - d - z0_df['snow_depth'])/np.exp(z0_df['spd_15m_c']*von_karman/z0_df['u*_15m_c'])\n",
    "z0_df['z0_20m_c'] = (20 - d - z0_df['snow_depth'])/np.exp(z0_df['spd_20m_c']*von_karman/z0_df['u*_20m_c'])"
   ]
  },
  {
   "cell_type": "code",
   "execution_count": 17,
   "metadata": {},
   "outputs": [
    {
     "data": {
      "application/vnd.vegalite.v5+json": {
       "$schema": "https://vega.github.io/schema/vega-lite/v5.16.3.json",
       "config": {
        "view": {
         "continuousHeight": 300,
         "continuousWidth": 300
        }
       },
       "data": {
        "format": {
         "type": "json"
        },
        "url": "altair-data-0face3da00b2fc4fd763ccfcfe497d44.json"
       },
       "encoding": {
        "row": {
         "field": "key",
         "sort": [
          "z0_2m_c",
          "z0_3m_c",
          "z0_5m_c",
          "z0_10m_c",
          "z0_15m_c",
          "z0_20m_c"
         ],
         "type": "nominal"
        },
        "x": {
         "field": "time",
         "type": "temporal"
        },
        "y": {
         "field": "value",
         "scale": {
          "type": "log"
         },
         "type": "quantitative"
        }
       },
       "height": 100,
       "mark": {
        "type": "circle"
       },
       "transform": [
        {
         "fold": [
          "z0_2m_c",
          "z0_3m_c",
          "z0_5m_c",
          "z0_10m_c",
          "z0_15m_c",
          "z0_20m_c"
         ]
        },
        {
         "filter": {
          "field": "key",
          "oneOf": [
           "z0_2m_c",
           "z0_3m_c"
          ]
         }
        }
       ],
       "width": 400
      },
      "text/plain": [
       "<VegaLite 5 object>\n",
       "\n",
       "If you see this message, it means the renderer has not been properly enabled\n",
       "for the frontend that you are using. For more information, see\n",
       "https://altair-viz.github.io/user_guide/display_frontends.html#troubleshooting\n"
      ]
     },
     "execution_count": 17,
     "metadata": {},
     "output_type": "execute_result"
    }
   ],
   "source": [
    "variables = [\n",
    "        'z0_2m_c', \n",
    "        'z0_3m_c', \n",
    "        'z0_5m_c', \n",
    "        'z0_10m_c', \n",
    "        'z0_15m_c', \n",
    "        'z0_20m_c', \n",
    "    ]\n",
    "alt.Chart(\n",
    "    z0_df[variables].reset_index()\n",
    ").transform_fold(\n",
    "    variables\n",
    ").transform_filter(\n",
    "    alt.FieldOneOfPredicate('key', ['z0_2m_c', 'z0_3m_c'])\n",
    ").mark_circle().encode(\n",
    "    alt.X('time:T'),\n",
    "    alt.Y(\"value:Q\").scale(type='log'),\n",
    "    alt.Row(\"key:N\", sort=variables)\n",
    ").properties(height = 100, width = 400)"
   ]
  },
  {
   "cell_type": "code",
   "execution_count": 18,
   "metadata": {},
   "outputs": [],
   "source": [
    "from sklearn.metrics import r2_score"
   ]
  },
  {
   "cell_type": "code",
   "execution_count": 19,
   "metadata": {},
   "outputs": [
    {
     "data": {
      "application/vnd.vegalite.v5+json": {
       "$schema": "https://vega.github.io/schema/vega-lite/v5.16.3.json",
       "config": {
        "view": {
         "continuousHeight": 300,
         "continuousWidth": 300
        }
       },
       "data": {
        "format": {
         "type": "json"
        },
        "url": "altair-data-59899fa23b7e842999b411cca092e012.json"
       },
       "hconcat": [
        {
         "encoding": {
          "x": {
           "field": "z0_3m_c",
           "scale": {
            "domain": [
             1e-9,
             10
            ],
            "type": "log"
           },
           "type": "quantitative"
          },
          "y": {
           "field": "z0_2m_c",
           "scale": {
            "domain": [
             1e-9,
             10
            ],
            "type": "log"
           },
           "type": "quantitative"
          }
         },
         "height": 150,
         "mark": {
          "type": "circle"
         },
         "title": "0.695",
         "width": 150
        },
        {
         "encoding": {
          "x": {
           "field": "z0_3m_c",
           "scale": {
            "domain": [
             1e-9,
             10
            ],
            "type": "log"
           },
           "type": "quantitative"
          },
          "y": {
           "field": "z0_5m_c",
           "scale": {
            "domain": [
             1e-9,
             10
            ],
            "type": "log"
           },
           "type": "quantitative"
          }
         },
         "height": 150,
         "mark": {
          "type": "circle"
         },
         "title": "0.093",
         "width": 150
        },
        {
         "encoding": {
          "x": {
           "field": "z0_3m_c",
           "scale": {
            "domain": [
             1e-9,
             10
            ],
            "type": "log"
           },
           "type": "quantitative"
          },
          "y": {
           "field": "z0_10m_c",
           "scale": {
            "domain": [
             1e-9,
             10
            ],
            "type": "log"
           },
           "type": "quantitative"
          }
         },
         "height": 150,
         "mark": {
          "type": "circle"
         },
         "title": "-25.878",
         "width": 150
        },
        {
         "encoding": {
          "x": {
           "field": "z0_3m_c",
           "scale": {
            "domain": [
             1e-9,
             10
            ],
            "type": "log"
           },
           "type": "quantitative"
          },
          "y": {
           "field": "z0_15m_c",
           "scale": {
            "domain": [
             1e-9,
             10
            ],
            "type": "log"
           },
           "type": "quantitative"
          }
         },
         "height": 150,
         "mark": {
          "type": "circle"
         },
         "title": "-65.824",
         "width": 150
        },
        {
         "encoding": {
          "x": {
           "field": "z0_3m_c",
           "scale": {
            "domain": [
             1e-9,
             10
            ],
            "type": "log"
           },
           "type": "quantitative"
          },
          "y": {
           "field": "z0_20m_c",
           "scale": {
            "domain": [
             1e-9,
             10
            ],
            "type": "log"
           },
           "type": "quantitative"
          }
         },
         "height": 150,
         "mark": {
          "type": "circle"
         },
         "title": "-160.563",
         "width": 150
        }
       ]
      },
      "text/plain": [
       "<VegaLite 5 object>\n",
       "\n",
       "If you see this message, it means the renderer has not been properly enabled\n",
       "for the frontend that you are using. For more information, see\n",
       "https://altair-viz.github.io/user_guide/display_frontends.html#troubleshooting\n"
      ]
     },
     "execution_count": 19,
     "metadata": {},
     "output_type": "execute_result"
    }
   ],
   "source": [
    "alt.Chart(z0_df).mark_circle().encode(\n",
    "    alt.X(\"z0_3m_c\").scale(domain=[0.000000001, 10], type='log'),\n",
    "    alt.Y(\"z0_2m_c\").scale(domain=[0.000000001, 10], type='log')\n",
    ").properties(width = 150, height = 150, title = str(round(r2_score(\n",
    "        z0_df[\"z0_3m_c\"],\n",
    "        z0_df[\"z0_2m_c\"]\n",
    "    ), 3))\n",
    ") | alt.Chart(z0_df).mark_circle().encode(\n",
    "    alt.X(\"z0_3m_c\").scale(domain=[0.000000001, 10], type='log'),\n",
    "    alt.Y(\"z0_5m_c\").scale(domain=[0.000000001, 10], type='log')\n",
    ").properties(width = 150, height = 150, title = str(round(r2_score(\n",
    "        z0_df[\"z0_3m_c\"],\n",
    "        z0_df[\"z0_5m_c\"]\n",
    "    ), 3))\n",
    ") | alt.Chart(z0_df).mark_circle().encode(\n",
    "    alt.X(\"z0_3m_c\").scale(domain=[0.000000001, 10], type='log'),\n",
    "    alt.Y(\"z0_10m_c\").scale(domain=[0.000000001, 10], type='log')\n",
    ").properties(width = 150, height = 150, title = str(round(r2_score(\n",
    "        z0_df[\"z0_3m_c\"],\n",
    "        z0_df[\"z0_10m_c\"]\n",
    "    ), 3))\n",
    ") | alt.Chart(z0_df).mark_circle().encode(\n",
    "    alt.X(\"z0_3m_c\").scale(domain=[0.000000001, 10], type='log'),\n",
    "    alt.Y(\"z0_15m_c\").scale(domain=[0.000000001, 10], type='log')\n",
    ").properties(width = 150, height = 150, title = str(round(r2_score(\n",
    "        z0_df[\"z0_3m_c\"],\n",
    "        z0_df[\"z0_15m_c\"]\n",
    "    ), 3))\n",
    ") | alt.Chart(z0_df).mark_circle().encode(\n",
    "    alt.X(\"z0_3m_c\").scale(domain=[0.000000001, 10], type='log'),\n",
    "    alt.Y(\"z0_20m_c\").scale(domain=[0.000000001, 10], type='log')\n",
    ").properties(width = 150, height = 150, title = str(round(r2_score(\n",
    "        z0_df[\"z0_3m_c\"],\n",
    "        z0_df[\"z0_20m_c\"]\n",
    "    ), 3))\n",
    ")"
   ]
  },
  {
   "cell_type": "code",
   "execution_count": 20,
   "metadata": {},
   "outputs": [
    {
     "data": {
      "application/vnd.vegalite.v5+json": {
       "$schema": "https://vega.github.io/schema/vega-lite/v5.16.3.json",
       "config": {
        "view": {
         "continuousHeight": 300,
         "continuousWidth": 300
        }
       },
       "height": 100,
       "layer": [
        {
         "data": {
          "format": {
           "type": "json"
          },
          "url": "altair-data-113eef84a25532fe943b274776460e14.json"
         },
         "encoding": {
          "x": {
           "field": "time",
           "type": "temporal"
          },
          "y": {
           "field": "z0_3m_c",
           "scale": {
            "type": "log"
           },
           "type": "quantitative"
          }
         },
         "mark": {
          "size": 50,
          "type": "circle"
         }
        },
        {
         "data": {
          "format": {
           "type": "json"
          },
          "url": "altair-data-113eef84a25532fe943b274776460e14.json"
         },
         "encoding": {
          "x": {
           "field": "time",
           "type": "temporal"
          },
          "y": {
           "field": "z0_3m_c",
           "scale": {
            "type": "log"
           },
           "type": "quantitative"
          }
         },
         "mark": {
          "type": "bar",
          "width": 1
         }
        }
       ]
      },
      "text/plain": [
       "<VegaLite 5 object>\n",
       "\n",
       "If you see this message, it means the renderer has not been properly enabled\n",
       "for the frontend that you are using. For more information, see\n",
       "https://altair-viz.github.io/user_guide/display_frontends.html#troubleshooting\n"
      ]
     },
     "execution_count": 20,
     "metadata": {},
     "output_type": "execute_result"
    }
   ],
   "source": [
    "alt.Chart(\n",
    "    z0_df[['z0_3m_c']].resample(\"1D\").median().reset_index()\n",
    ").mark_circle(size=50).encode(\n",
    "    alt.X(\"time:T\"),\n",
    "    alt.Y(\"z0_3m_c\").scale(type='log')\n",
    ") + alt.Chart(\n",
    "    z0_df[['z0_3m_c']].resample(\"1D\").median().reset_index()\n",
    ").mark_bar(width=1).encode(\n",
    "    alt.X(\"time:T\"),\n",
    "    alt.Y(\"z0_3m_c\").scale(type='log')\n",
    ").properties(height = 100)"
   ]
  },
  {
   "cell_type": "code",
   "execution_count": 21,
   "metadata": {},
   "outputs": [],
   "source": [
    "z0_df_weekly = z0_df[['z0_3m_c']].resample(\"W-MON\").median().reset_index()"
   ]
  },
  {
   "cell_type": "code",
   "execution_count": 22,
   "metadata": {},
   "outputs": [
    {
     "data": {
      "application/vnd.vegalite.v5+json": {
       "$schema": "https://vega.github.io/schema/vega-lite/v5.16.3.json",
       "config": {
        "view": {
         "continuousHeight": 300,
         "continuousWidth": 300
        }
       },
       "data": {
        "format": {
         "type": "json"
        },
        "url": "altair-data-c30afd17598233f623752f672f175da6.json"
       },
       "height": 100,
       "layer": [
        {
         "encoding": {
          "x": {
           "field": "time",
           "type": "temporal"
          },
          "y": {
           "field": "z0_3m_c",
           "scale": {
            "type": "log"
           },
           "type": "quantitative"
          }
         },
         "mark": {
          "size": 100,
          "type": "circle"
         }
        },
        {
         "encoding": {
          "x": {
           "field": "time",
           "type": "temporal"
          },
          "y": {
           "field": "z0_3m_c",
           "scale": {
            "type": "log"
           },
           "type": "quantitative"
          }
         },
         "mark": {
          "type": "bar",
          "width": 1
         }
        }
       ]
      },
      "text/plain": [
       "<VegaLite 5 object>\n",
       "\n",
       "If you see this message, it means the renderer has not been properly enabled\n",
       "for the frontend that you are using. For more information, see\n",
       "https://altair-viz.github.io/user_guide/display_frontends.html#troubleshooting\n"
      ]
     },
     "execution_count": 22,
     "metadata": {},
     "output_type": "execute_result"
    }
   ],
   "source": [
    "basic_z0_values_chart = alt.Chart(\n",
    "    z0_df_weekly\n",
    ").mark_circle(size=100).encode(\n",
    "    alt.X(\"time:T\"),\n",
    "    alt.Y(\"z0_3m_c\").scale(type='log')\n",
    ") + alt.Chart(\n",
    "    z0_df_weekly\n",
    ").mark_bar(width=1).encode(\n",
    "    alt.X(\"time:T\"),\n",
    "    alt.Y(\"z0_3m_c\").scale(type='log')\n",
    ").properties(height = 100)\n",
    "basic_z0_values_chart"
   ]
  },
  {
   "cell_type": "markdown",
   "metadata": {},
   "source": [
    "# Use Andreas et al. 2010 Method, NOAA/SPLASH (Chris Cox) solution"
   ]
  },
  {
   "cell_type": "code",
   "execution_count": 25,
   "metadata": {},
   "outputs": [],
   "source": [
    "tdk = 273.15 \n",
    "# surface temp mean\n",
    "Tsm = tidy_df_5Min.query(\"variable == 'Tsurf_c'\")['value'].values \n",
    "# air temp mean\n",
    "Tam = tidy_df_5Min.query(\"variable == 'T_3m_c'\")['value'].values \n",
    "# height of sonic\n",
    "z_level_n = 3 - tidy_df_5Min.query(\"variable == 'SnowDepth_d'\")['value'].values \n",
    "# wt-covariance, vertical flux of the sonic temperature  [deg m/s]\n",
    "wT_csp = tidy_df_5Min.query(\"variable == 'w_tc__3m_c'\")['value'].values   \n",
    "wq_csp = tidy_df_5Min.query(\"variable == 'w_h2o__3m_c'\")['value'].values   \n",
    "wsp = tidy_df_5Min.query(\"variable == 'spd_3m_c'\")['value'].values \n",
    "ustar = tidy_df_5Min.query(\"variable == 'u*_3m_c'\")['value'].values \n",
    "\n",
    "surface_pot_temp = tidy_df_5Min.query(\"variable == 'Tsurfpot_c'\")['value'].values\n",
    "air_pot_temp  = tidy_df_5Min.query(\"variable == 'Tpot_3m_c'\")['value'].values\n",
    "surface_mixing_ratio = tidy_df_5Min.query(\"variable == 'Tsurfmixingratio_c'\")['value'].values\n",
    "air_mixing_ratio = tidy_df_5Min.query(\"variable == 'mixingratio_3m_c'\")['value'].values\n",
    "surface_specifichumidity = surface_mixing_ratio / (1 + surface_mixing_ratio)\n",
    "air_specifichumidity  = air_mixing_ratio / (1 + air_mixing_ratio)\n",
    "\n",
    "# Obukhov length\n",
    "surflayr_avg_airtemp = 0.5*(Tsm + Tam)\n",
    "surflayr_avg_specifichumidity = 0.5*(surface_specifichumidity + air_specifichumidity)\n",
    "surflayr_avg_virtualtemp = 0.5*(\n",
    "    tidy_df_5Min.query(\"variable == 'Tvirtual_3m_c'\")['value'].values + \n",
    "    tidy_df_5Min.query(\"variable == 'Tsurfvirtual_c'\")['value'].values\n",
    ")\n",
    "# right version of equation 2.3 in Andreas 2010\n",
    "# L = - (\n",
    "#     surflayr_avg_airtemp/( 0.4*9.81 )\n",
    "# ) * (\n",
    "#     ustar**3 / (\n",
    "#         wT_csp + wq_csp* (0.61*surflayr_avg_airtemp)/(\n",
    "#             1 + 0.61*surflayr_avg_specifichumidity\n",
    "#           )\n",
    "#     )\n",
    "# )\n",
    "# left version of equation 2.3 in Andreas 2010\n",
    "L = - (\n",
    "    (\n",
    "        tidy_df_5Min.query(\"variable == 'Tvirtual_3m_c'\")['value'].values\n",
    "    )/( 0.4*9.81 )\n",
    ") * (\n",
    "    ustar**3 / wT_csp\n",
    ")\n",
    "\n",
    "# Monin-Obukhov stability parameter, z/L:\n",
    "zeta_level_n = z_level_n/L\n",
    "\n",
    "# Drag coefficient, Cd:\n",
    "Cd = ustar**2/wsp**2 #- wu_csp/(wsp**2)\n",
    "\n",
    "Ch = wT_csp / (wsp * (surface_pot_temp - air_pot_temp))\n",
    "\n",
    "Ce = wq_csp / (wsp * (surface_specifichumidity - air_specifichumidity))"
   ]
  },
  {
   "cell_type": "code",
   "execution_count": 27,
   "metadata": {},
   "outputs": [
    {
     "name": "stderr",
     "output_type": "stream",
     "text": [
      "/home/elilouis/sublimationofsnow/analysis/paper1/../splash/calc_z0.py:16: RuntimeWarning: invalid value encountered in power\n",
      "  sma = 1 + (6.5 * zL * (1+zL)**(1/3)) / (1.3 + zL); # Psi\n",
      "/home/elilouis/sublimationofsnow/analysis/paper1/../splash/calc_z0.py:20: RuntimeWarning: invalid value encountered in power\n",
      "  x = np.real((1 - 16*zL)**(0.25)) # assumes gamma = 16\n",
      "/home/elilouis/sublimationofsnow/analysis/paper1/../splash/calc_z0.py:36: RuntimeWarning: invalid value encountered in power\n",
      "  sma = 1 + (6.5 * zL * (1+zL)**(1/3)) / (1.3 + zL); # Psi\n",
      "/home/elilouis/sublimationofsnow/analysis/paper1/../splash/calc_z0.py:37: RuntimeWarning: invalid value encountered in power\n",
      "  x = np.real((1 - 16*zL)**(0.25)) # assumes gamma = 16\n",
      "/home/elilouis/sublimationofsnow/analysis/paper1/../splash/calc_z0.py:44: RuntimeWarning: overflow encountered in exp\n",
      "  z0 = z * np.exp(-(k*(Cd**0.5)*(Ch**-1) + sm))\n",
      "/home/elilouis/sublimationofsnow/analysis/paper1/../splash/calc_z0.py:44: RuntimeWarning: overflow encountered in multiply\n",
      "  z0 = z * np.exp(-(k*(Cd**0.5)*(Ch**-1) + sm))\n",
      "/home/elilouis/sublimationofsnow/analysis/paper1/../splash/calc_z0.py:51: RuntimeWarning: invalid value encountered in power\n",
      "  sma = 1 + (6.5 * zL * (1+zL)**(1/3)) / (1.3 + zL); # Psi\n",
      "/home/elilouis/sublimationofsnow/analysis/paper1/../splash/calc_z0.py:52: RuntimeWarning: invalid value encountered in power\n",
      "  x = np.real((1 - 16*zL)**(0.25)) # assumes gamma = 16\n"
     ]
    }
   ],
   "source": [
    "import sys\n",
    "sys.path.append(\"../splash/\")\n",
    "import calc_z0\n",
    "z0_values = calc_z0.calc_z0(z_level_n, Cd, zeta_level_n)\n",
    "z0T_values = calc_z0.calc_z0T(z_level_n, Cd, Ch, zeta_level_n)\n",
    "z0q_values = calc_z0.calc_z0Q(z_level_n, Cd, Ce, zeta_level_n)"
   ]
  },
  {
   "cell_type": "code",
   "execution_count": 28,
   "metadata": {},
   "outputs": [],
   "source": [
    "time_values = tidy_df_5Min.query(\"variable == 'Tsurf_c'\").set_index('time').sort_index().index.values"
   ]
  },
  {
   "cell_type": "code",
   "execution_count": 29,
   "metadata": {},
   "outputs": [],
   "source": [
    "z0_andreas_df = pd.DataFrame({\n",
    "    \"time\": time_values, \n",
    "    \"z0\":   z0_values,\n",
    "    \"z0T\": z0T_values,\n",
    "    \"z0q\": z0q_values,\n",
    "})\n",
    "z0_andreas_df_weekly = z0_andreas_df.set_index('time').resample('W-MON').median().reset_index()"
   ]
  },
  {
   "cell_type": "code",
   "execution_count": 31,
   "metadata": {},
   "outputs": [
    {
     "data": {
      "text/html": [
       "<div>\n",
       "<style scoped>\n",
       "    .dataframe tbody tr th:only-of-type {\n",
       "        vertical-align: middle;\n",
       "    }\n",
       "\n",
       "    .dataframe tbody tr th {\n",
       "        vertical-align: top;\n",
       "    }\n",
       "\n",
       "    .dataframe thead th {\n",
       "        text-align: right;\n",
       "    }\n",
       "</style>\n",
       "<table border=\"1\" class=\"dataframe\">\n",
       "  <thead>\n",
       "    <tr style=\"text-align: right;\">\n",
       "      <th></th>\n",
       "      <th>time</th>\n",
       "      <th>z0</th>\n",
       "      <th>z0T</th>\n",
       "      <th>z0q</th>\n",
       "    </tr>\n",
       "  </thead>\n",
       "  <tbody>\n",
       "    <tr>\n",
       "      <th>0</th>\n",
       "      <td>2022-11-29 17:02:30</td>\n",
       "      <td>0.076182</td>\n",
       "      <td>2050.978978</td>\n",
       "      <td>1.972075</td>\n",
       "    </tr>\n",
       "    <tr>\n",
       "      <th>1</th>\n",
       "      <td>2022-11-29 17:07:30</td>\n",
       "      <td>0.019717</td>\n",
       "      <td>94.869536</td>\n",
       "      <td>1.326326</td>\n",
       "    </tr>\n",
       "    <tr>\n",
       "      <th>2</th>\n",
       "      <td>2022-11-29 17:12:30</td>\n",
       "      <td>0.006696</td>\n",
       "      <td>12.654200</td>\n",
       "      <td>0.797514</td>\n",
       "    </tr>\n",
       "  </tbody>\n",
       "</table>\n",
       "</div>"
      ],
      "text/plain": [
       "                 time        z0          z0T       z0q\n",
       "0 2022-11-29 17:02:30  0.076182  2050.978978  1.972075\n",
       "1 2022-11-29 17:07:30  0.019717    94.869536  1.326326\n",
       "2 2022-11-29 17:12:30  0.006696    12.654200  0.797514"
      ]
     },
     "execution_count": 31,
     "metadata": {},
     "output_type": "execute_result"
    }
   ],
   "source": [
    "z0_andreas_df.head(3)"
   ]
  },
  {
   "cell_type": "code",
   "execution_count": 32,
   "metadata": {},
   "outputs": [
    {
     "data": {
      "text/plain": [
       "(46368, 38413, 36563)"
      ]
     },
     "execution_count": 32,
     "metadata": {},
     "output_type": "execute_result"
    }
   ],
   "source": [
    "len(z0_andreas_df), len(z0_andreas_df[ z0_andreas_df['z0'] > 1e-8]), len(z0_andreas_df[ (z0_andreas_df['z0'] > 1e-8) & (z0_andreas_df['z0'] < 0.1)])"
   ]
  },
  {
   "cell_type": "code",
   "execution_count": 33,
   "metadata": {},
   "outputs": [
    {
     "data": {
      "application/vnd.vegalite.v5+json": {
       "$schema": "https://vega.github.io/schema/vega-lite/v5.16.3.json",
       "config": {
        "view": {
         "continuousHeight": 300,
         "continuousWidth": 300
        }
       },
       "data": {
        "format": {
         "type": "json"
        },
        "url": "altair-data-5849fb294ac65a12aacad606d2e00c75.json"
       },
       "encoding": {
        "x": {
         "field": "time",
         "type": "temporal"
        },
        "y": {
         "field": "z0",
         "scale": {
          "type": "log"
         },
         "type": "quantitative"
        }
       },
       "height": 100,
       "mark": {
        "type": "circle"
       },
       "width": 400
      },
      "text/plain": [
       "<VegaLite 5 object>\n",
       "\n",
       "If you see this message, it means the renderer has not been properly enabled\n",
       "for the frontend that you are using. For more information, see\n",
       "https://altair-viz.github.io/user_guide/display_frontends.html#troubleshooting\n"
      ]
     },
     "execution_count": 33,
     "metadata": {},
     "output_type": "execute_result"
    }
   ],
   "source": [
    "alt.Chart(\n",
    "    z0_andreas_df\n",
    ").mark_circle().encode(\n",
    "    alt.X('time:T'),\n",
    "    alt.Y(\"z0:Q\").scale(type='log'),\n",
    ").properties(height = 100, width = 400)"
   ]
  },
  {
   "cell_type": "code",
   "execution_count": 34,
   "metadata": {},
   "outputs": [
    {
     "data": {
      "application/vnd.vegalite.v5+json": {
       "$schema": "https://vega.github.io/schema/vega-lite/v5.16.3.json",
       "config": {
        "view": {
         "continuousHeight": 300,
         "continuousWidth": 300
        }
       },
       "data": {
        "format": {
         "type": "json"
        },
        "url": "altair-data-d21165f600bde3b7dfedaa7a43ebeb42.json"
       },
       "encoding": {
        "x": {
         "field": "time",
         "type": "temporal"
        },
        "y": {
         "field": "z0",
         "scale": {
          "type": "log"
         },
         "type": "quantitative"
        }
       },
       "height": 100,
       "mark": {
        "type": "circle"
       },
       "width": 400
      },
      "text/plain": [
       "<VegaLite 5 object>\n",
       "\n",
       "If you see this message, it means the renderer has not been properly enabled\n",
       "for the frontend that you are using. For more information, see\n",
       "https://altair-viz.github.io/user_guide/display_frontends.html#troubleshooting\n"
      ]
     },
     "execution_count": 34,
     "metadata": {},
     "output_type": "execute_result"
    }
   ],
   "source": [
    "alt.Chart(\n",
    "    z0_andreas_df[ \n",
    "        (z0_andreas_df['z0'] > 1e-8) & (z0_andreas_df['z0'] < 0.1)\n",
    "    ].set_index('time').groupby(\n",
    "        pd.Grouper(freq='60Min')\n",
    "    ).median().reset_index()\n",
    ").mark_circle().encode(\n",
    "    alt.X('time:T'),\n",
    "    alt.Y(\"z0:Q\").scale(type='log'),\n",
    ").properties(height = 100, width = 400)"
   ]
  },
  {
   "cell_type": "code",
   "execution_count": 35,
   "metadata": {},
   "outputs": [
    {
     "data": {
      "text/plain": [
       "z0     1.591028e-04\n",
       "z0T    3.999040e-07\n",
       "z0q    1.819003e-01\n",
       "dtype: float64"
      ]
     },
     "execution_count": 35,
     "metadata": {},
     "output_type": "execute_result"
    }
   ],
   "source": [
    "z0_andreas_df.set_index('time').median()"
   ]
  },
  {
   "cell_type": "code",
   "execution_count": 61,
   "metadata": {},
   "outputs": [
    {
     "data": {
      "text/plain": [
       "z0     2.041763e-04\n",
       "z0T    7.079812e-07\n",
       "z0q    2.247612e-01\n",
       "dtype: float64"
      ]
     },
     "execution_count": 61,
     "metadata": {},
     "output_type": "execute_result"
    }
   ],
   "source": [
    "z0_andreas_df.set_index('time').median()"
   ]
  },
  {
   "cell_type": "code",
   "execution_count": 62,
   "metadata": {},
   "outputs": [
    {
     "data": {
      "text/plain": [
       "z0     1.576713e-02\n",
       "z0T             inf\n",
       "z0q    3.010954e+44\n",
       "dtype: float64"
      ]
     },
     "execution_count": 62,
     "metadata": {},
     "output_type": "execute_result"
    }
   ],
   "source": [
    "z0_andreas_df.set_index('time').mean()"
   ]
  },
  {
   "cell_type": "code",
   "execution_count": 63,
   "metadata": {},
   "outputs": [],
   "source": [
    "complex_z0_values_chart = alt.Chart(\n",
    "    z0_andreas_df_weekly\n",
    ").mark_circle(size=100, color='red', opacity=0.5).encode(\n",
    "    alt.X(\"time:T\"),\n",
    "    alt.Y(\"z0\").scale(type='log')\n",
    ") + alt.Chart(\n",
    "    z0_andreas_df_weekly\n",
    ").mark_bar(width=1).encode(\n",
    "    alt.X(\"time:T\"),\n",
    "    alt.Y(\"z0\").scale(type='log')\n",
    ").properties(height = 100)"
   ]
  },
  {
   "cell_type": "code",
   "execution_count": 66,
   "metadata": {},
   "outputs": [
    {
     "data": {
      "application/vnd.vegalite.v5+json": {
       "$schema": "https://vega.github.io/schema/vega-lite/v5.16.3.json",
       "config": {
        "view": {
         "continuousHeight": 300,
         "continuousWidth": 300
        }
       },
       "hconcat": [
        {
         "data": {
          "format": {
           "type": "json"
          },
          "url": "altair-data-c30afd17598233f623752f672f175da6.json"
         },
         "height": 100,
         "layer": [
          {
           "encoding": {
            "x": {
             "field": "time",
             "type": "temporal"
            },
            "y": {
             "field": "z0_3m_c",
             "scale": {
              "type": "log"
             },
             "type": "quantitative"
            }
           },
           "mark": {
            "size": 100,
            "type": "circle"
           }
          },
          {
           "encoding": {
            "x": {
             "field": "time",
             "type": "temporal"
            },
            "y": {
             "field": "z0_3m_c",
             "scale": {
              "type": "log"
             },
             "type": "quantitative"
            }
           },
           "mark": {
            "type": "bar",
            "width": 1
           }
          }
         ],
         "title": "Basic method"
        },
        {
         "data": {
          "format": {
           "type": "json"
          },
          "url": "altair-data-c6c013989a30e9330f4d619e2c97625b.json"
         },
         "height": 100,
         "layer": [
          {
           "encoding": {
            "x": {
             "field": "time",
             "type": "temporal"
            },
            "y": {
             "field": "z0",
             "scale": {
              "type": "log"
             },
             "type": "quantitative"
            }
           },
           "mark": {
            "color": "red",
            "opacity": 0.5,
            "size": 100,
            "type": "circle"
           }
          },
          {
           "encoding": {
            "x": {
             "field": "time",
             "type": "temporal"
            },
            "y": {
             "field": "z0",
             "scale": {
              "type": "log"
             },
             "type": "quantitative"
            }
           },
           "mark": {
            "type": "bar",
            "width": 1
           }
          }
         ],
         "title": "Complex method"
        }
       ],
       "resolve": {
        "scale": {
         "y": "shared"
        }
       }
      },
      "text/plain": [
       "<VegaLite 5 object>\n",
       "\n",
       "If you see this message, it means the renderer has not been properly enabled\n",
       "for the frontend that you are using. For more information, see\n",
       "https://altair-viz.github.io/user_guide/display_frontends.html#troubleshooting\n"
      ]
     },
     "execution_count": 66,
     "metadata": {},
     "output_type": "execute_result"
    }
   ],
   "source": [
    "(   \n",
    "    basic_z0_values_chart.properties(title='Basic method') \n",
    "    | \n",
    "    complex_z0_values_chart.properties(title='Complex method')   \n",
    ").resolve_scale(y='shared')"
   ]
  },
  {
   "cell_type": "code",
   "execution_count": 67,
   "metadata": {},
   "outputs": [
    {
     "data": {
      "application/vnd.vegalite.v5+json": {
       "$schema": "https://vega.github.io/schema/vega-lite/v5.16.3.json",
       "config": {
        "view": {
         "continuousHeight": 300,
         "continuousWidth": 300
        }
       },
       "data": {
        "format": {
         "type": "json"
        },
        "url": "altair-data-c6c013989a30e9330f4d619e2c97625b.json"
       },
       "layer": [
        {
         "encoding": {
          "x": {
           "field": "time",
           "type": "temporal"
          },
          "y": {
           "field": "z0",
           "scale": {
            "type": "log"
           },
           "type": "quantitative"
          }
         },
         "mark": {
          "color": "black",
          "opacity": 0.5,
          "size": 100,
          "type": "circle"
         }
        },
        {
         "encoding": {
          "x": {
           "field": "time",
           "type": "temporal"
          },
          "y": {
           "field": "z0T",
           "scale": {
            "type": "log"
           },
           "type": "quantitative"
          }
         },
         "mark": {
          "color": "red",
          "opacity": 0.5,
          "size": 100,
          "type": "circle"
         }
        },
        {
         "encoding": {
          "x": {
           "field": "time",
           "type": "temporal"
          },
          "y": {
           "field": "z0q",
           "scale": {
            "type": "log"
           },
           "type": "quantitative"
          }
         },
         "mark": {
          "color": "blue",
          "opacity": 0.5,
          "size": 100,
          "type": "circle"
         }
        }
       ]
      },
      "text/plain": [
       "<VegaLite 5 object>\n",
       "\n",
       "If you see this message, it means the renderer has not been properly enabled\n",
       "for the frontend that you are using. For more information, see\n",
       "https://altair-viz.github.io/user_guide/display_frontends.html#troubleshooting\n"
      ]
     },
     "execution_count": 67,
     "metadata": {},
     "output_type": "execute_result"
    }
   ],
   "source": [
    "alt.Chart(\n",
    "    z0_andreas_df_weekly\n",
    ").mark_circle(size=100, color='black', opacity=0.5).encode(\n",
    "    alt.X(\"time:T\"),\n",
    "    alt.Y(\"z0\").scale(type='log')\n",
    ") + alt.Chart(\n",
    "    z0_andreas_df_weekly\n",
    ").mark_circle(size=100, color='red', opacity=0.5).encode(\n",
    "    alt.X(\"time:T\"),\n",
    "    alt.Y(\"z0T\").scale(type='log')\n",
    ") + alt.Chart(\n",
    "    z0_andreas_df_weekly\n",
    ").mark_circle(size=100, color='blue', opacity=0.5).encode(\n",
    "    alt.X(\"time:T\"),\n",
    "    alt.Y(\"z0q\").scale(type='log')\n",
    ")"
   ]
  },
  {
   "cell_type": "code",
   "execution_count": 68,
   "metadata": {},
   "outputs": [
    {
     "data": {
      "application/vnd.vegalite.v5+json": {
       "$schema": "https://vega.github.io/schema/vega-lite/v5.16.3.json",
       "config": {
        "view": {
         "continuousHeight": 300,
         "continuousWidth": 300
        }
       },
       "data": {
        "format": {
         "type": "json"
        },
        "url": "altair-data-c30afd17598233f623752f672f175da6.json"
       },
       "height": 100,
       "layer": [
        {
         "encoding": {
          "x": {
           "field": "time",
           "type": "temporal"
          },
          "y": {
           "field": "z0_3m_c",
           "scale": {
            "type": "log"
           },
           "type": "quantitative"
          }
         },
         "mark": {
          "size": 100,
          "type": "circle"
         }
        },
        {
         "encoding": {
          "x": {
           "field": "time",
           "type": "temporal"
          },
          "y": {
           "field": "z0_3m_c",
           "scale": {
            "type": "log"
           },
           "type": "quantitative"
          }
         },
         "mark": {
          "type": "bar",
          "width": 1
         }
        },
        {
         "data": {
          "format": {
           "type": "json"
          },
          "url": "altair-data-c6c013989a30e9330f4d619e2c97625b.json"
         },
         "layer": [
          {
           "encoding": {
            "x": {
             "field": "time",
             "type": "temporal"
            },
            "y": {
             "field": "z0",
             "scale": {
              "type": "log"
             },
             "type": "quantitative"
            }
           },
           "mark": {
            "color": "red",
            "opacity": 0.5,
            "size": 100,
            "type": "circle"
           }
          },
          {
           "encoding": {
            "x": {
             "field": "time",
             "type": "temporal"
            },
            "y": {
             "field": "z0",
             "scale": {
              "type": "log"
             },
             "type": "quantitative"
            }
           },
           "mark": {
            "type": "bar",
            "width": 1
           }
          }
         ],
         "title": "Complex method"
        }
       ],
       "resolve": {
        "scale": {
         "y": "shared"
        }
       },
       "title": "Basic method"
      },
      "text/plain": [
       "<VegaLite 5 object>\n",
       "\n",
       "If you see this message, it means the renderer has not been properly enabled\n",
       "for the frontend that you are using. For more information, see\n",
       "https://altair-viz.github.io/user_guide/display_frontends.html#troubleshooting\n"
      ]
     },
     "execution_count": 68,
     "metadata": {},
     "output_type": "execute_result"
    }
   ],
   "source": [
    "(   \n",
    "    basic_z0_values_chart.properties(title='Basic method') \n",
    "    + \n",
    "    complex_z0_values_chart.properties(title='Complex method')   \n",
    ").resolve_scale(y='shared')"
   ]
  },
  {
   "cell_type": "code",
   "execution_count": 70,
   "metadata": {},
   "outputs": [
    {
     "data": {
      "application/vnd.vegalite.v5+json": {
       "$schema": "https://vega.github.io/schema/vega-lite/v5.16.3.json",
       "config": {
        "view": {
         "continuousHeight": 300,
         "continuousWidth": 300
        }
       },
       "data": {
        "format": {
         "type": "json"
        },
        "url": "altair-data-c30afd17598233f623752f672f175da6.json"
       },
       "height": 100,
       "layer": [
        {
         "encoding": {
          "x": {
           "field": "time",
           "type": "temporal"
          },
          "y": {
           "field": "z0_3m_c",
           "scale": {
            "type": "log"
           },
           "type": "quantitative"
          }
         },
         "mark": {
          "size": 100,
          "type": "circle"
         }
        },
        {
         "encoding": {
          "x": {
           "field": "time",
           "type": "temporal"
          },
          "y": {
           "field": "z0_3m_c",
           "scale": {
            "type": "log"
           },
           "type": "quantitative"
          }
         },
         "mark": {
          "type": "bar",
          "width": 1
         }
        },
        {
         "data": {
          "format": {
           "type": "json"
          },
          "url": "altair-data-c6c013989a30e9330f4d619e2c97625b.json"
         },
         "layer": [
          {
           "encoding": {
            "x": {
             "field": "time",
             "type": "temporal"
            },
            "y": {
             "field": "z0",
             "scale": {
              "type": "log"
             },
             "type": "quantitative"
            }
           },
           "mark": {
            "color": "red",
            "opacity": 0.5,
            "size": 100,
            "type": "circle"
           }
          },
          {
           "encoding": {
            "x": {
             "field": "time",
             "type": "temporal"
            },
            "y": {
             "field": "z0",
             "scale": {
              "type": "log"
             },
             "type": "quantitative"
            }
           },
           "mark": {
            "type": "bar",
            "width": 1
           }
          }
         ],
         "title": "Complex method"
        }
       ],
       "resolve": {
        "scale": {
         "y": "shared"
        }
       },
       "title": "Basic method"
      },
      "text/plain": [
       "<VegaLite 5 object>\n",
       "\n",
       "If you see this message, it means the renderer has not been properly enabled\n",
       "for the frontend that you are using. For more information, see\n",
       "https://altair-viz.github.io/user_guide/display_frontends.html#troubleshooting\n"
      ]
     },
     "execution_count": 70,
     "metadata": {},
     "output_type": "execute_result"
    }
   ],
   "source": [
    "(   \n",
    "    basic_z0_values_chart.properties(title='Basic method') \n",
    "    + \n",
    "    complex_z0_values_chart.properties(title='Complex method')   \n",
    ").resolve_scale(y='shared')"
   ]
  },
  {
   "cell_type": "code",
   "execution_count": 71,
   "metadata": {},
   "outputs": [
    {
     "data": {
      "application/vnd.vegalite.v5+json": {
       "$schema": "https://vega.github.io/schema/vega-lite/v5.16.3.json",
       "config": {
        "view": {
         "continuousHeight": 300,
         "continuousWidth": 300
        }
       },
       "data": {
        "format": {
         "type": "json"
        },
        "url": "altair-data-22967b72edbe428d5e6b7577065e8f86.json"
       },
       "encoding": {
        "x": {
         "field": "z0 (simple)",
         "scale": {
          "type": "log"
         },
         "type": "quantitative"
        },
        "y": {
         "field": "z0 (Andreas)",
         "scale": {
          "type": "log"
         },
         "type": "quantitative"
        }
       },
       "mark": {
        "type": "circle"
       }
      },
      "text/plain": [
       "<VegaLite 5 object>\n",
       "\n",
       "If you see this message, it means the renderer has not been properly enabled\n",
       "for the frontend that you are using. For more information, see\n",
       "https://altair-viz.github.io/user_guide/display_frontends.html#troubleshooting\n"
      ]
     },
     "execution_count": 71,
     "metadata": {},
     "output_type": "execute_result"
    }
   ],
   "source": [
    "src = pd.merge(\n",
    "    z0_df_weekly.rename(columns={'z0_3m_c': 'z0 (simple)'}),\n",
    "    z0_andreas_df_weekly.rename(columns={'z0': 'z0 (Andreas)'}),\n",
    "    on='time'\n",
    ")\n",
    "alt.Chart(\n",
    "    src\n",
    ").mark_circle().encode(\n",
    "    alt.X(\"z0 (simple):Q\").scale(type='log'),\n",
    "    alt.Y(\"z0 (Andreas):Q\").scale(type='log'),\n",
    "    # tooltip = 'time:T'\n",
    ")"
   ]
  },
  {
   "cell_type": "markdown",
   "metadata": {},
   "source": [
    "Decent agreement between weekly z0 values calculated with the two methods, but don't line up too well"
   ]
  },
  {
   "cell_type": "code",
   "execution_count": 72,
   "metadata": {},
   "outputs": [],
   "source": [
    "from sklearn.metrics import r2_score"
   ]
  },
  {
   "cell_type": "code",
   "execution_count": 73,
   "metadata": {},
   "outputs": [
    {
     "data": {
      "application/vnd.vegalite.v5+json": {
       "$schema": "https://vega.github.io/schema/vega-lite/v5.16.3.json",
       "config": {
        "view": {
         "continuousHeight": 300,
         "continuousWidth": 300
        }
       },
       "data": {
        "format": {
         "type": "json"
        },
        "url": "altair-data-85dbf267a2ec0d1fcf5146d6919ed6c3.json"
       },
       "encoding": {
        "x": {
         "field": "z0 (simple)",
         "scale": {
          "type": "log"
         },
         "type": "quantitative"
        },
        "y": {
         "field": "z0 (Andreas)",
         "scale": {
          "type": "log"
         },
         "type": "quantitative"
        }
       },
       "height": 200,
       "mark": {
        "type": "circle"
       },
       "title": "r2 = 0.5583",
       "width": 200
      },
      "text/plain": [
       "<VegaLite 5 object>\n",
       "\n",
       "If you see this message, it means the renderer has not been properly enabled\n",
       "for the frontend that you are using. For more information, see\n",
       "https://altair-viz.github.io/user_guide/display_frontends.html#troubleshooting\n"
      ]
     },
     "execution_count": 73,
     "metadata": {},
     "output_type": "execute_result"
    }
   ],
   "source": [
    "src = pd.merge(\n",
    "    z0_df.rename(columns={'z0_3m_c': 'z0 (simple)'}),\n",
    "    z0_andreas_df.rename(columns={'z0': 'z0 (Andreas)'}),\n",
    "    on='time'\n",
    ")\n",
    "alt.Chart(\n",
    "    src\n",
    ").mark_circle().encode(\n",
    "    alt.X(\"z0 (simple):Q\").scale(type='log'),\n",
    "    alt.Y(\"z0 (Andreas):Q\").scale(type='log'),\n",
    "    # tooltip = 'time:T'\n",
    ").properties(\n",
    "    width = 200, \n",
    "    height=200, \n",
    "    title=f\"r2 = {\n",
    "        round(r2_score(src[\"z0 (simple)\"], src[\"z0 (Andreas)\"]), 4)\n",
    "    }\"\n",
    ")\n",
    "\n"
   ]
  },
  {
   "cell_type": "code",
   "execution_count": 74,
   "metadata": {},
   "outputs": [
    {
     "data": {
      "application/vnd.vegalite.v5+json": {
       "$schema": "https://vega.github.io/schema/vega-lite/v5.16.3.json",
       "config": {
        "view": {
         "continuousHeight": 300,
         "continuousWidth": 300
        }
       },
       "data": {
        "format": {
         "type": "json"
        },
        "url": "altair-data-916f5fdcf447863a9467b330595dfa2d.json"
       },
       "encoding": {
        "tooltip": {
         "field": "day",
         "type": "temporal"
        },
        "x": {
         "field": "z0 (simple)",
         "scale": {
          "type": "linear"
         },
         "type": "quantitative"
        },
        "y": {
         "field": "z0 (Andreas)",
         "scale": {
          "type": "linear"
         },
         "type": "quantitative"
        }
       },
       "height": 200,
       "mark": {
        "type": "circle"
       },
       "title": "r2 = 0.5583",
       "width": 200
      },
      "text/plain": [
       "<VegaLite 5 object>\n",
       "\n",
       "If you see this message, it means the renderer has not been properly enabled\n",
       "for the frontend that you are using. For more information, see\n",
       "https://altair-viz.github.io/user_guide/display_frontends.html#troubleshooting\n"
      ]
     },
     "execution_count": 74,
     "metadata": {},
     "output_type": "execute_result"
    }
   ],
   "source": [
    "src['day'] = src.time.dt.date\n",
    "alt.Chart(\n",
    "    src\n",
    ").mark_circle().encode(\n",
    "    alt.X(\"z0 (simple):Q\").scale(type='linear'),\n",
    "    alt.Y(\"z0 (Andreas):Q\").scale(type='linear'),\n",
    "    tooltip = 'day:T'\n",
    ").properties(\n",
    "    width = 200, \n",
    "    height=200, \n",
    "    title=f\"r2 = {\n",
    "        round(r2_score(src[\"z0 (simple)\"], src[\"z0 (Andreas)\"]), 4)\n",
    "    }\"\n",
    ")\n",
    "\n"
   ]
  },
  {
   "cell_type": "code",
   "execution_count": 75,
   "metadata": {},
   "outputs": [],
   "source": [
    "src['diff'] = src['z0 (simple)'] = src[\"z0 (Andreas)\"]"
   ]
  },
  {
   "cell_type": "code",
   "execution_count": 76,
   "metadata": {},
   "outputs": [
    {
     "data": {
      "application/vnd.vegalite.v5+json": {
       "$schema": "https://vega.github.io/schema/vega-lite/v5.16.3.json",
       "config": {
        "view": {
         "continuousHeight": 300,
         "continuousWidth": 300
        }
       },
       "data": {
        "format": {
         "type": "json"
        },
        "url": "altair-data-acbed6fe5cb0e517c6a9e7940232142b.json"
       },
       "encoding": {
        "color": {
         "field": "key",
         "type": "nominal"
        },
        "x": {
         "field": "time",
         "type": "temporal"
        },
        "y": {
         "field": "value",
         "scale": {
          "type": "log"
         },
         "type": "quantitative"
        }
       },
       "mark": {
        "type": "circle"
       },
       "transform": [
        {
         "fold": [
          "z0 (simple)",
          "z0 (Andreas)"
         ]
        }
       ],
       "width": 1200
      },
      "text/plain": [
       "<VegaLite 5 object>\n",
       "\n",
       "If you see this message, it means the renderer has not been properly enabled\n",
       "for the frontend that you are using. For more information, see\n",
       "https://altair-viz.github.io/user_guide/display_frontends.html#troubleshooting\n"
      ]
     },
     "execution_count": 76,
     "metadata": {},
     "output_type": "execute_result"
    }
   ],
   "source": [
    "\n",
    "alt.Chart(\n",
    "    src\n",
    ").transform_fold(\n",
    "    [\"z0 (simple)\",     \"z0 (Andreas)\"]\n",
    ").mark_circle().encode(\n",
    "    alt.X(\"time:T\"),\n",
    "    alt.Y(\"value:Q\").scale(type='log'),\n",
    "    alt.Color(\"key:N\")\n",
    ").properties(width = 1200)"
   ]
  },
  {
   "cell_type": "markdown",
   "metadata": {},
   "source": [
    "Fantastic agreement between the 5-minute calculated z0 values. Note that the \"simple\" method has far fewer data points available"
   ]
  },
  {
   "cell_type": "code",
   "execution_count": 78,
   "metadata": {},
   "outputs": [
    {
     "data": {
      "application/vnd.vegalite.v5+json": {
       "$schema": "https://vega.github.io/schema/vega-lite/v5.16.3.json",
       "config": {
        "view": {
         "continuousHeight": 300,
         "continuousWidth": 300
        }
       },
       "data": {
        "format": {
         "type": "json"
        },
        "url": "altair-data-7cbf277df896d105d233a22329595470.json"
       },
       "encoding": {
        "x": {
         "field": "time",
         "type": "temporal"
        },
        "y": {
         "field": "z0",
         "scale": {
          "type": "log"
         },
         "type": "quantitative"
        }
       },
       "height": 100,
       "mark": {
        "size": 50,
        "type": "circle"
       }
      },
      "text/plain": [
       "<VegaLite 5 object>\n",
       "\n",
       "If you see this message, it means the renderer has not been properly enabled\n",
       "for the frontend that you are using. For more information, see\n",
       "https://altair-viz.github.io/user_guide/display_frontends.html#troubleshooting\n"
      ]
     },
     "metadata": {
      "application/vnd.vegalite.v5+json": {
       "embed_options": {
        "renderer": "svg"
       }
      }
     },
     "output_type": "display_data"
    }
   ],
   "source": [
    "\n",
    "\n",
    "alt.Chart(\n",
    "    z0_andreas_df.set_index('time').resample(\"1D\").median().reset_index()\n",
    ").mark_circle(size=50).encode(\n",
    "    alt.X(\"time:T\"),\n",
    "    alt.Y(\"z0\").scale(type='log')\n",
    ").properties(height = 100).display(renderer='svg')"
   ]
  },
  {
   "cell_type": "code",
   "execution_count": 79,
   "metadata": {},
   "outputs": [
    {
     "data": {
      "text/plain": [
       "[1e-07, 1e-06, 1e-05, 0.0001, 0.001, 0.01, 0.1]"
      ]
     },
     "execution_count": 79,
     "metadata": {},
     "output_type": "execute_result"
    }
   ],
   "source": [
    "logbins = []\n",
    "for power in [-7, -6, -5, -4, -3, -2, -1]:\n",
    "    logbins.append(1*10**power)\n",
    "    # logbins.append(5*10**power)\n",
    "logbins"
   ]
  },
  {
   "cell_type": "code",
   "execution_count": 80,
   "metadata": {},
   "outputs": [
    {
     "data": {
      "text/plain": [
       "Text(0.5, 1.0, 'Using bins [1e-07, 1e-06, 1e-05, 0.0001, 0.001, 0.01, 0.1]')"
      ]
     },
     "execution_count": 80,
     "metadata": {},
     "output_type": "execute_result"
    },
    {
     "data": {
      "image/png": "[encoded data removed]",
      "text/plain": [
       "<Figure size 640x480 with 1 Axes>"
      ]
     },
     "metadata": {},
     "output_type": "display_data"
    }
   ],
   "source": [
    "plt.hist(\n",
    "    z0_andreas_df['z0'],\n",
    "    bins=logbins\n",
    ")\n",
    "plt.xscale('log')\n",
    "plt.title(f\"Using bins {logbins}\")"
   ]
  },
  {
   "cell_type": "code",
   "execution_count": 82,
   "metadata": {},
   "outputs": [
    {
     "data": {
      "text/html": [
       "<div>\n",
       "<style scoped>\n",
       "    .dataframe tbody tr th:only-of-type {\n",
       "        vertical-align: middle;\n",
       "    }\n",
       "\n",
       "    .dataframe tbody tr th {\n",
       "        vertical-align: top;\n",
       "    }\n",
       "\n",
       "    .dataframe thead th {\n",
       "        text-align: right;\n",
       "    }\n",
       "</style>\n",
       "<table border=\"1\" class=\"dataframe\">\n",
       "  <thead>\n",
       "    <tr style=\"text-align: right;\">\n",
       "      <th></th>\n",
       "      <th>L_3m_c</th>\n",
       "      <th>ustar_3m_c</th>\n",
       "      <th>z0</th>\n",
       "      <th>z0T</th>\n",
       "      <th>z0q</th>\n",
       "      <th>stability</th>\n",
       "    </tr>\n",
       "    <tr>\n",
       "      <th>time</th>\n",
       "      <th></th>\n",
       "      <th></th>\n",
       "      <th></th>\n",
       "      <th></th>\n",
       "      <th></th>\n",
       "      <th></th>\n",
       "    </tr>\n",
       "  </thead>\n",
       "  <tbody>\n",
       "    <tr>\n",
       "      <th>2022-11-29 17:02:30</th>\n",
       "      <td>-16.815512</td>\n",
       "      <td>0.377098</td>\n",
       "      <td>0.075744</td>\n",
       "      <td>2039.184068</td>\n",
       "      <td>1.960734</td>\n",
       "      <td>unstable</td>\n",
       "    </tr>\n",
       "    <tr>\n",
       "      <th>2022-11-29 17:07:30</th>\n",
       "      <td>-4.879467</td>\n",
       "      <td>0.249449</td>\n",
       "      <td>0.019548</td>\n",
       "      <td>94.059692</td>\n",
       "      <td>1.315004</td>\n",
       "      <td>unstable</td>\n",
       "    </tr>\n",
       "    <tr>\n",
       "      <th>2022-11-29 17:12:30</th>\n",
       "      <td>-2.556141</td>\n",
       "      <td>0.265064</td>\n",
       "      <td>0.006610</td>\n",
       "      <td>12.491891</td>\n",
       "      <td>0.787284</td>\n",
       "      <td>unstable</td>\n",
       "    </tr>\n",
       "    <tr>\n",
       "      <th>2022-11-29 17:17:30</th>\n",
       "      <td>-2.655310</td>\n",
       "      <td>0.301103</td>\n",
       "      <td>0.005612</td>\n",
       "      <td>2.399159</td>\n",
       "      <td>0.933654</td>\n",
       "      <td>unstable</td>\n",
       "    </tr>\n",
       "    <tr>\n",
       "      <th>2022-11-29 17:22:30</th>\n",
       "      <td>-2.447218</td>\n",
       "      <td>0.375441</td>\n",
       "      <td>0.015312</td>\n",
       "      <td>0.966156</td>\n",
       "      <td>0.830087</td>\n",
       "      <td>unstable</td>\n",
       "    </tr>\n",
       "  </tbody>\n",
       "</table>\n",
       "</div>"
      ],
      "text/plain": [
       "                        L_3m_c  ustar_3m_c        z0          z0T       z0q  \\\n",
       "time                                                                          \n",
       "2022-11-29 17:02:30 -16.815512    0.377098  0.075744  2039.184068  1.960734   \n",
       "2022-11-29 17:07:30  -4.879467    0.249449  0.019548    94.059692  1.315004   \n",
       "2022-11-29 17:12:30  -2.556141    0.265064  0.006610    12.491891  0.787284   \n",
       "2022-11-29 17:17:30  -2.655310    0.301103  0.005612     2.399159  0.933654   \n",
       "2022-11-29 17:22:30  -2.447218    0.375441  0.015312     0.966156  0.830087   \n",
       "\n",
       "                    stability  \n",
       "time                           \n",
       "2022-11-29 17:02:30  unstable  \n",
       "2022-11-29 17:07:30  unstable  \n",
       "2022-11-29 17:12:30  unstable  \n",
       "2022-11-29 17:17:30  unstable  \n",
       "2022-11-29 17:22:30  unstable  "
      ]
     },
     "execution_count": 82,
     "metadata": {},
     "output_type": "execute_result"
    }
   ],
   "source": [
    "src = tidy_df_5Min.query(\"variable == 'L_3m_c'\").set_index('time').rename(\n",
    "    columns = {'value': 'L_3m_c'}\n",
    ")[['L_3m_c']].join(\n",
    "    tidy_df_5Min.query(\"variable == 'u*_3m_c'\").set_index('time').rename(\n",
    "        columns = {'value': 'ustar_3m_c'}\n",
    "    )[['ustar_3m_c']]\n",
    ").join(\n",
    "    z0_andreas_df.set_index('time')\n",
    ")\n",
    "# positive - stable\n",
    "# negative - unstable\n",
    "src['stability'] = src['L_3m_c'].apply(lambda L: 'stable' if L > 0 else 'unstable')\n",
    "src.head()"
   ]
  },
  {
   "cell_type": "code",
   "execution_count": 83,
   "metadata": {},
   "outputs": [
    {
     "data": {
      "application/vnd.vegalite.v5+json": {
       "$schema": "https://vega.github.io/schema/vega-lite/v5.16.3.json",
       "config": {
        "axis": {
         "grid": false
        },
        "view": {
         "continuousHeight": 300,
         "continuousWidth": 300
        }
       },
       "layer": [
        {
         "data": {
          "format": {
           "type": "json"
          },
          "url": "altair-data-b4cb55470713fdb965b37befc522fbc3.json"
         },
         "encoding": {
          "x": {
           "field": "ustar_3m_c",
           "title": "u* at 3 meters on tower c",
           "type": "quantitative"
          },
          "y": {
           "field": "z0",
           "scale": {
            "type": "log"
           },
           "title": "Measured z_0 (m)",
           "type": "quantitative"
          }
         },
         "mark": {
          "opacity": 0.25,
          "size": 3,
          "type": "circle"
         }
        },
        {
         "data": {
          "format": {
           "type": "json"
          },
          "url": "altair-data-b4cb55470713fdb965b37befc522fbc3.json"
         },
         "encoding": {
          "x": {
           "bin": {
            "maxbins": 35
           },
           "field": "ustar_3m_c",
           "title": "u* at 3 meters on tower c",
           "type": "quantitative"
          },
          "y": {
           "field": "z0",
           "scale": {
            "type": "log"
           },
           "title": "Measured z_0 (m)",
           "type": "quantitative"
          }
         },
         "mark": {
          "color": "black",
          "extent": "min-max",
          "opacity": 0.5,
          "type": "boxplot"
         }
        }
       ]
      },
      "text/plain": [
       "<VegaLite 5 object>\n",
       "\n",
       "If you see this message, it means the renderer has not been properly enabled\n",
       "for the frontend that you are using. For more information, see\n",
       "https://altair-viz.github.io/user_guide/display_frontends.html#troubleshooting\n"
      ]
     },
     "execution_count": 83,
     "metadata": {},
     "output_type": "execute_result"
    }
   ],
   "source": [
    "(\n",
    "# Chart 1\n",
    "alt.Chart(\n",
    "    src.query(\"ustar_3m_c < 0.7\").query(\"z0 > 0.00000001\")\n",
    ").mark_circle(\n",
    "    size=3,\n",
    "    opacity=0.25\n",
    ").encode(\n",
    "    alt.X(\"ustar_3m_c\").title(\"u* at 3 meters on tower c\"),\n",
    "    alt.Y(\"z0\").title(\"Measured z_0 (m)\").scale(type='log')\n",
    ") +\n",
    "# Chart 2\n",
    "alt.Chart(\n",
    "    src.query(\"ustar_3m_c < 0.7\").query(\"z0 > 0.00000001\")\n",
    ").mark_boxplot(\n",
    "    opacity=0.5,\n",
    "    color='black', \n",
    "    extent='min-max'\n",
    ").encode(\n",
    "    alt.X(\"ustar_3m_c\").title(\"u* at 3 meters on tower c\").bin(maxbins=35),\n",
    "    alt.Y(\"z0\").title(\"Measured z_0 (m)\").scale(type='log')\n",
    ")\n",
    ").configure_axis(grid=False)"
   ]
  },
  {
   "cell_type": "code",
   "execution_count": 85,
   "metadata": {},
   "outputs": [
    {
     "data": {
      "application/vnd.vegalite.v5+json": {
       "$schema": "https://vega.github.io/schema/vega-lite/v5.16.3.json",
       "config": {
        "view": {
         "continuousHeight": 300,
         "continuousWidth": 300
        }
       },
       "data": {
        "format": {
         "type": "json"
        },
        "url": "altair-data-b4cb55470713fdb965b37befc522fbc3.json"
       },
       "facet": {
        "field": "stability",
        "type": "nominal"
       },
       "spec": {
        "layer": [
         {
          "layer": [
           {
            "encoding": {
             "x": {
              "field": "ustar_3m_c",
              "title": "u* at 3 meters on tower c",
              "type": "quantitative"
             },
             "y": {
              "field": "z0",
              "scale": {
               "type": "log"
              },
              "title": "Measured z_0 (m)",
              "type": "quantitative"
             }
            },
            "mark": {
             "opacity": 0.25,
             "size": 3,
             "type": "circle"
            }
           },
           {
            "encoding": {
             "x": {
              "bin": {
               "maxbins": 35
              },
              "field": "ustar_3m_c",
              "title": "u* at 3 meters on tower c",
              "type": "quantitative"
             },
             "y": {
              "field": "z0",
              "scale": {
               "type": "log"
              },
              "title": "Measured z_0 (m)",
              "type": "quantitative"
             }
            },
            "mark": {
             "color": "black",
             "extent": "min-max",
             "opacity": 0.5,
             "type": "boxplot"
            }
           }
          ]
         }
        ]
       }
      },
      "text/plain": [
       "<VegaLite 5 object>\n",
       "\n",
       "If you see this message, it means the renderer has not been properly enabled\n",
       "for the frontend that you are using. For more information, see\n",
       "https://altair-viz.github.io/user_guide/display_frontends.html#troubleshooting\n"
      ]
     },
     "execution_count": 85,
     "metadata": {},
     "output_type": "execute_result"
    }
   ],
   "source": [
    "alt.layer(\n",
    "    alt.Chart().mark_circle(\n",
    "        size=3,\n",
    "        opacity=0.25\n",
    "    ).encode(\n",
    "        alt.X(\"ustar_3m_c\").title(\"u* at 3 meters on tower c\"),\n",
    "        alt.Y(\"z0\").title(\"Measured z_0 (m)\").scale(type='log')\n",
    "    ) +\n",
    "    # Chart 2\n",
    "    alt.Chart().mark_boxplot(\n",
    "        opacity=0.5,\n",
    "        color='black', \n",
    "        extent='min-max'\n",
    "    ).encode(\n",
    "        alt.X(\"ustar_3m_c\").title(\"u* at 3 meters on tower c\").bin(maxbins=35),\n",
    "        alt.Y(\"z0\").title(\"Measured z_0 (m)\").scale(type='log')\n",
    "    ),\n",
    "    data = src.query(\"ustar_3m_c < 0.7\").query(\"z0 > 0.00000001\")\n",
    ").facet(\"stability\")"
   ]
  },
  {
   "cell_type": "code",
   "execution_count": 86,
   "metadata": {},
   "outputs": [
    {
     "data": {
      "application/vnd.vegalite.v5+json": {
       "$schema": "https://vega.github.io/schema/vega-lite/v5.16.3.json",
       "config": {
        "axis": {
         "grid": false
        },
        "view": {
         "continuousHeight": 300,
         "continuousWidth": 300
        }
       },
       "layer": [
        {
         "data": {
          "format": {
           "type": "json"
          },
          "url": "altair-data-34d200cf38895a58fcb5fbf5e66cc77f.json"
         },
         "encoding": {
          "x": {
           "field": "ustar_3m_c",
           "title": "u* at 3 meters on tower c",
           "type": "quantitative"
          },
          "y": {
           "field": "z0",
           "scale": {
            "type": "log"
           },
           "title": "Measured z_0 (m)",
           "type": "quantitative"
          }
         },
         "mark": {
          "opacity": 0.25,
          "size": 3,
          "type": "circle"
         }
        },
        {
         "data": {
          "format": {
           "type": "json"
          },
          "url": "altair-data-34d200cf38895a58fcb5fbf5e66cc77f.json"
         },
         "encoding": {
          "x": {
           "bin": {
            "maxbins": 35
           },
           "field": "ustar_3m_c",
           "title": "u* at 3 meters on tower c",
           "type": "quantitative"
          },
          "y": {
           "field": "z0",
           "scale": {
            "type": "log"
           },
           "title": "Measured z_0 (m)",
           "type": "quantitative"
          }
         },
         "mark": {
          "color": "black",
          "extent": "min-max",
          "opacity": 0.5,
          "type": "boxplot"
         }
        }
       ]
      },
      "text/plain": [
       "<VegaLite 5 object>\n",
       "\n",
       "If you see this message, it means the renderer has not been properly enabled\n",
       "for the frontend that you are using. For more information, see\n",
       "https://altair-viz.github.io/user_guide/display_frontends.html#troubleshooting\n"
      ]
     },
     "execution_count": 86,
     "metadata": {},
     "output_type": "execute_result"
    }
   ],
   "source": [
    "(\n",
    "# Chart 1\n",
    "alt.Chart(\n",
    "    src.query(\"stability == 'unstable'\").query(\"ustar_3m_c < 0.7\").query(\"z0 > 0.00000001\")\n",
    ").mark_circle(\n",
    "    size=3,\n",
    "    opacity=0.25\n",
    ").encode(\n",
    "    alt.X(\"ustar_3m_c\").title(\"u* at 3 meters on tower c\"),\n",
    "    alt.Y(\"z0\").title(\"Measured z_0 (m)\").scale(type='log')\n",
    ") +\n",
    "# Chart 2\n",
    "alt.Chart(\n",
    "    src.query(\"stability == 'unstable'\").query(\"ustar_3m_c < 0.7\").query(\"z0 > 0.00000001\")\n",
    ").mark_boxplot(\n",
    "    opacity=0.5,\n",
    "    color='black', \n",
    "    extent='min-max'\n",
    ").encode(\n",
    "    alt.X(\"ustar_3m_c\").title(\"u* at 3 meters on tower c\").bin(maxbins=35),\n",
    "    alt.Y(\"z0\").title(\"Measured z_0 (m)\").scale(type='log')\n",
    ")\n",
    ").configure_axis(grid=False)"
   ]
  },
  {
   "cell_type": "code",
   "execution_count": 87,
   "metadata": {},
   "outputs": [
    {
     "name": "stderr",
     "output_type": "stream",
     "text": [
      "/tmp/ipykernel_17575/620765223.py:4: FutureWarning: The default of observed=False is deprecated and will be changed to True in a future version of pandas. Pass observed=False to retain current behavior or observed=True to adopt the future default and silence this warning.\n",
      "  gmeans = pd.DataFrame(src.groupby('ustar_3m_c bin')['z0'].apply(lambda x: stats.gmean(x))).reset_index()\n",
      "/tmp/ipykernel_17575/620765223.py:6: FutureWarning: The default of observed=False is deprecated and will be changed to True in a future version of pandas. Pass observed=False to retain current behavior or observed=True to adopt the future default and silence this warning.\n",
      "  gmeans_stable = pd.DataFrame(src.query(\"L_3m_c > 0\").groupby('ustar_3m_c bin')['z0'].apply(lambda x: stats.gmean(x))).reset_index()\n",
      "/tmp/ipykernel_17575/620765223.py:7: FutureWarning: The default of observed=False is deprecated and will be changed to True in a future version of pandas. Pass observed=False to retain current behavior or observed=True to adopt the future default and silence this warning.\n",
      "  gmeans_unstable = pd.DataFrame(src.query(\"L_3m_c < 0\").groupby('ustar_3m_c bin')['z0'].apply(lambda x: stats.gmean(x))).reset_index()\n"
     ]
    }
   ],
   "source": [
    "src['ustar_3m_c bin'] = pd.cut(src['ustar_3m_c'], np.arange(0.0, 0.7, 0.02))\n",
    "src['ustar_3m_c bin'] = src['ustar_3m_c bin'].apply(lambda x: x.left+0.01)\n",
    "import scipy.stats as stats\n",
    "gmeans = pd.DataFrame(src.groupby('ustar_3m_c bin')['z0'].apply(lambda x: stats.gmean(x))).reset_index()\n",
    "\n",
    "gmeans_stable = pd.DataFrame(src.query(\"L_3m_c > 0\").groupby('ustar_3m_c bin')['z0'].apply(lambda x: stats.gmean(x))).reset_index()\n",
    "gmeans_unstable = pd.DataFrame(src.query(\"L_3m_c < 0\").groupby('ustar_3m_c bin')['z0'].apply(lambda x: stats.gmean(x))).reset_index()"
   ]
  },
  {
   "cell_type": "code",
   "execution_count": 88,
   "metadata": {},
   "outputs": [
    {
     "data": {
      "application/vnd.vegalite.v5+json": {
       "$schema": "https://vega.github.io/schema/vega-lite/v5.16.3.json",
       "config": {
        "view": {
         "continuousHeight": 300,
         "continuousWidth": 300
        }
       },
       "hconcat": [
        {
         "layer": [
          {
           "data": {
            "format": {
             "type": "json"
            },
            "url": "altair-data-fe48d3fc8a4c87f792cb4c6af1c4796d.json"
           },
           "encoding": {
            "x": {
             "field": "ustar_3m_c",
             "title": "u* at 3 meters on tower c",
             "type": "quantitative"
            },
            "y": {
             "field": "z0",
             "scale": {
              "type": "log"
             },
             "title": "Measured z_0 (m)",
             "type": "quantitative"
            }
           },
           "mark": {
            "opacity": 0.25,
            "size": 3,
            "type": "circle"
           }
          },
          {
           "data": {
            "format": {
             "type": "json"
            },
            "url": "altair-data-9ab739e1b0d10fd5104a03b309e477f7.json"
           },
           "encoding": {
            "x": {
             "field": "ustar_3m_c bin",
             "type": "quantitative"
            },
            "y": {
             "field": "z0",
             "scale": {
              "type": "log"
             },
             "type": "quantitative"
            }
           },
           "mark": {
            "type": "circle"
           }
          }
         ],
         "title": "Stable"
        },
        {
         "layer": [
          {
           "data": {
            "format": {
             "type": "json"
            },
            "url": "altair-data-4a90c246e2c8c25c96f35fb370f08a91.json"
           },
           "encoding": {
            "x": {
             "field": "ustar_3m_c",
             "title": "u* at 3 meters on tower c",
             "type": "quantitative"
            },
            "y": {
             "field": "z0",
             "scale": {
              "type": "log"
             },
             "title": "Measured z_0 (m)",
             "type": "quantitative"
            }
           },
           "mark": {
            "opacity": 0.25,
            "size": 3,
            "type": "circle"
           }
          },
          {
           "data": {
            "format": {
             "type": "json"
            },
            "url": "altair-data-7e6df6ec69d856fb0feac41d1d0f6a8a.json"
           },
           "encoding": {
            "x": {
             "field": "ustar_3m_c bin",
             "type": "quantitative"
            },
            "y": {
             "field": "z0",
             "scale": {
              "type": "log"
             },
             "type": "quantitative"
            }
           },
           "mark": {
            "type": "circle"
           }
          }
         ],
         "title": "Unstable"
        }
       ],
       "resolve": {
        "scale": {
         "x": "shared",
         "y": "shared"
        }
       }
      },
      "text/plain": [
       "<VegaLite 5 object>\n",
       "\n",
       "If you see this message, it means the renderer has not been properly enabled\n",
       "for the frontend that you are using. For more information, see\n",
       "https://altair-viz.github.io/user_guide/display_frontends.html#troubleshooting\n"
      ]
     },
     "execution_count": 88,
     "metadata": {},
     "output_type": "execute_result"
    }
   ],
   "source": [
    "(\n",
    "    (\n",
    "        alt.Chart(\n",
    "            src.query(\"L_3m_c > 0\").query(\"ustar_3m_c < 0.7\").query(\"z0 > 0.00000001\")\n",
    "        ).mark_circle(\n",
    "            size=3,\n",
    "            opacity=0.25\n",
    "        ).encode(\n",
    "            alt.X(\"ustar_3m_c\").title(\"u* at 3 meters on tower c\"),\n",
    "            alt.Y(\"z0\").title(\"Measured z_0 (m)\").scale(type='log')\n",
    "        ) +\\\n",
    "        alt.Chart(gmeans_stable).mark_circle().encode(\n",
    "            alt.X(\"ustar_3m_c bin:Q\"),\n",
    "            alt.Y(\"z0\").scale(type='log')\n",
    "        )\n",
    "    ).properties(title='Stable') | (\n",
    "        alt.Chart(\n",
    "            src.query(\"L_3m_c < 0\").query(\"ustar_3m_c < 0.7\").query(\"z0 > 0.00000001\")\n",
    "        ).mark_circle(\n",
    "            size=3,\n",
    "            opacity=0.25\n",
    "        ).encode(\n",
    "            alt.X(\"ustar_3m_c\").title(\"u* at 3 meters on tower c\"),\n",
    "            alt.Y(\"z0\").title(\"Measured z_0 (m)\").scale(type='log')\n",
    "        ) +\\\n",
    "        alt.Chart(gmeans_unstable).mark_circle().encode(\n",
    "            alt.X(\"ustar_3m_c bin:Q\"),\n",
    "            alt.Y(\"z0\").scale(type='log')\n",
    "        )\n",
    "    ).properties(title=\"Unstable\")\n",
    ").resolve_scale(y='shared', x='shared')"
   ]
  },
  {
   "cell_type": "markdown",
   "metadata": {},
   "source": [
    "# Save roughness length values"
   ]
  },
  {
   "cell_type": "code",
   "execution_count": null,
   "metadata": {},
   "outputs": [],
   "source": [
    "z0_andreas_df.to_parquet(\"z0estimates/z0_andreas_df.parquet\")\n",
    "z0_andreas_df_weekly.to_parquet(\"z0estimates/z0_andreas_df_weekly.parquet\")\n",
    "z0_df.to_parquet(\"z0estimates/z0_df.parquet\")\n",
    "z0_df_weekly.to_parquet(\"z0estimates/z0_df_weekly.parquet\")"
   ]
  },
  {
   "cell_type": "code",
   "execution_count": null,
   "metadata": {},
   "outputs": [],
   "source": []
  }
 ],
 "metadata": {
  "kernelspec": {
   "display_name": "arm",
   "language": "python",
   "name": "python3"
  },
  "language_info": {
   "codemirror_mode": {
    "name": "ipython",
    "version": 3
   },
   "file_extension": ".py",
   "mimetype": "text/x-python",
   "name": "python",
   "nbconvert_exporter": "python",
   "pygments_lexer": "ipython3",
   "version": "3.12.1"
  }
 },
 "nbformat": 4,
 "nbformat_minor": 2
}
