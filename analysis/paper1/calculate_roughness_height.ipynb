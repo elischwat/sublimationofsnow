{
 "cells": [
  {
   "cell_type": "code",
   "execution_count": 1,
   "metadata": {},
   "outputs": [
    {
     "data": {
      "text/plain": [
       "RendererRegistry.enable('jupyterlab')"
      ]
     },
     "execution_count": 1,
     "metadata": {},
     "output_type": "execute_result"
    }
   ],
   "source": [
    "import numpy as np\n",
    "import pandas as pd\n",
    "\n",
    "import matplotlib.pyplot as plt\n",
    "import altair as alt\n",
    "alt.data_transformers.enable('json')\n",
    "alt.renderers.enable('jupyterlab')"
   ]
  },
  {
   "cell_type": "markdown",
   "metadata": {},
   "source": [
    "# User inputs"
   ]
  },
  {
   "cell_type": "code",
   "execution_count": 2,
   "metadata": {},
   "outputs": [],
   "source": [
    "start_date = '20221130'\n",
    "end_date = '20230509'\n",
    "tidy_dataset_fn = f\"tidy_df_{start_date}_{end_date}_noplanar_fit_clean.parquet\""
   ]
  },
  {
   "cell_type": "markdown",
   "metadata": {},
   "source": [
    "# Load data"
   ]
  },
  {
   "cell_type": "code",
   "execution_count": 3,
   "metadata": {},
   "outputs": [],
   "source": [
    "try:\n",
    "    tidy_df = pd.read_parquet(\n",
    "        tidy_dataset_fn\n",
    "    )\n",
    "except FileNotFoundError:\n",
    "    print(\"No file such file exists for these dates.\")\n",
    "tidy_df['time'] = pd.to_datetime(tidy_df['time'])"
   ]
  },
  {
   "cell_type": "code",
   "execution_count": 4,
   "metadata": {},
   "outputs": [],
   "source": [
    "# data = tidy_df.query(\"variable == 'T_3m_c'\").set_index('time')['value']\n",
    "# na_groups = data.notna().cumsum()[data.isna()]\n",
    "# t_lengths_consecutive_na = na_groups.groupby(na_groups).agg(len)\n",
    "\n",
    "# data = tidy_df.query(\"variable == 'RH_3m_c'\").set_index('time')['value']\n",
    "# na_groups = data.notna().cumsum()[data.isna()]\n",
    "# rh_lengths_consecutive_na = na_groups.groupby(na_groups).agg(len)"
   ]
  },
  {
   "cell_type": "markdown",
   "metadata": {},
   "source": [
    "# Examine pot. virtual temperature gradient"
   ]
  },
  {
   "cell_type": "code",
   "execution_count": 5,
   "metadata": {},
   "outputs": [
    {
     "data": {
      "text/plain": [
       "2.938309390776439e-06"
      ]
     },
     "execution_count": 5,
     "metadata": {},
     "output_type": "execute_result"
    }
   ],
   "source": [
    "np.abs(tidy_df[tidy_df.measurement == 'temperature gradient'].value).min()"
   ]
  },
  {
   "cell_type": "code",
   "execution_count": 6,
   "metadata": {},
   "outputs": [
    {
     "data": {
      "application/vnd.vegalite.v5+json": {
       "$schema": "https://vega.github.io/schema/vega-lite/v5.16.3.json",
       "config": {
        "view": {
         "continuousHeight": 300,
         "continuousWidth": 300
        }
       },
       "vconcat": [
        {
         "data": {
          "format": {
           "type": "json"
          },
          "url": "altair-data-54cf0a0a71cd80d6a50929b53acd1720.json"
         },
         "encoding": {
          "column": {
           "field": "height",
           "type": "ordinal"
          },
          "x": {
           "field": "time",
           "type": "temporal"
          },
          "y": {
           "field": "value",
           "type": "quantitative"
          }
         },
         "height": 200,
         "mark": {
          "type": "line"
         },
         "width": 200
        },
        {
         "data": {
          "format": {
           "type": "json"
          },
          "url": "altair-data-54cf0a0a71cd80d6a50929b53acd1720.json"
         },
         "encoding": {
          "column": {
           "field": "height",
           "type": "ordinal"
          },
          "x": {
           "bin": {
            "step": 0.1
           },
           "field": "value",
           "type": "quantitative"
          },
          "y": {
           "aggregate": "count",
           "type": "quantitative"
          }
         },
         "height": 200,
         "mark": {
          "type": "bar"
         },
         "width": 200
        }
       ]
      },
      "text/plain": [
       "<VegaLite 5 object>\n",
       "\n",
       "If you see this message, it means the renderer has not been properly enabled\n",
       "for the frontend that you are using. For more information, see\n",
       "https://altair-viz.github.io/user_guide/display_frontends.html#troubleshooting\n"
      ]
     },
     "execution_count": 6,
     "metadata": {},
     "output_type": "execute_result"
    }
   ],
   "source": [
    "alt.Chart(\n",
    "    tidy_df.query(\"measurement == 'temperature gradient'\").query(\"height < 5\")\n",
    ").mark_line().encode(\n",
    "    x = 'time:T',\n",
    "    y = 'value:Q',\n",
    "    column='height:O'\n",
    ").properties(width=200, height = 200) & alt.Chart(\n",
    "    tidy_df.query(\"measurement == 'temperature gradient'\").query(\"height < 5\")\n",
    ").mark_bar().encode(\n",
    "    alt.X('value:Q').bin(step=0.1),\n",
    "    alt.Y(\"count():Q\"),    \n",
    "    alt.Column('height:O')\n",
    ").properties(width=200, height = 200)"
   ]
  },
  {
   "cell_type": "code",
   "execution_count": 7,
   "metadata": {},
   "outputs": [],
   "source": [
    "src = tidy_df.query(\"variable == 'temp_gradient_3m_c'\")\n",
    "neutral_times = src[src['value'].abs() < 0.01].time"
   ]
  },
  {
   "cell_type": "code",
   "execution_count": 8,
   "metadata": {},
   "outputs": [
    {
     "data": {
      "application/vnd.vegalite.v5+json": {
       "$schema": "https://vega.github.io/schema/vega-lite/v5.16.3.json",
       "config": {
        "view": {
         "continuousHeight": 300,
         "continuousWidth": 300
        }
       },
       "data": {
        "format": {
         "type": "json"
        },
        "url": "altair-data-fd57c9dab7885452a1b276bb3f4e6bdf.json"
       },
       "encoding": {
        "facet": {
         "columns": 8,
         "field": "time",
         "type": "ordinal"
        },
        "x": {
         "field": "value",
         "sort": "-y",
         "title": "Wind speed (m/s)",
         "type": "quantitative"
        },
        "y": {
         "field": "height",
         "title": "Height (m)",
         "type": "quantitative"
        }
       },
       "height": 125,
       "mark": {
        "type": "line"
       },
       "width": 125
      },
      "text/plain": [
       "<VegaLite 5 object>\n",
       "\n",
       "If you see this message, it means the renderer has not been properly enabled\n",
       "for the frontend that you are using. For more information, see\n",
       "https://altair-viz.github.io/user_guide/display_frontends.html#troubleshooting\n"
      ]
     },
     "execution_count": 8,
     "metadata": {},
     "output_type": "execute_result"
    }
   ],
   "source": [
    "alt.Chart(\n",
    "    tidy_df[\n",
    "        tidy_df.time.isin(neutral_times.sample(16))\n",
    "    ].query(\"measurement == 'wind speed'\").query(\"tower == 'c'\")\n",
    ").mark_line().encode(\n",
    "    alt.X(\"value:Q\").title(\"Wind speed (m/s)\").sort('-y'),\n",
    "    alt.Y(\"height:Q\").title(\"Height (m)\"),\n",
    "    alt.Facet(\"time:O\", columns=8)\n",
    ").properties(width = 125, height = 125)"
   ]
  },
  {
   "cell_type": "code",
   "execution_count": 9,
   "metadata": {},
   "outputs": [
    {
     "data": {
      "text/html": [
       "<div>\n",
       "<style scoped>\n",
       "    .dataframe tbody tr th:only-of-type {\n",
       "        vertical-align: middle;\n",
       "    }\n",
       "\n",
       "    .dataframe tbody tr th {\n",
       "        vertical-align: top;\n",
       "    }\n",
       "\n",
       "    .dataframe thead th {\n",
       "        text-align: right;\n",
       "    }\n",
       "</style>\n",
       "<table border=\"1\" class=\"dataframe\">\n",
       "  <thead>\n",
       "    <tr style=\"text-align: right;\">\n",
       "      <th></th>\n",
       "      <th>SnowDepth_c</th>\n",
       "      <th>spd_10m_c</th>\n",
       "      <th>spd_15m_c</th>\n",
       "      <th>spd_20m_c</th>\n",
       "      <th>spd_2m_c</th>\n",
       "      <th>spd_3m_c</th>\n",
       "      <th>spd_5m_c</th>\n",
       "      <th>u*_10m_c</th>\n",
       "      <th>u*_15m_c</th>\n",
       "      <th>u*_20m_c</th>\n",
       "      <th>u*_2m_c</th>\n",
       "      <th>u*_3m_c</th>\n",
       "      <th>u*_5m_c</th>\n",
       "      <th>snow_depth</th>\n",
       "    </tr>\n",
       "    <tr>\n",
       "      <th>time</th>\n",
       "      <th></th>\n",
       "      <th></th>\n",
       "      <th></th>\n",
       "      <th></th>\n",
       "      <th></th>\n",
       "      <th></th>\n",
       "      <th></th>\n",
       "      <th></th>\n",
       "      <th></th>\n",
       "      <th></th>\n",
       "      <th></th>\n",
       "      <th></th>\n",
       "      <th></th>\n",
       "      <th></th>\n",
       "    </tr>\n",
       "  </thead>\n",
       "  <tbody>\n",
       "    <tr>\n",
       "      <th>2022-12-01 18:00:00</th>\n",
       "      <td>0.069144</td>\n",
       "      <td>1.339750</td>\n",
       "      <td>1.315193</td>\n",
       "      <td>1.315227</td>\n",
       "      <td>1.239395</td>\n",
       "      <td>1.291831</td>\n",
       "      <td>1.318185</td>\n",
       "      <td>0.210201</td>\n",
       "      <td>0.206864</td>\n",
       "      <td>0.159162</td>\n",
       "      <td>0.119090</td>\n",
       "      <td>0.086317</td>\n",
       "      <td>0.140710</td>\n",
       "      <td>0.236545</td>\n",
       "    </tr>\n",
       "    <tr>\n",
       "      <th>2022-12-01 18:00:00</th>\n",
       "      <td>0.069144</td>\n",
       "      <td>1.339750</td>\n",
       "      <td>1.315193</td>\n",
       "      <td>1.315227</td>\n",
       "      <td>1.239395</td>\n",
       "      <td>1.291831</td>\n",
       "      <td>1.318185</td>\n",
       "      <td>0.210201</td>\n",
       "      <td>0.206864</td>\n",
       "      <td>0.159162</td>\n",
       "      <td>0.119090</td>\n",
       "      <td>0.086317</td>\n",
       "      <td>0.140710</td>\n",
       "      <td>0.069144</td>\n",
       "    </tr>\n",
       "    <tr>\n",
       "      <th>2022-12-02 15:00:00</th>\n",
       "      <td>0.100267</td>\n",
       "      <td>5.208190</td>\n",
       "      <td>5.368742</td>\n",
       "      <td>5.078640</td>\n",
       "      <td>3.821840</td>\n",
       "      <td>4.513449</td>\n",
       "      <td>5.341143</td>\n",
       "      <td>0.496962</td>\n",
       "      <td>0.251400</td>\n",
       "      <td>0.466722</td>\n",
       "      <td>0.219779</td>\n",
       "      <td>0.235802</td>\n",
       "      <td>0.319193</td>\n",
       "      <td>0.100267</td>\n",
       "    </tr>\n",
       "    <tr>\n",
       "      <th>2022-12-02 15:00:00</th>\n",
       "      <td>0.100267</td>\n",
       "      <td>5.208190</td>\n",
       "      <td>5.368742</td>\n",
       "      <td>5.078640</td>\n",
       "      <td>3.821840</td>\n",
       "      <td>4.513449</td>\n",
       "      <td>5.341143</td>\n",
       "      <td>0.496962</td>\n",
       "      <td>0.251400</td>\n",
       "      <td>0.466722</td>\n",
       "      <td>0.219779</td>\n",
       "      <td>0.235802</td>\n",
       "      <td>0.319193</td>\n",
       "      <td>0.374749</td>\n",
       "    </tr>\n",
       "    <tr>\n",
       "      <th>2022-12-02 17:30:00</th>\n",
       "      <td>0.100267</td>\n",
       "      <td>5.817068</td>\n",
       "      <td>5.610901</td>\n",
       "      <td>6.156200</td>\n",
       "      <td>5.685553</td>\n",
       "      <td>6.454514</td>\n",
       "      <td>6.070213</td>\n",
       "      <td>0.603661</td>\n",
       "      <td>0.834566</td>\n",
       "      <td>0.660502</td>\n",
       "      <td>0.270092</td>\n",
       "      <td>0.599743</td>\n",
       "      <td>0.402558</td>\n",
       "      <td>0.100267</td>\n",
       "    </tr>\n",
       "  </tbody>\n",
       "</table>\n",
       "</div>"
      ],
      "text/plain": [
       "                     SnowDepth_c  spd_10m_c  spd_15m_c  spd_20m_c  spd_2m_c  \\\n",
       "time                                                                          \n",
       "2022-12-01 18:00:00     0.069144   1.339750   1.315193   1.315227  1.239395   \n",
       "2022-12-01 18:00:00     0.069144   1.339750   1.315193   1.315227  1.239395   \n",
       "2022-12-02 15:00:00     0.100267   5.208190   5.368742   5.078640  3.821840   \n",
       "2022-12-02 15:00:00     0.100267   5.208190   5.368742   5.078640  3.821840   \n",
       "2022-12-02 17:30:00     0.100267   5.817068   5.610901   6.156200  5.685553   \n",
       "\n",
       "                     spd_3m_c  spd_5m_c  u*_10m_c  u*_15m_c  u*_20m_c  \\\n",
       "time                                                                    \n",
       "2022-12-01 18:00:00  1.291831  1.318185  0.210201  0.206864  0.159162   \n",
       "2022-12-01 18:00:00  1.291831  1.318185  0.210201  0.206864  0.159162   \n",
       "2022-12-02 15:00:00  4.513449  5.341143  0.496962  0.251400  0.466722   \n",
       "2022-12-02 15:00:00  4.513449  5.341143  0.496962  0.251400  0.466722   \n",
       "2022-12-02 17:30:00  6.454514  6.070213  0.603661  0.834566  0.660502   \n",
       "\n",
       "                      u*_2m_c   u*_3m_c   u*_5m_c  snow_depth  \n",
       "time                                                           \n",
       "2022-12-01 18:00:00  0.119090  0.086317  0.140710    0.236545  \n",
       "2022-12-01 18:00:00  0.119090  0.086317  0.140710    0.069144  \n",
       "2022-12-02 15:00:00  0.219779  0.235802  0.319193    0.100267  \n",
       "2022-12-02 15:00:00  0.219779  0.235802  0.319193    0.374749  \n",
       "2022-12-02 17:30:00  0.270092  0.599743  0.402558    0.100267  "
      ]
     },
     "execution_count": 9,
     "metadata": {},
     "output_type": "execute_result"
    }
   ],
   "source": [
    "z0_df = tidy_df[\n",
    "    tidy_df.time.isin(neutral_times)\n",
    "].query(\"tower == 'c'\")\n",
    "src_snowdepth = tidy_df[\n",
    "    tidy_df.measurement == 'snow depth'\n",
    "]\n",
    "src_snowdepth = src_snowdepth[['time', 'value']].set_index('time').rename(columns={'value': 'snow_depth'})\n",
    "z0_df = z0_df[z0_df.measurement.isin([\n",
    "    'wind speed',\n",
    "    'shear velocity',\n",
    "    'snow depth'\n",
    "])]\n",
    "z0_df = z0_df[~z0_df.variable.str.contains(\"predicted\")]\n",
    "z0_df = z0_df.pivot_table(index=['time'], values='value', columns='variable')\n",
    "z0_df = z0_df.join(src_snowdepth)\n",
    "z0_df.head()"
   ]
  },
  {
   "cell_type": "markdown",
   "metadata": {},
   "source": [
    "# Filter out data without monotonically increasing wind speeds "
   ]
  },
  {
   "cell_type": "code",
   "execution_count": 10,
   "metadata": {},
   "outputs": [
    {
     "data": {
      "text/plain": [
       "1130"
      ]
     },
     "execution_count": 10,
     "metadata": {},
     "output_type": "execute_result"
    }
   ],
   "source": [
    "len(z0_df)"
   ]
  },
  {
   "cell_type": "code",
   "execution_count": 11,
   "metadata": {},
   "outputs": [],
   "source": [
    "def monotonically_increasing(l):\n",
    "    return all(x < y for x, y in zip(l, l[1:]))\n",
    "\n",
    "z0_df['is_monotonic_increasing'] = z0_df.apply(\n",
    "    lambda row: monotonically_increasing([\n",
    "            row['spd_2m_c'], \n",
    "            row['spd_3m_c'], \n",
    "            row['spd_5m_c'], \n",
    "            row['spd_10m_c'], \n",
    "            row['spd_15m_c'], \n",
    "            row['spd_20m_c']\n",
    "    ]),\n",
    "    axis = 1\n",
    ")"
   ]
  },
  {
   "cell_type": "code",
   "execution_count": 12,
   "metadata": {},
   "outputs": [],
   "source": [
    "z0_df = z0_df[z0_df.is_monotonic_increasing]"
   ]
  },
  {
   "cell_type": "code",
   "execution_count": 13,
   "metadata": {},
   "outputs": [
    {
     "data": {
      "text/plain": [
       "342"
      ]
     },
     "execution_count": 13,
     "metadata": {},
     "output_type": "execute_result"
    }
   ],
   "source": [
    "len(z0_df)"
   ]
  },
  {
   "cell_type": "markdown",
   "metadata": {},
   "source": [
    "# Solve for $z_0$ assuming $d = 0$\n",
    "\n",
    "https://www.eol.ucar.edu/content/calculation-roughness-length-and-displacement-height"
   ]
  },
  {
   "cell_type": "code",
   "execution_count": 14,
   "metadata": {},
   "outputs": [],
   "source": [
    "von_karman = 0.4"
   ]
  },
  {
   "cell_type": "code",
   "execution_count": 15,
   "metadata": {},
   "outputs": [],
   "source": [
    "d = 0.0\n",
    "z0_df['z0_2m_c'] = (2 - d - z0_df['snow_depth'])/np.exp(z0_df['spd_2m_c']*von_karman/z0_df['u*_2m_c'])\n",
    "z0_df['z0_3m_c'] = (3 - d - z0_df['snow_depth'])/np.exp(z0_df['spd_3m_c']*von_karman/z0_df['u*_3m_c'])\n",
    "z0_df['z0_5m_c'] = (5 - d - z0_df['snow_depth'])/np.exp(z0_df['spd_5m_c']*von_karman/z0_df['u*_5m_c'])\n",
    "z0_df['z0_10m_c'] = (10 - d - z0_df['snow_depth'])/np.exp(z0_df['spd_10m_c']*von_karman/z0_df['u*_10m_c'])\n",
    "z0_df['z0_15m_c'] = (15 - d - z0_df['snow_depth'])/np.exp(z0_df['spd_15m_c']*von_karman/z0_df['u*_15m_c'])\n",
    "z0_df['z0_20m_c'] = (20 - d - z0_df['snow_depth'])/np.exp(z0_df['spd_20m_c']*von_karman/z0_df['u*_20m_c'])"
   ]
  },
  {
   "cell_type": "code",
   "execution_count": 16,
   "metadata": {},
   "outputs": [
    {
     "data": {
      "application/vnd.vegalite.v5+json": {
       "$schema": "https://vega.github.io/schema/vega-lite/v5.16.3.json",
       "config": {
        "view": {
         "continuousHeight": 300,
         "continuousWidth": 300
        }
       },
       "data": {
        "format": {
         "type": "json"
        },
        "url": "altair-data-3933a6514a6268bab53d8ce76c30928d.json"
       },
       "encoding": {
        "row": {
         "field": "key",
         "sort": [
          "z0_2m_c",
          "z0_3m_c",
          "z0_5m_c",
          "z0_10m_c",
          "z0_15m_c",
          "z0_20m_c"
         ],
         "type": "nominal"
        },
        "x": {
         "field": "time",
         "type": "temporal"
        },
        "y": {
         "field": "value",
         "scale": {
          "type": "log"
         },
         "type": "quantitative"
        }
       },
       "height": 100,
       "mark": {
        "type": "circle"
       },
       "transform": [
        {
         "fold": [
          "z0_2m_c",
          "z0_3m_c",
          "z0_5m_c",
          "z0_10m_c",
          "z0_15m_c",
          "z0_20m_c"
         ]
        },
        {
         "filter": {
          "field": "key",
          "oneOf": [
           "z0_2m_c",
           "z0_3m_c"
          ]
         }
        }
       ],
       "width": 400
      },
      "text/plain": [
       "<VegaLite 5 object>\n",
       "\n",
       "If you see this message, it means the renderer has not been properly enabled\n",
       "for the frontend that you are using. For more information, see\n",
       "https://altair-viz.github.io/user_guide/display_frontends.html#troubleshooting\n"
      ]
     },
     "execution_count": 16,
     "metadata": {},
     "output_type": "execute_result"
    }
   ],
   "source": [
    "variables = [\n",
    "        'z0_2m_c', \n",
    "        'z0_3m_c', \n",
    "        'z0_5m_c', \n",
    "        'z0_10m_c', \n",
    "        'z0_15m_c', \n",
    "        'z0_20m_c', \n",
    "    ]\n",
    "alt.Chart(\n",
    "    z0_df[variables].reset_index()\n",
    ").transform_fold(\n",
    "    variables\n",
    ").transform_filter(\n",
    "    alt.FieldOneOfPredicate('key', ['z0_2m_c', 'z0_3m_c'])\n",
    ").mark_circle().encode(\n",
    "    alt.X('time:T'),\n",
    "    alt.Y(\"value:Q\").scale(type='log'),\n",
    "    alt.Row(\"key:N\", sort=variables)\n",
    ").properties(height = 100, width = 400)"
   ]
  },
  {
   "cell_type": "code",
   "execution_count": 17,
   "metadata": {},
   "outputs": [],
   "source": [
    "from sklearn.metrics import r2_score"
   ]
  },
  {
   "cell_type": "code",
   "execution_count": 18,
   "metadata": {},
   "outputs": [
    {
     "ename": "ValueError",
     "evalue": "Input contains NaN.",
     "output_type": "error",
     "traceback": [
      "\u001b[0;31m---------------------------------------------------------------------------\u001b[0m",
      "\u001b[0;31mValueError\u001b[0m                                Traceback (most recent call last)",
      "Cell \u001b[0;32mIn[18], line 4\u001b[0m\n\u001b[1;32m      1\u001b[0m alt\u001b[38;5;241m.\u001b[39mChart(z0_df)\u001b[38;5;241m.\u001b[39mmark_circle()\u001b[38;5;241m.\u001b[39mencode(\n\u001b[1;32m      2\u001b[0m     alt\u001b[38;5;241m.\u001b[39mX(\u001b[38;5;124m\"\u001b[39m\u001b[38;5;124mz0_3m_c\u001b[39m\u001b[38;5;124m\"\u001b[39m)\u001b[38;5;241m.\u001b[39mscale(domain\u001b[38;5;241m=\u001b[39m[\u001b[38;5;241m0.000000001\u001b[39m, \u001b[38;5;241m10\u001b[39m], \u001b[38;5;28mtype\u001b[39m\u001b[38;5;241m=\u001b[39m\u001b[38;5;124m'\u001b[39m\u001b[38;5;124mlog\u001b[39m\u001b[38;5;124m'\u001b[39m),\n\u001b[1;32m      3\u001b[0m     alt\u001b[38;5;241m.\u001b[39mY(\u001b[38;5;124m\"\u001b[39m\u001b[38;5;124mz0_2m_c\u001b[39m\u001b[38;5;124m\"\u001b[39m)\u001b[38;5;241m.\u001b[39mscale(domain\u001b[38;5;241m=\u001b[39m[\u001b[38;5;241m0.000000001\u001b[39m, \u001b[38;5;241m10\u001b[39m], \u001b[38;5;28mtype\u001b[39m\u001b[38;5;241m=\u001b[39m\u001b[38;5;124m'\u001b[39m\u001b[38;5;124mlog\u001b[39m\u001b[38;5;124m'\u001b[39m)\n\u001b[0;32m----> 4\u001b[0m )\u001b[38;5;241m.\u001b[39mproperties(width \u001b[38;5;241m=\u001b[39m \u001b[38;5;241m150\u001b[39m, height \u001b[38;5;241m=\u001b[39m \u001b[38;5;241m150\u001b[39m, title \u001b[38;5;241m=\u001b[39m \u001b[38;5;28mstr\u001b[39m(\u001b[38;5;28mround\u001b[39m(\u001b[43mr2_score\u001b[49m\u001b[43m(\u001b[49m\n\u001b[1;32m      5\u001b[0m \u001b[43m        \u001b[49m\u001b[43mz0_df\u001b[49m\u001b[43m[\u001b[49m\u001b[38;5;124;43m\"\u001b[39;49m\u001b[38;5;124;43mz0_3m_c\u001b[39;49m\u001b[38;5;124;43m\"\u001b[39;49m\u001b[43m]\u001b[49m\u001b[43m,\u001b[49m\n\u001b[1;32m      6\u001b[0m \u001b[43m        \u001b[49m\u001b[43mz0_df\u001b[49m\u001b[43m[\u001b[49m\u001b[38;5;124;43m\"\u001b[39;49m\u001b[38;5;124;43mz0_2m_c\u001b[39;49m\u001b[38;5;124;43m\"\u001b[39;49m\u001b[43m]\u001b[49m\n\u001b[1;32m      7\u001b[0m \u001b[43m    \u001b[49m\u001b[43m)\u001b[49m, \u001b[38;5;241m3\u001b[39m))\n\u001b[1;32m      8\u001b[0m ) \u001b[38;5;241m|\u001b[39m alt\u001b[38;5;241m.\u001b[39mChart(z0_df)\u001b[38;5;241m.\u001b[39mmark_circle()\u001b[38;5;241m.\u001b[39mencode(\n\u001b[1;32m      9\u001b[0m     alt\u001b[38;5;241m.\u001b[39mX(\u001b[38;5;124m\"\u001b[39m\u001b[38;5;124mz0_3m_c\u001b[39m\u001b[38;5;124m\"\u001b[39m)\u001b[38;5;241m.\u001b[39mscale(domain\u001b[38;5;241m=\u001b[39m[\u001b[38;5;241m0.000000001\u001b[39m, \u001b[38;5;241m10\u001b[39m], \u001b[38;5;28mtype\u001b[39m\u001b[38;5;241m=\u001b[39m\u001b[38;5;124m'\u001b[39m\u001b[38;5;124mlog\u001b[39m\u001b[38;5;124m'\u001b[39m),\n\u001b[1;32m     10\u001b[0m     alt\u001b[38;5;241m.\u001b[39mY(\u001b[38;5;124m\"\u001b[39m\u001b[38;5;124mz0_5m_c\u001b[39m\u001b[38;5;124m\"\u001b[39m)\u001b[38;5;241m.\u001b[39mscale(domain\u001b[38;5;241m=\u001b[39m[\u001b[38;5;241m0.000000001\u001b[39m, \u001b[38;5;241m10\u001b[39m], \u001b[38;5;28mtype\u001b[39m\u001b[38;5;241m=\u001b[39m\u001b[38;5;124m'\u001b[39m\u001b[38;5;124mlog\u001b[39m\u001b[38;5;124m'\u001b[39m)\n\u001b[1;32m     11\u001b[0m )\u001b[38;5;241m.\u001b[39mproperties(width \u001b[38;5;241m=\u001b[39m \u001b[38;5;241m150\u001b[39m, height \u001b[38;5;241m=\u001b[39m \u001b[38;5;241m150\u001b[39m, title \u001b[38;5;241m=\u001b[39m \u001b[38;5;28mstr\u001b[39m(\u001b[38;5;28mround\u001b[39m(r2_score(\n\u001b[1;32m     12\u001b[0m         z0_df[\u001b[38;5;124m\"\u001b[39m\u001b[38;5;124mz0_3m_c\u001b[39m\u001b[38;5;124m\"\u001b[39m],\n\u001b[1;32m     13\u001b[0m         z0_df[\u001b[38;5;124m\"\u001b[39m\u001b[38;5;124mz0_5m_c\u001b[39m\u001b[38;5;124m\"\u001b[39m]\n\u001b[1;32m     14\u001b[0m     ), \u001b[38;5;241m3\u001b[39m))\n\u001b[1;32m     15\u001b[0m ) \u001b[38;5;241m|\u001b[39m alt\u001b[38;5;241m.\u001b[39mChart(z0_df)\u001b[38;5;241m.\u001b[39mmark_circle()\u001b[38;5;241m.\u001b[39mencode(\n\u001b[1;32m     16\u001b[0m     alt\u001b[38;5;241m.\u001b[39mX(\u001b[38;5;124m\"\u001b[39m\u001b[38;5;124mz0_3m_c\u001b[39m\u001b[38;5;124m\"\u001b[39m)\u001b[38;5;241m.\u001b[39mscale(domain\u001b[38;5;241m=\u001b[39m[\u001b[38;5;241m0.000000001\u001b[39m, \u001b[38;5;241m10\u001b[39m], \u001b[38;5;28mtype\u001b[39m\u001b[38;5;241m=\u001b[39m\u001b[38;5;124m'\u001b[39m\u001b[38;5;124mlog\u001b[39m\u001b[38;5;124m'\u001b[39m),\n\u001b[1;32m     17\u001b[0m     alt\u001b[38;5;241m.\u001b[39mY(\u001b[38;5;124m\"\u001b[39m\u001b[38;5;124mz0_10m_c\u001b[39m\u001b[38;5;124m\"\u001b[39m)\u001b[38;5;241m.\u001b[39mscale(domain\u001b[38;5;241m=\u001b[39m[\u001b[38;5;241m0.000000001\u001b[39m, \u001b[38;5;241m10\u001b[39m], \u001b[38;5;28mtype\u001b[39m\u001b[38;5;241m=\u001b[39m\u001b[38;5;124m'\u001b[39m\u001b[38;5;124mlog\u001b[39m\u001b[38;5;124m'\u001b[39m)\n\u001b[1;32m     18\u001b[0m )\u001b[38;5;241m.\u001b[39mproperties(width \u001b[38;5;241m=\u001b[39m \u001b[38;5;241m150\u001b[39m, height \u001b[38;5;241m=\u001b[39m \u001b[38;5;241m150\u001b[39m, title \u001b[38;5;241m=\u001b[39m \u001b[38;5;28mstr\u001b[39m(\u001b[38;5;28mround\u001b[39m(r2_score(\n\u001b[1;32m     19\u001b[0m         z0_df[\u001b[38;5;124m\"\u001b[39m\u001b[38;5;124mz0_3m_c\u001b[39m\u001b[38;5;124m\"\u001b[39m],\n\u001b[1;32m     20\u001b[0m         z0_df[\u001b[38;5;124m\"\u001b[39m\u001b[38;5;124mz0_10m_c\u001b[39m\u001b[38;5;124m\"\u001b[39m]\n\u001b[1;32m     21\u001b[0m     ), \u001b[38;5;241m3\u001b[39m))\n\u001b[1;32m     22\u001b[0m ) \u001b[38;5;241m|\u001b[39m alt\u001b[38;5;241m.\u001b[39mChart(z0_df)\u001b[38;5;241m.\u001b[39mmark_circle()\u001b[38;5;241m.\u001b[39mencode(\n\u001b[1;32m     23\u001b[0m     alt\u001b[38;5;241m.\u001b[39mX(\u001b[38;5;124m\"\u001b[39m\u001b[38;5;124mz0_3m_c\u001b[39m\u001b[38;5;124m\"\u001b[39m)\u001b[38;5;241m.\u001b[39mscale(domain\u001b[38;5;241m=\u001b[39m[\u001b[38;5;241m0.000000001\u001b[39m, \u001b[38;5;241m10\u001b[39m], \u001b[38;5;28mtype\u001b[39m\u001b[38;5;241m=\u001b[39m\u001b[38;5;124m'\u001b[39m\u001b[38;5;124mlog\u001b[39m\u001b[38;5;124m'\u001b[39m),\n\u001b[1;32m     24\u001b[0m     alt\u001b[38;5;241m.\u001b[39mY(\u001b[38;5;124m\"\u001b[39m\u001b[38;5;124mz0_15m_c\u001b[39m\u001b[38;5;124m\"\u001b[39m)\u001b[38;5;241m.\u001b[39mscale(domain\u001b[38;5;241m=\u001b[39m[\u001b[38;5;241m0.000000001\u001b[39m, \u001b[38;5;241m10\u001b[39m], \u001b[38;5;28mtype\u001b[39m\u001b[38;5;241m=\u001b[39m\u001b[38;5;124m'\u001b[39m\u001b[38;5;124mlog\u001b[39m\u001b[38;5;124m'\u001b[39m)\n\u001b[1;32m     25\u001b[0m )\u001b[38;5;241m.\u001b[39mproperties(width \u001b[38;5;241m=\u001b[39m \u001b[38;5;241m150\u001b[39m, height \u001b[38;5;241m=\u001b[39m \u001b[38;5;241m150\u001b[39m, title \u001b[38;5;241m=\u001b[39m \u001b[38;5;28mstr\u001b[39m(\u001b[38;5;28mround\u001b[39m(r2_score(\n\u001b[1;32m     26\u001b[0m         z0_df[\u001b[38;5;124m\"\u001b[39m\u001b[38;5;124mz0_3m_c\u001b[39m\u001b[38;5;124m\"\u001b[39m],\n\u001b[1;32m     27\u001b[0m         z0_df[\u001b[38;5;124m\"\u001b[39m\u001b[38;5;124mz0_15m_c\u001b[39m\u001b[38;5;124m\"\u001b[39m]\n\u001b[1;32m     28\u001b[0m     ), \u001b[38;5;241m3\u001b[39m))\n\u001b[1;32m     29\u001b[0m ) \u001b[38;5;241m|\u001b[39m alt\u001b[38;5;241m.\u001b[39mChart(z0_df)\u001b[38;5;241m.\u001b[39mmark_circle()\u001b[38;5;241m.\u001b[39mencode(\n\u001b[1;32m     30\u001b[0m     alt\u001b[38;5;241m.\u001b[39mX(\u001b[38;5;124m\"\u001b[39m\u001b[38;5;124mz0_3m_c\u001b[39m\u001b[38;5;124m\"\u001b[39m)\u001b[38;5;241m.\u001b[39mscale(domain\u001b[38;5;241m=\u001b[39m[\u001b[38;5;241m0.000000001\u001b[39m, \u001b[38;5;241m10\u001b[39m], \u001b[38;5;28mtype\u001b[39m\u001b[38;5;241m=\u001b[39m\u001b[38;5;124m'\u001b[39m\u001b[38;5;124mlog\u001b[39m\u001b[38;5;124m'\u001b[39m),\n\u001b[1;32m     31\u001b[0m     alt\u001b[38;5;241m.\u001b[39mY(\u001b[38;5;124m\"\u001b[39m\u001b[38;5;124mz0_20m_c\u001b[39m\u001b[38;5;124m\"\u001b[39m)\u001b[38;5;241m.\u001b[39mscale(domain\u001b[38;5;241m=\u001b[39m[\u001b[38;5;241m0.000000001\u001b[39m, \u001b[38;5;241m10\u001b[39m], \u001b[38;5;28mtype\u001b[39m\u001b[38;5;241m=\u001b[39m\u001b[38;5;124m'\u001b[39m\u001b[38;5;124mlog\u001b[39m\u001b[38;5;124m'\u001b[39m)\n\u001b[1;32m     32\u001b[0m )\u001b[38;5;241m.\u001b[39mproperties(width \u001b[38;5;241m=\u001b[39m \u001b[38;5;241m150\u001b[39m, height \u001b[38;5;241m=\u001b[39m \u001b[38;5;241m150\u001b[39m, title \u001b[38;5;241m=\u001b[39m \u001b[38;5;28mstr\u001b[39m(\u001b[38;5;28mround\u001b[39m(r2_score(\n\u001b[1;32m     33\u001b[0m         z0_df[\u001b[38;5;124m\"\u001b[39m\u001b[38;5;124mz0_3m_c\u001b[39m\u001b[38;5;124m\"\u001b[39m],\n\u001b[1;32m     34\u001b[0m         z0_df[\u001b[38;5;124m\"\u001b[39m\u001b[38;5;124mz0_20m_c\u001b[39m\u001b[38;5;124m\"\u001b[39m]\n\u001b[1;32m     35\u001b[0m     ), \u001b[38;5;241m3\u001b[39m))\n\u001b[1;32m     36\u001b[0m )\n",
      "File \u001b[0;32m~/miniforge3/envs/sublimationofsnow/lib/python3.12/site-packages/sklearn/utils/_param_validation.py:213\u001b[0m, in \u001b[0;36mvalidate_params.<locals>.decorator.<locals>.wrapper\u001b[0;34m(*args, **kwargs)\u001b[0m\n\u001b[1;32m    207\u001b[0m \u001b[38;5;28;01mtry\u001b[39;00m:\n\u001b[1;32m    208\u001b[0m     \u001b[38;5;28;01mwith\u001b[39;00m config_context(\n\u001b[1;32m    209\u001b[0m         skip_parameter_validation\u001b[38;5;241m=\u001b[39m(\n\u001b[1;32m    210\u001b[0m             prefer_skip_nested_validation \u001b[38;5;129;01mor\u001b[39;00m global_skip_validation\n\u001b[1;32m    211\u001b[0m         )\n\u001b[1;32m    212\u001b[0m     ):\n\u001b[0;32m--> 213\u001b[0m         \u001b[38;5;28;01mreturn\u001b[39;00m \u001b[43mfunc\u001b[49m\u001b[43m(\u001b[49m\u001b[38;5;241;43m*\u001b[39;49m\u001b[43margs\u001b[49m\u001b[43m,\u001b[49m\u001b[43m \u001b[49m\u001b[38;5;241;43m*\u001b[39;49m\u001b[38;5;241;43m*\u001b[39;49m\u001b[43mkwargs\u001b[49m\u001b[43m)\u001b[49m\n\u001b[1;32m    214\u001b[0m \u001b[38;5;28;01mexcept\u001b[39;00m InvalidParameterError \u001b[38;5;28;01mas\u001b[39;00m e:\n\u001b[1;32m    215\u001b[0m     \u001b[38;5;66;03m# When the function is just a wrapper around an estimator, we allow\u001b[39;00m\n\u001b[1;32m    216\u001b[0m     \u001b[38;5;66;03m# the function to delegate validation to the estimator, but we replace\u001b[39;00m\n\u001b[1;32m    217\u001b[0m     \u001b[38;5;66;03m# the name of the estimator by the name of the function in the error\u001b[39;00m\n\u001b[1;32m    218\u001b[0m     \u001b[38;5;66;03m# message to avoid confusion.\u001b[39;00m\n\u001b[1;32m    219\u001b[0m     msg \u001b[38;5;241m=\u001b[39m re\u001b[38;5;241m.\u001b[39msub(\n\u001b[1;32m    220\u001b[0m         \u001b[38;5;124mr\u001b[39m\u001b[38;5;124m\"\u001b[39m\u001b[38;5;124mparameter of \u001b[39m\u001b[38;5;124m\\\u001b[39m\u001b[38;5;124mw+ must be\u001b[39m\u001b[38;5;124m\"\u001b[39m,\n\u001b[1;32m    221\u001b[0m         \u001b[38;5;124mf\u001b[39m\u001b[38;5;124m\"\u001b[39m\u001b[38;5;124mparameter of \u001b[39m\u001b[38;5;132;01m{\u001b[39;00mfunc\u001b[38;5;241m.\u001b[39m\u001b[38;5;18m__qualname__\u001b[39m\u001b[38;5;132;01m}\u001b[39;00m\u001b[38;5;124m must be\u001b[39m\u001b[38;5;124m\"\u001b[39m,\n\u001b[1;32m    222\u001b[0m         \u001b[38;5;28mstr\u001b[39m(e),\n\u001b[1;32m    223\u001b[0m     )\n",
      "File \u001b[0;32m~/miniforge3/envs/sublimationofsnow/lib/python3.12/site-packages/sklearn/metrics/_regression.py:1180\u001b[0m, in \u001b[0;36mr2_score\u001b[0;34m(y_true, y_pred, sample_weight, multioutput, force_finite)\u001b[0m\n\u001b[1;32m   1039\u001b[0m \u001b[38;5;129m@validate_params\u001b[39m(\n\u001b[1;32m   1040\u001b[0m     {\n\u001b[1;32m   1041\u001b[0m         \u001b[38;5;124m\"\u001b[39m\u001b[38;5;124my_true\u001b[39m\u001b[38;5;124m\"\u001b[39m: [\u001b[38;5;124m\"\u001b[39m\u001b[38;5;124marray-like\u001b[39m\u001b[38;5;124m\"\u001b[39m],\n\u001b[0;32m   (...)\u001b[0m\n\u001b[1;32m   1059\u001b[0m     force_finite\u001b[38;5;241m=\u001b[39m\u001b[38;5;28;01mTrue\u001b[39;00m,\n\u001b[1;32m   1060\u001b[0m ):\n\u001b[1;32m   1061\u001b[0m \u001b[38;5;250m    \u001b[39m\u001b[38;5;124;03m\"\"\":math:`R^2` (coefficient of determination) regression score function.\u001b[39;00m\n\u001b[1;32m   1062\u001b[0m \n\u001b[1;32m   1063\u001b[0m \u001b[38;5;124;03m    Best possible score is 1.0 and it can be negative (because the\u001b[39;00m\n\u001b[0;32m   (...)\u001b[0m\n\u001b[1;32m   1178\u001b[0m \u001b[38;5;124;03m    -inf\u001b[39;00m\n\u001b[1;32m   1179\u001b[0m \u001b[38;5;124;03m    \"\"\"\u001b[39;00m\n\u001b[0;32m-> 1180\u001b[0m     y_type, y_true, y_pred, multioutput \u001b[38;5;241m=\u001b[39m \u001b[43m_check_reg_targets\u001b[49m\u001b[43m(\u001b[49m\n\u001b[1;32m   1181\u001b[0m \u001b[43m        \u001b[49m\u001b[43my_true\u001b[49m\u001b[43m,\u001b[49m\u001b[43m \u001b[49m\u001b[43my_pred\u001b[49m\u001b[43m,\u001b[49m\u001b[43m \u001b[49m\u001b[43mmultioutput\u001b[49m\n\u001b[1;32m   1182\u001b[0m \u001b[43m    \u001b[49m\u001b[43m)\u001b[49m\n\u001b[1;32m   1183\u001b[0m     check_consistent_length(y_true, y_pred, sample_weight)\n\u001b[1;32m   1185\u001b[0m     \u001b[38;5;28;01mif\u001b[39;00m _num_samples(y_pred) \u001b[38;5;241m<\u001b[39m \u001b[38;5;241m2\u001b[39m:\n",
      "File \u001b[0;32m~/miniforge3/envs/sublimationofsnow/lib/python3.12/site-packages/sklearn/metrics/_regression.py:103\u001b[0m, in \u001b[0;36m_check_reg_targets\u001b[0;34m(y_true, y_pred, multioutput, dtype)\u001b[0m\n\u001b[1;32m     69\u001b[0m \u001b[38;5;250m\u001b[39m\u001b[38;5;124;03m\"\"\"Check that y_true and y_pred belong to the same regression task.\u001b[39;00m\n\u001b[1;32m     70\u001b[0m \n\u001b[1;32m     71\u001b[0m \u001b[38;5;124;03mParameters\u001b[39;00m\n\u001b[0;32m   (...)\u001b[0m\n\u001b[1;32m    100\u001b[0m \u001b[38;5;124;03m    correct keyword.\u001b[39;00m\n\u001b[1;32m    101\u001b[0m \u001b[38;5;124;03m\"\"\"\u001b[39;00m\n\u001b[1;32m    102\u001b[0m check_consistent_length(y_true, y_pred)\n\u001b[0;32m--> 103\u001b[0m y_true \u001b[38;5;241m=\u001b[39m \u001b[43mcheck_array\u001b[49m\u001b[43m(\u001b[49m\u001b[43my_true\u001b[49m\u001b[43m,\u001b[49m\u001b[43m \u001b[49m\u001b[43mensure_2d\u001b[49m\u001b[38;5;241;43m=\u001b[39;49m\u001b[38;5;28;43;01mFalse\u001b[39;49;00m\u001b[43m,\u001b[49m\u001b[43m \u001b[49m\u001b[43mdtype\u001b[49m\u001b[38;5;241;43m=\u001b[39;49m\u001b[43mdtype\u001b[49m\u001b[43m)\u001b[49m\n\u001b[1;32m    104\u001b[0m y_pred \u001b[38;5;241m=\u001b[39m check_array(y_pred, ensure_2d\u001b[38;5;241m=\u001b[39m\u001b[38;5;28;01mFalse\u001b[39;00m, dtype\u001b[38;5;241m=\u001b[39mdtype)\n\u001b[1;32m    106\u001b[0m \u001b[38;5;28;01mif\u001b[39;00m y_true\u001b[38;5;241m.\u001b[39mndim \u001b[38;5;241m==\u001b[39m \u001b[38;5;241m1\u001b[39m:\n",
      "File \u001b[0;32m~/miniforge3/envs/sublimationofsnow/lib/python3.12/site-packages/sklearn/utils/validation.py:1003\u001b[0m, in \u001b[0;36mcheck_array\u001b[0;34m(array, accept_sparse, accept_large_sparse, dtype, order, copy, force_all_finite, ensure_2d, allow_nd, ensure_min_samples, ensure_min_features, estimator, input_name)\u001b[0m\n\u001b[1;32m    997\u001b[0m     \u001b[38;5;28;01mraise\u001b[39;00m \u001b[38;5;167;01mValueError\u001b[39;00m(\n\u001b[1;32m    998\u001b[0m         \u001b[38;5;124m\"\u001b[39m\u001b[38;5;124mFound array with dim \u001b[39m\u001b[38;5;132;01m%d\u001b[39;00m\u001b[38;5;124m. \u001b[39m\u001b[38;5;132;01m%s\u001b[39;00m\u001b[38;5;124m expected <= 2.\u001b[39m\u001b[38;5;124m\"\u001b[39m\n\u001b[1;32m    999\u001b[0m         \u001b[38;5;241m%\u001b[39m (array\u001b[38;5;241m.\u001b[39mndim, estimator_name)\n\u001b[1;32m   1000\u001b[0m     )\n\u001b[1;32m   1002\u001b[0m \u001b[38;5;28;01mif\u001b[39;00m force_all_finite:\n\u001b[0;32m-> 1003\u001b[0m     \u001b[43m_assert_all_finite\u001b[49m\u001b[43m(\u001b[49m\n\u001b[1;32m   1004\u001b[0m \u001b[43m        \u001b[49m\u001b[43marray\u001b[49m\u001b[43m,\u001b[49m\n\u001b[1;32m   1005\u001b[0m \u001b[43m        \u001b[49m\u001b[43minput_name\u001b[49m\u001b[38;5;241;43m=\u001b[39;49m\u001b[43minput_name\u001b[49m\u001b[43m,\u001b[49m\n\u001b[1;32m   1006\u001b[0m \u001b[43m        \u001b[49m\u001b[43mestimator_name\u001b[49m\u001b[38;5;241;43m=\u001b[39;49m\u001b[43mestimator_name\u001b[49m\u001b[43m,\u001b[49m\n\u001b[1;32m   1007\u001b[0m \u001b[43m        \u001b[49m\u001b[43mallow_nan\u001b[49m\u001b[38;5;241;43m=\u001b[39;49m\u001b[43mforce_all_finite\u001b[49m\u001b[43m \u001b[49m\u001b[38;5;241;43m==\u001b[39;49m\u001b[43m \u001b[49m\u001b[38;5;124;43m\"\u001b[39;49m\u001b[38;5;124;43mallow-nan\u001b[39;49m\u001b[38;5;124;43m\"\u001b[39;49m\u001b[43m,\u001b[49m\n\u001b[1;32m   1008\u001b[0m \u001b[43m    \u001b[49m\u001b[43m)\u001b[49m\n\u001b[1;32m   1010\u001b[0m \u001b[38;5;28;01mif\u001b[39;00m copy:\n\u001b[1;32m   1011\u001b[0m     \u001b[38;5;28;01mif\u001b[39;00m _is_numpy_namespace(xp):\n\u001b[1;32m   1012\u001b[0m         \u001b[38;5;66;03m# only make a copy if `array` and `array_orig` may share memory`\u001b[39;00m\n",
      "File \u001b[0;32m~/miniforge3/envs/sublimationofsnow/lib/python3.12/site-packages/sklearn/utils/validation.py:126\u001b[0m, in \u001b[0;36m_assert_all_finite\u001b[0;34m(X, allow_nan, msg_dtype, estimator_name, input_name)\u001b[0m\n\u001b[1;32m    123\u001b[0m \u001b[38;5;28;01mif\u001b[39;00m first_pass_isfinite:\n\u001b[1;32m    124\u001b[0m     \u001b[38;5;28;01mreturn\u001b[39;00m\n\u001b[0;32m--> 126\u001b[0m \u001b[43m_assert_all_finite_element_wise\u001b[49m\u001b[43m(\u001b[49m\n\u001b[1;32m    127\u001b[0m \u001b[43m    \u001b[49m\u001b[43mX\u001b[49m\u001b[43m,\u001b[49m\n\u001b[1;32m    128\u001b[0m \u001b[43m    \u001b[49m\u001b[43mxp\u001b[49m\u001b[38;5;241;43m=\u001b[39;49m\u001b[43mxp\u001b[49m\u001b[43m,\u001b[49m\n\u001b[1;32m    129\u001b[0m \u001b[43m    \u001b[49m\u001b[43mallow_nan\u001b[49m\u001b[38;5;241;43m=\u001b[39;49m\u001b[43mallow_nan\u001b[49m\u001b[43m,\u001b[49m\n\u001b[1;32m    130\u001b[0m \u001b[43m    \u001b[49m\u001b[43mmsg_dtype\u001b[49m\u001b[38;5;241;43m=\u001b[39;49m\u001b[43mmsg_dtype\u001b[49m\u001b[43m,\u001b[49m\n\u001b[1;32m    131\u001b[0m \u001b[43m    \u001b[49m\u001b[43mestimator_name\u001b[49m\u001b[38;5;241;43m=\u001b[39;49m\u001b[43mestimator_name\u001b[49m\u001b[43m,\u001b[49m\n\u001b[1;32m    132\u001b[0m \u001b[43m    \u001b[49m\u001b[43minput_name\u001b[49m\u001b[38;5;241;43m=\u001b[39;49m\u001b[43minput_name\u001b[49m\u001b[43m,\u001b[49m\n\u001b[1;32m    133\u001b[0m \u001b[43m\u001b[49m\u001b[43m)\u001b[49m\n",
      "File \u001b[0;32m~/miniforge3/envs/sublimationofsnow/lib/python3.12/site-packages/sklearn/utils/validation.py:175\u001b[0m, in \u001b[0;36m_assert_all_finite_element_wise\u001b[0;34m(X, xp, allow_nan, msg_dtype, estimator_name, input_name)\u001b[0m\n\u001b[1;32m    158\u001b[0m \u001b[38;5;28;01mif\u001b[39;00m estimator_name \u001b[38;5;129;01mand\u001b[39;00m input_name \u001b[38;5;241m==\u001b[39m \u001b[38;5;124m\"\u001b[39m\u001b[38;5;124mX\u001b[39m\u001b[38;5;124m\"\u001b[39m \u001b[38;5;129;01mand\u001b[39;00m has_nan_error:\n\u001b[1;32m    159\u001b[0m     \u001b[38;5;66;03m# Improve the error message on how to handle missing values in\u001b[39;00m\n\u001b[1;32m    160\u001b[0m     \u001b[38;5;66;03m# scikit-learn.\u001b[39;00m\n\u001b[1;32m    161\u001b[0m     msg_err \u001b[38;5;241m+\u001b[39m\u001b[38;5;241m=\u001b[39m (\n\u001b[1;32m    162\u001b[0m         \u001b[38;5;124mf\u001b[39m\u001b[38;5;124m\"\u001b[39m\u001b[38;5;130;01m\\n\u001b[39;00m\u001b[38;5;132;01m{\u001b[39;00mestimator_name\u001b[38;5;132;01m}\u001b[39;00m\u001b[38;5;124m does not accept missing values\u001b[39m\u001b[38;5;124m\"\u001b[39m\n\u001b[1;32m    163\u001b[0m         \u001b[38;5;124m\"\u001b[39m\u001b[38;5;124m encoded as NaN natively. For supervised learning, you might want\u001b[39m\u001b[38;5;124m\"\u001b[39m\n\u001b[0;32m   (...)\u001b[0m\n\u001b[1;32m    173\u001b[0m         \u001b[38;5;124m\"\u001b[39m\u001b[38;5;124m#estimators-that-handle-nan-values\u001b[39m\u001b[38;5;124m\"\u001b[39m\n\u001b[1;32m    174\u001b[0m     )\n\u001b[0;32m--> 175\u001b[0m \u001b[38;5;28;01mraise\u001b[39;00m \u001b[38;5;167;01mValueError\u001b[39;00m(msg_err)\n",
      "\u001b[0;31mValueError\u001b[0m: Input contains NaN."
     ]
    }
   ],
   "source": [
    "alt.Chart(z0_df).mark_circle().encode(\n",
    "    alt.X(\"z0_3m_c\").scale(domain=[0.000000001, 10], type='log'),\n",
    "    alt.Y(\"z0_2m_c\").scale(domain=[0.000000001, 10], type='log')\n",
    ").properties(width = 150, height = 150, title = str(round(r2_score(\n",
    "        z0_df[\"z0_3m_c\"],\n",
    "        z0_df[\"z0_2m_c\"]\n",
    "    ), 3))\n",
    ") | alt.Chart(z0_df).mark_circle().encode(\n",
    "    alt.X(\"z0_3m_c\").scale(domain=[0.000000001, 10], type='log'),\n",
    "    alt.Y(\"z0_5m_c\").scale(domain=[0.000000001, 10], type='log')\n",
    ").properties(width = 150, height = 150, title = str(round(r2_score(\n",
    "        z0_df[\"z0_3m_c\"],\n",
    "        z0_df[\"z0_5m_c\"]\n",
    "    ), 3))\n",
    ") | alt.Chart(z0_df).mark_circle().encode(\n",
    "    alt.X(\"z0_3m_c\").scale(domain=[0.000000001, 10], type='log'),\n",
    "    alt.Y(\"z0_10m_c\").scale(domain=[0.000000001, 10], type='log')\n",
    ").properties(width = 150, height = 150, title = str(round(r2_score(\n",
    "        z0_df[\"z0_3m_c\"],\n",
    "        z0_df[\"z0_10m_c\"]\n",
    "    ), 3))\n",
    ") | alt.Chart(z0_df).mark_circle().encode(\n",
    "    alt.X(\"z0_3m_c\").scale(domain=[0.000000001, 10], type='log'),\n",
    "    alt.Y(\"z0_15m_c\").scale(domain=[0.000000001, 10], type='log')\n",
    ").properties(width = 150, height = 150, title = str(round(r2_score(\n",
    "        z0_df[\"z0_3m_c\"],\n",
    "        z0_df[\"z0_15m_c\"]\n",
    "    ), 3))\n",
    ") | alt.Chart(z0_df).mark_circle().encode(\n",
    "    alt.X(\"z0_3m_c\").scale(domain=[0.000000001, 10], type='log'),\n",
    "    alt.Y(\"z0_20m_c\").scale(domain=[0.000000001, 10], type='log')\n",
    ").properties(width = 150, height = 150, title = str(round(r2_score(\n",
    "        z0_df[\"z0_3m_c\"],\n",
    "        z0_df[\"z0_20m_c\"]\n",
    "    ), 3))\n",
    ")"
   ]
  },
  {
   "cell_type": "code",
   "execution_count": null,
   "metadata": {},
   "outputs": [],
   "source": [
    "alt.Chart(\n",
    "    z0_df[['z0_3m_c']].resample(\"1D\").median().reset_index()\n",
    ").mark_circle(size=50).encode(\n",
    "    alt.X(\"time:T\"),\n",
    "    alt.Y(\"z0_3m_c\").scale(type='log')\n",
    ") + alt.Chart(\n",
    "    z0_df[['z0_3m_c']].resample(\"1D\").median().reset_index()\n",
    ").mark_bar(width=1).encode(\n",
    "    alt.X(\"time:T\"),\n",
    "    alt.Y(\"z0_3m_c\").scale(type='log')\n",
    ").properties(height = 100)"
   ]
  },
  {
   "cell_type": "code",
   "execution_count": null,
   "metadata": {},
   "outputs": [],
   "source": [
    "z0_df_weekly = z0_df[['z0_3m_c']].resample(\"W-MON\").median().reset_index()"
   ]
  },
  {
   "cell_type": "code",
   "execution_count": null,
   "metadata": {},
   "outputs": [],
   "source": [
    "z0_df[['z0_3m_c']].median()"
   ]
  },
  {
   "cell_type": "code",
   "execution_count": null,
   "metadata": {},
   "outputs": [],
   "source": [
    "basic_z0_values_chart = alt.Chart(\n",
    "    z0_df_weekly\n",
    ").mark_circle(size=100).encode(\n",
    "    alt.X(\"time:T\"),\n",
    "    alt.Y(\"z0_3m_c\").scale(type='log')\n",
    ") + alt.Chart(\n",
    "    z0_df_weekly\n",
    ").mark_bar(width=1).encode(\n",
    "    alt.X(\"time:T\"),\n",
    "    alt.Y(\"z0_3m_c\").scale(type='log')\n",
    ").properties(height = 100)\n",
    "basic_z0_values_chart"
   ]
  },
  {
   "cell_type": "markdown",
   "metadata": {},
   "source": [
    "# Use Andreas et al. 2010 Method, NOAA/SPLASH (Chris Cox) solution"
   ]
  },
  {
   "cell_type": "code",
   "execution_count": 19,
   "metadata": {},
   "outputs": [],
   "source": [
    "tdk = 273.15 \n",
    "# surface temp mean\n",
    "Tsm = tidy_df.query(\"variable == 'Tsurf_c'\")['value'].values \n",
    "# air temp mean\n",
    "Tam = tidy_df.query(\"variable == 'T_3m_c'\")['value'].values \n",
    "# height of sonic\n",
    "z_level_n = 3 - tidy_df.query(\"variable == 'SnowDepth_c'\")['value'].values \n",
    "# wt-covariance, vertical flux of the sonic temperature  [deg m/s]\n",
    "wT_csp = tidy_df.query(\"variable == 'w_tc__3m_c'\")['value'].values   \n",
    "wq_csp = tidy_df.query(\"variable == 'w_h2o__3m_c'\")['value'].values   \n",
    "wsp = tidy_df.query(\"variable == 'spd_3m_c'\")['value'].values \n",
    "ustar = tidy_df.query(\"variable == 'u*_3m_c'\")['value'].values \n",
    "\n",
    "surface_pot_temp = tidy_df.query(\"variable == 'Tsurfpot_c'\")['value'].values\n",
    "air_pot_temp  = tidy_df.query(\"variable == 'Tpot_3m_c'\")['value'].values\n",
    "surface_mixing_ratio = tidy_df.query(\"variable == 'Tsurfmixingratio_c'\")['value'].values\n",
    "air_mixing_ratio = tidy_df.query(\"variable == 'mixingratio_3m_c'\")['value'].values\n",
    "surface_specifichumidity = surface_mixing_ratio / (1 + surface_mixing_ratio)\n",
    "air_specifichumidity  = air_mixing_ratio / (1 + air_mixing_ratio)\n",
    "\n",
    "# Obukhov length\n",
    "surflayr_avg_airtemp = 0.5*(Tsm + Tam)\n",
    "surflayr_avg_specifichumidity = 0.5*(surface_specifichumidity + air_specifichumidity)\n",
    "surflayr_avg_virtualtemp = 0.5*(\n",
    "    tidy_df.query(\"variable == 'Tvirtual_3m_c'\")['value'].values + \n",
    "    tidy_df.query(\"variable == 'Tsurfvirtual_c'\")['value'].values\n",
    ")\n",
    "# right version of equation 2.3 in Andreas 2010\n",
    "# L = - (\n",
    "#     surflayr_avg_airtemp/( 0.4*9.81 )\n",
    "# ) * (\n",
    "#     ustar**3 / (\n",
    "#         wT_csp + wq_csp* (0.61*surflayr_avg_airtemp)/(\n",
    "#             1 + 0.61*surflayr_avg_specifichumidity\n",
    "#           )\n",
    "#     )\n",
    "# )\n",
    "# left version of equation 2.3 in Andreas 2010\n",
    "L = - (\n",
    "    (\n",
    "        tidy_df.query(\"variable == 'Tvirtual_3m_c'\")['value'].values\n",
    "    )/( 0.4*9.81 )\n",
    ") * (\n",
    "    ustar**3 / wT_csp\n",
    ")\n",
    "\n",
    "# Monin-Obukhov stability parameter, z/L:\n",
    "zeta_level_n = z_level_n/L\n",
    "\n",
    "# Drag coefficient, Cd:\n",
    "Cd = ustar**2/wsp**2 #- wu_csp/(wsp**2)\n",
    "\n",
    "Ch = wT_csp / (wsp * (surface_pot_temp - air_pot_temp))\n",
    "\n",
    "Ce = wq_csp / (wsp * (surface_specifichumidity - air_specifichumidity))"
   ]
  },
  {
   "cell_type": "code",
   "execution_count": 20,
   "metadata": {},
   "outputs": [
    {
     "name": "stderr",
     "output_type": "stream",
     "text": [
      "/Users/elischwat/Development/sublimationofsnow/analysis/paper1/../splash/calc_z0.py:16: RuntimeWarning: invalid value encountered in power\n",
      "  sma = 1 + (6.5 * zL * (1+zL)**(1/3)) / (1.3 + zL); # Psi\n",
      "/Users/elischwat/Development/sublimationofsnow/analysis/paper1/../splash/calc_z0.py:20: RuntimeWarning: invalid value encountered in power\n",
      "  x = np.real((1 - 16*zL)**(0.25)) # assumes gamma = 16\n",
      "/Users/elischwat/Development/sublimationofsnow/analysis/paper1/../splash/calc_z0.py:36: RuntimeWarning: invalid value encountered in power\n",
      "  sma = 1 + (6.5 * zL * (1+zL)**(1/3)) / (1.3 + zL); # Psi\n",
      "/Users/elischwat/Development/sublimationofsnow/analysis/paper1/../splash/calc_z0.py:37: RuntimeWarning: invalid value encountered in power\n",
      "  x = np.real((1 - 16*zL)**(0.25)) # assumes gamma = 16\n",
      "/Users/elischwat/Development/sublimationofsnow/analysis/paper1/../splash/calc_z0.py:44: RuntimeWarning: overflow encountered in exp\n",
      "  z0 = z * np.exp(-(k*(Cd**0.5)*(Ch**-1) + sm))\n",
      "/Users/elischwat/Development/sublimationofsnow/analysis/paper1/../splash/calc_z0.py:51: RuntimeWarning: invalid value encountered in power\n",
      "  sma = 1 + (6.5 * zL * (1+zL)**(1/3)) / (1.3 + zL); # Psi\n",
      "/Users/elischwat/Development/sublimationofsnow/analysis/paper1/../splash/calc_z0.py:52: RuntimeWarning: invalid value encountered in power\n",
      "  x = np.real((1 - 16*zL)**(0.25)) # assumes gamma = 16\n"
     ]
    }
   ],
   "source": [
    "import sys\n",
    "sys.path.append(\"../splash/\")\n",
    "import calc_z0\n",
    "z0_values = calc_z0.calc_z0(z_level_n, Cd, zeta_level_n)\n",
    "z0T_values = calc_z0.calc_z0T(z_level_n, Cd, Ch, zeta_level_n)\n",
    "z0q_values = calc_z0.calc_z0Q(z_level_n, Cd, Ce, zeta_level_n)\n",
    "\n",
    "time_values = tidy_df.time.unique()\n",
    "\n",
    "z0_andreas_df = pd.DataFrame({\n",
    "    \"time\": time_values, \n",
    "    \"z0\":   z0_values,\n",
    "    \"z0T\": z0T_values,\n",
    "    \"z0q\": z0q_values,\n",
    "})"
   ]
  },
  {
   "cell_type": "markdown",
   "metadata": {},
   "source": [
    "## Remove values >= 0.1, <= 7e-8 (Andreas et al., 2010)"
   ]
  },
  {
   "cell_type": "code",
   "execution_count": 21,
   "metadata": {},
   "outputs": [
    {
     "name": "stdout",
     "output_type": "stream",
     "text": [
      "7073\n"
     ]
    }
   ],
   "source": [
    "print(len(z0_andreas_df.dropna()))"
   ]
  },
  {
   "cell_type": "code",
   "execution_count": 22,
   "metadata": {},
   "outputs": [],
   "source": [
    "z0_andreas_df['z0'] = z0_andreas_df['z0'].where(\n",
    "    (z0_andreas_df['z0'] > 7e-8)\n",
    "    &\n",
    "    (z0_andreas_df['z0'] < 0.1)\n",
    ")\n"
   ]
  },
  {
   "cell_type": "code",
   "execution_count": 23,
   "metadata": {},
   "outputs": [
    {
     "name": "stdout",
     "output_type": "stream",
     "text": [
      "5255\n"
     ]
    }
   ],
   "source": [
    "print(len(z0_andreas_df.dropna()))"
   ]
  },
  {
   "cell_type": "markdown",
   "metadata": {},
   "source": [
    "## Apply the strict filtering criteria of Andreas et al. (2010)"
   ]
  },
  {
   "cell_type": "code",
   "execution_count": 26,
   "metadata": {},
   "outputs": [],
   "source": [
    "time_values = tidy_df.query(\"variable == 'Tsurf_c'\").set_index('time').sort_index().index.values\n",
    "stress = tidy_df.query(\"variable == 'u*_3m_c'\").assign(\n",
    "    value = np.sqrt(tidy_df.query(\"variable == 'u*_3m_c'\").value)\n",
    ")\n",
    "stress_good_times = stress[stress.value > 0].time\n",
    "\n",
    "shflux = tidy_df.query(\"variable == 'w_tc__3m_c'\")\n",
    "shflux_good_times = shflux[np.abs(shflux.value) > 0.005].time\n",
    "\n",
    "lhflux = tidy_df.query(\"variable == 'w_h2o__3m_c'\")\n",
    "lhflux_good_times = lhflux[np.abs(lhflux.value)/1000 > 2.5e-7].time\n",
    "\n",
    "tdiff = (\n",
    "    tidy_df[tidy_df.variable == 'Tsurfpot_c'].set_index('time')[['value']] - \n",
    "    tidy_df[tidy_df.variable == 'Tpot_3m_c'].set_index('time')[['value']]\n",
    ")\n",
    "tdiff_good_times = tdiff[np.abs(tdiff.value > 0.5)].index\n",
    "\n",
    "Qdiff = (\n",
    "    tidy_df[tidy_df.variable == 'Tsurfspecifichumidity_c'].set_index('time')[['value']] - \n",
    "    tidy_df[tidy_df.variable == 'specifichumidity_3m_c'].set_index('time')[['value']]\n",
    ")\n",
    "Qdiff_good_times = Qdiff[np.abs(Qdiff.value > 1e-5)].index\n",
    "\n",
    "all_good_times = set(stress_good_times).intersection(\n",
    "    set(shflux_good_times)\n",
    ").intersection(\n",
    "    set(lhflux_good_times)\n",
    ").intersection(\n",
    "    set(tdiff_good_times)\n",
    ").intersection(\n",
    "    set(Qdiff_good_times)\n",
    ")"
   ]
  },
  {
   "cell_type": "code",
   "execution_count": 27,
   "metadata": {},
   "outputs": [
    {
     "name": "stdout",
     "output_type": "stream",
     "text": [
      "7728\n",
      "7074\n",
      "4404\n",
      "6253\n",
      "1895\n",
      "5298\n",
      "694\n"
     ]
    }
   ],
   "source": [
    "print(len(tidy_df.time.unique()))\n",
    "print(len(stress_good_times))\n",
    "print(len(shflux_good_times))\n",
    "print(len(lhflux_good_times))\n",
    "print(len(tdiff_good_times))\n",
    "print(len(Qdiff_good_times))\n",
    "print(len(all_good_times))"
   ]
  },
  {
   "cell_type": "code",
   "execution_count": 28,
   "metadata": {},
   "outputs": [],
   "source": [
    "z0_andreas_df_strict = z0_andreas_df[z0_andreas_df.time.isin(all_good_times)]"
   ]
  },
  {
   "cell_type": "code",
   "execution_count": 42,
   "metadata": {},
   "outputs": [],
   "source": [
    "nobs_times = tidy_df.query(\"variable == 'SF_avg_ue'\").query(\"value == 0\").time.values"
   ]
  },
  {
   "cell_type": "code",
   "execution_count": 43,
   "metadata": {},
   "outputs": [],
   "source": [
    "z0_andreas_df_nobs = z0_andreas_df[z0_andreas_df.time.isin(nobs_times)]"
   ]
  },
  {
   "cell_type": "code",
   "execution_count": 29,
   "metadata": {},
   "outputs": [
    {
     "name": "stdout",
     "output_type": "stream",
     "text": [
      "5255 527\n"
     ]
    }
   ],
   "source": [
    "print(len(z0_andreas_df.dropna()), len(z0_andreas_df_strict.dropna()))"
   ]
  },
  {
   "cell_type": "code",
   "execution_count": 49,
   "metadata": {},
   "outputs": [
    {
     "name": "stderr",
     "output_type": "stream",
     "text": [
      "/Users/elischwat/miniforge3/envs/sublimationofsnow/lib/python3.12/site-packages/pandas/core/internals/blocks.py:393: RuntimeWarning: divide by zero encountered in log10\n",
      "  result = func(self.values, **kwargs)\n",
      "/Users/elischwat/miniforge3/envs/sublimationofsnow/lib/python3.12/site-packages/pandas/core/internals/blocks.py:393: RuntimeWarning: divide by zero encountered in log10\n",
      "  result = func(self.values, **kwargs)\n",
      "/Users/elischwat/miniforge3/envs/sublimationofsnow/lib/python3.12/site-packages/pandas/core/internals/blocks.py:393: RuntimeWarning: divide by zero encountered in log10\n",
      "  result = func(self.values, **kwargs)\n",
      "/Users/elischwat/miniforge3/envs/sublimationofsnow/lib/python3.12/site-packages/pandas/core/internals/blocks.py:393: RuntimeWarning: divide by zero encountered in log10\n",
      "  result = func(self.values, **kwargs)\n"
     ]
    },
    {
     "data": {
      "application/vnd.vegalite.v5+json": {
       "$schema": "https://vega.github.io/schema/vega-lite/v5.16.3.json",
       "config": {
        "view": {
         "continuousHeight": 300,
         "continuousWidth": 300
        }
       },
       "hconcat": [
        {
         "layer": [
          {
           "data": {
            "format": {
             "type": "json"
            },
            "url": "altair-data-ef44d0ad93b3dec7ccdda3cb54364a4d.json"
           },
           "encoding": {
            "x": {
             "bin": {
              "maxbins": 30
             },
             "field": "z0",
             "type": "quantitative"
            },
            "y": {
             "aggregate": "count",
             "type": "quantitative"
            }
           },
           "mark": {
            "type": "bar"
           }
          },
          {
           "data": {
            "format": {
             "type": "json"
            },
            "url": "altair-data-ef44d0ad93b3dec7ccdda3cb54364a4d.json"
           },
           "encoding": {
            "x": {
             "aggregate": "median",
             "field": "z0",
             "type": "quantitative"
            }
           },
           "mark": {
            "color": "red",
            "strokeDash": [
             8,
             4
            ],
            "strokeWidth": 3,
            "type": "rule"
           }
          }
         ],
         "title": "Median z0 = 7.3e-05"
        },
        {
         "layer": [
          {
           "data": {
            "format": {
             "type": "json"
            },
            "url": "altair-data-70aea092dd9592c4775a564472bac87a.json"
           },
           "encoding": {
            "x": {
             "bin": {
              "maxbins": 30
             },
             "field": "z0",
             "type": "quantitative"
            },
            "y": {
             "aggregate": "count",
             "type": "quantitative"
            }
           },
           "mark": {
            "type": "bar"
           }
          },
          {
           "data": {
            "format": {
             "type": "json"
            },
            "url": "altair-data-70aea092dd9592c4775a564472bac87a.json"
           },
           "encoding": {
            "x": {
             "aggregate": "median",
             "field": "z0",
             "type": "quantitative"
            }
           },
           "mark": {
            "color": "red",
            "strokeDash": [
             8,
             4
            ],
            "strokeWidth": 3,
            "type": "rule"
           }
          }
         ],
         "title": "Median z0 = 0.000164"
        },
        {
         "layer": [
          {
           "data": {
            "format": {
             "type": "json"
            },
            "url": "altair-data-96fbfa56d4f2d68470a1068c2d632f04.json"
           },
           "encoding": {
            "x": {
             "bin": {
              "maxbins": 30
             },
             "field": "z0",
             "type": "quantitative"
            },
            "y": {
             "aggregate": "count",
             "type": "quantitative"
            }
           },
           "mark": {
            "type": "bar"
           }
          },
          {
           "data": {
            "format": {
             "type": "json"
            },
            "url": "altair-data-96fbfa56d4f2d68470a1068c2d632f04.json"
           },
           "encoding": {
            "x": {
             "aggregate": "median",
             "field": "z0",
             "type": "quantitative"
            }
           },
           "mark": {
            "color": "red",
            "strokeDash": [
             8,
             4
            ],
            "strokeWidth": 3,
            "type": "rule"
           }
          }
         ],
         "title": "Median z0 = 4.5e-05"
        }
       ],
       "resolve": {
        "scale": {
         "x": "shared"
        }
       }
      },
      "text/plain": [
       "<VegaLite 5 object>\n",
       "\n",
       "If you see this message, it means the renderer has not been properly enabled\n",
       "for the frontend that you are using. For more information, see\n",
       "https://altair-viz.github.io/user_guide/display_frontends.html#troubleshooting\n"
      ]
     },
     "execution_count": 49,
     "metadata": {},
     "output_type": "execute_result"
    }
   ],
   "source": [
    "(\n",
    "    (\n",
    "        alt.Chart(\n",
    "            np.log10(z0_andreas_df.set_index('time')).reset_index()\n",
    "        ).mark_bar().encode(\n",
    "            alt.X(\"z0:Q\").bin(maxbins=30),\n",
    "            alt.Y(\"count():Q\")\n",
    "        ) +\n",
    "        alt.Chart(\n",
    "            np.log10(z0_andreas_df.set_index('time')).reset_index()\n",
    "        ).mark_rule(strokeWidth=3, strokeDash=[8,4], color='red').encode(\n",
    "            alt.X(\"median(z0):Q\")\n",
    "        )\n",
    "    ).properties(title=f\"Median z0 = {round(z0_andreas_df.z0.median(), 6)}\")\n",
    "|\n",
    "    (\n",
    "        alt.Chart(\n",
    "            np.log10(z0_andreas_df_strict.set_index('time')).reset_index()\n",
    "        ).mark_bar().encode(\n",
    "            alt.X(\"z0:Q\").bin(maxbins=30),\n",
    "            alt.Y(\"count():Q\")\n",
    "        ) +\n",
    "        alt.Chart(\n",
    "            np.log10(z0_andreas_df_strict.set_index('time')).reset_index()\n",
    "        ).mark_rule(strokeWidth=3, strokeDash=[8,4], color='red').encode(\n",
    "            alt.X(\"median(z0):Q\")\n",
    "        )\n",
    "    ).properties(title=f\"Median z0 = {round(z0_andreas_df_strict.z0.median(), 6)}\")\n",
    "|\n",
    "    (\n",
    "        alt.Chart(\n",
    "            np.log10(z0_andreas_df_nobs.set_index('time')).reset_index()\n",
    "        ).mark_bar().encode(\n",
    "            alt.X(\"z0:Q\").bin(maxbins=30),\n",
    "            alt.Y(\"count():Q\")\n",
    "        ) +\n",
    "        alt.Chart(\n",
    "            np.log10(z0_andreas_df_nobs.set_index('time')).reset_index()\n",
    "        ).mark_rule(strokeWidth=3, strokeDash=[8,4], color='red').encode(\n",
    "            alt.X(\"median(z0):Q\")\n",
    "        )\n",
    "    ).properties(title=f\"Median z0 = {round(z0_andreas_df_nobs.z0.median(), 6)}\")\n",
    ").resolve_scale(x='shared')"
   ]
  },
  {
   "cell_type": "markdown",
   "metadata": {},
   "source": [
    "## Calculate weekly medians"
   ]
  },
  {
   "cell_type": "code",
   "execution_count": 50,
   "metadata": {},
   "outputs": [],
   "source": [
    "z0_andreas_df_weekly = z0_andreas_df.set_index('time').resample('W-MON').median().reset_index()\n",
    "z0_andreas_df_strict_weekly = z0_andreas_df_strict.set_index('time').resample('W-MON').median().reset_index()\n",
    "z0_andreas_df_nobs_weekly = z0_andreas_df_nobs.set_index('time').resample('W-MON').median().reset_index()\n",
    "\n",
    "z0_andreas_df_weekly_counts = z0_andreas_df.set_index('time').resample('W-MON').count().reset_index()\n",
    "z0_andreas_df_strict_weekly_counts = z0_andreas_df_strict.set_index('time').resample('W-MON').count().reset_index()\n",
    "z0_andreas_df_nobs_weekly_counts = z0_andreas_df_nobs.set_index('time').resample('W-MON').count().reset_index()"
   ]
  },
  {
   "cell_type": "code",
   "execution_count": 53,
   "metadata": {},
   "outputs": [
    {
     "data": {
      "text/html": [
       "<div>\n",
       "<style scoped>\n",
       "    .dataframe tbody tr th:only-of-type {\n",
       "        vertical-align: middle;\n",
       "    }\n",
       "\n",
       "    .dataframe tbody tr th {\n",
       "        vertical-align: top;\n",
       "    }\n",
       "\n",
       "    .dataframe thead th {\n",
       "        text-align: right;\n",
       "    }\n",
       "</style>\n",
       "<table border=\"1\" class=\"dataframe\">\n",
       "  <thead>\n",
       "    <tr style=\"text-align: right;\">\n",
       "      <th></th>\n",
       "      <th>time</th>\n",
       "      <th>all data</th>\n",
       "      <th>filtered</th>\n",
       "      <th>no bs</th>\n",
       "      <th>all data counts</th>\n",
       "      <th>filtered counts</th>\n",
       "      <th>no bs counts</th>\n",
       "    </tr>\n",
       "  </thead>\n",
       "  <tbody>\n",
       "    <tr>\n",
       "      <th>0</th>\n",
       "      <td>2022-12-05</td>\n",
       "      <td>0.000327</td>\n",
       "      <td>0.001607</td>\n",
       "      <td>0.000282</td>\n",
       "      <td>226</td>\n",
       "      <td>12.0</td>\n",
       "      <td>176</td>\n",
       "    </tr>\n",
       "    <tr>\n",
       "      <th>1</th>\n",
       "      <td>2022-12-12</td>\n",
       "      <td>0.000137</td>\n",
       "      <td>0.003862</td>\n",
       "      <td>0.000080</td>\n",
       "      <td>247</td>\n",
       "      <td>5.0</td>\n",
       "      <td>194</td>\n",
       "    </tr>\n",
       "    <tr>\n",
       "      <th>2</th>\n",
       "      <td>2022-12-19</td>\n",
       "      <td>0.000282</td>\n",
       "      <td>0.000191</td>\n",
       "      <td>0.000091</td>\n",
       "      <td>304</td>\n",
       "      <td>22.0</td>\n",
       "      <td>212</td>\n",
       "    </tr>\n",
       "    <tr>\n",
       "      <th>3</th>\n",
       "      <td>2022-12-26</td>\n",
       "      <td>0.000115</td>\n",
       "      <td>0.000588</td>\n",
       "      <td>0.000080</td>\n",
       "      <td>253</td>\n",
       "      <td>30.0</td>\n",
       "      <td>188</td>\n",
       "    </tr>\n",
       "    <tr>\n",
       "      <th>4</th>\n",
       "      <td>2023-01-02</td>\n",
       "      <td>0.000044</td>\n",
       "      <td>0.000087</td>\n",
       "      <td>0.000044</td>\n",
       "      <td>225</td>\n",
       "      <td>4.0</td>\n",
       "      <td>152</td>\n",
       "    </tr>\n",
       "    <tr>\n",
       "      <th>5</th>\n",
       "      <td>2023-01-09</td>\n",
       "      <td>0.000154</td>\n",
       "      <td>0.000170</td>\n",
       "      <td>0.000161</td>\n",
       "      <td>210</td>\n",
       "      <td>55.0</td>\n",
       "      <td>172</td>\n",
       "    </tr>\n",
       "    <tr>\n",
       "      <th>6</th>\n",
       "      <td>2023-01-16</td>\n",
       "      <td>0.000054</td>\n",
       "      <td>0.000052</td>\n",
       "      <td>0.000037</td>\n",
       "      <td>212</td>\n",
       "      <td>28.0</td>\n",
       "      <td>174</td>\n",
       "    </tr>\n",
       "    <tr>\n",
       "      <th>7</th>\n",
       "      <td>2023-01-23</td>\n",
       "      <td>0.000085</td>\n",
       "      <td>0.000154</td>\n",
       "      <td>0.000057</td>\n",
       "      <td>253</td>\n",
       "      <td>18.0</td>\n",
       "      <td>197</td>\n",
       "    </tr>\n",
       "    <tr>\n",
       "      <th>8</th>\n",
       "      <td>2023-01-30</td>\n",
       "      <td>0.000086</td>\n",
       "      <td>0.000005</td>\n",
       "      <td>0.000079</td>\n",
       "      <td>290</td>\n",
       "      <td>19.0</td>\n",
       "      <td>198</td>\n",
       "    </tr>\n",
       "    <tr>\n",
       "      <th>9</th>\n",
       "      <td>2023-02-06</td>\n",
       "      <td>0.000043</td>\n",
       "      <td>0.000022</td>\n",
       "      <td>0.000045</td>\n",
       "      <td>250</td>\n",
       "      <td>35.0</td>\n",
       "      <td>200</td>\n",
       "    </tr>\n",
       "    <tr>\n",
       "      <th>10</th>\n",
       "      <td>2023-02-13</td>\n",
       "      <td>0.000081</td>\n",
       "      <td>0.000102</td>\n",
       "      <td>0.000046</td>\n",
       "      <td>260</td>\n",
       "      <td>11.0</td>\n",
       "      <td>210</td>\n",
       "    </tr>\n",
       "    <tr>\n",
       "      <th>11</th>\n",
       "      <td>2023-02-20</td>\n",
       "      <td>0.000248</td>\n",
       "      <td>0.000154</td>\n",
       "      <td>0.000086</td>\n",
       "      <td>256</td>\n",
       "      <td>19.0</td>\n",
       "      <td>139</td>\n",
       "    </tr>\n",
       "    <tr>\n",
       "      <th>12</th>\n",
       "      <td>2023-02-27</td>\n",
       "      <td>0.000086</td>\n",
       "      <td>0.000510</td>\n",
       "      <td>0.000041</td>\n",
       "      <td>273</td>\n",
       "      <td>75.0</td>\n",
       "      <td>167</td>\n",
       "    </tr>\n",
       "    <tr>\n",
       "      <th>13</th>\n",
       "      <td>2023-03-06</td>\n",
       "      <td>0.000134</td>\n",
       "      <td>0.000416</td>\n",
       "      <td>0.000061</td>\n",
       "      <td>222</td>\n",
       "      <td>28.0</td>\n",
       "      <td>123</td>\n",
       "    </tr>\n",
       "    <tr>\n",
       "      <th>14</th>\n",
       "      <td>2023-03-13</td>\n",
       "      <td>0.000050</td>\n",
       "      <td>0.000246</td>\n",
       "      <td>0.000033</td>\n",
       "      <td>141</td>\n",
       "      <td>3.0</td>\n",
       "      <td>94</td>\n",
       "    </tr>\n",
       "    <tr>\n",
       "      <th>15</th>\n",
       "      <td>2023-03-20</td>\n",
       "      <td>0.000027</td>\n",
       "      <td>0.000013</td>\n",
       "      <td>0.000022</td>\n",
       "      <td>221</td>\n",
       "      <td>10.0</td>\n",
       "      <td>182</td>\n",
       "    </tr>\n",
       "    <tr>\n",
       "      <th>16</th>\n",
       "      <td>2023-03-27</td>\n",
       "      <td>0.000102</td>\n",
       "      <td>0.000405</td>\n",
       "      <td>0.000040</td>\n",
       "      <td>264</td>\n",
       "      <td>56.0</td>\n",
       "      <td>140</td>\n",
       "    </tr>\n",
       "    <tr>\n",
       "      <th>17</th>\n",
       "      <td>2023-04-03</td>\n",
       "      <td>0.000042</td>\n",
       "      <td>0.000417</td>\n",
       "      <td>0.000032</td>\n",
       "      <td>215</td>\n",
       "      <td>35.0</td>\n",
       "      <td>161</td>\n",
       "    </tr>\n",
       "    <tr>\n",
       "      <th>18</th>\n",
       "      <td>2023-04-10</td>\n",
       "      <td>0.000011</td>\n",
       "      <td>0.000013</td>\n",
       "      <td>0.000008</td>\n",
       "      <td>206</td>\n",
       "      <td>10.0</td>\n",
       "      <td>157</td>\n",
       "    </tr>\n",
       "    <tr>\n",
       "      <th>19</th>\n",
       "      <td>2023-04-17</td>\n",
       "      <td>0.000026</td>\n",
       "      <td>0.000091</td>\n",
       "      <td>0.000015</td>\n",
       "      <td>178</td>\n",
       "      <td>26.0</td>\n",
       "      <td>148</td>\n",
       "    </tr>\n",
       "    <tr>\n",
       "      <th>20</th>\n",
       "      <td>2023-04-24</td>\n",
       "      <td>0.000023</td>\n",
       "      <td>0.000026</td>\n",
       "      <td>0.000017</td>\n",
       "      <td>208</td>\n",
       "      <td>22.0</td>\n",
       "      <td>141</td>\n",
       "    </tr>\n",
       "    <tr>\n",
       "      <th>21</th>\n",
       "      <td>2023-05-01</td>\n",
       "      <td>0.000009</td>\n",
       "      <td>0.000282</td>\n",
       "      <td>0.000009</td>\n",
       "      <td>153</td>\n",
       "      <td>4.0</td>\n",
       "      <td>129</td>\n",
       "    </tr>\n",
       "    <tr>\n",
       "      <th>22</th>\n",
       "      <td>2023-05-08</td>\n",
       "      <td>0.000045</td>\n",
       "      <td>NaN</td>\n",
       "      <td>0.000050</td>\n",
       "      <td>159</td>\n",
       "      <td>NaN</td>\n",
       "      <td>156</td>\n",
       "    </tr>\n",
       "    <tr>\n",
       "      <th>23</th>\n",
       "      <td>2023-05-15</td>\n",
       "      <td>0.000027</td>\n",
       "      <td>NaN</td>\n",
       "      <td>0.000027</td>\n",
       "      <td>29</td>\n",
       "      <td>NaN</td>\n",
       "      <td>29</td>\n",
       "    </tr>\n",
       "  </tbody>\n",
       "</table>\n",
       "</div>"
      ],
      "text/plain": [
       "         time  all data  filtered     no bs  all data counts  filtered counts  \\\n",
       "0  2022-12-05  0.000327  0.001607  0.000282              226             12.0   \n",
       "1  2022-12-12  0.000137  0.003862  0.000080              247              5.0   \n",
       "2  2022-12-19  0.000282  0.000191  0.000091              304             22.0   \n",
       "3  2022-12-26  0.000115  0.000588  0.000080              253             30.0   \n",
       "4  2023-01-02  0.000044  0.000087  0.000044              225              4.0   \n",
       "5  2023-01-09  0.000154  0.000170  0.000161              210             55.0   \n",
       "6  2023-01-16  0.000054  0.000052  0.000037              212             28.0   \n",
       "7  2023-01-23  0.000085  0.000154  0.000057              253             18.0   \n",
       "8  2023-01-30  0.000086  0.000005  0.000079              290             19.0   \n",
       "9  2023-02-06  0.000043  0.000022  0.000045              250             35.0   \n",
       "10 2023-02-13  0.000081  0.000102  0.000046              260             11.0   \n",
       "11 2023-02-20  0.000248  0.000154  0.000086              256             19.0   \n",
       "12 2023-02-27  0.000086  0.000510  0.000041              273             75.0   \n",
       "13 2023-03-06  0.000134  0.000416  0.000061              222             28.0   \n",
       "14 2023-03-13  0.000050  0.000246  0.000033              141              3.0   \n",
       "15 2023-03-20  0.000027  0.000013  0.000022              221             10.0   \n",
       "16 2023-03-27  0.000102  0.000405  0.000040              264             56.0   \n",
       "17 2023-04-03  0.000042  0.000417  0.000032              215             35.0   \n",
       "18 2023-04-10  0.000011  0.000013  0.000008              206             10.0   \n",
       "19 2023-04-17  0.000026  0.000091  0.000015              178             26.0   \n",
       "20 2023-04-24  0.000023  0.000026  0.000017              208             22.0   \n",
       "21 2023-05-01  0.000009  0.000282  0.000009              153              4.0   \n",
       "22 2023-05-08  0.000045       NaN  0.000050              159              NaN   \n",
       "23 2023-05-15  0.000027       NaN  0.000027               29              NaN   \n",
       "\n",
       "    no bs counts  \n",
       "0            176  \n",
       "1            194  \n",
       "2            212  \n",
       "3            188  \n",
       "4            152  \n",
       "5            172  \n",
       "6            174  \n",
       "7            197  \n",
       "8            198  \n",
       "9            200  \n",
       "10           210  \n",
       "11           139  \n",
       "12           167  \n",
       "13           123  \n",
       "14            94  \n",
       "15           182  \n",
       "16           140  \n",
       "17           161  \n",
       "18           157  \n",
       "19           148  \n",
       "20           141  \n",
       "21           129  \n",
       "22           156  \n",
       "23            29  "
      ]
     },
     "execution_count": 53,
     "metadata": {},
     "output_type": "execute_result"
    }
   ],
   "source": [
    "z0_andreas_df_weekly = pd.merge(\n",
    "    z0_andreas_df_weekly[['time', 'z0']].rename(columns={'z0': 'all data'}),\n",
    "    z0_andreas_df_strict_weekly[['time', 'z0']].rename(columns={'z0': 'filtered'}),\n",
    "    on='time',\n",
    "    how='outer'\n",
    ").merge(\n",
    "    z0_andreas_df_nobs_weekly[['time', 'z0']].rename(columns={'z0': 'no bs'}),\n",
    "    on='time',\n",
    "    how='outer'\n",
    ")\n",
    "\n",
    "z0_andreas_df_weekly_counts = pd.merge(\n",
    "    z0_andreas_df_weekly_counts[['time', 'z0']].rename(columns={'z0': 'all data'}),\n",
    "    z0_andreas_df_strict_weekly_counts[['time', 'z0']].rename(columns={'z0': 'filtered'}),\n",
    "    on='time',\n",
    "    how='outer'\n",
    ").merge(\n",
    "    z0_andreas_df_nobs_weekly_counts[['time', 'z0']].rename(columns={'z0': 'no bs'}),\n",
    "    on='time',\n",
    "    how='outer'\n",
    ").rename(columns = {\n",
    "    'all data': 'all data counts',\n",
    "    'filtered': 'filtered counts',\n",
    "    'no bs': 'no bs counts'\n",
    "})\n",
    "\n",
    "z0_andreas_df_weekly = z0_andreas_df_weekly.merge(z0_andreas_df_weekly_counts, on='time')\n",
    "z0_andreas_df_weekly"
   ]
  },
  {
   "cell_type": "code",
   "execution_count": 55,
   "metadata": {},
   "outputs": [
    {
     "name": "stdout",
     "output_type": "stream",
     "text": [
      "time    2023-02-18 11:45:00\n",
      "z0                 0.000073\n",
      "z0T                     0.0\n",
      "z0q                0.112439\n",
      "dtype: object\n",
      "\n",
      "time    2023-02-22 23:45:00\n",
      "z0                 0.000164\n",
      "z0T               40.690011\n",
      "z0q                0.423776\n",
      "dtype: object\n",
      "\n",
      "time    2023-02-17 02:45:00\n",
      "z0                 0.000045\n",
      "z0T                     0.0\n",
      "z0q                0.063363\n",
      "dtype: object\n"
     ]
    }
   ],
   "source": [
    "print(z0_andreas_df.median())\n",
    "print()\n",
    "print(z0_andreas_df_strict.median())\n",
    "print()\n",
    "print(z0_andreas_df_nobs.median())"
   ]
  },
  {
   "cell_type": "code",
   "execution_count": 57,
   "metadata": {},
   "outputs": [
    {
     "data": {
      "application/vnd.vegalite.v5+json": {
       "$schema": "https://vega.github.io/schema/vega-lite/v5.16.3.json",
       "config": {
        "axis": {
         "grid": false
        },
        "view": {
         "continuousHeight": 300,
         "continuousWidth": 300
        }
       },
       "height": 100,
       "layer": [
        {
         "data": {
          "format": {
           "type": "json"
          },
          "url": "altair-data-5e89c18ef78229a54473c53a1f17df72.json"
         },
         "encoding": {
          "y": {
           "field": "y",
           "type": "quantitative"
          }
         },
         "mark": {
          "color": "red",
          "size": 2,
          "type": "rule"
         }
        },
        {
         "data": {
          "format": {
           "type": "json"
          },
          "url": "altair-data-65b9fe30a297056ce7d48bfe4a669ef9.json"
         },
         "encoding": {
          "y": {
           "field": "y",
           "type": "quantitative"
          }
         },
         "mark": {
          "color": "red",
          "size": 2,
          "strokeDash": [
           3,
           2
          ],
          "type": "rule"
         }
        },
        {
         "layer": [
          {
           "data": {
            "format": {
             "type": "json"
            },
            "url": "altair-data-ce54dc4eb2216d3e2847c146865ceb38.json"
           },
           "encoding": {
            "x": {
             "field": "time",
             "type": "temporal"
            },
            "y": {
             "axis": {
              "format": "e"
             },
             "field": "z0",
             "scale": {
              "type": "log"
             },
             "type": "quantitative"
            }
           },
           "mark": {
            "opacity": 0.25,
            "size": 5,
            "type": "circle"
           }
          },
          {
           "data": {
            "format": {
             "type": "json"
            },
            "url": "altair-data-9aa0cc6c2ec9c479efb39b33e29e44ad.json"
           },
           "encoding": {
            "shape": {
             "field": "key",
             "type": "nominal"
            },
            "x": {
             "field": "time",
             "type": "temporal"
            },
            "y": {
             "field": "value",
             "title": "z₀",
             "type": "quantitative"
            }
           },
           "mark": {
            "color": "black",
            "size": 40,
            "type": "point"
           },
           "transform": [
            {
             "fold": [
              "all data",
              "filtered",
              "no bs"
             ]
            }
           ]
          }
         ]
        }
       ],
       "width": 250
      },
      "text/plain": [
       "<VegaLite 5 object>\n",
       "\n",
       "If you see this message, it means the renderer has not been properly enabled\n",
       "for the frontend that you are using. For more information, see\n",
       "https://altair-viz.github.io/user_guide/display_frontends.html#troubleshooting\n"
      ]
     },
     "metadata": {
      "application/vnd.vegalite.v5+json": {
       "embed_options": {
        "renderer": "svg"
       }
      }
     },
     "output_type": "display_data"
    }
   ],
   "source": [
    "all_z0 = alt.Chart(\n",
    "    z0_andreas_df\n",
    ").mark_circle(opacity=0.25, size=5).encode(\n",
    "    alt.X('time:T'),\n",
    "    alt.Y(\"z0:Q\").scale(type='log').axis(format=\"e\"),\n",
    ")\n",
    "weekly_median_z0 = alt.Chart(\n",
    "    z0_andreas_df_weekly.iloc[:-1]\n",
    ").transform_fold(\n",
    "    ['all data', 'filtered', 'no bs']\n",
    ").mark_point(size=40, color='black').encode(\n",
    "    alt.X('time:T'),\n",
    "    alt.Y(\"value:Q\").title(\"z₀\"),\n",
    "    alt.Shape(\"key:N\")#.scale(range=['circle', 'triangle']).title([\"Weekly\", \"average\"])\n",
    ")\n",
    "\n",
    "median_line = alt.Chart(\n",
    "    pd.DataFrame({'y':[z0_andreas_df.median().z0]})\n",
    ").mark_rule(color='red', size=2).encode(y='y')\n",
    "strict_median_line = alt.Chart(\n",
    "    pd.DataFrame({'y':[z0_andreas_df_strict.median().z0]})\n",
    ").mark_rule(color='red', size=2, strokeDash=[3,2]).encode(y='y')\n",
    "\n",
    "z0_calculations_chart = (all_z0 + weekly_median_z0).properties(width = 250, height = 100)\n",
    "z0_calculations_chart = (median_line + strict_median_line + z0_calculations_chart).configure_axis(grid=False)\n",
    "z0_calculations_chart.save(\"z0_calculations_chart.png\", ppi=400)\n",
    "z0_calculations_chart.display(renderer='svg')"
   ]
  },
  {
   "cell_type": "markdown",
   "metadata": {},
   "source": [
    "# Save roughness length values"
   ]
  },
  {
   "cell_type": "code",
   "execution_count": 59,
   "metadata": {},
   "outputs": [],
   "source": [
    "z0_andreas_df.to_parquet(\"z0estimates/z0_andreas_df.parquet\")\n",
    "z0_andreas_df_strict.to_parquet(\"z0estimates/z0_andreas_df_strict.parquet\")\n",
    "z0_andreas_df_nobs.to_parquet(\"z0estimates/z0_andreas_df_nobs.parquet\")\n",
    "z0_andreas_df_weekly.to_parquet(\"z0estimates/z0_andreas_df_weekly.parquet\")"
   ]
  }
 ],
 "metadata": {
  "kernelspec": {
   "display_name": "arm",
   "language": "python",
   "name": "python3"
  },
  "language_info": {
   "codemirror_mode": {
    "name": "ipython",
    "version": 3
   },
   "file_extension": ".py",
   "mimetype": "text/x-python",
   "name": "python",
   "nbconvert_exporter": "python",
   "pygments_lexer": "ipython3",
   "version": "3.1.0"
  }
 },
 "nbformat": 4,
 "nbformat_minor": 2
}
