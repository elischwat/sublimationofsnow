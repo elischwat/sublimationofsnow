{
 "cells": [
  {
   "cell_type": "code",
   "execution_count": 1,
   "metadata": {},
   "outputs": [
    {
     "data": {
      "text/plain": [
       "RendererRegistry.enable('jupyterlab')"
      ]
     },
     "execution_count": 1,
     "metadata": {},
     "output_type": "execute_result"
    }
   ],
   "source": [
    "import numpy as np\n",
    "import pandas as pd\n",
    "\n",
    "import matplotlib.pyplot as plt\n",
    "import altair as alt\n",
    "alt.data_transformers.enable('json')\n",
    "alt.renderers.enable('jupyterlab')"
   ]
  },
  {
   "cell_type": "markdown",
   "metadata": {},
   "source": [
    "# User inputs"
   ]
  },
  {
   "cell_type": "code",
   "execution_count": 2,
   "metadata": {},
   "outputs": [],
   "source": [
    "start_date = '20221130'\n",
    "end_date = '20230509'\n",
    "\n",
    "tidy_dataset_fn = f\"tidy_df_30Min_{start_date}_{end_date}_noplanar_fit.parquet\"\n",
    "tidy_dataset_5min_fn = f\"tidy_df_{start_date}_{end_date}_noplanar_fit.parquet\"\n",
    "tidy_daily_dataset_output_fn = f\"tidy_df_daily_{start_date}_{end_date}_noplanar_fit.parquet\""
   ]
  },
  {
   "cell_type": "markdown",
   "metadata": {},
   "source": [
    "# Load data"
   ]
  },
  {
   "cell_type": "code",
   "execution_count": 3,
   "metadata": {},
   "outputs": [],
   "source": [
    "try:\n",
    "    tidy_df_30Min = pd.read_parquet(\n",
    "        tidy_dataset_fn\n",
    "    )\n",
    "except FileNotFoundError:\n",
    "    print(\"No file such file exists for these dates.\")\n",
    "tidy_df_30Min['time'] = pd.to_datetime(tidy_df_30Min['time'])\n",
    "\n",
    "try:\n",
    "    tidy_df_5Min = pd.read_parquet(\n",
    "        tidy_dataset_5min_fn\n",
    "    )\n",
    "except FileNotFoundError:\n",
    "    print(\"No file such file exists for these dates.\")\n",
    "tidy_df_5Min['time'] = pd.to_datetime(tidy_df_5Min['time'])"
   ]
  },
  {
   "cell_type": "markdown",
   "metadata": {},
   "source": [
    "# Examine pot. virtual temperature gradient"
   ]
  },
  {
   "cell_type": "code",
   "execution_count": 4,
   "metadata": {},
   "outputs": [
    {
     "data": {
      "text/plain": [
       "1.4157502422216274e-06"
      ]
     },
     "execution_count": 4,
     "metadata": {},
     "output_type": "execute_result"
    }
   ],
   "source": [
    "np.abs(tidy_df_30Min[tidy_df_30Min.measurement == 'temperature gradient'].value).min()"
   ]
  },
  {
   "cell_type": "code",
   "execution_count": 5,
   "metadata": {},
   "outputs": [
    {
     "data": {
      "application/vnd.vegalite.v5+json": {
       "$schema": "https://vega.github.io/schema/vega-lite/v5.16.3.json",
       "config": {
        "view": {
         "continuousHeight": 300,
         "continuousWidth": 300
        }
       },
       "vconcat": [
        {
         "data": {
          "format": {
           "type": "json"
          },
          "url": "altair-data-01e16f64fb9eb6ebdc7b0857d941d97b.json"
         },
         "encoding": {
          "column": {
           "field": "height",
           "type": "ordinal"
          },
          "x": {
           "field": "time",
           "type": "temporal"
          },
          "y": {
           "field": "value",
           "type": "quantitative"
          }
         },
         "height": 200,
         "mark": {
          "type": "line"
         },
         "width": 200
        },
        {
         "data": {
          "format": {
           "type": "json"
          },
          "url": "altair-data-01e16f64fb9eb6ebdc7b0857d941d97b.json"
         },
         "encoding": {
          "column": {
           "field": "height",
           "type": "ordinal"
          },
          "x": {
           "bin": {
            "step": 0.1
           },
           "field": "value",
           "type": "quantitative"
          },
          "y": {
           "aggregate": "count",
           "type": "quantitative"
          }
         },
         "height": 200,
         "mark": {
          "type": "bar"
         },
         "width": 200
        }
       ]
      },
      "text/plain": [
       "<VegaLite 5 object>\n",
       "\n",
       "If you see this message, it means the renderer has not been properly enabled\n",
       "for the frontend that you are using. For more information, see\n",
       "https://altair-viz.github.io/user_guide/display_frontends.html#troubleshooting\n"
      ]
     },
     "execution_count": 5,
     "metadata": {},
     "output_type": "execute_result"
    }
   ],
   "source": [
    "alt.Chart(\n",
    "    tidy_df_30Min.query(\"measurement == 'temperature gradient'\").query(\"height < 5\")\n",
    ").mark_line().encode(\n",
    "    x = 'time:T',\n",
    "    y = 'value:Q',\n",
    "    column='height:O'\n",
    ").properties(width=200, height = 200) & alt.Chart(\n",
    "    tidy_df_30Min.query(\"measurement == 'temperature gradient'\").query(\"height < 5\")\n",
    ").mark_bar().encode(\n",
    "    alt.X('value:Q').bin(step=0.1),\n",
    "    alt.Y(\"count():Q\"),    \n",
    "    alt.Column('height:O')\n",
    ").properties(width=200, height = 200)"
   ]
  },
  {
   "cell_type": "code",
   "execution_count": 6,
   "metadata": {},
   "outputs": [],
   "source": [
    "src = tidy_df_30Min.query(\"variable == 'temp_gradient_3m_c'\")\n",
    "neutral_times = src[src['value'].abs() < 0.01].time"
   ]
  },
  {
   "cell_type": "code",
   "execution_count": 7,
   "metadata": {},
   "outputs": [
    {
     "data": {
      "application/vnd.vegalite.v5+json": {
       "$schema": "https://vega.github.io/schema/vega-lite/v5.16.3.json",
       "config": {
        "view": {
         "continuousHeight": 300,
         "continuousWidth": 300
        }
       },
       "data": {
        "format": {
         "type": "json"
        },
        "url": "altair-data-be2165531c05b634c20b3ba196b8cd3c.json"
       },
       "encoding": {
        "facet": {
         "columns": 8,
         "field": "time",
         "type": "ordinal"
        },
        "x": {
         "field": "value",
         "sort": "-y",
         "title": "Wind speed (m/s)",
         "type": "quantitative"
        },
        "y": {
         "field": "height",
         "title": "Height (m)",
         "type": "quantitative"
        }
       },
       "height": 125,
       "mark": {
        "type": "line"
       },
       "width": 125
      },
      "text/plain": [
       "<VegaLite 5 object>\n",
       "\n",
       "If you see this message, it means the renderer has not been properly enabled\n",
       "for the frontend that you are using. For more information, see\n",
       "https://altair-viz.github.io/user_guide/display_frontends.html#troubleshooting\n"
      ]
     },
     "execution_count": 7,
     "metadata": {},
     "output_type": "execute_result"
    }
   ],
   "source": [
    "alt.Chart(\n",
    "    tidy_df_30Min[\n",
    "        tidy_df_30Min.time.isin(neutral_times.sample(16))\n",
    "    ].query(\"measurement == 'wind speed'\").query(\"tower == 'c'\")\n",
    ").mark_line().encode(\n",
    "    alt.X(\"value:Q\").title(\"Wind speed (m/s)\").sort('-y'),\n",
    "    alt.Y(\"height:Q\").title(\"Height (m)\"),\n",
    "    alt.Facet(\"time:O\", columns=8)\n",
    ").properties(width = 125, height = 125)"
   ]
  },
  {
   "cell_type": "code",
   "execution_count": 8,
   "metadata": {},
   "outputs": [
    {
     "data": {
      "text/html": [
       "<div>\n",
       "<style scoped>\n",
       "    .dataframe tbody tr th:only-of-type {\n",
       "        vertical-align: middle;\n",
       "    }\n",
       "\n",
       "    .dataframe tbody tr th {\n",
       "        vertical-align: top;\n",
       "    }\n",
       "\n",
       "    .dataframe thead th {\n",
       "        text-align: right;\n",
       "    }\n",
       "</style>\n",
       "<table border=\"1\" class=\"dataframe\">\n",
       "  <thead>\n",
       "    <tr style=\"text-align: right;\">\n",
       "      <th></th>\n",
       "      <th>spd_10m_c</th>\n",
       "      <th>spd_15m_c</th>\n",
       "      <th>spd_20m_c</th>\n",
       "      <th>spd_2m_c</th>\n",
       "      <th>spd_3m_c</th>\n",
       "      <th>spd_5m_c</th>\n",
       "      <th>u*_10m_c</th>\n",
       "      <th>u*_15m_c</th>\n",
       "      <th>u*_20m_c</th>\n",
       "      <th>u*_2m_c</th>\n",
       "      <th>u*_3m_c</th>\n",
       "      <th>u*_5m_c</th>\n",
       "      <th>snow_depth</th>\n",
       "    </tr>\n",
       "    <tr>\n",
       "      <th>time</th>\n",
       "      <th></th>\n",
       "      <th></th>\n",
       "      <th></th>\n",
       "      <th></th>\n",
       "      <th></th>\n",
       "      <th></th>\n",
       "      <th></th>\n",
       "      <th></th>\n",
       "      <th></th>\n",
       "      <th></th>\n",
       "      <th></th>\n",
       "      <th></th>\n",
       "      <th></th>\n",
       "    </tr>\n",
       "  </thead>\n",
       "  <tbody>\n",
       "    <tr>\n",
       "      <th>2022-12-02 10:30:00</th>\n",
       "      <td>5.852733</td>\n",
       "      <td>5.990304</td>\n",
       "      <td>6.163234</td>\n",
       "      <td>5.169695</td>\n",
       "      <td>5.503640</td>\n",
       "      <td>5.802035</td>\n",
       "      <td>0.771105</td>\n",
       "      <td>0.711912</td>\n",
       "      <td>0.749025</td>\n",
       "      <td>0.772614</td>\n",
       "      <td>0.748710</td>\n",
       "      <td>0.600726</td>\n",
       "      <td>0.346144</td>\n",
       "    </tr>\n",
       "    <tr>\n",
       "      <th>2022-12-02 11:00:00</th>\n",
       "      <td>5.108618</td>\n",
       "      <td>5.132134</td>\n",
       "      <td>5.137251</td>\n",
       "      <td>4.701602</td>\n",
       "      <td>4.848611</td>\n",
       "      <td>5.051483</td>\n",
       "      <td>0.792359</td>\n",
       "      <td>0.733981</td>\n",
       "      <td>0.720212</td>\n",
       "      <td>0.809777</td>\n",
       "      <td>0.727379</td>\n",
       "      <td>0.728357</td>\n",
       "      <td>0.346144</td>\n",
       "    </tr>\n",
       "    <tr>\n",
       "      <th>2022-12-02 11:30:00</th>\n",
       "      <td>4.945608</td>\n",
       "      <td>5.086113</td>\n",
       "      <td>5.158172</td>\n",
       "      <td>4.254836</td>\n",
       "      <td>4.424224</td>\n",
       "      <td>4.764127</td>\n",
       "      <td>0.827612</td>\n",
       "      <td>0.762404</td>\n",
       "      <td>0.772660</td>\n",
       "      <td>0.802487</td>\n",
       "      <td>0.794172</td>\n",
       "      <td>0.635123</td>\n",
       "      <td>0.346144</td>\n",
       "    </tr>\n",
       "    <tr>\n",
       "      <th>2022-12-02 12:00:00</th>\n",
       "      <td>6.954772</td>\n",
       "      <td>7.209726</td>\n",
       "      <td>7.195507</td>\n",
       "      <td>5.955409</td>\n",
       "      <td>6.454049</td>\n",
       "      <td>6.821709</td>\n",
       "      <td>0.922849</td>\n",
       "      <td>1.007616</td>\n",
       "      <td>1.199078</td>\n",
       "      <td>0.840452</td>\n",
       "      <td>0.820263</td>\n",
       "      <td>0.595426</td>\n",
       "      <td>0.346144</td>\n",
       "    </tr>\n",
       "    <tr>\n",
       "      <th>2022-12-02 12:30:00</th>\n",
       "      <td>4.535348</td>\n",
       "      <td>4.960222</td>\n",
       "      <td>4.781742</td>\n",
       "      <td>4.116060</td>\n",
       "      <td>4.270485</td>\n",
       "      <td>4.554066</td>\n",
       "      <td>0.813880</td>\n",
       "      <td>0.840683</td>\n",
       "      <td>0.887759</td>\n",
       "      <td>0.753841</td>\n",
       "      <td>0.708530</td>\n",
       "      <td>0.631443</td>\n",
       "      <td>0.346144</td>\n",
       "    </tr>\n",
       "  </tbody>\n",
       "</table>\n",
       "</div>"
      ],
      "text/plain": [
       "                     spd_10m_c  spd_15m_c  spd_20m_c  spd_2m_c  spd_3m_c  \\\n",
       "time                                                                       \n",
       "2022-12-02 10:30:00   5.852733   5.990304   6.163234  5.169695  5.503640   \n",
       "2022-12-02 11:00:00   5.108618   5.132134   5.137251  4.701602  4.848611   \n",
       "2022-12-02 11:30:00   4.945608   5.086113   5.158172  4.254836  4.424224   \n",
       "2022-12-02 12:00:00   6.954772   7.209726   7.195507  5.955409  6.454049   \n",
       "2022-12-02 12:30:00   4.535348   4.960222   4.781742  4.116060  4.270485   \n",
       "\n",
       "                     spd_5m_c  u*_10m_c  u*_15m_c  u*_20m_c   u*_2m_c  \\\n",
       "time                                                                    \n",
       "2022-12-02 10:30:00  5.802035  0.771105  0.711912  0.749025  0.772614   \n",
       "2022-12-02 11:00:00  5.051483  0.792359  0.733981  0.720212  0.809777   \n",
       "2022-12-02 11:30:00  4.764127  0.827612  0.762404  0.772660  0.802487   \n",
       "2022-12-02 12:00:00  6.821709  0.922849  1.007616  1.199078  0.840452   \n",
       "2022-12-02 12:30:00  4.554066  0.813880  0.840683  0.887759  0.753841   \n",
       "\n",
       "                      u*_3m_c   u*_5m_c  snow_depth  \n",
       "time                                                 \n",
       "2022-12-02 10:30:00  0.748710  0.600726    0.346144  \n",
       "2022-12-02 11:00:00  0.727379  0.728357    0.346144  \n",
       "2022-12-02 11:30:00  0.794172  0.635123    0.346144  \n",
       "2022-12-02 12:00:00  0.820263  0.595426    0.346144  \n",
       "2022-12-02 12:30:00  0.708530  0.631443    0.346144  "
      ]
     },
     "execution_count": 8,
     "metadata": {},
     "output_type": "execute_result"
    }
   ],
   "source": [
    "z0_df = tidy_df_30Min[\n",
    "    tidy_df_30Min.time.isin(neutral_times)\n",
    "].query(\"tower == 'c'\")\n",
    "src_snowdepth = tidy_df_30Min[\n",
    "    tidy_df_30Min.measurement == 'snow depth'\n",
    "]\n",
    "src_snowdepth = src_snowdepth[['time', 'value']].set_index('time').rename(columns={'value': 'snow_depth'})\n",
    "z0_df = z0_df[z0_df.measurement.isin([\n",
    "    'wind speed',\n",
    "    'shear velocity',\n",
    "    'snow depth'\n",
    "])]\n",
    "z0_df = z0_df[~z0_df.variable.str.contains(\"predicted\")]\n",
    "z0_df = z0_df.pivot_table(index=['time'], values='value', columns='variable')\n",
    "z0_df = z0_df.join(src_snowdepth)\n",
    "z0_df.head()"
   ]
  },
  {
   "cell_type": "markdown",
   "metadata": {},
   "source": [
    "# Filter out data without monotonically increasing wind speeds "
   ]
  },
  {
   "cell_type": "code",
   "execution_count": 9,
   "metadata": {},
   "outputs": [
    {
     "data": {
      "text/plain": [
       "653"
      ]
     },
     "execution_count": 9,
     "metadata": {},
     "output_type": "execute_result"
    }
   ],
   "source": [
    "len(z0_df)"
   ]
  },
  {
   "cell_type": "code",
   "execution_count": 10,
   "metadata": {},
   "outputs": [],
   "source": [
    "def monotonically_increasing(l):\n",
    "    return all(x < y for x, y in zip(l, l[1:]))\n",
    "\n",
    "z0_df['is_monotonic_increasing'] = z0_df.apply(\n",
    "    lambda row: monotonically_increasing([\n",
    "            row['spd_2m_c'], \n",
    "            row['spd_3m_c'], \n",
    "            row['spd_5m_c'], \n",
    "            row['spd_10m_c'], \n",
    "            row['spd_15m_c'], \n",
    "            row['spd_20m_c']\n",
    "    ]),\n",
    "    axis = 1\n",
    ")"
   ]
  },
  {
   "cell_type": "code",
   "execution_count": 11,
   "metadata": {},
   "outputs": [],
   "source": [
    "z0_df = z0_df[z0_df.is_monotonic_increasing]"
   ]
  },
  {
   "cell_type": "code",
   "execution_count": 12,
   "metadata": {},
   "outputs": [
    {
     "data": {
      "text/plain": [
       "340"
      ]
     },
     "execution_count": 12,
     "metadata": {},
     "output_type": "execute_result"
    }
   ],
   "source": [
    "len(z0_df)"
   ]
  },
  {
   "cell_type": "markdown",
   "metadata": {},
   "source": [
    "# Solve for $z_0$ assuming $d = 0$\n",
    "\n",
    "https://www.eol.ucar.edu/content/calculation-roughness-length-and-displacement-height"
   ]
  },
  {
   "cell_type": "code",
   "execution_count": 13,
   "metadata": {},
   "outputs": [],
   "source": [
    "von_karman = 0.4"
   ]
  },
  {
   "cell_type": "code",
   "execution_count": 14,
   "metadata": {},
   "outputs": [],
   "source": [
    "d = 0.0\n",
    "z0_df['z0_2m_c'] = (2 - d - z0_df['snow_depth'])/np.exp(z0_df['spd_2m_c']*von_karman/z0_df['u*_2m_c'])\n",
    "z0_df['z0_3m_c'] = (3 - d - z0_df['snow_depth'])/np.exp(z0_df['spd_3m_c']*von_karman/z0_df['u*_3m_c'])\n",
    "z0_df['z0_5m_c'] = (5 - d - z0_df['snow_depth'])/np.exp(z0_df['spd_5m_c']*von_karman/z0_df['u*_5m_c'])\n",
    "z0_df['z0_10m_c'] = (10 - d - z0_df['snow_depth'])/np.exp(z0_df['spd_10m_c']*von_karman/z0_df['u*_10m_c'])\n",
    "z0_df['z0_15m_c'] = (15 - d - z0_df['snow_depth'])/np.exp(z0_df['spd_15m_c']*von_karman/z0_df['u*_15m_c'])\n",
    "z0_df['z0_20m_c'] = (20 - d - z0_df['snow_depth'])/np.exp(z0_df['spd_20m_c']*von_karman/z0_df['u*_20m_c'])"
   ]
  },
  {
   "cell_type": "code",
   "execution_count": 15,
   "metadata": {},
   "outputs": [
    {
     "data": {
      "application/vnd.vegalite.v5+json": {
       "$schema": "https://vega.github.io/schema/vega-lite/v5.16.3.json",
       "config": {
        "view": {
         "continuousHeight": 300,
         "continuousWidth": 300
        }
       },
       "data": {
        "format": {
         "type": "json"
        },
        "url": "altair-data-5d95a66869cc01de217f0be8b9924d84.json"
       },
       "encoding": {
        "row": {
         "field": "key",
         "sort": [
          "z0_2m_c",
          "z0_3m_c",
          "z0_5m_c",
          "z0_10m_c",
          "z0_15m_c",
          "z0_20m_c"
         ],
         "type": "nominal"
        },
        "x": {
         "field": "time",
         "type": "temporal"
        },
        "y": {
         "field": "value",
         "scale": {
          "type": "log"
         },
         "type": "quantitative"
        }
       },
       "height": 100,
       "mark": {
        "type": "circle"
       },
       "transform": [
        {
         "fold": [
          "z0_2m_c",
          "z0_3m_c",
          "z0_5m_c",
          "z0_10m_c",
          "z0_15m_c",
          "z0_20m_c"
         ]
        },
        {
         "filter": {
          "field": "key",
          "oneOf": [
           "z0_2m_c",
           "z0_3m_c"
          ]
         }
        }
       ],
       "width": 400
      },
      "text/plain": [
       "<VegaLite 5 object>\n",
       "\n",
       "If you see this message, it means the renderer has not been properly enabled\n",
       "for the frontend that you are using. For more information, see\n",
       "https://altair-viz.github.io/user_guide/display_frontends.html#troubleshooting\n"
      ]
     },
     "execution_count": 15,
     "metadata": {},
     "output_type": "execute_result"
    }
   ],
   "source": [
    "variables = [\n",
    "        'z0_2m_c', \n",
    "        'z0_3m_c', \n",
    "        'z0_5m_c', \n",
    "        'z0_10m_c', \n",
    "        'z0_15m_c', \n",
    "        'z0_20m_c', \n",
    "    ]\n",
    "alt.Chart(\n",
    "    z0_df[variables].reset_index()\n",
    ").transform_fold(\n",
    "    variables\n",
    ").transform_filter(\n",
    "    alt.FieldOneOfPredicate('key', ['z0_2m_c', 'z0_3m_c'])\n",
    ").mark_circle().encode(\n",
    "    alt.X('time:T'),\n",
    "    alt.Y(\"value:Q\").scale(type='log'),\n",
    "    alt.Row(\"key:N\", sort=variables)\n",
    ").properties(height = 100, width = 400)"
   ]
  },
  {
   "cell_type": "code",
   "execution_count": 16,
   "metadata": {},
   "outputs": [],
   "source": [
    "from sklearn.metrics import r2_score"
   ]
  },
  {
   "cell_type": "code",
   "execution_count": 17,
   "metadata": {},
   "outputs": [
    {
     "data": {
      "application/vnd.vegalite.v5+json": {
       "$schema": "https://vega.github.io/schema/vega-lite/v5.16.3.json",
       "config": {
        "view": {
         "continuousHeight": 300,
         "continuousWidth": 300
        }
       },
       "data": {
        "format": {
         "type": "json"
        },
        "url": "altair-data-46f09870c80432a4edb613f7efcecc05.json"
       },
       "hconcat": [
        {
         "encoding": {
          "x": {
           "field": "z0_3m_c",
           "scale": {
            "domain": [
             1e-9,
             10
            ],
            "type": "log"
           },
           "type": "quantitative"
          },
          "y": {
           "field": "z0_2m_c",
           "scale": {
            "domain": [
             1e-9,
             10
            ],
            "type": "log"
           },
           "type": "quantitative"
          }
         },
         "height": 150,
         "mark": {
          "type": "circle"
         },
         "title": "0.762",
         "width": 150
        },
        {
         "encoding": {
          "x": {
           "field": "z0_3m_c",
           "scale": {
            "domain": [
             1e-9,
             10
            ],
            "type": "log"
           },
           "type": "quantitative"
          },
          "y": {
           "field": "z0_5m_c",
           "scale": {
            "domain": [
             1e-9,
             10
            ],
            "type": "log"
           },
           "type": "quantitative"
          }
         },
         "height": 150,
         "mark": {
          "type": "circle"
         },
         "title": "0.797",
         "width": 150
        },
        {
         "encoding": {
          "x": {
           "field": "z0_3m_c",
           "scale": {
            "domain": [
             1e-9,
             10
            ],
            "type": "log"
           },
           "type": "quantitative"
          },
          "y": {
           "field": "z0_10m_c",
           "scale": {
            "domain": [
             1e-9,
             10
            ],
            "type": "log"
           },
           "type": "quantitative"
          }
         },
         "height": 150,
         "mark": {
          "type": "circle"
         },
         "title": "-20.141",
         "width": 150
        },
        {
         "encoding": {
          "x": {
           "field": "z0_3m_c",
           "scale": {
            "domain": [
             1e-9,
             10
            ],
            "type": "log"
           },
           "type": "quantitative"
          },
          "y": {
           "field": "z0_15m_c",
           "scale": {
            "domain": [
             1e-9,
             10
            ],
            "type": "log"
           },
           "type": "quantitative"
          }
         },
         "height": 150,
         "mark": {
          "type": "circle"
         },
         "title": "-40.085",
         "width": 150
        },
        {
         "encoding": {
          "x": {
           "field": "z0_3m_c",
           "scale": {
            "domain": [
             1e-9,
             10
            ],
            "type": "log"
           },
           "type": "quantitative"
          },
          "y": {
           "field": "z0_20m_c",
           "scale": {
            "domain": [
             1e-9,
             10
            ],
            "type": "log"
           },
           "type": "quantitative"
          }
         },
         "height": 150,
         "mark": {
          "type": "circle"
         },
         "title": "-132.367",
         "width": 150
        }
       ]
      },
      "text/plain": [
       "<VegaLite 5 object>\n",
       "\n",
       "If you see this message, it means the renderer has not been properly enabled\n",
       "for the frontend that you are using. For more information, see\n",
       "https://altair-viz.github.io/user_guide/display_frontends.html#troubleshooting\n"
      ]
     },
     "execution_count": 17,
     "metadata": {},
     "output_type": "execute_result"
    }
   ],
   "source": [
    "alt.Chart(z0_df).mark_circle().encode(\n",
    "    alt.X(\"z0_3m_c\").scale(domain=[0.000000001, 10], type='log'),\n",
    "    alt.Y(\"z0_2m_c\").scale(domain=[0.000000001, 10], type='log')\n",
    ").properties(width = 150, height = 150, title = str(round(r2_score(\n",
    "        z0_df[\"z0_3m_c\"],\n",
    "        z0_df[\"z0_2m_c\"]\n",
    "    ), 3))\n",
    ") | alt.Chart(z0_df).mark_circle().encode(\n",
    "    alt.X(\"z0_3m_c\").scale(domain=[0.000000001, 10], type='log'),\n",
    "    alt.Y(\"z0_5m_c\").scale(domain=[0.000000001, 10], type='log')\n",
    ").properties(width = 150, height = 150, title = str(round(r2_score(\n",
    "        z0_df[\"z0_3m_c\"],\n",
    "        z0_df[\"z0_5m_c\"]\n",
    "    ), 3))\n",
    ") | alt.Chart(z0_df).mark_circle().encode(\n",
    "    alt.X(\"z0_3m_c\").scale(domain=[0.000000001, 10], type='log'),\n",
    "    alt.Y(\"z0_10m_c\").scale(domain=[0.000000001, 10], type='log')\n",
    ").properties(width = 150, height = 150, title = str(round(r2_score(\n",
    "        z0_df[\"z0_3m_c\"],\n",
    "        z0_df[\"z0_10m_c\"]\n",
    "    ), 3))\n",
    ") | alt.Chart(z0_df).mark_circle().encode(\n",
    "    alt.X(\"z0_3m_c\").scale(domain=[0.000000001, 10], type='log'),\n",
    "    alt.Y(\"z0_15m_c\").scale(domain=[0.000000001, 10], type='log')\n",
    ").properties(width = 150, height = 150, title = str(round(r2_score(\n",
    "        z0_df[\"z0_3m_c\"],\n",
    "        z0_df[\"z0_15m_c\"]\n",
    "    ), 3))\n",
    ") | alt.Chart(z0_df).mark_circle().encode(\n",
    "    alt.X(\"z0_3m_c\").scale(domain=[0.000000001, 10], type='log'),\n",
    "    alt.Y(\"z0_20m_c\").scale(domain=[0.000000001, 10], type='log')\n",
    ").properties(width = 150, height = 150, title = str(round(r2_score(\n",
    "        z0_df[\"z0_3m_c\"],\n",
    "        z0_df[\"z0_20m_c\"]\n",
    "    ), 3))\n",
    ")"
   ]
  },
  {
   "cell_type": "code",
   "execution_count": 18,
   "metadata": {},
   "outputs": [
    {
     "data": {
      "application/vnd.vegalite.v5+json": {
       "$schema": "https://vega.github.io/schema/vega-lite/v5.16.3.json",
       "config": {
        "view": {
         "continuousHeight": 300,
         "continuousWidth": 300
        }
       },
       "height": 100,
       "layer": [
        {
         "data": {
          "format": {
           "type": "json"
          },
          "url": "altair-data-dba05529351318bdd082a7728637e4b5.json"
         },
         "encoding": {
          "x": {
           "field": "time",
           "type": "temporal"
          },
          "y": {
           "field": "z0_3m_c",
           "scale": {
            "type": "log"
           },
           "type": "quantitative"
          }
         },
         "mark": {
          "size": 50,
          "type": "circle"
         }
        },
        {
         "data": {
          "format": {
           "type": "json"
          },
          "url": "altair-data-dba05529351318bdd082a7728637e4b5.json"
         },
         "encoding": {
          "x": {
           "field": "time",
           "type": "temporal"
          },
          "y": {
           "field": "z0_3m_c",
           "scale": {
            "type": "log"
           },
           "type": "quantitative"
          }
         },
         "mark": {
          "type": "bar",
          "width": 1
         }
        }
       ]
      },
      "text/plain": [
       "<VegaLite 5 object>\n",
       "\n",
       "If you see this message, it means the renderer has not been properly enabled\n",
       "for the frontend that you are using. For more information, see\n",
       "https://altair-viz.github.io/user_guide/display_frontends.html#troubleshooting\n"
      ]
     },
     "execution_count": 18,
     "metadata": {},
     "output_type": "execute_result"
    }
   ],
   "source": [
    "alt.Chart(\n",
    "    z0_df[['z0_3m_c']].resample(\"1D\").median().reset_index()\n",
    ").mark_circle(size=50).encode(\n",
    "    alt.X(\"time:T\"),\n",
    "    alt.Y(\"z0_3m_c\").scale(type='log')\n",
    ") + alt.Chart(\n",
    "    z0_df[['z0_3m_c']].resample(\"1D\").median().reset_index()\n",
    ").mark_bar(width=1).encode(\n",
    "    alt.X(\"time:T\"),\n",
    "    alt.Y(\"z0_3m_c\").scale(type='log')\n",
    ").properties(height = 100)"
   ]
  },
  {
   "cell_type": "code",
   "execution_count": 19,
   "metadata": {},
   "outputs": [],
   "source": [
    "z0_df_weekly = z0_df[['z0_3m_c']].resample(\"W-MON\").median().reset_index()"
   ]
  },
  {
   "cell_type": "code",
   "execution_count": 20,
   "metadata": {},
   "outputs": [
    {
     "data": {
      "application/vnd.vegalite.v5+json": {
       "$schema": "https://vega.github.io/schema/vega-lite/v5.16.3.json",
       "config": {
        "view": {
         "continuousHeight": 300,
         "continuousWidth": 300
        }
       },
       "data": {
        "format": {
         "type": "json"
        },
        "url": "altair-data-576667193839f5a54689f0759358ca75.json"
       },
       "height": 100,
       "layer": [
        {
         "encoding": {
          "x": {
           "field": "time",
           "type": "temporal"
          },
          "y": {
           "field": "z0_3m_c",
           "scale": {
            "type": "log"
           },
           "type": "quantitative"
          }
         },
         "mark": {
          "size": 100,
          "type": "circle"
         }
        },
        {
         "encoding": {
          "x": {
           "field": "time",
           "type": "temporal"
          },
          "y": {
           "field": "z0_3m_c",
           "scale": {
            "type": "log"
           },
           "type": "quantitative"
          }
         },
         "mark": {
          "type": "bar",
          "width": 1
         }
        }
       ]
      },
      "text/plain": [
       "<VegaLite 5 object>\n",
       "\n",
       "If you see this message, it means the renderer has not been properly enabled\n",
       "for the frontend that you are using. For more information, see\n",
       "https://altair-viz.github.io/user_guide/display_frontends.html#troubleshooting\n"
      ]
     },
     "execution_count": 20,
     "metadata": {},
     "output_type": "execute_result"
    }
   ],
   "source": [
    "basic_z0_values_chart = alt.Chart(\n",
    "    z0_df_weekly\n",
    ").mark_circle(size=100).encode(\n",
    "    alt.X(\"time:T\"),\n",
    "    alt.Y(\"z0_3m_c\").scale(type='log')\n",
    ") + alt.Chart(\n",
    "    z0_df_weekly\n",
    ").mark_bar(width=1).encode(\n",
    "    alt.X(\"time:T\"),\n",
    "    alt.Y(\"z0_3m_c\").scale(type='log')\n",
    ").properties(height = 100)\n",
    "basic_z0_values_chart"
   ]
  },
  {
   "cell_type": "markdown",
   "metadata": {},
   "source": [
    "# Use Andreas et al. 2010 Method, NOAA/SPLASH (Chris Cox) solution"
   ]
  },
  {
   "cell_type": "code",
   "execution_count": 21,
   "metadata": {},
   "outputs": [],
   "source": [
    "tdk = 273.15 \n",
    "# surface temp mean\n",
    "Tsm = tidy_df_30Min.query(\"variable == 'Tsurf_c'\")['value'].values \n",
    "# air temp mean\n",
    "Tam = tidy_df_30Min.query(\"variable == 'T_3m_c'\")['value'].values \n",
    "# height of sonic\n",
    "z_level_n = 3 - tidy_df_30Min.query(\"variable == 'SnowDepth_d'\")['value'].values \n",
    "# wt-covariance, vertical flux of the sonic temperature  [deg m/s]\n",
    "wT_csp = tidy_df_30Min.query(\"variable == 'w_tc__3m_c'\")['value'].values   \n",
    "wq_csp = tidy_df_30Min.query(\"variable == 'w_h2o__3m_c'\")['value'].values   \n",
    "wsp = tidy_df_30Min.query(\"variable == 'spd_3m_c'\")['value'].values \n",
    "ustar = tidy_df_30Min.query(\"variable == 'u*_3m_c'\")['value'].values \n",
    "\n",
    "surface_pot_temp = tidy_df_30Min.query(\"variable == 'Tsurfpot_c'\")['value'].values\n",
    "air_pot_temp  = tidy_df_30Min.query(\"variable == 'Tpot_3m_c'\")['value'].values\n",
    "surface_mixing_ratio = tidy_df_30Min.query(\"variable == 'Tsurfmixingratio_c'\")['value'].values\n",
    "air_mixing_ratio = tidy_df_30Min.query(\"variable == 'mixingratio_3m_c'\")['value'].values\n",
    "surface_specifichumidity = surface_mixing_ratio / (1 + surface_mixing_ratio)\n",
    "air_specifichumidity  = air_mixing_ratio / (1 + air_mixing_ratio)\n",
    "\n",
    "# Obukhov length\n",
    "surflayr_avg_airtemp = 0.5*(Tsm + Tam)\n",
    "surflayr_avg_specifichumidity = 0.5*(surface_specifichumidity + air_specifichumidity)\n",
    "surflayr_avg_virtualtemp = 0.5*(\n",
    "    tidy_df_30Min.query(\"variable == 'Tvirtual_3m_c'\")['value'].values + \n",
    "    tidy_df_30Min.query(\"variable == 'Tsurfvirtual_c'\")['value'].values\n",
    ")\n",
    "# right version of equation 2.3 in Andreas 2010\n",
    "# L = - (\n",
    "#     surflayr_avg_airtemp/( 0.4*9.81 )\n",
    "# ) * (\n",
    "#     ustar**3 / (\n",
    "#         wT_csp + wq_csp* (0.61*surflayr_avg_airtemp)/(\n",
    "#             1 + 0.61*surflayr_avg_specifichumidity\n",
    "#           )\n",
    "#     )\n",
    "# )\n",
    "# left version of equation 2.3 in Andreas 2010\n",
    "L = - (\n",
    "    surflayr_avg_virtualtemp/( 0.4*9.81 )\n",
    ") * (\n",
    "    ustar**3 / wT_csp\n",
    ")\n",
    "\n",
    "# Monin-Obukhov stability parameter, z/L:\n",
    "zeta_level_n = z_level_n/L\n",
    "\n",
    "# Drag coefficient, Cd:\n",
    "Cd = ustar**2/wsp**2 #- wu_csp/(wsp**2)\n",
    "\n",
    "Ch = wT_csp / (wsp * (surface_pot_temp - air_pot_temp))\n",
    "\n",
    "Ce = wq_csp / (wsp * (surface_specifichumidity - air_specifichumidity))"
   ]
  },
  {
   "cell_type": "code",
   "execution_count": 22,
   "metadata": {},
   "outputs": [
    {
     "name": "stderr",
     "output_type": "stream",
     "text": [
      "/home/elilouis/sublimationofsnow/analysis/paper1/../splash/calc_z0.py:16: RuntimeWarning: invalid value encountered in power\n",
      "  sma = 1 + (6.5 * zL * (1+zL)**(1/3)) / (1.3 + zL); # Psi\n",
      "/home/elilouis/sublimationofsnow/analysis/paper1/../splash/calc_z0.py:20: RuntimeWarning: invalid value encountered in power\n",
      "  x = np.real((1 - 16*zL)**(0.25)) # assumes gamma = 16\n",
      "/home/elilouis/sublimationofsnow/analysis/paper1/../splash/calc_z0.py:36: RuntimeWarning: invalid value encountered in power\n",
      "  sma = 1 + (6.5 * zL * (1+zL)**(1/3)) / (1.3 + zL); # Psi\n",
      "/home/elilouis/sublimationofsnow/analysis/paper1/../splash/calc_z0.py:37: RuntimeWarning: invalid value encountered in power\n",
      "  x = np.real((1 - 16*zL)**(0.25)) # assumes gamma = 16\n",
      "/home/elilouis/sublimationofsnow/analysis/paper1/../splash/calc_z0.py:44: RuntimeWarning: overflow encountered in exp\n",
      "  z0 = z * np.exp(-(k*(Cd**0.5)*(Ch**-1) + sm))\n",
      "/home/elilouis/sublimationofsnow/analysis/paper1/../splash/calc_z0.py:51: RuntimeWarning: invalid value encountered in power\n",
      "  sma = 1 + (6.5 * zL * (1+zL)**(1/3)) / (1.3 + zL); # Psi\n",
      "/home/elilouis/sublimationofsnow/analysis/paper1/../splash/calc_z0.py:52: RuntimeWarning: invalid value encountered in power\n",
      "  x = np.real((1 - 16*zL)**(0.25)) # assumes gamma = 16\n"
     ]
    }
   ],
   "source": [
    "import sys\n",
    "sys.path.append(\"../splash/\")\n",
    "import calc_z0\n",
    "z0_values = calc_z0.calc_z0(z_level_n, Cd, zeta_level_n)\n",
    "z0T_values = calc_z0.calc_z0T(z_level_n, Cd, Ch, zeta_level_n)\n",
    "z0q_values = calc_z0.calc_z0Q(z_level_n, Cd, Ce, zeta_level_n)"
   ]
  },
  {
   "cell_type": "code",
   "execution_count": 23,
   "metadata": {},
   "outputs": [],
   "source": [
    "time_values = tidy_df_30Min.query(\"variable == 'Tsurf_c'\").set_index('time').sort_index().index.values"
   ]
  },
  {
   "cell_type": "code",
   "execution_count": 24,
   "metadata": {},
   "outputs": [],
   "source": [
    "z0_andreas_df = pd.DataFrame({\n",
    "    \"time\": time_values, \n",
    "    \"z0\":   z0_values,\n",
    "    \"z0T\": z0T_values,\n",
    "    \"z0q\": z0q_values,\n",
    "})\n",
    "z0_andreas_df_weekly = z0_andreas_df.set_index('time').resample('W-MON').median().reset_index()"
   ]
  },
  {
   "cell_type": "code",
   "execution_count": 25,
   "metadata": {},
   "outputs": [
    {
     "data": {
      "text/plain": [
       "z0     4.977695e-04\n",
       "z0T    7.897537e-09\n",
       "z0q    3.311890e-01\n",
       "dtype: float64"
      ]
     },
     "execution_count": 25,
     "metadata": {},
     "output_type": "execute_result"
    }
   ],
   "source": [
    "z0_andreas_df.set_index('time').median()"
   ]
  },
  {
   "cell_type": "code",
   "execution_count": 26,
   "metadata": {},
   "outputs": [],
   "source": [
    "complex_z0_values_chart = alt.Chart(\n",
    "    z0_andreas_df_weekly\n",
    ").mark_circle(size=100, color='red', opacity=0.5).encode(\n",
    "    alt.X(\"time:T\"),\n",
    "    alt.Y(\"z0\").scale(type='log')\n",
    ") + alt.Chart(\n",
    "    z0_andreas_df_weekly\n",
    ").mark_bar(width=1).encode(\n",
    "    alt.X(\"time:T\"),\n",
    "    alt.Y(\"z0\").scale(type='log')\n",
    ").properties(height = 100)"
   ]
  },
  {
   "cell_type": "code",
   "execution_count": 27,
   "metadata": {},
   "outputs": [
    {
     "data": {
      "application/vnd.vegalite.v5+json": {
       "$schema": "https://vega.github.io/schema/vega-lite/v5.16.3.json",
       "config": {
        "view": {
         "continuousHeight": 300,
         "continuousWidth": 300
        }
       },
       "hconcat": [
        {
         "data": {
          "format": {
           "type": "json"
          },
          "url": "altair-data-576667193839f5a54689f0759358ca75.json"
         },
         "height": 100,
         "layer": [
          {
           "encoding": {
            "x": {
             "field": "time",
             "type": "temporal"
            },
            "y": {
             "field": "z0_3m_c",
             "scale": {
              "type": "log"
             },
             "type": "quantitative"
            }
           },
           "mark": {
            "size": 100,
            "type": "circle"
           }
          },
          {
           "encoding": {
            "x": {
             "field": "time",
             "type": "temporal"
            },
            "y": {
             "field": "z0_3m_c",
             "scale": {
              "type": "log"
             },
             "type": "quantitative"
            }
           },
           "mark": {
            "type": "bar",
            "width": 1
           }
          }
         ],
         "title": "Basic method"
        },
        {
         "data": {
          "format": {
           "type": "json"
          },
          "url": "altair-data-cd61fc9b6483e9e561ec9e72154af7f5.json"
         },
         "height": 100,
         "layer": [
          {
           "encoding": {
            "x": {
             "field": "time",
             "type": "temporal"
            },
            "y": {
             "field": "z0",
             "scale": {
              "type": "log"
             },
             "type": "quantitative"
            }
           },
           "mark": {
            "color": "red",
            "opacity": 0.5,
            "size": 100,
            "type": "circle"
           }
          },
          {
           "encoding": {
            "x": {
             "field": "time",
             "type": "temporal"
            },
            "y": {
             "field": "z0",
             "scale": {
              "type": "log"
             },
             "type": "quantitative"
            }
           },
           "mark": {
            "type": "bar",
            "width": 1
           }
          }
         ],
         "title": "Complex method"
        }
       ],
       "resolve": {
        "scale": {
         "y": "shared"
        }
       }
      },
      "text/plain": [
       "<VegaLite 5 object>\n",
       "\n",
       "If you see this message, it means the renderer has not been properly enabled\n",
       "for the frontend that you are using. For more information, see\n",
       "https://altair-viz.github.io/user_guide/display_frontends.html#troubleshooting\n"
      ]
     },
     "execution_count": 27,
     "metadata": {},
     "output_type": "execute_result"
    }
   ],
   "source": [
    "(   \n",
    "    basic_z0_values_chart.properties(title='Basic method') \n",
    "    | \n",
    "    complex_z0_values_chart.properties(title='Complex method')   \n",
    ").resolve_scale(y='shared')"
   ]
  },
  {
   "cell_type": "code",
   "execution_count": 28,
   "metadata": {},
   "outputs": [
    {
     "data": {
      "application/vnd.vegalite.v5+json": {
       "$schema": "https://vega.github.io/schema/vega-lite/v5.16.3.json",
       "config": {
        "view": {
         "continuousHeight": 300,
         "continuousWidth": 300
        }
       },
       "data": {
        "format": {
         "type": "json"
        },
        "url": "altair-data-cd61fc9b6483e9e561ec9e72154af7f5.json"
       },
       "layer": [
        {
         "encoding": {
          "x": {
           "field": "time",
           "type": "temporal"
          },
          "y": {
           "field": "z0",
           "scale": {
            "type": "log"
           },
           "type": "quantitative"
          }
         },
         "mark": {
          "color": "black",
          "opacity": 0.5,
          "size": 100,
          "type": "circle"
         }
        },
        {
         "encoding": {
          "x": {
           "field": "time",
           "type": "temporal"
          },
          "y": {
           "field": "z0T",
           "scale": {
            "type": "log"
           },
           "type": "quantitative"
          }
         },
         "mark": {
          "color": "red",
          "opacity": 0.5,
          "size": 100,
          "type": "circle"
         }
        },
        {
         "encoding": {
          "x": {
           "field": "time",
           "type": "temporal"
          },
          "y": {
           "field": "z0q",
           "scale": {
            "type": "log"
           },
           "type": "quantitative"
          }
         },
         "mark": {
          "color": "blue",
          "opacity": 0.5,
          "size": 100,
          "type": "circle"
         }
        }
       ]
      },
      "text/plain": [
       "<VegaLite 5 object>\n",
       "\n",
       "If you see this message, it means the renderer has not been properly enabled\n",
       "for the frontend that you are using. For more information, see\n",
       "https://altair-viz.github.io/user_guide/display_frontends.html#troubleshooting\n"
      ]
     },
     "execution_count": 28,
     "metadata": {},
     "output_type": "execute_result"
    }
   ],
   "source": [
    "alt.Chart(\n",
    "    z0_andreas_df_weekly\n",
    ").mark_circle(size=100, color='black', opacity=0.5).encode(\n",
    "    alt.X(\"time:T\"),\n",
    "    alt.Y(\"z0\").scale(type='log')\n",
    ") + alt.Chart(\n",
    "    z0_andreas_df_weekly\n",
    ").mark_circle(size=100, color='red', opacity=0.5).encode(\n",
    "    alt.X(\"time:T\"),\n",
    "    alt.Y(\"z0T\").scale(type='log')\n",
    ") + alt.Chart(\n",
    "    z0_andreas_df_weekly\n",
    ").mark_circle(size=100, color='blue', opacity=0.5).encode(\n",
    "    alt.X(\"time:T\"),\n",
    "    alt.Y(\"z0q\").scale(type='log')\n",
    ")"
   ]
  },
  {
   "cell_type": "code",
   "execution_count": 29,
   "metadata": {},
   "outputs": [
    {
     "data": {
      "application/vnd.vegalite.v5+json": {
       "$schema": "https://vega.github.io/schema/vega-lite/v5.16.3.json",
       "config": {
        "view": {
         "continuousHeight": 300,
         "continuousWidth": 300
        }
       },
       "data": {
        "format": {
         "type": "json"
        },
        "url": "altair-data-576667193839f5a54689f0759358ca75.json"
       },
       "height": 100,
       "layer": [
        {
         "encoding": {
          "x": {
           "field": "time",
           "type": "temporal"
          },
          "y": {
           "field": "z0_3m_c",
           "scale": {
            "type": "log"
           },
           "type": "quantitative"
          }
         },
         "mark": {
          "size": 100,
          "type": "circle"
         }
        },
        {
         "encoding": {
          "x": {
           "field": "time",
           "type": "temporal"
          },
          "y": {
           "field": "z0_3m_c",
           "scale": {
            "type": "log"
           },
           "type": "quantitative"
          }
         },
         "mark": {
          "type": "bar",
          "width": 1
         }
        },
        {
         "data": {
          "format": {
           "type": "json"
          },
          "url": "altair-data-cd61fc9b6483e9e561ec9e72154af7f5.json"
         },
         "layer": [
          {
           "encoding": {
            "x": {
             "field": "time",
             "type": "temporal"
            },
            "y": {
             "field": "z0",
             "scale": {
              "type": "log"
             },
             "type": "quantitative"
            }
           },
           "mark": {
            "color": "red",
            "opacity": 0.5,
            "size": 100,
            "type": "circle"
           }
          },
          {
           "encoding": {
            "x": {
             "field": "time",
             "type": "temporal"
            },
            "y": {
             "field": "z0",
             "scale": {
              "type": "log"
             },
             "type": "quantitative"
            }
           },
           "mark": {
            "type": "bar",
            "width": 1
           }
          }
         ],
         "title": "Complex method"
        }
       ],
       "resolve": {
        "scale": {
         "y": "shared"
        }
       },
       "title": "Basic method"
      },
      "text/plain": [
       "<VegaLite 5 object>\n",
       "\n",
       "If you see this message, it means the renderer has not been properly enabled\n",
       "for the frontend that you are using. For more information, see\n",
       "https://altair-viz.github.io/user_guide/display_frontends.html#troubleshooting\n"
      ]
     },
     "execution_count": 29,
     "metadata": {},
     "output_type": "execute_result"
    }
   ],
   "source": [
    "(   \n",
    "    basic_z0_values_chart.properties(title='Basic method') \n",
    "    + \n",
    "    complex_z0_values_chart.properties(title='Complex method')   \n",
    ").resolve_scale(y='shared')"
   ]
  },
  {
   "cell_type": "code",
   "execution_count": 30,
   "metadata": {},
   "outputs": [
    {
     "data": {
      "application/vnd.vegalite.v5+json": {
       "$schema": "https://vega.github.io/schema/vega-lite/v5.16.3.json",
       "config": {
        "view": {
         "continuousHeight": 300,
         "continuousWidth": 300
        }
       },
       "data": {
        "format": {
         "type": "json"
        },
        "url": "altair-data-576667193839f5a54689f0759358ca75.json"
       },
       "height": 100,
       "layer": [
        {
         "encoding": {
          "x": {
           "field": "time",
           "type": "temporal"
          },
          "y": {
           "field": "z0_3m_c",
           "scale": {
            "type": "log"
           },
           "type": "quantitative"
          }
         },
         "mark": {
          "size": 100,
          "type": "circle"
         }
        },
        {
         "encoding": {
          "x": {
           "field": "time",
           "type": "temporal"
          },
          "y": {
           "field": "z0_3m_c",
           "scale": {
            "type": "log"
           },
           "type": "quantitative"
          }
         },
         "mark": {
          "type": "bar",
          "width": 1
         }
        },
        {
         "data": {
          "format": {
           "type": "json"
          },
          "url": "altair-data-cd61fc9b6483e9e561ec9e72154af7f5.json"
         },
         "layer": [
          {
           "encoding": {
            "x": {
             "field": "time",
             "type": "temporal"
            },
            "y": {
             "field": "z0",
             "scale": {
              "type": "log"
             },
             "type": "quantitative"
            }
           },
           "mark": {
            "color": "red",
            "opacity": 0.5,
            "size": 100,
            "type": "circle"
           }
          },
          {
           "encoding": {
            "x": {
             "field": "time",
             "type": "temporal"
            },
            "y": {
             "field": "z0",
             "scale": {
              "type": "log"
             },
             "type": "quantitative"
            }
           },
           "mark": {
            "type": "bar",
            "width": 1
           }
          }
         ],
         "title": "Complex method"
        }
       ],
       "resolve": {
        "scale": {
         "y": "shared"
        }
       },
       "title": "Basic method"
      },
      "text/plain": [
       "<VegaLite 5 object>\n",
       "\n",
       "If you see this message, it means the renderer has not been properly enabled\n",
       "for the frontend that you are using. For more information, see\n",
       "https://altair-viz.github.io/user_guide/display_frontends.html#troubleshooting\n"
      ]
     },
     "execution_count": 30,
     "metadata": {},
     "output_type": "execute_result"
    }
   ],
   "source": [
    "(   \n",
    "    basic_z0_values_chart.properties(title='Basic method') \n",
    "    + \n",
    "    complex_z0_values_chart.properties(title='Complex method')   \n",
    ").resolve_scale(y='shared')"
   ]
  },
  {
   "cell_type": "code",
   "execution_count": 31,
   "metadata": {},
   "outputs": [
    {
     "data": {
      "application/vnd.vegalite.v5+json": {
       "$schema": "https://vega.github.io/schema/vega-lite/v5.16.3.json",
       "config": {
        "view": {
         "continuousHeight": 300,
         "continuousWidth": 300
        }
       },
       "data": {
        "format": {
         "type": "json"
        },
        "url": "altair-data-7009d9e1cf11fed4f1cb040e1a0c6852.json"
       },
       "encoding": {
        "x": {
         "field": "z0 (simple)",
         "scale": {
          "type": "log"
         },
         "type": "quantitative"
        },
        "y": {
         "field": "z0 (Andreas)",
         "scale": {
          "type": "log"
         },
         "type": "quantitative"
        }
       },
       "mark": {
        "type": "circle"
       }
      },
      "text/plain": [
       "<VegaLite 5 object>\n",
       "\n",
       "If you see this message, it means the renderer has not been properly enabled\n",
       "for the frontend that you are using. For more information, see\n",
       "https://altair-viz.github.io/user_guide/display_frontends.html#troubleshooting\n"
      ]
     },
     "execution_count": 31,
     "metadata": {},
     "output_type": "execute_result"
    }
   ],
   "source": [
    "src = pd.merge(\n",
    "    z0_df_weekly.rename(columns={'z0_3m_c': 'z0 (simple)'}),\n",
    "    z0_andreas_df_weekly.rename(columns={'z0': 'z0 (Andreas)'}),\n",
    "    on='time'\n",
    ")\n",
    "alt.Chart(\n",
    "    src\n",
    ").mark_circle().encode(\n",
    "    alt.X(\"z0 (simple):Q\").scale(type='log'),\n",
    "    alt.Y(\"z0 (Andreas):Q\").scale(type='log'),\n",
    "    # tooltip = 'time:T'\n",
    ")"
   ]
  },
  {
   "cell_type": "markdown",
   "metadata": {},
   "source": [
    "Decent agreement between weekly z0 values calculated with the two methods, but don't line up too well"
   ]
  },
  {
   "cell_type": "code",
   "execution_count": 32,
   "metadata": {},
   "outputs": [],
   "source": [
    "from sklearn.metrics import r2_score"
   ]
  },
  {
   "cell_type": "code",
   "execution_count": 33,
   "metadata": {},
   "outputs": [
    {
     "data": {
      "application/vnd.vegalite.v5+json": {
       "$schema": "https://vega.github.io/schema/vega-lite/v5.16.3.json",
       "config": {
        "view": {
         "continuousHeight": 300,
         "continuousWidth": 300
        }
       },
       "data": {
        "format": {
         "type": "json"
        },
        "url": "altair-data-a2f9bbfb07d4d03e1be5a4e8fbb47f6c.json"
       },
       "encoding": {
        "x": {
         "field": "z0 (simple)",
         "scale": {
          "type": "log"
         },
         "type": "quantitative"
        },
        "y": {
         "field": "z0 (Andreas)",
         "scale": {
          "type": "log"
         },
         "type": "quantitative"
        }
       },
       "height": 200,
       "mark": {
        "type": "circle"
       },
       "title": "r2 = 0.8377",
       "width": 200
      },
      "text/plain": [
       "<VegaLite 5 object>\n",
       "\n",
       "If you see this message, it means the renderer has not been properly enabled\n",
       "for the frontend that you are using. For more information, see\n",
       "https://altair-viz.github.io/user_guide/display_frontends.html#troubleshooting\n"
      ]
     },
     "execution_count": 33,
     "metadata": {},
     "output_type": "execute_result"
    }
   ],
   "source": [
    "src = pd.merge(\n",
    "    z0_df.rename(columns={'z0_3m_c': 'z0 (simple)'}),\n",
    "    z0_andreas_df.rename(columns={'z0': 'z0 (Andreas)'}),\n",
    "    on='time'\n",
    ")\n",
    "alt.Chart(\n",
    "    src\n",
    ").mark_circle().encode(\n",
    "    alt.X(\"z0 (simple):Q\").scale(type='log'),\n",
    "    alt.Y(\"z0 (Andreas):Q\").scale(type='log'),\n",
    "    # tooltip = 'time:T'\n",
    ").properties(\n",
    "    width = 200, \n",
    "    height=200, \n",
    "    title=f\"r2 = {\n",
    "        round(r2_score(src[\"z0 (simple)\"], src[\"z0 (Andreas)\"]), 4)\n",
    "    }\"\n",
    ")\n",
    "\n"
   ]
  },
  {
   "cell_type": "code",
   "execution_count": 34,
   "metadata": {},
   "outputs": [
    {
     "data": {
      "application/vnd.vegalite.v5+json": {
       "$schema": "https://vega.github.io/schema/vega-lite/v5.16.3.json",
       "config": {
        "view": {
         "continuousHeight": 300,
         "continuousWidth": 300
        }
       },
       "data": {
        "format": {
         "type": "json"
        },
        "url": "altair-data-950b78efdf5ac7a05316fdc21b22f0f0.json"
       },
       "encoding": {
        "tooltip": {
         "field": "day",
         "type": "temporal"
        },
        "x": {
         "field": "z0 (simple)",
         "scale": {
          "type": "linear"
         },
         "type": "quantitative"
        },
        "y": {
         "field": "z0 (Andreas)",
         "scale": {
          "type": "linear"
         },
         "type": "quantitative"
        }
       },
       "height": 200,
       "mark": {
        "type": "circle"
       },
       "title": "r2 = 0.8377",
       "width": 200
      },
      "text/plain": [
       "<VegaLite 5 object>\n",
       "\n",
       "If you see this message, it means the renderer has not been properly enabled\n",
       "for the frontend that you are using. For more information, see\n",
       "https://altair-viz.github.io/user_guide/display_frontends.html#troubleshooting\n"
      ]
     },
     "execution_count": 34,
     "metadata": {},
     "output_type": "execute_result"
    }
   ],
   "source": [
    "src['day'] = src.time.dt.date\n",
    "alt.Chart(\n",
    "    src\n",
    ").mark_circle().encode(\n",
    "    alt.X(\"z0 (simple):Q\").scale(type='linear'),\n",
    "    alt.Y(\"z0 (Andreas):Q\").scale(type='linear'),\n",
    "    tooltip = 'day:T'\n",
    ").properties(\n",
    "    width = 200, \n",
    "    height=200, \n",
    "    title=f\"r2 = {\n",
    "        round(r2_score(src[\"z0 (simple)\"], src[\"z0 (Andreas)\"]), 4)\n",
    "    }\"\n",
    ")\n",
    "\n"
   ]
  },
  {
   "cell_type": "code",
   "execution_count": 35,
   "metadata": {},
   "outputs": [],
   "source": [
    "src['diff'] = src['z0 (simple)'] = src[\"z0 (Andreas)\"]"
   ]
  },
  {
   "cell_type": "code",
   "execution_count": 36,
   "metadata": {},
   "outputs": [
    {
     "data": {
      "application/vnd.vegalite.v5+json": {
       "$schema": "https://vega.github.io/schema/vega-lite/v5.16.3.json",
       "config": {
        "view": {
         "continuousHeight": 300,
         "continuousWidth": 300
        }
       },
       "data": {
        "format": {
         "type": "json"
        },
        "url": "altair-data-8466eeb9571b1598712b3228cde6daa1.json"
       },
       "encoding": {
        "color": {
         "field": "key",
         "type": "nominal"
        },
        "x": {
         "field": "time",
         "type": "temporal"
        },
        "y": {
         "field": "value",
         "scale": {
          "type": "log"
         },
         "type": "quantitative"
        }
       },
       "mark": {
        "type": "circle"
       },
       "transform": [
        {
         "fold": [
          "z0 (simple)",
          "z0 (Andreas)"
         ]
        }
       ],
       "width": 1200
      },
      "text/plain": [
       "<VegaLite 5 object>\n",
       "\n",
       "If you see this message, it means the renderer has not been properly enabled\n",
       "for the frontend that you are using. For more information, see\n",
       "https://altair-viz.github.io/user_guide/display_frontends.html#troubleshooting\n"
      ]
     },
     "execution_count": 36,
     "metadata": {},
     "output_type": "execute_result"
    }
   ],
   "source": [
    "\n",
    "alt.Chart(\n",
    "    src\n",
    ").transform_fold(\n",
    "    [\"z0 (simple)\",     \"z0 (Andreas)\"]\n",
    ").mark_circle().encode(\n",
    "    alt.X(\"time:T\"),\n",
    "    alt.Y(\"value:Q\").scale(type='log'),\n",
    "    alt.Color(\"key:N\")\n",
    ").properties(width = 1200)"
   ]
  },
  {
   "cell_type": "markdown",
   "metadata": {},
   "source": [
    "Fantastic agreement between the 5-minute calculated z0 values. Note that the \"simple\" method has far fewer data points available"
   ]
  },
  {
   "cell_type": "code",
   "execution_count": 37,
   "metadata": {},
   "outputs": [
    {
     "data": {
      "application/vnd.vegalite.v5+json": {
       "$schema": "https://vega.github.io/schema/vega-lite/v5.16.3.json",
       "config": {
        "view": {
         "continuousHeight": 300,
         "continuousWidth": 300
        }
       },
       "data": {
        "format": {
         "type": "json"
        },
        "url": "altair-data-fee2e97a513cb0f60dfe439fd7aa34bd.json"
       },
       "encoding": {
        "x": {
         "field": "time",
         "type": "temporal"
        },
        "y": {
         "field": "z0",
         "scale": {
          "type": "log"
         },
         "type": "quantitative"
        }
       },
       "height": 100,
       "mark": {
        "size": 50,
        "type": "circle"
       }
      },
      "text/plain": [
       "<VegaLite 5 object>\n",
       "\n",
       "If you see this message, it means the renderer has not been properly enabled\n",
       "for the frontend that you are using. For more information, see\n",
       "https://altair-viz.github.io/user_guide/display_frontends.html#troubleshooting\n"
      ]
     },
     "metadata": {
      "application/vnd.vegalite.v5+json": {
       "embed_options": {
        "renderer": "svg"
       }
      }
     },
     "output_type": "display_data"
    }
   ],
   "source": [
    "\n",
    "\n",
    "alt.Chart(\n",
    "    z0_andreas_df.set_index('time').resample(\"1D\").median().reset_index()\n",
    ").mark_circle(size=50).encode(\n",
    "    alt.X(\"time:T\"),\n",
    "    alt.Y(\"z0\").scale(type='log')\n",
    ").properties(height = 100).display(renderer='svg')"
   ]
  },
  {
   "cell_type": "code",
   "execution_count": 38,
   "metadata": {},
   "outputs": [
    {
     "data": {
      "text/plain": [
       "[1e-07, 1e-06, 1e-05, 0.0001, 0.001, 0.01, 0.1]"
      ]
     },
     "execution_count": 38,
     "metadata": {},
     "output_type": "execute_result"
    }
   ],
   "source": [
    "logbins = []\n",
    "for power in [-7, -6, -5, -4, -3, -2, -1]:\n",
    "    logbins.append(1*10**power)\n",
    "    # logbins.append(5*10**power)\n",
    "logbins"
   ]
  },
  {
   "cell_type": "code",
   "execution_count": 39,
   "metadata": {},
   "outputs": [
    {
     "data": {
      "text/plain": [
       "Text(0.5, 1.0, 'Using bins [1e-07, 1e-06, 1e-05, 0.0001, 0.001, 0.01, 0.1]')"
      ]
     },
     "execution_count": 39,
     "metadata": {},
     "output_type": "execute_result"
    },
    {
     "data": {
      "image/png": "[encoded data removed]",
      "text/plain": [
       "<Figure size 640x480 with 1 Axes>"
      ]
     },
     "metadata": {},
     "output_type": "display_data"
    }
   ],
   "source": [
    "plt.hist(\n",
    "    z0_andreas_df['z0'],\n",
    "    bins=logbins\n",
    ")\n",
    "plt.xscale('log')\n",
    "plt.title(f\"Using bins {logbins}\")"
   ]
  },
  {
   "cell_type": "code",
   "execution_count": 40,
   "metadata": {},
   "outputs": [
    {
     "data": {
      "text/html": [
       "<div>\n",
       "<style scoped>\n",
       "    .dataframe tbody tr th:only-of-type {\n",
       "        vertical-align: middle;\n",
       "    }\n",
       "\n",
       "    .dataframe tbody tr th {\n",
       "        vertical-align: top;\n",
       "    }\n",
       "\n",
       "    .dataframe thead th {\n",
       "        text-align: right;\n",
       "    }\n",
       "</style>\n",
       "<table border=\"1\" class=\"dataframe\">\n",
       "  <thead>\n",
       "    <tr style=\"text-align: right;\">\n",
       "      <th></th>\n",
       "      <th>L_3m_c</th>\n",
       "      <th>ustar_3m_c</th>\n",
       "      <th>z0</th>\n",
       "      <th>z0T</th>\n",
       "      <th>z0q</th>\n",
       "      <th>stability</th>\n",
       "    </tr>\n",
       "    <tr>\n",
       "      <th>time</th>\n",
       "      <th></th>\n",
       "      <th></th>\n",
       "      <th></th>\n",
       "      <th></th>\n",
       "      <th></th>\n",
       "      <th></th>\n",
       "    </tr>\n",
       "  </thead>\n",
       "  <tbody>\n",
       "    <tr>\n",
       "      <th>2022-11-29 17:00:00</th>\n",
       "      <td>108.021325</td>\n",
       "      <td>0.310110</td>\n",
       "      <td>0.012327</td>\n",
       "      <td>3.228642e+00</td>\n",
       "      <td>0.845384</td>\n",
       "      <td>stable</td>\n",
       "    </tr>\n",
       "    <tr>\n",
       "      <th>2022-11-29 17:30:00</th>\n",
       "      <td>63.009733</td>\n",
       "      <td>0.398126</td>\n",
       "      <td>0.009193</td>\n",
       "      <td>1.071045e+00</td>\n",
       "      <td>0.807792</td>\n",
       "      <td>stable</td>\n",
       "    </tr>\n",
       "    <tr>\n",
       "      <th>2022-11-29 18:00:00</th>\n",
       "      <td>27.767688</td>\n",
       "      <td>0.275483</td>\n",
       "      <td>0.002548</td>\n",
       "      <td>3.603162e-01</td>\n",
       "      <td>0.807942</td>\n",
       "      <td>stable</td>\n",
       "    </tr>\n",
       "    <tr>\n",
       "      <th>2022-11-29 18:30:00</th>\n",
       "      <td>134.657465</td>\n",
       "      <td>0.214887</td>\n",
       "      <td>0.062143</td>\n",
       "      <td>1.120164e-10</td>\n",
       "      <td>1.678118</td>\n",
       "      <td>stable</td>\n",
       "    </tr>\n",
       "    <tr>\n",
       "      <th>2022-11-29 19:00:00</th>\n",
       "      <td>16.450487</td>\n",
       "      <td>0.181955</td>\n",
       "      <td>0.033221</td>\n",
       "      <td>5.216428e-02</td>\n",
       "      <td>0.703853</td>\n",
       "      <td>stable</td>\n",
       "    </tr>\n",
       "  </tbody>\n",
       "</table>\n",
       "</div>"
      ],
      "text/plain": [
       "                         L_3m_c  ustar_3m_c        z0           z0T       z0q  \\\n",
       "time                                                                            \n",
       "2022-11-29 17:00:00  108.021325    0.310110  0.012327  3.228642e+00  0.845384   \n",
       "2022-11-29 17:30:00   63.009733    0.398126  0.009193  1.071045e+00  0.807792   \n",
       "2022-11-29 18:00:00   27.767688    0.275483  0.002548  3.603162e-01  0.807942   \n",
       "2022-11-29 18:30:00  134.657465    0.214887  0.062143  1.120164e-10  1.678118   \n",
       "2022-11-29 19:00:00   16.450487    0.181955  0.033221  5.216428e-02  0.703853   \n",
       "\n",
       "                    stability  \n",
       "time                           \n",
       "2022-11-29 17:00:00    stable  \n",
       "2022-11-29 17:30:00    stable  \n",
       "2022-11-29 18:00:00    stable  \n",
       "2022-11-29 18:30:00    stable  \n",
       "2022-11-29 19:00:00    stable  "
      ]
     },
     "execution_count": 40,
     "metadata": {},
     "output_type": "execute_result"
    }
   ],
   "source": [
    "src = tidy_df_30Min.query(\"variable == 'L_3m_c'\").set_index('time').rename(\n",
    "    columns = {'value': 'L_3m_c'}\n",
    ")[['L_3m_c']].join(\n",
    "    tidy_df_30Min.query(\"variable == 'u*_3m_c'\").set_index('time').rename(\n",
    "        columns = {'value': 'ustar_3m_c'}\n",
    "    )[['ustar_3m_c']]\n",
    ").join(\n",
    "    z0_andreas_df.set_index('time')\n",
    ")\n",
    "# positive - stable\n",
    "# negative - unstable\n",
    "src['stability'] = src['L_3m_c'].apply(lambda L: 'stable' if L > 0 else 'unstable')\n",
    "src.head()"
   ]
  },
  {
   "cell_type": "code",
   "execution_count": 41,
   "metadata": {},
   "outputs": [
    {
     "data": {
      "application/vnd.vegalite.v5+json": {
       "$schema": "https://vega.github.io/schema/vega-lite/v5.16.3.json",
       "config": {
        "axis": {
         "grid": false
        },
        "view": {
         "continuousHeight": 300,
         "continuousWidth": 300
        }
       },
       "layer": [
        {
         "data": {
          "format": {
           "type": "json"
          },
          "url": "altair-data-69fa3b18e8c2f39275c83391c038400f.json"
         },
         "encoding": {
          "x": {
           "field": "ustar_3m_c",
           "title": "u* at 3 meters on tower c",
           "type": "quantitative"
          },
          "y": {
           "field": "z0",
           "scale": {
            "type": "log"
           },
           "title": "Measured z_0 (m)",
           "type": "quantitative"
          }
         },
         "mark": {
          "opacity": 0.25,
          "size": 3,
          "type": "circle"
         }
        },
        {
         "data": {
          "format": {
           "type": "json"
          },
          "url": "altair-data-69fa3b18e8c2f39275c83391c038400f.json"
         },
         "encoding": {
          "x": {
           "bin": {
            "maxbins": 35
           },
           "field": "ustar_3m_c",
           "title": "u* at 3 meters on tower c",
           "type": "quantitative"
          },
          "y": {
           "field": "z0",
           "scale": {
            "type": "log"
           },
           "title": "Measured z_0 (m)",
           "type": "quantitative"
          }
         },
         "mark": {
          "color": "black",
          "extent": "min-max",
          "opacity": 0.5,
          "type": "boxplot"
         }
        }
       ]
      },
      "text/plain": [
       "<VegaLite 5 object>\n",
       "\n",
       "If you see this message, it means the renderer has not been properly enabled\n",
       "for the frontend that you are using. For more information, see\n",
       "https://altair-viz.github.io/user_guide/display_frontends.html#troubleshooting\n"
      ]
     },
     "execution_count": 41,
     "metadata": {},
     "output_type": "execute_result"
    }
   ],
   "source": [
    "(\n",
    "# Chart 1\n",
    "alt.Chart(\n",
    "    src.query(\"ustar_3m_c < 0.7\").query(\"z0 > 0.00000001\")\n",
    ").mark_circle(\n",
    "    size=3,\n",
    "    opacity=0.25\n",
    ").encode(\n",
    "    alt.X(\"ustar_3m_c\").title(\"u* at 3 meters on tower c\"),\n",
    "    alt.Y(\"z0\").title(\"Measured z_0 (m)\").scale(type='log')\n",
    ") +\n",
    "# Chart 2\n",
    "alt.Chart(\n",
    "    src.query(\"ustar_3m_c < 0.7\").query(\"z0 > 0.00000001\")\n",
    ").mark_boxplot(\n",
    "    opacity=0.5,\n",
    "    color='black', \n",
    "    extent='min-max'\n",
    ").encode(\n",
    "    alt.X(\"ustar_3m_c\").title(\"u* at 3 meters on tower c\").bin(maxbins=35),\n",
    "    alt.Y(\"z0\").title(\"Measured z_0 (m)\").scale(type='log')\n",
    ")\n",
    ").configure_axis(grid=False)"
   ]
  },
  {
   "cell_type": "code",
   "execution_count": 42,
   "metadata": {},
   "outputs": [
    {
     "data": {
      "application/vnd.vegalite.v5+json": {
       "$schema": "https://vega.github.io/schema/vega-lite/v5.16.3.json",
       "config": {
        "view": {
         "continuousHeight": 300,
         "continuousWidth": 300
        }
       },
       "data": {
        "format": {
         "type": "json"
        },
        "url": "altair-data-69fa3b18e8c2f39275c83391c038400f.json"
       },
       "facet": {
        "field": "stability",
        "type": "nominal"
       },
       "spec": {
        "layer": [
         {
          "layer": [
           {
            "encoding": {
             "x": {
              "field": "ustar_3m_c",
              "title": "u* at 3 meters on tower c",
              "type": "quantitative"
             },
             "y": {
              "field": "z0",
              "scale": {
               "type": "log"
              },
              "title": "Measured z_0 (m)",
              "type": "quantitative"
             }
            },
            "mark": {
             "opacity": 0.25,
             "size": 3,
             "type": "circle"
            }
           },
           {
            "encoding": {
             "x": {
              "bin": {
               "maxbins": 35
              },
              "field": "ustar_3m_c",
              "title": "u* at 3 meters on tower c",
              "type": "quantitative"
             },
             "y": {
              "field": "z0",
              "scale": {
               "type": "log"
              },
              "title": "Measured z_0 (m)",
              "type": "quantitative"
             }
            },
            "mark": {
             "color": "black",
             "extent": "min-max",
             "opacity": 0.5,
             "type": "boxplot"
            }
           }
          ]
         }
        ]
       }
      },
      "text/plain": [
       "<VegaLite 5 object>\n",
       "\n",
       "If you see this message, it means the renderer has not been properly enabled\n",
       "for the frontend that you are using. For more information, see\n",
       "https://altair-viz.github.io/user_guide/display_frontends.html#troubleshooting\n"
      ]
     },
     "execution_count": 42,
     "metadata": {},
     "output_type": "execute_result"
    }
   ],
   "source": [
    "alt.layer(\n",
    "    alt.Chart().mark_circle(\n",
    "        size=3,\n",
    "        opacity=0.25\n",
    "    ).encode(\n",
    "        alt.X(\"ustar_3m_c\").title(\"u* at 3 meters on tower c\"),\n",
    "        alt.Y(\"z0\").title(\"Measured z_0 (m)\").scale(type='log')\n",
    "    ) +\n",
    "    # Chart 2\n",
    "    alt.Chart().mark_boxplot(\n",
    "        opacity=0.5,\n",
    "        color='black', \n",
    "        extent='min-max'\n",
    "    ).encode(\n",
    "        alt.X(\"ustar_3m_c\").title(\"u* at 3 meters on tower c\").bin(maxbins=35),\n",
    "        alt.Y(\"z0\").title(\"Measured z_0 (m)\").scale(type='log')\n",
    "    ),\n",
    "    data = src.query(\"ustar_3m_c < 0.7\").query(\"z0 > 0.00000001\")\n",
    ").facet(\"stability\")"
   ]
  },
  {
   "cell_type": "code",
   "execution_count": 43,
   "metadata": {},
   "outputs": [
    {
     "data": {
      "application/vnd.vegalite.v5+json": {
       "$schema": "https://vega.github.io/schema/vega-lite/v5.16.3.json",
       "config": {
        "axis": {
         "grid": false
        },
        "view": {
         "continuousHeight": 300,
         "continuousWidth": 300
        }
       },
       "layer": [
        {
         "data": {
          "format": {
           "type": "json"
          },
          "url": "altair-data-6615289b9d8701cba9e04d468243dc4b.json"
         },
         "encoding": {
          "x": {
           "field": "ustar_3m_c",
           "title": "u* at 3 meters on tower c",
           "type": "quantitative"
          },
          "y": {
           "field": "z0",
           "scale": {
            "type": "log"
           },
           "title": "Measured z_0 (m)",
           "type": "quantitative"
          }
         },
         "mark": {
          "opacity": 0.25,
          "size": 3,
          "type": "circle"
         }
        },
        {
         "data": {
          "format": {
           "type": "json"
          },
          "url": "altair-data-6615289b9d8701cba9e04d468243dc4b.json"
         },
         "encoding": {
          "x": {
           "bin": {
            "maxbins": 35
           },
           "field": "ustar_3m_c",
           "title": "u* at 3 meters on tower c",
           "type": "quantitative"
          },
          "y": {
           "field": "z0",
           "scale": {
            "type": "log"
           },
           "title": "Measured z_0 (m)",
           "type": "quantitative"
          }
         },
         "mark": {
          "color": "black",
          "extent": "min-max",
          "opacity": 0.5,
          "type": "boxplot"
         }
        }
       ]
      },
      "text/plain": [
       "<VegaLite 5 object>\n",
       "\n",
       "If you see this message, it means the renderer has not been properly enabled\n",
       "for the frontend that you are using. For more information, see\n",
       "https://altair-viz.github.io/user_guide/display_frontends.html#troubleshooting\n"
      ]
     },
     "execution_count": 43,
     "metadata": {},
     "output_type": "execute_result"
    }
   ],
   "source": [
    "(\n",
    "# Chart 1\n",
    "alt.Chart(\n",
    "    src.query(\"stability == 'unstable'\").query(\"ustar_3m_c < 0.7\").query(\"z0 > 0.00000001\")\n",
    ").mark_circle(\n",
    "    size=3,\n",
    "    opacity=0.25\n",
    ").encode(\n",
    "    alt.X(\"ustar_3m_c\").title(\"u* at 3 meters on tower c\"),\n",
    "    alt.Y(\"z0\").title(\"Measured z_0 (m)\").scale(type='log')\n",
    ") +\n",
    "# Chart 2\n",
    "alt.Chart(\n",
    "    src.query(\"stability == 'unstable'\").query(\"ustar_3m_c < 0.7\").query(\"z0 > 0.00000001\")\n",
    ").mark_boxplot(\n",
    "    opacity=0.5,\n",
    "    color='black', \n",
    "    extent='min-max'\n",
    ").encode(\n",
    "    alt.X(\"ustar_3m_c\").title(\"u* at 3 meters on tower c\").bin(maxbins=35),\n",
    "    alt.Y(\"z0\").title(\"Measured z_0 (m)\").scale(type='log')\n",
    ")\n",
    ").configure_axis(grid=False)"
   ]
  },
  {
   "cell_type": "code",
   "execution_count": 44,
   "metadata": {},
   "outputs": [
    {
     "name": "stderr",
     "output_type": "stream",
     "text": [
      "/tmp/ipykernel_14317/620765223.py:4: FutureWarning: The default of observed=False is deprecated and will be changed to True in a future version of pandas. Pass observed=False to retain current behavior or observed=True to adopt the future default and silence this warning.\n",
      "  gmeans = pd.DataFrame(src.groupby('ustar_3m_c bin')['z0'].apply(lambda x: stats.gmean(x))).reset_index()\n",
      "/tmp/ipykernel_14317/620765223.py:6: FutureWarning: The default of observed=False is deprecated and will be changed to True in a future version of pandas. Pass observed=False to retain current behavior or observed=True to adopt the future default and silence this warning.\n",
      "  gmeans_stable = pd.DataFrame(src.query(\"L_3m_c > 0\").groupby('ustar_3m_c bin')['z0'].apply(lambda x: stats.gmean(x))).reset_index()\n",
      "/tmp/ipykernel_14317/620765223.py:7: FutureWarning: The default of observed=False is deprecated and will be changed to True in a future version of pandas. Pass observed=False to retain current behavior or observed=True to adopt the future default and silence this warning.\n",
      "  gmeans_unstable = pd.DataFrame(src.query(\"L_3m_c < 0\").groupby('ustar_3m_c bin')['z0'].apply(lambda x: stats.gmean(x))).reset_index()\n",
      "/home/elilouis/mambaforge/envs/sublimationofsnow/lib/python3.12/site-packages/numpy/lib/function_base.py:520: RuntimeWarning: Mean of empty slice.\n",
      "  avg = a.mean(axis, **keepdims_kw)\n",
      "/home/elilouis/mambaforge/envs/sublimationofsnow/lib/python3.12/site-packages/numpy/core/_methods.py:129: RuntimeWarning: invalid value encountered in scalar divide\n",
      "  ret = ret.dtype.type(ret / rcount)\n"
     ]
    }
   ],
   "source": [
    "src['ustar_3m_c bin'] = pd.cut(src['ustar_3m_c'], np.arange(0.0, 0.7, 0.02))\n",
    "src['ustar_3m_c bin'] = src['ustar_3m_c bin'].apply(lambda x: x.left+0.01)\n",
    "import scipy.stats as stats\n",
    "gmeans = pd.DataFrame(src.groupby('ustar_3m_c bin')['z0'].apply(lambda x: stats.gmean(x))).reset_index()\n",
    "\n",
    "gmeans_stable = pd.DataFrame(src.query(\"L_3m_c > 0\").groupby('ustar_3m_c bin')['z0'].apply(lambda x: stats.gmean(x))).reset_index()\n",
    "gmeans_unstable = pd.DataFrame(src.query(\"L_3m_c < 0\").groupby('ustar_3m_c bin')['z0'].apply(lambda x: stats.gmean(x))).reset_index()"
   ]
  },
  {
   "cell_type": "code",
   "execution_count": 45,
   "metadata": {},
   "outputs": [
    {
     "data": {
      "application/vnd.vegalite.v5+json": {
       "$schema": "https://vega.github.io/schema/vega-lite/v5.16.3.json",
       "config": {
        "view": {
         "continuousHeight": 300,
         "continuousWidth": 300
        }
       },
       "hconcat": [
        {
         "layer": [
          {
           "data": {
            "format": {
             "type": "json"
            },
            "url": "altair-data-58b9c1400cffad0a31590a5ae39be2be.json"
           },
           "encoding": {
            "x": {
             "field": "ustar_3m_c",
             "title": "u* at 3 meters on tower c",
             "type": "quantitative"
            },
            "y": {
             "field": "z0",
             "scale": {
              "type": "log"
             },
             "title": "Measured z_0 (m)",
             "type": "quantitative"
            }
           },
           "mark": {
            "opacity": 0.25,
            "size": 3,
            "type": "circle"
           }
          },
          {
           "data": {
            "format": {
             "type": "json"
            },
            "url": "altair-data-dae5be62de0bf80f38f534daadca845a.json"
           },
           "encoding": {
            "x": {
             "field": "ustar_3m_c bin",
             "type": "quantitative"
            },
            "y": {
             "field": "z0",
             "scale": {
              "type": "log"
             },
             "type": "quantitative"
            }
           },
           "mark": {
            "type": "circle"
           }
          }
         ],
         "title": "Stable"
        },
        {
         "layer": [
          {
           "data": {
            "format": {
             "type": "json"
            },
            "url": "altair-data-d6e3b33c74d3757a5022506315fe0ed0.json"
           },
           "encoding": {
            "x": {
             "field": "ustar_3m_c",
             "title": "u* at 3 meters on tower c",
             "type": "quantitative"
            },
            "y": {
             "field": "z0",
             "scale": {
              "type": "log"
             },
             "title": "Measured z_0 (m)",
             "type": "quantitative"
            }
           },
           "mark": {
            "opacity": 0.25,
            "size": 3,
            "type": "circle"
           }
          },
          {
           "data": {
            "format": {
             "type": "json"
            },
            "url": "altair-data-538c3b7a2ee6c5ee32c7370626182abb.json"
           },
           "encoding": {
            "x": {
             "field": "ustar_3m_c bin",
             "type": "quantitative"
            },
            "y": {
             "field": "z0",
             "scale": {
              "type": "log"
             },
             "type": "quantitative"
            }
           },
           "mark": {
            "type": "circle"
           }
          }
         ],
         "title": "Unstable"
        }
       ],
       "resolve": {
        "scale": {
         "x": "shared",
         "y": "shared"
        }
       }
      },
      "text/plain": [
       "<VegaLite 5 object>\n",
       "\n",
       "If you see this message, it means the renderer has not been properly enabled\n",
       "for the frontend that you are using. For more information, see\n",
       "https://altair-viz.github.io/user_guide/display_frontends.html#troubleshooting\n"
      ]
     },
     "execution_count": 45,
     "metadata": {},
     "output_type": "execute_result"
    }
   ],
   "source": [
    "(\n",
    "    (\n",
    "        alt.Chart(\n",
    "            src.query(\"L_3m_c > 0\").query(\"ustar_3m_c < 0.7\").query(\"z0 > 0.00000001\")\n",
    "        ).mark_circle(\n",
    "            size=3,\n",
    "            opacity=0.25\n",
    "        ).encode(\n",
    "            alt.X(\"ustar_3m_c\").title(\"u* at 3 meters on tower c\"),\n",
    "            alt.Y(\"z0\").title(\"Measured z_0 (m)\").scale(type='log')\n",
    "        ) +\\\n",
    "        alt.Chart(gmeans_stable).mark_circle().encode(\n",
    "            alt.X(\"ustar_3m_c bin:Q\"),\n",
    "            alt.Y(\"z0\").scale(type='log')\n",
    "        )\n",
    "    ).properties(title='Stable') | (\n",
    "        alt.Chart(\n",
    "            src.query(\"L_3m_c < 0\").query(\"ustar_3m_c < 0.7\").query(\"z0 > 0.00000001\")\n",
    "        ).mark_circle(\n",
    "            size=3,\n",
    "            opacity=0.25\n",
    "        ).encode(\n",
    "            alt.X(\"ustar_3m_c\").title(\"u* at 3 meters on tower c\"),\n",
    "            alt.Y(\"z0\").title(\"Measured z_0 (m)\").scale(type='log')\n",
    "        ) +\\\n",
    "        alt.Chart(gmeans_unstable).mark_circle().encode(\n",
    "            alt.X(\"ustar_3m_c bin:Q\"),\n",
    "            alt.Y(\"z0\").scale(type='log')\n",
    "        )\n",
    "    ).properties(title=\"Unstable\")\n",
    ").resolve_scale(y='shared', x='shared')"
   ]
  },
  {
   "cell_type": "markdown",
   "metadata": {},
   "source": [
    "# Save roughness length values"
   ]
  },
  {
   "cell_type": "code",
   "execution_count": 46,
   "metadata": {},
   "outputs": [],
   "source": [
    "z0_andreas_df.to_parquet(\"z0estimates/z0_andreas_df.parquet\")\n",
    "z0_andreas_df_weekly.to_parquet(\"z0estimates/z0_andreas_df_weekly.parquet\")\n",
    "z0_df.to_parquet(\"z0estimates/z0_df.parquet\")\n",
    "z0_df_weekly.to_parquet(\"z0estimates/z0_df_weekly.parquet\")"
   ]
  },
  {
   "cell_type": "code",
   "execution_count": null,
   "metadata": {},
   "outputs": [],
   "source": []
  }
 ],
 "metadata": {
  "kernelspec": {
   "display_name": "arm",
   "language": "python",
   "name": "python3"
  },
  "language_info": {
   "codemirror_mode": {
    "name": "ipython",
    "version": 3
   },
   "file_extension": ".py",
   "mimetype": "text/x-python",
   "name": "python",
   "nbconvert_exporter": "python",
   "pygments_lexer": "ipython3",
   "version": "3.12.1"
  }
 },
 "nbformat": 4,
 "nbformat_minor": 2
}
