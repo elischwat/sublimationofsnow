{
 "cells": [
  {
   "cell_type": "code",
   "execution_count": null,
   "metadata": {},
   "outputs": [],
   "source": [
    "import numpy as np\n",
    "import pandas as pd\n",
    "import matplotlib.pyplot as plt\n",
    "import altair as alt\n",
    "alt.data_transformers.enable('json')\n",
    "alt.renderers.enable('jupyterlab')\n",
    "from sublimpy import tidy, utils\n",
    "import pytz\n",
    "import datetime as dt\n",
    "\n",
    "seconds_in_timestep = 60*30\n",
    "from metpy.constants import density_water\n",
    "\n",
    "from metpy.units import units\n",
    "import pint_pandas\n",
    "from metpy import constants"
   ]
  },
  {
   "cell_type": "markdown",
   "metadata": {},
   "source": [
    "# Open SOS Measurement Dataset, extract measurements"
   ]
  },
  {
   "cell_type": "code",
   "execution_count": null,
   "metadata": {},
   "outputs": [],
   "source": [
    "start_date = '20221130'\n",
    "end_date = '20230509'\n",
    "# open files\n",
    "# tidy_df = pd.read_parquet(f'tidy_df_{start_date}_{end_date}_noplanar_fit_clean.parquet')\n",
    "# tidy_df = pd.read_parquet(f'tidy_df_{start_date}_{end_date}_noplanar_fit.parquet')\n",
    "tidy_df = pd.read_parquet(f'tidy_df_{start_date}_{end_date}_planar_fit.parquet')\n",
    "# convert time column to datetime\n",
    "tidy_df['time'] = pd.to_datetime(tidy_df['time'])\n",
    "tidy_df = utils.modify_df_timezone(tidy_df, pytz.UTC, 'US/Mountain')\n",
    "# limit data to our dates of interest, based on continuous snow cover at Kettle Ponds\n",
    "tidy_df = tidy_df.set_index('time').sort_index().loc[start_date:end_date].reset_index()\n",
    "\n",
    "## Add combined blowing snow flux variable\n",
    "tidy_df = tidy.tidy_df_add_variable(\n",
    "    tidy_df,\n",
    "    (\n",
    "        tidy_df.query(\"variable == 'SF_avg_1m_ue'\")['value'].values + \n",
    "        tidy_df.query(\"variable == 'SF_avg_2m_ue'\")['value'].values\n",
    "    ), \n",
    "    'SF_avg_ue',\n",
    "    'snow flux',\n",
    "    1,\n",
    "    'ue',\n",
    ")"
   ]
  },
  {
   "cell_type": "code",
   "execution_count": null,
   "metadata": {},
   "outputs": [],
   "source": [
    "vars = [\n",
    "    'dir_3m_ue', 'u_h2o__3m_ue', 'v_h2o__3m_ue', 'w_h2o__3m_ue',     'u_3m_ue',  'v_3m_ue',  'w_3m_ue', \n",
    "    'dir_10m_ue', 'u_h2o__10m_ue','v_h2o__10m_ue', 'w_h2o__10m_ue',   'u_10m_ue',  'v_10m_ue', 'w_10m_ue',\n",
    "    \n",
    "    'dir_3m_uw', 'u_h2o__3m_uw', 'v_h2o__3m_uw', 'w_h2o__3m_uw',     'u_3m_uw',  'v_3m_uw',  'w_3m_uw', \n",
    "    'dir_10m_uw', 'u_h2o__10m_uw','v_h2o__10m_uw', 'w_h2o__10m_uw',   'u_10m_uw',  'v_10m_uw', 'w_10m_uw',\n",
    "\n",
    "    'dir_3m_d', 'u_h2o__3m_d', 'v_h2o__3m_d', 'w_h2o__3m_d',        'u_3m_d',   'v_3m_d',   'w_3m_d',  \n",
    "    'dir_10m_d', 'u_h2o__10m_d','v_h2o__10m_d', 'w_h2o__10m_d',      'u_10m_d',  'v_10m_d',  'w_10m_d', \n",
    "\n",
    "    'dir_2m_c', 'u_h2o__2m_c', 'v_h2o__2m_c', 'w_h2o__2m_c',        'u_2m_c',   'v_2m_c',   'w_2m_c',   'specifichumidity_2m_c',    'airdensity_2m_c',\n",
    "    'dir_3m_c', 'u_h2o__3m_c', 'v_h2o__3m_c', 'w_h2o__3m_c',        'u_3m_c',   'v_3m_c',   'w_3m_c',   'specifichumidity_3m_c',    'airdensity_3m_c',\n",
    "    'dir_5m_c', 'u_h2o__5m_c', 'v_h2o__5m_c', 'w_h2o__5m_c',        'u_5m_c',   'v_5m_c',   'w_5m_c',   'specifichumidity_5m_c',    'airdensity_5m_c',\n",
    "    'dir_10m_c', 'u_h2o__10m_c','v_h2o__10m_c', 'w_h2o__10m_c',      'u_10m_c',  'v_10m_c',  'w_10m_c',  'specifichumidity_10m_c',   'airdensity_10m_c',\n",
    "    'dir_15m_c', 'u_h2o__15m_c', 'v_h2o__15m_c', 'w_h2o__15m_c',     'u_15m_c',  'v_15m_c',  'w_15m_c',  'specifichumidity_15m_c',   'airdensity_15m_c',\n",
    "    'dir_20m_c', 'u_h2o__20m_c', 'v_h2o__20m_c', 'w_h2o__20m_c',     'u_20m_c',  'v_20m_c',  'w_20m_c',  'specifichumidity_20m_c',   'airdensity_20m_c',\n",
    "\n",
    "    'T_1m_c', 'T_2m_c', 'T_3m_c', 'T_4m_c', 'T_5m_c', 'T_6m_c', 'T_7m_c', 'T_8m_c', 'T_9m_c', 'T_10m_c', \n",
    "    'T_11m_c', 'T_12m_c', 'T_13m_c', 'T_14m_c', 'T_15m_c', 'T_16m_c', 'T_17m_c', 'T_18m_c', 'T_19m_c', 'T_20m_c',\n",
    "\n",
    "    'Rsw_in_9m_d', 'Rnet_9m_d',\n",
    "\n",
    "    'SF_avg_ue',\n",
    "\n",
    "    'Ri_3m_c',\n",
    "\n",
    "    'L_3m_c',\n",
    "]\n",
    "\n",
    "pivot_df = tidy_df[tidy_df.variable.isin(vars)][\n",
    "    ['time', 'variable', 'value']\n",
    "].pivot_table(index='time', columns='variable', values='value')\n",
    "\n",
    "assert len(vars) == len(pivot_df.columns.unique())"
   ]
  },
  {
   "cell_type": "code",
   "execution_count": null,
   "metadata": {},
   "outputs": [],
   "source": [
    "# Identify lists of timestamps for different categories\n",
    "bs_times = tidy_df.query(\"variable == 'SF_avg_ue'\").query(\"value > 0\").time\n",
    "nobs_times = tidy_df.query(\"variable == 'SF_avg_ue'\").query(\"value == 0\").time\n",
    "\n",
    "decoupled_times = tidy_df.query(\"variable == 'omega_3m_c'\").query(\"value < 0.43\").time\n",
    "weaklycoupled_times = tidy_df.query(\"variable == 'omega_3m_c'\").query(\"value >= 0.43\").query(\"value <= 0.61\").time\n",
    "coupled_times = tidy_df.query(\"variable == 'omega_3m_c'\").query(\"value > 0.61\").time\n",
    "\n",
    "ri_stable_times = tidy_df.query(\"variable == 'Ri_3m_c'\").query(\"value > 0.25\").time\n",
    "ri_unstable_times = tidy_df.query(\"variable == 'Ri_3m_c'\").query(\"value < -0.01\").time\n",
    "ri_neutral_times = tidy_df.query(\"variable == 'Ri_3m_c'\").query(\"value >= -0.01\").query(\"value <= 0.25\").time\n",
    "\n",
    "tgrad_stable_times = tidy_df.query(\"variable == 'temp_gradient_3m_c'\").query(\"value > 0.01\").time\n",
    "tgrad_unstable_times = tidy_df.query(\"variable == 'temp_gradient_3m_c'\").query(\"value < -0.01\").time\n",
    "tgrad_neutral_times = tidy_df.query(\"variable == 'temp_gradient_3m_c'\").query(\"value >= -0.01\").query(\"value <= 0.01\").time"
   ]
  },
  {
   "cell_type": "markdown",
   "metadata": {},
   "source": [
    "# Calculate 3D divergence"
   ]
  },
  {
   "cell_type": "markdown",
   "metadata": {},
   "source": [
    "## Define area of the triangular prism faces"
   ]
  },
  {
   "cell_type": "code",
   "execution_count": null,
   "metadata": {},
   "outputs": [],
   "source": [
    "# Define face areas\n",
    "A1 = A2 = A3 = 37 * 7 * units('m^2')\n",
    "A4 = A5 = 580.2 * units('m^2')\n",
    "VOLUME = A4*7*units('m')\n",
    "A1, A2, A3, A4, A5, VOLUME"
   ]
  },
  {
   "cell_type": "markdown",
   "metadata": {},
   "source": [
    "## Define normal vectors to the triangular prism faces"
   ]
  },
  {
   "cell_type": "code",
   "execution_count": null,
   "metadata": {},
   "outputs": [],
   "source": [
    "# ELI'S angles\n",
    "n1 = np.array([ np.cos(np.deg2rad(-98)),   np.sin(np.deg2rad(-98))])*units(None)\n",
    "n2 = np.array([ np.cos(np.deg2rad(21)),   np.sin(np.deg2rad(21))])*units(None)\n",
    "n3 = np.array([ np.cos(np.deg2rad(138)),   np.sin(np.deg2rad(138))])*units(None)\n",
    "\n",
    "# DANNY'S angles\n",
    "# n1 = np.array([ np.cos(np.deg2rad(269.5)),   np.sin(np.deg2rad(269.5))])*units(None)\n",
    "# n2 = np.array([ np.cos(np.deg2rad(19.5)),   np.sin(np.deg2rad(19.5))])*units(None)\n",
    "# n3 = np.array([ np.cos(np.deg2rad(143.5)),   np.sin(np.deg2rad(143.5))])*units(None)"
   ]
  },
  {
   "cell_type": "code",
   "execution_count": null,
   "metadata": {},
   "outputs": [],
   "source": [
    "np.array([ np.cos(np.deg2rad(-98)),   np.sin(np.deg2rad(-98))]).round(4), np.array([ np.cos(np.deg2rad(269.5)),   np.sin(np.deg2rad(269.5))]).round(4)"
   ]
  },
  {
   "cell_type": "code",
   "execution_count": null,
   "metadata": {},
   "outputs": [],
   "source": [
    "np.array([ np.cos(np.deg2rad(21)),   np.sin(np.deg2rad(21))]).round(4), np.array([ np.cos(np.deg2rad(19.5)),   np.sin(np.deg2rad(19.5))]).round(4)"
   ]
  },
  {
   "cell_type": "code",
   "execution_count": null,
   "metadata": {},
   "outputs": [],
   "source": [
    "np.array([ np.cos(np.deg2rad(138)),   np.sin(np.deg2rad(138))]).round(4), np.array([ np.cos(np.deg2rad(143.5)),   np.sin(np.deg2rad(143.5))]).round(4)"
   ]
  },
  {
   "cell_type": "markdown",
   "metadata": {},
   "source": [
    "## Calculate storage change term"
   ]
  },
  {
   "cell_type": "code",
   "execution_count": null,
   "metadata": {},
   "outputs": [],
   "source": [
    "storage_change_term = tidy_df[\n",
    "    tidy_df.measurement.isin(['specific humidity', 'air density'])\n",
    "].query(\"tower == 'c'\").query(\"height <= 10\").query(\"height >= 3\").groupby(\n",
    "    ['time', 'tower', 'measurement']\n",
    ")[['value']].mean().reset_index() \n",
    "storage_change_term = storage_change_term.pivot_table(index='time', values='value', columns='measurement')"
   ]
  },
  {
   "cell_type": "code",
   "execution_count": null,
   "metadata": {},
   "outputs": [],
   "source": [
    "timestep = storage_change_term.index.diff()[1].seconds * units('seconds')\n",
    "print(timestep)\n",
    "absolute_humidity = storage_change_term['specific humidity'].values * units(\"g/g\")  * (\n",
    "    storage_change_term['air density'].values * units(\"kg/m^3\")\n",
    ")\n",
    "delta_humidity = np.diff(absolute_humidity * VOLUME, prepend=np.nan)\n",
    "dq_dt = delta_humidity / timestep"
   ]
  },
  {
   "cell_type": "code",
   "execution_count": null,
   "metadata": {},
   "outputs": [],
   "source": [
    "storage_change_term['absolute humidity (g/m^3)'] = absolute_humidity.to('g/m^3')\n",
    "storage_change_term['delta water storage (g/s)'] = dq_dt.to('grams/second')"
   ]
  },
  {
   "cell_type": "markdown",
   "metadata": {},
   "source": [
    "### Add to dataset"
   ]
  },
  {
   "cell_type": "code",
   "execution_count": null,
   "metadata": {},
   "outputs": [],
   "source": [
    "pivot_df = pivot_df.join(\n",
    "    storage_change_term['delta water storage (g/s)']\n",
    ").join(\n",
    "    storage_change_term['absolute humidity (g/m^3)']\n",
    ")"
   ]
  },
  {
   "cell_type": "markdown",
   "metadata": {},
   "source": [
    "# Calculate wind divergence (air mass continuity)"
   ]
  },
  {
   "cell_type": "code",
   "execution_count": null,
   "metadata": {},
   "outputs": [],
   "source": [
    "wind_vector_3m_ue = [tuple(v) for v in pivot_df[['u_3m_ue', 'v_3m_ue', 'w_3m_ue']].values]\n",
    "wind_vector_10m_ue = [tuple(v) for v in pivot_df[['u_3m_ue', 'v_3m_ue', 'w_3m_ue']].values]\n",
    "wind_vector_3m_uw = [tuple(v) for v in pivot_df[['u_3m_ue', 'v_3m_ue', 'w_3m_ue']].values]\n",
    "wind_vector_10m_uw = [tuple(v) for v in pivot_df[['u_3m_ue', 'v_3m_ue', 'w_3m_ue']].values]\n",
    "wind_vector_3m_c = [tuple(v) for v in pivot_df[['u_3m_ue', 'v_3m_ue', 'w_3m_ue']].values]\n",
    "wind_vector_10m_c = [tuple(v) for v in pivot_df[['u_3m_ue', 'v_3m_ue', 'w_3m_ue']].values]\n",
    "wind_vector_3m_d = [tuple(v) for v in pivot_df[['u_3m_ue', 'v_3m_ue', 'w_3m_ue']].values]\n",
    "wind_vector_10m_d = [tuple(v) for v in pivot_df[['u_3m_ue', 'v_3m_ue', 'w_3m_ue']].values]\n"
   ]
  },
  {
   "cell_type": "code",
   "execution_count": null,
   "metadata": {},
   "outputs": [],
   "source": [
    "n1_3d = np.array([ np.cos(np.deg2rad(-98)), np.sin(np.deg2rad(-98)),  0])\n",
    "n2_3d = np.array([ np.cos(np.deg2rad(21)),  np.sin(np.deg2rad(21)),   0])\n",
    "n3_3d = np.array([ np.cos(np.deg2rad(138)), np.sin(np.deg2rad(138)),  0])\n",
    "n4_3d = np.array([ 0,   0,  1])\n",
    "n5_3d = np.array([ 0,   0,  -1])"
   ]
  },
  {
   "cell_type": "code",
   "execution_count": null,
   "metadata": {},
   "outputs": [],
   "source": [
    "wind_vector_3m_ue_n1 = np.array([np.dot(np.array(vec), n1_3d) for vec in wind_vector_3m_ue])\n",
    "wind_vector_3m_ue_n2 = np.array([np.dot(np.array(vec), n2_3d) for vec in wind_vector_3m_ue])\n",
    "wind_vector_3m_ue_n3 = np.array([np.dot(np.array(vec), n3_3d) for vec in wind_vector_3m_ue])\n",
    "wind_vector_3m_ue_n4 = np.array([np.dot(np.array(vec), n4_3d) for vec in wind_vector_3m_ue])\n",
    "wind_vector_3m_ue_n5 = np.array([np.dot(np.array(vec), n5_3d) for vec in wind_vector_3m_ue])\n",
    "wind_vector_10m_ue_n1 = np.array([np.dot(np.array(vec), n1_3d) for vec in wind_vector_10m_ue])\n",
    "wind_vector_10m_ue_n2 = np.array([np.dot(np.array(vec), n2_3d) for vec in wind_vector_10m_ue])\n",
    "wind_vector_10m_ue_n3 = np.array([np.dot(np.array(vec), n3_3d) for vec in wind_vector_10m_ue])\n",
    "wind_vector_10m_ue_n4 = np.array([np.dot(np.array(vec), n4_3d) for vec in wind_vector_10m_ue])\n",
    "wind_vector_10m_ue_n5 = np.array([np.dot(np.array(vec), n5_3d) for vec in wind_vector_10m_ue])\n",
    "\n",
    "wind_vector_3m_uw_n1 = np.array([np.dot(np.array(vec), n1_3d) for vec in wind_vector_3m_uw])\n",
    "wind_vector_3m_uw_n2 = np.array([np.dot(np.array(vec), n2_3d) for vec in wind_vector_3m_uw])\n",
    "wind_vector_3m_uw_n3 = np.array([np.dot(np.array(vec), n3_3d) for vec in wind_vector_3m_uw])\n",
    "wind_vector_3m_uw_n4 = np.array([np.dot(np.array(vec), n4_3d) for vec in wind_vector_3m_uw])\n",
    "wind_vector_3m_uw_n5 = np.array([np.dot(np.array(vec), n5_3d) for vec in wind_vector_3m_uw])\n",
    "wind_vector_10m_uw_n1 = np.array([np.dot(np.array(vec), n1_3d) for vec in wind_vector_10m_uw])\n",
    "wind_vector_10m_uw_n2 = np.array([np.dot(np.array(vec), n2_3d) for vec in wind_vector_10m_uw])\n",
    "wind_vector_10m_uw_n3 = np.array([np.dot(np.array(vec), n3_3d) for vec in wind_vector_10m_uw])\n",
    "wind_vector_10m_uw_n4 = np.array([np.dot(np.array(vec), n4_3d) for vec in wind_vector_10m_uw])\n",
    "wind_vector_10m_uw_n5 = np.array([np.dot(np.array(vec), n5_3d) for vec in wind_vector_10m_uw])\n",
    "\n",
    "wind_vector_3m_c_n1 = np.array([np.dot(np.array(vec), n1_3d) for vec in wind_vector_3m_c])\n",
    "wind_vector_3m_c_n2 = np.array([np.dot(np.array(vec), n2_3d) for vec in wind_vector_3m_c])\n",
    "wind_vector_3m_c_n3 = np.array([np.dot(np.array(vec), n3_3d) for vec in wind_vector_3m_c])\n",
    "wind_vector_3m_c_n4 = np.array([np.dot(np.array(vec), n4_3d) for vec in wind_vector_3m_c])\n",
    "wind_vector_3m_c_n5 = np.array([np.dot(np.array(vec), n5_3d) for vec in wind_vector_3m_c])\n",
    "wind_vector_10m_c_n1 = np.array([np.dot(np.array(vec), n1_3d) for vec in wind_vector_10m_c])\n",
    "wind_vector_10m_c_n2 = np.array([np.dot(np.array(vec), n2_3d) for vec in wind_vector_10m_c])\n",
    "wind_vector_10m_c_n3 = np.array([np.dot(np.array(vec), n3_3d) for vec in wind_vector_10m_c])\n",
    "wind_vector_10m_c_n4 = np.array([np.dot(np.array(vec), n4_3d) for vec in wind_vector_10m_c])\n",
    "wind_vector_10m_c_n5 = np.array([np.dot(np.array(vec), n5_3d) for vec in wind_vector_10m_c])\n",
    "\n",
    "wind_vector_3m_d_n1 = np.array([np.dot(np.array(vec), n1_3d) for vec in wind_vector_3m_d])\n",
    "wind_vector_3m_d_n2 = np.array([np.dot(np.array(vec), n2_3d) for vec in wind_vector_3m_d])\n",
    "wind_vector_3m_d_n3 = np.array([np.dot(np.array(vec), n3_3d) for vec in wind_vector_3m_d])\n",
    "wind_vector_3m_d_n4 = np.array([np.dot(np.array(vec), n4_3d) for vec in wind_vector_3m_d])\n",
    "wind_vector_3m_d_n5 = np.array([np.dot(np.array(vec), n5_3d) for vec in wind_vector_3m_d])\n",
    "wind_vector_10m_d_n1 = np.array([np.dot(np.array(vec), n1_3d) for vec in wind_vector_10m_d])\n",
    "wind_vector_10m_d_n2 = np.array([np.dot(np.array(vec), n2_3d) for vec in wind_vector_10m_d])\n",
    "wind_vector_10m_d_n3 = np.array([np.dot(np.array(vec), n3_3d) for vec in wind_vector_10m_d])\n",
    "wind_vector_10m_d_n4 = np.array([np.dot(np.array(vec), n4_3d) for vec in wind_vector_10m_d])\n",
    "wind_vector_10m_d_n5 = np.array([np.dot(np.array(vec), n5_3d) for vec in wind_vector_10m_d])"
   ]
  },
  {
   "cell_type": "code",
   "execution_count": null,
   "metadata": {},
   "outputs": [],
   "source": [
    "face1_avg_wind_thru = 0.25*np.array(\n",
    "    wind_vector_3m_ue_n1 + \n",
    "    wind_vector_10m_ue_n1 + \n",
    "    wind_vector_3m_d_n1 + \n",
    "    wind_vector_10m_d_n1\n",
    ")\n",
    "face2_avg_wind_thru = 0.25*np.array(\n",
    "    wind_vector_3m_uw_n2 + \n",
    "    wind_vector_10m_uw_n2 + \n",
    "    wind_vector_3m_d_n2 + \n",
    "    wind_vector_10m_d_n2\n",
    ")\n",
    "face3_avg_wind_thru = 0.25*np.array(\n",
    "    wind_vector_3m_uw_n3 + \n",
    "    wind_vector_10m_uw_n3 + \n",
    "    wind_vector_3m_ue_n3 + \n",
    "    wind_vector_10m_ue_n3\n",
    ")\n",
    "\n",
    "# face 5\n",
    "face5_avg_wind_thru = 0.25*np.array(\n",
    "    wind_vector_3m_uw_n5 + \n",
    "    wind_vector_3m_ue_n5 + \n",
    "    wind_vector_3m_c_n5 + \n",
    "    wind_vector_3m_d_n5\n",
    ")\n",
    "\n",
    "# face 4\n",
    "face4_avg_wind_thru = 0.25*np.array(\n",
    "    wind_vector_10m_uw_n4 + \n",
    "    wind_vector_10m_ue_n4 + \n",
    "    wind_vector_10m_c_n4 + \n",
    "    wind_vector_10m_d_n4\n",
    ")\n",
    "\n",
    "face1_avg_wind_thru_integrated = face1_avg_wind_thru * A1\n",
    "face2_avg_wind_thru_integrated = face2_avg_wind_thru * A2\n",
    "face3_avg_wind_thru_integrated = face3_avg_wind_thru * A3\n",
    "face5_avg_wind_thru_integrated = face5_avg_wind_thru * A5\n",
    "face4_avg_wind_thru_integrated = face4_avg_wind_thru * A4\n",
    "\n",
    "wind_divergence_integrated = (face1_avg_wind_thru_integrated + face2_avg_wind_thru_integrated \n",
    "    + face3_avg_wind_thru_integrated + face5_avg_wind_thru_integrated \n",
    "    + face4_avg_wind_thru_integrated)"
   ]
  },
  {
   "cell_type": "code",
   "execution_count": null,
   "metadata": {},
   "outputs": [],
   "source": [
    "pivot_df['wind_divergence_integrated'] = wind_divergence_integrated"
   ]
  },
  {
   "cell_type": "markdown",
   "metadata": {},
   "source": [
    "## Calculate turbulent divergence"
   ]
  },
  {
   "cell_type": "code",
   "execution_count": null,
   "metadata": {},
   "outputs": [],
   "source": [
    "face1_avg_flux_out = 0.25*(\n",
    "    pivot_df[['u_h2o__3m_ue', 'v_h2o__3m_ue']].values * units('g/m^2/s') +\n",
    "    pivot_df[['u_h2o__10m_ue', 'v_h2o__10m_ue']].values * units('g/m^2/s') +\n",
    "    pivot_df[['u_h2o__3m_d', 'v_h2o__3m_d']].values * units('g/m^2/s') +\n",
    "    pivot_df[['u_h2o__10m_d', 'v_h2o__10m_d']].values * units('g/m^2/s')\n",
    ")\n",
    "face2_avg_flux_out = 0.25*(\n",
    "    pivot_df[['u_h2o__3m_uw', 'v_h2o__3m_uw']].values * units('g/m^2/s') +\n",
    "    pivot_df[['u_h2o__10m_uw', 'v_h2o__10m_uw']].values * units('g/m^2/s') +\n",
    "    pivot_df[['u_h2o__3m_d', 'v_h2o__3m_d']].values * units('g/m^2/s') +\n",
    "    pivot_df[['u_h2o__10m_d', 'v_h2o__10m_d']].values * units('g/m^2/s')\n",
    ")\n",
    "face3_avg_flux_out = 0.25*(\n",
    "    pivot_df[['u_h2o__3m_uw', 'v_h2o__3m_uw']].values * units('g/m^2/s') +\n",
    "    pivot_df[['u_h2o__10m_uw', 'v_h2o__10m_uw']].values * units('g/m^2/s') +\n",
    "    pivot_df[['u_h2o__3m_ue', 'v_h2o__3m_ue']].values * units('g/m^2/s') +\n",
    "    pivot_df[['u_h2o__10m_ue', 'v_h2o__10m_ue']].values * units('g/m^2/s')\n",
    ")\n",
    "\n",
    "# face 5\n",
    "face5_avg_flux_out = - 0.25*(\n",
    "    pivot_df['w_h2o__3m_ue'].values * units('g/m^2/s') +\n",
    "    pivot_df['w_h2o__3m_uw'].values * units('g/m^2/s') +\n",
    "    pivot_df['w_h2o__3m_d'].values * units('g/m^2/s') +\n",
    "    pivot_df['w_h2o__3m_c'].values * units('g/m^2/s')\n",
    ")\n",
    "\n",
    "# face 4\n",
    "face4_avg_flux_out = 0.25*(\n",
    "    pivot_df['w_h2o__10m_ue'].values * units('g/m^2/s') +\n",
    "    pivot_df['w_h2o__10m_uw'].values * units('g/m^2/s') +\n",
    "    pivot_df['w_h2o__10m_d'].values * units('g/m^2/s') +\n",
    "    pivot_df['w_h2o__10m_c'].values * units('g/m^2/s')\n",
    ")\n",
    "\n",
    "face1_projected_flux = np.dot(face1_avg_flux_out, n1)\n",
    "face2_projected_flux = np.dot(face2_avg_flux_out, n2)\n",
    "face3_projected_flux = np.dot(face3_avg_flux_out, n3)"
   ]
  },
  {
   "cell_type": "code",
   "execution_count": null,
   "metadata": {},
   "outputs": [],
   "source": [
    "total_lateral_divergence = (\n",
    "    face1_projected_flux*A1 + \n",
    "    face2_projected_flux*A2 + \n",
    "    face3_projected_flux*A3\n",
    ")\n",
    "display(total_lateral_divergence)\n",
    "\n",
    "total_vertical_divergence = face4_avg_flux_out*A4 + face5_avg_flux_out*A5\n",
    "display(total_vertical_divergence)\n",
    "\n",
    "total_divergence = total_lateral_divergence + total_vertical_divergence\n",
    "display(total_divergence)"
   ]
  },
  {
   "cell_type": "markdown",
   "metadata": {},
   "source": [
    "### Add to dataset"
   ]
  },
  {
   "cell_type": "code",
   "execution_count": null,
   "metadata": {},
   "outputs": [],
   "source": [
    "pivot_df['total_turb_lateral_divergence (g/s)'] = total_lateral_divergence\n",
    "pivot_df['total_turb_vertical_divergence (g/s)'] = total_vertical_divergence\n",
    "pivot_df['total_turb_divergence (g/s)'] = total_divergence"
   ]
  },
  {
   "cell_type": "markdown",
   "metadata": {},
   "source": [
    "## Calculate advective divergence"
   ]
  },
  {
   "cell_type": "code",
   "execution_count": null,
   "metadata": {},
   "outputs": [],
   "source": [
    "abs_humidity_3m = pivot_df['specifichumidity_3m_c'].values * units('g/g') * pivot_df['airdensity_3m_c'].values * units(\"kg/m^3\")\n",
    "abs_humidity_10m = pivot_df['specifichumidity_10m_c'].values * units('g/g') * pivot_df['airdensity_10m_c'].values * units(\"kg/m^3\")\n",
    "\n",
    "# make the u components negative, which is necessary \n",
    "#   for the coord. system we are working in\n",
    "\n",
    "advective_flux_u_3m_ue = pivot_df['u_3m_ue'].values * units('m/s') * abs_humidity_3m\n",
    "advective_flux_v_3m_ue = pivot_df['v_3m_ue'].values * units('m/s') * abs_humidity_3m\n",
    "advective_flux_u_10m_ue = pivot_df['u_10m_ue'].values * units('m/s') * abs_humidity_10m\n",
    "advective_flux_v_10m_ue = pivot_df['v_10m_ue'].values * units('m/s') * abs_humidity_10m\n",
    "\n",
    "advective_flux_u_3m_uw = pivot_df['u_3m_uw'].values * units('m/s') * abs_humidity_3m\n",
    "advective_flux_v_3m_uw = pivot_df['v_3m_uw'].values * units('m/s') * abs_humidity_3m\n",
    "advective_flux_u_10m_uw = pivot_df['u_10m_uw'].values * units('m/s') * abs_humidity_10m\n",
    "advective_flux_v_10m_uw = pivot_df['v_10m_uw'].values * units('m/s') * abs_humidity_10m\n",
    "\n",
    "advective_flux_u_3m_d = pivot_df['u_3m_d'].values * units('m/s') * abs_humidity_3m\n",
    "advective_flux_v_3m_d = pivot_df['v_3m_d'].values * units('m/s') * abs_humidity_3m\n",
    "advective_flux_u_10m_d = pivot_df['u_10m_d'].values * units('m/s') * abs_humidity_10m\n",
    "advective_flux_v_10m_d = pivot_df['v_10m_d'].values * units('m/s') * abs_humidity_10m\n",
    "\n",
    "advective_flux_w_3m_ue = pivot_df['w_3m_ue'].values * units('m/s') * abs_humidity_3m\n",
    "advective_flux_w_3m_uw = pivot_df['w_3m_uw'].values * units('m/s') * abs_humidity_3m\n",
    "advective_flux_w_3m_d = pivot_df['w_3m_d'].values * units('m/s') * abs_humidity_3m\n",
    "advective_flux_w_3m_c = pivot_df['w_3m_c'].values * units('m/s') * abs_humidity_3m\n",
    "\n",
    "advective_flux_w_10m_ue = pivot_df['w_10m_ue'].values * units('m/s') * abs_humidity_10m\n",
    "advective_flux_w_10m_uw = pivot_df['w_10m_uw'].values * units('m/s') * abs_humidity_10m\n",
    "advective_flux_w_10m_d = pivot_df['w_10m_d'].values * units('m/s') * abs_humidity_10m\n",
    "advective_flux_w_10m_c = pivot_df['w_10m_c'].values * units('m/s') * abs_humidity_10m"
   ]
  },
  {
   "cell_type": "code",
   "execution_count": null,
   "metadata": {},
   "outputs": [],
   "source": [
    "face1_avg_u_flux = 0.25*(\n",
    "    advective_flux_u_3m_ue +\n",
    "    advective_flux_u_10m_ue + \n",
    "    advective_flux_u_3m_d +\n",
    "    advective_flux_u_10m_d\n",
    ") \n",
    "face1_avg_v_flux = 0.25*(\n",
    "    advective_flux_v_3m_ue +\n",
    "    advective_flux_v_10m_ue + \n",
    "    advective_flux_v_3m_d +\n",
    "    advective_flux_v_10m_d\n",
    ") \n",
    "\n",
    "face2_avg_u_flux = 0.25*(\n",
    "    advective_flux_u_3m_uw +\n",
    "    advective_flux_u_10m_uw + \n",
    "    advective_flux_u_3m_d +\n",
    "    advective_flux_u_10m_d\n",
    ") \n",
    "face2_avg_v_flux = 0.25*(\n",
    "    advective_flux_v_3m_uw +\n",
    "    advective_flux_v_10m_uw + \n",
    "    advective_flux_v_3m_d +\n",
    "    advective_flux_v_10m_d\n",
    ") \n",
    "\n",
    "face3_avg_u_flux = 0.25*(\n",
    "    advective_flux_u_3m_uw +\n",
    "    advective_flux_u_10m_uw + \n",
    "    advective_flux_u_3m_ue +\n",
    "    advective_flux_u_10m_ue\n",
    ") \n",
    "face3_avg_v_flux = 0.25*(\n",
    "    advective_flux_v_3m_uw +\n",
    "    advective_flux_v_10m_uw + \n",
    "    advective_flux_v_3m_ue +\n",
    "    advective_flux_v_10m_ue\n",
    ") \n",
    "\n",
    "# face 5\n",
    "average_upward_3m_adv_flux = 0.25*(\n",
    "    advective_flux_w_3m_ue + \n",
    "    advective_flux_w_3m_uw + \n",
    "    advective_flux_w_3m_d + \n",
    "    advective_flux_w_3m_c\n",
    ")\n",
    "\n",
    "# face 4\n",
    "average_upward_10m_adv_flux = 0.25*(\n",
    "    advective_flux_w_10m_ue + \n",
    "    advective_flux_w_10m_uw + \n",
    "    advective_flux_w_10m_d + \n",
    "    advective_flux_w_10m_c\n",
    ")"
   ]
  },
  {
   "cell_type": "code",
   "execution_count": null,
   "metadata": {},
   "outputs": [],
   "source": [
    "face1_avg_adv_flux = np.array([\n",
    "    face1_avg_u_flux,\n",
    "    face1_avg_v_flux\n",
    "]).T * face1_avg_v_flux.units\n",
    "\n",
    "face2_avg_adv_flux = np.array([\n",
    "    face2_avg_u_flux,\n",
    "    face2_avg_v_flux\n",
    "]).T * face1_avg_v_flux.units\n",
    "\n",
    "face3_avg_adv_flux = np.array([\n",
    "    face3_avg_u_flux,\n",
    "    face3_avg_v_flux\n",
    "]).T * face1_avg_v_flux.units"
   ]
  },
  {
   "cell_type": "code",
   "execution_count": null,
   "metadata": {},
   "outputs": [],
   "source": [
    "face1_projected_adv_flux = np.dot(face1_avg_adv_flux, n1)\n",
    "face2_projected_adv_flux = np.dot(face2_avg_adv_flux, n2)\n",
    "face3_projected_adv_flux = np.dot(face3_avg_adv_flux, n3)"
   ]
  },
  {
   "cell_type": "code",
   "execution_count": null,
   "metadata": {},
   "outputs": [],
   "source": [
    "total_lateral_adv_divergence = (\n",
    "    face1_projected_adv_flux*A1 + \n",
    "    face2_projected_adv_flux*A2 + \n",
    "    face3_projected_adv_flux*A3\n",
    ")\n",
    "display(total_lateral_adv_divergence)\n",
    "\n",
    "total_vertical_adv_divergence = average_upward_10m_adv_flux*A4 - average_upward_3m_adv_flux*A5\n",
    "display(total_vertical_adv_divergence)\n",
    "\n",
    "total_adv_divergence = total_lateral_adv_divergence + total_vertical_adv_divergence\n",
    "display(total_adv_divergence)"
   ]
  },
  {
   "cell_type": "code",
   "execution_count": null,
   "metadata": {},
   "outputs": [],
   "source": [
    "np.nanmean(total_lateral_adv_divergence.magnitude), np.nanmedian(total_lateral_adv_divergence.magnitude)"
   ]
  },
  {
   "cell_type": "code",
   "execution_count": null,
   "metadata": {},
   "outputs": [],
   "source": [
    "np.nanmean(total_lateral_divergence.magnitude), np.nanmedian(total_lateral_divergence.magnitude)"
   ]
  },
  {
   "cell_type": "markdown",
   "metadata": {},
   "source": [
    "### Add to dataset"
   ]
  },
  {
   "cell_type": "code",
   "execution_count": null,
   "metadata": {},
   "outputs": [],
   "source": [
    "pivot_df['total_adv_lateral_divergence (g/s)'] = total_lateral_adv_divergence.to(\"g/s\")\n",
    "pivot_df['total_adv_vertical_divergence (g/s)'] = total_vertical_adv_divergence.to(\"g/s\")\n",
    "pivot_df['total_adv_divergence (g/s)'] = total_adv_divergence.to(\"g/s\")"
   ]
  },
  {
   "cell_type": "markdown",
   "metadata": {},
   "source": [
    "## Calculate residual/source term\n",
    "\n",
    "$\\frac{dq}{dt} = S_{BS} - \\nabla \\cdot \\overline{u_i} \\space \\overline{q} - \\nabla \\cdot \\overline{u_i' q'}$\n",
    "\n",
    "$S_{BS} = \\frac{dq}{dt} + \\nabla \\cdot \\overline{u_i} \\space \\overline{q} + \\nabla \\cdot \\overline{u_i' q'}$"
   ]
  },
  {
   "cell_type": "code",
   "execution_count": null,
   "metadata": {},
   "outputs": [],
   "source": [
    "pivot_df['source (g/s)'] = pivot_df['total_adv_divergence (g/s)'] + pivot_df['total_turb_divergence (g/s)'] + pivot_df['delta water storage (g/s)']"
   ]
  },
  {
   "cell_type": "markdown",
   "metadata": {},
   "source": [
    "# Correlation matrix"
   ]
  },
  {
   "cell_type": "code",
   "execution_count": null,
   "metadata": {},
   "outputs": [],
   "source": [
    "pd.set_option('display.max_rows', 200)\n",
    "pivot_df.corr()[['source (g/s)']].sort_values('source (g/s)')"
   ]
  },
  {
   "cell_type": "markdown",
   "metadata": {},
   "source": [
    "## Calculate EC-estimated surface sublimation \n",
    "\n",
    "We assume the 2m EC vertical flux equals surface sublimation"
   ]
  },
  {
   "cell_type": "code",
   "execution_count": null,
   "metadata": {},
   "outputs": [],
   "source": [
    "surface_sublimation = pivot_df['w_h2o__2m_c'].values * units('g/m^2/s') * A4\n",
    "\n",
    "pivot_df['EC-estimated surface sublimation (g/s)'] = surface_sublimation\n",
    "pivot_df['EC-estimated surface sublimation (g/m^2/s)'] = pivot_df['w_h2o__2m_c'].values"
   ]
  },
  {
   "cell_type": "markdown",
   "metadata": {},
   "source": [
    "## Calculate Control-Volume estimated surface sublimation"
   ]
  },
  {
   "cell_type": "code",
   "execution_count": null,
   "metadata": {},
   "outputs": [],
   "source": [
    "## Calculate estimation of surface sublimation assuming that the 3 and 10m sonics represent fluxes all the way to the ground (10m tall control volume)\n",
    "# AREAS AND VOLUMES\n",
    "# Define face areas\n",
    "NEW_A1 = NEW_A2 = NEW_A3 = 37 * 10 * units('m^2')\n",
    "NEW_A4 = NEW_A5 = 580.2 * units('m^2')\n",
    "NEW_VOLUME = A4*10*units('m')\n",
    "\n",
    "\n",
    "surface_sublimation = (\n",
    "    - (( pivot_df['delta water storage (g/s)'].values* units('g/s') / VOLUME ) * NEW_VOLUME) \n",
    "    - face1_projected_flux*NEW_A1\n",
    "    - face2_projected_flux*NEW_A2\n",
    "    - face3_projected_flux*NEW_A3\n",
    "    - face4_avg_flux_out*NEW_A4\n",
    "    - face1_projected_adv_flux*NEW_A1\n",
    "    - face2_projected_adv_flux*NEW_A2\n",
    "    - face3_projected_adv_flux*NEW_A3\n",
    "    - average_upward_10m_adv_flux*NEW_A4\n",
    ")\n",
    "\n",
    "pivot_df['CV-estimated surface sublimation (g/s)'] = surface_sublimation\n",
    "pivot_df['CV-estimated surface sublimation (g/m^2/s)'] = surface_sublimation / A4"
   ]
  },
  {
   "cell_type": "code",
   "execution_count": null,
   "metadata": {},
   "outputs": [],
   "source": [
    "(pivot_df.loc['20230328': '20230401']['EC-estimated surface sublimation (g/m^2/s)'].head(1800)*100).plot()\n",
    "pivot_df.loc['20230328': '20230401']['CV-estimated surface sublimation (g/m^2/s)'].head(1800).plot()"
   ]
  },
  {
   "cell_type": "markdown",
   "metadata": {},
   "source": [
    "# Plot: Average diurnal cycles"
   ]
  },
  {
   "cell_type": "code",
   "execution_count": null,
   "metadata": {},
   "outputs": [],
   "source": [
    "import xarray as xr\n",
    "precip_df = xr.open_dataset(\"/Users/elischwat/Development/data/sublimationofsnow/precip_danny/precipitation_rate_gts_w23.nc\")['corrected_prcp_rate_m2'].to_dataframe()\n",
    "\n",
    "is_snowing_dates = pd.concat([\n",
    "    precip_df.query(\"corrected_prcp_rate_m2 > 0\").index.to_series(),\n",
    "    precip_df.query(\"corrected_prcp_rate_m2 > 0\").index.to_series() + dt.timedelta(minutes=30)\n",
    "])\n",
    "    \n",
    "is_not_snowing_dates = pd.concat([\n",
    "    precip_df.query(\"corrected_prcp_rate_m2 <= 0\").index.to_series(),\n",
    "    precip_df.query(\"corrected_prcp_rate_m2 <= 0\").index.to_series() + dt.timedelta(minutes=30)\n",
    "])"
   ]
  },
  {
   "cell_type": "code",
   "execution_count": null,
   "metadata": {},
   "outputs": [],
   "source": [
    "src = pivot_df[[\n",
    "    'delta water storage (g/s)', \n",
    "    'absolute humidity (g/m^3)',\n",
    "    # 'wind_divergence_integrated',\n",
    "    'source (g/s)',\n",
    "    # 'EC-estimated surface sublimation (g/s)',\n",
    "\n",
    "    'total_turb_lateral_divergence (g/s)',\n",
    "    'total_turb_vertical_divergence (g/s)', \n",
    "    'total_turb_divergence (g/s)',\n",
    "\n",
    "    'total_adv_lateral_divergence (g/s)',\n",
    "    'total_adv_vertical_divergence (g/s)', \n",
    "    'total_adv_divergence (g/s)',\n",
    "\n",
    "]]\n",
    "nobs_src = src[src.index.isin(nobs_times)]\n",
    "bs_src = src[src.index.isin(bs_times)]\n",
    "snowing_src = src[src.index.isin(is_snowing_dates)]\n",
    "not_snowing_src = src[src.index.isin(is_not_snowing_dates)]\n",
    "not_snowing_nobs_src = src[src.index.isin(set(is_not_snowing_dates).intersection(set(nobs_times)))]\n",
    "\n",
    "src = pd.concat([\n",
    "    # nobs_src.groupby([nobs_src.index.floor('30T').time]).mean().assign(type='No BS'),\n",
    "    # bs_src.groupby([bs_src.index.floor('30T').time]).mean().assign(type='BS'),\n",
    "    # src.groupby([src.index.floor('30T').time]).mean().assign(type='All data'),\n",
    "    # snowing_src.groupby([snowing_src.index.floor('30T').time]).mean().assign(type='Snowing'),\n",
    "    # not_snowing_src.groupby([not_snowing_src.index.floor('30T').time]).mean().assign(type='Not snowing'),\n",
    "    not_snowing_nobs_src.groupby([not_snowing_nobs_src.index.floor('30T').time]).mean().assign(type='Not snowing, No BS'),\n",
    "])\n",
    "\n",
    "src.index.name = 'time'\n",
    "src\n",
    "src = src.melt(ignore_index=False, id_vars=['type']).reset_index()\n",
    "src.time = src.time.apply(lambda time: dt.datetime.combine(dt.date(2024, 1, 1),  time))\n",
    "\n",
    "conservation_chart = alt.Chart(\n",
    "    src\n",
    ").mark_line().encode(\n",
    "    alt.X('time:T'),\n",
    "    alt.Y('value:Q').title('water vapour content (g/s)'),\n",
    "    alt.Facet('variable:N', columns=3),\n",
    "    alt.StrokeDash('type:N').scale(\n",
    "        # domain=['No BS', 'BS', 'All data'], \n",
    "        # range=[[1,0], [1,2], [1,4]]\n",
    "    ),\n",
    "    # alt.Color('type:N'),\n",
    ").properties(height = 150, width=300).resolve_scale(y='independent')\n",
    "conservation_chart\n"
   ]
  },
  {
   "cell_type": "code",
   "execution_count": null,
   "metadata": {},
   "outputs": [],
   "source": [
    "src = pivot_df[[\n",
    "    'Rnet_9m_d',\n",
    "    'Rsw_in_9m_d'\n",
    "]].groupby([pivot_df.index.floor('30T').time]).mean()\n",
    "src = src.melt(ignore_index=False)\n",
    "src.index.name = 'time'\n",
    "src = src.reset_index()\n",
    "src.time = src.time.apply(lambda time: dt.datetime.combine(dt.date(2024, 1, 1),  time))\n",
    "\n",
    "rad_chart = alt.Chart(src).mark_line().encode(\n",
    "    alt.X('time:T'),\n",
    "    alt.Y('value:Q').title('radiation (W/m^2)'),\n",
    "    alt.StrokeDash('variable:N'),\n",
    ").properties(height = 150, width=300)"
   ]
  },
  {
   "cell_type": "code",
   "execution_count": null,
   "metadata": {},
   "outputs": [],
   "source": [
    "src = pivot_df[[\n",
    "    'dir_10m_c',\n",
    "        'dir_10m_d',\n",
    "        'dir_10m_ue',\n",
    "        'dir_10m_uw',\n",
    "        'dir_15m_c',\n",
    "        'dir_20m_c',\n",
    "        'dir_2m_c',\n",
    "        'dir_3m_c',\n",
    "        'dir_3m_d',\n",
    "        'dir_3m_ue',\n",
    "        'dir_3m_uw',\n",
    "        'dir_5m_c',\n",
    "]].groupby([pivot_df.index.floor('30T').time]).median()\n",
    "src = src.melt(ignore_index=False)\n",
    "src.index.name = 'time'\n",
    "src = src.reset_index()\n",
    "src.time = src.time.apply(lambda time: dt.datetime.combine(dt.date(2024, 1, 1),  time))\n",
    "src['height'] = src['variable'].apply(tidy._height_from_variable_name)\n",
    "src['tower'] = src['variable'].apply(tidy._tower_from_variable_name)\n",
    "\n",
    "dir_chart = alt.Chart(src).mark_line().encode(\n",
    "    alt.X('time:T'),\n",
    "    alt.Y('value:Q').scale(zero=False).title('Wind direction (˚)'),\n",
    "    alt.Color('height:O').scale(scheme='rainbow'),\n",
    "    alt.StrokeDash('tower:N')\n",
    ").properties(height = 150, width=300)"
   ]
  },
  {
   "cell_type": "code",
   "execution_count": null,
   "metadata": {},
   "outputs": [],
   "source": [
    "src = pivot_df[[\n",
    "    'w_2m_c',\n",
    "    'w_3m_c', 'w_3m_d', 'w_3m_ue', 'w_3m_uw',\n",
    "    'w_5m_c',\n",
    "    'w_10m_c', 'w_10m_d', 'w_10m_ue', 'w_10m_uw',\n",
    "    'w_15m_c',\n",
    "    'w_20m_c',\n",
    "]].groupby([pivot_df.index.floor('30T').time]).mean()\n",
    "src = src.melt(ignore_index=False)\n",
    "src['tower'] = src.variable.apply(tidy._tower_from_variable_name)\n",
    "src['height'] = src.variable.apply(tidy._height_from_variable_name)\n",
    "src.index.name = 'time'\n",
    "src = src.reset_index()\n",
    "src.time = src.time.apply(lambda time: dt.datetime.combine(dt.date(2024, 1, 1),  time))\n",
    "\n",
    "w_chart = alt.Chart(src).mark_line().encode(\n",
    "    alt.X('time:T'),\n",
    "    alt.Y('value:Q').title('velocity (m/s)'),\n",
    "    alt.Color('height:O').scale(scheme='rainbow'),\n",
    "    alt.StrokeDash('tower:N'),\n",
    "    tooltip='tower:N'\n",
    ").properties(height = 150, width=300)"
   ]
  },
  {
   "cell_type": "code",
   "execution_count": null,
   "metadata": {},
   "outputs": [],
   "source": [
    "src = pivot_df[[\n",
    "    'w_3m_c', \n",
    "    'w_10m_c',\n",
    "]].groupby([pivot_df.index.floor('30T').time]).mean()\n",
    "src = src.melt(ignore_index=False)\n",
    "src['tower'] = src.variable.apply(tidy._tower_from_variable_name)\n",
    "src['height'] = src.variable.apply(tidy._height_from_variable_name)\n",
    "src['measurement'] = src.variable.apply(tidy._measurement_from_variable_name)\n",
    "src.index.name = 'time'\n",
    "src = src.reset_index()\n",
    "src.time = src.time.apply(lambda time: dt.datetime.combine(dt.date(2024, 1, 1),  time))\n",
    "\n",
    "w_simple_chart = alt.Chart(src).mark_line().encode(\n",
    "    alt.X('time:T'),\n",
    "    alt.Y('value:Q').scale(zero=False).title('velocity (m/s)'),\n",
    "    alt.Color('height:O'),\n",
    "    alt.Column('measurement:N').sort(['w', 'specific humidity'])\n",
    ").properties(height = 150, width=300).resolve_scale(y='independent')\n",
    "\n",
    "src = pivot_df[[\n",
    "    'specifichumidity_3m_c', \n",
    "    'specifichumidity_10m_c',\n",
    "]].groupby([pivot_df.index.floor('30T').time]).mean()\n",
    "\n",
    "# convert from g/g to g/kg\n",
    "pivot_df[[\n",
    "    'specifichumidity_3m_c', \n",
    "    'specifichumidity_10m_c',\n",
    "]] = pivot_df[[\n",
    "    'specifichumidity_3m_c', \n",
    "    'specifichumidity_10m_c',\n",
    "]]*1000 \n",
    "src = src.melt(ignore_index=False)\n",
    "src['tower'] = src.variable.apply(tidy._tower_from_variable_name)\n",
    "src['height'] = src.variable.apply(tidy._height_from_variable_name)\n",
    "src['measurement'] = src.variable.apply(tidy._measurement_from_variable_name)\n",
    "src.index.name = 'time'\n",
    "src = src.reset_index()\n",
    "src.time = src.time.apply(lambda time: dt.datetime.combine(dt.date(2024, 1, 1),  time))\n",
    "\n",
    "q_simple_chart = alt.Chart(src).mark_line().encode(\n",
    "    alt.X('time:T'),\n",
    "    alt.Y('value:Q').scale(zero=False).title('specific humidity (g/kg)'),\n",
    "    alt.Color('height:O'),\n",
    "    alt.Column('measurement:N').sort(['w', 'specific humidity'])\n",
    ").properties(height = 150, width=300).resolve_scale(y='independent')"
   ]
  },
  {
   "cell_type": "code",
   "execution_count": null,
   "metadata": {},
   "outputs": [],
   "source": [
    "src = pivot_df[[\n",
    "    'T_1m_c', 'T_2m_c', 'T_3m_c', 'T_4m_c', 'T_5m_c', 'T_6m_c', 'T_7m_c', 'T_8m_c', 'T_9m_c', 'T_10m_c', \n",
    "    'T_11m_c', 'T_12m_c', 'T_13m_c', 'T_14m_c', 'T_15m_c', 'T_16m_c', 'T_17m_c', 'T_18m_c', 'T_19m_c', 'T_20m_c',\n",
    "]]\n",
    "src = src.groupby([pivot_df.index.floor('30T').time]).mean().melt(ignore_index=False).reset_index().rename(columns={'index': 'time'})\n",
    "src['height'] = src.variable.apply(tidy._height_from_variable_name)\n",
    "src['height_low'] = src['height'] - 0.5\n",
    "src['height_hi'] = src['height'] + 0.5\n",
    "src.time = src.time.apply(lambda time: dt.datetime.combine(dt.date(2024, 1, 1),  time))\n",
    "src['time_hi'] = src['time'].apply(lambda dis: dis + dt.timedelta(minutes=30)) \n",
    "temp_heatmap = alt.Chart(src).mark_rect().encode(\n",
    "    alt.X('time:T').title('time').axis(format='%H:%M'),\n",
    "    alt.X2('time_hi:T'),\n",
    "    alt.Y('height_low:Q').scale(zero=False, domain=[0,20]).title(\"height (m)\"),\n",
    "    alt.Y2('height_hi:Q'),\n",
    "    alt.Color('value:Q').title('Temperature (˚C)').scale(scheme='viridis'),\n",
    ").properties(width = 400, height = 200, title='Average Diurnal Temperature Profile')"
   ]
  },
  {
   "cell_type": "code",
   "execution_count": null,
   "metadata": {},
   "outputs": [],
   "source": [
    "\n",
    "(\n",
    "    (conservation_chart)\n",
    "    &\n",
    "    (w_chart | w_simple_chart | q_simple_chart).resolve_scale(color='shared', strokeDash='shared')\n",
    "    &\n",
    "    (dir_chart | rad_chart).resolve_scale(color='independent', strokeDash='independent')\n",
    "    &\n",
    "    temp_heatmap\n",
    ").resolve_scale(x='independent', color='independent', strokeDash='independent')"
   ]
  },
  {
   "cell_type": "markdown",
   "metadata": {},
   "source": [
    "# Hovmoller plots of similar stuff"
   ]
  },
  {
   "cell_type": "code",
   "execution_count": null,
   "metadata": {},
   "outputs": [],
   "source": [
    "columns = [\n",
    "    # 'source (g/s)',\n",
    "    'total_turb_lateral_divergence (g/s)',\n",
    "    'total_turb_vertical_divergence (g/s)',\n",
    "    'total_turb_divergence (g/s)',\n",
    "    'total_adv_lateral_divergence (g/s)',\n",
    "    'total_adv_vertical_divergence (g/s)',\n",
    "    'total_adv_divergence (g/s)'\n",
    "]\n",
    "src = pivot_df[columns].reset_index()\n",
    "src['date'] = src['time'].apply(lambda dt: dt.replace(hour = 0, minute = 0, second = 0))\n",
    "src['date_upper'] = src.time + dt.timedelta(hours=24)\n",
    "src['hour'] = src.time.dt.hour + src.time.dt.minute.astype('float')/60\n",
    "src['hour_upper'] = src['hour'] + 0.5\n",
    "src\n",
    "alt.Chart(src).transform_fold(columns).mark_rect().encode(\n",
    "    alt.X('hour:Q').title('hour'),\n",
    "    alt.X2('hour_upper:Q'),\n",
    "    alt.Y('date:T').title('date'),\n",
    "    alt.Y2('date_upper:T'),\n",
    "    alt.Color(\"value:Q\").scale(type='symlog', scheme='purpleorange').title(\"Divergence (g/s)\"),\n",
    "    alt.Facet(\"key:N\", columns=3)\n",
    ").resolve_scale(color='independent')"
   ]
  },
  {
   "cell_type": "code",
   "execution_count": null,
   "metadata": {},
   "outputs": [],
   "source": [
    "columns = [\n",
    "    # 'source (g/s)',\n",
    "    'total_turb_lateral_divergence (g/s)',\n",
    "    'total_turb_vertical_divergence (g/s)',\n",
    "    'total_turb_divergence (g/s)',\n",
    "    'total_adv_lateral_divergence (g/s)',\n",
    "    'total_adv_vertical_divergence (g/s)',\n",
    "    'total_adv_divergence (g/s)'\n",
    "]\n",
    "src = not_snowing_nobs_src[columns].reset_index()\n",
    "src['date'] = src['time'].apply(lambda dt: dt.replace(hour = 0, minute = 0, second = 0))\n",
    "src['date_upper'] = src.time + dt.timedelta(hours=24)\n",
    "src['hour'] = src.time.dt.hour + src.time.dt.minute.astype('float')/60\n",
    "src['hour_upper'] = src['hour'] + 0.5\n",
    "src\n",
    "alt.Chart(src).transform_fold(columns).mark_rect().encode(\n",
    "    alt.X('hour:Q').title('hour'),\n",
    "    alt.X2('hour_upper:Q'),\n",
    "    alt.Y('date:T').title('date'),\n",
    "    alt.Y2('date_upper:T'),\n",
    "    alt.Color(\"value:Q\").scale(type='symlog', scheme='purpleorange').title(\"Divergence (g/s)\"),\n",
    "    alt.Facet(\"key:N\", columns=3)\n",
    ").resolve_scale(color='independent')"
   ]
  },
  {
   "cell_type": "code",
   "execution_count": null,
   "metadata": {},
   "outputs": [],
   "source": []
  },
  {
   "cell_type": "markdown",
   "metadata": {},
   "source": [
    "# Plot: Case studies"
   ]
  },
  {
   "cell_type": "code",
   "execution_count": null,
   "metadata": {},
   "outputs": [],
   "source": [
    "(\n",
    "    alt.Chart(\n",
    "        tidy_df.query(\"variable == 'SF_avg_ue'\").set_index('time').loc[\n",
    "            '20221220':'20221223'\n",
    "        ].reset_index()\n",
    "    ).mark_line(color='black').encode(\n",
    "        alt.X('time:T'),\n",
    "        alt.Y('value:Q')\n",
    "    ).properties(width = 300, height = 125) \n",
    "    \n",
    "    &\n",
    "    \n",
    "    alt.Chart(\n",
    "        pivot_df[[\n",
    "            'delta water storage (g/s)',\n",
    "            'total_turb_divergence (g/s)',\n",
    "            'total_adv_divergence (g/s)'\n",
    "]].loc['20221220':'20221223'].melt(ignore_index=False).reset_index()\n",
    "    ).transform_window(\n",
    "        rolling_avg = \"mean(value)\",\n",
    "        frame = [-2, 2],\n",
    "        groupby = ['variable']\n",
    "    ).mark_line().encode(\n",
    "        alt.X(\"time:T\"),\n",
    "        alt.Y(\"rolling_avg:Q\").scale(),\n",
    "        alt.Color(\"variable:N\")\n",
    "    ).properties(width = 300, height = 125)\n",
    ") | (\n",
    "    alt.Chart(\n",
    "        tidy_df.query(\"variable == 'SF_avg_ue'\").set_index('time').loc[\n",
    "            '20221211':'20221214'\n",
    "        ].reset_index()\n",
    "    ).mark_line(color='black').encode(\n",
    "        alt.X('time:T'),\n",
    "        alt.Y('value:Q')\n",
    "    ).properties(width = 300, height = 125) \n",
    "    \n",
    "    &\n",
    "    \n",
    "    alt.Chart(\n",
    "        pivot_df[[\n",
    "            'delta water storage (g/s)',\n",
    "            'total_turb_divergence (g/s)',\n",
    "            'total_adv_divergence (g/s)'\n",
    "        ]].loc['20221211':'20221214'].melt(ignore_index=False).reset_index()\n",
    "    ).transform_window(\n",
    "        rolling_avg = \"mean(value)\",\n",
    "        frame = [-2, 2],\n",
    "        groupby = ['variable']\n",
    "    ).mark_line().encode(\n",
    "        alt.X(\"time:T\"),\n",
    "        alt.Y(\"rolling_avg:Q\").scale(),\n",
    "        alt.Color(\"variable:N\")\n",
    "    ).properties(width = 300, height = 125)   \n",
    ") | (\n",
    "    alt.Chart(\n",
    "        tidy_df.query(\"variable == 'SF_avg_ue'\").set_index('time').loc[\n",
    "            '20230328':'20230331    '\n",
    "        ].reset_index()\n",
    "    ).mark_line(color='black').encode(\n",
    "        alt.X('time:T'),\n",
    "        alt.Y('value:Q')\n",
    "    ).properties(width = 300, height = 125) \n",
    "    \n",
    "    &\n",
    "    \n",
    "    alt.Chart(\n",
    "        pivot_df[[\n",
    "            'delta water storage (g/s)',\n",
    "            'total_turb_divergence (g/s)',\n",
    "            'total_adv_divergence (g/s)'\n",
    "]].loc['20230328':'20230331 '].melt(ignore_index=False).reset_index()\n",
    "    ).transform_window(\n",
    "        rolling_avg = \"mean(value)\",\n",
    "        frame = [-2, 2],\n",
    "        groupby = ['variable']\n",
    "    ).mark_line().encode(\n",
    "        alt.X(\"time:T\"),\n",
    "        alt.Y(\"rolling_avg:Q\").scale(),\n",
    "        alt.Color(\"variable:N\")\n",
    "    ).properties(width = 300, height = 125)   \n",
    ")"
   ]
  },
  {
   "cell_type": "code",
   "execution_count": null,
   "metadata": {},
   "outputs": [],
   "source": [
    "day_hours = [7,8,9,10,11,12,13,14,15,16,17,18]\n",
    "night_hours = [19,20,21,22,23,0,1,2,3,4,5,6]\n",
    "print('turb. divergence (g/s)',             'all',        round( pivot_df['total_turb_divergence (g/s)'].mean(), 2))\n",
    "print('turb. divergence (g/s)',             'day',        round( pivot_df[  (pivot_df.index.isin(bs_times))   & pivot_df.index.hour.isin(day_hours)  ]['total_turb_divergence (g/s)'].mean(), 2))\n",
    "print('turb. divergence (g/s)',             'night',        round( pivot_df[  (pivot_df.index.isin(bs_times))   & pivot_df.index.hour.isin(night_hours)  ]['total_turb_divergence (g/s)'].mean(), 2))\n",
    "print('turb. divergence (g/s)',             'bs',         round( pivot_df[  (pivot_df.index.isin(bs_times))    ]['total_turb_divergence (g/s)'].mean(), 2))\n",
    "print('turb. divergence (g/s)',             'no bs',      round( pivot_df[  (pivot_df.index.isin(nobs_times))  ]['total_turb_divergence (g/s)'].mean(), 2))\n",
    "\n",
    "print('vertical_turb_divergence (g/s)',    'all',        round( pivot_df['total_turb_vertical_divergence (g/s)'].mean(), 2))\n",
    "print('vertical_turb_divergence (g/s)',             'day',        round( pivot_df[  (pivot_df.index.isin(bs_times))   & pivot_df.index.hour.isin(day_hours)  ]['total_turb_vertical_divergence (g/s)'].mean(), 2))\n",
    "print('vertical_turb_divergence (g/s)',             'night',        round( pivot_df[  (pivot_df.index.isin(bs_times))   & pivot_df.index.hour.isin(night_hours)  ]['total_turb_vertical_divergence (g/s)'].mean(), 2))\n",
    "print('vertical_turb_divergence (g/s)',    'bs',         round( pivot_df[  (pivot_df.index.isin(bs_times))    ]['total_turb_vertical_divergence (g/s)'].mean(), 2))\n",
    "print('vertical_turb_divergence (g/s)',    'no bs',      round( pivot_df[  (pivot_df.index.isin(nobs_times))  ]['total_turb_vertical_divergence (g/s)'].mean(), 2))\n",
    "\n",
    "print('lateral_turb_divergence (g/s)',     'all',        round( pivot_df['total_turb_lateral_divergence (g/s)'].mean(), 2))\n",
    "print('lateral_turb_divergence (g/s)',             'day',        round( pivot_df[  (pivot_df.index.isin(bs_times))   & pivot_df.index.hour.isin(day_hours)  ]['total_turb_lateral_divergence (g/s)'].mean(), 2))\n",
    "print('lateral_turb_divergence (g/s)',             'night',        round( pivot_df[  (pivot_df.index.isin(bs_times))   & pivot_df.index.hour.isin(night_hours)  ]['total_turb_lateral_divergence (g/s)'].mean(), 2))\n",
    "print('lateral_turb_divergence (g/s)',     'bs',         round( pivot_df[  (pivot_df.index.isin(bs_times))    ]['total_turb_lateral_divergence (g/s)'].mean(), 2))\n",
    "print('lateral_turb_divergence (g/s)',     'no bs',      round( pivot_df[  (pivot_df.index.isin(nobs_times))  ]['total_turb_lateral_divergence (g/s)'].mean(), 2))\n",
    "\n",
    "print('adv divergence (g/s)',             'all',    round( pivot_df['total_adv_divergence (g/s)'].mean(), 2))\n",
    "print('adv divergence (g/s)',             'day',        round( pivot_df[  (pivot_df.index.isin(bs_times))   & pivot_df.index.hour.isin(day_hours)  ]['total_adv_divergence (g/s)'].mean(), 2))\n",
    "print('adv divergence (g/s)',             'night',        round( pivot_df[  (pivot_df.index.isin(bs_times))   & pivot_df.index.hour.isin(night_hours)  ]['total_adv_divergence (g/s)'].mean(), 2))\n",
    "print('adv divergence (g/s)',             'bs',     round( pivot_df[  (pivot_df.index.isin(bs_times))    ]['total_adv_divergence (g/s)'].mean(), 2))\n",
    "print('adv divergence (g/s)',             'no bs',  round( pivot_df[  (pivot_df.index.isin(nobs_times))  ]['total_adv_divergence (g/s)'].mean(), 2))\n",
    "\n",
    "print('adv_vertical_divergence (g/s)','all',        round( pivot_df['total_adv_vertical_divergence (g/s)'].mean(), 2))\n",
    "print('adv_vertical_divergence (g/s)',             'day',        round( pivot_df[  (pivot_df.index.isin(bs_times))   & pivot_df.index.hour.isin(day_hours)  ]['total_adv_vertical_divergence (g/s)'].mean(), 2))\n",
    "print('adv_vertical_divergence (g/s)',             'night',        round( pivot_df[  (pivot_df.index.isin(bs_times))   & pivot_df.index.hour.isin(night_hours)  ]['total_adv_vertical_divergence (g/s)'].mean(), 2))\n",
    "print('adv_vertical_divergence (g/s)','bs',         round( pivot_df[  (    pivot_df.index.isin(bs_times))    ]['total_adv_vertical_divergence (g/s)'].mean(), 2))\n",
    "print('adv_vertical_divergence (g/s)','no bs',      round( pivot_df[  (pivot_df.index.isin(nobs_times))  ]['total_adv_vertical_divergence (g/s)'].mean(), 2))\n",
    "\n",
    "print('adv_lateral_divergence (g/s)', 'all',        round( pivot_df['total_adv_lateral_divergence (g/s)'].mean(), 2))\n",
    "print('adv_lateral_divergence (g/s)',             'day',        round( pivot_df[  (pivot_df.index.isin(bs_times))   & pivot_df.index.hour.isin(day_hours)  ]['total_adv_lateral_divergence (g/s)'].mean(), 2))\n",
    "print('adv_lateral_divergence (g/s)',             'night',        round( pivot_df[  (pivot_df.index.isin(bs_times))   & pivot_df.index.hour.isin(night_hours)  ]['total_adv_lateral_divergence (g/s)'].mean(), 2))\n",
    "print('adv_lateral_divergence (g/s)', 'bs',         round( pivot_df[  (pivot_df.index.isin(bs_times))    ]['total_adv_lateral_divergence (g/s)'].mean(), 2))\n",
    "print('adv_lateral_divergence (g/s)', 'no bs',      round( pivot_df[  (pivot_df.index.isin(nobs_times))  ]['total_adv_lateral_divergence (g/s)'].mean(), 2))"
   ]
  },
  {
   "cell_type": "code",
   "execution_count": null,
   "metadata": {},
   "outputs": [],
   "source": [
    "# start_date = '20221221'\n",
    "# end_date = '20221223'\n",
    "# start_date = '20221211'\n",
    "# end_date = '20221214'\n",
    "start_date = '20230328'\n",
    "end_date = '20230328'\n",
    "\n",
    "fig, axes = plt.subplots(4,1, sharex=True, figsize=(5, 8))\n",
    "axes[0].plot(\n",
    "    tidy_df.query(\"variable == 'SF_avg_ue'\").set_index('time').sort_index().loc[start_date:end_date].index,\n",
    "    tidy_df.query(\"variable == 'SF_avg_ue'\").set_index('time').sort_index().loc[start_date:end_date].value\n",
    ")\n",
    "axes[1].plot(\n",
    "    tidy_df.query(\"variable == 'specifichumidity_5m_c'\").set_index('time').sort_index().loc[start_date:end_date].index,\n",
    "    tidy_df.query(\"variable == 'specifichumidity_5m_c'\").set_index('time').sort_index().loc[start_date:end_date].value\n",
    ")\n",
    "\n",
    "axes[2].plot(\n",
    "    pivot_df['total_turb_divergence (g/s)'].loc[start_date:end_date].index,\n",
    "    pivot_df['total_turb_divergence (g/s)'].loc[start_date:end_date],\n",
    "    color='red',\n",
    "    label = 'total turb. divergence'\n",
    ")\n",
    "axes[2].plot(\n",
    "    pivot_df['total_turb_vertical_divergence (g/s)'].loc[start_date:end_date].index,\n",
    "    pivot_df['total_turb_vertical_divergence (g/s)'].loc[start_date:end_date],\n",
    "    color='blue',\n",
    "    label = 'vertical turb. divergence'\n",
    ")\n",
    "axes[2].plot(\n",
    "    pivot_df['total_turb_lateral_divergence (g/s)'].loc[start_date:end_date].index,\n",
    "    pivot_df['total_turb_lateral_divergence (g/s)'].loc[start_date:end_date],\n",
    "    color='yellow',\n",
    "    label = 'lateral turb. divergence'\n",
    ")\n",
    "\n",
    "pivot_df['total_adv_lateral_divergence (g/s)']\n",
    "pivot_df['total_adv_vertical_divergence (g/s)']\n",
    "pivot_df['total_adv_divergence (g/s)']\n",
    "         \n",
    "axes[3].plot(\n",
    "    pivot_df['total_adv_divergence (g/s)'].loc[start_date:end_date].index,\n",
    "    pivot_df['total_adv_divergence (g/s)'].loc[start_date:end_date],\n",
    "    color='red',\n",
    "    label = 'total adv. divergence'\n",
    ")\n",
    "axes[3].plot(\n",
    "    pivot_df['total_adv_vertical_divergence (g/s)'].loc[start_date:end_date].index,\n",
    "    pivot_df['total_adv_vertical_divergence (g/s)'].loc[start_date:end_date],\n",
    "    color='blue',\n",
    "    label = 'vertical adv. divergence'\n",
    ")\n",
    "axes[3].plot(\n",
    "    pivot_df['total_adv_lateral_divergence (g/s)'].loc[start_date:end_date].index,\n",
    "    pivot_df['total_adv_lateral_divergence (g/s)'].loc[start_date:end_date],\n",
    "    color='yellow',\n",
    "    label = 'lateral adv. divergence'\n",
    ")\n",
    "\n",
    "for ax in axes:\n",
    "    ax.axhline(0, color='grey')\n",
    "axes[0].set_ylabel(\"Blowing snow\\nflux (g/m^2/s)\", rotation=0, labelpad=60)\n",
    "axes[1].set_ylabel(\"Specific\\nhumidity (g/g)\", rotation=0, labelpad=60)\n",
    "axes[2].set_ylabel(\"Divergence\\n(g/s)\", rotation=0, labelpad=60)\n",
    "axes[2].legend(loc='upper center', bbox_to_anchor=(1.25, 1.05),ncol=1)\n",
    "# axes[2].set_ylim(-20,20)\n",
    "\n",
    "axes[3].set_ylabel(\"Divergence\\n(g/s)\", rotation=0, labelpad=60)\n",
    "axes[3].legend(loc='upper center', bbox_to_anchor=(1.25, 1.05),ncol=1)\n",
    "# axes[3].set_ylim(-20,20)\n",
    "axes[3].tick_params(axis='x', labelrotation=45)"
   ]
  },
  {
   "cell_type": "markdown",
   "metadata": {},
   "source": [
    "# Plot wind vectors in space?"
   ]
  },
  {
   "cell_type": "code",
   "execution_count": null,
   "metadata": {},
   "outputs": [],
   "source": [
    "wind_src = tidy_df[tidy_df.measurement.isin(['wind speed', 'wind direction', 'w'])]\n",
    "wind_src = wind_src.pivot_table(index=['time', 'height', 'tower'], values='value', columns='measurement').reset_index()\n",
    "tower_to_x_dict = {\n",
    "    'ue': 1,\n",
    "    'uw': 1,\n",
    "    'c': 3,\n",
    "    'd': 5,\n",
    "}\n",
    "tower_to_y_dict = {\n",
    "    'ue': 7,\n",
    "    'uw': 1,\n",
    "    'c': 4,\n",
    "    'd': 4,\n",
    "}\n",
    "wind_src['x'] = wind_src['tower'].apply(tower_to_x_dict.get)\n",
    "wind_src['y'] = wind_src['tower'].apply(tower_to_y_dict.get)\n",
    "\n",
    "wind_src['wind from'] = wind_src['wind direction'] - 180\n",
    "\n",
    "wind_src"
   ]
  },
  {
   "cell_type": "code",
   "execution_count": null,
   "metadata": {},
   "outputs": [],
   "source": [
    "src = wind_src[wind_src.time  < '20221201']\n",
    "src = src.query(\"height == 3\")\n",
    "plot_3m = alt.Chart(src).mark_point(shape='arrow').encode(\n",
    "    alt.X('x:Q'),\n",
    "    alt.Y('y:Q'),\n",
    "    alt.Size('wind speed:Q').scale(domain=[0.50,5], range=[500,5000]),\n",
    "    alt.Angle('wind from:Q').scale(domain=[0,360]),\n",
    "    alt.Color('w').scale(domain=[-0.1, 0.1], scheme='purpleorange'),\n",
    "    alt.Facet('time:T', columns=4).header(format='%H:%M')\n",
    ").properties(width=100, height = 100, title='Winds at 3 meters')\n",
    "\n",
    "src = wind_src[wind_src.time  < '20221201']\n",
    "src = src.query(\"height == 10\")\n",
    "plot_10m = alt.Chart(src).mark_point(shape='arrow').encode(\n",
    "    alt.X('x:Q'),\n",
    "    alt.Y('y:Q'),\n",
    "    alt.Size('wind speed:Q').scale(domain=[0.50,5], range=[500,5000]),\n",
    "    alt.Angle('wind from:Q').scale(domain=[0,360]),\n",
    "    alt.Color('w').scale(domain=[-0.1, 0.1], scheme='purpleorange'),\n",
    "    alt.Facet('time:T', columns=4).header(format='%H:%M')\n",
    ").properties(width=100, height = 100, title='Winds at 10 meters')\n",
    "\n",
    "(plot_3m | plot_10m).configure_axis(grid=False).configure_legend(columns=2)"
   ]
  },
  {
   "cell_type": "markdown",
   "metadata": {},
   "source": [
    "# Examine corrections to the gas analyzers"
   ]
  },
  {
   "cell_type": "markdown",
   "metadata": {},
   "source": [
    "* Scatter plots - hygrometer at 3/5/10/20 m-C vs gas analyzer at 3m C\n",
    "    * Water vapor content (hygrometer) vs water vapor content (gas analyzer)\n",
    "    - plot both using their native units (abs humidity vs relative)\n",
    "    - plot both using absolute humidity\n",
    "    - plot both converting to specific humidity\n",
    "    - plot both converting to relative humidity\n",
    "    * Then can color code by temperature"
   ]
  },
  {
   "cell_type": "markdown",
   "metadata": {},
   "source": [
    "## Add absolute humidity measurements by converting hygrometer measurements"
   ]
  },
  {
   "cell_type": "code",
   "execution_count": null,
   "metadata": {},
   "outputs": [],
   "source": [
    "tower_height_keys = tidy_df[tidy_df.measurement=='specific humidity'].groupby(['tower', 'height']).indices.keys()\n",
    "for t, h in tower_height_keys:\n",
    "    this_tower_height_tidy_df = tidy_df.query(\n",
    "            f\"tower == '{t}'\"\n",
    "        ).query(\n",
    "            f\"height == {h}\"\n",
    "        )\n",
    "    specific_humidity_values = this_tower_height_tidy_df.query(\n",
    "            \"measurement == 'specific humidity'\"\n",
    "        ).set_index('time')[['value']].rename(columns={'value': 'specific humidity'})\n",
    "    air_density_values = this_tower_height_tidy_df.query(\n",
    "            \"measurement == 'air density'\"\n",
    "        ).set_index('time')[['value']].rename(columns={'value': 'air density'})\n",
    "    combined_df = specific_humidity_values.join(air_density_values)\n",
    "\n",
    "    abs_humidity_values = (\n",
    "        combined_df['specific humidity'].values * units('g/g')\n",
    "    ).to('g/kg') * (\n",
    "        combined_df['air density'].values * units('kg/m^3')\n",
    "    ).m\n",
    "\n",
    "    tidy_df = tidy.tidy_df_add_variable(\n",
    "        tidy_df,\n",
    "        abs_humidity_values,\n",
    "        f\"absolutehumidity_{int(h)}m_{t}\",\n",
    "        'absolute humidity',\n",
    "        int(h),\n",
    "        t\n",
    "    )"
   ]
  },
  {
   "cell_type": "markdown",
   "metadata": {},
   "source": [
    "## Examine raw measurements"
   ]
  },
  {
   "cell_type": "code",
   "execution_count": null,
   "metadata": {},
   "outputs": [],
   "source": [
    "alt.Chart(\n",
    "    tidy_df[\n",
    "        tidy_df.measurement=='absolute humidity'\n",
    "    ].groupby(['tower', 'height'])[['value']].mean().reset_index()\n",
    ").mark_point(shape='square', filled=True, color='black', size=20).encode(\n",
    "    alt.X(\"value:Q\"),\n",
    "    alt.Y(\"height:Q\")\n",
    ").properties(width=150, height = 150)\\\n",
    "+ alt.Chart(\n",
    "    tidy_df[tidy_df.measurement=='Water vapor density'].groupby(['variable', 'tower', 'height'])[['value']].mean().reset_index()\n",
    ").mark_circle(size=40).encode(\n",
    "    alt.X(\"value:Q\").title(\"Absolute humidity (g/m^3)\"),\n",
    "    alt.Y(\"height:Q\"),\n",
    "    alt.Color('tower:N')\n",
    ").properties(width=150, height = 150)"
   ]
  },
  {
   "cell_type": "code",
   "execution_count": null,
   "metadata": {},
   "outputs": [],
   "source": [
    "src =tidy_df[\n",
    "    tidy_df.measurement.isin(['absolute humidity', 'Water vapor density'])\n",
    "].query(\"tower == 'c'\").pivot(\n",
    "    index=['time', 'height', 'tower'],\n",
    "    columns='measurement',\n",
    "    values='value'\n",
    ")\n",
    "src.columns = src.columns.get_level_values(0)\n",
    "src = src.reset_index()\n",
    "\n",
    "alt.Chart(src).mark_circle(opacity=0.15).encode(\n",
    "    alt.X('Water vapor density').title('Gas analyzer').scale(domain=[0,6], clamp=True),\n",
    "    alt.Y('absolute humidity').title('Hygrometer').scale(domain=[0,6], clamp=True),\n",
    "    alt.Row('tower:N'),\n",
    "    alt.Column('height:O')\n",
    ")"
   ]
  },
  {
   "cell_type": "code",
   "execution_count": null,
   "metadata": {},
   "outputs": [],
   "source": [
    "src =tidy_df[\n",
    "    tidy_df.measurement.isin(['temperature', 'absolute humidity', 'Water vapor density'])\n",
    "].query(\"tower == 'c'\").pivot(\n",
    "    index=['time', 'height', 'tower'],\n",
    "    columns='measurement',\n",
    "    values='value'\n",
    ")\n",
    "src.columns = src.columns.get_level_values(0)\n",
    "src = src.reset_index()\n",
    "alt.Chart(src).mark_circle(opacity=1.0).encode(\n",
    "    alt.X('Water vapor density').title('Gas analyzer').scale(domain=[0,6], clamp=True),\n",
    "    alt.Y('absolute humidity').title('Hygrometer').scale(domain=[0,6], clamp=True),\n",
    "    alt.Color('temperature').scale(domain=[-30,10], scheme='reds'),\n",
    "    alt.Row('tower:N'),\n",
    "    alt.Column('height:O')\n",
    ")"
   ]
  },
  {
   "cell_type": "markdown",
   "metadata": {},
   "source": [
    "## Calculate corrections assuming that all gas analyzers have the same seasonal mean as the corresponding hygrometer measurement on the central tower (at a given height)"
   ]
  },
  {
   "cell_type": "code",
   "execution_count": null,
   "metadata": {},
   "outputs": [],
   "source": [
    "hygrometer_absolute_humidity_mean = (\n",
    "    1000 * tidy_df[tidy_df.measurement=='specific humidity'].groupby(['tower', 'height'])[['value']].mean() *\\\n",
    "    tidy_df[tidy_df.measurement=='air density'].groupby(['tower', 'height'])[['value']].mean()\n",
    ").reset_index().query(\"tower == 'c'\")"
   ]
  },
  {
   "cell_type": "code",
   "execution_count": null,
   "metadata": {},
   "outputs": [],
   "source": [
    "ec_absolute_humidity_mean = tidy_df[tidy_df.measurement=='Water vapor density'].groupby(['variable', 'tower', 'height'])[['value']].mean().reset_index()"
   ]
  },
  {
   "cell_type": "code",
   "execution_count": null,
   "metadata": {},
   "outputs": [],
   "source": [
    "corrections_df = ec_absolute_humidity_mean.merge(\n",
    "    hygrometer_absolute_humidity_mean[['height', 'value']].rename(columns={'value': 'truth'}),\n",
    "    on='height'\n",
    ")\n",
    "corrections_df['offset'] = corrections_df['value'] - corrections_df['truth']\n",
    "corrections_df"
   ]
  },
  {
   "cell_type": "markdown",
   "metadata": {},
   "source": [
    "## Update dataset with corrections"
   ]
  },
  {
   "cell_type": "code",
   "execution_count": null,
   "metadata": {},
   "outputs": [],
   "source": [
    "src = tidy_df[tidy_df.measurement=='Water vapor density']\n",
    "src = src[src.height.isin([3,10])]\n",
    "\n",
    "alt.Chart(\n",
    "    src[ src.time > '20221220' ][ src.time < '20221224' ]\n",
    ").mark_line().encode(\n",
    "    alt.X(\"time:T\"),\n",
    "    alt.Y(\"value:Q\"),\n",
    "    alt.Color(\"height:N\"),\n",
    "    detail='variable'\n",
    ")"
   ]
  },
  {
   "cell_type": "code",
   "execution_count": null,
   "metadata": {},
   "outputs": [],
   "source": [
    "for idx, row in corrections_df.iterrows():\n",
    "    src = tidy_df.query(f\"variable == '{row['variable']}'\")\n",
    "    src = src.assign(value = src.value - row['offset'])\n",
    "    tidy_df = tidy_df[tidy_df.variable != row['variable']]\n",
    "    tidy_df = pd.concat([tidy_df, src])"
   ]
  },
  {
   "cell_type": "code",
   "execution_count": null,
   "metadata": {},
   "outputs": [],
   "source": [
    "alt.Chart(\n",
    "    (\n",
    "    1000 * tidy_df[tidy_df.measurement=='specific humidity'].groupby(['tower', 'height'])[['value']].mean() *\\\n",
    "    tidy_df[tidy_df.measurement=='air density'].groupby(['tower', 'height'])[['value']].mean()\n",
    "    ).reset_index()\n",
    ").mark_point(shape='square', filled=True, color='black', size=20).encode(\n",
    "    alt.X(\"value:Q\"),\n",
    "    alt.Y(\"height:Q\")\n",
    ").properties(width=150, height = 150)\\\n",
    "+ alt.Chart(\n",
    "    tidy_df[tidy_df.measurement=='Water vapor density'].groupby(['variable', 'tower', 'height'])[['value']].mean().reset_index()\n",
    ").mark_circle(size=40).encode(\n",
    "    alt.X(\"value:Q\"),\n",
    "    alt.Y(\"height:Q\"),\n",
    "    alt.Color('tower:N')\n",
    ").properties(width=150, height = 150)"
   ]
  },
  {
   "cell_type": "code",
   "execution_count": null,
   "metadata": {},
   "outputs": [],
   "source": [
    "src = tidy_df[tidy_df.measurement=='Water vapor density']\n",
    "src = src[src.height.isin([3,10])]\n",
    "\n",
    "alt.Chart(\n",
    "    src[ src.time > '20221220 1200' ][ src.time < '20221221 0600' ]\n",
    ").mark_line(point=True).encode(\n",
    "    alt.X(\"time:T\"),\n",
    "    alt.Y(\"value:Q\"),\n",
    "    alt.Color(\"height:N\"),\n",
    "    alt.Shape('tower:N'),\n",
    "    detail='tower:N'\n",
    ").properties(width=600).configure_point(\n",
    "    size=40\n",
    ")"
   ]
  },
  {
   "cell_type": "markdown",
   "metadata": {},
   "source": [
    "## Examine residuals"
   ]
  },
  {
   "cell_type": "code",
   "execution_count": null,
   "metadata": {},
   "outputs": [],
   "source": [
    "compare_src = tidy_df[tidy_df.variable.isin([\n",
    "    'T_3m_c', 'h2o_3m_c', 'specifichumidity_3m_c', 'airdensity_3m_c',\n",
    "    'T_10m_c', 'h2o_10m_c', 'specifichumidity_10m_c', 'airdensity_10m_c',\n",
    "\n",
    "    'T_3m_ue', 'h2o_3m_ue', \n",
    "    'T_10m_ue', 'h2o_10m_ue',\n",
    "    \n",
    "    'T_3m_uw', 'h2o_3m_uw',    \n",
    "    'T_10m_uw', 'h2o_10m_uw',\n",
    "    \n",
    "    'T_3m_d', 'h2o_3m_d',    \n",
    "    'T_10m_d', 'h2o_10m_d'\n",
    "    ])].pivot_table(index='time', columns='variable', values='value')\n",
    "\n",
    "compare_src['absolutehumidity_3m_c'] = 1000*compare_src['specifichumidity_3m_c'] * compare_src['airdensity_3m_c']\n",
    "compare_src['absolutehumidity_10m_c'] = 1000*compare_src['specifichumidity_10m_c'] * compare_src['airdensity_10m_c']\n",
    "compare_src['difference_3m_c'] = compare_src['h2o_3m_c'] - compare_src['absolutehumidity_3m_c']\n",
    "compare_src['difference_normalized_3m_c'] = (compare_src['h2o_3m_c'] - compare_src['absolutehumidity_3m_c'])/ compare_src['h2o_3m_c']\n",
    "compare_src['difference_10m_c'] = compare_src['h2o_10m_c'] - compare_src['absolutehumidity_10m_c']\n",
    "compare_src['difference_normalized_10m_c'] = (compare_src['h2o_10m_c'] - compare_src['absolutehumidity_10m_c'])/ compare_src['h2o_10m_c']\n",
    "\n",
    "compare_src['absolutehumidity_3m_ue'] = 1000*compare_src['specifichumidity_3m_c'] * compare_src['airdensity_3m_c']\n",
    "compare_src['absolutehumidity_10m_ue'] = 1000*compare_src['specifichumidity_10m_c'] * compare_src['airdensity_10m_c']\n",
    "compare_src['difference_3m_ue'] = compare_src['h2o_3m_ue'] - compare_src['absolutehumidity_3m_ue']\n",
    "compare_src['difference_normalized_3m_ue'] = (compare_src['h2o_3m_ue'] - compare_src['absolutehumidity_3m_ue'])/ compare_src['h2o_3m_ue']\n",
    "compare_src['difference_10m_ue'] = compare_src['h2o_10m_ue'] - compare_src['absolutehumidity_10m_ue']\n",
    "compare_src['difference_normalized_10m_ue'] = (compare_src['h2o_10m_ue'] - compare_src['absolutehumidity_10m_ue'])/ compare_src['h2o_10m_ue']\n",
    "\n",
    "compare_src['absolutehumidity_3m_uw'] = 1000*compare_src['specifichumidity_3m_c'] * compare_src['airdensity_3m_c']\n",
    "compare_src['absolutehumidity_10m_uw'] = 1000*compare_src['specifichumidity_10m_c'] * compare_src['airdensity_10m_c']\n",
    "compare_src['difference_3m_uw'] = compare_src['h2o_3m_uw'] - compare_src['absolutehumidity_3m_uw']\n",
    "compare_src['difference_normalized_3m_uw'] = (compare_src['h2o_3m_uw'] - compare_src['absolutehumidity_3m_uw'])/ compare_src['h2o_3m_uw']\n",
    "compare_src['difference_10m_uw'] = compare_src['h2o_10m_uw'] - compare_src['absolutehumidity_10m_uw']\n",
    "compare_src['difference_normalized_10m_uw'] = (compare_src['h2o_10m_uw'] - compare_src['absolutehumidity_10m_uw'])/ compare_src['h2o_10m_uw']\n",
    "\n",
    "compare_src['absolutehumidity_3m_d'] = 1000*compare_src['specifichumidity_3m_c'] * compare_src['airdensity_3m_c']\n",
    "compare_src['absolutehumidity_10m_d'] = 1000*compare_src['specifichumidity_10m_c'] * compare_src['airdensity_10m_c']\n",
    "compare_src['difference_3m_d'] = compare_src['h2o_3m_d'] - compare_src['absolutehumidity_3m_d']\n",
    "compare_src['difference_normalized_3m_d'] = (compare_src['h2o_3m_d'] - compare_src['absolutehumidity_3m_d'])/ compare_src['h2o_3m_d']\n",
    "compare_src['difference_10m_d'] = compare_src['h2o_10m_d'] - compare_src['absolutehumidity_10m_d']\n",
    "compare_src['difference_normalized_10m_d'] = (compare_src['h2o_10m_d'] - compare_src['absolutehumidity_10m_d'])/ compare_src['h2o_10m_d']"
   ]
  },
  {
   "cell_type": "markdown",
   "metadata": {},
   "source": [
    "### As function of temperature"
   ]
  },
  {
   "cell_type": "code",
   "execution_count": null,
   "metadata": {},
   "outputs": [],
   "source": [
    "def pts_n_bars(src, x, y):\n",
    "    # return alt.Chart(src).mark_circle(opacity=0.25).encode(\n",
    "    #     alt.X(f\"{x}:Q\"),\n",
    "    #     alt.Y(f\"{y}:Q\")\n",
    "    # ).properties(width=150, height=150) | \n",
    "    return alt.Chart(src).mark_boxplot(outliers=False).encode(\n",
    "        alt.X(f\"{x}:Q\").bin(True),\n",
    "        alt.Y(f\"{y}:Q\")\n",
    "    ).properties(width=150, height=150)\n",
    "\n",
    "(\n",
    "    pts_n_bars(compare_src, 'T_3m_c', 'difference_normalized_3m_c') |\\\n",
    "    pts_n_bars(compare_src, 'T_10m_c', 'difference_normalized_10m_c') |\\\n",
    "    pts_n_bars(compare_src, 'T_3m_c', 'difference_normalized_3m_uw') |\\\n",
    "    pts_n_bars(compare_src, 'T_10m_c', 'difference_normalized_10m_uw')\n",
    ") & (\n",
    "    pts_n_bars(compare_src, 'T_3m_c', 'difference_normalized_3m_ue') |\\\n",
    "    pts_n_bars(compare_src, 'T_10m_c', 'difference_normalized_10m_ue') |\\\n",
    "    pts_n_bars(compare_src, 'T_3m_c', 'difference_normalized_3m_d') |\\\n",
    "    pts_n_bars(compare_src, 'T_10m_c', 'difference_normalized_10m_d')\n",
    ")"
   ]
  },
  {
   "cell_type": "code",
   "execution_count": null,
   "metadata": {},
   "outputs": [],
   "source": [
    "def pts_n_bars(src, x, y):\n",
    "    # return alt.Chart(src).mark_circle(opacity=0.25).encode(\n",
    "    #     alt.X(f\"{x}:Q\"),\n",
    "    #     alt.Y(f\"{y}:Q\")\n",
    "    # ).properties(width=150, height=150) | \n",
    "    return alt.Chart(src).mark_boxplot(outliers=False).encode(\n",
    "        alt.X(f\"{x}:Q\").bin(True),\n",
    "        alt.Y(f\"{y}:Q\")\n",
    "    ).properties(width=150, height=150)\n",
    "\n",
    "(\n",
    "    pts_n_bars(compare_src, 'T_3m_c', 'difference_3m_c') |\\\n",
    "    pts_n_bars(compare_src, 'T_10m_c', 'difference_10m_c') |\\\n",
    "    pts_n_bars(compare_src, 'T_3m_c', 'difference_3m_uw') |\\\n",
    "    pts_n_bars(compare_src, 'T_10m_c', 'difference_10m_uw')\n",
    ") & (\n",
    "    pts_n_bars(compare_src, 'T_3m_c', 'difference_3m_ue') |\\\n",
    "    pts_n_bars(compare_src, 'T_10m_c', 'difference_10m_ue') |\\\n",
    "    pts_n_bars(compare_src, 'T_3m_c', 'difference_3m_d') |\\\n",
    "    pts_n_bars(compare_src, 'T_10m_c', 'difference_10m_d')\n",
    ")"
   ]
  },
  {
   "cell_type": "code",
   "execution_count": null,
   "metadata": {},
   "outputs": [],
   "source": [
    "def pts_n_bars(src, x, y):\n",
    "    return alt.Chart(src).mark_circle(opacity=0.25).encode(\n",
    "        alt.X(f\"{x}:Q\"),\n",
    "        alt.Y(f\"{y}:Q\")\n",
    "    ).properties(width=150, height=150)\n",
    "    # return alt.Chart(src).mark_boxplot(outliers=False).encode(\n",
    "    #     alt.X(f\"{x}:Q\").bin(True),\n",
    "    #     alt.Y(f\"{y}:Q\")\n",
    "    # ).properties(width=150, height=150)\n",
    "\n",
    "(\n",
    "    pts_n_bars(compare_src, 'T_3m_c', 'difference_3m_c') |\\\n",
    "    pts_n_bars(compare_src, 'T_10m_c', 'difference_10m_c') |\\\n",
    "    pts_n_bars(compare_src, 'T_3m_c', 'difference_3m_uw') |\\\n",
    "    pts_n_bars(compare_src, 'T_10m_c', 'difference_10m_uw')\n",
    ") & (\n",
    "    pts_n_bars(compare_src, 'T_3m_c', 'difference_3m_ue') |\\\n",
    "    pts_n_bars(compare_src, 'T_10m_c', 'difference_10m_ue') |\\\n",
    "    pts_n_bars(compare_src, 'T_3m_c', 'difference_3m_d') |\\\n",
    "    pts_n_bars(compare_src, 'T_10m_c', 'difference_10m_d')\n",
    ")"
   ]
  },
  {
   "cell_type": "code",
   "execution_count": null,
   "metadata": {},
   "outputs": [],
   "source": [
    "src = tidy_df.query(\"variable == 'dir_3m_c'\")\n",
    "src = src[np.abs(src.value - 249) < 2]\n",
    "src"
   ]
  },
  {
   "cell_type": "code",
   "execution_count": null,
   "metadata": {},
   "outputs": [],
   "source": [
    "div_src = pivot_df[pivot_df.columns[-7:]]\n",
    "div_src['face1_projected_adv_flux'] = face1_projected_adv_flux\n",
    "div_src['face2_projected_adv_flux'] = face2_projected_adv_flux\n",
    "div_src['face3_projected_adv_flux'] = face3_projected_adv_flux\n",
    "div_src.loc[src.time]"
   ]
  },
  {
   "cell_type": "markdown",
   "metadata": {},
   "source": [
    "# Calculate 3D divergence of wind field\n",
    "\n",
    "Tower location data retrieved from the NCAR SOS official data report"
   ]
  },
  {
   "cell_type": "code",
   "execution_count": null,
   "metadata": {},
   "outputs": [],
   "source": [
    "import geopandas as gpd\n",
    "from io import StringIO\n",
    "from shapely import Point\n",
    "\n",
    "tower_loc_df = pd.read_csv(StringIO(\"\"\"name Latitude Longitude Altitude\n",
    "c 38.941799 -106.973062 2860.30\n",
    "d 38.941661 -106.972925 2859.15\n",
    "uw 38.941712 -106.973288 2859.60\n",
    "ue 38.941962 -106.973052 2861.13\n",
    "\"\"\"), delim_whitespace=True)\n",
    "tower_loc_df = gpd.GeoDataFrame(tower_loc_df)\n",
    "tower_loc_df.geometry = gpd.points_from_xy(tower_loc_df['Longitude'], tower_loc_df['Latitude'], tower_loc_df['Altitude'])\n",
    "tower_loc_df = tower_loc_df.set_crs('EPSG:4326')\n",
    "tower_loc_df = tower_loc_df.to_crs(tower_loc_df.estimate_utm_crs())\n",
    "tower_loc_df = tower_loc_df.set_index('name')\n",
    "tower_loc_df['3m location'] = tower_loc_df.geometry.apply(lambda pt: Point(pt.x, pt.y, pt.z+3))\n",
    "tower_loc_df['10m location'] = tower_loc_df.geometry.apply(lambda pt: Point(pt.x, pt.y, pt.z+10))\n",
    "tower_loc_df[['3m location', '10m location']]"
   ]
  },
  {
   "cell_type": "code",
   "execution_count": null,
   "metadata": {},
   "outputs": [],
   "source": [
    "tower_loc_df['3m x'] = tower_loc_df['3m location'].x\n",
    "tower_loc_df['3m y'] = tower_loc_df['3m location'].y\n",
    "tower_loc_df['3m z'] = tower_loc_df['3m location'].z\n",
    "tower_loc_df['10m x'] = tower_loc_df['10m location'].x\n",
    "tower_loc_df['10m y'] = tower_loc_df['10m location'].y\n",
    "tower_loc_df['10m z'] = tower_loc_df['10m location'].z\n",
    "tower_loc_df[tower_loc_df.columns[-6:]].to_csv(\"~/Downloads/ec_locations.csv\")\n",
    "tower_loc_df[tower_loc_df.columns[-6:]]"
   ]
  },
  {
   "cell_type": "code",
   "execution_count": null,
   "metadata": {},
   "outputs": [],
   "source": [
    "wind_field_df = tidy_df[tidy_df.measurement.isin(['u','v','w']) & tidy_df.height.isin([3,10])]\n",
    "wind_field_df = round(wind_field_df.pivot_table(index='time', columns=['height', 'tower', 'measurement'], values='value'), 4)\n",
    "wind_field_df.to_csv(\"~/Downloads/ec_windfields.csv\")"
   ]
  },
  {
   "cell_type": "markdown",
   "metadata": {},
   "source": [
    "# Interpolate wind field from the measurements"
   ]
  },
  {
   "cell_type": "code",
   "execution_count": null,
   "metadata": {},
   "outputs": [],
   "source": [
    "import numpy as np\n",
    "import matplotlib.pyplot as plt\n",
    "#import matplotlib.mlab as mlab # 2023 use instead:\n",
    "from scipy.interpolate import griddata"
   ]
  },
  {
   "cell_type": "code",
   "execution_count": null,
   "metadata": {},
   "outputs": [],
   "source": [
    "wind_field_df[3]['c'].head()"
   ]
  },
  {
   "cell_type": "code",
   "execution_count": null,
   "metadata": {},
   "outputs": [],
   "source": [
    "src_3_c_vectors = np.array(wind_field_df[3]['c'].values.tolist())\n",
    "src_3_d_vectors = np.array(wind_field_df[3]['d'].values.tolist())\n",
    "src_3_ue_vectors = np.array(wind_field_df[3]['ue'].values.tolist())\n",
    "src_3_uw_vectors = np.array(wind_field_df[3]['uw'].values.tolist())\n",
    "\n",
    "src_10_c_vectors = np.array(wind_field_df[10]['c'].values.tolist())\n",
    "src_10_d_vectors = np.array(wind_field_df[10]['d'].values.tolist())\n",
    "src_10_ue_vectors = np.array(wind_field_df[10]['ue'].values.tolist())\n",
    "src_10_uw_vectors = np.array(wind_field_df[10]['uw'].values.tolist())\n",
    "\n",
    "src_3_c_vectors"
   ]
  },
  {
   "cell_type": "code",
   "execution_count": null,
   "metadata": {},
   "outputs": [],
   "source": [
    "for i in [0,10,20]:\n",
    "    x = tower_loc_df['3m x']\n",
    "    y = tower_loc_df['3m y']\n",
    "    vals = pd.Series([\n",
    "        src_3_c_vectors[i][:2],\n",
    "        src_3_d_vectors[i][:2],\n",
    "        src_3_uw_vectors[i][:2],\n",
    "        src_3_ue_vectors[i][:2],\n",
    "    ], index=['c', 'd','uw','ue'])\n",
    "    u = vals.apply(lambda t: t[0])\n",
    "    v = vals.apply(lambda t: t[1])\n",
    "    x, y, vals\n",
    "\n",
    "    fig, ax = plt.subplots(figsize=(2,2))\n",
    "    ax.quiver(x, y, u, v)\n"
   ]
  },
  {
   "cell_type": "code",
   "execution_count": null,
   "metadata": {},
   "outputs": [],
   "source": [
    "from scipy import interpolate\n",
    "\n",
    "\n",
    "for i in [0,10,20]:\n",
    "    x = tower_loc_df['3m x']\n",
    "    y = tower_loc_df['3m y']\n",
    "    vals = pd.Series([\n",
    "        src_3_c_vectors[i][:2],\n",
    "        src_3_d_vectors[i][:2],\n",
    "        src_3_uw_vectors[i][:2],\n",
    "        src_3_ue_vectors[i][:2],\n",
    "    ], index=['c', 'd','uw','ue'])\n",
    "    u = vals.apply(lambda t: t[0])\n",
    "    v = vals.apply(lambda t: t[1])\n",
    "    \n",
    "    xx = np.linspace(x.min()-10, x.max()+10, 25)\n",
    "    yy = np.linspace(y.min()-10, y.max()+10, 25)\n",
    "    xx, yy = np.meshgrid(xx, yy)\n",
    "    points = np.transpose(np.vstack((x, y)))\n",
    "    u_interp = interpolate.griddata(points, u, (xx, yy), method='linear')\n",
    "    v_interp = interpolate.griddata(points, v, (xx, yy), method='linear')\n",
    "\n",
    "\n",
    "    fig, ax = plt.subplots(figsize=(4,4))\n",
    "    ax.quiver(x, y, u, v, color='red', label='measured')\n",
    "    ax.ticklabel_format(useOffset=False, style='plain')\n",
    "    ax.quiver(xx, yy, u_interp, v_interp, label='interpolated')\n",
    "    ax.ticklabel_format(useOffset=False, style='plain')\n",
    "    ax.legend(loc='upper right')"
   ]
  },
  {
   "cell_type": "code",
   "execution_count": null,
   "metadata": {},
   "outputs": [],
   "source": [
    "np.set_printoptions(suppress=True,precision=10)"
   ]
  },
  {
   "cell_type": "code",
   "execution_count": null,
   "metadata": {},
   "outputs": [],
   "source": [
    "from scipy import interpolate\n",
    "\n",
    "\n",
    "for i in [0]:\n",
    "    # get 3D locations of measurements\n",
    "    x_3m = tower_loc_df['3m x']\n",
    "    y_3m = tower_loc_df['3m y']\n",
    "    z_3m = tower_loc_df['3m z']\n",
    "    x_10m = tower_loc_df['10m x']\n",
    "    y_10m = tower_loc_df['10m y']\n",
    "    z_10m = tower_loc_df['10m z']\n",
    "    points_3m = np.transpose(np.vstack((x_3m, y_3m, z_3m)))\n",
    "    points_10m = np.transpose(np.vstack((x_10m, y_10m, z_10m)))\n",
    "    points = np.concatenate([points_3m, points_10m])\n",
    "    x = points[:,0]\n",
    "    y = points[:,1]\n",
    "    z = points[:,2]\n",
    "    # Interpolate the grid we want\n",
    "    xx = np.linspace(x.min() - 10, x.max() + 10, 25)\n",
    "    yy = np.linspace(y.min() - 10, y.max() + 10, 25)\n",
    "    zz = np.linspace(z.min() - 1 , z.max() + 1, 6)\n",
    "    xx, yy, zz = np.meshgrid(xx, yy, zz)\n",
    "\n",
    "    vals = pd.Series([\n",
    "        src_3_c_vectors[i],\n",
    "        src_3_d_vectors[i],\n",
    "        src_3_uw_vectors[i],\n",
    "        src_3_ue_vectors[i],\n",
    "        src_10_c_vectors[i],\n",
    "        src_10_d_vectors[i],\n",
    "        src_10_uw_vectors[i],\n",
    "        src_10_ue_vectors[i],\n",
    "    ], index=['c', 'd','uw','ue', 'c', 'd','uw','ue'])\n",
    "    u = vals.apply(lambda t: t[0])\n",
    "    v = vals.apply(lambda t: t[1])\n",
    "    w = vals.apply(lambda t: t[2])\n",
    "\n",
    "    u_interp = interpolate.griddata(points, u, (xx, yy, zz), method='linear')\n",
    "    v_interp = interpolate.griddata(points, v, (xx, yy, zz), method='linear')\n",
    "    w_interp = interpolate.griddata(points, w, (xx, yy, zz), method='linear')\n",
    "\n",
    "    ax = plt.figure(figsize=(10,10)).add_subplot(projection='3d')\n",
    "    ax.quiver(x, y, z, u, v, w, color='red', label='measured', pivot='middle')\n",
    "    ax.ticklabel_format(useOffset=False, style='plain')\n",
    "    ax.quiver(xx, yy, zz, u_interp, v_interp, w_interp, label='interpolated', pivot='middle')\n",
    "    ax.ticklabel_format(useOffset=False, style='plain')\n",
    "    ax.legend(loc='upper right')"
   ]
  },
  {
   "cell_type": "code",
   "execution_count": null,
   "metadata": {},
   "outputs": [],
   "source": [
    "def divergence(f,sp):\n",
    "    \"\"\" Computes divergence of vector field \n",
    "    f: array -> vector field components [Fx,Fy,Fz,...]\n",
    "    sp: array -> spacing between points in respecitve directions [spx, spy,spz,...]\n",
    "    \"\"\"\n",
    "    num_dims = len(f)\n",
    "    return np.ufunc.reduce(np.add, [np.gradient(f[i], sp[i], axis=i) for i in range(num_dims)])\n",
    "\n",
    "mean_divergences = []\n",
    "\n",
    "for i in range(0, src_3_c_vectors.shape[0]):\n",
    "    # get 3D locations of measurements\n",
    "    x_3m = tower_loc_df['3m x']\n",
    "    y_3m = tower_loc_df['3m y']\n",
    "    z_3m = tower_loc_df['3m z']\n",
    "    x_10m = tower_loc_df['10m x']\n",
    "    y_10m = tower_loc_df['10m y']\n",
    "    z_10m = tower_loc_df['10m z']\n",
    "    points_3m = np.transpose(np.vstack((x_3m, y_3m, z_3m)))\n",
    "    points_10m = np.transpose(np.vstack((x_10m, y_10m, z_10m)))\n",
    "    points = np.concatenate([points_3m, points_10m])\n",
    "    x = points[:,0]\n",
    "    y = points[:,1]\n",
    "    z = points[:,2]\n",
    "    # Interpolate the grid we want\n",
    "    xx = np.linspace(x.min() - 10, x.max() + 10, 25)\n",
    "    yy = np.linspace(y.min() - 10, y.max() + 10, 25)\n",
    "    zz = np.linspace(z.min() - 1 , z.max() + 1, 6)\n",
    "    xx, yy, zz = np.meshgrid(xx, yy, zz)\n",
    "\n",
    "    vals = pd.Series([\n",
    "        src_3_c_vectors[i],\n",
    "        src_3_d_vectors[i],\n",
    "        src_3_uw_vectors[i],\n",
    "        src_3_ue_vectors[i],\n",
    "        src_10_c_vectors[i],\n",
    "        src_10_d_vectors[i],\n",
    "        src_10_uw_vectors[i],\n",
    "        src_10_ue_vectors[i],\n",
    "    ], index=['c', 'd','uw','ue', 'c', 'd','uw','ue'])\n",
    "    u = vals.apply(lambda t: t[0])\n",
    "    v = vals.apply(lambda t: t[1])\n",
    "    w = vals.apply(lambda t: t[2])\n",
    "\n",
    "    u_interp = interpolate.griddata(points, u, (xx, yy, zz), method='linear')\n",
    "    v_interp = interpolate.griddata(points, v, (xx, yy, zz), method='linear')\n",
    "    w_interp = interpolate.griddata(points, w, (xx, yy, zz), method='linear')\n",
    "\n",
    "    F = np.array([u_interp, v_interp, w_interp])\n",
    "    sp_x = np.diff(x)[0]\n",
    "    sp_y = np.diff(y)[0]\n",
    "    sp_z = np.diff(z)[0]\n",
    "    sp = [sp_x, sp_y, sp_z]\n",
    "    g = divergence(F, sp)\n",
    "    mean_divergences.append(np.nanmean(g))"
   ]
  },
  {
   "cell_type": "code",
   "execution_count": 86,
   "metadata": {},
   "outputs": [
    {
     "ename": "ValueError",
     "evalue": "RGBA sequence should have length 3 or 4",
     "output_type": "error",
     "traceback": [
      "\u001b[0;31m---------------------------------------------------------------------------\u001b[0m",
      "\u001b[0;31mValueError\u001b[0m                                Traceback (most recent call last)",
      "Cell \u001b[0;32mIn[86], line 4\u001b[0m\n\u001b[1;32m      2\u001b[0m ax\u001b[38;5;241m.\u001b[39mquiver(x, y, z, u, v, w, color\u001b[38;5;241m=\u001b[39m\u001b[38;5;124m'\u001b[39m\u001b[38;5;124mred\u001b[39m\u001b[38;5;124m'\u001b[39m, label\u001b[38;5;241m=\u001b[39m\u001b[38;5;124m'\u001b[39m\u001b[38;5;124mmeasured\u001b[39m\u001b[38;5;124m'\u001b[39m, pivot\u001b[38;5;241m=\u001b[39m\u001b[38;5;124m'\u001b[39m\u001b[38;5;124mmiddle\u001b[39m\u001b[38;5;124m'\u001b[39m)\n\u001b[1;32m      3\u001b[0m ax\u001b[38;5;241m.\u001b[39mticklabel_format(useOffset\u001b[38;5;241m=\u001b[39m\u001b[38;5;28;01mFalse\u001b[39;00m, style\u001b[38;5;241m=\u001b[39m\u001b[38;5;124m'\u001b[39m\u001b[38;5;124mplain\u001b[39m\u001b[38;5;124m'\u001b[39m)\n\u001b[0;32m----> 4\u001b[0m \u001b[43max\u001b[49m\u001b[38;5;241;43m.\u001b[39;49m\u001b[43mquiver\u001b[49m\u001b[43m(\u001b[49m\u001b[43mxx\u001b[49m\u001b[43m,\u001b[49m\u001b[43m \u001b[49m\u001b[43myy\u001b[49m\u001b[43m,\u001b[49m\u001b[43m \u001b[49m\u001b[43mzz\u001b[49m\u001b[43m,\u001b[49m\u001b[43m \u001b[49m\u001b[43mu_interp\u001b[49m\u001b[43m,\u001b[49m\u001b[43m \u001b[49m\u001b[43mv_interp\u001b[49m\u001b[43m,\u001b[49m\u001b[43m \u001b[49m\u001b[43mw_interp\u001b[49m\u001b[43m,\u001b[49m\u001b[43m \u001b[49m\u001b[43mlabel\u001b[49m\u001b[38;5;241;43m=\u001b[39;49m\u001b[38;5;124;43m'\u001b[39;49m\u001b[38;5;124;43minterpolated\u001b[39;49m\u001b[38;5;124;43m'\u001b[39;49m\u001b[43m,\u001b[49m\u001b[43m \u001b[49m\u001b[43mpivot\u001b[49m\u001b[38;5;241;43m=\u001b[39;49m\u001b[38;5;124;43m'\u001b[39;49m\u001b[38;5;124;43mmiddle\u001b[39;49m\u001b[38;5;124;43m'\u001b[39;49m\u001b[43m,\u001b[49m\u001b[43m \u001b[49m\u001b[43mcolor\u001b[49m\u001b[38;5;241;43m=\u001b[39;49m\u001b[43mg\u001b[49m\u001b[43m)\u001b[49m\n\u001b[1;32m      5\u001b[0m ax\u001b[38;5;241m.\u001b[39mticklabel_format(useOffset\u001b[38;5;241m=\u001b[39m\u001b[38;5;28;01mFalse\u001b[39;00m, style\u001b[38;5;241m=\u001b[39m\u001b[38;5;124m'\u001b[39m\u001b[38;5;124mplain\u001b[39m\u001b[38;5;124m'\u001b[39m)\n\u001b[1;32m      6\u001b[0m ax\u001b[38;5;241m.\u001b[39mlegend(loc\u001b[38;5;241m=\u001b[39m\u001b[38;5;124m'\u001b[39m\u001b[38;5;124mupper right\u001b[39m\u001b[38;5;124m'\u001b[39m)\n",
      "File \u001b[0;32m~/miniforge3/envs/sublimationofsnow/lib/python3.12/site-packages/matplotlib/__init__.py:1465\u001b[0m, in \u001b[0;36m_preprocess_data.<locals>.inner\u001b[0;34m(ax, data, *args, **kwargs)\u001b[0m\n\u001b[1;32m   1462\u001b[0m \u001b[38;5;129m@functools\u001b[39m\u001b[38;5;241m.\u001b[39mwraps(func)\n\u001b[1;32m   1463\u001b[0m \u001b[38;5;28;01mdef\u001b[39;00m \u001b[38;5;21minner\u001b[39m(ax, \u001b[38;5;241m*\u001b[39margs, data\u001b[38;5;241m=\u001b[39m\u001b[38;5;28;01mNone\u001b[39;00m, \u001b[38;5;241m*\u001b[39m\u001b[38;5;241m*\u001b[39mkwargs):\n\u001b[1;32m   1464\u001b[0m     \u001b[38;5;28;01mif\u001b[39;00m data \u001b[38;5;129;01mis\u001b[39;00m \u001b[38;5;28;01mNone\u001b[39;00m:\n\u001b[0;32m-> 1465\u001b[0m         \u001b[38;5;28;01mreturn\u001b[39;00m \u001b[43mfunc\u001b[49m\u001b[43m(\u001b[49m\u001b[43max\u001b[49m\u001b[43m,\u001b[49m\u001b[43m \u001b[49m\u001b[38;5;241;43m*\u001b[39;49m\u001b[38;5;28;43mmap\u001b[39;49m\u001b[43m(\u001b[49m\u001b[43msanitize_sequence\u001b[49m\u001b[43m,\u001b[49m\u001b[43m \u001b[49m\u001b[43margs\u001b[49m\u001b[43m)\u001b[49m\u001b[43m,\u001b[49m\u001b[43m \u001b[49m\u001b[38;5;241;43m*\u001b[39;49m\u001b[38;5;241;43m*\u001b[39;49m\u001b[43mkwargs\u001b[49m\u001b[43m)\u001b[49m\n\u001b[1;32m   1467\u001b[0m     bound \u001b[38;5;241m=\u001b[39m new_sig\u001b[38;5;241m.\u001b[39mbind(ax, \u001b[38;5;241m*\u001b[39margs, \u001b[38;5;241m*\u001b[39m\u001b[38;5;241m*\u001b[39mkwargs)\n\u001b[1;32m   1468\u001b[0m     auto_label \u001b[38;5;241m=\u001b[39m (bound\u001b[38;5;241m.\u001b[39marguments\u001b[38;5;241m.\u001b[39mget(label_namer)\n\u001b[1;32m   1469\u001b[0m                   \u001b[38;5;129;01mor\u001b[39;00m bound\u001b[38;5;241m.\u001b[39mkwargs\u001b[38;5;241m.\u001b[39mget(label_namer))\n",
      "File \u001b[0;32m~/miniforge3/envs/sublimationofsnow/lib/python3.12/site-packages/mpl_toolkits/mplot3d/axes3d.py:2756\u001b[0m, in \u001b[0;36mAxes3D.quiver\u001b[0;34m(self, X, Y, Z, U, V, W, length, arrow_length_ratio, pivot, normalize, **kwargs)\u001b[0m\n\u001b[1;32m   2753\u001b[0m \u001b[38;5;28;01melse\u001b[39;00m:\n\u001b[1;32m   2754\u001b[0m     lines \u001b[38;5;241m=\u001b[39m []\n\u001b[0;32m-> 2756\u001b[0m linec \u001b[38;5;241m=\u001b[39m \u001b[43mart3d\u001b[49m\u001b[38;5;241;43m.\u001b[39;49m\u001b[43mLine3DCollection\u001b[49m\u001b[43m(\u001b[49m\u001b[43mlines\u001b[49m\u001b[43m,\u001b[49m\u001b[43m \u001b[49m\u001b[38;5;241;43m*\u001b[39;49m\u001b[38;5;241;43m*\u001b[39;49m\u001b[43mkwargs\u001b[49m\u001b[43m)\u001b[49m\n\u001b[1;32m   2757\u001b[0m \u001b[38;5;28mself\u001b[39m\u001b[38;5;241m.\u001b[39madd_collection(linec)\n\u001b[1;32m   2759\u001b[0m \u001b[38;5;28mself\u001b[39m\u001b[38;5;241m.\u001b[39mauto_scale_xyz(XYZ[:, \u001b[38;5;241m0\u001b[39m], XYZ[:, \u001b[38;5;241m1\u001b[39m], XYZ[:, \u001b[38;5;241m2\u001b[39m], had_data)\n",
      "File \u001b[0;32m~/miniforge3/envs/sublimationofsnow/lib/python3.12/site-packages/matplotlib/collections.py:1438\u001b[0m, in \u001b[0;36mLineCollection.__init__\u001b[0;34m(self, segments, zorder, **kwargs)\u001b[0m\n\u001b[1;32m   1436\u001b[0m \u001b[38;5;66;03m# Unfortunately, mplot3d needs this explicit setting of 'facecolors'.\u001b[39;00m\n\u001b[1;32m   1437\u001b[0m kwargs\u001b[38;5;241m.\u001b[39msetdefault(\u001b[38;5;124m'\u001b[39m\u001b[38;5;124mfacecolors\u001b[39m\u001b[38;5;124m'\u001b[39m, \u001b[38;5;124m'\u001b[39m\u001b[38;5;124mnone\u001b[39m\u001b[38;5;124m'\u001b[39m)\n\u001b[0;32m-> 1438\u001b[0m \u001b[38;5;28;43msuper\u001b[39;49m\u001b[43m(\u001b[49m\u001b[43m)\u001b[49m\u001b[38;5;241;43m.\u001b[39;49m\u001b[38;5;21;43m__init__\u001b[39;49m\u001b[43m(\u001b[49m\n\u001b[1;32m   1439\u001b[0m \u001b[43m    \u001b[49m\u001b[43mzorder\u001b[49m\u001b[38;5;241;43m=\u001b[39;49m\u001b[43mzorder\u001b[49m\u001b[43m,\u001b[49m\n\u001b[1;32m   1440\u001b[0m \u001b[43m    \u001b[49m\u001b[38;5;241;43m*\u001b[39;49m\u001b[38;5;241;43m*\u001b[39;49m\u001b[43mkwargs\u001b[49m\u001b[43m)\u001b[49m\n\u001b[1;32m   1441\u001b[0m \u001b[38;5;28mself\u001b[39m\u001b[38;5;241m.\u001b[39mset_segments(segments)\n",
      "File \u001b[0;32m~/miniforge3/envs/sublimationofsnow/lib/python3.12/site-packages/matplotlib/collections.py:203\u001b[0m, in \u001b[0;36mCollection.__init__\u001b[0;34m(self, edgecolors, facecolors, linewidths, linestyles, capstyle, joinstyle, antialiaseds, offsets, offset_transform, norm, cmap, pickradius, hatch, urls, zorder, **kwargs)\u001b[0m\n\u001b[1;32m    200\u001b[0m \u001b[38;5;28mself\u001b[39m\u001b[38;5;241m.\u001b[39m_offset_transform \u001b[38;5;241m=\u001b[39m offset_transform\n\u001b[1;32m    202\u001b[0m \u001b[38;5;28mself\u001b[39m\u001b[38;5;241m.\u001b[39m_path_effects \u001b[38;5;241m=\u001b[39m \u001b[38;5;28;01mNone\u001b[39;00m\n\u001b[0;32m--> 203\u001b[0m \u001b[38;5;28;43mself\u001b[39;49m\u001b[38;5;241;43m.\u001b[39;49m\u001b[43m_internal_update\u001b[49m\u001b[43m(\u001b[49m\u001b[43mkwargs\u001b[49m\u001b[43m)\u001b[49m\n\u001b[1;32m    204\u001b[0m \u001b[38;5;28mself\u001b[39m\u001b[38;5;241m.\u001b[39m_paths \u001b[38;5;241m=\u001b[39m \u001b[38;5;28;01mNone\u001b[39;00m\n",
      "File \u001b[0;32m~/miniforge3/envs/sublimationofsnow/lib/python3.12/site-packages/matplotlib/artist.py:1219\u001b[0m, in \u001b[0;36mArtist._internal_update\u001b[0;34m(self, kwargs)\u001b[0m\n\u001b[1;32m   1212\u001b[0m \u001b[38;5;28;01mdef\u001b[39;00m \u001b[38;5;21m_internal_update\u001b[39m(\u001b[38;5;28mself\u001b[39m, kwargs):\n\u001b[1;32m   1213\u001b[0m \u001b[38;5;250m    \u001b[39m\u001b[38;5;124;03m\"\"\"\u001b[39;00m\n\u001b[1;32m   1214\u001b[0m \u001b[38;5;124;03m    Update artist properties without prenormalizing them, but generating\u001b[39;00m\n\u001b[1;32m   1215\u001b[0m \u001b[38;5;124;03m    errors as if calling `set`.\u001b[39;00m\n\u001b[1;32m   1216\u001b[0m \n\u001b[1;32m   1217\u001b[0m \u001b[38;5;124;03m    The lack of prenormalization is to maintain backcompatibility.\u001b[39;00m\n\u001b[1;32m   1218\u001b[0m \u001b[38;5;124;03m    \"\"\"\u001b[39;00m\n\u001b[0;32m-> 1219\u001b[0m     \u001b[38;5;28;01mreturn\u001b[39;00m \u001b[38;5;28;43mself\u001b[39;49m\u001b[38;5;241;43m.\u001b[39;49m\u001b[43m_update_props\u001b[49m\u001b[43m(\u001b[49m\n\u001b[1;32m   1220\u001b[0m \u001b[43m        \u001b[49m\u001b[43mkwargs\u001b[49m\u001b[43m,\u001b[49m\u001b[43m \u001b[49m\u001b[38;5;124;43m\"\u001b[39;49m\u001b[38;5;132;43;01m{cls.__name__}\u001b[39;49;00m\u001b[38;5;124;43m.set() got an unexpected keyword argument \u001b[39;49m\u001b[38;5;124;43m\"\u001b[39;49m\n\u001b[1;32m   1221\u001b[0m \u001b[43m        \u001b[49m\u001b[38;5;124;43m\"\u001b[39;49m\u001b[38;5;132;43;01m{prop_name!r}\u001b[39;49;00m\u001b[38;5;124;43m\"\u001b[39;49m\u001b[43m)\u001b[49m\n",
      "File \u001b[0;32m~/miniforge3/envs/sublimationofsnow/lib/python3.12/site-packages/matplotlib/artist.py:1195\u001b[0m, in \u001b[0;36mArtist._update_props\u001b[0;34m(self, props, errfmt)\u001b[0m\n\u001b[1;32m   1192\u001b[0m             \u001b[38;5;28;01mif\u001b[39;00m \u001b[38;5;129;01mnot\u001b[39;00m \u001b[38;5;28mcallable\u001b[39m(func):\n\u001b[1;32m   1193\u001b[0m                 \u001b[38;5;28;01mraise\u001b[39;00m \u001b[38;5;167;01mAttributeError\u001b[39;00m(\n\u001b[1;32m   1194\u001b[0m                     errfmt\u001b[38;5;241m.\u001b[39mformat(\u001b[38;5;28mcls\u001b[39m\u001b[38;5;241m=\u001b[39m\u001b[38;5;28mtype\u001b[39m(\u001b[38;5;28mself\u001b[39m), prop_name\u001b[38;5;241m=\u001b[39mk))\n\u001b[0;32m-> 1195\u001b[0m             ret\u001b[38;5;241m.\u001b[39mappend(\u001b[43mfunc\u001b[49m\u001b[43m(\u001b[49m\u001b[43mv\u001b[49m\u001b[43m)\u001b[49m)\n\u001b[1;32m   1196\u001b[0m \u001b[38;5;28;01mif\u001b[39;00m ret:\n\u001b[1;32m   1197\u001b[0m     \u001b[38;5;28mself\u001b[39m\u001b[38;5;241m.\u001b[39mpchanged()\n",
      "File \u001b[0;32m~/miniforge3/envs/sublimationofsnow/lib/python3.12/site-packages/matplotlib/collections.py:1508\u001b[0m, in \u001b[0;36mLineCollection.set_color\u001b[0;34m(self, c)\u001b[0m\n\u001b[1;32m   1497\u001b[0m \u001b[38;5;28;01mdef\u001b[39;00m \u001b[38;5;21mset_color\u001b[39m(\u001b[38;5;28mself\u001b[39m, c):\n\u001b[1;32m   1498\u001b[0m \u001b[38;5;250m    \u001b[39m\u001b[38;5;124;03m\"\"\"\u001b[39;00m\n\u001b[1;32m   1499\u001b[0m \u001b[38;5;124;03m    Set the edgecolor(s) of the LineCollection.\u001b[39;00m\n\u001b[1;32m   1500\u001b[0m \n\u001b[0;32m   (...)\u001b[0m\n\u001b[1;32m   1506\u001b[0m \u001b[38;5;124;03m        cycle through the sequence.\u001b[39;00m\n\u001b[1;32m   1507\u001b[0m \u001b[38;5;124;03m    \"\"\"\u001b[39;00m\n\u001b[0;32m-> 1508\u001b[0m     \u001b[38;5;28;43mself\u001b[39;49m\u001b[38;5;241;43m.\u001b[39;49m\u001b[43mset_edgecolor\u001b[49m\u001b[43m(\u001b[49m\u001b[43mc\u001b[49m\u001b[43m)\u001b[49m\n",
      "File \u001b[0;32m~/miniforge3/envs/sublimationofsnow/lib/python3.12/site-packages/matplotlib/collections.py:834\u001b[0m, in \u001b[0;36mCollection.set_edgecolor\u001b[0;34m(self, c)\u001b[0m\n\u001b[1;32m    832\u001b[0m     c \u001b[38;5;241m=\u001b[39m c\u001b[38;5;241m.\u001b[39mlower()\n\u001b[1;32m    833\u001b[0m \u001b[38;5;28mself\u001b[39m\u001b[38;5;241m.\u001b[39m_original_edgecolor \u001b[38;5;241m=\u001b[39m c\n\u001b[0;32m--> 834\u001b[0m \u001b[38;5;28;43mself\u001b[39;49m\u001b[38;5;241;43m.\u001b[39;49m\u001b[43m_set_edgecolor\u001b[49m\u001b[43m(\u001b[49m\u001b[43mc\u001b[49m\u001b[43m)\u001b[49m\n",
      "File \u001b[0;32m~/miniforge3/envs/sublimationofsnow/lib/python3.12/site-packages/matplotlib/collections.py:813\u001b[0m, in \u001b[0;36mCollection._set_edgecolor\u001b[0;34m(self, c)\u001b[0m\n\u001b[1;32m    811\u001b[0m     \u001b[38;5;28mself\u001b[39m\u001b[38;5;241m.\u001b[39mstale \u001b[38;5;241m=\u001b[39m \u001b[38;5;28;01mTrue\u001b[39;00m\n\u001b[1;32m    812\u001b[0m     \u001b[38;5;28;01mreturn\u001b[39;00m\n\u001b[0;32m--> 813\u001b[0m \u001b[38;5;28mself\u001b[39m\u001b[38;5;241m.\u001b[39m_edgecolors \u001b[38;5;241m=\u001b[39m \u001b[43mmcolors\u001b[49m\u001b[38;5;241;43m.\u001b[39;49m\u001b[43mto_rgba_array\u001b[49m\u001b[43m(\u001b[49m\u001b[43mc\u001b[49m\u001b[43m,\u001b[49m\u001b[43m \u001b[49m\u001b[38;5;28;43mself\u001b[39;49m\u001b[38;5;241;43m.\u001b[39;49m\u001b[43m_alpha\u001b[49m\u001b[43m)\u001b[49m\n\u001b[1;32m    814\u001b[0m \u001b[38;5;28;01mif\u001b[39;00m set_hatch_color \u001b[38;5;129;01mand\u001b[39;00m \u001b[38;5;28mlen\u001b[39m(\u001b[38;5;28mself\u001b[39m\u001b[38;5;241m.\u001b[39m_edgecolors):\n\u001b[1;32m    815\u001b[0m     \u001b[38;5;28mself\u001b[39m\u001b[38;5;241m.\u001b[39m_hatch_color \u001b[38;5;241m=\u001b[39m \u001b[38;5;28mtuple\u001b[39m(\u001b[38;5;28mself\u001b[39m\u001b[38;5;241m.\u001b[39m_edgecolors[\u001b[38;5;241m0\u001b[39m])\n",
      "File \u001b[0;32m~/miniforge3/envs/sublimationofsnow/lib/python3.12/site-packages/matplotlib/colors.py:505\u001b[0m, in \u001b[0;36mto_rgba_array\u001b[0;34m(c, alpha)\u001b[0m\n\u001b[1;32m    503\u001b[0m         rgba \u001b[38;5;241m=\u001b[39m np\u001b[38;5;241m.\u001b[39marray([to_rgba(cc) \u001b[38;5;28;01mfor\u001b[39;00m cc \u001b[38;5;129;01min\u001b[39;00m c])\n\u001b[1;32m    504\u001b[0m \u001b[38;5;28;01melse\u001b[39;00m:\n\u001b[0;32m--> 505\u001b[0m     rgba \u001b[38;5;241m=\u001b[39m np\u001b[38;5;241m.\u001b[39marray([\u001b[43mto_rgba\u001b[49m\u001b[43m(\u001b[49m\u001b[43mcc\u001b[49m\u001b[43m)\u001b[49m \u001b[38;5;28;01mfor\u001b[39;00m cc \u001b[38;5;129;01min\u001b[39;00m c])\n\u001b[1;32m    507\u001b[0m \u001b[38;5;28;01mif\u001b[39;00m alpha \u001b[38;5;129;01mis\u001b[39;00m \u001b[38;5;129;01mnot\u001b[39;00m \u001b[38;5;28;01mNone\u001b[39;00m:\n\u001b[1;32m    508\u001b[0m     rgba[:, \u001b[38;5;241m3\u001b[39m] \u001b[38;5;241m=\u001b[39m alpha\n",
      "File \u001b[0;32m~/miniforge3/envs/sublimationofsnow/lib/python3.12/site-packages/matplotlib/colors.py:302\u001b[0m, in \u001b[0;36mto_rgba\u001b[0;34m(c, alpha)\u001b[0m\n\u001b[1;32m    300\u001b[0m     rgba \u001b[38;5;241m=\u001b[39m \u001b[38;5;28;01mNone\u001b[39;00m\n\u001b[1;32m    301\u001b[0m \u001b[38;5;28;01mif\u001b[39;00m rgba \u001b[38;5;129;01mis\u001b[39;00m \u001b[38;5;28;01mNone\u001b[39;00m:  \u001b[38;5;66;03m# Suppress exception chaining of cache lookup failure.\u001b[39;00m\n\u001b[0;32m--> 302\u001b[0m     rgba \u001b[38;5;241m=\u001b[39m \u001b[43m_to_rgba_no_colorcycle\u001b[49m\u001b[43m(\u001b[49m\u001b[43mc\u001b[49m\u001b[43m,\u001b[49m\u001b[43m \u001b[49m\u001b[43malpha\u001b[49m\u001b[43m)\u001b[49m\n\u001b[1;32m    303\u001b[0m     \u001b[38;5;28;01mtry\u001b[39;00m:\n\u001b[1;32m    304\u001b[0m         _colors_full_map\u001b[38;5;241m.\u001b[39mcache[c, alpha] \u001b[38;5;241m=\u001b[39m rgba\n",
      "File \u001b[0;32m~/miniforge3/envs/sublimationofsnow/lib/python3.12/site-packages/matplotlib/colors.py:393\u001b[0m, in \u001b[0;36m_to_rgba_no_colorcycle\u001b[0;34m(c, alpha)\u001b[0m\n\u001b[1;32m    391\u001b[0m     \u001b[38;5;28;01mraise\u001b[39;00m \u001b[38;5;167;01mValueError\u001b[39;00m(\u001b[38;5;124mf\u001b[39m\u001b[38;5;124m\"\u001b[39m\u001b[38;5;124mInvalid RGBA argument: \u001b[39m\u001b[38;5;132;01m{\u001b[39;00morig_c\u001b[38;5;132;01m!r}\u001b[39;00m\u001b[38;5;124m\"\u001b[39m)\n\u001b[1;32m    392\u001b[0m \u001b[38;5;28;01mif\u001b[39;00m \u001b[38;5;28mlen\u001b[39m(c) \u001b[38;5;129;01mnot\u001b[39;00m \u001b[38;5;129;01min\u001b[39;00m [\u001b[38;5;241m3\u001b[39m, \u001b[38;5;241m4\u001b[39m]:\n\u001b[0;32m--> 393\u001b[0m     \u001b[38;5;28;01mraise\u001b[39;00m \u001b[38;5;167;01mValueError\u001b[39;00m(\u001b[38;5;124m\"\u001b[39m\u001b[38;5;124mRGBA sequence should have length 3 or 4\u001b[39m\u001b[38;5;124m\"\u001b[39m)\n\u001b[1;32m    394\u001b[0m \u001b[38;5;28;01mif\u001b[39;00m \u001b[38;5;129;01mnot\u001b[39;00m \u001b[38;5;28mall\u001b[39m(\u001b[38;5;28misinstance\u001b[39m(x, Real) \u001b[38;5;28;01mfor\u001b[39;00m x \u001b[38;5;129;01min\u001b[39;00m c):\n\u001b[1;32m    395\u001b[0m     \u001b[38;5;66;03m# Checks that don't work: `map(float, ...)`, `np.array(..., float)` and\u001b[39;00m\n\u001b[1;32m    396\u001b[0m     \u001b[38;5;66;03m# `np.array(...).astype(float)` would all convert \"0.5\" to 0.5.\u001b[39;00m\n\u001b[1;32m    397\u001b[0m     \u001b[38;5;28;01mraise\u001b[39;00m \u001b[38;5;167;01mValueError\u001b[39;00m(\u001b[38;5;124mf\u001b[39m\u001b[38;5;124m\"\u001b[39m\u001b[38;5;124mInvalid RGBA argument: \u001b[39m\u001b[38;5;132;01m{\u001b[39;00morig_c\u001b[38;5;132;01m!r}\u001b[39;00m\u001b[38;5;124m\"\u001b[39m)\n",
      "\u001b[0;31mValueError\u001b[0m: RGBA sequence should have length 3 or 4"
     ]
    },
    {
     "data": {
      "image/png": "[encoded data removed]",
      "text/plain": [
       "<Figure size 1000x1000 with 1 Axes>"
      ]
     },
     "metadata": {},
     "output_type": "display_data"
    }
   ],
   "source": [
    "ax = plt.figure(figsize=(10,10)).add_subplot(projection='3d')\n",
    "ax.quiver(x, y, z, u, v, w, color='red', label='measured', pivot='middle')\n",
    "ax.ticklabel_format(useOffset=False, style='plain')\n",
    "ax.quiver(xx, yy, zz, u_interp, v_interp, w_interp, label='interpolated', pivot='middle', color=g)\n",
    "ax.ticklabel_format(useOffset=False, style='plain')\n",
    "ax.legend(loc='upper right')"
   ]
  },
  {
   "cell_type": "code",
   "execution_count": null,
   "metadata": {},
   "outputs": [],
   "source": [
    "mean_divergences_df = pd.DataFrame({'mean_divergence': mean_divergences}, index=wind_field_df.index)\n",
    "pivot_df = pivot_df.join(mean_divergences_df)"
   ]
  },
  {
   "cell_type": "code",
   "execution_count": 99,
   "metadata": {},
   "outputs": [
    {
     "ename": "SyntaxError",
     "evalue": "invalid decimal literal (3434700168.py, line 1)",
     "output_type": "error",
     "traceback": [
      "\u001b[0;36m  Cell \u001b[0;32mIn[99], line 1\u001b[0;36m\u001b[0m\n\u001b[0;31m    U+20D0 -\u001b[0m\n\u001b[0m       ^\u001b[0m\n\u001b[0;31mSyntaxError\u001b[0m\u001b[0;31m:\u001b[0m invalid decimal literal\n"
     ]
    }
   ],
   "source": []
  },
  {
   "cell_type": "code",
   "execution_count": 100,
   "metadata": {},
   "outputs": [
    {
     "data": {
      "text/plain": [
       "Text(0, 0.5, '∇•u (s⁻¹)')"
      ]
     },
     "execution_count": 100,
     "metadata": {},
     "output_type": "execute_result"
    },
    {
     "data": {
      "image/png": "[encoded data removed]",
      "text/plain": [
       "<Figure size 640x480 with 1 Axes>"
      ]
     },
     "metadata": {},
     "output_type": "display_data"
    }
   ],
   "source": [
    "pivot_df['mean_divergence'].loc['20221201' : '20221231'].plot()\n",
    "plt.ylabel(\"∇•u (s⁻¹)\")"
   ]
  }
 ],
 "metadata": {
  "kernelspec": {
   "display_name": "arm",
   "language": "python",
   "name": "python3"
  },
  "language_info": {
   "codemirror_mode": {
    "name": "ipython",
    "version": 3
   },
   "file_extension": ".py",
   "mimetype": "text/x-python",
   "name": "python",
   "nbconvert_exporter": "python",
   "pygments_lexer": "ipython3",
   "version": "3.12.1"
  }
 },
 "nbformat": 4,
 "nbformat_minor": 2
}
