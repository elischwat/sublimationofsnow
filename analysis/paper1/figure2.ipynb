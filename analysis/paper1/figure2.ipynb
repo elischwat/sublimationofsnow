{
 "cells": [
  {
   "cell_type": "code",
   "execution_count": 75,
   "metadata": {},
   "outputs": [],
   "source": [
    "import pandas as pd\n",
    "import numpy as np\n",
    "import altair as alt\n",
    "alt.data_transformers.enable('json')\n",
    "import datetime as dt"
   ]
  },
  {
   "cell_type": "markdown",
   "metadata": {},
   "source": [
    "# Open SOS Measurement Dataset"
   ]
  },
  {
   "cell_type": "code",
   "execution_count": 76,
   "metadata": {},
   "outputs": [],
   "source": [
    "start_date = '20221130'\n",
    "end_date = '20230509'\n",
    "# open files\n",
    "tidy_df_5Min = pd.read_parquet(f'tidy_df_{start_date}_{end_date}_noplanar_fit_clean.parquet')\n",
    "tidy_df_30Min = pd.read_parquet(f'tidy_df_30min_{start_date}_{end_date}_noplanar_fit_clean.parquet')\n",
    "# convert time column to datetime\n",
    "tidy_df_5Min['time'] = pd.to_datetime(tidy_df_5Min['time'])\n",
    "tidy_df_30Min['time'] = pd.to_datetime(tidy_df_30Min['time'])\n",
    "# limit data to our dates of interest, based on continuous snow cover at Kettle Ponds\n",
    "tidy_df_5Min = tidy_df_5Min.set_index('time').sort_index().loc[start_date:end_date].reset_index()\n",
    "tidy_df_30Min = tidy_df_30Min.set_index('time').sort_index().loc[start_date:end_date].reset_index()"
   ]
  },
  {
   "cell_type": "code",
   "execution_count": 77,
   "metadata": {},
   "outputs": [],
   "source": [
    "# quick way to get variable info if we want it \n",
    "# import xarray as xr\n",
    "# ds = xr.open_dataset(\"/storage/elilouis/sublimationofsnow/sosnoqc/isfs_20221228.nc\")\n",
    "# ds['SWE_p2_c']"
   ]
  },
  {
   "cell_type": "markdown",
   "metadata": {},
   "source": [
    "# Make plot showing daily sublimation by clear/blowing snow "
   ]
  },
  {
   "cell_type": "markdown",
   "metadata": {},
   "source": [
    "## Calculate daily sublimation"
   ]
  },
  {
   "cell_type": "code",
   "execution_count": 78,
   "metadata": {},
   "outputs": [],
   "source": [
    "import metpy.constants\n",
    "seconds_per_5min = 60*5"
   ]
  },
  {
   "cell_type": "code",
   "execution_count": 79,
   "metadata": {},
   "outputs": [
    {
     "data": {
      "text/html": [
       "<div>\n",
       "<style scoped>\n",
       "    .dataframe tbody tr th:only-of-type {\n",
       "        vertical-align: middle;\n",
       "    }\n",
       "\n",
       "    .dataframe tbody tr th {\n",
       "        vertical-align: top;\n",
       "    }\n",
       "\n",
       "    .dataframe thead th {\n",
       "        text-align: right;\n",
       "    }\n",
       "</style>\n",
       "<table border=\"1\" class=\"dataframe\">\n",
       "  <thead>\n",
       "    <tr style=\"text-align: right;\">\n",
       "      <th>variable</th>\n",
       "      <th>time</th>\n",
       "      <th>blowing snow</th>\n",
       "      <th>SF_avg_1m_ue</th>\n",
       "      <th>SF_avg_2m_ue</th>\n",
       "      <th>w_h2o__3m_c</th>\n",
       "      <th>SF_avg_max_ue</th>\n",
       "      <th>Sublimation (mm)</th>\n",
       "    </tr>\n",
       "  </thead>\n",
       "  <tbody>\n",
       "    <tr>\n",
       "      <th>0</th>\n",
       "      <td>2022-11-30</td>\n",
       "      <td>False</td>\n",
       "      <td>0.00</td>\n",
       "      <td>0.00</td>\n",
       "      <td>-0.173214</td>\n",
       "      <td>0.00</td>\n",
       "      <td>-0.051965</td>\n",
       "    </tr>\n",
       "    <tr>\n",
       "      <th>1</th>\n",
       "      <td>2022-12-01</td>\n",
       "      <td>False</td>\n",
       "      <td>0.00</td>\n",
       "      <td>0.00</td>\n",
       "      <td>0.573706</td>\n",
       "      <td>0.00</td>\n",
       "      <td>0.172116</td>\n",
       "    </tr>\n",
       "    <tr>\n",
       "      <th>2</th>\n",
       "      <td>2022-12-02</td>\n",
       "      <td>False</td>\n",
       "      <td>0.00</td>\n",
       "      <td>0.00</td>\n",
       "      <td>0.350991</td>\n",
       "      <td>0.00</td>\n",
       "      <td>0.105300</td>\n",
       "    </tr>\n",
       "    <tr>\n",
       "      <th>3</th>\n",
       "      <td>2022-12-02</td>\n",
       "      <td>True</td>\n",
       "      <td>17.70</td>\n",
       "      <td>23.98</td>\n",
       "      <td>1.006539</td>\n",
       "      <td>28.09</td>\n",
       "      <td>0.301969</td>\n",
       "    </tr>\n",
       "    <tr>\n",
       "      <th>4</th>\n",
       "      <td>2022-12-03</td>\n",
       "      <td>False</td>\n",
       "      <td>0.00</td>\n",
       "      <td>0.00</td>\n",
       "      <td>-0.070897</td>\n",
       "      <td>0.00</td>\n",
       "      <td>-0.021270</td>\n",
       "    </tr>\n",
       "    <tr>\n",
       "      <th>...</th>\n",
       "      <td>...</td>\n",
       "      <td>...</td>\n",
       "      <td>...</td>\n",
       "      <td>...</td>\n",
       "      <td>...</td>\n",
       "      <td>...</td>\n",
       "      <td>...</td>\n",
       "    </tr>\n",
       "    <tr>\n",
       "      <th>260</th>\n",
       "      <td>2023-05-06</td>\n",
       "      <td>False</td>\n",
       "      <td>0.00</td>\n",
       "      <td>0.00</td>\n",
       "      <td>1.898066</td>\n",
       "      <td>0.00</td>\n",
       "      <td>0.569434</td>\n",
       "    </tr>\n",
       "    <tr>\n",
       "      <th>261</th>\n",
       "      <td>2023-05-06</td>\n",
       "      <td>True</td>\n",
       "      <td>0.38</td>\n",
       "      <td>0.73</td>\n",
       "      <td>-0.006510</td>\n",
       "      <td>0.74</td>\n",
       "      <td>-0.001953</td>\n",
       "    </tr>\n",
       "    <tr>\n",
       "      <th>262</th>\n",
       "      <td>2023-05-07</td>\n",
       "      <td>False</td>\n",
       "      <td>0.00</td>\n",
       "      <td>0.00</td>\n",
       "      <td>0.751659</td>\n",
       "      <td>0.00</td>\n",
       "      <td>0.225503</td>\n",
       "    </tr>\n",
       "    <tr>\n",
       "      <th>263</th>\n",
       "      <td>2023-05-08</td>\n",
       "      <td>False</td>\n",
       "      <td>0.00</td>\n",
       "      <td>0.00</td>\n",
       "      <td>1.158780</td>\n",
       "      <td>0.00</td>\n",
       "      <td>0.347643</td>\n",
       "    </tr>\n",
       "    <tr>\n",
       "      <th>264</th>\n",
       "      <td>2023-05-09</td>\n",
       "      <td>False</td>\n",
       "      <td>0.00</td>\n",
       "      <td>0.00</td>\n",
       "      <td>0.871424</td>\n",
       "      <td>0.00</td>\n",
       "      <td>0.261434</td>\n",
       "    </tr>\n",
       "  </tbody>\n",
       "</table>\n",
       "<p>265 rows × 7 columns</p>\n",
       "</div>"
      ],
      "text/plain": [
       "variable       time  blowing snow  SF_avg_1m_ue  SF_avg_2m_ue  w_h2o__3m_c  \\\n",
       "0        2022-11-30         False          0.00          0.00    -0.173214   \n",
       "1        2022-12-01         False          0.00          0.00     0.573706   \n",
       "2        2022-12-02         False          0.00          0.00     0.350991   \n",
       "3        2022-12-02          True         17.70         23.98     1.006539   \n",
       "4        2022-12-03         False          0.00          0.00    -0.070897   \n",
       "..              ...           ...           ...           ...          ...   \n",
       "260      2023-05-06         False          0.00          0.00     1.898066   \n",
       "261      2023-05-06          True          0.38          0.73    -0.006510   \n",
       "262      2023-05-07         False          0.00          0.00     0.751659   \n",
       "263      2023-05-08         False          0.00          0.00     1.158780   \n",
       "264      2023-05-09         False          0.00          0.00     0.871424   \n",
       "\n",
       "variable  SF_avg_max_ue  Sublimation (mm)  \n",
       "0                  0.00         -0.051965  \n",
       "1                  0.00          0.172116  \n",
       "2                  0.00          0.105300  \n",
       "3                 28.09          0.301969  \n",
       "4                  0.00         -0.021270  \n",
       "..                  ...               ...  \n",
       "260                0.00          0.569434  \n",
       "261                0.74         -0.001953  \n",
       "262                0.00          0.225503  \n",
       "263                0.00          0.347643  \n",
       "264                0.00          0.261434  \n",
       "\n",
       "[265 rows x 7 columns]"
      ]
     },
     "execution_count": 79,
     "metadata": {},
     "output_type": "execute_result"
    }
   ],
   "source": [
    "daily_sub_by_blowingsnow_src = tidy_df_5Min[\n",
    "    tidy_df_5Min.variable.isin(['w_h2o__3m_c', 'SF_avg_1m_ue', 'SF_avg_2m_ue'])\n",
    "].pivot_table(\n",
    "    values = 'value',\n",
    "    index = 'time',\n",
    "    columns = 'variable'\n",
    ")\n",
    "daily_sub_by_blowingsnow_src['SF_avg_max_ue'] = daily_sub_by_blowingsnow_src[['SF_avg_1m_ue', 'SF_avg_2m_ue']].max(axis=1)\n",
    "daily_sub_by_blowingsnow_src['blowing snow'] = daily_sub_by_blowingsnow_src['SF_avg_max_ue'] > 0\n",
    "daily_sub_by_blowingsnow_src['Sublimation (mm)'] = daily_sub_by_blowingsnow_src[\n",
    "    'w_h2o__3m_c'\n",
    "]*seconds_per_5min / metpy.constants.density_water.magnitude# calculate daily sublimation\n",
    "daily_sub_by_blowingsnow_src = daily_sub_by_blowingsnow_src.groupby([pd.Grouper(freq='1440Min'), 'blowing snow']).sum()\n",
    "daily_sub_by_blowingsnow_src = daily_sub_by_blowingsnow_src.reset_index()\n",
    "daily_sub_by_blowingsnow_src"
   ]
  },
  {
   "cell_type": "markdown",
   "metadata": {},
   "source": [
    "## Plot"
   ]
  },
  {
   "cell_type": "code",
   "execution_count": 80,
   "metadata": {},
   "outputs": [],
   "source": [
    "daily_sub_chart = alt.Chart(daily_sub_by_blowingsnow_src).mark_bar(width=2.5).encode(\n",
    "    alt.X(\"time:T\", title=None),\n",
    "    alt.Y(\"Sublimation (mm):Q\").title(\"Daily sublimation (mm)\"), \n",
    "    alt.Color(\"blowing snow:N\").scale(domain=[True, False], range=['#000000', '#C0C0C0']),\n",
    "    tooltip='time:T'\n",
    ").properties(height = 100, width=500)"
   ]
  },
  {
   "cell_type": "code",
   "execution_count": 81,
   "metadata": {},
   "outputs": [
    {
     "data": {
      "text/html": [
       "\n",
       "<style>\n",
       "  #altair-viz-359fd690a4b3468890eeafa47bb035df.vega-embed {\n",
       "    width: 100%;\n",
       "    display: flex;\n",
       "  }\n",
       "\n",
       "  #altair-viz-359fd690a4b3468890eeafa47bb035df.vega-embed details,\n",
       "  #altair-viz-359fd690a4b3468890eeafa47bb035df.vega-embed details summary {\n",
       "    position: relative;\n",
       "  }\n",
       "</style>\n",
       "<div id=\"altair-viz-359fd690a4b3468890eeafa47bb035df\"></div>\n",
       "<script type=\"text/javascript\">\n",
       "  var VEGA_DEBUG = (typeof VEGA_DEBUG == \"undefined\") ? {} : VEGA_DEBUG;\n",
       "  (function(spec, embedOpt){\n",
       "    let outputDiv = document.currentScript.previousElementSibling;\n",
       "    if (outputDiv.id !== \"altair-viz-359fd690a4b3468890eeafa47bb035df\") {\n",
       "      outputDiv = document.getElementById(\"altair-viz-359fd690a4b3468890eeafa47bb035df\");\n",
       "    }\n",
       "    const paths = {\n",
       "      \"vega\": \"https://cdn.jsdelivr.net/npm/vega@5?noext\",\n",
       "      \"vega-lib\": \"https://cdn.jsdelivr.net/npm/vega-lib?noext\",\n",
       "      \"vega-lite\": \"https://cdn.jsdelivr.net/npm/vega-lite@5.16.3?noext\",\n",
       "      \"vega-embed\": \"https://cdn.jsdelivr.net/npm/vega-embed@6?noext\",\n",
       "    };\n",
       "\n",
       "    function maybeLoadScript(lib, version) {\n",
       "      var key = `${lib.replace(\"-\", \"\")}_version`;\n",
       "      return (VEGA_DEBUG[key] == version) ?\n",
       "        Promise.resolve(paths[lib]) :\n",
       "        new Promise(function(resolve, reject) {\n",
       "          var s = document.createElement('script');\n",
       "          document.getElementsByTagName(\"head\")[0].appendChild(s);\n",
       "          s.async = true;\n",
       "          s.onload = () => {\n",
       "            VEGA_DEBUG[key] = version;\n",
       "            return resolve(paths[lib]);\n",
       "          };\n",
       "          s.onerror = () => reject(`Error loading script: ${paths[lib]}`);\n",
       "          s.src = paths[lib];\n",
       "        });\n",
       "    }\n",
       "\n",
       "    function showError(err) {\n",
       "      outputDiv.innerHTML = `<div class=\"error\" style=\"color:red;\">${err}</div>`;\n",
       "      throw err;\n",
       "    }\n",
       "\n",
       "    function displayChart(vegaEmbed) {\n",
       "      vegaEmbed(outputDiv, spec, embedOpt)\n",
       "        .catch(err => showError(`Javascript Error: ${err.message}<br>This usually means there's a typo in your chart specification. See the javascript console for the full traceback.`));\n",
       "    }\n",
       "\n",
       "    if(typeof define === \"function\" && define.amd) {\n",
       "      requirejs.config({paths});\n",
       "      require([\"vega-embed\"], displayChart, err => showError(`Error loading script: ${err.message}`));\n",
       "    } else {\n",
       "      maybeLoadScript(\"vega\", \"5\")\n",
       "        .then(() => maybeLoadScript(\"vega-lite\", \"5.16.3\"))\n",
       "        .then(() => maybeLoadScript(\"vega-embed\", \"6\"))\n",
       "        .catch(showError)\n",
       "        .then(() => displayChart(vegaEmbed));\n",
       "    }\n",
       "  })({\"config\": {\"view\": {\"continuousWidth\": 300, \"continuousHeight\": 300}, \"axis\": {\"grid\": false}}, \"data\": {\"url\": \"altair-data-6649fdd7004b05103f0e5d654ed89cea.json\", \"format\": {\"type\": \"json\"}}, \"mark\": {\"type\": \"bar\", \"width\": 2.5}, \"encoding\": {\"color\": {\"field\": \"blowing snow\", \"scale\": {\"domain\": [true, false], \"range\": [\"#000000\", \"#C0C0C0\"]}, \"type\": \"nominal\"}, \"tooltip\": {\"field\": \"time\", \"type\": \"temporal\"}, \"x\": {\"field\": \"time\", \"title\": null, \"type\": \"temporal\"}, \"y\": {\"field\": \"Sublimation (mm)\", \"title\": \"Daily sublimation (mm)\", \"type\": \"quantitative\"}}, \"height\": 100, \"width\": 500, \"$schema\": \"https://vega.github.io/schema/vega-lite/v5.16.3.json\"}, {\"mode\": \"vega-lite\"});\n",
       "</script>"
      ],
      "text/plain": [
       "alt.Chart(...)"
      ]
     },
     "execution_count": 81,
     "metadata": {},
     "output_type": "execute_result"
    }
   ],
   "source": [
    "daily_sub_chart.configure_axis(grid=False)"
   ]
  },
  {
   "cell_type": "markdown",
   "metadata": {},
   "source": [
    "# Make stability regime hovmoller plot"
   ]
  },
  {
   "cell_type": "markdown",
   "metadata": {},
   "source": [
    "## Using temp gradient (pot virtal temp gradient)"
   ]
  },
  {
   "cell_type": "code",
   "execution_count": 82,
   "metadata": {},
   "outputs": [
    {
     "name": "stderr",
     "output_type": "stream",
     "text": [
      "/tmp/ipykernel_29759/501331965.py:17: SettingWithCopyWarning: \n",
      "A value is trying to be set on a copy of a slice from a DataFrame.\n",
      "Try using .loc[row_indexer,col_indexer] = value instead\n",
      "\n",
      "See the caveats in the documentation: https://pandas.pydata.org/pandas-docs/stable/user_guide/indexing.html#returning-a-view-versus-a-copy\n",
      "  stable_src['value'] = stable_src['value'].round(1)\n",
      "/tmp/ipykernel_29759/501331965.py:20: SettingWithCopyWarning: \n",
      "A value is trying to be set on a copy of a slice from a DataFrame.\n",
      "Try using .loc[row_indexer,col_indexer] = value instead\n",
      "\n",
      "See the caveats in the documentation: https://pandas.pydata.org/pandas-docs/stable/user_guide/indexing.html#returning-a-view-versus-a-copy\n",
      "  unstable_src['value'] = -0.1\n"
     ]
    }
   ],
   "source": [
    "src = tidy_df_5Min.query(\"variable == 'temp_gradient_3m_c'\")\n",
    "src = src.assign(hour = src.time.dt.hour)\n",
    "src = src.assign(hour_end = src.time.dt.hour + 1)\n",
    "src = src.assign(start_date = src.time.apply(lambda dt_p: dt_p.replace(hour=0,minute=0,second=0)))\n",
    "src = src.assign(end_date = src.time.apply(lambda dt_p: dt_p.replace(hour=0,minute=0,second=0) + dt.timedelta(hours=24)))\n",
    "src = src.groupby([\n",
    "    'hour',\n",
    "    'hour_end',\n",
    "    'start_date',\n",
    "    'end_date',\n",
    "])[['value']].median().reset_index()\n",
    "\n",
    "# this makes it easy to make a custom colorscale with \n",
    "# negative values as a drastically different color\n",
    "# round for values that are equal to or greater than 0 (stable cases)\n",
    "stable_src = src[src.value >= -0.01]\n",
    "stable_src['value'] = stable_src['value'].round(1)\n",
    "\n",
    "unstable_src = src[src.value < -0.01]\n",
    "unstable_src['value'] = -0.1\n",
    "\n",
    "src = pd.concat([stable_src, unstable_src])"
   ]
  },
  {
   "cell_type": "code",
   "execution_count": 89,
   "metadata": {},
   "outputs": [
    {
     "data": {
      "text/html": [
       "\n",
       "<style>\n",
       "  #altair-viz-9fc53c400f9048f2a374d4639f022656.vega-embed {\n",
       "    width: 100%;\n",
       "    display: flex;\n",
       "  }\n",
       "\n",
       "  #altair-viz-9fc53c400f9048f2a374d4639f022656.vega-embed details,\n",
       "  #altair-viz-9fc53c400f9048f2a374d4639f022656.vega-embed details summary {\n",
       "    position: relative;\n",
       "  }\n",
       "</style>\n",
       "<div id=\"altair-viz-9fc53c400f9048f2a374d4639f022656\"></div>\n",
       "<script type=\"text/javascript\">\n",
       "  var VEGA_DEBUG = (typeof VEGA_DEBUG == \"undefined\") ? {} : VEGA_DEBUG;\n",
       "  (function(spec, embedOpt){\n",
       "    let outputDiv = document.currentScript.previousElementSibling;\n",
       "    if (outputDiv.id !== \"altair-viz-9fc53c400f9048f2a374d4639f022656\") {\n",
       "      outputDiv = document.getElementById(\"altair-viz-9fc53c400f9048f2a374d4639f022656\");\n",
       "    }\n",
       "    const paths = {\n",
       "      \"vega\": \"https://cdn.jsdelivr.net/npm/vega@5?noext\",\n",
       "      \"vega-lib\": \"https://cdn.jsdelivr.net/npm/vega-lib?noext\",\n",
       "      \"vega-lite\": \"https://cdn.jsdelivr.net/npm/vega-lite@5.16.3?noext\",\n",
       "      \"vega-embed\": \"https://cdn.jsdelivr.net/npm/vega-embed@6?noext\",\n",
       "    };\n",
       "\n",
       "    function maybeLoadScript(lib, version) {\n",
       "      var key = `${lib.replace(\"-\", \"\")}_version`;\n",
       "      return (VEGA_DEBUG[key] == version) ?\n",
       "        Promise.resolve(paths[lib]) :\n",
       "        new Promise(function(resolve, reject) {\n",
       "          var s = document.createElement('script');\n",
       "          document.getElementsByTagName(\"head\")[0].appendChild(s);\n",
       "          s.async = true;\n",
       "          s.onload = () => {\n",
       "            VEGA_DEBUG[key] = version;\n",
       "            return resolve(paths[lib]);\n",
       "          };\n",
       "          s.onerror = () => reject(`Error loading script: ${paths[lib]}`);\n",
       "          s.src = paths[lib];\n",
       "        });\n",
       "    }\n",
       "\n",
       "    function showError(err) {\n",
       "      outputDiv.innerHTML = `<div class=\"error\" style=\"color:red;\">${err}</div>`;\n",
       "      throw err;\n",
       "    }\n",
       "\n",
       "    function displayChart(vegaEmbed) {\n",
       "      vegaEmbed(outputDiv, spec, embedOpt)\n",
       "        .catch(err => showError(`Javascript Error: ${err.message}<br>This usually means there's a typo in your chart specification. See the javascript console for the full traceback.`));\n",
       "    }\n",
       "\n",
       "    if(typeof define === \"function\" && define.amd) {\n",
       "      requirejs.config({paths});\n",
       "      require([\"vega-embed\"], displayChart, err => showError(`Error loading script: ${err.message}`));\n",
       "    } else {\n",
       "      maybeLoadScript(\"vega\", \"5\")\n",
       "        .then(() => maybeLoadScript(\"vega-lite\", \"5.16.3\"))\n",
       "        .then(() => maybeLoadScript(\"vega-embed\", \"6\"))\n",
       "        .catch(showError)\n",
       "        .then(() => displayChart(vegaEmbed));\n",
       "    }\n",
       "  })({\"config\": {\"view\": {\"continuousWidth\": 300, \"continuousHeight\": 300}}, \"data\": {\"url\": \"altair-data-b7e3951707c2d7d4b34a95e9f09f41a5.json\", \"format\": {\"type\": \"json\"}}, \"mark\": {\"type\": \"rect\"}, \"encoding\": {\"color\": {\"field\": \"value\", \"scale\": {\"domain\": [-0.1, 0.0, 0.1, 0.2, 0.3, 0.4, 0.5, 0.6, 0.7, 0.8], \"range\": [\"#ff2600\", \"#ffffff\", \"#e6ebfc\", \"#cbd8f9\", \"#aec4f6\", \"#90b0f4\", \"#7199f3\", \"#4f80f2\", \"#2a62f4\", \"#0433ff\"]}, \"title\": \"d\\u03b8\\u1d65 /dz (\\u02daC/m)\", \"type\": \"ordinal\"}, \"x\": {\"field\": \"start_date\", \"title\": \"date\", \"type\": \"temporal\"}, \"x2\": {\"field\": \"end_date\"}, \"y\": {\"field\": \"hour\", \"scale\": {\"reverse\": true}, \"title\": [\"hour of day\"], \"type\": \"quantitative\"}, \"y2\": {\"field\": \"hour_end\"}}, \"height\": 100, \"width\": 500, \"$schema\": \"https://vega.github.io/schema/vega-lite/v5.16.3.json\"}, {\"mode\": \"vega-lite\"});\n",
       "</script>"
      ],
      "text/plain": [
       "alt.Chart(...)"
      ]
     },
     "execution_count": 89,
     "metadata": {},
     "output_type": "execute_result"
    }
   ],
   "source": [
    "domain = np.linspace(-0.1,0.8, 10).round(1)\n",
    "range = [\n",
    "    '#ff2600', #red\n",
    "    '#ffffff', #blue scale, increasinlgy blue\n",
    "    '#e6ebfc',\n",
    "    '#cbd8f9',\n",
    "    '#aec4f6',\n",
    "    '#90b0f4',\n",
    "    '#7199f3',\n",
    "    '#4f80f2',\n",
    "    '#2a62f4',\n",
    "    '#0433ff',    \n",
    "]\n",
    "tempgrad_hovmoller_plot = alt.Chart(src.dropna()).mark_rect().encode(\n",
    "        alt.X(\"start_date:T\").title(\"date\"),\n",
    "        alt.X2(\"end_date:T\"),\n",
    "        alt.Y(\"hour:Q\").title(['hour of day']).scale(reverse=True),\n",
    "        alt.Y2(\"hour_end:Q\"),\n",
    "        alt.Color(\"value:O\").scale(domain=domain, range=range).title('dθᵥ /dz (˚C/m)')\n",
    ").properties(height = 100, width=500)\n",
    "tempgrad_hovmoller_plot"
   ]
  },
  {
   "cell_type": "markdown",
   "metadata": {},
   "source": [
    "## Using Ri_3m_c"
   ]
  },
  {
   "cell_type": "code",
   "execution_count": 10,
   "metadata": {},
   "outputs": [],
   "source": [
    "src = tidy_df_5Min.query(\"variable == 'Ri_3m_c'\")\n",
    "src = src.assign(hour = src.time.dt.hour)\n",
    "src = src.assign(hour_end = src.time.dt.hour + 1)\n",
    "src = src.assign(start_date = src.time.apply(lambda dt_p: dt_p.replace(hour=0,minute=0,second=0)))\n",
    "src = src.assign(end_date = src.time.apply(lambda dt_p: dt_p.replace(hour=0,minute=0,second=0) + dt.timedelta(hours=24)))\n",
    "src = src.groupby([\n",
    "    'hour',\n",
    "    'hour_end',\n",
    "    'start_date',\n",
    "    'end_date',\n",
    "])[['value']].median().reset_index()\n",
    "# this makes it easy to make a custom colorscale with \n",
    "# negative values as a drastically different color\n",
    "src['value'] = src['value'].round(1)"
   ]
  },
  {
   "cell_type": "code",
   "execution_count": 11,
   "metadata": {},
   "outputs": [
    {
     "data": {
      "text/html": [
       "\n",
       "<style>\n",
       "  #altair-viz-f209992dae11450b85e2b56b50affb94.vega-embed {\n",
       "    width: 100%;\n",
       "    display: flex;\n",
       "  }\n",
       "\n",
       "  #altair-viz-f209992dae11450b85e2b56b50affb94.vega-embed details,\n",
       "  #altair-viz-f209992dae11450b85e2b56b50affb94.vega-embed details summary {\n",
       "    position: relative;\n",
       "  }\n",
       "</style>\n",
       "<div id=\"altair-viz-f209992dae11450b85e2b56b50affb94\"></div>\n",
       "<script type=\"text/javascript\">\n",
       "  var VEGA_DEBUG = (typeof VEGA_DEBUG == \"undefined\") ? {} : VEGA_DEBUG;\n",
       "  (function(spec, embedOpt){\n",
       "    let outputDiv = document.currentScript.previousElementSibling;\n",
       "    if (outputDiv.id !== \"altair-viz-f209992dae11450b85e2b56b50affb94\") {\n",
       "      outputDiv = document.getElementById(\"altair-viz-f209992dae11450b85e2b56b50affb94\");\n",
       "    }\n",
       "    const paths = {\n",
       "      \"vega\": \"https://cdn.jsdelivr.net/npm/vega@5?noext\",\n",
       "      \"vega-lib\": \"https://cdn.jsdelivr.net/npm/vega-lib?noext\",\n",
       "      \"vega-lite\": \"https://cdn.jsdelivr.net/npm/vega-lite@5.16.3?noext\",\n",
       "      \"vega-embed\": \"https://cdn.jsdelivr.net/npm/vega-embed@6?noext\",\n",
       "    };\n",
       "\n",
       "    function maybeLoadScript(lib, version) {\n",
       "      var key = `${lib.replace(\"-\", \"\")}_version`;\n",
       "      return (VEGA_DEBUG[key] == version) ?\n",
       "        Promise.resolve(paths[lib]) :\n",
       "        new Promise(function(resolve, reject) {\n",
       "          var s = document.createElement('script');\n",
       "          document.getElementsByTagName(\"head\")[0].appendChild(s);\n",
       "          s.async = true;\n",
       "          s.onload = () => {\n",
       "            VEGA_DEBUG[key] = version;\n",
       "            return resolve(paths[lib]);\n",
       "          };\n",
       "          s.onerror = () => reject(`Error loading script: ${paths[lib]}`);\n",
       "          s.src = paths[lib];\n",
       "        });\n",
       "    }\n",
       "\n",
       "    function showError(err) {\n",
       "      outputDiv.innerHTML = `<div class=\"error\" style=\"color:red;\">${err}</div>`;\n",
       "      throw err;\n",
       "    }\n",
       "\n",
       "    function displayChart(vegaEmbed) {\n",
       "      vegaEmbed(outputDiv, spec, embedOpt)\n",
       "        .catch(err => showError(`Javascript Error: ${err.message}<br>This usually means there's a typo in your chart specification. See the javascript console for the full traceback.`));\n",
       "    }\n",
       "\n",
       "    if(typeof define === \"function\" && define.amd) {\n",
       "      requirejs.config({paths});\n",
       "      require([\"vega-embed\"], displayChart, err => showError(`Error loading script: ${err.message}`));\n",
       "    } else {\n",
       "      maybeLoadScript(\"vega\", \"5\")\n",
       "        .then(() => maybeLoadScript(\"vega-lite\", \"5.16.3\"))\n",
       "        .then(() => maybeLoadScript(\"vega-embed\", \"6\"))\n",
       "        .catch(showError)\n",
       "        .then(() => displayChart(vegaEmbed));\n",
       "    }\n",
       "  })({\"config\": {\"view\": {\"continuousWidth\": 300, \"continuousHeight\": 300}, \"axis\": {\"grid\": false}}, \"data\": {\"url\": \"altair-data-f42be9513a5837514b7eb9c8fea38219.json\", \"format\": {\"type\": \"json\"}}, \"mark\": {\"type\": \"rect\"}, \"encoding\": {\"color\": {\"field\": \"value\", \"scale\": {\"scheme\": \"blueorange\", \"domain\": [-1, 1.0]}, \"type\": \"quantitative\"}, \"x\": {\"field\": \"start_date\", \"type\": \"temporal\"}, \"x2\": {\"field\": \"end_date\"}, \"y\": {\"field\": \"hour\", \"type\": \"quantitative\"}, \"y2\": {\"field\": \"hour_end\"}}, \"height\": 100, \"width\": 500, \"$schema\": \"https://vega.github.io/schema/vega-lite/v5.16.3.json\"}, {\"mode\": \"vega-lite\"});\n",
       "</script>"
      ],
      "text/plain": [
       "alt.Chart(...)"
      ]
     },
     "execution_count": 11,
     "metadata": {},
     "output_type": "execute_result"
    }
   ],
   "source": [
    "alt.Chart(src.dropna()).mark_rect().encode(\n",
    "        alt.X(\"start_date:T\"),\n",
    "        alt.X2(\"end_date:T\"),\n",
    "        alt.Y(\"hour:Q\"),\n",
    "        alt.Y2(\"hour_end:Q\"),\n",
    "        alt.Color(\"value:Q\").scale(scheme='blueorange', domain=[-1,1.0])\n",
    ").properties(height = 100, width=500).configure_axis(grid=False)"
   ]
  },
  {
   "cell_type": "markdown",
   "metadata": {},
   "source": [
    "## Using $\\Omega_{3m}^c$"
   ]
  },
  {
   "cell_type": "code",
   "execution_count": 12,
   "metadata": {},
   "outputs": [],
   "source": [
    "src = tidy_df_5Min.query(\"variable == 'omega_3m_c'\")\n",
    "src = src.assign(hour = src.time.dt.hour)\n",
    "src = src.assign(hour_end = src.time.dt.hour + 1)\n",
    "src = src.assign(start_date = src.time.apply(lambda dt_p: dt_p.replace(hour=0,minute=0,second=0)))\n",
    "src = src.assign(end_date = src.time.apply(lambda dt_p: dt_p.replace(hour=0,minute=0,second=0) + dt.timedelta(hours=24)))\n",
    "src = src.groupby([\n",
    "    'hour',\n",
    "    'hour_end',\n",
    "    'start_date',\n",
    "    'end_date',\n",
    "])[['value']].median().reset_index()\n",
    "# this makes it easy to make a custom colorscale with \n",
    "# negative values as a drastically different color\n",
    "src['value'] = src['value'].round(1)"
   ]
  },
  {
   "cell_type": "code",
   "execution_count": 13,
   "metadata": {},
   "outputs": [
    {
     "data": {
      "text/html": [
       "\n",
       "<style>\n",
       "  #altair-viz-569f299a7f7847e1a93a46cef8703c88.vega-embed {\n",
       "    width: 100%;\n",
       "    display: flex;\n",
       "  }\n",
       "\n",
       "  #altair-viz-569f299a7f7847e1a93a46cef8703c88.vega-embed details,\n",
       "  #altair-viz-569f299a7f7847e1a93a46cef8703c88.vega-embed details summary {\n",
       "    position: relative;\n",
       "  }\n",
       "</style>\n",
       "<div id=\"altair-viz-569f299a7f7847e1a93a46cef8703c88\"></div>\n",
       "<script type=\"text/javascript\">\n",
       "  var VEGA_DEBUG = (typeof VEGA_DEBUG == \"undefined\") ? {} : VEGA_DEBUG;\n",
       "  (function(spec, embedOpt){\n",
       "    let outputDiv = document.currentScript.previousElementSibling;\n",
       "    if (outputDiv.id !== \"altair-viz-569f299a7f7847e1a93a46cef8703c88\") {\n",
       "      outputDiv = document.getElementById(\"altair-viz-569f299a7f7847e1a93a46cef8703c88\");\n",
       "    }\n",
       "    const paths = {\n",
       "      \"vega\": \"https://cdn.jsdelivr.net/npm/vega@5?noext\",\n",
       "      \"vega-lib\": \"https://cdn.jsdelivr.net/npm/vega-lib?noext\",\n",
       "      \"vega-lite\": \"https://cdn.jsdelivr.net/npm/vega-lite@5.16.3?noext\",\n",
       "      \"vega-embed\": \"https://cdn.jsdelivr.net/npm/vega-embed@6?noext\",\n",
       "    };\n",
       "\n",
       "    function maybeLoadScript(lib, version) {\n",
       "      var key = `${lib.replace(\"-\", \"\")}_version`;\n",
       "      return (VEGA_DEBUG[key] == version) ?\n",
       "        Promise.resolve(paths[lib]) :\n",
       "        new Promise(function(resolve, reject) {\n",
       "          var s = document.createElement('script');\n",
       "          document.getElementsByTagName(\"head\")[0].appendChild(s);\n",
       "          s.async = true;\n",
       "          s.onload = () => {\n",
       "            VEGA_DEBUG[key] = version;\n",
       "            return resolve(paths[lib]);\n",
       "          };\n",
       "          s.onerror = () => reject(`Error loading script: ${paths[lib]}`);\n",
       "          s.src = paths[lib];\n",
       "        });\n",
       "    }\n",
       "\n",
       "    function showError(err) {\n",
       "      outputDiv.innerHTML = `<div class=\"error\" style=\"color:red;\">${err}</div>`;\n",
       "      throw err;\n",
       "    }\n",
       "\n",
       "    function displayChart(vegaEmbed) {\n",
       "      vegaEmbed(outputDiv, spec, embedOpt)\n",
       "        .catch(err => showError(`Javascript Error: ${err.message}<br>This usually means there's a typo in your chart specification. See the javascript console for the full traceback.`));\n",
       "    }\n",
       "\n",
       "    if(typeof define === \"function\" && define.amd) {\n",
       "      requirejs.config({paths});\n",
       "      require([\"vega-embed\"], displayChart, err => showError(`Error loading script: ${err.message}`));\n",
       "    } else {\n",
       "      maybeLoadScript(\"vega\", \"5\")\n",
       "        .then(() => maybeLoadScript(\"vega-lite\", \"5.16.3\"))\n",
       "        .then(() => maybeLoadScript(\"vega-embed\", \"6\"))\n",
       "        .catch(showError)\n",
       "        .then(() => displayChart(vegaEmbed));\n",
       "    }\n",
       "  })({\"config\": {\"view\": {\"continuousWidth\": 300, \"continuousHeight\": 300}, \"axis\": {\"grid\": false}}, \"data\": {\"url\": \"altair-data-34e642efb601761211a4e11ce051ae3d.json\", \"format\": {\"type\": \"json\"}}, \"mark\": {\"type\": \"rect\"}, \"encoding\": {\"color\": {\"field\": \"value\", \"scale\": {\"scheme\": \"blueorange\", \"domain\": [0, 0.86], \"clamp\": true}, \"type\": \"quantitative\"}, \"x\": {\"field\": \"start_date\", \"type\": \"temporal\"}, \"x2\": {\"field\": \"end_date\"}, \"y\": {\"field\": \"hour\", \"type\": \"quantitative\"}, \"y2\": {\"field\": \"hour_end\"}}, \"height\": 100, \"width\": 500, \"$schema\": \"https://vega.github.io/schema/vega-lite/v5.16.3.json\"}, {\"mode\": \"vega-lite\"});\n",
       "</script>"
      ],
      "text/plain": [
       "alt.Chart(...)"
      ]
     },
     "execution_count": 13,
     "metadata": {},
     "output_type": "execute_result"
    }
   ],
   "source": [
    "alt.Chart(src.dropna()).mark_rect().encode(\n",
    "        alt.X(\"start_date:T\"),\n",
    "        alt.X2(\"end_date:T\"),\n",
    "        alt.Y(\"hour:Q\"),\n",
    "        alt.Y2(\"hour_end:Q\"),\n",
    "        alt.Color(\"value:Q\").scale(scheme='blueorange', domain=[0, .86], clamp=True),\n",
    ").properties(height = 100, width=500).configure_axis(grid=False)"
   ]
  },
  {
   "cell_type": "code",
   "execution_count": 14,
   "metadata": {},
   "outputs": [
    {
     "data": {
      "text/html": [
       "\n",
       "<style>\n",
       "  #altair-viz-01cc08bc05514988886f6ca6cb8bd89e.vega-embed {\n",
       "    width: 100%;\n",
       "    display: flex;\n",
       "  }\n",
       "\n",
       "  #altair-viz-01cc08bc05514988886f6ca6cb8bd89e.vega-embed details,\n",
       "  #altair-viz-01cc08bc05514988886f6ca6cb8bd89e.vega-embed details summary {\n",
       "    position: relative;\n",
       "  }\n",
       "</style>\n",
       "<div id=\"altair-viz-01cc08bc05514988886f6ca6cb8bd89e\"></div>\n",
       "<script type=\"text/javascript\">\n",
       "  var VEGA_DEBUG = (typeof VEGA_DEBUG == \"undefined\") ? {} : VEGA_DEBUG;\n",
       "  (function(spec, embedOpt){\n",
       "    let outputDiv = document.currentScript.previousElementSibling;\n",
       "    if (outputDiv.id !== \"altair-viz-01cc08bc05514988886f6ca6cb8bd89e\") {\n",
       "      outputDiv = document.getElementById(\"altair-viz-01cc08bc05514988886f6ca6cb8bd89e\");\n",
       "    }\n",
       "    const paths = {\n",
       "      \"vega\": \"https://cdn.jsdelivr.net/npm/vega@5?noext\",\n",
       "      \"vega-lib\": \"https://cdn.jsdelivr.net/npm/vega-lib?noext\",\n",
       "      \"vega-lite\": \"https://cdn.jsdelivr.net/npm/vega-lite@5.16.3?noext\",\n",
       "      \"vega-embed\": \"https://cdn.jsdelivr.net/npm/vega-embed@6?noext\",\n",
       "    };\n",
       "\n",
       "    function maybeLoadScript(lib, version) {\n",
       "      var key = `${lib.replace(\"-\", \"\")}_version`;\n",
       "      return (VEGA_DEBUG[key] == version) ?\n",
       "        Promise.resolve(paths[lib]) :\n",
       "        new Promise(function(resolve, reject) {\n",
       "          var s = document.createElement('script');\n",
       "          document.getElementsByTagName(\"head\")[0].appendChild(s);\n",
       "          s.async = true;\n",
       "          s.onload = () => {\n",
       "            VEGA_DEBUG[key] = version;\n",
       "            return resolve(paths[lib]);\n",
       "          };\n",
       "          s.onerror = () => reject(`Error loading script: ${paths[lib]}`);\n",
       "          s.src = paths[lib];\n",
       "        });\n",
       "    }\n",
       "\n",
       "    function showError(err) {\n",
       "      outputDiv.innerHTML = `<div class=\"error\" style=\"color:red;\">${err}</div>`;\n",
       "      throw err;\n",
       "    }\n",
       "\n",
       "    function displayChart(vegaEmbed) {\n",
       "      vegaEmbed(outputDiv, spec, embedOpt)\n",
       "        .catch(err => showError(`Javascript Error: ${err.message}<br>This usually means there's a typo in your chart specification. See the javascript console for the full traceback.`));\n",
       "    }\n",
       "\n",
       "    if(typeof define === \"function\" && define.amd) {\n",
       "      requirejs.config({paths});\n",
       "      require([\"vega-embed\"], displayChart, err => showError(`Error loading script: ${err.message}`));\n",
       "    } else {\n",
       "      maybeLoadScript(\"vega\", \"5\")\n",
       "        .then(() => maybeLoadScript(\"vega-lite\", \"5.16.3\"))\n",
       "        .then(() => maybeLoadScript(\"vega-embed\", \"6\"))\n",
       "        .catch(showError)\n",
       "        .then(() => displayChart(vegaEmbed));\n",
       "    }\n",
       "  })({\"config\": {\"view\": {\"continuousWidth\": 300, \"continuousHeight\": 300}}, \"hconcat\": [{\"layer\": [{\"data\": {\"url\": \"altair-data-a6e6a33dfbe4c33b931ae34ee0e7919a.json\", \"format\": {\"type\": \"json\"}}, \"mark\": {\"type\": \"circle\", \"opacity\": 0.25, \"size\": 5}, \"encoding\": {\"x\": {\"field\": \"Ri_3m_c\", \"scale\": {\"domain\": [-0.5, 0.5], \"clamp\": true}, \"type\": \"quantitative\"}, \"y\": {\"field\": \"omega_3m_c\", \"scale\": {\"domain\": [0, 5], \"clamp\": true}, \"type\": \"quantitative\"}}}, {\"data\": {\"url\": \"altair-data-49de2540c4ef85ad095c8f3e4c383a67.json\", \"format\": {\"type\": \"json\"}}, \"mark\": {\"type\": \"rule\"}, \"encoding\": {\"y\": {\"field\": \"x\", \"type\": \"quantitative\"}}}]}, {\"data\": {\"url\": \"altair-data-a6e6a33dfbe4c33b931ae34ee0e7919a.json\", \"format\": {\"type\": \"json\"}}, \"mark\": {\"type\": \"circle\", \"opacity\": 0.25, \"size\": 5}, \"encoding\": {\"x\": {\"field\": \"Ri_3m_c\", \"scale\": {\"domain\": [-0.5, 0.5], \"clamp\": true}, \"type\": \"quantitative\"}, \"y\": {\"field\": \"temp_gradient_3m_c\", \"type\": \"quantitative\"}}}, {\"layer\": [{\"data\": {\"url\": \"altair-data-a6e6a33dfbe4c33b931ae34ee0e7919a.json\", \"format\": {\"type\": \"json\"}}, \"mark\": {\"type\": \"circle\", \"opacity\": 0.25, \"size\": 5}, \"encoding\": {\"x\": {\"field\": \"temp_gradient_3m_c\", \"type\": \"quantitative\"}, \"y\": {\"field\": \"omega_3m_c\", \"scale\": {\"domain\": [0, 5], \"clamp\": true}, \"type\": \"quantitative\"}}}, {\"data\": {\"url\": \"altair-data-49de2540c4ef85ad095c8f3e4c383a67.json\", \"format\": {\"type\": \"json\"}}, \"mark\": {\"type\": \"rule\"}, \"encoding\": {\"y\": {\"field\": \"x\", \"type\": \"quantitative\"}}}]}], \"$schema\": \"https://vega.github.io/schema/vega-lite/v5.16.3.json\"}, {\"mode\": \"vega-lite\"});\n",
       "</script>"
      ],
      "text/plain": [
       "alt.HConcatChart(...)"
      ]
     },
     "execution_count": 14,
     "metadata": {},
     "output_type": "execute_result"
    }
   ],
   "source": [
    "src = tidy_df_5Min[tidy_df_5Min.variable.isin([\n",
    "    'omega_3m_c',\n",
    "    'Ri_3m_c',\n",
    "    'temp_gradient_3m_c',\n",
    "])][['time', 'variable', 'value']].pivot(index='time', columns='variable')\n",
    "src.columns = src.columns.droplevel(0)\n",
    "\n",
    "coupled_rule = alt.Chart(pd.DataFrame({'x':[0.43]})).mark_rule().encode(y='x')\n",
    "\n",
    "base_chart = alt.Chart(\n",
    "    src.groupby(pd.Grouper(freq='60Min')).median()\n",
    ").mark_circle(\n",
    "    size=5,\n",
    "    opacity=0.25\n",
    ")\n",
    "alt.Chart(\n",
    "    src.groupby(pd.Grouper(freq='60Min')).median()\n",
    ").mark_circle(\n",
    "    size=10,\n",
    "    opacity=0.25\n",
    ").properties(width = 200, height = 200)\n",
    "omega_yaxis = alt.Y('omega_3m_c:Q').scale(domain=[0,5], clamp=True)\n",
    "ri_xaxis = alt.X(\"Ri_3m_c:Q\").scale(domain=[-0.5,0.5], clamp=True)\n",
    "\n",
    "omega_vs_ri = base_chart.encode(\n",
    "    ri_xaxis,\n",
    "    omega_yaxis,\n",
    ") + coupled_rule\n",
    "tempgrad_vs_ri = base_chart.encode(\n",
    "    ri_xaxis,\n",
    "    alt.Y('temp_gradient_3m_c:Q'),\n",
    ")\n",
    "omega_vs_tempgrad = base_chart.encode(\n",
    "    alt.X(\"temp_gradient_3m_c:Q\"),\n",
    "    omega_yaxis,\n",
    ") + coupled_rule\n",
    "omega_vs_ri | tempgrad_vs_ri | omega_vs_tempgrad"
   ]
  },
  {
   "cell_type": "markdown",
   "metadata": {},
   "source": [
    "# Make stability regime time series plot"
   ]
  },
  {
   "cell_type": "code",
   "execution_count": 62,
   "metadata": {},
   "outputs": [
    {
     "name": "stderr",
     "output_type": "stream",
     "text": [
      "/tmp/ipykernel_29759/3949160827.py:13: SettingWithCopyWarning: \n",
      "A value is trying to be set on a copy of a slice from a DataFrame.\n",
      "Try using .loc[row_indexer,col_indexer] = value instead\n",
      "\n",
      "See the caveats in the documentation: https://pandas.pydata.org/pandas-docs/stable/user_guide/indexing.html#returning-a-view-versus-a-copy\n",
      "  src['date'] = src.time.dt.date\n"
     ]
    }
   ],
   "source": [
    "def temp_gradient_to_stability_regime(x):\n",
    "    if np.isnan(x):\n",
    "        return None\n",
    "    elif x < -0.01:\n",
    "        return \"unstable\"\n",
    "    elif x >= -0.01 and x <= 0.01:\n",
    "        return \"neutral\"\n",
    "    elif x > 0.01:\n",
    "        return \"stable\"\n",
    "    else:\n",
    "        raise ValueError(\"what?\")\n",
    "src = tidy_df_5Min.query(\"variable == 'temp_gradient_3m_c'\")\n",
    "src['date'] = src.time.dt.date\n",
    "src[src.time.dt.hour.isin([0,1])]\n",
    "src_day = src[src.time.dt.hour.isin([12,13])].assign(time_of_day = 'day')\n",
    "src_night = src[src.time.dt.hour.isin([0,1])].assign(time_of_day = 'night')\n",
    "src = pd.concat([src_day, src_night])\n",
    "src = src.groupby(['date', 'time_of_day']).mean(numeric_only=True).reset_index()\n",
    "src['stability regime'] = src['value'].apply(temp_gradient_to_stability_regime)"
   ]
  },
  {
   "cell_type": "code",
   "execution_count": 63,
   "metadata": {},
   "outputs": [],
   "source": [
    "stability_regime_chart = alt.Chart(src).mark_bar().encode(\n",
    "    alt.X(\"date:T\"),\n",
    "    alt.Color(\"stability regime:N\").scale(domain = ['neutral', 'stable', 'unstable'], range=['#000000', '#1f77b4', '#ff7f0e']  ),\n",
    "    alt.Y(\"time_of_day:N\", sort=['night', 'day'], title=None)\n",
    ").properties(width = 500)"
   ]
  },
  {
   "cell_type": "code",
   "execution_count": 64,
   "metadata": {},
   "outputs": [],
   "source": [
    "src = tidy_df_5Min[tidy_df_5Min.measurement.isin([\n",
    "    'potential virtual temperature',\n",
    "    'surface potential virtual temperature'\n",
    "])]\n",
    "src = src.set_index(\"time\").groupby([pd.Grouper(freq='60Min'), 'height']).mean(numeric_only=True).reset_index()\n",
    "src['hour'] = src.time.dt.hour\n",
    "src = src[src['hour']%4 == 0]\n",
    "\n",
    "def profile_chart(src):\n",
    "    return alt.Chart(src).mark_line().encode(\n",
    "        alt.X(\"value:Q\").sort('-y').title(\"Potential virtual temperature (˚C)\"),\n",
    "        alt.Y(\"height:Q\"),\n",
    "        alt.Color('hour:O').scale(scheme='rainbow')\n",
    "    ).properties(width = 200, height = 150)"
   ]
  },
  {
   "cell_type": "code",
   "execution_count": 65,
   "metadata": {},
   "outputs": [],
   "source": [
    "# profile_chart(src[src.time.dt.date == dt.date(2022, 12, 22)]).properties(title = \"Blowing snow day (2022-12-22)\") |\\\n",
    "profiles_chart = profile_chart(src[src.time.dt.date == dt.date(2023, 2, 11)]).properties(title = \"Sunny, midwinter day (2023-02-11)\") |\\\n",
    "profile_chart(src[src.time.dt.date == dt.date(2023, 3, 28)]).properties(title = \"Sunny, spring day (2023-03-28)\")"
   ]
  },
  {
   "cell_type": "code",
   "execution_count": 19,
   "metadata": {},
   "outputs": [
    {
     "data": {
      "text/html": [
       "\n",
       "<style>\n",
       "  #altair-viz-a7db04467404447f8146a0a748a52d71.vega-embed {\n",
       "    width: 100%;\n",
       "    display: flex;\n",
       "  }\n",
       "\n",
       "  #altair-viz-a7db04467404447f8146a0a748a52d71.vega-embed details,\n",
       "  #altair-viz-a7db04467404447f8146a0a748a52d71.vega-embed details summary {\n",
       "    position: relative;\n",
       "  }\n",
       "</style>\n",
       "<div id=\"altair-viz-a7db04467404447f8146a0a748a52d71\"></div>\n",
       "<script type=\"text/javascript\">\n",
       "  var VEGA_DEBUG = (typeof VEGA_DEBUG == \"undefined\") ? {} : VEGA_DEBUG;\n",
       "  (function(spec, embedOpt){\n",
       "    let outputDiv = document.currentScript.previousElementSibling;\n",
       "    if (outputDiv.id !== \"altair-viz-a7db04467404447f8146a0a748a52d71\") {\n",
       "      outputDiv = document.getElementById(\"altair-viz-a7db04467404447f8146a0a748a52d71\");\n",
       "    }\n",
       "    const paths = {\n",
       "      \"vega\": \"https://cdn.jsdelivr.net/npm/vega@5?noext\",\n",
       "      \"vega-lib\": \"https://cdn.jsdelivr.net/npm/vega-lib?noext\",\n",
       "      \"vega-lite\": \"https://cdn.jsdelivr.net/npm/vega-lite@5.16.3?noext\",\n",
       "      \"vega-embed\": \"https://cdn.jsdelivr.net/npm/vega-embed@6?noext\",\n",
       "    };\n",
       "\n",
       "    function maybeLoadScript(lib, version) {\n",
       "      var key = `${lib.replace(\"-\", \"\")}_version`;\n",
       "      return (VEGA_DEBUG[key] == version) ?\n",
       "        Promise.resolve(paths[lib]) :\n",
       "        new Promise(function(resolve, reject) {\n",
       "          var s = document.createElement('script');\n",
       "          document.getElementsByTagName(\"head\")[0].appendChild(s);\n",
       "          s.async = true;\n",
       "          s.onload = () => {\n",
       "            VEGA_DEBUG[key] = version;\n",
       "            return resolve(paths[lib]);\n",
       "          };\n",
       "          s.onerror = () => reject(`Error loading script: ${paths[lib]}`);\n",
       "          s.src = paths[lib];\n",
       "        });\n",
       "    }\n",
       "\n",
       "    function showError(err) {\n",
       "      outputDiv.innerHTML = `<div class=\"error\" style=\"color:red;\">${err}</div>`;\n",
       "      throw err;\n",
       "    }\n",
       "\n",
       "    function displayChart(vegaEmbed) {\n",
       "      vegaEmbed(outputDiv, spec, embedOpt)\n",
       "        .catch(err => showError(`Javascript Error: ${err.message}<br>This usually means there's a typo in your chart specification. See the javascript console for the full traceback.`));\n",
       "    }\n",
       "\n",
       "    if(typeof define === \"function\" && define.amd) {\n",
       "      requirejs.config({paths});\n",
       "      require([\"vega-embed\"], displayChart, err => showError(`Error loading script: ${err.message}`));\n",
       "    } else {\n",
       "      maybeLoadScript(\"vega\", \"5\")\n",
       "        .then(() => maybeLoadScript(\"vega-lite\", \"5.16.3\"))\n",
       "        .then(() => maybeLoadScript(\"vega-embed\", \"6\"))\n",
       "        .catch(showError)\n",
       "        .then(() => displayChart(vegaEmbed));\n",
       "    }\n",
       "  })({\"config\": {\"view\": {\"continuousWidth\": 300, \"continuousHeight\": 300}}, \"vconcat\": [{\"data\": {\"url\": \"altair-data-6649fdd7004b05103f0e5d654ed89cea.json\", \"format\": {\"type\": \"json\"}}, \"mark\": {\"type\": \"bar\", \"width\": 2.5}, \"encoding\": {\"color\": {\"field\": \"blowing snow\", \"scale\": {\"domain\": [true, false], \"range\": [\"#000000\", \"#C0C0C0\"]}, \"type\": \"nominal\"}, \"tooltip\": {\"field\": \"time\", \"type\": \"temporal\"}, \"x\": {\"field\": \"time\", \"title\": null, \"type\": \"temporal\"}, \"y\": {\"field\": \"Sublimation (mm)\", \"title\": \"Daily sublimation (mm)\", \"type\": \"quantitative\"}}, \"height\": 100, \"width\": 500}, {\"data\": {\"url\": \"altair-data-40052e81ce0269275a1ccc72d6dd8cd4.json\", \"format\": {\"type\": \"json\"}}, \"mark\": {\"type\": \"bar\"}, \"encoding\": {\"color\": {\"field\": \"stability regime\", \"scale\": {\"domain\": [\"neutral\", \"stable\", \"unstable\"], \"range\": [\"#000000\", \"#1f77b4\", \"#ff7f0e\"]}, \"type\": \"nominal\"}, \"x\": {\"field\": \"date\", \"type\": \"temporal\"}, \"y\": {\"field\": \"time_of_day\", \"sort\": [\"night\", \"day\"], \"title\": null, \"type\": \"nominal\"}}, \"width\": 500}, {\"hconcat\": [{\"data\": {\"url\": \"altair-data-68e789cc3f80ed9ce5dff89fd1535b30.json\", \"format\": {\"type\": \"json\"}}, \"mark\": {\"type\": \"line\"}, \"encoding\": {\"color\": {\"field\": \"hour\", \"scale\": {\"scheme\": \"rainbow\"}, \"type\": \"ordinal\"}, \"x\": {\"field\": \"value\", \"sort\": \"-y\", \"title\": \"Potential virtual temperature (\\u02daC)\", \"type\": \"quantitative\"}, \"y\": {\"field\": \"height\", \"type\": \"quantitative\"}}, \"height\": 150, \"title\": \"Sunny, midwinter day (2023-02-11)\", \"width\": 200}, {\"data\": {\"url\": \"altair-data-589ba2652bfe0005b2c85fd3da0c7fb7.json\", \"format\": {\"type\": \"json\"}}, \"mark\": {\"type\": \"line\"}, \"encoding\": {\"color\": {\"field\": \"hour\", \"scale\": {\"scheme\": \"rainbow\"}, \"type\": \"ordinal\"}, \"x\": {\"field\": \"value\", \"sort\": \"-y\", \"title\": \"Potential virtual temperature (\\u02daC)\", \"type\": \"quantitative\"}, \"y\": {\"field\": \"height\", \"type\": \"quantitative\"}}, \"height\": 150, \"title\": \"Sunny, spring day (2023-03-28)\", \"width\": 200}]}], \"resolve\": {\"scale\": {\"color\": \"independent\"}}, \"$schema\": \"https://vega.github.io/schema/vega-lite/v5.16.3.json\"}, {\"mode\": \"vega-lite\"});\n",
       "</script>"
      ],
      "text/plain": [
       "alt.VConcatChart(...)"
      ]
     },
     "execution_count": 19,
     "metadata": {},
     "output_type": "execute_result"
    }
   ],
   "source": [
    "(\n",
    "    (daily_sub_chart & stability_regime_chart).resolve_scale(color='independent')\n",
    "    &\n",
    "    profiles_chart\n",
    ")"
   ]
  },
  {
   "cell_type": "code",
   "execution_count": 90,
   "metadata": {},
   "outputs": [
    {
     "data": {
      "text/html": [
       "\n",
       "<style>\n",
       "  #altair-viz-7adefec8f9964abb95d5e8974353ef11.vega-embed {\n",
       "    width: 100%;\n",
       "    display: flex;\n",
       "  }\n",
       "\n",
       "  #altair-viz-7adefec8f9964abb95d5e8974353ef11.vega-embed details,\n",
       "  #altair-viz-7adefec8f9964abb95d5e8974353ef11.vega-embed details summary {\n",
       "    position: relative;\n",
       "  }\n",
       "</style>\n",
       "<div id=\"altair-viz-7adefec8f9964abb95d5e8974353ef11\"></div>\n",
       "<script type=\"text/javascript\">\n",
       "  var VEGA_DEBUG = (typeof VEGA_DEBUG == \"undefined\") ? {} : VEGA_DEBUG;\n",
       "  (function(spec, embedOpt){\n",
       "    let outputDiv = document.currentScript.previousElementSibling;\n",
       "    if (outputDiv.id !== \"altair-viz-7adefec8f9964abb95d5e8974353ef11\") {\n",
       "      outputDiv = document.getElementById(\"altair-viz-7adefec8f9964abb95d5e8974353ef11\");\n",
       "    }\n",
       "    const paths = {\n",
       "      \"vega\": \"https://cdn.jsdelivr.net/npm/vega@5?noext\",\n",
       "      \"vega-lib\": \"https://cdn.jsdelivr.net/npm/vega-lib?noext\",\n",
       "      \"vega-lite\": \"https://cdn.jsdelivr.net/npm/vega-lite@5.16.3?noext\",\n",
       "      \"vega-embed\": \"https://cdn.jsdelivr.net/npm/vega-embed@6?noext\",\n",
       "    };\n",
       "\n",
       "    function maybeLoadScript(lib, version) {\n",
       "      var key = `${lib.replace(\"-\", \"\")}_version`;\n",
       "      return (VEGA_DEBUG[key] == version) ?\n",
       "        Promise.resolve(paths[lib]) :\n",
       "        new Promise(function(resolve, reject) {\n",
       "          var s = document.createElement('script');\n",
       "          document.getElementsByTagName(\"head\")[0].appendChild(s);\n",
       "          s.async = true;\n",
       "          s.onload = () => {\n",
       "            VEGA_DEBUG[key] = version;\n",
       "            return resolve(paths[lib]);\n",
       "          };\n",
       "          s.onerror = () => reject(`Error loading script: ${paths[lib]}`);\n",
       "          s.src = paths[lib];\n",
       "        });\n",
       "    }\n",
       "\n",
       "    function showError(err) {\n",
       "      outputDiv.innerHTML = `<div class=\"error\" style=\"color:red;\">${err}</div>`;\n",
       "      throw err;\n",
       "    }\n",
       "\n",
       "    function displayChart(vegaEmbed) {\n",
       "      vegaEmbed(outputDiv, spec, embedOpt)\n",
       "        .catch(err => showError(`Javascript Error: ${err.message}<br>This usually means there's a typo in your chart specification. See the javascript console for the full traceback.`));\n",
       "    }\n",
       "\n",
       "    if(typeof define === \"function\" && define.amd) {\n",
       "      requirejs.config({paths});\n",
       "      require([\"vega-embed\"], displayChart, err => showError(`Error loading script: ${err.message}`));\n",
       "    } else {\n",
       "      maybeLoadScript(\"vega\", \"5\")\n",
       "        .then(() => maybeLoadScript(\"vega-lite\", \"5.16.3\"))\n",
       "        .then(() => maybeLoadScript(\"vega-embed\", \"6\"))\n",
       "        .catch(showError)\n",
       "        .then(() => displayChart(vegaEmbed));\n",
       "    }\n",
       "  })({\"config\": {\"view\": {\"continuousWidth\": 300, \"continuousHeight\": 300}}, \"vconcat\": [{\"data\": {\"url\": \"altair-data-6649fdd7004b05103f0e5d654ed89cea.json\", \"format\": {\"type\": \"json\"}}, \"mark\": {\"type\": \"bar\", \"width\": 2.5}, \"encoding\": {\"color\": {\"field\": \"blowing snow\", \"scale\": {\"domain\": [true, false], \"range\": [\"#000000\", \"#C0C0C0\"]}, \"type\": \"nominal\"}, \"tooltip\": {\"field\": \"time\", \"type\": \"temporal\"}, \"x\": {\"field\": \"time\", \"title\": null, \"type\": \"temporal\"}, \"y\": {\"field\": \"Sublimation (mm)\", \"title\": \"Daily sublimation (mm)\", \"type\": \"quantitative\"}}, \"height\": 100, \"width\": 500}, {\"data\": {\"url\": \"altair-data-b7e3951707c2d7d4b34a95e9f09f41a5.json\", \"format\": {\"type\": \"json\"}}, \"mark\": {\"type\": \"rect\"}, \"encoding\": {\"color\": {\"field\": \"value\", \"scale\": {\"domain\": [-0.1, 0.0, 0.1, 0.2, 0.3, 0.4, 0.5, 0.6, 0.7, 0.8], \"range\": [\"#ff2600\", \"#ffffff\", \"#e6ebfc\", \"#cbd8f9\", \"#aec4f6\", \"#90b0f4\", \"#7199f3\", \"#4f80f2\", \"#2a62f4\", \"#0433ff\"]}, \"title\": \"d\\u03b8\\u1d65 /dz (\\u02daC/m)\", \"type\": \"ordinal\"}, \"x\": {\"field\": \"start_date\", \"title\": \"date\", \"type\": \"temporal\"}, \"x2\": {\"field\": \"end_date\"}, \"y\": {\"field\": \"hour\", \"scale\": {\"reverse\": true}, \"title\": [\"hour of day\"], \"type\": \"quantitative\"}, \"y2\": {\"field\": \"hour_end\"}}, \"height\": 100, \"width\": 500}, {\"hconcat\": [{\"data\": {\"url\": \"altair-data-68e789cc3f80ed9ce5dff89fd1535b30.json\", \"format\": {\"type\": \"json\"}}, \"mark\": {\"type\": \"line\"}, \"encoding\": {\"color\": {\"field\": \"hour\", \"scale\": {\"scheme\": \"rainbow\"}, \"type\": \"ordinal\"}, \"x\": {\"field\": \"value\", \"sort\": \"-y\", \"title\": \"Potential virtual temperature (\\u02daC)\", \"type\": \"quantitative\"}, \"y\": {\"field\": \"height\", \"type\": \"quantitative\"}}, \"height\": 150, \"title\": \"Sunny, midwinter day (2023-02-11)\", \"width\": 200}, {\"data\": {\"url\": \"altair-data-589ba2652bfe0005b2c85fd3da0c7fb7.json\", \"format\": {\"type\": \"json\"}}, \"mark\": {\"type\": \"line\"}, \"encoding\": {\"color\": {\"field\": \"hour\", \"scale\": {\"scheme\": \"rainbow\"}, \"type\": \"ordinal\"}, \"x\": {\"field\": \"value\", \"sort\": \"-y\", \"title\": \"Potential virtual temperature (\\u02daC)\", \"type\": \"quantitative\"}, \"y\": {\"field\": \"height\", \"type\": \"quantitative\"}}, \"height\": 150, \"title\": \"Sunny, spring day (2023-03-28)\", \"width\": 200}]}], \"resolve\": {\"scale\": {\"color\": \"independent\", \"x\": \"shared\"}}, \"$schema\": \"https://vega.github.io/schema/vega-lite/v5.16.3.json\"}, {\"mode\": \"vega-lite\"});\n",
       "</script>"
      ],
      "text/plain": [
       "alt.VConcatChart(...)"
      ]
     },
     "execution_count": 90,
     "metadata": {},
     "output_type": "execute_result"
    }
   ],
   "source": [
    "seasonal_conditions_figure = (\n",
    "    (daily_sub_chart & tempgrad_hovmoller_plot).resolve_scale(color='independent', x='shared')\n",
    "    &\n",
    "    profiles_chart\n",
    ")\n",
    "seasonal_conditions_figure.save(\"seasonal_conditions_figure.png\", ppi=200)\n",
    "seasonal_conditions_figure"
   ]
  },
  {
   "cell_type": "markdown",
   "metadata": {},
   "source": [
    "# Calculate how frequently blowing snow occurred"
   ]
  },
  {
   "cell_type": "code",
   "execution_count": 20,
   "metadata": {},
   "outputs": [
    {
     "data": {
      "text/plain": [
       "['SF_avg_1m_ue', 'SF_avg_2m_ue']"
      ]
     },
     "execution_count": 20,
     "metadata": {},
     "output_type": "execute_result"
    }
   ],
   "source": [
    "[v for v in tidy_df_5Min.variable.unique() if v.startswith('SF')] "
   ]
  },
  {
   "cell_type": "code",
   "execution_count": 21,
   "metadata": {},
   "outputs": [],
   "source": [
    "# calculate blowing snow flux as the sum of the two sensors, \n",
    "blowing_snow_src = tidy_df_5Min[\n",
    "    tidy_df_5Min.variable.isin(['SF_avg_2m_ue', 'SF_avg_1m_ue'])\n",
    "].pivot(\n",
    "    columns = 'variable',\n",
    "    index = 'time',\n",
    "    values = ['value']\n",
    ")\n",
    "\n",
    "blowing_snow_src.columns = blowing_snow_src.columns.droplevel(0)\n",
    "blowing_snow_src['SF_avg_ue'] = blowing_snow_src['SF_avg_1m_ue'] + blowing_snow_src['SF_avg_2m_ue']"
   ]
  },
  {
   "cell_type": "code",
   "execution_count": 22,
   "metadata": {},
   "outputs": [
    {
     "name": "stdout",
     "output_type": "stream",
     "text": [
      "Blowing snow occurred 13.2% of the time\n"
     ]
    }
   ],
   "source": [
    "fraction_time_with_blowing_snow = len( \n",
    "    blowing_snow_src.query(\"SF_avg_ue > 0\")\n",
    ") / len(\n",
    "    blowing_snow_src\n",
    ")\n",
    "\n",
    "print(f\"Blowing snow occurred {round(fraction_time_with_blowing_snow*100, 1)}% of the time\")"
   ]
  },
  {
   "cell_type": "markdown",
   "metadata": {},
   "source": [
    "# Calculate how much sublimation occurred during blowing snow"
   ]
  },
  {
   "cell_type": "code",
   "execution_count": 23,
   "metadata": {},
   "outputs": [
    {
     "name": "stdout",
     "output_type": "stream",
     "text": [
      "13.348985834641578 20.271787800239053\n",
      "39.7 60.3\n"
     ]
    }
   ],
   "source": [
    "times_with_blowing_snow = blowing_snow_src.query(\"SF_avg_ue > 0\").index.values\n",
    "\n",
    "min_lh_fluxes_during_bs = tidy_df_5Min.query(\"variable == 'w_h2o__3m_c'\")\n",
    "min_lh_fluxes_during_bs = min_lh_fluxes_during_bs[min_lh_fluxes_during_bs.time.isin(times_with_blowing_snow)]\n",
    "min_lh_fluxes_no_bs = tidy_df_5Min.query(\"variable == 'w_h2o__3m_c'\")\n",
    "min_lh_fluxes_no_bs = min_lh_fluxes_no_bs[ ~ min_lh_fluxes_no_bs.time.isin(times_with_blowing_snow)]\n",
    "\n",
    "mm_sublimation_during_bs = (min_lh_fluxes_during_bs['value']*seconds_per_5min / metpy.constants.density_water.magnitude).sum()\n",
    "mm_sublimation_no_bs = (min_lh_fluxes_no_bs['value']*seconds_per_5min / metpy.constants.density_water.magnitude).sum()\n",
    "mm_sublimation_total = (mm_sublimation_during_bs + mm_sublimation_no_bs)\n",
    "\n",
    "print(mm_sublimation_during_bs, mm_sublimation_no_bs)\n",
    "print(\n",
    "    round(100*mm_sublimation_during_bs/mm_sublimation_total, 1), \n",
    "    round(100*mm_sublimation_no_bs/mm_sublimation_total, 1)\n",
    ")\n"
   ]
  },
  {
   "cell_type": "markdown",
   "metadata": {},
   "source": [
    "# Calculate how frequently different stability regimes occurred"
   ]
  },
  {
   "cell_type": "markdown",
   "metadata": {},
   "source": [
    "## Using static stability, $\\frac{d\\theta_v}{dz}$ at 3m "
   ]
  },
  {
   "cell_type": "code",
   "execution_count": 24,
   "metadata": {},
   "outputs": [],
   "source": [
    "def temp_gradient_to_stability_regime(x, threshold = 0.01):\n",
    "    if np.isnan(x):\n",
    "        return None\n",
    "    elif x < -threshold:\n",
    "        return \"unstable\"\n",
    "    elif x >= -threshold and x <= threshold:\n",
    "        return \"neutral\"\n",
    "    elif x > threshold:\n",
    "        return \"stable\"\n",
    "    else:\n",
    "        raise ValueError(\"what?\")"
   ]
  },
  {
   "cell_type": "code",
   "execution_count": 25,
   "metadata": {},
   "outputs": [
    {
     "name": "stdout",
     "output_type": "stream",
     "text": [
      "stab_regime_3m_c\n",
      "stable      0.853278\n",
      "neutral     0.093417\n",
      "unstable    0.053305\n",
      "Name: count, dtype: float64\n"
     ]
    }
   ],
   "source": [
    "# calculate blowing snow flux as the sum of the two sensors, \n",
    "stab_regimes_src = tidy_df_5Min[\n",
    "    tidy_df_5Min.variable == 'temp_gradient_3m_c'\n",
    "].pivot(\n",
    "    columns = 'variable',\n",
    "    index = 'time',\n",
    "    values = ['value']\n",
    ")\n",
    "\n",
    "stab_regimes_src.columns = stab_regimes_src.columns.droplevel(0)\n",
    "stab_regimes_src['stab_regime_3m_c'] = stab_regimes_src['temp_gradient_3m_c'].apply(lambda v: temp_gradient_to_stability_regime(v, 0.01))\n",
    "print(stab_regimes_src['stab_regime_3m_c'].value_counts()/len(stab_regimes_src['stab_regime_3m_c'].dropna()))"
   ]
  },
  {
   "cell_type": "markdown",
   "metadata": {},
   "source": [
    "## Using dynamic stability, $Ri$"
   ]
  },
  {
   "cell_type": "code",
   "execution_count": 26,
   "metadata": {},
   "outputs": [],
   "source": [
    "def ri_to_stability_regime(x, unstable_threshold = -0.01, stable_threshold=0.25):\n",
    "    if np.isnan(x):\n",
    "        return None\n",
    "    elif x < unstable_threshold:\n",
    "        return \"unstable\"\n",
    "    elif x >= unstable_threshold and x <= stable_threshold:\n",
    "        return \"neutral\"\n",
    "    elif x > stable_threshold:\n",
    "        return \"stable\"\n",
    "    else:\n",
    "        raise ValueError(\"what?\")"
   ]
  },
  {
   "cell_type": "code",
   "execution_count": 27,
   "metadata": {},
   "outputs": [
    {
     "name": "stdout",
     "output_type": "stream",
     "text": [
      "stab_regime_3m_c\n",
      "neutral     0.612439\n",
      "unstable    0.234840\n",
      "stable      0.152721\n",
      "Name: count, dtype: float64\n"
     ]
    }
   ],
   "source": [
    "# calculate blowing snow flux as the sum of the two sensors, \n",
    "dynamicstab_regimes_src = tidy_df_5Min[\n",
    "    tidy_df_5Min.variable == 'Ri_3m_c'\n",
    "].pivot(\n",
    "    columns = 'variable',\n",
    "    index = 'time',\n",
    "    values = ['value']\n",
    ")\n",
    "\n",
    "dynamicstab_regimes_src.columns = dynamicstab_regimes_src.columns.droplevel(0)\n",
    "dynamicstab_regimes_src['stab_regime_3m_c'] = dynamicstab_regimes_src['Ri_3m_c'].apply(lambda v: ri_to_stability_regime(v, 0.01))\n",
    "print(dynamicstab_regimes_src['stab_regime_3m_c'].value_counts()/len(dynamicstab_regimes_src['stab_regime_3m_c'].dropna()))"
   ]
  },
  {
   "cell_type": "markdown",
   "metadata": {},
   "source": [
    "# Calculate how much sublimation occured during different stability regimes"
   ]
  },
  {
   "cell_type": "markdown",
   "metadata": {},
   "source": [
    "## static stability"
   ]
  },
  {
   "cell_type": "code",
   "execution_count": 28,
   "metadata": {},
   "outputs": [],
   "source": [
    "times_w_stable = stab_regimes_src.query(\"stab_regime_3m_c == 'stable'\").index.values\n",
    "times_w_unstable = stab_regimes_src.query(\"stab_regime_3m_c == 'unstable'\").index.values\n",
    "times_w_neutral = stab_regimes_src.query(\"stab_regime_3m_c == 'neutral'\").index.values\n",
    "\n",
    "lhfluxes = tidy_df_5Min.query(\"variable == 'w_h2o__3m_c'\")\n",
    "\n",
    "lhdluxes_stable = lhfluxes[lhfluxes.time.isin(times_w_stable)]\n",
    "lhdluxes_unstable = lhfluxes[lhfluxes.time.isin(times_w_unstable)]\n",
    "lhdluxes_neutral = lhfluxes[lhfluxes.time.isin(times_w_neutral)]"
   ]
  },
  {
   "cell_type": "code",
   "execution_count": 29,
   "metadata": {},
   "outputs": [
    {
     "name": "stdout",
     "output_type": "stream",
     "text": [
      "stable neutral unstable\n",
      "26.055035403221613 4.8443805655192715 2.692294190739356\n",
      "0.7756388489756115 0.14421357360253634 0.08014757742185202\n"
     ]
    }
   ],
   "source": [
    "mm_sublimation_stable = (lhdluxes_stable['value']*seconds_per_5min / metpy.constants.density_water.magnitude).sum()\n",
    "mm_sublimation_unstable = (lhdluxes_unstable['value']*seconds_per_5min / metpy.constants.density_water.magnitude).sum()\n",
    "mm_sublimation_neutral = (lhdluxes_neutral['value']*seconds_per_5min / metpy.constants.density_water.magnitude).sum()\n",
    "mm_sublimation_total = mm_sublimation_stable + mm_sublimation_unstable + mm_sublimation_neutral\n",
    "print('stable', 'neutral', 'unstable')\n",
    "print(mm_sublimation_stable, mm_sublimation_neutral, mm_sublimation_unstable)\n",
    "print(\n",
    "    mm_sublimation_stable/mm_sublimation_total, \n",
    "    mm_sublimation_neutral/mm_sublimation_total,\n",
    "    mm_sublimation_unstable/mm_sublimation_total, \n",
    ")"
   ]
  },
  {
   "cell_type": "markdown",
   "metadata": {},
   "source": [
    "# dynamic stability"
   ]
  },
  {
   "cell_type": "code",
   "execution_count": 30,
   "metadata": {},
   "outputs": [],
   "source": [
    "times_w_stable = dynamicstab_regimes_src.query(\"stab_regime_3m_c == 'stable'\").index.values\n",
    "times_w_unstable = dynamicstab_regimes_src.query(\"stab_regime_3m_c == 'unstable'\").index.values\n",
    "times_w_neutral = dynamicstab_regimes_src.query(\"stab_regime_3m_c == 'neutral'\").index.values\n",
    "\n",
    "lhfluxes = tidy_df_5Min.query(\"variable == 'w_h2o__3m_c'\")\n",
    "\n",
    "lhdluxes_stable = lhfluxes[lhfluxes.time.isin(times_w_stable)]\n",
    "lhdluxes_unstable = lhfluxes[lhfluxes.time.isin(times_w_unstable)]\n",
    "lhdluxes_neutral = lhfluxes[lhfluxes.time.isin(times_w_neutral)]"
   ]
  },
  {
   "cell_type": "code",
   "execution_count": 31,
   "metadata": {},
   "outputs": [
    {
     "name": "stdout",
     "output_type": "stream",
     "text": [
      "stable neutral unstable\n",
      "1.5833290634158381 14.668541315411378 17.324080645770184\n",
      "0.04715664084260509 0.43687642100339474 0.5159669381540001\n"
     ]
    }
   ],
   "source": [
    "mm_sublimation_stable = (lhdluxes_stable['value']*seconds_per_5min / metpy.constants.density_water.magnitude).sum()\n",
    "mm_sublimation_unstable = (lhdluxes_unstable['value']*seconds_per_5min / metpy.constants.density_water.magnitude).sum()\n",
    "mm_sublimation_neutral = (lhdluxes_neutral['value']*seconds_per_5min / metpy.constants.density_water.magnitude).sum()\n",
    "mm_sublimation_total = mm_sublimation_stable + mm_sublimation_unstable + mm_sublimation_neutral\n",
    "print('stable', 'neutral', 'unstable')\n",
    "print(mm_sublimation_stable, mm_sublimation_neutral, mm_sublimation_unstable)\n",
    "print(\n",
    "    mm_sublimation_stable/mm_sublimation_total, \n",
    "    mm_sublimation_neutral/mm_sublimation_total,\n",
    "    mm_sublimation_unstable/mm_sublimation_total, \n",
    ")"
   ]
  },
  {
   "cell_type": "code",
   "execution_count": null,
   "metadata": {},
   "outputs": [],
   "source": []
  }
 ],
 "metadata": {
  "kernelspec": {
   "display_name": "arm",
   "language": "python",
   "name": "python3"
  },
  "language_info": {
   "codemirror_mode": {
    "name": "ipython",
    "version": 3
   },
   "file_extension": ".py",
   "mimetype": "text/x-python",
   "name": "python",
   "nbconvert_exporter": "python",
   "pygments_lexer": "ipython3",
   "version": "3.12.1"
  }
 },
 "nbformat": 4,
 "nbformat_minor": 2
}
