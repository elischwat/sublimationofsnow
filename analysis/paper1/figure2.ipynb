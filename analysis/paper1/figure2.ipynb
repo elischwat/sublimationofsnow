{
 "cells": [
  {
   "cell_type": "code",
   "execution_count": null,
   "metadata": {},
   "outputs": [],
   "source": [
    "import pandas as pd\n",
    "import numpy as np\n",
    "import altair as alt\n",
    "alt.data_transformers.enable('json')\n",
    "import datetime as dt\n",
    "from sublimpy import utils\n",
    "import pytz"
   ]
  },
  {
   "cell_type": "markdown",
   "metadata": {},
   "source": [
    "# Open SOS Measurement Dataset"
   ]
  },
  {
   "cell_type": "code",
   "execution_count": null,
   "metadata": {},
   "outputs": [],
   "source": [
    "ls -lah | grep parquet"
   ]
  },
  {
   "cell_type": "code",
   "execution_count": null,
   "metadata": {},
   "outputs": [],
   "source": [
    "start_date = '20221130'\n",
    "end_date = '20230509'\n",
    "# end_date = '20230619'\n",
    "# open files\n",
    "tidy_df = pd.read_parquet(f'tidy_df_{start_date}_{end_date}_noplanar_fit.parquet')"
   ]
  },
  {
   "cell_type": "code",
   "execution_count": null,
   "metadata": {},
   "outputs": [],
   "source": [
    "tidy_df = utils.modify_df_timezone(\n",
    "    tidy_df,\n",
    "    pytz.UTC,\n",
    "    'US/Mountain',   \n",
    ")\n",
    "tidy_df = tidy_df.set_index('time').sort_index().loc[start_date:end_date].reset_index()"
   ]
  },
  {
   "cell_type": "code",
   "execution_count": null,
   "metadata": {},
   "outputs": [],
   "source": [
    "# quick way to get variable info if we want it \n",
    "# import xarray as xr\n",
    "# ds = xr.open_dataset(\"/storage/elilouis/sublimationofsnow/sosnoqc/isfs_20221228.nc\")\n",
    "# ds['SWE_p2_c']"
   ]
  },
  {
   "cell_type": "markdown",
   "metadata": {},
   "source": [
    "# Make plot showing cumulative sublimation"
   ]
  },
  {
   "cell_type": "code",
   "execution_count": null,
   "metadata": {},
   "outputs": [],
   "source": [
    "seconds_in_timestep = 60*30\n",
    "from metpy.constants import density_water"
   ]
  },
  {
   "cell_type": "code",
   "execution_count": null,
   "metadata": {},
   "outputs": [],
   "source": [
    "measured_results_mm = tidy_df[tidy_df.variable.isin([\n",
    "    'w_h2o__2m_c',\n",
    "    'w_h2o__3m_c',\n",
    "    'w_h2o__5m_c',\n",
    "    'w_h2o__10m_c',\n",
    "    'w_h2o__15m_c',\n",
    "    'w_h2o__20m_c',\n",
    "\n",
    "    'w_h2o__3m_ue',\n",
    "    'w_h2o__10m_ue',\n",
    "\n",
    "    'w_h2o__3m_uw',\n",
    "    'w_h2o__10m_uw',\n",
    "\n",
    "    'w_h2o__3m_d',\n",
    "    'w_h2o__10m_d',\n",
    "])][\n",
    "    ['time', 'value', 'variable']\n",
    "]\n",
    "measured_results_mm.columns = ['time', 'measured', 'variable']\n",
    "measured_results_mm = measured_results_mm.pivot(\n",
    "    index = 'time',\n",
    "    columns = 'variable',\n",
    "    values = 'measured'\n",
    ")\n",
    "# convert to mm\n",
    "measured_results_mm = measured_results_mm*seconds_in_timestep/density_water.magnitude\n",
    "measured_results_cumsum = measured_results_mm.cumsum().reset_index()\n",
    "measured_results_cumsum = measured_results_cumsum.melt(id_vars='time')\n",
    "measured_results_cumsum['height'] = measured_results_cumsum['variable'].apply(lambda s: int(s.split('__')[1].split('m')[0]))\n",
    "measured_results_cumsum['tower'] = measured_results_cumsum['variable'].apply(lambda s: s.split('__')[1].split('_')[-1])\n",
    "measured_results_cumsum['tower-height'] = measured_results_cumsum['tower'] + '-' + measured_results_cumsum['height'].astype('str')\n",
    "measured_results_cumsum\n",
    "\n",
    "\n",
    "measured_results_cumsum"
   ]
  },
  {
   "cell_type": "code",
   "execution_count": null,
   "metadata": {},
   "outputs": [],
   "source": [
    "rnet_chart_with_axis = alt.Chart(\n",
    "    tidy_df.query(\"variable == 'Rnet_9m_d'\")\n",
    ").transform_window(\n",
    "    frame = [-12, 12],\n",
    "    rolling_mean = 'mean(value)'\n",
    ").mark_line(opacity=0.5).encode(\n",
    "    alt.X(\"time:T\"),\n",
    "    alt.Y(\"rolling_mean:Q\").title([\"Net radiation\", \"(W/m^2)\"])\n",
    ")\n",
    "rnet_chart_with_axis"
   ]
  },
  {
   "cell_type": "code",
   "execution_count": null,
   "metadata": {},
   "outputs": [],
   "source": [
    "rnet_chart = alt.Chart(\n",
    "    tidy_df.query(\"variable == 'Rnet_9m_d'\")\n",
    ").transform_window(\n",
    "    frame = [-12, 12],\n",
    "    rolling_mean = 'mean(value)'\n",
    ").mark_line(opacity=0.5).encode(\n",
    "    alt.X(\"time:T\").axis(labels=False).title(None),\n",
    "    alt.Y(\"rolling_mean:Q\").title([\"Net radiation\", \"(W/m²)\"])\n",
    ")\n",
    "rnet_chart\n"
   ]
  },
  {
   "cell_type": "code",
   "execution_count": null,
   "metadata": {},
   "outputs": [],
   "source": [
    "tidy_df.query(\"measurement == 'SWE'\").groupby('variable')['value'].max()"
   ]
  },
  {
   "cell_type": "code",
   "execution_count": null,
   "metadata": {},
   "outputs": [],
   "source": [
    "snowpillow_chart = alt.Chart(\n",
    "    tidy_df.query(\"variable == 'SWE_p2_c'\").dropna()\n",
    ").transform_window(\n",
    "    frame = [-48, 48],\n",
    "    rolling_median = 'median(value)'\n",
    ").mark_line(color='black').encode(\n",
    "    alt.X(\"time:T\").axis(labels=False).title(None),\n",
    "    alt.Y(\"rolling_median:Q\").title([\"Snow water\", \"equivalent (mm)\"])\n",
    ").properties(height = 83)\n",
    "snowpillow_chart"
   ]
  },
  {
   "cell_type": "code",
   "execution_count": null,
   "metadata": {},
   "outputs": [],
   "source": [
    "src = measured_results_cumsum.dropna()\n",
    "src = src[src.time <= '20230509']\n",
    "alt.Chart(src).transform_filter(\n",
    "    alt.datum.height > 1\n",
    ").mark_line(strokeWidth=1.5).transform_window(\n",
    "    rolling_median = \"median(value)\",\n",
    "    groupby = [\"height\", \"tower-height\"],\n",
    "    frame=[-2,2]\n",
    ").encode(\n",
    "    alt.X(\"time:T\"),\n",
    "    alt.Y(\"rolling_median:Q\").title(\"Cumulative sublimation (mm)\"),\n",
    "    alt.Color(\"height:O\").scale(scheme = 'turbo'),\n",
    "    detail = \"tower-height\"\n",
    ")"
   ]
  },
  {
   "cell_type": "code",
   "execution_count": null,
   "metadata": {},
   "outputs": [],
   "source": [
    "cum_sub_chart = alt.Chart(measured_results_cumsum.dropna()).transform_filter(\n",
    "    alt.datum.height > 1\n",
    ").mark_line(strokeWidth=1.5).transform_window(\n",
    "    rolling_median = \"median(value)\",\n",
    "    groupby = [\"height\", \"tower-height\"],\n",
    "    frame=[-2,2]\n",
    ").encode(\n",
    "    alt.X(\"time:T\"),\n",
    "    alt.Y(\"rolling_median:Q\").title(\"Cumulative sublimation (mm)\"),\n",
    "    alt.Color(\"height:O\").scale(scheme = 'turbo'),\n",
    "    detail = \"tower-height\"\n",
    ")\n",
    "\n",
    "cum_sub_chart_no_xaxislabels = alt.Chart(measured_results_cumsum.dropna()).transform_filter(\n",
    "    alt.datum.height > 1\n",
    ").mark_line(strokeWidth=1.5).transform_window(\n",
    "    rolling_median = \"median(value)\",\n",
    "    groupby = [\"height\", \"tower-height\"],\n",
    "    frame=[-2,2]\n",
    ").encode(\n",
    "    alt.X(\"time:T\").axis(labels=False).title(None),\n",
    "    alt.Y(\"rolling_median:Q\").title(\"Cumulative sublimation (mm)\"),\n",
    "    alt.Color(\"height:O\").scale(scheme = 'turbo'),\n",
    "    detail = \"tower-height\"\n",
    ")"
   ]
  },
  {
   "cell_type": "code",
   "execution_count": null,
   "metadata": {},
   "outputs": [],
   "source": [
    "cum_sub_and_snowpack_swe_chart = (snowpillow_chart & cum_sub_chart).resolve_scale(\n",
    "    x='shared', y='independent', color='independent'\n",
    ")\n",
    "\n",
    "cum_sub_and_snowpack_swe_chart.save(\"cum-sub-and-snowpack-swe.png\", ppi=200)\n",
    "cum_sub_and_snowpack_swe_chart"
   ]
  },
  {
   "cell_type": "code",
   "execution_count": null,
   "metadata": {},
   "outputs": [],
   "source": [
    "alt.Chart(measured_results_cumsum.dropna()).transform_filter(\n",
    "    alt.datum.height > 1\n",
    ").mark_line(strokeWidth=1.5).transform_window(\n",
    "    rolling_median = \"median(value)\",\n",
    "    groupby = [\"height\", \"tower-height\"],\n",
    "    frame=[-2,2]\n",
    ").encode(\n",
    "    alt.X(\"time:T\"),\n",
    "    alt.Y(\"rolling_median:Q\").title(\"Cumulative sublimation (mm)\"),\n",
    "    alt.Color(\"height:O\").scale(scheme = 'turbo'),\n",
    "    detail = \"tower-height\"\n",
    ").properties(width=1000).interactive()"
   ]
  },
  {
   "cell_type": "code",
   "execution_count": null,
   "metadata": {},
   "outputs": [],
   "source": [
    "measured_results_mm.loc['20221221': '20221222'].sum()['w_h2o__10m_c'], \\\n",
    "measured_results_mm.loc['20221201': '20221231'].sum()['w_h2o__10m_c']"
   ]
  },
  {
   "cell_type": "code",
   "execution_count": null,
   "metadata": {},
   "outputs": [],
   "source": [
    "measured_results_mm.groupby(pd.Grouper(freq='24H')).sum().groupby(pd.Grouper(freq='1M')).mean()"
   ]
  },
  {
   "cell_type": "markdown",
   "metadata": {},
   "source": [
    "# Make plot showing daily sublimation by clear/blowing snow "
   ]
  },
  {
   "cell_type": "markdown",
   "metadata": {},
   "source": [
    "## Calculate daily sublimation"
   ]
  },
  {
   "cell_type": "code",
   "execution_count": null,
   "metadata": {},
   "outputs": [],
   "source": [
    "import metpy.constants\n",
    "seconds_per_timestep = 60*30"
   ]
  },
  {
   "cell_type": "code",
   "execution_count": null,
   "metadata": {},
   "outputs": [],
   "source": [
    "daily_sub_by_blowingsnow_src = tidy_df[\n",
    "    tidy_df.variable.isin(['w_h2o__3m_c', 'SF_avg_1m_ue', 'SF_avg_2m_ue'])\n",
    "].pivot_table(\n",
    "    values = 'value',\n",
    "    index = 'time',\n",
    "    columns = 'variable'\n",
    ")\n",
    "daily_sub_by_blowingsnow_src['SF_avg_max_ue'] = daily_sub_by_blowingsnow_src[['SF_avg_1m_ue', 'SF_avg_2m_ue']].max(axis=1)\n",
    "daily_sub_by_blowingsnow_src['blowing snow'] = daily_sub_by_blowingsnow_src['SF_avg_max_ue'] > 0\n",
    "daily_sub_by_blowingsnow_src['Sublimation (mm)'] = daily_sub_by_blowingsnow_src[\n",
    "    'w_h2o__3m_c'\n",
    "]*seconds_per_timestep / metpy.constants.density_water.magnitude# calculate daily sublimation\n",
    "daily_sub_by_blowingsnow_src = daily_sub_by_blowingsnow_src.groupby([pd.Grouper(freq='1440Min'), 'blowing snow']).sum()\n",
    "daily_sub_by_blowingsnow_src = daily_sub_by_blowingsnow_src.reset_index()\n",
    "daily_sub_by_blowingsnow_src"
   ]
  },
  {
   "cell_type": "markdown",
   "metadata": {},
   "source": [
    "## Plot"
   ]
  },
  {
   "cell_type": "code",
   "execution_count": null,
   "metadata": {},
   "outputs": [],
   "source": [
    "daily_sub_chart = alt.Chart(daily_sub_by_blowingsnow_src).mark_bar(width=2.5).encode(\n",
    "    alt.X(\"time:T\", title=None).axis(labels=False),\n",
    "    alt.Y(\"Sublimation (mm):Q\").title([\"Daily sublimation\", \"(mm)\"]), \n",
    "    alt.Color(\"blowing snow:N\").scale(domain=[True, False], range=['#000000', '#C0C0C0']),\n",
    "    tooltip='time:T'\n",
    ").properties(height = 100, width=500)"
   ]
  },
  {
   "cell_type": "code",
   "execution_count": null,
   "metadata": {},
   "outputs": [],
   "source": [
    "(daily_sub_chart).resolve_scale(y='independent').configure_axis(grid=False)"
   ]
  },
  {
   "cell_type": "markdown",
   "metadata": {},
   "source": [
    "# Make stability regime hovmoller plot"
   ]
  },
  {
   "cell_type": "markdown",
   "metadata": {},
   "source": [
    "## Using temp gradient (pot virtal temp gradient)"
   ]
  },
  {
   "cell_type": "code",
   "execution_count": null,
   "metadata": {},
   "outputs": [],
   "source": [
    "src = tidy_df.query(\"variable == 'temp_gradient_3m_c'\")\n",
    "src = src.assign(hour = src.time.dt.hour)\n",
    "src = src.assign(hour_end = src.time.dt.hour + 1)\n",
    "src = src.assign(start_date = src.time.apply(lambda dt_p: dt_p.replace(hour=0,minute=0,second=0)))\n",
    "src = src.assign(end_date = src.time.apply(lambda dt_p: dt_p.replace(hour=0,minute=0,second=0) + dt.timedelta(hours=24)))\n",
    "src = src.groupby([\n",
    "    'hour',\n",
    "    'hour_end',\n",
    "    'start_date',\n",
    "    'end_date',\n",
    "])[['value']].median().reset_index()\n",
    "\n",
    "# this makes it easy to make a custom colorscale with \n",
    "# negative values as a drastically different color\n",
    "# round for values that are equal to or greater than 0 (stable cases)\n",
    "stable_src = src[src.value >= -0.01]\n",
    "stable_src['value'] = stable_src['value'].round(1)\n",
    "\n",
    "unstable_src = src[src.value < -0.01]\n",
    "unstable_src['value'] = -0.1\n",
    "\n",
    "src = pd.concat([stable_src, unstable_src])"
   ]
  },
  {
   "cell_type": "code",
   "execution_count": null,
   "metadata": {},
   "outputs": [],
   "source": [
    "domain = np.linspace(-0.1,0.8, 10).round(1)\n",
    "range = [\n",
    "    '#ff2600', #red\n",
    "    '#ffffff', #blue scale, increasinlgy blue\n",
    "    '#e6ebfc',\n",
    "    '#cbd8f9',\n",
    "    '#aec4f6',\n",
    "    '#90b0f4',\n",
    "    '#7199f3',\n",
    "    '#4f80f2',\n",
    "    '#2a62f4',\n",
    "    '#0433ff',    \n",
    "]\n",
    "tempgrad_hovmoller_plot = alt.Chart(src.dropna()).mark_rect().encode(\n",
    "        alt.X(\"start_date:T\").title(\"date\"),\n",
    "        alt.X2(\"end_date:T\"),\n",
    "        alt.Y(\"hour:Q\").title(['hour of day']).scale(reverse=True).axis(values=[0,6,12,18,24]),\n",
    "        alt.Y2(\"hour_end:Q\"),\n",
    "        alt.Color(\"value:O\").scale(domain=domain, range=range).title(['Static Stability', '(dθᵥ /dz, ˚C/m)'])\n",
    ").properties(height = 100, width=500)\n",
    "tempgrad_hovmoller_plot"
   ]
  },
  {
   "cell_type": "markdown",
   "metadata": {},
   "source": [
    "## Using Ri_3m_c"
   ]
  },
  {
   "cell_type": "code",
   "execution_count": null,
   "metadata": {},
   "outputs": [],
   "source": [
    "src = tidy_df.query(\"variable == 'Ri_3m_c'\")\n",
    "src = src.assign(hour = src.time.dt.hour)\n",
    "src = src.assign(hour_end = src.time.dt.hour + 1)\n",
    "src = src.assign(start_date = src.time.apply(lambda dt_p: dt_p.replace(hour=0,minute=0,second=0)))\n",
    "src = src.assign(end_date = src.time.apply(lambda dt_p: dt_p.replace(hour=0,minute=0,second=0) + dt.timedelta(hours=24)))\n",
    "src = src.groupby([\n",
    "    'hour',\n",
    "    'hour_end',\n",
    "    'start_date',\n",
    "    'end_date',\n",
    "])[['value']].median().reset_index()\n",
    "# this makes it easy to make a custom colorscale with \n",
    "# negative values as a drastically different color\n",
    "src['value'] = src['value'].round(1)"
   ]
  },
  {
   "cell_type": "code",
   "execution_count": null,
   "metadata": {},
   "outputs": [],
   "source": [
    "alt.Chart(src.dropna()).mark_rect().encode(\n",
    "        alt.X(\"start_date:T\"),\n",
    "        alt.X2(\"end_date:T\"),\n",
    "        alt.Y(\"hour:Q\"),\n",
    "        alt.Y2(\"hour_end:Q\"),\n",
    "        alt.Color(\"value:Q\").scale(scheme='blueorange', domain=[-1,1.0])\n",
    ").properties(height = 100, width=500).configure_axis(grid=False)"
   ]
  },
  {
   "cell_type": "markdown",
   "metadata": {},
   "source": [
    "## Using $\\Omega_{3m}^c$"
   ]
  },
  {
   "cell_type": "code",
   "execution_count": null,
   "metadata": {},
   "outputs": [],
   "source": [
    "src = tidy_df.query(\"variable == 'omega_3m_c'\")\n",
    "src = src.assign(hour = src.time.dt.hour)\n",
    "src = src.assign(hour_end = src.time.dt.hour + 1)\n",
    "src = src.assign(start_date = src.time.apply(lambda dt_p: dt_p.replace(hour=0,minute=0,second=0)))\n",
    "src = src.assign(end_date = src.time.apply(lambda dt_p: dt_p.replace(hour=0,minute=0,second=0) + dt.timedelta(hours=24)))\n",
    "src = src.groupby([\n",
    "    'hour',\n",
    "    'hour_end',\n",
    "    'start_date',\n",
    "    'end_date',\n",
    "])[['value']].median().reset_index()\n",
    "# this makes it easy to make a custom colorscale with \n",
    "# negative values as a drastically different color\n",
    "src['value'] = src['value'].round(1)"
   ]
  },
  {
   "cell_type": "code",
   "execution_count": null,
   "metadata": {},
   "outputs": [],
   "source": [
    "alt.Chart(src.dropna()).mark_rect().encode(\n",
    "        alt.X(\"start_date:T\"),\n",
    "        alt.X2(\"end_date:T\"),\n",
    "        alt.Y(\"hour:Q\"),\n",
    "        alt.Y2(\"hour_end:Q\"),\n",
    "        alt.Color(\"value:Q\").scale(scheme='blueorange', domain=[0, .86], clamp=True),\n",
    ").properties(height = 100, width=500).configure_axis(grid=False)"
   ]
  },
  {
   "cell_type": "code",
   "execution_count": null,
   "metadata": {},
   "outputs": [],
   "source": [
    "src = tidy_df[tidy_df.variable.isin([\n",
    "    'omega_3m_c',\n",
    "    'Ri_3m_c',\n",
    "    'temp_gradient_3m_c',\n",
    "])][['time', 'variable', 'value']].pivot(index='time', columns='variable')\n",
    "src.columns = src.columns.droplevel(0)\n",
    "\n",
    "coupled_rule = alt.Chart(pd.DataFrame({'x':[0.43]})).mark_rule().encode(y='x')\n",
    "\n",
    "base_chart = alt.Chart(\n",
    "    src.groupby(pd.Grouper(freq='60Min')).median()\n",
    ").mark_circle(\n",
    "    size=5,\n",
    "    opacity=0.25\n",
    ")\n",
    "alt.Chart(\n",
    "    src.groupby(pd.Grouper(freq='60Min')).median()\n",
    ").mark_circle(\n",
    "    size=10,\n",
    "    opacity=0.25\n",
    ").properties(width = 200, height = 200)\n",
    "omega_yaxis = alt.Y('omega_3m_c:Q').scale(domain=[0,5], clamp=True)\n",
    "ri_xaxis = alt.X(\"Ri_3m_c:Q\").scale(domain=[-0.5,0.5], clamp=True)\n",
    "\n",
    "omega_vs_ri = base_chart.encode(\n",
    "    ri_xaxis,\n",
    "    omega_yaxis,\n",
    ") + coupled_rule\n",
    "tempgrad_vs_ri = base_chart.encode(\n",
    "    ri_xaxis,\n",
    "    alt.Y('temp_gradient_3m_c:Q'),\n",
    ")\n",
    "omega_vs_tempgrad = base_chart.encode(\n",
    "    alt.X(\"temp_gradient_3m_c:Q\"),\n",
    "    omega_yaxis,\n",
    ") + coupled_rule\n",
    "omega_vs_ri | tempgrad_vs_ri | omega_vs_tempgrad"
   ]
  },
  {
   "cell_type": "markdown",
   "metadata": {},
   "source": [
    "# Make stability regime time series plot"
   ]
  },
  {
   "cell_type": "code",
   "execution_count": null,
   "metadata": {},
   "outputs": [],
   "source": [
    "def temp_gradient_to_stability_regime(x):\n",
    "    if np.isnan(x):\n",
    "        return None\n",
    "    elif x < -0.01:\n",
    "        return \"unstable\"\n",
    "    elif x >= -0.01 and x <= 0.01:\n",
    "        return \"neutral\"\n",
    "    elif x > 0.01:\n",
    "        return \"stable\"\n",
    "    else:\n",
    "        raise ValueError(\"what?\")\n",
    "src = tidy_df.query(\"variable == 'temp_gradient_3m_c'\")\n",
    "src['date'] = src.time.dt.date\n",
    "src[src.time.dt.hour.isin([0,1])]\n",
    "src_day = src[src.time.dt.hour.isin([12,13])].assign(time_of_day = 'day')\n",
    "src_night = src[src.time.dt.hour.isin([0,1])].assign(time_of_day = 'night')\n",
    "src = pd.concat([src_day, src_night])\n",
    "src = src.groupby(['date', 'time_of_day']).mean(numeric_only=True).reset_index()\n",
    "src['stability regime'] = src['value'].apply(temp_gradient_to_stability_regime)"
   ]
  },
  {
   "cell_type": "code",
   "execution_count": null,
   "metadata": {},
   "outputs": [],
   "source": [
    "stability_regime_chart = alt.Chart(src).mark_bar().encode(\n",
    "    alt.X(\"date:T\"),\n",
    "    alt.Color(\"stability regime:N\").scale(domain = ['neutral', 'stable', 'unstable'], range=['#000000', '#1f77b4', '#ff7f0e']  ),\n",
    "    alt.Y(\"time_of_day:N\", sort=['night', 'day'], title=None)\n",
    ").properties(width = 500)"
   ]
  },
  {
   "cell_type": "code",
   "execution_count": null,
   "metadata": {},
   "outputs": [],
   "source": [
    "src = tidy_df[tidy_df.measurement.isin([\n",
    "    'virtual temperature',\n",
    "    'surface virtual temperature'\n",
    "])]\n",
    "src = src.set_index(\"time\").groupby([pd.Grouper(freq='60Min'), 'height']).mean(numeric_only=True).reset_index()\n",
    "src['hour'] = src.time.dt.hour\n",
    "src = src[src['hour']%4 == 0]\n",
    "\n",
    "def profile_chart(src):\n",
    "    return alt.Chart(src).mark_line().encode(\n",
    "        alt.X(\"value:Q\").sort('-y').title(\"Virtual temperature (˚C)\"),\n",
    "        alt.Y(\"height:Q\").title(\"height (m)\"),\n",
    "        alt.Color('hour:O').scale(scheme='rainbow')\n",
    "    ).properties(width = 200, height = 125)"
   ]
  },
  {
   "cell_type": "code",
   "execution_count": null,
   "metadata": {},
   "outputs": [],
   "source": [
    "profiles_chart = (\n",
    "    profile_chart(\n",
    "        src[\n",
    "            src.time.dt.date == dt.date(2023, 2, 11)\n",
    "        ].dropna().query(\"height != 15\")\n",
    "    ).properties(title = \"Sunny, midwinter day (2023-02-11)\")\n",
    "    |\n",
    "    profile_chart(\n",
    "        src[\n",
    "            src.time.dt.date == dt.date(2023, 3, 28)\n",
    "        ].dropna().query(\"height != 15\")\n",
    "    ).properties(title = \"Sunny, spring day (2023-03-28)\")\n",
    ")"
   ]
  },
  {
   "cell_type": "code",
   "execution_count": null,
   "metadata": {},
   "outputs": [],
   "source": [
    "seasonal_conditions_figure = (    \n",
    "    (\n",
    "        rnet_chart.properties(height = 100) & \n",
    "        daily_sub_chart & \n",
    "        tempgrad_hovmoller_plot\n",
    "    ).resolve_scale(color='independent', x='shared')\n",
    "    &\n",
    "    profiles_chart\n",
    ")\n",
    "seasonal_conditions_figure.save(\"seasonal_conditions_figure.png\", ppi=200)\n",
    "seasonal_conditions_figure"
   ]
  },
  {
   "cell_type": "code",
   "execution_count": null,
   "metadata": {},
   "outputs": [],
   "source": [
    "grad_exam_chart = (    \n",
    "    (\n",
    "        cum_sub_chart_no_xaxislabels.properties(height = 200) & \n",
    "        daily_sub_chart & \n",
    "        rnet_chart.properties(height = 75) & \n",
    "        tempgrad_hovmoller_plot\n",
    "    ).resolve_scale(color='independent', x='shared')\n",
    ").configure_legend(symbolSize=50, labelFontSize=10, rowPadding=1)\n",
    "\n",
    "grad_exam_chart.save(\"gradexam_seasonal_conditions_figure.png\", ppi=200)"
   ]
  },
  {
   "cell_type": "code",
   "execution_count": null,
   "metadata": {},
   "outputs": [],
   "source": [
    "wsc_chart = (    \n",
    "    (\n",
    "        (snowpillow_chart + cum_sub_chart_no_xaxislabels).resolve_scale(y='independent').properties(height = 200) & \n",
    "        daily_sub_chart.properties(height = 75) & \n",
    "        rnet_chart.properties(height = 75) & \n",
    "        tempgrad_hovmoller_plot\n",
    "    ).resolve_scale(color='independent', x='shared')\n",
    "    &\n",
    "    profiles_chart\n",
    ").configure_legend(symbolSize=50, labelFontSize=10, rowPadding=1)\n",
    "\n",
    "wsc_chart.save(\"../../figures/seasonal_sublimation_and_conditions.png\", ppi=200)\n",
    "wsc_chart"
   ]
  },
  {
   "cell_type": "code",
   "execution_count": null,
   "metadata": {},
   "outputs": [],
   "source": [
    "measured_results_cumsum.height.max()"
   ]
  },
  {
   "cell_type": "code",
   "execution_count": null,
   "metadata": {},
   "outputs": [],
   "source": [
    "src = measured_results_cumsum.groupby(['height', 'tower'])[['value']].max().reset_index()\n",
    "src"
   ]
  },
  {
   "cell_type": "code",
   "execution_count": null,
   "metadata": {},
   "outputs": [],
   "source": [
    "sublimation_totals_per_height_tower_chart = alt.Chart(src).mark_point(size=100).encode(\n",
    "    alt.Y(\"height:O\").sort('-y').title(\"height (m)\"),\n",
    "    alt.X(\"value:Q\").scale(zero=False).title([\"Seasonal sublimation (mm SWE)\"]),\n",
    "    # alt.Color(\"height:O\").scale(scheme='turbo').legend(columns=2),\n",
    "    alt.Shape(\"tower:N\")\n",
    ").properties(width = 150, height = 150)\n",
    "sublimation_totals_per_height_tower_chart.save('../../figures/sublimation_per_tower_and_height.png', ppi = 200)\n",
    "sublimation_totals_per_height_tower_chart"
   ]
  },
  {
   "cell_type": "code",
   "execution_count": null,
   "metadata": {},
   "outputs": [],
   "source": [
    "src = tidy_df[tidy_df.variable.isin([\n",
    "    'w_h2o__10m_c',\n",
    "    'w_h2o__10m_d',\n",
    "    'w_h2o__10m_ue',\n",
    "    'w_h2o__10m_uw',\n",
    "    'w_h2o__15m_c',\n",
    "    'w_h2o__1m_c',\n",
    "    'w_h2o__1m_d',\n",
    "    'w_h2o__1m_ue',\n",
    "    'w_h2o__1m_uw',\n",
    "    'w_h2o__20m_c',\n",
    "    'w_h2o__2_5m_uw',\n",
    "    'w_h2o__2m_c',\n",
    "    'w_h2o__2m_d',\n",
    "    'w_h2o__2m_ue',\n",
    "    'w_h2o__2m_uw',\n",
    "    'w_h2o__3m_c',\n",
    "    'w_h2o__3m_d',\n",
    "    'w_h2o__3m_ue',\n",
    "    'w_h2o__3m_uw',\n",
    "    'w_h2o__5m_c'\n",
    "])]\n"
   ]
  },
  {
   "cell_type": "code",
   "execution_count": null,
   "metadata": {},
   "outputs": [],
   "source": [
    "alt.Chart(\n",
    "    src[\n",
    "        (src.time >= '2022-12-21 1800') &\n",
    "        (src.time <= '2022-12-21 1800')\n",
    "    ].dropna()\n",
    ").mark_line(point=True).encode(\n",
    "    alt.X(\"value:Q\").sort('-y').scale(domain=[0, 0.06], clamp=True).title(\n",
    "        \"w'q' (g/m^2/s)\"\n",
    "    ),\n",
    "    alt.Y(\"height:Q\"),\n",
    "    alt.Color(\"tower:N\"),\n",
    "    alt.Facet(\"time:T\", columns=6).header(format='%H:%M')\n",
    ").properties(width = 150, height=150)"
   ]
  },
  {
   "cell_type": "code",
   "execution_count": null,
   "metadata": {},
   "outputs": [],
   "source": [
    "alt.Chart(\n",
    "    src[\n",
    "        (src.time >= '2022-12-21 1800') &\n",
    "        (src.time <= '2022-12-21 2200') \n",
    "    ].dropna()\n",
    ").mark_line(point=True).encode(\n",
    "    alt.X(\"value:Q\").sort('-y').scale(domain=[0, 0.06], clamp=True).title(\n",
    "        \"w'q' (g/m^2/s)\"\n",
    "    ),\n",
    "    alt.Y(\"height:Q\"),\n",
    "    alt.Color(\"tower:N\"),\n",
    "    alt.Facet(\"time:T\", columns=6).header(format='%H:%M')\n",
    ").properties(width = 150, height=150)"
   ]
  },
  {
   "cell_type": "code",
   "execution_count": null,
   "metadata": {},
   "outputs": [],
   "source": [
    "alt.Chart(tidy_df.query(\"variable == 'SnowDepth_c'\")).mark_line().encode(\n",
    "    alt.X(\"time:T\").title(None),\n",
    "    alt.Y(\"value:Q\").title(\"Snow depth (m)\")\n",
    ").properties(width = 150, height = 150)"
   ]
  },
  {
   "cell_type": "code",
   "execution_count": null,
   "metadata": {},
   "outputs": [],
   "source": [
    "src_swe = tidy_df[\n",
    "    tidy_df.variable.isin(['SWE_p3_c', 'SWE_p2_c', 'SWE_p1_c', 'SWE_p4_c'])\n",
    "][\n",
    "    (tidy_df.time > \"20221220 2300\") & (tidy_df.time < \"20221223 0100\")\n",
    "]\n",
    "src_swe.value = src_swe.value/1000\n",
    "\n",
    "\n",
    "src_bs = tidy_df[\n",
    "    tidy_df.variable.isin(['SF_avg_1m_ue'])\n",
    "][\n",
    "    (tidy_df.time > \"20221220 2300\") & (tidy_df.time < \"20221223 0100\")\n",
    "]\n",
    "\n",
    "\n",
    "src_lhflux = tidy_df[\n",
    "    tidy_df.variable.isin(['w_h2o__10m_c'])\n",
    "][\n",
    "    (tidy_df.time > \"20221220 2300\") & (tidy_df.time < \"20221223 0100\")\n",
    "]\n",
    "src_lhflux = src_lhflux.set_index('time')\n",
    "src_lhflux.loc[\n",
    "    \"2022-12-22 03:30:00\": \"2022-12-22 07:30:00\",\n",
    "    ['value']\n",
    "] = np.nan\n",
    "src_lhflux.loc[\n",
    "    \"2022-12-21 23:30:00\",\n",
    "    ['value']\n",
    "] = np.nan\n",
    "src_lhflux.value = src_lhflux.value.interpolate(method='cubicspline')"
   ]
  },
  {
   "cell_type": "code",
   "execution_count": 55,
   "metadata": {},
   "outputs": [
    {
     "data": {
      "text/html": [
       "\n",
       "<style>\n",
       "  #altair-viz-2a377b846763430fbbfa4988915af47e.vega-embed {\n",
       "    width: 100%;\n",
       "    display: flex;\n",
       "  }\n",
       "\n",
       "  #altair-viz-2a377b846763430fbbfa4988915af47e.vega-embed details,\n",
       "  #altair-viz-2a377b846763430fbbfa4988915af47e.vega-embed details summary {\n",
       "    position: relative;\n",
       "  }\n",
       "</style>\n",
       "<div id=\"altair-viz-2a377b846763430fbbfa4988915af47e\"></div>\n",
       "<script type=\"text/javascript\">\n",
       "  var VEGA_DEBUG = (typeof VEGA_DEBUG == \"undefined\") ? {} : VEGA_DEBUG;\n",
       "  (function(spec, embedOpt){\n",
       "    let outputDiv = document.currentScript.previousElementSibling;\n",
       "    if (outputDiv.id !== \"altair-viz-2a377b846763430fbbfa4988915af47e\") {\n",
       "      outputDiv = document.getElementById(\"altair-viz-2a377b846763430fbbfa4988915af47e\");\n",
       "    }\n",
       "    const paths = {\n",
       "      \"vega\": \"https://cdn.jsdelivr.net/npm/vega@5?noext\",\n",
       "      \"vega-lib\": \"https://cdn.jsdelivr.net/npm/vega-lib?noext\",\n",
       "      \"vega-lite\": \"https://cdn.jsdelivr.net/npm/vega-lite@5.17.0?noext\",\n",
       "      \"vega-embed\": \"https://cdn.jsdelivr.net/npm/vega-embed@6?noext\",\n",
       "    };\n",
       "\n",
       "    function maybeLoadScript(lib, version) {\n",
       "      var key = `${lib.replace(\"-\", \"\")}_version`;\n",
       "      return (VEGA_DEBUG[key] == version) ?\n",
       "        Promise.resolve(paths[lib]) :\n",
       "        new Promise(function(resolve, reject) {\n",
       "          var s = document.createElement('script');\n",
       "          document.getElementsByTagName(\"head\")[0].appendChild(s);\n",
       "          s.async = true;\n",
       "          s.onload = () => {\n",
       "            VEGA_DEBUG[key] = version;\n",
       "            return resolve(paths[lib]);\n",
       "          };\n",
       "          s.onerror = () => reject(`Error loading script: ${paths[lib]}`);\n",
       "          s.src = paths[lib];\n",
       "        });\n",
       "    }\n",
       "\n",
       "    function showError(err) {\n",
       "      outputDiv.innerHTML = `<div class=\"error\" style=\"color:red;\">${err}</div>`;\n",
       "      throw err;\n",
       "    }\n",
       "\n",
       "    function displayChart(vegaEmbed) {\n",
       "      vegaEmbed(outputDiv, spec, embedOpt)\n",
       "        .catch(err => showError(`Javascript Error: ${err.message}<br>This usually means there's a typo in your chart specification. See the javascript console for the full traceback.`));\n",
       "    }\n",
       "\n",
       "    if(typeof define === \"function\" && define.amd) {\n",
       "      requirejs.config({paths});\n",
       "      require([\"vega-embed\"], displayChart, err => showError(`Error loading script: ${err.message}`));\n",
       "    } else {\n",
       "      maybeLoadScript(\"vega\", \"5\")\n",
       "        .then(() => maybeLoadScript(\"vega-lite\", \"5.17.0\"))\n",
       "        .then(() => maybeLoadScript(\"vega-embed\", \"6\"))\n",
       "        .catch(showError)\n",
       "        .then(() => displayChart(vegaEmbed));\n",
       "    }\n",
       "  })({\"config\": {\"view\": {\"continuousWidth\": 300, \"continuousHeight\": 300}, \"axisY\": {\"titleAngle\": 0}}, \"vconcat\": [{\"data\": {\"url\": \"altair-data-ef8af6158800ac034e848e4125afb8c8.json\", \"format\": {\"type\": \"json\"}}, \"mark\": {\"type\": \"line\", \"point\": true, \"strokeWidth\": 1}, \"encoding\": {\"color\": {\"field\": \"variable\", \"sort\": [\"SWE_p3_c\", \"SWE_p2_c\", \"SWE_p4_c\", \"SWE_p1_c\"], \"type\": \"nominal\"}, \"shape\": {\"field\": \"variable\", \"sort\": [\"SWE_p3_c\", \"SWE_p2_c\", \"SWE_p4_c\", \"SWE_p1_c\"], \"type\": \"nominal\"}, \"x\": {\"axis\": {\"format\": \"%m/%d\", \"tickCount\": \"day\"}, \"field\": \"time\", \"title\": null, \"type\": \"temporal\"}, \"y\": {\"field\": \"value\", \"scale\": {\"domain\": [0.0, 0.15]}, \"title\": [\"SWE (m)\", \"from four\", \"snow\", \"pillows\"], \"type\": \"quantitative\"}}, \"height\": 75, \"width\": 150}, {\"data\": {\"url\": \"altair-data-3a8daf836c92dda6aecc1c210958fc2a.json\", \"format\": {\"type\": \"json\"}}, \"mark\": {\"type\": \"line\"}, \"encoding\": {\"x\": {\"axis\": {\"format\": \"%m/%d\", \"tickCount\": \"day\"}, \"field\": \"time\", \"title\": null, \"type\": \"temporal\"}, \"y\": {\"field\": \"value\", \"title\": [\"Horizontal\", \"blowing\", \"snow flux\", \"(g m\\u207b\\u00b2 s\\u207b\\u00b9)\"], \"type\": \"quantitative\"}}, \"height\": 75, \"width\": 150}, {\"data\": {\"url\": \"altair-data-0db46383566df4791474f272d5d9413c.json\", \"format\": {\"type\": \"json\"}}, \"mark\": {\"type\": \"line\"}, \"encoding\": {\"x\": {\"axis\": {\"format\": \"%m/%d\", \"tickCount\": \"day\"}, \"field\": \"time\", \"title\": null, \"type\": \"temporal\"}, \"y\": {\"field\": \"value\", \"title\": [\"Sublimation\", \"(g m\\u207b\\u00b2 s\\u207b\\u00b9)\", \"from Eddy\", \"Covariance\"], \"type\": \"quantitative\"}}, \"height\": 75, \"width\": 150}], \"$schema\": \"https://vega.github.io/schema/vega-lite/v5.17.0.json\"}, {\"mode\": \"vega-lite\"});\n",
       "</script>"
      ],
      "text/plain": [
       "alt.VConcatChart(...)"
      ]
     },
     "execution_count": 55,
     "metadata": {},
     "output_type": "execute_result"
    }
   ],
   "source": [
    "chart_swe = alt.Chart(\n",
    "    src_swe[(src_swe.time.dt.hour%4==0) & (src_swe.time.dt.minute == 0)]\n",
    "    #[src_swe.variable != 'SWE_p1_c']\n",
    ").mark_line(point=True, strokeWidth=1).encode(\n",
    "    alt.X(\"time:T\").title(None).axis(format='%m/%d', tickCount='day'),\n",
    "    alt.Y(\"value:Q\").title(['SWE (m)', 'from four', 'snow', 'pillows']).scale(domain = [0.00, 0.15]),\n",
    "    alt.Color(\"variable:N\").sort(['SWE_p3_c', 'SWE_p2_c', 'SWE_p4_c', 'SWE_p1_c', ]),\n",
    "    alt.Shape(\"variable:N\").sort(['SWE_p3_c', 'SWE_p2_c', 'SWE_p4_c', 'SWE_p1_c', ])\n",
    ").properties(\n",
    "    width = 150, \n",
    "    height = 75\n",
    ")\n",
    "chart_lhflux = alt.Chart(\n",
    "    src_lhflux.reset_index()\n",
    ").mark_line().encode(\n",
    "    alt.X(\"time:T\").title(None).axis(format='%m/%d', tickCount='day'),\n",
    "    alt.Y(\"value:Q\").title(['Sublimation', '(g m⁻² s⁻¹)', 'from Eddy', 'Covariance'])\n",
    ").properties(\n",
    "    width = 150, \n",
    "    height = 75\n",
    ")\n",
    "chart_bs = alt.Chart(\n",
    "    src_bs.reset_index()\n",
    ").mark_line().encode(\n",
    "    alt.X(\"time:T\").title(None).axis(format='%m/%d', tickCount='day'),\n",
    "    alt.Y(\"value:Q\").title(['Horizontal', 'blowing', 'snow flux', '(g m⁻² s⁻¹)'])\n",
    ").properties(\n",
    "    width = 150, \n",
    "    height = 75\n",
    ")\n",
    "(chart_swe & chart_bs & chart_lhflux).configure_axisY(\n",
    "    titleAngle=0\n",
    ")\n"
   ]
  },
  {
   "cell_type": "markdown",
   "metadata": {},
   "source": [
    "# Calculate how frequently blowing snow occurred"
   ]
  },
  {
   "cell_type": "code",
   "execution_count": null,
   "metadata": {},
   "outputs": [],
   "source": [
    "[v for v in tidy_df.variable.unique() if v.startswith('SF')] "
   ]
  },
  {
   "cell_type": "code",
   "execution_count": null,
   "metadata": {},
   "outputs": [],
   "source": [
    "# calculate blowing snow flux as the sum of the two sensors, \n",
    "blowing_snow_src = tidy_df[\n",
    "    tidy_df.variable.isin(['SF_avg_2m_ue', 'SF_avg_1m_ue'])\n",
    "].pivot(\n",
    "    columns = 'variable',\n",
    "    index = 'time',\n",
    "    values = ['value']\n",
    ")\n",
    "\n",
    "blowing_snow_src.columns = blowing_snow_src.columns.droplevel(0)\n",
    "blowing_snow_src['SF_avg_ue'] = blowing_snow_src['SF_avg_1m_ue'] + blowing_snow_src['SF_avg_2m_ue']"
   ]
  },
  {
   "cell_type": "markdown",
   "metadata": {},
   "source": [
    "# Calculate how much sublimation occurred during blowing snow"
   ]
  },
  {
   "cell_type": "code",
   "execution_count": null,
   "metadata": {},
   "outputs": [],
   "source": [
    "print(\"Whole Season Statistics\")\n",
    "fraction_time_with_blowing_snow = len( \n",
    "    blowing_snow_src.query(\"SF_avg_ue > 0\")\n",
    ") / len(\n",
    "    blowing_snow_src\n",
    ")\n",
    "\n",
    "print(f\"Blowing snow occurred {round(fraction_time_with_blowing_snow*100, 1)}% of the time\")\n",
    "\n",
    "times_with_blowing_snow = blowing_snow_src.query(\"SF_avg_ue > 0\").index.values\n",
    "\n",
    "min_lh_fluxes_during_bs = tidy_df.query(\"variable == 'w_h2o__3m_c'\")\n",
    "min_lh_fluxes_during_bs = min_lh_fluxes_during_bs[min_lh_fluxes_during_bs.time.isin(times_with_blowing_snow)]\n",
    "min_lh_fluxes_no_bs = tidy_df.query(\"variable == 'w_h2o__3m_c'\")\n",
    "min_lh_fluxes_no_bs = min_lh_fluxes_no_bs[ ~ min_lh_fluxes_no_bs.time.isin(times_with_blowing_snow)]\n",
    "\n",
    "mm_sublimation_during_bs = (min_lh_fluxes_during_bs['value']*seconds_per_timestep / metpy.constants.density_water.magnitude).sum()\n",
    "mm_sublimation_no_bs = (min_lh_fluxes_no_bs['value']*seconds_per_timestep / metpy.constants.density_water.magnitude).sum()\n",
    "mm_sublimation_total = (mm_sublimation_during_bs + mm_sublimation_no_bs)\n",
    "\n",
    "print(\"total sublimaton at 3m_c\")\n",
    "print(mm_sublimation_total)\n",
    "print(\"during bs sublimaton at 3m_c, not during bs\")\n",
    "print(mm_sublimation_during_bs, mm_sublimation_no_bs)\n",
    "print(\"respective percentages\")\n",
    "print(\n",
    "    round(100*mm_sublimation_during_bs/mm_sublimation_total, 1), \n",
    "    round(100*mm_sublimation_no_bs/mm_sublimation_total, 1)\n",
    ")\n"
   ]
  },
  {
   "cell_type": "code",
   "execution_count": null,
   "metadata": {},
   "outputs": [],
   "source": [
    "print(\"Pre-Spring Equinox Statistics\")\n",
    "\n",
    "fraction_time_with_blowing_snow = len( \n",
    "    blowing_snow_src[: \"20230320\"].query(\"SF_avg_ue > 0\")\n",
    ") / len(\n",
    "    blowing_snow_src[: \"20230320\"]\n",
    ")\n",
    "\n",
    "print(f\"Blowing snow occurred {round(fraction_time_with_blowing_snow*100, 1)}% of the time\")\n",
    "\n",
    "times_with_blowing_snow = blowing_snow_src[: \"20230320\"].query(\"SF_avg_ue > 0\").index.values\n",
    "\n",
    "min_lh_fluxes_during_bs = tidy_df[tidy_df.time < \"20230320\"].query(\"variable == 'w_h2o__3m_c'\")\n",
    "min_lh_fluxes_during_bs = min_lh_fluxes_during_bs[min_lh_fluxes_during_bs.time.isin(times_with_blowing_snow)]\n",
    "min_lh_fluxes_no_bs = tidy_df[tidy_df.time < \"20230320\"].query(\"variable == 'w_h2o__3m_c'\")\n",
    "min_lh_fluxes_no_bs = min_lh_fluxes_no_bs[ ~ min_lh_fluxes_no_bs.time.isin(times_with_blowing_snow)]\n",
    "\n",
    "mm_sublimation_during_bs = (min_lh_fluxes_during_bs['value']*seconds_per_timestep / metpy.constants.density_water.magnitude).sum()\n",
    "mm_sublimation_no_bs = (min_lh_fluxes_no_bs['value']*seconds_per_timestep / metpy.constants.density_water.magnitude).sum()\n",
    "mm_sublimation_total = (mm_sublimation_during_bs + mm_sublimation_no_bs)\n",
    "\n",
    "print(\"total sublimaton at 3m_c\")\n",
    "print(mm_sublimation_total)\n",
    "print(\"during bs sublimaton at 3m_c, not during bs\")\n",
    "print(mm_sublimation_during_bs, mm_sublimation_no_bs)\n",
    "print(\"respective percentages\")\n",
    "print(\n",
    "    round(100*mm_sublimation_during_bs/mm_sublimation_total, 1), \n",
    "    round(100*mm_sublimation_no_bs/mm_sublimation_total, 1)\n",
    ")\n"
   ]
  },
  {
   "cell_type": "code",
   "execution_count": null,
   "metadata": {},
   "outputs": [],
   "source": [
    "print(\"Post-Spring Equinox Statistics\")\n",
    "\n",
    "fraction_time_with_blowing_snow = len( \n",
    "    blowing_snow_src[\"20230320\": ].query(\"SF_avg_ue > 0\")\n",
    ") / len(\n",
    "    blowing_snow_src[\"20230320\": ]\n",
    ")\n",
    "\n",
    "print(f\"Blowing snow occurred {round(fraction_time_with_blowing_snow*100, 1)}% of the time\")\n",
    "\n",
    "times_with_blowing_snow = blowing_snow_src[\"20230320\": ].query(\"SF_avg_ue > 0\").index.values\n",
    "\n",
    "min_lh_fluxes_during_bs = tidy_df[tidy_df.time >= \"20230320\"].query(\"variable == 'w_h2o__3m_c'\")\n",
    "min_lh_fluxes_during_bs = min_lh_fluxes_during_bs[min_lh_fluxes_during_bs.time.isin(times_with_blowing_snow)]\n",
    "min_lh_fluxes_no_bs = tidy_df[tidy_df.time >= \"20230320\"].query(\"variable == 'w_h2o__3m_c'\")\n",
    "min_lh_fluxes_no_bs = min_lh_fluxes_no_bs[ ~ min_lh_fluxes_no_bs.time.isin(times_with_blowing_snow)]\n",
    "\n",
    "mm_sublimation_during_bs = (min_lh_fluxes_during_bs['value']*seconds_per_timestep / metpy.constants.density_water.magnitude).sum()\n",
    "mm_sublimation_no_bs = (min_lh_fluxes_no_bs['value']*seconds_per_timestep / metpy.constants.density_water.magnitude).sum()\n",
    "mm_sublimation_total = (mm_sublimation_during_bs + mm_sublimation_no_bs)\n",
    "\n",
    "print(\"total sublimaton at 3m_c\")\n",
    "print(mm_sublimation_total)\n",
    "print(\"during bs sublimaton at 3m_c, not during bs\")\n",
    "print(mm_sublimation_during_bs, mm_sublimation_no_bs)\n",
    "print(\"respective percentages\")\n",
    "print(\n",
    "    round(100*mm_sublimation_during_bs/mm_sublimation_total, 1), \n",
    "    round(100*mm_sublimation_no_bs/mm_sublimation_total, 1)\n",
    ")\n"
   ]
  },
  {
   "cell_type": "markdown",
   "metadata": {},
   "source": [
    "# Calculate how frequently different stability regimes occurred"
   ]
  },
  {
   "cell_type": "markdown",
   "metadata": {},
   "source": [
    "## Using static stability, $\\frac{d\\theta_v}{dz}$ at 3m "
   ]
  },
  {
   "cell_type": "code",
   "execution_count": null,
   "metadata": {},
   "outputs": [],
   "source": [
    "def temp_gradient_to_stability_regime(x, threshold = 0.01):\n",
    "    if np.isnan(x):\n",
    "        return None\n",
    "    elif x < -threshold:\n",
    "        return \"unstable\"\n",
    "    elif x >= -threshold and x <= threshold:\n",
    "        return \"neutral\"\n",
    "    elif x > threshold:\n",
    "        return \"stable\"\n",
    "    else:\n",
    "        raise ValueError(\"what?\")"
   ]
  },
  {
   "cell_type": "code",
   "execution_count": null,
   "metadata": {},
   "outputs": [],
   "source": [
    "# calculate blowing snow flux as the sum of the two sensors, \n",
    "stab_regimes_src = tidy_df[\n",
    "    tidy_df.variable == 'temp_gradient_3m_c'\n",
    "].pivot(\n",
    "    columns = 'variable',\n",
    "    index = 'time',\n",
    "    values = ['value']\n",
    ")\n",
    "\n",
    "stab_regimes_src.columns = stab_regimes_src.columns.droplevel(0)\n",
    "stab_regimes_src['stab_regime_3m_c'] = stab_regimes_src['temp_gradient_3m_c'].apply(lambda v: temp_gradient_to_stability_regime(v, 0.01))\n",
    "print(stab_regimes_src['stab_regime_3m_c'].value_counts()/len(stab_regimes_src['stab_regime_3m_c'].dropna()))"
   ]
  },
  {
   "cell_type": "markdown",
   "metadata": {},
   "source": [
    "## Using dynamic stability, $Ri$"
   ]
  },
  {
   "cell_type": "code",
   "execution_count": null,
   "metadata": {},
   "outputs": [],
   "source": [
    "def ri_to_stability_regime(x, unstable_threshold = -0.01, stable_threshold=0.25):\n",
    "    if np.isnan(x):\n",
    "        return None\n",
    "    elif x < unstable_threshold:\n",
    "        return \"unstable\"\n",
    "    elif x >= unstable_threshold and x <= stable_threshold:\n",
    "        return \"neutral\"\n",
    "    elif x > stable_threshold:\n",
    "        return \"stable\"\n",
    "    else:\n",
    "        raise ValueError(\"what?\")"
   ]
  },
  {
   "cell_type": "code",
   "execution_count": null,
   "metadata": {},
   "outputs": [],
   "source": [
    "# calculate blowing snow flux as the sum of the two sensors, \n",
    "dynamicstab_regimes_src = tidy_df[\n",
    "    tidy_df.variable == 'Ri_3m_c'\n",
    "].pivot(\n",
    "    columns = 'variable',\n",
    "    index = 'time',\n",
    "    values = ['value']\n",
    ")\n",
    "\n",
    "dynamicstab_regimes_src.columns = dynamicstab_regimes_src.columns.droplevel(0)\n",
    "dynamicstab_regimes_src['stab_regime_3m_c'] = dynamicstab_regimes_src['Ri_3m_c'].apply(lambda v: ri_to_stability_regime(v, 0.01))\n",
    "print(dynamicstab_regimes_src['stab_regime_3m_c'].value_counts()/len(dynamicstab_regimes_src['stab_regime_3m_c'].dropna()))"
   ]
  },
  {
   "cell_type": "markdown",
   "metadata": {},
   "source": [
    "## Using coupling parameter, $\\Omega$"
   ]
  },
  {
   "cell_type": "code",
   "execution_count": null,
   "metadata": {},
   "outputs": [],
   "source": [
    "def omega_to_coupling_regime(x, weakly_coupled_threshold = 0.43, strongly_coupled_threshold=0.61):\n",
    "    if np.isnan(x):\n",
    "        return None\n",
    "    elif x < weakly_coupled_threshold:\n",
    "        return \"uncoupled\"\n",
    "    elif x >= weakly_coupled_threshold and x <= strongly_coupled_threshold:\n",
    "        return \"weakly coupled\"\n",
    "    elif x > strongly_coupled_threshold:\n",
    "        return \"strongly coupled\"\n",
    "    else:\n",
    "        raise ValueError(\"what?\")"
   ]
  },
  {
   "cell_type": "code",
   "execution_count": null,
   "metadata": {},
   "outputs": [],
   "source": [
    "# calculate blowing snow flux as the sum of the two sensors, \n",
    "coupling_regimes_src = tidy_df[\n",
    "    tidy_df.variable == 'omega_3m_c'\n",
    "].pivot(\n",
    "    columns = 'variable',\n",
    "    index = 'time',\n",
    "    values = ['value']\n",
    ")\n",
    "\n",
    "coupling_regimes_src.columns = coupling_regimes_src.columns.droplevel(0)\n",
    "coupling_regimes_src['omega_regime_3m_c'] = coupling_regimes_src['omega_3m_c'].apply(lambda v: omega_to_coupling_regime(v))\n",
    "print(coupling_regimes_src['omega_regime_3m_c'].value_counts()/len(coupling_regimes_src['omega_regime_3m_c'].dropna()))"
   ]
  },
  {
   "cell_type": "markdown",
   "metadata": {},
   "source": [
    "# Calculate how much sublimation occured during different stability regimes"
   ]
  },
  {
   "cell_type": "markdown",
   "metadata": {},
   "source": [
    "## static stability"
   ]
  },
  {
   "cell_type": "code",
   "execution_count": null,
   "metadata": {},
   "outputs": [],
   "source": [
    "times_w_stable = stab_regimes_src.query(\"stab_regime_3m_c == 'stable'\").index.values\n",
    "times_w_unstable = stab_regimes_src.query(\"stab_regime_3m_c == 'unstable'\").index.values\n",
    "times_w_neutral = stab_regimes_src.query(\"stab_regime_3m_c == 'neutral'\").index.values\n",
    "\n",
    "lhfluxes = tidy_df.query(\"variable == 'w_h2o__3m_c'\")\n",
    "\n",
    "lhdluxes_stable = lhfluxes[lhfluxes.time.isin(times_w_stable)]\n",
    "lhdluxes_unstable = lhfluxes[lhfluxes.time.isin(times_w_unstable)]\n",
    "lhdluxes_neutral = lhfluxes[lhfluxes.time.isin(times_w_neutral)]"
   ]
  },
  {
   "cell_type": "code",
   "execution_count": null,
   "metadata": {},
   "outputs": [],
   "source": [
    "mm_sublimation_stable = (lhdluxes_stable['value']*seconds_per_timestep / metpy.constants.density_water.magnitude).sum()\n",
    "mm_sublimation_unstable = (lhdluxes_unstable['value']*seconds_per_timestep / metpy.constants.density_water.magnitude).sum()\n",
    "mm_sublimation_neutral = (lhdluxes_neutral['value']*seconds_per_timestep / metpy.constants.density_water.magnitude).sum()\n",
    "mm_sublimation_total = mm_sublimation_stable + mm_sublimation_unstable + mm_sublimation_neutral\n",
    "print('stable', 'neutral', 'unstable')\n",
    "print(mm_sublimation_stable, mm_sublimation_neutral, mm_sublimation_unstable)\n",
    "print(\n",
    "    mm_sublimation_stable/mm_sublimation_total, \n",
    "    mm_sublimation_neutral/mm_sublimation_total,\n",
    "    mm_sublimation_unstable/mm_sublimation_total, \n",
    ")\n",
    "print(mm_sublimation_total)"
   ]
  },
  {
   "cell_type": "markdown",
   "metadata": {},
   "source": [
    "# dynamic stability"
   ]
  },
  {
   "cell_type": "code",
   "execution_count": null,
   "metadata": {},
   "outputs": [],
   "source": [
    "times_w_stable = dynamicstab_regimes_src.query(\"stab_regime_3m_c == 'stable'\").index.values\n",
    "times_w_unstable = dynamicstab_regimes_src.query(\"stab_regime_3m_c == 'unstable'\").index.values\n",
    "times_w_neutral = dynamicstab_regimes_src.query(\"stab_regime_3m_c == 'neutral'\").index.values\n",
    "\n",
    "lhfluxes = tidy_df.query(\"variable == 'w_h2o__3m_c'\")\n",
    "\n",
    "lhdluxes_stable = lhfluxes[lhfluxes.time.isin(times_w_stable)]\n",
    "lhdluxes_unstable = lhfluxes[lhfluxes.time.isin(times_w_unstable)]\n",
    "lhdluxes_neutral = lhfluxes[lhfluxes.time.isin(times_w_neutral)]"
   ]
  },
  {
   "cell_type": "code",
   "execution_count": null,
   "metadata": {},
   "outputs": [],
   "source": [
    "mm_sublimation_stable = (lhdluxes_stable['value']*seconds_per_timestep / metpy.constants.density_water.magnitude).sum()\n",
    "mm_sublimation_unstable = (lhdluxes_unstable['value']*seconds_per_timestep / metpy.constants.density_water.magnitude).sum()\n",
    "mm_sublimation_neutral = (lhdluxes_neutral['value']*seconds_per_timestep / metpy.constants.density_water.magnitude).sum()\n",
    "mm_sublimation_total = mm_sublimation_stable + mm_sublimation_unstable + mm_sublimation_neutral\n",
    "print('stable', 'neutral', 'unstable')\n",
    "print(mm_sublimation_stable, mm_sublimation_neutral, mm_sublimation_unstable)\n",
    "print(\n",
    "    mm_sublimation_stable/mm_sublimation_total, \n",
    "    mm_sublimation_neutral/mm_sublimation_total,\n",
    "    mm_sublimation_unstable/mm_sublimation_total, \n",
    ")\n",
    "print(mm_sublimation_total)"
   ]
  },
  {
   "cell_type": "markdown",
   "metadata": {},
   "source": [
    "# Coupling parameter"
   ]
  },
  {
   "cell_type": "code",
   "execution_count": null,
   "metadata": {},
   "outputs": [],
   "source": [
    "times_decoupled = coupling_regimes_src.query(\"omega_regime_3m_c == 'uncoupled'\").index.values\n",
    "times_weaklycoupled = coupling_regimes_src.query(\"omega_regime_3m_c == 'weakly coupled'\").index.values\n",
    "times_coupled = coupling_regimes_src.query(\"omega_regime_3m_c == 'strongly coupled'\").index.values\n",
    "\n",
    "lhdluxes_decoupled = lhfluxes[lhfluxes.time.isin(times_decoupled)]\n",
    "lhdluxes_weaklycoupled = lhfluxes[lhfluxes.time.isin(times_weaklycoupled)]\n",
    "lhdluxes_coupled = lhfluxes[lhfluxes.time.isin(times_coupled)]"
   ]
  },
  {
   "cell_type": "code",
   "execution_count": null,
   "metadata": {},
   "outputs": [],
   "source": [
    "mm_sublimation_decoupled = (lhdluxes_decoupled['value']*seconds_per_timestep / metpy.constants.density_water.magnitude).sum()\n",
    "mm_sublimation_weaklycoupled = (lhdluxes_weaklycoupled['value']*seconds_per_timestep / metpy.constants.density_water.magnitude).sum()\n",
    "mm_sublimation_coupled = (lhdluxes_coupled['value']*seconds_per_timestep / metpy.constants.density_water.magnitude).sum()\n",
    "\n",
    "mm_sublimation_total = mm_sublimation_decoupled + mm_sublimation_weaklycoupled + mm_sublimation_coupled\n",
    "print('uncoupled', 'weakly coupled', 'strongly coupled')\n",
    "print(\n",
    "    mm_sublimation_decoupled, mm_sublimation_weaklycoupled, mm_sublimation_coupled\n",
    ")\n",
    "print(\n",
    "    mm_sublimation_decoupled/mm_sublimation_total, \n",
    "    mm_sublimation_weaklycoupled/mm_sublimation_total,\n",
    "    mm_sublimation_coupled/mm_sublimation_total, \n",
    ")\n",
    "print(mm_sublimation_total)"
   ]
  },
  {
   "cell_type": "code",
   "execution_count": null,
   "metadata": {},
   "outputs": [],
   "source": [
    "static\n",
    "stable neutral unstable\n",
    "30.0130214793065 3.8164881851337578 2.34608864842682\n",
    "0.8296482402236137 0.10549896513463593 0.0648527946417504\n",
    "36.17559831286707\n",
    "\n",
    "dynamic\n",
    "stable neutral unstable\n",
    "4.463500869073066 20.722328462239695 10.550510629803817\n",
    "0.12490089566893645 0.5798671180313069 0.2952319862997567\n",
    "35.73633996111658\n",
    "\n",
    "coupling\n",
    "uncoupled weakly coupled strongly coupled\n",
    "-0.8071439238296523 0.38557088660657446 29.636504509509173\n",
    "-0.027627787680944114 0.013197733733256748 1.0144300539476874\n",
    "29.214931472286096"
   ]
  }
 ],
 "metadata": {
  "kernelspec": {
   "display_name": "arm",
   "language": "python",
   "name": "python3"
  },
  "language_info": {
   "codemirror_mode": {
    "name": "ipython",
    "version": 3
   },
   "file_extension": ".py",
   "mimetype": "text/x-python",
   "name": "python",
   "nbconvert_exporter": "python",
   "pygments_lexer": "ipython3",
   "version": "3.1.0"
  }
 },
 "nbformat": 4,
 "nbformat_minor": 2
}
