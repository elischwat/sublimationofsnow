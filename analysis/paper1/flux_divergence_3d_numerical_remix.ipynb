{
 "cells": [
  {
   "cell_type": "code",
   "execution_count": 35,
   "metadata": {},
   "outputs": [
    {
     "ename": "",
     "evalue": "",
     "output_type": "error",
     "traceback": [
      "\u001b[1;31mThe Kernel crashed while executing code in the the current cell or a previous cell. Please review the code in the cell(s) to identify a possible cause of the failure. Click <a href='https://aka.ms/vscodeJupyterKernelCrash'>here</a> for more info. View Jupyter <a href='command:jupyter.viewOutput'>log</a> for further details."
     ]
    }
   ],
   "source": [
    "import numpy as np\n",
    "import pandas as pd\n",
    "import xarray as xr\n",
    "import matplotlib.pyplot as plt\n",
    "import altair as alt\n",
    "alt.data_transformers.enable('json')\n",
    "alt.renderers.enable('jupyterlab')\n",
    "from sublimpy import tidy, utils\n",
    "import pytz\n",
    "import datetime as dt\n",
    "\n",
    "seconds_in_timestep = 60*30\n",
    "from metpy.constants import density_water\n",
    "\n",
    "from metpy.units import units\n",
    "import pint_pandas\n",
    "from metpy import constants\n",
    "from scipy import interpolate\n",
    "np.set_printoptions(suppress=True,precision=10)"
   ]
  },
  {
   "cell_type": "markdown",
   "metadata": {},
   "source": [
    "# Parameters for calculations"
   ]
  },
  {
   "cell_type": "code",
   "execution_count": 2,
   "metadata": {},
   "outputs": [],
   "source": [
    "heights = [1,3,10]\n",
    "HORIZ_GRID_SPACING = 50\n",
    "VERT_GRID_SPACING = 20\n",
    "start_date = '20221130'\n",
    "end_date = '20230509'\n",
    "    # streamwise-coords\n",
    "# tidy_df = pd.read_parquet(f\"tidy_df_{start_date}_{end_date}_planar_fit_multiplane.parquet\")\n",
    "    # slope-adjusted earthwise-coords\n",
    "tidy_df = pd.read_parquet(f\"tidy_df_{start_date}_{end_date}_planar_fit.parquet\")\n",
    "    # sonic coords\n",
    "# tidy_df = pd.read_parquet(f\"tidy_df_{start_date}_{end_date}_noplanar_fit.parquet\")\n",
    "\n",
    "# method_numerical_advection = 'wind_divergence'      # q * d/dx_i (u_i)\n",
    "# method_numerical_advection = 'scalar_divergence'    # u_i * d/dx_i (q)\n",
    "# method_numerical_advection = 'summed'               # q * d/dx_i (u_i) + u_i * d/dx_i (q)\n",
    "# method_numerical_advection = 'derivative'           # d/dx_i (q * u_i)"
   ]
  },
  {
   "cell_type": "markdown",
   "metadata": {},
   "source": [
    "# Prepare data"
   ]
  },
  {
   "cell_type": "markdown",
   "metadata": {},
   "source": [
    "## Open SOS Measurement Dataset"
   ]
  },
  {
   "cell_type": "code",
   "execution_count": 3,
   "metadata": {},
   "outputs": [],
   "source": [
    "# convert time column to datetime\n",
    "tidy_df['time'] = pd.to_datetime(tidy_df['time'])\n",
    "tidy_df = utils.modify_df_timezone(tidy_df, pytz.UTC, 'US/Mountain')\n",
    "# limit data to our dates of interest, based on continuous snow cover at Kettle Ponds\n",
    "tidy_df = tidy_df.set_index('time').sort_index().loc[start_date:end_date].reset_index()\n",
    "\n",
    "## Add combined blowing snow flux variable\n",
    "tidy_df = tidy.tidy_df_add_variable(\n",
    "    tidy_df,\n",
    "    (\n",
    "        tidy_df.query(\"variable == 'SF_avg_1m_ue'\")['value'].values + \n",
    "        tidy_df.query(\"variable == 'SF_avg_2m_ue'\")['value'].values\n",
    "    ), \n",
    "    'SF_avg_ue', 'snow flux', 1, 'ue',\n",
    ")"
   ]
  },
  {
   "cell_type": "markdown",
   "metadata": {},
   "source": [
    "## Add absolute humidity measurements by converting hygrometer measurements"
   ]
  },
  {
   "cell_type": "code",
   "execution_count": 4,
   "metadata": {},
   "outputs": [],
   "source": [
    "tower_height_keys = tidy_df[tidy_df.measurement=='specific humidity'].groupby(['tower', 'height']).indices.keys()\n",
    "for t, h in tower_height_keys:\n",
    "    this_tower_height_tidy_df = tidy_df.query(\n",
    "            f\"tower == '{t}'\"\n",
    "        ).query(\n",
    "            f\"height == {h}\"\n",
    "        )\n",
    "    specific_humidity_values = this_tower_height_tidy_df.query(\n",
    "            \"measurement == 'specific humidity'\"\n",
    "        ).set_index('time')[['value']].rename(columns={'value': 'specific humidity'})\n",
    "    air_density_values = this_tower_height_tidy_df.query(\n",
    "            \"measurement == 'air density'\"\n",
    "        ).set_index('time')[['value']].rename(columns={'value': 'air density'})\n",
    "    combined_df = specific_humidity_values.join(air_density_values)\n",
    "\n",
    "    abs_humidity_values = (\n",
    "        combined_df['specific humidity'].values * units('g/g')\n",
    "    ).to('g/kg') * (\n",
    "        combined_df['air density'].values * units('kg/m^3')\n",
    "    ).m\n",
    "\n",
    "    tidy_df = tidy.tidy_df_add_variable(\n",
    "        tidy_df,\n",
    "        abs_humidity_values,\n",
    "        f\"absolutehumidity_{int(h)}m_{t}\",\n",
    "        'absolute humidity',\n",
    "        int(h),\n",
    "        t\n",
    "    )"
   ]
  },
  {
   "cell_type": "markdown",
   "metadata": {},
   "source": [
    "## Calibrate gas analyzer measurements\n",
    "\n",
    "We calibrate by assuming that all gas analyzers have the same seasonal mean as the corresponding hygrometer measurement on the central tower (at a given height)"
   ]
  },
  {
   "cell_type": "code",
   "execution_count": 5,
   "metadata": {},
   "outputs": [],
   "source": [
    "hygrometer_absolute_humidity_mean = (\n",
    "    1000 * tidy_df[tidy_df.measurement=='specific humidity'].groupby(['tower', 'height'])[['value']].mean() *\\\n",
    "    tidy_df[tidy_df.measurement=='air density'].groupby(['tower', 'height'])[['value']].mean()\n",
    ").reset_index().query(\"tower == 'c'\")"
   ]
  },
  {
   "cell_type": "code",
   "execution_count": 6,
   "metadata": {},
   "outputs": [],
   "source": [
    "ec_absolute_humidity_mean = tidy_df[tidy_df.measurement=='Water vapor density'].groupby(['variable', 'tower', 'height'])[['value']].mean().reset_index()"
   ]
  },
  {
   "cell_type": "code",
   "execution_count": 7,
   "metadata": {},
   "outputs": [
    {
     "data": {
      "text/html": [
       "<div>\n",
       "<style scoped>\n",
       "    .dataframe tbody tr th:only-of-type {\n",
       "        vertical-align: middle;\n",
       "    }\n",
       "\n",
       "    .dataframe tbody tr th {\n",
       "        vertical-align: top;\n",
       "    }\n",
       "\n",
       "    .dataframe thead th {\n",
       "        text-align: right;\n",
       "    }\n",
       "</style>\n",
       "<table border=\"1\" class=\"dataframe\">\n",
       "  <thead>\n",
       "    <tr style=\"text-align: right;\">\n",
       "      <th></th>\n",
       "      <th>variable</th>\n",
       "      <th>tower</th>\n",
       "      <th>height</th>\n",
       "      <th>value</th>\n",
       "      <th>truth</th>\n",
       "      <th>offset</th>\n",
       "    </tr>\n",
       "  </thead>\n",
       "  <tbody>\n",
       "    <tr>\n",
       "      <th>0</th>\n",
       "      <td>h2o_10m_c</td>\n",
       "      <td>c</td>\n",
       "      <td>10.0</td>\n",
       "      <td>2.128948</td>\n",
       "      <td>2.080217</td>\n",
       "      <td>0.048731</td>\n",
       "    </tr>\n",
       "    <tr>\n",
       "      <th>1</th>\n",
       "      <td>h2o_10m_d</td>\n",
       "      <td>d</td>\n",
       "      <td>10.0</td>\n",
       "      <td>1.264312</td>\n",
       "      <td>2.080217</td>\n",
       "      <td>-0.815905</td>\n",
       "    </tr>\n",
       "    <tr>\n",
       "      <th>2</th>\n",
       "      <td>h2o_10m_ue</td>\n",
       "      <td>ue</td>\n",
       "      <td>10.0</td>\n",
       "      <td>1.091568</td>\n",
       "      <td>2.080217</td>\n",
       "      <td>-0.988648</td>\n",
       "    </tr>\n",
       "    <tr>\n",
       "      <th>3</th>\n",
       "      <td>h2o_10m_uw</td>\n",
       "      <td>uw</td>\n",
       "      <td>10.0</td>\n",
       "      <td>1.608586</td>\n",
       "      <td>2.080217</td>\n",
       "      <td>-0.471630</td>\n",
       "    </tr>\n",
       "    <tr>\n",
       "      <th>4</th>\n",
       "      <td>h2o_15m_c</td>\n",
       "      <td>c</td>\n",
       "      <td>15.0</td>\n",
       "      <td>1.954592</td>\n",
       "      <td>2.065882</td>\n",
       "      <td>-0.111290</td>\n",
       "    </tr>\n",
       "    <tr>\n",
       "      <th>5</th>\n",
       "      <td>h2o_1m_c</td>\n",
       "      <td>c</td>\n",
       "      <td>1.0</td>\n",
       "      <td>2.264087</td>\n",
       "      <td>2.113118</td>\n",
       "      <td>0.150968</td>\n",
       "    </tr>\n",
       "    <tr>\n",
       "      <th>6</th>\n",
       "      <td>h2o_1m_d</td>\n",
       "      <td>d</td>\n",
       "      <td>1.0</td>\n",
       "      <td>1.700445</td>\n",
       "      <td>2.113118</td>\n",
       "      <td>-0.412673</td>\n",
       "    </tr>\n",
       "    <tr>\n",
       "      <th>7</th>\n",
       "      <td>h2o_1m_ue</td>\n",
       "      <td>ue</td>\n",
       "      <td>1.0</td>\n",
       "      <td>1.310203</td>\n",
       "      <td>2.113118</td>\n",
       "      <td>-0.802916</td>\n",
       "    </tr>\n",
       "    <tr>\n",
       "      <th>8</th>\n",
       "      <td>h2o_1m_uw</td>\n",
       "      <td>uw</td>\n",
       "      <td>1.0</td>\n",
       "      <td>1.502313</td>\n",
       "      <td>2.113118</td>\n",
       "      <td>-0.610806</td>\n",
       "    </tr>\n",
       "    <tr>\n",
       "      <th>9</th>\n",
       "      <td>h2o_20m_c</td>\n",
       "      <td>c</td>\n",
       "      <td>20.0</td>\n",
       "      <td>0.934247</td>\n",
       "      <td>2.056363</td>\n",
       "      <td>-1.122116</td>\n",
       "    </tr>\n",
       "    <tr>\n",
       "      <th>10</th>\n",
       "      <td>h2o_2m_c</td>\n",
       "      <td>c</td>\n",
       "      <td>2.0</td>\n",
       "      <td>1.975427</td>\n",
       "      <td>2.116022</td>\n",
       "      <td>-0.140595</td>\n",
       "    </tr>\n",
       "    <tr>\n",
       "      <th>11</th>\n",
       "      <td>h2o_3m_c</td>\n",
       "      <td>c</td>\n",
       "      <td>3.0</td>\n",
       "      <td>1.830270</td>\n",
       "      <td>2.118387</td>\n",
       "      <td>-0.288117</td>\n",
       "    </tr>\n",
       "    <tr>\n",
       "      <th>12</th>\n",
       "      <td>h2o_3m_d</td>\n",
       "      <td>d</td>\n",
       "      <td>3.0</td>\n",
       "      <td>1.734805</td>\n",
       "      <td>2.118387</td>\n",
       "      <td>-0.383582</td>\n",
       "    </tr>\n",
       "    <tr>\n",
       "      <th>13</th>\n",
       "      <td>h2o_3m_ue</td>\n",
       "      <td>ue</td>\n",
       "      <td>3.0</td>\n",
       "      <td>1.892941</td>\n",
       "      <td>2.118387</td>\n",
       "      <td>-0.225447</td>\n",
       "    </tr>\n",
       "    <tr>\n",
       "      <th>14</th>\n",
       "      <td>h2o_3m_uw</td>\n",
       "      <td>uw</td>\n",
       "      <td>3.0</td>\n",
       "      <td>1.971927</td>\n",
       "      <td>2.118387</td>\n",
       "      <td>-0.146460</td>\n",
       "    </tr>\n",
       "    <tr>\n",
       "      <th>15</th>\n",
       "      <td>h2o_5m_c</td>\n",
       "      <td>c</td>\n",
       "      <td>5.0</td>\n",
       "      <td>1.952607</td>\n",
       "      <td>2.091596</td>\n",
       "      <td>-0.138989</td>\n",
       "    </tr>\n",
       "  </tbody>\n",
       "</table>\n",
       "</div>"
      ],
      "text/plain": [
       "      variable tower  height     value     truth    offset\n",
       "0    h2o_10m_c     c    10.0  2.128948  2.080217  0.048731\n",
       "1    h2o_10m_d     d    10.0  1.264312  2.080217 -0.815905\n",
       "2   h2o_10m_ue    ue    10.0  1.091568  2.080217 -0.988648\n",
       "3   h2o_10m_uw    uw    10.0  1.608586  2.080217 -0.471630\n",
       "4    h2o_15m_c     c    15.0  1.954592  2.065882 -0.111290\n",
       "5     h2o_1m_c     c     1.0  2.264087  2.113118  0.150968\n",
       "6     h2o_1m_d     d     1.0  1.700445  2.113118 -0.412673\n",
       "7    h2o_1m_ue    ue     1.0  1.310203  2.113118 -0.802916\n",
       "8    h2o_1m_uw    uw     1.0  1.502313  2.113118 -0.610806\n",
       "9    h2o_20m_c     c    20.0  0.934247  2.056363 -1.122116\n",
       "10    h2o_2m_c     c     2.0  1.975427  2.116022 -0.140595\n",
       "11    h2o_3m_c     c     3.0  1.830270  2.118387 -0.288117\n",
       "12    h2o_3m_d     d     3.0  1.734805  2.118387 -0.383582\n",
       "13   h2o_3m_ue    ue     3.0  1.892941  2.118387 -0.225447\n",
       "14   h2o_3m_uw    uw     3.0  1.971927  2.118387 -0.146460\n",
       "15    h2o_5m_c     c     5.0  1.952607  2.091596 -0.138989"
      ]
     },
     "execution_count": 7,
     "metadata": {},
     "output_type": "execute_result"
    }
   ],
   "source": [
    "corrections_df = ec_absolute_humidity_mean.merge(\n",
    "    hygrometer_absolute_humidity_mean[['height', 'value']].rename(columns={'value': 'truth'}),\n",
    "    on='height'\n",
    ")\n",
    "corrections_df['offset'] = corrections_df['value'] - corrections_df['truth']\n",
    "corrections_df"
   ]
  },
  {
   "cell_type": "markdown",
   "metadata": {},
   "source": [
    "Update dataset with corrections"
   ]
  },
  {
   "cell_type": "code",
   "execution_count": 8,
   "metadata": {},
   "outputs": [
    {
     "data": {
      "text/html": [
       "<div>\n",
       "<style scoped>\n",
       "    .dataframe tbody tr th:only-of-type {\n",
       "        vertical-align: middle;\n",
       "    }\n",
       "\n",
       "    .dataframe tbody tr th {\n",
       "        vertical-align: top;\n",
       "    }\n",
       "\n",
       "    .dataframe thead th {\n",
       "        text-align: right;\n",
       "    }\n",
       "</style>\n",
       "<table border=\"1\" class=\"dataframe\">\n",
       "  <thead>\n",
       "    <tr style=\"text-align: right;\">\n",
       "      <th></th>\n",
       "      <th>time</th>\n",
       "      <th>variable</th>\n",
       "      <th>value</th>\n",
       "      <th>height</th>\n",
       "      <th>tower</th>\n",
       "      <th>measurement</th>\n",
       "    </tr>\n",
       "  </thead>\n",
       "  <tbody>\n",
       "    <tr>\n",
       "      <th>58</th>\n",
       "      <td>2022-11-30 00:00:00</td>\n",
       "      <td>h2o_10m_uw</td>\n",
       "      <td>0.537592</td>\n",
       "      <td>10.0</td>\n",
       "      <td>uw</td>\n",
       "      <td>Water vapor density</td>\n",
       "    </tr>\n",
       "    <tr>\n",
       "      <th>110</th>\n",
       "      <td>2022-11-30 00:00:00</td>\n",
       "      <td>h2o_1m_c</td>\n",
       "      <td>0.786468</td>\n",
       "      <td>1.0</td>\n",
       "      <td>c</td>\n",
       "      <td>Water vapor density</td>\n",
       "    </tr>\n",
       "    <tr>\n",
       "      <th>168</th>\n",
       "      <td>2022-11-30 00:00:00</td>\n",
       "      <td>h2o_3m_uw</td>\n",
       "      <td>0.724031</td>\n",
       "      <td>3.0</td>\n",
       "      <td>uw</td>\n",
       "      <td>Water vapor density</td>\n",
       "    </tr>\n",
       "    <tr>\n",
       "      <th>172</th>\n",
       "      <td>2022-11-30 00:00:00</td>\n",
       "      <td>h2o_10m_ue</td>\n",
       "      <td>0.015322</td>\n",
       "      <td>10.0</td>\n",
       "      <td>ue</td>\n",
       "      <td>Water vapor density</td>\n",
       "    </tr>\n",
       "    <tr>\n",
       "      <th>219</th>\n",
       "      <td>2022-11-30 00:00:00</td>\n",
       "      <td>h2o_1m_ue</td>\n",
       "      <td>0.010025</td>\n",
       "      <td>1.0</td>\n",
       "      <td>ue</td>\n",
       "      <td>Water vapor density</td>\n",
       "    </tr>\n",
       "    <tr>\n",
       "      <th>...</th>\n",
       "      <td>...</td>\n",
       "      <td>...</td>\n",
       "      <td>...</td>\n",
       "      <td>...</td>\n",
       "      <td>...</td>\n",
       "      <td>...</td>\n",
       "    </tr>\n",
       "    <tr>\n",
       "      <th>6502449</th>\n",
       "      <td>2023-05-09 17:30:00</td>\n",
       "      <td>h2o_1m_d</td>\n",
       "      <td>NaN</td>\n",
       "      <td>1.0</td>\n",
       "      <td>d</td>\n",
       "      <td>Water vapor density</td>\n",
       "    </tr>\n",
       "    <tr>\n",
       "      <th>6502476</th>\n",
       "      <td>2023-05-09 17:30:00</td>\n",
       "      <td>h2o_3m_d</td>\n",
       "      <td>2.589736</td>\n",
       "      <td>3.0</td>\n",
       "      <td>d</td>\n",
       "      <td>Water vapor density</td>\n",
       "    </tr>\n",
       "    <tr>\n",
       "      <th>6502575</th>\n",
       "      <td>2023-05-09 17:30:00</td>\n",
       "      <td>h2o_1m_uw</td>\n",
       "      <td>NaN</td>\n",
       "      <td>1.0</td>\n",
       "      <td>uw</td>\n",
       "      <td>Water vapor density</td>\n",
       "    </tr>\n",
       "    <tr>\n",
       "      <th>6502797</th>\n",
       "      <td>2023-05-09 17:30:00</td>\n",
       "      <td>h2o_10m_c</td>\n",
       "      <td>2.466102</td>\n",
       "      <td>10.0</td>\n",
       "      <td>c</td>\n",
       "      <td>Water vapor density</td>\n",
       "    </tr>\n",
       "    <tr>\n",
       "      <th>6502801</th>\n",
       "      <td>2023-05-09 17:30:00</td>\n",
       "      <td>h2o_3m_c</td>\n",
       "      <td>2.471905</td>\n",
       "      <td>3.0</td>\n",
       "      <td>c</td>\n",
       "      <td>Water vapor density</td>\n",
       "    </tr>\n",
       "  </tbody>\n",
       "</table>\n",
       "<p>92568 rows × 6 columns</p>\n",
       "</div>"
      ],
      "text/plain": [
       "                       time    variable     value  height tower  \\\n",
       "58      2022-11-30 00:00:00  h2o_10m_uw  0.537592    10.0    uw   \n",
       "110     2022-11-30 00:00:00    h2o_1m_c  0.786468     1.0     c   \n",
       "168     2022-11-30 00:00:00   h2o_3m_uw  0.724031     3.0    uw   \n",
       "172     2022-11-30 00:00:00  h2o_10m_ue  0.015322    10.0    ue   \n",
       "219     2022-11-30 00:00:00   h2o_1m_ue  0.010025     1.0    ue   \n",
       "...                     ...         ...       ...     ...   ...   \n",
       "6502449 2023-05-09 17:30:00    h2o_1m_d       NaN     1.0     d   \n",
       "6502476 2023-05-09 17:30:00    h2o_3m_d  2.589736     3.0     d   \n",
       "6502575 2023-05-09 17:30:00   h2o_1m_uw       NaN     1.0    uw   \n",
       "6502797 2023-05-09 17:30:00   h2o_10m_c  2.466102    10.0     c   \n",
       "6502801 2023-05-09 17:30:00    h2o_3m_c  2.471905     3.0     c   \n",
       "\n",
       "                 measurement  \n",
       "58       Water vapor density  \n",
       "110      Water vapor density  \n",
       "168      Water vapor density  \n",
       "172      Water vapor density  \n",
       "219      Water vapor density  \n",
       "...                      ...  \n",
       "6502449  Water vapor density  \n",
       "6502476  Water vapor density  \n",
       "6502575  Water vapor density  \n",
       "6502797  Water vapor density  \n",
       "6502801  Water vapor density  \n",
       "\n",
       "[92568 rows x 6 columns]"
      ]
     },
     "execution_count": 8,
     "metadata": {},
     "output_type": "execute_result"
    }
   ],
   "source": [
    "src = tidy_df[tidy_df.measurement=='Water vapor density']\n",
    "src = src[src.height.isin([1,3,10])]\n",
    "src"
   ]
  },
  {
   "cell_type": "code",
   "execution_count": 9,
   "metadata": {},
   "outputs": [
    {
     "data": {
      "application/vnd.vegalite.v5+json": {
       "$schema": "https://vega.github.io/schema/vega-lite/v5.17.0.json",
       "config": {
        "view": {
         "continuousHeight": 300,
         "continuousWidth": 300
        }
       },
       "height": 150,
       "layer": [
        {
         "data": {
          "format": {
           "type": "json"
          },
          "url": "altair-data-9e4ae4ce0113ebda3e58793f6e0a77b4.json"
         },
         "encoding": {
          "x": {
           "field": "value",
           "type": "quantitative"
          },
          "y": {
           "field": "height",
           "type": "quantitative"
          }
         },
         "mark": {
          "color": "black",
          "filled": true,
          "shape": "square",
          "size": 20,
          "type": "point"
         }
        },
        {
         "data": {
          "format": {
           "type": "json"
          },
          "url": "altair-data-a0d803555bb2e4b863c208a5e9e20ca8.json"
         },
         "encoding": {
          "color": {
           "field": "tower",
           "type": "nominal"
          },
          "x": {
           "field": "value",
           "type": "quantitative"
          },
          "y": {
           "field": "height",
           "type": "quantitative"
          }
         },
         "mark": {
          "size": 40,
          "type": "circle"
         }
        }
       ],
       "width": 150
      },
      "text/plain": [
       "<VegaLite 5 object>\n",
       "\n",
       "If you see this message, it means the renderer has not been properly enabled\n",
       "for the frontend that you are using. For more information, see\n",
       "https://altair-viz.github.io/user_guide/display_frontends.html#troubleshooting\n"
      ]
     },
     "execution_count": 9,
     "metadata": {},
     "output_type": "execute_result"
    }
   ],
   "source": [
    "alt.Chart(\n",
    "    (\n",
    "    1000 * tidy_df[tidy_df.measurement=='specific humidity'].groupby(['tower', 'height'])[['value']].mean() *\\\n",
    "    tidy_df[tidy_df.measurement=='air density'].groupby(['tower', 'height'])[['value']].mean()\n",
    "    ).reset_index()\n",
    ").mark_point(shape='square', filled=True, color='black', size=20).encode(\n",
    "    alt.X(\"value:Q\"),\n",
    "    alt.Y(\"height:Q\")\n",
    ").properties(width=150, height = 150)\\\n",
    "+ alt.Chart(\n",
    "    tidy_df[tidy_df.measurement=='Water vapor density'].groupby(['variable', 'tower', 'height'])[['value']].mean().reset_index()\n",
    ").mark_circle(size=40).encode(\n",
    "    alt.X(\"value:Q\"),\n",
    "    alt.Y(\"height:Q\"),\n",
    "    alt.Color('tower:N')\n",
    ").properties(width=150, height = 150)"
   ]
  },
  {
   "cell_type": "code",
   "execution_count": 10,
   "metadata": {},
   "outputs": [
    {
     "name": "stderr",
     "output_type": "stream",
     "text": [
      "/var/folders/x_/2h52bcjx2px15bhmdpdd748h0000gn/T/ipykernel_91994/1085128452.py:2: UserWarning: Boolean Series key will be reindexed to match DataFrame index.\n",
      "  src[ src.time > '20221212' ][ src.time < '20221214' ]\n"
     ]
    },
    {
     "data": {
      "application/vnd.vegalite.v5+json": {
       "$schema": "https://vega.github.io/schema/vega-lite/v5.17.0.json",
       "config": {
        "view": {
         "continuousHeight": 300,
         "continuousWidth": 300
        }
       },
       "data": {
        "format": {
         "type": "json"
        },
        "url": "altair-data-5ed503ae4717270fde74821721f9d867.json"
       },
       "encoding": {
        "color": {
         "field": "height",
         "type": "nominal"
        },
        "detail": {
         "field": "variable",
         "type": "nominal"
        },
        "x": {
         "field": "time",
         "type": "temporal"
        },
        "y": {
         "field": "value",
         "type": "quantitative"
        }
       },
       "mark": {
        "type": "line"
       }
      },
      "text/plain": [
       "<VegaLite 5 object>\n",
       "\n",
       "If you see this message, it means the renderer has not been properly enabled\n",
       "for the frontend that you are using. For more information, see\n",
       "https://altair-viz.github.io/user_guide/display_frontends.html#troubleshooting\n"
      ]
     },
     "execution_count": 10,
     "metadata": {},
     "output_type": "execute_result"
    }
   ],
   "source": [
    "\n",
    "\n",
    "alt.Chart(\n",
    "    src[ src.time > '20221212' ][ src.time < '20221214' ]\n",
    ").mark_line().encode(\n",
    "    alt.X(\"time:T\"),\n",
    "    alt.Y(\"value:Q\"),\n",
    "    alt.Color(\"height:N\"),\n",
    "    detail='variable'\n",
    ")"
   ]
  },
  {
   "cell_type": "code",
   "execution_count": 11,
   "metadata": {},
   "outputs": [],
   "source": [
    "for idx, row in corrections_df.iterrows():\n",
    "    src = tidy_df.query(f\"variable == '{row['variable']}'\")\n",
    "    src = src.assign(value = src.value - row['offset'])\n",
    "    tidy_df = tidy_df[tidy_df.variable != row['variable']]\n",
    "    tidy_df = pd.concat([tidy_df, src])"
   ]
  },
  {
   "cell_type": "code",
   "execution_count": 12,
   "metadata": {},
   "outputs": [
    {
     "data": {
      "application/vnd.vegalite.v5+json": {
       "$schema": "https://vega.github.io/schema/vega-lite/v5.17.0.json",
       "config": {
        "view": {
         "continuousHeight": 300,
         "continuousWidth": 300
        }
       },
       "height": 150,
       "layer": [
        {
         "data": {
          "format": {
           "type": "json"
          },
          "url": "altair-data-9e4ae4ce0113ebda3e58793f6e0a77b4.json"
         },
         "encoding": {
          "x": {
           "field": "value",
           "type": "quantitative"
          },
          "y": {
           "field": "height",
           "type": "quantitative"
          }
         },
         "mark": {
          "color": "black",
          "filled": true,
          "shape": "square",
          "size": 20,
          "type": "point"
         }
        },
        {
         "data": {
          "format": {
           "type": "json"
          },
          "url": "altair-data-eb40bfc1649a23c2c19238246cf20f59.json"
         },
         "encoding": {
          "color": {
           "field": "tower",
           "type": "nominal"
          },
          "x": {
           "field": "value",
           "type": "quantitative"
          },
          "y": {
           "field": "height",
           "type": "quantitative"
          }
         },
         "mark": {
          "size": 40,
          "type": "circle"
         }
        }
       ],
       "width": 150
      },
      "text/plain": [
       "<VegaLite 5 object>\n",
       "\n",
       "If you see this message, it means the renderer has not been properly enabled\n",
       "for the frontend that you are using. For more information, see\n",
       "https://altair-viz.github.io/user_guide/display_frontends.html#troubleshooting\n"
      ]
     },
     "execution_count": 12,
     "metadata": {},
     "output_type": "execute_result"
    }
   ],
   "source": [
    "alt.Chart(\n",
    "    (\n",
    "    1000 * tidy_df[tidy_df.measurement=='specific humidity'].groupby(['tower', 'height'])[['value']].mean() *\\\n",
    "    tidy_df[tidy_df.measurement=='air density'].groupby(['tower', 'height'])[['value']].mean()\n",
    "    ).reset_index()\n",
    ").mark_point(shape='square', filled=True, color='black', size=20).encode(\n",
    "    alt.X(\"value:Q\"),\n",
    "    alt.Y(\"height:Q\")\n",
    ").properties(width=150, height = 150)\\\n",
    "+ alt.Chart(\n",
    "    tidy_df[tidy_df.measurement=='Water vapor density'].groupby(['variable', 'tower', 'height'])[['value']].mean().reset_index()\n",
    ").mark_circle(size=40).encode(\n",
    "    alt.X(\"value:Q\"),\n",
    "    alt.Y(\"height:Q\"),\n",
    "    alt.Color('tower:N')\n",
    ").properties(width=150, height = 150)"
   ]
  },
  {
   "cell_type": "code",
   "execution_count": 13,
   "metadata": {},
   "outputs": [
    {
     "name": "stderr",
     "output_type": "stream",
     "text": [
      "/var/folders/x_/2h52bcjx2px15bhmdpdd748h0000gn/T/ipykernel_91994/427924892.py:4: UserWarning: Boolean Series key will be reindexed to match DataFrame index.\n",
      "  src[ src.time > '20221212' ][ src.time < '20221214' ]\n",
      "/var/folders/x_/2h52bcjx2px15bhmdpdd748h0000gn/T/ipykernel_91994/427924892.py:15: UserWarning: Boolean Series key will be reindexed to match DataFrame index.\n",
      "  src[ src.time > '20221212' ][ src.time < '20221214' ]\n"
     ]
    },
    {
     "data": {
      "application/vnd.vegalite.v5+json": {
       "$schema": "https://vega.github.io/schema/vega-lite/v5.17.0.json",
       "config": {
        "view": {
         "continuousHeight": 300,
         "continuousWidth": 300
        }
       },
       "resolve": {
        "scale": {
         "color": "independent",
         "shape": "independent"
        }
       },
       "vconcat": [
        {
         "data": {
          "format": {
           "type": "json"
          },
          "url": "altair-data-71b5ab8a16b473bf7e599fe67aff3b61.json"
         },
         "encoding": {
          "detail": {
           "field": "variable",
           "type": "nominal"
          },
          "shape": {
           "field": "tower",
           "type": "nominal"
          },
          "x": {
           "field": "time",
           "type": "temporal"
          },
          "y": {
           "field": "value",
           "title": "Snow depth (m)",
           "type": "quantitative"
          }
         },
         "height": 150,
         "mark": {
          "strokeWidth": 0.5,
          "type": "line"
         },
         "width": 600
        },
        {
         "data": {
          "format": {
           "type": "json"
          },
          "url": "altair-data-991f7e2c0539dcb95e4617349823a3e9.json"
         },
         "encoding": {
          "color": {
           "field": "height",
           "type": "nominal"
          },
          "detail": {
           "field": "variable",
           "type": "nominal"
          },
          "shape": {
           "field": "tower",
           "type": "nominal"
          },
          "x": {
           "field": "time",
           "type": "temporal"
          },
          "y": {
           "field": "value",
           "scale": {
            "zero": false
           },
           "title": "Absolute humidity (g/m^3)",
           "type": "quantitative"
          }
         },
         "mark": {
          "strokeWidth": 0.5,
          "type": "line"
         },
         "width": 600
        }
       ]
      },
      "text/plain": [
       "<VegaLite 5 object>\n",
       "\n",
       "If you see this message, it means the renderer has not been properly enabled\n",
       "for the frontend that you are using. For more information, see\n",
       "https://altair-viz.github.io/user_guide/display_frontends.html#troubleshooting\n"
      ]
     },
     "execution_count": 13,
     "metadata": {},
     "output_type": "execute_result"
    }
   ],
   "source": [
    "src = tidy_df[tidy_df.measurement=='Water vapor density']\n",
    "src = src[src.height.isin([1,3,10])]\n",
    "abs_hum = alt.Chart(\n",
    "    src[ src.time > '20221212' ][ src.time < '20221214' ]\n",
    ").mark_line(strokeWidth=0.5).encode(\n",
    "    alt.X(\"time:T\"),\n",
    "    alt.Y(\"value:Q\").title(\"Absolute humidity (g/m^3)\").scale(zero=False),\n",
    "    alt.Color(\"height:N\"),\n",
    "    alt.Shape('tower:N'),\n",
    "    detail='variable'\n",
    ").properties(width=600)\n",
    "\n",
    "src = tidy_df[tidy_df.measurement=='snow depth']\n",
    "snowdepth = alt.Chart(\n",
    "    src[ src.time > '20221212' ][ src.time < '20221214' ]\n",
    ").mark_line(strokeWidth=0.5).encode(\n",
    "    alt.X(\"time:T\"),\n",
    "    alt.Y(\"value:Q\").title(\"Snow depth (m)\"),\n",
    "    alt.Shape('tower:N'),\n",
    "    detail='variable'\n",
    ").properties(width=600, height=150)\n",
    "\n",
    "(snowdepth & abs_hum).resolve_scale(color='independent', shape='independent')"
   ]
  },
  {
   "cell_type": "markdown",
   "metadata": {},
   "source": [
    "# Identify categories for timestamps"
   ]
  },
  {
   "cell_type": "code",
   "execution_count": 14,
   "metadata": {},
   "outputs": [],
   "source": [
    "# Identify lists of timestamps for different categories\n",
    "bs_times = tidy_df.query(\"variable == 'SF_avg_ue'\").query(\"value > 0\").time\n",
    "nobs_times = tidy_df.query(\"variable == 'SF_avg_ue'\").query(\"value == 0\").time\n",
    "\n",
    "decoupled_times = tidy_df.query(\"variable == 'omega_3m_c'\").query(\"value < 0.43\").time\n",
    "weaklycoupled_times = tidy_df.query(\"variable == 'omega_3m_c'\").query(\"value >= 0.43\").query(\"value <= 0.61\").time\n",
    "coupled_times = tidy_df.query(\"variable == 'omega_3m_c'\").query(\"value > 0.61\").time\n",
    "\n",
    "ri_stable_times = tidy_df.query(\"variable == 'Ri_3m_c'\").query(\"value > 0.25\").time\n",
    "ri_unstable_times = tidy_df.query(\"variable == 'Ri_3m_c'\").query(\"value < -0.01\").time\n",
    "ri_neutral_times = tidy_df.query(\"variable == 'Ri_3m_c'\").query(\"value >= -0.01\").query(\"value <= 0.25\").time\n",
    "\n",
    "tgrad_stable_times = tidy_df.query(\"variable == 'temp_gradient_3m_c'\").query(\"value > 0.01\").time\n",
    "tgrad_unstable_times = tidy_df.query(\"variable == 'temp_gradient_3m_c'\").query(\"value < -0.01\").time\n",
    "tgrad_neutral_times = tidy_df.query(\"variable == 'temp_gradient_3m_c'\").query(\"value >= -0.01\").query(\"value <= 0.01\").time\n",
    "\n",
    "december_times = tidy_df[tidy_df.time.dt.month == 12].time\n",
    "january_times = tidy_df[tidy_df.time.dt.month == 1].time\n",
    "february_times = tidy_df[tidy_df.time.dt.month == 2].time\n",
    "march_times = tidy_df[tidy_df.time.dt.month == 3].time\n",
    "april_times = tidy_df[tidy_df.time.dt.month == 4].time\n",
    "\n",
    "midwinter_times = tidy_df[tidy_df.time < '20230320'].time\n",
    "spring_times = tidy_df[tidy_df.time > '20230320'].time"
   ]
  },
  {
   "cell_type": "code",
   "execution_count": 15,
   "metadata": {},
   "outputs": [],
   "source": [
    "precip_df = xr.open_dataset(\"/Users/elischwat/Development/data/sublimationofsnow/precip_danny/precipitation_rate_gts_w23.nc\")['corrected_prcp_rate_m2'].to_dataframe()\n",
    "\n",
    "is_snowing_dates = pd.concat([\n",
    "    precip_df.query(\"corrected_prcp_rate_m2 > 0\").index.to_series(),\n",
    "    precip_df.query(\"corrected_prcp_rate_m2 > 0\").index.to_series() + dt.timedelta(minutes=30)\n",
    "])\n",
    "    \n",
    "is_not_snowing_dates = pd.concat([\n",
    "    precip_df.query(\"corrected_prcp_rate_m2 <= 0\").index.to_series(),\n",
    "    precip_df.query(\"corrected_prcp_rate_m2 <= 0\").index.to_series() + dt.timedelta(minutes=30)\n",
    "])"
   ]
  },
  {
   "cell_type": "markdown",
   "metadata": {},
   "source": [
    "# Create tables"
   ]
  },
  {
   "cell_type": "markdown",
   "metadata": {},
   "source": [
    "## Instrument location info (georeferenced)\n",
    "We use a file with theodolite/GPS readings provided by NCAR. "
   ]
  },
  {
   "cell_type": "code",
   "execution_count": 16,
   "metadata": {},
   "outputs": [
    {
     "name": "stderr",
     "output_type": "stream",
     "text": [
      "/var/folders/x_/2h52bcjx2px15bhmdpdd748h0000gn/T/ipykernel_91994/3668931392.py:21: FutureWarning: DataFrame.groupby with axis=1 is deprecated. Do `frame.T.groupby(...)` without axis instead.\n",
      "  instrument_loc_df = instrument_loc_df.set_index(['height', 'tower']).groupby(level=0, axis=1).mean()\n"
     ]
    },
    {
     "data": {
      "text/html": [
       "<div>\n",
       "<style scoped>\n",
       "    .dataframe tbody tr th:only-of-type {\n",
       "        vertical-align: middle;\n",
       "    }\n",
       "\n",
       "    .dataframe tbody tr th {\n",
       "        vertical-align: top;\n",
       "    }\n",
       "\n",
       "    .dataframe thead th {\n",
       "        text-align: right;\n",
       "    }\n",
       "</style>\n",
       "<table border=\"1\" class=\"dataframe\">\n",
       "  <thead>\n",
       "    <tr style=\"text-align: right;\">\n",
       "      <th></th>\n",
       "      <th></th>\n",
       "      <th>x</th>\n",
       "      <th>y</th>\n",
       "      <th>z</th>\n",
       "    </tr>\n",
       "    <tr>\n",
       "      <th>height</th>\n",
       "      <th>tower</th>\n",
       "      <th></th>\n",
       "      <th></th>\n",
       "      <th></th>\n",
       "    </tr>\n",
       "  </thead>\n",
       "  <tbody>\n",
       "    <tr>\n",
       "      <th rowspan=\"4\" valign=\"top\">1</th>\n",
       "      <th>c</th>\n",
       "      <td>329002.47110</td>\n",
       "      <td>4.312171e+06</td>\n",
       "      <td>2861.36010</td>\n",
       "    </tr>\n",
       "    <tr>\n",
       "      <th>d</th>\n",
       "      <td>329016.77615</td>\n",
       "      <td>4.312158e+06</td>\n",
       "      <td>2860.09135</td>\n",
       "    </tr>\n",
       "    <tr>\n",
       "      <th>ue</th>\n",
       "      <td>329005.76010</td>\n",
       "      <td>4.312190e+06</td>\n",
       "      <td>2862.19275</td>\n",
       "    </tr>\n",
       "    <tr>\n",
       "      <th>uw</th>\n",
       "      <td>328983.46715</td>\n",
       "      <td>4.312165e+06</td>\n",
       "      <td>2860.54055</td>\n",
       "    </tr>\n",
       "    <tr>\n",
       "      <th>2</th>\n",
       "      <th>c</th>\n",
       "      <td>329002.49025</td>\n",
       "      <td>4.312171e+06</td>\n",
       "      <td>2862.28475</td>\n",
       "    </tr>\n",
       "    <tr>\n",
       "      <th rowspan=\"4\" valign=\"top\">3</th>\n",
       "      <th>c</th>\n",
       "      <td>329002.53920</td>\n",
       "      <td>4.312171e+06</td>\n",
       "      <td>2863.30060</td>\n",
       "    </tr>\n",
       "    <tr>\n",
       "      <th>d</th>\n",
       "      <td>329016.82015</td>\n",
       "      <td>4.312158e+06</td>\n",
       "      <td>2862.02455</td>\n",
       "    </tr>\n",
       "    <tr>\n",
       "      <th>ue</th>\n",
       "      <td>329005.80410</td>\n",
       "      <td>4.312190e+06</td>\n",
       "      <td>2864.12270</td>\n",
       "    </tr>\n",
       "    <tr>\n",
       "      <th>uw</th>\n",
       "      <td>328983.52075</td>\n",
       "      <td>4.312165e+06</td>\n",
       "      <td>2862.50290</td>\n",
       "    </tr>\n",
       "    <tr>\n",
       "      <th>5</th>\n",
       "      <th>c</th>\n",
       "      <td>329002.53790</td>\n",
       "      <td>4.312171e+06</td>\n",
       "      <td>2865.33380</td>\n",
       "    </tr>\n",
       "    <tr>\n",
       "      <th rowspan=\"4\" valign=\"top\">10</th>\n",
       "      <th>c</th>\n",
       "      <td>329002.65185</td>\n",
       "      <td>4.312171e+06</td>\n",
       "      <td>2870.36580</td>\n",
       "    </tr>\n",
       "    <tr>\n",
       "      <th>d</th>\n",
       "      <td>329016.90980</td>\n",
       "      <td>4.312158e+06</td>\n",
       "      <td>2868.59560</td>\n",
       "    </tr>\n",
       "    <tr>\n",
       "      <th>ue</th>\n",
       "      <td>329005.87765</td>\n",
       "      <td>4.312190e+06</td>\n",
       "      <td>2870.70875</td>\n",
       "    </tr>\n",
       "    <tr>\n",
       "      <th>uw</th>\n",
       "      <td>328983.59905</td>\n",
       "      <td>4.312165e+06</td>\n",
       "      <td>2869.09490</td>\n",
       "    </tr>\n",
       "    <tr>\n",
       "      <th>15</th>\n",
       "      <th>c</th>\n",
       "      <td>329002.72120</td>\n",
       "      <td>4.312171e+06</td>\n",
       "      <td>2875.37755</td>\n",
       "    </tr>\n",
       "    <tr>\n",
       "      <th>20</th>\n",
       "      <th>c</th>\n",
       "      <td>329002.80045</td>\n",
       "      <td>4.312171e+06</td>\n",
       "      <td>2880.25445</td>\n",
       "    </tr>\n",
       "  </tbody>\n",
       "</table>\n",
       "</div>"
      ],
      "text/plain": [
       "                         x             y           z\n",
       "height tower                                        \n",
       "1      c      329002.47110  4.312171e+06  2861.36010\n",
       "       d      329016.77615  4.312158e+06  2860.09135\n",
       "       ue     329005.76010  4.312190e+06  2862.19275\n",
       "       uw     328983.46715  4.312165e+06  2860.54055\n",
       "2      c      329002.49025  4.312171e+06  2862.28475\n",
       "3      c      329002.53920  4.312171e+06  2863.30060\n",
       "       d      329016.82015  4.312158e+06  2862.02455\n",
       "       ue     329005.80410  4.312190e+06  2864.12270\n",
       "       uw     328983.52075  4.312165e+06  2862.50290\n",
       "5      c      329002.53790  4.312171e+06  2865.33380\n",
       "10     c      329002.65185  4.312171e+06  2870.36580\n",
       "       d      329016.90980  4.312158e+06  2868.59560\n",
       "       ue     329005.87765  4.312190e+06  2870.70875\n",
       "       uw     328983.59905  4.312165e+06  2869.09490\n",
       "15     c      329002.72120  4.312171e+06  2875.37755\n",
       "20     c      329002.80045  4.312171e+06  2880.25445"
      ]
     },
     "execution_count": 16,
     "metadata": {},
     "output_type": "execute_result"
    }
   ],
   "source": [
    "instrument_loc_df = pd.read_csv(\"~/Development/data/sublimationofsnow/SOSm.txt\", names = ['ec', 'x', 'y', 'z'])\n",
    "instrument_loc_df = instrument_loc_df[ \n",
    "    instrument_loc_df['ec'].str.startswith('CS')\n",
    "    |\n",
    "    instrument_loc_df['ec'].str.startswith('DS') \n",
    "    |\n",
    "    instrument_loc_df['ec'].str.startswith('UWS') \n",
    "    |\n",
    "    instrument_loc_df['ec'].str.startswith('UES') \n",
    "]\n",
    "instrument_loc_df = instrument_loc_df[ \n",
    "    instrument_loc_df['ec'].str.endswith('T') \n",
    "    |\n",
    "    instrument_loc_df['ec'].str.endswith('B') \n",
    "]\n",
    "instrument_loc_df['top or bottom'] = instrument_loc_df['ec'].str[-1]\n",
    "instrument_loc_df['tower'] = instrument_loc_df['ec'].apply(lambda str: str.split('S')[0].lower())\n",
    "instrument_loc_df['height'] = instrument_loc_df['ec'].apply(lambda str: int(str.split('S')[1][:-1]))\n",
    "instrument_loc_df = instrument_loc_df.drop(columns='ec')\n",
    "instrument_loc_df = instrument_loc_df.pivot(index=['height', 'tower'], columns='top or bottom').reset_index()\n",
    "instrument_loc_df = instrument_loc_df.set_index(['height', 'tower']).groupby(level=0, axis=1).mean()\n",
    "instrument_loc_df"
   ]
  },
  {
   "cell_type": "markdown",
   "metadata": {},
   "source": [
    "## Wind field measurements"
   ]
  },
  {
   "cell_type": "code",
   "execution_count": 17,
   "metadata": {},
   "outputs": [
    {
     "data": {
      "text/html": [
       "<div>\n",
       "<style scoped>\n",
       "    .dataframe tbody tr th:only-of-type {\n",
       "        vertical-align: middle;\n",
       "    }\n",
       "\n",
       "    .dataframe tbody tr th {\n",
       "        vertical-align: top;\n",
       "    }\n",
       "\n",
       "    .dataframe thead tr th {\n",
       "        text-align: left;\n",
       "    }\n",
       "\n",
       "    .dataframe thead tr:last-of-type th {\n",
       "        text-align: right;\n",
       "    }\n",
       "</style>\n",
       "<table border=\"1\" class=\"dataframe\">\n",
       "  <thead>\n",
       "    <tr>\n",
       "      <th>height</th>\n",
       "      <th colspan=\"10\" halign=\"left\">1.0</th>\n",
       "      <th>...</th>\n",
       "      <th colspan=\"10\" halign=\"left\">10.0</th>\n",
       "    </tr>\n",
       "    <tr>\n",
       "      <th>tower</th>\n",
       "      <th colspan=\"3\" halign=\"left\">c</th>\n",
       "      <th colspan=\"3\" halign=\"left\">d</th>\n",
       "      <th colspan=\"3\" halign=\"left\">ue</th>\n",
       "      <th>uw</th>\n",
       "      <th>...</th>\n",
       "      <th>c</th>\n",
       "      <th colspan=\"3\" halign=\"left\">d</th>\n",
       "      <th colspan=\"3\" halign=\"left\">ue</th>\n",
       "      <th colspan=\"3\" halign=\"left\">uw</th>\n",
       "    </tr>\n",
       "    <tr>\n",
       "      <th>measurement</th>\n",
       "      <th>u</th>\n",
       "      <th>v</th>\n",
       "      <th>w</th>\n",
       "      <th>u</th>\n",
       "      <th>v</th>\n",
       "      <th>w</th>\n",
       "      <th>u</th>\n",
       "      <th>v</th>\n",
       "      <th>w</th>\n",
       "      <th>u</th>\n",
       "      <th>...</th>\n",
       "      <th>w</th>\n",
       "      <th>u</th>\n",
       "      <th>v</th>\n",
       "      <th>w</th>\n",
       "      <th>u</th>\n",
       "      <th>v</th>\n",
       "      <th>w</th>\n",
       "      <th>u</th>\n",
       "      <th>v</th>\n",
       "      <th>w</th>\n",
       "    </tr>\n",
       "    <tr>\n",
       "      <th>time</th>\n",
       "      <th></th>\n",
       "      <th></th>\n",
       "      <th></th>\n",
       "      <th></th>\n",
       "      <th></th>\n",
       "      <th></th>\n",
       "      <th></th>\n",
       "      <th></th>\n",
       "      <th></th>\n",
       "      <th></th>\n",
       "      <th></th>\n",
       "      <th></th>\n",
       "      <th></th>\n",
       "      <th></th>\n",
       "      <th></th>\n",
       "      <th></th>\n",
       "      <th></th>\n",
       "      <th></th>\n",
       "      <th></th>\n",
       "      <th></th>\n",
       "      <th></th>\n",
       "    </tr>\n",
       "  </thead>\n",
       "  <tbody>\n",
       "    <tr>\n",
       "      <th>2022-11-30 00:00:00</th>\n",
       "      <td>0.8442</td>\n",
       "      <td>-2.0019</td>\n",
       "      <td>-0.0388</td>\n",
       "      <td>0.8241</td>\n",
       "      <td>-1.8621</td>\n",
       "      <td>-0.0258</td>\n",
       "      <td>0.7621</td>\n",
       "      <td>-1.9373</td>\n",
       "      <td>-0.0491</td>\n",
       "      <td>0.3113</td>\n",
       "      <td>...</td>\n",
       "      <td>-0.0823</td>\n",
       "      <td>2.5216</td>\n",
       "      <td>-2.1892</td>\n",
       "      <td>-0.0065</td>\n",
       "      <td>2.2063</td>\n",
       "      <td>-2.3716</td>\n",
       "      <td>0.0385</td>\n",
       "      <td>1.9062</td>\n",
       "      <td>-2.7111</td>\n",
       "      <td>-0.0001</td>\n",
       "    </tr>\n",
       "    <tr>\n",
       "      <th>2022-11-30 00:30:00</th>\n",
       "      <td>-0.2592</td>\n",
       "      <td>-1.0267</td>\n",
       "      <td>-0.0255</td>\n",
       "      <td>-0.1717</td>\n",
       "      <td>-1.0263</td>\n",
       "      <td>-0.0297</td>\n",
       "      <td>-0.3245</td>\n",
       "      <td>-1.0934</td>\n",
       "      <td>-0.0513</td>\n",
       "      <td>-0.2333</td>\n",
       "      <td>...</td>\n",
       "      <td>-0.0342</td>\n",
       "      <td>-0.0728</td>\n",
       "      <td>-0.8173</td>\n",
       "      <td>0.0189</td>\n",
       "      <td>-0.2529</td>\n",
       "      <td>-0.7708</td>\n",
       "      <td>0.0288</td>\n",
       "      <td>-0.2268</td>\n",
       "      <td>-0.7774</td>\n",
       "      <td>-0.0121</td>\n",
       "    </tr>\n",
       "    <tr>\n",
       "      <th>2022-11-30 01:00:00</th>\n",
       "      <td>0.2995</td>\n",
       "      <td>-1.1331</td>\n",
       "      <td>-0.0291</td>\n",
       "      <td>0.3493</td>\n",
       "      <td>-1.0744</td>\n",
       "      <td>-0.0199</td>\n",
       "      <td>0.2869</td>\n",
       "      <td>-1.1269</td>\n",
       "      <td>-0.0483</td>\n",
       "      <td>0.0885</td>\n",
       "      <td>...</td>\n",
       "      <td>-0.0566</td>\n",
       "      <td>0.6077</td>\n",
       "      <td>-0.6620</td>\n",
       "      <td>0.0028</td>\n",
       "      <td>0.4626</td>\n",
       "      <td>-0.7354</td>\n",
       "      <td>0.0229</td>\n",
       "      <td>0.4762</td>\n",
       "      <td>-0.8680</td>\n",
       "      <td>-0.0210</td>\n",
       "    </tr>\n",
       "    <tr>\n",
       "      <th>2022-11-30 01:30:00</th>\n",
       "      <td>0.6549</td>\n",
       "      <td>-1.6004</td>\n",
       "      <td>-0.0338</td>\n",
       "      <td>0.6431</td>\n",
       "      <td>-1.4701</td>\n",
       "      <td>-0.0231</td>\n",
       "      <td>0.6043</td>\n",
       "      <td>-1.5538</td>\n",
       "      <td>-0.0509</td>\n",
       "      <td>0.1304</td>\n",
       "      <td>...</td>\n",
       "      <td>-0.0922</td>\n",
       "      <td>1.8981</td>\n",
       "      <td>-1.5050</td>\n",
       "      <td>-0.0322</td>\n",
       "      <td>1.7291</td>\n",
       "      <td>-1.6854</td>\n",
       "      <td>-0.0059</td>\n",
       "      <td>1.4609</td>\n",
       "      <td>-2.0032</td>\n",
       "      <td>-0.0751</td>\n",
       "    </tr>\n",
       "    <tr>\n",
       "      <th>2022-11-30 02:00:00</th>\n",
       "      <td>-0.2904</td>\n",
       "      <td>-0.8675</td>\n",
       "      <td>-0.0303</td>\n",
       "      <td>-0.2469</td>\n",
       "      <td>-0.8933</td>\n",
       "      <td>-0.0251</td>\n",
       "      <td>-0.3630</td>\n",
       "      <td>-0.9753</td>\n",
       "      <td>-0.0559</td>\n",
       "      <td>-0.2954</td>\n",
       "      <td>...</td>\n",
       "      <td>-0.0281</td>\n",
       "      <td>-0.0230</td>\n",
       "      <td>-0.5847</td>\n",
       "      <td>0.0230</td>\n",
       "      <td>-0.1797</td>\n",
       "      <td>-0.4797</td>\n",
       "      <td>0.0546</td>\n",
       "      <td>-0.0708</td>\n",
       "      <td>-0.5148</td>\n",
       "      <td>-0.0342</td>\n",
       "    </tr>\n",
       "    <tr>\n",
       "      <th>...</th>\n",
       "      <td>...</td>\n",
       "      <td>...</td>\n",
       "      <td>...</td>\n",
       "      <td>...</td>\n",
       "      <td>...</td>\n",
       "      <td>...</td>\n",
       "      <td>...</td>\n",
       "      <td>...</td>\n",
       "      <td>...</td>\n",
       "      <td>...</td>\n",
       "      <td>...</td>\n",
       "      <td>...</td>\n",
       "      <td>...</td>\n",
       "      <td>...</td>\n",
       "      <td>...</td>\n",
       "      <td>...</td>\n",
       "      <td>...</td>\n",
       "      <td>...</td>\n",
       "      <td>...</td>\n",
       "      <td>...</td>\n",
       "      <td>...</td>\n",
       "    </tr>\n",
       "    <tr>\n",
       "      <th>2023-05-09 15:30:00</th>\n",
       "      <td>0.4570</td>\n",
       "      <td>-2.2166</td>\n",
       "      <td>-0.0320</td>\n",
       "      <td>NaN</td>\n",
       "      <td>NaN</td>\n",
       "      <td>NaN</td>\n",
       "      <td>NaN</td>\n",
       "      <td>NaN</td>\n",
       "      <td>NaN</td>\n",
       "      <td>NaN</td>\n",
       "      <td>...</td>\n",
       "      <td>-0.0880</td>\n",
       "      <td>1.4622</td>\n",
       "      <td>-2.9177</td>\n",
       "      <td>0.0055</td>\n",
       "      <td>1.0546</td>\n",
       "      <td>-2.9264</td>\n",
       "      <td>-0.0150</td>\n",
       "      <td>0.7188</td>\n",
       "      <td>-3.2364</td>\n",
       "      <td>-0.0674</td>\n",
       "    </tr>\n",
       "    <tr>\n",
       "      <th>2023-05-09 16:00:00</th>\n",
       "      <td>0.4924</td>\n",
       "      <td>-3.0680</td>\n",
       "      <td>-0.0242</td>\n",
       "      <td>NaN</td>\n",
       "      <td>NaN</td>\n",
       "      <td>NaN</td>\n",
       "      <td>NaN</td>\n",
       "      <td>NaN</td>\n",
       "      <td>NaN</td>\n",
       "      <td>NaN</td>\n",
       "      <td>...</td>\n",
       "      <td>-0.1084</td>\n",
       "      <td>1.9826</td>\n",
       "      <td>-4.2441</td>\n",
       "      <td>-0.0841</td>\n",
       "      <td>1.5315</td>\n",
       "      <td>-4.1925</td>\n",
       "      <td>-0.0776</td>\n",
       "      <td>0.8299</td>\n",
       "      <td>-4.6255</td>\n",
       "      <td>-0.0672</td>\n",
       "    </tr>\n",
       "    <tr>\n",
       "      <th>2023-05-09 16:30:00</th>\n",
       "      <td>0.6614</td>\n",
       "      <td>-1.8370</td>\n",
       "      <td>-0.0195</td>\n",
       "      <td>NaN</td>\n",
       "      <td>NaN</td>\n",
       "      <td>NaN</td>\n",
       "      <td>NaN</td>\n",
       "      <td>NaN</td>\n",
       "      <td>NaN</td>\n",
       "      <td>NaN</td>\n",
       "      <td>...</td>\n",
       "      <td>-0.0782</td>\n",
       "      <td>1.8170</td>\n",
       "      <td>-2.2859</td>\n",
       "      <td>0.0087</td>\n",
       "      <td>1.5308</td>\n",
       "      <td>-2.4116</td>\n",
       "      <td>-0.0206</td>\n",
       "      <td>1.2450</td>\n",
       "      <td>-2.6569</td>\n",
       "      <td>-0.0639</td>\n",
       "    </tr>\n",
       "    <tr>\n",
       "      <th>2023-05-09 17:00:00</th>\n",
       "      <td>0.7511</td>\n",
       "      <td>-2.5587</td>\n",
       "      <td>-0.0278</td>\n",
       "      <td>NaN</td>\n",
       "      <td>NaN</td>\n",
       "      <td>NaN</td>\n",
       "      <td>NaN</td>\n",
       "      <td>NaN</td>\n",
       "      <td>NaN</td>\n",
       "      <td>NaN</td>\n",
       "      <td>...</td>\n",
       "      <td>-0.1521</td>\n",
       "      <td>2.2542</td>\n",
       "      <td>-3.1893</td>\n",
       "      <td>-0.0677</td>\n",
       "      <td>2.0220</td>\n",
       "      <td>-3.2202</td>\n",
       "      <td>-0.0637</td>\n",
       "      <td>1.2884</td>\n",
       "      <td>-3.6343</td>\n",
       "      <td>-0.0591</td>\n",
       "    </tr>\n",
       "    <tr>\n",
       "      <th>2023-05-09 17:30:00</th>\n",
       "      <td>0.6576</td>\n",
       "      <td>-2.1972</td>\n",
       "      <td>-0.0169</td>\n",
       "      <td>NaN</td>\n",
       "      <td>NaN</td>\n",
       "      <td>NaN</td>\n",
       "      <td>NaN</td>\n",
       "      <td>NaN</td>\n",
       "      <td>NaN</td>\n",
       "      <td>NaN</td>\n",
       "      <td>...</td>\n",
       "      <td>-0.1077</td>\n",
       "      <td>2.5035</td>\n",
       "      <td>-2.6379</td>\n",
       "      <td>-0.0062</td>\n",
       "      <td>2.2296</td>\n",
       "      <td>-2.8267</td>\n",
       "      <td>-0.0377</td>\n",
       "      <td>1.7479</td>\n",
       "      <td>-3.1988</td>\n",
       "      <td>-0.0505</td>\n",
       "    </tr>\n",
       "  </tbody>\n",
       "</table>\n",
       "<p>7485 rows × 36 columns</p>\n",
       "</div>"
      ],
      "text/plain": [
       "height                 1.0                                                   \\\n",
       "tower                     c                       d                      ue   \n",
       "measurement               u       v       w       u       v       w       u   \n",
       "time                                                                          \n",
       "2022-11-30 00:00:00  0.8442 -2.0019 -0.0388  0.8241 -1.8621 -0.0258  0.7621   \n",
       "2022-11-30 00:30:00 -0.2592 -1.0267 -0.0255 -0.1717 -1.0263 -0.0297 -0.3245   \n",
       "2022-11-30 01:00:00  0.2995 -1.1331 -0.0291  0.3493 -1.0744 -0.0199  0.2869   \n",
       "2022-11-30 01:30:00  0.6549 -1.6004 -0.0338  0.6431 -1.4701 -0.0231  0.6043   \n",
       "2022-11-30 02:00:00 -0.2904 -0.8675 -0.0303 -0.2469 -0.8933 -0.0251 -0.3630   \n",
       "...                     ...     ...     ...     ...     ...     ...     ...   \n",
       "2023-05-09 15:30:00  0.4570 -2.2166 -0.0320     NaN     NaN     NaN     NaN   \n",
       "2023-05-09 16:00:00  0.4924 -3.0680 -0.0242     NaN     NaN     NaN     NaN   \n",
       "2023-05-09 16:30:00  0.6614 -1.8370 -0.0195     NaN     NaN     NaN     NaN   \n",
       "2023-05-09 17:00:00  0.7511 -2.5587 -0.0278     NaN     NaN     NaN     NaN   \n",
       "2023-05-09 17:30:00  0.6576 -2.1972 -0.0169     NaN     NaN     NaN     NaN   \n",
       "\n",
       "height                                       ...    10.0                  \\\n",
       "tower                                    uw  ...       c       d           \n",
       "measurement               v       w       u  ...       w       u       v   \n",
       "time                                         ...                           \n",
       "2022-11-30 00:00:00 -1.9373 -0.0491  0.3113  ... -0.0823  2.5216 -2.1892   \n",
       "2022-11-30 00:30:00 -1.0934 -0.0513 -0.2333  ... -0.0342 -0.0728 -0.8173   \n",
       "2022-11-30 01:00:00 -1.1269 -0.0483  0.0885  ... -0.0566  0.6077 -0.6620   \n",
       "2022-11-30 01:30:00 -1.5538 -0.0509  0.1304  ... -0.0922  1.8981 -1.5050   \n",
       "2022-11-30 02:00:00 -0.9753 -0.0559 -0.2954  ... -0.0281 -0.0230 -0.5847   \n",
       "...                     ...     ...     ...  ...     ...     ...     ...   \n",
       "2023-05-09 15:30:00     NaN     NaN     NaN  ... -0.0880  1.4622 -2.9177   \n",
       "2023-05-09 16:00:00     NaN     NaN     NaN  ... -0.1084  1.9826 -4.2441   \n",
       "2023-05-09 16:30:00     NaN     NaN     NaN  ... -0.0782  1.8170 -2.2859   \n",
       "2023-05-09 17:00:00     NaN     NaN     NaN  ... -0.1521  2.2542 -3.1893   \n",
       "2023-05-09 17:30:00     NaN     NaN     NaN  ... -0.1077  2.5035 -2.6379   \n",
       "\n",
       "height                                                                       \n",
       "tower                            ue                      uw                  \n",
       "measurement               w       u       v       w       u       v       w  \n",
       "time                                                                         \n",
       "2022-11-30 00:00:00 -0.0065  2.2063 -2.3716  0.0385  1.9062 -2.7111 -0.0001  \n",
       "2022-11-30 00:30:00  0.0189 -0.2529 -0.7708  0.0288 -0.2268 -0.7774 -0.0121  \n",
       "2022-11-30 01:00:00  0.0028  0.4626 -0.7354  0.0229  0.4762 -0.8680 -0.0210  \n",
       "2022-11-30 01:30:00 -0.0322  1.7291 -1.6854 -0.0059  1.4609 -2.0032 -0.0751  \n",
       "2022-11-30 02:00:00  0.0230 -0.1797 -0.4797  0.0546 -0.0708 -0.5148 -0.0342  \n",
       "...                     ...     ...     ...     ...     ...     ...     ...  \n",
       "2023-05-09 15:30:00  0.0055  1.0546 -2.9264 -0.0150  0.7188 -3.2364 -0.0674  \n",
       "2023-05-09 16:00:00 -0.0841  1.5315 -4.1925 -0.0776  0.8299 -4.6255 -0.0672  \n",
       "2023-05-09 16:30:00  0.0087  1.5308 -2.4116 -0.0206  1.2450 -2.6569 -0.0639  \n",
       "2023-05-09 17:00:00 -0.0677  2.0220 -3.2202 -0.0637  1.2884 -3.6343 -0.0591  \n",
       "2023-05-09 17:30:00 -0.0062  2.2296 -2.8267 -0.0377  1.7479 -3.1988 -0.0505  \n",
       "\n",
       "[7485 rows x 36 columns]"
      ]
     },
     "execution_count": 17,
     "metadata": {},
     "output_type": "execute_result"
    }
   ],
   "source": [
    "wind_field_df = tidy_df[tidy_df.measurement.isin(['u','v','w']) & tidy_df.height.isin(heights)]\n",
    "wind_field_df = round(wind_field_df.pivot_table(index='time', columns=['height', 'tower', 'measurement'], values='value'), 4)\n",
    "wind_field_df"
   ]
  },
  {
   "cell_type": "markdown",
   "metadata": {},
   "source": [
    "## Turbulent water vapor flux measurements"
   ]
  },
  {
   "cell_type": "code",
   "execution_count": 18,
   "metadata": {},
   "outputs": [
    {
     "data": {
      "text/html": [
       "<div>\n",
       "<style scoped>\n",
       "    .dataframe tbody tr th:only-of-type {\n",
       "        vertical-align: middle;\n",
       "    }\n",
       "\n",
       "    .dataframe tbody tr th {\n",
       "        vertical-align: top;\n",
       "    }\n",
       "\n",
       "    .dataframe thead tr th {\n",
       "        text-align: left;\n",
       "    }\n",
       "\n",
       "    .dataframe thead tr:last-of-type th {\n",
       "        text-align: right;\n",
       "    }\n",
       "</style>\n",
       "<table border=\"1\" class=\"dataframe\">\n",
       "  <thead>\n",
       "    <tr>\n",
       "      <th>height</th>\n",
       "      <th colspan=\"10\" halign=\"left\">1.0</th>\n",
       "      <th>...</th>\n",
       "      <th colspan=\"10\" halign=\"left\">10.0</th>\n",
       "    </tr>\n",
       "    <tr>\n",
       "      <th>tower</th>\n",
       "      <th colspan=\"3\" halign=\"left\">c</th>\n",
       "      <th colspan=\"3\" halign=\"left\">d</th>\n",
       "      <th colspan=\"3\" halign=\"left\">ue</th>\n",
       "      <th>uw</th>\n",
       "      <th>...</th>\n",
       "      <th>c</th>\n",
       "      <th colspan=\"3\" halign=\"left\">d</th>\n",
       "      <th colspan=\"3\" halign=\"left\">ue</th>\n",
       "      <th colspan=\"3\" halign=\"left\">uw</th>\n",
       "    </tr>\n",
       "    <tr>\n",
       "      <th>measurement</th>\n",
       "      <th>u_h2o_</th>\n",
       "      <th>v_h2o_</th>\n",
       "      <th>w_h2o_</th>\n",
       "      <th>u_h2o_</th>\n",
       "      <th>v_h2o_</th>\n",
       "      <th>w_h2o_</th>\n",
       "      <th>u_h2o_</th>\n",
       "      <th>v_h2o_</th>\n",
       "      <th>w_h2o_</th>\n",
       "      <th>u_h2o_</th>\n",
       "      <th>...</th>\n",
       "      <th>w_h2o_</th>\n",
       "      <th>u_h2o_</th>\n",
       "      <th>v_h2o_</th>\n",
       "      <th>w_h2o_</th>\n",
       "      <th>u_h2o_</th>\n",
       "      <th>v_h2o_</th>\n",
       "      <th>w_h2o_</th>\n",
       "      <th>u_h2o_</th>\n",
       "      <th>v_h2o_</th>\n",
       "      <th>w_h2o_</th>\n",
       "    </tr>\n",
       "    <tr>\n",
       "      <th>time</th>\n",
       "      <th></th>\n",
       "      <th></th>\n",
       "      <th></th>\n",
       "      <th></th>\n",
       "      <th></th>\n",
       "      <th></th>\n",
       "      <th></th>\n",
       "      <th></th>\n",
       "      <th></th>\n",
       "      <th></th>\n",
       "      <th></th>\n",
       "      <th></th>\n",
       "      <th></th>\n",
       "      <th></th>\n",
       "      <th></th>\n",
       "      <th></th>\n",
       "      <th></th>\n",
       "      <th></th>\n",
       "      <th></th>\n",
       "      <th></th>\n",
       "      <th></th>\n",
       "    </tr>\n",
       "  </thead>\n",
       "  <tbody>\n",
       "    <tr>\n",
       "      <th>2022-11-30 00:00:00</th>\n",
       "      <td>-0.0023</td>\n",
       "      <td>0.0060</td>\n",
       "      <td>-0.0008</td>\n",
       "      <td>-0.0013</td>\n",
       "      <td>0.0067</td>\n",
       "      <td>-0.0008</td>\n",
       "      <td>0.0005</td>\n",
       "      <td>-0.0009</td>\n",
       "      <td>0.0000</td>\n",
       "      <td>0.0082</td>\n",
       "      <td>...</td>\n",
       "      <td>0.0011</td>\n",
       "      <td>-0.0254</td>\n",
       "      <td>0.0075</td>\n",
       "      <td>0.0009</td>\n",
       "      <td>-0.0040</td>\n",
       "      <td>0.0051</td>\n",
       "      <td>-0.0003</td>\n",
       "      <td>-0.0298</td>\n",
       "      <td>0.0238</td>\n",
       "      <td>0.0001</td>\n",
       "    </tr>\n",
       "    <tr>\n",
       "      <th>2022-11-30 00:30:00</th>\n",
       "      <td>-0.0122</td>\n",
       "      <td>0.0142</td>\n",
       "      <td>-0.0007</td>\n",
       "      <td>-0.0032</td>\n",
       "      <td>0.0118</td>\n",
       "      <td>-0.0005</td>\n",
       "      <td>-0.0000</td>\n",
       "      <td>0.0000</td>\n",
       "      <td>0.0000</td>\n",
       "      <td>0.0042</td>\n",
       "      <td>...</td>\n",
       "      <td>0.0005</td>\n",
       "      <td>-0.0213</td>\n",
       "      <td>0.0102</td>\n",
       "      <td>0.0005</td>\n",
       "      <td>-0.0119</td>\n",
       "      <td>0.0123</td>\n",
       "      <td>0.0005</td>\n",
       "      <td>-0.0179</td>\n",
       "      <td>0.0177</td>\n",
       "      <td>0.0005</td>\n",
       "    </tr>\n",
       "    <tr>\n",
       "      <th>2022-11-30 01:00:00</th>\n",
       "      <td>-0.0024</td>\n",
       "      <td>0.0032</td>\n",
       "      <td>-0.0003</td>\n",
       "      <td>0.0033</td>\n",
       "      <td>0.0017</td>\n",
       "      <td>-0.0001</td>\n",
       "      <td>-0.0000</td>\n",
       "      <td>-0.0000</td>\n",
       "      <td>-0.0000</td>\n",
       "      <td>0.0056</td>\n",
       "      <td>...</td>\n",
       "      <td>-0.0007</td>\n",
       "      <td>-0.0098</td>\n",
       "      <td>0.0011</td>\n",
       "      <td>-0.0002</td>\n",
       "      <td>-0.0048</td>\n",
       "      <td>0.0034</td>\n",
       "      <td>0.0003</td>\n",
       "      <td>-0.0110</td>\n",
       "      <td>0.0028</td>\n",
       "      <td>0.0007</td>\n",
       "    </tr>\n",
       "    <tr>\n",
       "      <th>2022-11-30 01:30:00</th>\n",
       "      <td>-0.0007</td>\n",
       "      <td>-0.0005</td>\n",
       "      <td>-0.0004</td>\n",
       "      <td>0.0026</td>\n",
       "      <td>-0.0012</td>\n",
       "      <td>-0.0003</td>\n",
       "      <td>0.0004</td>\n",
       "      <td>-0.0002</td>\n",
       "      <td>-0.0001</td>\n",
       "      <td>-0.0001</td>\n",
       "      <td>...</td>\n",
       "      <td>0.0004</td>\n",
       "      <td>-0.0119</td>\n",
       "      <td>0.0032</td>\n",
       "      <td>0.0006</td>\n",
       "      <td>-0.0108</td>\n",
       "      <td>0.0058</td>\n",
       "      <td>-0.0006</td>\n",
       "      <td>-0.0108</td>\n",
       "      <td>0.0062</td>\n",
       "      <td>-0.0002</td>\n",
       "    </tr>\n",
       "    <tr>\n",
       "      <th>2022-11-30 02:00:00</th>\n",
       "      <td>-0.0013</td>\n",
       "      <td>0.0059</td>\n",
       "      <td>-0.0004</td>\n",
       "      <td>-0.0003</td>\n",
       "      <td>0.0132</td>\n",
       "      <td>-0.0001</td>\n",
       "      <td>0.0005</td>\n",
       "      <td>-0.0001</td>\n",
       "      <td>-0.0001</td>\n",
       "      <td>-0.0005</td>\n",
       "      <td>...</td>\n",
       "      <td>-0.0003</td>\n",
       "      <td>-0.0088</td>\n",
       "      <td>0.0135</td>\n",
       "      <td>-0.0004</td>\n",
       "      <td>0.0060</td>\n",
       "      <td>0.0244</td>\n",
       "      <td>-0.0002</td>\n",
       "      <td>-0.0002</td>\n",
       "      <td>0.0046</td>\n",
       "      <td>-0.0013</td>\n",
       "    </tr>\n",
       "    <tr>\n",
       "      <th>...</th>\n",
       "      <td>...</td>\n",
       "      <td>...</td>\n",
       "      <td>...</td>\n",
       "      <td>...</td>\n",
       "      <td>...</td>\n",
       "      <td>...</td>\n",
       "      <td>...</td>\n",
       "      <td>...</td>\n",
       "      <td>...</td>\n",
       "      <td>...</td>\n",
       "      <td>...</td>\n",
       "      <td>...</td>\n",
       "      <td>...</td>\n",
       "      <td>...</td>\n",
       "      <td>...</td>\n",
       "      <td>...</td>\n",
       "      <td>...</td>\n",
       "      <td>...</td>\n",
       "      <td>...</td>\n",
       "      <td>...</td>\n",
       "      <td>...</td>\n",
       "    </tr>\n",
       "    <tr>\n",
       "      <th>2023-05-09 15:30:00</th>\n",
       "      <td>0.0979</td>\n",
       "      <td>-0.0804</td>\n",
       "      <td>0.0118</td>\n",
       "      <td>0.0000</td>\n",
       "      <td>0.0000</td>\n",
       "      <td>0.0000</td>\n",
       "      <td>0.0000</td>\n",
       "      <td>0.0000</td>\n",
       "      <td>0.0000</td>\n",
       "      <td>0.0000</td>\n",
       "      <td>...</td>\n",
       "      <td>0.0112</td>\n",
       "      <td>0.0300</td>\n",
       "      <td>0.0101</td>\n",
       "      <td>0.0155</td>\n",
       "      <td>0.0509</td>\n",
       "      <td>-0.0096</td>\n",
       "      <td>0.0105</td>\n",
       "      <td>0.0506</td>\n",
       "      <td>-0.0205</td>\n",
       "      <td>0.0181</td>\n",
       "    </tr>\n",
       "    <tr>\n",
       "      <th>2023-05-09 16:00:00</th>\n",
       "      <td>0.0661</td>\n",
       "      <td>-0.0200</td>\n",
       "      <td>0.0150</td>\n",
       "      <td>0.0000</td>\n",
       "      <td>0.0000</td>\n",
       "      <td>0.0000</td>\n",
       "      <td>0.0000</td>\n",
       "      <td>0.0000</td>\n",
       "      <td>0.0000</td>\n",
       "      <td>0.0000</td>\n",
       "      <td>...</td>\n",
       "      <td>0.0169</td>\n",
       "      <td>0.0159</td>\n",
       "      <td>-0.0012</td>\n",
       "      <td>0.0085</td>\n",
       "      <td>0.0051</td>\n",
       "      <td>0.0032</td>\n",
       "      <td>0.0100</td>\n",
       "      <td>-0.0015</td>\n",
       "      <td>0.0053</td>\n",
       "      <td>0.0127</td>\n",
       "    </tr>\n",
       "    <tr>\n",
       "      <th>2023-05-09 16:30:00</th>\n",
       "      <td>-0.0115</td>\n",
       "      <td>-0.0110</td>\n",
       "      <td>0.0067</td>\n",
       "      <td>0.0000</td>\n",
       "      <td>0.0000</td>\n",
       "      <td>0.0000</td>\n",
       "      <td>0.0000</td>\n",
       "      <td>0.0000</td>\n",
       "      <td>0.0000</td>\n",
       "      <td>0.0000</td>\n",
       "      <td>...</td>\n",
       "      <td>0.0060</td>\n",
       "      <td>0.0447</td>\n",
       "      <td>0.0028</td>\n",
       "      <td>0.0067</td>\n",
       "      <td>0.0537</td>\n",
       "      <td>-0.0012</td>\n",
       "      <td>0.0023</td>\n",
       "      <td>0.0387</td>\n",
       "      <td>-0.0195</td>\n",
       "      <td>0.0086</td>\n",
       "    </tr>\n",
       "    <tr>\n",
       "      <th>2023-05-09 17:00:00</th>\n",
       "      <td>0.0438</td>\n",
       "      <td>-0.0504</td>\n",
       "      <td>0.0112</td>\n",
       "      <td>0.0000</td>\n",
       "      <td>0.0000</td>\n",
       "      <td>0.0000</td>\n",
       "      <td>0.0000</td>\n",
       "      <td>0.0000</td>\n",
       "      <td>0.0000</td>\n",
       "      <td>0.0000</td>\n",
       "      <td>...</td>\n",
       "      <td>0.0126</td>\n",
       "      <td>0.0689</td>\n",
       "      <td>-0.0145</td>\n",
       "      <td>0.0105</td>\n",
       "      <td>0.0600</td>\n",
       "      <td>-0.0091</td>\n",
       "      <td>0.0115</td>\n",
       "      <td>0.0698</td>\n",
       "      <td>-0.0284</td>\n",
       "      <td>0.0126</td>\n",
       "    </tr>\n",
       "    <tr>\n",
       "      <th>2023-05-09 17:30:00</th>\n",
       "      <td>-0.0758</td>\n",
       "      <td>-0.0639</td>\n",
       "      <td>0.0072</td>\n",
       "      <td>0.0000</td>\n",
       "      <td>0.0000</td>\n",
       "      <td>0.0000</td>\n",
       "      <td>0.0000</td>\n",
       "      <td>0.0000</td>\n",
       "      <td>0.0000</td>\n",
       "      <td>0.0000</td>\n",
       "      <td>...</td>\n",
       "      <td>0.0069</td>\n",
       "      <td>0.0174</td>\n",
       "      <td>-0.0493</td>\n",
       "      <td>0.0064</td>\n",
       "      <td>0.0055</td>\n",
       "      <td>-0.0591</td>\n",
       "      <td>0.0059</td>\n",
       "      <td>0.0075</td>\n",
       "      <td>-0.0527</td>\n",
       "      <td>0.0059</td>\n",
       "    </tr>\n",
       "  </tbody>\n",
       "</table>\n",
       "<p>7714 rows × 36 columns</p>\n",
       "</div>"
      ],
      "text/plain": [
       "height                 1.0                                                   \\\n",
       "tower                     c                       d                      ue   \n",
       "measurement          u_h2o_  v_h2o_  w_h2o_  u_h2o_  v_h2o_  w_h2o_  u_h2o_   \n",
       "time                                                                          \n",
       "2022-11-30 00:00:00 -0.0023  0.0060 -0.0008 -0.0013  0.0067 -0.0008  0.0005   \n",
       "2022-11-30 00:30:00 -0.0122  0.0142 -0.0007 -0.0032  0.0118 -0.0005 -0.0000   \n",
       "2022-11-30 01:00:00 -0.0024  0.0032 -0.0003  0.0033  0.0017 -0.0001 -0.0000   \n",
       "2022-11-30 01:30:00 -0.0007 -0.0005 -0.0004  0.0026 -0.0012 -0.0003  0.0004   \n",
       "2022-11-30 02:00:00 -0.0013  0.0059 -0.0004 -0.0003  0.0132 -0.0001  0.0005   \n",
       "...                     ...     ...     ...     ...     ...     ...     ...   \n",
       "2023-05-09 15:30:00  0.0979 -0.0804  0.0118  0.0000  0.0000  0.0000  0.0000   \n",
       "2023-05-09 16:00:00  0.0661 -0.0200  0.0150  0.0000  0.0000  0.0000  0.0000   \n",
       "2023-05-09 16:30:00 -0.0115 -0.0110  0.0067  0.0000  0.0000  0.0000  0.0000   \n",
       "2023-05-09 17:00:00  0.0438 -0.0504  0.0112  0.0000  0.0000  0.0000  0.0000   \n",
       "2023-05-09 17:30:00 -0.0758 -0.0639  0.0072  0.0000  0.0000  0.0000  0.0000   \n",
       "\n",
       "height                                       ...    10.0                  \\\n",
       "tower                                    uw  ...       c       d           \n",
       "measurement          v_h2o_  w_h2o_  u_h2o_  ...  w_h2o_  u_h2o_  v_h2o_   \n",
       "time                                         ...                           \n",
       "2022-11-30 00:00:00 -0.0009  0.0000  0.0082  ...  0.0011 -0.0254  0.0075   \n",
       "2022-11-30 00:30:00  0.0000  0.0000  0.0042  ...  0.0005 -0.0213  0.0102   \n",
       "2022-11-30 01:00:00 -0.0000 -0.0000  0.0056  ... -0.0007 -0.0098  0.0011   \n",
       "2022-11-30 01:30:00 -0.0002 -0.0001 -0.0001  ...  0.0004 -0.0119  0.0032   \n",
       "2022-11-30 02:00:00 -0.0001 -0.0001 -0.0005  ... -0.0003 -0.0088  0.0135   \n",
       "...                     ...     ...     ...  ...     ...     ...     ...   \n",
       "2023-05-09 15:30:00  0.0000  0.0000  0.0000  ...  0.0112  0.0300  0.0101   \n",
       "2023-05-09 16:00:00  0.0000  0.0000  0.0000  ...  0.0169  0.0159 -0.0012   \n",
       "2023-05-09 16:30:00  0.0000  0.0000  0.0000  ...  0.0060  0.0447  0.0028   \n",
       "2023-05-09 17:00:00  0.0000  0.0000  0.0000  ...  0.0126  0.0689 -0.0145   \n",
       "2023-05-09 17:30:00  0.0000  0.0000  0.0000  ...  0.0069  0.0174 -0.0493   \n",
       "\n",
       "height                                                                       \n",
       "tower                            ue                      uw                  \n",
       "measurement          w_h2o_  u_h2o_  v_h2o_  w_h2o_  u_h2o_  v_h2o_  w_h2o_  \n",
       "time                                                                         \n",
       "2022-11-30 00:00:00  0.0009 -0.0040  0.0051 -0.0003 -0.0298  0.0238  0.0001  \n",
       "2022-11-30 00:30:00  0.0005 -0.0119  0.0123  0.0005 -0.0179  0.0177  0.0005  \n",
       "2022-11-30 01:00:00 -0.0002 -0.0048  0.0034  0.0003 -0.0110  0.0028  0.0007  \n",
       "2022-11-30 01:30:00  0.0006 -0.0108  0.0058 -0.0006 -0.0108  0.0062 -0.0002  \n",
       "2022-11-30 02:00:00 -0.0004  0.0060  0.0244 -0.0002 -0.0002  0.0046 -0.0013  \n",
       "...                     ...     ...     ...     ...     ...     ...     ...  \n",
       "2023-05-09 15:30:00  0.0155  0.0509 -0.0096  0.0105  0.0506 -0.0205  0.0181  \n",
       "2023-05-09 16:00:00  0.0085  0.0051  0.0032  0.0100 -0.0015  0.0053  0.0127  \n",
       "2023-05-09 16:30:00  0.0067  0.0537 -0.0012  0.0023  0.0387 -0.0195  0.0086  \n",
       "2023-05-09 17:00:00  0.0105  0.0600 -0.0091  0.0115  0.0698 -0.0284  0.0126  \n",
       "2023-05-09 17:30:00  0.0064  0.0055 -0.0591  0.0059  0.0075 -0.0527  0.0059  \n",
       "\n",
       "[7714 rows x 36 columns]"
      ]
     },
     "execution_count": 18,
     "metadata": {},
     "output_type": "execute_result"
    }
   ],
   "source": [
    "turb_flux_field_df = tidy_df[tidy_df.measurement.isin(['u_h2o_','v_h2o_','w_h2o_']) & tidy_df.height.isin(heights)]\n",
    "turb_flux_field_df = round(turb_flux_field_df.pivot_table(index='time', columns=['height', 'tower', 'measurement'], values='value'), 4)\n",
    "turb_flux_field_df"
   ]
  },
  {
   "cell_type": "markdown",
   "metadata": {},
   "source": [
    "## Humidity measurements"
   ]
  },
  {
   "cell_type": "code",
   "execution_count": 19,
   "metadata": {},
   "outputs": [
    {
     "name": "stderr",
     "output_type": "stream",
     "text": [
      "/var/folders/x_/2h52bcjx2px15bhmdpdd748h0000gn/T/ipykernel_91994/2134385205.py:2: SettingWithCopyWarning: \n",
      "A value is trying to be set on a copy of a slice from a DataFrame.\n",
      "Try using .loc[row_indexer,col_indexer] = value instead\n",
      "\n",
      "See the caveats in the documentation: https://pandas.pydata.org/pandas-docs/stable/user_guide/indexing.html#returning-a-view-versus-a-copy\n",
      "  abs_hum_field_df.measurement = 'q'\n"
     ]
    },
    {
     "data": {
      "text/html": [
       "<div>\n",
       "<style scoped>\n",
       "    .dataframe tbody tr th:only-of-type {\n",
       "        vertical-align: middle;\n",
       "    }\n",
       "\n",
       "    .dataframe tbody tr th {\n",
       "        vertical-align: top;\n",
       "    }\n",
       "\n",
       "    .dataframe thead tr th {\n",
       "        text-align: left;\n",
       "    }\n",
       "\n",
       "    .dataframe thead tr:last-of-type th {\n",
       "        text-align: right;\n",
       "    }\n",
       "</style>\n",
       "<table border=\"1\" class=\"dataframe\">\n",
       "  <thead>\n",
       "    <tr>\n",
       "      <th>height</th>\n",
       "      <th colspan=\"4\" halign=\"left\">1.0</th>\n",
       "      <th colspan=\"4\" halign=\"left\">3.0</th>\n",
       "      <th colspan=\"4\" halign=\"left\">10.0</th>\n",
       "    </tr>\n",
       "    <tr>\n",
       "      <th>tower</th>\n",
       "      <th>c</th>\n",
       "      <th>d</th>\n",
       "      <th>ue</th>\n",
       "      <th>uw</th>\n",
       "      <th>c</th>\n",
       "      <th>d</th>\n",
       "      <th>ue</th>\n",
       "      <th>uw</th>\n",
       "      <th>c</th>\n",
       "      <th>d</th>\n",
       "      <th>ue</th>\n",
       "      <th>uw</th>\n",
       "    </tr>\n",
       "    <tr>\n",
       "      <th>measurement</th>\n",
       "      <th>q</th>\n",
       "      <th>q</th>\n",
       "      <th>q</th>\n",
       "      <th>q</th>\n",
       "      <th>q</th>\n",
       "      <th>q</th>\n",
       "      <th>q</th>\n",
       "      <th>q</th>\n",
       "      <th>q</th>\n",
       "      <th>q</th>\n",
       "      <th>q</th>\n",
       "      <th>q</th>\n",
       "    </tr>\n",
       "    <tr>\n",
       "      <th>time</th>\n",
       "      <th></th>\n",
       "      <th></th>\n",
       "      <th></th>\n",
       "      <th></th>\n",
       "      <th></th>\n",
       "      <th></th>\n",
       "      <th></th>\n",
       "      <th></th>\n",
       "      <th></th>\n",
       "      <th></th>\n",
       "      <th></th>\n",
       "      <th></th>\n",
       "    </tr>\n",
       "  </thead>\n",
       "  <tbody>\n",
       "    <tr>\n",
       "      <th>2022-11-30 00:00:00</th>\n",
       "      <td>0.6355</td>\n",
       "      <td>1.1561</td>\n",
       "      <td>0.8129</td>\n",
       "      <td>0.6652</td>\n",
       "      <td>1.2019</td>\n",
       "      <td>0.7553</td>\n",
       "      <td>0.7909</td>\n",
       "      <td>0.8705</td>\n",
       "      <td>1.0104</td>\n",
       "      <td>0.9129</td>\n",
       "      <td>1.0040</td>\n",
       "      <td>1.0092</td>\n",
       "    </tr>\n",
       "    <tr>\n",
       "      <th>2022-11-30 00:30:00</th>\n",
       "      <td>0.7348</td>\n",
       "      <td>1.2510</td>\n",
       "      <td>0.8063</td>\n",
       "      <td>0.6783</td>\n",
       "      <td>1.3128</td>\n",
       "      <td>0.7867</td>\n",
       "      <td>0.7596</td>\n",
       "      <td>0.9388</td>\n",
       "      <td>1.0503</td>\n",
       "      <td>0.9741</td>\n",
       "      <td>1.0798</td>\n",
       "      <td>1.1279</td>\n",
       "    </tr>\n",
       "    <tr>\n",
       "      <th>2022-11-30 01:00:00</th>\n",
       "      <td>0.7671</td>\n",
       "      <td>1.2537</td>\n",
       "      <td>0.8071</td>\n",
       "      <td>0.6670</td>\n",
       "      <td>1.3324</td>\n",
       "      <td>0.7876</td>\n",
       "      <td>0.7876</td>\n",
       "      <td>0.9670</td>\n",
       "      <td>1.0805</td>\n",
       "      <td>1.0060</td>\n",
       "      <td>1.1239</td>\n",
       "      <td>1.1660</td>\n",
       "    </tr>\n",
       "    <tr>\n",
       "      <th>2022-11-30 01:30:00</th>\n",
       "      <td>0.7242</td>\n",
       "      <td>1.2071</td>\n",
       "      <td>0.8064</td>\n",
       "      <td>0.6342</td>\n",
       "      <td>1.3038</td>\n",
       "      <td>0.7969</td>\n",
       "      <td>0.8061</td>\n",
       "      <td>0.9272</td>\n",
       "      <td>1.0612</td>\n",
       "      <td>0.9827</td>\n",
       "      <td>1.0905</td>\n",
       "      <td>1.1444</td>\n",
       "    </tr>\n",
       "    <tr>\n",
       "      <th>2022-11-30 02:00:00</th>\n",
       "      <td>0.7210</td>\n",
       "      <td>1.2501</td>\n",
       "      <td>0.8075</td>\n",
       "      <td>0.6270</td>\n",
       "      <td>1.3360</td>\n",
       "      <td>0.6982</td>\n",
       "      <td>0.7069</td>\n",
       "      <td>0.9474</td>\n",
       "      <td>1.0986</td>\n",
       "      <td>1.0048</td>\n",
       "      <td>1.1193</td>\n",
       "      <td>1.1829</td>\n",
       "    </tr>\n",
       "    <tr>\n",
       "      <th>...</th>\n",
       "      <td>...</td>\n",
       "      <td>...</td>\n",
       "      <td>...</td>\n",
       "      <td>...</td>\n",
       "      <td>...</td>\n",
       "      <td>...</td>\n",
       "      <td>...</td>\n",
       "      <td>...</td>\n",
       "      <td>...</td>\n",
       "      <td>...</td>\n",
       "      <td>...</td>\n",
       "      <td>...</td>\n",
       "    </tr>\n",
       "    <tr>\n",
       "      <th>2023-05-09 15:30:00</th>\n",
       "      <td>2.6024</td>\n",
       "      <td>NaN</td>\n",
       "      <td>NaN</td>\n",
       "      <td>NaN</td>\n",
       "      <td>2.4664</td>\n",
       "      <td>2.6617</td>\n",
       "      <td>2.5909</td>\n",
       "      <td>2.7364</td>\n",
       "      <td>2.1723</td>\n",
       "      <td>2.4516</td>\n",
       "      <td>2.5774</td>\n",
       "      <td>2.2098</td>\n",
       "    </tr>\n",
       "    <tr>\n",
       "      <th>2023-05-09 16:00:00</th>\n",
       "      <td>2.5730</td>\n",
       "      <td>NaN</td>\n",
       "      <td>NaN</td>\n",
       "      <td>NaN</td>\n",
       "      <td>2.4660</td>\n",
       "      <td>2.6428</td>\n",
       "      <td>2.5880</td>\n",
       "      <td>2.7249</td>\n",
       "      <td>2.2089</td>\n",
       "      <td>2.4480</td>\n",
       "      <td>2.5768</td>\n",
       "      <td>2.2006</td>\n",
       "    </tr>\n",
       "    <tr>\n",
       "      <th>2023-05-09 16:30:00</th>\n",
       "      <td>2.8056</td>\n",
       "      <td>NaN</td>\n",
       "      <td>NaN</td>\n",
       "      <td>NaN</td>\n",
       "      <td>2.6200</td>\n",
       "      <td>2.8197</td>\n",
       "      <td>2.7385</td>\n",
       "      <td>2.9030</td>\n",
       "      <td>2.3425</td>\n",
       "      <td>2.5744</td>\n",
       "      <td>2.6768</td>\n",
       "      <td>2.3313</td>\n",
       "    </tr>\n",
       "    <tr>\n",
       "      <th>2023-05-09 17:00:00</th>\n",
       "      <td>2.6395</td>\n",
       "      <td>NaN</td>\n",
       "      <td>NaN</td>\n",
       "      <td>NaN</td>\n",
       "      <td>2.5135</td>\n",
       "      <td>2.7082</td>\n",
       "      <td>2.6553</td>\n",
       "      <td>2.7873</td>\n",
       "      <td>2.2988</td>\n",
       "      <td>2.4970</td>\n",
       "      <td>2.6286</td>\n",
       "      <td>2.2827</td>\n",
       "    </tr>\n",
       "    <tr>\n",
       "      <th>2023-05-09 17:30:00</th>\n",
       "      <td>3.0323</td>\n",
       "      <td>NaN</td>\n",
       "      <td>NaN</td>\n",
       "      <td>NaN</td>\n",
       "      <td>2.7600</td>\n",
       "      <td>2.9733</td>\n",
       "      <td>2.8969</td>\n",
       "      <td>3.0886</td>\n",
       "      <td>2.4174</td>\n",
       "      <td>2.6028</td>\n",
       "      <td>2.7749</td>\n",
       "      <td>2.4034</td>\n",
       "    </tr>\n",
       "  </tbody>\n",
       "</table>\n",
       "<p>7440 rows × 12 columns</p>\n",
       "</div>"
      ],
      "text/plain": [
       "height                 1.0                             3.0                   \\\n",
       "tower                     c       d      ue      uw       c       d      ue   \n",
       "measurement               q       q       q       q       q       q       q   \n",
       "time                                                                          \n",
       "2022-11-30 00:00:00  0.6355  1.1561  0.8129  0.6652  1.2019  0.7553  0.7909   \n",
       "2022-11-30 00:30:00  0.7348  1.2510  0.8063  0.6783  1.3128  0.7867  0.7596   \n",
       "2022-11-30 01:00:00  0.7671  1.2537  0.8071  0.6670  1.3324  0.7876  0.7876   \n",
       "2022-11-30 01:30:00  0.7242  1.2071  0.8064  0.6342  1.3038  0.7969  0.8061   \n",
       "2022-11-30 02:00:00  0.7210  1.2501  0.8075  0.6270  1.3360  0.6982  0.7069   \n",
       "...                     ...     ...     ...     ...     ...     ...     ...   \n",
       "2023-05-09 15:30:00  2.6024     NaN     NaN     NaN  2.4664  2.6617  2.5909   \n",
       "2023-05-09 16:00:00  2.5730     NaN     NaN     NaN  2.4660  2.6428  2.5880   \n",
       "2023-05-09 16:30:00  2.8056     NaN     NaN     NaN  2.6200  2.8197  2.7385   \n",
       "2023-05-09 17:00:00  2.6395     NaN     NaN     NaN  2.5135  2.7082  2.6553   \n",
       "2023-05-09 17:30:00  3.0323     NaN     NaN     NaN  2.7600  2.9733  2.8969   \n",
       "\n",
       "height                         10.0                          \n",
       "tower                    uw       c       d      ue      uw  \n",
       "measurement               q       q       q       q       q  \n",
       "time                                                         \n",
       "2022-11-30 00:00:00  0.8705  1.0104  0.9129  1.0040  1.0092  \n",
       "2022-11-30 00:30:00  0.9388  1.0503  0.9741  1.0798  1.1279  \n",
       "2022-11-30 01:00:00  0.9670  1.0805  1.0060  1.1239  1.1660  \n",
       "2022-11-30 01:30:00  0.9272  1.0612  0.9827  1.0905  1.1444  \n",
       "2022-11-30 02:00:00  0.9474  1.0986  1.0048  1.1193  1.1829  \n",
       "...                     ...     ...     ...     ...     ...  \n",
       "2023-05-09 15:30:00  2.7364  2.1723  2.4516  2.5774  2.2098  \n",
       "2023-05-09 16:00:00  2.7249  2.2089  2.4480  2.5768  2.2006  \n",
       "2023-05-09 16:30:00  2.9030  2.3425  2.5744  2.6768  2.3313  \n",
       "2023-05-09 17:00:00  2.7873  2.2988  2.4970  2.6286  2.2827  \n",
       "2023-05-09 17:30:00  3.0886  2.4174  2.6028  2.7749  2.4034  \n",
       "\n",
       "[7440 rows x 12 columns]"
      ]
     },
     "execution_count": 19,
     "metadata": {},
     "output_type": "execute_result"
    }
   ],
   "source": [
    "abs_hum_field_df = tidy_df[tidy_df.measurement.isin(['Water vapor density']) & tidy_df.height.isin(heights)]\n",
    "abs_hum_field_df.measurement = 'q'\n",
    "abs_hum_field_df = round(\n",
    "    abs_hum_field_df.pivot_table(\n",
    "        index='time', columns=['height', 'tower', 'measurement'], values='value'\n",
    "    ), \n",
    "    4\n",
    ")\n",
    "abs_hum_field_df"
   ]
  },
  {
   "cell_type": "markdown",
   "metadata": {},
   "source": [
    "## Advective flux measurements"
   ]
  },
  {
   "cell_type": "code",
   "execution_count": 20,
   "metadata": {},
   "outputs": [
    {
     "data": {
      "text/html": [
       "<div>\n",
       "<style scoped>\n",
       "    .dataframe tbody tr th:only-of-type {\n",
       "        vertical-align: middle;\n",
       "    }\n",
       "\n",
       "    .dataframe tbody tr th {\n",
       "        vertical-align: top;\n",
       "    }\n",
       "\n",
       "    .dataframe thead tr th {\n",
       "        text-align: left;\n",
       "    }\n",
       "\n",
       "    .dataframe thead tr:last-of-type th {\n",
       "        text-align: right;\n",
       "    }\n",
       "</style>\n",
       "<table border=\"1\" class=\"dataframe\">\n",
       "  <thead>\n",
       "    <tr>\n",
       "      <th>height</th>\n",
       "      <th colspan=\"10\" halign=\"left\">1.0</th>\n",
       "      <th>...</th>\n",
       "      <th colspan=\"10\" halign=\"left\">10.0</th>\n",
       "    </tr>\n",
       "    <tr>\n",
       "      <th>tower</th>\n",
       "      <th colspan=\"3\" halign=\"left\">c</th>\n",
       "      <th colspan=\"3\" halign=\"left\">d</th>\n",
       "      <th colspan=\"3\" halign=\"left\">ue</th>\n",
       "      <th>uw</th>\n",
       "      <th>...</th>\n",
       "      <th>c</th>\n",
       "      <th colspan=\"3\" halign=\"left\">d</th>\n",
       "      <th colspan=\"3\" halign=\"left\">ue</th>\n",
       "      <th colspan=\"3\" halign=\"left\">uw</th>\n",
       "    </tr>\n",
       "    <tr>\n",
       "      <th>measurement</th>\n",
       "      <th>uq</th>\n",
       "      <th>vq</th>\n",
       "      <th>wq</th>\n",
       "      <th>uq</th>\n",
       "      <th>vq</th>\n",
       "      <th>wq</th>\n",
       "      <th>uq</th>\n",
       "      <th>vq</th>\n",
       "      <th>wq</th>\n",
       "      <th>uq</th>\n",
       "      <th>...</th>\n",
       "      <th>wq</th>\n",
       "      <th>uq</th>\n",
       "      <th>vq</th>\n",
       "      <th>wq</th>\n",
       "      <th>uq</th>\n",
       "      <th>vq</th>\n",
       "      <th>wq</th>\n",
       "      <th>uq</th>\n",
       "      <th>vq</th>\n",
       "      <th>wq</th>\n",
       "    </tr>\n",
       "    <tr>\n",
       "      <th>time</th>\n",
       "      <th></th>\n",
       "      <th></th>\n",
       "      <th></th>\n",
       "      <th></th>\n",
       "      <th></th>\n",
       "      <th></th>\n",
       "      <th></th>\n",
       "      <th></th>\n",
       "      <th></th>\n",
       "      <th></th>\n",
       "      <th></th>\n",
       "      <th></th>\n",
       "      <th></th>\n",
       "      <th></th>\n",
       "      <th></th>\n",
       "      <th></th>\n",
       "      <th></th>\n",
       "      <th></th>\n",
       "      <th></th>\n",
       "      <th></th>\n",
       "      <th></th>\n",
       "    </tr>\n",
       "  </thead>\n",
       "  <tbody>\n",
       "    <tr>\n",
       "      <th>2022-11-30 00:00:00</th>\n",
       "      <td>0.536489</td>\n",
       "      <td>-1.272207</td>\n",
       "      <td>-0.024657</td>\n",
       "      <td>0.952742</td>\n",
       "      <td>-2.152774</td>\n",
       "      <td>-0.029827</td>\n",
       "      <td>0.619511</td>\n",
       "      <td>-1.574831</td>\n",
       "      <td>-0.039913</td>\n",
       "      <td>0.207077</td>\n",
       "      <td>...</td>\n",
       "      <td>-0.083156</td>\n",
       "      <td>2.301969</td>\n",
       "      <td>-1.998521</td>\n",
       "      <td>-0.005934</td>\n",
       "      <td>2.215125</td>\n",
       "      <td>-2.381086</td>\n",
       "      <td>0.038654</td>\n",
       "      <td>1.923737</td>\n",
       "      <td>-2.736042</td>\n",
       "      <td>-0.000101</td>\n",
       "    </tr>\n",
       "    <tr>\n",
       "      <th>2022-11-30 00:30:00</th>\n",
       "      <td>-0.190460</td>\n",
       "      <td>-0.754419</td>\n",
       "      <td>-0.018737</td>\n",
       "      <td>-0.214797</td>\n",
       "      <td>-1.283901</td>\n",
       "      <td>-0.037155</td>\n",
       "      <td>-0.261644</td>\n",
       "      <td>-0.881608</td>\n",
       "      <td>-0.041363</td>\n",
       "      <td>-0.158247</td>\n",
       "      <td>...</td>\n",
       "      <td>-0.035920</td>\n",
       "      <td>-0.070914</td>\n",
       "      <td>-0.796132</td>\n",
       "      <td>0.018410</td>\n",
       "      <td>-0.273081</td>\n",
       "      <td>-0.832310</td>\n",
       "      <td>0.031098</td>\n",
       "      <td>-0.255808</td>\n",
       "      <td>-0.876829</td>\n",
       "      <td>-0.013648</td>\n",
       "    </tr>\n",
       "    <tr>\n",
       "      <th>2022-11-30 01:00:00</th>\n",
       "      <td>0.229746</td>\n",
       "      <td>-0.869201</td>\n",
       "      <td>-0.022323</td>\n",
       "      <td>0.437917</td>\n",
       "      <td>-1.346975</td>\n",
       "      <td>-0.024949</td>\n",
       "      <td>0.231557</td>\n",
       "      <td>-0.909521</td>\n",
       "      <td>-0.038983</td>\n",
       "      <td>0.059029</td>\n",
       "      <td>...</td>\n",
       "      <td>-0.061156</td>\n",
       "      <td>0.611346</td>\n",
       "      <td>-0.665972</td>\n",
       "      <td>0.002817</td>\n",
       "      <td>0.519916</td>\n",
       "      <td>-0.826516</td>\n",
       "      <td>0.025737</td>\n",
       "      <td>0.555249</td>\n",
       "      <td>-1.012088</td>\n",
       "      <td>-0.024486</td>\n",
       "    </tr>\n",
       "    <tr>\n",
       "      <th>2022-11-30 01:30:00</th>\n",
       "      <td>0.474279</td>\n",
       "      <td>-1.159010</td>\n",
       "      <td>-0.024478</td>\n",
       "      <td>0.776286</td>\n",
       "      <td>-1.774558</td>\n",
       "      <td>-0.027884</td>\n",
       "      <td>0.487308</td>\n",
       "      <td>-1.252984</td>\n",
       "      <td>-0.041046</td>\n",
       "      <td>0.082700</td>\n",
       "      <td>...</td>\n",
       "      <td>-0.097843</td>\n",
       "      <td>1.865263</td>\n",
       "      <td>-1.478963</td>\n",
       "      <td>-0.031643</td>\n",
       "      <td>1.885584</td>\n",
       "      <td>-1.837929</td>\n",
       "      <td>-0.006434</td>\n",
       "      <td>1.671854</td>\n",
       "      <td>-2.292462</td>\n",
       "      <td>-0.085944</td>\n",
       "    </tr>\n",
       "    <tr>\n",
       "      <th>2022-11-30 02:00:00</th>\n",
       "      <td>-0.209378</td>\n",
       "      <td>-0.625468</td>\n",
       "      <td>-0.021846</td>\n",
       "      <td>-0.308650</td>\n",
       "      <td>-1.116714</td>\n",
       "      <td>-0.031378</td>\n",
       "      <td>-0.293123</td>\n",
       "      <td>-0.787555</td>\n",
       "      <td>-0.045139</td>\n",
       "      <td>-0.185216</td>\n",
       "      <td>...</td>\n",
       "      <td>-0.030871</td>\n",
       "      <td>-0.023110</td>\n",
       "      <td>-0.587507</td>\n",
       "      <td>0.023110</td>\n",
       "      <td>-0.201138</td>\n",
       "      <td>-0.536928</td>\n",
       "      <td>0.061114</td>\n",
       "      <td>-0.083749</td>\n",
       "      <td>-0.608957</td>\n",
       "      <td>-0.040455</td>\n",
       "    </tr>\n",
       "  </tbody>\n",
       "</table>\n",
       "<p>5 rows × 36 columns</p>\n",
       "</div>"
      ],
      "text/plain": [
       "height                   1.0                                           \\\n",
       "tower                       c                             d             \n",
       "measurement                uq        vq        wq        uq        vq   \n",
       "time                                                                    \n",
       "2022-11-30 00:00:00  0.536489 -1.272207 -0.024657  0.952742 -2.152774   \n",
       "2022-11-30 00:30:00 -0.190460 -0.754419 -0.018737 -0.214797 -1.283901   \n",
       "2022-11-30 01:00:00  0.229746 -0.869201 -0.022323  0.437917 -1.346975   \n",
       "2022-11-30 01:30:00  0.474279 -1.159010 -0.024478  0.776286 -1.774558   \n",
       "2022-11-30 02:00:00 -0.209378 -0.625468 -0.021846 -0.308650 -1.116714   \n",
       "\n",
       "height                                                                 ...  \\\n",
       "tower                                ue                            uw  ...   \n",
       "measurement                wq        uq        vq        wq        uq  ...   \n",
       "time                                                                   ...   \n",
       "2022-11-30 00:00:00 -0.029827  0.619511 -1.574831 -0.039913  0.207077  ...   \n",
       "2022-11-30 00:30:00 -0.037155 -0.261644 -0.881608 -0.041363 -0.158247  ...   \n",
       "2022-11-30 01:00:00 -0.024949  0.231557 -0.909521 -0.038983  0.059029  ...   \n",
       "2022-11-30 01:30:00 -0.027884  0.487308 -1.252984 -0.041046  0.082700  ...   \n",
       "2022-11-30 02:00:00 -0.031378 -0.293123 -0.787555 -0.045139 -0.185216  ...   \n",
       "\n",
       "height                   10.0                                          \\\n",
       "tower                       c         d                            ue   \n",
       "measurement                wq        uq        vq        wq        uq   \n",
       "time                                                                    \n",
       "2022-11-30 00:00:00 -0.083156  2.301969 -1.998521 -0.005934  2.215125   \n",
       "2022-11-30 00:30:00 -0.035920 -0.070914 -0.796132  0.018410 -0.273081   \n",
       "2022-11-30 01:00:00 -0.061156  0.611346 -0.665972  0.002817  0.519916   \n",
       "2022-11-30 01:30:00 -0.097843  1.865263 -1.478963 -0.031643  1.885584   \n",
       "2022-11-30 02:00:00 -0.030871 -0.023110 -0.587507  0.023110 -0.201138   \n",
       "\n",
       "height                                                                 \n",
       "tower                                          uw                      \n",
       "measurement                vq        wq        uq        vq        wq  \n",
       "time                                                                   \n",
       "2022-11-30 00:00:00 -2.381086  0.038654  1.923737 -2.736042 -0.000101  \n",
       "2022-11-30 00:30:00 -0.832310  0.031098 -0.255808 -0.876829 -0.013648  \n",
       "2022-11-30 01:00:00 -0.826516  0.025737  0.555249 -1.012088 -0.024486  \n",
       "2022-11-30 01:30:00 -1.837929 -0.006434  1.671854 -2.292462 -0.085944  \n",
       "2022-11-30 02:00:00 -0.536928  0.061114 -0.083749 -0.608957 -0.040455  \n",
       "\n",
       "[5 rows x 36 columns]"
      ]
     },
     "execution_count": 20,
     "metadata": {},
     "output_type": "execute_result"
    }
   ],
   "source": [
    "ls = []\n",
    "for h in wind_field_df.columns.get_level_values('height').unique():\n",
    "    for t in wind_field_df.columns.get_level_values('tower').unique():\n",
    "        this_wind_df = wind_field_df[(h,t)].copy()\n",
    "        this_abs_hum_df = abs_hum_field_df[(h,t)].copy()  \n",
    "        this_wind_df['uq'] = this_wind_df['u']*this_abs_hum_df['q']\n",
    "        this_wind_df['vq'] = this_wind_df['v']*this_abs_hum_df['q']\n",
    "        this_wind_df['wq'] = this_wind_df['w']*this_abs_hum_df['q']\n",
    "        new = pd.concat([this_wind_df], axis=1, keys=[(h,t)])\n",
    "        ls.append(new.drop(columns=[(h,t,'u'),(h,t,'v'),(h,t,'w')]))\n",
    "\n",
    "adv_flux_field_df = ls[0]\n",
    "for l in ls[1:]:\n",
    "    adv_flux_field_df = adv_flux_field_df.join(l)\n",
    "adv_flux_field_df.columns = adv_flux_field_df.columns.set_names('height', level=0)\n",
    "adv_flux_field_df.columns = adv_flux_field_df.columns.set_names('tower', level=1)\n",
    "adv_flux_field_df.head()"
   ]
  },
  {
   "cell_type": "markdown",
   "metadata": {},
   "source": [
    "# Divergence calculations"
   ]
  },
  {
   "cell_type": "code",
   "execution_count": 21,
   "metadata": {},
   "outputs": [],
   "source": [
    "def divergence(f,sp):\n",
    "    \"\"\" \n",
    "    From: https://stackoverflow.com/a/67971515\n",
    "    Computes divergence of vector field \n",
    "    f: array -> vector field components [Fx,Fy,Fz,...]\n",
    "    sp: array -> spacing between points in respecitve directions [spx, spy,spz,...]\n",
    "    \"\"\"\n",
    "    num_dims = len(f)\n",
    "    return np.ufunc.reduce(np.add, [np.gradient(f[i], sp[i], axis=i) for i in range(num_dims)])"
   ]
  },
  {
   "cell_type": "markdown",
   "metadata": {},
   "source": [
    "## Calculate interpolated fields"
   ]
  },
  {
   "cell_type": "code",
   "execution_count": 22,
   "metadata": {},
   "outputs": [],
   "source": [
    "# Initialize lists to store results\n",
    "wind_fields = []\n",
    "advectedflux_fields = []\n",
    "abshumidity_fields = []\n",
    "grid_spacings = []\n",
    "turbulentflux_fields = []\n",
    "timestamps = []\n",
    "\n",
    "for i in wind_field_df.index:\n",
    "    if ( # sometimes we don't have all measurements - this ensures we only retrieve data that exists\n",
    "        (i in wind_field_df.index) and (i in adv_flux_field_df.index) and  \n",
    "        (i in abs_hum_field_df.index) and  (i in turb_flux_field_df.index)\n",
    "    ):\n",
    "        # Isolate wind speed (u_i) measurements for this timestamp\n",
    "        wind_field_vals = pd.DataFrame(\n",
    "            wind_field_df.loc[i]\n",
    "        ).reset_index().set_index(['height', 'tower']).pivot(columns='measurement')\n",
    "        wind_field_vals.columns = wind_field_vals.columns.droplevel(0)\n",
    "        \n",
    "        # Isolate advective flux (u_i*q) measurements for this timestamp\n",
    "        adv_flux_field_vals = pd.DataFrame(\n",
    "            adv_flux_field_df.loc[i]\n",
    "        ).reset_index().set_index(['height', 'tower']).pivot(columns='measurement')\n",
    "        adv_flux_field_vals.columns = adv_flux_field_vals.columns.droplevel(0)\n",
    "\n",
    "        # Isolate humidity (q) measurements for this timestamp\n",
    "        abs_humidity_field_vals = pd.DataFrame(\n",
    "            abs_hum_field_df.loc[i]\n",
    "        ).reset_index().set_index(['height', 'tower']).pivot(columns='measurement')\n",
    "        abs_humidity_field_vals.columns = abs_humidity_field_vals.columns.droplevel(0)\n",
    "\n",
    "        # Isolate turbulent flux (u_i'q') measurements for this timestamp\n",
    "        turb_flux_field_vals = pd.DataFrame(\n",
    "            turb_flux_field_df.loc[i]\n",
    "        ).reset_index().set_index(['height', 'tower']).pivot(columns='measurement')\n",
    "        turb_flux_field_vals.columns = turb_flux_field_vals.columns.droplevel(0)\n",
    "\n",
    "        # Combine all measurements of fields and instrument locations into one dataframe\n",
    "        points_and_fields = instrument_loc_df.join(\n",
    "            wind_field_vals, how='right' # join on right df, so we drop instruments that we don't have measurements for\n",
    "        ).join(\n",
    "            adv_flux_field_vals,\n",
    "        ).join(\n",
    "            abs_humidity_field_vals,\n",
    "        ).join(\n",
    "            turb_flux_field_vals,\n",
    "        )\n",
    "\n",
    "        # Create a meshgrid for the interpolation\n",
    "        xx, yy, zz = np.meshgrid(\n",
    "            np.linspace(points_and_fields.x.min(), points_and_fields.x.max(), HORIZ_GRID_SPACING),\n",
    "            np.linspace(points_and_fields.y.min(), points_and_fields.y.max(), HORIZ_GRID_SPACING),\n",
    "            np.linspace(points_and_fields.z.min(), points_and_fields.z.max(), VERT_GRID_SPACING)\n",
    "        )\n",
    "        points = np.transpose(np.vstack((points_and_fields.x, points_and_fields.y, points_and_fields.z)))\n",
    "\n",
    "        # Interpolate wind field\n",
    "        u_interp = interpolate.griddata(points, points_and_fields['u'], (xx, yy, zz), method='linear')\n",
    "        v_interp = interpolate.griddata(points, points_and_fields['v'], (xx, yy, zz), method='linear')\n",
    "        w_interp = interpolate.griddata(points, points_and_fields['w'], (xx, yy, zz), method='linear')\n",
    "\n",
    "        # Interpolate advected flux field\n",
    "        uq_interp = interpolate.griddata(points, points_and_fields['uq'], (xx, yy, zz), method='linear')\n",
    "        vq_interp = interpolate.griddata(points, points_and_fields['vq'], (xx, yy, zz), method='linear')\n",
    "        wq_interp = interpolate.griddata(points, points_and_fields['wq'], (xx, yy, zz), method='linear')\n",
    "\n",
    "        # Interpolate abs. humidity field\n",
    "        q_interp = interpolate.griddata(points, points_and_fields['q'], (xx, yy, zz), method='linear')\n",
    "\n",
    "        # Interpolate turbulent flux field\n",
    "        u_q__interp = interpolate.griddata(points, points_and_fields['u_h2o_'], (xx, yy, zz), method='linear')\n",
    "        v_q__interp = interpolate.griddata(points, points_and_fields['v_h2o_'], (xx, yy, zz), method='linear')\n",
    "        w_q__interp = interpolate.griddata(points, points_and_fields['w_h2o_'], (xx, yy, zz), method='linear')\n",
    "\n",
    "        # Combine interpolated components into vector fields\n",
    "        F = np.array([u_interp, v_interp, w_interp])\n",
    "        Fq = np.array([uq_interp, vq_interp, wq_interp])\n",
    "        F_q_ = np.array([u_q__interp, v_q__interp, w_q__interp])\n",
    "\n",
    "        # Record grid spacing        \n",
    "        sp_x = np.diff(xx[0,:,0]).mean()\n",
    "        sp_y = np.diff(yy[:,0,0]).mean()\n",
    "        sp_z = np.diff(zz[0,0,:]).mean()\n",
    "        sp = [sp_x, sp_y, sp_z]\n",
    "\n",
    "        # Append interpolated fields to our results lists\n",
    "        wind_fields.append(F)\n",
    "        advectedflux_fields.append(Fq)\n",
    "        abshumidity_fields.append(q_interp)\n",
    "        turbulentflux_fields.append(F_q_)\n",
    "        grid_spacings.append(sp)\n",
    "        timestamps.append(i)"
   ]
  },
  {
   "cell_type": "markdown",
   "metadata": {},
   "source": [
    "## Calculate divergences\n"
   ]
  },
  {
   "cell_type": "code",
   "execution_count": 23,
   "metadata": {},
   "outputs": [],
   "source": [
    "# Initialize lists to store results\n",
    "div_abshumidity_field_ls = []\n",
    "\n",
    "div_wind_field_ls = []\n",
    "div_wind_field_lateral_ls = []\n",
    "div_wind_field_vertical_ls = []\n",
    "\n",
    "div_turbulentflux_field_ls = []\n",
    "div_turbulentflux_field_lateral_ls = []\n",
    "div_turbulentflux_field_vertical_ls = []\n",
    "\n",
    "div_advectedflux_field_ls = []\n",
    "div_advectedflux_field_lateral_ls = []\n",
    "div_advectedflux_field_vertical_ls = []\n",
    "\n",
    "div_advectedflux_field_scalargradient_ls = []\n",
    "div_advectedflux_field_scalargradient_lateral_ls = []\n",
    "div_advectedflux_field_scalargradient_vertical_ls = []\n",
    "\n",
    "div_advectedflux_field_windgradient_ls = []\n",
    "div_advectedflux_field_windgradient_lateral_ls = []\n",
    "div_advectedflux_field_windgradient_vertical_ls = []\n",
    "\n",
    "# iterate over each field (timestamp) and calculate divergences\n",
    "for i in range(0, len(wind_fields)):\n",
    "    wind_field          = wind_fields[i]\n",
    "    advectedflux_field  = advectedflux_fields[i]\n",
    "    abshumidity_field   = abshumidity_fields[i]\n",
    "    turbulentflux_field = turbulentflux_fields[i]\n",
    "    grid_spacing        = grid_spacings[i]\n",
    "\n",
    "    # create wind fields with just lateral and vertical components\n",
    "    wind_field_vertical_only = wind_field.copy()\n",
    "    wind_field_lateral_only  = wind_field.copy()\n",
    "    wind_field_vertical_only[0] = 0\n",
    "    wind_field_vertical_only[1] = 0\n",
    "    wind_field_lateral_only[2] = 0\n",
    "\n",
    "    advectedflux_field_vertical_only = advectedflux_field.copy()\n",
    "    advectedflux_field_lateral_only  = advectedflux_field.copy()\n",
    "    advectedflux_field_vertical_only[0] = 0\n",
    "    advectedflux_field_vertical_only[1] = 0\n",
    "    advectedflux_field_lateral_only[2] = 0\n",
    "\n",
    "    turbulentflux_field_vertical_only = turbulentflux_field.copy()\n",
    "    turbulentflux_field_lateral_only = turbulentflux_field.copy()\n",
    "    turbulentflux_field_vertical_only[0] = 0\n",
    "    turbulentflux_field_vertical_only[1] = 0\n",
    "    turbulentflux_field_lateral_only[2] = 0\n",
    "\n",
    "    # calculate divergences\n",
    "\n",
    "    # For humidity field\n",
    "    div_abshumidity_field    = np.gradient(\n",
    "        abshumidity_field,  grid_spacing[0],    axis=0\n",
    "    ) + np.gradient(\n",
    "        abshumidity_field,  grid_spacing[1],    axis=1\n",
    "    ) + np.gradient(\n",
    "        abshumidity_field,  grid_spacing[2],    axis=2\n",
    "    )\n",
    "\n",
    "    # For wind field\n",
    "    div_wind_field          = divergence(wind_field, grid_spacing)\n",
    "    div_wind_field_lateral  = divergence(wind_field_lateral_only, grid_spacing)\n",
    "    div_wind_field_vertical  = divergence(wind_field_vertical_only, grid_spacing)\n",
    "\n",
    "    # For turbulent flux\n",
    "    div_turbulentflux_field = divergence(turbulentflux_field, grid_spacing)\n",
    "    div_turbulentflux_field_lateral = divergence(turbulentflux_field_lateral_only, grid_spacing)\n",
    "    div_turbulentflux_field_vertical = divergence(turbulentflux_field_vertical_only, grid_spacing)\n",
    "\n",
    "    # For advected flux of form: d/dx (u_i q)\n",
    "    div_advectedflux_field  = divergence(advectedflux_field, grid_spacing)\n",
    "    div_advectedflux_field_lateral  = divergence(advectedflux_field_lateral_only, grid_spacing)\n",
    "    div_advectedflux_field_vertical = divergence(advectedflux_field_vertical_only, grid_spacing)\n",
    "    \n",
    "    # For advected flux of form: u d/dx (q)\n",
    "    div_advectedflux_field_scalargradient   = wind_field*div_abshumidity_field\n",
    "    div_advectedflux_field_scalargradient_lateral   = wind_field_lateral_only*div_abshumidity_field\n",
    "    div_advectedflux_field_scalargradient_vertical   = wind_field_vertical_only*div_abshumidity_field\n",
    "    \n",
    "    # For advected flux of form: q d/dx (u)\n",
    "    div_advectedflux_field_windgradient         = abshumidity_field*div_wind_field\n",
    "    div_advectedflux_field_windgradient_lateral = abshumidity_field*div_wind_field_lateral\n",
    "    div_advectedflux_field_windgradient_vertical= abshumidity_field*div_wind_field_vertical\n",
    "\n",
    "    # Divergence of wind field\n",
    "    ##########################################\n",
    "    div_wind_field_ls.append(\n",
    "        div_wind_field\n",
    "    )\n",
    "    div_wind_field_lateral_ls.append(\n",
    "        div_wind_field_lateral\n",
    "    )\n",
    "    div_wind_field_vertical_ls.append(\n",
    "        div_wind_field_vertical\n",
    "    )\n",
    "    # Divergence of advected flux\n",
    "    ##########################################\n",
    "    div_advectedflux_field_ls.append(\n",
    "        div_advectedflux_field\n",
    "    )\n",
    "    div_advectedflux_field_lateral_ls.append(\n",
    "        div_advectedflux_field_lateral\n",
    "    )\n",
    "    div_advectedflux_field_vertical_ls.append(\n",
    "        div_advectedflux_field_vertical\n",
    "    )\n",
    "    # Divergence of turbulent flux\n",
    "    ##########################################\n",
    "    div_turbulentflux_field_ls.append(\n",
    "        div_turbulentflux_field\n",
    "    )\n",
    "    div_turbulentflux_field_lateral_ls.append(\n",
    "        div_turbulentflux_field_lateral\n",
    "    )\n",
    "    div_turbulentflux_field_vertical_ls.append(\n",
    "        div_turbulentflux_field_vertical\n",
    "    )\n",
    "    # Divergence of abs humidity field\n",
    "    ##########################################\n",
    "    div_abshumidity_field_ls.append(\n",
    "        div_abshumidity_field\n",
    "    )\n",
    "    # Divergence of advected field, using scalar gradient\n",
    "    ##########################################\n",
    "    div_advectedflux_field_scalargradient_ls.append(\n",
    "        div_advectedflux_field_scalargradient\n",
    "    )\n",
    "    div_advectedflux_field_scalargradient_lateral_ls.append(\n",
    "        div_advectedflux_field_scalargradient_lateral\n",
    "    )\n",
    "    div_advectedflux_field_scalargradient_vertical_ls.append(\n",
    "        div_advectedflux_field_scalargradient_vertical\n",
    "    )\n",
    "    # Divergence of advected field, using wind gradient\n",
    "    ##########################################\n",
    "    div_advectedflux_field_windgradient_ls.append(\n",
    "        div_advectedflux_field_windgradient\n",
    "    )\n",
    "    div_advectedflux_field_windgradient_lateral_ls.append(\n",
    "        div_advectedflux_field_windgradient_lateral\n",
    "    )\n",
    "    div_advectedflux_field_windgradient_vertical_ls.append(\n",
    "        div_advectedflux_field_windgradient_vertical\n",
    "    )"
   ]
  },
  {
   "cell_type": "markdown",
   "metadata": {},
   "source": [
    "## Calculate spatially averaged divergence values"
   ]
  },
  {
   "cell_type": "code",
   "execution_count": 24,
   "metadata": {},
   "outputs": [
    {
     "name": "stderr",
     "output_type": "stream",
     "text": [
      "/var/folders/x_/2h52bcjx2px15bhmdpdd748h0000gn/T/ipykernel_91994/1636442532.py:3: RuntimeWarning: Mean of empty slice\n",
      "  np.nanmean(item) for item in div_wind_field_ls\n",
      "/var/folders/x_/2h52bcjx2px15bhmdpdd748h0000gn/T/ipykernel_91994/1636442532.py:6: RuntimeWarning: Mean of empty slice\n",
      "  np.nanmean(item) for item in div_wind_field_lateral_ls\n",
      "/var/folders/x_/2h52bcjx2px15bhmdpdd748h0000gn/T/ipykernel_91994/1636442532.py:9: RuntimeWarning: Mean of empty slice\n",
      "  np.nanmean(item) for item in div_wind_field_vertical_ls\n",
      "/var/folders/x_/2h52bcjx2px15bhmdpdd748h0000gn/T/ipykernel_91994/1636442532.py:12: RuntimeWarning: Mean of empty slice\n",
      "  np.nanmean(item) for item in div_advectedflux_field_ls\n",
      "/var/folders/x_/2h52bcjx2px15bhmdpdd748h0000gn/T/ipykernel_91994/1636442532.py:15: RuntimeWarning: Mean of empty slice\n",
      "  np.nanmean(item) for item in div_advectedflux_field_lateral_ls\n",
      "/var/folders/x_/2h52bcjx2px15bhmdpdd748h0000gn/T/ipykernel_91994/1636442532.py:18: RuntimeWarning: Mean of empty slice\n",
      "  np.nanmean(item) for item in div_advectedflux_field_vertical_ls\n",
      "/var/folders/x_/2h52bcjx2px15bhmdpdd748h0000gn/T/ipykernel_91994/1636442532.py:30: RuntimeWarning: Mean of empty slice\n",
      "  np.nanmean(item) for item in div_abshumidity_field_ls\n",
      "/var/folders/x_/2h52bcjx2px15bhmdpdd748h0000gn/T/ipykernel_91994/1636442532.py:33: RuntimeWarning: Mean of empty slice\n",
      "  np.nanmean(item) for item in div_advectedflux_field_scalargradient_ls\n",
      "/var/folders/x_/2h52bcjx2px15bhmdpdd748h0000gn/T/ipykernel_91994/1636442532.py:36: RuntimeWarning: Mean of empty slice\n",
      "  np.nanmean(item) for item in div_advectedflux_field_scalargradient_lateral_ls\n",
      "/var/folders/x_/2h52bcjx2px15bhmdpdd748h0000gn/T/ipykernel_91994/1636442532.py:39: RuntimeWarning: Mean of empty slice\n",
      "  np.nanmean(item) for item in div_advectedflux_field_scalargradient_vertical_ls\n",
      "/var/folders/x_/2h52bcjx2px15bhmdpdd748h0000gn/T/ipykernel_91994/1636442532.py:42: RuntimeWarning: Mean of empty slice\n",
      "  np.nanmean(item) for item in div_advectedflux_field_windgradient_ls\n",
      "/var/folders/x_/2h52bcjx2px15bhmdpdd748h0000gn/T/ipykernel_91994/1636442532.py:45: RuntimeWarning: Mean of empty slice\n",
      "  np.nanmean(item) for item in div_advectedflux_field_windgradient_lateral_ls\n",
      "/var/folders/x_/2h52bcjx2px15bhmdpdd748h0000gn/T/ipykernel_91994/1636442532.py:48: RuntimeWarning: Mean of empty slice\n",
      "  np.nanmean(item) for item in div_advectedflux_field_windgradient_vertical_ls\n",
      "/var/folders/x_/2h52bcjx2px15bhmdpdd748h0000gn/T/ipykernel_91994/1636442532.py:51: RuntimeWarning: Mean of empty slice\n",
      "  np.nanmean(item) for item in abshumidity_fields\n"
     ]
    }
   ],
   "source": [
    "conservation_spatial_mean_df = pd.DataFrame({\n",
    "    'div_wind_field' : [\n",
    "        np.nanmean(item) for item in div_wind_field_ls\n",
    "    ],\n",
    "    'div_wind_field_lateral' : [\n",
    "        np.nanmean(item) for item in div_wind_field_lateral_ls\n",
    "    ],\n",
    "    'div_wind_field_vertical' : [\n",
    "        np.nanmean(item) for item in div_wind_field_vertical_ls\n",
    "    ],\n",
    "    'div_advectedflux_field' : [\n",
    "        np.nanmean(item) for item in div_advectedflux_field_ls\n",
    "    ],\n",
    "    'div_advectedflux_field_lateral' : [\n",
    "        np.nanmean(item) for item in div_advectedflux_field_lateral_ls\n",
    "    ],\n",
    "    'div_advectedflux_field_vertical' : [\n",
    "        np.nanmean(item) for item in div_advectedflux_field_vertical_ls\n",
    "    ],\n",
    "    'div_turbulentflux_field' : [\n",
    "        np.nanmean(item) for item in div_turbulentflux_field_ls\n",
    "    ],\n",
    "    'div_turbulentflux_field_lateral' : [\n",
    "        np.nanmean(item) for item in div_turbulentflux_field_lateral_ls\n",
    "    ],\n",
    "    'div_turbulentflux_field_vertical' : [\n",
    "        np.nanmean(item) for item in div_turbulentflux_field_vertical_ls\n",
    "    ],\n",
    "    'div_abshumidity_field' : [\n",
    "        np.nanmean(item) for item in div_abshumidity_field_ls\n",
    "    ],\n",
    "    'div_advectedflux_field_scalargradient' : [\n",
    "        np.nanmean(item) for item in div_advectedflux_field_scalargradient_ls\n",
    "    ],\n",
    "    'div_advectedflux_field_scalargradient_lateral' : [\n",
    "        np.nanmean(item) for item in div_advectedflux_field_scalargradient_lateral_ls\n",
    "    ],\n",
    "    'div_advectedflux_field_scalargradient_vertical' : [\n",
    "        np.nanmean(item) for item in div_advectedflux_field_scalargradient_vertical_ls\n",
    "    ],\n",
    "    'div_advectedflux_field_windgradient' : [\n",
    "        np.nanmean(item) for item in div_advectedflux_field_windgradient_ls\n",
    "    ],\n",
    "    'div_advectedflux_field_windgradient_lateral' : [\n",
    "        np.nanmean(item) for item in div_advectedflux_field_windgradient_lateral_ls\n",
    "    ],\n",
    "    'div_advectedflux_field_windgradient_vertical' : [\n",
    "        np.nanmean(item) for item in div_advectedflux_field_windgradient_vertical_ls\n",
    "    ],\n",
    "    'abs_humidity_field': [\n",
    "        np.nanmean(item) for item in abshumidity_fields\n",
    "    ]\n",
    "}, index = timestamps)\n",
    "\n",
    "conservation_spatial_mean_df[\n",
    "    'div_advectedflux_field_summed'\n",
    "] = conservation_spatial_mean_df['div_advectedflux_field'] -\\\n",
    "    conservation_spatial_mean_df['div_advectedflux_field_windgradient']\n",
    "\n",
    "conservation_spatial_mean_df[\n",
    "    'div_advectedflux_field_summed_lateral'\n",
    "] = conservation_spatial_mean_df['div_advectedflux_field_lateral'] -\\\n",
    "    conservation_spatial_mean_df['div_advectedflux_field_windgradient_lateral']\n",
    "\n",
    "conservation_spatial_mean_df[\n",
    "    'div_advectedflux_field_summed_vertical'\n",
    "] = conservation_spatial_mean_df['div_advectedflux_field_vertical'] -\\\n",
    "    conservation_spatial_mean_df['div_advectedflux_field_windgradient_vertical']"
   ]
  },
  {
   "cell_type": "markdown",
   "metadata": {},
   "source": [
    "## Decide which advection calculation we trust"
   ]
  },
  {
   "cell_type": "code",
   "execution_count": 25,
   "metadata": {},
   "outputs": [
    {
     "name": "stderr",
     "output_type": "stream",
     "text": [
      "/var/folders/x_/2h52bcjx2px15bhmdpdd748h0000gn/T/ipykernel_91994/2004861624.py:2: FutureWarning: 'T' is deprecated and will be removed in a future version, please use 'min' instead.\n",
      "  conservation_spatial_mean_df.index.floor('60T').time\n"
     ]
    },
    {
     "data": {
      "application/vnd.vegalite.v5+json": {
       "$schema": "https://vega.github.io/schema/vega-lite/v5.17.0.json",
       "config": {
        "view": {
         "continuousHeight": 300,
         "continuousWidth": 300
        }
       },
       "data": {
        "format": {
         "type": "json"
        },
        "url": "altair-data-641a3d5fb7d3b55db0ab5cb1996532be.json"
       },
       "encoding": {
        "color": {
         "field": "key",
         "type": "nominal"
        },
        "x": {
         "field": "time",
         "timeUnit": "hoursminutes",
         "type": "temporal"
        },
        "y": {
         "field": "value",
         "type": "quantitative"
        }
       },
       "height": 200,
       "mark": {
        "type": "line"
       },
       "transform": [
        {
         "fold": [
          "div_advectedflux_field",
          "div_advectedflux_field_scalargradient",
          "div_advectedflux_field_windgradient"
         ]
        }
       ],
       "width": 300
      },
      "text/plain": [
       "<VegaLite 5 object>\n",
       "\n",
       "If you see this message, it means the renderer has not been properly enabled\n",
       "for the frontend that you are using. For more information, see\n",
       "https://altair-viz.github.io/user_guide/display_frontends.html#troubleshooting\n"
      ]
     },
     "metadata": {
      "application/vnd.vegalite.v5+json": {
       "embed_options": {
        "renderer": "svg"
       }
      }
     },
     "output_type": "display_data"
    }
   ],
   "source": [
    "src = conservation_spatial_mean_df.groupby(\n",
    "    conservation_spatial_mean_df.index.floor('60T').time\n",
    ").mean()\n",
    "src = src.assign(time = src.index.to_series().apply(lambda t: dt.datetime.combine(dt.date(2011, 1, 1), t)))\n",
    "alt.Chart(src).transform_fold([\n",
    "    'div_advectedflux_field',\n",
    "    'div_advectedflux_field_scalargradient',\n",
    "    'div_advectedflux_field_windgradient',\n",
    "    # 'div_advectedflux_field_summed',\n",
    "]).mark_line().encode(\n",
    "    alt.X('hoursminutes(time):T'),\n",
    "    alt.Y('value:Q'),\n",
    "    alt.Color('key:N')\n",
    ").properties(height = 200, width = 300).display(renderer='svg')"
   ]
  },
  {
   "cell_type": "code",
   "execution_count": 26,
   "metadata": {},
   "outputs": [],
   "source": [
    "conservation_spatial_mean_df = conservation_spatial_mean_df.drop(columns=[\n",
    "    'div_advectedflux_field',\n",
    "    'div_advectedflux_field_lateral',  \n",
    "    'div_advectedflux_field_vertical',\n",
    "    'div_advectedflux_field_summed',\n",
    "    'div_advectedflux_field_windgradient',\n",
    "    'div_advectedflux_field_summed_lateral',\n",
    "    'div_advectedflux_field_windgradient_lateral',  \n",
    "    'div_advectedflux_field_summed_vertical',\n",
    "    'div_advectedflux_field_windgradient_vertical',\n",
    "])\n",
    "\n",
    "conservation_spatial_mean_df = conservation_spatial_mean_df.rename(columns={\n",
    "    'div_advectedflux_field_scalargradient' : 'div_advectedflux_field',\n",
    "    'div_advectedflux_field_scalargradient_lateral' : 'div_advectedflux_field_lateral',  \n",
    "    'div_advectedflux_field_scalargradient_vertical' : 'div_advectedflux_field_vertical',\n",
    "})"
   ]
  },
  {
   "cell_type": "code",
   "execution_count": 27,
   "metadata": {},
   "outputs": [],
   "source": [
    "line = alt.Chart().mark_rule().encode(y=alt.datum(0))\n",
    "\n",
    "def conservation_spatial_mean_composite_plot(columns, title, times_filter = None, normalize = None):\n",
    "    if times_filter is not None:\n",
    "        src = conservation_spatial_mean_df[conservation_spatial_mean_df.index.isin(times_filter)]\n",
    "    else:\n",
    "        src = conservation_spatial_mean_df\n",
    "    if normalize is not None:\n",
    "        src = src * normalize\n",
    "    return line + alt.Chart(\n",
    "        src.reset_index()\n",
    "    ).transform_fold(\n",
    "        columns\n",
    "    ).mark_line().encode(\n",
    "        alt.X('hoursminutes(index):T').title('time'),\n",
    "        alt.Y('median(value):Q'),\n",
    "        alt.Color('key:N')\n",
    "    ).properties(height = 200, width = 200, title=title)"
   ]
  },
  {
   "cell_type": "code",
   "execution_count": 28,
   "metadata": {},
   "outputs": [
    {
     "data": {
      "application/vnd.vegalite.v5+json": {
       "$schema": "https://vega.github.io/schema/vega-lite/v5.17.0.json",
       "config": {
        "view": {
         "continuousHeight": 300,
         "continuousWidth": 300
        }
       },
       "data": {
        "format": {
         "type": "json"
        },
        "url": "altair-data-a586d2bf7a59104e4b4680ae3b8f987c.json"
       },
       "encoding": {
        "color": {
         "field": "key",
         "type": "nominal"
        },
        "x": {
         "field": "index",
         "timeUnit": "hoursminutes",
         "title": "time",
         "type": "temporal"
        },
        "y": {
         "aggregate": "median",
         "field": "value",
         "type": "quantitative"
        }
       },
       "height": 200,
       "mark": {
        "type": "line"
       },
       "transform": [
        {
         "fold": [
          "div_advectedflux_field",
          "div_advectedflux_field_lateral",
          "div_advectedflux_field_vertical"
         ]
        }
       ],
       "width": 200
      },
      "text/plain": [
       "<VegaLite 5 object>\n",
       "\n",
       "If you see this message, it means the renderer has not been properly enabled\n",
       "for the frontend that you are using. For more information, see\n",
       "https://altair-viz.github.io/user_guide/display_frontends.html#troubleshooting\n"
      ]
     },
     "execution_count": 28,
     "metadata": {},
     "output_type": "execute_result"
    }
   ],
   "source": [
    "alt.Chart(\n",
    "        conservation_spatial_mean_df[[\n",
    "            'div_advectedflux_field',\n",
    "            'div_advectedflux_field_lateral',\n",
    "            'div_advectedflux_field_vertical',\n",
    "        ]].reset_index()\n",
    "    ).transform_fold(\n",
    "        [\n",
    "            'div_advectedflux_field',\n",
    "            'div_advectedflux_field_lateral',\n",
    "            'div_advectedflux_field_vertical',\n",
    "        ]\n",
    "    ).mark_line().encode(\n",
    "        alt.X('hoursminutes(index):T').title('time'),\n",
    "        alt.Y('median(value):Q'),\n",
    "        alt.Color('key:N')\n",
    "    ).properties(height = 200, width = 200, )\n"
   ]
  },
  {
   "cell_type": "code",
   "execution_count": 29,
   "metadata": {},
   "outputs": [
    {
     "data": {
      "application/vnd.vegalite.v5+json": {
       "$schema": "https://vega.github.io/schema/vega-lite/v5.17.0.json",
       "config": {
        "legend": {
         "columns": 1,
         "orient": "top"
        },
        "view": {
         "continuousHeight": 300,
         "continuousWidth": 300
        }
       },
       "datasets": {
        "empty": [
         {}
        ]
       },
       "hconcat": [
        {
         "height": 200,
         "layer": [
          {
           "data": {
            "name": "empty"
           },
           "encoding": {
            "y": {
             "datum": 0
            }
           },
           "mark": {
            "type": "rule"
           }
          },
          {
           "data": {
            "format": {
             "type": "json"
            },
            "url": "altair-data-1314b27da0d276bdeb1a5b00d21b0f57.json"
           },
           "encoding": {
            "color": {
             "field": "key",
             "type": "nominal"
            },
            "x": {
             "field": "index",
             "timeUnit": "hoursminutes",
             "title": "time",
             "type": "temporal"
            },
            "y": {
             "aggregate": "median",
             "field": "value",
             "type": "quantitative"
            }
           },
           "mark": {
            "type": "line"
           },
           "title": "Divergence of wind field (1/s)",
           "transform": [
            {
             "fold": [
              "div_wind_field",
              "div_wind_field_lateral",
              "div_wind_field_vertical"
             ]
            }
           ]
          }
         ],
         "width": 200
        },
        {
         "hconcat": [
          {
           "height": 200,
           "layer": [
            {
             "data": {
              "name": "empty"
             },
             "encoding": {
              "y": {
               "datum": 0
              }
             },
             "mark": {
              "type": "rule"
             }
            },
            {
             "data": {
              "format": {
               "type": "json"
              },
              "url": "altair-data-1314b27da0d276bdeb1a5b00d21b0f57.json"
             },
             "encoding": {
              "color": {
               "field": "key",
               "type": "nominal"
              },
              "x": {
               "field": "index",
               "timeUnit": "hoursminutes",
               "title": "time",
               "type": "temporal"
              },
              "y": {
               "aggregate": "median",
               "field": "value",
               "type": "quantitative"
              }
             },
             "mark": {
              "type": "line"
             },
             "title": "Divergence of advective flux (g/m^3)",
             "transform": [
              {
               "fold": [
                "div_advectedflux_field",
                "div_advectedflux_field_lateral",
                "div_advectedflux_field_vertical"
               ]
              }
             ]
            }
           ],
           "width": 200
          },
          {
           "height": 200,
           "layer": [
            {
             "data": {
              "name": "empty"
             },
             "encoding": {
              "y": {
               "datum": 0
              }
             },
             "mark": {
              "type": "rule"
             }
            },
            {
             "data": {
              "format": {
               "type": "json"
              },
              "url": "altair-data-1314b27da0d276bdeb1a5b00d21b0f57.json"
             },
             "encoding": {
              "color": {
               "field": "key",
               "type": "nominal"
              },
              "x": {
               "field": "index",
               "timeUnit": "hoursminutes",
               "title": "time",
               "type": "temporal"
              },
              "y": {
               "aggregate": "median",
               "field": "value",
               "type": "quantitative"
              }
             },
             "mark": {
              "type": "line"
             },
             "title": "Divergence of turbulent flux (g/m^3)",
             "transform": [
              {
               "fold": [
                "div_turbulentflux_field",
                "div_turbulentflux_field_lateral",
                "div_turbulentflux_field_vertical"
               ]
              }
             ]
            }
           ],
           "width": 200
          }
         ],
         "resolve": {
          "scale": {
           "color": "independent",
           "x": "shared",
           "y": "shared"
          }
         }
        }
       ],
       "resolve": {
        "scale": {
         "color": "independent",
         "x": "shared",
         "y": "independent"
        }
       },
       "title": "All data"
      },
      "text/plain": [
       "<VegaLite 5 object>\n",
       "\n",
       "If you see this message, it means the renderer has not been properly enabled\n",
       "for the frontend that you are using. For more information, see\n",
       "https://altair-viz.github.io/user_guide/display_frontends.html#troubleshooting\n"
      ]
     },
     "metadata": {
      "application/vnd.vegalite.v5+json": {
       "embed_options": {
        "renderer": "svg"
       }
      }
     },
     "output_type": "display_data"
    }
   ],
   "source": [
    "(\n",
    "    conservation_spatial_mean_composite_plot([\n",
    "            'div_wind_field',\n",
    "            'div_wind_field_lateral',\n",
    "            'div_wind_field_vertical',\n",
    "        ], 'Divergence of wind field (1/s)'\n",
    "    ) | (\n",
    "        conservation_spatial_mean_composite_plot([\n",
    "            'div_advectedflux_field',\n",
    "            'div_advectedflux_field_lateral',\n",
    "            'div_advectedflux_field_vertical',\n",
    "        ], 'Divergence of advective flux (g/m^3)'\n",
    "        ) | conservation_spatial_mean_composite_plot([\n",
    "                'div_turbulentflux_field',\n",
    "                'div_turbulentflux_field_lateral',\n",
    "                'div_turbulentflux_field_vertical',\n",
    "            ], 'Divergence of turbulent flux (g/m^3)'\n",
    "        )\n",
    "    ).resolve_scale(color='independent', x='shared', y='shared')\n",
    ").resolve_scale(\n",
    "    color='independent', x='shared', y='independent',\n",
    ").configure_legend(orient='top', columns=1).properties(\n",
    "    title='All data'\n",
    ").display(renderer='svg')"
   ]
  },
  {
   "cell_type": "code",
   "execution_count": 30,
   "metadata": {},
   "outputs": [
    {
     "data": {
      "application/vnd.vegalite.v5+json": {
       "$schema": "https://vega.github.io/schema/vega-lite/v5.17.0.json",
       "config": {
        "legend": {
         "columns": 1,
         "orient": "top"
        },
        "view": {
         "continuousHeight": 300,
         "continuousWidth": 300
        }
       },
       "datasets": {
        "empty": [
         {}
        ]
       },
       "hconcat": [
        {
         "height": 200,
         "layer": [
          {
           "data": {
            "name": "empty"
           },
           "encoding": {
            "y": {
             "datum": 0
            }
           },
           "mark": {
            "type": "rule"
           }
          },
          {
           "data": {
            "format": {
             "type": "json"
            },
            "url": "altair-data-e6e9773297f51b921b1073b3ee5f2ced.json"
           },
           "encoding": {
            "color": {
             "field": "key",
             "type": "nominal"
            },
            "x": {
             "field": "index",
             "timeUnit": "hoursminutes",
             "title": "time",
             "type": "temporal"
            },
            "y": {
             "aggregate": "median",
             "field": "value",
             "type": "quantitative"
            }
           },
           "mark": {
            "type": "line"
           },
           "title": "Divergence of wind field (1/s)",
           "transform": [
            {
             "fold": [
              "div_wind_field",
              "div_wind_field_lateral",
              "div_wind_field_vertical"
             ]
            }
           ]
          }
         ],
         "width": 200
        },
        {
         "hconcat": [
          {
           "height": 200,
           "layer": [
            {
             "data": {
              "name": "empty"
             },
             "encoding": {
              "y": {
               "datum": 0
              }
             },
             "mark": {
              "type": "rule"
             }
            },
            {
             "data": {
              "format": {
               "type": "json"
              },
              "url": "altair-data-e6e9773297f51b921b1073b3ee5f2ced.json"
             },
             "encoding": {
              "color": {
               "field": "key",
               "type": "nominal"
              },
              "x": {
               "field": "index",
               "timeUnit": "hoursminutes",
               "title": "time",
               "type": "temporal"
              },
              "y": {
               "aggregate": "median",
               "field": "value",
               "type": "quantitative"
              }
             },
             "mark": {
              "type": "line"
             },
             "title": "Divergence of advective flux (g/m^3)",
             "transform": [
              {
               "fold": [
                "div_advectedflux_field",
                "div_advectedflux_field_lateral",
                "div_advectedflux_field_vertical"
               ]
              }
             ]
            }
           ],
           "width": 200
          },
          {
           "height": 200,
           "layer": [
            {
             "data": {
              "name": "empty"
             },
             "encoding": {
              "y": {
               "datum": 0
              }
             },
             "mark": {
              "type": "rule"
             }
            },
            {
             "data": {
              "format": {
               "type": "json"
              },
              "url": "altair-data-e6e9773297f51b921b1073b3ee5f2ced.json"
             },
             "encoding": {
              "color": {
               "field": "key",
               "type": "nominal"
              },
              "x": {
               "field": "index",
               "timeUnit": "hoursminutes",
               "title": "time",
               "type": "temporal"
              },
              "y": {
               "aggregate": "median",
               "field": "value",
               "type": "quantitative"
              }
             },
             "mark": {
              "type": "line"
             },
             "title": "Divergence of turbulent flux (g/m^3)",
             "transform": [
              {
               "fold": [
                "div_turbulentflux_field",
                "div_turbulentflux_field_lateral",
                "div_turbulentflux_field_vertical"
               ]
              }
             ]
            }
           ],
           "width": 200
          }
         ],
         "resolve": {
          "scale": {
           "color": "independent",
           "x": "shared",
           "y": "shared"
          }
         }
        }
       ],
       "resolve": {
        "scale": {
         "color": "independent",
         "x": "shared",
         "y": "independent"
        }
       },
       "title": "All data"
      },
      "text/plain": [
       "<VegaLite 5 object>\n",
       "\n",
       "If you see this message, it means the renderer has not been properly enabled\n",
       "for the frontend that you are using. For more information, see\n",
       "https://altair-viz.github.io/user_guide/display_frontends.html#troubleshooting\n"
      ]
     },
     "metadata": {
      "application/vnd.vegalite.v5+json": {
       "embed_options": {
        "renderer": "svg"
       }
      }
     },
     "output_type": "display_data"
    }
   ],
   "source": [
    "(\n",
    "    conservation_spatial_mean_composite_plot([\n",
    "            'div_wind_field',\n",
    "            'div_wind_field_lateral',\n",
    "            'div_wind_field_vertical',\n",
    "        ], 'Divergence of wind field (1/s)',\n",
    "        set(nobs_times).intersection(set(is_not_snowing_dates))\n",
    "    ) | (\n",
    "        conservation_spatial_mean_composite_plot([\n",
    "            'div_advectedflux_field',\n",
    "            'div_advectedflux_field_lateral',\n",
    "            'div_advectedflux_field_vertical',\n",
    "        ], 'Divergence of advective flux (g/m^3)',\n",
    "        set(nobs_times).intersection(set(is_not_snowing_dates))\n",
    "        ) | conservation_spatial_mean_composite_plot([\n",
    "                'div_turbulentflux_field',\n",
    "                'div_turbulentflux_field_lateral',\n",
    "                'div_turbulentflux_field_vertical',\n",
    "            ], 'Divergence of turbulent flux (g/m^3)',\n",
    "        set(nobs_times).intersection(set(is_not_snowing_dates))\n",
    "        )\n",
    "    ).resolve_scale(color='independent', x='shared', y='shared')\n",
    ").resolve_scale(\n",
    "    color='independent', x='shared', y='independent',\n",
    ").configure_legend(orient='top', columns=1).properties(\n",
    "    title='All data'\n",
    ").display(renderer='svg')"
   ]
  },
  {
   "cell_type": "code",
   "execution_count": 31,
   "metadata": {},
   "outputs": [],
   "source": [
    "src = tidy_df[\n",
    "    tidy_df.time.isin(\n",
    "        set(nobs_times).intersection(set(is_not_snowing_dates))\n",
    "    )\n",
    "]\n",
    "src = src[src.variable.isin(['w_h2o__3m_c', 'w_h2o__5m_c', 'w_h2o__10m_c'])]\n",
    "ec_flux_chart = alt.Chart(\n",
    "    src\n",
    ").mark_line().encode(\n",
    "    alt.X('hoursminutes(time):T'),\n",
    "    alt.Y('median(value):Q'),\n",
    "    alt.Color('height:O')\n",
    ").properties(height = 200, width = 200, title='Vertical turbulent flux (g/m^2/s)')"
   ]
  },
  {
   "cell_type": "code",
   "execution_count": 32,
   "metadata": {},
   "outputs": [
    {
     "data": {
      "application/vnd.vegalite.v5+json": {
       "$schema": "https://vega.github.io/schema/vega-lite/v5.17.0.json",
       "config": {
        "legend": {
         "columns": 1,
         "orient": "top"
        },
        "view": {
         "continuousHeight": 300,
         "continuousWidth": 300
        }
       },
       "datasets": {
        "empty": [
         {}
        ]
       },
       "hconcat": [
        {
         "height": 200,
         "layer": [
          {
           "data": {
            "name": "empty"
           },
           "encoding": {
            "y": {
             "datum": 0
            }
           },
           "mark": {
            "type": "rule"
           }
          },
          {
           "data": {
            "format": {
             "type": "json"
            },
            "url": "altair-data-dbdabf5a6a6258c670715a9290bb0e3c.json"
           },
           "encoding": {
            "color": {
             "field": "key",
             "type": "nominal"
            },
            "x": {
             "field": "index",
             "timeUnit": "hoursminutes",
             "title": "time",
             "type": "temporal"
            },
            "y": {
             "aggregate": "median",
             "field": "value",
             "type": "quantitative"
            }
           },
           "mark": {
            "type": "line"
           },
           "title": "Divergence of wind field (1/s)",
           "transform": [
            {
             "fold": [
              "div_wind_field",
              "div_wind_field_lateral",
              "div_wind_field_vertical"
             ]
            }
           ]
          }
         ],
         "width": 200
        },
        {
         "hconcat": [
          {
           "height": 200,
           "layer": [
            {
             "data": {
              "name": "empty"
             },
             "encoding": {
              "y": {
               "datum": 0
              }
             },
             "mark": {
              "type": "rule"
             }
            },
            {
             "data": {
              "format": {
               "type": "json"
              },
              "url": "altair-data-dbdabf5a6a6258c670715a9290bb0e3c.json"
             },
             "encoding": {
              "color": {
               "field": "key",
               "type": "nominal"
              },
              "x": {
               "field": "index",
               "timeUnit": "hoursminutes",
               "title": "time",
               "type": "temporal"
              },
              "y": {
               "aggregate": "median",
               "field": "value",
               "type": "quantitative"
              }
             },
             "mark": {
              "type": "line"
             },
             "title": "Divergence of advective flux (g/m^2/s)",
             "transform": [
              {
               "fold": [
                "div_advectedflux_field",
                "div_advectedflux_field_lateral",
                "div_advectedflux_field_vertical"
               ]
              }
             ]
            }
           ],
           "width": 200
          },
          {
           "height": 200,
           "layer": [
            {
             "data": {
              "name": "empty"
             },
             "encoding": {
              "y": {
               "datum": 0
              }
             },
             "mark": {
              "type": "rule"
             }
            },
            {
             "data": {
              "format": {
               "type": "json"
              },
              "url": "altair-data-dbdabf5a6a6258c670715a9290bb0e3c.json"
             },
             "encoding": {
              "color": {
               "field": "key",
               "type": "nominal"
              },
              "x": {
               "field": "index",
               "timeUnit": "hoursminutes",
               "title": "time",
               "type": "temporal"
              },
              "y": {
               "aggregate": "median",
               "field": "value",
               "type": "quantitative"
              }
             },
             "mark": {
              "type": "line"
             },
             "title": "Divergence of turbulent flux (g/m^2/s)",
             "transform": [
              {
               "fold": [
                "div_turbulentflux_field",
                "div_turbulentflux_field_lateral",
                "div_turbulentflux_field_vertical"
               ]
              }
             ]
            }
           ],
           "width": 200
          },
          {
           "data": {
            "format": {
             "type": "json"
            },
            "url": "altair-data-369a27cca022af829c05697166f3acc5.json"
           },
           "encoding": {
            "color": {
             "field": "height",
             "type": "ordinal"
            },
            "x": {
             "field": "time",
             "timeUnit": "hoursminutes",
             "type": "temporal"
            },
            "y": {
             "aggregate": "median",
             "field": "value",
             "type": "quantitative"
            }
           },
           "height": 200,
           "mark": {
            "type": "line"
           },
           "title": "Vertical turbulent flux (g/m^2/s)",
           "width": 200
          }
         ],
         "resolve": {
          "scale": {
           "color": "independent",
           "x": "shared",
           "y": "shared"
          }
         }
        }
       ],
       "resolve": {
        "scale": {
         "color": "independent",
         "x": "shared",
         "y": "independent"
        }
       },
       "title": "All data"
      },
      "text/plain": [
       "<VegaLite 5 object>\n",
       "\n",
       "If you see this message, it means the renderer has not been properly enabled\n",
       "for the frontend that you are using. For more information, see\n",
       "https://altair-viz.github.io/user_guide/display_frontends.html#troubleshooting\n"
      ]
     },
     "metadata": {
      "application/vnd.vegalite.v5+json": {
       "embed_options": {
        "renderer": "svg"
       }
      }
     },
     "output_type": "display_data"
    }
   ],
   "source": [
    "(\n",
    "    conservation_spatial_mean_composite_plot([\n",
    "            'div_wind_field',\n",
    "            'div_wind_field_lateral',\n",
    "            'div_wind_field_vertical',\n",
    "        ], 'Divergence of wind field (1/s)',\n",
    "        set(nobs_times).intersection(set(is_not_snowing_dates)),\n",
    "        normalize=7\n",
    "    ) | (\n",
    "        conservation_spatial_mean_composite_plot([\n",
    "            'div_advectedflux_field',\n",
    "            'div_advectedflux_field_lateral',\n",
    "            'div_advectedflux_field_vertical',\n",
    "        ], 'Divergence of advective flux (g/m^2/s)',\n",
    "        set(nobs_times).intersection(set(is_not_snowing_dates)),\n",
    "        normalize=7\n",
    "        ) | conservation_spatial_mean_composite_plot([\n",
    "                'div_turbulentflux_field',\n",
    "                'div_turbulentflux_field_lateral',\n",
    "                'div_turbulentflux_field_vertical',\n",
    "            ], 'Divergence of turbulent flux (g/m^2/s)',\n",
    "        set(nobs_times).intersection(set(is_not_snowing_dates)),\n",
    "        normalize=7\n",
    "        )\n",
    "        |\n",
    "        ec_flux_chart\n",
    "    ).resolve_scale(color='independent', x='shared', y='shared')\n",
    ").resolve_scale(\n",
    "    color='independent', x='shared', y='independent',\n",
    ").configure_legend(orient='top', columns=1).properties(\n",
    "    title='All data'\n",
    ").display(renderer='svg')"
   ]
  },
  {
   "cell_type": "code",
   "execution_count": 33,
   "metadata": {},
   "outputs": [
    {
     "data": {
      "application/vnd.vegalite.v5+json": {
       "$schema": "https://vega.github.io/schema/vega-lite/v5.17.0.json",
       "config": {
        "legend": {
         "columns": 1,
         "orient": "top"
        },
        "view": {
         "continuousHeight": 300,
         "continuousWidth": 300
        }
       },
       "datasets": {
        "empty": [
         {}
        ]
       },
       "hconcat": [
        {
         "height": 200,
         "layer": [
          {
           "data": {
            "name": "empty"
           },
           "encoding": {
            "y": {
             "datum": 0
            }
           },
           "mark": {
            "type": "rule"
           }
          },
          {
           "data": {
            "format": {
             "type": "json"
            },
            "url": "altair-data-f2f75cce889e43fed8d58d593153cb5d.json"
           },
           "encoding": {
            "color": {
             "field": "key",
             "type": "nominal"
            },
            "x": {
             "field": "index",
             "timeUnit": "hoursminutes",
             "title": "time",
             "type": "temporal"
            },
            "y": {
             "aggregate": "median",
             "field": "value",
             "type": "quantitative"
            }
           },
           "mark": {
            "type": "line"
           },
           "title": "Divergence of wind field (1/s)",
           "transform": [
            {
             "fold": [
              "div_wind_field",
              "div_wind_field_lateral",
              "div_wind_field_vertical"
             ]
            }
           ]
          }
         ],
         "width": 200
        },
        {
         "hconcat": [
          {
           "height": 200,
           "layer": [
            {
             "data": {
              "name": "empty"
             },
             "encoding": {
              "y": {
               "datum": 0
              }
             },
             "mark": {
              "type": "rule"
             }
            },
            {
             "data": {
              "format": {
               "type": "json"
              },
              "url": "altair-data-f2f75cce889e43fed8d58d593153cb5d.json"
             },
             "encoding": {
              "color": {
               "field": "key",
               "type": "nominal"
              },
              "x": {
               "field": "index",
               "timeUnit": "hoursminutes",
               "title": "time",
               "type": "temporal"
              },
              "y": {
               "aggregate": "median",
               "field": "value",
               "type": "quantitative"
              }
             },
             "mark": {
              "type": "line"
             },
             "title": "Divergence of advective flux (g/m^2/s)",
             "transform": [
              {
               "fold": [
                "div_advectedflux_field",
                "div_advectedflux_field_lateral",
                "div_advectedflux_field_vertical"
               ]
              }
             ]
            }
           ],
           "width": 200
          },
          {
           "height": 200,
           "layer": [
            {
             "data": {
              "name": "empty"
             },
             "encoding": {
              "y": {
               "datum": 0
              }
             },
             "mark": {
              "type": "rule"
             }
            },
            {
             "data": {
              "format": {
               "type": "json"
              },
              "url": "altair-data-f2f75cce889e43fed8d58d593153cb5d.json"
             },
             "encoding": {
              "color": {
               "field": "key",
               "type": "nominal"
              },
              "x": {
               "field": "index",
               "timeUnit": "hoursminutes",
               "title": "time",
               "type": "temporal"
              },
              "y": {
               "aggregate": "median",
               "field": "value",
               "type": "quantitative"
              }
             },
             "mark": {
              "type": "line"
             },
             "title": "Divergence of turbulent flux (g/m^2/s)",
             "transform": [
              {
               "fold": [
                "div_turbulentflux_field",
                "div_turbulentflux_field_lateral",
                "div_turbulentflux_field_vertical"
               ]
              }
             ]
            }
           ],
           "width": 200
          },
          {
           "data": {
            "format": {
             "type": "json"
            },
            "url": "altair-data-369a27cca022af829c05697166f3acc5.json"
           },
           "encoding": {
            "color": {
             "field": "height",
             "type": "ordinal"
            },
            "x": {
             "field": "time",
             "timeUnit": "hoursminutes",
             "type": "temporal"
            },
            "y": {
             "aggregate": "median",
             "field": "value",
             "type": "quantitative"
            }
           },
           "height": 200,
           "mark": {
            "type": "line"
           },
           "title": "Vertical turbulent flux (g/m^2/s)",
           "width": 200
          }
         ],
         "resolve": {
          "scale": {
           "color": "independent",
           "x": "shared",
           "y": "shared"
          }
         }
        }
       ],
       "resolve": {
        "scale": {
         "color": "independent",
         "x": "shared",
         "y": "independent"
        }
       },
       "title": "All data"
      },
      "text/plain": [
       "<VegaLite 5 object>\n",
       "\n",
       "If you see this message, it means the renderer has not been properly enabled\n",
       "for the frontend that you are using. For more information, see\n",
       "https://altair-viz.github.io/user_guide/display_frontends.html#troubleshooting\n"
      ]
     },
     "metadata": {
      "application/vnd.vegalite.v5+json": {
       "embed_options": {
        "renderer": "svg"
       }
      }
     },
     "output_type": "display_data"
    }
   ],
   "source": [
    "(\n",
    "    conservation_spatial_mean_composite_plot([\n",
    "            'div_wind_field',\n",
    "            'div_wind_field_lateral',\n",
    "            'div_wind_field_vertical',\n",
    "        ], 'Divergence of wind field (1/s)',\n",
    "        set(bs_times),\n",
    "        normalize=7\n",
    "    ) | (\n",
    "        conservation_spatial_mean_composite_plot([\n",
    "            'div_advectedflux_field',\n",
    "            'div_advectedflux_field_lateral',\n",
    "            'div_advectedflux_field_vertical',\n",
    "        ], 'Divergence of advective flux (g/m^2/s)',\n",
    "        set(bs_times),\n",
    "        normalize=7\n",
    "        ) | conservation_spatial_mean_composite_plot([\n",
    "                'div_turbulentflux_field',\n",
    "                'div_turbulentflux_field_lateral',\n",
    "                'div_turbulentflux_field_vertical',\n",
    "            ], 'Divergence of turbulent flux (g/m^2/s)',\n",
    "        set(bs_times),\n",
    "        normalize=7\n",
    "        )\n",
    "        |\n",
    "        ec_flux_chart\n",
    "    ).resolve_scale(color='independent', x='shared', y='shared')\n",
    ").resolve_scale(\n",
    "    color='independent', x='shared', y='independent',\n",
    ").configure_legend(orient='top', columns=1).properties(\n",
    "    title='All data'\n",
    ").display(renderer='svg')"
   ]
  },
  {
   "cell_type": "code",
   "execution_count": 34,
   "metadata": {},
   "outputs": [
    {
     "data": {
      "application/vnd.vegalite.v5+json": {
       "$schema": "https://vega.github.io/schema/vega-lite/v5.17.0.json",
       "config": {
        "view": {
         "continuousHeight": 300,
         "continuousWidth": 300
        }
       },
       "hconcat": [
        {
         "data": {
          "format": {
           "type": "json"
          },
          "url": "altair-data-ce7c89876622e1f15e43439ebd295bc5.json"
         },
         "encoding": {
          "color": {
           "field": "height",
           "type": "ordinal"
          },
          "x": {
           "field": "time",
           "timeUnit": "hoursminutes",
           "type": "temporal"
          },
          "y": {
           "aggregate": "median",
           "field": "value",
           "scale": {
            "zero": false
           },
           "type": "quantitative"
          }
         },
         "mark": {
          "type": "line"
         }
        },
        {
         "data": {
          "format": {
           "type": "json"
          },
          "url": "altair-data-59dbb19f9afd169ece9e64fc0b76dbfc.json"
         },
         "encoding": {
          "color": {
           "field": "height",
           "type": "ordinal"
          },
          "x": {
           "field": "time",
           "timeUnit": "hoursminutes",
           "type": "temporal"
          },
          "y": {
           "aggregate": "median",
           "field": "value",
           "scale": {
            "zero": false
           },
           "type": "quantitative"
          }
         },
         "mark": {
          "type": "line"
         }
        }
       ]
      },
      "text/plain": [
       "<VegaLite 5 object>\n",
       "\n",
       "If you see this message, it means the renderer has not been properly enabled\n",
       "for the frontend that you are using. For more information, see\n",
       "https://altair-viz.github.io/user_guide/display_frontends.html#troubleshooting\n"
      ]
     },
     "execution_count": 34,
     "metadata": {},
     "output_type": "execute_result"
    }
   ],
   "source": [
    "alt.Chart(\n",
    "    tidy_df.query(\"measurement == 'air density'\").query(\"height > 0\")\n",
    ").mark_line().encode(\n",
    "    alt.X('hoursminutes(time):T'),\n",
    "    alt.Y('median(value):Q').scale(zero=False),\n",
    "    alt.Color('height:O')\n",
    ") | alt.Chart(\n",
    "    tidy_df.query(\"measurement == 'temperature'\").query(\"height > 0\")\n",
    ").mark_line().encode(\n",
    "    alt.X('hoursminutes(time):T'),\n",
    "    alt.Y('median(value):Q').scale(zero=False),\n",
    "    alt.Color('height:O')\n",
    ")"
   ]
  },
  {
   "cell_type": "code",
   "execution_count": null,
   "metadata": {},
   "outputs": [],
   "source": []
  }
 ],
 "metadata": {
  "kernelspec": {
   "display_name": "arm",
   "language": "python",
   "name": "python3"
  },
  "language_info": {
   "codemirror_mode": {
    "name": "ipython",
    "version": 3
   },
   "file_extension": ".py",
   "mimetype": "text/x-python",
   "name": "python",
   "nbconvert_exporter": "python",
   "pygments_lexer": "ipython3",
   "version": "3.12.4"
  }
 },
 "nbformat": 4,
 "nbformat_minor": 2
}
