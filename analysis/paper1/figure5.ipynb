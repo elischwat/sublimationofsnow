{
 "cells": [
  {
   "cell_type": "code",
   "execution_count": 1,
   "metadata": {},
   "outputs": [
    {
     "data": {
      "text/plain": [
       "DataTransformerRegistry.enable('json')"
      ]
     },
     "execution_count": 1,
     "metadata": {},
     "output_type": "execute_result"
    }
   ],
   "source": [
    "clear\n",
    "import pandas as pd\n",
    "import numpy as np\n",
    "import altair as alt\n",
    "alt.data_transformers.enable('json')"
   ]
  },
  {
   "cell_type": "markdown",
   "metadata": {},
   "source": [
    "# Open SOS Measurement Dataset"
   ]
  },
  {
   "cell_type": "code",
   "execution_count": 2,
   "metadata": {},
   "outputs": [
    {
     "name": "stderr",
     "output_type": "stream",
     "text": [
      "/tmp/ipykernel_114628/1936205774.py:10: FutureWarning: Value based partial slicing on non-monotonic DatetimeIndexes with non-existing keys is deprecated and will raise a KeyError in a future Version.\n",
      "  tidy_df_5Min = tidy_df_5Min.set_index('time').loc[start_date:end_date].reset_index()\n"
     ]
    }
   ],
   "source": [
    "start_date = '20221130'\n",
    "end_date = '20230509'\n",
    "# open files\n",
    "tidy_df_5Min = pd.read_parquet('../sos/tidy_df_20221130_20230517_noplanar_fit.parquet')\n",
    "tidy_df_30Min = pd.read_parquet('../sos/tidy_df_30Min_20221130_20230517_noplanar_fit.parquet')\n",
    "# convert time column to datetime\n",
    "tidy_df_5Min['time'] = pd.to_datetime(tidy_df_5Min['time'])\n",
    "tidy_df_30Min['time'] = pd.to_datetime(tidy_df_30Min['time'])\n",
    "# limit data to our dates of interest, based on continuous snow cover at Kettle Ponds\n",
    "tidy_df_5Min = tidy_df_5Min.set_index('time').loc[start_date:end_date].reset_index()\n",
    "tidy_df_30Min = tidy_df_30Min.set_index('time').loc[start_date:end_date].reset_index()"
   ]
  },
  {
   "cell_type": "code",
   "execution_count": 3,
   "metadata": {},
   "outputs": [],
   "source": [
    "# quick way to get variable info if we want it \n",
    "# import xarray as xr\n",
    "# ds = xr.open_dataset(\"/data2/elilouis/sublimationofsnow/sosnoqc/isfs_20221228.nc\")\n",
    "# ds['SWE_p2_c']"
   ]
  },
  {
   "cell_type": "markdown",
   "metadata": {},
   "source": [
    "## Clean the data"
   ]
  },
  {
   "cell_type": "markdown",
   "metadata": {},
   "source": [
    "### Step 1: remove all LH flux data points with less than 90% of 20hz data being good\n",
    "### Step 2: remove all LH flux data points with magnitude greater than 1 g/m^2/s"
   ]
  },
  {
   "cell_type": "code",
   "execution_count": 4,
   "metadata": {},
   "outputs": [],
   "source": [
    "ec_lhflux_and_counts_variables = [\n",
    "    ('w_h2o__2m_c', 'counts_2m_c_1'), \n",
    "    ('w_h2o__3m_c', 'counts_3m_c_1'), \n",
    "    ('w_h2o__5m_c', 'counts_5m_c_1'), \n",
    "    ('w_h2o__10m_c', 'counts_10m_c_1'), \n",
    "    ('w_h2o__15m_c', 'counts_15m_c_1'), \n",
    "    ('w_h2o__20m_c', 'counts_20m_c_1'), \n",
    "\n",
    "\n",
    "    ('w_h2o__1m_d', 'counts_1m_d_1'), \n",
    "    ('w_h2o__3m_d', 'counts_3m_d_1'), \n",
    "    ('w_h2o__10m_d', 'counts_10m_d_1'), \n",
    "      \n",
    "    ('w_h2o__1m_ue', 'counts_1m_ue_1'), \n",
    "    ('w_h2o__3m_ue', 'counts_3m_ue_1'), \n",
    "    ('w_h2o__10m_ue', 'counts_10m_ue_1'), \n",
    "\n",
    "\n",
    "    ('w_h2o__1m_uw',  'counts_1m_uw_1'), \n",
    "    ('w_h2o__3m_uw', 'counts_3m_uw_1'), \n",
    "    ('w_h2o__10m_uw', 'counts_10m_uw_1'), \n",
    "]\n",
    "ec_lhflux_variables = list(zip(*ec_lhflux_and_counts_variables))[0]"
   ]
  },
  {
   "cell_type": "code",
   "execution_count": 5,
   "metadata": {},
   "outputs": [
    {
     "data": {
      "text/plain": [
       "(0.005835441437612255, 2.719713578112172, -123.26387023925781, 2131.2578125)"
      ]
     },
     "execution_count": 5,
     "metadata": {},
     "output_type": "execute_result"
    }
   ],
   "source": [
    "all_lhflux_measurements = tidy_df_5Min[tidy_df_5Min.variable.isin(ec_lhflux_variables)].value\n",
    "all_lhflux_measurements.mean(), all_lhflux_measurements.std(), all_lhflux_measurements.min(), all_lhflux_measurements.max()"
   ]
  },
  {
   "cell_type": "code",
   "execution_count": 6,
   "metadata": {},
   "outputs": [
    {
     "name": "stdout",
     "output_type": "stream",
     "text": [
      "0.005999783807095677 2.7375154019082126 -28.619958877563477 2131.2578125\n"
     ]
    }
   ],
   "source": [
    "####################################################################################\n",
    "# Remove all data points at once - perform both steps 1 and 2 simultaneously\n",
    "####################################################################################\n",
    "# for flux_var, counts_var in ec_lhflux_and_counts_variables:\n",
    "#     print(flux_var, counts_var)\n",
    "#     counts_src = tidy_df_5Min[tidy_df_5Min.variable == counts_var]\n",
    "#     times_with_good_data_50percent = counts_src[counts_src.value >= 5400].time\n",
    "#     n_before_dropping = len(tidy_df_5Min.loc[(tidy_df_5Min['variable'] == flux_var)].dropna())\n",
    "#     tidy_df_5Min.loc[\n",
    "#         (~tidy_df_5Min['time'].isin(times_with_good_data_50percent)) &\n",
    "#         (tidy_df_5Min['variable'] == flux_var),\n",
    "#         'value'\n",
    "#     ] = np.nan\n",
    "#     n_after_step_1 = len(tidy_df_5Min.loc[(tidy_df_5Min['variable'] == flux_var)].dropna())\n",
    "\n",
    "#     variable_src = tidy_df_5Min[tidy_df_5Min.variable == flux_var]\n",
    "#     times_with_outofbounds_values = variable_src[np.abs(variable_src.value) > 1].time\n",
    "#     tidy_df_5Min.loc[\n",
    "#         (tidy_df_5Min['time'].isin(times_with_outofbounds_values)) & \n",
    "#         (tidy_df_5Min['variable'] == flux_var),\n",
    "#         'value'\n",
    "#     ] = np.nan\n",
    "#     n_after_step_2 = len(tidy_df_5Min.loc[(tidy_df_5Min['variable'] == flux_var)].dropna())\n",
    "#     print(n_before_dropping, n_after_step_1, n_after_step_2)\n",
    "#     print(round((n_before_dropping-n_after_step_2)/n_before_dropping, 3))\n",
    "\n",
    "####################################################################################\n",
    "# Perform steps 1 and 2 separately \n",
    "####################################################################################\n",
    "for flux_var, counts_var in ec_lhflux_and_counts_variables:\n",
    "    counts_src = tidy_df_5Min[tidy_df_5Min.variable == counts_var]\n",
    "    times_with_good_data_50percent = counts_src[counts_src.value >= 5400].time\n",
    "    tidy_df_5Min.loc[\n",
    "        (~tidy_df_5Min['time'].isin(times_with_good_data_50percent)) &\n",
    "        (tidy_df_5Min['variable'] == flux_var),\n",
    "        'value'\n",
    "    ] = np.nan\n",
    "\n",
    "all_lhflux_measurements = tidy_df_5Min[tidy_df_5Min.variable.isin(ec_lhflux_variables)].value\n",
    "mean = all_lhflux_measurements.mean() \n",
    "stddev = all_lhflux_measurements.std()\n",
    "print(mean, stddev, all_lhflux_measurements.min(), all_lhflux_measurements.max())\n",
    "\n",
    "for flux_var, counts_var in ec_lhflux_and_counts_variables:\n",
    "    variable_src = tidy_df_5Min[tidy_df_5Min.variable == flux_var]\n",
    "    times_with_outofbounds_values = variable_src[\n",
    "        ((variable_src.value) > (mean + 5*stddev)) |\n",
    "        ((variable_src.value) < (mean - 5*stddev))\n",
    "    ].time\n",
    "    tidy_df_5Min.loc[\n",
    "        (tidy_df_5Min['time'].isin(times_with_outofbounds_values)) & \n",
    "        (tidy_df_5Min['variable'] == flux_var),\n",
    "        'value'\n",
    "    ] = np.nan"
   ]
  },
  {
   "cell_type": "code",
   "execution_count": 7,
   "metadata": {},
   "outputs": [
    {
     "name": "stdout",
     "output_type": "stream",
     "text": [
      "0.002559840776554578 0.018658400299491427 -8.453908920288086 4.933438777923584\n"
     ]
    }
   ],
   "source": [
    "all_lhflux_measurements = tidy_df_5Min[tidy_df_5Min.variable.isin(ec_lhflux_variables)].value\n",
    "print(all_lhflux_measurements.mean(), all_lhflux_measurements.std(), all_lhflux_measurements.min(), all_lhflux_measurements.max())"
   ]
  },
  {
   "cell_type": "markdown",
   "metadata": {},
   "source": [
    "# Open Model Ensemble Dataset"
   ]
  },
  {
   "cell_type": "code",
   "execution_count": 8,
   "metadata": {},
   "outputs": [
    {
     "data": {
      "text/html": [
       "<div>\n",
       "<style scoped>\n",
       "    .dataframe tbody tr th:only-of-type {\n",
       "        vertical-align: middle;\n",
       "    }\n",
       "\n",
       "    .dataframe tbody tr th {\n",
       "        vertical-align: top;\n",
       "    }\n",
       "\n",
       "    .dataframe thead th {\n",
       "        text-align: right;\n",
       "    }\n",
       "</style>\n",
       "<table border=\"1\" class=\"dataframe\">\n",
       "  <thead>\n",
       "    <tr style=\"text-align: right;\">\n",
       "      <th></th>\n",
       "      <th>time</th>\n",
       "      <th>config</th>\n",
       "      <th>latent heat flux</th>\n",
       "      <th>sensible heat flux</th>\n",
       "      <th>zeta</th>\n",
       "      <th>latent heat conductance</th>\n",
       "      <th>sensible heat conductance</th>\n",
       "      <th>z0</th>\n",
       "      <th>e_sat_curve</th>\n",
       "      <th>surface_measurement</th>\n",
       "      <th>scheme</th>\n",
       "      <th>most_config</th>\n",
       "    </tr>\n",
       "  </thead>\n",
       "  <tbody>\n",
       "    <tr>\n",
       "      <th>0</th>\n",
       "      <td>2022-11-29 17:00:00</td>\n",
       "      <td>Standard Tsurf_c e_sat_metpy 1e-05</td>\n",
       "      <td>0.003384</td>\n",
       "      <td>0.002263</td>\n",
       "      <td>NaN</td>\n",
       "      <td>0.003490</td>\n",
       "      <td>0.003490</td>\n",
       "      <td>0.00001</td>\n",
       "      <td>metpy</td>\n",
       "      <td>Tsurf_c</td>\n",
       "      <td>yang</td>\n",
       "      <td>Standard</td>\n",
       "    </tr>\n",
       "    <tr>\n",
       "      <th>1</th>\n",
       "      <td>2022-11-29 17:30:00</td>\n",
       "      <td>Standard Tsurf_c e_sat_metpy 1e-05</td>\n",
       "      <td>0.005943</td>\n",
       "      <td>0.000919</td>\n",
       "      <td>NaN</td>\n",
       "      <td>0.004690</td>\n",
       "      <td>0.004690</td>\n",
       "      <td>0.00001</td>\n",
       "      <td>metpy</td>\n",
       "      <td>Tsurf_c</td>\n",
       "      <td>yang</td>\n",
       "      <td>Standard</td>\n",
       "    </tr>\n",
       "    <tr>\n",
       "      <th>2</th>\n",
       "      <td>2022-11-29 18:00:00</td>\n",
       "      <td>Standard Tsurf_c e_sat_metpy 1e-05</td>\n",
       "      <td>0.004470</td>\n",
       "      <td>-0.001354</td>\n",
       "      <td>NaN</td>\n",
       "      <td>0.003773</td>\n",
       "      <td>0.003773</td>\n",
       "      <td>0.00001</td>\n",
       "      <td>metpy</td>\n",
       "      <td>Tsurf_c</td>\n",
       "      <td>yang</td>\n",
       "      <td>Standard</td>\n",
       "    </tr>\n",
       "    <tr>\n",
       "      <th>3</th>\n",
       "      <td>2022-11-29 18:30:00</td>\n",
       "      <td>Standard Tsurf_c e_sat_metpy 1e-05</td>\n",
       "      <td>0.001274</td>\n",
       "      <td>-0.001298</td>\n",
       "      <td>NaN</td>\n",
       "      <td>0.001657</td>\n",
       "      <td>0.001657</td>\n",
       "      <td>0.00001</td>\n",
       "      <td>metpy</td>\n",
       "      <td>Tsurf_c</td>\n",
       "      <td>yang</td>\n",
       "      <td>Standard</td>\n",
       "    </tr>\n",
       "    <tr>\n",
       "      <th>4</th>\n",
       "      <td>2022-11-29 19:00:00</td>\n",
       "      <td>Standard Tsurf_c e_sat_metpy 1e-05</td>\n",
       "      <td>0.000506</td>\n",
       "      <td>-0.000939</td>\n",
       "      <td>NaN</td>\n",
       "      <td>0.001040</td>\n",
       "      <td>0.001040</td>\n",
       "      <td>0.00001</td>\n",
       "      <td>metpy</td>\n",
       "      <td>Tsurf_c</td>\n",
       "      <td>yang</td>\n",
       "      <td>Standard</td>\n",
       "    </tr>\n",
       "  </tbody>\n",
       "</table>\n",
       "</div>"
      ],
      "text/plain": [
       "                 time                              config  latent heat flux  \\\n",
       "0 2022-11-29 17:00:00  Standard Tsurf_c e_sat_metpy 1e-05          0.003384   \n",
       "1 2022-11-29 17:30:00  Standard Tsurf_c e_sat_metpy 1e-05          0.005943   \n",
       "2 2022-11-29 18:00:00  Standard Tsurf_c e_sat_metpy 1e-05          0.004470   \n",
       "3 2022-11-29 18:30:00  Standard Tsurf_c e_sat_metpy 1e-05          0.001274   \n",
       "4 2022-11-29 19:00:00  Standard Tsurf_c e_sat_metpy 1e-05          0.000506   \n",
       "\n",
       "   sensible heat flux  zeta  latent heat conductance  \\\n",
       "0            0.002263   NaN                 0.003490   \n",
       "1            0.000919   NaN                 0.004690   \n",
       "2           -0.001354   NaN                 0.003773   \n",
       "3           -0.001298   NaN                 0.001657   \n",
       "4           -0.000939   NaN                 0.001040   \n",
       "\n",
       "   sensible heat conductance       z0 e_sat_curve surface_measurement scheme  \\\n",
       "0                   0.003490  0.00001       metpy             Tsurf_c   yang   \n",
       "1                   0.004690  0.00001       metpy             Tsurf_c   yang   \n",
       "2                   0.003773  0.00001       metpy             Tsurf_c   yang   \n",
       "3                   0.001657  0.00001       metpy             Tsurf_c   yang   \n",
       "4                   0.001040  0.00001       metpy             Tsurf_c   yang   \n",
       "\n",
       "  most_config  \n",
       "0    Standard  \n",
       "1    Standard  \n",
       "2    Standard  \n",
       "3    Standard  \n",
       "4    Standard  "
      ]
     },
     "execution_count": 8,
     "metadata": {},
     "output_type": "execute_result"
    }
   ],
   "source": [
    "model_df = pd.read_parquet(\"model_results.parquet\")\n",
    "# add a bunch of columns that are descriptive, from the config column which has multiple bits of info\n",
    "model_df['z0'] = model_df['config'].apply(\n",
    "    lambda v: float(v.split(' ')[-1])\n",
    ")\n",
    "model_df['e_sat_curve'] = model_df['config'].apply(\n",
    "    lambda v: 'metpy' if 'metpy' in v else 'alduchov'\n",
    ")\n",
    "model_df['surface_measurement'] = model_df['config'].apply(\n",
    "    lambda v: v.split(' ')[-3]\n",
    ")\n",
    "model_df['scheme'] = model_df['config'].apply(\n",
    "    lambda v: 'andreas' if 'andreas lengths' in v else 'yang'\n",
    ")\n",
    "model_df['most_config'] = model_df['config'].apply(lambda s: ' '.join(s.split(' ')[:-3]))\n",
    "# remove the scalar roughness length parameterization info \n",
    "model_df['most_config'] = model_df['most_config'].str.replace(' andreas lengths', '')\n",
    "model_df.head()"
   ]
  },
  {
   "cell_type": "markdown",
   "metadata": {},
   "source": [
    "### Handle a pesky outlier"
   ]
  },
  {
   "cell_type": "code",
   "execution_count": 9,
   "metadata": {},
   "outputs": [],
   "source": [
    "model_df.loc[(model_df.time == \"2023-01-22 1400\") & (model_df.surface_measurement == 'Tsurf_d'), 'latent heat flux'] = 0\n",
    "model_df.loc[(model_df.time == \"2023-01-22 1400\") & (model_df.surface_measurement == 'Tsurf_d'), 'sensible heat flux'] = 0"
   ]
  },
  {
   "cell_type": "markdown",
   "metadata": {},
   "source": [
    "# Scatterplots"
   ]
  },
  {
   "cell_type": "code",
   "execution_count": 10,
   "metadata": {},
   "outputs": [
    {
     "name": "stderr",
     "output_type": "stream",
     "text": [
      "/tmp/ipykernel_114628/1688588890.py:8: SettingWithCopyWarning: \n",
      "A value is trying to be set on a copy of a slice from a DataFrame.\n",
      "Try using .loc[row_indexer,col_indexer] = value instead\n",
      "\n",
      "See the caveats in the documentation: https://pandas.pydata.org/pandas-docs/stable/user_guide/indexing.html#returning-a-view-versus-a-copy\n",
      "  best_model_df['z0'] = best_model_df['z0'].astype('str')\n"
     ]
    },
    {
     "data": {
      "text/html": [
       "<div>\n",
       "<style scoped>\n",
       "    .dataframe tbody tr th:only-of-type {\n",
       "        vertical-align: middle;\n",
       "    }\n",
       "\n",
       "    .dataframe tbody tr th {\n",
       "        vertical-align: top;\n",
       "    }\n",
       "\n",
       "    .dataframe thead th {\n",
       "        text-align: right;\n",
       "    }\n",
       "</style>\n",
       "<table border=\"1\" class=\"dataframe\">\n",
       "  <thead>\n",
       "    <tr style=\"text-align: right;\">\n",
       "      <th></th>\n",
       "      <th>latent heat flux_0.0001</th>\n",
       "      <th>latent heat flux_1e-05</th>\n",
       "    </tr>\n",
       "    <tr>\n",
       "      <th>time</th>\n",
       "      <th></th>\n",
       "      <th></th>\n",
       "    </tr>\n",
       "  </thead>\n",
       "  <tbody>\n",
       "    <tr>\n",
       "      <th>2022-11-29 17:00:00</th>\n",
       "      <td>0.003635</td>\n",
       "      <td>0.002706</td>\n",
       "    </tr>\n",
       "    <tr>\n",
       "      <th>2022-11-29 17:30:00</th>\n",
       "      <td>0.006898</td>\n",
       "      <td>0.005221</td>\n",
       "    </tr>\n",
       "    <tr>\n",
       "      <th>2022-11-29 18:00:00</th>\n",
       "      <td>0.005146</td>\n",
       "      <td>0.003832</td>\n",
       "    </tr>\n",
       "    <tr>\n",
       "      <th>2022-11-29 18:30:00</th>\n",
       "      <td>0.001275</td>\n",
       "      <td>0.000903</td>\n",
       "    </tr>\n",
       "    <tr>\n",
       "      <th>2022-11-29 19:00:00</th>\n",
       "      <td>0.000346</td>\n",
       "      <td>0.000237</td>\n",
       "    </tr>\n",
       "    <tr>\n",
       "      <th>...</th>\n",
       "      <td>...</td>\n",
       "      <td>...</td>\n",
       "    </tr>\n",
       "    <tr>\n",
       "      <th>2023-05-17 15:30:00</th>\n",
       "      <td>0.239132</td>\n",
       "      <td>0.181736</td>\n",
       "    </tr>\n",
       "    <tr>\n",
       "      <th>2023-05-17 16:00:00</th>\n",
       "      <td>0.185930</td>\n",
       "      <td>0.140563</td>\n",
       "    </tr>\n",
       "    <tr>\n",
       "      <th>2023-05-17 16:30:00</th>\n",
       "      <td>0.161845</td>\n",
       "      <td>0.121735</td>\n",
       "    </tr>\n",
       "    <tr>\n",
       "      <th>2023-05-17 17:00:00</th>\n",
       "      <td>0.130470</td>\n",
       "      <td>0.099081</td>\n",
       "    </tr>\n",
       "    <tr>\n",
       "      <th>2023-05-17 17:30:00</th>\n",
       "      <td>0.140590</td>\n",
       "      <td>0.108213</td>\n",
       "    </tr>\n",
       "  </tbody>\n",
       "</table>\n",
       "<p>7959 rows × 2 columns</p>\n",
       "</div>"
      ],
      "text/plain": [
       "                     latent heat flux_0.0001  latent heat flux_1e-05\n",
       "time                                                                \n",
       "2022-11-29 17:00:00                 0.003635                0.002706\n",
       "2022-11-29 17:30:00                 0.006898                0.005221\n",
       "2022-11-29 18:00:00                 0.005146                0.003832\n",
       "2022-11-29 18:30:00                 0.001275                0.000903\n",
       "2022-11-29 19:00:00                 0.000346                0.000237\n",
       "...                                      ...                     ...\n",
       "2023-05-17 15:30:00                 0.239132                0.181736\n",
       "2023-05-17 16:00:00                 0.185930                0.140563\n",
       "2023-05-17 16:30:00                 0.161845                0.121735\n",
       "2023-05-17 17:00:00                 0.130470                0.099081\n",
       "2023-05-17 17:30:00                 0.140590                0.108213\n",
       "\n",
       "[7959 rows x 2 columns]"
      ]
     },
     "execution_count": 10,
     "metadata": {},
     "output_type": "execute_result"
    }
   ],
   "source": [
    "# Find the best performing model configuration\n",
    "best_model_df = model_df[\n",
    "    model_df['config'].isin([\n",
    "        'MO Holtslag de Bruin andreas lengths Tsurf_c e_sat_alduchov 1e-05',\n",
    "        'MO Holtslag de Bruin andreas lengths Tsurf_c e_sat_alduchov 0.0001'\n",
    "    ]) \n",
    "]\n",
    "best_model_df['z0'] = best_model_df['z0'].astype('str')\n",
    "best_model_df = best_model_df[['time', 'z0', 'latent heat flux']].pivot_table(\n",
    "    index='time', columns='z0',\n",
    ")\n",
    "best_model_df.columns = best_model_df.columns.to_flat_index().str.join('_')\n",
    "best_model_df"
   ]
  },
  {
   "cell_type": "code",
   "execution_count": 11,
   "metadata": {},
   "outputs": [],
   "source": [
    "model_meas_df = tidy_df_30Min.query(\"variable == 'w_h2o__3m_c'\").set_index('time')[['value']].join(\n",
    "    best_model_df\n",
    ").reset_index().rename(columns={\n",
    "    'value': 'measured',\n",
    "    'latent heat flux_0.0001': 'modeled z0=1e-4',\n",
    "    'latent heat flux_1e-05': 'modeled z0=1e-5',\n",
    "})"
   ]
  },
  {
   "cell_type": "code",
   "execution_count": 12,
   "metadata": {},
   "outputs": [
    {
     "data": {
      "text/html": [
       "<div>\n",
       "<style scoped>\n",
       "    .dataframe tbody tr th:only-of-type {\n",
       "        vertical-align: middle;\n",
       "    }\n",
       "\n",
       "    .dataframe tbody tr th {\n",
       "        vertical-align: top;\n",
       "    }\n",
       "\n",
       "    .dataframe thead th {\n",
       "        text-align: right;\n",
       "    }\n",
       "</style>\n",
       "<table border=\"1\" class=\"dataframe\">\n",
       "  <thead>\n",
       "    <tr style=\"text-align: right;\">\n",
       "      <th></th>\n",
       "      <th>time</th>\n",
       "      <th>measured</th>\n",
       "      <th>modeled z0=1e-4</th>\n",
       "      <th>modeled z0=1e-5</th>\n",
       "    </tr>\n",
       "  </thead>\n",
       "  <tbody>\n",
       "    <tr>\n",
       "      <th>0</th>\n",
       "      <td>2022-11-30 00:00:00</td>\n",
       "      <td>-0.001787</td>\n",
       "      <td>0.000196</td>\n",
       "      <td>0.000144</td>\n",
       "    </tr>\n",
       "    <tr>\n",
       "      <th>1</th>\n",
       "      <td>2022-11-30 00:30:00</td>\n",
       "      <td>-0.000391</td>\n",
       "      <td>0.000099</td>\n",
       "      <td>0.000069</td>\n",
       "    </tr>\n",
       "    <tr>\n",
       "      <th>2</th>\n",
       "      <td>2022-11-30 01:00:00</td>\n",
       "      <td>-0.000274</td>\n",
       "      <td>0.000200</td>\n",
       "      <td>0.000139</td>\n",
       "    </tr>\n",
       "    <tr>\n",
       "      <th>3</th>\n",
       "      <td>2022-11-30 01:30:00</td>\n",
       "      <td>-0.000585</td>\n",
       "      <td>0.000240</td>\n",
       "      <td>0.000172</td>\n",
       "    </tr>\n",
       "    <tr>\n",
       "      <th>4</th>\n",
       "      <td>2022-11-30 02:00:00</td>\n",
       "      <td>-0.000451</td>\n",
       "      <td>0.000012</td>\n",
       "      <td>0.000008</td>\n",
       "    </tr>\n",
       "    <tr>\n",
       "      <th>...</th>\n",
       "      <td>...</td>\n",
       "      <td>...</td>\n",
       "      <td>...</td>\n",
       "      <td>...</td>\n",
       "    </tr>\n",
       "    <tr>\n",
       "      <th>7723</th>\n",
       "      <td>2023-05-09 21:30:00</td>\n",
       "      <td>0.002582</td>\n",
       "      <td>0.003275</td>\n",
       "      <td>0.002276</td>\n",
       "    </tr>\n",
       "    <tr>\n",
       "      <th>7724</th>\n",
       "      <td>2023-05-09 22:00:00</td>\n",
       "      <td>0.002467</td>\n",
       "      <td>0.003895</td>\n",
       "      <td>0.002762</td>\n",
       "    </tr>\n",
       "    <tr>\n",
       "      <th>7725</th>\n",
       "      <td>2023-05-09 22:30:00</td>\n",
       "      <td>0.001783</td>\n",
       "      <td>0.002228</td>\n",
       "      <td>0.001543</td>\n",
       "    </tr>\n",
       "    <tr>\n",
       "      <th>7726</th>\n",
       "      <td>2023-05-09 23:00:00</td>\n",
       "      <td>0.001709</td>\n",
       "      <td>0.002274</td>\n",
       "      <td>0.001597</td>\n",
       "    </tr>\n",
       "    <tr>\n",
       "      <th>7727</th>\n",
       "      <td>2023-05-09 23:30:00</td>\n",
       "      <td>0.001495</td>\n",
       "      <td>0.002064</td>\n",
       "      <td>0.001451</td>\n",
       "    </tr>\n",
       "  </tbody>\n",
       "</table>\n",
       "<p>7728 rows × 4 columns</p>\n",
       "</div>"
      ],
      "text/plain": [
       "                    time  measured  modeled z0=1e-4  modeled z0=1e-5\n",
       "0    2022-11-30 00:00:00 -0.001787         0.000196         0.000144\n",
       "1    2022-11-30 00:30:00 -0.000391         0.000099         0.000069\n",
       "2    2022-11-30 01:00:00 -0.000274         0.000200         0.000139\n",
       "3    2022-11-30 01:30:00 -0.000585         0.000240         0.000172\n",
       "4    2022-11-30 02:00:00 -0.000451         0.000012         0.000008\n",
       "...                  ...       ...              ...              ...\n",
       "7723 2023-05-09 21:30:00  0.002582         0.003275         0.002276\n",
       "7724 2023-05-09 22:00:00  0.002467         0.003895         0.002762\n",
       "7725 2023-05-09 22:30:00  0.001783         0.002228         0.001543\n",
       "7726 2023-05-09 23:00:00  0.001709         0.002274         0.001597\n",
       "7727 2023-05-09 23:30:00  0.001495         0.002064         0.001451\n",
       "\n",
       "[7728 rows x 4 columns]"
      ]
     },
     "execution_count": 12,
     "metadata": {},
     "output_type": "execute_result"
    }
   ],
   "source": [
    "model_meas_df"
   ]
  },
  {
   "cell_type": "code",
   "execution_count": 13,
   "metadata": {},
   "outputs": [],
   "source": [
    "from sklearn.metrics import r2_score"
   ]
  },
  {
   "cell_type": "code",
   "execution_count": 14,
   "metadata": {},
   "outputs": [
    {
     "ename": "IndentationError",
     "evalue": "unexpected indent (709123313.py, line 2)",
     "output_type": "error",
     "traceback": [
      "\u001b[0;36m  Cell \u001b[0;32mIn[14], line 2\u001b[0;36m\u001b[0m\n\u001b[0;31m    model_meas_df.dropna()['measured'],\u001b[0m\n\u001b[0m    ^\u001b[0m\n\u001b[0;31mIndentationError\u001b[0m\u001b[0;31m:\u001b[0m unexpected indent\n"
     ]
    }
   ],
   "source": [
    ", r2_score(\n",
    "    model_meas_df.dropna()['measured'],\n",
    "    model_meas_df.dropna()['modeled z0=1e-5'],\n",
    ")"
   ]
  },
  {
   "cell_type": "code",
   "execution_count": null,
   "metadata": {},
   "outputs": [],
   "source": [
    "def model_comparison_plot(src):\n",
    "    one_to_one_line = alt.Chart(pd.DataFrame({\n",
    "        'x': [-0.05, -0.025, 0.0, 0.025, 0.05],\n",
    "        'y': [-0.05, -0.025, 0.0, 0.025, 0.05]\n",
    "    })).mark_line(\n",
    "        color='grey'\n",
    "    ).encode(x = 'x', y = 'y')\n",
    "\n",
    "    value_r2_score_1eneg4 = round(\n",
    "        r2_score(\n",
    "            src.dropna()['measured'],\n",
    "            src.dropna()['modeled z0=1e-4'],\n",
    "        ),\n",
    "        3\n",
    "    )\n",
    "    value_r2_score_1eneg5 = round(\n",
    "        r2_score(\n",
    "            src.dropna()['measured'],\n",
    "            src.dropna()['modeled z0=1e-5'],\n",
    "        ),\n",
    "        3\n",
    "    )\n",
    "    scale = alt.Scale(domain = [-0.05, 0.05], clamp=True)\n",
    "    axis = alt.Axis(values=[-0.05, -0.025, 0.0, 0.025, 0.05])\n",
    "    return (\n",
    "        # (\n",
    "        #     one_to_one_line+alt.Chart(src).mark_circle(size=10, opacity=0.1).encode(\n",
    "        #         alt.X(\"measured:Q\").scale(scale).axis(axis),\n",
    "        #         alt.Y(\"modeled z0=1e-4:Q\").scale(scale).axis(axis),\n",
    "        #     ).properties(width=200, height = 200, title=f\"r² = {value_r2_score_1eneg4} (n = {len(src)})\") | \\\n",
    "        #     one_to_one_line+alt.Chart(src).mark_rect().encode(\n",
    "        #         alt.X(\"measured:Q\").bin(maxbins=30).scale(scale).axis(axis),\n",
    "        #         alt.Y(\"modeled z0=1e-4:Q\").bin(maxbins=30).scale(scale).axis(axis),\n",
    "        #         alt.Color(\"count():Q\")\n",
    "        #     ).properties(width=200, height = 200, title=f\"r² = {value_r2_score_1eneg4} (n = {len(src)})\")\n",
    "        # ) &\\\n",
    "        (\n",
    "            one_to_one_line+alt.Chart(src).mark_circle(size=10, opacity=0.1).encode(\n",
    "                alt.X(\"measured:Q\").scale(scale).axis(axis),\n",
    "                alt.Y(\"modeled z0=1e-5:Q\").scale(scale).axis(axis),\n",
    "            ).properties(width=200, height = 200, title=f\"r² = {value_r2_score_1eneg5} (n = {len(src)})\") | \\\n",
    "            one_to_one_line+alt.Chart(src).mark_rect().encode(\n",
    "                alt.X(\"measured:Q\").bin(maxbins=30).scale(scale).axis(axis),\n",
    "                alt.Y(\"modeled z0=1e-5:Q\").bin(maxbins=30).scale(scale).axis(axis),\n",
    "                alt.Color(\"count():Q\")\n",
    "            ).properties(width=200, height = 200, title=f\"r² = {value_r2_score_1eneg5} (n = {len(src)})\")   \n",
    "        )\n",
    "    )"
   ]
  },
  {
   "cell_type": "code",
   "execution_count": null,
   "metadata": {},
   "outputs": [],
   "source": [
    "unstable_times = tidy_df_30Min.query(\"variable == 'temp_gradient_3m_c'\").query(\n",
    "    \"value < -0.01\"\n",
    ").time\n",
    "stable_times = tidy_df_30Min.query(\"variable == 'temp_gradient_3m_c'\").query(\n",
    "    \"value > 0.01\"\n",
    ").time\n",
    "neutral_times = tidy_df_30Min.query(\"variable == 'temp_gradient_3m_c'\").query(\n",
    "    \"value <= 0.01 & value >= -0.01\"\n",
    ").time\n",
    "\n",
    "blowing_snow_times = pd.concat([\n",
    "    tidy_df_30Min.query(\"variable == 'SF_avg_2m_ue'\").query(\"value > 0\").time,\n",
    "    tidy_df_30Min.query(\"variable == 'SF_avg_1m_ue'\").query(\"value > 0\").time\n",
    "])\n",
    "clear_times = tidy_df_30Min.query(\"variable == 'SF_avg_2m_ue'\").time[\n",
    "    ~ tidy_df_30Min.query(\"variable == 'SF_avg_2m_ue'\").time.isin(blowing_snow_times)\n",
    "]\n",
    "\n",
    "winter_times = tidy_df_30Min.query(\"variable == 'SF_avg_2m_ue'\").set_index(\"time\").loc[:\"2023-02-28\"].index.values\n",
    "spring_times = tidy_df_30Min.query(\"variable == 'SF_avg_2m_ue'\").set_index(\"time\").loc[\"2023-03-01\":].index.values"
   ]
  },
  {
   "cell_type": "code",
   "execution_count": null,
   "metadata": {},
   "outputs": [],
   "source": [
    "model_comparison_plot(model_meas_df)"
   ]
  },
  {
   "cell_type": "code",
   "execution_count": null,
   "metadata": {},
   "outputs": [],
   "source": [
    "(model_comparison_plot(model_meas_df[model_meas_df.time.isin(unstable_times.values)]).properties(title='Unstable data') |\\\n",
    "model_comparison_plot(model_meas_df[model_meas_df.time.isin(stable_times.values)]).properties(title='Stable data') |\\\n",
    "model_comparison_plot(model_meas_df[model_meas_df.time.isin(neutral_times.values)]).properties(title='Neutral data')).resolve_scale(color='independent')"
   ]
  },
  {
   "cell_type": "code",
   "execution_count": null,
   "metadata": {},
   "outputs": [],
   "source": [
    "(\n",
    "model_comparison_plot(model_meas_df[model_meas_df.time.isin(blowing_snow_times.values)]).properties(title='Blowing snow data') |\\\n",
    "model_comparison_plot(model_meas_df[model_meas_df.time.isin(clear_times.values)]).properties(title='Clear data')).resolve_scale(color='independent')"
   ]
  },
  {
   "cell_type": "code",
   "execution_count": null,
   "metadata": {},
   "outputs": [],
   "source": [
    "(\n",
    "model_comparison_plot(model_meas_df[model_meas_df.time.isin(winter_times.values)]).properties(title='Winter data') |\\\n",
    "model_comparison_plot(model_meas_df[model_meas_df.time.isin(spring_times.values)]).properties(title='Spring data')).resolve_scale(color='independent')"
   ]
  }
 ],
 "metadata": {
  "kernelspec": {
   "display_name": "arm",
   "language": "python",
   "name": "python3"
  },
  "language_info": {
   "codemirror_mode": {
    "name": "ipython",
    "version": 3
   },
   "file_extension": ".py",
   "mimetype": "text/x-python",
   "name": "python",
   "nbconvert_exporter": "python",
   "pygments_lexer": "ipython3",
   "version": "3.11.0"
  }
 },
 "nbformat": 4,
 "nbformat_minor": 2
}
