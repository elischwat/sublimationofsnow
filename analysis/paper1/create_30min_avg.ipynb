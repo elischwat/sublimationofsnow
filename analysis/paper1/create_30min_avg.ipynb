{
 "cells": [
  {
   "cell_type": "code",
   "execution_count": 1,
   "metadata": {},
   "outputs": [],
   "source": [
    "import pandas as pd"
   ]
  },
  {
   "cell_type": "markdown",
   "metadata": {},
   "source": [
    "# Open data"
   ]
  },
  {
   "cell_type": "markdown",
   "metadata": {},
   "source": [
    "## Open SOS Measurement Dataset"
   ]
  },
  {
   "cell_type": "code",
   "execution_count": 2,
   "metadata": {},
   "outputs": [],
   "source": [
    "start_date = '20221130'\n",
    "end_date = '20230509'\n",
    "# open files\n",
    "tidy_df_5Min_fn = f'tidy_df_{start_date}_{end_date}_noplanar_fit_clean.parquet'\n",
    "tidy_df_5Min = pd.read_parquet(tidy_df_5Min_fn)\n",
    "# convert time column to datetime\n",
    "tidy_df_5Min['time'] = pd.to_datetime(tidy_df_5Min['time'])\n",
    "# limit data to our dates of interest, based on continuous snow cover at Kettle Ponds\n",
    "tidy_df_5Min = tidy_df_5Min.set_index('time').sort_index().loc[start_date:end_date].reset_index()\n",
    "\n",
    "OUTPUT_FILENAME = f'tidy_df_30min_{start_date}_{end_date}_noplanar_fit_clean.parquet'"
   ]
  },
  {
   "cell_type": "code",
   "execution_count": 3,
   "metadata": {},
   "outputs": [
    {
     "data": {
      "text/html": [
       "<div>\n",
       "<style scoped>\n",
       "    .dataframe tbody tr th:only-of-type {\n",
       "        vertical-align: middle;\n",
       "    }\n",
       "\n",
       "    .dataframe tbody tr th {\n",
       "        vertical-align: top;\n",
       "    }\n",
       "\n",
       "    .dataframe thead th {\n",
       "        text-align: right;\n",
       "    }\n",
       "</style>\n",
       "<table border=\"1\" class=\"dataframe\">\n",
       "  <thead>\n",
       "    <tr style=\"text-align: right;\">\n",
       "      <th></th>\n",
       "      <th>time</th>\n",
       "      <th>variable</th>\n",
       "      <th>value</th>\n",
       "      <th>height</th>\n",
       "      <th>tower</th>\n",
       "      <th>measurement</th>\n",
       "    </tr>\n",
       "  </thead>\n",
       "  <tbody>\n",
       "    <tr>\n",
       "      <th>0</th>\n",
       "      <td>2022-11-30 00:02:30</td>\n",
       "      <td>u_tc__3m_uw</td>\n",
       "      <td>0.023500</td>\n",
       "      <td>3.0</td>\n",
       "      <td>uw</td>\n",
       "      <td>u_tc_</td>\n",
       "    </tr>\n",
       "    <tr>\n",
       "      <th>1</th>\n",
       "      <td>2022-11-30 00:02:30</td>\n",
       "      <td>Ri_20m_c</td>\n",
       "      <td>1.658501</td>\n",
       "      <td>20.0</td>\n",
       "      <td>c</td>\n",
       "      <td>richardson number</td>\n",
       "    </tr>\n",
       "    <tr>\n",
       "      <th>2</th>\n",
       "      <td>2022-11-30 00:02:30</td>\n",
       "      <td>mixingratio_8m_c</td>\n",
       "      <td>0.000972</td>\n",
       "      <td>8.0</td>\n",
       "      <td>c</td>\n",
       "      <td>mixing ratio</td>\n",
       "    </tr>\n",
       "    <tr>\n",
       "      <th>3</th>\n",
       "      <td>2022-11-30 00:02:30</td>\n",
       "      <td>u*_3m_c predicted (1e-05)</td>\n",
       "      <td>0.116448</td>\n",
       "      <td>3.0</td>\n",
       "      <td>c</td>\n",
       "      <td>shear velocity</td>\n",
       "    </tr>\n",
       "    <tr>\n",
       "      <th>4</th>\n",
       "      <td>2022-11-30 00:02:30</td>\n",
       "      <td>u_tc__2m_c</td>\n",
       "      <td>-0.107065</td>\n",
       "      <td>2.0</td>\n",
       "      <td>c</td>\n",
       "      <td>u_tc_</td>\n",
       "    </tr>\n",
       "    <tr>\n",
       "      <th>...</th>\n",
       "      <td>...</td>\n",
       "      <td>...</td>\n",
       "      <td>...</td>\n",
       "      <td>...</td>\n",
       "      <td>...</td>\n",
       "      <td>...</td>\n",
       "    </tr>\n",
       "    <tr>\n",
       "      <th>30316015</th>\n",
       "      <td>2023-05-09 17:57:30</td>\n",
       "      <td>Tpot_17m_c</td>\n",
       "      <td>39.847046</td>\n",
       "      <td>17.0</td>\n",
       "      <td>c</td>\n",
       "      <td>potential temperature</td>\n",
       "    </tr>\n",
       "    <tr>\n",
       "      <th>30316016</th>\n",
       "      <td>2023-05-09 17:57:30</td>\n",
       "      <td>counts_10m_d_2</td>\n",
       "      <td>5966.000000</td>\n",
       "      <td>10.0</td>\n",
       "      <td>d</td>\n",
       "      <td>eddy covariance co2 high rate count</td>\n",
       "    </tr>\n",
       "    <tr>\n",
       "      <th>30316017</th>\n",
       "      <td>2023-05-09 17:57:30</td>\n",
       "      <td>vaporpressure_16m_c</td>\n",
       "      <td>345.533905</td>\n",
       "      <td>16.0</td>\n",
       "      <td>c</td>\n",
       "      <td>vapor pressure</td>\n",
       "    </tr>\n",
       "    <tr>\n",
       "      <th>30316018</th>\n",
       "      <td>2023-05-09 17:57:30</td>\n",
       "      <td>mixingratio_16m_c</td>\n",
       "      <td>0.003004</td>\n",
       "      <td>16.0</td>\n",
       "      <td>c</td>\n",
       "      <td>mixing ratio</td>\n",
       "    </tr>\n",
       "    <tr>\n",
       "      <th>30316019</th>\n",
       "      <td>2023-05-09 17:57:30</td>\n",
       "      <td>z0_windprofile_weekly</td>\n",
       "      <td>0.001812</td>\n",
       "      <td>3.0</td>\n",
       "      <td>c</td>\n",
       "      <td>z0</td>\n",
       "    </tr>\n",
       "  </tbody>\n",
       "</table>\n",
       "<p>30316020 rows × 6 columns</p>\n",
       "</div>"
      ],
      "text/plain": [
       "                        time                   variable        value  height  \\\n",
       "0        2022-11-30 00:02:30                u_tc__3m_uw     0.023500     3.0   \n",
       "1        2022-11-30 00:02:30                   Ri_20m_c     1.658501    20.0   \n",
       "2        2022-11-30 00:02:30           mixingratio_8m_c     0.000972     8.0   \n",
       "3        2022-11-30 00:02:30  u*_3m_c predicted (1e-05)     0.116448     3.0   \n",
       "4        2022-11-30 00:02:30                 u_tc__2m_c    -0.107065     2.0   \n",
       "...                      ...                        ...          ...     ...   \n",
       "30316015 2023-05-09 17:57:30                 Tpot_17m_c    39.847046    17.0   \n",
       "30316016 2023-05-09 17:57:30             counts_10m_d_2  5966.000000    10.0   \n",
       "30316017 2023-05-09 17:57:30        vaporpressure_16m_c   345.533905    16.0   \n",
       "30316018 2023-05-09 17:57:30          mixingratio_16m_c     0.003004    16.0   \n",
       "30316019 2023-05-09 17:57:30      z0_windprofile_weekly     0.001812     3.0   \n",
       "\n",
       "         tower                          measurement  \n",
       "0           uw                                u_tc_  \n",
       "1            c                    richardson number  \n",
       "2            c                         mixing ratio  \n",
       "3            c                       shear velocity  \n",
       "4            c                                u_tc_  \n",
       "...        ...                                  ...  \n",
       "30316015     c                potential temperature  \n",
       "30316016     d  eddy covariance co2 high rate count  \n",
       "30316017     c                       vapor pressure  \n",
       "30316018     c                         mixing ratio  \n",
       "30316019     c                                   z0  \n",
       "\n",
       "[30316020 rows x 6 columns]"
      ]
     },
     "execution_count": 3,
     "metadata": {},
     "output_type": "execute_result"
    }
   ],
   "source": [
    "tidy_df_5Min"
   ]
  },
  {
   "cell_type": "code",
   "execution_count": 4,
   "metadata": {},
   "outputs": [],
   "source": [
    "tidy_df_30Min = tidy_df_5Min.set_index('time').groupby(\n",
    "    [pd.Grouper(freq='30Min'), 'tower', 'height', 'measurement', 'variable']\n",
    ").max().reset_index()"
   ]
  },
  {
   "cell_type": "code",
   "execution_count": 5,
   "metadata": {},
   "outputs": [],
   "source": [
    "tidy_df_30Min.to_parquet(\n",
    "    OUTPUT_FILENAME\n",
    ")"
   ]
  },
  {
   "cell_type": "code",
   "execution_count": 11,
   "metadata": {},
   "outputs": [
    {
     "name": "stdout",
     "output_type": "stream",
     "text": [
      "-rw-rw-r--.  1 elilouis elilouis  267M Feb  9 00:13 tidy_df_20221130_20230509_noplanar_fit_clean.parquet\n",
      "-rw-rw-r--.  1 elilouis elilouis  230M Feb  8 23:37 tidy_df_20221130_20230509_noplanar_fit.parquet\n",
      "-rw-rw-r--.  1 elilouis elilouis   31M Feb  9 14:03 tidy_df_30min_20221130_20230509_noplanar_fit_clean.parquet\n",
      "-rw-rw-r--.  1 elilouis elilouis  1.3M Aug 16 14:10 tidy_df_daily_20221130_20230509_noplanar_fit.parquet\n",
      "-rw-rw-r--.  1 elilouis elilouis  1.6M Oct 30 15:01 tidy_df_daily_20221130_20230517_noplanar_fit.parquet\n"
     ]
    }
   ],
   "source": [
    "ls -lah | grep parquet | grep tidy"
   ]
  },
  {
   "cell_type": "code",
   "execution_count": null,
   "metadata": {},
   "outputs": [],
   "source": []
  }
 ],
 "metadata": {
  "kernelspec": {
   "display_name": "sublimationofsnow",
   "language": "python",
   "name": "python3"
  },
  "language_info": {
   "codemirror_mode": {
    "name": "ipython",
    "version": 3
   },
   "file_extension": ".py",
   "mimetype": "text/x-python",
   "name": "python",
   "nbconvert_exporter": "python",
   "pygments_lexer": "ipython3",
   "version": "3.12.1"
  }
 },
 "nbformat": 4,
 "nbformat_minor": 2
}
