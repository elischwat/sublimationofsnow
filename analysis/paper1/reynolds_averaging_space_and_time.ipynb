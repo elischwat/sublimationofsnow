{
 "cells": [
  {
   "cell_type": "code",
   "execution_count": 39,
   "metadata": {},
   "outputs": [],
   "source": [
    "import numpy as np\n",
    "import pandas as pd\n",
    "import matplotlib.pyplot as plt\n",
    "import altair as alt\n",
    "alt.data_transformers.enable('json')\n",
    "alt.renderers.enable('jupyterlab')\n",
    "from sublimpy import tidy, utils\n",
    "import pytz\n",
    "import datetime as dt\n",
    "\n",
    "seconds_in_timestep = 60*30\n",
    "from metpy.constants import density_water\n",
    "\n",
    "from metpy.units import units\n",
    "import pint_pandas\n",
    "from metpy import constants"
   ]
  },
  {
   "cell_type": "markdown",
   "metadata": {},
   "source": [
    "# Open SOS Measurement Dataset, extract measurements"
   ]
  },
  {
   "cell_type": "code",
   "execution_count": 40,
   "metadata": {},
   "outputs": [],
   "source": [
    "start_date = '20221130'\n",
    "end_date = '20230509'\n",
    "# open files\n",
    "# tidy_df = pd.read_parquet(f'tidy_df_{start_date}_{end_date}_noplanar_fit_clean.parquet')\n",
    "# tidy_df = pd.read_parquet(f'tidy_df_{start_date}_{end_date}_noplanar_fit.parquet')\n",
    "tidy_df = pd.read_parquet(f'tidy_df_{start_date}_{end_date}_planar_fit.parquet')\n",
    "# convert time column to datetime\n",
    "tidy_df['time'] = pd.to_datetime(tidy_df['time'])\n",
    "tidy_df = utils.modify_df_timezone(tidy_df, pytz.UTC, 'US/Mountain')\n",
    "# limit data to our dates of interest, based on continuous snow cover at Kettle Ponds\n",
    "tidy_df = tidy_df.set_index('time').sort_index().loc[start_date:end_date].reset_index()\n",
    "\n",
    "## Add combined blowing snow flux variable\n",
    "tidy_df = tidy.tidy_df_add_variable(\n",
    "    tidy_df,\n",
    "    (\n",
    "        tidy_df.query(\"variable == 'SF_avg_1m_ue'\")['value'].values + \n",
    "        tidy_df.query(\"variable == 'SF_avg_2m_ue'\")['value'].values\n",
    "    ), \n",
    "    'SF_avg_ue',\n",
    "    'snow flux',\n",
    "    1,\n",
    "    'ue',\n",
    ")"
   ]
  },
  {
   "cell_type": "code",
   "execution_count": 41,
   "metadata": {},
   "outputs": [],
   "source": [
    "vars = [\n",
    "    'dir_3m_ue', 'u_h2o__3m_ue', 'v_h2o__3m_ue', 'w_h2o__3m_ue',     'u_3m_ue',  'v_3m_ue',     'w_3m_ue',  'h2o_3m_ue', \n",
    "    'dir_10m_ue', 'u_h2o__10m_ue','v_h2o__10m_ue', 'w_h2o__10m_ue',   'u_10m_ue',  'v_10m_ue',  'w_10m_ue', 'h2o_10m_ue',\n",
    "    'dir_3m_uw', 'u_h2o__3m_uw', 'v_h2o__3m_uw', 'w_h2o__3m_uw',     'u_3m_uw',  'v_3m_uw',     'w_3m_uw',  'h2o_3m_uw', \n",
    "    'dir_10m_uw', 'u_h2o__10m_uw','v_h2o__10m_uw', 'w_h2o__10m_uw',   'u_10m_uw',  'v_10m_uw',  'w_10m_uw', 'h2o_10m_uw',\n",
    "    'dir_3m_d', 'u_h2o__3m_d', 'v_h2o__3m_d', 'w_h2o__3m_d',        'u_3m_d',   'v_3m_d',       'w_3m_d',   'h2o_3m_d',  \n",
    "    'dir_10m_d', 'u_h2o__10m_d','v_h2o__10m_d', 'w_h2o__10m_d',      'u_10m_d',  'v_10m_d',     'w_10m_d',  'h2o_10m_d', \n",
    "\n",
    "    'dir_2m_c', 'u_h2o__2m_c', 'v_h2o__2m_c', 'w_h2o__2m_c',        'u_2m_c',   'v_2m_c',   'w_2m_c',   'h2o_2m_c',   'specifichumidity_2m_c',    'airdensity_2m_c',\n",
    "    'dir_3m_c', 'u_h2o__3m_c', 'v_h2o__3m_c', 'w_h2o__3m_c',        'u_3m_c',   'v_3m_c',   'w_3m_c',   'h2o_3m_c',   'specifichumidity_3m_c',    'airdensity_3m_c',\n",
    "    'dir_5m_c', 'u_h2o__5m_c', 'v_h2o__5m_c', 'w_h2o__5m_c',        'u_5m_c',   'v_5m_c',   'w_5m_c',   'h2o_5m_c',   'specifichumidity_5m_c',    'airdensity_5m_c',\n",
    "    'dir_10m_c', 'u_h2o__10m_c','v_h2o__10m_c', 'w_h2o__10m_c',      'u_10m_c',  'v_10m_c', 'w_10m_c',  'h2o_10m_c',  'specifichumidity_10m_c',   'airdensity_10m_c',\n",
    "    'dir_15m_c', 'u_h2o__15m_c', 'v_h2o__15m_c', 'w_h2o__15m_c',     'u_15m_c',  'v_15m_c', 'w_15m_c',  'h2o_15m_c',  'specifichumidity_15m_c',   'airdensity_15m_c',\n",
    "    'dir_20m_c', 'u_h2o__20m_c', 'v_h2o__20m_c', 'w_h2o__20m_c',     'u_20m_c',  'v_20m_c', 'w_20m_c',  'h2o_20m_c',  'specifichumidity_20m_c',   'airdensity_20m_c',\n",
    "\n",
    "    'T_1m_c', 'T_2m_c', 'T_3m_c', 'T_4m_c', 'T_5m_c', 'T_6m_c', 'T_7m_c', 'T_8m_c', 'T_9m_c', 'T_10m_c', \n",
    "    'T_11m_c', 'T_12m_c', 'T_13m_c', 'T_14m_c', 'T_15m_c', 'T_16m_c', 'T_17m_c', 'T_18m_c', 'T_19m_c', 'T_20m_c',\n",
    "\n",
    "    'Rsw_in_9m_d', 'Rnet_9m_d',\n",
    "\n",
    "    'SF_avg_ue',\n",
    "\n",
    "    'Ri_3m_c',\n",
    "\n",
    "    'L_3m_c',\n",
    "]\n",
    "\n",
    "pivot_df = tidy_df[tidy_df.variable.isin(vars)][\n",
    "    ['time', 'variable', 'value']\n",
    "].pivot_table(index='time', columns='variable', values='value')\n",
    "\n",
    "assert len(vars) == len(pivot_df.columns.unique())"
   ]
  },
  {
   "cell_type": "code",
   "execution_count": 42,
   "metadata": {},
   "outputs": [],
   "source": [
    "HEIGHT = 3\n",
    "\n",
    "w_tavg_savg = 0.25*(pivot_df[f'w_{HEIGHT}m_ue'] + pivot_df[f'w_{HEIGHT}m_uw'] + pivot_df[f'w_{HEIGHT}m_c'] + pivot_df[f'w_{HEIGHT}m_d'])\n",
    "q_tavg_savg = 0.25*(pivot_df[f'h2o_{HEIGHT}m_ue'] + pivot_df[f'h2o_{HEIGHT}m_uw'] + pivot_df[f'h2o_{HEIGHT}m_c'] + pivot_df[f'h2o_{HEIGHT}m_d'])\n",
    "\n",
    "w_star_ue = pivot_df[f'w_{HEIGHT}m_ue'] - w_tavg_savg\n",
    "w_star_uw = pivot_df[f'w_{HEIGHT}m_uw'] - w_tavg_savg\n",
    "w_star_c = pivot_df[f'w_{HEIGHT}m_c'] - w_tavg_savg\n",
    "w_star_d = pivot_df[f'w_{HEIGHT}m_d'] - w_tavg_savg\n",
    "\n",
    "q_star_ue = pivot_df[f'h2o_{HEIGHT}m_ue'] - q_tavg_savg\n",
    "q_star_uw = pivot_df[f'h2o_{HEIGHT}m_uw'] - q_tavg_savg\n",
    "q_star_c = pivot_df[f'h2o_{HEIGHT}m_c'] - q_tavg_savg\n",
    "q_star_d = pivot_df[f'h2o_{HEIGHT}m_d'] - q_tavg_savg\n",
    "\n",
    "term1 = 0.25*(pivot_df[f'w_h2o__{HEIGHT}m_ue'] + pivot_df[f'w_h2o__{HEIGHT}m_uw'] + pivot_df[f'w_h2o__{HEIGHT}m_c'] + pivot_df[f'w_h2o__{HEIGHT}m_d'])\n",
    "term2 = 0.25*(\n",
    "    w_star_ue*q_star_ue + w_star_uw*q_star_uw + w_star_c*q_star_c + w_star_d*q_star_d\n",
    ")\n",
    "term3 = 0.25*(\n",
    "    pivot_df[f'w_{HEIGHT}m_ue'] + pivot_df[f'w_{HEIGHT}m_uw'] + pivot_df[f'w_{HEIGHT}m_c'] + pivot_df[f'w_{HEIGHT}m_d']\n",
    ")*0.25*(\n",
    "    pivot_df[f'h2o_{HEIGHT}m_ue'] + pivot_df[f'h2o_{HEIGHT}m_uw'] + pivot_df[f'h2o_{HEIGHT}m_c'] + pivot_df[f'h2o_{HEIGHT}m_d']\n",
    ")"
   ]
  },
  {
   "cell_type": "code",
   "execution_count": 43,
   "metadata": {},
   "outputs": [],
   "source": [
    "pivot_df['term1 (covariance flux)'] = term1\n",
    "pivot_df['term2 (stationary eddy flux)'] = term2\n",
    "pivot_df['term3 (advective flux)'] = term3"
   ]
  },
  {
   "cell_type": "code",
   "execution_count": 57,
   "metadata": {},
   "outputs": [
    {
     "data": {
      "application/vnd.vegalite.v5+json": {
       "$schema": "https://vega.github.io/schema/vega-lite/v5.17.0.json",
       "config": {
        "view": {
         "continuousHeight": 300,
         "continuousWidth": 300
        }
       },
       "data": {
        "format": {
         "type": "json"
        },
        "url": "altair-data-aed8eb03f4999337425f71d99d68b3df.json"
       },
       "encoding": {
        "color": {
         "field": "month",
         "sort": [
          12,
          1,
          2,
          3,
          4
         ],
         "type": "nominal"
        },
        "strokeDash": {
         "field": "key",
         "type": "nominal"
        },
        "x": {
         "field": "time",
         "type": "temporal"
        },
        "y": {
         "field": "value",
         "type": "quantitative"
        }
       },
       "height": 300,
       "mark": {
        "type": "line"
       },
       "title": [
        "3-meter spatially averaged vertical moisture transport",
        "by different mechanisms, monthly composites"
       ],
       "transform": [
        {
         "fold": [
          "term1 (covariance flux)",
          "term2 (stationary eddy flux)",
          "term3 (advective flux)"
         ]
        }
       ],
       "width": 425
      },
      "text/plain": [
       "<VegaLite 5 object>\n",
       "\n",
       "If you see this message, it means the renderer has not been properly enabled\n",
       "for the frontend that you are using. For more information, see\n",
       "https://altair-viz.github.io/user_guide/display_frontends.html#troubleshooting\n"
      ]
     },
     "execution_count": 57,
     "metadata": {},
     "output_type": "execute_result"
    }
   ],
   "source": [
    "\n",
    "alt.Chart(\n",
    "    pivot_df.loc['20230201': '20230203'].reset_index()\n",
    ").transform_fold([\n",
    "    'term1 (covariance flux)',\n",
    "    'term2 (stationary eddy flux)',\n",
    "    'term3 (advective flux)'\n",
    "]).mark_line().encode(\n",
    "    alt.X('time:T'),\n",
    "    alt.Y(\"value:Q\"),\n",
    "    alt.StrokeDash(\"key:N\"),\n",
    "    alt.Color('month:N').sort([12,1,2,3,4])\n",
    ").properties(height = 300, width=425, title=[f'{HEIGHT}-meter spatially averaged vertical moisture transport', 'by different mechanisms, monthly composites'])"
   ]
  },
  {
   "cell_type": "code",
   "execution_count": 51,
   "metadata": {},
   "outputs": [
    {
     "name": "stderr",
     "output_type": "stream",
     "text": [
      "/var/folders/x_/2h52bcjx2px15bhmdpdd748h0000gn/T/ipykernel_94673/3091067853.py:1: FutureWarning: 'T' is deprecated and will be removed in a future version, please use 'min' instead.\n",
      "  src = pivot_df.groupby([pivot_df.index.month, pivot_df.index.floor('30T').time]).mean().reset_index()\n"
     ]
    },
    {
     "data": {
      "application/vnd.vegalite.v5+json": {
       "$schema": "https://vega.github.io/schema/vega-lite/v5.17.0.json",
       "config": {
        "view": {
         "continuousHeight": 300,
         "continuousWidth": 300
        }
       },
       "data": {
        "format": {
         "type": "json"
        },
        "url": "altair-data-b3a40bb22072d15b7b7bf084b3b10864.json"
       },
       "encoding": {
        "color": {
         "field": "month",
         "sort": [
          12,
          1,
          2,
          3,
          4
         ],
         "type": "nominal"
        },
        "strokeDash": {
         "field": "key",
         "type": "nominal"
        },
        "x": {
         "field": "time_of_day",
         "type": "temporal"
        },
        "y": {
         "field": "value",
         "type": "quantitative"
        }
       },
       "height": 300,
       "mark": {
        "type": "line"
       },
       "title": [
        "3-meter spatially averaged vertical moisture transport",
        "by different mechanisms, monthly composites"
       ],
       "transform": [
        {
         "fold": [
          "term1 (covariance flux)",
          "term2 (stationary eddy flux)",
          "term3 (advective flux)"
         ]
        }
       ],
       "width": 425
      },
      "text/plain": [
       "<VegaLite 5 object>\n",
       "\n",
       "If you see this message, it means the renderer has not been properly enabled\n",
       "for the frontend that you are using. For more information, see\n",
       "https://altair-viz.github.io/user_guide/display_frontends.html#troubleshooting\n"
      ]
     },
     "execution_count": 51,
     "metadata": {},
     "output_type": "execute_result"
    }
   ],
   "source": [
    "src = pivot_df.groupby([pivot_df.index.month, pivot_df.index.floor('30T').time]).mean().reset_index()\n",
    "src['month'] = src['time']\n",
    "src['time_of_day'] = src['level_1'].apply(lambda time: dt.datetime.combine(dt.date(2024,1,1), time))\n",
    "\n",
    "alt.Chart(src[src.month.isin([12,1,2,3,4])]).transform_fold([\n",
    "    'term1 (covariance flux)',\n",
    "    'term2 (stationary eddy flux)',\n",
    "    'term3 (advective flux)'\n",
    "]).mark_line().encode(\n",
    "    alt.X('time_of_day:T'),\n",
    "    alt.Y(\"value:Q\"),\n",
    "    alt.StrokeDash(\"key:N\"),\n",
    "    alt.Color('month:N').sort([12,1,2,3,4])\n",
    ").properties(height = 300, width=425, title=[f'{HEIGHT}-meter spatially averaged vertical moisture transport', 'by different mechanisms, monthly composites'])"
   ]
  },
  {
   "cell_type": "code",
   "execution_count": 44,
   "metadata": {},
   "outputs": [
    {
     "name": "stderr",
     "output_type": "stream",
     "text": [
      "/var/folders/x_/2h52bcjx2px15bhmdpdd748h0000gn/T/ipykernel_94673/3752400284.py:1: FutureWarning: 'T' is deprecated and will be removed in a future version, please use 'min' instead.\n",
      "  src = pivot_df.groupby([pivot_df.index.month, pivot_df.index.floor('30T').time]).mean().reset_index()\n"
     ]
    },
    {
     "data": {
      "application/vnd.vegalite.v5+json": {
       "$schema": "https://vega.github.io/schema/vega-lite/v5.17.0.json",
       "config": {
        "view": {
         "continuousHeight": 300,
         "continuousWidth": 300
        }
       },
       "data": {
        "format": {
         "type": "json"
        },
        "url": "altair-data-b3a40bb22072d15b7b7bf084b3b10864.json"
       },
       "encoding": {
        "color": {
         "field": "key",
         "type": "nominal"
        },
        "facet": {
         "columns": 3,
         "field": "month",
         "sort": [
          12,
          1,
          2,
          3,
          4
         ],
         "type": "ordinal"
        },
        "x": {
         "field": "time_of_day",
         "type": "temporal"
        },
        "y": {
         "field": "value",
         "type": "quantitative"
        }
       },
       "height": 150,
       "mark": {
        "type": "line"
       },
       "title": "Spatially averaged vertical moisture transport by different mechanisms, monthly composites ",
       "transform": [
        {
         "fold": [
          "term1 (covariance flux)",
          "term2 (stationary eddy flux)",
          "term3 (advective flux)"
         ]
        }
       ],
       "width": 225
      },
      "text/plain": [
       "<VegaLite 5 object>\n",
       "\n",
       "If you see this message, it means the renderer has not been properly enabled\n",
       "for the frontend that you are using. For more information, see\n",
       "https://altair-viz.github.io/user_guide/display_frontends.html#troubleshooting\n"
      ]
     },
     "execution_count": 44,
     "metadata": {},
     "output_type": "execute_result"
    }
   ],
   "source": [
    "src = pivot_df.groupby([pivot_df.index.month, pivot_df.index.floor('30T').time]).mean().reset_index()\n",
    "src['month'] = src['time']\n",
    "src['time_of_day'] = src['level_1'].apply(lambda time: dt.datetime.combine(dt.date(2024,1,1), time))\n",
    "\n",
    "alt.Chart(src[src.month.isin([12,1,2,3,4])]).transform_fold([\n",
    "    'term1 (covariance flux)',\n",
    "    'term2 (stationary eddy flux)',\n",
    "    'term3 (advective flux)'\n",
    "]).mark_line().encode(\n",
    "    alt.X('time_of_day:T'),\n",
    "    alt.Y(\"value:Q\"),\n",
    "    alt.Color(\"key:N\"),\n",
    "    alt.Facet('month:O', columns=3).sort([12,1,2,3,4])\n",
    ").properties(height = 150, width=225, title='Spatially averaged vertical moisture transport by different mechanisms, monthly composites ')"
   ]
  },
  {
   "cell_type": "code",
   "execution_count": null,
   "metadata": {},
   "outputs": [],
   "source": []
  },
  {
   "cell_type": "code",
   "execution_count": null,
   "metadata": {},
   "outputs": [],
   "source": []
  }
 ],
 "metadata": {
  "kernelspec": {
   "display_name": "arm",
   "language": "python",
   "name": "python3"
  },
  "language_info": {
   "codemirror_mode": {
    "name": "ipython",
    "version": 3
   },
   "file_extension": ".py",
   "mimetype": "text/x-python",
   "name": "python",
   "nbconvert_exporter": "python",
   "pygments_lexer": "ipython3",
   "version": "3.1.0"
  }
 },
 "nbformat": 4,
 "nbformat_minor": 2
}
