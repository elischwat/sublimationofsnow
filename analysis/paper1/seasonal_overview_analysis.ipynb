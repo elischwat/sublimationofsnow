{
 "cells": [
  {
   "cell_type": "code",
   "execution_count": 1,
   "metadata": {},
   "outputs": [],
   "source": [
    "import pandas as pd\n",
    "import numpy as np\n",
    "import altair as alt\n",
    "alt.data_transformers.enable('json')\n",
    "import datetime as dt\n",
    "from sublimpy import utils\n",
    "import pytz\n",
    "from metpy.constants import density_water"
   ]
  },
  {
   "cell_type": "markdown",
   "metadata": {},
   "source": [
    "# Open SOS Measurement Dataset"
   ]
  },
  {
   "cell_type": "code",
   "execution_count": 2,
   "metadata": {},
   "outputs": [
    {
     "name": "stdout",
     "output_type": "stream",
     "text": [
      "-rw-r--r--@    1 elischwat  staff    65M Dec 19 23:09 tidy_df_20221101_20230619_planar_fit_multiplane_STRAIGHTUP_q7_flags360.parquet\n",
      "-rw-r--r--@    1 elischwat  staff    66M Jan  3 12:55 tidy_df_20221101_20230619_planar_fit_multiplane_STRAIGHTUP_q7_flags9000_archive.parquet\n",
      "-rw-r--r--     1 elischwat  staff    57M Jan 24 18:36 tidy_df_20221101_20230619_planar_fit_multiplane_STRAIGHTUP_q7_flags9000_pf10.parquet\n",
      "-rw-r--r--@    1 elischwat  staff    66M Jan 16 14:05 tidy_df_20221101_20230619_planar_fit_multiplane_STRAIGHTUP_q7_flags9000_pf10_archive.parquet\n"
     ]
    }
   ],
   "source": [
    "ls -lah process_slow_data | grep parquet"
   ]
  },
  {
   "cell_type": "code",
   "execution_count": 3,
   "metadata": {},
   "outputs": [],
   "source": [
    "start_date = '20221101'\n",
    "end_date = '20230619'\n",
    "\n",
    "data_start_date = '20221130'\n",
    "data_end_date = '20230508'\n",
    "# open files\n",
    "tidy_df = pd.read_parquet(f'process_slow_data/tidy_df_20221101_20230619_planar_fit_multiplane_STRAIGHTUP_q7_flags9000_pf10.parquet')\n",
    "tidy_df = tidy_df.sort_index()\n",
    "tidy_df = utils.modify_df_timezone(\n",
    "    tidy_df,\n",
    "    'UTC',\n",
    "    'US/Mountain',   \n",
    ")\n",
    "tidy_df = tidy_df[tidy_df.time > data_start_date]\n",
    "tidy_df = tidy_df[tidy_df.time < '20230509']"
   ]
  },
  {
   "cell_type": "markdown",
   "metadata": {},
   "source": [
    "# Data quality analysis during blowing snow: LH fluxes during blowing snow events"
   ]
  },
  {
   "cell_type": "code",
   "execution_count": 4,
   "metadata": {},
   "outputs": [
    {
     "data": {
      "text/html": [
       "<div>\n",
       "<style scoped>\n",
       "    .dataframe tbody tr th:only-of-type {\n",
       "        vertical-align: middle;\n",
       "    }\n",
       "\n",
       "    .dataframe tbody tr th {\n",
       "        vertical-align: top;\n",
       "    }\n",
       "\n",
       "    .dataframe thead th {\n",
       "        text-align: right;\n",
       "    }\n",
       "</style>\n",
       "<table border=\"1\" class=\"dataframe\">\n",
       "  <thead>\n",
       "    <tr style=\"text-align: right;\">\n",
       "      <th></th>\n",
       "      <th>value</th>\n",
       "    </tr>\n",
       "    <tr>\n",
       "      <th>time</th>\n",
       "      <th></th>\n",
       "    </tr>\n",
       "  </thead>\n",
       "  <tbody>\n",
       "    <tr>\n",
       "      <th>2022-12-22</th>\n",
       "      <td>8.601453</td>\n",
       "    </tr>\n",
       "    <tr>\n",
       "      <th>2022-12-21</th>\n",
       "      <td>1.443785</td>\n",
       "    </tr>\n",
       "    <tr>\n",
       "      <th>2023-03-30</th>\n",
       "      <td>0.346438</td>\n",
       "    </tr>\n",
       "    <tr>\n",
       "      <th>2022-12-13</th>\n",
       "      <td>0.300104</td>\n",
       "    </tr>\n",
       "    <tr>\n",
       "      <th>2022-12-14</th>\n",
       "      <td>0.225347</td>\n",
       "    </tr>\n",
       "    <tr>\n",
       "      <th>2023-03-22</th>\n",
       "      <td>0.150819</td>\n",
       "    </tr>\n",
       "    <tr>\n",
       "      <th>2022-12-02</th>\n",
       "      <td>0.146083</td>\n",
       "    </tr>\n",
       "    <tr>\n",
       "      <th>2023-02-22</th>\n",
       "      <td>0.136458</td>\n",
       "    </tr>\n",
       "    <tr>\n",
       "      <th>2023-02-19</th>\n",
       "      <td>0.114410</td>\n",
       "    </tr>\n",
       "    <tr>\n",
       "      <th>2023-03-08</th>\n",
       "      <td>0.088542</td>\n",
       "    </tr>\n",
       "  </tbody>\n",
       "</table>\n",
       "</div>"
      ],
      "text/plain": [
       "               value\n",
       "time                \n",
       "2022-12-22  8.601453\n",
       "2022-12-21  1.443785\n",
       "2023-03-30  0.346438\n",
       "2022-12-13  0.300104\n",
       "2022-12-14  0.225347\n",
       "2023-03-22  0.150819\n",
       "2022-12-02  0.146083\n",
       "2023-02-22  0.136458\n",
       "2023-02-19  0.114410\n",
       "2023-03-08  0.088542"
      ]
     },
     "execution_count": 4,
     "metadata": {},
     "output_type": "execute_result"
    }
   ],
   "source": [
    "bs_flux_daily_mean = tidy_df.query(\"variable == 'SF_avg_1m_ue'\").set_index('time')[['value']] + tidy_df.query(\"variable == 'SF_avg_2m_ue'\").set_index('time')[['value']]\n",
    "bs_flux_daily_mean = bs_flux_daily_mean.groupby(pd.Grouper(freq='1440Min')).mean()\n",
    "bs_flux_daily_mean.sort_values('value', ascending=False).head(10)"
   ]
  },
  {
   "cell_type": "code",
   "execution_count": 76,
   "metadata": {},
   "outputs": [
    {
     "data": {
      "image/png": "[encoded data removed]",
      "text/plain": [
       "<Figure size 1000x500 with 6 Axes>"
      ]
     },
     "metadata": {},
     "output_type": "display_data"
    },
    {
     "name": "stdout",
     "output_type": "stream",
     "text": [
      "22073.0\n",
      "869.0\n",
      "1.9\n",
      "2.1\n",
      "1.9\n",
      "0.9\n",
      "0.8\n",
      "0.9\n"
     ]
    }
   ],
   "source": [
    "import matplotlib.pyplot as plt\n",
    "fig, axes = plt.subplots(\n",
    "    3, 2, sharex='col', figsize=(10,5), gridspec_kw = {'height_ratios':[1.5, 1.5,4]}\n",
    ")\n",
    "\n",
    "\n",
    "date1a = '20221221 0600'\n",
    "date1b = '20221222'\n",
    "date2a = '20230330'\n",
    "date2b = '20230401'\n",
    "output_fn = '/Users/elischwat/Downloads/appendix_a_3m.svg'\n",
    "\n",
    "# date1a = '20221213'\n",
    "# date1b = '20221214'\n",
    "# date2a = '20230321'\n",
    "# date2b = '20230322'\n",
    "# output_fn = '/Users/elischwat/Downloads/appendix_b_3m.svg'\n",
    "\n",
    "tidy_df.query(\"variable == 'SF_avg_1m_ue'\").set_index('time').loc[date1a: date1b]['value'].plot(ax=axes[0][0], label='BS flux, 0--1m')\n",
    "tidy_df.query(\"variable == 'SF_avg_2m_ue'\").set_index('time').loc[date1a: date1b]['value'].plot(ax=axes[0][0], label='BS flux, 1--2m')\n",
    "tidy_df.query(\"variable == 'SF_avg_1m_ue'\").set_index('time').loc[date2a: date2b]['value'].plot(ax=axes[0][1], label='BS flux, 0--1m')\n",
    "tidy_df.query(\"variable == 'SF_avg_2m_ue'\").set_index('time').loc[date2a: date2b]['value'].plot(ax=axes[0][1], label='BS flux, 1--2m')\n",
    "\n",
    "tidy_df.query(\"variable == 'ldiag_3m_c'\").set_index('time').loc[date1a: date1b]['value'].plot(ax=axes[1][0], label='ldiag_3m_c')\n",
    "tidy_df.query(\"variable == 'irgadiag_3m_c'\").set_index('time').loc[date1a: date1b]['value'].plot(ax=axes[1][0], label='irgadiag_3m_c')\n",
    "tidy_df.query(\"variable == 'ldiag_3m_c'\").set_index('time').loc[date2a: date2b]['value'].plot(ax=axes[1][1], label='ldiag_3m_c')\n",
    "tidy_df.query(\"variable == 'irgadiag_3m_c'\").set_index('time').loc[date2a: date2b]['value'].plot(ax=axes[1][1], label='irgadiag_3m_c')\n",
    "# axes[1][0].set_ylim(0, 36000)\n",
    "# axes[1][1].set_ylim(0, 36000)\n",
    "# axes[1][0].set_yticks([0, 36000])\n",
    "# axes[1][1].set_yticks([0, 36000])\n",
    "\n",
    "tidy_df.query(\"variable == 'w_h2o__3m_c'\").set_index('time').loc[date1a: date1b]['value'].plot(ax=axes[2][0], label='cleaned', style='.-', ms=8)\n",
    "tidy_df.query(\"variable == 'w_h2o__3m_c'\").set_index('time').loc[date2a: date2b]['value'].plot(ax=axes[2][1], label='cleaned', style='.-', ms=8)\n",
    "tidy_df.query(\"variable == 'w_h2o__3m_c_raw'\").set_index('time').loc[date1a: date1b]['value'].plot(ax=axes[2][0], label='raw')\n",
    "tidy_df.query(\"variable == 'w_h2o__3m_c_raw'\").set_index('time').loc[date2a: date2b]['value'].plot(ax=axes[2][1], label='raw')\n",
    "# tidy_df.query(\"variable == 'w_h2o__3m_c_gapfill'\").set_index('time').loc[date1a: date1b]['value'].plot(ax=axes[1][0], label='gap-filled')\n",
    "# tidy_df.query(\"variable == 'w_h2o__3m_c_gapfill'\").set_index('time').loc[date2a: date2b]['value'].plot(ax=axes[1][1], label='gap-filled')\n",
    "for ax in axes.flatten():\n",
    "    ax.legend()\n",
    "plt.tight_layout()\n",
    "plt.savefig(output_fn)\n",
    "plt.show()\n",
    "\n",
    "print(tidy_df.query(\"variable == 'ldiag_3m_c'\").set_index('time').loc[date1a: date1b]['value'].max())\n",
    "print(tidy_df.query(\"variable == 'ldiag_3m_c'\").set_index('time').loc[date2a: date2b]['value'].max())\n",
    "\n",
    "print(round(tidy_df.query(\"variable == 'w_h2o__3m_c'\").set_index('time').loc[date1a: date1b]['value'].sum()*1800 / density_water.magnitude, 1),)\n",
    "print(round(tidy_df.query(\"variable == 'w_h2o__3m_c_raw'\").set_index('time').loc[date1a: date1b]['value'].sum()*1800 / density_water.magnitude, 1),)\n",
    "print(round(tidy_df.query(\"variable == 'w_h2o__3m_c_gapfill'\").set_index('time').loc[date1a: date1b]['value'].sum()*1800 / density_water.magnitude, 1),)\n",
    "\n",
    "print(round(tidy_df.query(\"variable == 'w_h2o__3m_c'\").set_index('time').loc[date2a: date2b]['value'].sum()*1800 / density_water.magnitude, 1),)\n",
    "print(round(tidy_df.query(\"variable == 'w_h2o__3m_c_raw'\").set_index('time').loc[date2a: date2b]['value'].sum()*1800 / density_water.magnitude, 1),)\n",
    "print(round(tidy_df.query(\"variable == 'w_h2o__3m_c_gapfill'\").set_index('time').loc[date2a: date2b]['value'].sum()*1800 / density_water.magnitude, 1),)"
   ]
  },
  {
   "cell_type": "markdown",
   "metadata": {},
   "source": [
    "# Count water vapor flux measurements"
   ]
  },
  {
   "cell_type": "code",
   "execution_count": null,
   "metadata": {},
   "outputs": [],
   "source": [
    "['w_h2o__3m_c', 'w_h2o__3m_c_raw', 'w_h2o__3m_c_gapfill']"
   ]
  },
  {
   "cell_type": "code",
   "execution_count": null,
   "metadata": {},
   "outputs": [],
   "source": [
    "'w_h2o__3m_c', 'w_h2o__5m_c', 'w_h2o__10m_c', 'w_h2o__3m_c', 'w_h2o__3m_c', 'w_h2o__3m_c', 'w_h2o__3m_c'\n",
    "\n",
    "(\n",
    "    160*48, \n",
    "    len(tidy_df.query(\"variable == 'w_h2o__3m_c_raw'\").value), \n",
    "    len(tidy_df.query(\"variable == 'w_h2o__3m_c_raw'\").value.dropna()),\n",
    "    len(tidy_df.query(\"variable == 'w_h2o__3m_c'\").value), \n",
    "    len(tidy_df.query(\"variable == 'w_h2o__3m_c'\").value.dropna())\n",
    ")"
   ]
  },
  {
   "cell_type": "code",
   "execution_count": null,
   "metadata": {},
   "outputs": [],
   "source": [
    "160*48, len(tidy_df.query(\"variable == 'w_h2o__3m_c'\").value), len(tidy_df.query(\"variable == 'w_h2o__3m_c'\").value.dropna())"
   ]
  },
  {
   "cell_type": "markdown",
   "metadata": {},
   "source": [
    "# Make plot showing cumulative sublimation"
   ]
  },
  {
   "cell_type": "code",
   "execution_count": null,
   "metadata": {},
   "outputs": [],
   "source": [
    "seconds_in_timestep = 60*30"
   ]
  },
  {
   "cell_type": "code",
   "execution_count": null,
   "metadata": {},
   "outputs": [],
   "source": [
    "rnet_chart_with_axis = alt.Chart(\n",
    "    tidy_df.query(\"variable == 'Rnet_9m_d'\")\n",
    ").transform_window(\n",
    "    frame = [-12, 12],\n",
    "    rolling_mean = 'mean(value)'\n",
    ").mark_line(opacity=0.5).encode(\n",
    "    alt.X(\"time:T\"),\n",
    "    alt.Y(\"rolling_mean:Q\").title([\"Net radiation\", \"(W/m^2)\"])\n",
    ")\n",
    "rnet_chart_with_axis"
   ]
  },
  {
   "cell_type": "code",
   "execution_count": null,
   "metadata": {},
   "outputs": [],
   "source": [
    "bs_flux_chart = alt.Chart(\n",
    "    tidy_df[tidy_df.measurement == 'snow flux'].query(\"value > 0\")\n",
    ").mark_circle(opacity=0.5).encode(\n",
    "    # alt.X(\"time:T\").axis(labels=False).title(None),\n",
    "    alt.X(\"time:T\"),\n",
    "    alt.Y(\"value:Q\").title([\"Blowing snow flux\", \"(g/m²/s)\"]).scale(type='log'),\n",
    "    alt.Color('height:N')\n",
    ")\n",
    "bs_flux_chart"
   ]
  },
  {
   "cell_type": "code",
   "execution_count": null,
   "metadata": {},
   "outputs": [],
   "source": [
    "rnet_chart = alt.Chart(\n",
    "    tidy_df.query(\"variable == 'RH_3m_c'\")\n",
    ").transform_window(\n",
    "    frame = [-12, 12],\n",
    "    rolling_mean = 'mean(value)'\n",
    ").mark_line(opacity=0.5).encode(\n",
    "    alt.X(\"time:T\"),\n",
    "    alt.Y(\"value:Q\"),\n",
    ")\n",
    "rnet_chart\n"
   ]
  },
  {
   "cell_type": "code",
   "execution_count": null,
   "metadata": {},
   "outputs": [],
   "source": [
    "rnet_chart = alt.Chart(\n",
    "    tidy_df.query(\"variable == 'Rnet_9m_d'\")\n",
    ").transform_window(\n",
    "    frame = [-12, 12],\n",
    "    rolling_mean = 'mean(value)'\n",
    ").mark_line(opacity=0.5).encode(\n",
    "    alt.X(\"time:T\"),\n",
    "    alt.Y(\"rolling_mean:Q\").title([\"Net radiation\", \"(W/m²)\"])\n",
    ")\n",
    "rnet_chart\n"
   ]
  },
  {
   "cell_type": "code",
   "execution_count": null,
   "metadata": {},
   "outputs": [],
   "source": [
    "tidy_df.query(\"measurement == 'SWE'\").groupby('variable')['value'].max()"
   ]
  },
  {
   "cell_type": "code",
   "execution_count": null,
   "metadata": {},
   "outputs": [],
   "source": [
    "tidy_df.query(\"variable == 'SWE_p_c'\").max()"
   ]
  },
  {
   "cell_type": "code",
   "execution_count": null,
   "metadata": {},
   "outputs": [],
   "source": [
    "tidy_df.query(\"variable == 'SWE_p2_c'\").max()"
   ]
  },
  {
   "cell_type": "code",
   "execution_count": null,
   "metadata": {},
   "outputs": [],
   "source": [
    "tidy_df.query(\"variable == 'SnowDepth_c'\").set_index('time').resample('1440Min').value.mean().loc['20230301':].head(46)"
   ]
  },
  {
   "cell_type": "code",
   "execution_count": null,
   "metadata": {},
   "outputs": [],
   "source": [
    "from matplotlib import pyplot as plt\n",
    "plt.figure(figsize=(15,4))\n",
    "tidy_df.query(\"variable == 'SnowDepth_c'\").set_index('time').value.plot()\n",
    "plt.axhline(1)"
   ]
  },
  {
   "cell_type": "code",
   "execution_count": null,
   "metadata": {},
   "outputs": [],
   "source": [
    "tidy_df.query(\"variable == 'SWE_p2_c'\").sort_values('value', ascending=False)"
   ]
  },
  {
   "cell_type": "code",
   "execution_count": null,
   "metadata": {},
   "outputs": [],
   "source": [
    "snowpillow_chart = alt.Chart(\n",
    "    tidy_df.query(\"variable == 'SWE_p2_c'\").dropna()\n",
    ").transform_window(\n",
    "    frame = [-48, 48],\n",
    "    rolling_median = 'median(value)'\n",
    ").mark_line(color='black').encode(\n",
    "    alt.X(\"time:T\").axis(labels=False).title(None),\n",
    "    alt.Y(\"rolling_median:Q\").title([\"Snow water\", \"equivalent (mm)\"])\n",
    ").properties(height = 83)\n",
    "snowpillow_chart"
   ]
  },
  {
   "cell_type": "code",
   "execution_count": null,
   "metadata": {},
   "outputs": [],
   "source": [
    "tidy_df[tidy_df.variable.isin([\n",
    "        'SWE_p1_c', 'SWE_p2_c', 'SWE_p3_c', 'SWE_p4_c'\n",
    "    ])][\n",
    "        tidy_df.time < '20230415'\n",
    "    ].groupby('variable').value.max()"
   ]
  },
  {
   "cell_type": "code",
   "execution_count": null,
   "metadata": {},
   "outputs": [],
   "source": [
    "alt.Chart(\n",
    "    tidy_df[tidy_df.variable.isin([\n",
    "        'SWE_p1_c', 'SWE_p2_c', 'SWE_p3_c', 'SWE_p4_c'\n",
    "    ])][\n",
    "        tidy_df.time < '20230415'\n",
    "    ]\n",
    ").transform_window(\n",
    "    frame = [-48, 48],\n",
    "    rolling_median = 'median(value)',\n",
    "    groupby=['variable']\n",
    ").mark_line(color='black').encode(\n",
    "    alt.X(\"time:T\"),\n",
    "    alt.Y(\"rolling_median:Q\").title([\"Snow water\", \"equivalent (mm)\"]),\n",
    "    alt.Color('variable:N')\n",
    ")\n"
   ]
  },
  {
   "cell_type": "code",
   "execution_count": null,
   "metadata": {},
   "outputs": [],
   "source": [
    "tidy_df[tidy_df.variable.isin([\n",
    "    'SWE_p1_c', 'SWE_p2_c', 'SWE_p3_c', 'SWE_p4_c'\n",
    "])].query(\"time < 20240410\")"
   ]
  },
  {
   "cell_type": "code",
   "execution_count": null,
   "metadata": {},
   "outputs": [],
   "source": [
    "measured_results_mm = tidy_df[tidy_df.variable.isin([\n",
    "    'w_h2o__2m_c_gapfill',\n",
    "    'w_h2o__3m_c_gapfill',\n",
    "    'w_h2o__5m_c_gapfill',\n",
    "    'w_h2o__10m_c_gapfill',\n",
    "    'w_h2o__15m_c_gapfill',\n",
    "    'w_h2o__20m_c_gapfill',\n",
    "\n",
    "    'w_h2o__3m_ue_gapfill',\n",
    "    'w_h2o__10m_ue_gapfill',\n",
    "\n",
    "    'w_h2o__3m_uw_gapfill',\n",
    "    'w_h2o__10m_uw_gapfill',\n",
    "\n",
    "    'w_h2o__3m_d_gapfill',\n",
    "    'w_h2o__10m_d_gapfill',\n",
    "])][\n",
    "    ['time', 'value', 'variable']\n",
    "]\n",
    "measured_results_mm.columns = ['time', 'measured', 'variable']\n",
    "measured_results_mm = measured_results_mm.pivot(\n",
    "    index = 'time',\n",
    "    columns = 'variable',\n",
    "    values = 'measured'\n",
    ")\n",
    "# convert to mm\n",
    "measured_results_mm = measured_results_mm*seconds_in_timestep/density_water.magnitude\n",
    "measured_results_cumsum = measured_results_mm.cumsum().reset_index()\n",
    "measured_results_cumsum = measured_results_cumsum.melt(id_vars='time')\n",
    "measured_results_cumsum['height'] = measured_results_cumsum['variable'].apply(lambda s: int(s.split('__')[1].split('m')[0]))\n",
    "measured_results_cumsum['tower'] = measured_results_cumsum['variable'].apply(lambda s: s.split('__')[1].split('_')[-2])\n",
    "measured_results_cumsum['tower-height'] = measured_results_cumsum['tower'] + '-' + measured_results_cumsum['height'].astype('str')"
   ]
  },
  {
   "cell_type": "code",
   "execution_count": null,
   "metadata": {},
   "outputs": [],
   "source": [
    "from uncertainties import ufloat"
   ]
  },
  {
   "cell_type": "markdown",
   "metadata": {},
   "source": [
    "### Average daily sublimation rate"
   ]
  },
  {
   "cell_type": "code",
   "execution_count": null,
   "metadata": {},
   "outputs": [],
   "source": [
    "measured_results_mm['w_h2o__10m_c_gapfill'].mean()*48"
   ]
  },
  {
   "cell_type": "markdown",
   "metadata": {},
   "source": [
    "### Average daily sublimation rate - per month"
   ]
  },
  {
   "cell_type": "code",
   "execution_count": null,
   "metadata": {},
   "outputs": [],
   "source": [
    "measured_results_mm.groupby(pd.Grouper(freq='M'))['w_h2o__10m_c_gapfill'].mean()*48"
   ]
  },
  {
   "cell_type": "code",
   "execution_count": null,
   "metadata": {},
   "outputs": [],
   "source": [
    "for var in measured_results_mm.columns:\n",
    "    print(var)\n",
    "    sublimation_with_uncertainty_50percent = measured_results_mm[var].apply(\n",
    "        lambda x: ufloat(x, np.abs(x*0.5))\n",
    "    )\n",
    "    final_result_50percent = 0\n",
    "    for value in sublimation_with_uncertainty_50percent:\n",
    "        final_result_50percent += value\n",
    "\n",
    "    sublimation_with_uncertainty_20percent = measured_results_mm[var].apply(\n",
    "        lambda x: ufloat(x, np.abs(x*0.2))\n",
    "    )\n",
    "    final_result_20percent = 0\n",
    "    for value in sublimation_with_uncertainty_20percent:\n",
    "        final_result_20percent += value\n",
    "\n",
    "    print('\\tAssuming 20% uncertainty: ', final_result_20percent)\n",
    "    print('\\tAssuming 50% uncertainty: ', final_result_50percent)"
   ]
  },
  {
   "cell_type": "code",
   "execution_count": null,
   "metadata": {},
   "outputs": [],
   "source": [
    "src = tidy_df[tidy_df.variable.isin([\n",
    "    'w_h2o__2m_c_gapfill',\n",
    "    'w_h2o__3m_c_gapfill',\n",
    "    'w_h2o__5m_c_gapfill',\n",
    "    'w_h2o__10m_c_gapfill',\n",
    "    'w_h2o__15m_c_gapfill',\n",
    "    'w_h2o__20m_c_gapfill',\n",
    "    'w_h2o__3m_ue_gapfill',\n",
    "    'w_h2o__10m_ue_gapfill',\n",
    "    'w_h2o__3m_uw_gapfill',\n",
    "    'w_h2o__10m_uw_gapfill',\n",
    "    'w_h2o__3m_d_gapfill',\n",
    "    'w_h2o__10m_d_gapfill',\n",
    "\n",
    "    'w_h2o__2m_c_raw',\n",
    "    'w_h2o__3m_c_raw',\n",
    "    'w_h2o__5m_c_raw',\n",
    "    'w_h2o__10m_c_raw',\n",
    "    'w_h2o__15m_c_raw',\n",
    "    'w_h2o__20m_c_raw',\n",
    "    'w_h2o__3m_ue_raw',\n",
    "    'w_h2o__10m_ue_raw',\n",
    "    'w_h2o__3m_uw_raw',\n",
    "    'w_h2o__10m_uw_raw',\n",
    "    'w_h2o__3m_d_raw',\n",
    "    'w_h2o__10m_d_raw',\n",
    "\n",
    "    'w_h2o__2m_c',\n",
    "    'w_h2o__3m_c',\n",
    "    'w_h2o__5m_c',\n",
    "    'w_h2o__10m_c',\n",
    "    'w_h2o__15m_c',\n",
    "    'w_h2o__20m_c',\n",
    "    'w_h2o__3m_ue',\n",
    "    'w_h2o__10m_ue',\n",
    "    'w_h2o__3m_uw',\n",
    "    'w_h2o__10m_uw',\n",
    "    'w_h2o__3m_d',\n",
    "    'w_h2o__10m_d',\n",
    "])][\n",
    "    ['time', 'value', 'variable']\n",
    "].set_index('time').sort_index()\n",
    "\n",
    "from sublimpy import tidy\n",
    "src['tower'] = src.variable.apply(lambda s: s.replace('_raw', '').replace('_gapfill', '')).apply(\n",
    "    tidy._tower_from_variable_name\n",
    ")\n",
    "src['height'] = src.variable.str.replace('_raw', '').replace('_gapfill', '').apply(\n",
    "    tidy._height_from_variable_name\n",
    ")\n",
    "\n",
    "def label_variable(v):\n",
    "    if 'raw' in v:\n",
    "        return 'raw'\n",
    "    elif 'gapfill' in v:\n",
    "        return 'gapfill'\n",
    "    else:\n",
    "        return 'cleaned'\n",
    "src['data_processing'] = src.variable.apply(label_variable)\n",
    "\n",
    "alt.Chart(src.dropna()).mark_bar().encode(\n",
    "    alt.Row('tower:N'),\n",
    "    alt.Column('height:Q'),\n",
    "    alt.Y('sum(value):Q'),\n",
    "    alt.X('data_processing:N')\n",
    ").properties(height=50)"
   ]
  },
  {
   "cell_type": "code",
   "execution_count": null,
   "metadata": {},
   "outputs": [],
   "source": []
  },
  {
   "cell_type": "code",
   "execution_count": null,
   "metadata": {},
   "outputs": [],
   "source": []
  },
  {
   "cell_type": "code",
   "execution_count": null,
   "metadata": {},
   "outputs": [],
   "source": [
    "cum_sub_chart = alt.Chart(measured_results_cumsum.dropna()).transform_filter(\n",
    "    alt.datum.height > 1\n",
    ").mark_line(strokeWidth=1.5).transform_window(\n",
    "    rolling_median = \"median(value)\",\n",
    "    groupby = [\"height\", \"tower-height\"],\n",
    "    frame=[-2,2]\n",
    ").encode(\n",
    "    alt.X(\"time:T\"),\n",
    "    alt.Y(\"rolling_median:Q\").title(\"Cumulative sublimation (mm)\"),\n",
    "    alt.Color(\"height:O\").scale(scheme = 'turbo').title('Height (m)'),\n",
    "    detail = \"tower-height\"\n",
    ")\n",
    "\n",
    "cum_sub_chart_no_xaxislabels = alt.Chart(measured_results_cumsum.dropna()).transform_filter(\n",
    "    alt.datum.height > 1\n",
    ").mark_line(strokeWidth=1.5).transform_window(\n",
    "    rolling_median = \"median(value)\",\n",
    "    groupby = [\"height\", \"tower-height\"],\n",
    "    frame=[-2,2]\n",
    ").encode(\n",
    "    alt.X(\"time:T\").axis(labels=False).title(None),\n",
    "    alt.Y(\"rolling_median:Q\").title(\"Cumulative sublimation (mm)\"),\n",
    "    alt.Color(\"height:O\").scale(scheme = 'turbo').title('Height (m)'),\n",
    "    detail = \"tower-height\"\n",
    ")"
   ]
  },
  {
   "cell_type": "code",
   "execution_count": null,
   "metadata": {},
   "outputs": [],
   "source": [
    "selection = alt.selection_point(fields=['tower-height'], bind='legend', toggle=True)\n",
    "src = measured_results_cumsum.dropna().query(\"height > 1\")\n",
    "chart = alt.Chart(src).mark_line(strokeWidth=1.5).encode(\n",
    "    alt.X(\"time:T\"),\n",
    "    alt.Y(\"value:Q\").title(\"Cumulative sublimation (mm)\"),\n",
    "    alt.Color(\"tower-height:N\").scale(scheme = 'turbo'),\n",
    "    opacity=alt.condition(selection, alt.value(1), alt.value(0.0))\n",
    ").add_params(\n",
    "    selection\n",
    ").properties(width=600, height=300).interactive()\n",
    "chart.save(\"/Users/elischwat/Downloads/cumulative_sublimation_interactive.html\", scale_factor=10)"
   ]
  },
  {
   "cell_type": "code",
   "execution_count": null,
   "metadata": {},
   "outputs": [],
   "source": [
    "cum_sub_and_snowpack_swe_chart = (snowpillow_chart & cum_sub_chart).resolve_scale(\n",
    "    x='shared', y='independent', color='independent'\n",
    ")\n",
    "\n",
    "cum_sub_and_snowpack_swe_chart.save(\"cum-sub-and-snowpack-swe.png\", ppi=200)\n",
    "cum_sub_and_snowpack_swe_chart"
   ]
  },
  {
   "cell_type": "markdown",
   "metadata": {},
   "source": [
    "# Make plot showing daily sublimation by clear/blowing snow "
   ]
  },
  {
   "cell_type": "markdown",
   "metadata": {},
   "source": [
    "## Calculate daily sublimation"
   ]
  },
  {
   "cell_type": "code",
   "execution_count": null,
   "metadata": {},
   "outputs": [],
   "source": [
    "import metpy.constants\n",
    "seconds_per_timestep = 60*30"
   ]
  },
  {
   "cell_type": "code",
   "execution_count": null,
   "metadata": {},
   "outputs": [],
   "source": [
    "daily_sub_by_blowingsnow_src = tidy_df[\n",
    "    tidy_df.variable.isin(['w_h2o__3m_c_gapfill', 'SF_avg_1m_ue', 'SF_avg_2m_ue'])\n",
    "].pivot_table(\n",
    "    values = 'value',\n",
    "    index = 'time',\n",
    "    columns = 'variable'\n",
    ")\n",
    "daily_sub_by_blowingsnow_src['SF_avg_max_ue'] = daily_sub_by_blowingsnow_src[['SF_avg_1m_ue', 'SF_avg_2m_ue']].max(axis=1)\n",
    "daily_sub_by_blowingsnow_src['blowing snow'] = daily_sub_by_blowingsnow_src['SF_avg_max_ue'] > 0\n",
    "daily_sub_by_blowingsnow_src['Sublimation (mm)'] = daily_sub_by_blowingsnow_src[\n",
    "    'w_h2o__3m_c_gapfill'\n",
    "]*seconds_per_timestep / metpy.constants.density_water.magnitude# calculate daily sublimation\n",
    "daily_sub_by_blowingsnow_src = daily_sub_by_blowingsnow_src.groupby([pd.Grouper(freq='1440Min'), 'blowing snow']).sum()\n",
    "daily_sub_by_blowingsnow_src = daily_sub_by_blowingsnow_src.reset_index()\n",
    "daily_sub_by_blowingsnow_src"
   ]
  },
  {
   "cell_type": "markdown",
   "metadata": {},
   "source": [
    "## Plot"
   ]
  },
  {
   "cell_type": "code",
   "execution_count": null,
   "metadata": {},
   "outputs": [],
   "source": [
    "daily_sub_chart = alt.Chart(daily_sub_by_blowingsnow_src).mark_bar(width=2.5).encode(\n",
    "    alt.X(\"time:T\", title=None).axis(labels=False),\n",
    "    alt.Y(\"Sublimation (mm):Q\").title([\"Daily sublimation\", \"(mm)\"]), \n",
    "    alt.Color(\"blowing snow:N\").scale(domain=[True, False], range=['#000000', '#C0C0C0']).title(\n",
    "        'Blowing snow'\n",
    "    ),\n",
    "    tooltip='time:T'\n",
    ").properties(height = 100, width=500)"
   ]
  },
  {
   "cell_type": "code",
   "execution_count": null,
   "metadata": {},
   "outputs": [],
   "source": [
    "(daily_sub_chart).resolve_scale(y='independent').configure_axis(grid=False)"
   ]
  },
  {
   "cell_type": "code",
   "execution_count": null,
   "metadata": {},
   "outputs": [],
   "source": []
  },
  {
   "cell_type": "markdown",
   "metadata": {},
   "source": [
    "# Make stability regime hovmoller plot"
   ]
  },
  {
   "cell_type": "markdown",
   "metadata": {},
   "source": [
    "## Using temp gradient (pot virtal temp gradient)"
   ]
  },
  {
   "cell_type": "code",
   "execution_count": null,
   "metadata": {},
   "outputs": [],
   "source": [
    "src = tidy_df.query(\"variable == 'temp_gradient_3m_c'\")\n",
    "src = src.assign(hour = src.time.dt.hour)\n",
    "src = src.assign(hour_end = src.time.dt.hour + 1)\n",
    "src = src.assign(start_date = src.time.apply(lambda dt_p: dt_p.replace(hour=0,minute=0,second=0)))\n",
    "src = src.assign(end_date = src.time.apply(lambda dt_p: dt_p.replace(hour=0,minute=0,second=0) + dt.timedelta(hours=24)))\n",
    "src = src.groupby([\n",
    "    'hour',\n",
    "    'hour_end',\n",
    "    'start_date',\n",
    "    'end_date',\n",
    "])[['value']].median().reset_index()\n",
    "\n",
    "# this makes it easy to make a custom colorscale with \n",
    "# negative values as a drastically different color\n",
    "# round for values that are equal to or greater than 0 (stable cases)\n",
    "stable_src = src[src.value >= -0.01]\n",
    "stable_src['value'] = stable_src['value'].round(1)\n",
    "\n",
    "unstable_src = src[src.value < -0.01]\n",
    "unstable_src['value'] = -0.1\n",
    "\n",
    "src = pd.concat([stable_src, unstable_src])"
   ]
  },
  {
   "cell_type": "code",
   "execution_count": null,
   "metadata": {},
   "outputs": [],
   "source": [
    "domain = np.linspace(-0.1,0.8, 10).round(1)\n",
    "range = [\n",
    "    '#ff2600', #red\n",
    "    '#ffffff', #blue scale, increasinlgy blue\n",
    "    '#e6ebfc',\n",
    "    '#cbd8f9',\n",
    "    '#aec4f6',\n",
    "    '#90b0f4',\n",
    "    '#7199f3',\n",
    "    '#4f80f2',\n",
    "    '#2a62f4',\n",
    "    '#0433ff',    \n",
    "]\n",
    "tempgrad_hovmoller_plot = alt.Chart(src.dropna()).mark_rect().encode(\n",
    "        alt.X(\"start_date:T\").title(\"date\"),\n",
    "        alt.X2(\"end_date:T\"),\n",
    "        alt.Y(\"hour:Q\").title(['Hour of day']).scale(reverse=True).axis(values=[0,6,12,18,24]),\n",
    "        alt.Y2(\"hour_end:Q\"),\n",
    "        alt.Color(\"value:O\").scale(domain=domain, range=range).title(['Static Stability', '(dθᵥ /dz, ˚C/m)'])\n",
    ").properties(height = 100, width=500)\n",
    "tempgrad_hovmoller_plot"
   ]
  },
  {
   "cell_type": "code",
   "execution_count": null,
   "metadata": {},
   "outputs": [],
   "source": [
    "src = tidy_df[tidy_df.variable.isin(['u*_3m_c', 'Tsurfvirtual_c', 'Tvirtual_1m_c', 'Tvirtual_2m_c', 'Tvirtual_3m_c','w_tc__3m_c',])].pivot_table(index='time', columns='variable', values='value')\n",
    "src['Tvirtual_avg'] = src[['Tsurfvirtual_c', 'Tvirtual_3m_c']].mean(axis=1)\n",
    "l_3m_c = - (src['u*_3m_c']**3)*(src['Tvirtual_avg']+273.15) / (0.4 * 9.81 * src['w_tc__3m_c'])\n",
    "src = pd.DataFrame(l_3m_c.rename('L_3m_c')).reset_index()\n",
    "src['zeta'] = 3 / src['L_3m_c']\n",
    "src = src.assign(hour = src.time.dt.hour)\n",
    "src = src.assign(hour_end = src.time.dt.hour + 1)\n",
    "src = src.assign(start_date = src.time.apply(lambda dt_p: dt_p.replace(hour=0,minute=0,second=0)))\n",
    "src = src.assign(end_date = src.time.apply(lambda dt_p: dt_p.replace(hour=0,minute=0,second=0) + dt.timedelta(hours=24)))\n",
    "src = src.groupby([\n",
    "    'hour',\n",
    "    'hour_end',\n",
    "    'start_date',\n",
    "    'end_date',\n",
    "])[['zeta']].median().reset_index()\n",
    "src"
   ]
  },
  {
   "cell_type": "code",
   "execution_count": null,
   "metadata": {},
   "outputs": [],
   "source": [
    "alt.Chart(src).mark_bar().encode(\n",
    "    alt.X('zeta:Q').bin(step=1),\n",
    "    alt.Y('count():Q')\n",
    ")"
   ]
  },
  {
   "cell_type": "code",
   "execution_count": null,
   "metadata": {},
   "outputs": [],
   "source": [
    "alt.Chart(src.dropna()).mark_rect().encode(\n",
    "        alt.X(\"start_date:T\").title(\"date\"),\n",
    "        alt.X2(\"end_date:T\"),\n",
    "        alt.Y(\"hour:Q\").title(['Hour of day']).scale(reverse=True).axis(values=[0,6,12,18,24]),\n",
    "        alt.Y2(\"hour_end:Q\"),\n",
    "        alt.Color(\"zeta:Q\").scale(domain=[-1,1], clamp=True, scheme='purpleorange')\n",
    ").properties(height = 100, width=500)\n"
   ]
  },
  {
   "cell_type": "markdown",
   "metadata": {},
   "source": [
    "## Using Ri_3m_c"
   ]
  },
  {
   "cell_type": "code",
   "execution_count": null,
   "metadata": {},
   "outputs": [],
   "source": [
    "src = tidy_df.query(\"variable == 'Ri_3m_c'\")\n",
    "src = src.assign(hour = src.time.dt.hour)\n",
    "src = src.assign(hour_end = src.time.dt.hour + 1)\n",
    "src = src.assign(start_date = src.time.apply(lambda dt_p: dt_p.replace(hour=0,minute=0,second=0)))\n",
    "src = src.assign(end_date = src.time.apply(lambda dt_p: dt_p.replace(hour=0,minute=0,second=0) + dt.timedelta(hours=24)))\n",
    "src = src.groupby([\n",
    "    'hour',\n",
    "    'hour_end',\n",
    "    'start_date',\n",
    "    'end_date',\n",
    "])[['value']].median().reset_index()\n",
    "# this makes it easy to make a custom colorscale with \n",
    "# negative values as a drastically different color\n",
    "src['value'] = src['value'].round(1)"
   ]
  },
  {
   "cell_type": "code",
   "execution_count": null,
   "metadata": {},
   "outputs": [],
   "source": [
    "alt.Chart(src.dropna()).mark_rect().encode(\n",
    "        alt.X(\"start_date:T\"),\n",
    "        alt.X2(\"end_date:T\"),\n",
    "        alt.Y(\"hour:Q\"),\n",
    "        alt.Y2(\"hour_end:Q\"),\n",
    "        alt.Color(\"value:Q\").scale(scheme='blueorange', domain=[-1,1.0])\n",
    ").properties(height = 100, width=500).configure_axis(grid=False)"
   ]
  },
  {
   "cell_type": "markdown",
   "metadata": {},
   "source": [
    "## Using $\\Omega_{3m}^c$"
   ]
  },
  {
   "cell_type": "code",
   "execution_count": null,
   "metadata": {},
   "outputs": [],
   "source": [
    "src = tidy_df.query(\"variable == 'omega_3m_c'\")\n",
    "src = src.assign(hour = src.time.dt.hour)\n",
    "src = src.assign(hour_end = src.time.dt.hour + 1)\n",
    "src = src.assign(start_date = src.time.apply(lambda dt_p: dt_p.replace(hour=0,minute=0,second=0)))\n",
    "src = src.assign(end_date = src.time.apply(lambda dt_p: dt_p.replace(hour=0,minute=0,second=0) + dt.timedelta(hours=24)))\n",
    "src = src.groupby([\n",
    "    'hour',\n",
    "    'hour_end',\n",
    "    'start_date',\n",
    "    'end_date',\n",
    "])[['value']].median().reset_index()\n",
    "# this makes it easy to make a custom colorscale with \n",
    "# negative values as a drastically different color\n",
    "src['value'] = src['value'].round(1)"
   ]
  },
  {
   "cell_type": "code",
   "execution_count": null,
   "metadata": {},
   "outputs": [],
   "source": [
    "alt.Chart(src.dropna()).mark_rect().encode(\n",
    "        alt.X(\"start_date:T\"),\n",
    "        alt.X2(\"end_date:T\"),\n",
    "        alt.Y(\"hour:Q\"),\n",
    "        alt.Y2(\"hour_end:Q\"),\n",
    "        alt.Color(\"value:Q\").scale(scheme='blueorange', domain=[0, .86], clamp=True),\n",
    ").properties(height = 100, width=500).configure_axis(grid=False)"
   ]
  },
  {
   "cell_type": "code",
   "execution_count": null,
   "metadata": {},
   "outputs": [],
   "source": [
    "src = tidy_df[tidy_df.variable.isin([\n",
    "    'omega_3m_c',\n",
    "    'Ri_3m_c',\n",
    "    'temp_gradient_3m_c',\n",
    "])][['time', 'variable', 'value']].pivot(index='time', columns='variable')\n",
    "src.columns = src.columns.droplevel(0)\n",
    "\n",
    "coupled_rule = alt.Chart(pd.DataFrame({'x':[0.43]})).mark_rule().encode(y='x')\n",
    "\n",
    "base_chart = alt.Chart(\n",
    "    src.groupby(pd.Grouper(freq='60Min')).median()\n",
    ").mark_circle(\n",
    "    size=5,\n",
    "    opacity=0.25\n",
    ")\n",
    "alt.Chart(\n",
    "    src.groupby(pd.Grouper(freq='60Min')).median()\n",
    ").mark_circle(\n",
    "    size=10,\n",
    "    opacity=0.25\n",
    ").properties(width = 200, height = 200)\n",
    "omega_yaxis = alt.Y('omega_3m_c:Q').scale(domain=[0,5], clamp=True)\n",
    "ri_xaxis = alt.X(\"Ri_3m_c:Q\").scale(domain=[-0.5,0.5], clamp=True)\n",
    "\n",
    "omega_vs_ri = base_chart.encode(\n",
    "    ri_xaxis,\n",
    "    omega_yaxis,\n",
    ") + coupled_rule\n",
    "tempgrad_vs_ri = base_chart.encode(\n",
    "    ri_xaxis,\n",
    "    alt.Y('temp_gradient_3m_c:Q'),\n",
    ")\n",
    "omega_vs_tempgrad = base_chart.encode(\n",
    "    alt.X(\"temp_gradient_3m_c:Q\"),\n",
    "    omega_yaxis,\n",
    ") + coupled_rule\n",
    "omega_vs_ri | tempgrad_vs_ri | omega_vs_tempgrad"
   ]
  },
  {
   "cell_type": "markdown",
   "metadata": {},
   "source": [
    "# Make stability regime time series plot"
   ]
  },
  {
   "cell_type": "code",
   "execution_count": null,
   "metadata": {},
   "outputs": [],
   "source": [
    "def temp_gradient_to_stability_regime(x):\n",
    "    if np.isnan(x):\n",
    "        return None\n",
    "    elif x < -0.01:\n",
    "        return \"unstable\"\n",
    "    elif x >= -0.01 and x <= 0.01:\n",
    "        return \"neutral\"\n",
    "    elif x > 0.01:\n",
    "        return \"stable\"\n",
    "    else:\n",
    "        raise ValueError(\"what?\")\n",
    "src = tidy_df.query(\"variable == 'temp_gradient_3m_c'\")\n",
    "src['date'] = src.time.dt.date\n",
    "src[src.time.dt.hour.isin([0,1])]\n",
    "src_day = src[src.time.dt.hour.isin([12,13])].assign(time_of_day = 'day')\n",
    "src_night = src[src.time.dt.hour.isin([0,1])].assign(time_of_day = 'night')\n",
    "src = pd.concat([src_day, src_night])\n",
    "src = src.groupby(['date', 'time_of_day']).mean(numeric_only=True).reset_index()\n",
    "src['stability regime'] = src['value'].apply(temp_gradient_to_stability_regime)"
   ]
  },
  {
   "cell_type": "code",
   "execution_count": null,
   "metadata": {},
   "outputs": [],
   "source": [
    "stability_regime_chart = alt.Chart(src).mark_bar().encode(\n",
    "    alt.X(\"date:T\"),\n",
    "    alt.Color(\"stability regime:N\").scale(domain = ['neutral', 'stable', 'unstable'], range=['#000000', '#1f77b4', '#ff7f0e']  ),\n",
    "    alt.Y(\"time_of_day:N\", sort=['night', 'day'], title=None)\n",
    ").properties(width = 500)"
   ]
  },
  {
   "cell_type": "code",
   "execution_count": null,
   "metadata": {},
   "outputs": [],
   "source": [
    "src = tidy_df[tidy_df.measurement.isin([\n",
    "    'virtual temperature',\n",
    "    'surface virtual temperature'\n",
    "])]\n",
    "src = src.set_index(\"time\").groupby([pd.Grouper(freq='60Min'), 'height']).mean(numeric_only=True).reset_index()\n",
    "src['hour'] = src.time.dt.hour\n",
    "src = src[src['hour']%4 == 0]\n",
    "\n",
    "def profile_chart(src):\n",
    "    return alt.Chart(src).mark_line().encode(\n",
    "        alt.X(\"value:Q\").title(\"Virtual temperature (˚C)\"),\n",
    "        alt.Y(\"height:Q\").title(\"Height (m)\"),\n",
    "        alt.Color('hour:O').scale(scheme='rainbow').title('Hour'),\n",
    "        order='height'\n",
    "    ).properties(width = 200, height = 125)"
   ]
  },
  {
   "cell_type": "code",
   "execution_count": null,
   "metadata": {},
   "outputs": [],
   "source": [
    "alt.Chart(\n",
    "    src[src.time < '20230320'].query(\"height != 15\").query(\"height != 1\")\n",
    ").mark_line().encode(\n",
    "    alt.X(\"median(value):Q\").title(\"Virtual temperature (˚C)\"),\n",
    "    alt.Y(\"height:Q\").title(\"Height (m)\"),\n",
    "    alt.Color('hour:O').scale(scheme='rainbow').title('Hour'),\n",
    "    order='height'\n",
    ").properties(width = 200, height = 125) | alt.Chart(\n",
    "    src[src.time >= '20230320'].query(\"height != 15\").query(\"height != 1\")\n",
    ").mark_line().encode(\n",
    "    alt.X(\"median(value):Q\").title(\"Virtual temperature (˚C)\"),\n",
    "    alt.Y(\"height:Q\").title(\"Height (m)\"),\n",
    "    alt.Color('hour:O').scale(scheme='rainbow').title('Hour'),\n",
    "    order='height'\n",
    ").properties(width = 200, height = 125)"
   ]
  },
  {
   "cell_type": "code",
   "execution_count": null,
   "metadata": {},
   "outputs": [],
   "source": [
    "profiles_chart = (\n",
    "    profile_chart(\n",
    "        src[\n",
    "            src.time.dt.date == dt.date(2023, 2, 11)\n",
    "        ].dropna().query(\"height != 15\")\n",
    "    ).properties(title = \"Sunny, midwinter day (2023-02-11)\")\n",
    "    |\n",
    "    profile_chart(\n",
    "        src[\n",
    "            src.time.dt.date == dt.date(2023, 3, 28)\n",
    "        ].dropna().query(\"height != 15\")\n",
    "    ).properties(title = \"Sunny, spring day (2023-03-28)\")\n",
    ").resolve_scale(x='shared', y='shared')\n",
    "profiles_chart"
   ]
  },
  {
   "cell_type": "code",
   "execution_count": null,
   "metadata": {},
   "outputs": [],
   "source": [
    "grad_exam_chart = (    \n",
    "    (\n",
    "        cum_sub_chart_no_xaxislabels.properties(height = 200) & \n",
    "        daily_sub_chart & \n",
    "        rnet_chart.properties(height = 75) & \n",
    "        tempgrad_hovmoller_plot\n",
    "    ).resolve_scale(color='independent', x='shared')\n",
    ").configure_legend(symbolSize=50, labelFontSize=10, rowPadding=1)\n",
    "\n",
    "grad_exam_chart.save(\"gradexam_seasonal_conditions_figure.png\", ppi=200)"
   ]
  },
  {
   "cell_type": "code",
   "execution_count": null,
   "metadata": {},
   "outputs": [],
   "source": [
    "wsc_chart = (    \n",
    "    (\n",
    "        (snowpillow_chart + cum_sub_chart_no_xaxislabels).resolve_scale(y='independent').properties(\n",
    "            height = 200, width=500) & \n",
    "        daily_sub_chart.properties(height = 75) & \n",
    "        rnet_chart.properties(height = 75, width=500)\n",
    "        # &  tempgrad_hovmoller_plot\n",
    "    ).resolve_scale(color='independent', x='shared')\n",
    "    # &\n",
    "    # profiles_chart\n",
    ").configure_legend(symbolSize=50, labelFontSize=10, rowPadding=1)\n",
    "\n",
    "wsc_chart.save(\"../../figures/seasonal_sublimation_and_conditions.png\", ppi=200)\n",
    "wsc_chart"
   ]
  },
  {
   "cell_type": "code",
   "execution_count": null,
   "metadata": {},
   "outputs": [],
   "source": [
    "(\n",
    "    alt.Chart(\n",
    "        tidy_df.query(\"measurement == 'snow flux'\").query(\"time < '20230118'\").query    (\"time > '20230117'\")\n",
    "    ).mark_circle().encode(\n",
    "        alt.X('time:T'),\n",
    "        alt.Y('value:Q').title('BS flux (g/m^2/s)'),\n",
    "        alt.Color('height:O').scale(scheme='turbo')\n",
    "    ).properties(height = 100, width=200) & alt.Chart(\n",
    "        tidy_df[tidy_df.variable.isin([\n",
    "            'w_h2o__3m_c', 'w_h2o__5m_c', 'w_h2o__10m_c', 'w_h2o__15m_c', 'w_h2o__20m_c'\n",
    "        ])].query(\"time < '20230118'\").query(\"time > '20230117'\")\n",
    "    ).mark_line().encode(\n",
    "        alt.X('time:T'),\n",
    "        alt.Y('value:Q').title(\"w'q' (g/m^2/s)\").scale(domain=[-0.0001,0.1], clamp=True),\n",
    "        alt.Color('height:O').scale(scheme='turbo'),\n",
    "        tooltip='height'\n",
    "    ).properties(height = 100, width=200) & \n",
    "    alt.Chart(\n",
    "        tidy_df[tidy_df.variable.isin([\n",
    "            'w_h2o__3m_c', 'w_h2o__5m_c', 'w_h2o__10m_c', 'w_h2o__15m_c', 'w_h2o__20m_c'\n",
    "        ])].query(\"time < '20230118'\").query    (\"time > '20230117'\")\n",
    "    ).transform_window(\n",
    "            sort=[{'field': 'time'}],\n",
    "        # Include all previous records before the current record and none after\n",
    "        # (This is the default value so you could skip it and it would still work.)\n",
    "        frame=[None, 0],\n",
    "        # What to add up as you go\n",
    "        cumulative_flux_density='sum(value)',\n",
    "        groupby=['height']\n",
    "    ).transform_calculate(\n",
    "        cumulative_sub_mm = 'datum.cumulative_flux_density * 1800 / 1000'\n",
    "    ).mark_line().encode(\n",
    "        alt.X('time:T'),\n",
    "        alt.Y('cumulative_sub_mm:Q').title(['Cumulative', 'sublimation (mm)']),\n",
    "        alt.Color('height:O').scale(scheme='turbo')\n",
    ").properties(height = 100, width=200)\n",
    ")  |\\\n",
    "(\n",
    "    alt.Chart(\n",
    "    tidy_df[tidy_df.variable.isin([\n",
    "        'ldiag_3m_c', 'ldiag_5m_c', 'ldiag_10m_c', 'ldiag_15m_c', 'ldiag_20m_c'\n",
    "    ])].query(\"time < '20230118'\").query(\"time > '20230117'\")\n",
    ").mark_line().transform_calculate(\n",
    "    percent_flagged = \"100 * datum.value/6000\"\n",
    ").encode(\n",
    "    alt.X('time:T'),\n",
    "    alt.Y('percent_flagged:Q').title(['sonic diagnostic', '(% flagged)'] ),\n",
    "    alt.Color('height:O').scale(scheme='turbo'),\n",
    "    tooltip='height'\n",
    ").properties(height = 100, width=200) &\n",
    "    alt.Chart(\n",
    "        tidy_df[tidy_df.variable.isin([\n",
    "            'irgadiag_3m_c', 'irgadiag_5m_c', 'irgadiag_10m_c', 'irgadiag_15m_c', 'irgadiag_20m_c'\n",
    "        ])].query(\"time < '20230118'\").query(\"time > '20230117'\")\n",
    "    ).mark_line().transform_calculate(\n",
    "        percent_flagged = \"100 * datum.value/6000\"\n",
    "    ).encode(\n",
    "        alt.X('time:T'),\n",
    "        alt.Y('percent_flagged:Q').title(['irgason diagnostic', '(% flagged)'] ),\n",
    "        alt.Color('height:O').scale(scheme='turbo'),\n",
    "        tooltip='height'\n",
    "    ).properties(height = 100, width=200) & alt.Chart(\n",
    "        tidy_df[tidy_df.variable.isin([\n",
    "            'spd_3m_c', 'spd_5m_c', 'spd_10m_c', 'spd_20m_c'\n",
    "        ])].query(\"time < '20230118'\").query(\"time > '20230117'\")\n",
    "    ).mark_line().encode(\n",
    "        alt.X('time:T'),\n",
    "        alt.Y('value:Q').title('wind speed (m/s)'),\n",
    "        alt.Color('height:O').scale(scheme='turbo'),\n",
    "        tooltip='height'\n",
    "    ).properties(height = 100, width=200)\n",
    ")"
   ]
  },
  {
   "cell_type": "code",
   "execution_count": null,
   "metadata": {},
   "outputs": [],
   "source": [
    "tidy_df[tidy_df.measurement == 'wind speed'].groupby('variable').max()"
   ]
  },
  {
   "cell_type": "code",
   "execution_count": null,
   "metadata": {},
   "outputs": [],
   "source": [
    "tidy_df[tidy_df.measurement == 'wind speed'].set_index('time').loc['20221222'].groupby('variable').max()"
   ]
  },
  {
   "cell_type": "code",
   "execution_count": null,
   "metadata": {},
   "outputs": [],
   "source": [
    "src = measured_results_cumsum.groupby(['height', 'tower'])[['value']].max().reset_index()\n",
    "sublimation_totals_per_height_tower_chart = alt.Chart(src).mark_point(size=100).encode(\n",
    "    alt.Y(\"height:O\").sort('-y').title(\"Height (m)\"),\n",
    "    alt.X(\"value:Q\").scale(zero=False).title([\"Seasonal sublimation (mm SWE)\"]),\n",
    "    # alt.Color(\"height:O\").scale(scheme='turbo').legend(columns=2),\n",
    "    alt.Shape(\"tower:N\")\n",
    ").properties(width = 150, height = 150)\n",
    "sublimation_totals_per_height_tower_chart.save('../../figures/sublimation_per_tower_and_height.png', ppi = 200)\n",
    "sublimation_totals_per_height_tower_chart"
   ]
  },
  {
   "cell_type": "code",
   "execution_count": null,
   "metadata": {},
   "outputs": [],
   "source": [
    "round(\n",
    "    src.sort_values('value').query('height == 3').value.mean(), \n",
    "    1\n",
    "), round(\n",
    "    src.sort_values('value').query('height == 3').value.std(),\n",
    "    1\n",
    "), round(\n",
    "    src.sort_values('value').query('height == 10').value.mean(), \n",
    "    1\n",
    "), round(\n",
    "    src.sort_values('value').query('height == 10').value.std(),\n",
    "    1\n",
    ")"
   ]
  },
  {
   "cell_type": "code",
   "execution_count": null,
   "metadata": {},
   "outputs": [],
   "source": [
    "seasonal_sub_estimates_towerc_df = src.query(\"tower=='c'\").set_index(['height'])['value']\n",
    "1"
   ]
  },
  {
   "cell_type": "code",
   "execution_count": null,
   "metadata": {},
   "outputs": [],
   "source": [
    "seasonal_sub_estimates_towerc_df / seasonal_sub_estimates_towerc_df[3]"
   ]
  },
  {
   "cell_type": "code",
   "execution_count": null,
   "metadata": {},
   "outputs": [],
   "source": [
    "# Identify lists of timestamps for different categories\n",
    "bs_times = set(\n",
    "    tidy_df.query(\"variable == 'SF_avg_1m_ue'\").query(\"value > 0\").time\n",
    ").union(\n",
    "    set(tidy_df.query(\"variable == 'SF_avg_2m_ue'\").query(\"value > 0\").time)\n",
    ")\n",
    "nobs_times = set(tidy_df.time).difference(bs_times)\n",
    "\n",
    "decoupled_times = tidy_df.query(\"variable == 'omega_3m_c'\").query(\"value < 0.43\").time\n",
    "weaklycoupled_times = tidy_df.query(\"variable == 'omega_3m_c'\").query(\"value >= 0.43\").query(\"value <= 0.61\").time\n",
    "coupled_times = tidy_df.query(\"variable == 'omega_3m_c'\").query(\"value > 0.61\").time\n",
    "\n",
    "ri_stable_times = tidy_df.query(\"variable == 'Ri_3m_c'\").query(\"value > 0.25\").time\n",
    "ri_unstable_times = tidy_df.query(\"variable == 'Ri_3m_c'\").query(\"value < -0.01\").time\n",
    "ri_neutral_times = tidy_df.query(\"variable == 'Ri_3m_c'\").query(\"value >= -0.01\").query(\"value <= 0.25\").time\n",
    "\n",
    "tgrad_stable_times = tidy_df.query(\"variable == 'temp_gradient_3m_c'\").query(\"value > 0.01\").time\n",
    "tgrad_unstable_times = tidy_df.query(\"variable == 'temp_gradient_3m_c'\").query(\"value < -0.01\").time\n",
    "tgrad_neutral_times = tidy_df.query(\"variable == 'temp_gradient_3m_c'\").query(\"value >= -0.01\").query(\"value <= 0.01\").time\n",
    "\n",
    "upvalley_wind_times = tidy_df[tidy_df.variable == 'dir_3m_c'].query(\"value < 152\").query(\"value > 92\").time.values\n",
    "downvalley_wind_times = tidy_df[tidy_df.variable == 'dir_3m_c'].query(\"value < 342\").query(\"value > 292\").time.values\n",
    "len(upvalley_wind_times),len(downvalley_wind_times)"
   ]
  },
  {
   "cell_type": "code",
   "execution_count": null,
   "metadata": {},
   "outputs": [],
   "source": [
    "total_3m = measured_results_mm['w_h2o__10m_c_gapfill'].sum() \n",
    "total_10m = measured_results_mm['w_h2o__3m_c_gapfill'].sum()\n",
    "total_blend = (measured_results_mm[measured_results_mm.index.isin(bs_times)]['w_h2o__10m_c_gapfill'].sum() + \n",
    "    measured_results_mm[measured_results_mm.index.isin(nobs_times)]['w_h2o__3m_c_gapfill'].sum())"
   ]
  },
  {
   "cell_type": "code",
   "execution_count": null,
   "metadata": {},
   "outputs": [],
   "source": [
    "round(total_3m, 1), round(total_10m, 1), round(total_blend, 1)"
   ]
  },
  {
   "cell_type": "code",
   "execution_count": null,
   "metadata": {},
   "outputs": [],
   "source": [
    "src = measured_results_mm.melt(ignore_index=False)\n",
    "src['tower'] = src['variable'].apply(\n",
    "    lambda str: str.replace('_gapfill', '').split('_')[-1]\n",
    ")\n",
    "src['height'] = src['variable'].apply(\n",
    "    lambda str: int(str.split('m_')[0].split('__')[-1])\n",
    ")\n"
   ]
  },
  {
   "cell_type": "code",
   "execution_count": null,
   "metadata": {},
   "outputs": [],
   "source": [
    "from astral import LocationInfo\n",
    "from suntime import Sun\n",
    "from zoneinfo import ZoneInfo\n",
    "\n",
    "# On a special date in your machine's local time zone\n",
    "sun = Sun(38.957984, -106.988687)\n",
    "def assign_bs_and_daytime_label(this_time):\n",
    "    label = ''\n",
    "    utc_aware = this_time.replace(tzinfo=ZoneInfo('US/Mountain'))  # make aware\n",
    "    sunrise = sun.get_sunrise_time(this_time, time_zone=pytz.timezone('US/Mountain')).replace(tzinfo=None)\n",
    "    sunset = sun.get_sunset_time(this_time, time_zone=pytz.timezone('US/Mountain')).replace(tzinfo=None)\n",
    "    if sunrise > sunset:\n",
    "        sunset = sunset + dt.timedelta(days=1)\n",
    "    \n",
    "    if this_time in bs_times:\n",
    "        label += 'BS'\n",
    "    else:\n",
    "        label += 'No BS'\n",
    "    if (this_time > sunrise) & (this_time < sunset):\n",
    "        label += ', Daytime'\n",
    "    else:\n",
    "        label += ', Nighttime'\n",
    "    if label.startswith('BS'):\n",
    "        label = 'BS'\n",
    "    return label\n"
   ]
  },
  {
   "cell_type": "code",
   "execution_count": null,
   "metadata": {},
   "outputs": [],
   "source": [
    "src = src.reset_index().assign(conditions = src.reset_index().time.apply(assign_bs_and_daytime_label))"
   ]
  },
  {
   "cell_type": "code",
   "execution_count": null,
   "metadata": {},
   "outputs": [],
   "source": [
    "src.value.min(), src.value.max(), src.value.median()"
   ]
  },
  {
   "cell_type": "code",
   "execution_count": null,
   "metadata": {},
   "outputs": [],
   "source": [
    "print(len(src.query(\"conditions == 'No BS, Nighttime'\").time.unique()))\n",
    "print(len(src.query(\"conditions == 'No BS, Daytime'\").time.unique()))\n",
    "print(len(src.query(\"conditions == 'BS'\").time.unique()))"
   ]
  },
  {
   "cell_type": "code",
   "execution_count": null,
   "metadata": {},
   "outputs": [],
   "source": [
    "sublimation_totals_per_height_tower_chart.properties(title='Total sublimation') |\\\n",
    "(alt.Chart(src.query(\"conditions == 'No BS, Nighttime'\")).mark_point(size=100).encode(\n",
    "    alt.Y(\"height:O\").sort('-y').title(\"Height (m)\"),\n",
    "    alt.X(\"mean(value):Q\").scale(zero=False).title([\"Water vapor flux (g/m^2/s)\"]),\n",
    "    # alt.Color(\"height:O\").scale(scheme='turbo').legend(columns=2),\n",
    "    alt.Shape(\"tower:N\")\n",
    ").properties(title = ['Mean sublimation rate', 'during No BS, Night'], width = 150, height = 150) |\\\n",
    "alt.Chart(src.query(\"conditions == 'No BS, Daytime'\")).mark_point(size=100).encode(\n",
    "    alt.Y(\"height:O\").sort('-y').title(\"Height (m)\"),\n",
    "    alt.X(\"mean(value):Q\").scale(zero=False).title([\"Water vapor flux (g/m^2/s)\"]),\n",
    "    # alt.Color(\"height:O\").scale(scheme='turbo').legend(columns=2),\n",
    "    alt.Shape(\"tower:N\")\n",
    ").properties(title = ['Mean sublimation rate', 'during No BS, Daytime'], width = 150, height = 150) |\\\n",
    "alt.Chart(src.query(\"conditions == 'BS'\")).mark_point(size=100).encode(\n",
    "    alt.Y(\"height:O\").sort('-y').title(\"Height (m)\"),\n",
    "    alt.X(\"mean(value):Q\").scale(zero=False).title([\"Water vapor flux (g/m^2/s)\"]),\n",
    "    # alt.Color(\"height:O\").scale(scheme='turbo').legend(columns=2),\n",
    "    alt.Shape(\"tower:N\")\n",
    ").properties(title=['Mean sublimation rate', 'during BS'], width = 150, height = 150)).resolve_scale(x='shared', y='shared')"
   ]
  },
  {
   "cell_type": "code",
   "execution_count": null,
   "metadata": {},
   "outputs": [],
   "source": [
    "from metpy.units import units\n",
    "from metpy.constants import density_ice\n",
    "density_ice"
   ]
  },
  {
   "cell_type": "code",
   "execution_count": null,
   "metadata": {},
   "outputs": [],
   "source": [
    "src.value = (src['value'].values * units('g/m^2/s') / density_ice).to_base_units().to(\"mm/hour\")"
   ]
  },
  {
   "cell_type": "code",
   "execution_count": null,
   "metadata": {},
   "outputs": [],
   "source": [
    "sublimation_totals_per_height_tower_chart.properties(title='Total seasonal sublimation') |\\\n",
    "(alt.Chart(src.query(\"conditions == 'No BS, Nighttime'\")).mark_point(size=100).encode(\n",
    "    alt.Y(\"height:O\").sort('-y').title(\"Height (m)\"),\n",
    "    alt.X(\"mean(value):Q\").scale(zero=False).title([\"Water vapor flux (mm/hr)\"]),\n",
    "    # alt.Color(\"height:O\").scale(scheme='turbo').legend(columns=2),\n",
    "    alt.Shape(\"tower:N\")\n",
    ").properties(title = ['Mean sublimation rate', 'during No BS, Night'], width = 150, height = 150) |\\\n",
    "alt.Chart(src.query(\"conditions == 'No BS, Daytime'\")).mark_point(size=100).encode(\n",
    "    alt.Y(\"height:O\").sort('-y').title(\"Height (m)\"),\n",
    "    alt.X(\"mean(value):Q\").scale(zero=False).title([\"Water vapor flux (mm/hr)\"]),\n",
    "    # alt.Color(\"height:O\").scale(scheme='turbo').legend(columns=2),\n",
    "    alt.Shape(\"tower:N\")\n",
    ").properties(title = ['Mean sublimation rate', 'during No BS, Daytime'], width = 150, height = 150) |\\\n",
    "alt.Chart(src.query(\"conditions == 'BS'\")).mark_point(size=100).encode(\n",
    "    alt.Y(\"height:O\").sort('-y').title(\"Height (m)\"),\n",
    "    alt.X(\"mean(value):Q\").scale(zero=False).title([\"Water vapor flux (mm/hr)\"]),\n",
    "    # alt.Color(\"height:O\").scale(scheme='turbo').legend(columns=2),\n",
    "    alt.Shape(\"tower:N\")\n",
    ").properties(title=['Mean sublimation rate', 'during BS'], width = 150, height = 150)).resolve_scale(x='shared', y='shared')"
   ]
  },
  {
   "cell_type": "code",
   "execution_count": null,
   "metadata": {},
   "outputs": [],
   "source": [
    "(\n",
    "    src.query(\"tower=='c'\").query(\"conditions == 'No BS, Daytime'\").groupby('variable').value.mean() - (\n",
    "        src.query(\"tower=='c'\").query(\"conditions == 'No BS, Daytime'\").groupby('variable').value.mean()['w_h2o__3m_c_gapfill']\n",
    "    )\n",
    ") / (src.query(\"tower=='c'\").query(\"conditions == 'No BS, Daytime'\").groupby('variable').value.mean()['w_h2o__3m_c_gapfill'])"
   ]
  },
  {
   "cell_type": "code",
   "execution_count": null,
   "metadata": {},
   "outputs": [],
   "source": [
    "(\n",
    "    src.query(\"tower=='c'\").query(\"conditions == 'BS'\").groupby('variable').value.mean() - (\n",
    "        src.query(\"tower=='c'\").query(\"conditions == 'BS'\").groupby('variable').value.mean()['w_h2o__3m_c_gapfill']\n",
    "    )\n",
    ") / (src.query(\"tower=='c'\").query(\"conditions == 'BS'\").groupby('variable').value.mean()['w_h2o__3m_c_gapfill'])"
   ]
  },
  {
   "cell_type": "code",
   "execution_count": null,
   "metadata": {},
   "outputs": [],
   "source": [
    " / \\\n",
    "src.query(\"conditions == 'BS'\").groupby('variable').value.mean()['w_h2o__3m_c_gapfill']"
   ]
  },
  {
   "cell_type": "code",
   "execution_count": null,
   "metadata": {},
   "outputs": [],
   "source": [
    "1 - src.query(\"conditions == 'No BS, Daytime'\").groupby('variable').value.mean()['w_h2o__15m_c_gapfill'] / \\\n",
    "src.query(\"conditions == 'No BS, Daytime'\").groupby('variable').value.mean()['w_h2o__3m_c_gapfill']"
   ]
  },
  {
   "cell_type": "code",
   "execution_count": null,
   "metadata": {},
   "outputs": [],
   "source": [
    "1 - src.query(\"conditions == 'No BS, Daytime'\").groupby('variable').value.mean()['w_h2o__20m_c_gapfill'] / \\\n",
    "src.query(\"conditions == 'No BS, Daytime'\").groupby('variable').value.mean()['w_h2o__3m_c_gapfill']"
   ]
  },
  {
   "cell_type": "code",
   "execution_count": null,
   "metadata": {},
   "outputs": [],
   "source": [
    "bs_data = tidy_df[tidy_df.variable.isin([\"SF_avg_1m_ue\", \"SF_avg_2m_ue\"])].pivot_table(\n",
    "    index='time',\n",
    "    values='value',\n",
    "    columns = 'variable'\n",
    ")\n",
    "bs_data['SF_avg_ue'] = (bs_data['SF_avg_1m_ue'] + bs_data['SF_avg_2m_ue'])/2"
   ]
  },
  {
   "cell_type": "code",
   "execution_count": null,
   "metadata": {},
   "outputs": [],
   "source": [
    "\n",
    "src = src.set_index('time').join(bs_data[['SF_avg_ue']])\n",
    "src = src.query(\"SF_avg_ue > 0\").query(\"tower == 'c'\")"
   ]
  },
  {
   "cell_type": "code",
   "execution_count": null,
   "metadata": {},
   "outputs": [],
   "source": [
    "src['SF_avg_bin'] = pd.cut(src['SF_avg_ue'], bins=[0,0.01,0.1,1,10,100]).apply(\n",
    "    lambda range: str(range)[1:-1].replace(', ', '-')\n",
    ")"
   ]
  },
  {
   "cell_type": "code",
   "execution_count": null,
   "metadata": {},
   "outputs": [],
   "source": [
    "src"
   ]
  },
  {
   "cell_type": "code",
   "execution_count": null,
   "metadata": {},
   "outputs": [],
   "source": [
    "src['log_SF_avg_ue'] = np.log10(src['SF_avg_ue'])\n",
    "bs_measurement_distribution = alt.Chart(\n",
    "    src[['log_SF_avg_ue', 'SF_avg_bin']].reset_index().drop_duplicates()\n",
    ").mark_bar().encode(\n",
    "    alt.X(\"log_SF_avg_ue:Q\").bin(True).title('log[BS Flux (g/m^2/s)]'),\n",
    "    alt.Y(\"count():Q\"),\n",
    "    # alt.Color('log_SF_avg_ue:O').bin(True).scale(scheme='turbo')\n",
    "    alt.Color('SF_avg_bin:O').scale(scheme='turbo')\n",
    ").properties(title=['Distribution of BS Fluxes'], width = 150, height = 150).resolve_scale(x='independent')\n",
    "\n",
    "turb_fluxdiv_during_bs = alt.Chart(\n",
    "    src\n",
    ").mark_line(point=True).encode(\n",
    "    alt.X(\"mean(value):Q\").scale(zero=False).title([\"Water vapor flux (mm/hr)\"]),\n",
    "    alt.Y(\"height:Q\").sort('-y').title(\"Height (m)\"),\n",
    "    alt.Color(\"SF_avg_bin:O\").scale(scheme='turbo').title('BS Flux Bin (g/m^2/s)'),\n",
    "    order = 'height',\n",
    ").properties(title=['Mean EC verical water', ' vapor fluxes during BS'], width = 150, height = 150)\n",
    "\n",
    "bs_measurement_distribution | turb_fluxdiv_during_bs"
   ]
  },
  {
   "cell_type": "code",
   "execution_count": null,
   "metadata": {},
   "outputs": [],
   "source": [
    "# src_mixing_ratio = tidy_df[tidy_df.measurement == \"RH\"].query(\"tower == 'c'\").set_index('time').join(\n",
    "src_mixing_ratio = tidy_df[tidy_df.measurement == \"mixing ratio\"].query(\"tower == 'c'\").set_index('time').join(\n",
    "    src['SF_avg_bin']\n",
    ")\n",
    "src_mixing_ratio = src_mixing_ratio.dropna(subset=['SF_avg_bin'])\n",
    "src_mixing_ratio = src_mixing_ratio[(src_mixing_ratio.height != 12) & (src_mixing_ratio.height != 6)]\n",
    "mixingratio_during_bs = alt.Chart(\n",
    "    src_mixing_ratio\n",
    ").mark_line(point=True).encode(\n",
    "    alt.X(\"mean(value):Q\").scale(zero=False).title([\"Water vapor flux (mm/hr)\"]),\n",
    "    alt.Y(\"height:Q\").sort('-y').title(\"Height (m)\"),\n",
    "    alt.Color(\"SF_avg_bin:O\").scale(scheme='turbo').title('BS Flux Bin (g/m^2/s)'),\n",
    "    order = 'height',\n",
    ").properties(title=['Mean EC verical water', ' vapor fluxes during BS'], width = 150, height = 150)"
   ]
  },
  {
   "cell_type": "code",
   "execution_count": null,
   "metadata": {},
   "outputs": [],
   "source": [
    "# src_RH = tidy_df[tidy_df.measurement == \"RH\"].query(\"tower == 'c'\").set_index('time').join(\n",
    "src_RH = tidy_df[tidy_df.measurement == \"RH\"].query(\"tower == 'c'\").set_index('time').join(\n",
    "    src['SF_avg_bin']\n",
    ")\n",
    "src_RH = src_RH.dropna(subset=['SF_avg_bin'])\n",
    "src_RH = src_RH[(src_RH.height != 12) & (src_RH.height != 6)]\n",
    "RH_during_bs = alt.Chart(\n",
    "    src_RH\n",
    ").mark_line(point=True).encode(\n",
    "    alt.X(\"mean(value):Q\").scale(zero=False).title([\"Relative humidity (%)\"]),\n",
    "    alt.Y(\"height:Q\").sort('-y').title(\"Height (m)\"),\n",
    "    alt.Color(\"SF_avg_bin:O\").scale(scheme='turbo').title('BS Flux Bin (g/m^2/s)'),\n",
    "    order = 'height',\n",
    ").properties(title=['Mean EC verical water', ' vapor fluxes during BS'], width = 150, height = 150)"
   ]
  },
  {
   "cell_type": "code",
   "execution_count": null,
   "metadata": {},
   "outputs": [],
   "source": [
    "bs_measurement_distribution | (turb_fluxdiv_during_bs | RH_during_bs).resolve_scale(y='shared')"
   ]
  },
  {
   "cell_type": "code",
   "execution_count": null,
   "metadata": {},
   "outputs": [],
   "source": [
    "(src.groupby('SF_avg_bin').get_group('10.0-100.0').index.min(),\n",
    "src.groupby('SF_avg_bin').get_group('10.0-100.0').index.max())"
   ]
  },
  {
   "cell_type": "code",
   "execution_count": null,
   "metadata": {},
   "outputs": [],
   "source": [
    "print(\n",
    "    'Dec 1-31\\t',\n",
    "    round(tidy_df.query(\"variable == 'w_h2o__10m_c'\").set_index('time').loc[\n",
    "        '20221201': '20221231'\n",
    "    ].value.sum()*1800/density_water.magnitude, 2)\n",
    ")\n",
    "print(\n",
    "    'Dec 12-14\\t',\n",
    "    round(tidy_df.query(\"variable == 'w_h2o__10m_c'\").set_index('time').loc[\n",
    "        '20221212': '20221214'\n",
    "    ].value.sum()*1800/density_water.magnitude, 2)\n",
    ")\n",
    "print(\n",
    "    'Dec 21-22\\t',\n",
    "    round(tidy_df.query(\"variable == 'w_h2o__10m_c'\").set_index('time').loc[\n",
    "        '20221221': '20221222'\n",
    "    ].value.sum()*1800/density_water.magnitude, 2)\n",
    ")"
   ]
  },
  {
   "cell_type": "code",
   "execution_count": null,
   "metadata": {},
   "outputs": [],
   "source": [
    "len(tidy_df[tidy_df.variable == 'dir_3m_c'].dropna())"
   ]
  },
  {
   "cell_type": "code",
   "execution_count": null,
   "metadata": {},
   "outputs": [],
   "source": [
    "measured_results_sum = measured_results_mm.sum().rename('sum_sublimation').reset_index()\n",
    "measured_results_sum['height'] = measured_results_sum['variable'].apply(lambda s: int(s.split('__')[1].split('m')[0]))\n",
    "measured_results_sum['tower'] = measured_results_sum['variable'].apply(lambda s: s.split('__')[1].split('_')[-1])\n",
    "measured_results_sum['tower-height'] = measured_results_sum['tower'] + '-' + measured_results_sum['height'].astype('str')\n",
    "measured_results_sum\n",
    "\n",
    "measured_results_sum_bs = measured_results_mm[measured_results_mm.index.isin(bs_times)].sum().rename('sum_sublimation').reset_index()\n",
    "measured_results_sum_bs['height'] = measured_results_sum_bs['variable'].apply(lambda s: int(s.split('__')[1].split('m')[0]))\n",
    "measured_results_sum_bs['tower'] = measured_results_sum_bs['variable'].apply(lambda s: s.split('__')[1].split('_')[-1])\n",
    "measured_results_sum_bs['tower-height'] = measured_results_sum_bs['tower'] + '-' + measured_results_sum_bs['height'].astype('str')\n",
    "measured_results_sum_bs\n",
    "\n",
    "measured_results_sum_nobs = measured_results_mm[measured_results_mm.index.isin(nobs_times)].sum().rename('sum_sublimation').reset_index()\n",
    "measured_results_sum_nobs['height'] = measured_results_sum_nobs['variable'].apply(lambda s: int(s.split('__')[1].split('m')[0]))\n",
    "measured_results_sum_nobs['tower'] = measured_results_sum_nobs['variable'].apply(lambda s: s.split('__')[1].split('_')[-1])\n",
    "measured_results_sum_nobs['tower-height'] = measured_results_sum_nobs['tower'] + '-' + measured_results_sum_nobs['height'].astype('str')\n",
    "measured_results_sum_nobs"
   ]
  },
  {
   "cell_type": "code",
   "execution_count": null,
   "metadata": {},
   "outputs": [],
   "source": [
    "base = alt.Chart(\n",
    "    \n",
    ").mark_point(size=100).encode(\n",
    "    alt.Y(\"height:O\").sort('-y').title(\"height (m)\"),\n",
    "    alt.X(\"sum_sublimation:Q\").scale(zero=False).title([\"Seasonal sublimation (mm SWE)\"]),\n",
    "    # alt.Color(\"height:O\").scale(scheme='turbo').legend(columns=2),\n",
    "    alt.Shape(\"tower:N\"),\n",
    "    tooltip='sum_sublimation'\n",
    ").properties(width = 200, height = 200)\n",
    "\n",
    "alt.layer(base, data = measured_results_sum).properties(title = 'All data') &\\\n",
    "alt.layer(base, data = measured_results_sum_nobs).properties(title = 'No Blowing Snow') &\\\n",
    "alt.layer(base, data = measured_results_sum_bs).properties(title = 'Blowing Snow')"
   ]
  },
  {
   "cell_type": "code",
   "execution_count": null,
   "metadata": {},
   "outputs": [],
   "source": [
    "src = tidy_df[tidy_df.variable.isin([\n",
    "    'w_h2o__10m_c',\n",
    "    'w_h2o__10m_d',\n",
    "    'w_h2o__10m_ue',\n",
    "    'w_h2o__10m_uw',\n",
    "    'w_h2o__15m_c',\n",
    "    'w_h2o__1m_c',\n",
    "    'w_h2o__1m_d',\n",
    "    'w_h2o__1m_ue',\n",
    "    'w_h2o__1m_uw',\n",
    "    'w_h2o__20m_c',\n",
    "    'w_h2o__2_5m_uw',\n",
    "    'w_h2o__2m_c',\n",
    "    'w_h2o__2m_d',\n",
    "    'w_h2o__2m_ue',\n",
    "    'w_h2o__2m_uw',\n",
    "    'w_h2o__3m_c',\n",
    "    'w_h2o__3m_d',\n",
    "    'w_h2o__3m_ue',\n",
    "    'w_h2o__3m_uw',\n",
    "    'w_h2o__5m_c'\n",
    "])]\n"
   ]
  },
  {
   "cell_type": "code",
   "execution_count": null,
   "metadata": {},
   "outputs": [],
   "source": [
    "alt.Chart(\n",
    "    src[\n",
    "        (src.time >= '2022-12-21 1800') &\n",
    "        (src.time <= '2022-12-21 1800')\n",
    "    ].dropna()\n",
    ").mark_line(point=True).encode(\n",
    "    alt.X(\"value:Q\").sort('-y').scale(domain=[0, 0.06], clamp=True).title(\n",
    "        \"w'q' (g/m^2/s)\"\n",
    "    ),\n",
    "    alt.Y(\"height:Q\"),\n",
    "    alt.Color(\"tower:N\"),\n",
    "    alt.Facet(\"time:T\", columns=6).header(format='%H:%M')\n",
    ").properties(width = 150, height=150)"
   ]
  },
  {
   "cell_type": "code",
   "execution_count": null,
   "metadata": {},
   "outputs": [],
   "source": [
    "alt.Chart(\n",
    "    src[\n",
    "        (src.time >= '2022-12-21 1800') &\n",
    "        (src.time <= '2022-12-21 2200') \n",
    "    ].dropna()\n",
    ").mark_line(point=True).encode(\n",
    "    alt.X(\"value:Q\").sort('-y').scale(domain=[0, 0.06], clamp=True).title(\n",
    "        \"w'q' (g/m^2/s)\"\n",
    "    ),\n",
    "    alt.Y(\"height:Q\"),\n",
    "    alt.Color(\"tower:N\"),\n",
    "    alt.Facet(\"time:T\", columns=6).header(format='%H:%M')\n",
    ").properties(width = 150, height=150)"
   ]
  },
  {
   "cell_type": "code",
   "execution_count": null,
   "metadata": {},
   "outputs": [],
   "source": [
    "alt.Chart(tidy_df.query(\"variable == 'SnowDepth_c'\")).mark_line().encode(\n",
    "    alt.X(\"time:T\").title(None),\n",
    "    alt.Y(\"value:Q\").title(\"Snow depth (m)\")\n",
    ").properties(width = 150, height = 150)"
   ]
  },
  {
   "cell_type": "code",
   "execution_count": null,
   "metadata": {},
   "outputs": [],
   "source": [
    "src_swe = tidy_df[\n",
    "    tidy_df.variable.isin(['SWE_p3_c', 'SWE_p2_c', 'SWE_p1_c', 'SWE_p4_c'])\n",
    "][\n",
    "    (tidy_df.time > \"20221220 2300\") & (tidy_df.time < \"20221223 0100\")\n",
    "]\n",
    "src_swe.value = src_swe.value/1000\n",
    "\n",
    "\n",
    "src_bs = tidy_df[\n",
    "    tidy_df.variable.isin(['SF_avg_1m_ue'])\n",
    "][\n",
    "    (tidy_df.time > \"20221220 2300\") & (tidy_df.time < \"20221223 0100\")\n",
    "]\n",
    "\n",
    "\n",
    "src_lhflux = tidy_df[\n",
    "    tidy_df.variable.isin(['w_h2o__10m_c'])\n",
    "][\n",
    "    (tidy_df.time > \"20221220 2300\") & (tidy_df.time < \"20221223 0100\")\n",
    "]\n",
    "src_lhflux = src_lhflux.set_index('time')\n",
    "src_lhflux.loc[\n",
    "    \"2022-12-22 03:30:00\": \"2022-12-22 07:30:00\",\n",
    "    ['value']\n",
    "] = np.nan\n",
    "src_lhflux.loc[\n",
    "    \"2022-12-21 23:30:00\",\n",
    "    ['value']\n",
    "] = np.nan\n",
    "src_lhflux.value = src_lhflux.value.interpolate(method='cubicspline')"
   ]
  },
  {
   "cell_type": "code",
   "execution_count": null,
   "metadata": {},
   "outputs": [],
   "source": [
    "chart_swe = alt.Chart(\n",
    "    src_swe[(src_swe.time.dt.hour%4==0) & (src_swe.time.dt.minute == 0)]\n",
    "    #[src_swe.variable != 'SWE_p1_c']\n",
    ").mark_line(point=True, strokeWidth=1).encode(\n",
    "    alt.X(\"time:T\").title(None).axis(format='%m/%d', tickCount='day'),\n",
    "    alt.Y(\"value:Q\").title(['SWE (m)', 'from four', 'snow', 'pillows']).scale(domain = [0.00, 0.15]),\n",
    "    alt.Color(\"variable:N\").sort(['SWE_p3_c', 'SWE_p2_c', 'SWE_p4_c', 'SWE_p1_c', ]),\n",
    "    alt.Shape(\"variable:N\").sort(['SWE_p3_c', 'SWE_p2_c', 'SWE_p4_c', 'SWE_p1_c', ])\n",
    ").properties(\n",
    "    width = 150, \n",
    "    height = 75\n",
    ")\n",
    "chart_lhflux = alt.Chart(\n",
    "    src_lhflux.reset_index()\n",
    ").mark_line().encode(\n",
    "    alt.X(\"time:T\").title(None).axis(format='%m/%d', tickCount='day'),\n",
    "    alt.Y(\"value:Q\").title(['Sublimation', '(g m⁻² s⁻¹)', 'from Eddy', 'Covariance'])\n",
    ").properties(\n",
    "    width = 150, \n",
    "    height = 75\n",
    ")\n",
    "chart_bs = alt.Chart(\n",
    "    src_bs.reset_index()\n",
    ").mark_line().encode(\n",
    "    alt.X(\"time:T\").title(None).axis(format='%m/%d', tickCount='day'),\n",
    "    alt.Y(\"value:Q\").title(['Horizontal', 'blowing', 'snow flux', '(g m⁻² s⁻¹)'])\n",
    ").properties(\n",
    "    width = 150, \n",
    "    height = 75\n",
    ")\n",
    "(chart_swe & chart_bs & chart_lhflux).configure_axisY(\n",
    "    titleAngle=0\n",
    ")\n"
   ]
  },
  {
   "cell_type": "markdown",
   "metadata": {},
   "source": [
    "# Calculate how frequently blowing snow occurred"
   ]
  },
  {
   "cell_type": "code",
   "execution_count": null,
   "metadata": {},
   "outputs": [],
   "source": [
    "[v for v in tidy_df.variable.unique() if v.startswith('SF')] "
   ]
  },
  {
   "cell_type": "code",
   "execution_count": null,
   "metadata": {},
   "outputs": [],
   "source": [
    "# calculate blowing snow flux as the sum of the two sensors, \n",
    "blowing_snow_src = tidy_df[\n",
    "    tidy_df.variable.isin(['SF_avg_2m_ue', 'SF_avg_1m_ue'])\n",
    "].pivot(\n",
    "    columns = 'variable',\n",
    "    index = 'time',\n",
    "    values = ['value']\n",
    ")\n",
    "\n",
    "blowing_snow_src.columns = blowing_snow_src.columns.droplevel(0)\n",
    "blowing_snow_src['SF_avg_ue'] = blowing_snow_src['SF_avg_1m_ue'] + blowing_snow_src['SF_avg_2m_ue']"
   ]
  },
  {
   "cell_type": "markdown",
   "metadata": {},
   "source": [
    "# Calculate how much sublimation occurred during blowing snow"
   ]
  },
  {
   "cell_type": "code",
   "execution_count": null,
   "metadata": {},
   "outputs": [],
   "source": [
    "\n",
    "BLOWING_SNOW_FLUX_THRESHOLD = 0.01\n",
    "####################################################################################################\n",
    "#### WHOLE SEASON STATISTICS\n",
    "####################################################################################################\n",
    "print()\n",
    "print(\"Whole Season Statistics\")\n",
    "fraction_time_with_blowing_snow = len( \n",
    "    blowing_snow_src.query(\"SF_avg_ue > 0.1\")\n",
    ") / len(\n",
    "    blowing_snow_src\n",
    ")\n",
    "\n",
    "print(f\"Blowing snow occurred {round(fraction_time_with_blowing_snow*100, 1)}% of the time\")\n",
    "\n",
    "times_with_blowing_snow = blowing_snow_src.query(\"SF_avg_ue > 0.1\").index.values\n",
    "\n",
    "min_lh_fluxes_during_bs = tidy_df.query(\"variable == 'w_h2o__3m_c'\")\n",
    "min_lh_fluxes_during_bs = min_lh_fluxes_during_bs[min_lh_fluxes_during_bs.time.isin(times_with_blowing_snow)]\n",
    "min_lh_fluxes_no_bs = tidy_df.query(\"variable == 'w_h2o__3m_c'\")\n",
    "min_lh_fluxes_no_bs = min_lh_fluxes_no_bs[ ~ min_lh_fluxes_no_bs.time.isin(times_with_blowing_snow)]\n",
    "\n",
    "mm_sublimation_during_bs = (min_lh_fluxes_during_bs['value']*seconds_per_timestep / metpy.constants.density_water.magnitude).sum()\n",
    "mm_sublimation_no_bs = (min_lh_fluxes_no_bs['value']*seconds_per_timestep / metpy.constants.density_water.magnitude).sum()\n",
    "mm_sublimation_total = (mm_sublimation_during_bs + mm_sublimation_no_bs)\n",
    "\n",
    "print(\"total sublimaton at 3m_c\")\n",
    "print(mm_sublimation_total)\n",
    "print(\"during bs sublimaton at 3m_c, not during bs\")\n",
    "print(mm_sublimation_during_bs, mm_sublimation_no_bs)\n",
    "print(\"respective percentages\")\n",
    "print(\n",
    "    round(100*mm_sublimation_during_bs/mm_sublimation_total, 1), \n",
    "    round(100*mm_sublimation_no_bs/mm_sublimation_total, 1)\n",
    ")\n",
    "\n",
    "\n",
    "####################################################################################################\n",
    "#### Pre-Spring Equinox Statistics\n",
    "####################################################################################################\n",
    "print()\n",
    "print(\"Pre-Spring Equinox Statistics\")\n",
    "\n",
    "fraction_time_with_blowing_snow = len( \n",
    "    blowing_snow_src[: \"20230320\"].query(\"SF_avg_ue > 0.1\")\n",
    ") / len(\n",
    "    blowing_snow_src[: \"20230320\"]\n",
    ")\n",
    "\n",
    "print(f\"Blowing snow occurred {round(fraction_time_with_blowing_snow*100, 1)}% of the time\")\n",
    "\n",
    "times_with_blowing_snow = blowing_snow_src[: \"20230320\"].query(\"SF_avg_ue > 0.1\").index.values\n",
    "\n",
    "min_lh_fluxes_during_bs = tidy_df[tidy_df.time < \"20230320\"].query(\"variable == 'w_h2o__3m_c'\")\n",
    "min_lh_fluxes_during_bs = min_lh_fluxes_during_bs[min_lh_fluxes_during_bs.time.isin(times_with_blowing_snow)]\n",
    "min_lh_fluxes_no_bs = tidy_df[tidy_df.time < \"20230320\"].query(\"variable == 'w_h2o__3m_c'\")\n",
    "min_lh_fluxes_no_bs = min_lh_fluxes_no_bs[ ~ min_lh_fluxes_no_bs.time.isin(times_with_blowing_snow)]\n",
    "\n",
    "mm_sublimation_during_bs = (min_lh_fluxes_during_bs['value']*seconds_per_timestep / metpy.constants.density_water.magnitude).sum()\n",
    "mm_sublimation_no_bs = (min_lh_fluxes_no_bs['value']*seconds_per_timestep / metpy.constants.density_water.magnitude).sum()\n",
    "mm_sublimation_total = (mm_sublimation_during_bs + mm_sublimation_no_bs)\n",
    "\n",
    "print(\"total sublimaton at 3m_c\")\n",
    "print(mm_sublimation_total)\n",
    "print(\"during bs sublimaton at 3m_c, not during bs\")\n",
    "print(mm_sublimation_during_bs, mm_sublimation_no_bs)\n",
    "print(\"respective percentages\")\n",
    "print(\n",
    "    round(100*mm_sublimation_during_bs/mm_sublimation_total, 1), \n",
    "    round(100*mm_sublimation_no_bs/mm_sublimation_total, 1)\n",
    ")\n",
    "\n",
    "\n",
    "####################################################################################################\n",
    "#### Post-Spring Equinox Statistics\n",
    "####################################################################################################\n",
    "print()\n",
    "print(\"Post-Spring Equinox Statistics\")\n",
    "\n",
    "fraction_time_with_blowing_snow = len( \n",
    "    blowing_snow_src[\"20230320\": ].query(\"SF_avg_ue > 0.1\")\n",
    ") / len(\n",
    "    blowing_snow_src[\"20230320\": ]\n",
    ")\n",
    "\n",
    "print(f\"Blowing snow occurred {round(fraction_time_with_blowing_snow*100, 1)}% of the time\")\n",
    "\n",
    "times_with_blowing_snow = blowing_snow_src[\"20230320\": ].query(\"SF_avg_ue > 0.1\").index.values\n",
    "\n",
    "min_lh_fluxes_during_bs = tidy_df[tidy_df.time >= \"20230320\"].query(\"variable == 'w_h2o__3m_c'\")\n",
    "min_lh_fluxes_during_bs = min_lh_fluxes_during_bs[min_lh_fluxes_during_bs.time.isin(times_with_blowing_snow)]\n",
    "min_lh_fluxes_no_bs = tidy_df[tidy_df.time >= \"20230320\"].query(\"variable == 'w_h2o__3m_c'\")\n",
    "min_lh_fluxes_no_bs = min_lh_fluxes_no_bs[ ~ min_lh_fluxes_no_bs.time.isin(times_with_blowing_snow)]\n",
    "\n",
    "mm_sublimation_during_bs = (min_lh_fluxes_during_bs['value']*seconds_per_timestep / metpy.constants.density_water.magnitude).sum()\n",
    "mm_sublimation_no_bs = (min_lh_fluxes_no_bs['value']*seconds_per_timestep / metpy.constants.density_water.magnitude).sum()\n",
    "mm_sublimation_total = (mm_sublimation_during_bs + mm_sublimation_no_bs)\n",
    "\n",
    "print(\"total sublimaton at 3m_c\")\n",
    "print(mm_sublimation_total)\n",
    "print(\"during bs sublimaton at 3m_c, not during bs\")\n",
    "print(mm_sublimation_during_bs, mm_sublimation_no_bs)\n",
    "print(\"respective percentages\")\n",
    "print(\n",
    "    round(100*mm_sublimation_during_bs/mm_sublimation_total, 1), \n",
    "    round(100*mm_sublimation_no_bs/mm_sublimation_total, 1)\n",
    ")\n"
   ]
  },
  {
   "cell_type": "code",
   "execution_count": null,
   "metadata": {},
   "outputs": [],
   "source": []
  },
  {
   "cell_type": "code",
   "execution_count": null,
   "metadata": {},
   "outputs": [],
   "source": []
  },
  {
   "cell_type": "code",
   "execution_count": null,
   "metadata": {},
   "outputs": [],
   "source": []
  },
  {
   "cell_type": "markdown",
   "metadata": {},
   "source": [
    "# Calculate how frequently different stability regimes occurred"
   ]
  },
  {
   "cell_type": "markdown",
   "metadata": {},
   "source": [
    "## Using static stability, $\\frac{d\\theta_v}{dz}$ at 3m "
   ]
  },
  {
   "cell_type": "code",
   "execution_count": null,
   "metadata": {},
   "outputs": [],
   "source": [
    "def temp_gradient_to_stability_regime(x, threshold = 0.01):\n",
    "    if np.isnan(x):\n",
    "        return None\n",
    "    elif x < -threshold:\n",
    "        return \"unstable\"\n",
    "    elif x >= -threshold and x <= threshold:\n",
    "        return \"neutral\"\n",
    "    elif x > threshold:\n",
    "        return \"stable\"\n",
    "    else:\n",
    "        raise ValueError(\"what?\")"
   ]
  },
  {
   "cell_type": "code",
   "execution_count": null,
   "metadata": {},
   "outputs": [],
   "source": [
    "# calculate blowing snow flux as the sum of the two sensors, \n",
    "stab_regimes_src = tidy_df[\n",
    "    tidy_df.variable == 'temp_gradient_3m_c'\n",
    "].pivot(\n",
    "    columns = 'variable',\n",
    "    index = 'time',\n",
    "    values = ['value']\n",
    ")\n",
    "\n",
    "stab_regimes_src.columns = stab_regimes_src.columns.droplevel(0)\n",
    "stab_regimes_src['stab_regime_3m_c'] = stab_regimes_src['temp_gradient_3m_c'].apply(lambda v: temp_gradient_to_stability_regime(v, 0.01))\n",
    "print(stab_regimes_src['stab_regime_3m_c'].value_counts()/len(stab_regimes_src['stab_regime_3m_c'].dropna()))"
   ]
  },
  {
   "cell_type": "markdown",
   "metadata": {},
   "source": [
    "## Using dynamic stability, $Ri$"
   ]
  },
  {
   "cell_type": "code",
   "execution_count": null,
   "metadata": {},
   "outputs": [],
   "source": [
    "def ri_to_stability_regime(x, unstable_threshold = -0.01, stable_threshold=0.25):\n",
    "    if np.isnan(x):\n",
    "        return None\n",
    "    elif x < unstable_threshold:\n",
    "        return \"unstable\"\n",
    "    elif x >= unstable_threshold and x <= stable_threshold:\n",
    "        return \"neutral\"\n",
    "    elif x > stable_threshold:\n",
    "        return \"stable\"\n",
    "    else:\n",
    "        raise ValueError(\"what?\")"
   ]
  },
  {
   "cell_type": "code",
   "execution_count": null,
   "metadata": {},
   "outputs": [],
   "source": [
    "# calculate blowing snow flux as the sum of the two sensors, \n",
    "dynamicstab_regimes_src = tidy_df[\n",
    "    tidy_df.variable == 'Ri_3m_c'\n",
    "].pivot(\n",
    "    columns = 'variable',\n",
    "    index = 'time',\n",
    "    values = ['value']\n",
    ")\n",
    "\n",
    "dynamicstab_regimes_src.columns = dynamicstab_regimes_src.columns.droplevel(0)\n",
    "dynamicstab_regimes_src['stab_regime_3m_c'] = dynamicstab_regimes_src['Ri_3m_c'].apply(lambda v: ri_to_stability_regime(v, 0.01))\n",
    "print(dynamicstab_regimes_src['stab_regime_3m_c'].value_counts()/len(dynamicstab_regimes_src['stab_regime_3m_c'].dropna()))"
   ]
  },
  {
   "cell_type": "markdown",
   "metadata": {},
   "source": [
    "## Using coupling parameter, $\\Omega$"
   ]
  },
  {
   "cell_type": "code",
   "execution_count": null,
   "metadata": {},
   "outputs": [],
   "source": [
    "def omega_to_coupling_regime(x, weakly_coupled_threshold = 0.43, strongly_coupled_threshold=0.61):\n",
    "    if np.isnan(x):\n",
    "        return None\n",
    "    elif x < weakly_coupled_threshold:\n",
    "        return \"uncoupled\"\n",
    "    elif x >= weakly_coupled_threshold and x <= strongly_coupled_threshold:\n",
    "        return \"weakly coupled\"\n",
    "    elif x > strongly_coupled_threshold:\n",
    "        return \"strongly coupled\"\n",
    "    else:\n",
    "        raise ValueError(\"what?\")"
   ]
  },
  {
   "cell_type": "code",
   "execution_count": null,
   "metadata": {},
   "outputs": [],
   "source": [
    "# calculate blowing snow flux as the sum of the two sensors, \n",
    "coupling_regimes_src = tidy_df[\n",
    "    tidy_df.variable == 'omega_3m_c'\n",
    "].pivot(\n",
    "    columns = 'variable',\n",
    "    index = 'time',\n",
    "    values = ['value']\n",
    ")\n",
    "\n",
    "coupling_regimes_src.columns = coupling_regimes_src.columns.droplevel(0)\n",
    "coupling_regimes_src['omega_regime_3m_c'] = coupling_regimes_src['omega_3m_c'].apply(lambda v: omega_to_coupling_regime(v))\n",
    "print(coupling_regimes_src['omega_regime_3m_c'].value_counts()/len(coupling_regimes_src['omega_regime_3m_c'].dropna()))"
   ]
  },
  {
   "cell_type": "markdown",
   "metadata": {},
   "source": [
    "# Calculate how much sublimation occured during different stability regimes"
   ]
  },
  {
   "cell_type": "markdown",
   "metadata": {},
   "source": [
    "## static stability"
   ]
  },
  {
   "cell_type": "code",
   "execution_count": null,
   "metadata": {},
   "outputs": [],
   "source": [
    "times_w_stable = stab_regimes_src.query(\"stab_regime_3m_c == 'stable'\").index.values\n",
    "times_w_unstable = stab_regimes_src.query(\"stab_regime_3m_c == 'unstable'\").index.values\n",
    "times_w_neutral = stab_regimes_src.query(\"stab_regime_3m_c == 'neutral'\").index.values\n",
    "\n",
    "lhfluxes = tidy_df.query(\"variable == 'w_h2o__3m_c'\")\n",
    "\n",
    "lhdluxes_stable = lhfluxes[lhfluxes.time.isin(times_w_stable)]\n",
    "lhdluxes_unstable = lhfluxes[lhfluxes.time.isin(times_w_unstable)]\n",
    "lhdluxes_neutral = lhfluxes[lhfluxes.time.isin(times_w_neutral)]"
   ]
  },
  {
   "cell_type": "code",
   "execution_count": null,
   "metadata": {},
   "outputs": [],
   "source": [
    "mm_sublimation_stable = (lhdluxes_stable['value']*seconds_per_timestep / metpy.constants.density_water.magnitude).sum()\n",
    "mm_sublimation_unstable = (lhdluxes_unstable['value']*seconds_per_timestep / metpy.constants.density_water.magnitude).sum()\n",
    "mm_sublimation_neutral = (lhdluxes_neutral['value']*seconds_per_timestep / metpy.constants.density_water.magnitude).sum()\n",
    "mm_sublimation_total = mm_sublimation_stable + mm_sublimation_unstable + mm_sublimation_neutral\n",
    "print('stable', 'neutral', 'unstable')\n",
    "print(mm_sublimation_stable, mm_sublimation_neutral, mm_sublimation_unstable)\n",
    "print(\n",
    "    mm_sublimation_stable/mm_sublimation_total, \n",
    "    mm_sublimation_neutral/mm_sublimation_total,\n",
    "    mm_sublimation_unstable/mm_sublimation_total, \n",
    ")\n",
    "print(mm_sublimation_total)"
   ]
  },
  {
   "cell_type": "markdown",
   "metadata": {},
   "source": [
    "# dynamic stability"
   ]
  },
  {
   "cell_type": "code",
   "execution_count": null,
   "metadata": {},
   "outputs": [],
   "source": [
    "times_w_stable = dynamicstab_regimes_src.query(\"stab_regime_3m_c == 'stable'\").index.values\n",
    "times_w_unstable = dynamicstab_regimes_src.query(\"stab_regime_3m_c == 'unstable'\").index.values\n",
    "times_w_neutral = dynamicstab_regimes_src.query(\"stab_regime_3m_c == 'neutral'\").index.values\n",
    "\n",
    "lhfluxes = tidy_df.query(\"variable == 'w_h2o__3m_c'\")\n",
    "\n",
    "lhdluxes_stable = lhfluxes[lhfluxes.time.isin(times_w_stable)]\n",
    "lhdluxes_unstable = lhfluxes[lhfluxes.time.isin(times_w_unstable)]\n",
    "lhdluxes_neutral = lhfluxes[lhfluxes.time.isin(times_w_neutral)]"
   ]
  },
  {
   "cell_type": "code",
   "execution_count": null,
   "metadata": {},
   "outputs": [],
   "source": [
    "mm_sublimation_stable = (lhdluxes_stable['value']*seconds_per_timestep / metpy.constants.density_water.magnitude).sum()\n",
    "mm_sublimation_unstable = (lhdluxes_unstable['value']*seconds_per_timestep / metpy.constants.density_water.magnitude).sum()\n",
    "mm_sublimation_neutral = (lhdluxes_neutral['value']*seconds_per_timestep / metpy.constants.density_water.magnitude).sum()\n",
    "mm_sublimation_total = mm_sublimation_stable + mm_sublimation_unstable + mm_sublimation_neutral\n",
    "print('stable', 'neutral', 'unstable')\n",
    "print(mm_sublimation_stable, mm_sublimation_neutral, mm_sublimation_unstable)\n",
    "print(\n",
    "    mm_sublimation_stable/mm_sublimation_total, \n",
    "    mm_sublimation_neutral/mm_sublimation_total,\n",
    "    mm_sublimation_unstable/mm_sublimation_total, \n",
    ")\n",
    "print(mm_sublimation_total)"
   ]
  },
  {
   "cell_type": "markdown",
   "metadata": {},
   "source": [
    "# Coupling parameter"
   ]
  },
  {
   "cell_type": "code",
   "execution_count": null,
   "metadata": {},
   "outputs": [],
   "source": [
    "times_decoupled = coupling_regimes_src.query(\"omega_regime_3m_c == 'uncoupled'\").index.values\n",
    "times_weaklycoupled = coupling_regimes_src.query(\"omega_regime_3m_c == 'weakly coupled'\").index.values\n",
    "times_coupled = coupling_regimes_src.query(\"omega_regime_3m_c == 'strongly coupled'\").index.values\n",
    "\n",
    "lhdluxes_decoupled = lhfluxes[lhfluxes.time.isin(times_decoupled)]\n",
    "lhdluxes_weaklycoupled = lhfluxes[lhfluxes.time.isin(times_weaklycoupled)]\n",
    "lhdluxes_coupled = lhfluxes[lhfluxes.time.isin(times_coupled)]"
   ]
  },
  {
   "cell_type": "code",
   "execution_count": null,
   "metadata": {},
   "outputs": [],
   "source": [
    "mm_sublimation_decoupled = (lhdluxes_decoupled['value']*seconds_per_timestep / metpy.constants.density_water.magnitude).sum()\n",
    "mm_sublimation_weaklycoupled = (lhdluxes_weaklycoupled['value']*seconds_per_timestep / metpy.constants.density_water.magnitude).sum()\n",
    "mm_sublimation_coupled = (lhdluxes_coupled['value']*seconds_per_timestep / metpy.constants.density_water.magnitude).sum()\n",
    "\n",
    "mm_sublimation_total = mm_sublimation_decoupled + mm_sublimation_weaklycoupled + mm_sublimation_coupled\n",
    "print('uncoupled', 'weakly coupled', 'strongly coupled')\n",
    "print(\n",
    "    mm_sublimation_decoupled, mm_sublimation_weaklycoupled, mm_sublimation_coupled\n",
    ")\n",
    "print(\n",
    "    mm_sublimation_decoupled/mm_sublimation_total, \n",
    "    mm_sublimation_weaklycoupled/mm_sublimation_total,\n",
    "    mm_sublimation_coupled/mm_sublimation_total, \n",
    ")\n",
    "print(mm_sublimation_total)"
   ]
  },
  {
   "cell_type": "code",
   "execution_count": null,
   "metadata": {},
   "outputs": [],
   "source": [
    "static\n",
    "stable neutral unstable\n",
    "30.0130214793065 3.8164881851337578 2.34608864842682\n",
    "0.8296482402236137 0.10549896513463593 0.0648527946417504\n",
    "36.17559831286707\n",
    "\n",
    "dynamic\n",
    "stable neutral unstable\n",
    "4.463500869073066 20.722328462239695 10.550510629803817\n",
    "0.12490089566893645 0.5798671180313069 0.2952319862997567\n",
    "35.73633996111658\n",
    "\n",
    "coupling\n",
    "uncoupled weakly coupled strongly coupled\n",
    "-0.8071439238296523 0.38557088660657446 29.636504509509173\n",
    "-0.027627787680944114 0.013197733733256748 1.0144300539476874\n",
    "29.214931472286096"
   ]
  }
 ],
 "metadata": {
  "kernelspec": {
   "display_name": "arm",
   "language": "python",
   "name": "python3"
  },
  "language_info": {
   "codemirror_mode": {
    "name": "ipython",
    "version": 3
   },
   "file_extension": ".py",
   "mimetype": "text/x-python",
   "name": "python",
   "nbconvert_exporter": "python",
   "pygments_lexer": "ipython3",
   "version": "3.12.5"
  }
 },
 "nbformat": 4,
 "nbformat_minor": 2
}
