{
 "cells": [
  {
   "cell_type": "code",
   "execution_count": 130,
   "metadata": {},
   "outputs": [],
   "source": [
    "import numpy as np\n",
    "import pandas as pd\n",
    "import matplotlib.pyplot as plt\n",
    "import altair as alt\n",
    "alt.data_transformers.enable('json')\n",
    "alt.renderers.enable('jupyterlab')\n",
    "from sublimpy import tidy, utils\n",
    "import pytz\n",
    "import datetime as dt\n",
    "\n",
    "seconds_in_timestep = 60*30\n",
    "from metpy.constants import density_water\n",
    "\n",
    "from metpy.units import units\n",
    "import pint_pandas\n",
    "from metpy import constants"
   ]
  },
  {
   "cell_type": "markdown",
   "metadata": {},
   "source": [
    "# Open SOS Measurement Dataset, extract measurements"
   ]
  },
  {
   "cell_type": "code",
   "execution_count": 131,
   "metadata": {},
   "outputs": [],
   "source": [
    "start_date = '20221130'\n",
    "end_date = '20230509'\n",
    "# open files\n",
    "# tidy_df = pd.read_parquet(f'tidy_df_{start_date}_{end_date}_noplanar_fit_clean.parquet')\n",
    "tidy_df = pd.read_parquet(f'tidy_df_{start_date}_{end_date}_noplanar_fit.parquet')\n",
    "# tidy_df = pd.read_parquet(f'tidy_df_{start_date}_{end_date}_planar_fit.parquet')\n",
    "# convert time column to datetime\n",
    "tidy_df['time'] = pd.to_datetime(tidy_df['time'])\n",
    "tidy_df = utils.modify_df_timezone(tidy_df, pytz.UTC, 'US/Mountain')\n",
    "# limit data to our dates of interest, based on continuous snow cover at Kettle Ponds\n",
    "tidy_df = tidy_df.set_index('time').sort_index().loc[start_date:end_date].reset_index()\n",
    "\n",
    "## Add combined blowing snow flux variable\n",
    "tidy_df = tidy.tidy_df_add_variable(\n",
    "    tidy_df,\n",
    "    (\n",
    "        tidy_df.query(\"variable == 'SF_avg_1m_ue'\")['value'].values + \n",
    "        tidy_df.query(\"variable == 'SF_avg_2m_ue'\")['value'].values\n",
    "    ), \n",
    "    'SF_avg_ue',\n",
    "    'snow flux',\n",
    "    1,\n",
    "    'ue',\n",
    ")"
   ]
  },
  {
   "cell_type": "code",
   "execution_count": 132,
   "metadata": {},
   "outputs": [],
   "source": [
    "vars = [\n",
    "    'dir_3m_ue', 'u_h2o__3m_ue', 'v_h2o__3m_ue', 'w_h2o__3m_ue',     'u_3m_ue',  'v_3m_ue',  'w_3m_ue', \n",
    "    'dir_10m_ue', 'u_h2o__10m_ue','v_h2o__10m_ue', 'w_h2o__10m_ue',   'u_10m_ue',  'v_10m_ue', 'w_10m_ue',\n",
    "    \n",
    "    'dir_3m_uw', 'u_h2o__3m_uw', 'v_h2o__3m_uw', 'w_h2o__3m_uw',     'u_3m_uw',  'v_3m_uw',  'w_3m_uw', \n",
    "    'dir_10m_uw', 'u_h2o__10m_uw','v_h2o__10m_uw', 'w_h2o__10m_uw',   'u_10m_uw',  'v_10m_uw', 'w_10m_uw',\n",
    "\n",
    "    'dir_3m_d', 'u_h2o__3m_d', 'v_h2o__3m_d', 'w_h2o__3m_d',        'u_3m_d',   'v_3m_d',   'w_3m_d',  \n",
    "    'dir_10m_d', 'u_h2o__10m_d','v_h2o__10m_d', 'w_h2o__10m_d',      'u_10m_d',  'v_10m_d',  'w_10m_d', \n",
    "\n",
    "    'dir_2m_c', 'u_h2o__2m_c', 'v_h2o__2m_c', 'w_h2o__2m_c',        'u_2m_c',   'v_2m_c',   'w_2m_c',   'specifichumidity_2m_c',    'airdensity_2m_c',\n",
    "    'dir_3m_c', 'u_h2o__3m_c', 'v_h2o__3m_c', 'w_h2o__3m_c',        'u_3m_c',   'v_3m_c',   'w_3m_c',   'specifichumidity_3m_c',    'airdensity_3m_c',\n",
    "    'dir_5m_c', 'u_h2o__5m_c', 'v_h2o__5m_c', 'w_h2o__5m_c',        'u_5m_c',   'v_5m_c',   'w_5m_c',   'specifichumidity_5m_c',    'airdensity_5m_c',\n",
    "    'dir_10m_c', 'u_h2o__10m_c','v_h2o__10m_c', 'w_h2o__10m_c',      'u_10m_c',  'v_10m_c',  'w_10m_c',  'specifichumidity_10m_c',   'airdensity_10m_c',\n",
    "    'dir_15m_c', 'u_h2o__15m_c', 'v_h2o__15m_c', 'w_h2o__15m_c',     'u_15m_c',  'v_15m_c',  'w_15m_c',  'specifichumidity_15m_c',   'airdensity_15m_c',\n",
    "    'dir_20m_c', 'u_h2o__20m_c', 'v_h2o__20m_c', 'w_h2o__20m_c',     'u_20m_c',  'v_20m_c',  'w_20m_c',  'specifichumidity_20m_c',   'airdensity_20m_c',\n",
    "\n",
    "    'T_1m_c', 'T_2m_c', 'T_3m_c', 'T_4m_c', 'T_5m_c', 'T_6m_c', 'T_7m_c', 'T_8m_c', 'T_9m_c', 'T_10m_c', \n",
    "    'T_11m_c', 'T_12m_c', 'T_13m_c', 'T_14m_c', 'T_15m_c', 'T_16m_c', 'T_17m_c', 'T_18m_c', 'T_19m_c', 'T_20m_c',\n",
    "\n",
    "    'Rsw_in_9m_d', 'Rnet_9m_d',\n",
    "\n",
    "    'SF_avg_ue',\n",
    "\n",
    "    'Ri_3m_c',\n",
    "\n",
    "    'L_3m_c',\n",
    "]\n",
    "\n",
    "pivot_df = tidy_df[tidy_df.variable.isin(vars)][\n",
    "    ['time', 'variable', 'value']\n",
    "].pivot_table(index='time', columns='variable', values='value')\n",
    "\n",
    "assert len(vars) == len(pivot_df.columns.unique())"
   ]
  },
  {
   "cell_type": "code",
   "execution_count": 133,
   "metadata": {},
   "outputs": [],
   "source": [
    "# Identify lists of timestamps for different categories\n",
    "bs_times = tidy_df.query(\"variable == 'SF_avg_ue'\").query(\"value > 0\").time\n",
    "nobs_times = tidy_df.query(\"variable == 'SF_avg_ue'\").query(\"value == 0\").time\n",
    "\n",
    "decoupled_times = tidy_df.query(\"variable == 'omega_3m_c'\").query(\"value < 0.43\").time\n",
    "weaklycoupled_times = tidy_df.query(\"variable == 'omega_3m_c'\").query(\"value >= 0.43\").query(\"value <= 0.61\").time\n",
    "coupled_times = tidy_df.query(\"variable == 'omega_3m_c'\").query(\"value > 0.61\").time\n",
    "\n",
    "ri_stable_times = tidy_df.query(\"variable == 'Ri_3m_c'\").query(\"value > 0.25\").time\n",
    "ri_unstable_times = tidy_df.query(\"variable == 'Ri_3m_c'\").query(\"value < -0.01\").time\n",
    "ri_neutral_times = tidy_df.query(\"variable == 'Ri_3m_c'\").query(\"value >= -0.01\").query(\"value <= 0.25\").time\n",
    "\n",
    "tgrad_stable_times = tidy_df.query(\"variable == 'temp_gradient_3m_c'\").query(\"value > 0.01\").time\n",
    "tgrad_unstable_times = tidy_df.query(\"variable == 'temp_gradient_3m_c'\").query(\"value < -0.01\").time\n",
    "tgrad_neutral_times = tidy_df.query(\"variable == 'temp_gradient_3m_c'\").query(\"value >= -0.01\").query(\"value <= 0.01\").time"
   ]
  },
  {
   "cell_type": "markdown",
   "metadata": {},
   "source": [
    "# Calculate 3D divergence"
   ]
  },
  {
   "cell_type": "markdown",
   "metadata": {},
   "source": [
    "## Define area of the triangular prism faces"
   ]
  },
  {
   "cell_type": "code",
   "execution_count": 134,
   "metadata": {},
   "outputs": [
    {
     "data": {
      "text/plain": [
       "(259 <Unit('meter ** 2')>,\n",
       " 259 <Unit('meter ** 2')>,\n",
       " 259 <Unit('meter ** 2')>,\n",
       " 580.2 <Unit('meter ** 2')>,\n",
       " 580.2 <Unit('meter ** 2')>,\n",
       " 4061.4000000000005 <Unit('meter ** 3')>)"
      ]
     },
     "execution_count": 134,
     "metadata": {},
     "output_type": "execute_result"
    }
   ],
   "source": [
    "# Define face areas\n",
    "A1 = A2 = A3 = 37 * 7 * units('m^2')\n",
    "A4 = A5 = 580.2 * units('m^2')\n",
    "VOLUME = A4*7*units('m')\n",
    "A1, A2, A3, A4, A5, VOLUME"
   ]
  },
  {
   "cell_type": "markdown",
   "metadata": {},
   "source": [
    "## Define normal vectors to the triangular prism faces"
   ]
  },
  {
   "cell_type": "code",
   "execution_count": 135,
   "metadata": {},
   "outputs": [],
   "source": [
    "# ELI'S angles\n",
    "n1 = np.array([ np.cos(np.deg2rad(258.7)),   np.sin(np.deg2rad(258.7))])*units(None)\n",
    "n2 = np.array([ np.cos(np.deg2rad(20.1)),   np.sin(np.deg2rad(20.1))])*units(None)\n",
    "n3 = np.array([ np.cos(np.deg2rad(139.26)),   np.sin(np.deg2rad(139.26))])*units(None)\n",
    "\n",
    "# DANNY'S angles\n",
    "# n1 = np.array([ np.cos(np.deg2rad(269.5)),   np.sin(np.deg2rad(269.5))])*units(None)\n",
    "# n2 = np.array([ np.cos(np.deg2rad(19.5)),   np.sin(np.deg2rad(19.5))])*units(None)\n",
    "# n3 = np.array([ np.cos(np.deg2rad(143.5)),   np.sin(np.deg2rad(143.5))])*units(None)"
   ]
  },
  {
   "cell_type": "markdown",
   "metadata": {},
   "source": [
    "## Calculate prism-face normal vectors from instrument GPS data"
   ]
  },
  {
   "cell_type": "code",
   "execution_count": 136,
   "metadata": {},
   "outputs": [
    {
     "name": "stderr",
     "output_type": "stream",
     "text": [
      "/var/folders/x_/2h52bcjx2px15bhmdpdd748h0000gn/T/ipykernel_19951/3668931392.py:21: FutureWarning: DataFrame.groupby with axis=1 is deprecated. Do `frame.T.groupby(...)` without axis instead.\n",
      "  instrument_loc_df = instrument_loc_df.set_index(['height', 'tower']).groupby(level=0, axis=1).mean()\n"
     ]
    },
    {
     "data": {
      "text/html": [
       "<div>\n",
       "<style scoped>\n",
       "    .dataframe tbody tr th:only-of-type {\n",
       "        vertical-align: middle;\n",
       "    }\n",
       "\n",
       "    .dataframe tbody tr th {\n",
       "        vertical-align: top;\n",
       "    }\n",
       "\n",
       "    .dataframe thead th {\n",
       "        text-align: right;\n",
       "    }\n",
       "</style>\n",
       "<table border=\"1\" class=\"dataframe\">\n",
       "  <thead>\n",
       "    <tr style=\"text-align: right;\">\n",
       "      <th></th>\n",
       "      <th></th>\n",
       "      <th>x</th>\n",
       "      <th>y</th>\n",
       "      <th>z</th>\n",
       "    </tr>\n",
       "    <tr>\n",
       "      <th>height</th>\n",
       "      <th>tower</th>\n",
       "      <th></th>\n",
       "      <th></th>\n",
       "      <th></th>\n",
       "    </tr>\n",
       "  </thead>\n",
       "  <tbody>\n",
       "    <tr>\n",
       "      <th rowspan=\"4\" valign=\"top\">1</th>\n",
       "      <th>c</th>\n",
       "      <td>329002.47110</td>\n",
       "      <td>4.312171e+06</td>\n",
       "      <td>2861.36010</td>\n",
       "    </tr>\n",
       "    <tr>\n",
       "      <th>d</th>\n",
       "      <td>329016.77615</td>\n",
       "      <td>4.312158e+06</td>\n",
       "      <td>2860.09135</td>\n",
       "    </tr>\n",
       "    <tr>\n",
       "      <th>ue</th>\n",
       "      <td>329005.76010</td>\n",
       "      <td>4.312190e+06</td>\n",
       "      <td>2862.19275</td>\n",
       "    </tr>\n",
       "    <tr>\n",
       "      <th>uw</th>\n",
       "      <td>328983.46715</td>\n",
       "      <td>4.312165e+06</td>\n",
       "      <td>2860.54055</td>\n",
       "    </tr>\n",
       "    <tr>\n",
       "      <th>2</th>\n",
       "      <th>c</th>\n",
       "      <td>329002.49025</td>\n",
       "      <td>4.312171e+06</td>\n",
       "      <td>2862.28475</td>\n",
       "    </tr>\n",
       "    <tr>\n",
       "      <th rowspan=\"4\" valign=\"top\">3</th>\n",
       "      <th>c</th>\n",
       "      <td>329002.53920</td>\n",
       "      <td>4.312171e+06</td>\n",
       "      <td>2863.30060</td>\n",
       "    </tr>\n",
       "    <tr>\n",
       "      <th>d</th>\n",
       "      <td>329016.82015</td>\n",
       "      <td>4.312158e+06</td>\n",
       "      <td>2862.02455</td>\n",
       "    </tr>\n",
       "    <tr>\n",
       "      <th>ue</th>\n",
       "      <td>329005.80410</td>\n",
       "      <td>4.312190e+06</td>\n",
       "      <td>2864.12270</td>\n",
       "    </tr>\n",
       "    <tr>\n",
       "      <th>uw</th>\n",
       "      <td>328983.52075</td>\n",
       "      <td>4.312165e+06</td>\n",
       "      <td>2862.50290</td>\n",
       "    </tr>\n",
       "    <tr>\n",
       "      <th>5</th>\n",
       "      <th>c</th>\n",
       "      <td>329002.53790</td>\n",
       "      <td>4.312171e+06</td>\n",
       "      <td>2865.33380</td>\n",
       "    </tr>\n",
       "    <tr>\n",
       "      <th rowspan=\"4\" valign=\"top\">10</th>\n",
       "      <th>c</th>\n",
       "      <td>329002.65185</td>\n",
       "      <td>4.312171e+06</td>\n",
       "      <td>2870.36580</td>\n",
       "    </tr>\n",
       "    <tr>\n",
       "      <th>d</th>\n",
       "      <td>329016.90980</td>\n",
       "      <td>4.312158e+06</td>\n",
       "      <td>2868.59560</td>\n",
       "    </tr>\n",
       "    <tr>\n",
       "      <th>ue</th>\n",
       "      <td>329005.87765</td>\n",
       "      <td>4.312190e+06</td>\n",
       "      <td>2870.70875</td>\n",
       "    </tr>\n",
       "    <tr>\n",
       "      <th>uw</th>\n",
       "      <td>328983.59905</td>\n",
       "      <td>4.312165e+06</td>\n",
       "      <td>2869.09490</td>\n",
       "    </tr>\n",
       "    <tr>\n",
       "      <th>15</th>\n",
       "      <th>c</th>\n",
       "      <td>329002.72120</td>\n",
       "      <td>4.312171e+06</td>\n",
       "      <td>2875.37755</td>\n",
       "    </tr>\n",
       "    <tr>\n",
       "      <th>20</th>\n",
       "      <th>c</th>\n",
       "      <td>329002.80045</td>\n",
       "      <td>4.312171e+06</td>\n",
       "      <td>2880.25445</td>\n",
       "    </tr>\n",
       "  </tbody>\n",
       "</table>\n",
       "</div>"
      ],
      "text/plain": [
       "                         x             y           z\n",
       "height tower                                        \n",
       "1      c      329002.47110  4.312171e+06  2861.36010\n",
       "       d      329016.77615  4.312158e+06  2860.09135\n",
       "       ue     329005.76010  4.312190e+06  2862.19275\n",
       "       uw     328983.46715  4.312165e+06  2860.54055\n",
       "2      c      329002.49025  4.312171e+06  2862.28475\n",
       "3      c      329002.53920  4.312171e+06  2863.30060\n",
       "       d      329016.82015  4.312158e+06  2862.02455\n",
       "       ue     329005.80410  4.312190e+06  2864.12270\n",
       "       uw     328983.52075  4.312165e+06  2862.50290\n",
       "5      c      329002.53790  4.312171e+06  2865.33380\n",
       "10     c      329002.65185  4.312171e+06  2870.36580\n",
       "       d      329016.90980  4.312158e+06  2868.59560\n",
       "       ue     329005.87765  4.312190e+06  2870.70875\n",
       "       uw     328983.59905  4.312165e+06  2869.09490\n",
       "15     c      329002.72120  4.312171e+06  2875.37755\n",
       "20     c      329002.80045  4.312171e+06  2880.25445"
      ]
     },
     "execution_count": 136,
     "metadata": {},
     "output_type": "execute_result"
    }
   ],
   "source": [
    "instrument_loc_df = pd.read_csv(\"~/Development/data/sublimationofsnow/SOSm.txt\", names = ['ec', 'x', 'y', 'z'])\n",
    "instrument_loc_df = instrument_loc_df[ \n",
    "    instrument_loc_df['ec'].str.startswith('CS')\n",
    "    |\n",
    "    instrument_loc_df['ec'].str.startswith('DS') \n",
    "    |\n",
    "    instrument_loc_df['ec'].str.startswith('UWS') \n",
    "    |\n",
    "    instrument_loc_df['ec'].str.startswith('UES') \n",
    "]\n",
    "instrument_loc_df = instrument_loc_df[ \n",
    "    instrument_loc_df['ec'].str.endswith('T') \n",
    "    |\n",
    "    instrument_loc_df['ec'].str.endswith('B') \n",
    "]\n",
    "instrument_loc_df['top or bottom'] = instrument_loc_df['ec'].str[-1]\n",
    "instrument_loc_df['tower'] = instrument_loc_df['ec'].apply(lambda str: str.split('S')[0].lower())\n",
    "instrument_loc_df['height'] = instrument_loc_df['ec'].apply(lambda str: int(str.split('S')[1][:-1]))\n",
    "instrument_loc_df = instrument_loc_df.drop(columns='ec')\n",
    "instrument_loc_df = instrument_loc_df.pivot(index=['height', 'tower'], columns='top or bottom').reset_index()\n",
    "instrument_loc_df = instrument_loc_df.set_index(['height', 'tower']).groupby(level=0, axis=1).mean()\n",
    "instrument_loc_df"
   ]
  },
  {
   "cell_type": "code",
   "execution_count": 137,
   "metadata": {},
   "outputs": [
    {
     "data": {
      "text/html": [
       "<div>\n",
       "<style scoped>\n",
       "    .dataframe tbody tr th:only-of-type {\n",
       "        vertical-align: middle;\n",
       "    }\n",
       "\n",
       "    .dataframe tbody tr th {\n",
       "        vertical-align: top;\n",
       "    }\n",
       "\n",
       "    .dataframe thead th {\n",
       "        text-align: right;\n",
       "    }\n",
       "</style>\n",
       "<table border=\"1\" class=\"dataframe\">\n",
       "  <thead>\n",
       "    <tr style=\"text-align: right;\">\n",
       "      <th></th>\n",
       "      <th></th>\n",
       "      <th>x</th>\n",
       "      <th>y</th>\n",
       "      <th>z</th>\n",
       "      <th>geometry</th>\n",
       "    </tr>\n",
       "    <tr>\n",
       "      <th>height</th>\n",
       "      <th>tower</th>\n",
       "      <th></th>\n",
       "      <th></th>\n",
       "      <th></th>\n",
       "      <th></th>\n",
       "    </tr>\n",
       "  </thead>\n",
       "  <tbody>\n",
       "    <tr>\n",
       "      <th rowspan=\"4\" valign=\"top\">1</th>\n",
       "      <th>c</th>\n",
       "      <td>329002.47110</td>\n",
       "      <td>4.312171e+06</td>\n",
       "      <td>2861.36010</td>\n",
       "      <td>POINT Z (-106.97306 38.94181 2861.36010)</td>\n",
       "    </tr>\n",
       "    <tr>\n",
       "      <th>d</th>\n",
       "      <td>329016.77615</td>\n",
       "      <td>4.312158e+06</td>\n",
       "      <td>2860.09135</td>\n",
       "      <td>POINT Z (-106.97289 38.94170 2860.09135)</td>\n",
       "    </tr>\n",
       "    <tr>\n",
       "      <th>ue</th>\n",
       "      <td>329005.76010</td>\n",
       "      <td>4.312190e+06</td>\n",
       "      <td>2862.19275</td>\n",
       "      <td>POINT Z (-106.97302 38.94199 2862.19275)</td>\n",
       "    </tr>\n",
       "    <tr>\n",
       "      <th>uw</th>\n",
       "      <td>328983.46715</td>\n",
       "      <td>4.312165e+06</td>\n",
       "      <td>2860.54055</td>\n",
       "      <td>POINT Z (-106.97328 38.94176 2860.54055)</td>\n",
       "    </tr>\n",
       "    <tr>\n",
       "      <th>2</th>\n",
       "      <th>c</th>\n",
       "      <td>329002.49025</td>\n",
       "      <td>4.312171e+06</td>\n",
       "      <td>2862.28475</td>\n",
       "      <td>POINT Z (-106.97306 38.94181 2862.28475)</td>\n",
       "    </tr>\n",
       "    <tr>\n",
       "      <th rowspan=\"4\" valign=\"top\">3</th>\n",
       "      <th>c</th>\n",
       "      <td>329002.53920</td>\n",
       "      <td>4.312171e+06</td>\n",
       "      <td>2863.30060</td>\n",
       "      <td>POINT Z (-106.97306 38.94181 2863.30060)</td>\n",
       "    </tr>\n",
       "    <tr>\n",
       "      <th>d</th>\n",
       "      <td>329016.82015</td>\n",
       "      <td>4.312158e+06</td>\n",
       "      <td>2862.02455</td>\n",
       "      <td>POINT Z (-106.97289 38.94170 2862.02455)</td>\n",
       "    </tr>\n",
       "    <tr>\n",
       "      <th>ue</th>\n",
       "      <td>329005.80410</td>\n",
       "      <td>4.312190e+06</td>\n",
       "      <td>2864.12270</td>\n",
       "      <td>POINT Z (-106.97302 38.94199 2864.12270)</td>\n",
       "    </tr>\n",
       "    <tr>\n",
       "      <th>uw</th>\n",
       "      <td>328983.52075</td>\n",
       "      <td>4.312165e+06</td>\n",
       "      <td>2862.50290</td>\n",
       "      <td>POINT Z (-106.97327 38.94176 2862.50290)</td>\n",
       "    </tr>\n",
       "    <tr>\n",
       "      <th>5</th>\n",
       "      <th>c</th>\n",
       "      <td>329002.53790</td>\n",
       "      <td>4.312171e+06</td>\n",
       "      <td>2865.33380</td>\n",
       "      <td>POINT Z (-106.97306 38.94181 2865.33380)</td>\n",
       "    </tr>\n",
       "    <tr>\n",
       "      <th rowspan=\"4\" valign=\"top\">10</th>\n",
       "      <th>c</th>\n",
       "      <td>329002.65185</td>\n",
       "      <td>4.312171e+06</td>\n",
       "      <td>2870.36580</td>\n",
       "      <td>POINT Z (-106.97306 38.94181 2870.36580)</td>\n",
       "    </tr>\n",
       "    <tr>\n",
       "      <th>d</th>\n",
       "      <td>329016.90980</td>\n",
       "      <td>4.312158e+06</td>\n",
       "      <td>2868.59560</td>\n",
       "      <td>POINT Z (-106.97289 38.94170 2868.59560)</td>\n",
       "    </tr>\n",
       "    <tr>\n",
       "      <th>ue</th>\n",
       "      <td>329005.87765</td>\n",
       "      <td>4.312190e+06</td>\n",
       "      <td>2870.70875</td>\n",
       "      <td>POINT Z (-106.97302 38.94199 2870.70875)</td>\n",
       "    </tr>\n",
       "    <tr>\n",
       "      <th>uw</th>\n",
       "      <td>328983.59905</td>\n",
       "      <td>4.312165e+06</td>\n",
       "      <td>2869.09490</td>\n",
       "      <td>POINT Z (-106.97327 38.94176 2869.09490)</td>\n",
       "    </tr>\n",
       "    <tr>\n",
       "      <th>15</th>\n",
       "      <th>c</th>\n",
       "      <td>329002.72120</td>\n",
       "      <td>4.312171e+06</td>\n",
       "      <td>2875.37755</td>\n",
       "      <td>POINT Z (-106.97305 38.94182 2875.37755)</td>\n",
       "    </tr>\n",
       "    <tr>\n",
       "      <th>20</th>\n",
       "      <th>c</th>\n",
       "      <td>329002.80045</td>\n",
       "      <td>4.312171e+06</td>\n",
       "      <td>2880.25445</td>\n",
       "      <td>POINT Z (-106.97305 38.94182 2880.25445)</td>\n",
       "    </tr>\n",
       "  </tbody>\n",
       "</table>\n",
       "</div>"
      ],
      "text/plain": [
       "                         x             y           z  \\\n",
       "height tower                                           \n",
       "1      c      329002.47110  4.312171e+06  2861.36010   \n",
       "       d      329016.77615  4.312158e+06  2860.09135   \n",
       "       ue     329005.76010  4.312190e+06  2862.19275   \n",
       "       uw     328983.46715  4.312165e+06  2860.54055   \n",
       "2      c      329002.49025  4.312171e+06  2862.28475   \n",
       "3      c      329002.53920  4.312171e+06  2863.30060   \n",
       "       d      329016.82015  4.312158e+06  2862.02455   \n",
       "       ue     329005.80410  4.312190e+06  2864.12270   \n",
       "       uw     328983.52075  4.312165e+06  2862.50290   \n",
       "5      c      329002.53790  4.312171e+06  2865.33380   \n",
       "10     c      329002.65185  4.312171e+06  2870.36580   \n",
       "       d      329016.90980  4.312158e+06  2868.59560   \n",
       "       ue     329005.87765  4.312190e+06  2870.70875   \n",
       "       uw     328983.59905  4.312165e+06  2869.09490   \n",
       "15     c      329002.72120  4.312171e+06  2875.37755   \n",
       "20     c      329002.80045  4.312171e+06  2880.25445   \n",
       "\n",
       "                                              geometry  \n",
       "height tower                                            \n",
       "1      c      POINT Z (-106.97306 38.94181 2861.36010)  \n",
       "       d      POINT Z (-106.97289 38.94170 2860.09135)  \n",
       "       ue     POINT Z (-106.97302 38.94199 2862.19275)  \n",
       "       uw     POINT Z (-106.97328 38.94176 2860.54055)  \n",
       "2      c      POINT Z (-106.97306 38.94181 2862.28475)  \n",
       "3      c      POINT Z (-106.97306 38.94181 2863.30060)  \n",
       "       d      POINT Z (-106.97289 38.94170 2862.02455)  \n",
       "       ue     POINT Z (-106.97302 38.94199 2864.12270)  \n",
       "       uw     POINT Z (-106.97327 38.94176 2862.50290)  \n",
       "5      c      POINT Z (-106.97306 38.94181 2865.33380)  \n",
       "10     c      POINT Z (-106.97306 38.94181 2870.36580)  \n",
       "       d      POINT Z (-106.97289 38.94170 2868.59560)  \n",
       "       ue     POINT Z (-106.97302 38.94199 2870.70875)  \n",
       "       uw     POINT Z (-106.97327 38.94176 2869.09490)  \n",
       "15     c      POINT Z (-106.97305 38.94182 2875.37755)  \n",
       "20     c      POINT Z (-106.97305 38.94182 2880.25445)  "
      ]
     },
     "execution_count": 137,
     "metadata": {},
     "output_type": "execute_result"
    }
   ],
   "source": [
    "import geopandas as gpd\n",
    "instrument_loc_df = gpd.GeoDataFrame(\n",
    "    instrument_loc_df,\n",
    "    geometry = gpd.points_from_xy(\n",
    "        instrument_loc_df.x, \n",
    "        instrument_loc_df.y, \n",
    "        instrument_loc_df.z\n",
    "    ),\n",
    "    crs = 'EPSG:32613'\n",
    ")\n",
    "instrument_loc_df = instrument_loc_df.to_crs('EPSG:4326')\n",
    "instrument_loc_df"
   ]
  },
  {
   "cell_type": "markdown",
   "metadata": {},
   "source": [
    "## Calculate storage change term"
   ]
  },
  {
   "cell_type": "code",
   "execution_count": 138,
   "metadata": {},
   "outputs": [],
   "source": [
    "storage_change_term = tidy_df[\n",
    "    tidy_df.measurement.isin(['specific humidity', 'air density'])\n",
    "].query(\"tower == 'c'\").query(\"height <= 10\").query(\"height >= 3\").groupby(\n",
    "    ['time', 'tower', 'measurement']\n",
    ")[['value']].mean().reset_index() \n",
    "storage_change_term = storage_change_term.pivot_table(index='time', values='value', columns='measurement')"
   ]
  },
  {
   "cell_type": "code",
   "execution_count": 139,
   "metadata": {},
   "outputs": [
    {
     "name": "stdout",
     "output_type": "stream",
     "text": [
      "1800 second\n"
     ]
    }
   ],
   "source": [
    "timestep = storage_change_term.index.diff()[1].seconds * units('seconds')\n",
    "print(timestep)\n",
    "absolute_humidity = storage_change_term['specific humidity'].values * units(\"g/g\")  * (\n",
    "    storage_change_term['air density'].values * units(\"kg/m^3\")\n",
    ")\n",
    "delta_humidity = np.diff(absolute_humidity * VOLUME, prepend=np.nan)\n",
    "dq_dt = delta_humidity / timestep"
   ]
  },
  {
   "cell_type": "code",
   "execution_count": 140,
   "metadata": {},
   "outputs": [],
   "source": [
    "storage_change_term['absolute humidity (g/m^3)'] = absolute_humidity.to('g/m^3')\n",
    "storage_change_term['delta water storage (g/s)'] = dq_dt.to('grams/second')"
   ]
  },
  {
   "cell_type": "markdown",
   "metadata": {},
   "source": [
    "### Add to dataset"
   ]
  },
  {
   "cell_type": "code",
   "execution_count": 141,
   "metadata": {},
   "outputs": [],
   "source": [
    "pivot_df = pivot_df.join(\n",
    "    storage_change_term['delta water storage (g/s)']\n",
    ").join(\n",
    "    storage_change_term['absolute humidity (g/m^3)']\n",
    ")"
   ]
  },
  {
   "cell_type": "markdown",
   "metadata": {},
   "source": [
    "# Calculate wind divergence (air mass continuity)"
   ]
  },
  {
   "cell_type": "code",
   "execution_count": 142,
   "metadata": {},
   "outputs": [],
   "source": [
    "wind_vector_3m_ue = [tuple(v) for v in pivot_df[['u_3m_ue', 'v_3m_ue', 'w_3m_ue']].values]\n",
    "wind_vector_10m_ue = [tuple(v) for v in pivot_df[['u_3m_ue', 'v_3m_ue', 'w_3m_ue']].values]\n",
    "wind_vector_3m_uw = [tuple(v) for v in pivot_df[['u_3m_ue', 'v_3m_ue', 'w_3m_ue']].values]\n",
    "wind_vector_10m_uw = [tuple(v) for v in pivot_df[['u_3m_ue', 'v_3m_ue', 'w_3m_ue']].values]\n",
    "wind_vector_3m_c = [tuple(v) for v in pivot_df[['u_3m_ue', 'v_3m_ue', 'w_3m_ue']].values]\n",
    "wind_vector_10m_c = [tuple(v) for v in pivot_df[['u_3m_ue', 'v_3m_ue', 'w_3m_ue']].values]\n",
    "wind_vector_3m_d = [tuple(v) for v in pivot_df[['u_3m_ue', 'v_3m_ue', 'w_3m_ue']].values]\n",
    "wind_vector_10m_d = [tuple(v) for v in pivot_df[['u_3m_ue', 'v_3m_ue', 'w_3m_ue']].values]\n"
   ]
  },
  {
   "cell_type": "code",
   "execution_count": 143,
   "metadata": {},
   "outputs": [],
   "source": [
    "n1_3d = np.array([ n1[0].magnitude, n1[1].magnitude, 0])\n",
    "n2_3d = np.array([ n2[0].magnitude, n2[1].magnitude, 0])\n",
    "n3_3d = np.array([ n3[0].magnitude, n3[1].magnitude, 0])\n",
    "n4_3d = np.array([ 0,   0,  1])\n",
    "n5_3d = np.array([ 0,   0,  -1])"
   ]
  },
  {
   "cell_type": "code",
   "execution_count": 144,
   "metadata": {},
   "outputs": [],
   "source": [
    "wind_vector_3m_ue_n1 = np.array([np.dot(np.array(vec), n1_3d) for vec in wind_vector_3m_ue])\n",
    "wind_vector_3m_ue_n2 = np.array([np.dot(np.array(vec), n2_3d) for vec in wind_vector_3m_ue])\n",
    "wind_vector_3m_ue_n3 = np.array([np.dot(np.array(vec), n3_3d) for vec in wind_vector_3m_ue])\n",
    "wind_vector_3m_ue_n4 = np.array([np.dot(np.array(vec), n4_3d) for vec in wind_vector_3m_ue])\n",
    "wind_vector_3m_ue_n5 = np.array([np.dot(np.array(vec), n5_3d) for vec in wind_vector_3m_ue])\n",
    "wind_vector_10m_ue_n1 = np.array([np.dot(np.array(vec), n1_3d) for vec in wind_vector_10m_ue])\n",
    "wind_vector_10m_ue_n2 = np.array([np.dot(np.array(vec), n2_3d) for vec in wind_vector_10m_ue])\n",
    "wind_vector_10m_ue_n3 = np.array([np.dot(np.array(vec), n3_3d) for vec in wind_vector_10m_ue])\n",
    "wind_vector_10m_ue_n4 = np.array([np.dot(np.array(vec), n4_3d) for vec in wind_vector_10m_ue])\n",
    "wind_vector_10m_ue_n5 = np.array([np.dot(np.array(vec), n5_3d) for vec in wind_vector_10m_ue])\n",
    "\n",
    "wind_vector_3m_uw_n1 = np.array([np.dot(np.array(vec), n1_3d) for vec in wind_vector_3m_uw])\n",
    "wind_vector_3m_uw_n2 = np.array([np.dot(np.array(vec), n2_3d) for vec in wind_vector_3m_uw])\n",
    "wind_vector_3m_uw_n3 = np.array([np.dot(np.array(vec), n3_3d) for vec in wind_vector_3m_uw])\n",
    "wind_vector_3m_uw_n4 = np.array([np.dot(np.array(vec), n4_3d) for vec in wind_vector_3m_uw])\n",
    "wind_vector_3m_uw_n5 = np.array([np.dot(np.array(vec), n5_3d) for vec in wind_vector_3m_uw])\n",
    "wind_vector_10m_uw_n1 = np.array([np.dot(np.array(vec), n1_3d) for vec in wind_vector_10m_uw])\n",
    "wind_vector_10m_uw_n2 = np.array([np.dot(np.array(vec), n2_3d) for vec in wind_vector_10m_uw])\n",
    "wind_vector_10m_uw_n3 = np.array([np.dot(np.array(vec), n3_3d) for vec in wind_vector_10m_uw])\n",
    "wind_vector_10m_uw_n4 = np.array([np.dot(np.array(vec), n4_3d) for vec in wind_vector_10m_uw])\n",
    "wind_vector_10m_uw_n5 = np.array([np.dot(np.array(vec), n5_3d) for vec in wind_vector_10m_uw])\n",
    "\n",
    "wind_vector_3m_c_n1 = np.array([np.dot(np.array(vec), n1_3d) for vec in wind_vector_3m_c])\n",
    "wind_vector_3m_c_n2 = np.array([np.dot(np.array(vec), n2_3d) for vec in wind_vector_3m_c])\n",
    "wind_vector_3m_c_n3 = np.array([np.dot(np.array(vec), n3_3d) for vec in wind_vector_3m_c])\n",
    "wind_vector_3m_c_n4 = np.array([np.dot(np.array(vec), n4_3d) for vec in wind_vector_3m_c])\n",
    "wind_vector_3m_c_n5 = np.array([np.dot(np.array(vec), n5_3d) for vec in wind_vector_3m_c])\n",
    "wind_vector_10m_c_n1 = np.array([np.dot(np.array(vec), n1_3d) for vec in wind_vector_10m_c])\n",
    "wind_vector_10m_c_n2 = np.array([np.dot(np.array(vec), n2_3d) for vec in wind_vector_10m_c])\n",
    "wind_vector_10m_c_n3 = np.array([np.dot(np.array(vec), n3_3d) for vec in wind_vector_10m_c])\n",
    "wind_vector_10m_c_n4 = np.array([np.dot(np.array(vec), n4_3d) for vec in wind_vector_10m_c])\n",
    "wind_vector_10m_c_n5 = np.array([np.dot(np.array(vec), n5_3d) for vec in wind_vector_10m_c])\n",
    "\n",
    "wind_vector_3m_d_n1 = np.array([np.dot(np.array(vec), n1_3d) for vec in wind_vector_3m_d])\n",
    "wind_vector_3m_d_n2 = np.array([np.dot(np.array(vec), n2_3d) for vec in wind_vector_3m_d])\n",
    "wind_vector_3m_d_n3 = np.array([np.dot(np.array(vec), n3_3d) for vec in wind_vector_3m_d])\n",
    "wind_vector_3m_d_n4 = np.array([np.dot(np.array(vec), n4_3d) for vec in wind_vector_3m_d])\n",
    "wind_vector_3m_d_n5 = np.array([np.dot(np.array(vec), n5_3d) for vec in wind_vector_3m_d])\n",
    "wind_vector_10m_d_n1 = np.array([np.dot(np.array(vec), n1_3d) for vec in wind_vector_10m_d])\n",
    "wind_vector_10m_d_n2 = np.array([np.dot(np.array(vec), n2_3d) for vec in wind_vector_10m_d])\n",
    "wind_vector_10m_d_n3 = np.array([np.dot(np.array(vec), n3_3d) for vec in wind_vector_10m_d])\n",
    "wind_vector_10m_d_n4 = np.array([np.dot(np.array(vec), n4_3d) for vec in wind_vector_10m_d])\n",
    "wind_vector_10m_d_n5 = np.array([np.dot(np.array(vec), n5_3d) for vec in wind_vector_10m_d])"
   ]
  },
  {
   "cell_type": "code",
   "execution_count": 145,
   "metadata": {},
   "outputs": [],
   "source": [
    "face1_avg_wind_thru = 0.25*np.array(\n",
    "    wind_vector_3m_uw_n1 + \n",
    "    wind_vector_10m_uw_n1 + \n",
    "    wind_vector_3m_d_n1 + \n",
    "    wind_vector_10m_d_n1\n",
    ")\n",
    "face2_avg_wind_thru = 0.25*np.array(\n",
    "    wind_vector_3m_ue_n2 + \n",
    "    wind_vector_10m_ue_n2 + \n",
    "    wind_vector_3m_d_n2 + \n",
    "    wind_vector_10m_d_n2\n",
    ")\n",
    "face3_avg_wind_thru = 0.25*np.array(\n",
    "    wind_vector_3m_uw_n3 + \n",
    "    wind_vector_10m_uw_n3 + \n",
    "    wind_vector_3m_ue_n3 + \n",
    "    wind_vector_10m_ue_n3\n",
    ")\n",
    "\n",
    "# face 5\n",
    "face5_avg_wind_thru = 0.25*np.array(\n",
    "    wind_vector_3m_uw_n5 + \n",
    "    wind_vector_3m_ue_n5 + \n",
    "    wind_vector_3m_c_n5 + \n",
    "    wind_vector_3m_d_n5\n",
    ")\n",
    "\n",
    "# face 4\n",
    "face4_avg_wind_thru = 0.25*np.array(\n",
    "    wind_vector_10m_uw_n4 + \n",
    "    wind_vector_10m_ue_n4 + \n",
    "    wind_vector_10m_c_n4 + \n",
    "    wind_vector_10m_d_n4\n",
    ")\n",
    "\n",
    "face1_avg_wind_thru_integrated = face1_avg_wind_thru * A1\n",
    "face2_avg_wind_thru_integrated = face2_avg_wind_thru * A2\n",
    "face3_avg_wind_thru_integrated = face3_avg_wind_thru * A3\n",
    "face5_avg_wind_thru_integrated = face5_avg_wind_thru * A5\n",
    "face4_avg_wind_thru_integrated = face4_avg_wind_thru * A4\n",
    "\n",
    "wind_divergence_integrated = (face1_avg_wind_thru_integrated + face2_avg_wind_thru_integrated \n",
    "    + face3_avg_wind_thru_integrated + face5_avg_wind_thru_integrated \n",
    "    + face4_avg_wind_thru_integrated)"
   ]
  },
  {
   "cell_type": "code",
   "execution_count": 146,
   "metadata": {},
   "outputs": [],
   "source": [
    "pivot_df['wind_divergence_integrated'] = wind_divergence_integrated"
   ]
  },
  {
   "cell_type": "code",
   "execution_count": 147,
   "metadata": {},
   "outputs": [
    {
     "name": "stderr",
     "output_type": "stream",
     "text": [
      "/var/folders/x_/2h52bcjx2px15bhmdpdd748h0000gn/T/ipykernel_19951/4147053032.py:1: FutureWarning: 'T' is deprecated and will be removed in a future version, please use 'min' instead.\n",
      "  pivot_df['wind_divergence_integrated'].groupby(pivot_df.index.floor('30T').time).mean().plot()\n"
     ]
    },
    {
     "data": {
      "text/plain": [
       "<Axes: xlabel='time'>"
      ]
     },
     "execution_count": 147,
     "metadata": {},
     "output_type": "execute_result"
    },
    {
     "data": {
      "image/png": "[encoded data removed]",
      "text/plain": [
       "<Figure size 640x480 with 1 Axes>"
      ]
     },
     "metadata": {},
     "output_type": "display_data"
    }
   ],
   "source": [
    "pivot_df['wind_divergence_integrated'].groupby(pivot_df.index.floor('30T').time).mean().plot()"
   ]
  },
  {
   "cell_type": "markdown",
   "metadata": {},
   "source": [
    "## Calculate turbulent divergence"
   ]
  },
  {
   "cell_type": "code",
   "execution_count": 148,
   "metadata": {},
   "outputs": [],
   "source": [
    "face1_projected_flux = 0.25*(\n",
    "    np.dot(pivot_df[['u_h2o__3m_uw', 'v_h2o__3m_uw']].values * units('g/m^2/s'),    n1) +\n",
    "    np.dot(pivot_df[['u_h2o__10m_uw', 'v_h2o__10m_uw']].values * units('g/m^2/s'),  n1) +\n",
    "    np.dot(pivot_df[['u_h2o__3m_d', 'v_h2o__3m_d']].values * units('g/m^2/s'),      n1) +\n",
    "    np.dot(pivot_df[['u_h2o__10m_d', 'v_h2o__10m_d']].values * units('g/m^2/s'),    n1) \n",
    ")\n",
    "face2_projected_flux = 0.25*(\n",
    "    np.dot(pivot_df[['u_h2o__3m_ue', 'v_h2o__3m_ue']].values * units('g/m^2/s'),    n2) +\n",
    "    np.dot(pivot_df[['u_h2o__10m_ue', 'v_h2o__10m_ue']].values * units('g/m^2/s'),  n2) +\n",
    "    np.dot(pivot_df[['u_h2o__3m_d', 'v_h2o__3m_d']].values * units('g/m^2/s'),      n2) +\n",
    "    np.dot(pivot_df[['u_h2o__10m_d', 'v_h2o__10m_d']].values * units('g/m^2/s'),    n2)\n",
    ")\n",
    "face3_projected_flux = 0.25*(\n",
    "    np.dot(pivot_df[['u_h2o__3m_uw', 'v_h2o__3m_uw']].values * units('g/m^2/s'),    n3) +\n",
    "    np.dot(pivot_df[['u_h2o__10m_uw', 'v_h2o__10m_uw']].values * units('g/m^2/s'),  n3) +\n",
    "    np.dot(pivot_df[['u_h2o__3m_ue', 'v_h2o__3m_ue']].values * units('g/m^2/s'),    n3) +\n",
    "    np.dot(pivot_df[['u_h2o__10m_ue', 'v_h2o__10m_ue']].values * units('g/m^2/s'),  n3)\n",
    ")\n",
    "\n",
    "# face 4\n",
    "face4_projected_flux = 0.25*(\n",
    "    pivot_df['w_h2o__10m_ue'].values * units('g/m^2/s') +\n",
    "    pivot_df['w_h2o__10m_uw'].values * units('g/m^2/s') +\n",
    "    pivot_df['w_h2o__10m_d'].values * units('g/m^2/s') +\n",
    "    pivot_df['w_h2o__10m_c'].values * units('g/m^2/s')\n",
    ")\n",
    "\n",
    "# face 5\n",
    "face5_projected_flux = - 0.25*(\n",
    "    pivot_df['w_h2o__3m_ue'].values * units('g/m^2/s') +\n",
    "    pivot_df['w_h2o__3m_uw'].values * units('g/m^2/s') +\n",
    "    pivot_df['w_h2o__3m_d'].values * units('g/m^2/s') +\n",
    "    pivot_df['w_h2o__3m_c'].values * units('g/m^2/s')\n",
    ")"
   ]
  },
  {
   "cell_type": "code",
   "execution_count": 149,
   "metadata": {},
   "outputs": [
    {
     "data": {
      "text/html": [
       "<table><tbody><tr><th>Magnitude</th><td style='text-align:left;'><pre>[-7.548370466206317e-05 -0.0002490217870753895 7.475581503513882e-05 ...<br> -0.0008348295207683016 -0.00018036999493333187 -2.1846072405500616e-05]</pre></td></tr><tr><th>Units</th><td style='text-align:left;'>gram/(meter<sup>3</sup> second)</td></tr></tbody></table>"
      ],
      "text/latex": [
       "$\\begin{pmatrix} &  &  &  &  &  &  &  &  &  &  &  &  &  &  &  &  &  &  &  &  &  &  &  &  &  &  &  &  &  &  &  &  &  &  &  &  &  &  &  &  &  &  &  &  &  &  &  &  &  &  &  &  &  &  &  &  &  &  &  &  &  &  &  &  &  &  &  &  &  &  &  &  &  &  &  &  &  &  &  &  &  &  &  &  &  &  &  &  &  &  &  &  &  &  &  &  &  &  &  &  &  &  &  &  &  &  &  &  &  &  &  &  &  &  &  &  &  &  &  &  &  &  &  &  &  &  &  &  &  &  &  &  &  &  &  &  &  &  &  &  &  &  &  &  &  &  &  &  &  &  &  &  &  &  &  &  &  &  &  &  &  &  &  &  &  &  &  &  &  &  &  &  &  &  &  &  &  &  &  &  &  &  &  &  &  &  &  &  &  &  &  &  &  &  &  &  &  &  &  &  &  &  &  &  &  &  &  &  &  &  &  &  &  &  &  &  &  &  &  &  &  &  &  &  &  &  &  &  &  &  &  &  &  &  &  &  &  &  &  &  &  &  &  &  &  &  &  &  &  &  &  &  &  &  &  &  &  &  &  &  &  &  &  &  &  &  &  &  &  &  &  &  &  &  &  &  &  &  &  &  &  &  &  &  &  &  &  &  &  &  &  &  &  &  &  &  &  &  &  &  &  &  &  &  &  &  &  &  &  &  &  &  &  &  &  &  &  &  &  &  &  &  &  &  &  &  &  &  &  &  &  &  &  &  &  &  &  &  &  &  &  &  &  &  &  &  &  &  &  &  &  &  &  &  &  &  &  &  &  &  &  &  &  &  &  &  &  &  &  &  &  &  &  &  &  &  &  &  &  &  &  &  &  &  &  &  &  &  &  &  &  &  &  &  &  &  &  &  &  &  &  &  &  &  &  &  &  &  &  &  &  &  &  &  &  &  &  &  &  &  &  &  &  &  &  &  &  &  &  &  &  &  &  &  &  &  &  &  &  &  &  &  &  &  &  &  &  &  &  &  &  &  &  &  &  &  &  &  &  &  &  &  &  &  &  &  &  &  &  &  &  &  &  &  &  &  &  &  &  &  &  &  &  &  &  &  &  &  &  &  &  &  &  &  &  &  &  &  &  &  &  &  &  &  &  &  &  &  &  &  &  &  &  &  &  &  &  &  &  &  &  &  &  &  &  &  &  &  &  &  &  &  &  &  &  &  &  &  &  &  &  &  &  &  &  &  &  &  &  &  &  &  &  &  &  &  &  &  &  &  &  &  &  &  &  &  &  &  &  &  &  &  &  &  &  &  &  &  &  &  &  &  &  &  &  &  &  &  &  &  &  &  &  &  &  &  &  &  &  &  &  &  &  &  &  &  &  &  &  &  &  &  &  &  &  &  &  &  &  &  &  &  &  &  &  &  &  &  &  &  &  &  &  &  &  &  &  &  &  &  &  &  &  &  &  &  &  &  &  &  &  &  &  &  &  &  &  &  &  &  &  &  &  &  &  &  &  &  &  &  &  &  &  &  &  &  &  &  &  &  &  &  &  &  &  &  &  &  &  &  &  &  &  &  &  &  &  &  &  &  &  &  &  &  &  &  &  &  &  &  &  &  &  &  &  &  &  &  &  &  &  &  &  &  &  &  &  &  &  &  &  &  &  &  &  &  &  &  &  &  &  &  &  &  &  &  &  &  &  &  &  &  &  &  &  &  &  &  &  &  &  &  &  &  &  &  &  &  &  &  &  &  &  &  &  &  &  &  &  &  &  &  &  &  &  &  &  &  &  &  &  &  &  &  &  &  &  &  &  &  &  &  &  &  &  &  &  &  &  &  &  &  &  &  &  &  &  &  &  &  &  &  &  &  &  &  &  &  &  &  &  &  &  &  &  &  &  &  &  &  &  &  &  &  &  &  &  &  &  &  &  &  &  &  &  &  &  &  &  &  &  &  &  &  &  &  &  &  &  &  &  &  &  &  &  &  &  &  &  &  &  &  &  &  &  &  &  &  &  &  &  &  &  &  &  &  &  &  &  &  &  &  &  &  &  &  &  &  &  &  &  &  &  &  &  &  &  &  &  &  &  &  &  &  &  &  &  &  &  &  &  &  &  &  &  &  &  &  &  &  &  &  &  &  &  &  &  &  &  &  &  &  &  &  &  &  &  &  &  &  &  &  &  &  &  &  &  &  &  &  &  &  &  &  &  &  &  &  &  &  &  &  &  &  &  &  &  &  &  &  &  &  &  &  &  &  &  &  &  &  &  &  &  &  &  &  &  &  &  &  &  &  &  &  &  &  &  &  &  &  &  &  &  &  &  &  &  &  &  &  &  &  &  &  &  &  &  &  &  &  &  &  &  &  &  &  &  &  &  &  &  &  &  &  &  &  &  &  &  &  &  &  &  &  &  &  &  &  &  &  &  &  &  &  &  &  &  &  &  &  &  &  &  &  &  &  &  &  &  &  &  &  &  &  &  &  &  &  &  &  &  &  &  &  &  &  &  &  &  &  &  &  &  &  &  &  &  &  &  &  &  &  &  &  &  &  &  &  &  &  &  &  &  &  &  &  &  &  &  &  &  &  &  &  &  &  &  &  &  &  &  &  &  &  &  &  &  &  &  &  &  &  &  &  &  &  &  &  &  &  &  &  &  &  &  &  &  &  &  &  &  &  &  &  &  &  &  &  &  &  &  &  &  &  &  &  &  &  &  &  &  &  &  &  &  &  &  &  &  &  &  &  &  &  &  &  &  &  &  &  &  &  &  &  &  &  &  &  &  &  &  &  &  &  &  &  &  &  &  &  &  &  &  &  &  &  &  &  &  &  &  &  &  &  &  &  &  &  &  &  &  &  &  &  &  &  &  &  &  &  &  &  &  &  &  &  &  &  &  &  &  &  &  &  &  &  &  &  &  &  &  &  &  &  &  &  &  &  &  &  &  &  &  &  &  &  &  &  &  &  &  &  &  &  &  &  &  &  &  &  &  &  &  &  &  &  &  &  &  &  &  &  &  &  &  &  &  &  &  &  &  &  &  &  &  &  &  &  &  &  &  &  &  &  &  &  &  &  &  &  &  &  &  &  &  &  &  &  &  &  &  &  &  &  &  &  &  &  &  &  &  &  &  &  &  &  &  &  &  &  &  &  &  &  &  &  &  &  &  &  &  &  &  &  &  &  &  &  &  &  &  &  &  &  &  &  &  &  &  &  &  &  &  &  &  &  &  &  &  &  &  &  &  &  &  &  &  &  &  &  &  &  &  &  &  &  &  &  &  &  &  &  &  &  &  &  &  &  &  &  &  &  &  &  &  &  &  &  &  &  &  &  &  &  &  &  &  &  &  &  &  &  &  &  &  &  &  &  &  &  &  &  &  &  &  &  &  &  &  &  &  &  &  &  &  &  &  &  &  &  &  &  &  &  &  &  &  &  &  &  &  &  &  &  &  &  &  &  &  &  &  &  &  &  &  &  &  &  &  &  &  &  &  &  &  &  &  &  &  &  &  &  &  &  &  &  &  &  &  &  &  &  &  &  &  &  &  &  &  &  &  &  &  &  &  &  &  &  &  &  &  &  &  &  &  &  &  &  &  &  &  &  &  &  &  &  &  &  &  &  &  &  &  &  &  &  &  &  &  &  &  &  &  &  &  &  &  &  &  &  &  &  &  &  &  &  &  &  &  &  &  &  &  &  &  &  &  &  &  &  &  &  &  &  &  &  &  &  &  &  &  &  &  &  &  &  &  &  &  &  &  &  &  &  &  &  &  &  &  &  &  &  &  &  &  &  &  &  &  &  &  &  &  &  &  &  &  &  &  &  &  &  &  &  &  &  &  &  &  &  &  &  &  &  &  &  &  &  &  &  &  &  &  &  &  &  &  &  &  &  &  &  &  &  &  &  &  &  &  &  &  &  &  &  &  &  &  &  &  &  &  &  &  &  &  &  &  &  &  &  &  &  &  &  &  &  &  &  &  &  &  &  &  &  &  &  &  &  &  &  &  &  &  &  &  &  &  &  &  &  &  &  &  &  &  &  &  &  &  &  &  &  &  &  &  &  &  &  &  &  &  &  &  &  &  &  &  &  &  &  &  &  &  &  &  &  &  &  &  &  &  &  &  &  &  &  &  &  &  &  &  &  &  &  &  &  &  &  &  &  &  &  &  &  &  &  &  &  &  &  &  &  &  &  &  &  &  &  &  &  &  &  &  &  &  &  &  &  &  &  &  &  &  &  &  &  &  &  &  &  &  &  &  &  &  &  &  &  &  &  &  &  &  &  &  &  &  &  &  &  &  &  &  &  &  &  &  &  &  &  &  &  &  &  &  &  &  &  &  &  &  &  &  &  &  &  &  &  &  &  &  &  &  &  &  &  &  &  &  &  &  &  &  &  &  &  &  &  &  &  &  &  &  &  &  &  &  &  &  &  &  &  &  &  &  &  &  &  &  &  &  &  &  &  &  &  &  &  &  &  &  &  &  &  &  &  &  &  &  &  &  &  &  &  &  &  &  &  &  &  &  &  &  &  &  &  &  &  &  &  &  &  &  &  &  &  &  &  &  &  &  &  &  &  &  &  &  &  &  &  &  &  &  &  &  &  &  &  &  &  &  &  &  &  &  &  &  &  &  &  &  &  &  &  &  &  &  &  &  &  &  &  &  &  &  &  &  &  &  &  &  &  &  &  &  &  &  &  &  &  &  &  &  &  &  &  &  &  &  &  &  &  &  &  &  &  &  &  &  &  &  &  &  &  &  &  &  &  &  &  &  &  &  &  &  &  &  &  &  &  &  &  &  &  &  &  &  &  &  &  &  &  &  &  &  &  &  &  &  &  &  &  &  &  &  &  &  &  &  &  &  &  &  &  &  &  &  &  &  &  &  &  &  &  &  &  &  &  &  &  &  &  &  &  &  &  &  &  &  &  &  &  &  &  &  &  &  &  &  &  &  &  &  &  &  &  &  &  &  &  &  &  &  &  &  &  &  &  &  &  &  &  &  &  &  &  &  &  &  &  &  &  &  &  &  &  &  &  &  &  &  &  &  &  &  &  &  &  &  &  &  &  &  &  &  &  &  &  &  &  &  &  &  &  &  &  &  &  &  &  &  &  &  &  &  &  &  &  &  &  &  &  &  &  &  &  &  &  &  &  &  &  &  &  &  &  &  &  &  &  &  &  &  &  &  &  &  &  &  &  &  &  &  &  &  &  &  &  &  &  &  &  &  &  &  &  &  &  &  &  &  &  &  &  &  &  &  &  &  &  &  &  &  &  &  &  &  &  &  &  &  &  &  &  &  &  &  &  &  &  &  &  &  &  &  &  &  &  &  &  &  &  &  &  &  &  &  &  &  &  &  &  &  &  &  &  &  &  &  &  &  &  &  &  &  &  &  &  &  &  &  &  &  &  &  &  &  &  &  &  &  &  &  &  &  &  &  &  &  &  &  &  &  &  &  &  &  &  &  &  &  &  &  &  &  &  &  &  &  &  &  &  &  &  &  &  &  &  &  &  &  &  &  &  &  &  &  &  &  &  &  &  &  &  &  &  &  &  &  &  &  &  &  &  &  &  &  &  &  &  &  &  &  &  &  &  &  &  &  &  &  &  &  &  &  &  &  &  &  &  &  &  &  &  &  &  &  &  &  &  &  &  &  &  &  &  &  &  &  &  &  &  &  &  &  &  &  &  &  &  &  &  &  &  &  &  &  &  &  &  &  &  &  &  &  &  &  &  &  &  &  &  &  &  &  &  &  &  &  &  &  &  &  &  &  &  &  &  &  &  &  &  &  &  &  &  &  &  &  &  &  &  &  &  &  &  &  &  &  &  &  &  &  &  &  &  &  &  &  &  &  &  &  &  &  &  &  &  &  &  &  &  &  &  &  &  &  &  &  &  &  &  &  &  &  &  &  &  &  &  &  &  &  &  &  &  &  &  &  &  &  &  &  &  &  &  &  &  &  &  &  &  &  &  &  &  &  &  &  &  &  &  &  &  &  &  &  &  &  &  &  &  &  &  &  &  &  &  &  &  &  &  &  &  &  &  &  &  &  &  &  &  &  &  &  &  &  &  &  &  &  &  &  &  &  &  &  &  &  &  &  &  &  &  &  &  &  &  &  &  &  &  &  &  &  &  &  &  &  &  &  &  &  &  &  &  &  &  &  &  &  &  &  &  &  &  &  &  &  &  &  &  &  &  &  &  &  &  &  &  &  &  &  &  &  &  &  &  &  &  &  &  &  &  &  &  &  &  &  &  &  &  &  &  &  &  &  &  &  &  &  &  &  &  &  &  &  &  &  &  &  &  &  &  &  &  &  &  &  &  &  &  &  &  &  &  &  &  &  &  &  &  &  &  &  &  &  &  &  &  &  &  &  &  &  &  &  &  &  &  &  &  &  &  &  &  &  &  &  &  &  &  &  &  &  &  &  &  &  &  &  &  &  &  &  &  &  &  &  &  &  &  &  &  &  &  &  &  &  &  &  &  &  &  &  &  &  &  &  &  &  &  &  &  &  &  &  &  &  &  &  &  &  &  &  &  &  &  &  &  &  &  &  &  &  &  &  &  &  &  &  &  &  &  &  &  &  &  &  &  &  &  &  &  &  &  &  &  &  &  &  &  &  &  &  &  &  &  &  &  &  &  &  &  &  &  &  &  &  &  &  &  &  &  &  &  &  &  &  &  &  &  &  &  &  &  &  &  &  &  &  &  &  &  &  &  &  &  &  &  &  &  &  &  &  &  &  &  &  &  &  &  &  &  &  &  &  &  &  &  &  &  &  &  &  &  &  &  &  &  &  &  &  &  &  &  &  &  &  &  &  &  &  &  &  &  &  &  &  &  &  &  &  &  &  &  &  &  &  &  &  &  &  &  &  &  &  &  &  &  &  &  &  &  &  &  &  &  &  &  &  &  &  &  &  &  &  &  &  &  &  &  &  &  &  &  &  &  &  &  &  &  &  &  &  &  &  &  &  &  &  &  &  &  &  &  &  &  &  &  &  &  &  &  &  &  &  &  &  &  &  &  &  &  &  &  &  &  &  &  &  &  &  &  &  &  &  &  &  &  &  &  &  &  &  &  &  &  &  &  &  &  &  &  &  &  &  &  &  &  &  &  &  &  &  &  &  &  &  &  &  &  &  &  &  &  &  &  &  &  &  &  &  &  &  &  &  &  &  &  &  &  &  &  &  &  &  &  &  &  &  &  &  &  &  &  &  &  &  &  &  &  &  &  &  &  &  &  &  &  &  &  &  &  &  &  &  &  &  &  &  &  &  &  &  &  &  &  &  &  &  &  &  &  &  &  &  &  &  &  &  &  &  &  &  &  &  &  &  &  &  &  &  &  &  &  &  &  &  &  &  &  &  &  &  &  &  &  &  &  &  &  &  &  &  &  &  &  &  &  &  &  &  &  &  &  &  &  &  &  &  &  &  &  &  &  &  &  &  &  &  &  &  &  &  &  &  &  &  &  &  &  &  &  &  &  &  &  &  &  &  &  &  &  &  &  &  &  &  &  &  &  &  &  &  &  &  &  &  &  &  &  &  &  &  &  &  &  &  &  &  &  &  &  &  &  &  &  &  &  &  &  &  &  &  &  &  &  &  &  &  &  &  &  &  &  &  &  &  &  &  &  &  &  &  &  &  &  &  &  &  &  &  &  &  &  &  &  &  &  &  &  &  &  &  &  &  &  &  &  &  &  &  &  &  &  &  &  &  &  &  &  &  &  &  &  &  &  &  &  &  &  &  &  &  &  &  &  &  &  &  &  &  &  &  &  &  &  &  &  &  &  &  &  &  &  &  &  &  &  &  &  &  &  &  &  &  &  &  &  &  &  &  &  &  &  &  &  &  &  &  &  &  &  &  &  &  &  &  &  &  &  &  &  &  &  &  &  &  &  &  &  &  &  &  &  &  &  &  &  &  &  &  &  &  &  &  &  &  &  &  &  &  &  &  &  &  &  &  &  &  &  &  &  &  &  &  &  &  &  &  &  &  &  &  &  &  &  &  &  &  &  &  &  &  &  &  &  &  &  &  &  &  &  &  &  &  &  &  &  &  &  &  &  &  &  &  &  &  &  &  &  &  &  &  &  &  &  &  &  &  &  &  &  &  &  &  &  &  &  &  &  &  &  &  &  &  &  &  &  &  &  &  &  &  &  &  &  &  &  &  &  &  &  &  &  &  &  &  &  &  &  &  &  &  &  &  &  &  &  &  &  &  &  &  &  &  &  &  &  &  &  &  &  &  &  &  &  &  &  &  &  &  &  &  &  &  &  &  &  &  &  &  &  &  &  &  &  &  &  &  &  &  &  &  &  &  &  &  &  &  &  &  &  &  &  &  &  &  &  &  &  &  &  &  &  &  &  &  &  &  &  &  &  &  &  &  &  &  &  &  &  &  &  &  &  &  &  &  &  &  &  &  &  &  &  &  &  &  &  &  &  &  &  &  &  &  &  &  &  &  &  &  &  &  &  &  &  &  &  &  &  &  &  &  &  &  &  &  &  &  &  &  &  &  &  &  &  &  &  &  &  &  &  &  &  &  &  &  &  &  &  &  &  &  &  &  &  &  &  &  &  &  &  &  &  &  &  &  &  &  &  &  &  &  &  &  &  &  &  &  &  &  &  &  &  &  &  &  &  &  &  &  &  &  &  &  &  &  &  &  &  &  &  &  &  &  &  &  &  &  &  &  &  &  &  &  &  &  &  &  &  &  &  &  &  &  &  &  &  &  &  &  &  &  &  &  &  &  &  &  &  &  &  &  &  &  &  &  &  &  &  &  &  &  &  &  &  &  &  &  &  &  &  &  &  &  &  &  &  &  &  &  &  &  &  &  &  &  &  &  &  &  &  &  &  &  &  &  &  &  &  &  &  &  &  &  &  &  &  &  &  &  &  &  &  &  &  &  &  &  &  &  &  &  &  &  &  &  &  &  &  &  &  &  &  &  &  &  &  &  &  &  &  &  &  &  &  &  &  &  &  &  &  &  &  &  &  &  &  &  &  &  &  &  &  &  &  &  &  &  &  &  &  &  &  &  &  &  &  &  &  &  &  &  &  &  &  &  &  &  &  &  &  &  &  &  &  &  &  &  &  &  &  &  &  &  &  &  &  &  &  &  &  &  &  &  &  &  &  &  &  &  &  &  &  &  &  &  &  &  &  &  &  &  &  &  &  &  &  &  &  &  &  &  &  &  &  &  &  &  &  &  &  &  &  &  &  &  &  &  &  &  &  &  &  &  &  &  &  &  &  &  &  &  &  &  &  &  &  &  &  &  &  &  &  &  &  &  &  &  &  &  &  &  &  &  &  &  &  &  &  &  &  &  &  &  &  &  &  &  &  &  &  &  &  &  &  &  &  &  &  &  &  &  &  &  &  &  &  &  &  &  &  &  &  &  &  &  &  &  &  &  &  &  &  &  &  &  &  &  &  &  &  &  &  &  &  &  &  &  &  &  &  &  &  &  &  &  &  &  &  &  &  &  &  &  &  &  &  &  &  &  &  &  &  &  &  &  &  &  &  &  &  &  &  &  &  &  &  &  &  &  &  &  &  &  &  &  &  &  &  &  &  &  &  &  &  &  &  &  &  &  &  &  &  &  &  &  &  &  &  &  &  &  &  &  &  &  &  &  &  &  &  &  &  &  &  &  &  &  &  &  &  &  &  &  &  &  &  &  &  &  &  &  &  &  &  &  &  &  &  &  &  &  &  &  &  &  &  &  &  &  &  &  &  &  &  &  &  &  &  &  &  &  &  &  &  &  &  &  &  &  &  &  &  &  &  &  &  &  &  &  &  &  &  &  &  &  &  &  &  &  &  &  &  &  &  &  &  &  &  &  &  &  &  &  &  &  &  &  &  &  &  &  &  &  &  &  &  &  &  &  &  &  &  &  &  &  &  &  &  &  &  &  &  &  &  &  &  &  &  &  &  &  &  &  &  &  &  &  &  &  &  &  &  &  &  &  &  &  &  &  &  &  &  &  &  &  &  &  &  &  &  &  &  &  &  &  &  &  &  &  &  &  &  &  &  &  &  &  &  &  &  &  &  &  &  &  &  &  &  &  &  &  &  &  &  &  &  &  &  &  &  &  &  &  &  &  &  &  &  &  &  &  &  &  &  &  &  &  &  &  &  &  &  &  &  &  &  &  &  &  &  &  &  &  &  &  &  &  &  &  &  &  &  &  &  &  &  &  &  &  &  &  &  &  &  &  &  &  &  &  &  &  &  &  &  &  &  &  &  &  &  &  &  &  &  &  &  &  &  &  &  &  &  &  &  &  &  &  &  &  &  &  &  &  &  &  &  &  &  &  &  &  &  &  &  &  &  &  &  &  &  &  &  &  &  &  &  &  &  &  &  &  &  &  &  &  &  &  &  &  &  &  &  &  &  &  &  &  &  &  &  &  &  &  &  &  &  &  &  &  &  &  &  &  &  &  &  &  &  &  &  &  &  &  &  &  &  &  &  &  &  &  &  &  &  &  &  &  &  &  &  &  &  &  &  &  &  &  &  &  &  &  &  &  &  &  &  &  &  &  &  &  &  &  &  &  &  &  &  &  &  &  &  &  &  &  &  &  &  &  &  &  &  &  &  &  &  &  &  &  &  &  &  &  &  &  &  &  &  &  &  &  &  &  &  &  &  &  &  &  &  &  &  &  &  &  &  &  &  &  &  &  &  &  &  &  &  &  &  &  &  &  &  &  &  &  &  &  &  &  &  &  &  &  &  &  &  &  &  &  &  &  &  &  &  &  &  &  &  &  &  &  &  &  &  &  &  &  &  &  &  &  &  &  &  &  &  &  &  &  &  &  &  &  &  &  &  &  &  &  &  &  &  &  &  &  &  &  &  &  &  &  &  &  &  &  &  &  &  &  &  &  &  &  &  &  &  &  &  &  &  &  &  &  &  &  &  &  &  &  &  &  &  &  &  &  &  &  &  &  &  &  &  &  &  &  &  &  &  &  &  &  &  &  &  &  &  &  &  &  &  &  &  &  &  &  &  &  &  &  &  &  &  &  &  &  &  &  &  &  &  &  &  &  &  &  &  &  &  &  &  &  &  &  &  &  &  &  &  &  &  &  &  &  &  &  &  &  &  &  &  &  &  &  &  &  &  &  &  &  &  &  &  &  &  &  &  &  &  &  &  &  &  &  &  &  &  &  &  &  &  &  &  &  &  &  &  &  &  &  &  &  &  &  &  &  &  &  &  &  &  &  &  &  &  &  &  &  &  &  &  &  &  &  &  &  &  &  &  &  &  &  &  &  &  &  &  &  &  &  &  &  &  &  &  &  &  &  &  &  &  &  &  &  &  &  &  &  &  &  &  &  &  &  &  &  &  &  &  &  &  &  &  &  &  &  &  &  &  &  &  &  &  &  &  &  &  &  &  &  &  &  &  &  &  &  &  &  &  &  &  &  &  &  &  &  &  &  &  &  &  &  &  &  &  &  &  &  &  &  &  &  &  &  &  &  &  &  &  &  &  &  &  &  &  &  &  &  &  &  &  &  &  &  &  &  &  &  &  &  &  &  &  &  &  &  &  &  &  &  &  &  &  &  &  &  &  &  &  &  &  &  &  &  &  &  &  &  &  &  &  &  &  &  &  &  &  &  &  &  &  &  &  &  &  &  &  &  &  &  &  &  &  &  &  &  &  &  &  &  &  &  &  &  &  &  &  &  &  &  &  &  &  &  &  &  &  &  &  &  &  &  &  &  &  &  &  &  &  &  &  &  &  &  &  &  &  &  &  &  &  &  &  &  &  &  &  &  &  &  &  &  &  &  &  &  &  &  &  &  &  &  &  &  &  &  &  &  &  &  &  &  &  &  &  &  &  &  &  &  &  &  &  &  &  &  &  &  &  &  &  &  &  &  &  &  &  &  &  &  &  &  &  &  &  &  &  &  &  &  &  &  &  &  &  &  &  &  &  &  &  &  &  &  &  &  &  &  &  &  &  &  &  &  &  &  &  &  &  &  &  &  &  &  &  &  &  &  &  &  &  &  &  &  &  &  &  &  &  &  &  &  &  &  &  &  &  &  &  &  &  &  &  &  &  &  &  &  &  &  &  &  &  &  &  &  &  &  &  &  &  &  &  &  &  &  &  &  &  &  &  &  &  &  &  &  &  &  &  &  &  &  &  &  &  &  &  &  &  &  &  &  &  &  &  &  &  &  &  &  &  &  &  &  &  &  &  &  &  &  &  &  &  &  &  &  &  &  &  &  &  &  &  &  &  &  &  &  &  &  &  &  &  &  &  &  &  &  &  &  &  &  &  &  &  &  &  &  &  &  &  &  &  &  &  &  &  &  &  &  &  &  &  &  &  &  &  &  &  &  &  &  &  &  &  &  &  &  &  &  &  &  &  &  &  &  &  &  &  &  &  &  &  &  &  &  &  &  &  &  &  &  &  &  &  &  &  &  &  &  &  &  &  &  &  &  &  &  &  &  &  &  &  &  &  &  &  &  &  &  &  &  &  &  &  &  &  &  &  &  &  &  &  &  &  &  &  &  &  &  &  &  &  &  &  &  &  &  &  &  &  &  &  &  &  &  &  &  &  &  &  &  &  &  &  &  &  &  &  &  &  &  &  &  &  &  &  &  &  &  &  &  &  &  &  &  &  &  &  &  &  &  &  &  &  &  &  &  &  &  &  &  &  &  &  &  &  &  &  &  &  &  &  &  &  &  &  &  &  &  &  &  &  &  &  &  &  &  &  &  &  &  &  &  &  &  &  &  &  &  &  &  &  &  &  &  &  &  &  &  &  &  &  &  &  &  &  &  &  &  &  &  &  &  &  &  &  &  &  &  &  &  &  &  &  &  &  &  &  &  &  &  &  &  &  &  &  &  &  &  &  &  &  &  &  &  &  &  &  &  &  &  &  &  &  &  &  &  &  &  &  &  &  &  &  &  &  &  &  &  &  &  &  &  &  &  &  &  &  &  &  &  &  &  &  &  &  &  &  &  &  &  &  &  &  &  &  &  &  &  &  &  &  &  &  &  &  &  &  &  &  &  &  &  &  &  &  &  &  &  &  &  &  &  &  &  &  &  &  &  &  &  &  &  &  &  &  &  &  &  &  &  &  &  &  &  &  &  &  &  &  &  &  &  &  &  &  &  &  &  &  &  &  &  &  &  &  &  &  &  &  &  &  &  &  &  &  &  &  &  &  &  &  &  &  &  &  &  &  &  &  &  &  &  &  &  &  &  &  &  &  &  &  &  &  &  &  &  &  &  &  &  &  &  &  &  &  &  &  &  &  &  &  &  &  &  &  &  &  &  &  &  &  &  &  &  &  &  &  &  &  &  &  &  &  &  &  &  &  &  &  &  &  &  &  &  &  &  &  &  &  &  &  &  &  &  &  &  &  &  &  &  &  &  &  &  &  &  &  &  &  &  &  &  &  &  &  &  &  &  &  &  &  &  &  &  &  &  &  &  &  &  &  &  &  &  &  &  &  &  &  &  &  &  &  &  &  &  &  &  &  &  &  &  &  &  &  &  &  &  &  &  &  &  &  &  &  &  &  &  &  &  &  &  &  &  &  &  &  &  &  &  &  &  &  &  &  &  &  &  &  &  &  &  &  &  &  &  &  &  &  &  &  &  &  &  &  &  &  &  &  &  &  &  &  &  &  &  &  &  &  &  &  &  &  &  &  &  &  &  &  &  &  &  &  &  &  &  &  &  &  &  &  &  &  &  &  &  &  &  &  &  &  &  &  &  &  &  &  &  &  &  &  &  &  &  &  &  &  &  &  &  &  &  &  &  &  &  &  &  &  &  &  &  &  &  &  &  &  &  &  &  &  &  &  &  &  &  &  &  &  &  &  &  &  &  &  &  &  &  &  &  &  &  &  &  &  &  &  &  &  &  &  &  &  &  &  &  &  &  &  &  &  &  &  &  &  &  &  &  &  &  &  &  &  &  &  &  &  &  &  &  &  &  &  &  &  &  &  &  &  &  &  &  &  &  &  &  &  &  &  &  &  &  &  &  &  &  &  &  &  &  &  &  &  &  &  &  &  &  &  &  &  &  &  &  &  &  &  &  &  &  &  &  &  &  &  &  &  &  &  &  &  &  &  &  &  &  &  &  &  &  &  &  &  &  &  &  &  &  &  &  &  &  &  &  &  &  &  &  &  &  &  &  &  &  &  &  &  &  &  &  &  &  &  &  &  &  &  &  &  &  &  &  &  &  &  &  &  &  &  &  &  &  &  &  &  &  &  &  &  &  &  &  &  &  &  &  &  &  &  &  &  &  &  &  &  &  &  &  &  &  &  &  &  &  &  &  &  &  &  &  &  &  &  &  &  &  &  &  &  &  &  &  &  &  &  &  &  &  &  &  &  &  &  &  &  &  &  &  &  &  &  &  &  &  &  &  &  &  &  &  &  &  &  &  &  &  &  &  &  &  &  &  &  &  &  &  &  &  &  &  &  &  &  &  &  &  &  &  &  &  &  &  &  &  &  &  &  &  &  &  &  &  &  &  &  &  &  &  &  &  &  &  &  &  &  &  &  &  &  &  &  &  &  &  &  &  &  &  &  &  &  &  &  &  &  &  &  &  &  &  &  &  &  &  &  &  &  &  &  &  &  &  &  &  &  &  &  &  &  &  &  &  &  &  &  &  &  &  &  &  &  &  &  &  &  &  &  &  &  &  &  &  &  &  &  &  &  &  &  &  &  &  &  &  &  &  &  &  &  &  &  &  &  &  &  &  &  &  &  &  &  &  &  &  &  &  &  &  &  &  &  &  &  &  &  &  &  &  &  &  &  &  &  &  &  &  &  &  &  &  &  &  &  &  &  &  &  &  &  &  &  &  &  &  &  &  &  &  &  &  &  &  &  &  &  &  &  &  &  &  &  &  &  &  &  &  &  &  &  &  &  &  &  &  &  &  &  &  &  &  &  &  &  &  &  &  &  &  &  &  &  &  &  &  &  &  &  &  &  &  &  &  &  &  &  &  &  &  &  &  &  &  &  &  &  &  &  &  &  &  &  &  &  &  &  &  &  &  &  &  &  &  &  &  &  &  &  &  &  &  &  &  &  &  &  &  &  &  &  &  &  &  &  &  &  &  &  &  &  &  &  &  &  &  &  &  &  &  &  &  &  &  &  &  &  &  &  &  &  &  &  &  &  &  &  &  &  &  &  &  &  &  &  &  &  &  &  &  &  &  &  &  &  &  &  &  &  &  &  &  &  &  &  &  &  &  &  &  &  &  &  &  &  &  &  &  &  &  &  &  &  &  &  &  &  &  &  &  &  &  &  &  &  &  &  &  &  &  &  &  &  &  &  &  &  &  &  &  &  &  &  &  &  &  &  &  &  &  &  &  &  &  &  &  &  &  &  &  &  &  &  &  &  &  &  &  &  &  &  &  &  &  &  &  &  &  &  &  &  &  &  &  &  &  &  &  &  &  &  &  &  &  &  &  &  &  &  &  &  &  &  &  &  &  &  &  &  &  &  &  &  &  &  &  &  &  &  &  &  &  &  &  &  &  &  &  &  &  &  &  &  &  &  &  &  &  &  &  &  &  &  &  &  &  &  &  &  &  &  &  &  &  &  &  &  &  &  &  &  &  &  &  &  &  &  &  &  &  &  &  &  &  &  &  &  &  &  &  &  &  &  &  &  &  &  &  &  &  &  &  &  &  &  &  &  &  &  &  &  &  &  &  &  &  &  &  &  &  &  &  &  &  &  &  &  &  &  &  &  &  &  &  &  &  &  &  &  &  &  &  &  &  &  &  &  &  &  &  &  &  &  &  &  &  &  &  &  &  &  &  &  &  &  &  &  &  &  &  &  &  &  &  &  &  &  &  &  &  &  &  &  &  &  &  &  &  &  &  &  &  &  &  &  &  &  &  &  &  &  &  &  &  &  &  &  &  &  &  &  &  &  &  &  &  &  &  &  &  &  &  &  &  &  &  &  &  &  &  &  &  &  &  &  &  &  &  &  &  &  &  &  &  &  &  &  &  &  &  &  &  &  &  &  &  &  &  &  &  &  &  &  &  &  &  &  &  &  &  &  &  &  &  &  &  &  &  &  &  &  &  &  &  &  &  &  &  &  &  &  &  &  &  &  &  &  &  &  &  &  &  &  &  &  &  &  &  &  &  &  &  &  &  &  &  &  &  &  &  &  &  &  &  &  &  &  &  &  &  &  &  &  &  &  &  &  &  &  &  &  &  &  &  &  &  &  &  &  &  &  &  &  &  &  &  &  &  &  &  &  &  &  &  &  &  &  &  &  &  &  &  &  &  &  &  &  &  &  &  &  &  &  &  &  &  &  &  &  &  &  &  &  &  &  &  &  &  &  &  &  &  &  &  &  &  &  &  &  &  &  &  &  &  &  &  &  &  &  &  &  &  &  &  &  &  &  &  &  &  &  &  &  &  &  &  &  &  &  &  &  &  &  &  &  &  &  &  &  &  &  &  &  &  &  &  &  &  &  &  &  &  &  &  &  &  &  &  &  &  &  &  &  &  &  &  &  &  &  &  &  &  &  &  &  &  &  &  &  &  &  &  &  &  &  &  &  &  &  &  &  &  &  &  &  &  &  &  &  &  &  &  &  &  &  &  &  &  &  &  &  &  &  &  &  &  &  &  &  &  &  &  &  &  &  &  &  &  &  &  &  &  &  &  &  &  &  &  &  &  &  &  &  &  &  &  &  &  &  &  &  &  &  &  &  &  &  &  &  &  &  &  &  &  &  &  &  &  &  &  &  &  &  &  &  &  &  &  &  &  &  &  &  &  &  &  &  &  &  &  &  &  &  &  &  &  &  &  &  &  &  &  &  &  &  &  &  &  &  &  &  &  &  &  &  &  &  &  &  &  &  &  &  &  &  &  &  &  &  &  &  &  &  &  &  &  &  &  &  &  &  &  &  &  &  &  &  &  &  &  &  &  &  &  &  &  &  &  &  &  &  &  &  &  &  &  &  &  &  &  &  &  &  &  &  &  &  &  &  &  &  &  &  &  &  &  &  &  &  &  &  &  &  &  &  &  &  &  &  &  &  &  &  &  &  &  &  &  &  &  &  &  &  &  &  &  &  &  &  &  &  &  &  &  &  &  &  &  &  &  &  &  &  &  &  &  &  &  &  &  &  &  &  &  &  &  &  &  &  &  &  &  &  &  &  &  &  &  &  &  &  &  &  &  &  &  &  &  &  &  &  &  &  &  &  &  &  &  &  &  &  &  &  &  &  &  &  &  &  &  &  &  &  &  &  &  &  &  &  &  &  &  &  &  &  &  &  &  &  &  &  &  &  &  &  &  &  &  &  &  &  &  &  &  &  &  &  &  &  &  &  &  &  &  &  &  &  &  &  &  &  &  &  &  &  &  &  &  &  &  &  &  &  &  &  &  &  &  &  & \\end{pmatrix}\\ \\frac{\\mathrm{gram}}{\\left(\\mathrm{meter}^{3} \\cdot \\mathrm{second}\\right)}$"
      ],
      "text/plain": [
       "array([-7.54837047e-05, -2.49021787e-04,  7.47558150e-05, ...,\n",
       "       -8.34829521e-04, -1.80369995e-04, -2.18460724e-05]) <Unit('gram / meter ** 3 / second')>"
      ]
     },
     "metadata": {},
     "output_type": "display_data"
    },
    {
     "data": {
      "text/html": [
       "<table><tbody><tr><th>Magnitude</th><td style='text-align:left;'><pre>[0.00010371441248379594 0.00013496634359615585 2.630053395103993e-05 ...<br> -0.0006152054791672462 -0.0005437580482305005 -3.7676541602400606e-05]</pre></td></tr><tr><th>Units</th><td style='text-align:left;'>gram/(meter<sup>3</sup> second)</td></tr></tbody></table>"
      ],
      "text/latex": [
       "$\\begin{pmatrix} &  &  &  &  &  &  &  &  &  &  &  &  &  &  &  &  &  &  &  &  &  &  &  &  &  &  &  &  &  &  &  &  &  &  &  &  &  &  &  &  &  &  &  &  &  &  &  &  &  &  &  &  &  &  &  &  &  &  &  &  &  &  &  &  &  &  &  &  &  &  &  &  &  &  &  &  &  &  &  &  &  &  &  &  &  &  &  &  &  &  &  &  &  &  &  &  &  &  &  &  &  &  &  &  &  &  &  &  &  &  &  &  &  &  &  &  &  &  &  &  &  &  &  &  &  &  &  &  &  &  &  &  &  &  &  &  &  &  &  &  &  &  &  &  &  &  &  &  &  &  &  &  &  &  &  &  &  &  &  &  &  &  &  &  &  &  &  &  &  &  &  &  &  &  &  &  &  &  &  &  &  &  &  &  &  &  &  &  &  &  &  &  &  &  &  &  &  &  &  &  &  &  &  &  &  &  &  &  &  &  &  &  &  &  &  &  &  &  &  &  &  &  &  &  &  &  &  &  &  &  &  &  &  &  &  &  &  &  &  &  &  &  &  &  &  &  &  &  &  &  &  &  &  &  &  &  &  &  &  &  &  &  &  &  &  &  &  &  &  &  &  &  &  &  &  &  &  &  &  &  &  &  &  &  &  &  &  &  &  &  &  &  &  &  &  &  &  &  &  &  &  &  &  &  &  &  &  &  &  &  &  &  &  &  &  &  &  &  &  &  &  &  &  &  &  &  &  &  &  &  &  &  &  &  &  &  &  &  &  &  &  &  &  &  &  &  &  &  &  &  &  &  &  &  &  &  &  &  &  &  &  &  &  &  &  &  &  &  &  &  &  &  &  &  &  &  &  &  &  &  &  &  &  &  &  &  &  &  &  &  &  &  &  &  &  &  &  &  &  &  &  &  &  &  &  &  &  &  &  &  &  &  &  &  &  &  &  &  &  &  &  &  &  &  &  &  &  &  &  &  &  &  &  &  &  &  &  &  &  &  &  &  &  &  &  &  &  &  &  &  &  &  &  &  &  &  &  &  &  &  &  &  &  &  &  &  &  &  &  &  &  &  &  &  &  &  &  &  &  &  &  &  &  &  &  &  &  &  &  &  &  &  &  &  &  &  &  &  &  &  &  &  &  &  &  &  &  &  &  &  &  &  &  &  &  &  &  &  &  &  &  &  &  &  &  &  &  &  &  &  &  &  &  &  &  &  &  &  &  &  &  &  &  &  &  &  &  &  &  &  &  &  &  &  &  &  &  &  &  &  &  &  &  &  &  &  &  &  &  &  &  &  &  &  &  &  &  &  &  &  &  &  &  &  &  &  &  &  &  &  &  &  &  &  &  &  &  &  &  &  &  &  &  &  &  &  &  &  &  &  &  &  &  &  &  &  &  &  &  &  &  &  &  &  &  &  &  &  &  &  &  &  &  &  &  &  &  &  &  &  &  &  &  &  &  &  &  &  &  &  &  &  &  &  &  &  &  &  &  &  &  &  &  &  &  &  &  &  &  &  &  &  &  &  &  &  &  &  &  &  &  &  &  &  &  &  &  &  &  &  &  &  &  &  &  &  &  &  &  &  &  &  &  &  &  &  &  &  &  &  &  &  &  &  &  &  &  &  &  &  &  &  &  &  &  &  &  &  &  &  &  &  &  &  &  &  &  &  &  &  &  &  &  &  &  &  &  &  &  &  &  &  &  &  &  &  &  &  &  &  &  &  &  &  &  &  &  &  &  &  &  &  &  &  &  &  &  &  &  &  &  &  &  &  &  &  &  &  &  &  &  &  &  &  &  &  &  &  &  &  &  &  &  &  &  &  &  &  &  &  &  &  &  &  &  &  &  &  &  &  &  &  &  &  &  &  &  &  &  &  &  &  &  &  &  &  &  &  &  &  &  &  &  &  &  &  &  &  &  &  &  &  &  &  &  &  &  &  &  &  &  &  &  &  &  &  &  &  &  &  &  &  &  &  &  &  &  &  &  &  &  &  &  &  &  &  &  &  &  &  &  &  &  &  &  &  &  &  &  &  &  &  &  &  &  &  &  &  &  &  &  &  &  &  &  &  &  &  &  &  &  &  &  &  &  &  &  &  &  &  &  &  &  &  &  &  &  &  &  &  &  &  &  &  &  &  &  &  &  &  &  &  &  &  &  &  &  &  &  &  &  &  &  &  &  &  &  &  &  &  &  &  &  &  &  &  &  &  &  &  &  &  &  &  &  &  &  &  &  &  &  &  &  &  &  &  &  &  &  &  &  &  &  &  &  &  &  &  &  &  &  &  &  &  &  &  &  &  &  &  &  &  &  &  &  &  &  &  &  &  &  &  &  &  &  &  &  &  &  &  &  &  &  &  &  &  &  &  &  &  &  &  &  &  &  &  &  &  &  &  &  &  &  &  &  &  &  &  &  &  &  &  &  &  &  &  &  &  &  &  &  &  &  &  &  &  &  &  &  &  &  &  &  &  &  &  &  &  &  &  &  &  &  &  &  &  &  &  &  &  &  &  &  &  &  &  &  &  &  &  &  &  &  &  &  &  &  &  &  &  &  &  &  &  &  &  &  &  &  &  &  &  &  &  &  &  &  &  &  &  &  &  &  &  &  &  &  &  &  &  &  &  &  &  &  &  &  &  &  &  &  &  &  &  &  &  &  &  &  &  &  &  &  &  &  &  &  &  &  &  &  &  &  &  &  &  &  &  &  &  &  &  &  &  &  &  &  &  &  &  &  &  &  &  &  &  &  &  &  &  &  &  &  &  &  &  &  &  &  &  &  &  &  &  &  &  &  &  &  &  &  &  &  &  &  &  &  &  &  &  &  &  &  &  &  &  &  &  &  &  &  &  &  &  &  &  &  &  &  &  &  &  &  &  &  &  &  &  &  &  &  &  &  &  &  &  &  &  &  &  &  &  &  &  &  &  &  &  &  &  &  &  &  &  &  &  &  &  &  &  &  &  &  &  &  &  &  &  &  &  &  &  &  &  &  &  &  &  &  &  &  &  &  &  &  &  &  &  &  &  &  &  &  &  &  &  &  &  &  &  &  &  &  &  &  &  &  &  &  &  &  &  &  &  &  &  &  &  &  &  &  &  &  &  &  &  &  &  &  &  &  &  &  &  &  &  &  &  &  &  &  &  &  &  &  &  &  &  &  &  &  &  &  &  &  &  &  &  &  &  &  &  &  &  &  &  &  &  &  &  &  &  &  &  &  &  &  &  &  &  &  &  &  &  &  &  &  &  &  &  &  &  &  &  &  &  &  &  &  &  &  &  &  &  &  &  &  &  &  &  &  &  &  &  &  &  &  &  &  &  &  &  &  &  &  &  &  &  &  &  &  &  &  &  &  &  &  &  &  &  &  &  &  &  &  &  &  &  &  &  &  &  &  &  &  &  &  &  &  &  &  &  &  &  &  &  &  &  &  &  &  &  &  &  &  &  &  &  &  &  &  &  &  &  &  &  &  &  &  &  &  &  &  &  &  &  &  &  &  &  &  &  &  &  &  &  &  &  &  &  &  &  &  &  &  &  &  &  &  &  &  &  &  &  &  &  &  &  &  &  &  &  &  &  &  &  &  &  &  &  &  &  &  &  &  &  &  &  &  &  &  &  &  &  &  &  &  &  &  &  &  &  &  &  &  &  &  &  &  &  &  &  &  &  &  &  &  &  &  &  &  &  &  &  &  &  &  &  &  &  &  &  &  &  &  &  &  &  &  &  &  &  &  &  &  &  &  &  &  &  &  &  &  &  &  &  &  &  &  &  &  &  &  &  &  &  &  &  &  &  &  &  &  &  &  &  &  &  &  &  &  &  &  &  &  &  &  &  &  &  &  &  &  &  &  &  &  &  &  &  &  &  &  &  &  &  &  &  &  &  &  &  &  &  &  &  &  &  &  &  &  &  &  &  &  &  &  &  &  &  &  &  &  &  &  &  &  &  &  &  &  &  &  &  &  &  &  &  &  &  &  &  &  &  &  &  &  &  &  &  &  &  &  &  &  &  &  &  &  &  &  &  &  &  &  &  &  &  &  &  &  &  &  &  &  &  &  &  &  &  &  &  &  &  &  &  &  &  &  &  &  &  &  &  &  &  &  &  &  &  &  &  &  &  &  &  &  &  &  &  &  &  &  &  &  &  &  &  &  &  &  &  &  &  &  &  &  &  &  &  &  &  &  &  &  &  &  &  &  &  &  &  &  &  &  &  &  &  &  &  &  &  &  &  &  &  &  &  &  &  &  &  &  &  &  &  &  &  &  &  &  &  &  &  &  &  &  &  &  &  &  &  &  &  &  &  &  &  &  &  &  &  &  &  &  &  &  &  &  &  &  &  &  &  &  &  &  &  &  &  &  &  &  &  &  &  &  &  &  &  &  &  &  &  &  &  &  &  &  &  &  &  &  &  &  &  &  &  &  &  &  &  &  &  &  &  &  &  &  &  &  &  &  &  &  &  &  &  &  &  &  &  &  &  &  &  &  &  &  &  &  &  &  &  &  &  &  &  &  &  &  &  &  &  &  &  &  &  &  &  &  &  &  &  &  &  &  &  &  &  &  &  &  &  &  &  &  &  &  &  &  &  &  &  &  &  &  &  &  &  &  &  &  &  &  &  &  &  &  &  &  &  &  &  &  &  &  &  &  &  &  &  &  &  &  &  &  &  &  &  &  &  &  &  &  &  &  &  &  &  &  &  &  &  &  &  &  &  &  &  &  &  &  &  &  &  &  &  &  &  &  &  &  &  &  &  &  &  &  &  &  &  &  &  &  &  &  &  &  &  &  &  &  &  &  &  &  &  &  &  &  &  &  &  &  &  &  &  &  &  &  &  &  &  &  &  &  &  &  &  &  &  &  &  &  &  &  &  &  &  &  &  &  &  &  &  &  &  &  &  &  &  &  &  &  &  &  &  &  &  &  &  &  &  &  &  &  &  &  &  &  &  &  &  &  &  &  &  &  &  &  &  &  &  &  &  &  &  &  &  &  &  &  &  &  &  &  &  &  &  &  &  &  &  &  &  &  &  &  &  &  &  &  &  &  &  &  &  &  &  &  &  &  &  &  &  &  &  &  &  &  &  &  &  &  &  &  &  &  &  &  &  &  &  &  &  &  &  &  &  &  &  &  &  &  &  &  &  &  &  &  &  &  &  &  &  &  &  &  &  &  &  &  &  &  &  &  &  &  &  &  &  &  &  &  &  &  &  &  &  &  &  &  &  &  &  &  &  &  &  &  &  &  &  &  &  &  &  &  &  &  &  &  &  &  &  &  &  &  &  &  &  &  &  &  &  &  &  &  &  &  &  &  &  &  &  &  &  &  &  &  &  &  &  &  &  &  &  &  &  &  &  &  &  &  &  &  &  &  &  &  &  &  &  &  &  &  &  &  &  &  &  &  &  &  &  &  &  &  &  &  &  &  &  &  &  &  &  &  &  &  &  &  &  &  &  &  &  &  &  &  &  &  &  &  &  &  &  &  &  &  &  &  &  &  &  &  &  &  &  &  &  &  &  &  &  &  &  &  &  &  &  &  &  &  &  &  &  &  &  &  &  &  &  &  &  &  &  &  &  &  &  &  &  &  &  &  &  &  &  &  &  &  &  &  &  &  &  &  &  &  &  &  &  &  &  &  &  &  &  &  &  &  &  &  &  &  &  &  &  &  &  &  &  &  &  &  &  &  &  &  &  &  &  &  &  &  &  &  &  &  &  &  &  &  &  &  &  &  &  &  &  &  &  &  &  &  &  &  &  &  &  &  &  &  &  &  &  &  &  &  &  &  &  &  &  &  &  &  &  &  &  &  &  &  &  &  &  &  &  &  &  &  &  &  &  &  &  &  &  &  &  &  &  &  &  &  &  &  &  &  &  &  &  &  &  &  &  &  &  &  &  &  &  &  &  &  &  &  &  &  &  &  &  &  &  &  &  &  &  &  &  &  &  &  &  &  &  &  &  &  &  &  &  &  &  &  &  &  &  &  &  &  &  &  &  &  &  &  &  &  &  &  &  &  &  &  &  &  &  &  &  &  &  &  &  &  &  &  &  &  &  &  &  &  &  &  &  &  &  &  &  &  &  &  &  &  &  &  &  &  &  &  &  &  &  &  &  &  &  &  &  &  &  &  &  &  &  &  &  &  &  &  &  &  &  &  &  &  &  &  &  &  &  &  &  &  &  &  &  &  &  &  &  &  &  &  &  &  &  &  &  &  &  &  &  &  &  &  &  &  &  &  &  &  &  &  &  &  &  &  &  &  &  &  &  &  &  &  &  &  &  &  &  &  &  &  &  &  &  &  &  &  &  &  &  &  &  &  &  &  &  &  &  &  &  &  &  &  &  &  &  &  &  &  &  &  &  &  &  &  &  &  &  &  &  &  &  &  &  &  &  &  &  &  &  &  &  &  &  &  &  &  &  &  &  &  &  &  &  &  &  &  &  &  &  &  &  &  &  &  &  &  &  &  &  &  &  &  &  &  &  &  &  &  &  &  &  &  &  &  &  &  &  &  &  &  &  &  &  &  &  &  &  &  &  &  &  &  &  &  &  &  &  &  &  &  &  &  &  &  &  &  &  &  &  &  &  &  &  &  &  &  &  &  &  &  &  &  &  &  &  &  &  &  &  &  &  &  &  &  &  &  &  &  &  &  &  &  &  &  &  &  &  &  &  &  &  &  &  &  &  &  &  &  &  &  &  &  &  &  &  &  &  &  &  &  &  &  &  &  &  &  &  &  &  &  &  &  &  &  &  &  &  &  &  &  &  &  &  &  &  &  &  &  &  &  &  &  &  &  &  &  &  &  &  &  &  &  &  &  &  &  &  &  &  &  &  &  &  &  &  &  &  &  &  &  &  &  &  &  &  &  &  &  &  &  &  &  &  &  &  &  &  &  &  &  &  &  &  &  &  &  &  &  &  &  &  &  &  &  &  &  &  &  &  &  &  &  &  &  &  &  &  &  &  &  &  &  &  &  &  &  &  &  &  &  &  &  &  &  &  &  &  &  &  &  &  &  &  &  &  &  &  &  &  &  &  &  &  &  &  &  &  &  &  &  &  &  &  &  &  &  &  &  &  &  &  &  &  &  &  &  &  &  &  &  &  &  &  &  &  &  &  &  &  &  &  &  &  &  &  &  &  &  &  &  &  &  &  &  &  &  &  &  &  &  &  &  &  &  &  &  &  &  &  &  &  &  &  &  &  &  &  &  &  &  &  &  &  &  &  &  &  &  &  &  &  &  &  &  &  &  &  &  &  &  &  &  &  &  &  &  &  &  &  &  &  &  &  &  &  &  &  &  &  &  &  &  &  &  &  &  &  &  &  &  &  &  &  &  &  &  &  &  &  &  &  &  &  &  &  &  &  &  &  &  &  &  &  &  &  &  &  &  &  &  &  &  &  &  &  &  &  &  &  &  &  &  &  &  &  &  &  &  &  &  &  &  &  &  &  &  &  &  &  &  &  &  &  &  &  &  &  &  &  &  &  &  &  &  &  &  &  &  &  &  &  &  &  &  &  &  &  &  &  &  &  &  &  &  &  &  &  &  &  &  &  &  &  &  &  &  &  &  &  &  &  &  &  &  &  &  &  &  &  &  &  &  &  &  &  &  &  &  &  &  &  &  &  &  &  &  &  &  &  &  &  &  &  &  &  &  &  &  &  &  &  &  &  &  &  &  &  &  &  &  &  &  &  &  &  &  &  &  &  &  &  &  &  &  &  &  &  &  &  &  &  &  &  &  &  &  &  &  &  &  &  &  &  &  &  &  &  &  &  &  &  &  &  &  &  &  &  &  &  &  &  &  &  &  &  &  &  &  &  &  &  &  &  &  &  &  &  &  &  &  &  &  &  &  &  &  &  &  &  &  &  &  &  &  &  &  &  &  &  &  &  &  &  &  &  &  &  &  &  &  &  &  &  &  &  &  &  &  &  &  &  &  &  &  &  &  &  &  &  &  &  &  &  &  &  &  &  &  &  &  &  &  &  &  &  &  &  &  &  &  &  &  &  &  &  &  &  &  &  &  &  &  &  &  &  &  &  &  &  &  &  &  &  &  &  &  &  &  &  &  &  &  &  &  &  &  &  &  &  &  &  &  &  &  &  &  &  &  &  &  &  &  &  &  &  &  &  &  &  &  &  &  &  &  &  &  &  &  &  &  &  &  &  &  &  &  &  &  &  &  &  &  &  &  &  &  &  &  &  &  &  &  &  &  &  &  &  &  &  &  &  &  &  &  &  &  &  &  &  &  &  &  &  &  &  &  &  &  &  &  &  &  &  &  &  &  &  &  &  &  &  &  &  &  &  &  &  &  &  &  &  &  &  &  &  &  &  &  &  &  &  &  &  &  &  &  &  &  &  &  &  &  &  &  &  &  &  &  &  &  &  &  &  &  &  &  &  &  &  &  &  &  &  &  &  &  &  &  &  &  &  &  &  &  &  &  &  &  &  &  &  &  &  &  &  &  &  &  &  &  &  &  &  &  &  &  &  &  &  &  &  &  &  &  &  &  &  &  &  &  &  &  &  &  &  &  &  &  &  &  &  &  &  &  &  &  &  &  &  &  &  &  &  &  &  &  &  &  &  &  &  &  &  &  &  &  &  &  &  &  &  &  &  &  &  &  &  &  &  &  &  &  &  &  &  &  &  &  &  &  &  &  &  &  &  &  &  &  &  &  &  &  &  &  &  &  &  &  &  &  &  &  &  &  &  &  &  &  &  &  &  &  &  &  &  &  &  &  &  &  &  &  &  &  &  &  &  &  &  &  &  &  &  &  &  &  &  &  &  &  &  &  &  &  &  &  &  &  &  &  &  &  &  &  &  &  &  &  &  &  &  &  &  &  &  &  &  &  &  &  &  &  &  &  &  &  &  &  &  &  &  &  &  &  &  &  &  &  &  &  &  &  &  &  &  &  &  &  &  &  &  &  &  &  &  &  &  &  &  &  &  &  &  &  &  &  &  &  &  &  &  &  &  &  &  &  &  &  &  &  &  &  &  &  &  &  &  &  &  &  &  &  &  &  &  &  &  &  &  &  &  &  &  &  &  &  &  &  &  &  &  &  &  &  &  &  &  &  &  &  &  &  &  &  &  &  &  &  &  &  &  &  &  &  &  &  &  &  &  &  &  &  &  &  &  &  &  &  &  &  &  &  &  &  &  &  &  &  &  &  &  &  &  &  &  &  &  &  &  &  &  &  &  &  &  &  &  &  &  &  &  &  &  &  &  &  &  &  &  &  &  &  &  &  &  &  &  &  &  &  &  &  &  &  &  &  &  &  &  &  &  &  &  &  &  &  &  &  &  &  &  &  &  &  &  &  &  &  &  &  &  &  &  &  &  &  &  &  &  &  &  &  &  &  &  &  &  &  &  &  &  &  &  &  &  &  &  &  &  &  &  &  &  &  &  &  &  &  &  &  &  &  &  &  &  &  &  &  &  &  &  &  &  &  &  &  &  &  &  &  &  &  &  &  &  &  &  &  &  &  &  &  &  &  &  &  &  &  &  &  &  &  &  &  &  &  &  &  &  &  &  &  &  &  &  &  &  &  &  &  &  &  &  &  &  &  &  &  &  &  &  &  &  &  &  &  &  &  &  &  &  &  &  &  &  &  &  &  &  &  &  &  &  &  &  &  &  &  &  &  &  &  &  &  &  &  &  &  &  &  &  &  &  &  &  &  &  &  &  &  &  &  &  &  &  &  &  &  &  &  &  &  &  &  &  &  &  &  &  &  &  &  &  &  &  &  &  &  &  &  &  &  &  &  &  &  &  &  &  &  &  &  &  &  &  &  &  &  &  &  &  &  &  &  &  &  &  &  &  &  &  &  &  &  &  &  &  &  &  &  &  &  &  &  &  &  &  &  &  &  &  &  &  &  &  &  &  &  &  &  &  &  &  &  &  &  &  &  &  &  &  &  &  &  &  &  &  &  &  &  &  &  &  &  &  &  &  &  &  &  &  &  &  &  &  &  &  &  &  &  &  &  &  &  &  &  &  &  &  &  &  &  &  &  &  &  &  &  &  &  &  &  &  &  &  &  &  &  &  &  &  &  &  &  &  &  &  &  &  &  &  &  &  &  &  &  &  &  &  &  &  &  &  &  &  &  &  &  &  &  &  &  &  &  &  &  &  &  &  &  &  &  &  &  &  &  &  &  &  &  &  &  &  &  &  &  &  &  &  &  &  &  &  &  &  &  &  &  &  &  &  &  &  &  &  &  &  &  &  &  &  &  &  &  &  &  &  &  &  &  &  &  &  &  &  &  &  &  &  &  &  &  &  &  &  &  &  &  &  &  &  &  &  &  &  &  &  &  &  &  &  &  &  &  &  &  &  &  &  &  &  &  &  &  &  &  &  &  &  &  &  &  &  &  &  &  &  &  &  &  &  &  &  &  &  &  &  &  &  &  &  &  &  &  &  &  &  &  &  &  &  &  &  &  &  &  &  &  &  &  &  &  &  &  &  &  &  &  &  &  &  &  &  &  &  &  &  &  &  &  &  &  &  &  &  &  &  &  &  &  &  &  &  &  &  &  &  &  &  &  &  &  &  &  &  &  &  &  &  &  &  &  &  &  &  &  &  &  &  &  &  &  &  &  &  &  &  &  &  &  &  &  &  &  &  &  &  &  &  &  &  &  &  &  &  &  &  &  &  &  &  &  &  &  &  &  &  &  &  &  &  &  &  &  &  &  &  &  &  &  &  &  &  &  &  &  &  &  &  &  &  &  &  &  &  &  &  &  &  &  &  &  &  &  &  &  &  &  &  &  &  &  &  &  &  &  &  &  &  &  &  &  &  &  &  &  &  &  &  &  &  &  &  &  &  &  &  &  &  &  &  &  &  &  &  &  &  &  &  &  &  &  &  &  &  &  &  &  &  &  &  &  &  &  &  &  &  &  &  &  &  &  &  &  &  &  &  &  &  &  &  &  &  &  &  &  &  &  &  &  &  &  &  &  &  &  &  &  &  &  &  &  &  &  &  &  &  &  &  &  &  &  &  &  &  &  &  &  &  &  &  &  &  &  &  &  &  &  &  &  &  &  &  &  &  &  &  &  &  &  &  &  &  &  &  &  &  &  &  &  &  &  &  &  &  &  &  &  &  &  &  &  &  &  &  &  &  &  &  &  &  &  &  &  &  &  &  &  &  &  &  &  &  &  &  &  &  &  &  &  &  &  &  &  &  &  &  &  &  &  &  &  &  &  &  &  &  &  &  &  &  &  &  &  &  &  &  &  &  &  &  &  &  &  &  &  &  &  &  &  &  &  &  &  &  &  &  &  &  &  &  &  &  &  &  &  &  &  &  &  &  &  &  &  &  &  &  &  &  &  &  &  &  &  &  &  &  &  &  &  &  &  &  &  &  &  &  &  &  &  &  &  &  &  &  &  &  &  &  &  &  &  &  &  &  &  &  &  &  &  &  &  &  &  &  &  &  &  &  &  &  &  &  &  &  &  &  &  &  &  &  &  &  &  &  &  &  &  &  &  &  &  &  &  &  &  &  &  &  &  &  &  &  &  &  &  &  &  &  &  &  &  &  &  &  &  &  &  &  &  &  &  &  &  &  &  &  &  &  &  &  &  &  &  &  &  &  &  &  &  &  &  &  &  &  &  &  &  &  &  &  &  &  &  &  &  &  &  &  &  &  &  &  &  &  &  &  &  &  &  &  &  &  &  &  &  &  &  &  &  &  &  &  &  &  &  &  &  &  &  &  &  &  &  &  &  &  &  &  &  &  &  &  &  &  &  &  &  &  &  &  &  &  &  &  &  &  &  &  &  &  &  &  &  &  &  &  &  &  &  &  &  &  &  &  &  &  &  &  &  &  &  &  &  &  &  &  &  &  &  &  &  &  &  &  &  &  &  &  &  &  &  &  &  &  &  &  &  &  &  &  &  &  &  &  &  &  &  &  &  &  &  &  &  &  &  &  &  &  &  &  &  &  &  &  &  &  &  &  &  &  &  &  &  &  &  &  &  &  &  &  &  &  &  &  &  &  &  &  &  &  &  &  &  &  &  &  &  &  &  &  &  &  &  &  &  &  &  &  &  &  &  &  &  &  &  &  &  &  &  &  &  &  &  &  &  &  &  &  &  &  &  &  &  &  &  &  &  &  &  &  &  &  &  &  &  &  &  &  &  &  &  &  &  &  &  &  &  &  &  &  &  &  &  &  &  &  &  &  &  &  &  &  &  &  &  &  &  &  &  &  &  &  &  &  &  &  &  &  &  &  &  &  &  &  &  &  &  &  &  &  &  &  &  &  &  &  &  &  &  &  &  &  &  &  &  &  &  &  &  &  &  &  &  &  &  &  &  &  &  &  &  &  &  &  &  &  &  &  &  &  &  &  &  &  &  &  &  &  &  &  &  &  &  &  &  &  &  &  &  &  &  &  &  &  &  &  &  &  &  &  &  &  &  &  &  &  &  &  &  &  &  &  &  &  &  &  &  &  &  &  &  &  &  &  &  &  &  &  &  &  &  &  &  &  &  &  &  &  &  &  &  &  &  &  &  &  &  &  &  &  &  &  &  &  &  &  &  &  &  &  &  &  &  &  &  &  &  &  &  &  &  &  &  &  &  &  &  &  &  &  &  &  &  &  &  &  &  &  &  &  &  &  &  &  &  &  &  &  &  &  &  &  &  &  &  &  &  &  &  &  &  &  &  &  &  &  &  &  &  &  &  &  &  &  &  &  &  &  &  &  &  &  &  &  &  &  &  &  &  &  &  &  &  &  &  &  &  &  &  &  &  &  &  &  &  &  &  &  &  &  &  &  &  &  &  &  &  &  &  &  &  &  &  &  &  &  &  &  &  &  &  &  &  &  &  &  &  &  &  &  &  &  &  &  &  &  &  &  &  &  &  &  &  &  &  &  &  &  &  &  &  &  &  &  &  &  &  &  &  &  &  &  &  &  &  &  &  &  &  &  &  &  &  &  &  &  &  &  &  &  &  &  &  &  &  &  &  &  &  &  &  &  &  &  &  &  &  &  &  &  &  &  &  &  &  &  &  &  &  &  &  &  &  &  &  &  &  &  &  &  &  &  &  &  &  &  &  &  &  &  &  &  &  &  &  &  &  &  &  &  &  &  &  &  &  &  &  &  &  &  &  &  &  &  &  &  &  &  &  &  &  &  &  &  &  &  &  &  &  &  &  &  &  &  &  &  &  &  &  &  &  &  &  &  &  &  &  &  &  &  &  &  &  &  &  &  &  &  &  &  &  &  &  &  &  &  &  &  &  &  &  &  &  &  &  &  &  &  &  &  &  &  &  &  &  &  &  &  &  &  &  &  &  &  &  &  &  &  &  &  &  &  &  &  &  &  &  &  &  &  &  &  &  &  &  &  &  &  &  &  &  &  &  &  &  &  &  &  &  &  &  &  &  &  &  &  &  &  &  &  &  &  &  &  &  &  &  &  &  &  &  &  &  &  &  &  &  &  &  &  &  &  &  &  &  &  &  &  &  &  &  &  &  &  &  &  &  &  &  &  &  &  &  &  &  &  &  &  &  &  &  &  &  &  &  &  &  &  &  &  &  &  &  &  &  &  &  &  &  &  &  &  &  &  &  &  &  &  &  &  &  &  &  &  &  &  &  &  &  &  &  &  &  &  &  &  &  &  &  &  &  &  &  &  &  &  &  &  &  &  &  &  &  &  &  &  &  &  &  &  &  &  &  &  &  &  &  &  &  &  &  &  &  &  &  &  &  &  &  &  &  &  &  &  &  &  &  &  &  &  &  &  &  &  &  &  &  &  &  &  &  &  &  &  &  &  &  &  &  &  &  &  &  &  &  &  &  &  &  &  &  &  &  &  &  &  &  &  &  &  &  &  &  &  &  &  &  &  &  &  &  &  &  &  &  &  &  &  &  &  &  &  &  &  &  &  &  &  &  &  &  &  &  &  &  &  &  &  &  &  &  &  &  &  &  &  &  &  &  &  &  &  &  &  &  &  &  &  &  &  &  &  &  &  &  &  &  &  &  &  &  &  &  &  &  &  &  &  &  &  &  &  &  &  &  &  &  &  &  &  &  &  &  &  &  &  &  &  &  &  &  &  &  &  &  &  &  &  &  &  &  &  &  &  &  &  &  &  &  &  &  &  &  &  &  &  &  &  &  &  &  &  &  &  &  &  &  &  &  &  &  &  &  &  &  &  &  &  &  &  &  &  &  &  &  &  &  &  &  &  &  &  &  &  &  &  &  &  &  &  &  &  &  &  &  &  &  &  &  &  &  &  &  &  &  &  &  &  &  &  &  &  &  &  &  &  &  &  &  &  &  &  &  &  &  &  &  &  &  &  &  &  &  &  &  &  &  &  &  &  &  &  &  &  &  &  &  &  &  &  &  &  &  &  &  &  &  &  &  &  &  &  &  &  &  &  &  &  &  &  &  &  &  &  &  &  &  &  &  &  &  &  &  &  &  &  &  &  &  &  &  &  &  &  &  &  &  &  &  &  &  &  &  &  &  &  &  &  &  &  &  &  &  &  &  &  &  &  &  &  &  &  &  &  &  &  &  &  &  &  &  &  &  &  &  &  &  &  &  &  &  &  &  &  &  &  &  &  &  &  &  &  &  &  &  &  &  &  &  &  &  &  &  &  &  &  &  &  &  &  &  &  &  &  &  &  &  &  &  &  &  &  &  &  &  &  &  &  &  &  &  &  &  &  &  &  &  &  &  &  &  &  &  &  &  &  &  &  &  &  &  &  &  &  &  &  &  &  &  &  &  &  &  &  &  &  &  &  &  &  &  &  &  &  &  &  &  &  &  &  &  &  &  &  &  &  &  &  &  &  &  &  &  &  &  &  &  &  &  &  &  &  &  &  &  &  &  &  &  &  &  &  &  &  &  &  &  &  &  &  &  &  &  &  &  &  &  &  &  &  &  &  &  &  &  &  &  &  &  &  &  &  &  &  &  &  &  &  &  &  &  &  &  &  &  &  &  &  &  &  &  &  &  &  &  &  &  &  &  &  &  &  &  &  &  &  &  &  &  &  &  &  &  &  &  &  &  &  &  &  &  &  &  &  &  &  &  &  &  &  &  &  &  &  &  &  &  &  &  &  &  &  &  &  &  &  &  &  &  &  &  &  &  &  &  &  &  &  &  &  &  &  &  &  &  &  &  &  &  &  &  &  &  &  &  &  &  &  &  &  &  &  &  &  &  &  &  &  &  &  &  &  &  &  &  &  &  &  &  &  &  &  &  &  &  &  &  &  &  &  &  &  &  &  &  &  &  &  &  &  &  &  &  &  &  &  &  &  &  &  &  &  &  &  &  &  &  &  &  &  &  &  &  &  &  &  &  &  &  &  &  &  &  &  &  &  &  &  &  &  &  &  &  &  &  &  &  &  &  &  &  &  &  &  &  &  &  &  &  &  &  &  &  &  &  &  &  &  &  &  &  &  &  &  &  &  &  &  &  &  &  &  &  &  &  &  &  &  &  &  &  &  &  &  &  &  &  &  &  &  &  &  &  &  &  &  &  &  &  &  &  &  &  &  &  &  &  &  &  &  &  &  &  &  &  &  &  &  &  &  &  &  &  &  &  &  &  &  &  &  &  &  &  &  &  &  &  &  &  &  &  &  &  &  &  &  &  &  &  &  &  &  &  &  &  &  &  &  &  &  &  &  &  &  &  &  &  &  &  &  &  &  &  &  &  &  &  &  &  &  &  &  &  &  &  &  &  &  &  &  &  &  &  &  &  &  &  &  &  &  &  &  &  &  &  &  &  &  &  &  &  &  &  &  &  &  &  &  &  &  &  &  &  &  &  &  &  &  &  &  &  &  &  &  &  &  &  &  &  &  &  &  &  &  &  &  &  &  &  &  &  &  &  &  &  &  &  &  &  &  &  &  &  &  &  &  &  &  &  &  &  &  &  &  &  &  &  &  &  &  &  &  &  &  &  &  &  &  &  &  &  &  &  &  &  &  &  &  &  &  &  &  &  &  &  &  &  &  &  &  &  &  &  &  &  &  &  &  &  &  &  &  &  &  &  &  &  &  &  &  &  &  &  &  &  &  &  &  &  &  &  &  &  &  &  &  &  &  &  &  &  &  &  &  &  &  &  &  &  &  &  &  &  &  &  &  &  &  &  &  &  &  &  &  &  &  &  &  &  &  &  &  &  &  &  &  &  &  &  &  &  &  &  &  &  &  &  &  &  &  &  &  &  &  &  &  &  &  &  &  &  &  &  &  &  &  &  &  &  &  &  &  &  &  &  &  &  &  &  &  &  &  &  &  &  &  &  &  &  &  &  &  &  &  &  &  &  &  &  &  &  &  &  &  &  &  &  &  &  &  &  &  &  &  &  &  &  &  &  &  &  &  &  &  &  &  &  &  &  &  &  &  &  &  &  &  &  &  &  &  &  &  &  &  &  &  &  &  &  &  &  &  &  &  &  &  &  &  &  &  &  &  &  &  &  &  &  &  &  &  &  &  &  &  &  &  &  &  &  &  &  &  &  &  &  &  &  &  &  &  &  &  &  &  &  &  &  &  &  &  &  &  &  &  &  &  &  &  &  &  &  &  &  &  &  &  &  &  &  &  &  &  &  &  &  &  &  &  &  &  &  &  &  &  &  &  &  &  &  &  &  &  &  &  &  &  &  &  &  &  &  &  &  &  &  &  &  &  &  &  &  &  &  &  &  &  &  &  &  &  &  &  &  &  &  &  &  &  &  &  &  &  &  &  &  &  &  &  &  &  &  &  &  &  &  &  &  &  &  &  &  &  &  &  &  &  &  &  &  &  &  &  &  &  &  &  &  &  &  &  &  &  &  &  &  &  &  &  &  &  &  &  &  &  &  &  &  &  &  &  &  &  &  &  &  &  &  &  &  &  &  &  &  &  &  &  &  &  &  &  &  &  &  &  &  &  &  &  &  &  &  &  &  &  &  &  &  &  &  &  &  &  &  &  &  &  &  &  &  &  &  &  &  &  &  &  &  &  &  &  &  &  &  &  &  &  &  &  &  &  &  &  &  &  &  &  &  &  &  &  &  &  &  &  &  &  &  &  &  &  &  &  &  &  &  &  &  &  &  &  &  &  &  &  &  &  &  &  &  &  &  &  &  &  &  &  &  &  &  &  &  &  &  &  &  &  &  &  &  &  &  &  &  &  &  &  &  &  &  &  &  &  &  &  &  &  &  &  &  &  &  &  &  &  &  &  &  &  &  &  &  &  &  &  &  &  &  &  &  &  &  &  &  &  &  &  &  &  &  &  &  &  &  &  &  &  &  &  &  &  &  &  &  &  &  &  &  &  &  &  &  &  &  &  &  &  &  &  &  &  &  &  &  &  &  &  &  &  &  &  &  &  &  &  &  &  &  &  &  &  &  &  &  &  &  &  &  &  &  &  &  &  &  &  & \\end{pmatrix}\\ \\frac{\\mathrm{gram}}{\\left(\\mathrm{meter}^{3} \\cdot \\mathrm{second}\\right)}$"
      ],
      "text/plain": [
       "array([ 1.03714412e-04,  1.34966344e-04,  2.63005340e-05, ...,\n",
       "       -6.15205479e-04, -5.43758048e-04, -3.76765416e-05]) <Unit('gram / meter ** 3 / second')>"
      ]
     },
     "metadata": {},
     "output_type": "display_data"
    },
    {
     "data": {
      "text/html": [
       "<table><tbody><tr><th>Magnitude</th><td style='text-align:left;'><pre>[2.8230707821732778e-05 -0.00011405544347923365 0.00010105634898617876 ...<br> -0.0014500349999355478 -0.0007241280431638324 -5.952261400790122e-05]</pre></td></tr><tr><th>Units</th><td style='text-align:left;'>gram/(meter<sup>3</sup> second)</td></tr></tbody></table>"
      ],
      "text/latex": [
       "$\\begin{pmatrix} &  &  &  &  &  &  &  &  &  &  &  &  &  &  &  &  &  &  &  &  &  &  &  &  &  &  &  &  &  &  &  &  &  &  &  &  &  &  &  &  &  &  &  &  &  &  &  &  &  &  &  &  &  &  &  &  &  &  &  &  &  &  &  &  &  &  &  &  &  &  &  &  &  &  &  &  &  &  &  &  &  &  &  &  &  &  &  &  &  &  &  &  &  &  &  &  &  &  &  &  &  &  &  &  &  &  &  &  &  &  &  &  &  &  &  &  &  &  &  &  &  &  &  &  &  &  &  &  &  &  &  &  &  &  &  &  &  &  &  &  &  &  &  &  &  &  &  &  &  &  &  &  &  &  &  &  &  &  &  &  &  &  &  &  &  &  &  &  &  &  &  &  &  &  &  &  &  &  &  &  &  &  &  &  &  &  &  &  &  &  &  &  &  &  &  &  &  &  &  &  &  &  &  &  &  &  &  &  &  &  &  &  &  &  &  &  &  &  &  &  &  &  &  &  &  &  &  &  &  &  &  &  &  &  &  &  &  &  &  &  &  &  &  &  &  &  &  &  &  &  &  &  &  &  &  &  &  &  &  &  &  &  &  &  &  &  &  &  &  &  &  &  &  &  &  &  &  &  &  &  &  &  &  &  &  &  &  &  &  &  &  &  &  &  &  &  &  &  &  &  &  &  &  &  &  &  &  &  &  &  &  &  &  &  &  &  &  &  &  &  &  &  &  &  &  &  &  &  &  &  &  &  &  &  &  &  &  &  &  &  &  &  &  &  &  &  &  &  &  &  &  &  &  &  &  &  &  &  &  &  &  &  &  &  &  &  &  &  &  &  &  &  &  &  &  &  &  &  &  &  &  &  &  &  &  &  &  &  &  &  &  &  &  &  &  &  &  &  &  &  &  &  &  &  &  &  &  &  &  &  &  &  &  &  &  &  &  &  &  &  &  &  &  &  &  &  &  &  &  &  &  &  &  &  &  &  &  &  &  &  &  &  &  &  &  &  &  &  &  &  &  &  &  &  &  &  &  &  &  &  &  &  &  &  &  &  &  &  &  &  &  &  &  &  &  &  &  &  &  &  &  &  &  &  &  &  &  &  &  &  &  &  &  &  &  &  &  &  &  &  &  &  &  &  &  &  &  &  &  &  &  &  &  &  &  &  &  &  &  &  &  &  &  &  &  &  &  &  &  &  &  &  &  &  &  &  &  &  &  &  &  &  &  &  &  &  &  &  &  &  &  &  &  &  &  &  &  &  &  &  &  &  &  &  &  &  &  &  &  &  &  &  &  &  &  &  &  &  &  &  &  &  &  &  &  &  &  &  &  &  &  &  &  &  &  &  &  &  &  &  &  &  &  &  &  &  &  &  &  &  &  &  &  &  &  &  &  &  &  &  &  &  &  &  &  &  &  &  &  &  &  &  &  &  &  &  &  &  &  &  &  &  &  &  &  &  &  &  &  &  &  &  &  &  &  &  &  &  &  &  &  &  &  &  &  &  &  &  &  &  &  &  &  &  &  &  &  &  &  &  &  &  &  &  &  &  &  &  &  &  &  &  &  &  &  &  &  &  &  &  &  &  &  &  &  &  &  &  &  &  &  &  &  &  &  &  &  &  &  &  &  &  &  &  &  &  &  &  &  &  &  &  &  &  &  &  &  &  &  &  &  &  &  &  &  &  &  &  &  &  &  &  &  &  &  &  &  &  &  &  &  &  &  &  &  &  &  &  &  &  &  &  &  &  &  &  &  &  &  &  &  &  &  &  &  &  &  &  &  &  &  &  &  &  &  &  &  &  &  &  &  &  &  &  &  &  &  &  &  &  &  &  &  &  &  &  &  &  &  &  &  &  &  &  &  &  &  &  &  &  &  &  &  &  &  &  &  &  &  &  &  &  &  &  &  &  &  &  &  &  &  &  &  &  &  &  &  &  &  &  &  &  &  &  &  &  &  &  &  &  &  &  &  &  &  &  &  &  &  &  &  &  &  &  &  &  &  &  &  &  &  &  &  &  &  &  &  &  &  &  &  &  &  &  &  &  &  &  &  &  &  &  &  &  &  &  &  &  &  &  &  &  &  &  &  &  &  &  &  &  &  &  &  &  &  &  &  &  &  &  &  &  &  &  &  &  &  &  &  &  &  &  &  &  &  &  &  &  &  &  &  &  &  &  &  &  &  &  &  &  &  &  &  &  &  &  &  &  &  &  &  &  &  &  &  &  &  &  &  &  &  &  &  &  &  &  &  &  &  &  &  &  &  &  &  &  &  &  &  &  &  &  &  &  &  &  &  &  &  &  &  &  &  &  &  &  &  &  &  &  &  &  &  &  &  &  &  &  &  &  &  &  &  &  &  &  &  &  &  &  &  &  &  &  &  &  &  &  &  &  &  &  &  &  &  &  &  &  &  &  &  &  &  &  &  &  &  &  &  &  &  &  &  &  &  &  &  &  &  &  &  &  &  &  &  &  &  &  &  &  &  &  &  &  &  &  &  &  &  &  &  &  &  &  &  &  &  &  &  &  &  &  &  &  &  &  &  &  &  &  &  &  &  &  &  &  &  &  &  &  &  &  &  &  &  &  &  &  &  &  &  &  &  &  &  &  &  &  &  &  &  &  &  &  &  &  &  &  &  &  &  &  &  &  &  &  &  &  &  &  &  &  &  &  &  &  &  &  &  &  &  &  &  &  &  &  &  &  &  &  &  &  &  &  &  &  &  &  &  &  &  &  &  &  &  &  &  &  &  &  &  &  &  &  &  &  &  &  &  &  &  &  &  &  &  &  &  &  &  &  &  &  &  &  &  &  &  &  &  &  &  &  &  &  &  &  &  &  &  &  &  &  &  &  &  &  &  &  &  &  &  &  &  &  &  &  &  &  &  &  &  &  &  &  &  &  &  &  &  &  &  &  &  &  &  &  &  &  &  &  &  &  &  &  &  &  &  &  &  &  &  &  &  &  &  &  &  &  &  &  &  &  &  &  &  &  &  &  &  &  &  &  &  &  &  &  &  &  &  &  &  &  &  &  &  &  &  &  &  &  &  &  &  &  &  &  &  &  &  &  &  &  &  &  &  &  &  &  &  &  &  &  &  &  &  &  &  &  &  &  &  &  &  &  &  &  &  &  &  &  &  &  &  &  &  &  &  &  &  &  &  &  &  &  &  &  &  &  &  &  &  &  &  &  &  &  &  &  &  &  &  &  &  &  &  &  &  &  &  &  &  &  &  &  &  &  &  &  &  &  &  &  &  &  &  &  &  &  &  &  &  &  &  &  &  &  &  &  &  &  &  &  &  &  &  &  &  &  &  &  &  &  &  &  &  &  &  &  &  &  &  &  &  &  &  &  &  &  &  &  &  &  &  &  &  &  &  &  &  &  &  &  &  &  &  &  &  &  &  &  &  &  &  &  &  &  &  &  &  &  &  &  &  &  &  &  &  &  &  &  &  &  &  &  &  &  &  &  &  &  &  &  &  &  &  &  &  &  &  &  &  &  &  &  &  &  &  &  &  &  &  &  &  &  &  &  &  &  &  &  &  &  &  &  &  &  &  &  &  &  &  &  &  &  &  &  &  &  &  &  &  &  &  &  &  &  &  &  &  &  &  &  &  &  &  &  &  &  &  &  &  &  &  &  &  &  &  &  &  &  &  &  &  &  &  &  &  &  &  &  &  &  &  &  &  &  &  &  &  &  &  &  &  &  &  &  &  &  &  &  &  &  &  &  &  &  &  &  &  &  &  &  &  &  &  &  &  &  &  &  &  &  &  &  &  &  &  &  &  &  &  &  &  &  &  &  &  &  &  &  &  &  &  &  &  &  &  &  &  &  &  &  &  &  &  &  &  &  &  &  &  &  &  &  &  &  &  &  &  &  &  &  &  &  &  &  &  &  &  &  &  &  &  &  &  &  &  &  &  &  &  &  &  &  &  &  &  &  &  &  &  &  &  &  &  &  &  &  &  &  &  &  &  &  &  &  &  &  &  &  &  &  &  &  &  &  &  &  &  &  &  &  &  &  &  &  &  &  &  &  &  &  &  &  &  &  &  &  &  &  &  &  &  &  &  &  &  &  &  &  &  &  &  &  &  &  &  &  &  &  &  &  &  &  &  &  &  &  &  &  &  &  &  &  &  &  &  &  &  &  &  &  &  &  &  &  &  &  &  &  &  &  &  &  &  &  &  &  &  &  &  &  &  &  &  &  &  &  &  &  &  &  &  &  &  &  &  &  &  &  &  &  &  &  &  &  &  &  &  &  &  &  &  &  &  &  &  &  &  &  &  &  &  &  &  &  &  &  &  &  &  &  &  &  &  &  &  &  &  &  &  &  &  &  &  &  &  &  &  &  &  &  &  &  &  &  &  &  &  &  &  &  &  &  &  &  &  &  &  &  &  &  &  &  &  &  &  &  &  &  &  &  &  &  &  &  &  &  &  &  &  &  &  &  &  &  &  &  &  &  &  &  &  &  &  &  &  &  &  &  &  &  &  &  &  &  &  &  &  &  &  &  &  &  &  &  &  &  &  &  &  &  &  &  &  &  &  &  &  &  &  &  &  &  &  &  &  &  &  &  &  &  &  &  &  &  &  &  &  &  &  &  &  &  &  &  &  &  &  &  &  &  &  &  &  &  &  &  &  &  &  &  &  &  &  &  &  &  &  &  &  &  &  &  &  &  &  &  &  &  &  &  &  &  &  &  &  &  &  &  &  &  &  &  &  &  &  &  &  &  &  &  &  &  &  &  &  &  &  &  &  &  &  &  &  &  &  &  &  &  &  &  &  &  &  &  &  &  &  &  &  &  &  &  &  &  &  &  &  &  &  &  &  &  &  &  &  &  &  &  &  &  &  &  &  &  &  &  &  &  &  &  &  &  &  &  &  &  &  &  &  &  &  &  &  &  &  &  &  &  &  &  &  &  &  &  &  &  &  &  &  &  &  &  &  &  &  &  &  &  &  &  &  &  &  &  &  &  &  &  &  &  &  &  &  &  &  &  &  &  &  &  &  &  &  &  &  &  &  &  &  &  &  &  &  &  &  &  &  &  &  &  &  &  &  &  &  &  &  &  &  &  &  &  &  &  &  &  &  &  &  &  &  &  &  &  &  &  &  &  &  &  &  &  &  &  &  &  &  &  &  &  &  &  &  &  &  &  &  &  &  &  &  &  &  &  &  &  &  &  &  &  &  &  &  &  &  &  &  &  &  &  &  &  &  &  &  &  &  &  &  &  &  &  &  &  &  &  &  &  &  &  &  &  &  &  &  &  &  &  &  &  &  &  &  &  &  &  &  &  &  &  &  &  &  &  &  &  &  &  &  &  &  &  &  &  &  &  &  &  &  &  &  &  &  &  &  &  &  &  &  &  &  &  &  &  &  &  &  &  &  &  &  &  &  &  &  &  &  &  &  &  &  &  &  &  &  &  &  &  &  &  &  &  &  &  &  &  &  &  &  &  &  &  &  &  &  &  &  &  &  &  &  &  &  &  &  &  &  &  &  &  &  &  &  &  &  &  &  &  &  &  &  &  &  &  &  &  &  &  &  &  &  &  &  &  &  &  &  &  &  &  &  &  &  &  &  &  &  &  &  &  &  &  &  &  &  &  &  &  &  &  &  &  &  &  &  &  &  &  &  &  &  &  &  &  &  &  &  &  &  &  &  &  &  &  &  &  &  &  &  &  &  &  &  &  &  &  &  &  &  &  &  &  &  &  &  &  &  &  &  &  &  &  &  &  &  &  &  &  &  &  &  &  &  &  &  &  &  &  &  &  &  &  &  &  &  &  &  &  &  &  &  &  &  &  &  &  &  &  &  &  &  &  &  &  &  &  &  &  &  &  &  &  &  &  &  &  &  &  &  &  &  &  &  &  &  &  &  &  &  &  &  &  &  &  &  &  &  &  &  &  &  &  &  &  &  &  &  &  &  &  &  &  &  &  &  &  &  &  &  &  &  &  &  &  &  &  &  &  &  &  &  &  &  &  &  &  &  &  &  &  &  &  &  &  &  &  &  &  &  &  &  &  &  &  &  &  &  &  &  &  &  &  &  &  &  &  &  &  &  &  &  &  &  &  &  &  &  &  &  &  &  &  &  &  &  &  &  &  &  &  &  &  &  &  &  &  &  &  &  &  &  &  &  &  &  &  &  &  &  &  &  &  &  &  &  &  &  &  &  &  &  &  &  &  &  &  &  &  &  &  &  &  &  &  &  &  &  &  &  &  &  &  &  &  &  &  &  &  &  &  &  &  &  &  &  &  &  &  &  &  &  &  &  &  &  &  &  &  &  &  &  &  &  &  &  &  &  &  &  &  &  &  &  &  &  &  &  &  &  &  &  &  &  &  &  &  &  &  &  &  &  &  &  &  &  &  &  &  &  &  &  &  &  &  &  &  &  &  &  &  &  &  &  &  &  &  &  &  &  &  &  &  &  &  &  &  &  &  &  &  &  &  &  &  &  &  &  &  &  &  &  &  &  &  &  &  &  &  &  &  &  &  &  &  &  &  &  &  &  &  &  &  &  &  &  &  &  &  &  &  &  &  &  &  &  &  &  &  &  &  &  &  &  &  &  &  &  &  &  &  &  &  &  &  &  &  &  &  &  &  &  &  &  &  &  &  &  &  &  &  &  &  &  &  &  &  &  &  &  &  &  &  &  &  &  &  &  &  &  &  &  &  &  &  &  &  &  &  &  &  &  &  &  &  &  &  &  &  &  &  &  &  &  &  &  &  &  &  &  &  &  &  &  &  &  &  &  &  &  &  &  &  &  &  &  &  &  &  &  &  &  &  &  &  &  &  &  &  &  &  &  &  &  &  &  &  &  &  &  &  &  &  &  &  &  &  &  &  &  &  &  &  &  &  &  &  &  &  &  &  &  &  &  &  &  &  &  &  &  &  &  &  &  &  &  &  &  &  &  &  &  &  &  &  &  &  &  &  &  &  &  &  &  &  &  &  &  &  &  &  &  &  &  &  &  &  &  &  &  &  &  &  &  &  &  &  &  &  &  &  &  &  &  &  &  &  &  &  &  &  &  &  &  &  &  &  &  &  &  &  &  &  &  &  &  &  &  &  &  &  &  &  &  &  &  &  &  &  &  &  &  &  &  &  &  &  &  &  &  &  &  &  &  &  &  &  &  &  &  &  &  &  &  &  &  &  &  &  &  &  &  &  &  &  &  &  &  &  &  &  &  &  &  &  &  &  &  &  &  &  &  &  &  &  &  &  &  &  &  &  &  &  &  &  &  &  &  &  &  &  &  &  &  &  &  &  &  &  &  &  &  &  &  &  &  &  &  &  &  &  &  &  &  &  &  &  &  &  &  &  &  &  &  &  &  &  &  &  &  &  &  &  &  &  &  &  &  &  &  &  &  &  &  &  &  &  &  &  &  &  &  &  &  &  &  &  &  &  &  &  &  &  &  &  &  &  &  &  &  &  &  &  &  &  &  &  &  &  &  &  &  &  &  &  &  &  &  &  &  &  &  &  &  &  &  &  &  &  &  &  &  &  &  &  &  &  &  &  &  &  &  &  &  &  &  &  &  &  &  &  &  &  &  &  &  &  &  &  &  &  &  &  &  &  &  &  &  &  &  &  &  &  &  &  &  &  &  &  &  &  &  &  &  &  &  &  &  &  &  &  &  &  &  &  &  &  &  &  &  &  &  &  &  &  &  &  &  &  &  &  &  &  &  &  &  &  &  &  &  &  &  &  &  &  &  &  &  &  &  &  &  &  &  &  &  &  &  &  &  &  &  &  &  &  &  &  &  &  &  &  &  &  &  &  &  &  &  &  &  &  &  &  &  &  &  &  &  &  &  &  &  &  &  &  &  &  &  &  &  &  &  &  &  &  &  &  &  &  &  &  &  &  &  &  &  &  &  &  &  &  &  &  &  &  &  &  &  &  &  &  &  &  &  &  &  &  &  &  &  &  &  &  &  &  &  &  &  &  &  &  &  &  &  &  &  &  &  &  &  &  &  &  &  &  &  &  &  &  &  &  &  &  &  &  &  &  &  &  &  &  &  &  &  &  &  &  &  &  &  &  &  &  &  &  &  &  &  &  &  &  &  &  &  &  &  &  &  &  &  &  &  &  &  &  &  &  &  &  &  &  &  &  &  &  &  &  &  &  &  &  &  &  &  &  &  &  &  &  &  &  &  &  &  &  &  &  &  &  &  &  &  &  &  &  &  &  &  &  &  &  &  &  &  &  &  &  &  &  &  &  &  &  &  &  &  &  &  &  &  &  &  &  &  &  &  &  &  &  &  &  &  &  &  &  &  &  &  &  &  &  &  &  &  &  &  &  &  &  &  &  &  &  &  &  &  &  &  &  &  &  &  &  &  &  &  &  &  &  &  &  &  &  &  &  &  &  &  &  &  &  &  &  &  &  &  &  &  &  &  &  &  &  &  &  &  &  &  &  &  &  &  &  &  &  &  &  &  &  &  &  &  &  &  &  &  &  &  &  &  &  &  &  &  &  &  &  &  &  &  &  &  &  &  &  &  &  &  &  &  &  &  &  &  &  &  &  &  &  &  &  &  &  &  &  &  &  &  &  &  &  &  &  &  &  &  &  &  &  &  &  &  &  &  &  &  &  &  &  &  &  &  &  &  &  &  &  &  &  &  &  &  &  &  &  &  &  &  &  &  &  &  &  &  &  &  &  &  &  &  &  &  &  &  &  &  &  &  &  &  &  &  &  &  &  &  &  &  &  &  &  &  &  &  &  &  &  &  &  &  &  &  &  &  &  &  &  &  &  &  &  &  &  &  &  &  &  &  &  &  &  &  &  &  &  &  &  &  &  &  &  &  &  &  &  &  &  &  &  &  &  &  &  &  &  &  &  &  &  &  &  &  &  &  &  &  &  &  &  &  &  &  &  &  &  &  &  &  &  &  &  &  &  &  &  &  &  &  &  &  &  &  &  &  &  &  &  &  &  &  &  &  &  &  &  &  &  &  &  &  &  &  &  &  &  &  &  &  &  &  &  &  &  &  &  &  &  &  &  &  &  &  &  &  &  &  &  &  &  &  &  &  &  &  &  &  &  &  &  &  &  &  &  &  &  &  &  &  &  &  &  &  &  &  &  &  &  &  &  &  &  &  &  &  &  &  &  &  &  &  &  &  &  &  &  &  &  &  &  &  &  &  &  &  &  &  &  &  &  &  &  &  &  &  &  &  &  &  &  &  &  &  &  &  &  &  &  &  &  &  &  &  &  &  &  &  &  &  &  &  &  &  &  &  &  &  &  &  &  &  &  &  &  &  &  &  &  &  &  &  &  &  &  &  &  &  &  &  &  &  &  &  &  &  &  &  &  &  &  &  &  &  &  &  &  &  &  &  &  &  &  &  &  &  &  &  &  &  &  &  &  &  &  &  &  &  &  &  &  &  &  &  &  &  &  &  &  &  &  &  &  &  &  &  &  &  &  &  &  &  &  &  &  &  &  &  &  &  &  &  &  &  &  &  &  &  &  &  &  &  &  &  &  &  &  &  &  &  &  &  &  &  &  &  &  &  &  &  &  &  &  &  &  &  &  &  &  &  &  &  &  &  &  &  &  &  &  &  &  &  &  &  &  &  &  &  &  &  &  &  &  &  &  &  &  &  &  &  &  &  &  &  &  &  &  &  &  &  &  &  &  &  &  &  &  &  &  &  &  &  &  &  &  &  &  &  &  &  &  &  &  &  &  &  &  &  &  &  &  &  &  &  &  &  &  &  &  &  &  &  &  &  &  &  &  &  &  &  &  &  &  &  &  &  &  &  &  &  &  &  &  &  &  &  &  &  &  &  &  &  &  &  &  &  &  &  &  &  &  &  &  &  &  &  &  &  &  &  &  &  &  &  &  &  &  &  &  &  &  &  &  &  &  &  &  &  &  &  &  &  &  &  &  &  &  &  &  &  &  &  &  &  &  &  &  &  &  &  &  &  &  &  &  &  &  &  &  &  &  &  &  &  &  &  &  &  &  &  &  &  &  &  &  &  &  &  &  &  &  &  &  &  &  &  &  &  &  &  &  &  &  &  &  &  &  &  &  &  &  &  &  &  &  &  &  &  &  &  &  &  &  &  &  &  &  &  &  &  &  &  &  &  &  &  &  &  &  &  &  &  &  &  &  &  &  &  &  &  &  &  &  &  &  &  &  &  &  &  &  &  &  &  &  &  &  &  &  &  &  &  &  &  &  &  &  &  &  &  &  &  &  &  &  &  &  &  &  &  &  &  &  &  &  &  &  &  &  &  &  &  &  &  &  &  &  &  &  &  &  &  &  &  &  &  &  &  &  &  &  &  &  &  &  &  &  &  &  &  &  &  &  &  &  &  &  &  &  &  &  &  &  &  &  &  &  &  &  &  &  &  &  &  &  &  &  &  &  &  &  &  &  &  &  &  &  &  &  &  &  &  &  &  &  &  &  &  &  &  &  &  &  &  &  &  &  &  &  &  &  &  &  &  &  &  &  &  &  &  &  &  &  &  &  &  &  &  &  &  &  &  &  &  &  &  &  &  &  &  &  &  &  &  &  &  &  &  &  &  &  &  &  &  &  &  &  &  &  &  &  &  &  &  &  &  &  &  &  &  &  &  &  &  &  &  &  &  &  &  &  &  &  &  &  &  &  &  &  &  &  &  &  &  &  &  &  &  &  &  &  &  &  &  &  &  &  &  &  &  &  &  &  &  &  &  &  &  &  &  &  &  &  &  &  &  &  &  &  &  &  &  &  &  &  &  &  &  &  &  &  &  &  &  &  &  &  &  &  &  &  &  &  &  &  &  &  &  &  &  &  &  &  &  &  &  &  &  &  &  &  &  &  &  &  &  &  &  &  &  &  &  &  &  &  &  &  &  &  &  &  &  &  &  &  &  &  &  &  &  &  &  &  &  &  &  &  &  &  &  &  &  &  &  &  &  &  &  &  &  &  &  &  &  &  &  &  &  &  &  &  &  &  &  &  &  &  &  &  &  &  &  &  &  &  &  &  &  &  &  &  &  &  &  &  &  &  &  &  &  &  &  &  &  &  &  &  &  &  &  &  &  &  &  &  &  &  &  &  &  &  &  &  &  &  &  &  &  &  &  &  &  &  &  &  &  &  &  &  &  &  &  &  &  &  &  &  &  &  &  &  &  &  &  &  &  &  &  &  &  &  &  &  &  &  &  &  &  &  &  &  &  &  &  &  &  &  &  &  &  &  &  &  &  &  &  &  &  &  &  &  &  &  &  &  &  &  &  &  &  &  &  &  &  &  &  &  &  &  &  &  &  &  &  &  &  &  &  &  &  &  &  &  &  &  &  &  &  &  &  &  &  &  &  &  &  &  &  &  &  &  &  &  &  &  &  &  &  &  &  &  &  &  &  &  &  &  &  &  &  &  &  &  &  &  &  &  &  &  &  &  &  &  &  &  &  &  &  &  &  &  &  &  &  &  &  &  &  &  &  &  &  &  &  &  &  &  &  &  &  &  &  &  &  &  &  &  &  &  &  &  &  &  &  &  &  &  &  &  &  &  &  &  &  &  &  &  &  &  &  &  &  &  &  &  &  &  &  &  &  &  &  &  &  &  &  &  &  &  &  &  &  &  &  &  &  &  &  &  &  &  &  &  &  &  &  &  &  &  &  &  &  &  &  &  &  &  &  &  &  &  &  &  &  &  &  &  &  &  &  &  &  &  &  &  &  &  &  &  &  &  &  &  &  &  &  &  &  &  &  &  &  &  &  &  &  &  &  &  &  &  &  &  &  &  &  &  &  &  &  &  &  &  &  &  &  &  &  &  &  &  &  &  &  &  &  &  &  &  &  &  &  &  &  &  &  &  &  &  &  &  &  &  &  &  &  &  &  &  &  &  &  &  &  &  &  &  &  &  &  &  &  &  &  &  &  &  &  &  &  &  &  &  &  &  &  &  &  &  &  &  &  &  &  &  &  &  &  &  &  &  &  &  &  &  &  &  &  &  &  &  &  &  &  &  &  &  &  &  &  &  &  &  &  &  &  &  &  &  &  &  &  &  &  &  &  &  &  &  &  &  &  &  &  &  &  &  &  &  &  &  &  &  &  &  &  &  &  &  &  &  &  &  &  &  &  &  &  &  &  &  &  &  &  &  &  &  &  &  &  &  &  &  &  &  &  &  &  &  &  &  &  &  &  &  &  &  &  &  &  &  &  &  &  &  &  &  &  &  &  &  &  &  &  &  &  &  &  &  &  &  &  &  &  &  &  &  &  &  &  &  &  &  &  &  &  &  &  &  &  &  &  &  &  &  &  &  &  &  &  &  &  &  &  &  &  &  &  &  &  &  &  &  &  &  &  &  &  &  &  &  &  &  &  &  &  &  &  &  &  &  &  &  &  &  &  &  &  &  &  &  &  &  &  &  &  &  &  &  &  &  &  &  &  &  &  &  &  &  &  &  &  &  &  &  &  &  &  &  &  &  &  &  &  &  &  &  &  &  &  &  &  &  &  &  &  &  &  &  &  &  &  &  &  &  &  &  &  &  &  &  &  &  &  &  &  &  &  &  &  &  &  &  &  &  &  &  &  &  &  &  &  &  &  &  &  &  &  &  &  &  &  &  &  &  &  &  &  &  &  &  &  &  &  &  &  &  &  &  &  &  &  &  &  &  &  &  &  &  &  &  &  &  &  &  &  &  &  &  &  &  &  &  &  &  &  &  &  &  &  &  &  &  &  &  &  &  &  &  &  &  &  &  &  &  &  &  &  &  &  &  &  &  &  &  &  &  &  &  &  &  &  &  &  &  &  &  &  &  &  &  &  &  &  &  &  &  &  &  &  &  &  &  &  &  &  &  &  &  &  &  &  &  &  &  &  &  &  &  &  &  &  &  &  &  &  &  &  &  &  &  &  &  &  &  &  &  &  &  &  &  &  &  &  &  &  &  &  &  &  &  &  &  &  &  &  &  &  &  &  &  &  &  &  &  &  &  &  &  &  &  &  &  &  &  &  &  &  &  &  &  &  &  &  &  &  &  &  &  &  &  &  &  &  &  &  &  &  &  &  &  &  &  &  &  &  &  &  &  &  &  &  &  &  &  &  &  &  &  &  &  &  &  &  &  &  &  &  &  &  &  &  &  &  &  &  &  &  &  &  &  &  &  &  &  &  &  &  &  &  &  &  &  &  &  &  &  &  &  &  &  &  &  &  &  &  &  &  &  &  &  &  &  &  &  &  &  &  &  &  &  &  &  &  &  &  &  &  &  &  &  &  &  &  &  &  &  &  &  &  &  &  &  &  &  &  &  &  &  &  &  &  &  &  &  &  &  &  &  &  &  &  &  &  &  &  &  &  &  &  &  &  &  &  &  &  &  &  &  &  &  &  &  &  &  &  &  &  &  &  &  &  &  &  &  &  &  &  &  &  &  &  &  &  &  &  &  &  &  &  &  &  &  &  &  &  &  &  &  &  &  &  &  &  &  &  &  &  &  &  &  &  &  &  &  &  &  &  &  &  &  &  &  &  &  &  &  &  &  &  &  &  &  &  &  &  &  &  &  &  &  &  &  &  &  &  &  &  &  &  &  &  &  &  &  &  &  &  &  &  &  &  &  &  &  &  &  &  &  &  &  &  &  &  &  &  &  &  &  &  &  &  &  &  &  &  &  &  &  &  &  &  &  &  &  &  &  &  &  &  &  &  &  &  &  &  &  &  &  &  &  &  &  &  &  &  &  &  &  &  &  &  &  &  &  &  &  &  &  &  &  &  &  &  &  &  &  &  &  &  &  &  &  &  &  &  &  &  &  &  &  &  &  &  &  &  &  &  &  &  &  &  &  &  &  &  &  &  &  &  &  &  &  &  &  &  &  &  &  &  &  &  &  &  &  &  &  &  &  &  &  &  &  &  &  &  &  &  &  &  &  &  &  &  &  &  &  &  &  &  &  &  &  &  &  &  &  &  &  &  &  &  &  &  &  &  &  &  &  &  &  &  &  &  &  &  &  &  &  &  &  &  &  &  &  &  &  &  &  &  &  &  &  &  &  &  &  &  &  &  &  &  &  &  &  &  &  &  &  &  &  &  &  &  &  &  &  &  &  &  &  &  &  &  &  &  &  &  &  &  &  &  &  &  &  &  &  &  &  &  &  &  &  &  &  &  &  &  &  &  &  &  &  &  &  &  &  &  &  &  &  &  &  &  &  &  &  &  &  &  &  &  &  &  &  &  &  &  &  &  &  &  &  &  &  &  &  &  &  &  &  &  &  &  &  &  &  &  &  &  &  &  &  &  &  &  &  &  &  &  &  &  &  &  &  &  &  &  &  &  &  &  &  &  &  &  &  &  &  &  &  &  &  &  &  &  &  &  &  &  &  &  &  &  &  &  &  &  &  &  &  &  &  &  &  &  &  &  &  &  &  &  &  &  &  &  &  &  &  &  &  &  &  &  &  &  &  &  &  &  &  &  &  &  &  &  &  &  &  &  &  &  &  &  &  &  &  &  &  &  &  &  &  &  &  &  &  &  &  &  &  &  &  &  &  &  &  &  &  &  &  &  &  &  &  &  &  &  &  &  &  &  &  &  &  &  &  &  &  &  &  &  &  &  &  &  &  &  &  &  &  &  &  &  &  &  &  &  &  &  &  &  &  &  &  &  &  &  &  &  &  &  &  &  &  &  &  &  &  &  &  &  &  &  &  &  &  &  &  &  &  &  &  &  &  &  &  &  &  &  &  &  &  &  &  &  &  &  &  &  &  &  &  &  &  &  &  &  &  &  &  &  &  &  &  &  &  &  &  &  &  &  &  &  &  &  &  &  &  &  &  &  &  &  &  &  &  &  &  &  &  &  &  &  &  &  &  &  &  &  &  &  &  &  &  &  &  &  &  &  &  &  &  &  &  &  &  &  &  &  &  &  &  &  &  &  &  &  &  &  &  &  &  &  &  &  &  &  &  &  &  &  &  &  &  &  &  &  &  &  &  &  &  &  &  &  &  &  &  &  &  &  &  &  &  &  &  &  &  &  &  &  &  &  &  &  &  &  &  &  &  &  &  &  &  &  &  &  &  &  &  &  &  &  &  &  &  &  &  &  &  &  &  &  &  &  &  &  &  &  &  &  &  &  &  &  &  &  &  &  &  &  &  &  &  &  &  &  &  &  &  &  &  &  &  &  &  &  &  &  &  &  &  &  &  &  &  &  &  &  &  &  &  &  &  &  &  &  &  &  &  &  &  &  &  &  &  &  &  &  &  &  &  &  &  &  &  &  &  &  &  &  &  &  &  &  &  &  &  &  &  &  &  &  &  &  &  &  &  &  &  &  &  &  &  &  &  &  &  &  &  &  &  &  &  &  &  &  &  &  &  &  &  &  &  &  &  &  &  &  &  &  &  &  &  &  &  &  &  &  &  &  &  &  &  &  &  &  &  &  &  &  &  &  &  &  &  &  &  &  &  &  &  &  &  &  &  &  &  &  &  &  &  &  &  &  &  &  &  &  &  &  &  &  &  &  &  &  &  &  &  &  &  &  &  &  &  &  &  &  &  &  &  &  &  &  &  &  &  &  &  &  &  &  &  &  &  &  &  &  &  &  &  &  &  &  &  &  &  &  &  &  &  &  &  &  &  &  &  &  &  &  &  &  &  &  &  &  &  &  &  &  &  &  &  &  &  &  &  &  &  &  &  &  &  &  &  &  &  &  &  &  &  &  &  &  &  &  &  &  &  &  &  &  &  &  &  &  &  &  &  &  &  &  &  &  &  &  &  &  &  &  &  &  &  &  &  &  &  &  &  &  &  &  &  &  &  &  &  &  &  &  &  &  &  &  &  &  &  &  &  &  &  &  &  &  &  &  &  &  &  &  &  &  &  &  &  &  &  &  &  &  &  &  &  &  &  &  &  &  &  &  &  &  &  &  &  &  &  &  &  &  &  &  &  &  &  &  &  &  &  &  &  &  &  &  &  &  &  &  &  &  &  &  &  &  &  &  &  &  &  &  &  &  &  &  &  &  &  &  &  &  &  &  &  &  &  &  &  &  &  &  &  &  &  &  &  &  &  &  &  &  &  &  &  &  &  &  &  &  &  &  &  &  &  &  &  &  &  &  &  &  &  &  &  &  &  &  &  &  &  &  &  &  &  &  &  &  &  &  &  &  &  &  &  &  &  &  &  &  &  &  &  &  &  &  &  &  &  &  &  &  &  &  &  &  &  &  &  &  &  &  &  &  &  &  &  &  &  &  &  &  &  &  &  &  &  &  &  &  &  &  &  &  &  &  &  &  &  &  &  &  &  &  &  &  &  &  &  &  &  &  &  &  &  &  &  &  &  &  &  &  &  &  &  &  &  &  &  &  &  &  &  &  &  &  &  &  &  &  &  &  &  &  &  &  &  &  &  &  &  &  &  &  &  &  &  &  &  &  &  &  &  &  &  &  &  &  &  &  &  &  &  &  &  &  &  &  &  &  &  &  &  &  &  &  &  &  &  &  &  &  &  &  &  &  &  &  &  &  &  &  &  &  &  &  &  &  &  &  &  &  &  &  &  &  &  &  &  &  &  &  &  &  &  &  &  &  &  &  &  &  &  &  &  &  &  &  &  &  &  &  &  &  &  &  &  &  &  &  &  &  &  &  &  &  &  &  &  &  &  &  &  &  &  &  &  &  &  &  &  &  &  &  &  &  &  &  &  &  &  &  &  &  &  &  &  &  &  &  &  &  &  &  &  &  &  &  &  &  &  &  &  &  &  &  &  &  &  &  &  &  &  &  &  &  &  &  &  &  &  &  &  &  &  &  &  &  &  &  &  &  &  &  &  &  &  &  &  &  &  &  &  &  &  &  &  &  &  &  &  &  &  &  &  &  &  &  &  &  &  &  &  &  &  &  &  &  &  &  &  &  &  &  &  &  &  &  &  &  &  &  &  &  &  &  &  &  &  &  &  &  &  &  &  &  &  &  &  &  &  &  &  &  &  &  &  &  &  &  &  &  &  &  &  &  &  &  &  &  &  &  &  &  &  &  &  &  &  &  &  &  &  &  &  &  &  &  &  &  &  &  &  &  &  &  &  &  &  &  &  &  &  &  &  &  &  &  &  &  &  &  &  &  &  &  &  &  &  &  &  &  &  &  &  &  &  &  &  &  &  &  &  &  &  &  &  &  &  &  &  &  &  &  &  &  &  &  &  &  &  &  &  &  &  &  &  &  &  &  &  &  &  &  &  &  &  &  &  &  &  &  &  &  &  &  &  &  &  &  &  &  &  &  &  &  &  &  &  &  &  &  &  &  &  &  &  &  &  &  &  &  &  &  &  &  &  &  &  &  &  &  &  &  &  &  &  &  &  &  &  &  &  &  &  &  &  &  &  &  &  &  &  &  &  &  &  &  &  &  &  &  &  &  &  &  &  &  &  &  &  &  &  & \\end{pmatrix}\\ \\frac{\\mathrm{gram}}{\\left(\\mathrm{meter}^{3} \\cdot \\mathrm{second}\\right)}$"
      ],
      "text/plain": [
       "array([ 2.82307078e-05, -1.14055443e-04,  1.01056349e-04, ...,\n",
       "       -1.45003500e-03, -7.24128043e-04, -5.95226140e-05]) <Unit('gram / meter ** 3 / second')>"
      ]
     },
     "metadata": {},
     "output_type": "display_data"
    }
   ],
   "source": [
    "total_lateral_divergence = (\n",
    "    face1_projected_flux*A1 + \n",
    "    face2_projected_flux*A2 + \n",
    "    face3_projected_flux*A3\n",
    ") / VOLUME\n",
    "display(total_lateral_divergence)\n",
    "\n",
    "total_vertical_divergence = (face4_projected_flux*A4 + face5_projected_flux*A5) / VOLUME\n",
    "display(total_vertical_divergence)\n",
    "\n",
    "total_divergence = total_lateral_divergence + total_vertical_divergence\n",
    "display(total_divergence)"
   ]
  },
  {
   "cell_type": "markdown",
   "metadata": {},
   "source": [
    "### Add to dataset"
   ]
  },
  {
   "cell_type": "code",
   "execution_count": 150,
   "metadata": {},
   "outputs": [],
   "source": [
    "pivot_df['total_turb_lateral_divergence (g/s)'] = total_lateral_divergence\n",
    "pivot_df['total_turb_vertical_divergence (g/s)'] = total_vertical_divergence\n",
    "pivot_df['total_turb_divergence (g/s)'] = total_divergence"
   ]
  },
  {
   "cell_type": "markdown",
   "metadata": {},
   "source": [
    "## Calculate advective divergence"
   ]
  },
  {
   "cell_type": "code",
   "execution_count": 151,
   "metadata": {},
   "outputs": [],
   "source": [
    "abs_humidity_3m = pivot_df['specifichumidity_3m_c'].values * units('g/g') * pivot_df['airdensity_3m_c'].values * units(\"kg/m^3\")\n",
    "abs_humidity_10m = pivot_df['specifichumidity_10m_c'].values * units('g/g') * pivot_df['airdensity_10m_c'].values * units(\"kg/m^3\")\n",
    "\n",
    "# make the u components negative, which is necessary \n",
    "#   for the coord. system we are working in\n",
    "\n",
    "advective_flux_u_3m_ue = pivot_df['u_3m_ue'].values * units('m/s') * abs_humidity_3m\n",
    "advective_flux_v_3m_ue = pivot_df['v_3m_ue'].values * units('m/s') * abs_humidity_3m\n",
    "advective_flux_u_10m_ue = pivot_df['u_10m_ue'].values * units('m/s') * abs_humidity_10m\n",
    "advective_flux_v_10m_ue = pivot_df['v_10m_ue'].values * units('m/s') * abs_humidity_10m\n",
    "\n",
    "advective_flux_u_3m_uw = pivot_df['u_3m_uw'].values * units('m/s') * abs_humidity_3m\n",
    "advective_flux_v_3m_uw = pivot_df['v_3m_uw'].values * units('m/s') * abs_humidity_3m\n",
    "advective_flux_u_10m_uw = pivot_df['u_10m_uw'].values * units('m/s') * abs_humidity_10m\n",
    "advective_flux_v_10m_uw = pivot_df['v_10m_uw'].values * units('m/s') * abs_humidity_10m\n",
    "\n",
    "advective_flux_u_3m_d = pivot_df['u_3m_d'].values * units('m/s') * abs_humidity_3m\n",
    "advective_flux_v_3m_d = pivot_df['v_3m_d'].values * units('m/s') * abs_humidity_3m\n",
    "advective_flux_u_10m_d = pivot_df['u_10m_d'].values * units('m/s') * abs_humidity_10m\n",
    "advective_flux_v_10m_d = pivot_df['v_10m_d'].values * units('m/s') * abs_humidity_10m\n",
    "\n",
    "advective_flux_w_3m_ue = pivot_df['w_3m_ue'].values * units('m/s') * abs_humidity_3m\n",
    "advective_flux_w_3m_uw = pivot_df['w_3m_uw'].values * units('m/s') * abs_humidity_3m\n",
    "advective_flux_w_3m_d = pivot_df['w_3m_d'].values * units('m/s') * abs_humidity_3m\n",
    "advective_flux_w_3m_c = pivot_df['w_3m_c'].values * units('m/s') * abs_humidity_3m\n",
    "\n",
    "advective_flux_w_10m_ue = pivot_df['w_10m_ue'].values * units('m/s') * abs_humidity_10m\n",
    "advective_flux_w_10m_uw = pivot_df['w_10m_uw'].values * units('m/s') * abs_humidity_10m\n",
    "advective_flux_w_10m_d = pivot_df['w_10m_d'].values * units('m/s') * abs_humidity_10m\n",
    "advective_flux_w_10m_c = pivot_df['w_10m_c'].values * units('m/s') * abs_humidity_10m"
   ]
  },
  {
   "cell_type": "code",
   "execution_count": 152,
   "metadata": {},
   "outputs": [],
   "source": [
    "face1_avg_u_flux = 0.25*(\n",
    "    advective_flux_u_3m_uw +\n",
    "    advective_flux_u_10m_uw + \n",
    "    advective_flux_u_3m_d +\n",
    "    advective_flux_u_10m_d\n",
    ") \n",
    "face1_avg_v_flux = 0.25*(\n",
    "    advective_flux_v_3m_uw +\n",
    "    advective_flux_v_10m_uw + \n",
    "    advective_flux_v_3m_d +\n",
    "    advective_flux_v_10m_d\n",
    ") \n",
    "\n",
    "face2_avg_u_flux = 0.25*(\n",
    "    advective_flux_u_3m_ue +\n",
    "    advective_flux_u_10m_ue + \n",
    "    advective_flux_u_3m_d +\n",
    "    advective_flux_u_10m_d\n",
    ") \n",
    "face2_avg_v_flux = 0.25*(\n",
    "    advective_flux_v_3m_ue +\n",
    "    advective_flux_v_10m_ue + \n",
    "    advective_flux_v_3m_d +\n",
    "    advective_flux_v_10m_d\n",
    ") \n",
    "\n",
    "face3_avg_u_flux = 0.25*(\n",
    "    advective_flux_u_3m_uw +\n",
    "    advective_flux_u_10m_uw + \n",
    "    advective_flux_u_3m_ue +\n",
    "    advective_flux_u_10m_ue\n",
    ") \n",
    "face3_avg_v_flux = 0.25*(\n",
    "    advective_flux_v_3m_uw +\n",
    "    advective_flux_v_10m_uw + \n",
    "    advective_flux_v_3m_ue +\n",
    "    advective_flux_v_10m_ue\n",
    ") \n",
    "\n",
    "# face 5\n",
    "face5_adv_flux = - 0.25*(\n",
    "    advective_flux_w_3m_ue + \n",
    "    advective_flux_w_3m_uw + \n",
    "    advective_flux_w_3m_d + \n",
    "    advective_flux_w_3m_c\n",
    ")\n",
    "\n",
    "# face 4\n",
    "face4_adv_flux = 0.25*(\n",
    "    advective_flux_w_10m_ue + \n",
    "    advective_flux_w_10m_uw + \n",
    "    advective_flux_w_10m_d + \n",
    "    advective_flux_w_10m_c\n",
    ")"
   ]
  },
  {
   "cell_type": "code",
   "execution_count": 153,
   "metadata": {},
   "outputs": [],
   "source": [
    "face1_avg_adv_flux = np.array([\n",
    "    face1_avg_u_flux,\n",
    "    face1_avg_v_flux\n",
    "]).T * face1_avg_v_flux.units\n",
    "\n",
    "face2_avg_adv_flux = np.array([\n",
    "    face2_avg_u_flux,\n",
    "    face2_avg_v_flux\n",
    "]).T * face1_avg_v_flux.units\n",
    "\n",
    "face3_avg_adv_flux = np.array([\n",
    "    face3_avg_u_flux,\n",
    "    face3_avg_v_flux\n",
    "]).T * face1_avg_v_flux.units"
   ]
  },
  {
   "cell_type": "code",
   "execution_count": 154,
   "metadata": {},
   "outputs": [],
   "source": [
    "face1_projected_adv_flux = np.dot(face1_avg_adv_flux, n1)\n",
    "face2_projected_adv_flux = np.dot(face2_avg_adv_flux, n2)\n",
    "face3_projected_adv_flux = np.dot(face3_avg_adv_flux, n3)"
   ]
  },
  {
   "cell_type": "code",
   "execution_count": 155,
   "metadata": {},
   "outputs": [
    {
     "data": {
      "text/html": [
       "<table><tbody><tr><th>Magnitude</th><td style='text-align:left;'><pre>[8.436020090619281e-06 3.3832412549947983e-06 4.101087464417333e-06 ...<br> 3.5131609181143416e-05 6.193187096904424e-05 4.404962958670482e-05]</pre></td></tr><tr><th>Units</th><td style='text-align:left;'>kilogram/(meter<sup>3</sup> second)</td></tr></tbody></table>"
      ],
      "text/latex": [
       "$\\begin{pmatrix} &  &  &  &  &  &  &  &  &  &  &  &  &  &  &  &  &  &  &  &  &  &  &  &  &  &  &  &  &  &  &  &  &  &  &  &  &  &  &  &  &  &  &  &  &  &  &  &  &  &  &  &  &  &  &  &  &  &  &  &  &  &  &  &  &  &  &  &  &  &  &  &  &  &  &  &  &  &  &  &  &  &  &  &  &  &  &  &  &  &  &  &  &  &  &  &  &  &  &  &  &  &  &  &  &  &  &  &  &  &  &  &  &  &  &  &  &  &  &  &  &  &  &  &  &  &  &  &  &  &  &  &  &  &  &  &  &  &  &  &  &  &  &  &  &  &  &  &  &  &  &  &  &  &  &  &  &  &  &  &  &  &  &  &  &  &  &  &  &  &  &  &  &  &  &  &  &  &  &  &  &  &  &  &  &  &  &  &  &  &  &  &  &  &  &  &  &  &  &  &  &  &  &  &  &  &  &  &  &  &  &  &  &  &  &  &  &  &  &  &  &  &  &  &  &  &  &  &  &  &  &  &  &  &  &  &  &  &  &  &  &  &  &  &  &  &  &  &  &  &  &  &  &  &  &  &  &  &  &  &  &  &  &  &  &  &  &  &  &  &  &  &  &  &  &  &  &  &  &  &  &  &  &  &  &  &  &  &  &  &  &  &  &  &  &  &  &  &  &  &  &  &  &  &  &  &  &  &  &  &  &  &  &  &  &  &  &  &  &  &  &  &  &  &  &  &  &  &  &  &  &  &  &  &  &  &  &  &  &  &  &  &  &  &  &  &  &  &  &  &  &  &  &  &  &  &  &  &  &  &  &  &  &  &  &  &  &  &  &  &  &  &  &  &  &  &  &  &  &  &  &  &  &  &  &  &  &  &  &  &  &  &  &  &  &  &  &  &  &  &  &  &  &  &  &  &  &  &  &  &  &  &  &  &  &  &  &  &  &  &  &  &  &  &  &  &  &  &  &  &  &  &  &  &  &  &  &  &  &  &  &  &  &  &  &  &  &  &  &  &  &  &  &  &  &  &  &  &  &  &  &  &  &  &  &  &  &  &  &  &  &  &  &  &  &  &  &  &  &  &  &  &  &  &  &  &  &  &  &  &  &  &  &  &  &  &  &  &  &  &  &  &  &  &  &  &  &  &  &  &  &  &  &  &  &  &  &  &  &  &  &  &  &  &  &  &  &  &  &  &  &  &  &  &  &  &  &  &  &  &  &  &  &  &  &  &  &  &  &  &  &  &  &  &  &  &  &  &  &  &  &  &  &  &  &  &  &  &  &  &  &  &  &  &  &  &  &  &  &  &  &  &  &  &  &  &  &  &  &  &  &  &  &  &  &  &  &  &  &  &  &  &  &  &  &  &  &  &  &  &  &  &  &  &  &  &  &  &  &  &  &  &  &  &  &  &  &  &  &  &  &  &  &  &  &  &  &  &  &  &  &  &  &  &  &  &  &  &  &  &  &  &  &  &  &  &  &  &  &  &  &  &  &  &  &  &  &  &  &  &  &  &  &  &  &  &  &  &  &  &  &  &  &  &  &  &  &  &  &  &  &  &  &  &  &  &  &  &  &  &  &  &  &  &  &  &  &  &  &  &  &  &  &  &  &  &  &  &  &  &  &  &  &  &  &  &  &  &  &  &  &  &  &  &  &  &  &  &  &  &  &  &  &  &  &  &  &  &  &  &  &  &  &  &  &  &  &  &  &  &  &  &  &  &  &  &  &  &  &  &  &  &  &  &  &  &  &  &  &  &  &  &  &  &  &  &  &  &  &  &  &  &  &  &  &  &  &  &  &  &  &  &  &  &  &  &  &  &  &  &  &  &  &  &  &  &  &  &  &  &  &  &  &  &  &  &  &  &  &  &  &  &  &  &  &  &  &  &  &  &  &  &  &  &  &  &  &  &  &  &  &  &  &  &  &  &  &  &  &  &  &  &  &  &  &  &  &  &  &  &  &  &  &  &  &  &  &  &  &  &  &  &  &  &  &  &  &  &  &  &  &  &  &  &  &  &  &  &  &  &  &  &  &  &  &  &  &  &  &  &  &  &  &  &  &  &  &  &  &  &  &  &  &  &  &  &  &  &  &  &  &  &  &  &  &  &  &  &  &  &  &  &  &  &  &  &  &  &  &  &  &  &  &  &  &  &  &  &  &  &  &  &  &  &  &  &  &  &  &  &  &  &  &  &  &  &  &  &  &  &  &  &  &  &  &  &  &  &  &  &  &  &  &  &  &  &  &  &  &  &  &  &  &  &  &  &  &  &  &  &  &  &  &  &  &  &  &  &  &  &  &  &  &  &  &  &  &  &  &  &  &  &  &  &  &  &  &  &  &  &  &  &  &  &  &  &  &  &  &  &  &  &  &  &  &  &  &  &  &  &  &  &  &  &  &  &  &  &  &  &  &  &  &  &  &  &  &  &  &  &  &  &  &  &  &  &  &  &  &  &  &  &  &  &  &  &  &  &  &  &  &  &  &  &  &  &  &  &  &  &  &  &  &  &  &  &  &  &  &  &  &  &  &  &  &  &  &  &  &  &  &  &  &  &  &  &  &  &  &  &  &  &  &  &  &  &  &  &  &  &  &  &  &  &  &  &  &  &  &  &  &  &  &  &  &  &  &  &  &  &  &  &  &  &  &  &  &  &  &  &  &  &  &  &  &  &  &  &  &  &  &  &  &  &  &  &  &  &  &  &  &  &  &  &  &  &  &  &  &  &  &  &  &  &  &  &  &  &  &  &  &  &  &  &  &  &  &  &  &  &  &  &  &  &  &  &  &  &  &  &  &  &  &  &  &  &  &  &  &  &  &  &  &  &  &  &  &  &  &  &  &  &  &  &  &  &  &  &  &  &  &  &  &  &  &  &  &  &  &  &  &  &  &  &  &  &  &  &  &  &  &  &  &  &  &  &  &  &  &  &  &  &  &  &  &  &  &  &  &  &  &  &  &  &  &  &  &  &  &  &  &  &  &  &  &  &  &  &  &  &  &  &  &  &  &  &  &  &  &  &  &  &  &  &  &  &  &  &  &  &  &  &  &  &  &  &  &  &  &  &  &  &  &  &  &  &  &  &  &  &  &  &  &  &  &  &  &  &  &  &  &  &  &  &  &  &  &  &  &  &  &  &  &  &  &  &  &  &  &  &  &  &  &  &  &  &  &  &  &  &  &  &  &  &  &  &  &  &  &  &  &  &  &  &  &  &  &  &  &  &  &  &  &  &  &  &  &  &  &  &  &  &  &  &  &  &  &  &  &  &  &  &  &  &  &  &  &  &  &  &  &  &  &  &  &  &  &  &  &  &  &  &  &  &  &  &  &  &  &  &  &  &  &  &  &  &  &  &  &  &  &  &  &  &  &  &  &  &  &  &  &  &  &  &  &  &  &  &  &  &  &  &  &  &  &  &  &  &  &  &  &  &  &  &  &  &  &  &  &  &  &  &  &  &  &  &  &  &  &  &  &  &  &  &  &  &  &  &  &  &  &  &  &  &  &  &  &  &  &  &  &  &  &  &  &  &  &  &  &  &  &  &  &  &  &  &  &  &  &  &  &  &  &  &  &  &  &  &  &  &  &  &  &  &  &  &  &  &  &  &  &  &  &  &  &  &  &  &  &  &  &  &  &  &  &  &  &  &  &  &  &  &  &  &  &  &  &  &  &  &  &  &  &  &  &  &  &  &  &  &  &  &  &  &  &  &  &  &  &  &  &  &  &  &  &  &  &  &  &  &  &  &  &  &  &  &  &  &  &  &  &  &  &  &  &  &  &  &  &  &  &  &  &  &  &  &  &  &  &  &  &  &  &  &  &  &  &  &  &  &  &  &  &  &  &  &  &  &  &  &  &  &  &  &  &  &  &  &  &  &  &  &  &  &  &  &  &  &  &  &  &  &  &  &  &  &  &  &  &  &  &  &  &  &  &  &  &  &  &  &  &  &  &  &  &  &  &  &  &  &  &  &  &  &  &  &  &  &  &  &  &  &  &  &  &  &  &  &  &  &  &  &  &  &  &  &  &  &  &  &  &  &  &  &  &  &  &  &  &  &  &  &  &  &  &  &  &  &  &  &  &  &  &  &  &  &  &  &  &  &  &  &  &  &  &  &  &  &  &  &  &  &  &  &  &  &  &  &  &  &  &  &  &  &  &  &  &  &  &  &  &  &  &  &  &  &  &  &  &  &  &  &  &  &  &  &  &  &  &  &  &  &  &  &  &  &  &  &  &  &  &  &  &  &  &  &  &  &  &  &  &  &  &  &  &  &  &  &  &  &  &  &  &  &  &  &  &  &  &  &  &  &  &  &  &  &  &  &  &  &  &  &  &  &  &  &  &  &  &  &  &  &  &  &  &  &  &  &  &  &  &  &  &  &  &  &  &  &  &  &  &  &  &  &  &  &  &  &  &  &  &  &  &  &  &  &  &  &  &  &  &  &  &  &  &  &  &  &  &  &  &  &  &  &  &  &  &  &  &  &  &  &  &  &  &  &  &  &  &  &  &  &  &  &  &  &  &  &  &  &  &  &  &  &  &  &  &  &  &  &  &  &  &  &  &  &  &  &  &  &  &  &  &  &  &  &  &  &  &  &  &  &  &  &  &  &  &  &  &  &  &  &  &  &  &  &  &  &  &  &  &  &  &  &  &  &  &  &  &  &  &  &  &  &  &  &  &  &  &  &  &  &  &  &  &  &  &  &  &  &  &  &  &  &  &  &  &  &  &  &  &  &  &  &  &  &  &  &  &  &  &  &  &  &  &  &  &  &  &  &  &  &  &  &  &  &  &  &  &  &  &  &  &  &  &  &  &  &  &  &  &  &  &  &  &  &  &  &  &  &  &  &  &  &  &  &  &  &  &  &  &  &  &  &  &  &  &  &  &  &  &  &  &  &  &  &  &  &  &  &  &  &  &  &  &  &  &  &  &  &  &  &  &  &  &  &  &  &  &  &  &  &  &  &  &  &  &  &  &  &  &  &  &  &  &  &  &  &  &  &  &  &  &  &  &  &  &  &  &  &  &  &  &  &  &  &  &  &  &  &  &  &  &  &  &  &  &  &  &  &  &  &  &  &  &  &  &  &  &  &  &  &  &  &  &  &  &  &  &  &  &  &  &  &  &  &  &  &  &  &  &  &  &  &  &  &  &  &  &  &  &  &  &  &  &  &  &  &  &  &  &  &  &  &  &  &  &  &  &  &  &  &  &  &  &  &  &  &  &  &  &  &  &  &  &  &  &  &  &  &  &  &  &  &  &  &  &  &  &  &  &  &  &  &  &  &  &  &  &  &  &  &  &  &  &  &  &  &  &  &  &  &  &  &  &  &  &  &  &  &  &  &  &  &  &  &  &  &  &  &  &  &  &  &  &  &  &  &  &  &  &  &  &  &  &  &  &  &  &  &  &  &  &  &  &  &  &  &  &  &  &  &  &  &  &  &  &  &  &  &  &  &  &  &  &  &  &  &  &  &  &  &  &  &  &  &  &  &  &  &  &  &  &  &  &  &  &  &  &  &  &  &  &  &  &  &  &  &  &  &  &  &  &  &  &  &  &  &  &  &  &  &  &  &  &  &  &  &  &  &  &  &  &  &  &  &  &  &  &  &  &  &  &  &  &  &  &  &  &  &  &  &  &  &  &  &  &  &  &  &  &  &  &  &  &  &  &  &  &  &  &  &  &  &  &  &  &  &  &  &  &  &  &  &  &  &  &  &  &  &  &  &  &  &  &  &  &  &  &  &  &  &  &  &  &  &  &  &  &  &  &  &  &  &  &  &  &  &  &  &  &  &  &  &  &  &  &  &  &  &  &  &  &  &  &  &  &  &  &  &  &  &  &  &  &  &  &  &  &  &  &  &  &  &  &  &  &  &  &  &  &  &  &  &  &  &  &  &  &  &  &  &  &  &  &  &  &  &  &  &  &  &  &  &  &  &  &  &  &  &  &  &  &  &  &  &  &  &  &  &  &  &  &  &  &  &  &  &  &  &  &  &  &  &  &  &  &  &  &  &  &  &  &  &  &  &  &  &  &  &  &  &  &  &  &  &  &  &  &  &  &  &  &  &  &  &  &  &  &  &  &  &  &  &  &  &  &  &  &  &  &  &  &  &  &  &  &  &  &  &  &  &  &  &  &  &  &  &  &  &  &  &  &  &  &  &  &  &  &  &  &  &  &  &  &  &  &  &  &  &  &  &  &  &  &  &  &  &  &  &  &  &  &  &  &  &  &  &  &  &  &  &  &  &  &  &  &  &  &  &  &  &  &  &  &  &  &  &  &  &  &  &  &  &  &  &  &  &  &  &  &  &  &  &  &  &  &  &  &  &  &  &  &  &  &  &  &  &  &  &  &  &  &  &  &  &  &  &  &  &  &  &  &  &  &  &  &  &  &  &  &  &  &  &  &  &  &  &  &  &  &  &  &  &  &  &  &  &  &  &  &  &  &  &  &  &  &  &  &  &  &  &  &  &  &  &  &  &  &  &  &  &  &  &  &  &  &  &  &  &  &  &  &  &  &  &  &  &  &  &  &  &  &  &  &  &  &  &  &  &  &  &  &  &  &  &  &  &  &  &  &  &  &  &  &  &  &  &  &  &  &  &  &  &  &  &  &  &  &  &  &  &  &  &  &  &  &  &  &  &  &  &  &  &  &  &  &  &  &  &  &  &  &  &  &  &  &  &  &  &  &  &  &  &  &  &  &  &  &  &  &  &  &  &  &  &  &  &  &  &  &  &  &  &  &  &  &  &  &  &  &  &  &  &  &  &  &  &  &  &  &  &  &  &  &  &  &  &  &  &  &  &  &  &  &  &  &  &  &  &  &  &  &  &  &  &  &  &  &  &  &  &  &  &  &  &  &  &  &  &  &  &  &  &  &  &  &  &  &  &  &  &  &  &  &  &  &  &  &  &  &  &  &  &  &  &  &  &  &  &  &  &  &  &  &  &  &  &  &  &  &  &  &  &  &  &  &  &  &  &  &  &  &  &  &  &  &  &  &  &  &  &  &  &  &  &  &  &  &  &  &  &  &  &  &  &  &  &  &  &  &  &  &  &  &  &  &  &  &  &  &  &  &  &  &  &  &  &  &  &  &  &  &  &  &  &  &  &  &  &  &  &  &  &  &  &  &  &  &  &  &  &  &  &  &  &  &  &  &  &  &  &  &  &  &  &  &  &  &  &  &  &  &  &  &  &  &  &  &  &  &  &  &  &  &  &  &  &  &  &  &  &  &  &  &  &  &  &  &  &  &  &  &  &  &  &  &  &  &  &  &  &  &  &  &  &  &  &  &  &  &  &  &  &  &  &  &  &  &  &  &  &  &  &  &  &  &  &  &  &  &  &  &  &  &  &  &  &  &  &  &  &  &  &  &  &  &  &  &  &  &  &  &  &  &  &  &  &  &  &  &  &  &  &  &  &  &  &  &  &  &  &  &  &  &  &  &  &  &  &  &  &  &  &  &  &  &  &  &  &  &  &  &  &  &  &  &  &  &  &  &  &  &  &  &  &  &  &  &  &  &  &  &  &  &  &  &  &  &  &  &  &  &  &  &  &  &  &  &  &  &  &  &  &  &  &  &  &  &  &  &  &  &  &  &  &  &  &  &  &  &  &  &  &  &  &  &  &  &  &  &  &  &  &  &  &  &  &  &  &  &  &  &  &  &  &  &  &  &  &  &  &  &  &  &  &  &  &  &  &  &  &  &  &  &  &  &  &  &  &  &  &  &  &  &  &  &  &  &  &  &  &  &  &  &  &  &  &  &  &  &  &  &  &  &  &  &  &  &  &  &  &  &  &  &  &  &  &  &  &  &  &  &  &  &  &  &  &  &  &  &  &  &  &  &  &  &  &  &  &  &  &  &  &  &  &  &  &  &  &  &  &  &  &  &  &  &  &  &  &  &  &  &  &  &  &  &  &  &  &  &  &  &  &  &  &  &  &  &  &  &  &  &  &  &  &  &  &  &  &  &  &  &  &  &  &  &  &  &  &  &  &  &  &  &  &  &  &  &  &  &  &  &  &  &  &  &  &  &  &  &  &  &  &  &  &  &  &  &  &  &  &  &  &  &  &  &  &  &  &  &  &  &  &  &  &  &  &  &  &  &  &  &  &  &  &  &  &  &  &  &  &  &  &  &  &  &  &  &  &  &  &  &  &  &  &  &  &  &  &  &  &  &  &  &  &  &  &  &  &  &  &  &  &  &  &  &  &  &  &  &  &  &  &  &  &  &  &  &  &  &  &  &  &  &  &  &  &  &  &  &  &  &  &  &  &  &  &  &  &  &  &  &  &  &  &  &  &  &  &  &  &  &  &  &  &  &  &  &  &  &  &  &  &  &  &  &  &  &  &  &  &  &  &  &  &  &  &  &  &  &  &  &  &  &  &  &  &  &  &  &  &  &  &  &  &  &  &  &  &  &  &  &  &  &  &  &  &  &  &  &  &  &  &  &  &  &  &  &  &  &  &  &  &  &  &  &  &  &  &  &  &  &  &  &  &  &  &  &  &  &  &  &  &  &  &  &  &  &  &  &  &  &  &  &  &  &  &  &  &  &  &  &  &  &  &  &  &  &  &  &  &  &  &  &  &  &  &  &  &  &  &  &  &  &  &  &  &  &  &  &  &  &  &  &  &  &  &  &  &  &  &  &  &  &  &  &  &  &  &  &  &  &  &  &  &  &  &  &  &  &  &  &  &  &  &  &  &  &  &  &  &  &  &  &  &  &  &  &  &  &  &  &  &  &  &  &  &  &  &  &  &  &  &  &  &  &  &  &  &  &  &  &  &  &  &  &  &  &  &  &  &  &  &  &  &  &  &  &  &  &  &  &  &  &  &  &  &  &  &  &  &  &  &  &  &  &  &  &  &  &  &  &  &  &  &  &  &  &  &  &  &  &  &  &  &  &  &  &  &  &  &  &  &  &  &  &  &  &  &  &  &  &  &  &  &  &  &  &  &  &  &  &  &  &  &  &  &  &  &  &  &  &  &  &  &  &  &  &  &  &  &  &  &  &  &  &  &  &  &  &  &  &  &  &  &  &  &  &  &  &  &  &  &  &  &  &  &  &  &  &  &  &  &  &  &  &  &  &  &  &  &  &  &  &  &  &  &  &  &  &  &  &  &  &  &  &  &  &  &  &  &  &  &  &  &  &  &  &  &  &  &  &  &  &  &  &  &  &  &  &  &  &  &  &  &  &  &  &  &  &  &  &  &  &  &  &  &  &  &  &  &  &  &  &  &  &  &  &  &  &  &  &  &  &  &  &  &  &  &  &  &  &  &  &  &  &  &  &  &  &  &  &  &  &  &  &  &  &  &  &  &  &  &  &  &  &  &  &  &  &  &  &  &  &  &  &  &  &  &  &  &  &  &  &  &  &  &  &  &  &  &  &  &  &  &  &  &  &  &  &  &  &  &  &  &  &  &  &  &  &  &  &  &  &  &  &  &  &  &  &  &  &  &  &  &  &  &  &  &  &  &  &  &  &  &  &  &  &  &  &  &  &  &  &  &  &  &  &  &  &  &  &  &  &  &  &  &  &  &  &  &  &  &  &  &  &  &  &  &  &  &  &  &  &  &  &  &  &  &  &  &  &  &  &  &  &  &  &  &  &  &  &  &  &  &  &  &  &  &  &  &  &  &  &  &  &  &  &  &  &  &  &  &  &  &  &  &  &  &  &  &  &  &  &  &  &  &  &  &  &  &  &  &  &  &  &  &  &  &  &  &  &  &  &  &  &  &  &  &  &  &  &  &  &  &  &  &  &  &  &  &  &  &  &  &  &  &  &  &  &  &  &  &  &  &  &  &  &  &  &  &  &  &  &  &  &  &  &  &  &  &  &  &  &  &  &  &  &  &  &  &  &  &  &  &  &  &  &  &  &  &  &  &  &  &  &  &  &  &  &  &  &  &  &  &  &  &  &  &  &  &  &  &  &  &  &  &  &  &  &  &  &  &  &  &  &  &  &  &  &  &  &  &  &  &  &  &  &  &  &  &  &  &  &  &  &  &  &  &  &  &  &  &  &  &  &  &  &  &  &  &  &  &  &  &  &  &  &  &  &  &  &  &  &  &  &  &  &  &  &  &  &  &  &  &  &  &  &  &  &  &  &  &  &  &  &  &  &  &  &  &  &  &  &  &  &  &  &  &  &  &  &  &  &  &  &  &  &  &  &  &  &  &  &  &  &  &  &  &  &  &  &  &  &  &  &  &  &  &  &  &  &  &  &  &  &  &  &  &  &  &  &  &  &  &  &  &  &  &  &  &  &  &  &  &  &  &  &  &  &  &  &  &  &  &  &  &  &  &  &  &  &  &  &  &  &  &  &  &  &  &  &  &  &  &  &  &  &  &  &  &  &  &  &  &  &  &  &  &  &  &  &  &  &  &  &  &  &  &  &  &  &  &  &  &  &  &  &  &  &  &  &  &  &  &  &  &  &  &  &  &  &  &  &  &  &  &  &  &  &  &  &  &  &  &  &  &  &  &  &  &  &  &  &  &  &  &  &  &  &  &  &  &  &  &  &  &  &  &  &  &  &  &  &  &  &  &  &  &  &  &  &  &  &  &  &  &  &  &  &  &  &  &  &  &  &  &  &  &  &  &  &  &  &  &  &  &  &  &  &  &  &  &  &  &  &  &  &  &  &  &  &  &  &  &  &  &  &  &  &  &  &  &  &  &  &  &  &  &  &  &  &  &  &  &  &  &  &  &  &  &  &  &  &  &  &  &  &  &  &  &  &  &  &  &  &  &  &  &  &  &  &  &  &  &  &  &  &  &  &  &  &  &  &  &  &  &  &  &  &  &  &  &  &  &  &  &  &  &  &  &  &  &  &  &  &  &  &  &  &  &  &  &  &  &  &  &  &  &  &  &  &  &  &  &  &  &  &  &  &  &  &  &  &  &  &  &  &  &  &  &  &  &  &  &  &  &  &  &  &  &  &  &  &  &  &  &  &  &  &  &  &  &  &  &  &  &  &  &  &  &  &  &  &  &  &  &  &  &  &  &  &  &  &  &  &  &  &  &  &  &  &  &  &  &  &  &  &  &  &  &  &  &  &  &  &  &  &  &  &  &  &  &  &  &  &  &  &  &  &  &  &  &  &  &  &  &  &  &  &  &  &  &  &  &  &  &  &  &  &  &  &  &  &  &  &  &  &  &  &  &  &  &  &  &  &  &  &  &  &  &  &  &  &  &  &  &  &  &  &  &  &  &  &  &  &  &  &  &  &  &  &  &  &  &  &  &  &  &  &  &  &  &  &  &  &  &  &  &  &  &  &  &  &  &  &  &  &  &  &  &  &  &  &  &  &  &  &  &  &  &  &  &  &  &  &  &  &  &  &  &  &  &  &  &  &  &  &  &  &  &  &  &  &  &  &  &  &  &  &  &  &  &  &  &  &  &  &  &  &  &  &  &  &  &  &  &  &  &  &  &  &  &  &  &  &  &  &  &  &  &  &  &  &  &  &  &  &  &  &  &  &  &  &  &  &  &  &  &  &  &  &  &  &  &  &  &  &  &  &  &  &  &  &  &  &  &  &  &  &  &  &  &  &  &  &  &  &  &  &  &  &  &  &  &  &  &  &  &  &  &  &  &  &  &  &  &  &  &  &  &  &  &  &  &  &  &  &  &  &  &  &  &  &  &  &  &  &  &  &  &  &  &  &  &  &  &  &  &  &  &  &  &  &  &  &  &  &  &  &  &  &  &  &  &  &  &  &  &  &  &  &  &  &  &  &  &  &  &  &  &  &  &  &  &  &  &  &  &  &  &  &  &  &  &  &  &  &  &  &  &  &  &  &  &  &  &  &  &  &  &  &  &  &  &  &  &  &  &  &  &  &  &  &  &  &  &  &  &  &  &  &  &  &  &  &  &  &  &  &  &  &  &  &  &  &  &  &  &  &  &  &  &  &  &  &  &  &  &  &  &  &  &  &  &  &  &  &  &  &  &  &  &  &  &  &  &  &  &  &  &  &  &  &  &  &  &  &  &  &  &  &  &  &  &  &  &  &  &  &  &  &  &  &  &  &  &  &  &  &  &  &  &  &  &  &  &  &  &  &  &  &  &  &  &  &  &  &  &  &  &  &  &  &  &  &  &  &  &  &  &  &  &  &  &  &  &  &  &  &  &  &  &  &  &  &  &  &  &  &  &  &  &  &  &  &  &  &  &  &  &  &  &  &  &  &  &  &  &  &  &  &  &  &  &  &  &  &  &  &  &  &  &  &  &  &  &  &  &  &  &  &  &  &  &  &  &  &  &  &  &  &  &  &  &  &  &  &  &  &  &  &  &  &  &  &  &  &  &  &  &  &  &  &  &  &  &  &  &  &  &  &  &  &  &  &  &  &  &  &  &  &  &  &  &  &  &  &  &  &  &  &  &  &  &  &  &  &  &  &  &  &  &  &  &  &  &  &  &  &  &  &  &  &  &  &  &  &  &  &  &  &  &  &  &  &  &  &  &  &  &  &  &  &  &  &  &  &  &  &  &  &  &  &  &  &  &  &  &  &  &  &  &  &  &  &  &  &  &  &  &  &  &  &  &  &  &  &  &  &  &  &  &  &  &  &  &  &  &  &  &  &  &  &  &  &  &  &  &  &  &  &  &  &  &  &  &  &  &  &  &  &  &  &  &  &  &  &  &  &  &  &  &  &  &  &  &  &  &  &  &  &  &  &  &  &  &  &  &  &  &  &  &  &  &  &  &  &  &  &  &  &  &  &  &  &  &  &  &  &  &  &  &  &  &  &  &  &  &  &  &  &  &  &  &  &  &  &  &  &  &  &  &  &  &  &  &  &  &  &  &  &  &  &  &  &  &  &  &  &  &  &  &  &  &  &  &  &  &  &  &  &  &  &  &  &  &  &  &  &  &  &  &  &  &  &  &  &  &  &  &  &  &  &  &  &  &  &  &  &  &  &  &  &  &  &  &  &  &  &  &  &  &  &  &  &  &  &  &  &  &  &  &  &  &  &  &  &  &  &  &  &  &  &  &  &  &  &  &  &  &  &  &  &  &  &  &  &  &  &  &  &  &  &  &  &  &  &  &  &  &  &  &  &  &  &  &  &  &  &  &  &  &  &  &  &  &  &  &  &  &  &  &  &  &  &  &  &  &  &  &  &  &  &  &  &  &  &  &  &  &  &  &  &  &  &  &  &  &  &  &  &  &  &  &  &  &  &  &  &  &  &  &  &  &  &  &  &  &  &  &  &  &  &  &  &  &  &  &  &  &  &  &  &  &  &  &  &  &  &  &  &  &  &  &  &  &  &  &  &  &  &  &  &  &  &  &  &  &  &  &  &  &  &  &  &  &  &  &  &  &  &  &  &  &  &  &  &  &  &  &  &  &  &  &  &  &  &  &  &  &  &  &  &  &  &  &  &  &  &  &  &  &  &  &  &  &  &  &  &  &  &  &  &  &  &  &  &  &  &  &  &  &  &  &  &  &  &  &  &  &  &  &  &  &  &  &  &  &  &  &  &  &  &  &  &  &  &  &  &  &  &  &  &  &  &  &  &  &  &  &  &  &  &  &  &  &  &  &  &  &  &  &  &  &  &  &  &  &  &  &  &  &  &  &  &  &  &  &  &  &  &  &  &  &  &  &  &  &  &  &  &  &  &  &  &  &  &  &  &  &  &  &  &  &  &  &  &  &  &  &  &  &  &  &  &  &  &  &  &  &  &  &  &  &  &  &  &  &  &  &  &  &  &  &  &  &  &  &  &  &  &  &  &  &  &  &  &  &  &  &  &  &  &  &  &  &  &  &  &  &  &  &  &  &  &  &  &  &  &  &  &  &  &  &  &  &  &  &  &  &  &  &  &  &  &  &  &  &  &  &  &  &  &  &  &  &  &  &  &  &  &  &  &  &  &  &  &  &  &  &  &  &  &  &  &  &  &  &  &  &  &  &  &  &  &  &  &  &  &  &  &  &  &  &  &  &  &  &  &  &  &  &  &  &  &  &  &  &  &  &  &  &  &  &  &  &  &  &  &  &  &  &  &  &  &  &  &  &  &  &  &  &  &  &  &  &  &  &  &  &  &  &  &  &  &  &  &  &  &  &  &  &  &  &  &  &  &  &  &  &  &  &  &  &  &  &  &  &  &  &  &  &  &  &  &  &  &  &  &  &  &  &  &  &  &  &  &  &  &  &  &  &  &  &  &  &  &  &  &  &  &  &  &  &  &  &  &  &  &  &  &  &  &  &  &  &  &  &  &  &  &  &  &  &  &  &  &  &  &  &  &  &  &  &  &  &  &  &  &  &  &  &  &  &  &  &  &  &  &  &  &  &  &  &  &  &  &  &  &  &  &  &  &  &  &  &  &  &  &  &  &  &  &  &  &  &  &  &  &  &  &  &  &  &  &  &  &  &  &  &  &  &  &  &  &  &  &  &  &  &  &  &  &  &  &  &  &  &  &  &  &  &  &  &  &  &  &  &  &  &  &  &  &  &  &  &  &  &  &  &  &  &  &  &  &  &  &  &  &  &  &  &  &  &  &  &  &  &  &  &  &  &  &  &  &  &  &  &  &  &  &  &  &  &  &  &  &  &  &  &  &  &  &  &  &  &  &  &  &  &  &  &  &  &  &  &  &  &  &  &  &  &  &  &  &  &  &  &  &  &  &  &  &  &  &  &  &  &  &  &  &  &  &  &  &  &  &  &  &  &  &  &  &  &  &  &  &  &  &  &  &  &  &  &  &  &  &  &  &  &  &  &  &  &  &  &  &  &  &  &  &  &  &  &  &  &  &  &  &  &  &  &  &  &  &  &  &  &  &  &  &  &  &  &  &  &  &  &  &  &  &  &  &  &  &  &  &  &  &  &  &  &  &  &  &  &  &  &  &  &  &  &  &  &  &  &  &  &  &  &  &  &  &  &  &  &  &  &  &  &  &  &  &  &  &  &  &  &  &  &  &  &  &  &  &  &  &  &  &  &  &  &  &  &  &  &  &  &  &  &  &  &  &  &  &  &  &  &  &  &  &  &  &  &  &  &  &  &  &  &  &  &  &  &  &  &  &  &  &  &  &  &  &  &  &  &  &  &  &  &  &  &  &  &  &  &  &  &  &  &  &  &  &  &  &  &  &  &  &  &  &  &  &  &  &  &  &  &  &  &  &  &  &  &  &  &  &  &  &  &  &  &  &  &  &  &  &  &  &  &  &  &  &  &  &  &  &  &  &  &  &  &  &  &  &  &  &  &  &  &  &  &  &  &  &  &  &  &  &  &  &  &  &  &  &  &  &  &  &  &  &  &  &  &  &  &  &  &  &  &  &  &  &  &  &  &  &  &  &  &  &  &  &  &  &  &  &  &  &  &  &  &  &  &  &  &  &  &  &  &  &  &  &  &  &  &  &  &  &  &  &  &  &  &  &  &  &  &  &  &  &  &  &  &  &  &  &  &  &  &  &  &  &  &  &  &  &  &  &  &  &  &  &  &  &  &  &  &  &  &  &  &  &  &  &  &  &  &  &  &  &  &  &  &  &  &  &  &  &  &  &  &  &  &  &  &  &  &  &  &  &  &  &  &  &  &  &  &  &  &  &  &  &  &  &  &  &  &  &  &  &  &  &  &  &  &  &  &  &  &  &  &  &  &  &  &  &  &  &  &  &  &  &  &  &  &  &  &  &  &  &  &  &  &  &  &  &  &  &  &  &  &  &  &  &  &  &  &  &  &  &  &  &  &  &  &  &  &  &  &  &  &  &  &  &  &  &  &  &  &  &  &  &  &  &  &  &  &  &  &  &  &  &  &  &  &  &  &  &  &  &  &  &  &  &  &  &  &  &  &  &  &  &  &  &  &  &  &  &  &  &  &  &  &  &  &  &  &  &  &  &  &  &  &  &  &  &  &  &  &  &  &  &  &  &  &  &  &  &  &  &  &  &  &  &  &  &  &  &  &  &  &  &  &  &  &  &  &  &  &  &  &  &  &  &  &  &  &  &  &  &  &  &  &  &  &  &  &  &  &  &  &  &  &  &  &  &  &  &  &  &  &  &  &  &  &  &  &  &  &  &  &  &  &  &  &  &  &  &  &  &  &  &  &  &  &  &  &  &  &  &  &  &  &  &  &  &  &  &  &  &  &  &  &  &  &  &  &  &  &  &  &  &  &  &  &  &  &  &  &  &  &  &  &  &  &  &  &  &  &  &  &  &  &  &  &  &  &  &  &  &  &  &  &  &  &  &  &  &  &  &  &  &  &  &  &  &  &  &  &  &  &  &  &  &  &  &  &  &  &  &  &  &  &  &  &  &  &  &  &  &  &  &  &  &  &  &  &  &  &  &  &  &  &  &  &  &  &  &  &  &  &  &  &  &  &  &  &  &  &  &  &  &  &  &  &  &  &  &  &  &  &  &  &  &  &  &  &  &  &  &  &  &  &  &  &  &  &  &  &  &  &  &  &  &  &  &  &  &  &  &  &  &  &  &  &  &  &  &  &  &  &  &  &  &  &  &  &  &  &  &  &  &  &  &  &  &  &  &  &  &  &  &  &  &  &  &  &  &  &  &  &  &  &  &  &  &  &  &  &  &  &  &  &  &  &  &  &  &  &  &  &  &  &  &  &  &  &  &  &  &  &  &  &  &  &  &  &  &  &  &  &  &  &  &  &  &  &  &  &  &  &  &  &  &  &  &  &  &  &  &  &  &  &  &  &  &  &  &  &  &  &  &  &  &  &  &  &  &  &  &  &  &  &  &  &  &  &  &  &  &  &  &  &  &  &  &  &  &  &  &  &  &  &  &  &  &  &  &  &  &  &  &  &  &  &  &  &  &  &  &  &  &  &  &  &  &  &  &  &  &  &  &  &  &  &  &  &  &  &  &  &  &  &  &  &  &  &  &  &  &  &  &  &  &  &  &  &  &  &  &  &  &  &  &  &  &  &  &  &  &  &  &  &  &  &  &  &  &  &  &  &  &  &  &  &  &  &  &  &  &  &  &  &  &  &  &  &  &  &  &  &  &  &  &  &  &  &  &  &  &  &  &  &  &  &  &  &  &  &  &  &  &  &  &  &  &  &  &  &  &  &  &  &  &  &  &  &  &  &  &  &  &  &  &  &  &  &  &  &  &  &  &  &  &  &  &  &  &  &  &  &  &  &  &  &  &  &  &  &  &  &  &  &  &  &  &  &  &  &  &  &  &  &  &  &  &  &  &  &  &  &  &  &  &  &  &  &  &  &  &  &  &  &  &  &  &  &  &  &  &  &  &  &  &  &  &  &  &  &  &  &  &  &  &  &  &  &  &  &  &  &  &  &  &  &  &  &  &  &  &  &  &  &  &  &  &  &  &  &  &  &  &  &  &  &  &  &  &  &  &  &  &  &  &  &  &  &  &  &  & \\end{pmatrix}\\ \\frac{\\mathrm{kilogram}}{\\left(\\mathrm{meter}^{3} \\cdot \\mathrm{second}\\right)}$"
      ],
      "text/plain": [
       "array([8.43602009e-06, 3.38324125e-06, 4.10108746e-06, ...,\n",
       "       3.51316092e-05, 6.19318710e-05, 4.40496296e-05]) <Unit('kilogram / meter ** 3 / second')>"
      ]
     },
     "metadata": {},
     "output_type": "display_data"
    },
    {
     "data": {
      "text/html": [
       "<table><tbody><tr><th>Magnitude</th><td style='text-align:left;'><pre>[4.310724636131686e-07 3.3954236069501258e-06 1.6572357028893576e-06 ...<br> 7.348202427390807e-07 -1.3695496313310477e-05 -7.420165353978712e-06]</pre></td></tr><tr><th>Units</th><td style='text-align:left;'>kilogram/(meter<sup>3</sup> second)</td></tr></tbody></table>"
      ],
      "text/latex": [
       "$\\begin{pmatrix} &  &  &  &  &  &  &  &  &  &  &  &  &  &  &  &  &  &  &  &  &  &  &  &  &  &  &  &  &  &  &  &  &  &  &  &  &  &  &  &  &  &  &  &  &  &  &  &  &  &  &  &  &  &  &  &  &  &  &  &  &  &  &  &  &  &  &  &  &  &  &  &  &  &  &  &  &  &  &  &  &  &  &  &  &  &  &  &  &  &  &  &  &  &  &  &  &  &  &  &  &  &  &  &  &  &  &  &  &  &  &  &  &  &  &  &  &  &  &  &  &  &  &  &  &  &  &  &  &  &  &  &  &  &  &  &  &  &  &  &  &  &  &  &  &  &  &  &  &  &  &  &  &  &  &  &  &  &  &  &  &  &  &  &  &  &  &  &  &  &  &  &  &  &  &  &  &  &  &  &  &  &  &  &  &  &  &  &  &  &  &  &  &  &  &  &  &  &  &  &  &  &  &  &  &  &  &  &  &  &  &  &  &  &  &  &  &  &  &  &  &  &  &  &  &  &  &  &  &  &  &  &  &  &  &  &  &  &  &  &  &  &  &  &  &  &  &  &  &  &  &  &  &  &  &  &  &  &  &  &  &  &  &  &  &  &  &  &  &  &  &  &  &  &  &  &  &  &  &  &  &  &  &  &  &  &  &  &  &  &  &  &  &  &  &  &  &  &  &  &  &  &  &  &  &  &  &  &  &  &  &  &  &  &  &  &  &  &  &  &  &  &  &  &  &  &  &  &  &  &  &  &  &  &  &  &  &  &  &  &  &  &  &  &  &  &  &  &  &  &  &  &  &  &  &  &  &  &  &  &  &  &  &  &  &  &  &  &  &  &  &  &  &  &  &  &  &  &  &  &  &  &  &  &  &  &  &  &  &  &  &  &  &  &  &  &  &  &  &  &  &  &  &  &  &  &  &  &  &  &  &  &  &  &  &  &  &  &  &  &  &  &  &  &  &  &  &  &  &  &  &  &  &  &  &  &  &  &  &  &  &  &  &  &  &  &  &  &  &  &  &  &  &  &  &  &  &  &  &  &  &  &  &  &  &  &  &  &  &  &  &  &  &  &  &  &  &  &  &  &  &  &  &  &  &  &  &  &  &  &  &  &  &  &  &  &  &  &  &  &  &  &  &  &  &  &  &  &  &  &  &  &  &  &  &  &  &  &  &  &  &  &  &  &  &  &  &  &  &  &  &  &  &  &  &  &  &  &  &  &  &  &  &  &  &  &  &  &  &  &  &  &  &  &  &  &  &  &  &  &  &  &  &  &  &  &  &  &  &  &  &  &  &  &  &  &  &  &  &  &  &  &  &  &  &  &  &  &  &  &  &  &  &  &  &  &  &  &  &  &  &  &  &  &  &  &  &  &  &  &  &  &  &  &  &  &  &  &  &  &  &  &  &  &  &  &  &  &  &  &  &  &  &  &  &  &  &  &  &  &  &  &  &  &  &  &  &  &  &  &  &  &  &  &  &  &  &  &  &  &  &  &  &  &  &  &  &  &  &  &  &  &  &  &  &  &  &  &  &  &  &  &  &  &  &  &  &  &  &  &  &  &  &  &  &  &  &  &  &  &  &  &  &  &  &  &  &  &  &  &  &  &  &  &  &  &  &  &  &  &  &  &  &  &  &  &  &  &  &  &  &  &  &  &  &  &  &  &  &  &  &  &  &  &  &  &  &  &  &  &  &  &  &  &  &  &  &  &  &  &  &  &  &  &  &  &  &  &  &  &  &  &  &  &  &  &  &  &  &  &  &  &  &  &  &  &  &  &  &  &  &  &  &  &  &  &  &  &  &  &  &  &  &  &  &  &  &  &  &  &  &  &  &  &  &  &  &  &  &  &  &  &  &  &  &  &  &  &  &  &  &  &  &  &  &  &  &  &  &  &  &  &  &  &  &  &  &  &  &  &  &  &  &  &  &  &  &  &  &  &  &  &  &  &  &  &  &  &  &  &  &  &  &  &  &  &  &  &  &  &  &  &  &  &  &  &  &  &  &  &  &  &  &  &  &  &  &  &  &  &  &  &  &  &  &  &  &  &  &  &  &  &  &  &  &  &  &  &  &  &  &  &  &  &  &  &  &  &  &  &  &  &  &  &  &  &  &  &  &  &  &  &  &  &  &  &  &  &  &  &  &  &  &  &  &  &  &  &  &  &  &  &  &  &  &  &  &  &  &  &  &  &  &  &  &  &  &  &  &  &  &  &  &  &  &  &  &  &  &  &  &  &  &  &  &  &  &  &  &  &  &  &  &  &  &  &  &  &  &  &  &  &  &  &  &  &  &  &  &  &  &  &  &  &  &  &  &  &  &  &  &  &  &  &  &  &  &  &  &  &  &  &  &  &  &  &  &  &  &  &  &  &  &  &  &  &  &  &  &  &  &  &  &  &  &  &  &  &  &  &  &  &  &  &  &  &  &  &  &  &  &  &  &  &  &  &  &  &  &  &  &  &  &  &  &  &  &  &  &  &  &  &  &  &  &  &  &  &  &  &  &  &  &  &  &  &  &  &  &  &  &  &  &  &  &  &  &  &  &  &  &  &  &  &  &  &  &  &  &  &  &  &  &  &  &  &  &  &  &  &  &  &  &  &  &  &  &  &  &  &  &  &  &  &  &  &  &  &  &  &  &  &  &  &  &  &  &  &  &  &  &  &  &  &  &  &  &  &  &  &  &  &  &  &  &  &  &  &  &  &  &  &  &  &  &  &  &  &  &  &  &  &  &  &  &  &  &  &  &  &  &  &  &  &  &  &  &  &  &  &  &  &  &  &  &  &  &  &  &  &  &  &  &  &  &  &  &  &  &  &  &  &  &  &  &  &  &  &  &  &  &  &  &  &  &  &  &  &  &  &  &  &  &  &  &  &  &  &  &  &  &  &  &  &  &  &  &  &  &  &  &  &  &  &  &  &  &  &  &  &  &  &  &  &  &  &  &  &  &  &  &  &  &  &  &  &  &  &  &  &  &  &  &  &  &  &  &  &  &  &  &  &  &  &  &  &  &  &  &  &  &  &  &  &  &  &  &  &  &  &  &  &  &  &  &  &  &  &  &  &  &  &  &  &  &  &  &  &  &  &  &  &  &  &  &  &  &  &  &  &  &  &  &  &  &  &  &  &  &  &  &  &  &  &  &  &  &  &  &  &  &  &  &  &  &  &  &  &  &  &  &  &  &  &  &  &  &  &  &  &  &  &  &  &  &  &  &  &  &  &  &  &  &  &  &  &  &  &  &  &  &  &  &  &  &  &  &  &  &  &  &  &  &  &  &  &  &  &  &  &  &  &  &  &  &  &  &  &  &  &  &  &  &  &  &  &  &  &  &  &  &  &  &  &  &  &  &  &  &  &  &  &  &  &  &  &  &  &  &  &  &  &  &  &  &  &  &  &  &  &  &  &  &  &  &  &  &  &  &  &  &  &  &  &  &  &  &  &  &  &  &  &  &  &  &  &  &  &  &  &  &  &  &  &  &  &  &  &  &  &  &  &  &  &  &  &  &  &  &  &  &  &  &  &  &  &  &  &  &  &  &  &  &  &  &  &  &  &  &  &  &  &  &  &  &  &  &  &  &  &  &  &  &  &  &  &  &  &  &  &  &  &  &  &  &  &  &  &  &  &  &  &  &  &  &  &  &  &  &  &  &  &  &  &  &  &  &  &  &  &  &  &  &  &  &  &  &  &  &  &  &  &  &  &  &  &  &  &  &  &  &  &  &  &  &  &  &  &  &  &  &  &  &  &  &  &  &  &  &  &  &  &  &  &  &  &  &  &  &  &  &  &  &  &  &  &  &  &  &  &  &  &  &  &  &  &  &  &  &  &  &  &  &  &  &  &  &  &  &  &  &  &  &  &  &  &  &  &  &  &  &  &  &  &  &  &  &  &  &  &  &  &  &  &  &  &  &  &  &  &  &  &  &  &  &  &  &  &  &  &  &  &  &  &  &  &  &  &  &  &  &  &  &  &  &  &  &  &  &  &  &  &  &  &  &  &  &  &  &  &  &  &  &  &  &  &  &  &  &  &  &  &  &  &  &  &  &  &  &  &  &  &  &  &  &  &  &  &  &  &  &  &  &  &  &  &  &  &  &  &  &  &  &  &  &  &  &  &  &  &  &  &  &  &  &  &  &  &  &  &  &  &  &  &  &  &  &  &  &  &  &  &  &  &  &  &  &  &  &  &  &  &  &  &  &  &  &  &  &  &  &  &  &  &  &  &  &  &  &  &  &  &  &  &  &  &  &  &  &  &  &  &  &  &  &  &  &  &  &  &  &  &  &  &  &  &  &  &  &  &  &  &  &  &  &  &  &  &  &  &  &  &  &  &  &  &  &  &  &  &  &  &  &  &  &  &  &  &  &  &  &  &  &  &  &  &  &  &  &  &  &  &  &  &  &  &  &  &  &  &  &  &  &  &  &  &  &  &  &  &  &  &  &  &  &  &  &  &  &  &  &  &  &  &  &  &  &  &  &  &  &  &  &  &  &  &  &  &  &  &  &  &  &  &  &  &  &  &  &  &  &  &  &  &  &  &  &  &  &  &  &  &  &  &  &  &  &  &  &  &  &  &  &  &  &  &  &  &  &  &  &  &  &  &  &  &  &  &  &  &  &  &  &  &  &  &  &  &  &  &  &  &  &  &  &  &  &  &  &  &  &  &  &  &  &  &  &  &  &  &  &  &  &  &  &  &  &  &  &  &  &  &  &  &  &  &  &  &  &  &  &  &  &  &  &  &  &  &  &  &  &  &  &  &  &  &  &  &  &  &  &  &  &  &  &  &  &  &  &  &  &  &  &  &  &  &  &  &  &  &  &  &  &  &  &  &  &  &  &  &  &  &  &  &  &  &  &  &  &  &  &  &  &  &  &  &  &  &  &  &  &  &  &  &  &  &  &  &  &  &  &  &  &  &  &  &  &  &  &  &  &  &  &  &  &  &  &  &  &  &  &  &  &  &  &  &  &  &  &  &  &  &  &  &  &  &  &  &  &  &  &  &  &  &  &  &  &  &  &  &  &  &  &  &  &  &  &  &  &  &  &  &  &  &  &  &  &  &  &  &  &  &  &  &  &  &  &  &  &  &  &  &  &  &  &  &  &  &  &  &  &  &  &  &  &  &  &  &  &  &  &  &  &  &  &  &  &  &  &  &  &  &  &  &  &  &  &  &  &  &  &  &  &  &  &  &  &  &  &  &  &  &  &  &  &  &  &  &  &  &  &  &  &  &  &  &  &  &  &  &  &  &  &  &  &  &  &  &  &  &  &  &  &  &  &  &  &  &  &  &  &  &  &  &  &  &  &  &  &  &  &  &  &  &  &  &  &  &  &  &  &  &  &  &  &  &  &  &  &  &  &  &  &  &  &  &  &  &  &  &  &  &  &  &  &  &  &  &  &  &  &  &  &  &  &  &  &  &  &  &  &  &  &  &  &  &  &  &  &  &  &  &  &  &  &  &  &  &  &  &  &  &  &  &  &  &  &  &  &  &  &  &  &  &  &  &  &  &  &  &  &  &  &  &  &  &  &  &  &  &  &  &  &  &  &  &  &  &  &  &  &  &  &  &  &  &  &  &  &  &  &  &  &  &  &  &  &  &  &  &  &  &  &  &  &  &  &  &  &  &  &  &  &  &  &  &  &  &  &  &  &  &  &  &  &  &  &  &  &  &  &  &  &  &  &  &  &  &  &  &  &  &  &  &  &  &  &  &  &  &  &  &  &  &  &  &  &  &  &  &  &  &  &  &  &  &  &  &  &  &  &  &  &  &  &  &  &  &  &  &  &  &  &  &  &  &  &  &  &  &  &  &  &  &  &  &  &  &  &  &  &  &  &  &  &  &  &  &  &  &  &  &  &  &  &  &  &  &  &  &  &  &  &  &  &  &  &  &  &  &  &  &  &  &  &  &  &  &  &  &  &  &  &  &  &  &  &  &  &  &  &  &  &  &  &  &  &  &  &  &  &  &  &  &  &  &  &  &  &  &  &  &  &  &  &  &  &  &  &  &  &  &  &  &  &  &  &  &  &  &  &  &  &  &  &  &  &  &  &  &  &  &  &  &  &  &  &  &  &  &  &  &  &  &  &  &  &  &  &  &  &  &  &  &  &  &  &  &  &  &  &  &  &  &  &  &  &  &  &  &  &  &  &  &  &  &  &  &  &  &  &  &  &  &  &  &  &  &  &  &  &  &  &  &  &  &  &  &  &  &  &  &  &  &  &  &  &  &  &  &  &  &  &  &  &  &  &  &  &  &  &  &  &  &  &  &  &  &  &  &  &  &  &  &  &  &  &  &  &  &  &  &  &  &  &  &  &  &  &  &  &  &  &  &  &  &  &  &  &  &  &  &  &  &  &  &  &  &  &  &  &  &  &  &  &  &  &  &  &  &  &  &  &  &  &  &  &  &  &  &  &  &  &  &  &  &  &  &  &  &  &  &  &  &  &  &  &  &  &  &  &  &  &  &  &  &  &  &  &  &  &  &  &  &  &  &  &  &  &  &  &  &  &  &  &  &  &  &  &  &  &  &  &  &  &  &  &  &  &  &  &  &  &  &  &  &  &  &  &  &  &  &  &  &  &  &  &  &  &  &  &  &  &  &  &  &  &  &  &  &  &  &  &  &  &  &  &  &  &  &  &  &  &  &  &  &  &  &  &  &  &  &  &  &  &  &  &  &  &  &  &  &  &  &  &  &  &  &  &  &  &  &  &  &  &  &  &  &  &  &  &  &  &  &  &  &  &  &  &  &  &  &  &  &  &  &  &  &  &  &  &  &  &  &  &  &  &  &  &  &  &  &  &  &  &  &  &  &  &  &  &  &  &  &  &  &  &  &  &  &  &  &  &  &  &  &  &  &  &  &  &  &  &  &  &  &  &  &  &  &  &  &  &  &  &  &  &  &  &  &  &  &  &  &  &  &  &  &  &  &  &  &  &  &  &  &  &  &  &  &  &  &  &  &  &  &  &  &  &  &  &  &  &  &  &  &  &  &  &  &  &  &  &  &  &  &  &  &  &  &  &  &  &  &  &  &  &  &  &  &  &  &  &  &  &  &  &  &  &  &  &  &  &  &  &  &  &  &  &  &  &  &  &  &  &  &  &  &  &  &  &  &  &  &  &  &  &  &  &  &  &  &  &  &  &  &  &  &  &  &  &  &  &  &  &  &  &  &  &  &  &  &  &  &  &  &  &  &  &  &  &  &  &  &  &  &  &  &  &  &  &  &  &  &  &  &  &  &  &  &  &  &  &  &  &  &  &  &  &  &  &  &  &  &  &  &  &  &  &  &  &  &  &  &  &  &  &  &  &  &  &  &  &  &  &  &  &  &  &  &  &  &  &  &  &  &  &  &  &  &  &  &  &  &  &  &  &  &  &  &  &  &  &  &  &  &  &  &  &  &  &  &  &  &  &  &  &  &  &  &  &  &  &  &  &  &  &  &  &  &  &  &  &  &  &  &  &  &  &  &  &  &  &  &  &  &  &  &  &  &  &  &  &  &  &  &  &  &  &  &  &  &  &  &  &  &  &  &  &  &  &  &  &  &  &  &  &  &  &  &  &  &  &  &  &  &  &  &  &  &  &  &  &  &  &  &  &  &  &  &  &  &  &  &  &  &  &  &  &  &  &  &  &  &  &  &  &  &  &  &  &  &  &  &  &  &  &  &  &  &  &  &  &  &  &  &  &  &  &  &  &  &  &  &  &  &  &  &  &  &  &  &  &  &  &  &  &  &  &  &  &  &  &  &  &  &  &  &  &  &  &  &  &  &  &  &  &  &  &  &  &  &  &  &  &  &  &  &  &  &  &  &  &  &  &  &  &  &  &  &  &  &  &  &  &  &  &  &  &  &  &  &  &  &  &  &  &  &  &  &  &  &  &  &  &  &  &  &  &  &  &  &  &  &  &  &  &  &  &  &  &  &  &  &  &  &  &  &  &  &  &  &  &  &  &  &  &  &  &  &  &  &  &  &  &  &  &  &  &  &  &  &  &  &  &  &  &  &  &  &  &  &  &  &  &  &  &  &  &  &  &  &  &  &  &  &  &  &  &  &  &  &  &  &  &  &  &  &  &  &  &  &  &  &  &  &  &  &  &  &  &  &  &  &  &  &  &  &  &  &  &  &  &  &  &  &  &  &  &  &  &  &  &  &  &  &  &  &  &  &  &  &  &  &  &  &  &  &  &  &  &  &  &  &  &  &  &  &  &  &  &  &  &  &  &  &  &  &  &  &  &  &  &  &  &  &  &  &  &  &  &  &  &  &  &  &  &  &  &  &  &  &  &  &  &  &  &  &  &  &  &  &  &  &  &  &  &  &  &  &  &  &  &  &  &  &  &  &  &  &  &  &  &  &  &  &  &  &  &  &  &  &  &  &  &  &  &  &  &  &  &  &  &  &  &  &  &  &  &  &  &  &  &  &  &  &  &  &  &  &  &  &  &  &  &  &  &  &  &  &  &  &  &  &  &  &  &  &  &  &  &  &  &  &  &  &  &  &  &  &  &  &  &  &  &  &  &  &  &  &  &  &  &  &  &  &  &  &  &  &  &  &  &  &  &  &  &  &  &  &  &  &  &  &  &  &  &  &  &  &  &  &  &  &  &  &  &  &  &  &  &  &  &  &  &  &  &  &  &  &  &  &  &  &  &  &  &  &  &  &  &  &  &  &  &  &  &  &  &  &  &  &  &  &  &  &  &  &  &  &  &  &  &  &  &  &  &  &  &  &  &  &  &  &  &  &  &  &  &  &  &  &  &  &  &  &  &  &  &  &  &  &  &  &  &  &  &  &  &  &  &  &  &  &  &  &  &  &  &  &  &  &  &  &  &  &  &  &  &  &  &  &  &  &  &  &  &  &  &  &  &  &  &  &  &  &  &  &  &  &  &  &  &  &  &  &  &  &  &  &  &  &  &  &  &  &  &  &  &  &  &  &  &  &  &  &  &  &  &  &  &  &  &  &  &  &  &  &  &  &  &  &  &  &  &  &  &  &  &  &  &  &  &  &  &  &  &  &  &  &  &  &  &  &  &  &  &  &  &  &  &  &  &  &  &  &  &  &  &  &  &  &  &  &  &  &  &  &  &  &  &  &  &  &  &  &  &  &  &  &  &  &  &  &  &  &  &  &  &  &  &  &  &  &  &  &  &  &  &  &  &  &  &  &  &  &  &  &  &  &  &  &  &  &  &  &  &  &  &  &  &  &  &  &  &  &  &  &  &  &  &  &  &  &  &  &  &  &  &  &  &  &  &  &  &  &  &  &  &  &  &  &  &  &  &  &  &  &  &  &  &  &  &  &  &  &  &  &  &  &  &  &  &  &  &  &  &  &  &  &  &  &  &  &  &  &  &  &  &  &  &  &  &  &  &  &  &  &  &  &  &  &  &  &  &  &  &  &  &  &  &  &  &  &  &  &  &  &  &  &  &  &  &  &  &  &  &  &  &  &  &  &  &  &  &  &  &  &  &  &  &  &  &  &  &  &  &  &  &  &  &  &  &  &  &  &  &  &  &  &  &  &  &  &  &  &  &  &  &  &  &  &  &  &  &  &  &  &  &  &  &  &  &  &  &  &  &  &  &  &  &  &  &  &  &  &  &  &  &  &  &  &  &  &  &  &  &  &  &  &  &  &  &  &  &  &  &  &  &  &  &  &  &  &  &  &  &  &  &  &  &  &  &  &  &  &  &  &  &  &  &  &  &  &  &  &  &  &  &  &  &  &  &  &  &  &  &  &  &  &  &  &  &  &  &  &  &  &  &  &  &  &  &  &  &  &  &  &  &  &  &  &  &  &  &  &  &  &  &  &  &  &  &  &  &  &  &  &  &  &  &  &  &  &  &  &  &  &  &  &  &  &  &  &  &  &  &  &  &  &  &  &  &  &  &  &  &  &  &  &  &  &  &  &  &  &  &  &  &  &  &  &  &  &  &  &  &  &  &  &  &  &  &  &  &  &  &  &  &  &  &  &  &  &  &  &  &  &  &  &  &  &  &  &  &  &  &  &  &  &  &  &  &  &  &  &  &  &  &  &  &  &  &  &  &  &  &  &  &  &  &  &  &  &  &  &  &  &  &  &  &  &  &  &  &  &  &  &  &  &  &  &  &  &  &  &  &  &  &  &  &  &  &  &  &  &  &  &  &  &  &  &  &  &  &  &  &  &  &  &  &  &  &  &  &  &  &  &  &  &  &  &  &  &  &  &  &  &  &  &  &  &  &  &  &  &  &  &  &  &  &  &  &  &  &  &  &  &  &  &  &  &  &  &  &  &  &  &  &  &  &  &  &  &  &  &  &  &  &  &  &  &  &  &  &  &  &  &  &  &  &  &  &  &  &  &  &  &  &  &  &  &  &  &  &  &  &  &  &  &  &  &  &  &  &  &  &  &  &  &  &  &  &  &  &  &  &  &  &  &  &  &  &  &  &  &  &  &  &  &  &  &  &  &  &  &  &  &  &  &  &  &  &  &  &  &  &  &  &  &  &  &  &  &  &  &  &  &  &  &  &  &  &  &  &  &  &  &  &  &  &  &  &  &  &  &  &  &  &  &  &  &  &  &  &  &  &  &  &  &  &  &  &  &  &  &  &  &  &  &  &  &  &  &  &  &  &  &  &  &  &  &  &  &  &  &  &  &  &  &  &  &  &  &  &  &  &  &  &  &  &  &  &  &  &  &  &  &  &  &  &  &  &  &  &  &  &  &  &  &  &  &  &  &  &  &  &  &  &  &  &  &  &  &  &  &  &  &  &  &  &  &  &  &  &  &  &  &  &  &  &  &  &  &  &  &  &  &  &  &  &  &  &  &  &  &  &  &  &  &  &  &  &  &  &  &  &  &  &  &  &  &  &  &  &  &  &  &  &  &  &  &  &  &  &  &  &  &  &  &  &  &  &  &  &  &  &  &  &  &  &  &  &  &  &  &  &  &  &  &  &  &  &  &  &  &  &  &  &  &  &  &  &  &  &  &  &  &  &  &  &  &  &  &  &  &  &  &  &  &  &  &  &  &  &  &  &  &  &  &  &  &  &  &  &  &  &  &  &  &  &  &  &  &  &  &  &  &  &  &  &  &  &  &  &  &  &  &  &  &  &  &  &  &  &  &  &  &  &  &  &  &  &  &  &  &  &  &  &  &  &  &  &  &  &  &  &  &  &  &  &  &  &  &  &  &  &  &  &  &  &  &  &  &  &  &  &  &  &  &  &  &  &  &  &  &  &  &  &  &  &  &  &  &  &  &  &  &  &  &  &  &  &  &  &  &  &  &  &  &  &  &  &  &  &  &  &  &  &  &  &  &  &  &  &  &  &  &  &  &  &  &  &  &  &  &  &  &  &  &  &  &  &  &  &  &  &  &  &  &  &  &  &  &  &  &  &  &  &  &  &  &  &  &  &  &  &  &  &  &  &  &  &  &  &  &  &  &  &  &  &  &  &  &  &  &  &  &  &  &  &  &  &  &  &  &  &  &  &  &  &  &  &  &  &  &  &  &  &  &  &  &  &  &  &  &  &  &  &  &  &  &  &  &  &  &  &  &  &  &  &  &  &  &  &  &  &  &  &  &  &  &  &  &  &  &  &  &  &  &  &  &  &  &  &  &  &  &  &  &  &  &  &  &  &  &  &  &  &  &  &  &  &  &  &  &  &  &  &  &  &  &  &  &  &  &  &  &  &  &  &  &  &  &  &  &  &  &  &  &  &  &  &  &  &  &  &  &  &  &  &  &  &  &  &  &  &  &  &  &  &  &  &  &  &  &  &  &  &  &  &  &  &  &  &  &  &  &  &  &  &  &  &  &  &  &  &  &  &  &  &  &  &  &  &  &  &  &  &  &  &  &  &  &  &  &  &  &  &  &  &  &  &  &  &  &  &  &  &  &  &  &  &  &  &  &  &  &  &  &  &  &  &  &  &  &  &  &  &  &  &  &  &  &  &  &  &  &  &  &  &  &  &  &  &  &  &  &  &  &  &  &  &  &  &  &  &  &  &  &  &  &  &  &  &  &  &  &  &  &  &  &  &  &  &  &  &  &  &  &  &  &  &  &  &  &  &  &  &  &  &  &  &  &  &  &  &  &  &  &  &  &  &  &  &  &  &  &  &  &  &  &  &  &  &  &  &  &  &  &  &  &  &  &  &  &  &  &  &  &  &  &  &  &  &  &  &  &  &  &  &  &  &  &  &  &  &  &  &  &  &  &  &  &  &  &  &  &  &  &  &  &  &  &  &  &  &  &  &  &  &  &  &  &  &  &  &  &  &  &  &  &  &  &  &  &  &  &  &  &  &  &  &  &  &  &  &  &  &  &  &  &  &  &  &  &  &  &  &  &  &  &  &  &  &  &  &  &  &  &  &  &  &  &  &  &  &  &  &  &  &  &  &  &  &  &  &  &  &  &  &  &  &  &  &  &  &  &  &  &  &  &  &  &  &  &  &  &  &  &  &  &  &  &  &  &  &  &  &  &  &  &  &  &  &  &  &  &  &  &  &  &  &  &  &  &  &  &  &  &  &  &  &  &  &  &  &  &  &  &  &  &  &  &  &  &  &  &  &  &  &  &  &  &  &  &  &  &  &  &  &  &  &  &  &  &  &  &  &  &  &  &  &  &  &  &  &  &  &  &  &  &  &  &  &  &  &  &  &  &  &  &  &  &  &  &  &  &  &  &  &  &  &  &  &  &  &  &  &  &  &  &  &  &  &  &  &  &  &  &  &  &  &  &  &  &  &  &  &  &  &  &  &  &  &  &  &  &  &  &  &  &  &  &  &  &  &  &  &  &  &  &  &  &  &  &  &  &  &  &  &  &  &  &  &  &  &  &  &  &  &  &  &  &  &  &  &  &  &  &  &  &  &  &  &  &  &  &  &  &  &  &  &  &  &  &  &  &  &  &  &  &  &  &  &  &  &  &  &  &  &  &  &  &  &  &  &  &  &  &  &  &  &  &  &  &  &  &  &  &  &  &  &  &  &  &  &  &  &  &  &  &  &  &  &  &  &  &  &  &  &  &  &  &  &  &  &  &  &  &  &  &  &  &  &  &  &  &  &  &  &  &  &  &  &  &  &  &  &  &  &  &  &  &  &  &  &  &  &  &  &  &  &  &  &  &  &  &  &  &  &  &  &  &  &  &  &  &  &  &  &  &  &  &  &  &  &  &  &  &  &  &  &  &  &  &  &  &  &  &  &  &  &  &  &  &  &  &  &  &  &  &  &  &  &  &  &  &  &  &  &  &  &  &  &  &  &  &  &  &  &  &  &  &  &  &  &  &  &  &  &  &  &  &  &  &  &  &  &  &  &  &  &  &  &  &  &  &  &  &  &  &  &  &  &  &  &  &  &  &  &  &  &  &  &  &  &  &  &  &  &  &  &  &  &  &  &  &  &  &  &  &  &  &  &  &  &  &  &  &  &  &  &  &  &  &  &  &  &  &  &  &  &  &  &  &  &  &  &  &  &  &  &  &  &  &  &  &  &  &  &  &  &  &  &  &  &  &  &  &  &  &  &  &  &  &  &  &  &  &  &  &  &  &  &  &  &  &  &  &  &  &  &  &  &  &  &  &  &  &  &  &  &  &  &  &  &  &  &  &  &  &  &  &  &  &  &  &  &  &  &  &  &  &  &  &  &  &  &  &  &  &  &  &  &  &  &  &  &  &  &  &  &  &  &  &  &  &  &  &  &  &  &  &  &  &  &  &  &  &  &  &  &  &  &  &  &  &  &  &  &  &  &  &  &  &  &  &  &  &  &  &  &  &  &  &  &  &  &  &  &  &  &  &  &  &  &  &  &  &  &  &  &  &  &  &  &  &  &  &  &  &  &  &  &  &  &  &  &  &  &  &  &  &  &  &  &  &  &  &  &  &  &  &  &  &  &  &  &  &  &  &  &  &  &  &  &  &  &  &  &  &  &  &  &  &  &  &  &  &  &  &  &  &  &  &  &  &  &  &  &  &  &  &  &  &  &  &  &  &  &  &  &  &  &  &  &  &  &  &  &  &  &  &  &  &  &  &  &  &  &  &  &  &  &  &  &  &  &  &  &  &  &  &  &  &  &  &  &  &  &  &  &  &  &  &  &  &  &  &  &  &  &  &  &  &  &  &  &  &  &  &  &  &  &  &  &  &  &  &  &  &  &  &  &  &  &  &  &  &  &  &  &  &  &  &  &  &  &  &  &  &  &  &  &  &  &  &  &  &  &  &  &  &  &  &  &  &  &  &  &  &  &  &  &  &  &  &  &  &  &  &  &  &  &  &  &  &  &  &  &  &  &  &  &  &  &  &  &  &  &  &  &  &  &  &  &  &  &  &  &  &  &  &  &  &  &  &  &  &  &  &  &  &  &  &  &  &  &  &  &  &  &  &  &  &  &  &  &  &  &  &  &  &  &  &  &  &  &  &  &  &  &  &  &  &  &  &  &  &  &  &  &  &  &  &  &  &  &  &  &  &  &  &  &  &  &  &  &  &  &  &  &  &  &  &  &  &  &  &  &  &  &  &  &  &  &  &  &  &  &  &  &  &  &  &  &  &  &  &  &  &  &  &  &  &  &  &  &  &  &  &  &  &  &  &  &  &  &  &  &  &  &  &  &  &  &  &  &  &  &  &  &  &  &  &  &  &  &  &  &  &  &  &  &  &  &  &  &  &  &  &  &  &  &  &  &  &  &  &  &  &  &  &  &  &  &  &  &  &  &  &  &  &  &  &  &  &  &  &  &  &  &  &  &  &  &  &  &  &  &  &  &  &  &  &  &  &  &  &  &  &  &  &  &  &  &  &  &  &  &  &  &  &  &  &  &  &  &  &  &  &  &  &  &  &  &  &  &  &  &  &  &  &  &  &  &  &  &  &  &  &  &  &  &  &  &  &  &  &  &  &  &  &  &  &  &  &  &  &  &  &  &  &  &  &  &  &  &  &  &  &  &  &  &  &  &  &  &  &  &  &  &  &  &  &  &  &  &  &  &  &  &  &  &  &  &  &  &  &  &  &  &  &  &  &  &  &  &  &  &  &  &  &  &  &  &  &  &  &  &  &  &  &  &  &  &  &  &  &  &  &  &  &  &  &  &  &  &  &  &  &  &  &  &  &  &  &  &  &  &  &  &  &  &  &  &  &  &  &  &  &  &  &  &  &  &  &  &  &  &  &  &  &  &  &  &  &  &  &  &  &  &  &  &  &  &  &  &  &  &  &  &  &  &  &  &  &  &  &  &  &  &  &  &  &  &  &  &  &  &  &  &  &  &  &  &  &  &  &  &  &  &  &  &  &  &  &  &  &  &  &  &  &  &  &  &  &  &  &  &  &  &  &  &  &  &  &  &  &  &  &  &  &  &  &  &  &  &  &  &  &  &  &  &  &  &  &  &  &  &  &  &  &  &  &  &  &  &  &  &  &  &  &  &  &  &  &  &  &  &  &  &  &  &  &  &  &  &  &  &  &  &  &  &  &  &  &  &  &  &  &  &  &  &  &  &  &  &  &  &  &  &  &  &  &  &  &  &  &  &  &  &  &  &  &  &  &  &  &  &  &  &  &  &  &  &  &  &  &  &  &  &  &  &  &  &  &  &  &  &  &  &  &  &  &  &  &  &  &  &  &  &  &  &  &  &  &  &  &  &  &  &  &  &  &  &  &  &  &  &  &  &  &  &  &  &  &  &  &  &  &  &  &  &  &  &  &  &  &  &  &  &  &  &  &  &  &  &  &  &  &  &  &  &  &  &  &  &  &  &  &  &  &  &  &  &  &  &  &  &  &  &  &  &  &  &  &  &  &  &  &  &  &  &  &  &  &  &  &  &  &  &  &  &  &  &  &  &  &  &  &  &  &  &  &  &  &  &  &  &  &  &  &  &  &  &  &  &  &  &  &  &  &  &  &  &  &  &  &  &  &  &  &  &  &  &  &  &  &  &  &  &  &  &  &  &  &  &  &  &  &  &  &  &  &  &  &  &  &  &  &  &  &  &  &  &  &  &  &  &  &  &  &  &  &  &  &  &  &  &  &  &  &  &  &  &  &  &  &  &  &  &  &  &  &  &  &  &  &  &  &  &  &  &  &  &  &  &  &  &  &  &  &  &  &  &  &  &  &  &  &  &  &  &  &  &  &  &  &  &  &  &  &  &  &  &  &  &  &  &  &  &  &  &  &  &  &  &  &  &  &  &  &  &  &  &  &  &  &  &  &  &  &  &  &  &  &  &  &  &  &  &  &  &  &  &  &  &  &  &  &  &  &  &  &  &  &  &  &  &  &  &  &  &  &  &  &  &  &  &  &  &  &  &  &  &  &  &  &  &  &  &  &  &  &  &  &  &  &  &  &  &  &  &  &  &  &  &  &  &  &  &  &  &  &  &  &  &  &  &  &  &  &  &  &  &  &  &  &  &  &  &  &  &  &  &  &  &  &  &  &  &  &  &  &  &  &  &  &  &  &  &  &  &  &  &  &  &  &  &  &  &  &  &  &  &  &  &  &  &  &  &  &  &  &  &  &  &  &  &  &  &  &  &  &  &  &  &  &  &  &  &  &  &  &  &  &  &  &  &  &  &  &  &  &  &  &  &  &  &  &  &  &  &  &  &  &  &  &  &  &  &  &  &  &  &  &  &  &  &  &  &  &  &  &  &  &  &  &  &  &  &  &  &  &  &  &  &  &  &  &  &  &  &  &  &  &  &  &  &  &  &  &  &  &  &  &  &  &  &  &  &  &  &  &  &  &  &  &  &  &  &  &  &  &  &  &  &  &  &  &  &  &  &  &  &  &  &  &  &  &  &  &  &  &  &  &  &  &  &  &  &  &  &  &  &  &  &  &  &  &  &  &  &  &  &  &  &  &  &  &  &  &  &  &  &  &  &  &  &  &  &  &  &  &  &  &  &  &  &  &  &  &  &  &  &  &  &  &  &  &  &  &  &  &  &  &  &  &  &  &  &  &  &  &  &  &  &  &  &  &  &  &  &  &  &  &  &  &  &  &  &  &  &  &  &  &  &  &  &  &  &  &  &  &  &  &  &  &  &  &  &  &  &  &  &  &  &  &  &  &  &  &  &  &  &  &  &  &  &  &  &  &  &  &  &  &  &  &  &  &  &  &  &  &  &  &  &  &  &  &  &  &  &  &  &  &  &  &  &  &  &  &  &  &  &  &  &  &  &  &  &  &  &  &  &  &  &  &  &  &  &  &  &  &  &  &  &  &  &  &  &  &  &  &  &  &  &  &  &  &  &  &  &  &  &  &  &  &  &  &  &  &  &  &  &  &  &  &  &  &  &  &  &  &  &  &  &  &  &  &  &  &  &  &  &  &  &  &  &  &  &  &  &  &  &  &  &  &  &  &  &  &  &  &  &  &  &  &  &  &  & \\end{pmatrix}\\ \\frac{\\mathrm{kilogram}}{\\left(\\mathrm{meter}^{3} \\cdot \\mathrm{second}\\right)}$"
      ],
      "text/plain": [
       "array([ 4.31072464e-07,  3.39542361e-06,  1.65723570e-06, ...,\n",
       "        7.34820243e-07, -1.36954963e-05, -7.42016535e-06]) <Unit('kilogram / meter ** 3 / second')>"
      ]
     },
     "metadata": {},
     "output_type": "display_data"
    },
    {
     "data": {
      "text/html": [
       "<table><tbody><tr><th>Magnitude</th><td style='text-align:left;'><pre>[8.86709255423245e-06 6.778664861944924e-06 5.758323167306691e-06 ...<br> 3.58664294238825e-05 4.823637465573377e-05 3.662946423272611e-05]</pre></td></tr><tr><th>Units</th><td style='text-align:left;'>kilogram/(meter<sup>3</sup> second)</td></tr></tbody></table>"
      ],
      "text/latex": [
       "$\\begin{pmatrix} &  &  &  &  &  &  &  &  &  &  &  &  &  &  &  &  &  &  &  &  &  &  &  &  &  &  &  &  &  &  &  &  &  &  &  &  &  &  &  &  &  &  &  &  &  &  &  &  &  &  &  &  &  &  &  &  &  &  &  &  &  &  &  &  &  &  &  &  &  &  &  &  &  &  &  &  &  &  &  &  &  &  &  &  &  &  &  &  &  &  &  &  &  &  &  &  &  &  &  &  &  &  &  &  &  &  &  &  &  &  &  &  &  &  &  &  &  &  &  &  &  &  &  &  &  &  &  &  &  &  &  &  &  &  &  &  &  &  &  &  &  &  &  &  &  &  &  &  &  &  &  &  &  &  &  &  &  &  &  &  &  &  &  &  &  &  &  &  &  &  &  &  &  &  &  &  &  &  &  &  &  &  &  &  &  &  &  &  &  &  &  &  &  &  &  &  &  &  &  &  &  &  &  &  &  &  &  &  &  &  &  &  &  &  &  &  &  &  &  &  &  &  &  &  &  &  &  &  &  &  &  &  &  &  &  &  &  &  &  &  &  &  &  &  &  &  &  &  &  &  &  &  &  &  &  &  &  &  &  &  &  &  &  &  &  &  &  &  &  &  &  &  &  &  &  &  &  &  &  &  &  &  &  &  &  &  &  &  &  &  &  &  &  &  &  &  &  &  &  &  &  &  &  &  &  &  &  &  &  &  &  &  &  &  &  &  &  &  &  &  &  &  &  &  &  &  &  &  &  &  &  &  &  &  &  &  &  &  &  &  &  &  &  &  &  &  &  &  &  &  &  &  &  &  &  &  &  &  &  &  &  &  &  &  &  &  &  &  &  &  &  &  &  &  &  &  &  &  &  &  &  &  &  &  &  &  &  &  &  &  &  &  &  &  &  &  &  &  &  &  &  &  &  &  &  &  &  &  &  &  &  &  &  &  &  &  &  &  &  &  &  &  &  &  &  &  &  &  &  &  &  &  &  &  &  &  &  &  &  &  &  &  &  &  &  &  &  &  &  &  &  &  &  &  &  &  &  &  &  &  &  &  &  &  &  &  &  &  &  &  &  &  &  &  &  &  &  &  &  &  &  &  &  &  &  &  &  &  &  &  &  &  &  &  &  &  &  &  &  &  &  &  &  &  &  &  &  &  &  &  &  &  &  &  &  &  &  &  &  &  &  &  &  &  &  &  &  &  &  &  &  &  &  &  &  &  &  &  &  &  &  &  &  &  &  &  &  &  &  &  &  &  &  &  &  &  &  &  &  &  &  &  &  &  &  &  &  &  &  &  &  &  &  &  &  &  &  &  &  &  &  &  &  &  &  &  &  &  &  &  &  &  &  &  &  &  &  &  &  &  &  &  &  &  &  &  &  &  &  &  &  &  &  &  &  &  &  &  &  &  &  &  &  &  &  &  &  &  &  &  &  &  &  &  &  &  &  &  &  &  &  &  &  &  &  &  &  &  &  &  &  &  &  &  &  &  &  &  &  &  &  &  &  &  &  &  &  &  &  &  &  &  &  &  &  &  &  &  &  &  &  &  &  &  &  &  &  &  &  &  &  &  &  &  &  &  &  &  &  &  &  &  &  &  &  &  &  &  &  &  &  &  &  &  &  &  &  &  &  &  &  &  &  &  &  &  &  &  &  &  &  &  &  &  &  &  &  &  &  &  &  &  &  &  &  &  &  &  &  &  &  &  &  &  &  &  &  &  &  &  &  &  &  &  &  &  &  &  &  &  &  &  &  &  &  &  &  &  &  &  &  &  &  &  &  &  &  &  &  &  &  &  &  &  &  &  &  &  &  &  &  &  &  &  &  &  &  &  &  &  &  &  &  &  &  &  &  &  &  &  &  &  &  &  &  &  &  &  &  &  &  &  &  &  &  &  &  &  &  &  &  &  &  &  &  &  &  &  &  &  &  &  &  &  &  &  &  &  &  &  &  &  &  &  &  &  &  &  &  &  &  &  &  &  &  &  &  &  &  &  &  &  &  &  &  &  &  &  &  &  &  &  &  &  &  &  &  &  &  &  &  &  &  &  &  &  &  &  &  &  &  &  &  &  &  &  &  &  &  &  &  &  &  &  &  &  &  &  &  &  &  &  &  &  &  &  &  &  &  &  &  &  &  &  &  &  &  &  &  &  &  &  &  &  &  &  &  &  &  &  &  &  &  &  &  &  &  &  &  &  &  &  &  &  &  &  &  &  &  &  &  &  &  &  &  &  &  &  &  &  &  &  &  &  &  &  &  &  &  &  &  &  &  &  &  &  &  &  &  &  &  &  &  &  &  &  &  &  &  &  &  &  &  &  &  &  &  &  &  &  &  &  &  &  &  &  &  &  &  &  &  &  &  &  &  &  &  &  &  &  &  &  &  &  &  &  &  &  &  &  &  &  &  &  &  &  &  &  &  &  &  &  &  &  &  &  &  &  &  &  &  &  &  &  &  &  &  &  &  &  &  &  &  &  &  &  &  &  &  &  &  &  &  &  &  &  &  &  &  &  &  &  &  &  &  &  &  &  &  &  &  &  &  &  &  &  &  &  &  &  &  &  &  &  &  &  &  &  &  &  &  &  &  &  &  &  &  &  &  &  &  &  &  &  &  &  &  &  &  &  &  &  &  &  &  &  &  &  &  &  &  &  &  &  &  &  &  &  &  &  &  &  &  &  &  &  &  &  &  &  &  &  &  &  &  &  &  &  &  &  &  &  &  &  &  &  &  &  &  &  &  &  &  &  &  &  &  &  &  &  &  &  &  &  &  &  &  &  &  &  &  &  &  &  &  &  &  &  &  &  &  &  &  &  &  &  &  &  &  &  &  &  &  &  &  &  &  &  &  &  &  &  &  &  &  &  &  &  &  &  &  &  &  &  &  &  &  &  &  &  &  &  &  &  &  &  &  &  &  &  &  &  &  &  &  &  &  &  &  &  &  &  &  &  &  &  &  &  &  &  &  &  &  &  &  &  &  &  &  &  &  &  &  &  &  &  &  &  &  &  &  &  &  &  &  &  &  &  &  &  &  &  &  &  &  &  &  &  &  &  &  &  &  &  &  &  &  &  &  &  &  &  &  &  &  &  &  &  &  &  &  &  &  &  &  &  &  &  &  &  &  &  &  &  &  &  &  &  &  &  &  &  &  &  &  &  &  &  &  &  &  &  &  &  &  &  &  &  &  &  &  &  &  &  &  &  &  &  &  &  &  &  &  &  &  &  &  &  &  &  &  &  &  &  &  &  &  &  &  &  &  &  &  &  &  &  &  &  &  &  &  &  &  &  &  &  &  &  &  &  &  &  &  &  &  &  &  &  &  &  &  &  &  &  &  &  &  &  &  &  &  &  &  &  &  &  &  &  &  &  &  &  &  &  &  &  &  &  &  &  &  &  &  &  &  &  &  &  &  &  &  &  &  &  &  &  &  &  &  &  &  &  &  &  &  &  &  &  &  &  &  &  &  &  &  &  &  &  &  &  &  &  &  &  &  &  &  &  &  &  &  &  &  &  &  &  &  &  &  &  &  &  &  &  &  &  &  &  &  &  &  &  &  &  &  &  &  &  &  &  &  &  &  &  &  &  &  &  &  &  &  &  &  &  &  &  &  &  &  &  &  &  &  &  &  &  &  &  &  &  &  &  &  &  &  &  &  &  &  &  &  &  &  &  &  &  &  &  &  &  &  &  &  &  &  &  &  &  &  &  &  &  &  &  &  &  &  &  &  &  &  &  &  &  &  &  &  &  &  &  &  &  &  &  &  &  &  &  &  &  &  &  &  &  &  &  &  &  &  &  &  &  &  &  &  &  &  &  &  &  &  &  &  &  &  &  &  &  &  &  &  &  &  &  &  &  &  &  &  &  &  &  &  &  &  &  &  &  &  &  &  &  &  &  &  &  &  &  &  &  &  &  &  &  &  &  &  &  &  &  &  &  &  &  &  &  &  &  &  &  &  &  &  &  &  &  &  &  &  &  &  &  &  &  &  &  &  &  &  &  &  &  &  &  &  &  &  &  &  &  &  &  &  &  &  &  &  &  &  &  &  &  &  &  &  &  &  &  &  &  &  &  &  &  &  &  &  &  &  &  &  &  &  &  &  &  &  &  &  &  &  &  &  &  &  &  &  &  &  &  &  &  &  &  &  &  &  &  &  &  &  &  &  &  &  &  &  &  &  &  &  &  &  &  &  &  &  &  &  &  &  &  &  &  &  &  &  &  &  &  &  &  &  &  &  &  &  &  &  &  &  &  &  &  &  &  &  &  &  &  &  &  &  &  &  &  &  &  &  &  &  &  &  &  &  &  &  &  &  &  &  &  &  &  &  &  &  &  &  &  &  &  &  &  &  &  &  &  &  &  &  &  &  &  &  &  &  &  &  &  &  &  &  &  &  &  &  &  &  &  &  &  &  &  &  &  &  &  &  &  &  &  &  &  &  &  &  &  &  &  &  &  &  &  &  &  &  &  &  &  &  &  &  &  &  &  &  &  &  &  &  &  &  &  &  &  &  &  &  &  &  &  &  &  &  &  &  &  &  &  &  &  &  &  &  &  &  &  &  &  &  &  &  &  &  &  &  &  &  &  &  &  &  &  &  &  &  &  &  &  &  &  &  &  &  &  &  &  &  &  &  &  &  &  &  &  &  &  &  &  &  &  &  &  &  &  &  &  &  &  &  &  &  &  &  &  &  &  &  &  &  &  &  &  &  &  &  &  &  &  &  &  &  &  &  &  &  &  &  &  &  &  &  &  &  &  &  &  &  &  &  &  &  &  &  &  &  &  &  &  &  &  &  &  &  &  &  &  &  &  &  &  &  &  &  &  &  &  &  &  &  &  &  &  &  &  &  &  &  &  &  &  &  &  &  &  &  &  &  &  &  &  &  &  &  &  &  &  &  &  &  &  &  &  &  &  &  &  &  &  &  &  &  &  &  &  &  &  &  &  &  &  &  &  &  &  &  &  &  &  &  &  &  &  &  &  &  &  &  &  &  &  &  &  &  &  &  &  &  &  &  &  &  &  &  &  &  &  &  &  &  &  &  &  &  &  &  &  &  &  &  &  &  &  &  &  &  &  &  &  &  &  &  &  &  &  &  &  &  &  &  &  &  &  &  &  &  &  &  &  &  &  &  &  &  &  &  &  &  &  &  &  &  &  &  &  &  &  &  &  &  &  &  &  &  &  &  &  &  &  &  &  &  &  &  &  &  &  &  &  &  &  &  &  &  &  &  &  &  &  &  &  &  &  &  &  &  &  &  &  &  &  &  &  &  &  &  &  &  &  &  &  &  &  &  &  &  &  &  &  &  &  &  &  &  &  &  &  &  &  &  &  &  &  &  &  &  &  &  &  &  &  &  &  &  &  &  &  &  &  &  &  &  &  &  &  &  &  &  &  &  &  &  &  &  &  &  &  &  &  &  &  &  &  &  &  &  &  &  &  &  &  &  &  &  &  &  &  &  &  &  &  &  &  &  &  &  &  &  &  &  &  &  &  &  &  &  &  &  &  &  &  &  &  &  &  &  &  &  &  &  &  &  &  &  &  &  &  &  &  &  &  &  &  &  &  &  &  &  &  &  &  &  &  &  &  &  &  &  &  &  &  &  &  &  &  &  &  &  &  &  &  &  &  &  &  &  &  &  &  &  &  &  &  &  &  &  &  &  &  &  &  &  &  &  &  &  &  &  &  &  &  &  &  &  &  &  &  &  &  &  &  &  &  &  &  &  &  &  &  &  &  &  &  &  &  &  &  &  &  &  &  &  &  &  &  &  &  &  &  &  &  &  &  &  &  &  &  &  &  &  &  &  &  &  &  &  &  &  &  &  &  &  &  &  &  &  &  &  &  &  &  &  &  &  &  &  &  &  &  &  &  &  &  &  &  &  &  &  &  &  &  &  &  &  &  &  &  &  &  &  &  &  &  &  &  &  &  &  &  &  &  &  &  &  &  &  &  &  &  &  &  &  &  &  &  &  &  &  &  &  &  &  &  &  &  &  &  &  &  &  &  &  &  &  &  &  &  &  &  &  &  &  &  &  &  &  &  &  &  &  &  &  &  &  &  &  &  &  &  &  &  &  &  &  &  &  &  &  &  &  &  &  &  &  &  &  &  &  &  &  &  &  &  &  &  &  &  &  &  &  &  &  &  &  &  &  &  &  &  &  &  &  &  &  &  &  &  &  &  &  &  &  &  &  &  &  &  &  &  &  &  &  &  &  &  &  &  &  &  &  &  &  &  &  &  &  &  &  &  &  &  &  &  &  &  &  &  &  &  &  &  &  &  &  &  &  &  &  &  &  &  &  &  &  &  &  &  &  &  &  &  &  &  &  &  &  &  &  &  &  &  &  &  &  &  &  &  &  &  &  &  &  &  &  &  &  &  &  &  &  &  &  &  &  &  &  &  &  &  &  &  &  &  &  &  &  &  &  &  &  &  &  &  &  &  &  &  &  &  &  &  &  &  &  &  &  &  &  &  &  &  &  &  &  &  &  &  &  &  &  &  &  &  &  &  &  &  &  &  &  &  &  &  &  &  &  &  &  &  &  &  &  &  &  &  &  &  &  &  &  &  &  &  &  &  &  &  &  &  &  &  &  &  &  &  &  &  &  &  &  &  &  &  &  &  &  &  &  &  &  &  &  &  &  &  &  &  &  &  &  &  &  &  &  &  &  &  &  &  &  &  &  &  &  &  &  &  &  &  &  &  &  &  &  &  &  &  &  &  &  &  &  &  &  &  &  &  &  &  &  &  &  &  &  &  &  &  &  &  &  &  &  &  &  &  &  &  &  &  &  &  &  &  &  &  &  &  &  &  &  &  &  &  &  &  &  &  &  &  &  &  &  &  &  &  &  &  &  &  &  &  &  &  &  &  &  &  &  &  &  &  &  &  &  &  &  &  &  &  &  &  &  &  &  &  &  &  &  &  &  &  &  &  &  &  &  &  &  &  &  &  &  &  &  &  &  &  &  &  &  &  &  &  &  &  &  &  &  &  &  &  &  &  &  &  &  &  &  &  &  &  &  &  &  &  &  &  &  &  &  &  &  &  &  &  &  &  &  &  &  &  &  &  &  &  &  &  &  &  &  &  &  &  &  &  &  &  &  &  &  &  &  &  &  &  &  &  &  &  &  &  &  &  &  &  &  &  &  &  &  &  &  &  &  &  &  &  &  &  &  &  &  &  &  &  &  &  &  &  &  &  &  &  &  &  &  &  &  &  &  &  &  &  &  &  &  &  &  &  &  &  &  &  &  &  &  &  &  &  &  &  &  &  &  &  &  &  &  &  &  &  &  &  &  &  &  &  &  &  &  &  &  &  &  &  &  &  &  &  &  &  &  &  &  &  &  &  &  &  &  &  &  &  &  &  &  &  &  &  &  &  &  &  &  &  &  &  &  &  &  &  &  &  &  &  &  &  &  &  &  &  &  &  &  &  &  &  &  &  &  &  &  &  &  &  &  &  &  &  &  &  &  &  &  &  &  &  &  &  &  &  &  &  &  &  &  &  &  &  &  &  &  &  &  &  &  &  &  &  &  &  &  &  &  &  &  &  &  &  &  &  &  &  &  &  &  &  &  &  &  &  &  &  &  &  &  &  &  &  &  &  &  &  &  &  &  &  &  &  &  &  &  &  &  &  &  &  &  &  &  &  &  &  &  &  &  &  &  &  &  &  &  &  &  &  &  &  &  &  &  &  &  &  &  &  &  &  &  &  &  &  &  &  &  &  &  &  &  &  &  &  &  &  &  &  &  &  &  &  &  &  &  &  &  &  &  &  &  &  &  &  &  &  &  &  &  &  &  &  &  &  &  &  &  &  &  &  &  &  &  &  &  &  &  &  &  &  &  &  &  &  &  &  &  &  &  &  &  &  &  &  &  &  &  &  &  &  &  &  &  &  &  &  &  &  &  &  &  &  &  &  &  &  &  &  &  &  &  &  &  &  &  &  &  &  &  &  &  &  &  &  &  &  &  &  &  &  &  &  &  &  &  &  &  &  &  &  &  &  &  &  &  &  &  &  &  &  &  &  &  &  &  &  &  &  &  &  &  &  &  &  &  &  &  &  &  &  &  &  &  &  &  &  &  &  &  &  &  &  &  &  &  &  &  &  &  &  &  &  &  &  &  &  &  &  &  &  &  &  &  &  &  &  &  &  &  &  &  &  &  &  &  &  &  &  &  &  &  &  &  &  &  &  &  &  &  &  &  &  &  &  &  &  &  &  &  &  &  &  &  &  &  &  &  &  &  &  &  &  &  &  &  &  &  &  &  &  &  &  &  &  &  &  &  &  &  &  &  &  &  &  &  &  &  &  &  &  &  &  &  &  &  &  &  &  &  &  &  &  &  &  &  &  &  &  &  &  &  &  &  &  &  &  &  &  &  &  &  &  &  &  &  &  &  &  &  &  &  &  &  &  &  &  &  &  &  &  &  &  &  &  &  &  &  &  &  &  &  &  &  &  &  &  &  &  &  &  &  &  &  &  &  &  &  &  &  &  &  &  &  &  &  &  &  &  &  &  &  &  &  &  &  &  &  &  &  &  &  &  &  &  &  &  &  &  &  &  &  &  &  &  &  &  &  &  &  &  &  &  &  &  &  &  &  &  &  &  &  &  &  &  &  &  &  &  &  &  &  &  &  &  &  &  &  &  &  &  &  &  &  &  &  &  &  &  &  &  &  &  &  &  &  &  &  &  &  &  &  &  &  &  &  &  &  &  &  &  &  &  &  &  &  &  &  &  &  &  &  &  &  &  &  &  &  &  &  &  &  &  &  &  &  &  &  &  &  &  &  &  &  &  &  &  &  &  &  &  &  &  &  &  &  &  &  &  &  &  &  &  &  &  &  &  &  &  &  &  &  &  &  &  &  &  &  &  &  &  &  &  &  &  &  &  &  &  &  &  &  &  &  &  &  &  &  &  &  &  &  &  &  &  &  &  &  &  &  &  &  &  &  &  &  &  &  &  &  &  &  &  &  &  &  &  &  &  &  &  &  &  &  &  &  &  &  &  &  &  &  &  &  &  &  &  &  &  &  &  &  &  &  &  &  &  &  &  &  &  &  &  &  &  &  &  &  &  &  &  &  &  &  &  &  &  &  &  &  &  &  &  &  &  &  &  &  &  &  &  &  &  &  &  &  &  &  &  &  &  &  &  &  &  &  &  &  &  &  &  &  &  &  &  &  &  &  &  &  &  &  &  &  &  &  &  &  &  &  &  &  &  &  &  &  &  &  &  &  &  &  &  &  &  &  &  &  &  &  &  &  &  &  &  &  &  &  &  &  &  &  &  &  &  &  &  &  &  &  &  &  &  &  &  &  &  &  &  &  &  &  &  &  &  &  &  &  &  &  &  &  &  &  &  &  &  &  &  &  &  &  &  &  &  &  &  &  &  &  &  &  &  &  &  &  &  &  &  &  &  &  &  &  &  &  &  &  &  &  &  &  &  &  &  &  &  &  &  &  &  &  &  &  &  &  &  &  &  &  &  &  &  &  &  &  &  &  &  &  &  &  &  &  &  &  &  &  &  &  &  &  &  &  &  &  &  &  &  &  &  &  &  &  &  &  &  &  &  &  &  &  &  &  &  &  &  &  &  &  &  &  &  &  &  &  &  &  &  &  &  &  &  &  &  &  &  &  &  &  &  &  &  &  &  &  &  &  &  &  &  &  &  &  &  &  &  &  &  &  &  &  &  &  &  &  &  &  &  &  &  &  &  &  &  &  &  &  &  &  &  &  &  &  &  &  &  &  &  &  &  &  &  &  &  &  &  &  &  &  &  &  &  &  &  &  &  &  &  &  &  &  &  &  &  &  &  &  &  &  &  &  &  &  &  &  &  &  &  &  &  &  &  &  &  &  &  &  &  &  &  &  &  &  &  &  &  &  &  &  &  &  &  &  &  &  &  &  &  &  &  &  &  &  &  &  &  &  &  &  &  &  &  &  &  &  &  &  &  &  &  &  &  &  &  &  &  &  &  &  &  &  &  &  &  &  &  &  &  &  &  &  &  &  &  &  &  &  &  &  &  &  &  &  &  &  &  &  &  &  &  &  &  &  &  &  &  &  &  &  &  &  &  &  &  &  &  &  &  &  &  &  &  &  &  &  &  &  &  &  &  &  &  &  &  &  &  &  &  &  &  &  &  &  &  &  &  &  &  &  &  &  &  &  &  &  &  &  &  &  &  &  &  &  &  &  &  &  &  &  &  &  &  &  &  &  &  &  &  &  &  &  &  &  &  &  &  &  &  &  &  &  &  &  &  &  &  &  &  &  &  &  &  &  &  &  &  &  &  &  &  &  &  &  &  &  &  &  &  &  &  &  &  &  &  &  &  &  &  &  &  &  &  &  &  &  &  &  &  &  &  &  &  &  &  &  &  &  &  &  &  &  &  &  &  &  &  &  &  &  &  &  &  &  &  &  &  &  &  &  &  &  &  &  &  &  &  &  &  &  &  &  &  &  &  &  &  &  &  &  &  &  &  &  &  &  &  &  &  &  &  &  &  &  &  &  &  &  &  &  &  &  &  &  &  &  &  &  &  &  &  &  &  &  &  &  &  &  &  &  &  &  &  &  &  &  &  &  &  &  &  &  &  &  &  &  &  &  &  &  &  &  &  &  &  &  &  &  &  &  &  &  &  &  &  &  &  &  &  &  &  &  &  &  &  &  &  &  &  &  &  &  &  &  &  &  &  &  &  &  &  &  &  &  &  &  &  &  &  &  &  &  &  &  &  &  &  &  &  &  &  &  &  &  &  &  &  &  &  &  &  &  &  &  &  &  &  &  &  &  &  &  &  &  &  &  &  &  &  &  &  &  &  &  &  &  &  &  &  &  &  &  &  &  &  &  &  &  &  &  &  &  &  &  &  &  &  &  &  &  &  &  &  &  &  &  &  &  &  &  &  &  &  &  &  &  &  &  &  &  &  &  &  &  &  &  &  &  &  &  &  &  &  &  &  &  &  &  &  &  &  &  &  &  &  &  &  &  &  &  &  &  &  &  &  &  &  &  &  &  &  &  &  &  &  &  &  &  &  &  &  &  &  &  &  &  &  &  &  &  &  &  &  &  &  &  &  &  &  &  &  &  &  &  &  &  &  &  &  &  &  &  &  &  &  &  &  &  &  &  &  &  &  &  &  &  &  &  &  &  &  &  &  &  &  &  &  &  &  &  &  &  &  &  &  &  &  &  &  &  &  &  &  &  &  &  &  &  &  &  &  &  &  &  &  &  &  &  &  &  &  &  &  &  &  &  &  &  &  &  &  &  &  &  &  &  &  &  &  &  &  &  &  &  &  &  &  &  &  &  &  &  &  &  &  &  &  &  &  &  &  &  &  &  &  &  &  &  &  &  &  &  &  &  &  &  &  &  &  &  &  &  &  &  &  &  &  &  &  &  &  &  &  &  &  &  &  &  &  &  &  &  &  &  &  &  &  &  &  &  &  &  &  &  &  &  &  &  &  &  &  &  &  &  &  &  &  &  &  &  &  &  &  &  &  &  &  &  &  &  &  &  &  &  &  &  &  &  &  &  &  &  &  &  &  &  &  &  &  &  &  &  &  &  &  &  &  &  &  &  &  &  &  &  &  &  &  &  &  &  &  &  &  &  &  &  &  &  &  &  &  &  &  &  &  &  &  &  &  &  &  &  &  &  &  &  &  &  &  &  &  &  &  &  &  &  &  &  &  &  &  &  &  &  &  &  &  &  &  &  &  &  &  &  &  &  &  &  &  &  &  &  &  &  &  &  &  &  &  &  &  &  &  &  &  &  &  &  &  &  &  &  &  &  &  &  &  &  &  &  &  &  &  &  &  &  &  &  &  &  &  &  &  &  &  &  &  &  &  &  &  &  &  &  &  &  &  &  &  &  &  &  &  &  &  &  &  &  &  &  &  &  &  &  &  &  &  &  &  &  &  &  &  &  &  &  &  &  &  &  &  &  &  &  &  &  &  &  &  &  &  &  &  &  &  &  &  &  &  &  &  &  &  &  &  &  &  &  &  &  &  &  &  &  &  &  &  &  &  &  &  &  &  &  &  &  &  &  &  &  &  &  &  &  &  &  &  &  &  &  &  &  &  &  &  &  &  &  &  &  &  &  &  &  &  &  &  &  &  &  &  &  &  &  &  &  &  &  &  &  &  &  &  &  &  &  &  &  &  &  &  &  &  &  &  &  &  &  &  &  &  &  &  &  &  &  &  &  &  &  &  &  &  &  &  &  &  &  &  &  &  &  &  &  &  &  &  &  &  &  &  &  &  &  &  &  &  &  &  &  &  &  &  &  &  &  &  &  &  &  &  &  &  &  &  &  &  &  &  &  &  &  &  &  &  &  &  &  &  &  &  &  &  &  &  &  &  &  &  &  &  &  &  &  &  &  &  &  &  &  &  &  &  &  &  &  &  &  &  &  &  &  &  &  &  &  &  &  &  &  &  &  &  &  &  &  &  &  &  &  &  &  &  &  &  &  &  &  &  &  &  &  &  &  &  &  &  &  &  &  &  &  &  &  &  &  &  &  &  &  &  &  &  &  &  &  &  &  &  &  &  &  &  &  &  &  &  &  &  &  &  &  &  &  &  &  &  &  &  &  &  &  &  &  &  &  &  &  &  &  &  &  &  &  &  &  &  &  &  &  &  &  &  &  &  &  &  &  &  &  &  &  &  &  &  &  &  &  &  &  &  &  &  &  &  &  &  &  &  &  &  &  &  &  &  &  &  &  &  &  &  &  &  &  &  &  &  &  &  &  &  &  &  &  &  &  &  &  &  &  &  &  &  &  &  &  &  &  &  &  &  &  &  &  &  &  &  &  &  &  &  &  &  &  &  &  &  &  &  &  &  &  &  &  &  &  &  &  &  &  &  &  &  &  &  &  &  &  &  &  &  &  &  &  &  &  &  &  &  &  &  &  &  &  &  &  &  &  &  &  &  &  &  &  &  &  &  &  &  &  &  &  &  &  &  &  &  &  &  &  &  &  &  &  &  &  &  &  &  &  &  &  &  &  &  &  &  &  &  &  &  &  &  &  &  &  &  &  &  &  &  &  &  &  &  &  &  &  &  &  &  &  &  &  &  &  &  &  &  &  &  &  &  &  &  &  &  &  &  &  &  &  &  &  &  &  &  &  &  &  &  &  &  &  &  &  &  &  &  &  &  &  &  &  &  &  &  &  &  &  &  &  &  &  &  &  &  &  &  &  &  &  &  &  &  &  &  &  &  &  &  &  &  &  &  &  &  &  &  &  &  &  &  &  &  &  &  &  &  &  &  &  &  &  &  &  &  &  &  &  &  &  &  &  &  &  &  &  &  &  &  &  &  &  &  &  &  &  &  &  &  &  &  &  &  &  &  &  &  &  &  &  &  &  &  &  &  &  &  &  &  &  &  &  &  &  &  &  &  &  &  &  &  &  &  &  &  &  &  &  &  &  &  &  &  &  &  &  &  &  &  &  &  &  &  &  &  &  &  &  &  &  &  &  &  &  &  &  &  &  &  &  &  &  &  &  &  &  &  &  &  &  &  &  &  &  &  &  &  &  &  &  &  &  &  &  &  &  &  &  &  &  &  &  &  &  &  &  &  &  &  &  &  &  &  &  &  &  &  &  &  &  &  &  &  &  &  &  &  &  &  &  &  &  &  &  &  &  &  &  &  &  &  &  &  &  &  &  &  &  &  &  &  &  &  &  &  &  &  &  &  &  &  &  &  &  &  &  &  &  &  &  &  &  &  &  &  &  &  &  &  &  &  &  &  &  &  &  &  &  &  &  &  &  &  &  &  &  &  &  &  &  &  &  &  &  &  &  &  &  &  &  &  &  &  &  &  &  &  &  &  &  &  &  &  &  &  &  &  &  &  &  &  &  &  &  &  &  &  &  &  &  &  &  &  &  &  &  &  &  &  &  &  &  &  &  &  &  &  &  &  &  &  &  &  &  &  &  &  &  &  &  &  &  &  &  &  &  &  &  &  &  &  &  &  &  &  &  &  &  &  &  &  &  &  &  &  &  &  &  &  &  &  &  &  &  &  &  &  &  &  &  &  &  &  &  &  &  &  &  &  &  &  &  &  &  &  &  &  &  &  &  &  &  &  &  &  &  &  &  &  &  &  &  &  &  &  &  &  &  &  &  &  &  &  &  &  &  &  &  &  &  &  &  &  &  &  &  &  &  &  &  &  &  &  &  &  &  &  &  &  &  &  &  &  &  &  &  &  &  &  &  &  &  &  &  &  &  &  &  &  &  &  &  &  &  &  &  &  &  &  &  &  &  &  &  &  &  &  &  &  &  &  &  &  &  &  &  &  &  &  &  &  &  &  &  &  &  &  &  &  &  &  &  &  &  &  &  &  &  &  &  &  &  &  &  &  &  &  &  &  &  &  &  &  &  &  &  &  &  &  &  &  &  &  &  &  &  &  &  &  &  &  &  &  &  &  &  &  &  &  &  &  &  &  &  &  &  &  &  &  &  &  &  &  &  &  &  &  &  &  &  &  &  &  &  &  &  &  &  &  &  &  &  &  &  &  &  &  &  &  &  &  &  &  &  &  &  &  &  &  &  &  &  &  &  &  &  &  &  &  &  &  &  &  &  &  &  &  &  &  &  &  &  &  &  &  &  &  &  &  &  &  &  &  &  &  &  &  &  &  &  &  &  &  &  &  &  &  &  &  &  &  &  &  &  &  &  &  &  &  &  &  &  &  &  &  &  &  &  &  &  &  &  &  &  &  &  &  &  &  &  &  &  &  &  &  &  &  &  &  &  &  &  &  &  &  &  &  &  &  &  &  &  &  &  &  &  &  &  &  &  &  &  &  &  &  &  &  &  &  &  &  &  &  &  &  &  &  &  &  &  &  &  &  &  &  &  &  &  &  &  &  &  &  &  &  &  &  &  &  &  &  &  &  &  &  &  &  &  &  &  &  &  &  &  &  &  &  &  &  &  &  &  &  &  &  &  &  &  &  &  &  &  &  &  &  &  &  &  &  &  &  &  &  &  &  &  &  &  &  &  &  &  &  &  &  &  &  &  &  &  &  &  &  &  &  &  &  &  &  &  &  &  &  &  &  &  &  &  &  &  &  &  &  &  &  &  &  &  &  &  &  &  &  &  &  &  &  &  &  &  &  &  &  &  &  &  &  &  &  &  &  &  &  &  &  &  &  &  &  &  &  &  &  &  &  &  &  &  &  &  &  &  &  &  &  &  &  &  &  &  &  &  &  &  &  &  &  &  &  &  &  &  &  &  &  &  &  &  &  &  &  &  &  &  &  &  &  &  &  &  &  &  &  &  &  &  &  &  &  &  &  &  &  &  &  &  &  &  &  &  &  &  &  &  &  &  &  &  &  &  &  &  &  &  &  &  &  &  &  &  &  &  &  &  &  &  &  &  &  &  &  &  &  &  &  &  &  &  &  &  &  &  &  &  &  &  &  &  &  &  &  &  &  &  &  &  &  &  &  &  &  &  &  &  &  &  &  &  &  &  &  &  &  &  &  &  &  &  &  &  &  &  &  &  &  &  &  &  &  &  &  &  &  &  &  &  &  &  &  &  &  &  &  &  &  &  &  &  &  &  &  &  &  &  &  &  &  &  &  &  &  &  &  &  &  &  &  &  &  &  &  &  &  &  &  &  &  &  &  &  &  &  &  &  &  &  &  &  &  &  &  &  &  &  &  &  &  &  &  &  &  &  &  &  &  &  &  &  &  &  &  &  &  &  &  &  &  &  &  &  &  &  &  &  &  &  &  &  &  &  &  &  &  &  &  &  &  &  &  &  &  &  &  &  &  &  &  &  &  &  &  &  &  &  &  &  &  &  &  &  &  &  &  &  &  &  &  &  &  &  &  &  &  &  &  &  &  &  &  &  &  &  &  &  &  &  &  &  &  &  &  &  &  &  &  &  &  &  &  &  &  &  &  &  &  &  &  &  &  &  &  &  &  &  &  &  &  &  &  &  &  &  &  &  &  &  &  &  &  &  &  &  &  &  &  &  &  &  &  &  &  &  &  &  &  &  &  &  &  &  &  &  &  &  &  &  &  &  &  &  &  &  &  &  &  &  &  &  &  &  &  &  &  &  &  &  &  &  &  &  &  &  &  &  &  &  &  &  &  &  &  &  &  &  &  &  &  &  &  &  &  &  &  &  &  &  &  &  &  &  &  &  &  &  &  &  &  &  &  &  &  &  &  &  &  &  &  &  &  &  &  &  &  &  &  &  &  &  &  &  &  &  &  &  &  &  &  &  &  &  &  &  &  &  &  &  &  &  &  &  &  &  &  &  &  &  &  &  &  &  &  &  &  &  &  &  &  &  &  &  &  &  &  &  &  &  &  &  &  &  &  &  &  &  &  &  &  &  &  &  &  &  &  &  &  &  &  &  &  &  &  &  &  &  &  &  &  &  &  &  &  &  &  &  &  &  &  &  &  &  &  &  &  &  &  &  &  &  &  &  &  &  &  &  &  &  &  &  &  &  &  &  &  &  &  &  &  &  &  &  &  &  &  &  &  &  &  &  &  &  &  &  &  &  &  &  &  &  &  &  &  &  &  &  &  &  &  &  &  &  &  &  &  &  &  &  &  &  &  &  &  &  &  &  &  &  &  &  &  &  &  &  &  &  &  &  &  &  &  &  &  &  &  &  &  &  &  &  &  &  &  &  &  &  &  &  &  &  &  &  &  &  &  &  &  &  &  &  &  &  &  &  &  &  &  &  &  &  &  &  &  &  &  &  &  &  &  &  &  &  &  &  &  &  &  &  &  &  &  &  &  &  &  &  &  &  &  &  &  &  &  &  &  &  &  &  &  &  &  &  &  &  &  &  &  &  &  &  &  &  &  &  &  &  &  &  &  &  &  &  &  &  &  &  &  &  &  &  &  &  &  &  &  &  &  &  &  &  &  &  &  &  &  &  &  &  &  &  &  &  &  &  &  &  &  &  &  &  &  &  &  &  &  &  &  &  &  &  &  &  &  &  &  &  &  &  &  &  &  &  &  &  &  &  &  &  &  &  &  &  &  &  &  &  &  &  &  &  &  &  &  &  &  &  &  &  &  &  &  &  &  &  &  &  &  &  &  &  &  &  &  &  &  &  &  &  &  &  &  &  &  &  &  &  &  &  &  &  &  &  &  &  &  &  &  &  &  &  &  &  &  &  &  &  &  &  &  &  &  &  &  &  &  &  &  &  &  &  &  &  &  &  &  &  &  &  &  &  &  &  &  &  &  &  &  &  &  &  &  &  &  &  &  &  &  &  &  &  &  &  &  &  &  &  &  &  &  &  &  &  &  &  &  &  &  &  &  &  &  &  &  &  &  &  &  &  &  &  &  &  &  &  &  &  &  &  &  &  &  &  &  &  &  &  &  &  &  &  &  &  &  &  &  & \\end{pmatrix}\\ \\frac{\\mathrm{kilogram}}{\\left(\\mathrm{meter}^{3} \\cdot \\mathrm{second}\\right)}$"
      ],
      "text/plain": [
       "array([8.86709255e-06, 6.77866486e-06, 5.75832317e-06, ...,\n",
       "       3.58664294e-05, 4.82363747e-05, 3.66294642e-05]) <Unit('kilogram / meter ** 3 / second')>"
      ]
     },
     "metadata": {},
     "output_type": "display_data"
    }
   ],
   "source": [
    "total_lateral_adv_divergence = (\n",
    "    face1_projected_adv_flux*A1 + \n",
    "    face2_projected_adv_flux*A2 + \n",
    "    face3_projected_adv_flux*A3\n",
    ") / VOLUME\n",
    "display(total_lateral_adv_divergence)\n",
    "\n",
    "total_vertical_adv_divergence = (face4_adv_flux*A4 + face5_adv_flux*A5)  / VOLUME\n",
    "display(total_vertical_adv_divergence)\n",
    "\n",
    "total_adv_divergence = total_lateral_adv_divergence + total_vertical_adv_divergence\n",
    "display(total_adv_divergence)"
   ]
  },
  {
   "cell_type": "code",
   "execution_count": 156,
   "metadata": {},
   "outputs": [
    {
     "data": {
      "text/plain": [
       "(1.3161578060171062e-05, 1.097381728834035e-05)"
      ]
     },
     "execution_count": 156,
     "metadata": {},
     "output_type": "execute_result"
    }
   ],
   "source": [
    "np.nanmean(total_lateral_adv_divergence.magnitude), np.nanmedian(total_lateral_adv_divergence.magnitude)"
   ]
  },
  {
   "cell_type": "code",
   "execution_count": 157,
   "metadata": {},
   "outputs": [
    {
     "data": {
      "text/plain": [
       "(7.306808158532067e-06, 0.0)"
      ]
     },
     "execution_count": 157,
     "metadata": {},
     "output_type": "execute_result"
    }
   ],
   "source": [
    "np.nanmean(total_lateral_divergence.magnitude), np.nanmedian(total_lateral_divergence.magnitude)"
   ]
  },
  {
   "cell_type": "markdown",
   "metadata": {},
   "source": [
    "### Add to dataset"
   ]
  },
  {
   "cell_type": "code",
   "execution_count": 158,
   "metadata": {},
   "outputs": [
    {
     "data": {
      "text/html": [
       "<table><tbody><tr><th>Magnitude</th><td style='text-align:left;'><pre>[8.436020090619281e-06 3.3832412549947983e-06 4.101087464417333e-06 ...<br> 3.5131609181143416e-05 6.193187096904424e-05 4.404962958670482e-05]</pre></td></tr><tr><th>Units</th><td style='text-align:left;'>kilogram/(meter<sup>3</sup> second)</td></tr></tbody></table>"
      ],
      "text/latex": [
       "$\\begin{pmatrix} &  &  &  &  &  &  &  &  &  &  &  &  &  &  &  &  &  &  &  &  &  &  &  &  &  &  &  &  &  &  &  &  &  &  &  &  &  &  &  &  &  &  &  &  &  &  &  &  &  &  &  &  &  &  &  &  &  &  &  &  &  &  &  &  &  &  &  &  &  &  &  &  &  &  &  &  &  &  &  &  &  &  &  &  &  &  &  &  &  &  &  &  &  &  &  &  &  &  &  &  &  &  &  &  &  &  &  &  &  &  &  &  &  &  &  &  &  &  &  &  &  &  &  &  &  &  &  &  &  &  &  &  &  &  &  &  &  &  &  &  &  &  &  &  &  &  &  &  &  &  &  &  &  &  &  &  &  &  &  &  &  &  &  &  &  &  &  &  &  &  &  &  &  &  &  &  &  &  &  &  &  &  &  &  &  &  &  &  &  &  &  &  &  &  &  &  &  &  &  &  &  &  &  &  &  &  &  &  &  &  &  &  &  &  &  &  &  &  &  &  &  &  &  &  &  &  &  &  &  &  &  &  &  &  &  &  &  &  &  &  &  &  &  &  &  &  &  &  &  &  &  &  &  &  &  &  &  &  &  &  &  &  &  &  &  &  &  &  &  &  &  &  &  &  &  &  &  &  &  &  &  &  &  &  &  &  &  &  &  &  &  &  &  &  &  &  &  &  &  &  &  &  &  &  &  &  &  &  &  &  &  &  &  &  &  &  &  &  &  &  &  &  &  &  &  &  &  &  &  &  &  &  &  &  &  &  &  &  &  &  &  &  &  &  &  &  &  &  &  &  &  &  &  &  &  &  &  &  &  &  &  &  &  &  &  &  &  &  &  &  &  &  &  &  &  &  &  &  &  &  &  &  &  &  &  &  &  &  &  &  &  &  &  &  &  &  &  &  &  &  &  &  &  &  &  &  &  &  &  &  &  &  &  &  &  &  &  &  &  &  &  &  &  &  &  &  &  &  &  &  &  &  &  &  &  &  &  &  &  &  &  &  &  &  &  &  &  &  &  &  &  &  &  &  &  &  &  &  &  &  &  &  &  &  &  &  &  &  &  &  &  &  &  &  &  &  &  &  &  &  &  &  &  &  &  &  &  &  &  &  &  &  &  &  &  &  &  &  &  &  &  &  &  &  &  &  &  &  &  &  &  &  &  &  &  &  &  &  &  &  &  &  &  &  &  &  &  &  &  &  &  &  &  &  &  &  &  &  &  &  &  &  &  &  &  &  &  &  &  &  &  &  &  &  &  &  &  &  &  &  &  &  &  &  &  &  &  &  &  &  &  &  &  &  &  &  &  &  &  &  &  &  &  &  &  &  &  &  &  &  &  &  &  &  &  &  &  &  &  &  &  &  &  &  &  &  &  &  &  &  &  &  &  &  &  &  &  &  &  &  &  &  &  &  &  &  &  &  &  &  &  &  &  &  &  &  &  &  &  &  &  &  &  &  &  &  &  &  &  &  &  &  &  &  &  &  &  &  &  &  &  &  &  &  &  &  &  &  &  &  &  &  &  &  &  &  &  &  &  &  &  &  &  &  &  &  &  &  &  &  &  &  &  &  &  &  &  &  &  &  &  &  &  &  &  &  &  &  &  &  &  &  &  &  &  &  &  &  &  &  &  &  &  &  &  &  &  &  &  &  &  &  &  &  &  &  &  &  &  &  &  &  &  &  &  &  &  &  &  &  &  &  &  &  &  &  &  &  &  &  &  &  &  &  &  &  &  &  &  &  &  &  &  &  &  &  &  &  &  &  &  &  &  &  &  &  &  &  &  &  &  &  &  &  &  &  &  &  &  &  &  &  &  &  &  &  &  &  &  &  &  &  &  &  &  &  &  &  &  &  &  &  &  &  &  &  &  &  &  &  &  &  &  &  &  &  &  &  &  &  &  &  &  &  &  &  &  &  &  &  &  &  &  &  &  &  &  &  &  &  &  &  &  &  &  &  &  &  &  &  &  &  &  &  &  &  &  &  &  &  &  &  &  &  &  &  &  &  &  &  &  &  &  &  &  &  &  &  &  &  &  &  &  &  &  &  &  &  &  &  &  &  &  &  &  &  &  &  &  &  &  &  &  &  &  &  &  &  &  &  &  &  &  &  &  &  &  &  &  &  &  &  &  &  &  &  &  &  &  &  &  &  &  &  &  &  &  &  &  &  &  &  &  &  &  &  &  &  &  &  &  &  &  &  &  &  &  &  &  &  &  &  &  &  &  &  &  &  &  &  &  &  &  &  &  &  &  &  &  &  &  &  &  &  &  &  &  &  &  &  &  &  &  &  &  &  &  &  &  &  &  &  &  &  &  &  &  &  &  &  &  &  &  &  &  &  &  &  &  &  &  &  &  &  &  &  &  &  &  &  &  &  &  &  &  &  &  &  &  &  &  &  &  &  &  &  &  &  &  &  &  &  &  &  &  &  &  &  &  &  &  &  &  &  &  &  &  &  &  &  &  &  &  &  &  &  &  &  &  &  &  &  &  &  &  &  &  &  &  &  &  &  &  &  &  &  &  &  &  &  &  &  &  &  &  &  &  &  &  &  &  &  &  &  &  &  &  &  &  &  &  &  &  &  &  &  &  &  &  &  &  &  &  &  &  &  &  &  &  &  &  &  &  &  &  &  &  &  &  &  &  &  &  &  &  &  &  &  &  &  &  &  &  &  &  &  &  &  &  &  &  &  &  &  &  &  &  &  &  &  &  &  &  &  &  &  &  &  &  &  &  &  &  &  &  &  &  &  &  &  &  &  &  &  &  &  &  &  &  &  &  &  &  &  &  &  &  &  &  &  &  &  &  &  &  &  &  &  &  &  &  &  &  &  &  &  &  &  &  &  &  &  &  &  &  &  &  &  &  &  &  &  &  &  &  &  &  &  &  &  &  &  &  &  &  &  &  &  &  &  &  &  &  &  &  &  &  &  &  &  &  &  &  &  &  &  &  &  &  &  &  &  &  &  &  &  &  &  &  &  &  &  &  &  &  &  &  &  &  &  &  &  &  &  &  &  &  &  &  &  &  &  &  &  &  &  &  &  &  &  &  &  &  &  &  &  &  &  &  &  &  &  &  &  &  &  &  &  &  &  &  &  &  &  &  &  &  &  &  &  &  &  &  &  &  &  &  &  &  &  &  &  &  &  &  &  &  &  &  &  &  &  &  &  &  &  &  &  &  &  &  &  &  &  &  &  &  &  &  &  &  &  &  &  &  &  &  &  &  &  &  &  &  &  &  &  &  &  &  &  &  &  &  &  &  &  &  &  &  &  &  &  &  &  &  &  &  &  &  &  &  &  &  &  &  &  &  &  &  &  &  &  &  &  &  &  &  &  &  &  &  &  &  &  &  &  &  &  &  &  &  &  &  &  &  &  &  &  &  &  &  &  &  &  &  &  &  &  &  &  &  &  &  &  &  &  &  &  &  &  &  &  &  &  &  &  &  &  &  &  &  &  &  &  &  &  &  &  &  &  &  &  &  &  &  &  &  &  &  &  &  &  &  &  &  &  &  &  &  &  &  &  &  &  &  &  &  &  &  &  &  &  &  &  &  &  &  &  &  &  &  &  &  &  &  &  &  &  &  &  &  &  &  &  &  &  &  &  &  &  &  &  &  &  &  &  &  &  &  &  &  &  &  &  &  &  &  &  &  &  &  &  &  &  &  &  &  &  &  &  &  &  &  &  &  &  &  &  &  &  &  &  &  &  &  &  &  &  &  &  &  &  &  &  &  &  &  &  &  &  &  &  &  &  &  &  &  &  &  &  &  &  &  &  &  &  &  &  &  &  &  &  &  &  &  &  &  &  &  &  &  &  &  &  &  &  &  &  &  &  &  &  &  &  &  &  &  &  &  &  &  &  &  &  &  &  &  &  &  &  &  &  &  &  &  &  &  &  &  &  &  &  &  &  &  &  &  &  &  &  &  &  &  &  &  &  &  &  &  &  &  &  &  &  &  &  &  &  &  &  &  &  &  &  &  &  &  &  &  &  &  &  &  &  &  &  &  &  &  &  &  &  &  &  &  &  &  &  &  &  &  &  &  &  &  &  &  &  &  &  &  &  &  &  &  &  &  &  &  &  &  &  &  &  &  &  &  &  &  &  &  &  &  &  &  &  &  &  &  &  &  &  &  &  &  &  &  &  &  &  &  &  &  &  &  &  &  &  &  &  &  &  &  &  &  &  &  &  &  &  &  &  &  &  &  &  &  &  &  &  &  &  &  &  &  &  &  &  &  &  &  &  &  &  &  &  &  &  &  &  &  &  &  &  &  &  &  &  &  &  &  &  &  &  &  &  &  &  &  &  &  &  &  &  &  &  &  &  &  &  &  &  &  &  &  &  &  &  &  &  &  &  &  &  &  &  &  &  &  &  &  &  &  &  &  &  &  &  &  &  &  &  &  &  &  &  &  &  &  &  &  &  &  &  &  &  &  &  &  &  &  &  &  &  &  &  &  &  &  &  &  &  &  &  &  &  &  &  &  &  &  &  &  &  &  &  &  &  &  &  &  &  &  &  &  &  &  &  &  &  &  &  &  &  &  &  &  &  &  &  &  &  &  &  &  &  &  &  &  &  &  &  &  &  &  &  &  &  &  &  &  &  &  &  &  &  &  &  &  &  &  &  &  &  &  &  &  &  &  &  &  &  &  &  &  &  &  &  &  &  &  &  &  &  &  &  &  &  &  &  &  &  &  &  &  &  &  &  &  &  &  &  &  &  &  &  &  &  &  &  &  &  &  &  &  &  &  &  &  &  &  &  &  &  &  &  &  &  &  &  &  &  &  &  &  &  &  &  &  &  &  &  &  &  &  &  &  &  &  &  &  &  &  &  &  &  &  &  &  &  &  &  &  &  &  &  &  &  &  &  &  &  &  &  &  &  &  &  &  &  &  &  &  &  &  &  &  &  &  &  &  &  &  &  &  &  &  &  &  &  &  &  &  &  &  &  &  &  &  &  &  &  &  &  &  &  &  &  &  &  &  &  &  &  &  &  &  &  &  &  &  &  &  &  &  &  &  &  &  &  &  &  &  &  &  &  &  &  &  &  &  &  &  &  &  &  &  &  &  &  &  &  &  &  &  &  &  &  &  &  &  &  &  &  &  &  &  &  &  &  &  &  &  &  &  &  &  &  &  &  &  &  &  &  &  &  &  &  &  &  &  &  &  &  &  &  &  &  &  &  &  &  &  &  &  &  &  &  &  &  &  &  &  &  &  &  &  &  &  &  &  &  &  &  &  &  &  &  &  &  &  &  &  &  &  &  &  &  &  &  &  &  &  &  &  &  &  &  &  &  &  &  &  &  &  &  &  &  &  &  &  &  &  &  &  &  &  &  &  &  &  &  &  &  &  &  &  &  &  &  &  &  &  &  &  &  &  &  &  &  &  &  &  &  &  &  &  &  &  &  &  &  &  &  &  &  &  &  &  &  &  &  &  &  &  &  &  &  &  &  &  &  &  &  &  &  &  &  &  &  &  &  &  &  &  &  &  &  &  &  &  &  &  &  &  &  &  &  &  &  &  &  &  &  &  &  &  &  &  &  &  &  &  &  &  &  &  &  &  &  &  &  &  &  &  &  &  &  &  &  &  &  &  &  &  &  &  &  &  &  &  &  &  &  &  &  &  &  &  &  &  &  &  &  &  &  &  &  &  &  &  &  &  &  &  &  &  &  &  &  &  &  &  &  &  &  &  &  &  &  &  &  &  &  &  &  &  &  &  &  &  &  &  &  &  &  &  &  &  &  &  &  &  &  &  &  &  &  &  &  &  &  &  &  &  &  &  &  &  &  &  &  &  &  &  &  &  &  &  &  &  &  &  &  &  &  &  &  &  &  &  &  &  &  &  &  &  &  &  &  &  &  &  &  &  &  &  &  &  &  &  &  &  &  &  &  &  &  &  &  &  &  &  &  &  &  &  &  &  &  &  &  &  &  &  &  &  &  &  &  &  &  &  &  &  &  &  &  &  &  &  &  &  &  &  &  &  &  &  &  &  &  &  &  &  &  &  &  &  &  &  &  &  &  &  &  &  &  &  &  &  &  &  &  &  &  &  &  &  &  &  &  &  &  &  &  &  &  &  &  &  &  &  &  &  &  &  &  &  &  &  &  &  &  &  &  &  &  &  &  &  &  &  &  &  &  &  &  &  &  &  &  &  &  &  &  &  &  &  &  &  &  &  &  &  &  &  &  &  &  &  &  &  &  &  &  &  &  &  &  &  &  &  &  &  &  &  &  &  &  &  &  &  &  &  &  &  &  &  &  &  &  &  &  &  &  &  &  &  &  &  &  &  &  &  &  &  &  &  &  &  &  &  &  &  &  &  &  &  &  &  &  &  &  &  &  &  &  &  &  &  &  &  &  &  &  &  &  &  &  &  &  &  &  &  &  &  &  &  &  &  &  &  &  &  &  &  &  &  &  &  &  &  &  &  &  &  &  &  &  &  &  &  &  &  &  &  &  &  &  &  &  &  &  &  &  &  &  &  &  &  &  &  &  &  &  &  &  &  &  &  &  &  &  &  &  &  &  &  &  &  &  &  &  &  &  &  &  &  &  &  &  &  &  &  &  &  &  &  &  &  &  &  &  &  &  &  &  &  &  &  &  &  &  &  &  &  &  &  &  &  &  &  &  &  &  &  &  &  &  &  &  &  &  &  &  &  &  &  &  &  &  &  &  &  &  &  &  &  &  &  &  &  &  &  &  &  &  &  &  &  &  &  &  &  &  &  &  &  &  &  &  &  &  &  &  &  &  &  &  &  &  &  &  &  &  &  &  &  &  &  &  &  &  &  &  &  &  &  &  &  &  &  &  &  &  &  &  &  &  &  &  &  &  &  &  &  &  &  &  &  &  &  &  &  &  &  &  &  &  &  &  &  &  &  &  &  &  &  &  &  &  &  &  &  &  &  &  &  &  &  &  &  &  &  &  &  &  &  &  &  &  &  &  &  &  &  &  &  &  &  &  &  &  &  &  &  &  &  &  &  &  &  &  &  &  &  &  &  &  &  &  &  &  &  &  &  &  &  &  &  &  &  &  &  &  &  &  &  &  &  &  &  &  &  &  &  &  &  &  &  &  &  &  &  &  &  &  &  &  &  &  &  &  &  &  &  &  &  &  &  &  &  &  &  &  &  &  &  &  &  &  &  &  &  &  &  &  &  &  &  &  &  &  &  &  &  &  &  &  &  &  &  &  &  &  &  &  &  &  &  &  &  &  &  &  &  &  &  &  &  &  &  &  &  &  &  &  &  &  &  &  &  &  &  &  &  &  &  &  &  &  &  &  &  &  &  &  &  &  &  &  &  &  &  &  &  &  &  &  &  &  &  &  &  &  &  &  &  &  &  &  &  &  &  &  &  &  &  &  &  &  &  &  &  &  &  &  &  &  &  &  &  &  &  &  &  &  &  &  &  &  &  &  &  &  &  &  &  &  &  &  &  &  &  &  &  &  &  &  &  &  &  &  &  &  &  &  &  &  &  &  &  &  &  &  &  &  &  &  &  &  &  &  &  &  &  &  &  &  &  &  &  &  &  &  &  &  &  &  &  &  &  &  &  &  &  &  &  &  &  &  &  &  &  &  &  &  &  &  &  &  &  &  &  &  &  &  &  &  &  &  &  &  &  &  &  &  &  &  &  &  &  &  &  &  &  &  &  &  &  &  &  &  &  &  &  &  &  &  &  &  &  &  &  &  &  &  &  &  &  &  &  &  &  &  &  &  &  &  &  &  &  &  &  &  &  &  &  &  &  &  &  &  &  &  &  &  &  &  &  &  &  &  &  &  &  &  &  &  &  &  &  &  &  &  &  &  &  &  &  &  &  &  &  &  &  &  &  &  &  &  &  &  &  &  &  &  &  &  &  &  &  &  &  &  &  &  &  &  &  &  &  &  &  &  &  &  &  &  &  &  &  &  &  &  &  &  &  &  &  &  &  &  &  &  &  &  &  &  &  &  &  &  &  &  &  &  &  &  &  &  &  &  &  &  &  &  &  &  &  &  &  &  &  &  &  &  &  &  &  &  &  &  &  &  &  &  &  &  &  &  &  &  &  &  &  &  &  &  &  &  &  &  &  &  &  &  &  &  &  &  &  &  &  &  &  &  &  &  &  &  &  &  &  &  &  &  &  &  &  &  &  &  &  &  &  &  &  &  &  &  &  &  &  &  &  &  &  &  &  &  &  &  &  &  &  &  &  &  &  &  &  &  &  &  &  &  &  &  &  &  &  &  &  &  &  &  &  &  &  &  &  &  &  &  &  &  &  &  &  &  &  &  &  &  &  &  &  &  &  &  &  &  &  &  &  &  &  &  &  &  &  &  &  &  &  &  &  &  &  &  &  &  &  &  &  &  &  &  &  &  &  &  &  &  &  &  &  &  &  &  &  &  &  &  &  &  &  &  &  &  &  &  &  &  &  &  &  &  &  &  &  &  &  &  &  &  &  &  &  &  &  &  &  &  &  &  &  &  &  &  &  &  &  &  &  &  &  &  &  &  &  &  &  &  &  &  &  &  &  &  &  &  &  &  &  &  &  &  &  &  &  &  &  &  &  &  &  &  &  &  &  &  &  &  &  &  &  &  &  &  &  &  &  &  &  &  &  &  &  &  &  &  &  &  &  &  &  &  &  &  &  &  &  &  &  &  &  &  &  &  &  &  &  &  &  &  &  &  &  &  &  &  &  &  &  &  &  &  &  &  &  &  &  &  &  &  &  &  &  &  &  &  &  &  &  &  &  &  &  &  &  &  &  &  &  &  &  &  &  &  &  &  &  &  &  &  &  &  &  &  &  &  &  &  &  &  &  &  &  &  &  &  &  &  &  &  &  &  &  &  &  &  &  &  &  &  &  &  &  &  &  &  &  &  &  &  &  &  &  &  &  &  &  &  &  &  &  &  &  &  &  &  &  &  &  &  &  &  &  &  &  &  &  &  &  &  &  &  &  &  &  &  &  &  &  &  &  &  &  &  &  &  &  &  &  &  &  &  &  &  &  &  &  &  &  &  &  &  &  &  &  &  &  &  &  &  &  &  &  &  &  &  &  &  &  &  &  &  &  &  &  &  &  &  &  &  &  &  &  &  &  &  &  &  &  &  &  &  &  &  &  &  &  &  &  &  &  &  &  &  &  &  &  &  &  &  &  &  &  &  &  &  &  &  &  &  &  &  &  &  &  &  &  &  &  &  &  &  &  &  &  &  &  &  &  &  &  &  &  &  &  &  &  &  &  &  &  &  &  &  &  &  &  &  &  &  &  &  &  &  &  &  &  &  &  &  &  &  &  &  &  &  &  &  &  &  &  &  &  &  &  &  &  &  &  &  &  &  &  &  &  &  &  &  &  &  &  &  &  &  &  &  &  &  &  &  &  &  &  &  &  &  &  &  &  &  &  &  &  &  &  &  &  &  &  &  &  &  &  &  &  &  &  &  &  &  &  &  &  &  &  &  &  &  &  &  &  &  &  &  &  &  &  &  &  &  &  &  &  &  &  &  &  &  &  &  &  &  &  &  &  &  &  &  &  &  &  &  &  &  &  &  &  &  &  &  &  &  &  &  &  &  &  &  &  &  &  &  &  &  &  &  &  &  &  &  &  &  &  &  &  &  &  &  &  &  &  &  &  &  &  &  &  &  &  &  &  &  &  &  &  &  &  &  &  &  &  &  &  &  &  &  &  &  &  &  &  &  &  &  &  &  &  &  &  &  &  &  &  &  &  &  &  &  &  &  &  &  &  &  &  &  &  &  &  &  &  &  &  &  &  &  &  &  &  &  &  &  &  &  &  &  &  &  &  &  &  &  &  &  &  &  &  &  &  &  &  &  &  &  &  &  &  &  &  &  &  &  &  &  &  &  &  &  &  &  &  &  &  &  &  &  &  &  &  &  &  &  &  &  &  &  &  &  &  &  &  &  &  &  &  &  &  &  &  &  &  &  &  &  &  &  &  &  &  &  &  &  &  &  &  &  &  &  &  &  &  &  &  &  &  &  &  &  &  &  &  &  &  &  &  &  &  &  &  &  &  &  &  &  &  &  &  &  &  &  &  &  &  &  &  &  &  &  &  &  &  &  &  &  &  &  &  &  &  &  &  &  &  &  &  &  &  &  &  &  &  &  &  &  &  &  &  &  &  &  &  &  &  &  &  &  &  &  &  &  &  &  &  &  &  &  &  &  &  &  &  &  &  &  &  &  &  &  &  &  &  &  &  &  &  &  &  &  &  &  &  &  &  &  &  &  &  &  &  &  &  &  &  &  &  &  &  &  &  &  &  &  &  &  &  &  &  &  &  &  &  &  &  &  &  &  &  &  &  &  &  &  &  &  &  &  &  &  &  &  &  &  &  &  &  &  &  &  &  &  &  &  &  &  &  &  &  &  &  &  &  &  &  &  &  &  &  &  &  &  &  &  &  &  &  &  &  &  &  &  &  &  &  &  &  &  &  &  &  &  &  &  &  &  &  &  &  &  &  &  &  &  &  &  &  &  &  &  &  &  &  &  &  &  &  &  &  &  &  &  &  &  &  &  &  &  &  &  &  &  &  &  &  &  &  &  &  &  &  &  &  &  &  &  &  &  &  &  &  &  &  &  &  &  &  &  &  &  &  &  &  &  &  &  &  &  &  &  &  &  &  &  &  &  &  &  &  &  &  &  &  &  &  &  &  &  &  &  &  &  &  &  &  &  &  &  &  &  &  &  &  &  &  &  &  &  &  &  &  &  &  &  &  &  &  &  &  &  &  &  &  &  &  &  &  &  &  &  &  &  &  &  &  &  &  &  &  &  &  &  &  &  &  &  &  &  &  &  &  &  &  &  &  &  &  &  &  &  &  &  &  &  &  &  &  &  &  &  &  &  &  &  &  &  &  &  &  &  &  &  &  &  &  &  &  &  &  &  &  &  &  &  &  &  &  &  &  &  &  &  &  &  &  &  &  &  &  &  &  &  &  &  &  &  &  &  &  &  &  &  &  &  &  &  &  &  &  &  &  &  &  &  &  &  &  &  &  &  &  &  &  &  &  &  &  &  &  &  &  &  &  &  &  &  &  &  &  &  &  &  &  &  &  &  &  &  &  &  &  &  &  &  &  &  &  &  &  &  &  &  &  &  &  &  &  &  &  &  &  &  &  &  &  &  &  &  &  &  &  &  &  &  &  &  &  &  &  &  &  &  &  &  &  &  &  &  &  &  &  &  &  &  &  &  &  &  &  &  &  &  &  &  &  &  &  &  &  &  &  &  &  &  &  &  &  &  &  &  &  &  &  &  &  &  &  &  &  &  &  &  &  &  &  &  &  &  &  &  &  &  &  &  &  &  &  &  &  &  &  &  &  &  &  &  &  &  &  &  &  &  &  &  &  &  &  &  &  &  &  &  &  &  &  &  &  &  &  &  &  &  &  &  &  &  &  &  &  &  &  &  &  &  &  &  &  &  &  &  &  &  &  &  &  &  &  &  &  &  &  &  &  &  &  &  &  &  &  &  &  &  &  &  &  &  &  &  &  &  &  &  &  &  &  &  &  &  &  &  &  &  &  &  &  &  &  &  &  &  &  &  &  &  &  &  &  &  &  &  &  &  &  &  &  &  &  &  &  &  &  &  &  &  &  &  &  &  &  &  &  &  &  &  &  &  &  &  &  &  &  &  &  &  &  &  &  &  &  &  &  &  &  &  &  &  &  &  &  &  &  &  &  &  &  &  &  &  &  &  &  &  &  &  &  &  &  &  &  &  &  &  &  &  &  &  &  &  &  &  &  &  &  &  &  &  &  &  &  &  &  &  &  &  &  &  &  &  &  &  &  &  &  &  &  &  &  &  &  &  &  &  &  &  &  &  &  &  &  &  &  &  &  &  &  &  &  &  &  &  &  &  &  &  &  &  &  &  &  &  &  &  &  &  &  &  &  &  &  &  &  &  &  &  &  &  &  &  &  &  &  &  &  &  &  &  &  &  &  &  &  &  &  &  &  &  &  &  &  &  &  &  &  &  &  &  &  &  &  &  &  &  &  &  &  &  &  &  &  &  &  &  &  &  &  &  &  &  &  &  &  &  &  &  &  &  &  &  &  &  &  &  &  &  &  &  &  &  &  &  &  &  &  &  &  &  &  &  &  &  &  &  &  &  &  &  &  &  &  &  &  &  &  &  &  &  &  &  &  &  &  &  &  &  &  &  &  &  &  &  &  &  &  &  &  &  &  &  &  &  &  &  &  &  &  &  &  &  &  &  &  &  &  &  &  &  &  &  &  &  &  &  &  &  &  &  &  &  &  &  &  &  &  &  &  &  &  &  &  &  &  &  &  &  &  &  &  &  &  &  &  &  &  &  &  &  &  &  &  &  &  &  &  &  &  &  &  &  &  &  &  &  &  &  &  &  &  &  &  &  &  &  &  &  &  &  &  &  &  &  &  &  &  &  &  &  &  &  &  &  &  &  &  &  &  &  &  &  &  &  &  &  &  &  &  &  &  &  &  &  &  &  &  &  &  &  &  &  &  &  &  &  &  &  &  &  &  &  &  &  &  &  &  &  &  &  &  &  &  &  &  &  &  &  &  &  &  &  &  &  &  &  &  &  &  &  &  &  &  &  &  &  &  &  &  &  &  &  &  &  &  &  &  &  &  &  &  &  &  &  &  &  &  &  &  &  &  &  &  &  &  &  &  &  &  &  &  &  &  &  &  &  &  &  &  &  &  &  &  &  &  &  &  &  &  &  &  &  &  &  &  &  &  &  &  &  &  &  &  &  &  &  &  &  &  &  &  &  &  &  &  &  &  &  &  &  &  &  &  &  &  &  &  &  &  &  &  &  &  &  &  &  &  &  &  &  &  &  &  &  &  &  &  &  &  &  &  &  &  &  &  &  &  &  &  &  &  &  &  &  &  &  &  &  &  &  &  &  &  &  &  &  &  &  &  &  &  &  &  &  &  &  &  &  &  &  &  &  &  &  &  &  &  &  &  &  &  &  &  &  &  &  &  &  &  &  &  &  &  &  &  &  &  &  &  &  &  &  &  &  &  &  &  &  &  &  &  &  &  &  &  &  &  &  &  &  &  &  &  &  &  &  &  &  &  &  &  &  &  &  &  &  &  &  &  &  &  &  &  &  &  &  &  &  &  &  &  &  &  &  &  &  &  &  &  &  &  &  &  &  &  &  &  &  &  &  &  &  &  &  &  &  &  &  &  &  &  &  &  &  &  &  &  &  &  &  &  &  &  &  &  &  &  &  &  &  &  &  &  &  &  &  &  &  &  &  &  &  &  &  &  &  &  &  &  &  &  &  &  &  &  &  &  &  &  &  &  &  &  &  &  &  &  &  &  &  &  &  &  &  &  &  &  &  &  &  &  &  &  &  &  &  &  &  &  &  &  &  &  &  &  &  &  &  &  &  &  &  &  &  &  &  &  &  &  &  &  &  &  &  &  &  &  &  &  &  &  &  &  &  &  &  &  &  &  &  &  &  &  &  &  &  &  &  &  &  &  &  &  &  &  &  &  &  &  &  &  &  &  &  &  &  &  &  &  &  &  &  &  &  &  &  &  &  &  &  &  &  &  &  &  &  &  &  &  &  &  &  &  &  &  &  &  &  &  &  &  &  &  &  &  &  &  &  &  &  &  &  &  &  &  &  &  &  &  &  &  &  &  &  &  &  &  &  &  &  &  &  &  &  &  &  &  &  &  &  &  &  &  &  &  &  &  &  &  &  &  &  &  &  &  &  &  &  &  &  &  &  &  &  &  &  &  &  &  &  &  &  &  &  &  &  &  &  &  &  &  &  &  &  &  &  &  &  &  &  &  &  &  &  &  &  &  &  &  &  &  &  &  &  &  &  &  &  &  &  &  &  &  &  &  &  &  &  &  &  &  &  &  &  &  &  &  &  &  &  &  &  &  &  &  &  &  &  &  &  &  &  &  &  &  &  &  &  &  &  &  &  &  &  &  &  &  &  &  &  &  &  &  &  &  &  &  &  &  &  &  &  &  &  &  &  &  &  &  &  &  &  &  &  &  &  &  &  &  &  &  &  &  &  &  &  &  &  &  &  &  &  &  &  &  &  &  &  &  &  &  &  &  &  &  &  &  &  &  &  &  &  &  &  &  &  &  &  &  &  &  &  &  &  &  &  &  &  &  &  &  &  &  &  &  &  &  &  &  &  &  &  &  &  &  &  &  &  &  &  &  &  &  &  &  &  &  &  &  &  &  &  &  &  &  &  &  &  &  &  &  &  &  &  &  &  &  &  &  &  &  &  &  &  &  &  &  &  &  &  &  &  &  &  &  &  &  &  &  &  &  &  &  &  &  &  &  &  &  &  &  &  &  &  &  &  &  &  &  &  &  &  &  &  &  &  &  &  &  &  &  &  &  &  &  &  &  &  &  &  &  &  &  &  &  &  &  &  &  &  &  &  &  &  &  &  &  &  &  &  &  &  &  &  &  &  &  &  &  &  &  &  &  &  &  &  &  &  &  &  &  &  &  &  &  &  &  &  &  &  &  &  &  &  &  &  &  &  &  &  &  &  &  &  &  &  &  &  &  &  &  &  &  &  &  &  &  &  &  &  &  &  &  &  &  &  &  &  &  &  &  &  &  &  &  &  &  &  &  &  &  &  &  &  &  &  &  &  &  &  &  &  &  &  &  &  &  &  &  &  &  &  &  &  &  &  &  &  &  &  &  &  &  &  &  &  &  &  &  &  &  &  &  &  &  &  &  &  &  &  &  &  &  &  &  &  &  &  &  &  &  &  &  &  &  &  &  &  &  &  &  &  &  &  &  &  &  &  &  &  &  &  &  &  &  &  &  &  &  &  &  &  &  &  &  &  &  &  &  &  &  &  &  &  &  &  &  &  &  &  &  &  &  &  &  &  &  &  &  &  &  &  &  &  &  &  &  &  &  &  &  &  &  &  &  &  &  &  &  &  &  &  &  &  &  &  &  &  &  &  &  &  &  &  &  &  &  &  &  &  &  &  &  &  &  &  &  &  &  &  &  &  &  &  &  &  &  &  &  &  &  &  &  &  &  &  &  &  &  &  &  &  &  &  &  &  &  &  &  &  &  &  &  &  &  &  &  &  &  &  &  &  &  &  &  &  &  &  &  &  &  &  &  &  &  &  &  &  &  &  &  &  &  &  &  &  &  &  &  &  &  &  &  &  &  &  &  &  &  &  &  &  &  &  &  &  &  &  &  &  &  &  &  &  &  &  &  &  &  &  &  &  &  &  &  &  &  &  &  &  &  &  &  &  &  &  &  &  &  &  &  &  &  &  &  &  &  &  &  &  &  &  &  &  &  &  &  &  &  &  &  &  &  &  &  &  &  &  &  &  &  &  &  &  &  &  &  &  &  &  &  &  &  &  &  &  &  &  &  &  &  &  &  &  &  &  &  &  &  &  &  &  &  &  &  &  &  &  &  &  &  &  &  &  &  &  &  &  &  &  &  &  &  &  &  &  &  &  &  &  &  &  &  &  &  &  &  &  &  &  &  &  &  &  &  &  &  &  &  &  &  &  &  &  &  &  &  &  &  &  &  &  &  &  &  &  &  &  &  &  &  &  &  &  &  &  &  &  &  &  &  &  &  &  &  &  &  &  &  &  &  &  &  &  &  &  &  &  &  &  &  &  &  &  &  &  &  &  &  &  &  &  &  &  &  &  &  &  &  &  &  &  &  &  &  &  &  &  &  &  &  &  &  &  &  &  &  &  &  &  &  &  &  &  &  &  &  &  &  &  &  &  &  &  &  &  &  &  &  &  &  &  &  &  &  &  &  &  &  &  &  &  &  &  &  &  &  &  &  &  &  &  &  &  &  &  &  &  &  &  &  &  &  &  &  &  &  &  &  &  &  &  &  &  &  &  &  &  &  &  &  &  &  &  &  &  &  &  &  &  &  &  &  &  &  &  &  &  &  &  &  &  &  &  &  &  &  &  &  &  &  &  &  &  &  &  &  &  &  &  &  &  &  &  &  &  &  &  &  &  &  &  &  &  &  &  &  &  &  &  &  &  &  &  &  &  &  &  &  &  &  &  &  &  &  &  &  &  &  &  &  &  &  &  &  &  &  &  &  &  &  &  &  &  &  &  &  &  &  &  &  &  &  &  &  &  &  &  &  &  &  &  &  &  &  &  &  &  &  &  &  &  &  &  &  &  &  &  &  &  &  &  &  &  &  &  &  &  &  &  &  &  &  &  &  &  &  &  &  &  &  &  &  &  &  &  &  &  &  &  &  &  &  &  &  &  &  &  &  &  &  &  &  &  &  &  &  &  &  &  &  &  &  &  &  &  &  &  &  &  &  &  &  &  &  &  &  &  &  &  &  &  &  &  &  &  &  &  &  &  &  &  &  &  &  &  &  &  &  &  &  &  &  &  &  &  &  &  &  &  &  &  &  &  &  &  &  &  &  &  &  &  &  &  &  &  &  &  &  &  &  &  &  &  &  &  &  &  &  &  &  &  &  &  &  &  &  &  &  &  &  &  &  &  &  &  &  &  &  &  &  &  &  &  &  &  &  &  &  &  &  &  &  &  &  &  &  &  &  &  &  &  &  &  &  &  &  &  &  &  &  &  &  &  &  &  &  &  &  &  &  &  &  &  &  &  &  &  &  &  &  &  &  &  &  &  &  &  &  &  &  &  &  &  &  &  &  &  &  &  &  &  &  &  &  &  &  &  &  &  &  &  &  &  &  &  &  &  &  &  &  &  &  &  &  &  &  &  &  &  &  &  &  &  &  &  &  &  &  &  &  &  &  &  &  &  &  &  &  &  &  &  &  &  &  &  &  &  &  &  &  &  &  &  &  &  &  &  &  &  &  &  &  &  &  &  &  &  &  &  &  &  &  &  &  &  &  &  &  &  &  &  &  &  &  &  &  &  &  &  &  &  &  &  &  &  &  &  &  &  &  &  &  &  &  &  &  &  &  &  &  &  &  &  &  &  &  &  &  &  &  &  &  &  &  &  &  &  &  &  &  &  &  &  &  &  &  &  &  &  &  &  &  &  &  &  &  &  &  &  &  &  &  &  &  &  &  &  &  &  &  &  &  &  &  &  &  &  &  &  &  &  &  &  &  &  &  &  &  &  &  &  &  &  &  &  &  &  &  &  &  &  &  &  &  &  &  &  &  &  &  &  &  &  &  &  &  &  &  &  &  &  &  &  &  &  &  &  &  &  &  &  &  &  &  &  &  &  &  &  &  &  &  &  &  &  &  &  &  &  &  &  &  &  &  &  &  &  &  &  &  &  &  &  &  &  &  &  &  &  &  &  &  &  &  &  &  &  &  &  &  &  &  &  &  &  &  &  &  &  &  &  &  &  &  &  &  &  &  &  &  &  &  &  &  &  &  &  &  &  &  &  &  &  &  &  &  &  &  &  & \\end{pmatrix}\\ \\frac{\\mathrm{kilogram}}{\\left(\\mathrm{meter}^{3} \\cdot \\mathrm{second}\\right)}$"
      ],
      "text/plain": [
       "array([8.43602009e-06, 3.38324125e-06, 4.10108746e-06, ...,\n",
       "       3.51316092e-05, 6.19318710e-05, 4.40496296e-05]) <Unit('kilogram / meter ** 3 / second')>"
      ]
     },
     "execution_count": 158,
     "metadata": {},
     "output_type": "execute_result"
    }
   ],
   "source": [
    "total_lateral_adv_divergence"
   ]
  },
  {
   "cell_type": "code",
   "execution_count": 159,
   "metadata": {},
   "outputs": [],
   "source": [
    "pivot_df['total_adv_lateral_divergence (g/s)'] = total_lateral_adv_divergence.to(\"g/m^3/s\")\n",
    "pivot_df['total_adv_vertical_divergence (g/s)'] = total_vertical_adv_divergence.to(\"g/m^3/s\")\n",
    "pivot_df['total_adv_divergence (g/s)'] = total_adv_divergence.to(\"g/m^3/s\")"
   ]
  },
  {
   "cell_type": "markdown",
   "metadata": {},
   "source": [
    "## Calculate residual/source term\n",
    "\n",
    "$\\frac{dq}{dt} = S_{BS} - \\nabla \\cdot \\overline{u_i} \\space \\overline{q} - \\nabla \\cdot \\overline{u_i' q'}$\n",
    "\n",
    "$S_{BS} = \\frac{dq}{dt} + \\nabla \\cdot \\overline{u_i} \\space \\overline{q} + \\nabla \\cdot \\overline{u_i' q'}$"
   ]
  },
  {
   "cell_type": "code",
   "execution_count": 160,
   "metadata": {},
   "outputs": [],
   "source": [
    "pivot_df['source (g/s)'] = pivot_df['total_adv_divergence (g/s)'] + pivot_df['total_turb_divergence (g/s)'] + pivot_df['delta water storage (g/s)']"
   ]
  },
  {
   "cell_type": "markdown",
   "metadata": {},
   "source": [
    "# Correlation matrix"
   ]
  },
  {
   "cell_type": "code",
   "execution_count": 161,
   "metadata": {},
   "outputs": [
    {
     "data": {
      "text/html": [
       "<div>\n",
       "<style scoped>\n",
       "    .dataframe tbody tr th:only-of-type {\n",
       "        vertical-align: middle;\n",
       "    }\n",
       "\n",
       "    .dataframe tbody tr th {\n",
       "        vertical-align: top;\n",
       "    }\n",
       "\n",
       "    .dataframe thead th {\n",
       "        text-align: right;\n",
       "    }\n",
       "</style>\n",
       "<table border=\"1\" class=\"dataframe\">\n",
       "  <thead>\n",
       "    <tr style=\"text-align: right;\">\n",
       "      <th></th>\n",
       "      <th>source (g/s)</th>\n",
       "    </tr>\n",
       "  </thead>\n",
       "  <tbody>\n",
       "    <tr>\n",
       "      <th>u_10m_d</th>\n",
       "      <td>-0.084293</td>\n",
       "    </tr>\n",
       "    <tr>\n",
       "      <th>u_10m_c</th>\n",
       "      <td>-0.084195</td>\n",
       "    </tr>\n",
       "    <tr>\n",
       "      <th>u_3m_ue</th>\n",
       "      <td>-0.083335</td>\n",
       "    </tr>\n",
       "    <tr>\n",
       "      <th>u_10m_ue</th>\n",
       "      <td>-0.082672</td>\n",
       "    </tr>\n",
       "    <tr>\n",
       "      <th>u_5m_c</th>\n",
       "      <td>-0.082045</td>\n",
       "    </tr>\n",
       "    <tr>\n",
       "      <th>u_15m_c</th>\n",
       "      <td>-0.082006</td>\n",
       "    </tr>\n",
       "    <tr>\n",
       "      <th>u_3m_d</th>\n",
       "      <td>-0.081943</td>\n",
       "    </tr>\n",
       "    <tr>\n",
       "      <th>u_20m_c</th>\n",
       "      <td>-0.081487</td>\n",
       "    </tr>\n",
       "    <tr>\n",
       "      <th>v_h2o__5m_c</th>\n",
       "      <td>-0.081153</td>\n",
       "    </tr>\n",
       "    <tr>\n",
       "      <th>u_3m_c</th>\n",
       "      <td>-0.081083</td>\n",
       "    </tr>\n",
       "    <tr>\n",
       "      <th>u_10m_uw</th>\n",
       "      <td>-0.078510</td>\n",
       "    </tr>\n",
       "    <tr>\n",
       "      <th>u_2m_c</th>\n",
       "      <td>-0.077585</td>\n",
       "    </tr>\n",
       "    <tr>\n",
       "      <th>u_3m_uw</th>\n",
       "      <td>-0.074532</td>\n",
       "    </tr>\n",
       "    <tr>\n",
       "      <th>w_h2o__10m_ue</th>\n",
       "      <td>-0.071171</td>\n",
       "    </tr>\n",
       "    <tr>\n",
       "      <th>dir_20m_c</th>\n",
       "      <td>-0.069955</td>\n",
       "    </tr>\n",
       "    <tr>\n",
       "      <th>dir_10m_ue</th>\n",
       "      <td>-0.066662</td>\n",
       "    </tr>\n",
       "    <tr>\n",
       "      <th>v_h2o__10m_uw</th>\n",
       "      <td>-0.065926</td>\n",
       "    </tr>\n",
       "    <tr>\n",
       "      <th>dir_15m_c</th>\n",
       "      <td>-0.065878</td>\n",
       "    </tr>\n",
       "    <tr>\n",
       "      <th>dir_10m_c</th>\n",
       "      <td>-0.064152</td>\n",
       "    </tr>\n",
       "    <tr>\n",
       "      <th>dir_3m_c</th>\n",
       "      <td>-0.063417</td>\n",
       "    </tr>\n",
       "    <tr>\n",
       "      <th>dir_5m_c</th>\n",
       "      <td>-0.062933</td>\n",
       "    </tr>\n",
       "    <tr>\n",
       "      <th>dir_2m_c</th>\n",
       "      <td>-0.062007</td>\n",
       "    </tr>\n",
       "    <tr>\n",
       "      <th>dir_3m_uw</th>\n",
       "      <td>-0.061997</td>\n",
       "    </tr>\n",
       "    <tr>\n",
       "      <th>w_h2o__15m_c</th>\n",
       "      <td>-0.061700</td>\n",
       "    </tr>\n",
       "    <tr>\n",
       "      <th>u_h2o__20m_c</th>\n",
       "      <td>-0.061693</td>\n",
       "    </tr>\n",
       "    <tr>\n",
       "      <th>dir_3m_d</th>\n",
       "      <td>-0.059795</td>\n",
       "    </tr>\n",
       "    <tr>\n",
       "      <th>dir_3m_ue</th>\n",
       "      <td>-0.059700</td>\n",
       "    </tr>\n",
       "    <tr>\n",
       "      <th>dir_10m_d</th>\n",
       "      <td>-0.059694</td>\n",
       "    </tr>\n",
       "    <tr>\n",
       "      <th>total_turb_vertical_divergence (g/s)</th>\n",
       "      <td>-0.059045</td>\n",
       "    </tr>\n",
       "    <tr>\n",
       "      <th>dir_10m_uw</th>\n",
       "      <td>-0.058634</td>\n",
       "    </tr>\n",
       "    <tr>\n",
       "      <th>w_h2o__5m_c</th>\n",
       "      <td>-0.053396</td>\n",
       "    </tr>\n",
       "    <tr>\n",
       "      <th>w_h2o__10m_d</th>\n",
       "      <td>-0.046090</td>\n",
       "    </tr>\n",
       "    <tr>\n",
       "      <th>u_h2o__10m_uw</th>\n",
       "      <td>-0.046047</td>\n",
       "    </tr>\n",
       "    <tr>\n",
       "      <th>v_h2o__10m_ue</th>\n",
       "      <td>-0.043979</td>\n",
       "    </tr>\n",
       "    <tr>\n",
       "      <th>w_h2o__3m_c</th>\n",
       "      <td>-0.043917</td>\n",
       "    </tr>\n",
       "    <tr>\n",
       "      <th>total_adv_lateral_divergence (g/s)</th>\n",
       "      <td>-0.040469</td>\n",
       "    </tr>\n",
       "    <tr>\n",
       "      <th>w_h2o__10m_c</th>\n",
       "      <td>-0.039966</td>\n",
       "    </tr>\n",
       "    <tr>\n",
       "      <th>w_h2o__10m_uw</th>\n",
       "      <td>-0.038895</td>\n",
       "    </tr>\n",
       "    <tr>\n",
       "      <th>u_h2o__10m_c</th>\n",
       "      <td>-0.038189</td>\n",
       "    </tr>\n",
       "    <tr>\n",
       "      <th>u_h2o__15m_c</th>\n",
       "      <td>-0.036588</td>\n",
       "    </tr>\n",
       "    <tr>\n",
       "      <th>v_h2o__3m_uw</th>\n",
       "      <td>-0.035186</td>\n",
       "    </tr>\n",
       "    <tr>\n",
       "      <th>u_h2o__3m_d</th>\n",
       "      <td>-0.032360</td>\n",
       "    </tr>\n",
       "    <tr>\n",
       "      <th>w_h2o__2m_c</th>\n",
       "      <td>-0.032000</td>\n",
       "    </tr>\n",
       "    <tr>\n",
       "      <th>airdensity_2m_c</th>\n",
       "      <td>-0.029377</td>\n",
       "    </tr>\n",
       "    <tr>\n",
       "      <th>airdensity_3m_c</th>\n",
       "      <td>-0.029194</td>\n",
       "    </tr>\n",
       "    <tr>\n",
       "      <th>w_h2o__3m_uw</th>\n",
       "      <td>-0.026799</td>\n",
       "    </tr>\n",
       "    <tr>\n",
       "      <th>airdensity_5m_c</th>\n",
       "      <td>-0.024609</td>\n",
       "    </tr>\n",
       "    <tr>\n",
       "      <th>u_h2o__2m_c</th>\n",
       "      <td>-0.023823</td>\n",
       "    </tr>\n",
       "    <tr>\n",
       "      <th>w_h2o__3m_ue</th>\n",
       "      <td>-0.022102</td>\n",
       "    </tr>\n",
       "    <tr>\n",
       "      <th>airdensity_10m_c</th>\n",
       "      <td>-0.021617</td>\n",
       "    </tr>\n",
       "    <tr>\n",
       "      <th>airdensity_15m_c</th>\n",
       "      <td>-0.019647</td>\n",
       "    </tr>\n",
       "    <tr>\n",
       "      <th>SF_avg_ue</th>\n",
       "      <td>-0.018582</td>\n",
       "    </tr>\n",
       "    <tr>\n",
       "      <th>airdensity_20m_c</th>\n",
       "      <td>-0.018396</td>\n",
       "    </tr>\n",
       "    <tr>\n",
       "      <th>v_h2o__3m_d</th>\n",
       "      <td>-0.018388</td>\n",
       "    </tr>\n",
       "    <tr>\n",
       "      <th>v_h2o__20m_c</th>\n",
       "      <td>-0.017344</td>\n",
       "    </tr>\n",
       "    <tr>\n",
       "      <th>total_adv_divergence (g/s)</th>\n",
       "      <td>-0.013594</td>\n",
       "    </tr>\n",
       "    <tr>\n",
       "      <th>w_h2o__3m_d</th>\n",
       "      <td>-0.012748</td>\n",
       "    </tr>\n",
       "    <tr>\n",
       "      <th>w_3m_uw</th>\n",
       "      <td>-0.009939</td>\n",
       "    </tr>\n",
       "    <tr>\n",
       "      <th>w_3m_ue</th>\n",
       "      <td>-0.007558</td>\n",
       "    </tr>\n",
       "    <tr>\n",
       "      <th>u_h2o__10m_ue</th>\n",
       "      <td>0.001474</td>\n",
       "    </tr>\n",
       "    <tr>\n",
       "      <th>v_h2o__10m_c</th>\n",
       "      <td>0.002511</td>\n",
       "    </tr>\n",
       "    <tr>\n",
       "      <th>Ri_3m_c</th>\n",
       "      <td>0.005013</td>\n",
       "    </tr>\n",
       "    <tr>\n",
       "      <th>w_10m_ue</th>\n",
       "      <td>0.008286</td>\n",
       "    </tr>\n",
       "    <tr>\n",
       "      <th>v_h2o__10m_d</th>\n",
       "      <td>0.011747</td>\n",
       "    </tr>\n",
       "    <tr>\n",
       "      <th>u_h2o__3m_ue</th>\n",
       "      <td>0.012010</td>\n",
       "    </tr>\n",
       "    <tr>\n",
       "      <th>L_3m_c</th>\n",
       "      <td>0.012039</td>\n",
       "    </tr>\n",
       "    <tr>\n",
       "      <th>u_h2o__3m_uw</th>\n",
       "      <td>0.012476</td>\n",
       "    </tr>\n",
       "    <tr>\n",
       "      <th>w_3m_d</th>\n",
       "      <td>0.013111</td>\n",
       "    </tr>\n",
       "    <tr>\n",
       "      <th>v_h2o__15m_c</th>\n",
       "      <td>0.014038</td>\n",
       "    </tr>\n",
       "    <tr>\n",
       "      <th>v_h2o__2m_c</th>\n",
       "      <td>0.015427</td>\n",
       "    </tr>\n",
       "    <tr>\n",
       "      <th>w_3m_c</th>\n",
       "      <td>0.020096</td>\n",
       "    </tr>\n",
       "    <tr>\n",
       "      <th>w_h2o__20m_c</th>\n",
       "      <td>0.021158</td>\n",
       "    </tr>\n",
       "    <tr>\n",
       "      <th>Rsw_in_9m_d</th>\n",
       "      <td>0.021350</td>\n",
       "    </tr>\n",
       "    <tr>\n",
       "      <th>Rnet_9m_d</th>\n",
       "      <td>0.021495</td>\n",
       "    </tr>\n",
       "    <tr>\n",
       "      <th>w_2m_c</th>\n",
       "      <td>0.022778</td>\n",
       "    </tr>\n",
       "    <tr>\n",
       "      <th>w_5m_c</th>\n",
       "      <td>0.023902</td>\n",
       "    </tr>\n",
       "    <tr>\n",
       "      <th>u_h2o__5m_c</th>\n",
       "      <td>0.025114</td>\n",
       "    </tr>\n",
       "    <tr>\n",
       "      <th>v_h2o__3m_c</th>\n",
       "      <td>0.025233</td>\n",
       "    </tr>\n",
       "    <tr>\n",
       "      <th>u_h2o__10m_d</th>\n",
       "      <td>0.030042</td>\n",
       "    </tr>\n",
       "    <tr>\n",
       "      <th>u_h2o__3m_c</th>\n",
       "      <td>0.033129</td>\n",
       "    </tr>\n",
       "    <tr>\n",
       "      <th>T_20m_c</th>\n",
       "      <td>0.034591</td>\n",
       "    </tr>\n",
       "    <tr>\n",
       "      <th>T_19m_c</th>\n",
       "      <td>0.034769</td>\n",
       "    </tr>\n",
       "    <tr>\n",
       "      <th>T_17m_c</th>\n",
       "      <td>0.035066</td>\n",
       "    </tr>\n",
       "    <tr>\n",
       "      <th>T_18m_c</th>\n",
       "      <td>0.035132</td>\n",
       "    </tr>\n",
       "    <tr>\n",
       "      <th>T_16m_c</th>\n",
       "      <td>0.035314</td>\n",
       "    </tr>\n",
       "    <tr>\n",
       "      <th>T_15m_c</th>\n",
       "      <td>0.035693</td>\n",
       "    </tr>\n",
       "    <tr>\n",
       "      <th>T_14m_c</th>\n",
       "      <td>0.035863</td>\n",
       "    </tr>\n",
       "    <tr>\n",
       "      <th>T_13m_c</th>\n",
       "      <td>0.036384</td>\n",
       "    </tr>\n",
       "    <tr>\n",
       "      <th>T_11m_c</th>\n",
       "      <td>0.037001</td>\n",
       "    </tr>\n",
       "    <tr>\n",
       "      <th>T_10m_c</th>\n",
       "      <td>0.037567</td>\n",
       "    </tr>\n",
       "    <tr>\n",
       "      <th>T_9m_c</th>\n",
       "      <td>0.037969</td>\n",
       "    </tr>\n",
       "    <tr>\n",
       "      <th>w_15m_c</th>\n",
       "      <td>0.038399</td>\n",
       "    </tr>\n",
       "    <tr>\n",
       "      <th>T_8m_c</th>\n",
       "      <td>0.038582</td>\n",
       "    </tr>\n",
       "    <tr>\n",
       "      <th>T_7m_c</th>\n",
       "      <td>0.038948</td>\n",
       "    </tr>\n",
       "    <tr>\n",
       "      <th>w_20m_c</th>\n",
       "      <td>0.039266</td>\n",
       "    </tr>\n",
       "    <tr>\n",
       "      <th>w_10m_d</th>\n",
       "      <td>0.039330</td>\n",
       "    </tr>\n",
       "    <tr>\n",
       "      <th>T_6m_c</th>\n",
       "      <td>0.039897</td>\n",
       "    </tr>\n",
       "    <tr>\n",
       "      <th>T_5m_c</th>\n",
       "      <td>0.040354</td>\n",
       "    </tr>\n",
       "    <tr>\n",
       "      <th>T_12m_c</th>\n",
       "      <td>0.040528</td>\n",
       "    </tr>\n",
       "    <tr>\n",
       "      <th>T_4m_c</th>\n",
       "      <td>0.041706</td>\n",
       "    </tr>\n",
       "    <tr>\n",
       "      <th>T_3m_c</th>\n",
       "      <td>0.044950</td>\n",
       "    </tr>\n",
       "    <tr>\n",
       "      <th>T_2m_c</th>\n",
       "      <td>0.045170</td>\n",
       "    </tr>\n",
       "    <tr>\n",
       "      <th>total_turb_divergence (g/s)</th>\n",
       "      <td>0.045273</td>\n",
       "    </tr>\n",
       "    <tr>\n",
       "      <th>total_adv_vertical_divergence (g/s)</th>\n",
       "      <td>0.049191</td>\n",
       "    </tr>\n",
       "    <tr>\n",
       "      <th>v_h2o__3m_ue</th>\n",
       "      <td>0.052151</td>\n",
       "    </tr>\n",
       "    <tr>\n",
       "      <th>w_10m_c</th>\n",
       "      <td>0.052937</td>\n",
       "    </tr>\n",
       "    <tr>\n",
       "      <th>T_1m_c</th>\n",
       "      <td>0.055356</td>\n",
       "    </tr>\n",
       "    <tr>\n",
       "      <th>total_turb_lateral_divergence (g/s)</th>\n",
       "      <td>0.057968</td>\n",
       "    </tr>\n",
       "    <tr>\n",
       "      <th>w_10m_uw</th>\n",
       "      <td>0.071388</td>\n",
       "    </tr>\n",
       "    <tr>\n",
       "      <th>v_10m_d</th>\n",
       "      <td>0.077619</td>\n",
       "    </tr>\n",
       "    <tr>\n",
       "      <th>v_20m_c</th>\n",
       "      <td>0.077806</td>\n",
       "    </tr>\n",
       "    <tr>\n",
       "      <th>v_10m_c</th>\n",
       "      <td>0.079538</td>\n",
       "    </tr>\n",
       "    <tr>\n",
       "      <th>v_10m_ue</th>\n",
       "      <td>0.080558</td>\n",
       "    </tr>\n",
       "    <tr>\n",
       "      <th>v_10m_uw</th>\n",
       "      <td>0.080692</td>\n",
       "    </tr>\n",
       "    <tr>\n",
       "      <th>v_3m_d</th>\n",
       "      <td>0.081505</td>\n",
       "    </tr>\n",
       "    <tr>\n",
       "      <th>v_15m_c</th>\n",
       "      <td>0.082389</td>\n",
       "    </tr>\n",
       "    <tr>\n",
       "      <th>v_3m_ue</th>\n",
       "      <td>0.083042</td>\n",
       "    </tr>\n",
       "    <tr>\n",
       "      <th>v_3m_c</th>\n",
       "      <td>0.083099</td>\n",
       "    </tr>\n",
       "    <tr>\n",
       "      <th>v_2m_c</th>\n",
       "      <td>0.083302</td>\n",
       "    </tr>\n",
       "    <tr>\n",
       "      <th>v_5m_c</th>\n",
       "      <td>0.083579</td>\n",
       "    </tr>\n",
       "    <tr>\n",
       "      <th>specifichumidity_20m_c</th>\n",
       "      <td>0.084109</td>\n",
       "    </tr>\n",
       "    <tr>\n",
       "      <th>v_3m_uw</th>\n",
       "      <td>0.084464</td>\n",
       "    </tr>\n",
       "    <tr>\n",
       "      <th>specifichumidity_10m_c</th>\n",
       "      <td>0.084874</td>\n",
       "    </tr>\n",
       "    <tr>\n",
       "      <th>specifichumidity_15m_c</th>\n",
       "      <td>0.086086</td>\n",
       "    </tr>\n",
       "    <tr>\n",
       "      <th>specifichumidity_5m_c</th>\n",
       "      <td>0.088595</td>\n",
       "    </tr>\n",
       "    <tr>\n",
       "      <th>wind_divergence_integrated</th>\n",
       "      <td>0.088847</td>\n",
       "    </tr>\n",
       "    <tr>\n",
       "      <th>specifichumidity_3m_c</th>\n",
       "      <td>0.089824</td>\n",
       "    </tr>\n",
       "    <tr>\n",
       "      <th>absolute humidity (g/m^3)</th>\n",
       "      <td>0.089826</td>\n",
       "    </tr>\n",
       "    <tr>\n",
       "      <th>specifichumidity_2m_c</th>\n",
       "      <td>0.092202</td>\n",
       "    </tr>\n",
       "    <tr>\n",
       "      <th>delta water storage (g/s)</th>\n",
       "      <td>0.995979</td>\n",
       "    </tr>\n",
       "    <tr>\n",
       "      <th>source (g/s)</th>\n",
       "      <td>1.000000</td>\n",
       "    </tr>\n",
       "  </tbody>\n",
       "</table>\n",
       "</div>"
      ],
      "text/plain": [
       "                                      source (g/s)\n",
       "u_10m_d                                  -0.084293\n",
       "u_10m_c                                  -0.084195\n",
       "u_3m_ue                                  -0.083335\n",
       "u_10m_ue                                 -0.082672\n",
       "u_5m_c                                   -0.082045\n",
       "u_15m_c                                  -0.082006\n",
       "u_3m_d                                   -0.081943\n",
       "u_20m_c                                  -0.081487\n",
       "v_h2o__5m_c                              -0.081153\n",
       "u_3m_c                                   -0.081083\n",
       "u_10m_uw                                 -0.078510\n",
       "u_2m_c                                   -0.077585\n",
       "u_3m_uw                                  -0.074532\n",
       "w_h2o__10m_ue                            -0.071171\n",
       "dir_20m_c                                -0.069955\n",
       "dir_10m_ue                               -0.066662\n",
       "v_h2o__10m_uw                            -0.065926\n",
       "dir_15m_c                                -0.065878\n",
       "dir_10m_c                                -0.064152\n",
       "dir_3m_c                                 -0.063417\n",
       "dir_5m_c                                 -0.062933\n",
       "dir_2m_c                                 -0.062007\n",
       "dir_3m_uw                                -0.061997\n",
       "w_h2o__15m_c                             -0.061700\n",
       "u_h2o__20m_c                             -0.061693\n",
       "dir_3m_d                                 -0.059795\n",
       "dir_3m_ue                                -0.059700\n",
       "dir_10m_d                                -0.059694\n",
       "total_turb_vertical_divergence (g/s)     -0.059045\n",
       "dir_10m_uw                               -0.058634\n",
       "w_h2o__5m_c                              -0.053396\n",
       "w_h2o__10m_d                             -0.046090\n",
       "u_h2o__10m_uw                            -0.046047\n",
       "v_h2o__10m_ue                            -0.043979\n",
       "w_h2o__3m_c                              -0.043917\n",
       "total_adv_lateral_divergence (g/s)       -0.040469\n",
       "w_h2o__10m_c                             -0.039966\n",
       "w_h2o__10m_uw                            -0.038895\n",
       "u_h2o__10m_c                             -0.038189\n",
       "u_h2o__15m_c                             -0.036588\n",
       "v_h2o__3m_uw                             -0.035186\n",
       "u_h2o__3m_d                              -0.032360\n",
       "w_h2o__2m_c                              -0.032000\n",
       "airdensity_2m_c                          -0.029377\n",
       "airdensity_3m_c                          -0.029194\n",
       "w_h2o__3m_uw                             -0.026799\n",
       "airdensity_5m_c                          -0.024609\n",
       "u_h2o__2m_c                              -0.023823\n",
       "w_h2o__3m_ue                             -0.022102\n",
       "airdensity_10m_c                         -0.021617\n",
       "airdensity_15m_c                         -0.019647\n",
       "SF_avg_ue                                -0.018582\n",
       "airdensity_20m_c                         -0.018396\n",
       "v_h2o__3m_d                              -0.018388\n",
       "v_h2o__20m_c                             -0.017344\n",
       "total_adv_divergence (g/s)               -0.013594\n",
       "w_h2o__3m_d                              -0.012748\n",
       "w_3m_uw                                  -0.009939\n",
       "w_3m_ue                                  -0.007558\n",
       "u_h2o__10m_ue                             0.001474\n",
       "v_h2o__10m_c                              0.002511\n",
       "Ri_3m_c                                   0.005013\n",
       "w_10m_ue                                  0.008286\n",
       "v_h2o__10m_d                              0.011747\n",
       "u_h2o__3m_ue                              0.012010\n",
       "L_3m_c                                    0.012039\n",
       "u_h2o__3m_uw                              0.012476\n",
       "w_3m_d                                    0.013111\n",
       "v_h2o__15m_c                              0.014038\n",
       "v_h2o__2m_c                               0.015427\n",
       "w_3m_c                                    0.020096\n",
       "w_h2o__20m_c                              0.021158\n",
       "Rsw_in_9m_d                               0.021350\n",
       "Rnet_9m_d                                 0.021495\n",
       "w_2m_c                                    0.022778\n",
       "w_5m_c                                    0.023902\n",
       "u_h2o__5m_c                               0.025114\n",
       "v_h2o__3m_c                               0.025233\n",
       "u_h2o__10m_d                              0.030042\n",
       "u_h2o__3m_c                               0.033129\n",
       "T_20m_c                                   0.034591\n",
       "T_19m_c                                   0.034769\n",
       "T_17m_c                                   0.035066\n",
       "T_18m_c                                   0.035132\n",
       "T_16m_c                                   0.035314\n",
       "T_15m_c                                   0.035693\n",
       "T_14m_c                                   0.035863\n",
       "T_13m_c                                   0.036384\n",
       "T_11m_c                                   0.037001\n",
       "T_10m_c                                   0.037567\n",
       "T_9m_c                                    0.037969\n",
       "w_15m_c                                   0.038399\n",
       "T_8m_c                                    0.038582\n",
       "T_7m_c                                    0.038948\n",
       "w_20m_c                                   0.039266\n",
       "w_10m_d                                   0.039330\n",
       "T_6m_c                                    0.039897\n",
       "T_5m_c                                    0.040354\n",
       "T_12m_c                                   0.040528\n",
       "T_4m_c                                    0.041706\n",
       "T_3m_c                                    0.044950\n",
       "T_2m_c                                    0.045170\n",
       "total_turb_divergence (g/s)               0.045273\n",
       "total_adv_vertical_divergence (g/s)       0.049191\n",
       "v_h2o__3m_ue                              0.052151\n",
       "w_10m_c                                   0.052937\n",
       "T_1m_c                                    0.055356\n",
       "total_turb_lateral_divergence (g/s)       0.057968\n",
       "w_10m_uw                                  0.071388\n",
       "v_10m_d                                   0.077619\n",
       "v_20m_c                                   0.077806\n",
       "v_10m_c                                   0.079538\n",
       "v_10m_ue                                  0.080558\n",
       "v_10m_uw                                  0.080692\n",
       "v_3m_d                                    0.081505\n",
       "v_15m_c                                   0.082389\n",
       "v_3m_ue                                   0.083042\n",
       "v_3m_c                                    0.083099\n",
       "v_2m_c                                    0.083302\n",
       "v_5m_c                                    0.083579\n",
       "specifichumidity_20m_c                    0.084109\n",
       "v_3m_uw                                   0.084464\n",
       "specifichumidity_10m_c                    0.084874\n",
       "specifichumidity_15m_c                    0.086086\n",
       "specifichumidity_5m_c                     0.088595\n",
       "wind_divergence_integrated                0.088847\n",
       "specifichumidity_3m_c                     0.089824\n",
       "absolute humidity (g/m^3)                 0.089826\n",
       "specifichumidity_2m_c                     0.092202\n",
       "delta water storage (g/s)                 0.995979\n",
       "source (g/s)                              1.000000"
      ]
     },
     "execution_count": 161,
     "metadata": {},
     "output_type": "execute_result"
    }
   ],
   "source": [
    "pd.set_option('display.max_rows', 200)\n",
    "pivot_df.corr()[['source (g/s)']].sort_values('source (g/s)')"
   ]
  },
  {
   "cell_type": "markdown",
   "metadata": {},
   "source": [
    "## Calculate EC-estimated surface sublimation \n",
    "\n",
    "We assume the 2m EC vertical flux equals surface sublimation"
   ]
  },
  {
   "cell_type": "code",
   "execution_count": 162,
   "metadata": {},
   "outputs": [],
   "source": [
    "surface_sublimation = pivot_df['w_h2o__2m_c'].values * units('g/m^2/s') * A4\n",
    "\n",
    "pivot_df['EC-estimated surface sublimation (g/s)'] = surface_sublimation\n",
    "pivot_df['EC-estimated surface sublimation (g/m^2/s)'] = pivot_df['w_h2o__2m_c'].values"
   ]
  },
  {
   "cell_type": "markdown",
   "metadata": {},
   "source": [
    "## Calculate Control-Volume estimated surface sublimation"
   ]
  },
  {
   "cell_type": "code",
   "execution_count": 163,
   "metadata": {},
   "outputs": [],
   "source": [
    "## Calculate estimation of surface sublimation assuming that the 3 and 10m sonics represent fluxes all the way to the ground (10m tall control volume)\n",
    "# AREAS AND VOLUMES\n",
    "# Define face areas\n",
    "NEW_A1 = NEW_A2 = NEW_A3 = 37 * 10 * units('m^2')\n",
    "NEW_A4 = NEW_A5 = 580.2 * units('m^2')\n",
    "NEW_VOLUME = A4*10*units('m')\n",
    "\n",
    "\n",
    "surface_sublimation = (\n",
    "    - (( pivot_df['delta water storage (g/s)'].values* units('g/s') / VOLUME ) * NEW_VOLUME) \n",
    "    - face1_projected_flux*NEW_A1\n",
    "    - face2_projected_flux*NEW_A2\n",
    "    - face3_projected_flux*NEW_A3\n",
    "    - face4_projected_flux*NEW_A4\n",
    "    - face1_projected_adv_flux*NEW_A1\n",
    "    - face2_projected_adv_flux*NEW_A2\n",
    "    - face3_projected_adv_flux*NEW_A3\n",
    "    - face4_adv_flux*NEW_A4\n",
    ")\n",
    "\n",
    "pivot_df['CV-estimated surface sublimation (g/s)'] = surface_sublimation\n",
    "pivot_df['CV-estimated surface sublimation (g/m^2/s)'] = surface_sublimation / A4"
   ]
  },
  {
   "cell_type": "code",
   "execution_count": 164,
   "metadata": {},
   "outputs": [
    {
     "data": {
      "text/plain": [
       "<Axes: xlabel='time'>"
      ]
     },
     "execution_count": 164,
     "metadata": {},
     "output_type": "execute_result"
    },
    {
     "data": {
      "image/png": "[encoded data removed]",
      "text/plain": [
       "<Figure size 640x480 with 1 Axes>"
      ]
     },
     "metadata": {},
     "output_type": "display_data"
    }
   ],
   "source": [
    "(pivot_df.loc['20230328': '20230401']['EC-estimated surface sublimation (g/m^2/s)'].head(1800)*100).plot()\n",
    "pivot_df.loc['20230328': '20230401']['CV-estimated surface sublimation (g/m^2/s)'].head(1800).plot()"
   ]
  },
  {
   "cell_type": "markdown",
   "metadata": {},
   "source": [
    "# Plot: Average diurnal cycles"
   ]
  },
  {
   "cell_type": "code",
   "execution_count": 165,
   "metadata": {},
   "outputs": [],
   "source": [
    "import xarray as xr\n",
    "precip_df = xr.open_dataset(\"/Users/elischwat/Development/data/sublimationofsnow/precip_danny/precipitation_rate_gts_w23.nc\")['corrected_prcp_rate_m2'].to_dataframe()\n",
    "\n",
    "is_snowing_dates = pd.concat([\n",
    "    precip_df.query(\"corrected_prcp_rate_m2 > 0\").index.to_series(),\n",
    "    precip_df.query(\"corrected_prcp_rate_m2 > 0\").index.to_series() + dt.timedelta(minutes=30)\n",
    "])\n",
    "    \n",
    "is_not_snowing_dates = pd.concat([\n",
    "    precip_df.query(\"corrected_prcp_rate_m2 <= 0\").index.to_series(),\n",
    "    precip_df.query(\"corrected_prcp_rate_m2 <= 0\").index.to_series() + dt.timedelta(minutes=30)\n",
    "])"
   ]
  },
  {
   "cell_type": "code",
   "execution_count": 166,
   "metadata": {},
   "outputs": [
    {
     "name": "stderr",
     "output_type": "stream",
     "text": [
      "/var/folders/x_/2h52bcjx2px15bhmdpdd748h0000gn/T/ipykernel_19951/2704946948.py:29: FutureWarning: 'T' is deprecated and will be removed in a future version, please use 'min' instead.\n",
      "  not_snowing_nobs_src.groupby([not_snowing_nobs_src.index.floor('30T').time]).mean().assign(type='Not snowing, No BS'),\n"
     ]
    },
    {
     "data": {
      "application/vnd.vegalite.v5+json": {
       "$schema": "https://vega.github.io/schema/vega-lite/v5.17.0.json",
       "config": {
        "view": {
         "continuousHeight": 300,
         "continuousWidth": 300
        }
       },
       "data": {
        "format": {
         "type": "json"
        },
        "url": "altair-data-bc7c4a260ed15c854add4eb4da644aaa.json"
       },
       "encoding": {
        "facet": {
         "columns": 3,
         "field": "variable",
         "type": "nominal"
        },
        "strokeDash": {
         "field": "type",
         "scale": {},
         "type": "nominal"
        },
        "x": {
         "field": "time",
         "type": "temporal"
        },
        "y": {
         "field": "value",
         "title": "water vapour content (g/s)",
         "type": "quantitative"
        }
       },
       "height": 150,
       "mark": {
        "type": "line"
       },
       "resolve": {
        "scale": {
         "y": "independent"
        }
       },
       "width": 300
      },
      "text/plain": [
       "<VegaLite 5 object>\n",
       "\n",
       "If you see this message, it means the renderer has not been properly enabled\n",
       "for the frontend that you are using. For more information, see\n",
       "https://altair-viz.github.io/user_guide/display_frontends.html#troubleshooting\n"
      ]
     },
     "execution_count": 166,
     "metadata": {},
     "output_type": "execute_result"
    }
   ],
   "source": [
    "src = pivot_df[[\n",
    "    'delta water storage (g/s)', \n",
    "    'absolute humidity (g/m^3)',\n",
    "    # 'wind_divergence_integrated',\n",
    "    'source (g/s)',\n",
    "    # 'EC-estimated surface sublimation (g/s)',\n",
    "\n",
    "    'total_turb_lateral_divergence (g/s)',\n",
    "    'total_turb_vertical_divergence (g/s)', \n",
    "    'total_turb_divergence (g/s)',\n",
    "\n",
    "    'total_adv_lateral_divergence (g/s)',\n",
    "    'total_adv_vertical_divergence (g/s)', \n",
    "    'total_adv_divergence (g/s)',\n",
    "\n",
    "]]\n",
    "nobs_src = src[src.index.isin(nobs_times)]\n",
    "bs_src = src[src.index.isin(bs_times)]\n",
    "snowing_src = src[src.index.isin(is_snowing_dates)]\n",
    "not_snowing_src = src[src.index.isin(is_not_snowing_dates)]\n",
    "not_snowing_nobs_src = src[src.index.isin(set(is_not_snowing_dates).intersection(set(nobs_times)))]\n",
    "\n",
    "src = pd.concat([\n",
    "    # nobs_src.groupby([nobs_src.index.floor('30T').time]).mean().assign(type='No BS'),\n",
    "    # bs_src.groupby([bs_src.index.floor('30T').time]).mean().assign(type='BS'),\n",
    "    # src.groupby([src.index.floor('30T').time]).mean().assign(type='All data'),\n",
    "    # snowing_src.groupby([snowing_src.index.floor('30T').time]).mean().assign(type='Snowing'),\n",
    "    # not_snowing_src.groupby([not_snowing_src.index.floor('30T').time]).mean().assign(type='Not snowing'),\n",
    "    not_snowing_nobs_src.groupby([not_snowing_nobs_src.index.floor('30T').time]).mean().assign(type='Not snowing, No BS'),\n",
    "])\n",
    "\n",
    "src.index.name = 'time'\n",
    "src\n",
    "src = src.melt(ignore_index=False, id_vars=['type']).reset_index()\n",
    "src.time = src.time.apply(lambda time: dt.datetime.combine(dt.date(2024, 1, 1),  time))\n",
    "\n",
    "conservation_chart = alt.Chart(\n",
    "    src\n",
    ").mark_line().encode(\n",
    "    alt.X('time:T'),\n",
    "    alt.Y('value:Q').title('water vapour content (g/s)'),\n",
    "    alt.Facet('variable:N', columns=3),\n",
    "    alt.StrokeDash('type:N').scale(\n",
    "        # domain=['No BS', 'BS', 'All data'], \n",
    "        # range=[[1,0], [1,2], [1,4]]\n",
    "    ),\n",
    "    # alt.Color('type:N'),\n",
    ").properties(height = 150, width=300).resolve_scale(y='independent')\n",
    "conservation_chart\n"
   ]
  },
  {
   "cell_type": "code",
   "execution_count": 167,
   "metadata": {},
   "outputs": [
    {
     "name": "stderr",
     "output_type": "stream",
     "text": [
      "/var/folders/x_/2h52bcjx2px15bhmdpdd748h0000gn/T/ipykernel_19951/3015389902.py:29: FutureWarning: 'T' is deprecated and will be removed in a future version, please use 'min' instead.\n",
      "  not_snowing_nobs_src.groupby([not_snowing_nobs_src.index.floor('30T').time]).mean().assign(type='Not snowing, No BS'),\n"
     ]
    },
    {
     "data": {
      "application/vnd.vegalite.v5+json": {
       "$schema": "https://vega.github.io/schema/vega-lite/v5.17.0.json",
       "config": {
        "view": {
         "continuousHeight": 300,
         "continuousWidth": 300
        }
       },
       "data": {
        "format": {
         "type": "json"
        },
        "url": "altair-data-f038c6a525d2916b86518b634a473270.json"
       },
       "encoding": {
        "color": {
         "field": "variable",
         "type": "nominal"
        },
        "x": {
         "field": "time",
         "type": "temporal"
        },
        "y": {
         "field": "value",
         "scale": {
          "domain": [
           -60,
           60
          ]
         },
         "title": "water vapour content (g/s)",
         "type": "quantitative"
        }
       },
       "height": 150,
       "mark": {
        "type": "line"
       },
       "resolve": {
        "scale": {
         "y": "independent"
        }
       },
       "width": 300
      },
      "text/plain": [
       "<VegaLite 5 object>\n",
       "\n",
       "If you see this message, it means the renderer has not been properly enabled\n",
       "for the frontend that you are using. For more information, see\n",
       "https://altair-viz.github.io/user_guide/display_frontends.html#troubleshooting\n"
      ]
     },
     "metadata": {
      "application/vnd.vegalite.v5+json": {
       "embed_options": {
        "renderer": "svg"
       }
      }
     },
     "output_type": "display_data"
    }
   ],
   "source": [
    "src = pivot_df[[\n",
    "    # 'delta water storage (g/s)', \n",
    "    # 'absolute humidity (g/m^3)',\n",
    "    # 'wind_divergence_integrated',\n",
    "    # 'source (g/s)',\n",
    "    # 'EC-estimated surface sublimation (g/s)',\n",
    "\n",
    "    'total_turb_lateral_divergence (g/s)',\n",
    "    'total_turb_vertical_divergence (g/s)', \n",
    "    'total_turb_divergence (g/s)',\n",
    "\n",
    "    # 'total_adv_lateral_divergence (g/s)',\n",
    "    # 'total_adv_vertical_divergence (g/s)', \n",
    "    # 'total_adv_divergence (g/s)',\n",
    "\n",
    "]]\n",
    "nobs_src = src[src.index.isin(nobs_times)]\n",
    "bs_src = src[src.index.isin(bs_times)]\n",
    "snowing_src = src[src.index.isin(is_snowing_dates)]\n",
    "not_snowing_src = src[src.index.isin(is_not_snowing_dates)]\n",
    "not_snowing_nobs_src = src[src.index.isin(set(is_not_snowing_dates).intersection(set(nobs_times)))]\n",
    "\n",
    "src = pd.concat([\n",
    "    # nobs_src.groupby([nobs_src.index.floor('30T').time]).mean().assign(type='No BS'),\n",
    "    # bs_src.groupby([bs_src.index.floor('30T').time]).mean().assign(type='BS'),\n",
    "    # src.groupby([src.index.floor('30T').time]).mean().assign(type='All data'),\n",
    "    # snowing_src.groupby([snowing_src.index.floor('30T').time]).mean().assign(type='Snowing'),\n",
    "    # not_snowing_src.groupby([not_snowing_src.index.floor('30T').time]).mean().assign(type='Not snowing'),\n",
    "    not_snowing_nobs_src.groupby([not_snowing_nobs_src.index.floor('30T').time]).mean().assign(type='Not snowing, No BS'),\n",
    "])\n",
    "\n",
    "src.index.name = 'time'\n",
    "src\n",
    "src = src.melt(ignore_index=False, id_vars=['type']).reset_index()\n",
    "src.time = src.time.apply(lambda time: dt.datetime.combine(dt.date(2024, 1, 1),  time))\n",
    "\n",
    "alt.Chart(\n",
    "    src\n",
    ").mark_line().encode(\n",
    "    alt.X('time:T'),\n",
    "    alt.Y('value:Q').title('water vapour content (g/s)').scale(domain=[-60,60]),\n",
    "    # alt.Facet('variable:N', columns=3),\n",
    "    alt.Color('variable:N'),\n",
    "    # alt.Color('type:N'),\n",
    ").properties(height = 150, width=300).resolve_scale(y='independent').display(renderer='svg')"
   ]
  },
  {
   "cell_type": "code",
   "execution_count": 168,
   "metadata": {},
   "outputs": [
    {
     "name": "stderr",
     "output_type": "stream",
     "text": [
      "/var/folders/x_/2h52bcjx2px15bhmdpdd748h0000gn/T/ipykernel_19951/963711818.py:29: FutureWarning: 'T' is deprecated and will be removed in a future version, please use 'min' instead.\n",
      "  not_snowing_nobs_src.groupby([not_snowing_nobs_src.index.floor('30T').time]).mean().assign(type='Not snowing, No BS'),\n"
     ]
    },
    {
     "data": {
      "application/vnd.vegalite.v5+json": {
       "$schema": "https://vega.github.io/schema/vega-lite/v5.17.0.json",
       "config": {
        "view": {
         "continuousHeight": 300,
         "continuousWidth": 300
        }
       },
       "data": {
        "format": {
         "type": "json"
        },
        "url": "altair-data-c0cd9042472750e95b344f29653b888b.json"
       },
       "encoding": {
        "color": {
         "field": "variable",
         "type": "nominal"
        },
        "x": {
         "field": "time",
         "type": "temporal"
        },
        "y": {
         "field": "value",
         "scale": {
          "domain": [
           -60,
           60
          ]
         },
         "title": "water vapour content (g/s)",
         "type": "quantitative"
        }
       },
       "height": 150,
       "mark": {
        "type": "line"
       },
       "resolve": {
        "scale": {
         "y": "independent"
        }
       },
       "width": 300
      },
      "text/plain": [
       "<VegaLite 5 object>\n",
       "\n",
       "If you see this message, it means the renderer has not been properly enabled\n",
       "for the frontend that you are using. For more information, see\n",
       "https://altair-viz.github.io/user_guide/display_frontends.html#troubleshooting\n"
      ]
     },
     "metadata": {
      "application/vnd.vegalite.v5+json": {
       "embed_options": {
        "renderer": "svg"
       }
      }
     },
     "output_type": "display_data"
    }
   ],
   "source": [
    "src = pivot_df[[\n",
    "    # 'delta water storage (g/s)', \n",
    "    # 'absolute humidity (g/m^3)',\n",
    "    # 'wind_divergence_integrated',\n",
    "    # 'source (g/s)',\n",
    "    # 'EC-estimated surface sublimation (g/s)',\n",
    "\n",
    "    # 'total_turb_lateral_divergence (g/s)',\n",
    "    # 'total_turb_vertical_divergence (g/s)', \n",
    "    # 'total_turb_divergence (g/s)',\n",
    "\n",
    "    'total_adv_lateral_divergence (g/s)',\n",
    "    'total_adv_vertical_divergence (g/s)', \n",
    "    'total_adv_divergence (g/s)',\n",
    "\n",
    "]]\n",
    "nobs_src = src[src.index.isin(nobs_times)]\n",
    "bs_src = src[src.index.isin(bs_times)]\n",
    "snowing_src = src[src.index.isin(is_snowing_dates)]\n",
    "not_snowing_src = src[src.index.isin(is_not_snowing_dates)]\n",
    "not_snowing_nobs_src = src[src.index.isin(set(is_not_snowing_dates).intersection(set(nobs_times)))]\n",
    "\n",
    "src = pd.concat([\n",
    "    # nobs_src.groupby([nobs_src.index.floor('30T').time]).mean().assign(type='No BS'),\n",
    "    # bs_src.groupby([bs_src.index.floor('30T').time]).mean().assign(type='BS'),\n",
    "    # src.groupby([src.index.floor('30T').time]).mean().assign(type='All data'),\n",
    "    # snowing_src.groupby([snowing_src.index.floor('30T').time]).mean().assign(type='Snowing'),\n",
    "    # not_snowing_src.groupby([not_snowing_src.index.floor('30T').time]).mean().assign(type='Not snowing'),\n",
    "    not_snowing_nobs_src.groupby([not_snowing_nobs_src.index.floor('30T').time]).mean().assign(type='Not snowing, No BS'),\n",
    "])\n",
    "\n",
    "src.index.name = 'time'\n",
    "src\n",
    "src = src.melt(ignore_index=False, id_vars=['type']).reset_index()\n",
    "src.time = src.time.apply(lambda time: dt.datetime.combine(dt.date(2024, 1, 1),  time))\n",
    "\n",
    "alt.Chart(\n",
    "    src\n",
    ").mark_line().encode(\n",
    "    alt.X('time:T'),\n",
    "    alt.Y('value:Q').title('water vapour content (g/s)').scale(domain=[-60,60]),\n",
    "    # alt.Facet('variable:N', columns=3),\n",
    "    alt.Color('variable:N'),\n",
    "    # alt.Color('type:N'),\n",
    ").properties(height = 150, width=300).resolve_scale(y='independent').display(renderer='svg')\n"
   ]
  },
  {
   "cell_type": "code",
   "execution_count": 169,
   "metadata": {},
   "outputs": [
    {
     "name": "stderr",
     "output_type": "stream",
     "text": [
      "/var/folders/x_/2h52bcjx2px15bhmdpdd748h0000gn/T/ipykernel_19951/3605177993.py:4: FutureWarning: 'T' is deprecated and will be removed in a future version, please use 'min' instead.\n",
      "  ]].groupby([pivot_df.index.floor('30T').time]).mean()\n"
     ]
    }
   ],
   "source": [
    "src = pivot_df[[\n",
    "    'Rnet_9m_d',\n",
    "    'Rsw_in_9m_d'\n",
    "]].groupby([pivot_df.index.floor('30T').time]).mean()\n",
    "src = src.melt(ignore_index=False)\n",
    "src.index.name = 'time'\n",
    "src = src.reset_index()\n",
    "src.time = src.time.apply(lambda time: dt.datetime.combine(dt.date(2024, 1, 1),  time))\n",
    "\n",
    "rad_chart = alt.Chart(src).mark_line().encode(\n",
    "    alt.X('time:T'),\n",
    "    alt.Y('value:Q').title('radiation (W/m^2)'),\n",
    "    alt.StrokeDash('variable:N'),\n",
    ").properties(height = 150, width=300)"
   ]
  },
  {
   "cell_type": "code",
   "execution_count": 170,
   "metadata": {},
   "outputs": [
    {
     "name": "stderr",
     "output_type": "stream",
     "text": [
      "/var/folders/x_/2h52bcjx2px15bhmdpdd748h0000gn/T/ipykernel_19951/2162192833.py:14: FutureWarning: 'T' is deprecated and will be removed in a future version, please use 'min' instead.\n",
      "  ]].groupby([pivot_df.index.floor('30T').time]).median()\n"
     ]
    }
   ],
   "source": [
    "src = pivot_df[[\n",
    "    'dir_10m_c',\n",
    "        'dir_10m_d',\n",
    "        'dir_10m_ue',\n",
    "        'dir_10m_uw',\n",
    "        'dir_15m_c',\n",
    "        'dir_20m_c',\n",
    "        'dir_2m_c',\n",
    "        'dir_3m_c',\n",
    "        'dir_3m_d',\n",
    "        'dir_3m_ue',\n",
    "        'dir_3m_uw',\n",
    "        'dir_5m_c',\n",
    "]].groupby([pivot_df.index.floor('30T').time]).median()\n",
    "src = src.melt(ignore_index=False)\n",
    "src.index.name = 'time'\n",
    "src = src.reset_index()\n",
    "src.time = src.time.apply(lambda time: dt.datetime.combine(dt.date(2024, 1, 1),  time))\n",
    "src['height'] = src['variable'].apply(tidy._height_from_variable_name)\n",
    "src['tower'] = src['variable'].apply(tidy._tower_from_variable_name)\n",
    "\n",
    "dir_chart = alt.Chart(src).mark_line().encode(\n",
    "    alt.X('time:T'),\n",
    "    alt.Y('value:Q').scale(zero=False).title('Wind direction (˚)'),\n",
    "    alt.Color('height:O').scale(scheme='rainbow'),\n",
    "    alt.StrokeDash('tower:N')\n",
    ").properties(height = 150, width=300)"
   ]
  },
  {
   "cell_type": "code",
   "execution_count": 171,
   "metadata": {},
   "outputs": [
    {
     "name": "stderr",
     "output_type": "stream",
     "text": [
      "/var/folders/x_/2h52bcjx2px15bhmdpdd748h0000gn/T/ipykernel_19951/702322118.py:8: FutureWarning: 'T' is deprecated and will be removed in a future version, please use 'min' instead.\n",
      "  ]].groupby([pivot_df.index.floor('30T').time]).mean()\n"
     ]
    }
   ],
   "source": [
    "src = pivot_df[[\n",
    "    'w_2m_c',\n",
    "    'w_3m_c', 'w_3m_d', 'w_3m_ue', 'w_3m_uw',\n",
    "    'w_5m_c',\n",
    "    'w_10m_c', 'w_10m_d', 'w_10m_ue', 'w_10m_uw',\n",
    "    'w_15m_c',\n",
    "    'w_20m_c',\n",
    "]].groupby([pivot_df.index.floor('30T').time]).mean()\n",
    "src = src.melt(ignore_index=False)\n",
    "src['tower'] = src.variable.apply(tidy._tower_from_variable_name)\n",
    "src['height'] = src.variable.apply(tidy._height_from_variable_name)\n",
    "src.index.name = 'time'\n",
    "src = src.reset_index()\n",
    "src.time = src.time.apply(lambda time: dt.datetime.combine(dt.date(2024, 1, 1),  time))\n",
    "\n",
    "w_chart = alt.Chart(src).mark_line().encode(\n",
    "    alt.X('time:T'),\n",
    "    alt.Y('value:Q').title('velocity (m/s)'),\n",
    "    alt.Color('height:O').scale(scheme='rainbow'),\n",
    "    alt.StrokeDash('tower:N'),\n",
    "    tooltip='tower:N'\n",
    ").properties(height = 150, width=300)"
   ]
  },
  {
   "cell_type": "code",
   "execution_count": 172,
   "metadata": {},
   "outputs": [
    {
     "name": "stderr",
     "output_type": "stream",
     "text": [
      "/var/folders/x_/2h52bcjx2px15bhmdpdd748h0000gn/T/ipykernel_19951/3691568501.py:4: FutureWarning: 'T' is deprecated and will be removed in a future version, please use 'min' instead.\n",
      "  ]].groupby([pivot_df.index.floor('30T').time]).mean()\n",
      "/var/folders/x_/2h52bcjx2px15bhmdpdd748h0000gn/T/ipykernel_19951/3691568501.py:23: FutureWarning: 'T' is deprecated and will be removed in a future version, please use 'min' instead.\n",
      "  ]].groupby([pivot_df.index.floor('30T').time]).mean()\n"
     ]
    }
   ],
   "source": [
    "src = pivot_df[[\n",
    "    'w_3m_c', \n",
    "    'w_10m_c',\n",
    "]].groupby([pivot_df.index.floor('30T').time]).mean()\n",
    "src = src.melt(ignore_index=False)\n",
    "src['tower'] = src.variable.apply(tidy._tower_from_variable_name)\n",
    "src['height'] = src.variable.apply(tidy._height_from_variable_name)\n",
    "src['measurement'] = src.variable.apply(tidy._measurement_from_variable_name)\n",
    "src.index.name = 'time'\n",
    "src = src.reset_index()\n",
    "src.time = src.time.apply(lambda time: dt.datetime.combine(dt.date(2024, 1, 1),  time))\n",
    "\n",
    "w_simple_chart = alt.Chart(src).mark_line().encode(\n",
    "    alt.X('time:T'),\n",
    "    alt.Y('value:Q').scale(zero=False).title('velocity (m/s)'),\n",
    "    alt.Color('height:O'),\n",
    "    alt.Column('measurement:N').sort(['w', 'specific humidity'])\n",
    ").properties(height = 150, width=300).resolve_scale(y='independent')\n",
    "\n",
    "src = pivot_df[[\n",
    "    'specifichumidity_3m_c', \n",
    "    'specifichumidity_10m_c',\n",
    "]].groupby([pivot_df.index.floor('30T').time]).mean()\n",
    "\n",
    "# convert from g/g to g/kg\n",
    "pivot_df[[\n",
    "    'specifichumidity_3m_c', \n",
    "    'specifichumidity_10m_c',\n",
    "]] = pivot_df[[\n",
    "    'specifichumidity_3m_c', \n",
    "    'specifichumidity_10m_c',\n",
    "]]*1000 \n",
    "src = src.melt(ignore_index=False)\n",
    "src['tower'] = src.variable.apply(tidy._tower_from_variable_name)\n",
    "src['height'] = src.variable.apply(tidy._height_from_variable_name)\n",
    "src['measurement'] = src.variable.apply(tidy._measurement_from_variable_name)\n",
    "src.index.name = 'time'\n",
    "src = src.reset_index()\n",
    "src.time = src.time.apply(lambda time: dt.datetime.combine(dt.date(2024, 1, 1),  time))\n",
    "\n",
    "q_simple_chart = alt.Chart(src).mark_line().encode(\n",
    "    alt.X('time:T'),\n",
    "    alt.Y('value:Q').scale(zero=False).title('specific humidity (g/kg)'),\n",
    "    alt.Color('height:O'),\n",
    "    alt.Column('measurement:N').sort(['w', 'specific humidity'])\n",
    ").properties(height = 150, width=300).resolve_scale(y='independent')"
   ]
  },
  {
   "cell_type": "code",
   "execution_count": 173,
   "metadata": {},
   "outputs": [
    {
     "name": "stderr",
     "output_type": "stream",
     "text": [
      "/var/folders/x_/2h52bcjx2px15bhmdpdd748h0000gn/T/ipykernel_19951/3555904380.py:5: FutureWarning: 'T' is deprecated and will be removed in a future version, please use 'min' instead.\n",
      "  src = src.groupby([pivot_df.index.floor('30T').time]).mean().melt(ignore_index=False).reset_index().rename(columns={'index': 'time'})\n"
     ]
    }
   ],
   "source": [
    "src = pivot_df[[\n",
    "    'T_1m_c', 'T_2m_c', 'T_3m_c', 'T_4m_c', 'T_5m_c', 'T_6m_c', 'T_7m_c', 'T_8m_c', 'T_9m_c', 'T_10m_c', \n",
    "    'T_11m_c', 'T_12m_c', 'T_13m_c', 'T_14m_c', 'T_15m_c', 'T_16m_c', 'T_17m_c', 'T_18m_c', 'T_19m_c', 'T_20m_c',\n",
    "]]\n",
    "src = src.groupby([pivot_df.index.floor('30T').time]).mean().melt(ignore_index=False).reset_index().rename(columns={'index': 'time'})\n",
    "src['height'] = src.variable.apply(tidy._height_from_variable_name)\n",
    "src['height_low'] = src['height'] - 0.5\n",
    "src['height_hi'] = src['height'] + 0.5\n",
    "src.time = src.time.apply(lambda time: dt.datetime.combine(dt.date(2024, 1, 1),  time))\n",
    "src['time_hi'] = src['time'].apply(lambda dis: dis + dt.timedelta(minutes=30)) \n",
    "temp_heatmap = alt.Chart(src).mark_rect().encode(\n",
    "    alt.X('time:T').title('time').axis(format='%H:%M'),\n",
    "    alt.X2('time_hi:T'),\n",
    "    alt.Y('height_low:Q').scale(zero=False, domain=[0,20]).title(\"height (m)\"),\n",
    "    alt.Y2('height_hi:Q'),\n",
    "    alt.Color('value:Q').title('Temperature (˚C)').scale(scheme='viridis'),\n",
    ").properties(width = 400, height = 200, title='Average Diurnal Temperature Profile')"
   ]
  },
  {
   "cell_type": "code",
   "execution_count": 174,
   "metadata": {},
   "outputs": [
    {
     "data": {
      "application/vnd.vegalite.v5+json": {
       "$schema": "https://vega.github.io/schema/vega-lite/v5.17.0.json",
       "config": {
        "view": {
         "continuousHeight": 300,
         "continuousWidth": 300
        }
       },
       "resolve": {
        "scale": {
         "color": "independent",
         "strokeDash": "independent",
         "x": "independent"
        }
       },
       "vconcat": [
        {
         "data": {
          "format": {
           "type": "json"
          },
          "url": "altair-data-bc7c4a260ed15c854add4eb4da644aaa.json"
         },
         "encoding": {
          "facet": {
           "columns": 3,
           "field": "variable",
           "type": "nominal"
          },
          "strokeDash": {
           "field": "type",
           "scale": {},
           "type": "nominal"
          },
          "x": {
           "field": "time",
           "type": "temporal"
          },
          "y": {
           "field": "value",
           "title": "water vapour content (g/s)",
           "type": "quantitative"
          }
         },
         "height": 150,
         "mark": {
          "type": "line"
         },
         "resolve": {
          "scale": {
           "y": "independent"
          }
         },
         "width": 300
        },
        {
         "hconcat": [
          {
           "data": {
            "format": {
             "type": "json"
            },
            "url": "altair-data-7589fb189509afcd0f18c10947c4d148.json"
           },
           "encoding": {
            "color": {
             "field": "height",
             "scale": {
              "scheme": "rainbow"
             },
             "type": "ordinal"
            },
            "strokeDash": {
             "field": "tower",
             "type": "nominal"
            },
            "tooltip": {
             "field": "tower",
             "type": "nominal"
            },
            "x": {
             "field": "time",
             "type": "temporal"
            },
            "y": {
             "field": "value",
             "title": "velocity (m/s)",
             "type": "quantitative"
            }
           },
           "height": 150,
           "mark": {
            "type": "line"
           },
           "width": 300
          },
          {
           "data": {
            "format": {
             "type": "json"
            },
            "url": "altair-data-96ea5add0183ca2a1533a50843d91398.json"
           },
           "encoding": {
            "color": {
             "field": "height",
             "type": "ordinal"
            },
            "column": {
             "field": "measurement",
             "sort": [
              "w",
              "specific humidity"
             ],
             "type": "nominal"
            },
            "x": {
             "field": "time",
             "type": "temporal"
            },
            "y": {
             "field": "value",
             "scale": {
              "zero": false
             },
             "title": "velocity (m/s)",
             "type": "quantitative"
            }
           },
           "height": 150,
           "mark": {
            "type": "line"
           },
           "resolve": {
            "scale": {
             "y": "independent"
            }
           },
           "width": 300
          },
          {
           "data": {
            "format": {
             "type": "json"
            },
            "url": "altair-data-31c8198d73fa7891bc38400dd29633ef.json"
           },
           "encoding": {
            "color": {
             "field": "height",
             "type": "ordinal"
            },
            "column": {
             "field": "measurement",
             "sort": [
              "w",
              "specific humidity"
             ],
             "type": "nominal"
            },
            "x": {
             "field": "time",
             "type": "temporal"
            },
            "y": {
             "field": "value",
             "scale": {
              "zero": false
             },
             "title": "specific humidity (g/kg)",
             "type": "quantitative"
            }
           },
           "height": 150,
           "mark": {
            "type": "line"
           },
           "resolve": {
            "scale": {
             "y": "independent"
            }
           },
           "width": 300
          }
         ],
         "resolve": {
          "scale": {
           "color": "shared",
           "strokeDash": "shared"
          }
         }
        },
        {
         "hconcat": [
          {
           "data": {
            "format": {
             "type": "json"
            },
            "url": "altair-data-cc43f8b0fae089287f8f05c30fc400c1.json"
           },
           "encoding": {
            "color": {
             "field": "height",
             "scale": {
              "scheme": "rainbow"
             },
             "type": "ordinal"
            },
            "strokeDash": {
             "field": "tower",
             "type": "nominal"
            },
            "x": {
             "field": "time",
             "type": "temporal"
            },
            "y": {
             "field": "value",
             "scale": {
              "zero": false
             },
             "title": "Wind direction (˚)",
             "type": "quantitative"
            }
           },
           "height": 150,
           "mark": {
            "type": "line"
           },
           "width": 300
          },
          {
           "data": {
            "format": {
             "type": "json"
            },
            "url": "altair-data-2cbe476bf71bc950a8cc00e67ee2d7c3.json"
           },
           "encoding": {
            "strokeDash": {
             "field": "variable",
             "type": "nominal"
            },
            "x": {
             "field": "time",
             "type": "temporal"
            },
            "y": {
             "field": "value",
             "title": "radiation (W/m^2)",
             "type": "quantitative"
            }
           },
           "height": 150,
           "mark": {
            "type": "line"
           },
           "width": 300
          }
         ],
         "resolve": {
          "scale": {
           "color": "independent",
           "strokeDash": "independent"
          }
         }
        },
        {
         "data": {
          "format": {
           "type": "json"
          },
          "url": "altair-data-6e8f3f4c77b00050d20c6f236c688dcd.json"
         },
         "encoding": {
          "color": {
           "field": "value",
           "scale": {
            "scheme": "viridis"
           },
           "title": "Temperature (˚C)",
           "type": "quantitative"
          },
          "x": {
           "axis": {
            "format": "%H:%M"
           },
           "field": "time",
           "title": "time",
           "type": "temporal"
          },
          "x2": {
           "field": "time_hi"
          },
          "y": {
           "field": "height_low",
           "scale": {
            "domain": [
             0,
             20
            ],
            "zero": false
           },
           "title": "height (m)",
           "type": "quantitative"
          },
          "y2": {
           "field": "height_hi"
          }
         },
         "height": 200,
         "mark": {
          "type": "rect"
         },
         "title": "Average Diurnal Temperature Profile",
         "width": 400
        }
       ]
      },
      "text/plain": [
       "<VegaLite 5 object>\n",
       "\n",
       "If you see this message, it means the renderer has not been properly enabled\n",
       "for the frontend that you are using. For more information, see\n",
       "https://altair-viz.github.io/user_guide/display_frontends.html#troubleshooting\n"
      ]
     },
     "execution_count": 174,
     "metadata": {},
     "output_type": "execute_result"
    }
   ],
   "source": [
    "\n",
    "(\n",
    "    (conservation_chart)\n",
    "    &\n",
    "    (w_chart | w_simple_chart | q_simple_chart).resolve_scale(color='shared', strokeDash='shared')\n",
    "    &\n",
    "    (dir_chart | rad_chart).resolve_scale(color='independent', strokeDash='independent')\n",
    "    &\n",
    "    temp_heatmap\n",
    ").resolve_scale(x='independent', color='independent', strokeDash='independent')"
   ]
  },
  {
   "cell_type": "markdown",
   "metadata": {},
   "source": [
    "# Hovmoller plots of similar stuff"
   ]
  },
  {
   "cell_type": "code",
   "execution_count": 175,
   "metadata": {},
   "outputs": [
    {
     "data": {
      "application/vnd.vegalite.v5+json": {
       "$schema": "https://vega.github.io/schema/vega-lite/v5.17.0.json",
       "config": {
        "view": {
         "continuousHeight": 300,
         "continuousWidth": 300
        }
       },
       "data": {
        "format": {
         "type": "json"
        },
        "url": "altair-data-bf603cb3b4bf8410619d65a0d91d8f6d.json"
       },
       "encoding": {
        "color": {
         "field": "value",
         "scale": {
          "scheme": "purpleorange",
          "type": "symlog"
         },
         "title": "Divergence (g/s)",
         "type": "quantitative"
        },
        "facet": {
         "columns": 3,
         "field": "key",
         "type": "nominal"
        },
        "x": {
         "field": "hour",
         "title": "hour",
         "type": "quantitative"
        },
        "x2": {
         "field": "hour_upper"
        },
        "y": {
         "field": "date",
         "title": "date",
         "type": "temporal"
        },
        "y2": {
         "field": "date_upper"
        }
       },
       "mark": {
        "type": "rect"
       },
       "resolve": {
        "scale": {
         "color": "independent"
        }
       },
       "transform": [
        {
         "fold": [
          "total_turb_lateral_divergence (g/s)",
          "total_turb_vertical_divergence (g/s)",
          "total_turb_divergence (g/s)",
          "total_adv_lateral_divergence (g/s)",
          "total_adv_vertical_divergence (g/s)",
          "total_adv_divergence (g/s)"
         ]
        }
       ]
      },
      "text/plain": [
       "<VegaLite 5 object>\n",
       "\n",
       "If you see this message, it means the renderer has not been properly enabled\n",
       "for the frontend that you are using. For more information, see\n",
       "https://altair-viz.github.io/user_guide/display_frontends.html#troubleshooting\n"
      ]
     },
     "execution_count": 175,
     "metadata": {},
     "output_type": "execute_result"
    }
   ],
   "source": [
    "columns = [\n",
    "    # 'source (g/s)',\n",
    "    'total_turb_lateral_divergence (g/s)',\n",
    "    'total_turb_vertical_divergence (g/s)',\n",
    "    'total_turb_divergence (g/s)',\n",
    "    'total_adv_lateral_divergence (g/s)',\n",
    "    'total_adv_vertical_divergence (g/s)',\n",
    "    'total_adv_divergence (g/s)'\n",
    "]\n",
    "src = pivot_df[columns].reset_index()\n",
    "src['date'] = src['time'].apply(lambda dt: dt.replace(hour = 0, minute = 0, second = 0))\n",
    "src['date_upper'] = src.time + dt.timedelta(hours=24)\n",
    "src['hour'] = src.time.dt.hour + src.time.dt.minute.astype('float')/60\n",
    "src['hour_upper'] = src['hour'] + 0.5\n",
    "src\n",
    "alt.Chart(src).transform_fold(columns).mark_rect().encode(\n",
    "    alt.X('hour:Q').title('hour'),\n",
    "    alt.X2('hour_upper:Q'),\n",
    "    alt.Y('date:T').title('date'),\n",
    "    alt.Y2('date_upper:T'),\n",
    "    alt.Color(\"value:Q\").scale(type='symlog', scheme='purpleorange').title(\"Divergence (g/s)\"),\n",
    "    alt.Facet(\"key:N\", columns=3)\n",
    ").resolve_scale(color='independent')"
   ]
  },
  {
   "cell_type": "code",
   "execution_count": 176,
   "metadata": {},
   "outputs": [
    {
     "data": {
      "application/vnd.vegalite.v5+json": {
       "$schema": "https://vega.github.io/schema/vega-lite/v5.17.0.json",
       "config": {
        "view": {
         "continuousHeight": 300,
         "continuousWidth": 300
        }
       },
       "data": {
        "format": {
         "type": "json"
        },
        "url": "altair-data-d90985d2a392732698918a8bb0772d2a.json"
       },
       "encoding": {
        "color": {
         "field": "value",
         "scale": {
          "scheme": "purpleorange",
          "type": "symlog"
         },
         "title": "Divergence (g/s)",
         "type": "quantitative"
        },
        "facet": {
         "columns": 3,
         "field": "key",
         "type": "nominal"
        },
        "x": {
         "field": "hour",
         "title": "hour",
         "type": "quantitative"
        },
        "x2": {
         "field": "hour_upper"
        },
        "y": {
         "field": "date",
         "title": "date",
         "type": "temporal"
        },
        "y2": {
         "field": "date_upper"
        }
       },
       "mark": {
        "type": "rect"
       },
       "resolve": {
        "scale": {
         "color": "independent"
        }
       },
       "transform": [
        {
         "fold": [
          "total_adv_lateral_divergence (g/s)",
          "total_adv_vertical_divergence (g/s)",
          "total_adv_divergence (g/s)"
         ]
        }
       ]
      },
      "text/plain": [
       "<VegaLite 5 object>\n",
       "\n",
       "If you see this message, it means the renderer has not been properly enabled\n",
       "for the frontend that you are using. For more information, see\n",
       "https://altair-viz.github.io/user_guide/display_frontends.html#troubleshooting\n"
      ]
     },
     "metadata": {
      "application/vnd.vegalite.v5+json": {
       "embed_options": {
        "renderer": "svg"
       }
      }
     },
     "output_type": "display_data"
    }
   ],
   "source": [
    "columns = [\n",
    "    # 'source (g/s)',\n",
    "    # 'total_turb_lateral_divergence (g/s)',\n",
    "    # 'total_turb_vertical_divergence (g/s)',\n",
    "    # 'total_turb_divergence (g/s)',\n",
    "    'total_adv_lateral_divergence (g/s)',\n",
    "    'total_adv_vertical_divergence (g/s)',\n",
    "    'total_adv_divergence (g/s)'\n",
    "]\n",
    "src = not_snowing_nobs_src[columns].reset_index()\n",
    "src['date'] = src['time'].apply(lambda dt: dt.replace(hour = 0, minute = 0, second = 0))\n",
    "src['date_upper'] = src.time + dt.timedelta(hours=24)\n",
    "src['hour'] = src.time.dt.hour + src.time.dt.minute.astype('float')/60\n",
    "src['hour_upper'] = src['hour'] + 0.5\n",
    "src\n",
    "alt.Chart(src).transform_fold(columns).mark_rect().encode(\n",
    "    alt.X('hour:Q').title('hour'),\n",
    "    alt.X2('hour_upper:Q'),\n",
    "    alt.Y('date:T').title('date'),\n",
    "    alt.Y2('date_upper:T'),\n",
    "    alt.Color(\"value:Q\").scale(type='symlog', scheme='purpleorange').title(\"Divergence (g/s)\"),\n",
    "    alt.Facet(\"key:N\", columns=3)\n",
    ").resolve_scale(color='independent').display(renderer='svg')"
   ]
  },
  {
   "cell_type": "markdown",
   "metadata": {},
   "source": [
    "# Plot: Case studies"
   ]
  },
  {
   "cell_type": "code",
   "execution_count": 177,
   "metadata": {},
   "outputs": [
    {
     "data": {
      "application/vnd.vegalite.v5+json": {
       "$schema": "https://vega.github.io/schema/vega-lite/v5.17.0.json",
       "config": {
        "view": {
         "continuousHeight": 300,
         "continuousWidth": 300
        }
       },
       "hconcat": [
        {
         "vconcat": [
          {
           "data": {
            "format": {
             "type": "json"
            },
            "url": "altair-data-309279287b5c22e004265bdf5559d78c.json"
           },
           "encoding": {
            "x": {
             "field": "time",
             "type": "temporal"
            },
            "y": {
             "field": "value",
             "type": "quantitative"
            }
           },
           "height": 125,
           "mark": {
            "color": "black",
            "type": "line"
           },
           "width": 300
          },
          {
           "data": {
            "format": {
             "type": "json"
            },
            "url": "altair-data-75d9f5960bfa934c9388464a6a219e4f.json"
           },
           "encoding": {
            "color": {
             "field": "variable",
             "type": "nominal"
            },
            "x": {
             "field": "time",
             "type": "temporal"
            },
            "y": {
             "field": "rolling_avg",
             "scale": {},
             "type": "quantitative"
            }
           },
           "height": 125,
           "mark": {
            "type": "line"
           },
           "transform": [
            {
             "frame": [
              -2,
              2
             ],
             "groupby": [
              "variable"
             ],
             "window": [
              {
               "as": "rolling_avg",
               "field": "value",
               "op": "mean"
              }
             ]
            }
           ],
           "width": 300
          }
         ]
        },
        {
         "vconcat": [
          {
           "data": {
            "format": {
             "type": "json"
            },
            "url": "altair-data-7e9161b830cbee78a10754e398c9b68c.json"
           },
           "encoding": {
            "x": {
             "field": "time",
             "type": "temporal"
            },
            "y": {
             "field": "value",
             "type": "quantitative"
            }
           },
           "height": 125,
           "mark": {
            "color": "black",
            "type": "line"
           },
           "width": 300
          },
          {
           "data": {
            "format": {
             "type": "json"
            },
            "url": "altair-data-88563b98fd36d1c222a01093867a48bf.json"
           },
           "encoding": {
            "color": {
             "field": "variable",
             "type": "nominal"
            },
            "x": {
             "field": "time",
             "type": "temporal"
            },
            "y": {
             "field": "rolling_avg",
             "scale": {},
             "type": "quantitative"
            }
           },
           "height": 125,
           "mark": {
            "type": "line"
           },
           "transform": [
            {
             "frame": [
              -2,
              2
             ],
             "groupby": [
              "variable"
             ],
             "window": [
              {
               "as": "rolling_avg",
               "field": "value",
               "op": "mean"
              }
             ]
            }
           ],
           "width": 300
          }
         ]
        },
        {
         "vconcat": [
          {
           "data": {
            "format": {
             "type": "json"
            },
            "url": "altair-data-a582eaaab25daa7604f66a5c050ac335.json"
           },
           "encoding": {
            "x": {
             "field": "time",
             "type": "temporal"
            },
            "y": {
             "field": "value",
             "type": "quantitative"
            }
           },
           "height": 125,
           "mark": {
            "color": "black",
            "type": "line"
           },
           "width": 300
          },
          {
           "data": {
            "format": {
             "type": "json"
            },
            "url": "altair-data-46acaf6783ab8f9c55d936281733deed.json"
           },
           "encoding": {
            "color": {
             "field": "variable",
             "type": "nominal"
            },
            "x": {
             "field": "time",
             "type": "temporal"
            },
            "y": {
             "field": "rolling_avg",
             "scale": {},
             "type": "quantitative"
            }
           },
           "height": 125,
           "mark": {
            "type": "line"
           },
           "transform": [
            {
             "frame": [
              -2,
              2
             ],
             "groupby": [
              "variable"
             ],
             "window": [
              {
               "as": "rolling_avg",
               "field": "value",
               "op": "mean"
              }
             ]
            }
           ],
           "width": 300
          }
         ]
        }
       ]
      },
      "text/plain": [
       "<VegaLite 5 object>\n",
       "\n",
       "If you see this message, it means the renderer has not been properly enabled\n",
       "for the frontend that you are using. For more information, see\n",
       "https://altair-viz.github.io/user_guide/display_frontends.html#troubleshooting\n"
      ]
     },
     "execution_count": 177,
     "metadata": {},
     "output_type": "execute_result"
    }
   ],
   "source": [
    "(\n",
    "    alt.Chart(\n",
    "        tidy_df.query(\"variable == 'SF_avg_ue'\").set_index('time').loc[\n",
    "            '20221220':'20221223'\n",
    "        ].reset_index()\n",
    "    ).mark_line(color='black').encode(\n",
    "        alt.X('time:T'),\n",
    "        alt.Y('value:Q')\n",
    "    ).properties(width = 300, height = 125) \n",
    "    \n",
    "    &\n",
    "    \n",
    "    alt.Chart(\n",
    "        pivot_df[[\n",
    "            'delta water storage (g/s)',\n",
    "            'total_turb_divergence (g/s)',\n",
    "            'total_adv_divergence (g/s)'\n",
    "]].loc['20221220':'20221223'].melt(ignore_index=False).reset_index()\n",
    "    ).transform_window(\n",
    "        rolling_avg = \"mean(value)\",\n",
    "        frame = [-2, 2],\n",
    "        groupby = ['variable']\n",
    "    ).mark_line().encode(\n",
    "        alt.X(\"time:T\"),\n",
    "        alt.Y(\"rolling_avg:Q\").scale(),\n",
    "        alt.Color(\"variable:N\")\n",
    "    ).properties(width = 300, height = 125)\n",
    ") | (\n",
    "    alt.Chart(\n",
    "        tidy_df.query(\"variable == 'SF_avg_ue'\").set_index('time').loc[\n",
    "            '20221211':'20221214'\n",
    "        ].reset_index()\n",
    "    ).mark_line(color='black').encode(\n",
    "        alt.X('time:T'),\n",
    "        alt.Y('value:Q')\n",
    "    ).properties(width = 300, height = 125) \n",
    "    \n",
    "    &\n",
    "    \n",
    "    alt.Chart(\n",
    "        pivot_df[[\n",
    "            'delta water storage (g/s)',\n",
    "            'total_turb_divergence (g/s)',\n",
    "            'total_adv_divergence (g/s)'\n",
    "        ]].loc['20221211':'20221214'].melt(ignore_index=False).reset_index()\n",
    "    ).transform_window(\n",
    "        rolling_avg = \"mean(value)\",\n",
    "        frame = [-2, 2],\n",
    "        groupby = ['variable']\n",
    "    ).mark_line().encode(\n",
    "        alt.X(\"time:T\"),\n",
    "        alt.Y(\"rolling_avg:Q\").scale(),\n",
    "        alt.Color(\"variable:N\")\n",
    "    ).properties(width = 300, height = 125)   \n",
    ") | (\n",
    "    alt.Chart(\n",
    "        tidy_df.query(\"variable == 'SF_avg_ue'\").set_index('time').loc[\n",
    "            '20230328':'20230331    '\n",
    "        ].reset_index()\n",
    "    ).mark_line(color='black').encode(\n",
    "        alt.X('time:T'),\n",
    "        alt.Y('value:Q')\n",
    "    ).properties(width = 300, height = 125) \n",
    "    \n",
    "    &\n",
    "    \n",
    "    alt.Chart(\n",
    "        pivot_df[[\n",
    "            'delta water storage (g/s)',\n",
    "            'total_turb_divergence (g/s)',\n",
    "            'total_adv_divergence (g/s)'\n",
    "]].loc['20230328':'20230331 '].melt(ignore_index=False).reset_index()\n",
    "    ).transform_window(\n",
    "        rolling_avg = \"mean(value)\",\n",
    "        frame = [-2, 2],\n",
    "        groupby = ['variable']\n",
    "    ).mark_line().encode(\n",
    "        alt.X(\"time:T\"),\n",
    "        alt.Y(\"rolling_avg:Q\").scale(),\n",
    "        alt.Color(\"variable:N\")\n",
    "    ).properties(width = 300, height = 125)   \n",
    ")"
   ]
  },
  {
   "cell_type": "code",
   "execution_count": 178,
   "metadata": {},
   "outputs": [
    {
     "name": "stdout",
     "output_type": "stream",
     "text": [
      "turb. divergence (g/s) all 0.0\n",
      "turb. divergence (g/s) day -0.0\n",
      "turb. divergence (g/s) night 0.0\n",
      "turb. divergence (g/s) bs 0.0\n",
      "turb. divergence (g/s) no bs 0.0\n",
      "vertical_turb_divergence (g/s) all 0.0\n",
      "vertical_turb_divergence (g/s) day 0.0\n",
      "vertical_turb_divergence (g/s) night 0.0\n",
      "vertical_turb_divergence (g/s) bs 0.0\n",
      "vertical_turb_divergence (g/s) no bs -0.0\n",
      "lateral_turb_divergence (g/s) all 0.0\n",
      "lateral_turb_divergence (g/s) day -0.0\n",
      "lateral_turb_divergence (g/s) night 0.0\n",
      "lateral_turb_divergence (g/s) bs -0.0\n",
      "lateral_turb_divergence (g/s) no bs 0.0\n",
      "adv divergence (g/s) all 0.01\n",
      "adv divergence (g/s) day 0.02\n",
      "adv divergence (g/s) night 0.02\n",
      "adv divergence (g/s) bs 0.02\n",
      "adv divergence (g/s) no bs 0.01\n",
      "adv_vertical_divergence (g/s) all 0.0\n",
      "adv_vertical_divergence (g/s) day -0.0\n",
      "adv_vertical_divergence (g/s) night 0.0\n",
      "adv_vertical_divergence (g/s) bs 0.0\n",
      "adv_vertical_divergence (g/s) no bs 0.0\n",
      "adv_lateral_divergence (g/s) all 0.01\n",
      "adv_lateral_divergence (g/s) day 0.02\n",
      "adv_lateral_divergence (g/s) night 0.01\n",
      "adv_lateral_divergence (g/s) bs 0.02\n",
      "adv_lateral_divergence (g/s) no bs 0.01\n"
     ]
    }
   ],
   "source": [
    "day_hours = [7,8,9,10,11,12,13,14,15,16,17,18]\n",
    "night_hours = [19,20,21,22,23,0,1,2,3,4,5,6]\n",
    "print('turb. divergence (g/s)',             'all',        round( pivot_df['total_turb_divergence (g/s)'].mean(), 2))\n",
    "print('turb. divergence (g/s)',             'day',        round( pivot_df[  (pivot_df.index.isin(bs_times))   & pivot_df.index.hour.isin(day_hours)  ]['total_turb_divergence (g/s)'].mean(), 2))\n",
    "print('turb. divergence (g/s)',             'night',        round( pivot_df[  (pivot_df.index.isin(bs_times))   & pivot_df.index.hour.isin(night_hours)  ]['total_turb_divergence (g/s)'].mean(), 2))\n",
    "print('turb. divergence (g/s)',             'bs',         round( pivot_df[  (pivot_df.index.isin(bs_times))    ]['total_turb_divergence (g/s)'].mean(), 2))\n",
    "print('turb. divergence (g/s)',             'no bs',      round( pivot_df[  (pivot_df.index.isin(nobs_times))  ]['total_turb_divergence (g/s)'].mean(), 2))\n",
    "\n",
    "print('vertical_turb_divergence (g/s)',    'all',        round( pivot_df['total_turb_vertical_divergence (g/s)'].mean(), 2))\n",
    "print('vertical_turb_divergence (g/s)',             'day',        round( pivot_df[  (pivot_df.index.isin(bs_times))   & pivot_df.index.hour.isin(day_hours)  ]['total_turb_vertical_divergence (g/s)'].mean(), 2))\n",
    "print('vertical_turb_divergence (g/s)',             'night',        round( pivot_df[  (pivot_df.index.isin(bs_times))   & pivot_df.index.hour.isin(night_hours)  ]['total_turb_vertical_divergence (g/s)'].mean(), 2))\n",
    "print('vertical_turb_divergence (g/s)',    'bs',         round( pivot_df[  (pivot_df.index.isin(bs_times))    ]['total_turb_vertical_divergence (g/s)'].mean(), 2))\n",
    "print('vertical_turb_divergence (g/s)',    'no bs',      round( pivot_df[  (pivot_df.index.isin(nobs_times))  ]['total_turb_vertical_divergence (g/s)'].mean(), 2))\n",
    "\n",
    "print('lateral_turb_divergence (g/s)',     'all',        round( pivot_df['total_turb_lateral_divergence (g/s)'].mean(), 2))\n",
    "print('lateral_turb_divergence (g/s)',             'day',        round( pivot_df[  (pivot_df.index.isin(bs_times))   & pivot_df.index.hour.isin(day_hours)  ]['total_turb_lateral_divergence (g/s)'].mean(), 2))\n",
    "print('lateral_turb_divergence (g/s)',             'night',        round( pivot_df[  (pivot_df.index.isin(bs_times))   & pivot_df.index.hour.isin(night_hours)  ]['total_turb_lateral_divergence (g/s)'].mean(), 2))\n",
    "print('lateral_turb_divergence (g/s)',     'bs',         round( pivot_df[  (pivot_df.index.isin(bs_times))    ]['total_turb_lateral_divergence (g/s)'].mean(), 2))\n",
    "print('lateral_turb_divergence (g/s)',     'no bs',      round( pivot_df[  (pivot_df.index.isin(nobs_times))  ]['total_turb_lateral_divergence (g/s)'].mean(), 2))\n",
    "\n",
    "print('adv divergence (g/s)',             'all',    round( pivot_df['total_adv_divergence (g/s)'].mean(), 2))\n",
    "print('adv divergence (g/s)',             'day',        round( pivot_df[  (pivot_df.index.isin(bs_times))   & pivot_df.index.hour.isin(day_hours)  ]['total_adv_divergence (g/s)'].mean(), 2))\n",
    "print('adv divergence (g/s)',             'night',        round( pivot_df[  (pivot_df.index.isin(bs_times))   & pivot_df.index.hour.isin(night_hours)  ]['total_adv_divergence (g/s)'].mean(), 2))\n",
    "print('adv divergence (g/s)',             'bs',     round( pivot_df[  (pivot_df.index.isin(bs_times))    ]['total_adv_divergence (g/s)'].mean(), 2))\n",
    "print('adv divergence (g/s)',             'no bs',  round( pivot_df[  (pivot_df.index.isin(nobs_times))  ]['total_adv_divergence (g/s)'].mean(), 2))\n",
    "\n",
    "print('adv_vertical_divergence (g/s)','all',        round( pivot_df['total_adv_vertical_divergence (g/s)'].mean(), 2))\n",
    "print('adv_vertical_divergence (g/s)',             'day',        round( pivot_df[  (pivot_df.index.isin(bs_times))   & pivot_df.index.hour.isin(day_hours)  ]['total_adv_vertical_divergence (g/s)'].mean(), 2))\n",
    "print('adv_vertical_divergence (g/s)',             'night',        round( pivot_df[  (pivot_df.index.isin(bs_times))   & pivot_df.index.hour.isin(night_hours)  ]['total_adv_vertical_divergence (g/s)'].mean(), 2))\n",
    "print('adv_vertical_divergence (g/s)','bs',         round( pivot_df[  (    pivot_df.index.isin(bs_times))    ]['total_adv_vertical_divergence (g/s)'].mean(), 2))\n",
    "print('adv_vertical_divergence (g/s)','no bs',      round( pivot_df[  (pivot_df.index.isin(nobs_times))  ]['total_adv_vertical_divergence (g/s)'].mean(), 2))\n",
    "\n",
    "print('adv_lateral_divergence (g/s)', 'all',        round( pivot_df['total_adv_lateral_divergence (g/s)'].mean(), 2))\n",
    "print('adv_lateral_divergence (g/s)',             'day',        round( pivot_df[  (pivot_df.index.isin(bs_times))   & pivot_df.index.hour.isin(day_hours)  ]['total_adv_lateral_divergence (g/s)'].mean(), 2))\n",
    "print('adv_lateral_divergence (g/s)',             'night',        round( pivot_df[  (pivot_df.index.isin(bs_times))   & pivot_df.index.hour.isin(night_hours)  ]['total_adv_lateral_divergence (g/s)'].mean(), 2))\n",
    "print('adv_lateral_divergence (g/s)', 'bs',         round( pivot_df[  (pivot_df.index.isin(bs_times))    ]['total_adv_lateral_divergence (g/s)'].mean(), 2))\n",
    "print('adv_lateral_divergence (g/s)', 'no bs',      round( pivot_df[  (pivot_df.index.isin(nobs_times))  ]['total_adv_lateral_divergence (g/s)'].mean(), 2))"
   ]
  },
  {
   "cell_type": "code",
   "execution_count": 179,
   "metadata": {},
   "outputs": [
    {
     "data": {
      "image/png": "[encoded data removed]",
      "text/plain": [
       "<Figure size 500x800 with 4 Axes>"
      ]
     },
     "metadata": {},
     "output_type": "display_data"
    }
   ],
   "source": [
    "# start_date = '20221221'\n",
    "# end_date = '20221223'\n",
    "# start_date = '20221211'\n",
    "# end_date = '20221214'\n",
    "start_date = '20230328'\n",
    "end_date = '20230328'\n",
    "\n",
    "fig, axes = plt.subplots(4,1, sharex=True, figsize=(5, 8))\n",
    "axes[0].plot(\n",
    "    tidy_df.query(\"variable == 'SF_avg_ue'\").set_index('time').sort_index().loc[start_date:end_date].index,\n",
    "    tidy_df.query(\"variable == 'SF_avg_ue'\").set_index('time').sort_index().loc[start_date:end_date].value\n",
    ")\n",
    "axes[1].plot(\n",
    "    tidy_df.query(\"variable == 'specifichumidity_5m_c'\").set_index('time').sort_index().loc[start_date:end_date].index,\n",
    "    tidy_df.query(\"variable == 'specifichumidity_5m_c'\").set_index('time').sort_index().loc[start_date:end_date].value\n",
    ")\n",
    "\n",
    "axes[2].plot(\n",
    "    pivot_df['total_turb_divergence (g/s)'].loc[start_date:end_date].index,\n",
    "    pivot_df['total_turb_divergence (g/s)'].loc[start_date:end_date],\n",
    "    color='red',\n",
    "    label = 'total turb. divergence'\n",
    ")\n",
    "axes[2].plot(\n",
    "    pivot_df['total_turb_vertical_divergence (g/s)'].loc[start_date:end_date].index,\n",
    "    pivot_df['total_turb_vertical_divergence (g/s)'].loc[start_date:end_date],\n",
    "    color='blue',\n",
    "    label = 'vertical turb. divergence'\n",
    ")\n",
    "axes[2].plot(\n",
    "    pivot_df['total_turb_lateral_divergence (g/s)'].loc[start_date:end_date].index,\n",
    "    pivot_df['total_turb_lateral_divergence (g/s)'].loc[start_date:end_date],\n",
    "    color='yellow',\n",
    "    label = 'lateral turb. divergence'\n",
    ")\n",
    "\n",
    "pivot_df['total_adv_lateral_divergence (g/s)']\n",
    "pivot_df['total_adv_vertical_divergence (g/s)']\n",
    "pivot_df['total_adv_divergence (g/s)']\n",
    "         \n",
    "axes[3].plot(\n",
    "    pivot_df['total_adv_divergence (g/s)'].loc[start_date:end_date].index,\n",
    "    pivot_df['total_adv_divergence (g/s)'].loc[start_date:end_date],\n",
    "    color='red',\n",
    "    label = 'total adv. divergence'\n",
    ")\n",
    "axes[3].plot(\n",
    "    pivot_df['total_adv_vertical_divergence (g/s)'].loc[start_date:end_date].index,\n",
    "    pivot_df['total_adv_vertical_divergence (g/s)'].loc[start_date:end_date],\n",
    "    color='blue',\n",
    "    label = 'vertical adv. divergence'\n",
    ")\n",
    "axes[3].plot(\n",
    "    pivot_df['total_adv_lateral_divergence (g/s)'].loc[start_date:end_date].index,\n",
    "    pivot_df['total_adv_lateral_divergence (g/s)'].loc[start_date:end_date],\n",
    "    color='yellow',\n",
    "    label = 'lateral adv. divergence'\n",
    ")\n",
    "\n",
    "for ax in axes:\n",
    "    ax.axhline(0, color='grey')\n",
    "axes[0].set_ylabel(\"Blowing snow\\nflux (g/m^2/s)\", rotation=0, labelpad=60)\n",
    "axes[1].set_ylabel(\"Specific\\nhumidity (g/g)\", rotation=0, labelpad=60)\n",
    "axes[2].set_ylabel(\"Divergence\\n(g/s)\", rotation=0, labelpad=60)\n",
    "axes[2].legend(loc='upper center', bbox_to_anchor=(1.25, 1.05),ncol=1)\n",
    "# axes[2].set_ylim(-20,20)\n",
    "\n",
    "axes[3].set_ylabel(\"Divergence\\n(g/s)\", rotation=0, labelpad=60)\n",
    "axes[3].legend(loc='upper center', bbox_to_anchor=(1.25, 1.05),ncol=1)\n",
    "# axes[3].set_ylim(-20,20)\n",
    "axes[3].tick_params(axis='x', labelrotation=45)"
   ]
  },
  {
   "cell_type": "code",
   "execution_count": 180,
   "metadata": {},
   "outputs": [],
   "source": [
    "pivot_df.to_csv('flux_divergence_3d_control_volume.csv')"
   ]
  },
  {
   "cell_type": "code",
   "execution_count": null,
   "metadata": {},
   "outputs": [],
   "source": []
  },
  {
   "cell_type": "markdown",
   "metadata": {},
   "source": [
    "# Plot wind vectors in space?"
   ]
  },
  {
   "cell_type": "code",
   "execution_count": null,
   "metadata": {},
   "outputs": [],
   "source": [
    "wind_src = tidy_df[tidy_df.measurement.isin(['wind speed', 'wind direction', 'w'])]\n",
    "wind_src = wind_src.pivot_table(index=['time', 'height', 'tower'], values='value', columns='measurement').reset_index()\n",
    "tower_to_x_dict = {\n",
    "    'ue': 1,\n",
    "    'uw': 1,\n",
    "    'c': 3,\n",
    "    'd': 5,\n",
    "}\n",
    "tower_to_y_dict = {\n",
    "    'ue': 7,\n",
    "    'uw': 1,\n",
    "    'c': 4,\n",
    "    'd': 4,\n",
    "}\n",
    "wind_src['x'] = wind_src['tower'].apply(tower_to_x_dict.get)\n",
    "wind_src['y'] = wind_src['tower'].apply(tower_to_y_dict.get)\n",
    "\n",
    "wind_src['wind from'] = wind_src['wind direction'] - 180\n",
    "\n",
    "wind_src"
   ]
  },
  {
   "cell_type": "code",
   "execution_count": null,
   "metadata": {},
   "outputs": [],
   "source": [
    "src = wind_src[wind_src.time  < '20221201']\n",
    "src = src.query(\"height == 3\")\n",
    "plot_3m = alt.Chart(src).mark_point(shape='arrow').encode(\n",
    "    alt.X('x:Q'),\n",
    "    alt.Y('y:Q'),\n",
    "    alt.Size('wind speed:Q').scale(domain=[0.50,5], range=[500,5000]),\n",
    "    alt.Angle('wind from:Q').scale(domain=[0,360]),\n",
    "    alt.Color('w').scale(domain=[-0.1, 0.1], scheme='purpleorange'),\n",
    "    alt.Facet('time:T', columns=4).header(format='%H:%M')\n",
    ").properties(width=100, height = 100, title='Winds at 3 meters')\n",
    "\n",
    "src = wind_src[wind_src.time  < '20221201']\n",
    "src = src.query(\"height == 10\")\n",
    "plot_10m = alt.Chart(src).mark_point(shape='arrow').encode(\n",
    "    alt.X('x:Q'),\n",
    "    alt.Y('y:Q'),\n",
    "    alt.Size('wind speed:Q').scale(domain=[0.50,5], range=[500,5000]),\n",
    "    alt.Angle('wind from:Q').scale(domain=[0,360]),\n",
    "    alt.Color('w').scale(domain=[-0.1, 0.1], scheme='purpleorange'),\n",
    "    alt.Facet('time:T', columns=4).header(format='%H:%M')\n",
    ").properties(width=100, height = 100, title='Winds at 10 meters')\n",
    "\n",
    "(plot_3m | plot_10m).configure_axis(grid=False).configure_legend(columns=2)"
   ]
  },
  {
   "cell_type": "markdown",
   "metadata": {},
   "source": [
    "# Examine corrections to the gas analyzers"
   ]
  },
  {
   "cell_type": "markdown",
   "metadata": {},
   "source": [
    "* Scatter plots - hygrometer at 3/5/10/20 m-C vs gas analyzer at 3m C\n",
    "    * Water vapor content (hygrometer) vs water vapor content (gas analyzer)\n",
    "    - plot both using their native units (abs humidity vs relative)\n",
    "    - plot both using absolute humidity\n",
    "    - plot both converting to specific humidity\n",
    "    - plot both converting to relative humidity\n",
    "    * Then can color code by temperature"
   ]
  },
  {
   "cell_type": "markdown",
   "metadata": {},
   "source": [
    "## Add absolute humidity measurements by converting hygrometer measurements"
   ]
  },
  {
   "cell_type": "code",
   "execution_count": null,
   "metadata": {},
   "outputs": [],
   "source": [
    "tower_height_keys = tidy_df[tidy_df.measurement=='specific humidity'].groupby(['tower', 'height']).indices.keys()\n",
    "for t, h in tower_height_keys:\n",
    "    this_tower_height_tidy_df = tidy_df.query(\n",
    "            f\"tower == '{t}'\"\n",
    "        ).query(\n",
    "            f\"height == {h}\"\n",
    "        )\n",
    "    specific_humidity_values = this_tower_height_tidy_df.query(\n",
    "            \"measurement == 'specific humidity'\"\n",
    "        ).set_index('time')[['value']].rename(columns={'value': 'specific humidity'})\n",
    "    air_density_values = this_tower_height_tidy_df.query(\n",
    "            \"measurement == 'air density'\"\n",
    "        ).set_index('time')[['value']].rename(columns={'value': 'air density'})\n",
    "    combined_df = specific_humidity_values.join(air_density_values)\n",
    "\n",
    "    abs_humidity_values = (\n",
    "        combined_df['specific humidity'].values * units('g/g')\n",
    "    ).to('g/kg') * (\n",
    "        combined_df['air density'].values * units('kg/m^3')\n",
    "    ).m\n",
    "\n",
    "    tidy_df = tidy.tidy_df_add_variable(\n",
    "        tidy_df,\n",
    "        abs_humidity_values,\n",
    "        f\"absolutehumidity_{int(h)}m_{t}\",\n",
    "        'absolute humidity',\n",
    "        int(h),\n",
    "        t\n",
    "    )"
   ]
  },
  {
   "cell_type": "markdown",
   "metadata": {},
   "source": [
    "## Examine raw measurements"
   ]
  },
  {
   "cell_type": "code",
   "execution_count": null,
   "metadata": {},
   "outputs": [],
   "source": [
    "alt.Chart(\n",
    "    tidy_df[\n",
    "        tidy_df.measurement=='absolute humidity'\n",
    "    ].groupby(['tower', 'height'])[['value']].mean().reset_index()\n",
    ").mark_point(shape='square', filled=True, color='black', size=20).encode(\n",
    "    alt.X(\"value:Q\"),\n",
    "    alt.Y(\"height:Q\")\n",
    ").properties(width=150, height = 150)\\\n",
    "+ alt.Chart(\n",
    "    tidy_df[tidy_df.measurement=='Water vapor density'].groupby(['variable', 'tower', 'height'])[['value']].mean().reset_index()\n",
    ").mark_circle(size=40).encode(\n",
    "    alt.X(\"value:Q\").title(\"Absolute humidity (g/m^3)\"),\n",
    "    alt.Y(\"height:Q\"),\n",
    "    alt.Color('tower:N')\n",
    ").properties(width=150, height = 150)"
   ]
  },
  {
   "cell_type": "code",
   "execution_count": null,
   "metadata": {},
   "outputs": [],
   "source": [
    "src =tidy_df[\n",
    "    tidy_df.measurement.isin(['absolute humidity', 'Water vapor density'])\n",
    "].query(\"tower == 'c'\").pivot(\n",
    "    index=['time', 'height', 'tower'],\n",
    "    columns='measurement',\n",
    "    values='value'\n",
    ")\n",
    "src.columns = src.columns.get_level_values(0)\n",
    "src = src.reset_index()\n",
    "\n",
    "alt.Chart(src).mark_circle(opacity=0.15).encode(\n",
    "    alt.X('Water vapor density').title('Gas analyzer').scale(domain=[0,6], clamp=True),\n",
    "    alt.Y('absolute humidity').title('Hygrometer').scale(domain=[0,6], clamp=True),\n",
    "    alt.Row('tower:N'),\n",
    "    alt.Column('height:O')\n",
    ")"
   ]
  },
  {
   "cell_type": "code",
   "execution_count": null,
   "metadata": {},
   "outputs": [],
   "source": [
    "src =tidy_df[\n",
    "    tidy_df.measurement.isin(['temperature', 'absolute humidity', 'Water vapor density'])\n",
    "].query(\"tower == 'c'\").pivot(\n",
    "    index=['time', 'height', 'tower'],\n",
    "    columns='measurement',\n",
    "    values='value'\n",
    ")\n",
    "src.columns = src.columns.get_level_values(0)\n",
    "src = src.reset_index()\n",
    "alt.Chart(src).mark_circle(opacity=1.0).encode(\n",
    "    alt.X('Water vapor density').title('Gas analyzer').scale(domain=[0,6], clamp=True),\n",
    "    alt.Y('absolute humidity').title('Hygrometer').scale(domain=[0,6], clamp=True),\n",
    "    alt.Color('temperature').scale(domain=[-30,10], scheme='reds'),\n",
    "    alt.Row('tower:N'),\n",
    "    alt.Column('height:O')\n",
    ")"
   ]
  },
  {
   "cell_type": "markdown",
   "metadata": {},
   "source": [
    "## Calculate corrections assuming that all gas analyzers have the same seasonal mean as the corresponding hygrometer measurement on the central tower (at a given height)"
   ]
  },
  {
   "cell_type": "code",
   "execution_count": null,
   "metadata": {},
   "outputs": [],
   "source": [
    "hygrometer_absolute_humidity_mean = (\n",
    "    1000 * tidy_df[tidy_df.measurement=='specific humidity'].groupby(['tower', 'height'])[['value']].mean() *\\\n",
    "    tidy_df[tidy_df.measurement=='air density'].groupby(['tower', 'height'])[['value']].mean()\n",
    ").reset_index().query(\"tower == 'c'\")"
   ]
  },
  {
   "cell_type": "code",
   "execution_count": null,
   "metadata": {},
   "outputs": [],
   "source": [
    "ec_absolute_humidity_mean = tidy_df[tidy_df.measurement=='Water vapor density'].groupby(['variable', 'tower', 'height'])[['value']].mean().reset_index()"
   ]
  },
  {
   "cell_type": "code",
   "execution_count": null,
   "metadata": {},
   "outputs": [],
   "source": [
    "corrections_df = ec_absolute_humidity_mean.merge(\n",
    "    hygrometer_absolute_humidity_mean[['height', 'value']].rename(columns={'value': 'truth'}),\n",
    "    on='height'\n",
    ")\n",
    "corrections_df['offset'] = corrections_df['value'] - corrections_df['truth']\n",
    "corrections_df"
   ]
  },
  {
   "cell_type": "markdown",
   "metadata": {},
   "source": [
    "## Update dataset with corrections"
   ]
  },
  {
   "cell_type": "code",
   "execution_count": null,
   "metadata": {},
   "outputs": [],
   "source": [
    "src = tidy_df[tidy_df.measurement=='Water vapor density']\n",
    "src = src[src.height.isin([3,10])]\n",
    "\n",
    "alt.Chart(\n",
    "    src[ src.time > '20221220' ][ src.time < '20221224' ]\n",
    ").mark_line().encode(\n",
    "    alt.X(\"time:T\"),\n",
    "    alt.Y(\"value:Q\"),\n",
    "    alt.Color(\"height:N\"),\n",
    "    detail='variable'\n",
    ")"
   ]
  },
  {
   "cell_type": "code",
   "execution_count": null,
   "metadata": {},
   "outputs": [],
   "source": [
    "for idx, row in corrections_df.iterrows():\n",
    "    src = tidy_df.query(f\"variable == '{row['variable']}'\")\n",
    "    src = src.assign(value = src.value - row['offset'])\n",
    "    tidy_df = tidy_df[tidy_df.variable != row['variable']]\n",
    "    tidy_df = pd.concat([tidy_df, src])"
   ]
  },
  {
   "cell_type": "code",
   "execution_count": null,
   "metadata": {},
   "outputs": [],
   "source": [
    "alt.Chart(\n",
    "    (\n",
    "    1000 * tidy_df[tidy_df.measurement=='specific humidity'].groupby(['tower', 'height'])[['value']].mean() *\\\n",
    "    tidy_df[tidy_df.measurement=='air density'].groupby(['tower', 'height'])[['value']].mean()\n",
    "    ).reset_index()\n",
    ").mark_point(shape='square', filled=True, color='black', size=20).encode(\n",
    "    alt.X(\"value:Q\"),\n",
    "    alt.Y(\"height:Q\")\n",
    ").properties(width=150, height = 150)\\\n",
    "+ alt.Chart(\n",
    "    tidy_df[tidy_df.measurement=='Water vapor density'].groupby(['variable', 'tower', 'height'])[['value']].mean().reset_index()\n",
    ").mark_circle(size=40).encode(\n",
    "    alt.X(\"value:Q\"),\n",
    "    alt.Y(\"height:Q\"),\n",
    "    alt.Color('tower:N')\n",
    ").properties(width=150, height = 150)"
   ]
  },
  {
   "cell_type": "code",
   "execution_count": null,
   "metadata": {},
   "outputs": [],
   "source": [
    "src = tidy_df[tidy_df.measurement=='Water vapor density']\n",
    "src = src[src.height.isin([3,10])]\n",
    "\n",
    "alt.Chart(\n",
    "    src[ src.time > '20221220' ][ src.time < '20221224' ]\n",
    ").mark_line().encode(\n",
    "    alt.X(\"time:T\"),\n",
    "    alt.Y(\"value:Q\"),\n",
    "    alt.Color(\"height:N\"),\n",
    "    detail='variable'\n",
    ")"
   ]
  },
  {
   "cell_type": "markdown",
   "metadata": {},
   "source": [
    "## Examine residuals"
   ]
  },
  {
   "cell_type": "code",
   "execution_count": null,
   "metadata": {},
   "outputs": [],
   "source": [
    "compare_src = tidy_df[tidy_df.variable.isin([\n",
    "    'T_3m_c', 'h2o_3m_c', 'specifichumidity_3m_c', 'airdensity_3m_c',\n",
    "    'T_10m_c', 'h2o_10m_c', 'specifichumidity_10m_c', 'airdensity_10m_c',\n",
    "\n",
    "    'T_3m_ue', 'h2o_3m_ue', \n",
    "    'T_10m_ue', 'h2o_10m_ue',\n",
    "    \n",
    "    'T_3m_uw', 'h2o_3m_uw',    \n",
    "    'T_10m_uw', 'h2o_10m_uw',\n",
    "    \n",
    "    'T_3m_d', 'h2o_3m_d',    \n",
    "    'T_10m_d', 'h2o_10m_d'\n",
    "    ])].pivot_table(index='time', columns='variable', values='value')\n",
    "\n",
    "compare_src['absolutehumidity_3m_c'] = 1000*compare_src['specifichumidity_3m_c'] * compare_src['airdensity_3m_c']\n",
    "compare_src['absolutehumidity_10m_c'] = 1000*compare_src['specifichumidity_10m_c'] * compare_src['airdensity_10m_c']\n",
    "compare_src['difference_3m_c'] = compare_src['h2o_3m_c'] - compare_src['absolutehumidity_3m_c']\n",
    "compare_src['difference_normalized_3m_c'] = (compare_src['h2o_3m_c'] - compare_src['absolutehumidity_3m_c'])/ compare_src['h2o_3m_c']\n",
    "compare_src['difference_10m_c'] = compare_src['h2o_10m_c'] - compare_src['absolutehumidity_10m_c']\n",
    "compare_src['difference_normalized_10m_c'] = (compare_src['h2o_10m_c'] - compare_src['absolutehumidity_10m_c'])/ compare_src['h2o_10m_c']\n",
    "\n",
    "compare_src['absolutehumidity_3m_ue'] = 1000*compare_src['specifichumidity_3m_c'] * compare_src['airdensity_3m_c']\n",
    "compare_src['absolutehumidity_10m_ue'] = 1000*compare_src['specifichumidity_10m_c'] * compare_src['airdensity_10m_c']\n",
    "compare_src['difference_3m_ue'] = compare_src['h2o_3m_ue'] - compare_src['absolutehumidity_3m_ue']\n",
    "compare_src['difference_normalized_3m_ue'] = (compare_src['h2o_3m_ue'] - compare_src['absolutehumidity_3m_ue'])/ compare_src['h2o_3m_ue']\n",
    "compare_src['difference_10m_ue'] = compare_src['h2o_10m_ue'] - compare_src['absolutehumidity_10m_ue']\n",
    "compare_src['difference_normalized_10m_ue'] = (compare_src['h2o_10m_ue'] - compare_src['absolutehumidity_10m_ue'])/ compare_src['h2o_10m_ue']\n",
    "\n",
    "compare_src['absolutehumidity_3m_uw'] = 1000*compare_src['specifichumidity_3m_c'] * compare_src['airdensity_3m_c']\n",
    "compare_src['absolutehumidity_10m_uw'] = 1000*compare_src['specifichumidity_10m_c'] * compare_src['airdensity_10m_c']\n",
    "compare_src['difference_3m_uw'] = compare_src['h2o_3m_uw'] - compare_src['absolutehumidity_3m_uw']\n",
    "compare_src['difference_normalized_3m_uw'] = (compare_src['h2o_3m_uw'] - compare_src['absolutehumidity_3m_uw'])/ compare_src['h2o_3m_uw']\n",
    "compare_src['difference_10m_uw'] = compare_src['h2o_10m_uw'] - compare_src['absolutehumidity_10m_uw']\n",
    "compare_src['difference_normalized_10m_uw'] = (compare_src['h2o_10m_uw'] - compare_src['absolutehumidity_10m_uw'])/ compare_src['h2o_10m_uw']\n",
    "\n",
    "compare_src['absolutehumidity_3m_d'] = 1000*compare_src['specifichumidity_3m_c'] * compare_src['airdensity_3m_c']\n",
    "compare_src['absolutehumidity_10m_d'] = 1000*compare_src['specifichumidity_10m_c'] * compare_src['airdensity_10m_c']\n",
    "compare_src['difference_3m_d'] = compare_src['h2o_3m_d'] - compare_src['absolutehumidity_3m_d']\n",
    "compare_src['difference_normalized_3m_d'] = (compare_src['h2o_3m_d'] - compare_src['absolutehumidity_3m_d'])/ compare_src['h2o_3m_d']\n",
    "compare_src['difference_10m_d'] = compare_src['h2o_10m_d'] - compare_src['absolutehumidity_10m_d']\n",
    "compare_src['difference_normalized_10m_d'] = (compare_src['h2o_10m_d'] - compare_src['absolutehumidity_10m_d'])/ compare_src['h2o_10m_d']"
   ]
  },
  {
   "cell_type": "markdown",
   "metadata": {},
   "source": [
    "### As function of temperature"
   ]
  },
  {
   "cell_type": "code",
   "execution_count": null,
   "metadata": {},
   "outputs": [],
   "source": [
    "def pts_n_bars(src, x, y):\n",
    "    # return alt.Chart(src).mark_circle(opacity=0.25).encode(\n",
    "    #     alt.X(f\"{x}:Q\"),\n",
    "    #     alt.Y(f\"{y}:Q\")\n",
    "    # ).properties(width=150, height=150) | \n",
    "    return alt.Chart(src).mark_boxplot(outliers=False).encode(\n",
    "        alt.X(f\"{x}:Q\").bin(True),\n",
    "        alt.Y(f\"{y}:Q\")\n",
    "    ).properties(width=150, height=150)\n",
    "\n",
    "(\n",
    "    pts_n_bars(compare_src, 'T_3m_c', 'difference_normalized_3m_c') |\\\n",
    "    pts_n_bars(compare_src, 'T_10m_c', 'difference_normalized_10m_c') |\\\n",
    "    pts_n_bars(compare_src, 'T_3m_c', 'difference_normalized_3m_uw') |\\\n",
    "    pts_n_bars(compare_src, 'T_10m_c', 'difference_normalized_10m_uw')\n",
    ") & (\n",
    "    pts_n_bars(compare_src, 'T_3m_c', 'difference_normalized_3m_ue') |\\\n",
    "    pts_n_bars(compare_src, 'T_10m_c', 'difference_normalized_10m_ue') |\\\n",
    "    pts_n_bars(compare_src, 'T_3m_c', 'difference_normalized_3m_d') |\\\n",
    "    pts_n_bars(compare_src, 'T_10m_c', 'difference_normalized_10m_d')\n",
    ")"
   ]
  },
  {
   "cell_type": "code",
   "execution_count": null,
   "metadata": {},
   "outputs": [],
   "source": [
    "def pts_n_bars(src, x, y):\n",
    "    # return alt.Chart(src).mark_circle(opacity=0.25).encode(\n",
    "    #     alt.X(f\"{x}:Q\"),\n",
    "    #     alt.Y(f\"{y}:Q\")\n",
    "    # ).properties(width=150, height=150) | \n",
    "    return alt.Chart(src).mark_boxplot(outliers=False).encode(\n",
    "        alt.X(f\"{x}:Q\").bin(True),\n",
    "        alt.Y(f\"{y}:Q\")\n",
    "    ).properties(width=150, height=150)\n",
    "\n",
    "(\n",
    "    pts_n_bars(compare_src, 'T_3m_c', 'difference_3m_c') |\\\n",
    "    pts_n_bars(compare_src, 'T_10m_c', 'difference_10m_c') |\\\n",
    "    pts_n_bars(compare_src, 'T_3m_c', 'difference_3m_uw') |\\\n",
    "    pts_n_bars(compare_src, 'T_10m_c', 'difference_10m_uw')\n",
    ") & (\n",
    "    pts_n_bars(compare_src, 'T_3m_c', 'difference_3m_ue') |\\\n",
    "    pts_n_bars(compare_src, 'T_10m_c', 'difference_10m_ue') |\\\n",
    "    pts_n_bars(compare_src, 'T_3m_c', 'difference_3m_d') |\\\n",
    "    pts_n_bars(compare_src, 'T_10m_c', 'difference_10m_d')\n",
    ")"
   ]
  },
  {
   "cell_type": "code",
   "execution_count": null,
   "metadata": {},
   "outputs": [],
   "source": [
    "def pts_n_bars(src, x, y):\n",
    "    return alt.Chart(src).mark_circle(opacity=0.25).encode(\n",
    "        alt.X(f\"{x}:Q\"),\n",
    "        alt.Y(f\"{y}:Q\")\n",
    "    ).properties(width=150, height=150)\n",
    "    # return alt.Chart(src).mark_boxplot(outliers=False).encode(\n",
    "    #     alt.X(f\"{x}:Q\").bin(True),\n",
    "    #     alt.Y(f\"{y}:Q\")\n",
    "    # ).properties(width=150, height=150)\n",
    "\n",
    "(\n",
    "    pts_n_bars(compare_src, 'T_3m_c', 'difference_3m_c') |\\\n",
    "    pts_n_bars(compare_src, 'T_10m_c', 'difference_10m_c') |\\\n",
    "    pts_n_bars(compare_src, 'T_3m_c', 'difference_3m_uw') |\\\n",
    "    pts_n_bars(compare_src, 'T_10m_c', 'difference_10m_uw')\n",
    ") & (\n",
    "    pts_n_bars(compare_src, 'T_3m_c', 'difference_3m_ue') |\\\n",
    "    pts_n_bars(compare_src, 'T_10m_c', 'difference_10m_ue') |\\\n",
    "    pts_n_bars(compare_src, 'T_3m_c', 'difference_3m_d') |\\\n",
    "    pts_n_bars(compare_src, 'T_10m_c', 'difference_10m_d')\n",
    ")"
   ]
  },
  {
   "cell_type": "code",
   "execution_count": null,
   "metadata": {},
   "outputs": [],
   "source": [
    "src = tidy_df.query(\"variable == 'dir_3m_c'\")\n",
    "src = src[np.abs(src.value - 249) < 2]\n",
    "src"
   ]
  },
  {
   "cell_type": "code",
   "execution_count": null,
   "metadata": {},
   "outputs": [],
   "source": [
    "div_src = pivot_df[pivot_df.columns[-7:]]\n",
    "div_src['face1_projected_adv_flux'] = face1_projected_adv_flux\n",
    "div_src['face2_projected_adv_flux'] = face2_projected_adv_flux\n",
    "div_src['face3_projected_adv_flux'] = face3_projected_adv_flux\n",
    "div_src.loc[src.time]"
   ]
  }
 ],
 "metadata": {
  "kernelspec": {
   "display_name": "arm",
   "language": "python",
   "name": "python3"
  },
  "language_info": {
   "codemirror_mode": {
    "name": "ipython",
    "version": 3
   },
   "file_extension": ".py",
   "mimetype": "text/x-python",
   "name": "python",
   "nbconvert_exporter": "python",
   "pygments_lexer": "ipython3",
   "version": "3.1.0"
  }
 },
 "nbformat": 4,
 "nbformat_minor": 2
}
