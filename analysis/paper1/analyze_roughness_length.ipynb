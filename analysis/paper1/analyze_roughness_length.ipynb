{
 "cells": [
  {
   "cell_type": "code",
   "execution_count": 16,
   "metadata": {},
   "outputs": [
    {
     "data": {
      "text/plain": [
       "RendererRegistry.enable('jupyterlab')"
      ]
     },
     "execution_count": 16,
     "metadata": {},
     "output_type": "execute_result"
    }
   ],
   "source": [
    "import numpy as np\n",
    "import pandas as pd\n",
    "\n",
    "import matplotlib.pyplot as plt\n",
    "import altair as alt\n",
    "alt.data_transformers.enable('json')\n",
    "alt.renderers.enable('jupyterlab')"
   ]
  },
  {
   "cell_type": "markdown",
   "metadata": {},
   "source": [
    "# Load Data"
   ]
  },
  {
   "cell_type": "code",
   "execution_count": 17,
   "metadata": {},
   "outputs": [],
   "source": [
    "start_date = '20221130'\n",
    "end_date = '20230509'\n",
    "\n",
    "tidy_dataset_fn = f\"tidy_df_{start_date}_{end_date}_noplanar_fit.parquet\"\n",
    "tidy_daily_dataset_output_fn = f\"tidy_df_daily_{start_date}_{end_date}_noplanar_fit.parquet\""
   ]
  },
  {
   "cell_type": "code",
   "execution_count": 18,
   "metadata": {},
   "outputs": [],
   "source": [
    "try:\n",
    "    tidy_df_5Min = pd.read_parquet(\n",
    "        tidy_dataset_fn\n",
    "    )\n",
    "except FileNotFoundError:\n",
    "    print(\"No file such file exists for these dates.\")\n",
    "tidy_df_5Min['time'] = pd.to_datetime(tidy_df_5Min['time'])"
   ]
  },
  {
   "cell_type": "code",
   "execution_count": 19,
   "metadata": {},
   "outputs": [],
   "source": [
    "z0_andreas_df = pd.read_parquet(\"z0estimates/z0_andreas_df.parquet\")\n",
    "z0_andreas_df_strict = pd.read_parquet(\"z0estimates/z0_andreas_df_strict.parquet\")\n",
    "z0_andreas_df_weekly = pd.read_parquet(\"z0estimates/z0_andreas_df_weekly.parquet\")"
   ]
  },
  {
   "cell_type": "code",
   "execution_count": 20,
   "metadata": {},
   "outputs": [],
   "source": [
    "coare_model_results_entire_df = pd.read_parquet(\"coare_model_results.parquet\")\n",
    "coare_model_results_df = coare_model_results_entire_df[\n",
    "    coare_model_results_entire_df.config == 'Tsurf_c e_sat_alduchov z0_andreas_weekly'\n",
    "]"
   ]
  },
  {
   "cell_type": "markdown",
   "metadata": {},
   "source": [
    "# Analyze results"
   ]
  },
  {
   "cell_type": "code",
   "execution_count": 21,
   "metadata": {},
   "outputs": [
    {
     "data": {
      "text/html": [
       "<div>\n",
       "<style scoped>\n",
       "    .dataframe tbody tr th:only-of-type {\n",
       "        vertical-align: middle;\n",
       "    }\n",
       "\n",
       "    .dataframe tbody tr th {\n",
       "        vertical-align: top;\n",
       "    }\n",
       "\n",
       "    .dataframe thead th {\n",
       "        text-align: right;\n",
       "    }\n",
       "</style>\n",
       "<table border=\"1\" class=\"dataframe\">\n",
       "  <thead>\n",
       "    <tr style=\"text-align: right;\">\n",
       "      <th></th>\n",
       "      <th>L_3m_c</th>\n",
       "      <th>ustar_3m_c</th>\n",
       "      <th>z0</th>\n",
       "      <th>z0T</th>\n",
       "      <th>z0q</th>\n",
       "      <th>stability</th>\n",
       "    </tr>\n",
       "    <tr>\n",
       "      <th>time</th>\n",
       "      <th></th>\n",
       "      <th></th>\n",
       "      <th></th>\n",
       "      <th></th>\n",
       "      <th></th>\n",
       "      <th></th>\n",
       "    </tr>\n",
       "  </thead>\n",
       "  <tbody>\n",
       "    <tr>\n",
       "      <th>2022-11-29 17:02:30</th>\n",
       "      <td>-16.815512</td>\n",
       "      <td>0.377098</td>\n",
       "      <td>0.076182</td>\n",
       "      <td>2050.978978</td>\n",
       "      <td>1.972075</td>\n",
       "      <td>unstable</td>\n",
       "    </tr>\n",
       "    <tr>\n",
       "      <th>2022-11-29 17:07:30</th>\n",
       "      <td>-4.879467</td>\n",
       "      <td>0.249449</td>\n",
       "      <td>0.019717</td>\n",
       "      <td>94.869536</td>\n",
       "      <td>1.326326</td>\n",
       "      <td>unstable</td>\n",
       "    </tr>\n",
       "    <tr>\n",
       "      <th>2022-11-29 17:12:30</th>\n",
       "      <td>-2.556141</td>\n",
       "      <td>0.265064</td>\n",
       "      <td>0.006696</td>\n",
       "      <td>12.654200</td>\n",
       "      <td>0.797514</td>\n",
       "      <td>unstable</td>\n",
       "    </tr>\n",
       "    <tr>\n",
       "      <th>2022-11-29 17:17:30</th>\n",
       "      <td>-2.655310</td>\n",
       "      <td>0.301103</td>\n",
       "      <td>0.005653</td>\n",
       "      <td>2.416952</td>\n",
       "      <td>0.940579</td>\n",
       "      <td>unstable</td>\n",
       "    </tr>\n",
       "    <tr>\n",
       "      <th>2022-11-29 17:22:30</th>\n",
       "      <td>-2.447218</td>\n",
       "      <td>0.375441</td>\n",
       "      <td>0.015371</td>\n",
       "      <td>0.969892</td>\n",
       "      <td>0.833297</td>\n",
       "      <td>unstable</td>\n",
       "    </tr>\n",
       "  </tbody>\n",
       "</table>\n",
       "</div>"
      ],
      "text/plain": [
       "                        L_3m_c  ustar_3m_c        z0          z0T       z0q  \\\n",
       "time                                                                          \n",
       "2022-11-29 17:02:30 -16.815512    0.377098  0.076182  2050.978978  1.972075   \n",
       "2022-11-29 17:07:30  -4.879467    0.249449  0.019717    94.869536  1.326326   \n",
       "2022-11-29 17:12:30  -2.556141    0.265064  0.006696    12.654200  0.797514   \n",
       "2022-11-29 17:17:30  -2.655310    0.301103  0.005653     2.416952  0.940579   \n",
       "2022-11-29 17:22:30  -2.447218    0.375441  0.015371     0.969892  0.833297   \n",
       "\n",
       "                    stability  \n",
       "time                           \n",
       "2022-11-29 17:02:30  unstable  \n",
       "2022-11-29 17:07:30  unstable  \n",
       "2022-11-29 17:12:30  unstable  \n",
       "2022-11-29 17:17:30  unstable  \n",
       "2022-11-29 17:22:30  unstable  "
      ]
     },
     "execution_count": 21,
     "metadata": {},
     "output_type": "execute_result"
    }
   ],
   "source": [
    "src = tidy_df_5Min.query(\"variable == 'L_3m_c'\").set_index('time').rename(\n",
    "    columns = {'value': 'L_3m_c'}\n",
    ")[['L_3m_c']].join(\n",
    "    tidy_df_5Min.query(\"variable == 'u*_3m_c'\").set_index('time').rename(\n",
    "        columns = {'value': 'ustar_3m_c'}\n",
    "    )[['ustar_3m_c']]\n",
    ").join(\n",
    "    z0_andreas_df.set_index('time')\n",
    ")\n",
    "# positive - stable\n",
    "# negative - unstable\n",
    "src['stability'] = src['L_3m_c'].apply(lambda L: 'stable' if L > 0 else 'unstable')\n",
    "src.head()"
   ]
  },
  {
   "cell_type": "code",
   "execution_count": 35,
   "metadata": {},
   "outputs": [],
   "source": [
    "model_src = src.groupby(pd.Grouper(freq='30Min')).mean(numeric_only=True).join(\n",
    "    coare_model_results_df[['usr']]\n",
    ")\n",
    "model_src['stability'] = model_src['L_3m_c'].apply(lambda L: 'stable' if L > 0 else 'unstable')"
   ]
  },
  {
   "cell_type": "markdown",
   "metadata": {},
   "source": [
    "# Compare measured z0 with measured $u_*$"
   ]
  },
  {
   "cell_type": "code",
   "execution_count": 6,
   "metadata": {},
   "outputs": [
    {
     "data": {
      "application/vnd.vegalite.v5+json": {
       "$schema": "https://vega.github.io/schema/vega-lite/v5.16.3.json",
       "config": {
        "axis": {
         "grid": false
        },
        "view": {
         "continuousHeight": 300,
         "continuousWidth": 300
        }
       },
       "layer": [
        {
         "data": {
          "format": {
           "type": "json"
          },
          "url": "altair-data-8e603464630a1ed96b877291aae1ba62.json"
         },
         "encoding": {
          "x": {
           "field": "ustar_3m_c",
           "title": "u* at 3 meters on tower c",
           "type": "quantitative"
          },
          "y": {
           "field": "z0",
           "scale": {
            "type": "log"
           },
           "title": "Measured z_0 (m)",
           "type": "quantitative"
          }
         },
         "mark": {
          "opacity": 0.25,
          "size": 3,
          "type": "circle"
         }
        },
        {
         "data": {
          "format": {
           "type": "json"
          },
          "url": "altair-data-8e603464630a1ed96b877291aae1ba62.json"
         },
         "encoding": {
          "x": {
           "bin": {
            "maxbins": 35
           },
           "field": "ustar_3m_c",
           "title": "u* at 3 meters on tower c",
           "type": "quantitative"
          },
          "y": {
           "field": "z0",
           "scale": {
            "type": "log"
           },
           "title": "Measured z_0 (m)",
           "type": "quantitative"
          }
         },
         "mark": {
          "color": "black",
          "extent": "min-max",
          "opacity": 0.5,
          "type": "boxplot"
         }
        }
       ]
      },
      "text/plain": [
       "<VegaLite 5 object>\n",
       "\n",
       "If you see this message, it means the renderer has not been properly enabled\n",
       "for the frontend that you are using. For more information, see\n",
       "https://altair-viz.github.io/user_guide/display_frontends.html#troubleshooting\n"
      ]
     },
     "execution_count": 6,
     "metadata": {},
     "output_type": "execute_result"
    }
   ],
   "source": [
    "(\n",
    "# Chart 1\n",
    "alt.Chart(\n",
    "    src.query(\"ustar_3m_c < 0.7\").query(\"z0 > 0.00000001\")\n",
    ").mark_circle(\n",
    "    size=3,\n",
    "    opacity=0.25\n",
    ").encode(\n",
    "    alt.X(\"ustar_3m_c\").title(\"u* at 3 meters on tower c\"),\n",
    "    alt.Y(\"z0\").title(\"Measured z_0 (m)\").scale(type='log')\n",
    ") +\n",
    "# Chart 2\n",
    "alt.Chart(\n",
    "    src.query(\"ustar_3m_c < 0.7\").query(\"z0 > 0.00000001\")\n",
    ").mark_boxplot(\n",
    "    opacity=0.5,\n",
    "    color='black', \n",
    "    extent='min-max'\n",
    ").encode(\n",
    "    alt.X(\"ustar_3m_c\").title(\"u* at 3 meters on tower c\").bin(maxbins=35),\n",
    "    alt.Y(\"z0\").title(\"Measured z_0 (m)\").scale(type='log')\n",
    ")\n",
    ").configure_axis(grid=False)"
   ]
  },
  {
   "cell_type": "code",
   "execution_count": 7,
   "metadata": {},
   "outputs": [
    {
     "data": {
      "application/vnd.vegalite.v5+json": {
       "$schema": "https://vega.github.io/schema/vega-lite/v5.16.3.json",
       "config": {
        "view": {
         "continuousHeight": 300,
         "continuousWidth": 300
        }
       },
       "data": {
        "format": {
         "type": "json"
        },
        "url": "altair-data-8e603464630a1ed96b877291aae1ba62.json"
       },
       "facet": {
        "field": "stability",
        "type": "nominal"
       },
       "spec": {
        "layer": [
         {
          "layer": [
           {
            "encoding": {
             "x": {
              "field": "ustar_3m_c",
              "title": "u* at 3 meters on tower c",
              "type": "quantitative"
             },
             "y": {
              "field": "z0",
              "scale": {
               "type": "log"
              },
              "title": "Measured z_0 (m)",
              "type": "quantitative"
             }
            },
            "mark": {
             "opacity": 0.25,
             "size": 3,
             "type": "circle"
            }
           },
           {
            "encoding": {
             "x": {
              "bin": {
               "maxbins": 35
              },
              "field": "ustar_3m_c",
              "title": "u* at 3 meters on tower c",
              "type": "quantitative"
             },
             "y": {
              "field": "z0",
              "scale": {
               "type": "log"
              },
              "title": "Measured z_0 (m)",
              "type": "quantitative"
             }
            },
            "mark": {
             "color": "black",
             "extent": "min-max",
             "opacity": 0.5,
             "type": "boxplot"
            }
           }
          ]
         }
        ]
       }
      },
      "text/plain": [
       "<VegaLite 5 object>\n",
       "\n",
       "If you see this message, it means the renderer has not been properly enabled\n",
       "for the frontend that you are using. For more information, see\n",
       "https://altair-viz.github.io/user_guide/display_frontends.html#troubleshooting\n"
      ]
     },
     "execution_count": 7,
     "metadata": {},
     "output_type": "execute_result"
    }
   ],
   "source": [
    "alt.layer(\n",
    "    alt.Chart().mark_circle(\n",
    "        size=3,\n",
    "        opacity=0.25\n",
    "    ).encode(\n",
    "        alt.X(\"ustar_3m_c\").title(\"u* at 3 meters on tower c\"),\n",
    "        alt.Y(\"z0\").title(\"Measured z_0 (m)\").scale(type='log')\n",
    "    ) +\n",
    "    # Chart 2\n",
    "    alt.Chart().mark_boxplot(\n",
    "        opacity=0.5,\n",
    "        color='black', \n",
    "        extent='min-max'\n",
    "    ).encode(\n",
    "        alt.X(\"ustar_3m_c\").title(\"u* at 3 meters on tower c\").bin(maxbins=35),\n",
    "        alt.Y(\"z0\").title(\"Measured z_0 (m)\").scale(type='log')\n",
    "    ),\n",
    "    data = src.query(\"ustar_3m_c < 0.7\").query(\"z0 > 0.00000001\")\n",
    ").facet(\"stability\")"
   ]
  },
  {
   "cell_type": "markdown",
   "metadata": {},
   "source": [
    "# Compare measured z0 with modeled $u_*$"
   ]
  },
  {
   "cell_type": "code",
   "execution_count": 38,
   "metadata": {},
   "outputs": [
    {
     "data": {
      "application/vnd.vegalite.v5+json": {
       "$schema": "https://vega.github.io/schema/vega-lite/v5.16.3.json",
       "config": {
        "axis": {
         "grid": false
        },
        "view": {
         "continuousHeight": 300,
         "continuousWidth": 300
        }
       },
       "layer": [
        {
         "data": {
          "format": {
           "type": "json"
          },
          "url": "altair-data-967e447d82a3568e31dd7f7943b5f0a7.json"
         },
         "encoding": {
          "x": {
           "field": "usr",
           "title": "u* at 3 meters on tower c",
           "type": "quantitative"
          },
          "y": {
           "field": "z0",
           "scale": {
            "type": "log"
           },
           "title": "Measured z_0 (m)",
           "type": "quantitative"
          }
         },
         "mark": {
          "opacity": 0.25,
          "size": 3,
          "type": "circle"
         }
        },
        {
         "data": {
          "format": {
           "type": "json"
          },
          "url": "altair-data-967e447d82a3568e31dd7f7943b5f0a7.json"
         },
         "encoding": {
          "x": {
           "bin": {
            "maxbins": 35
           },
           "field": "usr",
           "title": "u* at 3 meters on tower c",
           "type": "quantitative"
          },
          "y": {
           "field": "z0",
           "scale": {
            "type": "log"
           },
           "title": "Measured z_0 (m)",
           "type": "quantitative"
          }
         },
         "mark": {
          "color": "black",
          "extent": "min-max",
          "opacity": 0.5,
          "type": "boxplot"
         }
        }
       ]
      },
      "text/plain": [
       "<VegaLite 5 object>\n",
       "\n",
       "If you see this message, it means the renderer has not been properly enabled\n",
       "for the frontend that you are using. For more information, see\n",
       "https://altair-viz.github.io/user_guide/display_frontends.html#troubleshooting\n"
      ]
     },
     "execution_count": 38,
     "metadata": {},
     "output_type": "execute_result"
    }
   ],
   "source": [
    "(\n",
    "# Chart 1\n",
    "alt.Chart(\n",
    "    model_src.query(\"usr < 0.7\").query(\"z0 > 0.00000001\")\n",
    ").mark_circle(\n",
    "    size=3,\n",
    "    opacity=0.25\n",
    ").encode(\n",
    "    alt.X(\"usr\").title(\"u* at 3 meters on tower c\"),\n",
    "    alt.Y(\"z0\").title(\"Measured z_0 (m)\").scale(type='log')\n",
    ") +\n",
    "# Chart 2\n",
    "alt.Chart(\n",
    "    model_src.query(\"usr < 0.7\").query(\"z0 > 0.00000001\")\n",
    ").mark_boxplot(\n",
    "    opacity=0.5,\n",
    "    color='black', \n",
    "    extent='min-max'\n",
    ").encode(\n",
    "    alt.X(\"usr\").title(\"u* at 3 meters on tower c\").bin(maxbins=35),\n",
    "    alt.Y(\"z0\").title(\"Measured z_0 (m)\").scale(type='log')\n",
    ")\n",
    ").configure_axis(grid=False)"
   ]
  },
  {
   "cell_type": "code",
   "execution_count": 37,
   "metadata": {},
   "outputs": [
    {
     "data": {
      "application/vnd.vegalite.v5+json": {
       "$schema": "https://vega.github.io/schema/vega-lite/v5.16.3.json",
       "config": {
        "view": {
         "continuousHeight": 300,
         "continuousWidth": 300
        }
       },
       "data": {
        "format": {
         "type": "json"
        },
        "url": "altair-data-967e447d82a3568e31dd7f7943b5f0a7.json"
       },
       "facet": {
        "field": "stability",
        "type": "nominal"
       },
       "spec": {
        "layer": [
         {
          "layer": [
           {
            "encoding": {
             "x": {
              "field": "usr",
              "title": "u* at 3 meters on tower c",
              "type": "quantitative"
             },
             "y": {
              "field": "z0",
              "scale": {
               "type": "log"
              },
              "title": "Measured z_0 (m)",
              "type": "quantitative"
             }
            },
            "mark": {
             "opacity": 0.25,
             "size": 3,
             "type": "circle"
            }
           },
           {
            "encoding": {
             "x": {
              "bin": {
               "maxbins": 35
              },
              "field": "usr",
              "title": "u* at 3 meters on tower c",
              "type": "quantitative"
             },
             "y": {
              "field": "z0",
              "scale": {
               "type": "log"
              },
              "title": "Measured z_0 (m)",
              "type": "quantitative"
             }
            },
            "mark": {
             "color": "black",
             "extent": "min-max",
             "opacity": 0.5,
             "type": "boxplot"
            }
           }
          ]
         }
        ]
       }
      },
      "text/plain": [
       "<VegaLite 5 object>\n",
       "\n",
       "If you see this message, it means the renderer has not been properly enabled\n",
       "for the frontend that you are using. For more information, see\n",
       "https://altair-viz.github.io/user_guide/display_frontends.html#troubleshooting\n"
      ]
     },
     "execution_count": 37,
     "metadata": {},
     "output_type": "execute_result"
    }
   ],
   "source": [
    "alt.layer(\n",
    "    alt.Chart().mark_circle(\n",
    "        size=3,\n",
    "        opacity=0.25\n",
    "    ).encode(\n",
    "        alt.X(\"usr\").title(\"u* at 3 meters on tower c\"),\n",
    "        alt.Y(\"z0\").title(\"Measured z_0 (m)\").scale(type='log')\n",
    "    ) +\n",
    "    # Chart 2\n",
    "    alt.Chart().mark_boxplot(\n",
    "        opacity=0.5,\n",
    "        color='black', \n",
    "        extent='min-max'\n",
    "    ).encode(\n",
    "        alt.X(\"usr\").title(\"u* at 3 meters on tower c\").bin(maxbins=35),\n",
    "        alt.Y(\"z0\").title(\"Measured z_0 (m)\").scale(type='log')\n",
    "    ),\n",
    "    data = model_src.query(\"usr < 0.7\").query(\"z0 > 0.00000001\")\n",
    ").facet(\"stability\")"
   ]
  },
  {
   "cell_type": "code",
   "execution_count": 8,
   "metadata": {},
   "outputs": [
    {
     "data": {
      "application/vnd.vegalite.v5+json": {
       "$schema": "https://vega.github.io/schema/vega-lite/v5.16.3.json",
       "config": {
        "axis": {
         "grid": false
        },
        "view": {
         "continuousHeight": 300,
         "continuousWidth": 300
        }
       },
       "layer": [
        {
         "data": {
          "format": {
           "type": "json"
          },
          "url": "altair-data-126b1cd548b0f72db661f6db456534d1.json"
         },
         "encoding": {
          "x": {
           "field": "ustar_3m_c",
           "title": "u* at 3 meters on tower c",
           "type": "quantitative"
          },
          "y": {
           "field": "z0",
           "scale": {
            "type": "log"
           },
           "title": "Measured z_0 (m)",
           "type": "quantitative"
          }
         },
         "mark": {
          "opacity": 0.25,
          "size": 3,
          "type": "circle"
         }
        },
        {
         "data": {
          "format": {
           "type": "json"
          },
          "url": "altair-data-126b1cd548b0f72db661f6db456534d1.json"
         },
         "encoding": {
          "x": {
           "bin": {
            "maxbins": 35
           },
           "field": "ustar_3m_c",
           "title": "u* at 3 meters on tower c",
           "type": "quantitative"
          },
          "y": {
           "field": "z0",
           "scale": {
            "type": "log"
           },
           "title": "Measured z_0 (m)",
           "type": "quantitative"
          }
         },
         "mark": {
          "color": "black",
          "extent": "min-max",
          "opacity": 0.5,
          "type": "boxplot"
         }
        }
       ]
      },
      "text/plain": [
       "<VegaLite 5 object>\n",
       "\n",
       "If you see this message, it means the renderer has not been properly enabled\n",
       "for the frontend that you are using. For more information, see\n",
       "https://altair-viz.github.io/user_guide/display_frontends.html#troubleshooting\n"
      ]
     },
     "execution_count": 8,
     "metadata": {},
     "output_type": "execute_result"
    }
   ],
   "source": [
    "(\n",
    "# Chart 1\n",
    "alt.Chart(\n",
    "    src.query(\"stability == 'unstable'\").query(\"ustar_3m_c < 0.7\").query(\"z0 > 0.00000001\")\n",
    ").mark_circle(\n",
    "    size=3,\n",
    "    opacity=0.25\n",
    ").encode(\n",
    "    alt.X(\"ustar_3m_c\").title(\"u* at 3 meters on tower c\"),\n",
    "    alt.Y(\"z0\").title(\"Measured z_0 (m)\").scale(type='log')\n",
    ") +\n",
    "# Chart 2\n",
    "alt.Chart(\n",
    "    src.query(\"stability == 'unstable'\").query(\"ustar_3m_c < 0.7\").query(\"z0 > 0.00000001\")\n",
    ").mark_boxplot(\n",
    "    opacity=0.5,\n",
    "    color='black', \n",
    "    extent='min-max'\n",
    ").encode(\n",
    "    alt.X(\"ustar_3m_c\").title(\"u* at 3 meters on tower c\").bin(maxbins=35),\n",
    "    alt.Y(\"z0\").title(\"Measured z_0 (m)\").scale(type='log')\n",
    ")\n",
    ").configure_axis(grid=False)"
   ]
  },
  {
   "cell_type": "code",
   "execution_count": 9,
   "metadata": {},
   "outputs": [
    {
     "name": "stderr",
     "output_type": "stream",
     "text": [
      "/var/folders/x_/2h52bcjx2px15bhmdpdd748h0000gn/T/ipykernel_28530/620765223.py:4: FutureWarning: The default of observed=False is deprecated and will be changed to True in a future version of pandas. Pass observed=False to retain current behavior or observed=True to adopt the future default and silence this warning.\n",
      "  gmeans = pd.DataFrame(src.groupby('ustar_3m_c bin')['z0'].apply(lambda x: stats.gmean(x))).reset_index()\n",
      "/var/folders/x_/2h52bcjx2px15bhmdpdd748h0000gn/T/ipykernel_28530/620765223.py:6: FutureWarning: The default of observed=False is deprecated and will be changed to True in a future version of pandas. Pass observed=False to retain current behavior or observed=True to adopt the future default and silence this warning.\n",
      "  gmeans_stable = pd.DataFrame(src.query(\"L_3m_c > 0\").groupby('ustar_3m_c bin')['z0'].apply(lambda x: stats.gmean(x))).reset_index()\n",
      "/var/folders/x_/2h52bcjx2px15bhmdpdd748h0000gn/T/ipykernel_28530/620765223.py:7: FutureWarning: The default of observed=False is deprecated and will be changed to True in a future version of pandas. Pass observed=False to retain current behavior or observed=True to adopt the future default and silence this warning.\n",
      "  gmeans_unstable = pd.DataFrame(src.query(\"L_3m_c < 0\").groupby('ustar_3m_c bin')['z0'].apply(lambda x: stats.gmean(x))).reset_index()\n"
     ]
    }
   ],
   "source": [
    "src['ustar_3m_c bin'] = pd.cut(src['ustar_3m_c'], np.arange(0.0, 0.7, 0.02))\n",
    "src['ustar_3m_c bin'] = src['ustar_3m_c bin'].apply(lambda x: x.left+0.01)\n",
    "import scipy.stats as stats\n",
    "gmeans = pd.DataFrame(src.groupby('ustar_3m_c bin')['z0'].apply(lambda x: stats.gmean(x))).reset_index()\n",
    "\n",
    "gmeans_stable = pd.DataFrame(src.query(\"L_3m_c > 0\").groupby('ustar_3m_c bin')['z0'].apply(lambda x: stats.gmean(x))).reset_index()\n",
    "gmeans_unstable = pd.DataFrame(src.query(\"L_3m_c < 0\").groupby('ustar_3m_c bin')['z0'].apply(lambda x: stats.gmean(x))).reset_index()"
   ]
  },
  {
   "cell_type": "code",
   "execution_count": 27,
   "metadata": {},
   "outputs": [
    {
     "data": {
      "text/html": [
       "<div>\n",
       "<style scoped>\n",
       "    .dataframe tbody tr th:only-of-type {\n",
       "        vertical-align: middle;\n",
       "    }\n",
       "\n",
       "    .dataframe tbody tr th {\n",
       "        vertical-align: top;\n",
       "    }\n",
       "\n",
       "    .dataframe thead th {\n",
       "        text-align: right;\n",
       "    }\n",
       "</style>\n",
       "<table border=\"1\" class=\"dataframe\">\n",
       "  <thead>\n",
       "    <tr style=\"text-align: right;\">\n",
       "      <th></th>\n",
       "      <th>L_3m_c</th>\n",
       "      <th>ustar_3m_c</th>\n",
       "      <th>z0</th>\n",
       "      <th>z0T</th>\n",
       "      <th>z0q</th>\n",
       "      <th>stability</th>\n",
       "    </tr>\n",
       "    <tr>\n",
       "      <th>time</th>\n",
       "      <th></th>\n",
       "      <th></th>\n",
       "      <th></th>\n",
       "      <th></th>\n",
       "      <th></th>\n",
       "      <th></th>\n",
       "    </tr>\n",
       "  </thead>\n",
       "  <tbody>\n",
       "    <tr>\n",
       "      <th>2022-11-29 17:02:30</th>\n",
       "      <td>-16.815512</td>\n",
       "      <td>0.377098</td>\n",
       "      <td>0.076182</td>\n",
       "      <td>2.050979e+03</td>\n",
       "      <td>1.972075</td>\n",
       "      <td>unstable</td>\n",
       "    </tr>\n",
       "    <tr>\n",
       "      <th>2022-11-29 17:07:30</th>\n",
       "      <td>-4.879467</td>\n",
       "      <td>0.249449</td>\n",
       "      <td>0.019717</td>\n",
       "      <td>9.486954e+01</td>\n",
       "      <td>1.326326</td>\n",
       "      <td>unstable</td>\n",
       "    </tr>\n",
       "    <tr>\n",
       "      <th>2022-11-29 17:12:30</th>\n",
       "      <td>-2.556141</td>\n",
       "      <td>0.265064</td>\n",
       "      <td>0.006696</td>\n",
       "      <td>1.265420e+01</td>\n",
       "      <td>0.797514</td>\n",
       "      <td>unstable</td>\n",
       "    </tr>\n",
       "    <tr>\n",
       "      <th>2022-11-29 17:17:30</th>\n",
       "      <td>-2.655310</td>\n",
       "      <td>0.301103</td>\n",
       "      <td>0.005653</td>\n",
       "      <td>2.416952e+00</td>\n",
       "      <td>0.940579</td>\n",
       "      <td>unstable</td>\n",
       "    </tr>\n",
       "    <tr>\n",
       "      <th>2022-11-29 17:22:30</th>\n",
       "      <td>-2.447218</td>\n",
       "      <td>0.375441</td>\n",
       "      <td>0.015371</td>\n",
       "      <td>9.698918e-01</td>\n",
       "      <td>0.833297</td>\n",
       "      <td>unstable</td>\n",
       "    </tr>\n",
       "    <tr>\n",
       "      <th>...</th>\n",
       "      <td>...</td>\n",
       "      <td>...</td>\n",
       "      <td>...</td>\n",
       "      <td>...</td>\n",
       "      <td>...</td>\n",
       "      <td>...</td>\n",
       "    </tr>\n",
       "    <tr>\n",
       "      <th>2023-05-09 17:37:30</th>\n",
       "      <td>0.142787</td>\n",
       "      <td>0.143017</td>\n",
       "      <td>NaN</td>\n",
       "      <td>4.785412e-15</td>\n",
       "      <td>0.000002</td>\n",
       "      <td>stable</td>\n",
       "    </tr>\n",
       "    <tr>\n",
       "      <th>2023-05-09 17:42:30</th>\n",
       "      <td>-2.488529</td>\n",
       "      <td>0.262250</td>\n",
       "      <td>0.010463</td>\n",
       "      <td>3.976248e+45</td>\n",
       "      <td>1.146755</td>\n",
       "      <td>unstable</td>\n",
       "    </tr>\n",
       "    <tr>\n",
       "      <th>2023-05-09 17:47:30</th>\n",
       "      <td>0.167794</td>\n",
       "      <td>0.186958</td>\n",
       "      <td>NaN</td>\n",
       "      <td>2.574417e-12</td>\n",
       "      <td>0.000007</td>\n",
       "      <td>stable</td>\n",
       "    </tr>\n",
       "    <tr>\n",
       "      <th>2023-05-09 17:52:30</th>\n",
       "      <td>0.366556</td>\n",
       "      <td>0.117918</td>\n",
       "      <td>NaN</td>\n",
       "      <td>7.509423e-35</td>\n",
       "      <td>0.000179</td>\n",
       "      <td>stable</td>\n",
       "    </tr>\n",
       "    <tr>\n",
       "      <th>2023-05-09 17:57:30</th>\n",
       "      <td>0.150389</td>\n",
       "      <td>0.141469</td>\n",
       "      <td>NaN</td>\n",
       "      <td>9.783696e-16</td>\n",
       "      <td>0.000003</td>\n",
       "      <td>stable</td>\n",
       "    </tr>\n",
       "  </tbody>\n",
       "</table>\n",
       "<p>46368 rows × 6 columns</p>\n",
       "</div>"
      ],
      "text/plain": [
       "                        L_3m_c  ustar_3m_c        z0           z0T       z0q  \\\n",
       "time                                                                           \n",
       "2022-11-29 17:02:30 -16.815512    0.377098  0.076182  2.050979e+03  1.972075   \n",
       "2022-11-29 17:07:30  -4.879467    0.249449  0.019717  9.486954e+01  1.326326   \n",
       "2022-11-29 17:12:30  -2.556141    0.265064  0.006696  1.265420e+01  0.797514   \n",
       "2022-11-29 17:17:30  -2.655310    0.301103  0.005653  2.416952e+00  0.940579   \n",
       "2022-11-29 17:22:30  -2.447218    0.375441  0.015371  9.698918e-01  0.833297   \n",
       "...                        ...         ...       ...           ...       ...   \n",
       "2023-05-09 17:37:30   0.142787    0.143017       NaN  4.785412e-15  0.000002   \n",
       "2023-05-09 17:42:30  -2.488529    0.262250  0.010463  3.976248e+45  1.146755   \n",
       "2023-05-09 17:47:30   0.167794    0.186958       NaN  2.574417e-12  0.000007   \n",
       "2023-05-09 17:52:30   0.366556    0.117918       NaN  7.509423e-35  0.000179   \n",
       "2023-05-09 17:57:30   0.150389    0.141469       NaN  9.783696e-16  0.000003   \n",
       "\n",
       "                    stability  \n",
       "time                           \n",
       "2022-11-29 17:02:30  unstable  \n",
       "2022-11-29 17:07:30  unstable  \n",
       "2022-11-29 17:12:30  unstable  \n",
       "2022-11-29 17:17:30  unstable  \n",
       "2022-11-29 17:22:30  unstable  \n",
       "...                       ...  \n",
       "2023-05-09 17:37:30    stable  \n",
       "2023-05-09 17:42:30  unstable  \n",
       "2023-05-09 17:47:30    stable  \n",
       "2023-05-09 17:52:30    stable  \n",
       "2023-05-09 17:57:30    stable  \n",
       "\n",
       "[46368 rows x 6 columns]"
      ]
     },
     "execution_count": 27,
     "metadata": {},
     "output_type": "execute_result"
    }
   ],
   "source": [
    "src"
   ]
  },
  {
   "cell_type": "code",
   "execution_count": 24,
   "metadata": {},
   "outputs": [
    {
     "data": {
      "application/vnd.vegalite.v5+json": {
       "$schema": "https://vega.github.io/schema/vega-lite/v5.16.3.json",
       "config": {
        "view": {
         "continuousHeight": 300,
         "continuousWidth": 300
        }
       },
       "hconcat": [
        {
         "layer": [
          {
           "data": {
            "format": {
             "type": "json"
            },
            "url": "altair-data-42e6a2db0ba4cda89194aae6e705d19e.json"
           },
           "encoding": {
            "x": {
             "field": "ustar_3m_c",
             "title": "u* at 3 meters on tower c",
             "type": "quantitative"
            },
            "y": {
             "field": "z0",
             "scale": {
              "type": "log"
             },
             "title": "Measured z_0 (m)",
             "type": "quantitative"
            }
           },
           "mark": {
            "opacity": 0.25,
            "size": 3,
            "type": "circle"
           }
          },
          {
           "data": {
            "format": {
             "type": "json"
            },
            "url": "altair-data-7f55258e2ff75de9a32fa629742b5da0.json"
           },
           "encoding": {
            "x": {
             "field": "ustar_3m_c bin",
             "type": "quantitative"
            },
            "y": {
             "field": "z0",
             "scale": {
              "type": "log"
             },
             "type": "quantitative"
            }
           },
           "mark": {
            "type": "circle"
           }
          }
         ],
         "title": "Stable"
        },
        {
         "layer": [
          {
           "data": {
            "format": {
             "type": "json"
            },
            "url": "altair-data-317c6b267baa82531feda6759ed48d6d.json"
           },
           "encoding": {
            "x": {
             "field": "ustar_3m_c",
             "title": "u* at 3 meters on tower c",
             "type": "quantitative"
            },
            "y": {
             "field": "z0",
             "scale": {
              "type": "log"
             },
             "title": "Measured z_0 (m)",
             "type": "quantitative"
            }
           },
           "mark": {
            "opacity": 0.25,
            "size": 3,
            "type": "circle"
           }
          },
          {
           "data": {
            "format": {
             "type": "json"
            },
            "url": "altair-data-7f55258e2ff75de9a32fa629742b5da0.json"
           },
           "encoding": {
            "x": {
             "field": "ustar_3m_c bin",
             "type": "quantitative"
            },
            "y": {
             "field": "z0",
             "scale": {
              "type": "log"
             },
             "type": "quantitative"
            }
           },
           "mark": {
            "type": "circle"
           }
          }
         ],
         "title": "Unstable"
        }
       ],
       "resolve": {
        "scale": {
         "x": "shared",
         "y": "shared"
        }
       }
      },
      "text/plain": [
       "<VegaLite 5 object>\n",
       "\n",
       "If you see this message, it means the renderer has not been properly enabled\n",
       "for the frontend that you are using. For more information, see\n",
       "https://altair-viz.github.io/user_guide/display_frontends.html#troubleshooting\n"
      ]
     },
     "execution_count": 24,
     "metadata": {},
     "output_type": "execute_result"
    }
   ],
   "source": [
    "(\n",
    "    (\n",
    "        alt.Chart(\n",
    "            src.query(\"L_3m_c > 0\").query(\"ustar_3m_c < 0.7\").query(\"z0 > 0.00000001\")\n",
    "        ).mark_circle(\n",
    "            size=3,\n",
    "            opacity=0.25\n",
    "        ).encode(\n",
    "            alt.X(\"ustar_3m_c\").title(\"u* at 3 meters on tower c\"),\n",
    "            alt.Y(\"z0\").title(\"Measured z_0 (m)\").scale(type='log')\n",
    "        ) +\\\n",
    "        alt.Chart(gmeans_stable).mark_circle().encode(\n",
    "            alt.X(\"ustar_3m_c bin:Q\"),\n",
    "            alt.Y(\"z0\").scale(type='log')\n",
    "        )\n",
    "    ).properties(title='Stable') | (\n",
    "        alt.Chart(\n",
    "            src.query(\"L_3m_c < 0\").query(\"ustar_3m_c < 0.7\").query(\"z0 > 0.00000001\")\n",
    "        ).mark_circle(\n",
    "            size=3,\n",
    "            opacity=0.25\n",
    "        ).encode(\n",
    "            alt.X(\"ustar_3m_c\").title(\"u* at 3 meters on tower c\"),\n",
    "            alt.Y(\"z0\").title(\"Measured z_0 (m)\").scale(type='log')\n",
    "        ) +\\\n",
    "        alt.Chart(gmeans_unstable).mark_circle().encode(\n",
    "            alt.X(\"ustar_3m_c bin:Q\"),\n",
    "            alt.Y(\"z0\").scale(type='log')\n",
    "        )\n",
    "    ).properties(title=\"Unstable\")\n",
    "\n",
    ").resolve_scale(y='shared', x='shared')"
   ]
  },
  {
   "cell_type": "code",
   "execution_count": null,
   "metadata": {},
   "outputs": [],
   "source": []
  }
 ],
 "metadata": {
  "kernelspec": {
   "display_name": "sublimationofsnow",
   "language": "python",
   "name": "python3"
  },
  "language_info": {
   "codemirror_mode": {
    "name": "ipython",
    "version": 3
   },
   "file_extension": ".py",
   "mimetype": "text/x-python",
   "name": "python",
   "nbconvert_exporter": "python",
   "pygments_lexer": "ipython3",
   "version": "3.12.5"
  }
 },
 "nbformat": 4,
 "nbformat_minor": 2
}
