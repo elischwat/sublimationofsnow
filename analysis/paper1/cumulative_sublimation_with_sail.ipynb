{
 "cells": [
  {
   "cell_type": "code",
   "execution_count": null,
   "metadata": {},
   "outputs": [],
   "source": [
    "import pandas as pd\n",
    "import act\n",
    "import glob\n",
    "import xarray as xr\n",
    "import numpy as np\n",
    "\n",
    "import altair as alt\n",
    "alt.data_transformers.enable('json')\n",
    "\n",
    "from sublimpy import tidy\n",
    "import datetime as dt"
   ]
  },
  {
   "attachments": {},
   "cell_type": "markdown",
   "metadata": {},
   "source": [
    "# User inputs"
   ]
  },
  {
   "cell_type": "code",
   "execution_count": null,
   "metadata": {},
   "outputs": [],
   "source": [
    "start_date = '20221130'\n",
    "end_date = '20230509'\n",
    "\n",
    "start_date_lastseason = '20211101'\n",
    "end_date_lastseason = '20220601'\n",
    "\n",
    "tidy_dataset_fn = f\"../sos/tidy_df_30Min_{start_date}_{end_date}_noplanar_fit.parquet\"\n",
    "tidy_dataset_5min_fn = f\"../sos/tidy_df_{start_date}_{end_date}_noplanar_fit.parquet\"\n",
    "tidy_daily_dataset_output_fn = f\"tidy_df_daily_{start_date}_{end_date}_noplanar_fit.parquet\""
   ]
  },
  {
   "attachments": {},
   "cell_type": "markdown",
   "metadata": {},
   "source": [
    "# Load data"
   ]
  },
  {
   "attachments": {},
   "cell_type": "markdown",
   "metadata": {},
   "source": [
    "## SoS\n",
    "\n",
    "This dataset is created by the `create_turbulence_dataset.ipynb` notebook"
   ]
  },
  {
   "cell_type": "code",
   "execution_count": null,
   "metadata": {},
   "outputs": [],
   "source": [
    "try:\n",
    "    tidy_df_30Min = pd.read_parquet(\n",
    "        tidy_dataset_fn\n",
    "    )\n",
    "except FileNotFoundError:\n",
    "    print(\"No file such file exists for these dates.\")\n",
    "tidy_df_30Min['time'] = pd.to_datetime(tidy_df_30Min['time'])\n",
    "\n",
    "try:\n",
    "    tidy_df_5Min = pd.read_parquet(\n",
    "        tidy_dataset_5min_fn\n",
    "    )\n",
    "except FileNotFoundError:\n",
    "    print(\"No file such file exists for these dates.\")\n",
    "tidy_df_5Min['time'] = pd.to_datetime(tidy_df_5Min['time'])"
   ]
  },
  {
   "cell_type": "code",
   "execution_count": null,
   "metadata": {},
   "outputs": [],
   "source": [
    "%matplotlib inline\n",
    "\n",
    "import pandas as pd\n",
    "import numpy as np\n",
    "from matplotlib import pyplot as plt\n",
    "import matplotlib.cm as cm\n",
    "from math import pi\n",
    "# Uncomment the following line in case you are missing those packages\n",
    "# !pip install windrose openpyxl\n",
    "from windrose import WindroseAxes\n",
    "\n",
    "src = tidy_df_30Min[\n",
    "    tidy_df_30Min.variable.isin(['spd_3m_c', 'dir_3m_c'])\n",
    "].pivot_table(values = 'value', index='time', columns=['measurement']).reset_index()\n",
    "\n",
    "\n",
    "ax = WindroseAxes.from_ax()\n",
    "ax.bar(src['wind direction'], src['wind speed'], normed=True, opening=0.8, edgecolor='white')\n",
    "ax.set_legend()\n",
    "plt.title(\"3m wind rose\")\n",
    "plt.savefig(\"3m_wind_rose.png\")\n",
    "\n",
    "src = tidy_df_30Min[\n",
    "    tidy_df_30Min.variable.isin(['spd_10m_c', 'dir_10m_c'])\n",
    "].pivot_table(values = 'value', index='time', columns=['measurement']).reset_index()\n",
    "\n",
    "\n",
    "ax = WindroseAxes.from_ax()\n",
    "ax.bar(src['wind direction'], src['wind speed'], normed=True, opening=0.8, edgecolor='white')\n",
    "ax.set_legend()\n",
    "plt.title(\"10m wind rose\")\n",
    "plt.savefig(\"10m_wind_rose.png\")\n",
    "\n",
    "src = tidy_df_30Min[\n",
    "    tidy_df_30Min.variable.isin(['spd_20m_c', 'dir_20m_c'])\n",
    "].pivot_table(values = 'value', index='time', columns=['measurement']).reset_index()\n",
    "\n",
    "\n",
    "ax = WindroseAxes.from_ax()\n",
    "ax.bar(src['wind direction'], src['wind speed'], normed=True, opening=0.8, edgecolor='white')\n",
    "ax.set_legend()\n",
    "plt.title(\"20m wind rose\")\n",
    "plt.savefig(\"20m_wind_rose.png\")"
   ]
  },
  {
   "cell_type": "code",
   "execution_count": null,
   "metadata": {},
   "outputs": [],
   "source": [
    "src = tidy_df_30Min[tidy_df_30Min.variable.isin(['spd_3m_c', 'spd_5m_c', 'spd_10m_c', 'spd_20m_c', 'SF_avg_1m_ue', 'SF_avg_2m_ue'])]"
   ]
  },
  {
   "cell_type": "code",
   "execution_count": null,
   "metadata": {},
   "outputs": [],
   "source": [
    "src = src[src.time < \"2022-12-24\"]\n",
    "src = src[src.time > \"2022-12-20\"]"
   ]
  },
  {
   "cell_type": "code",
   "execution_count": null,
   "metadata": {},
   "outputs": [],
   "source": [
    "xr.open_dataset(\"/data2/elilouis/sublimationofsnow/sosnoqc/isfs_20221030.nc\")['SF_avg_1m_ue']"
   ]
  },
  {
   "cell_type": "code",
   "execution_count": null,
   "metadata": {},
   "outputs": [],
   "source": [
    "src.groupby(\"variable\")['value'].max()"
   ]
  },
  {
   "cell_type": "code",
   "execution_count": null,
   "metadata": {},
   "outputs": [],
   "source": [
    "(alt.Chart(src).transform_filter(\n",
    "    alt.datum.measurement == 'wind speed'\n",
    ").mark_line().encode(\n",
    "    alt.X(\"time:T\"),\n",
    "    alt.Y(\"value:Q\", title = 'm/s'),\n",
    "    alt.Color(\"variable:N\"),\n",
    "    alt.Row(\"measurement:N\")\n",
    ").properties(width=500, height = 150) & alt.Chart(src).transform_filter(\n",
    "    alt.datum.measurement == 'snow flux'\n",
    ").mark_line().encode(\n",
    "    alt.X(\"time:T\"),\n",
    "    alt.Y(\"value:Q\", title = 'g/m^2/s'),\n",
    "    alt.Color(\"variable:N\"),\n",
    "    alt.Row(\"measurement:N\")\n",
    ").properties(width=500, height = 150)).resolve_scale(color='independent')"
   ]
  },
  {
   "attachments": {},
   "cell_type": "markdown",
   "metadata": {},
   "source": [
    "## SAIL ECOR"
   ]
  },
  {
   "cell_type": "code",
   "execution_count": null,
   "metadata": {},
   "outputs": [],
   "source": [
    "username = os.getenv(\"ARM_USERNAME\")\n",
    "token = os.getenv(\"ARM_TOKEN\")\n",
    "ecor_gothic = 'guc30ecorM1.b1'\n",
    "ecor_kp = 'guc30ecorS3.b1'\n",
    "output_dir = '/data2/elilouis/sublimationofsnow/'\n",
    "\n",
    "kp_sail_ecor_download_dir = os.path.join(output_dir, ecor_kp)\n",
    "gothic_sail_ecor_download_dir = os.path.join(output_dir, ecor_gothic)"
   ]
  },
  {
   "cell_type": "code",
   "execution_count": null,
   "metadata": {},
   "outputs": [],
   "source": [
    "# act.discovery.download_data(\n",
    "#     username,    token,    ecor_gothic,    \n",
    "#     start_date_lastseason,\n",
    "#     end_date,\n",
    "#     output = os.path.join(output_dir, ecor_gothic)\n",
    "# )\n",
    "# act.discovery.download_data(\n",
    "#     username,    token,    ecor_kp,    \n",
    "#     start_date_lastseason,\n",
    "#     end_date,\n",
    "#     output = os.path.join(output_dir, ecor_kp)\n",
    "# )"
   ]
  },
  {
   "cell_type": "code",
   "execution_count": 29,
   "metadata": {},
   "outputs": [],
   "source": [
    "ecor_gothic_ds = act.io.armfiles.read_netcdf(\n",
    "    glob.glob(os.path.join(output_dir, ecor_gothic, '*.cdf'))\n",
    ")\n",
    "ecor_gothic_ds_thisseason = ecor_gothic_ds.sel(time = slice(start_date, end_date))\n",
    "ecor_gothic_ds_lastseason = ecor_gothic_ds.sel(time = slice(start_date_lastseason, end_date_lastseason))\n",
    "del ecor_gothic_ds"
   ]
  },
  {
   "cell_type": "code",
   "execution_count": null,
   "metadata": {},
   "outputs": [],
   "source": [
    "ecor_gothic_ds_thisseason"
   ]
  },
  {
   "cell_type": "code",
   "execution_count": null,
   "metadata": {},
   "outputs": [],
   "source": [
    "ecor_gothic_ds_lastseason"
   ]
  },
  {
   "cell_type": "code",
   "execution_count": null,
   "metadata": {},
   "outputs": [],
   "source": [
    "ecor_kps_ds = act.io.armfiles.read_netcdf(\n",
    "    glob.glob(os.path.join(output_dir, ecor_kp, '*.cdf'))\n",
    ")\n",
    "ecor_kps_ds_thisseason = ecor_kps_ds.sel(time = slice(start_date, end_date))\n",
    "ecor_kps_ds_lastseason = ecor_kps_ds.sel(time = slice(start_date_lastseason, end_date_lastseason))\n",
    "del ecor_kps_ds"
   ]
  },
  {
   "attachments": {},
   "cell_type": "markdown",
   "metadata": {},
   "source": [
    "# Cache SAIL data"
   ]
  },
  {
   "cell_type": "code",
   "execution_count": null,
   "metadata": {},
   "outputs": [],
   "source": [
    "# ecor_gothic_ds_thisseason.to_netcdf('cumulative_sublimation-ecor_gothic_ds_thisseason.cdf')\n",
    "# ecor_kps_ds_thisseason.to_netcdf('cumulative_sublimation-ecor_kps_ds_thisseason.cdf')\n",
    "# ecor_gothic_ds_lastseason.to_netcdf('cumulative_sublimation-ecor_gothic_ds_lastseason.cdf')\n",
    "# ecor_kps_ds_lastseason.to_netcdf('cumulative_sublimation-ecor_kps_ds_lastseason.cdf')"
   ]
  },
  {
   "cell_type": "code",
   "execution_count": null,
   "metadata": {},
   "outputs": [],
   "source": [
    "# ecor_gothic_ds_thisseason = xr.open_dataset('cumulative_sublimation-ecor_gothic_ds_thisseason.cdf')\n",
    "# ecor_kps_ds_thisseason = xr.open_dataset('cumulative_sublimation-ecor_kps_ds_thisseason.cdf')\n",
    "# ecor_gothic_ds_lastseason = xr.open_dataset('cumulative_sublimation-ecor_gothic_ds_lastseason.cdf')\n",
    "# ecor_kps_ds_lastseason = xr.open_dataset('cumulative_sublimation-ecor_kps_ds_lastseason.cdf')"
   ]
  },
  {
   "attachments": {},
   "cell_type": "markdown",
   "metadata": {},
   "source": [
    "# Examine Eddy Covariance QC flags at ECOR towers"
   ]
  },
  {
   "cell_type": "code",
   "execution_count": null,
   "metadata": {},
   "outputs": [],
   "source": [
    "\n",
    "# import matplotlib.pyplot as plt\n",
    "# fig, axes = plt.subplots(2,1, figsize=(15,2*5/3))\n",
    "# ecor_kps_ds_lastseason['lv_e'].plot(ax = axes[0])\n",
    "# ecor_kps_ds_lastseason['qc_lv_e'].plot.scatter(ax = axes[1], color='k', s=1, marker='x')\n",
    "# for ax in axes:\n",
    "#     ax.set_ylabel(ax.get_ylabel(), rotation=0)\n",
    "#     ax.yaxis.set_label_coords(-0.1, 0.5)\n",
    "# plt.show()\n",
    "\n",
    "# fig, axes = plt.subplots(2,1, figsize=(15,2*5/3))\n",
    "# ecor_kps_ds_thisseason['lv_e'].plot(ax = axes[0])\n",
    "# ecor_kps_ds_thisseason['qc_lv_e'].plot.scatter(ax = axes[1], color='k', s=1, marker='x')\n",
    "# for ax in axes:\n",
    "#     ax.set_ylabel(ax.get_ylabel(), rotation=0)\n",
    "#     ax.yaxis.set_label_coords(-0.1, 0.5)\n",
    "# plt.show()"
   ]
  },
  {
   "attachments": {},
   "cell_type": "markdown",
   "metadata": {},
   "source": [
    "# Remove LH flux outliers"
   ]
  },
  {
   "cell_type": "code",
   "execution_count": null,
   "metadata": {},
   "outputs": [],
   "source": [
    "def get_outlier_threshold(values, iqr_multiple = 100):\n",
    "    q1, q3 = np.percentile(sorted(values), [25, 75])\n",
    "\n",
    "    # compute IRQ\n",
    "    iqr = q3 - q1\n",
    "\n",
    "    # find lower and upper bounds\n",
    "    lower_bound = q1 - (iqr_multiple * iqr)\n",
    "    upper_bound = q3 + (iqr_multiple * iqr)\n",
    "    return lower_bound, upper_bound"
   ]
  },
  {
   "attachments": {},
   "cell_type": "markdown",
   "metadata": {},
   "source": [
    "## SoS"
   ]
  },
  {
   "cell_type": "code",
   "execution_count": null,
   "metadata": {},
   "outputs": [],
   "source": [
    "for variable in [\n",
    "    'w_h2o__3m_uw',\n",
    "    'w_h2o__3m_ue',\n",
    "    'w_h2o__3m_c',\n",
    "    'w_h2o__3m_d'\n",
    "]:\n",
    "    filter = tidy_df_30Min.variable == variable\n",
    "    lower_bound, upper_bound = get_outlier_threshold(\n",
    "        tidy_df_30Min.loc[filter, 'value'].dropna().values\n",
    "    )\n",
    "    print((lower_bound, upper_bound))\n",
    "    tidy_df_30Min.loc[filter, 'value'] = tidy_df_30Min.loc[filter, 'value'].where(\n",
    "            (tidy_df_30Min.loc[filter, 'value'] > lower_bound) & \n",
    "            (tidy_df_30Min.loc[filter, 'value'] < upper_bound)\n",
    "        )\n",
    "    \n",
    "    filter = tidy_df_5Min.variable == variable\n",
    "    lower_bound, upper_bound = get_outlier_threshold(\n",
    "        tidy_df_5Min.loc[filter, 'value'].dropna().values\n",
    "    )\n",
    "    print((lower_bound, upper_bound))\n",
    "    tidy_df_5Min.loc[filter, 'value'] = tidy_df_5Min.loc[filter, 'value'].where(\n",
    "            (tidy_df_5Min.loc[filter, 'value'] > lower_bound) & \n",
    "            (tidy_df_5Min.loc[filter, 'value'] < upper_bound)\n",
    "        )"
   ]
  },
  {
   "attachments": {},
   "cell_type": "markdown",
   "metadata": {},
   "source": [
    "## ECOR"
   ]
  },
  {
   "cell_type": "code",
   "execution_count": null,
   "metadata": {},
   "outputs": [],
   "source": [
    "lower_bound, upper_bound = get_outlier_threshold(\n",
    "    ecor_kps_ds_thisseason['cvar_wq'].dropna(dim='time').values\n",
    ")\n",
    "print((lower_bound, upper_bound))\n",
    "ecor_kps_ds_thisseason['cvar_wq'] = ecor_kps_ds_thisseason['cvar_wq'].where(\n",
    "        (ecor_kps_ds_thisseason['cvar_wq'] > lower_bound) & \n",
    "        (ecor_kps_ds_thisseason['cvar_wq'] < upper_bound)\n",
    "    )\n",
    "\n",
    "lower_bound, upper_bound = get_outlier_threshold(\n",
    "    ecor_gothic_ds_thisseason['cvar_wq'].dropna(dim='time').values\n",
    ")\n",
    "print((lower_bound, upper_bound))\n",
    "ecor_gothic_ds_thisseason['cvar_wq'] = ecor_gothic_ds_thisseason['cvar_wq'].where(\n",
    "        (ecor_gothic_ds_thisseason['cvar_wq'] > lower_bound) & \n",
    "        (ecor_gothic_ds_thisseason['cvar_wq'] < upper_bound)\n",
    "    )\n",
    "\n",
    "\n",
    "lower_bound, upper_bound = get_outlier_threshold(\n",
    "    ecor_kps_ds_lastseason['cvar_wq'].dropna(dim='time').values\n",
    ")\n",
    "print((lower_bound, upper_bound))\n",
    "ecor_kps_ds_lastseason['cvar_wq'] = ecor_kps_ds_lastseason['cvar_wq'].where(\n",
    "        (ecor_kps_ds_lastseason['cvar_wq'] > lower_bound) & \n",
    "        (ecor_kps_ds_lastseason['cvar_wq'] < upper_bound)\n",
    "    )\n",
    "\n",
    "lower_bound, upper_bound = get_outlier_threshold(\n",
    "    ecor_gothic_ds_lastseason['cvar_wq'].dropna(dim='time').values\n",
    ")\n",
    "print((lower_bound, upper_bound))\n",
    "ecor_gothic_ds_lastseason['cvar_wq'] = ecor_gothic_ds_lastseason['cvar_wq'].where(\n",
    "        (ecor_gothic_ds_lastseason['cvar_wq'] > lower_bound) & \n",
    "        (ecor_gothic_ds_lastseason['cvar_wq'] < upper_bound)\n",
    "    )"
   ]
  },
  {
   "attachments": {},
   "cell_type": "markdown",
   "metadata": {},
   "source": [
    "# Calculate cumulative sublimation with daily mean latent heat fluxes"
   ]
  },
  {
   "attachments": {},
   "cell_type": "markdown",
   "metadata": {},
   "source": [
    "## SoS"
   ]
  },
  {
   "attachments": {},
   "cell_type": "markdown",
   "metadata": {},
   "source": [
    "### Create daily dataset"
   ]
  },
  {
   "cell_type": "code",
   "execution_count": null,
   "metadata": {},
   "outputs": [],
   "source": [
    "tidy_df_30Min['date'] = tidy_df_30Min['time'].dt.date\n",
    "\n",
    "tidy_df_daily = tidy_df_30Min.drop(columns=['time']).groupby(\n",
    "    ['date', 'tower', 'height', 'measurement', 'variable']\n",
    ").mean().reset_index()\n",
    "\n",
    "tidy_df_daily['time'] = pd.to_datetime(tidy_df_daily['date'])\n",
    "\n",
    "tidy_df_daily = tidy_df_daily.drop(columns=['date'])\n",
    "\n",
    "# remove days with only partial data\n",
    "tidy_df_daily = tidy_df_daily[\n",
    "    tidy_df_daily.time > tidy_df_daily.time.min()\n",
    "][\n",
    "    tidy_df_daily.time < tidy_df_daily.time.max()\n",
    "]"
   ]
  },
  {
   "attachments": {},
   "cell_type": "markdown",
   "metadata": {},
   "source": [
    "### Calculate cumulative sublimation"
   ]
  },
  {
   "cell_type": "code",
   "execution_count": null,
   "metadata": {},
   "outputs": [],
   "source": [
    "for variable in [\n",
    "    'w_h2o__3m_uw',\n",
    "    'w_h2o__3m_ue',\n",
    "    'w_h2o__3m_c',\n",
    "    'w_h2o__3m_d'\n",
    "]:\n",
    "    tidy_df_daily = tidy.tidy_df_add_variable(\n",
    "        tidy_df_daily,\n",
    "        np.cumsum(tidy_df_daily.query(f\"variable == '{variable}'\")['value']*60*60*24).values*1000/(1e6),\n",
    "        \"Cumulative sublimation (mm)\",\n",
    "        \"Cumulative sublimation (mm)\",\n",
    "        int(variable.split('_')[-2].split('m')[0]),\n",
    "        variable.split('_')[-1]\n",
    "    )"
   ]
  },
  {
   "cell_type": "code",
   "execution_count": null,
   "metadata": {},
   "outputs": [],
   "source": [
    "for variable in [\n",
    "    'w_h2o__3m_uw',\n",
    "    'w_h2o__3m_ue',\n",
    "    'w_h2o__3m_c',\n",
    "    'w_h2o__3m_d'\n",
    "]:\n",
    "    tidy_df_30Min = tidy.tidy_df_add_variable(\n",
    "        tidy_df_30Min,\n",
    "        np.cumsum(tidy_df_30Min.query(f\"variable == '{variable}'\")['value']*60*30).values*1000/(1e6),\n",
    "        \"Cumulative sublimation (mm)\",\n",
    "        \"Cumulative sublimation (mm)\",\n",
    "        int(variable.split('_')[-2].split('m')[0]),\n",
    "        variable.split('_')[-1]\n",
    "    )\n",
    "    tidy_df_5Min = tidy.tidy_df_add_variable(\n",
    "        tidy_df_5Min,\n",
    "        np.cumsum(tidy_df_5Min.query(f\"variable == '{variable}'\")['value']*60*5).values*1000/(1e6),\n",
    "        \"Cumulative sublimation (mm)\",\n",
    "        \"Cumulative sublimation (mm)\",\n",
    "        int(variable.split('_')[-2].split('m')[0]),\n",
    "        variable.split('_')[-1]\n",
    "    )"
   ]
  },
  {
   "cell_type": "code",
   "execution_count": null,
   "metadata": {},
   "outputs": [],
   "source": [
    "\n",
    "tidy_df_30Min_calm = tidy_df_30Min[tidy_df_30Min.time.isin(\n",
    "    tidy_df_30Min.query(\"variable == 'SF_avg_1m_ue'\").query(\"value == 0\").time.unique()\n",
    ")]\n",
    "tidy_df_30Min_blowing = tidy_df_30Min[tidy_df_30Min.time.isin(\n",
    "    tidy_df_30Min.query(\"variable == 'SF_avg_1m_ue'\").query(\"value > 0\").time.unique()\n",
    ")]"
   ]
  },
  {
   "cell_type": "markdown",
   "metadata": {},
   "source": [
    "### Save daily data"
   ]
  },
  {
   "cell_type": "code",
   "execution_count": null,
   "metadata": {},
   "outputs": [],
   "source": [
    "tidy_df_daily.to_parquet(tidy_daily_dataset_output_fn)"
   ]
  },
  {
   "attachments": {},
   "cell_type": "markdown",
   "metadata": {},
   "source": [
    "## ECOR"
   ]
  },
  {
   "attachments": {},
   "cell_type": "markdown",
   "metadata": {},
   "source": [
    "### Convert from mmol/m^3 to g/m^2"
   ]
  },
  {
   "cell_type": "code",
   "execution_count": null,
   "metadata": {},
   "outputs": [],
   "source": [
    "\n",
    "# convert from mmol/m^3 to g/m^2\n",
    "# 18.02 grams/mol\n",
    "# conversion: (original / 1000) * 18.02\n",
    "ecor_kps_df_thisseason = (ecor_kps_ds_thisseason['cvar_wq']*18.02/1000).to_dataframe().reset_index()\n",
    "ecor_gothic_df_thisseason = (ecor_gothic_ds_thisseason['cvar_wq']*18.02/1000).to_dataframe().reset_index()\n",
    "\n",
    "ecor_kps_df_lastseason = (ecor_kps_ds_lastseason['cvar_wq']*18.02/1000).to_dataframe().reset_index()\n",
    "ecor_gothic_df_lastseason = (ecor_gothic_ds_lastseason['cvar_wq']*18.02/1000).to_dataframe().reset_index()"
   ]
  },
  {
   "attachments": {},
   "cell_type": "markdown",
   "metadata": {},
   "source": [
    "### Remove ECOR data to match time/extent of SoS data from 2022-23"
   ]
  },
  {
   "cell_type": "code",
   "execution_count": null,
   "metadata": {},
   "outputs": [],
   "source": [
    "ecor_kps_df_thisseason = ecor_kps_df_thisseason[ecor_kps_df_thisseason['time'] > dt.datetime.strptime(start_date, '%Y%m%d')]\n",
    "ecor_kps_df_thisseason = ecor_kps_df_thisseason[ecor_kps_df_thisseason['time'] < dt.datetime.strptime(end_date, '%Y%m%d')]\n",
    "\n",
    "ecor_gothic_df_thisseason = ecor_gothic_df_thisseason[ecor_gothic_df_thisseason['time'] > dt.datetime.strptime(start_date, '%Y%m%d')]\n",
    "ecor_gothic_df_thisseason = ecor_gothic_df_thisseason[ecor_gothic_df_thisseason['time'] < dt.datetime.strptime(end_date, '%Y%m%d')]\n",
    "\n",
    "ecor_kps_df_lastseason = ecor_kps_df_lastseason[ecor_kps_df_lastseason['time'] > dt.datetime.strptime(start_date, '%Y%m%d').replace(year=2021)]\n",
    "ecor_kps_df_lastseason = ecor_kps_df_lastseason[ecor_kps_df_lastseason['time'] < dt.datetime.strptime(end_date, '%Y%m%d').replace(year=2022)]\n",
    "\n",
    "ecor_gothic_df_lastseason = ecor_gothic_df_lastseason[ecor_gothic_df_lastseason['time'] > dt.datetime.strptime(start_date, '%Y%m%d').replace(year=2021)]\n",
    "ecor_gothic_df_lastseason = ecor_gothic_df_lastseason[ecor_gothic_df_lastseason['time'] < dt.datetime.strptime(end_date, '%Y%m%d').replace(year=2022)]"
   ]
  },
  {
   "attachments": {},
   "cell_type": "markdown",
   "metadata": {},
   "source": [
    "### Create daily datasets"
   ]
  },
  {
   "cell_type": "code",
   "execution_count": null,
   "metadata": {},
   "outputs": [],
   "source": [
    "ecor_gothic_df_thisseason_daily = ecor_gothic_df_thisseason.set_index('time').resample('1440Min').mean().reset_index()\n",
    "ecor_kps_df_thisseason_daily = ecor_kps_df_thisseason.set_index('time').resample('1440Min').mean().reset_index()\n",
    "ecor_gothic_df_lastseason_daily = ecor_gothic_df_lastseason.set_index('time').resample('1440Min').mean().reset_index()\n",
    "ecor_kps_df_lastseason_daily = ecor_kps_df_lastseason.set_index('time').resample('1440Min').mean().reset_index()"
   ]
  },
  {
   "attachments": {},
   "cell_type": "markdown",
   "metadata": {},
   "source": [
    "### Calculate cumulative sublimation"
   ]
  },
  {
   "cell_type": "code",
   "execution_count": null,
   "metadata": {},
   "outputs": [],
   "source": [
    "ecor_gothic_df_thisseason_daily['Cumulative sublimation (mm)'] = np.cumsum(\n",
    "    (ecor_gothic_df_thisseason_daily['cvar_wq'].fillna(0)*60*60*24).values*1000/(1e6)\n",
    ")\n",
    "ecor_kps_df_thisseason_daily['Cumulative sublimation (mm)'] = np.cumsum(\n",
    "    (ecor_kps_df_thisseason_daily['cvar_wq'].fillna(0)*60*60*24).values*1000/(1e6)\n",
    ")\n",
    "\n",
    "ecor_gothic_df_lastseason_daily['Cumulative sublimation (mm)'] = np.cumsum(\n",
    "    (ecor_gothic_df_lastseason_daily['cvar_wq'].fillna(0)*60*60*24).values*1000/(1e6)\n",
    ")\n",
    "ecor_kps_df_lastseason_daily['Cumulative sublimation (mm)'] = np.cumsum(\n",
    "    (ecor_kps_df_lastseason_daily['cvar_wq'].fillna(0)*60*60*24).values*1000/(1e6)\n",
    ")"
   ]
  },
  {
   "attachments": {},
   "cell_type": "markdown",
   "metadata": {},
   "source": [
    "# Compare multiple cumulative sublimation estimates"
   ]
  },
  {
   "cell_type": "code",
   "execution_count": null,
   "metadata": {},
   "outputs": [],
   "source": [
    "sos_swe_chart_src = tidy_df_daily.query(\n",
    "        \"measurement == 'SWE'\"\n",
    "    ).dropna()\n",
    "\n",
    "sos_swe_chart = alt.Chart(\n",
    "    sos_swe_chart_src    \n",
    ").mark_line(opacity=0.6, strokeDash=[4,2]).encode(\n",
    "    alt.X('time:T'),\n",
    "    alt.Y(\"value:Q\", title='Snow Pillow SWE (mm)').axis(offset=50),\n",
    "    alt.Color(\n",
    "        'tower:N',\n",
    "        legend=alt.Legend(symbolOpacity=1)\n",
    "    )\n",
    ")"
   ]
  },
  {
   "cell_type": "code",
   "execution_count": null,
   "metadata": {},
   "outputs": [],
   "source": [
    "alt.Chart(\n",
    "     tidy_df_30Min.query(\n",
    "        \"measurement == 'Cumulative sublimation (mm)'\"\n",
    "    )\n",
    ").mark_line().encode(\n",
    "    alt.X('time:T'),\n",
    "    alt.Y(\"value:Q\", title='Cumulative sublimation (mm)').scale(domain=[0,50], clamp=True),\n",
    "    # alt.Color(\"tower:N\")\n",
    ").properties(width=800, height = 200)"
   ]
  },
  {
   "cell_type": "code",
   "execution_count": null,
   "metadata": {},
   "outputs": [],
   "source": [
    "sos_sublimation_src = tidy_df_daily.query(\n",
    "        \"measurement == 'Cumulative sublimation (mm)'\"\n",
    "    ).query(\n",
    "        \"height == 3\"\n",
    "    ).dropna()\n",
    "\n",
    "sos_sublimation_chart = alt.Chart(\n",
    "    sos_sublimation_src    \n",
    ").mark_line().encode(\n",
    "    alt.X('time:T'),\n",
    "    alt.Y(\"value:Q\", title='Cumulative sublimation (mm)').scale(domain=[0,50], clamp=True),\n",
    "    alt.Color(\"tower:N\")\n",
    ")"
   ]
  },
  {
   "attachments": {},
   "cell_type": "markdown",
   "metadata": {},
   "source": [
    "## Artificially adjust timestamps of ECOR 2021-22 so that they overlap with the 22-23 seasons"
   ]
  },
  {
   "cell_type": "code",
   "execution_count": null,
   "metadata": {},
   "outputs": [],
   "source": [
    "ecor_kps_df_lastseason_daily['time'] = ecor_kps_df_lastseason_daily['time'].apply(\n",
    "    lambda dt: (dt.replace(year = dt.year + 1))\n",
    ")\n",
    "ecor_gothic_df_lastseason_daily['time'] = ecor_gothic_df_lastseason_daily['time'].apply(\n",
    "    lambda dt: (dt.replace(year = dt.year + 1))\n",
    ")"
   ]
  },
  {
   "cell_type": "code",
   "execution_count": null,
   "metadata": {},
   "outputs": [],
   "source": [
    "src = pd.concat([\n",
    "    ecor_kps_df_thisseason_daily.assign(measurement = 'KPS ECOR', season='2022-23'),\n",
    "    ecor_gothic_df_thisseason_daily.assign(measurement = 'Gothic ECOR', season='2022-23'),\n",
    "    ecor_kps_df_lastseason_daily.assign(measurement = 'KPS ECOR', season='2021-22'),\n",
    "    ecor_gothic_df_lastseason_daily.assign(measurement = 'Gothic ECOR', season='2021-22'),\n",
    "])\n",
    "\n",
    "ecor_sublimation_chart = alt.Chart(src).mark_line(\n",
    "    strokeDash=[20,8]\n",
    ").encode(\n",
    "    alt.X(\"time:T\"),\n",
    "    alt.Y(\"Cumulative sublimation (mm)\"),\n",
    "    alt.Color(\"measurement:N\"),\n",
    "    alt.StrokeDash(\"season:O\")\n",
    ")\n",
    "\n",
    "ecor_sublimation_chart"
   ]
  },
  {
   "cell_type": "code",
   "execution_count": null,
   "metadata": {},
   "outputs": [],
   "source": [
    "sos_sublimation_df = tidy_df_daily.query(\n",
    "        \"measurement == 'Cumulative sublimation (mm)'\"\n",
    "    ).query(\n",
    "        \"height  == 3\"\n",
    "    )\n",
    "sos_sublimation_df['EC system'] = sos_sublimation_df.apply(lambda row: f\"tower {row.tower}, {int(row.height)}m\", axis=1)\n",
    "\n",
    "\n",
    "\n",
    "ecor_sublimation_df = pd.concat([\n",
    "    ecor_kps_df_thisseason_daily.assign(measurement = 'KPS ECOR, 22-23'),\n",
    "    ecor_gothic_df_thisseason_daily.assign(measurement = 'Gothic ECOR, 22-23'),\n",
    "    ecor_kps_df_lastseason_daily.assign(measurement = 'KPS ECOR, 21-22'),\n",
    "    ecor_gothic_df_lastseason_daily.assign(measurement = 'Gothic ECOR, 21-22')\n",
    "])"
   ]
  },
  {
   "cell_type": "code",
   "execution_count": null,
   "metadata": {},
   "outputs": [],
   "source": [
    "cumulative_sublimation_df = pd.concat([\n",
    "    ecor_sublimation_df[\n",
    "        ['time', 'measurement', 'Cumulative sublimation (mm)']\n",
    "    ].rename(\n",
    "        columns = {'Cumulative sublimation (mm)': 'value'}\n",
    "    ),\n",
    "    sos_sublimation_df[['time', 'EC system', 'value']].rename(columns = {'EC system': 'measurement'})\n",
    "])"
   ]
  },
  {
   "cell_type": "code",
   "execution_count": null,
   "metadata": {},
   "outputs": [],
   "source": [
    "cum_sublimation_chart = alt.Chart(cumulative_sublimation_df).mark_line().encode(\n",
    "    alt.X('time:T').title('time (local)'),\n",
    "    alt.Y('value:Q').scale(domain=[0,50], clamp=True).title(\"Cumulative sublimation (mm)\"), \n",
    "    alt.Color(\"measurement:N\")\n",
    ")"
   ]
  },
  {
   "cell_type": "code",
   "execution_count": null,
   "metadata": {},
   "outputs": [],
   "source": [
    "cum_sublimation_chart.properties(width=600)"
   ]
  },
  {
   "attachments": {},
   "cell_type": "markdown",
   "metadata": {},
   "source": [
    "# Make additional calculations"
   ]
  },
  {
   "attachments": {},
   "cell_type": "markdown",
   "metadata": {},
   "source": [
    "## Calculate daily sublimation rates"
   ]
  },
  {
   "cell_type": "code",
   "execution_count": null,
   "metadata": {},
   "outputs": [],
   "source": [
    "local_src = tidy_df_daily.query(\"variable == 'w_h2o__3m_c'\")\n",
    "local_src = local_src.iloc[1:-1] # drop days with partial measurements\n",
    "local_src['value'] = local_src['value']*60*60*24*0.001 # calculate daily sublimation"
   ]
  },
  {
   "attachments": {},
   "cell_type": "markdown",
   "metadata": {},
   "source": [
    "$$ \\frac{g}{m^2 * s} * \\frac{1800 s}{measurement} * \\frac{.001 kg}{g} * \\frac{1 m^3}{1000 kg} * \\frac{1000 mm }{m}$$\n",
    "\n",
    "$$ \\frac{m}{s} * 1800 * .001 * (1 / 1000) * (1000)$$"
   ]
  },
  {
   "cell_type": "code",
   "execution_count": null,
   "metadata": {},
   "outputs": [],
   "source": [
    "daily_sublimation_chart = alt.Chart(local_src).mark_bar(opacity=0.2).encode(\n",
    "    alt.X(\"time:T\").title('time (local)'),\n",
    "    alt.Y(\"value:Q\").title(\"Daily sublimation (mm)\"), \n",
    ")"
   ]
  },
  {
   "attachments": {},
   "cell_type": "markdown",
   "metadata": {},
   "source": [
    "## Calculate Net Radiation"
   ]
  },
  {
   "cell_type": "code",
   "execution_count": null,
   "metadata": {},
   "outputs": [],
   "source": [
    "net_radiation_values = (\n",
    "    (\n",
    "        tidy_df_daily.query(\"variable == 'Rsw_in_9m_d'\")['value'].values\n",
    "        +\n",
    "        tidy_df_daily.query(\"variable == 'Rlw_in_9m_d'\")['value'].values\n",
    "    ) - (\n",
    "        tidy_df_daily.query(\"variable == 'Rsw_out_9m_d'\")['value'].values\n",
    "        +\n",
    "        tidy_df_daily.query(\"variable == 'Rlw_out_9m_d'\")['value'].values\n",
    "    )\n",
    ")\n",
    "\n",
    "\n",
    "\n",
    "tidy_df_daily = tidy.tidy_df_add_variable(\n",
    "    tidy_df_daily,\n",
    "    net_radiation_values,\n",
    "    'Rnet_9m_d',\n",
    "    'net radiation',\n",
    "    9,\n",
    "    'd'\n",
    ")\n"
   ]
  },
  {
   "attachments": {},
   "cell_type": "markdown",
   "metadata": {},
   "source": [
    "To Do/Add:\n",
    "\n",
    "* water flux into soil\n",
    "* SWE from snow pillows + overlaid snow pit data"
   ]
  },
  {
   "cell_type": "code",
   "execution_count": null,
   "metadata": {},
   "outputs": [],
   "source": [
    "daily_sublimation_chart = alt.Chart(local_src).mark_bar(opacity=0.2).encode(\n",
    "    alt.X(\"time:T\", title=None).axis(labels=False, ticks=False),\n",
    "    alt.Y(\"value:Q\").title(\"Daily sublimation (mm)\"), \n",
    ")\n",
    "\n",
    "temp_chart = alt.Chart(\n",
    "    tidy_df_daily.query(\"variable == 'T_3m_c'\")\n",
    ").mark_line().encode(\n",
    "    alt.X(\"time:T\").title('time (local)'),\n",
    "    alt.Y(\"value:Q\").title('Mean daily temperature (˚C)')\n",
    ")\n",
    "\n",
    "surf_temp_chart = alt.Chart(\n",
    "    tidy_df_daily.query(\"variable == 'Tsurf_c'\")\n",
    ").mark_line().encode(\n",
    "    alt.X(\"time:T\").title('time (local)').axis(labels=False, ticks=False),\n",
    "    alt.Y(\"value:Q\").title('Mean daily surface temperature (˚C)')\n",
    ")\n",
    "\n",
    "surf_and_air_temp_chart = alt.Chart(\n",
    "    tidy_df_daily[tidy_df_daily.variable.isin(['T_3m_c', 'Tsurf_c'])]\n",
    ").mark_line().encode(\n",
    "    alt.X(\"time:T\", title=None).axis(labels=False, ticks=False),\n",
    "    alt.Y(\"value:Q\").title(\"Temperature (˚C)\"),\n",
    "    alt.StrokeDash(\"measurement:N\")\n",
    ")\n",
    "\n",
    "spd_chart = alt.Chart(\n",
    "    tidy_df_daily.query(\"variable == 'spd_3m_c'\")\n",
    ").mark_line().encode(\n",
    "    alt.X(\"time:T\").title('time (local)'),\n",
    "    alt.Y(\"value:Q\").title('Mean daily wind speed (m/s)')\n",
    ")\n",
    "\n",
    "netrad_chart = alt.Chart(\n",
    "    tidy_df_daily.query(\"variable == 'Rnet_9m_d'\")\n",
    ").mark_line().encode(\n",
    "    alt.X(\"time:T\").title('time (local)'),\n",
    "    alt.Y(\"value:Q\").title('Net radiation (W/m^2)').axis(orient='right')\n",
    ")\n",
    "\n",
    "swrad_chart = alt.Chart(\n",
    "    tidy_df_30Min.query(\"variable == 'Rsw_in_9m_d'\")\n",
    ").mark_line(opacity=0.3).encode(\n",
    "    alt.X(\"time:T\").title('time (local)'),\n",
    "    alt.Y(\"value:Q\").title(['Incoming SW', 'radiation (W/m^2)']).axis(offset=50, orient='right').scale(domain=[-1000,1000])\n",
    ")\n",
    "\n",
    "soil_moisture_chart = alt.Chart(\n",
    "    tidy_df_daily[tidy_df_daily.variable == 'Qsoil_d']\n",
    ").mark_line(color='orange').encode(\n",
    "    alt.X(\"time:T\"),\n",
    "    alt.Y(\"value:Q\").title(\"Soil moisture\").axis(orient='left'),\n",
    ")\n",
    "\n",
    "blowing_snow_flux_chart = alt.Chart(\n",
    "    tidy_df_30Min[tidy_df_30Min.measurement == 'snow flux']\n",
    ").transform_window(\n",
    "    rolling_avg = \"median(value)\",\n",
    "    frame = [-3, 3]\n",
    ").mark_line().encode(\n",
    "    alt.X(\"time:T\", title=None).axis(labels=False, ticks=False),\n",
    "    alt.Y(\"rolling_avg:Q\").title(\"Blowing snow flux (g/m^2/s)\").scale(domain=[0,0.5], clamp=True),\n",
    "    alt.Color(\"height:N\")\n",
    ")"
   ]
  },
  {
   "cell_type": "code",
   "execution_count": null,
   "metadata": {},
   "outputs": [],
   "source": [
    "swe_dailysub_and_cumsub_chart = (\n",
    "    daily_sublimation_chart + \n",
    "    sos_sublimation_chart + \n",
    "    sos_swe_chart\n",
    ").resolve_scale(y='independent').properties(width=800, height = 200)\n",
    "\n",
    "zero_line = alt.Chart(pd.DataFrame({'y': [0]})).mark_rule().encode(alt.Y('y').axis(None))\n",
    "\n",
    "net_rad_and_soil_moisture_chart = (\n",
    "    swrad_chart + netrad_chart + soil_moisture_chart\n",
    ").resolve_scale(y='independent')"
   ]
  },
  {
   "cell_type": "code",
   "execution_count": null,
   "metadata": {},
   "outputs": [],
   "source": [
    "figure = (\n",
    "    swe_dailysub_and_cumsub_chart &\n",
    "    blowing_snow_flux_chart.properties(height = 100) &\n",
    "    surf_and_air_temp_chart.properties(height = 100) &\n",
    "    net_rad_and_soil_moisture_chart.properties(height = 100)\n",
    "    \n",
    "    # soil_moisture_chart.properties(height = 100) &\n",
    "    # temp_chart.properties(height = 100) &\n",
    "    # surf_temp_chart.properties(height = 100) &\n",
    "    # spd_chart.properties(height = 100) &\n",
    "    # netrad_chart.properties(height = 100)\n",
    ").resolve_scale(x='shared', color='independent', strokeDash='independent').configure_legend(orient='left')"
   ]
  },
  {
   "cell_type": "code",
   "execution_count": null,
   "metadata": {},
   "outputs": [],
   "source": [
    "figure.interactive()"
   ]
  },
  {
   "attachments": {},
   "cell_type": "markdown",
   "metadata": {},
   "source": [
    "Find day and value of max SWE by tower"
   ]
  },
  {
   "cell_type": "code",
   "execution_count": null,
   "metadata": {},
   "outputs": [],
   "source": [
    "display(sos_sublimation_src.query(\"tower == 'c'\").sort_values('value', ascending=False).head(1))\n",
    "display(sos_sublimation_src.query(\"tower == 'd'\").sort_values('value', ascending=False).head(1))\n",
    "display(sos_sublimation_src.query(\"tower == 'ue'\").sort_values('value', ascending=False).head(1))\n",
    "display(sos_sublimation_src.query(\"tower == 'uw'\").sort_values('value', ascending=False).head(1))"
   ]
  },
  {
   "cell_type": "code",
   "execution_count": null,
   "metadata": {},
   "outputs": [],
   "source": [
    "display(sos_swe_chart_src.query(\"tower == 'c'\").sort_values('value', ascending=False).head(1))\n",
    "display(sos_swe_chart_src.query(\"tower == 'd'\").sort_values('value', ascending=False).head(1))\n",
    "display(sos_swe_chart_src.query(\"tower == 'ue'\").sort_values('value', ascending=False).head(1))\n",
    "display(sos_swe_chart_src.query(\"tower == 'uw'\").sort_values('value', ascending=False).head(1))"
   ]
  },
  {
   "cell_type": "code",
   "execution_count": null,
   "metadata": {},
   "outputs": [],
   "source": [
    "print(100 *\n",
    "    list(sos_sublimation_src.query(\"tower == 'c'\").sort_values('value', ascending=False).head(1).value)[0]\n",
    "    /\n",
    "    list(sos_swe_chart_src.query(\"tower == 'c'\").sort_values('value', ascending=False).head(1).value)[0]\n",
    ")\n",
    "print(100 *\n",
    "    list(sos_sublimation_src.query(\"tower == 'd'\").sort_values('value', ascending=False).head(1).value)[0]\n",
    "    /\n",
    "    list(sos_swe_chart_src.query(\"tower == 'd'\").sort_values('value', ascending=False).head(1).value)[0]\n",
    ")\n",
    "print(100 *\n",
    "    list(sos_sublimation_src.query(\"tower == 'ue'\").sort_values('value', ascending=False).head(1).value)[0]\n",
    "    /\n",
    "    list(sos_swe_chart_src.query(\"tower == 'ue'\").sort_values('value', ascending=False).head(1).value)[0]\n",
    ")\n",
    "print(100 *\n",
    "    list(sos_sublimation_src.query(\"tower == 'uw'\").sort_values('value', ascending=False).head(1).value)[0]\n",
    "    /\n",
    "    list(sos_swe_chart_src.query(\"tower == 'uw'\").sort_values('value', ascending=False).head(1).value)[0]\n",
    ")"
   ]
  },
  {
   "attachments": {},
   "cell_type": "markdown",
   "metadata": {},
   "source": [
    "# Find case study dates:\n",
    "1. Calculate 3-consecutive-day average sublimation rate\n",
    "2. Find largest value in each month (excluding May)\n",
    "4. Find smallest value in each month (excluding May)"
   ]
  },
  {
   "cell_type": "code",
   "execution_count": null,
   "metadata": {},
   "outputs": [],
   "source": [
    "local_src.set_index('time').loc[:'2023-04-09'].rolling(window=3, center=True).sum().sort_values('value', ascending=False).head(50)\n",
    "\n",
    "# highest, first appearance from each month excluding May:\n",
    "#   12/22\n",
    "#   03/06\n",
    "#   04/03\n",
    "#   02/20"
   ]
  },
  {
   "cell_type": "code",
   "execution_count": null,
   "metadata": {},
   "outputs": [],
   "source": [
    "local_src[['value', 'time']].set_index('time').rolling(window=3, center=True).sum().sort_values('value', ascending=True).head(50)\n",
    "\n",
    "# lowest, first appearance from each month excluding May:\n",
    "#   01/07 (negative)\n",
    "#   12/10 (negative)\n",
    "#   02/02 (negative)\n",
    "#   02/12 (positive)\n",
    "#   12/17 (positive)\n",
    "#   01/13 (positive)"
   ]
  },
  {
   "attachments": {},
   "cell_type": "markdown",
   "metadata": {},
   "source": [
    "# Look at Turbulence at different sites"
   ]
  },
  {
   "cell_type": "code",
   "execution_count": null,
   "metadata": {},
   "outputs": [],
   "source": [
    "sos_tke_src = tidy_df_30Min.query(\n",
    "    \"measurement == 'turbulent kinetic energy'\"\n",
    ").query(\"tower == 'c'\")\n",
    "sos_tke_src['EC System'] = sos_tke_src.apply(lambda row: f\"KPS, SOS, tower {row.tower}, {row.height}m\", axis=1)"
   ]
  },
  {
   "cell_type": "code",
   "execution_count": null,
   "metadata": {},
   "outputs": [],
   "source": [
    "alt.Chart(sos_tke_src).mark_line().encode(\n",
    "    alt.X(\"time:T\"),\n",
    "    alt.Y(\"value:Q\"),\n",
    "    alt.Color(\"EC System:N\")\n",
    ").properties(width=800)"
   ]
  },
  {
   "cell_type": "code",
   "execution_count": null,
   "metadata": {},
   "outputs": [],
   "source": [
    "ecor_gothic_ds_thisseason['TKE'] = 0.5*(ecor_gothic_ds_thisseason['var_u'] + ecor_gothic_ds_thisseason['var_v'] + ecor_gothic_ds_thisseason['var_w'])\n",
    "ecor_kps_ds_thisseason['TKE'] = 0.5*(ecor_kps_ds_thisseason['var_u'] + ecor_kps_ds_thisseason['var_v'] + ecor_kps_ds_thisseason['var_w'])"
   ]
  },
  {
   "cell_type": "code",
   "execution_count": null,
   "metadata": {},
   "outputs": [],
   "source": [
    "ecor_gothic_ds_thisseason_tke_df = ecor_gothic_ds_thisseason['TKE'].to_dataframe().reset_index().rename(columns={'TKE': 'value'})\n",
    "ecor_kps_ds_thisseason_tke_df = ecor_kps_ds_thisseason['TKE'].to_dataframe().reset_index().rename(columns={'TKE': 'value'})\n",
    "\n",
    "ecor_gothic_ds_thisseason_tke_df['EC System'] = 'SAIL, Gothic'\n",
    "ecor_kps_ds_thisseason_tke_df['EC System']  = 'SAIL, KPS'"
   ]
  },
  {
   "cell_type": "code",
   "execution_count": null,
   "metadata": {},
   "outputs": [],
   "source": [
    "tke_src = pd.concat([\n",
    "    ecor_gothic_ds_thisseason_tke_df,\n",
    "    ecor_kps_ds_thisseason_tke_df,\n",
    "    sos_tke_src.query(\"tower == 'c'\")[['time', 'EC System', 'value']]\n",
    "])"
   ]
  },
  {
   "cell_type": "code",
   "execution_count": null,
   "metadata": {},
   "outputs": [],
   "source": [
    "tke_src = tke_src[tke_src['EC System'].isin([\n",
    "    'SAIL, Gothic', \n",
    "    'SAIL, KPS',\n",
    "    'KPS, SOS, tower c, 2.0m',\n",
    "    'KPS, SOS, tower c, 3.0m',\n",
    "    'KPS, SOS, tower c, 20.0m',\n",
    "])]"
   ]
  },
  {
   "cell_type": "code",
   "execution_count": null,
   "metadata": {},
   "outputs": [],
   "source": [
    "tke_boxplot = alt.Chart(tke_src).mark_boxplot(size=40, outliers=False).encode(\n",
    "    alt.X(\"EC System:N\").axis(labelAngle=30),\n",
    "    alt.Y(\"value:Q\").title(\"TKE\"),\n",
    "    # alt.Color(\"EC System:N\")\n",
    ").properties(width = 300)"
   ]
  },
  {
   "cell_type": "code",
   "execution_count": null,
   "metadata": {},
   "outputs": [],
   "source": [
    "tke_boxplot.properties(title=['Distribution of TKE measurements, Winter 2022-23,', 'for different campaigns'])"
   ]
  },
  {
   "cell_type": "code",
   "execution_count": null,
   "metadata": {},
   "outputs": [],
   "source": [
    "tke_timeseries = alt.Chart(tke_src).transform_window(\n",
    "    rolling_mean = 'mean(value)',\n",
    "    frame = [-20, 20]\n",
    ").mark_line().encode(\n",
    "    alt.X(\"time:T\"),\n",
    "    alt.Y(\"rolling_mean:Q\").title(\"TKE\"),\n",
    "    alt.Color(\"EC System:N\")\n",
    ").properties(width=800)"
   ]
  },
  {
   "cell_type": "code",
   "execution_count": null,
   "metadata": {},
   "outputs": [],
   "source": [
    "tke_timeseries | tke_boxplot"
   ]
  },
  {
   "cell_type": "code",
   "execution_count": null,
   "metadata": {},
   "outputs": [],
   "source": []
  },
  {
   "cell_type": "code",
   "execution_count": null,
   "metadata": {},
   "outputs": [],
   "source": []
  },
  {
   "cell_type": "code",
   "execution_count": null,
   "metadata": {},
   "outputs": [],
   "source": []
  },
  {
   "cell_type": "code",
   "execution_count": null,
   "metadata": {},
   "outputs": [],
   "source": []
  },
  {
   "cell_type": "code",
   "execution_count": null,
   "metadata": {},
   "outputs": [],
   "source": []
  },
  {
   "cell_type": "code",
   "execution_count": null,
   "metadata": {},
   "outputs": [],
   "source": []
  },
  {
   "cell_type": "code",
   "execution_count": null,
   "metadata": {},
   "outputs": [],
   "source": []
  },
  {
   "cell_type": "code",
   "execution_count": null,
   "metadata": {},
   "outputs": [],
   "source": []
  }
 ],
 "metadata": {
  "kernelspec": {
   "display_name": "arm",
   "language": "python",
   "name": "python3"
  },
  "language_info": {
   "codemirror_mode": {
    "name": "ipython",
    "version": 3
   },
   "file_extension": ".py",
   "mimetype": "text/x-python",
   "name": "python",
   "nbconvert_exporter": "python",
   "pygments_lexer": "ipython3",
   "version": "3.11.0"
  },
  "orig_nbformat": 4
 },
 "nbformat": 4,
 "nbformat_minor": 2
}
