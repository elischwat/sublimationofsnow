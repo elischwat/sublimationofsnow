{
 "cells": [
  {
   "cell_type": "code",
   "execution_count": 1,
   "metadata": {},
   "outputs": [],
   "source": [
    "import pandas as pd\n",
    "import numpy as np\n",
    "import altair as alt\n",
    "alt.data_transformers.enable('json')\n",
    "\n",
    "from sublimpy import turbulence\n",
    "import matplotlib.pyplot as plt\n",
    "from sublimpy import tidy\n",
    "import metpy.constants"
   ]
  },
  {
   "cell_type": "markdown",
   "metadata": {},
   "source": [
    "# Open data"
   ]
  },
  {
   "cell_type": "markdown",
   "metadata": {},
   "source": [
    "## Open SOS Measurement Dataset"
   ]
  },
  {
   "cell_type": "code",
   "execution_count": 2,
   "metadata": {},
   "outputs": [],
   "source": [
    "start_date = '20221130'\n",
    "end_date = '20230509'\n",
    "# open files\n",
    "tidy_df_5Min = pd.read_parquet(f'tidy_df_{start_date}_{end_date}_noplanar_fit_clean.parquet')\n",
    "# convert time column to datetime\n",
    "tidy_df_5Min['time'] = pd.to_datetime(tidy_df_5Min['time'])\n",
    "# limit data to our dates of interest, based on continuous snow cover at Kettle Ponds\n",
    "tidy_df_5Min = tidy_df_5Min.set_index('time').sort_index().loc[start_date:end_date].reset_index()\n",
    "\n",
    "output_fn = f'tidy_df_30Min_{start_date}_{end_date}_planar_fit.parquet'"
   ]
  },
  {
   "cell_type": "markdown",
   "metadata": {},
   "source": [
    "# Open z0 datassets - created with `calculate_roughness_length.ipynb`"
   ]
  },
  {
   "cell_type": "code",
   "execution_count": 3,
   "metadata": {},
   "outputs": [],
   "source": [
    "z0_andreas_df = pd.read_parquet(\"z0estimates/z0_andreas_df.parquet\")\n",
    "z0_andreas_df_weekly = pd.read_parquet(\"z0estimates/z0_andreas_df_weekly.parquet\")\n",
    "\n",
    "z0_df = pd.read_parquet(\"z0estimates/z0_df.parquet\").reset_index()\n",
    "z0_df_weekly = pd.read_parquet(\"z0estimates/z0_df_weekly.parquet\")"
   ]
  },
  {
   "cell_type": "markdown",
   "metadata": {},
   "source": [
    "# Create 30min dataset"
   ]
  },
  {
   "cell_type": "code",
   "execution_count": 4,
   "metadata": {},
   "outputs": [],
   "source": [
    "tidy_df_30Min = tidy_df_5Min.set_index('time').groupby([\n",
    "    pd.Grouper(freq='30Min'), 'tower', 'height', 'measurement', 'variable'\n",
    "])['value'].mean().reset_index()"
   ]
  },
  {
   "cell_type": "code",
   "execution_count": 5,
   "metadata": {},
   "outputs": [
    {
     "name": "stderr",
     "output_type": "stream",
     "text": [
      "/tmp/ipykernel_32307/4230238068.py:5: FutureWarning: DataFrame.interpolate with method=ffill is deprecated and will raise in a future version. Use obj.ffill() or obj.bfill() instead.\n",
      "  z0_df_weekly = z0_df_weekly.set_index('time').reindex(time_series, method ='bfill').interpolate(method='ffill')\n"
     ]
    }
   ],
   "source": [
    "time_series = tidy_df_30Min.query(\"variable == 'u*_3m_c'\").time\n",
    "\n",
    "z0_andreas_df = z0_andreas_df.set_index('time').reindex(time_series, method ='bfill')\n",
    "z0_andreas_df_weekly = z0_andreas_df_weekly.set_index('time').reindex(time_series, method ='bfill')\n",
    "z0_df_weekly = z0_df_weekly.set_index('time').reindex(time_series, method ='bfill').interpolate(method='ffill')"
   ]
  },
  {
   "cell_type": "code",
   "execution_count": 6,
   "metadata": {},
   "outputs": [],
   "source": [
    "tidy_df_30Min = tidy.tidy_df_add_variable(\n",
    "    tidy_df_30Min,\n",
    "    z0_andreas_df.z0,\n",
    "    variable='z0_andreas',\n",
    "    measurement='z0',\n",
    "    height=3,\n",
    "    tower='c'\n",
    ")\n",
    "\n",
    "tidy_df_30Min = tidy.tidy_df_add_variable(\n",
    "    tidy_df_30Min,\n",
    "    z0_andreas_df_weekly.z0,\n",
    "    variable='z0_andreas_weekly',\n",
    "    measurement='z0',\n",
    "    height=3,\n",
    "    tower='c'\n",
    ")\n",
    "\n",
    "tidy_df_30Min = tidy.tidy_df_add_variable(\n",
    "    tidy_df_30Min,\n",
    "    z0_df_weekly.z0_3m_c,\n",
    "    variable='z0_windprofile_weekly',\n",
    "    measurement='z0',\n",
    "    height=3,\n",
    "    tower='c'\n",
    ")"
   ]
  },
  {
   "cell_type": "code",
   "execution_count": 7,
   "metadata": {},
   "outputs": [
    {
     "data": {
      "text/html": [
       "\n",
       "<style>\n",
       "  #altair-viz-38c671fa5287471a9bc873301ff3b09a.vega-embed {\n",
       "    width: 100%;\n",
       "    display: flex;\n",
       "  }\n",
       "\n",
       "  #altair-viz-38c671fa5287471a9bc873301ff3b09a.vega-embed details,\n",
       "  #altair-viz-38c671fa5287471a9bc873301ff3b09a.vega-embed details summary {\n",
       "    position: relative;\n",
       "  }\n",
       "</style>\n",
       "<div id=\"altair-viz-38c671fa5287471a9bc873301ff3b09a\"></div>\n",
       "<script type=\"text/javascript\">\n",
       "  var VEGA_DEBUG = (typeof VEGA_DEBUG == \"undefined\") ? {} : VEGA_DEBUG;\n",
       "  (function(spec, embedOpt){\n",
       "    let outputDiv = document.currentScript.previousElementSibling;\n",
       "    if (outputDiv.id !== \"altair-viz-38c671fa5287471a9bc873301ff3b09a\") {\n",
       "      outputDiv = document.getElementById(\"altair-viz-38c671fa5287471a9bc873301ff3b09a\");\n",
       "    }\n",
       "    const paths = {\n",
       "      \"vega\": \"https://cdn.jsdelivr.net/npm/vega@5?noext\",\n",
       "      \"vega-lib\": \"https://cdn.jsdelivr.net/npm/vega-lib?noext\",\n",
       "      \"vega-lite\": \"https://cdn.jsdelivr.net/npm/vega-lite@5.16.3?noext\",\n",
       "      \"vega-embed\": \"https://cdn.jsdelivr.net/npm/vega-embed@6?noext\",\n",
       "    };\n",
       "\n",
       "    function maybeLoadScript(lib, version) {\n",
       "      var key = `${lib.replace(\"-\", \"\")}_version`;\n",
       "      return (VEGA_DEBUG[key] == version) ?\n",
       "        Promise.resolve(paths[lib]) :\n",
       "        new Promise(function(resolve, reject) {\n",
       "          var s = document.createElement('script');\n",
       "          document.getElementsByTagName(\"head\")[0].appendChild(s);\n",
       "          s.async = true;\n",
       "          s.onload = () => {\n",
       "            VEGA_DEBUG[key] = version;\n",
       "            return resolve(paths[lib]);\n",
       "          };\n",
       "          s.onerror = () => reject(`Error loading script: ${paths[lib]}`);\n",
       "          s.src = paths[lib];\n",
       "        });\n",
       "    }\n",
       "\n",
       "    function showError(err) {\n",
       "      outputDiv.innerHTML = `<div class=\"error\" style=\"color:red;\">${err}</div>`;\n",
       "      throw err;\n",
       "    }\n",
       "\n",
       "    function displayChart(vegaEmbed) {\n",
       "      vegaEmbed(outputDiv, spec, embedOpt)\n",
       "        .catch(err => showError(`Javascript Error: ${err.message}<br>This usually means there's a typo in your chart specification. See the javascript console for the full traceback.`));\n",
       "    }\n",
       "\n",
       "    if(typeof define === \"function\" && define.amd) {\n",
       "      requirejs.config({paths});\n",
       "      require([\"vega-embed\"], displayChart, err => showError(`Error loading script: ${err.message}`));\n",
       "    } else {\n",
       "      maybeLoadScript(\"vega\", \"5\")\n",
       "        .then(() => maybeLoadScript(\"vega-lite\", \"5.16.3\"))\n",
       "        .then(() => maybeLoadScript(\"vega-embed\", \"6\"))\n",
       "        .catch(showError)\n",
       "        .then(() => displayChart(vegaEmbed));\n",
       "    }\n",
       "  })({\"config\": {\"view\": {\"continuousWidth\": 300, \"continuousHeight\": 300}}, \"data\": {\"url\": \"altair-data-c8b65b6a65380ce8e6198d69eb63bbcc.json\", \"format\": {\"type\": \"json\"}}, \"mark\": {\"type\": \"line\"}, \"encoding\": {\"color\": {\"field\": \"variable\", \"type\": \"ordinal\"}, \"x\": {\"field\": \"time\", \"type\": \"temporal\"}, \"y\": {\"field\": \"value\", \"scale\": {\"type\": \"log\"}, \"type\": \"quantitative\"}}, \"width\": 1000, \"$schema\": \"https://vega.github.io/schema/vega-lite/v5.16.3.json\"}, {\"mode\": \"vega-lite\"});\n",
       "</script>"
      ],
      "text/plain": [
       "alt.Chart(...)"
      ]
     },
     "execution_count": 7,
     "metadata": {},
     "output_type": "execute_result"
    }
   ],
   "source": [
    "src = tidy_df_30Min.query(\"measurement == 'z0'\")\n",
    "alt.Chart(src).mark_line().encode(\n",
    "    alt.X(\"time:T\"),\n",
    "    alt.Y(\"value:Q\").scale(type='log'),\n",
    "    alt.Color('variable:O')\n",
    ").properties(width=1000)"
   ]
  },
  {
   "cell_type": "code",
   "execution_count": 8,
   "metadata": {},
   "outputs": [
    {
     "data": {
      "text/html": [
       "<div>\n",
       "<style scoped>\n",
       "    .dataframe tbody tr th:only-of-type {\n",
       "        vertical-align: middle;\n",
       "    }\n",
       "\n",
       "    .dataframe tbody tr th {\n",
       "        vertical-align: top;\n",
       "    }\n",
       "\n",
       "    .dataframe thead th {\n",
       "        text-align: right;\n",
       "    }\n",
       "</style>\n",
       "<table border=\"1\" class=\"dataframe\">\n",
       "  <thead>\n",
       "    <tr style=\"text-align: right;\">\n",
       "      <th></th>\n",
       "      <th>time</th>\n",
       "      <th>tower</th>\n",
       "      <th>height</th>\n",
       "      <th>measurement</th>\n",
       "      <th>variable</th>\n",
       "      <th>value</th>\n",
       "    </tr>\n",
       "  </thead>\n",
       "  <tbody>\n",
       "    <tr>\n",
       "      <th>0</th>\n",
       "      <td>2022-11-30 00:00:00</td>\n",
       "      <td>c</td>\n",
       "      <td>0.0</td>\n",
       "      <td>IDir</td>\n",
       "      <td>IDir_c</td>\n",
       "      <td>139.000000</td>\n",
       "    </tr>\n",
       "    <tr>\n",
       "      <th>1</th>\n",
       "      <td>2022-11-30 00:00:00</td>\n",
       "      <td>c</td>\n",
       "      <td>0.0</td>\n",
       "      <td>SWE</td>\n",
       "      <td>SWE_p2_c</td>\n",
       "      <td>24.134980</td>\n",
       "    </tr>\n",
       "    <tr>\n",
       "      <th>2</th>\n",
       "      <td>2022-11-30 00:00:00</td>\n",
       "      <td>c</td>\n",
       "      <td>0.0</td>\n",
       "      <td>Vpile</td>\n",
       "      <td>Vpile_c</td>\n",
       "      <td>-0.000011</td>\n",
       "    </tr>\n",
       "    <tr>\n",
       "      <th>3</th>\n",
       "      <td>2022-11-30 00:00:00</td>\n",
       "      <td>c</td>\n",
       "      <td>0.0</td>\n",
       "      <td>Vtherm</td>\n",
       "      <td>Vtherm_c</td>\n",
       "      <td>2.004840</td>\n",
       "    </tr>\n",
       "    <tr>\n",
       "      <th>4</th>\n",
       "      <td>2022-11-30 00:00:00</td>\n",
       "      <td>c</td>\n",
       "      <td>0.0</td>\n",
       "      <td>air density</td>\n",
       "      <td>Tsurfairdensity_c</td>\n",
       "      <td>0.992988</td>\n",
       "    </tr>\n",
       "    <tr>\n",
       "      <th>...</th>\n",
       "      <td>...</td>\n",
       "      <td>...</td>\n",
       "      <td>...</td>\n",
       "      <td>...</td>\n",
       "      <td>...</td>\n",
       "      <td>...</td>\n",
       "    </tr>\n",
       "    <tr>\n",
       "      <th>2023-05-09 15:30:00</th>\n",
       "      <td>2023-05-09 15:30:00</td>\n",
       "      <td>c</td>\n",
       "      <td>3.0</td>\n",
       "      <td>z0</td>\n",
       "      <td>z0_windprofile_weekly</td>\n",
       "      <td>0.000844</td>\n",
       "    </tr>\n",
       "    <tr>\n",
       "      <th>2023-05-09 16:00:00</th>\n",
       "      <td>2023-05-09 16:00:00</td>\n",
       "      <td>c</td>\n",
       "      <td>3.0</td>\n",
       "      <td>z0</td>\n",
       "      <td>z0_windprofile_weekly</td>\n",
       "      <td>0.000844</td>\n",
       "    </tr>\n",
       "    <tr>\n",
       "      <th>2023-05-09 16:30:00</th>\n",
       "      <td>2023-05-09 16:30:00</td>\n",
       "      <td>c</td>\n",
       "      <td>3.0</td>\n",
       "      <td>z0</td>\n",
       "      <td>z0_windprofile_weekly</td>\n",
       "      <td>0.000844</td>\n",
       "    </tr>\n",
       "    <tr>\n",
       "      <th>2023-05-09 17:00:00</th>\n",
       "      <td>2023-05-09 17:00:00</td>\n",
       "      <td>c</td>\n",
       "      <td>3.0</td>\n",
       "      <td>z0</td>\n",
       "      <td>z0_windprofile_weekly</td>\n",
       "      <td>0.000844</td>\n",
       "    </tr>\n",
       "    <tr>\n",
       "      <th>2023-05-09 17:30:00</th>\n",
       "      <td>2023-05-09 17:30:00</td>\n",
       "      <td>c</td>\n",
       "      <td>3.0</td>\n",
       "      <td>z0</td>\n",
       "      <td>z0_windprofile_weekly</td>\n",
       "      <td>0.000844</td>\n",
       "    </tr>\n",
       "  </tbody>\n",
       "</table>\n",
       "<p>4798108 rows × 6 columns</p>\n",
       "</div>"
      ],
      "text/plain": [
       "                                   time tower  height  measurement  \\\n",
       "0                   2022-11-30 00:00:00     c     0.0         IDir   \n",
       "1                   2022-11-30 00:00:00     c     0.0          SWE   \n",
       "2                   2022-11-30 00:00:00     c     0.0        Vpile   \n",
       "3                   2022-11-30 00:00:00     c     0.0       Vtherm   \n",
       "4                   2022-11-30 00:00:00     c     0.0  air density   \n",
       "...                                 ...   ...     ...          ...   \n",
       "2023-05-09 15:30:00 2023-05-09 15:30:00     c     3.0           z0   \n",
       "2023-05-09 16:00:00 2023-05-09 16:00:00     c     3.0           z0   \n",
       "2023-05-09 16:30:00 2023-05-09 16:30:00     c     3.0           z0   \n",
       "2023-05-09 17:00:00 2023-05-09 17:00:00     c     3.0           z0   \n",
       "2023-05-09 17:30:00 2023-05-09 17:30:00     c     3.0           z0   \n",
       "\n",
       "                                  variable       value  \n",
       "0                                   IDir_c  139.000000  \n",
       "1                                 SWE_p2_c   24.134980  \n",
       "2                                  Vpile_c   -0.000011  \n",
       "3                                 Vtherm_c    2.004840  \n",
       "4                        Tsurfairdensity_c    0.992988  \n",
       "...                                    ...         ...  \n",
       "2023-05-09 15:30:00  z0_windprofile_weekly    0.000844  \n",
       "2023-05-09 16:00:00  z0_windprofile_weekly    0.000844  \n",
       "2023-05-09 16:30:00  z0_windprofile_weekly    0.000844  \n",
       "2023-05-09 17:00:00  z0_windprofile_weekly    0.000844  \n",
       "2023-05-09 17:30:00  z0_windprofile_weekly    0.000844  \n",
       "\n",
       "[4798108 rows x 6 columns]"
      ]
     },
     "execution_count": 8,
     "metadata": {},
     "output_type": "execute_result"
    }
   ],
   "source": [
    "tidy_df_30Min"
   ]
  },
  {
   "cell_type": "code",
   "execution_count": 9,
   "metadata": {},
   "outputs": [
    {
     "data": {
      "text/plain": [
       "'tidy_df_30Min_20221130_20230509_planar_fit.parquet'"
      ]
     },
     "execution_count": 9,
     "metadata": {},
     "output_type": "execute_result"
    }
   ],
   "source": [
    "output_fn"
   ]
  },
  {
   "cell_type": "code",
   "execution_count": 10,
   "metadata": {},
   "outputs": [],
   "source": [
    "tidy_df_30Min.to_parquet(output_fn, index=False)"
   ]
  },
  {
   "cell_type": "code",
   "execution_count": null,
   "metadata": {},
   "outputs": [],
   "source": []
  }
 ],
 "metadata": {
  "kernelspec": {
   "display_name": "sublimationofsnow",
   "language": "python",
   "name": "python3"
  },
  "language_info": {
   "codemirror_mode": {
    "name": "ipython",
    "version": 3
   },
   "file_extension": ".py",
   "mimetype": "text/x-python",
   "name": "python",
   "nbconvert_exporter": "python",
   "pygments_lexer": "ipython3",
   "version": "3.12.1"
  }
 },
 "nbformat": 4,
 "nbformat_minor": 2
}
