{
 "cells": [
  {
   "cell_type": "code",
   "execution_count": 1,
   "metadata": {},
   "outputs": [],
   "source": [
    "import pandas as pd\n",
    "import numpy as np\n",
    "import altair as alt\n",
    "alt.data_transformers.enable('json')\n",
    "\n",
    "from sublimpy import turbulence\n",
    "import matplotlib.pyplot as plt\n",
    "from sublimpy import tidy\n",
    "import metpy.constants"
   ]
  },
  {
   "cell_type": "markdown",
   "metadata": {},
   "source": [
    "# Open data"
   ]
  },
  {
   "cell_type": "markdown",
   "metadata": {},
   "source": [
    "## Open SOS Measurement Dataset"
   ]
  },
  {
   "cell_type": "code",
   "execution_count": 2,
   "metadata": {},
   "outputs": [],
   "source": [
    "start_date = '20221130'\n",
    "end_date = '20230509'\n",
    "# open files\n",
    "tidy_df_5Min_fn = f'tidy_df_{start_date}_{end_date}_noplanar_fit_clean.parquet'\n",
    "tidy_df_5Min_fn_dirty = f'tidy_df_{start_date}_{end_date}_noplanar_fit.parquet'\n",
    "\n",
    "tidy_df_5Min = pd.read_parquet(tidy_df_5Min_fn)\n",
    "tidy_df_5Min_dirty = pd.read_parquet(tidy_df_5Min_fn_dirty)\n",
    "\n",
    "# convert time column to datetime\n",
    "tidy_df_5Min['time'] = pd.to_datetime(tidy_df_5Min['time'])\n",
    "tidy_df_5Min_dirty['time'] = pd.to_datetime(tidy_df_5Min_dirty['time'])\n",
    "# limit data to our dates of interest, based on continuous snow cover at Kettle Ponds\n",
    "tidy_df_5Min = tidy_df_5Min.set_index('time').sort_index().loc[start_date:end_date].reset_index()\n",
    "tidy_df_5Min_dirty = tidy_df_5Min_dirty.set_index('time').sort_index().loc[start_date:end_date].reset_index()"
   ]
  },
  {
   "cell_type": "markdown",
   "metadata": {},
   "source": [
    "# Open z0 datasets - created with `calculate_roughness_length.ipynb`"
   ]
  },
  {
   "cell_type": "code",
   "execution_count": 3,
   "metadata": {},
   "outputs": [],
   "source": [
    "z0_andreas_df = pd.read_parquet(\"z0estimates/z0_andreas_df.parquet\")\n",
    "z0_andreas_df_weekly = pd.read_parquet(\"z0estimates/z0_andreas_df_weekly.parquet\")"
   ]
  },
  {
   "cell_type": "code",
   "execution_count": 4,
   "metadata": {},
   "outputs": [],
   "source": [
    "time_series = tidy_df_5Min.query(\"variable == 'u*_3m_c'\").time\n",
    "\n",
    "z0_andreas_df = z0_andreas_df.set_index('time').reindex(time_series, method ='bfill')\n",
    "z0_andreas_df_weekly = z0_andreas_df_weekly.set_index('time').reindex(time_series, method ='bfill')"
   ]
  },
  {
   "cell_type": "code",
   "execution_count": 5,
   "metadata": {},
   "outputs": [],
   "source": [
    "tidy_df_5Min_dirty = tidy.tidy_df_add_variable(\n",
    "    tidy_df_5Min_dirty,\n",
    "    z0_andreas_df.z0,\n",
    "    variable='z0_andreas',\n",
    "    measurement='z0',\n",
    "    height=3,\n",
    "    tower='c'\n",
    ")\n",
    "\n",
    "tidy_df_5Min = tidy.tidy_df_add_variable(\n",
    "    tidy_df_5Min,\n",
    "    z0_andreas_df_weekly['all data'],\n",
    "    variable='z0_andreas_weekly',\n",
    "    measurement='z0',\n",
    "    height=3,\n",
    "    tower='c'\n",
    ")\n",
    "\n",
    "\n",
    "tidy_df_5Min_dirty = tidy.tidy_df_add_variable(\n",
    "    tidy_df_5Min_dirty,\n",
    "    z0_andreas_df.z0,\n",
    "    variable='z0_andreas',\n",
    "    measurement='z0',\n",
    "    height=3,\n",
    "    tower='c'\n",
    ")\n",
    "\n",
    "tidy_df_5Min_dirty = tidy.tidy_df_add_variable(\n",
    "    tidy_df_5Min_dirty,\n",
    "    z0_andreas_df_weekly['all data'],\n",
    "    variable='z0_andreas_weekly',\n",
    "    measurement='z0',\n",
    "    height=3,\n",
    "    tower='c'\n",
    ")"
   ]
  },
  {
   "cell_type": "code",
   "execution_count": 6,
   "metadata": {},
   "outputs": [
    {
     "data": {
      "text/html": [
       "\n",
       "<style>\n",
       "  #altair-viz-9a4bed2514a3473688836fb136fe2784.vega-embed {\n",
       "    width: 100%;\n",
       "    display: flex;\n",
       "  }\n",
       "\n",
       "  #altair-viz-9a4bed2514a3473688836fb136fe2784.vega-embed details,\n",
       "  #altair-viz-9a4bed2514a3473688836fb136fe2784.vega-embed details summary {\n",
       "    position: relative;\n",
       "  }\n",
       "</style>\n",
       "<div id=\"altair-viz-9a4bed2514a3473688836fb136fe2784\"></div>\n",
       "<script type=\"text/javascript\">\n",
       "  var VEGA_DEBUG = (typeof VEGA_DEBUG == \"undefined\") ? {} : VEGA_DEBUG;\n",
       "  (function(spec, embedOpt){\n",
       "    let outputDiv = document.currentScript.previousElementSibling;\n",
       "    if (outputDiv.id !== \"altair-viz-9a4bed2514a3473688836fb136fe2784\") {\n",
       "      outputDiv = document.getElementById(\"altair-viz-9a4bed2514a3473688836fb136fe2784\");\n",
       "    }\n",
       "    const paths = {\n",
       "      \"vega\": \"https://cdn.jsdelivr.net/npm/vega@5?noext\",\n",
       "      \"vega-lib\": \"https://cdn.jsdelivr.net/npm/vega-lib?noext\",\n",
       "      \"vega-lite\": \"https://cdn.jsdelivr.net/npm/vega-lite@5.16.3?noext\",\n",
       "      \"vega-embed\": \"https://cdn.jsdelivr.net/npm/vega-embed@6?noext\",\n",
       "    };\n",
       "\n",
       "    function maybeLoadScript(lib, version) {\n",
       "      var key = `${lib.replace(\"-\", \"\")}_version`;\n",
       "      return (VEGA_DEBUG[key] == version) ?\n",
       "        Promise.resolve(paths[lib]) :\n",
       "        new Promise(function(resolve, reject) {\n",
       "          var s = document.createElement('script');\n",
       "          document.getElementsByTagName(\"head\")[0].appendChild(s);\n",
       "          s.async = true;\n",
       "          s.onload = () => {\n",
       "            VEGA_DEBUG[key] = version;\n",
       "            return resolve(paths[lib]);\n",
       "          };\n",
       "          s.onerror = () => reject(`Error loading script: ${paths[lib]}`);\n",
       "          s.src = paths[lib];\n",
       "        });\n",
       "    }\n",
       "\n",
       "    function showError(err) {\n",
       "      outputDiv.innerHTML = `<div class=\"error\" style=\"color:red;\">${err}</div>`;\n",
       "      throw err;\n",
       "    }\n",
       "\n",
       "    function displayChart(vegaEmbed) {\n",
       "      vegaEmbed(outputDiv, spec, embedOpt)\n",
       "        .catch(err => showError(`Javascript Error: ${err.message}<br>This usually means there's a typo in your chart specification. See the javascript console for the full traceback.`));\n",
       "    }\n",
       "\n",
       "    if(typeof define === \"function\" && define.amd) {\n",
       "      requirejs.config({paths});\n",
       "      require([\"vega-embed\"], displayChart, err => showError(`Error loading script: ${err.message}`));\n",
       "    } else {\n",
       "      maybeLoadScript(\"vega\", \"5\")\n",
       "        .then(() => maybeLoadScript(\"vega-lite\", \"5.16.3\"))\n",
       "        .then(() => maybeLoadScript(\"vega-embed\", \"6\"))\n",
       "        .catch(showError)\n",
       "        .then(() => displayChart(vegaEmbed));\n",
       "    }\n",
       "  })({\"config\": {\"view\": {\"continuousWidth\": 300, \"continuousHeight\": 300}}, \"data\": {\"url\": \"altair-data-603cc73308ca086dae52b69977876a8b.json\", \"format\": {\"type\": \"json\"}}, \"mark\": {\"type\": \"line\"}, \"encoding\": {\"color\": {\"field\": \"variable\", \"type\": \"ordinal\"}, \"x\": {\"field\": \"time\", \"type\": \"temporal\"}, \"y\": {\"field\": \"value\", \"scale\": {\"type\": \"log\", \"domain\": [1e-08, 0.1], \"clamp\": true}, \"type\": \"quantitative\"}}, \"width\": 1000, \"$schema\": \"https://vega.github.io/schema/vega-lite/v5.16.3.json\"}, {\"mode\": \"vega-lite\"});\n",
       "</script>"
      ],
      "text/plain": [
       "alt.Chart(...)"
      ]
     },
     "execution_count": 6,
     "metadata": {},
     "output_type": "execute_result"
    }
   ],
   "source": [
    "src = tidy_df_5Min.query(\"measurement == 'z0'\")\n",
    "alt.Chart(src).mark_line().encode(\n",
    "    alt.X(\"time:T\"),\n",
    "    alt.Y(\"value:Q\").scale(type='log', domain=[1e-8, 1e-1], clamp=True),\n",
    "    alt.Color('variable:O')\n",
    ").properties(width=1000)"
   ]
  },
  {
   "cell_type": "code",
   "execution_count": 7,
   "metadata": {},
   "outputs": [],
   "source": [
    "tidy_df_5Min.to_parquet(tidy_df_5Min_fn, index=False)\n",
    "tidy_df_5Min_dirty.to_parquet(tidy_df_5Min_fn_dirty, index=False)"
   ]
  },
  {
   "cell_type": "code",
   "execution_count": 8,
   "metadata": {},
   "outputs": [
    {
     "name": "stdout",
     "output_type": "stream",
     "text": [
      "-rw-r--r--    1 elischwat  staff   257M Feb 20 22:02 tidy_df_20221130_20230509_noplanar_fit.parquet\n",
      "-rw-r--r--    1 elischwat  staff   263M Feb 20 22:02 tidy_df_20221130_20230509_noplanar_fit_clean.parquet\n",
      "-rw-r--r--    1 elischwat  staff    46M Feb 20 21:47 tidy_df_30min_20221130_20230509_noplanar_fit_clean.parquet\n"
     ]
    }
   ],
   "source": [
    "ls -lah | grep tidy | grep parquet"
   ]
  },
  {
   "cell_type": "code",
   "execution_count": null,
   "metadata": {},
   "outputs": [],
   "source": []
  }
 ],
 "metadata": {
  "kernelspec": {
   "display_name": "sublimationofsnow",
   "language": "python",
   "name": "python3"
  },
  "language_info": {
   "codemirror_mode": {
    "name": "ipython",
    "version": 3
   },
   "file_extension": ".py",
   "mimetype": "text/x-python",
   "name": "python",
   "nbconvert_exporter": "python",
   "pygments_lexer": "ipython3",
   "version": "3.12.1"
  }
 },
 "nbformat": 4,
 "nbformat_minor": 2
}
