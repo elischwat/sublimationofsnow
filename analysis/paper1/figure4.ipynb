{
 "cells": [
  {
   "cell_type": "code",
   "execution_count": 1,
   "metadata": {},
   "outputs": [
    {
     "data": {
      "text/plain": [
       "DataTransformerRegistry.enable('json')"
      ]
     },
     "execution_count": 1,
     "metadata": {},
     "output_type": "execute_result"
    }
   ],
   "source": [
    "import pandas as pd\n",
    "import numpy as np\n",
    "import altair as alt\n",
    "alt.data_transformers.enable('json')"
   ]
  },
  {
   "cell_type": "markdown",
   "metadata": {},
   "source": [
    "# Open SOS Measurement Dataset"
   ]
  },
  {
   "cell_type": "code",
   "execution_count": 2,
   "metadata": {},
   "outputs": [],
   "source": [
    "start_date = '20221130'\n",
    "end_date = '20230509'\n",
    "# open files\n",
    "tidy_df_5Min = pd.read_parquet(f'../sos/tidy_df_{start_date}_{end_date}_noplanar_fit_clean.parquet')\n",
    "# tidy_df_30Min = pd.read_parquet(f'../sos/tidy_df_30Min_{start_date}_{end_date}_noplanar_fit.parquet')\n",
    "# convert time column to datetime\n",
    "tidy_df_5Min['time'] = pd.to_datetime(tidy_df_5Min['time'])\n",
    "# tidy_df_30Min['time'] = pd.to_datetime(tidy_df_30Min['time'])\n",
    "# limit data to our dates of interest, based on continuous snow cover at Kettle Ponds\n",
    "tidy_df_5Min = tidy_df_5Min.set_index('time').sort_index().loc[start_date:end_date].reset_index()\n",
    "# tidy_df_30Min = tidy_df_30Min.set_index('time').sort_index().loc[start_date:end_date].reset_index()"
   ]
  },
  {
   "cell_type": "code",
   "execution_count": 3,
   "metadata": {},
   "outputs": [],
   "source": [
    "# quick way to get variable info if we want it \n",
    "# import xarray as xr\n",
    "# ds = xr.open_dataset(\"/storage/elilouis/sublimationofsnow/sosnoqc/isfs_20221228.nc\")\n",
    "# ds['SWE_p2_c']"
   ]
  },
  {
   "cell_type": "markdown",
   "metadata": {},
   "source": [
    "# Create dataset labeled by blowing snow/not"
   ]
  },
  {
   "cell_type": "code",
   "execution_count": 4,
   "metadata": {},
   "outputs": [],
   "source": [
    "blowing_snow_data = tidy_df_5Min[\n",
    "    tidy_df_5Min.time.isin(\n",
    "        tidy_df_5Min[tidy_df_5Min.variable.isin(['SF_avg_1m_ue', 'SF_avg_2m_ue'])].query(\n",
    "            f\"value > 0\"\n",
    "        ).time\n",
    "    )\n",
    "]\n",
    "calm_data = tidy_df_5Min[\n",
    "    ~ tidy_df_5Min.time.isin(\n",
    "        tidy_df_5Min[tidy_df_5Min.variable.isin(['SF_avg_1m_ue', 'SF_avg_2m_ue'])].query(f\"value > 0\").time\n",
    "    )\n",
    "]\n",
    "\n",
    "tidy_5min_by_blowing_df = pd.concat([\n",
    "    blowing_snow_data.assign(type = 'blowing snow'),\n",
    "    calm_data.assign(type = 'clear')\n",
    "])"
   ]
  },
  {
   "cell_type": "code",
   "execution_count": 5,
   "metadata": {},
   "outputs": [],
   "source": [
    "tidy_5min_by_blowing_lh_flux_df = tidy_5min_by_blowing_df[\n",
    "    tidy_5min_by_blowing_df[\"variable\"].isin(['w_h2o__3m_c', 'spd_3m_c', 'Rsw_in_9m_d', 'Rnet_9m_d', 'T_3m_c', 'tke_3m_c'])\n",
    "]\n",
    "tidy_5min_by_blowing_lh_flux_df = tidy_5min_by_blowing_lh_flux_df.pivot_table(\n",
    "    index=['time','type'],\n",
    "    values='value',\n",
    "    columns='variable'\n",
    ").reset_index()\n",
    "\n",
    "# add convenience time columns\n",
    "tidy_5min_by_blowing_lh_flux_df['time_no_date'] = tidy_5min_by_blowing_lh_flux_df['time'].apply(\n",
    "    lambda x: x.replace(year=2023, month=1, day=1)\n",
    ")\n",
    "tidy_5min_by_blowing_lh_flux_df['month'] = tidy_5min_by_blowing_lh_flux_df['time'].dt.month\n",
    "tidy_5min_by_blowing_lh_flux_df['date'] = tidy_5min_by_blowing_lh_flux_df['time'].dt.date"
   ]
  },
  {
   "cell_type": "code",
   "execution_count": 7,
   "metadata": {},
   "outputs": [
    {
     "data": {
      "text/html": [
       "\n",
       "<style>\n",
       "  #altair-viz-ce9bd0815b8349a99524aa300e432ee3.vega-embed {\n",
       "    width: 100%;\n",
       "    display: flex;\n",
       "  }\n",
       "\n",
       "  #altair-viz-ce9bd0815b8349a99524aa300e432ee3.vega-embed details,\n",
       "  #altair-viz-ce9bd0815b8349a99524aa300e432ee3.vega-embed details summary {\n",
       "    position: relative;\n",
       "  }\n",
       "</style>\n",
       "<div id=\"altair-viz-ce9bd0815b8349a99524aa300e432ee3\"></div>\n",
       "<script type=\"text/javascript\">\n",
       "  var VEGA_DEBUG = (typeof VEGA_DEBUG == \"undefined\") ? {} : VEGA_DEBUG;\n",
       "  (function(spec, embedOpt){\n",
       "    let outputDiv = document.currentScript.previousElementSibling;\n",
       "    if (outputDiv.id !== \"altair-viz-ce9bd0815b8349a99524aa300e432ee3\") {\n",
       "      outputDiv = document.getElementById(\"altair-viz-ce9bd0815b8349a99524aa300e432ee3\");\n",
       "    }\n",
       "    const paths = {\n",
       "      \"vega\": \"https://cdn.jsdelivr.net/npm/vega@5?noext\",\n",
       "      \"vega-lib\": \"https://cdn.jsdelivr.net/npm/vega-lib?noext\",\n",
       "      \"vega-lite\": \"https://cdn.jsdelivr.net/npm/vega-lite@5.16.3?noext\",\n",
       "      \"vega-embed\": \"https://cdn.jsdelivr.net/npm/vega-embed@6?noext\",\n",
       "    };\n",
       "\n",
       "    function maybeLoadScript(lib, version) {\n",
       "      var key = `${lib.replace(\"-\", \"\")}_version`;\n",
       "      return (VEGA_DEBUG[key] == version) ?\n",
       "        Promise.resolve(paths[lib]) :\n",
       "        new Promise(function(resolve, reject) {\n",
       "          var s = document.createElement('script');\n",
       "          document.getElementsByTagName(\"head\")[0].appendChild(s);\n",
       "          s.async = true;\n",
       "          s.onload = () => {\n",
       "            VEGA_DEBUG[key] = version;\n",
       "            return resolve(paths[lib]);\n",
       "          };\n",
       "          s.onerror = () => reject(`Error loading script: ${paths[lib]}`);\n",
       "          s.src = paths[lib];\n",
       "        });\n",
       "    }\n",
       "\n",
       "    function showError(err) {\n",
       "      outputDiv.innerHTML = `<div class=\"error\" style=\"color:red;\">${err}</div>`;\n",
       "      throw err;\n",
       "    }\n",
       "\n",
       "    function displayChart(vegaEmbed) {\n",
       "      vegaEmbed(outputDiv, spec, embedOpt)\n",
       "        .catch(err => showError(`Javascript Error: ${err.message}<br>This usually means there's a typo in your chart specification. See the javascript console for the full traceback.`));\n",
       "    }\n",
       "\n",
       "    if(typeof define === \"function\" && define.amd) {\n",
       "      requirejs.config({paths});\n",
       "      require([\"vega-embed\"], displayChart, err => showError(`Error loading script: ${err.message}`));\n",
       "    } else {\n",
       "      maybeLoadScript(\"vega\", \"5\")\n",
       "        .then(() => maybeLoadScript(\"vega-lite\", \"5.16.3\"))\n",
       "        .then(() => maybeLoadScript(\"vega-embed\", \"6\"))\n",
       "        .catch(showError)\n",
       "        .then(() => displayChart(vegaEmbed));\n",
       "    }\n",
       "  })({\"config\": {\"view\": {\"continuousWidth\": 300, \"continuousHeight\": 300}}, \"data\": {\"url\": \"altair-data-58a23894e2fc80b3c896ec793e69246a.json\", \"format\": {\"type\": \"json\"}}, \"mark\": {\"type\": \"line\"}, \"encoding\": {\"color\": {\"field\": \"month\", \"scale\": {\"scheme\": \"turbo\"}, \"sort\": [12, 1, 2, 3, 4, 5], \"type\": \"ordinal\"}, \"row\": {\"field\": \"type\", \"title\": null, \"type\": \"nominal\"}, \"x\": {\"field\": \"time_no_date\", \"title\": \"Time of day\", \"type\": \"temporal\"}, \"y\": {\"field\": \"rolling_mean\", \"title\": [\"LH Flux (g/m^2/s)\", \"(1 hour rolling avg)\"], \"type\": \"quantitative\"}}, \"height\": 150, \"title\": [\"Daily average LH fluxes during each month,\", \"separated by blowing snow and calm conditions\"], \"transform\": [{\"filter\": \"((datum.month !== 11) && (datum.month !== 5))\"}, {\"window\": [{\"op\": \"mean\", \"field\": \"w_h2o__3m_c\", \"as\": \"rolling_mean\"}], \"frame\": [-6, 6], \"groupby\": [\"month\", \"type\"]}], \"width\": 300, \"$schema\": \"https://vega.github.io/schema/vega-lite/v5.16.3.json\"}, {\"mode\": \"vega-lite\"});\n",
       "</script>"
      ],
      "text/plain": [
       "alt.Chart(...)"
      ]
     },
     "execution_count": 7,
     "metadata": {},
     "output_type": "execute_result"
    }
   ],
   "source": [
    "src = tidy_5min_by_blowing_lh_flux_df.groupby([\"time_no_date\", \"month\", \"type\"]).mean(\n",
    "    numeric_only=True\n",
    ").reset_index()\n",
    "\n",
    "alt.Chart(src).transform_filter(\n",
    "    (alt.datum.month != 11) & (alt.datum.month != 5)\n",
    ").transform_window(\n",
    "    frame = [-6, 6],\n",
    "    rolling_mean = \"mean(w_h2o__3m_c)\",\n",
    "    groupby = ['month', 'type']\n",
    ").mark_line().encode(\n",
    "    alt.X(\"time_no_date:T\", title='Time of day'),\n",
    "    alt.Y(\"rolling_mean:Q\", title=['LH Flux (g/m^2/s)','(1 hour rolling avg)']),\n",
    "    alt.Color(\"month:O\", sort=[12,1,2,3,4,5]).scale(scheme='turbo'),\n",
    "    alt.Row(\"type:N\", title=None)\n",
    ").properties(\n",
    "    width=300,\n",
    "    height=150,\n",
    "    title=['Daily average LH fluxes during each month,','separated by blowing snow and calm conditions']\n",
    ")"
   ]
  },
  {
   "cell_type": "code",
   "execution_count": null,
   "metadata": {},
   "outputs": [],
   "source": []
  }
 ],
 "metadata": {
  "kernelspec": {
   "display_name": "arm",
   "language": "python",
   "name": "python3"
  },
  "language_info": {
   "codemirror_mode": {
    "name": "ipython",
    "version": 3
   },
   "file_extension": ".py",
   "mimetype": "text/x-python",
   "name": "python",
   "nbconvert_exporter": "python",
   "pygments_lexer": "ipython3",
   "version": "3.12.1"
  }
 },
 "nbformat": 4,
 "nbformat_minor": 2
}
