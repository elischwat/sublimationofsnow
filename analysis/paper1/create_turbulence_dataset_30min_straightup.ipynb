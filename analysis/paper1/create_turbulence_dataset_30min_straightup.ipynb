{
 "cells": [
  {
   "cell_type": "code",
   "execution_count": 1,
   "metadata": {},
   "outputs": [],
   "source": [
    "import numpy as np\n",
    "import xarray as xr\n",
    "import pandas as pd\n",
    "import datetime as dt\n",
    "\n",
    "from sublimpy import variables\n",
    "from sublimpy import utils\n",
    "from sublimpy import tidy\n",
    "\n",
    "import matplotlib.pyplot as plt\n",
    "\n",
    "import altair as alt\n",
    "alt.data_transformers.enable('json')\n",
    "\n",
    "from metpy.calc import specific_humidity_from_mixing_ratio\n",
    "from metpy.units import units\n",
    "import metpy.constants\n",
    "import pint_pandas\n",
    "import pint_xarray\n",
    "import xarray as xr\n",
    "import os\n",
    "import itertools\n",
    "\n",
    "from tqdm import tqdm\n",
    "from joblib import Parallel, delayed\n",
    "\n",
    "from metpy.constants import density_water"
   ]
  },
  {
   "attachments": {},
   "cell_type": "markdown",
   "metadata": {},
   "source": [
    "# Inputs"
   ]
  },
  {
   "cell_type": "code",
   "execution_count": 2,
   "metadata": {},
   "outputs": [
    {
     "name": "stdout",
     "output_type": "stream",
     "text": [
      "w23_precipitation_mask_0_1_mm.csv   w23_precipitation_mask_0_mm.csv\n",
      "w23_precipitation_mask_0_25_mm.csv  w23_precipitation_mask_1_mm.csv\n",
      "w23_precipitation_mask_0_5_mm.csv\n"
     ]
    }
   ],
   "source": [
    "ls /Users/elischwat/Development/data/sublimationofsnow/precipitation_masks/"
   ]
  },
  {
   "cell_type": "code",
   "execution_count": 3,
   "metadata": {},
   "outputs": [],
   "source": [
    "sos_data_dir = '/Users/elischwat/Development/data/sublimationofsnow/sosqc/sos_qc_geo_tiltcor_v20240307/'\n",
    "\n",
    "# Choices:\n",
    "planar_fitted_dir = \"/Users/elischwat/Development/data/sublimationofsnow/planar_fit_processed_30min\"\n",
    "filtering_str = 'nodespiking'\n",
    "FILTER_SNOWFALL = True\n",
    "snowfall_mask_file = \"/Users/elischwat/Development/data/sublimationofsnow/precipitation_masks/w23_precipitation_mask_0_mm.csv\"\n",
    "snowfall_mask_str = '0mm'\n",
    "PERCENTAGE_DIAG = 36000 \n",
    "\n",
    "# Constants\n",
    "PLANAR_FIT = True\n",
    "start_date = '20221101'\n",
    "end_date = '20230619'\n",
    "DATE_FORMAT_STR = '%Y%m%d'\n",
    "# Threshold number of 20hz samples in a 5 minute average determining if the value\n",
    "# is replaced with NaN\n",
    "datelist = pd.date_range(\n",
    "    dt.datetime.strptime(start_date, DATE_FORMAT_STR),\n",
    "    dt.datetime.strptime(end_date, DATE_FORMAT_STR),\n",
    "    freq='d'\n",
    ").strftime(DATE_FORMAT_STR).tolist()"
   ]
  },
  {
   "cell_type": "code",
   "execution_count": 4,
   "metadata": {},
   "outputs": [],
   "source": [
    "# Separate out the eddy covariance measurement variable names because they are very repetitive\n",
    "ec_measurement_suffixes = [\n",
    "    '1m_ue',    '2m_ue',    '3m_ue',    '10m_ue', \n",
    "    '1m_d',     '2m_d',     '3m_d',     '10m_d',\n",
    "    '1m_uw',    '2m_uw',    '2_5m_uw',  '3m_uw',    '10m_uw', \n",
    "    '1m_c',     '2m_c',     '3m_c',     '5m_c',     '10m_c',    '15m_c',    '20m_c'\n",
    "]\n",
    "\n",
    "sonic_measurement_prefixes = [\n",
    "    'u_', 'v_', 'w_', 'tc_', 'spd_', 'dir_', \n",
    "    'u_u__', 'v_v__', 'w_w__', 'tc_tc__', \n",
    "    'u_w__', 'v_w__', 'u_v__', \n",
    "    'u_tc__', 'v_tc__', 'w_tc__', \n",
    "    'u_u_u__', 'v_v_v__', 'w_w_w__', \n",
    "    'tc_tc_tc__', \n",
    "]\n",
    "irga_measurement_prefixes = [\n",
    "    'h2o_', 'h2o_h2o__', 'h2o_h2o_h2o__', 'co2_', 'co2_co2__', 'co2_co2_co2__', \n",
    "]\n",
    "sonic_plus_irga_measurement_prefixes = [\n",
    "    'u_h2o__', 'v_h2o__', 'w_h2o__', 'u_co2__', 'v_co2__', 'w_co2__', \n",
    "]\n",
    "ec_measurement_prefixes = sonic_measurement_prefixes + irga_measurement_prefixes + sonic_plus_irga_measurement_prefixes\n",
    "\n",
    "ec_variable_names = [\n",
    "    (prefix + suffix) for prefix in ec_measurement_prefixes for suffix in ec_measurement_suffixes\n",
    "]\n",
    "\n",
    "counts_vars = ['counts_' + suffix for suffix in ec_measurement_suffixes]\n",
    "counts_1_vars = ['counts_' + suffix + '_1' for suffix in ec_measurement_suffixes]\n",
    "counts_2_vars = ['counts_' + suffix + '_2' for suffix in ec_measurement_suffixes]\n",
    "irgadiag_vars = ['irgadiag_' + suffix for suffix in ec_measurement_suffixes]\n",
    "ldiag_vars = ['ldiag_' + suffix for suffix in ec_measurement_suffixes]\n",
    "\n",
    "diagnostic_variable_names = counts_vars + counts_1_vars + counts_2_vars + irgadiag_vars + ldiag_vars\n",
    "\n",
    "VARIABLE_NAMES = ec_variable_names + diagnostic_variable_names + [\n",
    "    # Temperature & Relative Humidity Array \n",
    "    'T_1m_c', 'T_2m_c', 'T_3m_c', 'T_4m_c', 'T_5m_c', 'T_6m_c', 'T_7m_c', 'T_8m_c', 'T_9m_c', 'T_10m_c',\n",
    "    'T_11m_c', 'T_12m_c', 'T_13m_c', 'T_14m_c', 'T_15m_c', 'T_16m_c', 'T_17m_c', 'T_18m_c', 'T_19m_c', 'T_20m_c',\n",
    "\n",
    "    'RH_1m_c', 'RH_2m_c', 'RH_3m_c', 'RH_4m_c', 'RH_5m_c', 'RH_6m_c', 'RH_7m_c', 'RH_8m_c', 'RH_9m_c', 'RH_10m_c',\n",
    "    'RH_11m_c','RH_12m_c','RH_13m_c','RH_14m_c','RH_15m_c','RH_16m_c','RH_17m_c','RH_18m_c','RH_19m_c','RH_20m_c',\n",
    "\n",
    "    # Pressure Sensors\n",
    "    'P_20m_c',\n",
    "    'P_10m_c', 'P_10m_d', 'P_10m_uw', 'P_10m_ue',\n",
    "\n",
    "    # Blowing snow/FlowCapt Sensors\n",
    "    'SF_avg_1m_ue', 'SF_avg_2m_ue',\n",
    "\n",
    "    # Apogee sensors\n",
    "    \"Vtherm_c\", \"Vtherm_d\", \"Vtherm_ue\", \"Vtherm_uw\", \n",
    "    \"Vpile_c\", \"Vpile_d\", \"Vpile_ue\", \"Vpile_uw\",\n",
    "    \"IDir_c\", \"IDir_d\", \"IDir_ue\", \"IDir_uw\",\n",
    "\n",
    "    # Snow-level temperature arrays (towers D and UW)\n",
    "    'Tsnow_0_4m_d', 'Tsnow_0_5m_d', 'Tsnow_0_6m_d', 'Tsnow_0_7m_d', 'Tsnow_0_8m_d', 'Tsnow_0_9m_d', 'Tsnow_1_0m_d', 'Tsnow_1_1m_d', 'Tsnow_1_2m_d', 'Tsnow_1_3m_d', 'Tsnow_1_4m_d', 'Tsnow_1_5m_d',\n",
    "    'Tsnow_0_4m_uw', 'Tsnow_0_5m_uw', 'Tsnow_0_6m_uw', 'Tsnow_0_7m_uw', 'Tsnow_0_8m_uw', 'Tsnow_0_9m_uw', 'Tsnow_1_0m_uw', 'Tsnow_1_1m_uw', 'Tsnow_1_2m_uw', 'Tsnow_1_3m_uw', 'Tsnow_1_4m_uw', 'Tsnow_1_5m_uw',\n",
    "    \n",
    "    # Downward/Upward Facing Longwave Radiometers\n",
    "    'Rpile_out_9m_d','Tcase_out_9m_d',    \n",
    "    'Rpile_in_9m_d', 'Tcase_in_9m_d',\n",
    "    'Tcase_uw', 'Rpile_in_uw', 'Rpile_out_uw',\n",
    "    \n",
    "    # Upward facing shortwave radiometer (tower D) - for measuring incoming solar radiation!\n",
    "    'Rsw_in_9m_d', 'Rsw_out_9m_d',\n",
    "\n",
    "    # Snow Pillow SWE\n",
    "    'SWE_p1_c', 'SWE_p2_c', 'SWE_p3_c', 'SWE_p4_c',\n",
    "\n",
    "    # Soil Moisture\n",
    "    'Qsoil_d',\n",
    "\n",
    "    # Ground heat flux\n",
    "    'Gsoil_d',\n",
    "]"
   ]
  },
  {
   "attachments": {},
   "cell_type": "markdown",
   "metadata": {},
   "source": [
    "# Open and concatenate daily SoS datasets"
   ]
  },
  {
   "cell_type": "code",
   "execution_count": 5,
   "metadata": {},
   "outputs": [],
   "source": [
    "# all_file_paths = [\n",
    "#     os.path.join(\n",
    "#         sos_data_dir,\n",
    "#         f'isfs_sos_qc_geo_tiltcor_5min_{date}.nc'\n",
    "#     ) for date in datelist\n",
    "# ]\n",
    "# datasets = []\n",
    "# for file in all_file_paths:\n",
    "#     ds = xr.open_dataset(file)\n",
    "#     # this ensures we don't access variables that aren't in this dataset, which would throw an error\n",
    "#     ds_new = ds[set(ds.data_vars).intersection(VARIABLE_NAMES)]\n",
    "#     datasets.append(ds_new)"
   ]
  },
  {
   "cell_type": "code",
   "execution_count": 6,
   "metadata": {},
   "outputs": [],
   "source": [
    "# all_file_paths"
   ]
  },
  {
   "cell_type": "code",
   "execution_count": 7,
   "metadata": {},
   "outputs": [],
   "source": [
    "# sos_ds = xr.concat(datasets, dim='time')"
   ]
  },
  {
   "cell_type": "markdown",
   "metadata": {},
   "source": [
    "Ensure time index is evenly spaced by filling in any missing timestamps"
   ]
  },
  {
   "cell_type": "code",
   "execution_count": 8,
   "metadata": {},
   "outputs": [],
   "source": [
    "# sos_ds = utils.fill_missing_timestamps(sos_ds)"
   ]
  },
  {
   "cell_type": "markdown",
   "metadata": {},
   "source": [
    "# Save intermediate data product to save time rerunning in the future"
   ]
  },
  {
   "cell_type": "code",
   "execution_count": 9,
   "metadata": {},
   "outputs": [],
   "source": [
    "# sos_ds.to_netcdf(\"sos_ds_temp_storage_30min_straightup.cdf\")"
   ]
  },
  {
   "cell_type": "code",
   "execution_count": 10,
   "metadata": {},
   "outputs": [],
   "source": [
    "sos_ds = xr.open_dataset(\"sos_ds_temp_storage_30min_straightup.cdf\")"
   ]
  },
  {
   "cell_type": "markdown",
   "metadata": {},
   "source": [
    "# Replace flag variables with my calculated aggregated flags\n",
    "(sonic anemometer and irgason flags)"
   ]
  },
  {
   "cell_type": "code",
   "execution_count": 11,
   "metadata": {},
   "outputs": [],
   "source": [
    "flag_counts_df = pd.read_parquet(\"/Users/elischwat/Development/data/sublimationofsnow/sosqc_fast_flagcounts\").loc[start_date: end_date]\n",
    "assert all(sos_ds.time == flag_counts_df.index)"
   ]
  },
  {
   "cell_type": "code",
   "execution_count": 12,
   "metadata": {},
   "outputs": [],
   "source": [
    "irga_vars = [\n",
    "    'irgadiag_10m_c',\t 'irgadiag_10m_d',\t 'irgadiag_10m_ue',\t 'irgadiag_10m_uw',\t 'irgadiag_15m_c',\t 'irgadiag_1m_c',\t 'irgadiag_1m_d',\t 'irgadiag_1m_ue',\t \n",
    "    'irgadiag_1m_uw',\t 'irgadiag_20m_c',\t 'irgadiag_2m_c',\t 'irgadiag_3m_c',\t 'irgadiag_3m_d',\t 'irgadiag_3m_ue',\t 'irgadiag_3m_uw',\t 'irgadiag_5m_c',\t\n",
    "]\n",
    "\n",
    "ldiag_vars = [\n",
    "    'ldiag_10m_c', 'ldiag_10m_d', 'ldiag_10m_ue', 'ldiag_10m_uw', 'ldiag_15m_c', 'ldiag_1m_c', 'ldiag_1m_d', 'ldiag_1m_ue', \n",
    "    'ldiag_1m_uw', 'ldiag_20m_c', 'ldiag_2m_c', 'ldiag_3m_c', 'ldiag_3m_d', 'ldiag_3m_ue', 'ldiag_3m_uw', 'ldiag_5m_c',\n",
    "]\n",
    "\n",
    "for var in irga_vars + ldiag_vars:\n",
    "    sos_ds[var] = flag_counts_df[var]"
   ]
  },
  {
   "cell_type": "markdown",
   "metadata": {},
   "source": [
    "# Resample dataset"
   ]
  },
  {
   "cell_type": "markdown",
   "metadata": {},
   "source": [
    "## Define dictionary defining the resampling function to use for each variable\n",
    "\n",
    "Covariances are resampled according to the rules of **Reynold averaging** (https://www.eol.ucar.edu/content/combining-short-term-moments-longer-time-periods).\n",
    "\n",
    "Meteorological and turbulence measurements (other than covariances) are resampled using the **mean**.\n",
    "\n",
    "EC count variables are **summed**."
   ]
  },
  {
   "cell_type": "code",
   "execution_count": 13,
   "metadata": {},
   "outputs": [],
   "source": [
    "data_vars_processing_dict = {\n",
    "    'reynolds_average': [\n",
    "        'u_u__1m_uw',    'v_v__1m_uw',    'w_w__1m_uw',    'u_w__1m_uw',    'v_w__1m_uw',  'u_tc__1m_uw',  'v_tc__1m_uw',   'u_co2__1m_uw', 'u_h2o__1m_uw',  'v_co2__1m_uw', 'v_h2o__1m_uw',   'w_tc__1m_uw',   'w_co2__1m_uw', 'w_h2o__1m_uw',\n",
    "        'u_u__2m_uw',    'v_v__2m_uw',    'w_w__2m_uw',    'u_w__2m_uw',    'v_w__2m_uw',  'u_tc__2m_uw',  'v_tc__2m_uw',   'u_co2__2m_uw', 'u_h2o__2m_uw',  'v_co2__2m_uw', 'v_h2o__2m_uw',   'w_tc__2m_uw',   'w_co2__2m_uw', 'w_h2o__2m_uw',\n",
    "        'u_u__2_5m_uw', 'v_v__2_5m_uw',   'w_w__2_5m_uw',  'u_w__2_5m_uw',  'v_w__2_5m_uw','u_tc__2_5m_uw','v_tc__2_5m_uw', 'u_co2__2_5m_uw', 'u_h2o__2_5m_uw','v_h2o__2_5m_uw', 'w_tc__2_5m_uw', 'w_co2__2_5m_uw', 'w_h2o__2_5m_uw',\n",
    "        'u_u__3m_uw',    'v_v__3m_uw',    'w_w__3m_uw',    'u_w__3m_uw',    'v_w__3m_uw',  'u_tc__3m_uw',  'v_tc__3m_uw',   'u_co2__3m_uw', 'u_h2o__3m_uw',  'v_co2__3m_uw', 'v_h2o__3m_uw',   'w_tc__3m_uw',   'w_co2__3m_uw', 'w_h2o__3m_uw',\n",
    "        'u_u__10m_uw',   'v_v__10m_uw',   'w_w__10m_uw',   'u_w__10m_uw',   'v_w__10m_uw', 'u_tc__10m_uw', 'v_tc__10m_uw',  'u_co2__10m_uw', 'u_h2o__10m_uw', 'v_co2__10m_uw', 'v_h2o__10m_uw',  'w_tc__10m_uw',  'w_co2__10m_uw', 'w_h2o__10m_uw',\n",
    "        'u_u__1m_ue',    'v_v__1m_ue',    'w_w__1m_ue',    'u_w__1m_ue',    'v_w__1m_ue',  'u_tc__1m_ue',  'v_tc__1m_ue',   'u_co2__1m_ue', 'u_h2o__1m_ue',  'v_co2__1m_ue', 'v_h2o__1m_ue',   'w_tc__1m_ue',   'w_co2__1m_ue', 'w_h2o__1m_ue',\n",
    "        'u_u__2m_ue',    'v_v__2m_ue',    'w_w__2m_ue',    'u_w__2m_ue',    'v_w__2m_ue',  'u_tc__2m_ue',  'v_tc__2m_ue',   'u_co2__2m_ue', 'u_h2o__2m_ue',  'v_co2__2m_ue', 'v_h2o__2m_ue',   'w_tc__2m_ue',   'w_co2__2m_ue', 'w_h2o__2m_ue',\n",
    "        'u_u__3m_ue',    'v_v__3m_ue',    'w_w__3m_ue',    'u_w__3m_ue',    'v_w__3m_ue',  'u_tc__3m_ue',  'v_tc__3m_ue',   'u_co2__3m_ue', 'u_h2o__3m_ue',  'v_co2__3m_ue', 'v_h2o__3m_ue',   'w_tc__3m_ue',   'w_co2__3m_ue', 'w_h2o__3m_ue',\n",
    "        'u_u__10m_ue',   'v_v__10m_ue',   'w_w__10m_ue',   'u_w__10m_ue',   'v_w__10m_ue', 'u_tc__10m_ue', 'v_tc__10m_ue',  'u_co2__10m_ue', 'u_h2o__10m_ue', 'v_co2__10m_ue', 'v_h2o__10m_ue',  'w_tc__10m_ue',  'w_co2__10m_ue', 'w_h2o__10m_ue',\n",
    "        'u_u__1m_d',     'v_v__1m_d',     'w_w__1m_d',     'u_w__1m_d',     'v_w__1m_d',   'u_tc__1m_d',   'v_tc__1m_d',    'u_co2__1m_d', 'u_h2o__1m_d',   'v_co2__1m_d', 'v_h2o__1m_d',    'w_tc__1m_d',    'w_co2__1m_d', 'w_h2o__1m_d',\n",
    "        'u_u__2m_d',     'v_v__2m_d',     'w_w__2m_d',     'u_w__2m_d',     'v_w__2m_d',   'u_tc__2m_d',   'v_tc__2m_d',    'u_co2__2m_d', 'u_h2o__2m_d',   'v_co2__2m_d', 'v_h2o__2m_d',    'w_tc__2m_d',    'w_co2__2m_d', 'w_h2o__2m_d',\n",
    "        'u_u__3m_d',     'v_v__3m_d',     'w_w__3m_d',     'u_w__3m_d',     'v_w__3m_d',   'u_tc__3m_d',   'v_tc__3m_d',    'u_co2__3m_d', 'u_h2o__3m_d',   'v_co2__3m_d', 'v_h2o__3m_d',    'w_tc__3m_d',    'w_co2__3m_d', 'w_h2o__3m_d',\n",
    "        'u_u__10m_d',    'v_v__10m_d',    'w_w__10m_d',    'u_w__10m_d',    'v_w__10m_d',  'u_tc__10m_d',  'v_tc__10m_d',   'u_co2__10m_d', 'u_h2o__10m_d',  'v_co2__10m_d', 'v_h2o__10m_d',   'w_tc__10m_d',   'w_co2__10m_d', 'w_h2o__10m_d',\n",
    "        'u_u__1m_c',     'v_v__1m_c',     'w_w__1m_c',     'u_w__1m_c',     'v_w__1m_c',   'u_tc__1m_c',   'v_tc__1m_c',    'u_co2__1m_c', 'u_h2o__1m_c',   'v_co2__1m_c', 'v_h2o__1m_c',    'w_tc__1m_c',    'w_co2__1m_c', 'w_h2o__1m_c',\n",
    "        'u_u__2m_c',     'v_v__2m_c',     'w_w__2m_c',     'u_w__2m_c',     'v_w__2m_c',   'u_tc__2m_c',   'v_tc__2m_c',    'u_co2__2m_c', 'u_h2o__2m_c',   'v_co2__2m_c', 'v_h2o__2m_c',    'w_tc__2m_c',    'w_co2__2m_c', 'w_h2o__2m_c',\n",
    "        'u_u__3m_c',     'v_v__3m_c',     'w_w__3m_c',     'u_w__3m_c',     'v_w__3m_c',   'u_tc__3m_c',   'v_tc__3m_c',    'u_co2__3m_c', 'u_h2o__3m_c',   'v_co2__3m_c', 'v_h2o__3m_c',    'w_tc__3m_c',    'w_co2__3m_c', 'w_h2o__3m_c',\n",
    "        'u_u__5m_c',     'v_v__5m_c',     'w_w__5m_c',     'u_w__5m_c',     'v_w__5m_c',   'u_tc__5m_c',   'v_tc__5m_c',    'u_co2__5m_c', 'u_h2o__5m_c',   'v_co2__5m_c', 'v_h2o__5m_c',    'w_tc__5m_c',    'w_co2__5m_c', 'w_h2o__5m_c',\n",
    "        'u_u__10m_c',    'v_v__10m_c',    'w_w__10m_c',    'u_w__10m_c',    'v_w__10m_c',  'u_tc__10m_c',  'v_tc__10m_c',   'u_co2__10m_c', 'u_h2o__10m_c',  'v_co2__10m_c', 'v_h2o__10m_c',   'w_tc__10m_c',   'w_co2__10m_c', 'w_h2o__10m_c',\n",
    "        'u_u__15m_c',    'v_v__15m_c',    'w_w__15m_c',    'u_w__15m_c',    'v_w__15m_c',  'u_tc__15m_c',  'v_tc__15m_c',   'u_co2__15m_c', 'u_h2o__15m_c',  'v_co2__15m_c', 'v_h2o__15m_c',   'w_tc__15m_c',   'w_co2__15m_c', 'w_h2o__15m_c',\n",
    "        'u_u__20m_c',    'v_v__20m_c',    'w_w__20m_c',    'u_w__20m_c',    'v_w__20m_c',  'u_tc__20m_c',  'v_tc__20m_c',   'u_co2__20m_c', 'u_h2o__20m_c',  'v_co2__20m_c', 'v_h2o__20m_c',   'w_tc__20m_c',   'w_co2__20m_c', 'w_h2o__20m_c',\n",
    "    ],\n",
    "    'average': [\n",
    "        # Sonic anemometer data\n",
    "        'co2_1m_uw', 'h2o_1m_uw' ,       'tc_1m_uw',     'spd_1m_uw',    'u_1m_uw',  'v_1m_uw',   'w_1m_uw',  \n",
    "        'co2_3m_uw', 'h2o_3m_uw' ,       'tc_3m_uw',     'spd_3m_uw',    'u_3m_uw',  'v_3m_uw',   'w_3m_uw',  \n",
    "        'co2_10m_uw', 'h2o_10m_uw' ,      'tc_10m_uw',    'spd_10m_uw',   'u_10m_uw', 'v_10m_uw',  'w_10m_uw',  \n",
    "        'co2_1m_ue', 'h2o_1m_ue' ,       'tc_1m_ue',     'spd_1m_ue',    'u_1m_ue',  'v_1m_ue',   'w_1m_ue',  \n",
    "        'co2_3m_ue', 'h2o_3m_ue' ,       'tc_3m_ue',     'spd_3m_ue',    'u_3m_ue',  'v_3m_ue',   'w_3m_ue',  \n",
    "        'co2_10m_ue', 'h2o_10m_ue' ,      'tc_10m_ue',    'spd_10m_ue',   'u_10m_ue', 'v_10m_ue',  'w_10m_ue',  \n",
    "        'co2_1m_d', 'h2o_1m_d' ,        'tc_1m_d',      'spd_1m_d',     'u_1m_d',   'v_1m_d',    'w_1m_d',  \n",
    "        'co2_3m_d', 'h2o_3m_d' ,        'tc_3m_d',      'spd_3m_d',     'u_3m_d',   'v_3m_d',    'w_3m_d',  \n",
    "        'co2_10m_d', 'h2o_10m_d' ,       'tc_10m_d',     'spd_10m_d',    'u_10m_d',  'v_10m_d',   'w_10m_d',  \n",
    "        'co2_1m_c', 'h2o_1m_c' ,        'tc_1m_c',      'spd_1m_c',     'u_1m_c',   'v_1m_c',    'w_1m_c',  \n",
    "        'co2_2m_c', 'h2o_2m_c' ,        'tc_2m_c',      'spd_2m_c',     'u_2m_c',   'v_2m_c',    'w_2m_c',  \n",
    "        'co2_3m_c', 'h2o_3m_c' ,        'tc_3m_c',      'spd_3m_c',     'u_3m_c',   'v_3m_c',    'w_3m_c',  \n",
    "        'co2_5m_c', 'h2o_5m_c' ,        'tc_5m_c',      'spd_5m_c',     'u_5m_c',   'v_5m_c',    'w_5m_c',  \n",
    "        'co2_10m_c', 'h2o_10m_c' ,       'tc_10m_c',     'spd_10m_c',    'u_10m_c',  'v_10m_c',   'w_10m_c',  \n",
    "        'co2_15m_c', 'h2o_15m_c' ,       'tc_15m_c',     'spd_15m_c',    'u_15m_c',  'v_15m_c',   'w_15m_c',  \n",
    "        'co2_20m_c', 'h2o_20m_c' ,       'tc_20m_c',     'spd_20m_c',    'u_20m_c',  'v_20m_c',   'w_20m_c',  \n",
    "\n",
    "        # Temperature & Relative Humidity Array \n",
    "        'T_1m_c', 'T_2m_c', 'T_3m_c', 'T_4m_c', 'T_5m_c', 'T_6m_c', 'T_7m_c', 'T_8m_c', 'T_9m_c', 'T_10m_c',\n",
    "        'T_11m_c', 'T_12m_c', 'T_13m_c', 'T_14m_c', 'T_15m_c', 'T_16m_c', 'T_17m_c', 'T_18m_c', 'T_19m_c', 'T_20m_c',\n",
    "\n",
    "        'RH_1m_c', 'RH_2m_c', 'RH_3m_c', 'RH_4m_c', 'RH_5m_c', 'RH_6m_c', 'RH_7m_c', 'RH_8m_c', 'RH_9m_c', 'RH_10m_c',\n",
    "        'RH_11m_c','RH_12m_c','RH_13m_c','RH_14m_c','RH_15m_c','RH_16m_c','RH_17m_c','RH_18m_c','RH_19m_c','RH_20m_c',\n",
    "\n",
    "        # Pressure Sensors\n",
    "        'P_20m_c',\n",
    "        'P_10m_c', 'P_10m_d', 'P_10m_uw', 'P_10m_ue',\n",
    "\n",
    "        # Blowing snow/FlowCapt Sensors\n",
    "        'SF_avg_1m_ue', 'SF_avg_2m_ue',\n",
    "\n",
    "        # Apogee sensors\n",
    "        \"Vtherm_c\", \"Vtherm_d\", \"Vtherm_ue\", \"Vtherm_uw\", \n",
    "        \"Vpile_c\", \"Vpile_d\", \"Vpile_ue\", \"Vpile_uw\",\n",
    "        \"IDir_c\", \"IDir_d\", \"IDir_ue\", \"IDir_uw\",\n",
    "\n",
    "        # Snow-level temperature arrays (towers D and UW)\n",
    "        'Tsnow_0_4m_d', 'Tsnow_0_5m_d', 'Tsnow_0_6m_d', 'Tsnow_0_7m_d', 'Tsnow_0_8m_d', 'Tsnow_0_9m_d', 'Tsnow_1_0m_d', 'Tsnow_1_1m_d', 'Tsnow_1_2m_d', 'Tsnow_1_3m_d', 'Tsnow_1_4m_d', 'Tsnow_1_5m_d',\n",
    "        'Tsnow_0_4m_uw', 'Tsnow_0_5m_uw', 'Tsnow_0_6m_uw', 'Tsnow_0_7m_uw', 'Tsnow_0_8m_uw', 'Tsnow_0_9m_uw', 'Tsnow_1_0m_uw', 'Tsnow_1_1m_uw', 'Tsnow_1_2m_uw', 'Tsnow_1_3m_uw', 'Tsnow_1_4m_uw', 'Tsnow_1_5m_uw',\n",
    "        \n",
    "        # Downward Facing Longwave Radiometer (tower D) - for measuring snow surface temperature\n",
    "        'Rpile_out_9m_d',\n",
    "        'Tcase_out_9m_d',    \n",
    "        # Upward Facing Longwave Radiometer (tower D)\n",
    "        'Rpile_in_9m_d',\n",
    "        'Tcase_in_9m_d',\n",
    "        # Downward Facing Longwave Radiometer (tower UW) - for measuring snow surface temperature\n",
    "        'Tcase_uw', 'Rpile_in_uw', 'Rpile_out_uw',\n",
    "        \n",
    "        # Upward facing shortwave radiometer (tower D) - for measuring incoming solar radiation!\n",
    "        'Rsw_in_9m_d',\n",
    "        'Rsw_out_9m_d',\n",
    "\n",
    "        # Snow Pillow SWE\n",
    "        'SWE_p1_c', 'SWE_p2_c', 'SWE_p3_c', 'SWE_p4_c',\n",
    "\n",
    "        # Soil Moisture\n",
    "        'Qsoil_d',\n",
    "\n",
    "        # Soil Moisture\n",
    "        'Gsoil_d',\n",
    "    ],\n",
    "    'median' : [\n",
    "        'dir_1m_uw',    \n",
    "        'dir_3m_uw',    \n",
    "        'dir_10m_uw',   \n",
    "        'dir_1m_ue',    \n",
    "        'dir_3m_ue',    \n",
    "        'dir_10m_ue',   \n",
    "        'dir_1m_d',     \n",
    "        'dir_3m_d',     \n",
    "        'dir_10m_d',    \n",
    "        'dir_1m_c',     \n",
    "        'dir_2m_c',     \n",
    "        'dir_3m_c',     \n",
    "        'dir_5m_c',     \n",
    "        'dir_10m_c',    \n",
    "        'dir_15m_c',    \n",
    "        'dir_20m_c',    \n",
    "    ],\n",
    "    'sum' : [\n",
    "        # Counts of UNflagged instantaneous (20hz) eddy covariance measurements\n",
    "        'counts_1m_c',    'counts_1m_c_1',    'counts_1m_c_2',    \n",
    "        'counts_2m_c',    'counts_2m_c_1',    'counts_2m_c_2',    \n",
    "        'counts_3m_c',    'counts_3m_c_1',    'counts_3m_c_2',    \n",
    "        'counts_5m_c',    'counts_5m_c_1',    'counts_5m_c_2',    \n",
    "        'counts_10m_c',   'counts_10m_c_1',   'counts_10m_c_2',   \n",
    "        'counts_15m_c',   'counts_15m_c_1',   'counts_15m_c_2',   \n",
    "        'counts_20m_c',   'counts_20m_c_1',   'counts_20m_c_2',   \n",
    "        'counts_1m_uw',   'counts_1m_uw_1',   'counts_1m_uw_2',   \n",
    "        'counts_3m_uw',   'counts_3m_uw_1',   'counts_3m_uw_2',   \n",
    "        'counts_10m_uw',  'counts_10m_uw_1',  'counts_10m_uw_2',  \n",
    "        'counts_1m_ue',   'counts_1m_ue_1',   'counts_1m_ue_2',   \n",
    "        'counts_3m_ue',   'counts_3m_ue_1',   'counts_3m_ue_2',   \n",
    "        'counts_10m_ue',  'counts_10m_ue_1',  'counts_10m_ue_2',  \n",
    "        'counts_1m_d',    'counts_1m_d_1',    'counts_1m_d_2',    \n",
    "        'counts_3m_d',    'counts_3m_d_1',    'counts_3m_d_2',    \n",
    "        'counts_10m_d',   'counts_10m_d_1',   'counts_10m_d_2',   \n",
    "\n",
    "        # Counts of FLAGGED 20hz measurements \n",
    "        'irgadiag_1m_c',    'ldiag_1m_c',\n",
    "        'irgadiag_2m_c',    'ldiag_2m_c',\n",
    "        'irgadiag_3m_c',    'ldiag_3m_c',\n",
    "        'irgadiag_5m_c',    'ldiag_5m_c',\n",
    "        'irgadiag_10m_c',   'ldiag_10m_c',\n",
    "        'irgadiag_15m_c',   'ldiag_15m_c',\n",
    "        'irgadiag_20m_c',   'ldiag_20m_c',\n",
    "        'irgadiag_1m_uw',   'ldiag_1m_uw',\n",
    "        'irgadiag_3m_uw',   'ldiag_3m_uw',\n",
    "        'irgadiag_10m_uw',  'ldiag_10m_uw',\n",
    "        'irgadiag_1m_ue',   'ldiag_1m_ue',\n",
    "        'irgadiag_3m_ue',   'ldiag_3m_ue',\n",
    "        'irgadiag_10m_ue',  'ldiag_10m_ue',\n",
    "        'irgadiag_1m_d',    'ldiag_1m_d',\n",
    "        'irgadiag_3m_d',    'ldiag_3m_d',\n",
    "        'irgadiag_10m_d',   'ldiag_10m_d',\n",
    "    ]\n",
    "}"
   ]
  },
  {
   "cell_type": "markdown",
   "metadata": {},
   "source": [
    "## Define function for resampling covariances"
   ]
  },
  {
   "cell_type": "code",
   "execution_count": 14,
   "metadata": {},
   "outputs": [],
   "source": [
    "def separate_covariance_variable_name(cov_name):\n",
    "    \"\"\"Get the names of the two mean variables associated with a covariance variable. Built to use\n",
    "    with SOS datasets. For example, one might provide `w_h2o__3m_c` and this function will return\n",
    "    `w_3m_c` and `h2o_3m_c`.\n",
    "\n",
    "    Args:\n",
    "        cov_name (str): name of variable that you want to separate into the two names of the \n",
    "        asssociated mean variables.\n",
    "\n",
    "    Returns:\n",
    "        var1, var 2 (str, str): two strings with the names of the two mean variables\n",
    "    \"\"\"\n",
    "    [first_parts, second_part] = cov_name.split('__')\n",
    "    [var1, var2] = first_parts.split('_')\n",
    "    [var1, var2] = [\n",
    "        var1 +'_' + second_part,\n",
    "        var2 +'_' + second_part,\n",
    "    ]\n",
    "    return var1, var2\n",
    "\n",
    "def resample_moment(df, cov, mean1, mean2, new_frequency, n_in_new_re_length, skipna=True):\n",
    "    \"\"\"Combines moments into longer time periods, using reynolds averaging. Built to use with SOS \n",
    "    datasets. Resampling covariances which have been calculated for a specific Reynolds\n",
    "    averaging length (e.g. the SOS datasets are averaged to 5minutes), you need both the mean\n",
    "    values and covariance. For example, the variable `w_h2o__3m_c` is associated with mean values\n",
    "    `w_3m_c` and `h2o_3m_c`. To reasmple `w_h2o__3m_c` to another averaging length, we need the three\n",
    "    variables.\n",
    "\n",
    "    Args:\n",
    "        df (pd.Dataframe): Dataframe containing the three columns required for calculations (contains)\n",
    "                    the names supplied as parameters `cov`, `mean1`, and `mean2`.\n",
    "        cov (str): Name of covariance variable to resample using Reynolds averaing\n",
    "        mean1 (str): Name of one of the two mean variables associated with `cov`\n",
    "        mean2 (str): Name of the other mean variable associated with `cov`\n",
    "        new_frequency (str): String interpretable by pandas/xarray that describes the reynolds length you \n",
    "            are resampling to. EG: '60Min'\n",
    "        n_in_new_re_length (_type_): Number of 5 minute intervals that fit in the new_frequency. E.G. for\n",
    "            new_frequency='60Min', you would provide 12.\n",
    "        skipna (bool, optional): Whether to skip NaNs when calculating the new variables. Providing True\n",
    "            will allow more moments to be calculated, but those moments may be inaccurate/non-representative.\n",
    "            Providing False will result in more missing data.\n",
    "\n",
    "    Returns:\n",
    "        pd.DataFrame: Dataframe with resampled data.\n",
    "    \"\"\"\n",
    "    return pd.DataFrame({\n",
    "            cov: df.groupby(pd.Grouper(freq=new_frequency)).apply(\n",
    "                lambda row: \n",
    "                    (1/n_in_new_re_length)*(row[cov] + row[mean1]*row[mean2]).sum(skipna=skipna)\n",
    "                    - (\n",
    "                        (1/n_in_new_re_length)*row[mean1].sum(skipna=skipna)\n",
    "                        * (1/n_in_new_re_length)*row[mean2].sum(skipna=skipna)\n",
    "                    )\n",
    "            )\n",
    "        })\n",
    "\n",
    "def resample(ds, new_frequency, n_in_new_re_length, skipna=True):\n",
    "    \"\"\"Resample SOS xarray datasets, applying the proper aggregation function\n",
    "    for different variables. Some are resampled by taking the mean, some by \n",
    "    summing, and others by Reynolds averaging. \n",
    "    \"\"\"\n",
    "    # Resample data vars that need to be averaged (plain old averaging)\n",
    "    # Use built in xarray functionality\n",
    "    resampled_averages = ds[\n",
    "        data_vars_processing_dict['average']\n",
    "    ].to_dataframe().resample(new_frequency).mean().to_xarray()\n",
    "\n",
    "    resampled_medians = ds[\n",
    "        data_vars_processing_dict['median']\n",
    "    ].to_dataframe().resample(new_frequency).median().to_xarray()\n",
    "    \n",
    "    # Resample data vars that need to be summed\n",
    "    # Use built in xarray functionality\n",
    "    resampled_sums = ds[\n",
    "        data_vars_processing_dict['sum']\n",
    "    ].to_dataframe().resample(new_frequency).sum().to_xarray()\n",
    "    \n",
    "    # Resample data vars that need to be summed using the rules of Reynolds Averaging\n",
    "    # Use our custom function defined above\n",
    "    resampled_reynolds_averages_list = []\n",
    "    def split_covariance_name_and_resample(name):\n",
    "        mean_var1, mean_var2 = separate_covariance_variable_name(name)\n",
    "        resampled = resample_moment(\n",
    "            ds[[mean_var1, mean_var2, name]].to_dataframe(), \n",
    "            name, \n",
    "            mean_var1, \n",
    "            mean_var2, \n",
    "            new_frequency, \n",
    "            n_in_new_re_length, \n",
    "            skipna=skipna\n",
    "        )\n",
    "        return resampled.to_xarray()\n",
    "    resampled_reynolds_averages_list =  Parallel(n_jobs = 8)(\n",
    "        delayed(split_covariance_name_and_resample)(name) \n",
    "        for name in tqdm(data_vars_processing_dict['reynolds_average'])\n",
    "    )\n",
    "    \n",
    "    new_ds = xr.merge(\n",
    "        [\n",
    "            resampled_sums, \n",
    "            resampled_medians,\n",
    "            resampled_averages\n",
    "        ] + resampled_reynolds_averages_list\n",
    "    )\n",
    "\n",
    "    ## Copy attributes from the original dataset\n",
    "    new_ds.attrs = ds.attrs\n",
    "    for var in new_ds:\n",
    "        new_ds[var].attrs = ds[var].attrs\n",
    "    return new_ds"
   ]
  },
  {
   "cell_type": "markdown",
   "metadata": {},
   "source": [
    "## Resample variables"
   ]
  },
  {
   "cell_type": "code",
   "execution_count": 15,
   "metadata": {},
   "outputs": [
    {
     "name": "stderr",
     "output_type": "stream",
     "text": [
      "  9%|▊         | 24/279 [00:03<00:37,  6.76it/s]/Users/elischwat/miniforge3/envs/sublimationofsnow/lib/python3.12/site-packages/joblib/externals/loky/process_executor.py:752: UserWarning: A worker stopped while some jobs were given to the executor. This can be caused by a too short worker timeout or by a memory leak.\n",
      "  warnings.warn(\n",
      "100%|██████████| 279/279 [01:02<00:00,  4.47it/s]\n"
     ]
    }
   ],
   "source": [
    "sos_ds30min = resample(sos_ds, '30Min', 6, skipna=True)"
   ]
  },
  {
   "cell_type": "code",
   "execution_count": 16,
   "metadata": {},
   "outputs": [],
   "source": [
    "sos_ds5min = sos_ds\n",
    "sos_ds = sos_ds30min"
   ]
  },
  {
   "cell_type": "markdown",
   "metadata": {},
   "source": [
    "# Replace fluxes with planar fitted fluxes"
   ]
  },
  {
   "cell_type": "code",
   "execution_count": 17,
   "metadata": {},
   "outputs": [
    {
     "data": {
      "text/html": [
       "\n",
       "<style>\n",
       "  #altair-viz-41e041f6b90540e292fd9835c0e1b9f8.vega-embed {\n",
       "    width: 100%;\n",
       "    display: flex;\n",
       "  }\n",
       "\n",
       "  #altair-viz-41e041f6b90540e292fd9835c0e1b9f8.vega-embed details,\n",
       "  #altair-viz-41e041f6b90540e292fd9835c0e1b9f8.vega-embed details summary {\n",
       "    position: relative;\n",
       "  }\n",
       "</style>\n",
       "<div id=\"altair-viz-41e041f6b90540e292fd9835c0e1b9f8\"></div>\n",
       "<script type=\"text/javascript\">\n",
       "  var VEGA_DEBUG = (typeof VEGA_DEBUG == \"undefined\") ? {} : VEGA_DEBUG;\n",
       "  (function(spec, embedOpt){\n",
       "    let outputDiv = document.currentScript.previousElementSibling;\n",
       "    if (outputDiv.id !== \"altair-viz-41e041f6b90540e292fd9835c0e1b9f8\") {\n",
       "      outputDiv = document.getElementById(\"altair-viz-41e041f6b90540e292fd9835c0e1b9f8\");\n",
       "    }\n",
       "    const paths = {\n",
       "      \"vega\": \"https://cdn.jsdelivr.net/npm/vega@5?noext\",\n",
       "      \"vega-lib\": \"https://cdn.jsdelivr.net/npm/vega-lib?noext\",\n",
       "      \"vega-lite\": \"https://cdn.jsdelivr.net/npm/vega-lite@5.20.1?noext\",\n",
       "      \"vega-embed\": \"https://cdn.jsdelivr.net/npm/vega-embed@6?noext\",\n",
       "    };\n",
       "\n",
       "    function maybeLoadScript(lib, version) {\n",
       "      var key = `${lib.replace(\"-\", \"\")}_version`;\n",
       "      return (VEGA_DEBUG[key] == version) ?\n",
       "        Promise.resolve(paths[lib]) :\n",
       "        new Promise(function(resolve, reject) {\n",
       "          var s = document.createElement('script');\n",
       "          document.getElementsByTagName(\"head\")[0].appendChild(s);\n",
       "          s.async = true;\n",
       "          s.onload = () => {\n",
       "            VEGA_DEBUG[key] = version;\n",
       "            return resolve(paths[lib]);\n",
       "          };\n",
       "          s.onerror = () => reject(`Error loading script: ${paths[lib]}`);\n",
       "          s.src = paths[lib];\n",
       "        });\n",
       "    }\n",
       "\n",
       "    function showError(err) {\n",
       "      outputDiv.innerHTML = `<div class=\"error\" style=\"color:red;\">${err}</div>`;\n",
       "      throw err;\n",
       "    }\n",
       "\n",
       "    function displayChart(vegaEmbed) {\n",
       "      vegaEmbed(outputDiv, spec, embedOpt)\n",
       "        .catch(err => showError(`Javascript Error: ${err.message}<br>This usually means there's a typo in your chart specification. See the javascript console for the full traceback.`));\n",
       "    }\n",
       "\n",
       "    if(typeof define === \"function\" && define.amd) {\n",
       "      requirejs.config({paths});\n",
       "      require([\"vega-embed\"], displayChart, err => showError(`Error loading script: ${err.message}`));\n",
       "    } else {\n",
       "      maybeLoadScript(\"vega\", \"5\")\n",
       "        .then(() => maybeLoadScript(\"vega-lite\", \"5.20.1\"))\n",
       "        .then(() => maybeLoadScript(\"vega-embed\", \"6\"))\n",
       "        .catch(showError)\n",
       "        .then(() => displayChart(vegaEmbed));\n",
       "    }\n",
       "  })({\"config\": {\"view\": {\"continuousWidth\": 300, \"continuousHeight\": 300}}, \"data\": {\"url\": \"altair-data-e3a09c411da174d25e3964c8961e556c.json\", \"format\": {\"type\": \"json\"}}, \"mark\": {\"type\": \"line\"}, \"encoding\": {\"color\": {\"field\": \"tower\", \"type\": \"nominal\"}, \"facet\": {\"columns\": 4, \"field\": \"height\", \"type\": \"ordinal\"}, \"tooltip\": {\"field\": \"variable\", \"type\": \"nominal\"}, \"x\": {\"field\": \"time\", \"timeUnit\": \"hoursminutes\", \"type\": \"temporal\"}, \"y\": {\"aggregate\": \"median\", \"field\": \"value\", \"title\": \"Wind speed (m/s)\", \"type\": \"quantitative\"}}, \"height\": 125, \"title\": \"Streamwise\", \"width\": 125, \"$schema\": \"https://vega.github.io/schema/vega-lite/v5.20.1.json\"}, {\"renderer\": \"svg\", \"mode\": \"vega-lite\"});\n",
       "</script>"
      ],
      "text/plain": [
       "alt.Chart(...)"
      ]
     },
     "metadata": {},
     "output_type": "display_data"
    }
   ],
   "source": [
    "src = sos_ds[[\n",
    "    'w_1m_c',   'w_2m_c','w_3m_c', 'w_5m_c', 'w_10m_c', 'w_15m_c', 'w_20m_c',\n",
    "    'w_1m_ue',  'w_3m_ue','w_10m_ue',\n",
    "    'w_1m_uw',  'w_3m_uw','w_10m_uw',\n",
    "    'w_1m_d',   'w_3m_d','w_10m_d',\n",
    "]]\n",
    "src = tidy.get_tidy_dataset(src, list(src.data_vars))\n",
    "src = utils.modify_df_timezone(src, 'UTC', 'US/Mountain')\n",
    "alt.Chart(\n",
    "    src\n",
    ").mark_line().encode(\n",
    "    alt.X('hoursminutes(time):T'),\n",
    "    alt.Y('median(value):Q').title('Wind speed (m/s)'),\n",
    "    alt.Color('tower:N'),\n",
    "    alt.Facet('height:O', columns=4),\n",
    "    tooltip='variable',\n",
    ").properties(width = 125, height = 125, title=    'Streamwise').display(renderer='svg')"
   ]
  },
  {
   "cell_type": "code",
   "execution_count": 18,
   "metadata": {},
   "outputs": [],
   "source": [
    "planar_fitted_data_df = pd.read_parquet(planar_fitted_dir)\n"
   ]
  },
  {
   "cell_type": "code",
   "execution_count": 19,
   "metadata": {},
   "outputs": [],
   "source": [
    "if PLANAR_FIT:\n",
    "    planar_fitted_data_df = planar_fitted_data_df[[c for c in planar_fitted_data_df.columns if c.endswith('_fit')]]\n",
    "    planar_fitted_data_df.columns = [c.replace('_fit', '') for c in planar_fitted_data_df.columns]\n",
    "    planar_fitted_data_df = planar_fitted_data_df.loc[ start_date : end_date ]\n",
    "    planar_fitted_data_df.index = planar_fitted_data_df.index - dt.timedelta(minutes=15)\n",
    "    planar_fitted_ds = planar_fitted_data_df.to_xarray()\n",
    "    sos_ds = sos_ds.assign(planar_fitted_ds)"
   ]
  },
  {
   "cell_type": "code",
   "execution_count": 20,
   "metadata": {},
   "outputs": [
    {
     "data": {
      "text/html": [
       "\n",
       "<style>\n",
       "  #altair-viz-788fa62558d54d8d8894cae148ae25f7.vega-embed {\n",
       "    width: 100%;\n",
       "    display: flex;\n",
       "  }\n",
       "\n",
       "  #altair-viz-788fa62558d54d8d8894cae148ae25f7.vega-embed details,\n",
       "  #altair-viz-788fa62558d54d8d8894cae148ae25f7.vega-embed details summary {\n",
       "    position: relative;\n",
       "  }\n",
       "</style>\n",
       "<div id=\"altair-viz-788fa62558d54d8d8894cae148ae25f7\"></div>\n",
       "<script type=\"text/javascript\">\n",
       "  var VEGA_DEBUG = (typeof VEGA_DEBUG == \"undefined\") ? {} : VEGA_DEBUG;\n",
       "  (function(spec, embedOpt){\n",
       "    let outputDiv = document.currentScript.previousElementSibling;\n",
       "    if (outputDiv.id !== \"altair-viz-788fa62558d54d8d8894cae148ae25f7\") {\n",
       "      outputDiv = document.getElementById(\"altair-viz-788fa62558d54d8d8894cae148ae25f7\");\n",
       "    }\n",
       "    const paths = {\n",
       "      \"vega\": \"https://cdn.jsdelivr.net/npm/vega@5?noext\",\n",
       "      \"vega-lib\": \"https://cdn.jsdelivr.net/npm/vega-lib?noext\",\n",
       "      \"vega-lite\": \"https://cdn.jsdelivr.net/npm/vega-lite@5.20.1?noext\",\n",
       "      \"vega-embed\": \"https://cdn.jsdelivr.net/npm/vega-embed@6?noext\",\n",
       "    };\n",
       "\n",
       "    function maybeLoadScript(lib, version) {\n",
       "      var key = `${lib.replace(\"-\", \"\")}_version`;\n",
       "      return (VEGA_DEBUG[key] == version) ?\n",
       "        Promise.resolve(paths[lib]) :\n",
       "        new Promise(function(resolve, reject) {\n",
       "          var s = document.createElement('script');\n",
       "          document.getElementsByTagName(\"head\")[0].appendChild(s);\n",
       "          s.async = true;\n",
       "          s.onload = () => {\n",
       "            VEGA_DEBUG[key] = version;\n",
       "            return resolve(paths[lib]);\n",
       "          };\n",
       "          s.onerror = () => reject(`Error loading script: ${paths[lib]}`);\n",
       "          s.src = paths[lib];\n",
       "        });\n",
       "    }\n",
       "\n",
       "    function showError(err) {\n",
       "      outputDiv.innerHTML = `<div class=\"error\" style=\"color:red;\">${err}</div>`;\n",
       "      throw err;\n",
       "    }\n",
       "\n",
       "    function displayChart(vegaEmbed) {\n",
       "      vegaEmbed(outputDiv, spec, embedOpt)\n",
       "        .catch(err => showError(`Javascript Error: ${err.message}<br>This usually means there's a typo in your chart specification. See the javascript console for the full traceback.`));\n",
       "    }\n",
       "\n",
       "    if(typeof define === \"function\" && define.amd) {\n",
       "      requirejs.config({paths});\n",
       "      require([\"vega-embed\"], displayChart, err => showError(`Error loading script: ${err.message}`));\n",
       "    } else {\n",
       "      maybeLoadScript(\"vega\", \"5\")\n",
       "        .then(() => maybeLoadScript(\"vega-lite\", \"5.20.1\"))\n",
       "        .then(() => maybeLoadScript(\"vega-embed\", \"6\"))\n",
       "        .catch(showError)\n",
       "        .then(() => displayChart(vegaEmbed));\n",
       "    }\n",
       "  })({\"config\": {\"view\": {\"continuousWidth\": 300, \"continuousHeight\": 300}}, \"data\": {\"url\": \"altair-data-4ab9710c75643251ef550cf6b3931c64.json\", \"format\": {\"type\": \"json\"}}, \"mark\": {\"type\": \"line\"}, \"encoding\": {\"color\": {\"field\": \"tower\", \"type\": \"nominal\"}, \"facet\": {\"columns\": 4, \"field\": \"height\", \"type\": \"ordinal\"}, \"tooltip\": {\"field\": \"variable\", \"type\": \"nominal\"}, \"x\": {\"field\": \"time\", \"timeUnit\": \"hoursminutes\", \"type\": \"temporal\"}, \"y\": {\"aggregate\": \"median\", \"field\": \"value\", \"scale\": {\"domain\": [-0.02, 0.02]}, \"title\": \"Wind speed (m/s)\", \"type\": \"quantitative\"}}, \"height\": 125, \"title\": \"Streamwise\", \"width\": 125, \"$schema\": \"https://vega.github.io/schema/vega-lite/v5.20.1.json\"}, {\"renderer\": \"svg\", \"mode\": \"vega-lite\"});\n",
       "</script>"
      ],
      "text/plain": [
       "alt.Chart(...)"
      ]
     },
     "metadata": {},
     "output_type": "display_data"
    }
   ],
   "source": [
    "src = sos_ds[[\n",
    "    'w_1m_c',   'w_2m_c',   'w_3m_c', 'w_5m_c', 'w_10m_c', 'w_15m_c', 'w_20m_c',\n",
    "    'w_1m_ue',  'w_3m_ue',  'w_10m_ue',\n",
    "    'w_1m_uw',  'w_3m_uw',  'w_10m_uw',\n",
    "    'w_1m_d',   'w_3m_d',   'w_10m_d',\n",
    "]]\n",
    "src = tidy.get_tidy_dataset(src, list(src.data_vars))\n",
    "src = utils.modify_df_timezone(src, 'UTC', 'US/Mountain')\n",
    "alt.Chart(\n",
    "    src\n",
    ").mark_line().encode(\n",
    "    alt.X('hoursminutes(time):T'),\n",
    "    alt.Y('median(value):Q').title('Wind speed (m/s)').scale(domain = [-0.02,0.02]),\n",
    "    alt.Color('tower:N'),\n",
    "    alt.Facet('height:O', columns=4),\n",
    "    tooltip='variable',\n",
    ").properties(width = 125, height = 125, title='Streamwise').display(renderer='svg')"
   ]
  },
  {
   "cell_type": "code",
   "execution_count": 21,
   "metadata": {},
   "outputs": [
    {
     "data": {
      "text/html": [
       "\n",
       "<style>\n",
       "  #altair-viz-67056dd6cf534285b60f0e62e5eba139.vega-embed {\n",
       "    width: 100%;\n",
       "    display: flex;\n",
       "  }\n",
       "\n",
       "  #altair-viz-67056dd6cf534285b60f0e62e5eba139.vega-embed details,\n",
       "  #altair-viz-67056dd6cf534285b60f0e62e5eba139.vega-embed details summary {\n",
       "    position: relative;\n",
       "  }\n",
       "</style>\n",
       "<div id=\"altair-viz-67056dd6cf534285b60f0e62e5eba139\"></div>\n",
       "<script type=\"text/javascript\">\n",
       "  var VEGA_DEBUG = (typeof VEGA_DEBUG == \"undefined\") ? {} : VEGA_DEBUG;\n",
       "  (function(spec, embedOpt){\n",
       "    let outputDiv = document.currentScript.previousElementSibling;\n",
       "    if (outputDiv.id !== \"altair-viz-67056dd6cf534285b60f0e62e5eba139\") {\n",
       "      outputDiv = document.getElementById(\"altair-viz-67056dd6cf534285b60f0e62e5eba139\");\n",
       "    }\n",
       "    const paths = {\n",
       "      \"vega\": \"https://cdn.jsdelivr.net/npm/vega@5?noext\",\n",
       "      \"vega-lib\": \"https://cdn.jsdelivr.net/npm/vega-lib?noext\",\n",
       "      \"vega-lite\": \"https://cdn.jsdelivr.net/npm/vega-lite@5.20.1?noext\",\n",
       "      \"vega-embed\": \"https://cdn.jsdelivr.net/npm/vega-embed@6?noext\",\n",
       "    };\n",
       "\n",
       "    function maybeLoadScript(lib, version) {\n",
       "      var key = `${lib.replace(\"-\", \"\")}_version`;\n",
       "      return (VEGA_DEBUG[key] == version) ?\n",
       "        Promise.resolve(paths[lib]) :\n",
       "        new Promise(function(resolve, reject) {\n",
       "          var s = document.createElement('script');\n",
       "          document.getElementsByTagName(\"head\")[0].appendChild(s);\n",
       "          s.async = true;\n",
       "          s.onload = () => {\n",
       "            VEGA_DEBUG[key] = version;\n",
       "            return resolve(paths[lib]);\n",
       "          };\n",
       "          s.onerror = () => reject(`Error loading script: ${paths[lib]}`);\n",
       "          s.src = paths[lib];\n",
       "        });\n",
       "    }\n",
       "\n",
       "    function showError(err) {\n",
       "      outputDiv.innerHTML = `<div class=\"error\" style=\"color:red;\">${err}</div>`;\n",
       "      throw err;\n",
       "    }\n",
       "\n",
       "    function displayChart(vegaEmbed) {\n",
       "      vegaEmbed(outputDiv, spec, embedOpt)\n",
       "        .catch(err => showError(`Javascript Error: ${err.message}<br>This usually means there's a typo in your chart specification. See the javascript console for the full traceback.`));\n",
       "    }\n",
       "\n",
       "    if(typeof define === \"function\" && define.amd) {\n",
       "      requirejs.config({paths});\n",
       "      require([\"vega-embed\"], displayChart, err => showError(`Error loading script: ${err.message}`));\n",
       "    } else {\n",
       "      maybeLoadScript(\"vega\", \"5\")\n",
       "        .then(() => maybeLoadScript(\"vega-lite\", \"5.20.1\"))\n",
       "        .then(() => maybeLoadScript(\"vega-embed\", \"6\"))\n",
       "        .catch(showError)\n",
       "        .then(() => displayChart(vegaEmbed));\n",
       "    }\n",
       "  })({\"config\": {\"view\": {\"continuousWidth\": 300, \"continuousHeight\": 300}}, \"data\": {\"url\": \"altair-data-4ab9710c75643251ef550cf6b3931c64.json\", \"format\": {\"type\": \"json\"}}, \"mark\": {\"type\": \"line\"}, \"encoding\": {\"color\": {\"field\": \"height\", \"scale\": {\"scheme\": \"turbo\"}, \"type\": \"ordinal\"}, \"facet\": {\"columns\": 4, \"field\": \"tower\", \"type\": \"nominal\"}, \"tooltip\": {\"field\": \"variable\", \"type\": \"nominal\"}, \"x\": {\"field\": \"time\", \"timeUnit\": \"hoursminutes\", \"type\": \"temporal\"}, \"y\": {\"aggregate\": \"median\", \"field\": \"value\", \"scale\": {\"domain\": [-0.02, 0.02]}, \"title\": \"Wind speed (m/s)\", \"type\": \"quantitative\"}}, \"height\": 125, \"title\": \"Streamwise\", \"width\": 125, \"$schema\": \"https://vega.github.io/schema/vega-lite/v5.20.1.json\"}, {\"renderer\": \"svg\", \"mode\": \"vega-lite\"});\n",
       "</script>"
      ],
      "text/plain": [
       "alt.Chart(...)"
      ]
     },
     "metadata": {},
     "output_type": "display_data"
    }
   ],
   "source": [
    "alt.Chart(\n",
    "    src\n",
    ").mark_line().encode(\n",
    "    alt.X('hoursminutes(time):T'),\n",
    "    alt.Y('median(value):Q').title('Wind speed (m/s)').scale(domain = [-0.02,0.02]),\n",
    "    alt.Facet('tower:N', columns=4),\n",
    "    alt.Color('height:O').scale(scheme='turbo'),\n",
    "    tooltip='variable',\n",
    ").properties(width = 125, height = 125, title='Streamwise').display(renderer='svg')"
   ]
  },
  {
   "cell_type": "markdown",
   "metadata": {},
   "source": [
    "# Remove instrument-flagged data\n",
    "\n",
    "Based on Stiperski and Rotach (2016, http://link.springer.com/10.1007/s10546-015-0103-z), who recommend the following steps as minimum quality criteria:\n",
    "\n",
    "1. The sonic diagnostic flag was set high (malfunctioning of the instrument) inside the averaging period. \n",
    "2. KH20 voltage fell below 5 mV (indication of condensation occurring on the KH20 window).\n",
    "3. Skewness of temperature and wind components fell outside the [-2, 2] range, following Vickers and Mahrt (1997).\n",
    "4. Kurtosis of temperature and wind components was >8, following Vickers and Mahrt (1997).\n",
    "\n",
    "We only implement number #2 and #3. We tried implementing #1, using the ldiag flag to remove sonic data, but it removed a lot of data, and, without using high rate data, we't cannot filter based on a \"high\" diagnostic flag, we can only filtering using the aggregate of all the flags (i.e. ldiag > 0). The 4th moments are not included in the 5-minute averages, so we cannot implement #4 without using the high rate data."
   ]
  },
  {
   "cell_type": "markdown",
   "metadata": {},
   "source": [
    "## Set bad Irga measurements to NaN\n",
    "\n",
    "The NCAR report recommends all Irga-related measurements be set to NaN when irgadiag is non-zero.  They did this for some but not all of the data."
   ]
  },
  {
   "cell_type": "code",
   "execution_count": 22,
   "metadata": {},
   "outputs": [
    {
     "name": "stdout",
     "output_type": "stream",
     "text": [
      "h2o_flux_var irgadiag_var old_nan_count_badirga new_nan_count_badirga old_mean new_mean\n",
      "w_h2o__1m_ue irgadiag_1m_ue 6999 6999 0.010311 0.010311\n",
      "Variable w_h2o__2m_ue or irgadiag_2m_ue not in dataset.\n",
      "w_h2o__3m_ue irgadiag_3m_ue 977 977 0.007198 0.007198\n",
      "w_h2o__10m_ue irgadiag_10m_ue 793 793 0.006935 0.006935\n",
      "w_h2o__1m_d irgadiag_1m_d 6775 6775 0.009535 0.009535\n",
      "Variable w_h2o__2m_d or irgadiag_2m_d not in dataset.\n",
      "w_h2o__3m_d irgadiag_3m_d 996 996 0.007104 0.007104\n",
      "w_h2o__10m_d irgadiag_10m_d 879 879 0.007042 0.007042\n",
      "w_h2o__1m_uw irgadiag_1m_uw 7735 7735 0.012074 0.012074\n",
      "Variable w_h2o__2m_uw or irgadiag_2m_uw not in dataset.\n",
      "Variable w_h2o__2_5m_uw or irgadiag_2_5m_uw not in dataset.\n",
      "w_h2o__3m_uw irgadiag_3m_uw 934 934 0.007292 0.007292\n",
      "w_h2o__10m_uw irgadiag_10m_uw 1118 1118 0.007143 0.007143\n",
      "w_h2o__1m_c irgadiag_1m_c 4781 4781 0.00782 0.00782\n",
      "w_h2o__2m_c irgadiag_2m_c 677 677 0.006724 0.006724\n",
      "w_h2o__3m_c irgadiag_3m_c 679 679 0.007045 0.007045\n",
      "w_h2o__5m_c irgadiag_5m_c 1063 1063 0.007252 0.007252\n",
      "w_h2o__10m_c irgadiag_10m_c 504 504 0.008043 0.008043\n",
      "w_h2o__15m_c irgadiag_15m_c 196 196 0.005373 0.005373\n",
      "w_h2o__20m_c irgadiag_20m_c 645 645 0.006463 0.006463\n"
     ]
    }
   ],
   "source": [
    "print('h2o_flux_var', 'irgadiag_var', 'old_nan_count_badirga', 'new_nan_count_badirga', 'old_mean', 'new_mean')\n",
    "var_ls = []\n",
    "old_nan_count_badirga_ls = []\n",
    "new_nan_count_badirga_ls = []\n",
    "old_mean_ls = []\n",
    "new_mean_ls = []\n",
    "old_median_ls = []\n",
    "new_median_ls = []\n",
    "for suffix in ec_measurement_suffixes:\n",
    "    h2o_flux_var = 'w_h2o__' + suffix\n",
    "    irgadiag_var = 'irgadiag_' + suffix\n",
    "\n",
    "    if irgadiag_var in sos_ds.variables and h2o_flux_var in sos_ds.variables:\n",
    "        old_nan_count_badirga = (np.isnan(sos_ds[h2o_flux_var])).sum().item()\n",
    "        old_mean = sos_ds[h2o_flux_var].mean().item()\n",
    "        old_median = sos_ds[h2o_flux_var].median().item()\n",
    "\n",
    "        for prefix in ec_measurement_prefixes:\n",
    "            var = prefix + suffix\n",
    "            if var in sos_ds:\n",
    "                sos_ds[var] = sos_ds[var].where(sos_ds[irgadiag_var] <= PERCENTAGE_DIAG)\n",
    "        # for prefix in [\n",
    "        #     'h2o_', 'h2o_h2o__', 'u_h2o__', 'v_h2o__', 'w_h2o__',\n",
    "        #     # I'M NOT SURE I WANT TO REMOVE THESE w_ MEASUREMENTS BUT I\"M CURIOUS WHAT HAPPENS IF I DO\n",
    "        #     'w_',\n",
    "        # ]:\n",
    "\n",
    "\n",
    "        new_nan_count_badirga = (np.isnan(sos_ds[h2o_flux_var])).sum().item()\n",
    "        new_mean = sos_ds[h2o_flux_var].mean().item()\n",
    "        new_median = sos_ds[h2o_flux_var].median().item()\n",
    "        print(h2o_flux_var, irgadiag_var, old_nan_count_badirga, new_nan_count_badirga, round(old_mean,6), round(new_mean,6))\n",
    "        var_ls.append(h2o_flux_var)\n",
    "        old_nan_count_badirga_ls.append(old_nan_count_badirga)\n",
    "        new_nan_count_badirga_ls.append(new_nan_count_badirga)\n",
    "        old_mean_ls.append(old_mean)\n",
    "        new_mean_ls.append(new_mean)\n",
    "        old_median_ls.append(old_median)\n",
    "        new_median_ls.append(new_median)\n",
    "    else:\n",
    "        print(f\"Variable {h2o_flux_var} or {irgadiag_var} not in dataset.\")\n",
    "        var_ls.append(h2o_flux_var)\n",
    "        old_nan_count_badirga_ls.append(np.nan)\n",
    "        new_nan_count_badirga_ls.append(np.nan)\n",
    "        old_mean_ls.append(np.nan)\n",
    "        new_mean_ls.append(np.nan)\n",
    "        old_median_ls.append(np.nan)\n",
    "        new_median_ls.append(np.nan)"
   ]
  },
  {
   "cell_type": "code",
   "execution_count": 23,
   "metadata": {},
   "outputs": [
    {
     "data": {
      "image/png": "[encoded data removed]",
      "text/plain": [
       "<Figure size 1000x500 with 2 Axes>"
      ]
     },
     "metadata": {},
     "output_type": "display_data"
    }
   ],
   "source": [
    "fig, axes = plt.subplots(2,1, sharex=True, figsize=(10,5))\n",
    "axes[0].scatter(var_ls, old_nan_count_badirga_ls, label = 'before', color='tab:blue')\n",
    "axes[0].set_ylabel(\"n of nans\")\n",
    "axes[0].scatter(var_ls, new_nan_count_badirga_ls, label = 'after', color='tab:orange')\n",
    "\n",
    "axes[1].scatter(var_ls, old_mean_ls, label = 'Mean, before', color='tab:blue')\n",
    "axes[1].set_ylabel(\"<w'q'>\")\n",
    "axes[1].scatter(var_ls, new_mean_ls, label = 'Mean, after', color='tab:orange')\n",
    "\n",
    "axes[1].scatter(var_ls, old_median_ls, label = 'Median, before', marker='+', color='tab:blue')\n",
    "axes[1].set_ylabel(\"<w'q'>\")\n",
    "axes[1].scatter(var_ls, new_median_ls, label = 'Median, after', marker='+', color='tab:orange')\n",
    "\n",
    "for ax in axes:\n",
    "    ax.tick_params(rotation=90, axis='x')\n",
    "    ax.legend(title='Filtering', bbox_to_anchor=(1,1))"
   ]
  },
  {
   "cell_type": "markdown",
   "metadata": {},
   "source": [
    "## Set bad Sonic measurements to Nan"
   ]
  },
  {
   "cell_type": "code",
   "execution_count": 24,
   "metadata": {},
   "outputs": [
    {
     "name": "stdout",
     "output_type": "stream",
     "text": [
      "h2o_flux_var ldiag_var old_nan_count_badsonic new_nan_count_badsonic old_mean new_mean\n",
      "w_h2o__1m_ue ldiag_1m_ue 6999 6999 0.010311 0.010311\n",
      "Variable w_h2o__2m_ue or ldiag_2m_ue not in dataset.\n",
      "w_h2o__3m_ue ldiag_3m_ue 977 977 0.007198 0.007198\n",
      "w_h2o__10m_ue ldiag_10m_ue 793 793 0.006935 0.006935\n",
      "w_h2o__1m_d ldiag_1m_d 6775 6775 0.009535 0.009535\n",
      "Variable w_h2o__2m_d or ldiag_2m_d not in dataset.\n",
      "w_h2o__3m_d ldiag_3m_d 996 996 0.007104 0.007104\n",
      "w_h2o__10m_d ldiag_10m_d 879 879 0.007042 0.007042\n",
      "w_h2o__1m_uw ldiag_1m_uw 7735 7735 0.012074 0.012074\n",
      "Variable w_h2o__2m_uw or ldiag_2m_uw not in dataset.\n",
      "Variable w_h2o__2_5m_uw or ldiag_2_5m_uw not in dataset.\n",
      "w_h2o__3m_uw ldiag_3m_uw 934 934 0.007292 0.007292\n",
      "w_h2o__10m_uw ldiag_10m_uw 1118 1118 0.007143 0.007143\n",
      "w_h2o__1m_c ldiag_1m_c 4781 4781 0.00782 0.00782\n",
      "w_h2o__2m_c ldiag_2m_c 677 677 0.006724 0.006724\n",
      "w_h2o__3m_c ldiag_3m_c 679 679 0.007045 0.007045\n",
      "w_h2o__5m_c ldiag_5m_c 1063 1063 0.007252 0.007252\n",
      "w_h2o__10m_c ldiag_10m_c 504 504 0.008043 0.008043\n",
      "w_h2o__15m_c ldiag_15m_c 196 196 0.005373 0.005373\n",
      "w_h2o__20m_c ldiag_20m_c 645 645 0.006463 0.006463\n"
     ]
    }
   ],
   "source": [
    "print('h2o_flux_var', 'ldiag_var', 'old_nan_count_badsonic', 'new_nan_count_badsonic', 'old_mean', 'new_mean')\n",
    "\n",
    "var_ls = []\n",
    "old_nan_count_badsonic_ls = []\n",
    "new_nan_count_badsonic_ls = []\n",
    "old_mean_ls = []\n",
    "new_mean_ls = []\n",
    "for suffix in ec_measurement_suffixes:\n",
    "    w_var = 'w_' + suffix\n",
    "    h2o_flux_var = 'w_h2o__' + suffix\n",
    "    sonicdiag_var = 'ldiag_' + suffix\n",
    "\n",
    "    if h2o_flux_var in sos_ds.variables and sonicdiag_var in sos_ds.variables:\n",
    "        old_nan_count_badsonic = (np.isnan(sos_ds[h2o_flux_var])).sum().item()\n",
    "        old_mean = sos_ds[h2o_flux_var].mean().item()\n",
    "        \n",
    "        # sos_ds[h2o_flux_var] = sos_ds[h2o_flux_var].where(sos_ds[sonicdiag_var] == 0)\n",
    "        # sos_ds[w_var] = sos_ds[w_var].where(sos_ds[sonicdiag_var] == 0)\n",
    "        for prefix in ec_measurement_prefixes:\n",
    "            var = prefix + suffix\n",
    "            if var in sos_ds:\n",
    "                sos_ds[var] = sos_ds[var].where(sos_ds[sonicdiag_var] <= PERCENTAGE_DIAG)\n",
    "\n",
    "        new_nan_count_badsonic = (np.isnan(sos_ds[h2o_flux_var])).sum().item()\n",
    "        new_mean = sos_ds[h2o_flux_var].mean().item()\n",
    "        print(h2o_flux_var, sonicdiag_var, old_nan_count_badsonic, new_nan_count_badsonic, round(old_mean,6), round(new_mean,6))\n",
    "        var_ls.append(h2o_flux_var)\n",
    "        old_nan_count_badsonic_ls.append(old_nan_count_badsonic)\n",
    "        new_nan_count_badsonic_ls.append(new_nan_count_badsonic)\n",
    "        old_mean_ls.append(old_mean)\n",
    "        new_mean_ls.append(new_mean)\n",
    "    else:\n",
    "        print(f\"Variable {h2o_flux_var} or {sonicdiag_var} not in dataset.\")\n",
    "        var_ls.append(h2o_flux_var)\n",
    "        old_nan_count_badsonic_ls.append(np.nan)\n",
    "        new_nan_count_badsonic_ls.append(np.nan)\n",
    "        old_mean_ls.append(np.nan)\n",
    "        new_mean_ls.append(np.nan)"
   ]
  },
  {
   "cell_type": "code",
   "execution_count": 25,
   "metadata": {},
   "outputs": [
    {
     "data": {
      "image/png": "[encoded data removed]",
      "text/plain": [
       "<Figure size 1000x500 with 2 Axes>"
      ]
     },
     "metadata": {},
     "output_type": "display_data"
    }
   ],
   "source": [
    "fig, axes = plt.subplots(2,1, sharex=True, figsize=(10,5))\n",
    "axes[0].scatter(var_ls, old_nan_count_badsonic_ls, label = 'Before')\n",
    "axes[0].set_ylabel(\"n of nans\")\n",
    "axes[0].scatter(var_ls, new_nan_count_badsonic_ls, label = 'After')\n",
    "\n",
    "axes[1].scatter(var_ls, old_mean_ls, label = 'Before')\n",
    "axes[1].set_ylabel(\"<w'q'>\")\n",
    "axes[1].scatter(var_ls, new_mean_ls, label = 'After')\n",
    "\n",
    "for ax in axes:\n",
    "    ax.tick_params(rotation=45)\n",
    "    ax.legend(title='Filtering')"
   ]
  },
  {
   "cell_type": "code",
   "execution_count": 26,
   "metadata": {},
   "outputs": [
    {
     "data": {
      "text/html": [
       "<div>\n",
       "<style scoped>\n",
       "    .dataframe tbody tr th:only-of-type {\n",
       "        vertical-align: middle;\n",
       "    }\n",
       "\n",
       "    .dataframe tbody tr th {\n",
       "        vertical-align: top;\n",
       "    }\n",
       "\n",
       "    .dataframe thead th {\n",
       "        text-align: right;\n",
       "    }\n",
       "</style>\n",
       "<table border=\"1\" class=\"dataframe\">\n",
       "  <thead>\n",
       "    <tr style=\"text-align: right;\">\n",
       "      <th></th>\n",
       "      <th>variable</th>\n",
       "      <th>n</th>\n",
       "      <th>original nan count</th>\n",
       "      <th>nans after bad irga removed</th>\n",
       "      <th>nans after bad sonic removed</th>\n",
       "    </tr>\n",
       "  </thead>\n",
       "  <tbody>\n",
       "    <tr>\n",
       "      <th>1</th>\n",
       "      <td>w_h2o__2m_ue</td>\n",
       "      <td>11088</td>\n",
       "      <td>NaN</td>\n",
       "      <td>NaN</td>\n",
       "      <td>NaN</td>\n",
       "    </tr>\n",
       "    <tr>\n",
       "      <th>2</th>\n",
       "      <td>w_h2o__3m_ue</td>\n",
       "      <td>11088</td>\n",
       "      <td>977.0</td>\n",
       "      <td>977.0</td>\n",
       "      <td>977.0</td>\n",
       "    </tr>\n",
       "    <tr>\n",
       "      <th>3</th>\n",
       "      <td>w_h2o__10m_ue</td>\n",
       "      <td>11088</td>\n",
       "      <td>793.0</td>\n",
       "      <td>793.0</td>\n",
       "      <td>793.0</td>\n",
       "    </tr>\n",
       "    <tr>\n",
       "      <th>5</th>\n",
       "      <td>w_h2o__2m_d</td>\n",
       "      <td>11088</td>\n",
       "      <td>NaN</td>\n",
       "      <td>NaN</td>\n",
       "      <td>NaN</td>\n",
       "    </tr>\n",
       "    <tr>\n",
       "      <th>6</th>\n",
       "      <td>w_h2o__3m_d</td>\n",
       "      <td>11088</td>\n",
       "      <td>996.0</td>\n",
       "      <td>996.0</td>\n",
       "      <td>996.0</td>\n",
       "    </tr>\n",
       "    <tr>\n",
       "      <th>7</th>\n",
       "      <td>w_h2o__10m_d</td>\n",
       "      <td>11088</td>\n",
       "      <td>879.0</td>\n",
       "      <td>879.0</td>\n",
       "      <td>879.0</td>\n",
       "    </tr>\n",
       "    <tr>\n",
       "      <th>9</th>\n",
       "      <td>w_h2o__2m_uw</td>\n",
       "      <td>11088</td>\n",
       "      <td>NaN</td>\n",
       "      <td>NaN</td>\n",
       "      <td>NaN</td>\n",
       "    </tr>\n",
       "    <tr>\n",
       "      <th>11</th>\n",
       "      <td>w_h2o__3m_uw</td>\n",
       "      <td>11088</td>\n",
       "      <td>934.0</td>\n",
       "      <td>934.0</td>\n",
       "      <td>934.0</td>\n",
       "    </tr>\n",
       "    <tr>\n",
       "      <th>12</th>\n",
       "      <td>w_h2o__10m_uw</td>\n",
       "      <td>11088</td>\n",
       "      <td>1118.0</td>\n",
       "      <td>1118.0</td>\n",
       "      <td>1118.0</td>\n",
       "    </tr>\n",
       "    <tr>\n",
       "      <th>14</th>\n",
       "      <td>w_h2o__2m_c</td>\n",
       "      <td>11088</td>\n",
       "      <td>677.0</td>\n",
       "      <td>677.0</td>\n",
       "      <td>677.0</td>\n",
       "    </tr>\n",
       "    <tr>\n",
       "      <th>15</th>\n",
       "      <td>w_h2o__3m_c</td>\n",
       "      <td>11088</td>\n",
       "      <td>679.0</td>\n",
       "      <td>679.0</td>\n",
       "      <td>679.0</td>\n",
       "    </tr>\n",
       "    <tr>\n",
       "      <th>16</th>\n",
       "      <td>w_h2o__5m_c</td>\n",
       "      <td>11088</td>\n",
       "      <td>1063.0</td>\n",
       "      <td>1063.0</td>\n",
       "      <td>1063.0</td>\n",
       "    </tr>\n",
       "    <tr>\n",
       "      <th>17</th>\n",
       "      <td>w_h2o__10m_c</td>\n",
       "      <td>11088</td>\n",
       "      <td>504.0</td>\n",
       "      <td>504.0</td>\n",
       "      <td>504.0</td>\n",
       "    </tr>\n",
       "    <tr>\n",
       "      <th>18</th>\n",
       "      <td>w_h2o__15m_c</td>\n",
       "      <td>11088</td>\n",
       "      <td>196.0</td>\n",
       "      <td>196.0</td>\n",
       "      <td>196.0</td>\n",
       "    </tr>\n",
       "    <tr>\n",
       "      <th>19</th>\n",
       "      <td>w_h2o__20m_c</td>\n",
       "      <td>11088</td>\n",
       "      <td>645.0</td>\n",
       "      <td>645.0</td>\n",
       "      <td>645.0</td>\n",
       "    </tr>\n",
       "  </tbody>\n",
       "</table>\n",
       "</div>"
      ],
      "text/plain": [
       "         variable      n  original nan count  nans after bad irga removed  \\\n",
       "1    w_h2o__2m_ue  11088                 NaN                          NaN   \n",
       "2    w_h2o__3m_ue  11088               977.0                        977.0   \n",
       "3   w_h2o__10m_ue  11088               793.0                        793.0   \n",
       "5     w_h2o__2m_d  11088                 NaN                          NaN   \n",
       "6     w_h2o__3m_d  11088               996.0                        996.0   \n",
       "7    w_h2o__10m_d  11088               879.0                        879.0   \n",
       "9    w_h2o__2m_uw  11088                 NaN                          NaN   \n",
       "11   w_h2o__3m_uw  11088               934.0                        934.0   \n",
       "12  w_h2o__10m_uw  11088              1118.0                       1118.0   \n",
       "14    w_h2o__2m_c  11088               677.0                        677.0   \n",
       "15    w_h2o__3m_c  11088               679.0                        679.0   \n",
       "16    w_h2o__5m_c  11088              1063.0                       1063.0   \n",
       "17   w_h2o__10m_c  11088               504.0                        504.0   \n",
       "18   w_h2o__15m_c  11088               196.0                        196.0   \n",
       "19   w_h2o__20m_c  11088               645.0                        645.0   \n",
       "\n",
       "    nans after bad sonic removed  \n",
       "1                            NaN  \n",
       "2                          977.0  \n",
       "3                          793.0  \n",
       "5                            NaN  \n",
       "6                          996.0  \n",
       "7                          879.0  \n",
       "9                            NaN  \n",
       "11                         934.0  \n",
       "12                        1118.0  \n",
       "14                         677.0  \n",
       "15                         679.0  \n",
       "16                        1063.0  \n",
       "17                         504.0  \n",
       "18                         196.0  \n",
       "19                         645.0  "
      ]
     },
     "execution_count": 26,
     "metadata": {},
     "output_type": "execute_result"
    }
   ],
   "source": [
    "nan_counts_df = pd.DataFrame({\n",
    "    'variable':                     var_ls,\n",
    "    'n':                            len(sos_ds.time),\n",
    "    'original nan count':           old_nan_count_badirga_ls, \n",
    "    'nans after bad irga removed':  new_nan_count_badirga_ls, \n",
    "    'nans after bad sonic removed': new_nan_count_badsonic_ls, \n",
    "})\n",
    "limited_nan_counts_df = nan_counts_df[ \n",
    "    (~nan_counts_df.variable.str.contains('__1m_'))\n",
    "    \n",
    "    &\n",
    "    (~nan_counts_df.variable.str.contains('__2_5m_'))\n",
    "]\n",
    "limited_nan_counts_df"
   ]
  },
  {
   "cell_type": "code",
   "execution_count": 27,
   "metadata": {},
   "outputs": [
    {
     "name": "stderr",
     "output_type": "stream",
     "text": [
      "/var/folders/x_/2h52bcjx2px15bhmdpdd748h0000gn/T/ipykernel_77483/1657379086.py:1: SettingWithCopyWarning: \n",
      "A value is trying to be set on a copy of a slice from a DataFrame.\n",
      "Try using .loc[row_indexer,col_indexer] = value instead\n",
      "\n",
      "See the caveats in the documentation: https://pandas.pydata.org/pandas-docs/stable/user_guide/indexing.html#returning-a-view-versus-a-copy\n",
      "  limited_nan_counts_df['Data removed by EC150 flag'] = limited_nan_counts_df['nans after bad irga removed'] - limited_nan_counts_df['original nan count']\n",
      "/var/folders/x_/2h52bcjx2px15bhmdpdd748h0000gn/T/ipykernel_77483/1657379086.py:2: SettingWithCopyWarning: \n",
      "A value is trying to be set on a copy of a slice from a DataFrame.\n",
      "Try using .loc[row_indexer,col_indexer] = value instead\n",
      "\n",
      "See the caveats in the documentation: https://pandas.pydata.org/pandas-docs/stable/user_guide/indexing.html#returning-a-view-versus-a-copy\n",
      "  limited_nan_counts_df['Data removed by CSAT3 flag'] = limited_nan_counts_df['nans after bad sonic removed'] - limited_nan_counts_df['nans after bad irga removed']\n"
     ]
    },
    {
     "data": {
      "text/html": [
       "<div>\n",
       "<style scoped>\n",
       "    .dataframe tbody tr th:only-of-type {\n",
       "        vertical-align: middle;\n",
       "    }\n",
       "\n",
       "    .dataframe tbody tr th {\n",
       "        vertical-align: top;\n",
       "    }\n",
       "\n",
       "    .dataframe thead th {\n",
       "        text-align: right;\n",
       "    }\n",
       "</style>\n",
       "<table border=\"1\" class=\"dataframe\">\n",
       "  <thead>\n",
       "    <tr style=\"text-align: right;\">\n",
       "      <th></th>\n",
       "      <th>variable</th>\n",
       "      <th>n</th>\n",
       "      <th>Data removed by EC150 flag</th>\n",
       "      <th>Data removed by CSAT3 flag</th>\n",
       "    </tr>\n",
       "  </thead>\n",
       "  <tbody>\n",
       "    <tr>\n",
       "      <th>1</th>\n",
       "      <td>w_h2o__2m_ue</td>\n",
       "      <td>11088</td>\n",
       "      <td>NaN</td>\n",
       "      <td>NaN</td>\n",
       "    </tr>\n",
       "    <tr>\n",
       "      <th>2</th>\n",
       "      <td>w_h2o__3m_ue</td>\n",
       "      <td>11088</td>\n",
       "      <td>0.0</td>\n",
       "      <td>0.0</td>\n",
       "    </tr>\n",
       "    <tr>\n",
       "      <th>3</th>\n",
       "      <td>w_h2o__10m_ue</td>\n",
       "      <td>11088</td>\n",
       "      <td>0.0</td>\n",
       "      <td>0.0</td>\n",
       "    </tr>\n",
       "    <tr>\n",
       "      <th>5</th>\n",
       "      <td>w_h2o__2m_d</td>\n",
       "      <td>11088</td>\n",
       "      <td>NaN</td>\n",
       "      <td>NaN</td>\n",
       "    </tr>\n",
       "    <tr>\n",
       "      <th>6</th>\n",
       "      <td>w_h2o__3m_d</td>\n",
       "      <td>11088</td>\n",
       "      <td>0.0</td>\n",
       "      <td>0.0</td>\n",
       "    </tr>\n",
       "    <tr>\n",
       "      <th>7</th>\n",
       "      <td>w_h2o__10m_d</td>\n",
       "      <td>11088</td>\n",
       "      <td>0.0</td>\n",
       "      <td>0.0</td>\n",
       "    </tr>\n",
       "    <tr>\n",
       "      <th>9</th>\n",
       "      <td>w_h2o__2m_uw</td>\n",
       "      <td>11088</td>\n",
       "      <td>NaN</td>\n",
       "      <td>NaN</td>\n",
       "    </tr>\n",
       "    <tr>\n",
       "      <th>11</th>\n",
       "      <td>w_h2o__3m_uw</td>\n",
       "      <td>11088</td>\n",
       "      <td>0.0</td>\n",
       "      <td>0.0</td>\n",
       "    </tr>\n",
       "    <tr>\n",
       "      <th>12</th>\n",
       "      <td>w_h2o__10m_uw</td>\n",
       "      <td>11088</td>\n",
       "      <td>0.0</td>\n",
       "      <td>0.0</td>\n",
       "    </tr>\n",
       "    <tr>\n",
       "      <th>14</th>\n",
       "      <td>w_h2o__2m_c</td>\n",
       "      <td>11088</td>\n",
       "      <td>0.0</td>\n",
       "      <td>0.0</td>\n",
       "    </tr>\n",
       "    <tr>\n",
       "      <th>15</th>\n",
       "      <td>w_h2o__3m_c</td>\n",
       "      <td>11088</td>\n",
       "      <td>0.0</td>\n",
       "      <td>0.0</td>\n",
       "    </tr>\n",
       "    <tr>\n",
       "      <th>16</th>\n",
       "      <td>w_h2o__5m_c</td>\n",
       "      <td>11088</td>\n",
       "      <td>0.0</td>\n",
       "      <td>0.0</td>\n",
       "    </tr>\n",
       "    <tr>\n",
       "      <th>17</th>\n",
       "      <td>w_h2o__10m_c</td>\n",
       "      <td>11088</td>\n",
       "      <td>0.0</td>\n",
       "      <td>0.0</td>\n",
       "    </tr>\n",
       "    <tr>\n",
       "      <th>18</th>\n",
       "      <td>w_h2o__15m_c</td>\n",
       "      <td>11088</td>\n",
       "      <td>0.0</td>\n",
       "      <td>0.0</td>\n",
       "    </tr>\n",
       "    <tr>\n",
       "      <th>19</th>\n",
       "      <td>w_h2o__20m_c</td>\n",
       "      <td>11088</td>\n",
       "      <td>0.0</td>\n",
       "      <td>0.0</td>\n",
       "    </tr>\n",
       "  </tbody>\n",
       "</table>\n",
       "</div>"
      ],
      "text/plain": [
       "         variable      n  Data removed by EC150 flag  \\\n",
       "1    w_h2o__2m_ue  11088                         NaN   \n",
       "2    w_h2o__3m_ue  11088                         0.0   \n",
       "3   w_h2o__10m_ue  11088                         0.0   \n",
       "5     w_h2o__2m_d  11088                         NaN   \n",
       "6     w_h2o__3m_d  11088                         0.0   \n",
       "7    w_h2o__10m_d  11088                         0.0   \n",
       "9    w_h2o__2m_uw  11088                         NaN   \n",
       "11   w_h2o__3m_uw  11088                         0.0   \n",
       "12  w_h2o__10m_uw  11088                         0.0   \n",
       "14    w_h2o__2m_c  11088                         0.0   \n",
       "15    w_h2o__3m_c  11088                         0.0   \n",
       "16    w_h2o__5m_c  11088                         0.0   \n",
       "17   w_h2o__10m_c  11088                         0.0   \n",
       "18   w_h2o__15m_c  11088                         0.0   \n",
       "19   w_h2o__20m_c  11088                         0.0   \n",
       "\n",
       "    Data removed by CSAT3 flag  \n",
       "1                          NaN  \n",
       "2                          0.0  \n",
       "3                          0.0  \n",
       "5                          NaN  \n",
       "6                          0.0  \n",
       "7                          0.0  \n",
       "9                          NaN  \n",
       "11                         0.0  \n",
       "12                         0.0  \n",
       "14                         0.0  \n",
       "15                         0.0  \n",
       "16                         0.0  \n",
       "17                         0.0  \n",
       "18                         0.0  \n",
       "19                         0.0  "
      ]
     },
     "execution_count": 27,
     "metadata": {},
     "output_type": "execute_result"
    }
   ],
   "source": [
    "limited_nan_counts_df['Data removed by EC150 flag'] = limited_nan_counts_df['nans after bad irga removed'] - limited_nan_counts_df['original nan count']\n",
    "limited_nan_counts_df['Data removed by CSAT3 flag'] = limited_nan_counts_df['nans after bad sonic removed'] - limited_nan_counts_df['nans after bad irga removed']\n",
    "limited_nan_counts_df[[\n",
    "    'variable',\n",
    "    'n',\n",
    "    'Data removed by EC150 flag',\n",
    "    'Data removed by CSAT3 flag'\n",
    "]]"
   ]
  },
  {
   "cell_type": "code",
   "execution_count": 28,
   "metadata": {},
   "outputs": [
    {
     "data": {
      "text/html": [
       "<div>\n",
       "<style scoped>\n",
       "    .dataframe tbody tr th:only-of-type {\n",
       "        vertical-align: middle;\n",
       "    }\n",
       "\n",
       "    .dataframe tbody tr th {\n",
       "        vertical-align: top;\n",
       "    }\n",
       "\n",
       "    .dataframe thead th {\n",
       "        text-align: right;\n",
       "    }\n",
       "</style>\n",
       "<table border=\"1\" class=\"dataframe\">\n",
       "  <thead>\n",
       "    <tr style=\"text-align: right;\">\n",
       "      <th></th>\n",
       "      <th>variable</th>\n",
       "      <th>n</th>\n",
       "      <th>original nan count</th>\n",
       "      <th>nans after bad irga removed</th>\n",
       "      <th>nans after bad sonic removed</th>\n",
       "      <th>Data removed by EC150 flag</th>\n",
       "      <th>Data removed by CSAT3 flag</th>\n",
       "    </tr>\n",
       "  </thead>\n",
       "  <tbody>\n",
       "    <tr>\n",
       "      <th>2</th>\n",
       "      <td>w_h2o__3m_ue</td>\n",
       "      <td>11088</td>\n",
       "      <td>977.0</td>\n",
       "      <td>977.0</td>\n",
       "      <td>977.0</td>\n",
       "      <td>0.0</td>\n",
       "      <td>0.0</td>\n",
       "    </tr>\n",
       "    <tr>\n",
       "      <th>3</th>\n",
       "      <td>w_h2o__10m_ue</td>\n",
       "      <td>11088</td>\n",
       "      <td>793.0</td>\n",
       "      <td>793.0</td>\n",
       "      <td>793.0</td>\n",
       "      <td>0.0</td>\n",
       "      <td>0.0</td>\n",
       "    </tr>\n",
       "    <tr>\n",
       "      <th>6</th>\n",
       "      <td>w_h2o__3m_d</td>\n",
       "      <td>11088</td>\n",
       "      <td>996.0</td>\n",
       "      <td>996.0</td>\n",
       "      <td>996.0</td>\n",
       "      <td>0.0</td>\n",
       "      <td>0.0</td>\n",
       "    </tr>\n",
       "    <tr>\n",
       "      <th>7</th>\n",
       "      <td>w_h2o__10m_d</td>\n",
       "      <td>11088</td>\n",
       "      <td>879.0</td>\n",
       "      <td>879.0</td>\n",
       "      <td>879.0</td>\n",
       "      <td>0.0</td>\n",
       "      <td>0.0</td>\n",
       "    </tr>\n",
       "    <tr>\n",
       "      <th>11</th>\n",
       "      <td>w_h2o__3m_uw</td>\n",
       "      <td>11088</td>\n",
       "      <td>934.0</td>\n",
       "      <td>934.0</td>\n",
       "      <td>934.0</td>\n",
       "      <td>0.0</td>\n",
       "      <td>0.0</td>\n",
       "    </tr>\n",
       "    <tr>\n",
       "      <th>12</th>\n",
       "      <td>w_h2o__10m_uw</td>\n",
       "      <td>11088</td>\n",
       "      <td>1118.0</td>\n",
       "      <td>1118.0</td>\n",
       "      <td>1118.0</td>\n",
       "      <td>0.0</td>\n",
       "      <td>0.0</td>\n",
       "    </tr>\n",
       "    <tr>\n",
       "      <th>14</th>\n",
       "      <td>w_h2o__2m_c</td>\n",
       "      <td>11088</td>\n",
       "      <td>677.0</td>\n",
       "      <td>677.0</td>\n",
       "      <td>677.0</td>\n",
       "      <td>0.0</td>\n",
       "      <td>0.0</td>\n",
       "    </tr>\n",
       "    <tr>\n",
       "      <th>15</th>\n",
       "      <td>w_h2o__3m_c</td>\n",
       "      <td>11088</td>\n",
       "      <td>679.0</td>\n",
       "      <td>679.0</td>\n",
       "      <td>679.0</td>\n",
       "      <td>0.0</td>\n",
       "      <td>0.0</td>\n",
       "    </tr>\n",
       "    <tr>\n",
       "      <th>16</th>\n",
       "      <td>w_h2o__5m_c</td>\n",
       "      <td>11088</td>\n",
       "      <td>1063.0</td>\n",
       "      <td>1063.0</td>\n",
       "      <td>1063.0</td>\n",
       "      <td>0.0</td>\n",
       "      <td>0.0</td>\n",
       "    </tr>\n",
       "    <tr>\n",
       "      <th>17</th>\n",
       "      <td>w_h2o__10m_c</td>\n",
       "      <td>11088</td>\n",
       "      <td>504.0</td>\n",
       "      <td>504.0</td>\n",
       "      <td>504.0</td>\n",
       "      <td>0.0</td>\n",
       "      <td>0.0</td>\n",
       "    </tr>\n",
       "    <tr>\n",
       "      <th>18</th>\n",
       "      <td>w_h2o__15m_c</td>\n",
       "      <td>11088</td>\n",
       "      <td>196.0</td>\n",
       "      <td>196.0</td>\n",
       "      <td>196.0</td>\n",
       "      <td>0.0</td>\n",
       "      <td>0.0</td>\n",
       "    </tr>\n",
       "    <tr>\n",
       "      <th>19</th>\n",
       "      <td>w_h2o__20m_c</td>\n",
       "      <td>11088</td>\n",
       "      <td>645.0</td>\n",
       "      <td>645.0</td>\n",
       "      <td>645.0</td>\n",
       "      <td>0.0</td>\n",
       "      <td>0.0</td>\n",
       "    </tr>\n",
       "  </tbody>\n",
       "</table>\n",
       "</div>"
      ],
      "text/plain": [
       "         variable      n  original nan count  nans after bad irga removed  \\\n",
       "2    w_h2o__3m_ue  11088               977.0                        977.0   \n",
       "3   w_h2o__10m_ue  11088               793.0                        793.0   \n",
       "6     w_h2o__3m_d  11088               996.0                        996.0   \n",
       "7    w_h2o__10m_d  11088               879.0                        879.0   \n",
       "11   w_h2o__3m_uw  11088               934.0                        934.0   \n",
       "12  w_h2o__10m_uw  11088              1118.0                       1118.0   \n",
       "14    w_h2o__2m_c  11088               677.0                        677.0   \n",
       "15    w_h2o__3m_c  11088               679.0                        679.0   \n",
       "16    w_h2o__5m_c  11088              1063.0                       1063.0   \n",
       "17   w_h2o__10m_c  11088               504.0                        504.0   \n",
       "18   w_h2o__15m_c  11088               196.0                        196.0   \n",
       "19   w_h2o__20m_c  11088               645.0                        645.0   \n",
       "\n",
       "    nans after bad sonic removed  Data removed by EC150 flag  \\\n",
       "2                          977.0                         0.0   \n",
       "3                          793.0                         0.0   \n",
       "6                          996.0                         0.0   \n",
       "7                          879.0                         0.0   \n",
       "11                         934.0                         0.0   \n",
       "12                        1118.0                         0.0   \n",
       "14                         677.0                         0.0   \n",
       "15                         679.0                         0.0   \n",
       "16                        1063.0                         0.0   \n",
       "17                         504.0                         0.0   \n",
       "18                         196.0                         0.0   \n",
       "19                         645.0                         0.0   \n",
       "\n",
       "    Data removed by CSAT3 flag  \n",
       "2                          0.0  \n",
       "3                          0.0  \n",
       "6                          0.0  \n",
       "7                          0.0  \n",
       "11                         0.0  \n",
       "12                         0.0  \n",
       "14                         0.0  \n",
       "15                         0.0  \n",
       "16                         0.0  \n",
       "17                         0.0  \n",
       "18                         0.0  \n",
       "19                         0.0  "
      ]
     },
     "execution_count": 28,
     "metadata": {},
     "output_type": "execute_result"
    }
   ],
   "source": [
    "limited_nan_counts_df.dropna()"
   ]
  },
  {
   "cell_type": "code",
   "execution_count": 29,
   "metadata": {},
   "outputs": [
    {
     "data": {
      "text/html": [
       "\n",
       "<style>\n",
       "  #altair-viz-86a60d49cdb24b17a734e8f4bd2a9195.vega-embed {\n",
       "    width: 100%;\n",
       "    display: flex;\n",
       "  }\n",
       "\n",
       "  #altair-viz-86a60d49cdb24b17a734e8f4bd2a9195.vega-embed details,\n",
       "  #altair-viz-86a60d49cdb24b17a734e8f4bd2a9195.vega-embed details summary {\n",
       "    position: relative;\n",
       "  }\n",
       "</style>\n",
       "<div id=\"altair-viz-86a60d49cdb24b17a734e8f4bd2a9195\"></div>\n",
       "<script type=\"text/javascript\">\n",
       "  var VEGA_DEBUG = (typeof VEGA_DEBUG == \"undefined\") ? {} : VEGA_DEBUG;\n",
       "  (function(spec, embedOpt){\n",
       "    let outputDiv = document.currentScript.previousElementSibling;\n",
       "    if (outputDiv.id !== \"altair-viz-86a60d49cdb24b17a734e8f4bd2a9195\") {\n",
       "      outputDiv = document.getElementById(\"altair-viz-86a60d49cdb24b17a734e8f4bd2a9195\");\n",
       "    }\n",
       "    const paths = {\n",
       "      \"vega\": \"https://cdn.jsdelivr.net/npm/vega@5?noext\",\n",
       "      \"vega-lib\": \"https://cdn.jsdelivr.net/npm/vega-lib?noext\",\n",
       "      \"vega-lite\": \"https://cdn.jsdelivr.net/npm/vega-lite@5.20.1?noext\",\n",
       "      \"vega-embed\": \"https://cdn.jsdelivr.net/npm/vega-embed@6?noext\",\n",
       "    };\n",
       "\n",
       "    function maybeLoadScript(lib, version) {\n",
       "      var key = `${lib.replace(\"-\", \"\")}_version`;\n",
       "      return (VEGA_DEBUG[key] == version) ?\n",
       "        Promise.resolve(paths[lib]) :\n",
       "        new Promise(function(resolve, reject) {\n",
       "          var s = document.createElement('script');\n",
       "          document.getElementsByTagName(\"head\")[0].appendChild(s);\n",
       "          s.async = true;\n",
       "          s.onload = () => {\n",
       "            VEGA_DEBUG[key] = version;\n",
       "            return resolve(paths[lib]);\n",
       "          };\n",
       "          s.onerror = () => reject(`Error loading script: ${paths[lib]}`);\n",
       "          s.src = paths[lib];\n",
       "        });\n",
       "    }\n",
       "\n",
       "    function showError(err) {\n",
       "      outputDiv.innerHTML = `<div class=\"error\" style=\"color:red;\">${err}</div>`;\n",
       "      throw err;\n",
       "    }\n",
       "\n",
       "    function displayChart(vegaEmbed) {\n",
       "      vegaEmbed(outputDiv, spec, embedOpt)\n",
       "        .catch(err => showError(`Javascript Error: ${err.message}<br>This usually means there's a typo in your chart specification. See the javascript console for the full traceback.`));\n",
       "    }\n",
       "\n",
       "    if(typeof define === \"function\" && define.amd) {\n",
       "      requirejs.config({paths});\n",
       "      require([\"vega-embed\"], displayChart, err => showError(`Error loading script: ${err.message}`));\n",
       "    } else {\n",
       "      maybeLoadScript(\"vega\", \"5\")\n",
       "        .then(() => maybeLoadScript(\"vega-lite\", \"5.20.1\"))\n",
       "        .then(() => maybeLoadScript(\"vega-embed\", \"6\"))\n",
       "        .catch(showError)\n",
       "        .then(() => displayChart(vegaEmbed));\n",
       "    }\n",
       "  })({\"config\": {\"view\": {\"continuousWidth\": 300, \"continuousHeight\": 300}, \"axis\": {\"grid\": false}, \"legend\": {\"columns\": 2, \"orient\": \"top\"}}, \"layer\": [{\"data\": {\"name\": \"empty\"}, \"mark\": {\"type\": \"rule\", \"strokeDash\": [2, 2]}, \"encoding\": {\"y\": {\"field\": \"rule\", \"type\": \"quantitative\"}}, \"transform\": [{\"calculate\": \"0.1\", \"as\": \"rule\"}]}, {\"data\": {\"url\": \"altair-data-7a76d5fcc749022815175b6866184a61.json\", \"format\": {\"type\": \"json\"}}, \"mark\": {\"type\": \"circle\", \"size\": 10}, \"encoding\": {\"color\": {\"field\": \"on Dec 21/22\", \"type\": \"nominal\"}, \"x\": {\"field\": \"SF_avg_ue\", \"scale\": {\"type\": \"log\"}, \"title\": \"Blowing snow flux (g/m^2/s)\", \"type\": \"quantitative\"}, \"y\": {\"field\": \"ldiag_3m_c\", \"title\": [\"Fraction of 20hz sonic anemometer\", \"measurements flagged (Tower C, 3m)\"], \"type\": \"quantitative\"}}}], \"height\": 200, \"width\": 200, \"$schema\": \"https://vega.github.io/schema/vega-lite/v5.20.1.json\", \"datasets\": {\"empty\": [{}]}}, {\"mode\": \"vega-lite\"});\n",
       "</script>"
      ],
      "text/plain": [
       "alt.LayerChart(...)"
      ]
     },
     "metadata": {},
     "output_type": "display_data"
    }
   ],
   "source": [
    "src = sos_ds[['SF_avg_1m_ue', 'SF_avg_2m_ue', 'ldiag_3m_c']].to_dataframe().reset_index()\n",
    "src['SF_avg_ue'] = src['SF_avg_1m_ue'] + src['SF_avg_2m_ue']\n",
    "src = utils.modify_df_timezone(src, 'UTC', 'US/Mountain')\n",
    "src['on Dec 21/22'] = (src.time.dt.date == dt.date(2022,12,22)) | (src.time.dt.date == dt.date(2022,12,21))\n",
    "src = src.query(\"SF_avg_ue > 0\")\n",
    "rule = alt.Chart().transform_calculate(rule = '0.1').mark_rule(strokeDash=[2,2]).encode(y='rule:Q')\n",
    "bad_sonic_data = (\n",
    "    rule + alt.Chart(src).mark_circle(size=10).encode(\n",
    "        alt.X(\"SF_avg_ue\").title(\"Blowing snow flux (g/m^2/s)\").scale(type='log'),\n",
    "        alt.Y(\"ldiag_3m_c\").title([\"Fraction of 20hz sonic anemometer\", \"measurements flagged (Tower C, 3m)\"]),\n",
    "        alt.Color(\"on Dec 21/22:N\")\n",
    "    ).properties(width=200, height=200)\n",
    ").configure_axis(grid=False).configure_legend(columns=2, orient='top')\n",
    "bad_sonic_data.save(\"bad_sonic_data.png\", ppi=200)\n",
    "display(bad_sonic_data)"
   ]
  },
  {
   "cell_type": "code",
   "execution_count": 30,
   "metadata": {},
   "outputs": [
    {
     "data": {
      "text/html": [
       "\n",
       "<style>\n",
       "  #altair-viz-0361d7074b0c47e8af7ab544e7ded44c.vega-embed {\n",
       "    width: 100%;\n",
       "    display: flex;\n",
       "  }\n",
       "\n",
       "  #altair-viz-0361d7074b0c47e8af7ab544e7ded44c.vega-embed details,\n",
       "  #altair-viz-0361d7074b0c47e8af7ab544e7ded44c.vega-embed details summary {\n",
       "    position: relative;\n",
       "  }\n",
       "</style>\n",
       "<div id=\"altair-viz-0361d7074b0c47e8af7ab544e7ded44c\"></div>\n",
       "<script type=\"text/javascript\">\n",
       "  var VEGA_DEBUG = (typeof VEGA_DEBUG == \"undefined\") ? {} : VEGA_DEBUG;\n",
       "  (function(spec, embedOpt){\n",
       "    let outputDiv = document.currentScript.previousElementSibling;\n",
       "    if (outputDiv.id !== \"altair-viz-0361d7074b0c47e8af7ab544e7ded44c\") {\n",
       "      outputDiv = document.getElementById(\"altair-viz-0361d7074b0c47e8af7ab544e7ded44c\");\n",
       "    }\n",
       "    const paths = {\n",
       "      \"vega\": \"https://cdn.jsdelivr.net/npm/vega@5?noext\",\n",
       "      \"vega-lib\": \"https://cdn.jsdelivr.net/npm/vega-lib?noext\",\n",
       "      \"vega-lite\": \"https://cdn.jsdelivr.net/npm/vega-lite@5.20.1?noext\",\n",
       "      \"vega-embed\": \"https://cdn.jsdelivr.net/npm/vega-embed@6?noext\",\n",
       "    };\n",
       "\n",
       "    function maybeLoadScript(lib, version) {\n",
       "      var key = `${lib.replace(\"-\", \"\")}_version`;\n",
       "      return (VEGA_DEBUG[key] == version) ?\n",
       "        Promise.resolve(paths[lib]) :\n",
       "        new Promise(function(resolve, reject) {\n",
       "          var s = document.createElement('script');\n",
       "          document.getElementsByTagName(\"head\")[0].appendChild(s);\n",
       "          s.async = true;\n",
       "          s.onload = () => {\n",
       "            VEGA_DEBUG[key] = version;\n",
       "            return resolve(paths[lib]);\n",
       "          };\n",
       "          s.onerror = () => reject(`Error loading script: ${paths[lib]}`);\n",
       "          s.src = paths[lib];\n",
       "        });\n",
       "    }\n",
       "\n",
       "    function showError(err) {\n",
       "      outputDiv.innerHTML = `<div class=\"error\" style=\"color:red;\">${err}</div>`;\n",
       "      throw err;\n",
       "    }\n",
       "\n",
       "    function displayChart(vegaEmbed) {\n",
       "      vegaEmbed(outputDiv, spec, embedOpt)\n",
       "        .catch(err => showError(`Javascript Error: ${err.message}<br>This usually means there's a typo in your chart specification. See the javascript console for the full traceback.`));\n",
       "    }\n",
       "\n",
       "    if(typeof define === \"function\" && define.amd) {\n",
       "      requirejs.config({paths});\n",
       "      require([\"vega-embed\"], displayChart, err => showError(`Error loading script: ${err.message}`));\n",
       "    } else {\n",
       "      maybeLoadScript(\"vega\", \"5\")\n",
       "        .then(() => maybeLoadScript(\"vega-lite\", \"5.20.1\"))\n",
       "        .then(() => maybeLoadScript(\"vega-embed\", \"6\"))\n",
       "        .catch(showError)\n",
       "        .then(() => displayChart(vegaEmbed));\n",
       "    }\n",
       "  })({\"config\": {\"view\": {\"continuousWidth\": 300, \"continuousHeight\": 300}, \"axis\": {\"grid\": false}, \"legend\": {\"columns\": 2, \"orient\": \"top\"}}, \"data\": {\"url\": \"altair-data-6022b22cf453200fdddf3689ccdb2534.json\", \"format\": {\"type\": \"json\"}}, \"mark\": {\"type\": \"circle\", \"size\": 10}, \"encoding\": {\"color\": {\"field\": \"on Dec 21/22\", \"type\": \"nominal\"}, \"column\": {\"field\": \"key\", \"sort\": [\"ldiag_3m_c\", \"ldiag_5m_c\", \"ldiag_10m_c\", \"ldiag_15m_c\", \"ldiag_20m_c\"], \"type\": \"nominal\"}, \"x\": {\"field\": \"RH_3m_c\", \"title\": \"RH (%)\", \"type\": \"quantitative\"}, \"y\": {\"field\": \"value\", \"title\": [\"Fraction of 20hz sonic anemometer\", \"measurements flagged (Tower C, 3m)\"], \"type\": \"quantitative\"}}, \"height\": 200, \"transform\": [{\"fold\": [\"ldiag_3m_c\", \"ldiag_5m_c\", \"ldiag_10m_c\", \"ldiag_15m_c\", \"ldiag_20m_c\"]}], \"width\": 200, \"$schema\": \"https://vega.github.io/schema/vega-lite/v5.20.1.json\"}, {\"mode\": \"vega-lite\"});\n",
       "</script>"
      ],
      "text/plain": [
       "alt.Chart(...)"
      ]
     },
     "metadata": {},
     "output_type": "display_data"
    }
   ],
   "source": [
    "src = sos_ds[['RH_3m_c', 'SF_avg_1m_ue', 'SF_avg_2m_ue', 'ldiag_3m_c', 'ldiag_5m_c', 'ldiag_10m_c', 'ldiag_15m_c', 'ldiag_20m_c']].to_dataframe().reset_index()\n",
    "src['SF_avg_ue'] = src['SF_avg_1m_ue'] + src['SF_avg_2m_ue']\n",
    "src = utils.modify_df_timezone(src, 'UTC', 'US/Mountain')\n",
    "src['on Dec 21/22'] = (src.time.dt.date == dt.date(2022,12,22)) | (src.time.dt.date == dt.date(2022,12,21))\n",
    "src = src.query(\"SF_avg_ue == 0\")\n",
    "rule = alt.Chart().transform_calculate(rule = '9000').mark_rule(strokeDash=[2,2]).encode(y='rule:Q')\n",
    "bad_sonic_data = (\n",
    "    alt.Chart(src).transform_fold([\n",
    "        'ldiag_3m_c', 'ldiag_5m_c', 'ldiag_10m_c', 'ldiag_15m_c', 'ldiag_20m_c'\n",
    "    ]).mark_circle(size=10).encode(\n",
    "        alt.X(\"RH_3m_c\").title(\"RH (%)\"),\n",
    "        alt.Y(\"value:Q\").title([\"Fraction of 20hz sonic anemometer\", \"measurements flagged (Tower C, 3m)\"]),\n",
    "        alt.Color(\"on Dec 21/22:N\"),\n",
    "        alt.Column('key:N').sort(['ldiag_3m_c', 'ldiag_5m_c', 'ldiag_10m_c', 'ldiag_15m_c', 'ldiag_20m_c'])\n",
    "    ).properties(width=200, height=200)\n",
    ").configure_axis(grid=False).configure_legend(columns=2, orient='top')\n",
    "bad_sonic_data.save(\"bad_sonic_data.png\", ppi=200)\n",
    "display(bad_sonic_data)"
   ]
  },
  {
   "cell_type": "code",
   "execution_count": 31,
   "metadata": {},
   "outputs": [
    {
     "data": {
      "text/plain": [
       "on Dec 21/22\n",
       "False    895\n",
       "True       5\n",
       "Name: count, dtype: int64"
      ]
     },
     "metadata": {},
     "output_type": "display_data"
    }
   ],
   "source": [
    "display(src.query(\"ldiag_3m_c > 0.1\")['on Dec 21/22'].value_counts())"
   ]
  },
  {
   "cell_type": "code",
   "execution_count": 32,
   "metadata": {},
   "outputs": [
    {
     "data": {
      "text/html": [
       "\n",
       "<style>\n",
       "  #altair-viz-c816f863726b4b56a502e423e99319f0.vega-embed {\n",
       "    width: 100%;\n",
       "    display: flex;\n",
       "  }\n",
       "\n",
       "  #altair-viz-c816f863726b4b56a502e423e99319f0.vega-embed details,\n",
       "  #altair-viz-c816f863726b4b56a502e423e99319f0.vega-embed details summary {\n",
       "    position: relative;\n",
       "  }\n",
       "</style>\n",
       "<div id=\"altair-viz-c816f863726b4b56a502e423e99319f0\"></div>\n",
       "<script type=\"text/javascript\">\n",
       "  var VEGA_DEBUG = (typeof VEGA_DEBUG == \"undefined\") ? {} : VEGA_DEBUG;\n",
       "  (function(spec, embedOpt){\n",
       "    let outputDiv = document.currentScript.previousElementSibling;\n",
       "    if (outputDiv.id !== \"altair-viz-c816f863726b4b56a502e423e99319f0\") {\n",
       "      outputDiv = document.getElementById(\"altair-viz-c816f863726b4b56a502e423e99319f0\");\n",
       "    }\n",
       "    const paths = {\n",
       "      \"vega\": \"https://cdn.jsdelivr.net/npm/vega@5?noext\",\n",
       "      \"vega-lib\": \"https://cdn.jsdelivr.net/npm/vega-lib?noext\",\n",
       "      \"vega-lite\": \"https://cdn.jsdelivr.net/npm/vega-lite@5.20.1?noext\",\n",
       "      \"vega-embed\": \"https://cdn.jsdelivr.net/npm/vega-embed@6?noext\",\n",
       "    };\n",
       "\n",
       "    function maybeLoadScript(lib, version) {\n",
       "      var key = `${lib.replace(\"-\", \"\")}_version`;\n",
       "      return (VEGA_DEBUG[key] == version) ?\n",
       "        Promise.resolve(paths[lib]) :\n",
       "        new Promise(function(resolve, reject) {\n",
       "          var s = document.createElement('script');\n",
       "          document.getElementsByTagName(\"head\")[0].appendChild(s);\n",
       "          s.async = true;\n",
       "          s.onload = () => {\n",
       "            VEGA_DEBUG[key] = version;\n",
       "            return resolve(paths[lib]);\n",
       "          };\n",
       "          s.onerror = () => reject(`Error loading script: ${paths[lib]}`);\n",
       "          s.src = paths[lib];\n",
       "        });\n",
       "    }\n",
       "\n",
       "    function showError(err) {\n",
       "      outputDiv.innerHTML = `<div class=\"error\" style=\"color:red;\">${err}</div>`;\n",
       "      throw err;\n",
       "    }\n",
       "\n",
       "    function displayChart(vegaEmbed) {\n",
       "      vegaEmbed(outputDiv, spec, embedOpt)\n",
       "        .catch(err => showError(`Javascript Error: ${err.message}<br>This usually means there's a typo in your chart specification. See the javascript console for the full traceback.`));\n",
       "    }\n",
       "\n",
       "    if(typeof define === \"function\" && define.amd) {\n",
       "      requirejs.config({paths});\n",
       "      require([\"vega-embed\"], displayChart, err => showError(`Error loading script: ${err.message}`));\n",
       "    } else {\n",
       "      maybeLoadScript(\"vega\", \"5\")\n",
       "        .then(() => maybeLoadScript(\"vega-lite\", \"5.20.1\"))\n",
       "        .then(() => maybeLoadScript(\"vega-embed\", \"6\"))\n",
       "        .catch(showError)\n",
       "        .then(() => displayChart(vegaEmbed));\n",
       "    }\n",
       "  })({\"config\": {\"view\": {\"continuousWidth\": 300, \"continuousHeight\": 300}, \"axis\": {\"grid\": false}}, \"vconcat\": [{\"hconcat\": [{\"layer\": [{\"data\": {\"url\": \"altair-data-7a4dac6450b2438bdd2903cae7e34a4e.json\", \"format\": {\"type\": \"json\"}}, \"mark\": {\"type\": \"circle\", \"size\": 10}, \"encoding\": {\"x\": {\"field\": \"RH_3m_c\", \"title\": \"Relative humidity, 3m (%)\", \"type\": \"quantitative\"}, \"y\": {\"field\": \"irgadiag_3m_c\", \"scale\": {\"type\": \"linear\"}, \"title\": [\"Sum of EC150 diagnostic flags\", \"3m\"], \"type\": \"quantitative\"}}}, {\"data\": {\"name\": \"empty\"}, \"mark\": {\"type\": \"rule\", \"color\": \"red\", \"strokeDash\": [4, 2]}, \"encoding\": {\"y\": {\"field\": \"y\", \"type\": \"quantitative\"}}, \"transform\": [{\"calculate\": \"9000\", \"as\": \"y\"}]}], \"height\": 200, \"width\": 200}, {\"layer\": [{\"data\": {\"url\": \"altair-data-7a4dac6450b2438bdd2903cae7e34a4e.json\", \"format\": {\"type\": \"json\"}}, \"mark\": {\"type\": \"circle\", \"size\": 10}, \"encoding\": {\"x\": {\"field\": \"RH_5m_c\", \"title\": \"Relative humidity, 5m (%)\", \"type\": \"quantitative\"}, \"y\": {\"field\": \"irgadiag_5m_c\", \"scale\": {\"type\": \"linear\"}, \"title\": [\"Sum of EC150 diagnostic flags\", \"5m\"], \"type\": \"quantitative\"}}}, {\"data\": {\"name\": \"empty\"}, \"mark\": {\"type\": \"rule\", \"color\": \"red\", \"strokeDash\": [4, 2]}, \"encoding\": {\"y\": {\"field\": \"y\", \"type\": \"quantitative\"}}, \"transform\": [{\"calculate\": \"9000\", \"as\": \"y\"}]}], \"height\": 200, \"width\": 200}, {\"layer\": [{\"data\": {\"url\": \"altair-data-7a4dac6450b2438bdd2903cae7e34a4e.json\", \"format\": {\"type\": \"json\"}}, \"mark\": {\"type\": \"circle\", \"size\": 10}, \"encoding\": {\"x\": {\"field\": \"RH_10m_c\", \"title\": \"Relative humidity, 10m (%)\", \"type\": \"quantitative\"}, \"y\": {\"field\": \"irgadiag_10m_c\", \"scale\": {\"type\": \"linear\"}, \"title\": [\"Sum of EC150 diagnostic flags\", \"10m\"], \"type\": \"quantitative\"}}}, {\"data\": {\"name\": \"empty\"}, \"mark\": {\"type\": \"rule\", \"color\": \"red\", \"strokeDash\": [4, 2]}, \"encoding\": {\"y\": {\"field\": \"y\", \"type\": \"quantitative\"}}, \"transform\": [{\"calculate\": \"9000\", \"as\": \"y\"}]}], \"height\": 200, \"width\": 200}]}, {\"hconcat\": [{\"layer\": [{\"data\": {\"url\": \"altair-data-7a4dac6450b2438bdd2903cae7e34a4e.json\", \"format\": {\"type\": \"json\"}}, \"mark\": {\"type\": \"circle\", \"size\": 10}, \"encoding\": {\"x\": {\"field\": \"RH_15m_c\", \"title\": \"Relative humidity, 15m (%)\", \"type\": \"quantitative\"}, \"y\": {\"field\": \"irgadiag_15m_c\", \"scale\": {\"type\": \"linear\"}, \"title\": [\"Sum of EC150 diagnostic flags\", \"15m\"], \"type\": \"quantitative\"}}}, {\"data\": {\"name\": \"empty\"}, \"mark\": {\"type\": \"rule\", \"color\": \"red\", \"strokeDash\": [4, 2]}, \"encoding\": {\"y\": {\"field\": \"y\", \"type\": \"quantitative\"}}, \"transform\": [{\"calculate\": \"9000\", \"as\": \"y\"}]}], \"height\": 200, \"width\": 200}, {\"layer\": [{\"data\": {\"url\": \"altair-data-7a4dac6450b2438bdd2903cae7e34a4e.json\", \"format\": {\"type\": \"json\"}}, \"mark\": {\"type\": \"circle\", \"size\": 10}, \"encoding\": {\"x\": {\"field\": \"RH_20m_c\", \"title\": \"Relative humidity, 20m (%)\", \"type\": \"quantitative\"}, \"y\": {\"field\": \"irgadiag_20m_c\", \"scale\": {\"type\": \"linear\"}, \"title\": [\"Sum of EC150 diagnostic flags\", \"20m\"], \"type\": \"quantitative\"}}}, {\"data\": {\"name\": \"empty\"}, \"mark\": {\"type\": \"rule\", \"color\": \"red\", \"strokeDash\": [4, 2]}, \"encoding\": {\"y\": {\"field\": \"y\", \"type\": \"quantitative\"}}, \"transform\": [{\"calculate\": \"9000\", \"as\": \"y\"}]}], \"height\": 200, \"width\": 200}]}], \"$schema\": \"https://vega.github.io/schema/vega-lite/v5.20.1.json\", \"datasets\": {\"empty\": [{}]}}, {\"mode\": \"vega-lite\"});\n",
       "</script>"
      ],
      "text/plain": [
       "alt.VConcatChart(...)"
      ]
     },
     "metadata": {},
     "output_type": "display_data"
    }
   ],
   "source": [
    "src = sos_ds[['RH_3m_c', 'RH_5m_c', 'RH_10m_c', 'RH_15m_c', 'RH_20m_c', \n",
    "                'irgadiag_3m_c', 'irgadiag_5m_c', 'irgadiag_10m_c', 'irgadiag_15m_c', 'irgadiag_20m_c', \n",
    "            ]].to_dataframe().reset_index()\n",
    "src = utils.modify_df_timezone(src, 'UTC', 'US/Mountain')\n",
    "\n",
    "bad_irga_data_3m = (\n",
    "    alt.Chart(src).mark_circle(size=10).encode(\n",
    "        alt.X(\"RH_3m_c:Q\").title(\"Relative humidity, 3m (%)\"),\n",
    "        alt.Y(\"irgadiag_3m_c:Q\").title([\"Sum of EC150 diagnostic flags\", \"3m\"]).scale(type='linear'),\n",
    "    ).properties(width=200, height=200)\n",
    ")\n",
    "bad_irga_data_5m = (\n",
    "    alt.Chart(src).mark_circle(size=10).encode(\n",
    "        alt.X(\"RH_5m_c:Q\").title(\"Relative humidity, 5m (%)\"),\n",
    "        alt.Y(\"irgadiag_5m_c:Q\").title([\"Sum of EC150 diagnostic flags\", \"5m\"]).scale(type='linear'),\n",
    "    ).properties(width=200, height=200)\n",
    ")\n",
    "bad_irga_data_10m = (\n",
    "    alt.Chart(src).mark_circle(size=10).encode(\n",
    "        alt.X(\"RH_10m_c:Q\").title(\"Relative humidity, 10m (%)\"),\n",
    "        alt.Y(\"irgadiag_10m_c:Q\").title([\"Sum of EC150 diagnostic flags\", \"10m\"]).scale(type='linear'),\n",
    "    ).properties(width=200, height=200)\n",
    ")\n",
    "bad_irga_data_15m = (\n",
    "    alt.Chart(src).mark_circle(size=10).encode(\n",
    "        alt.X(\"RH_15m_c:Q\").title(\"Relative humidity, 15m (%)\"),\n",
    "        alt.Y(\"irgadiag_15m_c:Q\").title([\"Sum of EC150 diagnostic flags\", \"15m\"]).scale(type='linear'),\n",
    "    ).properties(width=200, height=200)\n",
    ")\n",
    "bad_irga_data_20m = (\n",
    "    alt.Chart(src).mark_circle(size=10).encode(\n",
    "        alt.X(\"RH_20m_c:Q\").title(\"Relative humidity, 20m (%)\"),\n",
    "        alt.Y(\"irgadiag_20m_c:Q\").title([\"Sum of EC150 diagnostic flags\", \"20m\"]).scale(type='linear'),\n",
    "    ).properties(width=200, height=200)\n",
    ")\n",
    "rule = alt.Chart().transform_calculate(y='9000').mark_rule(color='red', strokeDash=[4,2]).encode(y='y:Q')\n",
    "bad_irga_data = (\n",
    "    ((bad_irga_data_3m+rule) | (bad_irga_data_5m+rule) | (bad_irga_data_10m+rule)  )\n",
    "    & ((bad_irga_data_15m+rule)| (bad_irga_data_20m+rule))\n",
    "    ).configure_axis(grid=False)\n",
    "bad_irga_data.save(\"bad_irga_data.png\", ppi=200)\n",
    "display(bad_irga_data)"
   ]
  },
  {
   "cell_type": "markdown",
   "metadata": {},
   "source": [
    "# Remove data points during snowfall"
   ]
  },
  {
   "cell_type": "code",
   "execution_count": 33,
   "metadata": {},
   "outputs": [],
   "source": [
    "if FILTER_SNOWFALL:\n",
    "    # open the snowfall dataset\n",
    "    snowfall_mask_df = pd.read_csv(snowfall_mask_file, index_col=0)\n",
    "    snowfall_mask_df.index.name = 'time'\n",
    "    snowfall_mask_df.index = pd.to_datetime(snowfall_mask_df.index)\n",
    "\n",
    "    # add it as a variable too the dataset\n",
    "    sos_ds = sos_ds.assign({\n",
    "        'snowfall_mask': snowfall_mask_df.to_xarray()['SAIL_gts_pluvio'].reindex_like(sos_ds).astype('bool')\n",
    "    })\n",
    "\n",
    "    for suffix in ec_measurement_suffixes:\n",
    "        w_var = 'w_' + suffix\n",
    "        h2o_flux_var = 'w_h2o__' + suffix\n",
    "        if h2o_flux_var in sos_ds.variables and sonicdiag_var in sos_ds.variables:\n",
    "            prefix = 'w_h2o__'\n",
    "            var = prefix + suffix\n",
    "            if var in sos_ds:\n",
    "                sos_ds[var] = sos_ds[var].where(sos_ds['snowfall_mask'].values, 0)\n",
    "        else:\n",
    "            print(f\"Variable {h2o_flux_var} or {sonicdiag_var} not in dataset.\")"
   ]
  },
  {
   "cell_type": "markdown",
   "metadata": {},
   "source": [
    "# Test for stationarity\n",
    "\n",
    "Following https://link.springer.com/10.1007/978-3-030-52171-4_55, http://link.springer.com/10.1007/s10546-015-0103-zz"
   ]
  },
  {
   "cell_type": "code",
   "execution_count": 35,
   "metadata": {},
   "outputs": [],
   "source": [
    "# data30min_matching_5min = (np.array([\n",
    "#     sos_ds[var].values,\n",
    "#     sos_ds[var].values,\n",
    "#     sos_ds[var].values,\n",
    "#     sos_ds[var].values,\n",
    "#     sos_ds[var].values,\n",
    "#     sos_ds[var].values,\n",
    "# ]).T).flatten()\n",
    "\n",
    "# data30min_matching_5min\n",
    "# stationary_stat =  100 * (data30min_matching_5min - sos_ds5min[var].values) / data30min_matching_5min\n"
   ]
  },
  {
   "cell_type": "markdown",
   "metadata": {},
   "source": [
    "See equation 55.16 in https://link.springer.com/10.1007/978-3-030-52171-4_55"
   ]
  },
  {
   "cell_type": "code",
   "execution_count": 36,
   "metadata": {},
   "outputs": [],
   "source": [
    "# for var in limited_nan_counts_df.variable:\n",
    "#     w_h2o__3m_c_stationarity_stat = 100*np.abs(\n",
    "#         (\n",
    "#             sos_ds5min[var].to_dataframe().resample('30Min').mean()\n",
    "#             -\n",
    "#             sos_ds[var].to_dataframe()\n",
    "#         ) / sos_ds[var].to_dataframe()\n",
    "#     )\n",
    "#     print(\n",
    "#         var,\n",
    "#         (w_h2o__3m_c_stationarity_stat > 30).sum().values, \n",
    "#         (w_h2o__3m_c_stationarity_stat <= 30).sum().values,\n",
    "#         round((((w_h2o__3m_c_stationarity_stat > 30).sum().values) / (\n",
    "#             ((w_h2o__3m_c_stationarity_stat > 30).sum().values + (w_h2o__3m_c_stationarity_stat <= 30).sum().values)\n",
    "#         ))[0], 2)\n",
    "#     )"
   ]
  },
  {
   "cell_type": "code",
   "execution_count": 37,
   "metadata": {},
   "outputs": [],
   "source": [
    "# from io import StringIO\n",
    "# df = pd.read_csv(StringIO(\n",
    "# \"\"\"\n",
    "# height tower dropped1 dropped2 percent_nonstationary\n",
    "# 2 ue 1509 3762 0.29\n",
    "# 3 ue 3077 5706 0.35\n",
    "# 10 ue 5094 3848 0.57\n",
    "# 2 d 1371 3653 0.27\n",
    "# 3 d 2796 5945 0.32\n",
    "# 10 d 4927 3917 0.56\n",
    "# 2 uw 1291 2745 0.32\n",
    "# 3 uw 3170 5721 0.36\n",
    "# 10 uw 4780 3930 0.55\n",
    "# 2 c 3110 5941 0.34\n",
    "# 3 c 3379 5660 0.37\n",
    "# 5 c 4315 5012 0.46\n",
    "# 10 c 5410 3803 0.59\n",
    "# 15 c 5864 3581 0.62\n",
    "# 20 c 5773 3298 0.64\n",
    "# \"\"\"\n",
    "# ), delim_whitespace=True)\n",
    "# df.percent_nonstationary = df.percent_nonstationary*100\n",
    "# alt.Chart(df).mark_point().encode(\n",
    "#     alt.X(\"percent_nonstationary:Q\").title(\"% Non-stationary\"),\n",
    "#     alt.Y(\"height\").title(\"height (m)\"),\n",
    "#     alt.Color(\"tower:N\")\n",
    "# ).properties(width = 150, height = 150).display(renderer='svg')"
   ]
  },
  {
   "cell_type": "code",
   "execution_count": 38,
   "metadata": {},
   "outputs": [
    {
     "data": {
      "text/plain": [
       "<matplotlib.legend.Legend at 0x283ebbb90>"
      ]
     },
     "execution_count": 38,
     "metadata": {},
     "output_type": "execute_result"
    },
    {
     "data": {
      "image/png": "[encoded data removed]",
      "text/plain": [
       "<Figure size 640x480 with 1 Axes>"
      ]
     },
     "metadata": {},
     "output_type": "display_data"
    }
   ],
   "source": [
    "fig, ax = plt.subplots()\n",
    "(sos_ds5min['w_h2o__10m_c'].cumsum()*60*5/density_water.magnitude).plot(ax=ax, label='5 min')\n",
    "(sos_ds['w_h2o__10m_c'].cumsum()*60*30/density_water.magnitude).plot(ax=ax, label='30 min')\n",
    "plt.legend()"
   ]
  },
  {
   "cell_type": "markdown",
   "metadata": {},
   "source": [
    "# Add additional variables"
   ]
  },
  {
   "cell_type": "markdown",
   "metadata": {},
   "source": [
    "## Add snow depth"
   ]
  },
  {
   "cell_type": "markdown",
   "metadata": {},
   "source": [
    "Open snow depth data"
   ]
  },
  {
   "cell_type": "code",
   "execution_count": 39,
   "metadata": {},
   "outputs": [
    {
     "data": {
      "image/png": "[encoded data removed]",
      "text/plain": [
       "<Figure size 640x480 with 1 Axes>"
      ]
     },
     "metadata": {},
     "output_type": "display_data"
    }
   ],
   "source": [
    "towerc_snowdepth_dataset = xr.open_dataset(\"~/Development/data/sublimationofsnow/lidar_snow_depth/C_l2.nc\")\n",
    "towerc_lidar_snowdepth_da = towerc_snowdepth_dataset.resample(time='1440Min').median()['surface']\n",
    "towerc_lidar_snowdepth_da = towerc_lidar_snowdepth_da.interpolate_na(dim = 'time', method='linear')\n",
    "towerc_lidar_snowdepth_da = towerc_lidar_snowdepth_da.where(towerc_lidar_snowdepth_da > 0, 0)\n",
    "towerc_lidar_snowdepth_upsample_da = towerc_lidar_snowdepth_da.resample(time = '30Min').pad()\n",
    "towerc_lidar_snowdepth_da.plot()\n",
    "towerc_lidar_snowdepth_upsample_da.plot()\n",
    "plt.show()"
   ]
  },
  {
   "cell_type": "code",
   "execution_count": 40,
   "metadata": {},
   "outputs": [],
   "source": [
    "towerc_snowdepth_df = towerc_lidar_snowdepth_upsample_da.loc[\n",
    "    sos_ds.time.min():sos_ds.time.max()\n",
    "].to_dataframe()\n",
    "towerc_snowdepth_df = towerc_snowdepth_df.reset_index()\n",
    "sos_ds['SnowDepth_c'] = (['time'],  towerc_snowdepth_df.surface.values)"
   ]
  },
  {
   "cell_type": "code",
   "execution_count": 41,
   "metadata": {},
   "outputs": [
    {
     "data": {
      "image/png": "[encoded data removed]",
      "text/plain": [
       "<Figure size 640x480 with 1 Axes>"
      ]
     },
     "metadata": {},
     "output_type": "display_data"
    }
   ],
   "source": [
    "towerd_snowdepth_dataset = xr.open_dataset(\"~/Development/data/sublimationofsnow/lidar_snow_depth/D_from_D_l6.nc\")\n",
    "towerd_lidar_snowdepth_da = towerd_snowdepth_dataset.resample(time='1440Min').median()['surface']\n",
    "towerd_lidar_snowdepth_da = towerd_lidar_snowdepth_da.interpolate_na(dim = 'time', method='linear')\n",
    "towerd_lidar_snowdepth_da = towerd_lidar_snowdepth_da.where(towerd_lidar_snowdepth_da > 0, 0)\n",
    "towerd_lidar_snowdepth_upsample_da = towerd_lidar_snowdepth_da.resample(time = '30Min').pad()\n",
    "towerd_lidar_snowdepth_da.plot()\n",
    "towerd_lidar_snowdepth_upsample_da.plot()\n",
    "plt.show()"
   ]
  },
  {
   "cell_type": "code",
   "execution_count": 42,
   "metadata": {},
   "outputs": [],
   "source": [
    "towerd_snowdepth_df = towerd_lidar_snowdepth_upsample_da.loc[\n",
    "    sos_ds.time.min():sos_ds.time.max()\n",
    "].to_dataframe()\n",
    "towerd_snowdepth_df = towerd_snowdepth_df.reset_index()\n",
    "sos_ds['SnowDepth_d'] = (['time'],  towerd_snowdepth_df.surface.values)"
   ]
  },
  {
   "cell_type": "code",
   "execution_count": 43,
   "metadata": {},
   "outputs": [
    {
     "data": {
      "text/plain": [
       "<matplotlib.legend.Legend at 0x283fbe750>"
      ]
     },
     "execution_count": 43,
     "metadata": {},
     "output_type": "execute_result"
    },
    {
     "data": {
      "image/png": "[encoded data removed]",
      "text/plain": [
       "<Figure size 640x480 with 1 Axes>"
      ]
     },
     "metadata": {},
     "output_type": "display_data"
    }
   ],
   "source": [
    "sos_ds['SnowDepth_c'].plot(label='SnowDepth_c')\n",
    "sos_ds['SnowDepth_d'].plot(label='SnowDepth_d')\n",
    "plt.legend()"
   ]
  },
  {
   "cell_type": "markdown",
   "metadata": {},
   "source": [
    "## Add/calculate longwave radiation and surface temperatures"
   ]
  },
  {
   "cell_type": "code",
   "execution_count": 44,
   "metadata": {},
   "outputs": [],
   "source": [
    "sos_ds = variables.add_longwave_radiation(sos_ds)\n",
    "sos_ds = variables.add_surface_temps(sos_ds)"
   ]
  },
  {
   "cell_type": "markdown",
   "metadata": {},
   "source": [
    "### Clean $T_s$ variables before proceeding with other calculations\n",
    "\n",
    "(as of Feb 20, 2023, using NCAR's QC data release, we found a single $T_s$ outlier.)"
   ]
  },
  {
   "cell_type": "code",
   "execution_count": 45,
   "metadata": {},
   "outputs": [
    {
     "data": {
      "text/plain": [
       "['Tsurf_rad_d',\n",
       " 'Tsurf_c',\n",
       " 'Tsurf_d',\n",
       " 'Tsurf_ue',\n",
       " 'Tsurf_uw',\n",
       " 'Tsurfplanck_c',\n",
       " 'Tsurfplanck_d',\n",
       " 'Tsurfplanck_ue',\n",
       " 'Tsurfplanck_uw']"
      ]
     },
     "execution_count": 45,
     "metadata": {},
     "output_type": "execute_result"
    }
   ],
   "source": [
    "Tsurf_vars = [v for v in sos_ds.data_vars if v.startswith('Tsurf')]\n",
    "Tsurf_vars"
   ]
  },
  {
   "cell_type": "code",
   "execution_count": 46,
   "metadata": {},
   "outputs": [
    {
     "name": "stdout",
     "output_type": "stream",
     "text": [
      "Tsurf_rad_d\t -30.2\t33.4\n",
      "Tsurf_c\t -78.7\t69.3\n",
      "Tsurf_d\t -84.7\t222.2\n",
      "Tsurf_ue\t -70.1\t102.6\n",
      "Tsurf_uw\t -32.0\t171.9\n",
      "Tsurfplanck_c\t -79.1\t69.3\n",
      "Tsurfplanck_d\t -85.1\t223.2\n",
      "Tsurfplanck_ue\t -70.5\t102.8\n",
      "Tsurfplanck_uw\t -32.3\t172.5\n"
     ]
    }
   ],
   "source": [
    "for var in Tsurf_vars:\n",
    "    print(f\"{var}\\t {round(sos_ds[var].min().item(), 1)}\\t{round(sos_ds[var].max().item(), 1)}\")"
   ]
  },
  {
   "cell_type": "code",
   "execution_count": 47,
   "metadata": {},
   "outputs": [],
   "source": [
    "for var in Tsurf_vars:\n",
    "    sos_ds[var] = sos_ds[var].where(\n",
    "        (sos_ds[var].values > -40)\n",
    "        &\n",
    "        (sos_ds[var].values < 40)\n",
    "    ).interpolate_na(\n",
    "        dim='time', \n",
    "        method='linear'\n",
    "    ).where(\n",
    "        ~ sos_ds[var].isnull()\n",
    "    )"
   ]
  },
  {
   "cell_type": "code",
   "execution_count": 48,
   "metadata": {},
   "outputs": [
    {
     "name": "stdout",
     "output_type": "stream",
     "text": [
      "Tsurf_rad_d\t -30.2\t33.4\n",
      "Tsurf_c\t -32.5\t38.1\n",
      "Tsurf_d\t -32.6\t33.8\n",
      "Tsurf_ue\t -32.0\t40.0\n",
      "Tsurf_uw\t -32.0\t39.9\n",
      "Tsurfplanck_c\t -32.8\t38.0\n",
      "Tsurfplanck_d\t -32.9\t33.7\n",
      "Tsurfplanck_ue\t -32.3\t39.9\n",
      "Tsurfplanck_uw\t -32.3\t39.8\n"
     ]
    }
   ],
   "source": [
    "for var in Tsurf_vars:\n",
    "    print(f\"{var}\\t {round(sos_ds[var].min().item(), 1)}\\t{round(sos_ds[var].max().item(), 1)}\")\n"
   ]
  },
  {
   "cell_type": "code",
   "execution_count": 49,
   "metadata": {},
   "outputs": [
    {
     "data": {
      "text/plain": [
       "[<matplotlib.lines.Line2D at 0x1777ef650>]"
      ]
     },
     "execution_count": 49,
     "metadata": {},
     "output_type": "execute_result"
    },
    {
     "data": {
      "image/png": "[encoded data removed]",
      "text/plain": [
       "<Figure size 640x480 with 4 Axes>"
      ]
     },
     "metadata": {},
     "output_type": "display_data"
    }
   ],
   "source": [
    "fig, axes = plt.subplots(2,2,sharex=True,sharey=True)\n",
    "sos_ds['Tsurf_c'].plot(ax=axes[0][0])\n",
    "sos_ds['Tsurf_d'].plot(ax=axes[0][1])\n",
    "sos_ds['Tsurf_ue'].plot(ax=axes[1][0])\n",
    "sos_ds['Tsurf_uw'].plot(ax=axes[1][1])"
   ]
  },
  {
   "cell_type": "markdown",
   "metadata": {},
   "source": [
    "## Add $T_v, \\theta, \\theta_v, \\textbf{tke}, R_i, L$"
   ]
  },
  {
   "cell_type": "code",
   "execution_count": 50,
   "metadata": {},
   "outputs": [
    {
     "name": "stderr",
     "output_type": "stream",
     "text": [
      "/Users/elischwat/miniforge3/envs/sublimationofsnow/lib/python3.12/site-packages/sublimpy/gradients.py:126: OptimizeWarning: Covariance of the parameters could not be estimated\n",
      "  [a,b,c], _ = curve_fit(LogPolynomial.function, heights, values)\n",
      "/Users/elischwat/miniforge3/envs/sublimationofsnow/lib/python3.12/site-packages/sublimpy/gradients.py:126: OptimizeWarning: Covariance of the parameters could not be estimated\n",
      "  [a,b,c], _ = curve_fit(LogPolynomial.function, heights, values)\n",
      "/Users/elischwat/miniforge3/envs/sublimationofsnow/lib/python3.12/site-packages/sublimpy/gradients.py:126: OptimizeWarning: Covariance of the parameters could not be estimated\n",
      "  [a,b,c], _ = curve_fit(LogPolynomial.function, heights, values)\n",
      "/Users/elischwat/miniforge3/envs/sublimationofsnow/lib/python3.12/site-packages/sublimpy/gradients.py:126: OptimizeWarning: Covariance of the parameters could not be estimated\n",
      "  [a,b,c], _ = curve_fit(LogPolynomial.function, heights, values)\n",
      "/Users/elischwat/miniforge3/envs/sublimationofsnow/lib/python3.12/site-packages/sublimpy/gradients.py:126: OptimizeWarning: Covariance of the parameters could not be estimated\n",
      "  [a,b,c], _ = curve_fit(LogPolynomial.function, heights, values)\n",
      "/Users/elischwat/miniforge3/envs/sublimationofsnow/lib/python3.12/site-packages/sublimpy/gradients.py:126: OptimizeWarning: Covariance of the parameters could not be estimated\n",
      "  [a,b,c], _ = curve_fit(LogPolynomial.function, heights, values)\n",
      "/Users/elischwat/miniforge3/envs/sublimationofsnow/lib/python3.12/site-packages/sublimpy/gradients.py:126: OptimizeWarning: Covariance of the parameters could not be estimated\n",
      "  [a,b,c], _ = curve_fit(LogPolynomial.function, heights, values)\n",
      "/Users/elischwat/miniforge3/envs/sublimationofsnow/lib/python3.12/site-packages/sublimpy/gradients.py:126: OptimizeWarning: Covariance of the parameters could not be estimated\n",
      "  [a,b,c], _ = curve_fit(LogPolynomial.function, heights, values)\n",
      "/Users/elischwat/miniforge3/envs/sublimationofsnow/lib/python3.12/site-packages/sublimpy/gradients.py:126: OptimizeWarning: Covariance of the parameters could not be estimated\n",
      "  [a,b,c], _ = curve_fit(LogPolynomial.function, heights, values)\n",
      "/Users/elischwat/miniforge3/envs/sublimationofsnow/lib/python3.12/site-packages/sublimpy/gradients.py:126: OptimizeWarning: Covariance of the parameters could not be estimated\n",
      "  [a,b,c], _ = curve_fit(LogPolynomial.function, heights, values)\n",
      "/Users/elischwat/miniforge3/envs/sublimationofsnow/lib/python3.12/site-packages/sublimpy/gradients.py:126: OptimizeWarning: Covariance of the parameters could not be estimated\n",
      "  [a,b,c], _ = curve_fit(LogPolynomial.function, heights, values)\n",
      "/Users/elischwat/miniforge3/envs/sublimationofsnow/lib/python3.12/site-packages/sublimpy/gradients.py:126: OptimizeWarning: Covariance of the parameters could not be estimated\n",
      "  [a,b,c], _ = curve_fit(LogPolynomial.function, heights, values)\n"
     ]
    }
   ],
   "source": [
    "sos_ds = variables.add_potential_virtual_temperatures(sos_ds)\n",
    "sos_ds = variables.add_surface_potential_virtual_temperatures(sos_ds)\n",
    "sos_ds = variables.add_tke(sos_ds)\n",
    "sos_ds = variables.add_gradients_and_ri(sos_ds)\n",
    "sos_ds = variables.add_shear_velocity_and_obukhov_length(sos_ds)"
   ]
  },
  {
   "cell_type": "markdown",
   "metadata": {},
   "source": [
    "## Add decoupling metric, from Peltola et al. (2021).\n",
    "\n",
    "We adjust the height value for snow depth."
   ]
  },
  {
   "cell_type": "code",
   "execution_count": 51,
   "metadata": {},
   "outputs": [],
   "source": [
    "def decoupling_metric(z, sigma_w, N):\n",
    "    \"\"\"Calculate the decoupling metric as described in Peltola et al (2021).\n",
    "\n",
    "    Peltola, O., Lapo, K., & Thomas, C. K. (2021). A Physics‐Based Universal Indicator for Vertical Decoupling and Mixing Across Canopies Architectures and Dynamic Stabilities. Geophysical Research Letters, 48(5), e2020GL091615. https://doi.org/10.1029/2020GL091615\n",
    "    \n",
    "    Args:\n",
    "        z (float): height of measurements \n",
    "        sigma_w (float): standarad deviation of w, vertical velocity\n",
    "        N (float): Brunt-Vaisala frequency\n",
    "    \"\"\"\n",
    "    # Brunt Vaisala frequency estimated using the bulk theta gradient\n",
    "    # N = np.sqrt(\n",
    "    #     g * (theta_e - theta_mean) / theta_mean\n",
    "    # )\n",
    "\n",
    "    Lb = sigma_w / N\n",
    "    omega = Lb / ( np.sqrt(2)*z )\n",
    "    return omega\n"
   ]
  },
  {
   "cell_type": "code",
   "execution_count": 52,
   "metadata": {},
   "outputs": [
    {
     "name": "stdout",
     "output_type": "stream",
     "text": [
      "11088\n",
      "11088\n",
      "11088\n",
      "11088\n"
     ]
    },
    {
     "name": "stderr",
     "output_type": "stream",
     "text": [
      "/var/folders/x_/2h52bcjx2px15bhmdpdd748h0000gn/T/ipykernel_77483/56407381.py:16: RuntimeWarning: divide by zero encountered in divide\n",
      "  Lb = sigma_w / N\n"
     ]
    }
   ],
   "source": [
    "#######################################################################\n",
    "### OLD METHOD USING GRADIENT-BASED N\n",
    "#######################################################################\n",
    "from metpy.calc import brunt_vaisala_frequency\n",
    "\n",
    "sigma_w = np.sqrt(sos_ds['w_w__3m_c']).values\n",
    "pot_temps = sos_ds[[\n",
    "    'Tpot_2m_c', \n",
    "    'Tpot_3m_c', \n",
    "    'Tpot_4m_c', \n",
    "    'Tpot_5m_c', \n",
    "    'Tpot_6m_c'\n",
    "]].to_stacked_array(\n",
    "    'z', ['time']\n",
    ").values\n",
    "\n",
    "snow_depth_values = sos_ds['SnowDepth_c']\n",
    "snow_depth_values_reshaped = np.repeat(sos_ds['SnowDepth_c'].values, 5).reshape(-1, 5)\n",
    "\n",
    "heights = np.full(pot_temps.shape,  [ 2,    3,    4,    5,    6])\n",
    "heights_adjusted = heights - snow_depth_values_reshaped\n",
    "brunt_vaisala_values = [ Ns[1] for Ns in \n",
    "    brunt_vaisala_frequency( \n",
    "        heights_adjusted * units(\"meters\"),\n",
    "        pot_temps * units(\"celsius\"), \n",
    "        vertical_dim=1\n",
    "    ).magnitude   \n",
    "]\n",
    "z = np.full(sigma_w.shape, 3) - snow_depth_values.values\n",
    "\n",
    "# decoupling_metric(z, sigma_w, N)\n",
    "print(len(z))\n",
    "print(len(sigma_w))\n",
    "print(len(brunt_vaisala_values))\n",
    "\n",
    "omegas = decoupling_metric(z, sigma_w, brunt_vaisala_values)\n",
    "sos_ds['omega_3m_c'] = (['time'],  omegas)\n",
    "print(len(omegas))\n",
    "\n",
    "\n",
    "\n",
    "#######################################################################\n",
    "### NEW METHOD USING BULK N\n",
    "#######################################################################\n",
    "# sigma_w = np.sqrt(sos_ds['w_w__3m_c']).values\n",
    "\n",
    "# snow_depth_values = sos_ds['SnowDepth_c'].values\n",
    "\n",
    "# air_temp_height = 3\n",
    "# heights_adjusted = air_temp_height - snow_depth_values\n",
    "# surf_pottemp = sos_ds['Tsurfpot_c'].values\n",
    "# air_pottemp = sos_ds['Tpot_3m_c'].values\n",
    "# surfacealyer_avg_pottemp = 0.5*(air_pottemp + surf_pottemp)\n",
    "# bulk_brunt_vaisala_value = np.sqrt(\n",
    "#     metpy.constants.earth_gravity.magnitude.item()*(air_pottemp - surfacealyer_avg_pottemp) \n",
    "#     /\n",
    "#     (surfacealyer_avg_pottemp * heights_adjusted)\n",
    "# )\n",
    "# z = np.full(sigma_w.shape, 3) - snow_depth_values\n",
    "\n",
    "# # decoupling_metric(z, sigma_w, N)\n",
    "# print(len(z))\n",
    "# print(len(sigma_w))\n",
    "# print(len(bulk_brunt_vaisala_value))\n",
    "\n",
    "# omegas = decoupling_metric(z, sigma_w, bulk_brunt_vaisala_value)\n",
    "# sos_ds['omega_3m_c'] = (['time'],  omegas)"
   ]
  },
  {
   "cell_type": "code",
   "execution_count": 53,
   "metadata": {},
   "outputs": [
    {
     "data": {
      "text/plain": [
       "(0.0, 1.0)"
      ]
     },
     "execution_count": 53,
     "metadata": {},
     "output_type": "execute_result"
    },
    {
     "data": {
      "image/png": "[encoded data removed]",
      "text/plain": [
       "<Figure size 640x480 with 1 Axes>"
      ]
     },
     "metadata": {},
     "output_type": "display_data"
    }
   ],
   "source": [
    "import seaborn as sns\n",
    "sns.histplot(sos_ds['omega_3m_c'])\n",
    "plt.xlim(0,1)"
   ]
  },
  {
   "cell_type": "markdown",
   "metadata": {},
   "source": [
    "## Net LW and Net SW"
   ]
  },
  {
   "cell_type": "code",
   "execution_count": 54,
   "metadata": {},
   "outputs": [],
   "source": [
    "sos_ds['Rlw_net_9m_d'] = sos_ds['Rlw_in_9m_d'] - sos_ds['Rlw_out_9m_d']\n",
    "sos_ds['Rsw_net_9m_d'] = sos_ds['Rsw_in_9m_d'] - sos_ds['Rsw_out_9m_d']\n",
    "\n",
    "sos_ds['Rlw_net_9m_uw'] = sos_ds['Rlw_in_9m_uw'] - sos_ds['Rlw_out_9m_uw']"
   ]
  },
  {
   "cell_type": "markdown",
   "metadata": {},
   "source": [
    "## Net Radiation"
   ]
  },
  {
   "cell_type": "code",
   "execution_count": 55,
   "metadata": {},
   "outputs": [],
   "source": [
    "sos_ds['Rnet_9m_d'] = (\n",
    "    (sos_ds['Rsw_in_9m_d'] + sos_ds['Rlw_in_9m_d'])\n",
    "    -\n",
    "    (sos_ds['Rsw_out_9m_d'] + sos_ds['Rlw_out_9m_d'])\n",
    ")"
   ]
  },
  {
   "cell_type": "markdown",
   "metadata": {},
   "source": [
    "## Specific humidity"
   ]
  },
  {
   "cell_type": "code",
   "execution_count": 56,
   "metadata": {},
   "outputs": [],
   "source": [
    "for var in [\n",
    "    'Tsurfmixingratio_c',\n",
    "    'mixingratio_1m_c',\n",
    "    'mixingratio_2m_c',\n",
    "    'mixingratio_3m_c',\n",
    "    'mixingratio_4m_c',\n",
    "    'mixingratio_5m_c',\n",
    "    'mixingratio_6m_c',\n",
    "    'mixingratio_7m_c',\n",
    "    'mixingratio_8m_c',\n",
    "    'mixingratio_9m_c',\n",
    "    'mixingratio_10m_c',\n",
    "    'mixingratio_11m_c',\n",
    "    'mixingratio_12m_c',\n",
    "    'mixingratio_13m_c',\n",
    "    'mixingratio_14m_c',\n",
    "    'mixingratio_15m_c',\n",
    "    'mixingratio_16m_c',\n",
    "    'mixingratio_17m_c',\n",
    "    'mixingratio_18m_c',\n",
    "    'mixingratio_19m_c',\n",
    "    'mixingratio_20m_c',\n",
    "]:\n",
    "    new_var_name = var.replace('mixingratio', 'specifichumidity')\n",
    "    result = specific_humidity_from_mixing_ratio(\n",
    "        sos_ds[var]*units('g/g')\n",
    "    )\n",
    "    sos_ds[new_var_name] = (['time'], result.values)\n",
    "    sos_ds[new_var_name] = sos_ds[new_var_name].assign_attrs(units=str(result.pint.units))"
   ]
  },
  {
   "cell_type": "markdown",
   "metadata": {},
   "source": [
    "# Apply sensible and latent heat flux corrections (lots of citations, see here: https://www.eol.ucar.edu/content/corrections-sensible-and-latent-heat-flux-measurements)"
   ]
  },
  {
   "cell_type": "code",
   "execution_count": 57,
   "metadata": {},
   "outputs": [],
   "source": [
    "# rho_d = 1293*units('g/m^3') # density of dry air\n",
    "# rho_a = 1287*units('g/m^3') #density of moist air\n",
    "# rho_v = 600*units('g/m^3') #density of water vapor\n",
    "# mu = 1/0.622\n",
    "# rho_w = metpy.constants.density_water\n",
    "\n",
    "# def corrected_sensible_heat_flux(\n",
    "#     w_tc_, #sonic_temperature_flux\n",
    "#     w_h2o_, #h2o_flux\n",
    "#     Q, #specific_humidity\n",
    "#     T, #absolute_temperature\n",
    "#     A, #A\n",
    "#     Mr, #mean_mixing_ratio\n",
    "# ):\n",
    "#     Ctc = 0.51*(1 + Q*(mu-1))\n",
    "#     part1 = w_tc_ - Ctc*(T/rho_a)*A*w_h2o_\n",
    "#     part2 = 1 + Ctc*Q\n",
    "#     return part1 / part2\n",
    "\n",
    "# def corrected_latent_heat_flux(\n",
    "#     w_tc_, #sonic_temperature_flux\n",
    "#     w_h2o_, #h2o_flux\n",
    "#     Q, #specific_humidity\n",
    "#     T, #absolute_temperature\n",
    "#     A, #A\n",
    "#     Mr, #mean_mixing_ratio\n",
    "# ):\n",
    "#     Ctc = 0.51*(1 + Q*(mu-1))\n",
    "#     return (1 + mu*Mr)* (\n",
    "#         (A/rho_d)*w_h2o_ + (Mr/T)*(w_tc_)\n",
    "#     ) / (\n",
    "#         1 + Ctc*Q\n",
    "#     )\n",
    "\n",
    "# def wpl_corrected_latent_heat_flux(\n",
    "#     w_tc_, #sonic_temperature_flux\n",
    "#     w_h2o_, #h2o_flux\n",
    "#     Q, #specific_humidity\n",
    "#     T, #absolute_temperature\n",
    "#     A, #A\n",
    "#     Mr, #mean_mixing_ratio\n",
    "# ):\n",
    "#     return (\n",
    "#         1 + mu*Mr\n",
    "#     )*(\n",
    "#         w_h2o_ + (rho_v/T)*w_tc_\n",
    "#     )"
   ]
  },
  {
   "cell_type": "code",
   "execution_count": 58,
   "metadata": {},
   "outputs": [],
   "source": [
    "# sos_ds['w_tc__3m_c_corrected'] = corrected_sensible_heat_flux(\n",
    "#     sos_ds['w_tc__3m_c']*units(\"(m/s)(degK)\"),\n",
    "#     sos_ds['w_h2o__3m_c']*units(\"(m/s)(g/m^3)\"),\n",
    "#     sos_ds['specifichumidity_3m_c']*units(\"g/g\"),\n",
    "#     sos_ds['T_3m_c'] * units.degK,\n",
    "#     1, #A\n",
    "#     sos_ds['mixingratio_3m_c']*units(\"g/g\")\n",
    "# )\n",
    "# sos_ds['w_h2o__3m_c_corrected'] = rho_d*corrected_latent_heat_flux(\n",
    "#     sos_ds['w_tc__3m_c']*units(\"(m/s)(degC)\"),\n",
    "#     sos_ds['w_h2o__3m_c']*units(\"(m/s)(g/m^3)\"),\n",
    "#     sos_ds['specifichumidity_3m_c']*units(\"g/g\"),\n",
    "#     sos_ds['T_3m_c'] * units.degC,\n",
    "#     1, #A\n",
    "#     sos_ds['mixingratio_3m_c']*units(\"g/g\")\n",
    "# )\n",
    "\n",
    "# # WHY DO I HAVE TO MULTIPLE DENSITY_WATER HERE???\n",
    "# sos_ds['w_h2o__3m_c_wplcorrected'] = wpl_corrected_latent_heat_flux(\n",
    "#     sos_ds['w_tc__3m_c']*units(\"(m/s)(degC)\"),\n",
    "#     sos_ds['w_h2o__3m_c']*units(\"(m/s)(g/m^3)\"),\n",
    "#     sos_ds['specifichumidity_3m_c']*units(\"g/g\"),\n",
    "#     sos_ds['T_3m_c'] * units.degC,\n",
    "#     1, #A\n",
    "#     sos_ds['mixingratio_3m_c']*units(\"g/g\")\n",
    "# )"
   ]
  },
  {
   "cell_type": "code",
   "execution_count": 59,
   "metadata": {},
   "outputs": [],
   "source": [
    "# (sos_ds['w_h2o__3m_c']).sel(time=slice('20221201', '20221215')).plot(label=\"Measured\")\n",
    "# (-0.1*sos_ds['w_h2o__3m_c_corrected']).sel(time=slice('20221201', '20221215')).plot(label='Corrected')\n",
    "# plt.legend()"
   ]
  },
  {
   "cell_type": "code",
   "execution_count": 60,
   "metadata": {},
   "outputs": [],
   "source": [
    "# (\n",
    "#     (sos_ds['w_tc__3m_c'] - sos_ds['w_tc__3m_c_corrected'].pint.magnitude)/sos_ds['w_tc__3m_c']\n",
    "# ).sel(time=slice('20221201', '20221215')).plot(label=\"∆ w_tc_ (meas-corr)/meas\")\n",
    "# # plt.ylim(-100,100)\n",
    "# plt.legend()"
   ]
  },
  {
   "cell_type": "code",
   "execution_count": 61,
   "metadata": {},
   "outputs": [],
   "source": [
    "# (\n",
    "#     (sos_ds['w_h2o__3m_c'] - sos_ds['w_h2o__3m_c_corrected'].pint.magnitude)/sos_ds['w_h2o__3m_c']\n",
    "# ).sel(time=slice('20221201', '20221215')).plot(label=\"∆ w_q_ (meas-corr)/meas\")\n",
    "# plt.ylim(-200,200)\n",
    "# plt.legend()"
   ]
  },
  {
   "cell_type": "code",
   "execution_count": 62,
   "metadata": {},
   "outputs": [],
   "source": [
    "# sos_ds['w_tc__3m_c'].sel(time=slice('20221201', '20221215')).plot()\n",
    "# sos_ds['w_tc__3m_c_corrected'].sel(time=slice('20221201', '20221215')).plot()"
   ]
  },
  {
   "attachments": {},
   "cell_type": "markdown",
   "metadata": {},
   "source": [
    "# Get Tidy Dataset"
   ]
  },
  {
   "cell_type": "code",
   "execution_count": 63,
   "metadata": {},
   "outputs": [],
   "source": [
    "from sublimpy import tidy"
   ]
  },
  {
   "cell_type": "code",
   "execution_count": 64,
   "metadata": {},
   "outputs": [],
   "source": [
    "tidy_df = tidy.get_tidy_dataset(sos_ds, list(sos_ds.data_vars))"
   ]
  },
  {
   "attachments": {},
   "cell_type": "markdown",
   "metadata": {},
   "source": [
    "Which variables did not get a \"measurement\" name assigned?"
   ]
  },
  {
   "cell_type": "code",
   "execution_count": 65,
   "metadata": {},
   "outputs": [
    {
     "data": {
      "text/plain": [
       "array(['Rpile_out_9m_d', 'Tcase_out_9m_d', 'Rpile_in_9m_d',\n",
       "       'Tcase_in_9m_d', 'Tcase_uw', 'Rpile_in_uw', 'Rpile_out_uw',\n",
       "       'snowfall_mask', 'Tsurfdryairdensity_rad_d',\n",
       "       'Tsurfdryairdensity_c'], dtype=object)"
      ]
     },
     "execution_count": 65,
     "metadata": {},
     "output_type": "execute_result"
    }
   ],
   "source": [
    "variables_with_no_measurement = tidy_df[tidy_df.measurement.apply(lambda x: x is None)].variable.unique()\n",
    "variables_with_no_measurement"
   ]
  },
  {
   "cell_type": "code",
   "execution_count": 66,
   "metadata": {},
   "outputs": [
    {
     "data": {
      "text/plain": [
       "set()"
      ]
     },
     "execution_count": 66,
     "metadata": {},
     "output_type": "execute_result"
    }
   ],
   "source": [
    "set(tidy_df.variable.unique()).difference(set(list(sos_ds.data_vars)))"
   ]
  },
  {
   "cell_type": "code",
   "execution_count": 67,
   "metadata": {},
   "outputs": [
    {
     "data": {
      "text/html": [
       "\n",
       "<style>\n",
       "  #altair-viz-d8972e8da298437f96ada8abd9ad295d.vega-embed {\n",
       "    width: 100%;\n",
       "    display: flex;\n",
       "  }\n",
       "\n",
       "  #altair-viz-d8972e8da298437f96ada8abd9ad295d.vega-embed details,\n",
       "  #altair-viz-d8972e8da298437f96ada8abd9ad295d.vega-embed details summary {\n",
       "    position: relative;\n",
       "  }\n",
       "</style>\n",
       "<div id=\"altair-viz-d8972e8da298437f96ada8abd9ad295d\"></div>\n",
       "<script type=\"text/javascript\">\n",
       "  var VEGA_DEBUG = (typeof VEGA_DEBUG == \"undefined\") ? {} : VEGA_DEBUG;\n",
       "  (function(spec, embedOpt){\n",
       "    let outputDiv = document.currentScript.previousElementSibling;\n",
       "    if (outputDiv.id !== \"altair-viz-d8972e8da298437f96ada8abd9ad295d\") {\n",
       "      outputDiv = document.getElementById(\"altair-viz-d8972e8da298437f96ada8abd9ad295d\");\n",
       "    }\n",
       "    const paths = {\n",
       "      \"vega\": \"https://cdn.jsdelivr.net/npm/vega@5?noext\",\n",
       "      \"vega-lib\": \"https://cdn.jsdelivr.net/npm/vega-lib?noext\",\n",
       "      \"vega-lite\": \"https://cdn.jsdelivr.net/npm/vega-lite@5.20.1?noext\",\n",
       "      \"vega-embed\": \"https://cdn.jsdelivr.net/npm/vega-embed@6?noext\",\n",
       "    };\n",
       "\n",
       "    function maybeLoadScript(lib, version) {\n",
       "      var key = `${lib.replace(\"-\", \"\")}_version`;\n",
       "      return (VEGA_DEBUG[key] == version) ?\n",
       "        Promise.resolve(paths[lib]) :\n",
       "        new Promise(function(resolve, reject) {\n",
       "          var s = document.createElement('script');\n",
       "          document.getElementsByTagName(\"head\")[0].appendChild(s);\n",
       "          s.async = true;\n",
       "          s.onload = () => {\n",
       "            VEGA_DEBUG[key] = version;\n",
       "            return resolve(paths[lib]);\n",
       "          };\n",
       "          s.onerror = () => reject(`Error loading script: ${paths[lib]}`);\n",
       "          s.src = paths[lib];\n",
       "        });\n",
       "    }\n",
       "\n",
       "    function showError(err) {\n",
       "      outputDiv.innerHTML = `<div class=\"error\" style=\"color:red;\">${err}</div>`;\n",
       "      throw err;\n",
       "    }\n",
       "\n",
       "    function displayChart(vegaEmbed) {\n",
       "      vegaEmbed(outputDiv, spec, embedOpt)\n",
       "        .catch(err => showError(`Javascript Error: ${err.message}<br>This usually means there's a typo in your chart specification. See the javascript console for the full traceback.`));\n",
       "    }\n",
       "\n",
       "    if(typeof define === \"function\" && define.amd) {\n",
       "      requirejs.config({paths});\n",
       "      require([\"vega-embed\"], displayChart, err => showError(`Error loading script: ${err.message}`));\n",
       "    } else {\n",
       "      maybeLoadScript(\"vega\", \"5\")\n",
       "        .then(() => maybeLoadScript(\"vega-lite\", \"5.20.1\"))\n",
       "        .then(() => maybeLoadScript(\"vega-embed\", \"6\"))\n",
       "        .catch(showError)\n",
       "        .then(() => displayChart(vegaEmbed));\n",
       "    }\n",
       "  })({\"config\": {\"view\": {\"continuousWidth\": 300, \"continuousHeight\": 300}}, \"data\": {\"url\": \"altair-data-f8ea8bc34e438fc4f9ec691cd07a15b8.json\", \"format\": {\"type\": \"json\"}}, \"mark\": {\"type\": \"point\", \"size\": 100}, \"encoding\": {\"shape\": {\"field\": \"tower\", \"type\": \"nominal\"}, \"x\": {\"field\": \"value\", \"scale\": {\"zero\": false}, \"title\": [\"Seasonal sublimation (mm SWE)\"], \"type\": \"quantitative\"}, \"y\": {\"field\": \"height\", \"sort\": \"-y\", \"title\": \"height (m)\", \"type\": \"ordinal\"}}, \"height\": 150, \"width\": 150, \"$schema\": \"https://vega.github.io/schema/vega-lite/v5.20.1.json\"}, {\"mode\": \"vega-lite\"});\n",
       "</script>"
      ],
      "text/plain": [
       "alt.Chart(...)"
      ]
     },
     "execution_count": 67,
     "metadata": {},
     "output_type": "execute_result"
    }
   ],
   "source": [
    "import pandas as pd\n",
    "import altair as alt\n",
    "seconds_in_timestep = 60*30\n",
    "density_water = 1000\n",
    "from sublimpy import utils\n",
    "tidy_df_localized = utils.modify_df_timezone(tidy_df, 'UTC', 'US/Mountain')\n",
    "tidy_df_localized = tidy_df_localized[\n",
    "    (tidy_df_localized.time > '20221130')\n",
    "    &\n",
    "    (tidy_df_localized.time < '20230509')\n",
    "]\n",
    "\n",
    "measured_results_mm = tidy_df_localized[tidy_df_localized.variable.isin([\n",
    "    'w_h2o__2m_c',\n",
    "    'w_h2o__3m_c',\n",
    "    'w_h2o__5m_c',\n",
    "    'w_h2o__10m_c',\n",
    "    'w_h2o__15m_c',\n",
    "    'w_h2o__20m_c',\n",
    "\n",
    "    'w_h2o__3m_ue',\n",
    "    'w_h2o__10m_ue',\n",
    "\n",
    "    'w_h2o__3m_uw',\n",
    "    'w_h2o__10m_uw',\n",
    "\n",
    "    'w_h2o__3m_d',\n",
    "    'w_h2o__10m_d',\n",
    "])][\n",
    "    ['time', 'value', 'variable']\n",
    "]\n",
    "measured_results_mm.columns = ['time', 'measured', 'variable']\n",
    "measured_results_mm = measured_results_mm.pivot(\n",
    "    index = 'time',\n",
    "    columns = 'variable',\n",
    "    values = 'measured'\n",
    ")\n",
    "# convert to mm\n",
    "measured_results_mm = measured_results_mm*seconds_in_timestep/density_water\n",
    "measured_results_cumsum = measured_results_mm.cumsum().reset_index()\n",
    "measured_results_cumsum = measured_results_cumsum.melt(id_vars='time')\n",
    "measured_results_cumsum['height'] = measured_results_cumsum['variable'].apply(lambda s: int(s.split('__')[1].split('m')[0]))\n",
    "measured_results_cumsum['tower'] = measured_results_cumsum['variable'].apply(lambda s: s.split('__')[1].split('_')[-1])\n",
    "measured_results_cumsum['tower-height'] = measured_results_cumsum['tower'] + '-' + measured_results_cumsum['height'].astype('str')\n",
    "measured_results_cumsum\n",
    "\n",
    "\n",
    "src = measured_results_cumsum.groupby(['height', 'tower'])[['value']].max().reset_index()\n",
    "sublimation_totals_per_height_tower_chart = alt.Chart(src).mark_point(size=100).encode(\n",
    "    alt.Y(\"height:O\").sort('-y').title(\"height (m)\"),\n",
    "    alt.X(\"value:Q\").scale(zero=False).title([\"Seasonal sublimation (mm SWE)\"]),\n",
    "    # alt.Color(\"height:O\").scale(scheme='turbo').legend(columns=2),\n",
    "    alt.Shape(\"tower:N\")\n",
    ").properties(width = 150, height = 150)\n",
    "sublimation_totals_per_height_tower_chart"
   ]
  },
  {
   "attachments": {},
   "cell_type": "markdown",
   "metadata": {},
   "source": [
    "# Save dataset"
   ]
  },
  {
   "cell_type": "code",
   "execution_count": 68,
   "metadata": {},
   "outputs": [
    {
     "name": "stdout",
     "output_type": "stream",
     "text": [
      "-rw-r--r--@    1 elischwat  staff   202M Apr  3  2024 coare_model_results.parquet\n",
      "-rw-r--r--@    1 elischwat  staff   116M Mar  6  2024 model_results.parquet\n",
      "-rw-r--r--@    1 elischwat  staff   138M Sep 12 14:53 tidy_df_10min.parquet\n",
      "-rw-r--r--     1 elischwat  staff    57M Jul 30 15:16 tidy_df_20221101_20230619_noplanar_fit.parquet\n",
      "-rw-r--r--     1 elischwat  staff    57M Jul 18 15:41 tidy_df_20221101_20230619_planar_fit.parquet\n",
      "-rw-r--r--@    1 elischwat  staff    57M Aug 21 14:30 tidy_df_20221101_20230619_planar_fit_multiplane.parquet\n",
      "-rw-r--r--@    1 elischwat  staff    57M Oct  2 14:09 tidy_df_20221101_20230619_planar_fit_multiplane_STRAIGHTUP.parquet\n",
      "-rw-r--r--@    1 elischwat  staff    56M Oct  4 11:57 tidy_df_20221101_20230619_planar_fit_multiplane_STRAIGHTUP_dispiked.parquet\n",
      "-rw-r--r--     1 elischwat  staff    54M Oct 10 10:50 tidy_df_20221101_20230619_planar_fit_multiplane_STRAIGHTUP_nodespiking_flags3600.parquet\n",
      "-rw-r--r--@    1 elischwat  staff    55M Oct 10 10:41 tidy_df_20221101_20230619_planar_fit_multiplane_STRAIGHTUP_nodespiking_flags36000.parquet\n",
      "-rw-r--r--     1 elischwat  staff    54M Oct 10 10:45 tidy_df_20221101_20230619_planar_fit_multiplane_STRAIGHTUP_nodespiking_flags9000.parquet\n",
      "-rw-r--r--@    1 elischwat  staff    58M Aug 29 11:38 tidy_df_20221101_20230619_planar_fit_multiplane_flaggeddataremains.parquet\n",
      "-rw-r--r--@    1 elischwat  staff    38M Jul  2 22:09 tidy_df_20221130_20230509_noplanar_fit.parquet\n",
      "-rw-r--r--     1 elischwat  staff   257M Feb 20  2024 tidy_df_20221130_20230509_noplanar_fit_ARCHIVE.parquet\n",
      "-rw-r--r--@    1 elischwat  staff    50M Apr  3  2024 tidy_df_20221130_20230509_noplanar_fit_clean.parquet\n",
      "-rw-r--r--     1 elischwat  staff    44M Jul 16 11:00 tidy_df_20221130_20230509_planar_fit.parquet\n",
      "-rw-r--r--     1 elischwat  staff    39M Jun 11 14:38 tidy_df_20221130_20230509_planar_fit_multiplane.parquet\n",
      "-rw-r--r--     1 elischwat  staff    50M Apr 29 20:28 tidy_df_20221130_20230619_noplanar_fit.parquet\n",
      "-rw-r--r--@    1 elischwat  staff   366M Sep 12 14:52 tidy_df_5min.parquet\n"
     ]
    }
   ],
   "source": [
    "ls -lah | grep parquet"
   ]
  },
  {
   "cell_type": "code",
   "execution_count": 69,
   "metadata": {},
   "outputs": [],
   "source": [
    "if PLANAR_FIT:    \n",
    "    if 'oneplane' in planar_fitted_dir:\n",
    "        if FILTER_SNOWFALL:\n",
    "            tidy_df.to_parquet(\n",
    "                f'tidy_df_{start_date}_{end_date}_planar_fit_STRAIGHTUP_{filtering_str}_flags{PERCENTAGE_DIAG}_snowfallfiltered{snowfall_mask_str}.parquet', \n",
    "                index=False\n",
    "            )\n",
    "        else:\n",
    "            tidy_df.to_parquet(\n",
    "                f'tidy_df_{start_date}_{end_date}_planar_fit_STRAIGHTUP_{filtering_str}_flags{PERCENTAGE_DIAG}.parquet', \n",
    "                index=False\n",
    "            )\n",
    "    else:\n",
    "        if FILTER_SNOWFALL:\n",
    "            tidy_df.to_parquet(\n",
    "                f'tidy_df_{start_date}_{end_date}_planar_fit_multiplane_STRAIGHTUP_{filtering_str}_flags{PERCENTAGE_DIAG}_snowfallfiltered{snowfall_mask_str}.parquet', index=False)\n",
    "        else:\n",
    "            tidy_df.to_parquet(\n",
    "                f'tidy_df_{start_date}_{end_date}_planar_fit_multiplane_STRAIGHTUP_{filtering_str}_flags{PERCENTAGE_DIAG}.parquet', index=False)\n",
    "else:\n",
    "    if FILTER_SNOWFALL:\n",
    "        tidy_df.to_parquet(\n",
    "            f'tidy_df_{start_date}_{end_date}_noplanar_fit_STRAIGHTUP_{filtering_str}_flags{PERCENTAGE_DIAG}_snowfallfiltered{snowfall_mask_str}.parquet', \n",
    "            index=False\n",
    "        )\n",
    "    else:\n",
    "        tidy_df.to_parquet(\n",
    "            f'tidy_df_{start_date}_{end_date}_noplanar_fit_STRAIGHTUP_{filtering_str}_flags{PERCENTAGE_DIAG}.parquet', \n",
    "            index=False\n",
    "        )"
   ]
  },
  {
   "cell_type": "code",
   "execution_count": 70,
   "metadata": {},
   "outputs": [
    {
     "name": "stdout",
     "output_type": "stream",
     "text": [
      "-rw-r--r--@    1 elischwat  staff   202M Apr  3  2024 coare_model_results.parquet\n",
      "-rw-r--r--@    1 elischwat  staff   116M Mar  6  2024 model_results.parquet\n",
      "-rw-r--r--@    1 elischwat  staff   138M Sep 12 14:53 tidy_df_10min.parquet\n",
      "-rw-r--r--     1 elischwat  staff    57M Jul 30 15:16 tidy_df_20221101_20230619_noplanar_fit.parquet\n",
      "-rw-r--r--     1 elischwat  staff    57M Jul 18 15:41 tidy_df_20221101_20230619_planar_fit.parquet\n",
      "-rw-r--r--@    1 elischwat  staff    57M Aug 21 14:30 tidy_df_20221101_20230619_planar_fit_multiplane.parquet\n",
      "-rw-r--r--@    1 elischwat  staff    57M Oct  2 14:09 tidy_df_20221101_20230619_planar_fit_multiplane_STRAIGHTUP.parquet\n",
      "-rw-r--r--@    1 elischwat  staff    56M Oct  4 11:57 tidy_df_20221101_20230619_planar_fit_multiplane_STRAIGHTUP_dispiked.parquet\n",
      "-rw-r--r--     1 elischwat  staff    54M Oct 10 10:50 tidy_df_20221101_20230619_planar_fit_multiplane_STRAIGHTUP_nodespiking_flags3600.parquet\n",
      "-rw-r--r--@    1 elischwat  staff    55M Oct 10 10:41 tidy_df_20221101_20230619_planar_fit_multiplane_STRAIGHTUP_nodespiking_flags36000.parquet\n",
      "-rw-r--r--     1 elischwat  staff    55M Oct 10 11:15 tidy_df_20221101_20230619_planar_fit_multiplane_STRAIGHTUP_nodespiking_flags36000_snowfallfiltered0mm.parquet\n",
      "-rw-r--r--     1 elischwat  staff    54M Oct 10 10:45 tidy_df_20221101_20230619_planar_fit_multiplane_STRAIGHTUP_nodespiking_flags9000.parquet\n",
      "-rw-r--r--@    1 elischwat  staff    58M Aug 29 11:38 tidy_df_20221101_20230619_planar_fit_multiplane_flaggeddataremains.parquet\n",
      "-rw-r--r--@    1 elischwat  staff    38M Jul  2 22:09 tidy_df_20221130_20230509_noplanar_fit.parquet\n",
      "-rw-r--r--     1 elischwat  staff   257M Feb 20  2024 tidy_df_20221130_20230509_noplanar_fit_ARCHIVE.parquet\n",
      "-rw-r--r--@    1 elischwat  staff    50M Apr  3  2024 tidy_df_20221130_20230509_noplanar_fit_clean.parquet\n",
      "-rw-r--r--     1 elischwat  staff    44M Jul 16 11:00 tidy_df_20221130_20230509_planar_fit.parquet\n",
      "-rw-r--r--     1 elischwat  staff    39M Jun 11 14:38 tidy_df_20221130_20230509_planar_fit_multiplane.parquet\n",
      "-rw-r--r--     1 elischwat  staff    50M Apr 29 20:28 tidy_df_20221130_20230619_noplanar_fit.parquet\n",
      "-rw-r--r--@    1 elischwat  staff   366M Sep 12 14:52 tidy_df_5min.parquet\n"
     ]
    }
   ],
   "source": [
    "ls -lah | grep parquet"
   ]
  },
  {
   "cell_type": "code",
   "execution_count": 94,
   "metadata": {},
   "outputs": [
    {
     "data": {
      "text/plain": [
       "value\n",
       " 0.000000    905\n",
       " 0.008617      1\n",
       " 0.000190      1\n",
       " 0.004404      1\n",
       " 0.001110      1\n",
       "            ... \n",
       "-0.000764      1\n",
       "-0.000837      1\n",
       "-0.000039      1\n",
       " 0.000473      1\n",
       " 0.097762      1\n",
       "Name: count, Length: 9675, dtype: int64"
      ]
     },
     "execution_count": 94,
     "metadata": {},
     "output_type": "execute_result"
    }
   ],
   "source": [
    "pd.read_parquet(\n",
    "    \"tidy_df_20221101_20230619_planar_fit_multiplane_STRAIGHTUP_nodespiking_flags36000.parquet\"\n",
    ").query(\"variable == 'w_h2o__20m_c'\").set_index('time')['value'].value_counts()"
   ]
  },
  {
   "cell_type": "code",
   "execution_count": 95,
   "metadata": {},
   "outputs": [
    {
     "data": {
      "text/plain": [
       "value\n",
       " 0.000000    953\n",
       "-0.001045      1\n",
       " 0.001989      1\n",
       " 0.005508      1\n",
       " 0.008222      1\n",
       "            ... \n",
       " 0.000635      1\n",
       " 0.001230      1\n",
       "-0.000235      1\n",
       "-0.001105      1\n",
       " 0.097762      1\n",
       "Name: count, Length: 9634, dtype: int64"
      ]
     },
     "execution_count": 95,
     "metadata": {},
     "output_type": "execute_result"
    }
   ],
   "source": [
    "pd.read_parquet(\n",
    "    \"tidy_df_20221101_20230619_planar_fit_multiplane_STRAIGHTUP_nodespiking_flags36000_snowfallfiltered0mm.parquet\"\n",
    ").query(\"variable == 'w_h2o__20m_c'\").set_index('time')['value'].value_counts()"
   ]
  },
  {
   "cell_type": "code",
   "execution_count": 71,
   "metadata": {},
   "outputs": [],
   "source": [
    "# sos_ds['w_h2o__3m_c'].loc['20221221':'20221223'].plot(label='w_h2o__3m_c')\n",
    "# sos_ds['w_h2o__5m_c'].loc['20221221':'20221223'].plot(label='w_h2o__5m_c')\n",
    "# sos_ds['w_h2o__10m_c'].loc['20221221':'20221223'].plot(label='w_h2o__10m_c')\n",
    "# sos_ds['w_h2o__15m_c'].loc['20221221':'20221223'].plot(label='w_h2o__15m_c')\n",
    "# sos_ds['w_h2o__20m_c'].loc['20221221':'20221223'].plot(label='w_h2o__20m_c')\n",
    "# plt.legend()"
   ]
  },
  {
   "cell_type": "code",
   "execution_count": 72,
   "metadata": {},
   "outputs": [],
   "source": [
    "# ls -lah | grep parquet"
   ]
  },
  {
   "cell_type": "code",
   "execution_count": 73,
   "metadata": {},
   "outputs": [],
   "source": [
    "# df1 = pd.read_parquet('tidy_df_20221101_20230619_planar_fit_multiplane_STRAIGHTUP.parquet')\n",
    "# df2 = pd.read_parquet('tidy_df_20221101_20230619_planar_fit_multiplane_STRAIGHTUP_dispiked.parquet')"
   ]
  },
  {
   "cell_type": "code",
   "execution_count": 74,
   "metadata": {},
   "outputs": [],
   "source": [
    "# src1 = df1[\n",
    "#     ~df1.variable.str.contains('predicted')\n",
    "# ].query(\"measurement == 'w_h2o_'\").query(\"tower == 'c'\").query(\"height > 1\")\n",
    "\n",
    "# src2 = df2[\n",
    "#     ~df2.variable.str.contains('predicted')\n",
    "# ].query(\"measurement == 'w_h2o_'\").query(\"tower == 'c'\").query(\"height > 1\")"
   ]
  },
  {
   "cell_type": "code",
   "execution_count": 75,
   "metadata": {},
   "outputs": [],
   "source": [
    "# alt.Chart(\n",
    "#     src1[src1.time < '20221222'][src1.time > '20221220']\n",
    "# ).mark_line().encode(\n",
    "#     alt.X('time:T'),\n",
    "#     alt.Y('value:Q'),\n",
    "#     alt.Color('height:O')\n",
    "# ) | alt.Chart(\n",
    "#     src2[src2.time < '20221222'][src2.time > '20221220']\n",
    "# ).mark_line().encode(\n",
    "#     alt.X('time:T'),\n",
    "#     alt.Y('value:Q'),\n",
    "#     alt.Color('height:O')\n",
    "# ).interactive()"
   ]
  },
  {
   "cell_type": "markdown",
   "metadata": {},
   "source": [
    "# TEST DESPIKING DIFFERENCES"
   ]
  },
  {
   "cell_type": "code",
   "execution_count": 76,
   "metadata": {},
   "outputs": [],
   "source": [
    "# import glob\n",
    "# COLUMNS = [\n",
    "#     'w_h2o__2m_c_fit', 'w_h2o__3m_c_fit', 'w_h2o__5m_c_fit', 'w_h2o__10m_c_fit', 'w_h2o__15m_c_fit', 'w_h2o__20m_c_fit',\n",
    "#     'w_h2o__3m_d_fit', 'w_h2o__10m_d_fit',\n",
    "#     'w_h2o__3m_ue_fit', 'w_h2o__10m_ue_fit',\n",
    "#     'w_h2o__3m_uw_fit', 'w_h2o__10m_uw_fit',\n",
    "# ]\n",
    "# srcq3 = pd.read_parquet(glob.glob(\"/Users/elischwat/Development/data/sublimationofsnow/planar_fit_processed_30min_despiked_q3.5/**.parquet\"), columns=COLUMNS).sort_index()\n",
    "# srcq7 = pd.read_parquet(glob.glob(\"/Users/elischwat/Development/data/sublimationofsnow/planar_fit_processed_30min_despiked_q7/**.parquet\"), columns=COLUMNS).sort_index()\n",
    "# srcraw = pd.read_parquet(glob.glob(\"/Users/elischwat/Development/data/sublimationofsnow/planar_fit_processed_30min/**.parquet\"), columns=COLUMNS).sort_index()\n",
    "\n",
    "# def organize_processed_lhflux_datasets(planar_fitted_data_df): \n",
    "#     planar_fitted_data_df = planar_fitted_data_df[[c for c in planar_fitted_data_df.columns if c.endswith('_fit')]]\n",
    "#     planar_fitted_data_df.columns = [c.replace('_fit', '') for c in planar_fitted_data_df.columns]\n",
    "#     planar_fitted_data_df.index = planar_fitted_data_df.index - dt.timedelta(minutes=15)\n",
    "#     return planar_fitted_data_df\n",
    "\n",
    "# srcq3 = organize_processed_lhflux_datasets(srcq3).assign(processing = 'q3')\n",
    "# srcq7 = organize_processed_lhflux_datasets(srcq7).assign(processing = 'q7')\n",
    "# srcraw = organize_processed_lhflux_datasets(srcraw).assign(processing = 'raw')\n",
    "# src = pd.concat([srcq3, srcq7, srcraw])\n",
    "\n",
    "# # src = utils.modify_df_timezone(src.reset_index('time'), 'UTC', 'US/Mountain').set_index('time')"
   ]
  },
  {
   "cell_type": "code",
   "execution_count": 77,
   "metadata": {},
   "outputs": [],
   "source": [
    "# print(srcraw.index.max(), srcraw.index.min())\n",
    "# print(srcq7.index.max(), srcq7.index.min())\n",
    "# print(srcq3.index.max(), srcq3.index.min())"
   ]
  },
  {
   "cell_type": "code",
   "execution_count": 78,
   "metadata": {},
   "outputs": [],
   "source": [
    "# print(round(srcraw['w_h2o__10m_d'].mean(), 5), round(srcraw['w_h2o__10m_d'].min(), 5), round(srcraw['w_h2o__10m_d'].max(), 5))\n",
    "# print(round(srcq7['w_h2o__10m_d'].mean(), 5), round(srcq7['w_h2o__10m_d'].min(), 5), round(srcq7['w_h2o__10m_d'].max(), 5))\n",
    "# print(round(srcq3['w_h2o__10m_d'].mean(), 5), round(srcq3['w_h2o__10m_d'].min(), 5), round(srcq3['w_h2o__10m_d'].max(), 5))"
   ]
  },
  {
   "cell_type": "code",
   "execution_count": 79,
   "metadata": {},
   "outputs": [],
   "source": [
    "# local = src.copy()\n",
    "# vars = [C.replace('_fit', '') for C in COLUMNS]\n",
    "# local = local.sort_index().loc['20221130': '20230508']\n",
    "# local[vars] = local.groupby('processing')[vars].cumsum()\n",
    "# alt.Chart(\n",
    "#     local.reset_index()\n",
    "# ).transform_fold(\n",
    "#     vars\n",
    "# ).mark_line().encode(\n",
    "#     alt.X('time:T'),\n",
    "#     alt.Y('value:Q'),\n",
    "#     alt.Row('key:N'),\n",
    "#     alt.Color('processing').sort(['raw', 'q7', 'q3'])\n",
    "# ).properties(width=600, height = 200).resolve_scale(x='independent').interactive()"
   ]
  },
  {
   "cell_type": "code",
   "execution_count": 80,
   "metadata": {},
   "outputs": [],
   "source": [
    "# local = src.copy()\n",
    "# vars = [C.replace('_fit', '') for C in COLUMNS]\n",
    "# local = local.loc['20221221': '20221222']\n",
    "# alt.Chart(\n",
    "#     local.reset_index()\n",
    "# ).transform_fold(\n",
    "#     vars\n",
    "# ).mark_line().encode(\n",
    "#     alt.X('time:T'),\n",
    "#     alt.Y('value:Q'),\n",
    "#     alt.Row('key:N'),\n",
    "#     alt.Color('processing').sort(['raw', 'q7', 'q3'])\n",
    "# ).properties(width=600, height = 200).interactive()"
   ]
  },
  {
   "cell_type": "code",
   "execution_count": 81,
   "metadata": {},
   "outputs": [],
   "source": [
    "# local = src.copy()\n",
    "# vars = [C.replace('_fit', '') for C in COLUMNS]\n",
    "# local = local.loc['20230110': '20230112']\n",
    "# alt.Chart(\n",
    "#     local.reset_index()\n",
    "# ).transform_fold(\n",
    "#     vars\n",
    "# ).mark_line().encode(\n",
    "#     alt.X('time:T'),\n",
    "#     alt.Y('value:Q'),\n",
    "#     alt.Row('key:N'),\n",
    "#     alt.Color('processing').sort(['raw', 'q7', 'q3'])\n",
    "# ).properties(width=600, height = 200).interactive()"
   ]
  },
  {
   "cell_type": "code",
   "execution_count": 82,
   "metadata": {},
   "outputs": [],
   "source": [
    "# srcq3 = srcq3.sort_index().loc[:srcq3.index.max()]\n",
    "# srcq7 = srcq7.sort_index().loc[:srcq3.index.max()]\n",
    "# srcraw = srcraw.sort_index().loc[:srcq3.index.max()]\n"
   ]
  },
  {
   "cell_type": "code",
   "execution_count": 83,
   "metadata": {},
   "outputs": [],
   "source": [
    "# seconds_in_timestep = 60*30\n",
    "# density_water = 1000\n",
    "# # convert to mm\n",
    "# def convert_to_mm_cumsum(src):\n",
    "#     measured_results_mm = src.drop(columns='processing')*seconds_in_timestep/density_water\n",
    "#     measured_results_cumsum = measured_results_mm.cumsum().reset_index()\n",
    "#     measured_results_cumsum = measured_results_cumsum.melt(id_vars='time')\n",
    "#     measured_results_cumsum['height'] = measured_results_cumsum['variable'].apply(lambda s: int(s.split('__')[1].split('m')[0]))\n",
    "#     measured_results_cumsum['tower'] = measured_results_cumsum['variable'].apply(lambda s: s.split('__')[1].split('_')[-1])\n",
    "#     measured_results_cumsum['tower-height'] = measured_results_cumsum['tower'] + '-' + measured_results_cumsum['height'].astype('str')\n",
    "#     return measured_results_cumsum\n",
    "\n",
    "# measured_results_cumsum_q3 = convert_to_mm_cumsum(srcq3.loc['20221130': '20230508']).groupby(['height', 'tower'])[['value']].max().reset_index()\n",
    "# measured_results_cumsum_q7 = convert_to_mm_cumsum(srcq7.loc['20221130': '20230508']).groupby(['height', 'tower'])[['value']].max().reset_index()\n",
    "# measured_results_cumsum_raw = convert_to_mm_cumsum(srcraw.loc['20221130': '20230508']).groupby(['height', 'tower'])[['value']].max().reset_index()"
   ]
  },
  {
   "cell_type": "code",
   "execution_count": 84,
   "metadata": {},
   "outputs": [],
   "source": [
    "# def seasonal_total_chart(src):\n",
    "#     return alt.Chart(src).mark_point(size=100).encode(\n",
    "#         alt.Y(\"height:O\").sort('-y').title(\"height (m)\"),\n",
    "#         alt.X(\"value:Q\").scale(zero=False).title([\"Seasonal sublimation (mm SWE)\"]),\n",
    "#         # alt.Color(\"height:O\").scale(scheme='turbo').legend(columns=2),\n",
    "#         alt.Shape(\"tower:N\")\n",
    "#     ).properties(width = 200, height = 100)\n",
    "\n",
    "# (\n",
    "# seasonal_total_chart(measured_results_cumsum_q3).properties(title='Despiked (q = 3, strict)') &\\\n",
    "# seasonal_total_chart(measured_results_cumsum_q7).properties(title='Despiked (q = 7, standard)') &\\\n",
    "# seasonal_total_chart(measured_results_cumsum_raw).properties(title='Raw, (no despiking)')\n",
    "# ).resolve_scale(y='shared', x='shared')"
   ]
  }
 ],
 "metadata": {
  "kernelspec": {
   "display_name": "arm",
   "language": "python",
   "name": "python3"
  },
  "language_info": {
   "codemirror_mode": {
    "name": "ipython",
    "version": 3
   },
   "file_extension": ".py",
   "mimetype": "text/x-python",
   "name": "python",
   "nbconvert_exporter": "python",
   "pygments_lexer": "ipython3",
   "version": "3.12.5"
  },
  "orig_nbformat": 4
 },
 "nbformat": 4,
 "nbformat_minor": 2
}
