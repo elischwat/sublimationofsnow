{
 "cells": [
  {
   "cell_type": "code",
   "execution_count": 1,
   "metadata": {},
   "outputs": [],
   "source": [
    "import pandas as pd\n",
    "import numpy as np\n",
    "import altair as alt\n",
    "alt.data_transformers.enable('json')\n",
    "\n",
    "from sublimpy import turbulence"
   ]
  },
  {
   "cell_type": "markdown",
   "metadata": {},
   "source": [
    "# Open data"
   ]
  },
  {
   "cell_type": "markdown",
   "metadata": {},
   "source": [
    "## Open precipitation dataset"
   ]
  },
  {
   "cell_type": "code",
   "execution_count": 2,
   "metadata": {},
   "outputs": [],
   "source": [
    "precip_file = \"/storage/elilouis/sublimationofsnow/tilden_precip_data/kettle_ponds_precip.csv\"\n",
    "\n",
    "precip_df = pd.read_csv(precip_file)\n",
    "\n",
    "precip_df['date'] = pd.to_datetime(precip_df['date'])\n",
    "\n",
    "acc_precip_on_first_day = precip_df.set_index('date').loc['20221130'].acc_prec\n",
    "\n",
    "precip_df = precip_df.set_index('date').loc['20221130': '20230510'].reset_index()\n",
    "precip_df['acc_prec']  = precip_df['acc_prec'] - acc_precip_on_first_day"
   ]
  },
  {
   "cell_type": "markdown",
   "metadata": {},
   "source": [
    "## Open SOS Measurement Dataset"
   ]
  },
  {
   "cell_type": "code",
   "execution_count": 3,
   "metadata": {},
   "outputs": [],
   "source": [
    "start_date = '20221130'\n",
    "end_date = '20230509'\n",
    "# open files\n",
    "tidy_df_5Min = pd.read_parquet('../sos/tidy_df_20221130_20230517_noplanar_fit.parquet')\n",
    "tidy_df_30Min = pd.read_parquet('../sos/tidy_df_30Min_20221130_20230517_noplanar_fit.parquet')\n",
    "# convert time column to datetime\n",
    "tidy_df_5Min['time'] = pd.to_datetime(tidy_df_5Min['time'])\n",
    "tidy_df_30Min['time'] = pd.to_datetime(tidy_df_30Min['time'])\n",
    "# limit data to our dates of interest, based on continuous snow cover at Kettle Ponds\n",
    "tidy_df_5Min = tidy_df_5Min.set_index('time').sort_index().loc[start_date:end_date].reset_index()\n",
    "tidy_df_30Min = tidy_df_30Min.set_index('time').sort_index().loc[start_date:end_date].reset_index()"
   ]
  },
  {
   "cell_type": "code",
   "execution_count": 4,
   "metadata": {},
   "outputs": [],
   "source": [
    "# quick way to get variable info if we want it \n",
    "# import xarray as xr\n",
    "# ds = xr.open_dataset(\"/storage/elilouis/sublimationofsnow/sosnoqc/isfs_20221228.nc\")\n",
    "# ds['SWE_p2_c']"
   ]
  },
  {
   "cell_type": "markdown",
   "metadata": {},
   "source": [
    "## Open Modeled Dataset"
   ]
  },
  {
   "cell_type": "code",
   "execution_count": 5,
   "metadata": {},
   "outputs": [],
   "source": [
    "# Open Model Ensemble Dataset\n",
    "model_df = pd.read_parquet(\"model_results.parquet\")\n",
    "# add a bunch of columns that are descriptive, from the config column which has multiple bits of info\n",
    "model_df['z0'] = model_df['config'].apply(\n",
    "    lambda v: float(v.split(' ')[-1])\n",
    ")\n",
    "model_df['e_sat_curve'] = model_df['config'].apply(\n",
    "    lambda v: 'metpy' if 'metpy' in v else 'alduchov'\n",
    ")\n",
    "model_df['surface_measurement'] = model_df['config'].apply(\n",
    "    lambda v: v.split(' ')[-3]\n",
    ")\n",
    "model_df['scheme'] = model_df['config'].apply(\n",
    "    lambda v: 'andreas' if 'andreas lengths' in v else 'yang'\n",
    ")\n",
    "model_df['most_config'] = model_df['config'].apply(lambda s: ' '.join(s.split(' ')[:-3]))\n",
    "# remove the scalar roughness length parameterization info \n",
    "model_df['most_config'] = model_df['most_config'].str.replace(' andreas lengths', '')\n",
    "model_df.head()\n",
    "### Handle a pesky outlier\n",
    "model_df.loc[(model_df.time == \"2023-01-22 1400\") & (model_df.surface_measurement == 'Tsurf_d'), 'latent heat flux'] = 0\n",
    "model_df.loc[(model_df.time == \"2023-01-22 1400\") & (model_df.surface_measurement == 'Tsurf_d'), 'sensible heat flux'] = 0\n",
    "## Calculate cumulative sublimation (mm)\n",
    "### Modeled data"
   ]
  },
  {
   "cell_type": "markdown",
   "metadata": {},
   "source": [
    "# Clean the EC data"
   ]
  },
  {
   "cell_type": "code",
   "execution_count": 6,
   "metadata": {},
   "outputs": [],
   "source": [
    "ec_lhflux_and_counts_variables = [\n",
    "    ('w_h2o__2m_c', 'counts_2m_c_1'), \n",
    "    ('w_h2o__3m_c', 'counts_3m_c_1'), \n",
    "    ('w_h2o__5m_c', 'counts_5m_c_1'), \n",
    "    ('w_h2o__10m_c', 'counts_10m_c_1'), \n",
    "    ('w_h2o__15m_c', 'counts_15m_c_1'), \n",
    "    ('w_h2o__20m_c', 'counts_20m_c_1'), \n",
    "\n",
    "\n",
    "    ('w_h2o__1m_d', 'counts_1m_d_1'), \n",
    "    ('w_h2o__3m_d', 'counts_3m_d_1'), \n",
    "    ('w_h2o__10m_d', 'counts_10m_d_1'), \n",
    "      \n",
    "    ('w_h2o__1m_ue', 'counts_1m_ue_1'), \n",
    "    ('w_h2o__3m_ue', 'counts_3m_ue_1'), \n",
    "    ('w_h2o__10m_ue', 'counts_10m_ue_1'), \n",
    "\n",
    "\n",
    "    ('w_h2o__1m_uw',  'counts_1m_uw_1'), \n",
    "    ('w_h2o__3m_uw', 'counts_3m_uw_1'), \n",
    "    ('w_h2o__10m_uw', 'counts_10m_uw_1'), \n",
    "]\n",
    "ec_lhflux_variables = list(zip(*ec_lhflux_and_counts_variables))[0]"
   ]
  },
  {
   "cell_type": "markdown",
   "metadata": {},
   "source": [
    "### Calculate the upper and lower threshold for removing data - 5*std deviation of ALL latent heat flux measurements"
   ]
  },
  {
   "cell_type": "code",
   "execution_count": 7,
   "metadata": {},
   "outputs": [
    {
     "data": {
      "text/plain": [
       "(-13.592732449123245, 13.604403331998471)"
      ]
     },
     "execution_count": 7,
     "metadata": {},
     "output_type": "execute_result"
    }
   ],
   "source": [
    "all_lhflux_measurements = tidy_df_5Min[tidy_df_5Min.variable.isin(ec_lhflux_variables)].value\n",
    "lower_threshold = all_lhflux_measurements.mean() - 5*all_lhflux_measurements.std()\n",
    "upper_threshold = all_lhflux_measurements.mean() + 5*all_lhflux_measurements.std()\n",
    "lower_threshold, upper_threshold"
   ]
  },
  {
   "cell_type": "code",
   "execution_count": 8,
   "metadata": {},
   "outputs": [],
   "source": [
    "import pandas as pd\n",
    "import numpy as np\n",
    "\n",
    "good_data_fractions = [\n",
    "    0, \n",
    "    # 0.05, 0.1, 0.25, 0.50, \n",
    "    # 0.75, \n",
    "    0.90, 0.95, \n",
    "    # 1\n",
    "]\n",
    "dataframes = []\n",
    "for good_data_fraction in good_data_fractions:\n",
    "    for flux_var, counts_var in ec_lhflux_and_counts_variables:\n",
    "        new_values = turbulence.clean_eddy_covariance(\n",
    "            tidy_df_5Min.query(f\"variable == '{flux_var}'\").value.values,\n",
    "            tidy_df_5Min.query(f\"variable == '{counts_var}'\").value.values,\n",
    "            lower_threshold,\n",
    "            upper_threshold,\n",
    "            fraction_good_data_reqd = good_data_fraction\n",
    "        )\n",
    "        dataframes.append(\n",
    "            pd.DataFrame.from_dict({\n",
    "                flux_var: new_values,\n",
    "                'good_data_fraction': np.full(len(new_values), good_data_fraction)\n",
    "            })\n",
    "        )"
   ]
  },
  {
   "cell_type": "markdown",
   "metadata": {},
   "source": [
    "# Calculate EC cumulative sublimation (mm)"
   ]
  },
  {
   "cell_type": "code",
   "execution_count": 9,
   "metadata": {},
   "outputs": [],
   "source": [
    "from sublimpy import tidy\n",
    "import metpy.constants"
   ]
  },
  {
   "cell_type": "code",
   "execution_count": 10,
   "metadata": {},
   "outputs": [],
   "source": [
    "seconds_per_5min = 60*5\n",
    "\n",
    "for dataframe in dataframes:\n",
    "    flux_var_name = dataframe.columns[0]\n",
    "    height = int(flux_var_name.split('_')[-2].split('m')[0])\n",
    "    tower = flux_var_name.split('_')[-1]\n",
    "    new_var_name = f\"cumulative_sub_measured_{height}m_{tower}\"\n",
    "    cumulative_sublimation_values = np.nancumsum(dataframe[flux_var_name]*seconds_per_5min)/metpy.constants.density_water.magnitude\n",
    "    ec_lhflux_variables = list(zip(*ec_lhflux_and_counts_variables))[0]"
   ]
  },
  {
   "cell_type": "markdown",
   "metadata": {},
   "source": [
    "## Examine sensitivty of seasonal sublimation to data filtering parameterization"
   ]
  },
  {
   "cell_type": "code",
   "execution_count": 11,
   "metadata": {},
   "outputs": [],
   "source": [
    "from io import StringIO\n",
    "qc_df = pd.read_csv(StringIO(\"\"\"\n",
    "variable percent_reqd cumulative_sublimation\n",
    "w_h2o__2m_c 0 29.790966933577884\n",
    "w_h2o__3m_c 0 34.53360434647222\n",
    "w_h2o__5m_c 0 37.48928122584268\n",
    "w_h2o__10m_c 0 41.38660060019198\n",
    "w_h2o__15m_c 0 32.592802110746334\n",
    "w_h2o__20m_c 0 38.78241373327484\n",
    "w_h2o__1m_d 0 18.823154550740192\n",
    "w_h2o__3m_d 0 34.101627180207615\n",
    "w_h2o__10m_d 0 39.21210266709886\n",
    "w_h2o__1m_ue 0 23.970117234020446\n",
    "w_h2o__3m_ue 0 34.65807965253853\n",
    "w_h2o__10m_ue 0 36.74532449217792\n",
    "w_h2o__1m_uw 0 18.673352041982085\n",
    "w_h2o__3m_uw 0 34.50582011197007\n",
    "w_h2o__10m_uw 0 40.242610255656516\n",
    "w_h2o__2m_c 0.9 28.394552217976653\n",
    "w_h2o__3m_c 0.9 33.69303365193264\n",
    "w_h2o__5m_c 0.9 36.422269288882596\n",
    "w_h2o__10m_c 0.9 39.343705631184626\n",
    "w_h2o__15m_c 0.9 25.62803047084436\n",
    "w_h2o__20m_c 0.9 33.84820112107782\n",
    "w_h2o__1m_d 0.9 18.25986046041312\n",
    "w_h2o__3m_d 0.9 32.528020942190096\n",
    "w_h2o__10m_d 0.9 37.51086285244327\n",
    "w_h2o__1m_ue 0.9 23.472797278054948\n",
    "w_h2o__3m_ue 0.9 32.38991287475709\n",
    "w_h2o__10m_ue 0.9 34.22256572053085\n",
    "w_h2o__1m_uw 0.9 18.220575186436847\n",
    "w_h2o__3m_uw 0.9 33.39049534844093\n",
    "w_h2o__10m_uw 0.9 38.29135489682637\n",
    "w_h2o__2m_c 0.95 27.91364683624598\n",
    "w_h2o__3m_c 0.95 33.27010045873039\n",
    "w_h2o__5m_c 0.95 35.89753457951142\n",
    "w_h2o__10m_c 0.95 38.56225650570379\n",
    "w_h2o__15m_c 0.95 24.287958103886755\n",
    "w_h2o__20m_c 0.95 33.34104611209206\n",
    "w_h2o__1m_d 0.95 17.98046285802274\n",
    "w_h2o__3m_d 0.95 31.676122860323897\n",
    "w_h2o__10m_d 0.95 36.50756915181889\n",
    "w_h2o__1m_ue 0.95 23.0371963999716\n",
    "w_h2o__3m_ue 0.95 31.90166883999031\n",
    "w_h2o__10m_ue 0.95 33.056911817846824\n",
    "w_h2o__1m_uw 0.95 17.682383058495933\n",
    "w_h2o__3m_uw 0.95 32.71763690905719\n",
    "w_h2o__10m_uw 0.95 37.32808754439046\n",
    "\"\"\"), delim_whitespace=True)"
   ]
  },
  {
   "cell_type": "code",
   "execution_count": 12,
   "metadata": {},
   "outputs": [
    {
     "data": {
      "text/html": [
       "\n",
       "<style>\n",
       "  #altair-viz-7e8f3834e3294bb89545d20a4ca94504.vega-embed {\n",
       "    width: 100%;\n",
       "    display: flex;\n",
       "  }\n",
       "\n",
       "  #altair-viz-7e8f3834e3294bb89545d20a4ca94504.vega-embed details,\n",
       "  #altair-viz-7e8f3834e3294bb89545d20a4ca94504.vega-embed details summary {\n",
       "    position: relative;\n",
       "  }\n",
       "</style>\n",
       "<div id=\"altair-viz-7e8f3834e3294bb89545d20a4ca94504\"></div>\n",
       "<script type=\"text/javascript\">\n",
       "  var VEGA_DEBUG = (typeof VEGA_DEBUG == \"undefined\") ? {} : VEGA_DEBUG;\n",
       "  (function(spec, embedOpt){\n",
       "    let outputDiv = document.currentScript.previousElementSibling;\n",
       "    if (outputDiv.id !== \"altair-viz-7e8f3834e3294bb89545d20a4ca94504\") {\n",
       "      outputDiv = document.getElementById(\"altair-viz-7e8f3834e3294bb89545d20a4ca94504\");\n",
       "    }\n",
       "    const paths = {\n",
       "      \"vega\": \"https://cdn.jsdelivr.net/npm/vega@5?noext\",\n",
       "      \"vega-lib\": \"https://cdn.jsdelivr.net/npm/vega-lib?noext\",\n",
       "      \"vega-lite\": \"https://cdn.jsdelivr.net/npm/vega-lite@5.16.3?noext\",\n",
       "      \"vega-embed\": \"https://cdn.jsdelivr.net/npm/vega-embed@6?noext\",\n",
       "    };\n",
       "\n",
       "    function maybeLoadScript(lib, version) {\n",
       "      var key = `${lib.replace(\"-\", \"\")}_version`;\n",
       "      return (VEGA_DEBUG[key] == version) ?\n",
       "        Promise.resolve(paths[lib]) :\n",
       "        new Promise(function(resolve, reject) {\n",
       "          var s = document.createElement('script');\n",
       "          document.getElementsByTagName(\"head\")[0].appendChild(s);\n",
       "          s.async = true;\n",
       "          s.onload = () => {\n",
       "            VEGA_DEBUG[key] = version;\n",
       "            return resolve(paths[lib]);\n",
       "          };\n",
       "          s.onerror = () => reject(`Error loading script: ${paths[lib]}`);\n",
       "          s.src = paths[lib];\n",
       "        });\n",
       "    }\n",
       "\n",
       "    function showError(err) {\n",
       "      outputDiv.innerHTML = `<div class=\"error\" style=\"color:red;\">${err}</div>`;\n",
       "      throw err;\n",
       "    }\n",
       "\n",
       "    function displayChart(vegaEmbed) {\n",
       "      vegaEmbed(outputDiv, spec, embedOpt)\n",
       "        .catch(err => showError(`Javascript Error: ${err.message}<br>This usually means there's a typo in your chart specification. See the javascript console for the full traceback.`));\n",
       "    }\n",
       "\n",
       "    if(typeof define === \"function\" && define.amd) {\n",
       "      requirejs.config({paths});\n",
       "      require([\"vega-embed\"], displayChart, err => showError(`Error loading script: ${err.message}`));\n",
       "    } else {\n",
       "      maybeLoadScript(\"vega\", \"5\")\n",
       "        .then(() => maybeLoadScript(\"vega-lite\", \"5.16.3\"))\n",
       "        .then(() => maybeLoadScript(\"vega-embed\", \"6\"))\n",
       "        .catch(showError)\n",
       "        .then(() => displayChart(vegaEmbed));\n",
       "    }\n",
       "  })({\"config\": {\"view\": {\"continuousWidth\": 300, \"continuousHeight\": 300}}, \"data\": {\"url\": \"altair-data-f6af870fce8665678ddcc00e822b416e.json\", \"format\": {\"type\": \"json\"}}, \"mark\": {\"type\": \"line\", \"point\": true}, \"encoding\": {\"color\": {\"field\": \"variable\", \"type\": \"nominal\"}, \"x\": {\"field\": \"percent_reqd\", \"type\": \"quantitative\"}, \"y\": {\"field\": \"cumulative_sublimation\", \"type\": \"quantitative\"}}, \"$schema\": \"https://vega.github.io/schema/vega-lite/v5.16.3.json\"}, {\"mode\": \"vega-lite\"});\n",
       "</script>"
      ],
      "text/plain": [
       "alt.Chart(...)"
      ]
     },
     "execution_count": 12,
     "metadata": {},
     "output_type": "execute_result"
    }
   ],
   "source": [
    "alt.Chart(qc_df).mark_line(point=True).encode(\n",
    "    alt.X(\"percent_reqd:Q\"),\n",
    "    alt.Y(\"cumulative_sublimation:Q\"),\n",
    "    alt.Color(\"variable:N\")\n",
    ")"
   ]
  },
  {
   "cell_type": "markdown",
   "metadata": {},
   "source": [
    "## Select our data-required value, replace dirty EC data with clean EC data, and calculate cumulative sublimation"
   ]
  },
  {
   "cell_type": "code",
   "execution_count": 13,
   "metadata": {},
   "outputs": [],
   "source": [
    "dataframes = [df for df in dataframes if df['good_data_fraction'].iloc[0] == 0.90]"
   ]
  },
  {
   "cell_type": "code",
   "execution_count": 14,
   "metadata": {},
   "outputs": [],
   "source": [
    "seconds_per_5min = 60*5\n",
    "\n",
    "for dataframe in dataframes:\n",
    "    flux_var_name = dataframe.columns[0]\n",
    "    height = int(flux_var_name.split('_')[-2].split('m')[0])\n",
    "    tower = flux_var_name.split('_')[-1]\n",
    "    new_var_name = f\"cumulative_sub_measured_{height}m_{tower}\"\n",
    "    cumulative_sublimation_values = np.nancumsum(dataframe[flux_var_name]*seconds_per_5min)/metpy.constants.density_water.magnitude\n",
    "    # remove the old flux values\n",
    "    tidy_df_5Min = tidy_df_5Min[tidy_df_5Min.variable != flux_var_name]\n",
    "    # # add the new (cleaned) flux values\n",
    "    tidy_df_5Min = tidy.tidy_df_add_variable(\n",
    "        tidy_df_5Min,\n",
    "        dataframe[flux_var_name],\n",
    "        flux_var_name,\n",
    "        'w_h2o_',\n",
    "        height,\n",
    "        tower\n",
    "    )\n",
    "    # add the cumulative calculations values\n",
    "    tidy_df_5Min = tidy.tidy_df_add_variable(\n",
    "        tidy_df_5Min,\n",
    "        cumulative_sublimation_values,\n",
    "        new_var_name,\n",
    "        \"Cumulative sublimation measured\",  \n",
    "        height,\n",
    "        tower\n",
    "    )"
   ]
  },
  {
   "cell_type": "code",
   "execution_count": 21,
   "metadata": {},
   "outputs": [],
   "source": [
    "tidy_df_daily = tidy_df_5Min[tidy_df_5Min.measurement == 'Cumulative sublimation measured'].set_index('time').groupby(\n",
    "    [pd.Grouper(freq='1440Min'), 'tower', 'height', 'measurement', 'variable']\n",
    ").max().reset_index()"
   ]
  },
  {
   "cell_type": "markdown",
   "metadata": {},
   "source": [
    "# Calculate Model cumulative sublimation"
   ]
  },
  {
   "cell_type": "code",
   "execution_count": 22,
   "metadata": {},
   "outputs": [
    {
     "name": "stderr",
     "output_type": "stream",
     "text": [
      "/tmp/ipykernel_22852/275491748.py:9: UserWarning: Boolean Series key will be reindexed to match DataFrame index.\n",
      "  model_df_cumsum_daily = model_df_cumsum_daily[\n"
     ]
    }
   ],
   "source": [
    "model_df_cumsum = pd.DataFrame(model_df.sort_values(\"time\").set_index(\n",
    "    [\"time\", \"config\", \"scheme\", \"z0\", \"e_sat_curve\", \"surface_measurement\", \"most_config\"]\n",
    ").groupby([\"config\", \"scheme\", \"z0\", \"e_sat_curve\", \"surface_measurement\", \"most_config\"])['latent heat flux'].cumsum()).reset_index()\n",
    "\n",
    "model_df_cumsum_daily = pd.DataFrame(model_df_cumsum.set_index(\"time\").groupby(\n",
    "    [pd.Grouper(freq='1440Min'), 'config', \"scheme\", \"z0\", \"e_sat_curve\", \"surface_measurement\", \"most_config\"]\n",
    ")['latent heat flux'].max()).reset_index()\n",
    "\n",
    "model_df_cumsum_daily = model_df_cumsum_daily[\n",
    "    model_df_cumsum_daily.time < '2023-05-10'\n",
    "][\n",
    "    model_df_cumsum_daily.time >= '2022-11-30'\n",
    "]\n",
    "\n",
    "from metpy.constants import density_water\n",
    "seconds_per_30min = 60*30\n",
    "model_df_cumsum_daily['latent heat flux (mm)'] = model_df_cumsum_daily['latent heat flux'].values * seconds_per_30min/density_water.magnitude"
   ]
  },
  {
   "cell_type": "markdown",
   "metadata": {},
   "source": [
    "# Calculate my own Model cumulative sublimation"
   ]
  },
  {
   "cell_type": "code",
   "execution_count": 77,
   "metadata": {},
   "outputs": [],
   "source": [
    "modeled_lhflux_variables = tidy_df_30Min[tidy_df_30Min.variable.str.contains('w_h2o__3m_c predicted')].variable.unique()"
   ]
  },
  {
   "cell_type": "code",
   "execution_count": 91,
   "metadata": {},
   "outputs": [
    {
     "name": "stdout",
     "output_type": "stream",
     "text": [
      "w_h2o__3m_c predicted (0.005)\n",
      "w_h2o__3m_c predicted (1e-05)\n",
      "w_h2o__3m_c predicted (0.0001)\n",
      "w_h2o__3m_c predicted (Penman Monteith)\n",
      "w_h2o__3m_c predicted (0.0005)\n",
      "w_h2o__3m_c predicted (0.001)\n",
      "w_h2o__3m_c predicted (5e-05)\n"
     ]
    }
   ],
   "source": [
    "seconds_per_30min = 60*30 \n",
    "for var in modeled_lhflux_variables:\n",
    "    print(var)\n",
    "    this_df = tidy_df_30Min[tidy_df_30Min.variable == var]\n",
    "    cumulative_sublimation_values = np.nancumsum(this_df.value.values*seconds_per_30min)/metpy.constants.density_water.magnitude\n",
    "    new_var_name = var + ' cumulative mm SWE'\n",
    "    tidy_df_30Min = tidy.tidy_df_add_variable(\n",
    "        tidy_df_30Min,\n",
    "        cumulative_sublimation_values,\n",
    "        new_var_name,\n",
    "        \"Cumulative sublimation predicted\",  \n",
    "        height,\n",
    "        tower\n",
    "    )"
   ]
  },
  {
   "cell_type": "markdown",
   "metadata": {},
   "source": [
    "# Plot"
   ]
  },
  {
   "cell_type": "code",
   "execution_count": 100,
   "metadata": {},
   "outputs": [
    {
     "data": {
      "text/html": [
       "\n",
       "<style>\n",
       "  #altair-viz-3dacee7a18ac4630b880f7a5d8446c4a.vega-embed {\n",
       "    width: 100%;\n",
       "    display: flex;\n",
       "  }\n",
       "\n",
       "  #altair-viz-3dacee7a18ac4630b880f7a5d8446c4a.vega-embed details,\n",
       "  #altair-viz-3dacee7a18ac4630b880f7a5d8446c4a.vega-embed details summary {\n",
       "    position: relative;\n",
       "  }\n",
       "</style>\n",
       "<div id=\"altair-viz-3dacee7a18ac4630b880f7a5d8446c4a\"></div>\n",
       "<script type=\"text/javascript\">\n",
       "  var VEGA_DEBUG = (typeof VEGA_DEBUG == \"undefined\") ? {} : VEGA_DEBUG;\n",
       "  (function(spec, embedOpt){\n",
       "    let outputDiv = document.currentScript.previousElementSibling;\n",
       "    if (outputDiv.id !== \"altair-viz-3dacee7a18ac4630b880f7a5d8446c4a\") {\n",
       "      outputDiv = document.getElementById(\"altair-viz-3dacee7a18ac4630b880f7a5d8446c4a\");\n",
       "    }\n",
       "    const paths = {\n",
       "      \"vega\": \"https://cdn.jsdelivr.net/npm/vega@5?noext\",\n",
       "      \"vega-lib\": \"https://cdn.jsdelivr.net/npm/vega-lib?noext\",\n",
       "      \"vega-lite\": \"https://cdn.jsdelivr.net/npm/vega-lite@5.16.3?noext\",\n",
       "      \"vega-embed\": \"https://cdn.jsdelivr.net/npm/vega-embed@6?noext\",\n",
       "    };\n",
       "\n",
       "    function maybeLoadScript(lib, version) {\n",
       "      var key = `${lib.replace(\"-\", \"\")}_version`;\n",
       "      return (VEGA_DEBUG[key] == version) ?\n",
       "        Promise.resolve(paths[lib]) :\n",
       "        new Promise(function(resolve, reject) {\n",
       "          var s = document.createElement('script');\n",
       "          document.getElementsByTagName(\"head\")[0].appendChild(s);\n",
       "          s.async = true;\n",
       "          s.onload = () => {\n",
       "            VEGA_DEBUG[key] = version;\n",
       "            return resolve(paths[lib]);\n",
       "          };\n",
       "          s.onerror = () => reject(`Error loading script: ${paths[lib]}`);\n",
       "          s.src = paths[lib];\n",
       "        });\n",
       "    }\n",
       "\n",
       "    function showError(err) {\n",
       "      outputDiv.innerHTML = `<div class=\"error\" style=\"color:red;\">${err}</div>`;\n",
       "      throw err;\n",
       "    }\n",
       "\n",
       "    function displayChart(vegaEmbed) {\n",
       "      vegaEmbed(outputDiv, spec, embedOpt)\n",
       "        .catch(err => showError(`Javascript Error: ${err.message}<br>This usually means there's a typo in your chart specification. See the javascript console for the full traceback.`));\n",
       "    }\n",
       "\n",
       "    if(typeof define === \"function\" && define.amd) {\n",
       "      requirejs.config({paths});\n",
       "      require([\"vega-embed\"], displayChart, err => showError(`Error loading script: ${err.message}`));\n",
       "    } else {\n",
       "      maybeLoadScript(\"vega\", \"5\")\n",
       "        .then(() => maybeLoadScript(\"vega-lite\", \"5.16.3\"))\n",
       "        .then(() => maybeLoadScript(\"vega-embed\", \"6\"))\n",
       "        .catch(showError)\n",
       "        .then(() => displayChart(vegaEmbed));\n",
       "    }\n",
       "  })({\"config\": {\"view\": {\"continuousWidth\": 300, \"continuousHeight\": 300}}, \"data\": {\"url\": \"altair-data-730baee688f7237150445141b3356f72.json\", \"format\": {\"type\": \"json\"}}, \"mark\": {\"type\": \"line\"}, \"encoding\": {\"color\": {\"field\": \"variable\", \"type\": \"nominal\"}, \"tooltip\": {\"field\": \"variable\", \"type\": \"nominal\"}, \"x\": {\"field\": \"time\", \"type\": \"temporal\"}, \"y\": {\"field\": \"value\", \"title\": \"Cumulative sublimation (mm)\", \"type\": \"quantitative\"}}, \"height\": 250, \"width\": 250, \"$schema\": \"https://vega.github.io/schema/vega-lite/v5.16.3.json\"}, {\"mode\": \"vega-lite\"});\n",
       "</script>"
      ],
      "text/plain": [
       "alt.Chart(...)"
      ]
     },
     "execution_count": 100,
     "metadata": {},
     "output_type": "execute_result"
    }
   ],
   "source": [
    "my_own_modeled_chart = alt.Chart(\n",
    "    tidy_df_30Min[\n",
    "        tidy_df_30Min.variable != 'w_h2o__3m_c predicted (0.005) cumulative mm SWE'\n",
    "    ].query(\"measurement == 'Cumulative sublimation predicted'\").query(\"height > 1\")\n",
    ").mark_line().encode(\n",
    "    alt.X(\"time:T\"),\n",
    "    alt.Y(\"value:Q\").title(\"Cumulative sublimation (mm)\"),\n",
    "    color = 'variable:N',\n",
    "    tooltip = 'variable'\n",
    ").properties(width = 250, height = 250)\n",
    "my_own_modeled_chart"
   ]
  },
  {
   "cell_type": "code",
   "execution_count": 108,
   "metadata": {},
   "outputs": [
    {
     "data": {
      "text/html": [
       "\n",
       "<style>\n",
       "  #altair-viz-1c64212f765241bba15ee75e8c2fb632.vega-embed {\n",
       "    width: 100%;\n",
       "    display: flex;\n",
       "  }\n",
       "\n",
       "  #altair-viz-1c64212f765241bba15ee75e8c2fb632.vega-embed details,\n",
       "  #altair-viz-1c64212f765241bba15ee75e8c2fb632.vega-embed details summary {\n",
       "    position: relative;\n",
       "  }\n",
       "</style>\n",
       "<div id=\"altair-viz-1c64212f765241bba15ee75e8c2fb632\"></div>\n",
       "<script type=\"text/javascript\">\n",
       "  var VEGA_DEBUG = (typeof VEGA_DEBUG == \"undefined\") ? {} : VEGA_DEBUG;\n",
       "  (function(spec, embedOpt){\n",
       "    let outputDiv = document.currentScript.previousElementSibling;\n",
       "    if (outputDiv.id !== \"altair-viz-1c64212f765241bba15ee75e8c2fb632\") {\n",
       "      outputDiv = document.getElementById(\"altair-viz-1c64212f765241bba15ee75e8c2fb632\");\n",
       "    }\n",
       "    const paths = {\n",
       "      \"vega\": \"https://cdn.jsdelivr.net/npm/vega@5?noext\",\n",
       "      \"vega-lib\": \"https://cdn.jsdelivr.net/npm/vega-lib?noext\",\n",
       "      \"vega-lite\": \"https://cdn.jsdelivr.net/npm/vega-lite@5.16.3?noext\",\n",
       "      \"vega-embed\": \"https://cdn.jsdelivr.net/npm/vega-embed@6?noext\",\n",
       "    };\n",
       "\n",
       "    function maybeLoadScript(lib, version) {\n",
       "      var key = `${lib.replace(\"-\", \"\")}_version`;\n",
       "      return (VEGA_DEBUG[key] == version) ?\n",
       "        Promise.resolve(paths[lib]) :\n",
       "        new Promise(function(resolve, reject) {\n",
       "          var s = document.createElement('script');\n",
       "          document.getElementsByTagName(\"head\")[0].appendChild(s);\n",
       "          s.async = true;\n",
       "          s.onload = () => {\n",
       "            VEGA_DEBUG[key] = version;\n",
       "            return resolve(paths[lib]);\n",
       "          };\n",
       "          s.onerror = () => reject(`Error loading script: ${paths[lib]}`);\n",
       "          s.src = paths[lib];\n",
       "        });\n",
       "    }\n",
       "\n",
       "    function showError(err) {\n",
       "      outputDiv.innerHTML = `<div class=\"error\" style=\"color:red;\">${err}</div>`;\n",
       "      throw err;\n",
       "    }\n",
       "\n",
       "    function displayChart(vegaEmbed) {\n",
       "      vegaEmbed(outputDiv, spec, embedOpt)\n",
       "        .catch(err => showError(`Javascript Error: ${err.message}<br>This usually means there's a typo in your chart specification. See the javascript console for the full traceback.`));\n",
       "    }\n",
       "\n",
       "    if(typeof define === \"function\" && define.amd) {\n",
       "      requirejs.config({paths});\n",
       "      require([\"vega-embed\"], displayChart, err => showError(`Error loading script: ${err.message}`));\n",
       "    } else {\n",
       "      maybeLoadScript(\"vega\", \"5\")\n",
       "        .then(() => maybeLoadScript(\"vega-lite\", \"5.16.3\"))\n",
       "        .then(() => maybeLoadScript(\"vega-embed\", \"6\"))\n",
       "        .catch(showError)\n",
       "        .then(() => displayChart(vegaEmbed));\n",
       "    }\n",
       "  })({\"config\": {\"view\": {\"continuousWidth\": 300, \"continuousHeight\": 300}}, \"data\": {\"url\": \"altair-data-5ddd7d8f81a23fa3634b9f8246eab289.json\", \"format\": {\"type\": \"json\"}}, \"mark\": {\"type\": \"line\"}, \"encoding\": {\"color\": {\"field\": \"variable\", \"type\": \"nominal\"}, \"x\": {\"field\": \"time\", \"type\": \"temporal\"}, \"y\": {\"field\": \"value\", \"title\": \"Cumulative sublimation (mm)\", \"type\": \"quantitative\"}}, \"height\": 250, \"width\": 250, \"$schema\": \"https://vega.github.io/schema/vega-lite/v5.16.3.json\"}, {\"mode\": \"vega-lite\"});\n",
       "</script>"
      ],
      "text/plain": [
       "alt.Chart(...)"
      ]
     },
     "execution_count": 108,
     "metadata": {},
     "output_type": "execute_result"
    }
   ],
   "source": [
    "my_own_modeled_chart = alt.Chart(\n",
    "    tidy_df_30Min[tidy_df_30Min.variable.isin([\n",
    "        'w_h2o__3m_c predicted (1e-05) cumulative mm SWE',\n",
    "        'w_h2o__3m_c predicted (5e-05) cumulative mm SWE',\n",
    "        'w_h2o__3m_c predicted (0.0001) cumulative mm SWE',\n",
    "    ])]\n",
    ").mark_line().encode(\n",
    "    alt.X(\"time:T\"),\n",
    "    alt.Y(\"value:Q\").title(\"Cumulative sublimation (mm)\"),\n",
    "    color = 'variable:N'\n",
    ").properties(width = 250, height = 250)\n",
    "my_own_modeled_chart"
   ]
  },
  {
   "cell_type": "code",
   "execution_count": 109,
   "metadata": {},
   "outputs": [],
   "source": [
    "measurements_chart = alt.Chart(\n",
    "    tidy_df_daily.query(\"measurement == 'Cumulative sublimation measured'\").query(\"height > 1\")\n",
    ").mark_line(opacity=0.5, strokeWidth=1).encode(\n",
    "    alt.X(\"time:T\"),\n",
    "    alt.Y(\"value:Q\").title(\"Cumulative sublimation (mm)\").scale(domain=[-5, 150]),\n",
    "    detail = 'variable:N',\n",
    "    tooltip = 'variable'\n",
    ").properties(width = 250, height = 250)"
   ]
  },
  {
   "cell_type": "code",
   "execution_count": 110,
   "metadata": {},
   "outputs": [],
   "source": [
    "models_chart = alt.Chart(\n",
    "    model_df_cumsum_daily.query(\"z0 <= 1.e-03\").dropna()\n",
    ").mark_line(opacity = 0.5, color='grey', strokeWidth=0.2).encode(\n",
    "    alt.X(\"time:T\"),\n",
    "    alt.Y(\"latent heat flux (mm)\").scale(domain=[-5, 150]),\n",
    "    detail = 'config'\n",
    ")"
   ]
  },
  {
   "cell_type": "code",
   "execution_count": 111,
   "metadata": {},
   "outputs": [],
   "source": [
    "snowpillow_chart = alt.Chart(\n",
    "    tidy_df_30Min.query(\"variable == 'SWE_p2_c'\").dropna()\n",
    ").transform_window(\n",
    "    frame = [-48, 48],\n",
    "    rolling_median = 'median(value)'\n",
    ").mark_line().encode(\n",
    "    alt.X(\"time:T\").axis(labels=False).title(None),\n",
    "    alt.Y(\"rolling_median:Q\").title([\"Snow water\", \"equivalent (mm)\"])\n",
    ").properties(width = 250, height = 83)\n",
    "\n",
    "# snowpillow_and_precip_chart = snowpillow_chart +\\\n",
    "# alt.Chart(\n",
    "#     precip_df\n",
    "# ).mark_line(strokeDash=[2,4]).encode(\n",
    "#     alt.X('date:T'),\n",
    "#     alt.Y(\"acc_prec\")\n",
    "# )"
   ]
  },
  {
   "cell_type": "code",
   "execution_count": 112,
   "metadata": {},
   "outputs": [
    {
     "data": {
      "text/html": [
       "\n",
       "<style>\n",
       "  #altair-viz-b286c263f41341f3800172a7c6746f5f.vega-embed {\n",
       "    width: 100%;\n",
       "    display: flex;\n",
       "  }\n",
       "\n",
       "  #altair-viz-b286c263f41341f3800172a7c6746f5f.vega-embed details,\n",
       "  #altair-viz-b286c263f41341f3800172a7c6746f5f.vega-embed details summary {\n",
       "    position: relative;\n",
       "  }\n",
       "</style>\n",
       "<div id=\"altair-viz-b286c263f41341f3800172a7c6746f5f\"></div>\n",
       "<script type=\"text/javascript\">\n",
       "  var VEGA_DEBUG = (typeof VEGA_DEBUG == \"undefined\") ? {} : VEGA_DEBUG;\n",
       "  (function(spec, embedOpt){\n",
       "    let outputDiv = document.currentScript.previousElementSibling;\n",
       "    if (outputDiv.id !== \"altair-viz-b286c263f41341f3800172a7c6746f5f\") {\n",
       "      outputDiv = document.getElementById(\"altair-viz-b286c263f41341f3800172a7c6746f5f\");\n",
       "    }\n",
       "    const paths = {\n",
       "      \"vega\": \"https://cdn.jsdelivr.net/npm/vega@5?noext\",\n",
       "      \"vega-lib\": \"https://cdn.jsdelivr.net/npm/vega-lib?noext\",\n",
       "      \"vega-lite\": \"https://cdn.jsdelivr.net/npm/vega-lite@5.16.3?noext\",\n",
       "      \"vega-embed\": \"https://cdn.jsdelivr.net/npm/vega-embed@6?noext\",\n",
       "    };\n",
       "\n",
       "    function maybeLoadScript(lib, version) {\n",
       "      var key = `${lib.replace(\"-\", \"\")}_version`;\n",
       "      return (VEGA_DEBUG[key] == version) ?\n",
       "        Promise.resolve(paths[lib]) :\n",
       "        new Promise(function(resolve, reject) {\n",
       "          var s = document.createElement('script');\n",
       "          document.getElementsByTagName(\"head\")[0].appendChild(s);\n",
       "          s.async = true;\n",
       "          s.onload = () => {\n",
       "            VEGA_DEBUG[key] = version;\n",
       "            return resolve(paths[lib]);\n",
       "          };\n",
       "          s.onerror = () => reject(`Error loading script: ${paths[lib]}`);\n",
       "          s.src = paths[lib];\n",
       "        });\n",
       "    }\n",
       "\n",
       "    function showError(err) {\n",
       "      outputDiv.innerHTML = `<div class=\"error\" style=\"color:red;\">${err}</div>`;\n",
       "      throw err;\n",
       "    }\n",
       "\n",
       "    function displayChart(vegaEmbed) {\n",
       "      vegaEmbed(outputDiv, spec, embedOpt)\n",
       "        .catch(err => showError(`Javascript Error: ${err.message}<br>This usually means there's a typo in your chart specification. See the javascript console for the full traceback.`));\n",
       "    }\n",
       "\n",
       "    if(typeof define === \"function\" && define.amd) {\n",
       "      requirejs.config({paths});\n",
       "      require([\"vega-embed\"], displayChart, err => showError(`Error loading script: ${err.message}`));\n",
       "    } else {\n",
       "      maybeLoadScript(\"vega\", \"5\")\n",
       "        .then(() => maybeLoadScript(\"vega-lite\", \"5.16.3\"))\n",
       "        .then(() => maybeLoadScript(\"vega-embed\", \"6\"))\n",
       "        .catch(showError)\n",
       "        .then(() => displayChart(vegaEmbed));\n",
       "    }\n",
       "  })({\"config\": {\"view\": {\"continuousWidth\": 300, \"continuousHeight\": 300}}, \"vconcat\": [{\"data\": {\"url\": \"altair-data-a54499eb68c01f7e98c04ab951e1923c.json\", \"format\": {\"type\": \"json\"}}, \"mark\": {\"type\": \"line\"}, \"encoding\": {\"x\": {\"axis\": {\"labels\": false}, \"field\": \"time\", \"title\": null, \"type\": \"temporal\"}, \"y\": {\"field\": \"rolling_median\", \"title\": [\"Snow water\", \"equivalent (mm)\"], \"type\": \"quantitative\"}}, \"height\": 83, \"transform\": [{\"window\": [{\"op\": \"median\", \"field\": \"value\", \"as\": \"rolling_median\"}], \"frame\": [-48, 48]}], \"width\": 250}, {\"data\": {\"url\": \"altair-data-e2408fba3fb1adf9b4235bfd3a97e841.json\", \"format\": {\"type\": \"json\"}}, \"mark\": {\"type\": \"line\", \"opacity\": 0.5, \"strokeWidth\": 1}, \"encoding\": {\"detail\": {\"field\": \"variable\", \"type\": \"nominal\"}, \"tooltip\": {\"field\": \"variable\", \"type\": \"nominal\"}, \"x\": {\"field\": \"time\", \"type\": \"temporal\"}, \"y\": {\"field\": \"value\", \"scale\": {\"domain\": [-5, 150]}, \"title\": \"Cumulative sublimation (mm)\", \"type\": \"quantitative\"}}, \"height\": 250, \"width\": 250}], \"$schema\": \"https://vega.github.io/schema/vega-lite/v5.16.3.json\"}, {\"mode\": \"vega-lite\"});\n",
       "</script>"
      ],
      "text/plain": [
       "alt.VConcatChart(...)"
      ]
     },
     "execution_count": 112,
     "metadata": {},
     "output_type": "execute_result"
    }
   ],
   "source": [
    "(\n",
    "    snowpillow_chart &\n",
    "    (measurements_chart)\n",
    ")"
   ]
  },
  {
   "cell_type": "code",
   "execution_count": 113,
   "metadata": {},
   "outputs": [
    {
     "data": {
      "text/html": [
       "\n",
       "<style>\n",
       "  #altair-viz-86de18bfcfe545a687adc4036231bccc.vega-embed {\n",
       "    width: 100%;\n",
       "    display: flex;\n",
       "  }\n",
       "\n",
       "  #altair-viz-86de18bfcfe545a687adc4036231bccc.vega-embed details,\n",
       "  #altair-viz-86de18bfcfe545a687adc4036231bccc.vega-embed details summary {\n",
       "    position: relative;\n",
       "  }\n",
       "</style>\n",
       "<div id=\"altair-viz-86de18bfcfe545a687adc4036231bccc\"></div>\n",
       "<script type=\"text/javascript\">\n",
       "  var VEGA_DEBUG = (typeof VEGA_DEBUG == \"undefined\") ? {} : VEGA_DEBUG;\n",
       "  (function(spec, embedOpt){\n",
       "    let outputDiv = document.currentScript.previousElementSibling;\n",
       "    if (outputDiv.id !== \"altair-viz-86de18bfcfe545a687adc4036231bccc\") {\n",
       "      outputDiv = document.getElementById(\"altair-viz-86de18bfcfe545a687adc4036231bccc\");\n",
       "    }\n",
       "    const paths = {\n",
       "      \"vega\": \"https://cdn.jsdelivr.net/npm/vega@5?noext\",\n",
       "      \"vega-lib\": \"https://cdn.jsdelivr.net/npm/vega-lib?noext\",\n",
       "      \"vega-lite\": \"https://cdn.jsdelivr.net/npm/vega-lite@5.16.3?noext\",\n",
       "      \"vega-embed\": \"https://cdn.jsdelivr.net/npm/vega-embed@6?noext\",\n",
       "    };\n",
       "\n",
       "    function maybeLoadScript(lib, version) {\n",
       "      var key = `${lib.replace(\"-\", \"\")}_version`;\n",
       "      return (VEGA_DEBUG[key] == version) ?\n",
       "        Promise.resolve(paths[lib]) :\n",
       "        new Promise(function(resolve, reject) {\n",
       "          var s = document.createElement('script');\n",
       "          document.getElementsByTagName(\"head\")[0].appendChild(s);\n",
       "          s.async = true;\n",
       "          s.onload = () => {\n",
       "            VEGA_DEBUG[key] = version;\n",
       "            return resolve(paths[lib]);\n",
       "          };\n",
       "          s.onerror = () => reject(`Error loading script: ${paths[lib]}`);\n",
       "          s.src = paths[lib];\n",
       "        });\n",
       "    }\n",
       "\n",
       "    function showError(err) {\n",
       "      outputDiv.innerHTML = `<div class=\"error\" style=\"color:red;\">${err}</div>`;\n",
       "      throw err;\n",
       "    }\n",
       "\n",
       "    function displayChart(vegaEmbed) {\n",
       "      vegaEmbed(outputDiv, spec, embedOpt)\n",
       "        .catch(err => showError(`Javascript Error: ${err.message}<br>This usually means there's a typo in your chart specification. See the javascript console for the full traceback.`));\n",
       "    }\n",
       "\n",
       "    if(typeof define === \"function\" && define.amd) {\n",
       "      requirejs.config({paths});\n",
       "      require([\"vega-embed\"], displayChart, err => showError(`Error loading script: ${err.message}`));\n",
       "    } else {\n",
       "      maybeLoadScript(\"vega\", \"5\")\n",
       "        .then(() => maybeLoadScript(\"vega-lite\", \"5.16.3\"))\n",
       "        .then(() => maybeLoadScript(\"vega-embed\", \"6\"))\n",
       "        .catch(showError)\n",
       "        .then(() => displayChart(vegaEmbed));\n",
       "    }\n",
       "  })({\"config\": {\"view\": {\"continuousWidth\": 300, \"continuousHeight\": 300}}, \"vconcat\": [{\"data\": {\"url\": \"altair-data-a54499eb68c01f7e98c04ab951e1923c.json\", \"format\": {\"type\": \"json\"}}, \"mark\": {\"type\": \"line\"}, \"encoding\": {\"x\": {\"axis\": {\"labels\": false}, \"field\": \"time\", \"title\": null, \"type\": \"temporal\"}, \"y\": {\"field\": \"rolling_median\", \"title\": [\"Snow water\", \"equivalent (mm)\"], \"type\": \"quantitative\"}}, \"height\": 83, \"transform\": [{\"window\": [{\"op\": \"median\", \"field\": \"value\", \"as\": \"rolling_median\"}], \"frame\": [-48, 48]}], \"width\": 250}, {\"layer\": [{\"data\": {\"url\": \"altair-data-e2408fba3fb1adf9b4235bfd3a97e841.json\", \"format\": {\"type\": \"json\"}}, \"mark\": {\"type\": \"line\", \"opacity\": 0.5, \"strokeWidth\": 1}, \"encoding\": {\"detail\": {\"field\": \"variable\", \"type\": \"nominal\"}, \"tooltip\": {\"field\": \"variable\", \"type\": \"nominal\"}, \"x\": {\"field\": \"time\", \"type\": \"temporal\"}, \"y\": {\"field\": \"value\", \"scale\": {\"domain\": [-5, 150]}, \"title\": \"Cumulative sublimation (mm)\", \"type\": \"quantitative\"}}}, {\"data\": {\"url\": \"altair-data-96f6f98c501c55bff3b5c12a0fde95d0.json\", \"format\": {\"type\": \"json\"}}, \"mark\": {\"type\": \"line\", \"color\": \"grey\", \"opacity\": 0.5, \"strokeWidth\": 0.2}, \"encoding\": {\"detail\": {\"field\": \"config\", \"type\": \"nominal\"}, \"x\": {\"field\": \"time\", \"type\": \"temporal\"}, \"y\": {\"field\": \"latent heat flux (mm)\", \"scale\": {\"domain\": [-5, 150]}, \"type\": \"quantitative\"}}}, {\"data\": {\"url\": \"altair-data-5ddd7d8f81a23fa3634b9f8246eab289.json\", \"format\": {\"type\": \"json\"}}, \"mark\": {\"type\": \"line\"}, \"encoding\": {\"color\": {\"field\": \"variable\", \"type\": \"nominal\"}, \"x\": {\"field\": \"time\", \"type\": \"temporal\"}, \"y\": {\"field\": \"value\", \"title\": \"Cumulative sublimation (mm)\", \"type\": \"quantitative\"}}}], \"height\": 250, \"width\": 250}], \"$schema\": \"https://vega.github.io/schema/vega-lite/v5.16.3.json\"}, {\"mode\": \"vega-lite\"});\n",
       "</script>"
      ],
      "text/plain": [
       "alt.VConcatChart(...)"
      ]
     },
     "execution_count": 113,
     "metadata": {},
     "output_type": "execute_result"
    }
   ],
   "source": [
    "(\n",
    "    snowpillow_chart &\n",
    "    (measurements_chart + models_chart + my_own_modeled_chart)\n",
    ")"
   ]
  },
  {
   "cell_type": "code",
   "execution_count": 114,
   "metadata": {},
   "outputs": [
    {
     "data": {
      "text/plain": [
       "array([1.e-04, 5.e-04, 1.e-03, 1.e-05, 5.e-05])"
      ]
     },
     "execution_count": 114,
     "metadata": {},
     "output_type": "execute_result"
    }
   ],
   "source": [
    "model_df_cumsum_daily.query(\"z0 <= 1.e-03\").dropna().z0.unique()"
   ]
  },
  {
   "cell_type": "code",
   "execution_count": 115,
   "metadata": {},
   "outputs": [
    {
     "data": {
      "text/html": [
       "\n",
       "<style>\n",
       "  #altair-viz-8404df374b9e4672bcaee84f183a9899.vega-embed {\n",
       "    width: 100%;\n",
       "    display: flex;\n",
       "  }\n",
       "\n",
       "  #altair-viz-8404df374b9e4672bcaee84f183a9899.vega-embed details,\n",
       "  #altair-viz-8404df374b9e4672bcaee84f183a9899.vega-embed details summary {\n",
       "    position: relative;\n",
       "  }\n",
       "</style>\n",
       "<div id=\"altair-viz-8404df374b9e4672bcaee84f183a9899\"></div>\n",
       "<script type=\"text/javascript\">\n",
       "  var VEGA_DEBUG = (typeof VEGA_DEBUG == \"undefined\") ? {} : VEGA_DEBUG;\n",
       "  (function(spec, embedOpt){\n",
       "    let outputDiv = document.currentScript.previousElementSibling;\n",
       "    if (outputDiv.id !== \"altair-viz-8404df374b9e4672bcaee84f183a9899\") {\n",
       "      outputDiv = document.getElementById(\"altair-viz-8404df374b9e4672bcaee84f183a9899\");\n",
       "    }\n",
       "    const paths = {\n",
       "      \"vega\": \"https://cdn.jsdelivr.net/npm/vega@5?noext\",\n",
       "      \"vega-lib\": \"https://cdn.jsdelivr.net/npm/vega-lib?noext\",\n",
       "      \"vega-lite\": \"https://cdn.jsdelivr.net/npm/vega-lite@5.16.3?noext\",\n",
       "      \"vega-embed\": \"https://cdn.jsdelivr.net/npm/vega-embed@6?noext\",\n",
       "    };\n",
       "\n",
       "    function maybeLoadScript(lib, version) {\n",
       "      var key = `${lib.replace(\"-\", \"\")}_version`;\n",
       "      return (VEGA_DEBUG[key] == version) ?\n",
       "        Promise.resolve(paths[lib]) :\n",
       "        new Promise(function(resolve, reject) {\n",
       "          var s = document.createElement('script');\n",
       "          document.getElementsByTagName(\"head\")[0].appendChild(s);\n",
       "          s.async = true;\n",
       "          s.onload = () => {\n",
       "            VEGA_DEBUG[key] = version;\n",
       "            return resolve(paths[lib]);\n",
       "          };\n",
       "          s.onerror = () => reject(`Error loading script: ${paths[lib]}`);\n",
       "          s.src = paths[lib];\n",
       "        });\n",
       "    }\n",
       "\n",
       "    function showError(err) {\n",
       "      outputDiv.innerHTML = `<div class=\"error\" style=\"color:red;\">${err}</div>`;\n",
       "      throw err;\n",
       "    }\n",
       "\n",
       "    function displayChart(vegaEmbed) {\n",
       "      vegaEmbed(outputDiv, spec, embedOpt)\n",
       "        .catch(err => showError(`Javascript Error: ${err.message}<br>This usually means there's a typo in your chart specification. See the javascript console for the full traceback.`));\n",
       "    }\n",
       "\n",
       "    if(typeof define === \"function\" && define.amd) {\n",
       "      requirejs.config({paths});\n",
       "      require([\"vega-embed\"], displayChart, err => showError(`Error loading script: ${err.message}`));\n",
       "    } else {\n",
       "      maybeLoadScript(\"vega\", \"5\")\n",
       "        .then(() => maybeLoadScript(\"vega-lite\", \"5.16.3\"))\n",
       "        .then(() => maybeLoadScript(\"vega-embed\", \"6\"))\n",
       "        .catch(showError)\n",
       "        .then(() => displayChart(vegaEmbed));\n",
       "    }\n",
       "  })({\"config\": {\"view\": {\"continuousWidth\": 300, \"continuousHeight\": 300}}, \"vconcat\": [{\"data\": {\"url\": \"altair-data-a54499eb68c01f7e98c04ab951e1923c.json\", \"format\": {\"type\": \"json\"}}, \"mark\": {\"type\": \"line\"}, \"encoding\": {\"x\": {\"axis\": {\"labels\": false}, \"field\": \"time\", \"title\": null, \"type\": \"temporal\"}, \"y\": {\"field\": \"rolling_median\", \"title\": [\"Snow water\", \"equivalent (mm)\"], \"type\": \"quantitative\"}}, \"height\": 83, \"transform\": [{\"window\": [{\"op\": \"median\", \"field\": \"value\", \"as\": \"rolling_median\"}], \"frame\": [-48, 48]}], \"width\": 250}, {\"layer\": [{\"data\": {\"url\": \"altair-data-e2408fba3fb1adf9b4235bfd3a97e841.json\", \"format\": {\"type\": \"json\"}}, \"mark\": {\"type\": \"line\", \"opacity\": 0.5, \"strokeWidth\": 1}, \"encoding\": {\"detail\": {\"field\": \"variable\", \"type\": \"nominal\"}, \"tooltip\": {\"field\": \"variable\", \"type\": \"nominal\"}, \"x\": {\"field\": \"time\", \"type\": \"temporal\"}, \"y\": {\"field\": \"value\", \"scale\": {\"domain\": [-5, 150]}, \"title\": \"Cumulative sublimation (mm)\", \"type\": \"quantitative\"}}}, {\"data\": {\"url\": \"altair-data-96f6f98c501c55bff3b5c12a0fde95d0.json\", \"format\": {\"type\": \"json\"}}, \"mark\": {\"type\": \"line\", \"color\": \"grey\", \"opacity\": 0.75, \"strokeWidth\": 0.2}, \"encoding\": {\"color\": {\"field\": \"z0\", \"scale\": {\"domain\": [0.001, 0.0001, 1e-05], \"range\": [\"#d62728\", \"#ff7f0e\", \"#bcbd22\"]}, \"type\": \"ordinal\"}, \"detail\": {\"field\": \"config\", \"type\": \"nominal\"}, \"x\": {\"field\": \"time\", \"type\": \"temporal\"}, \"y\": {\"field\": \"latent heat flux (mm)\", \"scale\": {\"domain\": [-5, 150]}, \"type\": \"quantitative\"}}}], \"height\": 250, \"width\": 250}], \"$schema\": \"https://vega.github.io/schema/vega-lite/v5.16.3.json\"}, {\"mode\": \"vega-lite\"});\n",
       "</script>"
      ],
      "text/plain": [
       "alt.VConcatChart(...)"
      ]
     },
     "execution_count": 115,
     "metadata": {},
     "output_type": "execute_result"
    }
   ],
   "source": [
    "models_chart_by_z0 = alt.Chart(\n",
    "    model_df_cumsum_daily.query(\"z0 <= 1.e-03\").dropna()\n",
    ").mark_line(opacity = 0.75, color='grey', strokeWidth=0.2).encode(\n",
    "    alt.X(\"time:T\"),\n",
    "    alt.Y(\"latent heat flux (mm)\").scale(domain=[-5, 150]),\n",
    "    alt.Color('z0:O').scale(\n",
    "        domain = [1.e-03, 1.e-04,  1.e-05],\n",
    "        range = ['#d62728', '#ff7f0e', '#bcbd22']\n",
    "    ),\n",
    "    detail = 'config'\n",
    ")\n",
    "\n",
    "\n",
    "(\n",
    "    snowpillow_chart &\n",
    "    (measurements_chart + models_chart_by_z0)\n",
    ")"
   ]
  },
  {
   "cell_type": "code",
   "execution_count": 49,
   "metadata": {},
   "outputs": [
    {
     "data": {
      "text/html": [
       "\n",
       "<style>\n",
       "  #altair-viz-1d7fd2a3110c4e428fab70b6e62a459e.vega-embed {\n",
       "    width: 100%;\n",
       "    display: flex;\n",
       "  }\n",
       "\n",
       "  #altair-viz-1d7fd2a3110c4e428fab70b6e62a459e.vega-embed details,\n",
       "  #altair-viz-1d7fd2a3110c4e428fab70b6e62a459e.vega-embed details summary {\n",
       "    position: relative;\n",
       "  }\n",
       "</style>\n",
       "<div id=\"altair-viz-1d7fd2a3110c4e428fab70b6e62a459e\"></div>\n",
       "<script type=\"text/javascript\">\n",
       "  var VEGA_DEBUG = (typeof VEGA_DEBUG == \"undefined\") ? {} : VEGA_DEBUG;\n",
       "  (function(spec, embedOpt){\n",
       "    let outputDiv = document.currentScript.previousElementSibling;\n",
       "    if (outputDiv.id !== \"altair-viz-1d7fd2a3110c4e428fab70b6e62a459e\") {\n",
       "      outputDiv = document.getElementById(\"altair-viz-1d7fd2a3110c4e428fab70b6e62a459e\");\n",
       "    }\n",
       "    const paths = {\n",
       "      \"vega\": \"https://cdn.jsdelivr.net/npm/vega@5?noext\",\n",
       "      \"vega-lib\": \"https://cdn.jsdelivr.net/npm/vega-lib?noext\",\n",
       "      \"vega-lite\": \"https://cdn.jsdelivr.net/npm/vega-lite@5.16.3?noext\",\n",
       "      \"vega-embed\": \"https://cdn.jsdelivr.net/npm/vega-embed@6?noext\",\n",
       "    };\n",
       "\n",
       "    function maybeLoadScript(lib, version) {\n",
       "      var key = `${lib.replace(\"-\", \"\")}_version`;\n",
       "      return (VEGA_DEBUG[key] == version) ?\n",
       "        Promise.resolve(paths[lib]) :\n",
       "        new Promise(function(resolve, reject) {\n",
       "          var s = document.createElement('script');\n",
       "          document.getElementsByTagName(\"head\")[0].appendChild(s);\n",
       "          s.async = true;\n",
       "          s.onload = () => {\n",
       "            VEGA_DEBUG[key] = version;\n",
       "            return resolve(paths[lib]);\n",
       "          };\n",
       "          s.onerror = () => reject(`Error loading script: ${paths[lib]}`);\n",
       "          s.src = paths[lib];\n",
       "        });\n",
       "    }\n",
       "\n",
       "    function showError(err) {\n",
       "      outputDiv.innerHTML = `<div class=\"error\" style=\"color:red;\">${err}</div>`;\n",
       "      throw err;\n",
       "    }\n",
       "\n",
       "    function displayChart(vegaEmbed) {\n",
       "      vegaEmbed(outputDiv, spec, embedOpt)\n",
       "        .catch(err => showError(`Javascript Error: ${err.message}<br>This usually means there's a typo in your chart specification. See the javascript console for the full traceback.`));\n",
       "    }\n",
       "\n",
       "    if(typeof define === \"function\" && define.amd) {\n",
       "      requirejs.config({paths});\n",
       "      require([\"vega-embed\"], displayChart, err => showError(`Error loading script: ${err.message}`));\n",
       "    } else {\n",
       "      maybeLoadScript(\"vega\", \"5\")\n",
       "        .then(() => maybeLoadScript(\"vega-lite\", \"5.16.3\"))\n",
       "        .then(() => maybeLoadScript(\"vega-embed\", \"6\"))\n",
       "        .catch(showError)\n",
       "        .then(() => displayChart(vegaEmbed));\n",
       "    }\n",
       "  })({\"config\": {\"view\": {\"continuousWidth\": 300, \"continuousHeight\": 300}}, \"vconcat\": [{\"data\": {\"url\": \"altair-data-a54499eb68c01f7e98c04ab951e1923c.json\", \"format\": {\"type\": \"json\"}}, \"mark\": {\"type\": \"line\"}, \"encoding\": {\"x\": {\"axis\": {\"labels\": false}, \"field\": \"time\", \"title\": null, \"type\": \"temporal\"}, \"y\": {\"field\": \"rolling_median\", \"title\": [\"Snow water\", \"equivalent (mm)\"], \"type\": \"quantitative\"}}, \"height\": 83, \"transform\": [{\"window\": [{\"op\": \"median\", \"field\": \"value\", \"as\": \"rolling_median\"}], \"frame\": [-48, 48]}], \"width\": 250}, {\"layer\": [{\"data\": {\"url\": \"altair-data-e2408fba3fb1adf9b4235bfd3a97e841.json\", \"format\": {\"type\": \"json\"}}, \"mark\": {\"type\": \"line\", \"opacity\": 0.5, \"strokeWidth\": 1}, \"encoding\": {\"detail\": {\"field\": \"variable\", \"type\": \"nominal\"}, \"tooltip\": {\"field\": \"variable\", \"type\": \"nominal\"}, \"x\": {\"field\": \"time\", \"type\": \"temporal\"}, \"y\": {\"field\": \"value\", \"scale\": {\"domain\": [-5, 150]}, \"title\": \"Cumulative sublimation (mm)\", \"type\": \"quantitative\"}}}, {\"data\": {\"url\": \"altair-data-96f6f98c501c55bff3b5c12a0fde95d0.json\", \"format\": {\"type\": \"json\"}}, \"mark\": {\"type\": \"line\", \"color\": \"grey\", \"opacity\": 0.75, \"strokeWidth\": 0.2}, \"encoding\": {\"color\": {\"field\": \"z0\", \"scale\": {\"domain\": [0.001, 0.0001, 1e-05], \"range\": [\"#d62728\", \"#ff7f0e\", \"#bcbd22\"]}, \"type\": \"ordinal\"}, \"detail\": {\"field\": \"config\", \"type\": \"nominal\"}, \"x\": {\"field\": \"time\", \"type\": \"temporal\"}, \"y\": {\"field\": \"latent heat flux (mm)\", \"scale\": {\"domain\": [-5, 150]}, \"type\": \"quantitative\"}}}], \"height\": 250, \"width\": 250}], \"$schema\": \"https://vega.github.io/schema/vega-lite/v5.16.3.json\"}, {\"mode\": \"vega-lite\"});\n",
       "</script>"
      ],
      "text/plain": [
       "alt.VConcatChart(...)"
      ]
     },
     "execution_count": 49,
     "metadata": {},
     "output_type": "execute_result"
    }
   ],
   "source": [
    "\n",
    "\n",
    "\n",
    "models_chart_by_ts_meas = alt.Chart(\n",
    "    model_df_cumsum_daily[model_df_cumsum_daily.config.isin([\n",
    "    'MO Holtslag de Bruin Tsurf_rad_d e_sat_alduchov 1e-05',\n",
    "    'MO Holtslag de Bruin Tsurf_d e_sat_alduchov 1e-05',\n",
    "])]\n",
    ").mark_line(opacity = 0.75, color='grey', strokeWidth=0.2).encode(\n",
    "    alt.X(\"time:T\"),\n",
    "    alt.Y(\"latent heat flux (mm)\").scale(domain=[-5, 150]),\n",
    "    alt.Color('z0:O').scale(\n",
    "        domain = [1.e-03, 1.e-04,  1.e-05],\n",
    "        range = ['#d62728', '#ff7f0e', '#bcbd22']\n",
    "    ),\n",
    "    detail = 'config'\n",
    ")\n",
    "\n",
    "\n",
    "(\n",
    "    snowpillow_chart &\n",
    "    (measurements_chart + models_chart_by_z0)\n",
    ")"
   ]
  },
  {
   "cell_type": "code",
   "execution_count": 50,
   "metadata": {},
   "outputs": [
    {
     "data": {
      "text/html": [
       "\n",
       "<style>\n",
       "  #altair-viz-c482cd76c95047a68d318378c4ba6711.vega-embed {\n",
       "    width: 100%;\n",
       "    display: flex;\n",
       "  }\n",
       "\n",
       "  #altair-viz-c482cd76c95047a68d318378c4ba6711.vega-embed details,\n",
       "  #altair-viz-c482cd76c95047a68d318378c4ba6711.vega-embed details summary {\n",
       "    position: relative;\n",
       "  }\n",
       "</style>\n",
       "<div id=\"altair-viz-c482cd76c95047a68d318378c4ba6711\"></div>\n",
       "<script type=\"text/javascript\">\n",
       "  var VEGA_DEBUG = (typeof VEGA_DEBUG == \"undefined\") ? {} : VEGA_DEBUG;\n",
       "  (function(spec, embedOpt){\n",
       "    let outputDiv = document.currentScript.previousElementSibling;\n",
       "    if (outputDiv.id !== \"altair-viz-c482cd76c95047a68d318378c4ba6711\") {\n",
       "      outputDiv = document.getElementById(\"altair-viz-c482cd76c95047a68d318378c4ba6711\");\n",
       "    }\n",
       "    const paths = {\n",
       "      \"vega\": \"https://cdn.jsdelivr.net/npm/vega@5?noext\",\n",
       "      \"vega-lib\": \"https://cdn.jsdelivr.net/npm/vega-lib?noext\",\n",
       "      \"vega-lite\": \"https://cdn.jsdelivr.net/npm/vega-lite@5.16.3?noext\",\n",
       "      \"vega-embed\": \"https://cdn.jsdelivr.net/npm/vega-embed@6?noext\",\n",
       "    };\n",
       "\n",
       "    function maybeLoadScript(lib, version) {\n",
       "      var key = `${lib.replace(\"-\", \"\")}_version`;\n",
       "      return (VEGA_DEBUG[key] == version) ?\n",
       "        Promise.resolve(paths[lib]) :\n",
       "        new Promise(function(resolve, reject) {\n",
       "          var s = document.createElement('script');\n",
       "          document.getElementsByTagName(\"head\")[0].appendChild(s);\n",
       "          s.async = true;\n",
       "          s.onload = () => {\n",
       "            VEGA_DEBUG[key] = version;\n",
       "            return resolve(paths[lib]);\n",
       "          };\n",
       "          s.onerror = () => reject(`Error loading script: ${paths[lib]}`);\n",
       "          s.src = paths[lib];\n",
       "        });\n",
       "    }\n",
       "\n",
       "    function showError(err) {\n",
       "      outputDiv.innerHTML = `<div class=\"error\" style=\"color:red;\">${err}</div>`;\n",
       "      throw err;\n",
       "    }\n",
       "\n",
       "    function displayChart(vegaEmbed) {\n",
       "      vegaEmbed(outputDiv, spec, embedOpt)\n",
       "        .catch(err => showError(`Javascript Error: ${err.message}<br>This usually means there's a typo in your chart specification. See the javascript console for the full traceback.`));\n",
       "    }\n",
       "\n",
       "    if(typeof define === \"function\" && define.amd) {\n",
       "      requirejs.config({paths});\n",
       "      require([\"vega-embed\"], displayChart, err => showError(`Error loading script: ${err.message}`));\n",
       "    } else {\n",
       "      maybeLoadScript(\"vega\", \"5\")\n",
       "        .then(() => maybeLoadScript(\"vega-lite\", \"5.16.3\"))\n",
       "        .then(() => maybeLoadScript(\"vega-embed\", \"6\"))\n",
       "        .catch(showError)\n",
       "        .then(() => displayChart(vegaEmbed));\n",
       "    }\n",
       "  })({\"config\": {\"view\": {\"continuousWidth\": 300, \"continuousHeight\": 300}}, \"layer\": [{\"data\": {\"url\": \"altair-data-825145c0bce8d7cd43b584aa7686809f.json\", \"format\": {\"type\": \"json\"}}, \"mark\": {\"type\": \"line\"}, \"encoding\": {\"x\": {\"field\": \"time\", \"type\": \"temporal\"}, \"y\": {\"field\": \"value\", \"type\": \"quantitative\"}}}, {\"data\": {\"url\": \"altair-data-5ff2f6c7f0c3001c1c8766710a9ed4dd.json\", \"format\": {\"type\": \"json\"}}, \"mark\": {\"type\": \"line\", \"color\": \"red\"}, \"encoding\": {\"x\": {\"field\": \"time\", \"type\": \"temporal\"}, \"y\": {\"field\": \"latent heat flux\", \"type\": \"quantitative\"}}}], \"width\": 600, \"$schema\": \"https://vega.github.io/schema/vega-lite/v5.16.3.json\"}, {\"mode\": \"vega-lite\"});\n",
       "</script>"
      ],
      "text/plain": [
       "alt.LayerChart(...)"
      ]
     },
     "execution_count": 50,
     "metadata": {},
     "output_type": "execute_result"
    }
   ],
   "source": [
    "start_date = \"2023-03-01\"\n",
    "end_date = \"2023-03-05\"\n",
    "meas_chart = alt.Chart(\n",
    "    tidy_df_30Min.set_index('time').loc[start_date:end_date].reset_index().query(\"variable == 'w_h2o__3m_c'\")\n",
    ").mark_line().encode(\n",
    "    alt.X(\"time:T\"),\n",
    "    alt.Y(\"value:Q\")\n",
    "\n",
    ")\n",
    "model_chart = alt.Chart(\n",
    "    model_df[model_df.config == 'MO Holtslag de Bruin andreas lengths Tsurf_c e_sat_alduchov 1e-05'].set_index('time').loc[start_date:end_date].reset_index()\n",
    ").mark_line(color='red').encode(\n",
    "    alt.X(\"time:T\"),\n",
    "    alt.Y(\"latent heat flux:Q\")\n",
    ")\n",
    "\n",
    "(meas_chart + model_chart).properties(width = 600)"
   ]
  }
 ],
 "metadata": {
  "kernelspec": {
   "display_name": "arm",
   "language": "python",
   "name": "python3"
  },
  "language_info": {
   "codemirror_mode": {
    "name": "ipython",
    "version": 3
   },
   "file_extension": ".py",
   "mimetype": "text/x-python",
   "name": "python",
   "nbconvert_exporter": "python",
   "pygments_lexer": "ipython3",
   "version": "3.12.1"
  }
 },
 "nbformat": 4,
 "nbformat_minor": 2
}
