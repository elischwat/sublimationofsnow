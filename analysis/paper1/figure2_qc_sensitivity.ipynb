{
 "cells": [
  {
   "cell_type": "code",
   "execution_count": 1,
   "metadata": {},
   "outputs": [],
   "source": [
    "import pandas as pd\n",
    "import numpy as np\n",
    "import altair as alt\n",
    "alt.data_transformers.enable('json')\n",
    "\n",
    "from sublimpy import turbulence"
   ]
  },
  {
   "cell_type": "markdown",
   "metadata": {},
   "source": [
    "# Open precipitation dataset"
   ]
  },
  {
   "cell_type": "code",
   "execution_count": 2,
   "metadata": {},
   "outputs": [],
   "source": [
    "precip_file = \"/storage/elilouis/sublimationofsnow/tilden_precip_data/kettle_ponds_precip.csv\"\n",
    "\n",
    "precip_df = pd.read_csv(precip_file)\n",
    "\n",
    "precip_df['date'] = pd.to_datetime(precip_df['date'])\n",
    "\n",
    "acc_precip_on_first_day = precip_df.set_index('date').loc['20221130'].acc_prec\n",
    "\n",
    "precip_df = precip_df.set_index('date').loc['20221130': '20230510'].reset_index()\n",
    "precip_df['acc_prec']  = precip_df['acc_prec'] - acc_precip_on_first_day"
   ]
  },
  {
   "cell_type": "markdown",
   "metadata": {},
   "source": [
    "# Open SOS Measurement Dataset"
   ]
  },
  {
   "cell_type": "code",
   "execution_count": 3,
   "metadata": {},
   "outputs": [],
   "source": [
    "start_date = '20221130'\n",
    "end_date = '20230509'\n",
    "# open files\n",
    "tidy_df_5Min = pd.read_parquet('../sos/tidy_df_20221130_20230517_noplanar_fit.parquet')\n",
    "tidy_df_30Min = pd.read_parquet('../sos/tidy_df_30Min_20221130_20230517_noplanar_fit.parquet')\n",
    "# convert time column to datetime\n",
    "tidy_df_5Min['time'] = pd.to_datetime(tidy_df_5Min['time'])\n",
    "tidy_df_30Min['time'] = pd.to_datetime(tidy_df_30Min['time'])\n",
    "# limit data to our dates of interest, based on continuous snow cover at Kettle Ponds\n",
    "tidy_df_5Min = tidy_df_5Min.set_index('time').sort_index().loc[start_date:end_date].reset_index()\n",
    "tidy_df_30Min = tidy_df_30Min.set_index('time').sort_index().loc[start_date:end_date].reset_index()"
   ]
  },
  {
   "cell_type": "code",
   "execution_count": 4,
   "metadata": {},
   "outputs": [],
   "source": [
    "# quick way to get variable info if we want it \n",
    "# import xarray as xr\n",
    "# ds = xr.open_dataset(\"/storage/elilouis/sublimationofsnow/sosnoqc/isfs_20221228.nc\")\n",
    "# ds['SWE_p2_c']"
   ]
  },
  {
   "cell_type": "markdown",
   "metadata": {},
   "source": [
    "## Clean the data"
   ]
  },
  {
   "cell_type": "code",
   "execution_count": 5,
   "metadata": {},
   "outputs": [],
   "source": [
    "ec_lhflux_and_counts_variables = [\n",
    "    ('w_h2o__2m_c', 'counts_2m_c_1'), \n",
    "    ('w_h2o__3m_c', 'counts_3m_c_1'), \n",
    "    ('w_h2o__5m_c', 'counts_5m_c_1'), \n",
    "    ('w_h2o__10m_c', 'counts_10m_c_1'), \n",
    "    ('w_h2o__15m_c', 'counts_15m_c_1'), \n",
    "    ('w_h2o__20m_c', 'counts_20m_c_1'), \n",
    "\n",
    "\n",
    "    ('w_h2o__1m_d', 'counts_1m_d_1'), \n",
    "    ('w_h2o__3m_d', 'counts_3m_d_1'), \n",
    "    ('w_h2o__10m_d', 'counts_10m_d_1'), \n",
    "      \n",
    "    ('w_h2o__1m_ue', 'counts_1m_ue_1'), \n",
    "    ('w_h2o__3m_ue', 'counts_3m_ue_1'), \n",
    "    ('w_h2o__10m_ue', 'counts_10m_ue_1'), \n",
    "\n",
    "\n",
    "    ('w_h2o__1m_uw',  'counts_1m_uw_1'), \n",
    "    ('w_h2o__3m_uw', 'counts_3m_uw_1'), \n",
    "    ('w_h2o__10m_uw', 'counts_10m_uw_1'), \n",
    "]\n",
    "ec_lhflux_variables = list(zip(*ec_lhflux_and_counts_variables))[0]"
   ]
  },
  {
   "cell_type": "markdown",
   "metadata": {},
   "source": [
    "### Calculate the upper and lower threshold for removing data - 5*std deviation of ALL latent heat flux measurements"
   ]
  },
  {
   "cell_type": "code",
   "execution_count": 6,
   "metadata": {},
   "outputs": [
    {
     "data": {
      "text/plain": [
       "(-13.592732449123245, 13.604403331998471)"
      ]
     },
     "execution_count": 6,
     "metadata": {},
     "output_type": "execute_result"
    }
   ],
   "source": [
    "all_lhflux_measurements = tidy_df_5Min[tidy_df_5Min.variable.isin(ec_lhflux_variables)].value\n",
    "lower_threshold = all_lhflux_measurements.mean() - 5*all_lhflux_measurements.std()\n",
    "upper_threshold = all_lhflux_measurements.mean() + 5*all_lhflux_measurements.std()\n",
    "lower_threshold, upper_threshold"
   ]
  },
  {
   "cell_type": "code",
   "execution_count": 7,
   "metadata": {},
   "outputs": [],
   "source": [
    "import pandas as pd\n",
    "import numpy as np\n",
    "\n",
    "good_data_fractions = [\n",
    "    0, \n",
    "    # 0.05, 0.1, 0.25, 0.50, \n",
    "    # 0.75, \n",
    "    0.90, 0.95, \n",
    "    # 1\n",
    "]\n",
    "dataframes = []\n",
    "for good_data_fraction in good_data_fractions:\n",
    "    for flux_var, counts_var in ec_lhflux_and_counts_variables:\n",
    "        new_values = turbulence.clean_eddy_covariance(\n",
    "            tidy_df_5Min.query(f\"variable == '{flux_var}'\").value.values,\n",
    "            tidy_df_5Min.query(f\"variable == '{counts_var}'\").value.values,\n",
    "            lower_threshold,\n",
    "            upper_threshold,\n",
    "            fraction_good_data_reqd = good_data_fraction\n",
    "        )\n",
    "        dataframes.append(\n",
    "            pd.DataFrame.from_dict({\n",
    "                flux_var: new_values,\n",
    "                'good_data_fraction': np.full(len(new_values), good_data_fraction)\n",
    "            })\n",
    "        )"
   ]
  },
  {
   "cell_type": "markdown",
   "metadata": {},
   "source": [
    "## Calculate cumulative sublimation (mm)"
   ]
  },
  {
   "cell_type": "code",
   "execution_count": 8,
   "metadata": {},
   "outputs": [],
   "source": [
    "from sublimpy import tidy\n",
    "import metpy.constants"
   ]
  },
  {
   "cell_type": "code",
   "execution_count": 9,
   "metadata": {},
   "outputs": [
    {
     "name": "stdout",
     "output_type": "stream",
     "text": [
      "w_h2o__2m_c 0 29.790966933577884\n",
      "w_h2o__3m_c 0 34.53360434647222\n",
      "w_h2o__5m_c 0 37.48928122584268\n",
      "w_h2o__10m_c 0 41.38660060019198\n",
      "w_h2o__15m_c 0 32.592802110746334\n",
      "w_h2o__20m_c 0 38.78241373327484\n",
      "w_h2o__1m_d 0 18.823154550740192\n",
      "w_h2o__3m_d 0 34.101627180207615\n",
      "w_h2o__10m_d 0 39.21210266709886\n",
      "w_h2o__1m_ue 0 23.970117234020446\n",
      "w_h2o__3m_ue 0 34.65807965253853\n",
      "w_h2o__10m_ue 0 36.74532449217792\n",
      "w_h2o__1m_uw 0 18.673352041982085\n",
      "w_h2o__3m_uw 0 34.50582011197007\n",
      "w_h2o__10m_uw 0 40.242610255656516\n",
      "w_h2o__2m_c 0.9 28.394552217976653\n",
      "w_h2o__3m_c 0.9 33.69303365193264\n",
      "w_h2o__5m_c 0.9 36.422269288882596\n",
      "w_h2o__10m_c 0.9 39.343705631184626\n",
      "w_h2o__15m_c 0.9 25.62803047084436\n",
      "w_h2o__20m_c 0.9 33.84820112107782\n",
      "w_h2o__1m_d 0.9 18.25986046041312\n",
      "w_h2o__3m_d 0.9 32.528020942190096\n",
      "w_h2o__10m_d 0.9 37.51086285244327\n",
      "w_h2o__1m_ue 0.9 23.472797278054948\n",
      "w_h2o__3m_ue 0.9 32.38991287475709\n",
      "w_h2o__10m_ue 0.9 34.22256572053085\n",
      "w_h2o__1m_uw 0.9 18.220575186436847\n",
      "w_h2o__3m_uw 0.9 33.39049534844093\n",
      "w_h2o__10m_uw 0.9 38.29135489682637\n",
      "w_h2o__2m_c 0.95 27.91364683624598\n",
      "w_h2o__3m_c 0.95 33.27010045873039\n",
      "w_h2o__5m_c 0.95 35.89753457951142\n",
      "w_h2o__10m_c 0.95 38.56225650570379\n",
      "w_h2o__15m_c 0.95 24.287958103886755\n",
      "w_h2o__20m_c 0.95 33.34104611209206\n",
      "w_h2o__1m_d 0.95 17.98046285802274\n",
      "w_h2o__3m_d 0.95 31.676122860323897\n",
      "w_h2o__10m_d 0.95 36.50756915181889\n",
      "w_h2o__1m_ue 0.95 23.0371963999716\n",
      "w_h2o__3m_ue 0.95 31.90166883999031\n",
      "w_h2o__10m_ue 0.95 33.056911817846824\n",
      "w_h2o__1m_uw 0.95 17.682383058495933\n",
      "w_h2o__3m_uw 0.95 32.71763690905719\n",
      "w_h2o__10m_uw 0.95 37.32808754439046\n"
     ]
    }
   ],
   "source": [
    "seconds_per_5min = 60*5\n",
    "\n",
    "for dataframe in dataframes:\n",
    "    flux_var_name = dataframe.columns[0]\n",
    "    height = int(flux_var_name.split('_')[-2].split('m')[0])\n",
    "    tower = flux_var_name.split('_')[-1]\n",
    "    new_var_name = f\"cumulative_sub_measured_{height}m_{tower}\"\n",
    "    cumulative_sublimation_values = np.nancumsum(dataframe[flux_var_name]*seconds_per_5min)/metpy.constants.density_water.magnitude\n",
    "    print(flux_var_name, dataframe[dataframe.columns[1]].iloc[0], cumulative_sublimation_values.max())\n",
    "    ec_lhflux_variables = list(zip(*ec_lhflux_and_counts_variables))[0]"
   ]
  },
  {
   "cell_type": "code",
   "execution_count": 10,
   "metadata": {},
   "outputs": [],
   "source": [
    "from io import StringIO\n",
    "qc_df = pd.read_csv(StringIO(\"\"\"\n",
    "variable percent_reqd cumulative_sublimation\n",
    "w_h2o__2m_c 0 29.790966933577884\n",
    "w_h2o__3m_c 0 34.53360434647222\n",
    "w_h2o__5m_c 0 37.48928122584268\n",
    "w_h2o__10m_c 0 41.38660060019198\n",
    "w_h2o__15m_c 0 32.592802110746334\n",
    "w_h2o__20m_c 0 38.78241373327484\n",
    "w_h2o__1m_d 0 18.823154550740192\n",
    "w_h2o__3m_d 0 34.101627180207615\n",
    "w_h2o__10m_d 0 39.21210266709886\n",
    "w_h2o__1m_ue 0 23.970117234020446\n",
    "w_h2o__3m_ue 0 34.65807965253853\n",
    "w_h2o__10m_ue 0 36.74532449217792\n",
    "w_h2o__1m_uw 0 18.673352041982085\n",
    "w_h2o__3m_uw 0 34.50582011197007\n",
    "w_h2o__10m_uw 0 40.242610255656516\n",
    "w_h2o__2m_c 0.9 28.394552217976653\n",
    "w_h2o__3m_c 0.9 33.69303365193264\n",
    "w_h2o__5m_c 0.9 36.422269288882596\n",
    "w_h2o__10m_c 0.9 39.343705631184626\n",
    "w_h2o__15m_c 0.9 25.62803047084436\n",
    "w_h2o__20m_c 0.9 33.84820112107782\n",
    "w_h2o__1m_d 0.9 18.25986046041312\n",
    "w_h2o__3m_d 0.9 32.528020942190096\n",
    "w_h2o__10m_d 0.9 37.51086285244327\n",
    "w_h2o__1m_ue 0.9 23.472797278054948\n",
    "w_h2o__3m_ue 0.9 32.38991287475709\n",
    "w_h2o__10m_ue 0.9 34.22256572053085\n",
    "w_h2o__1m_uw 0.9 18.220575186436847\n",
    "w_h2o__3m_uw 0.9 33.39049534844093\n",
    "w_h2o__10m_uw 0.9 38.29135489682637\n",
    "w_h2o__2m_c 0.95 27.91364683624598\n",
    "w_h2o__3m_c 0.95 33.27010045873039\n",
    "w_h2o__5m_c 0.95 35.89753457951142\n",
    "w_h2o__10m_c 0.95 38.56225650570379\n",
    "w_h2o__15m_c 0.95 24.287958103886755\n",
    "w_h2o__20m_c 0.95 33.34104611209206\n",
    "w_h2o__1m_d 0.95 17.98046285802274\n",
    "w_h2o__3m_d 0.95 31.676122860323897\n",
    "w_h2o__10m_d 0.95 36.50756915181889\n",
    "w_h2o__1m_ue 0.95 23.0371963999716\n",
    "w_h2o__3m_ue 0.95 31.90166883999031\n",
    "w_h2o__10m_ue 0.95 33.056911817846824\n",
    "w_h2o__1m_uw 0.95 17.682383058495933\n",
    "w_h2o__3m_uw 0.95 32.71763690905719\n",
    "w_h2o__10m_uw 0.95 37.32808754439046\n",
    "\"\"\"), delim_whitespace=True)"
   ]
  },
  {
   "cell_type": "code",
   "execution_count": 11,
   "metadata": {},
   "outputs": [
    {
     "data": {
      "text/html": [
       "\n",
       "<style>\n",
       "  #altair-viz-ef30307a0393473497b9db23278d1047.vega-embed {\n",
       "    width: 100%;\n",
       "    display: flex;\n",
       "  }\n",
       "\n",
       "  #altair-viz-ef30307a0393473497b9db23278d1047.vega-embed details,\n",
       "  #altair-viz-ef30307a0393473497b9db23278d1047.vega-embed details summary {\n",
       "    position: relative;\n",
       "  }\n",
       "</style>\n",
       "<div id=\"altair-viz-ef30307a0393473497b9db23278d1047\"></div>\n",
       "<script type=\"text/javascript\">\n",
       "  var VEGA_DEBUG = (typeof VEGA_DEBUG == \"undefined\") ? {} : VEGA_DEBUG;\n",
       "  (function(spec, embedOpt){\n",
       "    let outputDiv = document.currentScript.previousElementSibling;\n",
       "    if (outputDiv.id !== \"altair-viz-ef30307a0393473497b9db23278d1047\") {\n",
       "      outputDiv = document.getElementById(\"altair-viz-ef30307a0393473497b9db23278d1047\");\n",
       "    }\n",
       "    const paths = {\n",
       "      \"vega\": \"https://cdn.jsdelivr.net/npm/vega@5?noext\",\n",
       "      \"vega-lib\": \"https://cdn.jsdelivr.net/npm/vega-lib?noext\",\n",
       "      \"vega-lite\": \"https://cdn.jsdelivr.net/npm/vega-lite@5.16.3?noext\",\n",
       "      \"vega-embed\": \"https://cdn.jsdelivr.net/npm/vega-embed@6?noext\",\n",
       "    };\n",
       "\n",
       "    function maybeLoadScript(lib, version) {\n",
       "      var key = `${lib.replace(\"-\", \"\")}_version`;\n",
       "      return (VEGA_DEBUG[key] == version) ?\n",
       "        Promise.resolve(paths[lib]) :\n",
       "        new Promise(function(resolve, reject) {\n",
       "          var s = document.createElement('script');\n",
       "          document.getElementsByTagName(\"head\")[0].appendChild(s);\n",
       "          s.async = true;\n",
       "          s.onload = () => {\n",
       "            VEGA_DEBUG[key] = version;\n",
       "            return resolve(paths[lib]);\n",
       "          };\n",
       "          s.onerror = () => reject(`Error loading script: ${paths[lib]}`);\n",
       "          s.src = paths[lib];\n",
       "        });\n",
       "    }\n",
       "\n",
       "    function showError(err) {\n",
       "      outputDiv.innerHTML = `<div class=\"error\" style=\"color:red;\">${err}</div>`;\n",
       "      throw err;\n",
       "    }\n",
       "\n",
       "    function displayChart(vegaEmbed) {\n",
       "      vegaEmbed(outputDiv, spec, embedOpt)\n",
       "        .catch(err => showError(`Javascript Error: ${err.message}<br>This usually means there's a typo in your chart specification. See the javascript console for the full traceback.`));\n",
       "    }\n",
       "\n",
       "    if(typeof define === \"function\" && define.amd) {\n",
       "      requirejs.config({paths});\n",
       "      require([\"vega-embed\"], displayChart, err => showError(`Error loading script: ${err.message}`));\n",
       "    } else {\n",
       "      maybeLoadScript(\"vega\", \"5\")\n",
       "        .then(() => maybeLoadScript(\"vega-lite\", \"5.16.3\"))\n",
       "        .then(() => maybeLoadScript(\"vega-embed\", \"6\"))\n",
       "        .catch(showError)\n",
       "        .then(() => displayChart(vegaEmbed));\n",
       "    }\n",
       "  })({\"config\": {\"view\": {\"continuousWidth\": 300, \"continuousHeight\": 300}}, \"data\": {\"url\": \"altair-data-f6af870fce8665678ddcc00e822b416e.json\", \"format\": {\"type\": \"json\"}}, \"mark\": {\"type\": \"line\", \"point\": true}, \"encoding\": {\"color\": {\"field\": \"variable\", \"type\": \"nominal\"}, \"x\": {\"field\": \"percent_reqd\", \"type\": \"quantitative\"}, \"y\": {\"field\": \"cumulative_sublimation\", \"type\": \"quantitative\"}}, \"$schema\": \"https://vega.github.io/schema/vega-lite/v5.16.3.json\"}, {\"mode\": \"vega-lite\"});\n",
       "</script>"
      ],
      "text/plain": [
       "alt.Chart(...)"
      ]
     },
     "execution_count": 11,
     "metadata": {},
     "output_type": "execute_result"
    }
   ],
   "source": [
    "import altair as alt\n",
    "alt.Chart(qc_df).mark_line(point=True).encode(\n",
    "    alt.X(\"percent_reqd:Q\"),\n",
    "    alt.Y(\"cumulative_sublimation:Q\"),\n",
    "    alt.Color(\"variable:N\")\n",
    ")"
   ]
  },
  {
   "cell_type": "markdown",
   "metadata": {},
   "source": [
    "## Select our data-required value, replace dirty EC data with clean EC data, and calculate cumulative sublimation"
   ]
  },
  {
   "cell_type": "code",
   "execution_count": 12,
   "metadata": {},
   "outputs": [],
   "source": [
    "dataframes = [df for df in dataframes if df['good_data_fraction'].iloc[0] == 0.90]"
   ]
  },
  {
   "cell_type": "code",
   "execution_count": 15,
   "metadata": {},
   "outputs": [
    {
     "data": {
      "text/html": [
       "<div>\n",
       "<style scoped>\n",
       "    .dataframe tbody tr th:only-of-type {\n",
       "        vertical-align: middle;\n",
       "    }\n",
       "\n",
       "    .dataframe tbody tr th {\n",
       "        vertical-align: top;\n",
       "    }\n",
       "\n",
       "    .dataframe thead th {\n",
       "        text-align: right;\n",
       "    }\n",
       "</style>\n",
       "<table border=\"1\" class=\"dataframe\">\n",
       "  <thead>\n",
       "    <tr style=\"text-align: right;\">\n",
       "      <th></th>\n",
       "      <th>w_h2o__3m_c</th>\n",
       "      <th>good_data_fraction</th>\n",
       "    </tr>\n",
       "  </thead>\n",
       "  <tbody>\n",
       "    <tr>\n",
       "      <th>0</th>\n",
       "      <td>-0.003711</td>\n",
       "      <td>0.9</td>\n",
       "    </tr>\n",
       "    <tr>\n",
       "      <th>1</th>\n",
       "      <td>-0.000613</td>\n",
       "      <td>0.9</td>\n",
       "    </tr>\n",
       "    <tr>\n",
       "      <th>2</th>\n",
       "      <td>-0.001677</td>\n",
       "      <td>0.9</td>\n",
       "    </tr>\n",
       "    <tr>\n",
       "      <th>3</th>\n",
       "      <td>-0.000651</td>\n",
       "      <td>0.9</td>\n",
       "    </tr>\n",
       "    <tr>\n",
       "      <th>4</th>\n",
       "      <td>-0.000149</td>\n",
       "      <td>0.9</td>\n",
       "    </tr>\n",
       "    <tr>\n",
       "      <th>...</th>\n",
       "      <td>...</td>\n",
       "      <td>...</td>\n",
       "    </tr>\n",
       "    <tr>\n",
       "      <th>46351</th>\n",
       "      <td>0.003134</td>\n",
       "      <td>0.9</td>\n",
       "    </tr>\n",
       "    <tr>\n",
       "      <th>46352</th>\n",
       "      <td>0.002378</td>\n",
       "      <td>0.9</td>\n",
       "    </tr>\n",
       "    <tr>\n",
       "      <th>46353</th>\n",
       "      <td>0.002704</td>\n",
       "      <td>0.9</td>\n",
       "    </tr>\n",
       "    <tr>\n",
       "      <th>46354</th>\n",
       "      <td>0.002306</td>\n",
       "      <td>0.9</td>\n",
       "    </tr>\n",
       "    <tr>\n",
       "      <th>46355</th>\n",
       "      <td>-0.001047</td>\n",
       "      <td>0.9</td>\n",
       "    </tr>\n",
       "  </tbody>\n",
       "</table>\n",
       "<p>46356 rows × 2 columns</p>\n",
       "</div>"
      ],
      "text/plain": [
       "       w_h2o__3m_c  good_data_fraction\n",
       "0        -0.003711                 0.9\n",
       "1        -0.000613                 0.9\n",
       "2        -0.001677                 0.9\n",
       "3        -0.000651                 0.9\n",
       "4        -0.000149                 0.9\n",
       "...            ...                 ...\n",
       "46351     0.003134                 0.9\n",
       "46352     0.002378                 0.9\n",
       "46353     0.002704                 0.9\n",
       "46354     0.002306                 0.9\n",
       "46355    -0.001047                 0.9\n",
       "\n",
       "[46356 rows x 2 columns]"
      ]
     },
     "execution_count": 15,
     "metadata": {},
     "output_type": "execute_result"
    }
   ],
   "source": [
    "dataframes[1]"
   ]
  },
  {
   "cell_type": "code",
   "execution_count": 16,
   "metadata": {},
   "outputs": [
    {
     "name": "stdout",
     "output_type": "stream",
     "text": [
      "46357\n"
     ]
    }
   ],
   "source": [
    "print(len(tidy_df_5Min.time.unique()))"
   ]
  },
  {
   "cell_type": "code",
   "execution_count": 14,
   "metadata": {},
   "outputs": [
    {
     "name": "stdout",
     "output_type": "stream",
     "text": [
      "46356\n",
      "46356\n"
     ]
    },
    {
     "ename": "AssertionError",
     "evalue": "",
     "output_type": "error",
     "traceback": [
      "\u001b[0;31m---------------------------------------------------------------------------\u001b[0m",
      "\u001b[0;31mAssertionError\u001b[0m                            Traceback (most recent call last)",
      "Cell \u001b[0;32mIn[14], line 23\u001b[0m\n\u001b[1;32m     14\u001b[0m tidy_df_5Min \u001b[38;5;241m=\u001b[39m tidy\u001b[38;5;241m.\u001b[39mtidy_df_add_variable(\n\u001b[1;32m     15\u001b[0m     tidy_df_5Min,\n\u001b[1;32m     16\u001b[0m     dataframe[flux_var_name],\n\u001b[0;32m   (...)\u001b[0m\n\u001b[1;32m     20\u001b[0m     tower\n\u001b[1;32m     21\u001b[0m )\n\u001b[1;32m     22\u001b[0m \u001b[38;5;66;03m# add the cumulative calculations values\u001b[39;00m\n\u001b[0;32m---> 23\u001b[0m tidy_df_5Min \u001b[38;5;241m=\u001b[39m \u001b[43mtidy\u001b[49m\u001b[38;5;241;43m.\u001b[39;49m\u001b[43mtidy_df_add_variable\u001b[49m\u001b[43m(\u001b[49m\n\u001b[1;32m     24\u001b[0m \u001b[43m    \u001b[49m\u001b[43mtidy_df_5Min\u001b[49m\u001b[43m,\u001b[49m\n\u001b[1;32m     25\u001b[0m \u001b[43m    \u001b[49m\u001b[43mcumulative_sublimation_values\u001b[49m\u001b[43m,\u001b[49m\n\u001b[1;32m     26\u001b[0m \u001b[43m    \u001b[49m\u001b[43mnew_var_name\u001b[49m\u001b[43m,\u001b[49m\n\u001b[1;32m     27\u001b[0m \u001b[43m    \u001b[49m\u001b[38;5;124;43m\"\u001b[39;49m\u001b[38;5;124;43mCumulative sublimation measured\u001b[39;49m\u001b[38;5;124;43m\"\u001b[39;49m\u001b[43m,\u001b[49m\u001b[43m  \u001b[49m\n\u001b[1;32m     28\u001b[0m \u001b[43m    \u001b[49m\u001b[43mheight\u001b[49m\u001b[43m,\u001b[49m\n\u001b[1;32m     29\u001b[0m \u001b[43m    \u001b[49m\u001b[43mtower\u001b[49m\n\u001b[1;32m     30\u001b[0m \u001b[43m\u001b[49m\u001b[43m)\u001b[49m\n",
      "File \u001b[0;32m~/mambaforge/envs/sublimationofsnow/lib/python3.12/site-packages/sublimpy/tidy.py:307\u001b[0m, in \u001b[0;36mtidy_df_add_variable\u001b[0;34m(tidy_df_original, variable_new, variable, measurement, height, tower)\u001b[0m\n\u001b[1;32m    293\u001b[0m \u001b[38;5;250m\u001b[39m\u001b[38;5;124;03m\"\"\"Add variable to a tidy dataset in the format returned by the `get_tidy_dataset` function.\u001b[39;00m\n\u001b[1;32m    294\u001b[0m \n\u001b[1;32m    295\u001b[0m \u001b[38;5;124;03mArgs:\u001b[39;00m\n\u001b[0;32m   (...)\u001b[0m\n\u001b[1;32m    304\u001b[0m \u001b[38;5;124;03m    _type_: _description_\u001b[39;00m\n\u001b[1;32m    305\u001b[0m \u001b[38;5;124;03m\"\"\"\u001b[39;00m\n\u001b[1;32m    306\u001b[0m time_array \u001b[38;5;241m=\u001b[39m tidy_df_original\u001b[38;5;241m.\u001b[39mtime\u001b[38;5;241m.\u001b[39mdrop_duplicates()\n\u001b[0;32m--> 307\u001b[0m \u001b[38;5;28;01massert\u001b[39;00m \u001b[38;5;28mlen\u001b[39m(variable_new) \u001b[38;5;241m==\u001b[39m \u001b[38;5;28mlen\u001b[39m(time_array)\n\u001b[1;32m    308\u001b[0m new_data_df \u001b[38;5;241m=\u001b[39m pd\u001b[38;5;241m.\u001b[39mDataFrame({\n\u001b[1;32m    309\u001b[0m     \u001b[38;5;124m'\u001b[39m\u001b[38;5;124mtime\u001b[39m\u001b[38;5;124m'\u001b[39m: time_array,\n\u001b[1;32m    310\u001b[0m     \u001b[38;5;124m'\u001b[39m\u001b[38;5;124mvalue\u001b[39m\u001b[38;5;124m'\u001b[39m: variable_new\n\u001b[0;32m   (...)\u001b[0m\n\u001b[1;32m    315\u001b[0m     tower \u001b[38;5;241m=\u001b[39m tower\n\u001b[1;32m    316\u001b[0m )\n\u001b[1;32m    318\u001b[0m \u001b[38;5;28;01mreturn\u001b[39;00m pd\u001b[38;5;241m.\u001b[39mconcat([tidy_df_original, new_data_df])\n",
      "\u001b[0;31mAssertionError\u001b[0m: "
     ]
    }
   ],
   "source": [
    "seconds_per_5min = 60*5\n",
    "\n",
    "for dataframe in dataframes:\n",
    "    flux_var_name = dataframe.columns[0]\n",
    "    height = int(flux_var_name.split('_')[-2].split('m')[0])\n",
    "    tower = flux_var_name.split('_')[-1]\n",
    "    new_var_name = f\"cumulative_sub_measured_{height}m_{tower}\"\n",
    "    cumulative_sublimation_values = np.nancumsum(dataframe[flux_var_name]*seconds_per_5min)/metpy.constants.density_water.magnitude\n",
    "    # remove the old flux values\n",
    "    tidy_df_5Min = tidy_df_5Min[tidy_df_5Min.variable != flux_var_name]\n",
    "    # add the cleaned values\n",
    "    print(len(dataframe[flux_var_name]))\n",
    "    print(len(tidy_df_5Min.time.unique()))\n",
    "    tidy_df_5Min = tidy.tidy_df_add_variable(\n",
    "        tidy_df_5Min,\n",
    "        dataframe[flux_var_name],\n",
    "        flux_var_name,\n",
    "        'w_h2o_',\n",
    "        height,\n",
    "        tower\n",
    "    )\n",
    "    # add the cumulative calculations values\n",
    "    tidy_df_5Min = tidy.tidy_df_add_variable(\n",
    "        tidy_df_5Min,\n",
    "        cumulative_sublimation_values,\n",
    "        new_var_name,\n",
    "        \"Cumulative sublimation measured\",  \n",
    "        height,\n",
    "        tower\n",
    "    )"
   ]
  },
  {
   "cell_type": "markdown",
   "metadata": {},
   "source": [
    "# Open Model Ensemble Dataset"
   ]
  },
  {
   "cell_type": "code",
   "execution_count": null,
   "metadata": {},
   "outputs": [],
   "source": [
    "model_df = pd.read_parquet(\"model_results.parquet\")\n",
    "# add a bunch of columns that are descriptive, from the config column which has multiple bits of info\n",
    "model_df['z0'] = model_df['config'].apply(\n",
    "    lambda v: float(v.split(' ')[-1])\n",
    ")\n",
    "model_df['e_sat_curve'] = model_df['config'].apply(\n",
    "    lambda v: 'metpy' if 'metpy' in v else 'alduchov'\n",
    ")\n",
    "model_df['surface_measurement'] = model_df['config'].apply(\n",
    "    lambda v: v.split(' ')[-3]\n",
    ")\n",
    "model_df['scheme'] = model_df['config'].apply(\n",
    "    lambda v: 'andreas' if 'andreas lengths' in v else 'yang'\n",
    ")\n",
    "model_df['most_config'] = model_df['config'].apply(lambda s: ' '.join(s.split(' ')[:-3]))\n",
    "# remove the scalar roughness length parameterization info \n",
    "model_df['most_config'] = model_df['most_config'].str.replace(' andreas lengths', '')\n",
    "model_df.head()"
   ]
  },
  {
   "cell_type": "markdown",
   "metadata": {},
   "source": [
    "### Handle a pesky outlier"
   ]
  },
  {
   "cell_type": "code",
   "execution_count": null,
   "metadata": {},
   "outputs": [],
   "source": [
    "model_df.loc[(model_df.time == \"2023-01-22 1400\") & (model_df.surface_measurement == 'Tsurf_d'), 'latent heat flux'] = 0\n",
    "model_df.loc[(model_df.time == \"2023-01-22 1400\") & (model_df.surface_measurement == 'Tsurf_d'), 'sensible heat flux'] = 0"
   ]
  },
  {
   "cell_type": "markdown",
   "metadata": {},
   "source": [
    "## Calculate cumulative sublimation (mm)"
   ]
  },
  {
   "cell_type": "code",
   "execution_count": null,
   "metadata": {},
   "outputs": [],
   "source": [
    "model_df_cumsum = pd.DataFrame(model_df.sort_values(\"time\").set_index(\n",
    "    [\"time\", \"config\", \"scheme\", \"z0\", \"e_sat_curve\", \"surface_measurement\", \"most_config\"]\n",
    ").groupby([\"config\", \"scheme\", \"z0\", \"e_sat_curve\", \"surface_measurement\", \"most_config\"])['latent heat flux'].cumsum()).reset_index()\n",
    "model_df_cumsum_daily = pd.DataFrame(model_df_cumsum.set_index(\"time\").groupby(\n",
    "    ['config', \"scheme\", \"z0\", \"e_sat_curve\", \"surface_measurement\", \"most_config\", pd.Grouper(freq='1440Min')]\n",
    ")['latent heat flux'].max()).reset_index()\n",
    "\n",
    "from metpy.constants import density_water\n",
    "seconds_per_30min = 60*30\n",
    "model_df_cumsum_daily['latent heat flux (mm)'] = model_df_cumsum_daily['latent heat flux'].values * seconds_per_30min/density_water.magnitude"
   ]
  },
  {
   "cell_type": "code",
   "execution_count": null,
   "metadata": {},
   "outputs": [],
   "source": [
    "measurements_chart = alt.Chart(\n",
    "    tidy_df_5Min.query(\"measurement == 'Cumulative sublimation measured'\").query(\"height > 1\")\n",
    ").transform_window(\n",
    "    frame = [-24, 24],\n",
    "    groupby=['variable'],\n",
    "    rolling_avg = 'mean(value)'\n",
    ").mark_line(opacity=0.5, strokeWidth=1).encode(\n",
    "    alt.X(\"time:T\"),\n",
    "    alt.Y(\"rolling_avg:Q\").title([\"Cumulative sublimation (mm)\", \"(4 hour rolling average)\"]),\n",
    "    detail = 'variable:N',\n",
    "    # alt.Color(\"variable:N\"),\n",
    "    tooltip = 'variable'\n",
    ").properties(width = 250, height = 250)"
   ]
  },
  {
   "cell_type": "code",
   "execution_count": null,
   "metadata": {},
   "outputs": [],
   "source": [
    "models_chart = alt.Chart(\n",
    "    model_df_cumsum_daily[model_df_cumsum_daily.time < '2023-05-10'].query(\"z0 < 1.e-03\").dropna()\n",
    ").mark_line(opacity = 0.5, color='grey', strokeWidth=0.2).encode(\n",
    "    alt.X(\"time:T\"),\n",
    "    alt.Y(\"latent heat flux (mm)\"),\n",
    "    detail = 'config'\n",
    ")"
   ]
  },
  {
   "cell_type": "code",
   "execution_count": null,
   "metadata": {},
   "outputs": [],
   "source": [
    "snowpillow_and_precip_chart = alt.Chart(\n",
    "    tidy_df_30Min.query(\"variable == 'SWE_p2_c'\").dropna()\n",
    ").transform_window(\n",
    "    frame = [-48, 48],\n",
    "    rolling_median = 'median(value)'\n",
    ").mark_line().encode(\n",
    "    alt.X(\"time:T\").axis(labels=False).title(None),\n",
    "    alt.Y(\"rolling_median:Q\").title([\"Snow water\", \"equivalent (mm)\"])\n",
    ").properties(width = 250, height = 83) + alt.Chart(\n",
    "    precip_df\n",
    ").mark_line(strokeDash=[2,4]).encode(\n",
    "    alt.X('date:T'),\n",
    "    alt.Y(\"acc_prec\")\n",
    ")"
   ]
  },
  {
   "cell_type": "code",
   "execution_count": null,
   "metadata": {},
   "outputs": [],
   "source": [
    "(\n",
    "    snowpillow_and_precip_chart &\n",
    "    (measurements_chart + models_chart)\n",
    ").interactive().display(renderer='svg')"
   ]
  },
  {
   "cell_type": "code",
   "execution_count": null,
   "metadata": {},
   "outputs": [],
   "source": [
    "start_date = \"2023-03-01\"\n",
    "end_date = \"2023-03-05\"\n",
    "meas_chart = alt.Chart(\n",
    "    tidy_df_30Min.set_index('time').loc[start_date:end_date].reset_index().query(\"variable == 'w_h2o__3m_c'\")\n",
    ").mark_line().encode(\n",
    "    alt.X(\"time:T\"),\n",
    "    alt.Y(\"value:Q\")\n",
    "\n",
    ")\n",
    "model_chart = alt.Chart(\n",
    "    model_df[model_df.config == 'MO Holtslag de Bruin andreas lengths Tsurf_c e_sat_alduchov 1e-05'].set_index('time').loc[start_date:end_date].reset_index()\n",
    ").mark_line(color='red').encode(\n",
    "    alt.X(\"time:T\"),\n",
    "    alt.Y(\"latent heat flux:Q\")\n",
    ")\n",
    "\n",
    "(meas_chart + model_chart).properties(width = 600).display(renderer='svg')"
   ]
  },
  {
   "cell_type": "code",
   "execution_count": null,
   "metadata": {},
   "outputs": [],
   "source": []
  }
 ],
 "metadata": {
  "kernelspec": {
   "display_name": "arm",
   "language": "python",
   "name": "python3"
  },
  "language_info": {
   "codemirror_mode": {
    "name": "ipython",
    "version": 3
   },
   "file_extension": ".py",
   "mimetype": "text/x-python",
   "name": "python",
   "nbconvert_exporter": "python",
   "pygments_lexer": "ipython3",
   "version": "3.12.1"
  }
 },
 "nbformat": 4,
 "nbformat_minor": 2
}
