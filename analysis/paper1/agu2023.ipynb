{
 "cells": [
  {
   "cell_type": "code",
   "execution_count": 3,
   "metadata": {},
   "outputs": [
    {
     "data": {
      "text/plain": [
       "RendererRegistry.enable('jupyterlab')"
      ]
     },
     "execution_count": 3,
     "metadata": {},
     "output_type": "execute_result"
    }
   ],
   "source": [
    "import pandas as pd\n",
    "import numpy as np\n",
    "import altair as alt\n",
    "alt.data_transformers.enable('json')\n",
    "alt.renderers.enable('jupyterlab')"
   ]
  },
  {
   "cell_type": "markdown",
   "metadata": {},
   "source": [
    "# Open precipitation dataset"
   ]
  },
  {
   "cell_type": "code",
   "execution_count": null,
   "metadata": {},
   "outputs": [],
   "source": [
    "precip_file = \"/data2/elilouis/sublimationofsnow/tilden_precip_data/kettle_ponds_precip.csv\"\n",
    "\n",
    "precip_df = pd.read_csv(precip_file)\n",
    "\n",
    "precip_df['date'] = pd.to_datetime(precip_df['date'])\n",
    "\n",
    "acc_precip_on_first_day = precip_df.set_index('date').loc['20221130'].acc_prec\n",
    "\n",
    "precip_df = precip_df.set_index('date').loc['20221130': '20230510'].reset_index()\n",
    "precip_df['acc_prec']  = precip_df['acc_prec'] - acc_precip_on_first_day"
   ]
  },
  {
   "cell_type": "markdown",
   "metadata": {},
   "source": [
    "# Open SOS Measurement Dataset"
   ]
  },
  {
   "cell_type": "code",
   "execution_count": 4,
   "metadata": {},
   "outputs": [
    {
     "name": "stderr",
     "output_type": "stream",
     "text": [
      "/var/folders/jy/xv6qnlms2cj_3p5yrzcwc0n00000gn/T/ipykernel_13244/1936205774.py:10: FutureWarning: Value based partial slicing on non-monotonic DatetimeIndexes with non-existing keys is deprecated and will raise a KeyError in a future Version.\n",
      "  tidy_df_5Min = tidy_df_5Min.set_index('time').loc[start_date:end_date].reset_index()\n"
     ]
    }
   ],
   "source": [
    "start_date = '20221130'\n",
    "end_date = '20230509'\n",
    "# open files\n",
    "tidy_df_5Min = pd.read_parquet('../sos/tidy_df_20221130_20230517_noplanar_fit.parquet')\n",
    "tidy_df_30Min = pd.read_parquet('../sos/tidy_df_30Min_20221130_20230517_noplanar_fit.parquet')\n",
    "# convert time column to datetime\n",
    "tidy_df_5Min['time'] = pd.to_datetime(tidy_df_5Min['time'])\n",
    "tidy_df_30Min['time'] = pd.to_datetime(tidy_df_30Min['time'])\n",
    "# limit data to our dates of interest, based on continuous snow cover at Kettle Ponds\n",
    "tidy_df_5Min = tidy_df_5Min.set_index('time').loc[start_date:end_date].reset_index()\n",
    "tidy_df_30Min = tidy_df_30Min.set_index('time').loc[start_date:end_date].reset_index()"
   ]
  },
  {
   "cell_type": "code",
   "execution_count": 9,
   "metadata": {},
   "outputs": [],
   "source": [
    "from metpy.units import units\n",
    "from sublimpy import tidy"
   ]
  },
  {
   "cell_type": "code",
   "execution_count": 10,
   "metadata": {},
   "outputs": [],
   "source": [
    "## add sensible heat flux in W/m^2 variable, reverse sign too (positive energy flux INTO snowpack)\n",
    "specific_heat_capacity_air = - 1.0005 * units('kilojoules/(K*kg)')\n",
    "air_density = tidy_df_30Min.query(\"variable == 'airdensity_3m_c'\")['value'].values * units(\"kg/m^3\")\n",
    "sensible_heat_flux_meas_units = tidy_df_30Min.query(\"variable == 'w_tc__3m_c'\")['value'].values * units(\"K*m/s\")\n",
    "sensible_heat_flux_watts_per_m2 = (sensible_heat_flux_meas_units * specific_heat_capacity_air * air_density).to(\"W/m^2\").magnitude\n",
    "tidy_df_30Min = tidy.tidy_df_add_variable(\n",
    "    tidy_df_30Min,\n",
    "    sensible_heat_flux_watts_per_m2,\n",
    "    'w_tc__3m_c w/m2',\n",
    "    'w_tc_ w/m2',\n",
    "    3,\n",
    "    'c'\n",
    ")\n",
    "\n",
    "## add latent heat flux in W/m^2 variable, reverse sign too (positive energy flux INTO snowpack)\n",
    "latent_heat_of_vaporization = - 2838 * units(\"J/g\")\n",
    "latent_heat_flux_meas_units = tidy_df_30Min.query(\"variable == 'w_h2o__3m_c'\")['value'].values * units(\"g/(m^2 * s)\")\n",
    "latent_heat_flux_watts_per_m2 = (latent_heat_flux_meas_units * latent_heat_of_vaporization).to(\"W/m^2\").magnitude\n",
    "tidy_df_30Min = tidy.tidy_df_add_variable(\n",
    "    tidy_df_30Min,\n",
    "    latent_heat_flux_watts_per_m2,\n",
    "    'w_h2o__3m_c w/m2',\n",
    "    'w_h2o_ w/m2',\n",
    "    3,\n",
    "    'c'\n",
    ")"
   ]
  },
  {
   "cell_type": "code",
   "execution_count": 26,
   "metadata": {},
   "outputs": [
    {
     "data": {
      "text/html": [
       "<div>\n",
       "<style scoped>\n",
       "    .dataframe tbody tr th:only-of-type {\n",
       "        vertical-align: middle;\n",
       "    }\n",
       "\n",
       "    .dataframe tbody tr th {\n",
       "        vertical-align: top;\n",
       "    }\n",
       "\n",
       "    .dataframe thead th {\n",
       "        text-align: right;\n",
       "    }\n",
       "</style>\n",
       "<table border=\"1\" class=\"dataframe\">\n",
       "  <thead>\n",
       "    <tr style=\"text-align: right;\">\n",
       "      <th></th>\n",
       "      <th>time</th>\n",
       "      <th>measurement</th>\n",
       "      <th>variable</th>\n",
       "      <th>height</th>\n",
       "      <th>tower</th>\n",
       "      <th>value</th>\n",
       "    </tr>\n",
       "  </thead>\n",
       "  <tbody>\n",
       "    <tr>\n",
       "      <th>0</th>\n",
       "      <td>2022-11-30 00:00:00</td>\n",
       "      <td>w_tc_ w/m2</td>\n",
       "      <td>w_tc__3m_c w/m2</td>\n",
       "      <td>3.0</td>\n",
       "      <td>c</td>\n",
       "      <td>49.699411</td>\n",
       "    </tr>\n",
       "    <tr>\n",
       "      <th>1</th>\n",
       "      <td>2022-11-30 00:30:00</td>\n",
       "      <td>w_tc_ w/m2</td>\n",
       "      <td>w_tc__3m_c w/m2</td>\n",
       "      <td>3.0</td>\n",
       "      <td>c</td>\n",
       "      <td>4.518318</td>\n",
       "    </tr>\n",
       "    <tr>\n",
       "      <th>2</th>\n",
       "      <td>2022-11-30 01:00:00</td>\n",
       "      <td>w_tc_ w/m2</td>\n",
       "      <td>w_tc__3m_c w/m2</td>\n",
       "      <td>3.0</td>\n",
       "      <td>c</td>\n",
       "      <td>6.275104</td>\n",
       "    </tr>\n",
       "    <tr>\n",
       "      <th>3</th>\n",
       "      <td>2022-11-30 01:30:00</td>\n",
       "      <td>w_tc_ w/m2</td>\n",
       "      <td>w_tc__3m_c w/m2</td>\n",
       "      <td>3.0</td>\n",
       "      <td>c</td>\n",
       "      <td>11.600037</td>\n",
       "    </tr>\n",
       "    <tr>\n",
       "      <th>4</th>\n",
       "      <td>2022-11-30 02:00:00</td>\n",
       "      <td>w_tc_ w/m2</td>\n",
       "      <td>w_tc__3m_c w/m2</td>\n",
       "      <td>3.0</td>\n",
       "      <td>c</td>\n",
       "      <td>14.262819</td>\n",
       "    </tr>\n",
       "  </tbody>\n",
       "</table>\n",
       "</div>"
      ],
      "text/plain": [
       "                 time measurement         variable  height tower      value\n",
       "0 2022-11-30 00:00:00  w_tc_ w/m2  w_tc__3m_c w/m2     3.0     c  49.699411\n",
       "1 2022-11-30 00:30:00  w_tc_ w/m2  w_tc__3m_c w/m2     3.0     c   4.518318\n",
       "2 2022-11-30 01:00:00  w_tc_ w/m2  w_tc__3m_c w/m2     3.0     c   6.275104\n",
       "3 2022-11-30 01:30:00  w_tc_ w/m2  w_tc__3m_c w/m2     3.0     c  11.600037\n",
       "4 2022-11-30 02:00:00  w_tc_ w/m2  w_tc__3m_c w/m2     3.0     c  14.262819"
      ]
     },
     "execution_count": 26,
     "metadata": {},
     "output_type": "execute_result"
    }
   ],
   "source": [
    "src = tidy_df_30Min[tidy_df_30Min.variable.isin(['w_tc__3m_c w/m2', 'w_h2o__3m_c w/m2',])]\n",
    "# src = src.pivot_table(values = 'value', index='time', columns=['measurement']).reset_index()\n",
    "# src = src.set_index('time').groupby([pd.Grouper(freq=\"60min\")]).mean().reset_index()\n",
    "src.head()"
   ]
  },
  {
   "cell_type": "code",
   "execution_count": 27,
   "metadata": {},
   "outputs": [
    {
     "data": {
      "application/vnd.vegalite.v5+json": {
       "$schema": "https://vega.github.io/schema/vega-lite/v5.15.1.json",
       "config": {
        "view": {
         "continuousHeight": 300,
         "continuousWidth": 300
        }
       },
       "data": {
        "format": {
         "type": "json"
        },
        "url": "altair-data-b33cb08ff66d4761604c5178643bef62.json"
       },
       "encoding": {
        "row": {
         "field": "variable",
         "type": "nominal"
        },
        "x": {
         "field": "time",
         "type": "temporal"
        },
        "y": {
         "field": "value",
         "type": "quantitative"
        }
       },
       "mark": {
        "type": "line"
       }
      },
      "text/plain": [
       "<VegaLite 5 object>\n",
       "\n",
       "If you see this message, it means the renderer has not been properly enabled\n",
       "for the frontend that you are using. For more information, see\n",
       "https://altair-viz.github.io/user_guide/display_frontends.html#troubleshooting\n"
      ]
     },
     "execution_count": 27,
     "metadata": {},
     "output_type": "execute_result"
    }
   ],
   "source": [
    "alt.Chart(src).mark_line().encode(\n",
    "    alt.X(\"time:T\"),\n",
    "    alt.Y(\"value:Q\"),\n",
    "    alt.Row(\"variable:N\")\n",
    ")"
   ]
  },
  {
   "cell_type": "code",
   "execution_count": 20,
   "metadata": {},
   "outputs": [
    {
     "data": {
      "application/vnd.vegalite.v5+json": {
       "$schema": "https://vega.github.io/schema/vega-lite/v5.15.1.json",
       "config": {
        "view": {
         "continuousHeight": 300,
         "continuousWidth": 300
        }
       },
       "data": {
        "format": {
         "type": "json"
        },
        "url": "altair-data-10022c0ec16a5554a2b01ffafc422821.json"
       },
       "encoding": {
        "row": {
         "field": "key",
         "type": "nominal"
        },
        "x": {
         "field": "time",
         "type": "temporal"
        },
        "y": {
         "field": "value",
         "type": "quantitative"
        }
       },
       "mark": {
        "type": "line"
       },
       "transform": [
        {
         "fold": [
          "w_tc__3m_c w/m2",
          "w_h2o__3m_c w/m2"
         ]
        }
       ]
      },
      "text/plain": [
       "<VegaLite 5 object>\n",
       "\n",
       "If you see this message, it means the renderer has not been properly enabled\n",
       "for the frontend that you are using. For more information, see\n",
       "https://altair-viz.github.io/user_guide/display_frontends.html#troubleshooting\n"
      ]
     },
     "execution_count": 20,
     "metadata": {},
     "output_type": "execute_result"
    }
   ],
   "source": [
    "alt.Chart(src).transform_fold(['w_tc__3m_c w/m2', 'w_h2o__3m_c w/m2'], ).mark_line().encode(\n",
    "    alt.X(\"time:T\"),\n",
    "    alt.Y(\"value:Q\"),\n",
    "    alt.Row(\"key:N\")\n",
    ")"
   ]
  },
  {
   "cell_type": "code",
   "execution_count": null,
   "metadata": {},
   "outputs": [],
   "source": [
    "# quick way to get variable info if we want it \n",
    "# import xarray as xr\n",
    "# ds = xr.open_dataset(\"/data2/elilouis/sublimationofsnow/sosnoqc/isfs_20221228.nc\")\n",
    "# ds['SWE_p2_c']"
   ]
  },
  {
   "cell_type": "markdown",
   "metadata": {},
   "source": [
    "## Clean the data"
   ]
  },
  {
   "cell_type": "markdown",
   "metadata": {},
   "source": [
    "### Step 1: remove all LH flux data points with less than 90% of 20hz data being good\n",
    "### Step 2: remove all LH flux data points with magnitude greater than 1 g/m^2/s"
   ]
  },
  {
   "cell_type": "code",
   "execution_count": null,
   "metadata": {},
   "outputs": [],
   "source": [
    "ec_lhflux_and_counts_variables = [\n",
    "    ('w_h2o__2m_c', 'counts_2m_c_1'), \n",
    "    ('w_h2o__3m_c', 'counts_3m_c_1'), \n",
    "    ('w_h2o__5m_c', 'counts_5m_c_1'), \n",
    "    ('w_h2o__10m_c', 'counts_10m_c_1'), \n",
    "    ('w_h2o__15m_c', 'counts_15m_c_1'), \n",
    "    ('w_h2o__20m_c', 'counts_20m_c_1'), \n",
    "\n",
    "\n",
    "    ('w_h2o__1m_d', 'counts_1m_d_1'), \n",
    "    ('w_h2o__3m_d', 'counts_3m_d_1'), \n",
    "    ('w_h2o__10m_d', 'counts_10m_d_1'), \n",
    "      \n",
    "    ('w_h2o__1m_ue', 'counts_1m_ue_1'), \n",
    "    ('w_h2o__3m_ue', 'counts_3m_ue_1'), \n",
    "    ('w_h2o__10m_ue', 'counts_10m_ue_1'), \n",
    "\n",
    "\n",
    "    ('w_h2o__1m_uw',  'counts_1m_uw_1'), \n",
    "    ('w_h2o__3m_uw', 'counts_3m_uw_1'), \n",
    "    ('w_h2o__10m_uw', 'counts_10m_uw_1'), \n",
    "]\n",
    "ec_lhflux_variables = list(zip(*ec_lhflux_and_counts_variables))[0]"
   ]
  },
  {
   "cell_type": "code",
   "execution_count": null,
   "metadata": {},
   "outputs": [],
   "source": [
    "all_lhflux_measurements = tidy_df_5Min[tidy_df_5Min.variable.isin(ec_lhflux_variables)].value\n",
    "all_lhflux_measurements.mean(), all_lhflux_measurements.std(), all_lhflux_measurements.min(), all_lhflux_measurements.max()"
   ]
  },
  {
   "cell_type": "code",
   "execution_count": null,
   "metadata": {},
   "outputs": [],
   "source": [
    "####################################################################################\n",
    "# Remove all data points at once - perform both steps 1 and 2 simultaneously\n",
    "####################################################################################\n",
    "# for flux_var, counts_var in ec_lhflux_and_counts_variables:\n",
    "#     print(flux_var, counts_var)\n",
    "#     counts_src = tidy_df_5Min[tidy_df_5Min.variable == counts_var]\n",
    "#     times_with_good_data_50percent = counts_src[counts_src.value >= 5400].time\n",
    "#     n_before_dropping = len(tidy_df_5Min.loc[(tidy_df_5Min['variable'] == flux_var)].dropna())\n",
    "#     tidy_df_5Min.loc[\n",
    "#         (~tidy_df_5Min['time'].isin(times_with_good_data_50percent)) &\n",
    "#         (tidy_df_5Min['variable'] == flux_var),\n",
    "#         'value'\n",
    "#     ] = np.nan\n",
    "#     n_after_step_1 = len(tidy_df_5Min.loc[(tidy_df_5Min['variable'] == flux_var)].dropna())\n",
    "\n",
    "#     variable_src = tidy_df_5Min[tidy_df_5Min.variable == flux_var]\n",
    "#     times_with_outofbounds_values = variable_src[np.abs(variable_src.value) > 1].time\n",
    "#     tidy_df_5Min.loc[\n",
    "#         (tidy_df_5Min['time'].isin(times_with_outofbounds_values)) & \n",
    "#         (tidy_df_5Min['variable'] == flux_var),\n",
    "#         'value'\n",
    "#     ] = np.nan\n",
    "#     n_after_step_2 = len(tidy_df_5Min.loc[(tidy_df_5Min['variable'] == flux_var)].dropna())\n",
    "#     print(n_before_dropping, n_after_step_1, n_after_step_2)\n",
    "#     print(round((n_before_dropping-n_after_step_2)/n_before_dropping, 3))\n",
    "\n",
    "####################################################################################\n",
    "# Perform steps 1 and 2 separately \n",
    "####################################################################################\n",
    "for flux_var, counts_var in ec_lhflux_and_counts_variables:\n",
    "    counts_src = tidy_df_5Min[tidy_df_5Min.variable == counts_var]\n",
    "    times_with_good_data_50percent = counts_src[counts_src.value >= 5400].time\n",
    "    tidy_df_5Min.loc[\n",
    "        (~tidy_df_5Min['time'].isin(times_with_good_data_50percent)) &\n",
    "        (tidy_df_5Min['variable'] == flux_var),\n",
    "        'value'\n",
    "    ] = np.nan\n",
    "\n",
    "all_lhflux_measurements = tidy_df_5Min[tidy_df_5Min.variable.isin(ec_lhflux_variables)].value\n",
    "mean = all_lhflux_measurements.mean() \n",
    "stddev = all_lhflux_measurements.std()\n",
    "print(mean, stddev, all_lhflux_measurements.min(), all_lhflux_measurements.max())\n",
    "\n",
    "for flux_var, counts_var in ec_lhflux_and_counts_variables:\n",
    "    variable_src = tidy_df_5Min[tidy_df_5Min.variable == flux_var]\n",
    "    times_with_outofbounds_values = variable_src[\n",
    "        ((variable_src.value) > (mean + 5*stddev)) |\n",
    "        ((variable_src.value) < (mean - 5*stddev))\n",
    "    ].time\n",
    "    tidy_df_5Min.loc[\n",
    "        (tidy_df_5Min['time'].isin(times_with_outofbounds_values)) & \n",
    "        (tidy_df_5Min['variable'] == flux_var),\n",
    "        'value'\n",
    "    ] = np.nan"
   ]
  },
  {
   "cell_type": "code",
   "execution_count": null,
   "metadata": {},
   "outputs": [],
   "source": [
    "all_lhflux_measurements = tidy_df_5Min[tidy_df_5Min.variable.isin(ec_lhflux_variables)].value\n",
    "print(all_lhflux_measurements.mean(), all_lhflux_measurements.std(), all_lhflux_measurements.min(), all_lhflux_measurements.max())"
   ]
  },
  {
   "cell_type": "markdown",
   "metadata": {},
   "source": [
    "# Open Model Ensemble Dataset"
   ]
  },
  {
   "cell_type": "code",
   "execution_count": null,
   "metadata": {},
   "outputs": [],
   "source": [
    "model_df = pd.read_parquet(\"model_results.parquet\")\n",
    "# add a bunch of columns that are descriptive, from the config column which has multiple bits of info\n",
    "model_df['z0'] = model_df['config'].apply(\n",
    "    lambda v: float(v.split(' ')[-1])\n",
    ")\n",
    "model_df['e_sat_curve'] = model_df['config'].apply(\n",
    "    lambda v: 'metpy' if 'metpy' in v else 'alduchov'\n",
    ")\n",
    "model_df['surface_measurement'] = model_df['config'].apply(\n",
    "    lambda v: v.split(' ')[-3]\n",
    ")\n",
    "model_df['scheme'] = model_df['config'].apply(\n",
    "    lambda v: 'andreas' if 'andreas lengths' in v else 'yang'\n",
    ")\n",
    "model_df['most_config'] = model_df['config'].apply(lambda s: ' '.join(s.split(' ')[:-3]))\n",
    "# remove the scalar roughness length parameterization info \n",
    "model_df['most_config'] = model_df['most_config'].str.replace(' andreas lengths', '')\n",
    "model_df.head()"
   ]
  },
  {
   "cell_type": "markdown",
   "metadata": {},
   "source": [
    "### Handle a pesky outlier"
   ]
  },
  {
   "cell_type": "code",
   "execution_count": null,
   "metadata": {},
   "outputs": [],
   "source": [
    "model_df.loc[(model_df.time == \"2023-01-22 1400\") & (model_df.surface_measurement == 'Tsurf_d'), 'latent heat flux'] = 0\n",
    "model_df.loc[(model_df.time == \"2023-01-22 1400\") & (model_df.surface_measurement == 'Tsurf_d'), 'sensible heat flux'] = 0"
   ]
  },
  {
   "cell_type": "markdown",
   "metadata": {},
   "source": [
    "# Calculate cumulative sublimation (mm)"
   ]
  },
  {
   "cell_type": "markdown",
   "metadata": {},
   "source": [
    "## EC Measurements"
   ]
  },
  {
   "cell_type": "code",
   "execution_count": null,
   "metadata": {},
   "outputs": [],
   "source": [
    "from sublimpy import tidy\n",
    "import metpy.constants"
   ]
  },
  {
   "cell_type": "markdown",
   "metadata": {},
   "source": []
  },
  {
   "cell_type": "code",
   "execution_count": null,
   "metadata": {},
   "outputs": [],
   "source": [
    "ec_lhflux_and_counts_variables"
   ]
  },
  {
   "cell_type": "code",
   "execution_count": null,
   "metadata": {},
   "outputs": [],
   "source": [
    "ec_lhflux_variables = list(zip(*ec_lhflux_and_counts_variables))[0]\n",
    "seconds_per_5min = 60*5\n",
    "for variable in ec_lhflux_variables:\n",
    "    height = int(variable.split('_')[-2].split('m')[0])\n",
    "    tower = variable.split('_')[-1]\n",
    "    # print(len(tidy_df_5Min.query(f\"variable == '{variable}'\")))\n",
    "    # print(len(np.nancumsum(tidy_df_5Min.query(f\"variable == '{variable}'\")['value']*seconds_per_5min)/metpy.constants.density_water.magnitude,))\n",
    "    tidy_df_5Min = tidy.tidy_df_add_variable(\n",
    "        tidy_df_5Min,\n",
    "        np.nancumsum(tidy_df_5Min.query(f\"variable == '{variable}'\")['value']*seconds_per_5min)/metpy.constants.density_water.magnitude,\n",
    "        f\"cumulative_sub_measured_{height}m_{tower}\",\n",
    "        \"Cumulative sublimation measured\",  \n",
    "        height,\n",
    "        tower\n",
    "    )"
   ]
  },
  {
   "cell_type": "markdown",
   "metadata": {},
   "source": [
    "## Model Results"
   ]
  },
  {
   "cell_type": "code",
   "execution_count": null,
   "metadata": {},
   "outputs": [],
   "source": [
    "src = model_df.set_index('time').loc[\"20230211\":\"20230211\"]\n",
    "src_day =  src.loc[\"20230211 0800\":\"20230211 1600\"]\n",
    "src_day['latent heat flux (mm)'] = src_day['latent heat flux']* seconds_per_30min/density_water.magnitude\n",
    "src_daytime_sublimation_total = pd.DataFrame(src_day.groupby(\"config\")['latent heat flux (mm)'].sum()).reset_index()\n",
    "src_daytime_sublimation_total['z0'] = src_daytime_sublimation_total['config'].apply(lambda s: s.split(' ')[-1])"
   ]
  },
  {
   "cell_type": "code",
   "execution_count": null,
   "metadata": {},
   "outputs": [],
   "source": [
    "src_daytime_sublimation_total['latent heat flux (mm)'].median()"
   ]
  },
  {
   "cell_type": "code",
   "execution_count": null,
   "metadata": {},
   "outputs": [],
   "source": [
    "(\n",
    "    alt.Chart(src_daytime_sublimation_total).mark_bar().encode(\n",
    "        alt.X(\"latent heat flux (mm)\").bin(maxbins=40).title(\"Sublimation (mm)\"),\n",
    "        alt.Y(\"count()\")\n",
    "    )\n",
    "    +\n",
    "    alt.Chart(src_daytime_sublimation_total).mark_rule(color='red', strokeWidth=2).encode(\n",
    "        alt.X(\"median(latent heat flux (mm))\")\n",
    "    )\n",
    ").configure_axis(grid=False).properties(width=250, height = 150).display(renderer='svg')"
   ]
  },
  {
   "cell_type": "code",
   "execution_count": null,
   "metadata": {},
   "outputs": [],
   "source": [
    "model_df_cumsum = pd.DataFrame(model_df.sort_values(\"time\").set_index(\n",
    "    [\"time\", \"config\", \"scheme\", \"z0\", \"e_sat_curve\", \"surface_measurement\", \"most_config\"]\n",
    ").groupby([\"config\", \"scheme\", \"z0\", \"e_sat_curve\", \"surface_measurement\", \"most_config\"])['latent heat flux'].cumsum()).reset_index()\n",
    "model_df_cumsum_daily = pd.DataFrame(model_df_cumsum.set_index(\"time\").groupby(\n",
    "    ['config', \"scheme\", \"z0\", \"e_sat_curve\", \"surface_measurement\", \"most_config\", pd.Grouper(freq='1440Min')]\n",
    ")['latent heat flux'].max()).reset_index()\n",
    "\n",
    "model_df_cumsum_daily = model_df_cumsum_daily[\n",
    "    model_df_cumsum_daily.time < '2023-05-10'\n",
    "][\n",
    "    model_df_cumsum_daily.time >= '2022-11-30'\n",
    "]\n",
    "\n",
    "from metpy.constants import density_water\n",
    "seconds_per_30min = 60*30\n",
    "model_df_cumsum_daily['latent heat flux (mm)'] = model_df_cumsum_daily['latent heat flux'].values * seconds_per_30min/density_water.magnitude"
   ]
  },
  {
   "cell_type": "code",
   "execution_count": null,
   "metadata": {},
   "outputs": [],
   "source": [
    "measured_df_cumsum_daily = pd.DataFrame(tidy_df_5Min.query(\"measurement == 'Cumulative sublimation measured'\").set_index('time').groupby(\n",
    "    ['variable', 'measurement', 'tower', 'height', pd.Grouper(freq='1440Min')]\n",
    ")['value'].max()).reset_index()"
   ]
  },
  {
   "cell_type": "code",
   "execution_count": null,
   "metadata": {},
   "outputs": [],
   "source": [
    "measured_df_cumsum_daily.query(\"height > 1\")"
   ]
  },
  {
   "cell_type": "code",
   "execution_count": null,
   "metadata": {},
   "outputs": [],
   "source": [
    "measurements_chart = alt.Chart(\n",
    "    measured_df_cumsum_daily.query(\"height > 1\")\n",
    ").mark_line(opacity=0.5, strokeWidth=1).encode(\n",
    "    alt.X(\"time:T\"),\n",
    "    alt.Y(\"value:Q\").title([\"Cumulative sublimation (mm)\"]).scale(domain=[-5, 150]),\n",
    "    detail = 'variable:N',\n",
    "    tooltip = 'variable'\n",
    ").properties(width = 250, height = 250)\n",
    "\n",
    "measurements_chart_grey = alt.Chart(\n",
    "    measured_df_cumsum_daily.query(\"height > 1\")\n",
    ").mark_line(opacity=0.5, strokeWidth=1, color='grey').encode(\n",
    "    alt.X(\"time:T\"),\n",
    "    alt.Y(\"value:Q\").title([\"Cumulative sublimation (mm)\"]).scale(domain=[-5, 150]),\n",
    "    detail = 'variable:N',\n",
    "    tooltip = 'variable'\n",
    ").properties(width = 250, height = 250)\n",
    "\n",
    "\n",
    "measurements_chart | measurements_chart_grey"
   ]
  },
  {
   "cell_type": "code",
   "execution_count": null,
   "metadata": {},
   "outputs": [],
   "source": [
    "src = model_df_cumsum_daily.query(\"z0 <= 1.e-03\").dropna()\n",
    "src[src.time == src.time.max()].sort_values(\"latent heat flux (mm)\").head(20)"
   ]
  },
  {
   "cell_type": "code",
   "execution_count": null,
   "metadata": {},
   "outputs": [],
   "source": [
    "models_chart = alt.Chart(\n",
    "    model_df_cumsum_daily.query(\"z0 <= 1.e-03\").dropna()\n",
    ").mark_line(opacity = 0.5, color='grey', strokeWidth=0.2).encode(\n",
    "    alt.X(\"time:T\"),\n",
    "    alt.Y(\"latent heat flux (mm)\").scale(domain=[-5, 150]),\n",
    "    detail = 'config',\n",
    "    tooltip = 'config'\n",
    ")\n",
    "models_chart"
   ]
  },
  {
   "cell_type": "code",
   "execution_count": null,
   "metadata": {},
   "outputs": [],
   "source": [
    "snowpillow_chart = alt.Chart(\n",
    "    tidy_df_30Min.query(\"variable == 'SWE_p2_c'\").dropna()\n",
    ").transform_window(\n",
    "    frame = [-48, 48],\n",
    "    rolling_median = 'median(value)'\n",
    ").mark_line().encode(\n",
    "    alt.X(\"time:T\").axis(labels=False).title(None),\n",
    "    alt.Y(\"rolling_median:Q\").title([\"Snow water\", \"equivalent (mm)\"])\n",
    ").properties(width = 250, height = 83)\n",
    "\n",
    "# snowpillow_and_precip_chart = snowpillow_chart +\\\n",
    "# alt.Chart(\n",
    "#     precip_df\n",
    "# ).mark_line(strokeDash=[2,4]).encode(\n",
    "#     alt.X('date:T'),\n",
    "#     alt.Y(\"acc_prec\")\n",
    "# )"
   ]
  },
  {
   "cell_type": "code",
   "execution_count": null,
   "metadata": {},
   "outputs": [],
   "source": [
    "plot1 = (\n",
    "    snowpillow_chart &\n",
    "    (measurements_chart)\n",
    ")\n",
    "plot1.save('/Users/elischwat/Downloads/meas_vs_model_plot1.png', ppi=400)\n",
    "plot1"
   ]
  },
  {
   "cell_type": "code",
   "execution_count": null,
   "metadata": {},
   "outputs": [],
   "source": [
    "plot2 = (\n",
    "    snowpillow_chart &\n",
    "    (measurements_chart + models_chart)\n",
    ")\n",
    "plot2.save('/Users/elischwat/Downloads/meas_vs_model_plot2.png', ppi=400)\n",
    "plot2"
   ]
  },
  {
   "cell_type": "code",
   "execution_count": null,
   "metadata": {},
   "outputs": [],
   "source": [
    "models_chart_by_z0 = alt.Chart(\n",
    "    model_df_cumsum_daily[\n",
    "        ~model_df_cumsum_daily.most_config.str.contains(\"Louis\")\n",
    "    ][\n",
    "        ~model_df_cumsum_daily.most_config.str.contains(\"Standard\")\n",
    "    ][\n",
    "        model_df_cumsum_daily.z0.isin([1.e-05, 1.e-04, 1.e-03])\n",
    "    ].dropna()\n",
    ").mark_area(opacity=0.3).encode(\n",
    "    alt.X(\"time:T\"),\n",
    "    alt.Y(\"min(latent heat flux (mm))\").scale(domain=[-5, 150]),\n",
    "    alt.Y2(\"max(latent heat flux (mm))\"),\n",
    "    alt.Color('z0:N', legend=None).scale(\n",
    "        # domain = [1.e-03, 1.e-04,  1.e-05],\n",
    "        # range = ['#ff7f0e', '#2ca02c', '#d62728']\n",
    "    ),\n",
    ")\n",
    "\n",
    "\n",
    "plot3 = (\n",
    "    snowpillow_chart &\n",
    "    (measurements_chart_grey + models_chart_by_z0)\n",
    ")\n",
    "plot3.save('/Users/elischwat/Downloads/meas_vs_model_plot3.png', ppi=400)\n",
    "plot3"
   ]
  },
  {
   "cell_type": "code",
   "execution_count": null,
   "metadata": {},
   "outputs": [],
   "source": [
    "models_chart_by_ts_meas = alt.Chart(\n",
    "    model_df_cumsum_daily[model_df_cumsum_daily.config.isin([\n",
    "        'MO Holtslag de Bruin andreas lengths Tsurf_rad_d e_sat_alduchov 1e-05',\n",
    "        'MO Holtslag de Bruin andreas lengths Tsurf_d e_sat_alduchov 1e-05',\n",
    "    ])].dropna()\n",
    ").mark_line().encode(\n",
    "    alt.X(\"time:T\"),\n",
    "    alt.Y(\"latent heat flux (mm)\").scale(domain=[-5, 150]),\n",
    "    alt.Color('config:N', legend=None),\n",
    "    # detail = 'config'\n",
    ")\n",
    "\n",
    "\n",
    "plot4 = (\n",
    "    snowpillow_chart &\n",
    "    (measurements_chart_grey + models_chart_by_ts_meas)\n",
    ")\n",
    "plot4.save('/Users/elischwat/Downloads/meas_vs_model_plot4.png', ppi=400)\n",
    "plot4"
   ]
  },
  {
   "cell_type": "markdown",
   "metadata": {},
   "source": [
    "## Plot Pot. Virt. Temp Profile and LH Flux profiles"
   ]
  },
  {
   "cell_type": "code",
   "execution_count": null,
   "metadata": {},
   "outputs": [],
   "source": [
    "\n",
    "\n",
    "\n",
    "src = tidy_df_5Min.set_index('time').loc['202302111200': '202302111230']\n",
    "src_pvt = src[src.measurement.isin([\n",
    "        'potential virtual temperature',\n",
    "        'surface potential virtual temperature',\n",
    "])].query(\n",
    "    \"tower == 'c'\"\n",
    ")\n",
    "src_lhflux = src[src.measurement == 'w_h2o_'].query(\n",
    "    \"tower == 'c'\"\n",
    ")\n",
    "\n",
    "lhflux_chart = alt.Chart(src_lhflux.reset_index()).mark_line(\n",
    "    point=True\n",
    ").encode(\n",
    "    alt.X(\"mean(value):Q\").sort('-y').title(\"Sublimation/Latent Heat Flux (g/m²/s)\").scale(domain = [-0.001, 0.01]),\n",
    "    alt.Y(\"height:Q\").title('Height (m)'),\n",
    "    color=alt.value(\"black\")\n",
    "    # alt.Facet(\"time:T\").header(format='%H%m')\n",
    ").properties(width=150, height=150)\n",
    "\n",
    "pvt_chart = alt.Chart(src_pvt.reset_index()).mark_line(\n",
    "    point=True\n",
    ").encode(\n",
    "    alt.X(\"mean(value):Q\").sort('-y').scale(domain=[23,26]).title(\"Potential Virtual Temperature (˚C)\"),\n",
    "    alt.Y(\"height:Q\").title('Height (m)'),\n",
    "    color=alt.value(\"#ff7f0e\")\n",
    "    # alt.Facet(\"time:T\").header(format='%H%m')\n",
    ").properties(width=150, height=150)\n",
    "\n",
    "\n"
   ]
  },
  {
   "cell_type": "code",
   "execution_count": null,
   "metadata": {},
   "outputs": [],
   "source": [
    "(lhflux_chart).configure_axis(\n",
    "    grid=False\n",
    ").configure_view(\n",
    "    strokeWidth=0\n",
    ").display(renderer='svg')\n",
    "(lhflux_chart + pvt_chart).resolve_scale(\n",
    "    x='independent'\n",
    ").configure_axis(\n",
    "    grid=False\n",
    ").configure_view(\n",
    "    strokeWidth=0\n",
    ").configure_axisTop(\n",
    "  labelColor='#ff7f0e',\n",
    "  titleColor='#ff7f0e'\n",
    ").configure_axisBottom(\n",
    "  labelColor='black',\n",
    "  titleColor='black'\n",
    ").display(renderer='svg')"
   ]
  }
 ],
 "metadata": {
  "kernelspec": {
   "display_name": "arm",
   "language": "python",
   "name": "python3"
  },
  "language_info": {
   "codemirror_mode": {
    "name": "ipython",
    "version": 3
   },
   "file_extension": ".py",
   "mimetype": "text/x-python",
   "name": "python",
   "nbconvert_exporter": "python",
   "pygments_lexer": "ipython3",
   "version": "3.11.4"
  }
 },
 "nbformat": 4,
 "nbformat_minor": 2
}
