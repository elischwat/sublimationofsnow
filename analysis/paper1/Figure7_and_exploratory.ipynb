{
 "cells": [
  {
   "cell_type": "code",
   "execution_count": 1,
   "metadata": {},
   "outputs": [
    {
     "data": {
      "text/plain": [
       "DataTransformerRegistry.enable('json')"
      ]
     },
     "execution_count": 1,
     "metadata": {},
     "output_type": "execute_result"
    }
   ],
   "source": [
    "import pandas as pd\n",
    "import numpy as np\n",
    "import altair as alt\n",
    "alt.data_transformers.enable('json')"
   ]
  },
  {
   "cell_type": "markdown",
   "metadata": {},
   "source": [
    "# Open SOS Measurement Dataset"
   ]
  },
  {
   "cell_type": "code",
   "execution_count": 2,
   "metadata": {},
   "outputs": [
    {
     "ename": "FileNotFoundError",
     "evalue": "[Errno 2] No such file or directory: '../sos/tidy_df_20221130_20230517_noplanar_fit.parquet'",
     "output_type": "error",
     "traceback": [
      "\u001b[0;31m---------------------------------------------------------------------------\u001b[0m",
      "\u001b[0;31mFileNotFoundError\u001b[0m                         Traceback (most recent call last)",
      "Cell \u001b[0;32mIn[2], line 4\u001b[0m\n\u001b[1;32m      2\u001b[0m end_date \u001b[38;5;241m=\u001b[39m \u001b[38;5;124m'\u001b[39m\u001b[38;5;124m20230509\u001b[39m\u001b[38;5;124m'\u001b[39m\n\u001b[1;32m      3\u001b[0m \u001b[38;5;66;03m# open files\u001b[39;00m\n\u001b[0;32m----> 4\u001b[0m tidy_df_5Min \u001b[38;5;241m=\u001b[39m \u001b[43mpd\u001b[49m\u001b[38;5;241;43m.\u001b[39;49m\u001b[43mread_parquet\u001b[49m\u001b[43m(\u001b[49m\u001b[38;5;124;43m'\u001b[39;49m\u001b[38;5;124;43m../sos/tidy_df_20221130_20230517_noplanar_fit.parquet\u001b[39;49m\u001b[38;5;124;43m'\u001b[39;49m\u001b[43m)\u001b[49m\n\u001b[1;32m      5\u001b[0m tidy_df_30Min \u001b[38;5;241m=\u001b[39m pd\u001b[38;5;241m.\u001b[39mread_parquet(\u001b[38;5;124m'\u001b[39m\u001b[38;5;124m../sos/tidy_df_30Min_20221130_20230517_noplanar_fit.parquet\u001b[39m\u001b[38;5;124m'\u001b[39m)\n\u001b[1;32m      6\u001b[0m \u001b[38;5;66;03m# convert time column to datetime\u001b[39;00m\n",
      "File \u001b[0;32m~/miniforge3/envs/sublimationofsnow/lib/python3.12/site-packages/pandas/io/parquet.py:667\u001b[0m, in \u001b[0;36mread_parquet\u001b[0;34m(path, engine, columns, storage_options, use_nullable_dtypes, dtype_backend, filesystem, filters, **kwargs)\u001b[0m\n\u001b[1;32m    664\u001b[0m     use_nullable_dtypes \u001b[38;5;241m=\u001b[39m \u001b[38;5;28;01mFalse\u001b[39;00m\n\u001b[1;32m    665\u001b[0m check_dtype_backend(dtype_backend)\n\u001b[0;32m--> 667\u001b[0m \u001b[38;5;28;01mreturn\u001b[39;00m \u001b[43mimpl\u001b[49m\u001b[38;5;241;43m.\u001b[39;49m\u001b[43mread\u001b[49m\u001b[43m(\u001b[49m\n\u001b[1;32m    668\u001b[0m \u001b[43m    \u001b[49m\u001b[43mpath\u001b[49m\u001b[43m,\u001b[49m\n\u001b[1;32m    669\u001b[0m \u001b[43m    \u001b[49m\u001b[43mcolumns\u001b[49m\u001b[38;5;241;43m=\u001b[39;49m\u001b[43mcolumns\u001b[49m\u001b[43m,\u001b[49m\n\u001b[1;32m    670\u001b[0m \u001b[43m    \u001b[49m\u001b[43mfilters\u001b[49m\u001b[38;5;241;43m=\u001b[39;49m\u001b[43mfilters\u001b[49m\u001b[43m,\u001b[49m\n\u001b[1;32m    671\u001b[0m \u001b[43m    \u001b[49m\u001b[43mstorage_options\u001b[49m\u001b[38;5;241;43m=\u001b[39;49m\u001b[43mstorage_options\u001b[49m\u001b[43m,\u001b[49m\n\u001b[1;32m    672\u001b[0m \u001b[43m    \u001b[49m\u001b[43muse_nullable_dtypes\u001b[49m\u001b[38;5;241;43m=\u001b[39;49m\u001b[43muse_nullable_dtypes\u001b[49m\u001b[43m,\u001b[49m\n\u001b[1;32m    673\u001b[0m \u001b[43m    \u001b[49m\u001b[43mdtype_backend\u001b[49m\u001b[38;5;241;43m=\u001b[39;49m\u001b[43mdtype_backend\u001b[49m\u001b[43m,\u001b[49m\n\u001b[1;32m    674\u001b[0m \u001b[43m    \u001b[49m\u001b[43mfilesystem\u001b[49m\u001b[38;5;241;43m=\u001b[39;49m\u001b[43mfilesystem\u001b[49m\u001b[43m,\u001b[49m\n\u001b[1;32m    675\u001b[0m \u001b[43m    \u001b[49m\u001b[38;5;241;43m*\u001b[39;49m\u001b[38;5;241;43m*\u001b[39;49m\u001b[43mkwargs\u001b[49m\u001b[43m,\u001b[49m\n\u001b[1;32m    676\u001b[0m \u001b[43m\u001b[49m\u001b[43m)\u001b[49m\n",
      "File \u001b[0;32m~/miniforge3/envs/sublimationofsnow/lib/python3.12/site-packages/pandas/io/parquet.py:267\u001b[0m, in \u001b[0;36mPyArrowImpl.read\u001b[0;34m(self, path, columns, filters, use_nullable_dtypes, dtype_backend, storage_options, filesystem, **kwargs)\u001b[0m\n\u001b[1;32m    264\u001b[0m \u001b[38;5;28;01mif\u001b[39;00m manager \u001b[38;5;241m==\u001b[39m \u001b[38;5;124m\"\u001b[39m\u001b[38;5;124marray\u001b[39m\u001b[38;5;124m\"\u001b[39m:\n\u001b[1;32m    265\u001b[0m     to_pandas_kwargs[\u001b[38;5;124m\"\u001b[39m\u001b[38;5;124msplit_blocks\u001b[39m\u001b[38;5;124m\"\u001b[39m] \u001b[38;5;241m=\u001b[39m \u001b[38;5;28;01mTrue\u001b[39;00m  \u001b[38;5;66;03m# type: ignore[assignment]\u001b[39;00m\n\u001b[0;32m--> 267\u001b[0m path_or_handle, handles, filesystem \u001b[38;5;241m=\u001b[39m \u001b[43m_get_path_or_handle\u001b[49m\u001b[43m(\u001b[49m\n\u001b[1;32m    268\u001b[0m \u001b[43m    \u001b[49m\u001b[43mpath\u001b[49m\u001b[43m,\u001b[49m\n\u001b[1;32m    269\u001b[0m \u001b[43m    \u001b[49m\u001b[43mfilesystem\u001b[49m\u001b[43m,\u001b[49m\n\u001b[1;32m    270\u001b[0m \u001b[43m    \u001b[49m\u001b[43mstorage_options\u001b[49m\u001b[38;5;241;43m=\u001b[39;49m\u001b[43mstorage_options\u001b[49m\u001b[43m,\u001b[49m\n\u001b[1;32m    271\u001b[0m \u001b[43m    \u001b[49m\u001b[43mmode\u001b[49m\u001b[38;5;241;43m=\u001b[39;49m\u001b[38;5;124;43m\"\u001b[39;49m\u001b[38;5;124;43mrb\u001b[39;49m\u001b[38;5;124;43m\"\u001b[39;49m\u001b[43m,\u001b[49m\n\u001b[1;32m    272\u001b[0m \u001b[43m\u001b[49m\u001b[43m)\u001b[49m\n\u001b[1;32m    273\u001b[0m \u001b[38;5;28;01mtry\u001b[39;00m:\n\u001b[1;32m    274\u001b[0m     pa_table \u001b[38;5;241m=\u001b[39m \u001b[38;5;28mself\u001b[39m\u001b[38;5;241m.\u001b[39mapi\u001b[38;5;241m.\u001b[39mparquet\u001b[38;5;241m.\u001b[39mread_table(\n\u001b[1;32m    275\u001b[0m         path_or_handle,\n\u001b[1;32m    276\u001b[0m         columns\u001b[38;5;241m=\u001b[39mcolumns,\n\u001b[0;32m   (...)\u001b[0m\n\u001b[1;32m    279\u001b[0m         \u001b[38;5;241m*\u001b[39m\u001b[38;5;241m*\u001b[39mkwargs,\n\u001b[1;32m    280\u001b[0m     )\n",
      "File \u001b[0;32m~/miniforge3/envs/sublimationofsnow/lib/python3.12/site-packages/pandas/io/parquet.py:140\u001b[0m, in \u001b[0;36m_get_path_or_handle\u001b[0;34m(path, fs, storage_options, mode, is_dir)\u001b[0m\n\u001b[1;32m    130\u001b[0m handles \u001b[38;5;241m=\u001b[39m \u001b[38;5;28;01mNone\u001b[39;00m\n\u001b[1;32m    131\u001b[0m \u001b[38;5;28;01mif\u001b[39;00m (\n\u001b[1;32m    132\u001b[0m     \u001b[38;5;129;01mnot\u001b[39;00m fs\n\u001b[1;32m    133\u001b[0m     \u001b[38;5;129;01mand\u001b[39;00m \u001b[38;5;129;01mnot\u001b[39;00m is_dir\n\u001b[0;32m   (...)\u001b[0m\n\u001b[1;32m    138\u001b[0m     \u001b[38;5;66;03m# fsspec resources can also point to directories\u001b[39;00m\n\u001b[1;32m    139\u001b[0m     \u001b[38;5;66;03m# this branch is used for example when reading from non-fsspec URLs\u001b[39;00m\n\u001b[0;32m--> 140\u001b[0m     handles \u001b[38;5;241m=\u001b[39m \u001b[43mget_handle\u001b[49m\u001b[43m(\u001b[49m\n\u001b[1;32m    141\u001b[0m \u001b[43m        \u001b[49m\u001b[43mpath_or_handle\u001b[49m\u001b[43m,\u001b[49m\u001b[43m \u001b[49m\u001b[43mmode\u001b[49m\u001b[43m,\u001b[49m\u001b[43m \u001b[49m\u001b[43mis_text\u001b[49m\u001b[38;5;241;43m=\u001b[39;49m\u001b[38;5;28;43;01mFalse\u001b[39;49;00m\u001b[43m,\u001b[49m\u001b[43m \u001b[49m\u001b[43mstorage_options\u001b[49m\u001b[38;5;241;43m=\u001b[39;49m\u001b[43mstorage_options\u001b[49m\n\u001b[1;32m    142\u001b[0m \u001b[43m    \u001b[49m\u001b[43m)\u001b[49m\n\u001b[1;32m    143\u001b[0m     fs \u001b[38;5;241m=\u001b[39m \u001b[38;5;28;01mNone\u001b[39;00m\n\u001b[1;32m    144\u001b[0m     path_or_handle \u001b[38;5;241m=\u001b[39m handles\u001b[38;5;241m.\u001b[39mhandle\n",
      "File \u001b[0;32m~/miniforge3/envs/sublimationofsnow/lib/python3.12/site-packages/pandas/io/common.py:882\u001b[0m, in \u001b[0;36mget_handle\u001b[0;34m(path_or_buf, mode, encoding, compression, memory_map, is_text, errors, storage_options)\u001b[0m\n\u001b[1;32m    873\u001b[0m         handle \u001b[38;5;241m=\u001b[39m \u001b[38;5;28mopen\u001b[39m(\n\u001b[1;32m    874\u001b[0m             handle,\n\u001b[1;32m    875\u001b[0m             ioargs\u001b[38;5;241m.\u001b[39mmode,\n\u001b[0;32m   (...)\u001b[0m\n\u001b[1;32m    878\u001b[0m             newline\u001b[38;5;241m=\u001b[39m\u001b[38;5;124m\"\u001b[39m\u001b[38;5;124m\"\u001b[39m,\n\u001b[1;32m    879\u001b[0m         )\n\u001b[1;32m    880\u001b[0m     \u001b[38;5;28;01melse\u001b[39;00m:\n\u001b[1;32m    881\u001b[0m         \u001b[38;5;66;03m# Binary mode\u001b[39;00m\n\u001b[0;32m--> 882\u001b[0m         handle \u001b[38;5;241m=\u001b[39m \u001b[38;5;28;43mopen\u001b[39;49m\u001b[43m(\u001b[49m\u001b[43mhandle\u001b[49m\u001b[43m,\u001b[49m\u001b[43m \u001b[49m\u001b[43mioargs\u001b[49m\u001b[38;5;241;43m.\u001b[39;49m\u001b[43mmode\u001b[49m\u001b[43m)\u001b[49m\n\u001b[1;32m    883\u001b[0m     handles\u001b[38;5;241m.\u001b[39mappend(handle)\n\u001b[1;32m    885\u001b[0m \u001b[38;5;66;03m# Convert BytesIO or file objects passed with an encoding\u001b[39;00m\n",
      "\u001b[0;31mFileNotFoundError\u001b[0m: [Errno 2] No such file or directory: '../sos/tidy_df_20221130_20230517_noplanar_fit.parquet'"
     ]
    }
   ],
   "source": [
    "start_date = '20221130'\n",
    "end_date = '20230509'\n",
    "# open files\n",
    "tidy_df_5Min = pd.read_parquet('../sos/tidy_df_20221130_20230517_noplanar_fit.parquet')\n",
    "tidy_df_30Min = pd.read_parquet('../sos/tidy_df_30Min_20221130_20230517_noplanar_fit.parquet')\n",
    "# convert time column to datetime\n",
    "tidy_df_5Min['time'] = pd.to_datetime(tidy_df_5Min['time'])\n",
    "tidy_df_30Min['time'] = pd.to_datetime(tidy_df_30Min['time'])\n",
    "# limit data to our dates of interest, based on continuous snow cover at Kettle Ponds\n",
    "tidy_df_5Min = tidy_df_5Min.set_index('time').loc[start_date:end_date].reset_index()\n",
    "tidy_df_30Min = tidy_df_30Min.set_index('time').loc[start_date:end_date].reset_index()"
   ]
  },
  {
   "cell_type": "code",
   "execution_count": null,
   "metadata": {},
   "outputs": [],
   "source": [
    "tke_src = tidy_df_5Min[tidy_df_5Min.measurement.isin([\n",
    "    'turbulent kinetic energy',\n",
    "    'wind speed'\n",
    "])].query(\"tower == 'c'\")"
   ]
  },
  {
   "cell_type": "code",
   "execution_count": null,
   "metadata": {},
   "outputs": [],
   "source": [
    "tke_wind_src = tke_src.pivot_table(\n",
    "    index = ['time', 'tower', 'height'],\n",
    "    columns = 'measurement',\n",
    "    values = 'value'\n",
    ")\n",
    "tke_wind_src.columns = tke_wind_src.columns.to_flat_index()\n",
    "tke_wind_src = tke_wind_src.reset_index()\n",
    "tke_wind_src\n",
    "tke_wind_src['turbulent intensity'] = tke_wind_src['turbulent kinetic energy']**0.5"
   ]
  },
  {
   "cell_type": "code",
   "execution_count": null,
   "metadata": {},
   "outputs": [],
   "source": [
    "calm_winter = alt.Chart(\n",
    "    tke_wind_src.set_index('time').loc['20230131': '20230202'].reset_index(),\n",
    "    title = 'calm_winter'\n",
    ").transform_filter(\n",
    "    alt.FieldOneOfPredicate('height', [3, 10, 20])\n",
    ").mark_errorband(opacity=0.5).encode(\n",
    "    alt.X(\"wind speed:Q\").bin(True),\n",
    "    alt.Y(\"turbulent intensity:Q\"),\n",
    "    alt.Color(\"height:N\")\n",
    ").properties(width = 200, height = 200)\n",
    "\n",
    "blowingsnow_winter = alt.Chart(\n",
    "    tke_wind_src.set_index('time').loc['20230219': '20230222'].reset_index(),\n",
    "    title = 'blowingsnow_winter'\n",
    ").transform_filter(\n",
    "    alt.FieldOneOfPredicate('height', [3, 10, 20])\n",
    ").mark_errorband().encode(\n",
    "    alt.X(\"wind speed:Q\").bin(True),\n",
    "    alt.Y(\"turbulent intensity:Q\"),\n",
    "    alt.Color(\"height:N\")\n",
    ").properties(width = 200, height = 200)\n",
    "\n",
    "calm_spring = alt.Chart(\n",
    "    tke_wind_src.set_index('time').loc['20230316': '20230319'].reset_index(),\n",
    "    title = 'calm_spring'\n",
    ").transform_filter(\n",
    "    alt.FieldOneOfPredicate('height', [3, 10, 20])\n",
    ").mark_errorband().encode(\n",
    "    alt.X(\"wind speed:Q\").bin(True),\n",
    "    alt.Y(\"turbulent intensity:Q\"),\n",
    "    alt.Color(\"height:N\")\n",
    ").properties(width = 200, height = 200)\n",
    "\n",
    "(calm_winter | blowingsnow_winter | calm_spring).resolve_scale(y='shared', x='shared')"
   ]
  },
  {
   "cell_type": "code",
   "execution_count": 3,
   "metadata": {},
   "outputs": [
    {
     "ename": "NameError",
     "evalue": "name 'tke_wind_src' is not defined",
     "output_type": "error",
     "traceback": [
      "\u001b[0;31m---------------------------------------------------------------------------\u001b[0m",
      "\u001b[0;31mNameError\u001b[0m                                 Traceback (most recent call last)",
      "Cell \u001b[0;32mIn[3], line 2\u001b[0m\n\u001b[1;32m      1\u001b[0m calm_winter \u001b[38;5;241m=\u001b[39m alt\u001b[38;5;241m.\u001b[39mChart(\n\u001b[0;32m----> 2\u001b[0m     \u001b[43mtke_wind_src\u001b[49m\u001b[38;5;241m.\u001b[39mset_index(\u001b[38;5;124m'\u001b[39m\u001b[38;5;124mtime\u001b[39m\u001b[38;5;124m'\u001b[39m)\u001b[38;5;241m.\u001b[39mloc[\u001b[38;5;124m'\u001b[39m\u001b[38;5;124m20230131\u001b[39m\u001b[38;5;124m'\u001b[39m: \u001b[38;5;124m'\u001b[39m\u001b[38;5;124m20230202\u001b[39m\u001b[38;5;124m'\u001b[39m]\u001b[38;5;241m.\u001b[39mreset_index(),\n\u001b[1;32m      3\u001b[0m     title \u001b[38;5;241m=\u001b[39m \u001b[38;5;124m'\u001b[39m\u001b[38;5;124mcalm_winter\u001b[39m\u001b[38;5;124m'\u001b[39m\n\u001b[1;32m      4\u001b[0m )\u001b[38;5;241m.\u001b[39mtransform_filter(\n\u001b[1;32m      5\u001b[0m     alt\u001b[38;5;241m.\u001b[39mFieldOneOfPredicate(\u001b[38;5;124m'\u001b[39m\u001b[38;5;124mheight\u001b[39m\u001b[38;5;124m'\u001b[39m, [\u001b[38;5;241m3\u001b[39m, \u001b[38;5;241m10\u001b[39m, \u001b[38;5;241m20\u001b[39m])\n\u001b[1;32m      6\u001b[0m )\u001b[38;5;241m.\u001b[39mmark_circle(opacity \u001b[38;5;241m=\u001b[39m \u001b[38;5;241m0.5\u001b[39m, size\u001b[38;5;241m=\u001b[39m\u001b[38;5;241m5\u001b[39m )\u001b[38;5;241m.\u001b[39mencode(\n\u001b[1;32m      7\u001b[0m     alt\u001b[38;5;241m.\u001b[39mX(\u001b[38;5;124m\"\u001b[39m\u001b[38;5;124mwind speed:Q\u001b[39m\u001b[38;5;124m\"\u001b[39m),\n\u001b[1;32m      8\u001b[0m     alt\u001b[38;5;241m.\u001b[39mY(\u001b[38;5;124m\"\u001b[39m\u001b[38;5;124mturbulent intensity:Q\u001b[39m\u001b[38;5;124m\"\u001b[39m),\n\u001b[1;32m      9\u001b[0m     alt\u001b[38;5;241m.\u001b[39mColor(\u001b[38;5;124m\"\u001b[39m\u001b[38;5;124mheight:N\u001b[39m\u001b[38;5;124m\"\u001b[39m)\n\u001b[1;32m     10\u001b[0m )\u001b[38;5;241m.\u001b[39mproperties(width \u001b[38;5;241m=\u001b[39m \u001b[38;5;241m200\u001b[39m, height \u001b[38;5;241m=\u001b[39m \u001b[38;5;241m200\u001b[39m)\n\u001b[1;32m     12\u001b[0m blowingsnow_winter \u001b[38;5;241m=\u001b[39m alt\u001b[38;5;241m.\u001b[39mChart(\n\u001b[1;32m     13\u001b[0m     tke_wind_src\u001b[38;5;241m.\u001b[39mset_index(\u001b[38;5;124m'\u001b[39m\u001b[38;5;124mtime\u001b[39m\u001b[38;5;124m'\u001b[39m)\u001b[38;5;241m.\u001b[39mloc[\u001b[38;5;124m'\u001b[39m\u001b[38;5;124m20230219\u001b[39m\u001b[38;5;124m'\u001b[39m: \u001b[38;5;124m'\u001b[39m\u001b[38;5;124m20230222\u001b[39m\u001b[38;5;124m'\u001b[39m]\u001b[38;5;241m.\u001b[39mreset_index(),\n\u001b[1;32m     14\u001b[0m     title \u001b[38;5;241m=\u001b[39m \u001b[38;5;124m'\u001b[39m\u001b[38;5;124mblowingsnow_winter\u001b[39m\u001b[38;5;124m'\u001b[39m\n\u001b[0;32m   (...)\u001b[0m\n\u001b[1;32m     20\u001b[0m     alt\u001b[38;5;241m.\u001b[39mColor(\u001b[38;5;124m\"\u001b[39m\u001b[38;5;124mheight:N\u001b[39m\u001b[38;5;124m\"\u001b[39m)\n\u001b[1;32m     21\u001b[0m )\u001b[38;5;241m.\u001b[39mproperties(width \u001b[38;5;241m=\u001b[39m \u001b[38;5;241m200\u001b[39m, height \u001b[38;5;241m=\u001b[39m \u001b[38;5;241m200\u001b[39m)\n\u001b[1;32m     23\u001b[0m calm_spring \u001b[38;5;241m=\u001b[39m alt\u001b[38;5;241m.\u001b[39mChart(\n\u001b[1;32m     24\u001b[0m     tke_wind_src\u001b[38;5;241m.\u001b[39mset_index(\u001b[38;5;124m'\u001b[39m\u001b[38;5;124mtime\u001b[39m\u001b[38;5;124m'\u001b[39m)\u001b[38;5;241m.\u001b[39mloc[\u001b[38;5;124m'\u001b[39m\u001b[38;5;124m20230316\u001b[39m\u001b[38;5;124m'\u001b[39m: \u001b[38;5;124m'\u001b[39m\u001b[38;5;124m20230319\u001b[39m\u001b[38;5;124m'\u001b[39m]\u001b[38;5;241m.\u001b[39mreset_index(),\n\u001b[1;32m     25\u001b[0m     title \u001b[38;5;241m=\u001b[39m \u001b[38;5;124m'\u001b[39m\u001b[38;5;124mcalm_spring\u001b[39m\u001b[38;5;124m'\u001b[39m\n\u001b[0;32m   (...)\u001b[0m\n\u001b[1;32m     31\u001b[0m     alt\u001b[38;5;241m.\u001b[39mColor(\u001b[38;5;124m\"\u001b[39m\u001b[38;5;124mheight:N\u001b[39m\u001b[38;5;124m\"\u001b[39m)\n\u001b[1;32m     32\u001b[0m )\u001b[38;5;241m.\u001b[39mproperties(width \u001b[38;5;241m=\u001b[39m \u001b[38;5;241m200\u001b[39m, height \u001b[38;5;241m=\u001b[39m \u001b[38;5;241m200\u001b[39m)\n",
      "\u001b[0;31mNameError\u001b[0m: name 'tke_wind_src' is not defined"
     ]
    }
   ],
   "source": [
    "calm_winter = alt.Chart(\n",
    "    tke_wind_src.set_index('time').loc['20230131': '20230202'].reset_index(),\n",
    "    title = 'calm_winter'\n",
    ").transform_filter(\n",
    "    alt.FieldOneOfPredicate('height', [3, 10, 20])\n",
    ").mark_circle(opacity = 0.5, size=5 ).encode(\n",
    "    alt.X(\"wind speed:Q\"),\n",
    "    alt.Y(\"turbulent intensity:Q\"),\n",
    "    alt.Color(\"height:N\")\n",
    ").properties(width = 200, height = 200)\n",
    "\n",
    "blowingsnow_winter = alt.Chart(\n",
    "    tke_wind_src.set_index('time').loc['20230219': '20230222'].reset_index(),\n",
    "    title = 'blowingsnow_winter'\n",
    ").transform_filter(\n",
    "    alt.FieldOneOfPredicate('height', [3, 10, 20])\n",
    ").mark_circle(opacity = 0.5, size=5 ).encode(\n",
    "    alt.X(\"wind speed:Q\"),\n",
    "    alt.Y(\"turbulent intensity:Q\"),\n",
    "    alt.Color(\"height:N\")\n",
    ").properties(width = 200, height = 200)\n",
    "\n",
    "calm_spring = alt.Chart(\n",
    "    tke_wind_src.set_index('time').loc['20230316': '20230319'].reset_index(),\n",
    "    title = 'calm_spring'\n",
    ").transform_filter(\n",
    "    alt.FieldOneOfPredicate('height', [3, 10, 20])\n",
    ").mark_circle(opacity = 0.5, size=5 ).encode(\n",
    "    alt.X(\"wind speed:Q\"),\n",
    "    alt.Y(\"turbulent intensity:Q\"),\n",
    "    alt.Color(\"height:N\")\n",
    ").properties(width = 200, height = 200)\n",
    "\n",
    "(calm_winter | blowingsnow_winter | calm_spring).resolve_scale(y='shared', x='shared')"
   ]
  },
  {
   "cell_type": "markdown",
   "metadata": {},
   "source": [
    "# Find days with net sublimation in the winter and days without net sublimation in the winter"
   ]
  },
  {
   "cell_type": "code",
   "execution_count": 4,
   "metadata": {},
   "outputs": [
    {
     "ename": "NameError",
     "evalue": "name 'tidy_df_30Min' is not defined",
     "output_type": "error",
     "traceback": [
      "\u001b[0;31m---------------------------------------------------------------------------\u001b[0m",
      "\u001b[0;31mNameError\u001b[0m                                 Traceback (most recent call last)",
      "Cell \u001b[0;32mIn[4], line 1\u001b[0m\n\u001b[0;32m----> 1\u001b[0m mean_daily_sublimation \u001b[38;5;241m=\u001b[39m \u001b[43mtidy_df_30Min\u001b[49m\u001b[38;5;241m.\u001b[39mquery(\u001b[38;5;124m\"\u001b[39m\u001b[38;5;124mvariable == \u001b[39m\u001b[38;5;124m'\u001b[39m\u001b[38;5;124mw_h2o__3m_c\u001b[39m\u001b[38;5;124m'\u001b[39m\u001b[38;5;124m\"\u001b[39m)[\n\u001b[1;32m      2\u001b[0m     [\u001b[38;5;124m'\u001b[39m\u001b[38;5;124mtime\u001b[39m\u001b[38;5;124m'\u001b[39m, \u001b[38;5;124m'\u001b[39m\u001b[38;5;124mvalue\u001b[39m\u001b[38;5;124m'\u001b[39m]\n\u001b[1;32m      3\u001b[0m ]\u001b[38;5;241m.\u001b[39mset_index(\u001b[38;5;124m'\u001b[39m\u001b[38;5;124mtime\u001b[39m\u001b[38;5;124m'\u001b[39m)\u001b[38;5;241m.\u001b[39mgroupby(pd\u001b[38;5;241m.\u001b[39mGrouper(freq\u001b[38;5;241m=\u001b[39m\u001b[38;5;124m'\u001b[39m\u001b[38;5;124m1440Min\u001b[39m\u001b[38;5;124m'\u001b[39m))\u001b[38;5;241m.\u001b[39mmean()\u001b[38;5;241m.\u001b[39mreset_index()\n\u001b[1;32m      4\u001b[0m mean_daily_sublimation[\u001b[38;5;124m'\u001b[39m\u001b[38;5;124mnet sublimation\u001b[39m\u001b[38;5;124m'\u001b[39m] \u001b[38;5;241m=\u001b[39m mean_daily_sublimation[\u001b[38;5;124m'\u001b[39m\u001b[38;5;124mvalue\u001b[39m\u001b[38;5;124m'\u001b[39m] \u001b[38;5;241m>\u001b[39m \u001b[38;5;241m0\u001b[39m\n\u001b[1;32m      5\u001b[0m alt\u001b[38;5;241m.\u001b[39mChart(mean_daily_sublimation)\u001b[38;5;241m.\u001b[39mmark_tick()\u001b[38;5;241m.\u001b[39mencode(x\u001b[38;5;241m=\u001b[39m\u001b[38;5;124m'\u001b[39m\u001b[38;5;124mtime:T\u001b[39m\u001b[38;5;124m'\u001b[39m, y \u001b[38;5;241m=\u001b[39m \u001b[38;5;124m'\u001b[39m\u001b[38;5;124mnet sublimation:N\u001b[39m\u001b[38;5;124m'\u001b[39m, color\u001b[38;5;241m=\u001b[39m\u001b[38;5;124m'\u001b[39m\u001b[38;5;124mnet sublimation:N\u001b[39m\u001b[38;5;124m'\u001b[39m)\n",
      "\u001b[0;31mNameError\u001b[0m: name 'tidy_df_30Min' is not defined"
     ]
    }
   ],
   "source": [
    "mean_daily_sublimation = tidy_df_30Min.query(\"variable == 'w_h2o__3m_c'\")[\n",
    "    ['time', 'value']\n",
    "].set_index('time').groupby(pd.Grouper(freq='1440Min')).mean().reset_index()\n",
    "mean_daily_sublimation['net sublimation'] = mean_daily_sublimation['value'] > 0\n",
    "alt.Chart(mean_daily_sublimation).mark_tick().encode(x='time:T', y = 'net sublimation:N', color='net sublimation:N')"
   ]
  },
  {
   "cell_type": "code",
   "execution_count": null,
   "metadata": {},
   "outputs": [],
   "source": [
    "winter_days = mean_daily_sublimation[mean_daily_sublimation.time.dt.month.isin([12,1])]\n",
    "winter_days = winter_days[winter_days['net sublimation']]\n",
    "winter_days['time'] = winter_days['time'].dt.date\n",
    "\n",
    "spring_days = mean_daily_sublimation[mean_daily_sublimation.time.dt.month.isin([3,4])]\n",
    "spring_days = spring_days[spring_days['net sublimation']]\n",
    "spring_days['time'] = spring_days['time'].dt.date"
   ]
  },
  {
   "cell_type": "code",
   "execution_count": null,
   "metadata": {},
   "outputs": [],
   "source": [
    "top_winter_days = winter_days.query(f\"value > {winter_days['value'].quantile(0.75)}\")\n",
    "top_spring_days = spring_days.query(f\"value > {spring_days['value'].quantile(0.75)}\")"
   ]
  },
  {
   "cell_type": "code",
   "execution_count": null,
   "metadata": {},
   "outputs": [],
   "source": []
  },
  {
   "cell_type": "code",
   "execution_count": null,
   "metadata": {},
   "outputs": [],
   "source": [
    "winter_sublimation_days = alt.Chart(\n",
    "    tke_wind_src[tke_wind_src.time.dt.date.isin(top_winter_days.time)],\n",
    "    title = 'winter sublimation days'\n",
    ").transform_filter(\n",
    "    alt.FieldOneOfPredicate('height', [3, 10, 20])\n",
    ").mark_errorband(opacity=0.5).encode(\n",
    "    alt.X(\"wind speed:Q\").bin(True),\n",
    "    alt.Y(\"turbulent intensity:Q\"),\n",
    "    alt.Color(\"height:N\")\n",
    ").properties(width = 200, height = 200)\n",
    "\n",
    "spring_sublimation_days = alt.Chart(\n",
    "    tke_wind_src[tke_wind_src.time.dt.date.isin(top_spring_days.time)],\n",
    "    title = 'spring sublimation days'\n",
    ").transform_filter(\n",
    "    alt.FieldOneOfPredicate('height', [3, 10, 20])\n",
    ").mark_errorband(opacity=0.5).encode(\n",
    "    alt.X(\"wind speed:Q\").bin(True),\n",
    "    alt.Y(\"turbulent intensity:Q\"),\n",
    "    alt.Color(\"height:N\")\n",
    ").properties(width = 200, height = 200)\n",
    "\n",
    "\n",
    "winter_sublimation_days | spring_sublimation_days"
   ]
  },
  {
   "cell_type": "code",
   "execution_count": null,
   "metadata": {},
   "outputs": [],
   "source": [
    "top_winter_sub_days = alt.Chart(\n",
    "    tke_wind_src[tke_wind_src.time.dt.date.isin(top_winter_days.time)],\n",
    "    title = 'top winter sublimation days'\n",
    ").transform_filter(\n",
    "    alt.FieldOneOfPredicate('height', [3, 10, 20])\n",
    "# ).mark_circle(opacity = 0.5, size=5 ).encode(\n",
    ").mark_errorband(opacity=0.5).encode(\n",
    "    # alt.X(\"wind speed:Q\"),\n",
    "    alt.X(\"wind speed:Q\").bin(True),\n",
    "    alt.Y(\"turbulent intensity:Q\"),\n",
    "    alt.Color(\"height:N\")\n",
    ").properties(width = 200, height = 200)\n",
    "\n",
    "top_spring_sub_days = alt.Chart(\n",
    "    tke_wind_src[tke_wind_src.time.dt.date.isin(top_spring_days.time)],\n",
    "    title = 'top spring sublimation days'\n",
    ").transform_filter(\n",
    "    alt.FieldOneOfPredicate('height', [3, 10, 20])\n",
    "# ).mark_circle(opacity = 0.5, size=5 ).encode(\n",
    ").mark_errorband(opacity=0.5).encode(\n",
    "    # alt.X(\"wind speed:Q\"),\n",
    "    alt.X(\"wind speed:Q\").bin(True),\n",
    "    alt.Y(\"turbulent intensity:Q\"),\n",
    "    alt.Color(\"height:N\")\n",
    ").properties(width = 200, height = 200)\n",
    "\n",
    "(top_winter_sub_days | top_spring_sub_days).resolve_scale(y='shared', x='shared')"
   ]
  },
  {
   "cell_type": "code",
   "execution_count": null,
   "metadata": {},
   "outputs": [],
   "source": [
    "top_winter_sub_days = alt.Chart(\n",
    "    tke_wind_src[tke_wind_src.time.dt.date.isin(top_winter_days.time)],\n",
    "    title = 'top winter sublimation days'\n",
    ").transform_filter(\n",
    "    alt.FieldOneOfPredicate('height', [3, 10, 20])\n",
    ").mark_circle(opacity = 0.5, size=5 ).encode(\n",
    "    alt.X(\"wind speed:Q\"),\n",
    "    alt.Y(\"turbulent intensity:Q\"),\n",
    "    alt.Color(\"height:N\")\n",
    ").properties(width = 200, height = 200)\n",
    "\n",
    "top_spring_sub_days\n",
    "\n",
    "top_spring_sub_days = alt.Chart(\n",
    "    tke_wind_src[tke_wind_src.time.dt.date.isin(top_spring_days.time)],\n",
    "    title = 'top spring sublimation days'\n",
    ").transform_filter(\n",
    "    alt.FieldOneOfPredicate('height', [3, 10, 20])\n",
    ").mark_circle(opacity = 0.5, size=5 ).encode(\n",
    "    alt.X(\"wind speed:Q\"),\n",
    "    alt.Y(\"turbulent intensity:Q\"),\n",
    "    alt.Color(\"height:N\")\n",
    ").properties(width = 200, height = 200)\n",
    "\n",
    "(top_winter_sub_days | top_spring_sub_days).resolve_scale(y='shared', x='shared')"
   ]
  },
  {
   "cell_type": "code",
   "execution_count": null,
   "metadata": {},
   "outputs": [],
   "source": [
    "(alt.Chart(\n",
    "    tke_wind_src[tke_wind_src.time.dt.date.isin(top_winter_days.time)],\n",
    "    title = 'Winter Days'\n",
    ").mark_bar().encode(\n",
    "    alt.X(\"wind speed:Q\").bin(True, maxbins=10),\n",
    "    alt.Y(\"count():Q\")\n",
    ").properties(height = 150) & alt.Chart(\n",
    "    tke_wind_src[tke_wind_src.time.dt.date.isin(top_spring_days.time)],\n",
    "    title = 'Spring Days'\n",
    ").mark_bar().encode(\n",
    "    alt.X(\"wind speed:Q\").bin(True, maxbins=10),\n",
    "    alt.Y(\"count():Q\")\n",
    ").properties(height = 150)).resolve_scale(x='shared')"
   ]
  },
  {
   "cell_type": "markdown",
   "metadata": {},
   "source": [
    "# Look at vertical profiles of LH flux on days with/without sublimation!"
   ]
  },
  {
   "cell_type": "code",
   "execution_count": null,
   "metadata": {},
   "outputs": [],
   "source": [
    "src = tidy_df_30Min[\n",
    "    ~ tidy_df_30Min.variable.str.contains('predicted')\n",
    "].query(\"measurement == 'w_h2o_'\").query(\"tower == 'c'\")\n",
    "src = src.set_index('time').groupby([pd.Grouper(freq=\"60Min\"), 'measurement', 'variable', 'height']).mean().reset_index()\n",
    "src = src[src.time.dt.hour.isin([0,4,8,12,16,20])]\n",
    "src['hour'] = src.time.dt.hour\n",
    "src['day'] = src.time.dt.day"
   ]
  },
  {
   "cell_type": "code",
   "execution_count": null,
   "metadata": {},
   "outputs": [],
   "source": [
    "import datetime as dt\n"
   ]
  },
  {
   "cell_type": "code",
   "execution_count": null,
   "metadata": {},
   "outputs": [],
   "source": [
    "(alt.Chart(\n",
    "    tidy_df_30Min.set_index('time').loc[\"20230206\": \"20230212\"].query(\"measurement == 'snow flux'\").reset_index()\n",
    ").mark_circle().encode(\n",
    "    alt.X('time:T'),#.axis(labels=False).title(None),\n",
    "    alt.Y(\"value:Q\").title(\"Blowing snow flux (g/m²/s)\")\n",
    ").properties(width = 150, height=100) &\\\n",
    "alt.Chart(\n",
    "    tidy_df_30Min.set_index('time').loc[\"20230206\": \"20230212\"].query(\"variable == 'Ri_3m_c'\").reset_index()\n",
    ").transform_window(\n",
    "    frame = [-3, 3],\n",
    "    rolling_avg = 'median(value)'\n",
    ").mark_line().encode(\n",
    "    alt.X('time:T'),\n",
    "    alt.Y(\"rolling_avg:Q\").title(\"Ri (3m)\")\n",
    ").properties(width = 150, height=100)).display(renderer='svg')\n"
   ]
  },
  {
   "cell_type": "code",
   "execution_count": null,
   "metadata": {},
   "outputs": [],
   "source": [
    "alt.Chart(\n",
    "    src[src.hour.isin([12])][src.day.isin([6,9,7,11])].set_index(\"time\").loc[\"20230206\": \"20230212\"].query(\"height != 15\")\n",
    ").mark_line().encode(\n",
    "    alt.X(\"value:Q\").sort('-y').title(\"Hₗ (g/m²/s)\"),\n",
    "    alt.Y(\"height:Q\"),\n",
    "    # alt.Color(\"hour:O\").scale(scheme='rainbow'),\n",
    "    alt.Column(\"day:O\"),\n",
    ").resolve_scale(x='shared').properties(width=100, height=100).display(renderer='svg')"
   ]
  },
  {
   "cell_type": "code",
   "execution_count": null,
   "metadata": {},
   "outputs": [],
   "source": [
    "alt.Chart(\n",
    "    src[src.hour.isin([4,12])].set_index(\"time\").loc[\"20230206\": \"20230207\"]\n",
    ").mark_line().encode(\n",
    "    alt.X(\"value:Q\").sort('-y').title(\"Hₗ (g/m²/s)\"),\n",
    "    alt.Y(\"height:Q\"),\n",
    "    alt.Color(\"hour:O\").scale(scheme='rainbow'),\n",
    "    alt.Column(\"day:O\"),\n",
    ").resolve_scale(x='shared').properties(width=150, height=100)"
   ]
  },
  {
   "cell_type": "code",
   "execution_count": null,
   "metadata": {},
   "outputs": [],
   "source": [
    "alt.Chart(mean_daily_sublimation).mark_boxplot().encode(\n",
    "    alt.Y(\"value:Q\")\n",
    ") | (\n",
    "    # alt.Chart(mean_daily_sublimation).mark_circle().encode(\n",
    "    #     alt.X(\"time:T\"),\n",
    "    #     alt.Y(\"value:Q\")\n",
    "    # ).properties(width = 600) + \n",
    "    alt.Chart(mean_daily_sublimation).mark_rule().encode(\n",
    "        alt.Y(\"median(value):Q\")\n",
    "    ).properties(width = 600) + \n",
    "    alt.Chart(mean_daily_sublimation).transform_calculate(\n",
    "        in_lower_quartile = alt.datum.value < mean_daily_sublimation.value.quantile(0.25)\n",
    "    ).mark_circle().encode(\n",
    "        alt.X(\"time:T\"),\n",
    "        alt.Y(\"value:Q\"),\n",
    "        alt.Color(\"in_lower_quartile:N\"),\n",
    "        tooltip = 'time'\n",
    "    ).properties(width = 600)\n",
    ")"
   ]
  },
  {
   "cell_type": "markdown",
   "metadata": {},
   "source": [
    "Plot mean LH flux profile of days in the bottom quartile of mean sublimation values"
   ]
  },
  {
   "cell_type": "code",
   "execution_count": null,
   "metadata": {},
   "outputs": [],
   "source": [
    "sz = mean_daily_sublimation['value'].size-1\n",
    "mean_daily_sublimation['PCNT_LIN'] = mean_daily_sublimation['value'].rank(method='max').apply(lambda x: 100.0*(x-1)/sz)\n",
    "mean_daily_sublimation.iloc[60:].head(25)"
   ]
  },
  {
   "cell_type": "code",
   "execution_count": null,
   "metadata": {},
   "outputs": [],
   "source": [
    "from sublimpy import tidy\n",
    "combined_blowing_snow_flux = tidy_df_30Min.query(\"variable == 'SF_avg_1m_ue'\").value.values + tidy_df_30Min.query(\"variable == 'SF_avg_2m_ue'\").value.values \n",
    "\n",
    "tidy_df_30Min = tidy.tidy_df_add_variable(\n",
    "    tidy_df_30Min,\n",
    "    combined_blowing_snow_flux,\n",
    "    'SF_avg_ue',\n",
    "    'snow flux',\n",
    "    np.nan,\n",
    "    'ue'\n",
    ")\n",
    "\n",
    "daily_max_blowing_snow_measurement = tidy_df_30Min.query(\"variable == 'SF_avg_ue'\")[\n",
    "    ['time', 'value']\n",
    "].set_index('time').groupby(pd.Grouper(freq='1440Min')).max().reset_index()\n",
    "\n",
    "blowing_snow_days = daily_max_blowing_snow_measurement.query(\"value > 0\").time\n",
    "nobs_days = daily_max_blowing_snow_measurement.query(\"value == 0\").time"
   ]
  },
  {
   "cell_type": "code",
   "execution_count": null,
   "metadata": {},
   "outputs": [],
   "source": [
    "nobs_mean_daily_sublimation = mean_daily_sublimation[mean_daily_sublimation.time.isin(nobs_days)]\n",
    "bs_mean_daily_sublimation = mean_daily_sublimation[mean_daily_sublimation.time.isin(blowing_snow_days)]"
   ]
  },
  {
   "cell_type": "code",
   "execution_count": null,
   "metadata": {},
   "outputs": [],
   "source": [
    "lower_quartile_sublimation_days = mean_daily_sublimation[\n",
    "    mean_daily_sublimation['value'] < mean_daily_sublimation.value.quantile(0.25)\n",
    "].time\n",
    "middle_two_quartiles_sublimation_days = mean_daily_sublimation[\n",
    "    (mean_daily_sublimation['value'] >= mean_daily_sublimation.value.quantile(0.25))\n",
    "    & (mean_daily_sublimation['value'] <= mean_daily_sublimation.value.quantile(0.75))\n",
    "].time\n",
    "upper_quartile_sublimation_days = mean_daily_sublimation[\n",
    "    mean_daily_sublimation['value'] > mean_daily_sublimation.value.quantile(0.75)\n",
    "].time\n",
    "\n",
    "lower_quartile_sublimation_days_nobs = nobs_mean_daily_sublimation[\n",
    "    nobs_mean_daily_sublimation['value'] < nobs_mean_daily_sublimation.value.quantile(0.25)\n",
    "].time\n",
    "middle_two_quartiles_sublimation_days_nobs = nobs_mean_daily_sublimation[\n",
    "    (nobs_mean_daily_sublimation['value'] >= nobs_mean_daily_sublimation.value.quantile(0.25))\n",
    "    & (nobs_mean_daily_sublimation['value'] <= nobs_mean_daily_sublimation.value.quantile(0.75))\n",
    "].time\n",
    "upper_quartile_sublimation_days_nobs = nobs_mean_daily_sublimation[\n",
    "    nobs_mean_daily_sublimation['value'] > nobs_mean_daily_sublimation.value.quantile(0.75)\n",
    "].time\n",
    "\n",
    "lower_quartile_sublimation_days_bs = bs_mean_daily_sublimation[\n",
    "    bs_mean_daily_sublimation['value'] < bs_mean_daily_sublimation.value.quantile(0.25)\n",
    "].time\n",
    "middle_two_quartiles_sublimation_days_bs = bs_mean_daily_sublimation[\n",
    "    (bs_mean_daily_sublimation['value'] >= bs_mean_daily_sublimation.value.quantile(0.25))\n",
    "    & (bs_mean_daily_sublimation['value'] <= bs_mean_daily_sublimation.value.quantile(0.75))\n",
    "].time\n",
    "upper_quartile_sublimation_days_bs = bs_mean_daily_sublimation[\n",
    "    bs_mean_daily_sublimation['value'] > bs_mean_daily_sublimation.value.quantile(0.75)\n",
    "].time"
   ]
  },
  {
   "cell_type": "code",
   "execution_count": null,
   "metadata": {},
   "outputs": [],
   "source": [
    "(\n",
    "    alt.Chart(\n",
    "        src.groupby([\"height\", \"hour\"]).median().reset_index(),\n",
    "        title=['Median 12pm Hₗ profile', 'for all days']\n",
    "    ).transform_filter(\n",
    "        alt.datum.hour == 12\n",
    "    ).mark_line().encode(\n",
    "        alt.X(\"value:Q\").sort('-y').title(\"Hₗ (g/m²/s)\"),\n",
    "        alt.Y(\"height:Q\"),\n",
    "        # alt.Color(\"hour:O\")\n",
    "    ).properties(height = 200, width = 100)\n",
    "    | (\n",
    "    alt.Chart(\n",
    "        src[src.time.dt.date.isin(lower_quartile_sublimation_days)].groupby([\"height\", \"hour\"]).median().reset_index(),\n",
    "        title=['Median 12pm Hₗ profile', 'for sublimation days', 'in the lower quartile']\n",
    "    ).transform_filter(\n",
    "        alt.datum.hour == 12\n",
    "    ).mark_line().encode(\n",
    "        alt.X(\"value:Q\").sort('-y').title(\"Hₗ (g/m²/s)\"),\n",
    "        alt.Y(\"height:Q\"),\n",
    "        # alt.Color(\"hour:O\").scale(scheme='turbo')\n",
    "    ).properties(height = 200, width = 100)\n",
    "        +\n",
    "    alt.Chart(\n",
    "        src[src.time.dt.date.isin(middle_two_quartiles_sublimation_days)].groupby([\"height\", \"hour\"]).median().reset_index(),\n",
    "        title=['Median 12pm Hₗ profile', 'for sublimation days', 'in the middle two quartiles']\n",
    "    ).transform_filter(\n",
    "        alt.datum.hour == 12\n",
    "    ).mark_line().encode(\n",
    "        alt.X(\"value:Q\").sort('-y').title(\"Hₗ (g/m²/s)\"),\n",
    "        alt.Y(\"height:Q\"),\n",
    "        # alt.Color(\"hour:O\").scale(scheme='turbo')\n",
    "    ).properties(height = 200, width = 100)\n",
    "    )\n",
    ").resolve_scale(x='shared')"
   ]
  },
  {
   "cell_type": "code",
   "execution_count": null,
   "metadata": {},
   "outputs": [],
   "source": [
    "temp_grad_3m_c = tidy_df_30Min.query(\"variable == 'temp_gradient_3m_c'\")\n",
    "neutral_times = temp_grad_3m_c[np.abs(temp_grad_3m_c.value) < 0.1]"
   ]
  },
  {
   "cell_type": "code",
   "execution_count": null,
   "metadata": {},
   "outputs": [],
   "source": [
    "alt.Chart(\n",
    "        src[src.time.dt.date.isin(lower_quartile_sublimation_days_nobs)].groupby([\"height\", \"hour\"]).median().reset_index(),\n",
    "        title=['Median 12pm Hₗ profile', 'for sublimation days', 'in the middle two quartiles']\n",
    "    ).transform_filter(\n",
    "        alt.datum.hour == 12\n",
    "    ).mark_line().encode(\n",
    "        alt.X(\"value:Q\").sort('-y').title(\"Hₗ (g/m²/s)\"),\n",
    "        alt.Y(\"height:Q\"),\n",
    "        # alt.Color(\"hour:O\").scale(scheme='turbo')\n",
    "    ).properties(height = 200, width = 100)"
   ]
  },
  {
   "cell_type": "code",
   "execution_count": null,
   "metadata": {},
   "outputs": [],
   "source": [
    "src[src.time.dt.date.isin(middle_two_quartiles_sublimation_days_nobs)]"
   ]
  },
  {
   "cell_type": "code",
   "execution_count": null,
   "metadata": {},
   "outputs": [],
   "source": [
    "alt.Chart(\n",
    "        src[src.time.dt.date.isin(upper_quartile_sublimation_days_nobs)].groupby([\"height\", \"hour\"]).median().reset_index(),\n",
    "        title=['Median 12pm Hₗ profile', 'for sublimation days', 'in the middle two quartiles']\n",
    "    ).transform_filter(\n",
    "        alt.datum.hour == 12\n",
    "    ).mark_line().encode(\n",
    "        alt.X(\"value:Q\").sort('-y').title(\"Hₗ (g/m²/s)\"),\n",
    "        alt.Y(\"height:Q\"),\n",
    "        # alt.Color(\"hour:O\").scale(scheme='turbo')\n",
    "    ).properties(height = 200, width = 100)"
   ]
  },
  {
   "cell_type": "code",
   "execution_count": null,
   "metadata": {},
   "outputs": [],
   "source": []
  }
 ],
 "metadata": {
  "kernelspec": {
   "display_name": "arm",
   "language": "python",
   "name": "python3"
  },
  "language_info": {
   "codemirror_mode": {
    "name": "ipython",
    "version": 3
   },
   "file_extension": ".py",
   "mimetype": "text/x-python",
   "name": "python",
   "nbconvert_exporter": "python",
   "pygments_lexer": "ipython3",
   "version": "3.1.0"
  }
 },
 "nbformat": 4,
 "nbformat_minor": 2
}
