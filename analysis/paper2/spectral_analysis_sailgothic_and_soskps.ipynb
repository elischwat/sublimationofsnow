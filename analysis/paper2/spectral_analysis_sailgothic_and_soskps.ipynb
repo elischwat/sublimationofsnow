{
 "cells": [
  {
   "cell_type": "code",
   "execution_count": null,
   "metadata": {},
   "outputs": [],
   "source": [
    "import numpy as np\n",
    "import xarray as xr\n",
    "\n",
    "import datetime as dt\n",
    "import pandas as pd\n",
    "\n",
    "import matplotlib.pyplot as plt\n",
    "\n",
    "import altair as alt\n",
    "alt.data_transformers.enable('json')\n",
    "\n",
    "from sublimpy import utils\n",
    "import glob\n",
    "import pytz\n",
    "from scipy.signal import welch, csd\n",
    "from scipy.stats import chi2\n",
    "from process_fast_data.fast_data_calculate_spectra_nomrd import calculate_mrd_for_df, fast_data_files_to_dataframe"
   ]
  },
  {
   "cell_type": "markdown",
   "metadata": {},
   "source": [
    "# SAIL EC data"
   ]
  },
  {
   "cell_type": "markdown",
   "metadata": {},
   "source": [
    "Open and wrangle the raw SAIL EC data"
   ]
  },
  {
   "cell_type": "code",
   "execution_count": null,
   "metadata": {},
   "outputs": [],
   "source": [
    "DATE = '20230418'"
   ]
  },
  {
   "cell_type": "code",
   "execution_count": null,
   "metadata": {},
   "outputs": [],
   "source": [
    "fast_data_file_path = f\"/Users/elischwat/Development/data/sublimationofsnow/sail_fast_ecor_data/gucecorM1.00.{DATE}.000000.raw/**_sonic.raw\"\n",
    "fast_data_files = glob.glob(fast_data_file_path)\n",
    "fast_data_files"
   ]
  },
  {
   "cell_type": "code",
   "execution_count": null,
   "metadata": {},
   "outputs": [],
   "source": [
    "def read_and_process_raw_sonic(file):\n",
    "    high_rate_df = pd.read_csv(file, skiprows=1, header=None).rename(columns = \n",
    "    dict(zip(range(0,10), ['Timestamp',\n",
    "        'u',\n",
    "        'v',\n",
    "        'w',\n",
    "        'windspeed units (M = m/s)',\n",
    "        'Speed of Sound',\n",
    "        'Status (00 means okay)',\n",
    "        'CO2 analog voltage output',\n",
    "        'H20 analog voltage output',\n",
    "        'Checksum',]))\n",
    "    )\n",
    "    high_rate_df['Timestamp'] = pd.to_datetime(\n",
    "        f'{DATE} ' + high_rate_df['Timestamp'].str[:-3],\n",
    "        format=\"%Y%m%d %H:%M:%S.%f\"\n",
    "    )\n",
    "    return high_rate_df"
   ]
  },
  {
   "cell_type": "code",
   "execution_count": null,
   "metadata": {},
   "outputs": [],
   "source": [
    "sail_fast_df = pd.concat([read_and_process_raw_sonic(f) for f in sorted(fast_data_files)]).reset_index(drop=True)\n",
    "# sail_fast_df = sail_fast_df.sort_values('Timestamp')\n",
    "sail_fast_df = sail_fast_df.rename(columns = {'Timestamp': 'time'})"
   ]
  },
  {
   "cell_type": "code",
   "execution_count": null,
   "metadata": {},
   "outputs": [],
   "source": [
    "sail_fast_df_means = sail_fast_df.set_index('time').groupby(pd.Grouper(freq='30min'))[['u', 'v', 'w']].transform('mean')"
   ]
  },
  {
   "cell_type": "code",
   "execution_count": null,
   "metadata": {},
   "outputs": [],
   "source": [
    "sail_fast_df_means['dir'] = np.rad2deg(np.arctan2(-sail_fast_df_means['u'], -sail_fast_df_means['v']))\n",
    "sail_fast_df_means['dir'] = sail_fast_df_means['dir'].apply(lambda dir: dir if dir >= 0 else dir+360)"
   ]
  },
  {
   "cell_type": "code",
   "execution_count": null,
   "metadata": {},
   "outputs": [],
   "source": [
    "sail_fast_df_means['dir'].plot()\n",
    "plt.grid(axis='x')  # Add grid lines only for the x-axis"
   ]
  },
  {
   "cell_type": "markdown",
   "metadata": {},
   "source": [
    "Isolate data to 3 hours between 1500 and 1800, rotate into streamwise coords"
   ]
  },
  {
   "cell_type": "code",
   "execution_count": null,
   "metadata": {},
   "outputs": [],
   "source": [
    "sail_fast_df = sail_fast_df.set_index('time').sort_index().loc['20230418 2100': '20230418 2359']"
   ]
  },
  {
   "cell_type": "code",
   "execution_count": null,
   "metadata": {},
   "outputs": [],
   "source": [
    "len(sail_fast_df[['u','v','w']]) == len(sail_fast_df[['u','v','w']].dropna())"
   ]
  },
  {
   "cell_type": "code",
   "execution_count": null,
   "metadata": {},
   "outputs": [],
   "source": [
    "sail_fast_df[['u','v','w']].plot()"
   ]
  },
  {
   "cell_type": "code",
   "execution_count": null,
   "metadata": {},
   "outputs": [],
   "source": [
    "# FIRST ROTATION\n",
    "mean_u = sail_fast_df['u'].mean()\n",
    "mean_v = sail_fast_df['v'].mean()\n",
    "theta = np.arctan2(mean_v, mean_u)\n",
    "adj_u = sail_fast_df['u']*np.cos(theta) + sail_fast_df['v']*np.sin(theta)\n",
    "adj_v = -sail_fast_df['u']*np.sin(theta) + sail_fast_df['v']*np.cos(theta)\n",
    "sail_fast_df['u'] = adj_u\n",
    "sail_fast_df['v'] = adj_v\n",
    "print(\n",
    "    sail_fast_df['u'].mean(),\n",
    "    sail_fast_df['v'].mean(),\n",
    "    sail_fast_df['w'].mean(),\n",
    ")\n",
    "\n",
    "# SECOND ROTATION\n",
    "mean_u = sail_fast_df['u'].mean()\n",
    "mean_w = sail_fast_df['w'].mean()\n",
    "phi = np.arctan2(mean_w, mean_u)\n",
    "adj_u = sail_fast_df['u']*np.cos(phi) + sail_fast_df['w']*np.sin(phi)\n",
    "adj_w = - sail_fast_df['u']*np.sin(phi) + sail_fast_df['w']*np.cos(phi)\n",
    "sail_fast_df['u'] = adj_u\n",
    "sail_fast_df['w'] = adj_w\n",
    "print(\n",
    "    sail_fast_df['u'].mean(),\n",
    "    sail_fast_df['v'].mean(),\n",
    "    sail_fast_df['w'].mean(),\n",
    ")"
   ]
  },
  {
   "cell_type": "markdown",
   "metadata": {},
   "source": [
    "Calculate MRD"
   ]
  },
  {
   "cell_type": "code",
   "execution_count": null,
   "metadata": {},
   "outputs": [],
   "source": [
    "mrd_uw_sail = calculate_mrd_for_df(sail_fast_df.reset_index(), 'u', 'w', shift=1000, parallelism=8)   \n",
    "mrd_vw_sail = calculate_mrd_for_df(sail_fast_df.reset_index(), 'v', 'w', shift=1000, parallelism=8)   \n",
    "mrd_uv_sail = calculate_mrd_for_df(sail_fast_df.reset_index(), 'u', 'v', shift=1000, parallelism=8)\n",
    "mrd_uu_sail = calculate_mrd_for_df(sail_fast_df.reset_index(), 'u', 'u', shift=1000, parallelism=8)   \n",
    "mrd_vv_sail = calculate_mrd_for_df(sail_fast_df.reset_index(), 'v', 'v', shift=1000, parallelism=8)   \n",
    "mrd_ww_sail = calculate_mrd_for_df(sail_fast_df.reset_index(), 'w', 'w', shift=1000, parallelism=8)"
   ]
  },
  {
   "cell_type": "code",
   "execution_count": null,
   "metadata": {},
   "outputs": [],
   "source": [
    "base = alt.Chart().encode(\n",
    "    alt.X('tau:Q').scale(type='log').title('tau (s)'),\n",
    ")\n",
    "def mrd_plot(data):\n",
    "    return alt.layer(\n",
    "        base.mark_errorband(extent='iqr').encode(alt.Y('Co:Q')),\n",
    "        base.mark_line().encode(alt.Y('mean(Co):Q')),\n",
    "        data=data\n",
    "    ).properties(width=200, height=200)\n",
    "\n",
    "(\n",
    "    mrd_plot(mrd_uw_sail).properties(title=\"u'w'\") | \n",
    "    mrd_plot(mrd_vw_sail).properties(title=\"v'w'\") | \n",
    "    mrd_plot(mrd_uv_sail).properties(title=\"u'v'\")\n",
    ") & (\n",
    "    mrd_plot(mrd_uu_sail).properties(title=\"u'u'\") | \n",
    "    mrd_plot(mrd_vv_sail).properties(title=\"v'v'\") | \n",
    "    mrd_plot(mrd_ww_sail).properties(title=\"w'w'\")\n",
    ")"
   ]
  },
  {
   "cell_type": "markdown",
   "metadata": {},
   "source": [
    "# SPLASH EC data"
   ]
  },
  {
   "cell_type": "code",
   "execution_count": null,
   "metadata": {},
   "outputs": [],
   "source": [
    "splash_fast_ds = xr.open_dataset(\n",
    "    # \"/Users/elischwat/Development/data/sublimationofsnow/splash_fast_asfs_data/ASFS-50_Level1_SPLASH2021-2023/fastsled.level1.asfs50-picnic.20230418.000000.nc\"\n",
    "    \"/Users/elischwat/Development/data/sublimationofsnow/splash_fast_asfs_data/sledwind10hz.asfs50.level2.0.20230418.000000.nc\"\n",
    ")"
   ]
  },
  {
   "cell_type": "code",
   "execution_count": null,
   "metadata": {},
   "outputs": [],
   "source": [
    "splash_fast_ds = splash_fast_ds.to_dataframe()"
   ]
  },
  {
   "cell_type": "code",
   "execution_count": null,
   "metadata": {},
   "outputs": [],
   "source": [
    "splash_fast_ds_means = splash_fast_ds.groupby(pd.Grouper(freq='30min'))[['metek_u', 'metek_v', 'metek_w']].transform('mean')\n",
    "splash_fast_ds_means['dir'] = np.rad2deg(np.arctan2(-splash_fast_ds_means['metek_u'], -splash_fast_ds_means['metek_v']))\n",
    "splash_fast_ds_means['dir'] = splash_fast_ds_means['dir'].apply(lambda dir: dir if dir >= 0 else dir+360)"
   ]
  },
  {
   "cell_type": "code",
   "execution_count": null,
   "metadata": {},
   "outputs": [],
   "source": [
    "splash_fast_ds_means['dir'].to_xarray().plot()\n",
    "plt.grid(axis='x')  # Add grid lines only for the x-axis"
   ]
  },
  {
   "cell_type": "code",
   "execution_count": null,
   "metadata": {},
   "outputs": [],
   "source": [
    "splash_fast_ds = splash_fast_ds.loc['20230418 2100': '20230418 2359']"
   ]
  },
  {
   "cell_type": "code",
   "execution_count": null,
   "metadata": {},
   "outputs": [],
   "source": [
    "# FIRST ROTATION\n",
    "mean_u = splash_fast_ds['metek_u'].mean()\n",
    "mean_v = splash_fast_ds['metek_v'].mean()\n",
    "theta = np.arctan2(mean_v, mean_u)\n",
    "adj_u = splash_fast_ds['metek_u']*np.cos(theta) + splash_fast_ds['metek_v']*np.sin(theta)\n",
    "adj_v = -splash_fast_ds['metek_u']*np.sin(theta) + splash_fast_ds['metek_v']*np.cos(theta)\n",
    "splash_fast_ds['metek_u'] = adj_u\n",
    "splash_fast_ds['metek_v'] = adj_v\n",
    "print(\n",
    "    splash_fast_ds['metek_u'].mean(),\n",
    "    splash_fast_ds['metek_v'].mean(),\n",
    "    splash_fast_ds['metek_w'].mean(),\n",
    ")\n",
    "\n",
    "# SECOND ROTATION\n",
    "mean_u = splash_fast_ds['metek_u'].mean()\n",
    "mean_w = splash_fast_ds['metek_w'].mean()\n",
    "phi = np.arctan2(mean_w, mean_u)\n",
    "adj_u = splash_fast_ds['metek_u']*np.cos(phi) + splash_fast_ds['metek_w']*np.sin(phi)\n",
    "adj_w = - splash_fast_ds['metek_u']*np.sin(phi) + splash_fast_ds['metek_w']*np.cos(phi)\n",
    "splash_fast_ds['metek_u'] = adj_u\n",
    "splash_fast_ds['metek_w'] = adj_w\n",
    "print(\n",
    "    splash_fast_ds['metek_u'].mean(),\n",
    "    splash_fast_ds['metek_v'].mean(),\n",
    "    splash_fast_ds['metek_w'].mean(),\n",
    ")"
   ]
  },
  {
   "cell_type": "code",
   "execution_count": null,
   "metadata": {},
   "outputs": [],
   "source": [
    "splash_fast_ds = splash_fast_ds[[\n",
    "    'metek_u',\t'metek_v',\t'metek_w',\n",
    "]].interpolate()"
   ]
  },
  {
   "cell_type": "code",
   "execution_count": null,
   "metadata": {},
   "outputs": [],
   "source": [
    "mrd_uw_splash = calculate_mrd_for_df(splash_fast_ds.reset_index(), 'metek_u', 'metek_w', shift=1000, parallelism=8)   \n",
    "mrd_vw_splash = calculate_mrd_for_df(splash_fast_ds.reset_index(), 'metek_v', 'metek_w', shift=1000, parallelism=8)   \n",
    "mrd_uv_splash = calculate_mrd_for_df(splash_fast_ds.reset_index(), 'metek_u', 'metek_v', shift=1000, parallelism=8)\n",
    "mrd_uu_splash = calculate_mrd_for_df(splash_fast_ds.reset_index(), 'metek_u', 'metek_u', shift=1000, parallelism=8)   \n",
    "mrd_vv_splash = calculate_mrd_for_df(splash_fast_ds.reset_index(), 'metek_v', 'metek_v', shift=1000, parallelism=8)   \n",
    "mrd_ww_splash = calculate_mrd_for_df(splash_fast_ds.reset_index(), 'metek_w', 'metek_w', shift=1000, parallelism=8)"
   ]
  },
  {
   "cell_type": "code",
   "execution_count": null,
   "metadata": {},
   "outputs": [],
   "source": [
    "base = alt.Chart().encode(\n",
    "    alt.X('tau:Q').scale(type='log').title('tau (s)'),\n",
    ")\n",
    "def mrd_plot(data):\n",
    "    return alt.layer(\n",
    "        base.mark_errorband(extent='iqr').encode(alt.Y('Co:Q')),\n",
    "        base.mark_line().encode(alt.Y('mean(Co):Q')),\n",
    "        data=data\n",
    "    ).properties(width=200, height=200)\n",
    "\n",
    "(\n",
    "    mrd_plot(mrd_uw_splash).properties(title=\"u'w'\") | \n",
    "    mrd_plot(mrd_vw_splash).properties(title=\"v'w'\") | \n",
    "    mrd_plot(mrd_uv_splash).properties(title=\"u'v'\")\n",
    ") & (\n",
    "    mrd_plot(mrd_uu_splash).properties(title=\"u'u'\") | \n",
    "    mrd_plot(mrd_vv_splash).properties(title=\"v'v'\") | \n",
    "    mrd_plot(mrd_ww_splash).properties(title=\"w'w'\")\n",
    ")"
   ]
  },
  {
   "cell_type": "markdown",
   "metadata": {},
   "source": [
    "# SOS EC data"
   ]
  },
  {
   "cell_type": "markdown",
   "metadata": {},
   "source": [
    "## Plot wind directions for case studies"
   ]
  },
  {
   "cell_type": "code",
   "execution_count": null,
   "metadata": {},
   "outputs": [],
   "source": [
    "sos_df = pd.read_parquet(\"../paper1/process_slow_data/tidy_df_20221101_20230619_planar_fit_multiplane_q7_flags9000_pf10.parquet\")\n",
    "sos_df_localtime = utils.modify_df_timezone( sos_df, 'UTC', 'US/Mountain')"
   ]
  },
  {
   "cell_type": "code",
   "execution_count": null,
   "metadata": {},
   "outputs": [],
   "source": [
    "def wind_chart(data):\n",
    "    return alt.Chart(data).mark_line().encode(        \n",
    "        alt.X('time:T'),\n",
    "        alt.Y('value:Q'),\n",
    "        alt.Color('height:O').scale(scheme='rainbow')\n",
    "    ).properties(height=150)\n",
    "def vertical_lines_chart(data):\n",
    "    return alt.Chart(\n",
    "        data\n",
    "    ).mark_rule(color='red', strokeDash=[4, 2]).encode(\n",
    "        alt.X('time:T')\n",
    "    )\n",
    "\n",
    "\n",
    "sos_dir_df = sos_df_localtime[sos_df_localtime.variable.isin([\n",
    "        'dir_3m_c', 'dir_10m_c', 'dir_20m_c'\n",
    "    ])].set_index('time')\n",
    "\n",
    "(\n",
    "    (wind_chart(sos_dir_df.loc['20230409'].reset_index())   + vertical_lines_chart(pd.DataFrame({'time': ['2023-04-09T15:00:00', '2023-04-09T18:00:00']}))) \n",
    "    | (wind_chart(sos_dir_df.loc['20230418'].reset_index()) + vertical_lines_chart(pd.DataFrame({'time': ['2023-04-18T15:00:00', '2023-04-18T18:00:00']}))) \n",
    "    | (wind_chart(sos_dir_df.loc['20221221'].reset_index()) + vertical_lines_chart(pd.DataFrame({'time': ['2022-12-21T15:00:00', '2022-12-21T18:00:00']}))) \n",
    "    | (wind_chart(sos_dir_df.loc['20230304'].reset_index()) + vertical_lines_chart(pd.DataFrame({'time': ['2023-03-04T15:00:00', '2023-03-04T18:00:00']})))\n",
    ")"
   ]
  },
  {
   "cell_type": "code",
   "execution_count": null,
   "metadata": {},
   "outputs": [],
   "source": [
    "apr18_df = fast_data_files_to_dataframe([\n",
    "    '/Users/elischwat/Development/data/sublimationofsnow/sosqc_fast/isfs_sos_qc_geo_tiltcor_hr_v2_20230418_21.nc',\n",
    "    '/Users/elischwat/Development/data/sublimationofsnow/sosqc_fast/isfs_sos_qc_geo_tiltcor_hr_v2_20230418_22.nc',\n",
    "    '/Users/elischwat/Development/data/sublimationofsnow/sosqc_fast/isfs_sos_qc_geo_tiltcor_hr_v2_20230418_23.nc',\n",
    "],  rotation='double')"
   ]
  },
  {
   "cell_type": "code",
   "execution_count": null,
   "metadata": {},
   "outputs": [],
   "source": [
    "apr18_u_w_3m_c_mrd_df = calculate_mrd_for_df(apr18_df, 'u_3m_c', 'w_3m_c', shift = 2000, parallelism=8)\n",
    "apr18_u_w_3m_d_mrd_df = calculate_mrd_for_df(apr18_df, 'u_3m_d', 'w_3m_d', shift = 2000, parallelism=8)\n",
    "apr18_u_w_3m_ue_mrd_df = calculate_mrd_for_df(apr18_df, 'u_3m_ue', 'w_3m_ue', shift = 2000, parallelism=8)\n",
    "apr18_u_w_3m_uw_mrd_df = calculate_mrd_for_df(apr18_df, 'u_3m_uw', 'w_3m_uw', shift = 2000, parallelism=8)"
   ]
  },
  {
   "cell_type": "code",
   "execution_count": null,
   "metadata": {},
   "outputs": [],
   "source": [
    "apr18_u_u_3m_c_mrd_df = calculate_mrd_for_df(apr18_df, 'u_3m_c', 'u_3m_c', shift = 2000, parallelism=8)\n",
    "apr18_u_u_3m_d_mrd_df = calculate_mrd_for_df(apr18_df, 'u_3m_d', 'u_3m_d', shift = 2000, parallelism=8)\n",
    "apr18_u_u_3m_ue_mrd_df = calculate_mrd_for_df(apr18_df, 'u_3m_ue', 'u_3m_ue', shift = 2000, parallelism=8)\n",
    "apr18_u_u_3m_uw_mrd_df = calculate_mrd_for_df(apr18_df, 'u_3m_uw', 'u_3m_uw', shift = 2000, parallelism=8)\n",
    "\n",
    "apr18_w_w__3m_c_mrd_df = calculate_mrd_for_df(apr18_df, 'w_3m_c', 'w_3m_c', shift = 2000, parallelism=8)\n",
    "apr18_w_w__3m_d_mrd_df = calculate_mrd_for_df(apr18_df, 'w_3m_d', 'w_3m_d', shift = 2000, parallelism=8)\n",
    "apr18_w_w__3m_ue_mrd_df = calculate_mrd_for_df(apr18_df, 'w_3m_ue', 'w_3m_ue', shift = 2000, parallelism=8)\n",
    "apr18_w_w__3m_uw_mrd_df = calculate_mrd_for_df(apr18_df, 'w_3m_uw', 'w_3m_uw', shift = 2000, parallelism=8)"
   ]
  },
  {
   "cell_type": "code",
   "execution_count": null,
   "metadata": {},
   "outputs": [],
   "source": [
    "apr18_w_w_3m_c_mrd_df = apr18_w_w__3m_c_mrd_df\n",
    "apr18_w_w_3m_d_mrd_df = apr18_w_w__3m_d_mrd_df\n",
    "apr18_w_w_3m_ue_mrd_df = apr18_w_w__3m_ue_mrd_df\n",
    "apr18_w_w_3m_uw_mrd_df = apr18_w_w__3m_uw_mrd_df"
   ]
  },
  {
   "cell_type": "code",
   "execution_count": null,
   "metadata": {},
   "outputs": [],
   "source": [
    "apr18_u_w_10m_c_mrd_df = calculate_mrd_for_df(apr18_df, 'u_10m_c', 'w_10m_c', shift = 2000, parallelism=8)\n",
    "apr18_u_w_10m_d_mrd_df = calculate_mrd_for_df(apr18_df, 'u_10m_d', 'w_10m_d', shift = 2000, parallelism=8)\n",
    "apr18_u_w_10m_ue_mrd_df = calculate_mrd_for_df(apr18_df, 'u_10m_ue', 'w_10m_ue', shift = 2000, parallelism=8)\n",
    "apr18_u_w_10m_uw_mrd_df = calculate_mrd_for_df(apr18_df, 'u_10m_uw', 'w_10m_uw', shift = 2000, parallelism=8)"
   ]
  },
  {
   "cell_type": "code",
   "execution_count": null,
   "metadata": {},
   "outputs": [],
   "source": [
    "base = alt.Chart().encode(\n",
    "    alt.X('tau:Q').scale(type='log').title('tau (s)'),\n",
    ")\n",
    "def mrd_plot(data):\n",
    "    return alt.layer(\n",
    "        base.mark_errorband(extent='iqr').encode(alt.Y('Co:Q')),\n",
    "        base.mark_line().encode(alt.Y('mean(Co):Q')),\n",
    "        data=data\n",
    "    ).properties(width=200, height=200)"
   ]
  },
  {
   "cell_type": "code",
   "execution_count": null,
   "metadata": {},
   "outputs": [],
   "source": [
    "(mrd_plot(apr18_u_w_3m_c_mrd_df) | mrd_plot(apr18_u_w_3m_d_mrd_df) | mrd_plot(apr18_u_w_3m_ue_mrd_df) | mrd_plot(apr18_u_w_3m_uw_mrd_df)).resolve_scale(y='shared')"
   ]
  },
  {
   "cell_type": "code",
   "execution_count": null,
   "metadata": {},
   "outputs": [],
   "source": [
    "(mrd_plot(apr18_u_u_3m_c_mrd_df) | mrd_plot(apr18_u_u_3m_d_mrd_df) | mrd_plot(apr18_u_u_3m_ue_mrd_df) | mrd_plot(apr18_u_u_3m_uw_mrd_df)).resolve_scale(y='shared')"
   ]
  },
  {
   "cell_type": "code",
   "execution_count": null,
   "metadata": {},
   "outputs": [],
   "source": [
    "(mrd_plot(apr18_w_w_3m_c_mrd_df) | mrd_plot(apr18_w_w_3m_d_mrd_df) | mrd_plot(apr18_w_w_3m_ue_mrd_df) | mrd_plot(apr18_w_w_3m_uw_mrd_df)).resolve_scale(y='shared')"
   ]
  },
  {
   "cell_type": "code",
   "execution_count": null,
   "metadata": {},
   "outputs": [],
   "source": [
    "(mrd_plot(apr18_u_w_10m_c_mrd_df) | mrd_plot(apr18_u_w_10m_d_mrd_df) | mrd_plot(apr18_u_w_10m_ue_mrd_df) | mrd_plot(apr18_u_w_10m_uw_mrd_df)).resolve_scale(y='shared')"
   ]
  },
  {
   "cell_type": "code",
   "execution_count": null,
   "metadata": {},
   "outputs": [],
   "source": [
    "apr18_u_w_mrd_df = calculate_mrd_for_df(apr18_df, 'u_3m_c', 'w_3m_c', shift = 2000, parallelism=8)\n",
    "apr18_v_w_mrd_df = calculate_mrd_for_df(apr18_df, 'v_3m_c', 'w_3m_c', shift = 2000, parallelism=8)\n",
    "apr18_u_v_mrd_df = calculate_mrd_for_df(apr18_df, 'u_3m_c', 'v_3m_c', shift = 2000, parallelism=8)"
   ]
  },
  {
   "cell_type": "code",
   "execution_count": null,
   "metadata": {},
   "outputs": [],
   "source": [
    "apr18_u_u_mrd_df = calculate_mrd_for_df(apr18_df, 'u_3m_c', 'u_3m_c', shift = 2000, parallelism=8)\n",
    "apr18_v_v_mrd_df = calculate_mrd_for_df(apr18_df, 'v_3m_c', 'v_3m_c', shift = 2000, parallelism=8)\n",
    "apr18_w_w_mrd_df = calculate_mrd_for_df(apr18_df, 'w_3m_c', 'w_3m_c', shift = 2000, parallelism=8)"
   ]
  },
  {
   "cell_type": "code",
   "execution_count": null,
   "metadata": {},
   "outputs": [],
   "source": [
    "apr18_u_w_mrd_df\n",
    "apr18_v_w_mrd_df\n",
    "apr18_u_v_mrd_df\n",
    "apr18_u_u_mrd_df\n",
    "apr18_v_v_mrd_df\n",
    "apr18_w_w_mrd_df"
   ]
  },
  {
   "cell_type": "code",
   "execution_count": null,
   "metadata": {},
   "outputs": [],
   "source": [
    "mrd_uw_sail\n",
    "mrd_vw_sail\n",
    "mrd_uv_sail\n",
    "mrd_uu_sail\n",
    "mrd_vv_sail\n",
    "mrd_ww_sail"
   ]
  },
  {
   "cell_type": "code",
   "execution_count": null,
   "metadata": {},
   "outputs": [],
   "source": [
    "(\n",
    "    (\n",
    "        mrd_plot(mrd_uu_sail).properties(title=\"u'u' at GOT\") | \n",
    "        mrd_plot(mrd_vv_sail).properties(title=\"v'v' at GOT\")\n",
    "    ).resolve_scale(x='shared', y='shared') & (\n",
    "        mrd_plot(apr18_u_u_mrd_df).properties(title=\"u'u' at KPS\") | \n",
    "        mrd_plot(apr18_v_v_mrd_df).properties(title=\"v'v' at KPS\")\n",
    ").resolve_scale(x='shared', y='shared')\n",
    ").resolve_scale(x='shared', y='shared') | (\n",
    "    mrd_plot(mrd_ww_sail).properties(title=\"w'w' at GOT\") &\n",
    "    mrd_plot(apr18_w_w_mrd_df).properties(title=\"w'w' at KPS\")\n",
    ").resolve_scale(x='shared', y='shared')"
   ]
  },
  {
   "cell_type": "code",
   "execution_count": null,
   "metadata": {},
   "outputs": [],
   "source": [
    "(\n",
    "    (\n",
    "        mrd_plot(mrd_uw_sail).properties(title=\"u'w' at GOT\") | \n",
    "        mrd_plot(mrd_vw_sail).properties(title=\"v'w' at GOT\")\n",
    "    ).resolve_scale(x='shared', y='shared') & (\n",
    "        mrd_plot(apr18_u_w_mrd_df).properties(title=\"u'w' at KPS\") | \n",
    "        mrd_plot(apr18_v_w_mrd_df).properties(title=\"v'w' at KPS\")\n",
    ").resolve_scale(x='shared', y='shared')\n",
    ").resolve_scale(x='shared', y='shared') | (\n",
    "    mrd_plot(mrd_uv_sail).properties(title=\"u'v' at GOT\") &\n",
    "    mrd_plot(apr18_u_v_mrd_df).properties(title=\"u'v' at KPS\")\n",
    ").resolve_scale(x='shared', y='shared')"
   ]
  },
  {
   "cell_type": "code",
   "execution_count": null,
   "metadata": {},
   "outputs": [],
   "source": [
    "dec21_df = fast_data_files_to_dataframe([\n",
    "    '/Users/elischwat/Development/data/sublimationofsnow/sosqc_fast/isfs_sos_qc_geo_tiltcor_hr_v2_20221221_21.nc',\n",
    "    '/Users/elischwat/Development/data/sublimationofsnow/sosqc_fast/isfs_sos_qc_geo_tiltcor_hr_v2_20221221_22.nc',\n",
    "    '/Users/elischwat/Development/data/sublimationofsnow/sosqc_fast/isfs_sos_qc_geo_tiltcor_hr_v2_20221221_23.nc',\n",
    "])\n",
    "dec21_df['u_3m_c'] = dec21_df['u_3m_c'].ffill()\n",
    "dec21_df['v_3m_c'] = dec21_df['v_3m_c'].ffill()\n",
    "dec21_df['w_3m_c'] = dec21_df['w_3m_c'].ffill()\n",
    "dec21_u_w_mrd_df = calculate_mrd_for_df(dec21_df, 'u_3m_c', 'w_3m_c', shift = 2000, parallelism=8)\n",
    "dec21_v_w_mrd_df = calculate_mrd_for_df(dec21_df, 'v_3m_c', 'w_3m_c', shift = 2000, parallelism=8)\n",
    "dec21_u_v_mrd_df = calculate_mrd_for_df(dec21_df, 'u_3m_c', 'v_3m_c', shift = 2000, parallelism=8)"
   ]
  },
  {
   "cell_type": "code",
   "execution_count": null,
   "metadata": {},
   "outputs": [],
   "source": [
    "((\n",
    "    (\n",
    "        mrd_plot(dec21_u_w_mrd_df).properties(height=200, width=200, title=\"u'w' at KPS, Dec 21\") | \n",
    "        mrd_plot(dec21_v_w_mrd_df).properties(height=200, width=200, title=\"v'w' at KPS, Dec 21\")\n",
    "    ).resolve_scale(x='shared', y='shared') & (\n",
    "        mrd_plot(apr18_u_w_mrd_df).properties(height=200, width=200, title=\"u'w' at KPS, Apr 18\") | \n",
    "        mrd_plot(apr18_v_w_mrd_df).properties(height=200, width=200, title=\"v'w' at KPS, Apr 18\")\n",
    ").resolve_scale(x='shared', y='shared')\n",
    ").resolve_scale(x='shared', y='shared') | (\n",
    "    mrd_plot(dec21_u_v_mrd_df).properties(height=200, width=200, title=\"u'v' at KPS, Dec 21\") &\n",
    "    mrd_plot(apr18_u_v_mrd_df).properties(height=200, width=200, title=\"u'v' at KPS, Apr 18\")\n",
    ").resolve_scale(x='shared', y='shared')).display(renderer='svg')"
   ]
  },
  {
   "cell_type": "code",
   "execution_count": null,
   "metadata": {},
   "outputs": [],
   "source": [
    "# '/Users/elischwat/Development/data/sublimationofsnow/sosqc_fast/isfs_sos_qc_geo_tiltcor_hr_20230419_02.nc',\n",
    "\n",
    "apr18_1000_1200_u_w_mrd_df = calculate_mrd_for_df(\n",
    "    fast_data_files_to_dataframe([\n",
    "        '/Users/elischwat/Development/data/sublimationofsnow/sosqc_fast_old/isfs_sos_qc_geo_tiltcor_hr_20230418_16.nc',\n",
    "        '/Users/elischwat/Development/data/sublimationofsnow/sosqc_fast_old/isfs_sos_qc_geo_tiltcor_hr_20230418_17.nc',\n",
    "    ]).set_index('time')[['u_3m_c', 'v_3m_c', 'w_3m_c']].ffill().reset_index(), \n",
    "    'u_3m_c',  'w_3m_c', shift = 1000, parallelism=8\n",
    ")\n",
    "apr18_1200_1400_u_w_mrd_df = calculate_mrd_for_df(\n",
    "    fast_data_files_to_dataframe([\n",
    "        '/Users/elischwat/Development/data/sublimationofsnow/sosqc_fast_old/isfs_sos_qc_geo_tiltcor_hr_20230418_18.nc',\n",
    "        '/Users/elischwat/Development/data/sublimationofsnow/sosqc_fast_old/isfs_sos_qc_geo_tiltcor_hr_20230418_19.nc',\n",
    "    ]).set_index('time')[['u_3m_c', 'v_3m_c', 'w_3m_c']].ffill().reset_index(), \n",
    "    'u_3m_c',  'w_3m_c', shift = 1000, parallelism=8\n",
    ")\n",
    "apr18_1400_1600_u_w_mrd_df = calculate_mrd_for_df(\n",
    "    fast_data_files_to_dataframe([\n",
    "        '/Users/elischwat/Development/data/sublimationofsnow/sosqc_fast_old/isfs_sos_qc_geo_tiltcor_hr_20230418_20.nc',\n",
    "        '/Users/elischwat/Development/data/sublimationofsnow/sosqc_fast_old/isfs_sos_qc_geo_tiltcor_hr_20230418_21.nc',\n",
    "    ]).set_index('time')[['u_3m_c', 'v_3m_c', 'w_3m_c']].ffill().reset_index(), \n",
    "    'u_3m_c',  'w_3m_c', shift = 1000, parallelism=8\n",
    ")\n",
    "apr18_1600_1800_u_w_mrd_df = calculate_mrd_for_df(\n",
    "    fast_data_files_to_dataframe([\n",
    "        '/Users/elischwat/Development/data/sublimationofsnow/sosqc_fast_old/isfs_sos_qc_geo_tiltcor_hr_20230418_22.nc',\n",
    "        '/Users/elischwat/Development/data/sublimationofsnow/sosqc_fast_old/isfs_sos_qc_geo_tiltcor_hr_20230418_23.nc',\n",
    "    ]).set_index('time')[['u_3m_c', 'v_3m_c', 'w_3m_c']].ffill().reset_index(), \n",
    "    'u_3m_c',  'w_3m_c', shift = 1000, parallelism=8\n",
    ")\n",
    "apr18_1800_2000_u_w_mrd_df = calculate_mrd_for_df(\n",
    "    fast_data_files_to_dataframe([\n",
    "        '/Users/elischwat/Development/data/sublimationofsnow/sosqc_fast_old/isfs_sos_qc_geo_tiltcor_hr_20230419_00.nc',\n",
    "        '/Users/elischwat/Development/data/sublimationofsnow/sosqc_fast_old/isfs_sos_qc_geo_tiltcor_hr_20230419_01.nc',\n",
    "    ]).set_index('time')[['u_3m_c', 'v_3m_c', 'w_3m_c']].ffill().reset_index(), \n",
    "    'u_3m_c',  'w_3m_c', shift = 1000, parallelism=8\n",
    ")\n",
    "apr18_2000_2200_u_w_mrd_df = calculate_mrd_for_df(\n",
    "    fast_data_files_to_dataframe([\n",
    "        '/Users/elischwat/Development/data/sublimationofsnow/sosqc_fast_old/isfs_sos_qc_geo_tiltcor_hr_20230419_02.nc',\n",
    "        '/Users/elischwat/Development/data/sublimationofsnow/sosqc_fast_old/isfs_sos_qc_geo_tiltcor_hr_20230419_03.nc',\n",
    "    ]).set_index('time')[['u_3m_c', 'v_3m_c', 'w_3m_c']].ffill().reset_index(), \n",
    "    'u_3m_c',  'w_3m_c', shift = 1000, parallelism=8\n",
    ")\n"
   ]
  },
  {
   "cell_type": "code",
   "execution_count": null,
   "metadata": {},
   "outputs": [],
   "source": [
    "mrd_df = pd.concat([\n",
    "    apr18_1000_1200_u_w_mrd_df.assign(hour = '1000_1200'),\n",
    "    apr18_1200_1400_u_w_mrd_df.assign(hour = '1200_1400'),\n",
    "    apr18_1400_1600_u_w_mrd_df.assign(hour = '1400_1600'),\n",
    "    apr18_1600_1800_u_w_mrd_df.assign(hour = '1600_1800'),\n",
    "    apr18_1800_2000_u_w_mrd_df.assign(hour = '1800_2000'),\n",
    "    apr18_2000_2200_u_w_mrd_df.assign(hour = '2000_2200'),\n",
    "])\n",
    "mrd_df['average_time'] = mrd_df.start_time + 0.5*(mrd_df.end_time - mrd_df.start_time)\n",
    "\n",
    "(alt.Chart(mrd_df).mark_line().encode(\n",
    "    alt.X('tau:Q').scale(type='log'),\n",
    "    alt.Y('mean(Co):Q'),\n",
    "    alt.Color('hour:N')\n",
    ") | alt.Chart(mrd_df.query(\"hour == '1600_1800'\")).mark_line().encode(\n",
    "    alt.X('tau:Q').scale(type='log'),\n",
    "    alt.Y('mean(Co):Q'),\n",
    "    alt.Color('hoursminutes(average_time):O').scale(scheme='purpleorange')\n",
    ")).resolve_scale(color='independent')"
   ]
  },
  {
   "cell_type": "code",
   "execution_count": null,
   "metadata": {},
   "outputs": [],
   "source": [
    "# '/Users/elischwat/Development/data/sublimationofsnow/sosqc_fast/isfs_sos_qc_geo_tiltcor_hr_20230419_02.nc',\n",
    "\n",
    "apr18_2000_u_w_mrd_df = calculate_mrd_for_df(\n",
    "    fast_data_files_to_dataframe([\n",
    "        '/Users/elischwat/Development/data/sublimationofsnow/sosqc_fast_old/isfs_sos_qc_geo_tiltcor_hr_20230419_02.nc',\n",
    "    ]).set_index('time')[['u_3m_c', 'v_3m_c', 'w_3m_c']].ffill().reset_index(), \n",
    "    'u_3m_c', \n",
    "    'w_3m_c', \n",
    "    shift = 200,\n",
    "    parallelism=8\n",
    ")\n",
    "apr18_2100_u_w_mrd_df = calculate_mrd_for_df(\n",
    "    fast_data_files_to_dataframe([\n",
    "        '/Users/elischwat/Development/data/sublimationofsnow/sosqc_fast_old/isfs_sos_qc_geo_tiltcor_hr_20230419_03.nc',\n",
    "    ]).set_index('time')[['u_3m_c', 'v_3m_c', 'w_3m_c']].ffill().reset_index(), \n",
    "    'u_3m_c', \n",
    "    'w_3m_c', \n",
    "    shift = 200,\n",
    "    parallelism=8\n",
    ")\n",
    "\n"
   ]
  },
  {
   "cell_type": "code",
   "execution_count": null,
   "metadata": {},
   "outputs": [],
   "source": [
    "mrd_df = pd.concat([\n",
    "    apr18_2000_u_w_mrd_df.assign(hour = 20),\n",
    "    apr18_2100_u_w_mrd_df.assign(hour = 21),\n",
    "])\n",
    "\n",
    "alt.Chart(mrd_df).mark_line().encode(\n",
    "    alt.X('tau:Q').scale(type='log'),\n",
    "    alt.Y('mean(Co):Q'),\n",
    "    alt.Color('iteration:Q'),\n",
    "    alt.Facet('hour:N')\n",
    ")"
   ]
  },
  {
   "cell_type": "markdown",
   "metadata": {},
   "source": [
    "# Load preprocessed spectra, compare across towers"
   ]
  },
  {
   "cell_type": "code",
   "execution_count": null,
   "metadata": {},
   "outputs": [],
   "source": [
    "spectra_mar04 = pd.read_parquet(\"/Users/elischwat/Development/data/sublimationofsnow/mrd/NOmrds/2023-03-04 14:00:00_2023-03-04 16:59:59.950000.parquet\")\n",
    "spectra_mar04['height'] = spectra_mar04['loc'].str.split('m').str[0].astype('int')\n",
    "spectra_mar04['tower'] = spectra_mar04['loc'].str.split('m_').str[1]\n",
    "spectra_mar04.covariance.unique()"
   ]
  },
  {
   "cell_type": "code",
   "execution_count": null,
   "metadata": {},
   "outputs": [],
   "source": [
    "(alt.layer(\n",
    "    base.mark_line().encode(alt.Y('mean(Co):Q').title(\"Co(u'w')\")),\n",
    "    base.mark_errorband(extent='iqr').encode(alt.Y('Co:Q').title(\"Co(u'w')\")),\n",
    "    data = spectra_mar04.query(\"covariance == 'w_tc_'\").query(\"height == 3\")\n",
    ").facet('height') | alt.layer(\n",
    "    base.mark_line().encode(alt.Y('mean(Co):Q').title(\"Co(v'w')\")),\n",
    "    base.mark_errorband(extent='iqr').encode(alt.Y('Co:Q').title(\"Co(v'w')\")),\n",
    "    data = spectra_mar04.query(\"covariance == 'w_h2o_'\").query(\"height == 3\")\n",
    ").facet('height') )"
   ]
  },
  {
   "cell_type": "code",
   "execution_count": null,
   "metadata": {},
   "outputs": [],
   "source": [
    "(alt.layer(\n",
    "    base.mark_line().encode(alt.Y('mean(Co):Q').title(\"Co(u'w')\")),\n",
    "    base.mark_errorband(extent='iqr').encode(alt.Y('Co:Q').title(\"Co(u'w')\")),\n",
    "    data = spectra_mar04.query(\"covariance == 'u_u_'\").query(\"height == 3\")\n",
    ").facet('height') | alt.layer(\n",
    "    base.mark_line().encode(alt.Y('mean(Co):Q').title(\"Co(v'w')\")),\n",
    "    base.mark_errorband(extent='iqr').encode(alt.Y('Co:Q').title(\"Co(v'w')\")),\n",
    "    data = spectra_mar04.query(\"covariance == 'v_v_'\").query(\"height == 3\")\n",
    ").facet('height') | alt.layer(\n",
    "    base.mark_line().encode(alt.Y('mean(Co):Q').title(\"Co(v'w')\")),\n",
    "    base.mark_errorband(extent='iqr').encode(alt.Y('Co:Q').title(\"Co(v'w')\")),\n",
    "    data = spectra_mar04.query(\"covariance == 'w_w_'\").query(\"height == 3\")\n",
    ").facet('height'))"
   ]
  },
  {
   "cell_type": "code",
   "execution_count": null,
   "metadata": {},
   "outputs": [],
   "source": [
    "alt.layer(\n",
    "    base.mark_line().encode(alt.Y('mean(Co):Q').title(\"Co(u'w')\")),\n",
    "    base.mark_errorband(extent='iqr').encode(alt.Y('Co:Q').title(\"Co(u'w')\")),\n",
    "    data = spectra_mar04.query(\"covariance == 'u_w_'\").query(\"height == 3\")\n",
    ").facet('height') | alt.layer(\n",
    "    base.mark_line().encode(alt.Y('mean(Co):Q').title(\"Co(v'w')\")),\n",
    "    base.mark_errorband(extent='iqr').encode(alt.Y('Co:Q').title(\"Co(v'w')\")),\n",
    "    data = spectra_mar04.query(\"covariance == 'v_w_'\").query(\"height == 3\")\n",
    ").facet('height') | alt.layer(\n",
    "    base.mark_line().encode(alt.Y('mean(Co):Q').title(\"Co(v'w')\")),\n",
    "    base.mark_errorband(extent='iqr').encode(alt.Y('Co:Q').title(\"Co(v'w')\")),\n",
    "    data = spectra_mar04.query(\"covariance == 'u_v_'\").query(\"height == 3\")\n",
    ").facet('height')"
   ]
  },
  {
   "cell_type": "code",
   "execution_count": null,
   "metadata": {},
   "outputs": [],
   "source": [
    "spectra_apr18 = pd.read_parquet(\"/Users/elischwat/Development/data/sublimationofsnow/mrd/NOmrds/2023-04-18 15:00:00_2023-04-18 17:59:59.950000.parquet\")\n",
    "spectra_apr18['height'] = spectra_apr18['loc'].str.split('m').str[0].astype('int')\n",
    "spectra_apr18['tower'] = spectra_apr18['loc'].str.split('m_').str[1]\n",
    "spectra_apr18.covariance.unique()\n",
    "\n",
    "base = alt.Chart().encode(\n",
    "    alt.X('tau:Q').scale(type='log'),\n",
    "    alt.Color('tower'),\n",
    ").properties(width=200, height=150)\n",
    "\n",
    "(alt.layer(\n",
    "    base.mark_line().encode(alt.Y('mean(Co):Q').title(\"Co(u'w')\")),\n",
    "    base.mark_errorband(extent='iqr').encode(alt.Y('Co:Q').title(\"Co(u'w')\")),\n",
    "    data = spectra_apr18.query(\"covariance == 'u_w_'\").query(\"height == 3\")\n",
    ").facet('height').properties(title='Apr 18') | alt.layer(\n",
    "    base.mark_line().encode(alt.Y('mean(Co):Q').title(\"Co(u'w')\")),\n",
    "    base.mark_errorband(extent='iqr').encode(alt.Y('Co:Q').title(\"Co(u'w')\")),\n",
    "    data = spectra_1221.query(\"covariance == 'u_w_'\").query(\"height == 3\")\n",
    ").facet('height').properties(title='Dec 21') | alt.layer(\n",
    "    base.mark_line().encode(alt.Y('mean(Co):Q').title(\"Co(u'w')\")),\n",
    "    base.mark_errorband(extent='iqr').encode(alt.Y('Co:Q').title(\"Co(u'w')\")),\n",
    "    data = spectra_apr09.query(\"covariance == 'u_w_'\").query(\"height == 3\")\n",
    ").facet('height').properties(title='Apr 09')).resolve_scale(y='shared', x='shared')"
   ]
  },
  {
   "cell_type": "code",
   "execution_count": null,
   "metadata": {},
   "outputs": [],
   "source": []
  },
  {
   "cell_type": "code",
   "execution_count": null,
   "metadata": {},
   "outputs": [],
   "source": []
  },
  {
   "cell_type": "code",
   "execution_count": null,
   "metadata": {},
   "outputs": [],
   "source": [
    "apr18_df = prep_fast_data([\n",
    "    '/Users/elischwat/Development/data/sublimationofsnow/sosqc_fast_old/isfs_sos_qc_geo_tiltcor_hr_20230418_21.nc',\n",
    "    '/Users/elischwat/Development/data/sublimationofsnow/sosqc_fast_old/isfs_sos_qc_geo_tiltcor_hr_20230418_22.nc',\n",
    "    '/Users/elischwat/Development/data/sublimationofsnow/sosqc_fast_old/isfs_sos_qc_geo_tiltcor_hr_20230418_23.nc',\n",
    "])"
   ]
  },
  {
   "cell_type": "code",
   "execution_count": null,
   "metadata": {},
   "outputs": [],
   "source": [
    "len(apr18_df.set_index('time')['u_3m_c']), len(apr18_df.set_index('time')['u_3m_c'].dropna())"
   ]
  },
  {
   "cell_type": "code",
   "execution_count": null,
   "metadata": {},
   "outputs": [],
   "source": [
    "len(apr18_df.set_index('time')['u_3m_d']), len(apr18_df.set_index('time')['u_3m_d'].dropna())"
   ]
  },
  {
   "cell_type": "code",
   "execution_count": null,
   "metadata": {},
   "outputs": [],
   "source": [
    "len(apr18_df.set_index('time')['u_3m_uw']), len(apr18_df.set_index('time')['u_3m_uw'].dropna())"
   ]
  },
  {
   "cell_type": "code",
   "execution_count": null,
   "metadata": {},
   "outputs": [],
   "source": [
    "len(apr18_df.set_index('time')['u_3m_ue']), len(apr18_df.set_index('time')['u_3m_ue'].dropna())"
   ]
  },
  {
   "cell_type": "code",
   "execution_count": null,
   "metadata": {},
   "outputs": [],
   "source": [
    "alt.layer(\n",
    "    base.mark_line().encode(alt.Y('mean(Co):Q').title(\"Co(u'w')\")),\n",
    "    base.mark_errorband(extent='iqr').encode(alt.Y('Co:Q').title(\"Co(u'w')\")),\n",
    "    data = spectra_apr18.query(\"covariance == 'u_w_'\").query(\"height == 3\")\n",
    ").facet('height').properties(title='Apr 18, 1500-1800')"
   ]
  },
  {
   "cell_type": "code",
   "execution_count": null,
   "metadata": {},
   "outputs": [],
   "source": [
    "spectra_1221 = pd.read_parquet(\"/Users/elischwat/Development/data/sublimationofsnow/mrd/NOmrds/2022-12-21 14:00:00_2022-12-21 16:59:59.950000.parquet\")\n",
    "spectra_1221['height'] = spectra_1221['loc'].str.split('m').str[0].astype('int')\n",
    "spectra_1221['tower'] = spectra_1221['loc'].str.split('m_').str[1]\n",
    "\n",
    "spectra_apr18 = pd.read_parquet(\"/Users/elischwat/Development/data/sublimationofsnow/mrd/NOmrds/2023-04-18 15:00:00_2023-04-18 17:59:59.950000_s1000.parquet\")\n",
    "spectra_apr18['height'] = spectra_apr18['loc'].str.split('m').str[0].astype('int')\n",
    "spectra_apr18['tower'] = spectra_apr18['loc'].str.split('m_').str[1]\n",
    "\n",
    "spectra_apr09 = pd.read_parquet(\"/Users/elischwat/Development/data/sublimationofsnow/mrd/NOmrds/2023-04-09 15:00:00_2023-04-09 17:59:59.950000.parquet\")\n",
    "spectra_apr09['height'] = spectra_apr09['loc'].str.split('m').str[0].astype('int')\n",
    "spectra_apr09['tower'] = spectra_apr09['loc'].str.split('m_').str[1]\n",
    "\n",
    "base = alt.Chart().encode(\n",
    "    alt.X('tau:Q').scale(type='log'),\n",
    "    alt.Color('tower'),\n",
    ").properties(width=200, height=150)\n",
    "\n",
    "(alt.layer(\n",
    "    base.mark_line().encode(alt.Y('mean(Co):Q').title(\"Co(u'w')\")),\n",
    "    base.mark_errorband(extent='iqr').encode(alt.Y('Co:Q').title(\"Co(u'w')\")),\n",
    "    data = spectra_apr18.query(\"covariance == 'u_w_'\").query(\"height == 10\")\n",
    ").facet('height').properties(title='Apr 18') |\n",
    "alt.layer(\n",
    "    base.mark_line().encode(alt.Y('mean(Co):Q').title(\"Co(u'w')\")),\n",
    "    base.mark_errorband(extent='iqr').encode(alt.Y('Co:Q').title(\"Co(u'w')\")),\n",
    "    data = spectra_apr09.query(\"covariance == 'u_w_'\").query(\"height == 10\")\n",
    ").facet('height').properties(title='Apr 09')).resolve_scale(x='shared')"
   ]
  },
  {
   "cell_type": "code",
   "execution_count": null,
   "metadata": {},
   "outputs": [],
   "source": [
    "alt.Chart(\n",
    "    sos_df_localtime.query(\"measurement == 'wind speed'\").query(\"tower == 'c'\").set_index('time').sort_index().loc['20230409 1200': '20230409 1500'].reset_index()\n",
    ").mark_line().encode(\n",
    "    alt.X('value:Q'),\n",
    "    alt.Y('height:Q'),\n",
    "    alt.Facet('time:T'),\n",
    "    order='height'\n",
    ").properties(width=100, height=150)"
   ]
  },
  {
   "cell_type": "code",
   "execution_count": null,
   "metadata": {},
   "outputs": [],
   "source": [
    "base = alt.Chart().mark_line().encode(\n",
    "    alt.X('time:T'),\n",
    "    # alt.Y('rolling_median:Q')\n",
    "    alt.Y('value:Q')\n",
    ").properties(width=200, height=150)\n",
    "(\n",
    "alt.layer(base, data=sos_df_localtime.query(\"variable == 'L_3m_c'\").set_index('time').loc['20230418'].reset_index()) |\\\n",
    "alt.layer(base, data=sos_df_localtime.query(\"variable == 'L_3m_c'\").set_index('time').loc['20221221'].reset_index()) |\\\n",
    "alt.layer(base, data=sos_df_localtime.query(\"variable == 'L_3m_c'\").set_index('time').loc['20230409'].reset_index())\n",
    ").resolve_scale(y='shared')"
   ]
  },
  {
   "cell_type": "code",
   "execution_count": null,
   "metadata": {},
   "outputs": [],
   "source": [
    "base = alt.Chart().mark_line().encode(\n",
    "    alt.X('time:T'),\n",
    "    alt.Y('value:Q'),\n",
    "    alt.Color('height:N')\n",
    ").properties(width=200, height=150)\n",
    "sos_dir_data = sos_df_localtime[\n",
    "    sos_df_localtime.variable.isin(['dir_3m_c', 'dir_20m_c'])\n",
    "].set_index('time')\n",
    "\n",
    "(\n",
    "    alt.layer(base, data=sos_dir_data.loc['20230418'].reset_index()) |\\\n",
    "    alt.layer(base, data=sos_dir_data.loc['20221221'].reset_index()) |\\\n",
    "    alt.layer(base, data=sos_dir_data.loc['20230409'].reset_index()) |\\\n",
    "    alt.layer(base, data=sos_dir_data.loc['20230304'].reset_index()) \n",
    ").resolve_scale(y='shared')"
   ]
  },
  {
   "cell_type": "markdown",
   "metadata": {},
   "source": [
    "# Get mrds for all days (1500-1800) with consistent winds"
   ]
  },
  {
   "cell_type": "code",
   "execution_count": null,
   "metadata": {},
   "outputs": [],
   "source": [
    "import tqdm"
   ]
  },
  {
   "cell_type": "code",
   "execution_count": null,
   "metadata": {},
   "outputs": [],
   "source": [
    "mrds_processed_data = {}\n",
    "\n",
    "# for d in tqdm.tqdm(days_with_consistent_1500_1800_winds):\n",
    "for d in tqdm.tqdm([d for d in days_with_consistent_1500_1800_winds if d.month == 4]):\n",
    "    day_str = str(d).replace('-','')\n",
    "    mrds_processed_data[day_str] = process_mrds_for_files([\n",
    "        f'/Users/elischwat/Development/data/sublimationofsnow/sosqc_fast/isfs_sos_qc_geo_tiltcor_hr_{day_str}_21.nc',\n",
    "        f'/Users/elischwat/Development/data/sublimationofsnow/sosqc_fast/isfs_sos_qc_geo_tiltcor_hr_{day_str}_22.nc',\n",
    "        f'/Users/elischwat/Development/data/sublimationofsnow/sosqc_fast/isfs_sos_qc_geo_tiltcor_hr_{day_str}_23.nc',\n",
    "    ])"
   ]
  },
  {
   "cell_type": "code",
   "execution_count": null,
   "metadata": {},
   "outputs": [],
   "source": [
    "len(mrds_processed_data)"
   ]
  }
 ],
 "metadata": {
  "kernelspec": {
   "display_name": "arm",
   "language": "python",
   "name": "python3"
  },
  "language_info": {
   "codemirror_mode": {
    "name": "ipython",
    "version": 3
   },
   "file_extension": ".py",
   "mimetype": "text/x-python",
   "name": "python",
   "nbconvert_exporter": "python",
   "pygments_lexer": "ipython3",
   "version": "3.12.5"
  },
  "orig_nbformat": 4,
  "vscode": {
   "interpreter": {
    "hash": "e2b11a00ad1b97cabcd9cc9209b8824a0fcaf6ffe37b5243943912873b5dcab1"
   }
  }
 },
 "nbformat": 4,
 "nbformat_minor": 2
}
