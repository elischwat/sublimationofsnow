{
 "cells": [
  {
   "cell_type": "code",
   "execution_count": null,
   "metadata": {},
   "outputs": [],
   "source": [
    "import os\n",
    "import numpy as np\n",
    "import pandas as pd\n",
    "import xarray as xr\n",
    "import altair as alt\n",
    "alt.data_transformers.disable_max_rows()\n",
    "alt.display.renderers.enable('svg')\n",
    "import matplotlib.pyplot as plt\n",
    "\n",
    "import act\n",
    "import act.discovery, act.io\n",
    "\n",
    "import metpy.calc, metpy.constants\n",
    "from metpy.units import units\n",
    "import glob\n",
    "from tqdm import tqdm\n",
    "from sublimpy import utils"
   ]
  },
  {
   "cell_type": "code",
   "execution_count": null,
   "metadata": {},
   "outputs": [],
   "source": [
    "data_dir = \"/Users/elischwat/Development/data/sublimationofsnow/\"\n",
    "# for SAIL data queries\n",
    "username = os.getenv(\"ARM_USERNAME\")\n",
    "token = os.getenv(\"ARM_TOKEN\")\n",
    "DATE_FORMAT_STR = '%Y-%m-%d'"
   ]
  },
  {
   "cell_type": "markdown",
   "metadata": {},
   "source": [
    "# Observations"
   ]
  },
  {
   "cell_type": "markdown",
   "metadata": {},
   "source": [
    "## SOS towers"
   ]
  },
  {
   "cell_type": "code",
   "execution_count": null,
   "metadata": {},
   "outputs": [],
   "source": [
    "sos_fn = '../paper1/process_slow_data/tidy_df_20221101_20230619_planar_fit_multiplane_q7_flags9000_pf10.parquet'\n",
    "sos_df = pd.read_parquet(sos_fn)"
   ]
  },
  {
   "cell_type": "code",
   "execution_count": null,
   "metadata": {},
   "outputs": [],
   "source": [
    "src = sos_df[sos_df.variable.isin([\n",
    "        'P_10m_c',\n",
    "        'T_3m_c',\n",
    "        'RH_10m_c',\n",
    "        'spd_10m_c',\n",
    "        'tke_10m_c'\n",
    "    ])]\n",
    "src = src.set_index('time').sort_index().loc['20230418']"
   ]
  },
  {
   "cell_type": "code",
   "execution_count": null,
   "metadata": {},
   "outputs": [],
   "source": [
    "alt.Chart(\n",
    "    src.reset_index()\n",
    ").mark_line().encode(\n",
    "    alt.X('time:T'),\n",
    "    alt.Y('value:Q').scale(zero=False),\n",
    "    alt.Row('variable:N'),\n",
    ").resolve_scale(y='independent').properties(width=400, height = 133)"
   ]
  },
  {
   "cell_type": "code",
   "execution_count": null,
   "metadata": {},
   "outputs": [],
   "source": [
    "sos_df.variable.unique()"
   ]
  },
  {
   "cell_type": "code",
   "execution_count": null,
   "metadata": {},
   "outputs": [],
   "source": [
    "src = sos_df[sos_df.measurement.isin(['u_u_', 'v_v_', 'w_w_'])].query(\"tower == 'c'\")\n",
    "src = src[src.height.isin([3,10,20])]\n",
    "src = utils.modify_df_timezone(src, 'UTC', 'US/Mountain')\n",
    "base = alt.Chart().mark_line().encode(\n",
    "    alt.X('time:T'),\n",
    "    alt.Y('value:Q'),\n",
    "    alt.Color('height:O').scale(scheme='viridis'),\n",
    "    alt.StrokeDash('measurement:N')\n",
    ").properties(width=600)\n",
    "alt.layer(base, data=src.set_index('time').sort_index().loc['20230415': '20230415'].reset_index()) &\\\n",
    "alt.layer(base, data=src.set_index('time').sort_index().loc['20230418': '20230418'].reset_index())"
   ]
  },
  {
   "cell_type": "markdown",
   "metadata": {},
   "source": [
    "## Radiosonde"
   ]
  },
  {
   "cell_type": "code",
   "execution_count": null,
   "metadata": {},
   "outputs": [],
   "source": [
    "username = os.getenv(\"ARM_USERNAME\")\n",
    "token = os.getenv(\"ARM_TOKEN\")"
   ]
  },
  {
   "cell_type": "markdown",
   "metadata": {},
   "source": []
  },
  {
   "cell_type": "code",
   "execution_count": null,
   "metadata": {},
   "outputs": [],
   "source": [
    "# Define the data code and date range\n",
    "data_code = 'gucsondewnpnM1.b1'\n",
    "start_date = '2023-04-18'\n",
    "end_date = '2023-04-18'\n"
   ]
  },
  {
   "cell_type": "code",
   "execution_count": null,
   "metadata": {},
   "outputs": [],
   "source": [
    "# # Download the data\n",
    "# files = act.discovery.download_arm_data(\n",
    "#     username,\n",
    "#     token,\n",
    "#     data_code,\n",
    "#     start_date,\n",
    "#     end_date,\n",
    "#     output = os.path.join(data_dir, \"gucsondewnpnM1.b1\")\n",
    "# )"
   ]
  },
  {
   "cell_type": "code",
   "execution_count": 113,
   "metadata": {},
   "outputs": [],
   "source": [
    "sonde_morn = xr.open_dataset(os.path.join(os.path.join(data_dir, \"gucsondewnpnM1.b1\", \"gucsondewnpnM1.b1.20230418.113100.cdf\")))\n",
    "sonde_day = xr.open_dataset(os.path.join(os.path.join(data_dir, \"gucsondewnpnM1.b1\", \"gucsondewnpnM1.b1.20230418.232900.cdf\")))"
   ]
  },
  {
   "cell_type": "code",
   "execution_count": 114,
   "metadata": {},
   "outputs": [],
   "source": [
    "sonde_morn['tpot'] = metpy.calc.potential_temperature(\n",
    "    sonde_morn['pres'] * units(sonde_morn['pres'].units),\n",
    "    sonde_morn['tdry'] * units(sonde_morn['tdry'].units),\n",
    ")\n",
    "sonde_day['tpot'] = metpy.calc.potential_temperature(\n",
    "    sonde_day['pres'] * units(sonde_day['pres'].units),\n",
    "    sonde_day['tdry'] * units(sonde_day['tdry'].units),\n",
    ")"
   ]
  },
  {
   "cell_type": "code",
   "execution_count": 115,
   "metadata": {},
   "outputs": [
    {
     "data": {
      "text/html": [
       "<div><svg style=\"position: absolute; width: 0; height: 0; overflow: hidden\">\n",
       "<defs>\n",
       "<symbol id=\"icon-database\" viewBox=\"0 0 32 32\">\n",
       "<path d=\"M16 0c-8.837 0-16 2.239-16 5v4c0 2.761 7.163 5 16 5s16-2.239 16-5v-4c0-2.761-7.163-5-16-5z\"></path>\n",
       "<path d=\"M16 17c-8.837 0-16-2.239-16-5v6c0 2.761 7.163 5 16 5s16-2.239 16-5v-6c0 2.761-7.163 5-16 5z\"></path>\n",
       "<path d=\"M16 26c-8.837 0-16-2.239-16-5v6c0 2.761 7.163 5 16 5s16-2.239 16-5v-6c0 2.761-7.163 5-16 5z\"></path>\n",
       "</symbol>\n",
       "<symbol id=\"icon-file-text2\" viewBox=\"0 0 32 32\">\n",
       "<path d=\"M28.681 7.159c-0.694-0.947-1.662-2.053-2.724-3.116s-2.169-2.030-3.116-2.724c-1.612-1.182-2.393-1.319-2.841-1.319h-15.5c-1.378 0-2.5 1.121-2.5 2.5v27c0 1.378 1.122 2.5 2.5 2.5h23c1.378 0 2.5-1.122 2.5-2.5v-19.5c0-0.448-0.137-1.23-1.319-2.841zM24.543 5.457c0.959 0.959 1.712 1.825 2.268 2.543h-4.811v-4.811c0.718 0.556 1.584 1.309 2.543 2.268zM28 29.5c0 0.271-0.229 0.5-0.5 0.5h-23c-0.271 0-0.5-0.229-0.5-0.5v-27c0-0.271 0.229-0.5 0.5-0.5 0 0 15.499-0 15.5 0v7c0 0.552 0.448 1 1 1h7v19.5z\"></path>\n",
       "<path d=\"M23 26h-14c-0.552 0-1-0.448-1-1s0.448-1 1-1h14c0.552 0 1 0.448 1 1s-0.448 1-1 1z\"></path>\n",
       "<path d=\"M23 22h-14c-0.552 0-1-0.448-1-1s0.448-1 1-1h14c0.552 0 1 0.448 1 1s-0.448 1-1 1z\"></path>\n",
       "<path d=\"M23 18h-14c-0.552 0-1-0.448-1-1s0.448-1 1-1h14c0.552 0 1 0.448 1 1s-0.448 1-1 1z\"></path>\n",
       "</symbol>\n",
       "</defs>\n",
       "</svg>\n",
       "<style>/* CSS stylesheet for displaying xarray objects in jupyterlab.\n",
       " *\n",
       " */\n",
       "\n",
       ":root {\n",
       "  --xr-font-color0: var(--jp-content-font-color0, rgba(0, 0, 0, 1));\n",
       "  --xr-font-color2: var(--jp-content-font-color2, rgba(0, 0, 0, 0.54));\n",
       "  --xr-font-color3: var(--jp-content-font-color3, rgba(0, 0, 0, 0.38));\n",
       "  --xr-border-color: var(--jp-border-color2, #e0e0e0);\n",
       "  --xr-disabled-color: var(--jp-layout-color3, #bdbdbd);\n",
       "  --xr-background-color: var(--jp-layout-color0, white);\n",
       "  --xr-background-color-row-even: var(--jp-layout-color1, white);\n",
       "  --xr-background-color-row-odd: var(--jp-layout-color2, #eeeeee);\n",
       "}\n",
       "\n",
       "html[theme=dark],\n",
       "html[data-theme=dark],\n",
       "body[data-theme=dark],\n",
       "body.vscode-dark {\n",
       "  --xr-font-color0: rgba(255, 255, 255, 1);\n",
       "  --xr-font-color2: rgba(255, 255, 255, 0.54);\n",
       "  --xr-font-color3: rgba(255, 255, 255, 0.38);\n",
       "  --xr-border-color: #1F1F1F;\n",
       "  --xr-disabled-color: #515151;\n",
       "  --xr-background-color: #111111;\n",
       "  --xr-background-color-row-even: #111111;\n",
       "  --xr-background-color-row-odd: #313131;\n",
       "}\n",
       "\n",
       ".xr-wrap {\n",
       "  display: block !important;\n",
       "  min-width: 300px;\n",
       "  max-width: 700px;\n",
       "}\n",
       "\n",
       ".xr-text-repr-fallback {\n",
       "  /* fallback to plain text repr when CSS is not injected (untrusted notebook) */\n",
       "  display: none;\n",
       "}\n",
       "\n",
       ".xr-header {\n",
       "  padding-top: 6px;\n",
       "  padding-bottom: 6px;\n",
       "  margin-bottom: 4px;\n",
       "  border-bottom: solid 1px var(--xr-border-color);\n",
       "}\n",
       "\n",
       ".xr-header > div,\n",
       ".xr-header > ul {\n",
       "  display: inline;\n",
       "  margin-top: 0;\n",
       "  margin-bottom: 0;\n",
       "}\n",
       "\n",
       ".xr-obj-type,\n",
       ".xr-array-name {\n",
       "  margin-left: 2px;\n",
       "  margin-right: 10px;\n",
       "}\n",
       "\n",
       ".xr-obj-type {\n",
       "  color: var(--xr-font-color2);\n",
       "}\n",
       "\n",
       ".xr-sections {\n",
       "  padding-left: 0 !important;\n",
       "  display: grid;\n",
       "  grid-template-columns: 150px auto auto 1fr 0 20px 0 20px;\n",
       "}\n",
       "\n",
       ".xr-section-item {\n",
       "  display: contents;\n",
       "}\n",
       "\n",
       ".xr-section-item input {\n",
       "  display: inline-block;\n",
       "  opacity: 0;\n",
       "}\n",
       "\n",
       ".xr-section-item input + label {\n",
       "  color: var(--xr-disabled-color);\n",
       "}\n",
       "\n",
       ".xr-section-item input:enabled + label {\n",
       "  cursor: pointer;\n",
       "  color: var(--xr-font-color2);\n",
       "}\n",
       "\n",
       ".xr-section-item input:focus + label {\n",
       "  border: 2px solid var(--xr-font-color0);\n",
       "}\n",
       "\n",
       ".xr-section-item input:enabled + label:hover {\n",
       "  color: var(--xr-font-color0);\n",
       "}\n",
       "\n",
       ".xr-section-summary {\n",
       "  grid-column: 1;\n",
       "  color: var(--xr-font-color2);\n",
       "  font-weight: 500;\n",
       "}\n",
       "\n",
       ".xr-section-summary > span {\n",
       "  display: inline-block;\n",
       "  padding-left: 0.5em;\n",
       "}\n",
       "\n",
       ".xr-section-summary-in:disabled + label {\n",
       "  color: var(--xr-font-color2);\n",
       "}\n",
       "\n",
       ".xr-section-summary-in + label:before {\n",
       "  display: inline-block;\n",
       "  content: '►';\n",
       "  font-size: 11px;\n",
       "  width: 15px;\n",
       "  text-align: center;\n",
       "}\n",
       "\n",
       ".xr-section-summary-in:disabled + label:before {\n",
       "  color: var(--xr-disabled-color);\n",
       "}\n",
       "\n",
       ".xr-section-summary-in:checked + label:before {\n",
       "  content: '▼';\n",
       "}\n",
       "\n",
       ".xr-section-summary-in:checked + label > span {\n",
       "  display: none;\n",
       "}\n",
       "\n",
       ".xr-section-summary,\n",
       ".xr-section-inline-details {\n",
       "  padding-top: 4px;\n",
       "  padding-bottom: 4px;\n",
       "}\n",
       "\n",
       ".xr-section-inline-details {\n",
       "  grid-column: 2 / -1;\n",
       "}\n",
       "\n",
       ".xr-section-details {\n",
       "  display: none;\n",
       "  grid-column: 1 / -1;\n",
       "  margin-bottom: 5px;\n",
       "}\n",
       "\n",
       ".xr-section-summary-in:checked ~ .xr-section-details {\n",
       "  display: contents;\n",
       "}\n",
       "\n",
       ".xr-array-wrap {\n",
       "  grid-column: 1 / -1;\n",
       "  display: grid;\n",
       "  grid-template-columns: 20px auto;\n",
       "}\n",
       "\n",
       ".xr-array-wrap > label {\n",
       "  grid-column: 1;\n",
       "  vertical-align: top;\n",
       "}\n",
       "\n",
       ".xr-preview {\n",
       "  color: var(--xr-font-color3);\n",
       "}\n",
       "\n",
       ".xr-array-preview,\n",
       ".xr-array-data {\n",
       "  padding: 0 5px !important;\n",
       "  grid-column: 2;\n",
       "}\n",
       "\n",
       ".xr-array-data,\n",
       ".xr-array-in:checked ~ .xr-array-preview {\n",
       "  display: none;\n",
       "}\n",
       "\n",
       ".xr-array-in:checked ~ .xr-array-data,\n",
       ".xr-array-preview {\n",
       "  display: inline-block;\n",
       "}\n",
       "\n",
       ".xr-dim-list {\n",
       "  display: inline-block !important;\n",
       "  list-style: none;\n",
       "  padding: 0 !important;\n",
       "  margin: 0;\n",
       "}\n",
       "\n",
       ".xr-dim-list li {\n",
       "  display: inline-block;\n",
       "  padding: 0;\n",
       "  margin: 0;\n",
       "}\n",
       "\n",
       ".xr-dim-list:before {\n",
       "  content: '(';\n",
       "}\n",
       "\n",
       ".xr-dim-list:after {\n",
       "  content: ')';\n",
       "}\n",
       "\n",
       ".xr-dim-list li:not(:last-child):after {\n",
       "  content: ',';\n",
       "  padding-right: 5px;\n",
       "}\n",
       "\n",
       ".xr-has-index {\n",
       "  font-weight: bold;\n",
       "}\n",
       "\n",
       ".xr-var-list,\n",
       ".xr-var-item {\n",
       "  display: contents;\n",
       "}\n",
       "\n",
       ".xr-var-item > div,\n",
       ".xr-var-item label,\n",
       ".xr-var-item > .xr-var-name span {\n",
       "  background-color: var(--xr-background-color-row-even);\n",
       "  margin-bottom: 0;\n",
       "}\n",
       "\n",
       ".xr-var-item > .xr-var-name:hover span {\n",
       "  padding-right: 5px;\n",
       "}\n",
       "\n",
       ".xr-var-list > li:nth-child(odd) > div,\n",
       ".xr-var-list > li:nth-child(odd) > label,\n",
       ".xr-var-list > li:nth-child(odd) > .xr-var-name span {\n",
       "  background-color: var(--xr-background-color-row-odd);\n",
       "}\n",
       "\n",
       ".xr-var-name {\n",
       "  grid-column: 1;\n",
       "}\n",
       "\n",
       ".xr-var-dims {\n",
       "  grid-column: 2;\n",
       "}\n",
       "\n",
       ".xr-var-dtype {\n",
       "  grid-column: 3;\n",
       "  text-align: right;\n",
       "  color: var(--xr-font-color2);\n",
       "}\n",
       "\n",
       ".xr-var-preview {\n",
       "  grid-column: 4;\n",
       "}\n",
       "\n",
       ".xr-index-preview {\n",
       "  grid-column: 2 / 5;\n",
       "  color: var(--xr-font-color2);\n",
       "}\n",
       "\n",
       ".xr-var-name,\n",
       ".xr-var-dims,\n",
       ".xr-var-dtype,\n",
       ".xr-preview,\n",
       ".xr-attrs dt {\n",
       "  white-space: nowrap;\n",
       "  overflow: hidden;\n",
       "  text-overflow: ellipsis;\n",
       "  padding-right: 10px;\n",
       "}\n",
       "\n",
       ".xr-var-name:hover,\n",
       ".xr-var-dims:hover,\n",
       ".xr-var-dtype:hover,\n",
       ".xr-attrs dt:hover {\n",
       "  overflow: visible;\n",
       "  width: auto;\n",
       "  z-index: 1;\n",
       "}\n",
       "\n",
       ".xr-var-attrs,\n",
       ".xr-var-data,\n",
       ".xr-index-data {\n",
       "  display: none;\n",
       "  background-color: var(--xr-background-color) !important;\n",
       "  padding-bottom: 5px !important;\n",
       "}\n",
       "\n",
       ".xr-var-attrs-in:checked ~ .xr-var-attrs,\n",
       ".xr-var-data-in:checked ~ .xr-var-data,\n",
       ".xr-index-data-in:checked ~ .xr-index-data {\n",
       "  display: block;\n",
       "}\n",
       "\n",
       ".xr-var-data > table {\n",
       "  float: right;\n",
       "}\n",
       "\n",
       ".xr-var-name span,\n",
       ".xr-var-data,\n",
       ".xr-index-name div,\n",
       ".xr-index-data,\n",
       ".xr-attrs {\n",
       "  padding-left: 25px !important;\n",
       "}\n",
       "\n",
       ".xr-attrs,\n",
       ".xr-var-attrs,\n",
       ".xr-var-data,\n",
       ".xr-index-data {\n",
       "  grid-column: 1 / -1;\n",
       "}\n",
       "\n",
       "dl.xr-attrs {\n",
       "  padding: 0;\n",
       "  margin: 0;\n",
       "  display: grid;\n",
       "  grid-template-columns: 125px auto;\n",
       "}\n",
       "\n",
       ".xr-attrs dt,\n",
       ".xr-attrs dd {\n",
       "  padding: 0;\n",
       "  margin: 0;\n",
       "  float: left;\n",
       "  padding-right: 10px;\n",
       "  width: auto;\n",
       "}\n",
       "\n",
       ".xr-attrs dt {\n",
       "  font-weight: normal;\n",
       "  grid-column: 1;\n",
       "}\n",
       "\n",
       ".xr-attrs dt:hover span {\n",
       "  display: inline-block;\n",
       "  background: var(--xr-background-color);\n",
       "  padding-right: 10px;\n",
       "}\n",
       "\n",
       ".xr-attrs dd {\n",
       "  grid-column: 2;\n",
       "  white-space: pre-wrap;\n",
       "  word-break: break-all;\n",
       "}\n",
       "\n",
       ".xr-icon-database,\n",
       ".xr-icon-file-text2,\n",
       ".xr-no-icon {\n",
       "  display: inline-block;\n",
       "  vertical-align: middle;\n",
       "  width: 1em;\n",
       "  height: 1.5em !important;\n",
       "  stroke-width: 0;\n",
       "  stroke: currentColor;\n",
       "  fill: currentColor;\n",
       "}\n",
       "</style><pre class='xr-text-repr-fallback'>&lt;xarray.Dataset&gt; Size: 419kB\n",
       "Dimensions:      (time: 3881)\n",
       "Coordinates:\n",
       "  * time         (time) datetime64[ns] 31kB 2023-04-18T23:29:00 ... 2023-04-1...\n",
       "Data variables: (12/25)\n",
       "    base_time    datetime64[ns] 8B ...\n",
       "    time_offset  (time) datetime64[ns] 31kB ...\n",
       "    pres         (time) float32 16kB 707.2 706.7 706.3 ... 37.21 37.18 37.16\n",
       "    qc_pres      (time) int32 16kB ...\n",
       "    tdry         (time) float32 16kB 6.6 6.73 6.91 6.94 ... -58.08 -58.11 -58.13\n",
       "    qc_tdry      (time) int32 16kB ...\n",
       "    ...           ...\n",
       "    asc          (time) float32 16kB ...\n",
       "    qc_asc       (time) int32 16kB ...\n",
       "    lat          (time) float32 16kB ...\n",
       "    lon          (time) float32 16kB ...\n",
       "    alt          (time) float32 16kB ...\n",
       "    tpot         (time) float32 16kB &lt;Quantity([308.8574  309.05963 309.30966...\n",
       "Attributes: (12/32)\n",
       "    command_line:               sonde_ingest -s guc -f M1\n",
       "    Conventions:                ARM-1.2\n",
       "    process_version:            ingest-sonde-10.14-1.el7\n",
       "    dod_version:                sondewnpn-b1-2.3\n",
       "    input_source:               /data/collection/guc/gucsondeM1.00/good.2023A...\n",
       "    site_id:                    guc\n",
       "    ...                         ...\n",
       "    latitude_calculation:       lat[k-1]+((v_wind[k]-v_wind[k-1])/2)*delta_ti...\n",
       "    longitude_calculation:      lon[k-1]+((u_wind[k]-u_wind[k-1])/2)*delta_ti...\n",
       "    sonde_pc_software_version:  2.17\n",
       "    sounding_number:            ///\n",
       "    doi:                        10.5439/1595321\n",
       "    history:                    created by user dsmgr on machine prod-proc2.a...</pre><div class='xr-wrap' style='display:none'><div class='xr-header'><div class='xr-obj-type'>xarray.Dataset</div></div><ul class='xr-sections'><li class='xr-section-item'><input id='section-a12285ae-8792-4d79-96ae-458886e83908' class='xr-section-summary-in' type='checkbox' disabled ><label for='section-a12285ae-8792-4d79-96ae-458886e83908' class='xr-section-summary'  title='Expand/collapse section'>Dimensions:</label><div class='xr-section-inline-details'><ul class='xr-dim-list'><li><span class='xr-has-index'>time</span>: 3881</li></ul></div><div class='xr-section-details'></div></li><li class='xr-section-item'><input id='section-908910d4-8050-455d-a6da-540b604f6f32' class='xr-section-summary-in' type='checkbox'  checked><label for='section-908910d4-8050-455d-a6da-540b604f6f32' class='xr-section-summary' >Coordinates: <span>(1)</span></label><div class='xr-section-inline-details'></div><div class='xr-section-details'><ul class='xr-var-list'><li class='xr-var-item'><div class='xr-var-name'><span class='xr-has-index'>time</span></div><div class='xr-var-dims'>(time)</div><div class='xr-var-dtype'>datetime64[ns]</div><div class='xr-var-preview xr-preview'>2023-04-18T23:29:00 ... 2023-04-...</div><input id='attrs-49868e64-74bb-40ff-819c-e4cdb6757aae' class='xr-var-attrs-in' type='checkbox' ><label for='attrs-49868e64-74bb-40ff-819c-e4cdb6757aae' title='Show/Hide attributes'><svg class='icon xr-icon-file-text2'><use xlink:href='#icon-file-text2'></use></svg></label><input id='data-daffa1c4-c848-4e59-8721-b37ae934e706' class='xr-var-data-in' type='checkbox'><label for='data-daffa1c4-c848-4e59-8721-b37ae934e706' title='Show/Hide data repr'><svg class='icon xr-icon-database'><use xlink:href='#icon-database'></use></svg></label><div class='xr-var-attrs'><dl class='xr-attrs'><dt><span>long_name :</span></dt><dd>Time offset from midnight</dd><dt><span>standard_name :</span></dt><dd>time</dd></dl></div><div class='xr-var-data'><pre>array([&#x27;2023-04-18T23:29:00.000000000&#x27;, &#x27;2023-04-18T23:29:02.000000000&#x27;,\n",
       "       &#x27;2023-04-18T23:29:03.000000000&#x27;, ..., &#x27;2023-04-19T00:34:44.000000000&#x27;,\n",
       "       &#x27;2023-04-19T00:34:45.000000000&#x27;, &#x27;2023-04-19T00:34:46.000000000&#x27;],\n",
       "      dtype=&#x27;datetime64[ns]&#x27;)</pre></div></li></ul></div></li><li class='xr-section-item'><input id='section-d0fa1e4f-aeff-42c6-8ed0-526d76349d51' class='xr-section-summary-in' type='checkbox'  ><label for='section-d0fa1e4f-aeff-42c6-8ed0-526d76349d51' class='xr-section-summary' >Data variables: <span>(25)</span></label><div class='xr-section-inline-details'></div><div class='xr-section-details'><ul class='xr-var-list'><li class='xr-var-item'><div class='xr-var-name'><span>base_time</span></div><div class='xr-var-dims'>()</div><div class='xr-var-dtype'>datetime64[ns]</div><div class='xr-var-preview xr-preview'>...</div><input id='attrs-396a98b4-07a8-417b-8967-10b01b2a2880' class='xr-var-attrs-in' type='checkbox' ><label for='attrs-396a98b4-07a8-417b-8967-10b01b2a2880' title='Show/Hide attributes'><svg class='icon xr-icon-file-text2'><use xlink:href='#icon-file-text2'></use></svg></label><input id='data-b60861f8-0c78-4bdf-be6d-ef0fe06bcabe' class='xr-var-data-in' type='checkbox'><label for='data-b60861f8-0c78-4bdf-be6d-ef0fe06bcabe' title='Show/Hide data repr'><svg class='icon xr-icon-database'><use xlink:href='#icon-database'></use></svg></label><div class='xr-var-attrs'><dl class='xr-attrs'><dt><span>string :</span></dt><dd>2023-04-18 00:00:00 0:00</dd><dt><span>long_name :</span></dt><dd>Base time in Epoch</dd><dt><span>ancillary_variables :</span></dt><dd>time_offset</dd></dl></div><div class='xr-var-data'><pre>[1 values with dtype=datetime64[ns]]</pre></div></li><li class='xr-var-item'><div class='xr-var-name'><span>time_offset</span></div><div class='xr-var-dims'>(time)</div><div class='xr-var-dtype'>datetime64[ns]</div><div class='xr-var-preview xr-preview'>...</div><input id='attrs-d9b6fe4b-351d-4f1c-b545-1cd143d607c1' class='xr-var-attrs-in' type='checkbox' ><label for='attrs-d9b6fe4b-351d-4f1c-b545-1cd143d607c1' title='Show/Hide attributes'><svg class='icon xr-icon-file-text2'><use xlink:href='#icon-file-text2'></use></svg></label><input id='data-2be9e7a2-f9d2-4b6b-8315-aef63f4a6c50' class='xr-var-data-in' type='checkbox'><label for='data-2be9e7a2-f9d2-4b6b-8315-aef63f4a6c50' title='Show/Hide data repr'><svg class='icon xr-icon-database'><use xlink:href='#icon-database'></use></svg></label><div class='xr-var-attrs'><dl class='xr-attrs'><dt><span>long_name :</span></dt><dd>Time offset from base_time</dd><dt><span>ancillary_variables :</span></dt><dd>base_time</dd></dl></div><div class='xr-var-data'><pre>[3881 values with dtype=datetime64[ns]]</pre></div></li><li class='xr-var-item'><div class='xr-var-name'><span>pres</span></div><div class='xr-var-dims'>(time)</div><div class='xr-var-dtype'>float32</div><div class='xr-var-preview xr-preview'>707.2 706.7 706.3 ... 37.18 37.16</div><input id='attrs-0e196bb0-dd43-4222-bf80-be936eec6a3d' class='xr-var-attrs-in' type='checkbox' ><label for='attrs-0e196bb0-dd43-4222-bf80-be936eec6a3d' title='Show/Hide attributes'><svg class='icon xr-icon-file-text2'><use xlink:href='#icon-file-text2'></use></svg></label><input id='data-568709c3-8c79-4b76-a756-bfc653cb5624' class='xr-var-data-in' type='checkbox'><label for='data-568709c3-8c79-4b76-a756-bfc653cb5624' title='Show/Hide data repr'><svg class='icon xr-icon-database'><use xlink:href='#icon-database'></use></svg></label><div class='xr-var-attrs'><dl class='xr-attrs'><dt><span>long_name :</span></dt><dd>Pressure</dd><dt><span>units :</span></dt><dd>hPa</dd><dt><span>valid_min :</span></dt><dd>0.0</dd><dt><span>valid_max :</span></dt><dd>1100.0</dd><dt><span>valid_delta :</span></dt><dd>10.0</dd><dt><span>resolution :</span></dt><dd>0.1</dd><dt><span>standard_name :</span></dt><dd>air_pressure</dd><dt><span>ancillary_variables :</span></dt><dd>qc_pres</dd></dl></div><div class='xr-var-data'><pre>array([707.2 , 706.73, 706.32, ...,  37.21,  37.18,  37.16], dtype=float32)</pre></div></li><li class='xr-var-item'><div class='xr-var-name'><span>qc_pres</span></div><div class='xr-var-dims'>(time)</div><div class='xr-var-dtype'>int32</div><div class='xr-var-preview xr-preview'>...</div><input id='attrs-ab79136b-1458-42ac-9093-65f5a35ea4f1' class='xr-var-attrs-in' type='checkbox' ><label for='attrs-ab79136b-1458-42ac-9093-65f5a35ea4f1' title='Show/Hide attributes'><svg class='icon xr-icon-file-text2'><use xlink:href='#icon-file-text2'></use></svg></label><input id='data-49141565-3732-4e6f-9d12-413587cf9d58' class='xr-var-data-in' type='checkbox'><label for='data-49141565-3732-4e6f-9d12-413587cf9d58' title='Show/Hide data repr'><svg class='icon xr-icon-database'><use xlink:href='#icon-database'></use></svg></label><div class='xr-var-attrs'><dl class='xr-attrs'><dt><span>long_name :</span></dt><dd>Quality check results on field: Pressure</dd><dt><span>units :</span></dt><dd>1</dd><dt><span>description :</span></dt><dd>This field contains bit packed integer values, where each bit represents a QC test on the data. Non-zero bits indicate the QC condition given in the description for those bits; a value of 0 (no bits set) indicates the data has not failed any QC tests.</dd><dt><span>flag_method :</span></dt><dd>bit</dd><dt><span>bit_1_description :</span></dt><dd>Value is equal to missing_value.</dd><dt><span>bit_1_assessment :</span></dt><dd>Bad</dd><dt><span>bit_2_description :</span></dt><dd>Value is less than valid_min.</dd><dt><span>bit_2_assessment :</span></dt><dd>Bad</dd><dt><span>bit_3_description :</span></dt><dd>Value is greater than valid_max.</dd><dt><span>bit_3_assessment :</span></dt><dd>Bad</dd><dt><span>bit_4_description :</span></dt><dd>Difference between current and previous values exceeds valid_delta.</dd><dt><span>bit_4_assessment :</span></dt><dd>Indeterminate</dd></dl></div><div class='xr-var-data'><pre>[3881 values with dtype=int32]</pre></div></li><li class='xr-var-item'><div class='xr-var-name'><span>tdry</span></div><div class='xr-var-dims'>(time)</div><div class='xr-var-dtype'>float32</div><div class='xr-var-preview xr-preview'>6.6 6.73 6.91 ... -58.11 -58.13</div><input id='attrs-741cf0bc-9904-4f94-b2b3-6703d84db475' class='xr-var-attrs-in' type='checkbox' ><label for='attrs-741cf0bc-9904-4f94-b2b3-6703d84db475' title='Show/Hide attributes'><svg class='icon xr-icon-file-text2'><use xlink:href='#icon-file-text2'></use></svg></label><input id='data-3318fbc6-7f11-4f59-bc98-b0251386bb9f' class='xr-var-data-in' type='checkbox'><label for='data-3318fbc6-7f11-4f59-bc98-b0251386bb9f' title='Show/Hide data repr'><svg class='icon xr-icon-database'><use xlink:href='#icon-database'></use></svg></label><div class='xr-var-attrs'><dl class='xr-attrs'><dt><span>long_name :</span></dt><dd>Dry Bulb Temperature</dd><dt><span>units :</span></dt><dd>degC</dd><dt><span>valid_min :</span></dt><dd>-90.0</dd><dt><span>valid_max :</span></dt><dd>50.0</dd><dt><span>valid_delta :</span></dt><dd>10.0</dd><dt><span>resolution :</span></dt><dd>0.1</dd><dt><span>ancillary_variables :</span></dt><dd>qc_tdry</dd><dt><span>standard_name :</span></dt><dd>air_temperature</dd></dl></div><div class='xr-var-data'><pre>array([  6.6 ,   6.73,   6.91, ..., -58.08, -58.11, -58.13], dtype=float32)</pre></div></li><li class='xr-var-item'><div class='xr-var-name'><span>qc_tdry</span></div><div class='xr-var-dims'>(time)</div><div class='xr-var-dtype'>int32</div><div class='xr-var-preview xr-preview'>...</div><input id='attrs-0fa8fc5e-6b8c-4ef5-ab5e-46f7eae5c4b7' class='xr-var-attrs-in' type='checkbox' ><label for='attrs-0fa8fc5e-6b8c-4ef5-ab5e-46f7eae5c4b7' title='Show/Hide attributes'><svg class='icon xr-icon-file-text2'><use xlink:href='#icon-file-text2'></use></svg></label><input id='data-05245dd7-5a2c-475e-9359-5c4575ae51cd' class='xr-var-data-in' type='checkbox'><label for='data-05245dd7-5a2c-475e-9359-5c4575ae51cd' title='Show/Hide data repr'><svg class='icon xr-icon-database'><use xlink:href='#icon-database'></use></svg></label><div class='xr-var-attrs'><dl class='xr-attrs'><dt><span>long_name :</span></dt><dd>Quality check results on field: Dry Bulb Temperature</dd><dt><span>units :</span></dt><dd>1</dd><dt><span>description :</span></dt><dd>This field contains bit packed integer values, where each bit represents a QC test on the data. Non-zero bits indicate the QC condition given in the description for those bits; a value of 0 (no bits set) indicates the data has not failed any QC tests.</dd><dt><span>flag_method :</span></dt><dd>bit</dd><dt><span>bit_1_description :</span></dt><dd>Value is equal to missing_value.</dd><dt><span>bit_1_assessment :</span></dt><dd>Bad</dd><dt><span>bit_2_description :</span></dt><dd>Value is less than valid_min.</dd><dt><span>bit_2_assessment :</span></dt><dd>Bad</dd><dt><span>bit_3_description :</span></dt><dd>Value is greater than valid_max.</dd><dt><span>bit_3_assessment :</span></dt><dd>Bad</dd><dt><span>bit_4_description :</span></dt><dd>Difference between current and previous values exceeds valid_delta.</dd><dt><span>bit_4_assessment :</span></dt><dd>Indeterminate</dd></dl></div><div class='xr-var-data'><pre>[3881 values with dtype=int32]</pre></div></li><li class='xr-var-item'><div class='xr-var-name'><span>dp</span></div><div class='xr-var-dims'>(time)</div><div class='xr-var-dtype'>float32</div><div class='xr-var-preview xr-preview'>...</div><input id='attrs-1c3cb6b1-326c-45df-b74d-1847cf4fa292' class='xr-var-attrs-in' type='checkbox' ><label for='attrs-1c3cb6b1-326c-45df-b74d-1847cf4fa292' title='Show/Hide attributes'><svg class='icon xr-icon-file-text2'><use xlink:href='#icon-file-text2'></use></svg></label><input id='data-af6f9411-4b0d-46f8-a19b-53e3283ef273' class='xr-var-data-in' type='checkbox'><label for='data-af6f9411-4b0d-46f8-a19b-53e3283ef273' title='Show/Hide data repr'><svg class='icon xr-icon-database'><use xlink:href='#icon-database'></use></svg></label><div class='xr-var-attrs'><dl class='xr-attrs'><dt><span>long_name :</span></dt><dd>Dewpoint Temperature</dd><dt><span>units :</span></dt><dd>degC</dd><dt><span>valid_min :</span></dt><dd>-110.0</dd><dt><span>valid_max :</span></dt><dd>50.0</dd><dt><span>resolution :</span></dt><dd>0.1</dd><dt><span>standard_name :</span></dt><dd>dew_point_temperature</dd><dt><span>ancillary_variables :</span></dt><dd>qc_dp</dd></dl></div><div class='xr-var-data'><pre>[3881 values with dtype=float32]</pre></div></li><li class='xr-var-item'><div class='xr-var-name'><span>qc_dp</span></div><div class='xr-var-dims'>(time)</div><div class='xr-var-dtype'>int32</div><div class='xr-var-preview xr-preview'>...</div><input id='attrs-736a8a03-ba66-4e0c-9d44-e22ab8188113' class='xr-var-attrs-in' type='checkbox' ><label for='attrs-736a8a03-ba66-4e0c-9d44-e22ab8188113' title='Show/Hide attributes'><svg class='icon xr-icon-file-text2'><use xlink:href='#icon-file-text2'></use></svg></label><input id='data-b8cf90ca-bcb3-4d88-a371-6614633d7b40' class='xr-var-data-in' type='checkbox'><label for='data-b8cf90ca-bcb3-4d88-a371-6614633d7b40' title='Show/Hide data repr'><svg class='icon xr-icon-database'><use xlink:href='#icon-database'></use></svg></label><div class='xr-var-attrs'><dl class='xr-attrs'><dt><span>long_name :</span></dt><dd>Quality check results on field: Dewpoint Temperature</dd><dt><span>units :</span></dt><dd>1</dd><dt><span>description :</span></dt><dd>This field contains bit packed integer values, where each bit represents a QC test on the data. Non-zero bits indicate the QC condition given in the description for those bits; a value of 0 (no bits set) indicates the data has not failed any QC tests.</dd><dt><span>flag_method :</span></dt><dd>bit</dd><dt><span>bit_1_description :</span></dt><dd>Value is equal to missing_value.</dd><dt><span>bit_1_assessment :</span></dt><dd>Bad</dd><dt><span>bit_2_description :</span></dt><dd>Value is less than valid_min.</dd><dt><span>bit_2_assessment :</span></dt><dd>Bad</dd><dt><span>bit_3_description :</span></dt><dd>Value is greater than valid_max.</dd><dt><span>bit_3_assessment :</span></dt><dd>Bad</dd></dl></div><div class='xr-var-data'><pre>[3881 values with dtype=int32]</pre></div></li><li class='xr-var-item'><div class='xr-var-name'><span>wspd</span></div><div class='xr-var-dims'>(time)</div><div class='xr-var-dtype'>float32</div><div class='xr-var-preview xr-preview'>...</div><input id='attrs-9a5f6a27-1126-4568-acd0-c544ca47fb35' class='xr-var-attrs-in' type='checkbox' ><label for='attrs-9a5f6a27-1126-4568-acd0-c544ca47fb35' title='Show/Hide attributes'><svg class='icon xr-icon-file-text2'><use xlink:href='#icon-file-text2'></use></svg></label><input id='data-e040f70b-2f2b-4fcd-b48d-925bf8c0b70d' class='xr-var-data-in' type='checkbox'><label for='data-e040f70b-2f2b-4fcd-b48d-925bf8c0b70d' title='Show/Hide data repr'><svg class='icon xr-icon-database'><use xlink:href='#icon-database'></use></svg></label><div class='xr-var-attrs'><dl class='xr-attrs'><dt><span>long_name :</span></dt><dd>Wind Speed</dd><dt><span>units :</span></dt><dd>m/s</dd><dt><span>valid_min :</span></dt><dd>0.0</dd><dt><span>valid_max :</span></dt><dd>100.0</dd><dt><span>resolution :</span></dt><dd>0.1</dd><dt><span>standard_name :</span></dt><dd>wind_speed</dd><dt><span>ancillary_variables :</span></dt><dd>qc_wspd</dd></dl></div><div class='xr-var-data'><pre>[3881 values with dtype=float32]</pre></div></li><li class='xr-var-item'><div class='xr-var-name'><span>qc_wspd</span></div><div class='xr-var-dims'>(time)</div><div class='xr-var-dtype'>int32</div><div class='xr-var-preview xr-preview'>...</div><input id='attrs-9c5abf27-2ebd-4c85-8e83-8788a19c8808' class='xr-var-attrs-in' type='checkbox' ><label for='attrs-9c5abf27-2ebd-4c85-8e83-8788a19c8808' title='Show/Hide attributes'><svg class='icon xr-icon-file-text2'><use xlink:href='#icon-file-text2'></use></svg></label><input id='data-bb010789-8b0c-45ac-9a09-87c028e08f0b' class='xr-var-data-in' type='checkbox'><label for='data-bb010789-8b0c-45ac-9a09-87c028e08f0b' title='Show/Hide data repr'><svg class='icon xr-icon-database'><use xlink:href='#icon-database'></use></svg></label><div class='xr-var-attrs'><dl class='xr-attrs'><dt><span>long_name :</span></dt><dd>Quality check results on field: Wind Speed</dd><dt><span>units :</span></dt><dd>1</dd><dt><span>description :</span></dt><dd>This field contains bit packed integer values, where each bit represents a QC test on the data. Non-zero bits indicate the QC condition given in the description for those bits; a value of 0 (no bits set) indicates the data has not failed any QC tests.</dd><dt><span>flag_method :</span></dt><dd>bit</dd><dt><span>bit_1_description :</span></dt><dd>Value is equal to missing_value.</dd><dt><span>bit_1_assessment :</span></dt><dd>Bad</dd><dt><span>bit_2_description :</span></dt><dd>Value is less than valid_min.</dd><dt><span>bit_2_assessment :</span></dt><dd>Bad</dd><dt><span>bit_3_description :</span></dt><dd>Value is greater than valid_max.</dd><dt><span>bit_3_assessment :</span></dt><dd>Bad</dd></dl></div><div class='xr-var-data'><pre>[3881 values with dtype=int32]</pre></div></li><li class='xr-var-item'><div class='xr-var-name'><span>deg</span></div><div class='xr-var-dims'>(time)</div><div class='xr-var-dtype'>float32</div><div class='xr-var-preview xr-preview'>...</div><input id='attrs-5836e0b5-6f2d-4e56-b881-2fa5ed207dfa' class='xr-var-attrs-in' type='checkbox' ><label for='attrs-5836e0b5-6f2d-4e56-b881-2fa5ed207dfa' title='Show/Hide attributes'><svg class='icon xr-icon-file-text2'><use xlink:href='#icon-file-text2'></use></svg></label><input id='data-fb75305e-65a5-4976-93d8-13684d7d652a' class='xr-var-data-in' type='checkbox'><label for='data-fb75305e-65a5-4976-93d8-13684d7d652a' title='Show/Hide data repr'><svg class='icon xr-icon-database'><use xlink:href='#icon-database'></use></svg></label><div class='xr-var-attrs'><dl class='xr-attrs'><dt><span>long_name :</span></dt><dd>Wind Direction</dd><dt><span>units :</span></dt><dd>degree</dd><dt><span>valid_min :</span></dt><dd>0.0</dd><dt><span>valid_max :</span></dt><dd>360.0</dd><dt><span>resolution :</span></dt><dd>1.0</dd><dt><span>standard_name :</span></dt><dd>wind_from_direction</dd><dt><span>ancillary_variables :</span></dt><dd>qc_deg</dd></dl></div><div class='xr-var-data'><pre>[3881 values with dtype=float32]</pre></div></li><li class='xr-var-item'><div class='xr-var-name'><span>qc_deg</span></div><div class='xr-var-dims'>(time)</div><div class='xr-var-dtype'>int32</div><div class='xr-var-preview xr-preview'>...</div><input id='attrs-c63884d2-608a-4e0b-95c8-bf60487b2997' class='xr-var-attrs-in' type='checkbox' ><label for='attrs-c63884d2-608a-4e0b-95c8-bf60487b2997' title='Show/Hide attributes'><svg class='icon xr-icon-file-text2'><use xlink:href='#icon-file-text2'></use></svg></label><input id='data-98df5869-3106-46b3-8235-ddbd9d478dbf' class='xr-var-data-in' type='checkbox'><label for='data-98df5869-3106-46b3-8235-ddbd9d478dbf' title='Show/Hide data repr'><svg class='icon xr-icon-database'><use xlink:href='#icon-database'></use></svg></label><div class='xr-var-attrs'><dl class='xr-attrs'><dt><span>long_name :</span></dt><dd>Quality check results on field: Wind Direction</dd><dt><span>units :</span></dt><dd>1</dd><dt><span>description :</span></dt><dd>This field contains bit packed integer values, where each bit represents a QC test on the data. Non-zero bits indicate the QC condition given in the description for those bits; a value of 0 (no bits set) indicates the data has not failed any QC tests.</dd><dt><span>flag_method :</span></dt><dd>bit</dd><dt><span>bit_1_description :</span></dt><dd>Value is equal to missing_value.</dd><dt><span>bit_1_assessment :</span></dt><dd>Bad</dd><dt><span>bit_2_description :</span></dt><dd>Value is less than valid_min.</dd><dt><span>bit_2_assessment :</span></dt><dd>Bad</dd><dt><span>bit_3_description :</span></dt><dd>Value is greater than valid_max.</dd><dt><span>bit_3_assessment :</span></dt><dd>Bad</dd></dl></div><div class='xr-var-data'><pre>[3881 values with dtype=int32]</pre></div></li><li class='xr-var-item'><div class='xr-var-name'><span>rh</span></div><div class='xr-var-dims'>(time)</div><div class='xr-var-dtype'>float32</div><div class='xr-var-preview xr-preview'>...</div><input id='attrs-1e49bc18-5f54-4fbb-8b3b-334b451d6876' class='xr-var-attrs-in' type='checkbox' ><label for='attrs-1e49bc18-5f54-4fbb-8b3b-334b451d6876' title='Show/Hide attributes'><svg class='icon xr-icon-file-text2'><use xlink:href='#icon-file-text2'></use></svg></label><input id='data-ad1b2d47-51d0-4d16-9624-d8cbfc2d02d4' class='xr-var-data-in' type='checkbox'><label for='data-ad1b2d47-51d0-4d16-9624-d8cbfc2d02d4' title='Show/Hide data repr'><svg class='icon xr-icon-database'><use xlink:href='#icon-database'></use></svg></label><div class='xr-var-attrs'><dl class='xr-attrs'><dt><span>long_name :</span></dt><dd>Relative Humidity</dd><dt><span>units :</span></dt><dd>%</dd><dt><span>valid_min :</span></dt><dd>0.0</dd><dt><span>valid_max :</span></dt><dd>100.0</dd><dt><span>resolution :</span></dt><dd>1.0</dd><dt><span>standard_name :</span></dt><dd>relative_humidity</dd><dt><span>ancillary_variables :</span></dt><dd>qc_rh</dd></dl></div><div class='xr-var-data'><pre>[3881 values with dtype=float32]</pre></div></li><li class='xr-var-item'><div class='xr-var-name'><span>qc_rh</span></div><div class='xr-var-dims'>(time)</div><div class='xr-var-dtype'>int32</div><div class='xr-var-preview xr-preview'>...</div><input id='attrs-cd4c5570-cfbb-41f4-b062-c70d2323644e' class='xr-var-attrs-in' type='checkbox' ><label for='attrs-cd4c5570-cfbb-41f4-b062-c70d2323644e' title='Show/Hide attributes'><svg class='icon xr-icon-file-text2'><use xlink:href='#icon-file-text2'></use></svg></label><input id='data-a5c44176-5905-4f3c-bc79-d18ad4ce1693' class='xr-var-data-in' type='checkbox'><label for='data-a5c44176-5905-4f3c-bc79-d18ad4ce1693' title='Show/Hide data repr'><svg class='icon xr-icon-database'><use xlink:href='#icon-database'></use></svg></label><div class='xr-var-attrs'><dl class='xr-attrs'><dt><span>long_name :</span></dt><dd>Quality check results on field: Relative Humidity</dd><dt><span>units :</span></dt><dd>1</dd><dt><span>description :</span></dt><dd>This field contains bit packed integer values, where each bit represents a QC test on the data. Non-zero bits indicate the QC condition given in the description for those bits; a value of 0 (no bits set) indicates the data has not failed any QC tests.</dd><dt><span>flag_method :</span></dt><dd>bit</dd><dt><span>bit_1_description :</span></dt><dd>Value is equal to missing_value.</dd><dt><span>bit_1_assessment :</span></dt><dd>Bad</dd><dt><span>bit_2_description :</span></dt><dd>Value is less than valid_min.</dd><dt><span>bit_2_assessment :</span></dt><dd>Bad</dd><dt><span>bit_3_description :</span></dt><dd>Value is greater than valid_max.</dd><dt><span>bit_3_assessment :</span></dt><dd>Bad</dd></dl></div><div class='xr-var-data'><pre>[3881 values with dtype=int32]</pre></div></li><li class='xr-var-item'><div class='xr-var-name'><span>u_wind</span></div><div class='xr-var-dims'>(time)</div><div class='xr-var-dtype'>float32</div><div class='xr-var-preview xr-preview'>...</div><input id='attrs-6edb207c-f56c-4194-8879-45cd5da7aec4' class='xr-var-attrs-in' type='checkbox' ><label for='attrs-6edb207c-f56c-4194-8879-45cd5da7aec4' title='Show/Hide attributes'><svg class='icon xr-icon-file-text2'><use xlink:href='#icon-file-text2'></use></svg></label><input id='data-2544300f-aac7-4835-9315-1d94973b1279' class='xr-var-data-in' type='checkbox'><label for='data-2544300f-aac7-4835-9315-1d94973b1279' title='Show/Hide data repr'><svg class='icon xr-icon-database'><use xlink:href='#icon-database'></use></svg></label><div class='xr-var-attrs'><dl class='xr-attrs'><dt><span>long_name :</span></dt><dd>Eastward Wind Component</dd><dt><span>units :</span></dt><dd>m/s</dd><dt><span>valid_min :</span></dt><dd>-75.0</dd><dt><span>valid_max :</span></dt><dd>75.0</dd><dt><span>valid_delta :</span></dt><dd>5.0</dd><dt><span>resolution :</span></dt><dd>0.1</dd><dt><span>calculation :</span></dt><dd>(-1.0 * sin(wind direction) * wind speed)</dd><dt><span>standard_name :</span></dt><dd>eastward_wind</dd><dt><span>ancillary_variables :</span></dt><dd>qc_u_wind</dd></dl></div><div class='xr-var-data'><pre>[3881 values with dtype=float32]</pre></div></li><li class='xr-var-item'><div class='xr-var-name'><span>qc_u_wind</span></div><div class='xr-var-dims'>(time)</div><div class='xr-var-dtype'>int32</div><div class='xr-var-preview xr-preview'>...</div><input id='attrs-e5e656ed-c2fc-4f8d-9b5c-f1de9b09c7d8' class='xr-var-attrs-in' type='checkbox' ><label for='attrs-e5e656ed-c2fc-4f8d-9b5c-f1de9b09c7d8' title='Show/Hide attributes'><svg class='icon xr-icon-file-text2'><use xlink:href='#icon-file-text2'></use></svg></label><input id='data-14ed0cd1-0c68-4cfb-9485-653178372a58' class='xr-var-data-in' type='checkbox'><label for='data-14ed0cd1-0c68-4cfb-9485-653178372a58' title='Show/Hide data repr'><svg class='icon xr-icon-database'><use xlink:href='#icon-database'></use></svg></label><div class='xr-var-attrs'><dl class='xr-attrs'><dt><span>long_name :</span></dt><dd>Quality check results on field: Eastward Wind Component</dd><dt><span>units :</span></dt><dd>1</dd><dt><span>description :</span></dt><dd>This field contains bit packed integer values, where each bit represents a QC test on the data. Non-zero bits indicate the QC condition given in the description for those bits; a value of 0 (no bits set) indicates the data has not failed any QC tests.</dd><dt><span>flag_method :</span></dt><dd>bit</dd><dt><span>bit_1_description :</span></dt><dd>Value is equal to missing_value.</dd><dt><span>bit_1_assessment :</span></dt><dd>Bad</dd><dt><span>bit_2_description :</span></dt><dd>Value is less than valid_min.</dd><dt><span>bit_2_assessment :</span></dt><dd>Bad</dd><dt><span>bit_3_description :</span></dt><dd>Value is greater than valid_max.</dd><dt><span>bit_3_assessment :</span></dt><dd>Bad</dd><dt><span>bit_4_description :</span></dt><dd>Difference between current and previous values exceeds valid_delta.</dd><dt><span>bit_4_assessment :</span></dt><dd>Indeterminate</dd></dl></div><div class='xr-var-data'><pre>[3881 values with dtype=int32]</pre></div></li><li class='xr-var-item'><div class='xr-var-name'><span>v_wind</span></div><div class='xr-var-dims'>(time)</div><div class='xr-var-dtype'>float32</div><div class='xr-var-preview xr-preview'>...</div><input id='attrs-f9871384-d668-4903-b5f2-06285eb6dd7e' class='xr-var-attrs-in' type='checkbox' ><label for='attrs-f9871384-d668-4903-b5f2-06285eb6dd7e' title='Show/Hide attributes'><svg class='icon xr-icon-file-text2'><use xlink:href='#icon-file-text2'></use></svg></label><input id='data-edccf9eb-7947-45e8-90f1-567e27594992' class='xr-var-data-in' type='checkbox'><label for='data-edccf9eb-7947-45e8-90f1-567e27594992' title='Show/Hide data repr'><svg class='icon xr-icon-database'><use xlink:href='#icon-database'></use></svg></label><div class='xr-var-attrs'><dl class='xr-attrs'><dt><span>long_name :</span></dt><dd>Northward Wind Component</dd><dt><span>units :</span></dt><dd>m/s</dd><dt><span>valid_min :</span></dt><dd>-75.0</dd><dt><span>valid_max :</span></dt><dd>75.0</dd><dt><span>valid_delta :</span></dt><dd>5.0</dd><dt><span>resolution :</span></dt><dd>0.1</dd><dt><span>calculation :</span></dt><dd>(-1.0 * cos(wind direction) * wind speed)</dd><dt><span>standard_name :</span></dt><dd>northward_wind</dd><dt><span>ancillary_variables :</span></dt><dd>qc_v_wind</dd></dl></div><div class='xr-var-data'><pre>[3881 values with dtype=float32]</pre></div></li><li class='xr-var-item'><div class='xr-var-name'><span>qc_v_wind</span></div><div class='xr-var-dims'>(time)</div><div class='xr-var-dtype'>int32</div><div class='xr-var-preview xr-preview'>...</div><input id='attrs-17943ca8-696b-45b1-9023-efa14cfaa785' class='xr-var-attrs-in' type='checkbox' ><label for='attrs-17943ca8-696b-45b1-9023-efa14cfaa785' title='Show/Hide attributes'><svg class='icon xr-icon-file-text2'><use xlink:href='#icon-file-text2'></use></svg></label><input id='data-0e325ce0-d742-49c2-ac67-223a83d9dfcc' class='xr-var-data-in' type='checkbox'><label for='data-0e325ce0-d742-49c2-ac67-223a83d9dfcc' title='Show/Hide data repr'><svg class='icon xr-icon-database'><use xlink:href='#icon-database'></use></svg></label><div class='xr-var-attrs'><dl class='xr-attrs'><dt><span>long_name :</span></dt><dd>Quality check results on field: Northward Wind Component</dd><dt><span>units :</span></dt><dd>1</dd><dt><span>description :</span></dt><dd>This field contains bit packed integer values, where each bit represents a QC test on the data. Non-zero bits indicate the QC condition given in the description for those bits; a value of 0 (no bits set) indicates the data has not failed any QC tests.</dd><dt><span>flag_method :</span></dt><dd>bit</dd><dt><span>bit_1_description :</span></dt><dd>Value is equal to missing_value.</dd><dt><span>bit_1_assessment :</span></dt><dd>Bad</dd><dt><span>bit_2_description :</span></dt><dd>Value is less than valid_min.</dd><dt><span>bit_2_assessment :</span></dt><dd>Bad</dd><dt><span>bit_3_description :</span></dt><dd>Value is greater than valid_max.</dd><dt><span>bit_3_assessment :</span></dt><dd>Bad</dd><dt><span>bit_4_description :</span></dt><dd>Difference between current and previous values exceeds valid_delta.</dd><dt><span>bit_4_assessment :</span></dt><dd>Indeterminate</dd></dl></div><div class='xr-var-data'><pre>[3881 values with dtype=int32]</pre></div></li><li class='xr-var-item'><div class='xr-var-name'><span>wstat</span></div><div class='xr-var-dims'>(time)</div><div class='xr-var-dtype'>float32</div><div class='xr-var-preview xr-preview'>...</div><input id='attrs-95b2381a-5d37-49ea-bffe-c36fa2df0f42' class='xr-var-attrs-in' type='checkbox' ><label for='attrs-95b2381a-5d37-49ea-bffe-c36fa2df0f42' title='Show/Hide attributes'><svg class='icon xr-icon-file-text2'><use xlink:href='#icon-file-text2'></use></svg></label><input id='data-f94890ff-cf05-47bc-a6fe-2344f489afe4' class='xr-var-data-in' type='checkbox'><label for='data-f94890ff-cf05-47bc-a6fe-2344f489afe4' title='Show/Hide data repr'><svg class='icon xr-icon-database'><use xlink:href='#icon-database'></use></svg></label><div class='xr-var-attrs'><dl class='xr-attrs'><dt><span>long_name :</span></dt><dd>Wind Status</dd><dt><span>units :</span></dt><dd>1</dd></dl></div><div class='xr-var-data'><pre>[3881 values with dtype=float32]</pre></div></li><li class='xr-var-item'><div class='xr-var-name'><span>asc</span></div><div class='xr-var-dims'>(time)</div><div class='xr-var-dtype'>float32</div><div class='xr-var-preview xr-preview'>...</div><input id='attrs-d9158a6d-04af-475c-adf4-d10f6ad761d0' class='xr-var-attrs-in' type='checkbox' ><label for='attrs-d9158a6d-04af-475c-adf4-d10f6ad761d0' title='Show/Hide attributes'><svg class='icon xr-icon-file-text2'><use xlink:href='#icon-file-text2'></use></svg></label><input id='data-53e37ff0-bb72-4aea-b281-d4071e6d6a06' class='xr-var-data-in' type='checkbox'><label for='data-53e37ff0-bb72-4aea-b281-d4071e6d6a06' title='Show/Hide data repr'><svg class='icon xr-icon-database'><use xlink:href='#icon-database'></use></svg></label><div class='xr-var-attrs'><dl class='xr-attrs'><dt><span>long_name :</span></dt><dd>Ascent Rate</dd><dt><span>units :</span></dt><dd>m/s</dd><dt><span>valid_min :</span></dt><dd>-10.0</dd><dt><span>valid_max :</span></dt><dd>20.0</dd><dt><span>valid_delta :</span></dt><dd>5.0</dd><dt><span>resolution :</span></dt><dd>0.1</dd><dt><span>ancillary_variables :</span></dt><dd>qc_asc</dd></dl></div><div class='xr-var-data'><pre>[3881 values with dtype=float32]</pre></div></li><li class='xr-var-item'><div class='xr-var-name'><span>qc_asc</span></div><div class='xr-var-dims'>(time)</div><div class='xr-var-dtype'>int32</div><div class='xr-var-preview xr-preview'>...</div><input id='attrs-06fd226c-8bd0-4bde-8135-1ffa7ab1efff' class='xr-var-attrs-in' type='checkbox' ><label for='attrs-06fd226c-8bd0-4bde-8135-1ffa7ab1efff' title='Show/Hide attributes'><svg class='icon xr-icon-file-text2'><use xlink:href='#icon-file-text2'></use></svg></label><input id='data-73154a92-d6f1-4216-850a-b2e25d480fa1' class='xr-var-data-in' type='checkbox'><label for='data-73154a92-d6f1-4216-850a-b2e25d480fa1' title='Show/Hide data repr'><svg class='icon xr-icon-database'><use xlink:href='#icon-database'></use></svg></label><div class='xr-var-attrs'><dl class='xr-attrs'><dt><span>long_name :</span></dt><dd>Quality check results on field: Ascent Rate</dd><dt><span>units :</span></dt><dd>1</dd><dt><span>description :</span></dt><dd>This field contains bit packed integer values, where each bit represents a QC test on the data. Non-zero bits indicate the QC condition given in the description for those bits; a value of 0 (no bits set) indicates the data has not failed any QC tests.</dd><dt><span>flag_method :</span></dt><dd>bit</dd><dt><span>bit_1_description :</span></dt><dd>Value is equal to missing_value.</dd><dt><span>bit_1_assessment :</span></dt><dd>Bad</dd><dt><span>bit_2_description :</span></dt><dd>Value is less than valid_min.</dd><dt><span>bit_2_assessment :</span></dt><dd>Bad</dd><dt><span>bit_3_description :</span></dt><dd>Value is greater than valid_max.</dd><dt><span>bit_3_assessment :</span></dt><dd>Bad</dd></dl></div><div class='xr-var-data'><pre>[3881 values with dtype=int32]</pre></div></li><li class='xr-var-item'><div class='xr-var-name'><span>lat</span></div><div class='xr-var-dims'>(time)</div><div class='xr-var-dtype'>float32</div><div class='xr-var-preview xr-preview'>...</div><input id='attrs-f3ae528e-7d1c-43eb-bb84-c4a81ddbb01e' class='xr-var-attrs-in' type='checkbox' ><label for='attrs-f3ae528e-7d1c-43eb-bb84-c4a81ddbb01e' title='Show/Hide attributes'><svg class='icon xr-icon-file-text2'><use xlink:href='#icon-file-text2'></use></svg></label><input id='data-b7b45c42-b918-4562-b3a0-1f9045fe673c' class='xr-var-data-in' type='checkbox'><label for='data-b7b45c42-b918-4562-b3a0-1f9045fe673c' title='Show/Hide data repr'><svg class='icon xr-icon-database'><use xlink:href='#icon-database'></use></svg></label><div class='xr-var-attrs'><dl class='xr-attrs'><dt><span>long_name :</span></dt><dd>North latitude</dd><dt><span>units :</span></dt><dd>degree_N</dd><dt><span>valid_min :</span></dt><dd>-90.0</dd><dt><span>valid_max :</span></dt><dd>90.0</dd><dt><span>standard_name :</span></dt><dd>latitude</dd></dl></div><div class='xr-var-data'><pre>[3881 values with dtype=float32]</pre></div></li><li class='xr-var-item'><div class='xr-var-name'><span>lon</span></div><div class='xr-var-dims'>(time)</div><div class='xr-var-dtype'>float32</div><div class='xr-var-preview xr-preview'>...</div><input id='attrs-a96d71b7-025a-454e-86f5-087df65f8f05' class='xr-var-attrs-in' type='checkbox' ><label for='attrs-a96d71b7-025a-454e-86f5-087df65f8f05' title='Show/Hide attributes'><svg class='icon xr-icon-file-text2'><use xlink:href='#icon-file-text2'></use></svg></label><input id='data-d984ea80-c5bb-4dd4-a07c-a4429efb45c0' class='xr-var-data-in' type='checkbox'><label for='data-d984ea80-c5bb-4dd4-a07c-a4429efb45c0' title='Show/Hide data repr'><svg class='icon xr-icon-database'><use xlink:href='#icon-database'></use></svg></label><div class='xr-var-attrs'><dl class='xr-attrs'><dt><span>long_name :</span></dt><dd>East longitude</dd><dt><span>units :</span></dt><dd>degree_E</dd><dt><span>valid_min :</span></dt><dd>-180.0</dd><dt><span>valid_max :</span></dt><dd>180.0</dd><dt><span>standard_name :</span></dt><dd>longitude</dd></dl></div><div class='xr-var-data'><pre>[3881 values with dtype=float32]</pre></div></li><li class='xr-var-item'><div class='xr-var-name'><span>alt</span></div><div class='xr-var-dims'>(time)</div><div class='xr-var-dtype'>float32</div><div class='xr-var-preview xr-preview'>...</div><input id='attrs-045cd357-8df1-463f-8c67-77f06d55510e' class='xr-var-attrs-in' type='checkbox' ><label for='attrs-045cd357-8df1-463f-8c67-77f06d55510e' title='Show/Hide attributes'><svg class='icon xr-icon-file-text2'><use xlink:href='#icon-file-text2'></use></svg></label><input id='data-9ec119b6-0601-4dd0-bbce-5245c48fa3ab' class='xr-var-data-in' type='checkbox'><label for='data-9ec119b6-0601-4dd0-bbce-5245c48fa3ab' title='Show/Hide data repr'><svg class='icon xr-icon-database'><use xlink:href='#icon-database'></use></svg></label><div class='xr-var-attrs'><dl class='xr-attrs'><dt><span>long_name :</span></dt><dd>Altitude above mean sea level</dd><dt><span>units :</span></dt><dd>m</dd><dt><span>standard_name :</span></dt><dd>altitude</dd></dl></div><div class='xr-var-data'><pre>[3881 values with dtype=float32]</pre></div></li><li class='xr-var-item'><div class='xr-var-name'><span>tpot</span></div><div class='xr-var-dims'>(time)</div><div class='xr-var-dtype'>float32</div><div class='xr-var-preview xr-preview'>&lt;Quantity([308.8574  309.05963 3...</div><input id='attrs-53afc184-48c0-408f-888a-f9585eeac19e' class='xr-var-attrs-in' type='checkbox' disabled><label for='attrs-53afc184-48c0-408f-888a-f9585eeac19e' title='Show/Hide attributes'><svg class='icon xr-icon-file-text2'><use xlink:href='#icon-file-text2'></use></svg></label><input id='data-565f558d-7eab-4121-9dbc-066f30fbaa7e' class='xr-var-data-in' type='checkbox'><label for='data-565f558d-7eab-4121-9dbc-066f30fbaa7e' title='Show/Hide data repr'><svg class='icon xr-icon-database'><use xlink:href='#icon-database'></use></svg></label><div class='xr-var-attrs'><dl class='xr-attrs'></dl></div><div class='xr-var-data'><table><tbody><tr><th>Magnitude</th><td style='text-align:left;'><pre>[308.8573913574219 309.05963134765625 309.3096618652344 ... 550.760498046875 550.8106079101562 550.8440551757812]</pre></td></tr><tr><th>Units</th><td style='text-align:left;'>kelvin</td></tr></tbody></table></div></li></ul></div></li><li class='xr-section-item'><input id='section-fc48f916-3442-4f6a-9d87-37a3d6c4d920' class='xr-section-summary-in' type='checkbox'  ><label for='section-fc48f916-3442-4f6a-9d87-37a3d6c4d920' class='xr-section-summary' >Indexes: <span>(1)</span></label><div class='xr-section-inline-details'></div><div class='xr-section-details'><ul class='xr-var-list'><li class='xr-var-item'><div class='xr-index-name'><div>time</div></div><div class='xr-index-preview'>PandasIndex</div><div></div><input id='index-f24a9242-9860-46c8-b8f2-382f02f9a82d' class='xr-index-data-in' type='checkbox'/><label for='index-f24a9242-9860-46c8-b8f2-382f02f9a82d' title='Show/Hide index repr'><svg class='icon xr-icon-database'><use xlink:href='#icon-database'></use></svg></label><div class='xr-index-data'><pre>PandasIndex(DatetimeIndex([&#x27;2023-04-18 23:29:00&#x27;, &#x27;2023-04-18 23:29:02&#x27;,\n",
       "               &#x27;2023-04-18 23:29:03&#x27;, &#x27;2023-04-18 23:29:04&#x27;,\n",
       "               &#x27;2023-04-18 23:29:05&#x27;, &#x27;2023-04-18 23:29:06&#x27;,\n",
       "               &#x27;2023-04-18 23:29:07&#x27;, &#x27;2023-04-18 23:29:08&#x27;,\n",
       "               &#x27;2023-04-18 23:29:09&#x27;, &#x27;2023-04-18 23:29:10&#x27;,\n",
       "               ...\n",
       "               &#x27;2023-04-19 00:34:37&#x27;, &#x27;2023-04-19 00:34:38&#x27;,\n",
       "               &#x27;2023-04-19 00:34:39&#x27;, &#x27;2023-04-19 00:34:40&#x27;,\n",
       "               &#x27;2023-04-19 00:34:41&#x27;, &#x27;2023-04-19 00:34:42&#x27;,\n",
       "               &#x27;2023-04-19 00:34:43&#x27;, &#x27;2023-04-19 00:34:44&#x27;,\n",
       "               &#x27;2023-04-19 00:34:45&#x27;, &#x27;2023-04-19 00:34:46&#x27;],\n",
       "              dtype=&#x27;datetime64[ns]&#x27;, name=&#x27;time&#x27;, length=3881, freq=None))</pre></div></li></ul></div></li><li class='xr-section-item'><input id='section-8a9f9b35-433b-4a37-baa1-8cf91958fdf8' class='xr-section-summary-in' type='checkbox'  ><label for='section-8a9f9b35-433b-4a37-baa1-8cf91958fdf8' class='xr-section-summary' >Attributes: <span>(32)</span></label><div class='xr-section-inline-details'></div><div class='xr-section-details'><dl class='xr-attrs'><dt><span>command_line :</span></dt><dd>sonde_ingest -s guc -f M1</dd><dt><span>Conventions :</span></dt><dd>ARM-1.2</dd><dt><span>process_version :</span></dt><dd>ingest-sonde-10.14-1.el7</dd><dt><span>dod_version :</span></dt><dd>sondewnpn-b1-2.3</dd><dt><span>input_source :</span></dt><dd>/data/collection/guc/gucsondeM1.00/good.2023APR182329.parsed</dd><dt><span>site_id :</span></dt><dd>guc</dd><dt><span>platform_id :</span></dt><dd>sondewnpn</dd><dt><span>facility_id :</span></dt><dd>M1</dd><dt><span>data_level :</span></dt><dd>b1</dd><dt><span>location_description :</span></dt><dd>Surface Atmosphere Integrated Field Laboratory (SAIL), Mt Crested Butte, Colorado</dd><dt><span>datastream :</span></dt><dd>gucsondewnpnM1.b1</dd><dt><span>sample_int :</span></dt><dd>1.2 seconds</dd><dt><span>averaging_int :</span></dt><dd>None</dd><dt><span>serial_number :</span></dt><dd>T0620719</dd><dt><span>ingest_software :</span></dt><dd>ingest-sonde-10.14-1.el7</dd><dt><span>resolution_description :</span></dt><dd>The resolution field attributes refer to the number of significant digits relative to the decimal point that should be used in calculations. Using fewer digits might result in greater uncertainty. Using a larger number of digits should have no effect and thus is unnecessary. However, analyses based on differences in values with a larger number of significant digits than indicated could lead to erroneous results or misleading scientific conclusions.\n",
       "\n",
       "resolution for lat = 0.001\n",
       "resolution for lon = 0.001\n",
       "resolution for alt = 1</dd><dt><span>pressure_correction :</span></dt><dd>0.5</dd><dt><span>temperature_correction :</span></dt><dd>-9999.0</dd><dt><span>humidity_correction :</span></dt><dd>-9999.0</dd><dt><span>humidity_correction_2 :</span></dt><dd>-9999.0</dd><dt><span>launch_mode :</span></dt><dd>nominal mode</dd><dt><span>launch_status :</span></dt><dd>\r\n",
       "/// AMFM2/MW41\r\n",
       "499999\r\n",
       "230418 2329\r\n",
       " T0620719 RS41-SGP\r\n",
       "049 /// /// ///\r\n",
       "100\r\n",
       "/// /// ///\r\n",
       "/// /// ///\r\n",
       "/// /// ///\r\n",
       "/// /// ///\r\n",
       "395 001 224\r\n",
       "/// /// ///\r\n",
       "/// /// ///\r\n",
       "/// ///\r\n",
       "000 000 000\r\n",
       "\r\n",
       "</dd><dt><span>pressure_gc_sonde :</span></dt><dd>707.0</dd><dt><span>temperature_gc_sonde :</span></dt><dd>-9999.0</dd><dt><span>humidity_gc_sonde :</span></dt><dd>-9999.0</dd><dt><span>humidity_gc_sonde_2 :</span></dt><dd>-9999.0</dd><dt><span>latitude_calculation :</span></dt><dd>lat[k-1]+((v_wind[k]-v_wind[k-1])/2)*delta_time)/111137.0</dd><dt><span>longitude_calculation :</span></dt><dd>lon[k-1]+((u_wind[k]-u_wind[k-1])/2)*delta_time)/(111137.0*(cos(0.5*lat[k]-lat[k-1))))</dd><dt><span>sonde_pc_software_version :</span></dt><dd>2.17</dd><dt><span>sounding_number :</span></dt><dd>///</dd><dt><span>doi :</span></dt><dd>10.5439/1595321</dd><dt><span>history :</span></dt><dd>created by user dsmgr on machine prod-proc2.adc.arm.gov at 2023-04-19 02:19:01, using ingest-sonde-10.14-1.el7</dd></dl></div></li></ul></div></div>"
      ],
      "text/plain": [
       "<xarray.Dataset> Size: 419kB\n",
       "Dimensions:      (time: 3881)\n",
       "Coordinates:\n",
       "  * time         (time) datetime64[ns] 31kB 2023-04-18T23:29:00 ... 2023-04-1...\n",
       "Data variables: (12/25)\n",
       "    base_time    datetime64[ns] 8B ...\n",
       "    time_offset  (time) datetime64[ns] 31kB ...\n",
       "    pres         (time) float32 16kB 707.2 706.7 706.3 ... 37.21 37.18 37.16\n",
       "    qc_pres      (time) int32 16kB ...\n",
       "    tdry         (time) float32 16kB 6.6 6.73 6.91 6.94 ... -58.08 -58.11 -58.13\n",
       "    qc_tdry      (time) int32 16kB ...\n",
       "    ...           ...\n",
       "    asc          (time) float32 16kB ...\n",
       "    qc_asc       (time) int32 16kB ...\n",
       "    lat          (time) float32 16kB ...\n",
       "    lon          (time) float32 16kB ...\n",
       "    alt          (time) float32 16kB ...\n",
       "    tpot         (time) float32 16kB <Quantity([308.8574  309.05963 309.30966...\n",
       "Attributes: (12/32)\n",
       "    command_line:               sonde_ingest -s guc -f M1\n",
       "    Conventions:                ARM-1.2\n",
       "    process_version:            ingest-sonde-10.14-1.el7\n",
       "    dod_version:                sondewnpn-b1-2.3\n",
       "    input_source:               /data/collection/guc/gucsondeM1.00/good.2023A...\n",
       "    site_id:                    guc\n",
       "    ...                         ...\n",
       "    latitude_calculation:       lat[k-1]+((v_wind[k]-v_wind[k-1])/2)*delta_ti...\n",
       "    longitude_calculation:      lon[k-1]+((u_wind[k]-u_wind[k-1])/2)*delta_ti...\n",
       "    sonde_pc_software_version:  2.17\n",
       "    sounding_number:            ///\n",
       "    doi:                        10.5439/1595321\n",
       "    history:                    created by user dsmgr on machine prod-proc2.a..."
      ]
     },
     "execution_count": 115,
     "metadata": {},
     "output_type": "execute_result"
    }
   ],
   "source": [
    "sonde_day"
   ]
  },
  {
   "cell_type": "code",
   "execution_count": null,
   "metadata": {},
   "outputs": [],
   "source": [
    "src.alt - "
   ]
  },
  {
   "cell_type": "code",
   "execution_count": 126,
   "metadata": {},
   "outputs": [
    {
     "data": {
      "image/svg+xml": [
       "<svg xmlns=\"http://www.w3.org/2000/svg\" xmlns:xlink=\"http://www.w3.org/1999/xlink\" version=\"1.1\" class=\"marks\" width=\"292\" height=\"347\" viewBox=\"0 0 292 347\"><rect width=\"292\" height=\"347\" fill=\"white\"/><g fill=\"none\" stroke-miterlimit=\"10\" transform=\"translate(53,10)\"><g class=\"mark-group role-frame root\" role=\"graphics-object\" aria-roledescription=\"group mark container\"><g transform=\"translate(0,0)\"><path class=\"background\" aria-hidden=\"true\" d=\"M0.5,0.5h150v300h-150Z\" stroke=\"#ddd\"/><g><g class=\"mark-group role-axis\" aria-hidden=\"true\"><g transform=\"translate(0.5,300.5)\"><path class=\"background\" aria-hidden=\"true\" d=\"M0,0h0v0h0Z\" pointer-events=\"none\"/><g><g class=\"mark-rule role-axis-grid\" pointer-events=\"none\"><line transform=\"translate(35,-300)\" x2=\"0\" y2=\"300\" stroke=\"#ddd\" stroke-width=\"1\" opacity=\"1\"/><line transform=\"translate(92,-300)\" x2=\"0\" y2=\"300\" stroke=\"#ddd\" stroke-width=\"1\" opacity=\"1\"/><line transform=\"translate(150,-300)\" x2=\"0\" y2=\"300\" stroke=\"#ddd\" stroke-width=\"1\" opacity=\"1\"/></g></g><path class=\"foreground\" aria-hidden=\"true\" d=\"\" pointer-events=\"none\" display=\"none\"/></g></g><g class=\"mark-group role-axis\" aria-hidden=\"true\"><g transform=\"translate(0.5,0.5)\"><path class=\"background\" aria-hidden=\"true\" d=\"M0,0h0v0h0Z\" pointer-events=\"none\"/><g><g class=\"mark-rule role-axis-grid\" pointer-events=\"none\"><line transform=\"translate(0,300)\" x2=\"150\" y2=\"0\" stroke=\"#ddd\" stroke-width=\"1\" opacity=\"1\"/><line transform=\"translate(0,270)\" x2=\"150\" y2=\"0\" stroke=\"#ddd\" stroke-width=\"1\" opacity=\"1\"/><line transform=\"translate(0,240)\" x2=\"150\" y2=\"0\" stroke=\"#ddd\" stroke-width=\"1\" opacity=\"1\"/><line transform=\"translate(0,210)\" x2=\"150\" y2=\"0\" stroke=\"#ddd\" stroke-width=\"1\" opacity=\"1\"/><line transform=\"translate(0,180)\" x2=\"150\" y2=\"0\" stroke=\"#ddd\" stroke-width=\"1\" opacity=\"1\"/><line transform=\"translate(0,150)\" x2=\"150\" y2=\"0\" stroke=\"#ddd\" stroke-width=\"1\" opacity=\"1\"/><line transform=\"translate(0,120)\" x2=\"150\" y2=\"0\" stroke=\"#ddd\" stroke-width=\"1\" opacity=\"1\"/><line transform=\"translate(0,90)\" x2=\"150\" y2=\"0\" stroke=\"#ddd\" stroke-width=\"1\" opacity=\"1\"/><line transform=\"translate(0,60)\" x2=\"150\" y2=\"0\" stroke=\"#ddd\" stroke-width=\"1\" opacity=\"1\"/><line transform=\"translate(0,30)\" x2=\"150\" y2=\"0\" stroke=\"#ddd\" stroke-width=\"1\" opacity=\"1\"/><line transform=\"translate(0,0)\" x2=\"150\" y2=\"0\" stroke=\"#ddd\" stroke-width=\"1\" opacity=\"1\"/></g></g><path class=\"foreground\" aria-hidden=\"true\" d=\"\" pointer-events=\"none\" display=\"none\"/></g></g><g class=\"mark-group role-axis\" role=\"graphics-symbol\" aria-roledescription=\"axis\" aria-label=\"X-axis titled 'Potential temperature (K)' for a linear scale with values from 297 to 310\"><g transform=\"translate(0.5,300.5)\"><path class=\"background\" aria-hidden=\"true\" d=\"M0,0h0v0h0Z\" pointer-events=\"none\"/><g><g class=\"mark-rule role-axis-tick\" pointer-events=\"none\"><line transform=\"translate(35,0)\" x2=\"0\" y2=\"5\" stroke=\"#888\" stroke-width=\"1\" opacity=\"1\"/><line transform=\"translate(92,0)\" x2=\"0\" y2=\"5\" stroke=\"#888\" stroke-width=\"1\" opacity=\"1\"/><line transform=\"translate(150,0)\" x2=\"0\" y2=\"5\" stroke=\"#888\" stroke-width=\"1\" opacity=\"1\"/></g><g class=\"mark-text role-axis-label\" pointer-events=\"none\"><text text-anchor=\"middle\" transform=\"translate(34.61538461538462,15)\" font-family=\"sans-serif\" font-size=\"10px\" fill=\"#000\" opacity=\"1\">300</text><text text-anchor=\"middle\" transform=\"translate(92.3076923076923,15)\" font-family=\"sans-serif\" font-size=\"10px\" fill=\"#000\" opacity=\"1\">305</text><text text-anchor=\"end\" transform=\"translate(150,15)\" font-family=\"sans-serif\" font-size=\"10px\" fill=\"#000\" opacity=\"1\">310</text></g><g class=\"mark-rule role-axis-domain\" pointer-events=\"none\"><line transform=\"translate(0,0)\" x2=\"150\" y2=\"0\" stroke=\"#888\" stroke-width=\"1\" opacity=\"1\"/></g><g class=\"mark-text role-axis-title\" pointer-events=\"none\"><text text-anchor=\"middle\" transform=\"translate(75,30)\" font-family=\"sans-serif\" font-size=\"11px\" font-weight=\"bold\" fill=\"#000\" opacity=\"1\">Potential temperature (K)</text></g></g><path class=\"foreground\" aria-hidden=\"true\" d=\"\" pointer-events=\"none\" display=\"none\"/></g></g><g class=\"mark-group role-axis\" role=\"graphics-symbol\" aria-roledescription=\"axis\" aria-label=\"Y-axis titled 'Height AGL (m)' for a linear scale with values from 0 to 2,000\"><g transform=\"translate(0.5,0.5)\"><path class=\"background\" aria-hidden=\"true\" d=\"M0,0h0v0h0Z\" pointer-events=\"none\"/><g><g class=\"mark-rule role-axis-tick\" pointer-events=\"none\"><line transform=\"translate(0,300)\" x2=\"-5\" y2=\"0\" stroke=\"#888\" stroke-width=\"1\" opacity=\"1\"/><line transform=\"translate(0,270)\" x2=\"-5\" y2=\"0\" stroke=\"#888\" stroke-width=\"1\" opacity=\"1\"/><line transform=\"translate(0,240)\" x2=\"-5\" y2=\"0\" stroke=\"#888\" stroke-width=\"1\" opacity=\"1\"/><line transform=\"translate(0,210)\" x2=\"-5\" y2=\"0\" stroke=\"#888\" stroke-width=\"1\" opacity=\"1\"/><line transform=\"translate(0,180)\" x2=\"-5\" y2=\"0\" stroke=\"#888\" stroke-width=\"1\" opacity=\"1\"/><line transform=\"translate(0,150)\" x2=\"-5\" y2=\"0\" stroke=\"#888\" stroke-width=\"1\" opacity=\"1\"/><line transform=\"translate(0,120)\" x2=\"-5\" y2=\"0\" stroke=\"#888\" stroke-width=\"1\" opacity=\"1\"/><line transform=\"translate(0,90)\" x2=\"-5\" y2=\"0\" stroke=\"#888\" stroke-width=\"1\" opacity=\"1\"/><line transform=\"translate(0,60)\" x2=\"-5\" y2=\"0\" stroke=\"#888\" stroke-width=\"1\" opacity=\"1\"/><line transform=\"translate(0,30)\" x2=\"-5\" y2=\"0\" stroke=\"#888\" stroke-width=\"1\" opacity=\"1\"/><line transform=\"translate(0,0)\" x2=\"-5\" y2=\"0\" stroke=\"#888\" stroke-width=\"1\" opacity=\"1\"/></g><g class=\"mark-text role-axis-label\" pointer-events=\"none\"><text text-anchor=\"end\" transform=\"translate(-7,303)\" font-family=\"sans-serif\" font-size=\"10px\" fill=\"#000\" opacity=\"1\">0</text><text text-anchor=\"end\" transform=\"translate(-7,273)\" font-family=\"sans-serif\" font-size=\"10px\" fill=\"#000\" opacity=\"1\">200</text><text text-anchor=\"end\" transform=\"translate(-7,243)\" font-family=\"sans-serif\" font-size=\"10px\" fill=\"#000\" opacity=\"1\">400</text><text text-anchor=\"end\" transform=\"translate(-7,213)\" font-family=\"sans-serif\" font-size=\"10px\" fill=\"#000\" opacity=\"1\">600</text><text text-anchor=\"end\" transform=\"translate(-7,183)\" font-family=\"sans-serif\" font-size=\"10px\" fill=\"#000\" opacity=\"1\">800</text><text text-anchor=\"end\" transform=\"translate(-7,153)\" font-family=\"sans-serif\" font-size=\"10px\" fill=\"#000\" opacity=\"1\">1,000</text><text text-anchor=\"end\" transform=\"translate(-7,123)\" font-family=\"sans-serif\" font-size=\"10px\" fill=\"#000\" opacity=\"1\">1,200</text><text text-anchor=\"end\" transform=\"translate(-7,93.00000000000001)\" font-family=\"sans-serif\" font-size=\"10px\" fill=\"#000\" opacity=\"1\">1,400</text><text text-anchor=\"end\" transform=\"translate(-7,62.999999999999986)\" font-family=\"sans-serif\" font-size=\"10px\" fill=\"#000\" opacity=\"1\">1,600</text><text text-anchor=\"end\" transform=\"translate(-7,32.99999999999999)\" font-family=\"sans-serif\" font-size=\"10px\" fill=\"#000\" opacity=\"1\">1,800</text><text text-anchor=\"end\" transform=\"translate(-7,3)\" font-family=\"sans-serif\" font-size=\"10px\" fill=\"#000\" opacity=\"1\">2,000</text></g><g class=\"mark-rule role-axis-domain\" pointer-events=\"none\"><line transform=\"translate(0,300)\" x2=\"0\" y2=\"-300\" stroke=\"#888\" stroke-width=\"1\" opacity=\"1\"/></g><g class=\"mark-text role-axis-title\" pointer-events=\"none\"><text text-anchor=\"middle\" transform=\"translate(-36.0244140625,150) rotate(-90) translate(0,-2)\" font-family=\"sans-serif\" font-size=\"11px\" font-weight=\"bold\" fill=\"#000\" opacity=\"1\">Height AGL (m)</text></g></g><path class=\"foreground\" aria-hidden=\"true\" d=\"\" pointer-events=\"none\" display=\"none\"/></g></g><g class=\"mark-group role-scope pathgroup\" role=\"graphics-object\" aria-roledescription=\"group mark container\"><g transform=\"translate(0,0)\"><path class=\"background\" aria-hidden=\"true\" d=\"M0,0h150v300h-150Z\"/><g><g class=\"mark-line role-mark marks\" role=\"graphics-object\" aria-roledescription=\"line mark container\"><path aria-label=\"Potential temperature (K): 297.713409424; Height AGL (m): 7.39990234375; time_of_day: 0430; height: 7.39990234375\" role=\"graphics-symbol\" aria-roledescription=\"line mark\" d=\"M8.232,298.89L15.987,298.44L18.323,297.765L21.985,296.715L28.766,295.905L34.799,295.08L45.717,294.21L67.67,293.385L67.98,292.56L72.483,291.735L79.779,290.925L85.803,290.13L92.821,289.335L94.867,288.57L96.375,287.835L97.217,287.13L97.237,286.47L98.122,285.87L99.602,285.315L103.735,284.79L108.764,284.295L110.061,283.785L109.968,283.29L108.726,282.78L108.392,282.27L108.555,281.76L110.025,281.235L110.97,280.695L109.26,280.14L108.09,279.555L107.203,278.925L106.361,278.25L105.931,277.53L106.071,276.75L106.24,275.925L106.439,275.07L106.539,274.185L106.511,273.285L106.514,272.385L106.885,271.455L107.144,270.54L107.774,269.625L107.763,268.71L107.994,267.825L108.453,266.97L109.782,266.145L110.312,265.35L110.187,264.57L109.163,263.805L109.423,263.025L109.426,262.245L109.573,261.465L111.005,260.67L111.409,259.89L110.629,259.11L109.977,258.36L110.21,257.625L111.299,256.92L112.645,256.245L113.063,255.6L112.808,254.97L112.282,254.37L112.142,253.77L112.887,253.185L112.747,252.585L112.879,251.97L112.883,251.34L112.531,250.695L111.921,250.02L111.727,249.33L111.676,248.625L111.641,247.905L111.235,247.155L111.215,246.405L111.325,245.67L111.276,244.95L111.455,244.275L111.733,243.63L111.884,243L111.761,242.37L111.797,241.725L111.849,241.05L111.529,240.345L111.224,239.625L111.579,238.905L111.676,238.17L111.774,237.435L112.115,236.715L113.103,236.01L113.818,235.305L113.728,234.63L113.508,233.97L113.419,233.31L113.344,232.635L113.156,231.93L113.53,231.18L114.711,230.4L115.39,229.59L115.712,228.75L115.904,227.895L116.501,227.04L116.68,226.2L117.247,225.39L117.137,224.595L116.754,223.815L116.484,223.05L116.474,222.3L116.724,221.535L117.378,220.77L117.659,219.975L117.567,219.15L117.375,218.31L116.162,217.44L115.612,216.555L115.581,215.655L116.2,214.77L116.53,213.915L116.47,213.075L116.77,212.25L117.834,211.44L117.99,210.645L116.976,209.85L116.467,209.055L116.493,208.26L116.779,207.465L116.837,206.64L116.765,205.8L116.969,204.93L116.944,204.045L117.08,203.115L116.972,202.155L116.896,201.18L116.965,200.175L117.181,199.155L117.137,198.12L116.947,197.115L116.988,196.14L117.013,195.195L116.977,194.31L116.895,193.485L117.027,192.705L117.258,191.97L117.574,191.295L117.598,190.65L116.954,190.035L116.654,189.45L116.601,188.895L116.677,188.34L116.624,187.8L116.44,187.23L116.418,186.645L116.558,186.015L117.138,185.34L117.227,184.62L117.232,183.855L117.253,183.06L117.274,182.265L117.118,181.515L116.784,180.84L116.602,180.285L116.44,179.85L116.692,179.55L117.143,179.34L117.415,179.175L117.672,179.01L117.861,178.8L117.967,178.53L118.529,178.17L119.824,177.72L120.004,177.195L118.791,176.625L118.133,176.01L117.9,175.365L118.47,174.705L117.991,174.015L117.413,173.34L117.212,172.635L117.142,171.945L117.22,171.24L117.446,170.52L117.918,169.8L119.587,169.08L120.339,168.36L120.828,167.625L121.071,166.875L121.2,166.11L120.819,165.315L120.47,164.505L119.991,163.68L119.543,162.825L119.374,161.94L119.6,161.055L119.712,160.155L119.429,159.255L119.146,158.355L118.995,157.455L119.207,156.585L119.009,155.745L119.454,154.92L119.356,154.11L118.599,153.315L118.617,152.52L118.635,151.725L118.786,150.945L118.772,150.18L118.611,149.43L118.419,148.74L118.293,148.125L118.251,147.57L118.128,147.09L118.055,146.7L117.787,146.4L117.982,146.175L118.275,145.98L118.305,145.815L118.336,145.62L118.266,145.38L118.394,145.08L118.438,144.735L118.235,144.345L117.915,143.94L117.844,143.565L117.608,143.22L117.587,142.95L117.766,142.74L117.764,142.575L117.729,142.47L117.795,142.395L117.992,142.32L118.337,142.215L118.467,142.065L118.382,141.87L118.741,141.6L118.738,141.285L118.651,140.94L118.58,140.565L118.377,140.175L118.29,139.815L118.303,139.485L118.564,139.185L118.527,138.915L118.475,138.675L118.406,138.45L118.437,138.27L118.452,138.09L118.731,137.925L118.994,137.76L118.628,137.58L118.378,137.4L118.409,137.205L118.308,137.01L118.339,136.83L118.37,136.65L118.369,136.485L118.351,136.35L118.449,136.245L118.531,136.14L118.479,136.05L118.561,135.945L118.56,135.81L118.591,135.63L118.655,135.39L118.785,135.09L118.814,134.745L119.158,134.355L119.254,133.92L118.985,133.455L119.014,132.975L119.043,132.465L119.106,131.94L119.416,131.415L119.61,130.905L119.905,130.395L120.067,129.885L120.097,129.405L119.449,128.925L119.479,128.445L120.155,127.95L120.186,127.455L120.101,126.945L119.733,126.435L119.515,125.925L120.359,125.4L121.086,124.875L120.886,124.335L120.27,123.825L120.434,123.33L120.168,122.865L120.25,122.46L119.901,122.085L119.634,121.77L119.75,121.5L119.434,121.245L119.516,120.99L120.014,120.735L120.113,120.45L120.245,120.15L120.262,119.835L120.012,119.505L119.746,119.19L119.182,118.92L118.982,118.68L119.015,118.5L119.281,118.335L119.546,118.185L119.713,118.005L120.062,117.75L120.476,117.42L120.825,117.015L120.577,116.535L119.298,116.01L118.451,115.47L118.401,114.915L118.884,114.345L119.783,113.76L120.15,113.19L119.319,112.605L118.606,112.05L118.425,111.495L118.892,110.94L120.025,110.415L121.159,109.875L121.761,109.32L121.331,108.75L120.501,108.165L119.689,107.55L119.026,106.935L118.763,106.32L118.916,105.69L119.187,105.06L119.341,104.43L119.495,103.785L119.516,103.14L119.305,102.465L119.227,101.775L119.317,101.055L119.44,100.305L119.597,99.51L119.372,98.7L119.18,97.845L119.256,96.975L119.766,96.09L120.278,95.19L120.539,94.275L120.952,93.33L121.4,92.355L121.632,91.32L122.049,90.225L122.117,89.07L122.37,87.855L122.106,86.61L121.709,85.38L121.529,84.21L121.264,83.13L121.45,82.14L121.551,81.255L121.583,80.445L121.95,79.71L124.161,79.035L126.087,78.36L125.045,77.715L125.63,77.04L126.351,76.35L125.629,75.645L124.807,74.91L124.389,74.145L125.903,73.35L128.376,72.51L128.617,71.61L128.625,70.68L129.224,69.705L130.495,68.7L131.247,67.68L131.175,66.69L130.952,65.715L130.963,64.785L131.092,63.87L131.205,62.955L131.469,62.04L131.5,61.08L131.684,60.105L131.903,59.085L132.68,58.05L133.611,56.985L134.29,55.905L135.087,54.84L135.634,53.76L135.623,52.695L135.326,51.63L134.911,50.58L134.731,49.545L134.688,48.525L134.627,47.52L134.684,46.53L134.877,45.54L134.917,44.565L134.958,43.59L135.135,42.615L135.601,41.64L136.457,40.665L137.06,39.675L136.968,38.685L136.895,37.71L136.941,36.72L137.257,35.745L137.575,34.77L137.64,33.78L137.57,32.79L137.789,31.77L137.739,30.735L137.706,29.7L137.828,28.635L137.814,27.585L137.801,26.52L137.789,25.455L137.796,24.375L137.785,23.295L137.657,22.215L137.647,21.15L137.502,20.085L137.494,19.02L137.45,17.985L137.542,16.965L137.599,15.975L137.483,15.03L137.313,14.13L137.399,13.275L137.584,12.465L137.597,11.67L137.746,10.875L137.778,10.08L137.81,9.27L137.725,8.445L137.521,7.605L137.455,6.75L137.507,5.91L137.577,5.07L137.512,4.23L137.447,3.375L137.811,2.505L137.902,1.635L137.875,0.735\" stroke=\"#4c78a8\" stroke-width=\"2\"/></g></g><path class=\"foreground\" aria-hidden=\"true\" d=\"\" display=\"none\"/></g><g transform=\"translate(0,0)\"><path class=\"background\" aria-hidden=\"true\" d=\"M0,0h150v300h-150Z\"/><g><g class=\"mark-line role-mark marks\" role=\"graphics-object\" aria-roledescription=\"line mark container\"><path aria-label=\"Potential temperature (K): 308.857391357; Height AGL (m): 7.39990234375; time_of_day: 1630; height: 7.39990234375\" role=\"graphics-symbol\" aria-roledescription=\"line mark\" d=\"M136.816,298.89L139.15,298.065L142.035,297.345L142.937,296.715L143.367,295.59L143.516,294.33L143.229,293.76L143.13,292.95L142.365,292.185L142.704,291.48L142.887,290.79L143.326,290.1L144.418,289.41L145.27,288.675L145.286,287.895L145.317,287.085L145.378,286.245L145.582,285.39L145.658,284.52L145.494,283.65L145.698,282.78L145.648,281.91L145.47,281.055L145.548,280.2L145.74,279.345L145.676,278.505L145.598,277.68L145.491,276.87L145.483,276.105L145.317,275.4L145.236,274.725L145.495,274.095L145.883,273.48L145.901,272.85L146.091,272.16L146.198,271.41L146.009,270.57L146.023,269.625L145.998,268.575L146.205,267.39L146.389,266.1L146.405,264.705L146.467,263.235L146.16,261.765L145.378,260.4L144.705,259.2L144.481,258.24L144.935,257.535L145.61,257.04L146.181,256.665L146.579,256.335L146.923,255.93L147.243,255.39L147.356,254.64L147.407,253.665L147.367,252.48L147.09,251.115L146.504,249.645L146.076,248.175L145.832,246.78L145.726,245.505L145.887,244.41L146.012,243.48L145.888,242.7L146.075,242.01L146.475,241.38L146.746,240.75L146.661,240.09L146.492,239.37L146.354,238.605L146.261,237.795L146.055,236.955L145.993,236.1L145.932,235.26L145.855,234.42L145.764,233.61L145.932,232.8L146.101,231.99L146.285,231.15L146.241,230.28L146.213,229.395L146.086,228.465L146.089,227.535L146.092,226.605L146.096,225.675L146.344,224.775L146.707,223.875L147.056,223.005L147.145,222.135L147.219,221.28L147.553,220.41L147.644,219.54L147.621,218.64L147.758,217.725L147.751,216.795L147.646,215.85L147.655,214.905L147.68,213.96L147.706,213.015L147.862,212.04L147.92,211.065L147.733,210.045L147.448,209.01L147.163,207.96L147.009,206.91L146.939,205.905L146.984,204.945L147.082,204.045L147.034,203.19L147.054,202.38L147.075,201.585L147.096,200.805L146.971,200.025L146.815,199.29L146.467,198.615L146.17,198.06L145.863,197.655L145.66,197.43L145.691,197.385L147.676,196.725L147.81,195.345L147.669,193.965L147.628,192.645L147.655,191.355L147.521,190.14L147.339,188.97L147.258,187.83L147.423,186.72L147.442,185.625L147.446,184.53L147.335,183.435L147.34,182.37L147.183,181.305L146.995,180.3L146.873,179.37L146.837,178.5L146.867,177.69L147.112,176.94L147.342,176.205L147.571,175.47L147.702,174.705L147.734,173.895L147.668,173.055L147.618,172.2L147.567,171.33L147.502,170.475L147.568,169.635L147.733,168.81L147.899,168L147.934,167.205L147.839,166.395L147.743,165.585L147.778,164.775L147.815,163.95L147.868,163.125L147.905,162.315L147.959,161.49L147.996,160.665L148.051,159.825L147.99,158.985L147.913,158.145L147.87,157.275L147.81,156.42L147.751,155.565L147.675,154.74L147.584,153.93L147.46,153.135L147.074,152.355L146.686,151.575L146.58,150.78L146.49,149.955L146.434,149.115L146.394,148.23L146.618,147.36L146.546,146.505L146.326,145.695L146.188,144.93L146.134,144.21L146.197,143.535L146.243,142.86L146.421,142.2L146.468,141.54L146.382,140.85L146.329,140.145L146.442,139.41L146.44,138.63L146.355,137.805L146.436,136.95L146.434,136.02L146.482,135.045L146.565,134.025L146.564,132.96L146.598,131.85L146.632,130.725L146.666,129.6L146.685,128.505L146.556,127.425L146.526,126.39L146.579,125.415L146.716,124.47L146.853,123.555L146.957,122.655L147.062,121.755L147.034,120.87L147.007,119.97L146.996,119.07L146.953,118.185L146.91,117.33L146.967,116.49L146.825,115.725L146.781,115.005L146.804,114.36L146.777,113.79L146.815,113.28L146.803,112.83L146.624,112.425L146.395,112.065L146.149,111.75L146.002,111.45L145.972,111.18L146.058,110.925L146.244,110.715L146.429,110.505L146.448,110.31L146.484,110.13L146.519,109.935L146.705,109.71L146.908,109.485L147.144,109.215L147.131,108.915L146.985,108.615L146.972,108.33L146.826,108.045L146.779,107.775L146.733,107.52L146.953,107.265L146.923,107.01L146.91,106.71L146.665,106.38L146.42,106.035L146.475,105.675L146.681,105.285L147.02,104.895L147.092,104.49L146.932,104.07L146.922,103.62L147.063,103.155L147.087,102.66L146.995,102.165L146.903,101.64L146.945,101.13L146.987,100.635L147.012,100.14L147.02,99.66L147.029,99.195L147.02,98.73L147.011,98.28L147.137,97.845L147.128,97.395L147.103,96.96L147.078,96.525L147.035,96.105L146.859,95.7L146.934,95.295L147.009,94.92L147.066,94.53L147.158,94.125L147.117,93.72L147.075,93.285L147.184,92.85L147.177,92.4L147.304,91.95L147.297,91.5L147.424,91.035L147.418,90.585L147.562,90.12L147.572,89.64L147.45,89.16L147.344,88.68L147.355,88.2L147.349,87.735L147.477,87.285L147.588,86.85L147.699,86.43L147.659,85.995L147.636,85.575L147.731,85.155L147.708,84.72L147.569,84.27L147.564,83.82L147.442,83.34L147.454,82.86L147.484,82.365L147.514,81.87L147.428,81.36L147.341,80.835L147.254,80.325L147.168,79.815L147.199,79.305L147.247,78.795L147.278,78.285L147.344,77.76L147.409,77.22L147.493,76.65L147.478,76.065L147.462,75.465L147.464,74.85L147.448,74.25L147.433,73.65L147.553,73.05L147.538,72.465L147.658,71.865L147.661,71.25L147.664,70.62L147.685,69.975L147.859,69.315L147.915,68.655L147.972,67.965L148.03,67.275L147.987,66.57L148.08,65.835L148.19,65.1L148.166,64.35L148.295,63.6L148.289,62.82L148.302,62.04L148.314,61.26L148.21,60.465L148.241,59.67L148.272,58.86L148.303,58.035L148.218,57.225L148.116,56.415L148.149,55.62L148.028,54.825L148.026,54.06L148.007,53.295L148.14,52.53L148.157,51.75L148.074,50.925L148.01,50.07L147.864,49.17L147.989,48.24L148.014,47.295L148.176,46.335L148.085,45.36L148.166,44.37L148.248,43.35L148.23,42.285L148.384,41.19L148.422,40.065L148.514,38.895L148.625,37.68L148.501,36.45L147.989,35.175L147.225,33.9L146.867,32.595L147.072,31.305L147.396,30.015L147.277,28.755L147.259,27.54L147.613,26.385L148.167,25.29L148.55,24.225L148.643,23.205L148.6,22.17L148.577,21.135L148.3,20.07L148.178,18.975L148.347,17.865L148.381,16.74L148.415,15.615L148.296,14.52L148.295,13.455L148.258,12.405L148.34,11.385L148.422,10.38L148.487,9.375L148.725,8.355L148.691,7.305L148.695,6.24L148.562,5.145L148.585,4.05L148.609,2.955L148.615,1.875L148.604,0.795\" stroke=\"#f58518\" stroke-width=\"2\"/></g></g><path class=\"foreground\" aria-hidden=\"true\" d=\"\" display=\"none\"/></g></g><g class=\"mark-group role-legend\" role=\"graphics-symbol\" aria-roledescription=\"legend\" aria-label=\"Symbol legend titled 'time_of_day' for stroke color with 2 values: 0430, 1630\"><g transform=\"translate(169,0)\"><path class=\"background\" aria-hidden=\"true\" d=\"M0,0h65v40h-65Z\" pointer-events=\"none\"/><g><g class=\"mark-group role-legend-entry\"><g transform=\"translate(0,16)\"><path class=\"background\" aria-hidden=\"true\" d=\"M0,0h0v0h0Z\" pointer-events=\"none\"/><g><g class=\"mark-group role-scope\" role=\"graphics-object\" aria-roledescription=\"group mark container\"><g transform=\"translate(0,0)\"><path class=\"background\" aria-hidden=\"true\" d=\"M0,0h38.24609375v11h-38.24609375Z\" pointer-events=\"none\" opacity=\"1\"/><g><g class=\"mark-symbol role-legend-symbol\" pointer-events=\"none\"><path transform=\"translate(6,6)\" d=\"M-5,0L5,0\" stroke=\"#4c78a8\" stroke-width=\"1.5\" opacity=\"1\"/></g><g class=\"mark-text role-legend-label\" pointer-events=\"none\"><text text-anchor=\"start\" transform=\"translate(16,9)\" font-family=\"sans-serif\" font-size=\"10px\" fill=\"#000\" opacity=\"1\">0430</text></g></g><path class=\"foreground\" aria-hidden=\"true\" d=\"\" pointer-events=\"none\" display=\"none\"/></g><g transform=\"translate(0,13)\"><path class=\"background\" aria-hidden=\"true\" d=\"M0,0h38.24609375v11h-38.24609375Z\" pointer-events=\"none\" opacity=\"1\"/><g><g class=\"mark-symbol role-legend-symbol\" pointer-events=\"none\"><path transform=\"translate(6,6)\" d=\"M-5,0L5,0\" stroke=\"#f58518\" stroke-width=\"1.5\" opacity=\"1\"/></g><g class=\"mark-text role-legend-label\" pointer-events=\"none\"><text text-anchor=\"start\" transform=\"translate(16,9)\" font-family=\"sans-serif\" font-size=\"10px\" fill=\"#000\" opacity=\"1\">1630</text></g></g><path class=\"foreground\" aria-hidden=\"true\" d=\"\" pointer-events=\"none\" display=\"none\"/></g></g></g><path class=\"foreground\" aria-hidden=\"true\" d=\"\" pointer-events=\"none\" display=\"none\"/></g></g><g class=\"mark-text role-legend-title\" pointer-events=\"none\"><text text-anchor=\"start\" transform=\"translate(0,9)\" font-family=\"sans-serif\" font-size=\"11px\" font-weight=\"bold\" fill=\"#000\" opacity=\"1\">time_of_day</text></g></g><path class=\"foreground\" aria-hidden=\"true\" d=\"\" pointer-events=\"none\" display=\"none\"/></g></g></g><path class=\"foreground\" aria-hidden=\"true\" d=\"\" display=\"none\"/></g></g></g></svg>"
      ],
      "text/plain": [
       "alt.Chart(...)"
      ]
     },
     "execution_count": 126,
     "metadata": {},
     "output_type": "execute_result"
    }
   ],
   "source": [
    "src_morn = sonde_morn.to_dataframe().query(\"alt < 5000\")\n",
    "src_day = sonde_day.to_dataframe().query(\"alt < 5000\")\n",
    "src = pd.concat([\n",
    "        src_morn.assign(time_of_day = '0430'),\n",
    "        src_day.assign(time_of_day = '1630')\n",
    "    ])\n",
    "src['height'] = src.alt - 2891\n",
    "alt.Chart(\n",
    "    src.query(\"height <= 2000\")\n",
    ").mark_line().encode(\n",
    "    alt.X('tpot:Q').title('Potential temperature (K)'),\n",
    "    alt.Y('height:Q').title('Height AGL (m)'),\n",
    "    alt.Color('time_of_day:N'),\n",
    "    order='height:Q'\n",
    ").properties(width=150, height = 300)"
   ]
  },
  {
   "cell_type": "markdown",
   "metadata": {},
   "source": [
    "## TROPoe scans"
   ]
  },
  {
   "cell_type": "markdown",
   "metadata": {},
   "source": [
    "For April 18, the tropoe data are not available from the arm portal. Bianca gave them to me directly"
   ]
  },
  {
   "cell_type": "code",
   "execution_count": 107,
   "metadata": {},
   "outputs": [],
   "source": [
    "tropoe_ds = xr.open_dataset(\n",
    "    \"/Users/elischwat/Development/data/sublimationofsnow/tropoe_from_bianca/gucM1tropoeAERI.raso_ctrl.20230418.001005.nc\"\n",
    ")\n",
    "tropoe_df = tropoe_ds[['theta']].to_dataframe().reset_index()"
   ]
  },
  {
   "cell_type": "code",
   "execution_count": 108,
   "metadata": {},
   "outputs": [],
   "source": [
    "tropoe_df = utils.modify_df_timezone(tropoe_df, 'UTC', 'US/Mountain')"
   ]
  },
  {
   "cell_type": "code",
   "execution_count": 109,
   "metadata": {},
   "outputs": [],
   "source": [
    "tropoe_df['height'] = tropoe_df['height']*1000"
   ]
  },
  {
   "cell_type": "code",
   "execution_count": 110,
   "metadata": {},
   "outputs": [
    {
     "data": {
      "image/svg+xml": [
       "<svg xmlns=\"http://www.w3.org/2000/svg\" xmlns:xlink=\"http://www.w3.org/1999/xlink\" version=\"1.1\" class=\"marks\" width=\"440\" height=\"347\" viewBox=\"0 0 440 347\"><rect width=\"440\" height=\"347\" fill=\"white\"/><g fill=\"none\" stroke-miterlimit=\"10\" transform=\"translate(53,10)\"><g class=\"mark-group role-frame root\" role=\"graphics-object\" aria-roledescription=\"group mark container\"><g transform=\"translate(0,0)\"><path class=\"background\" aria-hidden=\"true\" d=\"M0.5,0.5h300v300h-300Z\" stroke=\"#ddd\"/><g><g class=\"mark-group role-axis\" aria-hidden=\"true\"><g transform=\"translate(0.5,300.5)\"><path class=\"background\" aria-hidden=\"true\" d=\"M0,0h0v0h0Z\" pointer-events=\"none\"/><g><g class=\"mark-rule role-axis-grid\" pointer-events=\"none\"><line transform=\"translate(0,-300)\" x2=\"0\" y2=\"300\" stroke=\"#ddd\" stroke-width=\"1\" opacity=\"1\"/><line transform=\"translate(38,-300)\" x2=\"0\" y2=\"300\" stroke=\"#ddd\" stroke-width=\"1\" opacity=\"1\"/><line transform=\"translate(75,-300)\" x2=\"0\" y2=\"300\" stroke=\"#ddd\" stroke-width=\"1\" opacity=\"1\"/><line transform=\"translate(113,-300)\" x2=\"0\" y2=\"300\" stroke=\"#ddd\" stroke-width=\"1\" opacity=\"1\"/><line transform=\"translate(150,-300)\" x2=\"0\" y2=\"300\" stroke=\"#ddd\" stroke-width=\"1\" opacity=\"1\"/><line transform=\"translate(188,-300)\" x2=\"0\" y2=\"300\" stroke=\"#ddd\" stroke-width=\"1\" opacity=\"1\"/><line transform=\"translate(225,-300)\" x2=\"0\" y2=\"300\" stroke=\"#ddd\" stroke-width=\"1\" opacity=\"1\"/><line transform=\"translate(263,-300)\" x2=\"0\" y2=\"300\" stroke=\"#ddd\" stroke-width=\"1\" opacity=\"1\"/><line transform=\"translate(300,-300)\" x2=\"0\" y2=\"300\" stroke=\"#ddd\" stroke-width=\"1\" opacity=\"1\"/></g></g><path class=\"foreground\" aria-hidden=\"true\" d=\"\" pointer-events=\"none\" display=\"none\"/></g></g><g class=\"mark-group role-axis\" aria-hidden=\"true\"><g transform=\"translate(0.5,0.5)\"><path class=\"background\" aria-hidden=\"true\" d=\"M0,0h0v0h0Z\" pointer-events=\"none\"/><g><g class=\"mark-rule role-axis-grid\" pointer-events=\"none\"><line transform=\"translate(0,300)\" x2=\"300\" y2=\"0\" stroke=\"#ddd\" stroke-width=\"1\" opacity=\"1\"/><line transform=\"translate(0,273)\" x2=\"300\" y2=\"0\" stroke=\"#ddd\" stroke-width=\"1\" opacity=\"1\"/><line transform=\"translate(0,245)\" x2=\"300\" y2=\"0\" stroke=\"#ddd\" stroke-width=\"1\" opacity=\"1\"/><line transform=\"translate(0,218)\" x2=\"300\" y2=\"0\" stroke=\"#ddd\" stroke-width=\"1\" opacity=\"1\"/><line transform=\"translate(0,191)\" x2=\"300\" y2=\"0\" stroke=\"#ddd\" stroke-width=\"1\" opacity=\"1\"/><line transform=\"translate(0,164)\" x2=\"300\" y2=\"0\" stroke=\"#ddd\" stroke-width=\"1\" opacity=\"1\"/><line transform=\"translate(0,136)\" x2=\"300\" y2=\"0\" stroke=\"#ddd\" stroke-width=\"1\" opacity=\"1\"/><line transform=\"translate(0,109)\" x2=\"300\" y2=\"0\" stroke=\"#ddd\" stroke-width=\"1\" opacity=\"1\"/><line transform=\"translate(0,82)\" x2=\"300\" y2=\"0\" stroke=\"#ddd\" stroke-width=\"1\" opacity=\"1\"/><line transform=\"translate(0,55)\" x2=\"300\" y2=\"0\" stroke=\"#ddd\" stroke-width=\"1\" opacity=\"1\"/><line transform=\"translate(0,27)\" x2=\"300\" y2=\"0\" stroke=\"#ddd\" stroke-width=\"1\" opacity=\"1\"/><line transform=\"translate(0,0)\" x2=\"300\" y2=\"0\" stroke=\"#ddd\" stroke-width=\"1\" opacity=\"1\"/></g></g><path class=\"foreground\" aria-hidden=\"true\" d=\"\" pointer-events=\"none\" display=\"none\"/></g></g><g class=\"mark-group role-axis\" role=\"graphics-symbol\" aria-roledescription=\"axis\" aria-label=\"X-axis titled 'θ (K)' for a linear scale with values from 296 to 312\"><g transform=\"translate(0.5,300.5)\"><path class=\"background\" aria-hidden=\"true\" d=\"M0,0h0v0h0Z\" pointer-events=\"none\"/><g><g class=\"mark-rule role-axis-tick\" pointer-events=\"none\"><line transform=\"translate(0,0)\" x2=\"0\" y2=\"5\" stroke=\"#888\" stroke-width=\"1\" opacity=\"1\"/><line transform=\"translate(38,0)\" x2=\"0\" y2=\"5\" stroke=\"#888\" stroke-width=\"1\" opacity=\"1\"/><line transform=\"translate(75,0)\" x2=\"0\" y2=\"5\" stroke=\"#888\" stroke-width=\"1\" opacity=\"1\"/><line transform=\"translate(113,0)\" x2=\"0\" y2=\"5\" stroke=\"#888\" stroke-width=\"1\" opacity=\"1\"/><line transform=\"translate(150,0)\" x2=\"0\" y2=\"5\" stroke=\"#888\" stroke-width=\"1\" opacity=\"1\"/><line transform=\"translate(188,0)\" x2=\"0\" y2=\"5\" stroke=\"#888\" stroke-width=\"1\" opacity=\"1\"/><line transform=\"translate(225,0)\" x2=\"0\" y2=\"5\" stroke=\"#888\" stroke-width=\"1\" opacity=\"1\"/><line transform=\"translate(263,0)\" x2=\"0\" y2=\"5\" stroke=\"#888\" stroke-width=\"1\" opacity=\"1\"/><line transform=\"translate(300,0)\" x2=\"0\" y2=\"5\" stroke=\"#888\" stroke-width=\"1\" opacity=\"1\"/></g><g class=\"mark-text role-axis-label\" pointer-events=\"none\"><text text-anchor=\"start\" transform=\"translate(0,15)\" font-family=\"sans-serif\" font-size=\"10px\" fill=\"#000\" opacity=\"1\">296</text><text text-anchor=\"middle\" transform=\"translate(37.5,15)\" font-family=\"sans-serif\" font-size=\"10px\" fill=\"#000\" opacity=\"1\">298</text><text text-anchor=\"middle\" transform=\"translate(75,15)\" font-family=\"sans-serif\" font-size=\"10px\" fill=\"#000\" opacity=\"1\">300</text><text text-anchor=\"middle\" transform=\"translate(112.5,15)\" font-family=\"sans-serif\" font-size=\"10px\" fill=\"#000\" opacity=\"1\">302</text><text text-anchor=\"middle\" transform=\"translate(150,15)\" font-family=\"sans-serif\" font-size=\"10px\" fill=\"#000\" opacity=\"1\">304</text><text text-anchor=\"middle\" transform=\"translate(187.5,15)\" font-family=\"sans-serif\" font-size=\"10px\" fill=\"#000\" opacity=\"1\">306</text><text text-anchor=\"middle\" transform=\"translate(225,15)\" font-family=\"sans-serif\" font-size=\"10px\" fill=\"#000\" opacity=\"1\">308</text><text text-anchor=\"middle\" transform=\"translate(262.5,15)\" font-family=\"sans-serif\" font-size=\"10px\" fill=\"#000\" opacity=\"1\">310</text><text text-anchor=\"end\" transform=\"translate(300,15)\" font-family=\"sans-serif\" font-size=\"10px\" fill=\"#000\" opacity=\"1\">312</text></g><g class=\"mark-rule role-axis-domain\" pointer-events=\"none\"><line transform=\"translate(0,0)\" x2=\"300\" y2=\"0\" stroke=\"#888\" stroke-width=\"1\" opacity=\"1\"/></g><g class=\"mark-text role-axis-title\" pointer-events=\"none\"><text text-anchor=\"middle\" transform=\"translate(150,30)\" font-family=\"sans-serif\" font-size=\"11px\" font-weight=\"bold\" fill=\"#000\" opacity=\"1\">θ (K)</text></g></g><path class=\"foreground\" aria-hidden=\"true\" d=\"\" pointer-events=\"none\" display=\"none\"/></g></g><g class=\"mark-group role-axis\" role=\"graphics-symbol\" aria-roledescription=\"axis\" aria-label=\"Y-axis titled 'Height (AGL) (km)' for a linear scale with values from 0 to 2,200\"><g transform=\"translate(0.5,0.5)\"><path class=\"background\" aria-hidden=\"true\" d=\"M0,0h0v0h0Z\" pointer-events=\"none\"/><g><g class=\"mark-rule role-axis-tick\" pointer-events=\"none\"><line transform=\"translate(0,300)\" x2=\"-5\" y2=\"0\" stroke=\"#888\" stroke-width=\"1\" opacity=\"1\"/><line transform=\"translate(0,273)\" x2=\"-5\" y2=\"0\" stroke=\"#888\" stroke-width=\"1\" opacity=\"1\"/><line transform=\"translate(0,245)\" x2=\"-5\" y2=\"0\" stroke=\"#888\" stroke-width=\"1\" opacity=\"1\"/><line transform=\"translate(0,218)\" x2=\"-5\" y2=\"0\" stroke=\"#888\" stroke-width=\"1\" opacity=\"1\"/><line transform=\"translate(0,191)\" x2=\"-5\" y2=\"0\" stroke=\"#888\" stroke-width=\"1\" opacity=\"1\"/><line transform=\"translate(0,164)\" x2=\"-5\" y2=\"0\" stroke=\"#888\" stroke-width=\"1\" opacity=\"1\"/><line transform=\"translate(0,136)\" x2=\"-5\" y2=\"0\" stroke=\"#888\" stroke-width=\"1\" opacity=\"1\"/><line transform=\"translate(0,109)\" x2=\"-5\" y2=\"0\" stroke=\"#888\" stroke-width=\"1\" opacity=\"1\"/><line transform=\"translate(0,82)\" x2=\"-5\" y2=\"0\" stroke=\"#888\" stroke-width=\"1\" opacity=\"1\"/><line transform=\"translate(0,55)\" x2=\"-5\" y2=\"0\" stroke=\"#888\" stroke-width=\"1\" opacity=\"1\"/><line transform=\"translate(0,27)\" x2=\"-5\" y2=\"0\" stroke=\"#888\" stroke-width=\"1\" opacity=\"1\"/><line transform=\"translate(0,0)\" x2=\"-5\" y2=\"0\" stroke=\"#888\" stroke-width=\"1\" opacity=\"1\"/></g><g class=\"mark-text role-axis-label\" pointer-events=\"none\"><text text-anchor=\"end\" transform=\"translate(-7,303)\" font-family=\"sans-serif\" font-size=\"10px\" fill=\"#000\" opacity=\"1\">0</text><text text-anchor=\"end\" transform=\"translate(-7,275.7272727272727)\" font-family=\"sans-serif\" font-size=\"10px\" fill=\"#000\" opacity=\"1\">200</text><text text-anchor=\"end\" transform=\"translate(-7,248.45454545454544)\" font-family=\"sans-serif\" font-size=\"10px\" fill=\"#000\" opacity=\"1\">400</text><text text-anchor=\"end\" transform=\"translate(-7,221.1818181818182)\" font-family=\"sans-serif\" font-size=\"10px\" fill=\"#000\" opacity=\"1\">600</text><text text-anchor=\"end\" transform=\"translate(-7,193.9090909090909)\" font-family=\"sans-serif\" font-size=\"10px\" fill=\"#000\" opacity=\"1\">800</text><text text-anchor=\"end\" transform=\"translate(-7,166.63636363636363)\" font-family=\"sans-serif\" font-size=\"10px\" fill=\"#000\" opacity=\"1\">1,000</text><text text-anchor=\"end\" transform=\"translate(-7,139.36363636363637)\" font-family=\"sans-serif\" font-size=\"10px\" fill=\"#000\" opacity=\"1\">1,200</text><text text-anchor=\"end\" transform=\"translate(-7,112.0909090909091)\" font-family=\"sans-serif\" font-size=\"10px\" fill=\"#000\" opacity=\"1\">1,400</text><text text-anchor=\"end\" transform=\"translate(-7,84.81818181818181)\" font-family=\"sans-serif\" font-size=\"10px\" fill=\"#000\" opacity=\"1\">1,600</text><text text-anchor=\"end\" transform=\"translate(-7,57.54545454545453)\" font-family=\"sans-serif\" font-size=\"10px\" fill=\"#000\" opacity=\"1\">1,800</text><text text-anchor=\"end\" transform=\"translate(-7,30.27272727272728)\" font-family=\"sans-serif\" font-size=\"10px\" fill=\"#000\" opacity=\"1\">2,000</text><text text-anchor=\"end\" transform=\"translate(-7,3)\" font-family=\"sans-serif\" font-size=\"10px\" fill=\"#000\" opacity=\"1\">2,200</text></g><g class=\"mark-rule role-axis-domain\" pointer-events=\"none\"><line transform=\"translate(0,300)\" x2=\"0\" y2=\"-300\" stroke=\"#888\" stroke-width=\"1\" opacity=\"1\"/></g><g class=\"mark-text role-axis-title\" pointer-events=\"none\"><text text-anchor=\"middle\" transform=\"translate(-36.0244140625,150) rotate(-90) translate(0,-2)\" font-family=\"sans-serif\" font-size=\"11px\" font-weight=\"bold\" fill=\"#000\" opacity=\"1\">Height (AGL) (km)</text></g></g><path class=\"foreground\" aria-hidden=\"true\" d=\"\" pointer-events=\"none\" display=\"none\"/></g></g><g class=\"mark-group role-scope pathgroup\" role=\"graphics-object\" aria-roledescription=\"group mark container\"><g transform=\"translate(0,0)\"><path class=\"background\" aria-hidden=\"true\" d=\"M0,0h300v300h-300Z\"/><g><g class=\"mark-line role-mark marks\" role=\"graphics-object\" aria-roledescription=\"line mark container\"><path aria-label=\"θ (K): 298.342605591; Height (AGL) (km): 0; time (hours): 00:00; height: 0\" role=\"graphics-symbol\" aria-roledescription=\"line mark\" d=\"M43.924,300L60.623,298.636L77.287,297.136L93.436,295.5L109.671,293.727L126.929,291.682L143.949,289.5L161.163,287.045L176.143,284.455L190.207,281.455L201.414,278.318L211.322,274.773L219.696,270.818L225.953,266.591L231.285,261.818L234.768,256.636L236.779,251.045L238.847,244.773L240.259,237.818L241.126,230.182L241.43,221.864L241.787,212.727L241.793,202.636L241.928,191.591L242.201,179.318L242.693,165.955L243.075,151.091L244.237,134.864L246.533,117L252.93,97.364L261.568,75.682L274.08,51.955L289.216,25.773\" stroke=\"rgb(152, 61, 178)\" stroke-width=\"2\"/></g></g><path class=\"foreground\" aria-hidden=\"true\" d=\"\" display=\"none\"/></g><g transform=\"translate(0,0)\"><path class=\"background\" aria-hidden=\"true\" d=\"M0,0h300v300h-300Z\"/><g><g class=\"mark-line role-mark marks\" role=\"graphics-object\" aria-roledescription=\"line mark container\"><path aria-label=\"θ (K): 297.431879679; Height (AGL) (km): 0; time (hours): 01:00; height: 0\" role=\"graphics-symbol\" aria-roledescription=\"line mark\" d=\"M26.848,300L43.474,298.636L60.124,297.136L76.235,295.5L92.331,293.727L109.258,291.682L125.761,289.5L142.285,287.045L156.625,284.455L170.058,281.455L180.83,278.318L190.516,274.773L198.954,270.818L205.55,266.591L211.694,261.818L216.499,256.636L220.413,251.045L224.449,244.773L227.771,237.818L230.599,230.182L232.657,221.864L235.011,212.727L235.881,202.636L237.395,191.591L239.799,179.318L242.688,165.955L245.166,151.091L249.67,134.864L254.842,117L262.142,97.364L270.755,75.682L282.857,51.955L297.515,25.773\" stroke=\"rgb(195, 60, 173)\" stroke-width=\"2\"/></g></g><path class=\"foreground\" aria-hidden=\"true\" d=\"\" display=\"none\"/></g><g transform=\"translate(0,0)\"><path class=\"background\" aria-hidden=\"true\" d=\"M0,0h300v300h-300Z\"/><g><g class=\"mark-line role-mark marks\" role=\"graphics-object\" aria-roledescription=\"line mark container\"><path aria-label=\"θ (K): 297.851531982; Height (AGL) (km): 0; time (hours): 02:00; height: 0\" role=\"graphics-symbol\" aria-roledescription=\"line mark\" d=\"M34.716,300L48.607,298.636L62.422,297.136L75.742,295.5L89.292,293.727L103.88,291.682L118.38,289.5L133.245,287.045L146.361,284.455L158.838,281.455L168.973,278.318L178.186,274.773L186.248,270.818L192.565,266.591L198.509,261.818L203.154,256.636L207.076,251.045L211.058,244.773L214.341,237.818L217.187,230.182L219.28,221.864L221.735,212.727L222.587,202.636L224.484,191.591L227.17,179.318L230.407,165.955L233.45,151.091L238.782,134.864L244.769,117L252.94,97.364L262.753,75.682L276.425,51.955L293.068,25.773\" stroke=\"rgb(232, 66, 153)\" stroke-width=\"2\"/></g></g><path class=\"foreground\" aria-hidden=\"true\" d=\"\" display=\"none\"/></g><g transform=\"translate(0,0)\"><path class=\"background\" aria-hidden=\"true\" d=\"M0,0h300v300h-300Z\"/><g><g class=\"mark-line role-mark marks\" role=\"graphics-object\" aria-roledescription=\"line mark container\"><path aria-label=\"θ (K): 299.480270386; Height (AGL) (km): 0; time (hours): 03:00; height: 0\" role=\"graphics-symbol\" aria-roledescription=\"line mark\" d=\"M65.255,300L76.151,298.636L85.953,297.136L94.718,295.5L103.508,293.727L113.14,291.682L123.11,289.5L134.112,287.045L144.386,284.455L154.848,281.455L164.041,278.318L172.822,274.773L180.817,270.818L187.462,266.591L194.261,261.818L200.051,256.636L205.644,251.045L211.083,244.773L215.393,237.818L218.993,230.182L221.851,221.864L224.816,212.727L226.077,202.636L227.772,191.591L229.993,179.318L232.741,165.955L234.972,151.091L239.767,134.864L245.503,117L253.541,97.364L263.34,75.682L277.402,51.955L294.328,25.773\" stroke=\"rgb(254, 79, 124)\" stroke-width=\"2\"/></g></g><path class=\"foreground\" aria-hidden=\"true\" d=\"\" display=\"none\"/></g><g transform=\"translate(0,0)\"><path class=\"background\" aria-hidden=\"true\" d=\"M0,0h300v300h-300Z\"/><g><g class=\"mark-line role-mark marks\" role=\"graphics-object\" aria-roledescription=\"line mark container\"><path aria-label=\"θ (K): 299.231765747; Height (AGL) (km): 0; time (hours): 04:00; height: 0\" role=\"graphics-symbol\" aria-roledescription=\"line mark\" d=\"M60.596,300L69.706,298.636L78.424,297.136L86.583,295.5L95.326,293.727L105.408,291.682L116.229,289.5L128.394,287.045L139.756,284.455L151.206,281.455L161.177,278.318L170.543,274.773L178.801,270.818L185.412,266.591L191.864,261.818L196.965,256.636L201.486,251.045L205.966,244.773L209.386,237.818L212.044,230.182L213.805,221.864L215.792,212.727L216.321,202.636L217.369,191.591L218.847,179.318L221.082,165.955L222.964,151.091L227.875,134.864L233.94,117L242.596,97.364L253.09,75.682L267.897,51.955L285.573,25.773\" stroke=\"rgb(255, 100, 91)\" stroke-width=\"2\"/></g></g><path class=\"foreground\" aria-hidden=\"true\" d=\"\" display=\"none\"/></g><g transform=\"translate(0,0)\"><path class=\"background\" aria-hidden=\"true\" d=\"M0,0h300v300h-300Z\"/><g><g class=\"mark-line role-mark marks\" role=\"graphics-object\" aria-roledescription=\"line mark container\"><path aria-label=\"θ (K): 299.970255534; Height (AGL) (km): 0; time (hours): 05:00; height: 0\" role=\"graphics-symbol\" aria-roledescription=\"line mark\" d=\"M74.442,300L89.204,298.636L103.124,297.136L116.134,295.5L128.874,293.727L141.838,291.682L154.203,289.5L166.424,287.045L176.616,284.455L185.919,281.455L193.148,278.318L199.338,274.773L204.414,270.818L207.775,266.591L210.397,261.818L211.565,256.636L211.757,251.045L212.088,244.773L212.162,237.818L212.175,230.182L212.174,221.864L212.173,212.727L212.173,202.636L212.174,191.591L212.176,179.318L212.183,165.955L212.643,151.091L214.4,134.864L219.258,117L228.857,97.364L240.58,75.682L256.345,51.955L275.006,25.773\" stroke=\"rgb(255, 129, 64)\" stroke-width=\"2\"/></g></g><path class=\"foreground\" aria-hidden=\"true\" d=\"\" display=\"none\"/></g><g transform=\"translate(0,0)\"><path class=\"background\" aria-hidden=\"true\" d=\"M0,0h300v300h-300Z\"/><g><g class=\"mark-line role-mark marks\" role=\"graphics-object\" aria-roledescription=\"line mark container\"><path aria-label=\"θ (K): 303.302134196; Height (AGL) (km): 0; time (hours): 06:00; height: 0\" role=\"graphics-symbol\" aria-roledescription=\"line mark\" d=\"M136.915,300L148.926,298.636L158.934,297.136L167.43,295.5L175.135,293.727L182.143,291.682L188.208,289.5L193.82,287.045L197.944,284.455L201.425,281.455L203.833,278.318L205.716,274.773L207.28,270.818L207.747,266.591L207.883,261.818L208.014,256.636L208.012,251.045L208.009,244.773L208.007,237.818L208.005,230.182L208.003,221.864L208,212.727L207.998,202.636L207.996,191.591L207.996,179.318L208.571,165.955L209.555,151.091L211.778,134.864L217.618,117L228.654,97.364L242.14,75.682L259.4,51.955L279.162,25.773\" stroke=\"rgb(242, 162, 48)\" stroke-width=\"2\"/></g></g><path class=\"foreground\" aria-hidden=\"true\" d=\"\" display=\"none\"/></g><g transform=\"translate(0,0)\"><path class=\"background\" aria-hidden=\"true\" d=\"M0,0h300v300h-300Z\"/><g><g class=\"mark-line role-mark marks\" role=\"graphics-object\" aria-roledescription=\"line mark container\"><path aria-label=\"θ (K): 305.356348674; Height (AGL) (km): 0; time (hours): 07:00; height: 0\" role=\"graphics-symbol\" aria-roledescription=\"line mark\" d=\"M175.432,300L179.006,298.636L181.907,297.136L184.133,295.5L186.584,293.727L188.918,291.682L190.992,289.5L193.097,287.045L194.304,284.455L195.099,281.455L195.385,278.318L195.503,274.773L195.758,270.818L195.185,266.591L194.481,261.818L194.475,256.636L194.47,251.045L194.464,244.773L194.457,237.818L194.45,230.182L194.443,221.864L194.435,212.727L194.429,202.636L194.437,191.591L195.158,179.318L196.582,165.955L200.113,151.091L207.62,134.864L216.788,117L227.936,97.364L241.511,75.682L257.902,51.955L276.213,25.773\" stroke=\"rgb(214, 196, 51)\" stroke-width=\"2\"/></g></g><path class=\"foreground\" aria-hidden=\"true\" d=\"\" display=\"none\"/></g><g transform=\"translate(0,0)\"><path class=\"background\" aria-hidden=\"true\" d=\"M0,0h300v300h-300Z\"/><g><g class=\"mark-line role-mark marks\" role=\"graphics-object\" aria-roledescription=\"line mark container\"><path aria-label=\"θ (K): 306.163955688; Height (AGL) (km): 0; time (hours): 08:00; height: 0\" role=\"graphics-symbol\" aria-roledescription=\"line mark\" d=\"M190.574,300L190.823,298.636L190.892,297.136L190.611,295.5L190.986,293.727L191.689,291.682L192.618,289.5L193.923,287.045L194.627,284.455L195.12,281.455L195.3,278.318L195.363,274.773L195.662,270.818L195.214,266.591L194.656,261.818L194.649,256.636L194.641,251.045L194.633,244.773L194.623,237.818L194.613,230.182L194.601,221.864L194.59,212.727L194.577,202.636L194.566,191.591L194.952,179.318L196.293,165.955L197.916,151.091L201.49,134.864L208.725,117L218.001,97.364L229.559,75.682L243.637,51.955L259.49,25.773\" stroke=\"rgb(187, 227, 73)\" stroke-width=\"2\"/></g></g><path class=\"foreground\" aria-hidden=\"true\" d=\"\" display=\"none\"/></g><g transform=\"translate(0,0)\"><path class=\"background\" aria-hidden=\"true\" d=\"M0,0h300v300h-300Z\"/><g><g class=\"mark-line role-mark marks\" role=\"graphics-object\" aria-roledescription=\"line mark container\"><path aria-label=\"θ (K): 306.360555013; Height (AGL) (km): 0; time (hours): 09:00; height: 0\" role=\"graphics-symbol\" aria-roledescription=\"line mark\" d=\"M194.26,300L194.164,298.636L194.026,297.136L193.657,295.5L194.003,293.727L194.899,291.682L196.229,289.5L197.891,287.045L198.89,284.455L199.663,281.455L200.089,278.318L200.231,274.773L200.642,270.818L200.366,266.591L199.992,261.818L199.989,256.636L199.986,251.045L199.983,244.773L199.979,237.818L199.976,230.182L199.972,221.864L199.967,212.727L199.962,202.636L199.956,191.591L200.475,179.318L201.257,165.955L201.906,151.091L203.097,134.864L204.922,117L207.955,97.364L212.851,75.682L218.747,51.955L227.065,25.773\" stroke=\"rgb(150, 243, 88)\" stroke-width=\"2\"/></g></g><path class=\"foreground\" aria-hidden=\"true\" d=\"\" display=\"none\"/></g><g transform=\"translate(0,0)\"><path class=\"background\" aria-hidden=\"true\" d=\"M0,0h300v300h-300Z\"/><g><g class=\"mark-line role-mark marks\" role=\"graphics-object\" aria-roledescription=\"line mark container\"><path aria-label=\"θ (K): 306.048294067; Height (AGL) (km): 0; time (hours): 10:00; height: 0\" role=\"graphics-symbol\" aria-roledescription=\"line mark\" d=\"M188.406,300L188.533,298.636L188.566,297.136L188.267,295.5L188.623,293.727L189.44,291.682L190.58,289.5L192.033,287.045L192.842,284.455L193.481,281.455L193.821,278.318L193.937,274.773L194.334,270.818L194.112,266.591L193.849,261.818L193.846,256.636L193.844,251.045L193.842,244.773L193.839,237.818L193.836,230.182L193.832,221.864L193.828,212.727L193.824,202.636L193.82,191.591L193.814,179.318L193.809,165.955L193.804,151.091L194.137,134.864L195.459,117L198.427,97.364L204.19,75.682L212.156,51.955L221.876,25.773\" stroke=\"rgb(100, 246, 95)\" stroke-width=\"2\"/></g></g><path class=\"foreground\" aria-hidden=\"true\" d=\"\" display=\"none\"/></g><g transform=\"translate(0,0)\"><path class=\"background\" aria-hidden=\"true\" d=\"M0,0h300v300h-300Z\"/><g><g class=\"mark-line role-mark marks\" role=\"graphics-object\" aria-roledescription=\"line mark container\"><path aria-label=\"θ (K): 306.573313395; Height (AGL) (km): 0; time (hours): 11:00; height: 0\" role=\"graphics-symbol\" aria-roledescription=\"line mark\" d=\"M198.25,300L197.557,298.636L197.06,297.136L196.389,295.5L196.515,293.727L197.241,291.682L198.433,289.5L200.099,287.045L201.203,284.455L202.235,281.455L203.052,278.318L203.664,274.773L204.556,270.818L204.804,266.591L205.024,261.818L205.021,256.636L205.019,251.045L205.016,244.773L205.012,237.818L205.009,230.182L205.005,221.864L205,212.727L204.995,202.636L204.99,191.591L204.984,179.318L204.978,165.955L205.395,151.091L206.187,134.864L207.121,117L208.317,97.364L209.8,75.682L212.899,51.955L217.294,25.773\" stroke=\"rgb(59, 242, 119)\" stroke-width=\"2\"/></g></g><path class=\"foreground\" aria-hidden=\"true\" d=\"\" display=\"none\"/></g><g transform=\"translate(0,0)\"><path class=\"background\" aria-hidden=\"true\" d=\"M0,0h300v300h-300Z\"/><g><g class=\"mark-line role-mark marks\" role=\"graphics-object\" aria-roledescription=\"line mark container\"><path aria-label=\"θ (K): 308.465911865; Height (AGL) (km): 0; time (hours): 12:00; height: 0\" role=\"graphics-symbol\" aria-roledescription=\"line mark\" d=\"M233.736,300L229.791,298.636L226.62,297.136L223.825,295.5L222.718,293.727L223.129,291.682L224.822,289.5L227.682,287.045L230.176,284.455L232.573,281.455L234.308,278.318L235.639,274.773L236.842,270.818L236.829,266.591L236.133,261.818L236.127,256.636L236.12,251.045L236.113,244.773L236.104,237.818L236.095,230.182L236.084,221.864L236.073,212.727L236.061,202.636L236.047,191.591L236.031,179.318L236.014,165.955L235.995,151.091L235.974,134.864L235.952,117L236.064,97.364L236.84,75.682L242.967,51.955L254.404,25.773\" stroke=\"rgb(34, 228, 153)\" stroke-width=\"2\"/></g></g><path class=\"foreground\" aria-hidden=\"true\" d=\"\" display=\"none\"/></g><g transform=\"translate(0,0)\"><path class=\"background\" aria-hidden=\"true\" d=\"M0,0h300v300h-300Z\"/><g><g class=\"mark-line role-mark marks\" role=\"graphics-object\" aria-roledescription=\"line mark container\"><path aria-label=\"θ (K): 309.636652629; Height (AGL) (km): 0; time (hours): 13:00; height: 0\" role=\"graphics-symbol\" aria-roledescription=\"line mark\" d=\"M255.687,300L251.35,298.636L247.725,297.136L244.498,295.5L243.054,293.727L243.183,291.682L244.689,289.5L247.478,287.045L249.938,284.455L252.289,281.455L253.903,278.318L255.095,274.773L256.074,270.818L255.723,266.591L254.542,261.818L254.535,256.636L254.529,251.045L254.521,244.773L254.512,237.818L254.502,230.182L254.492,221.864L254.48,212.727L254.468,202.636L254.454,191.591L254.438,179.318L254.421,165.955L254.401,151.091L254.38,134.864L254.357,117L254.331,97.364L254.306,75.682L258.575,51.955L271.257,25.773\" stroke=\"rgb(25, 206, 186)\" stroke-width=\"2\"/></g></g><path class=\"foreground\" aria-hidden=\"true\" d=\"\" display=\"none\"/></g><g transform=\"translate(0,0)\"><path class=\"background\" aria-hidden=\"true\" d=\"M0,0h300v300h-300Z\"/><g><g class=\"mark-line role-mark marks\" role=\"graphics-object\" aria-roledescription=\"line mark container\"><path aria-label=\"θ (K): 309.172368368; Height (AGL) (km): 0; time (hours): 14:00; height: 0\" role=\"graphics-symbol\" aria-roledescription=\"line mark\" d=\"M246.982,300L245.352,298.636L243.902,297.136L242.321,295.5L241.665,293.727L241.654,291.682L242.304,289.5L243.611,287.045L244.48,284.455L245.3,281.455L245.843,278.318L246.185,274.773L246.843,270.818L246.777,266.591L246.609,261.818L246.605,256.636L246.6,251.045L246.594,244.773L246.588,237.818L246.582,230.182L246.574,221.864L246.566,212.727L246.557,202.636L246.547,191.591L246.536,179.318L246.524,165.955L246.51,151.091L246.495,134.864L246.479,117L247.101,97.364L249.585,75.682L254.409,51.955L260.856,25.773\" stroke=\"rgb(33, 177, 212)\" stroke-width=\"2\"/></g></g><path class=\"foreground\" aria-hidden=\"true\" d=\"\" display=\"none\"/></g><g transform=\"translate(0,0)\"><path class=\"background\" aria-hidden=\"true\" d=\"M0,0h300v300h-300Z\"/><g><g class=\"mark-line role-mark marks\" role=\"graphics-object\" aria-roledescription=\"line mark container\"><path aria-label=\"θ (K): 309.364079793; Height (AGL) (km): 0; time (hours): 15:00; height: 0\" role=\"graphics-symbol\" aria-roledescription=\"line mark\" d=\"M250.576,300L249.889,298.636L249.214,297.136L248.292,295.5L248.119,293.727L248.436,291.682L249.289,289.5L250.733,287.045L251.695,284.455L252.608,281.455L253.23,278.318L253.638,274.773L254.364,270.818L254.368,266.591L254.279,261.818L254.275,256.636L254.271,251.045L254.266,244.773L254.261,237.818L254.255,230.182L254.248,221.864L254.241,212.727L254.233,202.636L254.224,191.591L254.214,179.318L254.204,165.955L254.192,151.091L254.179,134.864L254.164,117L254.149,97.364L256.196,75.682L260.816,51.955L267.337,25.773\" stroke=\"rgb(51, 145, 224)\" stroke-width=\"2\"/></g></g><path class=\"foreground\" aria-hidden=\"true\" d=\"\" display=\"none\"/></g><g transform=\"translate(0,0)\"><path class=\"background\" aria-hidden=\"true\" d=\"M0,0h300v300h-300Z\"/><g><g class=\"mark-line role-mark marks\" role=\"graphics-object\" aria-roledescription=\"line mark container\"><path aria-label=\"θ (K): 309.723561605; Height (AGL) (km): 0; time (hours): 16:00; height: 0\" role=\"graphics-symbol\" aria-roledescription=\"line mark\" d=\"M257.317,300L257.195,298.636L256.909,297.136L256.326,295.5L256.44,293.727L257.029,291.682L258.129,289.5L259.81,287.045L260.957,284.455L262.017,281.455L262.68,278.318L263.095,274.773L263.787,270.818L263.676,266.591L263.358,261.818L263.356,256.636L263.353,251.045L263.35,244.773L263.346,237.818L263.342,230.182L263.338,221.864L263.333,212.727L263.328,202.636L263.322,191.591L263.316,179.318L263.309,165.955L263.301,151.091L263.293,134.864L263.507,117L263.982,97.364L264.623,75.682L267.76,51.955L274.604,25.773\" stroke=\"rgb(74, 113, 220)\" stroke-width=\"2\"/></g></g><path class=\"foreground\" aria-hidden=\"true\" d=\"\" display=\"none\"/></g><g transform=\"translate(0,0)\"><path class=\"background\" aria-hidden=\"true\" d=\"M0,0h300v300h-300Z\"/><g><g class=\"mark-line role-mark marks\" role=\"graphics-object\" aria-roledescription=\"line mark container\"><path aria-label=\"θ (K): 309.463916016; Height (AGL) (km): 0; time (hours): 17:00; height: 0\" role=\"graphics-symbol\" aria-roledescription=\"line mark\" d=\"M252.448,300L253.516,298.636L254.386,297.136L254.891,295.5L255.921,293.727L257.258,291.682L258.926,289.5L260.999,287.045L262.381,284.455L263.599,281.455L264.365,278.318L264.821,274.773L265.576,270.818L265.6,266.591L265.504,261.818L265.501,256.636L265.499,251.045L265.496,244.773L265.493,237.818L265.49,230.182L265.486,221.864L265.482,212.727L265.478,202.636L265.473,191.591L265.467,179.318L265.462,165.955L265.455,151.091L265.447,134.864L265.935,117L266.647,97.364L267.949,75.682L270.124,51.955L273.851,25.773\" stroke=\"rgb(95, 86, 201)\" stroke-width=\"2\"/></g></g><path class=\"foreground\" aria-hidden=\"true\" d=\"\" display=\"none\"/></g></g><g class=\"mark-group role-legend\" role=\"graphics-symbol\" aria-roledescription=\"legend\" aria-label=\"Symbol legend titled 'time (hours)' for stroke color with 18 values: 00:00, 01:00, 02:00, 03:00, 04:00, ending with 17:00\"><g transform=\"translate(318,0)\"><path class=\"background\" aria-hidden=\"true\" d=\"M0,0h64v248h-64Z\" pointer-events=\"none\"/><g><g class=\"mark-group role-legend-entry\"><g transform=\"translate(0,16)\"><path class=\"background\" aria-hidden=\"true\" d=\"M0,0h0v0h0Z\" pointer-events=\"none\"/><g><g class=\"mark-group role-scope\" role=\"graphics-object\" aria-roledescription=\"group mark container\"><g transform=\"translate(0,0)\"><path class=\"background\" aria-hidden=\"true\" d=\"M0,0h41.0244140625v11h-41.0244140625Z\" pointer-events=\"none\" opacity=\"1\"/><g><g class=\"mark-symbol role-legend-symbol\" pointer-events=\"none\"><path transform=\"translate(6,6)\" d=\"M-5,0L5,0\" stroke=\"rgb(152, 61, 178)\" stroke-width=\"1.5\" opacity=\"1\"/></g><g class=\"mark-text role-legend-label\" pointer-events=\"none\"><text text-anchor=\"start\" transform=\"translate(16,9)\" font-family=\"sans-serif\" font-size=\"10px\" fill=\"#000\" opacity=\"1\">00:00</text></g></g><path class=\"foreground\" aria-hidden=\"true\" d=\"\" pointer-events=\"none\" display=\"none\"/></g><g transform=\"translate(0,13)\"><path class=\"background\" aria-hidden=\"true\" d=\"M0,0h41.0244140625v11h-41.0244140625Z\" pointer-events=\"none\" opacity=\"1\"/><g><g class=\"mark-symbol role-legend-symbol\" pointer-events=\"none\"><path transform=\"translate(6,6)\" d=\"M-5,0L5,0\" stroke=\"rgb(195, 60, 173)\" stroke-width=\"1.5\" opacity=\"1\"/></g><g class=\"mark-text role-legend-label\" pointer-events=\"none\"><text text-anchor=\"start\" transform=\"translate(16,9)\" font-family=\"sans-serif\" font-size=\"10px\" fill=\"#000\" opacity=\"1\">01:00</text></g></g><path class=\"foreground\" aria-hidden=\"true\" d=\"\" pointer-events=\"none\" display=\"none\"/></g><g transform=\"translate(0,26)\"><path class=\"background\" aria-hidden=\"true\" d=\"M0,0h41.0244140625v11h-41.0244140625Z\" pointer-events=\"none\" opacity=\"1\"/><g><g class=\"mark-symbol role-legend-symbol\" pointer-events=\"none\"><path transform=\"translate(6,6)\" d=\"M-5,0L5,0\" stroke=\"rgb(232, 66, 153)\" stroke-width=\"1.5\" opacity=\"1\"/></g><g class=\"mark-text role-legend-label\" pointer-events=\"none\"><text text-anchor=\"start\" transform=\"translate(16,9)\" font-family=\"sans-serif\" font-size=\"10px\" fill=\"#000\" opacity=\"1\">02:00</text></g></g><path class=\"foreground\" aria-hidden=\"true\" d=\"\" pointer-events=\"none\" display=\"none\"/></g><g transform=\"translate(0,39)\"><path class=\"background\" aria-hidden=\"true\" d=\"M0,0h41.0244140625v11h-41.0244140625Z\" pointer-events=\"none\" opacity=\"1\"/><g><g class=\"mark-symbol role-legend-symbol\" pointer-events=\"none\"><path transform=\"translate(6,6)\" d=\"M-5,0L5,0\" stroke=\"rgb(254, 79, 124)\" stroke-width=\"1.5\" opacity=\"1\"/></g><g class=\"mark-text role-legend-label\" pointer-events=\"none\"><text text-anchor=\"start\" transform=\"translate(16,9)\" font-family=\"sans-serif\" font-size=\"10px\" fill=\"#000\" opacity=\"1\">03:00</text></g></g><path class=\"foreground\" aria-hidden=\"true\" d=\"\" pointer-events=\"none\" display=\"none\"/></g><g transform=\"translate(0,52)\"><path class=\"background\" aria-hidden=\"true\" d=\"M0,0h41.0244140625v11h-41.0244140625Z\" pointer-events=\"none\" opacity=\"1\"/><g><g class=\"mark-symbol role-legend-symbol\" pointer-events=\"none\"><path transform=\"translate(6,6)\" d=\"M-5,0L5,0\" stroke=\"rgb(255, 100, 91)\" stroke-width=\"1.5\" opacity=\"1\"/></g><g class=\"mark-text role-legend-label\" pointer-events=\"none\"><text text-anchor=\"start\" transform=\"translate(16,9)\" font-family=\"sans-serif\" font-size=\"10px\" fill=\"#000\" opacity=\"1\">04:00</text></g></g><path class=\"foreground\" aria-hidden=\"true\" d=\"\" pointer-events=\"none\" display=\"none\"/></g><g transform=\"translate(0,65)\"><path class=\"background\" aria-hidden=\"true\" d=\"M0,0h41.0244140625v11h-41.0244140625Z\" pointer-events=\"none\" opacity=\"1\"/><g><g class=\"mark-symbol role-legend-symbol\" pointer-events=\"none\"><path transform=\"translate(6,6)\" d=\"M-5,0L5,0\" stroke=\"rgb(255, 129, 64)\" stroke-width=\"1.5\" opacity=\"1\"/></g><g class=\"mark-text role-legend-label\" pointer-events=\"none\"><text text-anchor=\"start\" transform=\"translate(16,9)\" font-family=\"sans-serif\" font-size=\"10px\" fill=\"#000\" opacity=\"1\">05:00</text></g></g><path class=\"foreground\" aria-hidden=\"true\" d=\"\" pointer-events=\"none\" display=\"none\"/></g><g transform=\"translate(0,78)\"><path class=\"background\" aria-hidden=\"true\" d=\"M0,0h41.0244140625v11h-41.0244140625Z\" pointer-events=\"none\" opacity=\"1\"/><g><g class=\"mark-symbol role-legend-symbol\" pointer-events=\"none\"><path transform=\"translate(6,6)\" d=\"M-5,0L5,0\" stroke=\"rgb(242, 162, 48)\" stroke-width=\"1.5\" opacity=\"1\"/></g><g class=\"mark-text role-legend-label\" pointer-events=\"none\"><text text-anchor=\"start\" transform=\"translate(16,9)\" font-family=\"sans-serif\" font-size=\"10px\" fill=\"#000\" opacity=\"1\">06:00</text></g></g><path class=\"foreground\" aria-hidden=\"true\" d=\"\" pointer-events=\"none\" display=\"none\"/></g><g transform=\"translate(0,91)\"><path class=\"background\" aria-hidden=\"true\" d=\"M0,0h41.0244140625v11h-41.0244140625Z\" pointer-events=\"none\" opacity=\"1\"/><g><g class=\"mark-symbol role-legend-symbol\" pointer-events=\"none\"><path transform=\"translate(6,6)\" d=\"M-5,0L5,0\" stroke=\"rgb(214, 196, 51)\" stroke-width=\"1.5\" opacity=\"1\"/></g><g class=\"mark-text role-legend-label\" pointer-events=\"none\"><text text-anchor=\"start\" transform=\"translate(16,9)\" font-family=\"sans-serif\" font-size=\"10px\" fill=\"#000\" opacity=\"1\">07:00</text></g></g><path class=\"foreground\" aria-hidden=\"true\" d=\"\" pointer-events=\"none\" display=\"none\"/></g><g transform=\"translate(0,104)\"><path class=\"background\" aria-hidden=\"true\" d=\"M0,0h41.0244140625v11h-41.0244140625Z\" pointer-events=\"none\" opacity=\"1\"/><g><g class=\"mark-symbol role-legend-symbol\" pointer-events=\"none\"><path transform=\"translate(6,6)\" d=\"M-5,0L5,0\" stroke=\"rgb(187, 227, 73)\" stroke-width=\"1.5\" opacity=\"1\"/></g><g class=\"mark-text role-legend-label\" pointer-events=\"none\"><text text-anchor=\"start\" transform=\"translate(16,9)\" font-family=\"sans-serif\" font-size=\"10px\" fill=\"#000\" opacity=\"1\">08:00</text></g></g><path class=\"foreground\" aria-hidden=\"true\" d=\"\" pointer-events=\"none\" display=\"none\"/></g><g transform=\"translate(0,117)\"><path class=\"background\" aria-hidden=\"true\" d=\"M0,0h41.0244140625v11h-41.0244140625Z\" pointer-events=\"none\" opacity=\"1\"/><g><g class=\"mark-symbol role-legend-symbol\" pointer-events=\"none\"><path transform=\"translate(6,6)\" d=\"M-5,0L5,0\" stroke=\"rgb(150, 243, 88)\" stroke-width=\"1.5\" opacity=\"1\"/></g><g class=\"mark-text role-legend-label\" pointer-events=\"none\"><text text-anchor=\"start\" transform=\"translate(16,9)\" font-family=\"sans-serif\" font-size=\"10px\" fill=\"#000\" opacity=\"1\">09:00</text></g></g><path class=\"foreground\" aria-hidden=\"true\" d=\"\" pointer-events=\"none\" display=\"none\"/></g><g transform=\"translate(0,130)\"><path class=\"background\" aria-hidden=\"true\" d=\"M0,0h41.0244140625v11h-41.0244140625Z\" pointer-events=\"none\" opacity=\"1\"/><g><g class=\"mark-symbol role-legend-symbol\" pointer-events=\"none\"><path transform=\"translate(6,6)\" d=\"M-5,0L5,0\" stroke=\"rgb(100, 246, 95)\" stroke-width=\"1.5\" opacity=\"1\"/></g><g class=\"mark-text role-legend-label\" pointer-events=\"none\"><text text-anchor=\"start\" transform=\"translate(16,9)\" font-family=\"sans-serif\" font-size=\"10px\" fill=\"#000\" opacity=\"1\">10:00</text></g></g><path class=\"foreground\" aria-hidden=\"true\" d=\"\" pointer-events=\"none\" display=\"none\"/></g><g transform=\"translate(0,143)\"><path class=\"background\" aria-hidden=\"true\" d=\"M0,0h41.0244140625v11h-41.0244140625Z\" pointer-events=\"none\" opacity=\"1\"/><g><g class=\"mark-symbol role-legend-symbol\" pointer-events=\"none\"><path transform=\"translate(6,6)\" d=\"M-5,0L5,0\" stroke=\"rgb(59, 242, 119)\" stroke-width=\"1.5\" opacity=\"1\"/></g><g class=\"mark-text role-legend-label\" pointer-events=\"none\"><text text-anchor=\"start\" transform=\"translate(16,9)\" font-family=\"sans-serif\" font-size=\"10px\" fill=\"#000\" opacity=\"1\">11:00</text></g></g><path class=\"foreground\" aria-hidden=\"true\" d=\"\" pointer-events=\"none\" display=\"none\"/></g><g transform=\"translate(0,156)\"><path class=\"background\" aria-hidden=\"true\" d=\"M0,0h41.0244140625v11h-41.0244140625Z\" pointer-events=\"none\" opacity=\"1\"/><g><g class=\"mark-symbol role-legend-symbol\" pointer-events=\"none\"><path transform=\"translate(6,6)\" d=\"M-5,0L5,0\" stroke=\"rgb(34, 228, 153)\" stroke-width=\"1.5\" opacity=\"1\"/></g><g class=\"mark-text role-legend-label\" pointer-events=\"none\"><text text-anchor=\"start\" transform=\"translate(16,9)\" font-family=\"sans-serif\" font-size=\"10px\" fill=\"#000\" opacity=\"1\">12:00</text></g></g><path class=\"foreground\" aria-hidden=\"true\" d=\"\" pointer-events=\"none\" display=\"none\"/></g><g transform=\"translate(0,169)\"><path class=\"background\" aria-hidden=\"true\" d=\"M0,0h41.0244140625v11h-41.0244140625Z\" pointer-events=\"none\" opacity=\"1\"/><g><g class=\"mark-symbol role-legend-symbol\" pointer-events=\"none\"><path transform=\"translate(6,6)\" d=\"M-5,0L5,0\" stroke=\"rgb(25, 206, 186)\" stroke-width=\"1.5\" opacity=\"1\"/></g><g class=\"mark-text role-legend-label\" pointer-events=\"none\"><text text-anchor=\"start\" transform=\"translate(16,9)\" font-family=\"sans-serif\" font-size=\"10px\" fill=\"#000\" opacity=\"1\">13:00</text></g></g><path class=\"foreground\" aria-hidden=\"true\" d=\"\" pointer-events=\"none\" display=\"none\"/></g><g transform=\"translate(0,182)\"><path class=\"background\" aria-hidden=\"true\" d=\"M0,0h41.0244140625v11h-41.0244140625Z\" pointer-events=\"none\" opacity=\"1\"/><g><g class=\"mark-symbol role-legend-symbol\" pointer-events=\"none\"><path transform=\"translate(6,6)\" d=\"M-5,0L5,0\" stroke=\"rgb(33, 177, 212)\" stroke-width=\"1.5\" opacity=\"1\"/></g><g class=\"mark-text role-legend-label\" pointer-events=\"none\"><text text-anchor=\"start\" transform=\"translate(16,9)\" font-family=\"sans-serif\" font-size=\"10px\" fill=\"#000\" opacity=\"1\">14:00</text></g></g><path class=\"foreground\" aria-hidden=\"true\" d=\"\" pointer-events=\"none\" display=\"none\"/></g><g transform=\"translate(0,195)\"><path class=\"background\" aria-hidden=\"true\" d=\"M0,0h41.0244140625v11h-41.0244140625Z\" pointer-events=\"none\" opacity=\"1\"/><g><g class=\"mark-symbol role-legend-symbol\" pointer-events=\"none\"><path transform=\"translate(6,6)\" d=\"M-5,0L5,0\" stroke=\"rgb(51, 145, 224)\" stroke-width=\"1.5\" opacity=\"1\"/></g><g class=\"mark-text role-legend-label\" pointer-events=\"none\"><text text-anchor=\"start\" transform=\"translate(16,9)\" font-family=\"sans-serif\" font-size=\"10px\" fill=\"#000\" opacity=\"1\">15:00</text></g></g><path class=\"foreground\" aria-hidden=\"true\" d=\"\" pointer-events=\"none\" display=\"none\"/></g><g transform=\"translate(0,208)\"><path class=\"background\" aria-hidden=\"true\" d=\"M0,0h41.0244140625v11h-41.0244140625Z\" pointer-events=\"none\" opacity=\"1\"/><g><g class=\"mark-symbol role-legend-symbol\" pointer-events=\"none\"><path transform=\"translate(6,6)\" d=\"M-5,0L5,0\" stroke=\"rgb(74, 113, 220)\" stroke-width=\"1.5\" opacity=\"1\"/></g><g class=\"mark-text role-legend-label\" pointer-events=\"none\"><text text-anchor=\"start\" transform=\"translate(16,9)\" font-family=\"sans-serif\" font-size=\"10px\" fill=\"#000\" opacity=\"1\">16:00</text></g></g><path class=\"foreground\" aria-hidden=\"true\" d=\"\" pointer-events=\"none\" display=\"none\"/></g><g transform=\"translate(0,221)\"><path class=\"background\" aria-hidden=\"true\" d=\"M0,0h41.0244140625v11h-41.0244140625Z\" pointer-events=\"none\" opacity=\"1\"/><g><g class=\"mark-symbol role-legend-symbol\" pointer-events=\"none\"><path transform=\"translate(6,6)\" d=\"M-5,0L5,0\" stroke=\"rgb(95, 86, 201)\" stroke-width=\"1.5\" opacity=\"1\"/></g><g class=\"mark-text role-legend-label\" pointer-events=\"none\"><text text-anchor=\"start\" transform=\"translate(16,9)\" font-family=\"sans-serif\" font-size=\"10px\" fill=\"#000\" opacity=\"1\">17:00</text></g></g><path class=\"foreground\" aria-hidden=\"true\" d=\"\" pointer-events=\"none\" display=\"none\"/></g></g></g><path class=\"foreground\" aria-hidden=\"true\" d=\"\" pointer-events=\"none\" display=\"none\"/></g></g><g class=\"mark-text role-legend-title\" pointer-events=\"none\"><text text-anchor=\"start\" transform=\"translate(0,9)\" font-family=\"sans-serif\" font-size=\"11px\" font-weight=\"bold\" fill=\"#000\" opacity=\"1\">time (hours)</text></g></g><path class=\"foreground\" aria-hidden=\"true\" d=\"\" pointer-events=\"none\" display=\"none\"/></g></g></g><path class=\"foreground\" aria-hidden=\"true\" d=\"\" display=\"none\"/></g></g></g></svg>"
      ],
      "text/plain": [
       "alt.Chart(...)"
      ]
     },
     "execution_count": 110,
     "metadata": {},
     "output_type": "execute_result"
    }
   ],
   "source": [
    "alt.Chart(\n",
    "    tropoe_df[tropoe_df.time > '20230418'].query(\"height < 2050\")\n",
    ").mark_line(size=2).encode(\n",
    "    alt.X('mean(theta):Q').scale(zero=False).title('θ (K)'),\n",
    "    alt.Y('height').scale(type='linear').title('Height (AGL) (km)'),\n",
    "    alt.Color('hours(time):O').scale(scheme='rainbow'),\n",
    "    # alt.Facet('hours(time):O', columns=6),\n",
    "    order='height',\n",
    "    tooltip = 'hours(time)'\n",
    ").properties(width=300, height=300)"
   ]
  },
  {
   "cell_type": "code",
   "execution_count": 111,
   "metadata": {},
   "outputs": [
    {
     "data": {
      "image/svg+xml": [
       "<svg xmlns=\"http://www.w3.org/2000/svg\" xmlns:xlink=\"http://www.w3.org/1999/xlink\" version=\"1.1\" class=\"marks\" width=\"440\" height=\"347\" viewBox=\"0 0 440 347\"><rect width=\"440\" height=\"347\" fill=\"white\"/><g fill=\"none\" stroke-miterlimit=\"10\" transform=\"translate(53,10)\"><g class=\"mark-group role-frame root\" role=\"graphics-object\" aria-roledescription=\"group mark container\"><g transform=\"translate(0,0)\"><path class=\"background\" aria-hidden=\"true\" d=\"M0.5,0.5h300v300h-300Z\" stroke=\"#ddd\"/><g><g class=\"mark-group role-axis\" aria-hidden=\"true\"><g transform=\"translate(0.5,300.5)\"><path class=\"background\" aria-hidden=\"true\" d=\"M0,0h0v0h0Z\" pointer-events=\"none\"/><g><g class=\"mark-rule role-axis-grid\" pointer-events=\"none\"><line transform=\"translate(0,-300)\" x2=\"0\" y2=\"300\" stroke=\"#ddd\" stroke-width=\"1\" opacity=\"1\"/><line transform=\"translate(43,-300)\" x2=\"0\" y2=\"300\" stroke=\"#ddd\" stroke-width=\"1\" opacity=\"1\"/><line transform=\"translate(86,-300)\" x2=\"0\" y2=\"300\" stroke=\"#ddd\" stroke-width=\"1\" opacity=\"1\"/><line transform=\"translate(129,-300)\" x2=\"0\" y2=\"300\" stroke=\"#ddd\" stroke-width=\"1\" opacity=\"1\"/><line transform=\"translate(171,-300)\" x2=\"0\" y2=\"300\" stroke=\"#ddd\" stroke-width=\"1\" opacity=\"1\"/><line transform=\"translate(214,-300)\" x2=\"0\" y2=\"300\" stroke=\"#ddd\" stroke-width=\"1\" opacity=\"1\"/><line transform=\"translate(257,-300)\" x2=\"0\" y2=\"300\" stroke=\"#ddd\" stroke-width=\"1\" opacity=\"1\"/><line transform=\"translate(300,-300)\" x2=\"0\" y2=\"300\" stroke=\"#ddd\" stroke-width=\"1\" opacity=\"1\"/></g></g><path class=\"foreground\" aria-hidden=\"true\" d=\"\" pointer-events=\"none\" display=\"none\"/></g></g><g class=\"mark-group role-axis\" aria-hidden=\"true\"><g transform=\"translate(0.5,0.5)\"><path class=\"background\" aria-hidden=\"true\" d=\"M0,0h0v0h0Z\" pointer-events=\"none\"/><g><g class=\"mark-rule role-axis-grid\" pointer-events=\"none\"><line transform=\"translate(0,300)\" x2=\"300\" y2=\"0\" stroke=\"#ddd\" stroke-width=\"1\" opacity=\"1\"/><line transform=\"translate(0,270)\" x2=\"300\" y2=\"0\" stroke=\"#ddd\" stroke-width=\"1\" opacity=\"1\"/><line transform=\"translate(0,240)\" x2=\"300\" y2=\"0\" stroke=\"#ddd\" stroke-width=\"1\" opacity=\"1\"/><line transform=\"translate(0,210)\" x2=\"300\" y2=\"0\" stroke=\"#ddd\" stroke-width=\"1\" opacity=\"1\"/><line transform=\"translate(0,180)\" x2=\"300\" y2=\"0\" stroke=\"#ddd\" stroke-width=\"1\" opacity=\"1\"/><line transform=\"translate(0,150)\" x2=\"300\" y2=\"0\" stroke=\"#ddd\" stroke-width=\"1\" opacity=\"1\"/><line transform=\"translate(0,120)\" x2=\"300\" y2=\"0\" stroke=\"#ddd\" stroke-width=\"1\" opacity=\"1\"/><line transform=\"translate(0,90)\" x2=\"300\" y2=\"0\" stroke=\"#ddd\" stroke-width=\"1\" opacity=\"1\"/><line transform=\"translate(0,60)\" x2=\"300\" y2=\"0\" stroke=\"#ddd\" stroke-width=\"1\" opacity=\"1\"/><line transform=\"translate(0,30)\" x2=\"300\" y2=\"0\" stroke=\"#ddd\" stroke-width=\"1\" opacity=\"1\"/><line transform=\"translate(0,0)\" x2=\"300\" y2=\"0\" stroke=\"#ddd\" stroke-width=\"1\" opacity=\"1\"/></g></g><path class=\"foreground\" aria-hidden=\"true\" d=\"\" pointer-events=\"none\" display=\"none\"/></g></g><g class=\"mark-group role-axis\" role=\"graphics-symbol\" aria-roledescription=\"axis\" aria-label=\"X-axis titled 'θ (K)' for a linear scale with values from 308.8 to 310.2\"><g transform=\"translate(0.5,300.5)\"><path class=\"background\" aria-hidden=\"true\" d=\"M0,0h0v0h0Z\" pointer-events=\"none\"/><g><g class=\"mark-rule role-axis-tick\" pointer-events=\"none\"><line transform=\"translate(0,0)\" x2=\"0\" y2=\"5\" stroke=\"#888\" stroke-width=\"1\" opacity=\"1\"/><line transform=\"translate(43,0)\" x2=\"0\" y2=\"5\" stroke=\"#888\" stroke-width=\"1\" opacity=\"1\"/><line transform=\"translate(86,0)\" x2=\"0\" y2=\"5\" stroke=\"#888\" stroke-width=\"1\" opacity=\"1\"/><line transform=\"translate(129,0)\" x2=\"0\" y2=\"5\" stroke=\"#888\" stroke-width=\"1\" opacity=\"1\"/><line transform=\"translate(171,0)\" x2=\"0\" y2=\"5\" stroke=\"#888\" stroke-width=\"1\" opacity=\"1\"/><line transform=\"translate(214,0)\" x2=\"0\" y2=\"5\" stroke=\"#888\" stroke-width=\"1\" opacity=\"1\"/><line transform=\"translate(257,0)\" x2=\"0\" y2=\"5\" stroke=\"#888\" stroke-width=\"1\" opacity=\"1\"/><line transform=\"translate(300,0)\" x2=\"0\" y2=\"5\" stroke=\"#888\" stroke-width=\"1\" opacity=\"1\"/></g><g class=\"mark-text role-axis-label\" pointer-events=\"none\"><text text-anchor=\"start\" transform=\"translate(0,15)\" font-family=\"sans-serif\" font-size=\"10px\" fill=\"#000\" opacity=\"1\">308.8</text><text text-anchor=\"middle\" transform=\"translate(42.85714285714111,15)\" font-family=\"sans-serif\" font-size=\"10px\" fill=\"#000\" opacity=\"1\">309.0</text><text text-anchor=\"middle\" transform=\"translate(85.71428571428223,15)\" font-family=\"sans-serif\" font-size=\"10px\" fill=\"#000\" opacity=\"1\">309.2</text><text text-anchor=\"middle\" transform=\"translate(128.57142857142335,15)\" font-family=\"sans-serif\" font-size=\"10px\" fill=\"#000\" opacity=\"1\">309.4</text><text text-anchor=\"middle\" transform=\"translate(171.42857142857665,15)\" font-family=\"sans-serif\" font-size=\"10px\" fill=\"#000\" opacity=\"1\">309.6</text><text text-anchor=\"middle\" transform=\"translate(214.28571428571775,15)\" font-family=\"sans-serif\" font-size=\"10px\" fill=\"#000\" opacity=\"1\">309.8</text><text text-anchor=\"middle\" transform=\"translate(257.1428571428589,15)\" font-family=\"sans-serif\" font-size=\"10px\" fill=\"#000\" opacity=\"1\">310.0</text><text text-anchor=\"end\" transform=\"translate(300,15)\" font-family=\"sans-serif\" font-size=\"10px\" fill=\"#000\" opacity=\"1\">310.2</text></g><g class=\"mark-rule role-axis-domain\" pointer-events=\"none\"><line transform=\"translate(0,0)\" x2=\"300\" y2=\"0\" stroke=\"#888\" stroke-width=\"1\" opacity=\"1\"/></g><g class=\"mark-text role-axis-title\" pointer-events=\"none\"><text text-anchor=\"middle\" transform=\"translate(150,30)\" font-family=\"sans-serif\" font-size=\"11px\" font-weight=\"bold\" fill=\"#000\" opacity=\"1\">θ (K)</text></g></g><path class=\"foreground\" aria-hidden=\"true\" d=\"\" pointer-events=\"none\" display=\"none\"/></g></g><g class=\"mark-group role-axis\" role=\"graphics-symbol\" aria-roledescription=\"axis\" aria-label=\"Y-axis titled 'Height (AGL) (km)' for a linear scale with values from 0 to 1,000\"><g transform=\"translate(0.5,0.5)\"><path class=\"background\" aria-hidden=\"true\" d=\"M0,0h0v0h0Z\" pointer-events=\"none\"/><g><g class=\"mark-rule role-axis-tick\" pointer-events=\"none\"><line transform=\"translate(0,300)\" x2=\"-5\" y2=\"0\" stroke=\"#888\" stroke-width=\"1\" opacity=\"1\"/><line transform=\"translate(0,270)\" x2=\"-5\" y2=\"0\" stroke=\"#888\" stroke-width=\"1\" opacity=\"1\"/><line transform=\"translate(0,240)\" x2=\"-5\" y2=\"0\" stroke=\"#888\" stroke-width=\"1\" opacity=\"1\"/><line transform=\"translate(0,210)\" x2=\"-5\" y2=\"0\" stroke=\"#888\" stroke-width=\"1\" opacity=\"1\"/><line transform=\"translate(0,180)\" x2=\"-5\" y2=\"0\" stroke=\"#888\" stroke-width=\"1\" opacity=\"1\"/><line transform=\"translate(0,150)\" x2=\"-5\" y2=\"0\" stroke=\"#888\" stroke-width=\"1\" opacity=\"1\"/><line transform=\"translate(0,120)\" x2=\"-5\" y2=\"0\" stroke=\"#888\" stroke-width=\"1\" opacity=\"1\"/><line transform=\"translate(0,90)\" x2=\"-5\" y2=\"0\" stroke=\"#888\" stroke-width=\"1\" opacity=\"1\"/><line transform=\"translate(0,60)\" x2=\"-5\" y2=\"0\" stroke=\"#888\" stroke-width=\"1\" opacity=\"1\"/><line transform=\"translate(0,30)\" x2=\"-5\" y2=\"0\" stroke=\"#888\" stroke-width=\"1\" opacity=\"1\"/><line transform=\"translate(0,0)\" x2=\"-5\" y2=\"0\" stroke=\"#888\" stroke-width=\"1\" opacity=\"1\"/></g><g class=\"mark-text role-axis-label\" pointer-events=\"none\"><text text-anchor=\"end\" transform=\"translate(-7,303)\" font-family=\"sans-serif\" font-size=\"10px\" fill=\"#000\" opacity=\"1\">0</text><text text-anchor=\"end\" transform=\"translate(-7,273)\" font-family=\"sans-serif\" font-size=\"10px\" fill=\"#000\" opacity=\"1\">100</text><text text-anchor=\"end\" transform=\"translate(-7,243)\" font-family=\"sans-serif\" font-size=\"10px\" fill=\"#000\" opacity=\"1\">200</text><text text-anchor=\"end\" transform=\"translate(-7,213)\" font-family=\"sans-serif\" font-size=\"10px\" fill=\"#000\" opacity=\"1\">300</text><text text-anchor=\"end\" transform=\"translate(-7,183)\" font-family=\"sans-serif\" font-size=\"10px\" fill=\"#000\" opacity=\"1\">400</text><text text-anchor=\"end\" transform=\"translate(-7,153)\" font-family=\"sans-serif\" font-size=\"10px\" fill=\"#000\" opacity=\"1\">500</text><text text-anchor=\"end\" transform=\"translate(-7,123)\" font-family=\"sans-serif\" font-size=\"10px\" fill=\"#000\" opacity=\"1\">600</text><text text-anchor=\"end\" transform=\"translate(-7,93.00000000000001)\" font-family=\"sans-serif\" font-size=\"10px\" fill=\"#000\" opacity=\"1\">700</text><text text-anchor=\"end\" transform=\"translate(-7,62.999999999999986)\" font-family=\"sans-serif\" font-size=\"10px\" fill=\"#000\" opacity=\"1\">800</text><text text-anchor=\"end\" transform=\"translate(-7,32.99999999999999)\" font-family=\"sans-serif\" font-size=\"10px\" fill=\"#000\" opacity=\"1\">900</text><text text-anchor=\"end\" transform=\"translate(-7,3)\" font-family=\"sans-serif\" font-size=\"10px\" fill=\"#000\" opacity=\"1\">1,000</text></g><g class=\"mark-rule role-axis-domain\" pointer-events=\"none\"><line transform=\"translate(0,300)\" x2=\"0\" y2=\"-300\" stroke=\"#888\" stroke-width=\"1\" opacity=\"1\"/></g><g class=\"mark-text role-axis-title\" pointer-events=\"none\"><text text-anchor=\"middle\" transform=\"translate(-36.0244140625,150) rotate(-90) translate(0,-2)\" font-family=\"sans-serif\" font-size=\"11px\" font-weight=\"bold\" fill=\"#000\" opacity=\"1\">Height (AGL) (km)</text></g></g><path class=\"foreground\" aria-hidden=\"true\" d=\"\" pointer-events=\"none\" display=\"none\"/></g></g><g class=\"mark-group role-scope pathgroup\" role=\"graphics-object\" aria-roledescription=\"group mark container\"><g transform=\"translate(0,0)\"><path class=\"background\" aria-hidden=\"true\" d=\"M0,0h300v300h-300Z\"/><g><g class=\"mark-line role-mark marks\" role=\"graphics-object\" aria-roledescription=\"line mark container\"><path aria-label=\"θ (K): 309.636652629; Height (AGL) (km): 0; time (hours): 13:00; height: 0\" role=\"graphics-symbol\" aria-roledescription=\"line mark\" d=\"M179.283,300L129.718,297L88.29,293.7L51.403,290.1L34.906,286.2L36.382,281.7L53.583,276.9L85.463,271.5L113.572,265.8L140.44,259.2L158.888,252.3L172.517,244.5L183.708,235.8L179.689,226.5L166.194,216L166.12,204.6L166.041,192.3L165.952,178.5L165.852,163.2L165.743,146.4L165.624,128.1L165.49,108L165.344,85.8L165.185,61.5L165.004,34.5L164.808,5.1\" stroke=\"rgb(238, 67, 149)\" stroke-width=\"2\"/></g></g><path class=\"foreground\" aria-hidden=\"true\" d=\"\" display=\"none\"/></g><g transform=\"translate(0,0)\"><path class=\"background\" aria-hidden=\"true\" d=\"M0,0h300v300h-300Z\"/><g><g class=\"mark-line role-mark marks\" role=\"graphics-object\" aria-roledescription=\"line mark container\"><path aria-label=\"θ (K): 309.172368368; Height (AGL) (km): 0; time (hours): 14:00; height: 0\" role=\"graphics-symbol\" aria-roledescription=\"line mark\" d=\"M79.793,300L61.17,297L44.591,293.7L26.524,290.1L19.029,286.2L18.903,281.7L26.329,276.9L41.268,271.5L51.197,265.8L60.566,259.2L66.772,252.3L70.684,244.5L78.201,235.8L77.456,226.5L75.534,216L75.484,204.6L75.428,192.3L75.365,178.5L75.294,163.2L75.218,146.4L75.133,128.1L75.041,108L74.938,85.8L74.824,61.5L74.699,34.5L74.557,5.1\" stroke=\"rgb(255, 140, 56)\" stroke-width=\"2\"/></g></g><path class=\"foreground\" aria-hidden=\"true\" d=\"\" display=\"none\"/></g><g transform=\"translate(0,0)\"><path class=\"background\" aria-hidden=\"true\" d=\"M0,0h300v300h-300Z\"/><g><g class=\"mark-line role-mark marks\" role=\"graphics-object\" aria-roledescription=\"line mark container\"><path aria-label=\"θ (K): 309.364079793; Height (AGL) (km): 0; time (hours): 15:00; height: 0\" role=\"graphics-symbol\" aria-roledescription=\"line mark\" d=\"M120.874,300L113.021,297L105.297,293.7L94.768,290.1L92.786,286.2L96.408,281.7L106.164,276.9L122.666,271.5L133.655,265.8L144.088,259.2L151.195,252.3L155.857,244.5L164.161,235.8L164.2,226.5L163.192,216L163.148,204.6L163.099,192.3L163.041,178.5L162.981,163.2L162.913,146.4L162.839,128.1L162.756,108L162.665,85.8L162.566,61.5L162.451,34.5L162.331,5.1\" stroke=\"rgb(175, 240, 91)\" stroke-width=\"2\"/></g></g><path class=\"foreground\" aria-hidden=\"true\" d=\"\" display=\"none\"/></g><g transform=\"translate(0,0)\"><path class=\"background\" aria-hidden=\"true\" d=\"M0,0h300v300h-300Z\"/><g><g class=\"mark-line role-mark marks\" role=\"graphics-object\" aria-roledescription=\"line mark container\"><path aria-label=\"θ (K): 309.723561605; Height (AGL) (km): 0; time (hours): 16:00; height: 0\" role=\"graphics-symbol\" aria-roledescription=\"line mark\" d=\"M197.906,300L196.516,297L193.243,293.7L186.579,290.1L187.889,286.2L194.618,281.7L207.189,276.9L226.395,271.5L239.514,265.8L251.627,259.2L259.205,252.3L263.94,244.5L271.849,235.8L270.579,226.5L266.949,216L266.92,204.6L266.887,192.3L266.852,178.5L266.81,163.2L266.768,146.4L266.719,128.1L266.665,108L266.607,85.8L266.542,61.5L266.469,34.5L266.39,5.1\" stroke=\"rgb(40, 234, 141)\" stroke-width=\"2\"/></g></g><path class=\"foreground\" aria-hidden=\"true\" d=\"\" display=\"none\"/></g><g transform=\"translate(0,0)\"><path class=\"background\" aria-hidden=\"true\" d=\"M0,0h300v300h-300Z\"/><g><g class=\"mark-line role-mark marks\" role=\"graphics-object\" aria-roledescription=\"line mark container\"><path aria-label=\"θ (K): 309.463916016; Height (AGL) (km): 0; time (hours): 17:00; height: 0\" role=\"graphics-symbol\" aria-roledescription=\"line mark\" d=\"M142.268,300L154.466,297L164.409,293.7L170.185,290.1L181.951,286.2L197.24,281.7L216.299,276.9L239.985,271.5L255.781,265.8L269.705,259.2L278.46,252.3L283.668,244.5L292.296,235.8L292.571,226.5L291.469,216L291.442,204.6L291.416,192.3L291.385,178.5L291.351,163.2L291.313,146.4L291.271,128.1L291.227,108L291.174,85.8L291.118,61.5L291.057,34.5L290.989,5.1\" stroke=\"rgb(47, 150, 224)\" stroke-width=\"2\"/></g></g><path class=\"foreground\" aria-hidden=\"true\" d=\"\" display=\"none\"/></g></g><g class=\"mark-group role-legend\" role=\"graphics-symbol\" aria-roledescription=\"legend\" aria-label=\"Symbol legend titled 'time (hours)' for stroke color with 5 values: 13:00, 14:00, 15:00, 16:00, 17:00\"><g transform=\"translate(318,0)\"><path class=\"background\" aria-hidden=\"true\" d=\"M0,0h64v79h-64Z\" pointer-events=\"none\"/><g><g class=\"mark-group role-legend-entry\"><g transform=\"translate(0,16)\"><path class=\"background\" aria-hidden=\"true\" d=\"M0,0h0v0h0Z\" pointer-events=\"none\"/><g><g class=\"mark-group role-scope\" role=\"graphics-object\" aria-roledescription=\"group mark container\"><g transform=\"translate(0,0)\"><path class=\"background\" aria-hidden=\"true\" d=\"M0,0h41.0244140625v11h-41.0244140625Z\" pointer-events=\"none\" opacity=\"1\"/><g><g class=\"mark-symbol role-legend-symbol\" pointer-events=\"none\"><path transform=\"translate(6,6)\" d=\"M-5,0L5,0\" stroke=\"rgb(238, 67, 149)\" stroke-width=\"1.5\" opacity=\"1\"/></g><g class=\"mark-text role-legend-label\" pointer-events=\"none\"><text text-anchor=\"start\" transform=\"translate(16,9)\" font-family=\"sans-serif\" font-size=\"10px\" fill=\"#000\" opacity=\"1\">13:00</text></g></g><path class=\"foreground\" aria-hidden=\"true\" d=\"\" pointer-events=\"none\" display=\"none\"/></g><g transform=\"translate(0,13)\"><path class=\"background\" aria-hidden=\"true\" d=\"M0,0h41.0244140625v11h-41.0244140625Z\" pointer-events=\"none\" opacity=\"1\"/><g><g class=\"mark-symbol role-legend-symbol\" pointer-events=\"none\"><path transform=\"translate(6,6)\" d=\"M-5,0L5,0\" stroke=\"rgb(255, 140, 56)\" stroke-width=\"1.5\" opacity=\"1\"/></g><g class=\"mark-text role-legend-label\" pointer-events=\"none\"><text text-anchor=\"start\" transform=\"translate(16,9)\" font-family=\"sans-serif\" font-size=\"10px\" fill=\"#000\" opacity=\"1\">14:00</text></g></g><path class=\"foreground\" aria-hidden=\"true\" d=\"\" pointer-events=\"none\" display=\"none\"/></g><g transform=\"translate(0,26)\"><path class=\"background\" aria-hidden=\"true\" d=\"M0,0h41.0244140625v11h-41.0244140625Z\" pointer-events=\"none\" opacity=\"1\"/><g><g class=\"mark-symbol role-legend-symbol\" pointer-events=\"none\"><path transform=\"translate(6,6)\" d=\"M-5,0L5,0\" stroke=\"rgb(175, 240, 91)\" stroke-width=\"1.5\" opacity=\"1\"/></g><g class=\"mark-text role-legend-label\" pointer-events=\"none\"><text text-anchor=\"start\" transform=\"translate(16,9)\" font-family=\"sans-serif\" font-size=\"10px\" fill=\"#000\" opacity=\"1\">15:00</text></g></g><path class=\"foreground\" aria-hidden=\"true\" d=\"\" pointer-events=\"none\" display=\"none\"/></g><g transform=\"translate(0,39)\"><path class=\"background\" aria-hidden=\"true\" d=\"M0,0h41.0244140625v11h-41.0244140625Z\" pointer-events=\"none\" opacity=\"1\"/><g><g class=\"mark-symbol role-legend-symbol\" pointer-events=\"none\"><path transform=\"translate(6,6)\" d=\"M-5,0L5,0\" stroke=\"rgb(40, 234, 141)\" stroke-width=\"1.5\" opacity=\"1\"/></g><g class=\"mark-text role-legend-label\" pointer-events=\"none\"><text text-anchor=\"start\" transform=\"translate(16,9)\" font-family=\"sans-serif\" font-size=\"10px\" fill=\"#000\" opacity=\"1\">16:00</text></g></g><path class=\"foreground\" aria-hidden=\"true\" d=\"\" pointer-events=\"none\" display=\"none\"/></g><g transform=\"translate(0,52)\"><path class=\"background\" aria-hidden=\"true\" d=\"M0,0h41.0244140625v11h-41.0244140625Z\" pointer-events=\"none\" opacity=\"1\"/><g><g class=\"mark-symbol role-legend-symbol\" pointer-events=\"none\"><path transform=\"translate(6,6)\" d=\"M-5,0L5,0\" stroke=\"rgb(47, 150, 224)\" stroke-width=\"1.5\" opacity=\"1\"/></g><g class=\"mark-text role-legend-label\" pointer-events=\"none\"><text text-anchor=\"start\" transform=\"translate(16,9)\" font-family=\"sans-serif\" font-size=\"10px\" fill=\"#000\" opacity=\"1\">17:00</text></g></g><path class=\"foreground\" aria-hidden=\"true\" d=\"\" pointer-events=\"none\" display=\"none\"/></g></g></g><path class=\"foreground\" aria-hidden=\"true\" d=\"\" pointer-events=\"none\" display=\"none\"/></g></g><g class=\"mark-text role-legend-title\" pointer-events=\"none\"><text text-anchor=\"start\" transform=\"translate(0,9)\" font-family=\"sans-serif\" font-size=\"11px\" font-weight=\"bold\" fill=\"#000\" opacity=\"1\">time (hours)</text></g></g><path class=\"foreground\" aria-hidden=\"true\" d=\"\" pointer-events=\"none\" display=\"none\"/></g></g></g><path class=\"foreground\" aria-hidden=\"true\" d=\"\" display=\"none\"/></g></g></g></svg>"
      ],
      "text/plain": [
       "alt.Chart(...)"
      ]
     },
     "execution_count": 111,
     "metadata": {},
     "output_type": "execute_result"
    }
   ],
   "source": [
    "alt.Chart(\n",
    "    tropoe_df[tropoe_df.time > '20230418 1300'].query(\"height < 1000\")\n",
    ").mark_line(size=2).encode(\n",
    "    alt.X('mean(theta):Q').scale(zero=False).title('θ (K)'),\n",
    "    alt.Y('height').scale(type='linear').title('Height (AGL) (km)'),\n",
    "    alt.Color('hours(time):O').scale(scheme='rainbow'),\n",
    "    # alt.Facet('hours(time):O', columns=6),\n",
    "    order='height',\n",
    "    tooltip = 'hours(time)'\n",
    ").properties(width=300, height=300)"
   ]
  },
  {
   "cell_type": "code",
   "execution_count": 112,
   "metadata": {},
   "outputs": [
    {
     "data": {
      "image/svg+xml": [
       "<svg xmlns=\"http://www.w3.org/2000/svg\" xmlns:xlink=\"http://www.w3.org/1999/xlink\" version=\"1.1\" class=\"marks\" width=\"477\" height=\"347\" viewBox=\"0 0 477 347\"><rect width=\"477\" height=\"347\" fill=\"white\"/><g fill=\"none\" stroke-miterlimit=\"10\" transform=\"translate(44,10)\"><g class=\"mark-group role-frame root\" role=\"graphics-object\" aria-roledescription=\"group mark container\"><g transform=\"translate(0,0)\"><path class=\"background\" aria-hidden=\"true\" d=\"M0.5,0.5h300v300h-300Z\" stroke=\"#ddd\"/><g><g class=\"mark-group role-axis\" aria-hidden=\"true\"><g transform=\"translate(0.5,300.5)\"><path class=\"background\" aria-hidden=\"true\" d=\"M0,0h0v0h0Z\" pointer-events=\"none\"/><g><g class=\"mark-rule role-axis-grid\" pointer-events=\"none\"><line transform=\"translate(0,-300)\" x2=\"0\" y2=\"300\" stroke=\"#ddd\" stroke-width=\"1\" opacity=\"1\"/><line transform=\"translate(33,-300)\" x2=\"0\" y2=\"300\" stroke=\"#ddd\" stroke-width=\"1\" opacity=\"1\"/><line transform=\"translate(67,-300)\" x2=\"0\" y2=\"300\" stroke=\"#ddd\" stroke-width=\"1\" opacity=\"1\"/><line transform=\"translate(100,-300)\" x2=\"0\" y2=\"300\" stroke=\"#ddd\" stroke-width=\"1\" opacity=\"1\"/><line transform=\"translate(133,-300)\" x2=\"0\" y2=\"300\" stroke=\"#ddd\" stroke-width=\"1\" opacity=\"1\"/><line transform=\"translate(167,-300)\" x2=\"0\" y2=\"300\" stroke=\"#ddd\" stroke-width=\"1\" opacity=\"1\"/><line transform=\"translate(200,-300)\" x2=\"0\" y2=\"300\" stroke=\"#ddd\" stroke-width=\"1\" opacity=\"1\"/><line transform=\"translate(233,-300)\" x2=\"0\" y2=\"300\" stroke=\"#ddd\" stroke-width=\"1\" opacity=\"1\"/><line transform=\"translate(267,-300)\" x2=\"0\" y2=\"300\" stroke=\"#ddd\" stroke-width=\"1\" opacity=\"1\"/><line transform=\"translate(300,-300)\" x2=\"0\" y2=\"300\" stroke=\"#ddd\" stroke-width=\"1\" opacity=\"1\"/></g></g><path class=\"foreground\" aria-hidden=\"true\" d=\"\" pointer-events=\"none\" display=\"none\"/></g></g><g class=\"mark-group role-axis\" aria-hidden=\"true\"><g transform=\"translate(0.5,0.5)\"><path class=\"background\" aria-hidden=\"true\" d=\"M0,0h0v0h0Z\" pointer-events=\"none\"/><g><g class=\"mark-rule role-axis-grid\" pointer-events=\"none\"><line transform=\"translate(0,300)\" x2=\"300\" y2=\"0\" stroke=\"#ddd\" stroke-width=\"1\" opacity=\"1\"/><line transform=\"translate(0,270)\" x2=\"300\" y2=\"0\" stroke=\"#ddd\" stroke-width=\"1\" opacity=\"1\"/><line transform=\"translate(0,240)\" x2=\"300\" y2=\"0\" stroke=\"#ddd\" stroke-width=\"1\" opacity=\"1\"/><line transform=\"translate(0,210)\" x2=\"300\" y2=\"0\" stroke=\"#ddd\" stroke-width=\"1\" opacity=\"1\"/><line transform=\"translate(0,180)\" x2=\"300\" y2=\"0\" stroke=\"#ddd\" stroke-width=\"1\" opacity=\"1\"/><line transform=\"translate(0,150)\" x2=\"300\" y2=\"0\" stroke=\"#ddd\" stroke-width=\"1\" opacity=\"1\"/><line transform=\"translate(0,120)\" x2=\"300\" y2=\"0\" stroke=\"#ddd\" stroke-width=\"1\" opacity=\"1\"/><line transform=\"translate(0,90)\" x2=\"300\" y2=\"0\" stroke=\"#ddd\" stroke-width=\"1\" opacity=\"1\"/><line transform=\"translate(0,60)\" x2=\"300\" y2=\"0\" stroke=\"#ddd\" stroke-width=\"1\" opacity=\"1\"/><line transform=\"translate(0,30)\" x2=\"300\" y2=\"0\" stroke=\"#ddd\" stroke-width=\"1\" opacity=\"1\"/><line transform=\"translate(0,0)\" x2=\"300\" y2=\"0\" stroke=\"#ddd\" stroke-width=\"1\" opacity=\"1\"/></g></g><path class=\"foreground\" aria-hidden=\"true\" d=\"\" pointer-events=\"none\" display=\"none\"/></g></g><g class=\"mark-group role-axis\" role=\"graphics-symbol\" aria-roledescription=\"axis\" aria-label=\"X-axis titled 'θ (K)' for a linear scale with values from 308.8 to 310.6\"><g transform=\"translate(0.5,300.5)\"><path class=\"background\" aria-hidden=\"true\" d=\"M0,0h0v0h0Z\" pointer-events=\"none\"/><g><g class=\"mark-rule role-axis-tick\" pointer-events=\"none\"><line transform=\"translate(0,0)\" x2=\"0\" y2=\"5\" stroke=\"#888\" stroke-width=\"1\" opacity=\"1\"/><line transform=\"translate(33,0)\" x2=\"0\" y2=\"5\" stroke=\"#888\" stroke-width=\"1\" opacity=\"1\"/><line transform=\"translate(67,0)\" x2=\"0\" y2=\"5\" stroke=\"#888\" stroke-width=\"1\" opacity=\"1\"/><line transform=\"translate(100,0)\" x2=\"0\" y2=\"5\" stroke=\"#888\" stroke-width=\"1\" opacity=\"1\"/><line transform=\"translate(133,0)\" x2=\"0\" y2=\"5\" stroke=\"#888\" stroke-width=\"1\" opacity=\"1\"/><line transform=\"translate(167,0)\" x2=\"0\" y2=\"5\" stroke=\"#888\" stroke-width=\"1\" opacity=\"1\"/><line transform=\"translate(200,0)\" x2=\"0\" y2=\"5\" stroke=\"#888\" stroke-width=\"1\" opacity=\"1\"/><line transform=\"translate(233,0)\" x2=\"0\" y2=\"5\" stroke=\"#888\" stroke-width=\"1\" opacity=\"1\"/><line transform=\"translate(267,0)\" x2=\"0\" y2=\"5\" stroke=\"#888\" stroke-width=\"1\" opacity=\"1\"/><line transform=\"translate(300,0)\" x2=\"0\" y2=\"5\" stroke=\"#888\" stroke-width=\"1\" opacity=\"1\"/></g><g class=\"mark-text role-axis-label\" pointer-events=\"none\"><text text-anchor=\"start\" transform=\"translate(0,15)\" font-family=\"sans-serif\" font-size=\"10px\" fill=\"#000\" opacity=\"1\">308.8</text><text text-anchor=\"middle\" transform=\"translate(33.33333333333123,15)\" font-family=\"sans-serif\" font-size=\"10px\" fill=\"#000\" opacity=\"0\">309.0</text><text text-anchor=\"middle\" transform=\"translate(66.66666666666246,15)\" font-family=\"sans-serif\" font-size=\"10px\" fill=\"#000\" opacity=\"1\">309.2</text><text text-anchor=\"middle\" transform=\"translate(99.99999999999368,15)\" font-family=\"sans-serif\" font-size=\"10px\" fill=\"#000\" opacity=\"0\">309.4</text><text text-anchor=\"middle\" transform=\"translate(133.3333333333344,15)\" font-family=\"sans-serif\" font-size=\"10px\" fill=\"#000\" opacity=\"1\">309.6</text><text text-anchor=\"middle\" transform=\"translate(166.6666666666656,15)\" font-family=\"sans-serif\" font-size=\"10px\" fill=\"#000\" opacity=\"0\">309.8</text><text text-anchor=\"middle\" transform=\"translate(199.99999999999685,15)\" font-family=\"sans-serif\" font-size=\"10px\" fill=\"#000\" opacity=\"1\">310.0</text><text text-anchor=\"middle\" transform=\"translate(233.33333333332808,15)\" font-family=\"sans-serif\" font-size=\"10px\" fill=\"#000\" opacity=\"0\">310.2</text><text text-anchor=\"middle\" transform=\"translate(266.6666666666593,15)\" font-family=\"sans-serif\" font-size=\"10px\" fill=\"#000\" opacity=\"1\">310.4</text><text text-anchor=\"end\" transform=\"translate(300,15)\" font-family=\"sans-serif\" font-size=\"10px\" fill=\"#000\" opacity=\"0\">310.6</text></g><g class=\"mark-rule role-axis-domain\" pointer-events=\"none\"><line transform=\"translate(0,0)\" x2=\"300\" y2=\"0\" stroke=\"#888\" stroke-width=\"1\" opacity=\"1\"/></g><g class=\"mark-text role-axis-title\" pointer-events=\"none\"><text text-anchor=\"middle\" transform=\"translate(150,30)\" font-family=\"sans-serif\" font-size=\"11px\" font-weight=\"bold\" fill=\"#000\" opacity=\"1\">θ (K)</text></g></g><path class=\"foreground\" aria-hidden=\"true\" d=\"\" pointer-events=\"none\" display=\"none\"/></g></g><g class=\"mark-group role-axis\" role=\"graphics-symbol\" aria-roledescription=\"axis\" aria-label=\"Y-axis titled 'Height (AGL) (km)' for a linear scale with values from 0 to 500\"><g transform=\"translate(0.5,0.5)\"><path class=\"background\" aria-hidden=\"true\" d=\"M0,0h0v0h0Z\" pointer-events=\"none\"/><g><g class=\"mark-rule role-axis-tick\" pointer-events=\"none\"><line transform=\"translate(0,300)\" x2=\"-5\" y2=\"0\" stroke=\"#888\" stroke-width=\"1\" opacity=\"1\"/><line transform=\"translate(0,270)\" x2=\"-5\" y2=\"0\" stroke=\"#888\" stroke-width=\"1\" opacity=\"1\"/><line transform=\"translate(0,240)\" x2=\"-5\" y2=\"0\" stroke=\"#888\" stroke-width=\"1\" opacity=\"1\"/><line transform=\"translate(0,210)\" x2=\"-5\" y2=\"0\" stroke=\"#888\" stroke-width=\"1\" opacity=\"1\"/><line transform=\"translate(0,180)\" x2=\"-5\" y2=\"0\" stroke=\"#888\" stroke-width=\"1\" opacity=\"1\"/><line transform=\"translate(0,150)\" x2=\"-5\" y2=\"0\" stroke=\"#888\" stroke-width=\"1\" opacity=\"1\"/><line transform=\"translate(0,120)\" x2=\"-5\" y2=\"0\" stroke=\"#888\" stroke-width=\"1\" opacity=\"1\"/><line transform=\"translate(0,90)\" x2=\"-5\" y2=\"0\" stroke=\"#888\" stroke-width=\"1\" opacity=\"1\"/><line transform=\"translate(0,60)\" x2=\"-5\" y2=\"0\" stroke=\"#888\" stroke-width=\"1\" opacity=\"1\"/><line transform=\"translate(0,30)\" x2=\"-5\" y2=\"0\" stroke=\"#888\" stroke-width=\"1\" opacity=\"1\"/><line transform=\"translate(0,0)\" x2=\"-5\" y2=\"0\" stroke=\"#888\" stroke-width=\"1\" opacity=\"1\"/></g><g class=\"mark-text role-axis-label\" pointer-events=\"none\"><text text-anchor=\"end\" transform=\"translate(-7,303)\" font-family=\"sans-serif\" font-size=\"10px\" fill=\"#000\" opacity=\"1\">0</text><text text-anchor=\"end\" transform=\"translate(-7,273)\" font-family=\"sans-serif\" font-size=\"10px\" fill=\"#000\" opacity=\"1\">50</text><text text-anchor=\"end\" transform=\"translate(-7,243)\" font-family=\"sans-serif\" font-size=\"10px\" fill=\"#000\" opacity=\"1\">100</text><text text-anchor=\"end\" transform=\"translate(-7,213)\" font-family=\"sans-serif\" font-size=\"10px\" fill=\"#000\" opacity=\"1\">150</text><text text-anchor=\"end\" transform=\"translate(-7,183)\" font-family=\"sans-serif\" font-size=\"10px\" fill=\"#000\" opacity=\"1\">200</text><text text-anchor=\"end\" transform=\"translate(-7,153)\" font-family=\"sans-serif\" font-size=\"10px\" fill=\"#000\" opacity=\"1\">250</text><text text-anchor=\"end\" transform=\"translate(-7,123)\" font-family=\"sans-serif\" font-size=\"10px\" fill=\"#000\" opacity=\"1\">300</text><text text-anchor=\"end\" transform=\"translate(-7,93.00000000000001)\" font-family=\"sans-serif\" font-size=\"10px\" fill=\"#000\" opacity=\"1\">350</text><text text-anchor=\"end\" transform=\"translate(-7,62.999999999999986)\" font-family=\"sans-serif\" font-size=\"10px\" fill=\"#000\" opacity=\"1\">400</text><text text-anchor=\"end\" transform=\"translate(-7,32.99999999999999)\" font-family=\"sans-serif\" font-size=\"10px\" fill=\"#000\" opacity=\"1\">450</text><text text-anchor=\"end\" transform=\"translate(-7,3)\" font-family=\"sans-serif\" font-size=\"10px\" fill=\"#000\" opacity=\"1\">500</text></g><g class=\"mark-rule role-axis-domain\" pointer-events=\"none\"><line transform=\"translate(0,300)\" x2=\"0\" y2=\"-300\" stroke=\"#888\" stroke-width=\"1\" opacity=\"1\"/></g><g class=\"mark-text role-axis-title\" pointer-events=\"none\"><text text-anchor=\"middle\" transform=\"translate(-27.6845703125,150) rotate(-90) translate(0,-2)\" font-family=\"sans-serif\" font-size=\"11px\" font-weight=\"bold\" fill=\"#000\" opacity=\"1\">Height (AGL) (km)</text></g></g><path class=\"foreground\" aria-hidden=\"true\" d=\"\" pointer-events=\"none\" display=\"none\"/></g></g><g class=\"mark-group role-scope pathgroup\" role=\"graphics-object\" aria-roledescription=\"group mark container\"><g transform=\"translate(0,0)\"><path class=\"background\" aria-hidden=\"true\" d=\"M0,0h300v300h-300Z\"/><g><g class=\"mark-line role-mark marks\" role=\"graphics-object\" aria-roledescription=\"line mark container\"><path aria-label=\"θ (K): 309.022766113; Height (AGL) (km): 0; time (hours-minutes): 15:00; height: 0\" role=\"graphics-symbol\" aria-roledescription=\"line mark\" d=\"M37.128,300L30.282,294L23.985,287.4L15.592,280.2L14.29,272.4L16.935,263.4L23.883,253.8L36.349,243L44.447,231.6L51.705,218.4L56.227,204.6L59.004,189L64.12,171.6L61.623,153L57.554,132L57.493,109.2L57.432,84.6L57.356,57L57.279,26.4\" stroke=\"rgb(155, 61, 178)\" stroke-width=\"2\"/></g></g><path class=\"foreground\" aria-hidden=\"true\" d=\"\" display=\"none\"/></g><g transform=\"translate(0,0)\"><path class=\"background\" aria-hidden=\"true\" d=\"M0,0h300v300h-300Z\"/><g><g class=\"mark-line role-mark marks\" role=\"graphics-object\" aria-roledescription=\"line mark container\"><path aria-label=\"θ (K): 309.285125732; Height (AGL) (km): 0; time (hours-minutes): 15:10; height: 0\" role=\"graphics-symbol\" aria-roledescription=\"line mark\" d=\"M80.854,300L71.958,294L63.169,287.4L52.03,280.2L47.9,272.4L47.778,263.4L52.336,253.8L62.813,243L69.705,231.6L76.348,218.4L80.742,204.6L83.799,189L89.613,171.6L88.453,153L86.541,132L86.49,109.2L86.439,84.6L86.383,57L86.322,26.4\" stroke=\"rgb(199, 61, 171)\" stroke-width=\"2\"/></g></g><path class=\"foreground\" aria-hidden=\"true\" d=\"\" display=\"none\"/></g><g transform=\"translate(0,0)\"><path class=\"background\" aria-hidden=\"true\" d=\"M0,0h300v300h-300Z\"/><g><g class=\"mark-line role-mark marks\" role=\"graphics-object\" aria-roledescription=\"line mark container\"><path aria-label=\"θ (K): 309.350463867; Height (AGL) (km): 0; time (hours-minutes): 15:20; height: 0\" role=\"graphics-symbol\" aria-roledescription=\"line mark\" d=\"M91.744,300L86.185,294L80.564,287.4L72.625,280.2L70.087,272.4L71.058,263.4L76.394,253.8L85.412,243L89.786,231.6L93.86,218.4L96.622,204.6L97.598,189L103.015,171.6L104.409,153L107.191,132L107.196,109.2L107.196,84.6L107.196,57L107.196,26.4\" stroke=\"rgb(238, 67, 149)\" stroke-width=\"2\"/></g></g><path class=\"foreground\" aria-hidden=\"true\" d=\"\" display=\"none\"/></g><g transform=\"translate(0,0)\"><path class=\"background\" aria-hidden=\"true\" d=\"M0,0h300v300h-300Z\"/><g><g class=\"mark-line role-mark marks\" role=\"graphics-object\" aria-roledescription=\"line mark container\"><path aria-label=\"θ (K): 309.509490967; Height (AGL) (km): 0; time (hours-minutes): 15:30; height: 0\" role=\"graphics-symbol\" aria-roledescription=\"line mark\" d=\"M118.248,300L109.551,294L101.474,287.4L91.266,280.2L87.634,272.4L88.158,263.4L93.412,253.8L103.971,243L110.736,231.6L117.628,218.4L122.872,204.6L126.865,189L134.53,171.6L136.579,153L138.726,132L138.695,109.2L138.66,84.6L138.619,57L138.573,26.4\" stroke=\"rgb(255, 83, 117)\" stroke-width=\"2\"/></g></g><path class=\"foreground\" aria-hidden=\"true\" d=\"\" display=\"none\"/></g><g transform=\"translate(0,0)\"><path class=\"background\" aria-hidden=\"true\" d=\"M0,0h300v300h-300Z\"/><g><g class=\"mark-line role-mark marks\" role=\"graphics-object\" aria-roledescription=\"line mark container\"><path aria-label=\"θ (K): 309.321228027; Height (AGL) (km): 0; time (hours-minutes): 15:40; height: 0\" role=\"graphics-symbol\" aria-roledescription=\"line mark\" d=\"M86.871,300L87.802,294L89.771,287.4L89.857,280.2L97.141,272.4L108.895,263.4L124.321,253.8L144.473,243L158.883,231.6L171.446,218.4L179.141,204.6L184.39,189L191.013,171.6L188.958,153L183.734,132L183.673,109.2L183.607,84.6L183.531,57L183.449,26.4\" stroke=\"rgb(255, 108, 83)\" stroke-width=\"2\"/></g></g><path class=\"foreground\" aria-hidden=\"true\" d=\"\" display=\"none\"/></g><g transform=\"translate(0,0)\"><path class=\"background\" aria-hidden=\"true\" d=\"M0,0h300v300h-300Z\"/><g><g class=\"mark-line role-mark marks\" role=\"graphics-object\" aria-roledescription=\"line mark container\"><path aria-label=\"θ (K): 309.695404053; Height (AGL) (km): 0; time (hours-minutes): 15:50; height: 0\" role=\"graphics-symbol\" aria-roledescription=\"line mark\" d=\"M149.234,300L141.655,294L132.424,287.4L120.878,280.2L115.95,272.4L117.079,263.4L125.084,253.8L139.423,243L150.165,231.6L161.426,218.4L169.971,204.6L175.677,189L183.795,171.6L186.247,153L187.818,132L187.808,109.2L187.793,84.6L187.773,57L187.757,26.4\" stroke=\"rgb(255, 140, 56)\" stroke-width=\"2\"/></g></g><path class=\"foreground\" aria-hidden=\"true\" d=\"\" display=\"none\"/></g><g transform=\"translate(0,0)\"><path class=\"background\" aria-hidden=\"true\" d=\"M0,0h300v300h-300Z\"/><g><g class=\"mark-line role-mark marks\" role=\"graphics-object\" aria-roledescription=\"line mark container\"><path aria-label=\"θ (K): 309.366699219; Height (AGL) (km): 0; time (hours-minutes): 16:00; height: 0\" role=\"graphics-symbol\" aria-roledescription=\"line mark\" d=\"M94.45,300L93.387,294L92.609,287.4L90.554,280.2L96.622,272.4L108.661,263.4L125.888,253.8L149.137,243L166.487,231.6L181.644,218.4L190.484,204.6L195.773,189L200.875,171.6L195.916,153L185.565,132L185.535,109.2L185.499,84.6L185.458,57L185.413,26.4\" stroke=\"rgb(232, 176, 47)\" stroke-width=\"2\"/></g></g><path class=\"foreground\" aria-hidden=\"true\" d=\"\" display=\"none\"/></g><g transform=\"translate(0,0)\"><path class=\"background\" aria-hidden=\"true\" d=\"M0,0h300v300h-300Z\"/><g><g class=\"mark-line role-mark marks\" role=\"graphics-object\" aria-roledescription=\"line mark container\"><path aria-label=\"θ (K): 309.760803223; Height (AGL) (km): 0; time (hours-minutes): 16:10; height: 0\" role=\"graphics-symbol\" aria-roledescription=\"line mark\" d=\"M160.134,300L156.858,294L152.449,287.4L146.025,280.2L147.383,272.4L154.727,263.4L167.946,253.8L187.966,243L203.301,231.6L217.598,218.4L226.82,204.6L232.898,189L239.388,171.6L236.367,153L228.666,132L228.636,109.2L228.605,84.6L228.564,57L228.524,26.4\" stroke=\"rgb(201, 211, 59)\" stroke-width=\"2\"/></g></g><path class=\"foreground\" aria-hidden=\"true\" d=\"\" display=\"none\"/></g><g transform=\"translate(0,0)\"><path class=\"background\" aria-hidden=\"true\" d=\"M0,0h300v300h-300Z\"/><g><g class=\"mark-line role-mark marks\" role=\"graphics-object\" aria-roledescription=\"line mark container\"><path aria-label=\"θ (K): 309.719421387; Height (AGL) (km): 0; time (hours-minutes): 16:20; height: 0\" role=\"graphics-symbol\" aria-roledescription=\"line mark\" d=\"M153.237,300L147.891,294L141.844,287.4L133.202,280.2L130.542,272.4L131.971,263.4L138.365,253.8L150.221,243L158.303,231.6L166.817,218.4L173.587,204.6L178.724,189L187.233,171.6L190.168,153L192.961,132L192.93,109.2L192.894,84.6L192.859,57L192.813,26.4\" stroke=\"rgb(175, 240, 91)\" stroke-width=\"2\"/></g></g><path class=\"foreground\" aria-hidden=\"true\" d=\"\" display=\"none\"/></g><g transform=\"translate(0,0)\"><path class=\"background\" aria-hidden=\"true\" d=\"M0,0h300v300h-300Z\"/><g><g class=\"mark-line role-mark marks\" role=\"graphics-object\" aria-roledescription=\"line mark container\"><path aria-label=\"θ (K): 309.718566895; Height (AGL) (km): 0; time (hours-minutes): 16:30; height: 0\" role=\"graphics-symbol\" aria-roledescription=\"line mark\" d=\"M153.094,300L151.136,294L149.031,287.4L144.763,280.2L146.523,272.4L152.276,263.4L162.275,253.8L176.461,243L185.448,231.6L193.352,218.4L198.133,204.6L200.743,189L206.968,171.6L207.289,153L207.284,132L207.278,109.2L207.268,84.6L207.263,57L207.253,26.4\" stroke=\"rgb(122, 245, 90)\" stroke-width=\"2\"/></g></g><path class=\"foreground\" aria-hidden=\"true\" d=\"\" display=\"none\"/></g><g transform=\"translate(0,0)\"><path class=\"background\" aria-hidden=\"true\" d=\"M0,0h300v300h-300Z\"/><g><g class=\"mark-line role-mark marks\" role=\"graphics-object\" aria-roledescription=\"line mark container\"><path aria-label=\"θ (K): 309.800384521; Height (AGL) (km): 0; time (hours-minutes): 16:40; height: 0\" role=\"graphics-symbol\" aria-roledescription=\"line mark\" d=\"M166.731,300L171.273,294L172.916,287.4L170.286,280.2L172.041,272.4L175.632,263.4L181.639,253.8L191.638,243L197.172,231.6L202.457,218.4L205.376,204.6L207.268,189L212.482,171.6L211.307,153L209.145,132L209.115,109.2L209.079,84.6L209.043,57L208.998,26.4\" stroke=\"rgb(74, 245, 109)\" stroke-width=\"2\"/></g></g><path class=\"foreground\" aria-hidden=\"true\" d=\"\" display=\"none\"/></g><g transform=\"translate(0,0)\"><path class=\"background\" aria-hidden=\"true\" d=\"M0,0h300v300h-300Z\"/><g><g class=\"mark-line role-mark marks\" role=\"graphics-object\" aria-roledescription=\"line mark container\"><path aria-label=\"θ (K): 309.975494385; Height (AGL) (km): 0; time (hours-minutes): 16:50; height: 0\" role=\"graphics-symbol\" aria-roledescription=\"line mark\" d=\"M195.916,300L196.531,294L192.956,287.4L185.87,280.2L183.704,272.4L184.95,263.4L190.768,253.8L201.088,243L207.019,231.6L212.39,218.4L215.223,204.6L216.312,189L221.683,171.6L221.657,153L222.141,132L222.135,109.2L222.125,84.6L222.12,57L222.115,26.4\" stroke=\"rgb(40, 234, 141)\" stroke-width=\"2\"/></g></g><path class=\"foreground\" aria-hidden=\"true\" d=\"\" display=\"none\"/></g><g transform=\"translate(0,0)\"><path class=\"background\" aria-hidden=\"true\" d=\"M0,0h300v300h-300Z\"/><g><g class=\"mark-line role-mark marks\" role=\"graphics-object\" aria-roledescription=\"line mark container\"><path aria-label=\"θ (K): 309.494628906; Height (AGL) (km): 0; time (hours-minutes): 17:00; height: 0\" role=\"graphics-symbol\" aria-roledescription=\"line mark\" d=\"M115.771,300L120.959,294L124.713,287.4L124.84,280.2L129.682,272.4L136.579,263.4L146.035,253.8L159.447,243L167.616,231.6L174.92,218.4L179.385,204.6L181.878,189L187.335,171.6L186.262,153L183.927,132L183.892,109.2L183.856,84.6L183.816,57L183.77,26.4\" stroke=\"rgb(26, 213, 177)\" stroke-width=\"2\"/></g></g><path class=\"foreground\" aria-hidden=\"true\" d=\"\" display=\"none\"/></g><g transform=\"translate(0,0)\"><path class=\"background\" aria-hidden=\"true\" d=\"M0,0h300v300h-300Z\"/><g><g class=\"mark-line role-mark marks\" role=\"graphics-object\" aria-roledescription=\"line mark container\"><path aria-label=\"θ (K): 309.531005859; Height (AGL) (km): 0; time (hours-minutes): 17:10; height: 0\" role=\"graphics-symbol\" aria-roledescription=\"line mark\" d=\"M121.834,300L129.962,294L135.883,287.4L138.039,280.2L144.473,272.4L152.728,263.4L163.353,253.8L177.417,243L185.875,231.6L193.276,218.4L197.36,204.6L199.537,189L204.934,171.6L204.252,153L202.858,132L202.828,109.2L202.803,84.6L202.767,57L202.731,26.4\" stroke=\"rgb(30, 184, 207)\" stroke-width=\"2\"/></g></g><path class=\"foreground\" aria-hidden=\"true\" d=\"\" display=\"none\"/></g><g transform=\"translate(0,0)\"><path class=\"background\" aria-hidden=\"true\" d=\"M0,0h300v300h-300Z\"/><g><g class=\"mark-line role-mark marks\" role=\"graphics-object\" aria-roledescription=\"line mark container\"><path aria-label=\"θ (K): 309.37789917; Height (AGL) (km): 0; time (hours-minutes): 17:20; height: 0\" role=\"graphics-symbol\" aria-roledescription=\"line mark\" d=\"M96.317,300L110.655,294L121.27,287.4L127.597,280.2L137.144,272.4L148.471,263.4L162.214,253.8L179.507,243L190.997,231.6L201.567,218.4L208.906,204.6L213.947,189L221.876,171.6L223.941,153L225.935,132L225.935,109.2L225.935,84.6L225.935,57L225.935,26.4\" stroke=\"rgb(47, 150, 224)\" stroke-width=\"2\"/></g></g><path class=\"foreground\" aria-hidden=\"true\" d=\"\" display=\"none\"/></g><g transform=\"translate(0,0)\"><path class=\"background\" aria-hidden=\"true\" d=\"M0,0h300v300h-300Z\"/><g><g class=\"mark-line role-mark marks\" role=\"graphics-object\" aria-roledescription=\"line mark container\"><path aria-label=\"θ (K): 309.530914307; Height (AGL) (km): 0; time (hours-minutes): 17:30; height: 0\" role=\"graphics-symbol\" aria-roledescription=\"line mark\" d=\"M121.819,300L128.594,294L134.372,287.4L138.441,280.2L148.471,272.4L162.601,263.4L180.748,253.8L202.106,243L216.006,231.6L226.805,218.4L232.166,204.6L233.132,189L236.814,171.6L234.037,153L230.533,132L230.533,109.2L230.533,84.6L230.533,57L230.533,26.4\" stroke=\"rgb(71, 117, 221)\" stroke-width=\"2\"/></g></g><path class=\"foreground\" aria-hidden=\"true\" d=\"\" display=\"none\"/></g><g transform=\"translate(0,0)\"><path class=\"background\" aria-hidden=\"true\" d=\"M0,0h300v300h-300Z\"/><g><g class=\"mark-line role-mark marks\" role=\"graphics-object\" aria-roledescription=\"line mark container\"><path aria-label=\"θ (K): 309.385131836; Height (AGL) (km): 0; time (hours-minutes): 17:40; height: 0\" role=\"graphics-symbol\" aria-roledescription=\"line mark\" d=\"M97.522,300L110.533,294L123.131,287.4L132.912,280.2L147.815,272.4L166.665,263.4L188.81,253.8L214.796,243L234.21,231.6L252.287,218.4L265.084,204.6L274.661,189L285.749,171.6L289.284,153L290.235,132L290.2,109.2L290.159,84.6L290.113,57L290.062,26.4\" stroke=\"rgb(94, 88, 202)\" stroke-width=\"2\"/></g></g><path class=\"foreground\" aria-hidden=\"true\" d=\"\" display=\"none\"/></g></g><g class=\"mark-group role-legend\" role=\"graphics-symbol\" aria-roledescription=\"legend\" aria-label=\"Symbol legend titled 'time (hours-minutes)' for stroke color with 17 values: 15:00, 15:10, 15:20, 15:30, 15:40, ending with 17:40\"><g transform=\"translate(318,0)\"><path class=\"background\" aria-hidden=\"true\" d=\"M0,0h110v235h-110Z\" pointer-events=\"none\"/><g><g class=\"mark-group role-legend-entry\"><g transform=\"translate(0,16)\"><path class=\"background\" aria-hidden=\"true\" d=\"M0,0h0v0h0Z\" pointer-events=\"none\"/><g><g class=\"mark-group role-scope\" role=\"graphics-object\" aria-roledescription=\"group mark container\"><g transform=\"translate(0,0)\"><path class=\"background\" aria-hidden=\"true\" d=\"M0,0h41.0244140625v11h-41.0244140625Z\" pointer-events=\"none\" opacity=\"1\"/><g><g class=\"mark-symbol role-legend-symbol\" pointer-events=\"none\"><path transform=\"translate(6,6)\" d=\"M-5,0L5,0\" stroke=\"rgb(155, 61, 178)\" stroke-width=\"1.5\" opacity=\"1\"/></g><g class=\"mark-text role-legend-label\" pointer-events=\"none\"><text text-anchor=\"start\" transform=\"translate(16,9)\" font-family=\"sans-serif\" font-size=\"10px\" fill=\"#000\" opacity=\"1\">15:00</text></g></g><path class=\"foreground\" aria-hidden=\"true\" d=\"\" pointer-events=\"none\" display=\"none\"/></g><g transform=\"translate(0,13)\"><path class=\"background\" aria-hidden=\"true\" d=\"M0,0h41.0244140625v11h-41.0244140625Z\" pointer-events=\"none\" opacity=\"1\"/><g><g class=\"mark-symbol role-legend-symbol\" pointer-events=\"none\"><path transform=\"translate(6,6)\" d=\"M-5,0L5,0\" stroke=\"rgb(199, 61, 171)\" stroke-width=\"1.5\" opacity=\"1\"/></g><g class=\"mark-text role-legend-label\" pointer-events=\"none\"><text text-anchor=\"start\" transform=\"translate(16,9)\" font-family=\"sans-serif\" font-size=\"10px\" fill=\"#000\" opacity=\"1\">15:10</text></g></g><path class=\"foreground\" aria-hidden=\"true\" d=\"\" pointer-events=\"none\" display=\"none\"/></g><g transform=\"translate(0,26)\"><path class=\"background\" aria-hidden=\"true\" d=\"M0,0h41.0244140625v11h-41.0244140625Z\" pointer-events=\"none\" opacity=\"1\"/><g><g class=\"mark-symbol role-legend-symbol\" pointer-events=\"none\"><path transform=\"translate(6,6)\" d=\"M-5,0L5,0\" stroke=\"rgb(238, 67, 149)\" stroke-width=\"1.5\" opacity=\"1\"/></g><g class=\"mark-text role-legend-label\" pointer-events=\"none\"><text text-anchor=\"start\" transform=\"translate(16,9)\" font-family=\"sans-serif\" font-size=\"10px\" fill=\"#000\" opacity=\"1\">15:20</text></g></g><path class=\"foreground\" aria-hidden=\"true\" d=\"\" pointer-events=\"none\" display=\"none\"/></g><g transform=\"translate(0,39)\"><path class=\"background\" aria-hidden=\"true\" d=\"M0,0h41.0244140625v11h-41.0244140625Z\" pointer-events=\"none\" opacity=\"1\"/><g><g class=\"mark-symbol role-legend-symbol\" pointer-events=\"none\"><path transform=\"translate(6,6)\" d=\"M-5,0L5,0\" stroke=\"rgb(255, 83, 117)\" stroke-width=\"1.5\" opacity=\"1\"/></g><g class=\"mark-text role-legend-label\" pointer-events=\"none\"><text text-anchor=\"start\" transform=\"translate(16,9)\" font-family=\"sans-serif\" font-size=\"10px\" fill=\"#000\" opacity=\"1\">15:30</text></g></g><path class=\"foreground\" aria-hidden=\"true\" d=\"\" pointer-events=\"none\" display=\"none\"/></g><g transform=\"translate(0,52)\"><path class=\"background\" aria-hidden=\"true\" d=\"M0,0h41.0244140625v11h-41.0244140625Z\" pointer-events=\"none\" opacity=\"1\"/><g><g class=\"mark-symbol role-legend-symbol\" pointer-events=\"none\"><path transform=\"translate(6,6)\" d=\"M-5,0L5,0\" stroke=\"rgb(255, 108, 83)\" stroke-width=\"1.5\" opacity=\"1\"/></g><g class=\"mark-text role-legend-label\" pointer-events=\"none\"><text text-anchor=\"start\" transform=\"translate(16,9)\" font-family=\"sans-serif\" font-size=\"10px\" fill=\"#000\" opacity=\"1\">15:40</text></g></g><path class=\"foreground\" aria-hidden=\"true\" d=\"\" pointer-events=\"none\" display=\"none\"/></g><g transform=\"translate(0,65)\"><path class=\"background\" aria-hidden=\"true\" d=\"M0,0h41.0244140625v11h-41.0244140625Z\" pointer-events=\"none\" opacity=\"1\"/><g><g class=\"mark-symbol role-legend-symbol\" pointer-events=\"none\"><path transform=\"translate(6,6)\" d=\"M-5,0L5,0\" stroke=\"rgb(255, 140, 56)\" stroke-width=\"1.5\" opacity=\"1\"/></g><g class=\"mark-text role-legend-label\" pointer-events=\"none\"><text text-anchor=\"start\" transform=\"translate(16,9)\" font-family=\"sans-serif\" font-size=\"10px\" fill=\"#000\" opacity=\"1\">15:50</text></g></g><path class=\"foreground\" aria-hidden=\"true\" d=\"\" pointer-events=\"none\" display=\"none\"/></g><g transform=\"translate(0,78)\"><path class=\"background\" aria-hidden=\"true\" d=\"M0,0h41.0244140625v11h-41.0244140625Z\" pointer-events=\"none\" opacity=\"1\"/><g><g class=\"mark-symbol role-legend-symbol\" pointer-events=\"none\"><path transform=\"translate(6,6)\" d=\"M-5,0L5,0\" stroke=\"rgb(232, 176, 47)\" stroke-width=\"1.5\" opacity=\"1\"/></g><g class=\"mark-text role-legend-label\" pointer-events=\"none\"><text text-anchor=\"start\" transform=\"translate(16,9)\" font-family=\"sans-serif\" font-size=\"10px\" fill=\"#000\" opacity=\"1\">16:00</text></g></g><path class=\"foreground\" aria-hidden=\"true\" d=\"\" pointer-events=\"none\" display=\"none\"/></g><g transform=\"translate(0,91)\"><path class=\"background\" aria-hidden=\"true\" d=\"M0,0h41.0244140625v11h-41.0244140625Z\" pointer-events=\"none\" opacity=\"1\"/><g><g class=\"mark-symbol role-legend-symbol\" pointer-events=\"none\"><path transform=\"translate(6,6)\" d=\"M-5,0L5,0\" stroke=\"rgb(201, 211, 59)\" stroke-width=\"1.5\" opacity=\"1\"/></g><g class=\"mark-text role-legend-label\" pointer-events=\"none\"><text text-anchor=\"start\" transform=\"translate(16,9)\" font-family=\"sans-serif\" font-size=\"10px\" fill=\"#000\" opacity=\"1\">16:10</text></g></g><path class=\"foreground\" aria-hidden=\"true\" d=\"\" pointer-events=\"none\" display=\"none\"/></g><g transform=\"translate(0,104)\"><path class=\"background\" aria-hidden=\"true\" d=\"M0,0h41.0244140625v11h-41.0244140625Z\" pointer-events=\"none\" opacity=\"1\"/><g><g class=\"mark-symbol role-legend-symbol\" pointer-events=\"none\"><path transform=\"translate(6,6)\" d=\"M-5,0L5,0\" stroke=\"rgb(175, 240, 91)\" stroke-width=\"1.5\" opacity=\"1\"/></g><g class=\"mark-text role-legend-label\" pointer-events=\"none\"><text text-anchor=\"start\" transform=\"translate(16,9)\" font-family=\"sans-serif\" font-size=\"10px\" fill=\"#000\" opacity=\"1\">16:20</text></g></g><path class=\"foreground\" aria-hidden=\"true\" d=\"\" pointer-events=\"none\" display=\"none\"/></g><g transform=\"translate(0,117)\"><path class=\"background\" aria-hidden=\"true\" d=\"M0,0h41.0244140625v11h-41.0244140625Z\" pointer-events=\"none\" opacity=\"1\"/><g><g class=\"mark-symbol role-legend-symbol\" pointer-events=\"none\"><path transform=\"translate(6,6)\" d=\"M-5,0L5,0\" stroke=\"rgb(122, 245, 90)\" stroke-width=\"1.5\" opacity=\"1\"/></g><g class=\"mark-text role-legend-label\" pointer-events=\"none\"><text text-anchor=\"start\" transform=\"translate(16,9)\" font-family=\"sans-serif\" font-size=\"10px\" fill=\"#000\" opacity=\"1\">16:30</text></g></g><path class=\"foreground\" aria-hidden=\"true\" d=\"\" pointer-events=\"none\" display=\"none\"/></g><g transform=\"translate(0,130)\"><path class=\"background\" aria-hidden=\"true\" d=\"M0,0h41.0244140625v11h-41.0244140625Z\" pointer-events=\"none\" opacity=\"1\"/><g><g class=\"mark-symbol role-legend-symbol\" pointer-events=\"none\"><path transform=\"translate(6,6)\" d=\"M-5,0L5,0\" stroke=\"rgb(74, 245, 109)\" stroke-width=\"1.5\" opacity=\"1\"/></g><g class=\"mark-text role-legend-label\" pointer-events=\"none\"><text text-anchor=\"start\" transform=\"translate(16,9)\" font-family=\"sans-serif\" font-size=\"10px\" fill=\"#000\" opacity=\"1\">16:40</text></g></g><path class=\"foreground\" aria-hidden=\"true\" d=\"\" pointer-events=\"none\" display=\"none\"/></g><g transform=\"translate(0,143)\"><path class=\"background\" aria-hidden=\"true\" d=\"M0,0h41.0244140625v11h-41.0244140625Z\" pointer-events=\"none\" opacity=\"1\"/><g><g class=\"mark-symbol role-legend-symbol\" pointer-events=\"none\"><path transform=\"translate(6,6)\" d=\"M-5,0L5,0\" stroke=\"rgb(40, 234, 141)\" stroke-width=\"1.5\" opacity=\"1\"/></g><g class=\"mark-text role-legend-label\" pointer-events=\"none\"><text text-anchor=\"start\" transform=\"translate(16,9)\" font-family=\"sans-serif\" font-size=\"10px\" fill=\"#000\" opacity=\"1\">16:50</text></g></g><path class=\"foreground\" aria-hidden=\"true\" d=\"\" pointer-events=\"none\" display=\"none\"/></g><g transform=\"translate(0,156)\"><path class=\"background\" aria-hidden=\"true\" d=\"M0,0h41.0244140625v11h-41.0244140625Z\" pointer-events=\"none\" opacity=\"1\"/><g><g class=\"mark-symbol role-legend-symbol\" pointer-events=\"none\"><path transform=\"translate(6,6)\" d=\"M-5,0L5,0\" stroke=\"rgb(26, 213, 177)\" stroke-width=\"1.5\" opacity=\"1\"/></g><g class=\"mark-text role-legend-label\" pointer-events=\"none\"><text text-anchor=\"start\" transform=\"translate(16,9)\" font-family=\"sans-serif\" font-size=\"10px\" fill=\"#000\" opacity=\"1\">17:00</text></g></g><path class=\"foreground\" aria-hidden=\"true\" d=\"\" pointer-events=\"none\" display=\"none\"/></g><g transform=\"translate(0,169)\"><path class=\"background\" aria-hidden=\"true\" d=\"M0,0h41.0244140625v11h-41.0244140625Z\" pointer-events=\"none\" opacity=\"1\"/><g><g class=\"mark-symbol role-legend-symbol\" pointer-events=\"none\"><path transform=\"translate(6,6)\" d=\"M-5,0L5,0\" stroke=\"rgb(30, 184, 207)\" stroke-width=\"1.5\" opacity=\"1\"/></g><g class=\"mark-text role-legend-label\" pointer-events=\"none\"><text text-anchor=\"start\" transform=\"translate(16,9)\" font-family=\"sans-serif\" font-size=\"10px\" fill=\"#000\" opacity=\"1\">17:10</text></g></g><path class=\"foreground\" aria-hidden=\"true\" d=\"\" pointer-events=\"none\" display=\"none\"/></g><g transform=\"translate(0,182)\"><path class=\"background\" aria-hidden=\"true\" d=\"M0,0h41.0244140625v11h-41.0244140625Z\" pointer-events=\"none\" opacity=\"1\"/><g><g class=\"mark-symbol role-legend-symbol\" pointer-events=\"none\"><path transform=\"translate(6,6)\" d=\"M-5,0L5,0\" stroke=\"rgb(47, 150, 224)\" stroke-width=\"1.5\" opacity=\"1\"/></g><g class=\"mark-text role-legend-label\" pointer-events=\"none\"><text text-anchor=\"start\" transform=\"translate(16,9)\" font-family=\"sans-serif\" font-size=\"10px\" fill=\"#000\" opacity=\"1\">17:20</text></g></g><path class=\"foreground\" aria-hidden=\"true\" d=\"\" pointer-events=\"none\" display=\"none\"/></g><g transform=\"translate(0,195)\"><path class=\"background\" aria-hidden=\"true\" d=\"M0,0h41.0244140625v11h-41.0244140625Z\" pointer-events=\"none\" opacity=\"1\"/><g><g class=\"mark-symbol role-legend-symbol\" pointer-events=\"none\"><path transform=\"translate(6,6)\" d=\"M-5,0L5,0\" stroke=\"rgb(71, 117, 221)\" stroke-width=\"1.5\" opacity=\"1\"/></g><g class=\"mark-text role-legend-label\" pointer-events=\"none\"><text text-anchor=\"start\" transform=\"translate(16,9)\" font-family=\"sans-serif\" font-size=\"10px\" fill=\"#000\" opacity=\"1\">17:30</text></g></g><path class=\"foreground\" aria-hidden=\"true\" d=\"\" pointer-events=\"none\" display=\"none\"/></g><g transform=\"translate(0,208)\"><path class=\"background\" aria-hidden=\"true\" d=\"M0,0h41.0244140625v11h-41.0244140625Z\" pointer-events=\"none\" opacity=\"1\"/><g><g class=\"mark-symbol role-legend-symbol\" pointer-events=\"none\"><path transform=\"translate(6,6)\" d=\"M-5,0L5,0\" stroke=\"rgb(94, 88, 202)\" stroke-width=\"1.5\" opacity=\"1\"/></g><g class=\"mark-text role-legend-label\" pointer-events=\"none\"><text text-anchor=\"start\" transform=\"translate(16,9)\" font-family=\"sans-serif\" font-size=\"10px\" fill=\"#000\" opacity=\"1\">17:40</text></g></g><path class=\"foreground\" aria-hidden=\"true\" d=\"\" pointer-events=\"none\" display=\"none\"/></g></g></g><path class=\"foreground\" aria-hidden=\"true\" d=\"\" pointer-events=\"none\" display=\"none\"/></g></g><g class=\"mark-text role-legend-title\" pointer-events=\"none\"><text text-anchor=\"start\" transform=\"translate(0,9)\" font-family=\"sans-serif\" font-size=\"11px\" font-weight=\"bold\" fill=\"#000\" opacity=\"1\">time (hours-minutes)</text></g></g><path class=\"foreground\" aria-hidden=\"true\" d=\"\" pointer-events=\"none\" display=\"none\"/></g></g></g><path class=\"foreground\" aria-hidden=\"true\" d=\"\" display=\"none\"/></g></g></g></svg>"
      ],
      "text/plain": [
       "alt.Chart(...)"
      ]
     },
     "execution_count": 112,
     "metadata": {},
     "output_type": "execute_result"
    }
   ],
   "source": [
    "alt.Chart(\n",
    "    tropoe_df[tropoe_df.time > '20230418 1500'].query(\"height < 500\")\n",
    ").mark_line(size=2).encode(\n",
    "    alt.X('theta:Q').scale(zero=False).title('θ (K)'),\n",
    "    alt.Y('height').scale(type='linear').title('Height (AGL) (km)'),\n",
    "    alt.Color('hoursminutes(time):O').scale(scheme='rainbow'),\n",
    "    # alt.Facet('hours(time):O', columns=6),\n",
    "    order='height',\n",
    "    tooltip = 'hoursminutes(time)'\n",
    ").properties(width=300, height=300)"
   ]
  },
  {
   "cell_type": "markdown",
   "metadata": {},
   "source": [
    "### Combine tropoe and radiosonde plots"
   ]
  },
  {
   "cell_type": "code",
   "execution_count": null,
   "metadata": {},
   "outputs": [],
   "source": [
    "src_morn = sonde_morn.to_dataframe().query(\"alt < 5000\")\n",
    "src_day = sonde_day.to_dataframe().query(\"alt < 5000\")\n",
    "both_sondes = pd.concat([\n",
    "    src_morn.assign(timestamp = '4:30am'),\n",
    "    src_day.assign(timestamp = '4:30pm')\n",
    "])\n",
    "both_sondes\n",
    "both_sondes.alt = both_sondes.alt - 2889 # this is the approx elevation of the SAIL site\n",
    "\n",
    "alt.Chart(both_sondes).mark_line().encode(\n",
    "    alt.X('tpot:Q'),\n",
    "    alt.Y('alt:Q').scale(zero=False, nice=False),\n",
    "    alt.Color('timestamp:N'),\n",
    "    order='alt',\n",
    ").properties(width=100, height = 200)"
   ]
  },
  {
   "cell_type": "code",
   "execution_count": null,
   "metadata": {},
   "outputs": [],
   "source": [
    "\n",
    "both_tropoe = pd.concat([\n",
    "    tropoe_df.set_index('time').loc['20230418 04:30'].assign(timestamp = '4:30am'),\n",
    "    tropoe_df.set_index('time').loc['20230418 16:30'].assign(timestamp = '4:30pm')\n",
    "])\n",
    "both_tropoe = both_tropoe.rename(columns={\n",
    "    'theta':'tpot',\n",
    "    'height':'alt',\n",
    "})\n",
    "both_tropoe = both_tropoe.query(f\"alt <= {both_sondes.alt.max()}\")"
   ]
  },
  {
   "cell_type": "code",
   "execution_count": null,
   "metadata": {},
   "outputs": [],
   "source": [
    "tropoe_and_sonde_df = pd.concat([\n",
    "    both_tropoe.query(\"alt < 5000\").assign(type = 'tropoe'),\n",
    "    both_sondes.assign(type = 'radiosonde')\n",
    "])"
   ]
  },
  {
   "cell_type": "code",
   "execution_count": null,
   "metadata": {},
   "outputs": [],
   "source": [
    "alt.Chart(tropoe_and_sonde_df.assign(alt = tropoe_and_sonde_df.alt/1000)).mark_line().encode(\n",
    "    alt.X('tpot:Q').title('θ (K)'),\n",
    "    alt.Y('alt:Q').scale(zero=False, nice=False).title('Height (AGL) (km)'),\n",
    "    alt.Color('timestamp:N'),\n",
    "    alt.StrokeDash('type:N'),\n",
    "    order='alt',\n",
    ").properties(width=100, height = 200)"
   ]
  },
  {
   "cell_type": "markdown",
   "metadata": {},
   "source": [
    "## Doppler Lidar Vertical Velocity Variance"
   ]
  },
  {
   "cell_type": "markdown",
   "metadata": {},
   "source": [
    "### During April 18"
   ]
  },
  {
   "cell_type": "code",
   "execution_count": null,
   "metadata": {},
   "outputs": [],
   "source": [
    "# Inputs\n",
    "username = os.getenv(\"ARM_USERNAME\")\n",
    "token = os.getenv(\"ARM_TOKEN\")\n",
    "DATE_FORMAT_STR = '%Y-%m-%d'\n",
    "start_date = \"20230418\"\n",
    "end_date = \"20230419\"\n",
    "# start_date = \"20221221\"\n",
    "# end_date = \"20221222\"\n",
    "DLW_DATA_STREAM = 'gucdlprofwstats4newsM1.c1'\n",
    "DLW_DATA_STREAM_FILEEXT = '.cdf'\n",
    "DLW_OUTPUT_DIR = os.path.join(data_dir, DLW_DATA_STREAM)"
   ]
  },
  {
   "cell_type": "code",
   "execution_count": null,
   "metadata": {},
   "outputs": [],
   "source": [
    "file_list = act.discovery.download_arm_data(\n",
    "            username, token, DLW_DATA_STREAM, start_date, end_date, output = DLW_OUTPUT_DIR)"
   ]
  },
  {
   "cell_type": "code",
   "execution_count": 97,
   "metadata": {},
   "outputs": [],
   "source": [
    "file_list = [f for f in glob.glob(os.path.join(data_dir, DLW_DATA_STREAM, '*.nc')) if '20230418' in f or '20230419' in f]"
   ]
  },
  {
   "cell_type": "code",
   "execution_count": 101,
   "metadata": {},
   "outputs": [],
   "source": [
    "dl_wstats = xr.open_mfdataset(file_list)\n",
    "dl_wstats = utils.modify_xarray_timezone(\n",
    "    dl_wstats,\n",
    "    'UTC',\n",
    "    'US/Mountain'\n",
    ")"
   ]
  },
  {
   "cell_type": "code",
   "execution_count": 106,
   "metadata": {},
   "outputs": [
    {
     "data": {
      "text/plain": [
       "Text(0.5, 1.0, 'Vertical velocity variance from vertically-staring Doppler Lidar')"
      ]
     },
     "execution_count": 106,
     "metadata": {},
     "output_type": "execute_result"
    },
    {
     "data": {
      "image/png": "[encoded data removed]",
      "text/plain": [
       "<Figure size 1000x400 with 2 Axes>"
      ]
     },
     "metadata": {},
     "output_type": "display_data"
    }
   ],
   "source": [
    "dl_wstats['w_variance'].sel(\n",
    "    time = slice('20230418 0000', '20230419 0000')\n",
    ").plot(x = 'time', y='height', figsize=(10,4), vmin=0, vmax=20, cmap='gist_ncar')\n",
    "plt.ylim(0, 2000)\n",
    "plt.title('Vertical velocity variance from vertically-staring Doppler Lidar')"
   ]
  },
  {
   "cell_type": "code",
   "execution_count": null,
   "metadata": {},
   "outputs": [],
   "source": [
    "src = dl_wstats.where(dl_wstats['snr'] > 0.008)\n",
    "alt.Chart(\n",
    "    src['w_variance'].to_dataframe().reset_index().query(\"height < 2000\").set_index('time').reset_index()\n",
    ").mark_line().encode(\n",
    "    alt.X('mean(w_variance):Q'),\n",
    "    alt.Y('height:Q'),\n",
    "    alt.Color('hours(time):O').scale(scheme='rainbow'),\n",
    "    alt.Column('date(time):O'),\n",
    "    order='height',\n",
    ").resolve_scale(x='shared', y='shared')"
   ]
  },
  {
   "cell_type": "code",
   "execution_count": null,
   "metadata": {},
   "outputs": [],
   "source": [
    "dl_wstats['w_variance'].plot(x = 'time', y='height', figsize=(10,3), vmin=0, vmax=20, cmap='gist_ncar')\n",
    "plt.title('Vertical velocity variance from vertically-staring Doppler Lidar')\n",
    "plt.ylim(0,2000)\n",
    "plt.xlim('2023-04-18', '20230419 0000')\n",
    "plt.xticks([\n",
    "        '20230418 0000', '20230418 0100', '20230418 0200', '20230418 0300', '20230418 0400', '20230418 0500', '20230418 0600', \n",
    "        '20230418 0700', '20230418 0800', '20230418 0900', '20230418 1000', '20230418 1100', '20230418 1200',\n",
    "        '20230418 1300','20230418 1400','20230418 1500','20230418 1600','20230418 1700','20230418 1800',\n",
    "        '20230418 1900','20230418 2000','20230418 2100','20230418 2200','20230418 2300'\n",
    "    ], [str(int(f)) for f in np.linspace(0,23, 24)]\n",
    ")\n",
    "plt.show()"
   ]
  },
  {
   "cell_type": "code",
   "execution_count": null,
   "metadata": {},
   "outputs": [],
   "source": [
    "# dl_wstats['w_skewness'].plot(x = 'time', y='height', figsize=(10,3), vmin=-5, vmax=5, cmap='RdBu')\n",
    "utils.modify_xarray_timezone(\n",
    "    dl_wstats['w_skewness'],\n",
    "    'UTC',\n",
    "    'US/Mountain'\n",
    ").plot(x = 'time', y='height', figsize=(10,3), vmin=-5, vmax=5, cmap='seismic')\n",
    "\n",
    "ax = plt.gca()\n",
    "\n",
    "utils.modify_xarray_timezone(\n",
    "    dl_wstats['w_variance'].sel(height = slice(0,2000)),\n",
    "    'UTC',\n",
    "    'US/Mountain'\n",
    ").plot.contour(x = 'time', y='height', levels=1, colors='k', ax=ax)\n",
    "\n",
    "ax.set_title('Vertical velocity skewness from vertically-staring Doppler Lidar')\n",
    "ax.set_ylim(0,2000)\n",
    "ax.set_xlim('20230418 0000', '20230419 0000')\n",
    "ax.set_xticks([\n",
    "        '20230418 0000', '20230418 0100', '20230418 0200', '20230418 0300', '20230418 0400', '20230418 0500', '20230418 0600', \n",
    "        '20230418 0700', '20230418 0800', '20230418 0900', '20230418 1000', '20230418 1100', '20230418 1200',\n",
    "        '20230418 1300','20230418 1400','20230418 1500','20230418 1600','20230418 1700','20230418 1800',\n",
    "        '20230418 1900','20230418 2000','20230418 2100','20230418 2200','20230418 2300'\n",
    "    ], [str(int(f)) for f in np.linspace(0,23, 24)]\n",
    ")\n",
    "\n",
    "plt.show()"
   ]
  },
  {
   "cell_type": "code",
   "execution_count": null,
   "metadata": {},
   "outputs": [],
   "source": [
    "\n",
    "dl_wstats['w_skewness'].plot(x = 'time', y='height', figsize=(10,3), vmin=-5, vmax=5, cmap='seismic')\n",
    "\n",
    "ax = plt.gca()\n",
    "\n",
    "dl_wstats['w_variance'].sel(height = slice(0,2000)).plot.contour(x = 'time', y='height', levels=1, colors='k', ax=ax)\n",
    "\n",
    "ax.set_title('Vertical velocity skewness from vertically-staring Doppler Lidar')\n",
    "ax.set_ylim(0,2000)\n",
    "ax.set_xlim('20230418 1200', '20230419 0000')\n",
    "ax.set_xticks([\n",
    "        '20230418 1200',\n",
    "        '20230418 1300','20230418 1400','20230418 1500','20230418 1600','20230418 1700','20230418 1800',\n",
    "        '20230418 1900','20230418 2000','20230418 2100','20230418 2200','20230418 2300'\n",
    "    ], [str(int(f)) for f in np.linspace(12,23, 12)]\n",
    ")\n",
    "\n",
    "plt.show()"
   ]
  },
  {
   "cell_type": "markdown",
   "metadata": {},
   "source": [
    "### During days with predominantly along valley winds "
   ]
  },
  {
   "cell_type": "code",
   "execution_count": null,
   "metadata": {},
   "outputs": [],
   "source": [
    "winddir_3m_df = sos_df.query(f\"variable == 'dir_3m_c'\")\n",
    "winddir_3m_df = winddir_3m_df.assign(wind_is_alongvalley = \n",
    "    (\n",
    "        ((winddir_3m_df.value > 292.5) & (winddir_3m_df.value < 337.5))\n",
    "        |\n",
    "        ((winddir_3m_df.value > 112.5) & (winddir_3m_df.value < 157.5))\n",
    "    )\n",
    ")\n",
    "percent_wind_alongvalley = winddir_3m_df.set_index('time').groupby(pd.Grouper(freq='1440Min'))['wind_is_alongvalley'].sum()/48\n",
    "dates_with_80percent_alongvalley = percent_wind_alongvalley[percent_wind_alongvalley > 0.7].index.to_series().dt.date\n",
    "dates_with_80percent_alongvalley = pd.to_datetime(dates_with_80percent_alongvalley).dt.strftime(DATE_FORMAT_STR).values\n",
    "print(len(dates_with_80percent_alongvalley))"
   ]
  },
  {
   "cell_type": "code",
   "execution_count": null,
   "metadata": {},
   "outputs": [],
   "source": [
    "# DOWNLOAD FILES\n",
    "\n",
    "# # Inputs\n",
    "# files = []\n",
    "# for date in pd.to_datetime(dates_with_80percent_alongvalley).dt.strftime(DATE_FORMAT_STR).values:\n",
    "#     f = act.discovery.download_arm_data(\n",
    "#         username, token, DLW_DATA_STREAM, date, date, output = DLW_OUTPUT_DIR\n",
    "#     )\n",
    "#     files = files + f\n",
    "\n",
    "# DOWNLOAD FILES\n",
    "all_dl_files = glob.glob(os.path.join(DLW_OUTPUT_DIR, \"*.nc\"))"
   ]
  },
  {
   "cell_type": "code",
   "execution_count": null,
   "metadata": {},
   "outputs": [],
   "source": [
    "fs = []\n",
    "for f in all_dl_files:\n",
    "    for d in dates_with_80percent_alongvalley:\n",
    "        if d.replace('-', '') in f:\n",
    "            fs.append(f)\n",
    "len(fs)"
   ]
  },
  {
   "cell_type": "code",
   "execution_count": null,
   "metadata": {},
   "outputs": [],
   "source": [
    "dl_wstats_with_80percent_alongvalley = xr.open_mfdataset(fs)"
   ]
  },
  {
   "cell_type": "code",
   "execution_count": null,
   "metadata": {},
   "outputs": [],
   "source": [
    "# dl_wstats = xr.open_mfdataset()\n",
    "src = utils.modify_xarray_timezone(\n",
    "    dl_wstats_with_80percent_alongvalley['w_variance'],\n",
    "    'UTC',\n",
    "    'US/Mountain'\n",
    ").to_dataframe().reset_index()"
   ]
  },
  {
   "cell_type": "code",
   "execution_count": null,
   "metadata": {},
   "outputs": [],
   "source": [
    "src = src.query(\"height < 2000\")\n",
    "src['hour'] = src['time'].dt.hour"
   ]
  },
  {
   "cell_type": "code",
   "execution_count": null,
   "metadata": {},
   "outputs": [],
   "source": [
    "def percentile(n):\n",
    "    def percentile_(x):\n",
    "        return x.quantile(n)\n",
    "    percentile_.__name__ = 'percentile_{:02.0f}'.format(n*100)\n",
    "    return percentile_"
   ]
  },
  {
   "cell_type": "code",
   "execution_count": null,
   "metadata": {},
   "outputs": [],
   "source": [
    "src_agg_stats = src.groupby(['hour', 'height'])['w_variance'].agg(['mean', 'median', percentile(.25), percentile(.75)])\n",
    "src_agg_stats"
   ]
  },
  {
   "cell_type": "code",
   "execution_count": null,
   "metadata": {},
   "outputs": [],
   "source": [
    "alt.Chart(src_agg_stats.reset_index()).mark_rule().encode(\n",
    "    alt.X('mean(percentile_25):Q'),\n",
    "    alt.X2('mean(percentile_75):Q'),\n",
    "    alt.Y('height:Q'),\n",
    ") + alt.Chart(src_agg_stats.reset_index()).transform_fold([\n",
    "    'mean', 'median'\n",
    "]).mark_circle().encode(\n",
    "    alt.X('mean(value):Q'),\n",
    "    alt.Y('height:Q'),\n",
    "    # alt.Shape('key:N').scale(range=['circle', 'stroke']),\n",
    "    alt.Color('key:N')\n",
    ").properties(height = 500)"
   ]
  },
  {
   "cell_type": "code",
   "execution_count": null,
   "metadata": {},
   "outputs": [],
   "source": [
    "alt.layer(\n",
    "        alt.Chart().mark_rule().encode(\n",
    "        alt.X('mean(percentile_25):Q'),\n",
    "        alt.X2('mean(percentile_75):Q'),\n",
    "        alt.Y('height:Q'),\n",
    "    ), \n",
    "    alt.Chart().transform_fold([\n",
    "        'mean', 'median'\n",
    "    ]).mark_circle().encode(\n",
    "        alt.X('mean(value):Q'),\n",
    "        alt.Y('height:Q'),\n",
    "        # alt.Shape('key:N').scale(range=['circle', 'stroke']),\n",
    "        alt.Color('key:N')\n",
    "    ).properties(height = 500),\n",
    "    data = src_agg_stats.reset_index()\n",
    ").facet('hour')"
   ]
  },
  {
   "cell_type": "markdown",
   "metadata": {},
   "source": [
    "### Extract vertical velocity variance at 900m, around the peak of Gothic Mtn"
   ]
  },
  {
   "cell_type": "code",
   "execution_count": null,
   "metadata": {},
   "outputs": [],
   "source": [
    "w_w_900m = dl_wstats['w_variance'].sel(time = slice('20230418 0600', '20230418 2359'), height = slice(875,925)).mean(dim='height')\n",
    "w_w_450m = dl_wstats['w_variance'].sel(time = slice('20230418 0600', '20230418 2359'), height = slice(425,475)).mean(dim='height')\n",
    "w_w_50m = dl_wstats['w_variance'].sel(time = slice('20230418 0600', '20230418 2359'), height = slice(25,75)).mean(dim='height')\n",
    "\n",
    "(w_w_900m/w_w_900m.max()).plot(figsize=(20,4), color = 'lightblue')\n",
    "(w_w_450m/w_w_450m.max()).plot(color = 'blue')\n",
    "(w_w_50m/w_w_50m.max()).plot(color = 'darkblue')"
   ]
  },
  {
   "cell_type": "code",
   "execution_count": null,
   "metadata": {},
   "outputs": [],
   "source": [
    "w_w_multiple_heights_dopplidar_df = w_w_900m.rename('w_w_900m').to_dataframe().join(\n",
    "    w_w_450m.rename('w_w_450m').to_dataframe()\n",
    ").join(\n",
    "    w_w_50m.rename('w_w_50m').to_dataframe()\n",
    ")\n",
    "w_w_multiple_heights_dopplidar_chart = alt.Chart(w_w_multiple_heights_dopplidar_df.reset_index()).transform_fold(\n",
    "    w_w_multiple_heights_dopplidar_df.columns\n",
    ").mark_line().encode(\n",
    "    alt.X('time:T'),\n",
    "    alt.Y(\"value:Q\"),\n",
    "    alt.Color('key:O').scale(domain=['w_w_50m', 'w_w_450m', 'w_w_900m'], scheme='reds')\n",
    ").properties(height = 200)\n"
   ]
  },
  {
   "cell_type": "markdown",
   "metadata": {},
   "source": [
    "## Doppler Lidar Vertical Wind Profiles"
   ]
  },
  {
   "cell_type": "code",
   "execution_count": null,
   "metadata": {},
   "outputs": [],
   "source": [
    "# Inputs\n",
    "start_date = \"20230418\"\n",
    "end_date = \"20230420\"\n",
    "DLWProf_DATA_STREAM = 'gucdlprofwind4newsM1.c1'\n",
    "DLWProf_DATA_STREAM_FILEEXT = '.cdf'\n",
    "DLWProf_OUTPUT_DIR = os.path.join(data_dir, DLWProf_DATA_STREAM)\n",
    "file_list = act.discovery.download_arm_data(\n",
    "            username, token, DLWProf_DATA_STREAM, start_date, end_date, output = DLWProf_OUTPUT_DIR)\n",
    "dl_wprof = xr.open_mfdataset(file_list)"
   ]
  },
  {
   "cell_type": "code",
   "execution_count": null,
   "metadata": {},
   "outputs": [],
   "source": [
    "dl_wprof_df = dl_wprof.to_dataframe().reset_index()\n",
    "dl_wprof_df['time'] = dl_wprof_df['time'].dt.round('15min')\n",
    "dl_wprof_df = utils.modify_df_timezone(dl_wprof_df, 'UTC', 'US/Mountain')\n",
    "dl_wprof_df = dl_wprof_df.set_index('time').loc['20230418': '20230418'].reset_index()"
   ]
  },
  {
   "cell_type": "code",
   "execution_count": null,
   "metadata": {},
   "outputs": [],
   "source": [
    "alt.Chart(\n",
    "    pd.concat([\n",
    "            dl_wprof_df.query(\"height > 250\").query(\"height < 500\").groupby(\"time\").mean().reset_index(),\n",
    "            dl_wprof_df.query(\"height > 1000\").query(\"height < 1200\").groupby(\"time\").mean().reset_index(),\n",
    "    ])\n",
    ").mark_line().encode(\n",
    "    alt.X('time:T'),\n",
    "    alt.Y('mean(wind_speed):Q'),\n",
    "    alt.Color('height:O').bin(step=250).scale(scheme='viridis')\n",
    ").properties(width=600)"
   ]
  },
  {
   "cell_type": "code",
   "execution_count": null,
   "metadata": {},
   "outputs": [],
   "source": [
    "alt.Chart(\n",
    "    dl_wprof_df.query(\"height < 1500\")\n",
    ").mark_circle(size=15).encode(\n",
    "    alt.X('wind_direction:Q').axis(values=[0,90,180,270,360]),\n",
    "    alt.Y('height:Q'),\n",
    "    alt.Color('minutes(time):O'),\n",
    "    alt.Facet('hours(time):T', columns=6)\n",
    ").properties(width = 100, height = 200)"
   ]
  },
  {
   "cell_type": "code",
   "execution_count": null,
   "metadata": {},
   "outputs": [],
   "source": [
    "alt.Chart(\n",
    "    dl_wprof_df.query(\"height < 1500\")\n",
    ").mark_circle(size=15).encode(\n",
    "    alt.X('w:Q').axis(values=[-5,-2.5,0,2.5,5]).scale(domain=[-5,5]),\n",
    "    alt.Y('height:Q'),\n",
    "    alt.Color('minutes(time):O'),\n",
    "    alt.Facet('hours(time):T', columns=6)\n",
    ").properties(width = 100, height = 200)"
   ]
  },
  {
   "cell_type": "markdown",
   "metadata": {},
   "source": [
    "### Wind rose"
   ]
  },
  {
   "cell_type": "code",
   "execution_count": 127,
   "metadata": {},
   "outputs": [
    {
     "data": {
      "text/plain": [
       "Text(0.5, 1.0, 'April 18, 1km AGL winds')"
      ]
     },
     "execution_count": 127,
     "metadata": {},
     "output_type": "execute_result"
    },
    {
     "data": {
      "image/png": "[encoded data removed]",
      "text/plain": [
       "<Figure size 128x128 with 1 Axes>"
      ]
     },
     "metadata": {},
     "output_type": "display_data"
    }
   ],
   "source": [
    "from windrose import WindroseAxes\n",
    "ax = WindroseAxes.from_ax(figsize=(1.6,1.6))\n",
    "ax.bar(\n",
    "    dl_wprof_df.query(\"height < 1000\").query(\"height > 900\")['wind_direction'], \n",
    "    dl_wprof_df.query(\"height < 1000\").query(\"height > 900\")['wind_speed'], \n",
    "    # normed=True, opening=.9, edgecolor='white', bins=1, nsector=17,\n",
    "    normed=True, opening=0.8, edgecolor=\"white\", bins=[0,10,15]\n",
    ")\n",
    "\n",
    "ax.set_yticks([])\n",
    "# ax.set_yticklabels(['10%','25%'])\n",
    "# ax.set_legend(loc='upper right')\n",
    "ax.set_title('April 18, 1km AGL winds')"
   ]
  },
  {
   "cell_type": "markdown",
   "metadata": {},
   "source": [
    "## Gothic Sail Tower data"
   ]
  },
  {
   "cell_type": "code",
   "execution_count": null,
   "metadata": {},
   "outputs": [],
   "source": [
    "# Define the data codes for meteorological and turbulence data\n",
    "data_codes = [\n",
    "    'gucmetM1.b1',  # Example data code for meteorological data\n",
    "    'guc30ecorS3.b1'  # Example data code for turbulence data\n",
    "]\n",
    "\n",
    "# Define the date range\n",
    "start_date = '2023-04-15'\n",
    "end_date = '2023-04-18'\n",
    "\n",
    "# Loop through each data code and download the data\n",
    "data_dict = {}\n",
    "for data_code in data_codes:\n",
    "    files = act.discovery.download_arm_data(\n",
    "        username,  # Replace with your ARM username\n",
    "        token,        # Replace with your ARM token\n",
    "        data_code,\n",
    "        start_date,\n",
    "        end_date,\n",
    "        output = os.path.join(data_dir, data_code)\n",
    "    )\n",
    "    print(files)\n",
    "    # Load the data into an ACT object and append to the list\n",
    "    ds = act.io.read_arm_netcdf(files)\n",
    "    data_dict[data_code] = ds\n",
    "\n",
    "gothic_met = data_dict[data_codes[0]]\n",
    "gothic_ec = data_dict[data_codes[1]]"
   ]
  },
  {
   "cell_type": "code",
   "execution_count": null,
   "metadata": {},
   "outputs": [],
   "source": [
    "gothic_ec['TKE'] = (gothic_ec['var_u']**2 + gothic_ec['var_v']**2 + gothic_ec['var_w']**2)**(0.5)"
   ]
  },
  {
   "cell_type": "code",
   "execution_count": null,
   "metadata": {},
   "outputs": [],
   "source": [
    "plt.scatter(\n",
    "    gothic_ec['wind_spd'].sel(time=slice('20230415', '20230415')), \n",
    "    gothic_ec['TKE'].sel(time=slice('20230415', '20230415'))\n",
    ")\n",
    "plt.scatter(\n",
    "    gothic_ec['wind_spd'].sel(time=slice('20230418', '20230418')), \n",
    "    gothic_ec['TKE'].sel(time=slice('20230418', '20230418'))\n",
    ")"
   ]
  },
  {
   "cell_type": "code",
   "execution_count": null,
   "metadata": {},
   "outputs": [],
   "source": [
    "var_u_var_v_chart = alt.Chart(\n",
    "    gothic_ec[['var_u', 'var_v']].to_dataframe().reset_index()\n",
    ").transform_fold(['var_u', 'var_v']).mark_line().encode(\n",
    "    alt.X('time:T'),\n",
    "    alt.Y('value:Q').title('var_u, var_v (m^2/s^2)'),\n",
    "    alt.StrokeDash('key:N')\n",
    ").properties(width = 500, height = 200)\n",
    "\n",
    "var_w_chart = alt.Chart(\n",
    "    gothic_ec[['var_w']].to_dataframe().reset_index()\n",
    ").transform_fold(['var_w']).mark_line().encode(\n",
    "    alt.X('time:T'),\n",
    "    alt.Y('value:Q').title('var_w (m^2/s^2)'),\n",
    "    alt.StrokeDash('key:N')\n",
    ").properties(width = 500, height = 200)\n",
    "\n",
    "src = dl_wstats['w_variance'].to_dataframe().reset_index()\n",
    "src = src.query(\"height < 2000\")\n",
    "\n",
    "# Create the Altair plot\n",
    "w_var_chart = alt.Chart(src).mark_square(size=30).encode(\n",
    "    alt.X('time:T'),\n",
    "    alt.Y('height:Q'),   \n",
    "    color=alt.Color('w_variance:Q', scale=alt.Scale(domain=[0, 10]), legend=alt.Legend(title='w_variance'))\n",
    ").properties(\n",
    "    width = 500, height = 200,\n",
    "    title='w_variance over Time and Height'\n",
    ")\n",
    "\n",
    "(\n",
    "    w_var_chart\n",
    "    &\n",
    "    (var_u_var_v_chart + var_w_chart).resolve_scale(y='independent')    \n",
    ").resolve_scale(x='shared', color='independent')"
   ]
  },
  {
   "cell_type": "code",
   "execution_count": null,
   "metadata": {},
   "outputs": [],
   "source": [
    "gothic_ec[['cvar_rot_uw', 'cvar_rot_vw', 'cvar_rot_uv']].to_dataframe().plot()"
   ]
  },
  {
   "cell_type": "code",
   "execution_count": null,
   "metadata": {},
   "outputs": [],
   "source": [
    "gothic_ec['mean_rot_w'].plot()"
   ]
  },
  {
   "cell_type": "markdown",
   "metadata": {},
   "source": [
    "compare tower data with doppler lidar data"
   ]
  },
  {
   "cell_type": "code",
   "execution_count": null,
   "metadata": {},
   "outputs": [],
   "source": [
    "(\n",
    "    w_w_multiple_heights_dopplidar_chart \n",
    "    &\n",
    "    (var_u_var_v_chart + var_w_chart).resolve_scale(y='independent')\n",
    ").resolve_scale(x='shared')"
   ]
  },
  {
   "cell_type": "markdown",
   "metadata": {},
   "source": [
    "## Cinnamon Ridge Obs."
   ]
  },
  {
   "cell_type": "code",
   "execution_count": null,
   "metadata": {},
   "outputs": [],
   "source": [
    "cat '/Users/elischwat/Development/data/sublimationofsnow/CIN_11Aug2023/CIN_CR1000_lab_test.dat' | head -10"
   ]
  },
  {
   "cell_type": "code",
   "execution_count": null,
   "metadata": {},
   "outputs": [],
   "source": [
    "\n",
    "file_path = '/Users/elischwat/Development/data/sublimationofsnow/CIN_11Aug2023/CIN_CR1000_Daily.dat'\n",
    "file_path = '/Users/elischwat/Development/data/sublimationofsnow/CIN_11Aug2023/CIN_CR1000_lab_test.dat'\n",
    "\n",
    "# Read the .dat file into a DataFrame\n",
    "df = pd.read_csv(\n",
    "    file_path, \n",
    "    skiprows=[0, 2, 3], \n",
    ")  # Adjust the delimiter if necessary\n",
    "\n",
    "# Display the DataFrame\n",
    "df['TIMESTAMP'] = pd.to_datetime(df['TIMESTAMP'])\n",
    "df = df.set_index('TIMESTAMP')\n",
    "df = df[['WS_ms_AVG', 'AirTempC_Avg']].astype(float)\n",
    "df"
   ]
  },
  {
   "cell_type": "code",
   "execution_count": null,
   "metadata": {},
   "outputs": [],
   "source": [
    "df.loc['20230418'].plot()"
   ]
  },
  {
   "cell_type": "markdown",
   "metadata": {},
   "source": [
    "## XBAND"
   ]
  },
  {
   "cell_type": "code",
   "execution_count": null,
   "metadata": {},
   "outputs": [],
   "source": [
    "ppi_scan_files = sorted(glob.glob(\n",
    "    \"/Users/elischwat/Development/data/sublimationofsnow/gucxprecipradarS2.00/gucxprecipradarS2.00.20230418.220459.raw.nc/*_PPI.nc\"\n",
    "))\n",
    "for f in ppi_scan_files:\n",
    "    xband_ppi_eg = xr.open_dataset(os.path.join(\"/Users/elischwat/Development/data/sublimationofsnow/gucxprecipradarS2.00/gucxprecipradarS2.00.20230418.220459.raw.nc\", f))\n",
    "    xband_ppi_eg = utils.modify_xarray_timezone(xband_ppi_eg, 'UTC', 'US/Mountain')\n",
    "    xband_ppi_eg = xband_ppi_eg.assign_coords(\n",
    "        x = xband_ppi_eg['range']*np.cos(np.deg2rad(xband_ppi_eg['azimuth'])),\n",
    "        y = xband_ppi_eg['range']*np.sin(np.deg2rad(xband_ppi_eg['azimuth']))\n",
    "    )\n",
    "    xband_ppi_eg = xband_ppi_eg.where(xband_ppi_eg.range < 10000, drop=True)\n",
    "    xband_ppi_eg = xband_ppi_eg.where(xband_ppi_eg.azimuth > 270, drop=True)\n",
    "    xband_ppi_eg = xband_ppi_eg.where(xband_ppi_eg.DBZhv > -1e6)\n",
    "    plt.pcolormesh(\n",
    "        xband_ppi_eg.y,\n",
    "        xband_ppi_eg.x,\n",
    "        xband_ppi_eg.DBZhv.T,\n",
    "        cmap='gist_ncar',\n",
    "        vmin=-20,\n",
    "        vmax=40\n",
    "    )\n",
    "    cbar = plt.colorbar()\n",
    "    cbar.set_label('equivalent_reflectivity_factor_hv (dBZ)')\n",
    "    plt.scatter([-3727.111766901333], [6488.493655943312], s=100, color='purple', edgecolor='orange')\n",
    "    plt.title(\n",
    "        f\"{pd.to_datetime(xband_ppi_eg.time.min().values).strftime('%H:%M:%S')} - {pd.to_datetime(xband_ppi_eg.time.max().values).strftime('%H:%M:%S')}\"\n",
    "    )\n",
    "    plt.show()"
   ]
  },
  {
   "cell_type": "code",
   "execution_count": null,
   "metadata": {},
   "outputs": [],
   "source": [
    "ppi_scan_files = sorted(glob.glob(\n",
    "    \"/Users/elischwat/Development/data/sublimationofsnow/gucxprecipradarS2.00/gucxprecipradarS2.00.20230418.233226.raw.nc/*_PPI.nc\"\n",
    "))\n",
    "for f in ppi_scan_files:\n",
    "    xband_ppi_eg = xr.open_dataset(os.path.join(\"/Users/elischwat/Development/data/sublimationofsnow/gucxprecipradarS2.00/gucxprecipradarS2.00.20230418.220459.raw.nc\", f))\n",
    "    xband_ppi_eg = utils.modify_xarray_timezone(xband_ppi_eg, 'UTC', 'US/Mountain')\n",
    "    xband_ppi_eg = xband_ppi_eg.assign_coords(\n",
    "        x = xband_ppi_eg['range']*np.cos(np.deg2rad(xband_ppi_eg['azimuth'])),\n",
    "        y = xband_ppi_eg['range']*np.sin(np.deg2rad(xband_ppi_eg['azimuth']))\n",
    "    )\n",
    "    xband_ppi_eg = xband_ppi_eg.where(xband_ppi_eg.range < 10000, drop=True)\n",
    "    xband_ppi_eg = xband_ppi_eg.where(xband_ppi_eg.azimuth > 270, drop=True)\n",
    "    xband_ppi_eg = xband_ppi_eg.where(xband_ppi_eg.DBZhv > -1e6)\n",
    "    plt.pcolormesh(\n",
    "        xband_ppi_eg.y,\n",
    "        xband_ppi_eg.x,\n",
    "        xband_ppi_eg.DBZhv.T,\n",
    "        cmap='gist_ncar',\n",
    "        vmin=-20,\n",
    "        vmax=40\n",
    "    )\n",
    "    cbar = plt.colorbar()\n",
    "    cbar.set_label('equivalent_reflectivity_factor_hv (dBZ)')\n",
    "    plt.scatter([-3727.111766901333], [6488.493655943312], s=100, color='purple', edgecolor='orange')\n",
    "    plt.title(\n",
    "        f\"{pd.to_datetime(xband_ppi_eg.time.min().values).strftime('%H:%M:%S')} - {pd.to_datetime(xband_ppi_eg.time.max().values).strftime('%H:%M:%S')}\"\n",
    "    )\n",
    "    plt.show()"
   ]
  },
  {
   "cell_type": "markdown",
   "metadata": {},
   "source": [
    "# DOWNLOAD ALL RHI SCANS"
   ]
  },
  {
   "cell_type": "markdown",
   "metadata": {},
   "source": [
    "## Examine mean and variance of RHI scans"
   ]
  },
  {
   "cell_type": "code",
   "execution_count": null,
   "metadata": {},
   "outputs": [],
   "source": [
    "ds_dl_rhi = 'gucdlrhiM1.b1'\n",
    "# ds_dl_rhi2 = 'gucdlrhi2M1.b1'\n",
    "startdate = '2023-03-01 0000'\n",
    "enddate = '2023-03-01 0100'\n",
    "download_path = os.path.join(data_dir, ds_dl_rhi)\n",
    "SNR_THRESHOLD = 0.008"
   ]
  },
  {
   "cell_type": "code",
   "execution_count": null,
   "metadata": {},
   "outputs": [],
   "source": [
    "download_path"
   ]
  },
  {
   "cell_type": "code",
   "execution_count": null,
   "metadata": {},
   "outputs": [],
   "source": [
    "\n",
    "import os\n",
    "from glob import glob\n",
    "from datetime import datetime, timedelta\n",
    "\n",
    "INCOMPLETE_DAYS = []\n",
    "\n",
    "# Define the start and end dates\n",
    "start_date = datetime.strptime(\"20230301\", \"%Y%m%d\")\n",
    "end_date = datetime.strptime(\"20230620\", \"%Y%m%d\")\n",
    "\n",
    "# Iterate through all dates\n",
    "current_date = start_date\n",
    "while current_date <= end_date:\n",
    "    date_str = current_date.strftime(\"%Y-%m-%d\")\n",
    "    \n",
    "    # Use glob to find files containing the date string\n",
    "    pattern = os.path.join(download_path, f\"*{date_str.replace('-', '')}*\")\n",
    "    matching_files = glob(pattern)\n",
    "    \n",
    "    # Print the number of files for the current date\n",
    "    print(f\"Date: {date_str}, Number of files: {len(matching_files)}\")\n",
    "    \n",
    "    if len(matching_files) != 192:\n",
    "        INCOMPLETE_DAYS.append(date_str)\n",
    "    \n",
    "    # Move to the next day\n",
    "    current_date += timedelta(days=1)"
   ]
  },
  {
   "cell_type": "code",
   "execution_count": null,
   "metadata": {},
   "outputs": [],
   "source": [
    "import time\n",
    "\n",
    "for date_str in INCOMPLETE_DAYS:\n",
    "    print(f\"Downloading for date: {date_str}\")\n",
    "    for hr_str in [\n",
    "        '00', '01', '02', '03', '04', '05', '06', '07', '08', '09', '10', '11', \n",
    "        '12', '13', \n",
    "        '14', '15', '16', '17', '18', '19', '20', '21', '22', '23',\n",
    "    ]:\n",
    "        start = date_str + 'T' + hr_str + ':00:00'\n",
    "        end = date_str + 'T' + hr_str + ':59:59'\n",
    "        print(start)\n",
    "        print(end)\n",
    "\n",
    "        retry_count = 0\n",
    "        max_retries = 3  # Set a limit for retries\n",
    "        while retry_count < max_retries:\n",
    "            try:\n",
    "                files = act.discovery.download_arm_data(\n",
    "                    username, token, ds_dl_rhi, start, end, output=download_path\n",
    "                )\n",
    "                pattern = os.path.join(download_path, f\"*{date_str.replace('-','')}*\")\n",
    "                matching_files = glob(pattern)\n",
    "                # Print the number of files for the current date\n",
    "                print(f\"Finished downloading for date: {date_str}, downloaded number of files: {len(matching_files)}\")\n",
    "                break  # Exit the retry loop on success\n",
    "            except Exception as e:\n",
    "                retry_count += 1\n",
    "                print(f\"Error occurred: {e}. Retrying {retry_count}/{max_retries}...\")\n",
    "                if retry_count < max_retries:\n",
    "                    time.sleep(5)  # Wait 5 seconds before retrying\n",
    "                else:\n",
    "                    print(f\"Failed to download after {max_retries} attempts for date: {date_str}, hour: {hr_str}\")"
   ]
  },
  {
   "cell_type": "code",
   "execution_count": null,
   "metadata": {},
   "outputs": [],
   "source": [
    "files = act.discovery.download_arm_data(\n",
    "    username, token, ds_dl_rhi, '20230304', '20230308', output=download_path\n",
    ")"
   ]
  },
  {
   "cell_type": "code",
   "execution_count": null,
   "metadata": {},
   "outputs": [],
   "source": [
    "cross_valley_scan_files=glob.glob(os.path.join(download_path, '*.cdf'))"
   ]
  },
  {
   "cell_type": "code",
   "execution_count": null,
   "metadata": {},
   "outputs": [],
   "source": [
    "cross_valley_scan_files = glob.glob(os.path.join(download_path, '*.cdf'))\n",
    "cross_valley_scan_files = [f for f in cross_valley_scan_files if '20230419' in f or '20230418' in f]\n",
    "cross_valley_scan_files = [f for f in cross_valley_scan_files if f[-8: -6] in ['15', '18', '45', '48']]\n",
    "cross_valley_scan_files"
   ]
  },
  {
   "cell_type": "markdown",
   "metadata": {},
   "source": [
    "all cross-valley scans began on the following minutes:\n",
    "15, 18, 45, 48\n",
    "\n",
    "Let's grab just those files."
   ]
  },
  {
   "cell_type": "code",
   "execution_count": null,
   "metadata": {},
   "outputs": [],
   "source": [
    "datasets = []\n",
    "\n",
    "# Loop through each file\n",
    "for file in cross_valley_scan_files[4:]:\n",
    "    # Open the dataset\n",
    "    ds = xr.open_dataset(file)\n",
    "    # Assign the filename as an attribute\n",
    "    ds.attrs['filename'] = file\n",
    "    # Append the dataset to the list\n",
    "    datasets.append(ds)\n",
    "\n",
    "# Merge all datasets\n",
    "merged_dataset = xr.merge(datasets)"
   ]
  },
  {
   "cell_type": "code",
   "execution_count": null,
   "metadata": {},
   "outputs": [],
   "source": [
    "one_scan_ds = merged_dataset.sel(time = slice('2023-04-18T00:15:00', '2023-04-18T00:18:00'))\n",
    "\n",
    "one_scan_ds = one_scan_ds.where(one_scan_ds.range < 2000, drop=True)\n",
    "\n",
    "one_scan_ds['x'] = one_scan_ds['range']*np.cos(np.deg2rad(one_scan_ds['elevation']))\n",
    "one_scan_ds['z'] = one_scan_ds['range']*np.sin(np.deg2rad(one_scan_ds['elevation']))\n",
    "\n",
    "one_scan_ds = one_scan_ds.set_coords(['x', 'z'])\n",
    "\n",
    "\n",
    "one_scan_ds['attenuated_backscatter'].plot(x='x', y='z')"
   ]
  },
  {
   "cell_type": "code",
   "execution_count": null,
   "metadata": {},
   "outputs": [],
   "source": [
    "rhi_df = merged_dataset.to_dataframe().reset_index()\n",
    "rhi_df = rhi_df[rhi_df.range < 2000]\n",
    "# RHI: convert polar coordinates to rectangular coords with the radar at (0,0)\n",
    "rhi_df['x'] = rhi_df['range']*np.cos(np.deg2rad(rhi_df['elevation']))\n",
    "rhi_df['z'] = rhi_df['range']*np.sin(np.deg2rad(rhi_df['elevation']))\n",
    "\n",
    "rhi_df['SNR'] = rhi_df['intensity'] - 1\n",
    "# rhi_df.loc[rhi_df.eval(f'SNR < {SNR_THRESHOLD}'), 'radial_velocity'] = np.nan"
   ]
  },
  {
   "cell_type": "code",
   "execution_count": null,
   "metadata": {},
   "outputs": [],
   "source": [
    "rhi_df_hourly = rhi_df.set_index('time').groupby([\n",
    "    pd.Grouper(freq='60min'), 'range', 'elevation'\n",
    "]).mean()"
   ]
  },
  {
   "cell_type": "code",
   "execution_count": null,
   "metadata": {},
   "outputs": [],
   "source": [
    "def plot_rhi_scan_radial_velocity(df):\n",
    "    return alt.Chart(df).mark_square(size=30).encode(\n",
    "        alt.X('x:Q'),\n",
    "        alt.Y('z:Q'),\n",
    "        alt.Color('radial_velocity:Q').scale(scheme='redyellowblue', domain=[-10,10])\n",
    "    ).properties(width = 600, height=300)"
   ]
  },
  {
   "cell_type": "code",
   "execution_count": null,
   "metadata": {},
   "outputs": [],
   "source": [
    "plot_rhi_scan_radial_velocity(rhi_df_hourly.loc['2023-04-18 18:00:00', :, :].reset_index())"
   ]
  },
  {
   "cell_type": "code",
   "execution_count": null,
   "metadata": {},
   "outputs": [],
   "source": [
    "import seaborn as sns\n",
    "sns.displot(rhi_df_hourly.loc['2023-04-18 18:00:00', :, :].attenuated_backscatter)"
   ]
  },
  {
   "cell_type": "code",
   "execution_count": null,
   "metadata": {},
   "outputs": [],
   "source": [
    "\n",
    "def plot_rhi_scan_attenuated_backscatter(df):\n",
    "    return alt.Chart(df).mark_square(size=30).encode(\n",
    "        alt.X('x:Q'),\n",
    "        alt.Y('z:Q'),\n",
    "        alt.Color('attenuated_backscatter:Q').scale(scheme='redyellowblue')\n",
    "        # alt.Color('intensity:Q').scale(scheme='redyellowblue')\n",
    "    ).properties(width = 600, height=300)\n",
    "plot_rhi_scan_attenuated_backscatter(\n",
    "    rhi_df.set_index('time').loc['2023-04-18 18:15:00': '2023-04-18 18:18:00'].query(\"elevation > 30\").query(\"elevation < 150\").reset_index()\n",
    ")"
   ]
  },
  {
   "cell_type": "code",
   "execution_count": null,
   "metadata": {},
   "outputs": [],
   "source": [
    "ds = xr.open_dataset(cross_valley_scan_files[10])\n",
    "ds['x'] = ds['range']*np.cos(np.deg2rad(ds['elevation']))\n",
    "ds['z'] = ds['range']*np.sin(np.deg2rad(ds['elevation']))\n",
    "df = ds.to_dataframe().reset_index()\n",
    "src = ds.sel(range=slice(0,4000))\n",
    "plt.subplots(figsize=(9.6, 4))\n",
    "plt.contourf(\n",
    "    src['x'].values.T, src['z'].values.T,\n",
    "    src['radial_velocity'].values,\n",
    "    cmap='gist_ncar',\n",
    "    levels=50\n",
    ")\n",
    "plt.colorbar()\n",
    "plt.gca().set_aspect('equal')\n",
    "name = f.split('gucdlrhiM1.b1/gucdlrhiM1.b1.')[1][:-4]\n",
    "plt.title(name)\n",
    "plt.show()"
   ]
  },
  {
   "cell_type": "code",
   "execution_count": null,
   "metadata": {},
   "outputs": [],
   "source": [
    "import glob\n",
    "cross_valley_scan_files = sorted(glob.glob(os.path.join(\n",
    "    '/Users/elischwat/Development/data/sublimationofsnow/gucdlrhiM1.b1/', '*.cdf')))\n",
    "cross_valley_scan_files = [f for f in cross_valley_scan_files if \n",
    "                           '20230304' in f\n",
    "                           or '20230305' in f\n",
    "                           or '20230306' in f\n",
    "                           or '20230307' in f\n",
    "                           or '20230308' in f\n",
    "                           \n",
    "                        ]\n",
    "cross_valley_scan_files = [f for f in cross_valley_scan_files if f[-8: -6] in ['15', '18', '45', '48']]\n",
    "cross_valley_scan_files"
   ]
  },
  {
   "cell_type": "code",
   "execution_count": null,
   "metadata": {},
   "outputs": [],
   "source": [
    "for f in sorted(cross_valley_scan_files):\n",
    "    try: \n",
    "        ds = xr.open_dataset(f)\n",
    "        ds['x'] = ds['range']*np.cos(np.deg2rad(ds['elevation']))\n",
    "        ds['z'] = ds['range']*np.sin(np.deg2rad(ds['elevation']))\n",
    "        ds['x'] = - ds['x']\n",
    "        df = ds.to_dataframe().reset_index()\n",
    "        src = ds.sel(range=slice(0,2000))\n",
    "        plt.subplots(figsize=(9.6, 4))\n",
    "        plt.contourf(\n",
    "            src['x'].values.T, src['z'].values.T,\n",
    "            src['radial_velocity'].values,\n",
    "            cmap='gist_ncar',\n",
    "            levels=50\n",
    "        )\n",
    "        plt.colorbar()\n",
    "        plt.gca().set_aspect('equal')\n",
    "        name = f.split('gucdlrhiM1.b1/gucdlrhiM1.b1.')[1][:-4]\n",
    "        plt.title(name)\n",
    "        plt.savefig('rhi_scans/' + name + '.png')\n",
    "        plt.close()\n",
    "    except Exception as exc:\n",
    "        print(f'Failed on {f}')"
   ]
  },
  {
   "cell_type": "code",
   "execution_count": null,
   "metadata": {},
   "outputs": [],
   "source": [
    "alt.Chart(df).mark_square(size=30).encode(\n",
    "        alt.X('x:Q'),\n",
    "        alt.Y('z:Q'),\n",
    "        alt.Color('attenuated_backscatter:Q').scale(scheme='turbo')\n",
    "    ).properties(width = 600, height=300)"
   ]
  },
  {
   "cell_type": "code",
   "execution_count": null,
   "metadata": {},
   "outputs": [],
   "source": [
    "alt.Chart(df.query(\"range < 3000\")).mark_rect().encode(\n",
    "    alt.X('x:Q').bin(step=100),\n",
    "    alt.Y('z:Q').bin(step=100),\n",
    "    alt.Color('mean(attenuated_backscatter):Q').scale(scheme='turbo')\n",
    ").properties(width = 600, height=300)"
   ]
  },
  {
   "cell_type": "code",
   "execution_count": null,
   "metadata": {},
   "outputs": [],
   "source": [
    "alt.Chart(df.query(\"range < 4000\")).mark_square(size=30).encode(\n",
    "        alt.X('x:Q'),\n",
    "        alt.Y('z:Q'),\n",
    "        alt.Color('attenuated_backscatter:Q').scale(scheme='turbo')\n",
    "    ).properties(width = 600, height=300)"
   ]
  },
  {
   "cell_type": "code",
   "execution_count": null,
   "metadata": {},
   "outputs": [],
   "source": [
    "alt.Chart(df.query(\"x < 4000\").query('x > -4000')).mark_square(size=30).encode(\n",
    "        alt.X('x:Q'),\n",
    "        alt.Y('z:Q'),\n",
    "        alt.Color('intensity:Q').scale(scheme='turbo')\n",
    "    ).properties(width = 600, height=300)"
   ]
  },
  {
   "cell_type": "markdown",
   "metadata": {},
   "source": [
    "## Download images of gothic from the xband radar"
   ]
  },
  {
   "cell_type": "code",
   "execution_count": null,
   "metadata": {},
   "outputs": [],
   "source": [
    "# Inputs\n",
    "username = os.getenv(\"ARM_USERNAME\")\n",
    "token = os.getenv(\"ARM_TOKEN\")\n",
    "DATE_FORMAT_STR = '%Y-%m-%d'\n",
    "start_date = \"20230418\"\n",
    "end_date = \"20230419\"\n",
    "DATA_STREAM = 'guccamweathermainS2'\n",
    "OUTPUT_DIR = os.path.join(data_dir, DATA_STREAM)\n",
    "file_list = act.discovery.download_arm_data(\n",
    "            username, token, DATA_STREAM, end_date, end_date, output = OUTPUT_DIR)"
   ]
  },
  {
   "cell_type": "code",
   "execution_count": null,
   "metadata": {},
   "outputs": [],
   "source": [
    "file_list"
   ]
  },
  {
   "cell_type": "markdown",
   "metadata": {},
   "source": [
    "# Create Site Map"
   ]
  },
  {
   "cell_type": "code",
   "execution_count": null,
   "metadata": {},
   "outputs": [],
   "source": [
    "import rioxarray as rix\n",
    "import geopandas as gpd\n",
    "from shapely import transform"
   ]
  },
  {
   "cell_type": "markdown",
   "metadata": {},
   "source": [
    "Open files and prep rasters for plotting"
   ]
  },
  {
   "cell_type": "code",
   "execution_count": null,
   "metadata": {},
   "outputs": [],
   "source": [
    "# open rasters\n",
    "elevation = rix.open_rasterio(\"/Users/elischwat/Development/snow-hydrology/modules/data/east_river_elevation.tif\")\n",
    "hillshade = rix.open_rasterio(\"/Users/elischwat/Development/snow-hydrology/modules/data/east_river_hillshade.tif\", masked=True)\n",
    "snowdepth = rix.open_rasterio(\"/Users/elischwat/Development/snow-hydrology/modules/data/eastriver_snowdepth_2023april01.tif\")\n",
    "\n",
    "# open watershed boundary\n",
    "upper_east_river_polygon = gpd.read_file('/Users/elischwat/Development/snow-hydrology/modules/data/east_polygon.json').to_crs(snowdepth.rio.crs)\n",
    "upper_east_river_polygon.geometry = upper_east_river_polygon.geometry.buffer(-2000).apply(lambda g: transform(g, lambda x: x - 2000))\n",
    "\n",
    "\n",
    "# clip rasters\n",
    "elevation_clipped = elevation.rio.clip_box(\n",
    "    *upper_east_river_polygon.geometry.iloc[0].bounds\n",
    ")\n",
    "hillshade_clipped = hillshade.rio.clip_box(\n",
    "    *upper_east_river_polygon.geometry.iloc[0].bounds\n",
    ")\n",
    "snowdepth_clipped = snowdepth.rio.clip_box(\n",
    "    *upper_east_river_polygon.geometry.iloc[0].bounds\n",
    ")"
   ]
  },
  {
   "cell_type": "code",
   "execution_count": null,
   "metadata": {},
   "outputs": [],
   "source": [
    "from shapely.geometry import box, Point, LineString"
   ]
  },
  {
   "cell_type": "markdown",
   "metadata": {},
   "source": [
    "Create vector objects for plotting"
   ]
  },
  {
   "cell_type": "code",
   "execution_count": null,
   "metadata": {},
   "outputs": [],
   "source": [
    "zoom_in_box = gpd.GeoDataFrame(geometry=\n",
    "                               [box(*upper_east_river_polygon.geometry.iloc[0].bounds)]\n",
    ").set_crs(hillshade.rio.crs)\n",
    "\n",
    "doppler_lidar_loc = gpd.GeoDataFrame(geometry=[\n",
    "    Point(dl_wprof.lon.values.item(), dl_wprof.lat.values.item())\n",
    "]).set_crs('EPSG:4326').to_crs(hillshade.rio.crs)\n",
    "\n",
    "# create a line representing the cross-valley RHI scan axes (+/- 2000 m)\n",
    "original_point = doppler_lidar_loc.geometry.iloc[0]\n",
    "point_minus_2000 = Point(original_point.x - 2000, original_point.y)\n",
    "point_plus_2000 = Point(original_point.x + 2000, original_point.y)\n",
    "doppler_lidar_xvalley_scan_axis = gpd.GeoDataFrame(geometry=[\n",
    "    LineString([point_minus_2000,original_point,point_plus_2000])\n",
    "]).set_crs(hillshade.rio.crs)\n",
    "\n",
    "# create datasets of the sonde ascension paths\n",
    "sonde_morn_df = sonde_morn[['lon', 'lat', 'alt']].to_dataframe().reset_index().query(\"alt <= 5000\")\n",
    "sonde_morn_df['geometry'] = [Point(xy) for xy in zip(sonde_morn_df['lon'], sonde_morn_df['lat'])]\n",
    "sonde_day_df = sonde_day[['lon', 'lat', 'alt']].to_dataframe().reset_index().query(\"alt <= 5000\")\n",
    "sonde_day_df['geometry'] = [Point(xy) for xy in zip(sonde_day_df['lon'], sonde_day_df['lat'])]\n",
    "\n",
    "sonde_morn_gdf = gpd.GeoDataFrame(sonde_morn_df, geometry='geometry').set_crs('EPSG:4326').to_crs(hillshade.rio.crs)\n",
    "sonde_day_gdf = gpd.GeoDataFrame(sonde_day_df, geometry='geometry').set_crs('EPSG:4326').to_crs(hillshade.rio.crs)\n",
    "\n",
    "# Mark loc of xband radar \n",
    "xband_point = Point(xband_ppi_eg.longitude.values.item(), xband_ppi_eg.latitude.values.item())\n",
    "xbandradar_loc_gdf = gpd.GeoDataFrame([{'geometry': xband_point}], crs='EPSG:4326').to_crs(hillshade.rio.crs)"
   ]
  },
  {
   "cell_type": "code",
   "execution_count": null,
   "metadata": {},
   "outputs": [],
   "source": [
    "(xbandradar_loc_gdf.geometry.iloc[0].x - doppler_lidar_loc.geometry.iloc[0].x),\\\n",
    "(xbandradar_loc_gdf.geometry.iloc[0].y - doppler_lidar_loc.geometry.iloc[0].y)"
   ]
  },
  {
   "cell_type": "code",
   "execution_count": null,
   "metadata": {},
   "outputs": [],
   "source": [
    "fig, axes = plt.subplots(1,2, figsize=(10, 5))\n",
    "\n",
    "hillshade.plot(cmap='Greys_r', add_colorbar=False, ax=axes[0])\n",
    "elevation.plot(alpha=0.5, cbar_kwargs={'label': \"Elevation (m)\"}, ax=axes[0], vmin=2400, vmax=4250)\n",
    "zoom_in_box.plot(ax=axes[0], facecolor='none', edgecolor='red', linewidth=2)\n",
    "doppler_lidar_loc.plot(ax=axes[0], color='red')\n",
    "doppler_lidar_xvalley_scan_axis.plot(ax=axes[0], color='red')\n",
    "sonde_morn_gdf[::30].plot(ax=axes[0], column='alt', cmap='Blues', s=30, edgecolor='black')\n",
    "sonde_day_gdf[::30].plot(ax=axes[0], column='alt', cmap='Blues', marker='s', s=30, edgecolor='black')\n",
    "xbandradar_loc_gdf.plot(ax=axes[0], color='orange')\n",
    "\n",
    "hillshade_clipped.plot(cmap='Greys_r', add_colorbar=False, ax=axes[1])\n",
    "elevation_clipped.plot(alpha=0.5, cbar_kwargs={'label': \"Elevation (m)\"}, ax=axes[1], vmin=2400, vmax=4250)\n",
    "zoom_in_box.plot(ax=axes[1], facecolor='none', edgecolor='red', linewidth=2)\n",
    "doppler_lidar_loc.plot(ax=axes[1], color='red')\n",
    "doppler_lidar_xvalley_scan_axis.plot(ax=axes[1], color='red')\n",
    "sonde_morn_gdf[::30].plot(ax=axes[1], column='alt', cmap='Blues', s=30, edgecolor='black')\n",
    "sonde_day_gdf[::30].plot(ax=axes[1], column='alt', cmap='Blues', marker='s', s=30, edgecolor='black')\n",
    "xbandradar_loc_gdf.plot(ax=axes[1], color='orange')\n",
    "\n",
    "for ax in axes:\n",
    "    ax.set_aspect('equal')\n",
    "    ax.set_xticks([])\n",
    "    ax.set_yticks([])\n",
    "    ax.set_xlabel('')\n",
    "    ax.set_ylabel('')\n",
    "    ax.set_title('')\n",
    "\n",
    "axes[1].set_xlim(\n",
    "    axes[1].get_xlim()[0] - 100,\n",
    "    axes[1].get_xlim()[1] + 100\n",
    ")\n",
    "axes[1].set_ylim(\n",
    "    axes[1].get_ylim()[0] - 100,\n",
    "    axes[1].get_ylim()[1] + 100\n",
    ")\n",
    "\n",
    "plt.tight_layout()"
   ]
  },
  {
   "cell_type": "markdown",
   "metadata": {},
   "source": [
    "## Extract elevation profile along radar scan line"
   ]
  },
  {
   "cell_type": "code",
   "execution_count": null,
   "metadata": {},
   "outputs": [],
   "source": [
    "hi_res_dem = rix.open_rasterio(\"/Users/elischwat/qgis/east_river_valley/UG_dem_3m_v1.tif\")"
   ]
  },
  {
   "cell_type": "code",
   "execution_count": null,
   "metadata": {},
   "outputs": [],
   "source": [
    "this_line = doppler_lidar_xvalley_scan_axis.geometry.iloc[0]"
   ]
  },
  {
   "cell_type": "code",
   "execution_count": null,
   "metadata": {},
   "outputs": [],
   "source": [
    "from shapely.ops import unary_union\n",
    "\n",
    "distance_delta = 10\n",
    "distances = np.arange(0, this_line.length, distance_delta)\n",
    "points = [this_line.interpolate(distance) for distance in distances] + [Point(*this_line.coords[-1])]\n",
    "len(points)"
   ]
  },
  {
   "cell_type": "code",
   "execution_count": null,
   "metadata": {},
   "outputs": [],
   "source": [
    "elev_points = [\n",
    "    hi_res_dem.interp(\n",
    "        x = pnt.coords[0][0],\n",
    "        y = pnt.coords[0][1]\n",
    "    ) for pnt in points\n",
    "]"
   ]
  },
  {
   "cell_type": "code",
   "execution_count": null,
   "metadata": {},
   "outputs": [],
   "source": [
    "plt.gcf().get_figheight()"
   ]
  },
  {
   "cell_type": "code",
   "execution_count": null,
   "metadata": {},
   "outputs": [],
   "source": [
    "plt.figure(figsize=(4.8, 0.9))\n",
    "plt.plot(\n",
    "    np.concatenate([distances, [4000]]) - 2000,\n",
    "    (np.array(elev_points) - 2889)/1000\n",
    ")\n",
    "plt.xlim(-2000, 2000)\n",
    "plt.ylabel('Height\\n(AGL) (km)')\n",
    "plt.gca().spines['top'].set_visible(False)\n",
    "plt.gca().spines['right'].set_visible(False)"
   ]
  },
  {
   "cell_type": "markdown",
   "metadata": {},
   "source": [
    "# Calculate Brunt-Vaisala Frequency and the Boundary-Layer Separation Regime"
   ]
  },
  {
   "cell_type": "markdown",
   "metadata": {},
   "source": [
    "Baines (1995) defines three different boundary-layer-separation regimes based on laboratory experiments: (i) boundary-layer separation at the mountain crest (i.e., bluff-body flow separation), (ii) flow separation farther down the lee sidewall below the first wave crest, which he calls post-wave separation, and (iii) complete attachment, that is, no separation occurs. The three flow types are characterized by their location in a regime diagram as a function of H /W and N H /U , where H is the mountain height, W is the length of the lee slope, N is the Brunt–Väisälä frequency, and U is the upstream wind speed. The formation of bluff-body flow separation depends on the ratio between the wavelength of the internal waves 2πU /N and W so that boundary-layer separation occurs if N W /U < π. Post-wave separation, on the other hand, occurs when N H /U is above a critical threshold value."
   ]
  },
  {
   "cell_type": "markdown",
   "metadata": {},
   "source": [
    " We can find these variables at 1630, when the radiosonde has vertical profile allowing estimate of $N$. \n",
    "Let's calculate these variables at 900m, the approximate height of Gothic."
   ]
  },
  {
   "cell_type": "markdown",
   "metadata": {},
   "source": [
    "Calculate N from the afternoon radiosonde"
   ]
  },
  {
   "cell_type": "code",
   "execution_count": null,
   "metadata": {},
   "outputs": [],
   "source": [
    "sonde_day['N'] = metpy.calc.brunt_vaisala_frequency(\n",
    "    sonde_day['alt'] * units(sonde_day['alt'].units),\n",
    "    metpy.calc.potential_temperature(\n",
    "        sonde_day['pres'] * units(sonde_day['pres'].units),\n",
    "        sonde_day['tdry'] * units(sonde_day['tdry'].units),\n",
    "    )\n",
    ")\n",
    "n_df = sonde_day[['N', 'alt']].to_dataframe()\n",
    "n_df['alt'] = n_df['alt'] - n_df['alt'].min()\n",
    "\n",
    "N = n_df[n_df.alt > 875][n_df.alt < 925].mean()['N']"
   ]
  },
  {
   "cell_type": "markdown",
   "metadata": {},
   "source": [
    "Calculate U from the cinnamon ridge data"
   ]
  },
  {
   "cell_type": "code",
   "execution_count": null,
   "metadata": {},
   "outputs": [],
   "source": [
    "U = df.loc['20230418 1630']['WS_ms_AVG']"
   ]
  },
  {
   "cell_type": "code",
   "execution_count": null,
   "metadata": {},
   "outputs": [],
   "source": [
    "H = 500 # meters, mountain height, height of Gothic relative to the top of the ridge immediately SW of Gothic\n",
    "W = 1600 # meters, distance btwn gothic ridge peak and center valley of Gothic, along a SW-NE transect line"
   ]
  },
  {
   "cell_type": "code",
   "execution_count": null,
   "metadata": {},
   "outputs": [],
   "source": [
    "leeside_properties_df = df.loc['20230418'][['WS_ms_AVG']].copy()\n",
    "leeside_properties_df = leeside_properties_df.rename(columns={'WS_ms_AVG': 'U'})\n",
    "leeside_properties_df['H'] = H\n",
    "leeside_properties_df['W'] = W\n",
    "leeside_properties_df['N'] = N\n",
    "leeside_properties_df['x'] = leeside_properties_df.N * leeside_properties_df.H / leeside_properties_df.U\n",
    "leeside_properties_df['y'] = leeside_properties_df.H / leeside_properties_df.W\n",
    "leeside_properties_df = leeside_properties_df.reset_index()"
   ]
  },
  {
   "cell_type": "code",
   "execution_count": null,
   "metadata": {},
   "outputs": [],
   "source": [
    "leeside_properties_df.head()"
   ]
  },
  {
   "cell_type": "code",
   "execution_count": null,
   "metadata": {},
   "outputs": [],
   "source": [
    "alt.Chart(\n",
    "    leeside_properties_df[leeside_properties_df.TIMESTAMP.dt.hour%2 == 0]\n",
    ").mark_circle().encode(\n",
    "    alt.X('mean(x):Q').scale(domain = [0.1, 1], type='log').title('N H / U'), \n",
    "    alt.Y('mean(y):Q').scale(domain = [0.01, 10], type='log').title('H / W'),\n",
    "    alt.Color('hours(TIMESTAMP):O').scale(scheme='rainbow') \n",
    ").properties(width=150, height=150)"
   ]
  },
  {
   "cell_type": "code",
   "execution_count": null,
   "metadata": {},
   "outputs": [],
   "source": [
    "plt.scatter(leeside_properties_df['x'], leeside_properties_df['y'])\n",
    "plt.xlim(0.1, 10)\n",
    "plt.ylim(0.01,10)\n",
    "plt.xscale('log')\n",
    "plt.yscale('log')\n",
    "\n",
    "from matplotlib.ticker import ScalarFormatter\n",
    "# Use ScalarFormatter to avoid scientific notation\n",
    "plt.gca().xaxis.set_major_formatter(ScalarFormatter())\n",
    "plt.gca().yaxis.set_major_formatter(ScalarFormatter())\n",
    "\n",
    "plt.show()"
   ]
  },
  {
   "cell_type": "markdown",
   "metadata": {},
   "source": [
    "# Seasonal analysis"
   ]
  },
  {
   "cell_type": "markdown",
   "metadata": {},
   "source": [
    "## Compare: ridge-line w'w' with surface w'w'"
   ]
  },
  {
   "cell_type": "markdown",
   "metadata": {},
   "source": [
    "Combine DL measurements of w'w' at 900m (from daily datasets) into one dataset"
   ]
  },
  {
   "cell_type": "code",
   "execution_count": null,
   "metadata": {},
   "outputs": [],
   "source": [
    "DLW_DATA_STREAM = 'gucdlprofwstats4newsM1.c1'\n",
    "DLW_OUTPUT_DIR = os.path.join(data_dir, DLW_DATA_STREAM)"
   ]
  },
  {
   "cell_type": "code",
   "execution_count": null,
   "metadata": {},
   "outputs": [],
   "source": [
    "file_list = glob.glob(os.path.join(DLW_OUTPUT_DIR, '*.nc'))"
   ]
  },
  {
   "cell_type": "code",
   "execution_count": null,
   "metadata": {},
   "outputs": [],
   "source": [
    "daily_900m_wvar_datasets = []\n",
    "for f in tqdm(file_list):\n",
    "    dl_wstats = xr.open_dataset(f)\n",
    "    w_w_900m = dl_wstats['w_variance'].sel(\n",
    "            height = slice(875,925)\n",
    "        ).mean(dim='height')\n",
    "    daily_900m_wvar_datasets.append(w_w_900m)"
   ]
  },
  {
   "cell_type": "code",
   "execution_count": null,
   "metadata": {},
   "outputs": [],
   "source": [
    "dl_900m_wvar = xr.merge(daily_900m_wvar_datasets)"
   ]
  },
  {
   "cell_type": "markdown",
   "metadata": {},
   "source": [
    "Combine tower EC measurements of w'w' (from daily datasets) into one dataset"
   ]
  },
  {
   "cell_type": "code",
   "execution_count": null,
   "metadata": {},
   "outputs": [],
   "source": [
    "# DOWNLOAD MISSING DATA\n",
    "# # Define the data codes for meteorological and turbulence data\n",
    "# data_codes = [\n",
    "#     'gucmetM1.b1',  # Example data code for meteorological data\n",
    "#       # Example data code for turbulence data\n",
    "# ]\n",
    "\n",
    "# # Define the date range\n",
    "# start_date = '2023-04-18'\n",
    "# end_date = '2023-04-18'\n",
    "\n",
    "# # Loop through each data code and download the data\n",
    "# data_dict = {}\n",
    "# for data_code in data_codes:\n",
    "#     files = act.discovery.download_arm_data(\n",
    "#         username,  # Replace with your ARM username\n",
    "#         token,        # Replace with your ARM token\n",
    "#         data_code,\n",
    "#         start_date,\n",
    "#         end_date,\n",
    "#         output = os.path.join(data_dir, 'guc30ecorS3.b1')\n",
    "#     )\n",
    "#     print(files)\n",
    "#     # Load the data into an ACT object and append to the list\n",
    "#     ds = act.io.read_arm_netcdf(files)\n",
    "#     data_dict[data_code] = ds\n",
    "\n",
    "# gothic_met = data_dict[data_codes[0]]\n",
    "# gothic_ec = data_dict[data_codes[1]]"
   ]
  },
  {
   "cell_type": "code",
   "execution_count": null,
   "metadata": {},
   "outputs": [],
   "source": [
    "\n",
    "daily_gothic_ecor_datasets = []\n",
    "for f in tqdm(\n",
    "    sorted(glob.glob(os.path.join(data_dir, 'guc30ecorS3.b1', '*')))\n",
    "):\n",
    "    daily_gothic_ecor_datasets.append(\n",
    "        xr.open_dataset(f)['var_w']\n",
    "    )"
   ]
  },
  {
   "cell_type": "code",
   "execution_count": null,
   "metadata": {},
   "outputs": [],
   "source": [
    "gothic_ecor_wvar = xr.merge(daily_gothic_ecor_datasets)"
   ]
  },
  {
   "cell_type": "markdown",
   "metadata": {},
   "source": [
    "Compare"
   ]
  },
  {
   "cell_type": "code",
   "execution_count": null,
   "metadata": {},
   "outputs": [],
   "source": [
    "wvar_meas = dl_900m_wvar.to_dataframe().join(\n",
    "    gothic_ecor_wvar.to_dataframe()\n",
    ").dropna().rename(columns = {\n",
    "    'w_variance': \"900m w_w_\",\n",
    "    'var_w': \"3m w_w_\",\n",
    "})"
   ]
  },
  {
   "cell_type": "markdown",
   "metadata": {},
   "source": [
    "Use synoptic wind measurements to classify timestamps as cross or along-valley winds\n"
   ]
  },
  {
   "cell_type": "code",
   "execution_count": null,
   "metadata": {},
   "outputs": [],
   "source": [
    "dl_w_prof_files = glob.glob(\"/Users/elischwat/Development/data/sublimationofsnow/gucdlprofwind4newsM1.c1/*.nc\")\n",
    "prof_ds = act.io.read_arm_netcdf(dl_w_prof_files)\n",
    "prof_df = prof_ds.to_dataframe()"
   ]
  },
  {
   "cell_type": "code",
   "execution_count": null,
   "metadata": {},
   "outputs": [],
   "source": [
    "hourly_mean_prof_df = prof_df.query(\"height > 950\").query(\"height < 1100\")[['wind_speed', 'wind_direction']].reset_index().set_index('time').groupby(pd.Grouper(freq='30min')).mean()"
   ]
  },
  {
   "cell_type": "code",
   "execution_count": null,
   "metadata": {},
   "outputs": [],
   "source": [
    "along_valley_wind_times = hourly_mean_prof_df[\n",
    "    (hourly_mean_prof_df.wind_direction > 299)\n",
    "    & (hourly_mean_prof_df.wind_direction < 345 )\n",
    "].index.values\n",
    "cross_valley_wind_times = hourly_mean_prof_df[\n",
    "    (hourly_mean_prof_df.wind_direction > 202)\n",
    "    & (hourly_mean_prof_df.wind_direction < 248 )\n",
    "].index.values"
   ]
  },
  {
   "cell_type": "code",
   "execution_count": null,
   "metadata": {},
   "outputs": [],
   "source": [
    "pd.DataFrame(along_valley_wind_times).to_parquet(\"along_valley_wind_times.parquet\")\n",
    "pd.DataFrame(cross_valley_wind_times).to_parquet(\"cross_valley_wind_times.parquet\")"
   ]
  },
  {
   "cell_type": "markdown",
   "metadata": {},
   "source": [
    "Assign cross/along-valley label to the w'w' measurements"
   ]
  },
  {
   "cell_type": "code",
   "execution_count": null,
   "metadata": {},
   "outputs": [],
   "source": [
    "wvar_meas['along_valley'] = wvar_meas.index.isin(along_valley_wind_times)\n",
    "wvar_meas['cross_valley'] = wvar_meas.index.isin(cross_valley_wind_times)\n",
    "wvar_meas = wvar_meas[wvar_meas.along_valley | wvar_meas.cross_valley]\n",
    "wvar_meas['synoptic wind dir'] = np.where(wvar_meas['along_valley'], 'along valley', 'cross valley')"
   ]
  },
  {
   "cell_type": "code",
   "execution_count": null,
   "metadata": {},
   "outputs": [],
   "source": [
    "alt.Chart(wvar_meas).mark_bar().encode(\n",
    "    alt.X('900m w_w_:Q', bin=True, title='900m w_w_'),\n",
    "    alt.Y('count()', title='Frequency')\n",
    ").properties(\n",
    "    title='Histogram of 900m w_w_',\n",
    ") | alt.Chart(wvar_meas).mark_bar().encode(\n",
    "    alt.X('3m w_w_:Q', bin=True, title='900m w_w_'),\n",
    "    alt.Y('count()', title='Frequency')\n",
    ").properties(\n",
    "    title='Histogram of 3m w_w_',\n",
    ")"
   ]
  },
  {
   "cell_type": "code",
   "execution_count": null,
   "metadata": {},
   "outputs": [],
   "source": [
    "# Create new normalized columns\n",
    "wvar_meas['900m w_w_ normalized'] = wvar_meas['900m w_w_'] / wvar_meas['900m w_w_'].mean()\n",
    "wvar_meas['3m w_w_ normalized'] = wvar_meas['3m w_w_'] / wvar_meas['3m w_w_'].mean()"
   ]
  },
  {
   "cell_type": "code",
   "execution_count": null,
   "metadata": {},
   "outputs": [],
   "source": [
    "import statsmodels.api as sm\n",
    "\n",
    "# Function to fit a line and calculate the uncertainty in the slope and R-squared\n",
    "def fit_line_with_uncertainty(df):\n",
    "    X = df[['900m w_w_ normalized']].values  # Independent variable\n",
    "    y = df['3m w_w_ normalized'].values  # Dependent variable\n",
    "    X = sm.add_constant(X)  # Adds a constant term to the predictor\n",
    "    model = sm.OLS(y, X).fit()\n",
    "    return model, model.rsquared\n",
    "\n",
    "along_valley_df = wvar_meas[wvar_meas.along_valley]\n",
    "cross_valley_df = wvar_meas[wvar_meas.cross_valley]\n",
    "\n",
    "# Fit lines for both datasets\n",
    "model_along_valley, r2_along_valley = fit_line_with_uncertainty(along_valley_df)\n",
    "model_cross_valley, r2_cross_valley = fit_line_with_uncertainty(cross_valley_df)\n",
    "\n",
    "# Print the coefficients, intercepts, uncertainties, and R-squared values\n",
    "print(\"Along Valley: Coefficient =\", model_along_valley.params[1], \n",
    "      \"Intercept =\", model_along_valley.params[0], \n",
    "      \"Uncertainty in Slope =\", model_along_valley.bse[1],\n",
    "      \"R-squared =\", r2_along_valley)\n",
    "\n",
    "print(\"Cross Valley: Coefficient =\", model_cross_valley.params[1], \n",
    "      \"Intercept =\", model_cross_valley.params[0], \n",
    "      \"Uncertainty in Slope =\", model_cross_valley.bse[1],\n",
    "      \"R-squared =\", r2_cross_valley)"
   ]
  },
  {
   "cell_type": "code",
   "execution_count": null,
   "metadata": {},
   "outputs": [],
   "source": [
    "alt.Chart(wvar_meas).mark_circle(size=10).encode(\n",
    "    alt.X(\"900m w_w_:Q\"),\n",
    "    alt.Y(\"3m w_w_:Q\"),\n",
    "    alt.Color('synoptic wind dir:N')\n",
    ") | alt.Chart(wvar_meas).mark_circle(size=10).encode(\n",
    "    alt.X(\"900m w_w_ normalized:Q\").scale(domain = [0,10]),\n",
    "    alt.Y(\"3m w_w_ normalized:Q\").scale(domain = [0,10]),\n",
    "    alt.Color('synoptic wind dir:N')\n",
    ")"
   ]
  },
  {
   "cell_type": "code",
   "execution_count": null,
   "metadata": {},
   "outputs": [],
   "source": [
    "import altair as alt\n",
    "import pandas as pd\n",
    "import numpy as np\n",
    "import statsmodels.api as sm\n",
    "\n",
    "# Assuming wvar_meas is your DataFrame and the normalized columns are already created\n",
    "# Split the dataset based on 'synoptic wind dir'\n",
    "along_valley_df = wvar_meas[wvar_meas['synoptic wind dir'] == 'along valley']\n",
    "cross_valley_df = wvar_meas[wvar_meas['synoptic wind dir'] == 'cross valley']\n",
    "\n",
    "# Function to fit a line and calculate the uncertainty in the slope and R-squared\n",
    "def fit_line_with_uncertainty(df):\n",
    "    X = df[['900m w_w_ normalized']].values  # Independent variable\n",
    "    y = df['3m w_w_ normalized'].values  # Dependent variable\n",
    "    X = sm.add_constant(X)  # Adds a constant term to the predictor\n",
    "    model = sm.OLS(y, X).fit()\n",
    "    return model, model.rsquared\n",
    "\n",
    "# Fit lines for both datasets\n",
    "model_along_valley, r2_along_valley = fit_line_with_uncertainty(along_valley_df)\n",
    "model_cross_valley, r2_cross_valley = fit_line_with_uncertainty(cross_valley_df)\n",
    "\n",
    "# Extract coefficients and intercepts\n",
    "slope_along_valley = model_along_valley.params[1]\n",
    "intercept_along_valley = model_along_valley.params[0]\n",
    "slope_cross_valley = model_cross_valley.params[1]\n",
    "intercept_cross_valley = model_cross_valley.params[0]\n",
    "\n",
    "base_chart_normalized = alt.Chart(wvar_meas).mark_circle(size=10).encode(\n",
    "    alt.X(\"900m w_w_ normalized:Q\", scale=alt.Scale(domain=[0, 10], clamp=True)),\n",
    "    alt.Y(\"3m w_w_ normalized:Q\", scale=alt.Scale(domain=[0, 10], clamp=True)),\n",
    "    alt.Color('synoptic wind dir:N')\n",
    ")\n",
    "\n",
    "\n",
    "# Create the fitted lines\n",
    "line_along_valley = alt.Chart(along_valley_df).mark_line(color='#1f77b4').encode(\n",
    "    alt.X('900m w_w_ normalized:Q'),\n",
    "    alt.Y('3m w_w_ normalized:Q')\n",
    ").transform_regression(\n",
    "    '900m w_w_ normalized', '3m w_w_ normalized'\n",
    ")\n",
    "\n",
    "line_cross_valley = alt.Chart(cross_valley_df).mark_line(color='#ff7f0e').encode(\n",
    "    alt.X('900m w_w_ normalized:Q'),\n",
    "    alt.Y('3m w_w_ normalized:Q')\n",
    ").transform_regression(\n",
    "    '900m w_w_ normalized', '3m w_w_ normalized'\n",
    ")\n",
    "\n",
    "(base_chart_normalized + line_along_valley + line_cross_valley).properties(\n",
    "    title = f'Along valley r² = {round(r2_along_valley, 2)}, Cross valley r² = {round(r2_cross_valley, 2)}, '\n",
    ")"
   ]
  },
  {
   "cell_type": "markdown",
   "metadata": {},
   "source": [
    "## Examine seasonal behavior of vertical velocity statistics"
   ]
  },
  {
   "cell_type": "code",
   "execution_count": null,
   "metadata": {},
   "outputs": [],
   "source": [
    "file_list_2022_23_season = sorted(file_list)[425: 621]\n",
    "file_list_2022_23_season[0], file_list_2022_23_season[-1]"
   ]
  },
  {
   "cell_type": "code",
   "execution_count": null,
   "metadata": {},
   "outputs": [],
   "source": [
    "daily_wvar_datasets = []\n",
    "for f in tqdm(file_list_2022_23_season):\n",
    "    # dl_wstats = xr.open_dataset(f)[['w_variance']].coarsen(height=2, boundary='trim').mean()\n",
    "    dl_wstats = xr.open_dataset(f)[['w_variance']]\n",
    "    daily_wvar_datasets.append(dl_wstats)"
   ]
  },
  {
   "cell_type": "code",
   "execution_count": null,
   "metadata": {},
   "outputs": [],
   "source": [
    "dl_wvar = xr.merge(daily_wvar_datasets)"
   ]
  },
  {
   "cell_type": "code",
   "execution_count": null,
   "metadata": {},
   "outputs": [],
   "source": [
    "src = dl_wvar.to_dataframe()\n",
    "src = src.reset_index().set_index('time')\n",
    "src['hour_of_day'] = src.index.hour\n",
    "src = src.groupby(['hour_of_day', 'height']).mean().query(\"height <= 2000\")\n",
    "alt.Chart(src.reset_index()).mark_line().encode(\n",
    "    alt.X('w_variance:Q'),\n",
    "    alt.Y('height:Q'),\n",
    "    # alt.Color('hour_of_day:O'),\n",
    "    alt.Facet('hour_of_day:O', columns=6),\n",
    "    order = 'height'\n",
    ").properties(width=100)"
   ]
  },
  {
   "cell_type": "markdown",
   "metadata": {},
   "source": [
    "## KPS Skewness"
   ]
  },
  {
   "cell_type": "code",
   "execution_count": null,
   "metadata": {},
   "outputs": [],
   "source": [
    "sos_ds = xr.open_dataset(\"../paper1/process_slow_data/sos_ds_temp_storage_30min_straightup.cdf\")"
   ]
  },
  {
   "cell_type": "code",
   "execution_count": null,
   "metadata": {},
   "outputs": [],
   "source": [
    "sos_df_5min = sos_ds[['w_w_w__3m_c', 'w_w_w__5m_c', 'w_w_w__10m_c', 'w_w_w__15m_c', 'w_w_w__20m_c']].to_dataframe()"
   ]
  },
  {
   "cell_type": "code",
   "execution_count": null,
   "metadata": {},
   "outputs": [],
   "source": [
    "sos_df_5min = sos_df_5min.melt(ignore_index=False)"
   ]
  },
  {
   "cell_type": "code",
   "execution_count": null,
   "metadata": {},
   "outputs": [],
   "source": [
    "sos_df_5min.head()"
   ]
  },
  {
   "cell_type": "code",
   "execution_count": null,
   "metadata": {},
   "outputs": [],
   "source": [
    "\n",
    "alt.Chart(\n",
    "    utils.modify_df_timezone(sos_df_5min.reset_index(), 'UTC', 'US/Mountain')\n",
    ").transform_filter(\n",
    "    'month(datum.time) != 10' \n",
    ").mark_line().encode(\n",
    "    alt.X('hoursminutes(time)'),\n",
    "    alt.Y('mean(value)'),\n",
    "    alt.Color('variable'),\n",
    "    alt.Facet('month(time)', columns=3)\n",
    ").properties(width=400)"
   ]
  },
  {
   "cell_type": "code",
   "execution_count": null,
   "metadata": {},
   "outputs": [],
   "source": []
  }
 ],
 "metadata": {
  "kernelspec": {
   "display_name": "sublimationofsnow",
   "language": "python",
   "name": "python3"
  },
  "language_info": {
   "codemirror_mode": {
    "name": "ipython",
    "version": 3
   },
   "file_extension": ".py",
   "mimetype": "text/x-python",
   "name": "python",
   "nbconvert_exporter": "python",
   "pygments_lexer": "ipython3",
   "version": "3.12.5"
  }
 },
 "nbformat": 4,
 "nbformat_minor": 2
}
