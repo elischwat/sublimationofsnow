{
 "cells": [
  {
   "cell_type": "code",
   "execution_count": 2,
   "metadata": {},
   "outputs": [],
   "source": [
    "import os\n",
    "import numpy as np\n",
    "import pandas as pd\n",
    "import xarray as xr\n",
    "import altair as alt\n",
    "alt.data_transformers.disable_max_rows()\n",
    "alt.display.renderers.enable('svg')\n",
    "import matplotlib.pyplot as plt\n",
    "\n",
    "import act\n",
    "import act.discovery, act.io\n",
    "\n",
    "import metpy.calc, metpy.constants\n",
    "from metpy.units import units\n",
    "import glob\n",
    "from tqdm import tqdm\n",
    "from sublimpy import utils"
   ]
  },
  {
   "cell_type": "code",
   "execution_count": 3,
   "metadata": {},
   "outputs": [],
   "source": [
    "data_dir = \"/Users/elischwat/Development/data/sublimationofsnow/\"\n",
    "# for SAIL data queries\n",
    "username = os.getenv(\"ARM_USERNAME\")\n",
    "token = os.getenv(\"ARM_TOKEN\")\n",
    "DATE_FORMAT_STR = '%Y-%m-%d'"
   ]
  },
  {
   "cell_type": "markdown",
   "metadata": {},
   "source": [
    "# Observations"
   ]
  },
  {
   "cell_type": "markdown",
   "metadata": {},
   "source": [
    "## SOS towers"
   ]
  },
  {
   "cell_type": "code",
   "execution_count": 4,
   "metadata": {},
   "outputs": [],
   "source": [
    "sos_fn = '../paper1/process_slow_data/tidy_df_20221101_20230619_planar_fit_multiplane_q7_flags9000_pf10.parquet'\n",
    "sos_df = pd.read_parquet(sos_fn)"
   ]
  },
  {
   "cell_type": "code",
   "execution_count": 5,
   "metadata": {},
   "outputs": [],
   "source": [
    "src = sos_df[sos_df.variable.isin([\n",
    "        'P_10m_c',\n",
    "        'T_3m_c',\n",
    "        'RH_10m_c',\n",
    "        'spd_10m_c',\n",
    "        'tke_10m_c'\n",
    "    ])]\n",
    "src = src.set_index('time').sort_index().loc['20230418']"
   ]
  },
  {
   "cell_type": "code",
   "execution_count": 6,
   "metadata": {},
   "outputs": [
    {
     "data": {
      "image/svg+xml": [
       "<svg xmlns=\"http://www.w3.org/2000/svg\" xmlns:xlink=\"http://www.w3.org/1999/xlink\" version=\"1.1\" class=\"marks\" width=\"504\" height=\"807\" viewBox=\"0 0 504 807\"><rect width=\"504\" height=\"807\" fill=\"white\"/><g fill=\"none\" stroke-miterlimit=\"10\" transform=\"translate(96,11)\"><g class=\"mark-group role-frame root\" role=\"graphics-object\" aria-roledescription=\"group mark container\"><g transform=\"translate(0,0)\"><path class=\"background\" aria-hidden=\"true\" d=\"M0,0h0v0h0Z\"/><g><g class=\"mark-group role-row-title row-title\" role=\"graphics-object\" aria-roledescription=\"group mark container\"><g transform=\"translate(-70,377)\"><path class=\"background\" aria-hidden=\"true\" d=\"M0,0h0v0h0Z\"/><g><g class=\"mark-group role-title\"><g transform=\"translate(-21.000000000000004,0)\"><path class=\"background\" aria-hidden=\"true\" d=\"M0,0h0v0h0Z\" pointer-events=\"none\"/><g><g class=\"mark-text role-title-text\" role=\"graphics-symbol\" aria-roledescription=\"title\" aria-label=\"Title text 'variable'\" pointer-events=\"none\"><text text-anchor=\"middle\" transform=\"translate(0,0) rotate(-90) translate(0,9)\" font-family=\"sans-serif\" font-size=\"11px\" font-weight=\"bold\" fill=\"#000\" opacity=\"1\">variable</text></g></g><path class=\"foreground\" aria-hidden=\"true\" d=\"\" pointer-events=\"none\" display=\"none\"/></g></g></g><path class=\"foreground\" aria-hidden=\"true\" d=\"\" display=\"none\"/></g></g><g class=\"mark-group role-row-header row_header\" role=\"graphics-object\" aria-roledescription=\"group mark container\"><g transform=\"translate(-40,0)\"><path class=\"background\" aria-hidden=\"true\" d=\"M0,0h0v133h0Z\"/><g><g class=\"mark-group role-title\"><g transform=\"translate(-20.000000000000004,66.5)\"><path class=\"background\" aria-hidden=\"true\" d=\"M0,0h0v0h0Z\" pointer-events=\"none\"/><g><g class=\"mark-text role-title-text\" role=\"graphics-symbol\" aria-roledescription=\"title\" aria-label=\"Title text 'P_10m_c'\" pointer-events=\"none\"><text text-anchor=\"middle\" transform=\"translate(0,0) rotate(-90) translate(0,8)\" font-family=\"sans-serif\" font-size=\"10px\" fill=\"#000\" opacity=\"1\">P_10m_c</text></g></g><path class=\"foreground\" aria-hidden=\"true\" d=\"\" pointer-events=\"none\" display=\"none\"/></g></g></g><path class=\"foreground\" aria-hidden=\"true\" d=\"\" display=\"none\"/></g><g transform=\"translate(-40,155)\"><path class=\"background\" aria-hidden=\"true\" d=\"M0,0h0v133h0Z\"/><g><g class=\"mark-group role-title\"><g transform=\"translate(-20.000000000000004,66.5)\"><path class=\"background\" aria-hidden=\"true\" d=\"M0,0h0v0h0Z\" pointer-events=\"none\"/><g><g class=\"mark-text role-title-text\" role=\"graphics-symbol\" aria-roledescription=\"title\" aria-label=\"Title text 'RH_10m_c'\" pointer-events=\"none\"><text text-anchor=\"middle\" transform=\"translate(0,0) rotate(-90) translate(0,8)\" font-family=\"sans-serif\" font-size=\"10px\" fill=\"#000\" opacity=\"1\">RH_10m_c</text></g></g><path class=\"foreground\" aria-hidden=\"true\" d=\"\" pointer-events=\"none\" display=\"none\"/></g></g></g><path class=\"foreground\" aria-hidden=\"true\" d=\"\" display=\"none\"/></g><g transform=\"translate(-40,310)\"><path class=\"background\" aria-hidden=\"true\" d=\"M0,0h0v133h0Z\"/><g><g class=\"mark-group role-title\"><g transform=\"translate(-20.000000000000004,66.5)\"><path class=\"background\" aria-hidden=\"true\" d=\"M0,0h0v0h0Z\" pointer-events=\"none\"/><g><g class=\"mark-text role-title-text\" role=\"graphics-symbol\" aria-roledescription=\"title\" aria-label=\"Title text 'T_3m_c'\" pointer-events=\"none\"><text text-anchor=\"middle\" transform=\"translate(0,0) rotate(-90) translate(0,8)\" font-family=\"sans-serif\" font-size=\"10px\" fill=\"#000\" opacity=\"1\">T_3m_c</text></g></g><path class=\"foreground\" aria-hidden=\"true\" d=\"\" pointer-events=\"none\" display=\"none\"/></g></g></g><path class=\"foreground\" aria-hidden=\"true\" d=\"\" display=\"none\"/></g><g transform=\"translate(-40,465)\"><path class=\"background\" aria-hidden=\"true\" d=\"M0,0h0v133h0Z\"/><g><g class=\"mark-group role-title\"><g transform=\"translate(-20.000000000000004,66.5)\"><path class=\"background\" aria-hidden=\"true\" d=\"M0,0h0v0h0Z\" pointer-events=\"none\"/><g><g class=\"mark-text role-title-text\" role=\"graphics-symbol\" aria-roledescription=\"title\" aria-label=\"Title text 'spd_10m_c'\" pointer-events=\"none\"><text text-anchor=\"middle\" transform=\"translate(0,0) rotate(-90) translate(0,8)\" font-family=\"sans-serif\" font-size=\"10px\" fill=\"#000\" opacity=\"1\">spd_10m_c</text></g></g><path class=\"foreground\" aria-hidden=\"true\" d=\"\" pointer-events=\"none\" display=\"none\"/></g></g></g><path class=\"foreground\" aria-hidden=\"true\" d=\"\" display=\"none\"/></g><g transform=\"translate(-40,620)\"><path class=\"background\" aria-hidden=\"true\" d=\"M0,0h0v133h0Z\"/><g><g class=\"mark-group role-title\"><g transform=\"translate(-20.000000000000004,66.5)\"><path class=\"background\" aria-hidden=\"true\" d=\"M0,0h0v0h0Z\" pointer-events=\"none\"/><g><g class=\"mark-text role-title-text\" role=\"graphics-symbol\" aria-roledescription=\"title\" aria-label=\"Title text 'tke_10m_c'\" pointer-events=\"none\"><text text-anchor=\"middle\" transform=\"translate(0,0) rotate(-90) translate(0,8)\" font-family=\"sans-serif\" font-size=\"10px\" fill=\"#000\" opacity=\"1\">tke_10m_c</text></g></g><path class=\"foreground\" aria-hidden=\"true\" d=\"\" pointer-events=\"none\" display=\"none\"/></g></g></g><path class=\"foreground\" aria-hidden=\"true\" d=\"\" display=\"none\"/></g></g><g class=\"mark-group role-column-footer column_footer\" role=\"graphics-object\" aria-roledescription=\"group mark container\"><g transform=\"translate(0,759)\"><path class=\"background\" aria-hidden=\"true\" d=\"M0,0h400v0h-400Z\"/><g><g class=\"mark-group role-axis\" role=\"graphics-symbol\" aria-roledescription=\"axis\" aria-label=\"X-axis titled 'time' for a time scale with values from Tuesday, 18 April 2023, 12:00:00 AM to Tuesday, 18 April 2023, 11:30:00 PM\"><g transform=\"translate(0.5,0.5)\"><path class=\"background\" aria-hidden=\"true\" d=\"M0,0h0v0h0Z\" pointer-events=\"none\"/><g><g class=\"mark-rule role-axis-tick\" pointer-events=\"none\"><line transform=\"translate(0,0)\" x2=\"0\" y2=\"5\" stroke=\"#888\" stroke-width=\"1\" opacity=\"1\"/><line transform=\"translate(51,0)\" x2=\"0\" y2=\"5\" stroke=\"#888\" stroke-width=\"1\" opacity=\"1\"/><line transform=\"translate(102,0)\" x2=\"0\" y2=\"5\" stroke=\"#888\" stroke-width=\"1\" opacity=\"1\"/><line transform=\"translate(153,0)\" x2=\"0\" y2=\"5\" stroke=\"#888\" stroke-width=\"1\" opacity=\"1\"/><line transform=\"translate(204,0)\" x2=\"0\" y2=\"5\" stroke=\"#888\" stroke-width=\"1\" opacity=\"1\"/><line transform=\"translate(255,0)\" x2=\"0\" y2=\"5\" stroke=\"#888\" stroke-width=\"1\" opacity=\"1\"/><line transform=\"translate(306,0)\" x2=\"0\" y2=\"5\" stroke=\"#888\" stroke-width=\"1\" opacity=\"1\"/><line transform=\"translate(357,0)\" x2=\"0\" y2=\"5\" stroke=\"#888\" stroke-width=\"1\" opacity=\"1\"/></g><g class=\"mark-text role-axis-label\" pointer-events=\"none\"><text text-anchor=\"start\" transform=\"translate(0,15)\" font-family=\"sans-serif\" font-size=\"10px\" fill=\"#000\" opacity=\"1\">Tue 18</text><text text-anchor=\"middle\" transform=\"translate(51.06382978723404,15)\" font-family=\"sans-serif\" font-size=\"10px\" fill=\"#000\" opacity=\"1\">03 AM</text><text text-anchor=\"middle\" transform=\"translate(102.12765957446808,15)\" font-family=\"sans-serif\" font-size=\"10px\" fill=\"#000\" opacity=\"1\">06 AM</text><text text-anchor=\"middle\" transform=\"translate(153.19148936170214,15)\" font-family=\"sans-serif\" font-size=\"10px\" fill=\"#000\" opacity=\"1\">09 AM</text><text text-anchor=\"middle\" transform=\"translate(204.25531914893617,15)\" font-family=\"sans-serif\" font-size=\"10px\" fill=\"#000\" opacity=\"1\">12 PM</text><text text-anchor=\"middle\" transform=\"translate(255.31914893617022,15)\" font-family=\"sans-serif\" font-size=\"10px\" fill=\"#000\" opacity=\"1\">03 PM</text><text text-anchor=\"middle\" transform=\"translate(306.3829787234043,15)\" font-family=\"sans-serif\" font-size=\"10px\" fill=\"#000\" opacity=\"1\">06 PM</text><text text-anchor=\"middle\" transform=\"translate(357.4468085106383,15)\" font-family=\"sans-serif\" font-size=\"10px\" fill=\"#000\" opacity=\"1\">09 PM</text></g><g class=\"mark-rule role-axis-domain\" pointer-events=\"none\"><line transform=\"translate(0,0)\" x2=\"400\" y2=\"0\" stroke=\"#888\" stroke-width=\"1\" opacity=\"1\"/></g><g class=\"mark-text role-axis-title\" pointer-events=\"none\"><text text-anchor=\"middle\" transform=\"translate(200,30)\" font-family=\"sans-serif\" font-size=\"11px\" font-weight=\"bold\" fill=\"#000\" opacity=\"1\">time</text></g></g><path class=\"foreground\" aria-hidden=\"true\" d=\"\" pointer-events=\"none\" display=\"none\"/></g></g></g><path class=\"foreground\" aria-hidden=\"true\" d=\"\" display=\"none\"/></g></g><g class=\"mark-group role-scope cell\" role=\"graphics-object\" aria-roledescription=\"group mark container\"><g transform=\"translate(0,0)\"><path class=\"background\" aria-hidden=\"true\" d=\"M0.5,0.5h400v133h-400Z\" stroke=\"#ddd\"/><g><g class=\"mark-group role-axis\" aria-hidden=\"true\"><g transform=\"translate(0.5,133.5)\"><path class=\"background\" aria-hidden=\"true\" d=\"M0,0h0v0h0Z\" pointer-events=\"none\"/><g><g class=\"mark-rule role-axis-grid\" pointer-events=\"none\"><line transform=\"translate(0,-133)\" x2=\"0\" y2=\"133\" stroke=\"#ddd\" stroke-width=\"1\" opacity=\"1\"/><line transform=\"translate(51,-133)\" x2=\"0\" y2=\"133\" stroke=\"#ddd\" stroke-width=\"1\" opacity=\"1\"/><line transform=\"translate(102,-133)\" x2=\"0\" y2=\"133\" stroke=\"#ddd\" stroke-width=\"1\" opacity=\"1\"/><line transform=\"translate(153,-133)\" x2=\"0\" y2=\"133\" stroke=\"#ddd\" stroke-width=\"1\" opacity=\"1\"/><line transform=\"translate(204,-133)\" x2=\"0\" y2=\"133\" stroke=\"#ddd\" stroke-width=\"1\" opacity=\"1\"/><line transform=\"translate(255,-133)\" x2=\"0\" y2=\"133\" stroke=\"#ddd\" stroke-width=\"1\" opacity=\"1\"/><line transform=\"translate(306,-133)\" x2=\"0\" y2=\"133\" stroke=\"#ddd\" stroke-width=\"1\" opacity=\"1\"/><line transform=\"translate(357,-133)\" x2=\"0\" y2=\"133\" stroke=\"#ddd\" stroke-width=\"1\" opacity=\"1\"/></g></g><path class=\"foreground\" aria-hidden=\"true\" d=\"\" pointer-events=\"none\" display=\"none\"/></g></g><g class=\"mark-group role-axis\" aria-hidden=\"true\"><g transform=\"translate(0.5,0.5)\"><path class=\"background\" aria-hidden=\"true\" d=\"M0,0h0v0h0Z\" pointer-events=\"none\"/><g><g class=\"mark-rule role-axis-grid\" pointer-events=\"none\"><line transform=\"translate(0,123)\" x2=\"400\" y2=\"0\" stroke=\"#ddd\" stroke-width=\"1\" opacity=\"1\"/><line transform=\"translate(0,82)\" x2=\"400\" y2=\"0\" stroke=\"#ddd\" stroke-width=\"1\" opacity=\"1\"/><line transform=\"translate(0,41)\" x2=\"400\" y2=\"0\" stroke=\"#ddd\" stroke-width=\"1\" opacity=\"1\"/><line transform=\"translate(0,0)\" x2=\"400\" y2=\"0\" stroke=\"#ddd\" stroke-width=\"1\" opacity=\"1\"/></g></g><path class=\"foreground\" aria-hidden=\"true\" d=\"\" pointer-events=\"none\" display=\"none\"/></g></g><g class=\"mark-group role-axis\" role=\"graphics-symbol\" aria-roledescription=\"axis\" aria-label=\"Y-axis titled 'value' for a linear scale with values from 710 to 716\"><g transform=\"translate(0.5,0.5)\"><path class=\"background\" aria-hidden=\"true\" d=\"M0,0h0v0h0Z\" pointer-events=\"none\"/><g><g class=\"mark-rule role-axis-tick\" pointer-events=\"none\"><line transform=\"translate(0,123)\" x2=\"-5\" y2=\"0\" stroke=\"#888\" stroke-width=\"1\" opacity=\"1\"/><line transform=\"translate(0,82)\" x2=\"-5\" y2=\"0\" stroke=\"#888\" stroke-width=\"1\" opacity=\"1\"/><line transform=\"translate(0,41)\" x2=\"-5\" y2=\"0\" stroke=\"#888\" stroke-width=\"1\" opacity=\"1\"/><line transform=\"translate(0,0)\" x2=\"-5\" y2=\"0\" stroke=\"#888\" stroke-width=\"1\" opacity=\"1\"/></g><g class=\"mark-text role-axis-label\" pointer-events=\"none\"><text text-anchor=\"end\" transform=\"translate(-7,125.76923076923077)\" font-family=\"sans-serif\" font-size=\"10px\" fill=\"#000\" opacity=\"1\">710</text><text text-anchor=\"end\" transform=\"translate(-7,84.84615384615385)\" font-family=\"sans-serif\" font-size=\"10px\" fill=\"#000\" opacity=\"1\">712</text><text text-anchor=\"end\" transform=\"translate(-7,43.92307692307693)\" font-family=\"sans-serif\" font-size=\"10px\" fill=\"#000\" opacity=\"1\">714</text><text text-anchor=\"end\" transform=\"translate(-7,3)\" font-family=\"sans-serif\" font-size=\"10px\" fill=\"#000\" opacity=\"1\">716</text></g><g class=\"mark-rule role-axis-domain\" pointer-events=\"none\"><line transform=\"translate(0,133)\" x2=\"0\" y2=\"-133\" stroke=\"#888\" stroke-width=\"1\" opacity=\"1\"/></g><g class=\"mark-text role-axis-title\" pointer-events=\"none\"><text text-anchor=\"middle\" transform=\"translate(-27.6845703125,66.5) rotate(-90) translate(0,-2)\" font-family=\"sans-serif\" font-size=\"11px\" font-weight=\"bold\" fill=\"#000\" opacity=\"1\">value</text></g></g><path class=\"foreground\" aria-hidden=\"true\" d=\"\" pointer-events=\"none\" display=\"none\"/></g></g><g class=\"mark-line role-mark child_marks\" role=\"graphics-object\" aria-roledescription=\"line mark container\"><path aria-label=\"time: Apr 18, 2023; value: 715.101745605\" role=\"graphics-symbol\" aria-roledescription=\"line mark\" d=\"M0,18.38L8.511,20.937L17.021,23.354L25.532,26.552L34.043,23.419L42.553,17.65L51.064,8.823L59.574,4.752L68.085,10.482L76.596,14.172L85.106,21.16L93.617,28.458L102.128,32.292L110.638,35.866L119.149,38.38L127.66,42.518L136.17,46.994L144.681,51.254L153.191,55.284L161.702,58.164L170.213,61.524L178.723,63.223L187.234,68.024L195.745,71.406L204.255,72.353L212.766,73.264L221.277,73.902L229.787,70.515L238.298,66.554L246.809,65.542L255.319,65.34L263.83,63.302L272.34,60.95L280.851,64.966L289.362,70.56L297.872,77.816L306.383,88.344L314.894,97.322L323.404,106.051L331.915,109.293L340.426,107.723L348.936,106.029L357.447,113.544L365.957,118.373L374.468,123.13L382.979,126.25L391.489,123.265L400,128.703\" stroke=\"#4c78a8\" stroke-width=\"2\"/></g></g><path class=\"foreground\" aria-hidden=\"true\" d=\"\" display=\"none\"/></g><g transform=\"translate(0,155)\"><path class=\"background\" aria-hidden=\"true\" d=\"M0.5,0.5h400v133h-400Z\" stroke=\"#ddd\"/><g><g class=\"mark-group role-axis\" aria-hidden=\"true\"><g transform=\"translate(0.5,133.5)\"><path class=\"background\" aria-hidden=\"true\" d=\"M0,0h0v0h0Z\" pointer-events=\"none\"/><g><g class=\"mark-rule role-axis-grid\" pointer-events=\"none\"><line transform=\"translate(0,-133)\" x2=\"0\" y2=\"133\" stroke=\"#ddd\" stroke-width=\"1\" opacity=\"1\"/><line transform=\"translate(51,-133)\" x2=\"0\" y2=\"133\" stroke=\"#ddd\" stroke-width=\"1\" opacity=\"1\"/><line transform=\"translate(102,-133)\" x2=\"0\" y2=\"133\" stroke=\"#ddd\" stroke-width=\"1\" opacity=\"1\"/><line transform=\"translate(153,-133)\" x2=\"0\" y2=\"133\" stroke=\"#ddd\" stroke-width=\"1\" opacity=\"1\"/><line transform=\"translate(204,-133)\" x2=\"0\" y2=\"133\" stroke=\"#ddd\" stroke-width=\"1\" opacity=\"1\"/><line transform=\"translate(255,-133)\" x2=\"0\" y2=\"133\" stroke=\"#ddd\" stroke-width=\"1\" opacity=\"1\"/><line transform=\"translate(306,-133)\" x2=\"0\" y2=\"133\" stroke=\"#ddd\" stroke-width=\"1\" opacity=\"1\"/><line transform=\"translate(357,-133)\" x2=\"0\" y2=\"133\" stroke=\"#ddd\" stroke-width=\"1\" opacity=\"1\"/></g></g><path class=\"foreground\" aria-hidden=\"true\" d=\"\" pointer-events=\"none\" display=\"none\"/></g></g><g class=\"mark-group role-axis\" aria-hidden=\"true\"><g transform=\"translate(0.5,0.5)\"><path class=\"background\" aria-hidden=\"true\" d=\"M0,0h0v0h0Z\" pointer-events=\"none\"/><g><g class=\"mark-rule role-axis-grid\" pointer-events=\"none\"><line transform=\"translate(0,116)\" x2=\"400\" y2=\"0\" stroke=\"#ddd\" stroke-width=\"1\" opacity=\"1\"/><line transform=\"translate(0,83)\" x2=\"400\" y2=\"0\" stroke=\"#ddd\" stroke-width=\"1\" opacity=\"1\"/><line transform=\"translate(0,50)\" x2=\"400\" y2=\"0\" stroke=\"#ddd\" stroke-width=\"1\" opacity=\"1\"/><line transform=\"translate(0,17)\" x2=\"400\" y2=\"0\" stroke=\"#ddd\" stroke-width=\"1\" opacity=\"1\"/></g></g><path class=\"foreground\" aria-hidden=\"true\" d=\"\" pointer-events=\"none\" display=\"none\"/></g></g><g class=\"mark-group role-axis\" role=\"graphics-symbol\" aria-roledescription=\"axis\" aria-label=\"Y-axis titled 'value' for a linear scale with values from 15 to 55\"><g transform=\"translate(0.5,0.5)\"><path class=\"background\" aria-hidden=\"true\" d=\"M0,0h0v0h0Z\" pointer-events=\"none\"/><g><g class=\"mark-rule role-axis-tick\" pointer-events=\"none\"><line transform=\"translate(0,116)\" x2=\"-5\" y2=\"0\" stroke=\"#888\" stroke-width=\"1\" opacity=\"1\"/><line transform=\"translate(0,83)\" x2=\"-5\" y2=\"0\" stroke=\"#888\" stroke-width=\"1\" opacity=\"1\"/><line transform=\"translate(0,50)\" x2=\"-5\" y2=\"0\" stroke=\"#888\" stroke-width=\"1\" opacity=\"1\"/><line transform=\"translate(0,17)\" x2=\"-5\" y2=\"0\" stroke=\"#888\" stroke-width=\"1\" opacity=\"1\"/></g><g class=\"mark-text role-axis-label\" pointer-events=\"none\"><text text-anchor=\"end\" transform=\"translate(-7,119.375)\" font-family=\"sans-serif\" font-size=\"10px\" fill=\"#000\" opacity=\"1\">20</text><text text-anchor=\"end\" transform=\"translate(-7,86.125)\" font-family=\"sans-serif\" font-size=\"10px\" fill=\"#000\" opacity=\"1\">30</text><text text-anchor=\"end\" transform=\"translate(-7,52.875)\" font-family=\"sans-serif\" font-size=\"10px\" fill=\"#000\" opacity=\"1\">40</text><text text-anchor=\"end\" transform=\"translate(-7,19.625)\" font-family=\"sans-serif\" font-size=\"10px\" fill=\"#000\" opacity=\"1\">50</text></g><g class=\"mark-rule role-axis-domain\" pointer-events=\"none\"><line transform=\"translate(0,133)\" x2=\"0\" y2=\"-133\" stroke=\"#888\" stroke-width=\"1\" opacity=\"1\"/></g><g class=\"mark-text role-axis-title\" pointer-events=\"none\"><text text-anchor=\"middle\" transform=\"translate(-22.123046875,66.5) rotate(-90) translate(0,-2)\" font-family=\"sans-serif\" font-size=\"11px\" font-weight=\"bold\" fill=\"#000\" opacity=\"1\">value</text></g></g><path class=\"foreground\" aria-hidden=\"true\" d=\"\" pointer-events=\"none\" display=\"none\"/></g></g><g class=\"mark-line role-mark child_marks\" role=\"graphics-object\" aria-roledescription=\"line mark container\"><path aria-label=\"time: Apr 18, 2023; value: 21.7492294312\" role=\"graphics-symbol\" aria-roledescription=\"line mark\" d=\"M0,110.559L8.511,104.264L17.021,100.005L25.532,95.854L34.043,105.594L42.553,99.732L51.064,95.409L59.574,107.555L68.085,101.816L76.596,70.093L85.106,56.202L93.617,17.098L102.128,19.656L110.638,26.603L119.149,23.78L127.66,14.952L136.17,21.058L144.681,11.48L153.191,13.71L161.702,21.41L170.213,20.443L178.723,18.871L187.234,30.674L195.745,27.795L204.255,32.878L212.766,49.82L221.277,61.994L229.787,64.886L238.298,63.453L246.809,73.285L255.319,70.513L263.83,81.956L272.34,87.343L280.851,73.063L289.362,72.166L297.872,72.193L306.383,82.29L314.894,79.642L323.404,93.514L331.915,110.474L340.426,109.514L348.936,99.916L357.447,102.452L365.957,108.507L374.468,110.225L382.979,110.514L391.489,111.169L400,117.276\" stroke=\"#4c78a8\" stroke-width=\"2\"/></g></g><path class=\"foreground\" aria-hidden=\"true\" d=\"\" display=\"none\"/></g><g transform=\"translate(0,310)\"><path class=\"background\" aria-hidden=\"true\" d=\"M0.5,0.5h400v133h-400Z\" stroke=\"#ddd\"/><g><g class=\"mark-group role-axis\" aria-hidden=\"true\"><g transform=\"translate(0.5,133.5)\"><path class=\"background\" aria-hidden=\"true\" d=\"M0,0h0v0h0Z\" pointer-events=\"none\"/><g><g class=\"mark-rule role-axis-grid\" pointer-events=\"none\"><line transform=\"translate(0,-133)\" x2=\"0\" y2=\"133\" stroke=\"#ddd\" stroke-width=\"1\" opacity=\"1\"/><line transform=\"translate(51,-133)\" x2=\"0\" y2=\"133\" stroke=\"#ddd\" stroke-width=\"1\" opacity=\"1\"/><line transform=\"translate(102,-133)\" x2=\"0\" y2=\"133\" stroke=\"#ddd\" stroke-width=\"1\" opacity=\"1\"/><line transform=\"translate(153,-133)\" x2=\"0\" y2=\"133\" stroke=\"#ddd\" stroke-width=\"1\" opacity=\"1\"/><line transform=\"translate(204,-133)\" x2=\"0\" y2=\"133\" stroke=\"#ddd\" stroke-width=\"1\" opacity=\"1\"/><line transform=\"translate(255,-133)\" x2=\"0\" y2=\"133\" stroke=\"#ddd\" stroke-width=\"1\" opacity=\"1\"/><line transform=\"translate(306,-133)\" x2=\"0\" y2=\"133\" stroke=\"#ddd\" stroke-width=\"1\" opacity=\"1\"/><line transform=\"translate(357,-133)\" x2=\"0\" y2=\"133\" stroke=\"#ddd\" stroke-width=\"1\" opacity=\"1\"/></g></g><path class=\"foreground\" aria-hidden=\"true\" d=\"\" pointer-events=\"none\" display=\"none\"/></g></g><g class=\"mark-group role-axis\" aria-hidden=\"true\"><g transform=\"translate(0.5,0.5)\"><path class=\"background\" aria-hidden=\"true\" d=\"M0,0h0v0h0Z\" pointer-events=\"none\"/><g><g class=\"mark-rule role-axis-grid\" pointer-events=\"none\"><line transform=\"translate(0,122)\" x2=\"400\" y2=\"0\" stroke=\"#ddd\" stroke-width=\"1\" opacity=\"1\"/><line transform=\"translate(0,100)\" x2=\"400\" y2=\"0\" stroke=\"#ddd\" stroke-width=\"1\" opacity=\"1\"/><line transform=\"translate(0,78)\" x2=\"400\" y2=\"0\" stroke=\"#ddd\" stroke-width=\"1\" opacity=\"1\"/><line transform=\"translate(0,55)\" x2=\"400\" y2=\"0\" stroke=\"#ddd\" stroke-width=\"1\" opacity=\"1\"/><line transform=\"translate(0,33)\" x2=\"400\" y2=\"0\" stroke=\"#ddd\" stroke-width=\"1\" opacity=\"1\"/><line transform=\"translate(0,11)\" x2=\"400\" y2=\"0\" stroke=\"#ddd\" stroke-width=\"1\" opacity=\"1\"/></g></g><path class=\"foreground\" aria-hidden=\"true\" d=\"\" pointer-events=\"none\" display=\"none\"/></g></g><g class=\"mark-group role-axis\" role=\"graphics-symbol\" aria-roledescription=\"axis\" aria-label=\"Y-axis titled 'value' for a linear scale with values from −3 to 9\"><g transform=\"translate(0.5,0.5)\"><path class=\"background\" aria-hidden=\"true\" d=\"M0,0h0v0h0Z\" pointer-events=\"none\"/><g><g class=\"mark-rule role-axis-tick\" pointer-events=\"none\"><line transform=\"translate(0,122)\" x2=\"-5\" y2=\"0\" stroke=\"#888\" stroke-width=\"1\" opacity=\"1\"/><line transform=\"translate(0,100)\" x2=\"-5\" y2=\"0\" stroke=\"#888\" stroke-width=\"1\" opacity=\"1\"/><line transform=\"translate(0,78)\" x2=\"-5\" y2=\"0\" stroke=\"#888\" stroke-width=\"1\" opacity=\"1\"/><line transform=\"translate(0,55)\" x2=\"-5\" y2=\"0\" stroke=\"#888\" stroke-width=\"1\" opacity=\"1\"/><line transform=\"translate(0,33)\" x2=\"-5\" y2=\"0\" stroke=\"#888\" stroke-width=\"1\" opacity=\"1\"/><line transform=\"translate(0,11)\" x2=\"-5\" y2=\"0\" stroke=\"#888\" stroke-width=\"1\" opacity=\"1\"/></g><g class=\"mark-text role-axis-label\" pointer-events=\"none\"><text text-anchor=\"end\" transform=\"translate(-7,124.91666666666666)\" font-family=\"sans-serif\" font-size=\"10px\" fill=\"#000\" opacity=\"1\">−2</text><text text-anchor=\"end\" transform=\"translate(-7,102.75)\" font-family=\"sans-serif\" font-size=\"10px\" fill=\"#000\" opacity=\"1\">0</text><text text-anchor=\"end\" transform=\"translate(-7,80.58333333333333)\" font-family=\"sans-serif\" font-size=\"10px\" fill=\"#000\" opacity=\"1\">2</text><text text-anchor=\"end\" transform=\"translate(-7,58.416666666666664)\" font-family=\"sans-serif\" font-size=\"10px\" fill=\"#000\" opacity=\"1\">4</text><text text-anchor=\"end\" transform=\"translate(-7,36.25)\" font-family=\"sans-serif\" font-size=\"10px\" fill=\"#000\" opacity=\"1\">6</text><text text-anchor=\"end\" transform=\"translate(-7,14.083333333333337)\" font-family=\"sans-serif\" font-size=\"10px\" fill=\"#000\" opacity=\"1\">8</text></g><g class=\"mark-rule role-axis-domain\" pointer-events=\"none\"><line transform=\"translate(0,133)\" x2=\"0\" y2=\"-133\" stroke=\"#888\" stroke-width=\"1\" opacity=\"1\"/></g><g class=\"mark-text role-axis-title\" pointer-events=\"none\"><text text-anchor=\"middle\" transform=\"translate(-22.4013671875,66.5) rotate(-90) translate(0,-2)\" font-family=\"sans-serif\" font-size=\"11px\" font-weight=\"bold\" fill=\"#000\" opacity=\"1\">value</text></g></g><path class=\"foreground\" aria-hidden=\"true\" d=\"\" pointer-events=\"none\" display=\"none\"/></g></g><g class=\"mark-line role-mark child_marks\" role=\"graphics-object\" aria-roledescription=\"line mark container\"><path aria-label=\"time: Apr 18, 2023; value: 8.63620090485\" role=\"graphics-symbol\" aria-roledescription=\"line mark\" d=\"M0,4.032L8.511,18.062L17.021,29.664L25.532,32.282L34.043,26.417L42.553,38.038L51.064,47.577L59.574,34.783L68.085,47.367L76.596,76.321L85.106,94.204L93.617,122.519L102.128,115.114L110.638,111.151L119.149,117.562L127.66,127.521L136.17,121.698L144.681,122.742L153.191,119.742L161.702,118.204L170.213,121.205L178.723,123.14L187.234,118.546L195.745,119.976L204.255,111.184L212.766,95.69L221.277,64.857L229.787,52.004L238.298,54.009L246.809,48.788L255.319,48.929L263.83,48.997L272.34,50.587L280.851,54.027L289.362,51.496L297.872,54.407L306.383,40.272L314.894,41.249L323.404,30.185L331.915,22.371L340.426,22.048L348.936,28.164L357.447,22.891L365.957,19.533L374.468,20.45L382.979,18.398L391.489,18.893L400,15.806\" stroke=\"#4c78a8\" stroke-width=\"2\"/></g></g><path class=\"foreground\" aria-hidden=\"true\" d=\"\" display=\"none\"/></g><g transform=\"translate(0,465)\"><path class=\"background\" aria-hidden=\"true\" d=\"M0.5,0.5h400v133h-400Z\" stroke=\"#ddd\"/><g><g class=\"mark-group role-axis\" aria-hidden=\"true\"><g transform=\"translate(0.5,133.5)\"><path class=\"background\" aria-hidden=\"true\" d=\"M0,0h0v0h0Z\" pointer-events=\"none\"/><g><g class=\"mark-rule role-axis-grid\" pointer-events=\"none\"><line transform=\"translate(0,-133)\" x2=\"0\" y2=\"133\" stroke=\"#ddd\" stroke-width=\"1\" opacity=\"1\"/><line transform=\"translate(51,-133)\" x2=\"0\" y2=\"133\" stroke=\"#ddd\" stroke-width=\"1\" opacity=\"1\"/><line transform=\"translate(102,-133)\" x2=\"0\" y2=\"133\" stroke=\"#ddd\" stroke-width=\"1\" opacity=\"1\"/><line transform=\"translate(153,-133)\" x2=\"0\" y2=\"133\" stroke=\"#ddd\" stroke-width=\"1\" opacity=\"1\"/><line transform=\"translate(204,-133)\" x2=\"0\" y2=\"133\" stroke=\"#ddd\" stroke-width=\"1\" opacity=\"1\"/><line transform=\"translate(255,-133)\" x2=\"0\" y2=\"133\" stroke=\"#ddd\" stroke-width=\"1\" opacity=\"1\"/><line transform=\"translate(306,-133)\" x2=\"0\" y2=\"133\" stroke=\"#ddd\" stroke-width=\"1\" opacity=\"1\"/><line transform=\"translate(357,-133)\" x2=\"0\" y2=\"133\" stroke=\"#ddd\" stroke-width=\"1\" opacity=\"1\"/></g></g><path class=\"foreground\" aria-hidden=\"true\" d=\"\" pointer-events=\"none\" display=\"none\"/></g></g><g class=\"mark-group role-axis\" aria-hidden=\"true\"><g transform=\"translate(0.5,0.5)\"><path class=\"background\" aria-hidden=\"true\" d=\"M0,0h0v0h0Z\" pointer-events=\"none\"/><g><g class=\"mark-rule role-axis-grid\" pointer-events=\"none\"><line transform=\"translate(0,102)\" x2=\"400\" y2=\"0\" stroke=\"#ddd\" stroke-width=\"1\" opacity=\"1\"/><line transform=\"translate(0,61)\" x2=\"400\" y2=\"0\" stroke=\"#ddd\" stroke-width=\"1\" opacity=\"1\"/><line transform=\"translate(0,20)\" x2=\"400\" y2=\"0\" stroke=\"#ddd\" stroke-width=\"1\" opacity=\"1\"/></g></g><path class=\"foreground\" aria-hidden=\"true\" d=\"\" pointer-events=\"none\" display=\"none\"/></g></g><g class=\"mark-group role-axis\" role=\"graphics-symbol\" aria-roledescription=\"axis\" aria-label=\"Y-axis titled 'value' for a linear scale with values from 1 to 7\"><g transform=\"translate(0.5,0.5)\"><path class=\"background\" aria-hidden=\"true\" d=\"M0,0h0v0h0Z\" pointer-events=\"none\"/><g><g class=\"mark-rule role-axis-tick\" pointer-events=\"none\"><line transform=\"translate(0,102)\" x2=\"-5\" y2=\"0\" stroke=\"#888\" stroke-width=\"1\" opacity=\"1\"/><line transform=\"translate(0,61)\" x2=\"-5\" y2=\"0\" stroke=\"#888\" stroke-width=\"1\" opacity=\"1\"/><line transform=\"translate(0,20)\" x2=\"-5\" y2=\"0\" stroke=\"#888\" stroke-width=\"1\" opacity=\"1\"/></g><g class=\"mark-text role-axis-label\" pointer-events=\"none\"><text text-anchor=\"end\" transform=\"translate(-7,105.30769230769229)\" font-family=\"sans-serif\" font-size=\"10px\" fill=\"#000\" opacity=\"1\">2</text><text text-anchor=\"end\" transform=\"translate(-7,64.38461538461539)\" font-family=\"sans-serif\" font-size=\"10px\" fill=\"#000\" opacity=\"1\">4</text><text text-anchor=\"end\" transform=\"translate(-7,23.461538461538463)\" font-family=\"sans-serif\" font-size=\"10px\" fill=\"#000\" opacity=\"1\">6</text></g><g class=\"mark-rule role-axis-domain\" pointer-events=\"none\"><line transform=\"translate(0,133)\" x2=\"0\" y2=\"-133\" stroke=\"#888\" stroke-width=\"1\" opacity=\"1\"/></g><g class=\"mark-text role-axis-title\" pointer-events=\"none\"><text text-anchor=\"middle\" transform=\"translate(-16.5615234375,66.5) rotate(-90) translate(0,-2)\" font-family=\"sans-serif\" font-size=\"11px\" font-weight=\"bold\" fill=\"#000\" opacity=\"1\">value</text></g></g><path class=\"foreground\" aria-hidden=\"true\" d=\"\" pointer-events=\"none\" display=\"none\"/></g></g><g class=\"mark-line role-mark child_marks\" role=\"graphics-object\" aria-roledescription=\"line mark container\"><path aria-label=\"time: Apr 18, 2023; value: 2.29369902611\" role=\"graphics-symbol\" aria-roledescription=\"line mark\" d=\"M0,96.298L8.511,88.614L17.021,92.485L25.532,94.816L34.043,90.83L42.553,101.778L51.064,92.536L59.574,93.487L68.085,107.678L76.596,109.99L85.106,82.271L93.617,75.019L102.128,115.943L110.638,127.984L119.149,107.674L127.66,103.843L136.17,110.911L144.681,125.634L153.191,111.559L161.702,116.225L170.213,106.443L178.723,117.586L187.234,86.174L195.745,106.003L204.255,82.66L212.766,76.33L221.277,62.17L229.787,50.951L238.298,73.592L246.809,65.788L255.319,76.566L263.83,49.937L272.34,49.167L280.851,45.571L289.362,69.422L297.872,55.322L306.383,73.735L314.894,57.772L323.404,74.154L331.915,50.063L340.426,38.831L348.936,24.494L357.447,27.031L365.957,43.961L374.468,2.044L382.979,20.772L391.489,44.879L400,19.258\" stroke=\"#4c78a8\" stroke-width=\"2\"/></g></g><path class=\"foreground\" aria-hidden=\"true\" d=\"\" display=\"none\"/></g><g transform=\"translate(0,620)\"><path class=\"background\" aria-hidden=\"true\" d=\"M0.5,0.5h400v133h-400Z\" stroke=\"#ddd\"/><g><g class=\"mark-group role-axis\" aria-hidden=\"true\"><g transform=\"translate(0.5,133.5)\"><path class=\"background\" aria-hidden=\"true\" d=\"M0,0h0v0h0Z\" pointer-events=\"none\"/><g><g class=\"mark-rule role-axis-grid\" pointer-events=\"none\"><line transform=\"translate(0,-133)\" x2=\"0\" y2=\"133\" stroke=\"#ddd\" stroke-width=\"1\" opacity=\"1\"/><line transform=\"translate(51,-133)\" x2=\"0\" y2=\"133\" stroke=\"#ddd\" stroke-width=\"1\" opacity=\"1\"/><line transform=\"translate(102,-133)\" x2=\"0\" y2=\"133\" stroke=\"#ddd\" stroke-width=\"1\" opacity=\"1\"/><line transform=\"translate(153,-133)\" x2=\"0\" y2=\"133\" stroke=\"#ddd\" stroke-width=\"1\" opacity=\"1\"/><line transform=\"translate(204,-133)\" x2=\"0\" y2=\"133\" stroke=\"#ddd\" stroke-width=\"1\" opacity=\"1\"/><line transform=\"translate(255,-133)\" x2=\"0\" y2=\"133\" stroke=\"#ddd\" stroke-width=\"1\" opacity=\"1\"/><line transform=\"translate(306,-133)\" x2=\"0\" y2=\"133\" stroke=\"#ddd\" stroke-width=\"1\" opacity=\"1\"/><line transform=\"translate(357,-133)\" x2=\"0\" y2=\"133\" stroke=\"#ddd\" stroke-width=\"1\" opacity=\"1\"/></g></g><path class=\"foreground\" aria-hidden=\"true\" d=\"\" pointer-events=\"none\" display=\"none\"/></g></g><g class=\"mark-group role-axis\" aria-hidden=\"true\"><g transform=\"translate(0.5,0.5)\"><path class=\"background\" aria-hidden=\"true\" d=\"M0,0h0v0h0Z\" pointer-events=\"none\"/><g><g class=\"mark-rule role-axis-grid\" pointer-events=\"none\"><line transform=\"translate(0,133)\" x2=\"400\" y2=\"0\" stroke=\"#ddd\" stroke-width=\"1\" opacity=\"1\"/><line transform=\"translate(0,109)\" x2=\"400\" y2=\"0\" stroke=\"#ddd\" stroke-width=\"1\" opacity=\"1\"/><line transform=\"translate(0,85)\" x2=\"400\" y2=\"0\" stroke=\"#ddd\" stroke-width=\"1\" opacity=\"1\"/><line transform=\"translate(0,62)\" x2=\"400\" y2=\"0\" stroke=\"#ddd\" stroke-width=\"1\" opacity=\"1\"/><line transform=\"translate(0,38)\" x2=\"400\" y2=\"0\" stroke=\"#ddd\" stroke-width=\"1\" opacity=\"1\"/><line transform=\"translate(0,14)\" x2=\"400\" y2=\"0\" stroke=\"#ddd\" stroke-width=\"1\" opacity=\"1\"/></g></g><path class=\"foreground\" aria-hidden=\"true\" d=\"\" pointer-events=\"none\" display=\"none\"/></g></g><g class=\"mark-group role-axis\" role=\"graphics-symbol\" aria-roledescription=\"axis\" aria-label=\"Y-axis titled 'value' for a linear scale with values from 0 to 28\"><g transform=\"translate(0.5,0.5)\"><path class=\"background\" aria-hidden=\"true\" d=\"M0,0h0v0h0Z\" pointer-events=\"none\"/><g><g class=\"mark-rule role-axis-tick\" pointer-events=\"none\"><line transform=\"translate(0,133)\" x2=\"-5\" y2=\"0\" stroke=\"#888\" stroke-width=\"1\" opacity=\"1\"/><line transform=\"translate(0,109)\" x2=\"-5\" y2=\"0\" stroke=\"#888\" stroke-width=\"1\" opacity=\"1\"/><line transform=\"translate(0,85)\" x2=\"-5\" y2=\"0\" stroke=\"#888\" stroke-width=\"1\" opacity=\"1\"/><line transform=\"translate(0,62)\" x2=\"-5\" y2=\"0\" stroke=\"#888\" stroke-width=\"1\" opacity=\"1\"/><line transform=\"translate(0,38)\" x2=\"-5\" y2=\"0\" stroke=\"#888\" stroke-width=\"1\" opacity=\"1\"/><line transform=\"translate(0,14)\" x2=\"-5\" y2=\"0\" stroke=\"#888\" stroke-width=\"1\" opacity=\"1\"/></g><g class=\"mark-text role-axis-label\" pointer-events=\"none\"><text text-anchor=\"end\" transform=\"translate(-7,136)\" font-family=\"sans-serif\" font-size=\"10px\" fill=\"#000\" opacity=\"1\">0</text><text text-anchor=\"end\" transform=\"translate(-7,112.25)\" font-family=\"sans-serif\" font-size=\"10px\" fill=\"#000\" opacity=\"1\">5</text><text text-anchor=\"end\" transform=\"translate(-7,88.49999999999999)\" font-family=\"sans-serif\" font-size=\"10px\" fill=\"#000\" opacity=\"1\">10</text><text text-anchor=\"end\" transform=\"translate(-7,64.75)\" font-family=\"sans-serif\" font-size=\"10px\" fill=\"#000\" opacity=\"1\">15</text><text text-anchor=\"end\" transform=\"translate(-7,41)\" font-family=\"sans-serif\" font-size=\"10px\" fill=\"#000\" opacity=\"1\">20</text><text text-anchor=\"end\" transform=\"translate(-7,17.249999999999993)\" font-family=\"sans-serif\" font-size=\"10px\" fill=\"#000\" opacity=\"1\">25</text></g><g class=\"mark-rule role-axis-domain\" pointer-events=\"none\"><line transform=\"translate(0,133)\" x2=\"0\" y2=\"-133\" stroke=\"#888\" stroke-width=\"1\" opacity=\"1\"/></g><g class=\"mark-text role-axis-title\" pointer-events=\"none\"><text text-anchor=\"middle\" transform=\"translate(-22.123046875,66.5) rotate(-90) translate(0,-2)\" font-family=\"sans-serif\" font-size=\"11px\" font-weight=\"bold\" fill=\"#000\" opacity=\"1\">value</text></g></g><path class=\"foreground\" aria-hidden=\"true\" d=\"\" pointer-events=\"none\" display=\"none\"/></g></g><g class=\"mark-line role-mark child_marks\" role=\"graphics-object\" aria-roledescription=\"line mark container\"><path aria-label=\"time: Apr 18, 2023; value: 2.84432503359\" role=\"graphics-symbol\" aria-roledescription=\"line mark\" d=\"M0,119.489L8.511,123.895L17.021,117.454L25.532,118.335L34.043,122.854L42.553,123.708L51.064,125.301L59.574,120.81L68.085,125.391L76.596,125.103L85.106,131.4L93.617,131.848L102.128,131.223L110.638,131.4L119.149,131.853L127.66,132.068L136.17,131.752L144.681,130.882L153.191,128.082L161.702,129.344L170.213,127.007L178.723,128.903L187.234,124.523L195.745,123.24L204.255,116.078L212.766,107.948L221.277,106.407L229.787,89.124L238.298,121.324L246.809,99.021L255.319,101.757L263.83,76.106L272.34,76.36L280.851,112.171L289.362,116.928L297.872,121.67L306.383,101.173L314.894,109.699L323.404,108.838L331.915,92.047L340.426,62.127L348.936,52.867L357.447,60.826L365.957,70.074L374.468,6.83L382.979,72.744L391.489,62.529L400,26.734\" stroke=\"#4c78a8\" stroke-width=\"2\"/></g></g><path class=\"foreground\" aria-hidden=\"true\" d=\"\" display=\"none\"/></g></g></g><path class=\"foreground\" aria-hidden=\"true\" d=\"\" display=\"none\"/></g></g></g></svg>"
      ],
      "text/plain": [
       "alt.Chart(...)"
      ]
     },
     "execution_count": 6,
     "metadata": {},
     "output_type": "execute_result"
    }
   ],
   "source": [
    "alt.Chart(\n",
    "    src.reset_index()\n",
    ").mark_line().encode(\n",
    "    alt.X('time:T'),\n",
    "    alt.Y('value:Q').scale(zero=False),\n",
    "    alt.Row('variable:N'),\n",
    ").resolve_scale(y='independent').properties(width=400, height = 133)"
   ]
  },
  {
   "cell_type": "code",
   "execution_count": 7,
   "metadata": {},
   "outputs": [
    {
     "data": {
      "text/plain": [
       "array(['counts_1m_c', 'counts_1m_c_1', 'counts_1m_c_2', 'counts_2m_c',\n",
       "       'counts_2m_c_1', 'counts_2m_c_2', 'counts_3m_c', 'counts_3m_c_1',\n",
       "       'counts_3m_c_2', 'counts_5m_c', 'counts_5m_c_1', 'counts_5m_c_2',\n",
       "       'counts_10m_c', 'counts_10m_c_1', 'counts_10m_c_2', 'counts_15m_c',\n",
       "       'counts_15m_c_1', 'counts_15m_c_2', 'counts_20m_c',\n",
       "       'counts_20m_c_1', 'counts_20m_c_2', 'counts_1m_uw',\n",
       "       'counts_1m_uw_1', 'counts_1m_uw_2', 'counts_3m_uw',\n",
       "       'counts_3m_uw_1', 'counts_3m_uw_2', 'counts_10m_uw',\n",
       "       'counts_10m_uw_1', 'counts_10m_uw_2', 'counts_1m_ue',\n",
       "       'counts_1m_ue_1', 'counts_1m_ue_2', 'counts_3m_ue',\n",
       "       'counts_3m_ue_1', 'counts_3m_ue_2', 'counts_10m_ue',\n",
       "       'counts_10m_ue_1', 'counts_10m_ue_2', 'counts_1m_d',\n",
       "       'counts_1m_d_1', 'counts_1m_d_2', 'counts_3m_d', 'counts_3m_d_1',\n",
       "       'counts_3m_d_2', 'counts_10m_d', 'counts_10m_d_1',\n",
       "       'counts_10m_d_2', 'irgadiag_1m_c', 'ldiag_1m_c', 'irgadiag_2m_c',\n",
       "       'ldiag_2m_c', 'irgadiag_3m_c', 'ldiag_3m_c', 'irgadiag_5m_c',\n",
       "       'ldiag_5m_c', 'irgadiag_10m_c', 'ldiag_10m_c', 'irgadiag_15m_c',\n",
       "       'ldiag_15m_c', 'irgadiag_20m_c', 'ldiag_20m_c', 'irgadiag_1m_uw',\n",
       "       'ldiag_1m_uw', 'irgadiag_3m_uw', 'ldiag_3m_uw', 'irgadiag_10m_uw',\n",
       "       'ldiag_10m_uw', 'irgadiag_1m_ue', 'ldiag_1m_ue', 'irgadiag_3m_ue',\n",
       "       'ldiag_3m_ue', 'irgadiag_10m_ue', 'ldiag_10m_ue', 'irgadiag_1m_d',\n",
       "       'ldiag_1m_d', 'irgadiag_3m_d', 'ldiag_3m_d', 'irgadiag_10m_d',\n",
       "       'ldiag_10m_d', 'dir_1m_uw', 'dir_3m_uw', 'dir_10m_uw', 'dir_1m_ue',\n",
       "       'dir_3m_ue', 'dir_10m_ue', 'dir_1m_d', 'dir_3m_d', 'dir_10m_d',\n",
       "       'dir_1m_c', 'dir_2m_c', 'dir_3m_c', 'dir_5m_c', 'dir_10m_c',\n",
       "       'dir_15m_c', 'dir_20m_c', 'co2_1m_uw', 'h2o_1m_uw', 'tc_1m_uw',\n",
       "       'spd_1m_uw', 'u_1m_uw', 'v_1m_uw', 'w_1m_uw', 'co2_3m_uw',\n",
       "       'h2o_3m_uw', 'tc_3m_uw', 'spd_3m_uw', 'u_3m_uw', 'v_3m_uw',\n",
       "       'w_3m_uw', 'co2_10m_uw', 'h2o_10m_uw', 'tc_10m_uw', 'spd_10m_uw',\n",
       "       'u_10m_uw', 'v_10m_uw', 'w_10m_uw', 'co2_1m_ue', 'h2o_1m_ue',\n",
       "       'tc_1m_ue', 'spd_1m_ue', 'u_1m_ue', 'v_1m_ue', 'w_1m_ue',\n",
       "       'co2_3m_ue', 'h2o_3m_ue', 'tc_3m_ue', 'spd_3m_ue', 'u_3m_ue',\n",
       "       'v_3m_ue', 'w_3m_ue', 'co2_10m_ue', 'h2o_10m_ue', 'tc_10m_ue',\n",
       "       'spd_10m_ue', 'u_10m_ue', 'v_10m_ue', 'w_10m_ue', 'co2_1m_d',\n",
       "       'h2o_1m_d', 'tc_1m_d', 'spd_1m_d', 'u_1m_d', 'v_1m_d', 'w_1m_d',\n",
       "       'co2_3m_d', 'h2o_3m_d', 'tc_3m_d', 'spd_3m_d', 'u_3m_d', 'v_3m_d',\n",
       "       'w_3m_d', 'co2_10m_d', 'h2o_10m_d', 'tc_10m_d', 'spd_10m_d',\n",
       "       'u_10m_d', 'v_10m_d', 'w_10m_d', 'co2_1m_c', 'h2o_1m_c', 'tc_1m_c',\n",
       "       'spd_1m_c', 'u_1m_c', 'v_1m_c', 'w_1m_c', 'co2_2m_c', 'h2o_2m_c',\n",
       "       'tc_2m_c', 'spd_2m_c', 'u_2m_c', 'v_2m_c', 'w_2m_c', 'co2_3m_c',\n",
       "       'h2o_3m_c', 'tc_3m_c', 'spd_3m_c', 'u_3m_c', 'v_3m_c', 'w_3m_c',\n",
       "       'co2_5m_c', 'h2o_5m_c', 'tc_5m_c', 'spd_5m_c', 'u_5m_c', 'v_5m_c',\n",
       "       'w_5m_c', 'co2_10m_c', 'h2o_10m_c', 'tc_10m_c', 'spd_10m_c',\n",
       "       'u_10m_c', 'v_10m_c', 'w_10m_c', 'co2_15m_c', 'h2o_15m_c',\n",
       "       'tc_15m_c', 'spd_15m_c', 'u_15m_c', 'v_15m_c', 'w_15m_c',\n",
       "       'co2_20m_c', 'h2o_20m_c', 'tc_20m_c', 'spd_20m_c', 'u_20m_c',\n",
       "       'v_20m_c', 'w_20m_c', 'T_1m_c', 'T_2m_c', 'T_3m_c', 'T_4m_c',\n",
       "       'T_5m_c', 'T_6m_c', 'T_7m_c', 'T_8m_c', 'T_9m_c', 'T_10m_c',\n",
       "       'T_11m_c', 'T_12m_c', 'T_13m_c', 'T_14m_c', 'T_15m_c', 'T_16m_c',\n",
       "       'T_17m_c', 'T_18m_c', 'T_19m_c', 'T_20m_c', 'RH_1m_c', 'RH_2m_c',\n",
       "       'RH_3m_c', 'RH_4m_c', 'RH_5m_c', 'RH_6m_c', 'RH_7m_c', 'RH_8m_c',\n",
       "       'RH_9m_c', 'RH_10m_c', 'RH_11m_c', 'RH_12m_c', 'RH_13m_c',\n",
       "       'RH_14m_c', 'RH_15m_c', 'RH_16m_c', 'RH_17m_c', 'RH_18m_c',\n",
       "       'RH_19m_c', 'RH_20m_c', 'P_20m_c', 'P_10m_c', 'P_10m_d',\n",
       "       'P_10m_uw', 'P_10m_ue', 'SF_avg_1m_ue', 'SF_avg_2m_ue', 'Vtherm_c',\n",
       "       'Vtherm_d', 'Vtherm_ue', 'Vtherm_uw', 'Vpile_c', 'Vpile_d',\n",
       "       'Vpile_ue', 'Vpile_uw', 'IDir_c', 'IDir_d', 'IDir_ue', 'IDir_uw',\n",
       "       'Tsnow_0_4m_d', 'Tsnow_0_5m_d', 'Tsnow_0_6m_d', 'Tsnow_0_7m_d',\n",
       "       'Tsnow_0_8m_d', 'Tsnow_0_9m_d', 'Tsnow_1_0m_d', 'Tsnow_1_1m_d',\n",
       "       'Tsnow_1_2m_d', 'Tsnow_1_3m_d', 'Tsnow_1_4m_d', 'Tsnow_1_5m_d',\n",
       "       'Tsnow_0_4m_uw', 'Tsnow_0_5m_uw', 'Tsnow_0_6m_uw', 'Tsnow_0_7m_uw',\n",
       "       'Tsnow_0_8m_uw', 'Tsnow_0_9m_uw', 'Tsnow_1_0m_uw', 'Tsnow_1_1m_uw',\n",
       "       'Tsnow_1_2m_uw', 'Tsnow_1_3m_uw', 'Tsnow_1_4m_uw', 'Tsnow_1_5m_uw',\n",
       "       'Rpile_out_9m_d', 'Tcase_out_9m_d', 'Rpile_in_9m_d',\n",
       "       'Tcase_in_9m_d', 'Tcase_uw', 'Rpile_in_uw', 'Rpile_out_uw',\n",
       "       'Rsw_in_9m_d', 'Rsw_out_9m_d', 'SWE_p1_c', 'SWE_p2_c', 'SWE_p3_c',\n",
       "       'SWE_p4_c', 'Qsoil_d', 'Gsoil_d', 'u_u__1m_uw', 'v_v__1m_uw',\n",
       "       'w_w__1m_uw', 'u_w__1m_uw', 'u_v__1m_uw', 'v_w__1m_uw',\n",
       "       'u_tc__1m_uw', 'v_tc__1m_uw', 'u_co2__1m_uw', 'u_h2o__1m_uw',\n",
       "       'v_co2__1m_uw', 'v_h2o__1m_uw', 'w_tc__1m_uw', 'w_co2__1m_uw',\n",
       "       'w_h2o__1m_uw', 'u_u__2m_uw', 'v_v__2m_uw', 'w_w__2m_uw',\n",
       "       'u_w__2m_uw', 'u_v__2m_uw', 'v_w__2m_uw', 'u_tc__2m_uw',\n",
       "       'v_tc__2m_uw', 'u_co2__2m_uw', 'u_h2o__2m_uw', 'v_co2__2m_uw',\n",
       "       'v_h2o__2m_uw', 'w_tc__2m_uw', 'w_co2__2m_uw', 'w_h2o__2m_uw',\n",
       "       'u_u__2_5m_uw', 'v_v__2_5m_uw', 'w_w__2_5m_uw', 'u_w__2_5m_uw',\n",
       "       'u_v__2_5m_uw', 'v_w__2_5m_uw', 'u_tc__2_5m_uw', 'v_tc__2_5m_uw',\n",
       "       'u_co2__2_5m_uw', 'u_h2o__2_5m_uw', 'v_h2o__2_5m_uw',\n",
       "       'w_tc__2_5m_uw', 'w_co2__2_5m_uw', 'w_h2o__2_5m_uw', 'u_u__3m_uw',\n",
       "       'v_v__3m_uw', 'w_w__3m_uw', 'u_w__3m_uw', 'u_v__3m_uw',\n",
       "       'v_w__3m_uw', 'u_tc__3m_uw', 'v_tc__3m_uw', 'u_co2__3m_uw',\n",
       "       'u_h2o__3m_uw', 'v_co2__3m_uw', 'v_h2o__3m_uw', 'w_tc__3m_uw',\n",
       "       'w_co2__3m_uw', 'w_h2o__3m_uw', 'u_u__10m_uw', 'v_v__10m_uw',\n",
       "       'w_w__10m_uw', 'u_w__10m_uw', 'u_v__10m_uw', 'v_w__10m_uw',\n",
       "       'u_tc__10m_uw', 'v_tc__10m_uw', 'u_co2__10m_uw', 'u_h2o__10m_uw',\n",
       "       'v_co2__10m_uw', 'v_h2o__10m_uw', 'w_tc__10m_uw', 'w_co2__10m_uw',\n",
       "       'w_h2o__10m_uw', 'u_u__1m_ue', 'v_v__1m_ue', 'w_w__1m_ue',\n",
       "       'u_w__1m_ue', 'u_v__1m_ue', 'v_w__1m_ue', 'u_tc__1m_ue',\n",
       "       'v_tc__1m_ue', 'u_co2__1m_ue', 'u_h2o__1m_ue', 'v_co2__1m_ue',\n",
       "       'v_h2o__1m_ue', 'w_tc__1m_ue', 'w_co2__1m_ue', 'w_h2o__1m_ue',\n",
       "       'u_u__2m_ue', 'v_v__2m_ue', 'w_w__2m_ue', 'u_w__2m_ue',\n",
       "       'u_v__2m_ue', 'v_w__2m_ue', 'u_tc__2m_ue', 'v_tc__2m_ue',\n",
       "       'u_co2__2m_ue', 'u_h2o__2m_ue', 'v_co2__2m_ue', 'v_h2o__2m_ue',\n",
       "       'w_tc__2m_ue', 'w_co2__2m_ue', 'w_h2o__2m_ue', 'u_u__3m_ue',\n",
       "       'v_v__3m_ue', 'w_w__3m_ue', 'u_w__3m_ue', 'u_v__3m_ue',\n",
       "       'v_w__3m_ue', 'u_tc__3m_ue', 'v_tc__3m_ue', 'u_co2__3m_ue',\n",
       "       'u_h2o__3m_ue', 'v_co2__3m_ue', 'v_h2o__3m_ue', 'w_tc__3m_ue',\n",
       "       'w_co2__3m_ue', 'w_h2o__3m_ue', 'u_u__10m_ue', 'v_v__10m_ue',\n",
       "       'w_w__10m_ue', 'u_w__10m_ue', 'u_v__10m_ue', 'v_w__10m_ue',\n",
       "       'u_tc__10m_ue', 'v_tc__10m_ue', 'u_co2__10m_ue', 'u_h2o__10m_ue',\n",
       "       'v_co2__10m_ue', 'v_h2o__10m_ue', 'w_tc__10m_ue', 'w_co2__10m_ue',\n",
       "       'w_h2o__10m_ue', 'u_u__1m_d', 'v_v__1m_d', 'w_w__1m_d',\n",
       "       'u_w__1m_d', 'u_v__1m_d', 'v_w__1m_d', 'u_tc__1m_d', 'v_tc__1m_d',\n",
       "       'u_co2__1m_d', 'u_h2o__1m_d', 'v_co2__1m_d', 'v_h2o__1m_d',\n",
       "       'w_tc__1m_d', 'w_co2__1m_d', 'w_h2o__1m_d', 'u_u__2m_d',\n",
       "       'v_v__2m_d', 'w_w__2m_d', 'u_w__2m_d', 'u_v__2m_d', 'v_w__2m_d',\n",
       "       'u_tc__2m_d', 'v_tc__2m_d', 'u_co2__2m_d', 'u_h2o__2m_d',\n",
       "       'v_co2__2m_d', 'v_h2o__2m_d', 'w_tc__2m_d', 'w_co2__2m_d',\n",
       "       'w_h2o__2m_d', 'u_u__3m_d', 'v_v__3m_d', 'w_w__3m_d', 'u_w__3m_d',\n",
       "       'u_v__3m_d', 'v_w__3m_d', 'u_tc__3m_d', 'v_tc__3m_d',\n",
       "       'u_co2__3m_d', 'u_h2o__3m_d', 'v_co2__3m_d', 'v_h2o__3m_d',\n",
       "       'w_tc__3m_d', 'w_co2__3m_d', 'w_h2o__3m_d', 'u_u__10m_d',\n",
       "       'v_v__10m_d', 'w_w__10m_d', 'u_w__10m_d', 'u_v__10m_d',\n",
       "       'v_w__10m_d', 'u_tc__10m_d', 'v_tc__10m_d', 'u_co2__10m_d',\n",
       "       'u_h2o__10m_d', 'v_co2__10m_d', 'v_h2o__10m_d', 'w_tc__10m_d',\n",
       "       'w_co2__10m_d', 'w_h2o__10m_d', 'u_u__1m_c', 'v_v__1m_c',\n",
       "       'w_w__1m_c', 'u_w__1m_c', 'u_v__1m_c', 'v_w__1m_c', 'u_tc__1m_c',\n",
       "       'v_tc__1m_c', 'u_co2__1m_c', 'u_h2o__1m_c', 'v_co2__1m_c',\n",
       "       'v_h2o__1m_c', 'w_tc__1m_c', 'w_co2__1m_c', 'w_h2o__1m_c',\n",
       "       'u_u__2m_c', 'v_v__2m_c', 'w_w__2m_c', 'u_w__2m_c', 'u_v__2m_c',\n",
       "       'v_w__2m_c', 'u_tc__2m_c', 'v_tc__2m_c', 'u_co2__2m_c',\n",
       "       'u_h2o__2m_c', 'v_co2__2m_c', 'v_h2o__2m_c', 'w_tc__2m_c',\n",
       "       'w_co2__2m_c', 'w_h2o__2m_c', 'u_u__3m_c', 'v_v__3m_c',\n",
       "       'w_w__3m_c', 'u_w__3m_c', 'u_v__3m_c', 'v_w__3m_c', 'u_tc__3m_c',\n",
       "       'v_tc__3m_c', 'u_co2__3m_c', 'u_h2o__3m_c', 'v_co2__3m_c',\n",
       "       'v_h2o__3m_c', 'w_tc__3m_c', 'w_co2__3m_c', 'w_h2o__3m_c',\n",
       "       'u_u__5m_c', 'v_v__5m_c', 'w_w__5m_c', 'u_w__5m_c', 'u_v__5m_c',\n",
       "       'v_w__5m_c', 'u_tc__5m_c', 'v_tc__5m_c', 'u_co2__5m_c',\n",
       "       'u_h2o__5m_c', 'v_co2__5m_c', 'v_h2o__5m_c', 'w_tc__5m_c',\n",
       "       'w_co2__5m_c', 'w_h2o__5m_c', 'u_u__10m_c', 'v_v__10m_c',\n",
       "       'w_w__10m_c', 'u_w__10m_c', 'u_v__10m_c', 'v_w__10m_c',\n",
       "       'u_tc__10m_c', 'v_tc__10m_c', 'u_co2__10m_c', 'u_h2o__10m_c',\n",
       "       'v_co2__10m_c', 'v_h2o__10m_c', 'w_tc__10m_c', 'w_co2__10m_c',\n",
       "       'w_h2o__10m_c', 'u_u__15m_c', 'v_v__15m_c', 'w_w__15m_c',\n",
       "       'u_w__15m_c', 'u_v__15m_c', 'v_w__15m_c', 'u_tc__15m_c',\n",
       "       'v_tc__15m_c', 'u_co2__15m_c', 'u_h2o__15m_c', 'v_co2__15m_c',\n",
       "       'v_h2o__15m_c', 'w_tc__15m_c', 'w_co2__15m_c', 'w_h2o__15m_c',\n",
       "       'u_u__20m_c', 'v_v__20m_c', 'w_w__20m_c', 'u_w__20m_c',\n",
       "       'u_v__20m_c', 'v_w__20m_c', 'u_tc__20m_c', 'v_tc__20m_c',\n",
       "       'u_co2__20m_c', 'u_h2o__20m_c', 'v_co2__20m_c', 'v_h2o__20m_c',\n",
       "       'w_tc__20m_c', 'w_co2__20m_c', 'w_h2o__20m_c', 'w_h2o__3m_ue_raw',\n",
       "       'w_h2o__10m_ue_raw', 'w_h2o__3m_d_raw', 'w_h2o__10m_d_raw',\n",
       "       'w_h2o__3m_uw_raw', 'w_h2o__10m_uw_raw', 'w_h2o__2m_c_raw',\n",
       "       'w_h2o__3m_c_raw', 'w_h2o__5m_c_raw', 'w_h2o__10m_c_raw',\n",
       "       'w_h2o__15m_c_raw', 'w_h2o__20m_c_raw', 'SnowDepth_c',\n",
       "       'SnowDepth_d', 'Rlw_in_9m_d', 'Rlw_out_9m_d', 'Rlw_in_9m_uw',\n",
       "       'Rlw_out_9m_uw', 'Tsurf_c', 'Tsurf_d', 'Tsurf_ue', 'Tsurf_uw',\n",
       "       'Tpot_1m_c', 'Tvirtual_1m_c', 'Tpotvirtual_1m_c',\n",
       "       'airdensity_1m_c', 'dryairdensity_1m_c', 'mixingratio_1m_c',\n",
       "       'vaporpressure_1m_c', 'Tpot_2m_c', 'Tvirtual_2m_c',\n",
       "       'Tpotvirtual_2m_c', 'airdensity_2m_c', 'dryairdensity_2m_c',\n",
       "       'mixingratio_2m_c', 'vaporpressure_2m_c', 'Tpot_3m_c',\n",
       "       'Tvirtual_3m_c', 'Tpotvirtual_3m_c', 'airdensity_3m_c',\n",
       "       'dryairdensity_3m_c', 'mixingratio_3m_c', 'vaporpressure_3m_c',\n",
       "       'Tpot_4m_c', 'Tvirtual_4m_c', 'Tpotvirtual_4m_c',\n",
       "       'airdensity_4m_c', 'dryairdensity_4m_c', 'mixingratio_4m_c',\n",
       "       'vaporpressure_4m_c', 'Tpot_5m_c', 'Tvirtual_5m_c',\n",
       "       'Tpotvirtual_5m_c', 'airdensity_5m_c', 'dryairdensity_5m_c',\n",
       "       'mixingratio_5m_c', 'vaporpressure_5m_c', 'Tpot_6m_c',\n",
       "       'Tvirtual_6m_c', 'Tpotvirtual_6m_c', 'airdensity_6m_c',\n",
       "       'dryairdensity_6m_c', 'mixingratio_6m_c', 'vaporpressure_6m_c',\n",
       "       'Tpot_7m_c', 'Tvirtual_7m_c', 'Tpotvirtual_7m_c',\n",
       "       'airdensity_7m_c', 'dryairdensity_7m_c', 'mixingratio_7m_c',\n",
       "       'vaporpressure_7m_c', 'Tpot_8m_c', 'Tvirtual_8m_c',\n",
       "       'Tpotvirtual_8m_c', 'airdensity_8m_c', 'dryairdensity_8m_c',\n",
       "       'mixingratio_8m_c', 'vaporpressure_8m_c', 'Tpot_9m_c',\n",
       "       'Tvirtual_9m_c', 'Tpotvirtual_9m_c', 'airdensity_9m_c',\n",
       "       'dryairdensity_9m_c', 'mixingratio_9m_c', 'vaporpressure_9m_c',\n",
       "       'Tpot_10m_c', 'Tvirtual_10m_c', 'Tpotvirtual_10m_c',\n",
       "       'airdensity_10m_c', 'dryairdensity_10m_c', 'mixingratio_10m_c',\n",
       "       'vaporpressure_10m_c', 'Tpot_11m_c', 'Tvirtual_11m_c',\n",
       "       'Tpotvirtual_11m_c', 'airdensity_11m_c', 'dryairdensity_11m_c',\n",
       "       'mixingratio_11m_c', 'vaporpressure_11m_c', 'Tpot_12m_c',\n",
       "       'Tvirtual_12m_c', 'Tpotvirtual_12m_c', 'airdensity_12m_c',\n",
       "       'dryairdensity_12m_c', 'mixingratio_12m_c', 'vaporpressure_12m_c',\n",
       "       'Tpot_13m_c', 'Tvirtual_13m_c', 'Tpotvirtual_13m_c',\n",
       "       'airdensity_13m_c', 'dryairdensity_13m_c', 'mixingratio_13m_c',\n",
       "       'vaporpressure_13m_c', 'Tpot_14m_c', 'Tvirtual_14m_c',\n",
       "       'Tpotvirtual_14m_c', 'airdensity_14m_c', 'dryairdensity_14m_c',\n",
       "       'mixingratio_14m_c', 'vaporpressure_14m_c', 'Tpot_15m_c',\n",
       "       'Tvirtual_15m_c', 'Tpotvirtual_15m_c', 'airdensity_15m_c',\n",
       "       'dryairdensity_15m_c', 'mixingratio_15m_c', 'vaporpressure_15m_c',\n",
       "       'Tpot_16m_c', 'Tvirtual_16m_c', 'Tpotvirtual_16m_c',\n",
       "       'airdensity_16m_c', 'dryairdensity_16m_c', 'mixingratio_16m_c',\n",
       "       'vaporpressure_16m_c', 'Tpot_17m_c', 'Tvirtual_17m_c',\n",
       "       'Tpotvirtual_17m_c', 'airdensity_17m_c', 'dryairdensity_17m_c',\n",
       "       'mixingratio_17m_c', 'vaporpressure_17m_c', 'Tpot_18m_c',\n",
       "       'Tvirtual_18m_c', 'Tpotvirtual_18m_c', 'airdensity_18m_c',\n",
       "       'dryairdensity_18m_c', 'mixingratio_18m_c', 'vaporpressure_18m_c',\n",
       "       'Tpot_19m_c', 'Tvirtual_19m_c', 'Tpotvirtual_19m_c',\n",
       "       'airdensity_19m_c', 'dryairdensity_19m_c', 'mixingratio_19m_c',\n",
       "       'vaporpressure_19m_c', 'Tpot_20m_c', 'Tvirtual_20m_c',\n",
       "       'Tpotvirtual_20m_c', 'airdensity_20m_c', 'dryairdensity_20m_c',\n",
       "       'mixingratio_20m_c', 'vaporpressure_20m_c', 'Tsurfvirtual_c',\n",
       "       'Tsurfpotvirtual_c', 'Tsurfairdensity_c', 'Tsurfdryairdensity_c',\n",
       "       'Tsurfmixingratio_c', 'Tsurfvaporpressure_c', 'Tsurfpot_c',\n",
       "       'tke_2m_c', 'tke_3m_c', 'tke_5m_c', 'tke_10m_c', 'tke_15m_c',\n",
       "       'tke_20m_c', 'tke_1m_uw', 'tke_3m_uw', 'tke_10m_uw', 'tke_1m_ue',\n",
       "       'tke_3m_ue', 'tke_10m_ue', 'tke_1m_d', 'tke_3m_d', 'tke_10m_d',\n",
       "       'wind_gradient_2m_c', 'wind_gradient_3m_c', 'wind_gradient_5m_c',\n",
       "       'wind_gradient_10m_c', 'wind_gradient_15m_c',\n",
       "       'wind_gradient_20m_c', 'temp_gradient_2m_c', 'temp_gradient_3m_c',\n",
       "       'temp_gradient_5m_c', 'temp_gradient_10m_c', 'temp_gradient_15m_c',\n",
       "       'temp_gradient_20m_c', 'Ri_2m_c', 'Ri_3m_c', 'Ri_5m_c', 'Ri_10m_c',\n",
       "       'Ri_15m_c', 'Ri_20m_c', 'RiB_2m_c', 'RiB_3m_c', 'RiB_5m_c',\n",
       "       'RiB_10m_c', 'RiB_15m_c', 'RiB_20m_c', 'u*_1m_d', 'u*_3m_d',\n",
       "       'u*_10m_d', 'u*_1m_ue', 'u*_3m_ue', 'u*_10m_ue', 'u*_1m_uw',\n",
       "       'u*_3m_uw', 'u*_10m_uw', 'u*_2m_c', 'L_2m_c', 'u*_3m_c', 'L_3m_c',\n",
       "       'u*_5m_c', 'L_5m_c', 'u*_10m_c', 'L_10m_c', 'u*_15m_c', 'L_15m_c',\n",
       "       'u*_20m_c', 'L_20m_c', 'omega_3m_c', 'Rlw_net_9m_d',\n",
       "       'Rsw_net_9m_d', 'Rlw_net_9m_uw', 'Rnet_9m_d',\n",
       "       'Tsurfspecifichumidity_c', 'specifichumidity_1m_c',\n",
       "       'specifichumidity_2m_c', 'specifichumidity_3m_c',\n",
       "       'specifichumidity_4m_c', 'specifichumidity_5m_c',\n",
       "       'specifichumidity_6m_c', 'specifichumidity_7m_c',\n",
       "       'specifichumidity_8m_c', 'specifichumidity_9m_c',\n",
       "       'specifichumidity_10m_c', 'specifichumidity_11m_c',\n",
       "       'specifichumidity_12m_c', 'specifichumidity_13m_c',\n",
       "       'specifichumidity_14m_c', 'specifichumidity_15m_c',\n",
       "       'specifichumidity_16m_c', 'specifichumidity_17m_c',\n",
       "       'specifichumidity_18m_c', 'specifichumidity_19m_c',\n",
       "       'specifichumidity_20m_c', 'w_h2o__2m_c_gapfill',\n",
       "       'w_h2o__3m_c_gapfill', 'w_h2o__5m_c_gapfill',\n",
       "       'w_h2o__10m_c_gapfill', 'w_h2o__15m_c_gapfill',\n",
       "       'w_h2o__20m_c_gapfill', 'w_h2o__3m_ue_gapfill',\n",
       "       'w_h2o__10m_ue_gapfill', 'w_h2o__3m_uw_gapfill',\n",
       "       'w_h2o__10m_uw_gapfill', 'w_h2o__3m_d_gapfill',\n",
       "       'w_h2o__10m_d_gapfill'], dtype=object)"
      ]
     },
     "execution_count": 7,
     "metadata": {},
     "output_type": "execute_result"
    }
   ],
   "source": [
    "sos_df.variable.unique()"
   ]
  },
  {
   "cell_type": "code",
   "execution_count": 8,
   "metadata": {},
   "outputs": [
    {
     "data": {
      "image/svg+xml": [
       "<svg xmlns=\"http://www.w3.org/2000/svg\" xmlns:xlink=\"http://www.w3.org/1999/xlink\" version=\"1.1\" class=\"marks\" width=\"738\" height=\"708\" viewBox=\"0 0 738 708\"><rect width=\"738\" height=\"708\" fill=\"white\"/><g fill=\"none\" stroke-miterlimit=\"10\" transform=\"translate(40,11)\"><g class=\"mark-group role-frame root\" role=\"graphics-object\" aria-roledescription=\"group mark container\"><g transform=\"translate(0,0)\"><path class=\"background\" aria-hidden=\"true\" d=\"M0,0h600v0h-600Z\"/><g><g class=\"mark-group role-scope concat_0_group\" role=\"graphics-object\" aria-roledescription=\"group mark container\"><g transform=\"translate(0,0)\"><path class=\"background\" aria-hidden=\"true\" d=\"M0.5,0.5h600v300h-600Z\" stroke=\"#ddd\"/><g><g class=\"mark-group role-axis\" aria-hidden=\"true\"><g transform=\"translate(0.5,300.5)\"><path class=\"background\" aria-hidden=\"true\" d=\"M0,0h0v0h0Z\" pointer-events=\"none\"/><g><g class=\"mark-rule role-axis-grid\" pointer-events=\"none\"><line transform=\"translate(0,-300)\" x2=\"0\" y2=\"300\" stroke=\"#ddd\" stroke-width=\"1\" opacity=\"1\"/><line transform=\"translate(26,-300)\" x2=\"0\" y2=\"300\" stroke=\"#ddd\" stroke-width=\"1\" opacity=\"1\"/><line transform=\"translate(51,-300)\" x2=\"0\" y2=\"300\" stroke=\"#ddd\" stroke-width=\"1\" opacity=\"1\"/><line transform=\"translate(77,-300)\" x2=\"0\" y2=\"300\" stroke=\"#ddd\" stroke-width=\"1\" opacity=\"1\"/><line transform=\"translate(102,-300)\" x2=\"0\" y2=\"300\" stroke=\"#ddd\" stroke-width=\"1\" opacity=\"1\"/><line transform=\"translate(128,-300)\" x2=\"0\" y2=\"300\" stroke=\"#ddd\" stroke-width=\"1\" opacity=\"1\"/><line transform=\"translate(153,-300)\" x2=\"0\" y2=\"300\" stroke=\"#ddd\" stroke-width=\"1\" opacity=\"1\"/><line transform=\"translate(179,-300)\" x2=\"0\" y2=\"300\" stroke=\"#ddd\" stroke-width=\"1\" opacity=\"1\"/><line transform=\"translate(204,-300)\" x2=\"0\" y2=\"300\" stroke=\"#ddd\" stroke-width=\"1\" opacity=\"1\"/><line transform=\"translate(230,-300)\" x2=\"0\" y2=\"300\" stroke=\"#ddd\" stroke-width=\"1\" opacity=\"1\"/><line transform=\"translate(255,-300)\" x2=\"0\" y2=\"300\" stroke=\"#ddd\" stroke-width=\"1\" opacity=\"1\"/><line transform=\"translate(281,-300)\" x2=\"0\" y2=\"300\" stroke=\"#ddd\" stroke-width=\"1\" opacity=\"1\"/><line transform=\"translate(306,-300)\" x2=\"0\" y2=\"300\" stroke=\"#ddd\" stroke-width=\"1\" opacity=\"1\"/><line transform=\"translate(332,-300)\" x2=\"0\" y2=\"300\" stroke=\"#ddd\" stroke-width=\"1\" opacity=\"1\"/><line transform=\"translate(357,-300)\" x2=\"0\" y2=\"300\" stroke=\"#ddd\" stroke-width=\"1\" opacity=\"1\"/><line transform=\"translate(383,-300)\" x2=\"0\" y2=\"300\" stroke=\"#ddd\" stroke-width=\"1\" opacity=\"1\"/><line transform=\"translate(409,-300)\" x2=\"0\" y2=\"300\" stroke=\"#ddd\" stroke-width=\"1\" opacity=\"1\"/><line transform=\"translate(434,-300)\" x2=\"0\" y2=\"300\" stroke=\"#ddd\" stroke-width=\"1\" opacity=\"1\"/><line transform=\"translate(460,-300)\" x2=\"0\" y2=\"300\" stroke=\"#ddd\" stroke-width=\"1\" opacity=\"1\"/><line transform=\"translate(485,-300)\" x2=\"0\" y2=\"300\" stroke=\"#ddd\" stroke-width=\"1\" opacity=\"1\"/><line transform=\"translate(511,-300)\" x2=\"0\" y2=\"300\" stroke=\"#ddd\" stroke-width=\"1\" opacity=\"1\"/><line transform=\"translate(536,-300)\" x2=\"0\" y2=\"300\" stroke=\"#ddd\" stroke-width=\"1\" opacity=\"1\"/><line transform=\"translate(562,-300)\" x2=\"0\" y2=\"300\" stroke=\"#ddd\" stroke-width=\"1\" opacity=\"1\"/><line transform=\"translate(587,-300)\" x2=\"0\" y2=\"300\" stroke=\"#ddd\" stroke-width=\"1\" opacity=\"1\"/></g></g><path class=\"foreground\" aria-hidden=\"true\" d=\"\" pointer-events=\"none\" display=\"none\"/></g></g><g class=\"mark-group role-axis\" aria-hidden=\"true\"><g transform=\"translate(0.5,0.5)\"><path class=\"background\" aria-hidden=\"true\" d=\"M0,0h0v0h0Z\" pointer-events=\"none\"/><g><g class=\"mark-rule role-axis-grid\" pointer-events=\"none\"><line transform=\"translate(0,300)\" x2=\"600\" y2=\"0\" stroke=\"#ddd\" stroke-width=\"1\" opacity=\"1\"/><line transform=\"translate(0,250)\" x2=\"600\" y2=\"0\" stroke=\"#ddd\" stroke-width=\"1\" opacity=\"1\"/><line transform=\"translate(0,200)\" x2=\"600\" y2=\"0\" stroke=\"#ddd\" stroke-width=\"1\" opacity=\"1\"/><line transform=\"translate(0,150)\" x2=\"600\" y2=\"0\" stroke=\"#ddd\" stroke-width=\"1\" opacity=\"1\"/><line transform=\"translate(0,100)\" x2=\"600\" y2=\"0\" stroke=\"#ddd\" stroke-width=\"1\" opacity=\"1\"/><line transform=\"translate(0,50)\" x2=\"600\" y2=\"0\" stroke=\"#ddd\" stroke-width=\"1\" opacity=\"1\"/><line transform=\"translate(0,0)\" x2=\"600\" y2=\"0\" stroke=\"#ddd\" stroke-width=\"1\" opacity=\"1\"/></g></g><path class=\"foreground\" aria-hidden=\"true\" d=\"\" pointer-events=\"none\" display=\"none\"/></g></g><g class=\"mark-group role-axis\" role=\"graphics-symbol\" aria-roledescription=\"axis\" aria-label=\"X-axis titled 'time' for a time scale with values from Saturday, 15 April 2023, 12:00:00 AM to Saturday, 15 April 2023, 11:30:00 PM\"><g transform=\"translate(0.5,300.5)\"><path class=\"background\" aria-hidden=\"true\" d=\"M0,0h0v0h0Z\" pointer-events=\"none\"/><g><g class=\"mark-rule role-axis-tick\" pointer-events=\"none\"><line transform=\"translate(0,0)\" x2=\"0\" y2=\"5\" stroke=\"#888\" stroke-width=\"1\" opacity=\"1\"/><line transform=\"translate(26,0)\" x2=\"0\" y2=\"5\" stroke=\"#888\" stroke-width=\"1\" opacity=\"1\"/><line transform=\"translate(51,0)\" x2=\"0\" y2=\"5\" stroke=\"#888\" stroke-width=\"1\" opacity=\"1\"/><line transform=\"translate(77,0)\" x2=\"0\" y2=\"5\" stroke=\"#888\" stroke-width=\"1\" opacity=\"1\"/><line transform=\"translate(102,0)\" x2=\"0\" y2=\"5\" stroke=\"#888\" stroke-width=\"1\" opacity=\"1\"/><line transform=\"translate(128,0)\" x2=\"0\" y2=\"5\" stroke=\"#888\" stroke-width=\"1\" opacity=\"1\"/><line transform=\"translate(153,0)\" x2=\"0\" y2=\"5\" stroke=\"#888\" stroke-width=\"1\" opacity=\"1\"/><line transform=\"translate(179,0)\" x2=\"0\" y2=\"5\" stroke=\"#888\" stroke-width=\"1\" opacity=\"1\"/><line transform=\"translate(204,0)\" x2=\"0\" y2=\"5\" stroke=\"#888\" stroke-width=\"1\" opacity=\"1\"/><line transform=\"translate(230,0)\" x2=\"0\" y2=\"5\" stroke=\"#888\" stroke-width=\"1\" opacity=\"1\"/><line transform=\"translate(255,0)\" x2=\"0\" y2=\"5\" stroke=\"#888\" stroke-width=\"1\" opacity=\"1\"/><line transform=\"translate(281,0)\" x2=\"0\" y2=\"5\" stroke=\"#888\" stroke-width=\"1\" opacity=\"1\"/><line transform=\"translate(306,0)\" x2=\"0\" y2=\"5\" stroke=\"#888\" stroke-width=\"1\" opacity=\"1\"/><line transform=\"translate(332,0)\" x2=\"0\" y2=\"5\" stroke=\"#888\" stroke-width=\"1\" opacity=\"1\"/><line transform=\"translate(357,0)\" x2=\"0\" y2=\"5\" stroke=\"#888\" stroke-width=\"1\" opacity=\"1\"/><line transform=\"translate(383,0)\" x2=\"0\" y2=\"5\" stroke=\"#888\" stroke-width=\"1\" opacity=\"1\"/><line transform=\"translate(409,0)\" x2=\"0\" y2=\"5\" stroke=\"#888\" stroke-width=\"1\" opacity=\"1\"/><line transform=\"translate(434,0)\" x2=\"0\" y2=\"5\" stroke=\"#888\" stroke-width=\"1\" opacity=\"1\"/><line transform=\"translate(460,0)\" x2=\"0\" y2=\"5\" stroke=\"#888\" stroke-width=\"1\" opacity=\"1\"/><line transform=\"translate(485,0)\" x2=\"0\" y2=\"5\" stroke=\"#888\" stroke-width=\"1\" opacity=\"1\"/><line transform=\"translate(511,0)\" x2=\"0\" y2=\"5\" stroke=\"#888\" stroke-width=\"1\" opacity=\"1\"/><line transform=\"translate(536,0)\" x2=\"0\" y2=\"5\" stroke=\"#888\" stroke-width=\"1\" opacity=\"1\"/><line transform=\"translate(562,0)\" x2=\"0\" y2=\"5\" stroke=\"#888\" stroke-width=\"1\" opacity=\"1\"/><line transform=\"translate(587,0)\" x2=\"0\" y2=\"5\" stroke=\"#888\" stroke-width=\"1\" opacity=\"1\"/></g><g class=\"mark-text role-axis-label\" pointer-events=\"none\"><text text-anchor=\"start\" transform=\"translate(0,15)\" font-family=\"sans-serif\" font-size=\"10px\" fill=\"#000\" opacity=\"1\">Sat 15</text><text text-anchor=\"middle\" transform=\"translate(25.53191489361702,15)\" font-family=\"sans-serif\" font-size=\"10px\" fill=\"#000\" opacity=\"0\">01 AM</text><text text-anchor=\"middle\" transform=\"translate(51.06382978723404,15)\" font-family=\"sans-serif\" font-size=\"10px\" fill=\"#000\" opacity=\"1\">02 AM</text><text text-anchor=\"middle\" transform=\"translate(76.59574468085106,15)\" font-family=\"sans-serif\" font-size=\"10px\" fill=\"#000\" opacity=\"0\">03 AM</text><text text-anchor=\"middle\" transform=\"translate(102.12765957446808,15)\" font-family=\"sans-serif\" font-size=\"10px\" fill=\"#000\" opacity=\"1\">04 AM</text><text text-anchor=\"middle\" transform=\"translate(127.65957446808511,15)\" font-family=\"sans-serif\" font-size=\"10px\" fill=\"#000\" opacity=\"0\">05 AM</text><text text-anchor=\"middle\" transform=\"translate(153.1914893617021,15)\" font-family=\"sans-serif\" font-size=\"10px\" fill=\"#000\" opacity=\"1\">06 AM</text><text text-anchor=\"middle\" transform=\"translate(178.72340425531914,15)\" font-family=\"sans-serif\" font-size=\"10px\" fill=\"#000\" opacity=\"0\">07 AM</text><text text-anchor=\"middle\" transform=\"translate(204.25531914893617,15)\" font-family=\"sans-serif\" font-size=\"10px\" fill=\"#000\" opacity=\"1\">08 AM</text><text text-anchor=\"middle\" transform=\"translate(229.7872340425532,15)\" font-family=\"sans-serif\" font-size=\"10px\" fill=\"#000\" opacity=\"0\">09 AM</text><text text-anchor=\"middle\" transform=\"translate(255.31914893617022,15)\" font-family=\"sans-serif\" font-size=\"10px\" fill=\"#000\" opacity=\"1\">10 AM</text><text text-anchor=\"middle\" transform=\"translate(280.8510638297872,15)\" font-family=\"sans-serif\" font-size=\"10px\" fill=\"#000\" opacity=\"0\">11 AM</text><text text-anchor=\"middle\" transform=\"translate(306.3829787234042,15)\" font-family=\"sans-serif\" font-size=\"10px\" fill=\"#000\" opacity=\"1\">12 PM</text><text text-anchor=\"middle\" transform=\"translate(331.9148936170213,15)\" font-family=\"sans-serif\" font-size=\"10px\" fill=\"#000\" opacity=\"0\">01 PM</text><text text-anchor=\"middle\" transform=\"translate(357.4468085106383,15)\" font-family=\"sans-serif\" font-size=\"10px\" fill=\"#000\" opacity=\"1\">02 PM</text><text text-anchor=\"middle\" transform=\"translate(382.97872340425533,15)\" font-family=\"sans-serif\" font-size=\"10px\" fill=\"#000\" opacity=\"0\">03 PM</text><text text-anchor=\"middle\" transform=\"translate(408.51063829787233,15)\" font-family=\"sans-serif\" font-size=\"10px\" fill=\"#000\" opacity=\"1\">04 PM</text><text text-anchor=\"middle\" transform=\"translate(434.0425531914894,15)\" font-family=\"sans-serif\" font-size=\"10px\" fill=\"#000\" opacity=\"0\">05 PM</text><text text-anchor=\"middle\" transform=\"translate(459.5744680851064,15)\" font-family=\"sans-serif\" font-size=\"10px\" fill=\"#000\" opacity=\"1\">06 PM</text><text text-anchor=\"middle\" transform=\"translate(485.1063829787234,15)\" font-family=\"sans-serif\" font-size=\"10px\" fill=\"#000\" opacity=\"0\">07 PM</text><text text-anchor=\"middle\" transform=\"translate(510.63829787234044,15)\" font-family=\"sans-serif\" font-size=\"10px\" fill=\"#000\" opacity=\"1\">08 PM</text><text text-anchor=\"middle\" transform=\"translate(536.1702127659574,15)\" font-family=\"sans-serif\" font-size=\"10px\" fill=\"#000\" opacity=\"0\">09 PM</text><text text-anchor=\"middle\" transform=\"translate(561.7021276595744,15)\" font-family=\"sans-serif\" font-size=\"10px\" fill=\"#000\" opacity=\"1\">10 PM</text><text text-anchor=\"middle\" transform=\"translate(587.2340425531914,15)\" font-family=\"sans-serif\" font-size=\"10px\" fill=\"#000\" opacity=\"0\">11 PM</text></g><g class=\"mark-rule role-axis-domain\" pointer-events=\"none\"><line transform=\"translate(0,0)\" x2=\"600\" y2=\"0\" stroke=\"#888\" stroke-width=\"1\" opacity=\"1\"/></g><g class=\"mark-text role-axis-title\" pointer-events=\"none\"><text text-anchor=\"middle\" transform=\"translate(300,30)\" font-family=\"sans-serif\" font-size=\"11px\" font-weight=\"bold\" fill=\"#000\" opacity=\"1\">time</text></g></g><path class=\"foreground\" aria-hidden=\"true\" d=\"\" pointer-events=\"none\" display=\"none\"/></g></g><g class=\"mark-group role-axis\" role=\"graphics-symbol\" aria-roledescription=\"axis\" aria-label=\"Y-axis titled 'value' for a linear scale with values from 0 to 6\"><g transform=\"translate(0.5,0.5)\"><path class=\"background\" aria-hidden=\"true\" d=\"M0,0h0v0h0Z\" pointer-events=\"none\"/><g><g class=\"mark-rule role-axis-tick\" pointer-events=\"none\"><line transform=\"translate(0,300)\" x2=\"-5\" y2=\"0\" stroke=\"#888\" stroke-width=\"1\" opacity=\"1\"/><line transform=\"translate(0,250)\" x2=\"-5\" y2=\"0\" stroke=\"#888\" stroke-width=\"1\" opacity=\"1\"/><line transform=\"translate(0,200)\" x2=\"-5\" y2=\"0\" stroke=\"#888\" stroke-width=\"1\" opacity=\"1\"/><line transform=\"translate(0,150)\" x2=\"-5\" y2=\"0\" stroke=\"#888\" stroke-width=\"1\" opacity=\"1\"/><line transform=\"translate(0,100)\" x2=\"-5\" y2=\"0\" stroke=\"#888\" stroke-width=\"1\" opacity=\"1\"/><line transform=\"translate(0,50)\" x2=\"-5\" y2=\"0\" stroke=\"#888\" stroke-width=\"1\" opacity=\"1\"/><line transform=\"translate(0,0)\" x2=\"-5\" y2=\"0\" stroke=\"#888\" stroke-width=\"1\" opacity=\"1\"/></g><g class=\"mark-text role-axis-label\" pointer-events=\"none\"><text text-anchor=\"end\" transform=\"translate(-7,303)\" font-family=\"sans-serif\" font-size=\"10px\" fill=\"#000\" opacity=\"1\">0</text><text text-anchor=\"end\" transform=\"translate(-7,253)\" font-family=\"sans-serif\" font-size=\"10px\" fill=\"#000\" opacity=\"1\">1</text><text text-anchor=\"end\" transform=\"translate(-7,203.00000000000003)\" font-family=\"sans-serif\" font-size=\"10px\" fill=\"#000\" opacity=\"1\">2</text><text text-anchor=\"end\" transform=\"translate(-7,153)\" font-family=\"sans-serif\" font-size=\"10px\" fill=\"#000\" opacity=\"1\">3</text><text text-anchor=\"end\" transform=\"translate(-7,103.00000000000001)\" font-family=\"sans-serif\" font-size=\"10px\" fill=\"#000\" opacity=\"1\">4</text><text text-anchor=\"end\" transform=\"translate(-7,52.999999999999986)\" font-family=\"sans-serif\" font-size=\"10px\" fill=\"#000\" opacity=\"1\">5</text><text text-anchor=\"end\" transform=\"translate(-7,3)\" font-family=\"sans-serif\" font-size=\"10px\" fill=\"#000\" opacity=\"1\">6</text></g><g class=\"mark-rule role-axis-domain\" pointer-events=\"none\"><line transform=\"translate(0,300)\" x2=\"0\" y2=\"-300\" stroke=\"#888\" stroke-width=\"1\" opacity=\"1\"/></g><g class=\"mark-text role-axis-title\" pointer-events=\"none\"><text text-anchor=\"middle\" transform=\"translate(-16.5615234375,150) rotate(-90) translate(0,-2)\" font-family=\"sans-serif\" font-size=\"11px\" font-weight=\"bold\" fill=\"#000\" opacity=\"1\">value</text></g></g><path class=\"foreground\" aria-hidden=\"true\" d=\"\" pointer-events=\"none\" display=\"none\"/></g></g><g class=\"mark-group role-scope concat_0_layer_0_pathgroup\" role=\"graphics-object\" aria-roledescription=\"group mark container\"><g transform=\"translate(0,0)\"><path class=\"background\" aria-hidden=\"true\" d=\"M0,0h600v300h-600Z\"/><g><g class=\"mark-line role-mark concat_0_layer_0_marks\" role=\"graphics-object\" aria-roledescription=\"line mark container\"><path aria-label=\"time: Apr 15, 2023; value: 0.226814496271; height: 10; measurement: w_w_\" role=\"graphics-symbol\" aria-roledescription=\"line mark\" d=\"M0,288.659L12.766,289.587L25.532,290.563L38.298,290.024L51.064,282.734L63.83,289.537L76.596,282.63L89.362,288.96L102.128,289.944L114.894,294.149L127.66,289.028L140.426,291.646L153.191,296.151L165.957,294.913L178.723,296.277L191.489,296.109L204.255,293.257L217.021,293.026L229.787,291.731L242.553,291.144L255.319,289.542L268.085,290.205L280.851,290.664L293.617,293.2L306.383,290.973L319.149,291.636L331.915,290.709L344.681,288.532L357.447,290.228L370.213,288.687L382.979,290.226L395.745,291.285L408.511,292.806L421.277,281.087L434.043,273.925L446.809,280.304L459.574,280.383L472.34,280.245L485.106,292.354L497.872,298.137L510.638,299.038L523.404,298.031L536.17,296.659L548.936,297.093L561.702,296.909L574.468,297.58L587.234,298.044L600,298.91\" stroke=\"rgb(33, 145, 141)\" stroke-width=\"2\" stroke-dasharray=\"2,1\"/></g></g><path class=\"foreground\" aria-hidden=\"true\" d=\"\" display=\"none\"/></g><g transform=\"translate(0,0)\"><path class=\"background\" aria-hidden=\"true\" d=\"M0,0h600v300h-600Z\"/><g><g class=\"mark-line role-mark concat_0_layer_0_marks\" role=\"graphics-object\" aria-roledescription=\"line mark container\"><path aria-label=\"time: Apr 15, 2023; value: 2.65200532447; height: 20; measurement: u_u_\" role=\"graphics-symbol\" aria-roledescription=\"line mark\" d=\"M0,167.4L12.766,147.705L25.532,154.782L38.298,222.098L51.064,177.182L63.83,212.041L76.596,173.161L89.362,237.224L102.128,260.587L114.894,269.04L127.66,237.866L140.426,256.642L153.191,255.363L165.957,261.121L178.723,271.642L191.489,285.671L204.255,271.848L217.021,254.713L229.787,245.047L242.553,211.531L255.319,229.303L268.085,229.289L280.851,232.597L293.617,260.694L306.383,247.632L319.149,254.274L331.915,247.668L344.681,213.681L357.447,242.325L370.213,214.325L382.979,215.381L395.745,244.399L408.511,246.985L421.277,203.754L434.043,201.319L446.809,203.185L459.574,183.796L472.34,243.913L485.106,207.677L497.872,284.78L510.638,294.649L523.404,244.144L536.17,244.202L548.936,273.092L561.702,223.876L574.468,252.067L587.234,226.12L600,269.061\" stroke=\"rgb(93, 201, 99)\" stroke-width=\"2\" stroke-dasharray=\"1,0\"/></g></g><path class=\"foreground\" aria-hidden=\"true\" d=\"\" display=\"none\"/></g><g transform=\"translate(0,0)\"><path class=\"background\" aria-hidden=\"true\" d=\"M0,0h600v300h-600Z\"/><g><g class=\"mark-line role-mark concat_0_layer_0_marks\" role=\"graphics-object\" aria-roledescription=\"line mark container\"><path aria-label=\"time: Apr 15, 2023; value: 0.0790495705708; height: 3; measurement: w_w_\" role=\"graphics-symbol\" aria-roledescription=\"line mark\" d=\"M0,296.048L12.766,296.698L25.532,296.461L38.298,296.709L51.064,294.842L63.83,296.96L76.596,291.263L89.362,295.024L102.128,294.025L114.894,297.141L127.66,295.382L140.426,296.642L153.191,298.352L165.957,298.063L178.723,298.339L191.489,298.31L204.255,297.238L217.021,296.56L229.787,295.979L242.553,295.967L255.319,295.147L268.085,295.846L280.851,295.735L293.617,295.158L306.383,294.351L319.149,294.495L331.915,293.908L344.681,292.539L357.447,294.028L370.213,294.466L382.979,295.128L395.745,295.377L408.511,296.359L421.277,294.359L434.043,291.067L446.809,292.594L459.574,291.988L472.34,294.502L485.106,298.007L497.872,299.384L510.638,299.309L523.404,299.34L536.17,298.956L548.936,299.298L561.702,298.937L574.468,299.205L587.234,299.447L600,299.47\" stroke=\"rgb(59, 82, 139)\" stroke-width=\"2\" stroke-dasharray=\"2,1\"/></g></g><path class=\"foreground\" aria-hidden=\"true\" d=\"\" display=\"none\"/></g><g transform=\"translate(0,0)\"><path class=\"background\" aria-hidden=\"true\" d=\"M0,0h600v300h-600Z\"/><g><g class=\"mark-line role-mark concat_0_layer_0_marks\" role=\"graphics-object\" aria-roledescription=\"line mark container\"><path aria-label=\"time: Apr 15, 2023; value: 5.06385741394; height: 10; measurement: v_v_\" role=\"graphics-symbol\" aria-roledescription=\"line mark\" d=\"M0,46.807L12.766,200.71L25.532,66.456L38.298,224.289L51.064,206.137L63.83,151.171L76.596,85.433L89.362,44.865L102.128,60.28L114.894,213.441L127.66,197.692L140.426,250.289L153.191,276.643L165.957,275.352L178.723,279.964L191.489,283.585L204.255,241.783L217.021,213.303L229.787,230.36L242.553,239.657L255.319,231.354L268.085,235.349L280.851,233.147L293.617,251.811L306.383,247.854L319.149,262.552L331.915,234.896L344.681,232.698L357.447,245.223L370.213,169.956L382.979,145.032L395.745,222.444L408.511,253.117L421.277,149.224L434.043,218.355L446.809,259.314L459.574,258.18L472.34,231.188L485.106,229.326L497.872,274.864L510.638,290.654L523.404,268.691L536.17,262.715L548.936,285.514L561.702,287.774L574.468,276.604L587.234,262.862L600,284.684\" stroke=\"rgb(33, 145, 141)\" stroke-width=\"2\" stroke-dasharray=\"4,2\"/></g></g><path class=\"foreground\" aria-hidden=\"true\" d=\"\" display=\"none\"/></g><g transform=\"translate(0,0)\"><path class=\"background\" aria-hidden=\"true\" d=\"M0,0h600v300h-600Z\"/><g><g class=\"mark-line role-mark concat_0_layer_0_marks\" role=\"graphics-object\" aria-roledescription=\"line mark container\"><path aria-label=\"time: Apr 15, 2023; value: 4.49034298358; height: 3; measurement: v_v_\" role=\"graphics-symbol\" aria-roledescription=\"line mark\" d=\"M0,75.483L12.766,212.412L25.532,107.432L38.298,233.09L51.064,218.763L63.83,182.432L76.596,127.317L89.362,95.012L102.128,112.214L114.894,227.42L127.66,217.063L140.426,266.811L153.191,284.128L165.957,279.441L178.723,282.879L191.489,285.901L204.255,253.025L217.021,235.684L229.787,242.34L242.553,256.649L255.319,243.974L268.085,244.719L280.851,244.691L293.617,258.094L306.383,254.813L319.149,265.247L331.915,239.246L344.681,240L357.447,253.009L370.213,187.689L382.979,184.349L395.745,230.062L408.511,257.445L421.277,180.516L434.043,225.925L446.809,256.843L459.574,261.368L472.34,245.822L485.106,239.895L497.872,278.894L510.638,286.109L523.404,284.529L536.17,277.719L548.936,292.308L561.702,287.646L574.468,280.38L587.234,260.665L600,276.965\" stroke=\"rgb(59, 82, 139)\" stroke-width=\"2\" stroke-dasharray=\"4,2\"/></g></g><path class=\"foreground\" aria-hidden=\"true\" d=\"\" display=\"none\"/></g><g transform=\"translate(0,0)\"><path class=\"background\" aria-hidden=\"true\" d=\"M0,0h600v300h-600Z\"/><g><g class=\"mark-line role-mark concat_0_layer_0_marks\" role=\"graphics-object\" aria-roledescription=\"line mark container\"><path aria-label=\"time: Apr 15, 2023; value: 2.28557706694; height: 3; measurement: u_u_\" role=\"graphics-symbol\" aria-roledescription=\"line mark\" d=\"M0,185.721L12.766,186.671L25.532,146.711L38.298,215.026L51.064,187.536L63.83,218.938L76.596,192.555L89.362,253.014L102.128,261.826L114.894,271.288L127.66,246.019L140.426,259.408L153.191,266.909L165.957,272.818L178.723,271.889L191.489,286.345L204.255,271.841L217.021,260.474L229.787,250.395L242.553,217.059L255.319,250.216L268.085,228.885L280.851,236.159L293.617,260.883L306.383,244.854L319.149,252.352L331.915,251.83L344.681,211.227L357.447,245.019L370.213,230.718L382.979,222.81L395.745,245.625L408.511,248.072L421.277,188.713L434.043,207.351L446.809,229.23L459.574,207.022L472.34,254.163L485.106,225.218L497.872,282.773L510.638,292.036L523.404,271.263L536.17,260.78L548.936,286.475L561.702,249.92L574.468,275.822L587.234,245.221L600,275.966\" stroke=\"rgb(59, 82, 139)\" stroke-width=\"2\" stroke-dasharray=\"1,0\"/></g></g><path class=\"foreground\" aria-hidden=\"true\" d=\"\" display=\"none\"/></g><g transform=\"translate(0,0)\"><path class=\"background\" aria-hidden=\"true\" d=\"M0,0h600v300h-600Z\"/><g><g class=\"mark-line role-mark concat_0_layer_0_marks\" role=\"graphics-object\" aria-roledescription=\"line mark container\"><path aria-label=\"time: Apr 15, 2023; value: 2.82947672181; height: 10; measurement: u_u_\" role=\"graphics-symbol\" aria-roledescription=\"line mark\" d=\"M0,158.526L12.766,170.529L25.532,134.235L38.298,213.965L51.064,172.632L63.83,217.617L76.596,173.104L89.362,243.594L102.128,257.1L114.894,272.118L127.66,237.676L140.426,258.609L153.191,258.413L165.957,266.795L178.723,270.735L191.489,285.881L204.255,266.897L217.021,255.725L229.787,240.776L242.553,201.03L255.319,233.507L268.085,222.663L280.851,227.877L293.617,258.981L306.383,243.89L319.149,252.678L331.915,245.069L344.681,204.532L357.447,237.542L370.213,212.374L382.979,216.541L395.745,238.487L408.511,244.519L421.277,202.983L434.043,213.002L446.809,222.519L459.574,211.286L472.34,257.221L485.106,223.619L497.872,282.993L510.638,296.65L523.404,251.85L536.17,247.275L548.936,281.89L561.702,252.09L574.468,259.94L587.234,223.721L600,273.149\" stroke=\"rgb(33, 145, 141)\" stroke-width=\"2\" stroke-dasharray=\"1,0\"/></g></g><path class=\"foreground\" aria-hidden=\"true\" d=\"\" display=\"none\"/></g><g transform=\"translate(0,0)\"><path class=\"background\" aria-hidden=\"true\" d=\"M0,0h600v300h-600Z\"/><g><g class=\"mark-line role-mark concat_0_layer_0_marks\" role=\"graphics-object\" aria-roledescription=\"line mark container\"><path aria-label=\"time: Apr 15, 2023; value: 5.56116535979; height: 20; measurement: v_v_\" role=\"graphics-symbol\" aria-roledescription=\"line mark\" d=\"M0,21.942L12.766,198.187L25.532,51.492L38.298,226.575L51.064,209.726L63.83,124.034L76.596,73.833L89.362,32.894L102.128,47.752L114.894,200.085L127.66,184.241L140.426,234.61L153.191,271.8L165.957,274.234L178.723,275.994L191.489,281.696L204.255,236.928L217.021,200.99L229.787,227.15L242.553,237.425L255.319,228.889L268.085,224.465L280.851,232.688L293.617,246.564L306.383,245.595L319.149,261.015L331.915,231.112L344.681,230.608L357.447,240.904L370.213,162.194L382.979,121.576L395.745,222.305L408.511,245.68L421.277,131.075L434.043,231.508L446.809,257.482L459.574,264.173L472.34,234.949L485.106,222.521L497.872,278.891L510.638,290.599L523.404,244.954L536.17,249.959L548.936,262.473L561.702,285.66L574.468,264.671L587.234,271.22L600,281.87\" stroke=\"rgb(93, 201, 99)\" stroke-width=\"2\" stroke-dasharray=\"4,2\"/></g></g><path class=\"foreground\" aria-hidden=\"true\" d=\"\" display=\"none\"/></g><g transform=\"translate(0,0)\"><path class=\"background\" aria-hidden=\"true\" d=\"M0,0h600v300h-600Z\"/><g><g class=\"mark-line role-mark concat_0_layer_0_marks\" role=\"graphics-object\" aria-roledescription=\"line mark container\"><path aria-label=\"time: Apr 15, 2023; value: 0.317475377868; height: 20; measurement: w_w_\" role=\"graphics-symbol\" aria-roledescription=\"line mark\" d=\"M0,284.126L12.766,285.718L25.532,287.139L38.298,285.634L51.064,272.587L63.83,284.913L76.596,274.904L89.362,280.916L102.128,287.019L114.894,290.94L127.66,283.767L140.426,286.165L153.191,293.043L165.957,290.03L178.723,294.225L191.489,293.561L204.255,288.992L217.021,289.65L229.787,285.864L242.553,283.791L255.319,281.82L268.085,281.528L280.851,284.592L293.617,290.125L306.383,287.978L319.149,287.107L331.915,285.199L344.681,282.261L357.447,282.418L370.213,281.936L382.979,283.705L395.745,283.852L408.511,288.298L421.277,278.49L434.043,279.551L446.809,282.954L459.574,283.835L472.34,284.498L485.106,289.729L497.872,296.085L510.638,297.894L523.404,294.572L536.17,292.36L548.936,293.54L561.702,294.312L574.468,296.48L587.234,297.231L600,297.762\" stroke=\"rgb(93, 201, 99)\" stroke-width=\"2\" stroke-dasharray=\"2,1\"/></g></g><path class=\"foreground\" aria-hidden=\"true\" d=\"\" display=\"none\"/></g></g></g><path class=\"foreground\" aria-hidden=\"true\" d=\"\" display=\"none\"/></g></g><g class=\"mark-group role-scope concat_1_group\" role=\"graphics-object\" aria-roledescription=\"group mark container\"><g transform=\"translate(0,359)\"><path class=\"background\" aria-hidden=\"true\" d=\"M0.5,0.5h600v300h-600Z\" stroke=\"#ddd\"/><g><g class=\"mark-group role-axis\" aria-hidden=\"true\"><g transform=\"translate(0.5,300.5)\"><path class=\"background\" aria-hidden=\"true\" d=\"M0,0h0v0h0Z\" pointer-events=\"none\"/><g><g class=\"mark-rule role-axis-grid\" pointer-events=\"none\"><line transform=\"translate(0,-300)\" x2=\"0\" y2=\"300\" stroke=\"#ddd\" stroke-width=\"1\" opacity=\"1\"/><line transform=\"translate(26,-300)\" x2=\"0\" y2=\"300\" stroke=\"#ddd\" stroke-width=\"1\" opacity=\"1\"/><line transform=\"translate(51,-300)\" x2=\"0\" y2=\"300\" stroke=\"#ddd\" stroke-width=\"1\" opacity=\"1\"/><line transform=\"translate(77,-300)\" x2=\"0\" y2=\"300\" stroke=\"#ddd\" stroke-width=\"1\" opacity=\"1\"/><line transform=\"translate(102,-300)\" x2=\"0\" y2=\"300\" stroke=\"#ddd\" stroke-width=\"1\" opacity=\"1\"/><line transform=\"translate(128,-300)\" x2=\"0\" y2=\"300\" stroke=\"#ddd\" stroke-width=\"1\" opacity=\"1\"/><line transform=\"translate(153,-300)\" x2=\"0\" y2=\"300\" stroke=\"#ddd\" stroke-width=\"1\" opacity=\"1\"/><line transform=\"translate(179,-300)\" x2=\"0\" y2=\"300\" stroke=\"#ddd\" stroke-width=\"1\" opacity=\"1\"/><line transform=\"translate(204,-300)\" x2=\"0\" y2=\"300\" stroke=\"#ddd\" stroke-width=\"1\" opacity=\"1\"/><line transform=\"translate(230,-300)\" x2=\"0\" y2=\"300\" stroke=\"#ddd\" stroke-width=\"1\" opacity=\"1\"/><line transform=\"translate(255,-300)\" x2=\"0\" y2=\"300\" stroke=\"#ddd\" stroke-width=\"1\" opacity=\"1\"/><line transform=\"translate(281,-300)\" x2=\"0\" y2=\"300\" stroke=\"#ddd\" stroke-width=\"1\" opacity=\"1\"/><line transform=\"translate(306,-300)\" x2=\"0\" y2=\"300\" stroke=\"#ddd\" stroke-width=\"1\" opacity=\"1\"/><line transform=\"translate(332,-300)\" x2=\"0\" y2=\"300\" stroke=\"#ddd\" stroke-width=\"1\" opacity=\"1\"/><line transform=\"translate(357,-300)\" x2=\"0\" y2=\"300\" stroke=\"#ddd\" stroke-width=\"1\" opacity=\"1\"/><line transform=\"translate(383,-300)\" x2=\"0\" y2=\"300\" stroke=\"#ddd\" stroke-width=\"1\" opacity=\"1\"/><line transform=\"translate(409,-300)\" x2=\"0\" y2=\"300\" stroke=\"#ddd\" stroke-width=\"1\" opacity=\"1\"/><line transform=\"translate(434,-300)\" x2=\"0\" y2=\"300\" stroke=\"#ddd\" stroke-width=\"1\" opacity=\"1\"/><line transform=\"translate(460,-300)\" x2=\"0\" y2=\"300\" stroke=\"#ddd\" stroke-width=\"1\" opacity=\"1\"/><line transform=\"translate(485,-300)\" x2=\"0\" y2=\"300\" stroke=\"#ddd\" stroke-width=\"1\" opacity=\"1\"/><line transform=\"translate(511,-300)\" x2=\"0\" y2=\"300\" stroke=\"#ddd\" stroke-width=\"1\" opacity=\"1\"/><line transform=\"translate(536,-300)\" x2=\"0\" y2=\"300\" stroke=\"#ddd\" stroke-width=\"1\" opacity=\"1\"/><line transform=\"translate(562,-300)\" x2=\"0\" y2=\"300\" stroke=\"#ddd\" stroke-width=\"1\" opacity=\"1\"/><line transform=\"translate(587,-300)\" x2=\"0\" y2=\"300\" stroke=\"#ddd\" stroke-width=\"1\" opacity=\"1\"/></g></g><path class=\"foreground\" aria-hidden=\"true\" d=\"\" pointer-events=\"none\" display=\"none\"/></g></g><g class=\"mark-group role-axis\" aria-hidden=\"true\"><g transform=\"translate(0.5,0.5)\"><path class=\"background\" aria-hidden=\"true\" d=\"M0,0h0v0h0Z\" pointer-events=\"none\"/><g><g class=\"mark-rule role-axis-grid\" pointer-events=\"none\"><line transform=\"translate(0,300)\" x2=\"600\" y2=\"0\" stroke=\"#ddd\" stroke-width=\"1\" opacity=\"1\"/><line transform=\"translate(0,250)\" x2=\"600\" y2=\"0\" stroke=\"#ddd\" stroke-width=\"1\" opacity=\"1\"/><line transform=\"translate(0,200)\" x2=\"600\" y2=\"0\" stroke=\"#ddd\" stroke-width=\"1\" opacity=\"1\"/><line transform=\"translate(0,150)\" x2=\"600\" y2=\"0\" stroke=\"#ddd\" stroke-width=\"1\" opacity=\"1\"/><line transform=\"translate(0,100)\" x2=\"600\" y2=\"0\" stroke=\"#ddd\" stroke-width=\"1\" opacity=\"1\"/><line transform=\"translate(0,50)\" x2=\"600\" y2=\"0\" stroke=\"#ddd\" stroke-width=\"1\" opacity=\"1\"/><line transform=\"translate(0,0)\" x2=\"600\" y2=\"0\" stroke=\"#ddd\" stroke-width=\"1\" opacity=\"1\"/></g></g><path class=\"foreground\" aria-hidden=\"true\" d=\"\" pointer-events=\"none\" display=\"none\"/></g></g><g class=\"mark-group role-axis\" role=\"graphics-symbol\" aria-roledescription=\"axis\" aria-label=\"X-axis titled 'time' for a time scale with values from Tuesday, 18 April 2023, 12:00:00 AM to Tuesday, 18 April 2023, 11:30:00 PM\"><g transform=\"translate(0.5,300.5)\"><path class=\"background\" aria-hidden=\"true\" d=\"M0,0h0v0h0Z\" pointer-events=\"none\"/><g><g class=\"mark-rule role-axis-tick\" pointer-events=\"none\"><line transform=\"translate(0,0)\" x2=\"0\" y2=\"5\" stroke=\"#888\" stroke-width=\"1\" opacity=\"1\"/><line transform=\"translate(26,0)\" x2=\"0\" y2=\"5\" stroke=\"#888\" stroke-width=\"1\" opacity=\"1\"/><line transform=\"translate(51,0)\" x2=\"0\" y2=\"5\" stroke=\"#888\" stroke-width=\"1\" opacity=\"1\"/><line transform=\"translate(77,0)\" x2=\"0\" y2=\"5\" stroke=\"#888\" stroke-width=\"1\" opacity=\"1\"/><line transform=\"translate(102,0)\" x2=\"0\" y2=\"5\" stroke=\"#888\" stroke-width=\"1\" opacity=\"1\"/><line transform=\"translate(128,0)\" x2=\"0\" y2=\"5\" stroke=\"#888\" stroke-width=\"1\" opacity=\"1\"/><line transform=\"translate(153,0)\" x2=\"0\" y2=\"5\" stroke=\"#888\" stroke-width=\"1\" opacity=\"1\"/><line transform=\"translate(179,0)\" x2=\"0\" y2=\"5\" stroke=\"#888\" stroke-width=\"1\" opacity=\"1\"/><line transform=\"translate(204,0)\" x2=\"0\" y2=\"5\" stroke=\"#888\" stroke-width=\"1\" opacity=\"1\"/><line transform=\"translate(230,0)\" x2=\"0\" y2=\"5\" stroke=\"#888\" stroke-width=\"1\" opacity=\"1\"/><line transform=\"translate(255,0)\" x2=\"0\" y2=\"5\" stroke=\"#888\" stroke-width=\"1\" opacity=\"1\"/><line transform=\"translate(281,0)\" x2=\"0\" y2=\"5\" stroke=\"#888\" stroke-width=\"1\" opacity=\"1\"/><line transform=\"translate(306,0)\" x2=\"0\" y2=\"5\" stroke=\"#888\" stroke-width=\"1\" opacity=\"1\"/><line transform=\"translate(332,0)\" x2=\"0\" y2=\"5\" stroke=\"#888\" stroke-width=\"1\" opacity=\"1\"/><line transform=\"translate(357,0)\" x2=\"0\" y2=\"5\" stroke=\"#888\" stroke-width=\"1\" opacity=\"1\"/><line transform=\"translate(383,0)\" x2=\"0\" y2=\"5\" stroke=\"#888\" stroke-width=\"1\" opacity=\"1\"/><line transform=\"translate(409,0)\" x2=\"0\" y2=\"5\" stroke=\"#888\" stroke-width=\"1\" opacity=\"1\"/><line transform=\"translate(434,0)\" x2=\"0\" y2=\"5\" stroke=\"#888\" stroke-width=\"1\" opacity=\"1\"/><line transform=\"translate(460,0)\" x2=\"0\" y2=\"5\" stroke=\"#888\" stroke-width=\"1\" opacity=\"1\"/><line transform=\"translate(485,0)\" x2=\"0\" y2=\"5\" stroke=\"#888\" stroke-width=\"1\" opacity=\"1\"/><line transform=\"translate(511,0)\" x2=\"0\" y2=\"5\" stroke=\"#888\" stroke-width=\"1\" opacity=\"1\"/><line transform=\"translate(536,0)\" x2=\"0\" y2=\"5\" stroke=\"#888\" stroke-width=\"1\" opacity=\"1\"/><line transform=\"translate(562,0)\" x2=\"0\" y2=\"5\" stroke=\"#888\" stroke-width=\"1\" opacity=\"1\"/><line transform=\"translate(587,0)\" x2=\"0\" y2=\"5\" stroke=\"#888\" stroke-width=\"1\" opacity=\"1\"/></g><g class=\"mark-text role-axis-label\" pointer-events=\"none\"><text text-anchor=\"start\" transform=\"translate(0,15)\" font-family=\"sans-serif\" font-size=\"10px\" fill=\"#000\" opacity=\"1\">Tue 18</text><text text-anchor=\"middle\" transform=\"translate(25.53191489361702,15)\" font-family=\"sans-serif\" font-size=\"10px\" fill=\"#000\" opacity=\"0\">01 AM</text><text text-anchor=\"middle\" transform=\"translate(51.06382978723404,15)\" font-family=\"sans-serif\" font-size=\"10px\" fill=\"#000\" opacity=\"1\">02 AM</text><text text-anchor=\"middle\" transform=\"translate(76.59574468085106,15)\" font-family=\"sans-serif\" font-size=\"10px\" fill=\"#000\" opacity=\"0\">03 AM</text><text text-anchor=\"middle\" transform=\"translate(102.12765957446808,15)\" font-family=\"sans-serif\" font-size=\"10px\" fill=\"#000\" opacity=\"1\">04 AM</text><text text-anchor=\"middle\" transform=\"translate(127.65957446808511,15)\" font-family=\"sans-serif\" font-size=\"10px\" fill=\"#000\" opacity=\"0\">05 AM</text><text text-anchor=\"middle\" transform=\"translate(153.1914893617021,15)\" font-family=\"sans-serif\" font-size=\"10px\" fill=\"#000\" opacity=\"1\">06 AM</text><text text-anchor=\"middle\" transform=\"translate(178.72340425531914,15)\" font-family=\"sans-serif\" font-size=\"10px\" fill=\"#000\" opacity=\"0\">07 AM</text><text text-anchor=\"middle\" transform=\"translate(204.25531914893617,15)\" font-family=\"sans-serif\" font-size=\"10px\" fill=\"#000\" opacity=\"1\">08 AM</text><text text-anchor=\"middle\" transform=\"translate(229.7872340425532,15)\" font-family=\"sans-serif\" font-size=\"10px\" fill=\"#000\" opacity=\"0\">09 AM</text><text text-anchor=\"middle\" transform=\"translate(255.31914893617022,15)\" font-family=\"sans-serif\" font-size=\"10px\" fill=\"#000\" opacity=\"1\">10 AM</text><text text-anchor=\"middle\" transform=\"translate(280.8510638297872,15)\" font-family=\"sans-serif\" font-size=\"10px\" fill=\"#000\" opacity=\"0\">11 AM</text><text text-anchor=\"middle\" transform=\"translate(306.3829787234042,15)\" font-family=\"sans-serif\" font-size=\"10px\" fill=\"#000\" opacity=\"1\">12 PM</text><text text-anchor=\"middle\" transform=\"translate(331.9148936170213,15)\" font-family=\"sans-serif\" font-size=\"10px\" fill=\"#000\" opacity=\"0\">01 PM</text><text text-anchor=\"middle\" transform=\"translate(357.4468085106383,15)\" font-family=\"sans-serif\" font-size=\"10px\" fill=\"#000\" opacity=\"1\">02 PM</text><text text-anchor=\"middle\" transform=\"translate(382.97872340425533,15)\" font-family=\"sans-serif\" font-size=\"10px\" fill=\"#000\" opacity=\"0\">03 PM</text><text text-anchor=\"middle\" transform=\"translate(408.51063829787233,15)\" font-family=\"sans-serif\" font-size=\"10px\" fill=\"#000\" opacity=\"1\">04 PM</text><text text-anchor=\"middle\" transform=\"translate(434.0425531914894,15)\" font-family=\"sans-serif\" font-size=\"10px\" fill=\"#000\" opacity=\"0\">05 PM</text><text text-anchor=\"middle\" transform=\"translate(459.5744680851064,15)\" font-family=\"sans-serif\" font-size=\"10px\" fill=\"#000\" opacity=\"1\">06 PM</text><text text-anchor=\"middle\" transform=\"translate(485.1063829787234,15)\" font-family=\"sans-serif\" font-size=\"10px\" fill=\"#000\" opacity=\"0\">07 PM</text><text text-anchor=\"middle\" transform=\"translate(510.63829787234044,15)\" font-family=\"sans-serif\" font-size=\"10px\" fill=\"#000\" opacity=\"1\">08 PM</text><text text-anchor=\"middle\" transform=\"translate(536.1702127659574,15)\" font-family=\"sans-serif\" font-size=\"10px\" fill=\"#000\" opacity=\"0\">09 PM</text><text text-anchor=\"middle\" transform=\"translate(561.7021276595744,15)\" font-family=\"sans-serif\" font-size=\"10px\" fill=\"#000\" opacity=\"1\">10 PM</text><text text-anchor=\"middle\" transform=\"translate(587.2340425531914,15)\" font-family=\"sans-serif\" font-size=\"10px\" fill=\"#000\" opacity=\"0\">11 PM</text></g><g class=\"mark-rule role-axis-domain\" pointer-events=\"none\"><line transform=\"translate(0,0)\" x2=\"600\" y2=\"0\" stroke=\"#888\" stroke-width=\"1\" opacity=\"1\"/></g><g class=\"mark-text role-axis-title\" pointer-events=\"none\"><text text-anchor=\"middle\" transform=\"translate(300,30)\" font-family=\"sans-serif\" font-size=\"11px\" font-weight=\"bold\" fill=\"#000\" opacity=\"1\">time</text></g></g><path class=\"foreground\" aria-hidden=\"true\" d=\"\" pointer-events=\"none\" display=\"none\"/></g></g><g class=\"mark-group role-axis\" role=\"graphics-symbol\" aria-roledescription=\"axis\" aria-label=\"Y-axis titled 'value' for a linear scale with values from 0 to 30\"><g transform=\"translate(0.5,0.5)\"><path class=\"background\" aria-hidden=\"true\" d=\"M0,0h0v0h0Z\" pointer-events=\"none\"/><g><g class=\"mark-rule role-axis-tick\" pointer-events=\"none\"><line transform=\"translate(0,300)\" x2=\"-5\" y2=\"0\" stroke=\"#888\" stroke-width=\"1\" opacity=\"1\"/><line transform=\"translate(0,250)\" x2=\"-5\" y2=\"0\" stroke=\"#888\" stroke-width=\"1\" opacity=\"1\"/><line transform=\"translate(0,200)\" x2=\"-5\" y2=\"0\" stroke=\"#888\" stroke-width=\"1\" opacity=\"1\"/><line transform=\"translate(0,150)\" x2=\"-5\" y2=\"0\" stroke=\"#888\" stroke-width=\"1\" opacity=\"1\"/><line transform=\"translate(0,100)\" x2=\"-5\" y2=\"0\" stroke=\"#888\" stroke-width=\"1\" opacity=\"1\"/><line transform=\"translate(0,50)\" x2=\"-5\" y2=\"0\" stroke=\"#888\" stroke-width=\"1\" opacity=\"1\"/><line transform=\"translate(0,0)\" x2=\"-5\" y2=\"0\" stroke=\"#888\" stroke-width=\"1\" opacity=\"1\"/></g><g class=\"mark-text role-axis-label\" pointer-events=\"none\"><text text-anchor=\"end\" transform=\"translate(-7,303)\" font-family=\"sans-serif\" font-size=\"10px\" fill=\"#000\" opacity=\"1\">0</text><text text-anchor=\"end\" transform=\"translate(-7,253)\" font-family=\"sans-serif\" font-size=\"10px\" fill=\"#000\" opacity=\"1\">5</text><text text-anchor=\"end\" transform=\"translate(-7,203.00000000000003)\" font-family=\"sans-serif\" font-size=\"10px\" fill=\"#000\" opacity=\"1\">10</text><text text-anchor=\"end\" transform=\"translate(-7,153)\" font-family=\"sans-serif\" font-size=\"10px\" fill=\"#000\" opacity=\"1\">15</text><text text-anchor=\"end\" transform=\"translate(-7,103.00000000000001)\" font-family=\"sans-serif\" font-size=\"10px\" fill=\"#000\" opacity=\"1\">20</text><text text-anchor=\"end\" transform=\"translate(-7,52.999999999999986)\" font-family=\"sans-serif\" font-size=\"10px\" fill=\"#000\" opacity=\"1\">25</text><text text-anchor=\"end\" transform=\"translate(-7,3)\" font-family=\"sans-serif\" font-size=\"10px\" fill=\"#000\" opacity=\"1\">30</text></g><g class=\"mark-rule role-axis-domain\" pointer-events=\"none\"><line transform=\"translate(0,300)\" x2=\"0\" y2=\"-300\" stroke=\"#888\" stroke-width=\"1\" opacity=\"1\"/></g><g class=\"mark-text role-axis-title\" pointer-events=\"none\"><text text-anchor=\"middle\" transform=\"translate(-22.123046875,150) rotate(-90) translate(0,-2)\" font-family=\"sans-serif\" font-size=\"11px\" font-weight=\"bold\" fill=\"#000\" opacity=\"1\">value</text></g></g><path class=\"foreground\" aria-hidden=\"true\" d=\"\" pointer-events=\"none\" display=\"none\"/></g></g><g class=\"mark-group role-scope concat_1_layer_0_pathgroup\" role=\"graphics-object\" aria-roledescription=\"group mark container\"><g transform=\"translate(0,0)\"><path class=\"background\" aria-hidden=\"true\" d=\"M0,0h600v300h-600Z\"/><g><g class=\"mark-line role-mark concat_1_layer_0_marks\" role=\"graphics-object\" aria-roledescription=\"line mark container\"><path aria-label=\"time: Apr 18, 2023; value: 0.215633271999; height: 10; measurement: v_v_\" role=\"graphics-symbol\" aria-roledescription=\"line mark\" d=\"M0,297.844L12.766,297.233L25.532,297.623L38.298,298.575L51.064,298.097L63.83,297.107L76.596,296.326L89.362,294.773L102.128,294.304L114.894,292.586L127.66,285.695L140.426,287.374L153.191,262.653L165.957,252.25L178.723,269.234L191.489,199.003L204.255,284.291L217.021,239.333L229.787,233.487L242.553,180.745L255.319,211.57L268.085,239.34L280.851,277.091L293.617,263.823L306.383,216.821L319.149,238.361L331.915,241.507L344.681,229.32L357.447,180.233L370.213,130.801L382.979,138.905L395.745,210.549L408.511,52.057L421.277,174.015L434.043,139.061L446.809,41.785L459.574,73.034L472.34,51.68L485.106,171.128L497.872,130.697L510.638,254.076L523.404,152.104L536.17,215.45L548.936,209.107L561.702,259.395L574.468,268.15L587.234,227.426L600,260.67\" stroke=\"rgb(33, 145, 141)\" stroke-width=\"2\" stroke-dasharray=\"4,2\"/></g></g><path class=\"foreground\" aria-hidden=\"true\" d=\"\" display=\"none\"/></g><g transform=\"translate(0,0)\"><path class=\"background\" aria-hidden=\"true\" d=\"M0,0h600v300h-600Z\"/><g><g class=\"mark-line role-mark concat_1_layer_0_marks\" role=\"graphics-object\" aria-roledescription=\"line mark container\"><path aria-label=\"time: Apr 18, 2023; value: 0.0365855044887; height: 20; measurement: w_w_\" role=\"graphics-symbol\" aria-roledescription=\"line mark\" d=\"M0,299.634L12.766,299.708L25.532,299.712L38.298,299.741L51.064,299.645L63.83,299.491L76.596,298.898L89.362,299.446L102.128,299.077L114.894,299.384L127.66,298.25L140.426,297.906L153.191,293.236L165.957,290.896L178.723,286.029L191.489,282.297L204.255,293.937L217.021,281.507L229.787,289.036L242.553,282.773L255.319,276.037L268.085,292.299L280.851,295.19L293.617,298.678L306.383,287.727L319.149,295.792L331.915,289.545L344.681,277.973L357.447,275.078L370.213,275.549L382.979,271.826L395.745,265.778L408.511,263.389L421.277,268.757L434.043,264.335L446.809,264.84L459.574,253.495L472.34,260.73L485.106,261.626L497.872,278.054L510.638,286.384L523.404,272.326L536.17,274.82L548.936,289.782L561.702,292.721L574.468,291.969L587.234,283.355L600,292.23\" stroke=\"rgb(93, 201, 99)\" stroke-width=\"2\" stroke-dasharray=\"2,1\"/></g></g><path class=\"foreground\" aria-hidden=\"true\" d=\"\" display=\"none\"/></g><g transform=\"translate(0,0)\"><path class=\"background\" aria-hidden=\"true\" d=\"M0,0h600v300h-600Z\"/><g><g class=\"mark-line role-mark concat_1_layer_0_marks\" role=\"graphics-object\" aria-roledescription=\"line mark container\"><path aria-label=\"time: Apr 18, 2023; value: 0.0244124865212; height: 10; measurement: w_w_\" role=\"graphics-symbol\" aria-roledescription=\"line mark\" d=\"M0,299.756L12.766,299.662L25.532,299.72L38.298,299.762L51.064,299.734L63.83,299.677L76.596,299.484L89.362,299.703L102.128,299.475L114.894,299.652L127.66,299.173L140.426,298.632L153.191,296.519L165.957,295.347L178.723,292.694L191.489,289.087L204.255,296.855L217.021,289.898L229.787,293.38L242.553,289.767L255.319,286.238L268.085,295.681L280.851,297.145L293.617,299.334L306.383,291.951L319.149,298.219L331.915,293.687L344.681,289.912L357.447,285.187L370.213,287.224L382.979,283.654L395.745,282.354L408.511,280.206L421.277,282.602L434.043,281.042L446.809,278.594L459.574,270.314L472.34,276.541L485.106,276.606L497.872,287.177L510.638,292.973L523.404,285.514L536.17,284.462L548.936,294.213L561.702,295.261L574.468,295.671L587.234,291.078L600,295.265\" stroke=\"rgb(33, 145, 141)\" stroke-width=\"2\" stroke-dasharray=\"2,1\"/></g></g><path class=\"foreground\" aria-hidden=\"true\" d=\"\" display=\"none\"/></g><g transform=\"translate(0,0)\"><path class=\"background\" aria-hidden=\"true\" d=\"M0,0h600v300h-600Z\"/><g><g class=\"mark-line role-mark concat_1_layer_0_marks\" role=\"graphics-object\" aria-roledescription=\"line mark container\"><path aria-label=\"time: Apr 18, 2023; value: 0.27859748609; height: 3; measurement: v_v_\" role=\"graphics-symbol\" aria-roledescription=\"line mark\" d=\"M0,297.214L12.766,297.199L25.532,297.77L38.298,298.134L51.064,297.11L63.83,296.108L76.596,295.801L89.362,292.708L102.128,293.521L114.894,293.959L127.66,283.728L140.426,287.18L153.191,261.588L165.957,257.592L178.723,269.994L191.489,204.3L204.255,283.415L217.021,243.742L229.787,236.253L242.553,199.244L255.319,216.173L268.085,248.082L280.851,282.516L293.617,268.605L306.383,223.992L319.149,248.498L331.915,246.417L344.681,233.876L357.447,187.334L370.213,155.264L382.979,149.996L395.745,219.192L408.511,89.471L421.277,193.116L434.043,150.973L446.809,41.19L459.574,103.933L472.34,52.69L485.106,165.496L497.872,156.152L510.638,255.017L523.404,167.437L536.17,218.325L548.936,214.984L561.702,262.386L574.468,270.942L587.234,228.992L600,264.82\" stroke=\"rgb(59, 82, 139)\" stroke-width=\"2\" stroke-dasharray=\"4,2\"/></g></g><path class=\"foreground\" aria-hidden=\"true\" d=\"\" display=\"none\"/></g><g transform=\"translate(0,0)\"><path class=\"background\" aria-hidden=\"true\" d=\"M0,0h600v300h-600Z\"/><g><g class=\"mark-line role-mark concat_1_layer_0_marks\" role=\"graphics-object\" aria-roledescription=\"line mark container\"><path aria-label=\"time: Apr 18, 2023; value: 0.00730289291328; height: 3; measurement: w_w_\" role=\"graphics-symbol\" aria-roledescription=\"line mark\" d=\"M0,299.927L12.766,299.898L25.532,299.875L38.298,299.848L51.064,299.892L63.83,299.884L76.596,299.858L89.362,299.899L102.128,299.849L114.894,299.889L127.66,299.781L140.426,299.655L153.191,299.119L165.957,298.813L178.723,297.993L191.489,297.537L204.255,299.082L217.021,297.534L229.787,298.248L242.553,297.328L255.319,296.401L268.085,298.652L280.851,299.127L293.617,299.679L306.383,297.342L319.149,299.208L331.915,298.236L344.681,297.405L357.447,296.393L370.213,296.435L382.979,295.674L395.745,295.022L408.511,293.724L421.277,295.29L434.043,294.751L446.809,293.586L459.574,291.984L472.34,293.933L485.106,293.514L497.872,296.365L510.638,297.933L523.404,296.293L536.17,295.679L548.936,298.366L561.702,298.643L574.468,298.648L587.234,297.479L600,298.698\" stroke=\"rgb(59, 82, 139)\" stroke-width=\"2\" stroke-dasharray=\"2,1\"/></g></g><path class=\"foreground\" aria-hidden=\"true\" d=\"\" display=\"none\"/></g><g transform=\"translate(0,0)\"><path class=\"background\" aria-hidden=\"true\" d=\"M0,0h600v300h-600Z\"/><g><g class=\"mark-line role-mark concat_1_layer_0_marks\" role=\"graphics-object\" aria-roledescription=\"line mark container\"><path aria-label=\"time: Apr 18, 2023; value: 0.653335350286; height: 20; measurement: u_u_\" role=\"graphics-symbol\" aria-roledescription=\"line mark\" d=\"M0,293.467L12.766,298.011L25.532,298.332L38.298,297.952L51.064,298.627L63.83,296.421L76.596,285.115L89.362,289.426L102.128,282.327L114.894,290.403L127.66,277.742L140.426,274.419L153.191,279.266L165.957,248.418L178.723,233.43L191.489,230.621L204.255,269.794L217.021,229.907L229.787,237.168L242.553,200.654L255.319,162.15L268.085,278.396L280.851,255.083L293.617,291.013L306.383,256.168L319.149,266.937L331.915,259.599L344.681,205.85L357.447,149.227L370.213,144.459L382.979,166.479L395.745,135.89L408.511,48.358L421.277,200.03L434.043,198.824L446.809,144.856L459.574,126.543L472.34,175.195L485.106,80.408L497.872,103.35L510.638,224.813L523.404,188.171L536.17,202.218L548.936,250.104L561.702,262.301L574.468,272.559L587.234,240.125L600,237.942\" stroke=\"rgb(93, 201, 99)\" stroke-width=\"2\" stroke-dasharray=\"1,0\"/></g></g><path class=\"foreground\" aria-hidden=\"true\" d=\"\" display=\"none\"/></g><g transform=\"translate(0,0)\"><path class=\"background\" aria-hidden=\"true\" d=\"M0,0h600v300h-600Z\"/><g><g class=\"mark-line role-mark concat_1_layer_0_marks\" role=\"graphics-object\" aria-roledescription=\"line mark container\"><path aria-label=\"time: Apr 18, 2023; value: 0.183121526382; height: 20; measurement: v_v_\" role=\"graphics-symbol\" aria-roledescription=\"line mark\" d=\"M0,298.169L12.766,298.669L25.532,298.04L38.298,298.309L51.064,297.871L63.83,297.761L76.596,296.218L89.362,295.687L102.128,294.911L114.894,291.182L127.66,286.815L140.426,288.567L153.191,264.183L165.957,250.528L178.723,266.028L191.489,189.79L204.255,283.14L217.021,240.81L229.787,230.601L242.553,176.024L255.319,207.776L268.085,240.004L280.851,273.215L293.617,256.392L306.383,212.905L319.149,229.546L331.915,231.339L344.681,224.307L357.447,188.835L370.213,107.091L382.979,132.661L395.745,202.087L408.511,17.926L421.277,161.6L434.043,139.607L446.809,47.179L459.574,58.898L472.34,57.958L485.106,171.862L497.872,118.516L510.638,248.173L523.404,137.412L536.17,211.539L548.936,202.089L561.702,257.051L574.468,270.41L587.234,236.359L600,251.447\" stroke=\"rgb(93, 201, 99)\" stroke-width=\"2\" stroke-dasharray=\"4,2\"/></g></g><path class=\"foreground\" aria-hidden=\"true\" d=\"\" display=\"none\"/></g><g transform=\"translate(0,0)\"><path class=\"background\" aria-hidden=\"true\" d=\"M0,0h600v300h-600Z\"/><g><g class=\"mark-line role-mark concat_1_layer_0_marks\" role=\"graphics-object\" aria-roledescription=\"line mark container\"><path aria-label=\"time: Apr 18, 2023; value: 0.508052529334; height: 10; measurement: u_u_\" role=\"graphics-symbol\" aria-roledescription=\"line mark\" d=\"M0,294.919L12.766,296.37L25.532,297.828L38.298,297.737L51.064,296.913L63.83,294.297L76.596,283.483L89.362,290.131L102.128,280.988L114.894,290.512L127.66,279.44L140.426,272.899L153.191,269.577L165.957,246.92L178.723,226.102L191.489,227.167L204.255,269.693L217.021,227.7L229.787,241.583L242.553,189.937L255.319,163.708L268.085,277.279L280.851,258.094L293.617,289.138L306.383,257.222L319.149,265.311L331.915,263.07L344.681,208.333L357.447,136.17L370.213,144.574L382.979,173.552L395.745,142.146L408.511,36.495L421.277,189.674L434.043,183.178L446.809,132.185L459.574,124.101L472.34,171.93L485.106,65.785L497.872,108.161L510.638,227.776L523.404,184.075L536.17,195.175L548.936,241.525L561.702,259.696L574.468,274.92L587.234,226.764L600,239.377\" stroke=\"rgb(33, 145, 141)\" stroke-width=\"2\" stroke-dasharray=\"1,0\"/></g></g><path class=\"foreground\" aria-hidden=\"true\" d=\"\" display=\"none\"/></g><g transform=\"translate(0,0)\"><path class=\"background\" aria-hidden=\"true\" d=\"M0,0h600v300h-600Z\"/><g><g class=\"mark-line role-mark concat_1_layer_0_marks\" role=\"graphics-object\" aria-roledescription=\"line mark container\"><path aria-label=\"time: Apr 18, 2023; value: 0.482065921207; height: 3; measurement: u_u_\" role=\"graphics-symbol\" aria-roledescription=\"line mark\" d=\"M0,295.179L12.766,293.603L25.532,297.145L38.298,298.064L51.064,297.269L63.83,294.063L76.596,288.248L89.362,292.941L102.128,284.695L114.894,292.989L127.66,284.024L140.426,274.743L153.191,266.926L165.957,259.939L178.723,230.088L191.489,233.578L204.255,275.257L217.021,240.799L229.787,252.18L242.553,195.171L255.319,175.805L268.085,281.24L280.851,272.146L293.617,292.467L306.383,259.094L319.149,265.306L331.915,270.232L344.681,222.126L357.447,162.128L370.213,163.513L382.979,194.331L395.745,161.44L408.511,81.12L421.277,200.569L434.043,185.819L446.809,147.619L459.574,126.445L472.34,180.123L485.106,89.934L497.872,128.92L510.638,238.11L523.404,195.491L536.17,209.205L548.936,242.855L561.702,261.535L574.468,279.455L587.234,239.359L600,256.979\" stroke=\"rgb(59, 82, 139)\" stroke-width=\"2\" stroke-dasharray=\"1,0\"/></g></g><path class=\"foreground\" aria-hidden=\"true\" d=\"\" display=\"none\"/></g></g></g><path class=\"foreground\" aria-hidden=\"true\" d=\"\" display=\"none\"/></g></g><g class=\"mark-group role-legend\" role=\"graphics-symbol\" aria-roledescription=\"legend\" aria-label=\"Symbol legend titled 'height' for stroke color with 3 values: 3, 10, 20\"><g transform=\"translate(621,0)\"><path class=\"background\" aria-hidden=\"true\" d=\"M0,0h33v53h-33Z\" pointer-events=\"none\"/><g><g class=\"mark-group role-legend-entry\"><g transform=\"translate(0,16)\"><path class=\"background\" aria-hidden=\"true\" d=\"M0,0h0v0h0Z\" pointer-events=\"none\"/><g><g class=\"mark-group role-scope\" role=\"graphics-object\" aria-roledescription=\"group mark container\"><g transform=\"translate(0,0)\"><path class=\"background\" aria-hidden=\"true\" d=\"M0,0h27.123046875v11h-27.123046875Z\" pointer-events=\"none\" opacity=\"1\"/><g><g class=\"mark-symbol role-legend-symbol\" pointer-events=\"none\"><path transform=\"translate(6,6)\" d=\"M-5,0L5,0\" stroke=\"rgb(59, 82, 139)\" stroke-width=\"1.5\" opacity=\"1\"/></g><g class=\"mark-text role-legend-label\" pointer-events=\"none\"><text text-anchor=\"start\" transform=\"translate(16,9)\" font-family=\"sans-serif\" font-size=\"10px\" fill=\"#000\" opacity=\"1\">3</text></g></g><path class=\"foreground\" aria-hidden=\"true\" d=\"\" pointer-events=\"none\" display=\"none\"/></g><g transform=\"translate(0,13)\"><path class=\"background\" aria-hidden=\"true\" d=\"M0,0h27.123046875v11h-27.123046875Z\" pointer-events=\"none\" opacity=\"1\"/><g><g class=\"mark-symbol role-legend-symbol\" pointer-events=\"none\"><path transform=\"translate(6,6)\" d=\"M-5,0L5,0\" stroke=\"rgb(33, 145, 141)\" stroke-width=\"1.5\" opacity=\"1\"/></g><g class=\"mark-text role-legend-label\" pointer-events=\"none\"><text text-anchor=\"start\" transform=\"translate(16,9)\" font-family=\"sans-serif\" font-size=\"10px\" fill=\"#000\" opacity=\"1\">10</text></g></g><path class=\"foreground\" aria-hidden=\"true\" d=\"\" pointer-events=\"none\" display=\"none\"/></g><g transform=\"translate(0,26)\"><path class=\"background\" aria-hidden=\"true\" d=\"M0,0h27.123046875v11h-27.123046875Z\" pointer-events=\"none\" opacity=\"1\"/><g><g class=\"mark-symbol role-legend-symbol\" pointer-events=\"none\"><path transform=\"translate(6,6)\" d=\"M-5,0L5,0\" stroke=\"rgb(93, 201, 99)\" stroke-width=\"1.5\" opacity=\"1\"/></g><g class=\"mark-text role-legend-label\" pointer-events=\"none\"><text text-anchor=\"start\" transform=\"translate(16,9)\" font-family=\"sans-serif\" font-size=\"10px\" fill=\"#000\" opacity=\"1\">20</text></g></g><path class=\"foreground\" aria-hidden=\"true\" d=\"\" pointer-events=\"none\" display=\"none\"/></g></g></g><path class=\"foreground\" aria-hidden=\"true\" d=\"\" pointer-events=\"none\" display=\"none\"/></g></g><g class=\"mark-text role-legend-title\" pointer-events=\"none\"><text text-anchor=\"start\" transform=\"translate(0,9)\" font-family=\"sans-serif\" font-size=\"11px\" font-weight=\"bold\" fill=\"#000\" opacity=\"1\">height</text></g></g><path class=\"foreground\" aria-hidden=\"true\" d=\"\" pointer-events=\"none\" display=\"none\"/></g></g><g class=\"mark-group role-legend\" role=\"graphics-symbol\" aria-roledescription=\"legend\" aria-label=\"Symbol legend titled 'measurement' for strokeDash with 3 values: u_u_, v_v_, w_w_\"><g transform=\"translate(621,61)\"><path class=\"background\" aria-hidden=\"true\" d=\"M0,0h72v53h-72Z\" pointer-events=\"none\"/><g><g class=\"mark-group role-legend-entry\"><g transform=\"translate(0,16)\"><path class=\"background\" aria-hidden=\"true\" d=\"M0,0h0v0h0Z\" pointer-events=\"none\"/><g><g class=\"mark-group role-scope\" role=\"graphics-object\" aria-roledescription=\"group mark container\"><g transform=\"translate(0,0)\"><path class=\"background\" aria-hidden=\"true\" d=\"M0,0h41.56640625v11h-41.56640625Z\" pointer-events=\"none\" opacity=\"1\"/><g><g class=\"mark-symbol role-legend-symbol\" pointer-events=\"none\"><path transform=\"translate(6,6)\" d=\"M-5,0L5,0\" stroke=\"#888\" stroke-width=\"1.5\" stroke-dasharray=\"1,0\" opacity=\"1\"/></g><g class=\"mark-text role-legend-label\" pointer-events=\"none\"><text text-anchor=\"start\" transform=\"translate(16,9)\" font-family=\"sans-serif\" font-size=\"10px\" fill=\"#000\" opacity=\"1\">u_u_</text></g></g><path class=\"foreground\" aria-hidden=\"true\" d=\"\" pointer-events=\"none\" display=\"none\"/></g><g transform=\"translate(0,13)\"><path class=\"background\" aria-hidden=\"true\" d=\"M0,0h41.56640625v11h-41.56640625Z\" pointer-events=\"none\" opacity=\"1\"/><g><g class=\"mark-symbol role-legend-symbol\" pointer-events=\"none\"><path transform=\"translate(6,6)\" d=\"M-5,0L5,0\" stroke=\"#888\" stroke-width=\"1.5\" stroke-dasharray=\"4,2\" opacity=\"1\"/></g><g class=\"mark-text role-legend-label\" pointer-events=\"none\"><text text-anchor=\"start\" transform=\"translate(16,9)\" font-family=\"sans-serif\" font-size=\"10px\" fill=\"#000\" opacity=\"1\">v_v_</text></g></g><path class=\"foreground\" aria-hidden=\"true\" d=\"\" pointer-events=\"none\" display=\"none\"/></g><g transform=\"translate(0,26)\"><path class=\"background\" aria-hidden=\"true\" d=\"M0,0h41.56640625v11h-41.56640625Z\" pointer-events=\"none\" opacity=\"1\"/><g><g class=\"mark-symbol role-legend-symbol\" pointer-events=\"none\"><path transform=\"translate(6,6)\" d=\"M-5,0L5,0\" stroke=\"#888\" stroke-width=\"1.5\" stroke-dasharray=\"2,1\" opacity=\"1\"/></g><g class=\"mark-text role-legend-label\" pointer-events=\"none\"><text text-anchor=\"start\" transform=\"translate(16,9)\" font-family=\"sans-serif\" font-size=\"10px\" fill=\"#000\" opacity=\"1\">w_w_</text></g></g><path class=\"foreground\" aria-hidden=\"true\" d=\"\" pointer-events=\"none\" display=\"none\"/></g></g></g><path class=\"foreground\" aria-hidden=\"true\" d=\"\" pointer-events=\"none\" display=\"none\"/></g></g><g class=\"mark-text role-legend-title\" pointer-events=\"none\"><text text-anchor=\"start\" transform=\"translate(0,9)\" font-family=\"sans-serif\" font-size=\"11px\" font-weight=\"bold\" fill=\"#000\" opacity=\"1\">measurement</text></g></g><path class=\"foreground\" aria-hidden=\"true\" d=\"\" pointer-events=\"none\" display=\"none\"/></g></g></g><path class=\"foreground\" aria-hidden=\"true\" d=\"\" display=\"none\"/></g></g></g></svg>"
      ],
      "text/plain": [
       "alt.VConcatChart(...)"
      ]
     },
     "execution_count": 8,
     "metadata": {},
     "output_type": "execute_result"
    }
   ],
   "source": [
    "src = sos_df[sos_df.measurement.isin(['u_u_', 'v_v_', 'w_w_'])].query(\"tower == 'c'\")\n",
    "src = src[src.height.isin([3,10,20])]\n",
    "src = utils.modify_df_timezone(src, 'UTC', 'US/Mountain')\n",
    "base = alt.Chart().mark_line().encode(\n",
    "    alt.X('time:T'),\n",
    "    alt.Y('value:Q'),\n",
    "    alt.Color('height:O').scale(scheme='viridis'),\n",
    "    alt.StrokeDash('measurement:N')\n",
    ").properties(width=600)\n",
    "alt.layer(base, data=src.set_index('time').sort_index().loc['20230415': '20230415'].reset_index()) &\\\n",
    "alt.layer(base, data=src.set_index('time').sort_index().loc['20230418': '20230418'].reset_index())"
   ]
  },
  {
   "cell_type": "markdown",
   "metadata": {},
   "source": [
    "## Radiosonde"
   ]
  },
  {
   "cell_type": "code",
   "execution_count": 9,
   "metadata": {},
   "outputs": [],
   "source": [
    "username = os.getenv(\"ARM_USERNAME\")\n",
    "token = os.getenv(\"ARM_TOKEN\")"
   ]
  },
  {
   "cell_type": "markdown",
   "metadata": {},
   "source": []
  },
  {
   "cell_type": "code",
   "execution_count": 10,
   "metadata": {},
   "outputs": [],
   "source": [
    "# Define the data code and date range\n",
    "data_code = 'gucsondewnpnM1.b1'\n",
    "start_date = '2023-04-09'\n",
    "end_date = '2023-04-09'\n"
   ]
  },
  {
   "cell_type": "code",
   "execution_count": 11,
   "metadata": {},
   "outputs": [
    {
     "name": "stdout",
     "output_type": "stream",
     "text": [
      "[DOWNLOADING] gucsondewnpnM1.b1.20230409.113200.cdf\n",
      "[DOWNLOADING] gucsondewnpnM1.b1.20230409.232800.cdf\n",
      "\n",
      "If you use these data to prepare a publication, please cite:\n",
      "\n",
      "Keeler, E., Burk, K., & Kyrouac, J. Balloon-Borne Sounding System (SONDEWNPN),\n",
      "2023-04-09 to 2023-04-09, ARM Mobile Facility (GUC), Gunnison, CO; AMF2 (main\n",
      "site for SAIL) (M1). Atmospheric Radiation Measurement (ARM) User Facility.\n",
      "https://doi.org/10.5439/1595321\n",
      "\n"
     ]
    }
   ],
   "source": [
    "# Download the data\n",
    "files = act.discovery.download_arm_data(\n",
    "    username,\n",
    "    token,\n",
    "    data_code,\n",
    "    start_date,\n",
    "    end_date,\n",
    "    output = os.path.join(data_dir, \"gucsondewnpnM1.b1\")\n",
    ")"
   ]
  },
  {
   "cell_type": "code",
   "execution_count": 12,
   "metadata": {},
   "outputs": [],
   "source": [
    "sonde_morn = xr.open_dataset(sorted(files)[0])\n",
    "sonde_day = xr.open_dataset(sorted(files)[1])"
   ]
  },
  {
   "cell_type": "code",
   "execution_count": 13,
   "metadata": {},
   "outputs": [],
   "source": [
    "sonde_morn['tpot'] = metpy.calc.potential_temperature(\n",
    "    sonde_morn['pres'] * units(sonde_morn['pres'].units),\n",
    "    sonde_morn['tdry'] * units(sonde_morn['tdry'].units),\n",
    ")\n",
    "sonde_day['tpot'] = metpy.calc.potential_temperature(\n",
    "    sonde_day['pres'] * units(sonde_day['pres'].units),\n",
    "    sonde_day['tdry'] * units(sonde_day['tdry'].units),\n",
    ")"
   ]
  },
  {
   "cell_type": "code",
   "execution_count": 15,
   "metadata": {},
   "outputs": [
    {
     "data": {
      "image/svg+xml": [
       "<svg xmlns=\"http://www.w3.org/2000/svg\" xmlns:xlink=\"http://www.w3.org/1999/xlink\" version=\"1.1\" class=\"marks\" width=\"297\" height=\"347\" viewBox=\"0 0 297 347\"><rect width=\"297\" height=\"347\" fill=\"white\"/><g fill=\"none\" stroke-miterlimit=\"10\" transform=\"translate(58,10)\"><g class=\"mark-group role-frame root\" role=\"graphics-object\" aria-roledescription=\"group mark container\"><g transform=\"translate(0,0)\"><path class=\"background\" aria-hidden=\"true\" d=\"M0.5,0.5h150v300h-150Z\" stroke=\"#ddd\"/><g><g class=\"mark-group role-axis\" aria-hidden=\"true\"><g transform=\"translate(0.5,300.5)\"><path class=\"background\" aria-hidden=\"true\" d=\"M0,0h0v0h0Z\" pointer-events=\"none\"/><g><g class=\"mark-rule role-axis-grid\" pointer-events=\"none\"><line transform=\"translate(23,-300)\" x2=\"0\" y2=\"300\" stroke=\"#ddd\" stroke-width=\"1\" opacity=\"1\"/><line transform=\"translate(69,-300)\" x2=\"0\" y2=\"300\" stroke=\"#ddd\" stroke-width=\"1\" opacity=\"1\"/><line transform=\"translate(115,-300)\" x2=\"0\" y2=\"300\" stroke=\"#ddd\" stroke-width=\"1\" opacity=\"1\"/></g></g><path class=\"foreground\" aria-hidden=\"true\" d=\"\" pointer-events=\"none\" display=\"none\"/></g></g><g class=\"mark-group role-axis\" aria-hidden=\"true\"><g transform=\"translate(0.5,0.5)\"><path class=\"background\" aria-hidden=\"true\" d=\"M0,0h0v0h0Z\" pointer-events=\"none\"/><g><g class=\"mark-rule role-axis-grid\" pointer-events=\"none\"><line transform=\"translate(0,300)\" x2=\"150\" y2=\"0\" stroke=\"#ddd\" stroke-width=\"1\" opacity=\"1\"/><line transform=\"translate(0,270)\" x2=\"150\" y2=\"0\" stroke=\"#ddd\" stroke-width=\"1\" opacity=\"1\"/><line transform=\"translate(0,240)\" x2=\"150\" y2=\"0\" stroke=\"#ddd\" stroke-width=\"1\" opacity=\"1\"/><line transform=\"translate(0,210)\" x2=\"150\" y2=\"0\" stroke=\"#ddd\" stroke-width=\"1\" opacity=\"1\"/><line transform=\"translate(0,180)\" x2=\"150\" y2=\"0\" stroke=\"#ddd\" stroke-width=\"1\" opacity=\"1\"/><line transform=\"translate(0,150)\" x2=\"150\" y2=\"0\" stroke=\"#ddd\" stroke-width=\"1\" opacity=\"1\"/><line transform=\"translate(0,120)\" x2=\"150\" y2=\"0\" stroke=\"#ddd\" stroke-width=\"1\" opacity=\"1\"/><line transform=\"translate(0,90)\" x2=\"150\" y2=\"0\" stroke=\"#ddd\" stroke-width=\"1\" opacity=\"1\"/><line transform=\"translate(0,60)\" x2=\"150\" y2=\"0\" stroke=\"#ddd\" stroke-width=\"1\" opacity=\"1\"/><line transform=\"translate(0,30)\" x2=\"150\" y2=\"0\" stroke=\"#ddd\" stroke-width=\"1\" opacity=\"1\"/><line transform=\"translate(0,0)\" x2=\"150\" y2=\"0\" stroke=\"#ddd\" stroke-width=\"1\" opacity=\"1\"/></g></g><path class=\"foreground\" aria-hidden=\"true\" d=\"\" pointer-events=\"none\" display=\"none\"/></g></g><g class=\"mark-group role-axis\" role=\"graphics-symbol\" aria-roledescription=\"axis\" aria-label=\"X-axis titled 'Potential temperature (K)' for a linear scale with values from 290 to 355\"><g transform=\"translate(0.5,300.5)\"><path class=\"background\" aria-hidden=\"true\" d=\"M0,0h0v0h0Z\" pointer-events=\"none\"/><g><g class=\"mark-rule role-axis-tick\" pointer-events=\"none\"><line transform=\"translate(23,0)\" x2=\"0\" y2=\"5\" stroke=\"#888\" stroke-width=\"1\" opacity=\"1\"/><line transform=\"translate(69,0)\" x2=\"0\" y2=\"5\" stroke=\"#888\" stroke-width=\"1\" opacity=\"1\"/><line transform=\"translate(115,0)\" x2=\"0\" y2=\"5\" stroke=\"#888\" stroke-width=\"1\" opacity=\"1\"/></g><g class=\"mark-text role-axis-label\" pointer-events=\"none\"><text text-anchor=\"middle\" transform=\"translate(23.076923076923077,15)\" font-family=\"sans-serif\" font-size=\"10px\" fill=\"#000\" opacity=\"1\">300</text><text text-anchor=\"middle\" transform=\"translate(69.23076923076924,15)\" font-family=\"sans-serif\" font-size=\"10px\" fill=\"#000\" opacity=\"1\">320</text><text text-anchor=\"middle\" transform=\"translate(115.38461538461539,15)\" font-family=\"sans-serif\" font-size=\"10px\" fill=\"#000\" opacity=\"1\">340</text></g><g class=\"mark-rule role-axis-domain\" pointer-events=\"none\"><line transform=\"translate(0,0)\" x2=\"150\" y2=\"0\" stroke=\"#888\" stroke-width=\"1\" opacity=\"1\"/></g><g class=\"mark-text role-axis-title\" pointer-events=\"none\"><text text-anchor=\"middle\" transform=\"translate(75,30)\" font-family=\"sans-serif\" font-size=\"11px\" font-weight=\"bold\" fill=\"#000\" opacity=\"1\">Potential temperature (K)</text></g></g><path class=\"foreground\" aria-hidden=\"true\" d=\"\" pointer-events=\"none\" display=\"none\"/></g></g><g class=\"mark-group role-axis\" role=\"graphics-symbol\" aria-roledescription=\"axis\" aria-label=\"Y-axis titled 'Height AGL (m)' for a linear scale with values from 0 to 10,000\"><g transform=\"translate(0.5,0.5)\"><path class=\"background\" aria-hidden=\"true\" d=\"M0,0h0v0h0Z\" pointer-events=\"none\"/><g><g class=\"mark-rule role-axis-tick\" pointer-events=\"none\"><line transform=\"translate(0,300)\" x2=\"-5\" y2=\"0\" stroke=\"#888\" stroke-width=\"1\" opacity=\"1\"/><line transform=\"translate(0,270)\" x2=\"-5\" y2=\"0\" stroke=\"#888\" stroke-width=\"1\" opacity=\"1\"/><line transform=\"translate(0,240)\" x2=\"-5\" y2=\"0\" stroke=\"#888\" stroke-width=\"1\" opacity=\"1\"/><line transform=\"translate(0,210)\" x2=\"-5\" y2=\"0\" stroke=\"#888\" stroke-width=\"1\" opacity=\"1\"/><line transform=\"translate(0,180)\" x2=\"-5\" y2=\"0\" stroke=\"#888\" stroke-width=\"1\" opacity=\"1\"/><line transform=\"translate(0,150)\" x2=\"-5\" y2=\"0\" stroke=\"#888\" stroke-width=\"1\" opacity=\"1\"/><line transform=\"translate(0,120)\" x2=\"-5\" y2=\"0\" stroke=\"#888\" stroke-width=\"1\" opacity=\"1\"/><line transform=\"translate(0,90)\" x2=\"-5\" y2=\"0\" stroke=\"#888\" stroke-width=\"1\" opacity=\"1\"/><line transform=\"translate(0,60)\" x2=\"-5\" y2=\"0\" stroke=\"#888\" stroke-width=\"1\" opacity=\"1\"/><line transform=\"translate(0,30)\" x2=\"-5\" y2=\"0\" stroke=\"#888\" stroke-width=\"1\" opacity=\"1\"/><line transform=\"translate(0,0)\" x2=\"-5\" y2=\"0\" stroke=\"#888\" stroke-width=\"1\" opacity=\"1\"/></g><g class=\"mark-text role-axis-label\" pointer-events=\"none\"><text text-anchor=\"end\" transform=\"translate(-7,303)\" font-family=\"sans-serif\" font-size=\"10px\" fill=\"#000\" opacity=\"1\">0</text><text text-anchor=\"end\" transform=\"translate(-7,273)\" font-family=\"sans-serif\" font-size=\"10px\" fill=\"#000\" opacity=\"1\">1,000</text><text text-anchor=\"end\" transform=\"translate(-7,243)\" font-family=\"sans-serif\" font-size=\"10px\" fill=\"#000\" opacity=\"1\">2,000</text><text text-anchor=\"end\" transform=\"translate(-7,213)\" font-family=\"sans-serif\" font-size=\"10px\" fill=\"#000\" opacity=\"1\">3,000</text><text text-anchor=\"end\" transform=\"translate(-7,183)\" font-family=\"sans-serif\" font-size=\"10px\" fill=\"#000\" opacity=\"1\">4,000</text><text text-anchor=\"end\" transform=\"translate(-7,153)\" font-family=\"sans-serif\" font-size=\"10px\" fill=\"#000\" opacity=\"1\">5,000</text><text text-anchor=\"end\" transform=\"translate(-7,123)\" font-family=\"sans-serif\" font-size=\"10px\" fill=\"#000\" opacity=\"1\">6,000</text><text text-anchor=\"end\" transform=\"translate(-7,93.00000000000001)\" font-family=\"sans-serif\" font-size=\"10px\" fill=\"#000\" opacity=\"1\">7,000</text><text text-anchor=\"end\" transform=\"translate(-7,62.999999999999986)\" font-family=\"sans-serif\" font-size=\"10px\" fill=\"#000\" opacity=\"1\">8,000</text><text text-anchor=\"end\" transform=\"translate(-7,32.99999999999999)\" font-family=\"sans-serif\" font-size=\"10px\" fill=\"#000\" opacity=\"1\">9,000</text><text text-anchor=\"end\" transform=\"translate(-7,3)\" font-family=\"sans-serif\" font-size=\"10px\" fill=\"#000\" opacity=\"1\">10,000</text></g><g class=\"mark-rule role-axis-domain\" pointer-events=\"none\"><line transform=\"translate(0,300)\" x2=\"0\" y2=\"-300\" stroke=\"#888\" stroke-width=\"1\" opacity=\"1\"/></g><g class=\"mark-text role-axis-title\" pointer-events=\"none\"><text text-anchor=\"middle\" transform=\"translate(-41.5859375,150) rotate(-90) translate(0,-2)\" font-family=\"sans-serif\" font-size=\"11px\" font-weight=\"bold\" fill=\"#000\" opacity=\"1\">Height AGL (m)</text></g></g><path class=\"foreground\" aria-hidden=\"true\" d=\"\" pointer-events=\"none\" display=\"none\"/></g></g><g class=\"mark-group role-scope pathgroup\" role=\"graphics-object\" aria-roledescription=\"group mark container\"><g transform=\"translate(0,0)\"><path class=\"background\" aria-hidden=\"true\" d=\"M0,0h150v300h-150Z\"/><g><g class=\"mark-line role-mark marks\" role=\"graphics-object\" aria-roledescription=\"line mark container\"><path aria-label=\"Potential temperature (K): 290.860687256; Height AGL (m): 7.39990234375; time_of_day: 0430; height: 7.39990234375\" role=\"graphics-symbol\" aria-roledescription=\"line mark\" d=\"M1.986,299.778L3.347,299.631L5.215,299.394L6.603,299.25L7.535,299.1L9.157,298.857L10.749,298.68L12.07,298.491L13.344,298.299L14.188,298.11L14.67,297.924L15.227,297.744L15.905,297.567L16.683,297.393L17.103,297.225L17.215,297.057L17.273,296.892L17.386,296.73L17.521,296.565L17.681,296.4L17.896,296.232L18.135,296.067L18.834,295.896L19.764,295.728L20.234,295.56L20.501,295.392L20.917,295.227L21.433,295.065L21.564,294.906L21.648,294.744L21.68,294.582L21.789,294.42L21.926,294.255L22.137,294.093L22.17,293.931L22.12,293.772L22.428,293.619L22.529,293.463L22.735,293.31L23.018,293.154L23.25,292.995L23.638,292.836L23.822,292.677L23.927,292.521L23.977,292.365L24.028,292.212L24.127,292.062L24.224,291.915L24.272,291.765L24.576,291.615L24.804,291.465L25.111,291.309L25.319,291.15L25.376,290.991L25.459,290.829L25.568,290.667L25.754,290.508L25.959,290.349L26.396,290.196L26.704,290.043L26.831,289.89L26.829,289.737L26.83,289.584L26.883,289.425L26.941,289.266L26.949,289.101L27.138,288.936L27.277,288.768L27.29,288.6L27.483,288.429L27.603,288.255L27.722,288.081L27.87,287.907L28.066,287.73L28.009,287.553L27.951,287.379L28.097,287.205L28.214,287.034L28.225,286.863L28.185,286.698L28.116,286.533L28.148,286.374L28.202,286.215L28.202,286.062L28.202,285.909L28.225,285.756L28.225,285.603L28.197,285.45L28.174,285.297L28.123,285.138L28.075,284.982L28.052,284.823L28.11,284.661L28.145,284.499L28.158,284.328L28.096,284.157L28.065,283.977L28.141,283.794L28.218,283.611L28.245,283.425L28.218,283.242L28.214,283.062L28.156,282.882L28.149,282.708L28.171,282.531L28.19,282.351L28.213,282.171L28.235,281.991L28.26,281.805L28.26,281.622L28.28,281.442L28.273,281.268L28.261,281.097L28.246,280.932L28.329,280.773L28.357,280.614L28.331,280.461L28.333,280.305L28.358,280.149L28.363,279.993L28.366,279.831L28.371,279.672L28.374,279.516L28.373,279.363L28.399,279.21L28.422,279.06L28.467,278.913L28.487,278.766L28.484,278.616L28.559,278.463L28.64,278.307L28.698,278.145L28.708,277.98L28.694,277.815L28.681,277.647L28.612,277.479L28.599,277.314L28.634,277.146L28.592,276.981L28.576,276.816L28.589,276.645L28.582,276.468L28.584,276.282L28.589,276.09L28.601,275.892L28.616,275.688L28.683,275.487L28.825,275.289L28.854,275.1L28.955,274.92L29.097,274.752L29.232,274.593L29.178,274.44L29.07,274.293L29.094,274.143L29.172,273.99L29.147,273.831L29.051,273.669L29.062,273.504L29.074,273.333L29.01,273.165L29.021,272.994L29.062,272.823L29.002,272.652L28.994,272.475L29.041,272.298L29.062,272.115L28.985,271.932L29.01,271.749L29.008,271.566L29.082,271.383L29.051,271.206L29.014,271.035L29.001,270.867L28.958,270.699L28.994,270.537L29.003,270.372L29.039,270.204L29.055,270.033L29.071,269.859L29.146,269.679L29.195,269.499L29.116,269.313L29.142,269.13L29.171,268.944L29.197,268.758L29.276,268.572L29.276,268.386L29.279,268.2L29.279,268.014L29.283,267.828L29.286,267.639L29.366,267.45L29.37,267.261L29.268,267.072L29.272,266.883L29.411,266.694L29.521,266.502L29.528,266.307L29.513,266.112L29.471,265.914L29.482,265.716L29.526,265.515L29.54,265.311L29.558,265.107L29.575,264.9L29.537,264.699L29.526,264.495L29.541,264.294L29.559,264.09L29.577,263.883L29.569,263.676L29.614,263.469L29.792,263.262L30.043,263.061L29.92,262.869L29.814,262.683L29.754,262.509L29.605,262.341L29.556,262.182L29.636,262.029L29.845,261.879L29.995,261.732L30.066,261.588L30.11,261.447L30.39,261.306L30.587,261.168L30.625,261.033L30.607,260.901L30.612,260.772L30.643,260.643L30.652,260.514L30.657,260.382L30.638,260.25L30.653,260.112L30.665,259.971L30.684,259.827L30.705,259.68L30.727,259.53L30.752,259.38L30.751,259.227L30.753,259.071L30.752,258.918L30.75,258.765L30.726,258.612L30.722,258.459L30.747,258.309L30.773,258.156L30.772,258.003L30.768,257.853L30.761,257.709L30.777,257.568L30.76,257.433L30.789,257.307L30.785,257.187L30.805,257.073L30.798,256.956L30.791,256.842L30.814,256.725L30.811,256.605L30.834,256.485L30.857,256.365L30.853,256.248L30.873,256.131L30.867,256.017L30.883,255.903L30.9,255.792L30.89,255.681L30.907,255.57L30.894,255.462L30.907,255.351L30.921,255.243L30.908,255.138L30.922,255.03L30.908,254.922L30.922,254.814L30.936,254.706L30.92,254.601L30.93,254.496L30.941,254.391L30.951,254.289L30.962,254.184L30.969,254.082L30.979,253.98L31.04,253.875L31.051,253.773L31.062,253.671L31.069,253.569L31.053,253.464L31.034,253.362L31.044,253.257L31.029,253.155L31.036,253.053L31.044,252.948L31.105,252.849L31.139,252.75L31.14,252.654L31.195,252.561L31.276,252.468L31.384,252.375L31.439,252.282L31.443,252.186L31.471,252.09L31.53,251.994L31.558,251.898L31.562,251.805L31.563,251.709L31.591,251.616L31.592,251.523L31.594,251.427L31.595,251.334L31.593,251.244L31.591,251.154L31.612,251.067L31.607,250.983L31.598,250.899L31.616,250.818L31.634,250.737L31.628,250.653L31.62,250.566L31.618,250.479L31.612,250.389L31.61,250.302L31.635,250.212L31.63,250.125L31.655,250.035L31.653,249.945L31.648,249.855L31.65,249.765L31.648,249.675L31.673,249.582L31.702,249.489L31.704,249.396L31.702,249.303L31.704,249.21L31.726,249.123L31.724,249.033L31.773,248.949L31.792,248.862L31.867,248.778L31.916,248.691L32.019,248.604L32.122,248.517L32.279,248.43L32.409,248.343L32.513,248.256L32.585,248.172L32.685,248.091L32.754,248.01L32.797,247.929L32.843,247.851L32.885,247.77L32.877,247.689L32.896,247.602L32.945,247.515L32.944,247.425L32.943,247.335L32.969,247.242L32.972,247.149L33.025,247.056L33.105,246.963L33.189,246.87L33.296,246.777L33.41,246.681L33.552,246.582L33.67,246.477L33.791,246.369L33.838,246.255L33.886,246.138L33.91,246.021L33.957,245.901L34.008,245.781L34.063,245.661L34.087,245.538L34.088,245.415L34.146,245.289L34.147,245.166L34.175,245.043L34.195,244.923L34.216,244.806L34.261,244.695L34.278,244.584L34.323,244.473L34.422,244.362L34.466,244.248L34.46,244.131L34.512,244.011L34.707,243.885L34.902,243.753L34.995,243.618L35.038,243.48L35.108,243.336L35.212,243.186L35.266,243.036L35.319,242.883L35.404,242.724L35.516,242.565L35.686,242.406L35.801,242.244L35.968,242.085L36.08,241.926L36.192,241.767L36.309,241.608L36.394,241.449L36.487,241.284L36.556,241.113L36.629,240.939L36.702,240.765L36.717,240.591L36.701,240.426L36.726,240.276L36.767,240.138L36.82,240.015L36.867,239.901L36.906,239.796L36.919,239.691L36.904,239.583L36.92,239.475L36.939,239.358L36.939,239.235L36.946,239.106L36.925,238.974L36.905,238.842L36.888,238.71L36.919,238.581L36.923,238.455L36.95,238.329L36.977,238.209L37.004,238.086L37.032,237.963L37.114,237.84L37.223,237.717L37.278,237.594L37.306,237.468L37.306,237.345L37.33,237.225L37.354,237.105L37.347,236.991L37.364,236.88L37.436,236.769L37.445,236.664L37.513,236.559L37.66,236.457L37.916,236.349L38.152,236.241L38.361,236.127L38.468,236.007L38.61,235.881L38.759,235.746L38.916,235.602L39.127,235.452L39.483,235.302L39.946,235.152L40.299,235.002L40.652,234.852L41.06,234.702L41.499,234.546L42.135,234.387L43.022,234.225L43.58,234.063L43.643,233.901L43.672,233.742L43.944,233.592L44.048,233.448L44.09,233.307L44.242,233.169L44.393,233.031L44.518,232.89L44.594,232.743L44.616,232.596L44.666,232.449L44.715,232.302L44.734,232.158L44.749,232.02L44.76,231.882L44.798,231.747L44.817,231.606L44.836,231.459L44.838,231.306L44.817,231.144L44.804,230.973L44.79,230.802L44.812,230.625L44.858,230.448L44.88,230.271L44.902,230.094L44.952,229.917L45.054,229.74L45.215,229.563L45.34,229.392L45.489,229.227L45.691,229.065L45.888,228.903L46.144,228.741L46.263,228.579L46.413,228.411L46.595,228.243L46.915,228.072L47.208,227.901L47.331,227.73L47.403,227.559L47.471,227.391L47.619,227.226L47.711,227.064L47.72,226.902L47.666,226.746L47.635,226.593L47.601,226.449L47.615,226.311L47.677,226.179L47.793,226.053L47.903,225.93L47.988,225.807L48.014,225.681L48.072,225.555L48.134,225.429L48.168,225.3L48.175,225.168L48.181,225.039L48.188,224.907L48.194,224.775L48.256,224.646L48.291,224.514L48.298,224.385L48.332,224.253L48.311,224.124L48.346,223.995L48.349,223.869L48.352,223.74L48.355,223.614L48.39,223.485L48.369,223.356L48.377,223.224L48.388,223.089L48.399,222.951L48.414,222.81L48.41,222.666L48.437,222.513L48.468,222.351L48.512,222.183L48.559,222.006L48.587,221.826L48.61,221.643L48.802,221.463L48.901,221.292L49.021,221.127L49.277,220.974L49.548,220.827L49.756,220.689L49.796,220.554L49.777,220.419L49.758,220.287L50.154,220.158L50.498,220.026L50.642,219.897L50.679,219.768L50.712,219.639L50.745,219.51L50.806,219.381L50.863,219.255L50.896,219.126L50.929,218.997L51.019,218.868L51.052,218.739L51.145,218.607L51.235,218.478L51.328,218.346L51.39,218.217L51.48,218.088L51.542,217.959L51.571,217.833L51.573,217.707L51.607,217.581L51.637,217.455L51.639,217.326L51.673,217.2L51.651,217.071L51.685,216.942L51.719,216.813L51.754,216.681L51.76,216.552L51.766,216.42L51.833,216.288L51.896,216.156L51.958,216.027L52.045,215.901L52.076,215.772L52.106,215.649L52.109,215.523L52.112,215.397L52.147,215.268L52.182,215.139L52.217,215.007L52.252,214.875L52.32,214.737L52.363,214.599L52.407,214.461L52.45,214.32L52.526,214.176L52.574,214.032L52.622,213.885L52.703,213.738L52.723,213.591L52.775,213.444L52.824,213.297L52.844,213.153L52.888,213.012L52.957,212.874L52.945,212.739L52.957,212.601L52.969,212.463L52.953,212.328L52.966,212.187L52.954,212.049L52.971,211.908L52.964,211.764L52.985,211.617L53.006,211.473L53.027,211.326L53.024,211.176L53.017,211.029L53.01,210.879L53.035,210.732L53.024,210.588L53.046,210.444L53.12,210.303L53.19,210.162L53.236,210.024L53.249,209.883L53.38,209.742L53.539,209.601L53.699,209.46L53.802,209.316L53.933,209.172L53.984,209.028L54.002,208.884L54.024,208.737L54.043,208.593L54.089,208.449L54.136,208.308L54.179,208.17L54.165,208.032L54.175,207.897L54.157,207.765L54.195,207.63L54.262,207.495L54.391,207.357L54.609,207.213L54.855,207.066L55.167,206.913L55.483,206.757L55.918,206.595L56.211,206.433L56.451,206.265L56.635,206.097L56.733,205.932L56.799,205.767L56.889,205.608L56.975,205.455L57.028,205.305L57.077,205.158L57.155,205.014L57.256,204.873L57.33,204.732L57.403,204.591L57.476,204.453L57.55,204.312L57.619,204.174L57.693,204.036L57.762,203.898L57.832,203.76L57.926,203.628L57.991,203.496L58.052,203.37L58.08,203.247L58.137,203.124L58.161,203.004L58.16,202.884L58.184,202.764L58.184,202.644L58.184,202.521L58.184,202.398L58.184,202.275L58.213,202.152L58.265,202.032L58.323,201.909L58.352,201.786L58.38,201.663L58.385,201.537L58.418,201.408L58.456,201.276L58.466,201.144L58.475,201.009L58.484,200.877L58.522,200.742L58.532,200.61L58.599,200.478L58.632,200.346L58.671,200.217L58.705,200.088L58.734,199.962L58.768,199.833L58.798,199.71L58.857,199.584L58.886,199.461L58.945,199.338L58.975,199.215L58.976,199.089L59.006,198.966L59.065,198.84L59.119,198.717L59.178,198.597L59.233,198.474L59.316,198.354L59.342,198.237L59.397,198.117L59.451,197.997L59.535,197.877L59.672,197.76L59.784,197.64L59.896,197.523L59.976,197.406L59.998,197.292L60.015,197.178L60.037,197.064L60.026,196.95L60.048,196.836L60.037,196.725L60.059,196.611L60.076,196.497L60.099,196.383L60.121,196.266L60.148,196.146L60.141,196.029L60.168,195.909L60.191,195.792L60.218,195.672L60.269,195.552L60.296,195.435L60.352,195.315L60.404,195.195L60.431,195.075L60.458,194.955L60.481,194.835L60.509,194.715L60.565,194.595L60.646,194.475L60.703,194.355L60.817,194.235L60.874,194.115L60.926,193.995L60.954,193.875L60.977,193.758L60.971,193.641L60.995,193.524L60.985,193.407L60.979,193.293L61.003,193.176L60.998,193.059L61.021,192.942L61.045,192.822L61.074,192.699L61.102,192.579L61.155,192.459L61.183,192.339L61.178,192.219L61.202,192.102L61.198,191.985L61.188,191.871L61.183,191.754L61.203,191.64L61.198,191.523L61.222,191.406L61.213,191.289L61.237,191.175L61.233,191.058L61.253,190.941L61.277,190.824L61.273,190.707L61.297,190.59L61.322,190.47L61.347,190.35L61.376,190.23L61.401,190.107L61.431,189.984L61.465,189.858L61.466,189.735L61.5,189.609L61.501,189.48L61.506,189.354L61.541,189.225L61.546,189.096L61.552,188.967L61.587,188.838L61.588,188.712L61.589,188.586L61.619,188.463L61.62,188.34L61.646,188.22L61.642,188.1L61.668,187.983L61.665,187.866L61.686,187.749L61.682,187.632L61.704,187.515L61.759,187.398L61.78,187.278L61.806,187.158L61.866,187.038L61.892,186.918L61.948,186.795L61.979,186.672L61.976,186.549L62.007,186.426L62.034,186.306L62.031,186.186L62.057,186.066L62.079,185.949L62.106,185.832L62.099,185.715L62.096,185.598L62.123,185.475L62.121,185.352L62.123,185.229L62.155,185.103L62.187,184.977L62.189,184.851L62.192,184.728L62.19,184.602L62.192,184.482L62.186,184.362L62.208,184.245L62.236,184.128L62.229,184.014L62.252,183.897L62.245,183.777L62.273,183.66L62.266,183.54L62.265,183.42L62.292,183.3L62.32,183.177L62.353,183.051L62.356,182.925L62.394,182.796L62.397,182.667L62.406,182.538L62.439,182.409L62.437,182.286L62.441,182.163L62.499,182.04L62.498,181.917L62.526,181.794L62.525,181.671L62.529,181.548L62.587,181.422L62.62,181.296L62.654,181.17L62.683,181.044L62.716,180.921L62.775,180.795L62.779,180.669L62.783,180.543L62.783,180.417L62.783,180.294L62.782,180.171L62.811,180.051L62.836,179.934L62.86,179.817L62.885,179.697L62.909,179.58L62.909,179.46L62.968,179.337L62.997,179.211L63.061,179.085L63.155,178.956L63.249,178.824L63.318,178.692L63.387,178.557L63.461,178.422L63.472,178.287L63.511,178.152L63.581,178.017L63.626,177.882L63.696,177.744L63.8,177.606L63.904,177.468L64.009,177.327L64.108,177.192L64.183,177.054L64.189,176.922L64.255,176.793L64.32,176.664L64.322,176.541L64.352,176.415L64.383,176.295L64.409,176.169L64.411,176.046L64.447,175.92L64.478,175.794L64.48,175.671L64.512,175.545L64.538,175.422L64.599,175.299L64.626,175.179L64.657,175.056L64.713,174.933L64.716,174.81L64.718,174.687L64.745,174.561L64.776,174.438L64.808,174.312L64.84,174.189L64.843,174.066L64.84,173.94L64.872,173.817L64.87,173.697L64.843,173.574L64.84,173.451L64.868,173.331L64.865,173.211L64.858,173.091L64.886,172.974L64.913,172.854L64.936,172.734L64.934,172.614L64.937,172.491L64.935,172.368L64.938,172.245L64.966,172.119L64.969,171.996L65.002,171.87L65,171.747L65.033,171.624L65.062,171.501L65.06,171.381L65.088,171.258L65.087,171.135L65.091,171.012L65.059,170.889L65.063,170.763L65.062,170.64L65.09,170.517L65.089,170.394L65.118,170.274L65.117,170.154L65.146,170.031L65.145,169.911L65.144,169.788L65.143,169.665L65.142,169.545L65.201,169.422L65.29,169.299L65.319,169.173L65.323,169.05L65.323,168.924L65.327,168.801L65.387,168.675L65.451,168.549L65.511,168.423L65.605,168.3L65.635,168.174L65.635,168.054L65.629,167.931L65.629,167.811L65.624,167.691L65.654,167.571L65.649,167.451L65.679,167.331L65.709,167.208L65.739,167.082L65.744,166.959L65.745,166.833L65.745,166.707L65.721,166.581L65.721,166.455L65.727,166.329L65.728,166.203L65.734,166.077L65.739,165.948L65.74,165.822L65.746,165.693L65.752,165.564L65.764,165.432L65.77,165.3L65.751,165.165L65.763,165.03L65.745,164.895L65.756,164.763L65.733,164.628L65.745,164.496L65.746,164.37L65.722,164.244L65.719,164.121L65.745,164.001L65.741,163.884L65.737,163.767L65.734,163.65L65.725,163.53L65.751,163.413L65.753,163.29L65.749,163.17L65.751,163.044L65.723,162.921L65.725,162.792L65.732,162.666L65.734,162.54L65.736,162.414L65.769,162.288L65.741,162.162L65.743,162.036L65.745,161.913L65.748,161.787L65.75,161.661L65.758,161.532L65.761,161.406L65.768,161.277L65.741,161.148L65.744,161.022L65.752,160.896L65.755,160.77L65.752,160.644L65.755,160.518L65.758,160.392L65.791,160.269L65.794,160.14L65.797,160.014L65.77,159.888L65.779,159.759L65.782,159.633L65.785,159.507L65.783,159.381L65.787,159.258L65.79,159.132L65.794,159.006L65.797,158.88L65.801,158.751L65.805,158.625L65.814,158.496L65.787,158.364L65.766,158.235L65.776,158.103L65.785,157.968L65.764,157.836L65.768,157.707L65.778,157.578L65.782,157.449L65.787,157.323L65.785,157.2L65.759,157.074L65.758,156.948L65.768,156.819L65.773,156.69L65.788,156.555L65.804,156.414L65.82,156.273L65.81,156.132L65.801,155.988L65.787,155.844L65.778,155.7L65.769,155.559L65.785,155.418L65.801,155.277L65.793,155.133L65.809,154.992L65.795,154.854L65.75,154.716L65.731,154.581L65.767,154.449L65.772,154.323L65.808,154.197L65.808,154.074L65.803,153.954L65.834,153.831L65.834,153.711L65.829,153.588L65.829,153.465L65.799,153.342L65.8,153.219L65.831,153.099L65.826,152.979L65.821,152.859L65.816,152.739L65.811,152.622L65.806,152.505L65.801,152.388L65.821,152.274L65.847,152.16L65.868,152.046L65.852,151.935L65.872,151.824L65.893,151.713L65.883,151.599L65.909,151.485L65.905,151.365L65.906,151.239L65.913,151.107L65.895,150.972L65.883,150.834L65.871,150.69L65.858,150.549L65.846,150.405L65.865,150.264L65.884,150.126L65.866,149.988L65.874,149.853L65.887,149.721L65.864,149.592L65.866,149.463L65.868,149.337L65.907,149.208L65.94,149.082L65.948,148.953L65.986,148.824L66.019,148.695L66.027,148.566L66.066,148.437L66.1,148.308L66.102,148.182L66.105,148.056L66.077,147.933L66.074,147.81L66.077,147.684L66.08,147.561L66.077,147.438L66.08,147.312L66.083,147.189L66.086,147.063L66.114,146.94L66.118,146.814L66.152,146.691L66.149,146.568L66.147,146.445L66.15,146.322L66.148,146.199L66.182,146.076L66.18,145.95L66.184,145.824L66.157,145.698L66.192,145.569L66.195,145.443L66.199,145.317L66.203,145.191L66.207,145.065L66.175,144.942L66.21,144.819L66.208,144.696L66.206,144.573L66.205,144.456L66.198,144.339L66.19,144.225L66.177,144.111L66.164,144L66.182,143.889L66.169,143.778L66.193,143.667L66.181,143.553L66.204,143.439L66.198,143.325L66.191,143.208L66.215,143.094L66.202,142.977L66.226,142.866L66.214,142.755L66.196,142.647L66.214,142.536L66.202,142.428L66.22,142.317L66.239,142.209L66.258,142.095L66.245,141.984L66.233,141.873L66.221,141.762L66.209,141.651L66.228,141.54L66.222,141.426L66.216,141.309L66.241,141.192L66.235,141.072L66.229,140.955L66.223,140.835L66.186,140.718L66.211,140.604L66.236,140.49L66.225,140.373L66.219,140.259L66.244,140.145L66.233,140.028L66.227,139.911L66.222,139.794L66.247,139.68L66.236,139.566L66.256,139.452L66.245,139.341L66.233,139.23L66.253,139.119L66.242,139.005L66.231,138.894L66.226,138.777L66.246,138.663L66.235,138.552L66.224,138.438L66.244,138.324L66.234,138.213L66.223,138.102L66.243,137.991L66.264,137.88L66.247,137.772L66.262,137.664L66.245,137.559L66.254,137.454L66.268,137.349L66.252,137.244L66.272,137.133L66.256,137.022L66.277,136.911L66.267,136.797L66.262,136.683L66.283,136.569L66.273,136.455L66.263,136.341L66.253,136.23L66.274,136.116L66.289,136.005L66.248,135.894L66.238,135.783L66.26,135.672L66.244,135.561L66.265,135.45L66.249,135.339L66.271,135.228L66.287,135.117L66.277,135.006L66.267,134.895L66.289,134.781L66.28,134.667L66.301,134.553L66.323,134.439L66.314,134.322L66.305,134.208L66.295,134.094L66.286,133.983L66.308,133.872L66.293,133.761L66.284,133.647L66.306,133.533L66.297,133.419L66.32,133.302L66.317,133.188L66.308,133.071L66.299,132.957L66.291,132.84L66.313,132.726L66.305,132.615L66.321,132.504L66.306,132.393L66.298,132.282L66.315,132.171L66.306,132.06L66.292,131.946L66.315,131.835L66.3,131.724L66.323,131.613L66.309,131.505L66.326,131.394L66.305,131.286L66.322,131.178L66.308,131.07L66.332,130.959L66.349,130.848L66.435,130.734L66.484,130.623L66.539,130.509L66.588,130.398L66.643,130.287L66.724,130.176L66.83,130.068L66.879,129.96L66.897,129.855L66.94,129.747L66.958,129.636L67.007,129.525L67.063,129.414L67.112,129.3L67.168,129.186L67.193,129.072L67.249,128.955L67.336,128.841L67.361,128.724L67.354,128.607L67.378,128.49L67.435,128.37L67.497,128.253L67.554,128.136L67.579,128.019L67.597,127.908L67.616,127.794L67.641,127.683L67.628,127.569L67.647,127.458L67.641,127.344L67.66,127.23L67.679,127.119L67.673,127.005L67.66,126.894L67.679,126.783L67.699,126.672L67.718,126.558L67.706,126.447L67.731,126.336L67.719,126.222L67.713,126.105L67.708,125.988L67.733,125.868L67.734,125.748L67.729,125.628L67.761,125.505L67.787,125.385L67.82,125.265L67.814,125.145L67.809,125.028L67.829,124.914L67.849,124.803L67.869,124.692L67.883,124.584L67.903,124.476L67.923,124.365L67.912,124.254L67.901,124.14L67.921,124.026L67.916,123.912L67.937,123.798L67.964,123.681L67.952,123.564L67.979,123.447L68.007,123.327L68.009,123.207L68.036,123.087L68.038,122.964L68.033,122.841L68.029,122.721L68.031,122.601L68.059,122.481L68.055,122.364L68.082,122.244L68.078,122.124L68.074,122.004L68.07,121.884L68.066,121.764L68.062,121.647L68.084,121.533L68.08,121.416L68.102,121.302L68.123,121.191L68.113,121.077L68.135,120.96L68.163,120.846L68.153,120.729L68.182,120.612L68.172,120.495L68.162,120.381L68.152,120.267L68.142,120.153L68.165,120.042L68.155,119.928L68.177,119.811L68.174,119.694L68.171,119.577L68.194,119.457L68.191,119.337L68.226,119.217L68.256,119.094L68.253,118.974L68.218,118.854L68.216,118.734L68.207,118.617L68.229,118.5L68.252,118.389L68.243,118.275L68.235,118.164L68.219,118.05L68.21,117.939L68.227,117.828L68.218,117.717L68.234,117.606L68.226,117.495L68.243,117.381L68.234,117.267L68.226,117.153L68.224,117.036L68.247,116.919L68.246,116.799L68.237,116.685L68.229,116.568L68.221,116.454L68.238,116.343L68.223,116.232L68.247,116.124L68.232,116.013L68.249,115.902L68.242,115.791L68.227,115.674L68.226,115.56L68.25,115.443L68.242,115.326L68.234,115.206L68.234,115.089L68.226,114.975L68.25,114.858L68.275,114.741L68.267,114.627L68.286,114.513L68.278,114.399L68.271,114.285L68.257,114.171L68.282,114.06L68.268,113.949L68.286,113.838L68.272,113.727L68.297,113.616L68.283,113.502L68.309,113.385L68.302,113.268L68.302,113.148L68.302,113.025L68.302,112.905L68.302,112.782L68.295,112.659L68.328,112.539L68.321,112.419L68.354,112.299L68.354,112.176L68.354,112.05L68.33,111.924L68.33,111.801L68.363,111.675L68.364,111.552L68.397,111.429L68.423,111.309L68.449,111.189L68.45,111.072L68.444,110.955L68.471,110.838L68.465,110.721L68.452,110.604L68.447,110.487L68.441,110.37L68.468,110.256L68.462,110.139L68.482,110.025L68.477,109.908L68.464,109.794L68.491,109.677L68.486,109.56L68.513,109.443L68.508,109.326L68.503,109.209L68.523,109.092L68.518,108.978L68.539,108.861L68.566,108.747L68.555,108.633L68.582,108.516L68.61,108.399L68.631,108.282L68.658,108.165L68.661,108.042L68.656,107.922L68.659,107.799L68.661,107.676L68.657,107.553L68.692,107.43L68.688,107.31L68.749,107.19L68.777,107.07L68.805,106.953L68.827,106.839L68.855,106.722L68.844,106.608L68.873,106.491L68.895,106.374L68.891,106.257L68.887,106.137L68.884,106.017L68.913,105.894L68.916,105.774L68.945,105.654L68.974,105.534L69.004,105.414L69,105.294L69.03,105.174L69.092,105.054L69.154,104.931L69.183,104.811L69.22,104.688L69.25,104.568L69.247,104.445L69.251,104.322L69.281,104.199L69.285,104.073L69.315,103.95L69.32,103.827L69.35,103.701L69.348,103.578L69.385,103.458L69.448,103.338L69.537,103.218L69.6,103.098L69.663,102.978L69.759,102.858L69.757,102.738L69.788,102.615L69.786,102.495L69.817,102.375L69.808,102.255L69.839,102.138L69.83,102.018L69.828,101.901L69.86,101.781L69.884,101.664L69.915,101.547L69.906,101.427L69.938,101.31L69.929,101.193L69.921,101.076L69.945,100.959L69.97,100.842L69.961,100.728L69.986,100.614L69.978,100.5L70.003,100.386L70.02,100.272L70.019,100.158L70.044,100.038L70.076,99.918L70.101,99.798L70.167,99.675L70.265,99.552L70.337,99.429L70.403,99.306L70.436,99.183L70.468,99.06L70.501,98.937L70.559,98.817L70.625,98.697L70.651,98.577L70.651,98.457L70.684,98.337L70.677,98.217L70.677,98.094L70.678,97.974L70.671,97.851L70.671,97.731L70.672,97.605L70.706,97.482L70.706,97.359L70.707,97.233L70.715,97.11L70.716,96.984L70.75,96.861L70.744,96.738L70.778,96.615L70.779,96.495L70.813,96.372L70.84,96.252L70.841,96.129L70.876,96.006L70.877,95.88L70.878,95.757L70.88,95.628L70.922,95.502L70.924,95.376L70.926,95.25L70.927,95.127L70.929,95.001L70.931,94.875L70.933,94.752L70.968,94.626L70.97,94.5L70.98,94.374L70.982,94.248L70.977,94.122L71.013,93.999L71.015,93.879L71.043,93.756L71.071,93.636L71.107,93.516L71.102,93.393L71.105,93.27L71.108,93.144L71.111,93.018L71.114,92.892L71.117,92.769L71.146,92.646L71.141,92.526L71.137,92.409L71.133,92.289L71.128,92.169L71.198,92.049L71.26,91.929L71.29,91.806L71.326,91.683L71.422,91.563L71.452,91.44L71.522,91.32L71.651,91.197L71.681,91.074L71.718,90.951L71.715,90.828L71.752,90.708L71.782,90.585L71.779,90.465L71.809,90.345L71.839,90.225L71.836,90.108L71.899,89.985L71.896,89.862L71.934,89.739L71.965,89.613L72.003,89.49L72.041,89.364L72.079,89.238L72.077,89.112L72.082,88.989L72.113,88.863L72.118,88.737L72.123,88.614L72.154,88.488L72.152,88.365L72.191,88.242L72.222,88.119L72.261,87.993L72.226,87.87L72.231,87.744L72.237,87.618L72.269,87.492L72.275,87.366L72.307,87.24L72.321,87.111L72.327,86.979L72.341,86.847L72.347,86.712L72.395,86.58L72.409,86.445L72.382,86.313L72.389,86.181L72.403,86.049L72.41,85.92L72.45,85.788L72.457,85.659L72.431,85.53L72.438,85.401L72.479,85.275L72.478,85.149L72.485,85.023L72.518,84.894L72.5,84.765L72.474,84.63L72.489,84.492L72.513,84.351L72.536,84.204L72.534,84.057L72.49,83.907L72.488,83.757L72.512,83.61L72.503,83.466L72.527,83.325L72.509,83.187L72.551,83.052L72.559,82.92L72.568,82.791L72.576,82.662L72.577,82.536L72.586,82.41L72.654,82.284L72.688,82.161L72.689,82.035L72.698,81.909L72.666,81.783L72.667,81.657L72.668,81.531L72.669,81.408L72.67,81.282L72.672,81.159L72.673,81.039L72.7,80.919L72.702,80.799L72.729,80.679L72.757,80.559L72.75,80.442L72.752,80.322L72.78,80.202L72.774,80.085L72.768,79.965L72.762,79.848L72.789,79.731L72.784,79.617L72.77,79.503L72.764,79.389L72.784,79.275L72.812,79.161L72.798,79.047L72.793,78.93L72.821,78.813L72.815,78.693L72.818,78.573L72.813,78.45L72.807,78.33L72.836,78.21L72.839,78.093L72.86,77.976L72.855,77.856L72.85,77.739L72.845,77.622L72.84,77.505L72.869,77.388L72.864,77.271L72.859,77.151L72.889,77.031L72.884,76.911L72.879,76.791L72.883,76.668L72.879,76.548L72.908,76.425L72.946,76.302L72.95,76.176L72.954,76.05L72.958,75.921L72.929,75.792L72.907,75.66L72.92,75.528L72.966,75.396L72.937,75.264L72.915,75.132L72.92,75.003L72.925,74.877L72.929,74.751L72.96,74.628L72.957,74.508L72.953,74.388L72.958,74.265L72.989,74.145L72.986,74.022L72.949,73.899L72.954,73.776L72.985,73.653L72.982,73.53L72.988,73.407L72.985,73.287L72.982,73.164L72.979,73.044L72.977,72.924L72.974,72.801L73.006,72.681L73.003,72.558L73.009,72.438L73.041,72.315L73.039,72.195L73.037,72.072L73.035,71.952L73.032,71.832L73.03,71.709L73.028,71.589L73.027,71.466L73.059,71.346L73.057,71.223L73.055,71.103L73.045,70.983L73.078,70.863L73.076,70.743L73.075,70.623L73.074,70.5L73.072,70.38L73.071,70.26L73.061,70.14L73.06,70.02L73.05,69.903L73.084,69.789L73.109,69.672L73.099,69.558L73.158,69.444L73.175,69.33L73.2,69.219L73.225,69.105L73.25,68.994L73.276,68.88L73.327,68.766L73.387,68.649L73.412,68.535L73.438,68.421L73.463,68.31L73.489,68.196L73.506,68.082L73.497,67.971L73.523,67.86L73.506,67.746L73.532,67.635L73.515,67.521L73.507,67.41L73.533,67.296L73.516,67.182L73.508,67.071L73.5,66.957L73.491,66.843L73.509,66.729L73.536,66.612L73.562,66.498L73.554,66.381L73.547,66.264L73.573,66.147L73.6,66.033L73.593,65.916L73.62,65.805L73.638,65.691L73.63,65.58L73.649,65.466L73.676,65.352L73.738,65.238L73.765,65.121L73.793,65.007L73.786,64.89L73.813,64.77L73.806,64.653L73.834,64.536L73.862,64.419L73.889,64.302L73.883,64.188L73.902,64.074L73.895,63.96L73.889,63.846L73.873,63.732L73.901,63.615L73.93,63.501L73.949,63.384L74.012,63.27L74.006,63.153L74,63.033L73.994,62.916L74.031,62.796L74.095,62.679L74.123,62.562L74.213,62.445L74.311,62.331L74.366,62.217L74.43,62.103L74.45,61.992L74.505,61.878L74.639,61.764L74.903,61.65L75.35,61.536L75.683,61.422L75.991,61.308L76.334,61.191L76.538,61.071L76.707,60.954L76.903,60.834L77.177,60.717L77.555,60.6L78.029,60.486L78.478,60.372L78.744,60.258L79.01,60.144L79.389,60.03L79.795,59.916L80.131,59.802L80.328,59.691L80.524,59.577L80.8,59.46L81.102,59.346L81.343,59.229L81.541,59.112L81.747,58.995L81.919,58.875L82.126,58.755L82.298,58.635L82.366,58.512L82.468,58.392L82.606,58.269L82.848,58.146L83.126,58.023L83.378,57.9L83.621,57.777L83.864,57.651L84.151,57.528L84.36,57.405L84.559,57.285L84.768,57.171L84.897,57.054L85.027,56.943L85.147,56.832L85.347,56.721L85.643,56.61L86.159,56.502L86.735,56.394L87.137,56.283L87.372,56.178L87.529,56.07L87.755,55.959L88.087,55.851L88.429,55.74L88.525,55.626L88.586,55.512L88.647,55.395L88.673,55.278L88.77,55.161L88.876,55.044L88.973,54.924L89.104,54.807L89.211,54.69L89.308,54.573L89.37,54.459L89.422,54.345L89.484,54.231L89.546,54.117L89.564,54.006L89.591,53.892L89.653,53.778L89.68,53.664L89.698,53.553L89.716,53.442L89.769,53.331L89.832,53.223L89.885,53.115L89.939,53.007L89.992,52.896L90.081,52.785L90.144,52.671L90.277,52.557L90.411,52.443L90.571,52.329L90.74,52.215L90.829,52.104L90.848,51.996L90.902,51.888L90.956,51.783L91.107,51.678L91.196,51.573L91.276,51.468L91.296,51.363L91.279,51.255L91.334,51.144L91.389,51.033L91.524,50.919L91.614,50.802L91.714,50.685L91.788,50.565L91.853,50.445L91.918,50.325L91.982,50.205L92.047,50.088L92.183,49.971L92.355,49.854L92.455,49.74L92.476,49.626L92.505,49.512L92.49,49.398L92.511,49.287L92.541,49.173L92.597,49.059L92.627,48.942L92.693,48.825L92.759,48.708L92.825,48.588L92.856,48.468L92.922,48.351L92.988,48.231L93.019,48.114L93.04,48L93.097,47.886L93.128,47.775L93.185,47.661L93.242,47.55L93.274,47.433L93.33,47.316L93.362,47.199L93.394,47.079L93.461,46.959L93.492,46.839L93.56,46.722L93.592,46.602L93.695,46.485L93.788,46.368L93.856,46.251L93.914,46.137L93.946,46.02L94.004,45.903L94.107,45.789L94.247,45.669L94.376,45.552L94.551,45.432L94.691,45.312L94.795,45.195L94.864,45.075L94.958,44.958L95.063,44.841L95.157,44.724L95.216,44.613L95.275,44.502L95.299,44.394L95.312,44.286L95.336,44.175L95.349,44.067L95.373,43.953L95.361,43.842L95.395,43.725L95.419,43.611L95.478,43.497L95.584,43.38L95.644,43.263L95.668,43.149L95.738,43.032L95.798,42.918L95.822,42.807L95.872,42.693L95.897,42.582L95.957,42.471L96.017,42.357L96.078,42.24L96.113,42.123L96.138,42.006L96.173,41.886L96.162,41.769L96.233,41.652L96.366,41.535L96.427,41.421L96.452,41.307L96.477,41.193L96.503,41.079L96.564,40.965L96.672,40.848L96.805,40.731L96.974,40.617L97.144,40.5L97.252,40.383L97.385,40.266L97.483,40.149L97.545,40.035L97.572,39.921L97.598,39.81L97.614,39.696L97.64,39.585L97.692,39.474L97.755,39.363L97.818,39.252L97.87,39.141L97.933,39.027L98.031,38.913L98.166,38.799L98.265,38.685L98.4,38.571L98.453,38.457L98.553,38.343L98.652,38.229L98.787,38.115L98.913,38.004L99.012,37.893L99.102,37.782L99.238,37.671L99.337,37.557L99.355,37.443L99.383,37.329L99.375,37.215L99.356,37.104L99.385,36.993L99.438,36.882L99.456,36.774L99.51,36.663L99.575,36.552L99.593,36.441L99.621,36.33L99.686,36.213L99.741,36.099L99.78,35.979L99.845,35.862L99.91,35.742L100.048,35.622L100.232,35.505L100.406,35.388L100.533,35.271L100.635,35.157L100.701,35.043L100.767,34.926L100.833,34.806L100.898,34.686L100.939,34.563L101.016,34.437L101.082,34.314L101.195,34.188L101.309,34.068L101.411,33.945L101.55,33.825L101.773,33.705L102.057,33.585L102.306,33.462L102.482,33.342L102.741,33.222L103.135,33.102L103.457,32.982L103.67,32.862L103.846,32.739L103.961,32.619L104.029,32.496L104.108,32.373L104.213,32.25L104.281,32.127L104.323,32.007L104.465,31.884L104.606,31.761L104.784,31.641L104.972,31.518L105.114,31.398L105.219,31.281L105.35,31.161L105.565,31.044L105.743,30.924L105.922,30.804L106.137,30.684L106.4,30.558L106.579,30.435L106.733,30.309L106.876,30.183L106.957,30.057L107.027,29.931L107.108,29.811L107.167,29.691L107.201,29.571L107.235,29.454L107.258,29.337L107.329,29.217L107.4,29.097L107.445,28.974L107.479,28.848L107.551,28.725L107.596,28.599L107.631,28.473L107.677,28.347L107.748,28.221L107.82,28.095L107.902,27.972L108.12,27.846L108.35,27.72L108.532,27.591L108.688,27.465L108.833,27.339L108.953,27.21L109.147,27.081L109.403,26.955L109.633,26.826L109.743,26.7L109.852,26.577L109.925,26.454L110.035,26.331L110.181,26.211L110.365,26.091L110.5,25.971L110.647,25.854L110.783,25.737L110.967,25.617L111.103,25.497L111.213,25.377L111.287,25.251L111.373,25.125L111.484,24.996L111.643,24.867L111.865,24.738L112.024,24.612L112.136,24.486L112.248,24.36L112.322,24.237L112.397,24.114L112.509,23.991L112.573,23.868L112.649,23.745L112.798,23.625L112.935,23.508L113.158,23.388L113.333,23.271L113.508,23.154L113.72,23.04L113.969,22.923L114.366,22.809L114.762,22.692L114.938,22.578L115.04,22.458L115.154,22.338L115.293,22.218L115.518,22.095L115.779,21.972L116.066,21.846L116.366,21.723L116.739,21.594L117.419,21.468L117.941,21.339L118.351,21.213L118.688,21.087L119.026,20.964L119.352,20.841L119.689,20.718L120.015,20.595L120.231,20.475L120.384,20.352L120.5,20.229L120.716,20.103L120.981,19.974L121.22,19.848L121.374,19.719L121.491,19.587L121.645,19.458L121.837,19.329L122.102,19.203L122.368,19.077L122.548,18.954L122.703,18.831L122.809,18.708L122.964,18.585L123.145,18.462L123.337,18.336L123.481,18.21L123.562,18.084L123.644,17.958L123.725,17.832L123.758,17.706L123.84,17.58L123.947,17.457L124.178,17.337L124.508,17.217L124.802,17.097L124.947,16.977L125.054,16.857L125.125,16.737L125.196,16.617L125.266,16.497L125.375,16.377L125.52,16.254L125.74,16.134L125.96,16.014L126.106,15.894L126.14,15.774L126.175,15.651L126.246,15.531L126.318,15.411L126.39,15.291L126.462,15.174L126.522,15.054L126.594,14.934L126.628,14.814L126.701,14.694L126.736,14.571L126.771,14.451L126.856,14.328L126.891,14.202L126.964,14.079L126.999,13.959L127.072,13.836L127.182,13.713L127.405,13.59L127.815,13.467L128.262,13.347L128.673,13.224L128.971,13.104L129.195,12.981L129.418,12.861L129.754,12.738L130.353,12.615L130.914,12.492L131.326,12.369L131.663,12.246L132.038,12.123L132.338,12.003L132.638,11.883L132.976,11.76L133.314,11.637L133.653,11.514L133.991,11.388L134.292,11.262L134.594,11.136L134.908,11.007L135.172,10.881L135.324,10.752L135.488,10.626L135.678,10.497L135.83,10.371L135.919,10.242L135.996,10.116L136.074,9.99L136.189,9.864L136.304,9.741L136.419,9.615L136.534,9.495L136.674,9.372L136.903,9.249L137.169,9.126L137.398,9.003L137.589,8.877L137.856,8.751L138.198,8.622L138.579,8.496L138.884,8.367L139.076,8.241L139.192,8.118L139.347,7.998L139.451,7.878L139.48,7.758L139.522,7.641L139.513,7.521L139.504,7.404L139.571,7.284L139.689,7.164L139.832,7.044L139.987,6.924L140.13,6.801L140.248,6.678L140.404,6.552L140.523,6.426L140.717,6.3L140.936,6.174L141.13,6.051L141.401,5.928L141.696,5.808L141.915,5.688L142.186,5.565L142.406,5.442L142.526,5.319L142.595,5.196L142.714,5.076L142.783,4.953L142.852,4.836L142.884,4.716L142.915,4.599L143.06,4.482L143.205,4.368L143.426,4.251L143.686,4.137L143.97,4.02L144.23,3.903L144.565,3.786L145.015,3.669L145.541,3.546L146.042,3.423L146.341,3.3L146.615,3.174L146.838,3.051L147.074,2.928L147.222,2.805L147.344,2.682L147.454,2.559L147.563,2.436L147.648,2.313L147.72,2.19L147.753,2.064L147.839,1.941L147.911,1.818L147.958,1.695L148.03,1.572L148.179,1.449L148.289,1.326L148.413,1.203L148.524,1.083L148.634,0.963L148.694,0.846L148.766,0.729L148.801,0.612L148.822,0.495L148.819,0.375L148.906,0.252L148.979,0.129\" stroke=\"#4c78a8\" stroke-width=\"2\"/></g></g><path class=\"foreground\" aria-hidden=\"true\" d=\"\" display=\"none\"/></g><g transform=\"translate(0,0)\"><path class=\"background\" aria-hidden=\"true\" d=\"M0,0h150v300h-150Z\"/><g><g class=\"mark-line role-mark marks\" role=\"graphics-object\" aria-roledescription=\"line mark container\"><path aria-label=\"Potential temperature (K): 304.513549805; Height AGL (m): 7.39990234375; time_of_day: 1630; height: 7.39990234375\" role=\"graphics-symbol\" aria-roledescription=\"line mark\" d=\"M33.493,299.778L33.883,299.703L34.854,299.535L35.343,299.373L35.606,299.178L35.951,299.004L36.448,298.833L36.962,298.638L37.164,298.455L37.163,298.272L37.236,298.089L37.258,297.909L37.379,297.729L37.5,297.555L37.593,297.381L37.61,297.207L37.576,297.03L37.545,296.853L37.542,296.673L37.59,296.49L37.616,296.307L37.611,296.127L37.555,295.947L37.524,295.77L37.641,295.599L37.757,295.425L37.797,295.254L37.815,295.08L37.782,294.903L37.778,294.723L37.827,294.54L37.8,294.36L37.821,294.177L37.867,294L37.908,293.829L37.896,293.658L37.982,293.493L38.015,293.331L38.016,293.175L38.015,293.022L38.011,292.875L38.001,292.731L38.014,292.59L38.027,292.455L37.986,292.317L38.022,292.182L38.009,292.044L37.92,291.903L37.811,291.756L37.759,291.609L37.784,291.456L37.86,291.3L37.939,291.144L37.967,290.988L37.867,290.829L37.742,290.673L37.642,290.517L37.647,290.358L37.656,290.193L37.698,290.019L37.693,289.839L37.671,289.65L37.651,289.458L37.658,289.266L37.636,289.077L37.662,288.891L37.711,288.708L37.758,288.531L37.747,288.357L37.711,288.186L37.72,288.021L37.755,287.856L37.788,287.694L37.766,287.535L37.769,287.379L37.767,287.223L37.768,287.073L37.789,286.923L37.807,286.776L37.85,286.635L37.911,286.5L37.969,286.368L38.023,286.242L38.047,286.119L38.044,285.999L38.042,285.879L38.039,285.762L38.063,285.642L38.06,285.522L38.055,285.402L38.053,285.282L38.076,285.162L38.074,285.042L38.095,284.925L38.09,284.808L38.108,284.697L38.097,284.586L38.086,284.475L38.072,284.37L38.055,284.265L38.064,284.16L38.076,284.055L38.062,283.947L38.051,283.839L38.044,283.725L38.039,283.605L38.037,283.485L38.042,283.359L38.02,283.23L38.031,283.095L38.067,282.957L38.054,282.819L38.068,282.678L38.056,282.54L38.069,282.402L38.08,282.264L38.119,282.126L38.11,281.982L38.104,281.838L38.101,281.685L38.127,281.529L38.108,281.37L38.114,281.208L38.1,281.04L38.087,280.872L38.051,280.698L38.04,280.527L38.03,280.353L38.069,280.185L38.081,280.017L38.062,279.855L38.066,279.696L38.067,279.54L38.091,279.39L38.115,279.237L38.116,279.084L38.12,278.922L38.081,278.754L38.098,278.58L38.092,278.403L38.062,278.22L38.033,278.04L38.053,277.863L38.07,277.692L38.081,277.524L38.063,277.359L38.041,277.2L38.046,277.041L38.08,276.879L38.089,276.714L38.126,276.546L38.117,276.372L38.086,276.192L38.058,276.009L38.055,275.829L38.024,275.652L38.007,275.487L38.035,275.331L38.052,275.19L38.059,275.055L38.063,274.929L38.061,274.809L38.059,274.686L38.056,274.566L38.058,274.443L38.062,274.317L38.063,274.188L38.041,274.062L38.019,273.936L38.017,273.81L38.045,273.69L38.04,273.57L38.064,273.447L38.066,273.324L38.07,273.198L38.049,273.066L38.06,272.934L38.045,272.793L38.036,272.652L38.027,272.508L38.018,272.364L38.039,272.22L38.03,272.073L38.051,271.926L38.045,271.776L38.072,271.626L38.102,271.467L38.113,271.302L38.1,271.131L38.065,270.957L38.026,270.786L38.037,270.618L38.071,270.456L38.102,270.297L38.156,270.138L38.164,269.979L38.145,269.814L38.133,269.646L38.099,269.469L38.096,269.289L38.094,269.103L38.098,268.914L38.129,268.725L38.133,268.536L38.138,268.347L38.163,268.161L38.158,267.984L38.147,267.813L38.156,267.648L38.158,267.489L38.158,267.336L38.131,267.186L38.124,267.036L38.094,266.886L38.094,266.736L38.117,266.586L38.116,266.433L38.146,266.277L38.149,266.118L38.158,265.953L38.168,265.788L38.181,265.617L38.171,265.443L38.191,265.269L38.181,265.095L38.171,264.921L38.184,264.753L38.218,264.591L38.248,264.432L38.245,264.279L38.217,264.129L38.158,263.982L38.119,263.841L38.134,263.703L38.142,263.568L38.123,263.439L38.098,263.313L38.073,263.187L38.075,263.064L38.077,262.941L38.075,262.815L38.103,262.692L38.181,262.572L38.282,262.455L38.35,262.341L38.392,262.233L38.457,262.125L38.522,262.023L38.531,261.918L38.513,261.813L38.525,261.708L38.511,261.6L38.527,261.492L38.516,261.381L38.502,261.273L38.517,261.162L38.533,261.054L38.496,260.943L38.458,260.832L38.424,260.718L38.417,260.604L38.406,260.49L38.425,260.376L38.471,260.262L38.464,260.148L38.463,260.028L38.463,259.902L38.442,259.773L38.448,259.644L38.457,259.509L38.473,259.371L38.49,259.227L38.483,259.08L38.456,258.927L38.455,258.774L38.455,258.621L38.422,258.474L38.438,258.33L38.448,258.198L38.481,258.069L38.508,257.94L38.511,257.814L38.518,257.685L38.501,257.55L38.488,257.415L38.449,257.274L38.432,257.139L38.439,257.007L38.443,256.878L38.467,256.758L38.49,256.641L38.537,256.524L38.558,256.407L38.555,256.287L38.582,256.164L38.613,256.038L38.617,255.909L38.628,255.774L38.665,255.639L38.676,255.501L38.721,255.36L38.765,255.213L38.763,255.063L38.761,254.91L38.789,254.754L38.821,254.598L38.822,254.442L38.877,254.289L38.925,254.136L39,253.989L39.156,253.842L39.225,253.701L39.186,253.56L39.014,253.422L38.865,253.284L38.793,253.152L38.852,253.023L38.961,252.897L39.02,252.768L39.052,252.636L39.01,252.504L38.969,252.363L38.934,252.222L39.007,252.075L39.133,251.928L39.421,251.784L39.788,251.64L40.069,251.502L40.32,251.367L40.514,251.238L40.65,251.112L40.757,250.989L40.84,250.86L40.819,250.731L40.802,250.599L40.782,250.467L40.795,250.332L40.832,250.194L40.845,250.059L40.859,249.918L40.875,249.78L40.889,249.639L40.929,249.501L40.993,249.366L41.027,249.231L41.088,249.102L41.118,248.976L41.199,248.853L41.256,248.727L41.286,248.601L41.263,248.472L41.247,248.337L41.234,248.196L41.252,248.055L41.354,247.908L41.459,247.758L41.515,247.602L41.52,247.443L41.555,247.278L41.618,247.116L41.735,246.951L41.821,246.789L41.88,246.63L41.886,246.471L41.888,246.315L41.859,246.159L41.862,246.003L41.864,245.847L41.893,245.691L41.896,245.535L41.898,245.379L41.897,245.226L41.923,245.073L41.953,244.92L41.925,244.764L41.931,244.605L41.988,244.446L42.13,244.287L42.241,244.128L42.302,243.969L42.332,243.81L42.336,243.651L42.393,243.495L42.424,243.336L42.458,243.177L42.519,243.015L42.581,242.85L42.646,242.688L42.708,242.523L42.8,242.358L42.862,242.193L42.927,242.028L43.047,241.86L43.144,241.689L43.213,241.518L43.259,241.344L43.332,241.167L43.379,240.996L43.418,240.825L43.43,240.66L43.489,240.498L43.576,240.339L43.659,240.183L43.769,240.03L43.825,239.874L43.885,239.715L43.948,239.553L43.93,239.385L43.923,239.211L43.916,239.031L43.916,238.848L43.92,238.659L43.921,238.473L43.952,238.284L43.98,238.098L44.005,237.918L44.076,237.744L44.117,237.576L44.155,237.411L44.267,237.252L44.379,237.096L44.487,236.943L44.596,236.79L44.701,236.64L44.783,236.49L44.833,236.337L44.915,236.184L45.055,236.028L45.25,235.869L45.531,235.707L45.785,235.545L45.933,235.38L46.046,235.218L46.187,235.062L46.325,234.909L46.431,234.759L46.503,234.615L46.547,234.471L46.592,234.33L46.609,234.189L46.65,234.051L46.718,233.913L46.783,233.778L46.851,233.64L46.892,233.502L46.902,233.367L46.944,233.226L46.989,233.085L47.014,232.935L47.043,232.779L47.111,232.611L47.21,232.437L47.317,232.257L47.475,232.08L47.602,231.906L47.69,231.744L47.748,231.591L47.817,231.45L47.828,231.315L47.859,231.186L47.863,231.06L47.89,230.937L47.973,230.817L48.189,230.697L48.543,230.577L49.007,230.46L49.389,230.34L49.661,230.22L49.881,230.094L50.078,229.968L50.334,229.836L50.567,229.701L50.669,229.557L50.772,229.41L50.882,229.254L50.969,229.098L51.083,228.939L51.166,228.783L51.273,228.633L51.404,228.489L51.472,228.351L51.564,228.219L51.707,228.09L51.909,227.958L52.108,227.826L52.232,227.691L52.304,227.55L52.349,227.406L52.425,227.259L52.529,227.112L52.665,226.965L52.742,226.818L52.787,226.674L52.805,226.53L52.878,226.389L52.978,226.248L53.131,226.107L53.224,225.969L53.293,225.834L53.335,225.696L53.373,225.561L53.411,225.426L53.473,225.294L53.512,225.162L53.518,225.03L53.525,224.901L53.532,224.769L53.539,224.64L53.541,224.511L53.548,224.382L53.524,224.253L53.531,224.127L53.561,223.998L53.569,223.869L53.572,223.743L53.579,223.611L53.586,223.482L53.594,223.347L53.605,223.212L53.588,223.077L53.572,222.939L53.588,222.801L53.603,222.663L53.619,222.522L53.61,222.375L53.606,222.228L53.602,222.078L53.602,221.925L53.602,221.772L53.602,221.619L53.602,221.466L53.598,221.313L53.594,221.163L53.595,221.013L53.563,220.863L53.56,220.713L53.584,220.563L53.608,220.413L53.629,220.266L53.625,220.119L53.618,219.969L53.615,219.819L53.616,219.666L53.613,219.513L53.586,219.363L53.611,219.213L53.604,219.063L53.593,218.919L53.61,218.778L53.627,218.64L53.613,218.502L53.598,218.364L53.611,218.226L53.629,218.082L53.622,217.938L53.644,217.788L53.618,217.635L53.619,217.479L53.649,217.323L53.683,217.164L53.685,217.005L53.66,216.849L53.662,216.696L53.684,216.549L53.726,216.408L53.768,216.27L53.806,216.135L53.817,216.003L53.851,215.871L53.889,215.739L53.899,215.604L53.91,215.469L53.92,215.334L53.935,215.196L53.95,215.058L53.936,214.914L53.955,214.773L54.002,214.629L53.993,214.485L54.012,214.341L54.032,214.197L54.051,214.053L54.046,213.906L54.094,213.759L54.173,213.615L54.277,213.468L54.353,213.321L54.433,213.177L54.481,213.03L54.529,212.886L54.601,212.742L54.677,212.601L54.721,212.457L54.826,212.313L54.874,212.169L54.871,212.022L54.895,211.869L54.924,211.719L54.949,211.566L55.002,211.413L55.087,211.263L55.14,211.113L55.165,210.963L55.162,210.81L55.191,210.654L55.225,210.498L55.287,210.339L55.405,210.177L55.528,210.012L55.707,209.847L55.859,209.685L55.949,209.523L56.036,209.367L56.095,209.214L56.116,209.064L56.167,208.917L56.217,208.773L56.206,208.626L56.2,208.482L56.218,208.341L56.232,208.2L56.246,208.062L56.284,207.93L56.322,207.798L56.323,207.672L56.329,207.543L56.33,207.417L56.364,207.288L56.37,207.159L56.38,207.024L56.423,206.889L56.437,206.748L56.46,206.604L56.451,206.457L56.478,206.307L56.502,206.157L56.553,206.007L56.609,205.857L56.633,205.707L56.661,205.557L56.684,205.404L56.684,205.251L56.712,205.098L56.74,204.945L56.797,204.792L56.797,204.639L56.825,204.483L56.858,204.327L56.919,204.168L56.985,204.006L57.079,203.841L57.183,203.67L57.257,203.496L57.332,203.322L57.44,203.142L57.576,202.965L57.713,202.788L57.793,202.611L57.844,202.434L57.891,202.26L57.91,202.086L57.924,201.915L57.911,201.744L57.892,201.579L57.898,201.42L57.928,201.267L57.979,201.12L58.024,200.976L58.037,200.841L58.05,200.703L58.092,200.568L58.109,200.427L58.127,200.283L58.153,200.133L58.156,199.974L58.167,199.812L58.125,199.641L58.112,199.467L58.133,199.293L58.153,199.119L58.222,198.951L58.291,198.786L58.384,198.627L58.531,198.468L58.739,198.306L58.976,198.144L59.275,197.976L59.522,197.805L59.658,197.628L59.679,197.451L59.648,197.271L59.56,197.088L59.558,196.905L59.589,196.716L59.595,196.527L59.549,196.329L59.508,196.128L59.442,195.924L59.401,195.717L59.36,195.519L59.368,195.327L59.424,195.141L59.5,194.97L59.543,194.802L59.548,194.643L59.582,194.484L59.587,194.325L59.621,194.163L59.631,194.001L59.641,193.836L59.656,193.665L59.642,193.494L59.633,193.32L59.628,193.143L59.676,192.966L59.734,192.786L59.734,192.6L59.739,192.408L59.753,192.21L59.747,192.003L59.746,191.784L59.731,191.559L59.748,191.325L59.742,191.085L59.707,190.845L59.696,190.608L59.686,190.374L59.724,190.149L59.729,189.93L59.725,189.72L59.711,189.516L59.756,189.318L59.826,189.123L59.832,188.928L59.815,188.73L59.802,188.529L59.761,188.328L59.715,188.133L59.717,187.941L59.74,187.764L59.778,187.602L59.806,187.452L59.825,187.308L59.865,187.173L59.991,187.038L60.18,186.903L60.307,186.765L60.38,186.627L60.429,186.486L60.473,186.345L60.546,186.204L60.653,186.066L60.756,185.925L60.859,185.784L60.967,185.64L61.133,185.493L61.221,185.343L61.28,185.187L61.344,185.028L61.383,184.86L61.428,184.692L61.443,184.521L61.429,184.35L61.45,184.182L61.461,184.011L61.442,183.846L61.449,183.684L61.455,183.528L61.481,183.378L61.508,183.228L61.558,183.081L61.58,182.934L61.606,182.781L61.638,182.628L61.645,182.469L61.681,182.31L61.718,182.145L61.783,181.983L61.849,181.821L61.886,181.659L61.976,181.503L62.155,181.35L62.27,181.197L62.376,181.053L62.423,180.912L62.495,180.777L62.562,180.642L62.663,180.51L62.843,180.378L63.116,180.246L63.447,180.117L63.75,179.985L63.989,179.856L64.169,179.727L64.291,179.601L64.383,179.475L64.471,179.349L64.505,179.226L64.539,179.1L64.568,178.974L64.602,178.848L64.602,178.722L64.631,178.599L64.631,178.476L64.66,178.353L64.66,178.23L64.689,178.11L64.69,177.987L64.719,177.864L64.69,177.738L64.695,177.612L64.7,177.483L64.676,177.354L64.681,177.225L64.687,177.096L64.722,176.97L64.752,176.844L64.787,176.718L64.787,176.595L64.788,176.472L64.789,176.346L64.79,176.223L64.82,176.1L64.821,175.974L64.851,175.851L64.877,175.731L64.907,175.608L64.933,175.488L64.988,175.371L65.044,175.251L65.129,175.134L65.213,175.014L65.299,174.891L65.364,174.765L65.4,174.636L65.407,174.501L65.423,174.366L65.41,174.225L65.397,174.081L65.419,173.937L65.446,173.787L65.473,173.637L65.505,173.481L65.483,173.319L65.466,173.154L65.42,172.983L65.403,172.815L65.386,172.647L65.424,172.485L65.462,172.329L65.46,172.176L65.453,172.029L65.446,171.882L65.464,171.738L65.516,171.594L65.54,171.447L65.533,171.3L65.556,171.15L65.55,171.003L65.573,170.856L65.597,170.712L65.615,170.568L65.604,170.424L65.622,170.286L65.636,170.148L65.709,170.013L65.718,169.881L65.721,169.749L65.73,169.623L65.728,169.497L65.762,169.371L65.795,169.245L65.769,169.119L65.748,168.987L65.757,168.855L65.796,168.72L65.811,168.585L65.79,168.45L65.799,168.318L65.809,168.186L65.813,168.057L65.817,167.931L65.821,167.805L65.851,167.682L65.85,167.562L65.844,167.442L65.838,167.325L65.832,167.208L65.857,167.094L65.846,166.977L65.87,166.863L65.865,166.746L65.889,166.629L65.883,166.509L65.883,166.389L65.908,166.269L65.937,166.149L65.967,166.026L65.962,165.906L65.962,165.786L65.992,165.663L65.987,165.543L66.017,165.42L66.017,165.297L66.023,165.171L66.028,165.042L66.034,164.913L66.045,164.781L66.05,164.649L66.061,164.517L66.067,164.385L66.078,164.253L66.084,164.121L66.12,163.992L66.191,163.86L66.257,163.728L66.389,163.596L66.46,163.461L66.527,163.329L66.568,163.194L66.64,163.059L66.682,162.924L66.694,162.792L66.736,162.657L66.772,162.525L66.779,162.393L66.791,162.261L66.768,162.129L66.775,161.997L66.782,161.868L66.819,161.739L66.851,161.613L66.913,161.487L66.945,161.367L66.972,161.244L66.999,161.124L67.026,161.007L67.053,160.887L67.08,160.767L67.077,160.647L67.043,160.527L67.071,160.407L67.098,160.287L67.095,160.164L67.097,160.044L67.13,159.918L67.163,159.792L67.166,159.663L67.144,159.534L67.116,159.408L67.149,159.282L67.182,159.159L67.235,159.039L67.257,158.925L67.28,158.811L67.297,158.703L67.309,158.598L67.32,158.493L67.332,158.391L67.309,158.289L67.32,158.184L67.332,158.079L67.35,157.974L67.332,157.863L67.355,157.755L67.372,157.641L67.39,157.53L67.413,157.416L67.436,157.302L67.454,157.188L67.477,157.074L67.465,156.963L67.482,156.852L67.5,156.741L67.518,156.633L67.531,156.528L67.543,156.423L67.526,156.318L67.533,156.216L67.546,156.114L67.553,156.015L67.56,155.913L67.568,155.811L67.581,155.709L67.594,155.607L67.607,155.499L67.62,155.394L67.633,155.286L67.651,155.178L67.664,155.07L67.713,154.962L67.696,154.854L67.709,154.746L67.698,154.638L67.711,154.53L67.73,154.419L67.743,154.311L67.793,154.203L67.842,154.095L67.916,153.984L68.021,153.876L68.101,153.768L68.145,153.66L68.159,153.552L68.178,153.444L68.192,153.336L68.242,153.228L68.286,153.117L68.306,153.006L68.356,152.895L68.375,152.781L68.4,152.667L68.42,152.556L68.434,152.445L68.424,152.334L68.443,152.223L68.458,152.115L68.472,152.007L68.523,151.899L68.537,151.791L68.521,151.68L68.511,151.569L68.531,151.458L68.521,151.344L68.546,151.23L68.597,151.116L68.679,150.999L68.766,150.885L68.817,150.768L68.843,150.651L68.838,150.534L68.895,150.414L68.958,150.291L69.02,150.168L69.052,150.045L69.084,149.919L69.116,149.79L69.185,149.661L69.253,149.532L69.383,149.403L69.446,149.274L69.484,149.148L69.517,149.022L69.544,148.899L69.577,148.779L69.604,148.659L69.625,148.542L69.622,148.422L69.649,148.305L69.64,148.188L69.637,148.071L69.659,147.954L69.686,147.837L69.683,147.72L69.68,147.6L69.677,147.477L69.705,147.354L69.708,147.228L69.716,147.099L69.719,146.97L69.728,146.841L69.736,146.709L69.745,146.577L69.723,146.445L69.732,146.316L69.772,146.184L69.775,146.055L69.815,145.926L69.824,145.794L69.828,145.665L69.899,145.536L69.902,145.404L69.912,145.275L69.916,145.149L69.95,145.023L69.985,144.897L69.983,144.774L69.981,144.651L70.016,144.528L70.014,144.402L70.049,144.279L70.084,144.15L70.094,144.018L70.135,143.883L70.151,143.742L70.173,143.601L70.164,143.454L70.155,143.31L70.208,143.163L70.23,143.019L70.222,142.875L70.244,142.731L70.23,142.59L70.221,142.446L70.238,142.305L70.255,142.164L70.272,142.023L70.289,141.888L70.331,141.753L70.373,141.621L70.378,141.489L70.39,141.354L70.37,141.219L70.388,141.081L70.399,140.946L70.411,140.811L70.453,140.673L70.465,140.538L70.446,140.406L70.427,140.271L70.439,140.139L70.451,140.004L70.457,139.872L70.469,139.74L70.481,139.605L70.463,139.47L70.444,139.335L70.456,139.197L70.475,139.056L70.524,138.918L70.512,138.774L70.468,138.633L70.487,138.489L70.512,138.345L70.531,138.201L70.556,138.054L70.524,137.904L70.487,137.754L70.488,137.601L70.513,137.451L70.538,137.301L70.563,137.154L70.62,137.01L70.671,136.866L70.721,136.722L70.741,136.581L70.761,136.44L70.806,136.299L70.857,136.158L70.939,136.017L70.99,135.873L71.048,135.726L71.13,135.579L71.188,135.429L71.215,135.282L71.21,135.132L71.268,134.985L71.289,134.838L71.316,134.694L71.33,134.553L71.351,134.412L71.366,134.271L71.388,134.13L71.403,133.992L71.418,133.854L71.464,133.716L71.536,133.581L71.614,133.449L71.686,133.314L71.789,133.182L71.83,133.05L71.839,132.915L71.855,132.777L71.871,132.639L71.887,132.498L71.903,132.36L71.919,132.222L71.936,132.084L71.952,131.946L71.962,131.811L71.972,131.679L71.983,131.544L71.993,131.412L72.003,131.277L72.02,131.142L72.031,131.004L72.048,130.866L72.064,130.725L72.05,130.587L72.067,130.446L72.084,130.308L72.095,130.173L72.112,130.038L72.155,129.903L72.166,129.771L72.209,129.636L72.22,129.501L72.263,129.366L72.275,129.231L72.261,129.093L72.31,128.952L72.328,128.811L72.346,128.67L72.396,128.526L72.445,128.385L72.527,128.244L72.545,128.103L72.563,127.962L72.582,127.821L72.607,127.68L72.594,127.539L72.613,127.398L72.594,127.257L72.581,127.119L72.562,126.981L72.581,126.843L72.626,126.705L72.639,126.57L72.62,126.432L72.633,126.297L72.678,126.162L72.691,126.03L72.698,125.898L72.704,125.769L72.712,125.637L72.687,125.508L72.694,125.379L72.733,125.25L72.772,125.121L72.779,124.989L72.818,124.86L72.826,124.731L72.833,124.602L72.872,124.47L72.88,124.341L72.888,124.209L72.927,124.077L72.935,123.945L72.949,123.81L72.932,123.672L72.946,123.531L72.936,123.39L72.931,123.243L72.921,123.096L72.942,122.952L72.995,122.808L73.048,122.667L73.126,122.529L73.205,122.391L73.252,122.253L73.299,122.118L73.339,121.986L73.412,121.851L73.523,121.719L73.627,121.584L73.706,121.449L73.811,121.314L73.89,121.176L73.969,121.041L74.049,120.903L74.154,120.765L74.329,120.63L74.498,120.495L74.667,120.363L74.804,120.231L74.973,120.099L75.072,119.97L75.146,119.841L75.213,119.712L75.249,119.586L75.317,119.457L75.352,119.331L75.427,119.202L75.495,119.076L75.556,118.95L75.624,118.824L75.724,118.701L75.785,118.578L75.879,118.458L75.972,118.335L76.066,118.215L76.192,118.092L76.286,117.969L76.386,117.846L76.416,117.723L76.453,117.597L76.484,117.474L76.514,117.351L76.513,117.228L76.543,117.108L76.548,116.985L76.579,116.862L76.578,116.739L76.576,116.619L76.601,116.499L76.632,116.379L76.694,116.259L76.751,116.139L76.814,116.022L76.87,115.902L76.927,115.785L76.99,115.668L77.047,115.551L77.103,115.434L77.135,115.314L77.192,115.194L77.287,115.074L77.415,114.954L77.504,114.831L77.568,114.711L77.664,114.588L77.761,114.468L77.825,114.345L77.882,114.225L77.914,114.102L77.94,113.985L77.965,113.868L77.991,113.754L78.01,113.64L78.004,113.529L78.023,113.415L78.016,113.301L78.003,113.187L77.997,113.07L77.991,112.95L77.992,112.833L77.986,112.713L78.012,112.599L77.999,112.482L77.993,112.368L78.013,112.254L78.007,112.14L78.027,112.029L78.014,111.915L78.008,111.801L78.028,111.687L78.023,111.567L78.024,111.447L78.018,111.327L78.02,111.204L78.021,111.078L78.055,110.955L78.089,110.835L78.148,110.712L78.24,110.595L78.332,110.478L78.423,110.361L78.541,110.244L78.697,110.13L78.821,110.013L78.939,109.896L79.031,109.776L79.098,109.659L79.158,109.536L79.161,109.413L79.195,109.287L79.198,109.161L79.233,109.032L79.243,108.903L79.246,108.774L79.281,108.648L79.284,108.525L79.312,108.405L79.308,108.285L79.337,108.165L79.372,108.042L79.408,107.919L79.411,107.79L79.414,107.664L79.418,107.535L79.454,107.409L79.483,107.289L79.512,107.172L79.566,107.061L79.581,106.95L79.603,106.839L79.618,106.734L79.698,106.626L79.811,106.521L79.891,106.416L79.932,106.311L79.947,106.206L79.963,106.098L79.978,105.99L80.027,105.882L80.049,105.768L80.104,105.657L80.16,105.54L80.183,105.426L80.206,105.312L80.229,105.201L80.252,105.087L80.275,104.976L80.323,104.865L80.339,104.754L80.363,104.643L80.386,104.532L80.409,104.418L80.433,104.301L80.456,104.184L80.454,104.067L80.478,103.95L80.502,103.836L80.525,103.722L80.582,103.611L80.631,103.497L80.655,103.383L80.679,103.266L80.703,103.152L80.701,103.035L80.693,102.918L80.717,102.801L80.741,102.684L80.773,102.57L80.797,102.453L80.814,102.339L80.839,102.228L80.896,102.114L80.913,102.003L80.931,101.892L80.956,101.781L80.948,101.667L80.965,101.553L80.99,101.436L81.015,101.322L81.04,101.205L81.105,101.088L81.163,100.971L81.188,100.851L81.253,100.731L81.311,100.611L81.344,100.491L81.376,100.371L81.369,100.251L81.402,100.128L81.435,100.008L81.46,99.888L81.461,99.768L81.454,99.648L81.454,99.525L81.487,99.402L81.521,99.279L81.554,99.156L81.587,99.036L81.581,98.916L81.614,98.796L81.673,98.676L81.707,98.556L81.734,98.433L81.767,98.31L81.768,98.187L81.777,98.058L81.818,97.929L81.827,97.794L81.81,97.659L81.826,97.521L81.875,97.38L81.892,97.242L81.908,97.104L81.924,96.969L81.934,96.834L82.009,96.705L82.043,96.576L82.053,96.45L82.055,96.321L82.057,96.195L82.059,96.069L82.094,95.943L82.137,95.817L82.205,95.691L82.273,95.565L82.342,95.439L82.41,95.313L82.511,95.187L82.646,95.064L82.748,94.941L82.875,94.818L82.969,94.698L83.038,94.575L83.133,94.455L83.202,94.329L83.238,94.206L83.274,94.08L83.278,93.954L83.314,93.825L83.351,93.699L83.428,93.567L83.498,93.438L83.542,93.309L83.612,93.18L83.682,93.051L83.727,92.919L83.764,92.79L83.841,92.661L83.879,92.532L83.89,92.4L83.902,92.268L83.907,92.136L83.985,92.004L84.063,91.872L84.134,91.74L84.213,91.608L84.291,91.476L84.37,91.341L84.449,91.206L84.495,91.065L84.515,90.927L84.569,90.786L84.623,90.645L84.643,90.501L84.697,90.363L84.743,90.222L84.798,90.084L84.844,89.949L84.883,89.817L84.922,89.685L84.961,89.559L85,89.43L85.039,89.304L85.079,89.175L85.118,89.049L85.158,88.923L85.189,88.797L85.229,88.671L85.261,88.548L85.326,88.425L85.358,88.302L85.391,88.179L85.389,88.056L85.396,87.933L85.395,87.81L85.428,87.684L85.427,87.561L85.459,87.441L85.492,87.321L85.484,87.201L85.516,87.081L85.541,86.961L85.541,86.844L85.507,86.724L85.466,86.604L85.465,86.487L85.524,86.367L85.583,86.25L85.608,86.133L85.6,86.019L85.592,85.902L85.585,85.788L85.644,85.674L85.636,85.557L85.561,85.44L85.495,85.32L85.487,85.2L85.521,85.08L85.581,84.96L85.581,84.837L85.548,84.714L85.515,84.594L85.542,84.474L85.609,84.354L85.636,84.234L85.629,84.117L85.622,84L85.682,83.886L85.742,83.769L85.735,83.652L85.695,83.535L85.688,83.418L85.723,83.295L85.791,83.172L85.826,83.049L85.853,82.929L85.888,82.806L85.949,82.686L85.976,82.569L85.936,82.452L85.938,82.332L85.966,82.212L85.993,82.092L85.995,81.972L85.989,81.852L86.025,81.732L86.053,81.612L86.106,81.495L86.134,81.381L86.154,81.267L86.148,81.156L86.134,81.045L86.154,80.934L86.175,80.826L86.153,80.715L86.14,80.604L86.134,80.493L86.121,80.379L86.149,80.262L86.144,80.145L86.139,80.025L86.168,79.908L86.196,79.788L86.225,79.671L86.254,79.554L86.275,79.44L86.295,79.329L86.283,79.221L86.228,79.11L86.215,79.002L86.27,78.894L86.325,78.783L86.38,78.669L86.401,78.555L86.422,78.441L86.443,78.33L86.465,78.219L86.52,78.111L86.601,78.003L86.622,77.895L86.636,77.787L86.59,77.679L86.544,77.568L86.532,77.457L86.546,77.346L86.601,77.235L86.657,77.127L86.637,77.022L86.617,76.914L86.563,76.809L86.543,76.701L86.565,76.596L86.579,76.488L86.602,76.377L86.692,76.266L86.774,76.155L86.83,76.044L86.895,75.93L86.883,75.816L86.872,75.702L86.861,75.588L86.884,75.474L86.873,75.36L86.828,75.249L86.783,75.138L86.763,75.03L86.786,74.919L86.869,74.808L86.892,74.7L86.882,74.589L86.896,74.478L86.988,74.367L87.138,74.259L87.264,74.148L87.347,74.043L87.396,73.935L87.445,73.83L87.563,73.728L87.706,73.623L87.823,73.518L87.873,73.41L87.888,73.305L87.904,73.197L87.92,73.092L87.969,72.987L88.011,72.885L88.095,72.78L88.145,72.678L88.118,72.576L88.092,72.474L88.04,72.372L88.013,72.27L88.055,72.168L88.105,72.066L88.181,71.964L88.266,71.859L88.35,71.754L88.435,71.646L88.485,71.538L88.57,71.427L88.698,71.319L88.782,71.211L88.867,71.103L88.987,70.995L89.072,70.884L89.131,70.773L89.157,70.659L89.208,70.548L89.259,70.437L89.379,70.329L89.533,70.224L89.678,70.122L89.798,70.02L89.875,69.918L89.884,69.813L89.868,69.708L89.851,69.603L89.869,69.495L89.878,69.387L89.896,69.282L89.948,69.177L89.966,69.072L89.975,68.967L89.959,68.862L89.968,68.757L89.952,68.652L89.996,68.547L90.048,68.439L90.135,68.331L90.222,68.22L90.317,68.109L90.336,68.001L90.354,67.89L90.338,67.782L90.288,67.671L90.273,67.563L90.257,67.452L90.276,67.347L90.286,67.239L90.339,67.137L90.384,67.035L90.463,66.933L90.473,66.834L90.517,66.732L90.597,66.627L90.676,66.522L90.832,66.414L90.92,66.303L90.949,66.192L90.934,66.078L90.859,65.961L90.818,65.844L90.847,65.727L90.841,65.61L90.835,65.49L90.872,65.367L90.901,65.247L90.938,65.124L90.967,65.001L91.074,64.881L91.137,64.761L91.235,64.644L91.255,64.53L91.284,64.413L91.313,64.296L91.343,64.179L91.372,64.062L91.358,63.945L91.422,63.828L91.452,63.714L91.541,63.6L91.597,63.486L91.661,63.375L91.716,63.261L91.772,63.15L91.758,63.036L91.788,62.922L91.809,62.811L91.831,62.7L91.887,62.589L91.968,62.481L92.059,62.373L92.14,62.268L92.187,62.163L92.269,62.061L92.351,61.959L92.433,61.857L92.437,61.755L92.45,61.656L92.463,61.554L92.441,61.452L92.454,61.347L92.502,61.239L92.559,61.131L92.537,61.023L92.455,60.912L92.408,60.801L92.396,60.69L92.453,60.576L92.58,60.462L92.671,60.348L92.807,60.237L92.864,60.123L92.843,60.012L92.866,59.901L92.854,59.79L92.808,59.679L92.787,59.571L92.801,59.466L92.815,59.361L92.829,59.259L92.808,59.154L92.823,59.046L92.88,58.938L92.973,58.827L93.066,58.713L93.159,58.599L93.218,58.485L93.276,58.374L93.334,58.26L93.358,58.149L93.303,58.041L93.292,57.93L93.238,57.819L93.261,57.711L93.285,57.6L93.335,57.489L93.429,57.378L93.523,57.267L93.643,57.156L93.771,57.042L93.9,56.931L93.995,56.817L94.089,56.703L94.183,56.589L94.278,56.475L94.372,56.364L94.423,56.25L94.483,56.139L94.543,56.028L94.524,55.917L94.549,55.809L94.565,55.698L94.555,55.587L94.536,55.476L94.527,55.362L94.552,55.248L94.578,55.131L94.603,55.017L94.629,54.9L94.655,54.786L94.646,54.672L94.637,54.558L94.627,54.447L94.583,54.333L94.53,54.222L94.556,54.111L94.608,54L94.695,53.892L94.782,53.784L94.869,53.679L94.956,53.571L95.008,53.466L95.095,53.361L95.112,53.253L95.129,53.145L95.112,53.04L95.094,52.932L95.111,52.824L95.199,52.716L95.287,52.608L95.304,52.5L95.322,52.389L95.304,52.278L95.367,52.167L95.429,52.053L95.457,51.936L95.484,51.819L95.547,51.699L95.619,51.582L95.682,51.465L95.815,51.348L95.903,51.234L96.001,51.12L96.055,51.009L96.118,50.895L96.146,50.781L96.175,50.664L96.168,50.547L96.126,50.43L96.119,50.313L96.112,50.196L96.07,50.079L96.063,49.962L96.057,49.845L96.006,49.728L96.034,49.614L96.028,49.497L96.092,49.38L96.191,49.26L96.265,49.14L96.294,49.02L96.288,48.903L96.212,48.786L96.17,48.669L96.19,48.555L96.255,48.441L96.31,48.327L96.375,48.213L96.359,48.099L96.318,47.985L96.338,47.871L96.439,47.757L96.539,47.64L96.63,47.526L96.66,47.409L96.62,47.292L96.615,47.175L96.645,47.058L96.701,46.941L96.802,46.827L96.832,46.71L96.898,46.593L96.955,46.476L97.092,46.359L97.193,46.242L97.366,46.125L97.528,46.008L97.772,45.894L97.97,45.78L98.179,45.663L98.342,45.549L98.48,45.432L98.572,45.318L98.64,45.201L98.697,45.087L98.79,44.976L98.857,44.862L98.95,44.751L99.008,44.637L99.101,44.523L99.123,44.409L99.191,44.295L99.213,44.178L99.281,44.061L99.314,43.941L99.346,43.821L99.343,43.701L99.305,43.581L99.338,43.461L99.396,43.344L99.465,43.23L99.559,43.113L99.592,42.996L99.651,42.879L99.719,42.759L99.788,42.639L99.857,42.519L99.962,42.402L100.057,42.285L100.152,42.168L100.221,42.054L100.245,41.94L100.304,41.826L100.364,41.712L100.494,41.595L100.671,41.478L100.848,41.358L101.025,41.238L101.095,41.115L101.165,40.989L101.2,40.863L101.28,40.737L101.325,40.611L101.396,40.485L101.502,40.359L101.547,40.233L101.618,40.107L101.725,39.981L101.878,39.858L102.128,39.732L102.424,39.606L102.674,39.48L102.924,39.354L103.139,39.231L103.282,39.108L103.426,38.985L103.498,38.865L103.56,38.748L103.667,38.628L103.765,38.508L103.838,38.388L103.838,38.265L103.804,38.139L103.815,38.01L103.816,37.881L103.863,37.749L103.91,37.62L103.948,37.491L104.031,37.362L104.104,37.236L104.213,37.107L104.297,36.978L104.371,36.849L104.454,36.72L104.539,36.588L104.587,36.456L104.553,36.324L104.565,36.195L104.639,36.069L104.785,35.943L104.968,35.817L105.078,35.694L105.188,35.568L105.263,35.445L105.338,35.319L105.484,35.19L105.678,35.064L105.789,34.935L105.864,34.806L105.878,34.674L105.891,34.539L105.869,34.404L105.847,34.266L105.908,34.131L105.994,33.993L106.08,33.858L106.167,33.72L106.181,33.585L106.232,33.45L106.283,33.315L106.333,33.183L106.374,33.051L106.425,32.919L106.501,32.79L106.589,32.658L106.629,32.523L106.717,32.391L106.805,32.256L106.892,32.121L106.98,31.986L107.104,31.848L107.156,31.713L107.209,31.578L107.214,31.443L107.302,31.311L107.427,31.176L107.541,31.041L107.63,30.906L107.647,30.774L107.699,30.639L107.789,30.501L107.867,30.366L107.884,30.228L107.912,30.09L107.965,29.952L108.055,29.811L108.156,29.67L108.173,29.529L108.263,29.388L108.354,29.25L108.48,29.112L108.571,28.977L108.505,28.845L108.439,28.716L108.374,28.587L108.418,28.458L108.534,28.329L108.651,28.203L108.731,28.074L108.739,27.945L108.746,27.813L108.718,27.681L108.627,27.546L108.573,27.408L108.545,27.273L108.564,27.132L108.619,26.994L108.639,26.859L108.694,26.721L108.776,26.586L108.905,26.454L109.059,26.322L109.214,26.19L109.369,26.058L109.451,25.926L109.46,25.797L109.469,25.665L109.405,25.536L109.378,25.407L109.303,25.281L109.349,25.152L109.395,25.023L109.441,24.891L109.451,24.756L109.472,24.618L109.529,24.48L109.551,24.339L109.608,24.198L109.703,24.06L109.75,23.922L109.845,23.787L109.928,23.649L110.023,23.511L110.082,23.373L110.14,23.229L110.163,23.085L110.123,22.941L110.145,22.794L110.167,22.65L110.201,22.503L110.26,22.359L110.356,22.218L110.49,22.074L110.586,21.933L110.609,21.786L110.607,21.642L110.667,21.495L110.812,21.345L110.946,21.198L111.091,21.051L111.225,20.907L111.36,20.76L111.505,20.616L111.566,20.469L111.639,20.319L111.748,20.166L111.858,20.007L111.991,19.842L112.112,19.671L112.294,19.494L112.513,19.311L112.842,19.125L113.258,18.936L113.673,18.744L114.078,18.555L114.384,18.369L114.641,18.183L114.714,18L114.751,17.82L114.775,17.643L114.837,17.469L114.925,17.301L115.05,17.142L115.151,16.989L115.253,16.842L115.354,16.701L115.407,16.56L115.461,16.425L115.514,16.287L115.567,16.149L115.633,16.011L115.686,15.87L115.703,15.732L115.769,15.591L115.823,15.45L115.877,15.312L115.943,15.171L115.997,15.03L116.089,14.889L116.155,14.748L116.135,14.607L116.128,14.463L116.108,14.319L116.101,14.172L116.094,14.025L116.086,13.878L116.079,13.731L116.109,13.584L116.102,13.437L116.133,13.29L116.151,13.146L116.145,13.002L116.126,12.864L116.145,12.726L116.189,12.591L116.208,12.459L116.215,12.327L116.222,12.198L116.192,12.069L116.162,11.943L116.132,11.814L116.09,11.688L116.098,11.565L116.143,11.439L116.138,11.316L116.134,11.193L116.142,11.07L116.138,10.944L116.108,10.818L116.116,10.692L116.124,10.563L116.17,10.434L116.166,10.305L116.212,10.182L116.208,10.062L116.167,9.942L116.164,9.822L116.185,9.705L116.182,9.588L116.216,9.471L116.213,9.351L116.247,9.234L116.307,9.114L116.416,8.994L116.563,8.877L116.672,8.757L116.82,8.637L116.929,8.52L117.002,8.4L117.099,8.28L117.172,8.16L117.245,8.04L117.317,7.92L117.39,7.8L117.426,7.68L117.449,7.563L117.484,7.449L117.508,7.338L117.494,7.224L117.555,7.116L117.616,7.005L117.664,6.897L117.801,6.786L117.937,6.678L118.112,6.57L118.274,6.459L118.41,6.345L118.56,6.234L118.659,6.12L118.759,6.003L118.871,5.889L118.971,5.772L119.07,5.655L119.183,5.535L119.283,5.418L119.433,5.301L119.609,5.184L119.797,5.067L120.023,4.947L120.312,4.83L120.577,4.71L120.828,4.59L121.093,4.476L121.307,4.359L121.521,4.245L121.698,4.134L121.875,4.023L122.002,3.912L122.179,3.801L122.394,3.693L122.597,3.582L122.85,3.474L123.128,3.363L123.457,3.252L123.711,3.141L123.952,3.03L124.168,2.919L124.422,2.808L124.676,2.697L124.955,2.586L125.21,2.478L125.49,2.37L125.731,2.262L125.949,2.154L126.153,2.043L126.37,1.935L126.537,1.827L126.717,1.716L126.883,1.608L127.05,1.5L127.193,1.392L127.36,1.284L127.565,1.173L127.859,1.062L128.192,0.948L128.473,0.837L128.73,0.726L128.987,0.612L129.244,0.498L129.45,0.384L129.67,0.27L129.851,0.156L129.957,0.039\" stroke=\"#f58518\" stroke-width=\"2\"/></g></g><path class=\"foreground\" aria-hidden=\"true\" d=\"\" display=\"none\"/></g></g><g class=\"mark-group role-legend\" role=\"graphics-symbol\" aria-roledescription=\"legend\" aria-label=\"Symbol legend titled 'time_of_day' for stroke color with 2 values: 0430, 1630\"><g transform=\"translate(169,0)\"><path class=\"background\" aria-hidden=\"true\" d=\"M0,0h65v40h-65Z\" pointer-events=\"none\"/><g><g class=\"mark-group role-legend-entry\"><g transform=\"translate(0,16)\"><path class=\"background\" aria-hidden=\"true\" d=\"M0,0h0v0h0Z\" pointer-events=\"none\"/><g><g class=\"mark-group role-scope\" role=\"graphics-object\" aria-roledescription=\"group mark container\"><g transform=\"translate(0,0)\"><path class=\"background\" aria-hidden=\"true\" d=\"M0,0h38.24609375v11h-38.24609375Z\" pointer-events=\"none\" opacity=\"1\"/><g><g class=\"mark-symbol role-legend-symbol\" pointer-events=\"none\"><path transform=\"translate(6,6)\" d=\"M-5,0L5,0\" stroke=\"#4c78a8\" stroke-width=\"1.5\" opacity=\"1\"/></g><g class=\"mark-text role-legend-label\" pointer-events=\"none\"><text text-anchor=\"start\" transform=\"translate(16,9)\" font-family=\"sans-serif\" font-size=\"10px\" fill=\"#000\" opacity=\"1\">0430</text></g></g><path class=\"foreground\" aria-hidden=\"true\" d=\"\" pointer-events=\"none\" display=\"none\"/></g><g transform=\"translate(0,13)\"><path class=\"background\" aria-hidden=\"true\" d=\"M0,0h38.24609375v11h-38.24609375Z\" pointer-events=\"none\" opacity=\"1\"/><g><g class=\"mark-symbol role-legend-symbol\" pointer-events=\"none\"><path transform=\"translate(6,6)\" d=\"M-5,0L5,0\" stroke=\"#f58518\" stroke-width=\"1.5\" opacity=\"1\"/></g><g class=\"mark-text role-legend-label\" pointer-events=\"none\"><text text-anchor=\"start\" transform=\"translate(16,9)\" font-family=\"sans-serif\" font-size=\"10px\" fill=\"#000\" opacity=\"1\">1630</text></g></g><path class=\"foreground\" aria-hidden=\"true\" d=\"\" pointer-events=\"none\" display=\"none\"/></g></g></g><path class=\"foreground\" aria-hidden=\"true\" d=\"\" pointer-events=\"none\" display=\"none\"/></g></g><g class=\"mark-text role-legend-title\" pointer-events=\"none\"><text text-anchor=\"start\" transform=\"translate(0,9)\" font-family=\"sans-serif\" font-size=\"11px\" font-weight=\"bold\" fill=\"#000\" opacity=\"1\">time_of_day</text></g></g><path class=\"foreground\" aria-hidden=\"true\" d=\"\" pointer-events=\"none\" display=\"none\"/></g></g></g><path class=\"foreground\" aria-hidden=\"true\" d=\"\" display=\"none\"/></g></g></g></svg>"
      ],
      "text/plain": [
       "alt.Chart(...)"
      ]
     },
     "execution_count": 15,
     "metadata": {},
     "output_type": "execute_result"
    }
   ],
   "source": [
    "src_morn = sonde_morn.to_dataframe()\n",
    "src_day = sonde_day.to_dataframe()\n",
    "src = pd.concat([\n",
    "        src_morn.assign(time_of_day = '0430'),\n",
    "        src_day.assign(time_of_day = '1630')\n",
    "    ])\n",
    "src['height'] = src.alt - 2891\n",
    "alt.Chart(\n",
    "    src.query(\"height < 10000\")\n",
    ").mark_line().encode(\n",
    "    alt.X('tpot:Q').title('Potential temperature (K)'),\n",
    "    alt.Y('height:Q').title('Height AGL (m)'),\n",
    "    alt.Color('time_of_day:N'),\n",
    "    order='height:Q'\n",
    ").properties(width=150, height = 300)"
   ]
  },
  {
   "cell_type": "code",
   "execution_count": 58,
   "metadata": {},
   "outputs": [],
   "source": [
    "h2o_mixing_ratio = metpy.calc.mixing_ratio_from_relative_humidity(\n",
    "    src.pres.values * units(\"millibars\"),\n",
    "    src.tdry.values * units('degC'),\n",
    "    src.rh.values * units(\"percent\")\n",
    ")\n",
    "dry_air_density = metpy.calc.density(\n",
    "    src.pres.values * units(\"millibars\"),\n",
    "    src.tdry.values * units('degC'),\n",
    "    0\n",
    ")\n",
    "abs_humidity = h2o_mixing_ratio * dry_air_density\n",
    "src['abs_humidity'] = abs_humidity.to(units('g/m^3'))"
   ]
  },
  {
   "cell_type": "code",
   "execution_count": 69,
   "metadata": {},
   "outputs": [
    {
     "data": {
      "image/svg+xml": [
       "<svg xmlns=\"http://www.w3.org/2000/svg\" xmlns:xlink=\"http://www.w3.org/1999/xlink\" version=\"1.1\" class=\"marks\" width=\"293\" height=\"347\" viewBox=\"0 0 293 347\"><rect width=\"293\" height=\"347\" fill=\"white\"/><g fill=\"none\" stroke-miterlimit=\"10\" transform=\"translate(53,10)\"><g class=\"mark-group role-frame root\" role=\"graphics-object\" aria-roledescription=\"group mark container\"><g transform=\"translate(0,0)\"><path class=\"background\" aria-hidden=\"true\" d=\"M0.5,0.5h150v300h-150Z\" stroke=\"#ddd\"/><g><g class=\"mark-group role-axis\" aria-hidden=\"true\"><g transform=\"translate(0.5,300.5)\"><path class=\"background\" aria-hidden=\"true\" d=\"M0,0h0v0h0Z\" pointer-events=\"none\"/><g><g class=\"mark-rule role-axis-grid\" pointer-events=\"none\"><line transform=\"translate(6,-300)\" x2=\"0\" y2=\"300\" stroke=\"#ddd\" stroke-width=\"1\" opacity=\"1\"/><line transform=\"translate(35,-300)\" x2=\"0\" y2=\"300\" stroke=\"#ddd\" stroke-width=\"1\" opacity=\"1\"/><line transform=\"translate(63,-300)\" x2=\"0\" y2=\"300\" stroke=\"#ddd\" stroke-width=\"1\" opacity=\"1\"/><line transform=\"translate(92,-300)\" x2=\"0\" y2=\"300\" stroke=\"#ddd\" stroke-width=\"1\" opacity=\"1\"/><line transform=\"translate(121,-300)\" x2=\"0\" y2=\"300\" stroke=\"#ddd\" stroke-width=\"1\" opacity=\"1\"/><line transform=\"translate(150,-300)\" x2=\"0\" y2=\"300\" stroke=\"#ddd\" stroke-width=\"1\" opacity=\"1\"/></g></g><path class=\"foreground\" aria-hidden=\"true\" d=\"\" pointer-events=\"none\" display=\"none\"/></g></g><g class=\"mark-group role-axis\" aria-hidden=\"true\"><g transform=\"translate(0.5,0.5)\"><path class=\"background\" aria-hidden=\"true\" d=\"M0,0h0v0h0Z\" pointer-events=\"none\"/><g><g class=\"mark-rule role-axis-grid\" pointer-events=\"none\"><line transform=\"translate(0,300)\" x2=\"150\" y2=\"0\" stroke=\"#ddd\" stroke-width=\"1\" opacity=\"1\"/><line transform=\"translate(0,270)\" x2=\"150\" y2=\"0\" stroke=\"#ddd\" stroke-width=\"1\" opacity=\"1\"/><line transform=\"translate(0,240)\" x2=\"150\" y2=\"0\" stroke=\"#ddd\" stroke-width=\"1\" opacity=\"1\"/><line transform=\"translate(0,210)\" x2=\"150\" y2=\"0\" stroke=\"#ddd\" stroke-width=\"1\" opacity=\"1\"/><line transform=\"translate(0,180)\" x2=\"150\" y2=\"0\" stroke=\"#ddd\" stroke-width=\"1\" opacity=\"1\"/><line transform=\"translate(0,150)\" x2=\"150\" y2=\"0\" stroke=\"#ddd\" stroke-width=\"1\" opacity=\"1\"/><line transform=\"translate(0,120)\" x2=\"150\" y2=\"0\" stroke=\"#ddd\" stroke-width=\"1\" opacity=\"1\"/><line transform=\"translate(0,90)\" x2=\"150\" y2=\"0\" stroke=\"#ddd\" stroke-width=\"1\" opacity=\"1\"/><line transform=\"translate(0,60)\" x2=\"150\" y2=\"0\" stroke=\"#ddd\" stroke-width=\"1\" opacity=\"1\"/><line transform=\"translate(0,30)\" x2=\"150\" y2=\"0\" stroke=\"#ddd\" stroke-width=\"1\" opacity=\"1\"/><line transform=\"translate(0,0)\" x2=\"150\" y2=\"0\" stroke=\"#ddd\" stroke-width=\"1\" opacity=\"1\"/></g></g><path class=\"foreground\" aria-hidden=\"true\" d=\"\" pointer-events=\"none\" display=\"none\"/></g></g><g class=\"mark-group role-axis\" role=\"graphics-symbol\" aria-roledescription=\"axis\" aria-label=\"X-axis titled 'Abs humidity (g/m^3)' for a linear scale with values from 0.4 to 3.0\"><g transform=\"translate(0.5,300.5)\"><path class=\"background\" aria-hidden=\"true\" d=\"M0,0h0v0h0Z\" pointer-events=\"none\"/><g><g class=\"mark-rule role-axis-tick\" pointer-events=\"none\"><line transform=\"translate(6,0)\" x2=\"0\" y2=\"5\" stroke=\"#888\" stroke-width=\"1\" opacity=\"1\"/><line transform=\"translate(35,0)\" x2=\"0\" y2=\"5\" stroke=\"#888\" stroke-width=\"1\" opacity=\"1\"/><line transform=\"translate(63,0)\" x2=\"0\" y2=\"5\" stroke=\"#888\" stroke-width=\"1\" opacity=\"1\"/><line transform=\"translate(92,0)\" x2=\"0\" y2=\"5\" stroke=\"#888\" stroke-width=\"1\" opacity=\"1\"/><line transform=\"translate(121,0)\" x2=\"0\" y2=\"5\" stroke=\"#888\" stroke-width=\"1\" opacity=\"1\"/><line transform=\"translate(150,0)\" x2=\"0\" y2=\"5\" stroke=\"#888\" stroke-width=\"1\" opacity=\"1\"/></g><g class=\"mark-text role-axis-label\" pointer-events=\"none\"><text text-anchor=\"middle\" transform=\"translate(5.769230769230767,15)\" font-family=\"sans-serif\" font-size=\"10px\" fill=\"#000\" opacity=\"1\">0.5</text><text text-anchor=\"middle\" transform=\"translate(34.61538461538461,15)\" font-family=\"sans-serif\" font-size=\"10px\" fill=\"#000\" opacity=\"1\">1.0</text><text text-anchor=\"middle\" transform=\"translate(63.46153846153846,15)\" font-family=\"sans-serif\" font-size=\"10px\" fill=\"#000\" opacity=\"1\">1.5</text><text text-anchor=\"middle\" transform=\"translate(92.3076923076923,15)\" font-family=\"sans-serif\" font-size=\"10px\" fill=\"#000\" opacity=\"1\">2.0</text><text text-anchor=\"middle\" transform=\"translate(121.15384615384616,15)\" font-family=\"sans-serif\" font-size=\"10px\" fill=\"#000\" opacity=\"1\">2.5</text><text text-anchor=\"end\" transform=\"translate(150,15)\" font-family=\"sans-serif\" font-size=\"10px\" fill=\"#000\" opacity=\"1\">3.0</text></g><g class=\"mark-rule role-axis-domain\" pointer-events=\"none\"><line transform=\"translate(0,0)\" x2=\"150\" y2=\"0\" stroke=\"#888\" stroke-width=\"1\" opacity=\"1\"/></g><g class=\"mark-text role-axis-title\" pointer-events=\"none\"><text text-anchor=\"middle\" transform=\"translate(75,30)\" font-family=\"sans-serif\" font-size=\"11px\" font-weight=\"bold\" fill=\"#000\" opacity=\"1\">Abs humidity (g/m^3)</text></g></g><path class=\"foreground\" aria-hidden=\"true\" d=\"\" pointer-events=\"none\" display=\"none\"/></g></g><g class=\"mark-group role-axis\" role=\"graphics-symbol\" aria-roledescription=\"axis\" aria-label=\"Y-axis titled 'Height AGL (m)' for a linear scale with values from 0 to 2,000\"><g transform=\"translate(0.5,0.5)\"><path class=\"background\" aria-hidden=\"true\" d=\"M0,0h0v0h0Z\" pointer-events=\"none\"/><g><g class=\"mark-rule role-axis-tick\" pointer-events=\"none\"><line transform=\"translate(0,300)\" x2=\"-5\" y2=\"0\" stroke=\"#888\" stroke-width=\"1\" opacity=\"1\"/><line transform=\"translate(0,270)\" x2=\"-5\" y2=\"0\" stroke=\"#888\" stroke-width=\"1\" opacity=\"1\"/><line transform=\"translate(0,240)\" x2=\"-5\" y2=\"0\" stroke=\"#888\" stroke-width=\"1\" opacity=\"1\"/><line transform=\"translate(0,210)\" x2=\"-5\" y2=\"0\" stroke=\"#888\" stroke-width=\"1\" opacity=\"1\"/><line transform=\"translate(0,180)\" x2=\"-5\" y2=\"0\" stroke=\"#888\" stroke-width=\"1\" opacity=\"1\"/><line transform=\"translate(0,150)\" x2=\"-5\" y2=\"0\" stroke=\"#888\" stroke-width=\"1\" opacity=\"1\"/><line transform=\"translate(0,120)\" x2=\"-5\" y2=\"0\" stroke=\"#888\" stroke-width=\"1\" opacity=\"1\"/><line transform=\"translate(0,90)\" x2=\"-5\" y2=\"0\" stroke=\"#888\" stroke-width=\"1\" opacity=\"1\"/><line transform=\"translate(0,60)\" x2=\"-5\" y2=\"0\" stroke=\"#888\" stroke-width=\"1\" opacity=\"1\"/><line transform=\"translate(0,30)\" x2=\"-5\" y2=\"0\" stroke=\"#888\" stroke-width=\"1\" opacity=\"1\"/><line transform=\"translate(0,0)\" x2=\"-5\" y2=\"0\" stroke=\"#888\" stroke-width=\"1\" opacity=\"1\"/></g><g class=\"mark-text role-axis-label\" pointer-events=\"none\"><text text-anchor=\"end\" transform=\"translate(-7,303)\" font-family=\"sans-serif\" font-size=\"10px\" fill=\"#000\" opacity=\"1\">0</text><text text-anchor=\"end\" transform=\"translate(-7,273)\" font-family=\"sans-serif\" font-size=\"10px\" fill=\"#000\" opacity=\"1\">200</text><text text-anchor=\"end\" transform=\"translate(-7,243)\" font-family=\"sans-serif\" font-size=\"10px\" fill=\"#000\" opacity=\"1\">400</text><text text-anchor=\"end\" transform=\"translate(-7,213)\" font-family=\"sans-serif\" font-size=\"10px\" fill=\"#000\" opacity=\"1\">600</text><text text-anchor=\"end\" transform=\"translate(-7,183)\" font-family=\"sans-serif\" font-size=\"10px\" fill=\"#000\" opacity=\"1\">800</text><text text-anchor=\"end\" transform=\"translate(-7,153)\" font-family=\"sans-serif\" font-size=\"10px\" fill=\"#000\" opacity=\"1\">1,000</text><text text-anchor=\"end\" transform=\"translate(-7,123)\" font-family=\"sans-serif\" font-size=\"10px\" fill=\"#000\" opacity=\"1\">1,200</text><text text-anchor=\"end\" transform=\"translate(-7,93.00000000000001)\" font-family=\"sans-serif\" font-size=\"10px\" fill=\"#000\" opacity=\"1\">1,400</text><text text-anchor=\"end\" transform=\"translate(-7,62.999999999999986)\" font-family=\"sans-serif\" font-size=\"10px\" fill=\"#000\" opacity=\"1\">1,600</text><text text-anchor=\"end\" transform=\"translate(-7,32.99999999999999)\" font-family=\"sans-serif\" font-size=\"10px\" fill=\"#000\" opacity=\"1\">1,800</text><text text-anchor=\"end\" transform=\"translate(-7,3)\" font-family=\"sans-serif\" font-size=\"10px\" fill=\"#000\" opacity=\"1\">2,000</text></g><g class=\"mark-rule role-axis-domain\" pointer-events=\"none\"><line transform=\"translate(0,300)\" x2=\"0\" y2=\"-300\" stroke=\"#888\" stroke-width=\"1\" opacity=\"1\"/></g><g class=\"mark-text role-axis-title\" pointer-events=\"none\"><text text-anchor=\"middle\" transform=\"translate(-36.0244140625,150) rotate(-90) translate(0,-2)\" font-family=\"sans-serif\" font-size=\"11px\" font-weight=\"bold\" fill=\"#000\" opacity=\"1\">Height AGL (m)</text></g></g><path class=\"foreground\" aria-hidden=\"true\" d=\"\" pointer-events=\"none\" display=\"none\"/></g></g><g class=\"mark-group role-scope pathgroup\" role=\"graphics-object\" aria-roledescription=\"group mark container\"><g transform=\"translate(0,0)\"><path class=\"background\" aria-hidden=\"true\" d=\"M0,0h150v300h-150Z\"/><g><g class=\"mark-line role-mark marks\" role=\"graphics-object\" aria-roledescription=\"line mark container\"><path aria-label=\"Abs humidity (g/m^3): 2.99316954613; Height AGL (m): 7.39990234375; time_of_day: 1630; height: 7.39990234375\" role=\"graphics-symbol\" aria-roledescription=\"line mark\" d=\"M149.606,298.89L124.844,298.515L121.776,297.675L119.665,296.865L118.09,295.89L115.511,295.02L112.592,294.165L111.036,293.19L110.478,292.275L110.194,291.36L109.93,290.445L109.208,289.545L108.352,288.645L107.496,287.775L107.283,286.905L107.578,286.035L108.057,285.15L108.248,284.265L107.926,283.365L107.579,282.45L107.424,281.535L107.299,280.635L107,279.735L106.202,278.85L105.143,277.995L104.747,277.125L104.912,276.27L105.3,275.4L105.473,274.515L105.345,273.615L105.233,272.7L104.864,271.8L104.173,270.885L103.683,270L103.572,269.145L103.029,268.29L102.298,267.465L102.151,266.655L102.405,265.875L102.247,265.11L101.718,264.375L101.634,263.655L102.111,262.95L102.475,262.275L102.521,261.585L102.853,260.91L103.561,260.22L104.622,259.515L105.149,258.78L104.763,258.045L103.563,257.28L102.536,256.5L102.332,255.72L102.6,254.94L103.29,254.145L104.338,253.365L104.649,252.585L104.394,251.79L103.757,250.965L103.796,250.095L104.385,249.195L104.812,248.25L104.789,247.29L104.543,246.33L104.312,245.385L104.084,244.455L103.539,243.54L103.264,242.655L103.319,241.785L103.219,240.93L102.726,240.105L102.352,239.28L102.506,238.47L102.553,237.675L102.258,236.895L101.964,236.115L101.864,235.365L102.01,234.615L101.865,233.88L101.127,233.175L99.832,232.5L98.477,231.84L98.312,231.21L98.768,230.595L99.012,229.995L99.157,229.395L98.697,228.81L97.783,228.21L97.17,227.61L97.126,227.01L97.364,226.41L97.651,225.81L97.541,225.21L97.325,224.625L97.028,224.04L96.751,223.485L96.331,222.93L95.913,222.375L95.68,221.85L95.724,221.325L95.91,220.8L96.033,220.275L96.043,219.735L96.235,219.195L96.698,218.625L96.945,218.025L96.767,217.425L96.981,216.795L97.41,216.15L97.259,215.475L96.892,214.785L96.719,214.095L96.717,213.39L96.366,212.7L96.126,212.01L96.034,211.32L96.053,210.63L96.141,209.91L96.46,209.19L96.717,208.425L96.591,207.645L95.924,206.85L95.485,206.04L95.167,205.2L95.278,204.36L95.643,203.49L95.831,202.635L95.592,201.765L95.292,200.925L94.995,200.085L95.119,199.275L95.543,198.48L95.603,197.7L95.082,196.95L94.837,196.185L95.197,195.42L95.689,194.61L95.684,193.77L95.516,192.9L95.346,192.015L95.47,191.1L95.428,190.2L95.043,189.315L94.421,188.46L94.065,187.62L94.103,186.795L94.453,186L94.645,185.205L94.317,184.395L93.856,183.57L94.229,182.73L94.77,181.86L94.965,180.96L94.899,180.045L94.735,179.145L94.362,178.26L94.02,177.435L93.667,176.655L93.34,175.95L93.564,175.275L93.81,174.645L93.532,174.045L93.255,173.43L93.447,172.83L94.156,172.215L94.933,171.585L95.386,170.94L95.483,170.31L95.262,169.68L94.71,169.05L93.856,168.45L93.285,167.85L93.233,167.235L93.193,166.62L93.37,165.99L93.748,165.33L93.966,164.67L93.72,163.965L93.285,163.26L92.733,162.54L92.371,161.82L92.279,161.1L92.199,160.365L92.222,159.63L92.116,158.88L92.068,158.13L92.042,157.335L92.14,156.51L92.406,155.655L92.517,154.785L92.284,153.93L91.898,153.09L91.324,152.28L90.73,151.485L90.599,150.69L90.843,149.895L91.358,149.07L91.755,148.23L91.602,147.345L91.332,146.445L91.062,145.515L90.727,144.57L90.473,143.625L90.505,142.68L90.6,141.735L90.365,140.805L90.071,139.92L90.096,139.065L90.178,138.24L90.384,137.445L90.566,136.68L90.559,135.93L90.715,135.18L90.745,134.43L90.647,133.68L90.609,132.93L90.469,132.165L90.225,131.385L89.859,130.59L89.698,129.765L89.86,128.94L89.999,128.085L89.712,127.215L89.447,126.345L89.22,125.475L89.053,124.605L88.887,123.765L88.742,122.955L88.439,122.16L88.233,121.395L88.707,120.645L89.443,119.91L89.806,119.205L89.538,118.515L88.924,117.84L88.883,117.195L89.432,116.565L89.823,115.935L89.781,115.32L89.397,114.705L89.146,114.075L88.977,113.46L88.257,112.86L87.299,112.275L86.355,111.705L85.428,111.165L84.244,110.625L82.856,110.115L82.27,109.59L82.356,109.065L82.349,108.54L82.432,108L82.904,107.46L82.928,106.905L82.583,106.365L82.499,105.81L83.001,105.27L83.874,104.715L84.593,104.16L85.052,103.59L85.297,103.02L85.233,102.45L84.942,101.88L84.803,101.31L84.756,100.74L85.03,100.14L85.675,99.51L85.934,98.865L85.721,98.22L85.245,97.545L84.84,96.855L84.963,96.135L85.196,95.4L84.877,94.635L83.686,93.87L81.881,93.105L80.888,92.37L80.686,91.65L80.723,90.99L81.125,90.345L81.456,89.7L82.25,89.07L83.005,88.425L82.75,87.75L81.775,87.075L80.812,86.37L80.131,85.695L79.827,85.035L79.756,84.39L79.528,83.79L79.038,83.205L78.707,82.62L78.679,82.035L78.542,81.435L78.171,80.82L77.524,80.19L76.951,79.545L76.575,78.87L76.112,78.195L75.578,77.505L75.118,76.8L74.853,76.065L74.842,75.315L74.687,74.55L74.049,73.77L73.051,72.99L72.112,72.21L71.256,71.445L69.965,70.68L68.23,69.945L66.308,69.21L66.301,68.505L69.112,67.8L74.296,67.11L78.899,66.42L79.255,65.76L76.877,65.115L74.073,64.485L73.244,63.84L73.469,63.18L74.55,62.52L75.996,61.815L75.599,61.11L73.193,60.375L68.243,59.64L59.268,58.92L50.864,58.2L45.856,57.51L42.126,56.835L39.359,56.19L37.62,55.56L36.522,54.945L36.203,54.3L36.378,53.655L36.945,52.995L37.219,52.335L36.92,51.66L36.396,50.97L35.8,50.295L35.312,49.59L34.945,48.9L34.432,48.195L33.786,47.505L33.111,46.83L32.47,46.155L31.813,45.51L30.737,44.88L29.363,44.265L28.318,43.635L27.955,43.005L27.94,42.36L28.054,41.685L27.805,40.98L26.545,40.275L24.379,39.54L23.107,38.79L22.875,38.01L22.918,37.215L22.922,36.39L22.734,35.58L22.387,34.755L21.809,33.945L21.128,33.15L20.709,32.355L20.531,31.575L20.182,30.795L19.978,30.015L20.219,29.235L20.822,28.455L21.25,27.675L21.358,26.895L21.287,26.13L21.141,25.365L20.98,24.6L20.795,23.82L20.159,23.025L18.393,22.23L15.461,21.435L12.598,20.64L10.842,19.845L10.432,19.05L10.666,18.255L10.855,17.475L10.991,16.68L11.548,15.885L12.682,15.075L13.758,14.25L13.871,13.44L13.133,12.615L12.451,11.79L12.254,10.965L12.473,10.14L12.914,9.3L13.43,8.445L13.93,7.59L14.283,6.72L13.979,5.835L12.943,4.98L11.912,4.125L11.333,3.3L11.332,2.49L11.559,1.695L11.798,0.915L12.051,0.15\" stroke=\"#4c78a8\" stroke-width=\"2\"/></g></g><path class=\"foreground\" aria-hidden=\"true\" d=\"\" display=\"none\"/></g></g><g class=\"mark-group role-legend\" role=\"graphics-symbol\" aria-roledescription=\"legend\" aria-label=\"Symbol legend titled 'time_of_day' for stroke color with 1 value: 1630\"><g transform=\"translate(170,0)\"><path class=\"background\" aria-hidden=\"true\" d=\"M0,0h65v27h-65Z\" pointer-events=\"none\"/><g><g class=\"mark-group role-legend-entry\"><g transform=\"translate(0,16)\"><path class=\"background\" aria-hidden=\"true\" d=\"M0,0h0v0h0Z\" pointer-events=\"none\"/><g><g class=\"mark-group role-scope\" role=\"graphics-object\" aria-roledescription=\"group mark container\"><g transform=\"translate(0,0)\"><path class=\"background\" aria-hidden=\"true\" d=\"M0,0h38.24609375v11h-38.24609375Z\" pointer-events=\"none\" opacity=\"1\"/><g><g class=\"mark-symbol role-legend-symbol\" pointer-events=\"none\"><path transform=\"translate(6,6)\" d=\"M-5,0L5,0\" stroke=\"#4c78a8\" stroke-width=\"1.5\" opacity=\"1\"/></g><g class=\"mark-text role-legend-label\" pointer-events=\"none\"><text text-anchor=\"start\" transform=\"translate(16,9)\" font-family=\"sans-serif\" font-size=\"10px\" fill=\"#000\" opacity=\"1\">1630</text></g></g><path class=\"foreground\" aria-hidden=\"true\" d=\"\" pointer-events=\"none\" display=\"none\"/></g></g></g><path class=\"foreground\" aria-hidden=\"true\" d=\"\" pointer-events=\"none\" display=\"none\"/></g></g><g class=\"mark-text role-legend-title\" pointer-events=\"none\"><text text-anchor=\"start\" transform=\"translate(0,9)\" font-family=\"sans-serif\" font-size=\"11px\" font-weight=\"bold\" fill=\"#000\" opacity=\"1\">time_of_day</text></g></g><path class=\"foreground\" aria-hidden=\"true\" d=\"\" pointer-events=\"none\" display=\"none\"/></g></g></g><path class=\"foreground\" aria-hidden=\"true\" d=\"\" display=\"none\"/></g></g></g></svg>"
      ],
      "text/plain": [
       "alt.Chart(...)"
      ]
     },
     "execution_count": 69,
     "metadata": {},
     "output_type": "execute_result"
    }
   ],
   "source": [
    "alt.Chart(\n",
    "    src.query(\"height < 2000\").query(\"time_of_day == '1630'\")\n",
    ").mark_line().encode(\n",
    "    alt.X('abs_humidity:Q').title('Abs humidity (g/m^3)'),\n",
    "    alt.Y('height:Q').title('Height AGL (m)'),\n",
    "    alt.Color('time_of_day:N'),\n",
    "    order='height:Q'\n",
    ").properties(width=150, height = 300)"
   ]
  },
  {
   "cell_type": "markdown",
   "metadata": {},
   "source": [
    "## TROPoe scans"
   ]
  },
  {
   "cell_type": "markdown",
   "metadata": {},
   "source": [
    "For April 18, the tropoe data are not available from the arm portal. Bianca gave them to me directly"
   ]
  },
  {
   "cell_type": "code",
   "execution_count": 107,
   "metadata": {},
   "outputs": [],
   "source": [
    "tropoe_ds = xr.open_dataset(\n",
    "    \"/Users/elischwat/Development/data/sublimationofsnow/tropoe_from_bianca/gucM1tropoeAERI.raso_ctrl.20230418.001005.nc\"\n",
    ")\n",
    "tropoe_df = tropoe_ds[['theta']].to_dataframe().reset_index()"
   ]
  },
  {
   "cell_type": "code",
   "execution_count": 108,
   "metadata": {},
   "outputs": [],
   "source": [
    "tropoe_df = utils.modify_df_timezone(tropoe_df, 'UTC', 'US/Mountain')"
   ]
  },
  {
   "cell_type": "code",
   "execution_count": 109,
   "metadata": {},
   "outputs": [],
   "source": [
    "tropoe_df['height'] = tropoe_df['height']*1000"
   ]
  },
  {
   "cell_type": "code",
   "execution_count": 110,
   "metadata": {},
   "outputs": [
    {
     "data": {
      "image/svg+xml": [
       "<svg xmlns=\"http://www.w3.org/2000/svg\" xmlns:xlink=\"http://www.w3.org/1999/xlink\" version=\"1.1\" class=\"marks\" width=\"440\" height=\"347\" viewBox=\"0 0 440 347\"><rect width=\"440\" height=\"347\" fill=\"white\"/><g fill=\"none\" stroke-miterlimit=\"10\" transform=\"translate(53,10)\"><g class=\"mark-group role-frame root\" role=\"graphics-object\" aria-roledescription=\"group mark container\"><g transform=\"translate(0,0)\"><path class=\"background\" aria-hidden=\"true\" d=\"M0.5,0.5h300v300h-300Z\" stroke=\"#ddd\"/><g><g class=\"mark-group role-axis\" aria-hidden=\"true\"><g transform=\"translate(0.5,300.5)\"><path class=\"background\" aria-hidden=\"true\" d=\"M0,0h0v0h0Z\" pointer-events=\"none\"/><g><g class=\"mark-rule role-axis-grid\" pointer-events=\"none\"><line transform=\"translate(0,-300)\" x2=\"0\" y2=\"300\" stroke=\"#ddd\" stroke-width=\"1\" opacity=\"1\"/><line transform=\"translate(38,-300)\" x2=\"0\" y2=\"300\" stroke=\"#ddd\" stroke-width=\"1\" opacity=\"1\"/><line transform=\"translate(75,-300)\" x2=\"0\" y2=\"300\" stroke=\"#ddd\" stroke-width=\"1\" opacity=\"1\"/><line transform=\"translate(113,-300)\" x2=\"0\" y2=\"300\" stroke=\"#ddd\" stroke-width=\"1\" opacity=\"1\"/><line transform=\"translate(150,-300)\" x2=\"0\" y2=\"300\" stroke=\"#ddd\" stroke-width=\"1\" opacity=\"1\"/><line transform=\"translate(188,-300)\" x2=\"0\" y2=\"300\" stroke=\"#ddd\" stroke-width=\"1\" opacity=\"1\"/><line transform=\"translate(225,-300)\" x2=\"0\" y2=\"300\" stroke=\"#ddd\" stroke-width=\"1\" opacity=\"1\"/><line transform=\"translate(263,-300)\" x2=\"0\" y2=\"300\" stroke=\"#ddd\" stroke-width=\"1\" opacity=\"1\"/><line transform=\"translate(300,-300)\" x2=\"0\" y2=\"300\" stroke=\"#ddd\" stroke-width=\"1\" opacity=\"1\"/></g></g><path class=\"foreground\" aria-hidden=\"true\" d=\"\" pointer-events=\"none\" display=\"none\"/></g></g><g class=\"mark-group role-axis\" aria-hidden=\"true\"><g transform=\"translate(0.5,0.5)\"><path class=\"background\" aria-hidden=\"true\" d=\"M0,0h0v0h0Z\" pointer-events=\"none\"/><g><g class=\"mark-rule role-axis-grid\" pointer-events=\"none\"><line transform=\"translate(0,300)\" x2=\"300\" y2=\"0\" stroke=\"#ddd\" stroke-width=\"1\" opacity=\"1\"/><line transform=\"translate(0,273)\" x2=\"300\" y2=\"0\" stroke=\"#ddd\" stroke-width=\"1\" opacity=\"1\"/><line transform=\"translate(0,245)\" x2=\"300\" y2=\"0\" stroke=\"#ddd\" stroke-width=\"1\" opacity=\"1\"/><line transform=\"translate(0,218)\" x2=\"300\" y2=\"0\" stroke=\"#ddd\" stroke-width=\"1\" opacity=\"1\"/><line transform=\"translate(0,191)\" x2=\"300\" y2=\"0\" stroke=\"#ddd\" stroke-width=\"1\" opacity=\"1\"/><line transform=\"translate(0,164)\" x2=\"300\" y2=\"0\" stroke=\"#ddd\" stroke-width=\"1\" opacity=\"1\"/><line transform=\"translate(0,136)\" x2=\"300\" y2=\"0\" stroke=\"#ddd\" stroke-width=\"1\" opacity=\"1\"/><line transform=\"translate(0,109)\" x2=\"300\" y2=\"0\" stroke=\"#ddd\" stroke-width=\"1\" opacity=\"1\"/><line transform=\"translate(0,82)\" x2=\"300\" y2=\"0\" stroke=\"#ddd\" stroke-width=\"1\" opacity=\"1\"/><line transform=\"translate(0,55)\" x2=\"300\" y2=\"0\" stroke=\"#ddd\" stroke-width=\"1\" opacity=\"1\"/><line transform=\"translate(0,27)\" x2=\"300\" y2=\"0\" stroke=\"#ddd\" stroke-width=\"1\" opacity=\"1\"/><line transform=\"translate(0,0)\" x2=\"300\" y2=\"0\" stroke=\"#ddd\" stroke-width=\"1\" opacity=\"1\"/></g></g><path class=\"foreground\" aria-hidden=\"true\" d=\"\" pointer-events=\"none\" display=\"none\"/></g></g><g class=\"mark-group role-axis\" role=\"graphics-symbol\" aria-roledescription=\"axis\" aria-label=\"X-axis titled 'θ (K)' for a linear scale with values from 296 to 312\"><g transform=\"translate(0.5,300.5)\"><path class=\"background\" aria-hidden=\"true\" d=\"M0,0h0v0h0Z\" pointer-events=\"none\"/><g><g class=\"mark-rule role-axis-tick\" pointer-events=\"none\"><line transform=\"translate(0,0)\" x2=\"0\" y2=\"5\" stroke=\"#888\" stroke-width=\"1\" opacity=\"1\"/><line transform=\"translate(38,0)\" x2=\"0\" y2=\"5\" stroke=\"#888\" stroke-width=\"1\" opacity=\"1\"/><line transform=\"translate(75,0)\" x2=\"0\" y2=\"5\" stroke=\"#888\" stroke-width=\"1\" opacity=\"1\"/><line transform=\"translate(113,0)\" x2=\"0\" y2=\"5\" stroke=\"#888\" stroke-width=\"1\" opacity=\"1\"/><line transform=\"translate(150,0)\" x2=\"0\" y2=\"5\" stroke=\"#888\" stroke-width=\"1\" opacity=\"1\"/><line transform=\"translate(188,0)\" x2=\"0\" y2=\"5\" stroke=\"#888\" stroke-width=\"1\" opacity=\"1\"/><line transform=\"translate(225,0)\" x2=\"0\" y2=\"5\" stroke=\"#888\" stroke-width=\"1\" opacity=\"1\"/><line transform=\"translate(263,0)\" x2=\"0\" y2=\"5\" stroke=\"#888\" stroke-width=\"1\" opacity=\"1\"/><line transform=\"translate(300,0)\" x2=\"0\" y2=\"5\" stroke=\"#888\" stroke-width=\"1\" opacity=\"1\"/></g><g class=\"mark-text role-axis-label\" pointer-events=\"none\"><text text-anchor=\"start\" transform=\"translate(0,15)\" font-family=\"sans-serif\" font-size=\"10px\" fill=\"#000\" opacity=\"1\">296</text><text text-anchor=\"middle\" transform=\"translate(37.5,15)\" font-family=\"sans-serif\" font-size=\"10px\" fill=\"#000\" opacity=\"1\">298</text><text text-anchor=\"middle\" transform=\"translate(75,15)\" font-family=\"sans-serif\" font-size=\"10px\" fill=\"#000\" opacity=\"1\">300</text><text text-anchor=\"middle\" transform=\"translate(112.5,15)\" font-family=\"sans-serif\" font-size=\"10px\" fill=\"#000\" opacity=\"1\">302</text><text text-anchor=\"middle\" transform=\"translate(150,15)\" font-family=\"sans-serif\" font-size=\"10px\" fill=\"#000\" opacity=\"1\">304</text><text text-anchor=\"middle\" transform=\"translate(187.5,15)\" font-family=\"sans-serif\" font-size=\"10px\" fill=\"#000\" opacity=\"1\">306</text><text text-anchor=\"middle\" transform=\"translate(225,15)\" font-family=\"sans-serif\" font-size=\"10px\" fill=\"#000\" opacity=\"1\">308</text><text text-anchor=\"middle\" transform=\"translate(262.5,15)\" font-family=\"sans-serif\" font-size=\"10px\" fill=\"#000\" opacity=\"1\">310</text><text text-anchor=\"end\" transform=\"translate(300,15)\" font-family=\"sans-serif\" font-size=\"10px\" fill=\"#000\" opacity=\"1\">312</text></g><g class=\"mark-rule role-axis-domain\" pointer-events=\"none\"><line transform=\"translate(0,0)\" x2=\"300\" y2=\"0\" stroke=\"#888\" stroke-width=\"1\" opacity=\"1\"/></g><g class=\"mark-text role-axis-title\" pointer-events=\"none\"><text text-anchor=\"middle\" transform=\"translate(150,30)\" font-family=\"sans-serif\" font-size=\"11px\" font-weight=\"bold\" fill=\"#000\" opacity=\"1\">θ (K)</text></g></g><path class=\"foreground\" aria-hidden=\"true\" d=\"\" pointer-events=\"none\" display=\"none\"/></g></g><g class=\"mark-group role-axis\" role=\"graphics-symbol\" aria-roledescription=\"axis\" aria-label=\"Y-axis titled 'Height (AGL) (km)' for a linear scale with values from 0 to 2,200\"><g transform=\"translate(0.5,0.5)\"><path class=\"background\" aria-hidden=\"true\" d=\"M0,0h0v0h0Z\" pointer-events=\"none\"/><g><g class=\"mark-rule role-axis-tick\" pointer-events=\"none\"><line transform=\"translate(0,300)\" x2=\"-5\" y2=\"0\" stroke=\"#888\" stroke-width=\"1\" opacity=\"1\"/><line transform=\"translate(0,273)\" x2=\"-5\" y2=\"0\" stroke=\"#888\" stroke-width=\"1\" opacity=\"1\"/><line transform=\"translate(0,245)\" x2=\"-5\" y2=\"0\" stroke=\"#888\" stroke-width=\"1\" opacity=\"1\"/><line transform=\"translate(0,218)\" x2=\"-5\" y2=\"0\" stroke=\"#888\" stroke-width=\"1\" opacity=\"1\"/><line transform=\"translate(0,191)\" x2=\"-5\" y2=\"0\" stroke=\"#888\" stroke-width=\"1\" opacity=\"1\"/><line transform=\"translate(0,164)\" x2=\"-5\" y2=\"0\" stroke=\"#888\" stroke-width=\"1\" opacity=\"1\"/><line transform=\"translate(0,136)\" x2=\"-5\" y2=\"0\" stroke=\"#888\" stroke-width=\"1\" opacity=\"1\"/><line transform=\"translate(0,109)\" x2=\"-5\" y2=\"0\" stroke=\"#888\" stroke-width=\"1\" opacity=\"1\"/><line transform=\"translate(0,82)\" x2=\"-5\" y2=\"0\" stroke=\"#888\" stroke-width=\"1\" opacity=\"1\"/><line transform=\"translate(0,55)\" x2=\"-5\" y2=\"0\" stroke=\"#888\" stroke-width=\"1\" opacity=\"1\"/><line transform=\"translate(0,27)\" x2=\"-5\" y2=\"0\" stroke=\"#888\" stroke-width=\"1\" opacity=\"1\"/><line transform=\"translate(0,0)\" x2=\"-5\" y2=\"0\" stroke=\"#888\" stroke-width=\"1\" opacity=\"1\"/></g><g class=\"mark-text role-axis-label\" pointer-events=\"none\"><text text-anchor=\"end\" transform=\"translate(-7,303)\" font-family=\"sans-serif\" font-size=\"10px\" fill=\"#000\" opacity=\"1\">0</text><text text-anchor=\"end\" transform=\"translate(-7,275.7272727272727)\" font-family=\"sans-serif\" font-size=\"10px\" fill=\"#000\" opacity=\"1\">200</text><text text-anchor=\"end\" transform=\"translate(-7,248.45454545454544)\" font-family=\"sans-serif\" font-size=\"10px\" fill=\"#000\" opacity=\"1\">400</text><text text-anchor=\"end\" transform=\"translate(-7,221.1818181818182)\" font-family=\"sans-serif\" font-size=\"10px\" fill=\"#000\" opacity=\"1\">600</text><text text-anchor=\"end\" transform=\"translate(-7,193.9090909090909)\" font-family=\"sans-serif\" font-size=\"10px\" fill=\"#000\" opacity=\"1\">800</text><text text-anchor=\"end\" transform=\"translate(-7,166.63636363636363)\" font-family=\"sans-serif\" font-size=\"10px\" fill=\"#000\" opacity=\"1\">1,000</text><text text-anchor=\"end\" transform=\"translate(-7,139.36363636363637)\" font-family=\"sans-serif\" font-size=\"10px\" fill=\"#000\" opacity=\"1\">1,200</text><text text-anchor=\"end\" transform=\"translate(-7,112.0909090909091)\" font-family=\"sans-serif\" font-size=\"10px\" fill=\"#000\" opacity=\"1\">1,400</text><text text-anchor=\"end\" transform=\"translate(-7,84.81818181818181)\" font-family=\"sans-serif\" font-size=\"10px\" fill=\"#000\" opacity=\"1\">1,600</text><text text-anchor=\"end\" transform=\"translate(-7,57.54545454545453)\" font-family=\"sans-serif\" font-size=\"10px\" fill=\"#000\" opacity=\"1\">1,800</text><text text-anchor=\"end\" transform=\"translate(-7,30.27272727272728)\" font-family=\"sans-serif\" font-size=\"10px\" fill=\"#000\" opacity=\"1\">2,000</text><text text-anchor=\"end\" transform=\"translate(-7,3)\" font-family=\"sans-serif\" font-size=\"10px\" fill=\"#000\" opacity=\"1\">2,200</text></g><g class=\"mark-rule role-axis-domain\" pointer-events=\"none\"><line transform=\"translate(0,300)\" x2=\"0\" y2=\"-300\" stroke=\"#888\" stroke-width=\"1\" opacity=\"1\"/></g><g class=\"mark-text role-axis-title\" pointer-events=\"none\"><text text-anchor=\"middle\" transform=\"translate(-36.0244140625,150) rotate(-90) translate(0,-2)\" font-family=\"sans-serif\" font-size=\"11px\" font-weight=\"bold\" fill=\"#000\" opacity=\"1\">Height (AGL) (km)</text></g></g><path class=\"foreground\" aria-hidden=\"true\" d=\"\" pointer-events=\"none\" display=\"none\"/></g></g><g class=\"mark-group role-scope pathgroup\" role=\"graphics-object\" aria-roledescription=\"group mark container\"><g transform=\"translate(0,0)\"><path class=\"background\" aria-hidden=\"true\" d=\"M0,0h300v300h-300Z\"/><g><g class=\"mark-line role-mark marks\" role=\"graphics-object\" aria-roledescription=\"line mark container\"><path aria-label=\"θ (K): 298.342605591; Height (AGL) (km): 0; time (hours): 00:00; height: 0\" role=\"graphics-symbol\" aria-roledescription=\"line mark\" d=\"M43.924,300L60.623,298.636L77.287,297.136L93.436,295.5L109.671,293.727L126.929,291.682L143.949,289.5L161.163,287.045L176.143,284.455L190.207,281.455L201.414,278.318L211.322,274.773L219.696,270.818L225.953,266.591L231.285,261.818L234.768,256.636L236.779,251.045L238.847,244.773L240.259,237.818L241.126,230.182L241.43,221.864L241.787,212.727L241.793,202.636L241.928,191.591L242.201,179.318L242.693,165.955L243.075,151.091L244.237,134.864L246.533,117L252.93,97.364L261.568,75.682L274.08,51.955L289.216,25.773\" stroke=\"rgb(152, 61, 178)\" stroke-width=\"2\"/></g></g><path class=\"foreground\" aria-hidden=\"true\" d=\"\" display=\"none\"/></g><g transform=\"translate(0,0)\"><path class=\"background\" aria-hidden=\"true\" d=\"M0,0h300v300h-300Z\"/><g><g class=\"mark-line role-mark marks\" role=\"graphics-object\" aria-roledescription=\"line mark container\"><path aria-label=\"θ (K): 297.431879679; Height (AGL) (km): 0; time (hours): 01:00; height: 0\" role=\"graphics-symbol\" aria-roledescription=\"line mark\" d=\"M26.848,300L43.474,298.636L60.124,297.136L76.235,295.5L92.331,293.727L109.258,291.682L125.761,289.5L142.285,287.045L156.625,284.455L170.058,281.455L180.83,278.318L190.516,274.773L198.954,270.818L205.55,266.591L211.694,261.818L216.499,256.636L220.413,251.045L224.449,244.773L227.771,237.818L230.599,230.182L232.657,221.864L235.011,212.727L235.881,202.636L237.395,191.591L239.799,179.318L242.688,165.955L245.166,151.091L249.67,134.864L254.842,117L262.142,97.364L270.755,75.682L282.857,51.955L297.515,25.773\" stroke=\"rgb(195, 60, 173)\" stroke-width=\"2\"/></g></g><path class=\"foreground\" aria-hidden=\"true\" d=\"\" display=\"none\"/></g><g transform=\"translate(0,0)\"><path class=\"background\" aria-hidden=\"true\" d=\"M0,0h300v300h-300Z\"/><g><g class=\"mark-line role-mark marks\" role=\"graphics-object\" aria-roledescription=\"line mark container\"><path aria-label=\"θ (K): 297.851531982; Height (AGL) (km): 0; time (hours): 02:00; height: 0\" role=\"graphics-symbol\" aria-roledescription=\"line mark\" d=\"M34.716,300L48.607,298.636L62.422,297.136L75.742,295.5L89.292,293.727L103.88,291.682L118.38,289.5L133.245,287.045L146.361,284.455L158.838,281.455L168.973,278.318L178.186,274.773L186.248,270.818L192.565,266.591L198.509,261.818L203.154,256.636L207.076,251.045L211.058,244.773L214.341,237.818L217.187,230.182L219.28,221.864L221.735,212.727L222.587,202.636L224.484,191.591L227.17,179.318L230.407,165.955L233.45,151.091L238.782,134.864L244.769,117L252.94,97.364L262.753,75.682L276.425,51.955L293.068,25.773\" stroke=\"rgb(232, 66, 153)\" stroke-width=\"2\"/></g></g><path class=\"foreground\" aria-hidden=\"true\" d=\"\" display=\"none\"/></g><g transform=\"translate(0,0)\"><path class=\"background\" aria-hidden=\"true\" d=\"M0,0h300v300h-300Z\"/><g><g class=\"mark-line role-mark marks\" role=\"graphics-object\" aria-roledescription=\"line mark container\"><path aria-label=\"θ (K): 299.480270386; Height (AGL) (km): 0; time (hours): 03:00; height: 0\" role=\"graphics-symbol\" aria-roledescription=\"line mark\" d=\"M65.255,300L76.151,298.636L85.953,297.136L94.718,295.5L103.508,293.727L113.14,291.682L123.11,289.5L134.112,287.045L144.386,284.455L154.848,281.455L164.041,278.318L172.822,274.773L180.817,270.818L187.462,266.591L194.261,261.818L200.051,256.636L205.644,251.045L211.083,244.773L215.393,237.818L218.993,230.182L221.851,221.864L224.816,212.727L226.077,202.636L227.772,191.591L229.993,179.318L232.741,165.955L234.972,151.091L239.767,134.864L245.503,117L253.541,97.364L263.34,75.682L277.402,51.955L294.328,25.773\" stroke=\"rgb(254, 79, 124)\" stroke-width=\"2\"/></g></g><path class=\"foreground\" aria-hidden=\"true\" d=\"\" display=\"none\"/></g><g transform=\"translate(0,0)\"><path class=\"background\" aria-hidden=\"true\" d=\"M0,0h300v300h-300Z\"/><g><g class=\"mark-line role-mark marks\" role=\"graphics-object\" aria-roledescription=\"line mark container\"><path aria-label=\"θ (K): 299.231765747; Height (AGL) (km): 0; time (hours): 04:00; height: 0\" role=\"graphics-symbol\" aria-roledescription=\"line mark\" d=\"M60.596,300L69.706,298.636L78.424,297.136L86.583,295.5L95.326,293.727L105.408,291.682L116.229,289.5L128.394,287.045L139.756,284.455L151.206,281.455L161.177,278.318L170.543,274.773L178.801,270.818L185.412,266.591L191.864,261.818L196.965,256.636L201.486,251.045L205.966,244.773L209.386,237.818L212.044,230.182L213.805,221.864L215.792,212.727L216.321,202.636L217.369,191.591L218.847,179.318L221.082,165.955L222.964,151.091L227.875,134.864L233.94,117L242.596,97.364L253.09,75.682L267.897,51.955L285.573,25.773\" stroke=\"rgb(255, 100, 91)\" stroke-width=\"2\"/></g></g><path class=\"foreground\" aria-hidden=\"true\" d=\"\" display=\"none\"/></g><g transform=\"translate(0,0)\"><path class=\"background\" aria-hidden=\"true\" d=\"M0,0h300v300h-300Z\"/><g><g class=\"mark-line role-mark marks\" role=\"graphics-object\" aria-roledescription=\"line mark container\"><path aria-label=\"θ (K): 299.970255534; Height (AGL) (km): 0; time (hours): 05:00; height: 0\" role=\"graphics-symbol\" aria-roledescription=\"line mark\" d=\"M74.442,300L89.204,298.636L103.124,297.136L116.134,295.5L128.874,293.727L141.838,291.682L154.203,289.5L166.424,287.045L176.616,284.455L185.919,281.455L193.148,278.318L199.338,274.773L204.414,270.818L207.775,266.591L210.397,261.818L211.565,256.636L211.757,251.045L212.088,244.773L212.162,237.818L212.175,230.182L212.174,221.864L212.173,212.727L212.173,202.636L212.174,191.591L212.176,179.318L212.183,165.955L212.643,151.091L214.4,134.864L219.258,117L228.857,97.364L240.58,75.682L256.345,51.955L275.006,25.773\" stroke=\"rgb(255, 129, 64)\" stroke-width=\"2\"/></g></g><path class=\"foreground\" aria-hidden=\"true\" d=\"\" display=\"none\"/></g><g transform=\"translate(0,0)\"><path class=\"background\" aria-hidden=\"true\" d=\"M0,0h300v300h-300Z\"/><g><g class=\"mark-line role-mark marks\" role=\"graphics-object\" aria-roledescription=\"line mark container\"><path aria-label=\"θ (K): 303.302134196; Height (AGL) (km): 0; time (hours): 06:00; height: 0\" role=\"graphics-symbol\" aria-roledescription=\"line mark\" d=\"M136.915,300L148.926,298.636L158.934,297.136L167.43,295.5L175.135,293.727L182.143,291.682L188.208,289.5L193.82,287.045L197.944,284.455L201.425,281.455L203.833,278.318L205.716,274.773L207.28,270.818L207.747,266.591L207.883,261.818L208.014,256.636L208.012,251.045L208.009,244.773L208.007,237.818L208.005,230.182L208.003,221.864L208,212.727L207.998,202.636L207.996,191.591L207.996,179.318L208.571,165.955L209.555,151.091L211.778,134.864L217.618,117L228.654,97.364L242.14,75.682L259.4,51.955L279.162,25.773\" stroke=\"rgb(242, 162, 48)\" stroke-width=\"2\"/></g></g><path class=\"foreground\" aria-hidden=\"true\" d=\"\" display=\"none\"/></g><g transform=\"translate(0,0)\"><path class=\"background\" aria-hidden=\"true\" d=\"M0,0h300v300h-300Z\"/><g><g class=\"mark-line role-mark marks\" role=\"graphics-object\" aria-roledescription=\"line mark container\"><path aria-label=\"θ (K): 305.356348674; Height (AGL) (km): 0; time (hours): 07:00; height: 0\" role=\"graphics-symbol\" aria-roledescription=\"line mark\" d=\"M175.432,300L179.006,298.636L181.907,297.136L184.133,295.5L186.584,293.727L188.918,291.682L190.992,289.5L193.097,287.045L194.304,284.455L195.099,281.455L195.385,278.318L195.503,274.773L195.758,270.818L195.185,266.591L194.481,261.818L194.475,256.636L194.47,251.045L194.464,244.773L194.457,237.818L194.45,230.182L194.443,221.864L194.435,212.727L194.429,202.636L194.437,191.591L195.158,179.318L196.582,165.955L200.113,151.091L207.62,134.864L216.788,117L227.936,97.364L241.511,75.682L257.902,51.955L276.213,25.773\" stroke=\"rgb(214, 196, 51)\" stroke-width=\"2\"/></g></g><path class=\"foreground\" aria-hidden=\"true\" d=\"\" display=\"none\"/></g><g transform=\"translate(0,0)\"><path class=\"background\" aria-hidden=\"true\" d=\"M0,0h300v300h-300Z\"/><g><g class=\"mark-line role-mark marks\" role=\"graphics-object\" aria-roledescription=\"line mark container\"><path aria-label=\"θ (K): 306.163955688; Height (AGL) (km): 0; time (hours): 08:00; height: 0\" role=\"graphics-symbol\" aria-roledescription=\"line mark\" d=\"M190.574,300L190.823,298.636L190.892,297.136L190.611,295.5L190.986,293.727L191.689,291.682L192.618,289.5L193.923,287.045L194.627,284.455L195.12,281.455L195.3,278.318L195.363,274.773L195.662,270.818L195.214,266.591L194.656,261.818L194.649,256.636L194.641,251.045L194.633,244.773L194.623,237.818L194.613,230.182L194.601,221.864L194.59,212.727L194.577,202.636L194.566,191.591L194.952,179.318L196.293,165.955L197.916,151.091L201.49,134.864L208.725,117L218.001,97.364L229.559,75.682L243.637,51.955L259.49,25.773\" stroke=\"rgb(187, 227, 73)\" stroke-width=\"2\"/></g></g><path class=\"foreground\" aria-hidden=\"true\" d=\"\" display=\"none\"/></g><g transform=\"translate(0,0)\"><path class=\"background\" aria-hidden=\"true\" d=\"M0,0h300v300h-300Z\"/><g><g class=\"mark-line role-mark marks\" role=\"graphics-object\" aria-roledescription=\"line mark container\"><path aria-label=\"θ (K): 306.360555013; Height (AGL) (km): 0; time (hours): 09:00; height: 0\" role=\"graphics-symbol\" aria-roledescription=\"line mark\" d=\"M194.26,300L194.164,298.636L194.026,297.136L193.657,295.5L194.003,293.727L194.899,291.682L196.229,289.5L197.891,287.045L198.89,284.455L199.663,281.455L200.089,278.318L200.231,274.773L200.642,270.818L200.366,266.591L199.992,261.818L199.989,256.636L199.986,251.045L199.983,244.773L199.979,237.818L199.976,230.182L199.972,221.864L199.967,212.727L199.962,202.636L199.956,191.591L200.475,179.318L201.257,165.955L201.906,151.091L203.097,134.864L204.922,117L207.955,97.364L212.851,75.682L218.747,51.955L227.065,25.773\" stroke=\"rgb(150, 243, 88)\" stroke-width=\"2\"/></g></g><path class=\"foreground\" aria-hidden=\"true\" d=\"\" display=\"none\"/></g><g transform=\"translate(0,0)\"><path class=\"background\" aria-hidden=\"true\" d=\"M0,0h300v300h-300Z\"/><g><g class=\"mark-line role-mark marks\" role=\"graphics-object\" aria-roledescription=\"line mark container\"><path aria-label=\"θ (K): 306.048294067; Height (AGL) (km): 0; time (hours): 10:00; height: 0\" role=\"graphics-symbol\" aria-roledescription=\"line mark\" d=\"M188.406,300L188.533,298.636L188.566,297.136L188.267,295.5L188.623,293.727L189.44,291.682L190.58,289.5L192.033,287.045L192.842,284.455L193.481,281.455L193.821,278.318L193.937,274.773L194.334,270.818L194.112,266.591L193.849,261.818L193.846,256.636L193.844,251.045L193.842,244.773L193.839,237.818L193.836,230.182L193.832,221.864L193.828,212.727L193.824,202.636L193.82,191.591L193.814,179.318L193.809,165.955L193.804,151.091L194.137,134.864L195.459,117L198.427,97.364L204.19,75.682L212.156,51.955L221.876,25.773\" stroke=\"rgb(100, 246, 95)\" stroke-width=\"2\"/></g></g><path class=\"foreground\" aria-hidden=\"true\" d=\"\" display=\"none\"/></g><g transform=\"translate(0,0)\"><path class=\"background\" aria-hidden=\"true\" d=\"M0,0h300v300h-300Z\"/><g><g class=\"mark-line role-mark marks\" role=\"graphics-object\" aria-roledescription=\"line mark container\"><path aria-label=\"θ (K): 306.573313395; Height (AGL) (km): 0; time (hours): 11:00; height: 0\" role=\"graphics-symbol\" aria-roledescription=\"line mark\" d=\"M198.25,300L197.557,298.636L197.06,297.136L196.389,295.5L196.515,293.727L197.241,291.682L198.433,289.5L200.099,287.045L201.203,284.455L202.235,281.455L203.052,278.318L203.664,274.773L204.556,270.818L204.804,266.591L205.024,261.818L205.021,256.636L205.019,251.045L205.016,244.773L205.012,237.818L205.009,230.182L205.005,221.864L205,212.727L204.995,202.636L204.99,191.591L204.984,179.318L204.978,165.955L205.395,151.091L206.187,134.864L207.121,117L208.317,97.364L209.8,75.682L212.899,51.955L217.294,25.773\" stroke=\"rgb(59, 242, 119)\" stroke-width=\"2\"/></g></g><path class=\"foreground\" aria-hidden=\"true\" d=\"\" display=\"none\"/></g><g transform=\"translate(0,0)\"><path class=\"background\" aria-hidden=\"true\" d=\"M0,0h300v300h-300Z\"/><g><g class=\"mark-line role-mark marks\" role=\"graphics-object\" aria-roledescription=\"line mark container\"><path aria-label=\"θ (K): 308.465911865; Height (AGL) (km): 0; time (hours): 12:00; height: 0\" role=\"graphics-symbol\" aria-roledescription=\"line mark\" d=\"M233.736,300L229.791,298.636L226.62,297.136L223.825,295.5L222.718,293.727L223.129,291.682L224.822,289.5L227.682,287.045L230.176,284.455L232.573,281.455L234.308,278.318L235.639,274.773L236.842,270.818L236.829,266.591L236.133,261.818L236.127,256.636L236.12,251.045L236.113,244.773L236.104,237.818L236.095,230.182L236.084,221.864L236.073,212.727L236.061,202.636L236.047,191.591L236.031,179.318L236.014,165.955L235.995,151.091L235.974,134.864L235.952,117L236.064,97.364L236.84,75.682L242.967,51.955L254.404,25.773\" stroke=\"rgb(34, 228, 153)\" stroke-width=\"2\"/></g></g><path class=\"foreground\" aria-hidden=\"true\" d=\"\" display=\"none\"/></g><g transform=\"translate(0,0)\"><path class=\"background\" aria-hidden=\"true\" d=\"M0,0h300v300h-300Z\"/><g><g class=\"mark-line role-mark marks\" role=\"graphics-object\" aria-roledescription=\"line mark container\"><path aria-label=\"θ (K): 309.636652629; Height (AGL) (km): 0; time (hours): 13:00; height: 0\" role=\"graphics-symbol\" aria-roledescription=\"line mark\" d=\"M255.687,300L251.35,298.636L247.725,297.136L244.498,295.5L243.054,293.727L243.183,291.682L244.689,289.5L247.478,287.045L249.938,284.455L252.289,281.455L253.903,278.318L255.095,274.773L256.074,270.818L255.723,266.591L254.542,261.818L254.535,256.636L254.529,251.045L254.521,244.773L254.512,237.818L254.502,230.182L254.492,221.864L254.48,212.727L254.468,202.636L254.454,191.591L254.438,179.318L254.421,165.955L254.401,151.091L254.38,134.864L254.357,117L254.331,97.364L254.306,75.682L258.575,51.955L271.257,25.773\" stroke=\"rgb(25, 206, 186)\" stroke-width=\"2\"/></g></g><path class=\"foreground\" aria-hidden=\"true\" d=\"\" display=\"none\"/></g><g transform=\"translate(0,0)\"><path class=\"background\" aria-hidden=\"true\" d=\"M0,0h300v300h-300Z\"/><g><g class=\"mark-line role-mark marks\" role=\"graphics-object\" aria-roledescription=\"line mark container\"><path aria-label=\"θ (K): 309.172368368; Height (AGL) (km): 0; time (hours): 14:00; height: 0\" role=\"graphics-symbol\" aria-roledescription=\"line mark\" d=\"M246.982,300L245.352,298.636L243.902,297.136L242.321,295.5L241.665,293.727L241.654,291.682L242.304,289.5L243.611,287.045L244.48,284.455L245.3,281.455L245.843,278.318L246.185,274.773L246.843,270.818L246.777,266.591L246.609,261.818L246.605,256.636L246.6,251.045L246.594,244.773L246.588,237.818L246.582,230.182L246.574,221.864L246.566,212.727L246.557,202.636L246.547,191.591L246.536,179.318L246.524,165.955L246.51,151.091L246.495,134.864L246.479,117L247.101,97.364L249.585,75.682L254.409,51.955L260.856,25.773\" stroke=\"rgb(33, 177, 212)\" stroke-width=\"2\"/></g></g><path class=\"foreground\" aria-hidden=\"true\" d=\"\" display=\"none\"/></g><g transform=\"translate(0,0)\"><path class=\"background\" aria-hidden=\"true\" d=\"M0,0h300v300h-300Z\"/><g><g class=\"mark-line role-mark marks\" role=\"graphics-object\" aria-roledescription=\"line mark container\"><path aria-label=\"θ (K): 309.364079793; Height (AGL) (km): 0; time (hours): 15:00; height: 0\" role=\"graphics-symbol\" aria-roledescription=\"line mark\" d=\"M250.576,300L249.889,298.636L249.214,297.136L248.292,295.5L248.119,293.727L248.436,291.682L249.289,289.5L250.733,287.045L251.695,284.455L252.608,281.455L253.23,278.318L253.638,274.773L254.364,270.818L254.368,266.591L254.279,261.818L254.275,256.636L254.271,251.045L254.266,244.773L254.261,237.818L254.255,230.182L254.248,221.864L254.241,212.727L254.233,202.636L254.224,191.591L254.214,179.318L254.204,165.955L254.192,151.091L254.179,134.864L254.164,117L254.149,97.364L256.196,75.682L260.816,51.955L267.337,25.773\" stroke=\"rgb(51, 145, 224)\" stroke-width=\"2\"/></g></g><path class=\"foreground\" aria-hidden=\"true\" d=\"\" display=\"none\"/></g><g transform=\"translate(0,0)\"><path class=\"background\" aria-hidden=\"true\" d=\"M0,0h300v300h-300Z\"/><g><g class=\"mark-line role-mark marks\" role=\"graphics-object\" aria-roledescription=\"line mark container\"><path aria-label=\"θ (K): 309.723561605; Height (AGL) (km): 0; time (hours): 16:00; height: 0\" role=\"graphics-symbol\" aria-roledescription=\"line mark\" d=\"M257.317,300L257.195,298.636L256.909,297.136L256.326,295.5L256.44,293.727L257.029,291.682L258.129,289.5L259.81,287.045L260.957,284.455L262.017,281.455L262.68,278.318L263.095,274.773L263.787,270.818L263.676,266.591L263.358,261.818L263.356,256.636L263.353,251.045L263.35,244.773L263.346,237.818L263.342,230.182L263.338,221.864L263.333,212.727L263.328,202.636L263.322,191.591L263.316,179.318L263.309,165.955L263.301,151.091L263.293,134.864L263.507,117L263.982,97.364L264.623,75.682L267.76,51.955L274.604,25.773\" stroke=\"rgb(74, 113, 220)\" stroke-width=\"2\"/></g></g><path class=\"foreground\" aria-hidden=\"true\" d=\"\" display=\"none\"/></g><g transform=\"translate(0,0)\"><path class=\"background\" aria-hidden=\"true\" d=\"M0,0h300v300h-300Z\"/><g><g class=\"mark-line role-mark marks\" role=\"graphics-object\" aria-roledescription=\"line mark container\"><path aria-label=\"θ (K): 309.463916016; Height (AGL) (km): 0; time (hours): 17:00; height: 0\" role=\"graphics-symbol\" aria-roledescription=\"line mark\" d=\"M252.448,300L253.516,298.636L254.386,297.136L254.891,295.5L255.921,293.727L257.258,291.682L258.926,289.5L260.999,287.045L262.381,284.455L263.599,281.455L264.365,278.318L264.821,274.773L265.576,270.818L265.6,266.591L265.504,261.818L265.501,256.636L265.499,251.045L265.496,244.773L265.493,237.818L265.49,230.182L265.486,221.864L265.482,212.727L265.478,202.636L265.473,191.591L265.467,179.318L265.462,165.955L265.455,151.091L265.447,134.864L265.935,117L266.647,97.364L267.949,75.682L270.124,51.955L273.851,25.773\" stroke=\"rgb(95, 86, 201)\" stroke-width=\"2\"/></g></g><path class=\"foreground\" aria-hidden=\"true\" d=\"\" display=\"none\"/></g></g><g class=\"mark-group role-legend\" role=\"graphics-symbol\" aria-roledescription=\"legend\" aria-label=\"Symbol legend titled 'time (hours)' for stroke color with 18 values: 00:00, 01:00, 02:00, 03:00, 04:00, ending with 17:00\"><g transform=\"translate(318,0)\"><path class=\"background\" aria-hidden=\"true\" d=\"M0,0h64v248h-64Z\" pointer-events=\"none\"/><g><g class=\"mark-group role-legend-entry\"><g transform=\"translate(0,16)\"><path class=\"background\" aria-hidden=\"true\" d=\"M0,0h0v0h0Z\" pointer-events=\"none\"/><g><g class=\"mark-group role-scope\" role=\"graphics-object\" aria-roledescription=\"group mark container\"><g transform=\"translate(0,0)\"><path class=\"background\" aria-hidden=\"true\" d=\"M0,0h41.0244140625v11h-41.0244140625Z\" pointer-events=\"none\" opacity=\"1\"/><g><g class=\"mark-symbol role-legend-symbol\" pointer-events=\"none\"><path transform=\"translate(6,6)\" d=\"M-5,0L5,0\" stroke=\"rgb(152, 61, 178)\" stroke-width=\"1.5\" opacity=\"1\"/></g><g class=\"mark-text role-legend-label\" pointer-events=\"none\"><text text-anchor=\"start\" transform=\"translate(16,9)\" font-family=\"sans-serif\" font-size=\"10px\" fill=\"#000\" opacity=\"1\">00:00</text></g></g><path class=\"foreground\" aria-hidden=\"true\" d=\"\" pointer-events=\"none\" display=\"none\"/></g><g transform=\"translate(0,13)\"><path class=\"background\" aria-hidden=\"true\" d=\"M0,0h41.0244140625v11h-41.0244140625Z\" pointer-events=\"none\" opacity=\"1\"/><g><g class=\"mark-symbol role-legend-symbol\" pointer-events=\"none\"><path transform=\"translate(6,6)\" d=\"M-5,0L5,0\" stroke=\"rgb(195, 60, 173)\" stroke-width=\"1.5\" opacity=\"1\"/></g><g class=\"mark-text role-legend-label\" pointer-events=\"none\"><text text-anchor=\"start\" transform=\"translate(16,9)\" font-family=\"sans-serif\" font-size=\"10px\" fill=\"#000\" opacity=\"1\">01:00</text></g></g><path class=\"foreground\" aria-hidden=\"true\" d=\"\" pointer-events=\"none\" display=\"none\"/></g><g transform=\"translate(0,26)\"><path class=\"background\" aria-hidden=\"true\" d=\"M0,0h41.0244140625v11h-41.0244140625Z\" pointer-events=\"none\" opacity=\"1\"/><g><g class=\"mark-symbol role-legend-symbol\" pointer-events=\"none\"><path transform=\"translate(6,6)\" d=\"M-5,0L5,0\" stroke=\"rgb(232, 66, 153)\" stroke-width=\"1.5\" opacity=\"1\"/></g><g class=\"mark-text role-legend-label\" pointer-events=\"none\"><text text-anchor=\"start\" transform=\"translate(16,9)\" font-family=\"sans-serif\" font-size=\"10px\" fill=\"#000\" opacity=\"1\">02:00</text></g></g><path class=\"foreground\" aria-hidden=\"true\" d=\"\" pointer-events=\"none\" display=\"none\"/></g><g transform=\"translate(0,39)\"><path class=\"background\" aria-hidden=\"true\" d=\"M0,0h41.0244140625v11h-41.0244140625Z\" pointer-events=\"none\" opacity=\"1\"/><g><g class=\"mark-symbol role-legend-symbol\" pointer-events=\"none\"><path transform=\"translate(6,6)\" d=\"M-5,0L5,0\" stroke=\"rgb(254, 79, 124)\" stroke-width=\"1.5\" opacity=\"1\"/></g><g class=\"mark-text role-legend-label\" pointer-events=\"none\"><text text-anchor=\"start\" transform=\"translate(16,9)\" font-family=\"sans-serif\" font-size=\"10px\" fill=\"#000\" opacity=\"1\">03:00</text></g></g><path class=\"foreground\" aria-hidden=\"true\" d=\"\" pointer-events=\"none\" display=\"none\"/></g><g transform=\"translate(0,52)\"><path class=\"background\" aria-hidden=\"true\" d=\"M0,0h41.0244140625v11h-41.0244140625Z\" pointer-events=\"none\" opacity=\"1\"/><g><g class=\"mark-symbol role-legend-symbol\" pointer-events=\"none\"><path transform=\"translate(6,6)\" d=\"M-5,0L5,0\" stroke=\"rgb(255, 100, 91)\" stroke-width=\"1.5\" opacity=\"1\"/></g><g class=\"mark-text role-legend-label\" pointer-events=\"none\"><text text-anchor=\"start\" transform=\"translate(16,9)\" font-family=\"sans-serif\" font-size=\"10px\" fill=\"#000\" opacity=\"1\">04:00</text></g></g><path class=\"foreground\" aria-hidden=\"true\" d=\"\" pointer-events=\"none\" display=\"none\"/></g><g transform=\"translate(0,65)\"><path class=\"background\" aria-hidden=\"true\" d=\"M0,0h41.0244140625v11h-41.0244140625Z\" pointer-events=\"none\" opacity=\"1\"/><g><g class=\"mark-symbol role-legend-symbol\" pointer-events=\"none\"><path transform=\"translate(6,6)\" d=\"M-5,0L5,0\" stroke=\"rgb(255, 129, 64)\" stroke-width=\"1.5\" opacity=\"1\"/></g><g class=\"mark-text role-legend-label\" pointer-events=\"none\"><text text-anchor=\"start\" transform=\"translate(16,9)\" font-family=\"sans-serif\" font-size=\"10px\" fill=\"#000\" opacity=\"1\">05:00</text></g></g><path class=\"foreground\" aria-hidden=\"true\" d=\"\" pointer-events=\"none\" display=\"none\"/></g><g transform=\"translate(0,78)\"><path class=\"background\" aria-hidden=\"true\" d=\"M0,0h41.0244140625v11h-41.0244140625Z\" pointer-events=\"none\" opacity=\"1\"/><g><g class=\"mark-symbol role-legend-symbol\" pointer-events=\"none\"><path transform=\"translate(6,6)\" d=\"M-5,0L5,0\" stroke=\"rgb(242, 162, 48)\" stroke-width=\"1.5\" opacity=\"1\"/></g><g class=\"mark-text role-legend-label\" pointer-events=\"none\"><text text-anchor=\"start\" transform=\"translate(16,9)\" font-family=\"sans-serif\" font-size=\"10px\" fill=\"#000\" opacity=\"1\">06:00</text></g></g><path class=\"foreground\" aria-hidden=\"true\" d=\"\" pointer-events=\"none\" display=\"none\"/></g><g transform=\"translate(0,91)\"><path class=\"background\" aria-hidden=\"true\" d=\"M0,0h41.0244140625v11h-41.0244140625Z\" pointer-events=\"none\" opacity=\"1\"/><g><g class=\"mark-symbol role-legend-symbol\" pointer-events=\"none\"><path transform=\"translate(6,6)\" d=\"M-5,0L5,0\" stroke=\"rgb(214, 196, 51)\" stroke-width=\"1.5\" opacity=\"1\"/></g><g class=\"mark-text role-legend-label\" pointer-events=\"none\"><text text-anchor=\"start\" transform=\"translate(16,9)\" font-family=\"sans-serif\" font-size=\"10px\" fill=\"#000\" opacity=\"1\">07:00</text></g></g><path class=\"foreground\" aria-hidden=\"true\" d=\"\" pointer-events=\"none\" display=\"none\"/></g><g transform=\"translate(0,104)\"><path class=\"background\" aria-hidden=\"true\" d=\"M0,0h41.0244140625v11h-41.0244140625Z\" pointer-events=\"none\" opacity=\"1\"/><g><g class=\"mark-symbol role-legend-symbol\" pointer-events=\"none\"><path transform=\"translate(6,6)\" d=\"M-5,0L5,0\" stroke=\"rgb(187, 227, 73)\" stroke-width=\"1.5\" opacity=\"1\"/></g><g class=\"mark-text role-legend-label\" pointer-events=\"none\"><text text-anchor=\"start\" transform=\"translate(16,9)\" font-family=\"sans-serif\" font-size=\"10px\" fill=\"#000\" opacity=\"1\">08:00</text></g></g><path class=\"foreground\" aria-hidden=\"true\" d=\"\" pointer-events=\"none\" display=\"none\"/></g><g transform=\"translate(0,117)\"><path class=\"background\" aria-hidden=\"true\" d=\"M0,0h41.0244140625v11h-41.0244140625Z\" pointer-events=\"none\" opacity=\"1\"/><g><g class=\"mark-symbol role-legend-symbol\" pointer-events=\"none\"><path transform=\"translate(6,6)\" d=\"M-5,0L5,0\" stroke=\"rgb(150, 243, 88)\" stroke-width=\"1.5\" opacity=\"1\"/></g><g class=\"mark-text role-legend-label\" pointer-events=\"none\"><text text-anchor=\"start\" transform=\"translate(16,9)\" font-family=\"sans-serif\" font-size=\"10px\" fill=\"#000\" opacity=\"1\">09:00</text></g></g><path class=\"foreground\" aria-hidden=\"true\" d=\"\" pointer-events=\"none\" display=\"none\"/></g><g transform=\"translate(0,130)\"><path class=\"background\" aria-hidden=\"true\" d=\"M0,0h41.0244140625v11h-41.0244140625Z\" pointer-events=\"none\" opacity=\"1\"/><g><g class=\"mark-symbol role-legend-symbol\" pointer-events=\"none\"><path transform=\"translate(6,6)\" d=\"M-5,0L5,0\" stroke=\"rgb(100, 246, 95)\" stroke-width=\"1.5\" opacity=\"1\"/></g><g class=\"mark-text role-legend-label\" pointer-events=\"none\"><text text-anchor=\"start\" transform=\"translate(16,9)\" font-family=\"sans-serif\" font-size=\"10px\" fill=\"#000\" opacity=\"1\">10:00</text></g></g><path class=\"foreground\" aria-hidden=\"true\" d=\"\" pointer-events=\"none\" display=\"none\"/></g><g transform=\"translate(0,143)\"><path class=\"background\" aria-hidden=\"true\" d=\"M0,0h41.0244140625v11h-41.0244140625Z\" pointer-events=\"none\" opacity=\"1\"/><g><g class=\"mark-symbol role-legend-symbol\" pointer-events=\"none\"><path transform=\"translate(6,6)\" d=\"M-5,0L5,0\" stroke=\"rgb(59, 242, 119)\" stroke-width=\"1.5\" opacity=\"1\"/></g><g class=\"mark-text role-legend-label\" pointer-events=\"none\"><text text-anchor=\"start\" transform=\"translate(16,9)\" font-family=\"sans-serif\" font-size=\"10px\" fill=\"#000\" opacity=\"1\">11:00</text></g></g><path class=\"foreground\" aria-hidden=\"true\" d=\"\" pointer-events=\"none\" display=\"none\"/></g><g transform=\"translate(0,156)\"><path class=\"background\" aria-hidden=\"true\" d=\"M0,0h41.0244140625v11h-41.0244140625Z\" pointer-events=\"none\" opacity=\"1\"/><g><g class=\"mark-symbol role-legend-symbol\" pointer-events=\"none\"><path transform=\"translate(6,6)\" d=\"M-5,0L5,0\" stroke=\"rgb(34, 228, 153)\" stroke-width=\"1.5\" opacity=\"1\"/></g><g class=\"mark-text role-legend-label\" pointer-events=\"none\"><text text-anchor=\"start\" transform=\"translate(16,9)\" font-family=\"sans-serif\" font-size=\"10px\" fill=\"#000\" opacity=\"1\">12:00</text></g></g><path class=\"foreground\" aria-hidden=\"true\" d=\"\" pointer-events=\"none\" display=\"none\"/></g><g transform=\"translate(0,169)\"><path class=\"background\" aria-hidden=\"true\" d=\"M0,0h41.0244140625v11h-41.0244140625Z\" pointer-events=\"none\" opacity=\"1\"/><g><g class=\"mark-symbol role-legend-symbol\" pointer-events=\"none\"><path transform=\"translate(6,6)\" d=\"M-5,0L5,0\" stroke=\"rgb(25, 206, 186)\" stroke-width=\"1.5\" opacity=\"1\"/></g><g class=\"mark-text role-legend-label\" pointer-events=\"none\"><text text-anchor=\"start\" transform=\"translate(16,9)\" font-family=\"sans-serif\" font-size=\"10px\" fill=\"#000\" opacity=\"1\">13:00</text></g></g><path class=\"foreground\" aria-hidden=\"true\" d=\"\" pointer-events=\"none\" display=\"none\"/></g><g transform=\"translate(0,182)\"><path class=\"background\" aria-hidden=\"true\" d=\"M0,0h41.0244140625v11h-41.0244140625Z\" pointer-events=\"none\" opacity=\"1\"/><g><g class=\"mark-symbol role-legend-symbol\" pointer-events=\"none\"><path transform=\"translate(6,6)\" d=\"M-5,0L5,0\" stroke=\"rgb(33, 177, 212)\" stroke-width=\"1.5\" opacity=\"1\"/></g><g class=\"mark-text role-legend-label\" pointer-events=\"none\"><text text-anchor=\"start\" transform=\"translate(16,9)\" font-family=\"sans-serif\" font-size=\"10px\" fill=\"#000\" opacity=\"1\">14:00</text></g></g><path class=\"foreground\" aria-hidden=\"true\" d=\"\" pointer-events=\"none\" display=\"none\"/></g><g transform=\"translate(0,195)\"><path class=\"background\" aria-hidden=\"true\" d=\"M0,0h41.0244140625v11h-41.0244140625Z\" pointer-events=\"none\" opacity=\"1\"/><g><g class=\"mark-symbol role-legend-symbol\" pointer-events=\"none\"><path transform=\"translate(6,6)\" d=\"M-5,0L5,0\" stroke=\"rgb(51, 145, 224)\" stroke-width=\"1.5\" opacity=\"1\"/></g><g class=\"mark-text role-legend-label\" pointer-events=\"none\"><text text-anchor=\"start\" transform=\"translate(16,9)\" font-family=\"sans-serif\" font-size=\"10px\" fill=\"#000\" opacity=\"1\">15:00</text></g></g><path class=\"foreground\" aria-hidden=\"true\" d=\"\" pointer-events=\"none\" display=\"none\"/></g><g transform=\"translate(0,208)\"><path class=\"background\" aria-hidden=\"true\" d=\"M0,0h41.0244140625v11h-41.0244140625Z\" pointer-events=\"none\" opacity=\"1\"/><g><g class=\"mark-symbol role-legend-symbol\" pointer-events=\"none\"><path transform=\"translate(6,6)\" d=\"M-5,0L5,0\" stroke=\"rgb(74, 113, 220)\" stroke-width=\"1.5\" opacity=\"1\"/></g><g class=\"mark-text role-legend-label\" pointer-events=\"none\"><text text-anchor=\"start\" transform=\"translate(16,9)\" font-family=\"sans-serif\" font-size=\"10px\" fill=\"#000\" opacity=\"1\">16:00</text></g></g><path class=\"foreground\" aria-hidden=\"true\" d=\"\" pointer-events=\"none\" display=\"none\"/></g><g transform=\"translate(0,221)\"><path class=\"background\" aria-hidden=\"true\" d=\"M0,0h41.0244140625v11h-41.0244140625Z\" pointer-events=\"none\" opacity=\"1\"/><g><g class=\"mark-symbol role-legend-symbol\" pointer-events=\"none\"><path transform=\"translate(6,6)\" d=\"M-5,0L5,0\" stroke=\"rgb(95, 86, 201)\" stroke-width=\"1.5\" opacity=\"1\"/></g><g class=\"mark-text role-legend-label\" pointer-events=\"none\"><text text-anchor=\"start\" transform=\"translate(16,9)\" font-family=\"sans-serif\" font-size=\"10px\" fill=\"#000\" opacity=\"1\">17:00</text></g></g><path class=\"foreground\" aria-hidden=\"true\" d=\"\" pointer-events=\"none\" display=\"none\"/></g></g></g><path class=\"foreground\" aria-hidden=\"true\" d=\"\" pointer-events=\"none\" display=\"none\"/></g></g><g class=\"mark-text role-legend-title\" pointer-events=\"none\"><text text-anchor=\"start\" transform=\"translate(0,9)\" font-family=\"sans-serif\" font-size=\"11px\" font-weight=\"bold\" fill=\"#000\" opacity=\"1\">time (hours)</text></g></g><path class=\"foreground\" aria-hidden=\"true\" d=\"\" pointer-events=\"none\" display=\"none\"/></g></g></g><path class=\"foreground\" aria-hidden=\"true\" d=\"\" display=\"none\"/></g></g></g></svg>"
      ],
      "text/plain": [
       "alt.Chart(...)"
      ]
     },
     "execution_count": 110,
     "metadata": {},
     "output_type": "execute_result"
    }
   ],
   "source": [
    "alt.Chart(\n",
    "    tropoe_df[tropoe_df.time > '20230418'].query(\"height < 2050\")\n",
    ").mark_line(size=2).encode(\n",
    "    alt.X('mean(theta):Q').scale(zero=False).title('θ (K)'),\n",
    "    alt.Y('height').scale(type='linear').title('Height (AGL) (km)'),\n",
    "    alt.Color('hours(time):O').scale(scheme='rainbow'),\n",
    "    # alt.Facet('hours(time):O', columns=6),\n",
    "    order='height',\n",
    "    tooltip = 'hours(time)'\n",
    ").properties(width=300, height=300)"
   ]
  },
  {
   "cell_type": "code",
   "execution_count": 111,
   "metadata": {},
   "outputs": [
    {
     "data": {
      "image/svg+xml": [
       "<svg xmlns=\"http://www.w3.org/2000/svg\" xmlns:xlink=\"http://www.w3.org/1999/xlink\" version=\"1.1\" class=\"marks\" width=\"440\" height=\"347\" viewBox=\"0 0 440 347\"><rect width=\"440\" height=\"347\" fill=\"white\"/><g fill=\"none\" stroke-miterlimit=\"10\" transform=\"translate(53,10)\"><g class=\"mark-group role-frame root\" role=\"graphics-object\" aria-roledescription=\"group mark container\"><g transform=\"translate(0,0)\"><path class=\"background\" aria-hidden=\"true\" d=\"M0.5,0.5h300v300h-300Z\" stroke=\"#ddd\"/><g><g class=\"mark-group role-axis\" aria-hidden=\"true\"><g transform=\"translate(0.5,300.5)\"><path class=\"background\" aria-hidden=\"true\" d=\"M0,0h0v0h0Z\" pointer-events=\"none\"/><g><g class=\"mark-rule role-axis-grid\" pointer-events=\"none\"><line transform=\"translate(0,-300)\" x2=\"0\" y2=\"300\" stroke=\"#ddd\" stroke-width=\"1\" opacity=\"1\"/><line transform=\"translate(43,-300)\" x2=\"0\" y2=\"300\" stroke=\"#ddd\" stroke-width=\"1\" opacity=\"1\"/><line transform=\"translate(86,-300)\" x2=\"0\" y2=\"300\" stroke=\"#ddd\" stroke-width=\"1\" opacity=\"1\"/><line transform=\"translate(129,-300)\" x2=\"0\" y2=\"300\" stroke=\"#ddd\" stroke-width=\"1\" opacity=\"1\"/><line transform=\"translate(171,-300)\" x2=\"0\" y2=\"300\" stroke=\"#ddd\" stroke-width=\"1\" opacity=\"1\"/><line transform=\"translate(214,-300)\" x2=\"0\" y2=\"300\" stroke=\"#ddd\" stroke-width=\"1\" opacity=\"1\"/><line transform=\"translate(257,-300)\" x2=\"0\" y2=\"300\" stroke=\"#ddd\" stroke-width=\"1\" opacity=\"1\"/><line transform=\"translate(300,-300)\" x2=\"0\" y2=\"300\" stroke=\"#ddd\" stroke-width=\"1\" opacity=\"1\"/></g></g><path class=\"foreground\" aria-hidden=\"true\" d=\"\" pointer-events=\"none\" display=\"none\"/></g></g><g class=\"mark-group role-axis\" aria-hidden=\"true\"><g transform=\"translate(0.5,0.5)\"><path class=\"background\" aria-hidden=\"true\" d=\"M0,0h0v0h0Z\" pointer-events=\"none\"/><g><g class=\"mark-rule role-axis-grid\" pointer-events=\"none\"><line transform=\"translate(0,300)\" x2=\"300\" y2=\"0\" stroke=\"#ddd\" stroke-width=\"1\" opacity=\"1\"/><line transform=\"translate(0,270)\" x2=\"300\" y2=\"0\" stroke=\"#ddd\" stroke-width=\"1\" opacity=\"1\"/><line transform=\"translate(0,240)\" x2=\"300\" y2=\"0\" stroke=\"#ddd\" stroke-width=\"1\" opacity=\"1\"/><line transform=\"translate(0,210)\" x2=\"300\" y2=\"0\" stroke=\"#ddd\" stroke-width=\"1\" opacity=\"1\"/><line transform=\"translate(0,180)\" x2=\"300\" y2=\"0\" stroke=\"#ddd\" stroke-width=\"1\" opacity=\"1\"/><line transform=\"translate(0,150)\" x2=\"300\" y2=\"0\" stroke=\"#ddd\" stroke-width=\"1\" opacity=\"1\"/><line transform=\"translate(0,120)\" x2=\"300\" y2=\"0\" stroke=\"#ddd\" stroke-width=\"1\" opacity=\"1\"/><line transform=\"translate(0,90)\" x2=\"300\" y2=\"0\" stroke=\"#ddd\" stroke-width=\"1\" opacity=\"1\"/><line transform=\"translate(0,60)\" x2=\"300\" y2=\"0\" stroke=\"#ddd\" stroke-width=\"1\" opacity=\"1\"/><line transform=\"translate(0,30)\" x2=\"300\" y2=\"0\" stroke=\"#ddd\" stroke-width=\"1\" opacity=\"1\"/><line transform=\"translate(0,0)\" x2=\"300\" y2=\"0\" stroke=\"#ddd\" stroke-width=\"1\" opacity=\"1\"/></g></g><path class=\"foreground\" aria-hidden=\"true\" d=\"\" pointer-events=\"none\" display=\"none\"/></g></g><g class=\"mark-group role-axis\" role=\"graphics-symbol\" aria-roledescription=\"axis\" aria-label=\"X-axis titled 'θ (K)' for a linear scale with values from 308.8 to 310.2\"><g transform=\"translate(0.5,300.5)\"><path class=\"background\" aria-hidden=\"true\" d=\"M0,0h0v0h0Z\" pointer-events=\"none\"/><g><g class=\"mark-rule role-axis-tick\" pointer-events=\"none\"><line transform=\"translate(0,0)\" x2=\"0\" y2=\"5\" stroke=\"#888\" stroke-width=\"1\" opacity=\"1\"/><line transform=\"translate(43,0)\" x2=\"0\" y2=\"5\" stroke=\"#888\" stroke-width=\"1\" opacity=\"1\"/><line transform=\"translate(86,0)\" x2=\"0\" y2=\"5\" stroke=\"#888\" stroke-width=\"1\" opacity=\"1\"/><line transform=\"translate(129,0)\" x2=\"0\" y2=\"5\" stroke=\"#888\" stroke-width=\"1\" opacity=\"1\"/><line transform=\"translate(171,0)\" x2=\"0\" y2=\"5\" stroke=\"#888\" stroke-width=\"1\" opacity=\"1\"/><line transform=\"translate(214,0)\" x2=\"0\" y2=\"5\" stroke=\"#888\" stroke-width=\"1\" opacity=\"1\"/><line transform=\"translate(257,0)\" x2=\"0\" y2=\"5\" stroke=\"#888\" stroke-width=\"1\" opacity=\"1\"/><line transform=\"translate(300,0)\" x2=\"0\" y2=\"5\" stroke=\"#888\" stroke-width=\"1\" opacity=\"1\"/></g><g class=\"mark-text role-axis-label\" pointer-events=\"none\"><text text-anchor=\"start\" transform=\"translate(0,15)\" font-family=\"sans-serif\" font-size=\"10px\" fill=\"#000\" opacity=\"1\">308.8</text><text text-anchor=\"middle\" transform=\"translate(42.85714285714111,15)\" font-family=\"sans-serif\" font-size=\"10px\" fill=\"#000\" opacity=\"1\">309.0</text><text text-anchor=\"middle\" transform=\"translate(85.71428571428223,15)\" font-family=\"sans-serif\" font-size=\"10px\" fill=\"#000\" opacity=\"1\">309.2</text><text text-anchor=\"middle\" transform=\"translate(128.57142857142335,15)\" font-family=\"sans-serif\" font-size=\"10px\" fill=\"#000\" opacity=\"1\">309.4</text><text text-anchor=\"middle\" transform=\"translate(171.42857142857665,15)\" font-family=\"sans-serif\" font-size=\"10px\" fill=\"#000\" opacity=\"1\">309.6</text><text text-anchor=\"middle\" transform=\"translate(214.28571428571775,15)\" font-family=\"sans-serif\" font-size=\"10px\" fill=\"#000\" opacity=\"1\">309.8</text><text text-anchor=\"middle\" transform=\"translate(257.1428571428589,15)\" font-family=\"sans-serif\" font-size=\"10px\" fill=\"#000\" opacity=\"1\">310.0</text><text text-anchor=\"end\" transform=\"translate(300,15)\" font-family=\"sans-serif\" font-size=\"10px\" fill=\"#000\" opacity=\"1\">310.2</text></g><g class=\"mark-rule role-axis-domain\" pointer-events=\"none\"><line transform=\"translate(0,0)\" x2=\"300\" y2=\"0\" stroke=\"#888\" stroke-width=\"1\" opacity=\"1\"/></g><g class=\"mark-text role-axis-title\" pointer-events=\"none\"><text text-anchor=\"middle\" transform=\"translate(150,30)\" font-family=\"sans-serif\" font-size=\"11px\" font-weight=\"bold\" fill=\"#000\" opacity=\"1\">θ (K)</text></g></g><path class=\"foreground\" aria-hidden=\"true\" d=\"\" pointer-events=\"none\" display=\"none\"/></g></g><g class=\"mark-group role-axis\" role=\"graphics-symbol\" aria-roledescription=\"axis\" aria-label=\"Y-axis titled 'Height (AGL) (km)' for a linear scale with values from 0 to 1,000\"><g transform=\"translate(0.5,0.5)\"><path class=\"background\" aria-hidden=\"true\" d=\"M0,0h0v0h0Z\" pointer-events=\"none\"/><g><g class=\"mark-rule role-axis-tick\" pointer-events=\"none\"><line transform=\"translate(0,300)\" x2=\"-5\" y2=\"0\" stroke=\"#888\" stroke-width=\"1\" opacity=\"1\"/><line transform=\"translate(0,270)\" x2=\"-5\" y2=\"0\" stroke=\"#888\" stroke-width=\"1\" opacity=\"1\"/><line transform=\"translate(0,240)\" x2=\"-5\" y2=\"0\" stroke=\"#888\" stroke-width=\"1\" opacity=\"1\"/><line transform=\"translate(0,210)\" x2=\"-5\" y2=\"0\" stroke=\"#888\" stroke-width=\"1\" opacity=\"1\"/><line transform=\"translate(0,180)\" x2=\"-5\" y2=\"0\" stroke=\"#888\" stroke-width=\"1\" opacity=\"1\"/><line transform=\"translate(0,150)\" x2=\"-5\" y2=\"0\" stroke=\"#888\" stroke-width=\"1\" opacity=\"1\"/><line transform=\"translate(0,120)\" x2=\"-5\" y2=\"0\" stroke=\"#888\" stroke-width=\"1\" opacity=\"1\"/><line transform=\"translate(0,90)\" x2=\"-5\" y2=\"0\" stroke=\"#888\" stroke-width=\"1\" opacity=\"1\"/><line transform=\"translate(0,60)\" x2=\"-5\" y2=\"0\" stroke=\"#888\" stroke-width=\"1\" opacity=\"1\"/><line transform=\"translate(0,30)\" x2=\"-5\" y2=\"0\" stroke=\"#888\" stroke-width=\"1\" opacity=\"1\"/><line transform=\"translate(0,0)\" x2=\"-5\" y2=\"0\" stroke=\"#888\" stroke-width=\"1\" opacity=\"1\"/></g><g class=\"mark-text role-axis-label\" pointer-events=\"none\"><text text-anchor=\"end\" transform=\"translate(-7,303)\" font-family=\"sans-serif\" font-size=\"10px\" fill=\"#000\" opacity=\"1\">0</text><text text-anchor=\"end\" transform=\"translate(-7,273)\" font-family=\"sans-serif\" font-size=\"10px\" fill=\"#000\" opacity=\"1\">100</text><text text-anchor=\"end\" transform=\"translate(-7,243)\" font-family=\"sans-serif\" font-size=\"10px\" fill=\"#000\" opacity=\"1\">200</text><text text-anchor=\"end\" transform=\"translate(-7,213)\" font-family=\"sans-serif\" font-size=\"10px\" fill=\"#000\" opacity=\"1\">300</text><text text-anchor=\"end\" transform=\"translate(-7,183)\" font-family=\"sans-serif\" font-size=\"10px\" fill=\"#000\" opacity=\"1\">400</text><text text-anchor=\"end\" transform=\"translate(-7,153)\" font-family=\"sans-serif\" font-size=\"10px\" fill=\"#000\" opacity=\"1\">500</text><text text-anchor=\"end\" transform=\"translate(-7,123)\" font-family=\"sans-serif\" font-size=\"10px\" fill=\"#000\" opacity=\"1\">600</text><text text-anchor=\"end\" transform=\"translate(-7,93.00000000000001)\" font-family=\"sans-serif\" font-size=\"10px\" fill=\"#000\" opacity=\"1\">700</text><text text-anchor=\"end\" transform=\"translate(-7,62.999999999999986)\" font-family=\"sans-serif\" font-size=\"10px\" fill=\"#000\" opacity=\"1\">800</text><text text-anchor=\"end\" transform=\"translate(-7,32.99999999999999)\" font-family=\"sans-serif\" font-size=\"10px\" fill=\"#000\" opacity=\"1\">900</text><text text-anchor=\"end\" transform=\"translate(-7,3)\" font-family=\"sans-serif\" font-size=\"10px\" fill=\"#000\" opacity=\"1\">1,000</text></g><g class=\"mark-rule role-axis-domain\" pointer-events=\"none\"><line transform=\"translate(0,300)\" x2=\"0\" y2=\"-300\" stroke=\"#888\" stroke-width=\"1\" opacity=\"1\"/></g><g class=\"mark-text role-axis-title\" pointer-events=\"none\"><text text-anchor=\"middle\" transform=\"translate(-36.0244140625,150) rotate(-90) translate(0,-2)\" font-family=\"sans-serif\" font-size=\"11px\" font-weight=\"bold\" fill=\"#000\" opacity=\"1\">Height (AGL) (km)</text></g></g><path class=\"foreground\" aria-hidden=\"true\" d=\"\" pointer-events=\"none\" display=\"none\"/></g></g><g class=\"mark-group role-scope pathgroup\" role=\"graphics-object\" aria-roledescription=\"group mark container\"><g transform=\"translate(0,0)\"><path class=\"background\" aria-hidden=\"true\" d=\"M0,0h300v300h-300Z\"/><g><g class=\"mark-line role-mark marks\" role=\"graphics-object\" aria-roledescription=\"line mark container\"><path aria-label=\"θ (K): 309.636652629; Height (AGL) (km): 0; time (hours): 13:00; height: 0\" role=\"graphics-symbol\" aria-roledescription=\"line mark\" d=\"M179.283,300L129.718,297L88.29,293.7L51.403,290.1L34.906,286.2L36.382,281.7L53.583,276.9L85.463,271.5L113.572,265.8L140.44,259.2L158.888,252.3L172.517,244.5L183.708,235.8L179.689,226.5L166.194,216L166.12,204.6L166.041,192.3L165.952,178.5L165.852,163.2L165.743,146.4L165.624,128.1L165.49,108L165.344,85.8L165.185,61.5L165.004,34.5L164.808,5.1\" stroke=\"rgb(238, 67, 149)\" stroke-width=\"2\"/></g></g><path class=\"foreground\" aria-hidden=\"true\" d=\"\" display=\"none\"/></g><g transform=\"translate(0,0)\"><path class=\"background\" aria-hidden=\"true\" d=\"M0,0h300v300h-300Z\"/><g><g class=\"mark-line role-mark marks\" role=\"graphics-object\" aria-roledescription=\"line mark container\"><path aria-label=\"θ (K): 309.172368368; Height (AGL) (km): 0; time (hours): 14:00; height: 0\" role=\"graphics-symbol\" aria-roledescription=\"line mark\" d=\"M79.793,300L61.17,297L44.591,293.7L26.524,290.1L19.029,286.2L18.903,281.7L26.329,276.9L41.268,271.5L51.197,265.8L60.566,259.2L66.772,252.3L70.684,244.5L78.201,235.8L77.456,226.5L75.534,216L75.484,204.6L75.428,192.3L75.365,178.5L75.294,163.2L75.218,146.4L75.133,128.1L75.041,108L74.938,85.8L74.824,61.5L74.699,34.5L74.557,5.1\" stroke=\"rgb(255, 140, 56)\" stroke-width=\"2\"/></g></g><path class=\"foreground\" aria-hidden=\"true\" d=\"\" display=\"none\"/></g><g transform=\"translate(0,0)\"><path class=\"background\" aria-hidden=\"true\" d=\"M0,0h300v300h-300Z\"/><g><g class=\"mark-line role-mark marks\" role=\"graphics-object\" aria-roledescription=\"line mark container\"><path aria-label=\"θ (K): 309.364079793; Height (AGL) (km): 0; time (hours): 15:00; height: 0\" role=\"graphics-symbol\" aria-roledescription=\"line mark\" d=\"M120.874,300L113.021,297L105.297,293.7L94.768,290.1L92.786,286.2L96.408,281.7L106.164,276.9L122.666,271.5L133.655,265.8L144.088,259.2L151.195,252.3L155.857,244.5L164.161,235.8L164.2,226.5L163.192,216L163.148,204.6L163.099,192.3L163.041,178.5L162.981,163.2L162.913,146.4L162.839,128.1L162.756,108L162.665,85.8L162.566,61.5L162.451,34.5L162.331,5.1\" stroke=\"rgb(175, 240, 91)\" stroke-width=\"2\"/></g></g><path class=\"foreground\" aria-hidden=\"true\" d=\"\" display=\"none\"/></g><g transform=\"translate(0,0)\"><path class=\"background\" aria-hidden=\"true\" d=\"M0,0h300v300h-300Z\"/><g><g class=\"mark-line role-mark marks\" role=\"graphics-object\" aria-roledescription=\"line mark container\"><path aria-label=\"θ (K): 309.723561605; Height (AGL) (km): 0; time (hours): 16:00; height: 0\" role=\"graphics-symbol\" aria-roledescription=\"line mark\" d=\"M197.906,300L196.516,297L193.243,293.7L186.579,290.1L187.889,286.2L194.618,281.7L207.189,276.9L226.395,271.5L239.514,265.8L251.627,259.2L259.205,252.3L263.94,244.5L271.849,235.8L270.579,226.5L266.949,216L266.92,204.6L266.887,192.3L266.852,178.5L266.81,163.2L266.768,146.4L266.719,128.1L266.665,108L266.607,85.8L266.542,61.5L266.469,34.5L266.39,5.1\" stroke=\"rgb(40, 234, 141)\" stroke-width=\"2\"/></g></g><path class=\"foreground\" aria-hidden=\"true\" d=\"\" display=\"none\"/></g><g transform=\"translate(0,0)\"><path class=\"background\" aria-hidden=\"true\" d=\"M0,0h300v300h-300Z\"/><g><g class=\"mark-line role-mark marks\" role=\"graphics-object\" aria-roledescription=\"line mark container\"><path aria-label=\"θ (K): 309.463916016; Height (AGL) (km): 0; time (hours): 17:00; height: 0\" role=\"graphics-symbol\" aria-roledescription=\"line mark\" d=\"M142.268,300L154.466,297L164.409,293.7L170.185,290.1L181.951,286.2L197.24,281.7L216.299,276.9L239.985,271.5L255.781,265.8L269.705,259.2L278.46,252.3L283.668,244.5L292.296,235.8L292.571,226.5L291.469,216L291.442,204.6L291.416,192.3L291.385,178.5L291.351,163.2L291.313,146.4L291.271,128.1L291.227,108L291.174,85.8L291.118,61.5L291.057,34.5L290.989,5.1\" stroke=\"rgb(47, 150, 224)\" stroke-width=\"2\"/></g></g><path class=\"foreground\" aria-hidden=\"true\" d=\"\" display=\"none\"/></g></g><g class=\"mark-group role-legend\" role=\"graphics-symbol\" aria-roledescription=\"legend\" aria-label=\"Symbol legend titled 'time (hours)' for stroke color with 5 values: 13:00, 14:00, 15:00, 16:00, 17:00\"><g transform=\"translate(318,0)\"><path class=\"background\" aria-hidden=\"true\" d=\"M0,0h64v79h-64Z\" pointer-events=\"none\"/><g><g class=\"mark-group role-legend-entry\"><g transform=\"translate(0,16)\"><path class=\"background\" aria-hidden=\"true\" d=\"M0,0h0v0h0Z\" pointer-events=\"none\"/><g><g class=\"mark-group role-scope\" role=\"graphics-object\" aria-roledescription=\"group mark container\"><g transform=\"translate(0,0)\"><path class=\"background\" aria-hidden=\"true\" d=\"M0,0h41.0244140625v11h-41.0244140625Z\" pointer-events=\"none\" opacity=\"1\"/><g><g class=\"mark-symbol role-legend-symbol\" pointer-events=\"none\"><path transform=\"translate(6,6)\" d=\"M-5,0L5,0\" stroke=\"rgb(238, 67, 149)\" stroke-width=\"1.5\" opacity=\"1\"/></g><g class=\"mark-text role-legend-label\" pointer-events=\"none\"><text text-anchor=\"start\" transform=\"translate(16,9)\" font-family=\"sans-serif\" font-size=\"10px\" fill=\"#000\" opacity=\"1\">13:00</text></g></g><path class=\"foreground\" aria-hidden=\"true\" d=\"\" pointer-events=\"none\" display=\"none\"/></g><g transform=\"translate(0,13)\"><path class=\"background\" aria-hidden=\"true\" d=\"M0,0h41.0244140625v11h-41.0244140625Z\" pointer-events=\"none\" opacity=\"1\"/><g><g class=\"mark-symbol role-legend-symbol\" pointer-events=\"none\"><path transform=\"translate(6,6)\" d=\"M-5,0L5,0\" stroke=\"rgb(255, 140, 56)\" stroke-width=\"1.5\" opacity=\"1\"/></g><g class=\"mark-text role-legend-label\" pointer-events=\"none\"><text text-anchor=\"start\" transform=\"translate(16,9)\" font-family=\"sans-serif\" font-size=\"10px\" fill=\"#000\" opacity=\"1\">14:00</text></g></g><path class=\"foreground\" aria-hidden=\"true\" d=\"\" pointer-events=\"none\" display=\"none\"/></g><g transform=\"translate(0,26)\"><path class=\"background\" aria-hidden=\"true\" d=\"M0,0h41.0244140625v11h-41.0244140625Z\" pointer-events=\"none\" opacity=\"1\"/><g><g class=\"mark-symbol role-legend-symbol\" pointer-events=\"none\"><path transform=\"translate(6,6)\" d=\"M-5,0L5,0\" stroke=\"rgb(175, 240, 91)\" stroke-width=\"1.5\" opacity=\"1\"/></g><g class=\"mark-text role-legend-label\" pointer-events=\"none\"><text text-anchor=\"start\" transform=\"translate(16,9)\" font-family=\"sans-serif\" font-size=\"10px\" fill=\"#000\" opacity=\"1\">15:00</text></g></g><path class=\"foreground\" aria-hidden=\"true\" d=\"\" pointer-events=\"none\" display=\"none\"/></g><g transform=\"translate(0,39)\"><path class=\"background\" aria-hidden=\"true\" d=\"M0,0h41.0244140625v11h-41.0244140625Z\" pointer-events=\"none\" opacity=\"1\"/><g><g class=\"mark-symbol role-legend-symbol\" pointer-events=\"none\"><path transform=\"translate(6,6)\" d=\"M-5,0L5,0\" stroke=\"rgb(40, 234, 141)\" stroke-width=\"1.5\" opacity=\"1\"/></g><g class=\"mark-text role-legend-label\" pointer-events=\"none\"><text text-anchor=\"start\" transform=\"translate(16,9)\" font-family=\"sans-serif\" font-size=\"10px\" fill=\"#000\" opacity=\"1\">16:00</text></g></g><path class=\"foreground\" aria-hidden=\"true\" d=\"\" pointer-events=\"none\" display=\"none\"/></g><g transform=\"translate(0,52)\"><path class=\"background\" aria-hidden=\"true\" d=\"M0,0h41.0244140625v11h-41.0244140625Z\" pointer-events=\"none\" opacity=\"1\"/><g><g class=\"mark-symbol role-legend-symbol\" pointer-events=\"none\"><path transform=\"translate(6,6)\" d=\"M-5,0L5,0\" stroke=\"rgb(47, 150, 224)\" stroke-width=\"1.5\" opacity=\"1\"/></g><g class=\"mark-text role-legend-label\" pointer-events=\"none\"><text text-anchor=\"start\" transform=\"translate(16,9)\" font-family=\"sans-serif\" font-size=\"10px\" fill=\"#000\" opacity=\"1\">17:00</text></g></g><path class=\"foreground\" aria-hidden=\"true\" d=\"\" pointer-events=\"none\" display=\"none\"/></g></g></g><path class=\"foreground\" aria-hidden=\"true\" d=\"\" pointer-events=\"none\" display=\"none\"/></g></g><g class=\"mark-text role-legend-title\" pointer-events=\"none\"><text text-anchor=\"start\" transform=\"translate(0,9)\" font-family=\"sans-serif\" font-size=\"11px\" font-weight=\"bold\" fill=\"#000\" opacity=\"1\">time (hours)</text></g></g><path class=\"foreground\" aria-hidden=\"true\" d=\"\" pointer-events=\"none\" display=\"none\"/></g></g></g><path class=\"foreground\" aria-hidden=\"true\" d=\"\" display=\"none\"/></g></g></g></svg>"
      ],
      "text/plain": [
       "alt.Chart(...)"
      ]
     },
     "execution_count": 111,
     "metadata": {},
     "output_type": "execute_result"
    }
   ],
   "source": [
    "alt.Chart(\n",
    "    tropoe_df[tropoe_df.time > '20230418 1300'].query(\"height < 1000\")\n",
    ").mark_line(size=2).encode(\n",
    "    alt.X('mean(theta):Q').scale(zero=False).title('θ (K)'),\n",
    "    alt.Y('height').scale(type='linear').title('Height (AGL) (km)'),\n",
    "    alt.Color('hours(time):O').scale(scheme='rainbow'),\n",
    "    # alt.Facet('hours(time):O', columns=6),\n",
    "    order='height',\n",
    "    tooltip = 'hours(time)'\n",
    ").properties(width=300, height=300)"
   ]
  },
  {
   "cell_type": "code",
   "execution_count": 112,
   "metadata": {},
   "outputs": [
    {
     "data": {
      "image/svg+xml": [
       "<svg xmlns=\"http://www.w3.org/2000/svg\" xmlns:xlink=\"http://www.w3.org/1999/xlink\" version=\"1.1\" class=\"marks\" width=\"477\" height=\"347\" viewBox=\"0 0 477 347\"><rect width=\"477\" height=\"347\" fill=\"white\"/><g fill=\"none\" stroke-miterlimit=\"10\" transform=\"translate(44,10)\"><g class=\"mark-group role-frame root\" role=\"graphics-object\" aria-roledescription=\"group mark container\"><g transform=\"translate(0,0)\"><path class=\"background\" aria-hidden=\"true\" d=\"M0.5,0.5h300v300h-300Z\" stroke=\"#ddd\"/><g><g class=\"mark-group role-axis\" aria-hidden=\"true\"><g transform=\"translate(0.5,300.5)\"><path class=\"background\" aria-hidden=\"true\" d=\"M0,0h0v0h0Z\" pointer-events=\"none\"/><g><g class=\"mark-rule role-axis-grid\" pointer-events=\"none\"><line transform=\"translate(0,-300)\" x2=\"0\" y2=\"300\" stroke=\"#ddd\" stroke-width=\"1\" opacity=\"1\"/><line transform=\"translate(33,-300)\" x2=\"0\" y2=\"300\" stroke=\"#ddd\" stroke-width=\"1\" opacity=\"1\"/><line transform=\"translate(67,-300)\" x2=\"0\" y2=\"300\" stroke=\"#ddd\" stroke-width=\"1\" opacity=\"1\"/><line transform=\"translate(100,-300)\" x2=\"0\" y2=\"300\" stroke=\"#ddd\" stroke-width=\"1\" opacity=\"1\"/><line transform=\"translate(133,-300)\" x2=\"0\" y2=\"300\" stroke=\"#ddd\" stroke-width=\"1\" opacity=\"1\"/><line transform=\"translate(167,-300)\" x2=\"0\" y2=\"300\" stroke=\"#ddd\" stroke-width=\"1\" opacity=\"1\"/><line transform=\"translate(200,-300)\" x2=\"0\" y2=\"300\" stroke=\"#ddd\" stroke-width=\"1\" opacity=\"1\"/><line transform=\"translate(233,-300)\" x2=\"0\" y2=\"300\" stroke=\"#ddd\" stroke-width=\"1\" opacity=\"1\"/><line transform=\"translate(267,-300)\" x2=\"0\" y2=\"300\" stroke=\"#ddd\" stroke-width=\"1\" opacity=\"1\"/><line transform=\"translate(300,-300)\" x2=\"0\" y2=\"300\" stroke=\"#ddd\" stroke-width=\"1\" opacity=\"1\"/></g></g><path class=\"foreground\" aria-hidden=\"true\" d=\"\" pointer-events=\"none\" display=\"none\"/></g></g><g class=\"mark-group role-axis\" aria-hidden=\"true\"><g transform=\"translate(0.5,0.5)\"><path class=\"background\" aria-hidden=\"true\" d=\"M0,0h0v0h0Z\" pointer-events=\"none\"/><g><g class=\"mark-rule role-axis-grid\" pointer-events=\"none\"><line transform=\"translate(0,300)\" x2=\"300\" y2=\"0\" stroke=\"#ddd\" stroke-width=\"1\" opacity=\"1\"/><line transform=\"translate(0,270)\" x2=\"300\" y2=\"0\" stroke=\"#ddd\" stroke-width=\"1\" opacity=\"1\"/><line transform=\"translate(0,240)\" x2=\"300\" y2=\"0\" stroke=\"#ddd\" stroke-width=\"1\" opacity=\"1\"/><line transform=\"translate(0,210)\" x2=\"300\" y2=\"0\" stroke=\"#ddd\" stroke-width=\"1\" opacity=\"1\"/><line transform=\"translate(0,180)\" x2=\"300\" y2=\"0\" stroke=\"#ddd\" stroke-width=\"1\" opacity=\"1\"/><line transform=\"translate(0,150)\" x2=\"300\" y2=\"0\" stroke=\"#ddd\" stroke-width=\"1\" opacity=\"1\"/><line transform=\"translate(0,120)\" x2=\"300\" y2=\"0\" stroke=\"#ddd\" stroke-width=\"1\" opacity=\"1\"/><line transform=\"translate(0,90)\" x2=\"300\" y2=\"0\" stroke=\"#ddd\" stroke-width=\"1\" opacity=\"1\"/><line transform=\"translate(0,60)\" x2=\"300\" y2=\"0\" stroke=\"#ddd\" stroke-width=\"1\" opacity=\"1\"/><line transform=\"translate(0,30)\" x2=\"300\" y2=\"0\" stroke=\"#ddd\" stroke-width=\"1\" opacity=\"1\"/><line transform=\"translate(0,0)\" x2=\"300\" y2=\"0\" stroke=\"#ddd\" stroke-width=\"1\" opacity=\"1\"/></g></g><path class=\"foreground\" aria-hidden=\"true\" d=\"\" pointer-events=\"none\" display=\"none\"/></g></g><g class=\"mark-group role-axis\" role=\"graphics-symbol\" aria-roledescription=\"axis\" aria-label=\"X-axis titled 'θ (K)' for a linear scale with values from 308.8 to 310.6\"><g transform=\"translate(0.5,300.5)\"><path class=\"background\" aria-hidden=\"true\" d=\"M0,0h0v0h0Z\" pointer-events=\"none\"/><g><g class=\"mark-rule role-axis-tick\" pointer-events=\"none\"><line transform=\"translate(0,0)\" x2=\"0\" y2=\"5\" stroke=\"#888\" stroke-width=\"1\" opacity=\"1\"/><line transform=\"translate(33,0)\" x2=\"0\" y2=\"5\" stroke=\"#888\" stroke-width=\"1\" opacity=\"1\"/><line transform=\"translate(67,0)\" x2=\"0\" y2=\"5\" stroke=\"#888\" stroke-width=\"1\" opacity=\"1\"/><line transform=\"translate(100,0)\" x2=\"0\" y2=\"5\" stroke=\"#888\" stroke-width=\"1\" opacity=\"1\"/><line transform=\"translate(133,0)\" x2=\"0\" y2=\"5\" stroke=\"#888\" stroke-width=\"1\" opacity=\"1\"/><line transform=\"translate(167,0)\" x2=\"0\" y2=\"5\" stroke=\"#888\" stroke-width=\"1\" opacity=\"1\"/><line transform=\"translate(200,0)\" x2=\"0\" y2=\"5\" stroke=\"#888\" stroke-width=\"1\" opacity=\"1\"/><line transform=\"translate(233,0)\" x2=\"0\" y2=\"5\" stroke=\"#888\" stroke-width=\"1\" opacity=\"1\"/><line transform=\"translate(267,0)\" x2=\"0\" y2=\"5\" stroke=\"#888\" stroke-width=\"1\" opacity=\"1\"/><line transform=\"translate(300,0)\" x2=\"0\" y2=\"5\" stroke=\"#888\" stroke-width=\"1\" opacity=\"1\"/></g><g class=\"mark-text role-axis-label\" pointer-events=\"none\"><text text-anchor=\"start\" transform=\"translate(0,15)\" font-family=\"sans-serif\" font-size=\"10px\" fill=\"#000\" opacity=\"1\">308.8</text><text text-anchor=\"middle\" transform=\"translate(33.33333333333123,15)\" font-family=\"sans-serif\" font-size=\"10px\" fill=\"#000\" opacity=\"0\">309.0</text><text text-anchor=\"middle\" transform=\"translate(66.66666666666246,15)\" font-family=\"sans-serif\" font-size=\"10px\" fill=\"#000\" opacity=\"1\">309.2</text><text text-anchor=\"middle\" transform=\"translate(99.99999999999368,15)\" font-family=\"sans-serif\" font-size=\"10px\" fill=\"#000\" opacity=\"0\">309.4</text><text text-anchor=\"middle\" transform=\"translate(133.3333333333344,15)\" font-family=\"sans-serif\" font-size=\"10px\" fill=\"#000\" opacity=\"1\">309.6</text><text text-anchor=\"middle\" transform=\"translate(166.6666666666656,15)\" font-family=\"sans-serif\" font-size=\"10px\" fill=\"#000\" opacity=\"0\">309.8</text><text text-anchor=\"middle\" transform=\"translate(199.99999999999685,15)\" font-family=\"sans-serif\" font-size=\"10px\" fill=\"#000\" opacity=\"1\">310.0</text><text text-anchor=\"middle\" transform=\"translate(233.33333333332808,15)\" font-family=\"sans-serif\" font-size=\"10px\" fill=\"#000\" opacity=\"0\">310.2</text><text text-anchor=\"middle\" transform=\"translate(266.6666666666593,15)\" font-family=\"sans-serif\" font-size=\"10px\" fill=\"#000\" opacity=\"1\">310.4</text><text text-anchor=\"end\" transform=\"translate(300,15)\" font-family=\"sans-serif\" font-size=\"10px\" fill=\"#000\" opacity=\"0\">310.6</text></g><g class=\"mark-rule role-axis-domain\" pointer-events=\"none\"><line transform=\"translate(0,0)\" x2=\"300\" y2=\"0\" stroke=\"#888\" stroke-width=\"1\" opacity=\"1\"/></g><g class=\"mark-text role-axis-title\" pointer-events=\"none\"><text text-anchor=\"middle\" transform=\"translate(150,30)\" font-family=\"sans-serif\" font-size=\"11px\" font-weight=\"bold\" fill=\"#000\" opacity=\"1\">θ (K)</text></g></g><path class=\"foreground\" aria-hidden=\"true\" d=\"\" pointer-events=\"none\" display=\"none\"/></g></g><g class=\"mark-group role-axis\" role=\"graphics-symbol\" aria-roledescription=\"axis\" aria-label=\"Y-axis titled 'Height (AGL) (km)' for a linear scale with values from 0 to 500\"><g transform=\"translate(0.5,0.5)\"><path class=\"background\" aria-hidden=\"true\" d=\"M0,0h0v0h0Z\" pointer-events=\"none\"/><g><g class=\"mark-rule role-axis-tick\" pointer-events=\"none\"><line transform=\"translate(0,300)\" x2=\"-5\" y2=\"0\" stroke=\"#888\" stroke-width=\"1\" opacity=\"1\"/><line transform=\"translate(0,270)\" x2=\"-5\" y2=\"0\" stroke=\"#888\" stroke-width=\"1\" opacity=\"1\"/><line transform=\"translate(0,240)\" x2=\"-5\" y2=\"0\" stroke=\"#888\" stroke-width=\"1\" opacity=\"1\"/><line transform=\"translate(0,210)\" x2=\"-5\" y2=\"0\" stroke=\"#888\" stroke-width=\"1\" opacity=\"1\"/><line transform=\"translate(0,180)\" x2=\"-5\" y2=\"0\" stroke=\"#888\" stroke-width=\"1\" opacity=\"1\"/><line transform=\"translate(0,150)\" x2=\"-5\" y2=\"0\" stroke=\"#888\" stroke-width=\"1\" opacity=\"1\"/><line transform=\"translate(0,120)\" x2=\"-5\" y2=\"0\" stroke=\"#888\" stroke-width=\"1\" opacity=\"1\"/><line transform=\"translate(0,90)\" x2=\"-5\" y2=\"0\" stroke=\"#888\" stroke-width=\"1\" opacity=\"1\"/><line transform=\"translate(0,60)\" x2=\"-5\" y2=\"0\" stroke=\"#888\" stroke-width=\"1\" opacity=\"1\"/><line transform=\"translate(0,30)\" x2=\"-5\" y2=\"0\" stroke=\"#888\" stroke-width=\"1\" opacity=\"1\"/><line transform=\"translate(0,0)\" x2=\"-5\" y2=\"0\" stroke=\"#888\" stroke-width=\"1\" opacity=\"1\"/></g><g class=\"mark-text role-axis-label\" pointer-events=\"none\"><text text-anchor=\"end\" transform=\"translate(-7,303)\" font-family=\"sans-serif\" font-size=\"10px\" fill=\"#000\" opacity=\"1\">0</text><text text-anchor=\"end\" transform=\"translate(-7,273)\" font-family=\"sans-serif\" font-size=\"10px\" fill=\"#000\" opacity=\"1\">50</text><text text-anchor=\"end\" transform=\"translate(-7,243)\" font-family=\"sans-serif\" font-size=\"10px\" fill=\"#000\" opacity=\"1\">100</text><text text-anchor=\"end\" transform=\"translate(-7,213)\" font-family=\"sans-serif\" font-size=\"10px\" fill=\"#000\" opacity=\"1\">150</text><text text-anchor=\"end\" transform=\"translate(-7,183)\" font-family=\"sans-serif\" font-size=\"10px\" fill=\"#000\" opacity=\"1\">200</text><text text-anchor=\"end\" transform=\"translate(-7,153)\" font-family=\"sans-serif\" font-size=\"10px\" fill=\"#000\" opacity=\"1\">250</text><text text-anchor=\"end\" transform=\"translate(-7,123)\" font-family=\"sans-serif\" font-size=\"10px\" fill=\"#000\" opacity=\"1\">300</text><text text-anchor=\"end\" transform=\"translate(-7,93.00000000000001)\" font-family=\"sans-serif\" font-size=\"10px\" fill=\"#000\" opacity=\"1\">350</text><text text-anchor=\"end\" transform=\"translate(-7,62.999999999999986)\" font-family=\"sans-serif\" font-size=\"10px\" fill=\"#000\" opacity=\"1\">400</text><text text-anchor=\"end\" transform=\"translate(-7,32.99999999999999)\" font-family=\"sans-serif\" font-size=\"10px\" fill=\"#000\" opacity=\"1\">450</text><text text-anchor=\"end\" transform=\"translate(-7,3)\" font-family=\"sans-serif\" font-size=\"10px\" fill=\"#000\" opacity=\"1\">500</text></g><g class=\"mark-rule role-axis-domain\" pointer-events=\"none\"><line transform=\"translate(0,300)\" x2=\"0\" y2=\"-300\" stroke=\"#888\" stroke-width=\"1\" opacity=\"1\"/></g><g class=\"mark-text role-axis-title\" pointer-events=\"none\"><text text-anchor=\"middle\" transform=\"translate(-27.6845703125,150) rotate(-90) translate(0,-2)\" font-family=\"sans-serif\" font-size=\"11px\" font-weight=\"bold\" fill=\"#000\" opacity=\"1\">Height (AGL) (km)</text></g></g><path class=\"foreground\" aria-hidden=\"true\" d=\"\" pointer-events=\"none\" display=\"none\"/></g></g><g class=\"mark-group role-scope pathgroup\" role=\"graphics-object\" aria-roledescription=\"group mark container\"><g transform=\"translate(0,0)\"><path class=\"background\" aria-hidden=\"true\" d=\"M0,0h300v300h-300Z\"/><g><g class=\"mark-line role-mark marks\" role=\"graphics-object\" aria-roledescription=\"line mark container\"><path aria-label=\"θ (K): 309.022766113; Height (AGL) (km): 0; time (hours-minutes): 15:00; height: 0\" role=\"graphics-symbol\" aria-roledescription=\"line mark\" d=\"M37.128,300L30.282,294L23.985,287.4L15.592,280.2L14.29,272.4L16.935,263.4L23.883,253.8L36.349,243L44.447,231.6L51.705,218.4L56.227,204.6L59.004,189L64.12,171.6L61.623,153L57.554,132L57.493,109.2L57.432,84.6L57.356,57L57.279,26.4\" stroke=\"rgb(155, 61, 178)\" stroke-width=\"2\"/></g></g><path class=\"foreground\" aria-hidden=\"true\" d=\"\" display=\"none\"/></g><g transform=\"translate(0,0)\"><path class=\"background\" aria-hidden=\"true\" d=\"M0,0h300v300h-300Z\"/><g><g class=\"mark-line role-mark marks\" role=\"graphics-object\" aria-roledescription=\"line mark container\"><path aria-label=\"θ (K): 309.285125732; Height (AGL) (km): 0; time (hours-minutes): 15:10; height: 0\" role=\"graphics-symbol\" aria-roledescription=\"line mark\" d=\"M80.854,300L71.958,294L63.169,287.4L52.03,280.2L47.9,272.4L47.778,263.4L52.336,253.8L62.813,243L69.705,231.6L76.348,218.4L80.742,204.6L83.799,189L89.613,171.6L88.453,153L86.541,132L86.49,109.2L86.439,84.6L86.383,57L86.322,26.4\" stroke=\"rgb(199, 61, 171)\" stroke-width=\"2\"/></g></g><path class=\"foreground\" aria-hidden=\"true\" d=\"\" display=\"none\"/></g><g transform=\"translate(0,0)\"><path class=\"background\" aria-hidden=\"true\" d=\"M0,0h300v300h-300Z\"/><g><g class=\"mark-line role-mark marks\" role=\"graphics-object\" aria-roledescription=\"line mark container\"><path aria-label=\"θ (K): 309.350463867; Height (AGL) (km): 0; time (hours-minutes): 15:20; height: 0\" role=\"graphics-symbol\" aria-roledescription=\"line mark\" d=\"M91.744,300L86.185,294L80.564,287.4L72.625,280.2L70.087,272.4L71.058,263.4L76.394,253.8L85.412,243L89.786,231.6L93.86,218.4L96.622,204.6L97.598,189L103.015,171.6L104.409,153L107.191,132L107.196,109.2L107.196,84.6L107.196,57L107.196,26.4\" stroke=\"rgb(238, 67, 149)\" stroke-width=\"2\"/></g></g><path class=\"foreground\" aria-hidden=\"true\" d=\"\" display=\"none\"/></g><g transform=\"translate(0,0)\"><path class=\"background\" aria-hidden=\"true\" d=\"M0,0h300v300h-300Z\"/><g><g class=\"mark-line role-mark marks\" role=\"graphics-object\" aria-roledescription=\"line mark container\"><path aria-label=\"θ (K): 309.509490967; Height (AGL) (km): 0; time (hours-minutes): 15:30; height: 0\" role=\"graphics-symbol\" aria-roledescription=\"line mark\" d=\"M118.248,300L109.551,294L101.474,287.4L91.266,280.2L87.634,272.4L88.158,263.4L93.412,253.8L103.971,243L110.736,231.6L117.628,218.4L122.872,204.6L126.865,189L134.53,171.6L136.579,153L138.726,132L138.695,109.2L138.66,84.6L138.619,57L138.573,26.4\" stroke=\"rgb(255, 83, 117)\" stroke-width=\"2\"/></g></g><path class=\"foreground\" aria-hidden=\"true\" d=\"\" display=\"none\"/></g><g transform=\"translate(0,0)\"><path class=\"background\" aria-hidden=\"true\" d=\"M0,0h300v300h-300Z\"/><g><g class=\"mark-line role-mark marks\" role=\"graphics-object\" aria-roledescription=\"line mark container\"><path aria-label=\"θ (K): 309.321228027; Height (AGL) (km): 0; time (hours-minutes): 15:40; height: 0\" role=\"graphics-symbol\" aria-roledescription=\"line mark\" d=\"M86.871,300L87.802,294L89.771,287.4L89.857,280.2L97.141,272.4L108.895,263.4L124.321,253.8L144.473,243L158.883,231.6L171.446,218.4L179.141,204.6L184.39,189L191.013,171.6L188.958,153L183.734,132L183.673,109.2L183.607,84.6L183.531,57L183.449,26.4\" stroke=\"rgb(255, 108, 83)\" stroke-width=\"2\"/></g></g><path class=\"foreground\" aria-hidden=\"true\" d=\"\" display=\"none\"/></g><g transform=\"translate(0,0)\"><path class=\"background\" aria-hidden=\"true\" d=\"M0,0h300v300h-300Z\"/><g><g class=\"mark-line role-mark marks\" role=\"graphics-object\" aria-roledescription=\"line mark container\"><path aria-label=\"θ (K): 309.695404053; Height (AGL) (km): 0; time (hours-minutes): 15:50; height: 0\" role=\"graphics-symbol\" aria-roledescription=\"line mark\" d=\"M149.234,300L141.655,294L132.424,287.4L120.878,280.2L115.95,272.4L117.079,263.4L125.084,253.8L139.423,243L150.165,231.6L161.426,218.4L169.971,204.6L175.677,189L183.795,171.6L186.247,153L187.818,132L187.808,109.2L187.793,84.6L187.773,57L187.757,26.4\" stroke=\"rgb(255, 140, 56)\" stroke-width=\"2\"/></g></g><path class=\"foreground\" aria-hidden=\"true\" d=\"\" display=\"none\"/></g><g transform=\"translate(0,0)\"><path class=\"background\" aria-hidden=\"true\" d=\"M0,0h300v300h-300Z\"/><g><g class=\"mark-line role-mark marks\" role=\"graphics-object\" aria-roledescription=\"line mark container\"><path aria-label=\"θ (K): 309.366699219; Height (AGL) (km): 0; time (hours-minutes): 16:00; height: 0\" role=\"graphics-symbol\" aria-roledescription=\"line mark\" d=\"M94.45,300L93.387,294L92.609,287.4L90.554,280.2L96.622,272.4L108.661,263.4L125.888,253.8L149.137,243L166.487,231.6L181.644,218.4L190.484,204.6L195.773,189L200.875,171.6L195.916,153L185.565,132L185.535,109.2L185.499,84.6L185.458,57L185.413,26.4\" stroke=\"rgb(232, 176, 47)\" stroke-width=\"2\"/></g></g><path class=\"foreground\" aria-hidden=\"true\" d=\"\" display=\"none\"/></g><g transform=\"translate(0,0)\"><path class=\"background\" aria-hidden=\"true\" d=\"M0,0h300v300h-300Z\"/><g><g class=\"mark-line role-mark marks\" role=\"graphics-object\" aria-roledescription=\"line mark container\"><path aria-label=\"θ (K): 309.760803223; Height (AGL) (km): 0; time (hours-minutes): 16:10; height: 0\" role=\"graphics-symbol\" aria-roledescription=\"line mark\" d=\"M160.134,300L156.858,294L152.449,287.4L146.025,280.2L147.383,272.4L154.727,263.4L167.946,253.8L187.966,243L203.301,231.6L217.598,218.4L226.82,204.6L232.898,189L239.388,171.6L236.367,153L228.666,132L228.636,109.2L228.605,84.6L228.564,57L228.524,26.4\" stroke=\"rgb(201, 211, 59)\" stroke-width=\"2\"/></g></g><path class=\"foreground\" aria-hidden=\"true\" d=\"\" display=\"none\"/></g><g transform=\"translate(0,0)\"><path class=\"background\" aria-hidden=\"true\" d=\"M0,0h300v300h-300Z\"/><g><g class=\"mark-line role-mark marks\" role=\"graphics-object\" aria-roledescription=\"line mark container\"><path aria-label=\"θ (K): 309.719421387; Height (AGL) (km): 0; time (hours-minutes): 16:20; height: 0\" role=\"graphics-symbol\" aria-roledescription=\"line mark\" d=\"M153.237,300L147.891,294L141.844,287.4L133.202,280.2L130.542,272.4L131.971,263.4L138.365,253.8L150.221,243L158.303,231.6L166.817,218.4L173.587,204.6L178.724,189L187.233,171.6L190.168,153L192.961,132L192.93,109.2L192.894,84.6L192.859,57L192.813,26.4\" stroke=\"rgb(175, 240, 91)\" stroke-width=\"2\"/></g></g><path class=\"foreground\" aria-hidden=\"true\" d=\"\" display=\"none\"/></g><g transform=\"translate(0,0)\"><path class=\"background\" aria-hidden=\"true\" d=\"M0,0h300v300h-300Z\"/><g><g class=\"mark-line role-mark marks\" role=\"graphics-object\" aria-roledescription=\"line mark container\"><path aria-label=\"θ (K): 309.718566895; Height (AGL) (km): 0; time (hours-minutes): 16:30; height: 0\" role=\"graphics-symbol\" aria-roledescription=\"line mark\" d=\"M153.094,300L151.136,294L149.031,287.4L144.763,280.2L146.523,272.4L152.276,263.4L162.275,253.8L176.461,243L185.448,231.6L193.352,218.4L198.133,204.6L200.743,189L206.968,171.6L207.289,153L207.284,132L207.278,109.2L207.268,84.6L207.263,57L207.253,26.4\" stroke=\"rgb(122, 245, 90)\" stroke-width=\"2\"/></g></g><path class=\"foreground\" aria-hidden=\"true\" d=\"\" display=\"none\"/></g><g transform=\"translate(0,0)\"><path class=\"background\" aria-hidden=\"true\" d=\"M0,0h300v300h-300Z\"/><g><g class=\"mark-line role-mark marks\" role=\"graphics-object\" aria-roledescription=\"line mark container\"><path aria-label=\"θ (K): 309.800384521; Height (AGL) (km): 0; time (hours-minutes): 16:40; height: 0\" role=\"graphics-symbol\" aria-roledescription=\"line mark\" d=\"M166.731,300L171.273,294L172.916,287.4L170.286,280.2L172.041,272.4L175.632,263.4L181.639,253.8L191.638,243L197.172,231.6L202.457,218.4L205.376,204.6L207.268,189L212.482,171.6L211.307,153L209.145,132L209.115,109.2L209.079,84.6L209.043,57L208.998,26.4\" stroke=\"rgb(74, 245, 109)\" stroke-width=\"2\"/></g></g><path class=\"foreground\" aria-hidden=\"true\" d=\"\" display=\"none\"/></g><g transform=\"translate(0,0)\"><path class=\"background\" aria-hidden=\"true\" d=\"M0,0h300v300h-300Z\"/><g><g class=\"mark-line role-mark marks\" role=\"graphics-object\" aria-roledescription=\"line mark container\"><path aria-label=\"θ (K): 309.975494385; Height (AGL) (km): 0; time (hours-minutes): 16:50; height: 0\" role=\"graphics-symbol\" aria-roledescription=\"line mark\" d=\"M195.916,300L196.531,294L192.956,287.4L185.87,280.2L183.704,272.4L184.95,263.4L190.768,253.8L201.088,243L207.019,231.6L212.39,218.4L215.223,204.6L216.312,189L221.683,171.6L221.657,153L222.141,132L222.135,109.2L222.125,84.6L222.12,57L222.115,26.4\" stroke=\"rgb(40, 234, 141)\" stroke-width=\"2\"/></g></g><path class=\"foreground\" aria-hidden=\"true\" d=\"\" display=\"none\"/></g><g transform=\"translate(0,0)\"><path class=\"background\" aria-hidden=\"true\" d=\"M0,0h300v300h-300Z\"/><g><g class=\"mark-line role-mark marks\" role=\"graphics-object\" aria-roledescription=\"line mark container\"><path aria-label=\"θ (K): 309.494628906; Height (AGL) (km): 0; time (hours-minutes): 17:00; height: 0\" role=\"graphics-symbol\" aria-roledescription=\"line mark\" d=\"M115.771,300L120.959,294L124.713,287.4L124.84,280.2L129.682,272.4L136.579,263.4L146.035,253.8L159.447,243L167.616,231.6L174.92,218.4L179.385,204.6L181.878,189L187.335,171.6L186.262,153L183.927,132L183.892,109.2L183.856,84.6L183.816,57L183.77,26.4\" stroke=\"rgb(26, 213, 177)\" stroke-width=\"2\"/></g></g><path class=\"foreground\" aria-hidden=\"true\" d=\"\" display=\"none\"/></g><g transform=\"translate(0,0)\"><path class=\"background\" aria-hidden=\"true\" d=\"M0,0h300v300h-300Z\"/><g><g class=\"mark-line role-mark marks\" role=\"graphics-object\" aria-roledescription=\"line mark container\"><path aria-label=\"θ (K): 309.531005859; Height (AGL) (km): 0; time (hours-minutes): 17:10; height: 0\" role=\"graphics-symbol\" aria-roledescription=\"line mark\" d=\"M121.834,300L129.962,294L135.883,287.4L138.039,280.2L144.473,272.4L152.728,263.4L163.353,253.8L177.417,243L185.875,231.6L193.276,218.4L197.36,204.6L199.537,189L204.934,171.6L204.252,153L202.858,132L202.828,109.2L202.803,84.6L202.767,57L202.731,26.4\" stroke=\"rgb(30, 184, 207)\" stroke-width=\"2\"/></g></g><path class=\"foreground\" aria-hidden=\"true\" d=\"\" display=\"none\"/></g><g transform=\"translate(0,0)\"><path class=\"background\" aria-hidden=\"true\" d=\"M0,0h300v300h-300Z\"/><g><g class=\"mark-line role-mark marks\" role=\"graphics-object\" aria-roledescription=\"line mark container\"><path aria-label=\"θ (K): 309.37789917; Height (AGL) (km): 0; time (hours-minutes): 17:20; height: 0\" role=\"graphics-symbol\" aria-roledescription=\"line mark\" d=\"M96.317,300L110.655,294L121.27,287.4L127.597,280.2L137.144,272.4L148.471,263.4L162.214,253.8L179.507,243L190.997,231.6L201.567,218.4L208.906,204.6L213.947,189L221.876,171.6L223.941,153L225.935,132L225.935,109.2L225.935,84.6L225.935,57L225.935,26.4\" stroke=\"rgb(47, 150, 224)\" stroke-width=\"2\"/></g></g><path class=\"foreground\" aria-hidden=\"true\" d=\"\" display=\"none\"/></g><g transform=\"translate(0,0)\"><path class=\"background\" aria-hidden=\"true\" d=\"M0,0h300v300h-300Z\"/><g><g class=\"mark-line role-mark marks\" role=\"graphics-object\" aria-roledescription=\"line mark container\"><path aria-label=\"θ (K): 309.530914307; Height (AGL) (km): 0; time (hours-minutes): 17:30; height: 0\" role=\"graphics-symbol\" aria-roledescription=\"line mark\" d=\"M121.819,300L128.594,294L134.372,287.4L138.441,280.2L148.471,272.4L162.601,263.4L180.748,253.8L202.106,243L216.006,231.6L226.805,218.4L232.166,204.6L233.132,189L236.814,171.6L234.037,153L230.533,132L230.533,109.2L230.533,84.6L230.533,57L230.533,26.4\" stroke=\"rgb(71, 117, 221)\" stroke-width=\"2\"/></g></g><path class=\"foreground\" aria-hidden=\"true\" d=\"\" display=\"none\"/></g><g transform=\"translate(0,0)\"><path class=\"background\" aria-hidden=\"true\" d=\"M0,0h300v300h-300Z\"/><g><g class=\"mark-line role-mark marks\" role=\"graphics-object\" aria-roledescription=\"line mark container\"><path aria-label=\"θ (K): 309.385131836; Height (AGL) (km): 0; time (hours-minutes): 17:40; height: 0\" role=\"graphics-symbol\" aria-roledescription=\"line mark\" d=\"M97.522,300L110.533,294L123.131,287.4L132.912,280.2L147.815,272.4L166.665,263.4L188.81,253.8L214.796,243L234.21,231.6L252.287,218.4L265.084,204.6L274.661,189L285.749,171.6L289.284,153L290.235,132L290.2,109.2L290.159,84.6L290.113,57L290.062,26.4\" stroke=\"rgb(94, 88, 202)\" stroke-width=\"2\"/></g></g><path class=\"foreground\" aria-hidden=\"true\" d=\"\" display=\"none\"/></g></g><g class=\"mark-group role-legend\" role=\"graphics-symbol\" aria-roledescription=\"legend\" aria-label=\"Symbol legend titled 'time (hours-minutes)' for stroke color with 17 values: 15:00, 15:10, 15:20, 15:30, 15:40, ending with 17:40\"><g transform=\"translate(318,0)\"><path class=\"background\" aria-hidden=\"true\" d=\"M0,0h110v235h-110Z\" pointer-events=\"none\"/><g><g class=\"mark-group role-legend-entry\"><g transform=\"translate(0,16)\"><path class=\"background\" aria-hidden=\"true\" d=\"M0,0h0v0h0Z\" pointer-events=\"none\"/><g><g class=\"mark-group role-scope\" role=\"graphics-object\" aria-roledescription=\"group mark container\"><g transform=\"translate(0,0)\"><path class=\"background\" aria-hidden=\"true\" d=\"M0,0h41.0244140625v11h-41.0244140625Z\" pointer-events=\"none\" opacity=\"1\"/><g><g class=\"mark-symbol role-legend-symbol\" pointer-events=\"none\"><path transform=\"translate(6,6)\" d=\"M-5,0L5,0\" stroke=\"rgb(155, 61, 178)\" stroke-width=\"1.5\" opacity=\"1\"/></g><g class=\"mark-text role-legend-label\" pointer-events=\"none\"><text text-anchor=\"start\" transform=\"translate(16,9)\" font-family=\"sans-serif\" font-size=\"10px\" fill=\"#000\" opacity=\"1\">15:00</text></g></g><path class=\"foreground\" aria-hidden=\"true\" d=\"\" pointer-events=\"none\" display=\"none\"/></g><g transform=\"translate(0,13)\"><path class=\"background\" aria-hidden=\"true\" d=\"M0,0h41.0244140625v11h-41.0244140625Z\" pointer-events=\"none\" opacity=\"1\"/><g><g class=\"mark-symbol role-legend-symbol\" pointer-events=\"none\"><path transform=\"translate(6,6)\" d=\"M-5,0L5,0\" stroke=\"rgb(199, 61, 171)\" stroke-width=\"1.5\" opacity=\"1\"/></g><g class=\"mark-text role-legend-label\" pointer-events=\"none\"><text text-anchor=\"start\" transform=\"translate(16,9)\" font-family=\"sans-serif\" font-size=\"10px\" fill=\"#000\" opacity=\"1\">15:10</text></g></g><path class=\"foreground\" aria-hidden=\"true\" d=\"\" pointer-events=\"none\" display=\"none\"/></g><g transform=\"translate(0,26)\"><path class=\"background\" aria-hidden=\"true\" d=\"M0,0h41.0244140625v11h-41.0244140625Z\" pointer-events=\"none\" opacity=\"1\"/><g><g class=\"mark-symbol role-legend-symbol\" pointer-events=\"none\"><path transform=\"translate(6,6)\" d=\"M-5,0L5,0\" stroke=\"rgb(238, 67, 149)\" stroke-width=\"1.5\" opacity=\"1\"/></g><g class=\"mark-text role-legend-label\" pointer-events=\"none\"><text text-anchor=\"start\" transform=\"translate(16,9)\" font-family=\"sans-serif\" font-size=\"10px\" fill=\"#000\" opacity=\"1\">15:20</text></g></g><path class=\"foreground\" aria-hidden=\"true\" d=\"\" pointer-events=\"none\" display=\"none\"/></g><g transform=\"translate(0,39)\"><path class=\"background\" aria-hidden=\"true\" d=\"M0,0h41.0244140625v11h-41.0244140625Z\" pointer-events=\"none\" opacity=\"1\"/><g><g class=\"mark-symbol role-legend-symbol\" pointer-events=\"none\"><path transform=\"translate(6,6)\" d=\"M-5,0L5,0\" stroke=\"rgb(255, 83, 117)\" stroke-width=\"1.5\" opacity=\"1\"/></g><g class=\"mark-text role-legend-label\" pointer-events=\"none\"><text text-anchor=\"start\" transform=\"translate(16,9)\" font-family=\"sans-serif\" font-size=\"10px\" fill=\"#000\" opacity=\"1\">15:30</text></g></g><path class=\"foreground\" aria-hidden=\"true\" d=\"\" pointer-events=\"none\" display=\"none\"/></g><g transform=\"translate(0,52)\"><path class=\"background\" aria-hidden=\"true\" d=\"M0,0h41.0244140625v11h-41.0244140625Z\" pointer-events=\"none\" opacity=\"1\"/><g><g class=\"mark-symbol role-legend-symbol\" pointer-events=\"none\"><path transform=\"translate(6,6)\" d=\"M-5,0L5,0\" stroke=\"rgb(255, 108, 83)\" stroke-width=\"1.5\" opacity=\"1\"/></g><g class=\"mark-text role-legend-label\" pointer-events=\"none\"><text text-anchor=\"start\" transform=\"translate(16,9)\" font-family=\"sans-serif\" font-size=\"10px\" fill=\"#000\" opacity=\"1\">15:40</text></g></g><path class=\"foreground\" aria-hidden=\"true\" d=\"\" pointer-events=\"none\" display=\"none\"/></g><g transform=\"translate(0,65)\"><path class=\"background\" aria-hidden=\"true\" d=\"M0,0h41.0244140625v11h-41.0244140625Z\" pointer-events=\"none\" opacity=\"1\"/><g><g class=\"mark-symbol role-legend-symbol\" pointer-events=\"none\"><path transform=\"translate(6,6)\" d=\"M-5,0L5,0\" stroke=\"rgb(255, 140, 56)\" stroke-width=\"1.5\" opacity=\"1\"/></g><g class=\"mark-text role-legend-label\" pointer-events=\"none\"><text text-anchor=\"start\" transform=\"translate(16,9)\" font-family=\"sans-serif\" font-size=\"10px\" fill=\"#000\" opacity=\"1\">15:50</text></g></g><path class=\"foreground\" aria-hidden=\"true\" d=\"\" pointer-events=\"none\" display=\"none\"/></g><g transform=\"translate(0,78)\"><path class=\"background\" aria-hidden=\"true\" d=\"M0,0h41.0244140625v11h-41.0244140625Z\" pointer-events=\"none\" opacity=\"1\"/><g><g class=\"mark-symbol role-legend-symbol\" pointer-events=\"none\"><path transform=\"translate(6,6)\" d=\"M-5,0L5,0\" stroke=\"rgb(232, 176, 47)\" stroke-width=\"1.5\" opacity=\"1\"/></g><g class=\"mark-text role-legend-label\" pointer-events=\"none\"><text text-anchor=\"start\" transform=\"translate(16,9)\" font-family=\"sans-serif\" font-size=\"10px\" fill=\"#000\" opacity=\"1\">16:00</text></g></g><path class=\"foreground\" aria-hidden=\"true\" d=\"\" pointer-events=\"none\" display=\"none\"/></g><g transform=\"translate(0,91)\"><path class=\"background\" aria-hidden=\"true\" d=\"M0,0h41.0244140625v11h-41.0244140625Z\" pointer-events=\"none\" opacity=\"1\"/><g><g class=\"mark-symbol role-legend-symbol\" pointer-events=\"none\"><path transform=\"translate(6,6)\" d=\"M-5,0L5,0\" stroke=\"rgb(201, 211, 59)\" stroke-width=\"1.5\" opacity=\"1\"/></g><g class=\"mark-text role-legend-label\" pointer-events=\"none\"><text text-anchor=\"start\" transform=\"translate(16,9)\" font-family=\"sans-serif\" font-size=\"10px\" fill=\"#000\" opacity=\"1\">16:10</text></g></g><path class=\"foreground\" aria-hidden=\"true\" d=\"\" pointer-events=\"none\" display=\"none\"/></g><g transform=\"translate(0,104)\"><path class=\"background\" aria-hidden=\"true\" d=\"M0,0h41.0244140625v11h-41.0244140625Z\" pointer-events=\"none\" opacity=\"1\"/><g><g class=\"mark-symbol role-legend-symbol\" pointer-events=\"none\"><path transform=\"translate(6,6)\" d=\"M-5,0L5,0\" stroke=\"rgb(175, 240, 91)\" stroke-width=\"1.5\" opacity=\"1\"/></g><g class=\"mark-text role-legend-label\" pointer-events=\"none\"><text text-anchor=\"start\" transform=\"translate(16,9)\" font-family=\"sans-serif\" font-size=\"10px\" fill=\"#000\" opacity=\"1\">16:20</text></g></g><path class=\"foreground\" aria-hidden=\"true\" d=\"\" pointer-events=\"none\" display=\"none\"/></g><g transform=\"translate(0,117)\"><path class=\"background\" aria-hidden=\"true\" d=\"M0,0h41.0244140625v11h-41.0244140625Z\" pointer-events=\"none\" opacity=\"1\"/><g><g class=\"mark-symbol role-legend-symbol\" pointer-events=\"none\"><path transform=\"translate(6,6)\" d=\"M-5,0L5,0\" stroke=\"rgb(122, 245, 90)\" stroke-width=\"1.5\" opacity=\"1\"/></g><g class=\"mark-text role-legend-label\" pointer-events=\"none\"><text text-anchor=\"start\" transform=\"translate(16,9)\" font-family=\"sans-serif\" font-size=\"10px\" fill=\"#000\" opacity=\"1\">16:30</text></g></g><path class=\"foreground\" aria-hidden=\"true\" d=\"\" pointer-events=\"none\" display=\"none\"/></g><g transform=\"translate(0,130)\"><path class=\"background\" aria-hidden=\"true\" d=\"M0,0h41.0244140625v11h-41.0244140625Z\" pointer-events=\"none\" opacity=\"1\"/><g><g class=\"mark-symbol role-legend-symbol\" pointer-events=\"none\"><path transform=\"translate(6,6)\" d=\"M-5,0L5,0\" stroke=\"rgb(74, 245, 109)\" stroke-width=\"1.5\" opacity=\"1\"/></g><g class=\"mark-text role-legend-label\" pointer-events=\"none\"><text text-anchor=\"start\" transform=\"translate(16,9)\" font-family=\"sans-serif\" font-size=\"10px\" fill=\"#000\" opacity=\"1\">16:40</text></g></g><path class=\"foreground\" aria-hidden=\"true\" d=\"\" pointer-events=\"none\" display=\"none\"/></g><g transform=\"translate(0,143)\"><path class=\"background\" aria-hidden=\"true\" d=\"M0,0h41.0244140625v11h-41.0244140625Z\" pointer-events=\"none\" opacity=\"1\"/><g><g class=\"mark-symbol role-legend-symbol\" pointer-events=\"none\"><path transform=\"translate(6,6)\" d=\"M-5,0L5,0\" stroke=\"rgb(40, 234, 141)\" stroke-width=\"1.5\" opacity=\"1\"/></g><g class=\"mark-text role-legend-label\" pointer-events=\"none\"><text text-anchor=\"start\" transform=\"translate(16,9)\" font-family=\"sans-serif\" font-size=\"10px\" fill=\"#000\" opacity=\"1\">16:50</text></g></g><path class=\"foreground\" aria-hidden=\"true\" d=\"\" pointer-events=\"none\" display=\"none\"/></g><g transform=\"translate(0,156)\"><path class=\"background\" aria-hidden=\"true\" d=\"M0,0h41.0244140625v11h-41.0244140625Z\" pointer-events=\"none\" opacity=\"1\"/><g><g class=\"mark-symbol role-legend-symbol\" pointer-events=\"none\"><path transform=\"translate(6,6)\" d=\"M-5,0L5,0\" stroke=\"rgb(26, 213, 177)\" stroke-width=\"1.5\" opacity=\"1\"/></g><g class=\"mark-text role-legend-label\" pointer-events=\"none\"><text text-anchor=\"start\" transform=\"translate(16,9)\" font-family=\"sans-serif\" font-size=\"10px\" fill=\"#000\" opacity=\"1\">17:00</text></g></g><path class=\"foreground\" aria-hidden=\"true\" d=\"\" pointer-events=\"none\" display=\"none\"/></g><g transform=\"translate(0,169)\"><path class=\"background\" aria-hidden=\"true\" d=\"M0,0h41.0244140625v11h-41.0244140625Z\" pointer-events=\"none\" opacity=\"1\"/><g><g class=\"mark-symbol role-legend-symbol\" pointer-events=\"none\"><path transform=\"translate(6,6)\" d=\"M-5,0L5,0\" stroke=\"rgb(30, 184, 207)\" stroke-width=\"1.5\" opacity=\"1\"/></g><g class=\"mark-text role-legend-label\" pointer-events=\"none\"><text text-anchor=\"start\" transform=\"translate(16,9)\" font-family=\"sans-serif\" font-size=\"10px\" fill=\"#000\" opacity=\"1\">17:10</text></g></g><path class=\"foreground\" aria-hidden=\"true\" d=\"\" pointer-events=\"none\" display=\"none\"/></g><g transform=\"translate(0,182)\"><path class=\"background\" aria-hidden=\"true\" d=\"M0,0h41.0244140625v11h-41.0244140625Z\" pointer-events=\"none\" opacity=\"1\"/><g><g class=\"mark-symbol role-legend-symbol\" pointer-events=\"none\"><path transform=\"translate(6,6)\" d=\"M-5,0L5,0\" stroke=\"rgb(47, 150, 224)\" stroke-width=\"1.5\" opacity=\"1\"/></g><g class=\"mark-text role-legend-label\" pointer-events=\"none\"><text text-anchor=\"start\" transform=\"translate(16,9)\" font-family=\"sans-serif\" font-size=\"10px\" fill=\"#000\" opacity=\"1\">17:20</text></g></g><path class=\"foreground\" aria-hidden=\"true\" d=\"\" pointer-events=\"none\" display=\"none\"/></g><g transform=\"translate(0,195)\"><path class=\"background\" aria-hidden=\"true\" d=\"M0,0h41.0244140625v11h-41.0244140625Z\" pointer-events=\"none\" opacity=\"1\"/><g><g class=\"mark-symbol role-legend-symbol\" pointer-events=\"none\"><path transform=\"translate(6,6)\" d=\"M-5,0L5,0\" stroke=\"rgb(71, 117, 221)\" stroke-width=\"1.5\" opacity=\"1\"/></g><g class=\"mark-text role-legend-label\" pointer-events=\"none\"><text text-anchor=\"start\" transform=\"translate(16,9)\" font-family=\"sans-serif\" font-size=\"10px\" fill=\"#000\" opacity=\"1\">17:30</text></g></g><path class=\"foreground\" aria-hidden=\"true\" d=\"\" pointer-events=\"none\" display=\"none\"/></g><g transform=\"translate(0,208)\"><path class=\"background\" aria-hidden=\"true\" d=\"M0,0h41.0244140625v11h-41.0244140625Z\" pointer-events=\"none\" opacity=\"1\"/><g><g class=\"mark-symbol role-legend-symbol\" pointer-events=\"none\"><path transform=\"translate(6,6)\" d=\"M-5,0L5,0\" stroke=\"rgb(94, 88, 202)\" stroke-width=\"1.5\" opacity=\"1\"/></g><g class=\"mark-text role-legend-label\" pointer-events=\"none\"><text text-anchor=\"start\" transform=\"translate(16,9)\" font-family=\"sans-serif\" font-size=\"10px\" fill=\"#000\" opacity=\"1\">17:40</text></g></g><path class=\"foreground\" aria-hidden=\"true\" d=\"\" pointer-events=\"none\" display=\"none\"/></g></g></g><path class=\"foreground\" aria-hidden=\"true\" d=\"\" pointer-events=\"none\" display=\"none\"/></g></g><g class=\"mark-text role-legend-title\" pointer-events=\"none\"><text text-anchor=\"start\" transform=\"translate(0,9)\" font-family=\"sans-serif\" font-size=\"11px\" font-weight=\"bold\" fill=\"#000\" opacity=\"1\">time (hours-minutes)</text></g></g><path class=\"foreground\" aria-hidden=\"true\" d=\"\" pointer-events=\"none\" display=\"none\"/></g></g></g><path class=\"foreground\" aria-hidden=\"true\" d=\"\" display=\"none\"/></g></g></g></svg>"
      ],
      "text/plain": [
       "alt.Chart(...)"
      ]
     },
     "execution_count": 112,
     "metadata": {},
     "output_type": "execute_result"
    }
   ],
   "source": [
    "alt.Chart(\n",
    "    tropoe_df[tropoe_df.time > '20230418 1500'].query(\"height < 500\")\n",
    ").mark_line(size=2).encode(\n",
    "    alt.X('theta:Q').scale(zero=False).title('θ (K)'),\n",
    "    alt.Y('height').scale(type='linear').title('Height (AGL) (km)'),\n",
    "    alt.Color('hoursminutes(time):O').scale(scheme='rainbow'),\n",
    "    # alt.Facet('hours(time):O', columns=6),\n",
    "    order='height',\n",
    "    tooltip = 'hoursminutes(time)'\n",
    ").properties(width=300, height=300)"
   ]
  },
  {
   "cell_type": "markdown",
   "metadata": {},
   "source": [
    "### Combine tropoe and radiosonde plots"
   ]
  },
  {
   "cell_type": "code",
   "execution_count": null,
   "metadata": {},
   "outputs": [],
   "source": [
    "src_morn = sonde_morn.to_dataframe().query(\"alt < 5000\")\n",
    "src_day = sonde_day.to_dataframe().query(\"alt < 5000\")\n",
    "both_sondes = pd.concat([\n",
    "    src_morn.assign(timestamp = '4:30am'),\n",
    "    src_day.assign(timestamp = '4:30pm')\n",
    "])\n",
    "both_sondes\n",
    "both_sondes.alt = both_sondes.alt - 2889 # this is the approx elevation of the SAIL site\n",
    "\n",
    "alt.Chart(both_sondes).mark_line().encode(\n",
    "    alt.X('tpot:Q'),\n",
    "    alt.Y('alt:Q').scale(zero=False, nice=False),\n",
    "    alt.Color('timestamp:N'),\n",
    "    order='alt',\n",
    ").properties(width=100, height = 200)"
   ]
  },
  {
   "cell_type": "code",
   "execution_count": null,
   "metadata": {},
   "outputs": [],
   "source": [
    "\n",
    "both_tropoe = pd.concat([\n",
    "    tropoe_df.set_index('time').loc['20230418 04:30'].assign(timestamp = '4:30am'),\n",
    "    tropoe_df.set_index('time').loc['20230418 16:30'].assign(timestamp = '4:30pm')\n",
    "])\n",
    "both_tropoe = both_tropoe.rename(columns={\n",
    "    'theta':'tpot',\n",
    "    'height':'alt',\n",
    "})\n",
    "both_tropoe = both_tropoe.query(f\"alt <= {both_sondes.alt.max()}\")"
   ]
  },
  {
   "cell_type": "code",
   "execution_count": null,
   "metadata": {},
   "outputs": [],
   "source": [
    "tropoe_and_sonde_df = pd.concat([\n",
    "    both_tropoe.query(\"alt < 5000\").assign(type = 'tropoe'),\n",
    "    both_sondes.assign(type = 'radiosonde')\n",
    "])"
   ]
  },
  {
   "cell_type": "code",
   "execution_count": null,
   "metadata": {},
   "outputs": [],
   "source": [
    "alt.Chart(tropoe_and_sonde_df.assign(alt = tropoe_and_sonde_df.alt/1000)).mark_line().encode(\n",
    "    alt.X('tpot:Q').title('θ (K)'),\n",
    "    alt.Y('alt:Q').scale(zero=False, nice=False).title('Height (AGL) (km)'),\n",
    "    alt.Color('timestamp:N'),\n",
    "    alt.StrokeDash('type:N'),\n",
    "    order='alt',\n",
    ").properties(width=100, height = 200)"
   ]
  },
  {
   "cell_type": "markdown",
   "metadata": {},
   "source": [
    "## Doppler Lidar Vertical Velocity Variance"
   ]
  },
  {
   "cell_type": "markdown",
   "metadata": {},
   "source": [
    "### During April 18"
   ]
  },
  {
   "cell_type": "code",
   "execution_count": null,
   "metadata": {},
   "outputs": [],
   "source": [
    "# Inputs\n",
    "username = os.getenv(\"ARM_USERNAME\")\n",
    "token = os.getenv(\"ARM_TOKEN\")\n",
    "DATE_FORMAT_STR = '%Y-%m-%d'\n",
    "start_date = \"20230418\"\n",
    "end_date = \"20230419\"\n",
    "# start_date = \"20221221\"\n",
    "# end_date = \"20221222\"\n",
    "DLW_DATA_STREAM = 'gucdlprofwstats4newsM1.c1'\n",
    "DLW_DATA_STREAM_FILEEXT = '.cdf'\n",
    "DLW_OUTPUT_DIR = os.path.join(data_dir, DLW_DATA_STREAM)"
   ]
  },
  {
   "cell_type": "code",
   "execution_count": null,
   "metadata": {},
   "outputs": [],
   "source": [
    "file_list = act.discovery.download_arm_data(\n",
    "            username, token, DLW_DATA_STREAM, start_date, end_date, output = DLW_OUTPUT_DIR)"
   ]
  },
  {
   "cell_type": "code",
   "execution_count": 97,
   "metadata": {},
   "outputs": [],
   "source": [
    "file_list = [f for f in glob.glob(os.path.join(data_dir, DLW_DATA_STREAM, '*.nc')) if '20230418' in f or '20230419' in f]"
   ]
  },
  {
   "cell_type": "code",
   "execution_count": 101,
   "metadata": {},
   "outputs": [],
   "source": [
    "dl_wstats = xr.open_mfdataset(file_list)\n",
    "dl_wstats = utils.modify_xarray_timezone(\n",
    "    dl_wstats,\n",
    "    'UTC',\n",
    "    'US/Mountain'\n",
    ")"
   ]
  },
  {
   "cell_type": "code",
   "execution_count": 106,
   "metadata": {},
   "outputs": [
    {
     "data": {
      "text/plain": [
       "Text(0.5, 1.0, 'Vertical velocity variance from vertically-staring Doppler Lidar')"
      ]
     },
     "execution_count": 106,
     "metadata": {},
     "output_type": "execute_result"
    },
    {
     "data": {
      "image/png": "[encoded data removed]",
      "text/plain": [
       "<Figure size 1000x400 with 2 Axes>"
      ]
     },
     "metadata": {},
     "output_type": "display_data"
    }
   ],
   "source": [
    "dl_wstats['w_variance'].sel(\n",
    "    time = slice('20230418 0000', '20230419 0000')\n",
    ").plot(x = 'time', y='height', figsize=(10,4), vmin=0, vmax=20, cmap='gist_ncar')\n",
    "plt.ylim(0, 2000)\n",
    "plt.title('Vertical velocity variance from vertically-staring Doppler Lidar')"
   ]
  },
  {
   "cell_type": "code",
   "execution_count": null,
   "metadata": {},
   "outputs": [],
   "source": [
    "src = dl_wstats.where(dl_wstats['snr'] > 0.008)\n",
    "alt.Chart(\n",
    "    src['w_variance'].to_dataframe().reset_index().query(\"height < 2000\").set_index('time').reset_index()\n",
    ").mark_line().encode(\n",
    "    alt.X('mean(w_variance):Q'),\n",
    "    alt.Y('height:Q'),\n",
    "    alt.Color('hours(time):O').scale(scheme='rainbow'),\n",
    "    alt.Column('date(time):O'),\n",
    "    order='height',\n",
    ").resolve_scale(x='shared', y='shared')"
   ]
  },
  {
   "cell_type": "code",
   "execution_count": null,
   "metadata": {},
   "outputs": [],
   "source": [
    "dl_wstats['w_variance'].plot(x = 'time', y='height', figsize=(10,3), vmin=0, vmax=20, cmap='gist_ncar')\n",
    "plt.title('Vertical velocity variance from vertically-staring Doppler Lidar')\n",
    "plt.ylim(0,2000)\n",
    "plt.xlim('2023-04-18', '20230419 0000')\n",
    "plt.xticks([\n",
    "        '20230418 0000', '20230418 0100', '20230418 0200', '20230418 0300', '20230418 0400', '20230418 0500', '20230418 0600', \n",
    "        '20230418 0700', '20230418 0800', '20230418 0900', '20230418 1000', '20230418 1100', '20230418 1200',\n",
    "        '20230418 1300','20230418 1400','20230418 1500','20230418 1600','20230418 1700','20230418 1800',\n",
    "        '20230418 1900','20230418 2000','20230418 2100','20230418 2200','20230418 2300'\n",
    "    ], [str(int(f)) for f in np.linspace(0,23, 24)]\n",
    ")\n",
    "plt.show()"
   ]
  },
  {
   "cell_type": "code",
   "execution_count": null,
   "metadata": {},
   "outputs": [],
   "source": [
    "# dl_wstats['w_skewness'].plot(x = 'time', y='height', figsize=(10,3), vmin=-5, vmax=5, cmap='RdBu')\n",
    "utils.modify_xarray_timezone(\n",
    "    dl_wstats['w_skewness'],\n",
    "    'UTC',\n",
    "    'US/Mountain'\n",
    ").plot(x = 'time', y='height', figsize=(10,3), vmin=-5, vmax=5, cmap='seismic')\n",
    "\n",
    "ax = plt.gca()\n",
    "\n",
    "utils.modify_xarray_timezone(\n",
    "    dl_wstats['w_variance'].sel(height = slice(0,2000)),\n",
    "    'UTC',\n",
    "    'US/Mountain'\n",
    ").plot.contour(x = 'time', y='height', levels=1, colors='k', ax=ax)\n",
    "\n",
    "ax.set_title('Vertical velocity skewness from vertically-staring Doppler Lidar')\n",
    "ax.set_ylim(0,2000)\n",
    "ax.set_xlim('20230418 0000', '20230419 0000')\n",
    "ax.set_xticks([\n",
    "        '20230418 0000', '20230418 0100', '20230418 0200', '20230418 0300', '20230418 0400', '20230418 0500', '20230418 0600', \n",
    "        '20230418 0700', '20230418 0800', '20230418 0900', '20230418 1000', '20230418 1100', '20230418 1200',\n",
    "        '20230418 1300','20230418 1400','20230418 1500','20230418 1600','20230418 1700','20230418 1800',\n",
    "        '20230418 1900','20230418 2000','20230418 2100','20230418 2200','20230418 2300'\n",
    "    ], [str(int(f)) for f in np.linspace(0,23, 24)]\n",
    ")\n",
    "\n",
    "plt.show()"
   ]
  },
  {
   "cell_type": "code",
   "execution_count": null,
   "metadata": {},
   "outputs": [],
   "source": [
    "\n",
    "dl_wstats['w_skewness'].plot(x = 'time', y='height', figsize=(10,3), vmin=-5, vmax=5, cmap='seismic')\n",
    "\n",
    "ax = plt.gca()\n",
    "\n",
    "dl_wstats['w_variance'].sel(height = slice(0,2000)).plot.contour(x = 'time', y='height', levels=1, colors='k', ax=ax)\n",
    "\n",
    "ax.set_title('Vertical velocity skewness from vertically-staring Doppler Lidar')\n",
    "ax.set_ylim(0,2000)\n",
    "ax.set_xlim('20230418 1200', '20230419 0000')\n",
    "ax.set_xticks([\n",
    "        '20230418 1200',\n",
    "        '20230418 1300','20230418 1400','20230418 1500','20230418 1600','20230418 1700','20230418 1800',\n",
    "        '20230418 1900','20230418 2000','20230418 2100','20230418 2200','20230418 2300'\n",
    "    ], [str(int(f)) for f in np.linspace(12,23, 12)]\n",
    ")\n",
    "\n",
    "plt.show()"
   ]
  },
  {
   "cell_type": "markdown",
   "metadata": {},
   "source": [
    "### During days with predominantly along valley winds "
   ]
  },
  {
   "cell_type": "code",
   "execution_count": null,
   "metadata": {},
   "outputs": [],
   "source": [
    "winddir_3m_df = sos_df.query(f\"variable == 'dir_3m_c'\")\n",
    "winddir_3m_df = winddir_3m_df.assign(wind_is_alongvalley = \n",
    "    (\n",
    "        ((winddir_3m_df.value > 292.5) & (winddir_3m_df.value < 337.5))\n",
    "        |\n",
    "        ((winddir_3m_df.value > 112.5) & (winddir_3m_df.value < 157.5))\n",
    "    )\n",
    ")\n",
    "percent_wind_alongvalley = winddir_3m_df.set_index('time').groupby(pd.Grouper(freq='1440Min'))['wind_is_alongvalley'].sum()/48\n",
    "dates_with_80percent_alongvalley = percent_wind_alongvalley[percent_wind_alongvalley > 0.7].index.to_series().dt.date\n",
    "dates_with_80percent_alongvalley = pd.to_datetime(dates_with_80percent_alongvalley).dt.strftime(DATE_FORMAT_STR).values\n",
    "print(len(dates_with_80percent_alongvalley))"
   ]
  },
  {
   "cell_type": "code",
   "execution_count": null,
   "metadata": {},
   "outputs": [],
   "source": [
    "# DOWNLOAD FILES\n",
    "\n",
    "# # Inputs\n",
    "# files = []\n",
    "# for date in pd.to_datetime(dates_with_80percent_alongvalley).dt.strftime(DATE_FORMAT_STR).values:\n",
    "#     f = act.discovery.download_arm_data(\n",
    "#         username, token, DLW_DATA_STREAM, date, date, output = DLW_OUTPUT_DIR\n",
    "#     )\n",
    "#     files = files + f\n",
    "\n",
    "# DOWNLOAD FILES\n",
    "all_dl_files = glob.glob(os.path.join(DLW_OUTPUT_DIR, \"*.nc\"))"
   ]
  },
  {
   "cell_type": "code",
   "execution_count": null,
   "metadata": {},
   "outputs": [],
   "source": [
    "fs = []\n",
    "for f in all_dl_files:\n",
    "    for d in dates_with_80percent_alongvalley:\n",
    "        if d.replace('-', '') in f:\n",
    "            fs.append(f)\n",
    "len(fs)"
   ]
  },
  {
   "cell_type": "code",
   "execution_count": null,
   "metadata": {},
   "outputs": [],
   "source": [
    "dl_wstats_with_80percent_alongvalley = xr.open_mfdataset(fs)"
   ]
  },
  {
   "cell_type": "code",
   "execution_count": null,
   "metadata": {},
   "outputs": [],
   "source": [
    "# dl_wstats = xr.open_mfdataset()\n",
    "src = utils.modify_xarray_timezone(\n",
    "    dl_wstats_with_80percent_alongvalley['w_variance'],\n",
    "    'UTC',\n",
    "    'US/Mountain'\n",
    ").to_dataframe().reset_index()"
   ]
  },
  {
   "cell_type": "code",
   "execution_count": null,
   "metadata": {},
   "outputs": [],
   "source": [
    "src = src.query(\"height < 2000\")\n",
    "src['hour'] = src['time'].dt.hour"
   ]
  },
  {
   "cell_type": "code",
   "execution_count": null,
   "metadata": {},
   "outputs": [],
   "source": [
    "def percentile(n):\n",
    "    def percentile_(x):\n",
    "        return x.quantile(n)\n",
    "    percentile_.__name__ = 'percentile_{:02.0f}'.format(n*100)\n",
    "    return percentile_"
   ]
  },
  {
   "cell_type": "code",
   "execution_count": null,
   "metadata": {},
   "outputs": [],
   "source": [
    "src_agg_stats = src.groupby(['hour', 'height'])['w_variance'].agg(['mean', 'median', percentile(.25), percentile(.75)])\n",
    "src_agg_stats"
   ]
  },
  {
   "cell_type": "code",
   "execution_count": null,
   "metadata": {},
   "outputs": [],
   "source": [
    "alt.Chart(src_agg_stats.reset_index()).mark_rule().encode(\n",
    "    alt.X('mean(percentile_25):Q'),\n",
    "    alt.X2('mean(percentile_75):Q'),\n",
    "    alt.Y('height:Q'),\n",
    ") + alt.Chart(src_agg_stats.reset_index()).transform_fold([\n",
    "    'mean', 'median'\n",
    "]).mark_circle().encode(\n",
    "    alt.X('mean(value):Q'),\n",
    "    alt.Y('height:Q'),\n",
    "    # alt.Shape('key:N').scale(range=['circle', 'stroke']),\n",
    "    alt.Color('key:N')\n",
    ").properties(height = 500)"
   ]
  },
  {
   "cell_type": "code",
   "execution_count": null,
   "metadata": {},
   "outputs": [],
   "source": [
    "alt.layer(\n",
    "        alt.Chart().mark_rule().encode(\n",
    "        alt.X('mean(percentile_25):Q'),\n",
    "        alt.X2('mean(percentile_75):Q'),\n",
    "        alt.Y('height:Q'),\n",
    "    ), \n",
    "    alt.Chart().transform_fold([\n",
    "        'mean', 'median'\n",
    "    ]).mark_circle().encode(\n",
    "        alt.X('mean(value):Q'),\n",
    "        alt.Y('height:Q'),\n",
    "        # alt.Shape('key:N').scale(range=['circle', 'stroke']),\n",
    "        alt.Color('key:N')\n",
    "    ).properties(height = 500),\n",
    "    data = src_agg_stats.reset_index()\n",
    ").facet('hour')"
   ]
  },
  {
   "cell_type": "markdown",
   "metadata": {},
   "source": [
    "### Extract vertical velocity variance at 900m, around the peak of Gothic Mtn"
   ]
  },
  {
   "cell_type": "code",
   "execution_count": null,
   "metadata": {},
   "outputs": [],
   "source": [
    "w_w_900m = dl_wstats['w_variance'].sel(time = slice('20230418 0600', '20230418 2359'), height = slice(875,925)).mean(dim='height')\n",
    "w_w_450m = dl_wstats['w_variance'].sel(time = slice('20230418 0600', '20230418 2359'), height = slice(425,475)).mean(dim='height')\n",
    "w_w_50m = dl_wstats['w_variance'].sel(time = slice('20230418 0600', '20230418 2359'), height = slice(25,75)).mean(dim='height')\n",
    "\n",
    "(w_w_900m/w_w_900m.max()).plot(figsize=(20,4), color = 'lightblue')\n",
    "(w_w_450m/w_w_450m.max()).plot(color = 'blue')\n",
    "(w_w_50m/w_w_50m.max()).plot(color = 'darkblue')"
   ]
  },
  {
   "cell_type": "code",
   "execution_count": null,
   "metadata": {},
   "outputs": [],
   "source": [
    "w_w_multiple_heights_dopplidar_df = w_w_900m.rename('w_w_900m').to_dataframe().join(\n",
    "    w_w_450m.rename('w_w_450m').to_dataframe()\n",
    ").join(\n",
    "    w_w_50m.rename('w_w_50m').to_dataframe()\n",
    ")\n",
    "w_w_multiple_heights_dopplidar_chart = alt.Chart(w_w_multiple_heights_dopplidar_df.reset_index()).transform_fold(\n",
    "    w_w_multiple_heights_dopplidar_df.columns\n",
    ").mark_line().encode(\n",
    "    alt.X('time:T'),\n",
    "    alt.Y(\"value:Q\"),\n",
    "    alt.Color('key:O').scale(domain=['w_w_50m', 'w_w_450m', 'w_w_900m'], scheme='reds')\n",
    ").properties(height = 200)\n"
   ]
  },
  {
   "cell_type": "markdown",
   "metadata": {},
   "source": [
    "## Doppler Lidar Vertical Wind Profiles"
   ]
  },
  {
   "cell_type": "code",
   "execution_count": null,
   "metadata": {},
   "outputs": [],
   "source": [
    "# Inputs\n",
    "start_date = \"20230418\"\n",
    "end_date = \"20230420\"\n",
    "DLWProf_DATA_STREAM = 'gucdlprofwind4newsM1.c1'\n",
    "DLWProf_DATA_STREAM_FILEEXT = '.cdf'\n",
    "DLWProf_OUTPUT_DIR = os.path.join(data_dir, DLWProf_DATA_STREAM)\n",
    "file_list = act.discovery.download_arm_data(\n",
    "            username, token, DLWProf_DATA_STREAM, start_date, end_date, output = DLWProf_OUTPUT_DIR)\n",
    "dl_wprof = xr.open_mfdataset(file_list)"
   ]
  },
  {
   "cell_type": "code",
   "execution_count": null,
   "metadata": {},
   "outputs": [],
   "source": [
    "dl_wprof_df = dl_wprof.to_dataframe().reset_index()\n",
    "dl_wprof_df['time'] = dl_wprof_df['time'].dt.round('15min')\n",
    "dl_wprof_df = utils.modify_df_timezone(dl_wprof_df, 'UTC', 'US/Mountain')\n",
    "dl_wprof_df = dl_wprof_df.set_index('time').loc['20230418': '20230418'].reset_index()"
   ]
  },
  {
   "cell_type": "code",
   "execution_count": null,
   "metadata": {},
   "outputs": [],
   "source": [
    "alt.Chart(\n",
    "    pd.concat([\n",
    "            dl_wprof_df.query(\"height > 250\").query(\"height < 500\").groupby(\"time\").mean().reset_index(),\n",
    "            dl_wprof_df.query(\"height > 1000\").query(\"height < 1200\").groupby(\"time\").mean().reset_index(),\n",
    "    ])\n",
    ").mark_line().encode(\n",
    "    alt.X('time:T'),\n",
    "    alt.Y('mean(wind_speed):Q'),\n",
    "    alt.Color('height:O').bin(step=250).scale(scheme='viridis')\n",
    ").properties(width=600)"
   ]
  },
  {
   "cell_type": "code",
   "execution_count": null,
   "metadata": {},
   "outputs": [],
   "source": [
    "alt.Chart(\n",
    "    dl_wprof_df.query(\"height < 1500\")\n",
    ").mark_circle(size=15).encode(\n",
    "    alt.X('wind_direction:Q').axis(values=[0,90,180,270,360]),\n",
    "    alt.Y('height:Q'),\n",
    "    alt.Color('minutes(time):O'),\n",
    "    alt.Facet('hours(time):T', columns=6)\n",
    ").properties(width = 100, height = 200)"
   ]
  },
  {
   "cell_type": "code",
   "execution_count": null,
   "metadata": {},
   "outputs": [],
   "source": [
    "alt.Chart(\n",
    "    dl_wprof_df.query(\"height < 1500\")\n",
    ").mark_circle(size=15).encode(\n",
    "    alt.X('w:Q').axis(values=[-5,-2.5,0,2.5,5]).scale(domain=[-5,5]),\n",
    "    alt.Y('height:Q'),\n",
    "    alt.Color('minutes(time):O'),\n",
    "    alt.Facet('hours(time):T', columns=6)\n",
    ").properties(width = 100, height = 200)"
   ]
  },
  {
   "cell_type": "markdown",
   "metadata": {},
   "source": [
    "### Wind rose"
   ]
  },
  {
   "cell_type": "code",
   "execution_count": 127,
   "metadata": {},
   "outputs": [
    {
     "data": {
      "text/plain": [
       "Text(0.5, 1.0, 'April 18, 1km AGL winds')"
      ]
     },
     "execution_count": 127,
     "metadata": {},
     "output_type": "execute_result"
    },
    {
     "data": {
      "image/png": "[encoded data removed]",
      "text/plain": [
       "<Figure size 128x128 with 1 Axes>"
      ]
     },
     "metadata": {},
     "output_type": "display_data"
    }
   ],
   "source": [
    "from windrose import WindroseAxes\n",
    "ax = WindroseAxes.from_ax(figsize=(1.6,1.6))\n",
    "ax.bar(\n",
    "    dl_wprof_df.query(\"height < 1000\").query(\"height > 900\")['wind_direction'], \n",
    "    dl_wprof_df.query(\"height < 1000\").query(\"height > 900\")['wind_speed'], \n",
    "    # normed=True, opening=.9, edgecolor='white', bins=1, nsector=17,\n",
    "    normed=True, opening=0.8, edgecolor=\"white\", bins=[0,10,15]\n",
    ")\n",
    "\n",
    "ax.set_yticks([])\n",
    "# ax.set_yticklabels(['10%','25%'])\n",
    "# ax.set_legend(loc='upper right')\n",
    "ax.set_title('April 18, 1km AGL winds')"
   ]
  },
  {
   "cell_type": "markdown",
   "metadata": {},
   "source": [
    "## Gothic Sail Tower data"
   ]
  },
  {
   "cell_type": "code",
   "execution_count": null,
   "metadata": {},
   "outputs": [],
   "source": [
    "# Define the data codes for meteorological and turbulence data\n",
    "data_codes = [\n",
    "    'gucmetM1.b1',  # Example data code for meteorological data\n",
    "    'guc30ecorS3.b1'  # Example data code for turbulence data\n",
    "]\n",
    "\n",
    "# Define the date range\n",
    "start_date = '2023-04-15'\n",
    "end_date = '2023-04-18'\n",
    "\n",
    "# Loop through each data code and download the data\n",
    "data_dict = {}\n",
    "for data_code in data_codes:\n",
    "    files = act.discovery.download_arm_data(\n",
    "        username,  # Replace with your ARM username\n",
    "        token,        # Replace with your ARM token\n",
    "        data_code,\n",
    "        start_date,\n",
    "        end_date,\n",
    "        output = os.path.join(data_dir, data_code)\n",
    "    )\n",
    "    print(files)\n",
    "    # Load the data into an ACT object and append to the list\n",
    "    ds = act.io.read_arm_netcdf(files)\n",
    "    data_dict[data_code] = ds\n",
    "\n",
    "gothic_met = data_dict[data_codes[0]]\n",
    "gothic_ec = data_dict[data_codes[1]]"
   ]
  },
  {
   "cell_type": "code",
   "execution_count": null,
   "metadata": {},
   "outputs": [],
   "source": [
    "gothic_ec['TKE'] = (gothic_ec['var_u']**2 + gothic_ec['var_v']**2 + gothic_ec['var_w']**2)**(0.5)"
   ]
  },
  {
   "cell_type": "code",
   "execution_count": null,
   "metadata": {},
   "outputs": [],
   "source": [
    "plt.scatter(\n",
    "    gothic_ec['wind_spd'].sel(time=slice('20230415', '20230415')), \n",
    "    gothic_ec['TKE'].sel(time=slice('20230415', '20230415'))\n",
    ")\n",
    "plt.scatter(\n",
    "    gothic_ec['wind_spd'].sel(time=slice('20230418', '20230418')), \n",
    "    gothic_ec['TKE'].sel(time=slice('20230418', '20230418'))\n",
    ")"
   ]
  },
  {
   "cell_type": "code",
   "execution_count": null,
   "metadata": {},
   "outputs": [],
   "source": [
    "var_u_var_v_chart = alt.Chart(\n",
    "    gothic_ec[['var_u', 'var_v']].to_dataframe().reset_index()\n",
    ").transform_fold(['var_u', 'var_v']).mark_line().encode(\n",
    "    alt.X('time:T'),\n",
    "    alt.Y('value:Q').title('var_u, var_v (m^2/s^2)'),\n",
    "    alt.StrokeDash('key:N')\n",
    ").properties(width = 500, height = 200)\n",
    "\n",
    "var_w_chart = alt.Chart(\n",
    "    gothic_ec[['var_w']].to_dataframe().reset_index()\n",
    ").transform_fold(['var_w']).mark_line().encode(\n",
    "    alt.X('time:T'),\n",
    "    alt.Y('value:Q').title('var_w (m^2/s^2)'),\n",
    "    alt.StrokeDash('key:N')\n",
    ").properties(width = 500, height = 200)\n",
    "\n",
    "src = dl_wstats['w_variance'].to_dataframe().reset_index()\n",
    "src = src.query(\"height < 2000\")\n",
    "\n",
    "# Create the Altair plot\n",
    "w_var_chart = alt.Chart(src).mark_square(size=30).encode(\n",
    "    alt.X('time:T'),\n",
    "    alt.Y('height:Q'),   \n",
    "    color=alt.Color('w_variance:Q', scale=alt.Scale(domain=[0, 10]), legend=alt.Legend(title='w_variance'))\n",
    ").properties(\n",
    "    width = 500, height = 200,\n",
    "    title='w_variance over Time and Height'\n",
    ")\n",
    "\n",
    "(\n",
    "    w_var_chart\n",
    "    &\n",
    "    (var_u_var_v_chart + var_w_chart).resolve_scale(y='independent')    \n",
    ").resolve_scale(x='shared', color='independent')"
   ]
  },
  {
   "cell_type": "code",
   "execution_count": null,
   "metadata": {},
   "outputs": [],
   "source": [
    "gothic_ec[['cvar_rot_uw', 'cvar_rot_vw', 'cvar_rot_uv']].to_dataframe().plot()"
   ]
  },
  {
   "cell_type": "code",
   "execution_count": null,
   "metadata": {},
   "outputs": [],
   "source": [
    "gothic_ec['mean_rot_w'].plot()"
   ]
  },
  {
   "cell_type": "markdown",
   "metadata": {},
   "source": [
    "compare tower data with doppler lidar data"
   ]
  },
  {
   "cell_type": "code",
   "execution_count": null,
   "metadata": {},
   "outputs": [],
   "source": [
    "(\n",
    "    w_w_multiple_heights_dopplidar_chart \n",
    "    &\n",
    "    (var_u_var_v_chart + var_w_chart).resolve_scale(y='independent')\n",
    ").resolve_scale(x='shared')"
   ]
  },
  {
   "cell_type": "markdown",
   "metadata": {},
   "source": [
    "## Cinnamon Ridge Obs."
   ]
  },
  {
   "cell_type": "code",
   "execution_count": null,
   "metadata": {},
   "outputs": [],
   "source": [
    "cat '/Users/elischwat/Development/data/sublimationofsnow/CIN_11Aug2023/CIN_CR1000_lab_test.dat' | head -10"
   ]
  },
  {
   "cell_type": "code",
   "execution_count": null,
   "metadata": {},
   "outputs": [],
   "source": [
    "\n",
    "file_path = '/Users/elischwat/Development/data/sublimationofsnow/CIN_11Aug2023/CIN_CR1000_Daily.dat'\n",
    "file_path = '/Users/elischwat/Development/data/sublimationofsnow/CIN_11Aug2023/CIN_CR1000_lab_test.dat'\n",
    "\n",
    "# Read the .dat file into a DataFrame\n",
    "df = pd.read_csv(\n",
    "    file_path, \n",
    "    skiprows=[0, 2, 3], \n",
    ")  # Adjust the delimiter if necessary\n",
    "\n",
    "# Display the DataFrame\n",
    "df['TIMESTAMP'] = pd.to_datetime(df['TIMESTAMP'])\n",
    "df = df.set_index('TIMESTAMP')\n",
    "df = df[['WS_ms_AVG', 'AirTempC_Avg']].astype(float)\n",
    "df"
   ]
  },
  {
   "cell_type": "code",
   "execution_count": null,
   "metadata": {},
   "outputs": [],
   "source": [
    "df.loc['20230418'].plot()"
   ]
  },
  {
   "cell_type": "markdown",
   "metadata": {},
   "source": [
    "## XBAND"
   ]
  },
  {
   "cell_type": "code",
   "execution_count": null,
   "metadata": {},
   "outputs": [],
   "source": [
    "ppi_scan_files = sorted(glob.glob(\n",
    "    \"/Users/elischwat/Development/data/sublimationofsnow/gucxprecipradarS2.00/gucxprecipradarS2.00.20230418.220459.raw.nc/*_PPI.nc\"\n",
    "))\n",
    "for f in ppi_scan_files:\n",
    "    xband_ppi_eg = xr.open_dataset(os.path.join(\"/Users/elischwat/Development/data/sublimationofsnow/gucxprecipradarS2.00/gucxprecipradarS2.00.20230418.220459.raw.nc\", f))\n",
    "    xband_ppi_eg = utils.modify_xarray_timezone(xband_ppi_eg, 'UTC', 'US/Mountain')\n",
    "    xband_ppi_eg = xband_ppi_eg.assign_coords(\n",
    "        x = xband_ppi_eg['range']*np.cos(np.deg2rad(xband_ppi_eg['azimuth'])),\n",
    "        y = xband_ppi_eg['range']*np.sin(np.deg2rad(xband_ppi_eg['azimuth']))\n",
    "    )\n",
    "    xband_ppi_eg = xband_ppi_eg.where(xband_ppi_eg.range < 10000, drop=True)\n",
    "    xband_ppi_eg = xband_ppi_eg.where(xband_ppi_eg.azimuth > 270, drop=True)\n",
    "    xband_ppi_eg = xband_ppi_eg.where(xband_ppi_eg.DBZhv > -1e6)\n",
    "    plt.pcolormesh(\n",
    "        xband_ppi_eg.y,\n",
    "        xband_ppi_eg.x,\n",
    "        xband_ppi_eg.DBZhv.T,\n",
    "        cmap='gist_ncar',\n",
    "        vmin=-20,\n",
    "        vmax=40\n",
    "    )\n",
    "    cbar = plt.colorbar()\n",
    "    cbar.set_label('equivalent_reflectivity_factor_hv (dBZ)')\n",
    "    plt.scatter([-3727.111766901333], [6488.493655943312], s=100, color='purple', edgecolor='orange')\n",
    "    plt.title(\n",
    "        f\"{pd.to_datetime(xband_ppi_eg.time.min().values).strftime('%H:%M:%S')} - {pd.to_datetime(xband_ppi_eg.time.max().values).strftime('%H:%M:%S')}\"\n",
    "    )\n",
    "    plt.show()"
   ]
  },
  {
   "cell_type": "code",
   "execution_count": null,
   "metadata": {},
   "outputs": [],
   "source": [
    "ppi_scan_files = sorted(glob.glob(\n",
    "    \"/Users/elischwat/Development/data/sublimationofsnow/gucxprecipradarS2.00/gucxprecipradarS2.00.20230418.233226.raw.nc/*_PPI.nc\"\n",
    "))\n",
    "for f in ppi_scan_files:\n",
    "    xband_ppi_eg = xr.open_dataset(os.path.join(\"/Users/elischwat/Development/data/sublimationofsnow/gucxprecipradarS2.00/gucxprecipradarS2.00.20230418.220459.raw.nc\", f))\n",
    "    xband_ppi_eg = utils.modify_xarray_timezone(xband_ppi_eg, 'UTC', 'US/Mountain')\n",
    "    xband_ppi_eg = xband_ppi_eg.assign_coords(\n",
    "        x = xband_ppi_eg['range']*np.cos(np.deg2rad(xband_ppi_eg['azimuth'])),\n",
    "        y = xband_ppi_eg['range']*np.sin(np.deg2rad(xband_ppi_eg['azimuth']))\n",
    "    )\n",
    "    xband_ppi_eg = xband_ppi_eg.where(xband_ppi_eg.range < 10000, drop=True)\n",
    "    xband_ppi_eg = xband_ppi_eg.where(xband_ppi_eg.azimuth > 270, drop=True)\n",
    "    xband_ppi_eg = xband_ppi_eg.where(xband_ppi_eg.DBZhv > -1e6)\n",
    "    plt.pcolormesh(\n",
    "        xband_ppi_eg.y,\n",
    "        xband_ppi_eg.x,\n",
    "        xband_ppi_eg.DBZhv.T,\n",
    "        cmap='gist_ncar',\n",
    "        vmin=-20,\n",
    "        vmax=40\n",
    "    )\n",
    "    cbar = plt.colorbar()\n",
    "    cbar.set_label('equivalent_reflectivity_factor_hv (dBZ)')\n",
    "    plt.scatter([-3727.111766901333], [6488.493655943312], s=100, color='purple', edgecolor='orange')\n",
    "    plt.title(\n",
    "        f\"{pd.to_datetime(xband_ppi_eg.time.min().values).strftime('%H:%M:%S')} - {pd.to_datetime(xband_ppi_eg.time.max().values).strftime('%H:%M:%S')}\"\n",
    "    )\n",
    "    plt.show()"
   ]
  },
  {
   "cell_type": "markdown",
   "metadata": {},
   "source": [
    "# DOWNLOAD ALL RHI SCANS"
   ]
  },
  {
   "cell_type": "markdown",
   "metadata": {},
   "source": [
    "## Examine mean and variance of RHI scans"
   ]
  },
  {
   "cell_type": "code",
   "execution_count": null,
   "metadata": {},
   "outputs": [],
   "source": [
    "ds_dl_rhi = 'gucdlrhiM1.b1'\n",
    "# ds_dl_rhi2 = 'gucdlrhi2M1.b1'\n",
    "startdate = '2023-03-01 0000'\n",
    "enddate = '2023-03-01 0100'\n",
    "download_path = os.path.join(data_dir, ds_dl_rhi)\n",
    "SNR_THRESHOLD = 0.008"
   ]
  },
  {
   "cell_type": "code",
   "execution_count": null,
   "metadata": {},
   "outputs": [],
   "source": [
    "download_path"
   ]
  },
  {
   "cell_type": "code",
   "execution_count": null,
   "metadata": {},
   "outputs": [],
   "source": [
    "\n",
    "import os\n",
    "from glob import glob\n",
    "from datetime import datetime, timedelta\n",
    "\n",
    "INCOMPLETE_DAYS = []\n",
    "\n",
    "# Define the start and end dates\n",
    "start_date = datetime.strptime(\"20230301\", \"%Y%m%d\")\n",
    "end_date = datetime.strptime(\"20230620\", \"%Y%m%d\")\n",
    "\n",
    "# Iterate through all dates\n",
    "current_date = start_date\n",
    "while current_date <= end_date:\n",
    "    date_str = current_date.strftime(\"%Y-%m-%d\")\n",
    "    \n",
    "    # Use glob to find files containing the date string\n",
    "    pattern = os.path.join(download_path, f\"*{date_str.replace('-', '')}*\")\n",
    "    matching_files = glob(pattern)\n",
    "    \n",
    "    # Print the number of files for the current date\n",
    "    print(f\"Date: {date_str}, Number of files: {len(matching_files)}\")\n",
    "    \n",
    "    if len(matching_files) != 192:\n",
    "        INCOMPLETE_DAYS.append(date_str)\n",
    "    \n",
    "    # Move to the next day\n",
    "    current_date += timedelta(days=1)"
   ]
  },
  {
   "cell_type": "code",
   "execution_count": null,
   "metadata": {},
   "outputs": [],
   "source": [
    "import time\n",
    "\n",
    "for date_str in INCOMPLETE_DAYS:\n",
    "    print(f\"Downloading for date: {date_str}\")\n",
    "    for hr_str in [\n",
    "        '00', '01', '02', '03', '04', '05', '06', '07', '08', '09', '10', '11', \n",
    "        '12', '13', \n",
    "        '14', '15', '16', '17', '18', '19', '20', '21', '22', '23',\n",
    "    ]:\n",
    "        start = date_str + 'T' + hr_str + ':00:00'\n",
    "        end = date_str + 'T' + hr_str + ':59:59'\n",
    "        print(start)\n",
    "        print(end)\n",
    "\n",
    "        retry_count = 0\n",
    "        max_retries = 3  # Set a limit for retries\n",
    "        while retry_count < max_retries:\n",
    "            try:\n",
    "                files = act.discovery.download_arm_data(\n",
    "                    username, token, ds_dl_rhi, start, end, output=download_path\n",
    "                )\n",
    "                pattern = os.path.join(download_path, f\"*{date_str.replace('-','')}*\")\n",
    "                matching_files = glob(pattern)\n",
    "                # Print the number of files for the current date\n",
    "                print(f\"Finished downloading for date: {date_str}, downloaded number of files: {len(matching_files)}\")\n",
    "                break  # Exit the retry loop on success\n",
    "            except Exception as e:\n",
    "                retry_count += 1\n",
    "                print(f\"Error occurred: {e}. Retrying {retry_count}/{max_retries}...\")\n",
    "                if retry_count < max_retries:\n",
    "                    time.sleep(5)  # Wait 5 seconds before retrying\n",
    "                else:\n",
    "                    print(f\"Failed to download after {max_retries} attempts for date: {date_str}, hour: {hr_str}\")"
   ]
  },
  {
   "cell_type": "code",
   "execution_count": null,
   "metadata": {},
   "outputs": [],
   "source": [
    "files = act.discovery.download_arm_data(\n",
    "    username, token, ds_dl_rhi, '20230304', '20230308', output=download_path\n",
    ")"
   ]
  },
  {
   "cell_type": "code",
   "execution_count": null,
   "metadata": {},
   "outputs": [],
   "source": [
    "cross_valley_scan_files=glob.glob(os.path.join(download_path, '*.cdf'))"
   ]
  },
  {
   "cell_type": "code",
   "execution_count": null,
   "metadata": {},
   "outputs": [],
   "source": [
    "cross_valley_scan_files = glob.glob(os.path.join(download_path, '*.cdf'))\n",
    "cross_valley_scan_files = [f for f in cross_valley_scan_files if '20230419' in f or '20230418' in f]\n",
    "cross_valley_scan_files = [f for f in cross_valley_scan_files if f[-8: -6] in ['15', '18', '45', '48']]\n",
    "cross_valley_scan_files"
   ]
  },
  {
   "cell_type": "markdown",
   "metadata": {},
   "source": [
    "all cross-valley scans began on the following minutes:\n",
    "15, 18, 45, 48\n",
    "\n",
    "Let's grab just those files."
   ]
  },
  {
   "cell_type": "code",
   "execution_count": null,
   "metadata": {},
   "outputs": [],
   "source": [
    "datasets = []\n",
    "\n",
    "# Loop through each file\n",
    "for file in cross_valley_scan_files[4:]:\n",
    "    # Open the dataset\n",
    "    ds = xr.open_dataset(file)\n",
    "    # Assign the filename as an attribute\n",
    "    ds.attrs['filename'] = file\n",
    "    # Append the dataset to the list\n",
    "    datasets.append(ds)\n",
    "\n",
    "# Merge all datasets\n",
    "merged_dataset = xr.merge(datasets)"
   ]
  },
  {
   "cell_type": "code",
   "execution_count": null,
   "metadata": {},
   "outputs": [],
   "source": [
    "one_scan_ds = merged_dataset.sel(time = slice('2023-04-18T00:15:00', '2023-04-18T00:18:00'))\n",
    "\n",
    "one_scan_ds = one_scan_ds.where(one_scan_ds.range < 2000, drop=True)\n",
    "\n",
    "one_scan_ds['x'] = one_scan_ds['range']*np.cos(np.deg2rad(one_scan_ds['elevation']))\n",
    "one_scan_ds['z'] = one_scan_ds['range']*np.sin(np.deg2rad(one_scan_ds['elevation']))\n",
    "\n",
    "one_scan_ds = one_scan_ds.set_coords(['x', 'z'])\n",
    "\n",
    "\n",
    "one_scan_ds['attenuated_backscatter'].plot(x='x', y='z')"
   ]
  },
  {
   "cell_type": "code",
   "execution_count": null,
   "metadata": {},
   "outputs": [],
   "source": [
    "rhi_df = merged_dataset.to_dataframe().reset_index()\n",
    "rhi_df = rhi_df[rhi_df.range < 2000]\n",
    "# RHI: convert polar coordinates to rectangular coords with the radar at (0,0)\n",
    "rhi_df['x'] = rhi_df['range']*np.cos(np.deg2rad(rhi_df['elevation']))\n",
    "rhi_df['z'] = rhi_df['range']*np.sin(np.deg2rad(rhi_df['elevation']))\n",
    "\n",
    "rhi_df['SNR'] = rhi_df['intensity'] - 1\n",
    "# rhi_df.loc[rhi_df.eval(f'SNR < {SNR_THRESHOLD}'), 'radial_velocity'] = np.nan"
   ]
  },
  {
   "cell_type": "code",
   "execution_count": null,
   "metadata": {},
   "outputs": [],
   "source": [
    "rhi_df_hourly = rhi_df.set_index('time').groupby([\n",
    "    pd.Grouper(freq='60min'), 'range', 'elevation'\n",
    "]).mean()"
   ]
  },
  {
   "cell_type": "code",
   "execution_count": null,
   "metadata": {},
   "outputs": [],
   "source": [
    "def plot_rhi_scan_radial_velocity(df):\n",
    "    return alt.Chart(df).mark_square(size=30).encode(\n",
    "        alt.X('x:Q'),\n",
    "        alt.Y('z:Q'),\n",
    "        alt.Color('radial_velocity:Q').scale(scheme='redyellowblue', domain=[-10,10])\n",
    "    ).properties(width = 600, height=300)"
   ]
  },
  {
   "cell_type": "code",
   "execution_count": null,
   "metadata": {},
   "outputs": [],
   "source": [
    "plot_rhi_scan_radial_velocity(rhi_df_hourly.loc['2023-04-18 18:00:00', :, :].reset_index())"
   ]
  },
  {
   "cell_type": "code",
   "execution_count": null,
   "metadata": {},
   "outputs": [],
   "source": [
    "import seaborn as sns\n",
    "sns.displot(rhi_df_hourly.loc['2023-04-18 18:00:00', :, :].attenuated_backscatter)"
   ]
  },
  {
   "cell_type": "code",
   "execution_count": null,
   "metadata": {},
   "outputs": [],
   "source": [
    "\n",
    "def plot_rhi_scan_attenuated_backscatter(df):\n",
    "    return alt.Chart(df).mark_square(size=30).encode(\n",
    "        alt.X('x:Q'),\n",
    "        alt.Y('z:Q'),\n",
    "        alt.Color('attenuated_backscatter:Q').scale(scheme='redyellowblue')\n",
    "        # alt.Color('intensity:Q').scale(scheme='redyellowblue')\n",
    "    ).properties(width = 600, height=300)\n",
    "plot_rhi_scan_attenuated_backscatter(\n",
    "    rhi_df.set_index('time').loc['2023-04-18 18:15:00': '2023-04-18 18:18:00'].query(\"elevation > 30\").query(\"elevation < 150\").reset_index()\n",
    ")"
   ]
  },
  {
   "cell_type": "code",
   "execution_count": null,
   "metadata": {},
   "outputs": [],
   "source": [
    "ds = xr.open_dataset(cross_valley_scan_files[10])\n",
    "ds['x'] = ds['range']*np.cos(np.deg2rad(ds['elevation']))\n",
    "ds['z'] = ds['range']*np.sin(np.deg2rad(ds['elevation']))\n",
    "df = ds.to_dataframe().reset_index()\n",
    "src = ds.sel(range=slice(0,4000))\n",
    "plt.subplots(figsize=(9.6, 4))\n",
    "plt.contourf(\n",
    "    src['x'].values.T, src['z'].values.T,\n",
    "    src['radial_velocity'].values,\n",
    "    cmap='gist_ncar',\n",
    "    levels=50\n",
    ")\n",
    "plt.colorbar()\n",
    "plt.gca().set_aspect('equal')\n",
    "name = f.split('gucdlrhiM1.b1/gucdlrhiM1.b1.')[1][:-4]\n",
    "plt.title(name)\n",
    "plt.show()"
   ]
  },
  {
   "cell_type": "code",
   "execution_count": null,
   "metadata": {},
   "outputs": [],
   "source": [
    "import glob\n",
    "cross_valley_scan_files = sorted(glob.glob(os.path.join(\n",
    "    '/Users/elischwat/Development/data/sublimationofsnow/gucdlrhiM1.b1/', '*.cdf')))\n",
    "cross_valley_scan_files = [f for f in cross_valley_scan_files if \n",
    "                           '20230304' in f\n",
    "                           or '20230305' in f\n",
    "                           or '20230306' in f\n",
    "                           or '20230307' in f\n",
    "                           or '20230308' in f\n",
    "                           \n",
    "                        ]\n",
    "cross_valley_scan_files = [f for f in cross_valley_scan_files if f[-8: -6] in ['15', '18', '45', '48']]\n",
    "cross_valley_scan_files"
   ]
  },
  {
   "cell_type": "code",
   "execution_count": null,
   "metadata": {},
   "outputs": [],
   "source": [
    "for f in sorted(cross_valley_scan_files):\n",
    "    try: \n",
    "        ds = xr.open_dataset(f)\n",
    "        ds['x'] = ds['range']*np.cos(np.deg2rad(ds['elevation']))\n",
    "        ds['z'] = ds['range']*np.sin(np.deg2rad(ds['elevation']))\n",
    "        ds['x'] = - ds['x']\n",
    "        df = ds.to_dataframe().reset_index()\n",
    "        src = ds.sel(range=slice(0,2000))\n",
    "        plt.subplots(figsize=(9.6, 4))\n",
    "        plt.contourf(\n",
    "            src['x'].values.T, src['z'].values.T,\n",
    "            src['radial_velocity'].values,\n",
    "            cmap='gist_ncar',\n",
    "            levels=50\n",
    "        )\n",
    "        plt.colorbar()\n",
    "        plt.gca().set_aspect('equal')\n",
    "        name = f.split('gucdlrhiM1.b1/gucdlrhiM1.b1.')[1][:-4]\n",
    "        plt.title(name)\n",
    "        plt.savefig('rhi_scans/' + name + '.png')\n",
    "        plt.close()\n",
    "    except Exception as exc:\n",
    "        print(f'Failed on {f}')"
   ]
  },
  {
   "cell_type": "code",
   "execution_count": null,
   "metadata": {},
   "outputs": [],
   "source": [
    "alt.Chart(df).mark_square(size=30).encode(\n",
    "        alt.X('x:Q'),\n",
    "        alt.Y('z:Q'),\n",
    "        alt.Color('attenuated_backscatter:Q').scale(scheme='turbo')\n",
    "    ).properties(width = 600, height=300)"
   ]
  },
  {
   "cell_type": "code",
   "execution_count": null,
   "metadata": {},
   "outputs": [],
   "source": [
    "alt.Chart(df.query(\"range < 3000\")).mark_rect().encode(\n",
    "    alt.X('x:Q').bin(step=100),\n",
    "    alt.Y('z:Q').bin(step=100),\n",
    "    alt.Color('mean(attenuated_backscatter):Q').scale(scheme='turbo')\n",
    ").properties(width = 600, height=300)"
   ]
  },
  {
   "cell_type": "code",
   "execution_count": null,
   "metadata": {},
   "outputs": [],
   "source": [
    "alt.Chart(df.query(\"range < 4000\")).mark_square(size=30).encode(\n",
    "        alt.X('x:Q'),\n",
    "        alt.Y('z:Q'),\n",
    "        alt.Color('attenuated_backscatter:Q').scale(scheme='turbo')\n",
    "    ).properties(width = 600, height=300)"
   ]
  },
  {
   "cell_type": "code",
   "execution_count": null,
   "metadata": {},
   "outputs": [],
   "source": [
    "alt.Chart(df.query(\"x < 4000\").query('x > -4000')).mark_square(size=30).encode(\n",
    "        alt.X('x:Q'),\n",
    "        alt.Y('z:Q'),\n",
    "        alt.Color('intensity:Q').scale(scheme='turbo')\n",
    "    ).properties(width = 600, height=300)"
   ]
  },
  {
   "cell_type": "markdown",
   "metadata": {},
   "source": [
    "## Download images of gothic from the xband radar"
   ]
  },
  {
   "cell_type": "code",
   "execution_count": null,
   "metadata": {},
   "outputs": [],
   "source": [
    "# Inputs\n",
    "username = os.getenv(\"ARM_USERNAME\")\n",
    "token = os.getenv(\"ARM_TOKEN\")\n",
    "DATE_FORMAT_STR = '%Y-%m-%d'\n",
    "start_date = \"20230418\"\n",
    "end_date = \"20230419\"\n",
    "DATA_STREAM = 'guccamweathermainS2'\n",
    "OUTPUT_DIR = os.path.join(data_dir, DATA_STREAM)\n",
    "file_list = act.discovery.download_arm_data(\n",
    "            username, token, DATA_STREAM, end_date, end_date, output = OUTPUT_DIR)"
   ]
  },
  {
   "cell_type": "code",
   "execution_count": null,
   "metadata": {},
   "outputs": [],
   "source": [
    "file_list"
   ]
  },
  {
   "cell_type": "markdown",
   "metadata": {},
   "source": [
    "# Create Site Map"
   ]
  },
  {
   "cell_type": "code",
   "execution_count": null,
   "metadata": {},
   "outputs": [],
   "source": [
    "import rioxarray as rix\n",
    "import geopandas as gpd\n",
    "from shapely import transform"
   ]
  },
  {
   "cell_type": "markdown",
   "metadata": {},
   "source": [
    "Open files and prep rasters for plotting"
   ]
  },
  {
   "cell_type": "code",
   "execution_count": null,
   "metadata": {},
   "outputs": [],
   "source": [
    "# open rasters\n",
    "elevation = rix.open_rasterio(\"/Users/elischwat/Development/snow-hydrology/modules/data/east_river_elevation.tif\")\n",
    "hillshade = rix.open_rasterio(\"/Users/elischwat/Development/snow-hydrology/modules/data/east_river_hillshade.tif\", masked=True)\n",
    "snowdepth = rix.open_rasterio(\"/Users/elischwat/Development/snow-hydrology/modules/data/eastriver_snowdepth_2023april01.tif\")\n",
    "\n",
    "# open watershed boundary\n",
    "upper_east_river_polygon = gpd.read_file('/Users/elischwat/Development/snow-hydrology/modules/data/east_polygon.json').to_crs(snowdepth.rio.crs)\n",
    "upper_east_river_polygon.geometry = upper_east_river_polygon.geometry.buffer(-2000).apply(lambda g: transform(g, lambda x: x - 2000))\n",
    "\n",
    "\n",
    "# clip rasters\n",
    "elevation_clipped = elevation.rio.clip_box(\n",
    "    *upper_east_river_polygon.geometry.iloc[0].bounds\n",
    ")\n",
    "hillshade_clipped = hillshade.rio.clip_box(\n",
    "    *upper_east_river_polygon.geometry.iloc[0].bounds\n",
    ")\n",
    "snowdepth_clipped = snowdepth.rio.clip_box(\n",
    "    *upper_east_river_polygon.geometry.iloc[0].bounds\n",
    ")"
   ]
  },
  {
   "cell_type": "code",
   "execution_count": null,
   "metadata": {},
   "outputs": [],
   "source": [
    "from shapely.geometry import box, Point, LineString"
   ]
  },
  {
   "cell_type": "markdown",
   "metadata": {},
   "source": [
    "Create vector objects for plotting"
   ]
  },
  {
   "cell_type": "code",
   "execution_count": null,
   "metadata": {},
   "outputs": [],
   "source": [
    "zoom_in_box = gpd.GeoDataFrame(geometry=\n",
    "                               [box(*upper_east_river_polygon.geometry.iloc[0].bounds)]\n",
    ").set_crs(hillshade.rio.crs)\n",
    "\n",
    "doppler_lidar_loc = gpd.GeoDataFrame(geometry=[\n",
    "    Point(dl_wprof.lon.values.item(), dl_wprof.lat.values.item())\n",
    "]).set_crs('EPSG:4326').to_crs(hillshade.rio.crs)\n",
    "\n",
    "# create a line representing the cross-valley RHI scan axes (+/- 2000 m)\n",
    "original_point = doppler_lidar_loc.geometry.iloc[0]\n",
    "point_minus_2000 = Point(original_point.x - 2000, original_point.y)\n",
    "point_plus_2000 = Point(original_point.x + 2000, original_point.y)\n",
    "doppler_lidar_xvalley_scan_axis = gpd.GeoDataFrame(geometry=[\n",
    "    LineString([point_minus_2000,original_point,point_plus_2000])\n",
    "]).set_crs(hillshade.rio.crs)\n",
    "\n",
    "# create datasets of the sonde ascension paths\n",
    "sonde_morn_df = sonde_morn[['lon', 'lat', 'alt']].to_dataframe().reset_index().query(\"alt <= 5000\")\n",
    "sonde_morn_df['geometry'] = [Point(xy) for xy in zip(sonde_morn_df['lon'], sonde_morn_df['lat'])]\n",
    "sonde_day_df = sonde_day[['lon', 'lat', 'alt']].to_dataframe().reset_index().query(\"alt <= 5000\")\n",
    "sonde_day_df['geometry'] = [Point(xy) for xy in zip(sonde_day_df['lon'], sonde_day_df['lat'])]\n",
    "\n",
    "sonde_morn_gdf = gpd.GeoDataFrame(sonde_morn_df, geometry='geometry').set_crs('EPSG:4326').to_crs(hillshade.rio.crs)\n",
    "sonde_day_gdf = gpd.GeoDataFrame(sonde_day_df, geometry='geometry').set_crs('EPSG:4326').to_crs(hillshade.rio.crs)\n",
    "\n",
    "# Mark loc of xband radar \n",
    "xband_point = Point(xband_ppi_eg.longitude.values.item(), xband_ppi_eg.latitude.values.item())\n",
    "xbandradar_loc_gdf = gpd.GeoDataFrame([{'geometry': xband_point}], crs='EPSG:4326').to_crs(hillshade.rio.crs)"
   ]
  },
  {
   "cell_type": "code",
   "execution_count": null,
   "metadata": {},
   "outputs": [],
   "source": [
    "(xbandradar_loc_gdf.geometry.iloc[0].x - doppler_lidar_loc.geometry.iloc[0].x),\\\n",
    "(xbandradar_loc_gdf.geometry.iloc[0].y - doppler_lidar_loc.geometry.iloc[0].y)"
   ]
  },
  {
   "cell_type": "code",
   "execution_count": null,
   "metadata": {},
   "outputs": [],
   "source": [
    "fig, axes = plt.subplots(1,2, figsize=(10, 5))\n",
    "\n",
    "hillshade.plot(cmap='Greys_r', add_colorbar=False, ax=axes[0])\n",
    "elevation.plot(alpha=0.5, cbar_kwargs={'label': \"Elevation (m)\"}, ax=axes[0], vmin=2400, vmax=4250)\n",
    "zoom_in_box.plot(ax=axes[0], facecolor='none', edgecolor='red', linewidth=2)\n",
    "doppler_lidar_loc.plot(ax=axes[0], color='red')\n",
    "doppler_lidar_xvalley_scan_axis.plot(ax=axes[0], color='red')\n",
    "sonde_morn_gdf[::30].plot(ax=axes[0], column='alt', cmap='Blues', s=30, edgecolor='black')\n",
    "sonde_day_gdf[::30].plot(ax=axes[0], column='alt', cmap='Blues', marker='s', s=30, edgecolor='black')\n",
    "xbandradar_loc_gdf.plot(ax=axes[0], color='orange')\n",
    "\n",
    "hillshade_clipped.plot(cmap='Greys_r', add_colorbar=False, ax=axes[1])\n",
    "elevation_clipped.plot(alpha=0.5, cbar_kwargs={'label': \"Elevation (m)\"}, ax=axes[1], vmin=2400, vmax=4250)\n",
    "zoom_in_box.plot(ax=axes[1], facecolor='none', edgecolor='red', linewidth=2)\n",
    "doppler_lidar_loc.plot(ax=axes[1], color='red')\n",
    "doppler_lidar_xvalley_scan_axis.plot(ax=axes[1], color='red')\n",
    "sonde_morn_gdf[::30].plot(ax=axes[1], column='alt', cmap='Blues', s=30, edgecolor='black')\n",
    "sonde_day_gdf[::30].plot(ax=axes[1], column='alt', cmap='Blues', marker='s', s=30, edgecolor='black')\n",
    "xbandradar_loc_gdf.plot(ax=axes[1], color='orange')\n",
    "\n",
    "for ax in axes:\n",
    "    ax.set_aspect('equal')\n",
    "    ax.set_xticks([])\n",
    "    ax.set_yticks([])\n",
    "    ax.set_xlabel('')\n",
    "    ax.set_ylabel('')\n",
    "    ax.set_title('')\n",
    "\n",
    "axes[1].set_xlim(\n",
    "    axes[1].get_xlim()[0] - 100,\n",
    "    axes[1].get_xlim()[1] + 100\n",
    ")\n",
    "axes[1].set_ylim(\n",
    "    axes[1].get_ylim()[0] - 100,\n",
    "    axes[1].get_ylim()[1] + 100\n",
    ")\n",
    "\n",
    "plt.tight_layout()"
   ]
  },
  {
   "cell_type": "markdown",
   "metadata": {},
   "source": [
    "## Extract elevation profile along radar scan line"
   ]
  },
  {
   "cell_type": "code",
   "execution_count": null,
   "metadata": {},
   "outputs": [],
   "source": [
    "hi_res_dem = rix.open_rasterio(\"/Users/elischwat/qgis/east_river_valley/UG_dem_3m_v1.tif\")"
   ]
  },
  {
   "cell_type": "code",
   "execution_count": null,
   "metadata": {},
   "outputs": [],
   "source": [
    "this_line = doppler_lidar_xvalley_scan_axis.geometry.iloc[0]"
   ]
  },
  {
   "cell_type": "code",
   "execution_count": null,
   "metadata": {},
   "outputs": [],
   "source": [
    "from shapely.ops import unary_union\n",
    "\n",
    "distance_delta = 10\n",
    "distances = np.arange(0, this_line.length, distance_delta)\n",
    "points = [this_line.interpolate(distance) for distance in distances] + [Point(*this_line.coords[-1])]\n",
    "len(points)"
   ]
  },
  {
   "cell_type": "code",
   "execution_count": null,
   "metadata": {},
   "outputs": [],
   "source": [
    "elev_points = [\n",
    "    hi_res_dem.interp(\n",
    "        x = pnt.coords[0][0],\n",
    "        y = pnt.coords[0][1]\n",
    "    ) for pnt in points\n",
    "]"
   ]
  },
  {
   "cell_type": "code",
   "execution_count": null,
   "metadata": {},
   "outputs": [],
   "source": [
    "plt.gcf().get_figheight()"
   ]
  },
  {
   "cell_type": "code",
   "execution_count": null,
   "metadata": {},
   "outputs": [],
   "source": [
    "plt.figure(figsize=(4.8, 0.9))\n",
    "plt.plot(\n",
    "    np.concatenate([distances, [4000]]) - 2000,\n",
    "    (np.array(elev_points) - 2889)/1000\n",
    ")\n",
    "plt.xlim(-2000, 2000)\n",
    "plt.ylabel('Height\\n(AGL) (km)')\n",
    "plt.gca().spines['top'].set_visible(False)\n",
    "plt.gca().spines['right'].set_visible(False)"
   ]
  },
  {
   "cell_type": "markdown",
   "metadata": {},
   "source": [
    "# Calculate Brunt-Vaisala Frequency and the Boundary-Layer Separation Regime"
   ]
  },
  {
   "cell_type": "markdown",
   "metadata": {},
   "source": [
    "Baines (1995) defines three different boundary-layer-separation regimes based on laboratory experiments: (i) boundary-layer separation at the mountain crest (i.e., bluff-body flow separation), (ii) flow separation farther down the lee sidewall below the first wave crest, which he calls post-wave separation, and (iii) complete attachment, that is, no separation occurs. The three flow types are characterized by their location in a regime diagram as a function of H /W and N H /U , where H is the mountain height, W is the length of the lee slope, N is the Brunt–Väisälä frequency, and U is the upstream wind speed. The formation of bluff-body flow separation depends on the ratio between the wavelength of the internal waves 2πU /N and W so that boundary-layer separation occurs if N W /U < π. Post-wave separation, on the other hand, occurs when N H /U is above a critical threshold value."
   ]
  },
  {
   "cell_type": "markdown",
   "metadata": {},
   "source": [
    " We can find these variables at 1630, when the radiosonde has vertical profile allowing estimate of $N$. \n",
    "Let's calculate these variables at 900m, the approximate height of Gothic."
   ]
  },
  {
   "cell_type": "markdown",
   "metadata": {},
   "source": [
    "Calculate N from the afternoon radiosonde"
   ]
  },
  {
   "cell_type": "code",
   "execution_count": null,
   "metadata": {},
   "outputs": [],
   "source": [
    "sonde_day['N'] = metpy.calc.brunt_vaisala_frequency(\n",
    "    sonde_day['alt'] * units(sonde_day['alt'].units),\n",
    "    metpy.calc.potential_temperature(\n",
    "        sonde_day['pres'] * units(sonde_day['pres'].units),\n",
    "        sonde_day['tdry'] * units(sonde_day['tdry'].units),\n",
    "    )\n",
    ")\n",
    "n_df = sonde_day[['N', 'alt']].to_dataframe()\n",
    "n_df['alt'] = n_df['alt'] - n_df['alt'].min()\n",
    "\n",
    "N = n_df[n_df.alt > 875][n_df.alt < 925].mean()['N']"
   ]
  },
  {
   "cell_type": "markdown",
   "metadata": {},
   "source": [
    "Calculate U from the cinnamon ridge data"
   ]
  },
  {
   "cell_type": "code",
   "execution_count": null,
   "metadata": {},
   "outputs": [],
   "source": [
    "U = df.loc['20230418 1630']['WS_ms_AVG']"
   ]
  },
  {
   "cell_type": "code",
   "execution_count": null,
   "metadata": {},
   "outputs": [],
   "source": [
    "H = 500 # meters, mountain height, height of Gothic relative to the top of the ridge immediately SW of Gothic\n",
    "W = 1600 # meters, distance btwn gothic ridge peak and center valley of Gothic, along a SW-NE transect line"
   ]
  },
  {
   "cell_type": "code",
   "execution_count": null,
   "metadata": {},
   "outputs": [],
   "source": [
    "leeside_properties_df = df.loc['20230418'][['WS_ms_AVG']].copy()\n",
    "leeside_properties_df = leeside_properties_df.rename(columns={'WS_ms_AVG': 'U'})\n",
    "leeside_properties_df['H'] = H\n",
    "leeside_properties_df['W'] = W\n",
    "leeside_properties_df['N'] = N\n",
    "leeside_properties_df['x'] = leeside_properties_df.N * leeside_properties_df.H / leeside_properties_df.U\n",
    "leeside_properties_df['y'] = leeside_properties_df.H / leeside_properties_df.W\n",
    "leeside_properties_df = leeside_properties_df.reset_index()"
   ]
  },
  {
   "cell_type": "code",
   "execution_count": null,
   "metadata": {},
   "outputs": [],
   "source": [
    "leeside_properties_df.head()"
   ]
  },
  {
   "cell_type": "code",
   "execution_count": null,
   "metadata": {},
   "outputs": [],
   "source": [
    "alt.Chart(\n",
    "    leeside_properties_df[leeside_properties_df.TIMESTAMP.dt.hour%2 == 0]\n",
    ").mark_circle().encode(\n",
    "    alt.X('mean(x):Q').scale(domain = [0.1, 1], type='log').title('N H / U'), \n",
    "    alt.Y('mean(y):Q').scale(domain = [0.01, 10], type='log').title('H / W'),\n",
    "    alt.Color('hours(TIMESTAMP):O').scale(scheme='rainbow') \n",
    ").properties(width=150, height=150)"
   ]
  },
  {
   "cell_type": "code",
   "execution_count": null,
   "metadata": {},
   "outputs": [],
   "source": [
    "plt.scatter(leeside_properties_df['x'], leeside_properties_df['y'])\n",
    "plt.xlim(0.1, 10)\n",
    "plt.ylim(0.01,10)\n",
    "plt.xscale('log')\n",
    "plt.yscale('log')\n",
    "\n",
    "from matplotlib.ticker import ScalarFormatter\n",
    "# Use ScalarFormatter to avoid scientific notation\n",
    "plt.gca().xaxis.set_major_formatter(ScalarFormatter())\n",
    "plt.gca().yaxis.set_major_formatter(ScalarFormatter())\n",
    "\n",
    "plt.show()"
   ]
  },
  {
   "cell_type": "markdown",
   "metadata": {},
   "source": [
    "# Seasonal analysis"
   ]
  },
  {
   "cell_type": "markdown",
   "metadata": {},
   "source": [
    "## Compare: ridge-line w'w' with surface w'w'"
   ]
  },
  {
   "cell_type": "markdown",
   "metadata": {},
   "source": [
    "Combine DL measurements of w'w' at 900m (from daily datasets) into one dataset"
   ]
  },
  {
   "cell_type": "code",
   "execution_count": null,
   "metadata": {},
   "outputs": [],
   "source": [
    "DLW_DATA_STREAM = 'gucdlprofwstats4newsM1.c1'\n",
    "DLW_OUTPUT_DIR = os.path.join(data_dir, DLW_DATA_STREAM)"
   ]
  },
  {
   "cell_type": "code",
   "execution_count": null,
   "metadata": {},
   "outputs": [],
   "source": [
    "file_list = glob.glob(os.path.join(DLW_OUTPUT_DIR, '*.nc'))"
   ]
  },
  {
   "cell_type": "code",
   "execution_count": null,
   "metadata": {},
   "outputs": [],
   "source": [
    "daily_900m_wvar_datasets = []\n",
    "for f in tqdm(file_list):\n",
    "    dl_wstats = xr.open_dataset(f)\n",
    "    w_w_900m = dl_wstats['w_variance'].sel(\n",
    "            height = slice(875,925)\n",
    "        ).mean(dim='height')\n",
    "    daily_900m_wvar_datasets.append(w_w_900m)"
   ]
  },
  {
   "cell_type": "code",
   "execution_count": null,
   "metadata": {},
   "outputs": [],
   "source": [
    "dl_900m_wvar = xr.merge(daily_900m_wvar_datasets)"
   ]
  },
  {
   "cell_type": "markdown",
   "metadata": {},
   "source": [
    "Combine tower EC measurements of w'w' (from daily datasets) into one dataset"
   ]
  },
  {
   "cell_type": "code",
   "execution_count": null,
   "metadata": {},
   "outputs": [],
   "source": [
    "# DOWNLOAD MISSING DATA\n",
    "# # Define the data codes for meteorological and turbulence data\n",
    "# data_codes = [\n",
    "#     'gucmetM1.b1',  # Example data code for meteorological data\n",
    "#       # Example data code for turbulence data\n",
    "# ]\n",
    "\n",
    "# # Define the date range\n",
    "# start_date = '2023-04-18'\n",
    "# end_date = '2023-04-18'\n",
    "\n",
    "# # Loop through each data code and download the data\n",
    "# data_dict = {}\n",
    "# for data_code in data_codes:\n",
    "#     files = act.discovery.download_arm_data(\n",
    "#         username,  # Replace with your ARM username\n",
    "#         token,        # Replace with your ARM token\n",
    "#         data_code,\n",
    "#         start_date,\n",
    "#         end_date,\n",
    "#         output = os.path.join(data_dir, 'guc30ecorS3.b1')\n",
    "#     )\n",
    "#     print(files)\n",
    "#     # Load the data into an ACT object and append to the list\n",
    "#     ds = act.io.read_arm_netcdf(files)\n",
    "#     data_dict[data_code] = ds\n",
    "\n",
    "# gothic_met = data_dict[data_codes[0]]\n",
    "# gothic_ec = data_dict[data_codes[1]]"
   ]
  },
  {
   "cell_type": "code",
   "execution_count": null,
   "metadata": {},
   "outputs": [],
   "source": [
    "\n",
    "daily_gothic_ecor_datasets = []\n",
    "for f in tqdm(\n",
    "    sorted(glob.glob(os.path.join(data_dir, 'guc30ecorS3.b1', '*')))\n",
    "):\n",
    "    daily_gothic_ecor_datasets.append(\n",
    "        xr.open_dataset(f)['var_w']\n",
    "    )"
   ]
  },
  {
   "cell_type": "code",
   "execution_count": null,
   "metadata": {},
   "outputs": [],
   "source": [
    "gothic_ecor_wvar = xr.merge(daily_gothic_ecor_datasets)"
   ]
  },
  {
   "cell_type": "markdown",
   "metadata": {},
   "source": [
    "Compare"
   ]
  },
  {
   "cell_type": "code",
   "execution_count": null,
   "metadata": {},
   "outputs": [],
   "source": [
    "wvar_meas = dl_900m_wvar.to_dataframe().join(\n",
    "    gothic_ecor_wvar.to_dataframe()\n",
    ").dropna().rename(columns = {\n",
    "    'w_variance': \"900m w_w_\",\n",
    "    'var_w': \"3m w_w_\",\n",
    "})"
   ]
  },
  {
   "cell_type": "markdown",
   "metadata": {},
   "source": [
    "Use synoptic wind measurements to classify timestamps as cross or along-valley winds\n"
   ]
  },
  {
   "cell_type": "code",
   "execution_count": null,
   "metadata": {},
   "outputs": [],
   "source": [
    "dl_w_prof_files = glob.glob(\"/Users/elischwat/Development/data/sublimationofsnow/gucdlprofwind4newsM1.c1/*.nc\")\n",
    "prof_ds = act.io.read_arm_netcdf(dl_w_prof_files)\n",
    "prof_df = prof_ds.to_dataframe()"
   ]
  },
  {
   "cell_type": "code",
   "execution_count": null,
   "metadata": {},
   "outputs": [],
   "source": [
    "hourly_mean_prof_df = prof_df.query(\"height > 950\").query(\"height < 1100\")[['wind_speed', 'wind_direction']].reset_index().set_index('time').groupby(pd.Grouper(freq='30min')).mean()"
   ]
  },
  {
   "cell_type": "code",
   "execution_count": null,
   "metadata": {},
   "outputs": [],
   "source": [
    "along_valley_wind_times = hourly_mean_prof_df[\n",
    "    (hourly_mean_prof_df.wind_direction > 299)\n",
    "    & (hourly_mean_prof_df.wind_direction < 345 )\n",
    "].index.values\n",
    "cross_valley_wind_times = hourly_mean_prof_df[\n",
    "    (hourly_mean_prof_df.wind_direction > 202)\n",
    "    & (hourly_mean_prof_df.wind_direction < 248 )\n",
    "].index.values"
   ]
  },
  {
   "cell_type": "code",
   "execution_count": null,
   "metadata": {},
   "outputs": [],
   "source": [
    "pd.DataFrame(along_valley_wind_times).to_parquet(\"along_valley_wind_times.parquet\")\n",
    "pd.DataFrame(cross_valley_wind_times).to_parquet(\"cross_valley_wind_times.parquet\")"
   ]
  },
  {
   "cell_type": "markdown",
   "metadata": {},
   "source": [
    "Assign cross/along-valley label to the w'w' measurements"
   ]
  },
  {
   "cell_type": "code",
   "execution_count": null,
   "metadata": {},
   "outputs": [],
   "source": [
    "wvar_meas['along_valley'] = wvar_meas.index.isin(along_valley_wind_times)\n",
    "wvar_meas['cross_valley'] = wvar_meas.index.isin(cross_valley_wind_times)\n",
    "wvar_meas = wvar_meas[wvar_meas.along_valley | wvar_meas.cross_valley]\n",
    "wvar_meas['synoptic wind dir'] = np.where(wvar_meas['along_valley'], 'along valley', 'cross valley')"
   ]
  },
  {
   "cell_type": "code",
   "execution_count": null,
   "metadata": {},
   "outputs": [],
   "source": [
    "alt.Chart(wvar_meas).mark_bar().encode(\n",
    "    alt.X('900m w_w_:Q', bin=True, title='900m w_w_'),\n",
    "    alt.Y('count()', title='Frequency')\n",
    ").properties(\n",
    "    title='Histogram of 900m w_w_',\n",
    ") | alt.Chart(wvar_meas).mark_bar().encode(\n",
    "    alt.X('3m w_w_:Q', bin=True, title='900m w_w_'),\n",
    "    alt.Y('count()', title='Frequency')\n",
    ").properties(\n",
    "    title='Histogram of 3m w_w_',\n",
    ")"
   ]
  },
  {
   "cell_type": "code",
   "execution_count": null,
   "metadata": {},
   "outputs": [],
   "source": [
    "# Create new normalized columns\n",
    "wvar_meas['900m w_w_ normalized'] = wvar_meas['900m w_w_'] / wvar_meas['900m w_w_'].mean()\n",
    "wvar_meas['3m w_w_ normalized'] = wvar_meas['3m w_w_'] / wvar_meas['3m w_w_'].mean()"
   ]
  },
  {
   "cell_type": "code",
   "execution_count": null,
   "metadata": {},
   "outputs": [],
   "source": [
    "import statsmodels.api as sm\n",
    "\n",
    "# Function to fit a line and calculate the uncertainty in the slope and R-squared\n",
    "def fit_line_with_uncertainty(df):\n",
    "    X = df[['900m w_w_ normalized']].values  # Independent variable\n",
    "    y = df['3m w_w_ normalized'].values  # Dependent variable\n",
    "    X = sm.add_constant(X)  # Adds a constant term to the predictor\n",
    "    model = sm.OLS(y, X).fit()\n",
    "    return model, model.rsquared\n",
    "\n",
    "along_valley_df = wvar_meas[wvar_meas.along_valley]\n",
    "cross_valley_df = wvar_meas[wvar_meas.cross_valley]\n",
    "\n",
    "# Fit lines for both datasets\n",
    "model_along_valley, r2_along_valley = fit_line_with_uncertainty(along_valley_df)\n",
    "model_cross_valley, r2_cross_valley = fit_line_with_uncertainty(cross_valley_df)\n",
    "\n",
    "# Print the coefficients, intercepts, uncertainties, and R-squared values\n",
    "print(\"Along Valley: Coefficient =\", model_along_valley.params[1], \n",
    "      \"Intercept =\", model_along_valley.params[0], \n",
    "      \"Uncertainty in Slope =\", model_along_valley.bse[1],\n",
    "      \"R-squared =\", r2_along_valley)\n",
    "\n",
    "print(\"Cross Valley: Coefficient =\", model_cross_valley.params[1], \n",
    "      \"Intercept =\", model_cross_valley.params[0], \n",
    "      \"Uncertainty in Slope =\", model_cross_valley.bse[1],\n",
    "      \"R-squared =\", r2_cross_valley)"
   ]
  },
  {
   "cell_type": "code",
   "execution_count": null,
   "metadata": {},
   "outputs": [],
   "source": [
    "alt.Chart(wvar_meas).mark_circle(size=10).encode(\n",
    "    alt.X(\"900m w_w_:Q\"),\n",
    "    alt.Y(\"3m w_w_:Q\"),\n",
    "    alt.Color('synoptic wind dir:N')\n",
    ") | alt.Chart(wvar_meas).mark_circle(size=10).encode(\n",
    "    alt.X(\"900m w_w_ normalized:Q\").scale(domain = [0,10]),\n",
    "    alt.Y(\"3m w_w_ normalized:Q\").scale(domain = [0,10]),\n",
    "    alt.Color('synoptic wind dir:N')\n",
    ")"
   ]
  },
  {
   "cell_type": "code",
   "execution_count": null,
   "metadata": {},
   "outputs": [],
   "source": [
    "import altair as alt\n",
    "import pandas as pd\n",
    "import numpy as np\n",
    "import statsmodels.api as sm\n",
    "\n",
    "# Assuming wvar_meas is your DataFrame and the normalized columns are already created\n",
    "# Split the dataset based on 'synoptic wind dir'\n",
    "along_valley_df = wvar_meas[wvar_meas['synoptic wind dir'] == 'along valley']\n",
    "cross_valley_df = wvar_meas[wvar_meas['synoptic wind dir'] == 'cross valley']\n",
    "\n",
    "# Function to fit a line and calculate the uncertainty in the slope and R-squared\n",
    "def fit_line_with_uncertainty(df):\n",
    "    X = df[['900m w_w_ normalized']].values  # Independent variable\n",
    "    y = df['3m w_w_ normalized'].values  # Dependent variable\n",
    "    X = sm.add_constant(X)  # Adds a constant term to the predictor\n",
    "    model = sm.OLS(y, X).fit()\n",
    "    return model, model.rsquared\n",
    "\n",
    "# Fit lines for both datasets\n",
    "model_along_valley, r2_along_valley = fit_line_with_uncertainty(along_valley_df)\n",
    "model_cross_valley, r2_cross_valley = fit_line_with_uncertainty(cross_valley_df)\n",
    "\n",
    "# Extract coefficients and intercepts\n",
    "slope_along_valley = model_along_valley.params[1]\n",
    "intercept_along_valley = model_along_valley.params[0]\n",
    "slope_cross_valley = model_cross_valley.params[1]\n",
    "intercept_cross_valley = model_cross_valley.params[0]\n",
    "\n",
    "base_chart_normalized = alt.Chart(wvar_meas).mark_circle(size=10).encode(\n",
    "    alt.X(\"900m w_w_ normalized:Q\", scale=alt.Scale(domain=[0, 10], clamp=True)),\n",
    "    alt.Y(\"3m w_w_ normalized:Q\", scale=alt.Scale(domain=[0, 10], clamp=True)),\n",
    "    alt.Color('synoptic wind dir:N')\n",
    ")\n",
    "\n",
    "\n",
    "# Create the fitted lines\n",
    "line_along_valley = alt.Chart(along_valley_df).mark_line(color='#1f77b4').encode(\n",
    "    alt.X('900m w_w_ normalized:Q'),\n",
    "    alt.Y('3m w_w_ normalized:Q')\n",
    ").transform_regression(\n",
    "    '900m w_w_ normalized', '3m w_w_ normalized'\n",
    ")\n",
    "\n",
    "line_cross_valley = alt.Chart(cross_valley_df).mark_line(color='#ff7f0e').encode(\n",
    "    alt.X('900m w_w_ normalized:Q'),\n",
    "    alt.Y('3m w_w_ normalized:Q')\n",
    ").transform_regression(\n",
    "    '900m w_w_ normalized', '3m w_w_ normalized'\n",
    ")\n",
    "\n",
    "(base_chart_normalized + line_along_valley + line_cross_valley).properties(\n",
    "    title = f'Along valley r² = {round(r2_along_valley, 2)}, Cross valley r² = {round(r2_cross_valley, 2)}, '\n",
    ")"
   ]
  },
  {
   "cell_type": "markdown",
   "metadata": {},
   "source": [
    "## Examine seasonal behavior of vertical velocity statistics"
   ]
  },
  {
   "cell_type": "code",
   "execution_count": null,
   "metadata": {},
   "outputs": [],
   "source": [
    "file_list_2022_23_season = sorted(file_list)[425: 621]\n",
    "file_list_2022_23_season[0], file_list_2022_23_season[-1]"
   ]
  },
  {
   "cell_type": "code",
   "execution_count": null,
   "metadata": {},
   "outputs": [],
   "source": [
    "daily_wvar_datasets = []\n",
    "for f in tqdm(file_list_2022_23_season):\n",
    "    # dl_wstats = xr.open_dataset(f)[['w_variance']].coarsen(height=2, boundary='trim').mean()\n",
    "    dl_wstats = xr.open_dataset(f)[['w_variance']]\n",
    "    daily_wvar_datasets.append(dl_wstats)"
   ]
  },
  {
   "cell_type": "code",
   "execution_count": null,
   "metadata": {},
   "outputs": [],
   "source": [
    "dl_wvar = xr.merge(daily_wvar_datasets)"
   ]
  },
  {
   "cell_type": "code",
   "execution_count": null,
   "metadata": {},
   "outputs": [],
   "source": [
    "src = dl_wvar.to_dataframe()\n",
    "src = src.reset_index().set_index('time')\n",
    "src['hour_of_day'] = src.index.hour\n",
    "src = src.groupby(['hour_of_day', 'height']).mean().query(\"height <= 2000\")\n",
    "alt.Chart(src.reset_index()).mark_line().encode(\n",
    "    alt.X('w_variance:Q'),\n",
    "    alt.Y('height:Q'),\n",
    "    # alt.Color('hour_of_day:O'),\n",
    "    alt.Facet('hour_of_day:O', columns=6),\n",
    "    order = 'height'\n",
    ").properties(width=100)"
   ]
  },
  {
   "cell_type": "markdown",
   "metadata": {},
   "source": [
    "## KPS Skewness"
   ]
  },
  {
   "cell_type": "code",
   "execution_count": null,
   "metadata": {},
   "outputs": [],
   "source": [
    "sos_ds = xr.open_dataset(\"../paper1/process_slow_data/sos_ds_temp_storage_30min_straightup.cdf\")"
   ]
  },
  {
   "cell_type": "code",
   "execution_count": null,
   "metadata": {},
   "outputs": [],
   "source": [
    "sos_df_5min = sos_ds[['w_w_w__3m_c', 'w_w_w__5m_c', 'w_w_w__10m_c', 'w_w_w__15m_c', 'w_w_w__20m_c']].to_dataframe()"
   ]
  },
  {
   "cell_type": "code",
   "execution_count": null,
   "metadata": {},
   "outputs": [],
   "source": [
    "sos_df_5min = sos_df_5min.melt(ignore_index=False)"
   ]
  },
  {
   "cell_type": "code",
   "execution_count": null,
   "metadata": {},
   "outputs": [],
   "source": [
    "sos_df_5min.head()"
   ]
  },
  {
   "cell_type": "code",
   "execution_count": null,
   "metadata": {},
   "outputs": [],
   "source": [
    "\n",
    "alt.Chart(\n",
    "    utils.modify_df_timezone(sos_df_5min.reset_index(), 'UTC', 'US/Mountain')\n",
    ").transform_filter(\n",
    "    'month(datum.time) != 10' \n",
    ").mark_line().encode(\n",
    "    alt.X('hoursminutes(time)'),\n",
    "    alt.Y('mean(value)'),\n",
    "    alt.Color('variable'),\n",
    "    alt.Facet('month(time)', columns=3)\n",
    ").properties(width=400)"
   ]
  },
  {
   "cell_type": "code",
   "execution_count": null,
   "metadata": {},
   "outputs": [],
   "source": []
  }
 ],
 "metadata": {
  "kernelspec": {
   "display_name": "sublimationofsnow",
   "language": "python",
   "name": "python3"
  },
  "language_info": {
   "codemirror_mode": {
    "name": "ipython",
    "version": 3
   },
   "file_extension": ".py",
   "mimetype": "text/x-python",
   "name": "python",
   "nbconvert_exporter": "python",
   "pygments_lexer": "ipython3",
   "version": "3.12.5"
  }
 },
 "nbformat": 4,
 "nbformat_minor": 2
}
