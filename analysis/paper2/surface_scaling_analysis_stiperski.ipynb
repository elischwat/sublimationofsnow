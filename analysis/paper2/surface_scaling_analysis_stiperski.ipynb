{
 "cells": [
  {
   "cell_type": "code",
   "execution_count": 2,
   "metadata": {},
   "outputs": [],
   "source": [
    "import os\n",
    "import glob\n",
    "import datetime as dt\n",
    "import numpy as np\n",
    "import xarray as xr\n",
    "import pandas as pd\n",
    "from sublimpy import utils, extrautils\n",
    "import matplotlib.pyplot as plt\n",
    "import altair as alt\n",
    "alt.data_transformers.enable('json')\n",
    "import act\n",
    "import swifter"
   ]
  },
  {
   "cell_type": "markdown",
   "metadata": {},
   "source": [
    "Open tidy dataset"
   ]
  },
  {
   "cell_type": "code",
   "execution_count": 3,
   "metadata": {},
   "outputs": [
    {
     "data": {
      "text/plain": [
       "(Timestamp('2022-11-30 00:30:00'), Timestamp('2023-05-08 23:30:00'))"
      ]
     },
     "execution_count": 3,
     "metadata": {},
     "output_type": "execute_result"
    }
   ],
   "source": [
    "sos_tidy_fn = f\"../paper1/process_slow_data/tidy_df_20221101_20230619_planar_fit_multiplane_q7_flags360_pf10.parquet\"\n",
    "tidy_df = pd.read_parquet(sos_tidy_fn)\n",
    "# Convert data timezone to local and clean up data on the ends\n",
    "# convert time column to datetime\n",
    "tidy_df['time'] = pd.to_datetime(tidy_df['time'])\n",
    "tidy_df = utils.modify_df_timezone(tidy_df, 'UTC', 'US/Mountain')\n",
    "# tidy_df = tidy_df[tidy_df.time > '20230301']\n",
    "tidy_df = tidy_df[tidy_df.time > '20221130']\n",
    "tidy_df = tidy_df[tidy_df.time < '20230509']\n",
    "tidy_df.time.min(), tidy_df.time.max()"
   ]
  },
  {
   "cell_type": "markdown",
   "metadata": {},
   "source": [
    "classify synoptic winds"
   ]
  },
  {
   "cell_type": "code",
   "execution_count": 4,
   "metadata": {},
   "outputs": [],
   "source": [
    "USERNAME = os.getenv(\"ARM_USERNAME\")\n",
    "TOKEN = os.getenv(\"ARM_TOKEN\")\n",
    "SAIL_DATA_STREAM = 'gucdlprofwind4newsM1.c1'\n",
    "DATA_STREAM_FILEEXT = '.nc'\n",
    "startdate = \"2022-11-30\"\n",
    "enddate = \"2023-06-20\"\n",
    "output_dir = os.path.join(\"/Users/elischwat/Development/data/sublimationofsnow/\", SAIL_DATA_STREAM)\n"
   ]
  },
  {
   "cell_type": "code",
   "execution_count": 5,
   "metadata": {},
   "outputs": [],
   "source": [
    "# act.discovery.download_arm_data(USERNAME, TOKEN, SAIL_DATA_STREAM, startdate, enddate, output=output_dir)"
   ]
  },
  {
   "cell_type": "code",
   "execution_count": 6,
   "metadata": {},
   "outputs": [],
   "source": [
    "dl_w_prof_files = glob.glob(\"/Users/elischwat/Development/data/sublimationofsnow/gucdlprofwind4newsM1.c1/*.nc\")"
   ]
  },
  {
   "cell_type": "code",
   "execution_count": 7,
   "metadata": {},
   "outputs": [
    {
     "data": {
      "text/plain": [
       "(<xarray.DataArray 'time' ()> Size: 8B\n",
       " array('2022-11-30T00:00:39.646250000', dtype='datetime64[ns]'),\n",
       " <xarray.DataArray 'time' ()> Size: 8B\n",
       " array('2023-06-15T23:59:20.789108000', dtype='datetime64[ns]'))"
      ]
     },
     "execution_count": 7,
     "metadata": {},
     "output_type": "execute_result"
    }
   ],
   "source": [
    "prof_ds = act.io.read_arm_netcdf(dl_w_prof_files)\n",
    "prof_ds.time.min(), prof_ds.time.max()"
   ]
  },
  {
   "cell_type": "code",
   "execution_count": 8,
   "metadata": {},
   "outputs": [],
   "source": [
    "prof_df = prof_ds.to_dataframe()\n",
    "prof_df = utils.modify_df_timezone(prof_df.reset_index(), 'UTC', 'US/Mountain').set_index('time')"
   ]
  },
  {
   "cell_type": "code",
   "execution_count": 9,
   "metadata": {},
   "outputs": [],
   "source": [
    "hourly_mean_prof_df = prof_df.query(\"height > 950\").query(\"height < 1100\")[['wind_speed', 'wind_direction']].reset_index().set_index('time').groupby(pd.Grouper(freq='60min')).mean()"
   ]
  },
  {
   "cell_type": "code",
   "execution_count": 10,
   "metadata": {},
   "outputs": [],
   "source": [
    "synoptic_winds_30min = hourly_mean_prof_df.resample('30min').mean().ffill()\n",
    "along_valley_wind_times = synoptic_winds_30min[\n",
    "    (synoptic_winds_30min.wind_direction > 299)\n",
    "    & (synoptic_winds_30min.wind_direction < 345 )\n",
    "].index.values\n",
    "cross_valley_wind_times = synoptic_winds_30min[\n",
    "    (synoptic_winds_30min.wind_direction > 202)\n",
    "    & (synoptic_winds_30min.wind_direction < 248 )\n",
    "].index.values"
   ]
  },
  {
   "cell_type": "code",
   "execution_count": 11,
   "metadata": {},
   "outputs": [
    {
     "data": {
      "text/html": [
       "<div>\n",
       "<style scoped>\n",
       "    .dataframe tbody tr th:only-of-type {\n",
       "        vertical-align: middle;\n",
       "    }\n",
       "\n",
       "    .dataframe tbody tr th {\n",
       "        vertical-align: top;\n",
       "    }\n",
       "\n",
       "    .dataframe thead th {\n",
       "        text-align: right;\n",
       "    }\n",
       "</style>\n",
       "<table border=\"1\" class=\"dataframe\">\n",
       "  <thead>\n",
       "    <tr style=\"text-align: right;\">\n",
       "      <th></th>\n",
       "      <th>category</th>\n",
       "    </tr>\n",
       "    <tr>\n",
       "      <th>time</th>\n",
       "      <th></th>\n",
       "    </tr>\n",
       "  </thead>\n",
       "  <tbody>\n",
       "    <tr>\n",
       "      <th>2022-12-01 17:00:00</th>\n",
       "      <td>cross-valley</td>\n",
       "    </tr>\n",
       "    <tr>\n",
       "      <th>2022-12-01 17:30:00</th>\n",
       "      <td>cross-valley</td>\n",
       "    </tr>\n",
       "    <tr>\n",
       "      <th>2022-12-01 18:00:00</th>\n",
       "      <td>cross-valley</td>\n",
       "    </tr>\n",
       "    <tr>\n",
       "      <th>2022-12-01 18:30:00</th>\n",
       "      <td>cross-valley</td>\n",
       "    </tr>\n",
       "    <tr>\n",
       "      <th>2022-12-01 19:00:00</th>\n",
       "      <td>cross-valley</td>\n",
       "    </tr>\n",
       "    <tr>\n",
       "      <th>...</th>\n",
       "      <td>...</td>\n",
       "    </tr>\n",
       "    <tr>\n",
       "      <th>2023-06-15 10:30:00</th>\n",
       "      <td>cross-valley</td>\n",
       "    </tr>\n",
       "    <tr>\n",
       "      <th>2023-06-15 13:00:00</th>\n",
       "      <td>cross-valley</td>\n",
       "    </tr>\n",
       "    <tr>\n",
       "      <th>2023-06-15 13:30:00</th>\n",
       "      <td>cross-valley</td>\n",
       "    </tr>\n",
       "    <tr>\n",
       "      <th>2023-06-15 15:00:00</th>\n",
       "      <td>cross-valley</td>\n",
       "    </tr>\n",
       "    <tr>\n",
       "      <th>2023-06-15 15:30:00</th>\n",
       "      <td>cross-valley</td>\n",
       "    </tr>\n",
       "  </tbody>\n",
       "</table>\n",
       "<p>2172 rows × 1 columns</p>\n",
       "</div>"
      ],
      "text/plain": [
       "                         category\n",
       "time                             \n",
       "2022-12-01 17:00:00  cross-valley\n",
       "2022-12-01 17:30:00  cross-valley\n",
       "2022-12-01 18:00:00  cross-valley\n",
       "2022-12-01 18:30:00  cross-valley\n",
       "2022-12-01 19:00:00  cross-valley\n",
       "...                           ...\n",
       "2023-06-15 10:30:00  cross-valley\n",
       "2023-06-15 13:00:00  cross-valley\n",
       "2023-06-15 13:30:00  cross-valley\n",
       "2023-06-15 15:00:00  cross-valley\n",
       "2023-06-15 15:30:00  cross-valley\n",
       "\n",
       "[2172 rows x 1 columns]"
      ]
     },
     "execution_count": 11,
     "metadata": {},
     "output_type": "execute_result"
    }
   ],
   "source": [
    "along_valley_wind_times = pd.DataFrame(along_valley_wind_times).set_index(0)\n",
    "along_valley_wind_times.index.name = 'time'\n",
    "along_valley_wind_times = along_valley_wind_times.assign(category = 'along-valley')\n",
    "cross_valley_wind_times = pd.DataFrame(cross_valley_wind_times).set_index(0)\n",
    "cross_valley_wind_times.index.name = 'time'\n",
    "cross_valley_wind_times = cross_valley_wind_times.assign(category = 'cross-valley')\n",
    "\n",
    "cross_valley_wind_times"
   ]
  },
  {
   "cell_type": "code",
   "execution_count": 12,
   "metadata": {},
   "outputs": [],
   "source": [
    "synoptic_winds_pdf_data = pd.concat([\n",
    "        synoptic_winds_30min[synoptic_winds_30min.index.isin(cross_valley_wind_times.index)].assign(synoptic_wind = 'cross valley'),\n",
    "        synoptic_winds_30min[synoptic_winds_30min.index.isin(along_valley_wind_times.index)].assign(synoptic_wind = 'along valley')\n",
    "    ])"
   ]
  },
  {
   "cell_type": "code",
   "execution_count": 13,
   "metadata": {},
   "outputs": [],
   "source": [
    "fast_synoptic_wind_times = synoptic_winds_pdf_data.query(\"wind_speed <= 10\").assign(synoptic_wind_speed = '<= 10 m/s')[['synoptic_wind_speed']]\n",
    "slow_synoptic_wind_times = synoptic_winds_pdf_data.query(\"wind_speed > 10\").assign(synoptic_wind_speed = '> 10 m/s')[['synoptic_wind_speed']]"
   ]
  },
  {
   "cell_type": "markdown",
   "metadata": {},
   "source": [
    "Calculate scaling variables"
   ]
  },
  {
   "cell_type": "code",
   "execution_count": 14,
   "metadata": {},
   "outputs": [],
   "source": [
    "src_variances = tidy_df[tidy_df.variable.isin([\n",
    "    \"w_w__3m_c\",\n",
    "    \"u_u__3m_c\",\n",
    "    \"v_v__3m_c\",\n",
    "    \"u*_3m_c\"\n",
    "])].pivot_table(index='time', columns='variable', values='value')\n",
    "\n",
    "src_variances['Phi_w'] = np.sqrt(src_variances['w_w__3m_c']) / src_variances['u*_3m_c']\n",
    "src_variances['Phi_u'] = np.sqrt(src_variances['u_u__3m_c']) / src_variances['u*_3m_c']\n",
    "src_variances['Phi_v'] = np.sqrt(src_variances['v_v__3m_c']) / src_variances['u*_3m_c']"
   ]
  },
  {
   "cell_type": "code",
   "execution_count": 15,
   "metadata": {},
   "outputs": [],
   "source": [
    "k = 0.4\n",
    "g = 9.81\n",
    "src_lambda = tidy_df[tidy_df.variable.isin([\n",
    "    \"u*_3m_c\",\n",
    "    'Tpotvirtual_1m_c',\n",
    "    'Tpotvirtual_2m_c',\n",
    "    'Tpotvirtual_3m_c',\n",
    "    'w_tc__3m_c',\n",
    "    'SnowDepth_c'\n",
    "])].pivot_table(index='time', columns='variable', values='value')\n",
    "Lambda = - src_lambda['u*_3m_c']**3 * src_lambda[[\n",
    "    'Tpotvirtual_1m_c',\t'Tpotvirtual_2m_c',\t'Tpotvirtual_3m_c', \n",
    "]].mean(axis=1) / (\n",
    "    k*g*src_lambda['w_tc__3m_c']\n",
    ")\n",
    "z = 3 - src_lambda['SnowDepth_c']\n",
    "z_over_Lambda = (z / Lambda).rename('z/L')"
   ]
  },
  {
   "cell_type": "code",
   "execution_count": 16,
   "metadata": {},
   "outputs": [],
   "source": [
    "src_scaling = pd.DataFrame(z_over_Lambda).join(src_variances)"
   ]
  },
  {
   "cell_type": "markdown",
   "metadata": {},
   "source": [
    "Categorize by synoptic wind direction and speed"
   ]
  },
  {
   "cell_type": "code",
   "execution_count": 17,
   "metadata": {},
   "outputs": [],
   "source": [
    "src_scaling = pd.concat([\n",
    "    src_scaling.join(along_valley_wind_times, how='inner'),\n",
    "    src_scaling.join(cross_valley_wind_times, how='inner')\n",
    "])"
   ]
  },
  {
   "cell_type": "code",
   "execution_count": 18,
   "metadata": {},
   "outputs": [],
   "source": [
    "src_scaling = pd.concat([\n",
    "    src_scaling.join(fast_synoptic_wind_times, how='inner'),\n",
    "    src_scaling.join(slow_synoptic_wind_times, how='inner')\n",
    "])\n"
   ]
  },
  {
   "cell_type": "markdown",
   "metadata": {},
   "source": [
    "plot"
   ]
  },
  {
   "cell_type": "code",
   "execution_count": 19,
   "metadata": {},
   "outputs": [
    {
     "name": "stderr",
     "output_type": "stream",
     "text": [
      "/var/folders/x_/2h52bcjx2px15bhmdpdd748h0000gn/T/ipykernel_40494/2908346530.py:3: SettingWithCopyWarning: \n",
      "A value is trying to be set on a copy of a slice from a DataFrame.\n",
      "Try using .loc[row_indexer,col_indexer] = value instead\n",
      "\n",
      "See the caveats in the documentation: https://pandas.pydata.org/pandas-docs/stable/user_guide/indexing.html#returning-a-view-versus-a-copy\n",
      "  src_scaling_stable['z/L bin'] = bins.apply(lambda bin: 0.5*(bin.left + bin.right)).astype(float)\n",
      "/var/folders/x_/2h52bcjx2px15bhmdpdd748h0000gn/T/ipykernel_40494/2908346530.py:8: SettingWithCopyWarning: \n",
      "A value is trying to be set on a copy of a slice from a DataFrame.\n",
      "Try using .loc[row_indexer,col_indexer] = value instead\n",
      "\n",
      "See the caveats in the documentation: https://pandas.pydata.org/pandas-docs/stable/user_guide/indexing.html#returning-a-view-versus-a-copy\n",
      "  src_scaling_unstable['z/L bin'] = bins.apply(lambda bin: 0.5*(bin.left + bin.right)).astype(float)\n"
     ]
    }
   ],
   "source": [
    "src_scaling_stable = src_scaling[src_scaling['z/L'] > 0]\n",
    "bins = pd.cut(src_scaling_stable['z/L'], np.logspace(-4,2,14))\n",
    "src_scaling_stable['z/L bin'] = bins.apply(lambda bin: 0.5*(bin.left + bin.right)).astype(float)\n",
    "\n",
    "\n",
    "src_scaling_unstable = src_scaling[src_scaling['z/L'] < 0]\n",
    "bins = pd.cut(src_scaling_unstable['z/L'], ((-1)*np.logspace(-4,2,14))[::-1])\n",
    "src_scaling_unstable['z/L bin'] = bins.apply(lambda bin: 0.5*(bin.left + bin.right)).astype(float)"
   ]
  },
  {
   "cell_type": "code",
   "execution_count": 20,
   "metadata": {},
   "outputs": [],
   "source": [
    "Phi_w_modeled_stable = lambda z_over_L: 1.25*(1 + 3*z_over_L)**(1/3)\n",
    "Phi_w_modeled_unstable = lambda z_over_L: 1.25*(1 - 3*z_over_L)**(1/3)\n",
    "Phi_w_model_src = pd.DataFrame({\n",
    "    'model_domain_stable': np.logspace(-4, 1),\n",
    "    'model_domain_unstable': -np.logspace(-4, 1),\n",
    "    'model_range_stable': Phi_w_modeled_stable(np.logspace(-4, 1)),\n",
    "    'model_range_unstable': Phi_w_modeled_unstable(-np.logspace(-4, 1)),\n",
    "})\n",
    "\n",
    "Phi_u_modeled_stable = lambda z_over_L: 2.55*(1 + 3*z_over_L)**(1/3)\n",
    "Phi_u_modeled_unstable = lambda z_over_L: 2.55*(1 - 3*z_over_L)**(1/3)\n",
    "\n",
    "Phi_u_model_src = pd.DataFrame({\n",
    "    'model_domain_stable': np.logspace(-4, 1),\n",
    "    'model_domain_unstable': -np.logspace(-4, 1),\n",
    "    'model_range_stable': Phi_u_modeled_stable(np.logspace(-4, 1)),\n",
    "    'model_range_unstable': Phi_u_modeled_unstable(-np.logspace(-4, 1)),\n",
    "})\n",
    "\n",
    "stable_model_phi_w_chart = alt.Chart(Phi_w_model_src).mark_line(color='black').encode(\n",
    "        alt.X('model_domain_stable:Q').title(''),\n",
    "        alt.Y('model_range_stable:Q').title(''),\n",
    "    )\n",
    "stable_model_phi_u_chart = alt.Chart(Phi_u_model_src).mark_line(color='black').encode(\n",
    "        alt.X('model_domain_stable:Q').title(''),\n",
    "        alt.Y('model_range_stable:Q').title(''),\n",
    "    )\n",
    "unstable_model_phi_w_chart = alt.Chart(Phi_w_model_src).mark_line(color='black').encode(\n",
    "        alt.X('model_domain_unstable:Q').title(''),\n",
    "        alt.Y('model_range_unstable:Q').title(''),\n",
    "    )\n",
    "unstable_model_phi_u_chart = alt.Chart(Phi_u_model_src).mark_line(color='black').encode(\n",
    "        alt.X('model_domain_unstable:Q').title(''),\n",
    "        alt.Y('model_range_unstable:Q').title(''),\n",
    "    )"
   ]
  },
  {
   "cell_type": "code",
   "execution_count": 21,
   "metadata": {},
   "outputs": [
    {
     "name": "stderr",
     "output_type": "stream",
     "text": [
      "/var/folders/x_/2h52bcjx2px15bhmdpdd748h0000gn/T/ipykernel_40494/3777057509.py:8: UserWarning: Boolean Series key will be reindexed to match DataFrame index.\n",
      "  src_scaling_stable[\n",
      "/var/folders/x_/2h52bcjx2px15bhmdpdd748h0000gn/T/ipykernel_40494/3777057509.py:13: UserWarning: Boolean Series key will be reindexed to match DataFrame index.\n",
      "  src_scaling_unstable[\n"
     ]
    },
    {
     "data": {
      "text/html": [
       "\n",
       "<style>\n",
       "  #altair-viz-a3296100bf494b99a758cc4d5a43a59f.vega-embed {\n",
       "    width: 100%;\n",
       "    display: flex;\n",
       "  }\n",
       "\n",
       "  #altair-viz-a3296100bf494b99a758cc4d5a43a59f.vega-embed details,\n",
       "  #altair-viz-a3296100bf494b99a758cc4d5a43a59f.vega-embed details summary {\n",
       "    position: relative;\n",
       "  }\n",
       "</style>\n",
       "<div id=\"altair-viz-a3296100bf494b99a758cc4d5a43a59f\"></div>\n",
       "<script type=\"text/javascript\">\n",
       "  var VEGA_DEBUG = (typeof VEGA_DEBUG == \"undefined\") ? {} : VEGA_DEBUG;\n",
       "  (function(spec, embedOpt){\n",
       "    let outputDiv = document.currentScript.previousElementSibling;\n",
       "    if (outputDiv.id !== \"altair-viz-a3296100bf494b99a758cc4d5a43a59f\") {\n",
       "      outputDiv = document.getElementById(\"altair-viz-a3296100bf494b99a758cc4d5a43a59f\");\n",
       "    }\n",
       "    const paths = {\n",
       "      \"vega\": \"https://cdn.jsdelivr.net/npm/vega@5?noext\",\n",
       "      \"vega-lib\": \"https://cdn.jsdelivr.net/npm/vega-lib?noext\",\n",
       "      \"vega-lite\": \"https://cdn.jsdelivr.net/npm/vega-lite@5.20.1?noext\",\n",
       "      \"vega-embed\": \"https://cdn.jsdelivr.net/npm/vega-embed@6?noext\",\n",
       "    };\n",
       "\n",
       "    function maybeLoadScript(lib, version) {\n",
       "      var key = `${lib.replace(\"-\", \"\")}_version`;\n",
       "      return (VEGA_DEBUG[key] == version) ?\n",
       "        Promise.resolve(paths[lib]) :\n",
       "        new Promise(function(resolve, reject) {\n",
       "          var s = document.createElement('script');\n",
       "          document.getElementsByTagName(\"head\")[0].appendChild(s);\n",
       "          s.async = true;\n",
       "          s.onload = () => {\n",
       "            VEGA_DEBUG[key] = version;\n",
       "            return resolve(paths[lib]);\n",
       "          };\n",
       "          s.onerror = () => reject(`Error loading script: ${paths[lib]}`);\n",
       "          s.src = paths[lib];\n",
       "        });\n",
       "    }\n",
       "\n",
       "    function showError(err) {\n",
       "      outputDiv.innerHTML = `<div class=\"error\" style=\"color:red;\">${err}</div>`;\n",
       "      throw err;\n",
       "    }\n",
       "\n",
       "    function displayChart(vegaEmbed) {\n",
       "      vegaEmbed(outputDiv, spec, embedOpt)\n",
       "        .catch(err => showError(`Javascript Error: ${err.message}<br>This usually means there's a typo in your chart specification. See the javascript console for the full traceback.`));\n",
       "    }\n",
       "\n",
       "    if(typeof define === \"function\" && define.amd) {\n",
       "      requirejs.config({paths});\n",
       "      require([\"vega-embed\"], displayChart, err => showError(`Error loading script: ${err.message}`));\n",
       "    } else {\n",
       "      maybeLoadScript(\"vega\", \"5\")\n",
       "        .then(() => maybeLoadScript(\"vega-lite\", \"5.20.1\"))\n",
       "        .then(() => maybeLoadScript(\"vega-embed\", \"6\"))\n",
       "        .catch(showError)\n",
       "        .then(() => displayChart(vegaEmbed));\n",
       "    }\n",
       "  })({\"config\": {\"view\": {\"continuousWidth\": 300, \"continuousHeight\": 300}, \"axis\": {\"grid\": false}}, \"vconcat\": [{\"hconcat\": [{\"layer\": [{\"data\": {\"url\": \"altair-data-adf5ab3103f1c301d61c737619d7fc30.json\", \"format\": {\"type\": \"json\"}}, \"mark\": {\"type\": \"line\", \"color\": \"black\"}, \"encoding\": {\"x\": {\"field\": \"model_domain_unstable\", \"title\": \"\", \"type\": \"quantitative\"}, \"y\": {\"field\": \"model_range_unstable\", \"title\": \"\", \"type\": \"quantitative\"}}}, {\"data\": {\"url\": \"altair-data-d4df0465c55e6cf91fe3fe85f63781cc.json\", \"format\": {\"type\": \"json\"}}, \"mark\": {\"type\": \"point\", \"size\": 50}, \"encoding\": {\"color\": {\"field\": \"category\", \"type\": \"nominal\"}, \"shape\": {\"field\": \"synoptic_wind_speed\", \"type\": \"nominal\"}, \"x\": {\"field\": \"z/L bin\", \"scale\": {\"type\": \"log\"}, \"title\": \"z/L\", \"type\": \"quantitative\"}, \"y\": {\"aggregate\": \"mean\", \"field\": \"Phi_w\", \"title\": \"\\ud835\\udebdw\", \"type\": \"quantitative\"}}}], \"height\": 150, \"width\": 200}, {\"layer\": [{\"data\": {\"url\": \"altair-data-adf5ab3103f1c301d61c737619d7fc30.json\", \"format\": {\"type\": \"json\"}}, \"mark\": {\"type\": \"line\", \"color\": \"black\"}, \"encoding\": {\"x\": {\"field\": \"model_domain_stable\", \"title\": \"\", \"type\": \"quantitative\"}, \"y\": {\"field\": \"model_range_stable\", \"title\": \"\", \"type\": \"quantitative\"}}}, {\"data\": {\"url\": \"altair-data-769f18c5959a8be75c5b5a160ac078db.json\", \"format\": {\"type\": \"json\"}}, \"mark\": {\"type\": \"point\", \"size\": 50}, \"encoding\": {\"color\": {\"field\": \"category\", \"type\": \"nominal\"}, \"shape\": {\"field\": \"synoptic_wind_speed\", \"type\": \"nominal\"}, \"x\": {\"field\": \"z/L bin\", \"scale\": {\"type\": \"log\"}, \"title\": \"z/L\", \"type\": \"quantitative\"}, \"y\": {\"aggregate\": \"mean\", \"field\": \"Phi_w\", \"title\": \"\\ud835\\udebdw\", \"type\": \"quantitative\"}}}], \"height\": 150, \"width\": 200}], \"resolve\": {\"scale\": {\"y\": \"shared\"}}}, {\"vconcat\": [{\"hconcat\": [{\"layer\": [{\"data\": {\"url\": \"altair-data-95f8523a99f181094e660e934723fb87.json\", \"format\": {\"type\": \"json\"}}, \"mark\": {\"type\": \"line\", \"color\": \"black\"}, \"encoding\": {\"x\": {\"field\": \"model_domain_unstable\", \"title\": \"\", \"type\": \"quantitative\"}, \"y\": {\"field\": \"model_range_unstable\", \"title\": \"\", \"type\": \"quantitative\"}}}, {\"data\": {\"url\": \"altair-data-d4df0465c55e6cf91fe3fe85f63781cc.json\", \"format\": {\"type\": \"json\"}}, \"mark\": {\"type\": \"point\", \"size\": 50}, \"encoding\": {\"color\": {\"field\": \"category\", \"type\": \"nominal\"}, \"shape\": {\"field\": \"synoptic_wind_speed\", \"type\": \"nominal\"}, \"x\": {\"field\": \"z/L bin\", \"scale\": {\"type\": \"log\"}, \"title\": \"z/L\", \"type\": \"quantitative\"}, \"y\": {\"aggregate\": \"mean\", \"field\": \"Phi_u\", \"title\": \"\\ud835\\udebdu\", \"type\": \"quantitative\"}}}], \"height\": 150, \"width\": 200}, {\"layer\": [{\"data\": {\"url\": \"altair-data-95f8523a99f181094e660e934723fb87.json\", \"format\": {\"type\": \"json\"}}, \"mark\": {\"type\": \"line\", \"color\": \"black\"}, \"encoding\": {\"x\": {\"field\": \"model_domain_stable\", \"title\": \"\", \"type\": \"quantitative\"}, \"y\": {\"field\": \"model_range_stable\", \"title\": \"\", \"type\": \"quantitative\"}}}, {\"data\": {\"url\": \"altair-data-769f18c5959a8be75c5b5a160ac078db.json\", \"format\": {\"type\": \"json\"}}, \"mark\": {\"type\": \"point\", \"size\": 50}, \"encoding\": {\"color\": {\"field\": \"category\", \"type\": \"nominal\"}, \"shape\": {\"field\": \"synoptic_wind_speed\", \"type\": \"nominal\"}, \"x\": {\"field\": \"z/L bin\", \"scale\": {\"type\": \"log\"}, \"title\": \"z/L\", \"type\": \"quantitative\"}, \"y\": {\"aggregate\": \"mean\", \"field\": \"Phi_u\", \"title\": \"\\ud835\\udebdu\", \"type\": \"quantitative\"}}}], \"height\": 150, \"width\": 200}], \"resolve\": {\"scale\": {\"y\": \"shared\"}}}, {\"hconcat\": [{\"layer\": [{\"data\": {\"url\": \"altair-data-95f8523a99f181094e660e934723fb87.json\", \"format\": {\"type\": \"json\"}}, \"mark\": {\"type\": \"line\", \"color\": \"black\"}, \"encoding\": {\"x\": {\"field\": \"model_domain_unstable\", \"title\": \"\", \"type\": \"quantitative\"}, \"y\": {\"field\": \"model_range_unstable\", \"title\": \"\", \"type\": \"quantitative\"}}}, {\"data\": {\"url\": \"altair-data-d4df0465c55e6cf91fe3fe85f63781cc.json\", \"format\": {\"type\": \"json\"}}, \"mark\": {\"type\": \"point\", \"size\": 50}, \"encoding\": {\"color\": {\"field\": \"category\", \"type\": \"nominal\"}, \"shape\": {\"field\": \"synoptic_wind_speed\", \"type\": \"nominal\"}, \"x\": {\"field\": \"z/L bin\", \"scale\": {\"type\": \"log\"}, \"title\": \"z/L\", \"type\": \"quantitative\"}, \"y\": {\"aggregate\": \"mean\", \"field\": \"Phi_v\", \"title\": \"\\ud835\\udebdv\", \"type\": \"quantitative\"}}}], \"height\": 150, \"width\": 200}, {\"layer\": [{\"data\": {\"url\": \"altair-data-95f8523a99f181094e660e934723fb87.json\", \"format\": {\"type\": \"json\"}}, \"mark\": {\"type\": \"line\", \"color\": \"black\"}, \"encoding\": {\"x\": {\"field\": \"model_domain_stable\", \"title\": \"\", \"type\": \"quantitative\"}, \"y\": {\"field\": \"model_range_stable\", \"title\": \"\", \"type\": \"quantitative\"}}}, {\"data\": {\"url\": \"altair-data-769f18c5959a8be75c5b5a160ac078db.json\", \"format\": {\"type\": \"json\"}}, \"mark\": {\"type\": \"point\", \"size\": 50}, \"encoding\": {\"color\": {\"field\": \"category\", \"type\": \"nominal\"}, \"shape\": {\"field\": \"synoptic_wind_speed\", \"type\": \"nominal\"}, \"x\": {\"field\": \"z/L bin\", \"scale\": {\"type\": \"log\"}, \"title\": \"z/L\", \"type\": \"quantitative\"}, \"y\": {\"aggregate\": \"mean\", \"field\": \"Phi_v\", \"title\": \"\\ud835\\udebdv\", \"type\": \"quantitative\"}}}], \"height\": 150, \"width\": 200}], \"resolve\": {\"scale\": {\"y\": \"shared\"}}}], \"resolve\": {\"scale\": {\"y\": \"shared\"}}}], \"$schema\": \"https://vega.github.io/schema/vega-lite/v5.20.1.json\"}, {\"mode\": \"vega-lite\"});\n",
       "</script>"
      ],
      "text/plain": [
       "alt.VConcatChart(...)"
      ]
     },
     "execution_count": 21,
     "metadata": {},
     "output_type": "execute_result"
    }
   ],
   "source": [
    "def chart(data):\n",
    "    return alt.Chart(data).mark_point(size=50).encode(\n",
    "        alt.X('z/L bin:Q').scale(type='log').title('z/L'),\n",
    "        alt.Color('category:N'),\n",
    "        alt.Shape('synoptic_wind_speed:N'),\n",
    "    ).properties(width=200, height=150)\n",
    "stable_base_chart = chart(\n",
    "    src_scaling_stable[\n",
    "        src_scaling_stable['z/L bin'] > 0.0002\n",
    "    ][src_scaling_stable['z/L bin'] < 8]\n",
    ")\n",
    "unstable_base_chart = chart(\n",
    "    src_scaling_unstable[\n",
    "        src_scaling_unstable['z/L bin'] < -0.0002\n",
    "    ][src_scaling_unstable['z/L bin'] > -8]\n",
    ")\n",
    "(\n",
    "    (\n",
    "        unstable_model_phi_w_chart + unstable_base_chart.encode(alt.Y('mean(Phi_w):Q').title('𝚽w')) \n",
    "        |\n",
    "        stable_model_phi_w_chart + stable_base_chart.encode(alt.Y('mean(Phi_w):Q').title('𝚽w')) \n",
    "    ).resolve_scale(y='shared') & (\n",
    "        (\n",
    "            unstable_model_phi_u_chart + unstable_base_chart.encode(alt.Y('mean(Phi_u):Q').title('𝚽u'))\n",
    "            |\n",
    "            stable_model_phi_u_chart + stable_base_chart.encode(alt.Y('mean(Phi_u):Q').title('𝚽u'))\n",
    "        ).resolve_scale(y='shared') & (\n",
    "            unstable_model_phi_u_chart + unstable_base_chart.encode(alt.Y('mean(Phi_v):Q').title('𝚽v'))\n",
    "            |\n",
    "            stable_model_phi_u_chart + stable_base_chart.encode(alt.Y('mean(Phi_v):Q').title('𝚽v'))\n",
    "        ).resolve_scale(y='shared')\n",
    "    ).resolve_scale(y='shared')\n",
    ").configure_axis(grid=False)"
   ]
  }
 ],
 "metadata": {
  "kernelspec": {
   "display_name": "sublimationofsnow",
   "language": "python",
   "name": "python3"
  },
  "language_info": {
   "codemirror_mode": {
    "name": "ipython",
    "version": 3
   },
   "file_extension": ".py",
   "mimetype": "text/x-python",
   "name": "python",
   "nbconvert_exporter": "python",
   "pygments_lexer": "ipython3",
   "version": "3.12.5"
  }
 },
 "nbformat": 4,
 "nbformat_minor": 2
}
