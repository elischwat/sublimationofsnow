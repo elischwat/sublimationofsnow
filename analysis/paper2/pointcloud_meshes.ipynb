{
 "cells": [
  {
   "cell_type": "code",
   "execution_count": null,
   "metadata": {},
   "outputs": [],
   "source": [
    "import trimesh\n",
    "import open3d as o3d\n",
    "import correct_lidar\n",
    "import numpy as np"
   ]
  },
  {
   "cell_type": "markdown",
   "metadata": {},
   "source": [
    "Open clear day scan (2022-12-12 0800, which is actually at 0100)"
   ]
  },
  {
   "cell_type": "code",
   "execution_count": null,
   "metadata": {},
   "outputs": [],
   "source": [
    "path = \"/Users/elischwat/Development/data/sublimationofsnow/lidar_raw/l1/2022-12-12/2022-12-12_08-00-15.lvx\""
   ]
  },
  {
   "cell_type": "code",
   "execution_count": null,
   "metadata": {},
   "outputs": [],
   "source": [
    "# Create ply version\n",
    "points = correct_lidar.load_first_file('l1', file_search=path)\n",
    "pcd = o3d.geometry.PointCloud()\n",
    "pcd.points = o3d.utility.Vector3dVector(points.T)\n",
    "o3d.io.write_point_cloud(\n",
    "    filename=path.replace(\".lvx\", \".ply\"), \n",
    "    pointcloud=pcd\n",
    ")"
   ]
  },
  {
   "cell_type": "code",
   "execution_count": null,
   "metadata": {},
   "outputs": [],
   "source": [
    "path = \"/Users/elischwat/Development/data/sublimationofsnow/lidar_raw/l1/2022-12-12/2022-12-12_08-00-15.ply\""
   ]
  },
  {
   "cell_type": "code",
   "execution_count": null,
   "metadata": {},
   "outputs": [],
   "source": [
    "pcd = o3d.io.read_point_cloud(path)\n",
    "o3d.visualization.draw_geometries([pcd])"
   ]
  },
  {
   "cell_type": "code",
   "execution_count": null,
   "metadata": {},
   "outputs": [],
   "source": [
    "points_array = np.asarray(pcd.points)"
   ]
  },
  {
   "cell_type": "markdown",
   "metadata": {},
   "source": [
    "Test using meshes for two points, and union them"
   ]
  },
  {
   "cell_type": "code",
   "execution_count": null,
   "metadata": {},
   "outputs": [],
   "source": [
    "sphere1 = trimesh.primitives.Sphere(radius = 0.2, center=points_array[0], subdivisions = 1)\n",
    "sphere2 = trimesh.primitives.Sphere(radius = 0.2, center=points_array[1], subdivisions = 1)\n",
    "union_sphere = sphere1.union(sphere2, check_volume = False)\n",
    "\n",
    "union_sphere.show()"
   ]
  },
  {
   "cell_type": "markdown",
   "metadata": {},
   "source": [
    "Test the contains function"
   ]
  },
  {
   "cell_type": "code",
   "execution_count": null,
   "metadata": {},
   "outputs": [],
   "source": [
    "union_sphere.contains(points_array[:5])"
   ]
  },
  {
   "cell_type": "markdown",
   "metadata": {},
   "source": [
    "Now do the same for lots of points"
   ]
  },
  {
   "cell_type": "code",
   "execution_count": null,
   "metadata": {},
   "outputs": [],
   "source": [
    "blob = trimesh.primitives.Sphere(radius = 0.25, center=points_array[0], subdivisions = 1)\n",
    "for pt in points_array[1:1000]:\n",
    "    new_sphere = trimesh.primitives.Sphere(radius = 0.25, center=pt, subdivisions = 1)\n",
    "    blob = blob.union(new_sphere, check_volume = False)"
   ]
  },
  {
   "cell_type": "markdown",
   "metadata": {},
   "source": [
    "That was slow. Lets split it into two blobs, and merge those"
   ]
  },
  {
   "cell_type": "code",
   "execution_count": null,
   "metadata": {},
   "outputs": [],
   "source": [
    "blob = trimesh.primitives.Sphere(radius = 0.25, center=points_array[0], subdivisions = 1)\n",
    "for pt in points_array[1:500]:\n",
    "    new_sphere = trimesh.primitives.Sphere(radius = 0.25, center=pt, subdivisions = 1)\n",
    "    blob = blob.union(new_sphere, check_volume = False)"
   ]
  },
  {
   "cell_type": "code",
   "execution_count": null,
   "metadata": {},
   "outputs": [],
   "source": [
    "blob2 = trimesh.primitives.Sphere(radius = 0.25, center=points_array[500], subdivisions = 1)\n",
    "for pt in points_array[500:1000]:\n",
    "    new_sphere = trimesh.primitives.Sphere(radius = 0.25, center=pt, subdivisions = 1)\n",
    "    blob2 = blob2.union(new_sphere, check_volume = False)"
   ]
  },
  {
   "cell_type": "code",
   "execution_count": null,
   "metadata": {},
   "outputs": [],
   "source": [
    "blob.union(blob2, check_volume = False)"
   ]
  },
  {
   "cell_type": "markdown",
   "metadata": {},
   "source": [
    "That's a good bit faster... do i need to implement my own \"cascaded union\""
   ]
  },
  {
   "cell_type": "markdown",
   "metadata": {},
   "source": [
    "Let's just brute force a huge batch and see what happens."
   ]
  },
  {
   "cell_type": "code",
   "execution_count": null,
   "metadata": {},
   "outputs": [],
   "source": [
    "blob = trimesh.primitives.Sphere(radius = 0.25, center=points_array[0], subdivisions = 1)\n",
    "for pt in points_array[1:]:\n",
    "    new_sphere = trimesh.primitives.Sphere(radius = 0.25, center=pt, subdivisions = 1)\n",
    "    blob = blob.union(new_sphere, check_volume = False)"
   ]
  },
  {
   "cell_type": "markdown",
   "metadata": {},
   "source": [
    "Use this to simplify the geometry"
   ]
  },
  {
   "cell_type": "code",
   "execution_count": null,
   "metadata": {},
   "outputs": [],
   "source": [
    "blob.simplify_quadric_decimation(1000).show()"
   ]
  }
 ],
 "metadata": {
  "kernelspec": {
   "display_name": "sublimationofsnow",
   "language": "python",
   "name": "python3"
  },
  "language_info": {
   "codemirror_mode": {
    "name": "ipython",
    "version": 3
   },
   "file_extension": ".py",
   "mimetype": "text/x-python",
   "name": "python",
   "nbconvert_exporter": "python",
   "pygments_lexer": "ipython3",
   "version": "3.1.0"
  }
 },
 "nbformat": 4,
 "nbformat_minor": 2
}
