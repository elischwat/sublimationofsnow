{
 "cells": [
  {
   "cell_type": "code",
   "execution_count": null,
   "metadata": {},
   "outputs": [],
   "source": [
    "import xarray as xr\n",
    "import os\n",
    "import numpy as np\n",
    "import matplotlib.pyplot as plt\n",
    "import pandas as pd\n",
    "from matplotlib.animation import FuncAnimation"
   ]
  },
  {
   "cell_type": "markdown",
   "metadata": {},
   "source": [
    "# Open simulation netcdf files"
   ]
  },
  {
   "cell_type": "code",
   "execution_count": null,
   "metadata": {},
   "outputs": [],
   "source": [
    "data_dir = \"/Users/elischwat/Development/data/sublimationofsnow/lattice_boltzmann_rotors/ethan_output/output_eastriver\""
   ]
  },
  {
   "cell_type": "code",
   "execution_count": null,
   "metadata": {},
   "outputs": [],
   "source": [
    "# List all files in the data directory\n",
    "files = [f for f in os.listdir(data_dir) if f.endswith('.nc')]\n",
    "\n",
    "# Function to extract timestep from filename\n",
    "def extract_timestep(filename):\n",
    "    # Assuming the timestep is the last 4 characters before the file extension\n",
    "    return int(filename[-7:-3])\n",
    "\n",
    "# Dictionary to store data with new time index\n",
    "data_with_time_index = {}\n",
    "\n",
    "# Process each file\n",
    "for file in files:\n",
    "    # Extract timestep\n",
    "    timestep = extract_timestep(file)\n",
    "    \n",
    "    # Open the file\n",
    "    file_path = os.path.join(data_dir, file)\n",
    "    data = xr.open_dataset(file_path)\n",
    "    \n",
    "    # Create a new time index based on the timestep\n",
    "    data = data.assign_coords(time=timestep)\n",
    "    \n",
    "    # Store the data\n",
    "    data_with_time_index[file] = data\n",
    "\n",
    "# Now data_with_time_index contains all the data with the new time index"
   ]
  },
  {
   "cell_type": "code",
   "execution_count": null,
   "metadata": {},
   "outputs": [],
   "source": [
    "output_dataset = xr.concat(data_with_time_index.values(), dim='time').sortby('time')"
   ]
  },
  {
   "cell_type": "markdown",
   "metadata": {},
   "source": [
    "## Organize the simulation results"
   ]
  },
  {
   "cell_type": "code",
   "execution_count": null,
   "metadata": {},
   "outputs": [],
   "source": [
    "# Select data where y=1 and y=2 (the y index represents the velocity component)\n",
    "u_data = output_dataset.sel(y=0).sel(r=0)\n",
    "v_data = output_dataset.sel(y=1).sel(r=0)\n",
    "\n",
    "# combine the u and v into one dataset\n",
    "vel_data = xr.merge([\n",
    "    u_data.rename_vars(u='u'),\n",
    "    v_data.rename_vars(u='v')\n",
    "])"
   ]
  },
  {
   "cell_type": "markdown",
   "metadata": {},
   "source": [
    "### Open the terrain profile"
   ]
  },
  {
   "cell_type": "code",
   "execution_count": null,
   "metadata": {},
   "outputs": [],
   "source": [
    "profile_ds = xr.open_dataset('profile.nc')\n",
    "profile_ds.to_dataframe().index.diff().unique()"
   ]
  },
  {
   "cell_type": "code",
   "execution_count": null,
   "metadata": {},
   "outputs": [],
   "source": [
    "# Assign coordinates to transform from simulation coordinates to real space. \n",
    "# Ethan extracted the profile dataset from -1500 units to +5000 units, every 3rd cell.\n",
    "# dx = 1.99993 (from my profile, see above). So to add coordinates to the simulated velocity data, do the following:\n",
    "\n",
    "dx_profile = 1.99993\n",
    "dx_simulation = dx_profile * 3\n",
    "\n",
    "vel_data['x'] = (vel_data.x * dx_simulation).values - 1500*dx_profile\n",
    "vel_data['z'] = (vel_data.z * dx_simulation).values"
   ]
  },
  {
   "cell_type": "markdown",
   "metadata": {},
   "source": [
    "## Plot quivers"
   ]
  },
  {
   "cell_type": "code",
   "execution_count": null,
   "metadata": {},
   "outputs": [],
   "source": [
    "X, Z = np.meshgrid(vel_data.x, vel_data.z)\n",
    "\n",
    "SKIP = 6\n",
    "plt.figure(figsize=(20,6))\n",
    "plt.quiver(\n",
    "    X[::SKIP, ::SKIP],\n",
    "    Z[::SKIP, ::SKIP],\n",
    "    vel_data.isel(time=0).u.values[::SKIP, ::SKIP],\n",
    "    vel_data.isel(time=0).v.values[::SKIP, ::SKIP],\n",
    "    scale=250,\n",
    "    width=0.0005\n",
    ")\n",
    "plt.fill_between(\n",
    "    profile_ds.data.to_dataframe().index,\n",
    "    -20,\n",
    "    profile_ds.data.to_dataframe().data,\n",
    "    color='grey'\n",
    ")\n",
    "plt.xlim(-2500, 4500)\n",
    "plt.gca().set_aspect('equal')\n",
    "plt.show()"
   ]
  },
  {
   "cell_type": "markdown",
   "metadata": {},
   "source": [
    "# Open real doppler lidar scan, examine data organization"
   ]
  },
  {
   "cell_type": "code",
   "execution_count": null,
   "metadata": {},
   "outputs": [],
   "source": [
    "# Open up an actual scan, mimic plotting from another notebok\n",
    "actual_scan_file = '/Users/elischwat/Development/data/sublimationofsnow/gucdlrhiM1.b1/gucdlrhiM1.b1.20230419.021833.cdf'\n",
    "actual_scan_ds = xr.open_dataset(actual_scan_file)\n",
    "actual_scan_ds['x'] = actual_scan_ds['range']*np.cos(np.deg2rad(actual_scan_ds['elevation']))\n",
    "actual_scan_ds['z'] = actual_scan_ds['range']*np.sin(np.deg2rad(actual_scan_ds['elevation']))\n",
    "actual_scan_ds = actual_scan_ds.sel(range=slice(0,4000))\n",
    "actual_scan_ds = actual_scan_ds.assign(x = - actual_scan_ds.x )"
   ]
  },
  {
   "cell_type": "markdown",
   "metadata": {},
   "source": [
    "## Plot it. Code from another notebook"
   ]
  },
  {
   "cell_type": "code",
   "execution_count": null,
   "metadata": {},
   "outputs": [],
   "source": [
    "plt.subplots(figsize=(9.6, 4))\n",
    "plt.contourf(\n",
    "    actual_scan_ds['x'].values.T, actual_scan_ds['z'].values.T,\n",
    "    actual_scan_ds['radial_velocity'].values,\n",
    "    cmap='gist_ncar',\n",
    "    levels=50\n",
    ")\n",
    "plt.colorbar()\n",
    "plt.gca().set_aspect('equal')\n",
    "name = actual_scan_file.split('gucdlrhiM1.b1/gucdlrhiM1.b1.')[1][:-4]\n",
    "plt.title(name)\n",
    "plt.xlim(-2500,3000)\n",
    "plt.ylim(0,2500)\n",
    "plt.show()\n"
   ]
  },
  {
   "cell_type": "markdown",
   "metadata": {},
   "source": [
    "## Examine real scan elevation angle values"
   ]
  },
  {
   "cell_type": "code",
   "execution_count": null,
   "metadata": {},
   "outputs": [],
   "source": [
    "np.unique(actual_scan_ds.elevation)"
   ]
  },
  {
   "cell_type": "code",
   "execution_count": null,
   "metadata": {},
   "outputs": [],
   "source": [
    "sorted(np.diff(sorted(np.unique(actual_scan_ds.elevation))))"
   ]
  },
  {
   "cell_type": "markdown",
   "metadata": {},
   "source": [
    "We can see the the doppler lidar is programed to scan every 1˚ between 0 and 180˚ but it doesn't always have an exact angle, it only varies by ~0.01˚ though. So we set our simulated doppler lidar scan to do that."
   ]
  },
  {
   "cell_type": "code",
   "execution_count": null,
   "metadata": {},
   "outputs": [],
   "source": [
    "SIMULATED_DOPPLER_LIDAR_ELEVATION_VALUES = np.linspace(0,180, 181)\n",
    "SIMULATED_DOPPLER_LIDAR_ELEVATION_VALUES"
   ]
  },
  {
   "cell_type": "markdown",
   "metadata": {},
   "source": [
    "## Examine real scan range values"
   ]
  },
  {
   "cell_type": "markdown",
   "metadata": {},
   "source": [
    "For simulating the range values, we just take the range values from the actual scan, and use them exactly. The real doppler lidar maximum range is really too high for our simulation, we cut it off at a max of 50000"
   ]
  },
  {
   "cell_type": "code",
   "execution_count": null,
   "metadata": {},
   "outputs": [],
   "source": [
    "np.unique(actual_scan_ds.range)"
   ]
  },
  {
   "cell_type": "code",
   "execution_count": null,
   "metadata": {},
   "outputs": [],
   "source": [
    "SIMULATED_DOPPLER_LIDAR_RANGE_VALUES = np.sort(np.unique(actual_scan_ds.range))\n",
    "SIMULATED_DOPPLER_LIDAR_RANGE_VALUES = SIMULATED_DOPPLER_LIDAR_RANGE_VALUES[SIMULATED_DOPPLER_LIDAR_RANGE_VALUES < 5000]\n",
    "SIMULATED_DOPPLER_LIDAR_RANGE_VALUES"
   ]
  },
  {
   "cell_type": "markdown",
   "metadata": {},
   "source": [
    "## Examine real scan time values"
   ]
  },
  {
   "cell_type": "code",
   "execution_count": null,
   "metadata": {},
   "outputs": [],
   "source": [
    "np.unique(actual_scan_ds.time.diff(dim='time'))/10**9"
   ]
  },
  {
   "cell_type": "code",
   "execution_count": null,
   "metadata": {},
   "outputs": [],
   "source": [
    "(actual_scan_ds.time.max() - actual_scan_ds.time.min()) / 10**9"
   ]
  },
  {
   "cell_type": "markdown",
   "metadata": {},
   "source": [
    "ok so it takes about 1 second for each range value"
   ]
  },
  {
   "cell_type": "markdown",
   "metadata": {},
   "source": [
    "# Simulate doppler lidar scan (one frame)"
   ]
  },
  {
   "cell_type": "markdown",
   "metadata": {},
   "source": [
    "We've adjusted the simulation data into real space, so the doppler lidar is at 0,0."
   ]
  },
  {
   "cell_type": "code",
   "execution_count": null,
   "metadata": {},
   "outputs": [],
   "source": [
    "vel_data_one_frame = vel_data.isel(time=0)\n",
    "vel_data_one_frame"
   ]
  },
  {
   "cell_type": "code",
   "execution_count": null,
   "metadata": {},
   "outputs": [],
   "source": [
    "# define function for converting from radial to polar coordinates\n",
    "# remember: WE GO COUNTERCLOCKWISE FROM 0˚ on the unit circle\n",
    "def cartesian_convert(elevation, range):\n",
    "    x = range*np.cos(np.deg2rad(elevation))\n",
    "    y = range*np.sin(np.deg2rad(elevation))\n",
    "    return x, y"
   ]
  },
  {
   "cell_type": "code",
   "execution_count": null,
   "metadata": {},
   "outputs": [],
   "source": [
    "time_seconds = 0\n",
    "df_list = []\n",
    "# iterate over elevation values and range values\n",
    "for elevation in SIMULATED_DOPPLER_LIDAR_ELEVATION_VALUES:\n",
    "    for range in SIMULATED_DOPPLER_LIDAR_RANGE_VALUES:\n",
    "        x, z = cartesian_convert(elevation, range)\n",
    "        u = vel_data_one_frame.u.interp(x=x, z=z, method='linear')\n",
    "        v = vel_data_one_frame.v.interp(x=x, z=z, method='linear')\n",
    "        radial_velocity_magnitude = u*np.cos(np.deg2rad(elevation)) + v*np.sin(np.deg2rad(elevation))\n",
    "\n",
    "        df_list.append({\n",
    "            'u'         : u.values.item(),\n",
    "            'v'         : v.values.item(),\n",
    "            'elevation' : elevation,\n",
    "            'range'     : range,\n",
    "            'time'      : time_seconds,\n",
    "            'x'         : x,\n",
    "            'z'         : z,\n",
    "            'radial_velocity'     : radial_velocity_magnitude.values.item()\n",
    "        })\n",
    "    # iterate 1 second each new elevation angle\n",
    "    time_seconds += 1"
   ]
  },
  {
   "cell_type": "code",
   "execution_count": null,
   "metadata": {},
   "outputs": [],
   "source": [
    "simulated_scan_df = pd.DataFrame(df_list)"
   ]
  },
  {
   "cell_type": "markdown",
   "metadata": {},
   "source": [
    "## Plot the simulated scan (scatter plot)"
   ]
  },
  {
   "cell_type": "code",
   "execution_count": null,
   "metadata": {},
   "outputs": [],
   "source": [
    "plt.figure(figsize=(20,6))\n",
    "plt.scatter(\n",
    "    simulated_scan_df.x, simulated_scan_df.z, c=simulated_scan_df.radial_velocity,\n",
    "    cmap='gist_ncar',\n",
    "    # cmap='RdYlBu',\n",
    "    vmin=-4,\n",
    "    vmax=4\n",
    ")\n",
    "plt.colorbar(label='radial velocity (m/s)')\n",
    "plt.fill_between(\n",
    "    profile_ds.data.to_dataframe().index,\n",
    "    -20,\n",
    "    profile_ds.data.to_dataframe().data,\n",
    "    color='grey'\n",
    ")\n",
    "plt.xlim(-2500, 4500)\n",
    "plt.gca().set_aspect('equal')\n",
    "plt.show()"
   ]
  },
  {
   "cell_type": "markdown",
   "metadata": {},
   "source": [
    "## Plot the simulated scan (contourf plot)"
   ]
  },
  {
   "cell_type": "markdown",
   "metadata": {},
   "source": [
    "We need the actual scan and simulated scan to match, in terms of data structure..."
   ]
  },
  {
   "cell_type": "code",
   "execution_count": null,
   "metadata": {},
   "outputs": [],
   "source": [
    "simulated_scan_ds = simulated_scan_df.set_index(['time', 'range']).to_xarray()\n",
    "# to match the real scan \n",
    "simulated_scan_ds = simulated_scan_ds.sel(range=slice(0,4000))"
   ]
  },
  {
   "cell_type": "markdown",
   "metadata": {},
   "source": [
    "ACTUAL SCAN PLOTTING CODE"
   ]
  },
  {
   "cell_type": "code",
   "execution_count": null,
   "metadata": {},
   "outputs": [],
   "source": [
    "plt.figure(figsize=(20,6))\n",
    "plt.contourf(\n",
    "    actual_scan_ds['x'].values.T, actual_scan_ds['z'].values.T,\n",
    "    actual_scan_ds['radial_velocity'].values,\n",
    "    cmap='gist_ncar',\n",
    "    levels=50\n",
    ")\n",
    "plt.colorbar(label='Radial velocity (m/s)')\n",
    "name = actual_scan_file.split('gucdlrhiM1.b1/gucdlrhiM1.b1.')[1][:-4]\n",
    "plt.title('Real scan from ' + name)\n",
    "\n",
    "plt.fill_between(\n",
    "    profile_ds.data.to_dataframe().index,\n",
    "    -20,\n",
    "    profile_ds.data.to_dataframe().data,\n",
    "    color='grey'\n",
    ")\n",
    "plt.xlim(-2500,3000)\n",
    "plt.ylim(0,2500)\n",
    "plt.gca().set_aspect('equal')\n",
    "plt.show()"
   ]
  },
  {
   "cell_type": "code",
   "execution_count": null,
   "metadata": {},
   "outputs": [],
   "source": [
    "plt.figure(figsize=(20,6))\n",
    "plt.contourf(\n",
    "    simulated_scan_ds['x'].values.T, simulated_scan_ds['z'].values.T,\n",
    "    simulated_scan_ds['radial_velocity'].values.T,\n",
    "    cmap='gist_ncar',\n",
    "    levels=50,\n",
    "    vmin=-4,\n",
    "    vmax=4\n",
    ")\n",
    "plt.colorbar(label='Radial velocity (m/s)')\n",
    "name = actual_scan_file.split('gucdlrhiM1.b1/gucdlrhiM1.b1.')[1][:-4]\n",
    "plt.title('Simulated scan from idealized simulation')\n",
    "plt.fill_between(\n",
    "    profile_ds.data.to_dataframe().index,\n",
    "    -20,\n",
    "    profile_ds.data.to_dataframe().data,\n",
    "    color='grey'\n",
    ")\n",
    "plt.xlim(-2500,3000)\n",
    "plt.ylim(0,2500)\n",
    "plt.gca().set_aspect('equal')\n",
    "plt.show()"
   ]
  },
  {
   "cell_type": "code",
   "execution_count": null,
   "metadata": {},
   "outputs": [],
   "source": [
    "X, Z = np.meshgrid(vel_data.x, vel_data.z)\n",
    "\n",
    "SKIP = 6\n",
    "plt.figure(figsize=(20,6))\n",
    "plt.quiver(\n",
    "    X[::SKIP, ::SKIP],\n",
    "    Z[::SKIP, ::SKIP],\n",
    "    vel_data.isel(time=0).u.values[::SKIP, ::SKIP],\n",
    "    vel_data.isel(time=0).v.values[::SKIP, ::SKIP],\n",
    "    scale=250,\n",
    "    width=0.0005\n",
    ")\n",
    "plt.fill_between(\n",
    "    profile_ds.data.to_dataframe().index,\n",
    "    -20,\n",
    "    profile_ds.data.to_dataframe().data,\n",
    "    color='grey'\n",
    ")\n",
    "plt.xlim(-2500,3000)\n",
    "plt.ylim(0,2500)\n",
    "plt.gca().set_aspect('equal')\n",
    "plt.show()"
   ]
  }
 ],
 "metadata": {
  "kernelspec": {
   "display_name": "sublimationofsnow",
   "language": "python",
   "name": "python3"
  },
  "language_info": {
   "codemirror_mode": {
    "name": "ipython",
    "version": 3
   },
   "file_extension": ".py",
   "mimetype": "text/x-python",
   "name": "python",
   "nbconvert_exporter": "python",
   "pygments_lexer": "ipython3",
   "version": "3.12.5"
  }
 },
 "nbformat": 4,
 "nbformat_minor": 2
}
