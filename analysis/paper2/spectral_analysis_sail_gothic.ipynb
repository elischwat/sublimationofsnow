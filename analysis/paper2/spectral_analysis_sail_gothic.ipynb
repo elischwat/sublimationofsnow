{
 "cells": [
  {
   "cell_type": "code",
   "execution_count": 1,
   "metadata": {},
   "outputs": [],
   "source": [
    "import numpy as np\n",
    "import xarray as xr\n",
    "\n",
    "import datetime as dt\n",
    "import pandas as pd\n",
    "\n",
    "import matplotlib.pyplot as plt\n",
    "\n",
    "import altair as alt\n",
    "alt.data_transformers.enable('json')\n",
    "\n",
    "from sublimpy import utils\n",
    "import glob\n",
    "import pytz\n",
    "from scipy.signal import welch, csd\n",
    "from scipy.stats import chi2"
   ]
  },
  {
   "cell_type": "markdown",
   "metadata": {},
   "source": [
    "Open and wrangle the raw SAIL EC data"
   ]
  },
  {
   "cell_type": "code",
   "execution_count": 2,
   "metadata": {},
   "outputs": [],
   "source": [
    "DATE = '20230418'"
   ]
  },
  {
   "cell_type": "code",
   "execution_count": 3,
   "metadata": {},
   "outputs": [],
   "source": [
    "fast_data_file_path = f\"/Users/elischwat/Development/data/sublimationofsnow/sail_fast_ecor_data/gucecorM1.00.{DATE}.000000.raw/**_sonic.raw\"\n",
    "fast_data_files = glob.glob(fast_data_file_path)"
   ]
  },
  {
   "cell_type": "code",
   "execution_count": 4,
   "metadata": {},
   "outputs": [],
   "source": [
    "def read_and_process_raw_sonic(file):\n",
    "    high_rate_df = pd.read_csv(file, skiprows=1, header=None).rename(columns = \n",
    "    dict(zip(range(0,10), ['Timestamp',\n",
    "        'u',\n",
    "        'v',\n",
    "        'w',\n",
    "        'windspeed units (M = m/s)',\n",
    "        'Speed of Sound',\n",
    "        'Status (00 means okay)',\n",
    "        'CO2 analog voltage output',\n",
    "        'H20 analog voltage output',\n",
    "        'Checksum',]))\n",
    "    )\n",
    "    high_rate_df['Timestamp'] = pd.to_datetime(\n",
    "        f'{DATE} ' + high_rate_df['Timestamp'].str[:-3],\n",
    "        format=\"%Y%m%d %H:%M:%S.%f\"\n",
    "    )\n",
    "    return high_rate_df"
   ]
  },
  {
   "cell_type": "code",
   "execution_count": 5,
   "metadata": {},
   "outputs": [],
   "source": [
    "df = pd.concat([read_and_process_raw_sonic(f) for f in sorted(fast_data_files)]).reset_index(drop=True)\n",
    "# df = df.sort_values('Timestamp')\n",
    "df = df.rename(columns = {'Timestamp': 'time'})"
   ]
  },
  {
   "cell_type": "code",
   "execution_count": 9,
   "metadata": {},
   "outputs": [
    {
     "data": {
      "text/plain": [
       "-0.7738947370153748"
      ]
     },
     "execution_count": 9,
     "metadata": {},
     "output_type": "execute_result"
    }
   ],
   "source": [
    "import scipy.stats\n",
    "scipy.stats.skew(df['w'].dropna())"
   ]
  },
  {
   "cell_type": "code",
   "execution_count": 6,
   "metadata": {},
   "outputs": [
    {
     "data": {
      "text/plain": [
       "<matplotlib.lines.Line2D at 0x178eab050>"
      ]
     },
     "execution_count": 6,
     "metadata": {},
     "output_type": "execute_result"
    },
    {
     "data": {
      "image/png": "[encoded data removed]",
      "text/plain": [
       "<Figure size 640x480 with 1 Axes>"
      ]
     },
     "metadata": {},
     "output_type": "display_data"
    }
   ],
   "source": [
    "df['w'].plot.hist(bins=500)\n",
    "plt.xlim(-2,2)\n",
    "plt.axvline(0, color='red')"
   ]
  },
  {
   "cell_type": "code",
   "execution_count": 15,
   "metadata": {},
   "outputs": [],
   "source": [
    "df['w'] = df['w'].ffill()"
   ]
  },
  {
   "cell_type": "code",
   "execution_count": 16,
   "metadata": {},
   "outputs": [],
   "source": [
    "df_day = df[\n",
    "    (df['time'] >= f'{DATE} 1500')\n",
    "    &\n",
    "    (df['time'] <  f'{DATE} 2300')\n",
    "]\n",
    "\n",
    "df_early_morn = df[\n",
    "    (df['time'] < f'{DATE} 1500')\n",
    "]\n",
    "\n",
    "df_night = df[\n",
    "    (df['time'] >  f'{DATE} 2300')\n",
    "]\n",
    "\n",
    "\n",
    "\n",
    "\n",
    "# df_day = df[\n",
    "#     (df['time'] >= '2023-04-18 1500')\n",
    "#     &\n",
    "#     (df['time'] <  '2023-04-18 2300')\n",
    "# ]\n",
    "\n",
    "# df_early_morn = df[\n",
    "#     (df['time'] < '2023-04-18 1500')\n",
    "# ]\n",
    "\n",
    "# df_night = df[\n",
    "#     (df['time'] >  '2023-04-18 2300')\n",
    "# ]"
   ]
  },
  {
   "cell_type": "markdown",
   "metadata": {},
   "source": [
    "Calculate MRD"
   ]
  },
  {
   "cell_type": "code",
   "execution_count": 31,
   "metadata": {},
   "outputs": [],
   "source": [
    "def newmrd(data_a, data_b, M, Mx):\n",
    "    D = np.zeros(M - Mx)\n",
    "    Dstd = np.copy(D)\n",
    "    data_a2 = np.copy(data_a)\n",
    "    data_b2 = np.copy(data_b)\n",
    "    for ims in range(M - Mx + 1):\n",
    "        ms = M - ims\n",
    "        l = 2 ** ms\n",
    "        nw = round((2 ** M) / l)\n",
    "        wmeans_a = np.zeros(nw)\n",
    "        wmeans_b = np.copy(wmeans_a)\n",
    "        for i in range(nw):\n",
    "            k = round(i * l)\n",
    "            wmeans_a[i] = np.mean(data_a2[k:(i+1)*l])\n",
    "            wmeans_b[i] = np.mean(data_b2[k:(i+1)*l])\n",
    "            data_a2[k:(i+1)*l] -= wmeans_a[i]\n",
    "            data_b2[k:(i+1)*l] -= wmeans_b[i]\n",
    "        if nw > 1:\n",
    "            D[ms] = np.mean(wmeans_a * wmeans_b)\n",
    "            Dstd[ms] = np.std(wmeans_a * wmeans_b, ddof=0)\n",
    "    return D, Dstd\n",
    "\n",
    "def calculate_mrd_for_df(df, VAR1, VAR2):\n",
    "    M = int(np.floor(np.log2(len(df))))\n",
    "    print(f\"Got data of length {len(df)}. using M = {M}\")\n",
    "    timestep = (\n",
    "        df['time'].iloc[1] - df['time'].iloc[0]\n",
    "    ).total_seconds() * 1000\n",
    "    print(f\"Timestep of fast data is: {timestep}\")\n",
    "    mrd_x = np.array([\n",
    "        dt.timedelta(milliseconds=2**i * timestep).total_seconds() \n",
    "        for i in range(1, M+1)\n",
    "    ])\n",
    "    result = newmrd(\n",
    "        df[VAR1], \n",
    "        df[VAR2],\n",
    "        M, \n",
    "        0\n",
    "    )\n",
    "    return pd.DataFrame({\n",
    "        'tau':      mrd_x,\n",
    "        'Co':       result[0],\n",
    "        'std':      result[1]\n",
    "    })"
   ]
  },
  {
   "cell_type": "code",
   "execution_count": 18,
   "metadata": {},
   "outputs": [
    {
     "name": "stdout",
     "output_type": "stream",
     "text": [
      "Got data of length 288006. using M = 18\n",
      "Timestep of fast data is: 100.0\n",
      "Got data of length 36000. using M = 15\n",
      "Timestep of fast data is: 90.0\n"
     ]
    }
   ],
   "source": [
    "mrd_day_df = calculate_mrd_for_df(df_day, 'w', 'w').assign(\"variable = 'w'w'\")\n",
    "mrd_night_df = calculate_mrd_for_df(df_night, 'w', 'w').assign(\"variable = 'w'w'\")\n",
    "\n",
    "mrd_df = pd.concat([\n",
    "    mrd_day_df.assign(type = 'day'),\n",
    "    mrd_night_df.assign(type = 'night')\n",
    "])\n",
    "\n",
    "mrd_df.to_parquet(f\"mrds_{DATE}.parquet\")"
   ]
  },
  {
   "cell_type": "code",
   "execution_count": 19,
   "metadata": {},
   "outputs": [],
   "source": [
    "mrd_df = pd.concat([\n",
    "    pd.read_parquet(\"mrds_20230415.parquet\").assign(date = '20230415'),\n",
    "    pd.read_parquet(\"mrds_20230418.parquet\").assign(date = '20230418')\n",
    "])"
   ]
  },
  {
   "cell_type": "code",
   "execution_count": 21,
   "metadata": {},
   "outputs": [
    {
     "data": {
      "text/html": [
       "\n",
       "<style>\n",
       "  #altair-viz-863e5564a0f840bf8148573b5f44ed6e.vega-embed {\n",
       "    width: 100%;\n",
       "    display: flex;\n",
       "  }\n",
       "\n",
       "  #altair-viz-863e5564a0f840bf8148573b5f44ed6e.vega-embed details,\n",
       "  #altair-viz-863e5564a0f840bf8148573b5f44ed6e.vega-embed details summary {\n",
       "    position: relative;\n",
       "  }\n",
       "</style>\n",
       "<div id=\"altair-viz-863e5564a0f840bf8148573b5f44ed6e\"></div>\n",
       "<script type=\"text/javascript\">\n",
       "  var VEGA_DEBUG = (typeof VEGA_DEBUG == \"undefined\") ? {} : VEGA_DEBUG;\n",
       "  (function(spec, embedOpt){\n",
       "    let outputDiv = document.currentScript.previousElementSibling;\n",
       "    if (outputDiv.id !== \"altair-viz-863e5564a0f840bf8148573b5f44ed6e\") {\n",
       "      outputDiv = document.getElementById(\"altair-viz-863e5564a0f840bf8148573b5f44ed6e\");\n",
       "    }\n",
       "    const paths = {\n",
       "      \"vega\": \"https://cdn.jsdelivr.net/npm/vega@5?noext\",\n",
       "      \"vega-lib\": \"https://cdn.jsdelivr.net/npm/vega-lib?noext\",\n",
       "      \"vega-lite\": \"https://cdn.jsdelivr.net/npm/vega-lite@5.20.1?noext\",\n",
       "      \"vega-embed\": \"https://cdn.jsdelivr.net/npm/vega-embed@6?noext\",\n",
       "    };\n",
       "\n",
       "    function maybeLoadScript(lib, version) {\n",
       "      var key = `${lib.replace(\"-\", \"\")}_version`;\n",
       "      return (VEGA_DEBUG[key] == version) ?\n",
       "        Promise.resolve(paths[lib]) :\n",
       "        new Promise(function(resolve, reject) {\n",
       "          var s = document.createElement('script');\n",
       "          document.getElementsByTagName(\"head\")[0].appendChild(s);\n",
       "          s.async = true;\n",
       "          s.onload = () => {\n",
       "            VEGA_DEBUG[key] = version;\n",
       "            return resolve(paths[lib]);\n",
       "          };\n",
       "          s.onerror = () => reject(`Error loading script: ${paths[lib]}`);\n",
       "          s.src = paths[lib];\n",
       "        });\n",
       "    }\n",
       "\n",
       "    function showError(err) {\n",
       "      outputDiv.innerHTML = `<div class=\"error\" style=\"color:red;\">${err}</div>`;\n",
       "      throw err;\n",
       "    }\n",
       "\n",
       "    function displayChart(vegaEmbed) {\n",
       "      vegaEmbed(outputDiv, spec, embedOpt)\n",
       "        .catch(err => showError(`Javascript Error: ${err.message}<br>This usually means there's a typo in your chart specification. See the javascript console for the full traceback.`));\n",
       "    }\n",
       "\n",
       "    if(typeof define === \"function\" && define.amd) {\n",
       "      requirejs.config({paths});\n",
       "      require([\"vega-embed\"], displayChart, err => showError(`Error loading script: ${err.message}`));\n",
       "    } else {\n",
       "      maybeLoadScript(\"vega\", \"5\")\n",
       "        .then(() => maybeLoadScript(\"vega-lite\", \"5.20.1\"))\n",
       "        .then(() => maybeLoadScript(\"vega-embed\", \"6\"))\n",
       "        .catch(showError)\n",
       "        .then(() => displayChart(vegaEmbed));\n",
       "    }\n",
       "  })({\"config\": {\"view\": {\"continuousWidth\": 300, \"continuousHeight\": 300}}, \"data\": {\"url\": \"altair-data-67c8ae83eb6311828f9679fb7d29864d.json\", \"format\": {\"type\": \"json\"}}, \"facet\": {\"field\": \"type\", \"type\": \"nominal\"}, \"spec\": {\"layer\": [{\"mark\": {\"type\": \"line\"}, \"encoding\": {\"color\": {\"field\": \"date\", \"type\": \"nominal\"}, \"x\": {\"field\": \"tau\", \"scale\": {\"type\": \"log\"}, \"title\": \"tau (s)\", \"type\": \"quantitative\"}, \"y\": {\"field\": \"Co\", \"type\": \"quantitative\"}}, \"transform\": [{\"calculate\": \"datum.Co - datum.std\", \"as\": \"xlow\"}, {\"calculate\": \"datum.Co + datum.std\", \"as\": \"xhigh\"}]}, {\"mark\": {\"type\": \"errorband\", \"opacity\": 0.25}, \"encoding\": {\"color\": {\"field\": \"date\", \"type\": \"nominal\"}, \"x\": {\"field\": \"tau\", \"scale\": {\"type\": \"log\"}, \"title\": \"tau (s)\", \"type\": \"quantitative\"}, \"y\": {\"field\": \"xlow\", \"type\": \"quantitative\"}, \"y2\": {\"field\": \"xhigh\"}}, \"transform\": [{\"calculate\": \"datum.Co - datum.std\", \"as\": \"xlow\"}, {\"calculate\": \"datum.Co + datum.std\", \"as\": \"xhigh\"}]}]}, \"$schema\": \"https://vega.github.io/schema/vega-lite/v5.20.1.json\"}, {\"mode\": \"vega-lite\"});\n",
       "</script>"
      ],
      "text/plain": [
       "alt.FacetChart(...)"
      ]
     },
     "execution_count": 21,
     "metadata": {},
     "output_type": "execute_result"
    }
   ],
   "source": [
    "base_chart = alt.Chart(mrd_df).transform_calculate(\n",
    "    xlow = 'datum.Co - datum.std',\n",
    "    xhigh = 'datum.Co + datum.std'\n",
    ").encode(\n",
    "    alt.X('tau:Q').scale(type='log').title('tau (s)'),\n",
    "    alt.Color('date:N')\n",
    "    # alt.Color('type:N')\n",
    ")\n",
    "(base_chart.mark_line().encode(\n",
    "    alt.Y('Co:Q')\n",
    ") + base_chart.mark_errorband(opacity=0.25).encode(\n",
    "    alt.Y('xlow:Q'), alt.Y2('xhigh:Q')\n",
    ")).facet('type:N')"
   ]
  },
  {
   "cell_type": "code",
   "execution_count": 30,
   "metadata": {},
   "outputs": [
    {
     "data": {
      "text/html": [
       "\n",
       "<style>\n",
       "  #altair-viz-0409402130ac48fbbde008bed28e8873.vega-embed {\n",
       "    width: 100%;\n",
       "    display: flex;\n",
       "  }\n",
       "\n",
       "  #altair-viz-0409402130ac48fbbde008bed28e8873.vega-embed details,\n",
       "  #altair-viz-0409402130ac48fbbde008bed28e8873.vega-embed details summary {\n",
       "    position: relative;\n",
       "  }\n",
       "</style>\n",
       "<div id=\"altair-viz-0409402130ac48fbbde008bed28e8873\"></div>\n",
       "<script type=\"text/javascript\">\n",
       "  var VEGA_DEBUG = (typeof VEGA_DEBUG == \"undefined\") ? {} : VEGA_DEBUG;\n",
       "  (function(spec, embedOpt){\n",
       "    let outputDiv = document.currentScript.previousElementSibling;\n",
       "    if (outputDiv.id !== \"altair-viz-0409402130ac48fbbde008bed28e8873\") {\n",
       "      outputDiv = document.getElementById(\"altair-viz-0409402130ac48fbbde008bed28e8873\");\n",
       "    }\n",
       "    const paths = {\n",
       "      \"vega\": \"https://cdn.jsdelivr.net/npm/vega@5?noext\",\n",
       "      \"vega-lib\": \"https://cdn.jsdelivr.net/npm/vega-lib?noext\",\n",
       "      \"vega-lite\": \"https://cdn.jsdelivr.net/npm/vega-lite@5.20.1?noext\",\n",
       "      \"vega-embed\": \"https://cdn.jsdelivr.net/npm/vega-embed@6?noext\",\n",
       "    };\n",
       "\n",
       "    function maybeLoadScript(lib, version) {\n",
       "      var key = `${lib.replace(\"-\", \"\")}_version`;\n",
       "      return (VEGA_DEBUG[key] == version) ?\n",
       "        Promise.resolve(paths[lib]) :\n",
       "        new Promise(function(resolve, reject) {\n",
       "          var s = document.createElement('script');\n",
       "          document.getElementsByTagName(\"head\")[0].appendChild(s);\n",
       "          s.async = true;\n",
       "          s.onload = () => {\n",
       "            VEGA_DEBUG[key] = version;\n",
       "            return resolve(paths[lib]);\n",
       "          };\n",
       "          s.onerror = () => reject(`Error loading script: ${paths[lib]}`);\n",
       "          s.src = paths[lib];\n",
       "        });\n",
       "    }\n",
       "\n",
       "    function showError(err) {\n",
       "      outputDiv.innerHTML = `<div class=\"error\" style=\"color:red;\">${err}</div>`;\n",
       "      throw err;\n",
       "    }\n",
       "\n",
       "    function displayChart(vegaEmbed) {\n",
       "      vegaEmbed(outputDiv, spec, embedOpt)\n",
       "        .catch(err => showError(`Javascript Error: ${err.message}<br>This usually means there's a typo in your chart specification. See the javascript console for the full traceback.`));\n",
       "    }\n",
       "\n",
       "    if(typeof define === \"function\" && define.amd) {\n",
       "      requirejs.config({paths});\n",
       "      require([\"vega-embed\"], displayChart, err => showError(`Error loading script: ${err.message}`));\n",
       "    } else {\n",
       "      maybeLoadScript(\"vega\", \"5\")\n",
       "        .then(() => maybeLoadScript(\"vega-lite\", \"5.20.1\"))\n",
       "        .then(() => maybeLoadScript(\"vega-embed\", \"6\"))\n",
       "        .catch(showError)\n",
       "        .then(() => displayChart(vegaEmbed));\n",
       "    }\n",
       "  })({\"config\": {\"view\": {\"continuousWidth\": 300, \"continuousHeight\": 300}}, \"data\": {\"url\": \"altair-data-67c8ae83eb6311828f9679fb7d29864d.json\", \"format\": {\"type\": \"json\"}}, \"facet\": {\"field\": \"type\", \"type\": \"nominal\"}, \"spec\": {\"mark\": {\"type\": \"line\"}, \"encoding\": {\"color\": {\"field\": \"date\", \"type\": \"nominal\"}, \"x\": {\"field\": \"tau\", \"scale\": {\"type\": \"log\"}, \"title\": \"tau (s)\", \"type\": \"quantitative\"}, \"y\": {\"field\": \"Co\", \"title\": \"Co(w'w')\", \"type\": \"quantitative\"}}, \"height\": 100, \"transform\": [{\"calculate\": \"datum.Co - datum.std\", \"as\": \"xlow\"}, {\"calculate\": \"datum.Co + datum.std\", \"as\": \"xhigh\"}], \"width\": 150}, \"$schema\": \"https://vega.github.io/schema/vega-lite/v5.20.1.json\"}, {\"mode\": \"vega-lite\"});\n",
       "</script>"
      ],
      "text/plain": [
       "alt.FacetChart(...)"
      ]
     },
     "execution_count": 30,
     "metadata": {},
     "output_type": "execute_result"
    }
   ],
   "source": [
    "base_chart.mark_line().encode(\n",
    "    alt.Y('Co:Q').title(\"Co(w'w')\")\n",
    ").properties(width=150, height=100).facet('type:N')"
   ]
  }
 ],
 "metadata": {
  "kernelspec": {
   "display_name": "arm",
   "language": "python",
   "name": "python3"
  },
  "language_info": {
   "codemirror_mode": {
    "name": "ipython",
    "version": 3
   },
   "file_extension": ".py",
   "mimetype": "text/x-python",
   "name": "python",
   "nbconvert_exporter": "python",
   "pygments_lexer": "ipython3",
   "version": "3.12.5"
  },
  "orig_nbformat": 4,
  "vscode": {
   "interpreter": {
    "hash": "e2b11a00ad1b97cabcd9cc9209b8824a0fcaf6ffe37b5243943912873b5dcab1"
   }
  }
 },
 "nbformat": 4,
 "nbformat_minor": 2
}
