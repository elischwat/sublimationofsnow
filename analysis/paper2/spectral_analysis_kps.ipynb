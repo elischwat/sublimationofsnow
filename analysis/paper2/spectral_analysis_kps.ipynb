{
 "cells": [
  {
   "cell_type": "code",
   "execution_count": 1,
   "metadata": {},
   "outputs": [],
   "source": [
    "import numpy as np\n",
    "import xarray as xr\n",
    "\n",
    "import datetime as dt\n",
    "import pandas as pd\n",
    "\n",
    "import matplotlib.pyplot as plt\n",
    "\n",
    "import altair as alt\n",
    "alt.data_transformers.enable('json')\n",
    "\n",
    "from sublimpy import utils\n",
    "import glob\n",
    "import pytz\n",
    "from scipy.signal import welch, csd\n",
    "from scipy.stats import chi2\n",
    "from process_fast_data.fast_data_calculate_spectra_nomrd import calculate_mrd_for_df, fast_data_files_to_dataframe"
   ]
  },
  {
   "cell_type": "markdown",
   "metadata": {},
   "source": [
    "# Open SOS slow data"
   ]
  },
  {
   "cell_type": "code",
   "execution_count": 2,
   "metadata": {},
   "outputs": [],
   "source": [
    "sos_df = pd.read_parquet(\"../paper1/process_slow_data/tidy_df_20221101_20230619_planar_fit_multiplane_q7_flags9000_pf10.parquet\")\n",
    "sos_df_localtime = utils.modify_df_timezone( sos_df, 'UTC', 'US/Mountain')"
   ]
  },
  {
   "cell_type": "markdown",
   "metadata": {},
   "source": [
    "## Plot wind directions for case studies"
   ]
  },
  {
   "cell_type": "code",
   "execution_count": null,
   "metadata": {},
   "outputs": [],
   "source": [
    "def wind_chart(data):\n",
    "    return alt.Chart(data).mark_line().encode(        \n",
    "        alt.X('time:T'),\n",
    "        alt.Y('value:Q'),\n",
    "        alt.Color('height:O').scale(scheme='rainbow')\n",
    "    ).properties(height=150)\n",
    "def vertical_lines_chart(data):\n",
    "    return alt.Chart(\n",
    "        data\n",
    "    ).mark_rule(color='red', strokeDash=[4, 2]).encode(\n",
    "        alt.X('time:T')\n",
    "    )\n",
    "\n",
    "\n",
    "sos_dir_df = sos_df_localtime[sos_df_localtime.variable.isin([\n",
    "        'dir_3m_c', 'dir_10m_c', 'dir_20m_c'\n",
    "    ])].set_index('time')\n",
    "\n",
    "(\n",
    "    (wind_chart(sos_dir_df.loc['20230409'].reset_index())   + vertical_lines_chart(pd.DataFrame({'time': ['2023-04-09T15:00:00', '2023-04-09T18:00:00']}))) \n",
    "    | (wind_chart(sos_dir_df.loc['20230418'].reset_index()) + vertical_lines_chart(pd.DataFrame({'time': ['2023-04-18T15:00:00', '2023-04-18T18:00:00']}))) \n",
    "    | (wind_chart(sos_dir_df.loc['20221221'].reset_index()) + vertical_lines_chart(pd.DataFrame({'time': ['2022-12-21T15:00:00', '2022-12-21T18:00:00']}))) \n",
    "    | (wind_chart(sos_dir_df.loc['20230304'].reset_index()) + vertical_lines_chart(pd.DataFrame({'time': ['2023-03-04T15:00:00', '2023-03-04T18:00:00']})))\n",
    ")"
   ]
  },
  {
   "cell_type": "code",
   "execution_count": null,
   "metadata": {},
   "outputs": [],
   "source": [
    "sos_dir_df.sort_index().loc['20230418 1900': '20230418 2200'].query(\"variable == 'dir_3m_c'\").value.mean()"
   ]
  },
  {
   "cell_type": "markdown",
   "metadata": {},
   "source": [
    "# Open SOS fast data"
   ]
  },
  {
   "cell_type": "code",
   "execution_count": null,
   "metadata": {},
   "outputs": [],
   "source": [
    "apr18_df = fast_data_files_to_dataframe([\n",
    "    # '/Users/elischwat/Development/data/sublimationofsnow/sosqc_fast/isfs_sos_qc_geo_tiltcor_hr_v2_20230418_21.nc',\n",
    "    # '/Users/elischwat/Development/data/sublimationofsnow/sosqc_fast/isfs_sos_qc_geo_tiltcor_hr_v2_20230418_22.nc',\n",
    "    # '/Users/elischwat/Development/data/sublimationofsnow/sosqc_fast/isfs_sos_qc_geo_tiltcor_hr_v2_20230418_23.nc',\n",
    "    '/Users/elischwat/Development/data/sublimationofsnow/sosqc_fast/isfs_sos_qc_geo_tiltcor_hr_v2_20230419_01.nc',\n",
    "    '/Users/elischwat/Development/data/sublimationofsnow/sosqc_fast/isfs_sos_qc_geo_tiltcor_hr_v2_20230419_02.nc',\n",
    "    '/Users/elischwat/Development/data/sublimationofsnow/sosqc_fast/isfs_sos_qc_geo_tiltcor_hr_v2_20230419_03.nc',\n",
    "],  rotation='double')\n",
    "\n",
    "apr18_df = utils.modify_df_timezone(apr18_df, pytz.UTC, \"US/Mountain\")"
   ]
  },
  {
   "cell_type": "code",
   "execution_count": null,
   "metadata": {},
   "outputs": [],
   "source": [
    "src = apr18_df.set_index('time')[['u_10m_c', 'w_10m_c']]\n",
    "src_fluc = src - src.groupby(pd.Grouper(freq='30min')).transform('mean')\n",
    "plt.hist2d(src_fluc.u_10m_c, src_fluc.w_10m_c, bins=500, cmap='Reds')\n",
    "plt.axhline(0)\n",
    "plt.axvline(0)\n",
    "plt.colorbar()\n",
    "plt.xlim(-2,2); plt.ylim(-2,2)\n",
    "plt.show()"
   ]
  },
  {
   "cell_type": "markdown",
   "metadata": {},
   "source": [
    "# Spectra across two case study days - Apr 18 and Dec 21"
   ]
  },
  {
   "cell_type": "markdown",
   "metadata": {},
   "source": [
    "## Apr 18"
   ]
  },
  {
   "cell_type": "markdown",
   "metadata": {},
   "source": [
    "### u'w' cospectra - all ECs"
   ]
  },
  {
   "cell_type": "code",
   "execution_count": null,
   "metadata": {},
   "outputs": [],
   "source": [
    "apr18_u_w_3m_c_mrd_df = calculate_mrd_for_df(apr18_df, 'u_3m_c', 'w_3m_c', shift = 2000, parallelism=8)\n",
    "apr18_u_w_3m_d_mrd_df = calculate_mrd_for_df(apr18_df, 'u_3m_d', 'w_3m_d', shift = 2000, parallelism=8)\n",
    "apr18_u_w_3m_ue_mrd_df = calculate_mrd_for_df(apr18_df, 'u_3m_ue', 'w_3m_ue', shift = 2000, parallelism=8)\n",
    "apr18_u_w_3m_uw_mrd_df = calculate_mrd_for_df(apr18_df, 'u_3m_uw', 'w_3m_uw', shift = 2000, parallelism=8)\n",
    "\n",
    "apr18_u_w_10m_c_mrd_df = calculate_mrd_for_df(apr18_df, 'u_10m_c', 'w_10m_c', shift = 2000, parallelism=8)\n",
    "apr18_u_w_10m_d_mrd_df = calculate_mrd_for_df(apr18_df, 'u_10m_d', 'w_10m_d', shift = 2000, parallelism=8)\n",
    "apr18_u_w_10m_ue_mrd_df = calculate_mrd_for_df(apr18_df, 'u_10m_ue', 'w_10m_ue', shift = 2000, parallelism=8)\n",
    "apr18_u_w_10m_uw_mrd_df = calculate_mrd_for_df(apr18_df, 'u_10m_uw', 'w_10m_uw', shift = 2000, parallelism=8)\n",
    "\n",
    "apr18_u_w_5m_c_mrd_df = calculate_mrd_for_df(apr18_df, 'u_5m_c', 'w_5m_c', shift = 2000, parallelism=8)\n",
    "apr18_u_w_15m_c_mrd_df = calculate_mrd_for_df(apr18_df, 'u_15m_c', 'w_15m_c', shift = 2000, parallelism=8)\n",
    "apr18_u_w_20m_c_mrd_df = calculate_mrd_for_df(apr18_df, 'u_20m_c', 'w_20m_c', shift = 2000, parallelism=8)"
   ]
  },
  {
   "cell_type": "code",
   "execution_count": null,
   "metadata": {},
   "outputs": [],
   "source": [
    "base = alt.Chart().encode(\n",
    "    alt.X('tau:Q').scale(type='log').title('tau (s)'),\n",
    ")\n",
    "def mrd_plot(data, title=''):\n",
    "    return alt.layer(\n",
    "        base.mark_errorband(extent='iqr').encode(alt.Y('Co:Q')),\n",
    "        base.mark_line().encode(alt.Y('mean(Co):Q')),\n",
    "        data=data\n",
    "    ).properties(width=200, height=200, title=title)"
   ]
  },
  {
   "cell_type": "code",
   "execution_count": null,
   "metadata": {},
   "outputs": [],
   "source": [
    "(\n",
    "    (\n",
    "        mrd_plot(apr18_u_w_3m_c_mrd_df, \"u'w', 3m-C\") | mrd_plot(apr18_u_w_3m_d_mrd_df, \"u'w', 3m-D\") \n",
    "        | mrd_plot(apr18_u_w_3m_ue_mrd_df, \"u'w', 3m-UE\") | mrd_plot(apr18_u_w_3m_uw_mrd_df, \"u'w', 3m-UW\")\n",
    "    ).resolve_scale(y='shared') & (\n",
    "        mrd_plot(apr18_u_w_10m_c_mrd_df, \"u'w', 10m-C\") | mrd_plot(apr18_u_w_10m_d_mrd_df, \"u'w', 10m-D\") \n",
    "        | mrd_plot(apr18_u_w_10m_ue_mrd_df, \"u'w', 10m-UE\") | mrd_plot(apr18_u_w_10m_uw_mrd_df, \"u'w', 10m-UW\")\n",
    "    ).resolve_scale(y='shared') & (\n",
    "        mrd_plot(apr18_u_w_5m_c_mrd_df, \"u'w', 5m-C\") |  mrd_plot(apr18_u_w_15m_c_mrd_df, \"u'w', 15m-C\") |  mrd_plot(apr18_u_w_20m_c_mrd_df, \"u'w', 20m-C\")\n",
    "    ).resolve_scale(y='shared')\n",
    ").resolve_scale(y='shared')"
   ]
  },
  {
   "cell_type": "markdown",
   "metadata": {},
   "source": [
    "### Isotropic stress cospectra - tower c 3 and 10m"
   ]
  },
  {
   "cell_type": "code",
   "execution_count": null,
   "metadata": {},
   "outputs": [],
   "source": [
    "apr18_u_u_3m_c_mrd_df = calculate_mrd_for_df(apr18_df, 'u_3m_c', 'u_3m_c', shift = 2000, parallelism=8)\n",
    "apr18_v_v_3m_c_mrd_df = calculate_mrd_for_df(apr18_df, 'v_3m_c', 'v_3m_c', shift = 2000, parallelism=8)\n",
    "apr18_w_w_3m_c_mrd_df = calculate_mrd_for_df(apr18_df, 'w_3m_c', 'w_3m_c', shift = 2000, parallelism=8)\n",
    "\n",
    "apr18_u_u_10m_c_mrd_df = calculate_mrd_for_df(apr18_df, 'u_10m_c', 'u_10m_c', shift = 2000, parallelism=8)\n",
    "apr18_v_v_10m_c_mrd_df = calculate_mrd_for_df(apr18_df, 'v_10m_c', 'v_10m_c', shift = 2000, parallelism=8)\n",
    "apr18_w_w_10m_c_mrd_df = calculate_mrd_for_df(apr18_df, 'w_10m_c', 'w_10m_c', shift = 2000, parallelism=8)"
   ]
  },
  {
   "cell_type": "code",
   "execution_count": null,
   "metadata": {},
   "outputs": [],
   "source": [
    "((\n",
    "    mrd_plot(apr18_u_u_3m_c_mrd_df, \"u'u', 3m-C\") | mrd_plot(apr18_v_v_3m_c_mrd_df, \"v'v', 3m-C\") \n",
    ").resolve_scale(y='shared') & (\n",
    "    mrd_plot(apr18_u_u_10m_c_mrd_df, \"u'u', 10-C\") | mrd_plot(apr18_v_v_10m_c_mrd_df, \"v'v', 3m-C\")\n",
    ").resolve_scale(y='shared')).resolve_scale(y='shared') | (\n",
    "    mrd_plot(apr18_w_w_3m_c_mrd_df, \"w'w', 3m-C\") & mrd_plot(apr18_w_w_10m_c_mrd_df, \"w'w', 10m-C\")\n",
    ").resolve_scale(y='shared')"
   ]
  },
  {
   "cell_type": "markdown",
   "metadata": {},
   "source": [
    "## Dec 21"
   ]
  },
  {
   "cell_type": "code",
   "execution_count": null,
   "metadata": {},
   "outputs": [],
   "source": [
    "dec21_df = fast_data_files_to_dataframe([\n",
    "    '/Users/elischwat/Development/data/sublimationofsnow/sosqc_fast/isfs_sos_qc_geo_tiltcor_hr_v2_20221221_21.nc',\n",
    "    '/Users/elischwat/Development/data/sublimationofsnow/sosqc_fast/isfs_sos_qc_geo_tiltcor_hr_v2_20221221_22.nc',\n",
    "    '/Users/elischwat/Development/data/sublimationofsnow/sosqc_fast/isfs_sos_qc_geo_tiltcor_hr_v2_20221221_23.nc',\n",
    "],  rotation='double')\n",
    "dec21_df = utils.modify_df_timezone(dec21_df, pytz.UTC, \"US/Mountain\")"
   ]
  },
  {
   "cell_type": "markdown",
   "metadata": {},
   "source": [
    "### u'w' cospectra - all ECs"
   ]
  },
  {
   "cell_type": "code",
   "execution_count": null,
   "metadata": {},
   "outputs": [],
   "source": [
    "dec21_u_w_3m_c_mrd_df = calculate_mrd_for_df(dec21_df, 'u_3m_c', 'w_3m_c', shift = 2000, parallelism=8)\n",
    "dec21_u_w_3m_d_mrd_df = calculate_mrd_for_df(dec21_df, 'u_3m_d', 'w_3m_d', shift = 2000, parallelism=8)\n",
    "dec21_u_w_3m_ue_mrd_df = calculate_mrd_for_df(dec21_df, 'u_3m_ue', 'w_3m_ue', shift = 2000, parallelism=8)\n",
    "dec21_u_w_3m_uw_mrd_df = calculate_mrd_for_df(dec21_df, 'u_3m_uw', 'w_3m_uw', shift = 2000, parallelism=8)\n",
    "\n",
    "dec21_u_w_10m_c_mrd_df = calculate_mrd_for_df(dec21_df, 'u_10m_c', 'w_10m_c', shift = 2000, parallelism=8)\n",
    "dec21_u_w_10m_d_mrd_df = calculate_mrd_for_df(dec21_df, 'u_10m_d', 'w_10m_d', shift = 2000, parallelism=8)\n",
    "dec21_u_w_10m_ue_mrd_df = calculate_mrd_for_df(dec21_df, 'u_10m_ue', 'w_10m_ue', shift = 2000, parallelism=8)\n",
    "dec21_u_w_10m_uw_mrd_df = calculate_mrd_for_df(dec21_df, 'u_10m_uw', 'w_10m_uw', shift = 2000, parallelism=8)\n",
    "\n",
    "dec21_u_w_5m_c_mrd_df = calculate_mrd_for_df(dec21_df, 'u_5m_c', 'w_5m_c', shift = 2000, parallelism=8)\n",
    "dec21_u_w_15m_c_mrd_df = calculate_mrd_for_df(dec21_df, 'u_15m_c', 'w_15m_c', shift = 2000, parallelism=8)\n",
    "dec21_u_w_20m_c_mrd_df = calculate_mrd_for_df(dec21_df, 'u_20m_c', 'w_20m_c', shift = 2000, parallelism=8)"
   ]
  },
  {
   "cell_type": "code",
   "execution_count": null,
   "metadata": {},
   "outputs": [],
   "source": [
    "def mrd_plot(data, title='', color=None):\n",
    "    base = alt.Chart().encode(\n",
    "        alt.X('tau:Q').scale(type='log').title('tau (s)'),\n",
    "    )\n",
    "    if color:\n",
    "        band = base.mark_errorband(extent='iqr', color=color).encode(alt.Y('Co:Q'))\n",
    "        line = base.mark_line(color=color).encode(alt.Y('mean(Co):Q'))\n",
    "    else:\n",
    "        band = base.mark_errorband(extent='iqr').encode(alt.Y('Co:Q'))\n",
    "        line = base.mark_line().encode(alt.Y('mean(Co):Q'))\n",
    "    return alt.layer(\n",
    "        band, line, data=data\n",
    "    ).properties(width=200, height=200, title=title)"
   ]
  },
  {
   "cell_type": "code",
   "execution_count": null,
   "metadata": {},
   "outputs": [],
   "source": [
    "(\n",
    "    (\n",
    "        mrd_plot(dec21_u_w_3m_c_mrd_df, \"u'w', 3m-C\") | mrd_plot(dec21_u_w_3m_d_mrd_df, \"u'w', 3m-D\") \n",
    "        | mrd_plot(dec21_u_w_3m_ue_mrd_df, \"u'w', 3m-UE\") | mrd_plot(dec21_u_w_3m_uw_mrd_df, \"u'w', 3m-UW\")\n",
    "    ).resolve_scale(y='shared') & (\n",
    "        mrd_plot(dec21_u_w_10m_c_mrd_df, \"u'w', 10m-C\") | mrd_plot(dec21_u_w_10m_d_mrd_df, \"u'w', 10m-D\") \n",
    "        | mrd_plot(dec21_u_w_10m_ue_mrd_df, \"u'w', 10m-UE\") | mrd_plot(dec21_u_w_10m_uw_mrd_df, \"u'w', 10m-UW\")\n",
    "    ).resolve_scale(y='shared') & (\n",
    "        mrd_plot(dec21_u_w_5m_c_mrd_df, \"u'w', 5m-C\") |  mrd_plot(dec21_u_w_15m_c_mrd_df, \"u'w', 15m-C\") |  mrd_plot(dec21_u_w_20m_c_mrd_df, \"u'w', 20m-C\")\n",
    "    ).resolve_scale(y='shared')\n",
    ").resolve_scale(y='shared')"
   ]
  },
  {
   "cell_type": "code",
   "execution_count": null,
   "metadata": {},
   "outputs": [],
   "source": [
    "(mrd_plot(dec21_u_w_3m_c_mrd_df, \"u'w', 3m-C\") + mrd_plot(apr18_u_w_3m_c_mrd_df, \"u'w', 3m-C\", color='#ff7f0e') + mrd_plot(apr18_u_w_3m_d_mrd_df, \"u'w', 3m-C\", color='#ff7f0e') + mrd_plot(apr18_u_w_3m_ue_mrd_df, \"u'w', 3m-C\", color='#ff7f0e') + mrd_plot(apr18_u_w_3m_uw_mrd_df, \"u'w', 3m-C\", color='#ff7f0e')) |\\\n",
    "(mrd_plot(dec21_u_w_10m_c_mrd_df, \"u'w', 10m-C\") + mrd_plot(apr18_u_w_10m_c_mrd_df, \"u'w', 10m-C\", color='#ff7f0e')) |\\\n",
    "(mrd_plot(dec21_u_w_5m_c_mrd_df, \"u'w', 5m-C\") + mrd_plot(apr18_u_w_5m_c_mrd_df, \"u'w', 5m-C\", color='#ff7f0e'))"
   ]
  },
  {
   "cell_type": "markdown",
   "metadata": {},
   "source": [
    "### Isotropic stress cospectra - tower c 3 and 10m"
   ]
  },
  {
   "cell_type": "code",
   "execution_count": null,
   "metadata": {},
   "outputs": [],
   "source": [
    "dec21_u_u_3m_c_mrd_df = calculate_mrd_for_df(dec21_df, 'u_3m_c', 'u_3m_c', shift = 2000, parallelism=8)\n",
    "dec21_v_v_3m_c_mrd_df = calculate_mrd_for_df(dec21_df, 'v_3m_c', 'v_3m_c', shift = 2000, parallelism=8)\n",
    "dec21_w_w_3m_c_mrd_df = calculate_mrd_for_df(dec21_df, 'w_3m_c', 'w_3m_c', shift = 2000, parallelism=8)\n",
    "\n",
    "dec21_u_u_10m_c_mrd_df = calculate_mrd_for_df(dec21_df, 'u_10m_c', 'u_10m_c', shift = 2000, parallelism=8)\n",
    "dec21_v_v_10m_c_mrd_df = calculate_mrd_for_df(dec21_df, 'v_10m_c', 'v_10m_c', shift = 2000, parallelism=8)\n",
    "dec21_w_w_10m_c_mrd_df = calculate_mrd_for_df(dec21_df, 'w_10m_c', 'w_10m_c', shift = 2000, parallelism=8)"
   ]
  },
  {
   "cell_type": "code",
   "execution_count": null,
   "metadata": {},
   "outputs": [],
   "source": [
    "((\n",
    "    mrd_plot(dec21_u_u_3m_c_mrd_df, \"u'u', 3m-C\") | mrd_plot(dec21_v_v_3m_c_mrd_df, \"v'v', 3m-C\") \n",
    ").resolve_scale(y='shared') & (\n",
    "    mrd_plot(dec21_u_u_10m_c_mrd_df, \"u'u', 10-C\") | mrd_plot(dec21_v_v_10m_c_mrd_df, \"v'v', 3m-C\")\n",
    ").resolve_scale(y='shared')).resolve_scale(y='shared') | (\n",
    "    mrd_plot(dec21_w_w_3m_c_mrd_df, \"w'w', 3m-C\") & mrd_plot(dec21_w_w_10m_c_mrd_df, \"w'w', 10m-C\")\n",
    ").resolve_scale(y='shared')"
   ]
  },
  {
   "cell_type": "markdown",
   "metadata": {},
   "source": [
    "# Spectra across two months of data"
   ]
  },
  {
   "cell_type": "markdown",
   "metadata": {},
   "source": [
    "Open up all the nomrd files. Calculate a \"median time\" for joining with synoptic wind measurements"
   ]
  },
  {
   "cell_type": "code",
   "execution_count": null,
   "metadata": {},
   "outputs": [],
   "source": [
    "nomrd_df = pd.read_parquet(\"/Users/elischwat/Development/data/sublimationofsnow/mrd/NOmrds/\")\n",
    "nomrd_df['median_time'] = nomrd_df.start_time + 0.5*(nomrd_df.end_time - nomrd_df.start_time)\n",
    "nomrd_df['median_time_rounded'] = nomrd_df.median_time.dt.round('30min')\n",
    "nomrd_df"
   ]
  },
  {
   "cell_type": "markdown",
   "metadata": {},
   "source": [
    "Remove the Dec 21 MRD"
   ]
  },
  {
   "cell_type": "code",
   "execution_count": null,
   "metadata": {},
   "outputs": [],
   "source": [
    "nomrd_df = nomrd_df[nomrd_df.start_time.dt.month != 12]"
   ]
  },
  {
   "cell_type": "code",
   "execution_count": null,
   "metadata": {},
   "outputs": [],
   "source": [
    "nomrd_df.start_time.dt.hour.min(), nomrd_df.start_time.dt.hour.max()"
   ]
  },
  {
   "cell_type": "markdown",
   "metadata": {},
   "source": [
    "Use doppler lidar data to identify along-valley/cross-valley synoptic flows"
   ]
  },
  {
   "cell_type": "code",
   "execution_count": null,
   "metadata": {},
   "outputs": [],
   "source": [
    "cross_valley_wind_times = pd.read_csv('cross_valley_wind_times.csv').drop(columns='Unnamed: 0').rename(columns={'0':'time'}).set_index('time').assign(\n",
    "    wind_dir='cross-valley'\n",
    ")\n",
    "cross_valley_wind_times.index = pd.to_datetime(cross_valley_wind_times.index)\n",
    "\n",
    "along_valley_wind_times = pd.read_csv('along_valley_wind_times.csv').drop(columns='Unnamed: 0').rename(columns={'0':'time'}).set_index('time').assign(\n",
    "    wind_dir='along-valley'\n",
    ")\n",
    "along_valley_wind_times.index = pd.to_datetime(along_valley_wind_times.index)\n",
    "\n",
    "winds_ge10_times =      pd.read_csv('winds_ge10_times.csv').drop(columns='Unnamed: 0').set_index('time').assign(wind_speed='> 10')\n",
    "winds_ge10_times.index = pd.to_datetime(winds_ge10_times.index)\n",
    "winds_le10_times =      pd.read_csv('winds_le10_times.csv').drop(columns='Unnamed: 0').set_index('time').assign(wind_speed='<= 10')\n",
    "winds_le10_times.index = pd.to_datetime(winds_le10_times.index)"
   ]
  },
  {
   "cell_type": "markdown",
   "metadata": {},
   "source": [
    "Join the datasets"
   ]
  },
  {
   "cell_type": "code",
   "execution_count": null,
   "metadata": {},
   "outputs": [],
   "source": [
    "nomrd_df_synopticwinds = pd.concat([\n",
    "    nomrd_df.set_index('median_time_rounded').join(cross_valley_wind_times, how='inner'),\n",
    "    nomrd_df.set_index('median_time_rounded').join(along_valley_wind_times, how='inner')\n",
    "])\n",
    "nomrd_df_synopticwinds = nomrd_df_synopticwinds.join(pd.concat([ winds_le10_times, winds_ge10_times]), how='inner')"
   ]
  },
  {
   "cell_type": "code",
   "execution_count": null,
   "metadata": {},
   "outputs": [],
   "source": [
    "base = alt.Chart().encode(\n",
    "    alt.X('tau:Q').scale(type='log'),\n",
    "    alt.Color('wind_dir:N'),\n",
    ").properties(width=200, height=200, title = \"u'w', 3m-c\")\n",
    "\n",
    "def layer_plot(data, title=''):\n",
    "    return alt.layer(\n",
    "        base.encode(alt.Y('Co:Q')).mark_errorband(extent='iqr'),\n",
    "        base.encode(alt.Y('mean(Co):Q')).mark_line(),\n",
    "        data = data\n",
    "    ).facet(alt.Row('wind_speed')).properties(title=title)"
   ]
  },
  {
   "cell_type": "code",
   "execution_count": null,
   "metadata": {},
   "outputs": [],
   "source": [
    "src = nomrd_df_synopticwinds.query(\"covariance == 'u_w_'\")\n",
    "src = src[src.index.hour.isin([15, 16, 17])]\n",
    "src['date'] = src.start_time.dt.date.astype('str')\n",
    "alt.Chart(\n",
    "    src.query(\"loc == '3m_c'\")\n",
    ").mark_line(strokeWidth=1, point={'size': 10}).encode(\n",
    "    alt.X('tau:Q').scale(type='log'),\n",
    "    alt.Y('mean(Co):Q'),\n",
    "    alt.Detail('date'),\n",
    "    alt.Color('wind_dir:N'),\n",
    "    alt.Facet('wind_speed'),\n",
    "    tooltip = 'date'\n",
    ").properties(width=200, height=200)"
   ]
  },
  {
   "cell_type": "code",
   "execution_count": null,
   "metadata": {},
   "outputs": [],
   "source": [
    "4/18, 3/8, 4/2, 3/6"
   ]
  },
  {
   "cell_type": "code",
   "execution_count": null,
   "metadata": {},
   "outputs": [],
   "source": [
    "src = nomrd_df_synopticwinds.query(\"covariance == 'u_w_'\")\n",
    "src = src[src.index.hour.isin([15, 16, 17])]\n",
    "\n",
    "(\n",
    "    layer_plot(src.query(\"loc == '3m_c'\"), title=\"u'w' 3m_c\")\n",
    "    &\\\n",
    "    layer_plot(src.query(\"loc == '5m_c'\"), title=\"u'w' 5m_c\")\n",
    "    &\\\n",
    "    layer_plot(src.query(\"loc == '10m_c'\"), title=\"u'w' 10m_c\")\n",
    "    &\\\n",
    "    layer_plot(src.query(\"loc == '15m_c'\"), title=\"u'w' 15m_c\")\n",
    "    &\\\n",
    "    layer_plot(src.query(\"loc == '20m_c'\"), title=\"u'w' 20m_c\")\n",
    "\n",
    ") "
   ]
  },
  {
   "cell_type": "code",
   "execution_count": null,
   "metadata": {},
   "outputs": [],
   "source": [
    "src = nomrd_df_synopticwinds.query(\"covariance == 'u_w_'\")\n",
    "src = src[src.index.hour.isin([15, 16, 17])]\n",
    "\n",
    "(\n",
    "    layer_plot(src.query(\"loc == '3m_c'\"), title=\"u'w' 3m_c\") | layer_plot(src.query(\"loc == '3m_d'\"), title=\"u'w' 3m_d\") | layer_plot(src.query(\"loc == '3m_ue'\"), title=\"u'w' 3m_ue\") | layer_plot(src.query(\"loc == '3m_uw'\"), title=\"u'w' 3m_uw\")\n",
    ") &\\\n",
    "layer_plot(src.query(\"loc == '5m_c'\"), title=\"u'w' 5m_c\") &\\\n",
    "(\n",
    "    layer_plot(src.query(\"loc == '10m_c'\"), title=\"u'w' 10m_c\") | layer_plot(src.query(\"loc == '10m_d'\"), title=\"u'w' 10m_d\") | layer_plot(src.query(\"loc == '10m_ue'\"), title=\"u'w' 10m_ue\") | layer_plot(src.query(\"loc == '10m_uw'\"), title=\"u'w' 10m_uw\")\n",
    ")  &\\\n",
    "layer_plot(src.query(\"loc == '15m_c'\"), title=\"u'w' 15m_c\") &\\\n",
    "layer_plot(src.query(\"loc == '20m_c'\"), title=\"u'w' 20m_c\")"
   ]
  },
  {
   "cell_type": "code",
   "execution_count": null,
   "metadata": {},
   "outputs": [],
   "source": [
    "src = nomrd_df_synopticwinds.query(\"covariance == 'u_w_'\")\n",
    "src = src[src.index.hour.isin([15, 16, 17])]\n",
    "(\n",
    "    layer_plot(src.query(\"loc == '3m_c'\"), title=\"u'w' 3m_c\") |\\\n",
    "    layer_plot(src.query(\"loc == '5m_c'\"), title=\"u'w' 5m_c\") |\\\n",
    "    layer_plot(src.query(\"loc == '10m_c'\"), title=\"u'w' 10m_c\")\n",
    ") & (\n",
    "    layer_plot(src.query(\"loc == '15m_c'\"), title=\"u'w' 15m_c\") |\\\n",
    "    layer_plot(src.query(\"loc == '20m_c'\"), title=\"u'w' 20m_c\")\n",
    ")"
   ]
  },
  {
   "cell_type": "code",
   "execution_count": null,
   "metadata": {},
   "outputs": [],
   "source": [
    "src = nomrd_df_synopticwinds.query(\"covariance == 'v_w_'\")\n",
    "src = src[src.index.hour.isin([15, 16, 17])]\n",
    "\n",
    "(\n",
    "    layer_plot(src.query(\"loc == '3m_c'\")) | layer_plot(src.query(\"loc == '3m_d'\")) | layer_plot(src.query(\"loc == '3m_ue'\")) | layer_plot(src.query(\"loc == '3m_uw'\"))\n",
    ") &\\\n",
    "layer_plot(src.query(\"loc == '5m_c'\")) &\\\n",
    "(\n",
    "    layer_plot(src.query(\"loc == '10m_c'\")) | layer_plot(src.query(\"loc == '10m_d'\")) | layer_plot(src.query(\"loc == '10m_ue'\")) | layer_plot(src.query(\"loc == '10m_uw'\"))\n",
    ")  &\\\n",
    "layer_plot(src.query(\"loc == '15m_c'\")) &\\\n",
    "layer_plot(src.query(\"loc == '20m_c'\"))"
   ]
  },
  {
   "cell_type": "markdown",
   "metadata": {},
   "source": [
    "# Do the calculations on the fly"
   ]
  },
  {
   "cell_type": "markdown",
   "metadata": {},
   "source": [
    "see scipt: analysis/paper2/spectral_analysis_kps_calculate_seasonal_spectra.py"
   ]
  },
  {
   "cell_type": "markdown",
   "metadata": {},
   "source": [
    "### Open the data"
   ]
  },
  {
   "cell_type": "code",
   "execution_count": 3,
   "metadata": {},
   "outputs": [],
   "source": [
    "daily_mrds_df = pd.read_parquet('mrds/uw/')\n",
    "daily_mrds_uv_df = pd.read_parquet('mrds/uv/')\n",
    "daily_mrds_vw_df = pd.read_parquet('mrds/vw/')"
   ]
  },
  {
   "cell_type": "markdown",
   "metadata": {},
   "source": [
    "### Classify each day into the synoptic wind categories"
   ]
  },
  {
   "cell_type": "code",
   "execution_count": 4,
   "metadata": {},
   "outputs": [],
   "source": [
    "DATA_DIR = \"/Users/elischwat/Development/data/sublimationofsnow/\""
   ]
  },
  {
   "cell_type": "code",
   "execution_count": 5,
   "metadata": {},
   "outputs": [],
   "source": [
    "windprof_ds = xr.open_mfdataset(sorted(glob.glob(os.path.join(DATA_DIR, 'gucdlprofwind4newsM1.c1', \"*.nc\"))))"
   ]
  },
  {
   "cell_type": "code",
   "execution_count": 6,
   "metadata": {},
   "outputs": [],
   "source": [
    "windprof_df = windprof_ds[['wind_speed', 'wind_direction']].to_dataframe().reset_index()"
   ]
  },
  {
   "cell_type": "code",
   "execution_count": 7,
   "metadata": {},
   "outputs": [],
   "source": [
    "synoptic_winds_df = windprof_df.query(\"height >= 1000\").query(\"height <= 1500\")\n",
    "synoptic_winds_df = synoptic_winds_df.set_index('time').resample('24h').apply({\n",
    "    'wind_speed': 'mean',\n",
    "    'wind_direction': 'median'\n",
    "})"
   ]
  },
  {
   "cell_type": "code",
   "execution_count": 8,
   "metadata": {},
   "outputs": [],
   "source": [
    "along_valley_wind_days = synoptic_winds_df[\n",
    "    (synoptic_winds_df.wind_direction > 300)\n",
    "    | (synoptic_winds_df.wind_direction < 5 )\n",
    "].index.values\n",
    "cross_valley_wind_days = synoptic_winds_df[\n",
    "    (synoptic_winds_df.wind_direction > 185)\n",
    "    & (synoptic_winds_df.wind_direction < 265 )\n",
    "].index.values\n",
    "\n",
    "slow_wind_days = synoptic_winds_df[synoptic_winds_df.wind_speed <= 10].index.values\n",
    "fast_wind_days = synoptic_winds_df[synoptic_winds_df.wind_speed > 10].index.values"
   ]
  },
  {
   "cell_type": "code",
   "execution_count": 9,
   "metadata": {},
   "outputs": [],
   "source": [
    "fast_along_valley_wind_days = pd.Series(list(set(fast_wind_days).intersection(set(along_valley_wind_days)))).dt.date\n",
    "fast_cross_valley_wind_days = pd.Series(list(set(fast_wind_days).intersection(set(cross_valley_wind_days)))).dt.date\n",
    "slow_along_valley_wind_days = pd.Series(list(set(slow_wind_days).intersection(set(along_valley_wind_days)))).dt.date\n",
    "slow_cross_valley_wind_days = pd.Series(list(set(slow_wind_days).intersection(set(cross_valley_wind_days)))).dt.date"
   ]
  },
  {
   "cell_type": "code",
   "execution_count": 10,
   "metadata": {},
   "outputs": [
    {
     "name": "stdout",
     "output_type": "stream",
     "text": [
      "22\n",
      "44\n",
      "24\n",
      "36\n"
     ]
    }
   ],
   "source": [
    "print(len(fast_along_valley_wind_days))\n",
    "print(len(fast_cross_valley_wind_days))\n",
    "print(len(slow_along_valley_wind_days))\n",
    "print(len(slow_cross_valley_wind_days))"
   ]
  },
  {
   "cell_type": "code",
   "execution_count": 11,
   "metadata": {},
   "outputs": [],
   "source": [
    "daily_mrds_df['date'] = daily_mrds_df['start_time'].dt.date\n",
    "daily_mrds_df['start_time_nodate'] = daily_mrds_df['start_time'].apply(lambda dt: dt.replace(year=2023, month=1, day=1))\n",
    "daily_mrds_df['end_time_nodate'] = daily_mrds_df['end_time'].apply(lambda dt: dt.replace(year=2023, month=1, day=1))\n",
    "daily_mrds_df['midpoint_time_nodate'] = daily_mrds_df['start_time_nodate'] + (daily_mrds_df['end_time_nodate'] - daily_mrds_df['start_time_nodate']) / 2"
   ]
  },
  {
   "cell_type": "code",
   "execution_count": 12,
   "metadata": {},
   "outputs": [
    {
     "data": {
      "image/png": "[encoded data removed]",
      "text/plain": [
       "<Figure size 1200x600 with 8 Axes>"
      ]
     },
     "metadata": {},
     "output_type": "display_data"
    }
   ],
   "source": [
    "fig, axes = plt.subplots(2,2, figsize=(12,6), sharex=True, sharey=True)\n",
    "LIM = 0.01\n",
    "# fast_along_valley_wind_days\n",
    "ds_daily_avg = daily_mrds_df[daily_mrds_df.date.isin(\n",
    "    fast_along_valley_wind_days\n",
    ")].groupby(\n",
    "    ['start_time_nodate', 'end_time_nodate', 'midpoint_time_nodate', 'tau']\n",
    ")[['Co']].mean().reset_index().set_index(['midpoint_time_nodate', 'tau']).to_xarray()\n",
    "ds_daily_avg['Co'].plot.contourf(x='midpoint_time_nodate', y='tau', cmap='RdBu_r', levels=21, vmin=-LIM, vmax=LIM, ax=axes[0,0])\n",
    "axes[0,0].set_title(f'Fast along valley wind days (N = {len(fast_along_valley_wind_days)})')\n",
    "\n",
    "# fast_cross_valley_wind_days\n",
    "ds_daily_avg = daily_mrds_df[daily_mrds_df.date.isin(\n",
    "    fast_cross_valley_wind_days\n",
    ")].groupby(\n",
    "    ['start_time_nodate', 'end_time_nodate', 'midpoint_time_nodate', 'tau']\n",
    ")[['Co']].mean().reset_index().set_index(['midpoint_time_nodate', 'tau']).to_xarray()\n",
    "ds_daily_avg['Co'].plot.contourf(x='midpoint_time_nodate', y='tau', cmap='RdBu_r', levels=21, vmin=-LIM, vmax=LIM, ax=axes[0,1])\n",
    "axes[0,1].set_title(f'Fast cross valley wind days (N = {len(fast_cross_valley_wind_days)})')\n",
    "\n",
    "# slow_along_valley_wind_days\n",
    "ds_daily_avg = daily_mrds_df[daily_mrds_df.date.isin(\n",
    "    slow_along_valley_wind_days\n",
    ")].groupby(\n",
    "    ['start_time_nodate', 'end_time_nodate', 'midpoint_time_nodate', 'tau']\n",
    ")[['Co']].mean().reset_index().set_index(['midpoint_time_nodate', 'tau']).to_xarray()\n",
    "ds_daily_avg['Co'].plot.contourf(x='midpoint_time_nodate', y='tau', cmap='RdBu_r', levels=21, vmin=-LIM, vmax=LIM, ax=axes[1,0])\n",
    "axes[1,0].set_title(f'Slow along valley wind days (N = {len(slow_along_valley_wind_days)})')\n",
    "\n",
    "# slow_cross_valley_wind_days\n",
    "ds_daily_avg = daily_mrds_df[daily_mrds_df.date.isin(\n",
    "    slow_cross_valley_wind_days\n",
    ")].groupby(\n",
    "    ['start_time_nodate', 'end_time_nodate', 'midpoint_time_nodate', 'tau']\n",
    ")[['Co']].mean().reset_index().set_index(['midpoint_time_nodate', 'tau']).to_xarray()\n",
    "ds_daily_avg['Co'].plot.contourf(x='midpoint_time_nodate', y='tau', cmap='RdBu_r', levels=21, vmin=-LIM, vmax=LIM, ax=axes[1,1])\n",
    "axes[1,1].set_title(f'Slow cross valley wind days (N = {len(slow_cross_valley_wind_days)})')\n",
    "\n",
    "\n",
    "for ax in axes.flatten():\n",
    "    ax.set_yscale('log')\n",
    "    ax.set_xlabel('')\n",
    "    ax.set_ylabel(r\"$Co(\\overline{u'w'})$\")"
   ]
  },
  {
   "cell_type": "code",
   "execution_count": 13,
   "metadata": {},
   "outputs": [
    {
     "data": {
      "text/html": [
       "\n",
       "<style>\n",
       "  #altair-viz-7b98dd0833b84cec8aa1cd6ed9b9e1e9.vega-embed {\n",
       "    width: 100%;\n",
       "    display: flex;\n",
       "  }\n",
       "\n",
       "  #altair-viz-7b98dd0833b84cec8aa1cd6ed9b9e1e9.vega-embed details,\n",
       "  #altair-viz-7b98dd0833b84cec8aa1cd6ed9b9e1e9.vega-embed details summary {\n",
       "    position: relative;\n",
       "  }\n",
       "</style>\n",
       "<div id=\"altair-viz-7b98dd0833b84cec8aa1cd6ed9b9e1e9\"></div>\n",
       "<script type=\"text/javascript\">\n",
       "  var VEGA_DEBUG = (typeof VEGA_DEBUG == \"undefined\") ? {} : VEGA_DEBUG;\n",
       "  (function(spec, embedOpt){\n",
       "    let outputDiv = document.currentScript.previousElementSibling;\n",
       "    if (outputDiv.id !== \"altair-viz-7b98dd0833b84cec8aa1cd6ed9b9e1e9\") {\n",
       "      outputDiv = document.getElementById(\"altair-viz-7b98dd0833b84cec8aa1cd6ed9b9e1e9\");\n",
       "    }\n",
       "    const paths = {\n",
       "      \"vega\": \"https://cdn.jsdelivr.net/npm/vega@5?noext\",\n",
       "      \"vega-lib\": \"https://cdn.jsdelivr.net/npm/vega-lib?noext\",\n",
       "      \"vega-lite\": \"https://cdn.jsdelivr.net/npm/vega-lite@5.20.1?noext\",\n",
       "      \"vega-embed\": \"https://cdn.jsdelivr.net/npm/vega-embed@6?noext\",\n",
       "    };\n",
       "\n",
       "    function maybeLoadScript(lib, version) {\n",
       "      var key = `${lib.replace(\"-\", \"\")}_version`;\n",
       "      return (VEGA_DEBUG[key] == version) ?\n",
       "        Promise.resolve(paths[lib]) :\n",
       "        new Promise(function(resolve, reject) {\n",
       "          var s = document.createElement('script');\n",
       "          document.getElementsByTagName(\"head\")[0].appendChild(s);\n",
       "          s.async = true;\n",
       "          s.onload = () => {\n",
       "            VEGA_DEBUG[key] = version;\n",
       "            return resolve(paths[lib]);\n",
       "          };\n",
       "          s.onerror = () => reject(`Error loading script: ${paths[lib]}`);\n",
       "          s.src = paths[lib];\n",
       "        });\n",
       "    }\n",
       "\n",
       "    function showError(err) {\n",
       "      outputDiv.innerHTML = `<div class=\"error\" style=\"color:red;\">${err}</div>`;\n",
       "      throw err;\n",
       "    }\n",
       "\n",
       "    function displayChart(vegaEmbed) {\n",
       "      vegaEmbed(outputDiv, spec, embedOpt)\n",
       "        .catch(err => showError(`Javascript Error: ${err.message}<br>This usually means there's a typo in your chart specification. See the javascript console for the full traceback.`));\n",
       "    }\n",
       "\n",
       "    if(typeof define === \"function\" && define.amd) {\n",
       "      requirejs.config({paths});\n",
       "      require([\"vega-embed\"], displayChart, err => showError(`Error loading script: ${err.message}`));\n",
       "    } else {\n",
       "      maybeLoadScript(\"vega\", \"5\")\n",
       "        .then(() => maybeLoadScript(\"vega-lite\", \"5.20.1\"))\n",
       "        .then(() => maybeLoadScript(\"vega-embed\", \"6\"))\n",
       "        .catch(showError)\n",
       "        .then(() => displayChart(vegaEmbed));\n",
       "    }\n",
       "  })({\"config\": {\"view\": {\"continuousWidth\": 300, \"continuousHeight\": 300}}, \"data\": {\"url\": \"altair-data-91424c0324b7857252543bfd8eb116b0.json\", \"format\": {\"type\": \"json\"}}, \"facet\": {\"field\": \"synoptic_dir\", \"type\": \"nominal\"}, \"spec\": {\"layer\": [{\"mark\": {\"type\": \"circle\", \"size\": 80}, \"encoding\": {\"color\": {\"field\": \"synoptic_spd\", \"scale\": {\"range\": [\"black\", \"lightgrey\"]}, \"type\": \"ordinal\"}, \"x\": {\"field\": \"tau\", \"scale\": {\"type\": \"log\"}, \"type\": \"quantitative\"}, \"y\": {\"aggregate\": \"mean\", \"field\": \"Co\", \"title\": \"Co(u'w')\", \"type\": \"quantitative\"}}}, {\"mark\": {\"type\": \"errorbar\", \"extent\": \"iqr\"}, \"encoding\": {\"color\": {\"field\": \"synoptic_spd\", \"scale\": {\"range\": [\"black\", \"lightgrey\"]}, \"type\": \"ordinal\"}, \"x\": {\"field\": \"tau\", \"scale\": {\"type\": \"log\"}, \"type\": \"quantitative\"}, \"y\": {\"field\": \"Co\", \"type\": \"quantitative\"}}}], \"height\": 150}, \"$schema\": \"https://vega.github.io/schema/vega-lite/v5.20.1.json\"}, {\"mode\": \"vega-lite\"});\n",
       "</script>"
      ],
      "text/plain": [
       "alt.FacetChart(...)"
      ]
     },
     "execution_count": 13,
     "metadata": {},
     "output_type": "execute_result"
    }
   ],
   "source": [
    "daily_mrds_df['date'] = daily_mrds_df['start_time'].dt.date\n",
    "daily_mrds_df['start_time_nodate'] = daily_mrds_df['start_time'].apply(lambda dt: dt.replace(year=2023, month=1, day=1))\n",
    "daily_mrds_df['end_time_nodate'] = daily_mrds_df['end_time'].apply(lambda dt: dt.replace(year=2023, month=1, day=1))\n",
    "daily_mrds_df['midpoint_time_nodate'] = daily_mrds_df['start_time_nodate'] + (daily_mrds_df['end_time_nodate'] - daily_mrds_df['start_time_nodate']) / 2\n",
    "\n",
    "src = pd.concat([\n",
    "    daily_mrds_df[daily_mrds_df.date.isin(fast_along_valley_wind_days)].assign(synoptic_dir='along').assign(synoptic_spd = 'fast'),\n",
    "    daily_mrds_df[daily_mrds_df.date.isin(fast_cross_valley_wind_days)].assign(synoptic_dir='cross').assign(synoptic_spd = 'fast'),\n",
    "    daily_mrds_df[daily_mrds_df.date.isin(slow_along_valley_wind_days)].assign(synoptic_dir='along').assign(synoptic_spd = 'slow'),\n",
    "    daily_mrds_df[daily_mrds_df.date.isin(slow_cross_valley_wind_days)].assign(synoptic_dir='cross').assign(synoptic_spd = 'slow'),\n",
    "])\n",
    "src = src[src.start_time.dt.hour >= 12]\n",
    "src = src[src.start_time.dt.hour < 15]\n",
    "\n",
    "horizontal_line = alt.Chart().mark_rule(color='red').encode(y=alt.datum(0))\n",
    "\n",
    "uw_mrd_comparison = (\n",
    "    alt.Chart().mark_circle(size=80).encode(\n",
    "        alt.X('tau:Q').scale(type='log'),\n",
    "        alt.Y('mean(Co):Q').title(\"Co(u'w')\"),\n",
    "        alt.Color('synoptic_spd:O').scale(range=['black', 'lightgrey']),\n",
    "    ) + alt.Chart().mark_errorbar(\n",
    "        extent='iqr'\n",
    "    ).encode(\n",
    "        alt.X('tau:Q').scale(type='log'),\n",
    "        alt.Y('Co:Q'),\n",
    "        alt.Color('synoptic_spd:O').scale(range=['black', 'lightgrey']),\n",
    "    )\n",
    ").properties(height=150).facet(\n",
    "    'synoptic_dir:N', \n",
    "    data = src.reset_index()\n",
    ")\n",
    "uw_mrd_comparison"
   ]
  },
  {
   "cell_type": "code",
   "execution_count": 14,
   "metadata": {},
   "outputs": [
    {
     "data": {
      "text/html": [
       "\n",
       "<style>\n",
       "  #altair-viz-ab1b2408db084a298e33adf9b3e2424b.vega-embed {\n",
       "    width: 100%;\n",
       "    display: flex;\n",
       "  }\n",
       "\n",
       "  #altair-viz-ab1b2408db084a298e33adf9b3e2424b.vega-embed details,\n",
       "  #altair-viz-ab1b2408db084a298e33adf9b3e2424b.vega-embed details summary {\n",
       "    position: relative;\n",
       "  }\n",
       "</style>\n",
       "<div id=\"altair-viz-ab1b2408db084a298e33adf9b3e2424b\"></div>\n",
       "<script type=\"text/javascript\">\n",
       "  var VEGA_DEBUG = (typeof VEGA_DEBUG == \"undefined\") ? {} : VEGA_DEBUG;\n",
       "  (function(spec, embedOpt){\n",
       "    let outputDiv = document.currentScript.previousElementSibling;\n",
       "    if (outputDiv.id !== \"altair-viz-ab1b2408db084a298e33adf9b3e2424b\") {\n",
       "      outputDiv = document.getElementById(\"altair-viz-ab1b2408db084a298e33adf9b3e2424b\");\n",
       "    }\n",
       "    const paths = {\n",
       "      \"vega\": \"https://cdn.jsdelivr.net/npm/vega@5?noext\",\n",
       "      \"vega-lib\": \"https://cdn.jsdelivr.net/npm/vega-lib?noext\",\n",
       "      \"vega-lite\": \"https://cdn.jsdelivr.net/npm/vega-lite@5.20.1?noext\",\n",
       "      \"vega-embed\": \"https://cdn.jsdelivr.net/npm/vega-embed@6?noext\",\n",
       "    };\n",
       "\n",
       "    function maybeLoadScript(lib, version) {\n",
       "      var key = `${lib.replace(\"-\", \"\")}_version`;\n",
       "      return (VEGA_DEBUG[key] == version) ?\n",
       "        Promise.resolve(paths[lib]) :\n",
       "        new Promise(function(resolve, reject) {\n",
       "          var s = document.createElement('script');\n",
       "          document.getElementsByTagName(\"head\")[0].appendChild(s);\n",
       "          s.async = true;\n",
       "          s.onload = () => {\n",
       "            VEGA_DEBUG[key] = version;\n",
       "            return resolve(paths[lib]);\n",
       "          };\n",
       "          s.onerror = () => reject(`Error loading script: ${paths[lib]}`);\n",
       "          s.src = paths[lib];\n",
       "        });\n",
       "    }\n",
       "\n",
       "    function showError(err) {\n",
       "      outputDiv.innerHTML = `<div class=\"error\" style=\"color:red;\">${err}</div>`;\n",
       "      throw err;\n",
       "    }\n",
       "\n",
       "    function displayChart(vegaEmbed) {\n",
       "      vegaEmbed(outputDiv, spec, embedOpt)\n",
       "        .catch(err => showError(`Javascript Error: ${err.message}<br>This usually means there's a typo in your chart specification. See the javascript console for the full traceback.`));\n",
       "    }\n",
       "\n",
       "    if(typeof define === \"function\" && define.amd) {\n",
       "      requirejs.config({paths});\n",
       "      require([\"vega-embed\"], displayChart, err => showError(`Error loading script: ${err.message}`));\n",
       "    } else {\n",
       "      maybeLoadScript(\"vega\", \"5\")\n",
       "        .then(() => maybeLoadScript(\"vega-lite\", \"5.20.1\"))\n",
       "        .then(() => maybeLoadScript(\"vega-embed\", \"6\"))\n",
       "        .catch(showError)\n",
       "        .then(() => displayChart(vegaEmbed));\n",
       "    }\n",
       "  })({\"config\": {\"view\": {\"continuousWidth\": 300, \"continuousHeight\": 300}}, \"data\": {\"url\": \"altair-data-22ece22b4f5c6ecc57ebfaf787cb2d99.json\", \"format\": {\"type\": \"json\"}}, \"facet\": {\"field\": \"synoptic_dir\", \"type\": \"nominal\"}, \"spec\": {\"layer\": [{\"mark\": {\"type\": \"circle\", \"size\": 80}, \"encoding\": {\"color\": {\"field\": \"synoptic_spd\", \"scale\": {\"range\": [\"black\", \"lightgrey\"]}, \"type\": \"ordinal\"}, \"x\": {\"field\": \"tau\", \"scale\": {\"type\": \"log\"}, \"type\": \"quantitative\"}, \"y\": {\"aggregate\": \"mean\", \"field\": \"Co\", \"title\": \"Co(u'v')\", \"type\": \"quantitative\"}}}, {\"mark\": {\"type\": \"errorbar\", \"extent\": \"iqr\"}, \"encoding\": {\"color\": {\"field\": \"synoptic_spd\", \"scale\": {\"range\": [\"black\", \"lightgrey\"]}, \"type\": \"ordinal\"}, \"x\": {\"field\": \"tau\", \"scale\": {\"type\": \"log\"}, \"type\": \"quantitative\"}, \"y\": {\"field\": \"Co\", \"type\": \"quantitative\"}}}], \"height\": 150}, \"$schema\": \"https://vega.github.io/schema/vega-lite/v5.20.1.json\"}, {\"mode\": \"vega-lite\"});\n",
       "</script>"
      ],
      "text/plain": [
       "alt.FacetChart(...)"
      ]
     },
     "execution_count": 14,
     "metadata": {},
     "output_type": "execute_result"
    }
   ],
   "source": [
    "daily_mrds_uv_df['date'] = daily_mrds_uv_df['start_time'].dt.date\n",
    "daily_mrds_uv_df['start_time_nodate'] = daily_mrds_uv_df['start_time'].apply(lambda dt: dt.replace(year=2023, month=1, day=1))\n",
    "daily_mrds_uv_df['end_time_nodate'] = daily_mrds_uv_df['end_time'].apply(lambda dt: dt.replace(year=2023, month=1, day=1))\n",
    "daily_mrds_uv_df['midpoint_time_nodate'] = daily_mrds_uv_df['start_time_nodate'] + (daily_mrds_uv_df['end_time_nodate'] - daily_mrds_uv_df['start_time_nodate']) / 2\n",
    "\n",
    "src = pd.concat([\n",
    "    daily_mrds_uv_df[daily_mrds_uv_df.date.isin(fast_along_valley_wind_days)].assign(synoptic_dir='along').assign(synoptic_spd = 'fast'),\n",
    "    daily_mrds_uv_df[daily_mrds_uv_df.date.isin(fast_cross_valley_wind_days)].assign(synoptic_dir='cross').assign(synoptic_spd = 'fast'),\n",
    "    daily_mrds_uv_df[daily_mrds_uv_df.date.isin(slow_along_valley_wind_days)].assign(synoptic_dir='along').assign(synoptic_spd = 'slow'),\n",
    "    daily_mrds_uv_df[daily_mrds_uv_df.date.isin(slow_cross_valley_wind_days)].assign(synoptic_dir='cross').assign(synoptic_spd = 'slow'),\n",
    "])\n",
    "src = src[src.start_time.dt.hour >= 12]\n",
    "src = src[src.start_time.dt.hour < 15]\n",
    "\n",
    "horizontal_line = alt.Chart().mark_rule(color='red').encode(y=alt.datum(0))\n",
    "\n",
    "uv_mrd_comparison = (\n",
    "    alt.Chart().mark_circle(size=80).encode(\n",
    "        alt.X('tau:Q').scale(type='log'),\n",
    "        alt.Y('mean(Co):Q').title(\"Co(u'v')\"),\n",
    "        alt.Color('synoptic_spd:O').scale(range=['black', 'lightgrey']),\n",
    "    ) + alt.Chart().mark_errorbar(\n",
    "        extent='iqr'\n",
    "    ).encode(\n",
    "        alt.X('tau:Q').scale(type='log'),\n",
    "        alt.Y('Co:Q'),\n",
    "        alt.Color('synoptic_spd:O').scale(range=['black', 'lightgrey']),\n",
    "    )\n",
    ").properties(height=150).facet(\n",
    "    'synoptic_dir:N', \n",
    "    data = src.reset_index()\n",
    ")\n",
    "uv_mrd_comparison"
   ]
  },
  {
   "cell_type": "code",
   "execution_count": 15,
   "metadata": {},
   "outputs": [
    {
     "data": {
      "text/html": [
       "\n",
       "<style>\n",
       "  #altair-viz-d89b4f7229a3487c87195ea389779ab2.vega-embed {\n",
       "    width: 100%;\n",
       "    display: flex;\n",
       "  }\n",
       "\n",
       "  #altair-viz-d89b4f7229a3487c87195ea389779ab2.vega-embed details,\n",
       "  #altair-viz-d89b4f7229a3487c87195ea389779ab2.vega-embed details summary {\n",
       "    position: relative;\n",
       "  }\n",
       "</style>\n",
       "<div id=\"altair-viz-d89b4f7229a3487c87195ea389779ab2\"></div>\n",
       "<script type=\"text/javascript\">\n",
       "  var VEGA_DEBUG = (typeof VEGA_DEBUG == \"undefined\") ? {} : VEGA_DEBUG;\n",
       "  (function(spec, embedOpt){\n",
       "    let outputDiv = document.currentScript.previousElementSibling;\n",
       "    if (outputDiv.id !== \"altair-viz-d89b4f7229a3487c87195ea389779ab2\") {\n",
       "      outputDiv = document.getElementById(\"altair-viz-d89b4f7229a3487c87195ea389779ab2\");\n",
       "    }\n",
       "    const paths = {\n",
       "      \"vega\": \"https://cdn.jsdelivr.net/npm/vega@5?noext\",\n",
       "      \"vega-lib\": \"https://cdn.jsdelivr.net/npm/vega-lib?noext\",\n",
       "      \"vega-lite\": \"https://cdn.jsdelivr.net/npm/vega-lite@5.20.1?noext\",\n",
       "      \"vega-embed\": \"https://cdn.jsdelivr.net/npm/vega-embed@6?noext\",\n",
       "    };\n",
       "\n",
       "    function maybeLoadScript(lib, version) {\n",
       "      var key = `${lib.replace(\"-\", \"\")}_version`;\n",
       "      return (VEGA_DEBUG[key] == version) ?\n",
       "        Promise.resolve(paths[lib]) :\n",
       "        new Promise(function(resolve, reject) {\n",
       "          var s = document.createElement('script');\n",
       "          document.getElementsByTagName(\"head\")[0].appendChild(s);\n",
       "          s.async = true;\n",
       "          s.onload = () => {\n",
       "            VEGA_DEBUG[key] = version;\n",
       "            return resolve(paths[lib]);\n",
       "          };\n",
       "          s.onerror = () => reject(`Error loading script: ${paths[lib]}`);\n",
       "          s.src = paths[lib];\n",
       "        });\n",
       "    }\n",
       "\n",
       "    function showError(err) {\n",
       "      outputDiv.innerHTML = `<div class=\"error\" style=\"color:red;\">${err}</div>`;\n",
       "      throw err;\n",
       "    }\n",
       "\n",
       "    function displayChart(vegaEmbed) {\n",
       "      vegaEmbed(outputDiv, spec, embedOpt)\n",
       "        .catch(err => showError(`Javascript Error: ${err.message}<br>This usually means there's a typo in your chart specification. See the javascript console for the full traceback.`));\n",
       "    }\n",
       "\n",
       "    if(typeof define === \"function\" && define.amd) {\n",
       "      requirejs.config({paths});\n",
       "      require([\"vega-embed\"], displayChart, err => showError(`Error loading script: ${err.message}`));\n",
       "    } else {\n",
       "      maybeLoadScript(\"vega\", \"5\")\n",
       "        .then(() => maybeLoadScript(\"vega-lite\", \"5.20.1\"))\n",
       "        .then(() => maybeLoadScript(\"vega-embed\", \"6\"))\n",
       "        .catch(showError)\n",
       "        .then(() => displayChart(vegaEmbed));\n",
       "    }\n",
       "  })({\"config\": {\"view\": {\"continuousWidth\": 300, \"continuousHeight\": 300}}, \"data\": {\"url\": \"altair-data-d63e5eaf5ce00eebb1d72ac09439d7c2.json\", \"format\": {\"type\": \"json\"}}, \"facet\": {\"field\": \"synoptic_dir\", \"type\": \"nominal\"}, \"spec\": {\"layer\": [{\"mark\": {\"type\": \"circle\", \"size\": 80}, \"encoding\": {\"color\": {\"field\": \"synoptic_spd\", \"scale\": {\"range\": [\"black\", \"lightgrey\"]}, \"type\": \"ordinal\"}, \"x\": {\"field\": \"tau\", \"scale\": {\"type\": \"log\"}, \"type\": \"quantitative\"}, \"y\": {\"aggregate\": \"mean\", \"field\": \"Co\", \"title\": \"Co(v'w')\", \"type\": \"quantitative\"}}}, {\"mark\": {\"type\": \"errorbar\", \"extent\": \"iqr\"}, \"encoding\": {\"color\": {\"field\": \"synoptic_spd\", \"scale\": {\"range\": [\"black\", \"lightgrey\"]}, \"type\": \"ordinal\"}, \"x\": {\"field\": \"tau\", \"scale\": {\"type\": \"log\"}, \"type\": \"quantitative\"}, \"y\": {\"field\": \"Co\", \"type\": \"quantitative\"}}}], \"height\": 150}, \"$schema\": \"https://vega.github.io/schema/vega-lite/v5.20.1.json\"}, {\"mode\": \"vega-lite\"});\n",
       "</script>"
      ],
      "text/plain": [
       "alt.FacetChart(...)"
      ]
     },
     "execution_count": 15,
     "metadata": {},
     "output_type": "execute_result"
    }
   ],
   "source": [
    "daily_mrds_vw_df['date'] = daily_mrds_vw_df['start_time'].dt.date\n",
    "daily_mrds_vw_df['start_time_nodate'] = daily_mrds_vw_df['start_time'].apply(lambda dt: dt.replace(year=2023, month=1, day=1))\n",
    "daily_mrds_vw_df['end_time_nodate'] = daily_mrds_vw_df['end_time'].apply(lambda dt: dt.replace(year=2023, month=1, day=1))\n",
    "daily_mrds_vw_df['midpoint_time_nodate'] = daily_mrds_vw_df['start_time_nodate'] + (daily_mrds_vw_df['end_time_nodate'] - daily_mrds_vw_df['start_time_nodate']) / 2\n",
    "\n",
    "src = pd.concat([\n",
    "    daily_mrds_vw_df[daily_mrds_vw_df.date.isin(fast_along_valley_wind_days)].assign(synoptic_dir='along').assign(synoptic_spd = 'fast'),\n",
    "    daily_mrds_vw_df[daily_mrds_vw_df.date.isin(fast_cross_valley_wind_days)].assign(synoptic_dir='cross').assign(synoptic_spd = 'fast'),\n",
    "    daily_mrds_vw_df[daily_mrds_vw_df.date.isin(slow_along_valley_wind_days)].assign(synoptic_dir='along').assign(synoptic_spd = 'slow'),\n",
    "    daily_mrds_vw_df[daily_mrds_vw_df.date.isin(slow_cross_valley_wind_days)].assign(synoptic_dir='cross').assign(synoptic_spd = 'slow'),\n",
    "])\n",
    "src = src[src.start_time.dt.hour >= 12]\n",
    "src = src[src.start_time.dt.hour < 15]\n",
    "\n",
    "horizontal_line = alt.Chart().mark_rule(color='red').encode(y=alt.datum(0))\n",
    "\n",
    "vw_mrd_comparison = (\n",
    "    alt.Chart().mark_circle(size=80).encode(\n",
    "        alt.X('tau:Q').scale(type='log'),\n",
    "        alt.Y('mean(Co):Q').title(\"Co(v'w')\"),\n",
    "        alt.Color('synoptic_spd:O').scale(range=['black', 'lightgrey']),\n",
    "    ) + alt.Chart().mark_errorbar(\n",
    "        extent='iqr'\n",
    "    ).encode(\n",
    "        alt.X('tau:Q').scale(type='log'),\n",
    "        alt.Y('Co:Q'),\n",
    "        alt.Color('synoptic_spd:O').scale(range=['black', 'lightgrey']),\n",
    "    )\n",
    ").properties(height=150).facet(\n",
    "    'synoptic_dir:N', \n",
    "    data = src.reset_index()\n",
    ")\n",
    "vw_mrd_comparison"
   ]
  },
  {
   "cell_type": "code",
   "execution_count": 16,
   "metadata": {},
   "outputs": [
    {
     "data": {
      "text/html": [
       "\n",
       "<style>\n",
       "  #altair-viz-8229228dfc8f47f2adbbd0658c09d7d4.vega-embed {\n",
       "    width: 100%;\n",
       "    display: flex;\n",
       "  }\n",
       "\n",
       "  #altair-viz-8229228dfc8f47f2adbbd0658c09d7d4.vega-embed details,\n",
       "  #altair-viz-8229228dfc8f47f2adbbd0658c09d7d4.vega-embed details summary {\n",
       "    position: relative;\n",
       "  }\n",
       "</style>\n",
       "<div id=\"altair-viz-8229228dfc8f47f2adbbd0658c09d7d4\"></div>\n",
       "<script type=\"text/javascript\">\n",
       "  var VEGA_DEBUG = (typeof VEGA_DEBUG == \"undefined\") ? {} : VEGA_DEBUG;\n",
       "  (function(spec, embedOpt){\n",
       "    let outputDiv = document.currentScript.previousElementSibling;\n",
       "    if (outputDiv.id !== \"altair-viz-8229228dfc8f47f2adbbd0658c09d7d4\") {\n",
       "      outputDiv = document.getElementById(\"altair-viz-8229228dfc8f47f2adbbd0658c09d7d4\");\n",
       "    }\n",
       "    const paths = {\n",
       "      \"vega\": \"https://cdn.jsdelivr.net/npm/vega@5?noext\",\n",
       "      \"vega-lib\": \"https://cdn.jsdelivr.net/npm/vega-lib?noext\",\n",
       "      \"vega-lite\": \"https://cdn.jsdelivr.net/npm/vega-lite@5.20.1?noext\",\n",
       "      \"vega-embed\": \"https://cdn.jsdelivr.net/npm/vega-embed@6?noext\",\n",
       "    };\n",
       "\n",
       "    function maybeLoadScript(lib, version) {\n",
       "      var key = `${lib.replace(\"-\", \"\")}_version`;\n",
       "      return (VEGA_DEBUG[key] == version) ?\n",
       "        Promise.resolve(paths[lib]) :\n",
       "        new Promise(function(resolve, reject) {\n",
       "          var s = document.createElement('script');\n",
       "          document.getElementsByTagName(\"head\")[0].appendChild(s);\n",
       "          s.async = true;\n",
       "          s.onload = () => {\n",
       "            VEGA_DEBUG[key] = version;\n",
       "            return resolve(paths[lib]);\n",
       "          };\n",
       "          s.onerror = () => reject(`Error loading script: ${paths[lib]}`);\n",
       "          s.src = paths[lib];\n",
       "        });\n",
       "    }\n",
       "\n",
       "    function showError(err) {\n",
       "      outputDiv.innerHTML = `<div class=\"error\" style=\"color:red;\">${err}</div>`;\n",
       "      throw err;\n",
       "    }\n",
       "\n",
       "    function displayChart(vegaEmbed) {\n",
       "      vegaEmbed(outputDiv, spec, embedOpt)\n",
       "        .catch(err => showError(`Javascript Error: ${err.message}<br>This usually means there's a typo in your chart specification. See the javascript console for the full traceback.`));\n",
       "    }\n",
       "\n",
       "    if(typeof define === \"function\" && define.amd) {\n",
       "      requirejs.config({paths});\n",
       "      require([\"vega-embed\"], displayChart, err => showError(`Error loading script: ${err.message}`));\n",
       "    } else {\n",
       "      maybeLoadScript(\"vega\", \"5\")\n",
       "        .then(() => maybeLoadScript(\"vega-lite\", \"5.20.1\"))\n",
       "        .then(() => maybeLoadScript(\"vega-embed\", \"6\"))\n",
       "        .catch(showError)\n",
       "        .then(() => displayChart(vegaEmbed));\n",
       "    }\n",
       "  })({\"config\": {\"view\": {\"continuousWidth\": 300, \"continuousHeight\": 300}, \"axis\": {\"grid\": false}}, \"vconcat\": [{\"data\": {\"url\": \"altair-data-91424c0324b7857252543bfd8eb116b0.json\", \"format\": {\"type\": \"json\"}}, \"facet\": {\"field\": \"synoptic_dir\", \"type\": \"nominal\"}, \"spec\": {\"layer\": [{\"mark\": {\"type\": \"circle\", \"size\": 80}, \"encoding\": {\"color\": {\"field\": \"synoptic_spd\", \"scale\": {\"range\": [\"black\", \"lightgrey\"]}, \"type\": \"ordinal\"}, \"x\": {\"field\": \"tau\", \"scale\": {\"type\": \"log\"}, \"type\": \"quantitative\"}, \"y\": {\"aggregate\": \"mean\", \"field\": \"Co\", \"title\": \"Co(u'w')\", \"type\": \"quantitative\"}}}, {\"mark\": {\"type\": \"errorbar\", \"extent\": \"iqr\"}, \"encoding\": {\"color\": {\"field\": \"synoptic_spd\", \"scale\": {\"range\": [\"black\", \"lightgrey\"]}, \"type\": \"ordinal\"}, \"x\": {\"field\": \"tau\", \"scale\": {\"type\": \"log\"}, \"type\": \"quantitative\"}, \"y\": {\"field\": \"Co\", \"type\": \"quantitative\"}}}], \"height\": 150}}, {\"data\": {\"url\": \"altair-data-d63e5eaf5ce00eebb1d72ac09439d7c2.json\", \"format\": {\"type\": \"json\"}}, \"facet\": {\"field\": \"synoptic_dir\", \"type\": \"nominal\"}, \"spec\": {\"layer\": [{\"mark\": {\"type\": \"circle\", \"size\": 80}, \"encoding\": {\"color\": {\"field\": \"synoptic_spd\", \"scale\": {\"range\": [\"black\", \"lightgrey\"]}, \"type\": \"ordinal\"}, \"x\": {\"field\": \"tau\", \"scale\": {\"type\": \"log\"}, \"type\": \"quantitative\"}, \"y\": {\"aggregate\": \"mean\", \"field\": \"Co\", \"title\": \"Co(v'w')\", \"type\": \"quantitative\"}}}, {\"mark\": {\"type\": \"errorbar\", \"extent\": \"iqr\"}, \"encoding\": {\"color\": {\"field\": \"synoptic_spd\", \"scale\": {\"range\": [\"black\", \"lightgrey\"]}, \"type\": \"ordinal\"}, \"x\": {\"field\": \"tau\", \"scale\": {\"type\": \"log\"}, \"type\": \"quantitative\"}, \"y\": {\"field\": \"Co\", \"type\": \"quantitative\"}}}], \"height\": 150}}, {\"data\": {\"url\": \"altair-data-22ece22b4f5c6ecc57ebfaf787cb2d99.json\", \"format\": {\"type\": \"json\"}}, \"facet\": {\"field\": \"synoptic_dir\", \"type\": \"nominal\"}, \"spec\": {\"layer\": [{\"mark\": {\"type\": \"circle\", \"size\": 80}, \"encoding\": {\"color\": {\"field\": \"synoptic_spd\", \"scale\": {\"range\": [\"black\", \"lightgrey\"]}, \"type\": \"ordinal\"}, \"x\": {\"field\": \"tau\", \"scale\": {\"type\": \"log\"}, \"type\": \"quantitative\"}, \"y\": {\"aggregate\": \"mean\", \"field\": \"Co\", \"title\": \"Co(u'v')\", \"type\": \"quantitative\"}}}, {\"mark\": {\"type\": \"errorbar\", \"extent\": \"iqr\"}, \"encoding\": {\"color\": {\"field\": \"synoptic_spd\", \"scale\": {\"range\": [\"black\", \"lightgrey\"]}, \"type\": \"ordinal\"}, \"x\": {\"field\": \"tau\", \"scale\": {\"type\": \"log\"}, \"type\": \"quantitative\"}, \"y\": {\"field\": \"Co\", \"type\": \"quantitative\"}}}], \"height\": 150}}], \"$schema\": \"https://vega.github.io/schema/vega-lite/v5.20.1.json\"}, {\"mode\": \"vega-lite\"});\n",
       "</script>"
      ],
      "text/plain": [
       "alt.VConcatChart(...)"
      ]
     },
     "execution_count": 16,
     "metadata": {},
     "output_type": "execute_result"
    }
   ],
   "source": [
    "(\n",
    "    uw_mrd_comparison & vw_mrd_comparison & uv_mrd_comparison\n",
    ").configure_axis(grid=False)"
   ]
  },
  {
   "cell_type": "markdown",
   "metadata": {},
   "source": [
    "Do the same thing, but normalize"
   ]
  },
  {
   "cell_type": "code",
   "execution_count": 17,
   "metadata": {},
   "outputs": [
    {
     "name": "stderr",
     "output_type": "stream",
     "text": [
      "/var/folders/x_/2h52bcjx2px15bhmdpdd748h0000gn/T/ipykernel_45213/4091719063.py:1: DeprecationWarning: DataFrameGroupBy.apply operated on the grouping columns. This behavior is deprecated, and in a future version of pandas the grouping columns will be excluded from the operation. Either pass `include_groups=False` to exclude the groupings or explicitly select the grouping columns after groupby to silence this warning.\n",
      "  daily_mrds_df = daily_mrds_df.groupby(['start_time', 'end_time']).apply(\n",
      "/var/folders/x_/2h52bcjx2px15bhmdpdd748h0000gn/T/ipykernel_45213/4091719063.py:6: DeprecationWarning: DataFrameGroupBy.apply operated on the grouping columns. This behavior is deprecated, and in a future version of pandas the grouping columns will be excluded from the operation. Either pass `include_groups=False` to exclude the groupings or explicitly select the grouping columns after groupby to silence this warning.\n",
      "  daily_mrds_uv_df = daily_mrds_uv_df.groupby(['start_time', 'end_time']).apply(\n",
      "/var/folders/x_/2h52bcjx2px15bhmdpdd748h0000gn/T/ipykernel_45213/4091719063.py:11: DeprecationWarning: DataFrameGroupBy.apply operated on the grouping columns. This behavior is deprecated, and in a future version of pandas the grouping columns will be excluded from the operation. Either pass `include_groups=False` to exclude the groupings or explicitly select the grouping columns after groupby to silence this warning.\n",
      "  daily_mrds_vw_df = daily_mrds_vw_df.groupby(['start_time', 'end_time']).apply(\n"
     ]
    }
   ],
   "source": [
    "daily_mrds_df = daily_mrds_df.groupby(['start_time', 'end_time']).apply(\n",
    "    lambda df: df.assign(\n",
    "        Co_norm = df.Co/np.sum(df.Co)\n",
    "    )\n",
    ")\n",
    "daily_mrds_uv_df = daily_mrds_uv_df.groupby(['start_time', 'end_time']).apply(\n",
    "    lambda df: df.assign(\n",
    "        Co_norm = df.Co/np.sum(df.Co)\n",
    "    )\n",
    ")\n",
    "daily_mrds_vw_df = daily_mrds_vw_df.groupby(['start_time', 'end_time']).apply(\n",
    "    lambda df: df.assign(\n",
    "        Co_norm = df.Co/np.sum(df.Co)\n",
    "    )\n",
    ")"
   ]
  },
  {
   "cell_type": "code",
   "execution_count": 18,
   "metadata": {},
   "outputs": [],
   "source": [
    "def chart(src, ytitle):\n",
    "    return (\n",
    "        alt.Chart().mark_circle(size=87, opacity=0.5).encode(\n",
    "            alt.X('tau:Q').scale(type='log'),\n",
    "            alt.Y('median(Co_norm):Q').title(ytitle),\n",
    "            alt.Color('synoptic_dir:N'),\n",
    "        ) + alt.Chart().mark_errorbar(\n",
    "            extent='iqr',\n",
    "            rule = {'strokeWidth' : 3},\n",
    "            opacity=0.5\n",
    "        ).encode(\n",
    "            alt.X('tau:Q').scale(type='log'),\n",
    "            alt.Y('Co_norm:Q'),\n",
    "            alt.Color('synoptic_dir:N'),\n",
    "        )\n",
    "    ).properties(height=150).facet(\n",
    "        'synoptic_spd:N', \n",
    "        data = src.reset_index(drop=True)\n",
    "    )"
   ]
  },
  {
   "cell_type": "code",
   "execution_count": 19,
   "metadata": {},
   "outputs": [
    {
     "data": {
      "text/html": [
       "\n",
       "<style>\n",
       "  #altair-viz-4d068d75658349bfbb42e6cf777d6328.vega-embed {\n",
       "    width: 100%;\n",
       "    display: flex;\n",
       "  }\n",
       "\n",
       "  #altair-viz-4d068d75658349bfbb42e6cf777d6328.vega-embed details,\n",
       "  #altair-viz-4d068d75658349bfbb42e6cf777d6328.vega-embed details summary {\n",
       "    position: relative;\n",
       "  }\n",
       "</style>\n",
       "<div id=\"altair-viz-4d068d75658349bfbb42e6cf777d6328\"></div>\n",
       "<script type=\"text/javascript\">\n",
       "  var VEGA_DEBUG = (typeof VEGA_DEBUG == \"undefined\") ? {} : VEGA_DEBUG;\n",
       "  (function(spec, embedOpt){\n",
       "    let outputDiv = document.currentScript.previousElementSibling;\n",
       "    if (outputDiv.id !== \"altair-viz-4d068d75658349bfbb42e6cf777d6328\") {\n",
       "      outputDiv = document.getElementById(\"altair-viz-4d068d75658349bfbb42e6cf777d6328\");\n",
       "    }\n",
       "    const paths = {\n",
       "      \"vega\": \"https://cdn.jsdelivr.net/npm/vega@5?noext\",\n",
       "      \"vega-lib\": \"https://cdn.jsdelivr.net/npm/vega-lib?noext\",\n",
       "      \"vega-lite\": \"https://cdn.jsdelivr.net/npm/vega-lite@5.20.1?noext\",\n",
       "      \"vega-embed\": \"https://cdn.jsdelivr.net/npm/vega-embed@6?noext\",\n",
       "    };\n",
       "\n",
       "    function maybeLoadScript(lib, version) {\n",
       "      var key = `${lib.replace(\"-\", \"\")}_version`;\n",
       "      return (VEGA_DEBUG[key] == version) ?\n",
       "        Promise.resolve(paths[lib]) :\n",
       "        new Promise(function(resolve, reject) {\n",
       "          var s = document.createElement('script');\n",
       "          document.getElementsByTagName(\"head\")[0].appendChild(s);\n",
       "          s.async = true;\n",
       "          s.onload = () => {\n",
       "            VEGA_DEBUG[key] = version;\n",
       "            return resolve(paths[lib]);\n",
       "          };\n",
       "          s.onerror = () => reject(`Error loading script: ${paths[lib]}`);\n",
       "          s.src = paths[lib];\n",
       "        });\n",
       "    }\n",
       "\n",
       "    function showError(err) {\n",
       "      outputDiv.innerHTML = `<div class=\"error\" style=\"color:red;\">${err}</div>`;\n",
       "      throw err;\n",
       "    }\n",
       "\n",
       "    function displayChart(vegaEmbed) {\n",
       "      vegaEmbed(outputDiv, spec, embedOpt)\n",
       "        .catch(err => showError(`Javascript Error: ${err.message}<br>This usually means there's a typo in your chart specification. See the javascript console for the full traceback.`));\n",
       "    }\n",
       "\n",
       "    if(typeof define === \"function\" && define.amd) {\n",
       "      requirejs.config({paths});\n",
       "      require([\"vega-embed\"], displayChart, err => showError(`Error loading script: ${err.message}`));\n",
       "    } else {\n",
       "      maybeLoadScript(\"vega\", \"5\")\n",
       "        .then(() => maybeLoadScript(\"vega-lite\", \"5.20.1\"))\n",
       "        .then(() => maybeLoadScript(\"vega-embed\", \"6\"))\n",
       "        .catch(showError)\n",
       "        .then(() => displayChart(vegaEmbed));\n",
       "    }\n",
       "  })({\"config\": {\"view\": {\"continuousWidth\": 300, \"continuousHeight\": 300}, \"axis\": {\"grid\": false}}, \"vconcat\": [{\"data\": {\"url\": \"altair-data-30b304a09fa2fb92f48cf7a4ab106a09.json\", \"format\": {\"type\": \"json\"}}, \"facet\": {\"field\": \"synoptic_spd\", \"type\": \"nominal\"}, \"spec\": {\"layer\": [{\"mark\": {\"type\": \"circle\", \"opacity\": 0.5, \"size\": 87}, \"encoding\": {\"color\": {\"field\": \"synoptic_dir\", \"type\": \"nominal\"}, \"x\": {\"field\": \"tau\", \"scale\": {\"type\": \"log\"}, \"type\": \"quantitative\"}, \"y\": {\"aggregate\": \"median\", \"field\": \"Co_norm\", \"title\": \"Co(u'w') / 'u'w'\", \"type\": \"quantitative\"}}}, {\"mark\": {\"type\": \"errorbar\", \"extent\": \"iqr\", \"opacity\": 0.5, \"rule\": {\"strokeWidth\": 3}}, \"encoding\": {\"color\": {\"field\": \"synoptic_dir\", \"type\": \"nominal\"}, \"x\": {\"field\": \"tau\", \"scale\": {\"type\": \"log\"}, \"type\": \"quantitative\"}, \"y\": {\"field\": \"Co_norm\", \"type\": \"quantitative\"}}}], \"height\": 150}}, {\"data\": {\"url\": \"altair-data-304ae86418aab6b75993094eadc1c873.json\", \"format\": {\"type\": \"json\"}}, \"facet\": {\"field\": \"synoptic_spd\", \"type\": \"nominal\"}, \"spec\": {\"layer\": [{\"mark\": {\"type\": \"circle\", \"opacity\": 0.5, \"size\": 87}, \"encoding\": {\"color\": {\"field\": \"synoptic_dir\", \"type\": \"nominal\"}, \"x\": {\"field\": \"tau\", \"scale\": {\"type\": \"log\"}, \"type\": \"quantitative\"}, \"y\": {\"aggregate\": \"median\", \"field\": \"Co_norm\", \"title\": \"Co(v'w') / 'v'w'\", \"type\": \"quantitative\"}}}, {\"mark\": {\"type\": \"errorbar\", \"extent\": \"iqr\", \"opacity\": 0.5, \"rule\": {\"strokeWidth\": 3}}, \"encoding\": {\"color\": {\"field\": \"synoptic_dir\", \"type\": \"nominal\"}, \"x\": {\"field\": \"tau\", \"scale\": {\"type\": \"log\"}, \"type\": \"quantitative\"}, \"y\": {\"field\": \"Co_norm\", \"type\": \"quantitative\"}}}], \"height\": 150}}, {\"data\": {\"url\": \"altair-data-d8db4448a908dbc61afa054bf3b5b0a7.json\", \"format\": {\"type\": \"json\"}}, \"facet\": {\"field\": \"synoptic_spd\", \"type\": \"nominal\"}, \"spec\": {\"layer\": [{\"mark\": {\"type\": \"circle\", \"opacity\": 0.5, \"size\": 87}, \"encoding\": {\"color\": {\"field\": \"synoptic_dir\", \"type\": \"nominal\"}, \"x\": {\"field\": \"tau\", \"scale\": {\"type\": \"log\"}, \"type\": \"quantitative\"}, \"y\": {\"aggregate\": \"median\", \"field\": \"Co_norm\", \"title\": \"Co(u'v') / 'u'v'\", \"type\": \"quantitative\"}}}, {\"mark\": {\"type\": \"errorbar\", \"extent\": \"iqr\", \"opacity\": 0.5, \"rule\": {\"strokeWidth\": 3}}, \"encoding\": {\"color\": {\"field\": \"synoptic_dir\", \"type\": \"nominal\"}, \"x\": {\"field\": \"tau\", \"scale\": {\"type\": \"log\"}, \"type\": \"quantitative\"}, \"y\": {\"field\": \"Co_norm\", \"type\": \"quantitative\"}}}], \"height\": 150}}], \"$schema\": \"https://vega.github.io/schema/vega-lite/v5.20.1.json\"}, {\"mode\": \"vega-lite\"});\n",
       "</script>"
      ],
      "text/plain": [
       "alt.VConcatChart(...)"
      ]
     },
     "execution_count": 19,
     "metadata": {},
     "output_type": "execute_result"
    }
   ],
   "source": [
    "src_uw = pd.concat([\n",
    "    daily_mrds_df[daily_mrds_df.date.isin(fast_along_valley_wind_days)].assign(synoptic_dir='along').assign(synoptic_spd = 'fast'),\n",
    "    daily_mrds_df[daily_mrds_df.date.isin(fast_cross_valley_wind_days)].assign(synoptic_dir='cross').assign(synoptic_spd = 'fast'),\n",
    "    daily_mrds_df[daily_mrds_df.date.isin(slow_along_valley_wind_days)].assign(synoptic_dir='along').assign(synoptic_spd = 'slow'),\n",
    "    daily_mrds_df[daily_mrds_df.date.isin(slow_cross_valley_wind_days)].assign(synoptic_dir='cross').assign(synoptic_spd = 'slow'),\n",
    "])\n",
    "src_uw = src_uw[(src_uw.start_time.dt.hour >= 12) & (src_uw.start_time.dt.hour < 15)]\n",
    "\n",
    "src_vw = pd.concat([\n",
    "    daily_mrds_vw_df[daily_mrds_vw_df.date.isin(fast_along_valley_wind_days)].assign(synoptic_dir='along').assign(synoptic_spd = 'fast'),\n",
    "    daily_mrds_vw_df[daily_mrds_vw_df.date.isin(fast_cross_valley_wind_days)].assign(synoptic_dir='cross').assign(synoptic_spd = 'fast'),\n",
    "    daily_mrds_vw_df[daily_mrds_vw_df.date.isin(slow_along_valley_wind_days)].assign(synoptic_dir='along').assign(synoptic_spd = 'slow'),\n",
    "    daily_mrds_vw_df[daily_mrds_vw_df.date.isin(slow_cross_valley_wind_days)].assign(synoptic_dir='cross').assign(synoptic_spd = 'slow'),\n",
    "])\n",
    "src_vw = src_vw[(src_vw.start_time.dt.hour >= 12) & (src_vw.start_time.dt.hour < 15)]\n",
    "\n",
    "src_uv = pd.concat([\n",
    "    daily_mrds_uv_df[daily_mrds_uv_df.date.isin(fast_along_valley_wind_days)].assign(synoptic_dir='along').assign(synoptic_spd = 'fast'),\n",
    "    daily_mrds_uv_df[daily_mrds_uv_df.date.isin(fast_cross_valley_wind_days)].assign(synoptic_dir='cross').assign(synoptic_spd = 'fast'),\n",
    "    daily_mrds_uv_df[daily_mrds_uv_df.date.isin(slow_along_valley_wind_days)].assign(synoptic_dir='along').assign(synoptic_spd = 'slow'),\n",
    "    daily_mrds_uv_df[daily_mrds_uv_df.date.isin(slow_cross_valley_wind_days)].assign(synoptic_dir='cross').assign(synoptic_spd = 'slow'),\n",
    "])\n",
    "src_uv = src_uv[(src_uv.start_time.dt.hour >= 12) & (src_uv.start_time.dt.hour < 15)]\n",
    "\n",
    "\n",
    "(\n",
    "    chart(src_uw, \"Co(u'w') / 'u'w'\") & chart(src_vw, \"Co(v'w') / 'v'w'\") & chart(src_uv, \"Co(u'v') / 'u'v'\")\n",
    ").configure_axis(grid=False)"
   ]
  },
  {
   "cell_type": "code",
   "execution_count": null,
   "metadata": {},
   "outputs": [],
   "source": []
  },
  {
   "cell_type": "code",
   "execution_count": null,
   "metadata": {},
   "outputs": [],
   "source": []
  },
  {
   "cell_type": "code",
   "execution_count": null,
   "metadata": {},
   "outputs": [],
   "source": []
  },
  {
   "cell_type": "code",
   "execution_count": null,
   "metadata": {},
   "outputs": [],
   "source": []
  },
  {
   "cell_type": "code",
   "execution_count": null,
   "metadata": {},
   "outputs": [],
   "source": []
  },
  {
   "cell_type": "code",
   "execution_count": null,
   "metadata": {},
   "outputs": [],
   "source": [
    "wind_speed_src = sos_df.query(\"variable == 'spd_3m_c'\")\n",
    "wind_speed_src.head()"
   ]
  },
  {
   "cell_type": "code",
   "execution_count": null,
   "metadata": {},
   "outputs": [],
   "source": [
    "print(wind_speed_src[wind_speed_src.time.dt.date.isin(fast_along_valley_wind_days)].value.mean())\n",
    "print(wind_speed_src[wind_speed_src.time.dt.date.isin(fast_cross_valley_wind_days)].value.mean())\n",
    "print(wind_speed_src[wind_speed_src.time.dt.date.isin(slow_along_valley_wind_days)].value.mean())\n",
    "print(wind_speed_src[wind_speed_src.time.dt.date.isin(slow_cross_valley_wind_days)].value.mean())"
   ]
  },
  {
   "cell_type": "code",
   "execution_count": null,
   "metadata": {},
   "outputs": [],
   "source": [
    "print(wind_speed_src[wind_speed_src.time.dt.date.isin(fast_along_valley_wind_days)].value.median())\n",
    "print(wind_speed_src[wind_speed_src.time.dt.date.isin(fast_cross_valley_wind_days)].value.median())\n",
    "print(wind_speed_src[wind_speed_src.time.dt.date.isin(slow_along_valley_wind_days)].value.median())\n",
    "print(wind_speed_src[wind_speed_src.time.dt.date.isin(slow_cross_valley_wind_days)].value.median())"
   ]
  }
 ],
 "metadata": {
  "kernelspec": {
   "display_name": "arm",
   "language": "python",
   "name": "python3"
  },
  "language_info": {
   "codemirror_mode": {
    "name": "ipython",
    "version": 3
   },
   "file_extension": ".py",
   "mimetype": "text/x-python",
   "name": "python",
   "nbconvert_exporter": "python",
   "pygments_lexer": "ipython3",
   "version": "3.12.5"
  },
  "orig_nbformat": 4,
  "vscode": {
   "interpreter": {
    "hash": "e2b11a00ad1b97cabcd9cc9209b8824a0fcaf6ffe37b5243943912873b5dcab1"
   }
  }
 },
 "nbformat": 4,
 "nbformat_minor": 2
}
