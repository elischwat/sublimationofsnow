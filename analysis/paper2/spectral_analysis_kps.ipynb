{
 "cells": [
  {
   "cell_type": "code",
   "execution_count": 2,
   "metadata": {},
   "outputs": [],
   "source": [
    "import numpy as np\n",
    "import xarray as xr\n",
    "\n",
    "import datetime as dt\n",
    "import pandas as pd\n",
    "\n",
    "import matplotlib.pyplot as plt\n",
    "\n",
    "import altair as alt\n",
    "alt.data_transformers.enable('json')\n",
    "\n",
    "from sublimpy import utils\n",
    "import glob\n",
    "import pytz\n",
    "from scipy.signal import welch, csd\n",
    "from scipy.stats import chi2\n",
    "from process_fast_data.fast_data_calculate_spectra_nomrd import calculate_mrd_for_df, fast_data_files_to_dataframe"
   ]
  },
  {
   "cell_type": "markdown",
   "metadata": {},
   "source": [
    "# Open SOS slow data"
   ]
  },
  {
   "cell_type": "code",
   "execution_count": 3,
   "metadata": {},
   "outputs": [],
   "source": [
    "sos_df = pd.read_parquet(\"../paper1/process_slow_data/tidy_df_20221101_20230619_planar_fit_multiplane_q7_flags9000_pf10.parquet\")\n",
    "sos_df_localtime = utils.modify_df_timezone( sos_df, 'UTC', 'US/Mountain')"
   ]
  },
  {
   "cell_type": "markdown",
   "metadata": {},
   "source": [
    "## Plot wind directions for case studies"
   ]
  },
  {
   "cell_type": "code",
   "execution_count": 73,
   "metadata": {},
   "outputs": [
    {
     "data": {
      "text/html": [
       "\n",
       "<style>\n",
       "  #altair-viz-010f243a713446c7935a8662d934c6fb.vega-embed {\n",
       "    width: 100%;\n",
       "    display: flex;\n",
       "  }\n",
       "\n",
       "  #altair-viz-010f243a713446c7935a8662d934c6fb.vega-embed details,\n",
       "  #altair-viz-010f243a713446c7935a8662d934c6fb.vega-embed details summary {\n",
       "    position: relative;\n",
       "  }\n",
       "</style>\n",
       "<div id=\"altair-viz-010f243a713446c7935a8662d934c6fb\"></div>\n",
       "<script type=\"text/javascript\">\n",
       "  var VEGA_DEBUG = (typeof VEGA_DEBUG == \"undefined\") ? {} : VEGA_DEBUG;\n",
       "  (function(spec, embedOpt){\n",
       "    let outputDiv = document.currentScript.previousElementSibling;\n",
       "    if (outputDiv.id !== \"altair-viz-010f243a713446c7935a8662d934c6fb\") {\n",
       "      outputDiv = document.getElementById(\"altair-viz-010f243a713446c7935a8662d934c6fb\");\n",
       "    }\n",
       "    const paths = {\n",
       "      \"vega\": \"https://cdn.jsdelivr.net/npm/vega@5?noext\",\n",
       "      \"vega-lib\": \"https://cdn.jsdelivr.net/npm/vega-lib?noext\",\n",
       "      \"vega-lite\": \"https://cdn.jsdelivr.net/npm/vega-lite@5.20.1?noext\",\n",
       "      \"vega-embed\": \"https://cdn.jsdelivr.net/npm/vega-embed@6?noext\",\n",
       "    };\n",
       "\n",
       "    function maybeLoadScript(lib, version) {\n",
       "      var key = `${lib.replace(\"-\", \"\")}_version`;\n",
       "      return (VEGA_DEBUG[key] == version) ?\n",
       "        Promise.resolve(paths[lib]) :\n",
       "        new Promise(function(resolve, reject) {\n",
       "          var s = document.createElement('script');\n",
       "          document.getElementsByTagName(\"head\")[0].appendChild(s);\n",
       "          s.async = true;\n",
       "          s.onload = () => {\n",
       "            VEGA_DEBUG[key] = version;\n",
       "            return resolve(paths[lib]);\n",
       "          };\n",
       "          s.onerror = () => reject(`Error loading script: ${paths[lib]}`);\n",
       "          s.src = paths[lib];\n",
       "        });\n",
       "    }\n",
       "\n",
       "    function showError(err) {\n",
       "      outputDiv.innerHTML = `<div class=\"error\" style=\"color:red;\">${err}</div>`;\n",
       "      throw err;\n",
       "    }\n",
       "\n",
       "    function displayChart(vegaEmbed) {\n",
       "      vegaEmbed(outputDiv, spec, embedOpt)\n",
       "        .catch(err => showError(`Javascript Error: ${err.message}<br>This usually means there's a typo in your chart specification. See the javascript console for the full traceback.`));\n",
       "    }\n",
       "\n",
       "    if(typeof define === \"function\" && define.amd) {\n",
       "      requirejs.config({paths});\n",
       "      require([\"vega-embed\"], displayChart, err => showError(`Error loading script: ${err.message}`));\n",
       "    } else {\n",
       "      maybeLoadScript(\"vega\", \"5\")\n",
       "        .then(() => maybeLoadScript(\"vega-lite\", \"5.20.1\"))\n",
       "        .then(() => maybeLoadScript(\"vega-embed\", \"6\"))\n",
       "        .catch(showError)\n",
       "        .then(() => displayChart(vegaEmbed));\n",
       "    }\n",
       "  })({\"config\": {\"view\": {\"continuousWidth\": 300, \"continuousHeight\": 300}}, \"hconcat\": [{\"layer\": [{\"data\": {\"url\": \"altair-data-eafc93f16b8b4c0d0a069b8ccef6cc70.json\", \"format\": {\"type\": \"json\"}}, \"mark\": {\"type\": \"line\"}, \"encoding\": {\"color\": {\"field\": \"height\", \"scale\": {\"scheme\": \"rainbow\"}, \"type\": \"ordinal\"}, \"x\": {\"field\": \"time\", \"type\": \"temporal\"}, \"y\": {\"field\": \"value\", \"type\": \"quantitative\"}}}, {\"data\": {\"url\": \"altair-data-fedf3be97705ecf1c6a6ecde8aee6f23.json\", \"format\": {\"type\": \"json\"}}, \"mark\": {\"type\": \"rule\", \"color\": \"red\", \"strokeDash\": [4, 2]}, \"encoding\": {\"x\": {\"field\": \"time\", \"type\": \"temporal\"}}}], \"height\": 150}, {\"layer\": [{\"data\": {\"url\": \"altair-data-3430e3582040f28032100648a73bf298.json\", \"format\": {\"type\": \"json\"}}, \"mark\": {\"type\": \"line\"}, \"encoding\": {\"color\": {\"field\": \"height\", \"scale\": {\"scheme\": \"rainbow\"}, \"type\": \"ordinal\"}, \"x\": {\"field\": \"time\", \"type\": \"temporal\"}, \"y\": {\"field\": \"value\", \"type\": \"quantitative\"}}}, {\"data\": {\"url\": \"altair-data-546faa7b3ac75d149fae2be2051f6be5.json\", \"format\": {\"type\": \"json\"}}, \"mark\": {\"type\": \"rule\", \"color\": \"red\", \"strokeDash\": [4, 2]}, \"encoding\": {\"x\": {\"field\": \"time\", \"type\": \"temporal\"}}}], \"height\": 150}, {\"layer\": [{\"data\": {\"url\": \"altair-data-1b4d9aa421cd77c22c802b955719973c.json\", \"format\": {\"type\": \"json\"}}, \"mark\": {\"type\": \"line\"}, \"encoding\": {\"color\": {\"field\": \"height\", \"scale\": {\"scheme\": \"rainbow\"}, \"type\": \"ordinal\"}, \"x\": {\"field\": \"time\", \"type\": \"temporal\"}, \"y\": {\"field\": \"value\", \"type\": \"quantitative\"}}}, {\"data\": {\"url\": \"altair-data-0c2787b68a7f6c3472db1025fff8c08f.json\", \"format\": {\"type\": \"json\"}}, \"mark\": {\"type\": \"rule\", \"color\": \"red\", \"strokeDash\": [4, 2]}, \"encoding\": {\"x\": {\"field\": \"time\", \"type\": \"temporal\"}}}], \"height\": 150}, {\"layer\": [{\"data\": {\"url\": \"altair-data-3c8a7c4f9924769d14d61314f889a7b5.json\", \"format\": {\"type\": \"json\"}}, \"mark\": {\"type\": \"line\"}, \"encoding\": {\"color\": {\"field\": \"height\", \"scale\": {\"scheme\": \"rainbow\"}, \"type\": \"ordinal\"}, \"x\": {\"field\": \"time\", \"type\": \"temporal\"}, \"y\": {\"field\": \"value\", \"type\": \"quantitative\"}}}, {\"data\": {\"url\": \"altair-data-d210bf1481e7e53e64fb981c5159a1d9.json\", \"format\": {\"type\": \"json\"}}, \"mark\": {\"type\": \"rule\", \"color\": \"red\", \"strokeDash\": [4, 2]}, \"encoding\": {\"x\": {\"field\": \"time\", \"type\": \"temporal\"}}}], \"height\": 150}], \"$schema\": \"https://vega.github.io/schema/vega-lite/v5.20.1.json\"}, {\"mode\": \"vega-lite\"});\n",
       "</script>"
      ],
      "text/plain": [
       "alt.HConcatChart(...)"
      ]
     },
     "execution_count": 73,
     "metadata": {},
     "output_type": "execute_result"
    }
   ],
   "source": [
    "def wind_chart(data):\n",
    "    return alt.Chart(data).mark_line().encode(        \n",
    "        alt.X('time:T'),\n",
    "        alt.Y('value:Q'),\n",
    "        alt.Color('height:O').scale(scheme='rainbow')\n",
    "    ).properties(height=150)\n",
    "def vertical_lines_chart(data):\n",
    "    return alt.Chart(\n",
    "        data\n",
    "    ).mark_rule(color='red', strokeDash=[4, 2]).encode(\n",
    "        alt.X('time:T')\n",
    "    )\n",
    "\n",
    "\n",
    "sos_dir_df = sos_df_localtime[sos_df_localtime.variable.isin([\n",
    "        'dir_3m_c', 'dir_10m_c', 'dir_20m_c'\n",
    "    ])].set_index('time')\n",
    "\n",
    "(\n",
    "    (wind_chart(sos_dir_df.loc['20230409'].reset_index())   + vertical_lines_chart(pd.DataFrame({'time': ['2023-04-09T15:00:00', '2023-04-09T18:00:00']}))) \n",
    "    | (wind_chart(sos_dir_df.loc['20230418'].reset_index()) + vertical_lines_chart(pd.DataFrame({'time': ['2023-04-18T15:00:00', '2023-04-18T18:00:00']}))) \n",
    "    | (wind_chart(sos_dir_df.loc['20221221'].reset_index()) + vertical_lines_chart(pd.DataFrame({'time': ['2022-12-21T15:00:00', '2022-12-21T18:00:00']}))) \n",
    "    | (wind_chart(sos_dir_df.loc['20230304'].reset_index()) + vertical_lines_chart(pd.DataFrame({'time': ['2023-03-04T15:00:00', '2023-03-04T18:00:00']})))\n",
    ")"
   ]
  },
  {
   "cell_type": "code",
   "execution_count": 74,
   "metadata": {},
   "outputs": [
    {
     "data": {
      "text/plain": [
       "158.2565144130162"
      ]
     },
     "execution_count": 74,
     "metadata": {},
     "output_type": "execute_result"
    }
   ],
   "source": [
    "sos_dir_df.sort_index().loc['20230418 1900': '20230418 2200'].query(\"variable == 'dir_3m_c'\").value.mean()"
   ]
  },
  {
   "cell_type": "markdown",
   "metadata": {},
   "source": [
    "# Open SOS fast data"
   ]
  },
  {
   "cell_type": "code",
   "execution_count": null,
   "metadata": {},
   "outputs": [],
   "source": [
    "apr18_df = fast_data_files_to_dataframe([\n",
    "    # '/Users/elischwat/Development/data/sublimationofsnow/sosqc_fast/isfs_sos_qc_geo_tiltcor_hr_v2_20230418_21.nc',\n",
    "    # '/Users/elischwat/Development/data/sublimationofsnow/sosqc_fast/isfs_sos_qc_geo_tiltcor_hr_v2_20230418_22.nc',\n",
    "    # '/Users/elischwat/Development/data/sublimationofsnow/sosqc_fast/isfs_sos_qc_geo_tiltcor_hr_v2_20230418_23.nc',\n",
    "    '/Users/elischwat/Development/data/sublimationofsnow/sosqc_fast/isfs_sos_qc_geo_tiltcor_hr_v2_20230419_01.nc',\n",
    "    '/Users/elischwat/Development/data/sublimationofsnow/sosqc_fast/isfs_sos_qc_geo_tiltcor_hr_v2_20230419_02.nc',\n",
    "    '/Users/elischwat/Development/data/sublimationofsnow/sosqc_fast/isfs_sos_qc_geo_tiltcor_hr_v2_20230419_03.nc',\n",
    "],  rotation='double')\n",
    "\n",
    "apr18_df = utils.modify_df_timezone(apr18_df, pytz.UTC, \"US/Mountain\")"
   ]
  },
  {
   "cell_type": "code",
   "execution_count": null,
   "metadata": {},
   "outputs": [],
   "source": [
    "src = apr18_df.set_index('time')[['u_10m_c', 'w_10m_c']]\n",
    "src_fluc = src - src.groupby(pd.Grouper(freq='30min')).transform('mean')\n",
    "plt.hist2d(src_fluc.u_10m_c, src_fluc.w_10m_c, bins=500, cmap='Reds')\n",
    "plt.axhline(0)\n",
    "plt.axvline(0)\n",
    "plt.colorbar()\n",
    "plt.xlim(-2,2); plt.ylim(-2,2)\n",
    "plt.show()"
   ]
  },
  {
   "cell_type": "markdown",
   "metadata": {},
   "source": [
    "# Spectra across two case study days - Apr 18 and Dec 21"
   ]
  },
  {
   "cell_type": "markdown",
   "metadata": {},
   "source": [
    "## Apr 18"
   ]
  },
  {
   "cell_type": "markdown",
   "metadata": {},
   "source": [
    "### u'w' cospectra - all ECs"
   ]
  },
  {
   "cell_type": "code",
   "execution_count": null,
   "metadata": {},
   "outputs": [],
   "source": [
    "apr18_u_w_3m_c_mrd_df = calculate_mrd_for_df(apr18_df, 'u_3m_c', 'w_3m_c', shift = 2000, parallelism=8)\n",
    "apr18_u_w_3m_d_mrd_df = calculate_mrd_for_df(apr18_df, 'u_3m_d', 'w_3m_d', shift = 2000, parallelism=8)\n",
    "apr18_u_w_3m_ue_mrd_df = calculate_mrd_for_df(apr18_df, 'u_3m_ue', 'w_3m_ue', shift = 2000, parallelism=8)\n",
    "apr18_u_w_3m_uw_mrd_df = calculate_mrd_for_df(apr18_df, 'u_3m_uw', 'w_3m_uw', shift = 2000, parallelism=8)\n",
    "\n",
    "apr18_u_w_10m_c_mrd_df = calculate_mrd_for_df(apr18_df, 'u_10m_c', 'w_10m_c', shift = 2000, parallelism=8)\n",
    "apr18_u_w_10m_d_mrd_df = calculate_mrd_for_df(apr18_df, 'u_10m_d', 'w_10m_d', shift = 2000, parallelism=8)\n",
    "apr18_u_w_10m_ue_mrd_df = calculate_mrd_for_df(apr18_df, 'u_10m_ue', 'w_10m_ue', shift = 2000, parallelism=8)\n",
    "apr18_u_w_10m_uw_mrd_df = calculate_mrd_for_df(apr18_df, 'u_10m_uw', 'w_10m_uw', shift = 2000, parallelism=8)\n",
    "\n",
    "apr18_u_w_5m_c_mrd_df = calculate_mrd_for_df(apr18_df, 'u_5m_c', 'w_5m_c', shift = 2000, parallelism=8)\n",
    "apr18_u_w_15m_c_mrd_df = calculate_mrd_for_df(apr18_df, 'u_15m_c', 'w_15m_c', shift = 2000, parallelism=8)\n",
    "apr18_u_w_20m_c_mrd_df = calculate_mrd_for_df(apr18_df, 'u_20m_c', 'w_20m_c', shift = 2000, parallelism=8)"
   ]
  },
  {
   "cell_type": "code",
   "execution_count": null,
   "metadata": {},
   "outputs": [],
   "source": [
    "base = alt.Chart().encode(\n",
    "    alt.X('tau:Q').scale(type='log').title('tau (s)'),\n",
    ")\n",
    "def mrd_plot(data, title=''):\n",
    "    return alt.layer(\n",
    "        base.mark_errorband(extent='iqr').encode(alt.Y('Co:Q')),\n",
    "        base.mark_line().encode(alt.Y('mean(Co):Q')),\n",
    "        data=data\n",
    "    ).properties(width=200, height=200, title=title)"
   ]
  },
  {
   "cell_type": "code",
   "execution_count": null,
   "metadata": {},
   "outputs": [],
   "source": [
    "(\n",
    "    (\n",
    "        mrd_plot(apr18_u_w_3m_c_mrd_df, \"u'w', 3m-C\") | mrd_plot(apr18_u_w_3m_d_mrd_df, \"u'w', 3m-D\") \n",
    "        | mrd_plot(apr18_u_w_3m_ue_mrd_df, \"u'w', 3m-UE\") | mrd_plot(apr18_u_w_3m_uw_mrd_df, \"u'w', 3m-UW\")\n",
    "    ).resolve_scale(y='shared') & (\n",
    "        mrd_plot(apr18_u_w_10m_c_mrd_df, \"u'w', 10m-C\") | mrd_plot(apr18_u_w_10m_d_mrd_df, \"u'w', 10m-D\") \n",
    "        | mrd_plot(apr18_u_w_10m_ue_mrd_df, \"u'w', 10m-UE\") | mrd_plot(apr18_u_w_10m_uw_mrd_df, \"u'w', 10m-UW\")\n",
    "    ).resolve_scale(y='shared') & (\n",
    "        mrd_plot(apr18_u_w_5m_c_mrd_df, \"u'w', 5m-C\") |  mrd_plot(apr18_u_w_15m_c_mrd_df, \"u'w', 15m-C\") |  mrd_plot(apr18_u_w_20m_c_mrd_df, \"u'w', 20m-C\")\n",
    "    ).resolve_scale(y='shared')\n",
    ").resolve_scale(y='shared')"
   ]
  },
  {
   "cell_type": "markdown",
   "metadata": {},
   "source": [
    "### Isotropic stress cospectra - tower c 3 and 10m"
   ]
  },
  {
   "cell_type": "code",
   "execution_count": null,
   "metadata": {},
   "outputs": [],
   "source": [
    "apr18_u_u_3m_c_mrd_df = calculate_mrd_for_df(apr18_df, 'u_3m_c', 'u_3m_c', shift = 2000, parallelism=8)\n",
    "apr18_v_v_3m_c_mrd_df = calculate_mrd_for_df(apr18_df, 'v_3m_c', 'v_3m_c', shift = 2000, parallelism=8)\n",
    "apr18_w_w_3m_c_mrd_df = calculate_mrd_for_df(apr18_df, 'w_3m_c', 'w_3m_c', shift = 2000, parallelism=8)\n",
    "\n",
    "apr18_u_u_10m_c_mrd_df = calculate_mrd_for_df(apr18_df, 'u_10m_c', 'u_10m_c', shift = 2000, parallelism=8)\n",
    "apr18_v_v_10m_c_mrd_df = calculate_mrd_for_df(apr18_df, 'v_10m_c', 'v_10m_c', shift = 2000, parallelism=8)\n",
    "apr18_w_w_10m_c_mrd_df = calculate_mrd_for_df(apr18_df, 'w_10m_c', 'w_10m_c', shift = 2000, parallelism=8)"
   ]
  },
  {
   "cell_type": "code",
   "execution_count": null,
   "metadata": {},
   "outputs": [],
   "source": [
    "((\n",
    "    mrd_plot(apr18_u_u_3m_c_mrd_df, \"u'u', 3m-C\") | mrd_plot(apr18_v_v_3m_c_mrd_df, \"v'v', 3m-C\") \n",
    ").resolve_scale(y='shared') & (\n",
    "    mrd_plot(apr18_u_u_10m_c_mrd_df, \"u'u', 10-C\") | mrd_plot(apr18_v_v_10m_c_mrd_df, \"v'v', 3m-C\")\n",
    ").resolve_scale(y='shared')).resolve_scale(y='shared') | (\n",
    "    mrd_plot(apr18_w_w_3m_c_mrd_df, \"w'w', 3m-C\") & mrd_plot(apr18_w_w_10m_c_mrd_df, \"w'w', 10m-C\")\n",
    ").resolve_scale(y='shared')"
   ]
  },
  {
   "cell_type": "markdown",
   "metadata": {},
   "source": [
    "## Dec 21"
   ]
  },
  {
   "cell_type": "code",
   "execution_count": null,
   "metadata": {},
   "outputs": [],
   "source": [
    "dec21_df = fast_data_files_to_dataframe([\n",
    "    '/Users/elischwat/Development/data/sublimationofsnow/sosqc_fast/isfs_sos_qc_geo_tiltcor_hr_v2_20221221_21.nc',\n",
    "    '/Users/elischwat/Development/data/sublimationofsnow/sosqc_fast/isfs_sos_qc_geo_tiltcor_hr_v2_20221221_22.nc',\n",
    "    '/Users/elischwat/Development/data/sublimationofsnow/sosqc_fast/isfs_sos_qc_geo_tiltcor_hr_v2_20221221_23.nc',\n",
    "],  rotation='double')\n",
    "dec21_df = utils.modify_df_timezone(dec21_df, pytz.UTC, \"US/Mountain\")"
   ]
  },
  {
   "cell_type": "markdown",
   "metadata": {},
   "source": [
    "### u'w' cospectra - all ECs"
   ]
  },
  {
   "cell_type": "code",
   "execution_count": null,
   "metadata": {},
   "outputs": [],
   "source": [
    "dec21_u_w_3m_c_mrd_df = calculate_mrd_for_df(dec21_df, 'u_3m_c', 'w_3m_c', shift = 2000, parallelism=8)\n",
    "dec21_u_w_3m_d_mrd_df = calculate_mrd_for_df(dec21_df, 'u_3m_d', 'w_3m_d', shift = 2000, parallelism=8)\n",
    "dec21_u_w_3m_ue_mrd_df = calculate_mrd_for_df(dec21_df, 'u_3m_ue', 'w_3m_ue', shift = 2000, parallelism=8)\n",
    "dec21_u_w_3m_uw_mrd_df = calculate_mrd_for_df(dec21_df, 'u_3m_uw', 'w_3m_uw', shift = 2000, parallelism=8)\n",
    "\n",
    "dec21_u_w_10m_c_mrd_df = calculate_mrd_for_df(dec21_df, 'u_10m_c', 'w_10m_c', shift = 2000, parallelism=8)\n",
    "dec21_u_w_10m_d_mrd_df = calculate_mrd_for_df(dec21_df, 'u_10m_d', 'w_10m_d', shift = 2000, parallelism=8)\n",
    "dec21_u_w_10m_ue_mrd_df = calculate_mrd_for_df(dec21_df, 'u_10m_ue', 'w_10m_ue', shift = 2000, parallelism=8)\n",
    "dec21_u_w_10m_uw_mrd_df = calculate_mrd_for_df(dec21_df, 'u_10m_uw', 'w_10m_uw', shift = 2000, parallelism=8)\n",
    "\n",
    "dec21_u_w_5m_c_mrd_df = calculate_mrd_for_df(dec21_df, 'u_5m_c', 'w_5m_c', shift = 2000, parallelism=8)\n",
    "dec21_u_w_15m_c_mrd_df = calculate_mrd_for_df(dec21_df, 'u_15m_c', 'w_15m_c', shift = 2000, parallelism=8)\n",
    "dec21_u_w_20m_c_mrd_df = calculate_mrd_for_df(dec21_df, 'u_20m_c', 'w_20m_c', shift = 2000, parallelism=8)"
   ]
  },
  {
   "cell_type": "code",
   "execution_count": null,
   "metadata": {},
   "outputs": [],
   "source": [
    "def mrd_plot(data, title='', color=None):\n",
    "    base = alt.Chart().encode(\n",
    "        alt.X('tau:Q').scale(type='log').title('tau (s)'),\n",
    "    )\n",
    "    if color:\n",
    "        band = base.mark_errorband(extent='iqr', color=color).encode(alt.Y('Co:Q'))\n",
    "        line = base.mark_line(color=color).encode(alt.Y('mean(Co):Q'))\n",
    "    else:\n",
    "        band = base.mark_errorband(extent='iqr').encode(alt.Y('Co:Q'))\n",
    "        line = base.mark_line().encode(alt.Y('mean(Co):Q'))\n",
    "    return alt.layer(\n",
    "        band, line, data=data\n",
    "    ).properties(width=200, height=200, title=title)"
   ]
  },
  {
   "cell_type": "code",
   "execution_count": null,
   "metadata": {},
   "outputs": [],
   "source": [
    "(\n",
    "    (\n",
    "        mrd_plot(dec21_u_w_3m_c_mrd_df, \"u'w', 3m-C\") | mrd_plot(dec21_u_w_3m_d_mrd_df, \"u'w', 3m-D\") \n",
    "        | mrd_plot(dec21_u_w_3m_ue_mrd_df, \"u'w', 3m-UE\") | mrd_plot(dec21_u_w_3m_uw_mrd_df, \"u'w', 3m-UW\")\n",
    "    ).resolve_scale(y='shared') & (\n",
    "        mrd_plot(dec21_u_w_10m_c_mrd_df, \"u'w', 10m-C\") | mrd_plot(dec21_u_w_10m_d_mrd_df, \"u'w', 10m-D\") \n",
    "        | mrd_plot(dec21_u_w_10m_ue_mrd_df, \"u'w', 10m-UE\") | mrd_plot(dec21_u_w_10m_uw_mrd_df, \"u'w', 10m-UW\")\n",
    "    ).resolve_scale(y='shared') & (\n",
    "        mrd_plot(dec21_u_w_5m_c_mrd_df, \"u'w', 5m-C\") |  mrd_plot(dec21_u_w_15m_c_mrd_df, \"u'w', 15m-C\") |  mrd_plot(dec21_u_w_20m_c_mrd_df, \"u'w', 20m-C\")\n",
    "    ).resolve_scale(y='shared')\n",
    ").resolve_scale(y='shared')"
   ]
  },
  {
   "cell_type": "code",
   "execution_count": null,
   "metadata": {},
   "outputs": [],
   "source": [
    "(mrd_plot(dec21_u_w_3m_c_mrd_df, \"u'w', 3m-C\") + mrd_plot(apr18_u_w_3m_c_mrd_df, \"u'w', 3m-C\", color='#ff7f0e') + mrd_plot(apr18_u_w_3m_d_mrd_df, \"u'w', 3m-C\", color='#ff7f0e') + mrd_plot(apr18_u_w_3m_ue_mrd_df, \"u'w', 3m-C\", color='#ff7f0e') + mrd_plot(apr18_u_w_3m_uw_mrd_df, \"u'w', 3m-C\", color='#ff7f0e')) |\\\n",
    "(mrd_plot(dec21_u_w_10m_c_mrd_df, \"u'w', 10m-C\") + mrd_plot(apr18_u_w_10m_c_mrd_df, \"u'w', 10m-C\", color='#ff7f0e')) |\\\n",
    "(mrd_plot(dec21_u_w_5m_c_mrd_df, \"u'w', 5m-C\") + mrd_plot(apr18_u_w_5m_c_mrd_df, \"u'w', 5m-C\", color='#ff7f0e'))"
   ]
  },
  {
   "cell_type": "markdown",
   "metadata": {},
   "source": [
    "### Isotropic stress cospectra - tower c 3 and 10m"
   ]
  },
  {
   "cell_type": "code",
   "execution_count": null,
   "metadata": {},
   "outputs": [],
   "source": [
    "dec21_u_u_3m_c_mrd_df = calculate_mrd_for_df(dec21_df, 'u_3m_c', 'u_3m_c', shift = 2000, parallelism=8)\n",
    "dec21_v_v_3m_c_mrd_df = calculate_mrd_for_df(dec21_df, 'v_3m_c', 'v_3m_c', shift = 2000, parallelism=8)\n",
    "dec21_w_w_3m_c_mrd_df = calculate_mrd_for_df(dec21_df, 'w_3m_c', 'w_3m_c', shift = 2000, parallelism=8)\n",
    "\n",
    "dec21_u_u_10m_c_mrd_df = calculate_mrd_for_df(dec21_df, 'u_10m_c', 'u_10m_c', shift = 2000, parallelism=8)\n",
    "dec21_v_v_10m_c_mrd_df = calculate_mrd_for_df(dec21_df, 'v_10m_c', 'v_10m_c', shift = 2000, parallelism=8)\n",
    "dec21_w_w_10m_c_mrd_df = calculate_mrd_for_df(dec21_df, 'w_10m_c', 'w_10m_c', shift = 2000, parallelism=8)"
   ]
  },
  {
   "cell_type": "code",
   "execution_count": null,
   "metadata": {},
   "outputs": [],
   "source": [
    "((\n",
    "    mrd_plot(dec21_u_u_3m_c_mrd_df, \"u'u', 3m-C\") | mrd_plot(dec21_v_v_3m_c_mrd_df, \"v'v', 3m-C\") \n",
    ").resolve_scale(y='shared') & (\n",
    "    mrd_plot(dec21_u_u_10m_c_mrd_df, \"u'u', 10-C\") | mrd_plot(dec21_v_v_10m_c_mrd_df, \"v'v', 3m-C\")\n",
    ").resolve_scale(y='shared')).resolve_scale(y='shared') | (\n",
    "    mrd_plot(dec21_w_w_3m_c_mrd_df, \"w'w', 3m-C\") & mrd_plot(dec21_w_w_10m_c_mrd_df, \"w'w', 10m-C\")\n",
    ").resolve_scale(y='shared')"
   ]
  },
  {
   "cell_type": "markdown",
   "metadata": {},
   "source": [
    "# Spectra across two months of data"
   ]
  },
  {
   "cell_type": "markdown",
   "metadata": {},
   "source": [
    "Open up all the nomrd files. Calculate a \"median time\" for joining with synoptic wind measurements"
   ]
  },
  {
   "cell_type": "code",
   "execution_count": 75,
   "metadata": {},
   "outputs": [
    {
     "data": {
      "text/html": [
       "<div>\n",
       "<style scoped>\n",
       "    .dataframe tbody tr th:only-of-type {\n",
       "        vertical-align: middle;\n",
       "    }\n",
       "\n",
       "    .dataframe tbody tr th {\n",
       "        vertical-align: top;\n",
       "    }\n",
       "\n",
       "    .dataframe thead th {\n",
       "        text-align: right;\n",
       "    }\n",
       "</style>\n",
       "<table border=\"1\" class=\"dataframe\">\n",
       "  <thead>\n",
       "    <tr style=\"text-align: right;\">\n",
       "      <th></th>\n",
       "      <th>tau</th>\n",
       "      <th>Co</th>\n",
       "      <th>std</th>\n",
       "      <th>iteration</th>\n",
       "      <th>start_time</th>\n",
       "      <th>end_time</th>\n",
       "      <th>covariance</th>\n",
       "      <th>loc</th>\n",
       "      <th>median_time</th>\n",
       "      <th>median_time_rounded</th>\n",
       "    </tr>\n",
       "  </thead>\n",
       "  <tbody>\n",
       "    <tr>\n",
       "      <th>0</th>\n",
       "      <td>0.1</td>\n",
       "      <td>-0.002316</td>\n",
       "      <td>4.401546e-02</td>\n",
       "      <td>0</td>\n",
       "      <td>2022-12-21 14:00:00</td>\n",
       "      <td>2022-12-21 15:49:13.550</td>\n",
       "      <td>u_w_</td>\n",
       "      <td>3m_c</td>\n",
       "      <td>2022-12-21 14:54:36.775</td>\n",
       "      <td>2022-12-21 15:00:00</td>\n",
       "    </tr>\n",
       "    <tr>\n",
       "      <th>1</th>\n",
       "      <td>0.2</td>\n",
       "      <td>-0.004666</td>\n",
       "      <td>4.751782e-02</td>\n",
       "      <td>0</td>\n",
       "      <td>2022-12-21 14:00:00</td>\n",
       "      <td>2022-12-21 15:49:13.550</td>\n",
       "      <td>u_w_</td>\n",
       "      <td>3m_c</td>\n",
       "      <td>2022-12-21 14:54:36.775</td>\n",
       "      <td>2022-12-21 15:00:00</td>\n",
       "    </tr>\n",
       "    <tr>\n",
       "      <th>2</th>\n",
       "      <td>0.4</td>\n",
       "      <td>-0.007815</td>\n",
       "      <td>5.590110e-02</td>\n",
       "      <td>0</td>\n",
       "      <td>2022-12-21 14:00:00</td>\n",
       "      <td>2022-12-21 15:49:13.550</td>\n",
       "      <td>u_w_</td>\n",
       "      <td>3m_c</td>\n",
       "      <td>2022-12-21 14:54:36.775</td>\n",
       "      <td>2022-12-21 15:00:00</td>\n",
       "    </tr>\n",
       "    <tr>\n",
       "      <th>3</th>\n",
       "      <td>0.8</td>\n",
       "      <td>-0.011504</td>\n",
       "      <td>6.878115e-02</td>\n",
       "      <td>0</td>\n",
       "      <td>2022-12-21 14:00:00</td>\n",
       "      <td>2022-12-21 15:49:13.550</td>\n",
       "      <td>u_w_</td>\n",
       "      <td>3m_c</td>\n",
       "      <td>2022-12-21 14:54:36.775</td>\n",
       "      <td>2022-12-21 15:00:00</td>\n",
       "    </tr>\n",
       "    <tr>\n",
       "      <th>4</th>\n",
       "      <td>1.6</td>\n",
       "      <td>-0.011965</td>\n",
       "      <td>6.791920e-02</td>\n",
       "      <td>0</td>\n",
       "      <td>2022-12-21 14:00:00</td>\n",
       "      <td>2022-12-21 15:49:13.550</td>\n",
       "      <td>u_w_</td>\n",
       "      <td>3m_c</td>\n",
       "      <td>2022-12-21 14:54:36.775</td>\n",
       "      <td>2022-12-21 15:00:00</td>\n",
       "    </tr>\n",
       "    <tr>\n",
       "      <th>...</th>\n",
       "      <td>...</td>\n",
       "      <td>...</td>\n",
       "      <td>...</td>\n",
       "      <td>...</td>\n",
       "      <td>...</td>\n",
       "      <td>...</td>\n",
       "      <td>...</td>\n",
       "      <td>...</td>\n",
       "      <td>...</td>\n",
       "      <td>...</td>\n",
       "    </tr>\n",
       "    <tr>\n",
       "      <th>12</th>\n",
       "      <td>409.6</td>\n",
       "      <td>0.000337</td>\n",
       "      <td>1.142486e-03</td>\n",
       "      <td>41</td>\n",
       "      <td>2023-04-30 16:08:20</td>\n",
       "      <td>2023-04-30 17:57:33.550</td>\n",
       "      <td>w_h2o_</td>\n",
       "      <td>10m_d</td>\n",
       "      <td>2023-04-30 17:02:56.775</td>\n",
       "      <td>2023-04-30 17:00:00</td>\n",
       "    </tr>\n",
       "    <tr>\n",
       "      <th>13</th>\n",
       "      <td>819.2</td>\n",
       "      <td>0.001552</td>\n",
       "      <td>1.921631e-03</td>\n",
       "      <td>41</td>\n",
       "      <td>2023-04-30 16:08:20</td>\n",
       "      <td>2023-04-30 17:57:33.550</td>\n",
       "      <td>w_h2o_</td>\n",
       "      <td>10m_d</td>\n",
       "      <td>2023-04-30 17:02:56.775</td>\n",
       "      <td>2023-04-30 17:00:00</td>\n",
       "    </tr>\n",
       "    <tr>\n",
       "      <th>14</th>\n",
       "      <td>1638.4</td>\n",
       "      <td>0.000481</td>\n",
       "      <td>4.260532e-04</td>\n",
       "      <td>41</td>\n",
       "      <td>2023-04-30 16:08:20</td>\n",
       "      <td>2023-04-30 17:57:33.550</td>\n",
       "      <td>w_h2o_</td>\n",
       "      <td>10m_d</td>\n",
       "      <td>2023-04-30 17:02:56.775</td>\n",
       "      <td>2023-04-30 17:00:00</td>\n",
       "    </tr>\n",
       "    <tr>\n",
       "      <th>15</th>\n",
       "      <td>3276.8</td>\n",
       "      <td>-0.000060</td>\n",
       "      <td>7.827031e-06</td>\n",
       "      <td>41</td>\n",
       "      <td>2023-04-30 16:08:20</td>\n",
       "      <td>2023-04-30 17:57:33.550</td>\n",
       "      <td>w_h2o_</td>\n",
       "      <td>10m_d</td>\n",
       "      <td>2023-04-30 17:02:56.775</td>\n",
       "      <td>2023-04-30 17:00:00</td>\n",
       "    </tr>\n",
       "    <tr>\n",
       "      <th>16</th>\n",
       "      <td>6553.6</td>\n",
       "      <td>-0.000112</td>\n",
       "      <td>2.216258e-09</td>\n",
       "      <td>41</td>\n",
       "      <td>2023-04-30 16:08:20</td>\n",
       "      <td>2023-04-30 17:57:33.550</td>\n",
       "      <td>w_h2o_</td>\n",
       "      <td>10m_d</td>\n",
       "      <td>2023-04-30 17:02:56.775</td>\n",
       "      <td>2023-04-30 17:00:00</td>\n",
       "    </tr>\n",
       "  </tbody>\n",
       "</table>\n",
       "<p>7676928 rows × 10 columns</p>\n",
       "</div>"
      ],
      "text/plain": [
       "       tau        Co           std  iteration          start_time  \\\n",
       "0      0.1 -0.002316  4.401546e-02          0 2022-12-21 14:00:00   \n",
       "1      0.2 -0.004666  4.751782e-02          0 2022-12-21 14:00:00   \n",
       "2      0.4 -0.007815  5.590110e-02          0 2022-12-21 14:00:00   \n",
       "3      0.8 -0.011504  6.878115e-02          0 2022-12-21 14:00:00   \n",
       "4      1.6 -0.011965  6.791920e-02          0 2022-12-21 14:00:00   \n",
       "..     ...       ...           ...        ...                 ...   \n",
       "12   409.6  0.000337  1.142486e-03         41 2023-04-30 16:08:20   \n",
       "13   819.2  0.001552  1.921631e-03         41 2023-04-30 16:08:20   \n",
       "14  1638.4  0.000481  4.260532e-04         41 2023-04-30 16:08:20   \n",
       "15  3276.8 -0.000060  7.827031e-06         41 2023-04-30 16:08:20   \n",
       "16  6553.6 -0.000112  2.216258e-09         41 2023-04-30 16:08:20   \n",
       "\n",
       "                  end_time covariance    loc             median_time  \\\n",
       "0  2022-12-21 15:49:13.550       u_w_   3m_c 2022-12-21 14:54:36.775   \n",
       "1  2022-12-21 15:49:13.550       u_w_   3m_c 2022-12-21 14:54:36.775   \n",
       "2  2022-12-21 15:49:13.550       u_w_   3m_c 2022-12-21 14:54:36.775   \n",
       "3  2022-12-21 15:49:13.550       u_w_   3m_c 2022-12-21 14:54:36.775   \n",
       "4  2022-12-21 15:49:13.550       u_w_   3m_c 2022-12-21 14:54:36.775   \n",
       "..                     ...        ...    ...                     ...   \n",
       "12 2023-04-30 17:57:33.550     w_h2o_  10m_d 2023-04-30 17:02:56.775   \n",
       "13 2023-04-30 17:57:33.550     w_h2o_  10m_d 2023-04-30 17:02:56.775   \n",
       "14 2023-04-30 17:57:33.550     w_h2o_  10m_d 2023-04-30 17:02:56.775   \n",
       "15 2023-04-30 17:57:33.550     w_h2o_  10m_d 2023-04-30 17:02:56.775   \n",
       "16 2023-04-30 17:57:33.550     w_h2o_  10m_d 2023-04-30 17:02:56.775   \n",
       "\n",
       "   median_time_rounded  \n",
       "0  2022-12-21 15:00:00  \n",
       "1  2022-12-21 15:00:00  \n",
       "2  2022-12-21 15:00:00  \n",
       "3  2022-12-21 15:00:00  \n",
       "4  2022-12-21 15:00:00  \n",
       "..                 ...  \n",
       "12 2023-04-30 17:00:00  \n",
       "13 2023-04-30 17:00:00  \n",
       "14 2023-04-30 17:00:00  \n",
       "15 2023-04-30 17:00:00  \n",
       "16 2023-04-30 17:00:00  \n",
       "\n",
       "[7676928 rows x 10 columns]"
      ]
     },
     "execution_count": 75,
     "metadata": {},
     "output_type": "execute_result"
    }
   ],
   "source": [
    "nomrd_df = pd.read_parquet(\"/Users/elischwat/Development/data/sublimationofsnow/mrd/NOmrds/\")\n",
    "nomrd_df['median_time'] = nomrd_df.start_time + 0.5*(nomrd_df.end_time - nomrd_df.start_time)\n",
    "nomrd_df['median_time_rounded'] = nomrd_df.median_time.dt.round('30min')\n",
    "nomrd_df"
   ]
  },
  {
   "cell_type": "markdown",
   "metadata": {},
   "source": [
    "Remove the Dec 21 MRD"
   ]
  },
  {
   "cell_type": "code",
   "execution_count": 76,
   "metadata": {},
   "outputs": [],
   "source": [
    "nomrd_df = nomrd_df[nomrd_df.start_time.dt.month != 12]"
   ]
  },
  {
   "cell_type": "code",
   "execution_count": 77,
   "metadata": {},
   "outputs": [
    {
     "data": {
      "text/plain": [
       "(8, 16)"
      ]
     },
     "execution_count": 77,
     "metadata": {},
     "output_type": "execute_result"
    }
   ],
   "source": [
    "nomrd_df.start_time.dt.hour.min(), nomrd_df.start_time.dt.hour.max()"
   ]
  },
  {
   "cell_type": "markdown",
   "metadata": {},
   "source": [
    "Use doppler lidar data to identify along-valley/cross-valley synoptic flows"
   ]
  },
  {
   "cell_type": "code",
   "execution_count": 78,
   "metadata": {},
   "outputs": [],
   "source": [
    "cross_valley_wind_times = pd.read_csv('cross_valley_wind_times.csv').drop(columns='Unnamed: 0').rename(columns={'0':'time'}).set_index('time').assign(\n",
    "    wind_dir='cross-valley'\n",
    ")\n",
    "cross_valley_wind_times.index = pd.to_datetime(cross_valley_wind_times.index)\n",
    "\n",
    "along_valley_wind_times = pd.read_csv('along_valley_wind_times.csv').drop(columns='Unnamed: 0').rename(columns={'0':'time'}).set_index('time').assign(\n",
    "    wind_dir='along-valley'\n",
    ")\n",
    "along_valley_wind_times.index = pd.to_datetime(along_valley_wind_times.index)\n",
    "\n",
    "winds_ge10_times =      pd.read_csv('winds_ge10_times.csv').drop(columns='Unnamed: 0').set_index('time').assign(wind_speed='> 10')\n",
    "winds_ge10_times.index = pd.to_datetime(winds_ge10_times.index)\n",
    "winds_le10_times =      pd.read_csv('winds_le10_times.csv').drop(columns='Unnamed: 0').set_index('time').assign(wind_speed='<= 10')\n",
    "winds_le10_times.index = pd.to_datetime(winds_le10_times.index)"
   ]
  },
  {
   "cell_type": "markdown",
   "metadata": {},
   "source": [
    "Join the datasets"
   ]
  },
  {
   "cell_type": "code",
   "execution_count": 79,
   "metadata": {},
   "outputs": [],
   "source": [
    "nomrd_df_synopticwinds = pd.concat([\n",
    "    nomrd_df.set_index('median_time_rounded').join(cross_valley_wind_times, how='inner'),\n",
    "    nomrd_df.set_index('median_time_rounded').join(along_valley_wind_times, how='inner')\n",
    "])\n",
    "nomrd_df_synopticwinds = nomrd_df_synopticwinds.join(pd.concat([ winds_le10_times, winds_ge10_times]), how='inner')"
   ]
  },
  {
   "cell_type": "code",
   "execution_count": 80,
   "metadata": {},
   "outputs": [],
   "source": [
    "base = alt.Chart().encode(\n",
    "    alt.X('tau:Q').scale(type='log'),\n",
    "    alt.Color('wind_dir:N'),\n",
    ").properties(width=200, height=200, title = \"u'w', 3m-c\")\n",
    "\n",
    "def layer_plot(data, title=''):\n",
    "    return alt.layer(\n",
    "        base.encode(alt.Y('Co:Q')).mark_errorband(extent='iqr'),\n",
    "        base.encode(alt.Y('mean(Co):Q')).mark_line(),\n",
    "        data = data\n",
    "    ).facet(alt.Row('wind_speed')).properties(title=title)"
   ]
  },
  {
   "cell_type": "code",
   "execution_count": 81,
   "metadata": {},
   "outputs": [
    {
     "data": {
      "text/html": [
       "\n",
       "<style>\n",
       "  #altair-viz-eae836711f034421a774cadda0e53771.vega-embed {\n",
       "    width: 100%;\n",
       "    display: flex;\n",
       "  }\n",
       "\n",
       "  #altair-viz-eae836711f034421a774cadda0e53771.vega-embed details,\n",
       "  #altair-viz-eae836711f034421a774cadda0e53771.vega-embed details summary {\n",
       "    position: relative;\n",
       "  }\n",
       "</style>\n",
       "<div id=\"altair-viz-eae836711f034421a774cadda0e53771\"></div>\n",
       "<script type=\"text/javascript\">\n",
       "  var VEGA_DEBUG = (typeof VEGA_DEBUG == \"undefined\") ? {} : VEGA_DEBUG;\n",
       "  (function(spec, embedOpt){\n",
       "    let outputDiv = document.currentScript.previousElementSibling;\n",
       "    if (outputDiv.id !== \"altair-viz-eae836711f034421a774cadda0e53771\") {\n",
       "      outputDiv = document.getElementById(\"altair-viz-eae836711f034421a774cadda0e53771\");\n",
       "    }\n",
       "    const paths = {\n",
       "      \"vega\": \"https://cdn.jsdelivr.net/npm/vega@5?noext\",\n",
       "      \"vega-lib\": \"https://cdn.jsdelivr.net/npm/vega-lib?noext\",\n",
       "      \"vega-lite\": \"https://cdn.jsdelivr.net/npm/vega-lite@5.20.1?noext\",\n",
       "      \"vega-embed\": \"https://cdn.jsdelivr.net/npm/vega-embed@6?noext\",\n",
       "    };\n",
       "\n",
       "    function maybeLoadScript(lib, version) {\n",
       "      var key = `${lib.replace(\"-\", \"\")}_version`;\n",
       "      return (VEGA_DEBUG[key] == version) ?\n",
       "        Promise.resolve(paths[lib]) :\n",
       "        new Promise(function(resolve, reject) {\n",
       "          var s = document.createElement('script');\n",
       "          document.getElementsByTagName(\"head\")[0].appendChild(s);\n",
       "          s.async = true;\n",
       "          s.onload = () => {\n",
       "            VEGA_DEBUG[key] = version;\n",
       "            return resolve(paths[lib]);\n",
       "          };\n",
       "          s.onerror = () => reject(`Error loading script: ${paths[lib]}`);\n",
       "          s.src = paths[lib];\n",
       "        });\n",
       "    }\n",
       "\n",
       "    function showError(err) {\n",
       "      outputDiv.innerHTML = `<div class=\"error\" style=\"color:red;\">${err}</div>`;\n",
       "      throw err;\n",
       "    }\n",
       "\n",
       "    function displayChart(vegaEmbed) {\n",
       "      vegaEmbed(outputDiv, spec, embedOpt)\n",
       "        .catch(err => showError(`Javascript Error: ${err.message}<br>This usually means there's a typo in your chart specification. See the javascript console for the full traceback.`));\n",
       "    }\n",
       "\n",
       "    if(typeof define === \"function\" && define.amd) {\n",
       "      requirejs.config({paths});\n",
       "      require([\"vega-embed\"], displayChart, err => showError(`Error loading script: ${err.message}`));\n",
       "    } else {\n",
       "      maybeLoadScript(\"vega\", \"5\")\n",
       "        .then(() => maybeLoadScript(\"vega-lite\", \"5.20.1\"))\n",
       "        .then(() => maybeLoadScript(\"vega-embed\", \"6\"))\n",
       "        .catch(showError)\n",
       "        .then(() => displayChart(vegaEmbed));\n",
       "    }\n",
       "  })({\"config\": {\"view\": {\"continuousWidth\": 300, \"continuousHeight\": 300}}, \"data\": {\"url\": \"altair-data-69ea0a483870635fa727e940d0eb92df.json\", \"format\": {\"type\": \"json\"}}, \"mark\": {\"type\": \"line\", \"point\": {\"size\": 10}, \"strokeWidth\": 1}, \"encoding\": {\"color\": {\"field\": \"wind_dir\", \"type\": \"nominal\"}, \"detail\": {\"field\": \"date\", \"type\": \"nominal\"}, \"facet\": {\"field\": \"wind_speed\", \"type\": \"nominal\"}, \"tooltip\": {\"field\": \"date\", \"type\": \"nominal\"}, \"x\": {\"field\": \"tau\", \"scale\": {\"type\": \"log\"}, \"type\": \"quantitative\"}, \"y\": {\"aggregate\": \"mean\", \"field\": \"Co\", \"type\": \"quantitative\"}}, \"height\": 200, \"width\": 200, \"$schema\": \"https://vega.github.io/schema/vega-lite/v5.20.1.json\"}, {\"mode\": \"vega-lite\"});\n",
       "</script>"
      ],
      "text/plain": [
       "alt.Chart(...)"
      ]
     },
     "execution_count": 81,
     "metadata": {},
     "output_type": "execute_result"
    }
   ],
   "source": [
    "src = nomrd_df_synopticwinds.query(\"covariance == 'u_w_'\")\n",
    "src = src[src.index.hour.isin([15, 16, 17])]\n",
    "src['date'] = src.start_time.dt.date.astype('str')\n",
    "alt.Chart(\n",
    "    src.query(\"loc == '3m_c'\")\n",
    ").mark_line(strokeWidth=1, point={'size': 10}).encode(\n",
    "    alt.X('tau:Q').scale(type='log'),\n",
    "    alt.Y('mean(Co):Q'),\n",
    "    alt.Detail('date'),\n",
    "    alt.Color('wind_dir:N'),\n",
    "    alt.Facet('wind_speed'),\n",
    "    tooltip = 'date'\n",
    ").properties(width=200, height=200)"
   ]
  },
  {
   "cell_type": "code",
   "execution_count": 82,
   "metadata": {},
   "outputs": [
    {
     "data": {
      "text/plain": [
       "(0.2222222222222222, 0.375, 2.0, 0.5)"
      ]
     },
     "execution_count": 82,
     "metadata": {},
     "output_type": "execute_result"
    }
   ],
   "source": [
    "4/18, 3/8, 4/2, 3/6"
   ]
  },
  {
   "cell_type": "code",
   "execution_count": 83,
   "metadata": {},
   "outputs": [
    {
     "data": {
      "text/html": [
       "\n",
       "<style>\n",
       "  #altair-viz-1389ec82288c4aa8a45ce702c6d005da.vega-embed {\n",
       "    width: 100%;\n",
       "    display: flex;\n",
       "  }\n",
       "\n",
       "  #altair-viz-1389ec82288c4aa8a45ce702c6d005da.vega-embed details,\n",
       "  #altair-viz-1389ec82288c4aa8a45ce702c6d005da.vega-embed details summary {\n",
       "    position: relative;\n",
       "  }\n",
       "</style>\n",
       "<div id=\"altair-viz-1389ec82288c4aa8a45ce702c6d005da\"></div>\n",
       "<script type=\"text/javascript\">\n",
       "  var VEGA_DEBUG = (typeof VEGA_DEBUG == \"undefined\") ? {} : VEGA_DEBUG;\n",
       "  (function(spec, embedOpt){\n",
       "    let outputDiv = document.currentScript.previousElementSibling;\n",
       "    if (outputDiv.id !== \"altair-viz-1389ec82288c4aa8a45ce702c6d005da\") {\n",
       "      outputDiv = document.getElementById(\"altair-viz-1389ec82288c4aa8a45ce702c6d005da\");\n",
       "    }\n",
       "    const paths = {\n",
       "      \"vega\": \"https://cdn.jsdelivr.net/npm/vega@5?noext\",\n",
       "      \"vega-lib\": \"https://cdn.jsdelivr.net/npm/vega-lib?noext\",\n",
       "      \"vega-lite\": \"https://cdn.jsdelivr.net/npm/vega-lite@5.20.1?noext\",\n",
       "      \"vega-embed\": \"https://cdn.jsdelivr.net/npm/vega-embed@6?noext\",\n",
       "    };\n",
       "\n",
       "    function maybeLoadScript(lib, version) {\n",
       "      var key = `${lib.replace(\"-\", \"\")}_version`;\n",
       "      return (VEGA_DEBUG[key] == version) ?\n",
       "        Promise.resolve(paths[lib]) :\n",
       "        new Promise(function(resolve, reject) {\n",
       "          var s = document.createElement('script');\n",
       "          document.getElementsByTagName(\"head\")[0].appendChild(s);\n",
       "          s.async = true;\n",
       "          s.onload = () => {\n",
       "            VEGA_DEBUG[key] = version;\n",
       "            return resolve(paths[lib]);\n",
       "          };\n",
       "          s.onerror = () => reject(`Error loading script: ${paths[lib]}`);\n",
       "          s.src = paths[lib];\n",
       "        });\n",
       "    }\n",
       "\n",
       "    function showError(err) {\n",
       "      outputDiv.innerHTML = `<div class=\"error\" style=\"color:red;\">${err}</div>`;\n",
       "      throw err;\n",
       "    }\n",
       "\n",
       "    function displayChart(vegaEmbed) {\n",
       "      vegaEmbed(outputDiv, spec, embedOpt)\n",
       "        .catch(err => showError(`Javascript Error: ${err.message}<br>This usually means there's a typo in your chart specification. See the javascript console for the full traceback.`));\n",
       "    }\n",
       "\n",
       "    if(typeof define === \"function\" && define.amd) {\n",
       "      requirejs.config({paths});\n",
       "      require([\"vega-embed\"], displayChart, err => showError(`Error loading script: ${err.message}`));\n",
       "    } else {\n",
       "      maybeLoadScript(\"vega\", \"5\")\n",
       "        .then(() => maybeLoadScript(\"vega-lite\", \"5.20.1\"))\n",
       "        .then(() => maybeLoadScript(\"vega-embed\", \"6\"))\n",
       "        .catch(showError)\n",
       "        .then(() => displayChart(vegaEmbed));\n",
       "    }\n",
       "  })({\"config\": {\"view\": {\"continuousWidth\": 300, \"continuousHeight\": 300}}, \"vconcat\": [{\"data\": {\"url\": \"altair-data-af87c2fd6f75571b6e2aeb65aaef9d72.json\", \"format\": {\"type\": \"json\"}}, \"facet\": {\"field\": \"wind_speed\", \"type\": \"nominal\"}, \"spec\": {\"layer\": [{\"mark\": {\"type\": \"errorband\", \"extent\": \"iqr\"}, \"encoding\": {\"color\": {\"field\": \"wind_dir\", \"type\": \"nominal\"}, \"x\": {\"field\": \"tau\", \"scale\": {\"type\": \"log\"}, \"type\": \"quantitative\"}, \"y\": {\"field\": \"Co\", \"type\": \"quantitative\"}}, \"title\": \"u'w', 3m-c\"}, {\"mark\": {\"type\": \"line\"}, \"encoding\": {\"color\": {\"field\": \"wind_dir\", \"type\": \"nominal\"}, \"x\": {\"field\": \"tau\", \"scale\": {\"type\": \"log\"}, \"type\": \"quantitative\"}, \"y\": {\"aggregate\": \"mean\", \"field\": \"Co\", \"type\": \"quantitative\"}}, \"title\": \"u'w', 3m-c\"}], \"height\": 200, \"width\": 200}, \"title\": \"u'w' 3m_c\"}, {\"data\": {\"url\": \"altair-data-6405214ef29a15128390f04a02fb86a2.json\", \"format\": {\"type\": \"json\"}}, \"facet\": {\"field\": \"wind_speed\", \"type\": \"nominal\"}, \"spec\": {\"layer\": [{\"mark\": {\"type\": \"errorband\", \"extent\": \"iqr\"}, \"encoding\": {\"color\": {\"field\": \"wind_dir\", \"type\": \"nominal\"}, \"x\": {\"field\": \"tau\", \"scale\": {\"type\": \"log\"}, \"type\": \"quantitative\"}, \"y\": {\"field\": \"Co\", \"type\": \"quantitative\"}}, \"title\": \"u'w', 3m-c\"}, {\"mark\": {\"type\": \"line\"}, \"encoding\": {\"color\": {\"field\": \"wind_dir\", \"type\": \"nominal\"}, \"x\": {\"field\": \"tau\", \"scale\": {\"type\": \"log\"}, \"type\": \"quantitative\"}, \"y\": {\"aggregate\": \"mean\", \"field\": \"Co\", \"type\": \"quantitative\"}}, \"title\": \"u'w', 3m-c\"}], \"height\": 200, \"width\": 200}, \"title\": \"u'w' 5m_c\"}, {\"data\": {\"url\": \"altair-data-7c9ed3999c2a91c327305ea9a93765b7.json\", \"format\": {\"type\": \"json\"}}, \"facet\": {\"field\": \"wind_speed\", \"type\": \"nominal\"}, \"spec\": {\"layer\": [{\"mark\": {\"type\": \"errorband\", \"extent\": \"iqr\"}, \"encoding\": {\"color\": {\"field\": \"wind_dir\", \"type\": \"nominal\"}, \"x\": {\"field\": \"tau\", \"scale\": {\"type\": \"log\"}, \"type\": \"quantitative\"}, \"y\": {\"field\": \"Co\", \"type\": \"quantitative\"}}, \"title\": \"u'w', 3m-c\"}, {\"mark\": {\"type\": \"line\"}, \"encoding\": {\"color\": {\"field\": \"wind_dir\", \"type\": \"nominal\"}, \"x\": {\"field\": \"tau\", \"scale\": {\"type\": \"log\"}, \"type\": \"quantitative\"}, \"y\": {\"aggregate\": \"mean\", \"field\": \"Co\", \"type\": \"quantitative\"}}, \"title\": \"u'w', 3m-c\"}], \"height\": 200, \"width\": 200}, \"title\": \"u'w' 10m_c\"}, {\"data\": {\"url\": \"altair-data-9e0142cd29e5c9e9d880587394bdb520.json\", \"format\": {\"type\": \"json\"}}, \"facet\": {\"field\": \"wind_speed\", \"type\": \"nominal\"}, \"spec\": {\"layer\": [{\"mark\": {\"type\": \"errorband\", \"extent\": \"iqr\"}, \"encoding\": {\"color\": {\"field\": \"wind_dir\", \"type\": \"nominal\"}, \"x\": {\"field\": \"tau\", \"scale\": {\"type\": \"log\"}, \"type\": \"quantitative\"}, \"y\": {\"field\": \"Co\", \"type\": \"quantitative\"}}, \"title\": \"u'w', 3m-c\"}, {\"mark\": {\"type\": \"line\"}, \"encoding\": {\"color\": {\"field\": \"wind_dir\", \"type\": \"nominal\"}, \"x\": {\"field\": \"tau\", \"scale\": {\"type\": \"log\"}, \"type\": \"quantitative\"}, \"y\": {\"aggregate\": \"mean\", \"field\": \"Co\", \"type\": \"quantitative\"}}, \"title\": \"u'w', 3m-c\"}], \"height\": 200, \"width\": 200}, \"title\": \"u'w' 15m_c\"}, {\"data\": {\"url\": \"altair-data-31e51749a4089b27418d8f396b854657.json\", \"format\": {\"type\": \"json\"}}, \"facet\": {\"field\": \"wind_speed\", \"type\": \"nominal\"}, \"spec\": {\"layer\": [{\"mark\": {\"type\": \"errorband\", \"extent\": \"iqr\"}, \"encoding\": {\"color\": {\"field\": \"wind_dir\", \"type\": \"nominal\"}, \"x\": {\"field\": \"tau\", \"scale\": {\"type\": \"log\"}, \"type\": \"quantitative\"}, \"y\": {\"field\": \"Co\", \"type\": \"quantitative\"}}, \"title\": \"u'w', 3m-c\"}, {\"mark\": {\"type\": \"line\"}, \"encoding\": {\"color\": {\"field\": \"wind_dir\", \"type\": \"nominal\"}, \"x\": {\"field\": \"tau\", \"scale\": {\"type\": \"log\"}, \"type\": \"quantitative\"}, \"y\": {\"aggregate\": \"mean\", \"field\": \"Co\", \"type\": \"quantitative\"}}, \"title\": \"u'w', 3m-c\"}], \"height\": 200, \"width\": 200}, \"title\": \"u'w' 20m_c\"}], \"$schema\": \"https://vega.github.io/schema/vega-lite/v5.20.1.json\"}, {\"mode\": \"vega-lite\"});\n",
       "</script>"
      ],
      "text/plain": [
       "alt.VConcatChart(...)"
      ]
     },
     "execution_count": 83,
     "metadata": {},
     "output_type": "execute_result"
    }
   ],
   "source": [
    "src = nomrd_df_synopticwinds.query(\"covariance == 'u_w_'\")\n",
    "src = src[src.index.hour.isin([15, 16, 17])]\n",
    "\n",
    "(\n",
    "    layer_plot(src.query(\"loc == '3m_c'\"), title=\"u'w' 3m_c\")\n",
    "    &\\\n",
    "    layer_plot(src.query(\"loc == '5m_c'\"), title=\"u'w' 5m_c\")\n",
    "    &\\\n",
    "    layer_plot(src.query(\"loc == '10m_c'\"), title=\"u'w' 10m_c\")\n",
    "    &\\\n",
    "    layer_plot(src.query(\"loc == '15m_c'\"), title=\"u'w' 15m_c\")\n",
    "    &\\\n",
    "    layer_plot(src.query(\"loc == '20m_c'\"), title=\"u'w' 20m_c\")\n",
    "\n",
    ") "
   ]
  },
  {
   "cell_type": "code",
   "execution_count": 84,
   "metadata": {},
   "outputs": [
    {
     "data": {
      "text/html": [
       "\n",
       "<style>\n",
       "  #altair-viz-845cf9de9dde4808a2e149160335024e.vega-embed {\n",
       "    width: 100%;\n",
       "    display: flex;\n",
       "  }\n",
       "\n",
       "  #altair-viz-845cf9de9dde4808a2e149160335024e.vega-embed details,\n",
       "  #altair-viz-845cf9de9dde4808a2e149160335024e.vega-embed details summary {\n",
       "    position: relative;\n",
       "  }\n",
       "</style>\n",
       "<div id=\"altair-viz-845cf9de9dde4808a2e149160335024e\"></div>\n",
       "<script type=\"text/javascript\">\n",
       "  var VEGA_DEBUG = (typeof VEGA_DEBUG == \"undefined\") ? {} : VEGA_DEBUG;\n",
       "  (function(spec, embedOpt){\n",
       "    let outputDiv = document.currentScript.previousElementSibling;\n",
       "    if (outputDiv.id !== \"altair-viz-845cf9de9dde4808a2e149160335024e\") {\n",
       "      outputDiv = document.getElementById(\"altair-viz-845cf9de9dde4808a2e149160335024e\");\n",
       "    }\n",
       "    const paths = {\n",
       "      \"vega\": \"https://cdn.jsdelivr.net/npm/vega@5?noext\",\n",
       "      \"vega-lib\": \"https://cdn.jsdelivr.net/npm/vega-lib?noext\",\n",
       "      \"vega-lite\": \"https://cdn.jsdelivr.net/npm/vega-lite@5.20.1?noext\",\n",
       "      \"vega-embed\": \"https://cdn.jsdelivr.net/npm/vega-embed@6?noext\",\n",
       "    };\n",
       "\n",
       "    function maybeLoadScript(lib, version) {\n",
       "      var key = `${lib.replace(\"-\", \"\")}_version`;\n",
       "      return (VEGA_DEBUG[key] == version) ?\n",
       "        Promise.resolve(paths[lib]) :\n",
       "        new Promise(function(resolve, reject) {\n",
       "          var s = document.createElement('script');\n",
       "          document.getElementsByTagName(\"head\")[0].appendChild(s);\n",
       "          s.async = true;\n",
       "          s.onload = () => {\n",
       "            VEGA_DEBUG[key] = version;\n",
       "            return resolve(paths[lib]);\n",
       "          };\n",
       "          s.onerror = () => reject(`Error loading script: ${paths[lib]}`);\n",
       "          s.src = paths[lib];\n",
       "        });\n",
       "    }\n",
       "\n",
       "    function showError(err) {\n",
       "      outputDiv.innerHTML = `<div class=\"error\" style=\"color:red;\">${err}</div>`;\n",
       "      throw err;\n",
       "    }\n",
       "\n",
       "    function displayChart(vegaEmbed) {\n",
       "      vegaEmbed(outputDiv, spec, embedOpt)\n",
       "        .catch(err => showError(`Javascript Error: ${err.message}<br>This usually means there's a typo in your chart specification. See the javascript console for the full traceback.`));\n",
       "    }\n",
       "\n",
       "    if(typeof define === \"function\" && define.amd) {\n",
       "      requirejs.config({paths});\n",
       "      require([\"vega-embed\"], displayChart, err => showError(`Error loading script: ${err.message}`));\n",
       "    } else {\n",
       "      maybeLoadScript(\"vega\", \"5\")\n",
       "        .then(() => maybeLoadScript(\"vega-lite\", \"5.20.1\"))\n",
       "        .then(() => maybeLoadScript(\"vega-embed\", \"6\"))\n",
       "        .catch(showError)\n",
       "        .then(() => displayChart(vegaEmbed));\n",
       "    }\n",
       "  })({\"config\": {\"view\": {\"continuousWidth\": 300, \"continuousHeight\": 300}}, \"vconcat\": [{\"hconcat\": [{\"data\": {\"url\": \"altair-data-af87c2fd6f75571b6e2aeb65aaef9d72.json\", \"format\": {\"type\": \"json\"}}, \"facet\": {\"field\": \"wind_speed\", \"type\": \"nominal\"}, \"spec\": {\"layer\": [{\"mark\": {\"type\": \"errorband\", \"extent\": \"iqr\"}, \"encoding\": {\"color\": {\"field\": \"wind_dir\", \"type\": \"nominal\"}, \"x\": {\"field\": \"tau\", \"scale\": {\"type\": \"log\"}, \"type\": \"quantitative\"}, \"y\": {\"field\": \"Co\", \"type\": \"quantitative\"}}, \"title\": \"u'w', 3m-c\"}, {\"mark\": {\"type\": \"line\"}, \"encoding\": {\"color\": {\"field\": \"wind_dir\", \"type\": \"nominal\"}, \"x\": {\"field\": \"tau\", \"scale\": {\"type\": \"log\"}, \"type\": \"quantitative\"}, \"y\": {\"aggregate\": \"mean\", \"field\": \"Co\", \"type\": \"quantitative\"}}, \"title\": \"u'w', 3m-c\"}], \"height\": 200, \"width\": 200}, \"title\": \"u'w' 3m_c\"}, {\"data\": {\"url\": \"altair-data-ef428a25b5a85d8fa24719747c164fac.json\", \"format\": {\"type\": \"json\"}}, \"facet\": {\"field\": \"wind_speed\", \"type\": \"nominal\"}, \"spec\": {\"layer\": [{\"mark\": {\"type\": \"errorband\", \"extent\": \"iqr\"}, \"encoding\": {\"color\": {\"field\": \"wind_dir\", \"type\": \"nominal\"}, \"x\": {\"field\": \"tau\", \"scale\": {\"type\": \"log\"}, \"type\": \"quantitative\"}, \"y\": {\"field\": \"Co\", \"type\": \"quantitative\"}}, \"title\": \"u'w', 3m-c\"}, {\"mark\": {\"type\": \"line\"}, \"encoding\": {\"color\": {\"field\": \"wind_dir\", \"type\": \"nominal\"}, \"x\": {\"field\": \"tau\", \"scale\": {\"type\": \"log\"}, \"type\": \"quantitative\"}, \"y\": {\"aggregate\": \"mean\", \"field\": \"Co\", \"type\": \"quantitative\"}}, \"title\": \"u'w', 3m-c\"}], \"height\": 200, \"width\": 200}, \"title\": \"u'w' 3m_d\"}, {\"data\": {\"url\": \"altair-data-7e7972a12130631b1a3c96fb16044f81.json\", \"format\": {\"type\": \"json\"}}, \"facet\": {\"field\": \"wind_speed\", \"type\": \"nominal\"}, \"spec\": {\"layer\": [{\"mark\": {\"type\": \"errorband\", \"extent\": \"iqr\"}, \"encoding\": {\"color\": {\"field\": \"wind_dir\", \"type\": \"nominal\"}, \"x\": {\"field\": \"tau\", \"scale\": {\"type\": \"log\"}, \"type\": \"quantitative\"}, \"y\": {\"field\": \"Co\", \"type\": \"quantitative\"}}, \"title\": \"u'w', 3m-c\"}, {\"mark\": {\"type\": \"line\"}, \"encoding\": {\"color\": {\"field\": \"wind_dir\", \"type\": \"nominal\"}, \"x\": {\"field\": \"tau\", \"scale\": {\"type\": \"log\"}, \"type\": \"quantitative\"}, \"y\": {\"aggregate\": \"mean\", \"field\": \"Co\", \"type\": \"quantitative\"}}, \"title\": \"u'w', 3m-c\"}], \"height\": 200, \"width\": 200}, \"title\": \"u'w' 3m_ue\"}, {\"data\": {\"url\": \"altair-data-09c1246f67218d7ece4fef751490c2be.json\", \"format\": {\"type\": \"json\"}}, \"facet\": {\"field\": \"wind_speed\", \"type\": \"nominal\"}, \"spec\": {\"layer\": [{\"mark\": {\"type\": \"errorband\", \"extent\": \"iqr\"}, \"encoding\": {\"color\": {\"field\": \"wind_dir\", \"type\": \"nominal\"}, \"x\": {\"field\": \"tau\", \"scale\": {\"type\": \"log\"}, \"type\": \"quantitative\"}, \"y\": {\"field\": \"Co\", \"type\": \"quantitative\"}}, \"title\": \"u'w', 3m-c\"}, {\"mark\": {\"type\": \"line\"}, \"encoding\": {\"color\": {\"field\": \"wind_dir\", \"type\": \"nominal\"}, \"x\": {\"field\": \"tau\", \"scale\": {\"type\": \"log\"}, \"type\": \"quantitative\"}, \"y\": {\"aggregate\": \"mean\", \"field\": \"Co\", \"type\": \"quantitative\"}}, \"title\": \"u'w', 3m-c\"}], \"height\": 200, \"width\": 200}, \"title\": \"u'w' 3m_uw\"}]}, {\"data\": {\"url\": \"altair-data-6405214ef29a15128390f04a02fb86a2.json\", \"format\": {\"type\": \"json\"}}, \"facet\": {\"field\": \"wind_speed\", \"type\": \"nominal\"}, \"spec\": {\"layer\": [{\"mark\": {\"type\": \"errorband\", \"extent\": \"iqr\"}, \"encoding\": {\"color\": {\"field\": \"wind_dir\", \"type\": \"nominal\"}, \"x\": {\"field\": \"tau\", \"scale\": {\"type\": \"log\"}, \"type\": \"quantitative\"}, \"y\": {\"field\": \"Co\", \"type\": \"quantitative\"}}, \"title\": \"u'w', 3m-c\"}, {\"mark\": {\"type\": \"line\"}, \"encoding\": {\"color\": {\"field\": \"wind_dir\", \"type\": \"nominal\"}, \"x\": {\"field\": \"tau\", \"scale\": {\"type\": \"log\"}, \"type\": \"quantitative\"}, \"y\": {\"aggregate\": \"mean\", \"field\": \"Co\", \"type\": \"quantitative\"}}, \"title\": \"u'w', 3m-c\"}], \"height\": 200, \"width\": 200}, \"title\": \"u'w' 5m_c\"}, {\"hconcat\": [{\"data\": {\"url\": \"altair-data-7c9ed3999c2a91c327305ea9a93765b7.json\", \"format\": {\"type\": \"json\"}}, \"facet\": {\"field\": \"wind_speed\", \"type\": \"nominal\"}, \"spec\": {\"layer\": [{\"mark\": {\"type\": \"errorband\", \"extent\": \"iqr\"}, \"encoding\": {\"color\": {\"field\": \"wind_dir\", \"type\": \"nominal\"}, \"x\": {\"field\": \"tau\", \"scale\": {\"type\": \"log\"}, \"type\": \"quantitative\"}, \"y\": {\"field\": \"Co\", \"type\": \"quantitative\"}}, \"title\": \"u'w', 3m-c\"}, {\"mark\": {\"type\": \"line\"}, \"encoding\": {\"color\": {\"field\": \"wind_dir\", \"type\": \"nominal\"}, \"x\": {\"field\": \"tau\", \"scale\": {\"type\": \"log\"}, \"type\": \"quantitative\"}, \"y\": {\"aggregate\": \"mean\", \"field\": \"Co\", \"type\": \"quantitative\"}}, \"title\": \"u'w', 3m-c\"}], \"height\": 200, \"width\": 200}, \"title\": \"u'w' 10m_c\"}, {\"data\": {\"url\": \"altair-data-62fb773e701f5579f11dd5c1a457b084.json\", \"format\": {\"type\": \"json\"}}, \"facet\": {\"field\": \"wind_speed\", \"type\": \"nominal\"}, \"spec\": {\"layer\": [{\"mark\": {\"type\": \"errorband\", \"extent\": \"iqr\"}, \"encoding\": {\"color\": {\"field\": \"wind_dir\", \"type\": \"nominal\"}, \"x\": {\"field\": \"tau\", \"scale\": {\"type\": \"log\"}, \"type\": \"quantitative\"}, \"y\": {\"field\": \"Co\", \"type\": \"quantitative\"}}, \"title\": \"u'w', 3m-c\"}, {\"mark\": {\"type\": \"line\"}, \"encoding\": {\"color\": {\"field\": \"wind_dir\", \"type\": \"nominal\"}, \"x\": {\"field\": \"tau\", \"scale\": {\"type\": \"log\"}, \"type\": \"quantitative\"}, \"y\": {\"aggregate\": \"mean\", \"field\": \"Co\", \"type\": \"quantitative\"}}, \"title\": \"u'w', 3m-c\"}], \"height\": 200, \"width\": 200}, \"title\": \"u'w' 10m_d\"}, {\"data\": {\"url\": \"altair-data-e95035a494bc676b31f3f23b825a25ed.json\", \"format\": {\"type\": \"json\"}}, \"facet\": {\"field\": \"wind_speed\", \"type\": \"nominal\"}, \"spec\": {\"layer\": [{\"mark\": {\"type\": \"errorband\", \"extent\": \"iqr\"}, \"encoding\": {\"color\": {\"field\": \"wind_dir\", \"type\": \"nominal\"}, \"x\": {\"field\": \"tau\", \"scale\": {\"type\": \"log\"}, \"type\": \"quantitative\"}, \"y\": {\"field\": \"Co\", \"type\": \"quantitative\"}}, \"title\": \"u'w', 3m-c\"}, {\"mark\": {\"type\": \"line\"}, \"encoding\": {\"color\": {\"field\": \"wind_dir\", \"type\": \"nominal\"}, \"x\": {\"field\": \"tau\", \"scale\": {\"type\": \"log\"}, \"type\": \"quantitative\"}, \"y\": {\"aggregate\": \"mean\", \"field\": \"Co\", \"type\": \"quantitative\"}}, \"title\": \"u'w', 3m-c\"}], \"height\": 200, \"width\": 200}, \"title\": \"u'w' 10m_ue\"}, {\"data\": {\"url\": \"altair-data-d80c8b3026dbc5b6d8e7fa9477933bf7.json\", \"format\": {\"type\": \"json\"}}, \"facet\": {\"field\": \"wind_speed\", \"type\": \"nominal\"}, \"spec\": {\"layer\": [{\"mark\": {\"type\": \"errorband\", \"extent\": \"iqr\"}, \"encoding\": {\"color\": {\"field\": \"wind_dir\", \"type\": \"nominal\"}, \"x\": {\"field\": \"tau\", \"scale\": {\"type\": \"log\"}, \"type\": \"quantitative\"}, \"y\": {\"field\": \"Co\", \"type\": \"quantitative\"}}, \"title\": \"u'w', 3m-c\"}, {\"mark\": {\"type\": \"line\"}, \"encoding\": {\"color\": {\"field\": \"wind_dir\", \"type\": \"nominal\"}, \"x\": {\"field\": \"tau\", \"scale\": {\"type\": \"log\"}, \"type\": \"quantitative\"}, \"y\": {\"aggregate\": \"mean\", \"field\": \"Co\", \"type\": \"quantitative\"}}, \"title\": \"u'w', 3m-c\"}], \"height\": 200, \"width\": 200}, \"title\": \"u'w' 10m_uw\"}]}, {\"data\": {\"url\": \"altair-data-9e0142cd29e5c9e9d880587394bdb520.json\", \"format\": {\"type\": \"json\"}}, \"facet\": {\"field\": \"wind_speed\", \"type\": \"nominal\"}, \"spec\": {\"layer\": [{\"mark\": {\"type\": \"errorband\", \"extent\": \"iqr\"}, \"encoding\": {\"color\": {\"field\": \"wind_dir\", \"type\": \"nominal\"}, \"x\": {\"field\": \"tau\", \"scale\": {\"type\": \"log\"}, \"type\": \"quantitative\"}, \"y\": {\"field\": \"Co\", \"type\": \"quantitative\"}}, \"title\": \"u'w', 3m-c\"}, {\"mark\": {\"type\": \"line\"}, \"encoding\": {\"color\": {\"field\": \"wind_dir\", \"type\": \"nominal\"}, \"x\": {\"field\": \"tau\", \"scale\": {\"type\": \"log\"}, \"type\": \"quantitative\"}, \"y\": {\"aggregate\": \"mean\", \"field\": \"Co\", \"type\": \"quantitative\"}}, \"title\": \"u'w', 3m-c\"}], \"height\": 200, \"width\": 200}, \"title\": \"u'w' 15m_c\"}, {\"data\": {\"url\": \"altair-data-31e51749a4089b27418d8f396b854657.json\", \"format\": {\"type\": \"json\"}}, \"facet\": {\"field\": \"wind_speed\", \"type\": \"nominal\"}, \"spec\": {\"layer\": [{\"mark\": {\"type\": \"errorband\", \"extent\": \"iqr\"}, \"encoding\": {\"color\": {\"field\": \"wind_dir\", \"type\": \"nominal\"}, \"x\": {\"field\": \"tau\", \"scale\": {\"type\": \"log\"}, \"type\": \"quantitative\"}, \"y\": {\"field\": \"Co\", \"type\": \"quantitative\"}}, \"title\": \"u'w', 3m-c\"}, {\"mark\": {\"type\": \"line\"}, \"encoding\": {\"color\": {\"field\": \"wind_dir\", \"type\": \"nominal\"}, \"x\": {\"field\": \"tau\", \"scale\": {\"type\": \"log\"}, \"type\": \"quantitative\"}, \"y\": {\"aggregate\": \"mean\", \"field\": \"Co\", \"type\": \"quantitative\"}}, \"title\": \"u'w', 3m-c\"}], \"height\": 200, \"width\": 200}, \"title\": \"u'w' 20m_c\"}], \"$schema\": \"https://vega.github.io/schema/vega-lite/v5.20.1.json\"}, {\"mode\": \"vega-lite\"});\n",
       "</script>"
      ],
      "text/plain": [
       "alt.VConcatChart(...)"
      ]
     },
     "execution_count": 84,
     "metadata": {},
     "output_type": "execute_result"
    }
   ],
   "source": [
    "src = nomrd_df_synopticwinds.query(\"covariance == 'u_w_'\")\n",
    "src = src[src.index.hour.isin([15, 16, 17])]\n",
    "\n",
    "(\n",
    "    layer_plot(src.query(\"loc == '3m_c'\"), title=\"u'w' 3m_c\") | layer_plot(src.query(\"loc == '3m_d'\"), title=\"u'w' 3m_d\") | layer_plot(src.query(\"loc == '3m_ue'\"), title=\"u'w' 3m_ue\") | layer_plot(src.query(\"loc == '3m_uw'\"), title=\"u'w' 3m_uw\")\n",
    ") &\\\n",
    "layer_plot(src.query(\"loc == '5m_c'\"), title=\"u'w' 5m_c\") &\\\n",
    "(\n",
    "    layer_plot(src.query(\"loc == '10m_c'\"), title=\"u'w' 10m_c\") | layer_plot(src.query(\"loc == '10m_d'\"), title=\"u'w' 10m_d\") | layer_plot(src.query(\"loc == '10m_ue'\"), title=\"u'w' 10m_ue\") | layer_plot(src.query(\"loc == '10m_uw'\"), title=\"u'w' 10m_uw\")\n",
    ")  &\\\n",
    "layer_plot(src.query(\"loc == '15m_c'\"), title=\"u'w' 15m_c\") &\\\n",
    "layer_plot(src.query(\"loc == '20m_c'\"), title=\"u'w' 20m_c\")"
   ]
  },
  {
   "cell_type": "code",
   "execution_count": 85,
   "metadata": {},
   "outputs": [
    {
     "data": {
      "text/html": [
       "\n",
       "<style>\n",
       "  #altair-viz-940cba54d1bb45f0a57f8e310e979e93.vega-embed {\n",
       "    width: 100%;\n",
       "    display: flex;\n",
       "  }\n",
       "\n",
       "  #altair-viz-940cba54d1bb45f0a57f8e310e979e93.vega-embed details,\n",
       "  #altair-viz-940cba54d1bb45f0a57f8e310e979e93.vega-embed details summary {\n",
       "    position: relative;\n",
       "  }\n",
       "</style>\n",
       "<div id=\"altair-viz-940cba54d1bb45f0a57f8e310e979e93\"></div>\n",
       "<script type=\"text/javascript\">\n",
       "  var VEGA_DEBUG = (typeof VEGA_DEBUG == \"undefined\") ? {} : VEGA_DEBUG;\n",
       "  (function(spec, embedOpt){\n",
       "    let outputDiv = document.currentScript.previousElementSibling;\n",
       "    if (outputDiv.id !== \"altair-viz-940cba54d1bb45f0a57f8e310e979e93\") {\n",
       "      outputDiv = document.getElementById(\"altair-viz-940cba54d1bb45f0a57f8e310e979e93\");\n",
       "    }\n",
       "    const paths = {\n",
       "      \"vega\": \"https://cdn.jsdelivr.net/npm/vega@5?noext\",\n",
       "      \"vega-lib\": \"https://cdn.jsdelivr.net/npm/vega-lib?noext\",\n",
       "      \"vega-lite\": \"https://cdn.jsdelivr.net/npm/vega-lite@5.20.1?noext\",\n",
       "      \"vega-embed\": \"https://cdn.jsdelivr.net/npm/vega-embed@6?noext\",\n",
       "    };\n",
       "\n",
       "    function maybeLoadScript(lib, version) {\n",
       "      var key = `${lib.replace(\"-\", \"\")}_version`;\n",
       "      return (VEGA_DEBUG[key] == version) ?\n",
       "        Promise.resolve(paths[lib]) :\n",
       "        new Promise(function(resolve, reject) {\n",
       "          var s = document.createElement('script');\n",
       "          document.getElementsByTagName(\"head\")[0].appendChild(s);\n",
       "          s.async = true;\n",
       "          s.onload = () => {\n",
       "            VEGA_DEBUG[key] = version;\n",
       "            return resolve(paths[lib]);\n",
       "          };\n",
       "          s.onerror = () => reject(`Error loading script: ${paths[lib]}`);\n",
       "          s.src = paths[lib];\n",
       "        });\n",
       "    }\n",
       "\n",
       "    function showError(err) {\n",
       "      outputDiv.innerHTML = `<div class=\"error\" style=\"color:red;\">${err}</div>`;\n",
       "      throw err;\n",
       "    }\n",
       "\n",
       "    function displayChart(vegaEmbed) {\n",
       "      vegaEmbed(outputDiv, spec, embedOpt)\n",
       "        .catch(err => showError(`Javascript Error: ${err.message}<br>This usually means there's a typo in your chart specification. See the javascript console for the full traceback.`));\n",
       "    }\n",
       "\n",
       "    if(typeof define === \"function\" && define.amd) {\n",
       "      requirejs.config({paths});\n",
       "      require([\"vega-embed\"], displayChart, err => showError(`Error loading script: ${err.message}`));\n",
       "    } else {\n",
       "      maybeLoadScript(\"vega\", \"5\")\n",
       "        .then(() => maybeLoadScript(\"vega-lite\", \"5.20.1\"))\n",
       "        .then(() => maybeLoadScript(\"vega-embed\", \"6\"))\n",
       "        .catch(showError)\n",
       "        .then(() => displayChart(vegaEmbed));\n",
       "    }\n",
       "  })({\"config\": {\"view\": {\"continuousWidth\": 300, \"continuousHeight\": 300}}, \"vconcat\": [{\"hconcat\": [{\"data\": {\"url\": \"altair-data-af87c2fd6f75571b6e2aeb65aaef9d72.json\", \"format\": {\"type\": \"json\"}}, \"facet\": {\"field\": \"wind_speed\", \"type\": \"nominal\"}, \"spec\": {\"layer\": [{\"mark\": {\"type\": \"errorband\", \"extent\": \"iqr\"}, \"encoding\": {\"color\": {\"field\": \"wind_dir\", \"type\": \"nominal\"}, \"x\": {\"field\": \"tau\", \"scale\": {\"type\": \"log\"}, \"type\": \"quantitative\"}, \"y\": {\"field\": \"Co\", \"type\": \"quantitative\"}}, \"title\": \"u'w', 3m-c\"}, {\"mark\": {\"type\": \"line\"}, \"encoding\": {\"color\": {\"field\": \"wind_dir\", \"type\": \"nominal\"}, \"x\": {\"field\": \"tau\", \"scale\": {\"type\": \"log\"}, \"type\": \"quantitative\"}, \"y\": {\"aggregate\": \"mean\", \"field\": \"Co\", \"type\": \"quantitative\"}}, \"title\": \"u'w', 3m-c\"}], \"height\": 200, \"width\": 200}, \"title\": \"u'w' 3m_c\"}, {\"data\": {\"url\": \"altair-data-6405214ef29a15128390f04a02fb86a2.json\", \"format\": {\"type\": \"json\"}}, \"facet\": {\"field\": \"wind_speed\", \"type\": \"nominal\"}, \"spec\": {\"layer\": [{\"mark\": {\"type\": \"errorband\", \"extent\": \"iqr\"}, \"encoding\": {\"color\": {\"field\": \"wind_dir\", \"type\": \"nominal\"}, \"x\": {\"field\": \"tau\", \"scale\": {\"type\": \"log\"}, \"type\": \"quantitative\"}, \"y\": {\"field\": \"Co\", \"type\": \"quantitative\"}}, \"title\": \"u'w', 3m-c\"}, {\"mark\": {\"type\": \"line\"}, \"encoding\": {\"color\": {\"field\": \"wind_dir\", \"type\": \"nominal\"}, \"x\": {\"field\": \"tau\", \"scale\": {\"type\": \"log\"}, \"type\": \"quantitative\"}, \"y\": {\"aggregate\": \"mean\", \"field\": \"Co\", \"type\": \"quantitative\"}}, \"title\": \"u'w', 3m-c\"}], \"height\": 200, \"width\": 200}, \"title\": \"u'w' 5m_c\"}, {\"data\": {\"url\": \"altair-data-7c9ed3999c2a91c327305ea9a93765b7.json\", \"format\": {\"type\": \"json\"}}, \"facet\": {\"field\": \"wind_speed\", \"type\": \"nominal\"}, \"spec\": {\"layer\": [{\"mark\": {\"type\": \"errorband\", \"extent\": \"iqr\"}, \"encoding\": {\"color\": {\"field\": \"wind_dir\", \"type\": \"nominal\"}, \"x\": {\"field\": \"tau\", \"scale\": {\"type\": \"log\"}, \"type\": \"quantitative\"}, \"y\": {\"field\": \"Co\", \"type\": \"quantitative\"}}, \"title\": \"u'w', 3m-c\"}, {\"mark\": {\"type\": \"line\"}, \"encoding\": {\"color\": {\"field\": \"wind_dir\", \"type\": \"nominal\"}, \"x\": {\"field\": \"tau\", \"scale\": {\"type\": \"log\"}, \"type\": \"quantitative\"}, \"y\": {\"aggregate\": \"mean\", \"field\": \"Co\", \"type\": \"quantitative\"}}, \"title\": \"u'w', 3m-c\"}], \"height\": 200, \"width\": 200}, \"title\": \"u'w' 10m_c\"}]}, {\"hconcat\": [{\"data\": {\"url\": \"altair-data-9e0142cd29e5c9e9d880587394bdb520.json\", \"format\": {\"type\": \"json\"}}, \"facet\": {\"field\": \"wind_speed\", \"type\": \"nominal\"}, \"spec\": {\"layer\": [{\"mark\": {\"type\": \"errorband\", \"extent\": \"iqr\"}, \"encoding\": {\"color\": {\"field\": \"wind_dir\", \"type\": \"nominal\"}, \"x\": {\"field\": \"tau\", \"scale\": {\"type\": \"log\"}, \"type\": \"quantitative\"}, \"y\": {\"field\": \"Co\", \"type\": \"quantitative\"}}, \"title\": \"u'w', 3m-c\"}, {\"mark\": {\"type\": \"line\"}, \"encoding\": {\"color\": {\"field\": \"wind_dir\", \"type\": \"nominal\"}, \"x\": {\"field\": \"tau\", \"scale\": {\"type\": \"log\"}, \"type\": \"quantitative\"}, \"y\": {\"aggregate\": \"mean\", \"field\": \"Co\", \"type\": \"quantitative\"}}, \"title\": \"u'w', 3m-c\"}], \"height\": 200, \"width\": 200}, \"title\": \"u'w' 15m_c\"}, {\"data\": {\"url\": \"altair-data-31e51749a4089b27418d8f396b854657.json\", \"format\": {\"type\": \"json\"}}, \"facet\": {\"field\": \"wind_speed\", \"type\": \"nominal\"}, \"spec\": {\"layer\": [{\"mark\": {\"type\": \"errorband\", \"extent\": \"iqr\"}, \"encoding\": {\"color\": {\"field\": \"wind_dir\", \"type\": \"nominal\"}, \"x\": {\"field\": \"tau\", \"scale\": {\"type\": \"log\"}, \"type\": \"quantitative\"}, \"y\": {\"field\": \"Co\", \"type\": \"quantitative\"}}, \"title\": \"u'w', 3m-c\"}, {\"mark\": {\"type\": \"line\"}, \"encoding\": {\"color\": {\"field\": \"wind_dir\", \"type\": \"nominal\"}, \"x\": {\"field\": \"tau\", \"scale\": {\"type\": \"log\"}, \"type\": \"quantitative\"}, \"y\": {\"aggregate\": \"mean\", \"field\": \"Co\", \"type\": \"quantitative\"}}, \"title\": \"u'w', 3m-c\"}], \"height\": 200, \"width\": 200}, \"title\": \"u'w' 20m_c\"}]}], \"$schema\": \"https://vega.github.io/schema/vega-lite/v5.20.1.json\"}, {\"mode\": \"vega-lite\"});\n",
       "</script>"
      ],
      "text/plain": [
       "alt.VConcatChart(...)"
      ]
     },
     "execution_count": 85,
     "metadata": {},
     "output_type": "execute_result"
    }
   ],
   "source": [
    "src = nomrd_df_synopticwinds.query(\"covariance == 'u_w_'\")\n",
    "src = src[src.index.hour.isin([15, 16, 17])]\n",
    "(\n",
    "    layer_plot(src.query(\"loc == '3m_c'\"), title=\"u'w' 3m_c\") |\\\n",
    "    layer_plot(src.query(\"loc == '5m_c'\"), title=\"u'w' 5m_c\") |\\\n",
    "    layer_plot(src.query(\"loc == '10m_c'\"), title=\"u'w' 10m_c\")\n",
    ") & (\n",
    "    layer_plot(src.query(\"loc == '15m_c'\"), title=\"u'w' 15m_c\") |\\\n",
    "    layer_plot(src.query(\"loc == '20m_c'\"), title=\"u'w' 20m_c\")\n",
    ")"
   ]
  },
  {
   "cell_type": "code",
   "execution_count": 86,
   "metadata": {},
   "outputs": [
    {
     "data": {
      "text/html": [
       "\n",
       "<style>\n",
       "  #altair-viz-d79977ad65b049508abd33d5617b9610.vega-embed {\n",
       "    width: 100%;\n",
       "    display: flex;\n",
       "  }\n",
       "\n",
       "  #altair-viz-d79977ad65b049508abd33d5617b9610.vega-embed details,\n",
       "  #altair-viz-d79977ad65b049508abd33d5617b9610.vega-embed details summary {\n",
       "    position: relative;\n",
       "  }\n",
       "</style>\n",
       "<div id=\"altair-viz-d79977ad65b049508abd33d5617b9610\"></div>\n",
       "<script type=\"text/javascript\">\n",
       "  var VEGA_DEBUG = (typeof VEGA_DEBUG == \"undefined\") ? {} : VEGA_DEBUG;\n",
       "  (function(spec, embedOpt){\n",
       "    let outputDiv = document.currentScript.previousElementSibling;\n",
       "    if (outputDiv.id !== \"altair-viz-d79977ad65b049508abd33d5617b9610\") {\n",
       "      outputDiv = document.getElementById(\"altair-viz-d79977ad65b049508abd33d5617b9610\");\n",
       "    }\n",
       "    const paths = {\n",
       "      \"vega\": \"https://cdn.jsdelivr.net/npm/vega@5?noext\",\n",
       "      \"vega-lib\": \"https://cdn.jsdelivr.net/npm/vega-lib?noext\",\n",
       "      \"vega-lite\": \"https://cdn.jsdelivr.net/npm/vega-lite@5.20.1?noext\",\n",
       "      \"vega-embed\": \"https://cdn.jsdelivr.net/npm/vega-embed@6?noext\",\n",
       "    };\n",
       "\n",
       "    function maybeLoadScript(lib, version) {\n",
       "      var key = `${lib.replace(\"-\", \"\")}_version`;\n",
       "      return (VEGA_DEBUG[key] == version) ?\n",
       "        Promise.resolve(paths[lib]) :\n",
       "        new Promise(function(resolve, reject) {\n",
       "          var s = document.createElement('script');\n",
       "          document.getElementsByTagName(\"head\")[0].appendChild(s);\n",
       "          s.async = true;\n",
       "          s.onload = () => {\n",
       "            VEGA_DEBUG[key] = version;\n",
       "            return resolve(paths[lib]);\n",
       "          };\n",
       "          s.onerror = () => reject(`Error loading script: ${paths[lib]}`);\n",
       "          s.src = paths[lib];\n",
       "        });\n",
       "    }\n",
       "\n",
       "    function showError(err) {\n",
       "      outputDiv.innerHTML = `<div class=\"error\" style=\"color:red;\">${err}</div>`;\n",
       "      throw err;\n",
       "    }\n",
       "\n",
       "    function displayChart(vegaEmbed) {\n",
       "      vegaEmbed(outputDiv, spec, embedOpt)\n",
       "        .catch(err => showError(`Javascript Error: ${err.message}<br>This usually means there's a typo in your chart specification. See the javascript console for the full traceback.`));\n",
       "    }\n",
       "\n",
       "    if(typeof define === \"function\" && define.amd) {\n",
       "      requirejs.config({paths});\n",
       "      require([\"vega-embed\"], displayChart, err => showError(`Error loading script: ${err.message}`));\n",
       "    } else {\n",
       "      maybeLoadScript(\"vega\", \"5\")\n",
       "        .then(() => maybeLoadScript(\"vega-lite\", \"5.20.1\"))\n",
       "        .then(() => maybeLoadScript(\"vega-embed\", \"6\"))\n",
       "        .catch(showError)\n",
       "        .then(() => displayChart(vegaEmbed));\n",
       "    }\n",
       "  })({\"config\": {\"view\": {\"continuousWidth\": 300, \"continuousHeight\": 300}}, \"vconcat\": [{\"hconcat\": [{\"data\": {\"url\": \"altair-data-b37c16a4de28685c33d0de77a119ef7a.json\", \"format\": {\"type\": \"json\"}}, \"facet\": {\"field\": \"wind_speed\", \"type\": \"nominal\"}, \"spec\": {\"layer\": [{\"mark\": {\"type\": \"errorband\", \"extent\": \"iqr\"}, \"encoding\": {\"color\": {\"field\": \"wind_dir\", \"type\": \"nominal\"}, \"x\": {\"field\": \"tau\", \"scale\": {\"type\": \"log\"}, \"type\": \"quantitative\"}, \"y\": {\"field\": \"Co\", \"type\": \"quantitative\"}}, \"title\": \"u'w', 3m-c\"}, {\"mark\": {\"type\": \"line\"}, \"encoding\": {\"color\": {\"field\": \"wind_dir\", \"type\": \"nominal\"}, \"x\": {\"field\": \"tau\", \"scale\": {\"type\": \"log\"}, \"type\": \"quantitative\"}, \"y\": {\"aggregate\": \"mean\", \"field\": \"Co\", \"type\": \"quantitative\"}}, \"title\": \"u'w', 3m-c\"}], \"height\": 200, \"width\": 200}, \"title\": \"\"}, {\"data\": {\"url\": \"altair-data-3acae86caf6e0cd946171c618f505587.json\", \"format\": {\"type\": \"json\"}}, \"facet\": {\"field\": \"wind_speed\", \"type\": \"nominal\"}, \"spec\": {\"layer\": [{\"mark\": {\"type\": \"errorband\", \"extent\": \"iqr\"}, \"encoding\": {\"color\": {\"field\": \"wind_dir\", \"type\": \"nominal\"}, \"x\": {\"field\": \"tau\", \"scale\": {\"type\": \"log\"}, \"type\": \"quantitative\"}, \"y\": {\"field\": \"Co\", \"type\": \"quantitative\"}}, \"title\": \"u'w', 3m-c\"}, {\"mark\": {\"type\": \"line\"}, \"encoding\": {\"color\": {\"field\": \"wind_dir\", \"type\": \"nominal\"}, \"x\": {\"field\": \"tau\", \"scale\": {\"type\": \"log\"}, \"type\": \"quantitative\"}, \"y\": {\"aggregate\": \"mean\", \"field\": \"Co\", \"type\": \"quantitative\"}}, \"title\": \"u'w', 3m-c\"}], \"height\": 200, \"width\": 200}, \"title\": \"\"}, {\"data\": {\"url\": \"altair-data-2359448bd8b846c4282c7804020e63d9.json\", \"format\": {\"type\": \"json\"}}, \"facet\": {\"field\": \"wind_speed\", \"type\": \"nominal\"}, \"spec\": {\"layer\": [{\"mark\": {\"type\": \"errorband\", \"extent\": \"iqr\"}, \"encoding\": {\"color\": {\"field\": \"wind_dir\", \"type\": \"nominal\"}, \"x\": {\"field\": \"tau\", \"scale\": {\"type\": \"log\"}, \"type\": \"quantitative\"}, \"y\": {\"field\": \"Co\", \"type\": \"quantitative\"}}, \"title\": \"u'w', 3m-c\"}, {\"mark\": {\"type\": \"line\"}, \"encoding\": {\"color\": {\"field\": \"wind_dir\", \"type\": \"nominal\"}, \"x\": {\"field\": \"tau\", \"scale\": {\"type\": \"log\"}, \"type\": \"quantitative\"}, \"y\": {\"aggregate\": \"mean\", \"field\": \"Co\", \"type\": \"quantitative\"}}, \"title\": \"u'w', 3m-c\"}], \"height\": 200, \"width\": 200}, \"title\": \"\"}, {\"data\": {\"url\": \"altair-data-d523e6c922e0fbbf93b340b256b02418.json\", \"format\": {\"type\": \"json\"}}, \"facet\": {\"field\": \"wind_speed\", \"type\": \"nominal\"}, \"spec\": {\"layer\": [{\"mark\": {\"type\": \"errorband\", \"extent\": \"iqr\"}, \"encoding\": {\"color\": {\"field\": \"wind_dir\", \"type\": \"nominal\"}, \"x\": {\"field\": \"tau\", \"scale\": {\"type\": \"log\"}, \"type\": \"quantitative\"}, \"y\": {\"field\": \"Co\", \"type\": \"quantitative\"}}, \"title\": \"u'w', 3m-c\"}, {\"mark\": {\"type\": \"line\"}, \"encoding\": {\"color\": {\"field\": \"wind_dir\", \"type\": \"nominal\"}, \"x\": {\"field\": \"tau\", \"scale\": {\"type\": \"log\"}, \"type\": \"quantitative\"}, \"y\": {\"aggregate\": \"mean\", \"field\": \"Co\", \"type\": \"quantitative\"}}, \"title\": \"u'w', 3m-c\"}], \"height\": 200, \"width\": 200}, \"title\": \"\"}]}, {\"data\": {\"url\": \"altair-data-7f8a382e1b7be9b52b3c4f66c42e720e.json\", \"format\": {\"type\": \"json\"}}, \"facet\": {\"field\": \"wind_speed\", \"type\": \"nominal\"}, \"spec\": {\"layer\": [{\"mark\": {\"type\": \"errorband\", \"extent\": \"iqr\"}, \"encoding\": {\"color\": {\"field\": \"wind_dir\", \"type\": \"nominal\"}, \"x\": {\"field\": \"tau\", \"scale\": {\"type\": \"log\"}, \"type\": \"quantitative\"}, \"y\": {\"field\": \"Co\", \"type\": \"quantitative\"}}, \"title\": \"u'w', 3m-c\"}, {\"mark\": {\"type\": \"line\"}, \"encoding\": {\"color\": {\"field\": \"wind_dir\", \"type\": \"nominal\"}, \"x\": {\"field\": \"tau\", \"scale\": {\"type\": \"log\"}, \"type\": \"quantitative\"}, \"y\": {\"aggregate\": \"mean\", \"field\": \"Co\", \"type\": \"quantitative\"}}, \"title\": \"u'w', 3m-c\"}], \"height\": 200, \"width\": 200}, \"title\": \"\"}, {\"hconcat\": [{\"data\": {\"url\": \"altair-data-983f1a4f1ffc30851c5167a15ec62856.json\", \"format\": {\"type\": \"json\"}}, \"facet\": {\"field\": \"wind_speed\", \"type\": \"nominal\"}, \"spec\": {\"layer\": [{\"mark\": {\"type\": \"errorband\", \"extent\": \"iqr\"}, \"encoding\": {\"color\": {\"field\": \"wind_dir\", \"type\": \"nominal\"}, \"x\": {\"field\": \"tau\", \"scale\": {\"type\": \"log\"}, \"type\": \"quantitative\"}, \"y\": {\"field\": \"Co\", \"type\": \"quantitative\"}}, \"title\": \"u'w', 3m-c\"}, {\"mark\": {\"type\": \"line\"}, \"encoding\": {\"color\": {\"field\": \"wind_dir\", \"type\": \"nominal\"}, \"x\": {\"field\": \"tau\", \"scale\": {\"type\": \"log\"}, \"type\": \"quantitative\"}, \"y\": {\"aggregate\": \"mean\", \"field\": \"Co\", \"type\": \"quantitative\"}}, \"title\": \"u'w', 3m-c\"}], \"height\": 200, \"width\": 200}, \"title\": \"\"}, {\"data\": {\"url\": \"altair-data-3a36240e4677da8daf90552f0e530232.json\", \"format\": {\"type\": \"json\"}}, \"facet\": {\"field\": \"wind_speed\", \"type\": \"nominal\"}, \"spec\": {\"layer\": [{\"mark\": {\"type\": \"errorband\", \"extent\": \"iqr\"}, \"encoding\": {\"color\": {\"field\": \"wind_dir\", \"type\": \"nominal\"}, \"x\": {\"field\": \"tau\", \"scale\": {\"type\": \"log\"}, \"type\": \"quantitative\"}, \"y\": {\"field\": \"Co\", \"type\": \"quantitative\"}}, \"title\": \"u'w', 3m-c\"}, {\"mark\": {\"type\": \"line\"}, \"encoding\": {\"color\": {\"field\": \"wind_dir\", \"type\": \"nominal\"}, \"x\": {\"field\": \"tau\", \"scale\": {\"type\": \"log\"}, \"type\": \"quantitative\"}, \"y\": {\"aggregate\": \"mean\", \"field\": \"Co\", \"type\": \"quantitative\"}}, \"title\": \"u'w', 3m-c\"}], \"height\": 200, \"width\": 200}, \"title\": \"\"}, {\"data\": {\"url\": \"altair-data-999467d72cf1f1c83f38610b687b980e.json\", \"format\": {\"type\": \"json\"}}, \"facet\": {\"field\": \"wind_speed\", \"type\": \"nominal\"}, \"spec\": {\"layer\": [{\"mark\": {\"type\": \"errorband\", \"extent\": \"iqr\"}, \"encoding\": {\"color\": {\"field\": \"wind_dir\", \"type\": \"nominal\"}, \"x\": {\"field\": \"tau\", \"scale\": {\"type\": \"log\"}, \"type\": \"quantitative\"}, \"y\": {\"field\": \"Co\", \"type\": \"quantitative\"}}, \"title\": \"u'w', 3m-c\"}, {\"mark\": {\"type\": \"line\"}, \"encoding\": {\"color\": {\"field\": \"wind_dir\", \"type\": \"nominal\"}, \"x\": {\"field\": \"tau\", \"scale\": {\"type\": \"log\"}, \"type\": \"quantitative\"}, \"y\": {\"aggregate\": \"mean\", \"field\": \"Co\", \"type\": \"quantitative\"}}, \"title\": \"u'w', 3m-c\"}], \"height\": 200, \"width\": 200}, \"title\": \"\"}, {\"data\": {\"url\": \"altair-data-ebe3c26dc5e70ed5b7219263ea551fe2.json\", \"format\": {\"type\": \"json\"}}, \"facet\": {\"field\": \"wind_speed\", \"type\": \"nominal\"}, \"spec\": {\"layer\": [{\"mark\": {\"type\": \"errorband\", \"extent\": \"iqr\"}, \"encoding\": {\"color\": {\"field\": \"wind_dir\", \"type\": \"nominal\"}, \"x\": {\"field\": \"tau\", \"scale\": {\"type\": \"log\"}, \"type\": \"quantitative\"}, \"y\": {\"field\": \"Co\", \"type\": \"quantitative\"}}, \"title\": \"u'w', 3m-c\"}, {\"mark\": {\"type\": \"line\"}, \"encoding\": {\"color\": {\"field\": \"wind_dir\", \"type\": \"nominal\"}, \"x\": {\"field\": \"tau\", \"scale\": {\"type\": \"log\"}, \"type\": \"quantitative\"}, \"y\": {\"aggregate\": \"mean\", \"field\": \"Co\", \"type\": \"quantitative\"}}, \"title\": \"u'w', 3m-c\"}], \"height\": 200, \"width\": 200}, \"title\": \"\"}]}, {\"data\": {\"url\": \"altair-data-659137fd80ac7f0bafed1c18bccdb279.json\", \"format\": {\"type\": \"json\"}}, \"facet\": {\"field\": \"wind_speed\", \"type\": \"nominal\"}, \"spec\": {\"layer\": [{\"mark\": {\"type\": \"errorband\", \"extent\": \"iqr\"}, \"encoding\": {\"color\": {\"field\": \"wind_dir\", \"type\": \"nominal\"}, \"x\": {\"field\": \"tau\", \"scale\": {\"type\": \"log\"}, \"type\": \"quantitative\"}, \"y\": {\"field\": \"Co\", \"type\": \"quantitative\"}}, \"title\": \"u'w', 3m-c\"}, {\"mark\": {\"type\": \"line\"}, \"encoding\": {\"color\": {\"field\": \"wind_dir\", \"type\": \"nominal\"}, \"x\": {\"field\": \"tau\", \"scale\": {\"type\": \"log\"}, \"type\": \"quantitative\"}, \"y\": {\"aggregate\": \"mean\", \"field\": \"Co\", \"type\": \"quantitative\"}}, \"title\": \"u'w', 3m-c\"}], \"height\": 200, \"width\": 200}, \"title\": \"\"}, {\"data\": {\"url\": \"altair-data-403bdeb57b74f238de37948763d1b8ac.json\", \"format\": {\"type\": \"json\"}}, \"facet\": {\"field\": \"wind_speed\", \"type\": \"nominal\"}, \"spec\": {\"layer\": [{\"mark\": {\"type\": \"errorband\", \"extent\": \"iqr\"}, \"encoding\": {\"color\": {\"field\": \"wind_dir\", \"type\": \"nominal\"}, \"x\": {\"field\": \"tau\", \"scale\": {\"type\": \"log\"}, \"type\": \"quantitative\"}, \"y\": {\"field\": \"Co\", \"type\": \"quantitative\"}}, \"title\": \"u'w', 3m-c\"}, {\"mark\": {\"type\": \"line\"}, \"encoding\": {\"color\": {\"field\": \"wind_dir\", \"type\": \"nominal\"}, \"x\": {\"field\": \"tau\", \"scale\": {\"type\": \"log\"}, \"type\": \"quantitative\"}, \"y\": {\"aggregate\": \"mean\", \"field\": \"Co\", \"type\": \"quantitative\"}}, \"title\": \"u'w', 3m-c\"}], \"height\": 200, \"width\": 200}, \"title\": \"\"}], \"$schema\": \"https://vega.github.io/schema/vega-lite/v5.20.1.json\"}, {\"mode\": \"vega-lite\"});\n",
       "</script>"
      ],
      "text/plain": [
       "alt.VConcatChart(...)"
      ]
     },
     "execution_count": 86,
     "metadata": {},
     "output_type": "execute_result"
    }
   ],
   "source": [
    "src = nomrd_df_synopticwinds.query(\"covariance == 'v_w_'\")\n",
    "src = src[src.index.hour.isin([15, 16, 17])]\n",
    "\n",
    "(\n",
    "    layer_plot(src.query(\"loc == '3m_c'\")) | layer_plot(src.query(\"loc == '3m_d'\")) | layer_plot(src.query(\"loc == '3m_ue'\")) | layer_plot(src.query(\"loc == '3m_uw'\"))\n",
    ") &\\\n",
    "layer_plot(src.query(\"loc == '5m_c'\")) &\\\n",
    "(\n",
    "    layer_plot(src.query(\"loc == '10m_c'\")) | layer_plot(src.query(\"loc == '10m_d'\")) | layer_plot(src.query(\"loc == '10m_ue'\")) | layer_plot(src.query(\"loc == '10m_uw'\"))\n",
    ")  &\\\n",
    "layer_plot(src.query(\"loc == '15m_c'\")) &\\\n",
    "layer_plot(src.query(\"loc == '20m_c'\"))"
   ]
  },
  {
   "cell_type": "markdown",
   "metadata": {},
   "source": [
    "# Do the calculations on the fly"
   ]
  },
  {
   "cell_type": "markdown",
   "metadata": {},
   "source": [
    "see scipt: analysis/paper2/spectral_analysis_kps_calculate_seasonal_spectra.py"
   ]
  },
  {
   "cell_type": "markdown",
   "metadata": {},
   "source": [
    "### Open the data"
   ]
  },
  {
   "cell_type": "code",
   "execution_count": 6,
   "metadata": {},
   "outputs": [],
   "source": [
    "daily_mrds_df = pd.read_parquet('mrds/uw/')"
   ]
  },
  {
   "cell_type": "code",
   "execution_count": 7,
   "metadata": {},
   "outputs": [],
   "source": [
    "src = daily_mrds_df[daily_mrds_df.start_time > '20221201']\n",
    "src = src[src.start_time < '20221202']\n",
    "src['midpoint_time'] = src['start_time'] + (src['end_time'] - src['start_time']) / 2\n",
    "src = src.reset_index()\n",
    "ds = src.set_index(['midpoint_time', 'tau']).to_xarray()"
   ]
  },
  {
   "cell_type": "code",
   "execution_count": 8,
   "metadata": {},
   "outputs": [
    {
     "data": {
      "text/plain": [
       "Text(0, 0.5, \"$Co(\\\\overline{u'w'})$\")"
      ]
     },
     "execution_count": 8,
     "metadata": {},
     "output_type": "execute_result"
    },
    {
     "data": {
      "image/png": "[encoded data removed]",
      "text/plain": [
       "<Figure size 640x480 with 2 Axes>"
      ]
     },
     "metadata": {},
     "output_type": "display_data"
    }
   ],
   "source": [
    "\n",
    "\n",
    "ds['Co'].plot.contourf(x='midpoint_time', y='tau', cmap='RdBu_r', levels=21, \n",
    "                    #    vmin=-0.2, vmax=0.2,\n",
    "                       )\n",
    "plt.gca().set_title('KPS')\n",
    "plt.gca().set_yscale('log')\n",
    "plt.gca().set_xlabel('')\n",
    "plt.gca().set_ylabel(r\"$Co(\\overline{u'w'})$\")"
   ]
  },
  {
   "cell_type": "code",
   "execution_count": 47,
   "metadata": {},
   "outputs": [
    {
     "data": {
      "text/plain": [
       "Text(0, 0.5, \"$Co(\\\\overline{u'w'})$\")"
      ]
     },
     "execution_count": 47,
     "metadata": {},
     "output_type": "execute_result"
    },
    {
     "data": {
      "image/png": "[encoded data removed]",
      "text/plain": [
       "<Figure size 640x480 with 2 Axes>"
      ]
     },
     "metadata": {},
     "output_type": "display_data"
    }
   ],
   "source": []
  },
  {
   "cell_type": "code",
   "execution_count": 32,
   "metadata": {},
   "outputs": [
    {
     "data": {
      "text/html": [
       "<div>\n",
       "<style scoped>\n",
       "    .dataframe tbody tr th:only-of-type {\n",
       "        vertical-align: middle;\n",
       "    }\n",
       "\n",
       "    .dataframe tbody tr th {\n",
       "        vertical-align: top;\n",
       "    }\n",
       "\n",
       "    .dataframe thead th {\n",
       "        text-align: right;\n",
       "    }\n",
       "</style>\n",
       "<table border=\"1\" class=\"dataframe\">\n",
       "  <thead>\n",
       "    <tr style=\"text-align: right;\">\n",
       "      <th></th>\n",
       "      <th>tau</th>\n",
       "      <th>Co</th>\n",
       "      <th>std</th>\n",
       "      <th>iteration</th>\n",
       "      <th>start_time</th>\n",
       "      <th>end_time</th>\n",
       "    </tr>\n",
       "  </thead>\n",
       "  <tbody>\n",
       "    <tr>\n",
       "      <th>0</th>\n",
       "      <td>0.2</td>\n",
       "      <td>0.000125</td>\n",
       "      <td>0.002400</td>\n",
       "      <td>0</td>\n",
       "      <td>2022-11-30 16:00:00</td>\n",
       "      <td>2022-11-30 16:27:18.300</td>\n",
       "    </tr>\n",
       "    <tr>\n",
       "      <th>1</th>\n",
       "      <td>0.4</td>\n",
       "      <td>0.000256</td>\n",
       "      <td>0.003143</td>\n",
       "      <td>0</td>\n",
       "      <td>2022-11-30 16:00:00</td>\n",
       "      <td>2022-11-30 16:27:18.300</td>\n",
       "    </tr>\n",
       "    <tr>\n",
       "      <th>2</th>\n",
       "      <td>0.8</td>\n",
       "      <td>0.000530</td>\n",
       "      <td>0.004009</td>\n",
       "      <td>0</td>\n",
       "      <td>2022-11-30 16:00:00</td>\n",
       "      <td>2022-11-30 16:27:18.300</td>\n",
       "    </tr>\n",
       "    <tr>\n",
       "      <th>3</th>\n",
       "      <td>1.6</td>\n",
       "      <td>0.000958</td>\n",
       "      <td>0.004442</td>\n",
       "      <td>0</td>\n",
       "      <td>2022-11-30 16:00:00</td>\n",
       "      <td>2022-11-30 16:27:18.300</td>\n",
       "    </tr>\n",
       "    <tr>\n",
       "      <th>4</th>\n",
       "      <td>3.2</td>\n",
       "      <td>0.000693</td>\n",
       "      <td>0.004284</td>\n",
       "      <td>0</td>\n",
       "      <td>2022-11-30 16:00:00</td>\n",
       "      <td>2022-11-30 16:27:18.300</td>\n",
       "    </tr>\n",
       "  </tbody>\n",
       "</table>\n",
       "</div>"
      ],
      "text/plain": [
       "   tau        Co       std  iteration          start_time  \\\n",
       "0  0.2  0.000125  0.002400          0 2022-11-30 16:00:00   \n",
       "1  0.4  0.000256  0.003143          0 2022-11-30 16:00:00   \n",
       "2  0.8  0.000530  0.004009          0 2022-11-30 16:00:00   \n",
       "3  1.6  0.000958  0.004442          0 2022-11-30 16:00:00   \n",
       "4  3.2  0.000693  0.004284          0 2022-11-30 16:00:00   \n",
       "\n",
       "                 end_time  \n",
       "0 2022-11-30 16:27:18.300  \n",
       "1 2022-11-30 16:27:18.300  \n",
       "2 2022-11-30 16:27:18.300  \n",
       "3 2022-11-30 16:27:18.300  \n",
       "4 2022-11-30 16:27:18.300  "
      ]
     },
     "execution_count": 32,
     "metadata": {},
     "output_type": "execute_result"
    }
   ],
   "source": [
    "daily_mrds_uv_df = pd.read_parquet('mrds/uv/')\n",
    "daily_mrds_uv_df.head()"
   ]
  },
  {
   "cell_type": "code",
   "execution_count": null,
   "metadata": {},
   "outputs": [],
   "source": []
  },
  {
   "cell_type": "markdown",
   "metadata": {},
   "source": [
    "### Classify each day into the synoptic wind categories"
   ]
  },
  {
   "cell_type": "code",
   "execution_count": 8,
   "metadata": {},
   "outputs": [],
   "source": [
    "DATA_DIR = \"/storage/elilouis/sublimationofsnow/\""
   ]
  },
  {
   "cell_type": "code",
   "execution_count": 9,
   "metadata": {},
   "outputs": [],
   "source": [
    "windprof_ds = xr.open_mfdataset(sorted(glob.glob(os.path.join(DATA_DIR, 'gucdlprofwind4newsM1.c1', \"*.nc\"))))"
   ]
  },
  {
   "cell_type": "code",
   "execution_count": 10,
   "metadata": {},
   "outputs": [],
   "source": [
    "windprof_df = windprof_ds[['wind_speed', 'wind_direction']].to_dataframe().reset_index()"
   ]
  },
  {
   "cell_type": "code",
   "execution_count": 11,
   "metadata": {},
   "outputs": [],
   "source": [
    "synoptic_winds_df = windprof_df.query(\"height >= 1000\").query(\"height <= 1500\")\n",
    "synoptic_winds_df = synoptic_winds_df.set_index('time').resample('24h').apply({\n",
    "    'wind_speed': 'mean',\n",
    "    'wind_direction': 'median'\n",
    "})"
   ]
  },
  {
   "cell_type": "code",
   "execution_count": 12,
   "metadata": {},
   "outputs": [],
   "source": [
    "along_valley_wind_days = synoptic_winds_df[\n",
    "    (synoptic_winds_df.wind_direction > 300)\n",
    "    | (synoptic_winds_df.wind_direction < 5 )\n",
    "].index.values\n",
    "cross_valley_wind_days = synoptic_winds_df[\n",
    "    (synoptic_winds_df.wind_direction > 185)\n",
    "    & (synoptic_winds_df.wind_direction < 265 )\n",
    "].index.values\n",
    "\n",
    "slow_wind_days = synoptic_winds_df[synoptic_winds_df.wind_speed <= 10].index.values\n",
    "fast_wind_days = synoptic_winds_df[synoptic_winds_df.wind_speed > 10].index.values"
   ]
  },
  {
   "cell_type": "code",
   "execution_count": 13,
   "metadata": {},
   "outputs": [],
   "source": [
    "fast_along_valley_wind_days = pd.Series(list(set(fast_wind_days).intersection(set(along_valley_wind_days)))).dt.date\n",
    "fast_cross_valley_wind_days = pd.Series(list(set(fast_wind_days).intersection(set(cross_valley_wind_days)))).dt.date\n",
    "slow_along_valley_wind_days = pd.Series(list(set(slow_wind_days).intersection(set(along_valley_wind_days)))).dt.date\n",
    "slow_cross_valley_wind_days = pd.Series(list(set(slow_wind_days).intersection(set(cross_valley_wind_days)))).dt.date"
   ]
  },
  {
   "cell_type": "code",
   "execution_count": 14,
   "metadata": {},
   "outputs": [
    {
     "name": "stdout",
     "output_type": "stream",
     "text": [
      "43\n",
      "80\n",
      "52\n",
      "103\n"
     ]
    }
   ],
   "source": [
    "print(len(fast_along_valley_wind_days))\n",
    "print(len(fast_cross_valley_wind_days))\n",
    "print(len(slow_along_valley_wind_days))\n",
    "print(len(slow_cross_valley_wind_days))"
   ]
  },
  {
   "cell_type": "code",
   "execution_count": 15,
   "metadata": {},
   "outputs": [],
   "source": [
    "daily_mrds_df['date'] = daily_mrds_df['start_time'].dt.date\n",
    "daily_mrds_df['start_time_nodate'] = daily_mrds_df['start_time'].apply(lambda dt: dt.replace(year=2023, month=1, day=1))\n",
    "daily_mrds_df['end_time_nodate'] = daily_mrds_df['end_time'].apply(lambda dt: dt.replace(year=2023, month=1, day=1))\n",
    "daily_mrds_df['midpoint_time_nodate'] = daily_mrds_df['start_time_nodate'] + (daily_mrds_df['end_time_nodate'] - daily_mrds_df['start_time_nodate']) / 2"
   ]
  },
  {
   "cell_type": "code",
   "execution_count": 16,
   "metadata": {},
   "outputs": [
    {
     "data": {
      "image/png": "[encoded data removed]",
      "text/plain": [
       "<Figure size 1200x600 with 8 Axes>"
      ]
     },
     "metadata": {},
     "output_type": "display_data"
    }
   ],
   "source": [
    "fig, axes = plt.subplots(2,2, figsize=(12,6), sharex=True, sharey=True)\n",
    "LIM = 0.01\n",
    "# fast_along_valley_wind_days\n",
    "ds_daily_avg = daily_mrds_df[daily_mrds_df.date.isin(\n",
    "    fast_along_valley_wind_days\n",
    ")].groupby(\n",
    "    ['start_time_nodate', 'end_time_nodate', 'midpoint_time_nodate', 'tau']\n",
    ")[['Co']].mean().reset_index().set_index(['midpoint_time_nodate', 'tau']).to_xarray()\n",
    "ds_daily_avg['Co'].plot.contourf(x='midpoint_time_nodate', y='tau', cmap='RdBu_r', levels=21, vmin=-LIM, vmax=LIM, ax=axes[0,0])\n",
    "axes[0,0].set_title(f'Fast along valley wind days (N = {len(fast_along_valley_wind_days)})')\n",
    "\n",
    "# fast_cross_valley_wind_days\n",
    "ds_daily_avg = daily_mrds_df[daily_mrds_df.date.isin(\n",
    "    fast_cross_valley_wind_days\n",
    ")].groupby(\n",
    "    ['start_time_nodate', 'end_time_nodate', 'midpoint_time_nodate', 'tau']\n",
    ")[['Co']].mean().reset_index().set_index(['midpoint_time_nodate', 'tau']).to_xarray()\n",
    "ds_daily_avg['Co'].plot.contourf(x='midpoint_time_nodate', y='tau', cmap='RdBu_r', levels=21, vmin=-LIM, vmax=LIM, ax=axes[0,1])\n",
    "axes[0,1].set_title(f'Fast cross valley wind days (N = {len(fast_cross_valley_wind_days)})')\n",
    "\n",
    "# slow_along_valley_wind_days\n",
    "ds_daily_avg = daily_mrds_df[daily_mrds_df.date.isin(\n",
    "    slow_along_valley_wind_days\n",
    ")].groupby(\n",
    "    ['start_time_nodate', 'end_time_nodate', 'midpoint_time_nodate', 'tau']\n",
    ")[['Co']].mean().reset_index().set_index(['midpoint_time_nodate', 'tau']).to_xarray()\n",
    "ds_daily_avg['Co'].plot.contourf(x='midpoint_time_nodate', y='tau', cmap='RdBu_r', levels=21, vmin=-LIM, vmax=LIM, ax=axes[1,0])\n",
    "axes[1,0].set_title(f'Slow along valley wind days (N = {len(slow_along_valley_wind_days)})')\n",
    "\n",
    "# slow_cross_valley_wind_days\n",
    "ds_daily_avg = daily_mrds_df[daily_mrds_df.date.isin(\n",
    "    slow_cross_valley_wind_days\n",
    ")].groupby(\n",
    "    ['start_time_nodate', 'end_time_nodate', 'midpoint_time_nodate', 'tau']\n",
    ")[['Co']].mean().reset_index().set_index(['midpoint_time_nodate', 'tau']).to_xarray()\n",
    "ds_daily_avg['Co'].plot.contourf(x='midpoint_time_nodate', y='tau', cmap='RdBu_r', levels=21, vmin=-LIM, vmax=LIM, ax=axes[1,1])\n",
    "axes[1,1].set_title(f'Slow cross valley wind days (N = {len(slow_cross_valley_wind_days)})')\n",
    "\n",
    "\n",
    "for ax in axes.flatten():\n",
    "    ax.set_yscale('log')\n",
    "    ax.set_xlabel('')\n",
    "    ax.set_ylabel(r\"$Co(\\overline{u'w'})$\")"
   ]
  },
  {
   "cell_type": "code",
   "execution_count": 17,
   "metadata": {},
   "outputs": [],
   "source": [
    "src = pd.concat([\n",
    "    daily_mrds_df[daily_mrds_df.date.isin(fast_along_valley_wind_days)].assign(category='fast_along'),\n",
    "    daily_mrds_df[daily_mrds_df.date.isin(fast_cross_valley_wind_days)].assign(category='fast_cross'),\n",
    "    # daily_mrds_df[daily_mrds_df.date.isin(slow_along_valley_wind_days)].assign(category='slow_along'),\n",
    "    # daily_mrds_df[daily_mrds_df.date.isin(slow_cross_valley_wind_days)].assign(category='slow_cross'),\n",
    "])\n",
    "src = src[src.start_time.dt.hour >= 12]\n",
    "src = src[src.start_time.dt.hour < 15]\n",
    "src = src.groupby(\n",
    "    ['start_time_nodate', 'end_time_nodate', 'midpoint_time_nodate', 'tau', 'category']\n",
    ")[['Co']].mean().reset_index()\n",
    "\n",
    "horizontal_line = alt.Chart().mark_rule(color='red').encode(y=alt.datum(0))\n",
    "\n",
    "uw_mrd_comparison = (\n",
    "    horizontal_line + alt.Chart(\n",
    "        src.reset_index()\n",
    "    ).mark_boxplot(\n",
    "        opacity=0.5\n",
    "    ).encode(\n",
    "        alt.X('tau:Q').scale(type='log'),\n",
    "        alt.Y('Co:Q'),\n",
    "        alt.Color('category:N')\n",
    "    )\n",
    ")"
   ]
  },
  {
   "cell_type": "code",
   "execution_count": 29,
   "metadata": {},
   "outputs": [
    {
     "data": {
      "text/plain": [
       "datetime.date(2022, 11, 30)"
      ]
     },
     "execution_count": 29,
     "metadata": {},
     "output_type": "execute_result"
    }
   ],
   "source": [
    "daily_mrds_df.date.iloc[0]"
   ]
  },
  {
   "cell_type": "code",
   "execution_count": 46,
   "metadata": {},
   "outputs": [
    {
     "data": {
      "text/plain": [
       "array([16, 17, 18, 19, 20, 21, 22, 23, 15], dtype=int32)"
      ]
     },
     "execution_count": 46,
     "metadata": {},
     "output_type": "execute_result"
    }
   ],
   "source": [
    "daily_mrds_uv_df.start_time.dt.hour.unique()"
   ]
  },
  {
   "cell_type": "code",
   "execution_count": null,
   "metadata": {},
   "outputs": [],
   "source": [
    "\n",
    "alt.Chart(src).mark_line().encode(\n",
    "    alt.X('tau:Q').scale(type='log'),\n",
    "    alt.Y('mean(Co):Q'),\n",
    "    alt.Color('hour(start_time):O')\n",
    ")"
   ]
  },
  {
   "cell_type": "code",
   "execution_count": null,
   "metadata": {},
   "outputs": [],
   "source": []
  },
  {
   "cell_type": "code",
   "execution_count": 18,
   "metadata": {},
   "outputs": [],
   "source": [
    "daily_mrds_uv_df['date'] = daily_mrds_uv_df['start_time'].dt.date\n",
    "daily_mrds_uv_df['start_time_nodate'] = daily_mrds_uv_df['start_time'].apply(lambda dt: dt.replace(year=2023, month=1, day=1))\n",
    "daily_mrds_uv_df['end_time_nodate'] = daily_mrds_uv_df['end_time'].apply(lambda dt: dt.replace(year=2023, month=1, day=1))\n",
    "daily_mrds_uv_df['midpoint_time_nodate'] = daily_mrds_uv_df['start_time_nodate'] + (daily_mrds_uv_df['end_time_nodate'] - daily_mrds_uv_df['start_time_nodate']) / 2\n",
    "\n",
    "src = pd.concat([\n",
    "    daily_mrds_uv_df[daily_mrds_uv_df.date.isin(fast_along_valley_wind_days)].assign(category='fast_along'),\n",
    "    daily_mrds_uv_df[daily_mrds_uv_df.date.isin(fast_cross_valley_wind_days)].assign(category='fast_cross'),\n",
    "    # daily_mrds_uv_df[daily_mrds_uv_df.date.isin(slow_along_valley_wind_days)].assign(category='slow_along'),\n",
    "    # daily_mrds_uv_df[daily_mrds_uv_df.date.isin(slow_cross_valley_wind_days)].assign(category='slow_cross'),\n",
    "])\n",
    "src = src[src.start_time.dt.hour >= 12]\n",
    "src = src[src.start_time.dt.hour < 15]\n",
    "src = src.groupby(\n",
    "    ['start_time_nodate', 'end_time_nodate', 'midpoint_time_nodate', 'tau', 'category']\n",
    ")[['Co']].mean().reset_index()\n",
    "\n",
    "horizontal_line = alt.Chart().mark_rule(color='red').encode(y=alt.datum(0))\n",
    "\n",
    "uv_mrd_comparison = (\n",
    "    horizontal_line + alt.Chart(\n",
    "        src.reset_index()\n",
    "    ).mark_boxplot(\n",
    "        opacity=0.5\n",
    "    ).encode(\n",
    "        alt.X('tau:Q').scale(type='log'),\n",
    "        alt.Y('Co:Q'),\n",
    "        alt.Color('category:N')\n",
    "    )\n",
    ")"
   ]
  },
  {
   "cell_type": "code",
   "execution_count": 19,
   "metadata": {},
   "outputs": [
    {
     "data": {
      "text/html": [
       "\n",
       "<style>\n",
       "  #altair-viz-4e294fb542db48fd9c568b1d81f6c50a.vega-embed {\n",
       "    width: 100%;\n",
       "    display: flex;\n",
       "  }\n",
       "\n",
       "  #altair-viz-4e294fb542db48fd9c568b1d81f6c50a.vega-embed details,\n",
       "  #altair-viz-4e294fb542db48fd9c568b1d81f6c50a.vega-embed details summary {\n",
       "    position: relative;\n",
       "  }\n",
       "</style>\n",
       "<div id=\"altair-viz-4e294fb542db48fd9c568b1d81f6c50a\"></div>\n",
       "<script type=\"text/javascript\">\n",
       "  var VEGA_DEBUG = (typeof VEGA_DEBUG == \"undefined\") ? {} : VEGA_DEBUG;\n",
       "  (function(spec, embedOpt){\n",
       "    let outputDiv = document.currentScript.previousElementSibling;\n",
       "    if (outputDiv.id !== \"altair-viz-4e294fb542db48fd9c568b1d81f6c50a\") {\n",
       "      outputDiv = document.getElementById(\"altair-viz-4e294fb542db48fd9c568b1d81f6c50a\");\n",
       "    }\n",
       "    const paths = {\n",
       "      \"vega\": \"https://cdn.jsdelivr.net/npm/vega@5?noext\",\n",
       "      \"vega-lib\": \"https://cdn.jsdelivr.net/npm/vega-lib?noext\",\n",
       "      \"vega-lite\": \"https://cdn.jsdelivr.net/npm/vega-lite@5.16.3?noext\",\n",
       "      \"vega-embed\": \"https://cdn.jsdelivr.net/npm/vega-embed@6?noext\",\n",
       "    };\n",
       "\n",
       "    function maybeLoadScript(lib, version) {\n",
       "      var key = `${lib.replace(\"-\", \"\")}_version`;\n",
       "      return (VEGA_DEBUG[key] == version) ?\n",
       "        Promise.resolve(paths[lib]) :\n",
       "        new Promise(function(resolve, reject) {\n",
       "          var s = document.createElement('script');\n",
       "          document.getElementsByTagName(\"head\")[0].appendChild(s);\n",
       "          s.async = true;\n",
       "          s.onload = () => {\n",
       "            VEGA_DEBUG[key] = version;\n",
       "            return resolve(paths[lib]);\n",
       "          };\n",
       "          s.onerror = () => reject(`Error loading script: ${paths[lib]}`);\n",
       "          s.src = paths[lib];\n",
       "        });\n",
       "    }\n",
       "\n",
       "    function showError(err) {\n",
       "      outputDiv.innerHTML = `<div class=\"error\" style=\"color:red;\">${err}</div>`;\n",
       "      throw err;\n",
       "    }\n",
       "\n",
       "    function displayChart(vegaEmbed) {\n",
       "      vegaEmbed(outputDiv, spec, embedOpt)\n",
       "        .catch(err => showError(`Javascript Error: ${err.message}<br>This usually means there's a typo in your chart specification. See the javascript console for the full traceback.`));\n",
       "    }\n",
       "\n",
       "    if(typeof define === \"function\" && define.amd) {\n",
       "      requirejs.config({paths});\n",
       "      require([\"vega-embed\"], displayChart, err => showError(`Error loading script: ${err.message}`));\n",
       "    } else {\n",
       "      maybeLoadScript(\"vega\", \"5\")\n",
       "        .then(() => maybeLoadScript(\"vega-lite\", \"5.16.3\"))\n",
       "        .then(() => maybeLoadScript(\"vega-embed\", \"6\"))\n",
       "        .catch(showError)\n",
       "        .then(() => displayChart(vegaEmbed));\n",
       "    }\n",
       "  })({\"config\": {\"view\": {\"continuousWidth\": 300, \"continuousHeight\": 300}, \"axis\": {\"grid\": false}}, \"hconcat\": [{\"layer\": [{\"data\": {\"name\": \"empty\"}, \"mark\": {\"type\": \"rule\", \"color\": \"red\"}, \"encoding\": {\"y\": {\"datum\": 0}}}, {\"data\": {\"url\": \"altair-data-d751713988987e9331980363e24189ce.json\", \"format\": {\"type\": \"json\"}}, \"mark\": {\"type\": \"boxplot\", \"opacity\": 0.5}, \"encoding\": {\"color\": {\"field\": \"category\", \"type\": \"nominal\"}, \"x\": {\"field\": \"tau\", \"scale\": {\"type\": \"log\"}, \"type\": \"quantitative\"}, \"y\": {\"field\": \"Co\", \"type\": \"quantitative\"}}}]}, {\"layer\": [{\"data\": {\"name\": \"empty\"}, \"mark\": {\"type\": \"rule\", \"color\": \"red\"}, \"encoding\": {\"y\": {\"datum\": 0}}}, {\"data\": {\"url\": \"altair-data-d751713988987e9331980363e24189ce.json\", \"format\": {\"type\": \"json\"}}, \"mark\": {\"type\": \"boxplot\", \"opacity\": 0.5}, \"encoding\": {\"color\": {\"field\": \"category\", \"type\": \"nominal\"}, \"x\": {\"field\": \"tau\", \"scale\": {\"type\": \"log\"}, \"type\": \"quantitative\"}, \"y\": {\"field\": \"Co\", \"type\": \"quantitative\"}}}]}], \"$schema\": \"https://vega.github.io/schema/vega-lite/v5.16.3.json\", \"datasets\": {\"empty\": [{}]}}, {\"mode\": \"vega-lite\"});\n",
       "</script>"
      ],
      "text/plain": [
       "alt.HConcatChart(...)"
      ]
     },
     "execution_count": 19,
     "metadata": {},
     "output_type": "execute_result"
    }
   ],
   "source": [
    "(uw_mrd_comparison | uv_mrd_comparison).configure_axis(grid=False)"
   ]
  },
  {
   "cell_type": "code",
   "execution_count": null,
   "metadata": {},
   "outputs": [],
   "source": []
  },
  {
   "cell_type": "code",
   "execution_count": null,
   "metadata": {},
   "outputs": [],
   "source": []
  },
  {
   "cell_type": "code",
   "execution_count": null,
   "metadata": {},
   "outputs": [
    {
     "data": {
      "text/html": [
       "<div>\n",
       "<style scoped>\n",
       "    .dataframe tbody tr th:only-of-type {\n",
       "        vertical-align: middle;\n",
       "    }\n",
       "\n",
       "    .dataframe tbody tr th {\n",
       "        vertical-align: top;\n",
       "    }\n",
       "\n",
       "    .dataframe thead th {\n",
       "        text-align: right;\n",
       "    }\n",
       "</style>\n",
       "<table border=\"1\" class=\"dataframe\">\n",
       "  <thead>\n",
       "    <tr style=\"text-align: right;\">\n",
       "      <th></th>\n",
       "      <th>time</th>\n",
       "      <th>variable</th>\n",
       "      <th>value</th>\n",
       "      <th>height</th>\n",
       "      <th>tower</th>\n",
       "      <th>measurement</th>\n",
       "    </tr>\n",
       "  </thead>\n",
       "  <tbody>\n",
       "    <tr>\n",
       "      <th>1951488</th>\n",
       "      <td>2022-11-01 00:00:00</td>\n",
       "      <td>spd_3m_c</td>\n",
       "      <td>2.996172</td>\n",
       "      <td>3.0</td>\n",
       "      <td>c</td>\n",
       "      <td>wind speed</td>\n",
       "    </tr>\n",
       "    <tr>\n",
       "      <th>1951489</th>\n",
       "      <td>2022-11-01 00:30:00</td>\n",
       "      <td>spd_3m_c</td>\n",
       "      <td>2.772876</td>\n",
       "      <td>3.0</td>\n",
       "      <td>c</td>\n",
       "      <td>wind speed</td>\n",
       "    </tr>\n",
       "    <tr>\n",
       "      <th>1951490</th>\n",
       "      <td>2022-11-01 01:00:00</td>\n",
       "      <td>spd_3m_c</td>\n",
       "      <td>2.766295</td>\n",
       "      <td>3.0</td>\n",
       "      <td>c</td>\n",
       "      <td>wind speed</td>\n",
       "    </tr>\n",
       "    <tr>\n",
       "      <th>1951491</th>\n",
       "      <td>2022-11-01 01:30:00</td>\n",
       "      <td>spd_3m_c</td>\n",
       "      <td>2.972261</td>\n",
       "      <td>3.0</td>\n",
       "      <td>c</td>\n",
       "      <td>wind speed</td>\n",
       "    </tr>\n",
       "    <tr>\n",
       "      <th>1951492</th>\n",
       "      <td>2022-11-01 02:00:00</td>\n",
       "      <td>spd_3m_c</td>\n",
       "      <td>2.416516</td>\n",
       "      <td>3.0</td>\n",
       "      <td>c</td>\n",
       "      <td>wind speed</td>\n",
       "    </tr>\n",
       "  </tbody>\n",
       "</table>\n",
       "</div>"
      ],
      "text/plain": [
       "                       time  variable     value  height tower measurement\n",
       "1951488 2022-11-01 00:00:00  spd_3m_c  2.996172     3.0     c  wind speed\n",
       "1951489 2022-11-01 00:30:00  spd_3m_c  2.772876     3.0     c  wind speed\n",
       "1951490 2022-11-01 01:00:00  spd_3m_c  2.766295     3.0     c  wind speed\n",
       "1951491 2022-11-01 01:30:00  spd_3m_c  2.972261     3.0     c  wind speed\n",
       "1951492 2022-11-01 02:00:00  spd_3m_c  2.416516     3.0     c  wind speed"
      ]
     },
     "execution_count": 22,
     "metadata": {},
     "output_type": "execute_result"
    }
   ],
   "source": [
    "wind_speed_src = sos_df.query(\"variable == 'spd_3m_c'\")\n",
    "wind_speed_src.head()"
   ]
  },
  {
   "cell_type": "code",
   "execution_count": null,
   "metadata": {},
   "outputs": [
    {
     "name": "stdout",
     "output_type": "stream",
     "text": [
      "3.8115373240840253\n",
      "2.8094820745825544\n",
      "2.9109088878787084\n",
      "2.4281729391506213\n"
     ]
    }
   ],
   "source": [
    "print(wind_speed_src[wind_speed_src.time.dt.date.isin(fast_along_valley_wind_days)].value.mean())\n",
    "print(wind_speed_src[wind_speed_src.time.dt.date.isin(fast_cross_valley_wind_days)].value.mean())\n",
    "print(wind_speed_src[wind_speed_src.time.dt.date.isin(slow_along_valley_wind_days)].value.mean())\n",
    "print(wind_speed_src[wind_speed_src.time.dt.date.isin(slow_cross_valley_wind_days)].value.mean())"
   ]
  },
  {
   "cell_type": "code",
   "execution_count": null,
   "metadata": {},
   "outputs": [
    {
     "name": "stdout",
     "output_type": "stream",
     "text": [
      "3.6325018405914307\n",
      "2.62816059589386\n",
      "2.387258291244507\n",
      "2.2239835262298584\n"
     ]
    }
   ],
   "source": [
    "print(wind_speed_src[wind_speed_src.time.dt.date.isin(fast_along_valley_wind_days)].value.median())\n",
    "print(wind_speed_src[wind_speed_src.time.dt.date.isin(fast_cross_valley_wind_days)].value.median())\n",
    "print(wind_speed_src[wind_speed_src.time.dt.date.isin(slow_along_valley_wind_days)].value.median())\n",
    "print(wind_speed_src[wind_speed_src.time.dt.date.isin(slow_cross_valley_wind_days)].value.median())"
   ]
  }
 ],
 "metadata": {
  "kernelspec": {
   "display_name": "arm",
   "language": "python",
   "name": "python3"
  },
  "language_info": {
   "codemirror_mode": {
    "name": "ipython",
    "version": 3
   },
   "file_extension": ".py",
   "mimetype": "text/x-python",
   "name": "python",
   "nbconvert_exporter": "python",
   "pygments_lexer": "ipython3",
   "version": "3.1.0"
  },
  "orig_nbformat": 4,
  "vscode": {
   "interpreter": {
    "hash": "e2b11a00ad1b97cabcd9cc9209b8824a0fcaf6ffe37b5243943912873b5dcab1"
   }
  }
 },
 "nbformat": 4,
 "nbformat_minor": 2
}
