{
 "cells": [
  {
   "cell_type": "code",
   "execution_count": null,
   "metadata": {},
   "outputs": [],
   "source": [
    "import numpy as np\n",
    "import xarray as xr\n",
    "\n",
    "import datetime as dt\n",
    "import pandas as pd\n",
    "\n",
    "import matplotlib.pyplot as plt\n",
    "\n",
    "import altair as alt\n",
    "alt.data_transformers.enable('json')\n",
    "\n",
    "from sublimpy import utils\n",
    "import glob\n",
    "import pytz\n",
    "from scipy.signal import welch, csd\n",
    "from scipy.stats import chi2\n",
    "from process_fast_data.fast_data_calculate_spectra_nomrd import calculate_mrd_for_df, fast_data_files_to_dataframe"
   ]
  },
  {
   "cell_type": "markdown",
   "metadata": {},
   "source": [
    "# Open SOS slow data"
   ]
  },
  {
   "cell_type": "code",
   "execution_count": null,
   "metadata": {},
   "outputs": [],
   "source": [
    "sos_df = pd.read_parquet(\"../paper1/process_slow_data/tidy_df_20221101_20230619_planar_fit_multiplane_q7_flags9000_pf10.parquet\")\n",
    "sos_df_localtime = utils.modify_df_timezone( sos_df, 'UTC', 'US/Mountain')"
   ]
  },
  {
   "cell_type": "markdown",
   "metadata": {},
   "source": [
    "## Plot wind directions for case studies"
   ]
  },
  {
   "cell_type": "code",
   "execution_count": null,
   "metadata": {},
   "outputs": [],
   "source": [
    "def wind_chart(data):\n",
    "    return alt.Chart(data).mark_line().encode(        \n",
    "        alt.X('time:T'),\n",
    "        alt.Y('value:Q'),\n",
    "        alt.Color('height:O').scale(scheme='rainbow')\n",
    "    ).properties(height=150)\n",
    "def vertical_lines_chart(data):\n",
    "    return alt.Chart(\n",
    "        data\n",
    "    ).mark_rule(color='red', strokeDash=[4, 2]).encode(\n",
    "        alt.X('time:T')\n",
    "    )\n",
    "\n",
    "\n",
    "sos_dir_df = sos_df_localtime[sos_df_localtime.variable.isin([\n",
    "        'dir_3m_c', 'dir_10m_c', 'dir_20m_c'\n",
    "    ])].set_index('time')\n",
    "\n",
    "(\n",
    "    (wind_chart(sos_dir_df.loc['20230409'].reset_index())   + vertical_lines_chart(pd.DataFrame({'time': ['2023-04-09T15:00:00', '2023-04-09T18:00:00']}))) \n",
    "    | (wind_chart(sos_dir_df.loc['20230418'].reset_index()) + vertical_lines_chart(pd.DataFrame({'time': ['2023-04-18T15:00:00', '2023-04-18T18:00:00']}))) \n",
    "    | (wind_chart(sos_dir_df.loc['20221221'].reset_index()) + vertical_lines_chart(pd.DataFrame({'time': ['2022-12-21T15:00:00', '2022-12-21T18:00:00']}))) \n",
    "    | (wind_chart(sos_dir_df.loc['20230304'].reset_index()) + vertical_lines_chart(pd.DataFrame({'time': ['2023-03-04T15:00:00', '2023-03-04T18:00:00']})))\n",
    ")"
   ]
  },
  {
   "cell_type": "markdown",
   "metadata": {},
   "source": [
    "# Open SOS fast data"
   ]
  },
  {
   "cell_type": "code",
   "execution_count": null,
   "metadata": {},
   "outputs": [],
   "source": [
    "apr18_df = fast_data_files_to_dataframe([\n",
    "    # '/Users/elischwat/Development/data/sublimationofsnow/sosqc_fast/isfs_sos_qc_geo_tiltcor_hr_v2_20230418_21.nc',\n",
    "    # '/Users/elischwat/Development/data/sublimationofsnow/sosqc_fast/isfs_sos_qc_geo_tiltcor_hr_v2_20230418_22.nc',\n",
    "    # '/Users/elischwat/Development/data/sublimationofsnow/sosqc_fast/isfs_sos_qc_geo_tiltcor_hr_v2_20230418_23.nc',\n",
    "    '/Users/elischwat/Development/data/sublimationofsnow/sosqc_fast/isfs_sos_qc_geo_tiltcor_hr_v2_20230419_01.nc',\n",
    "    '/Users/elischwat/Development/data/sublimationofsnow/sosqc_fast/isfs_sos_qc_geo_tiltcor_hr_v2_20230419_02.nc',\n",
    "    '/Users/elischwat/Development/data/sublimationofsnow/sosqc_fast/isfs_sos_qc_geo_tiltcor_hr_v2_20230419_03.nc',\n",
    "],  rotation='double')\n",
    "\n",
    "apr18_df = utils.modify_df_timezone(apr18_df, pytz.UTC, \"US/Mountain\")"
   ]
  },
  {
   "cell_type": "markdown",
   "metadata": {},
   "source": [
    "# Spectra across two case study days - Apr 18 and Dec 21"
   ]
  },
  {
   "cell_type": "markdown",
   "metadata": {},
   "source": [
    "## Apr 18"
   ]
  },
  {
   "cell_type": "markdown",
   "metadata": {},
   "source": [
    "### u'w' cospectra - all ECs"
   ]
  },
  {
   "cell_type": "code",
   "execution_count": null,
   "metadata": {},
   "outputs": [],
   "source": [
    "apr18_u_w_3m_c_mrd_df = calculate_mrd_for_df(apr18_df, 'u_3m_c', 'w_3m_c', shift = 2000, parallelism=8)\n",
    "apr18_u_w_3m_d_mrd_df = calculate_mrd_for_df(apr18_df, 'u_3m_d', 'w_3m_d', shift = 2000, parallelism=8)\n",
    "apr18_u_w_3m_ue_mrd_df = calculate_mrd_for_df(apr18_df, 'u_3m_ue', 'w_3m_ue', shift = 2000, parallelism=8)\n",
    "apr18_u_w_3m_uw_mrd_df = calculate_mrd_for_df(apr18_df, 'u_3m_uw', 'w_3m_uw', shift = 2000, parallelism=8)\n",
    "\n",
    "apr18_u_w_10m_c_mrd_df = calculate_mrd_for_df(apr18_df, 'u_10m_c', 'w_10m_c', shift = 2000, parallelism=8)\n",
    "apr18_u_w_10m_d_mrd_df = calculate_mrd_for_df(apr18_df, 'u_10m_d', 'w_10m_d', shift = 2000, parallelism=8)\n",
    "apr18_u_w_10m_ue_mrd_df = calculate_mrd_for_df(apr18_df, 'u_10m_ue', 'w_10m_ue', shift = 2000, parallelism=8)\n",
    "apr18_u_w_10m_uw_mrd_df = calculate_mrd_for_df(apr18_df, 'u_10m_uw', 'w_10m_uw', shift = 2000, parallelism=8)\n",
    "\n",
    "apr18_u_w_5m_c_mrd_df = calculate_mrd_for_df(apr18_df, 'u_5m_c', 'w_5m_c', shift = 2000, parallelism=8)\n",
    "apr18_u_w_15m_c_mrd_df = calculate_mrd_for_df(apr18_df, 'u_15m_c', 'w_15m_c', shift = 2000, parallelism=8)\n",
    "apr18_u_w_20m_c_mrd_df = calculate_mrd_for_df(apr18_df, 'u_20m_c', 'w_20m_c', shift = 2000, parallelism=8)"
   ]
  },
  {
   "cell_type": "code",
   "execution_count": null,
   "metadata": {},
   "outputs": [],
   "source": [
    "base = alt.Chart().encode(\n",
    "    alt.X('tau:Q').scale(type='log').title('tau (s)'),\n",
    ")\n",
    "def mrd_plot(data, title=''):\n",
    "    return alt.layer(\n",
    "        base.mark_errorband(extent='iqr').encode(alt.Y('Co:Q')),\n",
    "        base.mark_line().encode(alt.Y('mean(Co):Q')),\n",
    "        data=data\n",
    "    ).properties(width=200, height=200, title=title)"
   ]
  },
  {
   "cell_type": "code",
   "execution_count": 40,
   "metadata": {},
   "outputs": [
    {
     "data": {
      "text/html": [
       "\n",
       "<style>\n",
       "  #altair-viz-e238e15b5aab4971a0e666e109e05872.vega-embed {\n",
       "    width: 100%;\n",
       "    display: flex;\n",
       "  }\n",
       "\n",
       "  #altair-viz-e238e15b5aab4971a0e666e109e05872.vega-embed details,\n",
       "  #altair-viz-e238e15b5aab4971a0e666e109e05872.vega-embed details summary {\n",
       "    position: relative;\n",
       "  }\n",
       "</style>\n",
       "<div id=\"altair-viz-e238e15b5aab4971a0e666e109e05872\"></div>\n",
       "<script type=\"text/javascript\">\n",
       "  var VEGA_DEBUG = (typeof VEGA_DEBUG == \"undefined\") ? {} : VEGA_DEBUG;\n",
       "  (function(spec, embedOpt){\n",
       "    let outputDiv = document.currentScript.previousElementSibling;\n",
       "    if (outputDiv.id !== \"altair-viz-e238e15b5aab4971a0e666e109e05872\") {\n",
       "      outputDiv = document.getElementById(\"altair-viz-e238e15b5aab4971a0e666e109e05872\");\n",
       "    }\n",
       "    const paths = {\n",
       "      \"vega\": \"https://cdn.jsdelivr.net/npm/vega@5?noext\",\n",
       "      \"vega-lib\": \"https://cdn.jsdelivr.net/npm/vega-lib?noext\",\n",
       "      \"vega-lite\": \"https://cdn.jsdelivr.net/npm/vega-lite@5.20.1?noext\",\n",
       "      \"vega-embed\": \"https://cdn.jsdelivr.net/npm/vega-embed@6?noext\",\n",
       "    };\n",
       "\n",
       "    function maybeLoadScript(lib, version) {\n",
       "      var key = `${lib.replace(\"-\", \"\")}_version`;\n",
       "      return (VEGA_DEBUG[key] == version) ?\n",
       "        Promise.resolve(paths[lib]) :\n",
       "        new Promise(function(resolve, reject) {\n",
       "          var s = document.createElement('script');\n",
       "          document.getElementsByTagName(\"head\")[0].appendChild(s);\n",
       "          s.async = true;\n",
       "          s.onload = () => {\n",
       "            VEGA_DEBUG[key] = version;\n",
       "            return resolve(paths[lib]);\n",
       "          };\n",
       "          s.onerror = () => reject(`Error loading script: ${paths[lib]}`);\n",
       "          s.src = paths[lib];\n",
       "        });\n",
       "    }\n",
       "\n",
       "    function showError(err) {\n",
       "      outputDiv.innerHTML = `<div class=\"error\" style=\"color:red;\">${err}</div>`;\n",
       "      throw err;\n",
       "    }\n",
       "\n",
       "    function displayChart(vegaEmbed) {\n",
       "      vegaEmbed(outputDiv, spec, embedOpt)\n",
       "        .catch(err => showError(`Javascript Error: ${err.message}<br>This usually means there's a typo in your chart specification. See the javascript console for the full traceback.`));\n",
       "    }\n",
       "\n",
       "    if(typeof define === \"function\" && define.amd) {\n",
       "      requirejs.config({paths});\n",
       "      require([\"vega-embed\"], displayChart, err => showError(`Error loading script: ${err.message}`));\n",
       "    } else {\n",
       "      maybeLoadScript(\"vega\", \"5\")\n",
       "        .then(() => maybeLoadScript(\"vega-lite\", \"5.20.1\"))\n",
       "        .then(() => maybeLoadScript(\"vega-embed\", \"6\"))\n",
       "        .catch(showError)\n",
       "        .then(() => displayChart(vegaEmbed));\n",
       "    }\n",
       "  })({\"config\": {\"view\": {\"continuousWidth\": 300, \"continuousHeight\": 300}}, \"vconcat\": [{\"hconcat\": [{\"layer\": [{\"mark\": {\"type\": \"errorband\", \"extent\": \"iqr\"}, \"encoding\": {\"x\": {\"field\": \"tau\", \"scale\": {\"type\": \"log\"}, \"title\": \"tau (s)\", \"type\": \"quantitative\"}, \"y\": {\"field\": \"Co\", \"type\": \"quantitative\"}}}, {\"mark\": {\"type\": \"line\"}, \"encoding\": {\"x\": {\"field\": \"tau\", \"scale\": {\"type\": \"log\"}, \"title\": \"tau (s)\", \"type\": \"quantitative\"}, \"y\": {\"aggregate\": \"mean\", \"field\": \"Co\", \"type\": \"quantitative\"}}}], \"data\": {\"url\": \"altair-data-b5d38e090f20bcab562593c7cd056ba7.json\", \"format\": {\"type\": \"json\"}}, \"height\": 200, \"title\": \"u'w', 3m-C\", \"width\": 200}, {\"layer\": [{\"mark\": {\"type\": \"errorband\", \"extent\": \"iqr\"}, \"encoding\": {\"x\": {\"field\": \"tau\", \"scale\": {\"type\": \"log\"}, \"title\": \"tau (s)\", \"type\": \"quantitative\"}, \"y\": {\"field\": \"Co\", \"type\": \"quantitative\"}}}, {\"mark\": {\"type\": \"line\"}, \"encoding\": {\"x\": {\"field\": \"tau\", \"scale\": {\"type\": \"log\"}, \"title\": \"tau (s)\", \"type\": \"quantitative\"}, \"y\": {\"aggregate\": \"mean\", \"field\": \"Co\", \"type\": \"quantitative\"}}}], \"data\": {\"url\": \"altair-data-3f9d7b44281a4d828386d780727d60ea.json\", \"format\": {\"type\": \"json\"}}, \"height\": 200, \"title\": \"u'w', 3m-D\", \"width\": 200}, {\"layer\": [{\"mark\": {\"type\": \"errorband\", \"extent\": \"iqr\"}, \"encoding\": {\"x\": {\"field\": \"tau\", \"scale\": {\"type\": \"log\"}, \"title\": \"tau (s)\", \"type\": \"quantitative\"}, \"y\": {\"field\": \"Co\", \"type\": \"quantitative\"}}}, {\"mark\": {\"type\": \"line\"}, \"encoding\": {\"x\": {\"field\": \"tau\", \"scale\": {\"type\": \"log\"}, \"title\": \"tau (s)\", \"type\": \"quantitative\"}, \"y\": {\"aggregate\": \"mean\", \"field\": \"Co\", \"type\": \"quantitative\"}}}], \"data\": {\"url\": \"altair-data-d8ea4891c20cba564df555e5394b5dff.json\", \"format\": {\"type\": \"json\"}}, \"height\": 200, \"title\": \"u'w', 3m-UE\", \"width\": 200}, {\"layer\": [{\"mark\": {\"type\": \"errorband\", \"extent\": \"iqr\"}, \"encoding\": {\"x\": {\"field\": \"tau\", \"scale\": {\"type\": \"log\"}, \"title\": \"tau (s)\", \"type\": \"quantitative\"}, \"y\": {\"field\": \"Co\", \"type\": \"quantitative\"}}}, {\"mark\": {\"type\": \"line\"}, \"encoding\": {\"x\": {\"field\": \"tau\", \"scale\": {\"type\": \"log\"}, \"title\": \"tau (s)\", \"type\": \"quantitative\"}, \"y\": {\"aggregate\": \"mean\", \"field\": \"Co\", \"type\": \"quantitative\"}}}], \"data\": {\"url\": \"altair-data-1a2ebe9fac9d938e7d2020e6d1095f09.json\", \"format\": {\"type\": \"json\"}}, \"height\": 200, \"title\": \"u'w', 3m-UW\", \"width\": 200}], \"resolve\": {\"scale\": {\"y\": \"shared\"}}}, {\"hconcat\": [{\"layer\": [{\"mark\": {\"type\": \"errorband\", \"extent\": \"iqr\"}, \"encoding\": {\"x\": {\"field\": \"tau\", \"scale\": {\"type\": \"log\"}, \"title\": \"tau (s)\", \"type\": \"quantitative\"}, \"y\": {\"field\": \"Co\", \"type\": \"quantitative\"}}}, {\"mark\": {\"type\": \"line\"}, \"encoding\": {\"x\": {\"field\": \"tau\", \"scale\": {\"type\": \"log\"}, \"title\": \"tau (s)\", \"type\": \"quantitative\"}, \"y\": {\"aggregate\": \"mean\", \"field\": \"Co\", \"type\": \"quantitative\"}}}], \"data\": {\"url\": \"altair-data-f12df434ec3e9a62006e4a3013e3d9cc.json\", \"format\": {\"type\": \"json\"}}, \"height\": 200, \"title\": \"u'w', 10m-C\", \"width\": 200}, {\"layer\": [{\"mark\": {\"type\": \"errorband\", \"extent\": \"iqr\"}, \"encoding\": {\"x\": {\"field\": \"tau\", \"scale\": {\"type\": \"log\"}, \"title\": \"tau (s)\", \"type\": \"quantitative\"}, \"y\": {\"field\": \"Co\", \"type\": \"quantitative\"}}}, {\"mark\": {\"type\": \"line\"}, \"encoding\": {\"x\": {\"field\": \"tau\", \"scale\": {\"type\": \"log\"}, \"title\": \"tau (s)\", \"type\": \"quantitative\"}, \"y\": {\"aggregate\": \"mean\", \"field\": \"Co\", \"type\": \"quantitative\"}}}], \"data\": {\"url\": \"altair-data-eea0ee142a0712e34b3f04f1bb3b5871.json\", \"format\": {\"type\": \"json\"}}, \"height\": 200, \"title\": \"u'w', 10m-D\", \"width\": 200}, {\"layer\": [{\"mark\": {\"type\": \"errorband\", \"extent\": \"iqr\"}, \"encoding\": {\"x\": {\"field\": \"tau\", \"scale\": {\"type\": \"log\"}, \"title\": \"tau (s)\", \"type\": \"quantitative\"}, \"y\": {\"field\": \"Co\", \"type\": \"quantitative\"}}}, {\"mark\": {\"type\": \"line\"}, \"encoding\": {\"x\": {\"field\": \"tau\", \"scale\": {\"type\": \"log\"}, \"title\": \"tau (s)\", \"type\": \"quantitative\"}, \"y\": {\"aggregate\": \"mean\", \"field\": \"Co\", \"type\": \"quantitative\"}}}], \"data\": {\"url\": \"altair-data-9aaee51752979df435f6bb9ee0e6135e.json\", \"format\": {\"type\": \"json\"}}, \"height\": 200, \"title\": \"u'w', 10m-UE\", \"width\": 200}, {\"layer\": [{\"mark\": {\"type\": \"errorband\", \"extent\": \"iqr\"}, \"encoding\": {\"x\": {\"field\": \"tau\", \"scale\": {\"type\": \"log\"}, \"title\": \"tau (s)\", \"type\": \"quantitative\"}, \"y\": {\"field\": \"Co\", \"type\": \"quantitative\"}}}, {\"mark\": {\"type\": \"line\"}, \"encoding\": {\"x\": {\"field\": \"tau\", \"scale\": {\"type\": \"log\"}, \"title\": \"tau (s)\", \"type\": \"quantitative\"}, \"y\": {\"aggregate\": \"mean\", \"field\": \"Co\", \"type\": \"quantitative\"}}}], \"data\": {\"url\": \"altair-data-c84a19afa535df7b89ad9dfc81d3f524.json\", \"format\": {\"type\": \"json\"}}, \"height\": 200, \"title\": \"u'w', 10m-UW\", \"width\": 200}], \"resolve\": {\"scale\": {\"y\": \"shared\"}}}, {\"hconcat\": [{\"layer\": [{\"mark\": {\"type\": \"errorband\", \"extent\": \"iqr\"}, \"encoding\": {\"x\": {\"field\": \"tau\", \"scale\": {\"type\": \"log\"}, \"title\": \"tau (s)\", \"type\": \"quantitative\"}, \"y\": {\"field\": \"Co\", \"type\": \"quantitative\"}}}, {\"mark\": {\"type\": \"line\"}, \"encoding\": {\"x\": {\"field\": \"tau\", \"scale\": {\"type\": \"log\"}, \"title\": \"tau (s)\", \"type\": \"quantitative\"}, \"y\": {\"aggregate\": \"mean\", \"field\": \"Co\", \"type\": \"quantitative\"}}}], \"data\": {\"url\": \"altair-data-574a332c45fb9908b9271fddcced160a.json\", \"format\": {\"type\": \"json\"}}, \"height\": 200, \"title\": \"u'w', 5m-C\", \"width\": 200}, {\"layer\": [{\"mark\": {\"type\": \"errorband\", \"extent\": \"iqr\"}, \"encoding\": {\"x\": {\"field\": \"tau\", \"scale\": {\"type\": \"log\"}, \"title\": \"tau (s)\", \"type\": \"quantitative\"}, \"y\": {\"field\": \"Co\", \"type\": \"quantitative\"}}}, {\"mark\": {\"type\": \"line\"}, \"encoding\": {\"x\": {\"field\": \"tau\", \"scale\": {\"type\": \"log\"}, \"title\": \"tau (s)\", \"type\": \"quantitative\"}, \"y\": {\"aggregate\": \"mean\", \"field\": \"Co\", \"type\": \"quantitative\"}}}], \"data\": {\"url\": \"altair-data-2faa675e2939fa0354ae69e729975631.json\", \"format\": {\"type\": \"json\"}}, \"height\": 200, \"title\": \"u'w', 15m-C\", \"width\": 200}, {\"layer\": [{\"mark\": {\"type\": \"errorband\", \"extent\": \"iqr\"}, \"encoding\": {\"x\": {\"field\": \"tau\", \"scale\": {\"type\": \"log\"}, \"title\": \"tau (s)\", \"type\": \"quantitative\"}, \"y\": {\"field\": \"Co\", \"type\": \"quantitative\"}}}, {\"mark\": {\"type\": \"line\"}, \"encoding\": {\"x\": {\"field\": \"tau\", \"scale\": {\"type\": \"log\"}, \"title\": \"tau (s)\", \"type\": \"quantitative\"}, \"y\": {\"aggregate\": \"mean\", \"field\": \"Co\", \"type\": \"quantitative\"}}}], \"data\": {\"url\": \"altair-data-e54b59ecdce596c2566ca7767d3d6443.json\", \"format\": {\"type\": \"json\"}}, \"height\": 200, \"title\": \"u'w', 20m-C\", \"width\": 200}], \"resolve\": {\"scale\": {\"y\": \"shared\"}}}], \"resolve\": {\"scale\": {\"y\": \"shared\"}}, \"$schema\": \"https://vega.github.io/schema/vega-lite/v5.20.1.json\"}, {\"mode\": \"vega-lite\"});\n",
       "</script>"
      ],
      "text/plain": [
       "alt.VConcatChart(...)"
      ]
     },
     "execution_count": 40,
     "metadata": {},
     "output_type": "execute_result"
    }
   ],
   "source": [
    "(\n",
    "    (\n",
    "        mrd_plot(apr18_u_w_3m_c_mrd_df, \"u'w', 3m-C\") | mrd_plot(apr18_u_w_3m_d_mrd_df, \"u'w', 3m-D\") \n",
    "        | mrd_plot(apr18_u_w_3m_ue_mrd_df, \"u'w', 3m-UE\") | mrd_plot(apr18_u_w_3m_uw_mrd_df, \"u'w', 3m-UW\")\n",
    "    ).resolve_scale(y='shared') & (\n",
    "        mrd_plot(apr18_u_w_10m_c_mrd_df, \"u'w', 10m-C\") | mrd_plot(apr18_u_w_10m_d_mrd_df, \"u'w', 10m-D\") \n",
    "        | mrd_plot(apr18_u_w_10m_ue_mrd_df, \"u'w', 10m-UE\") | mrd_plot(apr18_u_w_10m_uw_mrd_df, \"u'w', 10m-UW\")\n",
    "    ).resolve_scale(y='shared') & (\n",
    "        mrd_plot(apr18_u_w_5m_c_mrd_df, \"u'w', 5m-C\") |  mrd_plot(apr18_u_w_15m_c_mrd_df, \"u'w', 15m-C\") |  mrd_plot(apr18_u_w_20m_c_mrd_df, \"u'w', 20m-C\")\n",
    "    ).resolve_scale(y='shared')\n",
    ").resolve_scale(y='shared')"
   ]
  },
  {
   "cell_type": "markdown",
   "metadata": {},
   "source": [
    "### Isotropic stress cospectra - tower c 3 and 10m"
   ]
  },
  {
   "cell_type": "code",
   "execution_count": 33,
   "metadata": {},
   "outputs": [
    {
     "name": "stderr",
     "output_type": "stream",
     "text": [
      "100%|██████████| 42/42 [00:16<00:00,  2.62it/s]\n"
     ]
    },
    {
     "name": "stdout",
     "output_type": "stream",
     "text": [
      "Got data of length 216000. using M = 17\n",
      "Timestep of fast data is: 50.0 ms\n",
      "Dataset of length 216000, with M = 17, permits 42 iterations.\n"
     ]
    },
    {
     "name": "stderr",
     "output_type": "stream",
     "text": [
      "100%|██████████| 42/42 [00:14<00:00,  2.92it/s]\n"
     ]
    },
    {
     "name": "stdout",
     "output_type": "stream",
     "text": [
      "Got data of length 216000. using M = 17\n",
      "Timestep of fast data is: 50.0 ms\n",
      "Dataset of length 216000, with M = 17, permits 42 iterations.\n"
     ]
    },
    {
     "name": "stderr",
     "output_type": "stream",
     "text": [
      "100%|██████████| 42/42 [00:14<00:00,  2.96it/s]\n"
     ]
    },
    {
     "name": "stdout",
     "output_type": "stream",
     "text": [
      "Got data of length 216000. using M = 17\n",
      "Timestep of fast data is: 50.0 ms\n",
      "Dataset of length 216000, with M = 17, permits 42 iterations.\n"
     ]
    },
    {
     "name": "stderr",
     "output_type": "stream",
     "text": [
      "100%|██████████| 42/42 [00:13<00:00,  3.00it/s]\n"
     ]
    },
    {
     "name": "stdout",
     "output_type": "stream",
     "text": [
      "Got data of length 216000. using M = 17\n",
      "Timestep of fast data is: 50.0 ms\n",
      "Dataset of length 216000, with M = 17, permits 42 iterations.\n"
     ]
    },
    {
     "name": "stderr",
     "output_type": "stream",
     "text": [
      "100%|██████████| 42/42 [00:14<00:00,  2.99it/s]\n"
     ]
    },
    {
     "name": "stdout",
     "output_type": "stream",
     "text": [
      "Got data of length 216000. using M = 17\n",
      "Timestep of fast data is: 50.0 ms\n",
      "Dataset of length 216000, with M = 17, permits 42 iterations.\n"
     ]
    },
    {
     "name": "stderr",
     "output_type": "stream",
     "text": [
      "100%|██████████| 42/42 [00:14<00:00,  2.86it/s]\n"
     ]
    }
   ],
   "source": [
    "apr18_u_u_3m_c_mrd_df = calculate_mrd_for_df(apr18_df, 'u_3m_c', 'u_3m_c', shift = 2000, parallelism=8)\n",
    "apr18_v_v_3m_c_mrd_df = calculate_mrd_for_df(apr18_df, 'v_3m_c', 'v_3m_c', shift = 2000, parallelism=8)\n",
    "apr18_w_w_3m_c_mrd_df = calculate_mrd_for_df(apr18_df, 'w_3m_c', 'w_3m_c', shift = 2000, parallelism=8)\n",
    "\n",
    "apr18_u_u_10m_c_mrd_df = calculate_mrd_for_df(apr18_df, 'u_10m_c', 'u_10m_c', shift = 2000, parallelism=8)\n",
    "apr18_v_v_10m_c_mrd_df = calculate_mrd_for_df(apr18_df, 'v_10m_c', 'v_10m_c', shift = 2000, parallelism=8)\n",
    "apr18_w_w_10m_c_mrd_df = calculate_mrd_for_df(apr18_df, 'w_10m_c', 'w_10m_c', shift = 2000, parallelism=8)"
   ]
  },
  {
   "cell_type": "code",
   "execution_count": 43,
   "metadata": {},
   "outputs": [
    {
     "data": {
      "text/html": [
       "\n",
       "<style>\n",
       "  #altair-viz-660e409f22624b2ab6bddf57899107c5.vega-embed {\n",
       "    width: 100%;\n",
       "    display: flex;\n",
       "  }\n",
       "\n",
       "  #altair-viz-660e409f22624b2ab6bddf57899107c5.vega-embed details,\n",
       "  #altair-viz-660e409f22624b2ab6bddf57899107c5.vega-embed details summary {\n",
       "    position: relative;\n",
       "  }\n",
       "</style>\n",
       "<div id=\"altair-viz-660e409f22624b2ab6bddf57899107c5\"></div>\n",
       "<script type=\"text/javascript\">\n",
       "  var VEGA_DEBUG = (typeof VEGA_DEBUG == \"undefined\") ? {} : VEGA_DEBUG;\n",
       "  (function(spec, embedOpt){\n",
       "    let outputDiv = document.currentScript.previousElementSibling;\n",
       "    if (outputDiv.id !== \"altair-viz-660e409f22624b2ab6bddf57899107c5\") {\n",
       "      outputDiv = document.getElementById(\"altair-viz-660e409f22624b2ab6bddf57899107c5\");\n",
       "    }\n",
       "    const paths = {\n",
       "      \"vega\": \"https://cdn.jsdelivr.net/npm/vega@5?noext\",\n",
       "      \"vega-lib\": \"https://cdn.jsdelivr.net/npm/vega-lib?noext\",\n",
       "      \"vega-lite\": \"https://cdn.jsdelivr.net/npm/vega-lite@5.20.1?noext\",\n",
       "      \"vega-embed\": \"https://cdn.jsdelivr.net/npm/vega-embed@6?noext\",\n",
       "    };\n",
       "\n",
       "    function maybeLoadScript(lib, version) {\n",
       "      var key = `${lib.replace(\"-\", \"\")}_version`;\n",
       "      return (VEGA_DEBUG[key] == version) ?\n",
       "        Promise.resolve(paths[lib]) :\n",
       "        new Promise(function(resolve, reject) {\n",
       "          var s = document.createElement('script');\n",
       "          document.getElementsByTagName(\"head\")[0].appendChild(s);\n",
       "          s.async = true;\n",
       "          s.onload = () => {\n",
       "            VEGA_DEBUG[key] = version;\n",
       "            return resolve(paths[lib]);\n",
       "          };\n",
       "          s.onerror = () => reject(`Error loading script: ${paths[lib]}`);\n",
       "          s.src = paths[lib];\n",
       "        });\n",
       "    }\n",
       "\n",
       "    function showError(err) {\n",
       "      outputDiv.innerHTML = `<div class=\"error\" style=\"color:red;\">${err}</div>`;\n",
       "      throw err;\n",
       "    }\n",
       "\n",
       "    function displayChart(vegaEmbed) {\n",
       "      vegaEmbed(outputDiv, spec, embedOpt)\n",
       "        .catch(err => showError(`Javascript Error: ${err.message}<br>This usually means there's a typo in your chart specification. See the javascript console for the full traceback.`));\n",
       "    }\n",
       "\n",
       "    if(typeof define === \"function\" && define.amd) {\n",
       "      requirejs.config({paths});\n",
       "      require([\"vega-embed\"], displayChart, err => showError(`Error loading script: ${err.message}`));\n",
       "    } else {\n",
       "      maybeLoadScript(\"vega\", \"5\")\n",
       "        .then(() => maybeLoadScript(\"vega-lite\", \"5.20.1\"))\n",
       "        .then(() => maybeLoadScript(\"vega-embed\", \"6\"))\n",
       "        .catch(showError)\n",
       "        .then(() => displayChart(vegaEmbed));\n",
       "    }\n",
       "  })({\"config\": {\"view\": {\"continuousWidth\": 300, \"continuousHeight\": 300}}, \"hconcat\": [{\"vconcat\": [{\"hconcat\": [{\"layer\": [{\"mark\": {\"type\": \"errorband\", \"extent\": \"iqr\"}, \"encoding\": {\"x\": {\"field\": \"tau\", \"scale\": {\"type\": \"log\"}, \"title\": \"tau (s)\", \"type\": \"quantitative\"}, \"y\": {\"field\": \"Co\", \"type\": \"quantitative\"}}}, {\"mark\": {\"type\": \"line\"}, \"encoding\": {\"x\": {\"field\": \"tau\", \"scale\": {\"type\": \"log\"}, \"title\": \"tau (s)\", \"type\": \"quantitative\"}, \"y\": {\"aggregate\": \"mean\", \"field\": \"Co\", \"type\": \"quantitative\"}}}], \"data\": {\"url\": \"altair-data-7ac4402c674121702d25264fe311127d.json\", \"format\": {\"type\": \"json\"}}, \"height\": 200, \"title\": \"u'u', 3m-C\", \"width\": 200}, {\"layer\": [{\"mark\": {\"type\": \"errorband\", \"extent\": \"iqr\"}, \"encoding\": {\"x\": {\"field\": \"tau\", \"scale\": {\"type\": \"log\"}, \"title\": \"tau (s)\", \"type\": \"quantitative\"}, \"y\": {\"field\": \"Co\", \"type\": \"quantitative\"}}}, {\"mark\": {\"type\": \"line\"}, \"encoding\": {\"x\": {\"field\": \"tau\", \"scale\": {\"type\": \"log\"}, \"title\": \"tau (s)\", \"type\": \"quantitative\"}, \"y\": {\"aggregate\": \"mean\", \"field\": \"Co\", \"type\": \"quantitative\"}}}], \"data\": {\"url\": \"altair-data-49e1ac5f5ea5e2f369b4ad5ee692ff3c.json\", \"format\": {\"type\": \"json\"}}, \"height\": 200, \"title\": \"v'v', 3m-C\", \"width\": 200}], \"resolve\": {\"scale\": {\"y\": \"shared\"}}}, {\"hconcat\": [{\"layer\": [{\"mark\": {\"type\": \"errorband\", \"extent\": \"iqr\"}, \"encoding\": {\"x\": {\"field\": \"tau\", \"scale\": {\"type\": \"log\"}, \"title\": \"tau (s)\", \"type\": \"quantitative\"}, \"y\": {\"field\": \"Co\", \"type\": \"quantitative\"}}}, {\"mark\": {\"type\": \"line\"}, \"encoding\": {\"x\": {\"field\": \"tau\", \"scale\": {\"type\": \"log\"}, \"title\": \"tau (s)\", \"type\": \"quantitative\"}, \"y\": {\"aggregate\": \"mean\", \"field\": \"Co\", \"type\": \"quantitative\"}}}], \"data\": {\"url\": \"altair-data-edd31446ade22747fe6aab6cda149ce2.json\", \"format\": {\"type\": \"json\"}}, \"height\": 200, \"title\": \"u'u', 10-C\", \"width\": 200}, {\"layer\": [{\"mark\": {\"type\": \"errorband\", \"extent\": \"iqr\"}, \"encoding\": {\"x\": {\"field\": \"tau\", \"scale\": {\"type\": \"log\"}, \"title\": \"tau (s)\", \"type\": \"quantitative\"}, \"y\": {\"field\": \"Co\", \"type\": \"quantitative\"}}}, {\"mark\": {\"type\": \"line\"}, \"encoding\": {\"x\": {\"field\": \"tau\", \"scale\": {\"type\": \"log\"}, \"title\": \"tau (s)\", \"type\": \"quantitative\"}, \"y\": {\"aggregate\": \"mean\", \"field\": \"Co\", \"type\": \"quantitative\"}}}], \"data\": {\"url\": \"altair-data-01fee4962fa69db30a27609f5c859c55.json\", \"format\": {\"type\": \"json\"}}, \"height\": 200, \"title\": \"v'v', 3m-C\", \"width\": 200}], \"resolve\": {\"scale\": {\"y\": \"shared\"}}}], \"resolve\": {\"scale\": {\"y\": \"shared\"}}}, {\"vconcat\": [{\"layer\": [{\"mark\": {\"type\": \"errorband\", \"extent\": \"iqr\"}, \"encoding\": {\"x\": {\"field\": \"tau\", \"scale\": {\"type\": \"log\"}, \"title\": \"tau (s)\", \"type\": \"quantitative\"}, \"y\": {\"field\": \"Co\", \"type\": \"quantitative\"}}}, {\"mark\": {\"type\": \"line\"}, \"encoding\": {\"x\": {\"field\": \"tau\", \"scale\": {\"type\": \"log\"}, \"title\": \"tau (s)\", \"type\": \"quantitative\"}, \"y\": {\"aggregate\": \"mean\", \"field\": \"Co\", \"type\": \"quantitative\"}}}], \"data\": {\"url\": \"altair-data-3a9cc68faba8564710af2e0d586535cf.json\", \"format\": {\"type\": \"json\"}}, \"height\": 200, \"title\": \"w'w', 3m-C\", \"width\": 200}, {\"layer\": [{\"mark\": {\"type\": \"errorband\", \"extent\": \"iqr\"}, \"encoding\": {\"x\": {\"field\": \"tau\", \"scale\": {\"type\": \"log\"}, \"title\": \"tau (s)\", \"type\": \"quantitative\"}, \"y\": {\"field\": \"Co\", \"type\": \"quantitative\"}}}, {\"mark\": {\"type\": \"line\"}, \"encoding\": {\"x\": {\"field\": \"tau\", \"scale\": {\"type\": \"log\"}, \"title\": \"tau (s)\", \"type\": \"quantitative\"}, \"y\": {\"aggregate\": \"mean\", \"field\": \"Co\", \"type\": \"quantitative\"}}}], \"data\": {\"url\": \"altair-data-86174bfc62aab5d944ee4aacc7163518.json\", \"format\": {\"type\": \"json\"}}, \"height\": 200, \"title\": \"w'w', 10m-C\", \"width\": 200}], \"resolve\": {\"scale\": {\"y\": \"shared\"}}}], \"$schema\": \"https://vega.github.io/schema/vega-lite/v5.20.1.json\"}, {\"mode\": \"vega-lite\"});\n",
       "</script>"
      ],
      "text/plain": [
       "alt.HConcatChart(...)"
      ]
     },
     "execution_count": 43,
     "metadata": {},
     "output_type": "execute_result"
    }
   ],
   "source": [
    "((\n",
    "    mrd_plot(apr18_u_u_3m_c_mrd_df, \"u'u', 3m-C\") | mrd_plot(apr18_v_v_3m_c_mrd_df, \"v'v', 3m-C\") \n",
    ").resolve_scale(y='shared') & (\n",
    "    mrd_plot(apr18_u_u_10m_c_mrd_df, \"u'u', 10-C\") | mrd_plot(apr18_v_v_10m_c_mrd_df, \"v'v', 3m-C\")\n",
    ").resolve_scale(y='shared')).resolve_scale(y='shared') | (\n",
    "    mrd_plot(apr18_w_w_3m_c_mrd_df, \"w'w', 3m-C\") & mrd_plot(apr18_w_w_10m_c_mrd_df, \"w'w', 10m-C\")\n",
    ").resolve_scale(y='shared')"
   ]
  },
  {
   "cell_type": "markdown",
   "metadata": {},
   "source": [
    "## Dec 21"
   ]
  },
  {
   "cell_type": "code",
   "execution_count": 44,
   "metadata": {},
   "outputs": [
    {
     "name": "stdout",
     "output_type": "stream",
     "text": [
      "mean u, v, w after first rotation  u_2m_c    5.325658e+00\n",
      "v_2m_c   -4.837601e-07\n",
      "w_2m_c    8.059380e-02\n",
      "dtype: float32\n",
      "mean u, v, w after first rotation  u_3m_c    5.669217e+00\n",
      "v_3m_c    1.130281e-07\n",
      "w_3m_c    5.993508e-02\n",
      "dtype: float32\n",
      "mean u, v, w after first rotation  u_5m_c    6.094958e+00\n",
      "v_5m_c   -1.537182e-07\n",
      "w_5m_c    6.208957e-02\n",
      "dtype: float32\n",
      "mean u, v, w after first rotation  u_10m_c    6.465034e+00\n",
      "v_10m_c    5.470558e-07\n",
      "w_10m_c   -6.427024e-03\n",
      "dtype: float32\n",
      "mean u, v, w after first rotation  u_15m_c    6.803667e+00\n",
      "v_15m_c   -2.961335e-07\n",
      "w_15m_c    5.895937e-02\n",
      "dtype: float32\n",
      "mean u, v, w after first rotation  u_20m_c    7.077481e+00\n",
      "v_20m_c   -2.215350e-07\n",
      "w_20m_c    2.049043e-02\n",
      "dtype: float32\n",
      "mean u, v, w after first rotation  u_3m_uw    5.593379e+00\n",
      "v_3m_uw   -5.900065e-07\n",
      "w_3m_uw    1.943769e-02\n",
      "dtype: float32\n",
      "mean u, v, w after first rotation  u_10m_uw    6.501176e+00\n",
      "v_10m_uw    1.548485e-07\n",
      "w_10m_uw   -1.366047e-02\n",
      "dtype: float32\n",
      "mean u, v, w after first rotation  u_3m_ue    5.637741e+00\n",
      "v_3m_ue   -4.973235e-07\n",
      "w_3m_ue    2.358104e-02\n",
      "dtype: float32\n",
      "mean u, v, w after first rotation  u_10m_ue    6.514380\n",
      "v_10m_ue    0.000000\n",
      "w_10m_ue   -0.009268\n",
      "dtype: float32\n",
      "mean u, v, w after first rotation  u_3m_d    5.626103e+00\n",
      "v_3m_d    6.781684e-08\n",
      "w_3m_d   -1.516686e-02\n",
      "dtype: float32\n",
      "mean u, v, w after first rotation  u_10m_d    6.692292e+00\n",
      "v_10m_d    2.486617e-07\n",
      "w_10m_d   -1.432134e-03\n",
      "dtype: float32\n",
      "mean u, v, w after second rotation  u_2m_c    5.326267e+00\n",
      "v_2m_c   -4.837601e-07\n",
      "w_2m_c    8.689033e-09\n",
      "dtype: float32\n",
      "mean u, v, w after second rotation  u_3m_c    5.669534e+00\n",
      "v_3m_c    1.130281e-07\n",
      "w_3m_c    9.678028e-09\n",
      "dtype: float32\n",
      "mean u, v, w after second rotation  u_5m_c    6.095273e+00\n",
      "v_5m_c   -1.537182e-07\n",
      "w_5m_c    1.137345e-08\n",
      "dtype: float32\n",
      "mean u, v, w after second rotation  u_10m_c    6.465037e+00\n",
      "v_10m_c    5.470558e-07\n",
      "w_10m_c   -2.543131e-09\n",
      "dtype: float32\n",
      "mean u, v, w after second rotation  u_15m_c    6.803923e+00\n",
      "v_15m_c   -2.961335e-07\n",
      "w_15m_c   -9.536743e-09\n",
      "dtype: float32\n",
      "mean u, v, w after second rotation  u_20m_c    7.077510e+00\n",
      "v_20m_c   -2.215350e-07\n",
      "w_20m_c    2.966987e-09\n",
      "dtype: float32\n",
      "mean u, v, w after second rotation  u_3m_uw    5.593412e+00\n",
      "v_3m_uw   -5.900065e-07\n",
      "w_3m_uw   -1.130281e-09\n",
      "dtype: float32\n",
      "mean u, v, w after second rotation  u_10m_uw    6.501191e+00\n",
      "v_10m_uw    1.548485e-07\n",
      "w_10m_uw    8.477105e-10\n",
      "dtype: float32\n",
      "mean u, v, w after second rotation  u_3m_ue    5.637790e+00\n",
      "v_3m_ue   -4.973235e-07\n",
      "w_3m_ue    1.836706e-09\n",
      "dtype: float32\n",
      "mean u, v, w after second rotation  u_10m_ue    6.514388e+00\n",
      "v_10m_ue    0.000000e+00\n",
      "w_10m_ue   -5.651403e-10\n",
      "dtype: float32\n",
      "mean u, v, w after second rotation  u_3m_d    5.626124e+00\n",
      "v_3m_d    6.781684e-08\n",
      "w_3m_d    0.000000e+00\n",
      "dtype: float32\n",
      "mean u, v, w after second rotation  u_10m_d    6.692293e+00\n",
      "v_10m_d    2.486617e-07\n",
      "w_10m_d    1.412851e-10\n",
      "dtype: float32\n"
     ]
    }
   ],
   "source": [
    "dec21_df = fast_data_files_to_dataframe([\n",
    "    '/Users/elischwat/Development/data/sublimationofsnow/sosqc_fast/isfs_sos_qc_geo_tiltcor_hr_v2_20221221_21.nc',\n",
    "    '/Users/elischwat/Development/data/sublimationofsnow/sosqc_fast/isfs_sos_qc_geo_tiltcor_hr_v2_20221221_22.nc',\n",
    "    '/Users/elischwat/Development/data/sublimationofsnow/sosqc_fast/isfs_sos_qc_geo_tiltcor_hr_v2_20221221_23.nc',\n",
    "],  rotation='double')\n",
    "dec21_df = utils.modify_df_timezone(dec21_df, pytz.UTC, \"US/Mountain\")"
   ]
  },
  {
   "cell_type": "markdown",
   "metadata": {},
   "source": [
    "### u'w' cospectra - all ECs"
   ]
  },
  {
   "cell_type": "code",
   "execution_count": 45,
   "metadata": {},
   "outputs": [
    {
     "name": "stdout",
     "output_type": "stream",
     "text": [
      "Got data of length 216000. using M = 17\n",
      "Timestep of fast data is: 50.0 ms\n",
      "Dataset of length 216000, with M = 17, permits 42 iterations.\n"
     ]
    },
    {
     "name": "stderr",
     "output_type": "stream",
     "text": [
      "100%|██████████| 42/42 [00:16<00:00,  2.61it/s]\n"
     ]
    },
    {
     "name": "stdout",
     "output_type": "stream",
     "text": [
      "Got data of length 216000. using M = 17\n",
      "Timestep of fast data is: 50.0 ms\n",
      "Dataset of length 216000, with M = 17, permits 42 iterations.\n"
     ]
    },
    {
     "name": "stderr",
     "output_type": "stream",
     "text": [
      "100%|██████████| 42/42 [00:14<00:00,  2.99it/s]\n"
     ]
    },
    {
     "name": "stdout",
     "output_type": "stream",
     "text": [
      "Got data of length 216000. using M = 17\n",
      "Timestep of fast data is: 50.0 ms\n",
      "Dataset of length 216000, with M = 17, permits 42 iterations.\n"
     ]
    },
    {
     "name": "stderr",
     "output_type": "stream",
     "text": [
      "100%|██████████| 42/42 [00:14<00:00,  2.96it/s]\n"
     ]
    },
    {
     "name": "stdout",
     "output_type": "stream",
     "text": [
      "Got data of length 216000. using M = 17\n",
      "Timestep of fast data is: 50.0 ms\n",
      "Dataset of length 216000, with M = 17, permits 42 iterations.\n"
     ]
    },
    {
     "name": "stderr",
     "output_type": "stream",
     "text": [
      "100%|██████████| 42/42 [00:13<00:00,  3.03it/s]\n"
     ]
    },
    {
     "name": "stdout",
     "output_type": "stream",
     "text": [
      "Got data of length 216000. using M = 17\n",
      "Timestep of fast data is: 50.0 ms\n",
      "Dataset of length 216000, with M = 17, permits 42 iterations.\n"
     ]
    },
    {
     "name": "stderr",
     "output_type": "stream",
     "text": [
      "100%|██████████| 42/42 [00:13<00:00,  3.05it/s]\n"
     ]
    },
    {
     "name": "stdout",
     "output_type": "stream",
     "text": [
      "Got data of length 216000. using M = 17\n",
      "Timestep of fast data is: 50.0 ms\n",
      "Dataset of length 216000, with M = 17, permits 42 iterations.\n"
     ]
    },
    {
     "name": "stderr",
     "output_type": "stream",
     "text": [
      "100%|██████████| 42/42 [00:13<00:00,  3.04it/s]\n"
     ]
    },
    {
     "name": "stdout",
     "output_type": "stream",
     "text": [
      "Got data of length 216000. using M = 17\n",
      "Timestep of fast data is: 50.0 ms\n",
      "Dataset of length 216000, with M = 17, permits 42 iterations.\n"
     ]
    },
    {
     "name": "stderr",
     "output_type": "stream",
     "text": [
      "100%|██████████| 42/42 [00:13<00:00,  3.05it/s]\n"
     ]
    },
    {
     "name": "stdout",
     "output_type": "stream",
     "text": [
      "Got data of length 216000. using M = 17\n",
      "Timestep of fast data is: 50.0 ms\n",
      "Dataset of length 216000, with M = 17, permits 42 iterations.\n"
     ]
    },
    {
     "name": "stderr",
     "output_type": "stream",
     "text": [
      "100%|██████████| 42/42 [00:13<00:00,  3.05it/s]\n"
     ]
    },
    {
     "name": "stdout",
     "output_type": "stream",
     "text": [
      "Got data of length 216000. using M = 17\n",
      "Timestep of fast data is: 50.0 ms\n",
      "Dataset of length 216000, with M = 17, permits 42 iterations.\n"
     ]
    },
    {
     "name": "stderr",
     "output_type": "stream",
     "text": [
      "100%|██████████| 42/42 [00:13<00:00,  3.04it/s]\n"
     ]
    },
    {
     "name": "stdout",
     "output_type": "stream",
     "text": [
      "Got data of length 216000. using M = 17\n",
      "Timestep of fast data is: 50.0 ms\n",
      "Dataset of length 216000, with M = 17, permits 42 iterations.\n"
     ]
    },
    {
     "name": "stderr",
     "output_type": "stream",
     "text": [
      "100%|██████████| 42/42 [00:13<00:00,  3.05it/s]\n"
     ]
    },
    {
     "name": "stdout",
     "output_type": "stream",
     "text": [
      "Got data of length 216000. using M = 17\n",
      "Timestep of fast data is: 50.0 ms\n",
      "Dataset of length 216000, with M = 17, permits 42 iterations.\n"
     ]
    },
    {
     "name": "stderr",
     "output_type": "stream",
     "text": [
      "100%|██████████| 42/42 [00:13<00:00,  3.06it/s]\n"
     ]
    }
   ],
   "source": [
    "dec21_u_w_3m_c_mrd_df = calculate_mrd_for_df(dec21_df, 'u_3m_c', 'w_3m_c', shift = 2000, parallelism=8)\n",
    "dec21_u_w_3m_d_mrd_df = calculate_mrd_for_df(dec21_df, 'u_3m_d', 'w_3m_d', shift = 2000, parallelism=8)\n",
    "dec21_u_w_3m_ue_mrd_df = calculate_mrd_for_df(dec21_df, 'u_3m_ue', 'w_3m_ue', shift = 2000, parallelism=8)\n",
    "dec21_u_w_3m_uw_mrd_df = calculate_mrd_for_df(dec21_df, 'u_3m_uw', 'w_3m_uw', shift = 2000, parallelism=8)\n",
    "\n",
    "dec21_u_w_10m_c_mrd_df = calculate_mrd_for_df(dec21_df, 'u_10m_c', 'w_10m_c', shift = 2000, parallelism=8)\n",
    "dec21_u_w_10m_d_mrd_df = calculate_mrd_for_df(dec21_df, 'u_10m_d', 'w_10m_d', shift = 2000, parallelism=8)\n",
    "dec21_u_w_10m_ue_mrd_df = calculate_mrd_for_df(dec21_df, 'u_10m_ue', 'w_10m_ue', shift = 2000, parallelism=8)\n",
    "dec21_u_w_10m_uw_mrd_df = calculate_mrd_for_df(dec21_df, 'u_10m_uw', 'w_10m_uw', shift = 2000, parallelism=8)\n",
    "\n",
    "dec21_u_w_5m_c_mrd_df = calculate_mrd_for_df(dec21_df, 'u_5m_c', 'w_5m_c', shift = 2000, parallelism=8)\n",
    "dec21_u_w_15m_c_mrd_df = calculate_mrd_for_df(dec21_df, 'u_15m_c', 'w_15m_c', shift = 2000, parallelism=8)\n",
    "dec21_u_w_20m_c_mrd_df = calculate_mrd_for_df(dec21_df, 'u_20m_c', 'w_20m_c', shift = 2000, parallelism=8)"
   ]
  },
  {
   "cell_type": "code",
   "execution_count": 56,
   "metadata": {},
   "outputs": [],
   "source": [
    "def mrd_plot(data, title='', color=None):\n",
    "    base = alt.Chart().encode(\n",
    "        alt.X('tau:Q').scale(type='log').title('tau (s)'),\n",
    "    )\n",
    "    if color:\n",
    "        band = base.mark_errorband(extent='iqr', color=color).encode(alt.Y('Co:Q'))\n",
    "        line = base.mark_line(color=color).encode(alt.Y('mean(Co):Q'))\n",
    "    else:\n",
    "        band = base.mark_errorband(extent='iqr').encode(alt.Y('Co:Q'))\n",
    "        line = base.mark_line().encode(alt.Y('mean(Co):Q'))\n",
    "    return alt.layer(\n",
    "        band, line, data=data\n",
    "    ).properties(width=200, height=200, title=title)"
   ]
  },
  {
   "cell_type": "code",
   "execution_count": 57,
   "metadata": {},
   "outputs": [
    {
     "data": {
      "text/html": [
       "\n",
       "<style>\n",
       "  #altair-viz-dfa39aaca0904dea942796efcda90aaf.vega-embed {\n",
       "    width: 100%;\n",
       "    display: flex;\n",
       "  }\n",
       "\n",
       "  #altair-viz-dfa39aaca0904dea942796efcda90aaf.vega-embed details,\n",
       "  #altair-viz-dfa39aaca0904dea942796efcda90aaf.vega-embed details summary {\n",
       "    position: relative;\n",
       "  }\n",
       "</style>\n",
       "<div id=\"altair-viz-dfa39aaca0904dea942796efcda90aaf\"></div>\n",
       "<script type=\"text/javascript\">\n",
       "  var VEGA_DEBUG = (typeof VEGA_DEBUG == \"undefined\") ? {} : VEGA_DEBUG;\n",
       "  (function(spec, embedOpt){\n",
       "    let outputDiv = document.currentScript.previousElementSibling;\n",
       "    if (outputDiv.id !== \"altair-viz-dfa39aaca0904dea942796efcda90aaf\") {\n",
       "      outputDiv = document.getElementById(\"altair-viz-dfa39aaca0904dea942796efcda90aaf\");\n",
       "    }\n",
       "    const paths = {\n",
       "      \"vega\": \"https://cdn.jsdelivr.net/npm/vega@5?noext\",\n",
       "      \"vega-lib\": \"https://cdn.jsdelivr.net/npm/vega-lib?noext\",\n",
       "      \"vega-lite\": \"https://cdn.jsdelivr.net/npm/vega-lite@5.20.1?noext\",\n",
       "      \"vega-embed\": \"https://cdn.jsdelivr.net/npm/vega-embed@6?noext\",\n",
       "    };\n",
       "\n",
       "    function maybeLoadScript(lib, version) {\n",
       "      var key = `${lib.replace(\"-\", \"\")}_version`;\n",
       "      return (VEGA_DEBUG[key] == version) ?\n",
       "        Promise.resolve(paths[lib]) :\n",
       "        new Promise(function(resolve, reject) {\n",
       "          var s = document.createElement('script');\n",
       "          document.getElementsByTagName(\"head\")[0].appendChild(s);\n",
       "          s.async = true;\n",
       "          s.onload = () => {\n",
       "            VEGA_DEBUG[key] = version;\n",
       "            return resolve(paths[lib]);\n",
       "          };\n",
       "          s.onerror = () => reject(`Error loading script: ${paths[lib]}`);\n",
       "          s.src = paths[lib];\n",
       "        });\n",
       "    }\n",
       "\n",
       "    function showError(err) {\n",
       "      outputDiv.innerHTML = `<div class=\"error\" style=\"color:red;\">${err}</div>`;\n",
       "      throw err;\n",
       "    }\n",
       "\n",
       "    function displayChart(vegaEmbed) {\n",
       "      vegaEmbed(outputDiv, spec, embedOpt)\n",
       "        .catch(err => showError(`Javascript Error: ${err.message}<br>This usually means there's a typo in your chart specification. See the javascript console for the full traceback.`));\n",
       "    }\n",
       "\n",
       "    if(typeof define === \"function\" && define.amd) {\n",
       "      requirejs.config({paths});\n",
       "      require([\"vega-embed\"], displayChart, err => showError(`Error loading script: ${err.message}`));\n",
       "    } else {\n",
       "      maybeLoadScript(\"vega\", \"5\")\n",
       "        .then(() => maybeLoadScript(\"vega-lite\", \"5.20.1\"))\n",
       "        .then(() => maybeLoadScript(\"vega-embed\", \"6\"))\n",
       "        .catch(showError)\n",
       "        .then(() => displayChart(vegaEmbed));\n",
       "    }\n",
       "  })({\"config\": {\"view\": {\"continuousWidth\": 300, \"continuousHeight\": 300}}, \"vconcat\": [{\"hconcat\": [{\"layer\": [{\"mark\": {\"type\": \"errorband\", \"extent\": \"iqr\"}, \"encoding\": {\"x\": {\"field\": \"tau\", \"scale\": {\"type\": \"log\"}, \"title\": \"tau (s)\", \"type\": \"quantitative\"}, \"y\": {\"field\": \"Co\", \"type\": \"quantitative\"}}}, {\"mark\": {\"type\": \"line\"}, \"encoding\": {\"x\": {\"field\": \"tau\", \"scale\": {\"type\": \"log\"}, \"title\": \"tau (s)\", \"type\": \"quantitative\"}, \"y\": {\"aggregate\": \"mean\", \"field\": \"Co\", \"type\": \"quantitative\"}}}], \"data\": {\"url\": \"altair-data-f31151071aab9e8efa36ac2a2676f255.json\", \"format\": {\"type\": \"json\"}}, \"height\": 200, \"title\": \"u'w', 3m-C\", \"width\": 200}, {\"layer\": [{\"mark\": {\"type\": \"errorband\", \"extent\": \"iqr\"}, \"encoding\": {\"x\": {\"field\": \"tau\", \"scale\": {\"type\": \"log\"}, \"title\": \"tau (s)\", \"type\": \"quantitative\"}, \"y\": {\"field\": \"Co\", \"type\": \"quantitative\"}}}, {\"mark\": {\"type\": \"line\"}, \"encoding\": {\"x\": {\"field\": \"tau\", \"scale\": {\"type\": \"log\"}, \"title\": \"tau (s)\", \"type\": \"quantitative\"}, \"y\": {\"aggregate\": \"mean\", \"field\": \"Co\", \"type\": \"quantitative\"}}}], \"data\": {\"url\": \"altair-data-7e6fb332c6487ed75e8dc79995dbea83.json\", \"format\": {\"type\": \"json\"}}, \"height\": 200, \"title\": \"u'w', 3m-D\", \"width\": 200}, {\"layer\": [{\"mark\": {\"type\": \"errorband\", \"extent\": \"iqr\"}, \"encoding\": {\"x\": {\"field\": \"tau\", \"scale\": {\"type\": \"log\"}, \"title\": \"tau (s)\", \"type\": \"quantitative\"}, \"y\": {\"field\": \"Co\", \"type\": \"quantitative\"}}}, {\"mark\": {\"type\": \"line\"}, \"encoding\": {\"x\": {\"field\": \"tau\", \"scale\": {\"type\": \"log\"}, \"title\": \"tau (s)\", \"type\": \"quantitative\"}, \"y\": {\"aggregate\": \"mean\", \"field\": \"Co\", \"type\": \"quantitative\"}}}], \"data\": {\"url\": \"altair-data-8bc5d791452619bd1009da7cb8f33bd1.json\", \"format\": {\"type\": \"json\"}}, \"height\": 200, \"title\": \"u'w', 3m-UE\", \"width\": 200}, {\"layer\": [{\"mark\": {\"type\": \"errorband\", \"extent\": \"iqr\"}, \"encoding\": {\"x\": {\"field\": \"tau\", \"scale\": {\"type\": \"log\"}, \"title\": \"tau (s)\", \"type\": \"quantitative\"}, \"y\": {\"field\": \"Co\", \"type\": \"quantitative\"}}}, {\"mark\": {\"type\": \"line\"}, \"encoding\": {\"x\": {\"field\": \"tau\", \"scale\": {\"type\": \"log\"}, \"title\": \"tau (s)\", \"type\": \"quantitative\"}, \"y\": {\"aggregate\": \"mean\", \"field\": \"Co\", \"type\": \"quantitative\"}}}], \"data\": {\"url\": \"altair-data-ed3a04b64eba1e0c3920a34faf46af9e.json\", \"format\": {\"type\": \"json\"}}, \"height\": 200, \"title\": \"u'w', 3m-UW\", \"width\": 200}], \"resolve\": {\"scale\": {\"y\": \"shared\"}}}, {\"hconcat\": [{\"layer\": [{\"mark\": {\"type\": \"errorband\", \"extent\": \"iqr\"}, \"encoding\": {\"x\": {\"field\": \"tau\", \"scale\": {\"type\": \"log\"}, \"title\": \"tau (s)\", \"type\": \"quantitative\"}, \"y\": {\"field\": \"Co\", \"type\": \"quantitative\"}}}, {\"mark\": {\"type\": \"line\"}, \"encoding\": {\"x\": {\"field\": \"tau\", \"scale\": {\"type\": \"log\"}, \"title\": \"tau (s)\", \"type\": \"quantitative\"}, \"y\": {\"aggregate\": \"mean\", \"field\": \"Co\", \"type\": \"quantitative\"}}}], \"data\": {\"url\": \"altair-data-60e690fa9e5862c78cc918d4a863e6f5.json\", \"format\": {\"type\": \"json\"}}, \"height\": 200, \"title\": \"u'w', 10m-C\", \"width\": 200}, {\"layer\": [{\"mark\": {\"type\": \"errorband\", \"extent\": \"iqr\"}, \"encoding\": {\"x\": {\"field\": \"tau\", \"scale\": {\"type\": \"log\"}, \"title\": \"tau (s)\", \"type\": \"quantitative\"}, \"y\": {\"field\": \"Co\", \"type\": \"quantitative\"}}}, {\"mark\": {\"type\": \"line\"}, \"encoding\": {\"x\": {\"field\": \"tau\", \"scale\": {\"type\": \"log\"}, \"title\": \"tau (s)\", \"type\": \"quantitative\"}, \"y\": {\"aggregate\": \"mean\", \"field\": \"Co\", \"type\": \"quantitative\"}}}], \"data\": {\"url\": \"altair-data-fd041f20e1de81faccbc92dfa97a7b77.json\", \"format\": {\"type\": \"json\"}}, \"height\": 200, \"title\": \"u'w', 10m-D\", \"width\": 200}, {\"layer\": [{\"mark\": {\"type\": \"errorband\", \"extent\": \"iqr\"}, \"encoding\": {\"x\": {\"field\": \"tau\", \"scale\": {\"type\": \"log\"}, \"title\": \"tau (s)\", \"type\": \"quantitative\"}, \"y\": {\"field\": \"Co\", \"type\": \"quantitative\"}}}, {\"mark\": {\"type\": \"line\"}, \"encoding\": {\"x\": {\"field\": \"tau\", \"scale\": {\"type\": \"log\"}, \"title\": \"tau (s)\", \"type\": \"quantitative\"}, \"y\": {\"aggregate\": \"mean\", \"field\": \"Co\", \"type\": \"quantitative\"}}}], \"data\": {\"url\": \"altair-data-5ca0b473304eedc7f124f0a9045d0898.json\", \"format\": {\"type\": \"json\"}}, \"height\": 200, \"title\": \"u'w', 10m-UE\", \"width\": 200}, {\"layer\": [{\"mark\": {\"type\": \"errorband\", \"extent\": \"iqr\"}, \"encoding\": {\"x\": {\"field\": \"tau\", \"scale\": {\"type\": \"log\"}, \"title\": \"tau (s)\", \"type\": \"quantitative\"}, \"y\": {\"field\": \"Co\", \"type\": \"quantitative\"}}}, {\"mark\": {\"type\": \"line\"}, \"encoding\": {\"x\": {\"field\": \"tau\", \"scale\": {\"type\": \"log\"}, \"title\": \"tau (s)\", \"type\": \"quantitative\"}, \"y\": {\"aggregate\": \"mean\", \"field\": \"Co\", \"type\": \"quantitative\"}}}], \"data\": {\"url\": \"altair-data-75b4b60f94f6bcf8d1d444ef481a53ee.json\", \"format\": {\"type\": \"json\"}}, \"height\": 200, \"title\": \"u'w', 10m-UW\", \"width\": 200}], \"resolve\": {\"scale\": {\"y\": \"shared\"}}}, {\"hconcat\": [{\"layer\": [{\"mark\": {\"type\": \"errorband\", \"extent\": \"iqr\"}, \"encoding\": {\"x\": {\"field\": \"tau\", \"scale\": {\"type\": \"log\"}, \"title\": \"tau (s)\", \"type\": \"quantitative\"}, \"y\": {\"field\": \"Co\", \"type\": \"quantitative\"}}}, {\"mark\": {\"type\": \"line\"}, \"encoding\": {\"x\": {\"field\": \"tau\", \"scale\": {\"type\": \"log\"}, \"title\": \"tau (s)\", \"type\": \"quantitative\"}, \"y\": {\"aggregate\": \"mean\", \"field\": \"Co\", \"type\": \"quantitative\"}}}], \"data\": {\"url\": \"altair-data-87e43e0eda0f5c4690d4561e263e3846.json\", \"format\": {\"type\": \"json\"}}, \"height\": 200, \"title\": \"u'w', 5m-C\", \"width\": 200}, {\"layer\": [{\"mark\": {\"type\": \"errorband\", \"extent\": \"iqr\"}, \"encoding\": {\"x\": {\"field\": \"tau\", \"scale\": {\"type\": \"log\"}, \"title\": \"tau (s)\", \"type\": \"quantitative\"}, \"y\": {\"field\": \"Co\", \"type\": \"quantitative\"}}}, {\"mark\": {\"type\": \"line\"}, \"encoding\": {\"x\": {\"field\": \"tau\", \"scale\": {\"type\": \"log\"}, \"title\": \"tau (s)\", \"type\": \"quantitative\"}, \"y\": {\"aggregate\": \"mean\", \"field\": \"Co\", \"type\": \"quantitative\"}}}], \"data\": {\"url\": \"altair-data-fa9b63fd10ceb122643ff3d17af5ec19.json\", \"format\": {\"type\": \"json\"}}, \"height\": 200, \"title\": \"u'w', 15m-C\", \"width\": 200}, {\"layer\": [{\"mark\": {\"type\": \"errorband\", \"extent\": \"iqr\"}, \"encoding\": {\"x\": {\"field\": \"tau\", \"scale\": {\"type\": \"log\"}, \"title\": \"tau (s)\", \"type\": \"quantitative\"}, \"y\": {\"field\": \"Co\", \"type\": \"quantitative\"}}}, {\"mark\": {\"type\": \"line\"}, \"encoding\": {\"x\": {\"field\": \"tau\", \"scale\": {\"type\": \"log\"}, \"title\": \"tau (s)\", \"type\": \"quantitative\"}, \"y\": {\"aggregate\": \"mean\", \"field\": \"Co\", \"type\": \"quantitative\"}}}], \"data\": {\"url\": \"altair-data-cc76a9f43444d138babdd71965620723.json\", \"format\": {\"type\": \"json\"}}, \"height\": 200, \"title\": \"u'w', 20m-C\", \"width\": 200}], \"resolve\": {\"scale\": {\"y\": \"shared\"}}}], \"resolve\": {\"scale\": {\"y\": \"shared\"}}, \"$schema\": \"https://vega.github.io/schema/vega-lite/v5.20.1.json\"}, {\"mode\": \"vega-lite\"});\n",
       "</script>"
      ],
      "text/plain": [
       "alt.VConcatChart(...)"
      ]
     },
     "execution_count": 57,
     "metadata": {},
     "output_type": "execute_result"
    }
   ],
   "source": [
    "(\n",
    "    (\n",
    "        mrd_plot(dec21_u_w_3m_c_mrd_df, \"u'w', 3m-C\") | mrd_plot(dec21_u_w_3m_d_mrd_df, \"u'w', 3m-D\") \n",
    "        | mrd_plot(dec21_u_w_3m_ue_mrd_df, \"u'w', 3m-UE\") | mrd_plot(dec21_u_w_3m_uw_mrd_df, \"u'w', 3m-UW\")\n",
    "    ).resolve_scale(y='shared') & (\n",
    "        mrd_plot(dec21_u_w_10m_c_mrd_df, \"u'w', 10m-C\") | mrd_plot(dec21_u_w_10m_d_mrd_df, \"u'w', 10m-D\") \n",
    "        | mrd_plot(dec21_u_w_10m_ue_mrd_df, \"u'w', 10m-UE\") | mrd_plot(dec21_u_w_10m_uw_mrd_df, \"u'w', 10m-UW\")\n",
    "    ).resolve_scale(y='shared') & (\n",
    "        mrd_plot(dec21_u_w_5m_c_mrd_df, \"u'w', 5m-C\") |  mrd_plot(dec21_u_w_15m_c_mrd_df, \"u'w', 15m-C\") |  mrd_plot(dec21_u_w_20m_c_mrd_df, \"u'w', 20m-C\")\n",
    "    ).resolve_scale(y='shared')\n",
    ").resolve_scale(y='shared')"
   ]
  },
  {
   "cell_type": "code",
   "execution_count": 74,
   "metadata": {},
   "outputs": [
    {
     "data": {
      "text/html": [
       "\n",
       "<style>\n",
       "  #altair-viz-7755a20fb244487387ae6e6fd75ba862.vega-embed {\n",
       "    width: 100%;\n",
       "    display: flex;\n",
       "  }\n",
       "\n",
       "  #altair-viz-7755a20fb244487387ae6e6fd75ba862.vega-embed details,\n",
       "  #altair-viz-7755a20fb244487387ae6e6fd75ba862.vega-embed details summary {\n",
       "    position: relative;\n",
       "  }\n",
       "</style>\n",
       "<div id=\"altair-viz-7755a20fb244487387ae6e6fd75ba862\"></div>\n",
       "<script type=\"text/javascript\">\n",
       "  var VEGA_DEBUG = (typeof VEGA_DEBUG == \"undefined\") ? {} : VEGA_DEBUG;\n",
       "  (function(spec, embedOpt){\n",
       "    let outputDiv = document.currentScript.previousElementSibling;\n",
       "    if (outputDiv.id !== \"altair-viz-7755a20fb244487387ae6e6fd75ba862\") {\n",
       "      outputDiv = document.getElementById(\"altair-viz-7755a20fb244487387ae6e6fd75ba862\");\n",
       "    }\n",
       "    const paths = {\n",
       "      \"vega\": \"https://cdn.jsdelivr.net/npm/vega@5?noext\",\n",
       "      \"vega-lib\": \"https://cdn.jsdelivr.net/npm/vega-lib?noext\",\n",
       "      \"vega-lite\": \"https://cdn.jsdelivr.net/npm/vega-lite@5.20.1?noext\",\n",
       "      \"vega-embed\": \"https://cdn.jsdelivr.net/npm/vega-embed@6?noext\",\n",
       "    };\n",
       "\n",
       "    function maybeLoadScript(lib, version) {\n",
       "      var key = `${lib.replace(\"-\", \"\")}_version`;\n",
       "      return (VEGA_DEBUG[key] == version) ?\n",
       "        Promise.resolve(paths[lib]) :\n",
       "        new Promise(function(resolve, reject) {\n",
       "          var s = document.createElement('script');\n",
       "          document.getElementsByTagName(\"head\")[0].appendChild(s);\n",
       "          s.async = true;\n",
       "          s.onload = () => {\n",
       "            VEGA_DEBUG[key] = version;\n",
       "            return resolve(paths[lib]);\n",
       "          };\n",
       "          s.onerror = () => reject(`Error loading script: ${paths[lib]}`);\n",
       "          s.src = paths[lib];\n",
       "        });\n",
       "    }\n",
       "\n",
       "    function showError(err) {\n",
       "      outputDiv.innerHTML = `<div class=\"error\" style=\"color:red;\">${err}</div>`;\n",
       "      throw err;\n",
       "    }\n",
       "\n",
       "    function displayChart(vegaEmbed) {\n",
       "      vegaEmbed(outputDiv, spec, embedOpt)\n",
       "        .catch(err => showError(`Javascript Error: ${err.message}<br>This usually means there's a typo in your chart specification. See the javascript console for the full traceback.`));\n",
       "    }\n",
       "\n",
       "    if(typeof define === \"function\" && define.amd) {\n",
       "      requirejs.config({paths});\n",
       "      require([\"vega-embed\"], displayChart, err => showError(`Error loading script: ${err.message}`));\n",
       "    } else {\n",
       "      maybeLoadScript(\"vega\", \"5\")\n",
       "        .then(() => maybeLoadScript(\"vega-lite\", \"5.20.1\"))\n",
       "        .then(() => maybeLoadScript(\"vega-embed\", \"6\"))\n",
       "        .catch(showError)\n",
       "        .then(() => displayChart(vegaEmbed));\n",
       "    }\n",
       "  })({\"config\": {\"view\": {\"continuousWidth\": 300, \"continuousHeight\": 300}}, \"hconcat\": [{\"layer\": [{\"mark\": {\"type\": \"errorband\", \"extent\": \"iqr\"}, \"encoding\": {\"x\": {\"field\": \"tau\", \"scale\": {\"type\": \"log\"}, \"title\": \"tau (s)\", \"type\": \"quantitative\"}, \"y\": {\"field\": \"Co\", \"type\": \"quantitative\"}}}, {\"mark\": {\"type\": \"line\"}, \"encoding\": {\"x\": {\"field\": \"tau\", \"scale\": {\"type\": \"log\"}, \"title\": \"tau (s)\", \"type\": \"quantitative\"}, \"y\": {\"aggregate\": \"mean\", \"field\": \"Co\", \"type\": \"quantitative\"}}}, {\"layer\": [{\"mark\": {\"type\": \"errorband\", \"color\": \"#ff7f0e\", \"extent\": \"iqr\"}, \"encoding\": {\"x\": {\"field\": \"tau\", \"scale\": {\"type\": \"log\"}, \"title\": \"tau (s)\", \"type\": \"quantitative\"}, \"y\": {\"field\": \"Co\", \"type\": \"quantitative\"}}}, {\"mark\": {\"type\": \"line\", \"color\": \"#ff7f0e\"}, \"encoding\": {\"x\": {\"field\": \"tau\", \"scale\": {\"type\": \"log\"}, \"title\": \"tau (s)\", \"type\": \"quantitative\"}, \"y\": {\"aggregate\": \"mean\", \"field\": \"Co\", \"type\": \"quantitative\"}}}], \"data\": {\"url\": \"altair-data-b5d38e090f20bcab562593c7cd056ba7.json\", \"format\": {\"type\": \"json\"}}, \"title\": \"u'w', 3m-C\"}, {\"layer\": [{\"mark\": {\"type\": \"errorband\", \"color\": \"#ff7f0e\", \"extent\": \"iqr\"}, \"encoding\": {\"x\": {\"field\": \"tau\", \"scale\": {\"type\": \"log\"}, \"title\": \"tau (s)\", \"type\": \"quantitative\"}, \"y\": {\"field\": \"Co\", \"type\": \"quantitative\"}}}, {\"mark\": {\"type\": \"line\", \"color\": \"#ff7f0e\"}, \"encoding\": {\"x\": {\"field\": \"tau\", \"scale\": {\"type\": \"log\"}, \"title\": \"tau (s)\", \"type\": \"quantitative\"}, \"y\": {\"aggregate\": \"mean\", \"field\": \"Co\", \"type\": \"quantitative\"}}}], \"data\": {\"url\": \"altair-data-3f9d7b44281a4d828386d780727d60ea.json\", \"format\": {\"type\": \"json\"}}, \"title\": \"u'w', 3m-C\"}, {\"layer\": [{\"mark\": {\"type\": \"errorband\", \"color\": \"#ff7f0e\", \"extent\": \"iqr\"}, \"encoding\": {\"x\": {\"field\": \"tau\", \"scale\": {\"type\": \"log\"}, \"title\": \"tau (s)\", \"type\": \"quantitative\"}, \"y\": {\"field\": \"Co\", \"type\": \"quantitative\"}}}, {\"mark\": {\"type\": \"line\", \"color\": \"#ff7f0e\"}, \"encoding\": {\"x\": {\"field\": \"tau\", \"scale\": {\"type\": \"log\"}, \"title\": \"tau (s)\", \"type\": \"quantitative\"}, \"y\": {\"aggregate\": \"mean\", \"field\": \"Co\", \"type\": \"quantitative\"}}}], \"data\": {\"url\": \"altair-data-d8ea4891c20cba564df555e5394b5dff.json\", \"format\": {\"type\": \"json\"}}, \"title\": \"u'w', 3m-C\"}, {\"layer\": [{\"mark\": {\"type\": \"errorband\", \"color\": \"#ff7f0e\", \"extent\": \"iqr\"}, \"encoding\": {\"x\": {\"field\": \"tau\", \"scale\": {\"type\": \"log\"}, \"title\": \"tau (s)\", \"type\": \"quantitative\"}, \"y\": {\"field\": \"Co\", \"type\": \"quantitative\"}}}, {\"mark\": {\"type\": \"line\", \"color\": \"#ff7f0e\"}, \"encoding\": {\"x\": {\"field\": \"tau\", \"scale\": {\"type\": \"log\"}, \"title\": \"tau (s)\", \"type\": \"quantitative\"}, \"y\": {\"aggregate\": \"mean\", \"field\": \"Co\", \"type\": \"quantitative\"}}}], \"data\": {\"url\": \"altair-data-1a2ebe9fac9d938e7d2020e6d1095f09.json\", \"format\": {\"type\": \"json\"}}, \"title\": \"u'w', 3m-C\"}], \"data\": {\"url\": \"altair-data-f31151071aab9e8efa36ac2a2676f255.json\", \"format\": {\"type\": \"json\"}}, \"height\": 200, \"title\": \"u'w', 3m-C\", \"width\": 200}, {\"layer\": [{\"mark\": {\"type\": \"errorband\", \"extent\": \"iqr\"}, \"encoding\": {\"x\": {\"field\": \"tau\", \"scale\": {\"type\": \"log\"}, \"title\": \"tau (s)\", \"type\": \"quantitative\"}, \"y\": {\"field\": \"Co\", \"type\": \"quantitative\"}}}, {\"mark\": {\"type\": \"line\"}, \"encoding\": {\"x\": {\"field\": \"tau\", \"scale\": {\"type\": \"log\"}, \"title\": \"tau (s)\", \"type\": \"quantitative\"}, \"y\": {\"aggregate\": \"mean\", \"field\": \"Co\", \"type\": \"quantitative\"}}}, {\"layer\": [{\"mark\": {\"type\": \"errorband\", \"color\": \"#ff7f0e\", \"extent\": \"iqr\"}, \"encoding\": {\"x\": {\"field\": \"tau\", \"scale\": {\"type\": \"log\"}, \"title\": \"tau (s)\", \"type\": \"quantitative\"}, \"y\": {\"field\": \"Co\", \"type\": \"quantitative\"}}}, {\"mark\": {\"type\": \"line\", \"color\": \"#ff7f0e\"}, \"encoding\": {\"x\": {\"field\": \"tau\", \"scale\": {\"type\": \"log\"}, \"title\": \"tau (s)\", \"type\": \"quantitative\"}, \"y\": {\"aggregate\": \"mean\", \"field\": \"Co\", \"type\": \"quantitative\"}}}], \"data\": {\"url\": \"altair-data-f12df434ec3e9a62006e4a3013e3d9cc.json\", \"format\": {\"type\": \"json\"}}, \"title\": \"u'w', 10m-C\"}], \"data\": {\"url\": \"altair-data-60e690fa9e5862c78cc918d4a863e6f5.json\", \"format\": {\"type\": \"json\"}}, \"height\": 200, \"title\": \"u'w', 10m-C\", \"width\": 200}, {\"layer\": [{\"mark\": {\"type\": \"errorband\", \"extent\": \"iqr\"}, \"encoding\": {\"x\": {\"field\": \"tau\", \"scale\": {\"type\": \"log\"}, \"title\": \"tau (s)\", \"type\": \"quantitative\"}, \"y\": {\"field\": \"Co\", \"type\": \"quantitative\"}}}, {\"mark\": {\"type\": \"line\"}, \"encoding\": {\"x\": {\"field\": \"tau\", \"scale\": {\"type\": \"log\"}, \"title\": \"tau (s)\", \"type\": \"quantitative\"}, \"y\": {\"aggregate\": \"mean\", \"field\": \"Co\", \"type\": \"quantitative\"}}}, {\"layer\": [{\"mark\": {\"type\": \"errorband\", \"color\": \"#ff7f0e\", \"extent\": \"iqr\"}, \"encoding\": {\"x\": {\"field\": \"tau\", \"scale\": {\"type\": \"log\"}, \"title\": \"tau (s)\", \"type\": \"quantitative\"}, \"y\": {\"field\": \"Co\", \"type\": \"quantitative\"}}}, {\"mark\": {\"type\": \"line\", \"color\": \"#ff7f0e\"}, \"encoding\": {\"x\": {\"field\": \"tau\", \"scale\": {\"type\": \"log\"}, \"title\": \"tau (s)\", \"type\": \"quantitative\"}, \"y\": {\"aggregate\": \"mean\", \"field\": \"Co\", \"type\": \"quantitative\"}}}], \"data\": {\"url\": \"altair-data-574a332c45fb9908b9271fddcced160a.json\", \"format\": {\"type\": \"json\"}}, \"title\": \"u'w', 5m-C\"}], \"data\": {\"url\": \"altair-data-87e43e0eda0f5c4690d4561e263e3846.json\", \"format\": {\"type\": \"json\"}}, \"height\": 200, \"title\": \"u'w', 5m-C\", \"width\": 200}], \"$schema\": \"https://vega.github.io/schema/vega-lite/v5.20.1.json\"}, {\"mode\": \"vega-lite\"});\n",
       "</script>"
      ],
      "text/plain": [
       "alt.HConcatChart(...)"
      ]
     },
     "execution_count": 74,
     "metadata": {},
     "output_type": "execute_result"
    }
   ],
   "source": [
    "(mrd_plot(dec21_u_w_3m_c_mrd_df, \"u'w', 3m-C\") + mrd_plot(apr18_u_w_3m_c_mrd_df, \"u'w', 3m-C\", color='#ff7f0e') + mrd_plot(apr18_u_w_3m_d_mrd_df, \"u'w', 3m-C\", color='#ff7f0e') + mrd_plot(apr18_u_w_3m_ue_mrd_df, \"u'w', 3m-C\", color='#ff7f0e') + mrd_plot(apr18_u_w_3m_uw_mrd_df, \"u'w', 3m-C\", color='#ff7f0e')) |\\\n",
    "(mrd_plot(dec21_u_w_10m_c_mrd_df, \"u'w', 10m-C\") + mrd_plot(apr18_u_w_10m_c_mrd_df, \"u'w', 10m-C\", color='#ff7f0e')) |\\\n",
    "(mrd_plot(dec21_u_w_5m_c_mrd_df, \"u'w', 5m-C\") + mrd_plot(apr18_u_w_5m_c_mrd_df, \"u'w', 5m-C\", color='#ff7f0e'))"
   ]
  },
  {
   "cell_type": "markdown",
   "metadata": {},
   "source": [
    "### Isotropic stress cospectra - tower c 3 and 10m"
   ]
  },
  {
   "cell_type": "code",
   "execution_count": 48,
   "metadata": {},
   "outputs": [
    {
     "name": "stdout",
     "output_type": "stream",
     "text": [
      "Got data of length 216000. using M = 17\n",
      "Timestep of fast data is: 50.0 ms\n",
      "Dataset of length 216000, with M = 17, permits 42 iterations.\n"
     ]
    },
    {
     "name": "stderr",
     "output_type": "stream",
     "text": []
    },
    {
     "name": "stderr",
     "output_type": "stream",
     "text": [
      "100%|██████████| 42/42 [00:14<00:00,  2.99it/s]\n"
     ]
    },
    {
     "name": "stdout",
     "output_type": "stream",
     "text": [
      "Got data of length 216000. using M = 17\n",
      "Timestep of fast data is: 50.0 ms\n",
      "Dataset of length 216000, with M = 17, permits 42 iterations.\n"
     ]
    },
    {
     "name": "stderr",
     "output_type": "stream",
     "text": [
      "100%|██████████| 42/42 [00:13<00:00,  3.05it/s]\n"
     ]
    },
    {
     "name": "stdout",
     "output_type": "stream",
     "text": [
      "Got data of length 216000. using M = 17\n",
      "Timestep of fast data is: 50.0 ms\n",
      "Dataset of length 216000, with M = 17, permits 42 iterations.\n"
     ]
    },
    {
     "name": "stderr",
     "output_type": "stream",
     "text": [
      "100%|██████████| 42/42 [00:13<00:00,  3.04it/s]\n"
     ]
    },
    {
     "name": "stdout",
     "output_type": "stream",
     "text": [
      "Got data of length 216000. using M = 17\n",
      "Timestep of fast data is: 50.0 ms\n",
      "Dataset of length 216000, with M = 17, permits 42 iterations.\n"
     ]
    },
    {
     "name": "stderr",
     "output_type": "stream",
     "text": [
      "100%|██████████| 42/42 [00:13<00:00,  3.05it/s]\n"
     ]
    },
    {
     "name": "stdout",
     "output_type": "stream",
     "text": [
      "Got data of length 216000. using M = 17\n",
      "Timestep of fast data is: 50.0 ms\n",
      "Dataset of length 216000, with M = 17, permits 42 iterations.\n"
     ]
    },
    {
     "name": "stderr",
     "output_type": "stream",
     "text": [
      "100%|██████████| 42/42 [00:13<00:00,  3.03it/s]\n"
     ]
    },
    {
     "name": "stdout",
     "output_type": "stream",
     "text": [
      "Got data of length 216000. using M = 17\n",
      "Timestep of fast data is: 50.0 ms\n",
      "Dataset of length 216000, with M = 17, permits 42 iterations.\n"
     ]
    },
    {
     "name": "stderr",
     "output_type": "stream",
     "text": [
      "100%|██████████| 42/42 [00:13<00:00,  3.04it/s]\n"
     ]
    }
   ],
   "source": [
    "dec21_u_u_3m_c_mrd_df = calculate_mrd_for_df(dec21_df, 'u_3m_c', 'u_3m_c', shift = 2000, parallelism=8)\n",
    "dec21_v_v_3m_c_mrd_df = calculate_mrd_for_df(dec21_df, 'v_3m_c', 'v_3m_c', shift = 2000, parallelism=8)\n",
    "dec21_w_w_3m_c_mrd_df = calculate_mrd_for_df(dec21_df, 'w_3m_c', 'w_3m_c', shift = 2000, parallelism=8)\n",
    "\n",
    "dec21_u_u_10m_c_mrd_df = calculate_mrd_for_df(dec21_df, 'u_10m_c', 'u_10m_c', shift = 2000, parallelism=8)\n",
    "dec21_v_v_10m_c_mrd_df = calculate_mrd_for_df(dec21_df, 'v_10m_c', 'v_10m_c', shift = 2000, parallelism=8)\n",
    "dec21_w_w_10m_c_mrd_df = calculate_mrd_for_df(dec21_df, 'w_10m_c', 'w_10m_c', shift = 2000, parallelism=8)"
   ]
  },
  {
   "cell_type": "code",
   "execution_count": 49,
   "metadata": {},
   "outputs": [
    {
     "data": {
      "text/html": [
       "\n",
       "<style>\n",
       "  #altair-viz-83be3567632744b4852623785d9cf56c.vega-embed {\n",
       "    width: 100%;\n",
       "    display: flex;\n",
       "  }\n",
       "\n",
       "  #altair-viz-83be3567632744b4852623785d9cf56c.vega-embed details,\n",
       "  #altair-viz-83be3567632744b4852623785d9cf56c.vega-embed details summary {\n",
       "    position: relative;\n",
       "  }\n",
       "</style>\n",
       "<div id=\"altair-viz-83be3567632744b4852623785d9cf56c\"></div>\n",
       "<script type=\"text/javascript\">\n",
       "  var VEGA_DEBUG = (typeof VEGA_DEBUG == \"undefined\") ? {} : VEGA_DEBUG;\n",
       "  (function(spec, embedOpt){\n",
       "    let outputDiv = document.currentScript.previousElementSibling;\n",
       "    if (outputDiv.id !== \"altair-viz-83be3567632744b4852623785d9cf56c\") {\n",
       "      outputDiv = document.getElementById(\"altair-viz-83be3567632744b4852623785d9cf56c\");\n",
       "    }\n",
       "    const paths = {\n",
       "      \"vega\": \"https://cdn.jsdelivr.net/npm/vega@5?noext\",\n",
       "      \"vega-lib\": \"https://cdn.jsdelivr.net/npm/vega-lib?noext\",\n",
       "      \"vega-lite\": \"https://cdn.jsdelivr.net/npm/vega-lite@5.20.1?noext\",\n",
       "      \"vega-embed\": \"https://cdn.jsdelivr.net/npm/vega-embed@6?noext\",\n",
       "    };\n",
       "\n",
       "    function maybeLoadScript(lib, version) {\n",
       "      var key = `${lib.replace(\"-\", \"\")}_version`;\n",
       "      return (VEGA_DEBUG[key] == version) ?\n",
       "        Promise.resolve(paths[lib]) :\n",
       "        new Promise(function(resolve, reject) {\n",
       "          var s = document.createElement('script');\n",
       "          document.getElementsByTagName(\"head\")[0].appendChild(s);\n",
       "          s.async = true;\n",
       "          s.onload = () => {\n",
       "            VEGA_DEBUG[key] = version;\n",
       "            return resolve(paths[lib]);\n",
       "          };\n",
       "          s.onerror = () => reject(`Error loading script: ${paths[lib]}`);\n",
       "          s.src = paths[lib];\n",
       "        });\n",
       "    }\n",
       "\n",
       "    function showError(err) {\n",
       "      outputDiv.innerHTML = `<div class=\"error\" style=\"color:red;\">${err}</div>`;\n",
       "      throw err;\n",
       "    }\n",
       "\n",
       "    function displayChart(vegaEmbed) {\n",
       "      vegaEmbed(outputDiv, spec, embedOpt)\n",
       "        .catch(err => showError(`Javascript Error: ${err.message}<br>This usually means there's a typo in your chart specification. See the javascript console for the full traceback.`));\n",
       "    }\n",
       "\n",
       "    if(typeof define === \"function\" && define.amd) {\n",
       "      requirejs.config({paths});\n",
       "      require([\"vega-embed\"], displayChart, err => showError(`Error loading script: ${err.message}`));\n",
       "    } else {\n",
       "      maybeLoadScript(\"vega\", \"5\")\n",
       "        .then(() => maybeLoadScript(\"vega-lite\", \"5.20.1\"))\n",
       "        .then(() => maybeLoadScript(\"vega-embed\", \"6\"))\n",
       "        .catch(showError)\n",
       "        .then(() => displayChart(vegaEmbed));\n",
       "    }\n",
       "  })({\"config\": {\"view\": {\"continuousWidth\": 300, \"continuousHeight\": 300}}, \"hconcat\": [{\"vconcat\": [{\"hconcat\": [{\"layer\": [{\"mark\": {\"type\": \"errorband\", \"extent\": \"iqr\"}, \"encoding\": {\"x\": {\"field\": \"tau\", \"scale\": {\"type\": \"log\"}, \"title\": \"tau (s)\", \"type\": \"quantitative\"}, \"y\": {\"field\": \"Co\", \"type\": \"quantitative\"}}}, {\"mark\": {\"type\": \"line\"}, \"encoding\": {\"x\": {\"field\": \"tau\", \"scale\": {\"type\": \"log\"}, \"title\": \"tau (s)\", \"type\": \"quantitative\"}, \"y\": {\"aggregate\": \"mean\", \"field\": \"Co\", \"type\": \"quantitative\"}}}], \"data\": {\"url\": \"altair-data-52a8d28a03eae22d0deda9d11394ae1e.json\", \"format\": {\"type\": \"json\"}}, \"height\": 200, \"title\": \"u'u', 3m-C\", \"width\": 200}, {\"layer\": [{\"mark\": {\"type\": \"errorband\", \"extent\": \"iqr\"}, \"encoding\": {\"x\": {\"field\": \"tau\", \"scale\": {\"type\": \"log\"}, \"title\": \"tau (s)\", \"type\": \"quantitative\"}, \"y\": {\"field\": \"Co\", \"type\": \"quantitative\"}}}, {\"mark\": {\"type\": \"line\"}, \"encoding\": {\"x\": {\"field\": \"tau\", \"scale\": {\"type\": \"log\"}, \"title\": \"tau (s)\", \"type\": \"quantitative\"}, \"y\": {\"aggregate\": \"mean\", \"field\": \"Co\", \"type\": \"quantitative\"}}}], \"data\": {\"url\": \"altair-data-9eed3d9adbaf8b017606c1b9cbd8fe26.json\", \"format\": {\"type\": \"json\"}}, \"height\": 200, \"title\": \"v'v', 3m-C\", \"width\": 200}], \"resolve\": {\"scale\": {\"y\": \"shared\"}}}, {\"hconcat\": [{\"layer\": [{\"mark\": {\"type\": \"errorband\", \"extent\": \"iqr\"}, \"encoding\": {\"x\": {\"field\": \"tau\", \"scale\": {\"type\": \"log\"}, \"title\": \"tau (s)\", \"type\": \"quantitative\"}, \"y\": {\"field\": \"Co\", \"type\": \"quantitative\"}}}, {\"mark\": {\"type\": \"line\"}, \"encoding\": {\"x\": {\"field\": \"tau\", \"scale\": {\"type\": \"log\"}, \"title\": \"tau (s)\", \"type\": \"quantitative\"}, \"y\": {\"aggregate\": \"mean\", \"field\": \"Co\", \"type\": \"quantitative\"}}}], \"data\": {\"url\": \"altair-data-a9223ca3730070dc7c3c0971f9fedaeb.json\", \"format\": {\"type\": \"json\"}}, \"height\": 200, \"title\": \"u'u', 10-C\", \"width\": 200}, {\"layer\": [{\"mark\": {\"type\": \"errorband\", \"extent\": \"iqr\"}, \"encoding\": {\"x\": {\"field\": \"tau\", \"scale\": {\"type\": \"log\"}, \"title\": \"tau (s)\", \"type\": \"quantitative\"}, \"y\": {\"field\": \"Co\", \"type\": \"quantitative\"}}}, {\"mark\": {\"type\": \"line\"}, \"encoding\": {\"x\": {\"field\": \"tau\", \"scale\": {\"type\": \"log\"}, \"title\": \"tau (s)\", \"type\": \"quantitative\"}, \"y\": {\"aggregate\": \"mean\", \"field\": \"Co\", \"type\": \"quantitative\"}}}], \"data\": {\"url\": \"altair-data-1346f107e4199b51584f8c317c70384f.json\", \"format\": {\"type\": \"json\"}}, \"height\": 200, \"title\": \"v'v', 3m-C\", \"width\": 200}], \"resolve\": {\"scale\": {\"y\": \"shared\"}}}], \"resolve\": {\"scale\": {\"y\": \"shared\"}}}, {\"vconcat\": [{\"layer\": [{\"mark\": {\"type\": \"errorband\", \"extent\": \"iqr\"}, \"encoding\": {\"x\": {\"field\": \"tau\", \"scale\": {\"type\": \"log\"}, \"title\": \"tau (s)\", \"type\": \"quantitative\"}, \"y\": {\"field\": \"Co\", \"type\": \"quantitative\"}}}, {\"mark\": {\"type\": \"line\"}, \"encoding\": {\"x\": {\"field\": \"tau\", \"scale\": {\"type\": \"log\"}, \"title\": \"tau (s)\", \"type\": \"quantitative\"}, \"y\": {\"aggregate\": \"mean\", \"field\": \"Co\", \"type\": \"quantitative\"}}}], \"data\": {\"url\": \"altair-data-0c79f4d7311af6332d5d765f757ea991.json\", \"format\": {\"type\": \"json\"}}, \"height\": 200, \"title\": \"w'w', 3m-C\", \"width\": 200}, {\"layer\": [{\"mark\": {\"type\": \"errorband\", \"extent\": \"iqr\"}, \"encoding\": {\"x\": {\"field\": \"tau\", \"scale\": {\"type\": \"log\"}, \"title\": \"tau (s)\", \"type\": \"quantitative\"}, \"y\": {\"field\": \"Co\", \"type\": \"quantitative\"}}}, {\"mark\": {\"type\": \"line\"}, \"encoding\": {\"x\": {\"field\": \"tau\", \"scale\": {\"type\": \"log\"}, \"title\": \"tau (s)\", \"type\": \"quantitative\"}, \"y\": {\"aggregate\": \"mean\", \"field\": \"Co\", \"type\": \"quantitative\"}}}], \"data\": {\"url\": \"altair-data-a5532ee30e5bcc3cc15e8123b97a8275.json\", \"format\": {\"type\": \"json\"}}, \"height\": 200, \"title\": \"w'w', 10m-C\", \"width\": 200}], \"resolve\": {\"scale\": {\"y\": \"shared\"}}}], \"$schema\": \"https://vega.github.io/schema/vega-lite/v5.20.1.json\"}, {\"mode\": \"vega-lite\"});\n",
       "</script>"
      ],
      "text/plain": [
       "alt.HConcatChart(...)"
      ]
     },
     "execution_count": 49,
     "metadata": {},
     "output_type": "execute_result"
    }
   ],
   "source": [
    "((\n",
    "    mrd_plot(dec21_u_u_3m_c_mrd_df, \"u'u', 3m-C\") | mrd_plot(dec21_v_v_3m_c_mrd_df, \"v'v', 3m-C\") \n",
    ").resolve_scale(y='shared') & (\n",
    "    mrd_plot(dec21_u_u_10m_c_mrd_df, \"u'u', 10-C\") | mrd_plot(dec21_v_v_10m_c_mrd_df, \"v'v', 3m-C\")\n",
    ").resolve_scale(y='shared')).resolve_scale(y='shared') | (\n",
    "    mrd_plot(dec21_w_w_3m_c_mrd_df, \"w'w', 3m-C\") & mrd_plot(dec21_w_w_10m_c_mrd_df, \"w'w', 10m-C\")\n",
    ").resolve_scale(y='shared')"
   ]
  },
  {
   "cell_type": "markdown",
   "metadata": {},
   "source": [
    "# Spectra across two months of data"
   ]
  },
  {
   "cell_type": "markdown",
   "metadata": {},
   "source": [
    "Open up all the nomrd files. Calculate a \"median time\" for joining with synoptic wind measurements"
   ]
  },
  {
   "cell_type": "code",
   "execution_count": 216,
   "metadata": {},
   "outputs": [
    {
     "data": {
      "text/html": [
       "<div>\n",
       "<style scoped>\n",
       "    .dataframe tbody tr th:only-of-type {\n",
       "        vertical-align: middle;\n",
       "    }\n",
       "\n",
       "    .dataframe tbody tr th {\n",
       "        vertical-align: top;\n",
       "    }\n",
       "\n",
       "    .dataframe thead th {\n",
       "        text-align: right;\n",
       "    }\n",
       "</style>\n",
       "<table border=\"1\" class=\"dataframe\">\n",
       "  <thead>\n",
       "    <tr style=\"text-align: right;\">\n",
       "      <th></th>\n",
       "      <th>tau</th>\n",
       "      <th>Co</th>\n",
       "      <th>std</th>\n",
       "      <th>iteration</th>\n",
       "      <th>start_time</th>\n",
       "      <th>end_time</th>\n",
       "      <th>covariance</th>\n",
       "      <th>loc</th>\n",
       "      <th>median_time</th>\n",
       "      <th>median_time_rounded</th>\n",
       "    </tr>\n",
       "  </thead>\n",
       "  <tbody>\n",
       "    <tr>\n",
       "      <th>0</th>\n",
       "      <td>0.1</td>\n",
       "      <td>-0.002316</td>\n",
       "      <td>4.401546e-02</td>\n",
       "      <td>0</td>\n",
       "      <td>2022-12-21 14:00:00</td>\n",
       "      <td>2022-12-21 15:49:13.550</td>\n",
       "      <td>u_w_</td>\n",
       "      <td>3m_c</td>\n",
       "      <td>2022-12-21 14:54:36.775</td>\n",
       "      <td>2022-12-21 15:00:00</td>\n",
       "    </tr>\n",
       "    <tr>\n",
       "      <th>1</th>\n",
       "      <td>0.2</td>\n",
       "      <td>-0.004666</td>\n",
       "      <td>4.751782e-02</td>\n",
       "      <td>0</td>\n",
       "      <td>2022-12-21 14:00:00</td>\n",
       "      <td>2022-12-21 15:49:13.550</td>\n",
       "      <td>u_w_</td>\n",
       "      <td>3m_c</td>\n",
       "      <td>2022-12-21 14:54:36.775</td>\n",
       "      <td>2022-12-21 15:00:00</td>\n",
       "    </tr>\n",
       "    <tr>\n",
       "      <th>2</th>\n",
       "      <td>0.4</td>\n",
       "      <td>-0.007815</td>\n",
       "      <td>5.590110e-02</td>\n",
       "      <td>0</td>\n",
       "      <td>2022-12-21 14:00:00</td>\n",
       "      <td>2022-12-21 15:49:13.550</td>\n",
       "      <td>u_w_</td>\n",
       "      <td>3m_c</td>\n",
       "      <td>2022-12-21 14:54:36.775</td>\n",
       "      <td>2022-12-21 15:00:00</td>\n",
       "    </tr>\n",
       "    <tr>\n",
       "      <th>3</th>\n",
       "      <td>0.8</td>\n",
       "      <td>-0.011504</td>\n",
       "      <td>6.878115e-02</td>\n",
       "      <td>0</td>\n",
       "      <td>2022-12-21 14:00:00</td>\n",
       "      <td>2022-12-21 15:49:13.550</td>\n",
       "      <td>u_w_</td>\n",
       "      <td>3m_c</td>\n",
       "      <td>2022-12-21 14:54:36.775</td>\n",
       "      <td>2022-12-21 15:00:00</td>\n",
       "    </tr>\n",
       "    <tr>\n",
       "      <th>4</th>\n",
       "      <td>1.6</td>\n",
       "      <td>-0.011965</td>\n",
       "      <td>6.791920e-02</td>\n",
       "      <td>0</td>\n",
       "      <td>2022-12-21 14:00:00</td>\n",
       "      <td>2022-12-21 15:49:13.550</td>\n",
       "      <td>u_w_</td>\n",
       "      <td>3m_c</td>\n",
       "      <td>2022-12-21 14:54:36.775</td>\n",
       "      <td>2022-12-21 15:00:00</td>\n",
       "    </tr>\n",
       "    <tr>\n",
       "      <th>...</th>\n",
       "      <td>...</td>\n",
       "      <td>...</td>\n",
       "      <td>...</td>\n",
       "      <td>...</td>\n",
       "      <td>...</td>\n",
       "      <td>...</td>\n",
       "      <td>...</td>\n",
       "      <td>...</td>\n",
       "      <td>...</td>\n",
       "      <td>...</td>\n",
       "    </tr>\n",
       "    <tr>\n",
       "      <th>12</th>\n",
       "      <td>409.6</td>\n",
       "      <td>0.000337</td>\n",
       "      <td>1.142486e-03</td>\n",
       "      <td>41</td>\n",
       "      <td>2023-04-30 16:08:20</td>\n",
       "      <td>2023-04-30 17:57:33.550</td>\n",
       "      <td>w_h2o_</td>\n",
       "      <td>10m_d</td>\n",
       "      <td>2023-04-30 17:02:56.775</td>\n",
       "      <td>2023-04-30 17:00:00</td>\n",
       "    </tr>\n",
       "    <tr>\n",
       "      <th>13</th>\n",
       "      <td>819.2</td>\n",
       "      <td>0.001552</td>\n",
       "      <td>1.921631e-03</td>\n",
       "      <td>41</td>\n",
       "      <td>2023-04-30 16:08:20</td>\n",
       "      <td>2023-04-30 17:57:33.550</td>\n",
       "      <td>w_h2o_</td>\n",
       "      <td>10m_d</td>\n",
       "      <td>2023-04-30 17:02:56.775</td>\n",
       "      <td>2023-04-30 17:00:00</td>\n",
       "    </tr>\n",
       "    <tr>\n",
       "      <th>14</th>\n",
       "      <td>1638.4</td>\n",
       "      <td>0.000481</td>\n",
       "      <td>4.260532e-04</td>\n",
       "      <td>41</td>\n",
       "      <td>2023-04-30 16:08:20</td>\n",
       "      <td>2023-04-30 17:57:33.550</td>\n",
       "      <td>w_h2o_</td>\n",
       "      <td>10m_d</td>\n",
       "      <td>2023-04-30 17:02:56.775</td>\n",
       "      <td>2023-04-30 17:00:00</td>\n",
       "    </tr>\n",
       "    <tr>\n",
       "      <th>15</th>\n",
       "      <td>3276.8</td>\n",
       "      <td>-0.000060</td>\n",
       "      <td>7.827031e-06</td>\n",
       "      <td>41</td>\n",
       "      <td>2023-04-30 16:08:20</td>\n",
       "      <td>2023-04-30 17:57:33.550</td>\n",
       "      <td>w_h2o_</td>\n",
       "      <td>10m_d</td>\n",
       "      <td>2023-04-30 17:02:56.775</td>\n",
       "      <td>2023-04-30 17:00:00</td>\n",
       "    </tr>\n",
       "    <tr>\n",
       "      <th>16</th>\n",
       "      <td>6553.6</td>\n",
       "      <td>-0.000112</td>\n",
       "      <td>2.216258e-09</td>\n",
       "      <td>41</td>\n",
       "      <td>2023-04-30 16:08:20</td>\n",
       "      <td>2023-04-30 17:57:33.550</td>\n",
       "      <td>w_h2o_</td>\n",
       "      <td>10m_d</td>\n",
       "      <td>2023-04-30 17:02:56.775</td>\n",
       "      <td>2023-04-30 17:00:00</td>\n",
       "    </tr>\n",
       "  </tbody>\n",
       "</table>\n",
       "<p>7676928 rows × 10 columns</p>\n",
       "</div>"
      ],
      "text/plain": [
       "       tau        Co           std  iteration          start_time  \\\n",
       "0      0.1 -0.002316  4.401546e-02          0 2022-12-21 14:00:00   \n",
       "1      0.2 -0.004666  4.751782e-02          0 2022-12-21 14:00:00   \n",
       "2      0.4 -0.007815  5.590110e-02          0 2022-12-21 14:00:00   \n",
       "3      0.8 -0.011504  6.878115e-02          0 2022-12-21 14:00:00   \n",
       "4      1.6 -0.011965  6.791920e-02          0 2022-12-21 14:00:00   \n",
       "..     ...       ...           ...        ...                 ...   \n",
       "12   409.6  0.000337  1.142486e-03         41 2023-04-30 16:08:20   \n",
       "13   819.2  0.001552  1.921631e-03         41 2023-04-30 16:08:20   \n",
       "14  1638.4  0.000481  4.260532e-04         41 2023-04-30 16:08:20   \n",
       "15  3276.8 -0.000060  7.827031e-06         41 2023-04-30 16:08:20   \n",
       "16  6553.6 -0.000112  2.216258e-09         41 2023-04-30 16:08:20   \n",
       "\n",
       "                  end_time covariance    loc             median_time  \\\n",
       "0  2022-12-21 15:49:13.550       u_w_   3m_c 2022-12-21 14:54:36.775   \n",
       "1  2022-12-21 15:49:13.550       u_w_   3m_c 2022-12-21 14:54:36.775   \n",
       "2  2022-12-21 15:49:13.550       u_w_   3m_c 2022-12-21 14:54:36.775   \n",
       "3  2022-12-21 15:49:13.550       u_w_   3m_c 2022-12-21 14:54:36.775   \n",
       "4  2022-12-21 15:49:13.550       u_w_   3m_c 2022-12-21 14:54:36.775   \n",
       "..                     ...        ...    ...                     ...   \n",
       "12 2023-04-30 17:57:33.550     w_h2o_  10m_d 2023-04-30 17:02:56.775   \n",
       "13 2023-04-30 17:57:33.550     w_h2o_  10m_d 2023-04-30 17:02:56.775   \n",
       "14 2023-04-30 17:57:33.550     w_h2o_  10m_d 2023-04-30 17:02:56.775   \n",
       "15 2023-04-30 17:57:33.550     w_h2o_  10m_d 2023-04-30 17:02:56.775   \n",
       "16 2023-04-30 17:57:33.550     w_h2o_  10m_d 2023-04-30 17:02:56.775   \n",
       "\n",
       "   median_time_rounded  \n",
       "0  2022-12-21 15:00:00  \n",
       "1  2022-12-21 15:00:00  \n",
       "2  2022-12-21 15:00:00  \n",
       "3  2022-12-21 15:00:00  \n",
       "4  2022-12-21 15:00:00  \n",
       "..                 ...  \n",
       "12 2023-04-30 17:00:00  \n",
       "13 2023-04-30 17:00:00  \n",
       "14 2023-04-30 17:00:00  \n",
       "15 2023-04-30 17:00:00  \n",
       "16 2023-04-30 17:00:00  \n",
       "\n",
       "[7676928 rows x 10 columns]"
      ]
     },
     "execution_count": 216,
     "metadata": {},
     "output_type": "execute_result"
    }
   ],
   "source": [
    "nomrd_df = pd.read_parquet(\"/Users/elischwat/Development/data/sublimationofsnow/mrd/NOmrds/\")\n",
    "nomrd_df['median_time'] = nomrd_df.start_time + 0.5*(nomrd_df.end_time - nomrd_df.start_time)\n",
    "nomrd_df['median_time_rounded'] = nomrd_df.median_time.dt.round('30min')\n",
    "nomrd_df"
   ]
  },
  {
   "cell_type": "markdown",
   "metadata": {},
   "source": [
    "Use doppler lidar data to identify along-valley/cross-valley synoptic flows"
   ]
  },
  {
   "cell_type": "code",
   "execution_count": 217,
   "metadata": {},
   "outputs": [],
   "source": [
    "cross_valley_wind_times = pd.read_csv('cross_valley_wind_times.csv').drop(columns='Unnamed: 0').rename(columns={'0':'time'}).set_index('time').assign(\n",
    "    wind_dir='cross-valley'\n",
    ")\n",
    "cross_valley_wind_times.index = pd.to_datetime(cross_valley_wind_times.index)\n",
    "\n",
    "along_valley_wind_times = pd.read_csv('along_valley_wind_times.csv').drop(columns='Unnamed: 0').rename(columns={'0':'time'}).set_index('time').assign(\n",
    "    wind_dir='along-valley'\n",
    ")\n",
    "along_valley_wind_times.index = pd.to_datetime(along_valley_wind_times.index)\n",
    "\n",
    "winds_ge10_times =      pd.read_csv('winds_ge10_times.csv').drop(columns='Unnamed: 0').set_index('time').assign(wind_speed='> 10')\n",
    "winds_ge10_times.index = pd.to_datetime(winds_ge10_times.index)\n",
    "winds_le10_times =      pd.read_csv('winds_le10_times.csv').drop(columns='Unnamed: 0').set_index('time').assign(wind_speed='<= 10')\n",
    "winds_le10_times.index = pd.to_datetime(winds_le10_times.index)"
   ]
  },
  {
   "cell_type": "markdown",
   "metadata": {},
   "source": [
    "Join the datasets"
   ]
  },
  {
   "cell_type": "code",
   "execution_count": 218,
   "metadata": {},
   "outputs": [],
   "source": [
    "nomrd_df_synopticwinds = pd.concat([\n",
    "    nomrd_df.set_index('median_time_rounded').join(cross_valley_wind_times, how='inner'),\n",
    "    nomrd_df.set_index('median_time_rounded').join(along_valley_wind_times, how='inner')\n",
    "])\n",
    "nomrd_df_synopticwinds = nomrd_df_synopticwinds.join(pd.concat([ winds_le10_times, winds_ge10_times]), how='inner')"
   ]
  },
  {
   "cell_type": "code",
   "execution_count": 220,
   "metadata": {},
   "outputs": [
    {
     "data": {
      "text/plain": [
       "array(['<= 10', '> 10'], dtype=object)"
      ]
     },
     "execution_count": 220,
     "metadata": {},
     "output_type": "execute_result"
    }
   ],
   "source": [
    "nomrd_df_synopticwinds.wind_speed.unique()"
   ]
  },
  {
   "cell_type": "code",
   "execution_count": 227,
   "metadata": {},
   "outputs": [
    {
     "data": {
      "text/html": [
       "\n",
       "<style>\n",
       "  #altair-viz-4ade33ae0dc149bc9c16b251729637c3.vega-embed {\n",
       "    width: 100%;\n",
       "    display: flex;\n",
       "  }\n",
       "\n",
       "  #altair-viz-4ade33ae0dc149bc9c16b251729637c3.vega-embed details,\n",
       "  #altair-viz-4ade33ae0dc149bc9c16b251729637c3.vega-embed details summary {\n",
       "    position: relative;\n",
       "  }\n",
       "</style>\n",
       "<div id=\"altair-viz-4ade33ae0dc149bc9c16b251729637c3\"></div>\n",
       "<script type=\"text/javascript\">\n",
       "  var VEGA_DEBUG = (typeof VEGA_DEBUG == \"undefined\") ? {} : VEGA_DEBUG;\n",
       "  (function(spec, embedOpt){\n",
       "    let outputDiv = document.currentScript.previousElementSibling;\n",
       "    if (outputDiv.id !== \"altair-viz-4ade33ae0dc149bc9c16b251729637c3\") {\n",
       "      outputDiv = document.getElementById(\"altair-viz-4ade33ae0dc149bc9c16b251729637c3\");\n",
       "    }\n",
       "    const paths = {\n",
       "      \"vega\": \"https://cdn.jsdelivr.net/npm/vega@5?noext\",\n",
       "      \"vega-lib\": \"https://cdn.jsdelivr.net/npm/vega-lib?noext\",\n",
       "      \"vega-lite\": \"https://cdn.jsdelivr.net/npm/vega-lite@5.20.1?noext\",\n",
       "      \"vega-embed\": \"https://cdn.jsdelivr.net/npm/vega-embed@6?noext\",\n",
       "    };\n",
       "\n",
       "    function maybeLoadScript(lib, version) {\n",
       "      var key = `${lib.replace(\"-\", \"\")}_version`;\n",
       "      return (VEGA_DEBUG[key] == version) ?\n",
       "        Promise.resolve(paths[lib]) :\n",
       "        new Promise(function(resolve, reject) {\n",
       "          var s = document.createElement('script');\n",
       "          document.getElementsByTagName(\"head\")[0].appendChild(s);\n",
       "          s.async = true;\n",
       "          s.onload = () => {\n",
       "            VEGA_DEBUG[key] = version;\n",
       "            return resolve(paths[lib]);\n",
       "          };\n",
       "          s.onerror = () => reject(`Error loading script: ${paths[lib]}`);\n",
       "          s.src = paths[lib];\n",
       "        });\n",
       "    }\n",
       "\n",
       "    function showError(err) {\n",
       "      outputDiv.innerHTML = `<div class=\"error\" style=\"color:red;\">${err}</div>`;\n",
       "      throw err;\n",
       "    }\n",
       "\n",
       "    function displayChart(vegaEmbed) {\n",
       "      vegaEmbed(outputDiv, spec, embedOpt)\n",
       "        .catch(err => showError(`Javascript Error: ${err.message}<br>This usually means there's a typo in your chart specification. See the javascript console for the full traceback.`));\n",
       "    }\n",
       "\n",
       "    if(typeof define === \"function\" && define.amd) {\n",
       "      requirejs.config({paths});\n",
       "      require([\"vega-embed\"], displayChart, err => showError(`Error loading script: ${err.message}`));\n",
       "    } else {\n",
       "      maybeLoadScript(\"vega\", \"5\")\n",
       "        .then(() => maybeLoadScript(\"vega-lite\", \"5.20.1\"))\n",
       "        .then(() => maybeLoadScript(\"vega-embed\", \"6\"))\n",
       "        .catch(showError)\n",
       "        .then(() => displayChart(vegaEmbed));\n",
       "    }\n",
       "  })({\"config\": {\"view\": {\"continuousWidth\": 300, \"continuousHeight\": 300}}, \"hconcat\": [{\"data\": {\"url\": \"altair-data-486eb44fc7cbd2ea0d04199ec166d6ab.json\", \"format\": {\"type\": \"json\"}}, \"mark\": {\"type\": \"line\"}, \"encoding\": {\"color\": {\"field\": \"wind_dir\", \"type\": \"nominal\"}, \"row\": {\"field\": \"wind_speed\", \"type\": \"nominal\"}, \"x\": {\"field\": \"tau\", \"scale\": {\"type\": \"log\"}, \"type\": \"quantitative\"}, \"y\": {\"aggregate\": \"mean\", \"field\": \"Co\", \"type\": \"quantitative\"}}, \"height\": 200, \"title\": \"u'w', 3m-c\", \"width\": 200}, {\"data\": {\"url\": \"altair-data-9269d205f3ce61d4f3190909e801c662.json\", \"format\": {\"type\": \"json\"}}, \"mark\": {\"type\": \"line\"}, \"encoding\": {\"color\": {\"field\": \"wind_dir\", \"type\": \"nominal\"}, \"row\": {\"field\": \"wind_speed\", \"type\": \"nominal\"}, \"x\": {\"field\": \"tau\", \"scale\": {\"type\": \"log\"}, \"type\": \"quantitative\"}, \"y\": {\"aggregate\": \"mean\", \"field\": \"Co\", \"type\": \"quantitative\"}}, \"height\": 200, \"title\": \"u'w', 5m-c\", \"width\": 200}], \"resolve\": {\"scale\": {\"x\": \"shared\", \"y\": \"shared\"}}, \"$schema\": \"https://vega.github.io/schema/vega-lite/v5.20.1.json\"}, {\"mode\": \"vega-lite\"});\n",
       "</script>"
      ],
      "text/plain": [
       "alt.HConcatChart(...)"
      ]
     },
     "execution_count": 227,
     "metadata": {},
     "output_type": "execute_result"
    }
   ],
   "source": [
    "(alt.Chart(\n",
    "    nomrd_df_synopticwinds.query(\"covariance == 'u_w_'\").query(\"loc == '3m_c'\")\n",
    ").mark_line().encode(\n",
    "    alt.X('tau:Q').scale(type='log'),\n",
    "    alt.Y('mean(Co):Q'),\n",
    "    alt.Color('wind_dir:N'),\n",
    "    alt.Row('wind_speed')\n",
    ").properties(width=200, height=200, title = \"u'w', 3m-c\") | alt.Chart(\n",
    "    nomrd_df_synopticwinds.query(\"covariance == 'u_w_'\").query(\"loc == '5m_c'\")\n",
    ").mark_line().encode(\n",
    "    alt.X('tau:Q').scale(type='log'),\n",
    "    alt.Y('mean(Co):Q'),\n",
    "    alt.Color('wind_dir:N'),\n",
    "    alt.Row('wind_speed')\n",
    ").properties(width=200, height=200, title = \"u'w', 5m-c\")).resolve_scale(x='shared', y='shared')"
   ]
  },
  {
   "cell_type": "code",
   "execution_count": 229,
   "metadata": {},
   "outputs": [
    {
     "data": {
      "text/html": [
       "\n",
       "<style>\n",
       "  #altair-viz-34f9b0b5bcf84375b163887481d8f74d.vega-embed {\n",
       "    width: 100%;\n",
       "    display: flex;\n",
       "  }\n",
       "\n",
       "  #altair-viz-34f9b0b5bcf84375b163887481d8f74d.vega-embed details,\n",
       "  #altair-viz-34f9b0b5bcf84375b163887481d8f74d.vega-embed details summary {\n",
       "    position: relative;\n",
       "  }\n",
       "</style>\n",
       "<div id=\"altair-viz-34f9b0b5bcf84375b163887481d8f74d\"></div>\n",
       "<script type=\"text/javascript\">\n",
       "  var VEGA_DEBUG = (typeof VEGA_DEBUG == \"undefined\") ? {} : VEGA_DEBUG;\n",
       "  (function(spec, embedOpt){\n",
       "    let outputDiv = document.currentScript.previousElementSibling;\n",
       "    if (outputDiv.id !== \"altair-viz-34f9b0b5bcf84375b163887481d8f74d\") {\n",
       "      outputDiv = document.getElementById(\"altair-viz-34f9b0b5bcf84375b163887481d8f74d\");\n",
       "    }\n",
       "    const paths = {\n",
       "      \"vega\": \"https://cdn.jsdelivr.net/npm/vega@5?noext\",\n",
       "      \"vega-lib\": \"https://cdn.jsdelivr.net/npm/vega-lib?noext\",\n",
       "      \"vega-lite\": \"https://cdn.jsdelivr.net/npm/vega-lite@5.20.1?noext\",\n",
       "      \"vega-embed\": \"https://cdn.jsdelivr.net/npm/vega-embed@6?noext\",\n",
       "    };\n",
       "\n",
       "    function maybeLoadScript(lib, version) {\n",
       "      var key = `${lib.replace(\"-\", \"\")}_version`;\n",
       "      return (VEGA_DEBUG[key] == version) ?\n",
       "        Promise.resolve(paths[lib]) :\n",
       "        new Promise(function(resolve, reject) {\n",
       "          var s = document.createElement('script');\n",
       "          document.getElementsByTagName(\"head\")[0].appendChild(s);\n",
       "          s.async = true;\n",
       "          s.onload = () => {\n",
       "            VEGA_DEBUG[key] = version;\n",
       "            return resolve(paths[lib]);\n",
       "          };\n",
       "          s.onerror = () => reject(`Error loading script: ${paths[lib]}`);\n",
       "          s.src = paths[lib];\n",
       "        });\n",
       "    }\n",
       "\n",
       "    function showError(err) {\n",
       "      outputDiv.innerHTML = `<div class=\"error\" style=\"color:red;\">${err}</div>`;\n",
       "      throw err;\n",
       "    }\n",
       "\n",
       "    function displayChart(vegaEmbed) {\n",
       "      vegaEmbed(outputDiv, spec, embedOpt)\n",
       "        .catch(err => showError(`Javascript Error: ${err.message}<br>This usually means there's a typo in your chart specification. See the javascript console for the full traceback.`));\n",
       "    }\n",
       "\n",
       "    if(typeof define === \"function\" && define.amd) {\n",
       "      requirejs.config({paths});\n",
       "      require([\"vega-embed\"], displayChart, err => showError(`Error loading script: ${err.message}`));\n",
       "    } else {\n",
       "      maybeLoadScript(\"vega\", \"5\")\n",
       "        .then(() => maybeLoadScript(\"vega-lite\", \"5.20.1\"))\n",
       "        .then(() => maybeLoadScript(\"vega-embed\", \"6\"))\n",
       "        .catch(showError)\n",
       "        .then(() => displayChart(vegaEmbed));\n",
       "    }\n",
       "  })({\"config\": {\"view\": {\"continuousWidth\": 300, \"continuousHeight\": 300}}, \"hconcat\": [{\"data\": {\"url\": \"altair-data-08bb00502b2e13802374dd1aec3d4ad7.json\", \"format\": {\"type\": \"json\"}}, \"mark\": {\"type\": \"line\"}, \"encoding\": {\"color\": {\"field\": \"wind_dir\", \"type\": \"nominal\"}, \"row\": {\"field\": \"wind_speed\", \"type\": \"nominal\"}, \"x\": {\"field\": \"tau\", \"scale\": {\"type\": \"log\"}, \"type\": \"quantitative\"}, \"y\": {\"aggregate\": \"mean\", \"field\": \"Co\", \"scale\": {\"domain\": [-0.001, 0.005], \"clamp\": true}, \"type\": \"quantitative\"}}, \"height\": 200, \"title\": \"u'w', 3m-c\", \"width\": 200}, {\"data\": {\"url\": \"altair-data-9c12b41d7b57a0699bba6370e0ba1cd4.json\", \"format\": {\"type\": \"json\"}}, \"mark\": {\"type\": \"line\"}, \"encoding\": {\"color\": {\"field\": \"wind_dir\", \"type\": \"nominal\"}, \"row\": {\"field\": \"wind_speed\", \"type\": \"nominal\"}, \"x\": {\"field\": \"tau\", \"scale\": {\"type\": \"log\"}, \"type\": \"quantitative\"}, \"y\": {\"aggregate\": \"mean\", \"field\": \"Co\", \"scale\": {\"domain\": [-0.001, 0.005], \"clamp\": true}, \"type\": \"quantitative\"}}, \"height\": 200, \"title\": \"u'w', 5m-c\", \"width\": 200}], \"resolve\": {\"scale\": {\"x\": \"shared\", \"y\": \"shared\"}}, \"$schema\": \"https://vega.github.io/schema/vega-lite/v5.20.1.json\"}, {\"mode\": \"vega-lite\"});\n",
       "</script>"
      ],
      "text/plain": [
       "alt.HConcatChart(...)"
      ]
     },
     "execution_count": 229,
     "metadata": {},
     "output_type": "execute_result"
    }
   ],
   "source": [
    "(alt.Chart(\n",
    "    nomrd_df_synopticwinds.query(\"covariance == 'v_w_'\").query(\"loc == '3m_c'\")\n",
    ").mark_line().encode(\n",
    "    alt.X('tau:Q').scale(type='log'),\n",
    "    alt.Y('mean(Co):Q').scale(domain = [-0.001, 0.005], clamp=True),\n",
    "    alt.Color('wind_dir:N'),\n",
    "    alt.Row('wind_speed')\n",
    ").properties(width=200, height=200, title = \"u'w', 3m-c\") | alt.Chart(\n",
    "    nomrd_df_synopticwinds.query(\"covariance == 'v_w_'\").query(\"loc == '5m_c'\")\n",
    ").mark_line().encode(\n",
    "    alt.X('tau:Q').scale(type='log'),\n",
    "    alt.Y('mean(Co):Q').scale(domain = [-0.001, 0.005], clamp=True),\n",
    "    alt.Color('wind_dir:N'),\n",
    "    alt.Row('wind_speed')\n",
    ").properties(width=200, height=200, title = \"u'w', 5m-c\")).resolve_scale(x='shared', y='shared')"
   ]
  },
  {
   "cell_type": "markdown",
   "metadata": {},
   "source": [
    "# Load preprocessed spectra, compare across towers"
   ]
  },
  {
   "cell_type": "code",
   "execution_count": null,
   "metadata": {},
   "outputs": [],
   "source": [
    "spectra_mar04 = pd.read_parquet(\"/Users/elischwat/Development/data/sublimationofsnow/mrd/NOmrds/2023-03-04 14:00:00_2023-03-04 16:59:59.950000.parquet\")\n",
    "spectra_mar04['height'] = spectra_mar04['loc'].str.split('m').str[0].astype('int')\n",
    "spectra_mar04['tower'] = spectra_mar04['loc'].str.split('m_').str[1]\n",
    "spectra_mar04.covariance.unique()"
   ]
  },
  {
   "cell_type": "code",
   "execution_count": null,
   "metadata": {},
   "outputs": [],
   "source": [
    "(alt.layer(\n",
    "    base.mark_line().encode(alt.Y('mean(Co):Q').title(\"Co(u'w')\")),\n",
    "    base.mark_errorband(extent='iqr').encode(alt.Y('Co:Q').title(\"Co(u'w')\")),\n",
    "    data = spectra_mar04.query(\"covariance == 'w_tc_'\").query(\"height == 3\")\n",
    ").facet('height') | alt.layer(\n",
    "    base.mark_line().encode(alt.Y('mean(Co):Q').title(\"Co(v'w')\")),\n",
    "    base.mark_errorband(extent='iqr').encode(alt.Y('Co:Q').title(\"Co(v'w')\")),\n",
    "    data = spectra_mar04.query(\"covariance == 'w_h2o_'\").query(\"height == 3\")\n",
    ").facet('height') )"
   ]
  },
  {
   "cell_type": "code",
   "execution_count": null,
   "metadata": {},
   "outputs": [],
   "source": [
    "(alt.layer(\n",
    "    base.mark_line().encode(alt.Y('mean(Co):Q').title(\"Co(u'w')\")),\n",
    "    base.mark_errorband(extent='iqr').encode(alt.Y('Co:Q').title(\"Co(u'w')\")),\n",
    "    data = spectra_mar04.query(\"covariance == 'u_u_'\").query(\"height == 3\")\n",
    ").facet('height') | alt.layer(\n",
    "    base.mark_line().encode(alt.Y('mean(Co):Q').title(\"Co(v'w')\")),\n",
    "    base.mark_errorband(extent='iqr').encode(alt.Y('Co:Q').title(\"Co(v'w')\")),\n",
    "    data = spectra_mar04.query(\"covariance == 'v_v_'\").query(\"height == 3\")\n",
    ").facet('height') | alt.layer(\n",
    "    base.mark_line().encode(alt.Y('mean(Co):Q').title(\"Co(v'w')\")),\n",
    "    base.mark_errorband(extent='iqr').encode(alt.Y('Co:Q').title(\"Co(v'w')\")),\n",
    "    data = spectra_mar04.query(\"covariance == 'w_w_'\").query(\"height == 3\")\n",
    ").facet('height'))"
   ]
  },
  {
   "cell_type": "code",
   "execution_count": null,
   "metadata": {},
   "outputs": [],
   "source": [
    "alt.layer(\n",
    "    base.mark_line().encode(alt.Y('mean(Co):Q').title(\"Co(u'w')\")),\n",
    "    base.mark_errorband(extent='iqr').encode(alt.Y('Co:Q').title(\"Co(u'w')\")),\n",
    "    data = spectra_mar04.query(\"covariance == 'u_w_'\").query(\"height == 3\")\n",
    ").facet('height') | alt.layer(\n",
    "    base.mark_line().encode(alt.Y('mean(Co):Q').title(\"Co(v'w')\")),\n",
    "    base.mark_errorband(extent='iqr').encode(alt.Y('Co:Q').title(\"Co(v'w')\")),\n",
    "    data = spectra_mar04.query(\"covariance == 'v_w_'\").query(\"height == 3\")\n",
    ").facet('height') | alt.layer(\n",
    "    base.mark_line().encode(alt.Y('mean(Co):Q').title(\"Co(v'w')\")),\n",
    "    base.mark_errorband(extent='iqr').encode(alt.Y('Co:Q').title(\"Co(v'w')\")),\n",
    "    data = spectra_mar04.query(\"covariance == 'u_v_'\").query(\"height == 3\")\n",
    ").facet('height')"
   ]
  },
  {
   "cell_type": "code",
   "execution_count": null,
   "metadata": {},
   "outputs": [],
   "source": [
    "spectra_apr18 = pd.read_parquet(\"/Users/elischwat/Development/data/sublimationofsnow/mrd/NOmrds/2023-04-18 15:00:00_2023-04-18 17:59:59.950000.parquet\")\n",
    "spectra_apr18['height'] = spectra_apr18['loc'].str.split('m').str[0].astype('int')\n",
    "spectra_apr18['tower'] = spectra_apr18['loc'].str.split('m_').str[1]\n",
    "spectra_apr18.covariance.unique()\n",
    "\n",
    "base = alt.Chart().encode(\n",
    "    alt.X('tau:Q').scale(type='log'),\n",
    "    alt.Color('tower'),\n",
    ").properties(width=200, height=150)\n",
    "\n",
    "(alt.layer(\n",
    "    base.mark_line().encode(alt.Y('mean(Co):Q').title(\"Co(u'w')\")),\n",
    "    base.mark_errorband(extent='iqr').encode(alt.Y('Co:Q').title(\"Co(u'w')\")),\n",
    "    data = spectra_apr18.query(\"covariance == 'u_w_'\").query(\"height == 3\")\n",
    ").facet('height').properties(title='Apr 18') | alt.layer(\n",
    "    base.mark_line().encode(alt.Y('mean(Co):Q').title(\"Co(u'w')\")),\n",
    "    base.mark_errorband(extent='iqr').encode(alt.Y('Co:Q').title(\"Co(u'w')\")),\n",
    "    data = spectra_1221.query(\"covariance == 'u_w_'\").query(\"height == 3\")\n",
    ").facet('height').properties(title='Dec 21') | alt.layer(\n",
    "    base.mark_line().encode(alt.Y('mean(Co):Q').title(\"Co(u'w')\")),\n",
    "    base.mark_errorband(extent='iqr').encode(alt.Y('Co:Q').title(\"Co(u'w')\")),\n",
    "    data = spectra_apr09.query(\"covariance == 'u_w_'\").query(\"height == 3\")\n",
    ").facet('height').properties(title='Apr 09')).resolve_scale(y='shared', x='shared')"
   ]
  },
  {
   "cell_type": "code",
   "execution_count": null,
   "metadata": {},
   "outputs": [],
   "source": []
  },
  {
   "cell_type": "code",
   "execution_count": null,
   "metadata": {},
   "outputs": [],
   "source": []
  },
  {
   "cell_type": "code",
   "execution_count": null,
   "metadata": {},
   "outputs": [],
   "source": [
    "apr18_df = prep_fast_data([\n",
    "    '/Users/elischwat/Development/data/sublimationofsnow/sosqc_fast_old/isfs_sos_qc_geo_tiltcor_hr_20230418_21.nc',\n",
    "    '/Users/elischwat/Development/data/sublimationofsnow/sosqc_fast_old/isfs_sos_qc_geo_tiltcor_hr_20230418_22.nc',\n",
    "    '/Users/elischwat/Development/data/sublimationofsnow/sosqc_fast_old/isfs_sos_qc_geo_tiltcor_hr_20230418_23.nc',\n",
    "])"
   ]
  },
  {
   "cell_type": "code",
   "execution_count": null,
   "metadata": {},
   "outputs": [],
   "source": [
    "len(apr18_df.set_index('time')['u_3m_c']), len(apr18_df.set_index('time')['u_3m_c'].dropna())"
   ]
  },
  {
   "cell_type": "code",
   "execution_count": null,
   "metadata": {},
   "outputs": [],
   "source": [
    "len(apr18_df.set_index('time')['u_3m_d']), len(apr18_df.set_index('time')['u_3m_d'].dropna())"
   ]
  },
  {
   "cell_type": "code",
   "execution_count": null,
   "metadata": {},
   "outputs": [],
   "source": [
    "len(apr18_df.set_index('time')['u_3m_uw']), len(apr18_df.set_index('time')['u_3m_uw'].dropna())"
   ]
  },
  {
   "cell_type": "code",
   "execution_count": null,
   "metadata": {},
   "outputs": [],
   "source": [
    "len(apr18_df.set_index('time')['u_3m_ue']), len(apr18_df.set_index('time')['u_3m_ue'].dropna())"
   ]
  },
  {
   "cell_type": "code",
   "execution_count": null,
   "metadata": {},
   "outputs": [],
   "source": [
    "alt.layer(\n",
    "    base.mark_line().encode(alt.Y('mean(Co):Q').title(\"Co(u'w')\")),\n",
    "    base.mark_errorband(extent='iqr').encode(alt.Y('Co:Q').title(\"Co(u'w')\")),\n",
    "    data = spectra_apr18.query(\"covariance == 'u_w_'\").query(\"height == 3\")\n",
    ").facet('height').properties(title='Apr 18, 1500-1800')"
   ]
  },
  {
   "cell_type": "code",
   "execution_count": null,
   "metadata": {},
   "outputs": [],
   "source": [
    "spectra_1221 = pd.read_parquet(\"/Users/elischwat/Development/data/sublimationofsnow/mrd/NOmrds/2022-12-21 14:00:00_2022-12-21 16:59:59.950000.parquet\")\n",
    "spectra_1221['height'] = spectra_1221['loc'].str.split('m').str[0].astype('int')\n",
    "spectra_1221['tower'] = spectra_1221['loc'].str.split('m_').str[1]\n",
    "\n",
    "spectra_apr18 = pd.read_parquet(\"/Users/elischwat/Development/data/sublimationofsnow/mrd/NOmrds/2023-04-18 15:00:00_2023-04-18 17:59:59.950000_s1000.parquet\")\n",
    "spectra_apr18['height'] = spectra_apr18['loc'].str.split('m').str[0].astype('int')\n",
    "spectra_apr18['tower'] = spectra_apr18['loc'].str.split('m_').str[1]\n",
    "\n",
    "spectra_apr09 = pd.read_parquet(\"/Users/elischwat/Development/data/sublimationofsnow/mrd/NOmrds/2023-04-09 15:00:00_2023-04-09 17:59:59.950000.parquet\")\n",
    "spectra_apr09['height'] = spectra_apr09['loc'].str.split('m').str[0].astype('int')\n",
    "spectra_apr09['tower'] = spectra_apr09['loc'].str.split('m_').str[1]\n",
    "\n",
    "base = alt.Chart().encode(\n",
    "    alt.X('tau:Q').scale(type='log'),\n",
    "    alt.Color('tower'),\n",
    ").properties(width=200, height=150)\n",
    "\n",
    "(alt.layer(\n",
    "    base.mark_line().encode(alt.Y('mean(Co):Q').title(\"Co(u'w')\")),\n",
    "    base.mark_errorband(extent='iqr').encode(alt.Y('Co:Q').title(\"Co(u'w')\")),\n",
    "    data = spectra_apr18.query(\"covariance == 'u_w_'\").query(\"height == 10\")\n",
    ").facet('height').properties(title='Apr 18') |\n",
    "alt.layer(\n",
    "    base.mark_line().encode(alt.Y('mean(Co):Q').title(\"Co(u'w')\")),\n",
    "    base.mark_errorband(extent='iqr').encode(alt.Y('Co:Q').title(\"Co(u'w')\")),\n",
    "    data = spectra_apr09.query(\"covariance == 'u_w_'\").query(\"height == 10\")\n",
    ").facet('height').properties(title='Apr 09')).resolve_scale(x='shared')"
   ]
  },
  {
   "cell_type": "code",
   "execution_count": null,
   "metadata": {},
   "outputs": [],
   "source": [
    "alt.Chart(\n",
    "    sos_df_localtime.query(\"measurement == 'wind speed'\").query(\"tower == 'c'\").set_index('time').sort_index().loc['20230409 1200': '20230409 1500'].reset_index()\n",
    ").mark_line().encode(\n",
    "    alt.X('value:Q'),\n",
    "    alt.Y('height:Q'),\n",
    "    alt.Facet('time:T'),\n",
    "    order='height'\n",
    ").properties(width=100, height=150)"
   ]
  },
  {
   "cell_type": "code",
   "execution_count": null,
   "metadata": {},
   "outputs": [],
   "source": [
    "base = alt.Chart().mark_line().encode(\n",
    "    alt.X('time:T'),\n",
    "    # alt.Y('rolling_median:Q')\n",
    "    alt.Y('value:Q')\n",
    ").properties(width=200, height=150)\n",
    "(\n",
    "alt.layer(base, data=sos_df_localtime.query(\"variable == 'L_3m_c'\").set_index('time').loc['20230418'].reset_index()) |\\\n",
    "alt.layer(base, data=sos_df_localtime.query(\"variable == 'L_3m_c'\").set_index('time').loc['20221221'].reset_index()) |\\\n",
    "alt.layer(base, data=sos_df_localtime.query(\"variable == 'L_3m_c'\").set_index('time').loc['20230409'].reset_index())\n",
    ").resolve_scale(y='shared')"
   ]
  },
  {
   "cell_type": "code",
   "execution_count": null,
   "metadata": {},
   "outputs": [],
   "source": [
    "base = alt.Chart().mark_line().encode(\n",
    "    alt.X('time:T'),\n",
    "    alt.Y('value:Q'),\n",
    "    alt.Color('height:N')\n",
    ").properties(width=200, height=150)\n",
    "sos_dir_data = sos_df_localtime[\n",
    "    sos_df_localtime.variable.isin(['dir_3m_c', 'dir_20m_c'])\n",
    "].set_index('time')\n",
    "\n",
    "(\n",
    "    alt.layer(base, data=sos_dir_data.loc['20230418'].reset_index()) |\\\n",
    "    alt.layer(base, data=sos_dir_data.loc['20221221'].reset_index()) |\\\n",
    "    alt.layer(base, data=sos_dir_data.loc['20230409'].reset_index()) |\\\n",
    "    alt.layer(base, data=sos_dir_data.loc['20230304'].reset_index()) \n",
    ").resolve_scale(y='shared')"
   ]
  },
  {
   "cell_type": "markdown",
   "metadata": {},
   "source": [
    "# Get mrds for all days (1500-1800) with consistent winds"
   ]
  },
  {
   "cell_type": "code",
   "execution_count": null,
   "metadata": {},
   "outputs": [],
   "source": [
    "import tqdm"
   ]
  },
  {
   "cell_type": "code",
   "execution_count": null,
   "metadata": {},
   "outputs": [],
   "source": [
    "mrds_processed_data = {}\n",
    "\n",
    "# for d in tqdm.tqdm(days_with_consistent_1500_1800_winds):\n",
    "for d in tqdm.tqdm([d for d in days_with_consistent_1500_1800_winds if d.month == 4]):\n",
    "    day_str = str(d).replace('-','')\n",
    "    mrds_processed_data[day_str] = process_mrds_for_files([\n",
    "        f'/Users/elischwat/Development/data/sublimationofsnow/sosqc_fast/isfs_sos_qc_geo_tiltcor_hr_{day_str}_21.nc',\n",
    "        f'/Users/elischwat/Development/data/sublimationofsnow/sosqc_fast/isfs_sos_qc_geo_tiltcor_hr_{day_str}_22.nc',\n",
    "        f'/Users/elischwat/Development/data/sublimationofsnow/sosqc_fast/isfs_sos_qc_geo_tiltcor_hr_{day_str}_23.nc',\n",
    "    ])"
   ]
  },
  {
   "cell_type": "code",
   "execution_count": null,
   "metadata": {},
   "outputs": [],
   "source": [
    "len(mrds_processed_data)"
   ]
  }
 ],
 "metadata": {
  "kernelspec": {
   "display_name": "arm",
   "language": "python",
   "name": "python3"
  },
  "language_info": {
   "codemirror_mode": {
    "name": "ipython",
    "version": 3
   },
   "file_extension": ".py",
   "mimetype": "text/x-python",
   "name": "python",
   "nbconvert_exporter": "python",
   "pygments_lexer": "ipython3",
   "version": "3.12.5"
  },
  "orig_nbformat": 4,
  "vscode": {
   "interpreter": {
    "hash": "e2b11a00ad1b97cabcd9cc9209b8824a0fcaf6ffe37b5243943912873b5dcab1"
   }
  }
 },
 "nbformat": 4,
 "nbformat_minor": 2
}
