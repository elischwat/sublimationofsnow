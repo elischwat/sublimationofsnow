{
 "cells": [
  {
   "cell_type": "code",
   "execution_count": 1,
   "metadata": {},
   "outputs": [],
   "source": [
    "import numpy as np\n",
    "import xarray as xr\n",
    "\n",
    "import datetime as dt\n",
    "import pandas as pd\n",
    "\n",
    "import matplotlib.pyplot as plt\n",
    "\n",
    "import altair as alt\n",
    "alt.data_transformers.enable('json')\n",
    "\n",
    "from sublimpy import utils\n",
    "import glob\n",
    "import pytz\n",
    "from scipy.signal import welch, csd\n",
    "from scipy.stats import chi2\n",
    "from process_fast_data.fast_data_calculate_spectra_nomrd import calculate_mrd_for_df, fast_data_files_to_dataframe"
   ]
  },
  {
   "cell_type": "markdown",
   "metadata": {},
   "source": [
    "# Open SOS slow data"
   ]
  },
  {
   "cell_type": "code",
   "execution_count": 2,
   "metadata": {},
   "outputs": [],
   "source": [
    "sos_df = pd.read_parquet(\"../paper1/process_slow_data/tidy_df_20221101_20230619_planar_fit_multiplane_q7_flags9000_pf10.parquet\")\n",
    "sos_df_localtime = utils.modify_df_timezone( sos_df, 'UTC', 'US/Mountain')"
   ]
  },
  {
   "cell_type": "markdown",
   "metadata": {},
   "source": [
    "## Plot wind directions for case studies"
   ]
  },
  {
   "cell_type": "code",
   "execution_count": 3,
   "metadata": {},
   "outputs": [
    {
     "data": {
      "text/html": [
       "\n",
       "<style>\n",
       "  #altair-viz-c724ead4d25644218dcc7524302e8663.vega-embed {\n",
       "    width: 100%;\n",
       "    display: flex;\n",
       "  }\n",
       "\n",
       "  #altair-viz-c724ead4d25644218dcc7524302e8663.vega-embed details,\n",
       "  #altair-viz-c724ead4d25644218dcc7524302e8663.vega-embed details summary {\n",
       "    position: relative;\n",
       "  }\n",
       "</style>\n",
       "<div id=\"altair-viz-c724ead4d25644218dcc7524302e8663\"></div>\n",
       "<script type=\"text/javascript\">\n",
       "  var VEGA_DEBUG = (typeof VEGA_DEBUG == \"undefined\") ? {} : VEGA_DEBUG;\n",
       "  (function(spec, embedOpt){\n",
       "    let outputDiv = document.currentScript.previousElementSibling;\n",
       "    if (outputDiv.id !== \"altair-viz-c724ead4d25644218dcc7524302e8663\") {\n",
       "      outputDiv = document.getElementById(\"altair-viz-c724ead4d25644218dcc7524302e8663\");\n",
       "    }\n",
       "    const paths = {\n",
       "      \"vega\": \"https://cdn.jsdelivr.net/npm/vega@5?noext\",\n",
       "      \"vega-lib\": \"https://cdn.jsdelivr.net/npm/vega-lib?noext\",\n",
       "      \"vega-lite\": \"https://cdn.jsdelivr.net/npm/vega-lite@5.20.1?noext\",\n",
       "      \"vega-embed\": \"https://cdn.jsdelivr.net/npm/vega-embed@6?noext\",\n",
       "    };\n",
       "\n",
       "    function maybeLoadScript(lib, version) {\n",
       "      var key = `${lib.replace(\"-\", \"\")}_version`;\n",
       "      return (VEGA_DEBUG[key] == version) ?\n",
       "        Promise.resolve(paths[lib]) :\n",
       "        new Promise(function(resolve, reject) {\n",
       "          var s = document.createElement('script');\n",
       "          document.getElementsByTagName(\"head\")[0].appendChild(s);\n",
       "          s.async = true;\n",
       "          s.onload = () => {\n",
       "            VEGA_DEBUG[key] = version;\n",
       "            return resolve(paths[lib]);\n",
       "          };\n",
       "          s.onerror = () => reject(`Error loading script: ${paths[lib]}`);\n",
       "          s.src = paths[lib];\n",
       "        });\n",
       "    }\n",
       "\n",
       "    function showError(err) {\n",
       "      outputDiv.innerHTML = `<div class=\"error\" style=\"color:red;\">${err}</div>`;\n",
       "      throw err;\n",
       "    }\n",
       "\n",
       "    function displayChart(vegaEmbed) {\n",
       "      vegaEmbed(outputDiv, spec, embedOpt)\n",
       "        .catch(err => showError(`Javascript Error: ${err.message}<br>This usually means there's a typo in your chart specification. See the javascript console for the full traceback.`));\n",
       "    }\n",
       "\n",
       "    if(typeof define === \"function\" && define.amd) {\n",
       "      requirejs.config({paths});\n",
       "      require([\"vega-embed\"], displayChart, err => showError(`Error loading script: ${err.message}`));\n",
       "    } else {\n",
       "      maybeLoadScript(\"vega\", \"5\")\n",
       "        .then(() => maybeLoadScript(\"vega-lite\", \"5.20.1\"))\n",
       "        .then(() => maybeLoadScript(\"vega-embed\", \"6\"))\n",
       "        .catch(showError)\n",
       "        .then(() => displayChart(vegaEmbed));\n",
       "    }\n",
       "  })({\"config\": {\"view\": {\"continuousWidth\": 300, \"continuousHeight\": 300}}, \"hconcat\": [{\"layer\": [{\"data\": {\"url\": \"altair-data-eafc93f16b8b4c0d0a069b8ccef6cc70.json\", \"format\": {\"type\": \"json\"}}, \"mark\": {\"type\": \"line\"}, \"encoding\": {\"color\": {\"field\": \"height\", \"scale\": {\"scheme\": \"rainbow\"}, \"type\": \"ordinal\"}, \"x\": {\"field\": \"time\", \"type\": \"temporal\"}, \"y\": {\"field\": \"value\", \"type\": \"quantitative\"}}}, {\"data\": {\"url\": \"altair-data-fedf3be97705ecf1c6a6ecde8aee6f23.json\", \"format\": {\"type\": \"json\"}}, \"mark\": {\"type\": \"rule\", \"color\": \"red\", \"strokeDash\": [4, 2]}, \"encoding\": {\"x\": {\"field\": \"time\", \"type\": \"temporal\"}}}], \"height\": 150}, {\"layer\": [{\"data\": {\"url\": \"altair-data-3430e3582040f28032100648a73bf298.json\", \"format\": {\"type\": \"json\"}}, \"mark\": {\"type\": \"line\"}, \"encoding\": {\"color\": {\"field\": \"height\", \"scale\": {\"scheme\": \"rainbow\"}, \"type\": \"ordinal\"}, \"x\": {\"field\": \"time\", \"type\": \"temporal\"}, \"y\": {\"field\": \"value\", \"type\": \"quantitative\"}}}, {\"data\": {\"url\": \"altair-data-546faa7b3ac75d149fae2be2051f6be5.json\", \"format\": {\"type\": \"json\"}}, \"mark\": {\"type\": \"rule\", \"color\": \"red\", \"strokeDash\": [4, 2]}, \"encoding\": {\"x\": {\"field\": \"time\", \"type\": \"temporal\"}}}], \"height\": 150}, {\"layer\": [{\"data\": {\"url\": \"altair-data-1b4d9aa421cd77c22c802b955719973c.json\", \"format\": {\"type\": \"json\"}}, \"mark\": {\"type\": \"line\"}, \"encoding\": {\"color\": {\"field\": \"height\", \"scale\": {\"scheme\": \"rainbow\"}, \"type\": \"ordinal\"}, \"x\": {\"field\": \"time\", \"type\": \"temporal\"}, \"y\": {\"field\": \"value\", \"type\": \"quantitative\"}}}, {\"data\": {\"url\": \"altair-data-0c2787b68a7f6c3472db1025fff8c08f.json\", \"format\": {\"type\": \"json\"}}, \"mark\": {\"type\": \"rule\", \"color\": \"red\", \"strokeDash\": [4, 2]}, \"encoding\": {\"x\": {\"field\": \"time\", \"type\": \"temporal\"}}}], \"height\": 150}, {\"layer\": [{\"data\": {\"url\": \"altair-data-3c8a7c4f9924769d14d61314f889a7b5.json\", \"format\": {\"type\": \"json\"}}, \"mark\": {\"type\": \"line\"}, \"encoding\": {\"color\": {\"field\": \"height\", \"scale\": {\"scheme\": \"rainbow\"}, \"type\": \"ordinal\"}, \"x\": {\"field\": \"time\", \"type\": \"temporal\"}, \"y\": {\"field\": \"value\", \"type\": \"quantitative\"}}}, {\"data\": {\"url\": \"altair-data-d210bf1481e7e53e64fb981c5159a1d9.json\", \"format\": {\"type\": \"json\"}}, \"mark\": {\"type\": \"rule\", \"color\": \"red\", \"strokeDash\": [4, 2]}, \"encoding\": {\"x\": {\"field\": \"time\", \"type\": \"temporal\"}}}], \"height\": 150}], \"$schema\": \"https://vega.github.io/schema/vega-lite/v5.20.1.json\"}, {\"mode\": \"vega-lite\"});\n",
       "</script>"
      ],
      "text/plain": [
       "alt.HConcatChart(...)"
      ]
     },
     "execution_count": 3,
     "metadata": {},
     "output_type": "execute_result"
    }
   ],
   "source": [
    "def wind_chart(data):\n",
    "    return alt.Chart(data).mark_line().encode(        \n",
    "        alt.X('time:T'),\n",
    "        alt.Y('value:Q'),\n",
    "        alt.Color('height:O').scale(scheme='rainbow')\n",
    "    ).properties(height=150)\n",
    "def vertical_lines_chart(data):\n",
    "    return alt.Chart(\n",
    "        data\n",
    "    ).mark_rule(color='red', strokeDash=[4, 2]).encode(\n",
    "        alt.X('time:T')\n",
    "    )\n",
    "\n",
    "\n",
    "sos_dir_df = sos_df_localtime[sos_df_localtime.variable.isin([\n",
    "        'dir_3m_c', 'dir_10m_c', 'dir_20m_c'\n",
    "    ])].set_index('time')\n",
    "\n",
    "(\n",
    "    (wind_chart(sos_dir_df.loc['20230409'].reset_index())   + vertical_lines_chart(pd.DataFrame({'time': ['2023-04-09T15:00:00', '2023-04-09T18:00:00']}))) \n",
    "    | (wind_chart(sos_dir_df.loc['20230418'].reset_index()) + vertical_lines_chart(pd.DataFrame({'time': ['2023-04-18T15:00:00', '2023-04-18T18:00:00']}))) \n",
    "    | (wind_chart(sos_dir_df.loc['20221221'].reset_index()) + vertical_lines_chart(pd.DataFrame({'time': ['2022-12-21T15:00:00', '2022-12-21T18:00:00']}))) \n",
    "    | (wind_chart(sos_dir_df.loc['20230304'].reset_index()) + vertical_lines_chart(pd.DataFrame({'time': ['2023-03-04T15:00:00', '2023-03-04T18:00:00']})))\n",
    ")"
   ]
  },
  {
   "cell_type": "code",
   "execution_count": 4,
   "metadata": {},
   "outputs": [
    {
     "data": {
      "text/plain": [
       "158.2565144130162"
      ]
     },
     "execution_count": 4,
     "metadata": {},
     "output_type": "execute_result"
    }
   ],
   "source": [
    "sos_dir_df.sort_index().loc['20230418 1900': '20230418 2200'].query(\"variable == 'dir_3m_c'\").value.mean()"
   ]
  },
  {
   "cell_type": "markdown",
   "metadata": {},
   "source": [
    "# Open SOS fast data"
   ]
  },
  {
   "cell_type": "code",
   "execution_count": 5,
   "metadata": {},
   "outputs": [
    {
     "name": "stdout",
     "output_type": "stream",
     "text": [
      "-159.63829\n",
      "mean u, v, w after first rotation  u_2m_c    9.646917e-01\n",
      "v_2m_c   -5.877460e-08\n",
      "w_2m_c    1.328826e-02\n",
      "dtype: float32\n",
      "-160.61166\n",
      "mean u, v, w after first rotation  u_3m_c    9.707044e-01\n",
      "v_3m_c   -3.616898e-08\n",
      "w_3m_c    1.209827e-02\n",
      "dtype: float32\n",
      "-161.35495\n",
      "mean u, v, w after first rotation  u_5m_c    9.683220e-01\n",
      "v_5m_c   -4.521123e-08\n",
      "w_5m_c   -8.051571e-03\n",
      "dtype: float32\n",
      "-166.3347\n",
      "mean u, v, w after first rotation  u_10m_c    8.814763e-01\n",
      "v_10m_c   -1.311126e-07\n",
      "w_10m_c   -5.393248e-02\n",
      "dtype: float32\n",
      "-164.43513\n",
      "mean u, v, w after first rotation  u_15m_c    7.411802e-01\n",
      "v_15m_c   -1.582393e-07\n",
      "w_15m_c   -4.498928e-02\n",
      "dtype: float32\n",
      "-162.94327\n",
      "mean u, v, w after first rotation  u_20m_c    7.486337e-01\n",
      "v_20m_c    1.808449e-08\n",
      "w_20m_c   -1.044777e-01\n",
      "dtype: float32\n",
      "-153.52493\n",
      "mean u, v, w after first rotation  u_3m_uw    1.042306e+00\n",
      "v_3m_uw    4.069010e-08\n",
      "w_3m_uw    2.311073e-02\n",
      "dtype: float32\n",
      "-153.95428\n",
      "mean u, v, w after first rotation  u_10m_uw    9.413269e-01\n",
      "v_10m_uw    9.494357e-08\n",
      "w_10m_uw   -2.587270e-02\n",
      "dtype: float32\n",
      "-160.06401\n",
      "mean u, v, w after first rotation  u_3m_ue    8.770304e-01\n",
      "v_3m_ue   -5.425347e-08\n",
      "w_3m_ue    2.523382e-02\n",
      "dtype: float32\n",
      "-164.44215\n",
      "mean u, v, w after first rotation  u_10m_ue    7.471415e-01\n",
      "v_10m_ue   -9.494357e-08\n",
      "w_10m_ue   -1.217160e-02\n",
      "dtype: float32\n",
      "-158.82825\n",
      "mean u, v, w after first rotation  u_3m_d    9.823402e-01\n",
      "v_3m_d    9.042245e-09\n",
      "w_3m_d    4.840469e-04\n",
      "dtype: float32\n",
      "-159.08807\n",
      "mean u, v, w after first rotation  u_10m_d    8.925691e-01\n",
      "v_10m_d    2.893518e-07\n",
      "w_10m_d   -5.592046e-02\n",
      "dtype: float32\n",
      "mean u, v, w after second rotation  u_2m_c    9.647834e-01\n",
      "v_2m_c   -5.877460e-08\n",
      "w_2m_c   -1.695421e-09\n",
      "dtype: float32\n",
      "mean u, v, w after second rotation  u_3m_c    9.707799e-01\n",
      "v_3m_c   -3.616898e-08\n",
      "w_3m_c    8.830318e-10\n",
      "dtype: float32\n",
      "mean u, v, w after second rotation  u_5m_c    9.683555e-01\n",
      "v_5m_c   -4.521123e-08\n",
      "w_5m_c    3.532127e-09\n",
      "dtype: float32\n",
      "mean u, v, w after second rotation  u_10m_c    8.831246e-01\n",
      "v_10m_c   -1.311126e-07\n",
      "w_10m_c   -7.064254e-09\n",
      "dtype: float32\n",
      "mean u, v, w after second rotation  u_15m_c    7.425444e-01\n",
      "v_15m_c   -1.582393e-07\n",
      "w_15m_c   -9.183530e-09\n",
      "dtype: float32\n",
      "mean u, v, w after second rotation  u_20m_c    7.558888e-01\n",
      "v_20m_c    1.808449e-08\n",
      "w_20m_c    9.607386e-09\n",
      "dtype: float32\n",
      "mean u, v, w after second rotation  u_3m_uw    1.042562e+00\n",
      "v_3m_uw    4.069010e-08\n",
      "w_3m_uw    5.227548e-09\n",
      "dtype: float32\n",
      "mean u, v, w after second rotation  u_10m_uw    9.416825e-01\n",
      "v_10m_uw    9.494357e-08\n",
      "w_10m_uw   -1.059638e-09\n",
      "dtype: float32\n",
      "mean u, v, w after second rotation  u_3m_ue    8.773934e-01\n",
      "v_3m_ue   -5.425347e-08\n",
      "w_3m_ue    7.064254e-11\n",
      "dtype: float32\n",
      "mean u, v, w after second rotation  u_10m_ue    7.472407e-01\n",
      "v_10m_ue   -9.494357e-08\n",
      "w_10m_ue   -8.477105e-10\n",
      "dtype: float32\n",
      "mean u, v, w after second rotation  u_3m_d    9.823402e-01\n",
      "v_3m_d    9.042245e-09\n",
      "w_3m_d    2.825702e-10\n",
      "dtype: float32\n",
      "mean u, v, w after second rotation  u_10m_d    8.943190e-01\n",
      "v_10m_d    2.893518e-07\n",
      "w_10m_d    1.130281e-09\n",
      "dtype: float32\n"
     ]
    }
   ],
   "source": [
    "apr18_df = fast_data_files_to_dataframe([\n",
    "    # '/Users/elischwat/Development/data/sublimationofsnow/sosqc_fast/isfs_sos_qc_geo_tiltcor_hr_v2_20230418_21.nc',\n",
    "    # '/Users/elischwat/Development/data/sublimationofsnow/sosqc_fast/isfs_sos_qc_geo_tiltcor_hr_v2_20230418_22.nc',\n",
    "    # '/Users/elischwat/Development/data/sublimationofsnow/sosqc_fast/isfs_sos_qc_geo_tiltcor_hr_v2_20230418_23.nc',\n",
    "    '/Users/elischwat/Development/data/sublimationofsnow/sosqc_fast/isfs_sos_qc_geo_tiltcor_hr_v2_20230419_01.nc',\n",
    "    '/Users/elischwat/Development/data/sublimationofsnow/sosqc_fast/isfs_sos_qc_geo_tiltcor_hr_v2_20230419_02.nc',\n",
    "    '/Users/elischwat/Development/data/sublimationofsnow/sosqc_fast/isfs_sos_qc_geo_tiltcor_hr_v2_20230419_03.nc',\n",
    "],  rotation='double')\n",
    "\n",
    "apr18_df = utils.modify_df_timezone(apr18_df, pytz.UTC, \"US/Mountain\")"
   ]
  },
  {
   "cell_type": "code",
   "execution_count": 6,
   "metadata": {},
   "outputs": [
    {
     "data": {
      "image/png": "[encoded data removed]",
      "text/plain": [
       "<Figure size 640x480 with 2 Axes>"
      ]
     },
     "metadata": {},
     "output_type": "display_data"
    }
   ],
   "source": [
    "src = apr18_df.set_index('time')[['u_10m_c', 'w_10m_c']]\n",
    "src_fluc = src - src.groupby(pd.Grouper(freq='30min')).transform('mean')\n",
    "plt.hist2d(src_fluc.u_10m_c, src_fluc.w_10m_c, bins=500, cmap='Reds')\n",
    "plt.axhline(0)\n",
    "plt.axvline(0)\n",
    "plt.colorbar()\n",
    "plt.xlim(-2,2); plt.ylim(-2,2)\n",
    "plt.show()"
   ]
  },
  {
   "cell_type": "markdown",
   "metadata": {},
   "source": [
    "# Spectra across two case study days - Apr 18 and Dec 21"
   ]
  },
  {
   "cell_type": "markdown",
   "metadata": {},
   "source": [
    "## Apr 18"
   ]
  },
  {
   "cell_type": "markdown",
   "metadata": {},
   "source": [
    "### u'w' cospectra - all ECs"
   ]
  },
  {
   "cell_type": "code",
   "execution_count": 7,
   "metadata": {},
   "outputs": [
    {
     "name": "stdout",
     "output_type": "stream",
     "text": [
      "Timestep of fast data is: 50.0 ms\n",
      "Dataset of length 216000, with M = 17, permits 42 iterations.\n"
     ]
    },
    {
     "name": "stderr",
     "output_type": "stream",
     "text": [
      "100%|██████████| 42/42 [00:18<00:00,  2.21it/s]\n"
     ]
    },
    {
     "name": "stdout",
     "output_type": "stream",
     "text": [
      "Timestep of fast data is: 50.0 ms\n",
      "Dataset of length 216000, with M = 17, permits 42 iterations.\n"
     ]
    },
    {
     "name": "stderr",
     "output_type": "stream",
     "text": [
      "100%|██████████| 42/42 [00:14<00:00,  2.97it/s]\n"
     ]
    },
    {
     "name": "stdout",
     "output_type": "stream",
     "text": [
      "Timestep of fast data is: 50.0 ms\n",
      "Dataset of length 216000, with M = 17, permits 42 iterations.\n"
     ]
    },
    {
     "name": "stderr",
     "output_type": "stream",
     "text": [
      "100%|██████████| 42/42 [00:14<00:00,  2.95it/s]\n"
     ]
    },
    {
     "name": "stdout",
     "output_type": "stream",
     "text": [
      "Timestep of fast data is: 50.0 ms\n",
      "Dataset of length 216000, with M = 17, permits 42 iterations.\n"
     ]
    },
    {
     "name": "stderr",
     "output_type": "stream",
     "text": [
      "100%|██████████| 42/42 [00:16<00:00,  2.50it/s]\n"
     ]
    },
    {
     "name": "stdout",
     "output_type": "stream",
     "text": [
      "Timestep of fast data is: 50.0 ms\n",
      "Dataset of length 216000, with M = 17, permits 42 iterations.\n"
     ]
    },
    {
     "name": "stderr",
     "output_type": "stream",
     "text": [
      "100%|██████████| 42/42 [00:16<00:00,  2.48it/s]\n"
     ]
    },
    {
     "name": "stdout",
     "output_type": "stream",
     "text": [
      "Timestep of fast data is: 50.0 ms\n",
      "Dataset of length 216000, with M = 17, permits 42 iterations.\n"
     ]
    },
    {
     "name": "stderr",
     "output_type": "stream",
     "text": [
      "100%|██████████| 42/42 [00:16<00:00,  2.59it/s]\n"
     ]
    },
    {
     "name": "stdout",
     "output_type": "stream",
     "text": [
      "Timestep of fast data is: 50.0 ms\n",
      "Dataset of length 216000, with M = 17, permits 42 iterations.\n"
     ]
    },
    {
     "name": "stderr",
     "output_type": "stream",
     "text": [
      "100%|██████████| 42/42 [00:14<00:00,  2.80it/s]\n"
     ]
    },
    {
     "name": "stdout",
     "output_type": "stream",
     "text": [
      "Timestep of fast data is: 50.0 ms\n",
      "Dataset of length 216000, with M = 17, permits 42 iterations.\n"
     ]
    },
    {
     "name": "stderr",
     "output_type": "stream",
     "text": [
      "100%|██████████| 42/42 [00:14<00:00,  2.83it/s]\n"
     ]
    },
    {
     "name": "stdout",
     "output_type": "stream",
     "text": [
      "Timestep of fast data is: 50.0 ms\n",
      "Dataset of length 216000, with M = 17, permits 42 iterations.\n"
     ]
    },
    {
     "name": "stderr",
     "output_type": "stream",
     "text": [
      "100%|██████████| 42/42 [00:15<00:00,  2.76it/s]\n"
     ]
    },
    {
     "name": "stdout",
     "output_type": "stream",
     "text": [
      "Timestep of fast data is: 50.0 ms\n",
      "Dataset of length 216000, with M = 17, permits 42 iterations.\n"
     ]
    },
    {
     "name": "stderr",
     "output_type": "stream",
     "text": [
      "100%|██████████| 42/42 [00:14<00:00,  2.91it/s]\n"
     ]
    },
    {
     "name": "stdout",
     "output_type": "stream",
     "text": [
      "Timestep of fast data is: 50.0 ms\n",
      "Dataset of length 216000, with M = 17, permits 42 iterations.\n"
     ]
    },
    {
     "name": "stderr",
     "output_type": "stream",
     "text": [
      "100%|██████████| 42/42 [1:24:31<00:00, 120.76s/it]  \n"
     ]
    }
   ],
   "source": [
    "apr18_u_w_3m_c_mrd_df = calculate_mrd_for_df(apr18_df, 'u_3m_c', 'w_3m_c', shift = 2000, parallelism=8)\n",
    "apr18_u_w_3m_d_mrd_df = calculate_mrd_for_df(apr18_df, 'u_3m_d', 'w_3m_d', shift = 2000, parallelism=8)\n",
    "apr18_u_w_3m_ue_mrd_df = calculate_mrd_for_df(apr18_df, 'u_3m_ue', 'w_3m_ue', shift = 2000, parallelism=8)\n",
    "apr18_u_w_3m_uw_mrd_df = calculate_mrd_for_df(apr18_df, 'u_3m_uw', 'w_3m_uw', shift = 2000, parallelism=8)\n",
    "\n",
    "apr18_u_w_10m_c_mrd_df = calculate_mrd_for_df(apr18_df, 'u_10m_c', 'w_10m_c', shift = 2000, parallelism=8)\n",
    "apr18_u_w_10m_d_mrd_df = calculate_mrd_for_df(apr18_df, 'u_10m_d', 'w_10m_d', shift = 2000, parallelism=8)\n",
    "apr18_u_w_10m_ue_mrd_df = calculate_mrd_for_df(apr18_df, 'u_10m_ue', 'w_10m_ue', shift = 2000, parallelism=8)\n",
    "apr18_u_w_10m_uw_mrd_df = calculate_mrd_for_df(apr18_df, 'u_10m_uw', 'w_10m_uw', shift = 2000, parallelism=8)\n",
    "\n",
    "apr18_u_w_5m_c_mrd_df = calculate_mrd_for_df(apr18_df, 'u_5m_c', 'w_5m_c', shift = 2000, parallelism=8)\n",
    "apr18_u_w_15m_c_mrd_df = calculate_mrd_for_df(apr18_df, 'u_15m_c', 'w_15m_c', shift = 2000, parallelism=8)\n",
    "apr18_u_w_20m_c_mrd_df = calculate_mrd_for_df(apr18_df, 'u_20m_c', 'w_20m_c', shift = 2000, parallelism=8)"
   ]
  },
  {
   "cell_type": "code",
   "execution_count": 8,
   "metadata": {},
   "outputs": [],
   "source": [
    "base = alt.Chart().encode(\n",
    "    alt.X('tau:Q').scale(type='log').title('tau (s)'),\n",
    ")\n",
    "def mrd_plot(data, title=''):\n",
    "    return alt.layer(\n",
    "        base.mark_errorband(extent='iqr').encode(alt.Y('Co:Q')),\n",
    "        base.mark_line().encode(alt.Y('mean(Co):Q')),\n",
    "        data=data\n",
    "    ).properties(width=200, height=200, title=title)"
   ]
  },
  {
   "cell_type": "code",
   "execution_count": 9,
   "metadata": {},
   "outputs": [
    {
     "data": {
      "text/html": [
       "\n",
       "<style>\n",
       "  #altair-viz-178e581247ed4657a64aa80a82acc6dd.vega-embed {\n",
       "    width: 100%;\n",
       "    display: flex;\n",
       "  }\n",
       "\n",
       "  #altair-viz-178e581247ed4657a64aa80a82acc6dd.vega-embed details,\n",
       "  #altair-viz-178e581247ed4657a64aa80a82acc6dd.vega-embed details summary {\n",
       "    position: relative;\n",
       "  }\n",
       "</style>\n",
       "<div id=\"altair-viz-178e581247ed4657a64aa80a82acc6dd\"></div>\n",
       "<script type=\"text/javascript\">\n",
       "  var VEGA_DEBUG = (typeof VEGA_DEBUG == \"undefined\") ? {} : VEGA_DEBUG;\n",
       "  (function(spec, embedOpt){\n",
       "    let outputDiv = document.currentScript.previousElementSibling;\n",
       "    if (outputDiv.id !== \"altair-viz-178e581247ed4657a64aa80a82acc6dd\") {\n",
       "      outputDiv = document.getElementById(\"altair-viz-178e581247ed4657a64aa80a82acc6dd\");\n",
       "    }\n",
       "    const paths = {\n",
       "      \"vega\": \"https://cdn.jsdelivr.net/npm/vega@5?noext\",\n",
       "      \"vega-lib\": \"https://cdn.jsdelivr.net/npm/vega-lib?noext\",\n",
       "      \"vega-lite\": \"https://cdn.jsdelivr.net/npm/vega-lite@5.20.1?noext\",\n",
       "      \"vega-embed\": \"https://cdn.jsdelivr.net/npm/vega-embed@6?noext\",\n",
       "    };\n",
       "\n",
       "    function maybeLoadScript(lib, version) {\n",
       "      var key = `${lib.replace(\"-\", \"\")}_version`;\n",
       "      return (VEGA_DEBUG[key] == version) ?\n",
       "        Promise.resolve(paths[lib]) :\n",
       "        new Promise(function(resolve, reject) {\n",
       "          var s = document.createElement('script');\n",
       "          document.getElementsByTagName(\"head\")[0].appendChild(s);\n",
       "          s.async = true;\n",
       "          s.onload = () => {\n",
       "            VEGA_DEBUG[key] = version;\n",
       "            return resolve(paths[lib]);\n",
       "          };\n",
       "          s.onerror = () => reject(`Error loading script: ${paths[lib]}`);\n",
       "          s.src = paths[lib];\n",
       "        });\n",
       "    }\n",
       "\n",
       "    function showError(err) {\n",
       "      outputDiv.innerHTML = `<div class=\"error\" style=\"color:red;\">${err}</div>`;\n",
       "      throw err;\n",
       "    }\n",
       "\n",
       "    function displayChart(vegaEmbed) {\n",
       "      vegaEmbed(outputDiv, spec, embedOpt)\n",
       "        .catch(err => showError(`Javascript Error: ${err.message}<br>This usually means there's a typo in your chart specification. See the javascript console for the full traceback.`));\n",
       "    }\n",
       "\n",
       "    if(typeof define === \"function\" && define.amd) {\n",
       "      requirejs.config({paths});\n",
       "      require([\"vega-embed\"], displayChart, err => showError(`Error loading script: ${err.message}`));\n",
       "    } else {\n",
       "      maybeLoadScript(\"vega\", \"5\")\n",
       "        .then(() => maybeLoadScript(\"vega-lite\", \"5.20.1\"))\n",
       "        .then(() => maybeLoadScript(\"vega-embed\", \"6\"))\n",
       "        .catch(showError)\n",
       "        .then(() => displayChart(vegaEmbed));\n",
       "    }\n",
       "  })({\"config\": {\"view\": {\"continuousWidth\": 300, \"continuousHeight\": 300}}, \"vconcat\": [{\"hconcat\": [{\"layer\": [{\"mark\": {\"type\": \"errorband\", \"extent\": \"iqr\"}, \"encoding\": {\"x\": {\"field\": \"tau\", \"scale\": {\"type\": \"log\"}, \"title\": \"tau (s)\", \"type\": \"quantitative\"}, \"y\": {\"field\": \"Co\", \"type\": \"quantitative\"}}}, {\"mark\": {\"type\": \"line\"}, \"encoding\": {\"x\": {\"field\": \"tau\", \"scale\": {\"type\": \"log\"}, \"title\": \"tau (s)\", \"type\": \"quantitative\"}, \"y\": {\"aggregate\": \"mean\", \"field\": \"Co\", \"type\": \"quantitative\"}}}], \"data\": {\"url\": \"altair-data-b5d38e090f20bcab562593c7cd056ba7.json\", \"format\": {\"type\": \"json\"}}, \"height\": 200, \"title\": \"u'w', 3m-C\", \"width\": 200}, {\"layer\": [{\"mark\": {\"type\": \"errorband\", \"extent\": \"iqr\"}, \"encoding\": {\"x\": {\"field\": \"tau\", \"scale\": {\"type\": \"log\"}, \"title\": \"tau (s)\", \"type\": \"quantitative\"}, \"y\": {\"field\": \"Co\", \"type\": \"quantitative\"}}}, {\"mark\": {\"type\": \"line\"}, \"encoding\": {\"x\": {\"field\": \"tau\", \"scale\": {\"type\": \"log\"}, \"title\": \"tau (s)\", \"type\": \"quantitative\"}, \"y\": {\"aggregate\": \"mean\", \"field\": \"Co\", \"type\": \"quantitative\"}}}], \"data\": {\"url\": \"altair-data-3f9d7b44281a4d828386d780727d60ea.json\", \"format\": {\"type\": \"json\"}}, \"height\": 200, \"title\": \"u'w', 3m-D\", \"width\": 200}, {\"layer\": [{\"mark\": {\"type\": \"errorband\", \"extent\": \"iqr\"}, \"encoding\": {\"x\": {\"field\": \"tau\", \"scale\": {\"type\": \"log\"}, \"title\": \"tau (s)\", \"type\": \"quantitative\"}, \"y\": {\"field\": \"Co\", \"type\": \"quantitative\"}}}, {\"mark\": {\"type\": \"line\"}, \"encoding\": {\"x\": {\"field\": \"tau\", \"scale\": {\"type\": \"log\"}, \"title\": \"tau (s)\", \"type\": \"quantitative\"}, \"y\": {\"aggregate\": \"mean\", \"field\": \"Co\", \"type\": \"quantitative\"}}}], \"data\": {\"url\": \"altair-data-d8ea4891c20cba564df555e5394b5dff.json\", \"format\": {\"type\": \"json\"}}, \"height\": 200, \"title\": \"u'w', 3m-UE\", \"width\": 200}, {\"layer\": [{\"mark\": {\"type\": \"errorband\", \"extent\": \"iqr\"}, \"encoding\": {\"x\": {\"field\": \"tau\", \"scale\": {\"type\": \"log\"}, \"title\": \"tau (s)\", \"type\": \"quantitative\"}, \"y\": {\"field\": \"Co\", \"type\": \"quantitative\"}}}, {\"mark\": {\"type\": \"line\"}, \"encoding\": {\"x\": {\"field\": \"tau\", \"scale\": {\"type\": \"log\"}, \"title\": \"tau (s)\", \"type\": \"quantitative\"}, \"y\": {\"aggregate\": \"mean\", \"field\": \"Co\", \"type\": \"quantitative\"}}}], \"data\": {\"url\": \"altair-data-1a2ebe9fac9d938e7d2020e6d1095f09.json\", \"format\": {\"type\": \"json\"}}, \"height\": 200, \"title\": \"u'w', 3m-UW\", \"width\": 200}], \"resolve\": {\"scale\": {\"y\": \"shared\"}}}, {\"hconcat\": [{\"layer\": [{\"mark\": {\"type\": \"errorband\", \"extent\": \"iqr\"}, \"encoding\": {\"x\": {\"field\": \"tau\", \"scale\": {\"type\": \"log\"}, \"title\": \"tau (s)\", \"type\": \"quantitative\"}, \"y\": {\"field\": \"Co\", \"type\": \"quantitative\"}}}, {\"mark\": {\"type\": \"line\"}, \"encoding\": {\"x\": {\"field\": \"tau\", \"scale\": {\"type\": \"log\"}, \"title\": \"tau (s)\", \"type\": \"quantitative\"}, \"y\": {\"aggregate\": \"mean\", \"field\": \"Co\", \"type\": \"quantitative\"}}}], \"data\": {\"url\": \"altair-data-f12df434ec3e9a62006e4a3013e3d9cc.json\", \"format\": {\"type\": \"json\"}}, \"height\": 200, \"title\": \"u'w', 10m-C\", \"width\": 200}, {\"layer\": [{\"mark\": {\"type\": \"errorband\", \"extent\": \"iqr\"}, \"encoding\": {\"x\": {\"field\": \"tau\", \"scale\": {\"type\": \"log\"}, \"title\": \"tau (s)\", \"type\": \"quantitative\"}, \"y\": {\"field\": \"Co\", \"type\": \"quantitative\"}}}, {\"mark\": {\"type\": \"line\"}, \"encoding\": {\"x\": {\"field\": \"tau\", \"scale\": {\"type\": \"log\"}, \"title\": \"tau (s)\", \"type\": \"quantitative\"}, \"y\": {\"aggregate\": \"mean\", \"field\": \"Co\", \"type\": \"quantitative\"}}}], \"data\": {\"url\": \"altair-data-eea0ee142a0712e34b3f04f1bb3b5871.json\", \"format\": {\"type\": \"json\"}}, \"height\": 200, \"title\": \"u'w', 10m-D\", \"width\": 200}, {\"layer\": [{\"mark\": {\"type\": \"errorband\", \"extent\": \"iqr\"}, \"encoding\": {\"x\": {\"field\": \"tau\", \"scale\": {\"type\": \"log\"}, \"title\": \"tau (s)\", \"type\": \"quantitative\"}, \"y\": {\"field\": \"Co\", \"type\": \"quantitative\"}}}, {\"mark\": {\"type\": \"line\"}, \"encoding\": {\"x\": {\"field\": \"tau\", \"scale\": {\"type\": \"log\"}, \"title\": \"tau (s)\", \"type\": \"quantitative\"}, \"y\": {\"aggregate\": \"mean\", \"field\": \"Co\", \"type\": \"quantitative\"}}}], \"data\": {\"url\": \"altair-data-9aaee51752979df435f6bb9ee0e6135e.json\", \"format\": {\"type\": \"json\"}}, \"height\": 200, \"title\": \"u'w', 10m-UE\", \"width\": 200}, {\"layer\": [{\"mark\": {\"type\": \"errorband\", \"extent\": \"iqr\"}, \"encoding\": {\"x\": {\"field\": \"tau\", \"scale\": {\"type\": \"log\"}, \"title\": \"tau (s)\", \"type\": \"quantitative\"}, \"y\": {\"field\": \"Co\", \"type\": \"quantitative\"}}}, {\"mark\": {\"type\": \"line\"}, \"encoding\": {\"x\": {\"field\": \"tau\", \"scale\": {\"type\": \"log\"}, \"title\": \"tau (s)\", \"type\": \"quantitative\"}, \"y\": {\"aggregate\": \"mean\", \"field\": \"Co\", \"type\": \"quantitative\"}}}], \"data\": {\"url\": \"altair-data-c84a19afa535df7b89ad9dfc81d3f524.json\", \"format\": {\"type\": \"json\"}}, \"height\": 200, \"title\": \"u'w', 10m-UW\", \"width\": 200}], \"resolve\": {\"scale\": {\"y\": \"shared\"}}}, {\"hconcat\": [{\"layer\": [{\"mark\": {\"type\": \"errorband\", \"extent\": \"iqr\"}, \"encoding\": {\"x\": {\"field\": \"tau\", \"scale\": {\"type\": \"log\"}, \"title\": \"tau (s)\", \"type\": \"quantitative\"}, \"y\": {\"field\": \"Co\", \"type\": \"quantitative\"}}}, {\"mark\": {\"type\": \"line\"}, \"encoding\": {\"x\": {\"field\": \"tau\", \"scale\": {\"type\": \"log\"}, \"title\": \"tau (s)\", \"type\": \"quantitative\"}, \"y\": {\"aggregate\": \"mean\", \"field\": \"Co\", \"type\": \"quantitative\"}}}], \"data\": {\"url\": \"altair-data-574a332c45fb9908b9271fddcced160a.json\", \"format\": {\"type\": \"json\"}}, \"height\": 200, \"title\": \"u'w', 5m-C\", \"width\": 200}, {\"layer\": [{\"mark\": {\"type\": \"errorband\", \"extent\": \"iqr\"}, \"encoding\": {\"x\": {\"field\": \"tau\", \"scale\": {\"type\": \"log\"}, \"title\": \"tau (s)\", \"type\": \"quantitative\"}, \"y\": {\"field\": \"Co\", \"type\": \"quantitative\"}}}, {\"mark\": {\"type\": \"line\"}, \"encoding\": {\"x\": {\"field\": \"tau\", \"scale\": {\"type\": \"log\"}, \"title\": \"tau (s)\", \"type\": \"quantitative\"}, \"y\": {\"aggregate\": \"mean\", \"field\": \"Co\", \"type\": \"quantitative\"}}}], \"data\": {\"url\": \"altair-data-2faa675e2939fa0354ae69e729975631.json\", \"format\": {\"type\": \"json\"}}, \"height\": 200, \"title\": \"u'w', 15m-C\", \"width\": 200}, {\"layer\": [{\"mark\": {\"type\": \"errorband\", \"extent\": \"iqr\"}, \"encoding\": {\"x\": {\"field\": \"tau\", \"scale\": {\"type\": \"log\"}, \"title\": \"tau (s)\", \"type\": \"quantitative\"}, \"y\": {\"field\": \"Co\", \"type\": \"quantitative\"}}}, {\"mark\": {\"type\": \"line\"}, \"encoding\": {\"x\": {\"field\": \"tau\", \"scale\": {\"type\": \"log\"}, \"title\": \"tau (s)\", \"type\": \"quantitative\"}, \"y\": {\"aggregate\": \"mean\", \"field\": \"Co\", \"type\": \"quantitative\"}}}], \"data\": {\"url\": \"altair-data-e54b59ecdce596c2566ca7767d3d6443.json\", \"format\": {\"type\": \"json\"}}, \"height\": 200, \"title\": \"u'w', 20m-C\", \"width\": 200}], \"resolve\": {\"scale\": {\"y\": \"shared\"}}}], \"resolve\": {\"scale\": {\"y\": \"shared\"}}, \"$schema\": \"https://vega.github.io/schema/vega-lite/v5.20.1.json\"}, {\"mode\": \"vega-lite\"});\n",
       "</script>"
      ],
      "text/plain": [
       "alt.VConcatChart(...)"
      ]
     },
     "execution_count": 9,
     "metadata": {},
     "output_type": "execute_result"
    }
   ],
   "source": [
    "(\n",
    "    (\n",
    "        mrd_plot(apr18_u_w_3m_c_mrd_df, \"u'w', 3m-C\") | mrd_plot(apr18_u_w_3m_d_mrd_df, \"u'w', 3m-D\") \n",
    "        | mrd_plot(apr18_u_w_3m_ue_mrd_df, \"u'w', 3m-UE\") | mrd_plot(apr18_u_w_3m_uw_mrd_df, \"u'w', 3m-UW\")\n",
    "    ).resolve_scale(y='shared') & (\n",
    "        mrd_plot(apr18_u_w_10m_c_mrd_df, \"u'w', 10m-C\") | mrd_plot(apr18_u_w_10m_d_mrd_df, \"u'w', 10m-D\") \n",
    "        | mrd_plot(apr18_u_w_10m_ue_mrd_df, \"u'w', 10m-UE\") | mrd_plot(apr18_u_w_10m_uw_mrd_df, \"u'w', 10m-UW\")\n",
    "    ).resolve_scale(y='shared') & (\n",
    "        mrd_plot(apr18_u_w_5m_c_mrd_df, \"u'w', 5m-C\") |  mrd_plot(apr18_u_w_15m_c_mrd_df, \"u'w', 15m-C\") |  mrd_plot(apr18_u_w_20m_c_mrd_df, \"u'w', 20m-C\")\n",
    "    ).resolve_scale(y='shared')\n",
    ").resolve_scale(y='shared')"
   ]
  },
  {
   "cell_type": "markdown",
   "metadata": {},
   "source": [
    "### Isotropic stress cospectra - tower c 3 and 10m"
   ]
  },
  {
   "cell_type": "code",
   "execution_count": 10,
   "metadata": {},
   "outputs": [
    {
     "name": "stdout",
     "output_type": "stream",
     "text": [
      "Timestep of fast data is: 50.0 ms\n",
      "Dataset of length 216000, with M = 17, permits 42 iterations.\n"
     ]
    },
    {
     "name": "stderr",
     "output_type": "stream",
     "text": [
      "100%|██████████| 42/42 [00:14<00:00,  2.91it/s]\n"
     ]
    },
    {
     "name": "stdout",
     "output_type": "stream",
     "text": [
      "Timestep of fast data is: 50.0 ms\n",
      "Dataset of length 216000, with M = 17, permits 42 iterations.\n"
     ]
    },
    {
     "name": "stderr",
     "output_type": "stream",
     "text": [
      "100%|██████████| 42/42 [01:52<00:00,  2.68s/it]\n"
     ]
    },
    {
     "name": "stdout",
     "output_type": "stream",
     "text": [
      "Timestep of fast data is: 50.0 ms\n",
      "Dataset of length 216000, with M = 17, permits 42 iterations.\n"
     ]
    },
    {
     "name": "stderr",
     "output_type": "stream",
     "text": [
      "100%|██████████| 42/42 [00:14<00:00,  2.92it/s]\n"
     ]
    },
    {
     "name": "stdout",
     "output_type": "stream",
     "text": [
      "Timestep of fast data is: 50.0 ms\n",
      "Dataset of length 216000, with M = 17, permits 42 iterations.\n"
     ]
    },
    {
     "name": "stderr",
     "output_type": "stream",
     "text": [
      "100%|██████████| 42/42 [03:50<00:00,  5.49s/it]\n"
     ]
    },
    {
     "name": "stdout",
     "output_type": "stream",
     "text": [
      "Timestep of fast data is: 50.0 ms\n",
      "Dataset of length 216000, with M = 17, permits 42 iterations.\n"
     ]
    },
    {
     "name": "stderr",
     "output_type": "stream",
     "text": [
      "100%|██████████| 42/42 [00:14<00:00,  2.90it/s]\n"
     ]
    },
    {
     "name": "stdout",
     "output_type": "stream",
     "text": [
      "Timestep of fast data is: 50.0 ms\n",
      "Dataset of length 216000, with M = 17, permits 42 iterations.\n"
     ]
    },
    {
     "name": "stderr",
     "output_type": "stream",
     "text": [
      "100%|██████████| 42/42 [26:10<00:00, 37.40s/it]\n"
     ]
    }
   ],
   "source": [
    "apr18_u_u_3m_c_mrd_df = calculate_mrd_for_df(apr18_df, 'u_3m_c', 'u_3m_c', shift = 2000, parallelism=8)\n",
    "apr18_v_v_3m_c_mrd_df = calculate_mrd_for_df(apr18_df, 'v_3m_c', 'v_3m_c', shift = 2000, parallelism=8)\n",
    "apr18_w_w_3m_c_mrd_df = calculate_mrd_for_df(apr18_df, 'w_3m_c', 'w_3m_c', shift = 2000, parallelism=8)\n",
    "\n",
    "apr18_u_u_10m_c_mrd_df = calculate_mrd_for_df(apr18_df, 'u_10m_c', 'u_10m_c', shift = 2000, parallelism=8)\n",
    "apr18_v_v_10m_c_mrd_df = calculate_mrd_for_df(apr18_df, 'v_10m_c', 'v_10m_c', shift = 2000, parallelism=8)\n",
    "apr18_w_w_10m_c_mrd_df = calculate_mrd_for_df(apr18_df, 'w_10m_c', 'w_10m_c', shift = 2000, parallelism=8)"
   ]
  },
  {
   "cell_type": "code",
   "execution_count": 11,
   "metadata": {},
   "outputs": [
    {
     "data": {
      "text/html": [
       "\n",
       "<style>\n",
       "  #altair-viz-6d9c51692fef477f80b0fbbd3de2536c.vega-embed {\n",
       "    width: 100%;\n",
       "    display: flex;\n",
       "  }\n",
       "\n",
       "  #altair-viz-6d9c51692fef477f80b0fbbd3de2536c.vega-embed details,\n",
       "  #altair-viz-6d9c51692fef477f80b0fbbd3de2536c.vega-embed details summary {\n",
       "    position: relative;\n",
       "  }\n",
       "</style>\n",
       "<div id=\"altair-viz-6d9c51692fef477f80b0fbbd3de2536c\"></div>\n",
       "<script type=\"text/javascript\">\n",
       "  var VEGA_DEBUG = (typeof VEGA_DEBUG == \"undefined\") ? {} : VEGA_DEBUG;\n",
       "  (function(spec, embedOpt){\n",
       "    let outputDiv = document.currentScript.previousElementSibling;\n",
       "    if (outputDiv.id !== \"altair-viz-6d9c51692fef477f80b0fbbd3de2536c\") {\n",
       "      outputDiv = document.getElementById(\"altair-viz-6d9c51692fef477f80b0fbbd3de2536c\");\n",
       "    }\n",
       "    const paths = {\n",
       "      \"vega\": \"https://cdn.jsdelivr.net/npm/vega@5?noext\",\n",
       "      \"vega-lib\": \"https://cdn.jsdelivr.net/npm/vega-lib?noext\",\n",
       "      \"vega-lite\": \"https://cdn.jsdelivr.net/npm/vega-lite@5.20.1?noext\",\n",
       "      \"vega-embed\": \"https://cdn.jsdelivr.net/npm/vega-embed@6?noext\",\n",
       "    };\n",
       "\n",
       "    function maybeLoadScript(lib, version) {\n",
       "      var key = `${lib.replace(\"-\", \"\")}_version`;\n",
       "      return (VEGA_DEBUG[key] == version) ?\n",
       "        Promise.resolve(paths[lib]) :\n",
       "        new Promise(function(resolve, reject) {\n",
       "          var s = document.createElement('script');\n",
       "          document.getElementsByTagName(\"head\")[0].appendChild(s);\n",
       "          s.async = true;\n",
       "          s.onload = () => {\n",
       "            VEGA_DEBUG[key] = version;\n",
       "            return resolve(paths[lib]);\n",
       "          };\n",
       "          s.onerror = () => reject(`Error loading script: ${paths[lib]}`);\n",
       "          s.src = paths[lib];\n",
       "        });\n",
       "    }\n",
       "\n",
       "    function showError(err) {\n",
       "      outputDiv.innerHTML = `<div class=\"error\" style=\"color:red;\">${err}</div>`;\n",
       "      throw err;\n",
       "    }\n",
       "\n",
       "    function displayChart(vegaEmbed) {\n",
       "      vegaEmbed(outputDiv, spec, embedOpt)\n",
       "        .catch(err => showError(`Javascript Error: ${err.message}<br>This usually means there's a typo in your chart specification. See the javascript console for the full traceback.`));\n",
       "    }\n",
       "\n",
       "    if(typeof define === \"function\" && define.amd) {\n",
       "      requirejs.config({paths});\n",
       "      require([\"vega-embed\"], displayChart, err => showError(`Error loading script: ${err.message}`));\n",
       "    } else {\n",
       "      maybeLoadScript(\"vega\", \"5\")\n",
       "        .then(() => maybeLoadScript(\"vega-lite\", \"5.20.1\"))\n",
       "        .then(() => maybeLoadScript(\"vega-embed\", \"6\"))\n",
       "        .catch(showError)\n",
       "        .then(() => displayChart(vegaEmbed));\n",
       "    }\n",
       "  })({\"config\": {\"view\": {\"continuousWidth\": 300, \"continuousHeight\": 300}}, \"hconcat\": [{\"vconcat\": [{\"hconcat\": [{\"layer\": [{\"mark\": {\"type\": \"errorband\", \"extent\": \"iqr\"}, \"encoding\": {\"x\": {\"field\": \"tau\", \"scale\": {\"type\": \"log\"}, \"title\": \"tau (s)\", \"type\": \"quantitative\"}, \"y\": {\"field\": \"Co\", \"type\": \"quantitative\"}}}, {\"mark\": {\"type\": \"line\"}, \"encoding\": {\"x\": {\"field\": \"tau\", \"scale\": {\"type\": \"log\"}, \"title\": \"tau (s)\", \"type\": \"quantitative\"}, \"y\": {\"aggregate\": \"mean\", \"field\": \"Co\", \"type\": \"quantitative\"}}}], \"data\": {\"url\": \"altair-data-7ac4402c674121702d25264fe311127d.json\", \"format\": {\"type\": \"json\"}}, \"height\": 200, \"title\": \"u'u', 3m-C\", \"width\": 200}, {\"layer\": [{\"mark\": {\"type\": \"errorband\", \"extent\": \"iqr\"}, \"encoding\": {\"x\": {\"field\": \"tau\", \"scale\": {\"type\": \"log\"}, \"title\": \"tau (s)\", \"type\": \"quantitative\"}, \"y\": {\"field\": \"Co\", \"type\": \"quantitative\"}}}, {\"mark\": {\"type\": \"line\"}, \"encoding\": {\"x\": {\"field\": \"tau\", \"scale\": {\"type\": \"log\"}, \"title\": \"tau (s)\", \"type\": \"quantitative\"}, \"y\": {\"aggregate\": \"mean\", \"field\": \"Co\", \"type\": \"quantitative\"}}}], \"data\": {\"url\": \"altair-data-49e1ac5f5ea5e2f369b4ad5ee692ff3c.json\", \"format\": {\"type\": \"json\"}}, \"height\": 200, \"title\": \"v'v', 3m-C\", \"width\": 200}], \"resolve\": {\"scale\": {\"y\": \"shared\"}}}, {\"hconcat\": [{\"layer\": [{\"mark\": {\"type\": \"errorband\", \"extent\": \"iqr\"}, \"encoding\": {\"x\": {\"field\": \"tau\", \"scale\": {\"type\": \"log\"}, \"title\": \"tau (s)\", \"type\": \"quantitative\"}, \"y\": {\"field\": \"Co\", \"type\": \"quantitative\"}}}, {\"mark\": {\"type\": \"line\"}, \"encoding\": {\"x\": {\"field\": \"tau\", \"scale\": {\"type\": \"log\"}, \"title\": \"tau (s)\", \"type\": \"quantitative\"}, \"y\": {\"aggregate\": \"mean\", \"field\": \"Co\", \"type\": \"quantitative\"}}}], \"data\": {\"url\": \"altair-data-edd31446ade22747fe6aab6cda149ce2.json\", \"format\": {\"type\": \"json\"}}, \"height\": 200, \"title\": \"u'u', 10-C\", \"width\": 200}, {\"layer\": [{\"mark\": {\"type\": \"errorband\", \"extent\": \"iqr\"}, \"encoding\": {\"x\": {\"field\": \"tau\", \"scale\": {\"type\": \"log\"}, \"title\": \"tau (s)\", \"type\": \"quantitative\"}, \"y\": {\"field\": \"Co\", \"type\": \"quantitative\"}}}, {\"mark\": {\"type\": \"line\"}, \"encoding\": {\"x\": {\"field\": \"tau\", \"scale\": {\"type\": \"log\"}, \"title\": \"tau (s)\", \"type\": \"quantitative\"}, \"y\": {\"aggregate\": \"mean\", \"field\": \"Co\", \"type\": \"quantitative\"}}}], \"data\": {\"url\": \"altair-data-01fee4962fa69db30a27609f5c859c55.json\", \"format\": {\"type\": \"json\"}}, \"height\": 200, \"title\": \"v'v', 3m-C\", \"width\": 200}], \"resolve\": {\"scale\": {\"y\": \"shared\"}}}], \"resolve\": {\"scale\": {\"y\": \"shared\"}}}, {\"vconcat\": [{\"layer\": [{\"mark\": {\"type\": \"errorband\", \"extent\": \"iqr\"}, \"encoding\": {\"x\": {\"field\": \"tau\", \"scale\": {\"type\": \"log\"}, \"title\": \"tau (s)\", \"type\": \"quantitative\"}, \"y\": {\"field\": \"Co\", \"type\": \"quantitative\"}}}, {\"mark\": {\"type\": \"line\"}, \"encoding\": {\"x\": {\"field\": \"tau\", \"scale\": {\"type\": \"log\"}, \"title\": \"tau (s)\", \"type\": \"quantitative\"}, \"y\": {\"aggregate\": \"mean\", \"field\": \"Co\", \"type\": \"quantitative\"}}}], \"data\": {\"url\": \"altair-data-3a9cc68faba8564710af2e0d586535cf.json\", \"format\": {\"type\": \"json\"}}, \"height\": 200, \"title\": \"w'w', 3m-C\", \"width\": 200}, {\"layer\": [{\"mark\": {\"type\": \"errorband\", \"extent\": \"iqr\"}, \"encoding\": {\"x\": {\"field\": \"tau\", \"scale\": {\"type\": \"log\"}, \"title\": \"tau (s)\", \"type\": \"quantitative\"}, \"y\": {\"field\": \"Co\", \"type\": \"quantitative\"}}}, {\"mark\": {\"type\": \"line\"}, \"encoding\": {\"x\": {\"field\": \"tau\", \"scale\": {\"type\": \"log\"}, \"title\": \"tau (s)\", \"type\": \"quantitative\"}, \"y\": {\"aggregate\": \"mean\", \"field\": \"Co\", \"type\": \"quantitative\"}}}], \"data\": {\"url\": \"altair-data-86174bfc62aab5d944ee4aacc7163518.json\", \"format\": {\"type\": \"json\"}}, \"height\": 200, \"title\": \"w'w', 10m-C\", \"width\": 200}], \"resolve\": {\"scale\": {\"y\": \"shared\"}}}], \"$schema\": \"https://vega.github.io/schema/vega-lite/v5.20.1.json\"}, {\"mode\": \"vega-lite\"});\n",
       "</script>"
      ],
      "text/plain": [
       "alt.HConcatChart(...)"
      ]
     },
     "execution_count": 11,
     "metadata": {},
     "output_type": "execute_result"
    }
   ],
   "source": [
    "((\n",
    "    mrd_plot(apr18_u_u_3m_c_mrd_df, \"u'u', 3m-C\") | mrd_plot(apr18_v_v_3m_c_mrd_df, \"v'v', 3m-C\") \n",
    ").resolve_scale(y='shared') & (\n",
    "    mrd_plot(apr18_u_u_10m_c_mrd_df, \"u'u', 10-C\") | mrd_plot(apr18_v_v_10m_c_mrd_df, \"v'v', 3m-C\")\n",
    ").resolve_scale(y='shared')).resolve_scale(y='shared') | (\n",
    "    mrd_plot(apr18_w_w_3m_c_mrd_df, \"w'w', 3m-C\") & mrd_plot(apr18_w_w_10m_c_mrd_df, \"w'w', 10m-C\")\n",
    ").resolve_scale(y='shared')"
   ]
  },
  {
   "cell_type": "markdown",
   "metadata": {},
   "source": [
    "## Dec 21"
   ]
  },
  {
   "cell_type": "code",
   "execution_count": 12,
   "metadata": {},
   "outputs": [
    {
     "name": "stdout",
     "output_type": "stream",
     "text": [
      "-61.833385\n",
      "mean u, v, w after first rotation  u_2m_c    5.325658e+00\n",
      "v_2m_c   -4.837601e-07\n",
      "w_2m_c    8.059380e-02\n",
      "dtype: float32\n",
      "-60.20123\n",
      "mean u, v, w after first rotation  u_3m_c    5.669217e+00\n",
      "v_3m_c    1.130281e-07\n",
      "w_3m_c    5.993508e-02\n",
      "dtype: float32\n",
      "-62.363598\n",
      "mean u, v, w after first rotation  u_5m_c    6.094958e+00\n",
      "v_5m_c   -1.537182e-07\n",
      "w_5m_c    6.208957e-02\n",
      "dtype: float32\n",
      "-60.802074\n",
      "mean u, v, w after first rotation  u_10m_c    6.465034e+00\n",
      "v_10m_c    5.470558e-07\n",
      "w_10m_c   -6.427024e-03\n",
      "dtype: float32\n",
      "-62.69881\n",
      "mean u, v, w after first rotation  u_15m_c    6.803667e+00\n",
      "v_15m_c   -2.961335e-07\n",
      "w_15m_c    5.895937e-02\n",
      "dtype: float32\n",
      "-62.253933\n",
      "mean u, v, w after first rotation  u_20m_c    7.077481e+00\n",
      "v_20m_c   -2.215350e-07\n",
      "w_20m_c    2.049043e-02\n",
      "dtype: float32\n",
      "-62.966145\n",
      "mean u, v, w after first rotation  u_3m_uw    5.593379e+00\n",
      "v_3m_uw   -5.900065e-07\n",
      "w_3m_uw    1.943769e-02\n",
      "dtype: float32\n",
      "-61.361576\n",
      "mean u, v, w after first rotation  u_10m_uw    6.501176e+00\n",
      "v_10m_uw    1.548485e-07\n",
      "w_10m_uw   -1.366047e-02\n",
      "dtype: float32\n",
      "-62.171642\n",
      "mean u, v, w after first rotation  u_3m_ue    5.637741e+00\n",
      "v_3m_ue   -4.973235e-07\n",
      "w_3m_ue    2.358104e-02\n",
      "dtype: float32\n",
      "-61.59909\n",
      "mean u, v, w after first rotation  u_10m_ue    6.514380\n",
      "v_10m_ue    0.000000\n",
      "w_10m_ue   -0.009268\n",
      "dtype: float32\n",
      "-64.119316\n",
      "mean u, v, w after first rotation  u_3m_d    5.626103e+00\n",
      "v_3m_d    6.781684e-08\n",
      "w_3m_d   -1.516686e-02\n",
      "dtype: float32\n",
      "-60.400467\n",
      "mean u, v, w after first rotation  u_10m_d    6.692292e+00\n",
      "v_10m_d    2.486617e-07\n",
      "w_10m_d   -1.432134e-03\n",
      "dtype: float32\n",
      "mean u, v, w after second rotation  u_2m_c    5.326267e+00\n",
      "v_2m_c   -4.837601e-07\n",
      "w_2m_c    8.689033e-09\n",
      "dtype: float32\n",
      "mean u, v, w after second rotation  u_3m_c    5.669534e+00\n",
      "v_3m_c    1.130281e-07\n",
      "w_3m_c    9.678028e-09\n",
      "dtype: float32\n",
      "mean u, v, w after second rotation  u_5m_c    6.095273e+00\n",
      "v_5m_c   -1.537182e-07\n",
      "w_5m_c    1.137345e-08\n",
      "dtype: float32\n",
      "mean u, v, w after second rotation  u_10m_c    6.465037e+00\n",
      "v_10m_c    5.470558e-07\n",
      "w_10m_c   -2.543131e-09\n",
      "dtype: float32\n",
      "mean u, v, w after second rotation  u_15m_c    6.803923e+00\n",
      "v_15m_c   -2.961335e-07\n",
      "w_15m_c   -9.536743e-09\n",
      "dtype: float32\n",
      "mean u, v, w after second rotation  u_20m_c    7.077510e+00\n",
      "v_20m_c   -2.215350e-07\n",
      "w_20m_c    2.966987e-09\n",
      "dtype: float32\n",
      "mean u, v, w after second rotation  u_3m_uw    5.593412e+00\n",
      "v_3m_uw   -5.900065e-07\n",
      "w_3m_uw   -1.130281e-09\n",
      "dtype: float32\n",
      "mean u, v, w after second rotation  u_10m_uw    6.501191e+00\n",
      "v_10m_uw    1.548485e-07\n",
      "w_10m_uw    8.477105e-10\n",
      "dtype: float32\n",
      "mean u, v, w after second rotation  u_3m_ue    5.637790e+00\n",
      "v_3m_ue   -4.973235e-07\n",
      "w_3m_ue    1.836706e-09\n",
      "dtype: float32\n",
      "mean u, v, w after second rotation  u_10m_ue    6.514388e+00\n",
      "v_10m_ue    0.000000e+00\n",
      "w_10m_ue   -5.651403e-10\n",
      "dtype: float32\n",
      "mean u, v, w after second rotation  u_3m_d    5.626124e+00\n",
      "v_3m_d    6.781684e-08\n",
      "w_3m_d    0.000000e+00\n",
      "dtype: float32\n",
      "mean u, v, w after second rotation  u_10m_d    6.692293e+00\n",
      "v_10m_d    2.486617e-07\n",
      "w_10m_d    1.412851e-10\n",
      "dtype: float32\n"
     ]
    }
   ],
   "source": [
    "dec21_df = fast_data_files_to_dataframe([\n",
    "    '/Users/elischwat/Development/data/sublimationofsnow/sosqc_fast/isfs_sos_qc_geo_tiltcor_hr_v2_20221221_21.nc',\n",
    "    '/Users/elischwat/Development/data/sublimationofsnow/sosqc_fast/isfs_sos_qc_geo_tiltcor_hr_v2_20221221_22.nc',\n",
    "    '/Users/elischwat/Development/data/sublimationofsnow/sosqc_fast/isfs_sos_qc_geo_tiltcor_hr_v2_20221221_23.nc',\n",
    "],  rotation='double')\n",
    "dec21_df = utils.modify_df_timezone(dec21_df, pytz.UTC, \"US/Mountain\")"
   ]
  },
  {
   "cell_type": "markdown",
   "metadata": {},
   "source": [
    "### u'w' cospectra - all ECs"
   ]
  },
  {
   "cell_type": "code",
   "execution_count": 13,
   "metadata": {},
   "outputs": [
    {
     "name": "stdout",
     "output_type": "stream",
     "text": [
      "Timestep of fast data is: 50.0 ms\n",
      "Dataset of length 216000, with M = 17, permits 42 iterations.\n"
     ]
    },
    {
     "name": "stderr",
     "output_type": "stream",
     "text": [
      "  0%|          | 0/42 [00:00<?, ?it/s]"
     ]
    },
    {
     "name": "stderr",
     "output_type": "stream",
     "text": [
      "100%|██████████| 42/42 [00:14<00:00,  2.91it/s]\n"
     ]
    },
    {
     "name": "stdout",
     "output_type": "stream",
     "text": [
      "Timestep of fast data is: 50.0 ms\n",
      "Dataset of length 216000, with M = 17, permits 42 iterations.\n"
     ]
    },
    {
     "name": "stderr",
     "output_type": "stream",
     "text": [
      "100%|██████████| 42/42 [02:40<00:00,  3.81s/it]\n"
     ]
    },
    {
     "name": "stdout",
     "output_type": "stream",
     "text": [
      "Timestep of fast data is: 50.0 ms\n",
      "Dataset of length 216000, with M = 17, permits 42 iterations.\n"
     ]
    },
    {
     "name": "stderr",
     "output_type": "stream",
     "text": [
      "100%|██████████| 42/42 [00:14<00:00,  2.92it/s]\n"
     ]
    },
    {
     "name": "stdout",
     "output_type": "stream",
     "text": [
      "Timestep of fast data is: 50.0 ms\n",
      "Dataset of length 216000, with M = 17, permits 42 iterations.\n"
     ]
    },
    {
     "name": "stderr",
     "output_type": "stream",
     "text": [
      "100%|██████████| 42/42 [57:15<00:00, 81.80s/it] \n"
     ]
    },
    {
     "name": "stdout",
     "output_type": "stream",
     "text": [
      "Timestep of fast data is: 50.0 ms\n",
      "Dataset of length 216000, with M = 17, permits 42 iterations.\n"
     ]
    },
    {
     "name": "stderr",
     "output_type": "stream",
     "text": [
      "100%|██████████| 42/42 [00:14<00:00,  2.89it/s]\n"
     ]
    },
    {
     "name": "stdout",
     "output_type": "stream",
     "text": [
      "Timestep of fast data is: 50.0 ms\n",
      "Dataset of length 216000, with M = 17, permits 42 iterations.\n"
     ]
    },
    {
     "name": "stderr",
     "output_type": "stream",
     "text": [
      "100%|██████████| 42/42 [00:14<00:00,  2.90it/s]\n"
     ]
    },
    {
     "name": "stdout",
     "output_type": "stream",
     "text": [
      "Timestep of fast data is: 50.0 ms\n",
      "Dataset of length 216000, with M = 17, permits 42 iterations.\n"
     ]
    },
    {
     "name": "stderr",
     "output_type": "stream",
     "text": [
      "100%|██████████| 42/42 [00:14<00:00,  2.92it/s]\n"
     ]
    },
    {
     "name": "stdout",
     "output_type": "stream",
     "text": [
      "Timestep of fast data is: 50.0 ms\n",
      "Dataset of length 216000, with M = 17, permits 42 iterations.\n"
     ]
    },
    {
     "name": "stderr",
     "output_type": "stream",
     "text": [
      "100%|██████████| 42/42 [00:14<00:00,  2.83it/s]\n"
     ]
    },
    {
     "name": "stdout",
     "output_type": "stream",
     "text": [
      "Timestep of fast data is: 50.0 ms\n",
      "Dataset of length 216000, with M = 17, permits 42 iterations.\n"
     ]
    },
    {
     "name": "stderr",
     "output_type": "stream",
     "text": [
      "100%|██████████| 42/42 [00:41<00:00,  1.02it/s]\n"
     ]
    },
    {
     "name": "stdout",
     "output_type": "stream",
     "text": [
      "Timestep of fast data is: 50.0 ms\n",
      "Dataset of length 216000, with M = 17, permits 42 iterations.\n"
     ]
    },
    {
     "name": "stderr",
     "output_type": "stream",
     "text": [
      "100%|██████████| 42/42 [00:14<00:00,  2.91it/s]\n"
     ]
    },
    {
     "name": "stdout",
     "output_type": "stream",
     "text": [
      "Timestep of fast data is: 50.0 ms\n",
      "Dataset of length 216000, with M = 17, permits 42 iterations.\n"
     ]
    },
    {
     "name": "stderr",
     "output_type": "stream",
     "text": [
      "100%|██████████| 42/42 [03:08<00:00,  4.48s/it]\n"
     ]
    }
   ],
   "source": [
    "dec21_u_w_3m_c_mrd_df = calculate_mrd_for_df(dec21_df, 'u_3m_c', 'w_3m_c', shift = 2000, parallelism=8)\n",
    "dec21_u_w_3m_d_mrd_df = calculate_mrd_for_df(dec21_df, 'u_3m_d', 'w_3m_d', shift = 2000, parallelism=8)\n",
    "dec21_u_w_3m_ue_mrd_df = calculate_mrd_for_df(dec21_df, 'u_3m_ue', 'w_3m_ue', shift = 2000, parallelism=8)\n",
    "dec21_u_w_3m_uw_mrd_df = calculate_mrd_for_df(dec21_df, 'u_3m_uw', 'w_3m_uw', shift = 2000, parallelism=8)\n",
    "\n",
    "dec21_u_w_10m_c_mrd_df = calculate_mrd_for_df(dec21_df, 'u_10m_c', 'w_10m_c', shift = 2000, parallelism=8)\n",
    "dec21_u_w_10m_d_mrd_df = calculate_mrd_for_df(dec21_df, 'u_10m_d', 'w_10m_d', shift = 2000, parallelism=8)\n",
    "dec21_u_w_10m_ue_mrd_df = calculate_mrd_for_df(dec21_df, 'u_10m_ue', 'w_10m_ue', shift = 2000, parallelism=8)\n",
    "dec21_u_w_10m_uw_mrd_df = calculate_mrd_for_df(dec21_df, 'u_10m_uw', 'w_10m_uw', shift = 2000, parallelism=8)\n",
    "\n",
    "dec21_u_w_5m_c_mrd_df = calculate_mrd_for_df(dec21_df, 'u_5m_c', 'w_5m_c', shift = 2000, parallelism=8)\n",
    "dec21_u_w_15m_c_mrd_df = calculate_mrd_for_df(dec21_df, 'u_15m_c', 'w_15m_c', shift = 2000, parallelism=8)\n",
    "dec21_u_w_20m_c_mrd_df = calculate_mrd_for_df(dec21_df, 'u_20m_c', 'w_20m_c', shift = 2000, parallelism=8)"
   ]
  },
  {
   "cell_type": "code",
   "execution_count": 14,
   "metadata": {},
   "outputs": [],
   "source": [
    "def mrd_plot(data, title='', color=None):\n",
    "    base = alt.Chart().encode(\n",
    "        alt.X('tau:Q').scale(type='log').title('tau (s)'),\n",
    "    )\n",
    "    if color:\n",
    "        band = base.mark_errorband(extent='iqr', color=color).encode(alt.Y('Co:Q'))\n",
    "        line = base.mark_line(color=color).encode(alt.Y('mean(Co):Q'))\n",
    "    else:\n",
    "        band = base.mark_errorband(extent='iqr').encode(alt.Y('Co:Q'))\n",
    "        line = base.mark_line().encode(alt.Y('mean(Co):Q'))\n",
    "    return alt.layer(\n",
    "        band, line, data=data\n",
    "    ).properties(width=200, height=200, title=title)"
   ]
  },
  {
   "cell_type": "code",
   "execution_count": 15,
   "metadata": {},
   "outputs": [
    {
     "data": {
      "text/html": [
       "\n",
       "<style>\n",
       "  #altair-viz-37b4df2111f046178de874024b24d4a3.vega-embed {\n",
       "    width: 100%;\n",
       "    display: flex;\n",
       "  }\n",
       "\n",
       "  #altair-viz-37b4df2111f046178de874024b24d4a3.vega-embed details,\n",
       "  #altair-viz-37b4df2111f046178de874024b24d4a3.vega-embed details summary {\n",
       "    position: relative;\n",
       "  }\n",
       "</style>\n",
       "<div id=\"altair-viz-37b4df2111f046178de874024b24d4a3\"></div>\n",
       "<script type=\"text/javascript\">\n",
       "  var VEGA_DEBUG = (typeof VEGA_DEBUG == \"undefined\") ? {} : VEGA_DEBUG;\n",
       "  (function(spec, embedOpt){\n",
       "    let outputDiv = document.currentScript.previousElementSibling;\n",
       "    if (outputDiv.id !== \"altair-viz-37b4df2111f046178de874024b24d4a3\") {\n",
       "      outputDiv = document.getElementById(\"altair-viz-37b4df2111f046178de874024b24d4a3\");\n",
       "    }\n",
       "    const paths = {\n",
       "      \"vega\": \"https://cdn.jsdelivr.net/npm/vega@5?noext\",\n",
       "      \"vega-lib\": \"https://cdn.jsdelivr.net/npm/vega-lib?noext\",\n",
       "      \"vega-lite\": \"https://cdn.jsdelivr.net/npm/vega-lite@5.20.1?noext\",\n",
       "      \"vega-embed\": \"https://cdn.jsdelivr.net/npm/vega-embed@6?noext\",\n",
       "    };\n",
       "\n",
       "    function maybeLoadScript(lib, version) {\n",
       "      var key = `${lib.replace(\"-\", \"\")}_version`;\n",
       "      return (VEGA_DEBUG[key] == version) ?\n",
       "        Promise.resolve(paths[lib]) :\n",
       "        new Promise(function(resolve, reject) {\n",
       "          var s = document.createElement('script');\n",
       "          document.getElementsByTagName(\"head\")[0].appendChild(s);\n",
       "          s.async = true;\n",
       "          s.onload = () => {\n",
       "            VEGA_DEBUG[key] = version;\n",
       "            return resolve(paths[lib]);\n",
       "          };\n",
       "          s.onerror = () => reject(`Error loading script: ${paths[lib]}`);\n",
       "          s.src = paths[lib];\n",
       "        });\n",
       "    }\n",
       "\n",
       "    function showError(err) {\n",
       "      outputDiv.innerHTML = `<div class=\"error\" style=\"color:red;\">${err}</div>`;\n",
       "      throw err;\n",
       "    }\n",
       "\n",
       "    function displayChart(vegaEmbed) {\n",
       "      vegaEmbed(outputDiv, spec, embedOpt)\n",
       "        .catch(err => showError(`Javascript Error: ${err.message}<br>This usually means there's a typo in your chart specification. See the javascript console for the full traceback.`));\n",
       "    }\n",
       "\n",
       "    if(typeof define === \"function\" && define.amd) {\n",
       "      requirejs.config({paths});\n",
       "      require([\"vega-embed\"], displayChart, err => showError(`Error loading script: ${err.message}`));\n",
       "    } else {\n",
       "      maybeLoadScript(\"vega\", \"5\")\n",
       "        .then(() => maybeLoadScript(\"vega-lite\", \"5.20.1\"))\n",
       "        .then(() => maybeLoadScript(\"vega-embed\", \"6\"))\n",
       "        .catch(showError)\n",
       "        .then(() => displayChart(vegaEmbed));\n",
       "    }\n",
       "  })({\"config\": {\"view\": {\"continuousWidth\": 300, \"continuousHeight\": 300}}, \"vconcat\": [{\"hconcat\": [{\"layer\": [{\"mark\": {\"type\": \"errorband\", \"extent\": \"iqr\"}, \"encoding\": {\"x\": {\"field\": \"tau\", \"scale\": {\"type\": \"log\"}, \"title\": \"tau (s)\", \"type\": \"quantitative\"}, \"y\": {\"field\": \"Co\", \"type\": \"quantitative\"}}}, {\"mark\": {\"type\": \"line\"}, \"encoding\": {\"x\": {\"field\": \"tau\", \"scale\": {\"type\": \"log\"}, \"title\": \"tau (s)\", \"type\": \"quantitative\"}, \"y\": {\"aggregate\": \"mean\", \"field\": \"Co\", \"type\": \"quantitative\"}}}], \"data\": {\"url\": \"altair-data-f31151071aab9e8efa36ac2a2676f255.json\", \"format\": {\"type\": \"json\"}}, \"height\": 200, \"title\": \"u'w', 3m-C\", \"width\": 200}, {\"layer\": [{\"mark\": {\"type\": \"errorband\", \"extent\": \"iqr\"}, \"encoding\": {\"x\": {\"field\": \"tau\", \"scale\": {\"type\": \"log\"}, \"title\": \"tau (s)\", \"type\": \"quantitative\"}, \"y\": {\"field\": \"Co\", \"type\": \"quantitative\"}}}, {\"mark\": {\"type\": \"line\"}, \"encoding\": {\"x\": {\"field\": \"tau\", \"scale\": {\"type\": \"log\"}, \"title\": \"tau (s)\", \"type\": \"quantitative\"}, \"y\": {\"aggregate\": \"mean\", \"field\": \"Co\", \"type\": \"quantitative\"}}}], \"data\": {\"url\": \"altair-data-7e6fb332c6487ed75e8dc79995dbea83.json\", \"format\": {\"type\": \"json\"}}, \"height\": 200, \"title\": \"u'w', 3m-D\", \"width\": 200}, {\"layer\": [{\"mark\": {\"type\": \"errorband\", \"extent\": \"iqr\"}, \"encoding\": {\"x\": {\"field\": \"tau\", \"scale\": {\"type\": \"log\"}, \"title\": \"tau (s)\", \"type\": \"quantitative\"}, \"y\": {\"field\": \"Co\", \"type\": \"quantitative\"}}}, {\"mark\": {\"type\": \"line\"}, \"encoding\": {\"x\": {\"field\": \"tau\", \"scale\": {\"type\": \"log\"}, \"title\": \"tau (s)\", \"type\": \"quantitative\"}, \"y\": {\"aggregate\": \"mean\", \"field\": \"Co\", \"type\": \"quantitative\"}}}], \"data\": {\"url\": \"altair-data-8bc5d791452619bd1009da7cb8f33bd1.json\", \"format\": {\"type\": \"json\"}}, \"height\": 200, \"title\": \"u'w', 3m-UE\", \"width\": 200}, {\"layer\": [{\"mark\": {\"type\": \"errorband\", \"extent\": \"iqr\"}, \"encoding\": {\"x\": {\"field\": \"tau\", \"scale\": {\"type\": \"log\"}, \"title\": \"tau (s)\", \"type\": \"quantitative\"}, \"y\": {\"field\": \"Co\", \"type\": \"quantitative\"}}}, {\"mark\": {\"type\": \"line\"}, \"encoding\": {\"x\": {\"field\": \"tau\", \"scale\": {\"type\": \"log\"}, \"title\": \"tau (s)\", \"type\": \"quantitative\"}, \"y\": {\"aggregate\": \"mean\", \"field\": \"Co\", \"type\": \"quantitative\"}}}], \"data\": {\"url\": \"altair-data-ed3a04b64eba1e0c3920a34faf46af9e.json\", \"format\": {\"type\": \"json\"}}, \"height\": 200, \"title\": \"u'w', 3m-UW\", \"width\": 200}], \"resolve\": {\"scale\": {\"y\": \"shared\"}}}, {\"hconcat\": [{\"layer\": [{\"mark\": {\"type\": \"errorband\", \"extent\": \"iqr\"}, \"encoding\": {\"x\": {\"field\": \"tau\", \"scale\": {\"type\": \"log\"}, \"title\": \"tau (s)\", \"type\": \"quantitative\"}, \"y\": {\"field\": \"Co\", \"type\": \"quantitative\"}}}, {\"mark\": {\"type\": \"line\"}, \"encoding\": {\"x\": {\"field\": \"tau\", \"scale\": {\"type\": \"log\"}, \"title\": \"tau (s)\", \"type\": \"quantitative\"}, \"y\": {\"aggregate\": \"mean\", \"field\": \"Co\", \"type\": \"quantitative\"}}}], \"data\": {\"url\": \"altair-data-60e690fa9e5862c78cc918d4a863e6f5.json\", \"format\": {\"type\": \"json\"}}, \"height\": 200, \"title\": \"u'w', 10m-C\", \"width\": 200}, {\"layer\": [{\"mark\": {\"type\": \"errorband\", \"extent\": \"iqr\"}, \"encoding\": {\"x\": {\"field\": \"tau\", \"scale\": {\"type\": \"log\"}, \"title\": \"tau (s)\", \"type\": \"quantitative\"}, \"y\": {\"field\": \"Co\", \"type\": \"quantitative\"}}}, {\"mark\": {\"type\": \"line\"}, \"encoding\": {\"x\": {\"field\": \"tau\", \"scale\": {\"type\": \"log\"}, \"title\": \"tau (s)\", \"type\": \"quantitative\"}, \"y\": {\"aggregate\": \"mean\", \"field\": \"Co\", \"type\": \"quantitative\"}}}], \"data\": {\"url\": \"altair-data-fd041f20e1de81faccbc92dfa97a7b77.json\", \"format\": {\"type\": \"json\"}}, \"height\": 200, \"title\": \"u'w', 10m-D\", \"width\": 200}, {\"layer\": [{\"mark\": {\"type\": \"errorband\", \"extent\": \"iqr\"}, \"encoding\": {\"x\": {\"field\": \"tau\", \"scale\": {\"type\": \"log\"}, \"title\": \"tau (s)\", \"type\": \"quantitative\"}, \"y\": {\"field\": \"Co\", \"type\": \"quantitative\"}}}, {\"mark\": {\"type\": \"line\"}, \"encoding\": {\"x\": {\"field\": \"tau\", \"scale\": {\"type\": \"log\"}, \"title\": \"tau (s)\", \"type\": \"quantitative\"}, \"y\": {\"aggregate\": \"mean\", \"field\": \"Co\", \"type\": \"quantitative\"}}}], \"data\": {\"url\": \"altair-data-5ca0b473304eedc7f124f0a9045d0898.json\", \"format\": {\"type\": \"json\"}}, \"height\": 200, \"title\": \"u'w', 10m-UE\", \"width\": 200}, {\"layer\": [{\"mark\": {\"type\": \"errorband\", \"extent\": \"iqr\"}, \"encoding\": {\"x\": {\"field\": \"tau\", \"scale\": {\"type\": \"log\"}, \"title\": \"tau (s)\", \"type\": \"quantitative\"}, \"y\": {\"field\": \"Co\", \"type\": \"quantitative\"}}}, {\"mark\": {\"type\": \"line\"}, \"encoding\": {\"x\": {\"field\": \"tau\", \"scale\": {\"type\": \"log\"}, \"title\": \"tau (s)\", \"type\": \"quantitative\"}, \"y\": {\"aggregate\": \"mean\", \"field\": \"Co\", \"type\": \"quantitative\"}}}], \"data\": {\"url\": \"altair-data-75b4b60f94f6bcf8d1d444ef481a53ee.json\", \"format\": {\"type\": \"json\"}}, \"height\": 200, \"title\": \"u'w', 10m-UW\", \"width\": 200}], \"resolve\": {\"scale\": {\"y\": \"shared\"}}}, {\"hconcat\": [{\"layer\": [{\"mark\": {\"type\": \"errorband\", \"extent\": \"iqr\"}, \"encoding\": {\"x\": {\"field\": \"tau\", \"scale\": {\"type\": \"log\"}, \"title\": \"tau (s)\", \"type\": \"quantitative\"}, \"y\": {\"field\": \"Co\", \"type\": \"quantitative\"}}}, {\"mark\": {\"type\": \"line\"}, \"encoding\": {\"x\": {\"field\": \"tau\", \"scale\": {\"type\": \"log\"}, \"title\": \"tau (s)\", \"type\": \"quantitative\"}, \"y\": {\"aggregate\": \"mean\", \"field\": \"Co\", \"type\": \"quantitative\"}}}], \"data\": {\"url\": \"altair-data-87e43e0eda0f5c4690d4561e263e3846.json\", \"format\": {\"type\": \"json\"}}, \"height\": 200, \"title\": \"u'w', 5m-C\", \"width\": 200}, {\"layer\": [{\"mark\": {\"type\": \"errorband\", \"extent\": \"iqr\"}, \"encoding\": {\"x\": {\"field\": \"tau\", \"scale\": {\"type\": \"log\"}, \"title\": \"tau (s)\", \"type\": \"quantitative\"}, \"y\": {\"field\": \"Co\", \"type\": \"quantitative\"}}}, {\"mark\": {\"type\": \"line\"}, \"encoding\": {\"x\": {\"field\": \"tau\", \"scale\": {\"type\": \"log\"}, \"title\": \"tau (s)\", \"type\": \"quantitative\"}, \"y\": {\"aggregate\": \"mean\", \"field\": \"Co\", \"type\": \"quantitative\"}}}], \"data\": {\"url\": \"altair-data-fa9b63fd10ceb122643ff3d17af5ec19.json\", \"format\": {\"type\": \"json\"}}, \"height\": 200, \"title\": \"u'w', 15m-C\", \"width\": 200}, {\"layer\": [{\"mark\": {\"type\": \"errorband\", \"extent\": \"iqr\"}, \"encoding\": {\"x\": {\"field\": \"tau\", \"scale\": {\"type\": \"log\"}, \"title\": \"tau (s)\", \"type\": \"quantitative\"}, \"y\": {\"field\": \"Co\", \"type\": \"quantitative\"}}}, {\"mark\": {\"type\": \"line\"}, \"encoding\": {\"x\": {\"field\": \"tau\", \"scale\": {\"type\": \"log\"}, \"title\": \"tau (s)\", \"type\": \"quantitative\"}, \"y\": {\"aggregate\": \"mean\", \"field\": \"Co\", \"type\": \"quantitative\"}}}], \"data\": {\"url\": \"altair-data-cc76a9f43444d138babdd71965620723.json\", \"format\": {\"type\": \"json\"}}, \"height\": 200, \"title\": \"u'w', 20m-C\", \"width\": 200}], \"resolve\": {\"scale\": {\"y\": \"shared\"}}}], \"resolve\": {\"scale\": {\"y\": \"shared\"}}, \"$schema\": \"https://vega.github.io/schema/vega-lite/v5.20.1.json\"}, {\"mode\": \"vega-lite\"});\n",
       "</script>"
      ],
      "text/plain": [
       "alt.VConcatChart(...)"
      ]
     },
     "execution_count": 15,
     "metadata": {},
     "output_type": "execute_result"
    }
   ],
   "source": [
    "(\n",
    "    (\n",
    "        mrd_plot(dec21_u_w_3m_c_mrd_df, \"u'w', 3m-C\") | mrd_plot(dec21_u_w_3m_d_mrd_df, \"u'w', 3m-D\") \n",
    "        | mrd_plot(dec21_u_w_3m_ue_mrd_df, \"u'w', 3m-UE\") | mrd_plot(dec21_u_w_3m_uw_mrd_df, \"u'w', 3m-UW\")\n",
    "    ).resolve_scale(y='shared') & (\n",
    "        mrd_plot(dec21_u_w_10m_c_mrd_df, \"u'w', 10m-C\") | mrd_plot(dec21_u_w_10m_d_mrd_df, \"u'w', 10m-D\") \n",
    "        | mrd_plot(dec21_u_w_10m_ue_mrd_df, \"u'w', 10m-UE\") | mrd_plot(dec21_u_w_10m_uw_mrd_df, \"u'w', 10m-UW\")\n",
    "    ).resolve_scale(y='shared') & (\n",
    "        mrd_plot(dec21_u_w_5m_c_mrd_df, \"u'w', 5m-C\") |  mrd_plot(dec21_u_w_15m_c_mrd_df, \"u'w', 15m-C\") |  mrd_plot(dec21_u_w_20m_c_mrd_df, \"u'w', 20m-C\")\n",
    "    ).resolve_scale(y='shared')\n",
    ").resolve_scale(y='shared')"
   ]
  },
  {
   "cell_type": "code",
   "execution_count": 16,
   "metadata": {},
   "outputs": [
    {
     "data": {
      "text/html": [
       "\n",
       "<style>\n",
       "  #altair-viz-20eeb01d6bed427aa8767d4e386f08e9.vega-embed {\n",
       "    width: 100%;\n",
       "    display: flex;\n",
       "  }\n",
       "\n",
       "  #altair-viz-20eeb01d6bed427aa8767d4e386f08e9.vega-embed details,\n",
       "  #altair-viz-20eeb01d6bed427aa8767d4e386f08e9.vega-embed details summary {\n",
       "    position: relative;\n",
       "  }\n",
       "</style>\n",
       "<div id=\"altair-viz-20eeb01d6bed427aa8767d4e386f08e9\"></div>\n",
       "<script type=\"text/javascript\">\n",
       "  var VEGA_DEBUG = (typeof VEGA_DEBUG == \"undefined\") ? {} : VEGA_DEBUG;\n",
       "  (function(spec, embedOpt){\n",
       "    let outputDiv = document.currentScript.previousElementSibling;\n",
       "    if (outputDiv.id !== \"altair-viz-20eeb01d6bed427aa8767d4e386f08e9\") {\n",
       "      outputDiv = document.getElementById(\"altair-viz-20eeb01d6bed427aa8767d4e386f08e9\");\n",
       "    }\n",
       "    const paths = {\n",
       "      \"vega\": \"https://cdn.jsdelivr.net/npm/vega@5?noext\",\n",
       "      \"vega-lib\": \"https://cdn.jsdelivr.net/npm/vega-lib?noext\",\n",
       "      \"vega-lite\": \"https://cdn.jsdelivr.net/npm/vega-lite@5.20.1?noext\",\n",
       "      \"vega-embed\": \"https://cdn.jsdelivr.net/npm/vega-embed@6?noext\",\n",
       "    };\n",
       "\n",
       "    function maybeLoadScript(lib, version) {\n",
       "      var key = `${lib.replace(\"-\", \"\")}_version`;\n",
       "      return (VEGA_DEBUG[key] == version) ?\n",
       "        Promise.resolve(paths[lib]) :\n",
       "        new Promise(function(resolve, reject) {\n",
       "          var s = document.createElement('script');\n",
       "          document.getElementsByTagName(\"head\")[0].appendChild(s);\n",
       "          s.async = true;\n",
       "          s.onload = () => {\n",
       "            VEGA_DEBUG[key] = version;\n",
       "            return resolve(paths[lib]);\n",
       "          };\n",
       "          s.onerror = () => reject(`Error loading script: ${paths[lib]}`);\n",
       "          s.src = paths[lib];\n",
       "        });\n",
       "    }\n",
       "\n",
       "    function showError(err) {\n",
       "      outputDiv.innerHTML = `<div class=\"error\" style=\"color:red;\">${err}</div>`;\n",
       "      throw err;\n",
       "    }\n",
       "\n",
       "    function displayChart(vegaEmbed) {\n",
       "      vegaEmbed(outputDiv, spec, embedOpt)\n",
       "        .catch(err => showError(`Javascript Error: ${err.message}<br>This usually means there's a typo in your chart specification. See the javascript console for the full traceback.`));\n",
       "    }\n",
       "\n",
       "    if(typeof define === \"function\" && define.amd) {\n",
       "      requirejs.config({paths});\n",
       "      require([\"vega-embed\"], displayChart, err => showError(`Error loading script: ${err.message}`));\n",
       "    } else {\n",
       "      maybeLoadScript(\"vega\", \"5\")\n",
       "        .then(() => maybeLoadScript(\"vega-lite\", \"5.20.1\"))\n",
       "        .then(() => maybeLoadScript(\"vega-embed\", \"6\"))\n",
       "        .catch(showError)\n",
       "        .then(() => displayChart(vegaEmbed));\n",
       "    }\n",
       "  })({\"config\": {\"view\": {\"continuousWidth\": 300, \"continuousHeight\": 300}}, \"hconcat\": [{\"layer\": [{\"mark\": {\"type\": \"errorband\", \"extent\": \"iqr\"}, \"encoding\": {\"x\": {\"field\": \"tau\", \"scale\": {\"type\": \"log\"}, \"title\": \"tau (s)\", \"type\": \"quantitative\"}, \"y\": {\"field\": \"Co\", \"type\": \"quantitative\"}}}, {\"mark\": {\"type\": \"line\"}, \"encoding\": {\"x\": {\"field\": \"tau\", \"scale\": {\"type\": \"log\"}, \"title\": \"tau (s)\", \"type\": \"quantitative\"}, \"y\": {\"aggregate\": \"mean\", \"field\": \"Co\", \"type\": \"quantitative\"}}}, {\"layer\": [{\"mark\": {\"type\": \"errorband\", \"color\": \"#ff7f0e\", \"extent\": \"iqr\"}, \"encoding\": {\"x\": {\"field\": \"tau\", \"scale\": {\"type\": \"log\"}, \"title\": \"tau (s)\", \"type\": \"quantitative\"}, \"y\": {\"field\": \"Co\", \"type\": \"quantitative\"}}}, {\"mark\": {\"type\": \"line\", \"color\": \"#ff7f0e\"}, \"encoding\": {\"x\": {\"field\": \"tau\", \"scale\": {\"type\": \"log\"}, \"title\": \"tau (s)\", \"type\": \"quantitative\"}, \"y\": {\"aggregate\": \"mean\", \"field\": \"Co\", \"type\": \"quantitative\"}}}], \"data\": {\"url\": \"altair-data-b5d38e090f20bcab562593c7cd056ba7.json\", \"format\": {\"type\": \"json\"}}, \"title\": \"u'w', 3m-C\"}, {\"layer\": [{\"mark\": {\"type\": \"errorband\", \"color\": \"#ff7f0e\", \"extent\": \"iqr\"}, \"encoding\": {\"x\": {\"field\": \"tau\", \"scale\": {\"type\": \"log\"}, \"title\": \"tau (s)\", \"type\": \"quantitative\"}, \"y\": {\"field\": \"Co\", \"type\": \"quantitative\"}}}, {\"mark\": {\"type\": \"line\", \"color\": \"#ff7f0e\"}, \"encoding\": {\"x\": {\"field\": \"tau\", \"scale\": {\"type\": \"log\"}, \"title\": \"tau (s)\", \"type\": \"quantitative\"}, \"y\": {\"aggregate\": \"mean\", \"field\": \"Co\", \"type\": \"quantitative\"}}}], \"data\": {\"url\": \"altair-data-3f9d7b44281a4d828386d780727d60ea.json\", \"format\": {\"type\": \"json\"}}, \"title\": \"u'w', 3m-C\"}, {\"layer\": [{\"mark\": {\"type\": \"errorband\", \"color\": \"#ff7f0e\", \"extent\": \"iqr\"}, \"encoding\": {\"x\": {\"field\": \"tau\", \"scale\": {\"type\": \"log\"}, \"title\": \"tau (s)\", \"type\": \"quantitative\"}, \"y\": {\"field\": \"Co\", \"type\": \"quantitative\"}}}, {\"mark\": {\"type\": \"line\", \"color\": \"#ff7f0e\"}, \"encoding\": {\"x\": {\"field\": \"tau\", \"scale\": {\"type\": \"log\"}, \"title\": \"tau (s)\", \"type\": \"quantitative\"}, \"y\": {\"aggregate\": \"mean\", \"field\": \"Co\", \"type\": \"quantitative\"}}}], \"data\": {\"url\": \"altair-data-d8ea4891c20cba564df555e5394b5dff.json\", \"format\": {\"type\": \"json\"}}, \"title\": \"u'w', 3m-C\"}, {\"layer\": [{\"mark\": {\"type\": \"errorband\", \"color\": \"#ff7f0e\", \"extent\": \"iqr\"}, \"encoding\": {\"x\": {\"field\": \"tau\", \"scale\": {\"type\": \"log\"}, \"title\": \"tau (s)\", \"type\": \"quantitative\"}, \"y\": {\"field\": \"Co\", \"type\": \"quantitative\"}}}, {\"mark\": {\"type\": \"line\", \"color\": \"#ff7f0e\"}, \"encoding\": {\"x\": {\"field\": \"tau\", \"scale\": {\"type\": \"log\"}, \"title\": \"tau (s)\", \"type\": \"quantitative\"}, \"y\": {\"aggregate\": \"mean\", \"field\": \"Co\", \"type\": \"quantitative\"}}}], \"data\": {\"url\": \"altair-data-1a2ebe9fac9d938e7d2020e6d1095f09.json\", \"format\": {\"type\": \"json\"}}, \"title\": \"u'w', 3m-C\"}], \"data\": {\"url\": \"altair-data-f31151071aab9e8efa36ac2a2676f255.json\", \"format\": {\"type\": \"json\"}}, \"height\": 200, \"title\": \"u'w', 3m-C\", \"width\": 200}, {\"layer\": [{\"mark\": {\"type\": \"errorband\", \"extent\": \"iqr\"}, \"encoding\": {\"x\": {\"field\": \"tau\", \"scale\": {\"type\": \"log\"}, \"title\": \"tau (s)\", \"type\": \"quantitative\"}, \"y\": {\"field\": \"Co\", \"type\": \"quantitative\"}}}, {\"mark\": {\"type\": \"line\"}, \"encoding\": {\"x\": {\"field\": \"tau\", \"scale\": {\"type\": \"log\"}, \"title\": \"tau (s)\", \"type\": \"quantitative\"}, \"y\": {\"aggregate\": \"mean\", \"field\": \"Co\", \"type\": \"quantitative\"}}}, {\"layer\": [{\"mark\": {\"type\": \"errorband\", \"color\": \"#ff7f0e\", \"extent\": \"iqr\"}, \"encoding\": {\"x\": {\"field\": \"tau\", \"scale\": {\"type\": \"log\"}, \"title\": \"tau (s)\", \"type\": \"quantitative\"}, \"y\": {\"field\": \"Co\", \"type\": \"quantitative\"}}}, {\"mark\": {\"type\": \"line\", \"color\": \"#ff7f0e\"}, \"encoding\": {\"x\": {\"field\": \"tau\", \"scale\": {\"type\": \"log\"}, \"title\": \"tau (s)\", \"type\": \"quantitative\"}, \"y\": {\"aggregate\": \"mean\", \"field\": \"Co\", \"type\": \"quantitative\"}}}], \"data\": {\"url\": \"altair-data-f12df434ec3e9a62006e4a3013e3d9cc.json\", \"format\": {\"type\": \"json\"}}, \"title\": \"u'w', 10m-C\"}], \"data\": {\"url\": \"altair-data-60e690fa9e5862c78cc918d4a863e6f5.json\", \"format\": {\"type\": \"json\"}}, \"height\": 200, \"title\": \"u'w', 10m-C\", \"width\": 200}, {\"layer\": [{\"mark\": {\"type\": \"errorband\", \"extent\": \"iqr\"}, \"encoding\": {\"x\": {\"field\": \"tau\", \"scale\": {\"type\": \"log\"}, \"title\": \"tau (s)\", \"type\": \"quantitative\"}, \"y\": {\"field\": \"Co\", \"type\": \"quantitative\"}}}, {\"mark\": {\"type\": \"line\"}, \"encoding\": {\"x\": {\"field\": \"tau\", \"scale\": {\"type\": \"log\"}, \"title\": \"tau (s)\", \"type\": \"quantitative\"}, \"y\": {\"aggregate\": \"mean\", \"field\": \"Co\", \"type\": \"quantitative\"}}}, {\"layer\": [{\"mark\": {\"type\": \"errorband\", \"color\": \"#ff7f0e\", \"extent\": \"iqr\"}, \"encoding\": {\"x\": {\"field\": \"tau\", \"scale\": {\"type\": \"log\"}, \"title\": \"tau (s)\", \"type\": \"quantitative\"}, \"y\": {\"field\": \"Co\", \"type\": \"quantitative\"}}}, {\"mark\": {\"type\": \"line\", \"color\": \"#ff7f0e\"}, \"encoding\": {\"x\": {\"field\": \"tau\", \"scale\": {\"type\": \"log\"}, \"title\": \"tau (s)\", \"type\": \"quantitative\"}, \"y\": {\"aggregate\": \"mean\", \"field\": \"Co\", \"type\": \"quantitative\"}}}], \"data\": {\"url\": \"altair-data-574a332c45fb9908b9271fddcced160a.json\", \"format\": {\"type\": \"json\"}}, \"title\": \"u'w', 5m-C\"}], \"data\": {\"url\": \"altair-data-87e43e0eda0f5c4690d4561e263e3846.json\", \"format\": {\"type\": \"json\"}}, \"height\": 200, \"title\": \"u'w', 5m-C\", \"width\": 200}], \"$schema\": \"https://vega.github.io/schema/vega-lite/v5.20.1.json\"}, {\"mode\": \"vega-lite\"});\n",
       "</script>"
      ],
      "text/plain": [
       "alt.HConcatChart(...)"
      ]
     },
     "execution_count": 16,
     "metadata": {},
     "output_type": "execute_result"
    }
   ],
   "source": [
    "(mrd_plot(dec21_u_w_3m_c_mrd_df, \"u'w', 3m-C\") + mrd_plot(apr18_u_w_3m_c_mrd_df, \"u'w', 3m-C\", color='#ff7f0e') + mrd_plot(apr18_u_w_3m_d_mrd_df, \"u'w', 3m-C\", color='#ff7f0e') + mrd_plot(apr18_u_w_3m_ue_mrd_df, \"u'w', 3m-C\", color='#ff7f0e') + mrd_plot(apr18_u_w_3m_uw_mrd_df, \"u'w', 3m-C\", color='#ff7f0e')) |\\\n",
    "(mrd_plot(dec21_u_w_10m_c_mrd_df, \"u'w', 10m-C\") + mrd_plot(apr18_u_w_10m_c_mrd_df, \"u'w', 10m-C\", color='#ff7f0e')) |\\\n",
    "(mrd_plot(dec21_u_w_5m_c_mrd_df, \"u'w', 5m-C\") + mrd_plot(apr18_u_w_5m_c_mrd_df, \"u'w', 5m-C\", color='#ff7f0e'))"
   ]
  },
  {
   "cell_type": "markdown",
   "metadata": {},
   "source": [
    "### Isotropic stress cospectra - tower c 3 and 10m"
   ]
  },
  {
   "cell_type": "code",
   "execution_count": 17,
   "metadata": {},
   "outputs": [
    {
     "name": "stdout",
     "output_type": "stream",
     "text": [
      "Timestep of fast data is: 50.0 ms\n",
      "Dataset of length 216000, with M = 17, permits 42 iterations.\n"
     ]
    },
    {
     "name": "stderr",
     "output_type": "stream",
     "text": [
      "100%|██████████| 42/42 [00:14<00:00,  2.92it/s]\n"
     ]
    },
    {
     "name": "stdout",
     "output_type": "stream",
     "text": [
      "Timestep of fast data is: 50.0 ms\n",
      "Dataset of length 216000, with M = 17, permits 42 iterations.\n"
     ]
    },
    {
     "name": "stderr",
     "output_type": "stream",
     "text": [
      "100%|██████████| 42/42 [08:52<00:00, 12.68s/it]\n"
     ]
    },
    {
     "name": "stdout",
     "output_type": "stream",
     "text": [
      "Timestep of fast data is: 50.0 ms\n",
      "Dataset of length 216000, with M = 17, permits 42 iterations.\n"
     ]
    },
    {
     "name": "stderr",
     "output_type": "stream",
     "text": [
      "100%|██████████| 42/42 [00:14<00:00,  2.93it/s]\n"
     ]
    },
    {
     "name": "stdout",
     "output_type": "stream",
     "text": [
      "Timestep of fast data is: 50.0 ms\n",
      "Dataset of length 216000, with M = 17, permits 42 iterations.\n"
     ]
    },
    {
     "name": "stderr",
     "output_type": "stream",
     "text": [
      "100%|██████████| 42/42 [01:01<00:00,  1.47s/it]\n"
     ]
    },
    {
     "name": "stdout",
     "output_type": "stream",
     "text": [
      "Timestep of fast data is: 50.0 ms\n",
      "Dataset of length 216000, with M = 17, permits 42 iterations.\n"
     ]
    },
    {
     "name": "stderr",
     "output_type": "stream",
     "text": [
      "100%|██████████| 42/42 [00:13<00:00,  3.07it/s]\n"
     ]
    },
    {
     "name": "stdout",
     "output_type": "stream",
     "text": [
      "Timestep of fast data is: 50.0 ms\n",
      "Dataset of length 216000, with M = 17, permits 42 iterations.\n"
     ]
    },
    {
     "name": "stderr",
     "output_type": "stream",
     "text": [
      "100%|██████████| 42/42 [00:13<00:00,  3.06it/s]\n"
     ]
    }
   ],
   "source": [
    "dec21_u_u_3m_c_mrd_df = calculate_mrd_for_df(dec21_df, 'u_3m_c', 'u_3m_c', shift = 2000, parallelism=8)\n",
    "dec21_v_v_3m_c_mrd_df = calculate_mrd_for_df(dec21_df, 'v_3m_c', 'v_3m_c', shift = 2000, parallelism=8)\n",
    "dec21_w_w_3m_c_mrd_df = calculate_mrd_for_df(dec21_df, 'w_3m_c', 'w_3m_c', shift = 2000, parallelism=8)\n",
    "\n",
    "dec21_u_u_10m_c_mrd_df = calculate_mrd_for_df(dec21_df, 'u_10m_c', 'u_10m_c', shift = 2000, parallelism=8)\n",
    "dec21_v_v_10m_c_mrd_df = calculate_mrd_for_df(dec21_df, 'v_10m_c', 'v_10m_c', shift = 2000, parallelism=8)\n",
    "dec21_w_w_10m_c_mrd_df = calculate_mrd_for_df(dec21_df, 'w_10m_c', 'w_10m_c', shift = 2000, parallelism=8)"
   ]
  },
  {
   "cell_type": "code",
   "execution_count": 18,
   "metadata": {},
   "outputs": [
    {
     "data": {
      "text/html": [
       "\n",
       "<style>\n",
       "  #altair-viz-957a295e30a64a7899ea1d3793b1702c.vega-embed {\n",
       "    width: 100%;\n",
       "    display: flex;\n",
       "  }\n",
       "\n",
       "  #altair-viz-957a295e30a64a7899ea1d3793b1702c.vega-embed details,\n",
       "  #altair-viz-957a295e30a64a7899ea1d3793b1702c.vega-embed details summary {\n",
       "    position: relative;\n",
       "  }\n",
       "</style>\n",
       "<div id=\"altair-viz-957a295e30a64a7899ea1d3793b1702c\"></div>\n",
       "<script type=\"text/javascript\">\n",
       "  var VEGA_DEBUG = (typeof VEGA_DEBUG == \"undefined\") ? {} : VEGA_DEBUG;\n",
       "  (function(spec, embedOpt){\n",
       "    let outputDiv = document.currentScript.previousElementSibling;\n",
       "    if (outputDiv.id !== \"altair-viz-957a295e30a64a7899ea1d3793b1702c\") {\n",
       "      outputDiv = document.getElementById(\"altair-viz-957a295e30a64a7899ea1d3793b1702c\");\n",
       "    }\n",
       "    const paths = {\n",
       "      \"vega\": \"https://cdn.jsdelivr.net/npm/vega@5?noext\",\n",
       "      \"vega-lib\": \"https://cdn.jsdelivr.net/npm/vega-lib?noext\",\n",
       "      \"vega-lite\": \"https://cdn.jsdelivr.net/npm/vega-lite@5.20.1?noext\",\n",
       "      \"vega-embed\": \"https://cdn.jsdelivr.net/npm/vega-embed@6?noext\",\n",
       "    };\n",
       "\n",
       "    function maybeLoadScript(lib, version) {\n",
       "      var key = `${lib.replace(\"-\", \"\")}_version`;\n",
       "      return (VEGA_DEBUG[key] == version) ?\n",
       "        Promise.resolve(paths[lib]) :\n",
       "        new Promise(function(resolve, reject) {\n",
       "          var s = document.createElement('script');\n",
       "          document.getElementsByTagName(\"head\")[0].appendChild(s);\n",
       "          s.async = true;\n",
       "          s.onload = () => {\n",
       "            VEGA_DEBUG[key] = version;\n",
       "            return resolve(paths[lib]);\n",
       "          };\n",
       "          s.onerror = () => reject(`Error loading script: ${paths[lib]}`);\n",
       "          s.src = paths[lib];\n",
       "        });\n",
       "    }\n",
       "\n",
       "    function showError(err) {\n",
       "      outputDiv.innerHTML = `<div class=\"error\" style=\"color:red;\">${err}</div>`;\n",
       "      throw err;\n",
       "    }\n",
       "\n",
       "    function displayChart(vegaEmbed) {\n",
       "      vegaEmbed(outputDiv, spec, embedOpt)\n",
       "        .catch(err => showError(`Javascript Error: ${err.message}<br>This usually means there's a typo in your chart specification. See the javascript console for the full traceback.`));\n",
       "    }\n",
       "\n",
       "    if(typeof define === \"function\" && define.amd) {\n",
       "      requirejs.config({paths});\n",
       "      require([\"vega-embed\"], displayChart, err => showError(`Error loading script: ${err.message}`));\n",
       "    } else {\n",
       "      maybeLoadScript(\"vega\", \"5\")\n",
       "        .then(() => maybeLoadScript(\"vega-lite\", \"5.20.1\"))\n",
       "        .then(() => maybeLoadScript(\"vega-embed\", \"6\"))\n",
       "        .catch(showError)\n",
       "        .then(() => displayChart(vegaEmbed));\n",
       "    }\n",
       "  })({\"config\": {\"view\": {\"continuousWidth\": 300, \"continuousHeight\": 300}}, \"hconcat\": [{\"vconcat\": [{\"hconcat\": [{\"layer\": [{\"mark\": {\"type\": \"errorband\", \"extent\": \"iqr\"}, \"encoding\": {\"x\": {\"field\": \"tau\", \"scale\": {\"type\": \"log\"}, \"title\": \"tau (s)\", \"type\": \"quantitative\"}, \"y\": {\"field\": \"Co\", \"type\": \"quantitative\"}}}, {\"mark\": {\"type\": \"line\"}, \"encoding\": {\"x\": {\"field\": \"tau\", \"scale\": {\"type\": \"log\"}, \"title\": \"tau (s)\", \"type\": \"quantitative\"}, \"y\": {\"aggregate\": \"mean\", \"field\": \"Co\", \"type\": \"quantitative\"}}}], \"data\": {\"url\": \"altair-data-52a8d28a03eae22d0deda9d11394ae1e.json\", \"format\": {\"type\": \"json\"}}, \"height\": 200, \"title\": \"u'u', 3m-C\", \"width\": 200}, {\"layer\": [{\"mark\": {\"type\": \"errorband\", \"extent\": \"iqr\"}, \"encoding\": {\"x\": {\"field\": \"tau\", \"scale\": {\"type\": \"log\"}, \"title\": \"tau (s)\", \"type\": \"quantitative\"}, \"y\": {\"field\": \"Co\", \"type\": \"quantitative\"}}}, {\"mark\": {\"type\": \"line\"}, \"encoding\": {\"x\": {\"field\": \"tau\", \"scale\": {\"type\": \"log\"}, \"title\": \"tau (s)\", \"type\": \"quantitative\"}, \"y\": {\"aggregate\": \"mean\", \"field\": \"Co\", \"type\": \"quantitative\"}}}], \"data\": {\"url\": \"altair-data-9eed3d9adbaf8b017606c1b9cbd8fe26.json\", \"format\": {\"type\": \"json\"}}, \"height\": 200, \"title\": \"v'v', 3m-C\", \"width\": 200}], \"resolve\": {\"scale\": {\"y\": \"shared\"}}}, {\"hconcat\": [{\"layer\": [{\"mark\": {\"type\": \"errorband\", \"extent\": \"iqr\"}, \"encoding\": {\"x\": {\"field\": \"tau\", \"scale\": {\"type\": \"log\"}, \"title\": \"tau (s)\", \"type\": \"quantitative\"}, \"y\": {\"field\": \"Co\", \"type\": \"quantitative\"}}}, {\"mark\": {\"type\": \"line\"}, \"encoding\": {\"x\": {\"field\": \"tau\", \"scale\": {\"type\": \"log\"}, \"title\": \"tau (s)\", \"type\": \"quantitative\"}, \"y\": {\"aggregate\": \"mean\", \"field\": \"Co\", \"type\": \"quantitative\"}}}], \"data\": {\"url\": \"altair-data-a9223ca3730070dc7c3c0971f9fedaeb.json\", \"format\": {\"type\": \"json\"}}, \"height\": 200, \"title\": \"u'u', 10-C\", \"width\": 200}, {\"layer\": [{\"mark\": {\"type\": \"errorband\", \"extent\": \"iqr\"}, \"encoding\": {\"x\": {\"field\": \"tau\", \"scale\": {\"type\": \"log\"}, \"title\": \"tau (s)\", \"type\": \"quantitative\"}, \"y\": {\"field\": \"Co\", \"type\": \"quantitative\"}}}, {\"mark\": {\"type\": \"line\"}, \"encoding\": {\"x\": {\"field\": \"tau\", \"scale\": {\"type\": \"log\"}, \"title\": \"tau (s)\", \"type\": \"quantitative\"}, \"y\": {\"aggregate\": \"mean\", \"field\": \"Co\", \"type\": \"quantitative\"}}}], \"data\": {\"url\": \"altair-data-1346f107e4199b51584f8c317c70384f.json\", \"format\": {\"type\": \"json\"}}, \"height\": 200, \"title\": \"v'v', 3m-C\", \"width\": 200}], \"resolve\": {\"scale\": {\"y\": \"shared\"}}}], \"resolve\": {\"scale\": {\"y\": \"shared\"}}}, {\"vconcat\": [{\"layer\": [{\"mark\": {\"type\": \"errorband\", \"extent\": \"iqr\"}, \"encoding\": {\"x\": {\"field\": \"tau\", \"scale\": {\"type\": \"log\"}, \"title\": \"tau (s)\", \"type\": \"quantitative\"}, \"y\": {\"field\": \"Co\", \"type\": \"quantitative\"}}}, {\"mark\": {\"type\": \"line\"}, \"encoding\": {\"x\": {\"field\": \"tau\", \"scale\": {\"type\": \"log\"}, \"title\": \"tau (s)\", \"type\": \"quantitative\"}, \"y\": {\"aggregate\": \"mean\", \"field\": \"Co\", \"type\": \"quantitative\"}}}], \"data\": {\"url\": \"altair-data-0c79f4d7311af6332d5d765f757ea991.json\", \"format\": {\"type\": \"json\"}}, \"height\": 200, \"title\": \"w'w', 3m-C\", \"width\": 200}, {\"layer\": [{\"mark\": {\"type\": \"errorband\", \"extent\": \"iqr\"}, \"encoding\": {\"x\": {\"field\": \"tau\", \"scale\": {\"type\": \"log\"}, \"title\": \"tau (s)\", \"type\": \"quantitative\"}, \"y\": {\"field\": \"Co\", \"type\": \"quantitative\"}}}, {\"mark\": {\"type\": \"line\"}, \"encoding\": {\"x\": {\"field\": \"tau\", \"scale\": {\"type\": \"log\"}, \"title\": \"tau (s)\", \"type\": \"quantitative\"}, \"y\": {\"aggregate\": \"mean\", \"field\": \"Co\", \"type\": \"quantitative\"}}}], \"data\": {\"url\": \"altair-data-a5532ee30e5bcc3cc15e8123b97a8275.json\", \"format\": {\"type\": \"json\"}}, \"height\": 200, \"title\": \"w'w', 10m-C\", \"width\": 200}], \"resolve\": {\"scale\": {\"y\": \"shared\"}}}], \"$schema\": \"https://vega.github.io/schema/vega-lite/v5.20.1.json\"}, {\"mode\": \"vega-lite\"});\n",
       "</script>"
      ],
      "text/plain": [
       "alt.HConcatChart(...)"
      ]
     },
     "execution_count": 18,
     "metadata": {},
     "output_type": "execute_result"
    }
   ],
   "source": [
    "((\n",
    "    mrd_plot(dec21_u_u_3m_c_mrd_df, \"u'u', 3m-C\") | mrd_plot(dec21_v_v_3m_c_mrd_df, \"v'v', 3m-C\") \n",
    ").resolve_scale(y='shared') & (\n",
    "    mrd_plot(dec21_u_u_10m_c_mrd_df, \"u'u', 10-C\") | mrd_plot(dec21_v_v_10m_c_mrd_df, \"v'v', 3m-C\")\n",
    ").resolve_scale(y='shared')).resolve_scale(y='shared') | (\n",
    "    mrd_plot(dec21_w_w_3m_c_mrd_df, \"w'w', 3m-C\") & mrd_plot(dec21_w_w_10m_c_mrd_df, \"w'w', 10m-C\")\n",
    ").resolve_scale(y='shared')"
   ]
  },
  {
   "cell_type": "markdown",
   "metadata": {},
   "source": [
    "# Spectra across two months of data"
   ]
  },
  {
   "cell_type": "markdown",
   "metadata": {},
   "source": [
    "Open up all the nomrd files. Calculate a \"median time\" for joining with synoptic wind measurements"
   ]
  },
  {
   "cell_type": "code",
   "execution_count": 19,
   "metadata": {},
   "outputs": [
    {
     "data": {
      "text/html": [
       "<div>\n",
       "<style scoped>\n",
       "    .dataframe tbody tr th:only-of-type {\n",
       "        vertical-align: middle;\n",
       "    }\n",
       "\n",
       "    .dataframe tbody tr th {\n",
       "        vertical-align: top;\n",
       "    }\n",
       "\n",
       "    .dataframe thead th {\n",
       "        text-align: right;\n",
       "    }\n",
       "</style>\n",
       "<table border=\"1\" class=\"dataframe\">\n",
       "  <thead>\n",
       "    <tr style=\"text-align: right;\">\n",
       "      <th></th>\n",
       "      <th>tau</th>\n",
       "      <th>Co</th>\n",
       "      <th>std</th>\n",
       "      <th>iteration</th>\n",
       "      <th>start_time</th>\n",
       "      <th>end_time</th>\n",
       "      <th>covariance</th>\n",
       "      <th>loc</th>\n",
       "      <th>median_time</th>\n",
       "      <th>median_time_rounded</th>\n",
       "    </tr>\n",
       "  </thead>\n",
       "  <tbody>\n",
       "    <tr>\n",
       "      <th>0</th>\n",
       "      <td>0.1</td>\n",
       "      <td>-0.002316</td>\n",
       "      <td>4.401546e-02</td>\n",
       "      <td>0</td>\n",
       "      <td>2022-12-21 14:00:00</td>\n",
       "      <td>2022-12-21 15:49:13.550</td>\n",
       "      <td>u_w_</td>\n",
       "      <td>3m_c</td>\n",
       "      <td>2022-12-21 14:54:36.775</td>\n",
       "      <td>2022-12-21 15:00:00</td>\n",
       "    </tr>\n",
       "    <tr>\n",
       "      <th>1</th>\n",
       "      <td>0.2</td>\n",
       "      <td>-0.004666</td>\n",
       "      <td>4.751782e-02</td>\n",
       "      <td>0</td>\n",
       "      <td>2022-12-21 14:00:00</td>\n",
       "      <td>2022-12-21 15:49:13.550</td>\n",
       "      <td>u_w_</td>\n",
       "      <td>3m_c</td>\n",
       "      <td>2022-12-21 14:54:36.775</td>\n",
       "      <td>2022-12-21 15:00:00</td>\n",
       "    </tr>\n",
       "    <tr>\n",
       "      <th>2</th>\n",
       "      <td>0.4</td>\n",
       "      <td>-0.007815</td>\n",
       "      <td>5.590110e-02</td>\n",
       "      <td>0</td>\n",
       "      <td>2022-12-21 14:00:00</td>\n",
       "      <td>2022-12-21 15:49:13.550</td>\n",
       "      <td>u_w_</td>\n",
       "      <td>3m_c</td>\n",
       "      <td>2022-12-21 14:54:36.775</td>\n",
       "      <td>2022-12-21 15:00:00</td>\n",
       "    </tr>\n",
       "    <tr>\n",
       "      <th>3</th>\n",
       "      <td>0.8</td>\n",
       "      <td>-0.011504</td>\n",
       "      <td>6.878115e-02</td>\n",
       "      <td>0</td>\n",
       "      <td>2022-12-21 14:00:00</td>\n",
       "      <td>2022-12-21 15:49:13.550</td>\n",
       "      <td>u_w_</td>\n",
       "      <td>3m_c</td>\n",
       "      <td>2022-12-21 14:54:36.775</td>\n",
       "      <td>2022-12-21 15:00:00</td>\n",
       "    </tr>\n",
       "    <tr>\n",
       "      <th>4</th>\n",
       "      <td>1.6</td>\n",
       "      <td>-0.011965</td>\n",
       "      <td>6.791920e-02</td>\n",
       "      <td>0</td>\n",
       "      <td>2022-12-21 14:00:00</td>\n",
       "      <td>2022-12-21 15:49:13.550</td>\n",
       "      <td>u_w_</td>\n",
       "      <td>3m_c</td>\n",
       "      <td>2022-12-21 14:54:36.775</td>\n",
       "      <td>2022-12-21 15:00:00</td>\n",
       "    </tr>\n",
       "    <tr>\n",
       "      <th>...</th>\n",
       "      <td>...</td>\n",
       "      <td>...</td>\n",
       "      <td>...</td>\n",
       "      <td>...</td>\n",
       "      <td>...</td>\n",
       "      <td>...</td>\n",
       "      <td>...</td>\n",
       "      <td>...</td>\n",
       "      <td>...</td>\n",
       "      <td>...</td>\n",
       "    </tr>\n",
       "    <tr>\n",
       "      <th>12</th>\n",
       "      <td>409.6</td>\n",
       "      <td>0.000337</td>\n",
       "      <td>1.142486e-03</td>\n",
       "      <td>41</td>\n",
       "      <td>2023-04-30 16:08:20</td>\n",
       "      <td>2023-04-30 17:57:33.550</td>\n",
       "      <td>w_h2o_</td>\n",
       "      <td>10m_d</td>\n",
       "      <td>2023-04-30 17:02:56.775</td>\n",
       "      <td>2023-04-30 17:00:00</td>\n",
       "    </tr>\n",
       "    <tr>\n",
       "      <th>13</th>\n",
       "      <td>819.2</td>\n",
       "      <td>0.001552</td>\n",
       "      <td>1.921631e-03</td>\n",
       "      <td>41</td>\n",
       "      <td>2023-04-30 16:08:20</td>\n",
       "      <td>2023-04-30 17:57:33.550</td>\n",
       "      <td>w_h2o_</td>\n",
       "      <td>10m_d</td>\n",
       "      <td>2023-04-30 17:02:56.775</td>\n",
       "      <td>2023-04-30 17:00:00</td>\n",
       "    </tr>\n",
       "    <tr>\n",
       "      <th>14</th>\n",
       "      <td>1638.4</td>\n",
       "      <td>0.000481</td>\n",
       "      <td>4.260532e-04</td>\n",
       "      <td>41</td>\n",
       "      <td>2023-04-30 16:08:20</td>\n",
       "      <td>2023-04-30 17:57:33.550</td>\n",
       "      <td>w_h2o_</td>\n",
       "      <td>10m_d</td>\n",
       "      <td>2023-04-30 17:02:56.775</td>\n",
       "      <td>2023-04-30 17:00:00</td>\n",
       "    </tr>\n",
       "    <tr>\n",
       "      <th>15</th>\n",
       "      <td>3276.8</td>\n",
       "      <td>-0.000060</td>\n",
       "      <td>7.827031e-06</td>\n",
       "      <td>41</td>\n",
       "      <td>2023-04-30 16:08:20</td>\n",
       "      <td>2023-04-30 17:57:33.550</td>\n",
       "      <td>w_h2o_</td>\n",
       "      <td>10m_d</td>\n",
       "      <td>2023-04-30 17:02:56.775</td>\n",
       "      <td>2023-04-30 17:00:00</td>\n",
       "    </tr>\n",
       "    <tr>\n",
       "      <th>16</th>\n",
       "      <td>6553.6</td>\n",
       "      <td>-0.000112</td>\n",
       "      <td>2.216258e-09</td>\n",
       "      <td>41</td>\n",
       "      <td>2023-04-30 16:08:20</td>\n",
       "      <td>2023-04-30 17:57:33.550</td>\n",
       "      <td>w_h2o_</td>\n",
       "      <td>10m_d</td>\n",
       "      <td>2023-04-30 17:02:56.775</td>\n",
       "      <td>2023-04-30 17:00:00</td>\n",
       "    </tr>\n",
       "  </tbody>\n",
       "</table>\n",
       "<p>7676928 rows × 10 columns</p>\n",
       "</div>"
      ],
      "text/plain": [
       "       tau        Co           std  iteration          start_time  \\\n",
       "0      0.1 -0.002316  4.401546e-02          0 2022-12-21 14:00:00   \n",
       "1      0.2 -0.004666  4.751782e-02          0 2022-12-21 14:00:00   \n",
       "2      0.4 -0.007815  5.590110e-02          0 2022-12-21 14:00:00   \n",
       "3      0.8 -0.011504  6.878115e-02          0 2022-12-21 14:00:00   \n",
       "4      1.6 -0.011965  6.791920e-02          0 2022-12-21 14:00:00   \n",
       "..     ...       ...           ...        ...                 ...   \n",
       "12   409.6  0.000337  1.142486e-03         41 2023-04-30 16:08:20   \n",
       "13   819.2  0.001552  1.921631e-03         41 2023-04-30 16:08:20   \n",
       "14  1638.4  0.000481  4.260532e-04         41 2023-04-30 16:08:20   \n",
       "15  3276.8 -0.000060  7.827031e-06         41 2023-04-30 16:08:20   \n",
       "16  6553.6 -0.000112  2.216258e-09         41 2023-04-30 16:08:20   \n",
       "\n",
       "                  end_time covariance    loc             median_time  \\\n",
       "0  2022-12-21 15:49:13.550       u_w_   3m_c 2022-12-21 14:54:36.775   \n",
       "1  2022-12-21 15:49:13.550       u_w_   3m_c 2022-12-21 14:54:36.775   \n",
       "2  2022-12-21 15:49:13.550       u_w_   3m_c 2022-12-21 14:54:36.775   \n",
       "3  2022-12-21 15:49:13.550       u_w_   3m_c 2022-12-21 14:54:36.775   \n",
       "4  2022-12-21 15:49:13.550       u_w_   3m_c 2022-12-21 14:54:36.775   \n",
       "..                     ...        ...    ...                     ...   \n",
       "12 2023-04-30 17:57:33.550     w_h2o_  10m_d 2023-04-30 17:02:56.775   \n",
       "13 2023-04-30 17:57:33.550     w_h2o_  10m_d 2023-04-30 17:02:56.775   \n",
       "14 2023-04-30 17:57:33.550     w_h2o_  10m_d 2023-04-30 17:02:56.775   \n",
       "15 2023-04-30 17:57:33.550     w_h2o_  10m_d 2023-04-30 17:02:56.775   \n",
       "16 2023-04-30 17:57:33.550     w_h2o_  10m_d 2023-04-30 17:02:56.775   \n",
       "\n",
       "   median_time_rounded  \n",
       "0  2022-12-21 15:00:00  \n",
       "1  2022-12-21 15:00:00  \n",
       "2  2022-12-21 15:00:00  \n",
       "3  2022-12-21 15:00:00  \n",
       "4  2022-12-21 15:00:00  \n",
       "..                 ...  \n",
       "12 2023-04-30 17:00:00  \n",
       "13 2023-04-30 17:00:00  \n",
       "14 2023-04-30 17:00:00  \n",
       "15 2023-04-30 17:00:00  \n",
       "16 2023-04-30 17:00:00  \n",
       "\n",
       "[7676928 rows x 10 columns]"
      ]
     },
     "execution_count": 19,
     "metadata": {},
     "output_type": "execute_result"
    }
   ],
   "source": [
    "nomrd_df = pd.read_parquet(\"/Users/elischwat/Development/data/sublimationofsnow/mrd/NOmrds/\")\n",
    "nomrd_df['median_time'] = nomrd_df.start_time + 0.5*(nomrd_df.end_time - nomrd_df.start_time)\n",
    "nomrd_df['median_time_rounded'] = nomrd_df.median_time.dt.round('30min')\n",
    "nomrd_df"
   ]
  },
  {
   "cell_type": "markdown",
   "metadata": {},
   "source": [
    "Remove the Dec 21 MRD"
   ]
  },
  {
   "cell_type": "code",
   "execution_count": 20,
   "metadata": {},
   "outputs": [],
   "source": [
    "nomrd_df = nomrd_df[nomrd_df.start_time.dt.month != 12]"
   ]
  },
  {
   "cell_type": "code",
   "execution_count": 21,
   "metadata": {},
   "outputs": [
    {
     "data": {
      "text/plain": [
       "(8, 16)"
      ]
     },
     "execution_count": 21,
     "metadata": {},
     "output_type": "execute_result"
    }
   ],
   "source": [
    "nomrd_df.start_time.dt.hour.min(), nomrd_df.start_time.dt.hour.max()"
   ]
  },
  {
   "cell_type": "markdown",
   "metadata": {},
   "source": [
    "Use doppler lidar data to identify along-valley/cross-valley synoptic flows"
   ]
  },
  {
   "cell_type": "code",
   "execution_count": 22,
   "metadata": {},
   "outputs": [],
   "source": [
    "cross_valley_wind_times = pd.read_csv('cross_valley_wind_times.csv').drop(columns='Unnamed: 0').rename(columns={'0':'time'}).set_index('time').assign(\n",
    "    wind_dir='cross-valley'\n",
    ")\n",
    "cross_valley_wind_times.index = pd.to_datetime(cross_valley_wind_times.index)\n",
    "\n",
    "along_valley_wind_times = pd.read_csv('along_valley_wind_times.csv').drop(columns='Unnamed: 0').rename(columns={'0':'time'}).set_index('time').assign(\n",
    "    wind_dir='along-valley'\n",
    ")\n",
    "along_valley_wind_times.index = pd.to_datetime(along_valley_wind_times.index)\n",
    "\n",
    "winds_ge10_times =      pd.read_csv('winds_ge10_times.csv').drop(columns='Unnamed: 0').set_index('time').assign(wind_speed='> 10')\n",
    "winds_ge10_times.index = pd.to_datetime(winds_ge10_times.index)\n",
    "winds_le10_times =      pd.read_csv('winds_le10_times.csv').drop(columns='Unnamed: 0').set_index('time').assign(wind_speed='<= 10')\n",
    "winds_le10_times.index = pd.to_datetime(winds_le10_times.index)"
   ]
  },
  {
   "cell_type": "markdown",
   "metadata": {},
   "source": [
    "Join the datasets"
   ]
  },
  {
   "cell_type": "code",
   "execution_count": 23,
   "metadata": {},
   "outputs": [],
   "source": [
    "nomrd_df_synopticwinds = pd.concat([\n",
    "    nomrd_df.set_index('median_time_rounded').join(cross_valley_wind_times, how='inner'),\n",
    "    nomrd_df.set_index('median_time_rounded').join(along_valley_wind_times, how='inner')\n",
    "])\n",
    "nomrd_df_synopticwinds = nomrd_df_synopticwinds.join(pd.concat([ winds_le10_times, winds_ge10_times]), how='inner')"
   ]
  },
  {
   "cell_type": "code",
   "execution_count": 24,
   "metadata": {},
   "outputs": [],
   "source": [
    "base = alt.Chart().encode(\n",
    "    alt.X('tau:Q').scale(type='log'),\n",
    "    alt.Color('wind_dir:N'),\n",
    ").properties(width=200, height=200, title = \"u'w', 3m-c\")\n",
    "\n",
    "def layer_plot(data, title=''):\n",
    "    return alt.layer(\n",
    "        base.encode(alt.Y('Co:Q')).mark_errorband(extent='iqr'),\n",
    "        base.encode(alt.Y('mean(Co):Q')).mark_line(),\n",
    "        data = data\n",
    "    ).facet(alt.Row('wind_speed')).properties(title=title)"
   ]
  },
  {
   "cell_type": "code",
   "execution_count": 25,
   "metadata": {},
   "outputs": [
    {
     "data": {
      "text/html": [
       "\n",
       "<style>\n",
       "  #altair-viz-31def82e4df14d05979dac3c32f4af7e.vega-embed {\n",
       "    width: 100%;\n",
       "    display: flex;\n",
       "  }\n",
       "\n",
       "  #altair-viz-31def82e4df14d05979dac3c32f4af7e.vega-embed details,\n",
       "  #altair-viz-31def82e4df14d05979dac3c32f4af7e.vega-embed details summary {\n",
       "    position: relative;\n",
       "  }\n",
       "</style>\n",
       "<div id=\"altair-viz-31def82e4df14d05979dac3c32f4af7e\"></div>\n",
       "<script type=\"text/javascript\">\n",
       "  var VEGA_DEBUG = (typeof VEGA_DEBUG == \"undefined\") ? {} : VEGA_DEBUG;\n",
       "  (function(spec, embedOpt){\n",
       "    let outputDiv = document.currentScript.previousElementSibling;\n",
       "    if (outputDiv.id !== \"altair-viz-31def82e4df14d05979dac3c32f4af7e\") {\n",
       "      outputDiv = document.getElementById(\"altair-viz-31def82e4df14d05979dac3c32f4af7e\");\n",
       "    }\n",
       "    const paths = {\n",
       "      \"vega\": \"https://cdn.jsdelivr.net/npm/vega@5?noext\",\n",
       "      \"vega-lib\": \"https://cdn.jsdelivr.net/npm/vega-lib?noext\",\n",
       "      \"vega-lite\": \"https://cdn.jsdelivr.net/npm/vega-lite@5.20.1?noext\",\n",
       "      \"vega-embed\": \"https://cdn.jsdelivr.net/npm/vega-embed@6?noext\",\n",
       "    };\n",
       "\n",
       "    function maybeLoadScript(lib, version) {\n",
       "      var key = `${lib.replace(\"-\", \"\")}_version`;\n",
       "      return (VEGA_DEBUG[key] == version) ?\n",
       "        Promise.resolve(paths[lib]) :\n",
       "        new Promise(function(resolve, reject) {\n",
       "          var s = document.createElement('script');\n",
       "          document.getElementsByTagName(\"head\")[0].appendChild(s);\n",
       "          s.async = true;\n",
       "          s.onload = () => {\n",
       "            VEGA_DEBUG[key] = version;\n",
       "            return resolve(paths[lib]);\n",
       "          };\n",
       "          s.onerror = () => reject(`Error loading script: ${paths[lib]}`);\n",
       "          s.src = paths[lib];\n",
       "        });\n",
       "    }\n",
       "\n",
       "    function showError(err) {\n",
       "      outputDiv.innerHTML = `<div class=\"error\" style=\"color:red;\">${err}</div>`;\n",
       "      throw err;\n",
       "    }\n",
       "\n",
       "    function displayChart(vegaEmbed) {\n",
       "      vegaEmbed(outputDiv, spec, embedOpt)\n",
       "        .catch(err => showError(`Javascript Error: ${err.message}<br>This usually means there's a typo in your chart specification. See the javascript console for the full traceback.`));\n",
       "    }\n",
       "\n",
       "    if(typeof define === \"function\" && define.amd) {\n",
       "      requirejs.config({paths});\n",
       "      require([\"vega-embed\"], displayChart, err => showError(`Error loading script: ${err.message}`));\n",
       "    } else {\n",
       "      maybeLoadScript(\"vega\", \"5\")\n",
       "        .then(() => maybeLoadScript(\"vega-lite\", \"5.20.1\"))\n",
       "        .then(() => maybeLoadScript(\"vega-embed\", \"6\"))\n",
       "        .catch(showError)\n",
       "        .then(() => displayChart(vegaEmbed));\n",
       "    }\n",
       "  })({\"config\": {\"view\": {\"continuousWidth\": 300, \"continuousHeight\": 300}}, \"data\": {\"url\": \"altair-data-4c40cc58d4974d417a499b64cb98ecb2.json\", \"format\": {\"type\": \"json\"}}, \"mark\": {\"type\": \"line\", \"point\": {\"size\": 10}, \"strokeWidth\": 1}, \"encoding\": {\"color\": {\"field\": \"wind_dir\", \"type\": \"nominal\"}, \"detail\": {\"field\": \"date\", \"type\": \"nominal\"}, \"facet\": {\"field\": \"wind_speed\", \"type\": \"nominal\"}, \"tooltip\": {\"field\": \"date\", \"type\": \"nominal\"}, \"x\": {\"field\": \"tau\", \"scale\": {\"type\": \"log\"}, \"type\": \"quantitative\"}, \"y\": {\"aggregate\": \"mean\", \"field\": \"Co\", \"type\": \"quantitative\"}}, \"height\": 200, \"width\": 200, \"$schema\": \"https://vega.github.io/schema/vega-lite/v5.20.1.json\"}, {\"mode\": \"vega-lite\"});\n",
       "</script>"
      ],
      "text/plain": [
       "alt.Chart(...)"
      ]
     },
     "execution_count": 25,
     "metadata": {},
     "output_type": "execute_result"
    }
   ],
   "source": [
    "src = nomrd_df_synopticwinds.query(\"covariance == 'u_w_'\")\n",
    "src = src[src.index.hour.isin([15, 16, 17])]\n",
    "src['date'] = src.start_time.dt.date.astype('str')\n",
    "alt.Chart(\n",
    "    src.query(\"loc == '3m_c'\")\n",
    ").mark_line(strokeWidth=1, point={'size': 10}).encode(\n",
    "    alt.X('tau:Q').scale(type='log'),\n",
    "    alt.Y('mean(Co):Q'),\n",
    "    alt.Detail('date'),\n",
    "    alt.Color('wind_dir:N'),\n",
    "    alt.Facet('wind_speed'),\n",
    "    tooltip = 'date'\n",
    ").properties(width=200, height=200)"
   ]
  },
  {
   "cell_type": "code",
   "execution_count": 26,
   "metadata": {},
   "outputs": [
    {
     "data": {
      "text/plain": [
       "(0.2222222222222222, 0.375, 2.0, 0.5)"
      ]
     },
     "execution_count": 26,
     "metadata": {},
     "output_type": "execute_result"
    }
   ],
   "source": [
    "4/18, 3/8, 4/2, 3/6"
   ]
  },
  {
   "cell_type": "code",
   "execution_count": 27,
   "metadata": {},
   "outputs": [
    {
     "data": {
      "text/html": [
       "\n",
       "<style>\n",
       "  #altair-viz-b7de47b569454f2fbf4ab98537db6009.vega-embed {\n",
       "    width: 100%;\n",
       "    display: flex;\n",
       "  }\n",
       "\n",
       "  #altair-viz-b7de47b569454f2fbf4ab98537db6009.vega-embed details,\n",
       "  #altair-viz-b7de47b569454f2fbf4ab98537db6009.vega-embed details summary {\n",
       "    position: relative;\n",
       "  }\n",
       "</style>\n",
       "<div id=\"altair-viz-b7de47b569454f2fbf4ab98537db6009\"></div>\n",
       "<script type=\"text/javascript\">\n",
       "  var VEGA_DEBUG = (typeof VEGA_DEBUG == \"undefined\") ? {} : VEGA_DEBUG;\n",
       "  (function(spec, embedOpt){\n",
       "    let outputDiv = document.currentScript.previousElementSibling;\n",
       "    if (outputDiv.id !== \"altair-viz-b7de47b569454f2fbf4ab98537db6009\") {\n",
       "      outputDiv = document.getElementById(\"altair-viz-b7de47b569454f2fbf4ab98537db6009\");\n",
       "    }\n",
       "    const paths = {\n",
       "      \"vega\": \"https://cdn.jsdelivr.net/npm/vega@5?noext\",\n",
       "      \"vega-lib\": \"https://cdn.jsdelivr.net/npm/vega-lib?noext\",\n",
       "      \"vega-lite\": \"https://cdn.jsdelivr.net/npm/vega-lite@5.20.1?noext\",\n",
       "      \"vega-embed\": \"https://cdn.jsdelivr.net/npm/vega-embed@6?noext\",\n",
       "    };\n",
       "\n",
       "    function maybeLoadScript(lib, version) {\n",
       "      var key = `${lib.replace(\"-\", \"\")}_version`;\n",
       "      return (VEGA_DEBUG[key] == version) ?\n",
       "        Promise.resolve(paths[lib]) :\n",
       "        new Promise(function(resolve, reject) {\n",
       "          var s = document.createElement('script');\n",
       "          document.getElementsByTagName(\"head\")[0].appendChild(s);\n",
       "          s.async = true;\n",
       "          s.onload = () => {\n",
       "            VEGA_DEBUG[key] = version;\n",
       "            return resolve(paths[lib]);\n",
       "          };\n",
       "          s.onerror = () => reject(`Error loading script: ${paths[lib]}`);\n",
       "          s.src = paths[lib];\n",
       "        });\n",
       "    }\n",
       "\n",
       "    function showError(err) {\n",
       "      outputDiv.innerHTML = `<div class=\"error\" style=\"color:red;\">${err}</div>`;\n",
       "      throw err;\n",
       "    }\n",
       "\n",
       "    function displayChart(vegaEmbed) {\n",
       "      vegaEmbed(outputDiv, spec, embedOpt)\n",
       "        .catch(err => showError(`Javascript Error: ${err.message}<br>This usually means there's a typo in your chart specification. See the javascript console for the full traceback.`));\n",
       "    }\n",
       "\n",
       "    if(typeof define === \"function\" && define.amd) {\n",
       "      requirejs.config({paths});\n",
       "      require([\"vega-embed\"], displayChart, err => showError(`Error loading script: ${err.message}`));\n",
       "    } else {\n",
       "      maybeLoadScript(\"vega\", \"5\")\n",
       "        .then(() => maybeLoadScript(\"vega-lite\", \"5.20.1\"))\n",
       "        .then(() => maybeLoadScript(\"vega-embed\", \"6\"))\n",
       "        .catch(showError)\n",
       "        .then(() => displayChart(vegaEmbed));\n",
       "    }\n",
       "  })({\"config\": {\"view\": {\"continuousWidth\": 300, \"continuousHeight\": 300}}, \"vconcat\": [{\"data\": {\"url\": \"altair-data-73730eb9c584e797598d76bdda7e703a.json\", \"format\": {\"type\": \"json\"}}, \"facet\": {\"field\": \"wind_speed\", \"type\": \"nominal\"}, \"spec\": {\"layer\": [{\"mark\": {\"type\": \"errorband\", \"extent\": \"iqr\"}, \"encoding\": {\"color\": {\"field\": \"wind_dir\", \"type\": \"nominal\"}, \"x\": {\"field\": \"tau\", \"scale\": {\"type\": \"log\"}, \"type\": \"quantitative\"}, \"y\": {\"field\": \"Co\", \"type\": \"quantitative\"}}, \"title\": \"u'w', 3m-c\"}, {\"mark\": {\"type\": \"line\"}, \"encoding\": {\"color\": {\"field\": \"wind_dir\", \"type\": \"nominal\"}, \"x\": {\"field\": \"tau\", \"scale\": {\"type\": \"log\"}, \"type\": \"quantitative\"}, \"y\": {\"aggregate\": \"mean\", \"field\": \"Co\", \"type\": \"quantitative\"}}, \"title\": \"u'w', 3m-c\"}], \"height\": 200, \"width\": 200}, \"title\": \"u'w' 3m_c\"}, {\"data\": {\"url\": \"altair-data-cc173e00f2cb6741c1ce19246122b104.json\", \"format\": {\"type\": \"json\"}}, \"facet\": {\"field\": \"wind_speed\", \"type\": \"nominal\"}, \"spec\": {\"layer\": [{\"mark\": {\"type\": \"errorband\", \"extent\": \"iqr\"}, \"encoding\": {\"color\": {\"field\": \"wind_dir\", \"type\": \"nominal\"}, \"x\": {\"field\": \"tau\", \"scale\": {\"type\": \"log\"}, \"type\": \"quantitative\"}, \"y\": {\"field\": \"Co\", \"type\": \"quantitative\"}}, \"title\": \"u'w', 3m-c\"}, {\"mark\": {\"type\": \"line\"}, \"encoding\": {\"color\": {\"field\": \"wind_dir\", \"type\": \"nominal\"}, \"x\": {\"field\": \"tau\", \"scale\": {\"type\": \"log\"}, \"type\": \"quantitative\"}, \"y\": {\"aggregate\": \"mean\", \"field\": \"Co\", \"type\": \"quantitative\"}}, \"title\": \"u'w', 3m-c\"}], \"height\": 200, \"width\": 200}, \"title\": \"u'w' 5m_c\"}, {\"data\": {\"url\": \"altair-data-2a3716ba82163fc7d975ce3b24e2abf4.json\", \"format\": {\"type\": \"json\"}}, \"facet\": {\"field\": \"wind_speed\", \"type\": \"nominal\"}, \"spec\": {\"layer\": [{\"mark\": {\"type\": \"errorband\", \"extent\": \"iqr\"}, \"encoding\": {\"color\": {\"field\": \"wind_dir\", \"type\": \"nominal\"}, \"x\": {\"field\": \"tau\", \"scale\": {\"type\": \"log\"}, \"type\": \"quantitative\"}, \"y\": {\"field\": \"Co\", \"type\": \"quantitative\"}}, \"title\": \"u'w', 3m-c\"}, {\"mark\": {\"type\": \"line\"}, \"encoding\": {\"color\": {\"field\": \"wind_dir\", \"type\": \"nominal\"}, \"x\": {\"field\": \"tau\", \"scale\": {\"type\": \"log\"}, \"type\": \"quantitative\"}, \"y\": {\"aggregate\": \"mean\", \"field\": \"Co\", \"type\": \"quantitative\"}}, \"title\": \"u'w', 3m-c\"}], \"height\": 200, \"width\": 200}, \"title\": \"u'w' 10m_c\"}, {\"data\": {\"url\": \"altair-data-e4de2fdbf8ee3b6275e76638dcfdee54.json\", \"format\": {\"type\": \"json\"}}, \"facet\": {\"field\": \"wind_speed\", \"type\": \"nominal\"}, \"spec\": {\"layer\": [{\"mark\": {\"type\": \"errorband\", \"extent\": \"iqr\"}, \"encoding\": {\"color\": {\"field\": \"wind_dir\", \"type\": \"nominal\"}, \"x\": {\"field\": \"tau\", \"scale\": {\"type\": \"log\"}, \"type\": \"quantitative\"}, \"y\": {\"field\": \"Co\", \"type\": \"quantitative\"}}, \"title\": \"u'w', 3m-c\"}, {\"mark\": {\"type\": \"line\"}, \"encoding\": {\"color\": {\"field\": \"wind_dir\", \"type\": \"nominal\"}, \"x\": {\"field\": \"tau\", \"scale\": {\"type\": \"log\"}, \"type\": \"quantitative\"}, \"y\": {\"aggregate\": \"mean\", \"field\": \"Co\", \"type\": \"quantitative\"}}, \"title\": \"u'w', 3m-c\"}], \"height\": 200, \"width\": 200}, \"title\": \"u'w' 15m_c\"}, {\"data\": {\"url\": \"altair-data-661c6ac4f7ac4d6c3b456d3f31af4448.json\", \"format\": {\"type\": \"json\"}}, \"facet\": {\"field\": \"wind_speed\", \"type\": \"nominal\"}, \"spec\": {\"layer\": [{\"mark\": {\"type\": \"errorband\", \"extent\": \"iqr\"}, \"encoding\": {\"color\": {\"field\": \"wind_dir\", \"type\": \"nominal\"}, \"x\": {\"field\": \"tau\", \"scale\": {\"type\": \"log\"}, \"type\": \"quantitative\"}, \"y\": {\"field\": \"Co\", \"type\": \"quantitative\"}}, \"title\": \"u'w', 3m-c\"}, {\"mark\": {\"type\": \"line\"}, \"encoding\": {\"color\": {\"field\": \"wind_dir\", \"type\": \"nominal\"}, \"x\": {\"field\": \"tau\", \"scale\": {\"type\": \"log\"}, \"type\": \"quantitative\"}, \"y\": {\"aggregate\": \"mean\", \"field\": \"Co\", \"type\": \"quantitative\"}}, \"title\": \"u'w', 3m-c\"}], \"height\": 200, \"width\": 200}, \"title\": \"u'w' 20m_c\"}], \"$schema\": \"https://vega.github.io/schema/vega-lite/v5.20.1.json\"}, {\"mode\": \"vega-lite\"});\n",
       "</script>"
      ],
      "text/plain": [
       "alt.VConcatChart(...)"
      ]
     },
     "execution_count": 27,
     "metadata": {},
     "output_type": "execute_result"
    }
   ],
   "source": [
    "src = nomrd_df_synopticwinds.query(\"covariance == 'u_w_'\")\n",
    "src = src[src.index.hour.isin([15, 16, 17])]\n",
    "\n",
    "(\n",
    "    layer_plot(src.query(\"loc == '3m_c'\"), title=\"u'w' 3m_c\")\n",
    "    &\\\n",
    "    layer_plot(src.query(\"loc == '5m_c'\"), title=\"u'w' 5m_c\")\n",
    "    &\\\n",
    "    layer_plot(src.query(\"loc == '10m_c'\"), title=\"u'w' 10m_c\")\n",
    "    &\\\n",
    "    layer_plot(src.query(\"loc == '15m_c'\"), title=\"u'w' 15m_c\")\n",
    "    &\\\n",
    "    layer_plot(src.query(\"loc == '20m_c'\"), title=\"u'w' 20m_c\")\n",
    "\n",
    ") "
   ]
  },
  {
   "cell_type": "code",
   "execution_count": 28,
   "metadata": {},
   "outputs": [
    {
     "data": {
      "text/html": [
       "\n",
       "<style>\n",
       "  #altair-viz-472dd9f14a0e4036a820cf3cbc0c61d0.vega-embed {\n",
       "    width: 100%;\n",
       "    display: flex;\n",
       "  }\n",
       "\n",
       "  #altair-viz-472dd9f14a0e4036a820cf3cbc0c61d0.vega-embed details,\n",
       "  #altair-viz-472dd9f14a0e4036a820cf3cbc0c61d0.vega-embed details summary {\n",
       "    position: relative;\n",
       "  }\n",
       "</style>\n",
       "<div id=\"altair-viz-472dd9f14a0e4036a820cf3cbc0c61d0\"></div>\n",
       "<script type=\"text/javascript\">\n",
       "  var VEGA_DEBUG = (typeof VEGA_DEBUG == \"undefined\") ? {} : VEGA_DEBUG;\n",
       "  (function(spec, embedOpt){\n",
       "    let outputDiv = document.currentScript.previousElementSibling;\n",
       "    if (outputDiv.id !== \"altair-viz-472dd9f14a0e4036a820cf3cbc0c61d0\") {\n",
       "      outputDiv = document.getElementById(\"altair-viz-472dd9f14a0e4036a820cf3cbc0c61d0\");\n",
       "    }\n",
       "    const paths = {\n",
       "      \"vega\": \"https://cdn.jsdelivr.net/npm/vega@5?noext\",\n",
       "      \"vega-lib\": \"https://cdn.jsdelivr.net/npm/vega-lib?noext\",\n",
       "      \"vega-lite\": \"https://cdn.jsdelivr.net/npm/vega-lite@5.20.1?noext\",\n",
       "      \"vega-embed\": \"https://cdn.jsdelivr.net/npm/vega-embed@6?noext\",\n",
       "    };\n",
       "\n",
       "    function maybeLoadScript(lib, version) {\n",
       "      var key = `${lib.replace(\"-\", \"\")}_version`;\n",
       "      return (VEGA_DEBUG[key] == version) ?\n",
       "        Promise.resolve(paths[lib]) :\n",
       "        new Promise(function(resolve, reject) {\n",
       "          var s = document.createElement('script');\n",
       "          document.getElementsByTagName(\"head\")[0].appendChild(s);\n",
       "          s.async = true;\n",
       "          s.onload = () => {\n",
       "            VEGA_DEBUG[key] = version;\n",
       "            return resolve(paths[lib]);\n",
       "          };\n",
       "          s.onerror = () => reject(`Error loading script: ${paths[lib]}`);\n",
       "          s.src = paths[lib];\n",
       "        });\n",
       "    }\n",
       "\n",
       "    function showError(err) {\n",
       "      outputDiv.innerHTML = `<div class=\"error\" style=\"color:red;\">${err}</div>`;\n",
       "      throw err;\n",
       "    }\n",
       "\n",
       "    function displayChart(vegaEmbed) {\n",
       "      vegaEmbed(outputDiv, spec, embedOpt)\n",
       "        .catch(err => showError(`Javascript Error: ${err.message}<br>This usually means there's a typo in your chart specification. See the javascript console for the full traceback.`));\n",
       "    }\n",
       "\n",
       "    if(typeof define === \"function\" && define.amd) {\n",
       "      requirejs.config({paths});\n",
       "      require([\"vega-embed\"], displayChart, err => showError(`Error loading script: ${err.message}`));\n",
       "    } else {\n",
       "      maybeLoadScript(\"vega\", \"5\")\n",
       "        .then(() => maybeLoadScript(\"vega-lite\", \"5.20.1\"))\n",
       "        .then(() => maybeLoadScript(\"vega-embed\", \"6\"))\n",
       "        .catch(showError)\n",
       "        .then(() => displayChart(vegaEmbed));\n",
       "    }\n",
       "  })({\"config\": {\"view\": {\"continuousWidth\": 300, \"continuousHeight\": 300}}, \"vconcat\": [{\"hconcat\": [{\"data\": {\"url\": \"altair-data-73730eb9c584e797598d76bdda7e703a.json\", \"format\": {\"type\": \"json\"}}, \"facet\": {\"field\": \"wind_speed\", \"type\": \"nominal\"}, \"spec\": {\"layer\": [{\"mark\": {\"type\": \"errorband\", \"extent\": \"iqr\"}, \"encoding\": {\"color\": {\"field\": \"wind_dir\", \"type\": \"nominal\"}, \"x\": {\"field\": \"tau\", \"scale\": {\"type\": \"log\"}, \"type\": \"quantitative\"}, \"y\": {\"field\": \"Co\", \"type\": \"quantitative\"}}, \"title\": \"u'w', 3m-c\"}, {\"mark\": {\"type\": \"line\"}, \"encoding\": {\"color\": {\"field\": \"wind_dir\", \"type\": \"nominal\"}, \"x\": {\"field\": \"tau\", \"scale\": {\"type\": \"log\"}, \"type\": \"quantitative\"}, \"y\": {\"aggregate\": \"mean\", \"field\": \"Co\", \"type\": \"quantitative\"}}, \"title\": \"u'w', 3m-c\"}], \"height\": 200, \"width\": 200}, \"title\": \"u'w' 3m_c\"}, {\"data\": {\"url\": \"altair-data-c712d5764bf26bd699e9ae6c36ab6ec3.json\", \"format\": {\"type\": \"json\"}}, \"facet\": {\"field\": \"wind_speed\", \"type\": \"nominal\"}, \"spec\": {\"layer\": [{\"mark\": {\"type\": \"errorband\", \"extent\": \"iqr\"}, \"encoding\": {\"color\": {\"field\": \"wind_dir\", \"type\": \"nominal\"}, \"x\": {\"field\": \"tau\", \"scale\": {\"type\": \"log\"}, \"type\": \"quantitative\"}, \"y\": {\"field\": \"Co\", \"type\": \"quantitative\"}}, \"title\": \"u'w', 3m-c\"}, {\"mark\": {\"type\": \"line\"}, \"encoding\": {\"color\": {\"field\": \"wind_dir\", \"type\": \"nominal\"}, \"x\": {\"field\": \"tau\", \"scale\": {\"type\": \"log\"}, \"type\": \"quantitative\"}, \"y\": {\"aggregate\": \"mean\", \"field\": \"Co\", \"type\": \"quantitative\"}}, \"title\": \"u'w', 3m-c\"}], \"height\": 200, \"width\": 200}, \"title\": \"u'w' 3m_d\"}, {\"data\": {\"url\": \"altair-data-02bef9882e6c2d33be80d69420b60841.json\", \"format\": {\"type\": \"json\"}}, \"facet\": {\"field\": \"wind_speed\", \"type\": \"nominal\"}, \"spec\": {\"layer\": [{\"mark\": {\"type\": \"errorband\", \"extent\": \"iqr\"}, \"encoding\": {\"color\": {\"field\": \"wind_dir\", \"type\": \"nominal\"}, \"x\": {\"field\": \"tau\", \"scale\": {\"type\": \"log\"}, \"type\": \"quantitative\"}, \"y\": {\"field\": \"Co\", \"type\": \"quantitative\"}}, \"title\": \"u'w', 3m-c\"}, {\"mark\": {\"type\": \"line\"}, \"encoding\": {\"color\": {\"field\": \"wind_dir\", \"type\": \"nominal\"}, \"x\": {\"field\": \"tau\", \"scale\": {\"type\": \"log\"}, \"type\": \"quantitative\"}, \"y\": {\"aggregate\": \"mean\", \"field\": \"Co\", \"type\": \"quantitative\"}}, \"title\": \"u'w', 3m-c\"}], \"height\": 200, \"width\": 200}, \"title\": \"u'w' 3m_ue\"}, {\"data\": {\"url\": \"altair-data-c53ff5bc29f00d3c4ae1a05cf9e61ea0.json\", \"format\": {\"type\": \"json\"}}, \"facet\": {\"field\": \"wind_speed\", \"type\": \"nominal\"}, \"spec\": {\"layer\": [{\"mark\": {\"type\": \"errorband\", \"extent\": \"iqr\"}, \"encoding\": {\"color\": {\"field\": \"wind_dir\", \"type\": \"nominal\"}, \"x\": {\"field\": \"tau\", \"scale\": {\"type\": \"log\"}, \"type\": \"quantitative\"}, \"y\": {\"field\": \"Co\", \"type\": \"quantitative\"}}, \"title\": \"u'w', 3m-c\"}, {\"mark\": {\"type\": \"line\"}, \"encoding\": {\"color\": {\"field\": \"wind_dir\", \"type\": \"nominal\"}, \"x\": {\"field\": \"tau\", \"scale\": {\"type\": \"log\"}, \"type\": \"quantitative\"}, \"y\": {\"aggregate\": \"mean\", \"field\": \"Co\", \"type\": \"quantitative\"}}, \"title\": \"u'w', 3m-c\"}], \"height\": 200, \"width\": 200}, \"title\": \"u'w' 3m_uw\"}]}, {\"data\": {\"url\": \"altair-data-cc173e00f2cb6741c1ce19246122b104.json\", \"format\": {\"type\": \"json\"}}, \"facet\": {\"field\": \"wind_speed\", \"type\": \"nominal\"}, \"spec\": {\"layer\": [{\"mark\": {\"type\": \"errorband\", \"extent\": \"iqr\"}, \"encoding\": {\"color\": {\"field\": \"wind_dir\", \"type\": \"nominal\"}, \"x\": {\"field\": \"tau\", \"scale\": {\"type\": \"log\"}, \"type\": \"quantitative\"}, \"y\": {\"field\": \"Co\", \"type\": \"quantitative\"}}, \"title\": \"u'w', 3m-c\"}, {\"mark\": {\"type\": \"line\"}, \"encoding\": {\"color\": {\"field\": \"wind_dir\", \"type\": \"nominal\"}, \"x\": {\"field\": \"tau\", \"scale\": {\"type\": \"log\"}, \"type\": \"quantitative\"}, \"y\": {\"aggregate\": \"mean\", \"field\": \"Co\", \"type\": \"quantitative\"}}, \"title\": \"u'w', 3m-c\"}], \"height\": 200, \"width\": 200}, \"title\": \"u'w' 5m_c\"}, {\"hconcat\": [{\"data\": {\"url\": \"altair-data-2a3716ba82163fc7d975ce3b24e2abf4.json\", \"format\": {\"type\": \"json\"}}, \"facet\": {\"field\": \"wind_speed\", \"type\": \"nominal\"}, \"spec\": {\"layer\": [{\"mark\": {\"type\": \"errorband\", \"extent\": \"iqr\"}, \"encoding\": {\"color\": {\"field\": \"wind_dir\", \"type\": \"nominal\"}, \"x\": {\"field\": \"tau\", \"scale\": {\"type\": \"log\"}, \"type\": \"quantitative\"}, \"y\": {\"field\": \"Co\", \"type\": \"quantitative\"}}, \"title\": \"u'w', 3m-c\"}, {\"mark\": {\"type\": \"line\"}, \"encoding\": {\"color\": {\"field\": \"wind_dir\", \"type\": \"nominal\"}, \"x\": {\"field\": \"tau\", \"scale\": {\"type\": \"log\"}, \"type\": \"quantitative\"}, \"y\": {\"aggregate\": \"mean\", \"field\": \"Co\", \"type\": \"quantitative\"}}, \"title\": \"u'w', 3m-c\"}], \"height\": 200, \"width\": 200}, \"title\": \"u'w' 10m_c\"}, {\"data\": {\"url\": \"altair-data-689c32588ab1d3af61057613f98ec559.json\", \"format\": {\"type\": \"json\"}}, \"facet\": {\"field\": \"wind_speed\", \"type\": \"nominal\"}, \"spec\": {\"layer\": [{\"mark\": {\"type\": \"errorband\", \"extent\": \"iqr\"}, \"encoding\": {\"color\": {\"field\": \"wind_dir\", \"type\": \"nominal\"}, \"x\": {\"field\": \"tau\", \"scale\": {\"type\": \"log\"}, \"type\": \"quantitative\"}, \"y\": {\"field\": \"Co\", \"type\": \"quantitative\"}}, \"title\": \"u'w', 3m-c\"}, {\"mark\": {\"type\": \"line\"}, \"encoding\": {\"color\": {\"field\": \"wind_dir\", \"type\": \"nominal\"}, \"x\": {\"field\": \"tau\", \"scale\": {\"type\": \"log\"}, \"type\": \"quantitative\"}, \"y\": {\"aggregate\": \"mean\", \"field\": \"Co\", \"type\": \"quantitative\"}}, \"title\": \"u'w', 3m-c\"}], \"height\": 200, \"width\": 200}, \"title\": \"u'w' 10m_d\"}, {\"data\": {\"url\": \"altair-data-9f2ef3565c019ae2d383fbb641b730c1.json\", \"format\": {\"type\": \"json\"}}, \"facet\": {\"field\": \"wind_speed\", \"type\": \"nominal\"}, \"spec\": {\"layer\": [{\"mark\": {\"type\": \"errorband\", \"extent\": \"iqr\"}, \"encoding\": {\"color\": {\"field\": \"wind_dir\", \"type\": \"nominal\"}, \"x\": {\"field\": \"tau\", \"scale\": {\"type\": \"log\"}, \"type\": \"quantitative\"}, \"y\": {\"field\": \"Co\", \"type\": \"quantitative\"}}, \"title\": \"u'w', 3m-c\"}, {\"mark\": {\"type\": \"line\"}, \"encoding\": {\"color\": {\"field\": \"wind_dir\", \"type\": \"nominal\"}, \"x\": {\"field\": \"tau\", \"scale\": {\"type\": \"log\"}, \"type\": \"quantitative\"}, \"y\": {\"aggregate\": \"mean\", \"field\": \"Co\", \"type\": \"quantitative\"}}, \"title\": \"u'w', 3m-c\"}], \"height\": 200, \"width\": 200}, \"title\": \"u'w' 10m_ue\"}, {\"data\": {\"url\": \"altair-data-cdcdfc76b1d9e0d6d1deb633460492a1.json\", \"format\": {\"type\": \"json\"}}, \"facet\": {\"field\": \"wind_speed\", \"type\": \"nominal\"}, \"spec\": {\"layer\": [{\"mark\": {\"type\": \"errorband\", \"extent\": \"iqr\"}, \"encoding\": {\"color\": {\"field\": \"wind_dir\", \"type\": \"nominal\"}, \"x\": {\"field\": \"tau\", \"scale\": {\"type\": \"log\"}, \"type\": \"quantitative\"}, \"y\": {\"field\": \"Co\", \"type\": \"quantitative\"}}, \"title\": \"u'w', 3m-c\"}, {\"mark\": {\"type\": \"line\"}, \"encoding\": {\"color\": {\"field\": \"wind_dir\", \"type\": \"nominal\"}, \"x\": {\"field\": \"tau\", \"scale\": {\"type\": \"log\"}, \"type\": \"quantitative\"}, \"y\": {\"aggregate\": \"mean\", \"field\": \"Co\", \"type\": \"quantitative\"}}, \"title\": \"u'w', 3m-c\"}], \"height\": 200, \"width\": 200}, \"title\": \"u'w' 10m_uw\"}]}, {\"data\": {\"url\": \"altair-data-e4de2fdbf8ee3b6275e76638dcfdee54.json\", \"format\": {\"type\": \"json\"}}, \"facet\": {\"field\": \"wind_speed\", \"type\": \"nominal\"}, \"spec\": {\"layer\": [{\"mark\": {\"type\": \"errorband\", \"extent\": \"iqr\"}, \"encoding\": {\"color\": {\"field\": \"wind_dir\", \"type\": \"nominal\"}, \"x\": {\"field\": \"tau\", \"scale\": {\"type\": \"log\"}, \"type\": \"quantitative\"}, \"y\": {\"field\": \"Co\", \"type\": \"quantitative\"}}, \"title\": \"u'w', 3m-c\"}, {\"mark\": {\"type\": \"line\"}, \"encoding\": {\"color\": {\"field\": \"wind_dir\", \"type\": \"nominal\"}, \"x\": {\"field\": \"tau\", \"scale\": {\"type\": \"log\"}, \"type\": \"quantitative\"}, \"y\": {\"aggregate\": \"mean\", \"field\": \"Co\", \"type\": \"quantitative\"}}, \"title\": \"u'w', 3m-c\"}], \"height\": 200, \"width\": 200}, \"title\": \"u'w' 15m_c\"}, {\"data\": {\"url\": \"altair-data-661c6ac4f7ac4d6c3b456d3f31af4448.json\", \"format\": {\"type\": \"json\"}}, \"facet\": {\"field\": \"wind_speed\", \"type\": \"nominal\"}, \"spec\": {\"layer\": [{\"mark\": {\"type\": \"errorband\", \"extent\": \"iqr\"}, \"encoding\": {\"color\": {\"field\": \"wind_dir\", \"type\": \"nominal\"}, \"x\": {\"field\": \"tau\", \"scale\": {\"type\": \"log\"}, \"type\": \"quantitative\"}, \"y\": {\"field\": \"Co\", \"type\": \"quantitative\"}}, \"title\": \"u'w', 3m-c\"}, {\"mark\": {\"type\": \"line\"}, \"encoding\": {\"color\": {\"field\": \"wind_dir\", \"type\": \"nominal\"}, \"x\": {\"field\": \"tau\", \"scale\": {\"type\": \"log\"}, \"type\": \"quantitative\"}, \"y\": {\"aggregate\": \"mean\", \"field\": \"Co\", \"type\": \"quantitative\"}}, \"title\": \"u'w', 3m-c\"}], \"height\": 200, \"width\": 200}, \"title\": \"u'w' 20m_c\"}], \"$schema\": \"https://vega.github.io/schema/vega-lite/v5.20.1.json\"}, {\"mode\": \"vega-lite\"});\n",
       "</script>"
      ],
      "text/plain": [
       "alt.VConcatChart(...)"
      ]
     },
     "execution_count": 28,
     "metadata": {},
     "output_type": "execute_result"
    }
   ],
   "source": [
    "src = nomrd_df_synopticwinds.query(\"covariance == 'u_w_'\")\n",
    "src = src[src.index.hour.isin([15, 16, 17])]\n",
    "\n",
    "(\n",
    "    layer_plot(src.query(\"loc == '3m_c'\"), title=\"u'w' 3m_c\") | layer_plot(src.query(\"loc == '3m_d'\"), title=\"u'w' 3m_d\") | layer_plot(src.query(\"loc == '3m_ue'\"), title=\"u'w' 3m_ue\") | layer_plot(src.query(\"loc == '3m_uw'\"), title=\"u'w' 3m_uw\")\n",
    ") &\\\n",
    "layer_plot(src.query(\"loc == '5m_c'\"), title=\"u'w' 5m_c\") &\\\n",
    "(\n",
    "    layer_plot(src.query(\"loc == '10m_c'\"), title=\"u'w' 10m_c\") | layer_plot(src.query(\"loc == '10m_d'\"), title=\"u'w' 10m_d\") | layer_plot(src.query(\"loc == '10m_ue'\"), title=\"u'w' 10m_ue\") | layer_plot(src.query(\"loc == '10m_uw'\"), title=\"u'w' 10m_uw\")\n",
    ")  &\\\n",
    "layer_plot(src.query(\"loc == '15m_c'\"), title=\"u'w' 15m_c\") &\\\n",
    "layer_plot(src.query(\"loc == '20m_c'\"), title=\"u'w' 20m_c\")"
   ]
  },
  {
   "cell_type": "code",
   "execution_count": 29,
   "metadata": {},
   "outputs": [
    {
     "data": {
      "text/html": [
       "\n",
       "<style>\n",
       "  #altair-viz-5bf0c53ce520489a9fa65e1e6e6378a9.vega-embed {\n",
       "    width: 100%;\n",
       "    display: flex;\n",
       "  }\n",
       "\n",
       "  #altair-viz-5bf0c53ce520489a9fa65e1e6e6378a9.vega-embed details,\n",
       "  #altair-viz-5bf0c53ce520489a9fa65e1e6e6378a9.vega-embed details summary {\n",
       "    position: relative;\n",
       "  }\n",
       "</style>\n",
       "<div id=\"altair-viz-5bf0c53ce520489a9fa65e1e6e6378a9\"></div>\n",
       "<script type=\"text/javascript\">\n",
       "  var VEGA_DEBUG = (typeof VEGA_DEBUG == \"undefined\") ? {} : VEGA_DEBUG;\n",
       "  (function(spec, embedOpt){\n",
       "    let outputDiv = document.currentScript.previousElementSibling;\n",
       "    if (outputDiv.id !== \"altair-viz-5bf0c53ce520489a9fa65e1e6e6378a9\") {\n",
       "      outputDiv = document.getElementById(\"altair-viz-5bf0c53ce520489a9fa65e1e6e6378a9\");\n",
       "    }\n",
       "    const paths = {\n",
       "      \"vega\": \"https://cdn.jsdelivr.net/npm/vega@5?noext\",\n",
       "      \"vega-lib\": \"https://cdn.jsdelivr.net/npm/vega-lib?noext\",\n",
       "      \"vega-lite\": \"https://cdn.jsdelivr.net/npm/vega-lite@5.20.1?noext\",\n",
       "      \"vega-embed\": \"https://cdn.jsdelivr.net/npm/vega-embed@6?noext\",\n",
       "    };\n",
       "\n",
       "    function maybeLoadScript(lib, version) {\n",
       "      var key = `${lib.replace(\"-\", \"\")}_version`;\n",
       "      return (VEGA_DEBUG[key] == version) ?\n",
       "        Promise.resolve(paths[lib]) :\n",
       "        new Promise(function(resolve, reject) {\n",
       "          var s = document.createElement('script');\n",
       "          document.getElementsByTagName(\"head\")[0].appendChild(s);\n",
       "          s.async = true;\n",
       "          s.onload = () => {\n",
       "            VEGA_DEBUG[key] = version;\n",
       "            return resolve(paths[lib]);\n",
       "          };\n",
       "          s.onerror = () => reject(`Error loading script: ${paths[lib]}`);\n",
       "          s.src = paths[lib];\n",
       "        });\n",
       "    }\n",
       "\n",
       "    function showError(err) {\n",
       "      outputDiv.innerHTML = `<div class=\"error\" style=\"color:red;\">${err}</div>`;\n",
       "      throw err;\n",
       "    }\n",
       "\n",
       "    function displayChart(vegaEmbed) {\n",
       "      vegaEmbed(outputDiv, spec, embedOpt)\n",
       "        .catch(err => showError(`Javascript Error: ${err.message}<br>This usually means there's a typo in your chart specification. See the javascript console for the full traceback.`));\n",
       "    }\n",
       "\n",
       "    if(typeof define === \"function\" && define.amd) {\n",
       "      requirejs.config({paths});\n",
       "      require([\"vega-embed\"], displayChart, err => showError(`Error loading script: ${err.message}`));\n",
       "    } else {\n",
       "      maybeLoadScript(\"vega\", \"5\")\n",
       "        .then(() => maybeLoadScript(\"vega-lite\", \"5.20.1\"))\n",
       "        .then(() => maybeLoadScript(\"vega-embed\", \"6\"))\n",
       "        .catch(showError)\n",
       "        .then(() => displayChart(vegaEmbed));\n",
       "    }\n",
       "  })({\"config\": {\"view\": {\"continuousWidth\": 300, \"continuousHeight\": 300}}, \"vconcat\": [{\"hconcat\": [{\"data\": {\"url\": \"altair-data-73730eb9c584e797598d76bdda7e703a.json\", \"format\": {\"type\": \"json\"}}, \"facet\": {\"field\": \"wind_speed\", \"type\": \"nominal\"}, \"spec\": {\"layer\": [{\"mark\": {\"type\": \"errorband\", \"extent\": \"iqr\"}, \"encoding\": {\"color\": {\"field\": \"wind_dir\", \"type\": \"nominal\"}, \"x\": {\"field\": \"tau\", \"scale\": {\"type\": \"log\"}, \"type\": \"quantitative\"}, \"y\": {\"field\": \"Co\", \"type\": \"quantitative\"}}, \"title\": \"u'w', 3m-c\"}, {\"mark\": {\"type\": \"line\"}, \"encoding\": {\"color\": {\"field\": \"wind_dir\", \"type\": \"nominal\"}, \"x\": {\"field\": \"tau\", \"scale\": {\"type\": \"log\"}, \"type\": \"quantitative\"}, \"y\": {\"aggregate\": \"mean\", \"field\": \"Co\", \"type\": \"quantitative\"}}, \"title\": \"u'w', 3m-c\"}], \"height\": 200, \"width\": 200}, \"title\": \"u'w' 3m_c\"}, {\"data\": {\"url\": \"altair-data-cc173e00f2cb6741c1ce19246122b104.json\", \"format\": {\"type\": \"json\"}}, \"facet\": {\"field\": \"wind_speed\", \"type\": \"nominal\"}, \"spec\": {\"layer\": [{\"mark\": {\"type\": \"errorband\", \"extent\": \"iqr\"}, \"encoding\": {\"color\": {\"field\": \"wind_dir\", \"type\": \"nominal\"}, \"x\": {\"field\": \"tau\", \"scale\": {\"type\": \"log\"}, \"type\": \"quantitative\"}, \"y\": {\"field\": \"Co\", \"type\": \"quantitative\"}}, \"title\": \"u'w', 3m-c\"}, {\"mark\": {\"type\": \"line\"}, \"encoding\": {\"color\": {\"field\": \"wind_dir\", \"type\": \"nominal\"}, \"x\": {\"field\": \"tau\", \"scale\": {\"type\": \"log\"}, \"type\": \"quantitative\"}, \"y\": {\"aggregate\": \"mean\", \"field\": \"Co\", \"type\": \"quantitative\"}}, \"title\": \"u'w', 3m-c\"}], \"height\": 200, \"width\": 200}, \"title\": \"u'w' 5m_c\"}, {\"data\": {\"url\": \"altair-data-2a3716ba82163fc7d975ce3b24e2abf4.json\", \"format\": {\"type\": \"json\"}}, \"facet\": {\"field\": \"wind_speed\", \"type\": \"nominal\"}, \"spec\": {\"layer\": [{\"mark\": {\"type\": \"errorband\", \"extent\": \"iqr\"}, \"encoding\": {\"color\": {\"field\": \"wind_dir\", \"type\": \"nominal\"}, \"x\": {\"field\": \"tau\", \"scale\": {\"type\": \"log\"}, \"type\": \"quantitative\"}, \"y\": {\"field\": \"Co\", \"type\": \"quantitative\"}}, \"title\": \"u'w', 3m-c\"}, {\"mark\": {\"type\": \"line\"}, \"encoding\": {\"color\": {\"field\": \"wind_dir\", \"type\": \"nominal\"}, \"x\": {\"field\": \"tau\", \"scale\": {\"type\": \"log\"}, \"type\": \"quantitative\"}, \"y\": {\"aggregate\": \"mean\", \"field\": \"Co\", \"type\": \"quantitative\"}}, \"title\": \"u'w', 3m-c\"}], \"height\": 200, \"width\": 200}, \"title\": \"u'w' 10m_c\"}]}, {\"hconcat\": [{\"data\": {\"url\": \"altair-data-e4de2fdbf8ee3b6275e76638dcfdee54.json\", \"format\": {\"type\": \"json\"}}, \"facet\": {\"field\": \"wind_speed\", \"type\": \"nominal\"}, \"spec\": {\"layer\": [{\"mark\": {\"type\": \"errorband\", \"extent\": \"iqr\"}, \"encoding\": {\"color\": {\"field\": \"wind_dir\", \"type\": \"nominal\"}, \"x\": {\"field\": \"tau\", \"scale\": {\"type\": \"log\"}, \"type\": \"quantitative\"}, \"y\": {\"field\": \"Co\", \"type\": \"quantitative\"}}, \"title\": \"u'w', 3m-c\"}, {\"mark\": {\"type\": \"line\"}, \"encoding\": {\"color\": {\"field\": \"wind_dir\", \"type\": \"nominal\"}, \"x\": {\"field\": \"tau\", \"scale\": {\"type\": \"log\"}, \"type\": \"quantitative\"}, \"y\": {\"aggregate\": \"mean\", \"field\": \"Co\", \"type\": \"quantitative\"}}, \"title\": \"u'w', 3m-c\"}], \"height\": 200, \"width\": 200}, \"title\": \"u'w' 15m_c\"}, {\"data\": {\"url\": \"altair-data-661c6ac4f7ac4d6c3b456d3f31af4448.json\", \"format\": {\"type\": \"json\"}}, \"facet\": {\"field\": \"wind_speed\", \"type\": \"nominal\"}, \"spec\": {\"layer\": [{\"mark\": {\"type\": \"errorband\", \"extent\": \"iqr\"}, \"encoding\": {\"color\": {\"field\": \"wind_dir\", \"type\": \"nominal\"}, \"x\": {\"field\": \"tau\", \"scale\": {\"type\": \"log\"}, \"type\": \"quantitative\"}, \"y\": {\"field\": \"Co\", \"type\": \"quantitative\"}}, \"title\": \"u'w', 3m-c\"}, {\"mark\": {\"type\": \"line\"}, \"encoding\": {\"color\": {\"field\": \"wind_dir\", \"type\": \"nominal\"}, \"x\": {\"field\": \"tau\", \"scale\": {\"type\": \"log\"}, \"type\": \"quantitative\"}, \"y\": {\"aggregate\": \"mean\", \"field\": \"Co\", \"type\": \"quantitative\"}}, \"title\": \"u'w', 3m-c\"}], \"height\": 200, \"width\": 200}, \"title\": \"u'w' 20m_c\"}]}], \"$schema\": \"https://vega.github.io/schema/vega-lite/v5.20.1.json\"}, {\"mode\": \"vega-lite\"});\n",
       "</script>"
      ],
      "text/plain": [
       "alt.VConcatChart(...)"
      ]
     },
     "execution_count": 29,
     "metadata": {},
     "output_type": "execute_result"
    }
   ],
   "source": [
    "src = nomrd_df_synopticwinds.query(\"covariance == 'u_w_'\")\n",
    "src = src[src.index.hour.isin([15, 16, 17])]\n",
    "(\n",
    "    layer_plot(src.query(\"loc == '3m_c'\"), title=\"u'w' 3m_c\") |\\\n",
    "    layer_plot(src.query(\"loc == '5m_c'\"), title=\"u'w' 5m_c\") |\\\n",
    "    layer_plot(src.query(\"loc == '10m_c'\"), title=\"u'w' 10m_c\")\n",
    ") & (\n",
    "    layer_plot(src.query(\"loc == '15m_c'\"), title=\"u'w' 15m_c\") |\\\n",
    "    layer_plot(src.query(\"loc == '20m_c'\"), title=\"u'w' 20m_c\")\n",
    ")"
   ]
  },
  {
   "cell_type": "code",
   "execution_count": 30,
   "metadata": {},
   "outputs": [
    {
     "data": {
      "text/html": [
       "\n",
       "<style>\n",
       "  #altair-viz-5c9124e94793467e93c4c822185cf128.vega-embed {\n",
       "    width: 100%;\n",
       "    display: flex;\n",
       "  }\n",
       "\n",
       "  #altair-viz-5c9124e94793467e93c4c822185cf128.vega-embed details,\n",
       "  #altair-viz-5c9124e94793467e93c4c822185cf128.vega-embed details summary {\n",
       "    position: relative;\n",
       "  }\n",
       "</style>\n",
       "<div id=\"altair-viz-5c9124e94793467e93c4c822185cf128\"></div>\n",
       "<script type=\"text/javascript\">\n",
       "  var VEGA_DEBUG = (typeof VEGA_DEBUG == \"undefined\") ? {} : VEGA_DEBUG;\n",
       "  (function(spec, embedOpt){\n",
       "    let outputDiv = document.currentScript.previousElementSibling;\n",
       "    if (outputDiv.id !== \"altair-viz-5c9124e94793467e93c4c822185cf128\") {\n",
       "      outputDiv = document.getElementById(\"altair-viz-5c9124e94793467e93c4c822185cf128\");\n",
       "    }\n",
       "    const paths = {\n",
       "      \"vega\": \"https://cdn.jsdelivr.net/npm/vega@5?noext\",\n",
       "      \"vega-lib\": \"https://cdn.jsdelivr.net/npm/vega-lib?noext\",\n",
       "      \"vega-lite\": \"https://cdn.jsdelivr.net/npm/vega-lite@5.20.1?noext\",\n",
       "      \"vega-embed\": \"https://cdn.jsdelivr.net/npm/vega-embed@6?noext\",\n",
       "    };\n",
       "\n",
       "    function maybeLoadScript(lib, version) {\n",
       "      var key = `${lib.replace(\"-\", \"\")}_version`;\n",
       "      return (VEGA_DEBUG[key] == version) ?\n",
       "        Promise.resolve(paths[lib]) :\n",
       "        new Promise(function(resolve, reject) {\n",
       "          var s = document.createElement('script');\n",
       "          document.getElementsByTagName(\"head\")[0].appendChild(s);\n",
       "          s.async = true;\n",
       "          s.onload = () => {\n",
       "            VEGA_DEBUG[key] = version;\n",
       "            return resolve(paths[lib]);\n",
       "          };\n",
       "          s.onerror = () => reject(`Error loading script: ${paths[lib]}`);\n",
       "          s.src = paths[lib];\n",
       "        });\n",
       "    }\n",
       "\n",
       "    function showError(err) {\n",
       "      outputDiv.innerHTML = `<div class=\"error\" style=\"color:red;\">${err}</div>`;\n",
       "      throw err;\n",
       "    }\n",
       "\n",
       "    function displayChart(vegaEmbed) {\n",
       "      vegaEmbed(outputDiv, spec, embedOpt)\n",
       "        .catch(err => showError(`Javascript Error: ${err.message}<br>This usually means there's a typo in your chart specification. See the javascript console for the full traceback.`));\n",
       "    }\n",
       "\n",
       "    if(typeof define === \"function\" && define.amd) {\n",
       "      requirejs.config({paths});\n",
       "      require([\"vega-embed\"], displayChart, err => showError(`Error loading script: ${err.message}`));\n",
       "    } else {\n",
       "      maybeLoadScript(\"vega\", \"5\")\n",
       "        .then(() => maybeLoadScript(\"vega-lite\", \"5.20.1\"))\n",
       "        .then(() => maybeLoadScript(\"vega-embed\", \"6\"))\n",
       "        .catch(showError)\n",
       "        .then(() => displayChart(vegaEmbed));\n",
       "    }\n",
       "  })({\"config\": {\"view\": {\"continuousWidth\": 300, \"continuousHeight\": 300}}, \"vconcat\": [{\"hconcat\": [{\"data\": {\"url\": \"altair-data-8d20c64fbf62395b4e7621336d9a2c46.json\", \"format\": {\"type\": \"json\"}}, \"facet\": {\"field\": \"wind_speed\", \"type\": \"nominal\"}, \"spec\": {\"layer\": [{\"mark\": {\"type\": \"errorband\", \"extent\": \"iqr\"}, \"encoding\": {\"color\": {\"field\": \"wind_dir\", \"type\": \"nominal\"}, \"x\": {\"field\": \"tau\", \"scale\": {\"type\": \"log\"}, \"type\": \"quantitative\"}, \"y\": {\"field\": \"Co\", \"type\": \"quantitative\"}}, \"title\": \"u'w', 3m-c\"}, {\"mark\": {\"type\": \"line\"}, \"encoding\": {\"color\": {\"field\": \"wind_dir\", \"type\": \"nominal\"}, \"x\": {\"field\": \"tau\", \"scale\": {\"type\": \"log\"}, \"type\": \"quantitative\"}, \"y\": {\"aggregate\": \"mean\", \"field\": \"Co\", \"type\": \"quantitative\"}}, \"title\": \"u'w', 3m-c\"}], \"height\": 200, \"width\": 200}, \"title\": \"\"}, {\"data\": {\"url\": \"altair-data-a6bc27bcb48ff5c84a5709429c8279db.json\", \"format\": {\"type\": \"json\"}}, \"facet\": {\"field\": \"wind_speed\", \"type\": \"nominal\"}, \"spec\": {\"layer\": [{\"mark\": {\"type\": \"errorband\", \"extent\": \"iqr\"}, \"encoding\": {\"color\": {\"field\": \"wind_dir\", \"type\": \"nominal\"}, \"x\": {\"field\": \"tau\", \"scale\": {\"type\": \"log\"}, \"type\": \"quantitative\"}, \"y\": {\"field\": \"Co\", \"type\": \"quantitative\"}}, \"title\": \"u'w', 3m-c\"}, {\"mark\": {\"type\": \"line\"}, \"encoding\": {\"color\": {\"field\": \"wind_dir\", \"type\": \"nominal\"}, \"x\": {\"field\": \"tau\", \"scale\": {\"type\": \"log\"}, \"type\": \"quantitative\"}, \"y\": {\"aggregate\": \"mean\", \"field\": \"Co\", \"type\": \"quantitative\"}}, \"title\": \"u'w', 3m-c\"}], \"height\": 200, \"width\": 200}, \"title\": \"\"}, {\"data\": {\"url\": \"altair-data-518657bdc7f7801d6d9b6c9ef0e4e993.json\", \"format\": {\"type\": \"json\"}}, \"facet\": {\"field\": \"wind_speed\", \"type\": \"nominal\"}, \"spec\": {\"layer\": [{\"mark\": {\"type\": \"errorband\", \"extent\": \"iqr\"}, \"encoding\": {\"color\": {\"field\": \"wind_dir\", \"type\": \"nominal\"}, \"x\": {\"field\": \"tau\", \"scale\": {\"type\": \"log\"}, \"type\": \"quantitative\"}, \"y\": {\"field\": \"Co\", \"type\": \"quantitative\"}}, \"title\": \"u'w', 3m-c\"}, {\"mark\": {\"type\": \"line\"}, \"encoding\": {\"color\": {\"field\": \"wind_dir\", \"type\": \"nominal\"}, \"x\": {\"field\": \"tau\", \"scale\": {\"type\": \"log\"}, \"type\": \"quantitative\"}, \"y\": {\"aggregate\": \"mean\", \"field\": \"Co\", \"type\": \"quantitative\"}}, \"title\": \"u'w', 3m-c\"}], \"height\": 200, \"width\": 200}, \"title\": \"\"}, {\"data\": {\"url\": \"altair-data-b0c1d15581214da06f4829919c48299d.json\", \"format\": {\"type\": \"json\"}}, \"facet\": {\"field\": \"wind_speed\", \"type\": \"nominal\"}, \"spec\": {\"layer\": [{\"mark\": {\"type\": \"errorband\", \"extent\": \"iqr\"}, \"encoding\": {\"color\": {\"field\": \"wind_dir\", \"type\": \"nominal\"}, \"x\": {\"field\": \"tau\", \"scale\": {\"type\": \"log\"}, \"type\": \"quantitative\"}, \"y\": {\"field\": \"Co\", \"type\": \"quantitative\"}}, \"title\": \"u'w', 3m-c\"}, {\"mark\": {\"type\": \"line\"}, \"encoding\": {\"color\": {\"field\": \"wind_dir\", \"type\": \"nominal\"}, \"x\": {\"field\": \"tau\", \"scale\": {\"type\": \"log\"}, \"type\": \"quantitative\"}, \"y\": {\"aggregate\": \"mean\", \"field\": \"Co\", \"type\": \"quantitative\"}}, \"title\": \"u'w', 3m-c\"}], \"height\": 200, \"width\": 200}, \"title\": \"\"}]}, {\"data\": {\"url\": \"altair-data-1ecaa9429114856672f66a0393bb6f11.json\", \"format\": {\"type\": \"json\"}}, \"facet\": {\"field\": \"wind_speed\", \"type\": \"nominal\"}, \"spec\": {\"layer\": [{\"mark\": {\"type\": \"errorband\", \"extent\": \"iqr\"}, \"encoding\": {\"color\": {\"field\": \"wind_dir\", \"type\": \"nominal\"}, \"x\": {\"field\": \"tau\", \"scale\": {\"type\": \"log\"}, \"type\": \"quantitative\"}, \"y\": {\"field\": \"Co\", \"type\": \"quantitative\"}}, \"title\": \"u'w', 3m-c\"}, {\"mark\": {\"type\": \"line\"}, \"encoding\": {\"color\": {\"field\": \"wind_dir\", \"type\": \"nominal\"}, \"x\": {\"field\": \"tau\", \"scale\": {\"type\": \"log\"}, \"type\": \"quantitative\"}, \"y\": {\"aggregate\": \"mean\", \"field\": \"Co\", \"type\": \"quantitative\"}}, \"title\": \"u'w', 3m-c\"}], \"height\": 200, \"width\": 200}, \"title\": \"\"}, {\"hconcat\": [{\"data\": {\"url\": \"altair-data-c9824dd33cdee78b3bca6a53c42f84b5.json\", \"format\": {\"type\": \"json\"}}, \"facet\": {\"field\": \"wind_speed\", \"type\": \"nominal\"}, \"spec\": {\"layer\": [{\"mark\": {\"type\": \"errorband\", \"extent\": \"iqr\"}, \"encoding\": {\"color\": {\"field\": \"wind_dir\", \"type\": \"nominal\"}, \"x\": {\"field\": \"tau\", \"scale\": {\"type\": \"log\"}, \"type\": \"quantitative\"}, \"y\": {\"field\": \"Co\", \"type\": \"quantitative\"}}, \"title\": \"u'w', 3m-c\"}, {\"mark\": {\"type\": \"line\"}, \"encoding\": {\"color\": {\"field\": \"wind_dir\", \"type\": \"nominal\"}, \"x\": {\"field\": \"tau\", \"scale\": {\"type\": \"log\"}, \"type\": \"quantitative\"}, \"y\": {\"aggregate\": \"mean\", \"field\": \"Co\", \"type\": \"quantitative\"}}, \"title\": \"u'w', 3m-c\"}], \"height\": 200, \"width\": 200}, \"title\": \"\"}, {\"data\": {\"url\": \"altair-data-c226d67e1792e6f6f46d62dbb6c4ea33.json\", \"format\": {\"type\": \"json\"}}, \"facet\": {\"field\": \"wind_speed\", \"type\": \"nominal\"}, \"spec\": {\"layer\": [{\"mark\": {\"type\": \"errorband\", \"extent\": \"iqr\"}, \"encoding\": {\"color\": {\"field\": \"wind_dir\", \"type\": \"nominal\"}, \"x\": {\"field\": \"tau\", \"scale\": {\"type\": \"log\"}, \"type\": \"quantitative\"}, \"y\": {\"field\": \"Co\", \"type\": \"quantitative\"}}, \"title\": \"u'w', 3m-c\"}, {\"mark\": {\"type\": \"line\"}, \"encoding\": {\"color\": {\"field\": \"wind_dir\", \"type\": \"nominal\"}, \"x\": {\"field\": \"tau\", \"scale\": {\"type\": \"log\"}, \"type\": \"quantitative\"}, \"y\": {\"aggregate\": \"mean\", \"field\": \"Co\", \"type\": \"quantitative\"}}, \"title\": \"u'w', 3m-c\"}], \"height\": 200, \"width\": 200}, \"title\": \"\"}, {\"data\": {\"url\": \"altair-data-97c81339991a65cb482e29727ef78def.json\", \"format\": {\"type\": \"json\"}}, \"facet\": {\"field\": \"wind_speed\", \"type\": \"nominal\"}, \"spec\": {\"layer\": [{\"mark\": {\"type\": \"errorband\", \"extent\": \"iqr\"}, \"encoding\": {\"color\": {\"field\": \"wind_dir\", \"type\": \"nominal\"}, \"x\": {\"field\": \"tau\", \"scale\": {\"type\": \"log\"}, \"type\": \"quantitative\"}, \"y\": {\"field\": \"Co\", \"type\": \"quantitative\"}}, \"title\": \"u'w', 3m-c\"}, {\"mark\": {\"type\": \"line\"}, \"encoding\": {\"color\": {\"field\": \"wind_dir\", \"type\": \"nominal\"}, \"x\": {\"field\": \"tau\", \"scale\": {\"type\": \"log\"}, \"type\": \"quantitative\"}, \"y\": {\"aggregate\": \"mean\", \"field\": \"Co\", \"type\": \"quantitative\"}}, \"title\": \"u'w', 3m-c\"}], \"height\": 200, \"width\": 200}, \"title\": \"\"}, {\"data\": {\"url\": \"altair-data-c903805a9a7f9b94cfb0267ad92a96fc.json\", \"format\": {\"type\": \"json\"}}, \"facet\": {\"field\": \"wind_speed\", \"type\": \"nominal\"}, \"spec\": {\"layer\": [{\"mark\": {\"type\": \"errorband\", \"extent\": \"iqr\"}, \"encoding\": {\"color\": {\"field\": \"wind_dir\", \"type\": \"nominal\"}, \"x\": {\"field\": \"tau\", \"scale\": {\"type\": \"log\"}, \"type\": \"quantitative\"}, \"y\": {\"field\": \"Co\", \"type\": \"quantitative\"}}, \"title\": \"u'w', 3m-c\"}, {\"mark\": {\"type\": \"line\"}, \"encoding\": {\"color\": {\"field\": \"wind_dir\", \"type\": \"nominal\"}, \"x\": {\"field\": \"tau\", \"scale\": {\"type\": \"log\"}, \"type\": \"quantitative\"}, \"y\": {\"aggregate\": \"mean\", \"field\": \"Co\", \"type\": \"quantitative\"}}, \"title\": \"u'w', 3m-c\"}], \"height\": 200, \"width\": 200}, \"title\": \"\"}]}, {\"data\": {\"url\": \"altair-data-5185e45772c2b51ba854ea1470fe9a2e.json\", \"format\": {\"type\": \"json\"}}, \"facet\": {\"field\": \"wind_speed\", \"type\": \"nominal\"}, \"spec\": {\"layer\": [{\"mark\": {\"type\": \"errorband\", \"extent\": \"iqr\"}, \"encoding\": {\"color\": {\"field\": \"wind_dir\", \"type\": \"nominal\"}, \"x\": {\"field\": \"tau\", \"scale\": {\"type\": \"log\"}, \"type\": \"quantitative\"}, \"y\": {\"field\": \"Co\", \"type\": \"quantitative\"}}, \"title\": \"u'w', 3m-c\"}, {\"mark\": {\"type\": \"line\"}, \"encoding\": {\"color\": {\"field\": \"wind_dir\", \"type\": \"nominal\"}, \"x\": {\"field\": \"tau\", \"scale\": {\"type\": \"log\"}, \"type\": \"quantitative\"}, \"y\": {\"aggregate\": \"mean\", \"field\": \"Co\", \"type\": \"quantitative\"}}, \"title\": \"u'w', 3m-c\"}], \"height\": 200, \"width\": 200}, \"title\": \"\"}, {\"data\": {\"url\": \"altair-data-665833598d6acf3e4d060f6f271493ea.json\", \"format\": {\"type\": \"json\"}}, \"facet\": {\"field\": \"wind_speed\", \"type\": \"nominal\"}, \"spec\": {\"layer\": [{\"mark\": {\"type\": \"errorband\", \"extent\": \"iqr\"}, \"encoding\": {\"color\": {\"field\": \"wind_dir\", \"type\": \"nominal\"}, \"x\": {\"field\": \"tau\", \"scale\": {\"type\": \"log\"}, \"type\": \"quantitative\"}, \"y\": {\"field\": \"Co\", \"type\": \"quantitative\"}}, \"title\": \"u'w', 3m-c\"}, {\"mark\": {\"type\": \"line\"}, \"encoding\": {\"color\": {\"field\": \"wind_dir\", \"type\": \"nominal\"}, \"x\": {\"field\": \"tau\", \"scale\": {\"type\": \"log\"}, \"type\": \"quantitative\"}, \"y\": {\"aggregate\": \"mean\", \"field\": \"Co\", \"type\": \"quantitative\"}}, \"title\": \"u'w', 3m-c\"}], \"height\": 200, \"width\": 200}, \"title\": \"\"}], \"$schema\": \"https://vega.github.io/schema/vega-lite/v5.20.1.json\"}, {\"mode\": \"vega-lite\"});\n",
       "</script>"
      ],
      "text/plain": [
       "alt.VConcatChart(...)"
      ]
     },
     "execution_count": 30,
     "metadata": {},
     "output_type": "execute_result"
    }
   ],
   "source": [
    "src = nomrd_df_synopticwinds.query(\"covariance == 'v_w_'\")\n",
    "src = src[src.index.hour.isin([15, 16, 17])]\n",
    "\n",
    "(\n",
    "    layer_plot(src.query(\"loc == '3m_c'\")) | layer_plot(src.query(\"loc == '3m_d'\")) | layer_plot(src.query(\"loc == '3m_ue'\")) | layer_plot(src.query(\"loc == '3m_uw'\"))\n",
    ") &\\\n",
    "layer_plot(src.query(\"loc == '5m_c'\")) &\\\n",
    "(\n",
    "    layer_plot(src.query(\"loc == '10m_c'\")) | layer_plot(src.query(\"loc == '10m_d'\")) | layer_plot(src.query(\"loc == '10m_ue'\")) | layer_plot(src.query(\"loc == '10m_uw'\"))\n",
    ")  &\\\n",
    "layer_plot(src.query(\"loc == '15m_c'\")) &\\\n",
    "layer_plot(src.query(\"loc == '20m_c'\"))"
   ]
  }
 ],
 "metadata": {
  "kernelspec": {
   "display_name": "arm",
   "language": "python",
   "name": "python3"
  },
  "language_info": {
   "codemirror_mode": {
    "name": "ipython",
    "version": 3
   },
   "file_extension": ".py",
   "mimetype": "text/x-python",
   "name": "python",
   "nbconvert_exporter": "python",
   "pygments_lexer": "ipython3",
   "version": "3.12.5"
  },
  "orig_nbformat": 4,
  "vscode": {
   "interpreter": {
    "hash": "e2b11a00ad1b97cabcd9cc9209b8824a0fcaf6ffe37b5243943912873b5dcab1"
   }
  }
 },
 "nbformat": 4,
 "nbformat_minor": 2
}
