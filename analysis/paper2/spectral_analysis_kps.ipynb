{
 "cells": [
  {
   "cell_type": "code",
   "execution_count": 1,
   "metadata": {},
   "outputs": [],
   "source": [
    "import numpy as np\n",
    "import xarray as xr\n",
    "\n",
    "import datetime as dt\n",
    "import pandas as pd\n",
    "\n",
    "import matplotlib.pyplot as plt\n",
    "\n",
    "import altair as alt\n",
    "alt.data_transformers.enable('json')\n",
    "\n",
    "from sublimpy import utils\n",
    "import glob\n",
    "import pytz\n",
    "from scipy.signal import welch, csd\n",
    "from scipy.stats import chi2\n",
    "from process_fast_data.fast_data_calculate_spectra_nomrd import calculate_mrd_for_df, fast_data_files_to_dataframe"
   ]
  },
  {
   "cell_type": "markdown",
   "metadata": {},
   "source": [
    "# Open SOS slow data"
   ]
  },
  {
   "cell_type": "code",
   "execution_count": 2,
   "metadata": {},
   "outputs": [],
   "source": [
    "sos_df = pd.read_parquet(\"../paper1/process_slow_data/tidy_df_20221101_20230619_planar_fit_multiplane_q7_flags9000_pf10.parquet\")\n",
    "sos_df_localtime = utils.modify_df_timezone( sos_df, 'UTC', 'US/Mountain')"
   ]
  },
  {
   "cell_type": "markdown",
   "metadata": {},
   "source": [
    "## Plot wind directions for case studies"
   ]
  },
  {
   "cell_type": "code",
   "execution_count": 3,
   "metadata": {},
   "outputs": [
    {
     "data": {
      "text/html": [
       "\n",
       "<style>\n",
       "  #altair-viz-985e42c9ed7d4d0fa0c689d3bf2bf543.vega-embed {\n",
       "    width: 100%;\n",
       "    display: flex;\n",
       "  }\n",
       "\n",
       "  #altair-viz-985e42c9ed7d4d0fa0c689d3bf2bf543.vega-embed details,\n",
       "  #altair-viz-985e42c9ed7d4d0fa0c689d3bf2bf543.vega-embed details summary {\n",
       "    position: relative;\n",
       "  }\n",
       "</style>\n",
       "<div id=\"altair-viz-985e42c9ed7d4d0fa0c689d3bf2bf543\"></div>\n",
       "<script type=\"text/javascript\">\n",
       "  var VEGA_DEBUG = (typeof VEGA_DEBUG == \"undefined\") ? {} : VEGA_DEBUG;\n",
       "  (function(spec, embedOpt){\n",
       "    let outputDiv = document.currentScript.previousElementSibling;\n",
       "    if (outputDiv.id !== \"altair-viz-985e42c9ed7d4d0fa0c689d3bf2bf543\") {\n",
       "      outputDiv = document.getElementById(\"altair-viz-985e42c9ed7d4d0fa0c689d3bf2bf543\");\n",
       "    }\n",
       "    const paths = {\n",
       "      \"vega\": \"https://cdn.jsdelivr.net/npm/vega@5?noext\",\n",
       "      \"vega-lib\": \"https://cdn.jsdelivr.net/npm/vega-lib?noext\",\n",
       "      \"vega-lite\": \"https://cdn.jsdelivr.net/npm/vega-lite@5.20.1?noext\",\n",
       "      \"vega-embed\": \"https://cdn.jsdelivr.net/npm/vega-embed@6?noext\",\n",
       "    };\n",
       "\n",
       "    function maybeLoadScript(lib, version) {\n",
       "      var key = `${lib.replace(\"-\", \"\")}_version`;\n",
       "      return (VEGA_DEBUG[key] == version) ?\n",
       "        Promise.resolve(paths[lib]) :\n",
       "        new Promise(function(resolve, reject) {\n",
       "          var s = document.createElement('script');\n",
       "          document.getElementsByTagName(\"head\")[0].appendChild(s);\n",
       "          s.async = true;\n",
       "          s.onload = () => {\n",
       "            VEGA_DEBUG[key] = version;\n",
       "            return resolve(paths[lib]);\n",
       "          };\n",
       "          s.onerror = () => reject(`Error loading script: ${paths[lib]}`);\n",
       "          s.src = paths[lib];\n",
       "        });\n",
       "    }\n",
       "\n",
       "    function showError(err) {\n",
       "      outputDiv.innerHTML = `<div class=\"error\" style=\"color:red;\">${err}</div>`;\n",
       "      throw err;\n",
       "    }\n",
       "\n",
       "    function displayChart(vegaEmbed) {\n",
       "      vegaEmbed(outputDiv, spec, embedOpt)\n",
       "        .catch(err => showError(`Javascript Error: ${err.message}<br>This usually means there's a typo in your chart specification. See the javascript console for the full traceback.`));\n",
       "    }\n",
       "\n",
       "    if(typeof define === \"function\" && define.amd) {\n",
       "      requirejs.config({paths});\n",
       "      require([\"vega-embed\"], displayChart, err => showError(`Error loading script: ${err.message}`));\n",
       "    } else {\n",
       "      maybeLoadScript(\"vega\", \"5\")\n",
       "        .then(() => maybeLoadScript(\"vega-lite\", \"5.20.1\"))\n",
       "        .then(() => maybeLoadScript(\"vega-embed\", \"6\"))\n",
       "        .catch(showError)\n",
       "        .then(() => displayChart(vegaEmbed));\n",
       "    }\n",
       "  })({\"config\": {\"view\": {\"continuousWidth\": 300, \"continuousHeight\": 300}}, \"hconcat\": [{\"layer\": [{\"data\": {\"url\": \"altair-data-eafc93f16b8b4c0d0a069b8ccef6cc70.json\", \"format\": {\"type\": \"json\"}}, \"mark\": {\"type\": \"line\"}, \"encoding\": {\"color\": {\"field\": \"height\", \"scale\": {\"scheme\": \"rainbow\"}, \"type\": \"ordinal\"}, \"x\": {\"field\": \"time\", \"type\": \"temporal\"}, \"y\": {\"field\": \"value\", \"type\": \"quantitative\"}}}, {\"data\": {\"url\": \"altair-data-fedf3be97705ecf1c6a6ecde8aee6f23.json\", \"format\": {\"type\": \"json\"}}, \"mark\": {\"type\": \"rule\", \"color\": \"red\", \"strokeDash\": [4, 2]}, \"encoding\": {\"x\": {\"field\": \"time\", \"type\": \"temporal\"}}}], \"height\": 150}, {\"layer\": [{\"data\": {\"url\": \"altair-data-3430e3582040f28032100648a73bf298.json\", \"format\": {\"type\": \"json\"}}, \"mark\": {\"type\": \"line\"}, \"encoding\": {\"color\": {\"field\": \"height\", \"scale\": {\"scheme\": \"rainbow\"}, \"type\": \"ordinal\"}, \"x\": {\"field\": \"time\", \"type\": \"temporal\"}, \"y\": {\"field\": \"value\", \"type\": \"quantitative\"}}}, {\"data\": {\"url\": \"altair-data-546faa7b3ac75d149fae2be2051f6be5.json\", \"format\": {\"type\": \"json\"}}, \"mark\": {\"type\": \"rule\", \"color\": \"red\", \"strokeDash\": [4, 2]}, \"encoding\": {\"x\": {\"field\": \"time\", \"type\": \"temporal\"}}}], \"height\": 150}, {\"layer\": [{\"data\": {\"url\": \"altair-data-1b4d9aa421cd77c22c802b955719973c.json\", \"format\": {\"type\": \"json\"}}, \"mark\": {\"type\": \"line\"}, \"encoding\": {\"color\": {\"field\": \"height\", \"scale\": {\"scheme\": \"rainbow\"}, \"type\": \"ordinal\"}, \"x\": {\"field\": \"time\", \"type\": \"temporal\"}, \"y\": {\"field\": \"value\", \"type\": \"quantitative\"}}}, {\"data\": {\"url\": \"altair-data-0c2787b68a7f6c3472db1025fff8c08f.json\", \"format\": {\"type\": \"json\"}}, \"mark\": {\"type\": \"rule\", \"color\": \"red\", \"strokeDash\": [4, 2]}, \"encoding\": {\"x\": {\"field\": \"time\", \"type\": \"temporal\"}}}], \"height\": 150}, {\"layer\": [{\"data\": {\"url\": \"altair-data-3c8a7c4f9924769d14d61314f889a7b5.json\", \"format\": {\"type\": \"json\"}}, \"mark\": {\"type\": \"line\"}, \"encoding\": {\"color\": {\"field\": \"height\", \"scale\": {\"scheme\": \"rainbow\"}, \"type\": \"ordinal\"}, \"x\": {\"field\": \"time\", \"type\": \"temporal\"}, \"y\": {\"field\": \"value\", \"type\": \"quantitative\"}}}, {\"data\": {\"url\": \"altair-data-d210bf1481e7e53e64fb981c5159a1d9.json\", \"format\": {\"type\": \"json\"}}, \"mark\": {\"type\": \"rule\", \"color\": \"red\", \"strokeDash\": [4, 2]}, \"encoding\": {\"x\": {\"field\": \"time\", \"type\": \"temporal\"}}}], \"height\": 150}], \"$schema\": \"https://vega.github.io/schema/vega-lite/v5.20.1.json\"}, {\"mode\": \"vega-lite\"});\n",
       "</script>"
      ],
      "text/plain": [
       "alt.HConcatChart(...)"
      ]
     },
     "execution_count": 3,
     "metadata": {},
     "output_type": "execute_result"
    }
   ],
   "source": [
    "def wind_chart(data):\n",
    "    return alt.Chart(data).mark_line().encode(        \n",
    "        alt.X('time:T'),\n",
    "        alt.Y('value:Q'),\n",
    "        alt.Color('height:O').scale(scheme='rainbow')\n",
    "    ).properties(height=150)\n",
    "def vertical_lines_chart(data):\n",
    "    return alt.Chart(\n",
    "        data\n",
    "    ).mark_rule(color='red', strokeDash=[4, 2]).encode(\n",
    "        alt.X('time:T')\n",
    "    )\n",
    "\n",
    "\n",
    "sos_dir_df = sos_df_localtime[sos_df_localtime.variable.isin([\n",
    "        'dir_3m_c', 'dir_10m_c', 'dir_20m_c'\n",
    "    ])].set_index('time')\n",
    "\n",
    "(\n",
    "    (wind_chart(sos_dir_df.loc['20230409'].reset_index())   + vertical_lines_chart(pd.DataFrame({'time': ['2023-04-09T15:00:00', '2023-04-09T18:00:00']}))) \n",
    "    | (wind_chart(sos_dir_df.loc['20230418'].reset_index()) + vertical_lines_chart(pd.DataFrame({'time': ['2023-04-18T15:00:00', '2023-04-18T18:00:00']}))) \n",
    "    | (wind_chart(sos_dir_df.loc['20221221'].reset_index()) + vertical_lines_chart(pd.DataFrame({'time': ['2022-12-21T15:00:00', '2022-12-21T18:00:00']}))) \n",
    "    | (wind_chart(sos_dir_df.loc['20230304'].reset_index()) + vertical_lines_chart(pd.DataFrame({'time': ['2023-03-04T15:00:00', '2023-03-04T18:00:00']})))\n",
    ")"
   ]
  },
  {
   "cell_type": "markdown",
   "metadata": {},
   "source": [
    "# Open SOS fast data"
   ]
  },
  {
   "cell_type": "code",
   "execution_count": 6,
   "metadata": {},
   "outputs": [
    {
     "name": "stdout",
     "output_type": "stream",
     "text": [
      "mean u, v, w after first rotation  u_2m_c    1.723918e+00\n",
      "v_2m_c    1.039858e-07\n",
      "w_2m_c   -1.881205e-03\n",
      "dtype: float32\n",
      "mean u, v, w after first rotation  u_3m_c    1.840870e+00\n",
      "v_3m_c   -9.946470e-08\n",
      "w_3m_c   -1.804663e-02\n",
      "dtype: float32\n",
      "mean u, v, w after first rotation  u_5m_c    1.946010e+00\n",
      "v_5m_c    1.785843e-07\n",
      "w_5m_c   -4.764963e-02\n",
      "dtype: float32\n",
      "mean u, v, w after first rotation  u_10m_c    1.988550e+00\n",
      "v_10m_c   -2.509223e-07\n",
      "w_10m_c   -1.132471e-01\n",
      "dtype: float32\n",
      "mean u, v, w after first rotation  u_15m_c    1.903841e+00\n",
      "v_15m_c    5.425347e-08\n",
      "w_15m_c   -1.553703e-01\n",
      "dtype: float32\n",
      "mean u, v, w after first rotation  u_20m_c    1.892757e+00\n",
      "v_20m_c   -4.973235e-08\n",
      "w_20m_c   -2.244760e-01\n",
      "dtype: float32\n",
      "mean u, v, w after first rotation  u_3m_uw    1.895535e+00\n",
      "v_3m_uw    2.034505e-07\n",
      "w_3m_uw    2.985147e-02\n",
      "dtype: float32\n",
      "mean u, v, w after first rotation  u_10m_uw    2.055680e+00\n",
      "v_10m_uw   -1.876266e-07\n",
      "w_10m_uw   -6.043224e-02\n",
      "dtype: float32\n",
      "mean u, v, w after first rotation  u_3m_ue    1.762233e+00\n",
      "v_3m_ue   -5.990488e-08\n",
      "w_3m_ue    1.806999e-03\n",
      "dtype: float32\n",
      "mean u, v, w after first rotation  u_10m_ue    1.873142e+00\n",
      "v_10m_ue    2.712674e-08\n",
      "w_10m_ue   -6.923296e-02\n",
      "dtype: float32\n",
      "mean u, v, w after first rotation  u_3m_d    1.754346e+00\n",
      "v_3m_d   -4.521123e-09\n",
      "w_3m_d    1.865089e-02\n",
      "dtype: float32\n",
      "mean u, v, w after first rotation  u_10m_d    1.872836e+00\n",
      "v_10m_d    8.477105e-08\n",
      "w_10m_d   -5.241929e-02\n",
      "dtype: float32\n",
      "mean u, v, w after second rotation  u_2m_c    1.723918e+00\n",
      "v_2m_c    1.039858e-07\n",
      "w_2m_c    7.064254e-10\n",
      "dtype: float32\n",
      "mean u, v, w after second rotation  u_3m_c    1.840958e+00\n",
      "v_3m_c   -9.946470e-08\n",
      "w_3m_c   -4.803693e-09\n",
      "dtype: float32\n",
      "mean u, v, w after second rotation  u_5m_c    1.946593e+00\n",
      "v_5m_c    1.785843e-07\n",
      "w_5m_c   -1.412851e-08\n",
      "dtype: float32\n",
      "mean u, v, w after second rotation  u_10m_c    1.991772e+00\n",
      "v_10m_c   -2.509223e-07\n",
      "w_10m_c   -9.042245e-09\n",
      "dtype: float32\n",
      "mean u, v, w after second rotation  u_15m_c    1.910171e+00\n",
      "v_15m_c    5.425347e-08\n",
      "w_15m_c   -1.130281e-09\n",
      "dtype: float32\n",
      "mean u, v, w after second rotation  u_20m_c    1.906022e+00\n",
      "v_20m_c   -4.973235e-08\n",
      "w_20m_c    1.130281e-08\n",
      "dtype: float32\n",
      "mean u, v, w after second rotation  u_3m_uw    1.895770e+00\n",
      "v_3m_uw    2.034505e-07\n",
      "w_3m_uw    4.944978e-10\n",
      "dtype: float32\n",
      "mean u, v, w after second rotation  u_10m_uw    2.056568e+00\n",
      "v_10m_uw   -1.876266e-07\n",
      "w_10m_uw    1.130281e-09\n",
      "dtype: float32\n",
      "mean u, v, w after second rotation  u_3m_ue    1.762234e+00\n",
      "v_3m_ue   -5.990488e-08\n",
      "w_3m_ue   -9.536744e-10\n",
      "dtype: float32\n",
      "mean u, v, w after second rotation  u_10m_ue    1.874422e+00\n",
      "v_10m_ue    2.712674e-08\n",
      "w_10m_ue    1.017253e-08\n",
      "dtype: float32\n",
      "mean u, v, w after second rotation  u_3m_d    1.754444e+00\n",
      "v_3m_d   -4.521123e-09\n",
      "w_3m_d    3.249557e-09\n",
      "dtype: float32\n",
      "mean u, v, w after second rotation  u_10m_d    1.873569e+00\n",
      "v_10m_d    8.477105e-08\n",
      "w_10m_d    5.651403e-09\n",
      "dtype: float32\n"
     ]
    }
   ],
   "source": [
    "apr18_df = fast_data_files_to_dataframe([\n",
    "    '/Users/elischwat/Development/data/sublimationofsnow/sosqc_fast/isfs_sos_qc_geo_tiltcor_hr_v2_20230418_21.nc',\n",
    "    '/Users/elischwat/Development/data/sublimationofsnow/sosqc_fast/isfs_sos_qc_geo_tiltcor_hr_v2_20230418_22.nc',\n",
    "    '/Users/elischwat/Development/data/sublimationofsnow/sosqc_fast/isfs_sos_qc_geo_tiltcor_hr_v2_20230418_23.nc',\n",
    "],  rotation='double')\n",
    "\n",
    "apr18_df = utils.modify_df_timezone(apr18_df, pytz.UTC, \"US/Mountain\")"
   ]
  },
  {
   "cell_type": "code",
   "execution_count": 8,
   "metadata": {},
   "outputs": [
    {
     "name": "stdout",
     "output_type": "stream",
     "text": [
      "Got data of length 216000. using M = 17\n",
      "Timestep of fast data is: 50.0 ms\n",
      "Dataset of length 216000, with M = 17, permits 42 iterations.\n"
     ]
    },
    {
     "name": "stderr",
     "output_type": "stream",
     "text": [
      "100%|██████████| 42/42 [00:15<00:00,  2.68it/s]\n"
     ]
    },
    {
     "name": "stdout",
     "output_type": "stream",
     "text": [
      "Got data of length 216000. using M = 17\n",
      "Timestep of fast data is: 50.0 ms\n",
      "Dataset of length 216000, with M = 17, permits 42 iterations.\n"
     ]
    },
    {
     "name": "stderr",
     "output_type": "stream",
     "text": [
      "100%|██████████| 42/42 [00:14<00:00,  2.83it/s]\n"
     ]
    },
    {
     "name": "stdout",
     "output_type": "stream",
     "text": [
      "Got data of length 216000. using M = 17\n",
      "Timestep of fast data is: 50.0 ms\n",
      "Dataset of length 216000, with M = 17, permits 42 iterations.\n"
     ]
    },
    {
     "name": "stderr",
     "output_type": "stream",
     "text": [
      "100%|██████████| 42/42 [00:14<00:00,  2.89it/s]\n"
     ]
    },
    {
     "name": "stdout",
     "output_type": "stream",
     "text": [
      "Got data of length 216000. using M = 17\n",
      "Timestep of fast data is: 50.0 ms\n",
      "Dataset of length 216000, with M = 17, permits 42 iterations.\n"
     ]
    },
    {
     "name": "stderr",
     "output_type": "stream",
     "text": [
      "100%|██████████| 42/42 [00:14<00:00,  2.92it/s]\n"
     ]
    }
   ],
   "source": [
    "apr18_u_w_3m_c_mrd_df = calculate_mrd_for_df(apr18_df, 'u_3m_c', 'w_3m_c', shift = 2000, parallelism=8)\n",
    "apr18_u_w_3m_d_mrd_df = calculate_mrd_for_df(apr18_df, 'u_3m_d', 'w_3m_d', shift = 2000, parallelism=8)\n",
    "apr18_u_w_3m_ue_mrd_df = calculate_mrd_for_df(apr18_df, 'u_3m_ue', 'w_3m_ue', shift = 2000, parallelism=8)\n",
    "apr18_u_w_3m_uw_mrd_df = calculate_mrd_for_df(apr18_df, 'u_3m_uw', 'w_3m_uw', shift = 2000, parallelism=8)"
   ]
  },
  {
   "cell_type": "code",
   "execution_count": 9,
   "metadata": {},
   "outputs": [
    {
     "name": "stdout",
     "output_type": "stream",
     "text": [
      "Got data of length 216000. using M = 17\n",
      "Timestep of fast data is: 50.0 ms\n",
      "Dataset of length 216000, with M = 17, permits 42 iterations.\n"
     ]
    },
    {
     "name": "stderr",
     "output_type": "stream",
     "text": [
      "100%|██████████| 42/42 [00:13<00:00,  3.02it/s]\n"
     ]
    },
    {
     "name": "stdout",
     "output_type": "stream",
     "text": [
      "Got data of length 216000. using M = 17\n",
      "Timestep of fast data is: 50.0 ms\n",
      "Dataset of length 216000, with M = 17, permits 42 iterations.\n"
     ]
    },
    {
     "name": "stderr",
     "output_type": "stream",
     "text": [
      "100%|██████████| 42/42 [00:13<00:00,  3.00it/s]\n"
     ]
    },
    {
     "name": "stdout",
     "output_type": "stream",
     "text": [
      "Got data of length 216000. using M = 17\n",
      "Timestep of fast data is: 50.0 ms\n",
      "Dataset of length 216000, with M = 17, permits 42 iterations.\n"
     ]
    },
    {
     "name": "stderr",
     "output_type": "stream",
     "text": [
      "100%|██████████| 42/42 [00:13<00:00,  3.03it/s]\n"
     ]
    },
    {
     "name": "stdout",
     "output_type": "stream",
     "text": [
      "Got data of length 216000. using M = 17\n",
      "Timestep of fast data is: 50.0 ms\n",
      "Dataset of length 216000, with M = 17, permits 42 iterations.\n"
     ]
    },
    {
     "name": "stderr",
     "output_type": "stream",
     "text": [
      "100%|██████████| 42/42 [00:13<00:00,  3.02it/s]\n"
     ]
    },
    {
     "name": "stdout",
     "output_type": "stream",
     "text": [
      "Got data of length 216000. using M = 17\n",
      "Timestep of fast data is: 50.0 ms\n",
      "Dataset of length 216000, with M = 17, permits 42 iterations.\n"
     ]
    },
    {
     "name": "stderr",
     "output_type": "stream",
     "text": [
      "100%|██████████| 42/42 [00:13<00:00,  3.02it/s]\n"
     ]
    },
    {
     "name": "stdout",
     "output_type": "stream",
     "text": [
      "Got data of length 216000. using M = 17\n",
      "Timestep of fast data is: 50.0 ms\n",
      "Dataset of length 216000, with M = 17, permits 42 iterations.\n"
     ]
    },
    {
     "name": "stderr",
     "output_type": "stream",
     "text": [
      "100%|██████████| 42/42 [00:13<00:00,  3.02it/s]\n"
     ]
    },
    {
     "name": "stdout",
     "output_type": "stream",
     "text": [
      "Got data of length 216000. using M = 17\n",
      "Timestep of fast data is: 50.0 ms\n",
      "Dataset of length 216000, with M = 17, permits 42 iterations.\n"
     ]
    },
    {
     "name": "stderr",
     "output_type": "stream",
     "text": [
      "100%|██████████| 42/42 [00:13<00:00,  3.03it/s]\n"
     ]
    },
    {
     "name": "stdout",
     "output_type": "stream",
     "text": [
      "Got data of length 216000. using M = 17\n",
      "Timestep of fast data is: 50.0 ms\n",
      "Dataset of length 216000, with M = 17, permits 42 iterations.\n"
     ]
    },
    {
     "name": "stderr",
     "output_type": "stream",
     "text": [
      "100%|██████████| 42/42 [00:13<00:00,  3.02it/s]\n"
     ]
    }
   ],
   "source": [
    "apr18_u_u_3m_c_mrd_df = calculate_mrd_for_df(apr18_df, 'u_3m_c', 'u_3m_c', shift = 2000, parallelism=8)\n",
    "apr18_u_u_3m_d_mrd_df = calculate_mrd_for_df(apr18_df, 'u_3m_d', 'u_3m_d', shift = 2000, parallelism=8)\n",
    "apr18_u_u_3m_ue_mrd_df = calculate_mrd_for_df(apr18_df, 'u_3m_ue', 'u_3m_ue', shift = 2000, parallelism=8)\n",
    "apr18_u_u_3m_uw_mrd_df = calculate_mrd_for_df(apr18_df, 'u_3m_uw', 'u_3m_uw', shift = 2000, parallelism=8)\n",
    "\n",
    "apr18_w_w_3m_c_mrd_df = calculate_mrd_for_df(apr18_df, 'w_3m_c', 'w_3m_c', shift = 2000, parallelism=8)\n",
    "apr18_w_w_3m_d_mrd_df = calculate_mrd_for_df(apr18_df, 'w_3m_d', 'w_3m_d', shift = 2000, parallelism=8)\n",
    "apr18_w_w_3m_ue_mrd_df = calculate_mrd_for_df(apr18_df, 'w_3m_ue', 'w_3m_ue', shift = 2000, parallelism=8)\n",
    "apr18_w_w_3m_uw_mrd_df = calculate_mrd_for_df(apr18_df, 'w_3m_uw', 'w_3m_uw', shift = 2000, parallelism=8)"
   ]
  },
  {
   "cell_type": "code",
   "execution_count": 11,
   "metadata": {},
   "outputs": [
    {
     "name": "stdout",
     "output_type": "stream",
     "text": [
      "Got data of length 216000. using M = 17\n",
      "Timestep of fast data is: 50.0 ms\n",
      "Dataset of length 216000, with M = 17, permits 42 iterations.\n"
     ]
    },
    {
     "name": "stderr",
     "output_type": "stream",
     "text": [
      "100%|██████████| 42/42 [00:15<00:00,  2.66it/s]\n"
     ]
    },
    {
     "name": "stdout",
     "output_type": "stream",
     "text": [
      "Got data of length 216000. using M = 17\n",
      "Timestep of fast data is: 50.0 ms\n",
      "Dataset of length 216000, with M = 17, permits 42 iterations.\n"
     ]
    },
    {
     "name": "stderr",
     "output_type": "stream",
     "text": [
      "100%|██████████| 42/42 [00:13<00:00,  3.01it/s]\n"
     ]
    },
    {
     "name": "stdout",
     "output_type": "stream",
     "text": [
      "Got data of length 216000. using M = 17\n",
      "Timestep of fast data is: 50.0 ms\n",
      "Dataset of length 216000, with M = 17, permits 42 iterations.\n"
     ]
    },
    {
     "name": "stderr",
     "output_type": "stream",
     "text": [
      "100%|██████████| 42/42 [00:14<00:00,  2.83it/s]\n"
     ]
    },
    {
     "name": "stdout",
     "output_type": "stream",
     "text": [
      "Got data of length 216000. using M = 17\n",
      "Timestep of fast data is: 50.0 ms\n",
      "Dataset of length 216000, with M = 17, permits 42 iterations.\n"
     ]
    },
    {
     "name": "stderr",
     "output_type": "stream",
     "text": [
      "100%|██████████| 42/42 [00:14<00:00,  2.93it/s]\n"
     ]
    }
   ],
   "source": [
    "apr18_u_w_10m_c_mrd_df = calculate_mrd_for_df(apr18_df, 'u_10m_c', 'w_10m_c', shift = 2000, parallelism=8)\n",
    "apr18_u_w_10m_d_mrd_df = calculate_mrd_for_df(apr18_df, 'u_10m_d', 'w_10m_d', shift = 2000, parallelism=8)\n",
    "apr18_u_w_10m_ue_mrd_df = calculate_mrd_for_df(apr18_df, 'u_10m_ue', 'w_10m_ue', shift = 2000, parallelism=8)\n",
    "apr18_u_w_10m_uw_mrd_df = calculate_mrd_for_df(apr18_df, 'u_10m_uw', 'w_10m_uw', shift = 2000, parallelism=8)"
   ]
  },
  {
   "cell_type": "code",
   "execution_count": null,
   "metadata": {},
   "outputs": [],
   "source": [
    "base = alt.Chart().encode(\n",
    "    alt.X('tau:Q').scale(type='log').title('tau (s)'),\n",
    ")\n",
    "def mrd_plot(data):\n",
    "    return alt.layer(\n",
    "        base.mark_errorband(extent='iqr').encode(alt.Y('Co:Q')),\n",
    "        base.mark_line().encode(alt.Y('mean(Co):Q')),\n",
    "        data=data\n",
    "    ).properties(width=200, height=200)"
   ]
  },
  {
   "cell_type": "code",
   "execution_count": null,
   "metadata": {},
   "outputs": [],
   "source": [
    "(mrd_plot(apr18_u_w_3m_c_mrd_df) | mrd_plot(apr18_u_w_3m_d_mrd_df) | mrd_plot(apr18_u_w_3m_ue_mrd_df) | mrd_plot(apr18_u_w_3m_uw_mrd_df)).resolve_scale(y='shared')"
   ]
  },
  {
   "cell_type": "code",
   "execution_count": null,
   "metadata": {},
   "outputs": [],
   "source": [
    "(mrd_plot(apr18_u_u_3m_c_mrd_df) | mrd_plot(apr18_u_u_3m_d_mrd_df) | mrd_plot(apr18_u_u_3m_ue_mrd_df) | mrd_plot(apr18_u_u_3m_uw_mrd_df)).resolve_scale(y='shared')"
   ]
  },
  {
   "cell_type": "code",
   "execution_count": null,
   "metadata": {},
   "outputs": [],
   "source": [
    "(mrd_plot(apr18_w_w_3m_c_mrd_df) | mrd_plot(apr18_w_w_3m_d_mrd_df) | mrd_plot(apr18_w_w_3m_ue_mrd_df) | mrd_plot(apr18_w_w_3m_uw_mrd_df)).resolve_scale(y='shared')"
   ]
  },
  {
   "cell_type": "code",
   "execution_count": null,
   "metadata": {},
   "outputs": [],
   "source": [
    "(mrd_plot(apr18_u_w_10m_c_mrd_df) | mrd_plot(apr18_u_w_10m_d_mrd_df) | mrd_plot(apr18_u_w_10m_ue_mrd_df) | mrd_plot(apr18_u_w_10m_uw_mrd_df)).resolve_scale(y='shared')"
   ]
  },
  {
   "cell_type": "code",
   "execution_count": null,
   "metadata": {},
   "outputs": [],
   "source": [
    "apr18_u_w_mrd_df = calculate_mrd_for_df(apr18_df, 'u_3m_c', 'w_3m_c', shift = 2000, parallelism=8)\n",
    "apr18_v_w_mrd_df = calculate_mrd_for_df(apr18_df, 'v_3m_c', 'w_3m_c', shift = 2000, parallelism=8)\n",
    "apr18_u_v_mrd_df = calculate_mrd_for_df(apr18_df, 'u_3m_c', 'v_3m_c', shift = 2000, parallelism=8)"
   ]
  },
  {
   "cell_type": "code",
   "execution_count": null,
   "metadata": {},
   "outputs": [],
   "source": [
    "apr18_u_u_mrd_df = calculate_mrd_for_df(apr18_df, 'u_3m_c', 'u_3m_c', shift = 2000, parallelism=8)\n",
    "apr18_v_v_mrd_df = calculate_mrd_for_df(apr18_df, 'v_3m_c', 'v_3m_c', shift = 2000, parallelism=8)\n",
    "apr18_w_w_mrd_df = calculate_mrd_for_df(apr18_df, 'w_3m_c', 'w_3m_c', shift = 2000, parallelism=8)"
   ]
  },
  {
   "cell_type": "code",
   "execution_count": null,
   "metadata": {},
   "outputs": [],
   "source": [
    "apr18_u_w_mrd_df\n",
    "apr18_v_w_mrd_df\n",
    "apr18_u_v_mrd_df\n",
    "apr18_u_u_mrd_df\n",
    "apr18_v_v_mrd_df\n",
    "apr18_w_w_mrd_df"
   ]
  },
  {
   "cell_type": "code",
   "execution_count": null,
   "metadata": {},
   "outputs": [],
   "source": [
    "mrd_uw_sail\n",
    "mrd_vw_sail\n",
    "mrd_uv_sail\n",
    "mrd_uu_sail\n",
    "mrd_vv_sail\n",
    "mrd_ww_sail"
   ]
  },
  {
   "cell_type": "code",
   "execution_count": null,
   "metadata": {},
   "outputs": [],
   "source": [
    "(\n",
    "    (\n",
    "        mrd_plot(mrd_uu_sail).properties(title=\"u'u' at GOT\") | \n",
    "        mrd_plot(mrd_vv_sail).properties(title=\"v'v' at GOT\")\n",
    "    ).resolve_scale(x='shared', y='shared') & (\n",
    "        mrd_plot(apr18_u_u_mrd_df).properties(title=\"u'u' at KPS\") | \n",
    "        mrd_plot(apr18_v_v_mrd_df).properties(title=\"v'v' at KPS\")\n",
    ").resolve_scale(x='shared', y='shared')\n",
    ").resolve_scale(x='shared', y='shared') | (\n",
    "    mrd_plot(mrd_ww_sail).properties(title=\"w'w' at GOT\") &\n",
    "    mrd_plot(apr18_w_w_mrd_df).properties(title=\"w'w' at KPS\")\n",
    ").resolve_scale(x='shared', y='shared')"
   ]
  },
  {
   "cell_type": "code",
   "execution_count": null,
   "metadata": {},
   "outputs": [],
   "source": [
    "(\n",
    "    (\n",
    "        mrd_plot(mrd_uw_sail).properties(title=\"u'w' at GOT\") | \n",
    "        mrd_plot(mrd_vw_sail).properties(title=\"v'w' at GOT\")\n",
    "    ).resolve_scale(x='shared', y='shared') & (\n",
    "        mrd_plot(apr18_u_w_mrd_df).properties(title=\"u'w' at KPS\") | \n",
    "        mrd_plot(apr18_v_w_mrd_df).properties(title=\"v'w' at KPS\")\n",
    ").resolve_scale(x='shared', y='shared')\n",
    ").resolve_scale(x='shared', y='shared') | (\n",
    "    mrd_plot(mrd_uv_sail).properties(title=\"u'v' at GOT\") &\n",
    "    mrd_plot(apr18_u_v_mrd_df).properties(title=\"u'v' at KPS\")\n",
    ").resolve_scale(x='shared', y='shared')"
   ]
  },
  {
   "cell_type": "code",
   "execution_count": null,
   "metadata": {},
   "outputs": [],
   "source": [
    "dec21_df = fast_data_files_to_dataframe([\n",
    "    '/Users/elischwat/Development/data/sublimationofsnow/sosqc_fast/isfs_sos_qc_geo_tiltcor_hr_v2_20221221_21.nc',\n",
    "    '/Users/elischwat/Development/data/sublimationofsnow/sosqc_fast/isfs_sos_qc_geo_tiltcor_hr_v2_20221221_22.nc',\n",
    "    '/Users/elischwat/Development/data/sublimationofsnow/sosqc_fast/isfs_sos_qc_geo_tiltcor_hr_v2_20221221_23.nc',\n",
    "])\n",
    "dec21_df['u_3m_c'] = dec21_df['u_3m_c'].ffill()\n",
    "dec21_df['v_3m_c'] = dec21_df['v_3m_c'].ffill()\n",
    "dec21_df['w_3m_c'] = dec21_df['w_3m_c'].ffill()\n",
    "dec21_u_w_mrd_df = calculate_mrd_for_df(dec21_df, 'u_3m_c', 'w_3m_c', shift = 2000, parallelism=8)\n",
    "dec21_v_w_mrd_df = calculate_mrd_for_df(dec21_df, 'v_3m_c', 'w_3m_c', shift = 2000, parallelism=8)\n",
    "dec21_u_v_mrd_df = calculate_mrd_for_df(dec21_df, 'u_3m_c', 'v_3m_c', shift = 2000, parallelism=8)"
   ]
  },
  {
   "cell_type": "code",
   "execution_count": null,
   "metadata": {},
   "outputs": [],
   "source": [
    "((\n",
    "    (\n",
    "        mrd_plot(dec21_u_w_mrd_df).properties(height=200, width=200, title=\"u'w' at KPS, Dec 21\") | \n",
    "        mrd_plot(dec21_v_w_mrd_df).properties(height=200, width=200, title=\"v'w' at KPS, Dec 21\")\n",
    "    ).resolve_scale(x='shared', y='shared') & (\n",
    "        mrd_plot(apr18_u_w_mrd_df).properties(height=200, width=200, title=\"u'w' at KPS, Apr 18\") | \n",
    "        mrd_plot(apr18_v_w_mrd_df).properties(height=200, width=200, title=\"v'w' at KPS, Apr 18\")\n",
    ").resolve_scale(x='shared', y='shared')\n",
    ").resolve_scale(x='shared', y='shared') | (\n",
    "    mrd_plot(dec21_u_v_mrd_df).properties(height=200, width=200, title=\"u'v' at KPS, Dec 21\") &\n",
    "    mrd_plot(apr18_u_v_mrd_df).properties(height=200, width=200, title=\"u'v' at KPS, Apr 18\")\n",
    ").resolve_scale(x='shared', y='shared')).display(renderer='svg')"
   ]
  },
  {
   "cell_type": "code",
   "execution_count": null,
   "metadata": {},
   "outputs": [],
   "source": [
    "# '/Users/elischwat/Development/data/sublimationofsnow/sosqc_fast/isfs_sos_qc_geo_tiltcor_hr_20230419_02.nc',\n",
    "\n",
    "apr18_1000_1200_u_w_mrd_df = calculate_mrd_for_df(\n",
    "    fast_data_files_to_dataframe([\n",
    "        '/Users/elischwat/Development/data/sublimationofsnow/sosqc_fast_old/isfs_sos_qc_geo_tiltcor_hr_20230418_16.nc',\n",
    "        '/Users/elischwat/Development/data/sublimationofsnow/sosqc_fast_old/isfs_sos_qc_geo_tiltcor_hr_20230418_17.nc',\n",
    "    ]).set_index('time')[['u_3m_c', 'v_3m_c', 'w_3m_c']].ffill().reset_index(), \n",
    "    'u_3m_c',  'w_3m_c', shift = 1000, parallelism=8\n",
    ")\n",
    "apr18_1200_1400_u_w_mrd_df = calculate_mrd_for_df(\n",
    "    fast_data_files_to_dataframe([\n",
    "        '/Users/elischwat/Development/data/sublimationofsnow/sosqc_fast_old/isfs_sos_qc_geo_tiltcor_hr_20230418_18.nc',\n",
    "        '/Users/elischwat/Development/data/sublimationofsnow/sosqc_fast_old/isfs_sos_qc_geo_tiltcor_hr_20230418_19.nc',\n",
    "    ]).set_index('time')[['u_3m_c', 'v_3m_c', 'w_3m_c']].ffill().reset_index(), \n",
    "    'u_3m_c',  'w_3m_c', shift = 1000, parallelism=8\n",
    ")\n",
    "apr18_1400_1600_u_w_mrd_df = calculate_mrd_for_df(\n",
    "    fast_data_files_to_dataframe([\n",
    "        '/Users/elischwat/Development/data/sublimationofsnow/sosqc_fast_old/isfs_sos_qc_geo_tiltcor_hr_20230418_20.nc',\n",
    "        '/Users/elischwat/Development/data/sublimationofsnow/sosqc_fast_old/isfs_sos_qc_geo_tiltcor_hr_20230418_21.nc',\n",
    "    ]).set_index('time')[['u_3m_c', 'v_3m_c', 'w_3m_c']].ffill().reset_index(), \n",
    "    'u_3m_c',  'w_3m_c', shift = 1000, parallelism=8\n",
    ")\n",
    "apr18_1600_1800_u_w_mrd_df = calculate_mrd_for_df(\n",
    "    fast_data_files_to_dataframe([\n",
    "        '/Users/elischwat/Development/data/sublimationofsnow/sosqc_fast_old/isfs_sos_qc_geo_tiltcor_hr_20230418_22.nc',\n",
    "        '/Users/elischwat/Development/data/sublimationofsnow/sosqc_fast_old/isfs_sos_qc_geo_tiltcor_hr_20230418_23.nc',\n",
    "    ]).set_index('time')[['u_3m_c', 'v_3m_c', 'w_3m_c']].ffill().reset_index(), \n",
    "    'u_3m_c',  'w_3m_c', shift = 1000, parallelism=8\n",
    ")\n",
    "apr18_1800_2000_u_w_mrd_df = calculate_mrd_for_df(\n",
    "    fast_data_files_to_dataframe([\n",
    "        '/Users/elischwat/Development/data/sublimationofsnow/sosqc_fast_old/isfs_sos_qc_geo_tiltcor_hr_20230419_00.nc',\n",
    "        '/Users/elischwat/Development/data/sublimationofsnow/sosqc_fast_old/isfs_sos_qc_geo_tiltcor_hr_20230419_01.nc',\n",
    "    ]).set_index('time')[['u_3m_c', 'v_3m_c', 'w_3m_c']].ffill().reset_index(), \n",
    "    'u_3m_c',  'w_3m_c', shift = 1000, parallelism=8\n",
    ")\n",
    "apr18_2000_2200_u_w_mrd_df = calculate_mrd_for_df(\n",
    "    fast_data_files_to_dataframe([\n",
    "        '/Users/elischwat/Development/data/sublimationofsnow/sosqc_fast_old/isfs_sos_qc_geo_tiltcor_hr_20230419_02.nc',\n",
    "        '/Users/elischwat/Development/data/sublimationofsnow/sosqc_fast_old/isfs_sos_qc_geo_tiltcor_hr_20230419_03.nc',\n",
    "    ]).set_index('time')[['u_3m_c', 'v_3m_c', 'w_3m_c']].ffill().reset_index(), \n",
    "    'u_3m_c',  'w_3m_c', shift = 1000, parallelism=8\n",
    ")\n"
   ]
  },
  {
   "cell_type": "code",
   "execution_count": null,
   "metadata": {},
   "outputs": [],
   "source": [
    "mrd_df = pd.concat([\n",
    "    apr18_1000_1200_u_w_mrd_df.assign(hour = '1000_1200'),\n",
    "    apr18_1200_1400_u_w_mrd_df.assign(hour = '1200_1400'),\n",
    "    apr18_1400_1600_u_w_mrd_df.assign(hour = '1400_1600'),\n",
    "    apr18_1600_1800_u_w_mrd_df.assign(hour = '1600_1800'),\n",
    "    apr18_1800_2000_u_w_mrd_df.assign(hour = '1800_2000'),\n",
    "    apr18_2000_2200_u_w_mrd_df.assign(hour = '2000_2200'),\n",
    "])\n",
    "mrd_df['average_time'] = mrd_df.start_time + 0.5*(mrd_df.end_time - mrd_df.start_time)\n",
    "\n",
    "(alt.Chart(mrd_df).mark_line().encode(\n",
    "    alt.X('tau:Q').scale(type='log'),\n",
    "    alt.Y('mean(Co):Q'),\n",
    "    alt.Color('hour:N')\n",
    ") | alt.Chart(mrd_df.query(\"hour == '1600_1800'\")).mark_line().encode(\n",
    "    alt.X('tau:Q').scale(type='log'),\n",
    "    alt.Y('mean(Co):Q'),\n",
    "    alt.Color('hoursminutes(average_time):O').scale(scheme='purpleorange')\n",
    ")).resolve_scale(color='independent')"
   ]
  },
  {
   "cell_type": "code",
   "execution_count": null,
   "metadata": {},
   "outputs": [],
   "source": [
    "# '/Users/elischwat/Development/data/sublimationofsnow/sosqc_fast/isfs_sos_qc_geo_tiltcor_hr_20230419_02.nc',\n",
    "\n",
    "apr18_2000_u_w_mrd_df = calculate_mrd_for_df(\n",
    "    fast_data_files_to_dataframe([\n",
    "        '/Users/elischwat/Development/data/sublimationofsnow/sosqc_fast_old/isfs_sos_qc_geo_tiltcor_hr_20230419_02.nc',\n",
    "    ]).set_index('time')[['u_3m_c', 'v_3m_c', 'w_3m_c']].ffill().reset_index(), \n",
    "    'u_3m_c', \n",
    "    'w_3m_c', \n",
    "    shift = 200,\n",
    "    parallelism=8\n",
    ")\n",
    "apr18_2100_u_w_mrd_df = calculate_mrd_for_df(\n",
    "    fast_data_files_to_dataframe([\n",
    "        '/Users/elischwat/Development/data/sublimationofsnow/sosqc_fast_old/isfs_sos_qc_geo_tiltcor_hr_20230419_03.nc',\n",
    "    ]).set_index('time')[['u_3m_c', 'v_3m_c', 'w_3m_c']].ffill().reset_index(), \n",
    "    'u_3m_c', \n",
    "    'w_3m_c', \n",
    "    shift = 200,\n",
    "    parallelism=8\n",
    ")\n",
    "\n"
   ]
  },
  {
   "cell_type": "code",
   "execution_count": null,
   "metadata": {},
   "outputs": [],
   "source": [
    "mrd_df = pd.concat([\n",
    "    apr18_2000_u_w_mrd_df.assign(hour = 20),\n",
    "    apr18_2100_u_w_mrd_df.assign(hour = 21),\n",
    "])\n",
    "\n",
    "alt.Chart(mrd_df).mark_line().encode(\n",
    "    alt.X('tau:Q').scale(type='log'),\n",
    "    alt.Y('mean(Co):Q'),\n",
    "    alt.Color('iteration:Q'),\n",
    "    alt.Facet('hour:N')\n",
    ")"
   ]
  },
  {
   "cell_type": "markdown",
   "metadata": {},
   "source": [
    "# Load preprocessed spectra, compare across towers"
   ]
  },
  {
   "cell_type": "code",
   "execution_count": null,
   "metadata": {},
   "outputs": [],
   "source": [
    "spectra_mar04 = pd.read_parquet(\"/Users/elischwat/Development/data/sublimationofsnow/mrd/NOmrds/2023-03-04 14:00:00_2023-03-04 16:59:59.950000.parquet\")\n",
    "spectra_mar04['height'] = spectra_mar04['loc'].str.split('m').str[0].astype('int')\n",
    "spectra_mar04['tower'] = spectra_mar04['loc'].str.split('m_').str[1]\n",
    "spectra_mar04.covariance.unique()"
   ]
  },
  {
   "cell_type": "code",
   "execution_count": null,
   "metadata": {},
   "outputs": [],
   "source": [
    "(alt.layer(\n",
    "    base.mark_line().encode(alt.Y('mean(Co):Q').title(\"Co(u'w')\")),\n",
    "    base.mark_errorband(extent='iqr').encode(alt.Y('Co:Q').title(\"Co(u'w')\")),\n",
    "    data = spectra_mar04.query(\"covariance == 'w_tc_'\").query(\"height == 3\")\n",
    ").facet('height') | alt.layer(\n",
    "    base.mark_line().encode(alt.Y('mean(Co):Q').title(\"Co(v'w')\")),\n",
    "    base.mark_errorband(extent='iqr').encode(alt.Y('Co:Q').title(\"Co(v'w')\")),\n",
    "    data = spectra_mar04.query(\"covariance == 'w_h2o_'\").query(\"height == 3\")\n",
    ").facet('height') )"
   ]
  },
  {
   "cell_type": "code",
   "execution_count": null,
   "metadata": {},
   "outputs": [],
   "source": [
    "(alt.layer(\n",
    "    base.mark_line().encode(alt.Y('mean(Co):Q').title(\"Co(u'w')\")),\n",
    "    base.mark_errorband(extent='iqr').encode(alt.Y('Co:Q').title(\"Co(u'w')\")),\n",
    "    data = spectra_mar04.query(\"covariance == 'u_u_'\").query(\"height == 3\")\n",
    ").facet('height') | alt.layer(\n",
    "    base.mark_line().encode(alt.Y('mean(Co):Q').title(\"Co(v'w')\")),\n",
    "    base.mark_errorband(extent='iqr').encode(alt.Y('Co:Q').title(\"Co(v'w')\")),\n",
    "    data = spectra_mar04.query(\"covariance == 'v_v_'\").query(\"height == 3\")\n",
    ").facet('height') | alt.layer(\n",
    "    base.mark_line().encode(alt.Y('mean(Co):Q').title(\"Co(v'w')\")),\n",
    "    base.mark_errorband(extent='iqr').encode(alt.Y('Co:Q').title(\"Co(v'w')\")),\n",
    "    data = spectra_mar04.query(\"covariance == 'w_w_'\").query(\"height == 3\")\n",
    ").facet('height'))"
   ]
  },
  {
   "cell_type": "code",
   "execution_count": null,
   "metadata": {},
   "outputs": [],
   "source": [
    "alt.layer(\n",
    "    base.mark_line().encode(alt.Y('mean(Co):Q').title(\"Co(u'w')\")),\n",
    "    base.mark_errorband(extent='iqr').encode(alt.Y('Co:Q').title(\"Co(u'w')\")),\n",
    "    data = spectra_mar04.query(\"covariance == 'u_w_'\").query(\"height == 3\")\n",
    ").facet('height') | alt.layer(\n",
    "    base.mark_line().encode(alt.Y('mean(Co):Q').title(\"Co(v'w')\")),\n",
    "    base.mark_errorband(extent='iqr').encode(alt.Y('Co:Q').title(\"Co(v'w')\")),\n",
    "    data = spectra_mar04.query(\"covariance == 'v_w_'\").query(\"height == 3\")\n",
    ").facet('height') | alt.layer(\n",
    "    base.mark_line().encode(alt.Y('mean(Co):Q').title(\"Co(v'w')\")),\n",
    "    base.mark_errorband(extent='iqr').encode(alt.Y('Co:Q').title(\"Co(v'w')\")),\n",
    "    data = spectra_mar04.query(\"covariance == 'u_v_'\").query(\"height == 3\")\n",
    ").facet('height')"
   ]
  },
  {
   "cell_type": "code",
   "execution_count": null,
   "metadata": {},
   "outputs": [],
   "source": [
    "spectra_apr18 = pd.read_parquet(\"/Users/elischwat/Development/data/sublimationofsnow/mrd/NOmrds/2023-04-18 15:00:00_2023-04-18 17:59:59.950000.parquet\")\n",
    "spectra_apr18['height'] = spectra_apr18['loc'].str.split('m').str[0].astype('int')\n",
    "spectra_apr18['tower'] = spectra_apr18['loc'].str.split('m_').str[1]\n",
    "spectra_apr18.covariance.unique()\n",
    "\n",
    "base = alt.Chart().encode(\n",
    "    alt.X('tau:Q').scale(type='log'),\n",
    "    alt.Color('tower'),\n",
    ").properties(width=200, height=150)\n",
    "\n",
    "(alt.layer(\n",
    "    base.mark_line().encode(alt.Y('mean(Co):Q').title(\"Co(u'w')\")),\n",
    "    base.mark_errorband(extent='iqr').encode(alt.Y('Co:Q').title(\"Co(u'w')\")),\n",
    "    data = spectra_apr18.query(\"covariance == 'u_w_'\").query(\"height == 3\")\n",
    ").facet('height').properties(title='Apr 18') | alt.layer(\n",
    "    base.mark_line().encode(alt.Y('mean(Co):Q').title(\"Co(u'w')\")),\n",
    "    base.mark_errorband(extent='iqr').encode(alt.Y('Co:Q').title(\"Co(u'w')\")),\n",
    "    data = spectra_1221.query(\"covariance == 'u_w_'\").query(\"height == 3\")\n",
    ").facet('height').properties(title='Dec 21') | alt.layer(\n",
    "    base.mark_line().encode(alt.Y('mean(Co):Q').title(\"Co(u'w')\")),\n",
    "    base.mark_errorband(extent='iqr').encode(alt.Y('Co:Q').title(\"Co(u'w')\")),\n",
    "    data = spectra_apr09.query(\"covariance == 'u_w_'\").query(\"height == 3\")\n",
    ").facet('height').properties(title='Apr 09')).resolve_scale(y='shared', x='shared')"
   ]
  },
  {
   "cell_type": "code",
   "execution_count": null,
   "metadata": {},
   "outputs": [],
   "source": []
  },
  {
   "cell_type": "code",
   "execution_count": null,
   "metadata": {},
   "outputs": [],
   "source": []
  },
  {
   "cell_type": "code",
   "execution_count": null,
   "metadata": {},
   "outputs": [],
   "source": [
    "apr18_df = prep_fast_data([\n",
    "    '/Users/elischwat/Development/data/sublimationofsnow/sosqc_fast_old/isfs_sos_qc_geo_tiltcor_hr_20230418_21.nc',\n",
    "    '/Users/elischwat/Development/data/sublimationofsnow/sosqc_fast_old/isfs_sos_qc_geo_tiltcor_hr_20230418_22.nc',\n",
    "    '/Users/elischwat/Development/data/sublimationofsnow/sosqc_fast_old/isfs_sos_qc_geo_tiltcor_hr_20230418_23.nc',\n",
    "])"
   ]
  },
  {
   "cell_type": "code",
   "execution_count": null,
   "metadata": {},
   "outputs": [],
   "source": [
    "len(apr18_df.set_index('time')['u_3m_c']), len(apr18_df.set_index('time')['u_3m_c'].dropna())"
   ]
  },
  {
   "cell_type": "code",
   "execution_count": null,
   "metadata": {},
   "outputs": [],
   "source": [
    "len(apr18_df.set_index('time')['u_3m_d']), len(apr18_df.set_index('time')['u_3m_d'].dropna())"
   ]
  },
  {
   "cell_type": "code",
   "execution_count": null,
   "metadata": {},
   "outputs": [],
   "source": [
    "len(apr18_df.set_index('time')['u_3m_uw']), len(apr18_df.set_index('time')['u_3m_uw'].dropna())"
   ]
  },
  {
   "cell_type": "code",
   "execution_count": null,
   "metadata": {},
   "outputs": [],
   "source": [
    "len(apr18_df.set_index('time')['u_3m_ue']), len(apr18_df.set_index('time')['u_3m_ue'].dropna())"
   ]
  },
  {
   "cell_type": "code",
   "execution_count": null,
   "metadata": {},
   "outputs": [],
   "source": [
    "alt.layer(\n",
    "    base.mark_line().encode(alt.Y('mean(Co):Q').title(\"Co(u'w')\")),\n",
    "    base.mark_errorband(extent='iqr').encode(alt.Y('Co:Q').title(\"Co(u'w')\")),\n",
    "    data = spectra_apr18.query(\"covariance == 'u_w_'\").query(\"height == 3\")\n",
    ").facet('height').properties(title='Apr 18, 1500-1800')"
   ]
  },
  {
   "cell_type": "code",
   "execution_count": null,
   "metadata": {},
   "outputs": [],
   "source": [
    "spectra_1221 = pd.read_parquet(\"/Users/elischwat/Development/data/sublimationofsnow/mrd/NOmrds/2022-12-21 14:00:00_2022-12-21 16:59:59.950000.parquet\")\n",
    "spectra_1221['height'] = spectra_1221['loc'].str.split('m').str[0].astype('int')\n",
    "spectra_1221['tower'] = spectra_1221['loc'].str.split('m_').str[1]\n",
    "\n",
    "spectra_apr18 = pd.read_parquet(\"/Users/elischwat/Development/data/sublimationofsnow/mrd/NOmrds/2023-04-18 15:00:00_2023-04-18 17:59:59.950000_s1000.parquet\")\n",
    "spectra_apr18['height'] = spectra_apr18['loc'].str.split('m').str[0].astype('int')\n",
    "spectra_apr18['tower'] = spectra_apr18['loc'].str.split('m_').str[1]\n",
    "\n",
    "spectra_apr09 = pd.read_parquet(\"/Users/elischwat/Development/data/sublimationofsnow/mrd/NOmrds/2023-04-09 15:00:00_2023-04-09 17:59:59.950000.parquet\")\n",
    "spectra_apr09['height'] = spectra_apr09['loc'].str.split('m').str[0].astype('int')\n",
    "spectra_apr09['tower'] = spectra_apr09['loc'].str.split('m_').str[1]\n",
    "\n",
    "base = alt.Chart().encode(\n",
    "    alt.X('tau:Q').scale(type='log'),\n",
    "    alt.Color('tower'),\n",
    ").properties(width=200, height=150)\n",
    "\n",
    "(alt.layer(\n",
    "    base.mark_line().encode(alt.Y('mean(Co):Q').title(\"Co(u'w')\")),\n",
    "    base.mark_errorband(extent='iqr').encode(alt.Y('Co:Q').title(\"Co(u'w')\")),\n",
    "    data = spectra_apr18.query(\"covariance == 'u_w_'\").query(\"height == 10\")\n",
    ").facet('height').properties(title='Apr 18') |\n",
    "alt.layer(\n",
    "    base.mark_line().encode(alt.Y('mean(Co):Q').title(\"Co(u'w')\")),\n",
    "    base.mark_errorband(extent='iqr').encode(alt.Y('Co:Q').title(\"Co(u'w')\")),\n",
    "    data = spectra_apr09.query(\"covariance == 'u_w_'\").query(\"height == 10\")\n",
    ").facet('height').properties(title='Apr 09')).resolve_scale(x='shared')"
   ]
  },
  {
   "cell_type": "code",
   "execution_count": null,
   "metadata": {},
   "outputs": [],
   "source": [
    "alt.Chart(\n",
    "    sos_df_localtime.query(\"measurement == 'wind speed'\").query(\"tower == 'c'\").set_index('time').sort_index().loc['20230409 1200': '20230409 1500'].reset_index()\n",
    ").mark_line().encode(\n",
    "    alt.X('value:Q'),\n",
    "    alt.Y('height:Q'),\n",
    "    alt.Facet('time:T'),\n",
    "    order='height'\n",
    ").properties(width=100, height=150)"
   ]
  },
  {
   "cell_type": "code",
   "execution_count": null,
   "metadata": {},
   "outputs": [],
   "source": [
    "base = alt.Chart().mark_line().encode(\n",
    "    alt.X('time:T'),\n",
    "    # alt.Y('rolling_median:Q')\n",
    "    alt.Y('value:Q')\n",
    ").properties(width=200, height=150)\n",
    "(\n",
    "alt.layer(base, data=sos_df_localtime.query(\"variable == 'L_3m_c'\").set_index('time').loc['20230418'].reset_index()) |\\\n",
    "alt.layer(base, data=sos_df_localtime.query(\"variable == 'L_3m_c'\").set_index('time').loc['20221221'].reset_index()) |\\\n",
    "alt.layer(base, data=sos_df_localtime.query(\"variable == 'L_3m_c'\").set_index('time').loc['20230409'].reset_index())\n",
    ").resolve_scale(y='shared')"
   ]
  },
  {
   "cell_type": "code",
   "execution_count": null,
   "metadata": {},
   "outputs": [],
   "source": [
    "base = alt.Chart().mark_line().encode(\n",
    "    alt.X('time:T'),\n",
    "    alt.Y('value:Q'),\n",
    "    alt.Color('height:N')\n",
    ").properties(width=200, height=150)\n",
    "sos_dir_data = sos_df_localtime[\n",
    "    sos_df_localtime.variable.isin(['dir_3m_c', 'dir_20m_c'])\n",
    "].set_index('time')\n",
    "\n",
    "(\n",
    "    alt.layer(base, data=sos_dir_data.loc['20230418'].reset_index()) |\\\n",
    "    alt.layer(base, data=sos_dir_data.loc['20221221'].reset_index()) |\\\n",
    "    alt.layer(base, data=sos_dir_data.loc['20230409'].reset_index()) |\\\n",
    "    alt.layer(base, data=sos_dir_data.loc['20230304'].reset_index()) \n",
    ").resolve_scale(y='shared')"
   ]
  },
  {
   "cell_type": "markdown",
   "metadata": {},
   "source": [
    "# Get mrds for all days (1500-1800) with consistent winds"
   ]
  },
  {
   "cell_type": "code",
   "execution_count": null,
   "metadata": {},
   "outputs": [],
   "source": [
    "import tqdm"
   ]
  },
  {
   "cell_type": "code",
   "execution_count": null,
   "metadata": {},
   "outputs": [],
   "source": [
    "mrds_processed_data = {}\n",
    "\n",
    "# for d in tqdm.tqdm(days_with_consistent_1500_1800_winds):\n",
    "for d in tqdm.tqdm([d for d in days_with_consistent_1500_1800_winds if d.month == 4]):\n",
    "    day_str = str(d).replace('-','')\n",
    "    mrds_processed_data[day_str] = process_mrds_for_files([\n",
    "        f'/Users/elischwat/Development/data/sublimationofsnow/sosqc_fast/isfs_sos_qc_geo_tiltcor_hr_{day_str}_21.nc',\n",
    "        f'/Users/elischwat/Development/data/sublimationofsnow/sosqc_fast/isfs_sos_qc_geo_tiltcor_hr_{day_str}_22.nc',\n",
    "        f'/Users/elischwat/Development/data/sublimationofsnow/sosqc_fast/isfs_sos_qc_geo_tiltcor_hr_{day_str}_23.nc',\n",
    "    ])"
   ]
  },
  {
   "cell_type": "code",
   "execution_count": null,
   "metadata": {},
   "outputs": [],
   "source": [
    "len(mrds_processed_data)"
   ]
  }
 ],
 "metadata": {
  "kernelspec": {
   "display_name": "arm",
   "language": "python",
   "name": "python3"
  },
  "language_info": {
   "codemirror_mode": {
    "name": "ipython",
    "version": 3
   },
   "file_extension": ".py",
   "mimetype": "text/x-python",
   "name": "python",
   "nbconvert_exporter": "python",
   "pygments_lexer": "ipython3",
   "version": "3.12.5"
  },
  "orig_nbformat": 4,
  "vscode": {
   "interpreter": {
    "hash": "e2b11a00ad1b97cabcd9cc9209b8824a0fcaf6ffe37b5243943912873b5dcab1"
   }
  }
 },
 "nbformat": 4,
 "nbformat_minor": 2
}
