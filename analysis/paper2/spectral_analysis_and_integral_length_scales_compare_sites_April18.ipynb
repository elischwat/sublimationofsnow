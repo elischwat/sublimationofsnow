{
 "cells": [
  {
   "cell_type": "code",
   "execution_count": 1,
   "metadata": {},
   "outputs": [],
   "source": [
    "import numpy as np\n",
    "import xarray as xr\n",
    "\n",
    "import datetime as dt\n",
    "import os\n",
    "import pandas as pd\n",
    "\n",
    "import matplotlib.pyplot as plt\n",
    "\n",
    "import altair as alt\n",
    "alt.data_transformers.enable('json')\n",
    "\n",
    "from sublimpy import utils\n",
    "import glob\n",
    "import pytz\n",
    "import re\n",
    "from scipy.signal import welch, csd\n",
    "from scipy.stats import chi2\n",
    "from process_fast_data.fast_data_calculate_spectra_nomrd import calculate_mrd_for_df, fast_data_files_to_dataframe\n",
    "from sublimpy import extrautils"
   ]
  },
  {
   "cell_type": "code",
   "execution_count": 129,
   "metadata": {},
   "outputs": [],
   "source": [
    "# DATA_DIR = \"/storage/elilouis/sublimationofsnow/\"\n",
    "DATA_DIR = \"/Users/elischwat/Development/data/sublimationofsnow/\"\n",
    "\n",
    "# DATES = pd.Series(['20230418', '20230419'])\n",
    "# DATE_LOCAL = '20230418'\n",
    "\n",
    "DATES = pd.Series(['20230409', '20230410'])\n",
    "DATE_LOCAL = '20230409'"
   ]
  },
  {
   "cell_type": "markdown",
   "metadata": {},
   "source": [
    "# TOOLS"
   ]
  },
  {
   "cell_type": "markdown",
   "metadata": {},
   "source": [
    "## SAIL Data"
   ]
  },
  {
   "cell_type": "code",
   "execution_count": 130,
   "metadata": {},
   "outputs": [],
   "source": [
    "class FastData(object):\n",
    "    data = None\n",
    "\n",
    "class FastDataSAIL(FastData):\n",
    "    @staticmethod\n",
    "    def open_raw(files):\n",
    "        files = sorted(files)\n",
    "        high_rate_dfs = []\n",
    "        for file in files:\n",
    "            # Regular expression. extract date\n",
    "            date = re.search(r\"gucecorM1\\.00\\.(\\d+)\\.\", file).group(1)\n",
    "            df = pd.read_csv(file, skiprows=1, header=None).rename(\n",
    "                    columns = dict(\n",
    "                        zip(range(0,10), \n",
    "                        [\n",
    "                            'Timestamp',\n",
    "                            'u',\n",
    "                            'v',\n",
    "                            'w',\n",
    "                            'windspeed units (M = m/s)',\n",
    "                            'Speed of Sound',\n",
    "                            'Status (00 means okay)',\n",
    "                            'CO2 analog voltage output',\n",
    "                            'H20 analog voltage output',\n",
    "                            'Checksum',\n",
    "                        ])\n",
    "                    )\n",
    "                )\n",
    "            df['time'] = pd.to_datetime(\n",
    "                f'{date} ' + df['Timestamp'].str[:-3],\n",
    "                format=\"%Y%m%d %H:%M:%S.%f\"\n",
    "            )\n",
    "            high_rate_dfs.append(df)\n",
    "        return pd.concat(high_rate_dfs).set_index('time')\n",
    "    \n",
    "    @staticmethod\n",
    "    def double_rotation(df, u_col, v_col, w_col):\n",
    "        # FIRST ROTATION\n",
    "        mean_u = df[u_col].mean()\n",
    "        mean_v = df[v_col].mean()\n",
    "        theta = np.arctan2(mean_v, mean_u)\n",
    "        adj_u = df[u_col]*np.cos(theta) + df[v_col]*np.sin(theta)\n",
    "        adj_v = -df[u_col]*np.sin(theta) + df[v_col]*np.cos(theta)\n",
    "        df[u_col] = adj_u\n",
    "        df[v_col] = adj_v\n",
    "        print(\n",
    "            'Means after 1st rotation:',\n",
    "            df[u_col].mean(),\n",
    "            df[v_col].mean(),\n",
    "            df[w_col].mean(),\n",
    "        )\n",
    "\n",
    "        # SECOND ROTATION\n",
    "        mean_u = df[u_col].mean()\n",
    "        mean_w = df[w_col].mean()\n",
    "        phi = np.arctan2(mean_w, mean_u)\n",
    "        adj_u = df[u_col]*np.cos(phi) + df[w_col]*np.sin(phi)\n",
    "        adj_w = - df[u_col]*np.sin(phi) + df[w_col]*np.cos(phi)\n",
    "        df[u_col] = adj_u\n",
    "        df[w_col] = adj_w\n",
    "        print(\n",
    "            'Means after 2nd rotation:',\n",
    "            df[u_col].mean(),\n",
    "            df[v_col].mean(),\n",
    "            df[w_col].mean(),\n",
    "        )\n",
    "        return df\n",
    "    \n",
    "    def apply_direction_rotation(df, u_col, v_col, w_col, bearing):\n",
    "        # + Ugeo represents wind blowing to the East (confusingly known as a \"westerly\"). \n",
    "        # + Vgeo is wind to the North (a \"southerly\" ). This is right handed with respect to an upward +Wgeo.\n",
    "\n",
    "\n",
    "        # FIRST ROTATION\n",
    "        mean_u = df[u_col].mean()\n",
    "        mean_v = df[v_col].mean()\n",
    "        theta = np.arctan2(mean_v, mean_u)\n",
    "        adj_u = df[u_col]*np.cos(theta) + df[v_col]*np.sin(theta)\n",
    "        adj_v = -df[u_col]*np.sin(theta) + df[v_col]*np.cos(theta)\n",
    "        df[u_col] = adj_u\n",
    "        df[v_col] = adj_v\n",
    "        print(\n",
    "            'Means after 1st rotation:',\n",
    "            df[u_col].mean(),\n",
    "            df[v_col].mean(),\n",
    "            df[w_col].mean(),\n",
    "        )"
   ]
  },
  {
   "cell_type": "markdown",
   "metadata": {},
   "source": [
    "# SAIL EC data"
   ]
  },
  {
   "cell_type": "markdown",
   "metadata": {},
   "source": [
    "Open and wrangle the raw SAIL EC data"
   ]
  },
  {
   "cell_type": "code",
   "execution_count": 131,
   "metadata": {},
   "outputs": [
    {
     "data": {
      "text/plain": [
       "0    /Users/elischwat/Development/data/sublimationo...\n",
       "0    /Users/elischwat/Development/data/sublimationo...\n",
       "0    /Users/elischwat/Development/data/sublimationo...\n",
       "0    /Users/elischwat/Development/data/sublimationo...\n",
       "0    /Users/elischwat/Development/data/sublimationo...\n",
       "                           ...                        \n",
       "1    /Users/elischwat/Development/data/sublimationo...\n",
       "1    /Users/elischwat/Development/data/sublimationo...\n",
       "1    /Users/elischwat/Development/data/sublimationo...\n",
       "1    /Users/elischwat/Development/data/sublimationo...\n",
       "1    /Users/elischwat/Development/data/sublimationo...\n",
       "Length: 96, dtype: object"
      ]
     },
     "execution_count": 131,
     "metadata": {},
     "output_type": "execute_result"
    }
   ],
   "source": [
    "fast_data_files = DATES.apply(\n",
    "    lambda date: glob.glob(\n",
    "            os.path.join(\n",
    "                DATA_DIR, \n",
    "                f\"sail_fast_ecor_data/gucecorM1.00.{date}.000000.raw/**_sonic.raw\"\n",
    "            )\n",
    "        )\n",
    ").explode()\n",
    "fast_data_files"
   ]
  },
  {
   "cell_type": "code",
   "execution_count": 132,
   "metadata": {},
   "outputs": [],
   "source": [
    "fast_df_sail = FastDataSAIL.open_raw(fast_data_files)\n",
    "fast_df_sail = utils.modify_df_timezone(fast_df_sail.reset_index(), 'UTC', 'US/Mountain').set_index('time')\n",
    "fast_df_sail = fast_df_sail.loc[DATE_LOCAL]\n",
    "fast_df_sail = fast_df_sail.sort_index()"
   ]
  },
  {
   "cell_type": "code",
   "execution_count": 133,
   "metadata": {},
   "outputs": [
    {
     "data": {
      "text/plain": [
       "array([<Axes: xlabel='time'>, <Axes: xlabel='time'>,\n",
       "       <Axes: xlabel='time'>], dtype=object)"
      ]
     },
     "execution_count": 133,
     "metadata": {},
     "output_type": "execute_result"
    },
    {
     "data": {
      "image/png": "[encoded data removed]",
      "text/plain": [
       "<Figure size 640x480 with 3 Axes>"
      ]
     },
     "metadata": {},
     "output_type": "display_data"
    }
   ],
   "source": [
    "fast_df_sail[['u','v','w']].plot(subplots=True)"
   ]
  },
  {
   "cell_type": "markdown",
   "metadata": {},
   "source": [
    "Calculate 30-minute mean u, v, w, and 30-min wind direction, plot it"
   ]
  },
  {
   "cell_type": "code",
   "execution_count": 134,
   "metadata": {},
   "outputs": [
    {
     "data": {
      "image/png": "[encoded data removed]",
      "text/plain": [
       "<Figure size 640x480 with 2 Axes>"
      ]
     },
     "metadata": {},
     "output_type": "display_data"
    }
   ],
   "source": [
    "fast_df_sail = fast_df_sail.join(\n",
    "    fast_df_sail.groupby(pd.Grouper(freq='30min'))[['u', 'v', 'w']].transform('mean').rename(columns = {\n",
    "        'u': 'u_30min',\n",
    "        'v': 'v_30min',\n",
    "        'w': 'w_30min',\n",
    "    })\n",
    ")\n",
    "fast_df_sail = fast_df_sail.join(\n",
    "    fast_df_sail.groupby(pd.Grouper(freq='1min'))[['u', 'v', 'w']].transform('mean').rename(columns = {\n",
    "        'u': 'u_1min',\n",
    "        'v': 'v_1min',\n",
    "        'w': 'w_1min',\n",
    "    })\n",
    ")\n",
    "fast_df_sail['dir_30min'] = np.rad2deg(np.arctan2(-fast_df_sail['u_30min'], -fast_df_sail['v_30min']))\n",
    "fast_df_sail['dir_30min'] = fast_df_sail['dir_30min'].apply(lambda dir: dir if dir >= 0 else dir+360)\n",
    "\n",
    "fast_df_sail['dir_1min'] = np.rad2deg(np.arctan2(-fast_df_sail['u_1min'], -fast_df_sail['v_1min']))\n",
    "fast_df_sail['dir_1min'] = fast_df_sail['dir_1min'].apply(lambda dir: dir if dir >= 0 else dir+360)\n",
    "\n",
    "fig, axes = plt.subplots(2,1)\n",
    "fast_df_sail['dir_30min'].loc[f'{DATE_LOCAL} 1500': f'{DATE_LOCAL} 1800'].plot(ax=axes[0], sharex=True)\n",
    "fast_df_sail['dir_1min'].loc[f'{DATE_LOCAL} 1500': f'{DATE_LOCAL} 1800'].plot(ax=axes[0], sharex=True)\n",
    "fast_df_sail[['u_30min','v_30min','w_30min']].loc[f'{DATE_LOCAL} 1500': f'{DATE_LOCAL} 1800'].plot(ax=axes[1])\n",
    "fast_df_sail[['u_1min','v_1min','w_1min']].loc[f'{DATE_LOCAL} 1500': f'{DATE_LOCAL} 1800'].plot(ax=axes[1])\n",
    "axes[0].grid(axis='x')  # Add grid lines only for the x-axis\n",
    "axes[1].grid(axis='x')  # Add grid lines only for the x-axis\n",
    "plt.show()"
   ]
  },
  {
   "cell_type": "markdown",
   "metadata": {},
   "source": [
    "Apply double rotation to 30min chunks"
   ]
  },
  {
   "cell_type": "code",
   "execution_count": 135,
   "metadata": {},
   "outputs": [
    {
     "name": "stdout",
     "output_type": "stream",
     "text": [
      "Means after 1st rotation: 1.0805187625084656 -7.862160285035687e-17 -0.015022874773912117\n",
      "Means after 2nd rotation: 1.0806231919125642 -7.862160285035687e-17 -1.322959663347351e-18\n",
      "Means after 1st rotation: 0.6375697580217216 4.784547855084056e-17 -0.006527960439791679\n",
      "Means after 2nd rotation: 0.6376031764439228 4.784547855084056e-17 3.5510316111951976e-18\n",
      "Means after 1st rotation: 0.8614628265440345 -3.6047192640157276e-17 -0.033423347249379065\n",
      "Means after 2nd rotation: 0.8621109682973473 -3.6047192640157276e-17 2.628441130011468e-18\n",
      "Means after 1st rotation: 1.0809174721882289 -1.0886068086972489e-16 -0.019049366953931272\n",
      "Means after 2nd rotation: 1.0810853158114473 -1.0886068086972489e-16 5.291838653389404e-18\n",
      "Means after 1st rotation: 1.4200339710781296 -1.6257566170609035e-16 -0.02219050051072523\n",
      "Means after 2nd rotation: 1.4202073430766506 -1.6257566170609035e-16 4.173259173259015e-18\n",
      "Means after 1st rotation: 1.4680582162472888 1.082159216810729e-16 -0.044377049180327865\n",
      "Means after 2nd rotation: 1.4687287866672747 1.082159216810729e-16 -3.757497280592809e-18\n",
      "Means after 1st rotation: 1.103491616907075 2.5704583727023895e-16 -0.03832420067031974\n",
      "Means after 2nd rotation: 1.1041569149994985 2.5704583727023895e-16 1.965644637948886e-17\n",
      "Means after 1st rotation: 0.3418827152459076 4.066676192198437e-17 0.0005595584853594984\n",
      "Means after 2nd rotation: 0.34188317315950606 4.066676192198437e-17 -2.1785765315348773e-18\n",
      "Means after 1st rotation: 0.8058167207784637 4.83542294525455e-17 -0.017727151895369237\n",
      "Means after 2nd rotation: 0.806011686888272 4.83542294525455e-17 -7.555348351960234e-19\n",
      "Means after 1st rotation: 0.8640784266392979 -3.0216573921331075e-17 -0.008440357218796515\n",
      "Means after 2nd rotation: 0.8641196485518805 -3.0216573921331075e-17 1.5108286960665536e-18\n",
      "Means after 1st rotation: 1.0526098691027581 4.641936925294382e-17 -0.01828408104935436\n",
      "Means after 2nd rotation: 1.0527686565206742 4.641936925294382e-17 2.9012105783089886e-18\n",
      "Means after 1st rotation: 0.8395235994870216 2.07335325995545e-16 -0.011483666791825352\n",
      "Means after 2nd rotation: 0.8396021371451069 2.07335325995545e-16 2.8584833547179914e-18\n",
      "Means after 1st rotation: 1.262439515112558 -3.016686242148703e-17 -0.020110385819667783\n",
      "Means after 2nd rotation: 1.262599681979782 -3.016686242148703e-17 8.295887165908934e-18\n",
      "Means after 1st rotation: 0.6839217524821368 -7.036890971575759e-17 -0.013944911538659928\n",
      "Means after 2nd rotation: 0.6840639035032169 -7.036890971575759e-17 2.932037904823233e-18\n",
      "Means after 1st rotation: 1.103235070168155 -1.8739588635431214e-16 -0.027194853926561242\n",
      "Means after 2nd rotation: 1.10357019719138 -1.8739588635431214e-16 -2.0948727133104e-18\n",
      "Means after 1st rotation: 1.2855121972518029 1.2125949306342705e-16 -0.018766999093381687\n",
      "Means after 2nd rotation: 1.2856491782512556 1.2125949306342705e-16 2.273615494939257e-18\n",
      "Means after 1st rotation: 0.7554882993418336 -2.3800039299024657e-17 -0.012177212539906845\n",
      "Means after 2nd rotation: 0.7555864311563952 -2.3800039299024657e-17 2.4171914913071916e-18\n",
      "Means after 1st rotation: 0.5189845277470128 -5.410796084053645e-17 0.0005293495505023792\n",
      "Means after 2nd rotation: 0.518984797707733 -5.410796084053645e-17 2.818122960444607e-19\n",
      "Means after 1st rotation: 0.34879304981927245 1.2131772246464201e-17 0.01809091879201793\n",
      "Means after 2nd rotation: 0.3492618973563662 1.2131772246464201e-17 -4.549414592424076e-18\n",
      "Means after 1st rotation: 0.600433531576807 -2.327144725891531e-17 0.01105777595824165\n",
      "Means after 2nd rotation: 0.6005353447141468 -2.327144725891531e-17 -5.090629087887725e-18\n",
      "Means after 1st rotation: 1.2605831382417434 4.845469908220182e-17 0.01313532232285562\n",
      "Means after 2nd rotation: 1.2606515716532969 4.845469908220182e-17 -2.2713140194782104e-18\n",
      "Means after 1st rotation: 2.7400925787519577 3.978951549266504e-16 0.01704050645941634\n",
      "Means after 2nd rotation: 2.740145565292462 3.978951549266504e-16 2.194274751433734e-18\n",
      "Means after 1st rotation: 2.9643429988554204 1.0532179808148432e-15 0.03762067492524562\n",
      "Means after 2nd rotation: 2.9645817124925027 1.0532179808148432e-15 -7.588025798377832e-19\n",
      "Means after 1st rotation: 2.442632361122568 -6.337963104856527e-16 0.006237053477066163\n",
      "Means after 2nd rotation: 2.4426403240017325 -6.337963104856527e-16 -2.252830487508244e-18\n",
      "Means after 1st rotation: 3.3807717151806376 -9.256426877580755e-16 0.024985554446603983\n",
      "Means after 2nd rotation: 3.380864041646223 -9.256426877580755e-16 -2.6127011348010197e-18\n",
      "Means after 1st rotation: 2.6071165646242083 1.8846481119626186e-16 0.041935828877005345\n",
      "Means after 2nd rotation: 2.607453814601811 1.8846481119626186e-16 -1.2159020077178184e-17\n",
      "Means after 1st rotation: 1.4608253320421973 2.0890848644674477e-16 -0.041093359195548976\n",
      "Means after 2nd rotation: 1.4614032006623532 2.0890848644674477e-16 -4.352260134307183e-18\n",
      "Means after 1st rotation: 2.50668992781236 -2.0002482644558163e-16 0.018837172104926424\n",
      "Means after 2nd rotation: 2.5067607052227467 -2.0002482644558163e-16 0.0\n",
      "Means after 1st rotation: 1.5805815890080126 -2.8856053147044417e-16 0.022477394109248587\n",
      "Means after 2nd rotation: 1.5807414060361158 -2.8856053147044417e-16 1.8786492934273708e-19\n",
      "Means after 1st rotation: 3.550022510303734 -1.6550979286550378e-16 0.10943653618030842\n",
      "Means after 2nd rotation: 3.551708909681981 -1.6550979286550378e-16 7.66249041043999e-18\n",
      "Means after 1st rotation: 3.58272938812195 -2.9193887761700998e-18 0.14529967644188793\n",
      "Means after 2nd rotation: 3.5856745340991 -2.9193887761700998e-18 -1.3867096686807974e-17\n",
      "Means after 1st rotation: 3.164348964653881 2.0670334131202914e-16 0.10748021390374331\n",
      "Means after 2nd rotation: 3.1661737738928486 2.0670334131202914e-16 -6.839448793412729e-18\n",
      "Means after 1st rotation: 3.370586472890925 -1.8170512155825683e-17 0.09090037293553542\n",
      "Means after 2nd rotation: 3.3718119830493376 -1.8170512155825683e-17 5.962199301130303e-18\n",
      "Means after 1st rotation: 3.1467036511810345 2.5215525981479805e-16 0.10696188167328623\n",
      "Means after 2nd rotation: 3.14852103573839 2.5215525981479805e-16 -1.4110432416961807e-17\n",
      "Means after 1st rotation: 2.723905259836127 4.0153145574754266e-16 0.05596691018478727\n",
      "Means after 2nd rotation: 2.7244801631868327 4.0153145574754266e-16 9.54209733240358e-18\n",
      "Means after 1st rotation: 1.600827558279741 -1.9455472523085261e-16 0.033446173592170704\n",
      "Means after 2nd rotation: 1.601176916482322 -1.9455472523085261e-16 -3.039917581732072e-18\n",
      "Means after 1st rotation: 0.46104001745738205 -2.2798162644709097e-17 0.002353475935828878\n",
      "Means after 2nd rotation: 0.46104602432521163 -2.2798162644709097e-17 -7.599387548236365e-19\n",
      "Means after 1st rotation: 0.9848592021730463 0.0 -0.024127889060092448\n",
      "Means after 2nd rotation: 0.9851547102538899 0.0 -1.4597693595482285e-18\n",
      "Means after 1st rotation: 1.3883098351579444 -1.9367434024125389e-16 -0.03053343270868825\n",
      "Means after 2nd rotation: 1.3886455591364033 -1.9367434024125389e-16 -1.513080783134796e-18\n",
      "Means after 1st rotation: 1.4226086358823502 2.3640558097270197e-16 -0.028307118101839515\n",
      "Means after 2nd rotation: 1.422890236041513 2.3640558097270197e-16 4.167406074839297e-18\n",
      "Means after 1st rotation: 0.8911358075693616 -1.848518757152173e-16 -0.03226397563619471\n",
      "Means after 2nd rotation: 0.891719682218662 -1.848518757152173e-16 4.768004730749653e-18\n",
      "Means after 1st rotation: 1.3026373406727225 -3.916495893526098e-17 -0.03588562645749417\n",
      "Means after 2nd rotation: 1.30313154343725 -3.916495893526098e-17 -4.519033723299344e-18\n",
      "Means after 1st rotation: 1.5923070068943859 -1.1585919767808002e-16 -0.04596891719745223\n",
      "Means after 2nd rotation: 1.5929704157809284 -1.1585919767808002e-16 4.3447199129280015e-18\n",
      "Means after 1st rotation: 0.34312897684055454 -4.5257499093000014e-17 -0.01637208067940552\n",
      "Means after 2nd rotation: 0.3435193441036746 -4.5257499093000014e-17 2.640020780425001e-18\n",
      "Means after 1st rotation: 0.17956901323986693 -1.2419361778634042e-17 -0.0017680795280751586\n",
      "Means after 2nd rotation: 0.17957771749623364 -1.2419361778634042e-17 3.8810505558231383e-19\n",
      "Means after 1st rotation: 0.9338056480910863 -1.8539360990122373e-16 -0.02041838658716812\n",
      "Means after 2nd rotation: 0.9340288533646254 -1.8539360990122373e-16 2.715726707537457e-18\n",
      "Means after 1st rotation: 0.7472629047659208 1.5654368079451418e-16 0.0050084736786357355\n",
      "Means after 2nd rotation: 0.747279689037372 1.5654368079451418e-16 1.5052276999472517e-18\n",
      "Means after 1st rotation: 0.09854774596057576 2.4030191866754603e-17 0.006835764109067851\n",
      "Means after 2nd rotation: 0.09878454284383256 2.4030191866754603e-17 -1.8773587395902033e-19\n"
     ]
    }
   ],
   "source": [
    "fast_df_sail = fast_df_sail.groupby(pd.Grouper(freq='30min')).apply(lambda df: FastDataSAIL.double_rotation(df, 'u', 'v', 'w'))"
   ]
  },
  {
   "cell_type": "code",
   "execution_count": 136,
   "metadata": {},
   "outputs": [],
   "source": [
    "fast_df_sail.index = fast_df_sail.index.get_level_values(1)"
   ]
  },
  {
   "cell_type": "code",
   "execution_count": 137,
   "metadata": {},
   "outputs": [],
   "source": [
    "fast_df_sail['u'] = fast_df_sail['u'].interpolate()\n",
    "fast_df_sail['v'] = fast_df_sail['v'].interpolate()\n",
    "fast_df_sail['w'] = fast_df_sail['w'].interpolate()"
   ]
  },
  {
   "cell_type": "markdown",
   "metadata": {},
   "source": [
    "Calculate MRD"
   ]
  },
  {
   "cell_type": "code",
   "execution_count": 138,
   "metadata": {},
   "outputs": [
    {
     "data": {
      "text/html": [
       "<div>\n",
       "<style scoped>\n",
       "    .dataframe tbody tr th:only-of-type {\n",
       "        vertical-align: middle;\n",
       "    }\n",
       "\n",
       "    .dataframe tbody tr th {\n",
       "        vertical-align: top;\n",
       "    }\n",
       "\n",
       "    .dataframe thead th {\n",
       "        text-align: right;\n",
       "    }\n",
       "</style>\n",
       "<table border=\"1\" class=\"dataframe\">\n",
       "  <thead>\n",
       "    <tr style=\"text-align: right;\">\n",
       "      <th></th>\n",
       "      <th>Timestamp</th>\n",
       "      <th>u</th>\n",
       "      <th>v</th>\n",
       "      <th>w</th>\n",
       "      <th>windspeed units (M = m/s)</th>\n",
       "      <th>Speed of Sound</th>\n",
       "      <th>Status (00 means okay)</th>\n",
       "      <th>CO2 analog voltage output</th>\n",
       "      <th>H20 analog voltage output</th>\n",
       "      <th>Checksum</th>\n",
       "      <th>u_30min</th>\n",
       "      <th>v_30min</th>\n",
       "      <th>w_30min</th>\n",
       "      <th>u_1min</th>\n",
       "      <th>v_1min</th>\n",
       "      <th>w_1min</th>\n",
       "      <th>dir_30min</th>\n",
       "      <th>dir_1min</th>\n",
       "    </tr>\n",
       "    <tr>\n",
       "      <th>time</th>\n",
       "      <th></th>\n",
       "      <th></th>\n",
       "      <th></th>\n",
       "      <th></th>\n",
       "      <th></th>\n",
       "      <th></th>\n",
       "      <th></th>\n",
       "      <th></th>\n",
       "      <th></th>\n",
       "      <th></th>\n",
       "      <th></th>\n",
       "      <th></th>\n",
       "      <th></th>\n",
       "      <th></th>\n",
       "      <th></th>\n",
       "      <th></th>\n",
       "      <th></th>\n",
       "      <th></th>\n",
       "    </tr>\n",
       "  </thead>\n",
       "  <tbody>\n",
       "    <tr>\n",
       "      <th>2023-04-09 00:00:00.060</th>\n",
       "      <td>06:00:00.06 \u0002Z</td>\n",
       "      <td>0.931391</td>\n",
       "      <td>0.090863</td>\n",
       "      <td>-0.057057</td>\n",
       "      <td>M</td>\n",
       "      <td>336.08</td>\n",
       "      <td>0</td>\n",
       "      <td>0.556930</td>\n",
       "      <td>0.303780</td>\n",
       "      <td>\u00033A</td>\n",
       "      <td>-0.845375</td>\n",
       "      <td>0.654367</td>\n",
       "      <td>-0.012648</td>\n",
       "      <td>-0.520417</td>\n",
       "      <td>0.507767</td>\n",
       "      <td>0.017467</td>\n",
       "      <td>127.741862</td>\n",
       "      <td>134.295111</td>\n",
       "    </tr>\n",
       "    <tr>\n",
       "      <th>2023-04-09 00:00:00.160</th>\n",
       "      <td>06:00:00.16 \u0002Z</td>\n",
       "      <td>0.951427</td>\n",
       "      <td>0.081227</td>\n",
       "      <td>-0.046778</td>\n",
       "      <td>M</td>\n",
       "      <td>336.18</td>\n",
       "      <td>0</td>\n",
       "      <td>0.557235</td>\n",
       "      <td>0.304085</td>\n",
       "      <td>\u000334</td>\n",
       "      <td>-0.845375</td>\n",
       "      <td>0.654367</td>\n",
       "      <td>-0.012648</td>\n",
       "      <td>-0.520417</td>\n",
       "      <td>0.507767</td>\n",
       "      <td>0.017467</td>\n",
       "      <td>127.741862</td>\n",
       "      <td>134.295111</td>\n",
       "    </tr>\n",
       "    <tr>\n",
       "      <th>2023-04-09 00:00:00.270</th>\n",
       "      <td>06:00:00.27 \u0002Z</td>\n",
       "      <td>0.909469</td>\n",
       "      <td>0.086465</td>\n",
       "      <td>-0.057362</td>\n",
       "      <td>M</td>\n",
       "      <td>336.13</td>\n",
       "      <td>0</td>\n",
       "      <td>0.557235</td>\n",
       "      <td>0.303780</td>\n",
       "      <td>\u000339</td>\n",
       "      <td>-0.845375</td>\n",
       "      <td>0.654367</td>\n",
       "      <td>-0.012648</td>\n",
       "      <td>-0.520417</td>\n",
       "      <td>0.507767</td>\n",
       "      <td>0.017467</td>\n",
       "      <td>127.741862</td>\n",
       "      <td>134.295111</td>\n",
       "    </tr>\n",
       "    <tr>\n",
       "      <th>2023-04-09 00:00:00.350</th>\n",
       "      <td>06:00:00.35 \u0002Z</td>\n",
       "      <td>0.887269</td>\n",
       "      <td>0.082067</td>\n",
       "      <td>-0.037669</td>\n",
       "      <td>M</td>\n",
       "      <td>336.14</td>\n",
       "      <td>0</td>\n",
       "      <td>0.556930</td>\n",
       "      <td>0.303780</td>\n",
       "      <td>\u000330</td>\n",
       "      <td>-0.845375</td>\n",
       "      <td>0.654367</td>\n",
       "      <td>-0.012648</td>\n",
       "      <td>-0.520417</td>\n",
       "      <td>0.507767</td>\n",
       "      <td>0.017467</td>\n",
       "      <td>127.741862</td>\n",
       "      <td>134.295111</td>\n",
       "    </tr>\n",
       "    <tr>\n",
       "      <th>2023-04-09 00:00:00.460</th>\n",
       "      <td>06:00:00.46 \u0002Z</td>\n",
       "      <td>0.849707</td>\n",
       "      <td>0.065382</td>\n",
       "      <td>-0.048192</td>\n",
       "      <td>M</td>\n",
       "      <td>336.21</td>\n",
       "      <td>0</td>\n",
       "      <td>0.557235</td>\n",
       "      <td>0.304085</td>\n",
       "      <td>\u000334</td>\n",
       "      <td>-0.845375</td>\n",
       "      <td>0.654367</td>\n",
       "      <td>-0.012648</td>\n",
       "      <td>-0.520417</td>\n",
       "      <td>0.507767</td>\n",
       "      <td>0.017467</td>\n",
       "      <td>127.741862</td>\n",
       "      <td>134.295111</td>\n",
       "    </tr>\n",
       "    <tr>\n",
       "      <th>...</th>\n",
       "      <td>...</td>\n",
       "      <td>...</td>\n",
       "      <td>...</td>\n",
       "      <td>...</td>\n",
       "      <td>...</td>\n",
       "      <td>...</td>\n",
       "      <td>...</td>\n",
       "      <td>...</td>\n",
       "      <td>...</td>\n",
       "      <td>...</td>\n",
       "      <td>...</td>\n",
       "      <td>...</td>\n",
       "      <td>...</td>\n",
       "      <td>...</td>\n",
       "      <td>...</td>\n",
       "      <td>...</td>\n",
       "      <td>...</td>\n",
       "      <td>...</td>\n",
       "    </tr>\n",
       "    <tr>\n",
       "      <th>2023-04-09 23:59:59.500</th>\n",
       "      <td>05:59:59.50 \u0002Z</td>\n",
       "      <td>1.046484</td>\n",
       "      <td>1.163740</td>\n",
       "      <td>-0.142758</td>\n",
       "      <td>M</td>\n",
       "      <td>336.03</td>\n",
       "      <td>0</td>\n",
       "      <td>0.580110</td>\n",
       "      <td>0.295545</td>\n",
       "      <td>\u000333</td>\n",
       "      <td>-0.011748</td>\n",
       "      <td>0.095158</td>\n",
       "      <td>0.003687</td>\n",
       "      <td>-1.231383</td>\n",
       "      <td>0.786850</td>\n",
       "      <td>0.005883</td>\n",
       "      <td>172.961787</td>\n",
       "      <td>122.578447</td>\n",
       "    </tr>\n",
       "    <tr>\n",
       "      <th>2023-04-09 23:59:59.600</th>\n",
       "      <td>05:59:59.60 \u0002Z</td>\n",
       "      <td>1.075645</td>\n",
       "      <td>1.107887</td>\n",
       "      <td>-0.174852</td>\n",
       "      <td>M</td>\n",
       "      <td>336.14</td>\n",
       "      <td>0</td>\n",
       "      <td>0.574925</td>\n",
       "      <td>0.295240</td>\n",
       "      <td>\u00033C</td>\n",
       "      <td>-0.011748</td>\n",
       "      <td>0.095158</td>\n",
       "      <td>0.003687</td>\n",
       "      <td>-1.231383</td>\n",
       "      <td>0.786850</td>\n",
       "      <td>0.005883</td>\n",
       "      <td>172.961787</td>\n",
       "      <td>122.578447</td>\n",
       "    </tr>\n",
       "    <tr>\n",
       "      <th>2023-04-09 23:59:59.700</th>\n",
       "      <td>05:59:59.70 \u0002Z</td>\n",
       "      <td>1.106593</td>\n",
       "      <td>1.132594</td>\n",
       "      <td>-0.227119</td>\n",
       "      <td>M</td>\n",
       "      <td>336.13</td>\n",
       "      <td>0</td>\n",
       "      <td>0.571875</td>\n",
       "      <td>0.295545</td>\n",
       "      <td>\u000331</td>\n",
       "      <td>-0.011748</td>\n",
       "      <td>0.095158</td>\n",
       "      <td>0.003687</td>\n",
       "      <td>-1.231383</td>\n",
       "      <td>0.786850</td>\n",
       "      <td>0.005883</td>\n",
       "      <td>172.961787</td>\n",
       "      <td>122.578447</td>\n",
       "    </tr>\n",
       "    <tr>\n",
       "      <th>2023-04-09 23:59:59.800</th>\n",
       "      <td>05:59:59.80 \u0002Z</td>\n",
       "      <td>1.180489</td>\n",
       "      <td>1.119550</td>\n",
       "      <td>-0.302413</td>\n",
       "      <td>M</td>\n",
       "      <td>336.06</td>\n",
       "      <td>0</td>\n",
       "      <td>0.571265</td>\n",
       "      <td>0.295545</td>\n",
       "      <td>\u000330</td>\n",
       "      <td>-0.011748</td>\n",
       "      <td>0.095158</td>\n",
       "      <td>0.003687</td>\n",
       "      <td>-1.231383</td>\n",
       "      <td>0.786850</td>\n",
       "      <td>0.005883</td>\n",
       "      <td>172.961787</td>\n",
       "      <td>122.578447</td>\n",
       "    </tr>\n",
       "    <tr>\n",
       "      <th>2023-04-09 23:59:59.900</th>\n",
       "      <td>05:59:59.90 \u0002Z</td>\n",
       "      <td>1.215020</td>\n",
       "      <td>1.185352</td>\n",
       "      <td>-0.254688</td>\n",
       "      <td>M</td>\n",
       "      <td>335.96</td>\n",
       "      <td>0</td>\n",
       "      <td>0.579195</td>\n",
       "      <td>0.295545</td>\n",
       "      <td>\u00033D</td>\n",
       "      <td>-0.011748</td>\n",
       "      <td>0.095158</td>\n",
       "      <td>0.003687</td>\n",
       "      <td>-1.231383</td>\n",
       "      <td>0.786850</td>\n",
       "      <td>0.005883</td>\n",
       "      <td>172.961787</td>\n",
       "      <td>122.578447</td>\n",
       "    </tr>\n",
       "  </tbody>\n",
       "</table>\n",
       "<p>911399 rows × 18 columns</p>\n",
       "</div>"
      ],
      "text/plain": [
       "                              Timestamp         u         v         w  \\\n",
       "time                                                                    \n",
       "2023-04-09 00:00:00.060  06:00:00.06 \u0002Z  0.931391  0.090863 -0.057057   \n",
       "2023-04-09 00:00:00.160  06:00:00.16 \u0002Z  0.951427  0.081227 -0.046778   \n",
       "2023-04-09 00:00:00.270  06:00:00.27 \u0002Z  0.909469  0.086465 -0.057362   \n",
       "2023-04-09 00:00:00.350  06:00:00.35 \u0002Z  0.887269  0.082067 -0.037669   \n",
       "2023-04-09 00:00:00.460  06:00:00.46 \u0002Z  0.849707  0.065382 -0.048192   \n",
       "...                                 ...       ...       ...       ...   \n",
       "2023-04-09 23:59:59.500  05:59:59.50 \u0002Z  1.046484  1.163740 -0.142758   \n",
       "2023-04-09 23:59:59.600  05:59:59.60 \u0002Z  1.075645  1.107887 -0.174852   \n",
       "2023-04-09 23:59:59.700  05:59:59.70 \u0002Z  1.106593  1.132594 -0.227119   \n",
       "2023-04-09 23:59:59.800  05:59:59.80 \u0002Z  1.180489  1.119550 -0.302413   \n",
       "2023-04-09 23:59:59.900  05:59:59.90 \u0002Z  1.215020  1.185352 -0.254688   \n",
       "\n",
       "                        windspeed units (M = m/s)  Speed of Sound  \\\n",
       "time                                                                \n",
       "2023-04-09 00:00:00.060                         M          336.08   \n",
       "2023-04-09 00:00:00.160                         M          336.18   \n",
       "2023-04-09 00:00:00.270                         M          336.13   \n",
       "2023-04-09 00:00:00.350                         M          336.14   \n",
       "2023-04-09 00:00:00.460                         M          336.21   \n",
       "...                                           ...             ...   \n",
       "2023-04-09 23:59:59.500                         M          336.03   \n",
       "2023-04-09 23:59:59.600                         M          336.14   \n",
       "2023-04-09 23:59:59.700                         M          336.13   \n",
       "2023-04-09 23:59:59.800                         M          336.06   \n",
       "2023-04-09 23:59:59.900                         M          335.96   \n",
       "\n",
       "                         Status (00 means okay)  CO2 analog voltage output  \\\n",
       "time                                                                         \n",
       "2023-04-09 00:00:00.060                       0                   0.556930   \n",
       "2023-04-09 00:00:00.160                       0                   0.557235   \n",
       "2023-04-09 00:00:00.270                       0                   0.557235   \n",
       "2023-04-09 00:00:00.350                       0                   0.556930   \n",
       "2023-04-09 00:00:00.460                       0                   0.557235   \n",
       "...                                         ...                        ...   \n",
       "2023-04-09 23:59:59.500                       0                   0.580110   \n",
       "2023-04-09 23:59:59.600                       0                   0.574925   \n",
       "2023-04-09 23:59:59.700                       0                   0.571875   \n",
       "2023-04-09 23:59:59.800                       0                   0.571265   \n",
       "2023-04-09 23:59:59.900                       0                   0.579195   \n",
       "\n",
       "                         H20 analog voltage output Checksum   u_30min  \\\n",
       "time                                                                    \n",
       "2023-04-09 00:00:00.060                   0.303780      \u00033A -0.845375   \n",
       "2023-04-09 00:00:00.160                   0.304085      \u000334 -0.845375   \n",
       "2023-04-09 00:00:00.270                   0.303780      \u000339 -0.845375   \n",
       "2023-04-09 00:00:00.350                   0.303780      \u000330 -0.845375   \n",
       "2023-04-09 00:00:00.460                   0.304085      \u000334 -0.845375   \n",
       "...                                            ...      ...       ...   \n",
       "2023-04-09 23:59:59.500                   0.295545      \u000333 -0.011748   \n",
       "2023-04-09 23:59:59.600                   0.295240      \u00033C -0.011748   \n",
       "2023-04-09 23:59:59.700                   0.295545      \u000331 -0.011748   \n",
       "2023-04-09 23:59:59.800                   0.295545      \u000330 -0.011748   \n",
       "2023-04-09 23:59:59.900                   0.295545      \u00033D -0.011748   \n",
       "\n",
       "                          v_30min   w_30min    u_1min    v_1min    w_1min  \\\n",
       "time                                                                        \n",
       "2023-04-09 00:00:00.060  0.654367 -0.012648 -0.520417  0.507767  0.017467   \n",
       "2023-04-09 00:00:00.160  0.654367 -0.012648 -0.520417  0.507767  0.017467   \n",
       "2023-04-09 00:00:00.270  0.654367 -0.012648 -0.520417  0.507767  0.017467   \n",
       "2023-04-09 00:00:00.350  0.654367 -0.012648 -0.520417  0.507767  0.017467   \n",
       "2023-04-09 00:00:00.460  0.654367 -0.012648 -0.520417  0.507767  0.017467   \n",
       "...                           ...       ...       ...       ...       ...   \n",
       "2023-04-09 23:59:59.500  0.095158  0.003687 -1.231383  0.786850  0.005883   \n",
       "2023-04-09 23:59:59.600  0.095158  0.003687 -1.231383  0.786850  0.005883   \n",
       "2023-04-09 23:59:59.700  0.095158  0.003687 -1.231383  0.786850  0.005883   \n",
       "2023-04-09 23:59:59.800  0.095158  0.003687 -1.231383  0.786850  0.005883   \n",
       "2023-04-09 23:59:59.900  0.095158  0.003687 -1.231383  0.786850  0.005883   \n",
       "\n",
       "                          dir_30min    dir_1min  \n",
       "time                                             \n",
       "2023-04-09 00:00:00.060  127.741862  134.295111  \n",
       "2023-04-09 00:00:00.160  127.741862  134.295111  \n",
       "2023-04-09 00:00:00.270  127.741862  134.295111  \n",
       "2023-04-09 00:00:00.350  127.741862  134.295111  \n",
       "2023-04-09 00:00:00.460  127.741862  134.295111  \n",
       "...                             ...         ...  \n",
       "2023-04-09 23:59:59.500  172.961787  122.578447  \n",
       "2023-04-09 23:59:59.600  172.961787  122.578447  \n",
       "2023-04-09 23:59:59.700  172.961787  122.578447  \n",
       "2023-04-09 23:59:59.800  172.961787  122.578447  \n",
       "2023-04-09 23:59:59.900  172.961787  122.578447  \n",
       "\n",
       "[911399 rows x 18 columns]"
      ]
     },
     "execution_count": 138,
     "metadata": {},
     "output_type": "execute_result"
    }
   ],
   "source": [
    "fast_df_sail"
   ]
  },
  {
   "cell_type": "code",
   "execution_count": 139,
   "metadata": {},
   "outputs": [
    {
     "name": "stdout",
     "output_type": "stream",
     "text": [
      "Got data of length 911399. using M = 14\n",
      "Timestep of fast data is: 100.0 ms\n",
      "Dataset of length 911399, with M = 14, permits 745 iterations.\n"
     ]
    },
    {
     "name": "stderr",
     "output_type": "stream",
     "text": [
      "100%|██████████| 745/745 [00:27<00:00, 26.88it/s]\n"
     ]
    }
   ],
   "source": [
    "# mrd_uw_sail = fast_df_sail.groupby(pd.Grouper(freq='180min'))[['u', 'v', 'w']].apply(\n",
    "#     lambda df: calculate_mrd_for_df(df.reset_index(), 'u', 'w', shift=2000, parallelism=20).assign(hour_group = f\"{df.index.min()} - {df.index.max()}\")\n",
    "# )\n",
    "\n",
    "mrd_uw_sail = calculate_mrd_for_df(\n",
    "    fast_df_sail[['u', 'v', 'w']].reset_index(), \n",
    "    'u', 'w', \n",
    "    shift=1200, # 2 minute sliding window\n",
    "    parallelism=20, \n",
    "    M=14, # 27.31 minute long calculations\n",
    ")"
   ]
  },
  {
   "cell_type": "markdown",
   "metadata": {},
   "source": [
    "# SPLASH EC data"
   ]
  },
  {
   "cell_type": "code",
   "execution_count": 140,
   "metadata": {},
   "outputs": [],
   "source": [
    "splash_files = np.array([\n",
    "    [f for f in glob.glob(\n",
    "        os.path.join(DATA_DIR, \"asfs/ASFS-50_Level2_SPLASH2021-2023/sledwind10hz.asfs50.level2.0.*.nc\")\n",
    "    ) if d in f]\n",
    "    for d in DATES\n",
    "]).flatten()\n",
    "fast_df_splash = xr.open_mfdataset(splash_files).to_dataframe().rename(columns={\n",
    "    'metek_u': 'u',\n",
    "    'metek_v': 'v',\n",
    "    'metek_w': 'w',\n",
    "})"
   ]
  },
  {
   "cell_type": "code",
   "execution_count": 141,
   "metadata": {},
   "outputs": [],
   "source": [
    "fast_df_splash = utils.modify_df_timezone(fast_df_splash.reset_index(), 'UTC', 'US/Mountain').set_index('time')\n",
    "fast_df_splash = fast_df_splash.loc[DATE_LOCAL]"
   ]
  },
  {
   "cell_type": "code",
   "execution_count": 142,
   "metadata": {},
   "outputs": [],
   "source": [
    "fast_df_splash = fast_df_splash.join(\n",
    "    fast_df_splash.groupby(pd.Grouper(freq='30min'))[['u', 'v', 'w']].transform('mean').rename(columns = {\n",
    "        'u': 'u_30min',\n",
    "        'v': 'v_30min',\n",
    "        'w': 'w_30min',\n",
    "    })\n",
    ")\n",
    "fast_df_splash['dir_30min'] = np.rad2deg(np.arctan2(-fast_df_splash['u_30min'], -fast_df_splash['v_30min']))\n",
    "fast_df_splash['dir_30min'] = fast_df_splash['dir_30min'].apply(lambda dir: dir if dir >= 0 else dir+360)\n",
    "\n",
    "fast_df_splash = fast_df_splash.join(\n",
    "    fast_df_splash.groupby(pd.Grouper(freq='1min'))[['u', 'v', 'w']].transform('mean').rename(columns = {\n",
    "        'u': 'u_1min',\n",
    "        'v': 'v_1min',\n",
    "        'w': 'w_1min',\n",
    "    })\n",
    ")\n",
    "fast_df_splash['dir_1min'] = np.rad2deg(np.arctan2(-fast_df_splash['u_1min'], -fast_df_splash['v_1min']))\n",
    "fast_df_splash['dir_1min'] = fast_df_splash['dir_1min'].apply(lambda dir: dir if dir >= 0 else dir+360)"
   ]
  },
  {
   "cell_type": "code",
   "execution_count": 143,
   "metadata": {},
   "outputs": [
    {
     "data": {
      "image/png": "[encoded data removed]",
      "text/plain": [
       "<Figure size 640x480 with 2 Axes>"
      ]
     },
     "metadata": {},
     "output_type": "display_data"
    }
   ],
   "source": [
    "fast_df_splash_30min = fast_df_splash.groupby(pd.Grouper(freq='1min')).mean()\n",
    "fig, axes = plt.subplots(2,1)\n",
    "fast_df_splash_30min['dir_30min'].loc[f'{DATE_LOCAL} 1500': f'{DATE_LOCAL} 1800'].plot(ax=axes[0], sharex=True)\n",
    "fast_df_splash_30min['dir_1min'].loc[f'{DATE_LOCAL} 1500': f'{DATE_LOCAL} 1800'].plot(ax=axes[0], sharex=True)\n",
    "fast_df_splash_30min[['u_30min','v_30min','w_30min']].loc[f'{DATE_LOCAL} 1500': f'{DATE_LOCAL} 1800'].plot(ax=axes[1])\n",
    "axes[0].grid(axis='x')  # Add grid lines only for the x-axis\n",
    "axes[1].grid(axis='x')  # Add grid lines only for the x-axis\n",
    "plt.show()"
   ]
  },
  {
   "cell_type": "markdown",
   "metadata": {},
   "source": [
    "Apply double rotation to 3hr chunks"
   ]
  },
  {
   "cell_type": "code",
   "execution_count": 144,
   "metadata": {},
   "outputs": [
    {
     "name": "stdout",
     "output_type": "stream",
     "text": [
      "Means after 1st rotation: 1.5595320001332986 -4.128292989891085e-17 0.08729354069107285\n",
      "Means after 2nd rotation: 1.561973182127706 -4.128292989891085e-17 -4.366463739307878e-18\n",
      "Means after 1st rotation: 1.5510374522541548 6.351219984447823e-18 0.08004062600424156\n",
      "Means after 2nd rotation: 1.5531013103163007 6.351219984447823e-18 0.0\n",
      "Means after 1st rotation: 0.9875677935419496 -1.111463497278369e-16 0.06903332022776004\n",
      "Means after 2nd rotation: 0.9899776493148637 -1.111463497278369e-16 -3.969512490279889e-18\n",
      "Means after 1st rotation: 0.69014728096046 -1.2702439968895646e-17 0.028218631737536703\n",
      "Means after 2nd rotation: 0.6907239394969995 -1.2702439968895646e-17 1.9847562451399447e-19\n",
      "Means after 1st rotation: 1.7072283653482172 2.254683094478977e-16 0.09132223597487102\n",
      "Means after 2nd rotation: 1.7096691031404283 2.254683094478977e-16 -4.763414988335867e-18\n",
      "Means after 1st rotation: 1.6495003568224247 5.0809759875582584e-17 0.10442849248506207\n",
      "Means after 2nd rotation: 1.652802691551538 5.0809759875582584e-17 2.6992684933903248e-17\n",
      "Means after 1st rotation: 1.8356269748962917 -7.621463981337388e-17 0.095130704068402\n",
      "Means after 2nd rotation: 1.8380903791227083 -7.621463981337388e-17 -1.9847562451399447e-19\n",
      "Means after 1st rotation: 1.5630466602823627 -1.1590976471617276e-16 0.10679911554610066\n",
      "Means after 2nd rotation: 1.5666910714308921 -1.1590976471617276e-16 -1.7862806206259503e-18\n",
      "Means after 1st rotation: 1.084603046562902 1.2702439968895645e-16 0.13039892078255869\n",
      "Means after 2nd rotation: 1.092413679498195 1.2702439968895645e-16 -1.5878049961119557e-18\n",
      "Means after 1st rotation: 0.5343250034774456 1.0797073973561299e-16 0.04968900952400072\n",
      "Means after 2nd rotation: 0.5366304193843735 1.0797073973561299e-16 -7.145122482503801e-18\n",
      "Means after 1st rotation: 0.11669617670095955 -1.2702439968895646e-17 0.00770164055056776\n",
      "Means after 2nd rotation: 0.11695004456515488 -1.2702439968895646e-17 6.351219984447823e-18\n",
      "Means after 1st rotation: 0.9926337812534854 7.621889785236004e-17 0.027260796589467087\n",
      "Means after 2nd rotation: 0.9930080436312109 7.621889785236004e-17 1.5878937052575008e-18\n",
      "Means after 1st rotation: 1.9397186687099397 -2.0323903950233034e-16 0.08882462444999227\n",
      "Means after 2nd rotation: 1.941751355774097 -2.0323903950233034e-16 -5.557317486391845e-18\n",
      "Means after 1st rotation: 0.3901529284748239 1.3020000968118036e-16 0.042678436985052325\n",
      "Means after 2nd rotation: 0.3924802626642111 1.3020000968118036e-16 -1.5878049961119557e-18\n",
      "Means after 1st rotation: 1.3184295605500664 0.0 0.037948165197668145\n",
      "Means after 2nd rotation: 1.3189755757306922 0.0 -4.763414988335867e-18\n",
      "Means after 1st rotation: 1.5011622732163497 -2.3817074941679335e-17 0.07091297953221813\n",
      "Means after 2nd rotation: 1.5028362589431408 -2.3817074941679335e-17 4.961890612849862e-18\n",
      "Means after 1st rotation: 0.8352637580206094 -1.3575732716757221e-16 0.025273121865991004\n",
      "Means after 2nd rotation: 0.8356460232368514 -1.3575732716757221e-16 -5.954268735419834e-19\n",
      "Means after 1st rotation: 1.1704396020506964 -3.651951491057498e-17 0.050673053095221306\n",
      "Means after 2nd rotation: 1.171536008989303 -3.651951491057498e-17 -1.1908537470839668e-17\n",
      "Means after 1st rotation: 0.37177781964412027 2.6992684933903248e-17 0.008687113896463474\n",
      "Means after 2nd rotation: 0.3718792991377527 2.6992684933903248e-17 -7.939024980559779e-19\n",
      "Means after 1st rotation: 1.2335886816028978 0.0 0.11879265390532291\n",
      "Means after 2nd rotation: 1.2392952553772831 0.0 -1.2702439968895646e-17\n",
      "Means after 1st rotation: 4.403583412042127 3.199427067165591e-16 0.22610293409539375\n",
      "Means after 2nd rotation: 4.40938424313635 3.199427067165591e-16 3.651951491057498e-17\n",
      "Means after 1st rotation: 3.7866936085019054 -2.222926994556738e-16 0.2202798677197582\n",
      "Means after 2nd rotation: 3.793095267033484 -2.222926994556738e-16 1.9847562451399445e-18\n",
      "Means after 1st rotation: 3.590483708205876 -1.4607805964229993e-16 0.20614453936112012\n",
      "Means after 2nd rotation: 3.596396645254834 -1.4607805964229993e-16 6.033658985225432e-17\n",
      "Means after 1st rotation: 3.9720697468298534 -4.3188295894245197e-16 0.22892864553121672\n",
      "Means after 2nd rotation: 3.9786613827298414 -4.3188295894245197e-16 -1.111463497278369e-17\n",
      "Means after 1st rotation: 4.7079898007053025 5.71609798600304e-16 0.24689045882956512\n",
      "Means after 2nd rotation: 4.71445891510428 5.71609798600304e-16 6.390915109350622e-17\n",
      "Means after 1st rotation: 3.2894912199343334 -1.2067317970450865e-16 0.19193892327033388\n",
      "Means after 2nd rotation: 3.295086195578386 -1.2067317970450865e-16 1.3099391217923635e-17\n",
      "Means after 1st rotation: 3.2528876390053165 2.802475818137602e-16 0.20667018508239052\n",
      "Means after 2nd rotation: 3.2594463574962504 2.802475818137602e-16 3.830579553120093e-17\n",
      "Means after 1st rotation: 2.8521200242836895 2.794536793157042e-16 0.17202046906538665\n",
      "Means after 2nd rotation: 2.857302867162925 2.794536793157042e-16 -1.905365995334347e-17\n",
      "Means after 1st rotation: 2.5461530742147547 3.810731990668694e-17 0.1907034460522572\n",
      "Means after 2nd rotation: 2.5532848023026045 3.810731990668694e-17 -2.0641464949455425e-17\n",
      "Means after 1st rotation: 2.1303227638651374 3.4931709914463025e-17 0.14932475983058394\n",
      "Means after 2nd rotation: 2.1355498032451643 3.4931709914463025e-17 2.222926994556738e-17\n",
      "Means after 1st rotation: 2.8515522097454733 3.4296587916018246e-16 0.1676574268164605\n",
      "Means after 2nd rotation: 2.8564766790000244 3.4296587916018246e-16 2.619878243584727e-17\n",
      "Means after 1st rotation: 2.768996592157096 0.0 0.16843429920701422\n",
      "Means after 2nd rotation: 2.77411467688828 0.0 -2.4612352431491263e-17\n",
      "Means after 1st rotation: 2.8746050983070677 -4.826927188180346e-16 0.16361963197844157\n",
      "Means after 2nd rotation: 2.879257865350331 -4.826927188180346e-16 -5.239756487169454e-17\n",
      "Means after 1st rotation: 2.4414473217089885 -1.397268396578521e-16 0.14490879727354639\n",
      "Means after 2nd rotation: 2.4457439735604503 -1.397268396578521e-16 -2.619878243584727e-17\n",
      "Means after 1st rotation: 2.943366456983133 -2.9215611928459985e-16 0.14937327039459863\n",
      "Means after 2nd rotation: 2.9471543010167998 -2.9215611928459985e-16 -3.969512490279889e-18\n",
      "Means after 1st rotation: 1.833827448334049 2.9217244176738017e-16 0.14238653799533804\n",
      "Means after 2nd rotation: 1.8393469048729407 2.9217244176738017e-16 6.351574821030003e-18\n",
      "Means after 1st rotation: 0.8070458256155465 -8.303437779543842e-17 0.06361734423824547\n",
      "Means after 2nd rotation: 0.809549338293477 -8.303437779543842e-17 1.7564964533650435e-17\n",
      "Means after 1st rotation: 0.7740649819780447 3.810731990668694e-17 0.07185742878525177\n",
      "Means after 2nd rotation: 0.7773931350329114 3.810731990668694e-17 -1.865670870431548e-17\n",
      "Means after 1st rotation: 1.5065912512828992 1.0003730343122255e-16 0.09956314303558117\n",
      "Means after 2nd rotation: 1.5098774843984186 1.0003730343122255e-16 -1.1512229363116882e-17\n",
      "Means after 1st rotation: 0.9199753776341024 -1.2703149642060007e-17 0.10446852336040428\n",
      "Means after 2nd rotation: 0.9258878808074508 -1.2703149642060007e-17 1.7466830757832508e-17\n",
      "Means after 1st rotation: 1.4817573951385783 -9.526829976671734e-17 0.08709771605373713\n",
      "Means after 2nd rotation: 1.4843149902192736 -9.526829976671734e-17 -5.557317486391845e-18\n",
      "Means after 1st rotation: 1.5899851440964772 -1.7784409498884008e-16 0.09125816017654978\n",
      "Means after 2nd rotation: 1.5926018994859648 -1.7784409498884008e-16 1.2901636355217194e-18\n",
      "Means after 1st rotation: 1.7598415059679509 2.334203746728526e-16 0.11776584457153262\n",
      "Means after 2nd rotation: 1.7637774576956105 2.334203746728526e-16 -1.2703149642060007e-17\n",
      "Means after 1st rotation: 1.3372187395388675 -1.1432195972006082e-16 0.11953146902444045\n",
      "Means after 2nd rotation: 1.3425504569516402 -1.1432195972006082e-16 2.222926994556738e-17\n",
      "Means after 1st rotation: 1.839754627165002 1.1908537470839668e-16 0.08225497427948603\n",
      "Means after 2nd rotation: 1.8415925089358813 1.1908537470839668e-16 4.564939363821873e-18\n",
      "Means after 1st rotation: 1.799099626025193 1.2702439968895645e-16 0.08468217780171287\n",
      "Means after 2nd rotation: 1.8010914845174386 1.2702439968895645e-16 -8.534451854101762e-18\n",
      "Means after 1st rotation: 1.7914144305288684 9.527362231545005e-18 0.09776609581399551\n",
      "Means after 2nd rotation: 1.7940802299222245 9.527362231545005e-18 1.5084990199946258e-17\n",
      "Means after 1st rotation: 1.7760080374329736 -9.526829976671734e-17 0.10111199737056391\n",
      "Means after 2nd rotation: 1.7788839717752216 -9.526829976671734e-17 -1.2305488719867657e-17\n"
     ]
    }
   ],
   "source": [
    "fast_df_splash = fast_df_splash.groupby(pd.Grouper(freq='30min')).apply(lambda df: FastDataSAIL.double_rotation(df, 'u', 'v', 'w'))"
   ]
  },
  {
   "cell_type": "code",
   "execution_count": 145,
   "metadata": {},
   "outputs": [],
   "source": [
    "fast_df_splash.index = fast_df_splash.index.get_level_values(1)"
   ]
  },
  {
   "cell_type": "code",
   "execution_count": 146,
   "metadata": {},
   "outputs": [],
   "source": [
    "fast_df_splash['u'] = fast_df_splash['u'].interpolate()\n",
    "fast_df_splash['v'] = fast_df_splash['v'].interpolate()\n",
    "fast_df_splash['w'] = fast_df_splash['w'].interpolate()"
   ]
  },
  {
   "cell_type": "markdown",
   "metadata": {},
   "source": [
    "Calculate MRD"
   ]
  },
  {
   "cell_type": "code",
   "execution_count": 147,
   "metadata": {},
   "outputs": [
    {
     "name": "stdout",
     "output_type": "stream",
     "text": [
      "Got data of length 864000. using M = 14\n",
      "Timestep of fast data is: 100.0 ms\n",
      "Dataset of length 864000, with M = 14, permits 706 iterations.\n"
     ]
    },
    {
     "name": "stderr",
     "output_type": "stream",
     "text": [
      "100%|██████████| 706/706 [00:24<00:00, 28.30it/s]\n"
     ]
    }
   ],
   "source": [
    "mrd_uw_splash = calculate_mrd_for_df(\n",
    "    fast_df_splash[['u', 'v', 'w']].reset_index(), \n",
    "    'u', 'w', \n",
    "    shift=1200, # 2 minute sliding window\n",
    "    parallelism=20, \n",
    "    M=14, # 27.31 minute long calculations\n",
    ")"
   ]
  },
  {
   "cell_type": "code",
   "execution_count": 175,
   "metadata": {},
   "outputs": [
    {
     "name": "stdout",
     "output_type": "stream",
     "text": [
      "Got data of length 864000. using M = 14\n",
      "Timestep of fast data is: 100.0 ms\n",
      "Dataset of length 864000, with M = 14, permits 706 iterations.\n"
     ]
    },
    {
     "name": "stderr",
     "output_type": "stream",
     "text": [
      "100%|██████████| 706/706 [00:28<00:00, 24.45it/s]\n"
     ]
    }
   ],
   "source": [
    "mrd_vw_splash = calculate_mrd_for_df(\n",
    "    fast_df_splash[['u', 'v', 'w']].reset_index(), \n",
    "    'v', 'w', \n",
    "    shift=1200, # 2 minute sliding window\n",
    "    parallelism=20, \n",
    "    M=14, # 27.31 minute long calculations\n",
    ")"
   ]
  },
  {
   "cell_type": "markdown",
   "metadata": {},
   "source": [
    "# SOS EC data"
   ]
  },
  {
   "cell_type": "markdown",
   "metadata": {},
   "source": [
    "Open data, average from 20hz to 10hz"
   ]
  },
  {
   "cell_type": "code",
   "execution_count": 148,
   "metadata": {},
   "outputs": [],
   "source": [
    "sos_file_list = sorted(np.array([\n",
    "    [f for f in glob.glob(\n",
    "        os.path.join(DATA_DIR, \"sosqc_fast/isfs_sos_qc_geo_tiltcor_hr_v2_**.nc\")\n",
    "    ) if d in f]\n",
    "    for d in DATES\n",
    "]).flatten())"
   ]
  },
  {
   "cell_type": "code",
   "execution_count": 149,
   "metadata": {},
   "outputs": [],
   "source": [
    "\n",
    "fast_df_sos_all_data = fast_data_files_to_dataframe(\n",
    "    sos_file_list,\n",
    "    rotation='none'\n",
    ")"
   ]
  },
  {
   "cell_type": "code",
   "execution_count": 150,
   "metadata": {},
   "outputs": [],
   "source": [
    "fast_df_sos_all_data = utils.modify_df_timezone(fast_df_sos_all_data, 'UTC', 'US/Mountain')\n",
    "fast_df_sos_all_data = fast_df_sos_all_data.set_index('time').loc[DATE_LOCAL]"
   ]
  },
  {
   "cell_type": "code",
   "execution_count": 151,
   "metadata": {},
   "outputs": [],
   "source": [
    "fast_df_sos = fast_df_sos_all_data[['u_3m_c', 'v_3m_c', 'w_3m_c']].rename(columns={\n",
    "    'u_3m_c': 'u',\n",
    "    'v_3m_c': 'v',\n",
    "    'w_3m_c': 'w',\n",
    "})"
   ]
  },
  {
   "cell_type": "markdown",
   "metadata": {},
   "source": [
    "resample the sos data from 20hz to 10hz with a simple block mean"
   ]
  },
  {
   "cell_type": "code",
   "execution_count": 152,
   "metadata": {},
   "outputs": [],
   "source": [
    "fast_df_sos = fast_df_sos.resample('0.1s').mean()"
   ]
  },
  {
   "cell_type": "code",
   "execution_count": 153,
   "metadata": {},
   "outputs": [],
   "source": [
    "fast_df_sos['dir'] = np.rad2deg(np.arctan2(-fast_df_sos['u'], -fast_df_sos['v']))\n",
    "\n",
    "# Create 30min avgs\n",
    "fast_df_sos = fast_df_sos.join(\n",
    "    fast_df_sos.groupby(pd.Grouper(freq='30min'))[['u', 'v', 'w']].transform('mean').rename(columns = {\n",
    "        'u': 'u_30min',\n",
    "        'v': 'v_30min',\n",
    "        'w': 'w_30min',\n",
    "    })\n",
    ")\n",
    "fast_df_sos['dir_30min'] = np.rad2deg(np.arctan2(-fast_df_sos['u_30min'], -fast_df_sos['v_30min']))\n",
    "fast_df_sos['dir_30min'] = fast_df_sos['dir_30min'].apply(lambda dir: dir if dir >= 0 else dir+360)\n",
    "\n",
    "# Create 1min avgs\n",
    "fast_df_sos = fast_df_sos.join(\n",
    "    fast_df_sos.groupby(pd.Grouper(freq='1min'))[['u', 'v', 'w']].transform('mean').rename(columns = {\n",
    "        'u': 'u_1min',\n",
    "        'v': 'v_1min',\n",
    "        'w': 'w_1min',\n",
    "    })\n",
    ")\n",
    "fast_df_sos['dir_1min'] = np.rad2deg(np.arctan2(-fast_df_sos['u_1min'], -fast_df_sos['v_1min']))\n",
    "fast_df_sos['dir_1min'] = fast_df_sos['dir_1min'].apply(lambda dir: dir if dir >= 0 else dir+360)"
   ]
  },
  {
   "cell_type": "code",
   "execution_count": 154,
   "metadata": {},
   "outputs": [
    {
     "data": {
      "image/png": "[encoded data removed]",
      "text/plain": [
       "<Figure size 640x480 with 4 Axes>"
      ]
     },
     "metadata": {},
     "output_type": "display_data"
    }
   ],
   "source": [
    "fast_df_sos_1min = fast_df_sos.groupby(pd.Grouper(freq='1min')).mean()\n",
    "fig, axes = plt.subplots(4,1)\n",
    "fast_df_sos_1min['dir_30min'].plot(ax=axes[0], sharex=True)\n",
    "fast_df_sos_1min[['u_30min','v_30min','w_30min']].plot(ax=axes[1])\n",
    "fast_df_sos_1min[['u_1min','v_1min','w_1min']].plot(ax=axes[2])\n",
    "fast_df_sos_1min['dir_1min'].plot(ax=axes[3], sharex=True)\n",
    "axes[0].grid(axis='x')  # Add grid lines only for the x-axis\n",
    "axes[1].grid(axis='x')  # Add grid lines only for the x-axis\n",
    "plt.show()"
   ]
  },
  {
   "cell_type": "markdown",
   "metadata": {},
   "source": [
    "Apply rotation into a given wind direction"
   ]
  },
  {
   "cell_type": "code",
   "execution_count": 155,
   "metadata": {},
   "outputs": [],
   "source": [
    "# import numpy as np\n",
    "\n",
    "# def project_winds(u, v):\n",
    "#     # Convert -45 degrees to radians\n",
    "#     angle = np.radians(-45)\n",
    "#     print(angle)\n",
    "#     # Define the rotation matrix\n",
    "#     rotation_matrix = np.array([\n",
    "#         [np.cos(angle), -np.sin(angle)],\n",
    "#         [np.sin(angle), np.cos(angle)]\n",
    "#     ])\n",
    "#     print(rotation_matrix)\n",
    "#     # Original wind vector\n",
    "#     wind_vector = np.array([u, v])\n",
    "#     print(wind_vector)\n",
    "#     # Projected wind vector\n",
    "#     projected_vector = rotation_matrix @ wind_vector\n",
    "#     print(projected_vector)\n",
    "#     return projected_vector\n",
    "\n",
    "# # Example usage\n",
    "# u = 10  # Westerly wind component\n",
    "# v = 5   # Southerly wind component\n",
    "# projected = project_winds(u, v)\n",
    "# print(\"Projected winds:\", projected)"
   ]
  },
  {
   "cell_type": "code",
   "execution_count": 156,
   "metadata": {},
   "outputs": [],
   "source": [
    "# src = fast_df_sos.loc[f'{DATE_LOCAL} 1500': f'{DATE_LOCAL} 1501']\n",
    "# u, v = project_winds(\n",
    "#     src['u'],\n",
    "#     src['v']\n",
    "# )\n",
    "# src['u_proj'] = u \n",
    "# src['v_proj'] = v\n",
    "# src['dir_proj'] = np.rad2deg(np.arctan2(-src['u_proj'], -src['v_proj']))"
   ]
  },
  {
   "cell_type": "code",
   "execution_count": 157,
   "metadata": {},
   "outputs": [],
   "source": [
    "# src[['u', 'v', 'dir']].plot(subplots=True)"
   ]
  },
  {
   "cell_type": "code",
   "execution_count": 158,
   "metadata": {},
   "outputs": [],
   "source": [
    "# src[['u_proj', 'v_proj', 'dir_proj']].plot(subplots=True)"
   ]
  },
  {
   "cell_type": "markdown",
   "metadata": {},
   "source": [
    "Apply double rotation to 3hr chunks"
   ]
  },
  {
   "cell_type": "code",
   "execution_count": 159,
   "metadata": {},
   "outputs": [
    {
     "name": "stdout",
     "output_type": "stream",
     "text": [
      "Means after 1st rotation: 2.191227 -5.4253473e-08 -0.0035020565\n",
      "Means after 2nd rotation: 2.19123 -5.4253473e-08 -2.1192763e-10\n",
      "Means after 1st rotation: 1.967784 1.28852e-07 0.0025253866\n",
      "Means after 2nd rotation: 1.9677856 1.28852e-07 5.033281e-10\n",
      "Means after 1st rotation: 2.1044302 3.390842e-09 -0.010221368\n",
      "Means after 2nd rotation: 2.104455 3.390842e-09 -7.4174666e-10\n",
      "Means after 1st rotation: 1.159121 9.6639e-08 0.0034087726\n",
      "Means after 2nd rotation: 1.159126 9.6639e-08 -1.0066562e-09\n",
      "Means after 1st rotation: 2.0692756 1.0087755e-07 -0.012904219\n",
      "Means after 2nd rotation: 2.0693157 1.0087755e-07 -1.3775295e-09\n",
      "Means after 1st rotation: 2.4189756 4.5776368e-08 -0.014616027\n",
      "Means after 2nd rotation: 2.4190197 4.5776368e-08 8.477105e-10\n",
      "Means after 1st rotation: 2.632995 -2.8822157e-08 -0.016066639\n",
      "Means after 2nd rotation: 2.633044 -2.8822157e-08 2.1192763e-09\n",
      "Means after 1st rotation: 2.7022889 8.138021e-08 -0.0020108211\n",
      "Means after 2nd rotation: 2.7022896 8.138021e-08 -1.5894572e-10\n",
      "Means after 1st rotation: 1.4288119 -4.0690104e-08 -0.0030786127\n",
      "Means after 2nd rotation: 1.4288152 -4.0690104e-08 -3.7087333e-10\n",
      "Means after 1st rotation: 0.8612465 1.695421e-08 -0.0046526147\n",
      "Means after 2nd rotation: 0.861259 1.695421e-08 4.768372e-10\n",
      "Means after 1st rotation: 1.2309419 6.103516e-08 0.0028697136\n",
      "Means after 2nd rotation: 1.2309453 6.103516e-08 -1.165602e-09\n",
      "Means after 1st rotation: 1.8028704 6.781684e-08 0.00405993\n",
      "Means after 2nd rotation: 1.802875 6.781684e-08 -4.2385526e-10\n",
      "Means after 1st rotation: 0.6970446 1.695421e-08 0.019445976\n",
      "Means after 2nd rotation: 0.69731575 1.695421e-08 -2.1192763e-09\n",
      "Means after 1st rotation: 0.5662694 3.390842e-08 0.0019298693\n",
      "Means after 2nd rotation: 0.56627274 3.390842e-08 -5.82801e-10\n",
      "Means after 1st rotation: 2.9711714 2.0345052e-08 -0.0146743795\n",
      "Means after 2nd rotation: 2.9712074 2.0345052e-08 2.1722582e-09\n",
      "Means after 1st rotation: 1.2675763 -8.138021e-08 -0.004172423\n",
      "Means after 2nd rotation: 1.2675833 -8.138021e-08 -2.6490954e-10\n",
      "Means after 1st rotation: 1.6700671 -3.051758e-08 -0.0053154915\n",
      "Means after 2nd rotation: 1.6700755 -3.051758e-08 -2.6490954e-11\n",
      "Means after 1st rotation: 1.1043127 2.0345052e-08 -0.0017153947\n",
      "Means after 2nd rotation: 1.104314 2.0345052e-08 1.4570024e-10\n",
      "Means after 1st rotation: 1.02901 -1.373291e-07 0.0014668517\n",
      "Means after 2nd rotation: 1.0290111 -1.373291e-07 5.2981907e-11\n",
      "Means after 1st rotation: 0.8755504 -1.3563368e-07 -0.0037710562\n",
      "Means after 2nd rotation: 0.8755585 -1.3563368e-07 -5.298191e-10\n",
      "Means after 1st rotation: 1.1977835 2.0345052e-08 0.006803005\n",
      "Means after 2nd rotation: 1.1978027 2.0345052e-08 4.2385526e-10\n",
      "Means after 1st rotation: 1.4533278 -4.7471787e-08 -0.010297923\n",
      "Means after 2nd rotation: 1.4533644 -4.7471787e-08 1.2185839e-09\n",
      "Means after 1st rotation: 4.1623807 -2.1701389e-07 -0.014976318\n",
      "Means after 2nd rotation: 4.162407 -2.1701389e-07 -2.1192763e-09\n",
      "Means after 1st rotation: 4.2637568 2.3735895e-07 -0.027678875\n",
      "Means after 2nd rotation: 4.2638474 2.3735895e-07 6.3578287e-10\n",
      "Means after 1st rotation: 4.727464 2.5431316e-07 -0.019345023\n",
      "Means after 2nd rotation: 4.7275033 2.5431316e-07 -2.582868e-09\n",
      "Means after 1st rotation: 4.050447 1.8988715e-07 -0.01499256\n",
      "Means after 2nd rotation: 4.0504746 1.8988715e-07 1.0331471e-09\n",
      "Means after 1st rotation: 2.8738177 -2.0345053e-07 -0.02013873\n",
      "Means after 2nd rotation: 2.873888 -2.0345053e-07 1.0596382e-09\n",
      "Means after 1st rotation: 3.7645798 -4.7471787e-08 -0.022432866\n",
      "Means after 2nd rotation: 3.7646472 -4.7471787e-08 2.755059e-09\n",
      "Means after 1st rotation: 3.4870532 0.0 -0.013666139\n",
      "Means after 2nd rotation: 3.4870796 0.0 -1.2715657e-09\n",
      "Means after 1st rotation: 5.95717 -5.9339737e-08 -0.030393826\n",
      "Means after 2nd rotation: 5.9572473 -5.9339737e-08 -2.5431315e-09\n",
      "Means after 1st rotation: 5.6845946 -7.4598525e-08 -0.022097634\n",
      "Means after 2nd rotation: 5.684638 -7.4598525e-08 2.331204e-09\n",
      "Means after 1st rotation: 5.781112 -7.798937e-08 -0.0252049\n",
      "Means after 2nd rotation: 5.781168 -7.798937e-08 1.9073487e-09\n",
      "Means after 1st rotation: 6.227116 -6.781684e-09 -0.026701832\n",
      "Means after 2nd rotation: 6.227173 -6.781684e-09 -3.1789144e-10\n",
      "Means after 1st rotation: 5.7167416 5.086263e-09 -0.04243876\n",
      "Means after 2nd rotation: 5.7168994 5.086263e-09 -6.3578287e-10\n",
      "Means after 1st rotation: 5.236741 1.2715658e-08 -0.03701258\n",
      "Means after 2nd rotation: 5.2368717 1.2715658e-08 1.165602e-09\n",
      "Means after 1st rotation: 5.095169 4.916721e-08 -0.026006108\n",
      "Means after 2nd rotation: 5.095235 4.916721e-08 -2.755059e-09\n",
      "Means after 1st rotation: 2.7307687 1.3563368e-08 0.013830201\n",
      "Means after 2nd rotation: 2.7308035 1.3563368e-08 -2.6490954e-10\n",
      "Means after 1st rotation: 2.631107 -2.0345052e-08 -0.007817512\n",
      "Means after 2nd rotation: 2.6311185 -2.0345052e-08 -1.4834933e-09\n",
      "Means after 1st rotation: 2.8598359 1.08506946e-07 -0.018174203\n",
      "Means after 2nd rotation: 2.8598936 1.08506946e-07 1.11262e-09\n",
      "Means after 1st rotation: 3.1733818 8.138021e-08 -0.025552288\n",
      "Means after 2nd rotation: 3.1734848 8.138021e-08 3.7087335e-09\n",
      "Means after 1st rotation: 3.3259993 -8.561876e-08 -0.028713277\n",
      "Means after 2nd rotation: 3.3261232 -8.561876e-08 -1.05963814e-10\n",
      "Means after 1st rotation: 4.04055 1.0002984e-07 -0.024104957\n",
      "Means after 2nd rotation: 4.0406218 1.0002984e-07 -8.477105e-10\n",
      "Means after 1st rotation: 4.070135 8.816189e-08 -0.013715223\n",
      "Means after 2nd rotation: 4.0701585 8.816189e-08 1.0596382e-09\n",
      "Means after 1st rotation: 4.5539417 -5.4677326e-08 -0.0324902\n",
      "Means after 2nd rotation: 4.5540576 -5.4677326e-08 -1.2980567e-09\n",
      "Means after 1st rotation: 3.1609073 -2.1701389e-07 -0.0198367\n",
      "Means after 2nd rotation: 3.1609697 -2.1701389e-07 -3.1789144e-10\n",
      "Means after 1st rotation: 1.496017 1.051161e-07 -0.0010316587\n",
      "Means after 2nd rotation: 1.4960172 1.051161e-07 1.3775295e-09\n",
      "Means after 1st rotation: 1.5934343 -1.3563368e-07 -0.0067036645\n",
      "Means after 2nd rotation: 1.5934484 -1.3563368e-07 -1.695421e-09\n",
      "Means after 1st rotation: 1.9157083 -1.695421e-08 0.0017362011\n",
      "Means after 2nd rotation: 1.9157093 -1.695421e-08 -4.2385526e-10\n"
     ]
    }
   ],
   "source": [
    "fast_df_sos = fast_df_sos.groupby(pd.Grouper(freq='30min')).apply(lambda df: FastDataSAIL.double_rotation(df, 'u', 'v', 'w'))"
   ]
  },
  {
   "cell_type": "code",
   "execution_count": 160,
   "metadata": {},
   "outputs": [],
   "source": [
    "fast_df_sos.index = fast_df_sos.index.get_level_values(1)"
   ]
  },
  {
   "cell_type": "code",
   "execution_count": 161,
   "metadata": {},
   "outputs": [],
   "source": [
    "fast_df_sos['u'] = fast_df_sos['u'].interpolate()\n",
    "fast_df_sos['v'] = fast_df_sos['v'].interpolate()\n",
    "fast_df_sos['w'] = fast_df_sos['w'].interpolate()"
   ]
  },
  {
   "cell_type": "markdown",
   "metadata": {},
   "source": [
    "Calculate TKE"
   ]
  },
  {
   "cell_type": "code",
   "execution_count": 162,
   "metadata": {},
   "outputs": [],
   "source": [
    "fast_df_sos['tke'] = 0.5 * ( fast_df_sos['u']**2 + fast_df_sos['v']**2 + fast_df_sos['w']**2 ) "
   ]
  },
  {
   "cell_type": "markdown",
   "metadata": {},
   "source": [
    "Calculate MRD"
   ]
  },
  {
   "cell_type": "code",
   "execution_count": 163,
   "metadata": {},
   "outputs": [
    {
     "name": "stdout",
     "output_type": "stream",
     "text": [
      "Got data of length 864000. using M = 14\n",
      "Timestep of fast data is: 100.0 ms\n",
      "Dataset of length 864000, with M = 14, permits 706 iterations.\n"
     ]
    },
    {
     "name": "stderr",
     "output_type": "stream",
     "text": [
      "100%|██████████| 706/706 [00:31<00:00, 22.72it/s]\n"
     ]
    }
   ],
   "source": [
    "mrd_uw_sos = calculate_mrd_for_df(\n",
    "    fast_df_sos[['u', 'v', 'w']].reset_index(), \n",
    "    'u', 'w', \n",
    "    shift=1200, # 2 minute sliding window\n",
    "    parallelism=20, \n",
    "    M=14, # 27.31 minute long calculations\n",
    ")"
   ]
  },
  {
   "cell_type": "code",
   "execution_count": 164,
   "metadata": {},
   "outputs": [
    {
     "data": {
      "text/html": [
       "\n",
       "<style>\n",
       "  #altair-viz-497f3b364373447f98e8f7e655f4a7ee.vega-embed {\n",
       "    width: 100%;\n",
       "    display: flex;\n",
       "  }\n",
       "\n",
       "  #altair-viz-497f3b364373447f98e8f7e655f4a7ee.vega-embed details,\n",
       "  #altair-viz-497f3b364373447f98e8f7e655f4a7ee.vega-embed details summary {\n",
       "    position: relative;\n",
       "  }\n",
       "</style>\n",
       "<div id=\"altair-viz-497f3b364373447f98e8f7e655f4a7ee\"></div>\n",
       "<script type=\"text/javascript\">\n",
       "  var VEGA_DEBUG = (typeof VEGA_DEBUG == \"undefined\") ? {} : VEGA_DEBUG;\n",
       "  (function(spec, embedOpt){\n",
       "    let outputDiv = document.currentScript.previousElementSibling;\n",
       "    if (outputDiv.id !== \"altair-viz-497f3b364373447f98e8f7e655f4a7ee\") {\n",
       "      outputDiv = document.getElementById(\"altair-viz-497f3b364373447f98e8f7e655f4a7ee\");\n",
       "    }\n",
       "    const paths = {\n",
       "      \"vega\": \"https://cdn.jsdelivr.net/npm/vega@5?noext\",\n",
       "      \"vega-lib\": \"https://cdn.jsdelivr.net/npm/vega-lib?noext\",\n",
       "      \"vega-lite\": \"https://cdn.jsdelivr.net/npm/vega-lite@5.20.1?noext\",\n",
       "      \"vega-embed\": \"https://cdn.jsdelivr.net/npm/vega-embed@6?noext\",\n",
       "    };\n",
       "\n",
       "    function maybeLoadScript(lib, version) {\n",
       "      var key = `${lib.replace(\"-\", \"\")}_version`;\n",
       "      return (VEGA_DEBUG[key] == version) ?\n",
       "        Promise.resolve(paths[lib]) :\n",
       "        new Promise(function(resolve, reject) {\n",
       "          var s = document.createElement('script');\n",
       "          document.getElementsByTagName(\"head\")[0].appendChild(s);\n",
       "          s.async = true;\n",
       "          s.onload = () => {\n",
       "            VEGA_DEBUG[key] = version;\n",
       "            return resolve(paths[lib]);\n",
       "          };\n",
       "          s.onerror = () => reject(`Error loading script: ${paths[lib]}`);\n",
       "          s.src = paths[lib];\n",
       "        });\n",
       "    }\n",
       "\n",
       "    function showError(err) {\n",
       "      outputDiv.innerHTML = `<div class=\"error\" style=\"color:red;\">${err}</div>`;\n",
       "      throw err;\n",
       "    }\n",
       "\n",
       "    function displayChart(vegaEmbed) {\n",
       "      vegaEmbed(outputDiv, spec, embedOpt)\n",
       "        .catch(err => showError(`Javascript Error: ${err.message}<br>This usually means there's a typo in your chart specification. See the javascript console for the full traceback.`));\n",
       "    }\n",
       "\n",
       "    if(typeof define === \"function\" && define.amd) {\n",
       "      requirejs.config({paths});\n",
       "      require([\"vega-embed\"], displayChart, err => showError(`Error loading script: ${err.message}`));\n",
       "    } else {\n",
       "      maybeLoadScript(\"vega\", \"5\")\n",
       "        .then(() => maybeLoadScript(\"vega-lite\", \"5.20.1\"))\n",
       "        .then(() => maybeLoadScript(\"vega-embed\", \"6\"))\n",
       "        .catch(showError)\n",
       "        .then(() => displayChart(vegaEmbed));\n",
       "    }\n",
       "  })({\"config\": {\"view\": {\"continuousWidth\": 300, \"continuousHeight\": 300}}, \"data\": {\"url\": \"altair-data-1d1feadda15a33ab79d4382d420bce08.json\", \"format\": {\"type\": \"json\"}}, \"mark\": {\"type\": \"line\"}, \"encoding\": {\"color\": {\"field\": \"start_time\", \"timeUnit\": \"hours\", \"type\": \"ordinal\"}, \"x\": {\"field\": \"tau\", \"scale\": {\"type\": \"log\"}, \"type\": \"quantitative\"}, \"y\": {\"aggregate\": \"mean\", \"field\": \"Co\", \"scale\": {\"domain\": [-0.1, 0.05]}, \"type\": \"quantitative\"}}, \"height\": 200, \"title\": \"sos\", \"width\": 200, \"$schema\": \"https://vega.github.io/schema/vega-lite/v5.20.1.json\"}, {\"mode\": \"vega-lite\"});\n",
       "</script>"
      ],
      "text/plain": [
       "alt.Chart(...)"
      ]
     },
     "execution_count": 164,
     "metadata": {},
     "output_type": "execute_result"
    }
   ],
   "source": [
    "alt.Chart(\n",
    "    mrd_uw_sos.reset_index()\n",
    ").mark_line().encode(\n",
    "    alt.X('tau:Q').scale(type='log'),\n",
    "    alt.Y('mean(Co):Q').scale(domain = [-0.1, 0.05]),\n",
    "    alt.Color('hours(start_time):O'),\n",
    ").properties(width=200, height=200, title='sos')"
   ]
  },
  {
   "cell_type": "code",
   "execution_count": 167,
   "metadata": {},
   "outputs": [
    {
     "data": {
      "image/png": "[encoded data removed]",
      "text/plain": [
       "<Figure size 600x900 with 6 Axes>"
      ]
     },
     "metadata": {},
     "output_type": "display_data"
    }
   ],
   "source": [
    "fig, axes = plt.subplots(3,1, figsize=(6,9), sharex=True, sharey=True)\n",
    "\n",
    "# AVP\n",
    "src = mrd_uw_splash.copy()\n",
    "src['midpoint_time'] = src['start_time'] + (src['end_time'] - src['start_time']) / 2\n",
    "src = src.reset_index()\n",
    "ds = src.set_index(['midpoint_time', 'tau']).to_xarray()\n",
    "ds['Co'].plot.contourf(x='midpoint_time', y='tau', cmap='RdBu_r', levels=21, vmin=-0.02, vmax=0.02, ax=axes[0])\n",
    "axes[0].set_title('AVP')\n",
    "\n",
    "# GOT\n",
    "src = mrd_uw_sail.copy()\n",
    "src['midpoint_time'] = src['start_time'] + (src['end_time'] - src['start_time']) / 2\n",
    "src = src.reset_index()\n",
    "ds = src.set_index(['midpoint_time', 'tau']).to_xarray()\n",
    "ds['Co'].plot.contourf(x='midpoint_time', y='tau', cmap='RdBu_r', levels=21, vmin=-0.02, vmax=0.02, ax=axes[1])\n",
    "axes[1].set_title('GOT')\n",
    "\n",
    "# KPS\n",
    "src = mrd_uw_sos.copy()\n",
    "src['midpoint_time'] = src['start_time'] + (src['end_time'] - src['start_time']) / 2\n",
    "src = src.reset_index()\n",
    "ds = src.set_index(['midpoint_time', 'tau']).to_xarray()\n",
    "ds['Co'].plot.contourf(x='midpoint_time', y='tau', cmap='RdBu_r', levels=21, vmin=-0.02, vmax=0.02, ax=axes[2])\n",
    "axes[2].set_title('KPS')\n",
    "for ax in axes:\n",
    "    ax.set_yscale('log')\n",
    "    ax.set_xlabel('')\n",
    "    ax.set_ylabel(r\"$Co(\\overline{u'w'})$\")"
   ]
  },
  {
   "cell_type": "code",
   "execution_count": 184,
   "metadata": {},
   "outputs": [
    {
     "data": {
      "text/html": [
       "\n",
       "<style>\n",
       "  #altair-viz-26b8ad41467b4842b60c04be37c7014d.vega-embed {\n",
       "    width: 100%;\n",
       "    display: flex;\n",
       "  }\n",
       "\n",
       "  #altair-viz-26b8ad41467b4842b60c04be37c7014d.vega-embed details,\n",
       "  #altair-viz-26b8ad41467b4842b60c04be37c7014d.vega-embed details summary {\n",
       "    position: relative;\n",
       "  }\n",
       "</style>\n",
       "<div id=\"altair-viz-26b8ad41467b4842b60c04be37c7014d\"></div>\n",
       "<script type=\"text/javascript\">\n",
       "  var VEGA_DEBUG = (typeof VEGA_DEBUG == \"undefined\") ? {} : VEGA_DEBUG;\n",
       "  (function(spec, embedOpt){\n",
       "    let outputDiv = document.currentScript.previousElementSibling;\n",
       "    if (outputDiv.id !== \"altair-viz-26b8ad41467b4842b60c04be37c7014d\") {\n",
       "      outputDiv = document.getElementById(\"altair-viz-26b8ad41467b4842b60c04be37c7014d\");\n",
       "    }\n",
       "    const paths = {\n",
       "      \"vega\": \"https://cdn.jsdelivr.net/npm/vega@5?noext\",\n",
       "      \"vega-lib\": \"https://cdn.jsdelivr.net/npm/vega-lib?noext\",\n",
       "      \"vega-lite\": \"https://cdn.jsdelivr.net/npm/vega-lite@5.20.1?noext\",\n",
       "      \"vega-embed\": \"https://cdn.jsdelivr.net/npm/vega-embed@6?noext\",\n",
       "    };\n",
       "\n",
       "    function maybeLoadScript(lib, version) {\n",
       "      var key = `${lib.replace(\"-\", \"\")}_version`;\n",
       "      return (VEGA_DEBUG[key] == version) ?\n",
       "        Promise.resolve(paths[lib]) :\n",
       "        new Promise(function(resolve, reject) {\n",
       "          var s = document.createElement('script');\n",
       "          document.getElementsByTagName(\"head\")[0].appendChild(s);\n",
       "          s.async = true;\n",
       "          s.onload = () => {\n",
       "            VEGA_DEBUG[key] = version;\n",
       "            return resolve(paths[lib]);\n",
       "          };\n",
       "          s.onerror = () => reject(`Error loading script: ${paths[lib]}`);\n",
       "          s.src = paths[lib];\n",
       "        });\n",
       "    }\n",
       "\n",
       "    function showError(err) {\n",
       "      outputDiv.innerHTML = `<div class=\"error\" style=\"color:red;\">${err}</div>`;\n",
       "      throw err;\n",
       "    }\n",
       "\n",
       "    function displayChart(vegaEmbed) {\n",
       "      vegaEmbed(outputDiv, spec, embedOpt)\n",
       "        .catch(err => showError(`Javascript Error: ${err.message}<br>This usually means there's a typo in your chart specification. See the javascript console for the full traceback.`));\n",
       "    }\n",
       "\n",
       "    if(typeof define === \"function\" && define.amd) {\n",
       "      requirejs.config({paths});\n",
       "      require([\"vega-embed\"], displayChart, err => showError(`Error loading script: ${err.message}`));\n",
       "    } else {\n",
       "      maybeLoadScript(\"vega\", \"5\")\n",
       "        .then(() => maybeLoadScript(\"vega-lite\", \"5.20.1\"))\n",
       "        .then(() => maybeLoadScript(\"vega-embed\", \"6\"))\n",
       "        .catch(showError)\n",
       "        .then(() => displayChart(vegaEmbed));\n",
       "    }\n",
       "  })({\"config\": {\"view\": {\"continuousWidth\": 300, \"continuousHeight\": 300}}, \"layer\": [{\"data\": {\"url\": \"altair-data-9ed9c1268fff804237522c965504a38b.json\", \"format\": {\"type\": \"json\"}}, \"mark\": {\"type\": \"line\"}, \"encoding\": {\"x\": {\"field\": \"tau\", \"scale\": {\"type\": \"log\"}, \"type\": \"quantitative\"}, \"y\": {\"aggregate\": \"median\", \"field\": \"Co\", \"type\": \"quantitative\"}}}, {\"data\": {\"url\": \"altair-data-ea960b6e5a074b53ff1c6d9ae08f906e.json\", \"format\": {\"type\": \"json\"}}, \"mark\": {\"type\": \"line\"}, \"encoding\": {\"x\": {\"field\": \"tau\", \"scale\": {\"type\": \"log\"}, \"type\": \"quantitative\"}, \"y\": {\"aggregate\": \"median\", \"field\": \"Co\", \"type\": \"quantitative\"}}}, {\"data\": {\"url\": \"altair-data-f3f0e2ac5e9453fece23a848417850ec.json\", \"format\": {\"type\": \"json\"}}, \"mark\": {\"type\": \"line\"}, \"encoding\": {\"x\": {\"field\": \"tau\", \"scale\": {\"type\": \"log\"}, \"type\": \"quantitative\"}, \"y\": {\"aggregate\": \"median\", \"field\": \"Co\", \"type\": \"quantitative\"}}}], \"$schema\": \"https://vega.github.io/schema/vega-lite/v5.20.1.json\"}, {\"mode\": \"vega-lite\"});\n",
       "</script>"
      ],
      "text/plain": [
       "alt.LayerChart(...)"
      ]
     },
     "execution_count": 184,
     "metadata": {},
     "output_type": "execute_result"
    }
   ],
   "source": [
    "alt.Chart(\n",
    "    mrd_uw_splash.set_index('start_time').loc[f'{DATE_LOCAL} 1200': f'{DATE_LOCAL} 1600']\n",
    ").mark_line().encode(\n",
    "    alt.X('tau:Q').scale(type='log'),\n",
    "    alt.Y('median(Co):Q'),\n",
    ") + alt.Chart(\n",
    "    mrd_uw_sail.set_index('start_time').loc[f'{DATE_LOCAL} 1200': f'{DATE_LOCAL} 1600']\n",
    ").mark_line().encode(\n",
    "    alt.X('tau:Q').scale(type='log'),\n",
    "    alt.Y('median(Co):Q'),\n",
    ") + alt.Chart(\n",
    "    mrd_uw_sos.set_index('start_time').loc[f'{DATE_LOCAL} 1200': f'{DATE_LOCAL} 1600']\n",
    ").mark_line().encode(\n",
    "    alt.X('tau:Q').scale(type='log'),\n",
    "    alt.Y('median(Co):Q'),\n",
    ")"
   ]
  },
  {
   "cell_type": "code",
   "execution_count": 19,
   "metadata": {},
   "outputs": [
    {
     "name": "stdout",
     "output_type": "stream",
     "text": [
      "Timestep of fast data is: 50.0 ms\n",
      "Dataset of length 216000, with M = 17, permits 42 iterations.\n"
     ]
    },
    {
     "name": "stderr",
     "output_type": "stream",
     "text": [
      "100%|██████████| 42/42 [00:09<00:00,  4.31it/s]\n"
     ]
    },
    {
     "name": "stdout",
     "output_type": "stream",
     "text": [
      "Timestep of fast data is: 50.0 ms\n",
      "Dataset of length 216000, with M = 17, permits 42 iterations.\n"
     ]
    },
    {
     "name": "stderr",
     "output_type": "stream",
     "text": [
      "100%|██████████| 42/42 [00:07<00:00,  5.74it/s]\n"
     ]
    },
    {
     "name": "stdout",
     "output_type": "stream",
     "text": [
      "Timestep of fast data is: 50.0 ms\n",
      "Dataset of length 216000, with M = 17, permits 42 iterations.\n"
     ]
    },
    {
     "name": "stderr",
     "output_type": "stream",
     "text": [
      "100%|██████████| 42/42 [00:07<00:00,  5.86it/s]\n"
     ]
    },
    {
     "name": "stdout",
     "output_type": "stream",
     "text": [
      "Timestep of fast data is: 50.0 ms\n",
      "Dataset of length 216000, with M = 17, permits 42 iterations.\n"
     ]
    },
    {
     "name": "stderr",
     "output_type": "stream",
     "text": [
      "100%|██████████| 42/42 [00:07<00:00,  5.80it/s]\n"
     ]
    },
    {
     "name": "stdout",
     "output_type": "stream",
     "text": [
      "Timestep of fast data is: 50.0 ms\n",
      "Dataset of length 216000, with M = 17, permits 42 iterations.\n"
     ]
    },
    {
     "name": "stderr",
     "output_type": "stream",
     "text": [
      "100%|██████████| 42/42 [00:07<00:00,  5.90it/s]\n"
     ]
    },
    {
     "name": "stdout",
     "output_type": "stream",
     "text": [
      "Timestep of fast data is: 50.0 ms\n",
      "Dataset of length 216000, with M = 17, permits 42 iterations.\n"
     ]
    },
    {
     "name": "stderr",
     "output_type": "stream",
     "text": [
      "100%|██████████| 42/42 [00:07<00:00,  5.86it/s]\n"
     ]
    },
    {
     "name": "stdout",
     "output_type": "stream",
     "text": [
      "Timestep of fast data is: 50.0 ms\n",
      "Dataset of length 216000, with M = 17, permits 42 iterations.\n"
     ]
    },
    {
     "name": "stderr",
     "output_type": "stream",
     "text": [
      "100%|██████████| 42/42 [00:07<00:00,  5.84it/s]\n"
     ]
    },
    {
     "name": "stdout",
     "output_type": "stream",
     "text": [
      "Timestep of fast data is: 50.0 ms\n",
      "Dataset of length 216000, with M = 17, permits 42 iterations.\n"
     ]
    },
    {
     "name": "stderr",
     "output_type": "stream",
     "text": [
      "100%|██████████| 42/42 [00:07<00:00,  5.96it/s]\n"
     ]
    },
    {
     "name": "stdout",
     "output_type": "stream",
     "text": [
      "Timestep of fast data is: 50.0 ms\n",
      "Dataset of length 216000, with M = 17, permits 42 iterations.\n"
     ]
    },
    {
     "name": "stderr",
     "output_type": "stream",
     "text": [
      "100%|██████████| 42/42 [00:07<00:00,  5.85it/s]\n"
     ]
    },
    {
     "name": "stdout",
     "output_type": "stream",
     "text": [
      "Timestep of fast data is: 50.0 ms\n",
      "Dataset of length 216000, with M = 17, permits 42 iterations.\n"
     ]
    },
    {
     "name": "stderr",
     "output_type": "stream",
     "text": [
      "100%|██████████| 42/42 [00:07<00:00,  5.83it/s]\n"
     ]
    },
    {
     "name": "stdout",
     "output_type": "stream",
     "text": [
      "Timestep of fast data is: 50.0 ms\n",
      "Dataset of length 216000, with M = 17, permits 42 iterations.\n"
     ]
    },
    {
     "name": "stderr",
     "output_type": "stream",
     "text": [
      "100%|██████████| 42/42 [00:07<00:00,  5.88it/s]\n"
     ]
    },
    {
     "name": "stdout",
     "output_type": "stream",
     "text": [
      "Timestep of fast data is: 50.0 ms\n",
      "Dataset of length 216000, with M = 17, permits 42 iterations.\n"
     ]
    },
    {
     "name": "stderr",
     "output_type": "stream",
     "text": [
      "100%|██████████| 42/42 [00:07<00:00,  5.79it/s]\n"
     ]
    },
    {
     "name": "stdout",
     "output_type": "stream",
     "text": [
      "Timestep of fast data is: 50.0 ms\n",
      "Dataset of length 216000, with M = 17, permits 42 iterations.\n"
     ]
    },
    {
     "name": "stderr",
     "output_type": "stream",
     "text": [
      "100%|██████████| 42/42 [00:07<00:00,  5.85it/s]\n"
     ]
    },
    {
     "name": "stdout",
     "output_type": "stream",
     "text": [
      "Timestep of fast data is: 50.0 ms\n",
      "Dataset of length 216000, with M = 17, permits 42 iterations.\n"
     ]
    },
    {
     "name": "stderr",
     "output_type": "stream",
     "text": [
      "100%|██████████| 42/42 [00:07<00:00,  5.89it/s]\n"
     ]
    },
    {
     "name": "stdout",
     "output_type": "stream",
     "text": [
      "Timestep of fast data is: 50.0 ms\n",
      "Dataset of length 216000, with M = 17, permits 42 iterations.\n"
     ]
    },
    {
     "name": "stderr",
     "output_type": "stream",
     "text": [
      "100%|██████████| 42/42 [00:07<00:00,  5.89it/s]\n"
     ]
    },
    {
     "name": "stdout",
     "output_type": "stream",
     "text": [
      "Timestep of fast data is: 50.0 ms\n",
      "Dataset of length 216000, with M = 17, permits 42 iterations.\n"
     ]
    },
    {
     "name": "stderr",
     "output_type": "stream",
     "text": [
      "100%|██████████| 42/42 [00:07<00:00,  5.76it/s]\n"
     ]
    },
    {
     "name": "stdout",
     "output_type": "stream",
     "text": [
      "Timestep of fast data is: 50.0 ms\n",
      "Dataset of length 216000, with M = 17, permits 42 iterations.\n"
     ]
    },
    {
     "name": "stderr",
     "output_type": "stream",
     "text": [
      "100%|██████████| 42/42 [00:07<00:00,  5.31it/s]\n"
     ]
    },
    {
     "name": "stdout",
     "output_type": "stream",
     "text": [
      "Timestep of fast data is: 50.0 ms\n",
      "Dataset of length 216000, with M = 17, permits 42 iterations.\n"
     ]
    },
    {
     "name": "stderr",
     "output_type": "stream",
     "text": [
      "100%|██████████| 42/42 [00:08<00:00,  4.96it/s]\n"
     ]
    },
    {
     "name": "stdout",
     "output_type": "stream",
     "text": [
      "Timestep of fast data is: 50.0 ms\n",
      "Dataset of length 216000, with M = 17, permits 42 iterations.\n"
     ]
    },
    {
     "name": "stderr",
     "output_type": "stream",
     "text": [
      "100%|██████████| 42/42 [00:07<00:00,  5.58it/s]\n"
     ]
    },
    {
     "name": "stdout",
     "output_type": "stream",
     "text": [
      "Timestep of fast data is: 50.0 ms\n",
      "Dataset of length 216000, with M = 17, permits 42 iterations.\n"
     ]
    },
    {
     "name": "stderr",
     "output_type": "stream",
     "text": [
      "100%|██████████| 42/42 [00:07<00:00,  5.80it/s]\n"
     ]
    },
    {
     "name": "stdout",
     "output_type": "stream",
     "text": [
      "Timestep of fast data is: 50.0 ms\n",
      "Dataset of length 216000, with M = 17, permits 42 iterations.\n"
     ]
    },
    {
     "name": "stderr",
     "output_type": "stream",
     "text": [
      "100%|██████████| 42/42 [00:07<00:00,  5.82it/s]\n"
     ]
    },
    {
     "name": "stdout",
     "output_type": "stream",
     "text": [
      "Timestep of fast data is: 50.0 ms\n",
      "Dataset of length 216000, with M = 17, permits 42 iterations.\n"
     ]
    },
    {
     "name": "stderr",
     "output_type": "stream",
     "text": [
      "100%|██████████| 42/42 [00:07<00:00,  5.92it/s]\n"
     ]
    },
    {
     "name": "stdout",
     "output_type": "stream",
     "text": [
      "Timestep of fast data is: 50.0 ms\n",
      "Dataset of length 216000, with M = 17, permits 42 iterations.\n"
     ]
    },
    {
     "name": "stderr",
     "output_type": "stream",
     "text": [
      "100%|██████████| 42/42 [00:07<00:00,  5.67it/s]\n"
     ]
    },
    {
     "name": "stdout",
     "output_type": "stream",
     "text": [
      "Timestep of fast data is: 50.0 ms\n",
      "Dataset of length 216000, with M = 17, permits 42 iterations.\n"
     ]
    },
    {
     "name": "stderr",
     "output_type": "stream",
     "text": [
      "100%|██████████| 42/42 [00:07<00:00,  5.76it/s]\n"
     ]
    },
    {
     "name": "stdout",
     "output_type": "stream",
     "text": [
      "Timestep of fast data is: 50.0 ms\n",
      "Dataset of length 216000, with M = 17, permits 42 iterations.\n"
     ]
    },
    {
     "name": "stderr",
     "output_type": "stream",
     "text": [
      "100%|██████████| 42/42 [00:07<00:00,  5.97it/s]\n"
     ]
    },
    {
     "name": "stdout",
     "output_type": "stream",
     "text": [
      "Timestep of fast data is: 50.0 ms\n",
      "Dataset of length 216000, with M = 17, permits 42 iterations.\n"
     ]
    },
    {
     "name": "stderr",
     "output_type": "stream",
     "text": [
      "100%|██████████| 42/42 [00:07<00:00,  5.49it/s]\n"
     ]
    },
    {
     "name": "stdout",
     "output_type": "stream",
     "text": [
      "Timestep of fast data is: 50.0 ms\n",
      "Dataset of length 216000, with M = 17, permits 42 iterations.\n"
     ]
    },
    {
     "name": "stderr",
     "output_type": "stream",
     "text": [
      "100%|██████████| 42/42 [00:07<00:00,  5.78it/s]\n"
     ]
    },
    {
     "name": "stdout",
     "output_type": "stream",
     "text": [
      "Timestep of fast data is: 50.0 ms\n",
      "Dataset of length 216000, with M = 17, permits 42 iterations.\n"
     ]
    },
    {
     "name": "stderr",
     "output_type": "stream",
     "text": [
      "100%|██████████| 42/42 [00:07<00:00,  5.74it/s]\n"
     ]
    },
    {
     "name": "stdout",
     "output_type": "stream",
     "text": [
      "Timestep of fast data is: 50.0 ms\n",
      "Dataset of length 216000, with M = 17, permits 42 iterations.\n"
     ]
    },
    {
     "name": "stderr",
     "output_type": "stream",
     "text": [
      "100%|██████████| 42/42 [00:07<00:00,  5.66it/s]\n"
     ]
    },
    {
     "name": "stdout",
     "output_type": "stream",
     "text": [
      "Timestep of fast data is: 50.0 ms\n",
      "Dataset of length 216000, with M = 17, permits 42 iterations.\n"
     ]
    },
    {
     "name": "stderr",
     "output_type": "stream",
     "text": [
      "100%|██████████| 42/42 [00:07<00:00,  5.85it/s]\n"
     ]
    },
    {
     "name": "stdout",
     "output_type": "stream",
     "text": [
      "Timestep of fast data is: 50.0 ms\n",
      "Dataset of length 216000, with M = 17, permits 42 iterations.\n"
     ]
    },
    {
     "name": "stderr",
     "output_type": "stream",
     "text": [
      "100%|██████████| 42/42 [00:07<00:00,  5.99it/s]\n"
     ]
    },
    {
     "name": "stdout",
     "output_type": "stream",
     "text": [
      "Timestep of fast data is: 50.0 ms\n",
      "Dataset of length 216000, with M = 17, permits 42 iterations.\n"
     ]
    },
    {
     "name": "stderr",
     "output_type": "stream",
     "text": [
      "100%|██████████| 42/42 [00:07<00:00,  5.76it/s]\n"
     ]
    }
   ],
   "source": [
    "mrd_uu_sos = fast_df_sos.groupby(pd.Grouper(freq='180min'))[['u', 'v', 'w']].apply(\n",
    "    lambda df: calculate_mrd_for_df(df.reset_index(), 'u', 'u', shift=2000, parallelism=20).assign(hour_group = f\"{df.index.min()} - {df.index.max()}\")\n",
    ")\n",
    "mrd_vv_sos = fast_df_sos.groupby(pd.Grouper(freq='180min'))[['u', 'v', 'w']].apply(\n",
    "    lambda df: calculate_mrd_for_df(df.reset_index(), 'v', 'v', shift=2000, parallelism=20).assign(hour_group = f\"{df.index.min()} - {df.index.max()}\")\n",
    ")\n",
    "mrd_ww_sos = fast_df_sos.groupby(pd.Grouper(freq='180min'))[['u', 'v', 'w']].apply(\n",
    "    lambda df: calculate_mrd_for_df(df.reset_index(), 'w', 'w', shift=2000, parallelism=20).assign(hour_group = f\"{df.index.min()} - {df.index.max()}\")\n",
    ")\n",
    "\n",
    "mrd_wtke_sos = fast_df_sos.groupby(pd.Grouper(freq='180min'))[['u', 'v', 'w', 'tke']].apply(\n",
    "    lambda df: calculate_mrd_for_df(df.reset_index(), 'w', 'tke', shift=2000, parallelism=20).assign(hour_group = f\"{df.index.min()} - {df.index.max()}\")\n",
    ")"
   ]
  },
  {
   "cell_type": "code",
   "execution_count": 20,
   "metadata": {},
   "outputs": [
    {
     "name": "stdout",
     "output_type": "stream",
     "text": [
      "Got data of length 1728000. using M = 15\n",
      "Timestep of fast data is: 50.0 ms\n",
      "Dataset of length 1728000, with M = 15, permits 1412 iterations.\n"
     ]
    },
    {
     "name": "stderr",
     "output_type": "stream",
     "text": [
      "100%|██████████| 1412/1412 [05:34<00:00,  4.22it/s]\n"
     ]
    }
   ],
   "source": [
    "mrd_wtke_sos = calculate_mrd_for_df(fast_df_sos.reset_index(), 'w', 'tke', M=15, shift=1200, parallelism=20)"
   ]
  },
  {
   "cell_type": "code",
   "execution_count": 21,
   "metadata": {},
   "outputs": [
    {
     "data": {
      "image/png": "[encoded data removed]",
      "text/plain": [
       "<Figure size 1000x400 with 2 Axes>"
      ]
     },
     "metadata": {},
     "output_type": "display_data"
    }
   ],
   "source": [
    "src = mrd_wtke_sos.copy()\n",
    "src['midpoint_time'] = src['start_time'] + (src['end_time'] - src['start_time']) / 2\n",
    "src = src[src.start_time.dt.hour >= 12]\n",
    "src = src.reset_index()\n",
    "ds = src.set_index(['midpoint_time', 'tau']).to_xarray()\n",
    "ds['Co'].plot.contourf(x='midpoint_time', y='tau', cmap='PuOr', levels=20, figsize=(10,4))\n",
    "plt.yscale('log')"
   ]
  },
  {
   "cell_type": "code",
   "execution_count": 22,
   "metadata": {},
   "outputs": [
    {
     "data": {
      "text/html": [
       "\n",
       "<style>\n",
       "  #altair-viz-d55790a4fadb4cb686d6cfd40aadb671.vega-embed {\n",
       "    width: 100%;\n",
       "    display: flex;\n",
       "  }\n",
       "\n",
       "  #altair-viz-d55790a4fadb4cb686d6cfd40aadb671.vega-embed details,\n",
       "  #altair-viz-d55790a4fadb4cb686d6cfd40aadb671.vega-embed details summary {\n",
       "    position: relative;\n",
       "  }\n",
       "</style>\n",
       "<div id=\"altair-viz-d55790a4fadb4cb686d6cfd40aadb671\"></div>\n",
       "<script type=\"text/javascript\">\n",
       "  var VEGA_DEBUG = (typeof VEGA_DEBUG == \"undefined\") ? {} : VEGA_DEBUG;\n",
       "  (function(spec, embedOpt){\n",
       "    let outputDiv = document.currentScript.previousElementSibling;\n",
       "    if (outputDiv.id !== \"altair-viz-d55790a4fadb4cb686d6cfd40aadb671\") {\n",
       "      outputDiv = document.getElementById(\"altair-viz-d55790a4fadb4cb686d6cfd40aadb671\");\n",
       "    }\n",
       "    const paths = {\n",
       "      \"vega\": \"https://cdn.jsdelivr.net/npm/vega@5?noext\",\n",
       "      \"vega-lib\": \"https://cdn.jsdelivr.net/npm/vega-lib?noext\",\n",
       "      \"vega-lite\": \"https://cdn.jsdelivr.net/npm/vega-lite@5.20.1?noext\",\n",
       "      \"vega-embed\": \"https://cdn.jsdelivr.net/npm/vega-embed@6?noext\",\n",
       "    };\n",
       "\n",
       "    function maybeLoadScript(lib, version) {\n",
       "      var key = `${lib.replace(\"-\", \"\")}_version`;\n",
       "      return (VEGA_DEBUG[key] == version) ?\n",
       "        Promise.resolve(paths[lib]) :\n",
       "        new Promise(function(resolve, reject) {\n",
       "          var s = document.createElement('script');\n",
       "          document.getElementsByTagName(\"head\")[0].appendChild(s);\n",
       "          s.async = true;\n",
       "          s.onload = () => {\n",
       "            VEGA_DEBUG[key] = version;\n",
       "            return resolve(paths[lib]);\n",
       "          };\n",
       "          s.onerror = () => reject(`Error loading script: ${paths[lib]}`);\n",
       "          s.src = paths[lib];\n",
       "        });\n",
       "    }\n",
       "\n",
       "    function showError(err) {\n",
       "      outputDiv.innerHTML = `<div class=\"error\" style=\"color:red;\">${err}</div>`;\n",
       "      throw err;\n",
       "    }\n",
       "\n",
       "    function displayChart(vegaEmbed) {\n",
       "      vegaEmbed(outputDiv, spec, embedOpt)\n",
       "        .catch(err => showError(`Javascript Error: ${err.message}<br>This usually means there's a typo in your chart specification. See the javascript console for the full traceback.`));\n",
       "    }\n",
       "\n",
       "    if(typeof define === \"function\" && define.amd) {\n",
       "      requirejs.config({paths});\n",
       "      require([\"vega-embed\"], displayChart, err => showError(`Error loading script: ${err.message}`));\n",
       "    } else {\n",
       "      maybeLoadScript(\"vega\", \"5\")\n",
       "        .then(() => maybeLoadScript(\"vega-lite\", \"5.20.1\"))\n",
       "        .then(() => maybeLoadScript(\"vega-embed\", \"6\"))\n",
       "        .catch(showError)\n",
       "        .then(() => displayChart(vegaEmbed));\n",
       "    }\n",
       "  })({\"config\": {\"view\": {\"continuousWidth\": 300, \"continuousHeight\": 300}}, \"hconcat\": [{\"data\": {\"url\": \"altair-data-a2237ae6a34c0aa7d3997c62a005036a.json\", \"format\": {\"type\": \"json\"}}, \"mark\": {\"type\": \"line\"}, \"encoding\": {\"color\": {\"field\": \"hour_group\", \"scale\": {\"scheme\": \"purpleorange\"}, \"type\": \"ordinal\"}, \"x\": {\"field\": \"tau\", \"scale\": {\"type\": \"log\"}, \"type\": \"quantitative\"}, \"y\": {\"aggregate\": \"mean\", \"field\": \"Co\", \"type\": \"quantitative\"}}, \"height\": 200, \"title\": \"3m uu\", \"width\": 200}, {\"data\": {\"url\": \"altair-data-94c336da0b8dfda079fb05e4038ff80a.json\", \"format\": {\"type\": \"json\"}}, \"mark\": {\"type\": \"line\"}, \"encoding\": {\"color\": {\"field\": \"hour_group\", \"scale\": {\"scheme\": \"purpleorange\"}, \"type\": \"ordinal\"}, \"x\": {\"field\": \"tau\", \"scale\": {\"type\": \"log\"}, \"type\": \"quantitative\"}, \"y\": {\"aggregate\": \"mean\", \"field\": \"Co\", \"type\": \"quantitative\"}}, \"height\": 200, \"title\": \"3m vv\", \"width\": 200}, {\"data\": {\"url\": \"altair-data-c281fb6f58245fc9ba7b9f0b7663004e.json\", \"format\": {\"type\": \"json\"}}, \"mark\": {\"type\": \"line\"}, \"encoding\": {\"color\": {\"field\": \"hour_group\", \"scale\": {\"scheme\": \"purpleorange\"}, \"type\": \"ordinal\"}, \"x\": {\"field\": \"tau\", \"scale\": {\"type\": \"log\"}, \"type\": \"quantitative\"}, \"y\": {\"aggregate\": \"mean\", \"field\": \"Co\", \"type\": \"quantitative\"}}, \"height\": 200, \"title\": \"3m ww\", \"width\": 200}], \"$schema\": \"https://vega.github.io/schema/vega-lite/v5.20.1.json\"}, {\"mode\": \"vega-lite\"});\n",
       "</script>"
      ],
      "text/plain": [
       "alt.HConcatChart(...)"
      ]
     },
     "execution_count": 22,
     "metadata": {},
     "output_type": "execute_result"
    }
   ],
   "source": [
    "alt.Chart(\n",
    "    mrd_uu_sos.reset_index()\n",
    ").mark_line().encode(\n",
    "    alt.X('tau:Q').scale(type='log'),\n",
    "    alt.Y('mean(Co):Q'),\n",
    "    alt.Color('hour_group:O').scale(scheme='purpleorange'),\n",
    ").properties(width=200, height=200, title='3m uu') | alt.Chart(\n",
    "    mrd_vv_sos.reset_index()\n",
    ").mark_line().encode(\n",
    "    alt.X('tau:Q').scale(type='log'),\n",
    "    alt.Y('mean(Co):Q'),\n",
    "    alt.Color('hour_group:O').scale(scheme='purpleorange'),\n",
    ").properties(width=200, height=200, title='3m vv') | alt.Chart(\n",
    "    mrd_ww_sos.reset_index()\n",
    ").mark_line().encode(\n",
    "    alt.X('tau:Q').scale(type='log'),\n",
    "    alt.Y('mean(Co):Q'),\n",
    "    alt.Color('hour_group:O').scale(scheme='purpleorange'),\n",
    ").properties(width=200, height=200, title='3m ww')"
   ]
  },
  {
   "cell_type": "code",
   "execution_count": 38,
   "metadata": {},
   "outputs": [
    {
     "name": "stdout",
     "output_type": "stream",
     "text": [
      "Timestep of fast data is: 50.0 ms\n",
      "Dataset of length 12000, with M = 13, permits 7 iterations.\n"
     ]
    },
    {
     "name": "stderr",
     "output_type": "stream",
     "text": [
      "100%|██████████| 7/7 [00:00<00:00, 6226.96it/s]\n"
     ]
    },
    {
     "name": "stdout",
     "output_type": "stream",
     "text": [
      "Timestep of fast data is: 50.0 ms\n",
      "Dataset of length 12000, with M = 13, permits 7 iterations.\n"
     ]
    },
    {
     "name": "stderr",
     "output_type": "stream",
     "text": [
      "100%|██████████| 7/7 [00:00<00:00, 4461.35it/s]\n"
     ]
    },
    {
     "name": "stdout",
     "output_type": "stream",
     "text": [
      "Timestep of fast data is: 50.0 ms\n",
      "Dataset of length 12000, with M = 13, permits 7 iterations.\n"
     ]
    },
    {
     "name": "stderr",
     "output_type": "stream",
     "text": [
      "100%|██████████| 7/7 [00:00<00:00, 9383.23it/s]\n"
     ]
    },
    {
     "name": "stdout",
     "output_type": "stream",
     "text": [
      "Timestep of fast data is: 50.0 ms\n",
      "Dataset of length 12000, with M = 13, permits 7 iterations.\n"
     ]
    },
    {
     "name": "stderr",
     "output_type": "stream",
     "text": [
      "100%|██████████| 7/7 [00:00<00:00, 11550.01it/s]\n"
     ]
    },
    {
     "name": "stdout",
     "output_type": "stream",
     "text": [
      "Timestep of fast data is: 50.0 ms\n",
      "Dataset of length 12000, with M = 13, permits 7 iterations.\n"
     ]
    },
    {
     "name": "stderr",
     "output_type": "stream",
     "text": [
      "100%|██████████| 7/7 [00:00<00:00, 5572.24it/s]\n"
     ]
    },
    {
     "name": "stdout",
     "output_type": "stream",
     "text": [
      "Timestep of fast data is: 50.0 ms\n",
      "Dataset of length 12000, with M = 13, permits 7 iterations.\n"
     ]
    },
    {
     "name": "stderr",
     "output_type": "stream",
     "text": [
      "100%|██████████| 7/7 [00:00<00:00, 10215.77it/s]\n"
     ]
    }
   ],
   "source": [
    "mrd_uw_sos = fast_df_sos.groupby(pd.Grouper(freq='180min'))[['u', 'v', 'w']].apply(\n",
    "    lambda df: calculate_mrd_for_df(df.reset_index(), 'u', 'w', shift=2000, parallelism=20).assign(hour_group = f\"{df.index.min()} - {df.index.max()}\")\n",
    ")"
   ]
  },
  {
   "cell_type": "code",
   "execution_count": 39,
   "metadata": {},
   "outputs": [],
   "source": [
    "mrd_uw_sos.hour_group = mrd_uw_sos.hour_group.str.replace('2023-04-09 ', '')"
   ]
  },
  {
   "cell_type": "code",
   "execution_count": 40,
   "metadata": {},
   "outputs": [
    {
     "data": {
      "text/html": [
       "\n",
       "<style>\n",
       "  #altair-viz-ce6b151a7a9741f995558e98fe2e8ce5.vega-embed {\n",
       "    width: 100%;\n",
       "    display: flex;\n",
       "  }\n",
       "\n",
       "  #altair-viz-ce6b151a7a9741f995558e98fe2e8ce5.vega-embed details,\n",
       "  #altair-viz-ce6b151a7a9741f995558e98fe2e8ce5.vega-embed details summary {\n",
       "    position: relative;\n",
       "  }\n",
       "</style>\n",
       "<div id=\"altair-viz-ce6b151a7a9741f995558e98fe2e8ce5\"></div>\n",
       "<script type=\"text/javascript\">\n",
       "  var VEGA_DEBUG = (typeof VEGA_DEBUG == \"undefined\") ? {} : VEGA_DEBUG;\n",
       "  (function(spec, embedOpt){\n",
       "    let outputDiv = document.currentScript.previousElementSibling;\n",
       "    if (outputDiv.id !== \"altair-viz-ce6b151a7a9741f995558e98fe2e8ce5\") {\n",
       "      outputDiv = document.getElementById(\"altair-viz-ce6b151a7a9741f995558e98fe2e8ce5\");\n",
       "    }\n",
       "    const paths = {\n",
       "      \"vega\": \"https://cdn.jsdelivr.net/npm/vega@5?noext\",\n",
       "      \"vega-lib\": \"https://cdn.jsdelivr.net/npm/vega-lib?noext\",\n",
       "      \"vega-lite\": \"https://cdn.jsdelivr.net/npm/vega-lite@5.20.1?noext\",\n",
       "      \"vega-embed\": \"https://cdn.jsdelivr.net/npm/vega-embed@6?noext\",\n",
       "    };\n",
       "\n",
       "    function maybeLoadScript(lib, version) {\n",
       "      var key = `${lib.replace(\"-\", \"\")}_version`;\n",
       "      return (VEGA_DEBUG[key] == version) ?\n",
       "        Promise.resolve(paths[lib]) :\n",
       "        new Promise(function(resolve, reject) {\n",
       "          var s = document.createElement('script');\n",
       "          document.getElementsByTagName(\"head\")[0].appendChild(s);\n",
       "          s.async = true;\n",
       "          s.onload = () => {\n",
       "            VEGA_DEBUG[key] = version;\n",
       "            return resolve(paths[lib]);\n",
       "          };\n",
       "          s.onerror = () => reject(`Error loading script: ${paths[lib]}`);\n",
       "          s.src = paths[lib];\n",
       "        });\n",
       "    }\n",
       "\n",
       "    function showError(err) {\n",
       "      outputDiv.innerHTML = `<div class=\"error\" style=\"color:red;\">${err}</div>`;\n",
       "      throw err;\n",
       "    }\n",
       "\n",
       "    function displayChart(vegaEmbed) {\n",
       "      vegaEmbed(outputDiv, spec, embedOpt)\n",
       "        .catch(err => showError(`Javascript Error: ${err.message}<br>This usually means there's a typo in your chart specification. See the javascript console for the full traceback.`));\n",
       "    }\n",
       "\n",
       "    if(typeof define === \"function\" && define.amd) {\n",
       "      requirejs.config({paths});\n",
       "      require([\"vega-embed\"], displayChart, err => showError(`Error loading script: ${err.message}`));\n",
       "    } else {\n",
       "      maybeLoadScript(\"vega\", \"5\")\n",
       "        .then(() => maybeLoadScript(\"vega-lite\", \"5.20.1\"))\n",
       "        .then(() => maybeLoadScript(\"vega-embed\", \"6\"))\n",
       "        .catch(showError)\n",
       "        .then(() => displayChart(vegaEmbed));\n",
       "    }\n",
       "  })({\"config\": {\"view\": {\"continuousWidth\": 300, \"continuousHeight\": 300}}, \"data\": {\"url\": \"altair-data-7c9e3d69dddbca5f6060234d33da42f0.json\", \"format\": {\"type\": \"json\"}}, \"mark\": {\"type\": \"line\"}, \"encoding\": {\"detail\": {\"field\": \"iteration\", \"type\": \"quantitative\"}, \"facet\": {\"field\": \"hour_group\", \"type\": \"ordinal\"}, \"tooltip\": {\"field\": \"hour_group\", \"type\": \"ordinal\"}, \"x\": {\"field\": \"tau\", \"scale\": {\"type\": \"log\"}, \"type\": \"quantitative\"}, \"y\": {\"field\": \"Co\", \"scale\": {\"domain\": [-0.1, 0.05]}, \"type\": \"quantitative\"}}, \"height\": 200, \"title\": \"sos\", \"width\": 200, \"$schema\": \"https://vega.github.io/schema/vega-lite/v5.20.1.json\"}, {\"mode\": \"vega-lite\"});\n",
       "</script>"
      ],
      "text/plain": [
       "alt.Chart(...)"
      ]
     },
     "execution_count": 40,
     "metadata": {},
     "output_type": "execute_result"
    }
   ],
   "source": [
    "daily_mrd_sos_chart = alt.Chart(\n",
    "    mrd_uw_sos.reset_index()\n",
    ").mark_line().encode(\n",
    "    alt.X('tau:Q').scale(type='log'),\n",
    "    alt.Y('mean(Co):Q').scale(domain = [-0.1, 0.05]),\n",
    "    alt.Color('hour_group:O'),\n",
    ").properties(width=200, height=200, title='sos')\n",
    "daily_mrd_sos_chart"
   ]
  },
  {
   "cell_type": "code",
   "execution_count": 121,
   "metadata": {},
   "outputs": [],
   "source": [
    "mrd_uw_sos['time_range'] = mrd_uw_sos.apply(\n",
    "    lambda row: str(row['start_time'].time()) + ' - ' + str(row['end_time'].time()),\n",
    "    axis=1\n",
    ")"
   ]
  },
  {
   "cell_type": "code",
   "execution_count": 124,
   "metadata": {},
   "outputs": [
    {
     "data": {
      "text/plain": [
       "array(['2023-04-18 00:00:00 - 2023-04-18 02:59:59.950000',\n",
       "       '2023-04-18 03:00:00 - 2023-04-18 05:59:59.950000',\n",
       "       '2023-04-18 06:00:00 - 2023-04-18 08:59:59.950000',\n",
       "       '2023-04-18 09:00:00 - 2023-04-18 11:59:59.950000',\n",
       "       '2023-04-18 12:00:00 - 2023-04-18 14:59:59.950000',\n",
       "       '2023-04-18 15:00:00 - 2023-04-18 17:59:59.950000',\n",
       "       '2023-04-18 18:00:00 - 2023-04-18 20:59:59.950000',\n",
       "       '2023-04-18 21:00:00 - 2023-04-18 23:59:59.950000'], dtype=object)"
      ]
     },
     "execution_count": 124,
     "metadata": {},
     "output_type": "execute_result"
    }
   ],
   "source": [
    "mrd_uw_sos.hour_group.unique()"
   ]
  },
  {
   "cell_type": "code",
   "execution_count": 130,
   "metadata": {},
   "outputs": [
    {
     "data": {
      "text/html": [
       "\n",
       "<style>\n",
       "  #altair-viz-e5275bc036324e9d8812ae9428aeb3d1.vega-embed {\n",
       "    width: 100%;\n",
       "    display: flex;\n",
       "  }\n",
       "\n",
       "  #altair-viz-e5275bc036324e9d8812ae9428aeb3d1.vega-embed details,\n",
       "  #altair-viz-e5275bc036324e9d8812ae9428aeb3d1.vega-embed details summary {\n",
       "    position: relative;\n",
       "  }\n",
       "</style>\n",
       "<div id=\"altair-viz-e5275bc036324e9d8812ae9428aeb3d1\"></div>\n",
       "<script type=\"text/javascript\">\n",
       "  var VEGA_DEBUG = (typeof VEGA_DEBUG == \"undefined\") ? {} : VEGA_DEBUG;\n",
       "  (function(spec, embedOpt){\n",
       "    let outputDiv = document.currentScript.previousElementSibling;\n",
       "    if (outputDiv.id !== \"altair-viz-e5275bc036324e9d8812ae9428aeb3d1\") {\n",
       "      outputDiv = document.getElementById(\"altair-viz-e5275bc036324e9d8812ae9428aeb3d1\");\n",
       "    }\n",
       "    const paths = {\n",
       "      \"vega\": \"https://cdn.jsdelivr.net/npm/vega@5?noext\",\n",
       "      \"vega-lib\": \"https://cdn.jsdelivr.net/npm/vega-lib?noext\",\n",
       "      \"vega-lite\": \"https://cdn.jsdelivr.net/npm/vega-lite@5.20.1?noext\",\n",
       "      \"vega-embed\": \"https://cdn.jsdelivr.net/npm/vega-embed@6?noext\",\n",
       "    };\n",
       "\n",
       "    function maybeLoadScript(lib, version) {\n",
       "      var key = `${lib.replace(\"-\", \"\")}_version`;\n",
       "      return (VEGA_DEBUG[key] == version) ?\n",
       "        Promise.resolve(paths[lib]) :\n",
       "        new Promise(function(resolve, reject) {\n",
       "          var s = document.createElement('script');\n",
       "          document.getElementsByTagName(\"head\")[0].appendChild(s);\n",
       "          s.async = true;\n",
       "          s.onload = () => {\n",
       "            VEGA_DEBUG[key] = version;\n",
       "            return resolve(paths[lib]);\n",
       "          };\n",
       "          s.onerror = () => reject(`Error loading script: ${paths[lib]}`);\n",
       "          s.src = paths[lib];\n",
       "        });\n",
       "    }\n",
       "\n",
       "    function showError(err) {\n",
       "      outputDiv.innerHTML = `<div class=\"error\" style=\"color:red;\">${err}</div>`;\n",
       "      throw err;\n",
       "    }\n",
       "\n",
       "    function displayChart(vegaEmbed) {\n",
       "      vegaEmbed(outputDiv, spec, embedOpt)\n",
       "        .catch(err => showError(`Javascript Error: ${err.message}<br>This usually means there's a typo in your chart specification. See the javascript console for the full traceback.`));\n",
       "    }\n",
       "\n",
       "    if(typeof define === \"function\" && define.amd) {\n",
       "      requirejs.config({paths});\n",
       "      require([\"vega-embed\"], displayChart, err => showError(`Error loading script: ${err.message}`));\n",
       "    } else {\n",
       "      maybeLoadScript(\"vega\", \"5\")\n",
       "        .then(() => maybeLoadScript(\"vega-lite\", \"5.20.1\"))\n",
       "        .then(() => maybeLoadScript(\"vega-embed\", \"6\"))\n",
       "        .catch(showError)\n",
       "        .then(() => displayChart(vegaEmbed));\n",
       "    }\n",
       "  })({\"config\": {\"view\": {\"continuousWidth\": 300, \"continuousHeight\": 300}}, \"data\": {\"url\": \"altair-data-ada3d17521c72e6cdb0769da6a95d84a.json\", \"format\": {\"type\": \"json\"}}, \"mark\": {\"type\": \"line\"}, \"encoding\": {\"color\": {\"field\": \"time_range\", \"scale\": {\"scheme\": \"purpleorange\"}, \"type\": \"ordinal\"}, \"x\": {\"field\": \"tau\", \"scale\": {\"type\": \"log\"}, \"type\": \"quantitative\"}, \"y\": {\"field\": \"Co\", \"type\": \"quantitative\"}}, \"height\": 500, \"title\": \"sos\", \"width\": 500, \"$schema\": \"https://vega.github.io/schema/vega-lite/v5.20.1.json\"}, {\"mode\": \"vega-lite\"});\n",
       "</script>"
      ],
      "text/plain": [
       "alt.Chart(...)"
      ]
     },
     "execution_count": 130,
     "metadata": {},
     "output_type": "execute_result"
    }
   ],
   "source": [
    "src = mrd_uw_sos.query(\"\"\"\n",
    "        hour_group == '2023-04-18 15:00:00 - 2023-04-18 17:59:59.950000'\n",
    "    \"\"\").reset_index()\n",
    "alt.Chart(\n",
    "    src.reset_index()\n",
    ").mark_line().encode(\n",
    "    alt.X('tau:Q').scale(type='log'),\n",
    "    alt.Y('Co:Q'),\n",
    "    alt.Color('time_range:O').scale(scheme='purpleorange'),\n",
    ").properties(width=500, height=500, title='sos')"
   ]
  },
  {
   "cell_type": "code",
   "execution_count": 123,
   "metadata": {},
   "outputs": [
    {
     "data": {
      "text/html": [
       "\n",
       "<style>\n",
       "  #altair-viz-8afd7228ebfe435897b20c0e78531351.vega-embed {\n",
       "    width: 100%;\n",
       "    display: flex;\n",
       "  }\n",
       "\n",
       "  #altair-viz-8afd7228ebfe435897b20c0e78531351.vega-embed details,\n",
       "  #altair-viz-8afd7228ebfe435897b20c0e78531351.vega-embed details summary {\n",
       "    position: relative;\n",
       "  }\n",
       "</style>\n",
       "<div id=\"altair-viz-8afd7228ebfe435897b20c0e78531351\"></div>\n",
       "<script type=\"text/javascript\">\n",
       "  var VEGA_DEBUG = (typeof VEGA_DEBUG == \"undefined\") ? {} : VEGA_DEBUG;\n",
       "  (function(spec, embedOpt){\n",
       "    let outputDiv = document.currentScript.previousElementSibling;\n",
       "    if (outputDiv.id !== \"altair-viz-8afd7228ebfe435897b20c0e78531351\") {\n",
       "      outputDiv = document.getElementById(\"altair-viz-8afd7228ebfe435897b20c0e78531351\");\n",
       "    }\n",
       "    const paths = {\n",
       "      \"vega\": \"https://cdn.jsdelivr.net/npm/vega@5?noext\",\n",
       "      \"vega-lib\": \"https://cdn.jsdelivr.net/npm/vega-lib?noext\",\n",
       "      \"vega-lite\": \"https://cdn.jsdelivr.net/npm/vega-lite@5.20.1?noext\",\n",
       "      \"vega-embed\": \"https://cdn.jsdelivr.net/npm/vega-embed@6?noext\",\n",
       "    };\n",
       "\n",
       "    function maybeLoadScript(lib, version) {\n",
       "      var key = `${lib.replace(\"-\", \"\")}_version`;\n",
       "      return (VEGA_DEBUG[key] == version) ?\n",
       "        Promise.resolve(paths[lib]) :\n",
       "        new Promise(function(resolve, reject) {\n",
       "          var s = document.createElement('script');\n",
       "          document.getElementsByTagName(\"head\")[0].appendChild(s);\n",
       "          s.async = true;\n",
       "          s.onload = () => {\n",
       "            VEGA_DEBUG[key] = version;\n",
       "            return resolve(paths[lib]);\n",
       "          };\n",
       "          s.onerror = () => reject(`Error loading script: ${paths[lib]}`);\n",
       "          s.src = paths[lib];\n",
       "        });\n",
       "    }\n",
       "\n",
       "    function showError(err) {\n",
       "      outputDiv.innerHTML = `<div class=\"error\" style=\"color:red;\">${err}</div>`;\n",
       "      throw err;\n",
       "    }\n",
       "\n",
       "    function displayChart(vegaEmbed) {\n",
       "      vegaEmbed(outputDiv, spec, embedOpt)\n",
       "        .catch(err => showError(`Javascript Error: ${err.message}<br>This usually means there's a typo in your chart specification. See the javascript console for the full traceback.`));\n",
       "    }\n",
       "\n",
       "    if(typeof define === \"function\" && define.amd) {\n",
       "      requirejs.config({paths});\n",
       "      require([\"vega-embed\"], displayChart, err => showError(`Error loading script: ${err.message}`));\n",
       "    } else {\n",
       "      maybeLoadScript(\"vega\", \"5\")\n",
       "        .then(() => maybeLoadScript(\"vega-lite\", \"5.20.1\"))\n",
       "        .then(() => maybeLoadScript(\"vega-embed\", \"6\"))\n",
       "        .catch(showError)\n",
       "        .then(() => displayChart(vegaEmbed));\n",
       "    }\n",
       "  })({\"config\": {\"view\": {\"continuousWidth\": 300, \"continuousHeight\": 300}}, \"data\": {\"url\": \"altair-data-123ab676da95f9e206120f08d95879f8.json\", \"format\": {\"type\": \"json\"}}, \"mark\": {\"type\": \"line\"}, \"encoding\": {\"color\": {\"field\": \"time_range\", \"scale\": {\"scheme\": \"purpleorange\"}, \"type\": \"ordinal\"}, \"x\": {\"field\": \"tau\", \"scale\": {\"type\": \"log\"}, \"type\": \"quantitative\"}, \"y\": {\"field\": \"Co\", \"type\": \"quantitative\"}}, \"height\": 500, \"title\": \"sos\", \"width\": 500, \"$schema\": \"https://vega.github.io/schema/vega-lite/v5.20.1.json\"}, {\"mode\": \"vega-lite\"});\n",
       "</script>"
      ],
      "text/plain": [
       "alt.Chart(...)"
      ]
     },
     "execution_count": 123,
     "metadata": {},
     "output_type": "execute_result"
    }
   ],
   "source": [
    "src = mrd_uw_sos.query(\"\"\"\n",
    "        hour_group == '2023-04-18 18:00:00 - 2023-04-18 20:59:59.950000'\n",
    "    \"\"\").reset_index()\n",
    "alt.Chart(\n",
    "    src.reset_index()\n",
    ").mark_line().encode(\n",
    "    alt.X('tau:Q').scale(type='log'),\n",
    "    alt.Y('Co:Q'),\n",
    "    alt.Color('time_range:O').scale(scheme='purpleorange'),\n",
    ").properties(width=500, height=500, title='sos')"
   ]
  },
  {
   "cell_type": "code",
   "execution_count": null,
   "metadata": {},
   "outputs": [],
   "source": []
  },
  {
   "cell_type": "markdown",
   "metadata": {},
   "source": [
    "# Plot three sites comparison plot"
   ]
  },
  {
   "cell_type": "code",
   "execution_count": 99,
   "metadata": {},
   "outputs": [
    {
     "data": {
      "text/html": [
       "\n",
       "<style>\n",
       "  #altair-viz-5538ed7a4a69477aa500a612d68aaf9b.vega-embed {\n",
       "    width: 100%;\n",
       "    display: flex;\n",
       "  }\n",
       "\n",
       "  #altair-viz-5538ed7a4a69477aa500a612d68aaf9b.vega-embed details,\n",
       "  #altair-viz-5538ed7a4a69477aa500a612d68aaf9b.vega-embed details summary {\n",
       "    position: relative;\n",
       "  }\n",
       "</style>\n",
       "<div id=\"altair-viz-5538ed7a4a69477aa500a612d68aaf9b\"></div>\n",
       "<script type=\"text/javascript\">\n",
       "  var VEGA_DEBUG = (typeof VEGA_DEBUG == \"undefined\") ? {} : VEGA_DEBUG;\n",
       "  (function(spec, embedOpt){\n",
       "    let outputDiv = document.currentScript.previousElementSibling;\n",
       "    if (outputDiv.id !== \"altair-viz-5538ed7a4a69477aa500a612d68aaf9b\") {\n",
       "      outputDiv = document.getElementById(\"altair-viz-5538ed7a4a69477aa500a612d68aaf9b\");\n",
       "    }\n",
       "    const paths = {\n",
       "      \"vega\": \"https://cdn.jsdelivr.net/npm/vega@5?noext\",\n",
       "      \"vega-lib\": \"https://cdn.jsdelivr.net/npm/vega-lib?noext\",\n",
       "      \"vega-lite\": \"https://cdn.jsdelivr.net/npm/vega-lite@5.20.1?noext\",\n",
       "      \"vega-embed\": \"https://cdn.jsdelivr.net/npm/vega-embed@6?noext\",\n",
       "    };\n",
       "\n",
       "    function maybeLoadScript(lib, version) {\n",
       "      var key = `${lib.replace(\"-\", \"\")}_version`;\n",
       "      return (VEGA_DEBUG[key] == version) ?\n",
       "        Promise.resolve(paths[lib]) :\n",
       "        new Promise(function(resolve, reject) {\n",
       "          var s = document.createElement('script');\n",
       "          document.getElementsByTagName(\"head\")[0].appendChild(s);\n",
       "          s.async = true;\n",
       "          s.onload = () => {\n",
       "            VEGA_DEBUG[key] = version;\n",
       "            return resolve(paths[lib]);\n",
       "          };\n",
       "          s.onerror = () => reject(`Error loading script: ${paths[lib]}`);\n",
       "          s.src = paths[lib];\n",
       "        });\n",
       "    }\n",
       "\n",
       "    function showError(err) {\n",
       "      outputDiv.innerHTML = `<div class=\"error\" style=\"color:red;\">${err}</div>`;\n",
       "      throw err;\n",
       "    }\n",
       "\n",
       "    function displayChart(vegaEmbed) {\n",
       "      vegaEmbed(outputDiv, spec, embedOpt)\n",
       "        .catch(err => showError(`Javascript Error: ${err.message}<br>This usually means there's a typo in your chart specification. See the javascript console for the full traceback.`));\n",
       "    }\n",
       "\n",
       "    if(typeof define === \"function\" && define.amd) {\n",
       "      requirejs.config({paths});\n",
       "      require([\"vega-embed\"], displayChart, err => showError(`Error loading script: ${err.message}`));\n",
       "    } else {\n",
       "      maybeLoadScript(\"vega\", \"5\")\n",
       "        .then(() => maybeLoadScript(\"vega-lite\", \"5.20.1\"))\n",
       "        .then(() => maybeLoadScript(\"vega-embed\", \"6\"))\n",
       "        .catch(showError)\n",
       "        .then(() => displayChart(vegaEmbed));\n",
       "    }\n",
       "  })({\"config\": {\"view\": {\"continuousWidth\": 300, \"continuousHeight\": 300}}, \"vconcat\": [{\"data\": {\"url\": \"altair-data-2ae1371d9acec42a4934833e14bd5b2b.json\", \"format\": {\"type\": \"json\"}}, \"mark\": {\"type\": \"line\"}, \"encoding\": {\"color\": {\"field\": \"hour_group\", \"scale\": {\"scheme\": \"purpleorange\"}, \"type\": \"ordinal\"}, \"x\": {\"field\": \"tau\", \"scale\": {\"type\": \"log\"}, \"type\": \"quantitative\"}, \"y\": {\"aggregate\": \"mean\", \"field\": \"Co\", \"type\": \"quantitative\"}}, \"height\": 200, \"title\": \"splash\", \"width\": 200}, {\"data\": {\"url\": \"altair-data-b8313d2636f0998477a8ed060d101caa.json\", \"format\": {\"type\": \"json\"}}, \"mark\": {\"type\": \"line\"}, \"encoding\": {\"color\": {\"field\": \"hour_group\", \"scale\": {\"scheme\": \"purpleorange\"}, \"type\": \"ordinal\"}, \"x\": {\"field\": \"tau\", \"scale\": {\"type\": \"log\"}, \"type\": \"quantitative\"}, \"y\": {\"aggregate\": \"mean\", \"field\": \"Co\", \"type\": \"quantitative\"}}, \"height\": 200, \"title\": \"sail\", \"width\": 200}, {\"data\": {\"url\": \"altair-data-d436c23a7142cb01a137b75c08027dd2.json\", \"format\": {\"type\": \"json\"}}, \"mark\": {\"type\": \"line\"}, \"encoding\": {\"color\": {\"field\": \"hour_group\", \"scale\": {\"scheme\": \"purpleorange\"}, \"type\": \"ordinal\"}, \"x\": {\"field\": \"tau\", \"scale\": {\"type\": \"log\"}, \"type\": \"quantitative\"}, \"y\": {\"aggregate\": \"mean\", \"field\": \"Co\", \"scale\": {\"domain\": [-0.1, 0.05]}, \"type\": \"quantitative\"}}, \"height\": 200, \"title\": \"sos\", \"width\": 200}], \"resolve\": {\"scale\": {\"color\": \"independent\", \"x\": \"shared\", \"y\": \"shared\"}}, \"$schema\": \"https://vega.github.io/schema/vega-lite/v5.20.1.json\"}, {\"mode\": \"vega-lite\"});\n",
       "</script>"
      ],
      "text/plain": [
       "alt.VConcatChart(...)"
      ]
     },
     "execution_count": 99,
     "metadata": {},
     "output_type": "execute_result"
    }
   ],
   "source": [
    "(\n",
    "    daily_mrd_splash_chart & daily_mrd_sail_chart & daily_mrd_sos_chart\n",
    ").resolve_scale(\n",
    "    color='independent',\n",
    "    x='shared',\n",
    "    y='shared'\n",
    ")"
   ]
  },
  {
   "cell_type": "markdown",
   "metadata": {},
   "source": [
    "# Calculate MRDs for April 18 1500-1800, at SOS, multiple heights"
   ]
  },
  {
   "cell_type": "code",
   "execution_count": 135,
   "metadata": {},
   "outputs": [],
   "source": [
    "fast_df_sos_1500_1800 = fast_df_sos_all_data.loc[f'{DATE_LOCAL} 1500': f'{DATE_LOCAL} 1800']\n",
    "# fast_df_sos_1500_1800 = fast_df_sos_all_data.loc[f'{DATE_LOCAL} 1800': f'{DATE_LOCAL} 2100']\n",
    "# fast_df_sos_1500_1800 = fast_df_sos_all_data.loc[f'{DATE_LOCAL} 1200': f'{DATE_LOCAL} 1500']\n",
    "# fast_df_sos_1500_1800 = fast_df_sos_all_data.loc[f'{DATE_LOCAL} 0000': f'{DATE_LOCAL} 0300']"
   ]
  },
  {
   "cell_type": "code",
   "execution_count": 136,
   "metadata": {},
   "outputs": [
    {
     "name": "stdout",
     "output_type": "stream",
     "text": [
      "Processing height: 3m\n",
      "Means after 1st rotation: 1.8745301 -1.3938046e-07 -0.018657666\n",
      "Means after 2nd rotation: 1.8746231 -1.3938046e-07 -8.4302704e-10\n",
      "Timestep of fast data is: 50.0 ms\n",
      "Dataset of length 217200, with M = 17, permits 43 iterations.\n"
     ]
    },
    {
     "name": "stderr",
     "output_type": "stream",
     "text": [
      "  0%|          | 0/43 [00:00<?, ?it/s]"
     ]
    },
    {
     "name": "stderr",
     "output_type": "stream",
     "text": [
      "100%|██████████| 43/43 [00:12<00:00,  3.31it/s]\n"
     ]
    },
    {
     "name": "stdout",
     "output_type": "stream",
     "text": [
      "Processing height: 5m\n",
      "Means after 1st rotation: 1.9812292 -1.3038817e-07 -0.047928836\n",
      "Means after 2nd rotation: 1.9818088 -1.3038817e-07 -1.5455495e-08\n",
      "Timestep of fast data is: 50.0 ms\n",
      "Dataset of length 217200, with M = 17, permits 43 iterations.\n"
     ]
    },
    {
     "name": "stderr",
     "output_type": "stream",
     "text": [
      "100%|██████████| 43/43 [00:07<00:00,  5.51it/s]\n"
     ]
    },
    {
     "name": "stdout",
     "output_type": "stream",
     "text": [
      "Processing height: 10m\n",
      "Means after 1st rotation: 2.0202928 -2.2255914e-07 -0.11310487\n",
      "Means after 2nd rotation: 2.023456 -2.2255914e-07 -1.124036e-09\n",
      "Timestep of fast data is: 50.0 ms\n",
      "Dataset of length 217200, with M = 17, permits 43 iterations.\n"
     ]
    },
    {
     "name": "stderr",
     "output_type": "stream",
     "text": [
      "100%|██████████| 43/43 [00:07<00:00,  5.79it/s]\n"
     ]
    },
    {
     "name": "stdout",
     "output_type": "stream",
     "text": [
      "Processing height: 15m\n",
      "Means after 1st rotation: 1.9361435 8.542674e-08 -0.15509997\n",
      "Means after 2nd rotation: 1.9423461 8.542674e-08 1.0116325e-08\n",
      "Timestep of fast data is: 50.0 ms\n",
      "Dataset of length 217200, with M = 17, permits 43 iterations.\n"
     ]
    },
    {
     "name": "stderr",
     "output_type": "stream",
     "text": [
      "100%|██████████| 43/43 [00:07<00:00,  5.68it/s]\n"
     ]
    },
    {
     "name": "stdout",
     "output_type": "stream",
     "text": [
      "Processing height: 20m\n",
      "Means after 1st rotation: 1.9239379 -8.767481e-08 -0.22260587\n",
      "Means after 2nd rotation: 1.9367732 -8.767481e-08 -2.2480721e-08\n",
      "Timestep of fast data is: 50.0 ms\n",
      "Dataset of length 217200, with M = 17, permits 43 iterations.\n"
     ]
    },
    {
     "name": "stderr",
     "output_type": "stream",
     "text": [
      "100%|██████████| 43/43 [00:07<00:00,  5.68it/s]\n"
     ]
    }
   ],
   "source": [
    "mrds_df_ls = []\n",
    "for h in [3,5,10,15,20]:\n",
    "    print(f\"Processing height: {h}m\")\n",
    "    fast_df_sos_oneheight = fast_df_sos_1500_1800[[f'u_{h}m_c', f'v_{h}m_c', f'w_{h}m_c']].rename(columns={\n",
    "        f'u_{h}m_c': 'u',\n",
    "        f'v_{h}m_c': 'v',\n",
    "        f'w_{h}m_c': 'w',\n",
    "    })\n",
    "    fast_df_sos_oneheight = FastDataSAIL.double_rotation(fast_df_sos_oneheight, 'u', 'v', 'w')\n",
    "    fast_df_sos_oneheight['u'] = fast_df_sos_oneheight['u'].interpolate()\n",
    "    fast_df_sos_oneheight['v'] = fast_df_sos_oneheight['v'].interpolate()\n",
    "    fast_df_sos_oneheight['w'] = fast_df_sos_oneheight['w'].interpolate()\n",
    "    mrds_df_ls.append(\n",
    "        calculate_mrd_for_df(\n",
    "            fast_df_sos_oneheight.reset_index(), 'u', 'w', shift=2000, parallelism=20\n",
    "        ).assign(\n",
    "            height = h\n",
    "        )\n",
    "    )"
   ]
  },
  {
   "cell_type": "code",
   "execution_count": 140,
   "metadata": {},
   "outputs": [
    {
     "data": {
      "text/html": [
       "\n",
       "<style>\n",
       "  #altair-viz-6581b3a0928c4ea59d1fce142126bcb9.vega-embed {\n",
       "    width: 100%;\n",
       "    display: flex;\n",
       "  }\n",
       "\n",
       "  #altair-viz-6581b3a0928c4ea59d1fce142126bcb9.vega-embed details,\n",
       "  #altair-viz-6581b3a0928c4ea59d1fce142126bcb9.vega-embed details summary {\n",
       "    position: relative;\n",
       "  }\n",
       "</style>\n",
       "<div id=\"altair-viz-6581b3a0928c4ea59d1fce142126bcb9\"></div>\n",
       "<script type=\"text/javascript\">\n",
       "  var VEGA_DEBUG = (typeof VEGA_DEBUG == \"undefined\") ? {} : VEGA_DEBUG;\n",
       "  (function(spec, embedOpt){\n",
       "    let outputDiv = document.currentScript.previousElementSibling;\n",
       "    if (outputDiv.id !== \"altair-viz-6581b3a0928c4ea59d1fce142126bcb9\") {\n",
       "      outputDiv = document.getElementById(\"altair-viz-6581b3a0928c4ea59d1fce142126bcb9\");\n",
       "    }\n",
       "    const paths = {\n",
       "      \"vega\": \"https://cdn.jsdelivr.net/npm/vega@5?noext\",\n",
       "      \"vega-lib\": \"https://cdn.jsdelivr.net/npm/vega-lib?noext\",\n",
       "      \"vega-lite\": \"https://cdn.jsdelivr.net/npm/vega-lite@5.20.1?noext\",\n",
       "      \"vega-embed\": \"https://cdn.jsdelivr.net/npm/vega-embed@6?noext\",\n",
       "    };\n",
       "\n",
       "    function maybeLoadScript(lib, version) {\n",
       "      var key = `${lib.replace(\"-\", \"\")}_version`;\n",
       "      return (VEGA_DEBUG[key] == version) ?\n",
       "        Promise.resolve(paths[lib]) :\n",
       "        new Promise(function(resolve, reject) {\n",
       "          var s = document.createElement('script');\n",
       "          document.getElementsByTagName(\"head\")[0].appendChild(s);\n",
       "          s.async = true;\n",
       "          s.onload = () => {\n",
       "            VEGA_DEBUG[key] = version;\n",
       "            return resolve(paths[lib]);\n",
       "          };\n",
       "          s.onerror = () => reject(`Error loading script: ${paths[lib]}`);\n",
       "          s.src = paths[lib];\n",
       "        });\n",
       "    }\n",
       "\n",
       "    function showError(err) {\n",
       "      outputDiv.innerHTML = `<div class=\"error\" style=\"color:red;\">${err}</div>`;\n",
       "      throw err;\n",
       "    }\n",
       "\n",
       "    function displayChart(vegaEmbed) {\n",
       "      vegaEmbed(outputDiv, spec, embedOpt)\n",
       "        .catch(err => showError(`Javascript Error: ${err.message}<br>This usually means there's a typo in your chart specification. See the javascript console for the full traceback.`));\n",
       "    }\n",
       "\n",
       "    if(typeof define === \"function\" && define.amd) {\n",
       "      requirejs.config({paths});\n",
       "      require([\"vega-embed\"], displayChart, err => showError(`Error loading script: ${err.message}`));\n",
       "    } else {\n",
       "      maybeLoadScript(\"vega\", \"5\")\n",
       "        .then(() => maybeLoadScript(\"vega-lite\", \"5.20.1\"))\n",
       "        .then(() => maybeLoadScript(\"vega-embed\", \"6\"))\n",
       "        .catch(showError)\n",
       "        .then(() => displayChart(vegaEmbed));\n",
       "    }\n",
       "  })({\"config\": {\"view\": {\"continuousWidth\": 300, \"continuousHeight\": 300}}, \"data\": {\"url\": \"altair-data-0fec12cb2dbbc566c9e73da57254ddc6.json\", \"format\": {\"type\": \"json\"}}, \"mark\": {\"type\": \"line\", \"point\": true}, \"encoding\": {\"color\": {\"field\": \"start_time\", \"type\": \"ordinal\"}, \"row\": {\"field\": \"height\", \"type\": \"ordinal\"}, \"tooltip\": {\"field\": \"height\", \"type\": \"ordinal\"}, \"x\": {\"field\": \"tau\", \"scale\": {\"type\": \"log\"}, \"type\": \"quantitative\"}, \"y\": {\"field\": \"Co\", \"type\": \"quantitative\"}}, \"height\": 100, \"$schema\": \"https://vega.github.io/schema/vega-lite/v5.20.1.json\"}, {\"mode\": \"vega-lite\"});\n",
       "</script>"
      ],
      "text/plain": [
       "alt.Chart(...)"
      ]
     },
     "execution_count": 140,
     "metadata": {},
     "output_type": "execute_result"
    }
   ],
   "source": [
    "alt.Chart(\n",
    "    pd.concat(mrds_df_ls).query(\"height > 2\")\n",
    ").mark_line(point=True).encode(\n",
    "    alt.X('tau:Q').scale(type='log'),\n",
    "    alt.Y('Co:Q'),\n",
    "    alt.Color('start_time:O'),\n",
    "    alt.Row('height:O'),\n",
    "    tooltip = 'height:O',\n",
    ").properties(height=100)"
   ]
  },
  {
   "cell_type": "markdown",
   "metadata": {},
   "source": [
    "## Rotate into pre-determined wind direction"
   ]
  },
  {
   "cell_type": "code",
   "execution_count": null,
   "metadata": {},
   "outputs": [],
   "source": [
    "def double_rotation(df, u_col, v_col, w_col):\n",
    "        # FIRST ROTATION\n",
    "        mean_u = df[u_col].mean()\n",
    "        mean_v = df[v_col].mean()\n",
    "        theta = np.arctan2(mean_v, mean_u)\n",
    "        adj_u = df[u_col]*np.cos(theta) + df[v_col]*np.sin(theta)\n",
    "        adj_v = -df[u_col]*np.sin(theta) + df[v_col]*np.cos(theta)\n",
    "        df[u_col] = adj_u\n",
    "        df[v_col] = adj_v\n",
    "        print(\n",
    "            'Means after 1st rotation:',\n",
    "            df[u_col].mean(),\n",
    "            df[v_col].mean(),\n",
    "            df[w_col].mean(),\n",
    "        )\n",
    "\n",
    "        # SECOND ROTATION\n",
    "        mean_u = df[u_col].mean()\n",
    "        mean_w = df[w_col].mean()\n",
    "        phi = np.arctan2(mean_w, mean_u)\n",
    "        adj_u = df[u_col]*np.cos(phi) + df[w_col]*np.sin(phi)\n",
    "        adj_w = - df[u_col]*np.sin(phi) + df[w_col]*np.cos(phi)\n",
    "        df[u_col] = adj_u\n",
    "        df[w_col] = adj_w\n",
    "        print(\n",
    "            'Means after 2nd rotation:',\n",
    "            df[u_col].mean(),\n",
    "            df[v_col].mean(),\n",
    "            df[w_col].mean(),\n",
    "        )\n",
    "        return df"
   ]
  },
  {
   "cell_type": "code",
   "execution_count": null,
   "metadata": {},
   "outputs": [],
   "source": [
    "sos_file_list = sorted(np.array([\n",
    "    [f for f in glob.glob(\n",
    "        os.path.join(DATA_DIR, \"sosqc_fast/isfs_sos_qc_geo_tiltcor_hr_v2_**.nc\")\n",
    "    ) if d in f]\n",
    "    for d in DATES\n",
    "]).flatten())\n",
    "\n",
    "fast_df_sos_all_data = fast_data_files_to_dataframe(sos_file_list, rotation='none')\n",
    "fast_df_sos_all_data = utils.modify_df_timezone(fast_df_sos_all_data, 'UTC', 'US/Mountain')\n",
    "fast_df_sos_all_data = fast_df_sos_all_data.set_index('time').loc[DATE_LOCAL]\n",
    "fast_df_sos = fast_df_sos_all_data[['u_3m_c', 'v_3m_c', 'w_3m_c']].rename(columns={\n",
    "    'u_3m_c': 'u',\n",
    "    'v_3m_c': 'v',\n",
    "    'w_3m_c': 'w',\n",
    "})"
   ]
  },
  {
   "cell_type": "markdown",
   "metadata": {},
   "source": [
    "# Calculate integral length scales for all datasets"
   ]
  },
  {
   "cell_type": "markdown",
   "metadata": {},
   "source": [
    "## For discreet periods"
   ]
  },
  {
   "cell_type": "code",
   "execution_count": null,
   "metadata": {},
   "outputs": [],
   "source": [
    "def find_root(result, autocorr_col, time_col):\n",
    "    # Assuming `data` is your DataFrame\n",
    "    # Replace `data` with the actual DataFrame variable\n",
    "    column_0 = result[autocorr_col]  # Extract column 0\n",
    "    lag_s = result[time_col]     # Extract 'lag (s)' column\n",
    "\n",
    "    # Find indices where column 0 changes sign\n",
    "    sign_changes = np.where(np.diff(np.sign(column_0)))[0]\n",
    "\n",
    "    if len(sign_changes) > 0:\n",
    "        # Get the first root\n",
    "        idx = sign_changes[0]\n",
    "        print(f\"The first root is at lag (s): {lag_s[idx]}\")\n",
    "        return idx\n",
    "        # # Linear interpolation to find the root\n",
    "        # x1, x2 = lag_s.iloc[idx], lag_s.iloc[idx + 1]\n",
    "        # y1, y2 = column_0.iloc[idx], column_0.iloc[idx + 1]\n",
    "        # root = x1 - y1 * (x2 - x1) / (y2 - y1)\n",
    "        print(f\"The first root is at lag (s): {root}\")\n",
    "    else:\n",
    "        print(\"No root found in column 0.\")"
   ]
  },
  {
   "cell_type": "code",
   "execution_count": null,
   "metadata": {},
   "outputs": [],
   "source": [
    "for time_period in [\n",
    "    ('20230418 0000', '20230418 0301'),\n",
    "    ('20230418 0301', '20230418 0601'),\n",
    "    ('20230418 0601', '20230418 0901'),\n",
    "    ('20230418 0901', '20230418 1201'),\n",
    "    ('20230418 1201', '20230418 1501'),\n",
    "    ('20230418 1501', '20230418 1801'),\n",
    "    ('20230418 1801', '20230418 2101'),\n",
    "    ('20230418 2101', '20230418 2359'),\n",
    "]:\n",
    "    # SAIL\n",
    "    src_sail = fast_df_sail.loc[time_period[0]: time_period[1]]\n",
    "    src_sail = src_sail.assign(\n",
    "        spd = np.sqrt(src_sail['u']**2 + src_sail['v']**2)\n",
    "    )\n",
    "    spd_corr_result_sail = np.correlate(\n",
    "        src_sail['spd'] - src_sail['spd'].mean(), \n",
    "        src_sail['spd'] - src_sail['spd'].mean(), \n",
    "        mode='full'\n",
    "    )\n",
    "    result_sail = spd_corr_result_sail[spd_corr_result_sail.size // 2:]\n",
    "    result_sail = pd.DataFrame({\"R\": result_sail / float(result_sail.max())})\n",
    "    result_sail['lag (s)'] = result_sail.index/10\n",
    "\n",
    "    first_root_sail = find_root(result_sail, 'R',  'lag (s)')\n",
    "    integral_result_sail = np.trapz(\n",
    "        result_sail['R'].loc[:first_root_sail],\n",
    "        result_sail['lag (s)'].loc[:first_root_sail],\n",
    "    )\n",
    "    integral_length_scale_sail = (integral_result_sail * src_sail['spd'].mean())\n",
    "    print(f'The integration result_sail is: {integral_result_sail}')\n",
    "    print(f'The mean wind speed is: {src_sail['spd'].mean()}')\n",
    "    print(f\"The integral length scale is: {integral_length_scale_sail}\")\n",
    "\n",
    "\n",
    "    # SPLASH\n",
    "    src_splash = fast_df_splash.loc[time_period[0]: time_period[1]]\n",
    "    src_splash = src_splash.assign(\n",
    "        spd = np.sqrt(src_splash['u']**2 + src_splash['v']**2)\n",
    "    )\n",
    "    spd_corr_result_splash = np.correlate(\n",
    "        src_splash['spd'] - src_splash['spd'].mean(), \n",
    "        src_splash['spd'] - src_splash['spd'].mean(), \n",
    "        mode='full'\n",
    "    )\n",
    "    result_splash = spd_corr_result_splash[spd_corr_result_splash.size // 2:]\n",
    "    result_splash = pd.DataFrame({\"R\": result_splash / float(result_splash.max())})\n",
    "    result_splash['lag (s)'] = result_splash.index/10\n",
    "\n",
    "    first_root_splash = find_root(result_splash, 'R',  'lag (s)')\n",
    "    integral_result_splash = np.trapz(\n",
    "        result_splash['R'].loc[:first_root_splash],\n",
    "        result_splash['lag (s)'].loc[:first_root_splash],\n",
    "    )\n",
    "    integral_length_scale_splash = (integral_result_splash * src_splash['spd'].mean())\n",
    "    print(f'The integration result_splash is: {integral_result_splash}')\n",
    "    print(f'The mean wind speed is: {src_splash['spd'].mean()}')\n",
    "    print(f\"The integral length scale is: {integral_length_scale_splash}\")\n",
    "\n",
    "\n",
    "    # SOS\n",
    "    src_sos = fast_df_sos.loc[time_period[0]: time_period[1]]\n",
    "    src_sos = src_sos.assign(\n",
    "        spd = np.sqrt(src_sos['u']**2 + src_sos['v']**2)\n",
    "    )\n",
    "    spd_corr_result_sos = np.correlate(\n",
    "        src_sos['spd'] - src_sos['spd'].mean(), \n",
    "        src_sos['spd'] - src_sos['spd'].mean(), \n",
    "        mode='full'\n",
    "    )\n",
    "    result_sos = spd_corr_result_sos[spd_corr_result_sos.size // 2:]\n",
    "    result_sos = pd.DataFrame({\"R\": result_sos / float(result_sos.max())})\n",
    "    result_sos['lag (s)'] = result_sos.index/20\n",
    "\n",
    "    first_root_sos = find_root(result_sos, 'R',  'lag (s)')\n",
    "    integral_result_sos = np.trapz(\n",
    "        result_sos['R'].loc[:first_root_sos],\n",
    "        result_sos['lag (s)'].loc[:first_root_sos],\n",
    "    )\n",
    "    integral_length_scale_sos = integral_result_sos * src_sos['spd'].mean()\n",
    "    print(f'The integration result_sos is: {integral_result_sos}')\n",
    "    print(f'The mean wind speed is: {src_sos['spd'].mean()}')\n",
    "    print(f\"The integral length scale is: {integral_length_scale_sos}\")\n",
    "\n",
    "    plt.plot(result_sail['lag (s)'], result_sail[\"R\"], label='Gothic (SAIL)')\n",
    "    plt.plot(result_splash['lag (s)'], result_splash[\"R\"], label='Avery Picnic (SPLASH)')\n",
    "    plt.plot(result_sos['lag (s)'], result_sos[\"R\"], label='Kettle Ponds (SOS)')\n",
    "    plt.text(x=1800, y=1, s = f\"Lsail = {round(integral_length_scale_sail,0)}\")\n",
    "    plt.text(x=1800, y=0.95, s = f\"Lsplash = {round(integral_length_scale_splash,0)}\")\n",
    "    plt.text(x=1800, y=0.9, s = f\"Lsos = {round(integral_length_scale_sos,0)}\")\n",
    "    plt.title(time_period)\n",
    "    plt.axhline(0)\n",
    "    plt.legend()\n",
    "    plt.show()"
   ]
  },
  {
   "cell_type": "markdown",
   "metadata": {},
   "source": [
    "## For entire day, using moving window averages"
   ]
  },
  {
   "cell_type": "code",
   "execution_count": null,
   "metadata": {},
   "outputs": [],
   "source": [
    "src_sail_wholeday = fast_df_sail.assign(\n",
    "    spd = np.sqrt(fast_df_sail['u']**2 + fast_df_sail['v']**2)\n",
    ")\n",
    "src_sail_wholeday['spd_fluc'] = src_sail_wholeday['spd'] - src_sail_wholeday['spd'].rolling(window='30min').mean()\n",
    "spd_corr_result_sail_wholeday = np.correlate(\n",
    "    src_sail_wholeday['spd_fluc'],\n",
    "    src_sail_wholeday['spd_fluc'],\n",
    "    mode='full'\n",
    ")\n"
   ]
  },
  {
   "cell_type": "code",
   "execution_count": null,
   "metadata": {},
   "outputs": [],
   "source": [
    "src_splash_wholeday = fast_df_splash.assign(\n",
    "    spd = np.sqrt(fast_df_splash['u']**2 + fast_df_splash['v']**2)\n",
    ")\n",
    "src_splash_wholeday['spd_fluc'] = src_splash_wholeday['spd'] - src_splash_wholeday['spd'].rolling(window='30min').mean()\n",
    "spd_corr_result_splash_wholeday = np.correlate(\n",
    "    src_splash_wholeday['spd_fluc'],\n",
    "    src_splash_wholeday['spd_fluc'],\n",
    "    mode='full'\n",
    ")\n"
   ]
  },
  {
   "cell_type": "code",
   "execution_count": null,
   "metadata": {},
   "outputs": [],
   "source": [
    "src_sos_wholeday = fast_df_sos.assign(\n",
    "    spd = np.sqrt(fast_df_sos['u']**2 + fast_df_sos['v']**2)\n",
    ")\n",
    "src_sos_wholeday['spd_fluc'] = src_sos_wholeday['spd'] - src_sos_wholeday['spd'].rolling(window='30min').mean()\n",
    "spd_corr_result_sos_wholeday = np.correlate(\n",
    "    src_sos_wholeday['spd_fluc'],\n",
    "    src_sos_wholeday['spd_fluc'],\n",
    "    mode='full'\n",
    ")\n"
   ]
  },
  {
   "cell_type": "code",
   "execution_count": null,
   "metadata": {},
   "outputs": [],
   "source": [
    "result_sail = spd_corr_result_sail_wholeday[spd_corr_result_sail_wholeday.size // 2:]\n",
    "result_sail = pd.DataFrame({\"R\": result_sail / float(result_sail.max())})\n",
    "result_sail['lag_s'] = result_sail.index/10\n",
    "first_root_sail = find_root(result_sail, 'R',  'lag_s')\n",
    "integral_result_sail = np.trapz(\n",
    "    result_sail['R'].loc[:first_root_sail],\n",
    "    result_sail['lag_s'].loc[:first_root_sail],\n",
    ")\n",
    "integral_length_scale_sail = (integral_result_sail * src_sail['spd'].mean())\n",
    "\n",
    "\n",
    "result_splash = spd_corr_result_splash_wholeday[spd_corr_result_splash_wholeday.size // 2:]\n",
    "result_splash = pd.DataFrame({\"R\": result_splash / float(result_splash.max())})\n",
    "result_splash['lag_s'] = result_splash.index/10\n",
    "first_root_splash = find_root(result_splash, 'R',  'lag_s')\n",
    "integral_result_splash = np.trapz(\n",
    "    result_splash['R'].loc[:first_root_splash],\n",
    "    result_splash['lag_s'].loc[:first_root_splash],\n",
    ")\n",
    "integral_length_scale_splash = (integral_result_splash * src_splash['spd'].mean())\n",
    "\n",
    "\n",
    "result_sos = spd_corr_result_sos_wholeday[spd_corr_result_sos_wholeday.size // 2:]\n",
    "result_sos = pd.DataFrame({\"R\": result_sos / float(result_sos.max())})\n",
    "result_sos['lag_s'] = result_sos.index/20\n",
    "first_root_sos = find_root(result_sos, 'R',  'lag_s')\n",
    "integral_result_sos = np.trapz(\n",
    "    result_sos['R'].loc[:first_root_sos],\n",
    "    result_sos['lag_s'].loc[:first_root_sos],\n",
    ")\n",
    "integral_length_scale_sos = (integral_result_sos * src_sos['spd'].mean())"
   ]
  },
  {
   "cell_type": "code",
   "execution_count": null,
   "metadata": {},
   "outputs": [],
   "source": [
    "alt.Chart(result_sail.query(\"lag_s < 5000\")).transform_filter(\n",
    "    alt.datum.lag_s > 0\n",
    ").mark_line().encode(\n",
    "    alt.X('lag_s:Q').scale(type='log'),\n",
    "    alt.Y('R:Q')\n",
    ").properties(title=f'L = {round(integral_length_scale_sail, 1)}') | alt.Chart(result_splash.query(\"lag_s < 5000\")).transform_filter(\n",
    "    alt.datum.lag_s > 0\n",
    ").mark_line().encode(\n",
    "    alt.X('lag_s:Q').scale(type='log'),\n",
    "    alt.Y('R:Q')\n",
    ").properties(title=f'L = {round(integral_length_scale_splash, 1)}') | alt.Chart(result_sos.query(\"lag_s < 5000\")).transform_filter(\n",
    "    alt.datum.lag_s > 0\n",
    ").mark_line().encode(\n",
    "    alt.X('lag_s:Q').scale(type='log'),\n",
    "    alt.Y('R:Q')\n",
    ").properties(title=f'L = {round(integral_length_scale_sos, 1)}')"
   ]
  }
 ],
 "metadata": {
  "kernelspec": {
   "display_name": "arm",
   "language": "python",
   "name": "python3"
  },
  "language_info": {
   "codemirror_mode": {
    "name": "ipython",
    "version": 3
   },
   "file_extension": ".py",
   "mimetype": "text/x-python",
   "name": "python",
   "nbconvert_exporter": "python",
   "pygments_lexer": "ipython3",
   "version": "3.12.5"
  },
  "orig_nbformat": 4,
  "vscode": {
   "interpreter": {
    "hash": "e2b11a00ad1b97cabcd9cc9209b8824a0fcaf6ffe37b5243943912873b5dcab1"
   }
  }
 },
 "nbformat": 4,
 "nbformat_minor": 2
}
