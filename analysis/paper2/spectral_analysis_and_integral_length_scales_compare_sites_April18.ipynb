{
 "cells": [
  {
   "cell_type": "code",
   "execution_count": 2,
   "metadata": {},
   "outputs": [],
   "source": [
    "import numpy as np\n",
    "import xarray as xr\n",
    "\n",
    "import datetime as dt\n",
    "import os\n",
    "import pandas as pd\n",
    "\n",
    "import matplotlib.pyplot as plt\n",
    "\n",
    "import altair as alt\n",
    "alt.data_transformers.enable('json')\n",
    "\n",
    "from sublimpy import utils\n",
    "import glob\n",
    "import pytz\n",
    "import re\n",
    "from scipy.signal import welch, csd\n",
    "from scipy.stats import chi2\n",
    "from process_fast_data.fast_data_calculate_spectra_nomrd import calculate_mrd_for_df, fast_data_files_to_dataframe\n",
    "from sublimpy import extrautils"
   ]
  },
  {
   "cell_type": "code",
   "execution_count": 3,
   "metadata": {},
   "outputs": [],
   "source": [
    "# DATA_DIR = \"/storage/elilouis/sublimationofsnow/\"\n",
    "DATA_DIR = \"/Users/elischwat/Development/data/sublimationofsnow/\"\n",
    "\n",
    "DATES = pd.Series(['20230418', '20230419'])\n",
    "DATE_LOCAL = '20230418'\n",
    "\n",
    "# DATES = pd.Series(['20230409', '20230410'])\n",
    "# DATE_LOCAL = '20230409'"
   ]
  },
  {
   "cell_type": "markdown",
   "metadata": {},
   "source": [
    "# TOOLS"
   ]
  },
  {
   "cell_type": "markdown",
   "metadata": {},
   "source": [
    "## SAIL Data"
   ]
  },
  {
   "cell_type": "code",
   "execution_count": 4,
   "metadata": {},
   "outputs": [],
   "source": [
    "class FastData(object):\n",
    "    data = None\n",
    "\n",
    "class FastDataSAIL(FastData):\n",
    "    @staticmethod\n",
    "    def open_raw(files):\n",
    "        files = sorted(files)\n",
    "        high_rate_dfs = []\n",
    "        for file in files:\n",
    "            # Regular expression. extract date\n",
    "            date = re.search(r\"gucecorM1\\.00\\.(\\d+)\\.\", file).group(1)\n",
    "            df = pd.read_csv(file, skiprows=1, header=None).rename(\n",
    "                    columns = dict(\n",
    "                        zip(range(0,10), \n",
    "                        [\n",
    "                            'Timestamp',\n",
    "                            'u',\n",
    "                            'v',\n",
    "                            'w',\n",
    "                            'windspeed units (M = m/s)',\n",
    "                            'Speed of Sound',\n",
    "                            'Status (00 means okay)',\n",
    "                            'CO2 analog voltage output',\n",
    "                            'H20 analog voltage output',\n",
    "                            'Checksum',\n",
    "                        ])\n",
    "                    )\n",
    "                )\n",
    "            df['time'] = pd.to_datetime(\n",
    "                f'{date} ' + df['Timestamp'].str[:-3],\n",
    "                format=\"%Y%m%d %H:%M:%S.%f\"\n",
    "            )\n",
    "            high_rate_dfs.append(df)\n",
    "        return pd.concat(high_rate_dfs).set_index('time')\n",
    "    \n",
    "    @staticmethod\n",
    "    def double_rotation(df, u_col, v_col, w_col):\n",
    "        # FIRST ROTATION\n",
    "        mean_u = df[u_col].mean()\n",
    "        mean_v = df[v_col].mean()\n",
    "        theta = np.arctan2(mean_v, mean_u)\n",
    "        adj_u = df[u_col]*np.cos(theta) + df[v_col]*np.sin(theta)\n",
    "        adj_v = -df[u_col]*np.sin(theta) + df[v_col]*np.cos(theta)\n",
    "        df[u_col] = adj_u\n",
    "        df[v_col] = adj_v\n",
    "        print(\n",
    "            'Means after 1st rotation:',\n",
    "            df[u_col].mean(),\n",
    "            df[v_col].mean(),\n",
    "            df[w_col].mean(),\n",
    "        )\n",
    "\n",
    "        # SECOND ROTATION\n",
    "        mean_u = df[u_col].mean()\n",
    "        mean_w = df[w_col].mean()\n",
    "        phi = np.arctan2(mean_w, mean_u)\n",
    "        adj_u = df[u_col]*np.cos(phi) + df[w_col]*np.sin(phi)\n",
    "        adj_w = - df[u_col]*np.sin(phi) + df[w_col]*np.cos(phi)\n",
    "        df[u_col] = adj_u\n",
    "        df[w_col] = adj_w\n",
    "        print(\n",
    "            'Means after 2nd rotation:',\n",
    "            df[u_col].mean(),\n",
    "            df[v_col].mean(),\n",
    "            df[w_col].mean(),\n",
    "        )\n",
    "        return df\n",
    "    \n",
    "    def apply_direction_rotation(df, u_col, v_col, w_col, bearing):\n",
    "        # + Ugeo represents wind blowing to the East (confusingly known as a \"westerly\"). \n",
    "        # + Vgeo is wind to the North (a \"southerly\" ). This is right handed with respect to an upward +Wgeo.\n",
    "\n",
    "\n",
    "        # FIRST ROTATION\n",
    "        mean_u = df[u_col].mean()\n",
    "        mean_v = df[v_col].mean()\n",
    "        theta = np.arctan2(mean_v, mean_u)\n",
    "        adj_u = df[u_col]*np.cos(theta) + df[v_col]*np.sin(theta)\n",
    "        adj_v = -df[u_col]*np.sin(theta) + df[v_col]*np.cos(theta)\n",
    "        df[u_col] = adj_u\n",
    "        df[v_col] = adj_v\n",
    "        print(\n",
    "            'Means after 1st rotation:',\n",
    "            df[u_col].mean(),\n",
    "            df[v_col].mean(),\n",
    "            df[w_col].mean(),\n",
    "        )"
   ]
  },
  {
   "cell_type": "markdown",
   "metadata": {},
   "source": [
    "# SAIL EC data"
   ]
  },
  {
   "cell_type": "markdown",
   "metadata": {},
   "source": [
    "Open and wrangle the raw SAIL EC data"
   ]
  },
  {
   "cell_type": "code",
   "execution_count": 55,
   "metadata": {},
   "outputs": [
    {
     "data": {
      "text/plain": [
       "0    /Users/elischwat/Development/data/sublimationo...\n",
       "0    /Users/elischwat/Development/data/sublimationo...\n",
       "0    /Users/elischwat/Development/data/sublimationo...\n",
       "0    /Users/elischwat/Development/data/sublimationo...\n",
       "0    /Users/elischwat/Development/data/sublimationo...\n",
       "                           ...                        \n",
       "1    /Users/elischwat/Development/data/sublimationo...\n",
       "1    /Users/elischwat/Development/data/sublimationo...\n",
       "1    /Users/elischwat/Development/data/sublimationo...\n",
       "1    /Users/elischwat/Development/data/sublimationo...\n",
       "1    /Users/elischwat/Development/data/sublimationo...\n",
       "Length: 96, dtype: object"
      ]
     },
     "execution_count": 55,
     "metadata": {},
     "output_type": "execute_result"
    }
   ],
   "source": [
    "fast_data_files = DATES.apply(\n",
    "    lambda date: glob.glob(\n",
    "            os.path.join(\n",
    "                DATA_DIR, \n",
    "                f\"sail_fast_ecor_data/gucecorM1.00.{date}.000000.raw/**_sonic.raw\"\n",
    "            )\n",
    "        )\n",
    ").explode()\n",
    "fast_data_files"
   ]
  },
  {
   "cell_type": "code",
   "execution_count": 56,
   "metadata": {},
   "outputs": [],
   "source": [
    "fast_df_sail = FastDataSAIL.open_raw(fast_data_files)\n",
    "fast_df_sail = utils.modify_df_timezone(fast_df_sail.reset_index(), 'UTC', 'US/Mountain').set_index('time')\n",
    "fast_df_sail = fast_df_sail.loc[DATE_LOCAL]\n",
    "fast_df_sail = fast_df_sail.sort_index()"
   ]
  },
  {
   "cell_type": "code",
   "execution_count": 57,
   "metadata": {},
   "outputs": [
    {
     "data": {
      "text/plain": [
       "array([<Axes: xlabel='time'>, <Axes: xlabel='time'>,\n",
       "       <Axes: xlabel='time'>], dtype=object)"
      ]
     },
     "execution_count": 57,
     "metadata": {},
     "output_type": "execute_result"
    },
    {
     "data": {
      "image/png": "[encoded data removed]",
      "text/plain": [
       "<Figure size 640x480 with 3 Axes>"
      ]
     },
     "metadata": {},
     "output_type": "display_data"
    }
   ],
   "source": [
    "fast_df_sail[['u','v','w']].plot(subplots=True)"
   ]
  },
  {
   "cell_type": "markdown",
   "metadata": {},
   "source": [
    "Calculate 30-minute mean u, v, w, and 30-min wind direction, plot it"
   ]
  },
  {
   "cell_type": "code",
   "execution_count": 58,
   "metadata": {},
   "outputs": [
    {
     "data": {
      "image/png": "[encoded data removed]",
      "text/plain": [
       "<Figure size 640x480 with 2 Axes>"
      ]
     },
     "metadata": {},
     "output_type": "display_data"
    }
   ],
   "source": [
    "fast_df_sail = fast_df_sail.join(\n",
    "    fast_df_sail.groupby(pd.Grouper(freq='30min'))[['u', 'v', 'w']].transform('mean').rename(columns = {\n",
    "        'u': 'u_30min',\n",
    "        'v': 'v_30min',\n",
    "        'w': 'w_30min',\n",
    "    })\n",
    ")\n",
    "fast_df_sail = fast_df_sail.join(\n",
    "    fast_df_sail.groupby(pd.Grouper(freq='1min'))[['u', 'v', 'w']].transform('mean').rename(columns = {\n",
    "        'u': 'u_1min',\n",
    "        'v': 'v_1min',\n",
    "        'w': 'w_1min',\n",
    "    })\n",
    ")\n",
    "fast_df_sail['dir_30min'] = np.rad2deg(np.arctan2(-fast_df_sail['u_30min'], -fast_df_sail['v_30min']))\n",
    "fast_df_sail['dir_30min'] = fast_df_sail['dir_30min'].apply(lambda dir: dir if dir >= 0 else dir+360)\n",
    "\n",
    "fast_df_sail['dir_1min'] = np.rad2deg(np.arctan2(-fast_df_sail['u_1min'], -fast_df_sail['v_1min']))\n",
    "fast_df_sail['dir_1min'] = fast_df_sail['dir_1min'].apply(lambda dir: dir if dir >= 0 else dir+360)\n",
    "\n",
    "fig, axes = plt.subplots(2,1)\n",
    "fast_df_sail['dir_30min'].loc[f'{DATE_LOCAL} 1500': f'{DATE_LOCAL} 1800'].plot(ax=axes[0], sharex=True)\n",
    "fast_df_sail['dir_1min'].loc[f'{DATE_LOCAL} 1500': f'{DATE_LOCAL} 1800'].plot(ax=axes[0], sharex=True)\n",
    "fast_df_sail[['u_30min','v_30min','w_30min']].loc[f'{DATE_LOCAL} 1500': f'{DATE_LOCAL} 1800'].plot(ax=axes[1])\n",
    "fast_df_sail[['u_1min','v_1min','w_1min']].loc[f'{DATE_LOCAL} 1500': f'{DATE_LOCAL} 1800'].plot(ax=axes[1])\n",
    "axes[0].grid(axis='x')  # Add grid lines only for the x-axis\n",
    "axes[1].grid(axis='x')  # Add grid lines only for the x-axis\n",
    "plt.show()"
   ]
  },
  {
   "cell_type": "markdown",
   "metadata": {},
   "source": [
    "Apply double rotation to 3hr chunks"
   ]
  },
  {
   "cell_type": "code",
   "execution_count": 59,
   "metadata": {},
   "outputs": [
    {
     "name": "stdout",
     "output_type": "stream",
     "text": [
      "Means after 1st rotation: 0.6618016000970252 1.1533358748732916e-16 0.04622414519004238\n",
      "Means after 2nd rotation: 0.6634139201807067 1.1533358748732916e-16 -1.7559411395180424e-17\n",
      "Means after 1st rotation: 0.9078757601427564 6.947449507584782e-17 0.07116325466865576\n",
      "Means after 2nd rotation: 0.9106605320698945 6.947449507584782e-17 -5.746971100024176e-18\n",
      "Means after 1st rotation: 0.35064010057550277 -6.000255329161135e-18 0.05577285762037964\n",
      "Means after 2nd rotation: 0.35504801334290265 -6.000255329161135e-18 1.9157065191540498e-17\n",
      "Means after 1st rotation: 2.278287499191075 1.6516584890547308e-16 -0.0662818459491865\n",
      "Means after 2nd rotation: 2.279251458719014 1.6516584890547308e-16 -9.949749934064644e-18\n",
      "Means after 1st rotation: 1.6761005345894482 -2.3911837285671085e-17 -0.046084167353162855\n",
      "Means after 2nd rotation: 1.6767339540104949 -2.3911837285671085e-17 9.963265535696286e-19\n",
      "Means after 1st rotation: 1.4498843014421823 1.3490925910749524e-16 -0.027700846955491278\n",
      "Means after 2nd rotation: 1.450148897351764 1.3490925910749524e-16 1.6623743033667953e-17\n",
      "Means after 1st rotation: 1.0589735309126607 2.7948334514563584e-17 -0.04384356040984398\n",
      "Means after 2nd rotation: 1.059880746576255 2.7948334514563584e-17 9.981548040915567e-18\n",
      "Means after 1st rotation: 0.6812503380309214 1.1154947019449647e-16 -0.01874783172428294\n",
      "Means after 2nd rotation: 0.6815082569284152 1.1154947019449647e-16 6.8473447105996725e-18\n"
     ]
    }
   ],
   "source": [
    "fast_df_sail = fast_df_sail.groupby(pd.Grouper(freq='180min')).apply(lambda df: FastDataSAIL.double_rotation(df, 'u', 'v', 'w'))"
   ]
  },
  {
   "cell_type": "code",
   "execution_count": 60,
   "metadata": {},
   "outputs": [],
   "source": [
    "fast_df_sail.index = fast_df_sail.index.get_level_values(1)"
   ]
  },
  {
   "cell_type": "code",
   "execution_count": 61,
   "metadata": {},
   "outputs": [],
   "source": [
    "fast_df_sail['u'] = fast_df_sail['u'].interpolate()\n",
    "fast_df_sail['v'] = fast_df_sail['v'].interpolate()\n",
    "fast_df_sail['w'] = fast_df_sail['w'].interpolate()"
   ]
  },
  {
   "cell_type": "markdown",
   "metadata": {},
   "source": [
    "Calculate MRD"
   ]
  },
  {
   "cell_type": "code",
   "execution_count": 62,
   "metadata": {},
   "outputs": [
    {
     "name": "stdout",
     "output_type": "stream",
     "text": [
      "Timestep of fast data is: 100.0 ms\n",
      "Dataset of length 114988, with M = 16, permits 24 iterations.\n"
     ]
    },
    {
     "name": "stderr",
     "output_type": "stream",
     "text": [
      "100%|██████████| 24/24 [00:00<00:00, 18017.41it/s]\n"
     ]
    },
    {
     "name": "stdout",
     "output_type": "stream",
     "text": [
      "Timestep of fast data is: 90.0 ms\n",
      "Dataset of length 121765, with M = 16, permits 28 iterations.\n"
     ]
    },
    {
     "name": "stderr",
     "output_type": "stream",
     "text": [
      "100%|██████████| 28/28 [00:00<00:00, 27078.74it/s]\n"
     ]
    },
    {
     "name": "stdout",
     "output_type": "stream",
     "text": [
      "Timestep of fast data is: 100.0 ms\n",
      "Dataset of length 115030, with M = 16, permits 24 iterations.\n"
     ]
    },
    {
     "name": "stderr",
     "output_type": "stream",
     "text": [
      "100%|██████████| 24/24 [00:00<00:00, 16044.52it/s]\n"
     ]
    },
    {
     "name": "stdout",
     "output_type": "stream",
     "text": [
      "Timestep of fast data is: 100.0 ms\n",
      "Dataset of length 114261, with M = 16, permits 24 iterations.\n"
     ]
    },
    {
     "name": "stderr",
     "output_type": "stream",
     "text": [
      "100%|██████████| 24/24 [00:00<00:00, 20016.56it/s]\n"
     ]
    },
    {
     "name": "stdout",
     "output_type": "stream",
     "text": [
      "Timestep of fast data is: 100.0 ms\n",
      "Dataset of length 114106, with M = 16, permits 24 iterations.\n"
     ]
    },
    {
     "name": "stderr",
     "output_type": "stream",
     "text": [
      "100%|██████████| 24/24 [00:00<00:00, 19765.03it/s]\n"
     ]
    },
    {
     "name": "stdout",
     "output_type": "stream",
     "text": [
      "Timestep of fast data is: 100.0 ms\n",
      "Dataset of length 114764, with M = 16, permits 24 iterations.\n"
     ]
    },
    {
     "name": "stderr",
     "output_type": "stream",
     "text": [
      "100%|██████████| 24/24 [00:00<00:00, 18840.22it/s]\n"
     ]
    },
    {
     "name": "stdout",
     "output_type": "stream",
     "text": [
      "Timestep of fast data is: 70.0 ms\n",
      "Dataset of length 113897, with M = 16, permits 24 iterations.\n"
     ]
    },
    {
     "name": "stderr",
     "output_type": "stream",
     "text": [
      "100%|██████████| 24/24 [00:00<00:00, 21718.08it/s]\n"
     ]
    },
    {
     "name": "stdout",
     "output_type": "stream",
     "text": [
      "Timestep of fast data is: 100.0 ms\n",
      "Dataset of length 114148, with M = 16, permits 24 iterations.\n"
     ]
    },
    {
     "name": "stderr",
     "output_type": "stream",
     "text": [
      "100%|██████████| 24/24 [00:00<00:00, 16611.10it/s]\n"
     ]
    }
   ],
   "source": [
    "mrd_uw_sail = fast_df_sail.groupby(pd.Grouper(freq='180min'))[['u', 'v', 'w']].apply(\n",
    "    lambda df: calculate_mrd_for_df(df.reset_index(), 'u', 'w', shift=2000, parallelism=20).assign(hour_group = f\"{df.index.min()} - {df.index.max()}\")\n",
    ")"
   ]
  },
  {
   "cell_type": "code",
   "execution_count": 63,
   "metadata": {},
   "outputs": [],
   "source": [
    "mrd_uw_sail.hour_group = mrd_uw_sail.hour_group.str.replace('2023-04-18 ', '')"
   ]
  },
  {
   "cell_type": "code",
   "execution_count": 64,
   "metadata": {},
   "outputs": [
    {
     "data": {
      "text/html": [
       "\n",
       "<style>\n",
       "  #altair-viz-9cc494a20b324a7b8d12dc9759a703a3.vega-embed {\n",
       "    width: 100%;\n",
       "    display: flex;\n",
       "  }\n",
       "\n",
       "  #altair-viz-9cc494a20b324a7b8d12dc9759a703a3.vega-embed details,\n",
       "  #altair-viz-9cc494a20b324a7b8d12dc9759a703a3.vega-embed details summary {\n",
       "    position: relative;\n",
       "  }\n",
       "</style>\n",
       "<div id=\"altair-viz-9cc494a20b324a7b8d12dc9759a703a3\"></div>\n",
       "<script type=\"text/javascript\">\n",
       "  var VEGA_DEBUG = (typeof VEGA_DEBUG == \"undefined\") ? {} : VEGA_DEBUG;\n",
       "  (function(spec, embedOpt){\n",
       "    let outputDiv = document.currentScript.previousElementSibling;\n",
       "    if (outputDiv.id !== \"altair-viz-9cc494a20b324a7b8d12dc9759a703a3\") {\n",
       "      outputDiv = document.getElementById(\"altair-viz-9cc494a20b324a7b8d12dc9759a703a3\");\n",
       "    }\n",
       "    const paths = {\n",
       "      \"vega\": \"https://cdn.jsdelivr.net/npm/vega@5?noext\",\n",
       "      \"vega-lib\": \"https://cdn.jsdelivr.net/npm/vega-lib?noext\",\n",
       "      \"vega-lite\": \"https://cdn.jsdelivr.net/npm/vega-lite@5.20.1?noext\",\n",
       "      \"vega-embed\": \"https://cdn.jsdelivr.net/npm/vega-embed@6?noext\",\n",
       "    };\n",
       "\n",
       "    function maybeLoadScript(lib, version) {\n",
       "      var key = `${lib.replace(\"-\", \"\")}_version`;\n",
       "      return (VEGA_DEBUG[key] == version) ?\n",
       "        Promise.resolve(paths[lib]) :\n",
       "        new Promise(function(resolve, reject) {\n",
       "          var s = document.createElement('script');\n",
       "          document.getElementsByTagName(\"head\")[0].appendChild(s);\n",
       "          s.async = true;\n",
       "          s.onload = () => {\n",
       "            VEGA_DEBUG[key] = version;\n",
       "            return resolve(paths[lib]);\n",
       "          };\n",
       "          s.onerror = () => reject(`Error loading script: ${paths[lib]}`);\n",
       "          s.src = paths[lib];\n",
       "        });\n",
       "    }\n",
       "\n",
       "    function showError(err) {\n",
       "      outputDiv.innerHTML = `<div class=\"error\" style=\"color:red;\">${err}</div>`;\n",
       "      throw err;\n",
       "    }\n",
       "\n",
       "    function displayChart(vegaEmbed) {\n",
       "      vegaEmbed(outputDiv, spec, embedOpt)\n",
       "        .catch(err => showError(`Javascript Error: ${err.message}<br>This usually means there's a typo in your chart specification. See the javascript console for the full traceback.`));\n",
       "    }\n",
       "\n",
       "    if(typeof define === \"function\" && define.amd) {\n",
       "      requirejs.config({paths});\n",
       "      require([\"vega-embed\"], displayChart, err => showError(`Error loading script: ${err.message}`));\n",
       "    } else {\n",
       "      maybeLoadScript(\"vega\", \"5\")\n",
       "        .then(() => maybeLoadScript(\"vega-lite\", \"5.20.1\"))\n",
       "        .then(() => maybeLoadScript(\"vega-embed\", \"6\"))\n",
       "        .catch(showError)\n",
       "        .then(() => displayChart(vegaEmbed));\n",
       "    }\n",
       "  })({\"config\": {\"view\": {\"continuousWidth\": 300, \"continuousHeight\": 300}}, \"data\": {\"url\": \"altair-data-b8313d2636f0998477a8ed060d101caa.json\", \"format\": {\"type\": \"json\"}}, \"mark\": {\"type\": \"line\"}, \"encoding\": {\"color\": {\"field\": \"hour_group\", \"scale\": {\"scheme\": \"purpleorange\"}, \"type\": \"ordinal\"}, \"x\": {\"field\": \"tau\", \"scale\": {\"type\": \"log\"}, \"type\": \"quantitative\"}, \"y\": {\"aggregate\": \"mean\", \"field\": \"Co\", \"type\": \"quantitative\"}}, \"height\": 200, \"title\": \"sail\", \"width\": 200, \"$schema\": \"https://vega.github.io/schema/vega-lite/v5.20.1.json\"}, {\"mode\": \"vega-lite\"});\n",
       "</script>"
      ],
      "text/plain": [
       "alt.Chart(...)"
      ]
     },
     "execution_count": 64,
     "metadata": {},
     "output_type": "execute_result"
    }
   ],
   "source": [
    "daily_mrd_sail_chart = alt.Chart(\n",
    "    mrd_uw_sail.reset_index().query(\"tau > 0\")\n",
    ").mark_line().encode(\n",
    "    alt.X('tau:Q').scale(type='log'),\n",
    "    alt.Y('mean(Co):Q'),\n",
    "    alt.Color('hour_group:O').scale(scheme='purpleorange'),\n",
    ").properties(width=200, height=200, title='sail')\n",
    "daily_mrd_sail_chart"
   ]
  },
  {
   "cell_type": "code",
   "execution_count": 65,
   "metadata": {},
   "outputs": [],
   "source": [
    "mrd_uw_sail['time range'] = mrd_uw_sail.start_time.astype(str) + ' - ' + mrd_uw_sail.end_time.astype(str)"
   ]
  },
  {
   "cell_type": "code",
   "execution_count": 66,
   "metadata": {},
   "outputs": [
    {
     "data": {
      "text/html": [
       "\n",
       "<style>\n",
       "  #altair-viz-491c1164f2fd4f329266cd36c77fa266.vega-embed {\n",
       "    width: 100%;\n",
       "    display: flex;\n",
       "  }\n",
       "\n",
       "  #altair-viz-491c1164f2fd4f329266cd36c77fa266.vega-embed details,\n",
       "  #altair-viz-491c1164f2fd4f329266cd36c77fa266.vega-embed details summary {\n",
       "    position: relative;\n",
       "  }\n",
       "</style>\n",
       "<div id=\"altair-viz-491c1164f2fd4f329266cd36c77fa266\"></div>\n",
       "<script type=\"text/javascript\">\n",
       "  var VEGA_DEBUG = (typeof VEGA_DEBUG == \"undefined\") ? {} : VEGA_DEBUG;\n",
       "  (function(spec, embedOpt){\n",
       "    let outputDiv = document.currentScript.previousElementSibling;\n",
       "    if (outputDiv.id !== \"altair-viz-491c1164f2fd4f329266cd36c77fa266\") {\n",
       "      outputDiv = document.getElementById(\"altair-viz-491c1164f2fd4f329266cd36c77fa266\");\n",
       "    }\n",
       "    const paths = {\n",
       "      \"vega\": \"https://cdn.jsdelivr.net/npm/vega@5?noext\",\n",
       "      \"vega-lib\": \"https://cdn.jsdelivr.net/npm/vega-lib?noext\",\n",
       "      \"vega-lite\": \"https://cdn.jsdelivr.net/npm/vega-lite@5.20.1?noext\",\n",
       "      \"vega-embed\": \"https://cdn.jsdelivr.net/npm/vega-embed@6?noext\",\n",
       "    };\n",
       "\n",
       "    function maybeLoadScript(lib, version) {\n",
       "      var key = `${lib.replace(\"-\", \"\")}_version`;\n",
       "      return (VEGA_DEBUG[key] == version) ?\n",
       "        Promise.resolve(paths[lib]) :\n",
       "        new Promise(function(resolve, reject) {\n",
       "          var s = document.createElement('script');\n",
       "          document.getElementsByTagName(\"head\")[0].appendChild(s);\n",
       "          s.async = true;\n",
       "          s.onload = () => {\n",
       "            VEGA_DEBUG[key] = version;\n",
       "            return resolve(paths[lib]);\n",
       "          };\n",
       "          s.onerror = () => reject(`Error loading script: ${paths[lib]}`);\n",
       "          s.src = paths[lib];\n",
       "        });\n",
       "    }\n",
       "\n",
       "    function showError(err) {\n",
       "      outputDiv.innerHTML = `<div class=\"error\" style=\"color:red;\">${err}</div>`;\n",
       "      throw err;\n",
       "    }\n",
       "\n",
       "    function displayChart(vegaEmbed) {\n",
       "      vegaEmbed(outputDiv, spec, embedOpt)\n",
       "        .catch(err => showError(`Javascript Error: ${err.message}<br>This usually means there's a typo in your chart specification. See the javascript console for the full traceback.`));\n",
       "    }\n",
       "\n",
       "    if(typeof define === \"function\" && define.amd) {\n",
       "      requirejs.config({paths});\n",
       "      require([\"vega-embed\"], displayChart, err => showError(`Error loading script: ${err.message}`));\n",
       "    } else {\n",
       "      maybeLoadScript(\"vega\", \"5\")\n",
       "        .then(() => maybeLoadScript(\"vega-lite\", \"5.20.1\"))\n",
       "        .then(() => maybeLoadScript(\"vega-embed\", \"6\"))\n",
       "        .catch(showError)\n",
       "        .then(() => displayChart(vegaEmbed));\n",
       "    }\n",
       "  })({\"config\": {\"view\": {\"continuousWidth\": 300, \"continuousHeight\": 300}}, \"data\": {\"url\": \"altair-data-1b792876a09e9fe9c8b73a76f3d2ca1d.json\", \"format\": {\"type\": \"json\"}}, \"mark\": {\"type\": \"line\", \"strokeWidth\": 1}, \"encoding\": {\"color\": {\"field\": \"hour_group\", \"scale\": {\"scheme\": \"rainbow\"}, \"type\": \"ordinal\"}, \"detail\": {\"field\": \"time range\", \"type\": \"nominal\"}, \"x\": {\"field\": \"tau\", \"scale\": {\"type\": \"log\"}, \"type\": \"quantitative\"}, \"y\": {\"field\": \"Co\", \"type\": \"quantitative\"}}, \"height\": 300, \"width\": 300, \"$schema\": \"https://vega.github.io/schema/vega-lite/v5.20.1.json\"}, {\"mode\": \"vega-lite\"});\n",
       "</script>"
      ],
      "text/plain": [
       "alt.Chart(...)"
      ]
     },
     "execution_count": 66,
     "metadata": {},
     "output_type": "execute_result"
    }
   ],
   "source": [
    "alt.Chart(mrd_uw_sail.reset_index().query(\"tau > 0\")).mark_line(strokeWidth=1).encode(\n",
    "    alt.X('tau:Q').scale(type='log'),\n",
    "    alt.Y('Co:Q'),\n",
    "    alt.Color('hour_group:O').scale(scheme='rainbow'),\n",
    "    detail = 'time range'\n",
    ").properties(width=300, height=300)"
   ]
  },
  {
   "cell_type": "markdown",
   "metadata": {},
   "source": [
    "# SPLASH EC data"
   ]
  },
  {
   "cell_type": "code",
   "execution_count": 67,
   "metadata": {},
   "outputs": [],
   "source": [
    "splash_files = np.array([\n",
    "    [f for f in glob.glob(\n",
    "        os.path.join(DATA_DIR, \"asfs/ASFS-50_Level2_SPLASH2021-2023/sledwind10hz.asfs50.level2.0.*.nc\")\n",
    "    ) if d in f]\n",
    "    for d in DATES\n",
    "]).flatten()\n",
    "fast_df_splash = xr.open_mfdataset(splash_files).to_dataframe().rename(columns={\n",
    "    'metek_u': 'u',\n",
    "    'metek_v': 'v',\n",
    "    'metek_w': 'w',\n",
    "})"
   ]
  },
  {
   "cell_type": "code",
   "execution_count": 68,
   "metadata": {},
   "outputs": [],
   "source": [
    "fast_df_splash = utils.modify_df_timezone(fast_df_splash.reset_index(), 'UTC', 'US/Mountain').set_index('time')\n",
    "fast_df_splash = fast_df_splash.loc[DATE_LOCAL]"
   ]
  },
  {
   "cell_type": "code",
   "execution_count": 69,
   "metadata": {},
   "outputs": [],
   "source": [
    "fast_df_splash = fast_df_splash.join(\n",
    "    fast_df_splash.groupby(pd.Grouper(freq='30min'))[['u', 'v', 'w']].transform('mean').rename(columns = {\n",
    "        'u': 'u_30min',\n",
    "        'v': 'v_30min',\n",
    "        'w': 'w_30min',\n",
    "    })\n",
    ")\n",
    "fast_df_splash['dir_30min'] = np.rad2deg(np.arctan2(-fast_df_splash['u_30min'], -fast_df_splash['v_30min']))\n",
    "fast_df_splash['dir_30min'] = fast_df_splash['dir_30min'].apply(lambda dir: dir if dir >= 0 else dir+360)\n",
    "\n",
    "fast_df_splash = fast_df_splash.join(\n",
    "    fast_df_splash.groupby(pd.Grouper(freq='1min'))[['u', 'v', 'w']].transform('mean').rename(columns = {\n",
    "        'u': 'u_1min',\n",
    "        'v': 'v_1min',\n",
    "        'w': 'w_1min',\n",
    "    })\n",
    ")\n",
    "fast_df_splash['dir_1min'] = np.rad2deg(np.arctan2(-fast_df_splash['u_1min'], -fast_df_splash['v_1min']))\n",
    "fast_df_splash['dir_1min'] = fast_df_splash['dir_1min'].apply(lambda dir: dir if dir >= 0 else dir+360)"
   ]
  },
  {
   "cell_type": "code",
   "execution_count": 70,
   "metadata": {},
   "outputs": [
    {
     "data": {
      "image/png": "[encoded data removed]",
      "text/plain": [
       "<Figure size 640x480 with 2 Axes>"
      ]
     },
     "metadata": {},
     "output_type": "display_data"
    }
   ],
   "source": [
    "fast_df_splash_30min = fast_df_splash.groupby(pd.Grouper(freq='1min')).mean()\n",
    "fig, axes = plt.subplots(2,1)\n",
    "fast_df_splash_30min['dir_30min'].loc[f'{DATE_LOCAL} 1500': f'{DATE_LOCAL} 1800'].plot(ax=axes[0], sharex=True)\n",
    "fast_df_splash_30min['dir_1min'].loc[f'{DATE_LOCAL} 1500': f'{DATE_LOCAL} 1800'].plot(ax=axes[0], sharex=True)\n",
    "fast_df_splash_30min[['u_30min','v_30min','w_30min']].loc[f'{DATE_LOCAL} 1500': f'{DATE_LOCAL} 1800'].plot(ax=axes[1])\n",
    "axes[0].grid(axis='x')  # Add grid lines only for the x-axis\n",
    "axes[1].grid(axis='x')  # Add grid lines only for the x-axis\n",
    "plt.show()"
   ]
  },
  {
   "cell_type": "markdown",
   "metadata": {},
   "source": [
    "Apply double rotation to 3hr chunks"
   ]
  },
  {
   "cell_type": "code",
   "execution_count": 71,
   "metadata": {},
   "outputs": [
    {
     "name": "stdout",
     "output_type": "stream",
     "text": [
      "Means after 1st rotation: 1.2666482748900492 -1.098831888759114e-16 0.0772666142960887\n",
      "Means after 2nd rotation: 1.2690027509689321 -1.098831888759114e-16 4.226276495227362e-18\n",
      "Means after 1st rotation: 1.0324662924246089 -1.266705712775666e-17 0.11195183171403797\n",
      "Means after 2nd rotation: 1.0385181065427538 -1.266705712775666e-17 -4.486249399413817e-18\n",
      "Means after 1st rotation: 1.428171009464732 2.957019466981188e-17 0.09460395440404679\n",
      "Means after 2nd rotation: 1.431300925893781 2.957019466981188e-17 -3.3530488598804544e-17\n",
      "Means after 1st rotation: 3.0867025680330658 -3.801882171832956e-16 -0.03322424124510729\n",
      "Means after 2nd rotation: 3.0868813702033053 -3.801882171832956e-16 -5.5444115005897276e-18\n",
      "Means after 1st rotation: 2.0051384174349507 -1.689725409703536e-16 0.04083325582150301\n",
      "Means after 2nd rotation: 2.0055541448324257 -1.689725409703536e-16 2.125357741892729e-17\n",
      "Means after 1st rotation: 2.0319159538937637 -1.6052391392183592e-16 0.05477563106018458\n",
      "Means after 2nd rotation: 2.0326541303050165 -1.6052391392183592e-16 1.795333247810007e-17\n",
      "Means after 1st rotation: 3.3904973228297677 -3.3163633786928247e-16 0.1914042438731721\n",
      "Means after 2nd rotation: 3.3958957111031074 -3.3163633786928247e-16 3.010075041170239e-17\n",
      "Means after 1st rotation: 3.2706368181673513 8.44486157377972e-17 0.18878403856060008\n",
      "Means after 2nd rotation: 3.2760806781224274 8.44486157377972e-17 -6.99340099078633e-18\n"
     ]
    }
   ],
   "source": [
    "fast_df_splash = fast_df_splash.groupby(pd.Grouper(freq='180min')).apply(lambda df: FastDataSAIL.double_rotation(df, 'u', 'v', 'w'))"
   ]
  },
  {
   "cell_type": "code",
   "execution_count": 72,
   "metadata": {},
   "outputs": [],
   "source": [
    "fast_df_splash.index = fast_df_splash.index.get_level_values(1)"
   ]
  },
  {
   "cell_type": "code",
   "execution_count": 73,
   "metadata": {},
   "outputs": [],
   "source": [
    "fast_df_splash['u'] = fast_df_splash['u'].interpolate()\n",
    "fast_df_splash['v'] = fast_df_splash['v'].interpolate()\n",
    "fast_df_splash['w'] = fast_df_splash['w'].interpolate()"
   ]
  },
  {
   "cell_type": "markdown",
   "metadata": {},
   "source": [
    "Calculate MRD"
   ]
  },
  {
   "cell_type": "code",
   "execution_count": 74,
   "metadata": {},
   "outputs": [
    {
     "name": "stdout",
     "output_type": "stream",
     "text": [
      "Timestep of fast data is: 100.0 ms\n",
      "Dataset of length 108000, with M = 16, permits 21 iterations.\n"
     ]
    },
    {
     "name": "stderr",
     "output_type": "stream",
     "text": [
      "100%|██████████| 21/21 [00:00<00:00, 7386.20it/s]\n"
     ]
    },
    {
     "name": "stdout",
     "output_type": "stream",
     "text": [
      "Timestep of fast data is: 100.0 ms\n",
      "Dataset of length 108000, with M = 16, permits 21 iterations.\n"
     ]
    },
    {
     "name": "stderr",
     "output_type": "stream",
     "text": [
      "100%|██████████| 21/21 [00:00<00:00, 13527.93it/s]\n"
     ]
    },
    {
     "name": "stdout",
     "output_type": "stream",
     "text": [
      "Timestep of fast data is: 100.0 ms\n",
      "Dataset of length 108000, with M = 16, permits 21 iterations.\n"
     ]
    },
    {
     "name": "stderr",
     "output_type": "stream",
     "text": [
      "100%|██████████| 21/21 [00:00<00:00, 8033.60it/s]\n"
     ]
    },
    {
     "name": "stdout",
     "output_type": "stream",
     "text": [
      "Timestep of fast data is: 100.0 ms\n",
      "Dataset of length 108000, with M = 16, permits 21 iterations.\n"
     ]
    },
    {
     "name": "stderr",
     "output_type": "stream",
     "text": [
      "100%|██████████| 21/21 [00:00<00:00, 19547.36it/s]\n"
     ]
    },
    {
     "name": "stdout",
     "output_type": "stream",
     "text": [
      "Timestep of fast data is: 100.0 ms\n",
      "Dataset of length 108000, with M = 16, permits 21 iterations.\n"
     ]
    },
    {
     "name": "stderr",
     "output_type": "stream",
     "text": [
      "100%|██████████| 21/21 [00:00<00:00, 13158.11it/s]\n"
     ]
    },
    {
     "name": "stdout",
     "output_type": "stream",
     "text": [
      "Timestep of fast data is: 100.0 ms\n",
      "Dataset of length 108000, with M = 16, permits 21 iterations.\n"
     ]
    },
    {
     "name": "stderr",
     "output_type": "stream",
     "text": [
      "100%|██████████| 21/21 [00:00<00:00, 26578.27it/s]\n"
     ]
    },
    {
     "name": "stdout",
     "output_type": "stream",
     "text": [
      "Timestep of fast data is: 100.0 ms\n",
      "Dataset of length 108000, with M = 16, permits 21 iterations.\n"
     ]
    },
    {
     "name": "stderr",
     "output_type": "stream",
     "text": [
      "100%|██████████| 21/21 [00:00<00:00, 23488.10it/s]\n"
     ]
    },
    {
     "name": "stdout",
     "output_type": "stream",
     "text": [
      "Timestep of fast data is: 100.0 ms\n",
      "Dataset of length 108000, with M = 16, permits 21 iterations.\n"
     ]
    },
    {
     "name": "stderr",
     "output_type": "stream",
     "text": [
      "100%|██████████| 21/21 [00:00<00:00, 23863.56it/s]\n"
     ]
    }
   ],
   "source": [
    "mrd_uw_splash = fast_df_splash.groupby(pd.Grouper(freq='180min'))[['u', 'v', 'w']].apply(\n",
    "    lambda df: calculate_mrd_for_df(df.reset_index(), 'u', 'w', shift=2000, parallelism=20).assign(hour_group = f\"{df.index.min()} - {df.index.max()}\")\n",
    ")"
   ]
  },
  {
   "cell_type": "code",
   "execution_count": 75,
   "metadata": {},
   "outputs": [],
   "source": [
    "mrd_uw_splash.hour_group = mrd_uw_splash.hour_group.str.replace('2023-04-18 ', '')"
   ]
  },
  {
   "cell_type": "code",
   "execution_count": 76,
   "metadata": {},
   "outputs": [
    {
     "data": {
      "text/html": [
       "\n",
       "<style>\n",
       "  #altair-viz-9376d5694f61489ba695b056e624b423.vega-embed {\n",
       "    width: 100%;\n",
       "    display: flex;\n",
       "  }\n",
       "\n",
       "  #altair-viz-9376d5694f61489ba695b056e624b423.vega-embed details,\n",
       "  #altair-viz-9376d5694f61489ba695b056e624b423.vega-embed details summary {\n",
       "    position: relative;\n",
       "  }\n",
       "</style>\n",
       "<div id=\"altair-viz-9376d5694f61489ba695b056e624b423\"></div>\n",
       "<script type=\"text/javascript\">\n",
       "  var VEGA_DEBUG = (typeof VEGA_DEBUG == \"undefined\") ? {} : VEGA_DEBUG;\n",
       "  (function(spec, embedOpt){\n",
       "    let outputDiv = document.currentScript.previousElementSibling;\n",
       "    if (outputDiv.id !== \"altair-viz-9376d5694f61489ba695b056e624b423\") {\n",
       "      outputDiv = document.getElementById(\"altair-viz-9376d5694f61489ba695b056e624b423\");\n",
       "    }\n",
       "    const paths = {\n",
       "      \"vega\": \"https://cdn.jsdelivr.net/npm/vega@5?noext\",\n",
       "      \"vega-lib\": \"https://cdn.jsdelivr.net/npm/vega-lib?noext\",\n",
       "      \"vega-lite\": \"https://cdn.jsdelivr.net/npm/vega-lite@5.20.1?noext\",\n",
       "      \"vega-embed\": \"https://cdn.jsdelivr.net/npm/vega-embed@6?noext\",\n",
       "    };\n",
       "\n",
       "    function maybeLoadScript(lib, version) {\n",
       "      var key = `${lib.replace(\"-\", \"\")}_version`;\n",
       "      return (VEGA_DEBUG[key] == version) ?\n",
       "        Promise.resolve(paths[lib]) :\n",
       "        new Promise(function(resolve, reject) {\n",
       "          var s = document.createElement('script');\n",
       "          document.getElementsByTagName(\"head\")[0].appendChild(s);\n",
       "          s.async = true;\n",
       "          s.onload = () => {\n",
       "            VEGA_DEBUG[key] = version;\n",
       "            return resolve(paths[lib]);\n",
       "          };\n",
       "          s.onerror = () => reject(`Error loading script: ${paths[lib]}`);\n",
       "          s.src = paths[lib];\n",
       "        });\n",
       "    }\n",
       "\n",
       "    function showError(err) {\n",
       "      outputDiv.innerHTML = `<div class=\"error\" style=\"color:red;\">${err}</div>`;\n",
       "      throw err;\n",
       "    }\n",
       "\n",
       "    function displayChart(vegaEmbed) {\n",
       "      vegaEmbed(outputDiv, spec, embedOpt)\n",
       "        .catch(err => showError(`Javascript Error: ${err.message}<br>This usually means there's a typo in your chart specification. See the javascript console for the full traceback.`));\n",
       "    }\n",
       "\n",
       "    if(typeof define === \"function\" && define.amd) {\n",
       "      requirejs.config({paths});\n",
       "      require([\"vega-embed\"], displayChart, err => showError(`Error loading script: ${err.message}`));\n",
       "    } else {\n",
       "      maybeLoadScript(\"vega\", \"5\")\n",
       "        .then(() => maybeLoadScript(\"vega-lite\", \"5.20.1\"))\n",
       "        .then(() => maybeLoadScript(\"vega-embed\", \"6\"))\n",
       "        .catch(showError)\n",
       "        .then(() => displayChart(vegaEmbed));\n",
       "    }\n",
       "  })({\"config\": {\"view\": {\"continuousWidth\": 300, \"continuousHeight\": 300}}, \"data\": {\"url\": \"altair-data-2ae1371d9acec42a4934833e14bd5b2b.json\", \"format\": {\"type\": \"json\"}}, \"mark\": {\"type\": \"boxplot\", \"outliers\": false, \"size\": 10}, \"encoding\": {\"column\": {\"field\": \"hour_group\", \"type\": \"nominal\"}, \"x\": {\"field\": \"tau\", \"scale\": {\"type\": \"log\"}, \"type\": \"quantitative\"}, \"y\": {\"field\": \"Co\", \"type\": \"quantitative\"}}, \"height\": 200, \"width\": 200, \"$schema\": \"https://vega.github.io/schema/vega-lite/v5.20.1.json\"}, {\"mode\": \"vega-lite\"});\n",
       "</script>"
      ],
      "text/plain": [
       "alt.Chart(...)"
      ]
     },
     "execution_count": 76,
     "metadata": {},
     "output_type": "execute_result"
    }
   ],
   "source": [
    "alt.Chart(mrd_uw_splash.reset_index()).mark_boxplot(size=10, outliers=False).encode(\n",
    "    alt.X('tau:Q').scale(type='log'),\n",
    "    alt.Y('Co:Q'),\n",
    "    alt.Column('hour_group'),\n",
    ").properties(width=200, height=200)"
   ]
  },
  {
   "cell_type": "code",
   "execution_count": 77,
   "metadata": {},
   "outputs": [
    {
     "data": {
      "text/plain": [
       "array(['00:00:00 - 02:59:59.900000', '03:00:00 - 05:59:59.900000',\n",
       "       '06:00:00 - 08:59:59.900000', '09:00:00 - 11:59:59.900000',\n",
       "       '12:00:00 - 14:59:59.900000', '15:00:00 - 17:59:59.900000',\n",
       "       '18:00:00 - 20:59:59.900000', '21:00:00 - 23:59:59.900000'],\n",
       "      dtype=object)"
      ]
     },
     "execution_count": 77,
     "metadata": {},
     "output_type": "execute_result"
    }
   ],
   "source": [
    "mrd_uw_splash.hour_group.unique()"
   ]
  },
  {
   "cell_type": "code",
   "execution_count": 78,
   "metadata": {},
   "outputs": [
    {
     "data": {
      "text/html": [
       "\n",
       "<style>\n",
       "  #altair-viz-dab45863359f40f5ba92d105afb737f7.vega-embed {\n",
       "    width: 100%;\n",
       "    display: flex;\n",
       "  }\n",
       "\n",
       "  #altair-viz-dab45863359f40f5ba92d105afb737f7.vega-embed details,\n",
       "  #altair-viz-dab45863359f40f5ba92d105afb737f7.vega-embed details summary {\n",
       "    position: relative;\n",
       "  }\n",
       "</style>\n",
       "<div id=\"altair-viz-dab45863359f40f5ba92d105afb737f7\"></div>\n",
       "<script type=\"text/javascript\">\n",
       "  var VEGA_DEBUG = (typeof VEGA_DEBUG == \"undefined\") ? {} : VEGA_DEBUG;\n",
       "  (function(spec, embedOpt){\n",
       "    let outputDiv = document.currentScript.previousElementSibling;\n",
       "    if (outputDiv.id !== \"altair-viz-dab45863359f40f5ba92d105afb737f7\") {\n",
       "      outputDiv = document.getElementById(\"altair-viz-dab45863359f40f5ba92d105afb737f7\");\n",
       "    }\n",
       "    const paths = {\n",
       "      \"vega\": \"https://cdn.jsdelivr.net/npm/vega@5?noext\",\n",
       "      \"vega-lib\": \"https://cdn.jsdelivr.net/npm/vega-lib?noext\",\n",
       "      \"vega-lite\": \"https://cdn.jsdelivr.net/npm/vega-lite@5.20.1?noext\",\n",
       "      \"vega-embed\": \"https://cdn.jsdelivr.net/npm/vega-embed@6?noext\",\n",
       "    };\n",
       "\n",
       "    function maybeLoadScript(lib, version) {\n",
       "      var key = `${lib.replace(\"-\", \"\")}_version`;\n",
       "      return (VEGA_DEBUG[key] == version) ?\n",
       "        Promise.resolve(paths[lib]) :\n",
       "        new Promise(function(resolve, reject) {\n",
       "          var s = document.createElement('script');\n",
       "          document.getElementsByTagName(\"head\")[0].appendChild(s);\n",
       "          s.async = true;\n",
       "          s.onload = () => {\n",
       "            VEGA_DEBUG[key] = version;\n",
       "            return resolve(paths[lib]);\n",
       "          };\n",
       "          s.onerror = () => reject(`Error loading script: ${paths[lib]}`);\n",
       "          s.src = paths[lib];\n",
       "        });\n",
       "    }\n",
       "\n",
       "    function showError(err) {\n",
       "      outputDiv.innerHTML = `<div class=\"error\" style=\"color:red;\">${err}</div>`;\n",
       "      throw err;\n",
       "    }\n",
       "\n",
       "    function displayChart(vegaEmbed) {\n",
       "      vegaEmbed(outputDiv, spec, embedOpt)\n",
       "        .catch(err => showError(`Javascript Error: ${err.message}<br>This usually means there's a typo in your chart specification. See the javascript console for the full traceback.`));\n",
       "    }\n",
       "\n",
       "    if(typeof define === \"function\" && define.amd) {\n",
       "      requirejs.config({paths});\n",
       "      require([\"vega-embed\"], displayChart, err => showError(`Error loading script: ${err.message}`));\n",
       "    } else {\n",
       "      maybeLoadScript(\"vega\", \"5\")\n",
       "        .then(() => maybeLoadScript(\"vega-lite\", \"5.20.1\"))\n",
       "        .then(() => maybeLoadScript(\"vega-embed\", \"6\"))\n",
       "        .catch(showError)\n",
       "        .then(() => displayChart(vegaEmbed));\n",
       "    }\n",
       "  })({\"config\": {\"view\": {\"continuousWidth\": 300, \"continuousHeight\": 300}}, \"data\": {\"url\": \"altair-data-2ae1371d9acec42a4934833e14bd5b2b.json\", \"format\": {\"type\": \"json\"}}, \"mark\": {\"type\": \"line\"}, \"encoding\": {\"color\": {\"field\": \"hour_group\", \"scale\": {\"scheme\": \"purpleorange\"}, \"type\": \"ordinal\"}, \"x\": {\"field\": \"tau\", \"scale\": {\"type\": \"log\"}, \"type\": \"quantitative\"}, \"y\": {\"aggregate\": \"mean\", \"field\": \"Co\", \"type\": \"quantitative\"}}, \"height\": 200, \"title\": \"splash\", \"width\": 200, \"$schema\": \"https://vega.github.io/schema/vega-lite/v5.20.1.json\"}, {\"mode\": \"vega-lite\"});\n",
       "</script>"
      ],
      "text/plain": [
       "alt.Chart(...)"
      ]
     },
     "execution_count": 78,
     "metadata": {},
     "output_type": "execute_result"
    }
   ],
   "source": [
    "daily_mrd_splash_chart = alt.Chart(\n",
    "    mrd_uw_splash.reset_index()\n",
    ").mark_line().encode(\n",
    "    alt.X('tau:Q').scale(type='log'),\n",
    "    alt.Y('mean(Co):Q'),\n",
    "    alt.Color('hour_group:O').scale(scheme='purpleorange'),\n",
    ").properties(width=200, height=200, title='splash')\n",
    "daily_mrd_splash_chart"
   ]
  },
  {
   "cell_type": "markdown",
   "metadata": {},
   "source": [
    "# SOS EC data"
   ]
  },
  {
   "cell_type": "markdown",
   "metadata": {},
   "source": [
    "Open data, average from 20hz to 10hz"
   ]
  },
  {
   "cell_type": "code",
   "execution_count": 5,
   "metadata": {},
   "outputs": [],
   "source": [
    "sos_file_list = sorted(np.array([\n",
    "    [f for f in glob.glob(\n",
    "        os.path.join(DATA_DIR, \"sosqc_fast/isfs_sos_qc_geo_tiltcor_hr_v2_**.nc\")\n",
    "    ) if d in f]\n",
    "    for d in DATES\n",
    "]).flatten())"
   ]
  },
  {
   "cell_type": "code",
   "execution_count": 6,
   "metadata": {},
   "outputs": [],
   "source": [
    "\n",
    "fast_df_sos_all_data = fast_data_files_to_dataframe(\n",
    "    sos_file_list,\n",
    "    rotation='none'\n",
    ")"
   ]
  },
  {
   "cell_type": "code",
   "execution_count": 7,
   "metadata": {},
   "outputs": [],
   "source": [
    "fast_df_sos_all_data = utils.modify_df_timezone(fast_df_sos_all_data, 'UTC', 'US/Mountain')\n",
    "fast_df_sos_all_data = fast_df_sos_all_data.set_index('time').loc[DATE_LOCAL]"
   ]
  },
  {
   "cell_type": "code",
   "execution_count": 8,
   "metadata": {},
   "outputs": [],
   "source": [
    "fast_df_sos = fast_df_sos_all_data[['u_3m_c', 'v_3m_c', 'w_3m_c']].rename(columns={\n",
    "    'u_3m_c': 'u',\n",
    "    'v_3m_c': 'v',\n",
    "    'w_3m_c': 'w',\n",
    "})"
   ]
  },
  {
   "cell_type": "code",
   "execution_count": 9,
   "metadata": {},
   "outputs": [],
   "source": [
    "fast_df_sos['dir'] = np.rad2deg(np.arctan2(-fast_df_sos['u'], -fast_df_sos['v']))\n",
    "\n",
    "# Create 30min avgs\n",
    "fast_df_sos = fast_df_sos.join(\n",
    "    fast_df_sos.groupby(pd.Grouper(freq='30min'))[['u', 'v', 'w']].transform('mean').rename(columns = {\n",
    "        'u': 'u_30min',\n",
    "        'v': 'v_30min',\n",
    "        'w': 'w_30min',\n",
    "    })\n",
    ")\n",
    "fast_df_sos['dir_30min'] = np.rad2deg(np.arctan2(-fast_df_sos['u_30min'], -fast_df_sos['v_30min']))\n",
    "fast_df_sos['dir_30min'] = fast_df_sos['dir_30min'].apply(lambda dir: dir if dir >= 0 else dir+360)\n",
    "\n",
    "# Create 1min avgs\n",
    "fast_df_sos = fast_df_sos.join(\n",
    "    fast_df_sos.groupby(pd.Grouper(freq='1min'))[['u', 'v', 'w']].transform('mean').rename(columns = {\n",
    "        'u': 'u_1min',\n",
    "        'v': 'v_1min',\n",
    "        'w': 'w_1min',\n",
    "    })\n",
    ")\n",
    "fast_df_sos['dir_1min'] = np.rad2deg(np.arctan2(-fast_df_sos['u_1min'], -fast_df_sos['v_1min']))\n",
    "fast_df_sos['dir_1min'] = fast_df_sos['dir_1min'].apply(lambda dir: dir if dir >= 0 else dir+360)"
   ]
  },
  {
   "cell_type": "code",
   "execution_count": 10,
   "metadata": {},
   "outputs": [
    {
     "data": {
      "image/png": "[encoded data removed]",
      "text/plain": [
       "<Figure size 640x480 with 4 Axes>"
      ]
     },
     "metadata": {},
     "output_type": "display_data"
    }
   ],
   "source": [
    "fast_df_sos_1min = fast_df_sos.groupby(pd.Grouper(freq='1min')).mean()\n",
    "fig, axes = plt.subplots(4,1)\n",
    "fast_df_sos_1min['dir_30min'].plot(ax=axes[0], sharex=True)\n",
    "fast_df_sos_1min[['u_30min','v_30min','w_30min']].plot(ax=axes[1])\n",
    "fast_df_sos_1min[['u_1min','v_1min','w_1min']].plot(ax=axes[2])\n",
    "fast_df_sos_1min['dir_1min'].plot(ax=axes[3], sharex=True)\n",
    "axes[0].grid(axis='x')  # Add grid lines only for the x-axis\n",
    "axes[1].grid(axis='x')  # Add grid lines only for the x-axis\n",
    "plt.show()"
   ]
  },
  {
   "cell_type": "markdown",
   "metadata": {},
   "source": [
    "Apply rotation into a given wind direction"
   ]
  },
  {
   "cell_type": "code",
   "execution_count": 11,
   "metadata": {},
   "outputs": [],
   "source": [
    "# import numpy as np\n",
    "\n",
    "# def project_winds(u, v):\n",
    "#     # Convert -45 degrees to radians\n",
    "#     angle = np.radians(-45)\n",
    "#     print(angle)\n",
    "#     # Define the rotation matrix\n",
    "#     rotation_matrix = np.array([\n",
    "#         [np.cos(angle), -np.sin(angle)],\n",
    "#         [np.sin(angle), np.cos(angle)]\n",
    "#     ])\n",
    "#     print(rotation_matrix)\n",
    "#     # Original wind vector\n",
    "#     wind_vector = np.array([u, v])\n",
    "#     print(wind_vector)\n",
    "#     # Projected wind vector\n",
    "#     projected_vector = rotation_matrix @ wind_vector\n",
    "#     print(projected_vector)\n",
    "#     return projected_vector\n",
    "\n",
    "# # Example usage\n",
    "# u = 10  # Westerly wind component\n",
    "# v = 5   # Southerly wind component\n",
    "# projected = project_winds(u, v)\n",
    "# print(\"Projected winds:\", projected)"
   ]
  },
  {
   "cell_type": "code",
   "execution_count": 12,
   "metadata": {},
   "outputs": [],
   "source": [
    "# src = fast_df_sos.loc[f'{DATE_LOCAL} 1500': f'{DATE_LOCAL} 1501']\n",
    "# u, v = project_winds(\n",
    "#     src['u'],\n",
    "#     src['v']\n",
    "# )\n",
    "# src['u_proj'] = u \n",
    "# src['v_proj'] = v\n",
    "# src['dir_proj'] = np.rad2deg(np.arctan2(-src['u_proj'], -src['v_proj']))"
   ]
  },
  {
   "cell_type": "code",
   "execution_count": 13,
   "metadata": {},
   "outputs": [],
   "source": [
    "# src[['u', 'v', 'dir']].plot(subplots=True)"
   ]
  },
  {
   "cell_type": "code",
   "execution_count": 14,
   "metadata": {},
   "outputs": [],
   "source": [
    "# src[['u_proj', 'v_proj', 'dir_proj']].plot(subplots=True)"
   ]
  },
  {
   "cell_type": "markdown",
   "metadata": {},
   "source": [
    "Apply double rotation to 3hr chunks"
   ]
  },
  {
   "cell_type": "code",
   "execution_count": 15,
   "metadata": {},
   "outputs": [
    {
     "name": "stdout",
     "output_type": "stream",
     "text": [
      "Means after 1st rotation: 1.4472486 -3.051758e-08 0.0074909516\n",
      "Means after 2nd rotation: 1.4472678 -3.051758e-08 1.165602e-09\n",
      "Means after 1st rotation: 1.2023139 2.8257016e-08 0.008348804\n",
      "Means after 2nd rotation: 1.202343 2.8257016e-08 1.2009232e-09\n",
      "Means after 1st rotation: 1.9015547 -2.2605613e-08 0.011437975\n",
      "Means after 2nd rotation: 1.9015889 -2.2605613e-08 -9.889956e-10\n",
      "Means after 1st rotation: 1.5724633 1.3111256e-07 -0.0052673933\n",
      "Means after 2nd rotation: 1.5724721 1.3111256e-07 -1.2892264e-09\n",
      "Means after 1st rotation: 1.9473157 -8.251049e-08 -0.011317748\n",
      "Means after 2nd rotation: 1.9473485 -8.251049e-08 5.651403e-10\n",
      "Means after 1st rotation: 1.8408698 -9.94647e-08 -0.018046634\n",
      "Means after 2nd rotation: 1.8409578 -9.94647e-08 -4.803693e-09\n",
      "Means after 1st rotation: 1.2515265 -1.808449e-07 0.009646556\n",
      "Means after 2nd rotation: 1.2515633 -1.808449e-07 1.9515003e-09\n",
      "Means after 1st rotation: 1.0377959 9.042245e-08 0.00890773\n",
      "Means after 2nd rotation: 1.037834 9.042245e-08 1.6247784e-09\n"
     ]
    }
   ],
   "source": [
    "fast_df_sos = fast_df_sos.groupby(pd.Grouper(freq='180min')).apply(lambda df: FastDataSAIL.double_rotation(df, 'u', 'v', 'w'))"
   ]
  },
  {
   "cell_type": "code",
   "execution_count": 16,
   "metadata": {},
   "outputs": [],
   "source": [
    "fast_df_sos.index = fast_df_sos.index.get_level_values(1)"
   ]
  },
  {
   "cell_type": "code",
   "execution_count": 17,
   "metadata": {},
   "outputs": [],
   "source": [
    "fast_df_sos['u'] = fast_df_sos['u'].interpolate()\n",
    "fast_df_sos['v'] = fast_df_sos['v'].interpolate()\n",
    "fast_df_sos['w'] = fast_df_sos['w'].interpolate()"
   ]
  },
  {
   "cell_type": "markdown",
   "metadata": {},
   "source": [
    "Calculate TKE"
   ]
  },
  {
   "cell_type": "code",
   "execution_count": 18,
   "metadata": {},
   "outputs": [],
   "source": [
    "fast_df_sos['tke'] = 0.5 * ( fast_df_sos['u']**2 + fast_df_sos['v']**2 + fast_df_sos['w']**2 ) "
   ]
  },
  {
   "cell_type": "markdown",
   "metadata": {},
   "source": [
    "Calculate MRD"
   ]
  },
  {
   "cell_type": "code",
   "execution_count": 19,
   "metadata": {},
   "outputs": [
    {
     "name": "stdout",
     "output_type": "stream",
     "text": [
      "Timestep of fast data is: 50.0 ms\n",
      "Dataset of length 216000, with M = 17, permits 42 iterations.\n"
     ]
    },
    {
     "name": "stderr",
     "output_type": "stream",
     "text": [
      "100%|██████████| 42/42 [00:09<00:00,  4.31it/s]\n"
     ]
    },
    {
     "name": "stdout",
     "output_type": "stream",
     "text": [
      "Timestep of fast data is: 50.0 ms\n",
      "Dataset of length 216000, with M = 17, permits 42 iterations.\n"
     ]
    },
    {
     "name": "stderr",
     "output_type": "stream",
     "text": [
      "100%|██████████| 42/42 [00:07<00:00,  5.74it/s]\n"
     ]
    },
    {
     "name": "stdout",
     "output_type": "stream",
     "text": [
      "Timestep of fast data is: 50.0 ms\n",
      "Dataset of length 216000, with M = 17, permits 42 iterations.\n"
     ]
    },
    {
     "name": "stderr",
     "output_type": "stream",
     "text": [
      "100%|██████████| 42/42 [00:07<00:00,  5.86it/s]\n"
     ]
    },
    {
     "name": "stdout",
     "output_type": "stream",
     "text": [
      "Timestep of fast data is: 50.0 ms\n",
      "Dataset of length 216000, with M = 17, permits 42 iterations.\n"
     ]
    },
    {
     "name": "stderr",
     "output_type": "stream",
     "text": [
      "100%|██████████| 42/42 [00:07<00:00,  5.80it/s]\n"
     ]
    },
    {
     "name": "stdout",
     "output_type": "stream",
     "text": [
      "Timestep of fast data is: 50.0 ms\n",
      "Dataset of length 216000, with M = 17, permits 42 iterations.\n"
     ]
    },
    {
     "name": "stderr",
     "output_type": "stream",
     "text": [
      "100%|██████████| 42/42 [00:07<00:00,  5.90it/s]\n"
     ]
    },
    {
     "name": "stdout",
     "output_type": "stream",
     "text": [
      "Timestep of fast data is: 50.0 ms\n",
      "Dataset of length 216000, with M = 17, permits 42 iterations.\n"
     ]
    },
    {
     "name": "stderr",
     "output_type": "stream",
     "text": [
      "100%|██████████| 42/42 [00:07<00:00,  5.86it/s]\n"
     ]
    },
    {
     "name": "stdout",
     "output_type": "stream",
     "text": [
      "Timestep of fast data is: 50.0 ms\n",
      "Dataset of length 216000, with M = 17, permits 42 iterations.\n"
     ]
    },
    {
     "name": "stderr",
     "output_type": "stream",
     "text": [
      "100%|██████████| 42/42 [00:07<00:00,  5.84it/s]\n"
     ]
    },
    {
     "name": "stdout",
     "output_type": "stream",
     "text": [
      "Timestep of fast data is: 50.0 ms\n",
      "Dataset of length 216000, with M = 17, permits 42 iterations.\n"
     ]
    },
    {
     "name": "stderr",
     "output_type": "stream",
     "text": [
      "100%|██████████| 42/42 [00:07<00:00,  5.96it/s]\n"
     ]
    },
    {
     "name": "stdout",
     "output_type": "stream",
     "text": [
      "Timestep of fast data is: 50.0 ms\n",
      "Dataset of length 216000, with M = 17, permits 42 iterations.\n"
     ]
    },
    {
     "name": "stderr",
     "output_type": "stream",
     "text": [
      "100%|██████████| 42/42 [00:07<00:00,  5.85it/s]\n"
     ]
    },
    {
     "name": "stdout",
     "output_type": "stream",
     "text": [
      "Timestep of fast data is: 50.0 ms\n",
      "Dataset of length 216000, with M = 17, permits 42 iterations.\n"
     ]
    },
    {
     "name": "stderr",
     "output_type": "stream",
     "text": [
      "100%|██████████| 42/42 [00:07<00:00,  5.83it/s]\n"
     ]
    },
    {
     "name": "stdout",
     "output_type": "stream",
     "text": [
      "Timestep of fast data is: 50.0 ms\n",
      "Dataset of length 216000, with M = 17, permits 42 iterations.\n"
     ]
    },
    {
     "name": "stderr",
     "output_type": "stream",
     "text": [
      "100%|██████████| 42/42 [00:07<00:00,  5.88it/s]\n"
     ]
    },
    {
     "name": "stdout",
     "output_type": "stream",
     "text": [
      "Timestep of fast data is: 50.0 ms\n",
      "Dataset of length 216000, with M = 17, permits 42 iterations.\n"
     ]
    },
    {
     "name": "stderr",
     "output_type": "stream",
     "text": [
      "100%|██████████| 42/42 [00:07<00:00,  5.79it/s]\n"
     ]
    },
    {
     "name": "stdout",
     "output_type": "stream",
     "text": [
      "Timestep of fast data is: 50.0 ms\n",
      "Dataset of length 216000, with M = 17, permits 42 iterations.\n"
     ]
    },
    {
     "name": "stderr",
     "output_type": "stream",
     "text": [
      "100%|██████████| 42/42 [00:07<00:00,  5.85it/s]\n"
     ]
    },
    {
     "name": "stdout",
     "output_type": "stream",
     "text": [
      "Timestep of fast data is: 50.0 ms\n",
      "Dataset of length 216000, with M = 17, permits 42 iterations.\n"
     ]
    },
    {
     "name": "stderr",
     "output_type": "stream",
     "text": [
      "100%|██████████| 42/42 [00:07<00:00,  5.89it/s]\n"
     ]
    },
    {
     "name": "stdout",
     "output_type": "stream",
     "text": [
      "Timestep of fast data is: 50.0 ms\n",
      "Dataset of length 216000, with M = 17, permits 42 iterations.\n"
     ]
    },
    {
     "name": "stderr",
     "output_type": "stream",
     "text": [
      "100%|██████████| 42/42 [00:07<00:00,  5.89it/s]\n"
     ]
    },
    {
     "name": "stdout",
     "output_type": "stream",
     "text": [
      "Timestep of fast data is: 50.0 ms\n",
      "Dataset of length 216000, with M = 17, permits 42 iterations.\n"
     ]
    },
    {
     "name": "stderr",
     "output_type": "stream",
     "text": [
      "100%|██████████| 42/42 [00:07<00:00,  5.76it/s]\n"
     ]
    },
    {
     "name": "stdout",
     "output_type": "stream",
     "text": [
      "Timestep of fast data is: 50.0 ms\n",
      "Dataset of length 216000, with M = 17, permits 42 iterations.\n"
     ]
    },
    {
     "name": "stderr",
     "output_type": "stream",
     "text": [
      "100%|██████████| 42/42 [00:07<00:00,  5.31it/s]\n"
     ]
    },
    {
     "name": "stdout",
     "output_type": "stream",
     "text": [
      "Timestep of fast data is: 50.0 ms\n",
      "Dataset of length 216000, with M = 17, permits 42 iterations.\n"
     ]
    },
    {
     "name": "stderr",
     "output_type": "stream",
     "text": [
      "100%|██████████| 42/42 [00:08<00:00,  4.96it/s]\n"
     ]
    },
    {
     "name": "stdout",
     "output_type": "stream",
     "text": [
      "Timestep of fast data is: 50.0 ms\n",
      "Dataset of length 216000, with M = 17, permits 42 iterations.\n"
     ]
    },
    {
     "name": "stderr",
     "output_type": "stream",
     "text": [
      "100%|██████████| 42/42 [00:07<00:00,  5.58it/s]\n"
     ]
    },
    {
     "name": "stdout",
     "output_type": "stream",
     "text": [
      "Timestep of fast data is: 50.0 ms\n",
      "Dataset of length 216000, with M = 17, permits 42 iterations.\n"
     ]
    },
    {
     "name": "stderr",
     "output_type": "stream",
     "text": [
      "100%|██████████| 42/42 [00:07<00:00,  5.80it/s]\n"
     ]
    },
    {
     "name": "stdout",
     "output_type": "stream",
     "text": [
      "Timestep of fast data is: 50.0 ms\n",
      "Dataset of length 216000, with M = 17, permits 42 iterations.\n"
     ]
    },
    {
     "name": "stderr",
     "output_type": "stream",
     "text": [
      "100%|██████████| 42/42 [00:07<00:00,  5.82it/s]\n"
     ]
    },
    {
     "name": "stdout",
     "output_type": "stream",
     "text": [
      "Timestep of fast data is: 50.0 ms\n",
      "Dataset of length 216000, with M = 17, permits 42 iterations.\n"
     ]
    },
    {
     "name": "stderr",
     "output_type": "stream",
     "text": [
      "100%|██████████| 42/42 [00:07<00:00,  5.92it/s]\n"
     ]
    },
    {
     "name": "stdout",
     "output_type": "stream",
     "text": [
      "Timestep of fast data is: 50.0 ms\n",
      "Dataset of length 216000, with M = 17, permits 42 iterations.\n"
     ]
    },
    {
     "name": "stderr",
     "output_type": "stream",
     "text": [
      "100%|██████████| 42/42 [00:07<00:00,  5.67it/s]\n"
     ]
    },
    {
     "name": "stdout",
     "output_type": "stream",
     "text": [
      "Timestep of fast data is: 50.0 ms\n",
      "Dataset of length 216000, with M = 17, permits 42 iterations.\n"
     ]
    },
    {
     "name": "stderr",
     "output_type": "stream",
     "text": [
      "100%|██████████| 42/42 [00:07<00:00,  5.76it/s]\n"
     ]
    },
    {
     "name": "stdout",
     "output_type": "stream",
     "text": [
      "Timestep of fast data is: 50.0 ms\n",
      "Dataset of length 216000, with M = 17, permits 42 iterations.\n"
     ]
    },
    {
     "name": "stderr",
     "output_type": "stream",
     "text": [
      "100%|██████████| 42/42 [00:07<00:00,  5.97it/s]\n"
     ]
    },
    {
     "name": "stdout",
     "output_type": "stream",
     "text": [
      "Timestep of fast data is: 50.0 ms\n",
      "Dataset of length 216000, with M = 17, permits 42 iterations.\n"
     ]
    },
    {
     "name": "stderr",
     "output_type": "stream",
     "text": [
      "100%|██████████| 42/42 [00:07<00:00,  5.49it/s]\n"
     ]
    },
    {
     "name": "stdout",
     "output_type": "stream",
     "text": [
      "Timestep of fast data is: 50.0 ms\n",
      "Dataset of length 216000, with M = 17, permits 42 iterations.\n"
     ]
    },
    {
     "name": "stderr",
     "output_type": "stream",
     "text": [
      "100%|██████████| 42/42 [00:07<00:00,  5.78it/s]\n"
     ]
    },
    {
     "name": "stdout",
     "output_type": "stream",
     "text": [
      "Timestep of fast data is: 50.0 ms\n",
      "Dataset of length 216000, with M = 17, permits 42 iterations.\n"
     ]
    },
    {
     "name": "stderr",
     "output_type": "stream",
     "text": [
      "100%|██████████| 42/42 [00:07<00:00,  5.74it/s]\n"
     ]
    },
    {
     "name": "stdout",
     "output_type": "stream",
     "text": [
      "Timestep of fast data is: 50.0 ms\n",
      "Dataset of length 216000, with M = 17, permits 42 iterations.\n"
     ]
    },
    {
     "name": "stderr",
     "output_type": "stream",
     "text": [
      "100%|██████████| 42/42 [00:07<00:00,  5.66it/s]\n"
     ]
    },
    {
     "name": "stdout",
     "output_type": "stream",
     "text": [
      "Timestep of fast data is: 50.0 ms\n",
      "Dataset of length 216000, with M = 17, permits 42 iterations.\n"
     ]
    },
    {
     "name": "stderr",
     "output_type": "stream",
     "text": [
      "100%|██████████| 42/42 [00:07<00:00,  5.85it/s]\n"
     ]
    },
    {
     "name": "stdout",
     "output_type": "stream",
     "text": [
      "Timestep of fast data is: 50.0 ms\n",
      "Dataset of length 216000, with M = 17, permits 42 iterations.\n"
     ]
    },
    {
     "name": "stderr",
     "output_type": "stream",
     "text": [
      "100%|██████████| 42/42 [00:07<00:00,  5.99it/s]\n"
     ]
    },
    {
     "name": "stdout",
     "output_type": "stream",
     "text": [
      "Timestep of fast data is: 50.0 ms\n",
      "Dataset of length 216000, with M = 17, permits 42 iterations.\n"
     ]
    },
    {
     "name": "stderr",
     "output_type": "stream",
     "text": [
      "100%|██████████| 42/42 [00:07<00:00,  5.76it/s]\n"
     ]
    }
   ],
   "source": [
    "mrd_uu_sos = fast_df_sos.groupby(pd.Grouper(freq='180min'))[['u', 'v', 'w']].apply(\n",
    "    lambda df: calculate_mrd_for_df(df.reset_index(), 'u', 'u', shift=2000, parallelism=20).assign(hour_group = f\"{df.index.min()} - {df.index.max()}\")\n",
    ")\n",
    "mrd_vv_sos = fast_df_sos.groupby(pd.Grouper(freq='180min'))[['u', 'v', 'w']].apply(\n",
    "    lambda df: calculate_mrd_for_df(df.reset_index(), 'v', 'v', shift=2000, parallelism=20).assign(hour_group = f\"{df.index.min()} - {df.index.max()}\")\n",
    ")\n",
    "mrd_ww_sos = fast_df_sos.groupby(pd.Grouper(freq='180min'))[['u', 'v', 'w']].apply(\n",
    "    lambda df: calculate_mrd_for_df(df.reset_index(), 'w', 'w', shift=2000, parallelism=20).assign(hour_group = f\"{df.index.min()} - {df.index.max()}\")\n",
    ")\n",
    "\n",
    "mrd_wtke_sos = fast_df_sos.groupby(pd.Grouper(freq='180min'))[['u', 'v', 'w', 'tke']].apply(\n",
    "    lambda df: calculate_mrd_for_df(df.reset_index(), 'w', 'tke', shift=2000, parallelism=20).assign(hour_group = f\"{df.index.min()} - {df.index.max()}\")\n",
    ")"
   ]
  },
  {
   "cell_type": "code",
   "execution_count": 20,
   "metadata": {},
   "outputs": [
    {
     "name": "stdout",
     "output_type": "stream",
     "text": [
      "Got data of length 1728000. using M = 15\n",
      "Timestep of fast data is: 50.0 ms\n",
      "Dataset of length 1728000, with M = 15, permits 1412 iterations.\n"
     ]
    },
    {
     "name": "stderr",
     "output_type": "stream",
     "text": [
      "100%|██████████| 1412/1412 [05:34<00:00,  4.22it/s]\n"
     ]
    }
   ],
   "source": [
    "mrd_wtke_sos = calculate_mrd_for_df(fast_df_sos.reset_index(), 'w', 'tke', M=15, shift=1200, parallelism=20)"
   ]
  },
  {
   "cell_type": "code",
   "execution_count": 21,
   "metadata": {},
   "outputs": [
    {
     "data": {
      "image/png": "[encoded data removed]",
      "text/plain": [
       "<Figure size 1000x400 with 2 Axes>"
      ]
     },
     "metadata": {},
     "output_type": "display_data"
    }
   ],
   "source": [
    "src = mrd_wtke_sos.copy()\n",
    "src['midpoint_time'] = src['start_time'] + (src['end_time'] - src['start_time']) / 2\n",
    "src = src[src.start_time.dt.hour >= 12]\n",
    "src = src.reset_index()\n",
    "ds = src.set_index(['midpoint_time', 'tau']).to_xarray()\n",
    "ds['Co'].plot.contourf(x='midpoint_time', y='tau', cmap='PuOr', levels=20, figsize=(10,4))\n",
    "plt.yscale('log')"
   ]
  },
  {
   "cell_type": "code",
   "execution_count": 22,
   "metadata": {},
   "outputs": [
    {
     "data": {
      "text/html": [
       "\n",
       "<style>\n",
       "  #altair-viz-d55790a4fadb4cb686d6cfd40aadb671.vega-embed {\n",
       "    width: 100%;\n",
       "    display: flex;\n",
       "  }\n",
       "\n",
       "  #altair-viz-d55790a4fadb4cb686d6cfd40aadb671.vega-embed details,\n",
       "  #altair-viz-d55790a4fadb4cb686d6cfd40aadb671.vega-embed details summary {\n",
       "    position: relative;\n",
       "  }\n",
       "</style>\n",
       "<div id=\"altair-viz-d55790a4fadb4cb686d6cfd40aadb671\"></div>\n",
       "<script type=\"text/javascript\">\n",
       "  var VEGA_DEBUG = (typeof VEGA_DEBUG == \"undefined\") ? {} : VEGA_DEBUG;\n",
       "  (function(spec, embedOpt){\n",
       "    let outputDiv = document.currentScript.previousElementSibling;\n",
       "    if (outputDiv.id !== \"altair-viz-d55790a4fadb4cb686d6cfd40aadb671\") {\n",
       "      outputDiv = document.getElementById(\"altair-viz-d55790a4fadb4cb686d6cfd40aadb671\");\n",
       "    }\n",
       "    const paths = {\n",
       "      \"vega\": \"https://cdn.jsdelivr.net/npm/vega@5?noext\",\n",
       "      \"vega-lib\": \"https://cdn.jsdelivr.net/npm/vega-lib?noext\",\n",
       "      \"vega-lite\": \"https://cdn.jsdelivr.net/npm/vega-lite@5.20.1?noext\",\n",
       "      \"vega-embed\": \"https://cdn.jsdelivr.net/npm/vega-embed@6?noext\",\n",
       "    };\n",
       "\n",
       "    function maybeLoadScript(lib, version) {\n",
       "      var key = `${lib.replace(\"-\", \"\")}_version`;\n",
       "      return (VEGA_DEBUG[key] == version) ?\n",
       "        Promise.resolve(paths[lib]) :\n",
       "        new Promise(function(resolve, reject) {\n",
       "          var s = document.createElement('script');\n",
       "          document.getElementsByTagName(\"head\")[0].appendChild(s);\n",
       "          s.async = true;\n",
       "          s.onload = () => {\n",
       "            VEGA_DEBUG[key] = version;\n",
       "            return resolve(paths[lib]);\n",
       "          };\n",
       "          s.onerror = () => reject(`Error loading script: ${paths[lib]}`);\n",
       "          s.src = paths[lib];\n",
       "        });\n",
       "    }\n",
       "\n",
       "    function showError(err) {\n",
       "      outputDiv.innerHTML = `<div class=\"error\" style=\"color:red;\">${err}</div>`;\n",
       "      throw err;\n",
       "    }\n",
       "\n",
       "    function displayChart(vegaEmbed) {\n",
       "      vegaEmbed(outputDiv, spec, embedOpt)\n",
       "        .catch(err => showError(`Javascript Error: ${err.message}<br>This usually means there's a typo in your chart specification. See the javascript console for the full traceback.`));\n",
       "    }\n",
       "\n",
       "    if(typeof define === \"function\" && define.amd) {\n",
       "      requirejs.config({paths});\n",
       "      require([\"vega-embed\"], displayChart, err => showError(`Error loading script: ${err.message}`));\n",
       "    } else {\n",
       "      maybeLoadScript(\"vega\", \"5\")\n",
       "        .then(() => maybeLoadScript(\"vega-lite\", \"5.20.1\"))\n",
       "        .then(() => maybeLoadScript(\"vega-embed\", \"6\"))\n",
       "        .catch(showError)\n",
       "        .then(() => displayChart(vegaEmbed));\n",
       "    }\n",
       "  })({\"config\": {\"view\": {\"continuousWidth\": 300, \"continuousHeight\": 300}}, \"hconcat\": [{\"data\": {\"url\": \"altair-data-a2237ae6a34c0aa7d3997c62a005036a.json\", \"format\": {\"type\": \"json\"}}, \"mark\": {\"type\": \"line\"}, \"encoding\": {\"color\": {\"field\": \"hour_group\", \"scale\": {\"scheme\": \"purpleorange\"}, \"type\": \"ordinal\"}, \"x\": {\"field\": \"tau\", \"scale\": {\"type\": \"log\"}, \"type\": \"quantitative\"}, \"y\": {\"aggregate\": \"mean\", \"field\": \"Co\", \"type\": \"quantitative\"}}, \"height\": 200, \"title\": \"3m uu\", \"width\": 200}, {\"data\": {\"url\": \"altair-data-94c336da0b8dfda079fb05e4038ff80a.json\", \"format\": {\"type\": \"json\"}}, \"mark\": {\"type\": \"line\"}, \"encoding\": {\"color\": {\"field\": \"hour_group\", \"scale\": {\"scheme\": \"purpleorange\"}, \"type\": \"ordinal\"}, \"x\": {\"field\": \"tau\", \"scale\": {\"type\": \"log\"}, \"type\": \"quantitative\"}, \"y\": {\"aggregate\": \"mean\", \"field\": \"Co\", \"type\": \"quantitative\"}}, \"height\": 200, \"title\": \"3m vv\", \"width\": 200}, {\"data\": {\"url\": \"altair-data-c281fb6f58245fc9ba7b9f0b7663004e.json\", \"format\": {\"type\": \"json\"}}, \"mark\": {\"type\": \"line\"}, \"encoding\": {\"color\": {\"field\": \"hour_group\", \"scale\": {\"scheme\": \"purpleorange\"}, \"type\": \"ordinal\"}, \"x\": {\"field\": \"tau\", \"scale\": {\"type\": \"log\"}, \"type\": \"quantitative\"}, \"y\": {\"aggregate\": \"mean\", \"field\": \"Co\", \"type\": \"quantitative\"}}, \"height\": 200, \"title\": \"3m ww\", \"width\": 200}], \"$schema\": \"https://vega.github.io/schema/vega-lite/v5.20.1.json\"}, {\"mode\": \"vega-lite\"});\n",
       "</script>"
      ],
      "text/plain": [
       "alt.HConcatChart(...)"
      ]
     },
     "execution_count": 22,
     "metadata": {},
     "output_type": "execute_result"
    }
   ],
   "source": [
    "alt.Chart(\n",
    "    mrd_uu_sos.reset_index()\n",
    ").mark_line().encode(\n",
    "    alt.X('tau:Q').scale(type='log'),\n",
    "    alt.Y('mean(Co):Q'),\n",
    "    alt.Color('hour_group:O').scale(scheme='purpleorange'),\n",
    ").properties(width=200, height=200, title='3m uu') | alt.Chart(\n",
    "    mrd_vv_sos.reset_index()\n",
    ").mark_line().encode(\n",
    "    alt.X('tau:Q').scale(type='log'),\n",
    "    alt.Y('mean(Co):Q'),\n",
    "    alt.Color('hour_group:O').scale(scheme='purpleorange'),\n",
    ").properties(width=200, height=200, title='3m vv') | alt.Chart(\n",
    "    mrd_ww_sos.reset_index()\n",
    ").mark_line().encode(\n",
    "    alt.X('tau:Q').scale(type='log'),\n",
    "    alt.Y('mean(Co):Q'),\n",
    "    alt.Color('hour_group:O').scale(scheme='purpleorange'),\n",
    ").properties(width=200, height=200, title='3m ww')"
   ]
  },
  {
   "cell_type": "code",
   "execution_count": 38,
   "metadata": {},
   "outputs": [
    {
     "name": "stdout",
     "output_type": "stream",
     "text": [
      "Timestep of fast data is: 50.0 ms\n",
      "Dataset of length 12000, with M = 13, permits 7 iterations.\n"
     ]
    },
    {
     "name": "stderr",
     "output_type": "stream",
     "text": [
      "100%|██████████| 7/7 [00:00<00:00, 6226.96it/s]\n"
     ]
    },
    {
     "name": "stdout",
     "output_type": "stream",
     "text": [
      "Timestep of fast data is: 50.0 ms\n",
      "Dataset of length 12000, with M = 13, permits 7 iterations.\n"
     ]
    },
    {
     "name": "stderr",
     "output_type": "stream",
     "text": [
      "100%|██████████| 7/7 [00:00<00:00, 4461.35it/s]\n"
     ]
    },
    {
     "name": "stdout",
     "output_type": "stream",
     "text": [
      "Timestep of fast data is: 50.0 ms\n",
      "Dataset of length 12000, with M = 13, permits 7 iterations.\n"
     ]
    },
    {
     "name": "stderr",
     "output_type": "stream",
     "text": [
      "100%|██████████| 7/7 [00:00<00:00, 9383.23it/s]\n"
     ]
    },
    {
     "name": "stdout",
     "output_type": "stream",
     "text": [
      "Timestep of fast data is: 50.0 ms\n",
      "Dataset of length 12000, with M = 13, permits 7 iterations.\n"
     ]
    },
    {
     "name": "stderr",
     "output_type": "stream",
     "text": [
      "100%|██████████| 7/7 [00:00<00:00, 11550.01it/s]\n"
     ]
    },
    {
     "name": "stdout",
     "output_type": "stream",
     "text": [
      "Timestep of fast data is: 50.0 ms\n",
      "Dataset of length 12000, with M = 13, permits 7 iterations.\n"
     ]
    },
    {
     "name": "stderr",
     "output_type": "stream",
     "text": [
      "100%|██████████| 7/7 [00:00<00:00, 5572.24it/s]\n"
     ]
    },
    {
     "name": "stdout",
     "output_type": "stream",
     "text": [
      "Timestep of fast data is: 50.0 ms\n",
      "Dataset of length 12000, with M = 13, permits 7 iterations.\n"
     ]
    },
    {
     "name": "stderr",
     "output_type": "stream",
     "text": [
      "100%|██████████| 7/7 [00:00<00:00, 10215.77it/s]\n"
     ]
    }
   ],
   "source": [
    "mrd_uw_sos = fast_df_sos.groupby(pd.Grouper(freq='180min'))[['u', 'v', 'w']].apply(\n",
    "    lambda df: calculate_mrd_for_df(df.reset_index(), 'u', 'w', shift=2000, parallelism=20).assign(hour_group = f\"{df.index.min()} - {df.index.max()}\")\n",
    ")"
   ]
  },
  {
   "cell_type": "code",
   "execution_count": 39,
   "metadata": {},
   "outputs": [],
   "source": [
    "mrd_uw_sos.hour_group = mrd_uw_sos.hour_group.str.replace('2023-04-09 ', '')"
   ]
  },
  {
   "cell_type": "code",
   "execution_count": 40,
   "metadata": {},
   "outputs": [
    {
     "data": {
      "text/html": [
       "\n",
       "<style>\n",
       "  #altair-viz-ce6b151a7a9741f995558e98fe2e8ce5.vega-embed {\n",
       "    width: 100%;\n",
       "    display: flex;\n",
       "  }\n",
       "\n",
       "  #altair-viz-ce6b151a7a9741f995558e98fe2e8ce5.vega-embed details,\n",
       "  #altair-viz-ce6b151a7a9741f995558e98fe2e8ce5.vega-embed details summary {\n",
       "    position: relative;\n",
       "  }\n",
       "</style>\n",
       "<div id=\"altair-viz-ce6b151a7a9741f995558e98fe2e8ce5\"></div>\n",
       "<script type=\"text/javascript\">\n",
       "  var VEGA_DEBUG = (typeof VEGA_DEBUG == \"undefined\") ? {} : VEGA_DEBUG;\n",
       "  (function(spec, embedOpt){\n",
       "    let outputDiv = document.currentScript.previousElementSibling;\n",
       "    if (outputDiv.id !== \"altair-viz-ce6b151a7a9741f995558e98fe2e8ce5\") {\n",
       "      outputDiv = document.getElementById(\"altair-viz-ce6b151a7a9741f995558e98fe2e8ce5\");\n",
       "    }\n",
       "    const paths = {\n",
       "      \"vega\": \"https://cdn.jsdelivr.net/npm/vega@5?noext\",\n",
       "      \"vega-lib\": \"https://cdn.jsdelivr.net/npm/vega-lib?noext\",\n",
       "      \"vega-lite\": \"https://cdn.jsdelivr.net/npm/vega-lite@5.20.1?noext\",\n",
       "      \"vega-embed\": \"https://cdn.jsdelivr.net/npm/vega-embed@6?noext\",\n",
       "    };\n",
       "\n",
       "    function maybeLoadScript(lib, version) {\n",
       "      var key = `${lib.replace(\"-\", \"\")}_version`;\n",
       "      return (VEGA_DEBUG[key] == version) ?\n",
       "        Promise.resolve(paths[lib]) :\n",
       "        new Promise(function(resolve, reject) {\n",
       "          var s = document.createElement('script');\n",
       "          document.getElementsByTagName(\"head\")[0].appendChild(s);\n",
       "          s.async = true;\n",
       "          s.onload = () => {\n",
       "            VEGA_DEBUG[key] = version;\n",
       "            return resolve(paths[lib]);\n",
       "          };\n",
       "          s.onerror = () => reject(`Error loading script: ${paths[lib]}`);\n",
       "          s.src = paths[lib];\n",
       "        });\n",
       "    }\n",
       "\n",
       "    function showError(err) {\n",
       "      outputDiv.innerHTML = `<div class=\"error\" style=\"color:red;\">${err}</div>`;\n",
       "      throw err;\n",
       "    }\n",
       "\n",
       "    function displayChart(vegaEmbed) {\n",
       "      vegaEmbed(outputDiv, spec, embedOpt)\n",
       "        .catch(err => showError(`Javascript Error: ${err.message}<br>This usually means there's a typo in your chart specification. See the javascript console for the full traceback.`));\n",
       "    }\n",
       "\n",
       "    if(typeof define === \"function\" && define.amd) {\n",
       "      requirejs.config({paths});\n",
       "      require([\"vega-embed\"], displayChart, err => showError(`Error loading script: ${err.message}`));\n",
       "    } else {\n",
       "      maybeLoadScript(\"vega\", \"5\")\n",
       "        .then(() => maybeLoadScript(\"vega-lite\", \"5.20.1\"))\n",
       "        .then(() => maybeLoadScript(\"vega-embed\", \"6\"))\n",
       "        .catch(showError)\n",
       "        .then(() => displayChart(vegaEmbed));\n",
       "    }\n",
       "  })({\"config\": {\"view\": {\"continuousWidth\": 300, \"continuousHeight\": 300}}, \"data\": {\"url\": \"altair-data-7c9e3d69dddbca5f6060234d33da42f0.json\", \"format\": {\"type\": \"json\"}}, \"mark\": {\"type\": \"line\"}, \"encoding\": {\"detail\": {\"field\": \"iteration\", \"type\": \"quantitative\"}, \"facet\": {\"field\": \"hour_group\", \"type\": \"ordinal\"}, \"tooltip\": {\"field\": \"hour_group\", \"type\": \"ordinal\"}, \"x\": {\"field\": \"tau\", \"scale\": {\"type\": \"log\"}, \"type\": \"quantitative\"}, \"y\": {\"field\": \"Co\", \"scale\": {\"domain\": [-0.1, 0.05]}, \"type\": \"quantitative\"}}, \"height\": 200, \"title\": \"sos\", \"width\": 200, \"$schema\": \"https://vega.github.io/schema/vega-lite/v5.20.1.json\"}, {\"mode\": \"vega-lite\"});\n",
       "</script>"
      ],
      "text/plain": [
       "alt.Chart(...)"
      ]
     },
     "execution_count": 40,
     "metadata": {},
     "output_type": "execute_result"
    }
   ],
   "source": [
    "daily_mrd_sos_chart = alt.Chart(\n",
    "    mrd_uw_sos.reset_index()\n",
    ").mark_line().encode(\n",
    "    alt.X('tau:Q').scale(type='log'),\n",
    "    alt.Y('mean(Co):Q').scale(domain = [-0.1, 0.05]),\n",
    "    alt.Color('hour_group:O'),\n",
    ").properties(width=200, height=200, title='sos')\n",
    "daily_mrd_sos_chart"
   ]
  },
  {
   "cell_type": "code",
   "execution_count": 121,
   "metadata": {},
   "outputs": [],
   "source": [
    "mrd_uw_sos['time_range'] = mrd_uw_sos.apply(\n",
    "    lambda row: str(row['start_time'].time()) + ' - ' + str(row['end_time'].time()),\n",
    "    axis=1\n",
    ")"
   ]
  },
  {
   "cell_type": "code",
   "execution_count": 124,
   "metadata": {},
   "outputs": [
    {
     "data": {
      "text/plain": [
       "array(['2023-04-18 00:00:00 - 2023-04-18 02:59:59.950000',\n",
       "       '2023-04-18 03:00:00 - 2023-04-18 05:59:59.950000',\n",
       "       '2023-04-18 06:00:00 - 2023-04-18 08:59:59.950000',\n",
       "       '2023-04-18 09:00:00 - 2023-04-18 11:59:59.950000',\n",
       "       '2023-04-18 12:00:00 - 2023-04-18 14:59:59.950000',\n",
       "       '2023-04-18 15:00:00 - 2023-04-18 17:59:59.950000',\n",
       "       '2023-04-18 18:00:00 - 2023-04-18 20:59:59.950000',\n",
       "       '2023-04-18 21:00:00 - 2023-04-18 23:59:59.950000'], dtype=object)"
      ]
     },
     "execution_count": 124,
     "metadata": {},
     "output_type": "execute_result"
    }
   ],
   "source": [
    "mrd_uw_sos.hour_group.unique()"
   ]
  },
  {
   "cell_type": "code",
   "execution_count": 130,
   "metadata": {},
   "outputs": [
    {
     "data": {
      "text/html": [
       "\n",
       "<style>\n",
       "  #altair-viz-e5275bc036324e9d8812ae9428aeb3d1.vega-embed {\n",
       "    width: 100%;\n",
       "    display: flex;\n",
       "  }\n",
       "\n",
       "  #altair-viz-e5275bc036324e9d8812ae9428aeb3d1.vega-embed details,\n",
       "  #altair-viz-e5275bc036324e9d8812ae9428aeb3d1.vega-embed details summary {\n",
       "    position: relative;\n",
       "  }\n",
       "</style>\n",
       "<div id=\"altair-viz-e5275bc036324e9d8812ae9428aeb3d1\"></div>\n",
       "<script type=\"text/javascript\">\n",
       "  var VEGA_DEBUG = (typeof VEGA_DEBUG == \"undefined\") ? {} : VEGA_DEBUG;\n",
       "  (function(spec, embedOpt){\n",
       "    let outputDiv = document.currentScript.previousElementSibling;\n",
       "    if (outputDiv.id !== \"altair-viz-e5275bc036324e9d8812ae9428aeb3d1\") {\n",
       "      outputDiv = document.getElementById(\"altair-viz-e5275bc036324e9d8812ae9428aeb3d1\");\n",
       "    }\n",
       "    const paths = {\n",
       "      \"vega\": \"https://cdn.jsdelivr.net/npm/vega@5?noext\",\n",
       "      \"vega-lib\": \"https://cdn.jsdelivr.net/npm/vega-lib?noext\",\n",
       "      \"vega-lite\": \"https://cdn.jsdelivr.net/npm/vega-lite@5.20.1?noext\",\n",
       "      \"vega-embed\": \"https://cdn.jsdelivr.net/npm/vega-embed@6?noext\",\n",
       "    };\n",
       "\n",
       "    function maybeLoadScript(lib, version) {\n",
       "      var key = `${lib.replace(\"-\", \"\")}_version`;\n",
       "      return (VEGA_DEBUG[key] == version) ?\n",
       "        Promise.resolve(paths[lib]) :\n",
       "        new Promise(function(resolve, reject) {\n",
       "          var s = document.createElement('script');\n",
       "          document.getElementsByTagName(\"head\")[0].appendChild(s);\n",
       "          s.async = true;\n",
       "          s.onload = () => {\n",
       "            VEGA_DEBUG[key] = version;\n",
       "            return resolve(paths[lib]);\n",
       "          };\n",
       "          s.onerror = () => reject(`Error loading script: ${paths[lib]}`);\n",
       "          s.src = paths[lib];\n",
       "        });\n",
       "    }\n",
       "\n",
       "    function showError(err) {\n",
       "      outputDiv.innerHTML = `<div class=\"error\" style=\"color:red;\">${err}</div>`;\n",
       "      throw err;\n",
       "    }\n",
       "\n",
       "    function displayChart(vegaEmbed) {\n",
       "      vegaEmbed(outputDiv, spec, embedOpt)\n",
       "        .catch(err => showError(`Javascript Error: ${err.message}<br>This usually means there's a typo in your chart specification. See the javascript console for the full traceback.`));\n",
       "    }\n",
       "\n",
       "    if(typeof define === \"function\" && define.amd) {\n",
       "      requirejs.config({paths});\n",
       "      require([\"vega-embed\"], displayChart, err => showError(`Error loading script: ${err.message}`));\n",
       "    } else {\n",
       "      maybeLoadScript(\"vega\", \"5\")\n",
       "        .then(() => maybeLoadScript(\"vega-lite\", \"5.20.1\"))\n",
       "        .then(() => maybeLoadScript(\"vega-embed\", \"6\"))\n",
       "        .catch(showError)\n",
       "        .then(() => displayChart(vegaEmbed));\n",
       "    }\n",
       "  })({\"config\": {\"view\": {\"continuousWidth\": 300, \"continuousHeight\": 300}}, \"data\": {\"url\": \"altair-data-ada3d17521c72e6cdb0769da6a95d84a.json\", \"format\": {\"type\": \"json\"}}, \"mark\": {\"type\": \"line\"}, \"encoding\": {\"color\": {\"field\": \"time_range\", \"scale\": {\"scheme\": \"purpleorange\"}, \"type\": \"ordinal\"}, \"x\": {\"field\": \"tau\", \"scale\": {\"type\": \"log\"}, \"type\": \"quantitative\"}, \"y\": {\"field\": \"Co\", \"type\": \"quantitative\"}}, \"height\": 500, \"title\": \"sos\", \"width\": 500, \"$schema\": \"https://vega.github.io/schema/vega-lite/v5.20.1.json\"}, {\"mode\": \"vega-lite\"});\n",
       "</script>"
      ],
      "text/plain": [
       "alt.Chart(...)"
      ]
     },
     "execution_count": 130,
     "metadata": {},
     "output_type": "execute_result"
    }
   ],
   "source": [
    "src = mrd_uw_sos.query(\"\"\"\n",
    "        hour_group == '2023-04-18 15:00:00 - 2023-04-18 17:59:59.950000'\n",
    "    \"\"\").reset_index()\n",
    "alt.Chart(\n",
    "    src.reset_index()\n",
    ").mark_line().encode(\n",
    "    alt.X('tau:Q').scale(type='log'),\n",
    "    alt.Y('Co:Q'),\n",
    "    alt.Color('time_range:O').scale(scheme='purpleorange'),\n",
    ").properties(width=500, height=500, title='sos')"
   ]
  },
  {
   "cell_type": "code",
   "execution_count": 123,
   "metadata": {},
   "outputs": [
    {
     "data": {
      "text/html": [
       "\n",
       "<style>\n",
       "  #altair-viz-8afd7228ebfe435897b20c0e78531351.vega-embed {\n",
       "    width: 100%;\n",
       "    display: flex;\n",
       "  }\n",
       "\n",
       "  #altair-viz-8afd7228ebfe435897b20c0e78531351.vega-embed details,\n",
       "  #altair-viz-8afd7228ebfe435897b20c0e78531351.vega-embed details summary {\n",
       "    position: relative;\n",
       "  }\n",
       "</style>\n",
       "<div id=\"altair-viz-8afd7228ebfe435897b20c0e78531351\"></div>\n",
       "<script type=\"text/javascript\">\n",
       "  var VEGA_DEBUG = (typeof VEGA_DEBUG == \"undefined\") ? {} : VEGA_DEBUG;\n",
       "  (function(spec, embedOpt){\n",
       "    let outputDiv = document.currentScript.previousElementSibling;\n",
       "    if (outputDiv.id !== \"altair-viz-8afd7228ebfe435897b20c0e78531351\") {\n",
       "      outputDiv = document.getElementById(\"altair-viz-8afd7228ebfe435897b20c0e78531351\");\n",
       "    }\n",
       "    const paths = {\n",
       "      \"vega\": \"https://cdn.jsdelivr.net/npm/vega@5?noext\",\n",
       "      \"vega-lib\": \"https://cdn.jsdelivr.net/npm/vega-lib?noext\",\n",
       "      \"vega-lite\": \"https://cdn.jsdelivr.net/npm/vega-lite@5.20.1?noext\",\n",
       "      \"vega-embed\": \"https://cdn.jsdelivr.net/npm/vega-embed@6?noext\",\n",
       "    };\n",
       "\n",
       "    function maybeLoadScript(lib, version) {\n",
       "      var key = `${lib.replace(\"-\", \"\")}_version`;\n",
       "      return (VEGA_DEBUG[key] == version) ?\n",
       "        Promise.resolve(paths[lib]) :\n",
       "        new Promise(function(resolve, reject) {\n",
       "          var s = document.createElement('script');\n",
       "          document.getElementsByTagName(\"head\")[0].appendChild(s);\n",
       "          s.async = true;\n",
       "          s.onload = () => {\n",
       "            VEGA_DEBUG[key] = version;\n",
       "            return resolve(paths[lib]);\n",
       "          };\n",
       "          s.onerror = () => reject(`Error loading script: ${paths[lib]}`);\n",
       "          s.src = paths[lib];\n",
       "        });\n",
       "    }\n",
       "\n",
       "    function showError(err) {\n",
       "      outputDiv.innerHTML = `<div class=\"error\" style=\"color:red;\">${err}</div>`;\n",
       "      throw err;\n",
       "    }\n",
       "\n",
       "    function displayChart(vegaEmbed) {\n",
       "      vegaEmbed(outputDiv, spec, embedOpt)\n",
       "        .catch(err => showError(`Javascript Error: ${err.message}<br>This usually means there's a typo in your chart specification. See the javascript console for the full traceback.`));\n",
       "    }\n",
       "\n",
       "    if(typeof define === \"function\" && define.amd) {\n",
       "      requirejs.config({paths});\n",
       "      require([\"vega-embed\"], displayChart, err => showError(`Error loading script: ${err.message}`));\n",
       "    } else {\n",
       "      maybeLoadScript(\"vega\", \"5\")\n",
       "        .then(() => maybeLoadScript(\"vega-lite\", \"5.20.1\"))\n",
       "        .then(() => maybeLoadScript(\"vega-embed\", \"6\"))\n",
       "        .catch(showError)\n",
       "        .then(() => displayChart(vegaEmbed));\n",
       "    }\n",
       "  })({\"config\": {\"view\": {\"continuousWidth\": 300, \"continuousHeight\": 300}}, \"data\": {\"url\": \"altair-data-123ab676da95f9e206120f08d95879f8.json\", \"format\": {\"type\": \"json\"}}, \"mark\": {\"type\": \"line\"}, \"encoding\": {\"color\": {\"field\": \"time_range\", \"scale\": {\"scheme\": \"purpleorange\"}, \"type\": \"ordinal\"}, \"x\": {\"field\": \"tau\", \"scale\": {\"type\": \"log\"}, \"type\": \"quantitative\"}, \"y\": {\"field\": \"Co\", \"type\": \"quantitative\"}}, \"height\": 500, \"title\": \"sos\", \"width\": 500, \"$schema\": \"https://vega.github.io/schema/vega-lite/v5.20.1.json\"}, {\"mode\": \"vega-lite\"});\n",
       "</script>"
      ],
      "text/plain": [
       "alt.Chart(...)"
      ]
     },
     "execution_count": 123,
     "metadata": {},
     "output_type": "execute_result"
    }
   ],
   "source": [
    "src = mrd_uw_sos.query(\"\"\"\n",
    "        hour_group == '2023-04-18 18:00:00 - 2023-04-18 20:59:59.950000'\n",
    "    \"\"\").reset_index()\n",
    "alt.Chart(\n",
    "    src.reset_index()\n",
    ").mark_line().encode(\n",
    "    alt.X('tau:Q').scale(type='log'),\n",
    "    alt.Y('Co:Q'),\n",
    "    alt.Color('time_range:O').scale(scheme='purpleorange'),\n",
    ").properties(width=500, height=500, title='sos')"
   ]
  },
  {
   "cell_type": "code",
   "execution_count": null,
   "metadata": {},
   "outputs": [],
   "source": []
  },
  {
   "cell_type": "markdown",
   "metadata": {},
   "source": [
    "# Plot three sites comparison plot"
   ]
  },
  {
   "cell_type": "code",
   "execution_count": 99,
   "metadata": {},
   "outputs": [
    {
     "data": {
      "text/html": [
       "\n",
       "<style>\n",
       "  #altair-viz-5538ed7a4a69477aa500a612d68aaf9b.vega-embed {\n",
       "    width: 100%;\n",
       "    display: flex;\n",
       "  }\n",
       "\n",
       "  #altair-viz-5538ed7a4a69477aa500a612d68aaf9b.vega-embed details,\n",
       "  #altair-viz-5538ed7a4a69477aa500a612d68aaf9b.vega-embed details summary {\n",
       "    position: relative;\n",
       "  }\n",
       "</style>\n",
       "<div id=\"altair-viz-5538ed7a4a69477aa500a612d68aaf9b\"></div>\n",
       "<script type=\"text/javascript\">\n",
       "  var VEGA_DEBUG = (typeof VEGA_DEBUG == \"undefined\") ? {} : VEGA_DEBUG;\n",
       "  (function(spec, embedOpt){\n",
       "    let outputDiv = document.currentScript.previousElementSibling;\n",
       "    if (outputDiv.id !== \"altair-viz-5538ed7a4a69477aa500a612d68aaf9b\") {\n",
       "      outputDiv = document.getElementById(\"altair-viz-5538ed7a4a69477aa500a612d68aaf9b\");\n",
       "    }\n",
       "    const paths = {\n",
       "      \"vega\": \"https://cdn.jsdelivr.net/npm/vega@5?noext\",\n",
       "      \"vega-lib\": \"https://cdn.jsdelivr.net/npm/vega-lib?noext\",\n",
       "      \"vega-lite\": \"https://cdn.jsdelivr.net/npm/vega-lite@5.20.1?noext\",\n",
       "      \"vega-embed\": \"https://cdn.jsdelivr.net/npm/vega-embed@6?noext\",\n",
       "    };\n",
       "\n",
       "    function maybeLoadScript(lib, version) {\n",
       "      var key = `${lib.replace(\"-\", \"\")}_version`;\n",
       "      return (VEGA_DEBUG[key] == version) ?\n",
       "        Promise.resolve(paths[lib]) :\n",
       "        new Promise(function(resolve, reject) {\n",
       "          var s = document.createElement('script');\n",
       "          document.getElementsByTagName(\"head\")[0].appendChild(s);\n",
       "          s.async = true;\n",
       "          s.onload = () => {\n",
       "            VEGA_DEBUG[key] = version;\n",
       "            return resolve(paths[lib]);\n",
       "          };\n",
       "          s.onerror = () => reject(`Error loading script: ${paths[lib]}`);\n",
       "          s.src = paths[lib];\n",
       "        });\n",
       "    }\n",
       "\n",
       "    function showError(err) {\n",
       "      outputDiv.innerHTML = `<div class=\"error\" style=\"color:red;\">${err}</div>`;\n",
       "      throw err;\n",
       "    }\n",
       "\n",
       "    function displayChart(vegaEmbed) {\n",
       "      vegaEmbed(outputDiv, spec, embedOpt)\n",
       "        .catch(err => showError(`Javascript Error: ${err.message}<br>This usually means there's a typo in your chart specification. See the javascript console for the full traceback.`));\n",
       "    }\n",
       "\n",
       "    if(typeof define === \"function\" && define.amd) {\n",
       "      requirejs.config({paths});\n",
       "      require([\"vega-embed\"], displayChart, err => showError(`Error loading script: ${err.message}`));\n",
       "    } else {\n",
       "      maybeLoadScript(\"vega\", \"5\")\n",
       "        .then(() => maybeLoadScript(\"vega-lite\", \"5.20.1\"))\n",
       "        .then(() => maybeLoadScript(\"vega-embed\", \"6\"))\n",
       "        .catch(showError)\n",
       "        .then(() => displayChart(vegaEmbed));\n",
       "    }\n",
       "  })({\"config\": {\"view\": {\"continuousWidth\": 300, \"continuousHeight\": 300}}, \"vconcat\": [{\"data\": {\"url\": \"altair-data-2ae1371d9acec42a4934833e14bd5b2b.json\", \"format\": {\"type\": \"json\"}}, \"mark\": {\"type\": \"line\"}, \"encoding\": {\"color\": {\"field\": \"hour_group\", \"scale\": {\"scheme\": \"purpleorange\"}, \"type\": \"ordinal\"}, \"x\": {\"field\": \"tau\", \"scale\": {\"type\": \"log\"}, \"type\": \"quantitative\"}, \"y\": {\"aggregate\": \"mean\", \"field\": \"Co\", \"type\": \"quantitative\"}}, \"height\": 200, \"title\": \"splash\", \"width\": 200}, {\"data\": {\"url\": \"altair-data-b8313d2636f0998477a8ed060d101caa.json\", \"format\": {\"type\": \"json\"}}, \"mark\": {\"type\": \"line\"}, \"encoding\": {\"color\": {\"field\": \"hour_group\", \"scale\": {\"scheme\": \"purpleorange\"}, \"type\": \"ordinal\"}, \"x\": {\"field\": \"tau\", \"scale\": {\"type\": \"log\"}, \"type\": \"quantitative\"}, \"y\": {\"aggregate\": \"mean\", \"field\": \"Co\", \"type\": \"quantitative\"}}, \"height\": 200, \"title\": \"sail\", \"width\": 200}, {\"data\": {\"url\": \"altair-data-d436c23a7142cb01a137b75c08027dd2.json\", \"format\": {\"type\": \"json\"}}, \"mark\": {\"type\": \"line\"}, \"encoding\": {\"color\": {\"field\": \"hour_group\", \"scale\": {\"scheme\": \"purpleorange\"}, \"type\": \"ordinal\"}, \"x\": {\"field\": \"tau\", \"scale\": {\"type\": \"log\"}, \"type\": \"quantitative\"}, \"y\": {\"aggregate\": \"mean\", \"field\": \"Co\", \"scale\": {\"domain\": [-0.1, 0.05]}, \"type\": \"quantitative\"}}, \"height\": 200, \"title\": \"sos\", \"width\": 200}], \"resolve\": {\"scale\": {\"color\": \"independent\", \"x\": \"shared\", \"y\": \"shared\"}}, \"$schema\": \"https://vega.github.io/schema/vega-lite/v5.20.1.json\"}, {\"mode\": \"vega-lite\"});\n",
       "</script>"
      ],
      "text/plain": [
       "alt.VConcatChart(...)"
      ]
     },
     "execution_count": 99,
     "metadata": {},
     "output_type": "execute_result"
    }
   ],
   "source": [
    "(\n",
    "    daily_mrd_splash_chart & daily_mrd_sail_chart & daily_mrd_sos_chart\n",
    ").resolve_scale(\n",
    "    color='independent',\n",
    "    x='shared',\n",
    "    y='shared'\n",
    ")"
   ]
  },
  {
   "cell_type": "markdown",
   "metadata": {},
   "source": [
    "# Calculate MRDs for April 18 1500-1800, at SOS, multiple heights"
   ]
  },
  {
   "cell_type": "code",
   "execution_count": 135,
   "metadata": {},
   "outputs": [],
   "source": [
    "fast_df_sos_1500_1800 = fast_df_sos_all_data.loc[f'{DATE_LOCAL} 1500': f'{DATE_LOCAL} 1800']\n",
    "# fast_df_sos_1500_1800 = fast_df_sos_all_data.loc[f'{DATE_LOCAL} 1800': f'{DATE_LOCAL} 2100']\n",
    "# fast_df_sos_1500_1800 = fast_df_sos_all_data.loc[f'{DATE_LOCAL} 1200': f'{DATE_LOCAL} 1500']\n",
    "# fast_df_sos_1500_1800 = fast_df_sos_all_data.loc[f'{DATE_LOCAL} 0000': f'{DATE_LOCAL} 0300']"
   ]
  },
  {
   "cell_type": "code",
   "execution_count": 136,
   "metadata": {},
   "outputs": [
    {
     "name": "stdout",
     "output_type": "stream",
     "text": [
      "Processing height: 3m\n",
      "Means after 1st rotation: 1.8745301 -1.3938046e-07 -0.018657666\n",
      "Means after 2nd rotation: 1.8746231 -1.3938046e-07 -8.4302704e-10\n",
      "Timestep of fast data is: 50.0 ms\n",
      "Dataset of length 217200, with M = 17, permits 43 iterations.\n"
     ]
    },
    {
     "name": "stderr",
     "output_type": "stream",
     "text": [
      "  0%|          | 0/43 [00:00<?, ?it/s]"
     ]
    },
    {
     "name": "stderr",
     "output_type": "stream",
     "text": [
      "100%|██████████| 43/43 [00:12<00:00,  3.31it/s]\n"
     ]
    },
    {
     "name": "stdout",
     "output_type": "stream",
     "text": [
      "Processing height: 5m\n",
      "Means after 1st rotation: 1.9812292 -1.3038817e-07 -0.047928836\n",
      "Means after 2nd rotation: 1.9818088 -1.3038817e-07 -1.5455495e-08\n",
      "Timestep of fast data is: 50.0 ms\n",
      "Dataset of length 217200, with M = 17, permits 43 iterations.\n"
     ]
    },
    {
     "name": "stderr",
     "output_type": "stream",
     "text": [
      "100%|██████████| 43/43 [00:07<00:00,  5.51it/s]\n"
     ]
    },
    {
     "name": "stdout",
     "output_type": "stream",
     "text": [
      "Processing height: 10m\n",
      "Means after 1st rotation: 2.0202928 -2.2255914e-07 -0.11310487\n",
      "Means after 2nd rotation: 2.023456 -2.2255914e-07 -1.124036e-09\n",
      "Timestep of fast data is: 50.0 ms\n",
      "Dataset of length 217200, with M = 17, permits 43 iterations.\n"
     ]
    },
    {
     "name": "stderr",
     "output_type": "stream",
     "text": [
      "100%|██████████| 43/43 [00:07<00:00,  5.79it/s]\n"
     ]
    },
    {
     "name": "stdout",
     "output_type": "stream",
     "text": [
      "Processing height: 15m\n",
      "Means after 1st rotation: 1.9361435 8.542674e-08 -0.15509997\n",
      "Means after 2nd rotation: 1.9423461 8.542674e-08 1.0116325e-08\n",
      "Timestep of fast data is: 50.0 ms\n",
      "Dataset of length 217200, with M = 17, permits 43 iterations.\n"
     ]
    },
    {
     "name": "stderr",
     "output_type": "stream",
     "text": [
      "100%|██████████| 43/43 [00:07<00:00,  5.68it/s]\n"
     ]
    },
    {
     "name": "stdout",
     "output_type": "stream",
     "text": [
      "Processing height: 20m\n",
      "Means after 1st rotation: 1.9239379 -8.767481e-08 -0.22260587\n",
      "Means after 2nd rotation: 1.9367732 -8.767481e-08 -2.2480721e-08\n",
      "Timestep of fast data is: 50.0 ms\n",
      "Dataset of length 217200, with M = 17, permits 43 iterations.\n"
     ]
    },
    {
     "name": "stderr",
     "output_type": "stream",
     "text": [
      "100%|██████████| 43/43 [00:07<00:00,  5.68it/s]\n"
     ]
    }
   ],
   "source": [
    "mrds_df_ls = []\n",
    "for h in [3,5,10,15,20]:\n",
    "    print(f\"Processing height: {h}m\")\n",
    "    fast_df_sos_oneheight = fast_df_sos_1500_1800[[f'u_{h}m_c', f'v_{h}m_c', f'w_{h}m_c']].rename(columns={\n",
    "        f'u_{h}m_c': 'u',\n",
    "        f'v_{h}m_c': 'v',\n",
    "        f'w_{h}m_c': 'w',\n",
    "    })\n",
    "    fast_df_sos_oneheight = FastDataSAIL.double_rotation(fast_df_sos_oneheight, 'u', 'v', 'w')\n",
    "    fast_df_sos_oneheight['u'] = fast_df_sos_oneheight['u'].interpolate()\n",
    "    fast_df_sos_oneheight['v'] = fast_df_sos_oneheight['v'].interpolate()\n",
    "    fast_df_sos_oneheight['w'] = fast_df_sos_oneheight['w'].interpolate()\n",
    "    mrds_df_ls.append(\n",
    "        calculate_mrd_for_df(\n",
    "            fast_df_sos_oneheight.reset_index(), 'u', 'w', shift=2000, parallelism=20\n",
    "        ).assign(\n",
    "            height = h\n",
    "        )\n",
    "    )"
   ]
  },
  {
   "cell_type": "code",
   "execution_count": 140,
   "metadata": {},
   "outputs": [
    {
     "data": {
      "text/html": [
       "\n",
       "<style>\n",
       "  #altair-viz-6581b3a0928c4ea59d1fce142126bcb9.vega-embed {\n",
       "    width: 100%;\n",
       "    display: flex;\n",
       "  }\n",
       "\n",
       "  #altair-viz-6581b3a0928c4ea59d1fce142126bcb9.vega-embed details,\n",
       "  #altair-viz-6581b3a0928c4ea59d1fce142126bcb9.vega-embed details summary {\n",
       "    position: relative;\n",
       "  }\n",
       "</style>\n",
       "<div id=\"altair-viz-6581b3a0928c4ea59d1fce142126bcb9\"></div>\n",
       "<script type=\"text/javascript\">\n",
       "  var VEGA_DEBUG = (typeof VEGA_DEBUG == \"undefined\") ? {} : VEGA_DEBUG;\n",
       "  (function(spec, embedOpt){\n",
       "    let outputDiv = document.currentScript.previousElementSibling;\n",
       "    if (outputDiv.id !== \"altair-viz-6581b3a0928c4ea59d1fce142126bcb9\") {\n",
       "      outputDiv = document.getElementById(\"altair-viz-6581b3a0928c4ea59d1fce142126bcb9\");\n",
       "    }\n",
       "    const paths = {\n",
       "      \"vega\": \"https://cdn.jsdelivr.net/npm/vega@5?noext\",\n",
       "      \"vega-lib\": \"https://cdn.jsdelivr.net/npm/vega-lib?noext\",\n",
       "      \"vega-lite\": \"https://cdn.jsdelivr.net/npm/vega-lite@5.20.1?noext\",\n",
       "      \"vega-embed\": \"https://cdn.jsdelivr.net/npm/vega-embed@6?noext\",\n",
       "    };\n",
       "\n",
       "    function maybeLoadScript(lib, version) {\n",
       "      var key = `${lib.replace(\"-\", \"\")}_version`;\n",
       "      return (VEGA_DEBUG[key] == version) ?\n",
       "        Promise.resolve(paths[lib]) :\n",
       "        new Promise(function(resolve, reject) {\n",
       "          var s = document.createElement('script');\n",
       "          document.getElementsByTagName(\"head\")[0].appendChild(s);\n",
       "          s.async = true;\n",
       "          s.onload = () => {\n",
       "            VEGA_DEBUG[key] = version;\n",
       "            return resolve(paths[lib]);\n",
       "          };\n",
       "          s.onerror = () => reject(`Error loading script: ${paths[lib]}`);\n",
       "          s.src = paths[lib];\n",
       "        });\n",
       "    }\n",
       "\n",
       "    function showError(err) {\n",
       "      outputDiv.innerHTML = `<div class=\"error\" style=\"color:red;\">${err}</div>`;\n",
       "      throw err;\n",
       "    }\n",
       "\n",
       "    function displayChart(vegaEmbed) {\n",
       "      vegaEmbed(outputDiv, spec, embedOpt)\n",
       "        .catch(err => showError(`Javascript Error: ${err.message}<br>This usually means there's a typo in your chart specification. See the javascript console for the full traceback.`));\n",
       "    }\n",
       "\n",
       "    if(typeof define === \"function\" && define.amd) {\n",
       "      requirejs.config({paths});\n",
       "      require([\"vega-embed\"], displayChart, err => showError(`Error loading script: ${err.message}`));\n",
       "    } else {\n",
       "      maybeLoadScript(\"vega\", \"5\")\n",
       "        .then(() => maybeLoadScript(\"vega-lite\", \"5.20.1\"))\n",
       "        .then(() => maybeLoadScript(\"vega-embed\", \"6\"))\n",
       "        .catch(showError)\n",
       "        .then(() => displayChart(vegaEmbed));\n",
       "    }\n",
       "  })({\"config\": {\"view\": {\"continuousWidth\": 300, \"continuousHeight\": 300}}, \"data\": {\"url\": \"altair-data-0fec12cb2dbbc566c9e73da57254ddc6.json\", \"format\": {\"type\": \"json\"}}, \"mark\": {\"type\": \"line\", \"point\": true}, \"encoding\": {\"color\": {\"field\": \"start_time\", \"type\": \"ordinal\"}, \"row\": {\"field\": \"height\", \"type\": \"ordinal\"}, \"tooltip\": {\"field\": \"height\", \"type\": \"ordinal\"}, \"x\": {\"field\": \"tau\", \"scale\": {\"type\": \"log\"}, \"type\": \"quantitative\"}, \"y\": {\"field\": \"Co\", \"type\": \"quantitative\"}}, \"height\": 100, \"$schema\": \"https://vega.github.io/schema/vega-lite/v5.20.1.json\"}, {\"mode\": \"vega-lite\"});\n",
       "</script>"
      ],
      "text/plain": [
       "alt.Chart(...)"
      ]
     },
     "execution_count": 140,
     "metadata": {},
     "output_type": "execute_result"
    }
   ],
   "source": [
    "alt.Chart(\n",
    "    pd.concat(mrds_df_ls).query(\"height > 2\")\n",
    ").mark_line(point=True).encode(\n",
    "    alt.X('tau:Q').scale(type='log'),\n",
    "    alt.Y('Co:Q'),\n",
    "    alt.Color('start_time:O'),\n",
    "    alt.Row('height:O'),\n",
    "    tooltip = 'height:O',\n",
    ").properties(height=100)"
   ]
  },
  {
   "cell_type": "markdown",
   "metadata": {},
   "source": [
    "## Rotate into pre-determined wind direction"
   ]
  },
  {
   "cell_type": "code",
   "execution_count": null,
   "metadata": {},
   "outputs": [],
   "source": [
    "def double_rotation(df, u_col, v_col, w_col):\n",
    "        # FIRST ROTATION\n",
    "        mean_u = df[u_col].mean()\n",
    "        mean_v = df[v_col].mean()\n",
    "        theta = np.arctan2(mean_v, mean_u)\n",
    "        adj_u = df[u_col]*np.cos(theta) + df[v_col]*np.sin(theta)\n",
    "        adj_v = -df[u_col]*np.sin(theta) + df[v_col]*np.cos(theta)\n",
    "        df[u_col] = adj_u\n",
    "        df[v_col] = adj_v\n",
    "        print(\n",
    "            'Means after 1st rotation:',\n",
    "            df[u_col].mean(),\n",
    "            df[v_col].mean(),\n",
    "            df[w_col].mean(),\n",
    "        )\n",
    "\n",
    "        # SECOND ROTATION\n",
    "        mean_u = df[u_col].mean()\n",
    "        mean_w = df[w_col].mean()\n",
    "        phi = np.arctan2(mean_w, mean_u)\n",
    "        adj_u = df[u_col]*np.cos(phi) + df[w_col]*np.sin(phi)\n",
    "        adj_w = - df[u_col]*np.sin(phi) + df[w_col]*np.cos(phi)\n",
    "        df[u_col] = adj_u\n",
    "        df[w_col] = adj_w\n",
    "        print(\n",
    "            'Means after 2nd rotation:',\n",
    "            df[u_col].mean(),\n",
    "            df[v_col].mean(),\n",
    "            df[w_col].mean(),\n",
    "        )\n",
    "        return df"
   ]
  },
  {
   "cell_type": "code",
   "execution_count": null,
   "metadata": {},
   "outputs": [],
   "source": [
    "sos_file_list = sorted(np.array([\n",
    "    [f for f in glob.glob(\n",
    "        os.path.join(DATA_DIR, \"sosqc_fast/isfs_sos_qc_geo_tiltcor_hr_v2_**.nc\")\n",
    "    ) if d in f]\n",
    "    for d in DATES\n",
    "]).flatten())\n",
    "\n",
    "fast_df_sos_all_data = fast_data_files_to_dataframe(sos_file_list, rotation='none')\n",
    "fast_df_sos_all_data = utils.modify_df_timezone(fast_df_sos_all_data, 'UTC', 'US/Mountain')\n",
    "fast_df_sos_all_data = fast_df_sos_all_data.set_index('time').loc[DATE_LOCAL]\n",
    "fast_df_sos = fast_df_sos_all_data[['u_3m_c', 'v_3m_c', 'w_3m_c']].rename(columns={\n",
    "    'u_3m_c': 'u',\n",
    "    'v_3m_c': 'v',\n",
    "    'w_3m_c': 'w',\n",
    "})"
   ]
  },
  {
   "cell_type": "markdown",
   "metadata": {},
   "source": [
    "# Calculate integral length scales for all datasets"
   ]
  },
  {
   "cell_type": "markdown",
   "metadata": {},
   "source": [
    "## For discreet periods"
   ]
  },
  {
   "cell_type": "code",
   "execution_count": null,
   "metadata": {},
   "outputs": [],
   "source": [
    "def find_root(result, autocorr_col, time_col):\n",
    "    # Assuming `data` is your DataFrame\n",
    "    # Replace `data` with the actual DataFrame variable\n",
    "    column_0 = result[autocorr_col]  # Extract column 0\n",
    "    lag_s = result[time_col]     # Extract 'lag (s)' column\n",
    "\n",
    "    # Find indices where column 0 changes sign\n",
    "    sign_changes = np.where(np.diff(np.sign(column_0)))[0]\n",
    "\n",
    "    if len(sign_changes) > 0:\n",
    "        # Get the first root\n",
    "        idx = sign_changes[0]\n",
    "        print(f\"The first root is at lag (s): {lag_s[idx]}\")\n",
    "        return idx\n",
    "        # # Linear interpolation to find the root\n",
    "        # x1, x2 = lag_s.iloc[idx], lag_s.iloc[idx + 1]\n",
    "        # y1, y2 = column_0.iloc[idx], column_0.iloc[idx + 1]\n",
    "        # root = x1 - y1 * (x2 - x1) / (y2 - y1)\n",
    "        print(f\"The first root is at lag (s): {root}\")\n",
    "    else:\n",
    "        print(\"No root found in column 0.\")"
   ]
  },
  {
   "cell_type": "code",
   "execution_count": null,
   "metadata": {},
   "outputs": [],
   "source": [
    "for time_period in [\n",
    "    ('20230418 0000', '20230418 0301'),\n",
    "    ('20230418 0301', '20230418 0601'),\n",
    "    ('20230418 0601', '20230418 0901'),\n",
    "    ('20230418 0901', '20230418 1201'),\n",
    "    ('20230418 1201', '20230418 1501'),\n",
    "    ('20230418 1501', '20230418 1801'),\n",
    "    ('20230418 1801', '20230418 2101'),\n",
    "    ('20230418 2101', '20230418 2359'),\n",
    "]:\n",
    "    # SAIL\n",
    "    src_sail = fast_df_sail.loc[time_period[0]: time_period[1]]\n",
    "    src_sail = src_sail.assign(\n",
    "        spd = np.sqrt(src_sail['u']**2 + src_sail['v']**2)\n",
    "    )\n",
    "    spd_corr_result_sail = np.correlate(\n",
    "        src_sail['spd'] - src_sail['spd'].mean(), \n",
    "        src_sail['spd'] - src_sail['spd'].mean(), \n",
    "        mode='full'\n",
    "    )\n",
    "    result_sail = spd_corr_result_sail[spd_corr_result_sail.size // 2:]\n",
    "    result_sail = pd.DataFrame({\"R\": result_sail / float(result_sail.max())})\n",
    "    result_sail['lag (s)'] = result_sail.index/10\n",
    "\n",
    "    first_root_sail = find_root(result_sail, 'R',  'lag (s)')\n",
    "    integral_result_sail = np.trapz(\n",
    "        result_sail['R'].loc[:first_root_sail],\n",
    "        result_sail['lag (s)'].loc[:first_root_sail],\n",
    "    )\n",
    "    integral_length_scale_sail = (integral_result_sail * src_sail['spd'].mean())\n",
    "    print(f'The integration result_sail is: {integral_result_sail}')\n",
    "    print(f'The mean wind speed is: {src_sail['spd'].mean()}')\n",
    "    print(f\"The integral length scale is: {integral_length_scale_sail}\")\n",
    "\n",
    "\n",
    "    # SPLASH\n",
    "    src_splash = fast_df_splash.loc[time_period[0]: time_period[1]]\n",
    "    src_splash = src_splash.assign(\n",
    "        spd = np.sqrt(src_splash['u']**2 + src_splash['v']**2)\n",
    "    )\n",
    "    spd_corr_result_splash = np.correlate(\n",
    "        src_splash['spd'] - src_splash['spd'].mean(), \n",
    "        src_splash['spd'] - src_splash['spd'].mean(), \n",
    "        mode='full'\n",
    "    )\n",
    "    result_splash = spd_corr_result_splash[spd_corr_result_splash.size // 2:]\n",
    "    result_splash = pd.DataFrame({\"R\": result_splash / float(result_splash.max())})\n",
    "    result_splash['lag (s)'] = result_splash.index/10\n",
    "\n",
    "    first_root_splash = find_root(result_splash, 'R',  'lag (s)')\n",
    "    integral_result_splash = np.trapz(\n",
    "        result_splash['R'].loc[:first_root_splash],\n",
    "        result_splash['lag (s)'].loc[:first_root_splash],\n",
    "    )\n",
    "    integral_length_scale_splash = (integral_result_splash * src_splash['spd'].mean())\n",
    "    print(f'The integration result_splash is: {integral_result_splash}')\n",
    "    print(f'The mean wind speed is: {src_splash['spd'].mean()}')\n",
    "    print(f\"The integral length scale is: {integral_length_scale_splash}\")\n",
    "\n",
    "\n",
    "    # SOS\n",
    "    src_sos = fast_df_sos.loc[time_period[0]: time_period[1]]\n",
    "    src_sos = src_sos.assign(\n",
    "        spd = np.sqrt(src_sos['u']**2 + src_sos['v']**2)\n",
    "    )\n",
    "    spd_corr_result_sos = np.correlate(\n",
    "        src_sos['spd'] - src_sos['spd'].mean(), \n",
    "        src_sos['spd'] - src_sos['spd'].mean(), \n",
    "        mode='full'\n",
    "    )\n",
    "    result_sos = spd_corr_result_sos[spd_corr_result_sos.size // 2:]\n",
    "    result_sos = pd.DataFrame({\"R\": result_sos / float(result_sos.max())})\n",
    "    result_sos['lag (s)'] = result_sos.index/20\n",
    "\n",
    "    first_root_sos = find_root(result_sos, 'R',  'lag (s)')\n",
    "    integral_result_sos = np.trapz(\n",
    "        result_sos['R'].loc[:first_root_sos],\n",
    "        result_sos['lag (s)'].loc[:first_root_sos],\n",
    "    )\n",
    "    integral_length_scale_sos = integral_result_sos * src_sos['spd'].mean()\n",
    "    print(f'The integration result_sos is: {integral_result_sos}')\n",
    "    print(f'The mean wind speed is: {src_sos['spd'].mean()}')\n",
    "    print(f\"The integral length scale is: {integral_length_scale_sos}\")\n",
    "\n",
    "    plt.plot(result_sail['lag (s)'], result_sail[\"R\"], label='Gothic (SAIL)')\n",
    "    plt.plot(result_splash['lag (s)'], result_splash[\"R\"], label='Avery Picnic (SPLASH)')\n",
    "    plt.plot(result_sos['lag (s)'], result_sos[\"R\"], label='Kettle Ponds (SOS)')\n",
    "    plt.text(x=1800, y=1, s = f\"Lsail = {round(integral_length_scale_sail,0)}\")\n",
    "    plt.text(x=1800, y=0.95, s = f\"Lsplash = {round(integral_length_scale_splash,0)}\")\n",
    "    plt.text(x=1800, y=0.9, s = f\"Lsos = {round(integral_length_scale_sos,0)}\")\n",
    "    plt.title(time_period)\n",
    "    plt.axhline(0)\n",
    "    plt.legend()\n",
    "    plt.show()"
   ]
  },
  {
   "cell_type": "markdown",
   "metadata": {},
   "source": [
    "## For entire day, using moving window averages"
   ]
  },
  {
   "cell_type": "code",
   "execution_count": null,
   "metadata": {},
   "outputs": [],
   "source": [
    "src_sail_wholeday = fast_df_sail.assign(\n",
    "    spd = np.sqrt(fast_df_sail['u']**2 + fast_df_sail['v']**2)\n",
    ")\n",
    "src_sail_wholeday['spd_fluc'] = src_sail_wholeday['spd'] - src_sail_wholeday['spd'].rolling(window='30min').mean()\n",
    "spd_corr_result_sail_wholeday = np.correlate(\n",
    "    src_sail_wholeday['spd_fluc'],\n",
    "    src_sail_wholeday['spd_fluc'],\n",
    "    mode='full'\n",
    ")\n"
   ]
  },
  {
   "cell_type": "code",
   "execution_count": null,
   "metadata": {},
   "outputs": [],
   "source": [
    "src_splash_wholeday = fast_df_splash.assign(\n",
    "    spd = np.sqrt(fast_df_splash['u']**2 + fast_df_splash['v']**2)\n",
    ")\n",
    "src_splash_wholeday['spd_fluc'] = src_splash_wholeday['spd'] - src_splash_wholeday['spd'].rolling(window='30min').mean()\n",
    "spd_corr_result_splash_wholeday = np.correlate(\n",
    "    src_splash_wholeday['spd_fluc'],\n",
    "    src_splash_wholeday['spd_fluc'],\n",
    "    mode='full'\n",
    ")\n"
   ]
  },
  {
   "cell_type": "code",
   "execution_count": null,
   "metadata": {},
   "outputs": [],
   "source": [
    "src_sos_wholeday = fast_df_sos.assign(\n",
    "    spd = np.sqrt(fast_df_sos['u']**2 + fast_df_sos['v']**2)\n",
    ")\n",
    "src_sos_wholeday['spd_fluc'] = src_sos_wholeday['spd'] - src_sos_wholeday['spd'].rolling(window='30min').mean()\n",
    "spd_corr_result_sos_wholeday = np.correlate(\n",
    "    src_sos_wholeday['spd_fluc'],\n",
    "    src_sos_wholeday['spd_fluc'],\n",
    "    mode='full'\n",
    ")\n"
   ]
  },
  {
   "cell_type": "code",
   "execution_count": null,
   "metadata": {},
   "outputs": [],
   "source": [
    "result_sail = spd_corr_result_sail_wholeday[spd_corr_result_sail_wholeday.size // 2:]\n",
    "result_sail = pd.DataFrame({\"R\": result_sail / float(result_sail.max())})\n",
    "result_sail['lag_s'] = result_sail.index/10\n",
    "first_root_sail = find_root(result_sail, 'R',  'lag_s')\n",
    "integral_result_sail = np.trapz(\n",
    "    result_sail['R'].loc[:first_root_sail],\n",
    "    result_sail['lag_s'].loc[:first_root_sail],\n",
    ")\n",
    "integral_length_scale_sail = (integral_result_sail * src_sail['spd'].mean())\n",
    "\n",
    "\n",
    "result_splash = spd_corr_result_splash_wholeday[spd_corr_result_splash_wholeday.size // 2:]\n",
    "result_splash = pd.DataFrame({\"R\": result_splash / float(result_splash.max())})\n",
    "result_splash['lag_s'] = result_splash.index/10\n",
    "first_root_splash = find_root(result_splash, 'R',  'lag_s')\n",
    "integral_result_splash = np.trapz(\n",
    "    result_splash['R'].loc[:first_root_splash],\n",
    "    result_splash['lag_s'].loc[:first_root_splash],\n",
    ")\n",
    "integral_length_scale_splash = (integral_result_splash * src_splash['spd'].mean())\n",
    "\n",
    "\n",
    "result_sos = spd_corr_result_sos_wholeday[spd_corr_result_sos_wholeday.size // 2:]\n",
    "result_sos = pd.DataFrame({\"R\": result_sos / float(result_sos.max())})\n",
    "result_sos['lag_s'] = result_sos.index/20\n",
    "first_root_sos = find_root(result_sos, 'R',  'lag_s')\n",
    "integral_result_sos = np.trapz(\n",
    "    result_sos['R'].loc[:first_root_sos],\n",
    "    result_sos['lag_s'].loc[:first_root_sos],\n",
    ")\n",
    "integral_length_scale_sos = (integral_result_sos * src_sos['spd'].mean())"
   ]
  },
  {
   "cell_type": "code",
   "execution_count": null,
   "metadata": {},
   "outputs": [],
   "source": [
    "alt.Chart(result_sail.query(\"lag_s < 5000\")).transform_filter(\n",
    "    alt.datum.lag_s > 0\n",
    ").mark_line().encode(\n",
    "    alt.X('lag_s:Q').scale(type='log'),\n",
    "    alt.Y('R:Q')\n",
    ").properties(title=f'L = {round(integral_length_scale_sail, 1)}') | alt.Chart(result_splash.query(\"lag_s < 5000\")).transform_filter(\n",
    "    alt.datum.lag_s > 0\n",
    ").mark_line().encode(\n",
    "    alt.X('lag_s:Q').scale(type='log'),\n",
    "    alt.Y('R:Q')\n",
    ").properties(title=f'L = {round(integral_length_scale_splash, 1)}') | alt.Chart(result_sos.query(\"lag_s < 5000\")).transform_filter(\n",
    "    alt.datum.lag_s > 0\n",
    ").mark_line().encode(\n",
    "    alt.X('lag_s:Q').scale(type='log'),\n",
    "    alt.Y('R:Q')\n",
    ").properties(title=f'L = {round(integral_length_scale_sos, 1)}')"
   ]
  }
 ],
 "metadata": {
  "kernelspec": {
   "display_name": "arm",
   "language": "python",
   "name": "python3"
  },
  "language_info": {
   "codemirror_mode": {
    "name": "ipython",
    "version": 3
   },
   "file_extension": ".py",
   "mimetype": "text/x-python",
   "name": "python",
   "nbconvert_exporter": "python",
   "pygments_lexer": "ipython3",
   "version": "3.12.5"
  },
  "orig_nbformat": 4,
  "vscode": {
   "interpreter": {
    "hash": "e2b11a00ad1b97cabcd9cc9209b8824a0fcaf6ffe37b5243943912873b5dcab1"
   }
  }
 },
 "nbformat": 4,
 "nbformat_minor": 2
}
