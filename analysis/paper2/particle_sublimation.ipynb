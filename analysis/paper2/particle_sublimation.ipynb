{
 "cells": [
  {
   "cell_type": "code",
   "execution_count": null,
   "metadata": {},
   "outputs": [],
   "source": [
    "import numpy as np\n",
    "import pandas as pd\n",
    "from sublimpy import utils\n",
    "\n",
    "from metpy.units import units\n",
    "import metpy.constants\n",
    "\n",
    "import altair as alt\n",
    "alt.data_transformers.enable('json')"
   ]
  },
  {
   "cell_type": "markdown",
   "metadata": {},
   "source": [
    "Open data"
   ]
  },
  {
   "cell_type": "code",
   "execution_count": null,
   "metadata": {},
   "outputs": [],
   "source": [
    "# Open SOS Measurement Dataset\n",
    "################################################\n",
    "start_date = '20221130'\n",
    "end_date = '20230509'\n",
    "# open files\n",
    "tidy_df = pd.read_parquet(f'../paper1/tidy_df_{start_date}_{end_date}_noplanar_fit.parquet')\n",
    "\n",
    "# convert time column to datetime\n",
    "tidy_df['time'] = pd.to_datetime(tidy_df['time'])\n",
    "tidy_df = utils.modify_df_timezone(tidy_df, 'UTC', 'US/Mountain')"
   ]
  },
  {
   "cell_type": "markdown",
   "metadata": {},
   "source": [
    "# Process one timestamp"
   ]
  },
  {
   "cell_type": "code",
   "execution_count": null,
   "metadata": {},
   "outputs": [],
   "source": [
    "one_timestamp_src = tidy_df[tidy_df.time == '2022-12-22 03:30:00']\n",
    "one_timestamp_src.query(\"variable == 'SF_avg_1m_ue'\").value.iloc[0]*units(\"g/m^2/s\")"
   ]
  },
  {
   "cell_type": "code",
   "execution_count": null,
   "metadata": {},
   "outputs": [],
   "source": [
    "# air_temp\n",
    "T = (one_timestamp_src.query(\"variable == 'T_2m_c'\").value.iloc[0] + 273.15)*units(\"K\")\n",
    "\n",
    "# saturated_water_vapor_density\n",
    "q_s = (\n",
    "    one_timestamp_src.query(\"variable == 'Tsurfvaporpressure_c'\").value.iloc[0]*units(\"pascal\")*\n",
    "    metpy.constants.water_molecular_weight / (\n",
    "        8.314*units(\"J/K/mol\") * (\n",
    "            (one_timestamp_src.query(\"variable == 'T_2m_c'\").value.iloc[0] + 273.15)*units(\"K\")\n",
    "        )\n",
    "    )\n",
    ").to_base_units()\n",
    "\n",
    "# water_vapor_density\n",
    "q = (\n",
    "    one_timestamp_src.query(\"variable == 'vaporpressure_2m_c'\").value.iloc[0]*units(\"pascal\")*\n",
    "    metpy.constants.water_molecular_weight / (\n",
    "        8.314*units(\"J/K/mol\") * (\n",
    "            (one_timestamp_src.query(\"variable == 'T_2m_c'\").value.iloc[0] + 273.15)*units(\"K\")\n",
    "        )\n",
    "    )\n",
    ").to_base_units()"
   ]
  },
  {
   "cell_type": "markdown",
   "metadata": {},
   "source": [
    "#### Calculate particle sublimation rate, given a number of assumptions"
   ]
  },
  {
   "cell_type": "code",
   "execution_count": null,
   "metadata": {},
   "outputs": [],
   "source": [
    "r = 0.0001*units(\"meters\")       # radius, meters - from \"initial particle diameter\" \n",
    "                            # from Section 2 of Sharma et al., 2018 (https://tc.copernicus.org/articles/12/3499/2018/)\n",
    "lambda_s = 2838000*units(\"J/kg\")# latent heat of sublimation (J kg−1)\n",
    "k_T = 0.02288*units(\"W/m/K\")    # thermal conductivity, for air at -10˚C  (W/m/K)\n",
    "Nu = 6                          # Nusselt number, typical values for snowdrifts: 2 - 10\n",
    "M_w = 0.018*units(\"kg/mol\")     # molecular weight of water vapour (kg/mol - paper says kg, but it must be \n",
    "                            # kg/mol to cancel out the mol introduced by R)G)\n",
    "R_g = 8.3145*units(\"J/mol/K\")   # universal gas constant (J mol−1 K−1)\n",
    "k_v = 24.9*1e-6*units(\"m^2/s\")  # molecular diffusivity of h20 vapour in air (m2 s−1) - CHECK THIS FOR CORRECT T&P\n",
    "Sh = Nu                         # Sherwood number \n",
    "\n",
    "dm_dt = (\n",
    "    2*np.pi*r* (q/q_s - 1)\n",
    ") / (\n",
    "    (lambda_s/(k_T * T)) * (1 / Nu) * (lambda_s * M_w / (R_g * T)) + 1/(k_v * q_s * Sh)\n",
    ").to_base_units()"
   ]
  },
  {
   "cell_type": "markdown",
   "metadata": {},
   "source": [
    "#### Calculate particle concentration, using blowing snow flux measurements, and a few assumptions "
   ]
  },
  {
   "cell_type": "code",
   "execution_count": null,
   "metadata": {},
   "outputs": [],
   "source": [
    "wind_speed = one_timestamp_src.query(\"variable == 'spd_3m_ue'\").value.iloc[0] * units(\"m/s\")\n",
    "blowing_snow_flux = one_timestamp_src.query(\"variable == 'SF_avg_1m_ue'\").value.iloc[0]*units(\"g/m^2/s\")\n",
    "blowing_snow_concentration = blowing_snow_flux / wind_speed\n",
    "volume_ice_per_meter_cubed = (blowing_snow_concentration / metpy.constants.density_ice).to_base_units()\n",
    "sphere_volume = (4/3)*np.pi*r**3\n",
    "n_particles_per_m3 = volume_ice_per_meter_cubed / sphere_volume"
   ]
  },
  {
   "cell_type": "code",
   "execution_count": null,
   "metadata": {},
   "outputs": [],
   "source": [
    "print(blowing_snow_concentration)\n",
    "print(volume_ice_per_meter_cubed)\n",
    "print(sphere_volume)\n",
    "print(n_particles_per_m3)"
   ]
  },
  {
   "cell_type": "code",
   "execution_count": null,
   "metadata": {},
   "outputs": [],
   "source": [
    "# per m^3, we have {n_particles_per_m3} particles\n",
    "# those are each sublimating at a rate {dm_dt}\n",
    "# total blowing snow sublimation rate occuring within a cubic meter of snow\n",
    "print(dm_dt * n_particles_per_m3)\n",
    "# over an hour, the following mass sublimated\n",
    "print((dm_dt * n_particles_per_m3).to(\"kg/m^3/hr\"))\n",
    "# Assuming the sublimated mass is instantaneously transported vertically through a 1 m^2 face,\n",
    "# i.e. integrate over the height of the cubic meter,\n",
    "# we sublimated this much math per m^2\n",
    "blowing_snow_sublimation_flux_kg_per_hr_m2 = (dm_dt * n_particles_per_m3).to(\"kg/m^3/hr\")* units(\"m\")\n",
    "print(blowing_snow_sublimation_flux_kg_per_hr_m2)\n",
    "# we sublimated this much SWE:\n",
    "print((blowing_snow_sublimation_flux_kg_per_hr_m2 /  metpy.constants.density_water).to(\"mm/hr\"))\n",
    "# over a full day of this maximum sublimation rate, we could hypothetically sublimate:\n",
    "print((blowing_snow_sublimation_flux_kg_per_hr_m2 /  metpy.constants.density_water).to(\"mm/day\"))"
   ]
  },
  {
   "cell_type": "code",
   "execution_count": null,
   "metadata": {},
   "outputs": [],
   "source": [
    "import xarray as xr\n",
    "ds = xr.open_mfdataset([\n",
    "    \"/Users/elischwat/Development/data/sublimationofsnow/sosqc/sos_qc_geo_tiltcor_v20240307/isfs_sos_qc_geo_tiltcor_5min_20221220.nc\",\n",
    "    \"/Users/elischwat/Development/data/sublimationofsnow/sosqc/sos_qc_geo_tiltcor_v20240307/isfs_sos_qc_geo_tiltcor_5min_20221221.nc\",\n",
    "    \"/Users/elischwat/Development/data/sublimationofsnow/sosqc/sos_qc_geo_tiltcor_v20240307/isfs_sos_qc_geo_tiltcor_5min_20221222.nc\",\n",
    "    \"/Users/elischwat/Development/data/sublimationofsnow/sosqc/sos_qc_geo_tiltcor_v20240307/isfs_sos_qc_geo_tiltcor_5min_20221223.nc\",\n",
    "    \"/Users/elischwat/Development/data/sublimationofsnow/sosqc/sos_qc_geo_tiltcor_v20240307/isfs_sos_qc_geo_tiltcor_5min_20221224.nc\"\n",
    "])\n",
    "ds = ds.compute()"
   ]
  },
  {
   "cell_type": "code",
   "execution_count": null,
   "metadata": {},
   "outputs": [],
   "source": [
    "print(\"latent heat fluxes measured a maximum value of:\")\n",
    "instant_ec_lhflux_measurement = ds['w_h2o__3m_c'].max().item() * units(\"g/m^2/s\")\n",
    "print(instant_ec_lhflux_measurement)\n",
    "print(\"Which over an hour is\")\n",
    "print(instant_ec_lhflux_measurement.to(\"g/m^2/hr\"))\n",
    "print(\"Which over an hour is\")\n",
    "instant_ec_lhflux_measurement_kg_per_hr_m2 = instant_ec_lhflux_measurement.to(\"kg/m^2/hr\")\n",
    "print(instant_ec_lhflux_measurement_kg_per_hr_m2)"
   ]
  },
  {
   "cell_type": "code",
   "execution_count": null,
   "metadata": {},
   "outputs": [],
   "source": [
    "print(f\"So this tells us that at the max blowing snow rate,\")\n",
    "print(f\"when the ECs indicate a water vapor flux of {round(instant_ec_lhflux_measurement_kg_per_hr_m2, 3)}\")\n",
    "print(f\"Our particle sublimation model estimates that {round(blowing_snow_sublimation_flux_kg_per_hr_m2, 3)} sublimated.\")\n",
    "print(\n",
    "f\"\"\"Which accounts for {round(\n",
    "    100 * blowing_snow_sublimation_flux_kg_per_hr_m2 / \n",
    "        instant_ec_lhflux_measurement_kg_per_hr_m2, 1\n",
    "    ).magnitude\n",
    "}% of the water vapor flux.\n",
    "\"\"\"\n",
    ")"
   ]
  },
  {
   "cell_type": "markdown",
   "metadata": {},
   "source": [
    "# Process time series"
   ]
  },
  {
   "cell_type": "code",
   "execution_count": null,
   "metadata": {},
   "outputs": [],
   "source": [
    "def particle_sublimation_rate(T, q_s, q, r, lambda_s, k_T, Nu, M_w, R_g, k_v, Sh):\n",
    "    dm_dt = (\n",
    "        2*np.pi*r* (q/q_s - 1)\n",
    "    ) / (\n",
    "        (lambda_s/(k_T * T)) * (1 / Nu) * (lambda_s * M_w / (R_g * T)) + 1/(k_v * q_s * Sh)\n",
    "    ).to_base_units()\n",
    "    return dm_dt"
   ]
  },
  {
   "cell_type": "code",
   "execution_count": null,
   "metadata": {},
   "outputs": [],
   "source": [
    "# start and end dates for calculations\n",
    "case_study_start_date = '20221220'\n",
    "case_study_end_date = '20221224'\n",
    "\n",
    "# case_study_start_date = '20221211'\n",
    "# case_study_end_date = '20221215'\n",
    "\n",
    "# parameters assumed for the particle sublimation model\n",
    "r = 0.00015*units(\"meters\")       # radius, meters - from \"initial particle diameter\" \n",
    "                                # from Section 2 of Sharma et al., 2018 (https://tc.copernicus.org/articles/12/3499/2018/)\n",
    "lambda_s = 2838000*units(\"J/kg\")# latent heat of sublimation (J kg−1)\n",
    "k_T = 0.02288*units(\"W/m/K\")    # thermal conductivity, for air at -10˚C  (W/m/K)\n",
    "Nu = 8                          # Nusselt number, typical values for snowdrifts: 2 - 10\n",
    "M_w = 0.018*units(\"kg/mol\")     # molecular weight of water vapour (kg/mol - paper says kg, but it must be \n",
    "                            # kg/mol to cancel out the mol introduced by R)G)\n",
    "R_g = 8.3145*units(\"J/mol/K\")   # universal gas constant (J mol−1 K−1)\n",
    "k_v = 24.9*1e-6*units(\"m^2/s\")  # molecular diffusivity of h20 vapour in air (m2 s−1) - CHECK THIS FOR CORRECT T&P\n",
    "Sh = Nu   \n",
    "\n",
    "# Results list\n",
    "results = []\n",
    "\n",
    "# loop\n",
    "for timestamp in tidy_df[\n",
    "    (tidy_df.time >= case_study_start_date) &\n",
    "    (tidy_df.time <= case_study_end_date)\n",
    "].time.unique():\n",
    "    tidy_src = tidy_df[tidy_df.time == timestamp]\n",
    "    # air_temp\n",
    "    T = (tidy_src.query(\"variable == 'T_2m_c'\").value.iloc[0] + 273.15)*units(\"K\")\n",
    "    # saturated_water_vapor_density\n",
    "    q_s = (\n",
    "        tidy_src.query(\"variable == 'Tsurfvaporpressure_c'\").value.iloc[0]*units(\"pascal\")*\n",
    "        metpy.constants.water_molecular_weight / (\n",
    "            8.314*units(\"J/K/mol\") * (\n",
    "                (tidy_src.query(\"variable == 'T_2m_c'\").value.iloc[0] + 273.15)*units(\"K\")\n",
    "            )\n",
    "        )\n",
    "    ).to_base_units()\n",
    "    # water_vapor_density\n",
    "    q = (\n",
    "        tidy_src.query(\"variable == 'vaporpressure_2m_c'\").value.iloc[0]*units(\"pascal\")*\n",
    "        metpy.constants.water_molecular_weight / (\n",
    "            8.314*units(\"J/K/mol\") * (\n",
    "                (tidy_src.query(\"variable == 'T_2m_c'\").value.iloc[0] + 273.15)*units(\"K\")\n",
    "            )\n",
    "        )\n",
    "    ).to_base_units()\n",
    "    # get particle sublimation estimates\n",
    "    sublimation = particle_sublimation_rate(T, q_s, q, r, lambda_s, k_T, Nu, M_w, R_g, k_v, Sh)\n",
    "    # get particle concentration estimates\n",
    "    wind_speed = tidy_src.query(\"variable == 'spd_3m_ue'\").value.iloc[0] * units(\"m/s\")\n",
    "    blowing_snow_flux = tidy_src.query(\"variable == 'SF_avg_1m_ue'\").value.iloc[0]*units(\"g/m^2/s\")\n",
    "    blowing_snow_concentration = blowing_snow_flux / wind_speed\n",
    "    volume_ice_per_meter_cubed = (blowing_snow_concentration / metpy.constants.density_ice).to_base_units()\n",
    "    sphere_volume = (4/3)*np.pi*r**3\n",
    "    n_particles_per_m3 = volume_ice_per_meter_cubed / sphere_volume\n",
    "\n",
    "    results.append((\n",
    "        timestamp,\n",
    "        sublimation,\n",
    "        n_particles_per_m3\n",
    "    ))"
   ]
  },
  {
   "cell_type": "code",
   "execution_count": null,
   "metadata": {},
   "outputs": [],
   "source": [
    "src = tidy_df[\n",
    "    (tidy_df.time >= case_study_start_date) &\n",
    "    (tidy_df.time <= case_study_end_date)\n",
    "]\n",
    "src = src[src.variable.isin([\n",
    "    'T_2m_c',\n",
    "    'Tsurfvaporpressure_c',\n",
    "    'T_2m_c',\n",
    "    'vaporpressure_2m_c',\n",
    "    'T_2m_c',\n",
    "    'spd_3m_ue',\n",
    "    'SF_avg_1m_ue',\n",
    "    'w_h2o__3m_ue'\n",
    "])]\n",
    "src = src.pivot(index='time', columns='variable', values='value')\n",
    "src.plot(subplots=True)"
   ]
  },
  {
   "cell_type": "code",
   "execution_count": null,
   "metadata": {},
   "outputs": [],
   "source": [
    "df = pd.DataFrame({\n",
    "    'sublimation' : list(zip(*results))[0],\n",
    "    'n_particles_per_m3' : list(zip(*results))[1],\n",
    "})"
   ]
  },
  {
   "cell_type": "code",
   "execution_count": null,
   "metadata": {},
   "outputs": [],
   "source": [
    "df = pd.DataFrame({\n",
    "    'time' : list(zip(*results))[0],\n",
    "    'sublimation' : list(zip(*results))[1],\n",
    "    'n_particles_per_m3' : list(zip(*results))[2],\n",
    "})\n",
    "df['bs_sublimation_flux'] = (df['sublimation'] * df['n_particles_per_m3']).apply(lambda x: x.to(\"g/m^3/s\")* units(\"m\"))"
   ]
  },
  {
   "cell_type": "code",
   "execution_count": null,
   "metadata": {},
   "outputs": [],
   "source": [
    "df['n_particles_per_m3'] = df['n_particles_per_m3'].apply(lambda x: x.magnitude)"
   ]
  },
  {
   "cell_type": "code",
   "execution_count": 23,
   "metadata": {},
   "outputs": [
    {
     "data": {
      "text/plain": [
       "13745.703289827949"
      ]
     },
     "execution_count": 23,
     "metadata": {},
     "output_type": "execute_result"
    }
   ],
   "source": [
    "df['n_particles_per_m3'].mean()"
   ]
  },
  {
   "cell_type": "markdown",
   "metadata": {},
   "source": [
    "## Compare model time steries with measured"
   ]
  },
  {
   "cell_type": "code",
   "execution_count": null,
   "metadata": {},
   "outputs": [],
   "source": [
    "import matplotlib.pyplot as plt\n",
    "fig, [ax1, ax2] = plt.subplots(2, 1, sharex=True)\n",
    "src['w_h2o__3m_ue'].plot(ax=ax1, label='EC measured')\n",
    "(- df.set_index('time')['bs_sublimation_flux']).apply(lambda x: x.magnitude).plot(ax=ax1, label='BS model')\n",
    "src['SF_avg_1m_ue'].plot(ax=ax2, label='BS flux')\n",
    "ax1.legend()\n",
    "ax2.legend()"
   ]
  },
  {
   "cell_type": "code",
   "execution_count": null,
   "metadata": {},
   "outputs": [],
   "source": [
    "df_to_save = df[['time', 'bs_sublimation_flux']]\n",
    "df_to_save['bs_sublimation_flux'] = -df_to_save['bs_sublimation_flux'].apply(lambda x: x.magnitude)\n",
    "df_to_save.to_csv(f\"bs_sublimation_{case_study_start_date}_{case_study_end_date}.csv\")"
   ]
  },
  {
   "cell_type": "markdown",
   "metadata": {},
   "source": [
    "# Retrieve Disdrometer data"
   ]
  },
  {
   "cell_type": "code",
   "execution_count": null,
   "metadata": {},
   "outputs": [],
   "source": [
    "import act"
   ]
  },
  {
   "cell_type": "code",
   "execution_count": null,
   "metadata": {},
   "outputs": [],
   "source": [
    "# Download and open SAIL Disdrometer data\n",
    "dates = src.index.strftime('%Y-%m-%d').unique()\n",
    "username = os.getenv(\"ARM_USERNAME\")\n",
    "token = os.getenv(\"ARM_TOKEN\")\n",
    "\n",
    "ecor_kp = 'guc30ecorS3.b1'\n",
    "sebs = 'gucsebsS3.b1'\n",
    "ld = 'gucldM1.b1'\n",
    "output_dir = os.path.join('/Users/elischwat/Development/data/sublimationofsnow', ld)\n",
    "files = []\n",
    "for date in dates:\n",
    "    new_files = act.discovery.download_arm_data(\n",
    "        username,\n",
    "        token,\n",
    "        ld,\n",
    "        date,\n",
    "        date,\n",
    "        output=output_dir\n",
    "    )\n",
    "    files = files + new_files\n",
    "disdro_ds = xr.open_mfdataset(files)\n",
    "disdro_ds = utils.modify_xarray_timezone(disdro_ds, 'UTC', 'US/Mountain')"
   ]
  },
  {
   "cell_type": "code",
   "execution_count": null,
   "metadata": {},
   "outputs": [],
   "source": [
    "particle_size_src = disdro_ds.sel(\n",
    "    time = slice(\"20221213 1200\", \"20221214 1200\")\n",
    "    # time = slice(\"20221221 1200\", \"20221223 0000\")\n",
    ")['number_density_drops'].to_dataframe()[['number_density_drops']].groupby([\n",
    "    pd.Grouper(level='particle_size'),\n",
    "    pd.Grouper(freq='60Min', level='time'),\n",
    "]).mean().reset_index()\n",
    "particle_size_src = particle_size_src[particle_size_src.particle_size < 2]\n",
    "particle_size_src['hour'] = particle_size_src['time'].dt.hour\n",
    "particle_size_src['time_str'] = particle_size_src['time'].dt.strftime('Dec. %d %H:00')\n",
    "mode_particle_size = particle_size_src.query(\n",
    "    \"number_density_drops > 0\"\n",
    ").sort_values('number_density_drops').particle_size.iloc[-1]\n",
    "(\n",
    "    alt.Chart(particle_size_src).transform_calculate(\n",
    "        mode = f\"{mode_particle_size}\"\n",
    "    ).mark_rule(color='black', strokeWidth = 2).encode(\n",
    "        alt.X(\"mode:Q\")\n",
    "    ) +\\\n",
    "    alt.Chart(\n",
    "        particle_size_src\n",
    "    ).mark_line().encode(\n",
    "        alt.X(\"particle_size:Q\").title(\"Particle diameter (mm)\"),\n",
    "        alt.Y(\"number_density_drops:Q\").title(\"Number particles\"),\n",
    "        alt.Color(\"time:T\").scale(\n",
    "            scheme=alt.SchemeParams(name='yellowgreenblue', extent=[-1, 2]),\n",
    "        ).legend(format = 'Dec. %d %H:00')\n",
    "    ).properties(height = 100, width=200, title=f\"Mode of particle size: {round(mode_particle_size, 2)}\")\n",
    ").configure_legend(\n",
    "    gradientLength=50,\n",
    ") "
   ]
  }
 ],
 "metadata": {
  "kernelspec": {
   "display_name": "sublimationofsnow",
   "language": "python",
   "name": "python3"
  },
  "language_info": {
   "codemirror_mode": {
    "name": "ipython",
    "version": 3
   },
   "file_extension": ".py",
   "mimetype": "text/x-python",
   "name": "python",
   "nbconvert_exporter": "python",
   "pygments_lexer": "ipython3",
   "version": "3.1.0"
  }
 },
 "nbformat": 4,
 "nbformat_minor": 2
}
