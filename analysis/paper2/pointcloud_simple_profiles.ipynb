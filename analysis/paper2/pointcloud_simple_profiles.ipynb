{
 "cells": [
  {
   "cell_type": "code",
   "execution_count": 1,
   "metadata": {},
   "outputs": [],
   "source": [
    "import numpy as np\n",
    "import open3d as o3d\n",
    "import correct_lidar\n",
    "\n",
    "import glob\n",
    "\n",
    "import altair as alt\n",
    "alt.data_transformers.enable('json')\n",
    "import seaborn as sns\n",
    "import matplotlib.pyplot as plt \n",
    "import pandas as pd\n",
    "import datetime as dt\n",
    "\n",
    "import xarray as xr\n",
    "from joblib import Parallel, delayed\n",
    "from tqdm import tqdm\n",
    "from sublimpy import utils"
   ]
  },
  {
   "cell_type": "code",
   "execution_count": 2,
   "metadata": {},
   "outputs": [],
   "source": [
    "fp = \"/Users/elischwat/Development/data/sublimationofsnow/lidar_raw/l1/2022-12-31/2022-12-31_19-05-16.lvx\"\n",
    "output_prefix = fp.split('/')[-1].replace('.lvx', '')"
   ]
  },
  {
   "cell_type": "code",
   "execution_count": 3,
   "metadata": {},
   "outputs": [],
   "source": [
    "# Open SOS Measurement Dataset\n",
    "################################################\n",
    "start_date = '20221130'\n",
    "end_date = '20230509'\n",
    "# open files\n",
    "tidy_df = pd.read_parquet(f'../paper1/tidy_df_{start_date}_{end_date}_noplanar_fit.parquet')\n",
    "\n",
    "# convert time column to datetime\n",
    "tidy_df['time'] = pd.to_datetime(tidy_df['time'])\n",
    "tidy_df = utils.modify_df_timezone(tidy_df, 'UTC', 'US/Mountain')"
   ]
  },
  {
   "cell_type": "markdown",
   "metadata": {},
   "source": [
    "# Process single file"
   ]
  },
  {
   "cell_type": "markdown",
   "metadata": {},
   "source": [
    "## Open a single scan and save to file"
   ]
  },
  {
   "cell_type": "code",
   "execution_count": 4,
   "metadata": {},
   "outputs": [],
   "source": [
    "points = correct_lidar.read_file(fp)\n",
    "# points = points.T\n",
    "# combined_points_bs = np.concatenate(loaded)"
   ]
  },
  {
   "cell_type": "code",
   "execution_count": 5,
   "metadata": {},
   "outputs": [],
   "source": [
    "pcd = o3d.geometry.PointCloud()\n",
    "pcd.points = o3d.utility.Vector3dVector(points[:,:3])"
   ]
  },
  {
   "cell_type": "code",
   "execution_count": 6,
   "metadata": {},
   "outputs": [
    {
     "data": {
      "text/plain": [
       "True"
      ]
     },
     "execution_count": 6,
     "metadata": {},
     "output_type": "execute_result"
    }
   ],
   "source": [
    "o3d.io.write_point_cloud(f\"{output_prefix}.ply\", pcd, format = 'ply')"
   ]
  },
  {
   "cell_type": "markdown",
   "metadata": {},
   "source": [
    "## Rotate points to be in earth-relative coordinate system, save"
   ]
  },
  {
   "cell_type": "code",
   "execution_count": 7,
   "metadata": {},
   "outputs": [],
   "source": [
    "theta = np.deg2rad(25)\n",
    "points_rotated = []\n",
    "\n",
    "for i, [x, y, z] in enumerate(points[:,:3]):\n",
    "    x_ = x*np.cos(theta) + y*np.sin(theta)\n",
    "    y_ = -x*np.sin(theta) + y*np.cos(theta)\n",
    "    points_rotated.append(np.array([x_, y_, z]))\n",
    "points_rotated = np.array(points_rotated)"
   ]
  },
  {
   "cell_type": "code",
   "execution_count": 8,
   "metadata": {},
   "outputs": [
    {
     "data": {
      "text/plain": [
       "True"
      ]
     },
     "execution_count": 8,
     "metadata": {},
     "output_type": "execute_result"
    }
   ],
   "source": [
    "pcd_rot = o3d.geometry.PointCloud()\n",
    "pcd_rot.points = o3d.utility.Vector3dVector(points_rotated)\n",
    "o3d.io.write_point_cloud(f\"{output_prefix}_rot.ply\", pcd_rot, format = 'ply')"
   ]
  },
  {
   "cell_type": "markdown",
   "metadata": {},
   "source": [
    "## Filter points and save"
   ]
  },
  {
   "cell_type": "code",
   "execution_count": 9,
   "metadata": {},
   "outputs": [],
   "source": [
    "points_filtered = np.array([\n",
    "    np.array([x, y, z]) for [x,y,z] in points_rotated\n",
    "    if x <= 14 and z < 0.6 and z > -3.69\n",
    "])"
   ]
  },
  {
   "cell_type": "code",
   "execution_count": 10,
   "metadata": {},
   "outputs": [
    {
     "data": {
      "text/plain": [
       "True"
      ]
     },
     "execution_count": 10,
     "metadata": {},
     "output_type": "execute_result"
    }
   ],
   "source": [
    "pcd_rot_filt = o3d.geometry.PointCloud()\n",
    "pcd_rot_filt.points = o3d.utility.Vector3dVector(points_filtered)\n",
    "o3d.io.write_point_cloud(f\"{output_prefix}_rot_filt.ply\", pcd_rot_filt, format = 'ply', )"
   ]
  },
  {
   "cell_type": "code",
   "execution_count": 11,
   "metadata": {},
   "outputs": [
    {
     "name": "stdout",
     "output_type": "stream",
     "text": [
      "min/max x values: 0.031 13.999\n",
      "min/max y values: -9.36 1.27\n",
      "min/max z values: -3.689 0.599\n"
     ]
    }
   ],
   "source": [
    "print(\"min/max x values:\", round(points_filtered[:, 0].min(), 3), round(points_filtered[:, 0].max(), 3))\n",
    "print(\"min/max y values:\", round(points_filtered[:, 1].min(), 3), round(points_filtered[:, 1].max(), 3))\n",
    "print(\"min/max z values:\", round(points_filtered[:, 2].min(), 3), round(points_filtered[:, 2].max(), 3))"
   ]
  },
  {
   "cell_type": "markdown",
   "metadata": {},
   "source": [
    "## Remove \"ground\" points, using a 5cm buffer, and save"
   ]
  },
  {
   "cell_type": "code",
   "execution_count": 12,
   "metadata": {},
   "outputs": [
    {
     "data": {
      "text/plain": [
       "array([[ 3.21296873, -1.04364022,  0.274     ],\n",
       "       [ 3.29977392, -1.22424714,  0.195     ],\n",
       "       [ 4.3539613 , -1.81954032,  0.135     ],\n",
       "       ...,\n",
       "       [ 2.56941674, -1.31399338,  0.262     ],\n",
       "       [ 2.53532633, -1.45808656,  0.567     ],\n",
       "       [ 2.53091693, -1.46044394,  0.575     ]])"
      ]
     },
     "execution_count": 12,
     "metadata": {},
     "output_type": "execute_result"
    }
   ],
   "source": [
    "points_ground_filter = np.array([\n",
    "    np.array([x, y, z]) for [x,y,z] in points_filtered\n",
    "    if y > -8.8\n",
    "])\n",
    "points_ground_filter"
   ]
  },
  {
   "cell_type": "code",
   "execution_count": 13,
   "metadata": {},
   "outputs": [
    {
     "data": {
      "text/plain": [
       "True"
      ]
     },
     "execution_count": 13,
     "metadata": {},
     "output_type": "execute_result"
    }
   ],
   "source": [
    "pcd_rot_filt_ground = o3d.geometry.PointCloud()\n",
    "pcd_rot_filt_ground.points = o3d.utility.Vector3dVector(points_ground_filter)\n",
    "o3d.io.write_point_cloud(f\"{output_prefix}_rot_filt_ground.ply\", pcd_rot_filt_ground, format = 'ply', )"
   ]
  },
  {
   "cell_type": "markdown",
   "metadata": {},
   "source": [
    "## Unrotate the filtered points"
   ]
  },
  {
   "cell_type": "code",
   "execution_count": 14,
   "metadata": {},
   "outputs": [],
   "source": [
    "points_ground_filter_unrotated = []\n",
    "\n",
    "for i, [x, y, z] in enumerate(points_ground_filter):\n",
    "    x_ = x*np.cos( - theta) + y*np.sin( - theta)\n",
    "    y_ = -x*np.sin( - theta) + y*np.cos( - theta)\n",
    "    points_ground_filter_unrotated.append(np.array([x_, y_, z]))\n",
    "points_ground_filter_unrotated = np.array(points_ground_filter_unrotated)"
   ]
  },
  {
   "cell_type": "code",
   "execution_count": 15,
   "metadata": {},
   "outputs": [],
   "source": [
    "pts_df = pd.DataFrame(points_ground_filter_unrotated).rename(columns = {\n",
    "    0: 'x',\n",
    "    1: 'y',\n",
    "    2: 'z',\n",
    "})\n",
    "\n",
    "# Calculate distance from centerline (e.g. radius)\n",
    "pts_df['r'] = np.sqrt(pts_df['y']**2 + pts_df['z']**2)"
   ]
  },
  {
   "cell_type": "code",
   "execution_count": 16,
   "metadata": {},
   "outputs": [
    {
     "data": {
      "text/html": [
       "<div>\n",
       "<style scoped>\n",
       "    .dataframe tbody tr th:only-of-type {\n",
       "        vertical-align: middle;\n",
       "    }\n",
       "\n",
       "    .dataframe tbody tr th {\n",
       "        vertical-align: top;\n",
       "    }\n",
       "\n",
       "    .dataframe thead th {\n",
       "        text-align: right;\n",
       "    }\n",
       "</style>\n",
       "<table border=\"1\" class=\"dataframe\">\n",
       "  <thead>\n",
       "    <tr style=\"text-align: right;\">\n",
       "      <th></th>\n",
       "      <th>x</th>\n",
       "      <th>y</th>\n",
       "      <th>z</th>\n",
       "      <th>r</th>\n",
       "    </tr>\n",
       "  </thead>\n",
       "  <tbody>\n",
       "    <tr>\n",
       "      <th>0</th>\n",
       "      <td>3.353</td>\n",
       "      <td>0.412</td>\n",
       "      <td>0.274</td>\n",
       "      <td>0.494793</td>\n",
       "    </tr>\n",
       "    <tr>\n",
       "      <th>1</th>\n",
       "      <td>3.508</td>\n",
       "      <td>0.285</td>\n",
       "      <td>0.195</td>\n",
       "      <td>0.345326</td>\n",
       "    </tr>\n",
       "    <tr>\n",
       "      <th>2</th>\n",
       "      <td>4.715</td>\n",
       "      <td>0.191</td>\n",
       "      <td>0.135</td>\n",
       "      <td>0.233893</td>\n",
       "    </tr>\n",
       "  </tbody>\n",
       "</table>\n",
       "</div>"
      ],
      "text/plain": [
       "       x      y      z         r\n",
       "0  3.353  0.412  0.274  0.494793\n",
       "1  3.508  0.285  0.195  0.345326\n",
       "2  4.715  0.191  0.135  0.233893"
      ]
     },
     "execution_count": 16,
     "metadata": {},
     "output_type": "execute_result"
    }
   ],
   "source": [
    "pts_df.head(3)"
   ]
  },
  {
   "cell_type": "code",
   "execution_count": 17,
   "metadata": {},
   "outputs": [
    {
     "data": {
      "text/html": [
       "\n",
       "<style>\n",
       "  #altair-viz-34f8e7faea1641be97c57436986a7301.vega-embed {\n",
       "    width: 100%;\n",
       "    display: flex;\n",
       "  }\n",
       "\n",
       "  #altair-viz-34f8e7faea1641be97c57436986a7301.vega-embed details,\n",
       "  #altair-viz-34f8e7faea1641be97c57436986a7301.vega-embed details summary {\n",
       "    position: relative;\n",
       "  }\n",
       "</style>\n",
       "<div id=\"altair-viz-34f8e7faea1641be97c57436986a7301\"></div>\n",
       "<script type=\"text/javascript\">\n",
       "  var VEGA_DEBUG = (typeof VEGA_DEBUG == \"undefined\") ? {} : VEGA_DEBUG;\n",
       "  (function(spec, embedOpt){\n",
       "    let outputDiv = document.currentScript.previousElementSibling;\n",
       "    if (outputDiv.id !== \"altair-viz-34f8e7faea1641be97c57436986a7301\") {\n",
       "      outputDiv = document.getElementById(\"altair-viz-34f8e7faea1641be97c57436986a7301\");\n",
       "    }\n",
       "    const paths = {\n",
       "      \"vega\": \"https://cdn.jsdelivr.net/npm/vega@5?noext\",\n",
       "      \"vega-lib\": \"https://cdn.jsdelivr.net/npm/vega-lib?noext\",\n",
       "      \"vega-lite\": \"https://cdn.jsdelivr.net/npm/vega-lite@5.17.0?noext\",\n",
       "      \"vega-embed\": \"https://cdn.jsdelivr.net/npm/vega-embed@6?noext\",\n",
       "    };\n",
       "\n",
       "    function maybeLoadScript(lib, version) {\n",
       "      var key = `${lib.replace(\"-\", \"\")}_version`;\n",
       "      return (VEGA_DEBUG[key] == version) ?\n",
       "        Promise.resolve(paths[lib]) :\n",
       "        new Promise(function(resolve, reject) {\n",
       "          var s = document.createElement('script');\n",
       "          document.getElementsByTagName(\"head\")[0].appendChild(s);\n",
       "          s.async = true;\n",
       "          s.onload = () => {\n",
       "            VEGA_DEBUG[key] = version;\n",
       "            return resolve(paths[lib]);\n",
       "          };\n",
       "          s.onerror = () => reject(`Error loading script: ${paths[lib]}`);\n",
       "          s.src = paths[lib];\n",
       "        });\n",
       "    }\n",
       "\n",
       "    function showError(err) {\n",
       "      outputDiv.innerHTML = `<div class=\"error\" style=\"color:red;\">${err}</div>`;\n",
       "      throw err;\n",
       "    }\n",
       "\n",
       "    function displayChart(vegaEmbed) {\n",
       "      vegaEmbed(outputDiv, spec, embedOpt)\n",
       "        .catch(err => showError(`Javascript Error: ${err.message}<br>This usually means there's a typo in your chart specification. See the javascript console for the full traceback.`));\n",
       "    }\n",
       "\n",
       "    if(typeof define === \"function\" && define.amd) {\n",
       "      requirejs.config({paths});\n",
       "      require([\"vega-embed\"], displayChart, err => showError(`Error loading script: ${err.message}`));\n",
       "    } else {\n",
       "      maybeLoadScript(\"vega\", \"5\")\n",
       "        .then(() => maybeLoadScript(\"vega-lite\", \"5.17.0\"))\n",
       "        .then(() => maybeLoadScript(\"vega-embed\", \"6\"))\n",
       "        .catch(showError)\n",
       "        .then(() => displayChart(vegaEmbed));\n",
       "    }\n",
       "  })({\"config\": {\"view\": {\"continuousWidth\": 300, \"continuousHeight\": 300}}, \"hconcat\": [{\"mark\": {\"type\": \"bar\"}, \"encoding\": {\"x\": {\"bin\": {}, \"field\": \"x\", \"type\": \"quantitative\"}, \"y\": {\"aggregate\": \"count\", \"type\": \"quantitative\"}}, \"height\": 200, \"width\": 200}, {\"mark\": {\"type\": \"bar\"}, \"encoding\": {\"x\": {\"bin\": {}, \"field\": \"r\", \"type\": \"quantitative\"}, \"y\": {\"aggregate\": \"count\", \"type\": \"quantitative\"}}, \"height\": 200, \"width\": 200}], \"data\": {\"url\": \"altair-data-8bf800b31d99863a5cd484119b442fcb.json\", \"format\": {\"type\": \"json\"}}, \"$schema\": \"https://vega.github.io/schema/vega-lite/v5.17.0.json\"}, {\"mode\": \"vega-lite\"});\n",
       "</script>"
      ],
      "text/plain": [
       "alt.HConcatChart(...)"
      ]
     },
     "execution_count": 17,
     "metadata": {},
     "output_type": "execute_result"
    }
   ],
   "source": [
    "alt.Chart(pts_df).mark_bar().encode(\n",
    "    alt.X(\"x:Q\").bin(),\n",
    "    alt.Y(\"count():Q\")\n",
    ").properties(width = 200, height = 200) |\\\n",
    "alt.Chart(pts_df).mark_bar().encode(\n",
    "    alt.X(\"r:Q\").bin(),\n",
    "    alt.Y(\"count():Q\")\n",
    ").properties(width = 200, height = 200)"
   ]
  },
  {
   "cell_type": "code",
   "execution_count": 18,
   "metadata": {},
   "outputs": [
    {
     "data": {
      "text/html": [
       "\n",
       "<style>\n",
       "  #altair-viz-2effbb48bc0e4a58916b435952a57d62.vega-embed {\n",
       "    width: 100%;\n",
       "    display: flex;\n",
       "  }\n",
       "\n",
       "  #altair-viz-2effbb48bc0e4a58916b435952a57d62.vega-embed details,\n",
       "  #altair-viz-2effbb48bc0e4a58916b435952a57d62.vega-embed details summary {\n",
       "    position: relative;\n",
       "  }\n",
       "</style>\n",
       "<div id=\"altair-viz-2effbb48bc0e4a58916b435952a57d62\"></div>\n",
       "<script type=\"text/javascript\">\n",
       "  var VEGA_DEBUG = (typeof VEGA_DEBUG == \"undefined\") ? {} : VEGA_DEBUG;\n",
       "  (function(spec, embedOpt){\n",
       "    let outputDiv = document.currentScript.previousElementSibling;\n",
       "    if (outputDiv.id !== \"altair-viz-2effbb48bc0e4a58916b435952a57d62\") {\n",
       "      outputDiv = document.getElementById(\"altair-viz-2effbb48bc0e4a58916b435952a57d62\");\n",
       "    }\n",
       "    const paths = {\n",
       "      \"vega\": \"https://cdn.jsdelivr.net/npm/vega@5?noext\",\n",
       "      \"vega-lib\": \"https://cdn.jsdelivr.net/npm/vega-lib?noext\",\n",
       "      \"vega-lite\": \"https://cdn.jsdelivr.net/npm/vega-lite@5.17.0?noext\",\n",
       "      \"vega-embed\": \"https://cdn.jsdelivr.net/npm/vega-embed@6?noext\",\n",
       "    };\n",
       "\n",
       "    function maybeLoadScript(lib, version) {\n",
       "      var key = `${lib.replace(\"-\", \"\")}_version`;\n",
       "      return (VEGA_DEBUG[key] == version) ?\n",
       "        Promise.resolve(paths[lib]) :\n",
       "        new Promise(function(resolve, reject) {\n",
       "          var s = document.createElement('script');\n",
       "          document.getElementsByTagName(\"head\")[0].appendChild(s);\n",
       "          s.async = true;\n",
       "          s.onload = () => {\n",
       "            VEGA_DEBUG[key] = version;\n",
       "            return resolve(paths[lib]);\n",
       "          };\n",
       "          s.onerror = () => reject(`Error loading script: ${paths[lib]}`);\n",
       "          s.src = paths[lib];\n",
       "        });\n",
       "    }\n",
       "\n",
       "    function showError(err) {\n",
       "      outputDiv.innerHTML = `<div class=\"error\" style=\"color:red;\">${err}</div>`;\n",
       "      throw err;\n",
       "    }\n",
       "\n",
       "    function displayChart(vegaEmbed) {\n",
       "      vegaEmbed(outputDiv, spec, embedOpt)\n",
       "        .catch(err => showError(`Javascript Error: ${err.message}<br>This usually means there's a typo in your chart specification. See the javascript console for the full traceback.`));\n",
       "    }\n",
       "\n",
       "    if(typeof define === \"function\" && define.amd) {\n",
       "      requirejs.config({paths});\n",
       "      require([\"vega-embed\"], displayChart, err => showError(`Error loading script: ${err.message}`));\n",
       "    } else {\n",
       "      maybeLoadScript(\"vega\", \"5\")\n",
       "        .then(() => maybeLoadScript(\"vega-lite\", \"5.17.0\"))\n",
       "        .then(() => maybeLoadScript(\"vega-embed\", \"6\"))\n",
       "        .catch(showError)\n",
       "        .then(() => displayChart(vegaEmbed));\n",
       "    }\n",
       "  })({\"config\": {\"view\": {\"continuousWidth\": 300, \"continuousHeight\": 300}}, \"data\": {\"url\": \"altair-data-8bf800b31d99863a5cd484119b442fcb.json\", \"format\": {\"type\": \"json\"}}, \"mark\": {\"type\": \"line\"}, \"encoding\": {\"x\": {\"field\": \"x\", \"type\": \"quantitative\"}, \"y\": {\"field\": \"density\", \"type\": \"quantitative\"}}, \"height\": 200, \"transform\": [{\"density\": \"x\", \"as\": [\"x\", \"density\"]}], \"width\": 200, \"$schema\": \"https://vega.github.io/schema/vega-lite/v5.17.0.json\"}, {\"mode\": \"vega-lite\"});\n",
       "</script>"
      ],
      "text/plain": [
       "alt.Chart(...)"
      ]
     },
     "execution_count": 18,
     "metadata": {},
     "output_type": "execute_result"
    }
   ],
   "source": [
    "alt.Chart(pts_df).transform_density(\n",
    "    'x',\n",
    "    as_=['x', 'density'],\n",
    ").mark_line().encode(\n",
    "    x=\"x:Q\",\n",
    "    y='density:Q',\n",
    ").properties(width = 200, height = 200)"
   ]
  },
  {
   "cell_type": "markdown",
   "metadata": {},
   "source": [
    "# Process multiple files"
   ]
  },
  {
   "cell_type": "code",
   "execution_count": 19,
   "metadata": {},
   "outputs": [],
   "source": [
    "theta = np.deg2rad(25)"
   ]
  },
  {
   "cell_type": "markdown",
   "metadata": {},
   "source": [
    "define function to isolate points that are actually in the air"
   ]
  },
  {
   "cell_type": "code",
   "execution_count": 20,
   "metadata": {},
   "outputs": [],
   "source": [
    "def get_filtered_points(fp):\n",
    "    points = correct_lidar.read_file(fp)[:,:3]\n",
    "\n",
    "    # Rotate the points so the ground is ~horizontal\n",
    "    points_rotated = []\n",
    "    for i, [x, y, z] in enumerate(points):\n",
    "        x_ = x*np.cos(theta) + y*np.sin(theta)\n",
    "        y_ = -x*np.sin(theta) + y*np.cos(theta)\n",
    "        points_rotated.append(np.array([x_, y_, z]))\n",
    "    points_rotated = np.array(points_rotated)\n",
    "\n",
    "    # Filter the points to remove physical obstructions\n",
    "    points_filtered = np.array([\n",
    "        np.array([x, y, z]) for [x,y,z] in points_rotated\n",
    "        if x <= 14 and z < 0.6 and z > -3.69\n",
    "    ])\n",
    "\n",
    "    # Filter the points to remove the ground\n",
    "    points_ground_filter = np.array([\n",
    "        np.array([x, y, z]) for [x,y,z] in points_filtered\n",
    "        if y > -8.8\n",
    "        # -9.331 - for 12/12/22 case study\n",
    "        # -8.8 - for 12/31/22 case study\n",
    "    ])\n",
    "\n",
    "    # Unrotate so we are back in the original coordinate system.\n",
    "    points_ground_filter_unrotated = []\n",
    "    for i, [x, y, z] in enumerate(points_ground_filter):\n",
    "        x_ = x*np.cos( - theta) + y*np.sin( - theta)\n",
    "        y_ = -x*np.sin( - theta) + y*np.cos( - theta)\n",
    "        points_ground_filter_unrotated.append(np.array([x_, y_, z]))\n",
    "    points_ground_filter_unrotated = np.array(points_ground_filter_unrotated)\n",
    "\n",
    "    pts_df = pd.DataFrame(points_ground_filter_unrotated).rename(columns = {\n",
    "        0: 'x',\n",
    "        1: 'y',\n",
    "        2: 'z',\n",
    "    })\n",
    "    pts_df['file'] = fp\n",
    "    pts_df['date_str'] = fp.split('/')[-1].replace('.lvx', '')\n",
    "    return pts_df"
   ]
  },
  {
   "cell_type": "markdown",
   "metadata": {},
   "source": [
    "for two case studies, open all lidar files and filter the points we want"
   ]
  },
  {
   "cell_type": "code",
   "execution_count": 85,
   "metadata": {},
   "outputs": [
    {
     "name": "stderr",
     "output_type": "stream",
     "text": [
      "  0%|          | 0/60 [00:00<?, ?it/s]"
     ]
    },
    {
     "name": "stderr",
     "output_type": "stream",
     "text": [
      "100%|██████████| 60/60 [00:26<00:00,  2.25it/s]\n"
     ]
    }
   ],
   "source": [
    "PARALLELISM = 8\n",
    "\n",
    "###### BLOWING SNOW CASE STUDY ######\n",
    "# Dec. 12 1200 - Dec. 13 2300\n",
    "FILE_LIST_1 = glob.glob(\"/Users/elischwat/Development/data/sublimationofsnow/lidar_raw/l1/2022-12-12/*.lvx\") +\\\n",
    "    glob.glob(\"/Users/elischwat/Development/data/sublimationofsnow/lidar_raw/l1/2022-12-13/*.lvx\") + \\\n",
    "    glob.glob(\"/Users/elischwat/Development/data/sublimationofsnow/lidar_raw/l1/2022-12-14/*.lvx\")\n",
    "FILE_LIST_1 = sorted([f for f in FILE_LIST_1 if \"05-17.lvx\" in f or \"05-16.lvx\" in f or \"05-15.lvx\" in f])\n",
    "FILE_LIST_1 = FILE_LIST_1[0+12+7:36+12+7]\n",
    "\n",
    "###### SNOWFALL CASE STUDY ######\n",
    "# Dec. 31 0000-2400\n",
    "FILE_LIST_2 = glob.glob(\"/Users/elischwat/Development/data/sublimationofsnow/lidar_raw/l1/2022-12-31/*.lvx\") +\\\n",
    "glob.glob(\"/Users/elischwat/Development/data/sublimationofsnow/lidar_raw/l1/2023-01-01/*.lvx\")\n",
    "FILE_LIST_2 = sorted([f for f in FILE_LIST_2 if \"05-17.lvx\" in f or \"05-16.lvx\" in f or \"05-15.lvx\" in f])\n",
    "FILE_LIST_2 = FILE_LIST_2[0+7:24+7]\n",
    "\n",
    "ALL_FILES = FILE_LIST_1 + FILE_LIST_2\n",
    "df_list =  Parallel(n_jobs = PARALLELISM)(\n",
    "        delayed(get_filtered_points)(fp) \n",
    "        for fp in tqdm(ALL_FILES)\n",
    "    )\n",
    "pts_df = pd.concat(df_list)\n",
    "pts_df['time'] = pd.to_datetime(pts_df['date_str'], format='%Y-%m-%d_%H-%M-%S')\n",
    "pts_df['time utc'] = pts_df['time']\n",
    "pts_df = utils.modify_df_timezone(pts_df, 'UTC', 'US/Mountain')\n",
    "pts_df.time = pts_df.time.apply(lambda dt: dt.replace(second=0))\n",
    "pts_df['date_str_local'] = pts_df['time'].dt.strftime('%Y-%m-%d_%H-%M-%S')\n",
    "\n",
    "pts_df = pts_df.reset_index(drop=True)"
   ]
  },
  {
   "cell_type": "markdown",
   "metadata": {},
   "source": [
    "For two case studies, open up kettle ponds data"
   ]
  },
  {
   "cell_type": "code",
   "execution_count": 86,
   "metadata": {},
   "outputs": [],
   "source": [
    "sos_base_path = \"/Users/elischwat/Development/data/sublimationofsnow/sosqc/sos_qc_geo_tiltcor_v20240307/\"\n",
    "sos_df_1 = xr.concat([\n",
    "    xr.open_dataset(os.path.join(sos_base_path, \"isfs_sos_qc_geo_tiltcor_5min_20221212.nc\")),\n",
    "    xr.open_dataset(os.path.join(sos_base_path, \"isfs_sos_qc_geo_tiltcor_5min_20221213.nc\")),\n",
    "    xr.open_dataset(os.path.join(sos_base_path, \"isfs_sos_qc_geo_tiltcor_5min_20221214.nc\")),\n",
    "], dim='time')[['SF_avg_1m_ue', 'SF_avg_2m_ue']].to_dataframe().reset_index()\n",
    "sos_df_1 = utils.modify_df_timezone(sos_df_1, 'UTC', 'US/Mountain')\n",
    "sos_df_1.time = sos_df_1.time - dt.timedelta(minutes = 2, seconds = 30)\n",
    "# isolate dates to Dec. 12 1200 – Dec 13 2300\n",
    "sos_df_1 = sos_df_1[\n",
    "    (sos_df_1.time >= \"2022-12-12 1200\") &\n",
    "    (sos_df_1.time <= \"2022-12-13 2355\")\n",
    "]\n",
    "\n",
    "sos_df_2 = xr.concat([\n",
    "    xr.open_dataset(os.path.join(sos_base_path, \"isfs_sos_qc_geo_tiltcor_5min_20221231.nc\")),\n",
    "    xr.open_dataset(os.path.join(sos_base_path, \"isfs_sos_qc_geo_tiltcor_5min_20230101.nc\")),\n",
    "], dim='time')[['SF_avg_1m_ue', 'SF_avg_2m_ue']].to_dataframe().reset_index()\n",
    "sos_df_2 = utils.modify_df_timezone(sos_df_2, 'UTC', 'US/Mountain')\n",
    "sos_df_2.time = sos_df_2.time - dt.timedelta(minutes = 2, seconds = 30)\n",
    "# isolate dates to Dec. 31 0000-2400\n",
    "sos_df_2 = sos_df_2[\n",
    "    (sos_df_2.time >= \"2022-12-31 0000\") &\n",
    "    (sos_df_2.time <= \"2022-12-31 2355\")\n",
    "]\n",
    "\n",
    "# combine datasets\n",
    "sos_df = pd.concat([sos_df_1, sos_df_2])"
   ]
  },
  {
   "cell_type": "code",
   "execution_count": 87,
   "metadata": {},
   "outputs": [],
   "source": [
    "sos_df['is_blowing_snow'] = (sos_df['SF_avg_1m_ue'] > 0) | (sos_df['SF_avg_2m_ue'] > 0)\n",
    "sos_df['is_high_blowing_snow'] = (sos_df['SF_avg_1m_ue'] > 0.25) | (sos_df['SF_avg_2m_ue'] > 0.25)"
   ]
  },
  {
   "cell_type": "markdown",
   "metadata": {},
   "source": [
    "Calculate KDE for each timestamp"
   ]
  },
  {
   "cell_type": "code",
   "execution_count": 88,
   "metadata": {},
   "outputs": [],
   "source": [
    "from scipy.stats import gaussian_kde"
   ]
  },
  {
   "cell_type": "code",
   "execution_count": 89,
   "metadata": {},
   "outputs": [],
   "source": [
    "xs = np.linspace(0,20)\n",
    "pts_df_filtered = pts_df.groupby(['time', 'date_str_local']).filter(lambda df: len(df) > 10)\n",
    "kde_df = pd.DataFrame(\n",
    "    pts_df_filtered.groupby(['time', 'date_str_local'])['x'].apply(lambda x_series: gaussian_kde(x_series)(xs))\n",
    ").rename(columns={'x': 'kde'})\n",
    "kde_df['x'] = kde_df.apply(lambda x: xs, axis=1)\n",
    "kde_df = kde_df.explode(column=['kde', 'x']).reset_index()\n",
    "kde_df = kde_df.merge(\n",
    "    sos_df[['time', 'is_blowing_snow', 'is_high_blowing_snow']],\n",
    "    on='time',\n",
    "    how='left'\n",
    ")"
   ]
  },
  {
   "cell_type": "code",
   "execution_count": 91,
   "metadata": {},
   "outputs": [],
   "source": [
    "kde_df['case_study'] = kde_df.time < \"2022-12-15\"\n",
    "kde_df['case_study'] = kde_df['case_study'].apply(lambda early: 1 if early else)"
   ]
  },
  {
   "cell_type": "code",
   "execution_count": 104,
   "metadata": {},
   "outputs": [
    {
     "data": {
      "text/html": [
       "\n",
       "<style>\n",
       "  #altair-viz-374f7ec3adca4aa5a7435ab4b7615445.vega-embed {\n",
       "    width: 100%;\n",
       "    display: flex;\n",
       "  }\n",
       "\n",
       "  #altair-viz-374f7ec3adca4aa5a7435ab4b7615445.vega-embed details,\n",
       "  #altair-viz-374f7ec3adca4aa5a7435ab4b7615445.vega-embed details summary {\n",
       "    position: relative;\n",
       "  }\n",
       "</style>\n",
       "<div id=\"altair-viz-374f7ec3adca4aa5a7435ab4b7615445\"></div>\n",
       "<script type=\"text/javascript\">\n",
       "  var VEGA_DEBUG = (typeof VEGA_DEBUG == \"undefined\") ? {} : VEGA_DEBUG;\n",
       "  (function(spec, embedOpt){\n",
       "    let outputDiv = document.currentScript.previousElementSibling;\n",
       "    if (outputDiv.id !== \"altair-viz-374f7ec3adca4aa5a7435ab4b7615445\") {\n",
       "      outputDiv = document.getElementById(\"altair-viz-374f7ec3adca4aa5a7435ab4b7615445\");\n",
       "    }\n",
       "    const paths = {\n",
       "      \"vega\": \"https://cdn.jsdelivr.net/npm/vega@5?noext\",\n",
       "      \"vega-lib\": \"https://cdn.jsdelivr.net/npm/vega-lib?noext\",\n",
       "      \"vega-lite\": \"https://cdn.jsdelivr.net/npm/vega-lite@5.17.0?noext\",\n",
       "      \"vega-embed\": \"https://cdn.jsdelivr.net/npm/vega-embed@6?noext\",\n",
       "    };\n",
       "\n",
       "    function maybeLoadScript(lib, version) {\n",
       "      var key = `${lib.replace(\"-\", \"\")}_version`;\n",
       "      return (VEGA_DEBUG[key] == version) ?\n",
       "        Promise.resolve(paths[lib]) :\n",
       "        new Promise(function(resolve, reject) {\n",
       "          var s = document.createElement('script');\n",
       "          document.getElementsByTagName(\"head\")[0].appendChild(s);\n",
       "          s.async = true;\n",
       "          s.onload = () => {\n",
       "            VEGA_DEBUG[key] = version;\n",
       "            return resolve(paths[lib]);\n",
       "          };\n",
       "          s.onerror = () => reject(`Error loading script: ${paths[lib]}`);\n",
       "          s.src = paths[lib];\n",
       "        });\n",
       "    }\n",
       "\n",
       "    function showError(err) {\n",
       "      outputDiv.innerHTML = `<div class=\"error\" style=\"color:red;\">${err}</div>`;\n",
       "      throw err;\n",
       "    }\n",
       "\n",
       "    function displayChart(vegaEmbed) {\n",
       "      vegaEmbed(outputDiv, spec, embedOpt)\n",
       "        .catch(err => showError(`Javascript Error: ${err.message}<br>This usually means there's a typo in your chart specification. See the javascript console for the full traceback.`));\n",
       "    }\n",
       "\n",
       "    if(typeof define === \"function\" && define.amd) {\n",
       "      requirejs.config({paths});\n",
       "      require([\"vega-embed\"], displayChart, err => showError(`Error loading script: ${err.message}`));\n",
       "    } else {\n",
       "      maybeLoadScript(\"vega\", \"5\")\n",
       "        .then(() => maybeLoadScript(\"vega-lite\", \"5.17.0\"))\n",
       "        .then(() => maybeLoadScript(\"vega-embed\", \"6\"))\n",
       "        .catch(showError)\n",
       "        .then(() => displayChart(vegaEmbed));\n",
       "    }\n",
       "  })({\"config\": {\"view\": {\"continuousWidth\": 300, \"continuousHeight\": 300}, \"legend\": {\"columns\": 2, \"symbolLimit\": 100}}, \"vconcat\": [{\"data\": {\"url\": \"altair-data-0bbbe5d81b880c1cdeab08ad6a671952.json\", \"format\": {\"type\": \"json\"}}, \"mark\": {\"type\": \"line\"}, \"encoding\": {\"color\": {\"field\": \"date_str_local\", \"scale\": {\"scheme\": \"turbo\"}, \"type\": \"ordinal\"}, \"facet\": {\"field\": \"is_blowing_snow\", \"title\": \"FlowCapt blowing snow flux > 0.0\", \"type\": \"nominal\"}, \"tooltip\": {\"field\": \"date_str_local\", \"type\": \"nominal\"}, \"x\": {\"field\": \"x\", \"title\": \"distance from lidar along central axis (m)\", \"type\": \"quantitative\"}, \"y\": {\"field\": \"kde\", \"title\": \"KDE of point count\", \"type\": \"quantitative\"}}, \"height\": 200, \"title\": \"Blowing snow case study, Dec 12 1200 - Dec 13 2300\", \"width\": 200}, {\"data\": {\"url\": \"altair-data-bd2313f9e648abbde86cc17e3df93dc6.json\", \"format\": {\"type\": \"json\"}}, \"mark\": {\"type\": \"line\"}, \"encoding\": {\"color\": {\"field\": \"date_str_local\", \"scale\": {\"scheme\": \"turbo\"}, \"type\": \"ordinal\"}, \"facet\": {\"field\": \"is_blowing_snow\", \"title\": \"FlowCapt blowing snow flux > 0.0\", \"type\": \"nominal\"}, \"tooltip\": {\"field\": \"date_str_local\", \"type\": \"nominal\"}, \"x\": {\"field\": \"x\", \"title\": \"distance from lidar along central axis (m)\", \"type\": \"quantitative\"}, \"y\": {\"field\": \"kde\", \"title\": \"KDE of point count\", \"type\": \"quantitative\"}}, \"height\": 200, \"title\": \"Snowfall case study, Dec 31 0000 - 2300\", \"width\": 200}], \"resolve\": {\"scale\": {\"color\": \"independent\"}}, \"$schema\": \"https://vega.github.io/schema/vega-lite/v5.17.0.json\"}, {\"renderer\": \"svg\", \"mode\": \"vega-lite\"});\n",
       "</script>"
      ],
      "text/plain": [
       "alt.VConcatChart(...)"
      ]
     },
     "metadata": {},
     "output_type": "display_data"
    }
   ],
   "source": [
    "(    \n",
    "    alt.Chart(\n",
    "        kde_df[kde_df.time < \"2022-12-15\"]    \n",
    "    ).mark_line().encode(\n",
    "        x=alt.X(\"x:Q\").title(\"distance from lidar along central axis (m)\"),\n",
    "        y=alt.Y('kde:Q').title(\"KDE of point count\"),\n",
    "        color=alt.Color('date_str_local:O').scale(scheme='turbo'),\n",
    "        facet=alt.Facet(\"is_blowing_snow:N\").title(\"FlowCapt blowing snow flux > 0.0\"),\n",
    "        tooltip = 'date_str_local'\n",
    "    ).properties(width = 200, height = 200, title='Blowing snow case study, Dec 12 1200 - Dec 13 2300')\n",
    "    &\n",
    "    alt.Chart(\n",
    "        kde_df[kde_df.time > \"2022-12-15\"]    \n",
    "    ).mark_line().encode(\n",
    "        x=alt.X(\"x:Q\").title(\"distance from lidar along central axis (m)\"),\n",
    "        y=alt.Y('kde:Q').title(\"KDE of point count\"),\n",
    "        color=alt.Color('date_str_local:O').scale(scheme='turbo'),\n",
    "        facet=alt.Facet(\"is_blowing_snow:N\").title(\"FlowCapt blowing snow flux > 0.0\"),\n",
    "        tooltip = 'date_str_local'\n",
    "    ).properties(width = 200, height = 200, title='Snowfall case study, Dec 31 0000 - 2300')\n",
    ").resolve_scale(color='independent').configure_legend(columns=2, symbolLimit=100).display(renderer='svg')"
   ]
  },
  {
   "cell_type": "code",
   "execution_count": null,
   "metadata": {},
   "outputs": [],
   "source": []
  }
 ],
 "metadata": {
  "kernelspec": {
   "display_name": "sublimationofsnow",
   "language": "python",
   "name": "python3"
  },
  "language_info": {
   "codemirror_mode": {
    "name": "ipython",
    "version": 3
   },
   "file_extension": ".py",
   "mimetype": "text/x-python",
   "name": "python",
   "nbconvert_exporter": "python",
   "pygments_lexer": "ipython3",
   "version": "3.12.1"
  }
 },
 "nbformat": 4,
 "nbformat_minor": 2
}
