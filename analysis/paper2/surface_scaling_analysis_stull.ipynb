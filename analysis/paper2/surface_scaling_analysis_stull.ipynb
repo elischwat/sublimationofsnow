{
 "cells": [
  {
   "cell_type": "code",
   "execution_count": 1,
   "metadata": {},
   "outputs": [],
   "source": [
    "import os\n",
    "import glob\n",
    "import datetime as dt\n",
    "import numpy as np\n",
    "import xarray as xr\n",
    "import pandas as pd\n",
    "from sublimpy import utils, extrautils\n",
    "import matplotlib.pyplot as plt\n",
    "import altair as alt\n",
    "alt.data_transformers.enable('json')\n",
    "import act\n",
    "import swifter"
   ]
  },
  {
   "cell_type": "markdown",
   "metadata": {},
   "source": [
    "Open tidy dataset"
   ]
  },
  {
   "cell_type": "code",
   "execution_count": 2,
   "metadata": {},
   "outputs": [
    {
     "data": {
      "text/plain": [
       "(Timestamp('2022-11-30 00:30:00'), Timestamp('2023-05-08 23:30:00'))"
      ]
     },
     "execution_count": 2,
     "metadata": {},
     "output_type": "execute_result"
    }
   ],
   "source": [
    "sos_tidy_fn = f\"../paper1/process_slow_data/tidy_df_20221101_20230619_planar_fit_multiplane_q7_flags360_pf10.parquet\"\n",
    "tidy_df = pd.read_parquet(sos_tidy_fn)\n",
    "# Convert data timezone to local and clean up data on the ends\n",
    "# convert time column to datetime\n",
    "tidy_df['time'] = pd.to_datetime(tidy_df['time'])\n",
    "tidy_df = utils.modify_df_timezone(tidy_df, 'UTC', 'US/Mountain')\n",
    "# tidy_df = tidy_df[tidy_df.time > '20230301']\n",
    "tidy_df = tidy_df[tidy_df.time > '20221130']\n",
    "tidy_df = tidy_df[tidy_df.time < '20230509']\n",
    "tidy_df.time.min(), tidy_df.time.max()"
   ]
  },
  {
   "cell_type": "markdown",
   "metadata": {},
   "source": [
    "classify synoptic winds"
   ]
  },
  {
   "cell_type": "code",
   "execution_count": 3,
   "metadata": {},
   "outputs": [],
   "source": [
    "USERNAME = os.getenv(\"ARM_USERNAME\")\n",
    "TOKEN = os.getenv(\"ARM_TOKEN\")\n",
    "SAIL_DATA_STREAM = 'gucdlprofwind4newsM1.c1'\n",
    "DATA_STREAM_FILEEXT = '.nc'\n",
    "startdate = \"2022-11-30\"\n",
    "enddate = \"2023-06-20\"\n",
    "output_dir = os.path.join(\"/Users/elischwat/Development/data/sublimationofsnow/\", SAIL_DATA_STREAM)\n"
   ]
  },
  {
   "cell_type": "code",
   "execution_count": 4,
   "metadata": {},
   "outputs": [],
   "source": [
    "# act.discovery.download_arm_data(USERNAME, TOKEN, SAIL_DATA_STREAM, startdate, enddate, output=output_dir)"
   ]
  },
  {
   "cell_type": "code",
   "execution_count": 5,
   "metadata": {},
   "outputs": [],
   "source": [
    "dl_w_prof_files = glob.glob(\"/Users/elischwat/Development/data/sublimationofsnow/gucdlprofwind4newsM1.c1/*.nc\")"
   ]
  },
  {
   "cell_type": "code",
   "execution_count": 6,
   "metadata": {},
   "outputs": [
    {
     "data": {
      "text/plain": [
       "(<xarray.DataArray 'time' ()> Size: 8B\n",
       " array('2022-11-30T00:00:39.646250000', dtype='datetime64[ns]'),\n",
       " <xarray.DataArray 'time' ()> Size: 8B\n",
       " array('2023-06-15T23:59:20.789108000', dtype='datetime64[ns]'))"
      ]
     },
     "execution_count": 6,
     "metadata": {},
     "output_type": "execute_result"
    }
   ],
   "source": [
    "prof_ds = act.io.read_arm_netcdf(dl_w_prof_files)\n",
    "prof_ds.time.min(), prof_ds.time.max()"
   ]
  },
  {
   "cell_type": "code",
   "execution_count": 7,
   "metadata": {},
   "outputs": [],
   "source": [
    "prof_df = prof_ds.to_dataframe()\n",
    "prof_df = utils.modify_df_timezone(prof_df.reset_index(), 'UTC', 'US/Mountain').set_index('time')"
   ]
  },
  {
   "cell_type": "code",
   "execution_count": 8,
   "metadata": {},
   "outputs": [],
   "source": [
    "hourly_mean_prof_df = prof_df.query(\"height > 950\").query(\"height < 1100\")[['wind_speed', 'wind_direction']].reset_index().set_index('time').groupby(pd.Grouper(freq='60min')).mean()"
   ]
  },
  {
   "cell_type": "code",
   "execution_count": 9,
   "metadata": {},
   "outputs": [],
   "source": [
    "synoptic_winds_30min = hourly_mean_prof_df.resample('30min').mean().ffill()\n",
    "along_valley_wind_times = synoptic_winds_30min[\n",
    "    (synoptic_winds_30min.wind_direction > 299)\n",
    "    & (synoptic_winds_30min.wind_direction < 345 )\n",
    "].index.values\n",
    "cross_valley_wind_times = synoptic_winds_30min[\n",
    "    (synoptic_winds_30min.wind_direction > 202)\n",
    "    & (synoptic_winds_30min.wind_direction < 248 )\n",
    "].index.values"
   ]
  },
  {
   "cell_type": "code",
   "execution_count": 10,
   "metadata": {},
   "outputs": [
    {
     "data": {
      "text/html": [
       "<div>\n",
       "<style scoped>\n",
       "    .dataframe tbody tr th:only-of-type {\n",
       "        vertical-align: middle;\n",
       "    }\n",
       "\n",
       "    .dataframe tbody tr th {\n",
       "        vertical-align: top;\n",
       "    }\n",
       "\n",
       "    .dataframe thead th {\n",
       "        text-align: right;\n",
       "    }\n",
       "</style>\n",
       "<table border=\"1\" class=\"dataframe\">\n",
       "  <thead>\n",
       "    <tr style=\"text-align: right;\">\n",
       "      <th></th>\n",
       "      <th>category</th>\n",
       "    </tr>\n",
       "    <tr>\n",
       "      <th>time</th>\n",
       "      <th></th>\n",
       "    </tr>\n",
       "  </thead>\n",
       "  <tbody>\n",
       "    <tr>\n",
       "      <th>2022-12-01 17:00:00</th>\n",
       "      <td>cross-valley</td>\n",
       "    </tr>\n",
       "    <tr>\n",
       "      <th>2022-12-01 17:30:00</th>\n",
       "      <td>cross-valley</td>\n",
       "    </tr>\n",
       "    <tr>\n",
       "      <th>2022-12-01 18:00:00</th>\n",
       "      <td>cross-valley</td>\n",
       "    </tr>\n",
       "    <tr>\n",
       "      <th>2022-12-01 18:30:00</th>\n",
       "      <td>cross-valley</td>\n",
       "    </tr>\n",
       "    <tr>\n",
       "      <th>2022-12-01 19:00:00</th>\n",
       "      <td>cross-valley</td>\n",
       "    </tr>\n",
       "    <tr>\n",
       "      <th>...</th>\n",
       "      <td>...</td>\n",
       "    </tr>\n",
       "    <tr>\n",
       "      <th>2023-06-15 10:30:00</th>\n",
       "      <td>cross-valley</td>\n",
       "    </tr>\n",
       "    <tr>\n",
       "      <th>2023-06-15 13:00:00</th>\n",
       "      <td>cross-valley</td>\n",
       "    </tr>\n",
       "    <tr>\n",
       "      <th>2023-06-15 13:30:00</th>\n",
       "      <td>cross-valley</td>\n",
       "    </tr>\n",
       "    <tr>\n",
       "      <th>2023-06-15 15:00:00</th>\n",
       "      <td>cross-valley</td>\n",
       "    </tr>\n",
       "    <tr>\n",
       "      <th>2023-06-15 15:30:00</th>\n",
       "      <td>cross-valley</td>\n",
       "    </tr>\n",
       "  </tbody>\n",
       "</table>\n",
       "<p>2172 rows × 1 columns</p>\n",
       "</div>"
      ],
      "text/plain": [
       "                         category\n",
       "time                             \n",
       "2022-12-01 17:00:00  cross-valley\n",
       "2022-12-01 17:30:00  cross-valley\n",
       "2022-12-01 18:00:00  cross-valley\n",
       "2022-12-01 18:30:00  cross-valley\n",
       "2022-12-01 19:00:00  cross-valley\n",
       "...                           ...\n",
       "2023-06-15 10:30:00  cross-valley\n",
       "2023-06-15 13:00:00  cross-valley\n",
       "2023-06-15 13:30:00  cross-valley\n",
       "2023-06-15 15:00:00  cross-valley\n",
       "2023-06-15 15:30:00  cross-valley\n",
       "\n",
       "[2172 rows x 1 columns]"
      ]
     },
     "execution_count": 10,
     "metadata": {},
     "output_type": "execute_result"
    }
   ],
   "source": [
    "along_valley_wind_times = pd.DataFrame(along_valley_wind_times).set_index(0)\n",
    "along_valley_wind_times.index.name = 'time'\n",
    "along_valley_wind_times = along_valley_wind_times.assign(category = 'along-valley')\n",
    "cross_valley_wind_times = pd.DataFrame(cross_valley_wind_times).set_index(0)\n",
    "cross_valley_wind_times.index.name = 'time'\n",
    "cross_valley_wind_times = cross_valley_wind_times.assign(category = 'cross-valley')\n",
    "\n",
    "cross_valley_wind_times"
   ]
  },
  {
   "cell_type": "code",
   "execution_count": 11,
   "metadata": {},
   "outputs": [],
   "source": [
    "synoptic_winds_pdf_data = pd.concat([\n",
    "        synoptic_winds_30min[synoptic_winds_30min.index.isin(cross_valley_wind_times.index)].assign(synoptic_wind = 'cross valley'),\n",
    "        synoptic_winds_30min[synoptic_winds_30min.index.isin(along_valley_wind_times.index)].assign(synoptic_wind = 'along valley')\n",
    "    ])"
   ]
  },
  {
   "cell_type": "code",
   "execution_count": 12,
   "metadata": {},
   "outputs": [],
   "source": [
    "fast_synoptic_wind_times = synoptic_winds_pdf_data.query(\"wind_speed <= 10\").assign(synoptic_wind_speed = '<= 10 m/s')[['synoptic_wind_speed']]\n",
    "slow_synoptic_wind_times = synoptic_winds_pdf_data.query(\"wind_speed > 10\").assign(synoptic_wind_speed = '> 10 m/s')[['synoptic_wind_speed']]"
   ]
  },
  {
   "cell_type": "markdown",
   "metadata": {},
   "source": [
    "# Scaling, following Stull"
   ]
  },
  {
   "cell_type": "code",
   "execution_count": 13,
   "metadata": {},
   "outputs": [],
   "source": [
    "scale_df = pd.DataFrame()\n",
    "for H in [2,3,5,10,15,20]:\n",
    "    src = tidy_df[tidy_df.variable.isin([\n",
    "        f\"w_w__{H}m_c\",\n",
    "        f\"u*_{H}m_c\",\n",
    "    ])].pivot_table(index='time', columns='variable', values='value')\n",
    "    src[f'scale'] = (\n",
    "        src[f'w_w__{H}m_c'] / src[f'u*_{H}m_c']**2\n",
    "    )\n",
    "    src[f'height'] = H\n",
    "    scale_df = pd.concat([scale_df, src[['height', 'scale']]])"
   ]
  },
  {
   "cell_type": "code",
   "execution_count": 14,
   "metadata": {},
   "outputs": [],
   "source": [
    "scale_df = pd.concat([\n",
    "    scale_df.join(along_valley_wind_times, how='inner'),\n",
    "    scale_df.join(cross_valley_wind_times, how='inner')\n",
    "])\n",
    "scale_df = pd.concat([\n",
    "    scale_df.join(fast_synoptic_wind_times, how='inner'),\n",
    "    scale_df.join(slow_synoptic_wind_times, how='inner')\n",
    "])"
   ]
  },
  {
   "cell_type": "code",
   "execution_count": 15,
   "metadata": {},
   "outputs": [
    {
     "data": {
      "text/html": [
       "\n",
       "<style>\n",
       "  #altair-viz-f3b1b77842a741faad28415a6ec73ca1.vega-embed {\n",
       "    width: 100%;\n",
       "    display: flex;\n",
       "  }\n",
       "\n",
       "  #altair-viz-f3b1b77842a741faad28415a6ec73ca1.vega-embed details,\n",
       "  #altair-viz-f3b1b77842a741faad28415a6ec73ca1.vega-embed details summary {\n",
       "    position: relative;\n",
       "  }\n",
       "</style>\n",
       "<div id=\"altair-viz-f3b1b77842a741faad28415a6ec73ca1\"></div>\n",
       "<script type=\"text/javascript\">\n",
       "  var VEGA_DEBUG = (typeof VEGA_DEBUG == \"undefined\") ? {} : VEGA_DEBUG;\n",
       "  (function(spec, embedOpt){\n",
       "    let outputDiv = document.currentScript.previousElementSibling;\n",
       "    if (outputDiv.id !== \"altair-viz-f3b1b77842a741faad28415a6ec73ca1\") {\n",
       "      outputDiv = document.getElementById(\"altair-viz-f3b1b77842a741faad28415a6ec73ca1\");\n",
       "    }\n",
       "    const paths = {\n",
       "      \"vega\": \"https://cdn.jsdelivr.net/npm/vega@5?noext\",\n",
       "      \"vega-lib\": \"https://cdn.jsdelivr.net/npm/vega-lib?noext\",\n",
       "      \"vega-lite\": \"https://cdn.jsdelivr.net/npm/vega-lite@5.20.1?noext\",\n",
       "      \"vega-embed\": \"https://cdn.jsdelivr.net/npm/vega-embed@6?noext\",\n",
       "    };\n",
       "\n",
       "    function maybeLoadScript(lib, version) {\n",
       "      var key = `${lib.replace(\"-\", \"\")}_version`;\n",
       "      return (VEGA_DEBUG[key] == version) ?\n",
       "        Promise.resolve(paths[lib]) :\n",
       "        new Promise(function(resolve, reject) {\n",
       "          var s = document.createElement('script');\n",
       "          document.getElementsByTagName(\"head\")[0].appendChild(s);\n",
       "          s.async = true;\n",
       "          s.onload = () => {\n",
       "            VEGA_DEBUG[key] = version;\n",
       "            return resolve(paths[lib]);\n",
       "          };\n",
       "          s.onerror = () => reject(`Error loading script: ${paths[lib]}`);\n",
       "          s.src = paths[lib];\n",
       "        });\n",
       "    }\n",
       "\n",
       "    function showError(err) {\n",
       "      outputDiv.innerHTML = `<div class=\"error\" style=\"color:red;\">${err}</div>`;\n",
       "      throw err;\n",
       "    }\n",
       "\n",
       "    function displayChart(vegaEmbed) {\n",
       "      vegaEmbed(outputDiv, spec, embedOpt)\n",
       "        .catch(err => showError(`Javascript Error: ${err.message}<br>This usually means there's a typo in your chart specification. See the javascript console for the full traceback.`));\n",
       "    }\n",
       "\n",
       "    if(typeof define === \"function\" && define.amd) {\n",
       "      requirejs.config({paths});\n",
       "      require([\"vega-embed\"], displayChart, err => showError(`Error loading script: ${err.message}`));\n",
       "    } else {\n",
       "      maybeLoadScript(\"vega\", \"5\")\n",
       "        .then(() => maybeLoadScript(\"vega-lite\", \"5.20.1\"))\n",
       "        .then(() => maybeLoadScript(\"vega-embed\", \"6\"))\n",
       "        .catch(showError)\n",
       "        .then(() => displayChart(vegaEmbed));\n",
       "    }\n",
       "  })({\"config\": {\"view\": {\"continuousWidth\": 300, \"continuousHeight\": 300}}, \"data\": {\"url\": \"altair-data-311ba8d5c27bb4006b6c45a0ef4ae473.json\", \"format\": {\"type\": \"json\"}}, \"facet\": {\"column\": {\"field\": \"synoptic_wind_speed\", \"title\": \"Synoptic Wind Speed\", \"type\": \"nominal\"}}, \"spec\": {\"layer\": [{\"mark\": {\"type\": \"circle\", \"color\": \"#1f77b4\", \"size\": 150}, \"encoding\": {\"color\": {\"field\": \"height\", \"type\": \"ordinal\"}, \"x\": {\"axis\": {\"labelAngle\": 30}, \"field\": \"category\", \"title\": null, \"type\": \"nominal\"}, \"xOffset\": {\"field\": \"height\", \"type\": \"ordinal\"}, \"y\": {\"aggregate\": \"median\", \"field\": \"scale\", \"title\": \"w'w' / u*\", \"type\": \"quantitative\"}}}, {\"mark\": {\"type\": \"line\", \"color\": \"#1f77b4\", \"strokeWidth\": 2}, \"encoding\": {\"color\": {\"field\": \"height\", \"type\": \"ordinal\"}, \"x\": {\"field\": \"category\", \"type\": \"nominal\"}, \"xOffset\": {\"field\": \"height\", \"type\": \"ordinal\"}, \"y\": {\"aggregate\": \"q1\", \"field\": \"scale\", \"type\": \"quantitative\"}, \"y2\": {\"aggregate\": \"q3\", \"field\": \"scale\"}}}, {\"mark\": {\"type\": \"rule\", \"color\": \"black\"}, \"encoding\": {\"y\": {\"field\": \"y\", \"type\": \"quantitative\"}}, \"transform\": [{\"calculate\": \"2.5\", \"as\": \"y\"}]}, {\"mark\": {\"type\": \"rule\", \"color\": \"black\"}, \"encoding\": {\"y\": {\"field\": \"y\", \"type\": \"quantitative\"}}, \"transform\": [{\"calculate\": \"1.7\", \"as\": \"y\"}]}], \"transform\": [{\"filter\": \"(datum.height === 5)\"}]}, \"$schema\": \"https://vega.github.io/schema/vega-lite/v5.20.1.json\"}, {\"mode\": \"vega-lite\"});\n",
       "</script>"
      ],
      "text/plain": [
       "alt.FacetChart(...)"
      ]
     },
     "execution_count": 15,
     "metadata": {},
     "output_type": "execute_result"
    }
   ],
   "source": [
    "alt.layer(\n",
    "        alt.Chart().mark_circle(size=150, color='#1f77b4').encode(\n",
    "            alt.Color('height:O'),\n",
    "            alt.X('category').axis(labelAngle=30).title(None),\n",
    "            alt.XOffset('height:O'),\n",
    "            alt.Y('median(scale):Q').title(\"w'w' / u*\"),\n",
    "        ),\n",
    "        alt.Chart().mark_line(color='#1f77b4', strokeWidth=2).encode(\n",
    "            alt.Color('height:O'),\n",
    "            alt.X('category'),\n",
    "            alt.XOffset('height:O'),\n",
    "            alt.Y('q1(scale)'),\n",
    "            alt.Y2('q3(scale):Q'),\n",
    "        ),\n",
    "        alt.Chart().transform_calculate(\n",
    "            y = '2.5'\n",
    "        ).mark_rule(color='black').encode(alt.Y('y:Q')),\n",
    "        alt.Chart().transform_calculate(\n",
    "            y = '1.7'\n",
    "        ).mark_rule(color='black').encode(alt.Y('y:Q')),\n",
    "        data = scale_df\n",
    ").transform_filter(alt.datum.height == 5).facet(column=alt.Column('synoptic_wind_speed:N', title = 'Synoptic Wind Speed'))"
   ]
  },
  {
   "cell_type": "code",
   "execution_count": 16,
   "metadata": {},
   "outputs": [
    {
     "data": {
      "text/html": [
       "\n",
       "<style>\n",
       "  #altair-viz-1885cebfc10c4df192c1a23968b9aad3.vega-embed {\n",
       "    width: 100%;\n",
       "    display: flex;\n",
       "  }\n",
       "\n",
       "  #altair-viz-1885cebfc10c4df192c1a23968b9aad3.vega-embed details,\n",
       "  #altair-viz-1885cebfc10c4df192c1a23968b9aad3.vega-embed details summary {\n",
       "    position: relative;\n",
       "  }\n",
       "</style>\n",
       "<div id=\"altair-viz-1885cebfc10c4df192c1a23968b9aad3\"></div>\n",
       "<script type=\"text/javascript\">\n",
       "  var VEGA_DEBUG = (typeof VEGA_DEBUG == \"undefined\") ? {} : VEGA_DEBUG;\n",
       "  (function(spec, embedOpt){\n",
       "    let outputDiv = document.currentScript.previousElementSibling;\n",
       "    if (outputDiv.id !== \"altair-viz-1885cebfc10c4df192c1a23968b9aad3\") {\n",
       "      outputDiv = document.getElementById(\"altair-viz-1885cebfc10c4df192c1a23968b9aad3\");\n",
       "    }\n",
       "    const paths = {\n",
       "      \"vega\": \"https://cdn.jsdelivr.net/npm/vega@5?noext\",\n",
       "      \"vega-lib\": \"https://cdn.jsdelivr.net/npm/vega-lib?noext\",\n",
       "      \"vega-lite\": \"https://cdn.jsdelivr.net/npm/vega-lite@5.20.1?noext\",\n",
       "      \"vega-embed\": \"https://cdn.jsdelivr.net/npm/vega-embed@6?noext\",\n",
       "    };\n",
       "\n",
       "    function maybeLoadScript(lib, version) {\n",
       "      var key = `${lib.replace(\"-\", \"\")}_version`;\n",
       "      return (VEGA_DEBUG[key] == version) ?\n",
       "        Promise.resolve(paths[lib]) :\n",
       "        new Promise(function(resolve, reject) {\n",
       "          var s = document.createElement('script');\n",
       "          document.getElementsByTagName(\"head\")[0].appendChild(s);\n",
       "          s.async = true;\n",
       "          s.onload = () => {\n",
       "            VEGA_DEBUG[key] = version;\n",
       "            return resolve(paths[lib]);\n",
       "          };\n",
       "          s.onerror = () => reject(`Error loading script: ${paths[lib]}`);\n",
       "          s.src = paths[lib];\n",
       "        });\n",
       "    }\n",
       "\n",
       "    function showError(err) {\n",
       "      outputDiv.innerHTML = `<div class=\"error\" style=\"color:red;\">${err}</div>`;\n",
       "      throw err;\n",
       "    }\n",
       "\n",
       "    function displayChart(vegaEmbed) {\n",
       "      vegaEmbed(outputDiv, spec, embedOpt)\n",
       "        .catch(err => showError(`Javascript Error: ${err.message}<br>This usually means there's a typo in your chart specification. See the javascript console for the full traceback.`));\n",
       "    }\n",
       "\n",
       "    if(typeof define === \"function\" && define.amd) {\n",
       "      requirejs.config({paths});\n",
       "      require([\"vega-embed\"], displayChart, err => showError(`Error loading script: ${err.message}`));\n",
       "    } else {\n",
       "      maybeLoadScript(\"vega\", \"5\")\n",
       "        .then(() => maybeLoadScript(\"vega-lite\", \"5.20.1\"))\n",
       "        .then(() => maybeLoadScript(\"vega-embed\", \"6\"))\n",
       "        .catch(showError)\n",
       "        .then(() => displayChart(vegaEmbed));\n",
       "    }\n",
       "  })({\"config\": {\"view\": {\"continuousWidth\": 300, \"continuousHeight\": 300}}, \"data\": {\"url\": \"altair-data-311ba8d5c27bb4006b6c45a0ef4ae473.json\", \"format\": {\"type\": \"json\"}}, \"facet\": {\"column\": {\"field\": \"synoptic_wind_speed\", \"title\": \"Synoptic Wind Speed\", \"type\": \"nominal\"}}, \"spec\": {\"layer\": [{\"mark\": {\"type\": \"circle\", \"color\": \"#1f77b4\", \"size\": 150}, \"encoding\": {\"color\": {\"field\": \"height\", \"type\": \"ordinal\"}, \"x\": {\"axis\": {\"labelAngle\": 30}, \"field\": \"category\", \"title\": null, \"type\": \"nominal\"}, \"xOffset\": {\"field\": \"height\", \"type\": \"ordinal\"}, \"y\": {\"aggregate\": \"median\", \"field\": \"scale\", \"title\": \"w'w' / u*\", \"type\": \"quantitative\"}}}, {\"mark\": {\"type\": \"line\", \"color\": \"#1f77b4\", \"strokeWidth\": 2}, \"encoding\": {\"color\": {\"field\": \"height\", \"type\": \"ordinal\"}, \"x\": {\"field\": \"category\", \"type\": \"nominal\"}, \"xOffset\": {\"field\": \"height\", \"type\": \"ordinal\"}, \"y\": {\"aggregate\": \"q1\", \"field\": \"scale\", \"type\": \"quantitative\"}, \"y2\": {\"aggregate\": \"q3\", \"field\": \"scale\"}}}, {\"mark\": {\"type\": \"rule\", \"color\": \"black\"}, \"encoding\": {\"y\": {\"field\": \"y\", \"type\": \"quantitative\"}}, \"transform\": [{\"calculate\": \"2.5\", \"as\": \"y\"}]}, {\"mark\": {\"type\": \"rule\", \"color\": \"black\"}, \"encoding\": {\"y\": {\"field\": \"y\", \"type\": \"quantitative\"}}, \"transform\": [{\"calculate\": \"1.7\", \"as\": \"y\"}]}]}, \"$schema\": \"https://vega.github.io/schema/vega-lite/v5.20.1.json\"}, {\"mode\": \"vega-lite\"});\n",
       "</script>"
      ],
      "text/plain": [
       "alt.FacetChart(...)"
      ]
     },
     "execution_count": 16,
     "metadata": {},
     "output_type": "execute_result"
    }
   ],
   "source": [
    "alt.layer(\n",
    "        alt.Chart().mark_circle(size=150, color='#1f77b4').encode(\n",
    "            alt.Color('height:O'),\n",
    "            alt.X('category').axis(labelAngle=30).title(None),\n",
    "            alt.XOffset('height:O'),\n",
    "            alt.Y('median(scale):Q').title(\"w'w' / u*\"),\n",
    "        ),\n",
    "        alt.Chart().mark_line(color='#1f77b4', strokeWidth=2).encode(\n",
    "            alt.Color('height:O'),\n",
    "            alt.X('category'),\n",
    "            alt.XOffset('height:O'),\n",
    "            alt.Y('q1(scale)'),\n",
    "            alt.Y2('q3(scale):Q'),\n",
    "        ),\n",
    "        alt.Chart().transform_calculate(\n",
    "            y = '2.5'\n",
    "        ).mark_rule(color='black').encode(alt.Y('y:Q')),\n",
    "        alt.Chart().transform_calculate(\n",
    "            y = '1.7'\n",
    "        ).mark_rule(color='black').encode(alt.Y('y:Q')),\n",
    "        data = scale_df\n",
    ").properties().facet(column=alt.Column('synoptic_wind_speed:N', title = 'Synoptic Wind Speed'))"
   ]
  },
  {
   "cell_type": "code",
   "execution_count": 24,
   "metadata": {},
   "outputs": [
    {
     "data": {
      "text/html": [
       "\n",
       "<style>\n",
       "  #altair-viz-47e101232fe44d1e9695ac12f965f2a4.vega-embed {\n",
       "    width: 100%;\n",
       "    display: flex;\n",
       "  }\n",
       "\n",
       "  #altair-viz-47e101232fe44d1e9695ac12f965f2a4.vega-embed details,\n",
       "  #altair-viz-47e101232fe44d1e9695ac12f965f2a4.vega-embed details summary {\n",
       "    position: relative;\n",
       "  }\n",
       "</style>\n",
       "<div id=\"altair-viz-47e101232fe44d1e9695ac12f965f2a4\"></div>\n",
       "<script type=\"text/javascript\">\n",
       "  var VEGA_DEBUG = (typeof VEGA_DEBUG == \"undefined\") ? {} : VEGA_DEBUG;\n",
       "  (function(spec, embedOpt){\n",
       "    let outputDiv = document.currentScript.previousElementSibling;\n",
       "    if (outputDiv.id !== \"altair-viz-47e101232fe44d1e9695ac12f965f2a4\") {\n",
       "      outputDiv = document.getElementById(\"altair-viz-47e101232fe44d1e9695ac12f965f2a4\");\n",
       "    }\n",
       "    const paths = {\n",
       "      \"vega\": \"https://cdn.jsdelivr.net/npm/vega@5?noext\",\n",
       "      \"vega-lib\": \"https://cdn.jsdelivr.net/npm/vega-lib?noext\",\n",
       "      \"vega-lite\": \"https://cdn.jsdelivr.net/npm/vega-lite@5.20.1?noext\",\n",
       "      \"vega-embed\": \"https://cdn.jsdelivr.net/npm/vega-embed@6?noext\",\n",
       "    };\n",
       "\n",
       "    function maybeLoadScript(lib, version) {\n",
       "      var key = `${lib.replace(\"-\", \"\")}_version`;\n",
       "      return (VEGA_DEBUG[key] == version) ?\n",
       "        Promise.resolve(paths[lib]) :\n",
       "        new Promise(function(resolve, reject) {\n",
       "          var s = document.createElement('script');\n",
       "          document.getElementsByTagName(\"head\")[0].appendChild(s);\n",
       "          s.async = true;\n",
       "          s.onload = () => {\n",
       "            VEGA_DEBUG[key] = version;\n",
       "            return resolve(paths[lib]);\n",
       "          };\n",
       "          s.onerror = () => reject(`Error loading script: ${paths[lib]}`);\n",
       "          s.src = paths[lib];\n",
       "        });\n",
       "    }\n",
       "\n",
       "    function showError(err) {\n",
       "      outputDiv.innerHTML = `<div class=\"error\" style=\"color:red;\">${err}</div>`;\n",
       "      throw err;\n",
       "    }\n",
       "\n",
       "    function displayChart(vegaEmbed) {\n",
       "      vegaEmbed(outputDiv, spec, embedOpt)\n",
       "        .catch(err => showError(`Javascript Error: ${err.message}<br>This usually means there's a typo in your chart specification. See the javascript console for the full traceback.`));\n",
       "    }\n",
       "\n",
       "    if(typeof define === \"function\" && define.amd) {\n",
       "      requirejs.config({paths});\n",
       "      require([\"vega-embed\"], displayChart, err => showError(`Error loading script: ${err.message}`));\n",
       "    } else {\n",
       "      maybeLoadScript(\"vega\", \"5\")\n",
       "        .then(() => maybeLoadScript(\"vega-lite\", \"5.20.1\"))\n",
       "        .then(() => maybeLoadScript(\"vega-embed\", \"6\"))\n",
       "        .catch(showError)\n",
       "        .then(() => displayChart(vegaEmbed));\n",
       "    }\n",
       "  })({\"config\": {\"view\": {\"continuousWidth\": 300, \"continuousHeight\": 300}}, \"data\": {\"url\": \"altair-data-34e8e4b03a957c3744030a0e3733e937.json\", \"format\": {\"type\": \"json\"}}, \"facet\": {\"column\": {\"field\": \"height\", \"title\": \"Height AGL (m)\", \"type\": \"ordinal\"}}, \"spec\": {\"layer\": [{\"mark\": {\"type\": \"point\", \"color\": \"#1f77b4\", \"size\": 150}, \"encoding\": {\"color\": {\"field\": \"category\", \"type\": \"nominal\"}, \"shape\": {\"field\": \"category\", \"type\": \"nominal\"}, \"x\": {\"field\": \"category\", \"type\": \"nominal\"}, \"y\": {\"aggregate\": \"median\", \"field\": \"scale\", \"title\": \"w'w' / u*\", \"type\": \"quantitative\"}}}, {\"mark\": {\"type\": \"line\", \"color\": \"#1f77b4\", \"strokeWidth\": 2}, \"encoding\": {\"color\": {\"field\": \"category\", \"type\": \"nominal\"}, \"detail\": {\"field\": \"category\", \"type\": \"nominal\"}, \"x\": {\"axis\": {\"values\": []}, \"field\": \"category\", \"title\": \"\", \"type\": \"nominal\"}, \"y\": {\"aggregate\": \"q1\", \"field\": \"scale\", \"type\": \"quantitative\"}, \"y2\": {\"aggregate\": \"q3\", \"field\": \"scale\"}}}, {\"mark\": {\"type\": \"rule\", \"color\": \"black\"}, \"encoding\": {\"y\": {\"field\": \"y\", \"type\": \"quantitative\"}}, \"transform\": [{\"calculate\": \"2.5\", \"as\": \"y\"}]}, {\"mark\": {\"type\": \"rule\", \"color\": \"black\"}, \"encoding\": {\"y\": {\"field\": \"y\", \"type\": \"quantitative\"}}, \"transform\": [{\"calculate\": \"1.7\", \"as\": \"y\"}]}], \"height\": 200}, \"$schema\": \"https://vega.github.io/schema/vega-lite/v5.20.1.json\"}, {\"mode\": \"vega-lite\"});\n",
       "</script>"
      ],
      "text/plain": [
       "alt.FacetChart(...)"
      ]
     },
     "execution_count": 24,
     "metadata": {},
     "output_type": "execute_result"
    }
   ],
   "source": [
    "alt.layer(\n",
    "        alt.Chart().mark_point(size=150, color='#1f77b4').encode(\n",
    "            alt.X('category:N'),\n",
    "            alt.Shape('category:N'),\n",
    "            alt.Color('category:N'),\n",
    "            alt.Y('median(scale):Q').title(\"w'w' / u*\"),\n",
    "        ),\n",
    "        alt.Chart().mark_line(color='#1f77b4', strokeWidth=2).encode(\n",
    "            alt.X('category:N').axis(values=[]).title(''),\n",
    "            alt.Color('category:N'),\n",
    "            alt.Y('q1(scale)'),\n",
    "            alt.Y2('q3(scale):Q'),\n",
    "            detail = 'category'\n",
    "        ),\n",
    "        alt.Chart().transform_calculate(\n",
    "            y = '2.5'\n",
    "        ).mark_rule(color='black').encode(alt.Y('y:Q')),\n",
    "        alt.Chart().transform_calculate(\n",
    "            y = '1.7'\n",
    "        ).mark_rule(color='black').encode(alt.Y('y:Q')),\n",
    "        data = scale_df.query(\"synoptic_wind_speed == '> 10 m/s'\")\n",
    ").properties(height=200).facet(column=alt.Column('height:O', title = 'Height AGL (m)'))\n"
   ]
  }
 ],
 "metadata": {
  "kernelspec": {
   "display_name": "sublimationofsnow",
   "language": "python",
   "name": "python3"
  },
  "language_info": {
   "codemirror_mode": {
    "name": "ipython",
    "version": 3
   },
   "file_extension": ".py",
   "mimetype": "text/x-python",
   "name": "python",
   "nbconvert_exporter": "python",
   "pygments_lexer": "ipython3",
   "version": "3.12.5"
  }
 },
 "nbformat": 4,
 "nbformat_minor": 2
}
