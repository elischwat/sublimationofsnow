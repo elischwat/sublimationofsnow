{
 "cells": [
  {
   "cell_type": "code",
   "execution_count": 1,
   "metadata": {},
   "outputs": [],
   "source": [
    "import numpy as np\n",
    "import xarray as xr\n",
    "\n",
    "import datetime as dt\n",
    "import os\n",
    "import pandas as pd\n",
    "\n",
    "import matplotlib.pyplot as plt\n",
    "\n",
    "import altair as alt\n",
    "alt.data_transformers.enable('json')\n",
    "\n",
    "from sublimpy import utils\n",
    "import glob\n",
    "import pytz\n",
    "import re\n",
    "from scipy.signal import welch, csd\n",
    "from scipy.stats import chi2\n",
    "from process_fast_data.fast_data_calculate_spectra_nomrd import calculate_mrd_for_df, fast_data_files_to_dataframe"
   ]
  },
  {
   "cell_type": "code",
   "execution_count": 2,
   "metadata": {},
   "outputs": [],
   "source": [
    "# DATA_DIR = \"/storage/elilouis/sublimationofsnow/\"\n",
    "DATA_DIR = \"/Users/elischwat/Development/data/sublimationofsnow/\"\n",
    "\n",
    "DATES = pd.Series(['20230418', '20230419'])\n",
    "DATE_LOCAL = '20230418'\n",
    "\n",
    "# DATES = pd.Series(['20230409', '20230410'])\n",
    "# DATE_LOCAL = '20230409'"
   ]
  },
  {
   "cell_type": "markdown",
   "metadata": {},
   "source": [
    "# TOOLS"
   ]
  },
  {
   "cell_type": "markdown",
   "metadata": {},
   "source": [
    "## SAIL Data"
   ]
  },
  {
   "cell_type": "code",
   "execution_count": 3,
   "metadata": {},
   "outputs": [],
   "source": [
    "class FastData(object):\n",
    "    data = None\n",
    "\n",
    "class FastDataSAIL(FastData):\n",
    "    @staticmethod\n",
    "    def open_raw(files):\n",
    "        files = sorted(files)\n",
    "        high_rate_dfs = []\n",
    "        for file in files:\n",
    "            # Regular expression. extract date\n",
    "            date = re.search(r\"gucecorM1\\.00\\.(\\d+)\\.\", file).group(1)\n",
    "            df = pd.read_csv(file, skiprows=1, header=None).rename(\n",
    "                    columns = dict(\n",
    "                        zip(range(0,10), \n",
    "                        [\n",
    "                            'Timestamp',\n",
    "                            'u',\n",
    "                            'v',\n",
    "                            'w',\n",
    "                            'windspeed units (M = m/s)',\n",
    "                            'Speed of Sound',\n",
    "                            'Status (00 means okay)',\n",
    "                            'CO2 analog voltage output',\n",
    "                            'H20 analog voltage output',\n",
    "                            'Checksum',\n",
    "                        ])\n",
    "                    )\n",
    "                )\n",
    "            df['time'] = pd.to_datetime(\n",
    "                f'{date} ' + df['Timestamp'].str[:-3],\n",
    "                format=\"%Y%m%d %H:%M:%S.%f\"\n",
    "            )\n",
    "            high_rate_dfs.append(df)\n",
    "        return pd.concat(high_rate_dfs).set_index('time')\n",
    "    \n",
    "    @staticmethod\n",
    "    def double_rotation(df, u_col, v_col, w_col):\n",
    "        # FIRST ROTATION\n",
    "        mean_u = df[u_col].mean()\n",
    "        mean_v = df[v_col].mean()\n",
    "        theta = np.arctan2(mean_v, mean_u)\n",
    "        adj_u = df[u_col]*np.cos(theta) + df[v_col]*np.sin(theta)\n",
    "        adj_v = -df[u_col]*np.sin(theta) + df[v_col]*np.cos(theta)\n",
    "        df[u_col] = adj_u\n",
    "        df[v_col] = adj_v\n",
    "        print(\n",
    "            'Means after 1st rotation:',\n",
    "            df[u_col].mean(),\n",
    "            df[v_col].mean(),\n",
    "            df[w_col].mean(),\n",
    "        )\n",
    "\n",
    "        # SECOND ROTATION\n",
    "        mean_u = df[u_col].mean()\n",
    "        mean_w = df[w_col].mean()\n",
    "        phi = np.arctan2(mean_w, mean_u)\n",
    "        adj_u = df[u_col]*np.cos(phi) + df[w_col]*np.sin(phi)\n",
    "        adj_w = - df[u_col]*np.sin(phi) + df[w_col]*np.cos(phi)\n",
    "        df[u_col] = adj_u\n",
    "        df[w_col] = adj_w\n",
    "        print(\n",
    "            'Means after 2nd rotation:',\n",
    "            df[u_col].mean(),\n",
    "            df[v_col].mean(),\n",
    "            df[w_col].mean(),\n",
    "        )\n",
    "        return df"
   ]
  },
  {
   "cell_type": "markdown",
   "metadata": {},
   "source": [
    "# SAIL EC data"
   ]
  },
  {
   "cell_type": "markdown",
   "metadata": {},
   "source": [
    "Open and wrangle the raw SAIL EC data"
   ]
  },
  {
   "cell_type": "code",
   "execution_count": 4,
   "metadata": {},
   "outputs": [
    {
     "data": {
      "text/plain": [
       "0    /Users/elischwat/Development/data/sublimationo...\n",
       "0    /Users/elischwat/Development/data/sublimationo...\n",
       "0    /Users/elischwat/Development/data/sublimationo...\n",
       "0    /Users/elischwat/Development/data/sublimationo...\n",
       "0    /Users/elischwat/Development/data/sublimationo...\n",
       "                           ...                        \n",
       "1    /Users/elischwat/Development/data/sublimationo...\n",
       "1    /Users/elischwat/Development/data/sublimationo...\n",
       "1    /Users/elischwat/Development/data/sublimationo...\n",
       "1    /Users/elischwat/Development/data/sublimationo...\n",
       "1    /Users/elischwat/Development/data/sublimationo...\n",
       "Length: 96, dtype: object"
      ]
     },
     "execution_count": 4,
     "metadata": {},
     "output_type": "execute_result"
    }
   ],
   "source": [
    "fast_data_files = DATES.apply(\n",
    "    lambda date: glob.glob(\n",
    "            os.path.join(\n",
    "                DATA_DIR, \n",
    "                f\"sail_fast_ecor_data/gucecorM1.00.{date}.000000.raw/**_sonic.raw\"\n",
    "            )\n",
    "        )\n",
    ").explode()\n",
    "fast_data_files"
   ]
  },
  {
   "cell_type": "code",
   "execution_count": 5,
   "metadata": {},
   "outputs": [],
   "source": [
    "fast_df_sail = FastDataSAIL.open_raw(fast_data_files)\n",
    "fast_df_sail = utils.modify_df_timezone(fast_df_sail.reset_index(), 'UTC', 'US/Mountain').set_index('time')\n",
    "fast_df_sail = fast_df_sail.loc[DATE_LOCAL]\n",
    "fast_df_sail = fast_df_sail.sort_index()"
   ]
  },
  {
   "cell_type": "markdown",
   "metadata": {},
   "source": [
    "Calculate 30-minute mean u, v, w, and 30-min wind direction, plot it"
   ]
  },
  {
   "cell_type": "code",
   "execution_count": 6,
   "metadata": {},
   "outputs": [
    {
     "data": {
      "text/plain": [
       "array([<Axes: xlabel='time'>, <Axes: xlabel='time'>,\n",
       "       <Axes: xlabel='time'>], dtype=object)"
      ]
     },
     "execution_count": 6,
     "metadata": {},
     "output_type": "execute_result"
    },
    {
     "data": {
      "image/png": "[encoded data removed]",
      "text/plain": [
       "<Figure size 640x480 with 3 Axes>"
      ]
     },
     "metadata": {},
     "output_type": "display_data"
    }
   ],
   "source": [
    "fast_df_sail[['u','v','w']].plot(subplots=True)"
   ]
  },
  {
   "cell_type": "code",
   "execution_count": 7,
   "metadata": {},
   "outputs": [
    {
     "data": {
      "image/png": "[encoded data removed]",
      "text/plain": [
       "<Figure size 640x480 with 2 Axes>"
      ]
     },
     "metadata": {},
     "output_type": "display_data"
    }
   ],
   "source": [
    "fast_df_sail = fast_df_sail.join(\n",
    "    fast_df_sail.groupby(pd.Grouper(freq='30min'))[['u', 'v', 'w']].transform('mean').rename(columns = {\n",
    "        'u': 'u_30min',\n",
    "        'v': 'v_30min',\n",
    "        'w': 'w_30min',\n",
    "    })\n",
    ")\n",
    "fast_df_sail['dir_30min'] = np.rad2deg(np.arctan2(-fast_df_sail['u_30min'], -fast_df_sail['v_30min']))\n",
    "fast_df_sail['dir_30min'] = fast_df_sail['dir_30min'].apply(lambda dir: dir if dir >= 0 else dir+360)\n",
    "fig, axes = plt.subplots(2,1)\n",
    "fast_df_sail['dir_30min'].plot(ax=axes[0], sharex=True)\n",
    "fast_df_sail[['u_30min','v_30min','w_30min']].plot(ax=axes[1])\n",
    "axes[0].grid(axis='x')  # Add grid lines only for the x-axis\n",
    "axes[1].grid(axis='x')  # Add grid lines only for the x-axis\n",
    "plt.show()"
   ]
  },
  {
   "cell_type": "markdown",
   "metadata": {},
   "source": [
    "Apply double rotation to 3hr chunks"
   ]
  },
  {
   "cell_type": "code",
   "execution_count": 8,
   "metadata": {},
   "outputs": [
    {
     "name": "stdout",
     "output_type": "stream",
     "text": [
      "Means after 1st rotation: 0.6627422676363955 -1.3167491586164178e-16 0.044493535598934056\n",
      "Means after 2nd rotation: 0.6642341364473263 -1.3167491586164178e-16 -7.359878427225912e-18\n",
      "Means after 1st rotation: 0.8527944779328487 2.2164201298737846e-17 0.06441814672567406\n",
      "Means after 2nd rotation: 0.8552240169805396 2.2164201298737846e-17 1.4683783360413824e-17\n",
      "Means after 1st rotation: 0.3466228872077543 1.0515459396712361e-17 0.05392742845514919\n",
      "Means after 2nd rotation: 0.3507928070471582 1.0515459396712361e-17 1.7810559353181563e-17\n",
      "Means after 1st rotation: 2.340778295079225 -4.2385792184335753e-16 -0.06551576260135725\n",
      "Means after 2nd rotation: 2.3416949719942695 -4.2385792184335753e-16 8.61287649065936e-18\n",
      "Means after 1st rotation: 1.6936754260593072 4.093285852166126e-16 -0.044984477469368275\n",
      "Means after 2nd rotation: 1.694272720682939 4.093285852166126e-16 2.4016728214240026e-17\n",
      "Means after 1st rotation: 1.4580727311206618 -3.5211537085241e-16 -0.027027934806548706\n",
      "Means after 2nd rotation: 1.4583232146878728 -3.5211537085241e-16 -3.1299144075769774e-18\n",
      "Means after 1st rotation: 1.0350545006783305 -1.4204979493903974e-16 -0.041458679773990544\n",
      "Means after 2nd rotation: 1.0358844730485492 -1.4204979493903974e-16 5.7446608247405774e-18\n",
      "Means after 1st rotation: 0.6650034792674117 -1.2530006545485702e-16 -0.01832133213321332\n",
      "Means after 2nd rotation: 0.6652558144420071 -1.2530006545485702e-16 7.831254090928564e-19\n"
     ]
    }
   ],
   "source": [
    "fast_df_sail = fast_df_sail.groupby(pd.Grouper(freq='180min')).apply(lambda df: FastDataSAIL.double_rotation(df, 'u', 'v', 'w'))"
   ]
  },
  {
   "cell_type": "code",
   "execution_count": 9,
   "metadata": {},
   "outputs": [],
   "source": [
    "fast_df_sail.index = fast_df_sail.index.get_level_values(1)"
   ]
  },
  {
   "cell_type": "code",
   "execution_count": 10,
   "metadata": {},
   "outputs": [],
   "source": [
    "fast_df_sail['u'] = fast_df_sail['u'].interpolate()\n",
    "fast_df_sail['v'] = fast_df_sail['v'].interpolate()\n",
    "fast_df_sail['w'] = fast_df_sail['w'].interpolate()"
   ]
  },
  {
   "cell_type": "markdown",
   "metadata": {},
   "source": [
    "Calculate MRD"
   ]
  },
  {
   "cell_type": "code",
   "execution_count": 11,
   "metadata": {},
   "outputs": [
    {
     "name": "stdout",
     "output_type": "stream",
     "text": [
      "Got data of length 109000. using M = 16\n",
      "Timestep of fast data is: 100.0 ms\n",
      "Dataset of length 109000, with M = 16, permits 21 iterations.\n"
     ]
    },
    {
     "name": "stderr",
     "output_type": "stream",
     "text": [
      "100%|██████████| 21/21 [00:00<00:00, 46.32it/s]\n"
     ]
    },
    {
     "name": "stdout",
     "output_type": "stream",
     "text": [
      "Got data of length 109969. using M = 16\n",
      "Timestep of fast data is: 90.0 ms\n",
      "Dataset of length 109969, with M = 16, permits 22 iterations.\n"
     ]
    },
    {
     "name": "stderr",
     "output_type": "stream",
     "text": [
      "100%|██████████| 22/22 [00:00<00:00, 14139.55it/s]\n"
     ]
    },
    {
     "name": "stdout",
     "output_type": "stream",
     "text": [
      "Got data of length 109006. using M = 16\n",
      "Timestep of fast data is: 100.0 ms\n",
      "Dataset of length 109006, with M = 16, permits 21 iterations.\n"
     ]
    },
    {
     "name": "stderr",
     "output_type": "stream",
     "text": [
      "100%|██████████| 21/21 [00:00<00:00, 16522.30it/s]\n"
     ]
    },
    {
     "name": "stdout",
     "output_type": "stream",
     "text": [
      "Got data of length 108897. using M = 16\n",
      "Timestep of fast data is: 100.0 ms\n",
      "Dataset of length 108897, with M = 16, permits 21 iterations.\n"
     ]
    },
    {
     "name": "stderr",
     "output_type": "stream",
     "text": [
      "100%|██████████| 21/21 [00:00<00:00, 17514.49it/s]\n"
     ]
    },
    {
     "name": "stdout",
     "output_type": "stream",
     "text": [
      "Got data of length 108874. using M = 16\n",
      "Timestep of fast data is: 100.0 ms\n",
      "Dataset of length 108874, with M = 16, permits 21 iterations.\n"
     ]
    },
    {
     "name": "stderr",
     "output_type": "stream",
     "text": [
      "100%|██████████| 21/21 [00:00<00:00, 17483.20it/s]\n"
     ]
    },
    {
     "name": "stdout",
     "output_type": "stream",
     "text": [
      "Got data of length 108968. using M = 16\n",
      "Timestep of fast data is: 100.0 ms\n",
      "Dataset of length 108968, with M = 16, permits 21 iterations.\n"
     ]
    },
    {
     "name": "stderr",
     "output_type": "stream",
     "text": [
      "100%|██████████| 21/21 [00:00<00:00, 20603.60it/s]\n"
     ]
    },
    {
     "name": "stdout",
     "output_type": "stream",
     "text": [
      "Got data of length 108845. using M = 16\n",
      "Timestep of fast data is: 70.0 ms\n",
      "Dataset of length 108845, with M = 16, permits 21 iterations.\n"
     ]
    },
    {
     "name": "stderr",
     "output_type": "stream",
     "text": [
      "100%|██████████| 21/21 [00:00<00:00, 8501.97it/s]\n"
     ]
    },
    {
     "name": "stdout",
     "output_type": "stream",
     "text": [
      "Got data of length 108880. using M = 16\n",
      "Timestep of fast data is: 100.0 ms\n",
      "Dataset of length 108880, with M = 16, permits 21 iterations.\n"
     ]
    },
    {
     "name": "stderr",
     "output_type": "stream",
     "text": [
      "100%|██████████| 21/21 [00:00<00:00, 12069.11it/s]\n"
     ]
    }
   ],
   "source": [
    "mrd_uw_sail = fast_df_sail.groupby(pd.Grouper(freq='180min'))[['u', 'v', 'w']].apply(\n",
    "    lambda df: calculate_mrd_for_df(df.reset_index(), 'u', 'w', shift=2000, parallelism=20).assign(hour_group = f\"{df.index.min()} - {df.index.max()}\")\n",
    ")"
   ]
  },
  {
   "cell_type": "code",
   "execution_count": 12,
   "metadata": {},
   "outputs": [],
   "source": [
    "mrd_uw_sail.hour_group = mrd_uw_sail.hour_group.str.replace('2023-04-18 ', '')"
   ]
  },
  {
   "cell_type": "code",
   "execution_count": 13,
   "metadata": {},
   "outputs": [
    {
     "data": {
      "text/html": [
       "\n",
       "<style>\n",
       "  #altair-viz-c16d9fbd2e584c6cb4eb58eb49873ad1.vega-embed {\n",
       "    width: 100%;\n",
       "    display: flex;\n",
       "  }\n",
       "\n",
       "  #altair-viz-c16d9fbd2e584c6cb4eb58eb49873ad1.vega-embed details,\n",
       "  #altair-viz-c16d9fbd2e584c6cb4eb58eb49873ad1.vega-embed details summary {\n",
       "    position: relative;\n",
       "  }\n",
       "</style>\n",
       "<div id=\"altair-viz-c16d9fbd2e584c6cb4eb58eb49873ad1\"></div>\n",
       "<script type=\"text/javascript\">\n",
       "  var VEGA_DEBUG = (typeof VEGA_DEBUG == \"undefined\") ? {} : VEGA_DEBUG;\n",
       "  (function(spec, embedOpt){\n",
       "    let outputDiv = document.currentScript.previousElementSibling;\n",
       "    if (outputDiv.id !== \"altair-viz-c16d9fbd2e584c6cb4eb58eb49873ad1\") {\n",
       "      outputDiv = document.getElementById(\"altair-viz-c16d9fbd2e584c6cb4eb58eb49873ad1\");\n",
       "    }\n",
       "    const paths = {\n",
       "      \"vega\": \"https://cdn.jsdelivr.net/npm/vega@5?noext\",\n",
       "      \"vega-lib\": \"https://cdn.jsdelivr.net/npm/vega-lib?noext\",\n",
       "      \"vega-lite\": \"https://cdn.jsdelivr.net/npm/vega-lite@5.20.1?noext\",\n",
       "      \"vega-embed\": \"https://cdn.jsdelivr.net/npm/vega-embed@6?noext\",\n",
       "    };\n",
       "\n",
       "    function maybeLoadScript(lib, version) {\n",
       "      var key = `${lib.replace(\"-\", \"\")}_version`;\n",
       "      return (VEGA_DEBUG[key] == version) ?\n",
       "        Promise.resolve(paths[lib]) :\n",
       "        new Promise(function(resolve, reject) {\n",
       "          var s = document.createElement('script');\n",
       "          document.getElementsByTagName(\"head\")[0].appendChild(s);\n",
       "          s.async = true;\n",
       "          s.onload = () => {\n",
       "            VEGA_DEBUG[key] = version;\n",
       "            return resolve(paths[lib]);\n",
       "          };\n",
       "          s.onerror = () => reject(`Error loading script: ${paths[lib]}`);\n",
       "          s.src = paths[lib];\n",
       "        });\n",
       "    }\n",
       "\n",
       "    function showError(err) {\n",
       "      outputDiv.innerHTML = `<div class=\"error\" style=\"color:red;\">${err}</div>`;\n",
       "      throw err;\n",
       "    }\n",
       "\n",
       "    function displayChart(vegaEmbed) {\n",
       "      vegaEmbed(outputDiv, spec, embedOpt)\n",
       "        .catch(err => showError(`Javascript Error: ${err.message}<br>This usually means there's a typo in your chart specification. See the javascript console for the full traceback.`));\n",
       "    }\n",
       "\n",
       "    if(typeof define === \"function\" && define.amd) {\n",
       "      requirejs.config({paths});\n",
       "      require([\"vega-embed\"], displayChart, err => showError(`Error loading script: ${err.message}`));\n",
       "    } else {\n",
       "      maybeLoadScript(\"vega\", \"5\")\n",
       "        .then(() => maybeLoadScript(\"vega-lite\", \"5.20.1\"))\n",
       "        .then(() => maybeLoadScript(\"vega-embed\", \"6\"))\n",
       "        .catch(showError)\n",
       "        .then(() => displayChart(vegaEmbed));\n",
       "    }\n",
       "  })({\"config\": {\"view\": {\"continuousWidth\": 300, \"continuousHeight\": 300}}, \"data\": {\"url\": \"altair-data-a8c0815dac1c86cc5893badcf689aaa5.json\", \"format\": {\"type\": \"json\"}}, \"mark\": {\"type\": \"line\"}, \"encoding\": {\"color\": {\"field\": \"hour_group\", \"scale\": {\"scheme\": \"purpleorange\"}, \"type\": \"ordinal\"}, \"x\": {\"field\": \"tau\", \"scale\": {\"type\": \"log\"}, \"type\": \"quantitative\"}, \"y\": {\"aggregate\": \"mean\", \"field\": \"Co\", \"type\": \"quantitative\"}}, \"height\": 200, \"title\": \"sail\", \"width\": 200, \"$schema\": \"https://vega.github.io/schema/vega-lite/v5.20.1.json\"}, {\"mode\": \"vega-lite\"});\n",
       "</script>"
      ],
      "text/plain": [
       "alt.Chart(...)"
      ]
     },
     "execution_count": 13,
     "metadata": {},
     "output_type": "execute_result"
    }
   ],
   "source": [
    "daily_mrd_sail_chart = alt.Chart(\n",
    "    mrd_uw_sail.reset_index().query(\"tau > 0\")\n",
    ").mark_line().encode(\n",
    "    alt.X('tau:Q').scale(type='log'),\n",
    "    alt.Y('mean(Co):Q'),\n",
    "    alt.Color('hour_group:O').scale(scheme='purpleorange'),\n",
    ").properties(width=200, height=200, title='sail')\n",
    "daily_mrd_sail_chart"
   ]
  },
  {
   "cell_type": "code",
   "execution_count": 14,
   "metadata": {},
   "outputs": [],
   "source": [
    "mrd_uw_sail['time range'] = mrd_uw_sail.start_time.astype(str) + ' - ' + mrd_uw_sail.end_time.astype(str)"
   ]
  },
  {
   "cell_type": "code",
   "execution_count": 15,
   "metadata": {},
   "outputs": [
    {
     "data": {
      "text/html": [
       "\n",
       "<style>\n",
       "  #altair-viz-1ccec91d40d2469c9bb410465dd14ee7.vega-embed {\n",
       "    width: 100%;\n",
       "    display: flex;\n",
       "  }\n",
       "\n",
       "  #altair-viz-1ccec91d40d2469c9bb410465dd14ee7.vega-embed details,\n",
       "  #altair-viz-1ccec91d40d2469c9bb410465dd14ee7.vega-embed details summary {\n",
       "    position: relative;\n",
       "  }\n",
       "</style>\n",
       "<div id=\"altair-viz-1ccec91d40d2469c9bb410465dd14ee7\"></div>\n",
       "<script type=\"text/javascript\">\n",
       "  var VEGA_DEBUG = (typeof VEGA_DEBUG == \"undefined\") ? {} : VEGA_DEBUG;\n",
       "  (function(spec, embedOpt){\n",
       "    let outputDiv = document.currentScript.previousElementSibling;\n",
       "    if (outputDiv.id !== \"altair-viz-1ccec91d40d2469c9bb410465dd14ee7\") {\n",
       "      outputDiv = document.getElementById(\"altair-viz-1ccec91d40d2469c9bb410465dd14ee7\");\n",
       "    }\n",
       "    const paths = {\n",
       "      \"vega\": \"https://cdn.jsdelivr.net/npm/vega@5?noext\",\n",
       "      \"vega-lib\": \"https://cdn.jsdelivr.net/npm/vega-lib?noext\",\n",
       "      \"vega-lite\": \"https://cdn.jsdelivr.net/npm/vega-lite@5.20.1?noext\",\n",
       "      \"vega-embed\": \"https://cdn.jsdelivr.net/npm/vega-embed@6?noext\",\n",
       "    };\n",
       "\n",
       "    function maybeLoadScript(lib, version) {\n",
       "      var key = `${lib.replace(\"-\", \"\")}_version`;\n",
       "      return (VEGA_DEBUG[key] == version) ?\n",
       "        Promise.resolve(paths[lib]) :\n",
       "        new Promise(function(resolve, reject) {\n",
       "          var s = document.createElement('script');\n",
       "          document.getElementsByTagName(\"head\")[0].appendChild(s);\n",
       "          s.async = true;\n",
       "          s.onload = () => {\n",
       "            VEGA_DEBUG[key] = version;\n",
       "            return resolve(paths[lib]);\n",
       "          };\n",
       "          s.onerror = () => reject(`Error loading script: ${paths[lib]}`);\n",
       "          s.src = paths[lib];\n",
       "        });\n",
       "    }\n",
       "\n",
       "    function showError(err) {\n",
       "      outputDiv.innerHTML = `<div class=\"error\" style=\"color:red;\">${err}</div>`;\n",
       "      throw err;\n",
       "    }\n",
       "\n",
       "    function displayChart(vegaEmbed) {\n",
       "      vegaEmbed(outputDiv, spec, embedOpt)\n",
       "        .catch(err => showError(`Javascript Error: ${err.message}<br>This usually means there's a typo in your chart specification. See the javascript console for the full traceback.`));\n",
       "    }\n",
       "\n",
       "    if(typeof define === \"function\" && define.amd) {\n",
       "      requirejs.config({paths});\n",
       "      require([\"vega-embed\"], displayChart, err => showError(`Error loading script: ${err.message}`));\n",
       "    } else {\n",
       "      maybeLoadScript(\"vega\", \"5\")\n",
       "        .then(() => maybeLoadScript(\"vega-lite\", \"5.20.1\"))\n",
       "        .then(() => maybeLoadScript(\"vega-embed\", \"6\"))\n",
       "        .catch(showError)\n",
       "        .then(() => displayChart(vegaEmbed));\n",
       "    }\n",
       "  })({\"config\": {\"view\": {\"continuousWidth\": 300, \"continuousHeight\": 300}}, \"data\": {\"url\": \"altair-data-7e13a22db16c52f4f8cf9a977c96a8c3.json\", \"format\": {\"type\": \"json\"}}, \"mark\": {\"type\": \"line\", \"strokeWidth\": 1}, \"encoding\": {\"color\": {\"field\": \"hour_group\", \"scale\": {\"scheme\": \"rainbow\"}, \"type\": \"ordinal\"}, \"detail\": {\"field\": \"time range\", \"type\": \"nominal\"}, \"x\": {\"field\": \"tau\", \"scale\": {\"type\": \"log\"}, \"type\": \"quantitative\"}, \"y\": {\"field\": \"Co\", \"type\": \"quantitative\"}}, \"height\": 300, \"width\": 300, \"$schema\": \"https://vega.github.io/schema/vega-lite/v5.20.1.json\"}, {\"mode\": \"vega-lite\"});\n",
       "</script>"
      ],
      "text/plain": [
       "alt.Chart(...)"
      ]
     },
     "execution_count": 15,
     "metadata": {},
     "output_type": "execute_result"
    }
   ],
   "source": [
    "alt.Chart(mrd_uw_sail.reset_index().query(\"tau > 0\")).mark_line(strokeWidth=1).encode(\n",
    "    alt.X('tau:Q').scale(type='log'),\n",
    "    alt.Y('Co:Q'),\n",
    "    alt.Color('hour_group:O').scale(scheme='rainbow'),\n",
    "    detail = 'time range'\n",
    ").properties(width=300, height=300)"
   ]
  },
  {
   "cell_type": "markdown",
   "metadata": {},
   "source": [
    "# SPLASH EC data"
   ]
  },
  {
   "cell_type": "code",
   "execution_count": 16,
   "metadata": {},
   "outputs": [],
   "source": [
    "splash_files = np.array([\n",
    "    [f for f in glob.glob(\n",
    "        os.path.join(DATA_DIR, \"asfs/ASFS-50_Level2_SPLASH2021-2023/sledwind10hz.asfs50.level2.0.*.nc\")\n",
    "    ) if d in f]\n",
    "    for d in DATES\n",
    "]).flatten()\n",
    "fast_df_splash = xr.open_mfdataset(splash_files).to_dataframe().rename(columns={\n",
    "    'metek_u': 'u',\n",
    "    'metek_v': 'v',\n",
    "    'metek_w': 'w',\n",
    "})"
   ]
  },
  {
   "cell_type": "code",
   "execution_count": 17,
   "metadata": {},
   "outputs": [],
   "source": [
    "fast_df_splash = utils.modify_df_timezone(fast_df_splash.reset_index(), 'UTC', 'US/Mountain').set_index('time')\n",
    "fast_df_splash = fast_df_splash.loc[DATE_LOCAL]"
   ]
  },
  {
   "cell_type": "code",
   "execution_count": 18,
   "metadata": {},
   "outputs": [],
   "source": [
    "fast_df_splash = fast_df_splash.join(\n",
    "    fast_df_splash.groupby(pd.Grouper(freq='30min'))[['u', 'v', 'w']].transform('mean').rename(columns = {\n",
    "        'u': 'u_30min',\n",
    "        'v': 'v_30min',\n",
    "        'w': 'w_30min',\n",
    "    })\n",
    ")\n",
    "fast_df_splash['dir_30min'] = np.rad2deg(np.arctan2(-fast_df_splash['u_30min'], -fast_df_splash['v_30min']))\n",
    "fast_df_splash['dir_30min'] = fast_df_splash['dir_30min'].apply(lambda dir: dir if dir >= 0 else dir+360)"
   ]
  },
  {
   "cell_type": "code",
   "execution_count": 19,
   "metadata": {},
   "outputs": [
    {
     "data": {
      "image/png": "[encoded data removed]",
      "text/plain": [
       "<Figure size 640x480 with 2 Axes>"
      ]
     },
     "metadata": {},
     "output_type": "display_data"
    }
   ],
   "source": [
    "fast_df_splash_30min = fast_df_splash.groupby(pd.Grouper(freq='30min')).mean()\n",
    "fig, axes = plt.subplots(2,1)\n",
    "fast_df_splash_30min['dir_30min'].plot(ax=axes[0], sharex=True)\n",
    "fast_df_splash_30min[['u_30min','v_30min','w_30min']].plot(ax=axes[1])\n",
    "axes[0].grid(axis='x')  # Add grid lines only for the x-axis\n",
    "axes[1].grid(axis='x')  # Add grid lines only for the x-axis\n",
    "plt.show()"
   ]
  },
  {
   "cell_type": "markdown",
   "metadata": {},
   "source": [
    "Apply double rotation to 3hr chunks"
   ]
  },
  {
   "cell_type": "code",
   "execution_count": 20,
   "metadata": {},
   "outputs": [
    {
     "name": "stdout",
     "output_type": "stream",
     "text": [
      "Means after 1st rotation: 1.2666482748900492 -1.098831888759114e-16 0.0772666142960887\n",
      "Means after 2nd rotation: 1.2690027509689321 -1.098831888759114e-16 4.226276495227362e-18\n",
      "Means after 1st rotation: 1.0324662924246089 -1.266705712775666e-17 0.11195183171403797\n",
      "Means after 2nd rotation: 1.0385181065427538 -1.266705712775666e-17 -4.486249399413817e-18\n",
      "Means after 1st rotation: 1.428171009464732 2.957019466981188e-17 0.09460395440404679\n",
      "Means after 2nd rotation: 1.431300925893781 2.957019466981188e-17 -3.3530488598804544e-17\n",
      "Means after 1st rotation: 3.0867025680330658 -3.801882171832956e-16 -0.03322424124510729\n",
      "Means after 2nd rotation: 3.0868813702033053 -3.801882171832956e-16 -5.5444115005897276e-18\n",
      "Means after 1st rotation: 2.0051384174349507 -1.689725409703536e-16 0.04083325582150301\n",
      "Means after 2nd rotation: 2.0055541448324257 -1.689725409703536e-16 2.125357741892729e-17\n",
      "Means after 1st rotation: 2.0319159538937637 -1.6052391392183592e-16 0.05477563106018458\n",
      "Means after 2nd rotation: 2.0326541303050165 -1.6052391392183592e-16 1.795333247810007e-17\n",
      "Means after 1st rotation: 3.3904973228297677 -3.3163633786928247e-16 0.1914042438731721\n",
      "Means after 2nd rotation: 3.3958957111031074 -3.3163633786928247e-16 3.010075041170239e-17\n",
      "Means after 1st rotation: 3.2706368181673513 8.44486157377972e-17 0.18878403856060008\n",
      "Means after 2nd rotation: 3.2760806781224274 8.44486157377972e-17 -6.99340099078633e-18\n"
     ]
    }
   ],
   "source": [
    "fast_df_splash = fast_df_splash.groupby(pd.Grouper(freq='180min')).apply(lambda df: FastDataSAIL.double_rotation(df, 'u', 'v', 'w'))"
   ]
  },
  {
   "cell_type": "code",
   "execution_count": 21,
   "metadata": {},
   "outputs": [],
   "source": [
    "fast_df_splash.index = fast_df_splash.index.get_level_values(1)"
   ]
  },
  {
   "cell_type": "code",
   "execution_count": 22,
   "metadata": {},
   "outputs": [],
   "source": [
    "fast_df_splash['u'] = fast_df_splash['u'].interpolate()\n",
    "fast_df_splash['v'] = fast_df_splash['v'].interpolate()\n",
    "fast_df_splash['w'] = fast_df_splash['w'].interpolate()"
   ]
  },
  {
   "cell_type": "markdown",
   "metadata": {},
   "source": [
    "Calculate MRD"
   ]
  },
  {
   "cell_type": "code",
   "execution_count": 23,
   "metadata": {},
   "outputs": [
    {
     "name": "stdout",
     "output_type": "stream",
     "text": [
      "Got data of length 108000. using M = 16\n",
      "Timestep of fast data is: 100.0 ms\n",
      "Dataset of length 108000, with M = 16, permits 21 iterations.\n"
     ]
    },
    {
     "name": "stderr",
     "output_type": "stream",
     "text": [
      "100%|██████████| 21/21 [00:00<00:00, 5788.29it/s]\n"
     ]
    },
    {
     "name": "stdout",
     "output_type": "stream",
     "text": [
      "Got data of length 108000. using M = 16\n",
      "Timestep of fast data is: 100.0 ms\n",
      "Dataset of length 108000, with M = 16, permits 21 iterations.\n"
     ]
    },
    {
     "name": "stderr",
     "output_type": "stream",
     "text": [
      "100%|██████████| 21/21 [00:00<00:00, 21716.07it/s]\n"
     ]
    },
    {
     "name": "stdout",
     "output_type": "stream",
     "text": [
      "Got data of length 108000. using M = 16\n",
      "Timestep of fast data is: 100.0 ms\n",
      "Dataset of length 108000, with M = 16, permits 21 iterations.\n"
     ]
    },
    {
     "name": "stderr",
     "output_type": "stream",
     "text": [
      "100%|██████████| 21/21 [00:00<00:00, 17203.20it/s]\n"
     ]
    },
    {
     "name": "stdout",
     "output_type": "stream",
     "text": [
      "Got data of length 108000. using M = 16\n",
      "Timestep of fast data is: 100.0 ms\n",
      "Dataset of length 108000, with M = 16, permits 21 iterations.\n"
     ]
    },
    {
     "name": "stderr",
     "output_type": "stream",
     "text": [
      "100%|██████████| 21/21 [00:00<00:00, 19923.18it/s]\n"
     ]
    },
    {
     "name": "stdout",
     "output_type": "stream",
     "text": [
      "Got data of length 108000. using M = 16\n",
      "Timestep of fast data is: 100.0 ms\n",
      "Dataset of length 108000, with M = 16, permits 21 iterations.\n"
     ]
    },
    {
     "name": "stderr",
     "output_type": "stream",
     "text": [
      "100%|██████████| 21/21 [00:00<00:00, 17328.42it/s]\n"
     ]
    },
    {
     "name": "stdout",
     "output_type": "stream",
     "text": [
      "Got data of length 108000. using M = 16\n",
      "Timestep of fast data is: 100.0 ms\n",
      "Dataset of length 108000, with M = 16, permits 21 iterations.\n"
     ]
    },
    {
     "name": "stderr",
     "output_type": "stream",
     "text": [
      "100%|██████████| 21/21 [00:00<00:00, 19127.12it/s]\n"
     ]
    },
    {
     "name": "stdout",
     "output_type": "stream",
     "text": [
      "Got data of length 108000. using M = 16\n",
      "Timestep of fast data is: 100.0 ms\n",
      "Dataset of length 108000, with M = 16, permits 21 iterations.\n"
     ]
    },
    {
     "name": "stderr",
     "output_type": "stream",
     "text": [
      "100%|██████████| 21/21 [00:00<00:00, 15706.20it/s]\n"
     ]
    },
    {
     "name": "stdout",
     "output_type": "stream",
     "text": [
      "Got data of length 108000. using M = 16\n",
      "Timestep of fast data is: 100.0 ms\n",
      "Dataset of length 108000, with M = 16, permits 21 iterations.\n"
     ]
    },
    {
     "name": "stderr",
     "output_type": "stream",
     "text": [
      "100%|██████████| 21/21 [00:00<00:00, 20991.51it/s]\n"
     ]
    }
   ],
   "source": [
    "mrd_uw_splash = fast_df_splash.groupby(pd.Grouper(freq='180min'))[['u', 'v', 'w']].apply(\n",
    "    lambda df: calculate_mrd_for_df(df.reset_index(), 'u', 'w', shift=2000, parallelism=20).assign(hour_group = f\"{df.index.min()} - {df.index.max()}\")\n",
    ")"
   ]
  },
  {
   "cell_type": "code",
   "execution_count": 24,
   "metadata": {},
   "outputs": [],
   "source": [
    "mrd_uw_splash.hour_group = mrd_uw_splash.hour_group.str.replace('2023-04-18 ', '')"
   ]
  },
  {
   "cell_type": "code",
   "execution_count": 25,
   "metadata": {},
   "outputs": [
    {
     "data": {
      "text/html": [
       "\n",
       "<style>\n",
       "  #altair-viz-ebb474e9128846b9b7f8c385142f1fd2.vega-embed {\n",
       "    width: 100%;\n",
       "    display: flex;\n",
       "  }\n",
       "\n",
       "  #altair-viz-ebb474e9128846b9b7f8c385142f1fd2.vega-embed details,\n",
       "  #altair-viz-ebb474e9128846b9b7f8c385142f1fd2.vega-embed details summary {\n",
       "    position: relative;\n",
       "  }\n",
       "</style>\n",
       "<div id=\"altair-viz-ebb474e9128846b9b7f8c385142f1fd2\"></div>\n",
       "<script type=\"text/javascript\">\n",
       "  var VEGA_DEBUG = (typeof VEGA_DEBUG == \"undefined\") ? {} : VEGA_DEBUG;\n",
       "  (function(spec, embedOpt){\n",
       "    let outputDiv = document.currentScript.previousElementSibling;\n",
       "    if (outputDiv.id !== \"altair-viz-ebb474e9128846b9b7f8c385142f1fd2\") {\n",
       "      outputDiv = document.getElementById(\"altair-viz-ebb474e9128846b9b7f8c385142f1fd2\");\n",
       "    }\n",
       "    const paths = {\n",
       "      \"vega\": \"https://cdn.jsdelivr.net/npm/vega@5?noext\",\n",
       "      \"vega-lib\": \"https://cdn.jsdelivr.net/npm/vega-lib?noext\",\n",
       "      \"vega-lite\": \"https://cdn.jsdelivr.net/npm/vega-lite@5.20.1?noext\",\n",
       "      \"vega-embed\": \"https://cdn.jsdelivr.net/npm/vega-embed@6?noext\",\n",
       "    };\n",
       "\n",
       "    function maybeLoadScript(lib, version) {\n",
       "      var key = `${lib.replace(\"-\", \"\")}_version`;\n",
       "      return (VEGA_DEBUG[key] == version) ?\n",
       "        Promise.resolve(paths[lib]) :\n",
       "        new Promise(function(resolve, reject) {\n",
       "          var s = document.createElement('script');\n",
       "          document.getElementsByTagName(\"head\")[0].appendChild(s);\n",
       "          s.async = true;\n",
       "          s.onload = () => {\n",
       "            VEGA_DEBUG[key] = version;\n",
       "            return resolve(paths[lib]);\n",
       "          };\n",
       "          s.onerror = () => reject(`Error loading script: ${paths[lib]}`);\n",
       "          s.src = paths[lib];\n",
       "        });\n",
       "    }\n",
       "\n",
       "    function showError(err) {\n",
       "      outputDiv.innerHTML = `<div class=\"error\" style=\"color:red;\">${err}</div>`;\n",
       "      throw err;\n",
       "    }\n",
       "\n",
       "    function displayChart(vegaEmbed) {\n",
       "      vegaEmbed(outputDiv, spec, embedOpt)\n",
       "        .catch(err => showError(`Javascript Error: ${err.message}<br>This usually means there's a typo in your chart specification. See the javascript console for the full traceback.`));\n",
       "    }\n",
       "\n",
       "    if(typeof define === \"function\" && define.amd) {\n",
       "      requirejs.config({paths});\n",
       "      require([\"vega-embed\"], displayChart, err => showError(`Error loading script: ${err.message}`));\n",
       "    } else {\n",
       "      maybeLoadScript(\"vega\", \"5\")\n",
       "        .then(() => maybeLoadScript(\"vega-lite\", \"5.20.1\"))\n",
       "        .then(() => maybeLoadScript(\"vega-embed\", \"6\"))\n",
       "        .catch(showError)\n",
       "        .then(() => displayChart(vegaEmbed));\n",
       "    }\n",
       "  })({\"config\": {\"view\": {\"continuousWidth\": 300, \"continuousHeight\": 300}}, \"data\": {\"url\": \"altair-data-2ae1371d9acec42a4934833e14bd5b2b.json\", \"format\": {\"type\": \"json\"}}, \"mark\": {\"type\": \"boxplot\", \"outliers\": false, \"size\": 10}, \"encoding\": {\"column\": {\"field\": \"hour_group\", \"type\": \"nominal\"}, \"x\": {\"field\": \"tau\", \"scale\": {\"type\": \"log\"}, \"type\": \"quantitative\"}, \"y\": {\"field\": \"Co\", \"type\": \"quantitative\"}}, \"height\": 200, \"width\": 200, \"$schema\": \"https://vega.github.io/schema/vega-lite/v5.20.1.json\"}, {\"mode\": \"vega-lite\"});\n",
       "</script>"
      ],
      "text/plain": [
       "alt.Chart(...)"
      ]
     },
     "execution_count": 25,
     "metadata": {},
     "output_type": "execute_result"
    }
   ],
   "source": [
    "alt.Chart(mrd_uw_splash.reset_index()).mark_boxplot(size=10, outliers=False).encode(\n",
    "    alt.X('tau:Q').scale(type='log'),\n",
    "    alt.Y('Co:Q'),\n",
    "    alt.Column('hour_group'),\n",
    ").properties(width=200, height=200)"
   ]
  },
  {
   "cell_type": "code",
   "execution_count": 26,
   "metadata": {},
   "outputs": [
    {
     "data": {
      "text/html": [
       "\n",
       "<style>\n",
       "  #altair-viz-0b5172a562954c73a9a2fbccfa890216.vega-embed {\n",
       "    width: 100%;\n",
       "    display: flex;\n",
       "  }\n",
       "\n",
       "  #altair-viz-0b5172a562954c73a9a2fbccfa890216.vega-embed details,\n",
       "  #altair-viz-0b5172a562954c73a9a2fbccfa890216.vega-embed details summary {\n",
       "    position: relative;\n",
       "  }\n",
       "</style>\n",
       "<div id=\"altair-viz-0b5172a562954c73a9a2fbccfa890216\"></div>\n",
       "<script type=\"text/javascript\">\n",
       "  var VEGA_DEBUG = (typeof VEGA_DEBUG == \"undefined\") ? {} : VEGA_DEBUG;\n",
       "  (function(spec, embedOpt){\n",
       "    let outputDiv = document.currentScript.previousElementSibling;\n",
       "    if (outputDiv.id !== \"altair-viz-0b5172a562954c73a9a2fbccfa890216\") {\n",
       "      outputDiv = document.getElementById(\"altair-viz-0b5172a562954c73a9a2fbccfa890216\");\n",
       "    }\n",
       "    const paths = {\n",
       "      \"vega\": \"https://cdn.jsdelivr.net/npm/vega@5?noext\",\n",
       "      \"vega-lib\": \"https://cdn.jsdelivr.net/npm/vega-lib?noext\",\n",
       "      \"vega-lite\": \"https://cdn.jsdelivr.net/npm/vega-lite@5.20.1?noext\",\n",
       "      \"vega-embed\": \"https://cdn.jsdelivr.net/npm/vega-embed@6?noext\",\n",
       "    };\n",
       "\n",
       "    function maybeLoadScript(lib, version) {\n",
       "      var key = `${lib.replace(\"-\", \"\")}_version`;\n",
       "      return (VEGA_DEBUG[key] == version) ?\n",
       "        Promise.resolve(paths[lib]) :\n",
       "        new Promise(function(resolve, reject) {\n",
       "          var s = document.createElement('script');\n",
       "          document.getElementsByTagName(\"head\")[0].appendChild(s);\n",
       "          s.async = true;\n",
       "          s.onload = () => {\n",
       "            VEGA_DEBUG[key] = version;\n",
       "            return resolve(paths[lib]);\n",
       "          };\n",
       "          s.onerror = () => reject(`Error loading script: ${paths[lib]}`);\n",
       "          s.src = paths[lib];\n",
       "        });\n",
       "    }\n",
       "\n",
       "    function showError(err) {\n",
       "      outputDiv.innerHTML = `<div class=\"error\" style=\"color:red;\">${err}</div>`;\n",
       "      throw err;\n",
       "    }\n",
       "\n",
       "    function displayChart(vegaEmbed) {\n",
       "      vegaEmbed(outputDiv, spec, embedOpt)\n",
       "        .catch(err => showError(`Javascript Error: ${err.message}<br>This usually means there's a typo in your chart specification. See the javascript console for the full traceback.`));\n",
       "    }\n",
       "\n",
       "    if(typeof define === \"function\" && define.amd) {\n",
       "      requirejs.config({paths});\n",
       "      require([\"vega-embed\"], displayChart, err => showError(`Error loading script: ${err.message}`));\n",
       "    } else {\n",
       "      maybeLoadScript(\"vega\", \"5\")\n",
       "        .then(() => maybeLoadScript(\"vega-lite\", \"5.20.1\"))\n",
       "        .then(() => maybeLoadScript(\"vega-embed\", \"6\"))\n",
       "        .catch(showError)\n",
       "        .then(() => displayChart(vegaEmbed));\n",
       "    }\n",
       "  })({\"config\": {\"view\": {\"continuousWidth\": 300, \"continuousHeight\": 300}}, \"data\": {\"url\": \"altair-data-2ae1371d9acec42a4934833e14bd5b2b.json\", \"format\": {\"type\": \"json\"}}, \"mark\": {\"type\": \"line\"}, \"encoding\": {\"color\": {\"field\": \"hour_group\", \"scale\": {\"scheme\": \"purpleorange\"}, \"type\": \"ordinal\"}, \"x\": {\"field\": \"tau\", \"scale\": {\"type\": \"log\"}, \"type\": \"quantitative\"}, \"y\": {\"aggregate\": \"mean\", \"field\": \"Co\", \"type\": \"quantitative\"}}, \"height\": 200, \"title\": \"splash\", \"width\": 200, \"$schema\": \"https://vega.github.io/schema/vega-lite/v5.20.1.json\"}, {\"mode\": \"vega-lite\"});\n",
       "</script>"
      ],
      "text/plain": [
       "alt.Chart(...)"
      ]
     },
     "execution_count": 26,
     "metadata": {},
     "output_type": "execute_result"
    }
   ],
   "source": [
    "daily_mrd_splash_chart = alt.Chart(\n",
    "    mrd_uw_splash.reset_index()\n",
    ").mark_line().encode(\n",
    "    alt.X('tau:Q').scale(type='log'),\n",
    "    alt.Y('mean(Co):Q'),\n",
    "    alt.Color('hour_group:O').scale(scheme='purpleorange'),\n",
    ").properties(width=200, height=200, title='splash')\n",
    "daily_mrd_splash_chart"
   ]
  },
  {
   "cell_type": "markdown",
   "metadata": {},
   "source": [
    "# SOS EC data"
   ]
  },
  {
   "cell_type": "markdown",
   "metadata": {},
   "source": [
    "Open data, average from 20hz to 10hz"
   ]
  },
  {
   "cell_type": "code",
   "execution_count": 27,
   "metadata": {},
   "outputs": [],
   "source": [
    "sos_file_list = sorted(np.array([\n",
    "    [f for f in glob.glob(\n",
    "        os.path.join(DATA_DIR, \"sosqc_fast/isfs_sos_qc_geo_tiltcor_hr_v2_**.nc\")\n",
    "    ) if d in f]\n",
    "    for d in DATES\n",
    "]).flatten())\n",
    "\n",
    "fast_df_sos = fast_data_files_to_dataframe(sos_file_list, rotation='none')"
   ]
  },
  {
   "cell_type": "code",
   "execution_count": 28,
   "metadata": {},
   "outputs": [],
   "source": [
    "fast_df_sos = utils.modify_df_timezone(fast_df_sos, 'UTC', 'US/Mountain')\n",
    "fast_df_sos = fast_df_sos.set_index('time').loc[DATE_LOCAL]"
   ]
  },
  {
   "cell_type": "code",
   "execution_count": 29,
   "metadata": {},
   "outputs": [],
   "source": [
    "fast_df_sos = fast_df_sos[['u_3m_c', 'v_3m_c', 'w_3m_c']].rename(columns={\n",
    "    'u_3m_c': 'u',\n",
    "    'v_3m_c': 'v',\n",
    "    'w_3m_c': 'w',\n",
    "})"
   ]
  },
  {
   "cell_type": "code",
   "execution_count": 30,
   "metadata": {},
   "outputs": [],
   "source": [
    "fast_df_sos = fast_df_sos.join(\n",
    "    fast_df_sos.groupby(pd.Grouper(freq='30min'))[['u', 'v', 'w']].transform('mean').rename(columns = {\n",
    "        'u': 'u_30min',\n",
    "        'v': 'v_30min',\n",
    "        'w': 'w_30min',\n",
    "    })\n",
    ")\n",
    "fast_df_sos['dir_30min'] = np.rad2deg(np.arctan2(-fast_df_sos['u_30min'], -fast_df_sos['v_30min']))\n",
    "fast_df_sos['dir_30min'] = fast_df_sos['dir_30min'].apply(lambda dir: dir if dir >= 0 else dir+360)"
   ]
  },
  {
   "cell_type": "code",
   "execution_count": 31,
   "metadata": {},
   "outputs": [
    {
     "data": {
      "image/png": "[encoded data removed]",
      "text/plain": [
       "<Figure size 640x480 with 2 Axes>"
      ]
     },
     "metadata": {},
     "output_type": "display_data"
    }
   ],
   "source": [
    "fast_df_sos_30min = fast_df_sos.groupby(pd.Grouper(freq='30min')).mean()\n",
    "fig, axes = plt.subplots(2,1)\n",
    "fast_df_sos_30min['dir_30min'].plot(ax=axes[0], sharex=True)\n",
    "fast_df_sos_30min[['u_30min','v_30min','w_30min']].plot(ax=axes[1])\n",
    "axes[0].grid(axis='x')  # Add grid lines only for the x-axis\n",
    "axes[1].grid(axis='x')  # Add grid lines only for the x-axis\n",
    "plt.show()"
   ]
  },
  {
   "cell_type": "markdown",
   "metadata": {},
   "source": [
    "Apply double rotation to 3hr chunks"
   ]
  },
  {
   "cell_type": "code",
   "execution_count": 32,
   "metadata": {},
   "outputs": [
    {
     "name": "stdout",
     "output_type": "stream",
     "text": [
      "Means after 1st rotation: 1.4472486 -3.051758e-08 0.0074909516\n",
      "Means after 2nd rotation: 1.4472678 -3.051758e-08 1.165602e-09\n",
      "Means after 1st rotation: 1.2023139 2.8257016e-08 0.008348804\n",
      "Means after 2nd rotation: 1.202343 2.8257016e-08 1.2009232e-09\n",
      "Means after 1st rotation: 1.9015547 -2.2605613e-08 0.011437975\n",
      "Means after 2nd rotation: 1.9015889 -2.2605613e-08 -9.889956e-10\n",
      "Means after 1st rotation: 1.5724633 1.3111256e-07 -0.0052673933\n",
      "Means after 2nd rotation: 1.5724721 1.3111256e-07 -1.2892264e-09\n",
      "Means after 1st rotation: 1.9473157 -8.251049e-08 -0.011317748\n",
      "Means after 2nd rotation: 1.9473485 -8.251049e-08 5.651403e-10\n",
      "Means after 1st rotation: 1.8408698 -9.94647e-08 -0.018046634\n",
      "Means after 2nd rotation: 1.8409578 -9.94647e-08 -4.803693e-09\n",
      "Means after 1st rotation: 1.2515265 -1.808449e-07 0.009646556\n",
      "Means after 2nd rotation: 1.2515633 -1.808449e-07 1.9515003e-09\n",
      "Means after 1st rotation: 1.0377959 9.042245e-08 0.00890773\n",
      "Means after 2nd rotation: 1.037834 9.042245e-08 1.6247784e-09\n"
     ]
    }
   ],
   "source": [
    "fast_df_sos = fast_df_sos.groupby(pd.Grouper(freq='180min')).apply(lambda df: FastDataSAIL.double_rotation(df, 'u', 'v', 'w'))"
   ]
  },
  {
   "cell_type": "code",
   "execution_count": 33,
   "metadata": {},
   "outputs": [],
   "source": [
    "fast_df_sos.index = fast_df_sos.index.get_level_values(1)"
   ]
  },
  {
   "cell_type": "code",
   "execution_count": 34,
   "metadata": {},
   "outputs": [],
   "source": [
    "fast_df_sos['u'] = fast_df_sos['u'].interpolate()\n",
    "fast_df_sos['v'] = fast_df_sos['v'].interpolate()\n",
    "fast_df_sos['w'] = fast_df_sos['w'].interpolate()"
   ]
  },
  {
   "cell_type": "markdown",
   "metadata": {},
   "source": [
    "Calculate MRD"
   ]
  },
  {
   "cell_type": "code",
   "execution_count": 35,
   "metadata": {},
   "outputs": [
    {
     "name": "stdout",
     "output_type": "stream",
     "text": [
      "Got data of length 216000. using M = 17\n",
      "Timestep of fast data is: 50.0 ms\n",
      "Dataset of length 216000, with M = 17, permits 42 iterations.\n"
     ]
    },
    {
     "name": "stderr",
     "output_type": "stream",
     "text": [
      "100%|██████████| 42/42 [00:07<00:00,  5.55it/s]\n"
     ]
    },
    {
     "name": "stdout",
     "output_type": "stream",
     "text": [
      "Got data of length 216000. using M = 17\n",
      "Timestep of fast data is: 50.0 ms\n",
      "Dataset of length 216000, with M = 17, permits 42 iterations.\n"
     ]
    },
    {
     "name": "stderr",
     "output_type": "stream",
     "text": [
      "100%|██████████| 42/42 [00:07<00:00,  5.56it/s]\n"
     ]
    },
    {
     "name": "stdout",
     "output_type": "stream",
     "text": [
      "Got data of length 216000. using M = 17\n",
      "Timestep of fast data is: 50.0 ms\n",
      "Dataset of length 216000, with M = 17, permits 42 iterations.\n"
     ]
    },
    {
     "name": "stderr",
     "output_type": "stream",
     "text": [
      "100%|██████████| 42/42 [00:07<00:00,  5.56it/s]\n"
     ]
    },
    {
     "name": "stdout",
     "output_type": "stream",
     "text": [
      "Got data of length 216000. using M = 17\n",
      "Timestep of fast data is: 50.0 ms\n",
      "Dataset of length 216000, with M = 17, permits 42 iterations.\n"
     ]
    },
    {
     "name": "stderr",
     "output_type": "stream",
     "text": [
      "100%|██████████| 42/42 [00:07<00:00,  5.60it/s]\n"
     ]
    },
    {
     "name": "stdout",
     "output_type": "stream",
     "text": [
      "Got data of length 216000. using M = 17\n",
      "Timestep of fast data is: 50.0 ms\n",
      "Dataset of length 216000, with M = 17, permits 42 iterations.\n"
     ]
    },
    {
     "name": "stderr",
     "output_type": "stream",
     "text": [
      "100%|██████████| 42/42 [00:07<00:00,  5.37it/s]\n"
     ]
    },
    {
     "name": "stdout",
     "output_type": "stream",
     "text": [
      "Got data of length 216000. using M = 17\n",
      "Timestep of fast data is: 50.0 ms\n",
      "Dataset of length 216000, with M = 17, permits 42 iterations.\n"
     ]
    },
    {
     "name": "stderr",
     "output_type": "stream",
     "text": [
      "100%|██████████| 42/42 [00:07<00:00,  5.85it/s]\n"
     ]
    },
    {
     "name": "stdout",
     "output_type": "stream",
     "text": [
      "Got data of length 216000. using M = 17\n",
      "Timestep of fast data is: 50.0 ms\n",
      "Dataset of length 216000, with M = 17, permits 42 iterations.\n"
     ]
    },
    {
     "name": "stderr",
     "output_type": "stream",
     "text": [
      "100%|██████████| 42/42 [00:07<00:00,  5.69it/s]\n"
     ]
    },
    {
     "name": "stdout",
     "output_type": "stream",
     "text": [
      "Got data of length 216000. using M = 17\n",
      "Timestep of fast data is: 50.0 ms\n",
      "Dataset of length 216000, with M = 17, permits 42 iterations.\n"
     ]
    },
    {
     "name": "stderr",
     "output_type": "stream",
     "text": [
      "100%|██████████| 42/42 [00:07<00:00,  5.76it/s]\n"
     ]
    }
   ],
   "source": [
    "mrd_uw_sos = fast_df_sos.groupby(pd.Grouper(freq='180min'))[['u', 'v', 'w']].apply(\n",
    "    lambda df: calculate_mrd_for_df(df.reset_index(), 'u', 'w', shift=2000, parallelism=20).assign(hour_group = f\"{df.index.min()} - {df.index.max()}\")\n",
    ")"
   ]
  },
  {
   "cell_type": "code",
   "execution_count": 36,
   "metadata": {},
   "outputs": [],
   "source": [
    "mrd_uw_sos.hour_group = mrd_uw_sos.hour_group.str.replace('2023-04-09 ', '')"
   ]
  },
  {
   "cell_type": "code",
   "execution_count": 37,
   "metadata": {},
   "outputs": [
    {
     "data": {
      "text/html": [
       "\n",
       "<style>\n",
       "  #altair-viz-e7567a44327e4dbbb875de5c27aa6543.vega-embed {\n",
       "    width: 100%;\n",
       "    display: flex;\n",
       "  }\n",
       "\n",
       "  #altair-viz-e7567a44327e4dbbb875de5c27aa6543.vega-embed details,\n",
       "  #altair-viz-e7567a44327e4dbbb875de5c27aa6543.vega-embed details summary {\n",
       "    position: relative;\n",
       "  }\n",
       "</style>\n",
       "<div id=\"altair-viz-e7567a44327e4dbbb875de5c27aa6543\"></div>\n",
       "<script type=\"text/javascript\">\n",
       "  var VEGA_DEBUG = (typeof VEGA_DEBUG == \"undefined\") ? {} : VEGA_DEBUG;\n",
       "  (function(spec, embedOpt){\n",
       "    let outputDiv = document.currentScript.previousElementSibling;\n",
       "    if (outputDiv.id !== \"altair-viz-e7567a44327e4dbbb875de5c27aa6543\") {\n",
       "      outputDiv = document.getElementById(\"altair-viz-e7567a44327e4dbbb875de5c27aa6543\");\n",
       "    }\n",
       "    const paths = {\n",
       "      \"vega\": \"https://cdn.jsdelivr.net/npm/vega@5?noext\",\n",
       "      \"vega-lib\": \"https://cdn.jsdelivr.net/npm/vega-lib?noext\",\n",
       "      \"vega-lite\": \"https://cdn.jsdelivr.net/npm/vega-lite@5.20.1?noext\",\n",
       "      \"vega-embed\": \"https://cdn.jsdelivr.net/npm/vega-embed@6?noext\",\n",
       "    };\n",
       "\n",
       "    function maybeLoadScript(lib, version) {\n",
       "      var key = `${lib.replace(\"-\", \"\")}_version`;\n",
       "      return (VEGA_DEBUG[key] == version) ?\n",
       "        Promise.resolve(paths[lib]) :\n",
       "        new Promise(function(resolve, reject) {\n",
       "          var s = document.createElement('script');\n",
       "          document.getElementsByTagName(\"head\")[0].appendChild(s);\n",
       "          s.async = true;\n",
       "          s.onload = () => {\n",
       "            VEGA_DEBUG[key] = version;\n",
       "            return resolve(paths[lib]);\n",
       "          };\n",
       "          s.onerror = () => reject(`Error loading script: ${paths[lib]}`);\n",
       "          s.src = paths[lib];\n",
       "        });\n",
       "    }\n",
       "\n",
       "    function showError(err) {\n",
       "      outputDiv.innerHTML = `<div class=\"error\" style=\"color:red;\">${err}</div>`;\n",
       "      throw err;\n",
       "    }\n",
       "\n",
       "    function displayChart(vegaEmbed) {\n",
       "      vegaEmbed(outputDiv, spec, embedOpt)\n",
       "        .catch(err => showError(`Javascript Error: ${err.message}<br>This usually means there's a typo in your chart specification. See the javascript console for the full traceback.`));\n",
       "    }\n",
       "\n",
       "    if(typeof define === \"function\" && define.amd) {\n",
       "      requirejs.config({paths});\n",
       "      require([\"vega-embed\"], displayChart, err => showError(`Error loading script: ${err.message}`));\n",
       "    } else {\n",
       "      maybeLoadScript(\"vega\", \"5\")\n",
       "        .then(() => maybeLoadScript(\"vega-lite\", \"5.20.1\"))\n",
       "        .then(() => maybeLoadScript(\"vega-embed\", \"6\"))\n",
       "        .catch(showError)\n",
       "        .then(() => displayChart(vegaEmbed));\n",
       "    }\n",
       "  })({\"config\": {\"view\": {\"continuousWidth\": 300, \"continuousHeight\": 300}}, \"data\": {\"url\": \"altair-data-d436c23a7142cb01a137b75c08027dd2.json\", \"format\": {\"type\": \"json\"}}, \"mark\": {\"type\": \"boxplot\", \"outliers\": false, \"size\": 10}, \"encoding\": {\"column\": {\"field\": \"hour_group\", \"type\": \"nominal\"}, \"x\": {\"field\": \"tau\", \"scale\": {\"type\": \"log\"}, \"type\": \"quantitative\"}, \"y\": {\"field\": \"Co\", \"type\": \"quantitative\"}}, \"height\": 200, \"width\": 200, \"$schema\": \"https://vega.github.io/schema/vega-lite/v5.20.1.json\"}, {\"mode\": \"vega-lite\"});\n",
       "</script>"
      ],
      "text/plain": [
       "alt.Chart(...)"
      ]
     },
     "execution_count": 37,
     "metadata": {},
     "output_type": "execute_result"
    }
   ],
   "source": [
    "alt.Chart(mrd_uw_sos.reset_index()).mark_boxplot(size=10, outliers=False).encode(\n",
    "    alt.X('tau:Q').scale(type='log'),\n",
    "    alt.Y('Co:Q'),\n",
    "    alt.Column('hour_group'),\n",
    ").properties(width=200, height=200)"
   ]
  },
  {
   "cell_type": "code",
   "execution_count": 38,
   "metadata": {},
   "outputs": [
    {
     "data": {
      "text/html": [
       "\n",
       "<style>\n",
       "  #altair-viz-d41742df2856405898186353fb63bf2f.vega-embed {\n",
       "    width: 100%;\n",
       "    display: flex;\n",
       "  }\n",
       "\n",
       "  #altair-viz-d41742df2856405898186353fb63bf2f.vega-embed details,\n",
       "  #altair-viz-d41742df2856405898186353fb63bf2f.vega-embed details summary {\n",
       "    position: relative;\n",
       "  }\n",
       "</style>\n",
       "<div id=\"altair-viz-d41742df2856405898186353fb63bf2f\"></div>\n",
       "<script type=\"text/javascript\">\n",
       "  var VEGA_DEBUG = (typeof VEGA_DEBUG == \"undefined\") ? {} : VEGA_DEBUG;\n",
       "  (function(spec, embedOpt){\n",
       "    let outputDiv = document.currentScript.previousElementSibling;\n",
       "    if (outputDiv.id !== \"altair-viz-d41742df2856405898186353fb63bf2f\") {\n",
       "      outputDiv = document.getElementById(\"altair-viz-d41742df2856405898186353fb63bf2f\");\n",
       "    }\n",
       "    const paths = {\n",
       "      \"vega\": \"https://cdn.jsdelivr.net/npm/vega@5?noext\",\n",
       "      \"vega-lib\": \"https://cdn.jsdelivr.net/npm/vega-lib?noext\",\n",
       "      \"vega-lite\": \"https://cdn.jsdelivr.net/npm/vega-lite@5.20.1?noext\",\n",
       "      \"vega-embed\": \"https://cdn.jsdelivr.net/npm/vega-embed@6?noext\",\n",
       "    };\n",
       "\n",
       "    function maybeLoadScript(lib, version) {\n",
       "      var key = `${lib.replace(\"-\", \"\")}_version`;\n",
       "      return (VEGA_DEBUG[key] == version) ?\n",
       "        Promise.resolve(paths[lib]) :\n",
       "        new Promise(function(resolve, reject) {\n",
       "          var s = document.createElement('script');\n",
       "          document.getElementsByTagName(\"head\")[0].appendChild(s);\n",
       "          s.async = true;\n",
       "          s.onload = () => {\n",
       "            VEGA_DEBUG[key] = version;\n",
       "            return resolve(paths[lib]);\n",
       "          };\n",
       "          s.onerror = () => reject(`Error loading script: ${paths[lib]}`);\n",
       "          s.src = paths[lib];\n",
       "        });\n",
       "    }\n",
       "\n",
       "    function showError(err) {\n",
       "      outputDiv.innerHTML = `<div class=\"error\" style=\"color:red;\">${err}</div>`;\n",
       "      throw err;\n",
       "    }\n",
       "\n",
       "    function displayChart(vegaEmbed) {\n",
       "      vegaEmbed(outputDiv, spec, embedOpt)\n",
       "        .catch(err => showError(`Javascript Error: ${err.message}<br>This usually means there's a typo in your chart specification. See the javascript console for the full traceback.`));\n",
       "    }\n",
       "\n",
       "    if(typeof define === \"function\" && define.amd) {\n",
       "      requirejs.config({paths});\n",
       "      require([\"vega-embed\"], displayChart, err => showError(`Error loading script: ${err.message}`));\n",
       "    } else {\n",
       "      maybeLoadScript(\"vega\", \"5\")\n",
       "        .then(() => maybeLoadScript(\"vega-lite\", \"5.20.1\"))\n",
       "        .then(() => maybeLoadScript(\"vega-embed\", \"6\"))\n",
       "        .catch(showError)\n",
       "        .then(() => displayChart(vegaEmbed));\n",
       "    }\n",
       "  })({\"config\": {\"view\": {\"continuousWidth\": 300, \"continuousHeight\": 300}}, \"data\": {\"url\": \"altair-data-d436c23a7142cb01a137b75c08027dd2.json\", \"format\": {\"type\": \"json\"}}, \"mark\": {\"type\": \"line\"}, \"encoding\": {\"color\": {\"field\": \"hour_group\", \"scale\": {\"scheme\": \"purpleorange\"}, \"type\": \"ordinal\"}, \"x\": {\"field\": \"tau\", \"scale\": {\"type\": \"log\"}, \"type\": \"quantitative\"}, \"y\": {\"aggregate\": \"mean\", \"field\": \"Co\", \"type\": \"quantitative\"}}, \"height\": 200, \"title\": \"sos\", \"width\": 200, \"$schema\": \"https://vega.github.io/schema/vega-lite/v5.20.1.json\"}, {\"mode\": \"vega-lite\"});\n",
       "</script>"
      ],
      "text/plain": [
       "alt.Chart(...)"
      ]
     },
     "execution_count": 38,
     "metadata": {},
     "output_type": "execute_result"
    }
   ],
   "source": [
    "daily_mrd_sos_chart = alt.Chart(\n",
    "    mrd_uw_sos.reset_index()\n",
    ").mark_line().encode(\n",
    "    alt.X('tau:Q').scale(type='log'),\n",
    "    alt.Y('mean(Co):Q'),\n",
    "    alt.Color('hour_group:O').scale(scheme='purpleorange'),\n",
    ").properties(width=200, height=200, title='sos')\n",
    "daily_mrd_sos_chart"
   ]
  },
  {
   "cell_type": "code",
   "execution_count": 39,
   "metadata": {},
   "outputs": [
    {
     "data": {
      "text/html": [
       "\n",
       "<style>\n",
       "  #altair-viz-535f445a7028478ab1ead8f72c1ec789.vega-embed {\n",
       "    width: 100%;\n",
       "    display: flex;\n",
       "  }\n",
       "\n",
       "  #altair-viz-535f445a7028478ab1ead8f72c1ec789.vega-embed details,\n",
       "  #altair-viz-535f445a7028478ab1ead8f72c1ec789.vega-embed details summary {\n",
       "    position: relative;\n",
       "  }\n",
       "</style>\n",
       "<div id=\"altair-viz-535f445a7028478ab1ead8f72c1ec789\"></div>\n",
       "<script type=\"text/javascript\">\n",
       "  var VEGA_DEBUG = (typeof VEGA_DEBUG == \"undefined\") ? {} : VEGA_DEBUG;\n",
       "  (function(spec, embedOpt){\n",
       "    let outputDiv = document.currentScript.previousElementSibling;\n",
       "    if (outputDiv.id !== \"altair-viz-535f445a7028478ab1ead8f72c1ec789\") {\n",
       "      outputDiv = document.getElementById(\"altair-viz-535f445a7028478ab1ead8f72c1ec789\");\n",
       "    }\n",
       "    const paths = {\n",
       "      \"vega\": \"https://cdn.jsdelivr.net/npm/vega@5?noext\",\n",
       "      \"vega-lib\": \"https://cdn.jsdelivr.net/npm/vega-lib?noext\",\n",
       "      \"vega-lite\": \"https://cdn.jsdelivr.net/npm/vega-lite@5.20.1?noext\",\n",
       "      \"vega-embed\": \"https://cdn.jsdelivr.net/npm/vega-embed@6?noext\",\n",
       "    };\n",
       "\n",
       "    function maybeLoadScript(lib, version) {\n",
       "      var key = `${lib.replace(\"-\", \"\")}_version`;\n",
       "      return (VEGA_DEBUG[key] == version) ?\n",
       "        Promise.resolve(paths[lib]) :\n",
       "        new Promise(function(resolve, reject) {\n",
       "          var s = document.createElement('script');\n",
       "          document.getElementsByTagName(\"head\")[0].appendChild(s);\n",
       "          s.async = true;\n",
       "          s.onload = () => {\n",
       "            VEGA_DEBUG[key] = version;\n",
       "            return resolve(paths[lib]);\n",
       "          };\n",
       "          s.onerror = () => reject(`Error loading script: ${paths[lib]}`);\n",
       "          s.src = paths[lib];\n",
       "        });\n",
       "    }\n",
       "\n",
       "    function showError(err) {\n",
       "      outputDiv.innerHTML = `<div class=\"error\" style=\"color:red;\">${err}</div>`;\n",
       "      throw err;\n",
       "    }\n",
       "\n",
       "    function displayChart(vegaEmbed) {\n",
       "      vegaEmbed(outputDiv, spec, embedOpt)\n",
       "        .catch(err => showError(`Javascript Error: ${err.message}<br>This usually means there's a typo in your chart specification. See the javascript console for the full traceback.`));\n",
       "    }\n",
       "\n",
       "    if(typeof define === \"function\" && define.amd) {\n",
       "      requirejs.config({paths});\n",
       "      require([\"vega-embed\"], displayChart, err => showError(`Error loading script: ${err.message}`));\n",
       "    } else {\n",
       "      maybeLoadScript(\"vega\", \"5\")\n",
       "        .then(() => maybeLoadScript(\"vega-lite\", \"5.20.1\"))\n",
       "        .then(() => maybeLoadScript(\"vega-embed\", \"6\"))\n",
       "        .catch(showError)\n",
       "        .then(() => displayChart(vegaEmbed));\n",
       "    }\n",
       "  })({\"config\": {\"view\": {\"continuousWidth\": 300, \"continuousHeight\": 300}}, \"vconcat\": [{\"data\": {\"url\": \"altair-data-2ae1371d9acec42a4934833e14bd5b2b.json\", \"format\": {\"type\": \"json\"}}, \"mark\": {\"type\": \"line\"}, \"encoding\": {\"color\": {\"field\": \"hour_group\", \"scale\": {\"scheme\": \"purpleorange\"}, \"type\": \"ordinal\"}, \"x\": {\"field\": \"tau\", \"scale\": {\"type\": \"log\"}, \"type\": \"quantitative\"}, \"y\": {\"aggregate\": \"mean\", \"field\": \"Co\", \"type\": \"quantitative\"}}, \"height\": 200, \"title\": \"splash\", \"width\": 200}, {\"data\": {\"url\": \"altair-data-a8c0815dac1c86cc5893badcf689aaa5.json\", \"format\": {\"type\": \"json\"}}, \"mark\": {\"type\": \"line\"}, \"encoding\": {\"color\": {\"field\": \"hour_group\", \"scale\": {\"scheme\": \"purpleorange\"}, \"type\": \"ordinal\"}, \"x\": {\"field\": \"tau\", \"scale\": {\"type\": \"log\"}, \"type\": \"quantitative\"}, \"y\": {\"aggregate\": \"mean\", \"field\": \"Co\", \"type\": \"quantitative\"}}, \"height\": 200, \"title\": \"sail\", \"width\": 200}, {\"data\": {\"url\": \"altair-data-d436c23a7142cb01a137b75c08027dd2.json\", \"format\": {\"type\": \"json\"}}, \"mark\": {\"type\": \"line\"}, \"encoding\": {\"color\": {\"field\": \"hour_group\", \"scale\": {\"scheme\": \"purpleorange\"}, \"type\": \"ordinal\"}, \"x\": {\"field\": \"tau\", \"scale\": {\"type\": \"log\"}, \"type\": \"quantitative\"}, \"y\": {\"aggregate\": \"mean\", \"field\": \"Co\", \"type\": \"quantitative\"}}, \"height\": 200, \"title\": \"sos\", \"width\": 200}], \"resolve\": {\"scale\": {\"color\": \"independent\", \"x\": \"shared\", \"y\": \"shared\"}}, \"$schema\": \"https://vega.github.io/schema/vega-lite/v5.20.1.json\"}, {\"mode\": \"vega-lite\"});\n",
       "</script>"
      ],
      "text/plain": [
       "alt.VConcatChart(...)"
      ]
     },
     "execution_count": 39,
     "metadata": {},
     "output_type": "execute_result"
    }
   ],
   "source": [
    "(\n",
    "    daily_mrd_splash_chart & daily_mrd_sail_chart & daily_mrd_sos_chart\n",
    ").resolve_scale(\n",
    "    color='independent',\n",
    "    x='shared',\n",
    "    y='shared'\n",
    ")"
   ]
  }
 ],
 "metadata": {
  "kernelspec": {
   "display_name": "arm",
   "language": "python",
   "name": "python3"
  },
  "language_info": {
   "codemirror_mode": {
    "name": "ipython",
    "version": 3
   },
   "file_extension": ".py",
   "mimetype": "text/x-python",
   "name": "python",
   "nbconvert_exporter": "python",
   "pygments_lexer": "ipython3",
   "version": "3.12.5"
  },
  "orig_nbformat": 4,
  "vscode": {
   "interpreter": {
    "hash": "e2b11a00ad1b97cabcd9cc9209b8824a0fcaf6ffe37b5243943912873b5dcab1"
   }
  }
 },
 "nbformat": 4,
 "nbformat_minor": 2
}
