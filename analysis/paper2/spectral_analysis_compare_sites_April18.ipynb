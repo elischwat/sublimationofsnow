{
 "cells": [
  {
   "cell_type": "code",
   "execution_count": 1,
   "metadata": {},
   "outputs": [],
   "source": [
    "import numpy as np\n",
    "import xarray as xr\n",
    "\n",
    "import datetime as dt\n",
    "import os\n",
    "import pandas as pd\n",
    "\n",
    "import matplotlib.pyplot as plt\n",
    "\n",
    "import altair as alt\n",
    "alt.data_transformers.enable('json')\n",
    "\n",
    "from sublimpy import utils\n",
    "import glob\n",
    "import pytz\n",
    "import re\n",
    "from scipy.signal import welch, csd\n",
    "from scipy.stats import chi2\n",
    "from process_fast_data.fast_data_calculate_spectra_nomrd import calculate_mrd_for_df, fast_data_files_to_dataframe"
   ]
  },
  {
   "cell_type": "code",
   "execution_count": 3,
   "metadata": {},
   "outputs": [],
   "source": [
    "# DATA_DIR = \"/storage/elilouis/sublimationofsnow/\"\n",
    "DATA_DIR = \"/Users/elischwat/Development/data/sublimationofsnow/\"\n",
    "DATES = pd.Series(['20230409', '20230410'])\n",
    "# DATES = pd.Series(['20230418', '20230419'])\n",
    "DATE_LOCAL = '20230409'"
   ]
  },
  {
   "cell_type": "markdown",
   "metadata": {},
   "source": [
    "# TOOLS"
   ]
  },
  {
   "cell_type": "markdown",
   "metadata": {},
   "source": [
    "## SAIL Data"
   ]
  },
  {
   "cell_type": "code",
   "execution_count": 4,
   "metadata": {},
   "outputs": [],
   "source": [
    "class FastData(object):\n",
    "    data = None\n",
    "\n",
    "class FastDataSAIL(FastData):\n",
    "    @staticmethod\n",
    "    def open_raw(files):\n",
    "        files = sorted(files)\n",
    "        high_rate_dfs = []\n",
    "        for file in files:\n",
    "            # Regular expression. extract date\n",
    "            date = re.search(r\"gucecorM1\\.00\\.(\\d+)\\.\", file).group(1)\n",
    "            df = pd.read_csv(file, skiprows=1, header=None).rename(\n",
    "                    columns = dict(\n",
    "                        zip(range(0,10), \n",
    "                        [\n",
    "                            'Timestamp',\n",
    "                            'u',\n",
    "                            'v',\n",
    "                            'w',\n",
    "                            'windspeed units (M = m/s)',\n",
    "                            'Speed of Sound',\n",
    "                            'Status (00 means okay)',\n",
    "                            'CO2 analog voltage output',\n",
    "                            'H20 analog voltage output',\n",
    "                            'Checksum',\n",
    "                        ])\n",
    "                    )\n",
    "                )\n",
    "            df['time'] = pd.to_datetime(\n",
    "                f'{date} ' + df['Timestamp'].str[:-3],\n",
    "                format=\"%Y%m%d %H:%M:%S.%f\"\n",
    "            )\n",
    "            high_rate_dfs.append(df)\n",
    "        return pd.concat(high_rate_dfs).set_index('time')\n",
    "    \n",
    "    @staticmethod\n",
    "    def double_rotation(df, u_col, v_col, w_col):\n",
    "        # FIRST ROTATION\n",
    "        mean_u = df[u_col].mean()\n",
    "        mean_v = df[v_col].mean()\n",
    "        theta = np.arctan2(mean_v, mean_u)\n",
    "        adj_u = df[u_col]*np.cos(theta) + df[v_col]*np.sin(theta)\n",
    "        adj_v = -df[u_col]*np.sin(theta) + df[v_col]*np.cos(theta)\n",
    "        df[u_col] = adj_u\n",
    "        df[v_col] = adj_v\n",
    "        print(\n",
    "            'Means after 1st rotation:',\n",
    "            df[u_col].mean(),\n",
    "            df[v_col].mean(),\n",
    "            df[w_col].mean(),\n",
    "        )\n",
    "\n",
    "        # SECOND ROTATION\n",
    "        mean_u = df[u_col].mean()\n",
    "        mean_w = df[w_col].mean()\n",
    "        phi = np.arctan2(mean_w, mean_u)\n",
    "        adj_u = df[u_col]*np.cos(phi) + df[w_col]*np.sin(phi)\n",
    "        adj_w = - df[u_col]*np.sin(phi) + df[w_col]*np.cos(phi)\n",
    "        df[u_col] = adj_u\n",
    "        df[w_col] = adj_w\n",
    "        print(\n",
    "            'Means after 2nd rotation:',\n",
    "            df[u_col].mean(),\n",
    "            df[v_col].mean(),\n",
    "            df[w_col].mean(),\n",
    "        )\n",
    "        return df"
   ]
  },
  {
   "cell_type": "markdown",
   "metadata": {},
   "source": [
    "# SAIL EC data"
   ]
  },
  {
   "cell_type": "markdown",
   "metadata": {},
   "source": [
    "Open and wrangle the raw SAIL EC data"
   ]
  },
  {
   "cell_type": "code",
   "execution_count": 5,
   "metadata": {},
   "outputs": [
    {
     "data": {
      "text/plain": [
       "0    /Users/elischwat/Development/data/sublimationo...\n",
       "0    /Users/elischwat/Development/data/sublimationo...\n",
       "0    /Users/elischwat/Development/data/sublimationo...\n",
       "0    /Users/elischwat/Development/data/sublimationo...\n",
       "0    /Users/elischwat/Development/data/sublimationo...\n",
       "                           ...                        \n",
       "1    /Users/elischwat/Development/data/sublimationo...\n",
       "1    /Users/elischwat/Development/data/sublimationo...\n",
       "1    /Users/elischwat/Development/data/sublimationo...\n",
       "1    /Users/elischwat/Development/data/sublimationo...\n",
       "1    /Users/elischwat/Development/data/sublimationo...\n",
       "Length: 96, dtype: object"
      ]
     },
     "execution_count": 5,
     "metadata": {},
     "output_type": "execute_result"
    }
   ],
   "source": [
    "fast_data_files = DATES.apply(\n",
    "    lambda date: glob.glob(\n",
    "            os.path.join(\n",
    "                DATA_DIR, \n",
    "                f\"sail_fast_ecor_data/gucecorM1.00.{date}.000000.raw/**_sonic.raw\"\n",
    "            )\n",
    "        )\n",
    ").explode()\n",
    "fast_data_files"
   ]
  },
  {
   "cell_type": "code",
   "execution_count": 6,
   "metadata": {},
   "outputs": [],
   "source": [
    "fast_df_sail = FastDataSAIL.open_raw(fast_data_files)\n",
    "fast_df_sail = utils.modify_df_timezone(fast_df_sail.reset_index(), 'UTC', 'US/Mountain').set_index('time')\n",
    "fast_df_sail = fast_df_sail.loc[DATE_LOCAL]\n",
    "fast_df_sail = fast_df_sail.sort_index()"
   ]
  },
  {
   "cell_type": "markdown",
   "metadata": {},
   "source": [
    "Calculate 30-minute mean u, v, w, and 30-min wind direction, plot it"
   ]
  },
  {
   "cell_type": "code",
   "execution_count": 7,
   "metadata": {},
   "outputs": [
    {
     "data": {
      "text/plain": [
       "array([<Axes: xlabel='time'>, <Axes: xlabel='time'>,\n",
       "       <Axes: xlabel='time'>], dtype=object)"
      ]
     },
     "execution_count": 7,
     "metadata": {},
     "output_type": "execute_result"
    },
    {
     "data": {
      "image/png": "[encoded data removed]",
      "text/plain": [
       "<Figure size 640x480 with 3 Axes>"
      ]
     },
     "metadata": {},
     "output_type": "display_data"
    }
   ],
   "source": [
    "fast_df_sail[['u','v','w']].plot(subplots=True)"
   ]
  },
  {
   "cell_type": "code",
   "execution_count": 8,
   "metadata": {},
   "outputs": [
    {
     "data": {
      "image/png": "[encoded data removed]",
      "text/plain": [
       "<Figure size 640x480 with 2 Axes>"
      ]
     },
     "metadata": {},
     "output_type": "display_data"
    }
   ],
   "source": [
    "fast_df_sail = fast_df_sail.join(\n",
    "    fast_df_sail.groupby(pd.Grouper(freq='30min'))[['u', 'v', 'w']].transform('mean').rename(columns = {\n",
    "        'u': 'u_30min',\n",
    "        'v': 'v_30min',\n",
    "        'w': 'w_30min',\n",
    "    })\n",
    ")\n",
    "fast_df_sail['dir_30min'] = np.rad2deg(np.arctan2(-fast_df_sail['u_30min'], -fast_df_sail['v_30min']))\n",
    "fast_df_sail['dir_30min'] = fast_df_sail['dir_30min'].apply(lambda dir: dir if dir >= 0 else dir+360)\n",
    "fig, axes = plt.subplots(2,1)\n",
    "fast_df_sail['dir_30min'].plot(ax=axes[0], sharex=True)\n",
    "fast_df_sail[['u_30min','v_30min','w_30min']].plot(ax=axes[1])\n",
    "axes[0].grid(axis='x')  # Add grid lines only for the x-axis\n",
    "axes[1].grid(axis='x')  # Add grid lines only for the x-axis\n",
    "plt.show()"
   ]
  },
  {
   "cell_type": "markdown",
   "metadata": {},
   "source": [
    "Apply double rotation to 3hr chunks"
   ]
  },
  {
   "cell_type": "code",
   "execution_count": null,
   "metadata": {},
   "outputs": [],
   "source": [
    "fast_df_sail = fast_df_sail.groupby(pd.Grouper(freq='180min')).apply(lambda df: FastDataSAIL.double_rotation(df, 'u', 'v', 'w'))"
   ]
  },
  {
   "cell_type": "code",
   "execution_count": null,
   "metadata": {},
   "outputs": [],
   "source": [
    "fast_df_sail.index = fast_df_sail.index.get_level_values(1)"
   ]
  },
  {
   "cell_type": "code",
   "execution_count": null,
   "metadata": {},
   "outputs": [],
   "source": [
    "fast_df_sail['u'] = fast_df_sail['u'].interpolate()\n",
    "fast_df_sail['v'] = fast_df_sail['v'].interpolate()\n",
    "fast_df_sail['w'] = fast_df_sail['w'].interpolate()"
   ]
  },
  {
   "cell_type": "markdown",
   "metadata": {},
   "source": [
    "Calculate MRD"
   ]
  },
  {
   "cell_type": "code",
   "execution_count": null,
   "metadata": {},
   "outputs": [],
   "source": [
    "mrd_uw_sail = fast_df_sail.groupby(pd.Grouper(freq='180min'))[['u', 'v', 'w']].apply(\n",
    "    lambda df: calculate_mrd_for_df(df.reset_index(), 'u', 'w', shift=2000, parallelism=20).assign(hour_group = f\"{df.index.min()} - {df.index.max()}\")\n",
    ")"
   ]
  },
  {
   "cell_type": "code",
   "execution_count": null,
   "metadata": {},
   "outputs": [],
   "source": [
    "mrd_uw_sail.hour_group = mrd_uw_sail.hour_group.str.replace('2023-04-18 ', '')"
   ]
  },
  {
   "cell_type": "code",
   "execution_count": null,
   "metadata": {},
   "outputs": [],
   "source": [
    "alt.Chart(mrd_uw_sail.reset_index()).mark_boxplot(size=10, outliers=False).encode(\n",
    "    alt.X('tau:Q').scale(type='log'),\n",
    "    alt.Y('Co:Q'),\n",
    "    alt.Column('hour_group'),\n",
    ").properties(width=200, height=200)"
   ]
  },
  {
   "cell_type": "code",
   "execution_count": null,
   "metadata": {},
   "outputs": [],
   "source": [
    "mrd_uw_sail['time range'] = mrd_uw_sail.start_time.astype(str) + ' - ' + mrd_uw_sail.end_time.astype(str)"
   ]
  },
  {
   "cell_type": "code",
   "execution_count": null,
   "metadata": {},
   "outputs": [],
   "source": [
    "alt.Chart(mrd_uw_sail.reset_index()).mark_line(strokeWidth=1).encode(\n",
    "    alt.X('tau:Q').scale(type='log'),\n",
    "    alt.Y('Co:Q'),\n",
    "    alt.Color('hour_group:O').scale(scheme='rainbow'),\n",
    "    detail = 'time range'\n",
    ").properties(width=300, height=300)"
   ]
  },
  {
   "cell_type": "markdown",
   "metadata": {},
   "source": [
    "# SPLASH EC data"
   ]
  },
  {
   "cell_type": "code",
   "execution_count": 17,
   "metadata": {},
   "outputs": [],
   "source": [
    "splash_files = np.array([\n",
    "    [f for f in glob.glob(\n",
    "        os.path.join(DATA_DIR, \"asfs/ASFS-50_Level2_SPLASH2021-2023/sledwind10hz.asfs50.level2.0.*.nc\")\n",
    "    ) if d in f]\n",
    "    for d in DATES\n",
    "]).flatten()\n",
    "fast_df_splash = xr.open_mfdataset(splash_files).to_dataframe().rename(columns={\n",
    "    'metek_u': 'u',\n",
    "    'metek_v': 'v',\n",
    "    'metek_w': 'w',\n",
    "})"
   ]
  },
  {
   "cell_type": "code",
   "execution_count": null,
   "metadata": {},
   "outputs": [],
   "source": [
    "fast_df_splash = utils.modify_df_timezone(fast_df_splash.reset_index(), 'UTC', 'US/Mountain').set_index('time')\n",
    "fast_df_splash = fast_df_splash.loc[DATE_LOCAL]"
   ]
  },
  {
   "cell_type": "code",
   "execution_count": null,
   "metadata": {},
   "outputs": [],
   "source": [
    "fast_df_splash = fast_df_splash.join(\n",
    "    fast_df_splash.groupby(pd.Grouper(freq='30min'))[['u', 'v', 'w']].transform('mean').rename(columns = {\n",
    "        'u': 'u_30min',\n",
    "        'v': 'v_30min',\n",
    "        'w': 'w_30min',\n",
    "    })\n",
    ")\n",
    "fast_df_splash['dir_30min'] = np.rad2deg(np.arctan2(-fast_df_splash['u_30min'], -fast_df_splash['v_30min']))\n",
    "fast_df_splash['dir_30min'] = fast_df_splash['dir_30min'].apply(lambda dir: dir if dir >= 0 else dir+360)"
   ]
  },
  {
   "cell_type": "code",
   "execution_count": null,
   "metadata": {},
   "outputs": [],
   "source": [
    "fast_df_splash_30min = fast_df_splash.groupby(pd.Grouper(freq='30min')).mean()\n",
    "fig, axes = plt.subplots(2,1)\n",
    "fast_df_splash_30min['dir_30min'].plot(ax=axes[0], sharex=True)\n",
    "fast_df_splash_30min[['u_30min','v_30min','w_30min']].plot(ax=axes[1])\n",
    "axes[0].grid(axis='x')  # Add grid lines only for the x-axis\n",
    "axes[1].grid(axis='x')  # Add grid lines only for the x-axis\n",
    "plt.show()"
   ]
  },
  {
   "cell_type": "markdown",
   "metadata": {},
   "source": [
    "Apply double rotation to 3hr chunks"
   ]
  },
  {
   "cell_type": "code",
   "execution_count": null,
   "metadata": {},
   "outputs": [],
   "source": [
    "fast_df_splash = fast_df_splash.groupby(pd.Grouper(freq='180min')).apply(lambda df: FastDataSAIL.double_rotation(df, 'u', 'v', 'w'))"
   ]
  },
  {
   "cell_type": "code",
   "execution_count": null,
   "metadata": {},
   "outputs": [],
   "source": [
    "fast_df_splash.index = fast_df_splash.index.get_level_values(1)"
   ]
  },
  {
   "cell_type": "code",
   "execution_count": null,
   "metadata": {},
   "outputs": [],
   "source": [
    "fast_df_splash['u'] = fast_df_splash['u'].interpolate()\n",
    "fast_df_splash['v'] = fast_df_splash['v'].interpolate()\n",
    "fast_df_splash['w'] = fast_df_splash['w'].interpolate()"
   ]
  },
  {
   "cell_type": "markdown",
   "metadata": {},
   "source": [
    "Calculate MRD"
   ]
  },
  {
   "cell_type": "code",
   "execution_count": null,
   "metadata": {},
   "outputs": [],
   "source": [
    "mrd_uw_splash = fast_df_splash.groupby(pd.Grouper(freq='180min'))[['u', 'v', 'w']].apply(\n",
    "    lambda df: calculate_mrd_for_df(df.reset_index(), 'u', 'w', shift=2000, parallelism=20).assign(hour_group = f\"{df.index.min()} - {df.index.max()}\")\n",
    ")"
   ]
  },
  {
   "cell_type": "code",
   "execution_count": null,
   "metadata": {},
   "outputs": [],
   "source": [
    "mrd_uw_splash.hour_group = mrd_uw_splash.hour_group.str.replace('2023-04-18 ', '')"
   ]
  },
  {
   "cell_type": "code",
   "execution_count": null,
   "metadata": {},
   "outputs": [],
   "source": [
    "alt.Chart(mrd_uw_splash.reset_index()).mark_boxplot(size=10, outliers=False).encode(\n",
    "    alt.X('tau:Q').scale(type='log'),\n",
    "    alt.Y('Co:Q'),\n",
    "    alt.Column('hour_group'),\n",
    ").properties(width=200, height=200)"
   ]
  },
  {
   "cell_type": "markdown",
   "metadata": {},
   "source": [
    "# SOS EC data"
   ]
  },
  {
   "cell_type": "markdown",
   "metadata": {},
   "source": [
    "Open data, average from 20hz to 10hz"
   ]
  },
  {
   "cell_type": "code",
   "execution_count": null,
   "metadata": {},
   "outputs": [],
   "source": [
    "fast_df_sos = fast_data_files_to_dataframe(glob.glob(\n",
    "                os.path.join(DATA_DIR, 'sosqc_fast/isfs_sos_qc_geo_tiltcor_hr_v2_20230409_**.nc')\n",
    "        ), \n",
    "        rotation='none'\n",
    ")"
   ]
  },
  {
   "cell_type": "code",
   "execution_count": null,
   "metadata": {},
   "outputs": [],
   "source": [
    "fast_df_sos = fast_df_sos.set_index('time').loc['20230409']"
   ]
  },
  {
   "cell_type": "code",
   "execution_count": null,
   "metadata": {},
   "outputs": [],
   "source": [
    "fast_df_sos = fast_df_sos.groupby(pd.Grouper(freq='100ms')).mean()"
   ]
  },
  {
   "cell_type": "code",
   "execution_count": null,
   "metadata": {},
   "outputs": [],
   "source": [
    "fast_df_sos = fast_df_sos[['u_3m_c', 'v_3m_c', 'w_3m_c']].rename(columns={\n",
    "    'u_3m_c': 'u',\n",
    "    'v_3m_c': 'v',\n",
    "    'w_3m_c': 'w',\n",
    "})"
   ]
  },
  {
   "cell_type": "code",
   "execution_count": null,
   "metadata": {},
   "outputs": [],
   "source": [
    "fast_df_sos = fast_df_sos.join(\n",
    "    fast_df_sos.groupby(pd.Grouper(freq='30min'))[['u', 'v', 'w']].transform('mean').rename(columns = {\n",
    "        'u': 'u_30min',\n",
    "        'v': 'v_30min',\n",
    "        'w': 'w_30min',\n",
    "    })\n",
    ")\n",
    "fast_df_sos['dir_30min'] = np.rad2deg(np.arctan2(-fast_df_sos['u_30min'], -fast_df_sos['v_30min']))\n",
    "fast_df_sos['dir_30min'] = fast_df_sos['dir_30min'].apply(lambda dir: dir if dir >= 0 else dir+360)"
   ]
  },
  {
   "cell_type": "code",
   "execution_count": null,
   "metadata": {},
   "outputs": [],
   "source": [
    "fast_df_sos_30min = fast_df_sos.groupby(pd.Grouper(freq='30min')).mean()\n",
    "fig, axes = plt.subplots(2,1)\n",
    "fast_df_sos_30min['dir_30min'].plot(ax=axes[0], sharex=True)\n",
    "fast_df_sos_30min[['u_30min','v_30min','w_30min']].plot(ax=axes[1])\n",
    "axes[0].grid(axis='x')  # Add grid lines only for the x-axis\n",
    "axes[1].grid(axis='x')  # Add grid lines only for the x-axis\n",
    "plt.show()"
   ]
  },
  {
   "cell_type": "markdown",
   "metadata": {},
   "source": [
    "Apply double rotation to 3hr chunks"
   ]
  },
  {
   "cell_type": "code",
   "execution_count": null,
   "metadata": {},
   "outputs": [],
   "source": [
    "fast_df_sos = fast_df_sos.groupby(pd.Grouper(freq='180min')).apply(lambda df: FastDataSAIL.double_rotation(df, 'u', 'v', 'w'))"
   ]
  },
  {
   "cell_type": "code",
   "execution_count": null,
   "metadata": {},
   "outputs": [],
   "source": [
    "fast_df_sos.index = fast_df_sos.index.get_level_values(1)"
   ]
  },
  {
   "cell_type": "code",
   "execution_count": null,
   "metadata": {},
   "outputs": [],
   "source": [
    "fast_df_sos['u'] = fast_df_sos['u'].interpolate()\n",
    "fast_df_sos['v'] = fast_df_sos['v'].interpolate()\n",
    "fast_df_sos['w'] = fast_df_sos['w'].interpolate()"
   ]
  },
  {
   "cell_type": "markdown",
   "metadata": {},
   "source": [
    "Calculate MRD"
   ]
  },
  {
   "cell_type": "code",
   "execution_count": null,
   "metadata": {},
   "outputs": [],
   "source": [
    "mrd_uw_sos = fast_df_sos.groupby(pd.Grouper(freq='180min'))[['u', 'v', 'w']].apply(\n",
    "    lambda df: calculate_mrd_for_df(df.reset_index(), 'u', 'w', shift=2000, parallelism=20).assign(hour_group = f\"{df.index.min()} - {df.index.max()}\")\n",
    ")"
   ]
  },
  {
   "cell_type": "code",
   "execution_count": null,
   "metadata": {},
   "outputs": [],
   "source": [
    "mrd_uw_sos.hour_group = mrd_uw_sos.hour_group.str.replace('2023-04-09 ', '')"
   ]
  },
  {
   "cell_type": "code",
   "execution_count": null,
   "metadata": {},
   "outputs": [],
   "source": [
    "alt.Chart(mrd_uw_sos.reset_index()).mark_boxplot(size=10, outliers=False).encode(\n",
    "    alt.X('tau:Q').scale(type='log'),\n",
    "    alt.Y('Co:Q'),\n",
    "    alt.Column('hour_group'),\n",
    ").properties(width=200, height=200)"
   ]
  },
  {
   "cell_type": "code",
   "execution_count": null,
   "metadata": {},
   "outputs": [],
   "source": []
  }
 ],
 "metadata": {
  "kernelspec": {
   "display_name": "arm",
   "language": "python",
   "name": "python3"
  },
  "language_info": {
   "codemirror_mode": {
    "name": "ipython",
    "version": 3
   },
   "file_extension": ".py",
   "mimetype": "text/x-python",
   "name": "python",
   "nbconvert_exporter": "python",
   "pygments_lexer": "ipython3",
   "version": "3.12.5"
  },
  "orig_nbformat": 4,
  "vscode": {
   "interpreter": {
    "hash": "e2b11a00ad1b97cabcd9cc9209b8824a0fcaf6ffe37b5243943912873b5dcab1"
   }
  }
 },
 "nbformat": 4,
 "nbformat_minor": 2
}
