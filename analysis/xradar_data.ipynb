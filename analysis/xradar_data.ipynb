{
 "cells": [
  {
   "cell_type": "code",
   "execution_count": 1,
   "metadata": {},
   "outputs": [
    {
     "name": "stdout",
     "output_type": "stream",
     "text": [
      "\n",
      "## You are using the Python ARM Radar Toolkit (Py-ART), an open source\n",
      "## library for working with weather radar data. Py-ART is partly\n",
      "## supported by the U.S. Department of Energy as part of the Atmospheric\n",
      "## Radiation Measurement (ARM) Climate Research Facility, an Office of\n",
      "## Science user facility.\n",
      "##\n",
      "## If you use this software to prepare a publication, please cite:\n",
      "##\n",
      "##     JJ Helmus and SM Collis, JORS 2016, doi: 10.5334/jors.119\n",
      "\n"
     ]
    },
    {
     "name": "stderr",
     "output_type": "stream",
     "text": [
      "<frozen importlib._bootstrap>:283: DeprecationWarning: the load_module() method is deprecated and slated for removal in Python 3.12; use exec_module() instead\n"
     ]
    }
   ],
   "source": [
    "import numpy as np\n",
    "import pandas as pd\n",
    "pd.set_option('display.max_rows', 500)\n",
    "pd.set_option('display.max_columns', 500)\n",
    "\n",
    "import altair as alt\n",
    "alt.data_transformers.disable_max_rows()\n",
    "\n",
    "import glob\n",
    "import datetime\n",
    "import seaborn as sns\n",
    "import matplotlib.pyplot as plt\n",
    "\n",
    "import act\n",
    "import pyart"
   ]
  },
  {
   "cell_type": "code",
   "execution_count": 2,
   "metadata": {},
   "outputs": [],
   "source": [
    "radar_dir = '/Users/elischwat/Downloads/ftp2.archive.arm.gov/schwate1/'\n",
    "radar_rhi_files = glob.glob(radar_dir + '*/*RHI.nc', recursive=True)\n",
    "sites = 'kettle ponds'\n",
    "lons = [-106.9731488] \n",
    "lats = [38.9415427]"
   ]
  },
  {
   "cell_type": "code",
   "execution_count": 3,
   "metadata": {},
   "outputs": [
    {
     "data": {
      "text/plain": [
       "0"
      ]
     },
     "execution_count": 3,
     "metadata": {},
     "output_type": "execute_result"
    }
   ],
   "source": [
    "len(radar_rhi_files)"
   ]
  },
  {
   "cell_type": "code",
   "execution_count": 4,
   "metadata": {},
   "outputs": [],
   "source": [
    "def subset_points(file, lats, lons, sites):\n",
    "    \"\"\"Subset a radar file for a set of latitudes and longitudes\"\"\"\n",
    "    \n",
    "    # Read in the file\n",
    "    radar = pyart.io.read(file)\n",
    "    \n",
    "    column_list = []\n",
    "    for lat, lon in zip(lats, lons):\n",
    "        # Make sure we are interpolating from the radar's location above sea level\n",
    "        # NOTE: interpolating throughout Troposphere to match sonde to in the future\n",
    "        da = pyart.util.columnsect.get_field_location(radar, lat, lon).interp(height=np.arange(np.round(radar.altitude['data'][0]), 10100, 100))\n",
    "        # Add the latitude and longitude of the extracted column\n",
    "        da[\"latitude\"], da[\"longitude\"] = lat, lon\n",
    "        # Time is based off the start of the radar volume\n",
    "        dt = pd.to_datetime(radar.time[\"data\"], unit='s')[-1]\n",
    "        da[\"time\"] = [dt]\n",
    "        column_list.append(da)\n",
    "    # Concatenate the extracted radar columns for this scan across all sites    \n",
    "    ds = xr.concat(column_list, dim='site')\n",
    "    ds[\"site\"] = sites\n",
    "    # Add attributes for Time, Latitude, Longitude, and Sites\n",
    "    ds.time.attrs.update(long_name=('Time in Seconds that Cooresponds to the Start'\n",
    "                                    + \" of each Individual Radar Volume Scan before\"\n",
    "                                    + \" Concatenation\"),\n",
    "                         description=('Time in Seconds that Cooresponds to the Minimum'\n",
    "                                      + ' Height Gate'))\n",
    "    ds.site.attrs.update(long_name=\"SAIL/SPLASH In-Situ Ground Observation Site Identifers\")\n",
    "    ds.latitude.attrs.update(long_name='Latitude of SAIL Ground Observation Site',\n",
    "                             units='Degrees North')\n",
    "    ds.longitude.attrs.update(long_name='Longitude of SAIL Ground Observation Site',\n",
    "                             units='Degrees East')\n",
    "    return ds"
   ]
  },
  {
   "cell_type": "code",
   "execution_count": 5,
   "metadata": {},
   "outputs": [
    {
     "data": {
      "text/plain": [
       "0"
      ]
     },
     "execution_count": 5,
     "metadata": {},
     "output_type": "execute_result"
    }
   ],
   "source": [
    "len(radar_rhi_files[:])"
   ]
  },
  {
   "cell_type": "code",
   "execution_count": 6,
   "metadata": {},
   "outputs": [],
   "source": [
    "successes = 0\n",
    "failures = 0\n",
    "ds_list = []\n",
    "for file in radar_rhi_files[:]:\n",
    "    try:\n",
    "        ds_list.append(subset_points(file, lats, lons, sites))\n",
    "        successes += 1\n",
    "    except Exception as exc:\n",
    "        failures += 1"
   ]
  },
  {
   "cell_type": "code",
   "execution_count": 7,
   "metadata": {},
   "outputs": [
    {
     "data": {
      "text/plain": [
       "(0, 0)"
      ]
     },
     "execution_count": 7,
     "metadata": {},
     "output_type": "execute_result"
    }
   ],
   "source": [
    "successes, failures"
   ]
  },
  {
   "cell_type": "code",
   "execution_count": null,
   "metadata": {},
   "outputs": [],
   "source": []
  }
 ],
 "metadata": {
  "kernelspec": {
   "display_name": "Python 3.10.6 ('arm')",
   "language": "python",
   "name": "python3"
  },
  "language_info": {
   "codemirror_mode": {
    "name": "ipython",
    "version": 3
   },
   "file_extension": ".py",
   "mimetype": "text/x-python",
   "name": "python",
   "nbconvert_exporter": "python",
   "pygments_lexer": "ipython3",
   "version": "3.10.6"
  },
  "orig_nbformat": 4,
  "vscode": {
   "interpreter": {
    "hash": "13a413bc7e9cd82296e94acd9378b4c53143c3bc01ba1cbb2adffa9636288273"
   }
  }
 },
 "nbformat": 4,
 "nbformat_minor": 2
}
