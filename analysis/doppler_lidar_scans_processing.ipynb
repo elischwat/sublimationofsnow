{
 "cells": [
  {
   "cell_type": "code",
   "execution_count": 2,
   "metadata": {},
   "outputs": [],
   "source": [
    "import numpy as np\n",
    "import pandas as pd\n",
    "pd.set_option('display.max_columns', 500)\n",
    "pd.set_option('display.max_rows', 10000)\n",
    "\n",
    "\n",
    "import altair as alt\n",
    "alt.data_transformers.disable_max_rows()\n",
    "\n",
    "import glob\n",
    "import datetime\n",
    "import seaborn as sns\n",
    "import matplotlib.pyplot as pltki\n",
    "\n",
    "import act\n",
    "import pyart\n",
    "import xarray as xr\n",
    "import os"
   ]
  },
  {
   "cell_type": "code",
   "execution_count": 3,
   "metadata": {},
   "outputs": [],
   "source": [
    "username = os.getenv(\"ARM_USERNAME\")\n",
    "token = os.getenv(\"ARM_TOKEN\")"
   ]
  },
  {
   "cell_type": "markdown",
   "metadata": {},
   "source": [
    "# Identify datastreams"
   ]
  },
  {
   "cell_type": "code",
   "execution_count": 4,
   "metadata": {},
   "outputs": [],
   "source": [
    "# ppi:  Single-pass full-360o plan position indicator scan \n",
    "# ppi2: Single- or multi-pass full or limited sector plan position indicator scan \n",
    "# rhi:  Single-pass full-180o range height indicator scan \n",
    "# rhi2: Single- or multi-pass full or limited sector range height indicator scan\n",
    "ds_dl_ppi = 'gucdlppiM1.b1'\n",
    "ds_dl_rhi = 'gucdlrhiM1.b1'\n",
    "ds_dl_rhi2 = 'gucdlrhi2M1.b1'\n",
    "\n",
    "startdate = '2022-10-31'\n",
    "enddate = '2022-11-04'"
   ]
  },
  {
   "cell_type": "markdown",
   "metadata": {},
   "source": [
    "# Download datasets"
   ]
  },
  {
   "cell_type": "code",
   "execution_count": null,
   "metadata": {},
   "outputs": [],
   "source": [
    "\n",
    "\n",
    "act.discovery.download_data(username, token, 'dlprofwind4news', startdate, enddate)"
   ]
  },
  {
   "cell_type": "code",
   "execution_count": null,
   "metadata": {},
   "outputs": [],
   "source": [
    "act.discovery.download_data(username, token, ds_dl_ppi, startdate, enddate)\n",
    "act.discovery.download_data(username, token, ds_dl_rhi, startdate, enddate)\n",
    "act.discovery.download_data(username, token, ds_dl_rhi2, startdate, enddate)"
   ]
  },
  {
   "cell_type": "code",
   "execution_count": 5,
   "metadata": {},
   "outputs": [],
   "source": [
    "dl_ppi_files = glob.glob(''.join(['./',ds_dl_ppi,'/*cdf']))\n",
    "dl_rhi_files = glob.glob(''.join(['./',ds_dl_rhi,'/*cdf']))\n",
    "dl_rhi2_files = glob.glob(''.join(['./',ds_dl_rhi2,'/*cdf']))"
   ]
  },
  {
   "cell_type": "code",
   "execution_count": 6,
   "metadata": {},
   "outputs": [],
   "source": [
    "dl_rhi = act.io.armfiles.read_netcdf(dl_rhi_files)"
   ]
  },
  {
   "cell_type": "code",
   "execution_count": 7,
   "metadata": {},
   "outputs": [],
   "source": [
    "dl_ppi = act.io.armfiles.read_netcdf(dl_ppi_files)\n"
   ]
  },
  {
   "cell_type": "markdown",
   "metadata": {},
   "source": [
    "Reading RHI2 scans with act library fails because there are no RHI2 scans"
   ]
  },
  {
   "cell_type": "code",
   "execution_count": 8,
   "metadata": {},
   "outputs": [
    {
     "ename": "OSError",
     "evalue": "no files to open",
     "output_type": "error",
     "traceback": [
      "\u001b[0;31m---------------------------------------------------------------------------\u001b[0m",
      "\u001b[0;31mOSError\u001b[0m                                   Traceback (most recent call last)",
      "Cell \u001b[0;32mIn [8], line 1\u001b[0m\n\u001b[0;32m----> 1\u001b[0m dl_rhi2 \u001b[39m=\u001b[39m act\u001b[39m.\u001b[39;49mio\u001b[39m.\u001b[39;49marmfiles\u001b[39m.\u001b[39;49mread_netcdf(dl_rhi2_files)\n",
      "File \u001b[0;32m~/mambaforge/envs/arm/lib/python3.10/site-packages/act/io/armfiles.py:122\u001b[0m, in \u001b[0;36mread_netcdf\u001b[0;34m(filenames, concat_dim, return_None, combine, use_cftime, cftime_to_datetime64, combine_attrs, cleanup_qc, keep_variables, **kwargs)\u001b[0m\n\u001b[1;32m    118\u001b[0m     except_tuple \u001b[39m=\u001b[39m except_tuple \u001b[39m+\u001b[39m (\u001b[39mFileNotFoundError\u001b[39;00m, \u001b[39mOSError\u001b[39;00m)\n\u001b[1;32m    120\u001b[0m \u001b[39mtry\u001b[39;00m:\n\u001b[1;32m    121\u001b[0m     \u001b[39m# Read data file with Xarray function\u001b[39;00m\n\u001b[0;32m--> 122\u001b[0m     ds \u001b[39m=\u001b[39m xr\u001b[39m.\u001b[39;49mopen_mfdataset(filenames, \u001b[39m*\u001b[39;49m\u001b[39m*\u001b[39;49mkwargs)\n\u001b[1;32m    124\u001b[0m \u001b[39mexcept\u001b[39;00m except_tuple \u001b[39mas\u001b[39;00m exception:\n\u001b[1;32m    125\u001b[0m     \u001b[39m# If requested return None for File not found error\u001b[39;00m\n\u001b[1;32m    126\u001b[0m     \u001b[39mif\u001b[39;00m \u001b[39mtype\u001b[39m(exception)\u001b[39m.\u001b[39m\u001b[39m__name__\u001b[39m \u001b[39m==\u001b[39m \u001b[39m'\u001b[39m\u001b[39mFileNotFoundError\u001b[39m\u001b[39m'\u001b[39m:\n",
      "File \u001b[0;32m~/mambaforge/envs/arm/lib/python3.10/site-packages/xarray/backends/api.py:961\u001b[0m, in \u001b[0;36mopen_mfdataset\u001b[0;34m(paths, chunks, concat_dim, compat, preprocess, engine, data_vars, coords, combine, parallel, join, attrs_file, combine_attrs, **kwargs)\u001b[0m\n\u001b[1;32m    958\u001b[0m     paths \u001b[39m=\u001b[39m [os\u001b[39m.\u001b[39mfspath(p) \u001b[39mif\u001b[39;00m \u001b[39misinstance\u001b[39m(p, os\u001b[39m.\u001b[39mPathLike) \u001b[39melse\u001b[39;00m p \u001b[39mfor\u001b[39;00m p \u001b[39min\u001b[39;00m paths]\n\u001b[1;32m    960\u001b[0m \u001b[39mif\u001b[39;00m \u001b[39mnot\u001b[39;00m paths:\n\u001b[0;32m--> 961\u001b[0m     \u001b[39mraise\u001b[39;00m \u001b[39mOSError\u001b[39;00m(\u001b[39m\"\u001b[39m\u001b[39mno files to open\u001b[39m\u001b[39m\"\u001b[39m)\n\u001b[1;32m    963\u001b[0m \u001b[39mif\u001b[39;00m combine \u001b[39m==\u001b[39m \u001b[39m\"\u001b[39m\u001b[39mnested\u001b[39m\u001b[39m\"\u001b[39m:\n\u001b[1;32m    964\u001b[0m     \u001b[39mif\u001b[39;00m \u001b[39misinstance\u001b[39m(concat_dim, (\u001b[39mstr\u001b[39m, DataArray)) \u001b[39mor\u001b[39;00m concat_dim \u001b[39mis\u001b[39;00m \u001b[39mNone\u001b[39;00m:\n",
      "\u001b[0;31mOSError\u001b[0m: no files to open"
     ]
    }
   ],
   "source": [
    "dl_rhi2 = act.io.armfiles.read_netcdf(dl_rhi2_files)"
   ]
  },
  {
   "cell_type": "markdown",
   "metadata": {},
   "source": [
    "# Examine RHI data"
   ]
  },
  {
   "cell_type": "code",
   "execution_count": 9,
   "metadata": {},
   "outputs": [],
   "source": [
    "src_rhi = dl_rhi.to_dataframe().reset_index()"
   ]
  },
  {
   "cell_type": "code",
   "execution_count": 10,
   "metadata": {},
   "outputs": [
    {
     "data": {
      "text/plain": [
       "(34837, 400, 13229, 2)"
      ]
     },
     "execution_count": 10,
     "metadata": {},
     "output_type": "execute_result"
    }
   ],
   "source": [
    "(\n",
    "    len(src_rhi['time'].unique()), \n",
    "    len(src_rhi['range'].unique()), \n",
    "    len(src_rhi['elevation'].unique()), \n",
    "    len(src_rhi['azimuth'].unique())\n",
    ")"
   ]
  },
  {
   "cell_type": "code",
   "execution_count": 17,
   "metadata": {},
   "outputs": [
    {
     "data": {
      "text/plain": [
       "2"
      ]
     },
     "execution_count": 17,
     "metadata": {},
     "output_type": "execute_result"
    }
   ],
   "source": [
    "(\n",
    "    # len(src_rhi['elevation'].unique()), \n",
    "    len(src_rhi['azimuth'].unique())\n",
    ")"
   ]
  },
  {
   "cell_type": "markdown",
   "metadata": {},
   "source": [
    "43561 timestamps over multiple days  (based on our query)\n",
    "\n",
    "400 discrete range values\n",
    "\n",
    "13866 discrete elevation angles\n",
    "\n",
    "2 azimuth directions (0, 270)"
   ]
  },
  {
   "cell_type": "code",
   "execution_count": null,
   "metadata": {},
   "outputs": [],
   "source": [
    "(\n",
    "    src_rhi['time'].unique(), \n",
    "    src_rhi['range'].unique(), \n",
    "    src_rhi['elevation'].unique(), \n",
    "    src_rhi['azimuth'].unique()\n",
    ")"
   ]
  },
  {
   "cell_type": "markdown",
   "metadata": {},
   "source": [
    "## RHI: convert polar coordinates to rectangular coords with the radar at (0,0)"
   ]
  },
  {
   "cell_type": "code",
   "execution_count": null,
   "metadata": {},
   "outputs": [],
   "source": [
    "src_rhi['x'] = src_rhi['range']*np.cos(np.deg2rad(src_rhi['elevation']))\n",
    "src_rhi['z'] = src_rhi['range']*np.sin(np.deg2rad(src_rhi['elevation']))"
   ]
  },
  {
   "cell_type": "markdown",
   "metadata": {},
   "source": [
    "## Plot hourly RHI scans (azimuth == 0)"
   ]
  },
  {
   "cell_type": "code",
   "execution_count": null,
   "metadata": {},
   "outputs": [],
   "source": [
    "src_rhi['date'] = src_rhi['time'].dt.date"
   ]
  },
  {
   "cell_type": "code",
   "execution_count": null,
   "metadata": {},
   "outputs": [],
   "source": [
    "src = src_rhi[src_rhi['azimuth'] == 0]\n",
    "\n",
    "plot_hours = [0,4,8,12,16,20]\n",
    "plot_days = sorted(src_rhi['date'].unique())\n",
    "\n",
    "fig, axes = plt.subplots(\n",
    "    len(src_rhi['date'].unique()), \n",
    "    len(plot_hours), \n",
    "    figsize=(20,10), \n",
    "    sharex=True, sharey=True\n",
    ")\n",
    "\n",
    "for i_day, day in enumerate(plot_days):\n",
    "    for i,hr in enumerate(plot_hours):\n",
    "        local_src = src[ (src['date'] == day) & (src['time'].dt.hour == hr)]\n",
    "        ax = axes[i_day][i]\n",
    "        hexplot = ax.hexbin(local_src['x'], local_src['z'], C=local_src['radial_velocity'], cmap='RdYlBu')\n",
    "        ax.annotate(str(hr), xy=(-12000, 11000))\n",
    "    plt.tight_layout()\n",
    "    plt.colorbar(hexplot)"
   ]
  },
  {
   "cell_type": "markdown",
   "metadata": {},
   "source": [
    "## Plot hourly RHI scans (azimuth == 270)"
   ]
  },
  {
   "cell_type": "code",
   "execution_count": null,
   "metadata": {},
   "outputs": [],
   "source": [
    "src = src_rhi[src_rhi['azimuth'] == 270]\n",
    "\n",
    "plot_hours = [0,4,8,12,16,20]\n",
    "plot_days = sorted(src_rhi['date'].unique())\n",
    "\n",
    "fig, axes = plt.subplots(\n",
    "    len(src_rhi['date'].unique()), \n",
    "    len(plot_hours), \n",
    "    figsize=(20,10), \n",
    "    sharex=True, sharey=True\n",
    ")\n",
    "\n",
    "for i_day, day in enumerate(plot_days):\n",
    "    for i,hr in enumerate(plot_hours):\n",
    "        local_src = src[ (src['date'] == day) & (src['time'].dt.hour == hr)]\n",
    "        ax = axes[i_day][i]\n",
    "        hexplot = ax.hexbin(local_src['x'], local_src['z'], C=local_src['radial_velocity'], cmap='RdYlBu')\n",
    "        ax.annotate(str(hr), xy=(-12000, 11000))\n",
    "    plt.tight_layout()\n",
    "    plt.colorbar(hexplot)"
   ]
  },
  {
   "cell_type": "markdown",
   "metadata": {},
   "source": [
    "# Examine PPI data"
   ]
  },
  {
   "cell_type": "markdown",
   "metadata": {},
   "source": [
    "## By using xarray DIRECTLY"
   ]
  },
  {
   "cell_type": "code",
   "execution_count": null,
   "metadata": {},
   "outputs": [],
   "source": [
    "dl_ppi_files[:5], dl_ppi_files[-5:]"
   ]
  },
  {
   "cell_type": "code",
   "execution_count": null,
   "metadata": {},
   "outputs": [],
   "source": [
    "df = xr.open_dataset(dl_ppi_files[0]).to_dataframe().reset_index()"
   ]
  },
  {
   "cell_type": "code",
   "execution_count": null,
   "metadata": {},
   "outputs": [],
   "source": [
    "dl_ppi.time.max(), dl_ppi.time.min()"
   ]
  },
  {
   "cell_type": "markdown",
   "metadata": {},
   "source": [
    "## By using the ACT library to compute vertical wind profiles"
   ]
  },
  {
   "cell_type": "code",
   "execution_count": null,
   "metadata": {},
   "outputs": [],
   "source": [
    "len(dl_ppi[dict(range=slice(0, 2))].to_dataframe()), len(dl_ppi.to_dataframe())"
   ]
  },
  {
   "cell_type": "markdown",
   "metadata": {},
   "source": [
    "### Limit range values so that computing winds doesn't take so long"
   ]
  },
  {
   "cell_type": "code",
   "execution_count": null,
   "metadata": {},
   "outputs": [],
   "source": [
    "dl_ppi_slice = dl_ppi[dict(range=slice(0, 4))].sel(\n",
    "    time=slice(datetime.datetime(2022,11,2,4), datetime.datetime(2022,11,2,16))\n",
    ")"
   ]
  },
  {
   "cell_type": "code",
   "execution_count": null,
   "metadata": {},
   "outputs": [],
   "source": [
    "# Calculate the winds from the gucdlppi dataset.\n",
    "wind_obj_sliced = act.retrievals.compute_winds_from_ppi(\n",
    "    dl_ppi_slice,\n",
    "    remove_all_missing=True, \n",
    "    snr_threshold=0.002\n",
    ")"
   ]
  },
  {
   "cell_type": "code",
   "execution_count": null,
   "metadata": {},
   "outputs": [],
   "source": [
    "wind_obj_sliced.to_dataframe()"
   ]
  },
  {
   "cell_type": "code",
   "execution_count": null,
   "metadata": {},
   "outputs": [],
   "source": [
    "alt.Chart(\n",
    "    wind_obj_sliced.to_dataframe().reset_index()\n",
    ").mark_point(shape=\"wedge\", filled=True).encode(\n",
    "    alt.X('time:T'),\n",
    "    alt.Y('height:Q'),\n",
    "    # color=alt.Color(\n",
    "    #     \"wind direction\", scale=alt.Scale(domain=[0, 360], scheme=\"rainbow\"), legend=None\n",
    "    # ),\n",
    "    angle=alt.Angle(\"wind_direction\", scale=alt.Scale(domain=[0, 360], range=[180, 540])),\n",
    "    size=alt.Size(\"wind_speed\", scale=alt.Scale(rangeMax=2000, rangeMin=250), title='Wind Speed (m/s)'),\n",
    ").properties(\n",
    "    width=1000,\n",
    "    height=200\n",
    ")"
   ]
  },
  {
   "cell_type": "code",
   "execution_count": null,
   "metadata": {},
   "outputs": [],
   "source": [
    "(\n",
    "    alt.Chart(\n",
    "        wind_obj_sliced.to_dataframe().reset_index()\n",
    "    ).mark_line().encode(\n",
    "        alt.X('time:T'),\n",
    "        alt.Y('wind_direction:Q', title='Wind Direction'),\n",
    "        alt.Color('height:N')\n",
    "    ).properties(width=1000, height=200)\n",
    "&\n",
    "    alt.Chart(\n",
    "        wind_obj_sliced.to_dataframe().reset_index()\n",
    "    ).transform_window(\n",
    "        rolling_mean='mean(wind_direction)',\n",
    "        frame=[-4, 4],\n",
    "        groupby=['height']\n",
    "    ).mark_line().encode(\n",
    "        alt.X('time:T'),\n",
    "        alt.Y('rolling_mean:Q'),\n",
    "        alt.Color('height:N')\n",
    "    ).properties(width=1000, height=200)\n",
    ")"
   ]
  },
  {
   "cell_type": "markdown",
   "metadata": {},
   "source": [
    "### For all range values"
   ]
  },
  {
   "cell_type": "code",
   "execution_count": null,
   "metadata": {},
   "outputs": [],
   "source": [
    "# Calculate the winds from the gucdlppi dataset.\n",
    "wind_obj = act.retrievals.compute_winds_from_ppi(\n",
    "    dl_ppi, remove_all_missing=True, snr_threshold=0.002)"
   ]
  },
  {
   "cell_type": "code",
   "execution_count": null,
   "metadata": {},
   "outputs": [],
   "source": [
    "ppi_calc_winds_df = wind_obj.to_dataframe()"
   ]
  },
  {
   "cell_type": "code",
   "execution_count": null,
   "metadata": {},
   "outputs": [],
   "source": [
    "src = ppi_calc_winds_df.query(\"height < 100\")"
   ]
  },
  {
   "cell_type": "code",
   "execution_count": null,
   "metadata": {},
   "outputs": [],
   "source": [
    "alt.Chart(src.reset_index()).transform_window(\n",
    "    rolling_mean='mean(wind_direction)',\n",
    "    frame=[-4, 4],\n",
    "    groupby=['height']\n",
    ").mark_line().encode(\n",
    "    alt.X('time:T'),\n",
    "    alt.Y('rolling_mean:Q'),\n",
    "    alt.Color('height:N')\n",
    ").properties(width=1000)\n"
   ]
  },
  {
   "cell_type": "code",
   "execution_count": null,
   "metadata": {},
   "outputs": [],
   "source": [
    "alt.Chart(src.reset_index()).mark_line().encode(\n",
    "    alt.X('time:T'),\n",
    "    alt.Y('wind_direction'),\n",
    "    alt.Color('height:N')\n",
    ").properties(width=1400)"
   ]
  },
  {
   "cell_type": "code",
   "execution_count": null,
   "metadata": {},
   "outputs": [],
   "source": [
    "# Create a display object.\n",
    "display = act.plotting.TimeSeriesDisplay(\n",
    "    {\"GUC DLPPI Computed Winds over KAZR\": wind_obj,\n",
    "     }, figsize=(20, 10))\n",
    "\n",
    "display.plot_barbs_from_spd_dir('wind_speed', 'wind_direction',\n",
    "                                dsname='GUC DLPPI Computed Winds over KAZR',\n",
    "                                invert_y_axis=False)\n",
    "\n",
    "# Update the x-limits to make sure both wind profiles are shown\n",
    "display.axes[0].set_xlim([np.datetime64('2022-08-01T22:10'), np.datetime64('2022-08-01T23:50')])\n",
    "plt.show()"
   ]
  },
  {
   "cell_type": "code",
   "execution_count": null,
   "metadata": {},
   "outputs": [],
   "source": [
    "(\n",
    "    len(ppi_calc_winds_df['time'].unique()), \n",
    "    len(ppi_calc_winds_df['height'].unique()), \n",
    "),(\n",
    "    ppi_calc_winds_df['time'].unique(), \n",
    "    ppi_calc_winds_df['height'].unique(), \n",
    ")"
   ]
  },
  {
   "cell_type": "code",
   "execution_count": null,
   "metadata": {},
   "outputs": [],
   "source": []
  },
  {
   "cell_type": "markdown",
   "metadata": {},
   "source": [
    "8 timestamps over ~36 seconds, every ~5 seconds\n",
    "\n",
    "400 discrete range values\n",
    "\n",
    "1 elevation angle\n",
    "\n",
    "8 azimuth directions (259.1, 304.1, 349.1,  34.100006,  79.100006, 124.100006, 169.09998 , 214.09998)"
   ]
  },
  {
   "cell_type": "code",
   "execution_count": null,
   "metadata": {},
   "outputs": [],
   "source": [
    "(\n",
    "    len(df['time'].unique()), \n",
    "    len(df['range'].unique()), \n",
    "    len(df['elevation'].unique()), \n",
    "    len(df['azimuth'].unique())\n",
    "),(\n",
    "    df['time'].unique(), \n",
    "    df['range'].unique(), \n",
    "    df['elevation'].unique(), \n",
    "    df['azimuth'].unique()\n",
    ")"
   ]
  },
  {
   "cell_type": "code",
   "execution_count": null,
   "metadata": {},
   "outputs": [],
   "source": [
    "df['azimuth'].unique()"
   ]
  },
  {
   "cell_type": "markdown",
   "metadata": {},
   "source": [
    "# Look at XPrecip radar data, PPI"
   ]
  },
  {
   "cell_type": "code",
   "execution_count": null,
   "metadata": {},
   "outputs": [],
   "source": [
    "df2 = xr.open_dataset('/Users/elischwat/Downloads/gucxprecipradarS2.00.20221030.000005.raw.nc/gucxprecipradarS2.00.20221030.000130.raw.csu.sail-20221030-000130_702887_22_1_PPI.nc').to_dataframe()"
   ]
  },
  {
   "cell_type": "markdown",
   "metadata": {},
   "source": [
    "from \n",
    "\n",
    "https://cookbooks.projectpythia.org/radar-cookbook/notebooks/foundations/pyart-gridding.html"
   ]
  },
  {
   "cell_type": "code",
   "execution_count": null,
   "metadata": {},
   "outputs": [],
   "source": [
    "radar = pyart.io.read('/Users/elischwat/Downloads/gucxprecipradarS2.00.20221030.000005.raw.nc/gucxprecipradarS2.00.20221030.000130.raw.csu.sail-20221030-000130_702887_22_1_PPI.nc')\n",
    "print(radar.scan_type)"
   ]
  },
  {
   "cell_type": "code",
   "execution_count": null,
   "metadata": {},
   "outputs": [],
   "source": [
    "fig = plt.figure(figsize=[10, 10])\n",
    "display = pyart.graph.RadarMapDisplay(radar)\n",
    "radar.fields.keys()"
   ]
  },
  {
   "cell_type": "code",
   "execution_count": null,
   "metadata": {},
   "outputs": [],
   "source": [
    "display.plot_ppi('DBZ')"
   ]
  },
  {
   "cell_type": "markdown",
   "metadata": {},
   "source": [
    "# Look at XPrecip radar data, RHI"
   ]
  },
  {
   "cell_type": "code",
   "execution_count": null,
   "metadata": {},
   "outputs": [],
   "source": [
    "# Explore files\n",
    "\n",
    "radar = pyart.io.read('/Users/elischwat/Downloads/gucxprecipradarS2.00.20221030.000005.raw.nc/gucxprecipradarS2.00.20221030.000005.raw.csu.sail-20221030-000005_702875_22_326_RHI.nc')\n",
    "print(radar.scan_type)\n",
    "\n",
    "fig = plt.figure(figsize=[10, 10])\n",
    "display = pyart.graph.RadarMapDisplay(radar)\n",
    "radar.fields.keys()"
   ]
  },
  {
   "cell_type": "code",
   "execution_count": null,
   "metadata": {},
   "outputs": [],
   "source": [
    "display.plot_rhi('DBZ')"
   ]
  },
  {
   "cell_type": "code",
   "execution_count": null,
   "metadata": {},
   "outputs": [],
   "source": []
  }
 ],
 "metadata": {
  "kernelspec": {
   "display_name": "arm",
   "language": "python",
   "name": "python3"
  },
  "language_info": {
   "codemirror_mode": {
    "name": "ipython",
    "version": 3
   },
   "file_extension": ".py",
   "mimetype": "text/x-python",
   "name": "python",
   "nbconvert_exporter": "python",
   "pygments_lexer": "ipython3",
   "version": "3.10.6 | packaged by conda-forge | (main, Aug 22 2022, 20:43:44) [Clang 13.0.1 ]"
  },
  "orig_nbformat": 4,
  "vscode": {
   "interpreter": {
    "hash": "13a413bc7e9cd82296e94acd9378b4c53143c3bc01ba1cbb2adffa9636288273"
   }
  }
 },
 "nbformat": 4,
 "nbformat_minor": 2
}
