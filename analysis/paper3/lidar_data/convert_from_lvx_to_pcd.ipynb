{
 "cells": [
  {
   "cell_type": "code",
   "execution_count": 4,
   "metadata": {},
   "outputs": [],
   "source": [
    "import correct_lidar\n",
    "import open3d as o3d\n",
    "from pyntcloud import PyntCloud\n",
    "# transform \n",
    "import numpy as np\n",
    "import matplotlib.pyplot as plt\n",
    "# from open3d import JVisualizer\n",
    "import glob\n",
    "import rasterio as rio"
   ]
  },
  {
   "cell_type": "code",
   "execution_count": 2,
   "metadata": {},
   "outputs": [],
   "source": [
    "files = sorted(\n",
    "    # \"/Users/elischwa/Downloads/lidar_20230510/2023-05-10_00-00-13.lvx\"\n",
    "    # \"/Users/elischwat/Development/data/sublimationofsnow/lidar_raw/l5/2023-05-17/2023-05-17_00-00-14.lvx\"\n",
    "    glob.glob( \"/Users/elischwat/Development/data/sublimationofsnow/lidar_raw/l6/2023-05-17/**.lvx\")\n",
    ")\n",
    "files = [f for f in files if f[-9:-7] in ['00', '30']]\n",
    "output_dir = \"/Users/elischwat/Downloads/lidar_20230510_pcd/l6\"\n",
    "LIDAR = \"l6\""
   ]
  },
  {
   "cell_type": "code",
   "execution_count": 3,
   "metadata": {},
   "outputs": [],
   "source": [
    "for file in files:\n",
    "    points = correct_lidar.load_first_file(LIDAR, file_search=file)\n",
    "    pcd = o3d.geometry.PointCloud()\n",
    "    pcd.points = o3d.utility.Vector3dVector(points.T)\n",
    "    o3d.io.write_point_cloud(\n",
    "        filename=os.path.join(output_dir, os.path.basename(file).replace('.lvx', '.ply')),\n",
    "        pointcloud=pcd,\n",
    "    )"
   ]
  },
  {
   "cell_type": "code",
   "execution_count": null,
   "metadata": {},
   "outputs": [],
   "source": []
  },
  {
   "cell_type": "code",
   "execution_count": null,
   "metadata": {},
   "outputs": [],
   "source": [
    "import glob\n",
    "files =sorted(glob.glob(\"/Users/elischwat/Downloads/lidar_20230510/*.lvx\"))\n",
    "files = [f for f in files if (f.split('/')[-1].split('-')[3]) in ['00', '30']]\n",
    "len(files), files[:5]"
   ]
  },
  {
   "cell_type": "code",
   "execution_count": null,
   "metadata": {},
   "outputs": [],
   "source": [
    "output_dir = \"/Users/elischwat/Downloads/lidar_20230510_pcd\"\n",
    "LIDAR = \"l2\""
   ]
  },
  {
   "cell_type": "code",
   "execution_count": null,
   "metadata": {},
   "outputs": [],
   "source": [
    "for file in files:\n",
    "    points = correct_lidar.load_first_file(LIDAR, file_search=file)\n",
    "    pcd = o3d.geometry.PointCloud()\n",
    "    pcd.points = o3d.utility.Vector3dVector(points.T)\n",
    "    o3d.io.write_point_cloud(\n",
    "        filename=os.path.join(output_dir, os.path.basename(file).replace('.lvx', '.ply')),\n",
    "        pointcloud=pcd,\n",
    "    )"
   ]
  },
  {
   "cell_type": "code",
   "execution_count": null,
   "metadata": {},
   "outputs": [],
   "source": []
  },
  {
   "cell_type": "code",
   "execution_count": null,
   "metadata": {},
   "outputs": [],
   "source": []
  },
  {
   "cell_type": "code",
   "execution_count": null,
   "metadata": {},
   "outputs": [],
   "source": [
    "\n",
    "\n",
    "o3d.visualization.draw_geometries([pcd],\n",
    "                                  zoom=0.3412,\n",
    "                                  front=[0.4257, -0.2125, -0.8795],\n",
    "                                  lookat=[2.6172, 2.0475, 1.532],\n",
    "                                  up=[-0.0694, -0.9768, 0.2024])\n",
    "\n"
   ]
  },
  {
   "cell_type": "code",
   "execution_count": null,
   "metadata": {},
   "outputs": [],
   "source": [
    "# get all files in the data/l2/snow_off directory\n",
    "files = glob.glob(\"data/l2/snow_on/*.lvx\")\n",
    "lidar = \"l2\"\n",
    "for file in files:\n",
    "    points = correct_lidar.load_first_file(lidar, file_search=file)\n",
    "    pcd = o3d.geometry.PointCloud()\n",
    "    pcd.points = o3d.utility.Vector3dVector(points.T)\n",
    "    o3d.io.write_point_cloud(filename=f\"./data/l2/snow_on/{lidar}_2022-10-23_01-00.pcd\", pointcloud=pcd)"
   ]
  },
  {
   "cell_type": "code",
   "execution_count": null,
   "metadata": {},
   "outputs": [],
   "source": [
    "points"
   ]
  },
  {
   "cell_type": "code",
   "execution_count": null,
   "metadata": {},
   "outputs": [],
   "source": [
    "points = correct_lidar.read_file(filename=f\"./data/snow_off/{lidar}_2022-10-23_*.lvx\")\n"
   ]
  },
  {
   "cell_type": "code",
   "execution_count": null,
   "metadata": {},
   "outputs": [],
   "source": [
    "points[:,:3].T"
   ]
  },
  {
   "cell_type": "code",
   "execution_count": null,
   "metadata": {},
   "outputs": [],
   "source": [
    "pcd = o3d.geometry.PointCloud()\n",
    "pcd.points = o3d.utility.Vector3dVector(points[:,:3])\n",
    "o3d.io.write_point_cloud(filename=f\"./data/snow_off/{lidar}_test.pcd\", pointcloud=pcd)"
   ]
  },
  {
   "cell_type": "code",
   "execution_count": null,
   "metadata": {},
   "outputs": [],
   "source": [
    "import rioxarray as rxr\n",
    "\n",
    "# open the raster\n",
    "raster = rxr.open_rasterio(\"data/raster.tif\", masked=True).squeeze()\n",
    "\n",
    "# print the number of nans\n",
    "print(f\"Number of NaNs: {np.isnan(raster).sum()}\")\n",
    "# print the number of non-nans\n",
    "print(f\"Number of non-NaNs: {np.count_nonzero(~np.isnan(raster))}\")\n",
    "raster.plot.imshow(\n",
    "    #increase point size\n",
    "    cmap=\"viridis\",\n",
    "    size=10,\n",
    "    aspect=1.5,\n",
    "    robust=True,\n",
    ")"
   ]
  },
  {
   "cell_type": "code",
   "execution_count": null,
   "metadata": {},
   "outputs": [],
   "source": [
    "def correct_data(points, azimuth, xoffset, yoffset, zoffset, roll=0, elevation_adjustment=0,\n",
    "                 global_adjustment=True, background_correction=None, correct_l5=False):\n",
    "    \"\"\"\n",
    "    Apply corrections to raw lidar data for known lidar positions/orientations and to correct background light effects.\n",
    "    Optionally do not reposition points into a common reference across lidars.\n",
    "    Background light correction only applied if calibration targets are specified.\n",
    "    \"\"\"\n",
    "\n",
    "    # first take out 30deg downward pointing mount for all lidars\n",
    "    if elevation_adjustment==0:\n",
    "        pr = rotate_data(v=points[:,:3].T, axis=[0, 0, 1], theta=np.deg2rad(-30.0), rotation=None)   # 31 deg\n",
    "    else:\n",
    "        pr = rotate_data(v=points[:,:3].T, axis=[0, 0, 1], theta=np.deg2rad(-30.0+elevation_adjustment), rotation=None)   # 31 deg\n",
    "\n",
    "    # Then account for mounting on a vertical mount\n",
    "    if roll==0:\n",
    "        pr = rotate_data(pr, axis=[1,0,0],theta=np.pi/2)\n",
    "    else:\n",
    "        pr = rotate_data(pr, axis=[1,0,0],theta=np.pi/2 + np.deg2rad(roll))\n",
    "\n",
    "    if correct_l5:\n",
    "        pr = update_l5(pr)\n",
    "\n",
    "    if background_correction is not None:\n",
    "        pr = correct_points_background(pr, background_correction)\n",
    "\n",
    "\n",
    "    if global_adjustment:\n",
    "        # Then rotate to a common map orientation\n",
    "        pr = rotate_data(pr, axis=[0,0,1],theta=np.deg2rad(azimuth))\n",
    "\n",
    "        # shift location based on lidar mount points\n",
    "        pr[0,:] += (xoffset - center_point[0])\n",
    "        pr[1,:] += (yoffset - center_point[1])\n",
    "        pr[2,:] += zoffset\n",
    "\n",
    "        # Then rotate to a North map orientation\n",
    "        pr = rotate_data(pr, axis=[0,0,1],theta=np.deg2rad(global_rotation))\n",
    "\n",
    "\n",
    "    return pr"
   ]
  }
 ],
 "metadata": {
  "kernelspec": {
   "display_name": "sos_env",
   "language": "python",
   "name": "python3"
  },
  "language_info": {
   "codemirror_mode": {
    "name": "ipython",
    "version": 3
   },
   "file_extension": ".py",
   "mimetype": "text/x-python",
   "name": "python",
   "nbconvert_exporter": "python",
   "pygments_lexer": "ipython3",
   "version": "3.12.5"
  }
 },
 "nbformat": 4,
 "nbformat_minor": 2
}
