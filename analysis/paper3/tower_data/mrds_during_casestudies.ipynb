{
 "cells": [
  {
   "cell_type": "code",
   "execution_count": 1,
   "metadata": {},
   "outputs": [],
   "source": [
    "import numpy as np\n",
    "import xarray as xr\n",
    "\n",
    "import datetime as dt\n",
    "import os\n",
    "import pandas as pd\n",
    "\n",
    "import matplotlib.pyplot as plt\n",
    "\n",
    "import altair as alt\n",
    "alt.data_transformers.enable('json')\n",
    "\n",
    "from sublimpy import utils\n",
    "import glob\n",
    "import pytz\n",
    "import re\n",
    "from scipy.signal import welch, csd\n",
    "from scipy.stats import chi2\n",
    "\n",
    "import sys\n",
    "sys.path.append('../../paper2/')\n",
    "from process_fast_data.fast_data_calculate_spectra_nomrd import calculate_mrd_for_df, fast_data_files_to_dataframe\n",
    "from sublimpy import extrautils"
   ]
  },
  {
   "cell_type": "code",
   "execution_count": 2,
   "metadata": {},
   "outputs": [],
   "source": [
    "# DATA_DIR = \"/storage/elilouis/sublimationofsnow/\"\n",
    "DATA_DIR = \"/Users/elischwat/Development/data/sublimationofsnow/\""
   ]
  },
  {
   "cell_type": "code",
   "execution_count": 3,
   "metadata": {},
   "outputs": [
    {
     "data": {
      "text/plain": [
       "'/Users/elischwat/Development/data/sublimationofsnow/sosqc_fast/isfs_sos_qc_geo_tiltcor_hr_v2_20230517_18.nc'"
      ]
     },
     "execution_count": 3,
     "metadata": {},
     "output_type": "execute_result"
    }
   ],
   "source": [
    "file_0517 = sorted(glob.glob(os.path.join(\n",
    "    DATA_DIR, \"sosqc_fast/isfs_sos_qc_geo_tiltcor_hr_v2_20230517*.nc\"\n",
    ")))[18]\n",
    "file_0517"
   ]
  },
  {
   "cell_type": "code",
   "execution_count": 4,
   "metadata": {},
   "outputs": [
    {
     "data": {
      "text/plain": [
       "'/Users/elischwat/Development/data/sublimationofsnow/sosqc_fast/isfs_sos_qc_geo_tiltcor_hr_v2_20230518_18.nc'"
      ]
     },
     "execution_count": 4,
     "metadata": {},
     "output_type": "execute_result"
    }
   ],
   "source": [
    "file_0518 = sorted(glob.glob(os.path.join(\n",
    "    DATA_DIR, \"sosqc_fast/isfs_sos_qc_geo_tiltcor_hr_v2_20230518*.nc\"\n",
    ")))[18]\n",
    "file_0518"
   ]
  },
  {
   "cell_type": "code",
   "execution_count": 5,
   "metadata": {},
   "outputs": [],
   "source": [
    "fast_df_0517 = fast_data_files_to_dataframe( [file_0517], rotation='none')\n",
    "fast_df_0517 = utils.modify_df_timezone(fast_df_0517, 'UTC', 'US/Mountain').set_index('time')\n",
    "\n",
    "fast_df_0518 = fast_data_files_to_dataframe( [file_0518], rotation='none')\n",
    "fast_df_0518 = utils.modify_df_timezone(fast_df_0518, 'UTC', 'US/Mountain').set_index('time')"
   ]
  },
  {
   "cell_type": "markdown",
   "metadata": {},
   "source": [
    "Apply double rotation"
   ]
  },
  {
   "cell_type": "code",
   "execution_count": 6,
   "metadata": {},
   "outputs": [],
   "source": [
    "def double_rotation(df, u_col, v_col, w_col):\n",
    "    # FIRST ROTATION\n",
    "    mean_u = df[u_col].mean()\n",
    "    mean_v = df[v_col].mean()\n",
    "    theta = np.arctan2(mean_v, mean_u)\n",
    "    adj_u = df[u_col]*np.cos(theta) + df[v_col]*np.sin(theta)\n",
    "    adj_v = -df[u_col]*np.sin(theta) + df[v_col]*np.cos(theta)\n",
    "    df[u_col] = adj_u\n",
    "    df[v_col] = adj_v\n",
    "    print(\n",
    "        'Means after 1st rotation:',\n",
    "        df[u_col].mean(),\n",
    "        df[v_col].mean(),\n",
    "        df[w_col].mean(),\n",
    "    )\n",
    "\n",
    "    # SECOND ROTATION\n",
    "    mean_u = df[u_col].mean()\n",
    "    mean_w = df[w_col].mean()\n",
    "    phi = np.arctan2(mean_w, mean_u)\n",
    "    adj_u = df[u_col]*np.cos(phi) + df[w_col]*np.sin(phi)\n",
    "    adj_w = - df[u_col]*np.sin(phi) + df[w_col]*np.cos(phi)\n",
    "    df[u_col] = adj_u\n",
    "    df[w_col] = adj_w\n",
    "    print(\n",
    "        'Means after 2nd rotation:',\n",
    "        df[u_col].mean(),\n",
    "        df[v_col].mean(),\n",
    "        df[w_col].mean(),\n",
    "    )\n",
    "    return df"
   ]
  },
  {
   "cell_type": "code",
   "execution_count": 7,
   "metadata": {},
   "outputs": [
    {
     "name": "stdout",
     "output_type": "stream",
     "text": [
      "Means after 1st rotation: 3.045368 8.138021e-08 0.018009925\n",
      "Means after 2nd rotation: 3.0454214 8.138021e-08 4.2385526e-10\n"
     ]
    }
   ],
   "source": [
    "fast_df_0517 = double_rotation(fast_df_0517, 'u_2m_c', 'v_2m_c', 'w_2m_c')\n",
    "fast_df_0517['u_2m_c'] = fast_df_0517['u_2m_c'].interpolate()\n",
    "fast_df_0517['v_2m_c'] = fast_df_0517['v_2m_c'].interpolate()\n",
    "fast_df_0517['w_2m_c'] = fast_df_0517['w_2m_c'].interpolate()\n",
    "fast_df_0517['tc_2m_c'] = fast_df_0517['tc_2m_c'].interpolate()"
   ]
  },
  {
   "cell_type": "code",
   "execution_count": 8,
   "metadata": {},
   "outputs": [
    {
     "name": "stdout",
     "output_type": "stream",
     "text": [
      "Means after 1st rotation: 7.0282445 3.797743e-07 -0.0019361756\n",
      "Means after 2nd rotation: 7.028244 3.797743e-07 1.9073487e-09\n"
     ]
    }
   ],
   "source": [
    "fast_df_0518 = double_rotation(fast_df_0518, 'u_2m_c', 'v_2m_c', 'w_2m_c')\n",
    "fast_df_0518['u_2m_c'] = fast_df_0518['u_2m_c'].interpolate()\n",
    "fast_df_0518['v_2m_c'] = fast_df_0518['v_2m_c'].interpolate()\n",
    "fast_df_0518['w_2m_c'] = fast_df_0518['w_2m_c'].interpolate()\n",
    "fast_df_0518['tc_2m_c'] = fast_df_0518['tc_2m_c'].interpolate()"
   ]
  },
  {
   "cell_type": "code",
   "execution_count": 9,
   "metadata": {},
   "outputs": [
    {
     "name": "stdout",
     "output_type": "stream",
     "text": [
      "Got data of length 72000. using M = 15\n",
      "Timestep of fast data is: 50.0 ms\n",
      "Dataset of length 72000, with M = 15, permits 16 iterations.\n"
     ]
    },
    {
     "name": "stderr",
     "output_type": "stream",
     "text": [
      "100%|██████████| 16/16 [00:00<00:00, 1002.51it/s]\n"
     ]
    },
    {
     "name": "stdout",
     "output_type": "stream",
     "text": [
      "Got data of length 72000. using M = 15\n",
      "Timestep of fast data is: 50.0 ms\n",
      "Dataset of length 72000, with M = 15, permits 16 iterations.\n"
     ]
    },
    {
     "name": "stderr",
     "output_type": "stream",
     "text": [
      "100%|██████████| 16/16 [00:00<00:00, 19611.01it/s]\n"
     ]
    },
    {
     "name": "stdout",
     "output_type": "stream",
     "text": [
      "Got data of length 72000. using M = 15\n",
      "Timestep of fast data is: 50.0 ms\n",
      "Dataset of length 72000, with M = 15, permits 16 iterations.\n"
     ]
    },
    {
     "name": "stderr",
     "output_type": "stream",
     "text": [
      "100%|██████████| 16/16 [00:00<00:00, 30713.44it/s]\n"
     ]
    },
    {
     "name": "stdout",
     "output_type": "stream",
     "text": [
      "Got data of length 72000. using M = 15\n",
      "Timestep of fast data is: 50.0 ms\n",
      "Dataset of length 72000, with M = 15, permits 16 iterations.\n"
     ]
    },
    {
     "name": "stderr",
     "output_type": "stream",
     "text": [
      "100%|██████████| 16/16 [00:00<00:00, 23950.34it/s]\n"
     ]
    },
    {
     "name": "stdout",
     "output_type": "stream",
     "text": [
      "Got data of length 72000. using M = 15\n",
      "Timestep of fast data is: 50.0 ms\n",
      "Dataset of length 72000, with M = 15, permits 16 iterations.\n"
     ]
    },
    {
     "name": "stderr",
     "output_type": "stream",
     "text": [
      "100%|██████████| 16/16 [00:00<00:00, 31126.56it/s]\n"
     ]
    },
    {
     "name": "stdout",
     "output_type": "stream",
     "text": [
      "Got data of length 72000. using M = 15\n",
      "Timestep of fast data is: 50.0 ms\n",
      "Dataset of length 72000, with M = 15, permits 16 iterations.\n"
     ]
    },
    {
     "name": "stderr",
     "output_type": "stream",
     "text": [
      "100%|██████████| 16/16 [00:00<00:00, 25439.30it/s]\n"
     ]
    },
    {
     "name": "stdout",
     "output_type": "stream",
     "text": [
      "Got data of length 72000. using M = 15\n",
      "Timestep of fast data is: 50.0 ms\n",
      "Dataset of length 72000, with M = 15, permits 16 iterations.\n"
     ]
    },
    {
     "name": "stderr",
     "output_type": "stream",
     "text": [
      "100%|██████████| 16/16 [00:00<00:00, 25477.93it/s]\n"
     ]
    }
   ],
   "source": [
    "mrd_uw_sos_0517 = calculate_mrd_for_df(\n",
    "    fast_df_0517[['u_2m_c', 'v_2m_c', 'w_2m_c', 'tc_2m_c']].reset_index(), \n",
    "    'u_2m_c', 'w_2m_c', \n",
    "    shift=2400, # 2 minute sliding window\n",
    "    parallelism=20,\n",
    "    M=15, # 27.31 minute long calculations\n",
    ")\n",
    "mrd_vw_sos_0517 = calculate_mrd_for_df(\n",
    "    fast_df_0517[['u_2m_c', 'v_2m_c', 'w_2m_c', 'tc_2m_c']].reset_index(), \n",
    "    'v_2m_c', 'w_2m_c', \n",
    "    shift=2400, # 2 minute sliding window\n",
    "    parallelism=20,\n",
    "    M=15, # 27.31 minute long calculations\n",
    ")\n",
    "mrd_uv_sos_0517 = calculate_mrd_for_df(\n",
    "    fast_df_0517[['u_2m_c', 'v_2m_c', 'w_2m_c', 'tc_2m_c']].reset_index(), \n",
    "    'u_2m_c', 'v_2m_c', \n",
    "    shift=2400, # 2 minute sliding window\n",
    "    parallelism=20,\n",
    "    M=15, # 27.31 minute long calculations\n",
    ")\n",
    "mrd_wtc_sos_0517 = calculate_mrd_for_df(\n",
    "    fast_df_0517[['u_2m_c', 'v_2m_c', 'w_2m_c', 'tc_2m_c']].reset_index(), \n",
    "    'w_2m_c', 'tc_2m_c', \n",
    "    shift=2400, # 2 minute sliding window\n",
    "    parallelism=20,\n",
    "    M=15, # 27.31 minute long calculations\n",
    ")\n",
    "\n",
    "\n",
    "mrd_uu_sos_0517 = calculate_mrd_for_df(\n",
    "    fast_df_0517[['u_2m_c', 'v_2m_c', 'w_2m_c', 'tc_2m_c']].reset_index(), \n",
    "    'u_2m_c', 'u_2m_c', \n",
    "    shift=2400, # 2 minute sliding window\n",
    "    parallelism=20,\n",
    "    M=15, # 27.31 minute long calculations\n",
    ")\n",
    "mrd_vv_sos_0517 = calculate_mrd_for_df(\n",
    "    fast_df_0517[['u_2m_c', 'v_2m_c', 'w_2m_c', 'tc_2m_c']].reset_index(), \n",
    "    'v_2m_c', 'v_2m_c', \n",
    "    shift=2400, # 2 minute sliding window\n",
    "    parallelism=20,\n",
    "    M=15, # 27.31 minute long calculations\n",
    ")\n",
    "mrd_ww_sos_0517 = calculate_mrd_for_df(\n",
    "    fast_df_0517[['u_2m_c', 'v_2m_c', 'w_2m_c', 'tc_2m_c']].reset_index(), \n",
    "    'w_2m_c', 'w_2m_c', \n",
    "    shift=2400, # 2 minute sliding window\n",
    "    parallelism=20,\n",
    "    M=15, # 27.31 minute long calculations\n",
    ")"
   ]
  },
  {
   "cell_type": "code",
   "execution_count": null,
   "metadata": {},
   "outputs": [],
   "source": [
    "# mrd_uw_sos_0518 = calculate_mrd_for_df(\n",
    "#     fast_df_0518[['u_2m_c', 'v_2m_c', 'w_2m_c', 'tc_2m_c']].reset_index(), \n",
    "#     'u_2m_c', 'w_2m_c', \n",
    "#     shift=2400, # 2 minute sliding window\n",
    "#     parallelism=20,\n",
    "#     M=15, # 27.31 minute long calculations\n",
    "# )\n",
    "# mrd_vw_sos_0518 = calculate_mrd_for_df(\n",
    "#     fast_df_0518[['u_2m_c', 'v_2m_c', 'w_2m_c', 'tc_2m_c']].reset_index(), \n",
    "#     'v_2m_c', 'w_2m_c', \n",
    "#     shift=2400, # 2 minute sliding window\n",
    "#     parallelism=20,\n",
    "#     M=15, # 27.31 minute long calculations\n",
    "# )\n",
    "# mrd_wtc_sos_0518 = calculate_mrd_for_df(\n",
    "#     fast_df_0518[['u_2m_c', 'v_2m_c', 'w_2m_c', 'tc_2m_c']].reset_index(), \n",
    "#     'w_2m_c', 'tc_2m_c', \n",
    "#     shift=2400, # 2 minute sliding window\n",
    "#     parallelism=20,\n",
    "#     M=15, # 27.31 minute long calculations\n",
    "# )"
   ]
  },
  {
   "cell_type": "code",
   "execution_count": 10,
   "metadata": {},
   "outputs": [],
   "source": [
    "def chart(src):\n",
    "    return alt.Chart(src).mark_line().encode(\n",
    "        alt.X('tau:Q').scale(type='log').title('𝜏 (s)'),\n",
    "        alt.Y('mean(Co)').title('Cospectral power'),\n",
    "        alt.Color('type:N').title(None),\n",
    "    ).properties(width=150, height=100)\n",
    "def chart_errorband(src):\n",
    "    return alt.Chart(src).mark_errorband(extent='iqr').encode(\n",
    "        alt.X('tau:Q').scale(type='log').title('𝜏 (s)'),\n",
    "        alt.Y('Co:Q'),\n",
    "    ).properties(width=150, height=100)\n"
   ]
  },
  {
   "cell_type": "code",
   "execution_count": 11,
   "metadata": {},
   "outputs": [
    {
     "data": {
      "text/html": [
       "\n",
       "<style>\n",
       "  #altair-viz-6beeeae6b0de4478818dd74b60fd26c9.vega-embed {\n",
       "    width: 100%;\n",
       "    display: flex;\n",
       "  }\n",
       "\n",
       "  #altair-viz-6beeeae6b0de4478818dd74b60fd26c9.vega-embed details,\n",
       "  #altair-viz-6beeeae6b0de4478818dd74b60fd26c9.vega-embed details summary {\n",
       "    position: relative;\n",
       "  }\n",
       "</style>\n",
       "<div id=\"altair-viz-6beeeae6b0de4478818dd74b60fd26c9\"></div>\n",
       "<script type=\"text/javascript\">\n",
       "  var VEGA_DEBUG = (typeof VEGA_DEBUG == \"undefined\") ? {} : VEGA_DEBUG;\n",
       "  (function(spec, embedOpt){\n",
       "    let outputDiv = document.currentScript.previousElementSibling;\n",
       "    if (outputDiv.id !== \"altair-viz-6beeeae6b0de4478818dd74b60fd26c9\") {\n",
       "      outputDiv = document.getElementById(\"altair-viz-6beeeae6b0de4478818dd74b60fd26c9\");\n",
       "    }\n",
       "    const paths = {\n",
       "      \"vega\": \"https://cdn.jsdelivr.net/npm/vega@5?noext\",\n",
       "      \"vega-lib\": \"https://cdn.jsdelivr.net/npm/vega-lib?noext\",\n",
       "      \"vega-lite\": \"https://cdn.jsdelivr.net/npm/vega-lite@5.20.1?noext\",\n",
       "      \"vega-embed\": \"https://cdn.jsdelivr.net/npm/vega-embed@6?noext\",\n",
       "    };\n",
       "\n",
       "    function maybeLoadScript(lib, version) {\n",
       "      var key = `${lib.replace(\"-\", \"\")}_version`;\n",
       "      return (VEGA_DEBUG[key] == version) ?\n",
       "        Promise.resolve(paths[lib]) :\n",
       "        new Promise(function(resolve, reject) {\n",
       "          var s = document.createElement('script');\n",
       "          document.getElementsByTagName(\"head\")[0].appendChild(s);\n",
       "          s.async = true;\n",
       "          s.onload = () => {\n",
       "            VEGA_DEBUG[key] = version;\n",
       "            return resolve(paths[lib]);\n",
       "          };\n",
       "          s.onerror = () => reject(`Error loading script: ${paths[lib]}`);\n",
       "          s.src = paths[lib];\n",
       "        });\n",
       "    }\n",
       "\n",
       "    function showError(err) {\n",
       "      outputDiv.innerHTML = `<div class=\"error\" style=\"color:red;\">${err}</div>`;\n",
       "      throw err;\n",
       "    }\n",
       "\n",
       "    function displayChart(vegaEmbed) {\n",
       "      vegaEmbed(outputDiv, spec, embedOpt)\n",
       "        .catch(err => showError(`Javascript Error: ${err.message}<br>This usually means there's a typo in your chart specification. See the javascript console for the full traceback.`));\n",
       "    }\n",
       "\n",
       "    if(typeof define === \"function\" && define.amd) {\n",
       "      requirejs.config({paths});\n",
       "      require([\"vega-embed\"], displayChart, err => showError(`Error loading script: ${err.message}`));\n",
       "    } else {\n",
       "      maybeLoadScript(\"vega\", \"5\")\n",
       "        .then(() => maybeLoadScript(\"vega-lite\", \"5.20.1\"))\n",
       "        .then(() => maybeLoadScript(\"vega-embed\", \"6\"))\n",
       "        .catch(showError)\n",
       "        .then(() => displayChart(vegaEmbed));\n",
       "    }\n",
       "  })({\"config\": {\"view\": {\"continuousWidth\": 300, \"continuousHeight\": 300}}, \"layer\": [{\"mark\": {\"type\": \"rule\", \"color\": \"red\"}, \"encoding\": {\"x\": {\"field\": \"x\", \"type\": \"quantitative\"}}}, {\"mark\": {\"type\": \"text\", \"align\": \"left\", \"angle\": 90, \"color\": \"red\", \"dy\": -4, \"size\": 8}, \"encoding\": {\"text\": {\"field\": \"x\", \"type\": \"quantitative\"}, \"x\": {\"field\": \"x\", \"type\": \"quantitative\"}}}], \"data\": {\"url\": \"altair-data-86da934d34928263d730ddd96d0581e1.json\", \"format\": {\"type\": \"json\"}}, \"$schema\": \"https://vega.github.io/schema/vega-lite/v5.20.1.json\"}, {\"mode\": \"vega-lite\"});\n",
       "</script>"
      ],
      "text/plain": [
       "alt.LayerChart(...)"
      ]
     },
     "execution_count": 11,
     "metadata": {},
     "output_type": "execute_result"
    }
   ],
   "source": [
    "# Create a DataFrame with a single x value for the vertical line\n",
    "data = pd.DataFrame({'x': [300, 900, 1800]})\n",
    "\n",
    "# Create the vertical line chart\n",
    "vertical_line = alt.Chart(data).mark_rule(color='red').encode(\n",
    "    x='x:Q'  # Quantitative x-axis\n",
    ")\n",
    "\n",
    "# data_text = pd.DataFrame({'x': ['300s', '1800s']})\n",
    "\n",
    "text = alt.Chart(data).mark_text(angle=90, size=8, color='red', align='left', dy=-4).encode(\n",
    "    x='x:Q',\n",
    "    text='x:Q'  # Display the x value as text\n",
    ")\n",
    "annotations = vertical_line + text\n",
    "annotations"
   ]
  },
  {
   "cell_type": "code",
   "execution_count": 15,
   "metadata": {},
   "outputs": [
    {
     "data": {
      "text/html": [
       "\n",
       "<style>\n",
       "  #altair-viz-d00085fafce743d79aba9003dc885987.vega-embed {\n",
       "    width: 100%;\n",
       "    display: flex;\n",
       "  }\n",
       "\n",
       "  #altair-viz-d00085fafce743d79aba9003dc885987.vega-embed details,\n",
       "  #altair-viz-d00085fafce743d79aba9003dc885987.vega-embed details summary {\n",
       "    position: relative;\n",
       "  }\n",
       "</style>\n",
       "<div id=\"altair-viz-d00085fafce743d79aba9003dc885987\"></div>\n",
       "<script type=\"text/javascript\">\n",
       "  var VEGA_DEBUG = (typeof VEGA_DEBUG == \"undefined\") ? {} : VEGA_DEBUG;\n",
       "  (function(spec, embedOpt){\n",
       "    let outputDiv = document.currentScript.previousElementSibling;\n",
       "    if (outputDiv.id !== \"altair-viz-d00085fafce743d79aba9003dc885987\") {\n",
       "      outputDiv = document.getElementById(\"altair-viz-d00085fafce743d79aba9003dc885987\");\n",
       "    }\n",
       "    const paths = {\n",
       "      \"vega\": \"https://cdn.jsdelivr.net/npm/vega@5?noext\",\n",
       "      \"vega-lib\": \"https://cdn.jsdelivr.net/npm/vega-lib?noext\",\n",
       "      \"vega-lite\": \"https://cdn.jsdelivr.net/npm/vega-lite@5.20.1?noext\",\n",
       "      \"vega-embed\": \"https://cdn.jsdelivr.net/npm/vega-embed@6?noext\",\n",
       "    };\n",
       "\n",
       "    function maybeLoadScript(lib, version) {\n",
       "      var key = `${lib.replace(\"-\", \"\")}_version`;\n",
       "      return (VEGA_DEBUG[key] == version) ?\n",
       "        Promise.resolve(paths[lib]) :\n",
       "        new Promise(function(resolve, reject) {\n",
       "          var s = document.createElement('script');\n",
       "          document.getElementsByTagName(\"head\")[0].appendChild(s);\n",
       "          s.async = true;\n",
       "          s.onload = () => {\n",
       "            VEGA_DEBUG[key] = version;\n",
       "            return resolve(paths[lib]);\n",
       "          };\n",
       "          s.onerror = () => reject(`Error loading script: ${paths[lib]}`);\n",
       "          s.src = paths[lib];\n",
       "        });\n",
       "    }\n",
       "\n",
       "    function showError(err) {\n",
       "      outputDiv.innerHTML = `<div class=\"error\" style=\"color:red;\">${err}</div>`;\n",
       "      throw err;\n",
       "    }\n",
       "\n",
       "    function displayChart(vegaEmbed) {\n",
       "      vegaEmbed(outputDiv, spec, embedOpt)\n",
       "        .catch(err => showError(`Javascript Error: ${err.message}<br>This usually means there's a typo in your chart specification. See the javascript console for the full traceback.`));\n",
       "    }\n",
       "\n",
       "    if(typeof define === \"function\" && define.amd) {\n",
       "      requirejs.config({paths});\n",
       "      require([\"vega-embed\"], displayChart, err => showError(`Error loading script: ${err.message}`));\n",
       "    } else {\n",
       "      maybeLoadScript(\"vega\", \"5\")\n",
       "        .then(() => maybeLoadScript(\"vega-lite\", \"5.20.1\"))\n",
       "        .then(() => maybeLoadScript(\"vega-embed\", \"6\"))\n",
       "        .catch(showError)\n",
       "        .then(() => displayChart(vegaEmbed));\n",
       "    }\n",
       "  })({\"config\": {\"view\": {\"continuousWidth\": 300, \"continuousHeight\": 300}}, \"hconcat\": [{\"layer\": [{\"mark\": {\"type\": \"rule\", \"color\": \"red\"}, \"encoding\": {\"x\": {\"field\": \"x\", \"type\": \"quantitative\"}}}, {\"mark\": {\"type\": \"text\", \"align\": \"left\", \"angle\": 90, \"color\": \"red\", \"dy\": -4, \"size\": 8}, \"encoding\": {\"text\": {\"field\": \"x\", \"type\": \"quantitative\"}, \"x\": {\"field\": \"x\", \"type\": \"quantitative\"}}}, {\"data\": {\"url\": \"altair-data-0af6751b735a5d242e15aaebd02f2931.json\", \"format\": {\"type\": \"json\"}}, \"mark\": {\"type\": \"line\"}, \"encoding\": {\"color\": {\"field\": \"type\", \"title\": null, \"type\": \"nominal\"}, \"x\": {\"field\": \"tau\", \"scale\": {\"type\": \"log\"}, \"title\": \"\\ud835\\udf0f (s)\", \"type\": \"quantitative\"}, \"y\": {\"aggregate\": \"mean\", \"field\": \"Co\", \"title\": \"Cospectral power\", \"type\": \"quantitative\"}}}, {\"data\": {\"url\": \"altair-data-d9351f6fa1af4bd8f54634bf1b9485bf.json\", \"format\": {\"type\": \"json\"}}, \"mark\": {\"type\": \"line\"}, \"encoding\": {\"color\": {\"field\": \"type\", \"title\": null, \"type\": \"nominal\"}, \"x\": {\"field\": \"tau\", \"scale\": {\"type\": \"log\"}, \"title\": \"\\ud835\\udf0f (s)\", \"type\": \"quantitative\"}, \"y\": {\"aggregate\": \"mean\", \"field\": \"Co\", \"title\": \"Cospectral power\", \"type\": \"quantitative\"}}}], \"height\": 100, \"title\": \"w'T'\", \"width\": 150}, {\"layer\": [{\"mark\": {\"type\": \"rule\", \"color\": \"red\"}, \"encoding\": {\"x\": {\"field\": \"x\", \"type\": \"quantitative\"}}}, {\"mark\": {\"type\": \"text\", \"align\": \"left\", \"angle\": 90, \"color\": \"red\", \"dy\": -4, \"size\": 8}, \"encoding\": {\"text\": {\"field\": \"x\", \"type\": \"quantitative\"}, \"x\": {\"field\": \"x\", \"type\": \"quantitative\"}}}, {\"data\": {\"url\": \"altair-data-2ec7c3fd65ca36a6f891071eee53d085.json\", \"format\": {\"type\": \"json\"}}, \"mark\": {\"type\": \"line\"}, \"encoding\": {\"color\": {\"field\": \"type\", \"title\": null, \"type\": \"nominal\"}, \"x\": {\"field\": \"tau\", \"scale\": {\"type\": \"log\"}, \"title\": \"\\ud835\\udf0f (s)\", \"type\": \"quantitative\"}, \"y\": {\"aggregate\": \"mean\", \"field\": \"Co\", \"title\": \"Cospectral power\", \"type\": \"quantitative\"}}}, {\"data\": {\"url\": \"altair-data-bdecdb366e1620a2ca1dd287a4db893c.json\", \"format\": {\"type\": \"json\"}}, \"mark\": {\"type\": \"line\"}, \"encoding\": {\"color\": {\"field\": \"type\", \"title\": null, \"type\": \"nominal\"}, \"x\": {\"field\": \"tau\", \"scale\": {\"type\": \"log\"}, \"title\": \"\\ud835\\udf0f (s)\", \"type\": \"quantitative\"}, \"y\": {\"aggregate\": \"mean\", \"field\": \"Co\", \"title\": \"Cospectral power\", \"type\": \"quantitative\"}}}], \"height\": 100, \"title\": \"u'w'\", \"width\": 150}, {\"layer\": [{\"mark\": {\"type\": \"rule\", \"color\": \"red\"}, \"encoding\": {\"x\": {\"field\": \"x\", \"type\": \"quantitative\"}}}, {\"mark\": {\"type\": \"text\", \"align\": \"left\", \"angle\": 90, \"color\": \"red\", \"dy\": -4, \"size\": 8}, \"encoding\": {\"text\": {\"field\": \"x\", \"type\": \"quantitative\"}, \"x\": {\"field\": \"x\", \"type\": \"quantitative\"}}}, {\"data\": {\"url\": \"altair-data-32cc2b5435ee27c83bf253c95da32a7c.json\", \"format\": {\"type\": \"json\"}}, \"mark\": {\"type\": \"line\"}, \"encoding\": {\"color\": {\"field\": \"type\", \"title\": null, \"type\": \"nominal\"}, \"x\": {\"field\": \"tau\", \"scale\": {\"type\": \"log\"}, \"title\": \"\\ud835\\udf0f (s)\", \"type\": \"quantitative\"}, \"y\": {\"aggregate\": \"mean\", \"field\": \"Co\", \"title\": \"Cospectral power\", \"type\": \"quantitative\"}}}, {\"data\": {\"url\": \"altair-data-fbd5b02e1fbdf4ecd6f4e9cde567926e.json\", \"format\": {\"type\": \"json\"}}, \"mark\": {\"type\": \"line\"}, \"encoding\": {\"color\": {\"field\": \"type\", \"title\": null, \"type\": \"nominal\"}, \"x\": {\"field\": \"tau\", \"scale\": {\"type\": \"log\"}, \"title\": \"\\ud835\\udf0f (s)\", \"type\": \"quantitative\"}, \"y\": {\"aggregate\": \"mean\", \"field\": \"Co\", \"title\": \"Cospectral power\", \"type\": \"quantitative\"}}}], \"height\": 100, \"title\": \"v'w'\", \"width\": 150}, {\"layer\": [{\"mark\": {\"type\": \"rule\", \"color\": \"red\"}, \"encoding\": {\"x\": {\"field\": \"x\", \"type\": \"quantitative\"}}}, {\"mark\": {\"type\": \"text\", \"align\": \"left\", \"angle\": 90, \"color\": \"red\", \"dy\": -4, \"size\": 8}, \"encoding\": {\"text\": {\"field\": \"x\", \"type\": \"quantitative\"}, \"x\": {\"field\": \"x\", \"type\": \"quantitative\"}}}, {\"data\": {\"url\": \"altair-data-182355ebb30e34076c1893eb78d777fc.json\", \"format\": {\"type\": \"json\"}}, \"mark\": {\"type\": \"line\"}, \"encoding\": {\"color\": {\"field\": \"type\", \"title\": null, \"type\": \"nominal\"}, \"x\": {\"field\": \"tau\", \"scale\": {\"type\": \"log\"}, \"title\": \"\\ud835\\udf0f (s)\", \"type\": \"quantitative\"}, \"y\": {\"aggregate\": \"mean\", \"field\": \"Co\", \"title\": \"Cospectral power\", \"type\": \"quantitative\"}}}, {\"data\": {\"url\": \"altair-data-d3ea0a65491a62b99730427846356086.json\", \"format\": {\"type\": \"json\"}}, \"mark\": {\"type\": \"line\"}, \"encoding\": {\"color\": {\"field\": \"type\", \"title\": null, \"type\": \"nominal\"}, \"x\": {\"field\": \"tau\", \"scale\": {\"type\": \"log\"}, \"title\": \"\\ud835\\udf0f (s)\", \"type\": \"quantitative\"}, \"y\": {\"aggregate\": \"mean\", \"field\": \"Co\", \"title\": \"Cospectral power\", \"type\": \"quantitative\"}}}], \"height\": 100, \"title\": \"u'v'\", \"width\": 150}], \"data\": {\"url\": \"altair-data-86da934d34928263d730ddd96d0581e1.json\", \"format\": {\"type\": \"json\"}}, \"$schema\": \"https://vega.github.io/schema/vega-lite/v5.20.1.json\"}, {\"mode\": \"vega-lite\"});\n",
       "</script>"
      ],
      "text/plain": [
       "alt.HConcatChart(...)"
      ]
     },
     "execution_count": 15,
     "metadata": {},
     "output_type": "execute_result"
    }
   ],
   "source": [
    "(\n",
    "    annotations + \n",
    "    chart(mrd_wtc_sos_0517.groupby('tau')[['Co']].mean().reset_index().assign(type='MRD'))+\n",
    "    chart(mrd_wtc_sos_0517.groupby('tau')[['Co']].mean().cumsum().reset_index().assign(type='ogive'))\n",
    ").properties(title=\"w'T'\") | (\n",
    "    annotations + \n",
    "    chart(mrd_uw_sos_0517.groupby('tau')[['Co']].mean().reset_index().assign(type='MRD'))+\n",
    "    chart(mrd_uw_sos_0517.groupby('tau')[['Co']].mean().cumsum().reset_index().assign(type='ogive'))\n",
    ").properties(title=\"u'w'\") | (\n",
    "    annotations + \n",
    "    chart(mrd_vw_sos_0517.groupby('tau')[['Co']].mean().reset_index().assign(type='MRD'))+\n",
    "    chart(mrd_vw_sos_0517.groupby('tau')[['Co']].mean().cumsum().reset_index().assign(type='ogive'))\n",
    ").properties(title=\"v'w'\")  | (\n",
    "    annotations + \n",
    "    chart(mrd_uv_sos_0517.groupby('tau')[['Co']].mean().reset_index().assign(type='MRD'))+\n",
    "    chart(mrd_uv_sos_0517.groupby('tau')[['Co']].mean().cumsum().reset_index().assign(type='ogive'))\n",
    ").properties(title=\"u'v'\") "
   ]
  },
  {
   "cell_type": "code",
   "execution_count": 16,
   "metadata": {},
   "outputs": [
    {
     "data": {
      "text/html": [
       "\n",
       "<style>\n",
       "  #altair-viz-78f6ad53192a40b986ea92cc99e6e294.vega-embed {\n",
       "    width: 100%;\n",
       "    display: flex;\n",
       "  }\n",
       "\n",
       "  #altair-viz-78f6ad53192a40b986ea92cc99e6e294.vega-embed details,\n",
       "  #altair-viz-78f6ad53192a40b986ea92cc99e6e294.vega-embed details summary {\n",
       "    position: relative;\n",
       "  }\n",
       "</style>\n",
       "<div id=\"altair-viz-78f6ad53192a40b986ea92cc99e6e294\"></div>\n",
       "<script type=\"text/javascript\">\n",
       "  var VEGA_DEBUG = (typeof VEGA_DEBUG == \"undefined\") ? {} : VEGA_DEBUG;\n",
       "  (function(spec, embedOpt){\n",
       "    let outputDiv = document.currentScript.previousElementSibling;\n",
       "    if (outputDiv.id !== \"altair-viz-78f6ad53192a40b986ea92cc99e6e294\") {\n",
       "      outputDiv = document.getElementById(\"altair-viz-78f6ad53192a40b986ea92cc99e6e294\");\n",
       "    }\n",
       "    const paths = {\n",
       "      \"vega\": \"https://cdn.jsdelivr.net/npm/vega@5?noext\",\n",
       "      \"vega-lib\": \"https://cdn.jsdelivr.net/npm/vega-lib?noext\",\n",
       "      \"vega-lite\": \"https://cdn.jsdelivr.net/npm/vega-lite@5.20.1?noext\",\n",
       "      \"vega-embed\": \"https://cdn.jsdelivr.net/npm/vega-embed@6?noext\",\n",
       "    };\n",
       "\n",
       "    function maybeLoadScript(lib, version) {\n",
       "      var key = `${lib.replace(\"-\", \"\")}_version`;\n",
       "      return (VEGA_DEBUG[key] == version) ?\n",
       "        Promise.resolve(paths[lib]) :\n",
       "        new Promise(function(resolve, reject) {\n",
       "          var s = document.createElement('script');\n",
       "          document.getElementsByTagName(\"head\")[0].appendChild(s);\n",
       "          s.async = true;\n",
       "          s.onload = () => {\n",
       "            VEGA_DEBUG[key] = version;\n",
       "            return resolve(paths[lib]);\n",
       "          };\n",
       "          s.onerror = () => reject(`Error loading script: ${paths[lib]}`);\n",
       "          s.src = paths[lib];\n",
       "        });\n",
       "    }\n",
       "\n",
       "    function showError(err) {\n",
       "      outputDiv.innerHTML = `<div class=\"error\" style=\"color:red;\">${err}</div>`;\n",
       "      throw err;\n",
       "    }\n",
       "\n",
       "    function displayChart(vegaEmbed) {\n",
       "      vegaEmbed(outputDiv, spec, embedOpt)\n",
       "        .catch(err => showError(`Javascript Error: ${err.message}<br>This usually means there's a typo in your chart specification. See the javascript console for the full traceback.`));\n",
       "    }\n",
       "\n",
       "    if(typeof define === \"function\" && define.amd) {\n",
       "      requirejs.config({paths});\n",
       "      require([\"vega-embed\"], displayChart, err => showError(`Error loading script: ${err.message}`));\n",
       "    } else {\n",
       "      maybeLoadScript(\"vega\", \"5\")\n",
       "        .then(() => maybeLoadScript(\"vega-lite\", \"5.20.1\"))\n",
       "        .then(() => maybeLoadScript(\"vega-embed\", \"6\"))\n",
       "        .catch(showError)\n",
       "        .then(() => displayChart(vegaEmbed));\n",
       "    }\n",
       "  })({\"config\": {\"view\": {\"continuousWidth\": 300, \"continuousHeight\": 300}}, \"hconcat\": [{\"layer\": [{\"mark\": {\"type\": \"rule\", \"color\": \"red\"}, \"encoding\": {\"x\": {\"field\": \"x\", \"type\": \"quantitative\"}}}, {\"mark\": {\"type\": \"text\", \"align\": \"left\", \"angle\": 90, \"color\": \"red\", \"dy\": -4, \"size\": 8}, \"encoding\": {\"text\": {\"field\": \"x\", \"type\": \"quantitative\"}, \"x\": {\"field\": \"x\", \"type\": \"quantitative\"}}}, {\"data\": {\"url\": \"altair-data-d261ada92071aa90ef401bc82a330504.json\", \"format\": {\"type\": \"json\"}}, \"mark\": {\"type\": \"line\"}, \"encoding\": {\"color\": {\"field\": \"type\", \"title\": null, \"type\": \"nominal\"}, \"x\": {\"field\": \"tau\", \"scale\": {\"type\": \"log\"}, \"title\": \"\\ud835\\udf0f (s)\", \"type\": \"quantitative\"}, \"y\": {\"aggregate\": \"mean\", \"field\": \"Co\", \"title\": \"Cospectral power\", \"type\": \"quantitative\"}}}, {\"data\": {\"url\": \"altair-data-996e48b6420a946449729c8f5d0aa3de.json\", \"format\": {\"type\": \"json\"}}, \"mark\": {\"type\": \"line\"}, \"encoding\": {\"color\": {\"field\": \"type\", \"title\": null, \"type\": \"nominal\"}, \"x\": {\"field\": \"tau\", \"scale\": {\"type\": \"log\"}, \"title\": \"\\ud835\\udf0f (s)\", \"type\": \"quantitative\"}, \"y\": {\"aggregate\": \"mean\", \"field\": \"Co\", \"title\": \"Cospectral power\", \"type\": \"quantitative\"}}}], \"height\": 100, \"title\": \"u'u'\", \"width\": 150}, {\"layer\": [{\"mark\": {\"type\": \"rule\", \"color\": \"red\"}, \"encoding\": {\"x\": {\"field\": \"x\", \"type\": \"quantitative\"}}}, {\"mark\": {\"type\": \"text\", \"align\": \"left\", \"angle\": 90, \"color\": \"red\", \"dy\": -4, \"size\": 8}, \"encoding\": {\"text\": {\"field\": \"x\", \"type\": \"quantitative\"}, \"x\": {\"field\": \"x\", \"type\": \"quantitative\"}}}, {\"data\": {\"url\": \"altair-data-a522db09ccaf609815ff8159b2187742.json\", \"format\": {\"type\": \"json\"}}, \"mark\": {\"type\": \"line\"}, \"encoding\": {\"color\": {\"field\": \"type\", \"title\": null, \"type\": \"nominal\"}, \"x\": {\"field\": \"tau\", \"scale\": {\"type\": \"log\"}, \"title\": \"\\ud835\\udf0f (s)\", \"type\": \"quantitative\"}, \"y\": {\"aggregate\": \"mean\", \"field\": \"Co\", \"title\": \"Cospectral power\", \"type\": \"quantitative\"}}}, {\"data\": {\"url\": \"altair-data-55e4c8512e9cc4abf51060d0ebdb34da.json\", \"format\": {\"type\": \"json\"}}, \"mark\": {\"type\": \"line\"}, \"encoding\": {\"color\": {\"field\": \"type\", \"title\": null, \"type\": \"nominal\"}, \"x\": {\"field\": \"tau\", \"scale\": {\"type\": \"log\"}, \"title\": \"\\ud835\\udf0f (s)\", \"type\": \"quantitative\"}, \"y\": {\"aggregate\": \"mean\", \"field\": \"Co\", \"title\": \"Cospectral power\", \"type\": \"quantitative\"}}}], \"height\": 100, \"title\": \"v'v'\", \"width\": 150}, {\"layer\": [{\"mark\": {\"type\": \"rule\", \"color\": \"red\"}, \"encoding\": {\"x\": {\"field\": \"x\", \"type\": \"quantitative\"}}}, {\"mark\": {\"type\": \"text\", \"align\": \"left\", \"angle\": 90, \"color\": \"red\", \"dy\": -4, \"size\": 8}, \"encoding\": {\"text\": {\"field\": \"x\", \"type\": \"quantitative\"}, \"x\": {\"field\": \"x\", \"type\": \"quantitative\"}}}, {\"data\": {\"url\": \"altair-data-b5371deaf015fec9a8fd9cf5645ab8cf.json\", \"format\": {\"type\": \"json\"}}, \"mark\": {\"type\": \"line\"}, \"encoding\": {\"color\": {\"field\": \"type\", \"title\": null, \"type\": \"nominal\"}, \"x\": {\"field\": \"tau\", \"scale\": {\"type\": \"log\"}, \"title\": \"\\ud835\\udf0f (s)\", \"type\": \"quantitative\"}, \"y\": {\"aggregate\": \"mean\", \"field\": \"Co\", \"title\": \"Cospectral power\", \"type\": \"quantitative\"}}}, {\"data\": {\"url\": \"altair-data-7f1ed9a37fa4177dd89b4d983e777d5f.json\", \"format\": {\"type\": \"json\"}}, \"mark\": {\"type\": \"line\"}, \"encoding\": {\"color\": {\"field\": \"type\", \"title\": null, \"type\": \"nominal\"}, \"x\": {\"field\": \"tau\", \"scale\": {\"type\": \"log\"}, \"title\": \"\\ud835\\udf0f (s)\", \"type\": \"quantitative\"}, \"y\": {\"aggregate\": \"mean\", \"field\": \"Co\", \"title\": \"Cospectral power\", \"type\": \"quantitative\"}}}], \"height\": 100, \"title\": \"w'w'\", \"width\": 150}], \"data\": {\"url\": \"altair-data-86da934d34928263d730ddd96d0581e1.json\", \"format\": {\"type\": \"json\"}}, \"$schema\": \"https://vega.github.io/schema/vega-lite/v5.20.1.json\"}, {\"mode\": \"vega-lite\"});\n",
       "</script>"
      ],
      "text/plain": [
       "alt.HConcatChart(...)"
      ]
     },
     "execution_count": 16,
     "metadata": {},
     "output_type": "execute_result"
    }
   ],
   "source": [
    "(\n",
    "    annotations + \n",
    "    chart(mrd_uu_sos_0517.groupby('tau')[['Co']].mean().reset_index().assign(type='MRD'))+\n",
    "    chart(mrd_uu_sos_0517.groupby('tau')[['Co']].mean().cumsum().reset_index().assign(type='ogive'))\n",
    ").properties(title=\"u'u'\") | (\n",
    "    annotations + \n",
    "    chart(mrd_vv_sos_0517.groupby('tau')[['Co']].mean().reset_index().assign(type='MRD'))+\n",
    "    chart(mrd_vv_sos_0517.groupby('tau')[['Co']].mean().cumsum().reset_index().assign(type='ogive'))\n",
    ").properties(title=\"v'v'\") | (\n",
    "    annotations + \n",
    "    chart(mrd_ww_sos_0517.groupby('tau')[['Co']].mean().reset_index().assign(type='MRD'))+\n",
    "    chart(mrd_ww_sos_0517.groupby('tau')[['Co']].mean().cumsum().reset_index().assign(type='ogive'))\n",
    ").properties(title=\"w'w'\") "
   ]
  },
  {
   "cell_type": "code",
   "execution_count": 13,
   "metadata": {},
   "outputs": [],
   "source": [
    "mrds_0517 = (\n",
    "    chart_errorband(mrd_wtc_sos_0517.reset_index()) +\\\n",
    "    chart(mrd_wtc_sos_0517.groupby('tau')[['Co']].mean().reset_index())\n",
    ").properties(title=\"w'T'\") | (\n",
    "    chart_errorband(mrd_uw_sos_0517.reset_index()) +\\\n",
    "    chart(mrd_uw_sos_0517.groupby('tau')[['Co']].mean().reset_index())\n",
    ").properties(title=\"u'w'\") | (\n",
    "    chart_errorband(mrd_vw_sos_0517.reset_index()) +\\\n",
    "    chart(mrd_vw_sos_0517.groupby('tau')[['Co']].mean().reset_index())\n",
    ").properties(title=\"v'w'\")"
   ]
  },
  {
   "cell_type": "code",
   "execution_count": 14,
   "metadata": {},
   "outputs": [
    {
     "ename": "NameError",
     "evalue": "name 'mrd_wtc_sos_0518' is not defined",
     "output_type": "error",
     "traceback": [
      "\u001b[0;31m---------------------------------------------------------------------------\u001b[0m",
      "\u001b[0;31mNameError\u001b[0m                                 Traceback (most recent call last)",
      "Cell \u001b[0;32mIn[14], line 2\u001b[0m\n\u001b[1;32m      1\u001b[0m mrds_0518 \u001b[38;5;241m=\u001b[39m (\n\u001b[0;32m----> 2\u001b[0m     chart_errorband(\u001b[43mmrd_wtc_sos_0518\u001b[49m\u001b[38;5;241m.\u001b[39mreset_index()) \u001b[38;5;241m+\u001b[39m\\\n\u001b[1;32m      3\u001b[0m     chart(mrd_wtc_sos_0518\u001b[38;5;241m.\u001b[39mgroupby(\u001b[38;5;124m'\u001b[39m\u001b[38;5;124mtau\u001b[39m\u001b[38;5;124m'\u001b[39m)[[\u001b[38;5;124m'\u001b[39m\u001b[38;5;124mCo\u001b[39m\u001b[38;5;124m'\u001b[39m]]\u001b[38;5;241m.\u001b[39mmean()\u001b[38;5;241m.\u001b[39mreset_index())\n\u001b[1;32m      4\u001b[0m )\u001b[38;5;241m.\u001b[39mproperties(title\u001b[38;5;241m=\u001b[39m\u001b[38;5;124m\"\u001b[39m\u001b[38;5;124mw\u001b[39m\u001b[38;5;124m'\u001b[39m\u001b[38;5;124mT\u001b[39m\u001b[38;5;124m'\u001b[39m\u001b[38;5;124m\"\u001b[39m) \u001b[38;5;241m|\u001b[39m (\n\u001b[1;32m      5\u001b[0m     chart_errorband(mrd_uw_sos_0518\u001b[38;5;241m.\u001b[39mreset_index()) \u001b[38;5;241m+\u001b[39m\\\n\u001b[1;32m      6\u001b[0m     chart(mrd_uw_sos_0518\u001b[38;5;241m.\u001b[39mgroupby(\u001b[38;5;124m'\u001b[39m\u001b[38;5;124mtau\u001b[39m\u001b[38;5;124m'\u001b[39m)[[\u001b[38;5;124m'\u001b[39m\u001b[38;5;124mCo\u001b[39m\u001b[38;5;124m'\u001b[39m]]\u001b[38;5;241m.\u001b[39mmean()\u001b[38;5;241m.\u001b[39mreset_index())\n\u001b[1;32m      7\u001b[0m )\u001b[38;5;241m.\u001b[39mproperties(title\u001b[38;5;241m=\u001b[39m\u001b[38;5;124m\"\u001b[39m\u001b[38;5;124mu\u001b[39m\u001b[38;5;124m'\u001b[39m\u001b[38;5;124mw\u001b[39m\u001b[38;5;124m'\u001b[39m\u001b[38;5;124m\"\u001b[39m) \u001b[38;5;241m|\u001b[39m (\n\u001b[1;32m      8\u001b[0m     chart_errorband(mrd_vw_sos_0518\u001b[38;5;241m.\u001b[39mreset_index()) \u001b[38;5;241m+\u001b[39m\\\n\u001b[1;32m      9\u001b[0m     chart(mrd_vw_sos_0518\u001b[38;5;241m.\u001b[39mgroupby(\u001b[38;5;124m'\u001b[39m\u001b[38;5;124mtau\u001b[39m\u001b[38;5;124m'\u001b[39m)[[\u001b[38;5;124m'\u001b[39m\u001b[38;5;124mCo\u001b[39m\u001b[38;5;124m'\u001b[39m]]\u001b[38;5;241m.\u001b[39mmean()\u001b[38;5;241m.\u001b[39mreset_index())\n\u001b[1;32m     10\u001b[0m )\u001b[38;5;241m.\u001b[39mproperties(title\u001b[38;5;241m=\u001b[39m\u001b[38;5;124m\"\u001b[39m\u001b[38;5;124mv\u001b[39m\u001b[38;5;124m'\u001b[39m\u001b[38;5;124mw\u001b[39m\u001b[38;5;124m'\u001b[39m\u001b[38;5;124m\"\u001b[39m)\n",
      "\u001b[0;31mNameError\u001b[0m: name 'mrd_wtc_sos_0518' is not defined"
     ]
    }
   ],
   "source": [
    "mrds_0518 = (\n",
    "    chart_errorband(mrd_wtc_sos_0518.reset_index()) +\\\n",
    "    chart(mrd_wtc_sos_0518.groupby('tau')[['Co']].mean().reset_index())\n",
    ").properties(title=\"w'T'\") | (\n",
    "    chart_errorband(mrd_uw_sos_0518.reset_index()) +\\\n",
    "    chart(mrd_uw_sos_0518.groupby('tau')[['Co']].mean().reset_index())\n",
    ").properties(title=\"u'w'\") | (\n",
    "    chart_errorband(mrd_vw_sos_0518.reset_index()) +\\\n",
    "    chart(mrd_vw_sos_0518.groupby('tau')[['Co']].mean().reset_index())\n",
    ").properties(title=\"v'w'\")"
   ]
  },
  {
   "cell_type": "code",
   "execution_count": null,
   "metadata": {},
   "outputs": [],
   "source": [
    "mrds_0517 & mrds_0518"
   ]
  }
 ],
 "metadata": {
  "kernelspec": {
   "display_name": "sublimationofsnow",
   "language": "python",
   "name": "python3"
  },
  "language_info": {
   "codemirror_mode": {
    "name": "ipython",
    "version": 3
   },
   "file_extension": ".py",
   "mimetype": "text/x-python",
   "name": "python",
   "nbconvert_exporter": "python",
   "pygments_lexer": "ipython3",
   "version": "3.12.5"
  }
 },
 "nbformat": 4,
 "nbformat_minor": 2
}
