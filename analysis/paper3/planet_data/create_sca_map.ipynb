{
 "cells": [
  {
   "cell_type": "code",
   "execution_count": null,
   "metadata": {},
   "outputs": [],
   "source": [
    "import glob\n",
    "import matplotlib.pyplot as plt\n",
    "import xarray as xr\n",
    "import planetsca as ps"
   ]
  },
  {
   "cell_type": "code",
   "execution_count": null,
   "metadata": {},
   "outputs": [],
   "source": [
    "model = ps.download.retrieve_model_onnx()"
   ]
  },
  {
   "cell_type": "code",
   "execution_count": null,
   "metadata": {},
   "outputs": [],
   "source": [
    "files_2023 = glob.glob(\"/Users/elischwat/Development/data/sublimationofsnow/planet_imagery/gothic-co-meltout-2023_psscene_analytic_sr_udm2/*_composite_file_format.tif\")"
   ]
  },
  {
   "cell_type": "code",
   "execution_count": null,
   "metadata": {},
   "outputs": [],
   "source": [
    "# where we want to save the resulting SCA geotif images created from the Planet images\n",
    "output_dirpath = \"./SCA/\""
   ]
  },
  {
   "cell_type": "code",
   "execution_count": null,
   "metadata": {},
   "outputs": [],
   "source": [
    "# run the model to predict SCA\n",
    "sca_image_paths = ps.predict.predict_sca(\n",
    "    planet_path=files_2023[:2],\n",
    "    model=model,\n",
    "    output_dirpath=output_dirpath,\n",
    ")"
   ]
  },
  {
   "cell_type": "code",
   "execution_count": null,
   "metadata": {},
   "outputs": [],
   "source": [
    "ps_image_filepaths.sort()\n",
    "sca_image_paths.sort()\n",
    "\n",
    "for ps_image_filepath, sca_image_filepath in zip(ps_image_filepaths, sca_image_paths):\n",
    "    ps_image = xr.open_dataset(ps_image_filepath)\n",
    "    sca_image = xr.open_dataset(sca_image_filepath)\n",
    "\n",
    "    fig, [ax1, ax2] = plt.subplots(nrows=1, ncols=2, figsize=(10, 5), tight_layout=True)\n",
    "    ps_image.isel(band=0).band_data.plot(ax=ax1, cmap=\"Greys_r\", add_colorbar=False)\n",
    "    sca_image.isel(band=0).band_data.plot(ax=ax2, cmap=\"Greys_r\", add_colorbar=False)\n",
    "\n",
    "    ax1.set_title(ps_image_filepath.split(\"/\")[-1])\n",
    "    ax2.set_title(sca_image_filepath.split(\"/\")[-1])\n"
   ]
  }
 ],
 "metadata": {
  "kernelspec": {
   "display_name": "planetenv",
   "language": "python",
   "name": "python3"
  },
  "language_info": {
   "codemirror_mode": {
    "name": "ipython",
    "version": 3
   },
   "file_extension": ".py",
   "mimetype": "text/x-python",
   "name": "python",
   "nbconvert_exporter": "python",
   "pygments_lexer": "ipython3",
   "version": "3.9.23"
  }
 },
 "nbformat": 4,
 "nbformat_minor": 2
}
