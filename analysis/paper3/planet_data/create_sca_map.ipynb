{
 "cells": [
  {
   "cell_type": "code",
   "execution_count": 1,
   "metadata": {},
   "outputs": [],
   "source": [
    "import glob\n",
    "import matplotlib.pyplot as plt\n",
    "import xarray as xr"
   ]
  },
  {
   "cell_type": "code",
   "execution_count": 2,
   "metadata": {},
   "outputs": [
    {
     "name": "stderr",
     "output_type": "stream",
     "text": [
      "/Users/elischwat/miniforge3/envs/planetenv/lib/python3.9/site-packages/tqdm/auto.py:21: TqdmWarning: IProgress not found. Please update jupyter and ipywidgets. See https://ipywidgets.readthedocs.io/en/stable/user_install.html\n",
      "  from .autonotebook import tqdm as notebook_tqdm\n",
      "/Users/elischwat/miniforge3/envs/planetenv/lib/python3.9/site-packages/pyproj/__init__.py:95: UserWarning: pyproj unable to set database path.\n",
      "  _pyproj_global_context_initialize()\n"
     ]
    }
   ],
   "source": [
    "import planetsca as ps"
   ]
  },
  {
   "cell_type": "code",
   "execution_count": 14,
   "metadata": {},
   "outputs": [],
   "source": [
    "# retrieve the pre-trained ONNX planetsca model from Hugging Face\n",
    "model = ps.download.retrieve_model_onnx()\n",
    "\n",
    "\n",
    "from huggingface_hub import hf_hub_download\n",
    "import joblib\n",
    "# download model file from Hugging Face\n",
    "filepath = hf_hub_download(\n",
    "    repo_id=\"geo-smart/planetsca_models\",\n",
    "    # filename=\"random_forest_20220513_binary_174K.joblib\"\n",
    "    # filename=\"random_forest_20220513_binary_174K_fv.joblib\"\n",
    "    filename=\"random_forest_20240116_binary_174K.joblib\"\n",
    ")\n",
    "\n",
    "\n",
    "# open the model that was just downloaded\n",
    "model = joblib.load(filepath)"
   ]
  },
  {
   "cell_type": "code",
   "execution_count": 3,
   "metadata": {},
   "outputs": [
    {
     "name": "stdout",
     "output_type": "stream",
     "text": [
      "\u001b[0;31mSignature:\u001b[0m \u001b[0mps\u001b[0m\u001b[0;34m.\u001b[0m\u001b[0mdownload\u001b[0m\u001b[0;34m.\u001b[0m\u001b[0mretrieve_model\u001b[0m\u001b[0;34m(\u001b[0m\u001b[0mout_dirpath\u001b[0m\u001b[0;34m:\u001b[0m \u001b[0mOptional\u001b[0m\u001b[0;34m[\u001b[0m\u001b[0mstr\u001b[0m\u001b[0;34m]\u001b[0m \u001b[0;34m=\u001b[0m \u001b[0;32mNone\u001b[0m\u001b[0;34m)\u001b[0m \u001b[0;34m->\u001b[0m \u001b[0msklearn\u001b[0m\u001b[0;34m.\u001b[0m\u001b[0mensemble\u001b[0m\u001b[0;34m.\u001b[0m\u001b[0m_forest\u001b[0m\u001b[0;34m.\u001b[0m\u001b[0mRandomForestClassifier\u001b[0m\u001b[0;34m\u001b[0m\u001b[0;34m\u001b[0m\u001b[0m\n",
      "\u001b[0;31mDocstring:\u001b[0m\n",
      "Downloads pre-trained PlanetSCA model from Hugging Face\n",
      "\n",
      "Parameters:\n",
      "    out_dirpath: Optional[str]\n",
      "        Path to directory to save pre-trained model file\n",
      "\n",
      "Returns\n",
      "----------\n",
      "    model: RandomForestClassifier\n",
      "        The trained PlanetSCA model\n",
      "\u001b[0;31mFile:\u001b[0m      ~/miniforge3/envs/planetenv/lib/python3.9/site-packages/planetsca/download.py\n",
      "\u001b[0;31mType:\u001b[0m      function"
     ]
    }
   ],
   "source": [
    "ps.download.retrieve_model?"
   ]
  },
  {
   "cell_type": "code",
   "execution_count": null,
   "metadata": {},
   "outputs": [],
   "source": [
    "ps_image_filepaths = [\n",
    "    \"/Users/elischwat/Downloads/gothic-co-may13-may16-2023_psscene_analytic_sr_udm2/PSScene/20230515_165304_51_2460_3B_AnalyticMS_SR_clip_file_format.tif\"\n",
    "]"
   ]
  },
  {
   "cell_type": "code",
   "execution_count": null,
   "metadata": {},
   "outputs": [],
   "source": [
    "# where we want to save the resulting SCA geotif images created from the Planet images\n",
    "output_dirpath = \"./SCA/\""
   ]
  },
  {
   "cell_type": "code",
   "execution_count": null,
   "metadata": {},
   "outputs": [],
   "source": [
    "# run the model to predict SCA\n",
    "sca_image_paths = ps.predict.predict_sca_onnx(\n",
    "    planet_path=ps_image_filepaths,\n",
    "    model=model,\n",
    "    output_dirpath=output_dirpath,\n",
    ")"
   ]
  },
  {
   "cell_type": "code",
   "execution_count": null,
   "metadata": {},
   "outputs": [],
   "source": [
    "ps_image_filepaths.sort()\n",
    "sca_image_paths.sort()\n",
    "\n",
    "for ps_image_filepath, sca_image_filepath in zip(ps_image_filepaths, sca_image_paths):\n",
    "    ps_image = xr.open_dataset(ps_image_filepath)\n",
    "    sca_image = xr.open_dataset(sca_image_filepath)\n",
    "\n",
    "    fig, [ax1, ax2] = plt.subplots(nrows=1, ncols=2, figsize=(10, 5), tight_layout=True)\n",
    "    ps_image.isel(band=0).band_data.plot(ax=ax1, cmap=\"Greys_r\", add_colorbar=False)\n",
    "    sca_image.isel(band=0).band_data.plot(ax=ax2, cmap=\"Greys_r\", add_colorbar=False)\n",
    "\n",
    "    ax1.set_title(ps_image_filepath.split(\"/\")[-1])\n",
    "    ax2.set_title(sca_image_filepath.split(\"/\")[-1])\n"
   ]
  }
 ],
 "metadata": {
  "kernelspec": {
   "display_name": "planetenv",
   "language": "python",
   "name": "python3"
  },
  "language_info": {
   "codemirror_mode": {
    "name": "ipython",
    "version": 3
   },
   "file_extension": ".py",
   "mimetype": "text/x-python",
   "name": "python",
   "nbconvert_exporter": "python",
   "pygments_lexer": "ipython3",
   "version": "3.9.23"
  }
 },
 "nbformat": 4,
 "nbformat_minor": 2
}
