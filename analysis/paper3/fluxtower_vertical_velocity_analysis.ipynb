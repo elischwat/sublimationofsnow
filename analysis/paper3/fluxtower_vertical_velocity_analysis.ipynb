{
 "cells": [
  {
   "cell_type": "code",
   "execution_count": null,
   "metadata": {},
   "outputs": [],
   "source": [
    "import os\n",
    "import glob\n",
    "import numpy as np\n",
    "import xarray as xr\n",
    "import pandas as pd\n",
    "from sublimpy import utils, extrautils\n",
    "import matplotlib.pyplot as plt\n",
    "import altair as alt\n",
    "alt.data_transformers.enable('json')"
   ]
  },
  {
   "cell_type": "markdown",
   "metadata": {},
   "source": [
    "# Open velocity data and apply monthly planar fits"
   ]
  },
  {
   "cell_type": "markdown",
   "metadata": {},
   "source": [
    "## SOS"
   ]
  },
  {
   "cell_type": "code",
   "execution_count": null,
   "metadata": {},
   "outputs": [],
   "source": [
    "# Open all files, get variables we want, and concatenate into a single dataset\n",
    "dir_sos = \"/Users/elischwat/Development/data/sublimationofsnow/sosqc/sos_qc_geo_tiltcor_v20240307\"\n",
    "file_list_sos = sorted(glob.glob(os.path.join(dir_sos, \"*.nc\")))\n",
    "vars_sos = [\n",
    "        'dir_3m_c', 'SF_avg_1m_ue', 'SF_avg_2m_ue',\n",
    "        'w_3m_ue',    'w_10m_ue', 'w_3m_d',     'w_10m_d', 'w_3m_uw',    'w_10m_uw',  \n",
    "            'w_3m_c',     'w_5m_c',     'w_10m_c',    'w_15m_c',    'w_20m_c',\n",
    "        'u_3m_ue',    'u_10m_ue', 'u_3m_d',     'u_10m_d', 'u_3m_uw',    'u_10m_uw',  \n",
    "            'u_3m_c',     'u_5m_c',     'u_10m_c',    'u_15m_c',    'u_20m_c',\n",
    "        'v_3m_ue',    'v_10m_ue', 'v_3m_d',     'v_10m_d', 'v_3m_uw',    'v_10m_uw',  \n",
    "            'v_3m_c',     'v_5m_c',     'v_10m_c',    'v_15m_c',    'v_20m_c',\n",
    "            \n",
    "    ]\n",
    "\n",
    "datasets = []\n",
    "for file in file_list_sos:\n",
    "    ds = xr.open_dataset(file)\n",
    "    # this ensures we don't access variables that aren't in this dataset, which would throw an error\n",
    "    ds_new = ds[set(ds.data_vars).intersection(vars_sos)]\n",
    "    datasets.append(ds_new)\n",
    "sos_ds = xr.concat(datasets, dim='time')\n",
    "sos_ds = utils.fill_missing_timestamps(sos_ds)"
   ]
  },
  {
   "cell_type": "code",
   "execution_count": null,
   "metadata": {},
   "outputs": [],
   "source": [
    "# Iterate over each month, and EC instruments, calculating and applying planar fits to u, v, w data, and combining the monthly datasets into a single dataset\n",
    "ec_suffixes = [\n",
    "    '3m_ue',    '10m_ue', '3m_d',     '10m_d', '3m_uw',    '10m_uw',  \n",
    "    '3m_c',     '5m_c',     '10m_c',    '15m_c',    '20m_c'\n",
    "]\n",
    "planar_fitted_ds_ls = []\n",
    "for month, year in [\n",
    "    (11, 2022),\n",
    "    (12, 2022),\n",
    "    (1, 2023),\n",
    "    (2, 2023),\n",
    "    (3, 2023),\n",
    "    (4, 2023),\n",
    "    (5, 2023),\n",
    "    (6, 2023),\n",
    "]:\n",
    "    this_ds = sos_ds.sel(time = sos_ds.time.dt.year.isin([year]))\n",
    "    this_ds = this_ds.sel(time = this_ds.time.dt.month.isin([month]))\n",
    "    for suffix in ec_suffixes:\n",
    "        (a,b,c), (tilt, tiltaz), W_f = extrautils.calculate_planar_fit(this_ds[f\"u_{suffix}\"], this_ds[f\"v_{suffix}\"], this_ds[f\"w_{suffix}\"])\n",
    "        (u_streamwise, v_streamwise, w_streamwise) = extrautils.apply_planar_fit(\n",
    "            this_ds[f\"u_{suffix}\"], this_ds[f\"v_{suffix}\"], this_ds[f\"w_{suffix}\"],\n",
    "            a, W_f\n",
    "        )\n",
    "        print(f\"{month}\\t{year}\\t{suffix}\\t{round(np.rad2deg(tilt), 5)}\")\n",
    "        this_ds[f\"u_{suffix}\"] = ('time', u_streamwise)\n",
    "        this_ds[f\"v_{suffix}\"] = ('time', v_streamwise)\n",
    "        this_ds[f\"w_{suffix}\"] = ('time', w_streamwise)\n",
    "    planar_fitted_ds_ls.append(this_ds)\n",
    "sos_ds_fitted = xr.concat(planar_fitted_ds_ls, dim='time')"
   ]
  },
  {
   "cell_type": "markdown",
   "metadata": {},
   "source": [
    "## SPLASH"
   ]
  },
  {
   "cell_type": "code",
   "execution_count": null,
   "metadata": {},
   "outputs": [],
   "source": [
    "# Open all files, get variables we want, and concatenate into a single dataset for both AVP and KPS sites\n",
    "\n",
    "# SPLASH KETTLE PONDS data\n",
    "splash_kps_files = glob.glob(\"/Users/elischwat/Development/data/sublimationofsnow/asfs/ASFS-30_Level2_SPLASH2021-2023/sledseb.asfs30.level2.0.10min.**.nc\")\n",
    "splash_kps_files = sorted([f for f in splash_kps_files \n",
    "    if '202211' in f \n",
    "    or '202212' in f \n",
    "    or '202301' in f \n",
    "    or '202302' in f \n",
    "    or '202303' in f \n",
    "    or '202304' in f \n",
    "    or '202305' in f \n",
    "    or '202306' in f \n",
    "])\n",
    "datasets = [xr.open_dataset(file)[['wspd_u_mean', 'wspd_v_mean', 'wspd_w_mean']] for file in splash_kps_files]\n",
    "splash_kps_ds = xr.concat(datasets, dim='time')\n",
    "splash_kps_ds = utils.fill_missing_timestamps(splash_kps_ds)\n",
    "\n",
    "# SPLASH AVERY PICNIC data\n",
    "splash_avp_files = glob.glob(\"/Users/elischwat/Development/data/sublimationofsnow/asfs/ASFS-50_Level2_SPLASH2021-2023/sledseb.asfs50.level2.0.10min.**.nc\")\n",
    "splash_avp_files = sorted([f for f in splash_avp_files \n",
    "    if '202211' in f \n",
    "    or '202212' in f \n",
    "    or '202301' in f \n",
    "    or '202302' in f \n",
    "    or '202303' in f \n",
    "    or '202304' in f \n",
    "    or '202305' in f \n",
    "    or '202306' in f \n",
    "])\n",
    "datasets = [xr.open_dataset(file)[['wspd_u_mean', 'wspd_v_mean', 'wspd_w_mean']] for file in splash_avp_files]\n",
    "splash_avp_ds = xr.concat(datasets, dim='time')\n",
    "splash_avp_ds = utils.fill_missing_timestamps(splash_avp_ds)"
   ]
  },
  {
   "cell_type": "code",
   "execution_count": null,
   "metadata": {},
   "outputs": [],
   "source": [
    "# KPS SITE Iterate over each month, calculating and applying planar fits to u, v, w data, and combining the monthly datasets into a single dataset\n",
    "planar_fitted_ds_ls = []\n",
    "for month, year in [\n",
    "    (11, 2022),\n",
    "    (12, 2022),\n",
    "    (1, 2023),\n",
    "    (2, 2023),\n",
    "    (3, 2023),\n",
    "    (4, 2023),\n",
    "    (5, 2023),\n",
    "    (6, 2023),\n",
    "]:\n",
    "    this_ds = splash_kps_ds.sel(time = splash_kps_ds.time.dt.year.isin([year]))\n",
    "    this_ds = this_ds.sel(time = this_ds.time.dt.month.isin([month]))\n",
    "    (a,b,c), (tilt, tiltaz), W_f = extrautils.calculate_planar_fit(this_ds[f\"wspd_u_mean\"], this_ds[f\"wspd_v_mean\"], this_ds[f\"wspd_w_mean\"])\n",
    "    (u_streamwise, v_streamwise, w_streamwise) = extrautils.apply_planar_fit(\n",
    "        this_ds[f\"wspd_u_mean\"], this_ds[f\"wspd_v_mean\"], this_ds[f\"wspd_w_mean\"],\n",
    "        a, W_f\n",
    "    )\n",
    "    this_ds[f\"wspd_u_mean\"] = ('time', u_streamwise)\n",
    "    this_ds[f\"wspd_v_mean\"] = ('time', v_streamwise)\n",
    "    this_ds[f\"wspd_w_mean\"] = ('time', w_streamwise)\n",
    "    planar_fitted_ds_ls.append(this_ds)\n",
    "splash_kps_ds_fitted = xr.concat(planar_fitted_ds_ls, dim='time')"
   ]
  },
  {
   "cell_type": "code",
   "execution_count": null,
   "metadata": {},
   "outputs": [],
   "source": [
    "# AVP SITE Iterate over each month, calculating and applying planar fits to u, v, w data, and combining the monthly datasets into a single dataset\n",
    "planar_fitted_ds_ls = []\n",
    "for month, year in [\n",
    "    (11, 2022),\n",
    "    (12, 2022),\n",
    "    (1, 2023),\n",
    "    (2, 2023),\n",
    "    (3, 2023),\n",
    "    (4, 2023),\n",
    "    (5, 2023),\n",
    "    (6, 2023),\n",
    "]:\n",
    "    this_ds = splash_avp_ds.sel(time = splash_avp_ds.time.dt.year.isin([year]))\n",
    "    this_ds = this_ds.sel(time = this_ds.time.dt.month.isin([month]))\n",
    "    (a,b,c), (tilt, tiltaz), W_f = extrautils.calculate_planar_fit(this_ds[f\"wspd_u_mean\"], this_ds[f\"wspd_v_mean\"], this_ds[f\"wspd_w_mean\"])\n",
    "    (u_streamwise, v_streamwise, w_streamwise) = extrautils.apply_planar_fit(\n",
    "        this_ds[f\"wspd_u_mean\"], this_ds[f\"wspd_v_mean\"], this_ds[f\"wspd_w_mean\"],\n",
    "        a, W_f\n",
    "    )\n",
    "    this_ds[f\"wspd_u_mean\"] = ('time', u_streamwise)\n",
    "    this_ds[f\"wspd_v_mean\"] = ('time', v_streamwise)\n",
    "    this_ds[f\"wspd_w_mean\"] = ('time', w_streamwise)\n",
    "    planar_fitted_ds_ls.append(this_ds)\n",
    "splash_avp_ds_fitted = xr.concat(planar_fitted_ds_ls, dim='time')"
   ]
  },
  {
   "cell_type": "markdown",
   "metadata": {},
   "source": [
    "## SAIL"
   ]
  },
  {
   "cell_type": "code",
   "execution_count": null,
   "metadata": {},
   "outputs": [],
   "source": [
    "import act"
   ]
  },
  {
   "cell_type": "code",
   "execution_count": null,
   "metadata": {},
   "outputs": [],
   "source": [
    "username = os.getenv(\"ARM_USERNAME\")\n",
    "token = os.getenv(\"ARM_TOKEN\")\n",
    "ecor_gothic = 'guc30ecorM1.b1'\n",
    "ecor_kp = 'guc30ecorS3.b1'\n",
    "met_gothic = 'gucmetM1.b1'\n",
    "start_date = '20221030'\n",
    "end_date = '20230701'\n",
    "output_dir = '/Users/elischwat/Development/data/sublimationofsnow/'\n",
    "\n",
    "kp_sail_ecor_download_dir = os.path.join(output_dir, ecor_kp)\n",
    "gothic_sail_ecor_download_dir = os.path.join(output_dir, ecor_gothic)"
   ]
  },
  {
   "cell_type": "code",
   "execution_count": null,
   "metadata": {},
   "outputs": [],
   "source": [
    "act.discovery.download_arm_data(\n",
    "    username,    token,    ecor_gothic,    \n",
    "    start_date, end_date,\n",
    "    output = gothic_sail_ecor_download_dir\n",
    ")\n",
    "act.discovery.download_arm_data(\n",
    "    username,    token,    ecor_kp,    \n",
    "    start_date, end_date,\n",
    "    output = kp_sail_ecor_download_dir\n",
    ")"
   ]
  },
  {
   "cell_type": "code",
   "execution_count": null,
   "metadata": {},
   "outputs": [],
   "source": [
    "sail_gothic_ds = act.io.read_arm_netcdf(\n",
    "    glob.glob(os.path.join(gothic_sail_ecor_download_dir, '*.cdf'))\n",
    ")[['mean_u', 'mean_v', 'mean_w']]\n",
    "\n",
    "sail_kps_ds = act.io.read_arm_netcdf(\n",
    "    glob.glob(os.path.join(kp_sail_ecor_download_dir, '*.cdf'))\n",
    ")[['mean_u', 'mean_v', 'mean_w']]"
   ]
  },
  {
   "cell_type": "code",
   "execution_count": null,
   "metadata": {},
   "outputs": [],
   "source": [
    "# GOTHIC SITE Iterate over each month, calculating and applying planar fits to u, v, w data, and combining the monthly datasets into a single dataset\n",
    "planar_fitted_ds_ls = []\n",
    "for month, year in [\n",
    "    (11, 2022),\n",
    "    (12, 2022),\n",
    "    (1, 2023),\n",
    "    (2, 2023),\n",
    "    (3, 2023),\n",
    "    (4, 2023),\n",
    "    (5, 2023),\n",
    "    (6, 2023),\n",
    "]:\n",
    "    this_ds = sail_gothic_ds.sel(time = sail_gothic_ds.time.dt.year.isin([year]))\n",
    "    this_ds = this_ds.sel(time = this_ds.time.dt.month.isin([month]))\n",
    "    (a,b,c), (tilt, tiltaz), W_f = extrautils.calculate_planar_fit(this_ds[f\"mean_u\"], this_ds[f\"mean_v\"], this_ds[f\"mean_w\"])\n",
    "    (u_streamwise, v_streamwise, w_streamwise) = extrautils.apply_planar_fit(\n",
    "        this_ds[f\"mean_u\"], this_ds[f\"mean_v\"], this_ds[f\"mean_w\"],\n",
    "        a, W_f\n",
    "    )\n",
    "    this_ds[f\"mean_u\"] = ('time', u_streamwise)\n",
    "    this_ds[f\"mean_v\"] = ('time', v_streamwise)\n",
    "    this_ds[f\"mean_w\"] = ('time', w_streamwise)\n",
    "    planar_fitted_ds_ls.append(this_ds)\n",
    "sail_gothic_ds_fitted = xr.concat(planar_fitted_ds_ls, dim='time')"
   ]
  },
  {
   "cell_type": "code",
   "execution_count": null,
   "metadata": {},
   "outputs": [],
   "source": [
    "# GOTHIC SITE Iterate over each month, calculating and applying planar fits to u, v, w data, and combining the monthly datasets into a single dataset\n",
    "planar_fitted_ds_ls = []\n",
    "for month, year in [\n",
    "    (11, 2022),\n",
    "    (12, 2022),\n",
    "    (1, 2023),\n",
    "    (2, 2023),\n",
    "    (3, 2023),\n",
    "    (4, 2023),\n",
    "    (5, 2023),\n",
    "    (6, 2023),\n",
    "]:\n",
    "    this_ds = sail_kps_ds.sel(time = sail_kps_ds.time.dt.year.isin([year]))\n",
    "    this_ds = this_ds.sel(time = this_ds.time.dt.month.isin([month]))\n",
    "    (a,b,c), (tilt, tiltaz), W_f = extrautils.calculate_planar_fit(this_ds[f\"mean_u\"], this_ds[f\"mean_v\"], this_ds[f\"mean_w\"])\n",
    "    (u_streamwise, v_streamwise, w_streamwise) = extrautils.apply_planar_fit(\n",
    "        this_ds[f\"mean_u\"], this_ds[f\"mean_v\"], this_ds[f\"mean_w\"],\n",
    "        a, W_f\n",
    "    )\n",
    "    this_ds[f\"mean_u\"] = ('time', u_streamwise)\n",
    "    this_ds[f\"mean_v\"] = ('time', v_streamwise)\n",
    "    this_ds[f\"mean_w\"] = ('time', w_streamwise)\n",
    "    planar_fitted_ds_ls.append(this_ds)\n",
    "sail_kps_ds_fitted = xr.concat(planar_fitted_ds_ls, dim='time')"
   ]
  },
  {
   "cell_type": "markdown",
   "metadata": {},
   "source": [
    "# Conform all data to similar format"
   ]
  },
  {
   "cell_type": "code",
   "execution_count": 575,
   "metadata": {},
   "outputs": [],
   "source": [
    "sos_df = sos_ds_fitted.to_dataframe()\n",
    "sos_df_local = utils.modify_df_timezone(sos_df.reset_index(), 'UTC', 'US/Mountain')\n",
    "sos_df_local = sos_df_local.set_index('time').resample('30min').mean().reset_index()"
   ]
  },
  {
   "cell_type": "code",
   "execution_count": 576,
   "metadata": {},
   "outputs": [],
   "source": [
    "splash_avp_df = splash_avp_ds_fitted.to_dataframe()\n",
    "splash_avp_df_local = utils.modify_df_timezone(splash_avp_df.reset_index(), 'UTC', 'US/Mountain')\n",
    "splash_avp_df_local = splash_avp_df_local.set_index('time').resample('30min').mean().reset_index()\n",
    "\n",
    "splash_kps_df = splash_kps_ds_fitted.to_dataframe()\n",
    "splash_kps_df_local = utils.modify_df_timezone(splash_kps_df.reset_index(), 'UTC', 'US/Mountain')\n",
    "splash_kps_df_local = splash_kps_df_local.set_index('time').resample('30min').mean().reset_index()"
   ]
  },
  {
   "cell_type": "code",
   "execution_count": 577,
   "metadata": {},
   "outputs": [],
   "source": [
    "sail_gothic_df = sail_gothic_ds_fitted.to_dataframe()\n",
    "sail_gothic_df_local = utils.modify_df_timezone(sail_gothic_df.reset_index(), 'UTC', 'US/Mountain')\n",
    "\n",
    "sail_kps_df = sail_kps_ds_fitted.to_dataframe()\n",
    "sail_kps_df_local = utils.modify_df_timezone(sail_kps_df.reset_index(), 'UTC', 'US/Mountain')"
   ]
  },
  {
   "cell_type": "code",
   "execution_count": 595,
   "metadata": {},
   "outputs": [],
   "source": [
    "w_combo_df = sos_df_local[['time', 'w_3m_c', 'w_20m_c']].rename(\n",
    "    columns={\n",
    "        'w_3m_c': 'w 3m KPS SOS',\n",
    "        'w_20m_c': 'w 20m KPS SOS',\n",
    "    }\n",
    ").merge(\n",
    "    splash_avp_df_local[['time', 'wspd_w_mean']].rename(columns={'wspd_w_mean': 'w AVP SPLASH'}),\n",
    "    on='time'\n",
    ").merge(\n",
    "    splash_kps_df_local[['time', 'wspd_w_mean']].rename(columns={'wspd_w_mean': 'w KPS SPLASH'}),\n",
    "    on='time'\n",
    ").merge(\n",
    "    sail_gothic_df_local[['time', 'mean_w']].rename(columns={'mean_w': 'w GOT SAIL'}),\n",
    "    on='time'\n",
    ").merge(\n",
    "    sail_kps_df_local[['time', 'mean_w']].rename(columns={'mean_w': 'w KPS SAIL'}),\n",
    "    on='time'\n",
    ")"
   ]
  },
  {
   "cell_type": "markdown",
   "metadata": {},
   "source": [
    "# PLOT: Vertical velocities"
   ]
  },
  {
   "cell_type": "code",
   "execution_count": 623,
   "metadata": {},
   "outputs": [],
   "source": [
    "rule = alt.Chart().transform_calculate(y='0').mark_rule(strokeWidth=2).encode(y='y:Q')"
   ]
  },
  {
   "cell_type": "markdown",
   "metadata": {},
   "source": [
    "## Seasonal analysis - upvalley vs downvalley winds"
   ]
  },
  {
   "cell_type": "code",
   "execution_count": 618,
   "metadata": {},
   "outputs": [],
   "source": [
    "upvalley_wind_times = sos_df_local.query(\"dir_3m_c < 152\").query(\"dir_3m_c > 92\").time.values\n",
    "downvalley_wind_times = sos_df_local.query(\"dir_3m_c < 342\").query(\"dir_3m_c > 292\").time.values\n",
    "\n",
    "is_no_bs = (sos_df_local.set_index('time')[['SF_avg_1m_ue', 'SF_avg_2m_ue']] > 0).sum(axis=1)\n",
    "no_bs_times = is_no_bs[is_no_bs == 0].index.values"
   ]
  },
  {
   "cell_type": "code",
   "execution_count": 637,
   "metadata": {},
   "outputs": [
    {
     "name": "stderr",
     "output_type": "stream",
     "text": [
      "/var/folders/x_/2h52bcjx2px15bhmdpdd748h0000gn/T/ipykernel_3208/1713523193.py:2: UserWarning: Boolean Series key will be reindexed to match DataFrame index.\n",
      "  w_combo_df[w_combo_df.time > '20221130'][w_combo_df.time < '20230505'][\n",
      "/var/folders/x_/2h52bcjx2px15bhmdpdd748h0000gn/T/ipykernel_3208/1713523193.py:2: UserWarning: Boolean Series key will be reindexed to match DataFrame index.\n",
      "  w_combo_df[w_combo_df.time > '20221130'][w_combo_df.time < '20230505'][\n",
      "/var/folders/x_/2h52bcjx2px15bhmdpdd748h0000gn/T/ipykernel_3208/1713523193.py:14: UserWarning: Boolean Series key will be reindexed to match DataFrame index.\n",
      "  w_combo_df[w_combo_df.time > '20221130'][w_combo_df.time < '20230505'][\n",
      "/var/folders/x_/2h52bcjx2px15bhmdpdd748h0000gn/T/ipykernel_3208/1713523193.py:14: UserWarning: Boolean Series key will be reindexed to match DataFrame index.\n",
      "  w_combo_df[w_combo_df.time > '20221130'][w_combo_df.time < '20230505'][\n"
     ]
    },
    {
     "data": {
      "text/html": [
       "\n",
       "<style>\n",
       "  #altair-viz-fc3bc7d58abf4517a79bd135e9aa273f.vega-embed {\n",
       "    width: 100%;\n",
       "    display: flex;\n",
       "  }\n",
       "\n",
       "  #altair-viz-fc3bc7d58abf4517a79bd135e9aa273f.vega-embed details,\n",
       "  #altair-viz-fc3bc7d58abf4517a79bd135e9aa273f.vega-embed details summary {\n",
       "    position: relative;\n",
       "  }\n",
       "</style>\n",
       "<div id=\"altair-viz-fc3bc7d58abf4517a79bd135e9aa273f\"></div>\n",
       "<script type=\"text/javascript\">\n",
       "  var VEGA_DEBUG = (typeof VEGA_DEBUG == \"undefined\") ? {} : VEGA_DEBUG;\n",
       "  (function(spec, embedOpt){\n",
       "    let outputDiv = document.currentScript.previousElementSibling;\n",
       "    if (outputDiv.id !== \"altair-viz-fc3bc7d58abf4517a79bd135e9aa273f\") {\n",
       "      outputDiv = document.getElementById(\"altair-viz-fc3bc7d58abf4517a79bd135e9aa273f\");\n",
       "    }\n",
       "    const paths = {\n",
       "      \"vega\": \"https://cdn.jsdelivr.net/npm/vega@5?noext\",\n",
       "      \"vega-lib\": \"https://cdn.jsdelivr.net/npm/vega-lib?noext\",\n",
       "      \"vega-lite\": \"https://cdn.jsdelivr.net/npm/vega-lite@5.20.1?noext\",\n",
       "      \"vega-embed\": \"https://cdn.jsdelivr.net/npm/vega-embed@6?noext\",\n",
       "    };\n",
       "\n",
       "    function maybeLoadScript(lib, version) {\n",
       "      var key = `${lib.replace(\"-\", \"\")}_version`;\n",
       "      return (VEGA_DEBUG[key] == version) ?\n",
       "        Promise.resolve(paths[lib]) :\n",
       "        new Promise(function(resolve, reject) {\n",
       "          var s = document.createElement('script');\n",
       "          document.getElementsByTagName(\"head\")[0].appendChild(s);\n",
       "          s.async = true;\n",
       "          s.onload = () => {\n",
       "            VEGA_DEBUG[key] = version;\n",
       "            return resolve(paths[lib]);\n",
       "          };\n",
       "          s.onerror = () => reject(`Error loading script: ${paths[lib]}`);\n",
       "          s.src = paths[lib];\n",
       "        });\n",
       "    }\n",
       "\n",
       "    function showError(err) {\n",
       "      outputDiv.innerHTML = `<div class=\"error\" style=\"color:red;\">${err}</div>`;\n",
       "      throw err;\n",
       "    }\n",
       "\n",
       "    function displayChart(vegaEmbed) {\n",
       "      vegaEmbed(outputDiv, spec, embedOpt)\n",
       "        .catch(err => showError(`Javascript Error: ${err.message}<br>This usually means there's a typo in your chart specification. See the javascript console for the full traceback.`));\n",
       "    }\n",
       "\n",
       "    if(typeof define === \"function\" && define.amd) {\n",
       "      requirejs.config({paths});\n",
       "      require([\"vega-embed\"], displayChart, err => showError(`Error loading script: ${err.message}`));\n",
       "    } else {\n",
       "      maybeLoadScript(\"vega\", \"5\")\n",
       "        .then(() => maybeLoadScript(\"vega-lite\", \"5.20.1\"))\n",
       "        .then(() => maybeLoadScript(\"vega-embed\", \"6\"))\n",
       "        .catch(showError)\n",
       "        .then(() => displayChart(vegaEmbed));\n",
       "    }\n",
       "  })({\"config\": {\"view\": {\"continuousWidth\": 300, \"continuousHeight\": 300}}, \"hconcat\": [{\"layer\": [{\"data\": {\"name\": \"empty\"}, \"mark\": {\"type\": \"rule\", \"strokeWidth\": 2}, \"encoding\": {\"y\": {\"field\": \"y\", \"type\": \"quantitative\"}}, \"transform\": [{\"calculate\": \"0\", \"as\": \"y\"}]}, {\"data\": {\"url\": \"altair-data-57c12911ec36b8e6b77b148b33fddc55.json\", \"format\": {\"type\": \"json\"}}, \"mark\": {\"type\": \"line\"}, \"encoding\": {\"color\": {\"field\": \"height\", \"type\": \"nominal\"}, \"x\": {\"field\": \"time\", \"timeUnit\": \"hoursminutes\", \"type\": \"temporal\"}, \"y\": {\"aggregate\": \"mean\", \"field\": \"value\", \"type\": \"quantitative\"}}, \"transform\": [{\"fold\": [\"w 3m KPS SOS\", \"w 20m KPS SOS\", \"w AVP SPLASH\", \"w GOT SAIL\", \"w KPS SAIL\"], \"as\": [\"height\", \"value\"]}]}]}, {\"layer\": [{\"data\": {\"name\": \"empty\"}, \"mark\": {\"type\": \"rule\", \"strokeWidth\": 2}, \"encoding\": {\"y\": {\"field\": \"y\", \"type\": \"quantitative\"}}, \"transform\": [{\"calculate\": \"0\", \"as\": \"y\"}]}, {\"data\": {\"url\": \"altair-data-bb673b3e4b200ba97f8128c543026806.json\", \"format\": {\"type\": \"json\"}}, \"mark\": {\"type\": \"line\"}, \"encoding\": {\"color\": {\"field\": \"height\", \"type\": \"nominal\"}, \"x\": {\"field\": \"time\", \"timeUnit\": \"hoursminutes\", \"type\": \"temporal\"}, \"y\": {\"aggregate\": \"mean\", \"field\": \"value\", \"type\": \"quantitative\"}}, \"transform\": [{\"fold\": [\"w 3m KPS SOS\", \"w 20m KPS SOS\", \"w AVP SPLASH\", \"w GOT SAIL\", \"w KPS SAIL\"], \"as\": [\"height\", \"value\"]}]}]}], \"$schema\": \"https://vega.github.io/schema/vega-lite/v5.20.1.json\", \"datasets\": {\"empty\": [{}]}}, {\"mode\": \"vega-lite\"});\n",
       "</script>"
      ],
      "text/plain": [
       "alt.HConcatChart(...)"
      ]
     },
     "execution_count": 637,
     "metadata": {},
     "output_type": "execute_result"
    }
   ],
   "source": [
    "rule + alt.Chart(\n",
    "    w_combo_df[w_combo_df.time > '20221130'][w_combo_df.time < '20230505'][\n",
    "        w_combo_df.time.isin(set(upvalley_wind_times).intersection(set(no_bs_times)))\n",
    "    ]\n",
    ").transform_fold(\n",
    "    w_combo_df.columns.drop('time').drop('w KPS SPLASH'),\n",
    "    as_=('height', 'value')\n",
    ").mark_line().encode(\n",
    "    alt.X('hoursminutes(time):T'),\n",
    "    alt.Y('mean(value):Q'),\n",
    "    alt.Color('height:N')\n",
    ") |\\\n",
    "rule + alt.Chart(\n",
    "    w_combo_df[w_combo_df.time > '20221130'][w_combo_df.time < '20230505'][\n",
    "        w_combo_df.time.isin(set(downvalley_wind_times).intersection(set(no_bs_times)))\n",
    "    ]\n",
    ").transform_fold(\n",
    "    w_combo_df.columns.drop('time').drop('w KPS SPLASH'),\n",
    "    as_=('height', 'value')\n",
    ").mark_line().encode(\n",
    "    alt.X('hoursminutes(time):T'),\n",
    "    alt.Y('mean(value):Q'),\n",
    "    alt.Color('height:N')\n",
    ")"
   ]
  },
  {
   "cell_type": "markdown",
   "metadata": {},
   "source": [
    "## Case studies"
   ]
  },
  {
   "cell_type": "markdown",
   "metadata": {},
   "source": [
    "Make sure we can replicate the plots from Chapter 1"
   ]
  },
  {
   "cell_type": "code",
   "execution_count": 626,
   "metadata": {},
   "outputs": [
    {
     "name": "stderr",
     "output_type": "stream",
     "text": [
      "/var/folders/x_/2h52bcjx2px15bhmdpdd748h0000gn/T/ipykernel_3208/2935914290.py:2: UserWarning: Boolean Series key will be reindexed to match DataFrame index.\n",
      "  sos_df_local[sos_df_local.time > DATE_START][sos_df_local.time < DATE_END].set_index('time')[['w_3m_c', 'w_5m_c', 'w_10m_c', 'w_15m_c', 'w_20m_c']].resample('30min').mean().reset_index()\n"
     ]
    },
    {
     "data": {
      "text/html": [
       "\n",
       "<style>\n",
       "  #altair-viz-dd748a3211f4485ab9cd66a2942e17bf.vega-embed {\n",
       "    width: 100%;\n",
       "    display: flex;\n",
       "  }\n",
       "\n",
       "  #altair-viz-dd748a3211f4485ab9cd66a2942e17bf.vega-embed details,\n",
       "  #altair-viz-dd748a3211f4485ab9cd66a2942e17bf.vega-embed details summary {\n",
       "    position: relative;\n",
       "  }\n",
       "</style>\n",
       "<div id=\"altair-viz-dd748a3211f4485ab9cd66a2942e17bf\"></div>\n",
       "<script type=\"text/javascript\">\n",
       "  var VEGA_DEBUG = (typeof VEGA_DEBUG == \"undefined\") ? {} : VEGA_DEBUG;\n",
       "  (function(spec, embedOpt){\n",
       "    let outputDiv = document.currentScript.previousElementSibling;\n",
       "    if (outputDiv.id !== \"altair-viz-dd748a3211f4485ab9cd66a2942e17bf\") {\n",
       "      outputDiv = document.getElementById(\"altair-viz-dd748a3211f4485ab9cd66a2942e17bf\");\n",
       "    }\n",
       "    const paths = {\n",
       "      \"vega\": \"https://cdn.jsdelivr.net/npm/vega@5?noext\",\n",
       "      \"vega-lib\": \"https://cdn.jsdelivr.net/npm/vega-lib?noext\",\n",
       "      \"vega-lite\": \"https://cdn.jsdelivr.net/npm/vega-lite@5.20.1?noext\",\n",
       "      \"vega-embed\": \"https://cdn.jsdelivr.net/npm/vega-embed@6?noext\",\n",
       "    };\n",
       "\n",
       "    function maybeLoadScript(lib, version) {\n",
       "      var key = `${lib.replace(\"-\", \"\")}_version`;\n",
       "      return (VEGA_DEBUG[key] == version) ?\n",
       "        Promise.resolve(paths[lib]) :\n",
       "        new Promise(function(resolve, reject) {\n",
       "          var s = document.createElement('script');\n",
       "          document.getElementsByTagName(\"head\")[0].appendChild(s);\n",
       "          s.async = true;\n",
       "          s.onload = () => {\n",
       "            VEGA_DEBUG[key] = version;\n",
       "            return resolve(paths[lib]);\n",
       "          };\n",
       "          s.onerror = () => reject(`Error loading script: ${paths[lib]}`);\n",
       "          s.src = paths[lib];\n",
       "        });\n",
       "    }\n",
       "\n",
       "    function showError(err) {\n",
       "      outputDiv.innerHTML = `<div class=\"error\" style=\"color:red;\">${err}</div>`;\n",
       "      throw err;\n",
       "    }\n",
       "\n",
       "    function displayChart(vegaEmbed) {\n",
       "      vegaEmbed(outputDiv, spec, embedOpt)\n",
       "        .catch(err => showError(`Javascript Error: ${err.message}<br>This usually means there's a typo in your chart specification. See the javascript console for the full traceback.`));\n",
       "    }\n",
       "\n",
       "    if(typeof define === \"function\" && define.amd) {\n",
       "      requirejs.config({paths});\n",
       "      require([\"vega-embed\"], displayChart, err => showError(`Error loading script: ${err.message}`));\n",
       "    } else {\n",
       "      maybeLoadScript(\"vega\", \"5\")\n",
       "        .then(() => maybeLoadScript(\"vega-lite\", \"5.20.1\"))\n",
       "        .then(() => maybeLoadScript(\"vega-embed\", \"6\"))\n",
       "        .catch(showError)\n",
       "        .then(() => displayChart(vegaEmbed));\n",
       "    }\n",
       "  })({\"config\": {\"view\": {\"continuousWidth\": 300, \"continuousHeight\": 300}}, \"layer\": [{\"data\": {\"name\": \"empty\"}, \"mark\": {\"type\": \"rule\", \"strokeWidth\": 2}, \"encoding\": {\"y\": {\"field\": \"y\", \"type\": \"quantitative\"}}, \"transform\": [{\"calculate\": \"0\", \"as\": \"y\"}]}, {\"data\": {\"url\": \"altair-data-59a45b9ffe1f5bdb107f6d83a5e64b0a.json\", \"format\": {\"type\": \"json\"}}, \"mark\": {\"type\": \"line\"}, \"encoding\": {\"color\": {\"field\": \"height\", \"scale\": {\"scheme\": \"turbo\", \"domain\": [\"w_3m_c\", \"w_5m_c\", \"w_10m_c\", \"w_15m_c\", \"w_20m_c\"]}, \"type\": \"ordinal\"}, \"x\": {\"axis\": {}, \"field\": \"time\", \"title\": null, \"type\": \"temporal\"}, \"y\": {\"field\": \"value\", \"title\": [\"Vertical wind speed (m/s)\"], \"type\": \"quantitative\"}}, \"transform\": [{\"fold\": [\"w_3m_c\", \"w_5m_c\", \"w_10m_c\", \"w_15m_c\", \"w_20m_c\"], \"as\": [\"height\", \"value\"]}]}], \"height\": 125, \"width\": 300, \"$schema\": \"https://vega.github.io/schema/vega-lite/v5.20.1.json\", \"datasets\": {\"empty\": [{}]}}, {\"mode\": \"vega-lite\"});\n",
       "</script>"
      ],
      "text/plain": [
       "alt.LayerChart(...)"
      ]
     },
     "execution_count": 626,
     "metadata": {},
     "output_type": "execute_result"
    }
   ],
   "source": [
    "rule + alt.Chart(\n",
    "    sos_df_local[sos_df_local.time > DATE_START][sos_df_local.time < DATE_END].set_index('time')[['w_3m_c', 'w_5m_c', 'w_10m_c', 'w_15m_c', 'w_20m_c']].resample('30min').mean().reset_index()\n",
    ").mark_line().transform_fold(\n",
    "    ['w_3m_c', 'w_5m_c', 'w_10m_c', 'w_15m_c', 'w_20m_c'],\n",
    "    as_=['height', 'value']\n",
    ").encode(\n",
    "    alt.X('time:T'). axis().title(None),\n",
    "    alt.Y('value:Q').title(['Vertical wind speed (m/s)']),\n",
    "    alt.Color('height:O').scale(scheme='turbo', domain=[\n",
    "        'w_3m_c', 'w_5m_c', 'w_10m_c', 'w_15m_c', 'w_20m_c'\n",
    "    ])\n",
    ").properties(width=300, height = 125)"
   ]
  },
  {
   "cell_type": "code",
   "execution_count": 640,
   "metadata": {},
   "outputs": [
    {
     "name": "stderr",
     "output_type": "stream",
     "text": [
      "/var/folders/x_/2h52bcjx2px15bhmdpdd748h0000gn/T/ipykernel_3208/594980858.py:4: UserWarning: Boolean Series key will be reindexed to match DataFrame index.\n",
      "  w_combo_df[w_combo_df.time > DATE_START][w_combo_df.time < DATE_END]\n"
     ]
    },
    {
     "data": {
      "text/html": [
       "\n",
       "<style>\n",
       "  #altair-viz-85c872b14e9f45cbb47c771d1e07e18b.vega-embed {\n",
       "    width: 100%;\n",
       "    display: flex;\n",
       "  }\n",
       "\n",
       "  #altair-viz-85c872b14e9f45cbb47c771d1e07e18b.vega-embed details,\n",
       "  #altair-viz-85c872b14e9f45cbb47c771d1e07e18b.vega-embed details summary {\n",
       "    position: relative;\n",
       "  }\n",
       "</style>\n",
       "<div id=\"altair-viz-85c872b14e9f45cbb47c771d1e07e18b\"></div>\n",
       "<script type=\"text/javascript\">\n",
       "  var VEGA_DEBUG = (typeof VEGA_DEBUG == \"undefined\") ? {} : VEGA_DEBUG;\n",
       "  (function(spec, embedOpt){\n",
       "    let outputDiv = document.currentScript.previousElementSibling;\n",
       "    if (outputDiv.id !== \"altair-viz-85c872b14e9f45cbb47c771d1e07e18b\") {\n",
       "      outputDiv = document.getElementById(\"altair-viz-85c872b14e9f45cbb47c771d1e07e18b\");\n",
       "    }\n",
       "    const paths = {\n",
       "      \"vega\": \"https://cdn.jsdelivr.net/npm/vega@5?noext\",\n",
       "      \"vega-lib\": \"https://cdn.jsdelivr.net/npm/vega-lib?noext\",\n",
       "      \"vega-lite\": \"https://cdn.jsdelivr.net/npm/vega-lite@5.20.1?noext\",\n",
       "      \"vega-embed\": \"https://cdn.jsdelivr.net/npm/vega-embed@6?noext\",\n",
       "    };\n",
       "\n",
       "    function maybeLoadScript(lib, version) {\n",
       "      var key = `${lib.replace(\"-\", \"\")}_version`;\n",
       "      return (VEGA_DEBUG[key] == version) ?\n",
       "        Promise.resolve(paths[lib]) :\n",
       "        new Promise(function(resolve, reject) {\n",
       "          var s = document.createElement('script');\n",
       "          document.getElementsByTagName(\"head\")[0].appendChild(s);\n",
       "          s.async = true;\n",
       "          s.onload = () => {\n",
       "            VEGA_DEBUG[key] = version;\n",
       "            return resolve(paths[lib]);\n",
       "          };\n",
       "          s.onerror = () => reject(`Error loading script: ${paths[lib]}`);\n",
       "          s.src = paths[lib];\n",
       "        });\n",
       "    }\n",
       "\n",
       "    function showError(err) {\n",
       "      outputDiv.innerHTML = `<div class=\"error\" style=\"color:red;\">${err}</div>`;\n",
       "      throw err;\n",
       "    }\n",
       "\n",
       "    function displayChart(vegaEmbed) {\n",
       "      vegaEmbed(outputDiv, spec, embedOpt)\n",
       "        .catch(err => showError(`Javascript Error: ${err.message}<br>This usually means there's a typo in your chart specification. See the javascript console for the full traceback.`));\n",
       "    }\n",
       "\n",
       "    if(typeof define === \"function\" && define.amd) {\n",
       "      requirejs.config({paths});\n",
       "      require([\"vega-embed\"], displayChart, err => showError(`Error loading script: ${err.message}`));\n",
       "    } else {\n",
       "      maybeLoadScript(\"vega\", \"5\")\n",
       "        .then(() => maybeLoadScript(\"vega-lite\", \"5.20.1\"))\n",
       "        .then(() => maybeLoadScript(\"vega-embed\", \"6\"))\n",
       "        .catch(showError)\n",
       "        .then(() => displayChart(vegaEmbed));\n",
       "    }\n",
       "  })({\"config\": {\"view\": {\"continuousWidth\": 300, \"continuousHeight\": 300}}, \"layer\": [{\"data\": {\"name\": \"empty\"}, \"mark\": {\"type\": \"rule\", \"strokeWidth\": 2}, \"encoding\": {\"y\": {\"field\": \"y\", \"type\": \"quantitative\"}}, \"transform\": [{\"calculate\": \"0\", \"as\": \"y\"}]}, {\"data\": {\"url\": \"altair-data-cb8e56077893e4283886ff626f425806.json\", \"format\": {\"type\": \"json\"}}, \"mark\": {\"type\": \"line\", \"color\": \"#beddf4\", \"opacity\": 0.75}, \"encoding\": {\"color\": {\"field\": \"height\", \"type\": \"nominal\"}, \"x\": {\"field\": \"time\", \"type\": \"temporal\"}, \"y\": {\"field\": \"rolling_avg\", \"type\": \"quantitative\"}}, \"transform\": [{\"fold\": [\"w 3m KPS SOS\", \"w 20m KPS SOS\", \"w AVP SPLASH\", \"w GOT SAIL\", \"w KPS SAIL\"], \"as\": [\"height\", \"value\"]}, {\"window\": [{\"op\": \"mean\", \"field\": \"value\", \"as\": \"rolling_avg\"}], \"frame\": [-2, 2], \"groupby\": [\"height\"]}]}], \"height\": 300, \"width\": 500, \"$schema\": \"https://vega.github.io/schema/vega-lite/v5.20.1.json\", \"datasets\": {\"empty\": [{}]}}, {\"mode\": \"vega-lite\"});\n",
       "</script>"
      ],
      "text/plain": [
       "alt.LayerChart(...)"
      ]
     },
     "execution_count": 640,
     "metadata": {},
     "output_type": "execute_result"
    }
   ],
   "source": [
    "DATE_START = '20230505'\n",
    "DATE_END = '20230506'\n",
    "rule + alt.Chart(\n",
    "    w_combo_df[w_combo_df.time > DATE_START][w_combo_df.time < DATE_END]\n",
    ").transform_fold(\n",
    "    w_combo_df.columns.drop('time').drop('w KPS SPLASH'),\n",
    "    as_=('height', 'value')\n",
    ").transform_window(\n",
    "    rolling_avg = 'mean(value)',\n",
    "    frame=[-2,2],\n",
    "    groupby = ['height']\n",
    ").mark_line(color='#beddf4', opacity=0.75).encode(\n",
    "    alt.X('time:T'),\n",
    "    alt.Y('rolling_avg:Q'),\n",
    "    alt.Color('height:N')\n",
    ").properties(height = 300, width=500)"
   ]
  },
  {
   "cell_type": "code",
   "execution_count": 635,
   "metadata": {},
   "outputs": [
    {
     "name": "stderr",
     "output_type": "stream",
     "text": [
      "/var/folders/x_/2h52bcjx2px15bhmdpdd748h0000gn/T/ipykernel_3208/3354033102.py:4: UserWarning: Boolean Series key will be reindexed to match DataFrame index.\n",
      "  w_combo_df[w_combo_df.time > DATE_START][w_combo_df.time < DATE_END]\n"
     ]
    },
    {
     "data": {
      "text/html": [
       "\n",
       "<style>\n",
       "  #altair-viz-ed0ceeadc7dd4d25b108d77de789d7e7.vega-embed {\n",
       "    width: 100%;\n",
       "    display: flex;\n",
       "  }\n",
       "\n",
       "  #altair-viz-ed0ceeadc7dd4d25b108d77de789d7e7.vega-embed details,\n",
       "  #altair-viz-ed0ceeadc7dd4d25b108d77de789d7e7.vega-embed details summary {\n",
       "    position: relative;\n",
       "  }\n",
       "</style>\n",
       "<div id=\"altair-viz-ed0ceeadc7dd4d25b108d77de789d7e7\"></div>\n",
       "<script type=\"text/javascript\">\n",
       "  var VEGA_DEBUG = (typeof VEGA_DEBUG == \"undefined\") ? {} : VEGA_DEBUG;\n",
       "  (function(spec, embedOpt){\n",
       "    let outputDiv = document.currentScript.previousElementSibling;\n",
       "    if (outputDiv.id !== \"altair-viz-ed0ceeadc7dd4d25b108d77de789d7e7\") {\n",
       "      outputDiv = document.getElementById(\"altair-viz-ed0ceeadc7dd4d25b108d77de789d7e7\");\n",
       "    }\n",
       "    const paths = {\n",
       "      \"vega\": \"https://cdn.jsdelivr.net/npm/vega@5?noext\",\n",
       "      \"vega-lib\": \"https://cdn.jsdelivr.net/npm/vega-lib?noext\",\n",
       "      \"vega-lite\": \"https://cdn.jsdelivr.net/npm/vega-lite@5.20.1?noext\",\n",
       "      \"vega-embed\": \"https://cdn.jsdelivr.net/npm/vega-embed@6?noext\",\n",
       "    };\n",
       "\n",
       "    function maybeLoadScript(lib, version) {\n",
       "      var key = `${lib.replace(\"-\", \"\")}_version`;\n",
       "      return (VEGA_DEBUG[key] == version) ?\n",
       "        Promise.resolve(paths[lib]) :\n",
       "        new Promise(function(resolve, reject) {\n",
       "          var s = document.createElement('script');\n",
       "          document.getElementsByTagName(\"head\")[0].appendChild(s);\n",
       "          s.async = true;\n",
       "          s.onload = () => {\n",
       "            VEGA_DEBUG[key] = version;\n",
       "            return resolve(paths[lib]);\n",
       "          };\n",
       "          s.onerror = () => reject(`Error loading script: ${paths[lib]}`);\n",
       "          s.src = paths[lib];\n",
       "        });\n",
       "    }\n",
       "\n",
       "    function showError(err) {\n",
       "      outputDiv.innerHTML = `<div class=\"error\" style=\"color:red;\">${err}</div>`;\n",
       "      throw err;\n",
       "    }\n",
       "\n",
       "    function displayChart(vegaEmbed) {\n",
       "      vegaEmbed(outputDiv, spec, embedOpt)\n",
       "        .catch(err => showError(`Javascript Error: ${err.message}<br>This usually means there's a typo in your chart specification. See the javascript console for the full traceback.`));\n",
       "    }\n",
       "\n",
       "    if(typeof define === \"function\" && define.amd) {\n",
       "      requirejs.config({paths});\n",
       "      require([\"vega-embed\"], displayChart, err => showError(`Error loading script: ${err.message}`));\n",
       "    } else {\n",
       "      maybeLoadScript(\"vega\", \"5\")\n",
       "        .then(() => maybeLoadScript(\"vega-lite\", \"5.20.1\"))\n",
       "        .then(() => maybeLoadScript(\"vega-embed\", \"6\"))\n",
       "        .catch(showError)\n",
       "        .then(() => displayChart(vegaEmbed));\n",
       "    }\n",
       "  })({\"config\": {\"view\": {\"continuousWidth\": 300, \"continuousHeight\": 300}}, \"layer\": [{\"data\": {\"name\": \"empty\"}, \"mark\": {\"type\": \"rule\", \"strokeWidth\": 2}, \"encoding\": {\"y\": {\"field\": \"y\", \"type\": \"quantitative\"}}, \"transform\": [{\"calculate\": \"0\", \"as\": \"y\"}]}, {\"data\": {\"url\": \"altair-data-fc8d8aac17e1d5b4d90be097cfaab903.json\", \"format\": {\"type\": \"json\"}}, \"mark\": {\"type\": \"line\", \"color\": \"#beddf4\", \"opacity\": 0.75}, \"encoding\": {\"color\": {\"field\": \"height\", \"type\": \"nominal\"}, \"x\": {\"field\": \"time\", \"type\": \"temporal\"}, \"y\": {\"field\": \"value\", \"type\": \"quantitative\"}}, \"transform\": [{\"fold\": [\"w 3m KPS SOS\", \"w 20m KPS SOS\", \"w AVP SPLASH\", \"w GOT SAIL\", \"w KPS SAIL\"], \"as\": [\"height\", \"value\"]}, {\"window\": [{\"op\": \"mean\", \"field\": \"value\", \"as\": \"rolling_avg\"}], \"frame\": [-2, 2], \"groupby\": [\"height\"]}]}], \"height\": 200, \"$schema\": \"https://vega.github.io/schema/vega-lite/v5.20.1.json\", \"datasets\": {\"empty\": [{}]}}, {\"mode\": \"vega-lite\"});\n",
       "</script>"
      ],
      "text/plain": [
       "alt.LayerChart(...)"
      ]
     },
     "execution_count": 635,
     "metadata": {},
     "output_type": "execute_result"
    }
   ],
   "source": [
    "DATE_START = '20230415'\n",
    "DATE_END = '20230416'\n",
    "rule + alt.Chart(\n",
    "    w_combo_df[w_combo_df.time > DATE_START][w_combo_df.time < DATE_END]\n",
    ").transform_fold(\n",
    "    w_combo_df.columns.drop('time').drop('w KPS SPLASH'),\n",
    "    as_=('height', 'value')\n",
    ").transform_window(\n",
    "    rolling_avg = 'mean(value)',\n",
    "    frame=[-2,2],\n",
    "    groupby = ['height']\n",
    ").mark_line(color='#beddf4', opacity=0.75).encode(\n",
    "    alt.X('time:T'),\n",
    "    alt.Y('value:Q'),\n",
    "    alt.Color('height:N')\n",
    ").properties(height = 200)"
   ]
  },
  {
   "cell_type": "code",
   "execution_count": 636,
   "metadata": {},
   "outputs": [
    {
     "name": "stderr",
     "output_type": "stream",
     "text": [
      "/var/folders/x_/2h52bcjx2px15bhmdpdd748h0000gn/T/ipykernel_3208/3796060813.py:4: UserWarning: Boolean Series key will be reindexed to match DataFrame index.\n",
      "  w_combo_df[w_combo_df.time > DATE_START][w_combo_df.time < DATE_END]\n"
     ]
    },
    {
     "data": {
      "text/html": [
       "\n",
       "<style>\n",
       "  #altair-viz-ff6b9226786c4ad7a48f07f2c3681d04.vega-embed {\n",
       "    width: 100%;\n",
       "    display: flex;\n",
       "  }\n",
       "\n",
       "  #altair-viz-ff6b9226786c4ad7a48f07f2c3681d04.vega-embed details,\n",
       "  #altair-viz-ff6b9226786c4ad7a48f07f2c3681d04.vega-embed details summary {\n",
       "    position: relative;\n",
       "  }\n",
       "</style>\n",
       "<div id=\"altair-viz-ff6b9226786c4ad7a48f07f2c3681d04\"></div>\n",
       "<script type=\"text/javascript\">\n",
       "  var VEGA_DEBUG = (typeof VEGA_DEBUG == \"undefined\") ? {} : VEGA_DEBUG;\n",
       "  (function(spec, embedOpt){\n",
       "    let outputDiv = document.currentScript.previousElementSibling;\n",
       "    if (outputDiv.id !== \"altair-viz-ff6b9226786c4ad7a48f07f2c3681d04\") {\n",
       "      outputDiv = document.getElementById(\"altair-viz-ff6b9226786c4ad7a48f07f2c3681d04\");\n",
       "    }\n",
       "    const paths = {\n",
       "      \"vega\": \"https://cdn.jsdelivr.net/npm/vega@5?noext\",\n",
       "      \"vega-lib\": \"https://cdn.jsdelivr.net/npm/vega-lib?noext\",\n",
       "      \"vega-lite\": \"https://cdn.jsdelivr.net/npm/vega-lite@5.20.1?noext\",\n",
       "      \"vega-embed\": \"https://cdn.jsdelivr.net/npm/vega-embed@6?noext\",\n",
       "    };\n",
       "\n",
       "    function maybeLoadScript(lib, version) {\n",
       "      var key = `${lib.replace(\"-\", \"\")}_version`;\n",
       "      return (VEGA_DEBUG[key] == version) ?\n",
       "        Promise.resolve(paths[lib]) :\n",
       "        new Promise(function(resolve, reject) {\n",
       "          var s = document.createElement('script');\n",
       "          document.getElementsByTagName(\"head\")[0].appendChild(s);\n",
       "          s.async = true;\n",
       "          s.onload = () => {\n",
       "            VEGA_DEBUG[key] = version;\n",
       "            return resolve(paths[lib]);\n",
       "          };\n",
       "          s.onerror = () => reject(`Error loading script: ${paths[lib]}`);\n",
       "          s.src = paths[lib];\n",
       "        });\n",
       "    }\n",
       "\n",
       "    function showError(err) {\n",
       "      outputDiv.innerHTML = `<div class=\"error\" style=\"color:red;\">${err}</div>`;\n",
       "      throw err;\n",
       "    }\n",
       "\n",
       "    function displayChart(vegaEmbed) {\n",
       "      vegaEmbed(outputDiv, spec, embedOpt)\n",
       "        .catch(err => showError(`Javascript Error: ${err.message}<br>This usually means there's a typo in your chart specification. See the javascript console for the full traceback.`));\n",
       "    }\n",
       "\n",
       "    if(typeof define === \"function\" && define.amd) {\n",
       "      requirejs.config({paths});\n",
       "      require([\"vega-embed\"], displayChart, err => showError(`Error loading script: ${err.message}`));\n",
       "    } else {\n",
       "      maybeLoadScript(\"vega\", \"5\")\n",
       "        .then(() => maybeLoadScript(\"vega-lite\", \"5.20.1\"))\n",
       "        .then(() => maybeLoadScript(\"vega-embed\", \"6\"))\n",
       "        .catch(showError)\n",
       "        .then(() => displayChart(vegaEmbed));\n",
       "    }\n",
       "  })({\"config\": {\"view\": {\"continuousWidth\": 300, \"continuousHeight\": 300}}, \"layer\": [{\"data\": {\"name\": \"empty\"}, \"mark\": {\"type\": \"rule\", \"strokeWidth\": 2}, \"encoding\": {\"y\": {\"field\": \"y\", \"type\": \"quantitative\"}}, \"transform\": [{\"calculate\": \"0\", \"as\": \"y\"}]}, {\"data\": {\"url\": \"altair-data-c74a819241b681450ade8e4ae86ffee6.json\", \"format\": {\"type\": \"json\"}}, \"mark\": {\"type\": \"line\", \"color\": \"#beddf4\", \"opacity\": 0.75}, \"encoding\": {\"color\": {\"field\": \"height\", \"type\": \"nominal\"}, \"x\": {\"field\": \"time\", \"type\": \"temporal\"}, \"y\": {\"field\": \"value\", \"type\": \"quantitative\"}}, \"transform\": [{\"fold\": [\"w 3m KPS SOS\", \"w 20m KPS SOS\", \"w AVP SPLASH\", \"w GOT SAIL\", \"w KPS SAIL\"], \"as\": [\"height\", \"value\"]}, {\"window\": [{\"op\": \"mean\", \"field\": \"value\", \"as\": \"rolling_avg\"}], \"frame\": [-2, 2], \"groupby\": [\"height\"]}]}], \"height\": 200, \"$schema\": \"https://vega.github.io/schema/vega-lite/v5.20.1.json\", \"datasets\": {\"empty\": [{}]}}, {\"mode\": \"vega-lite\"});\n",
       "</script>"
      ],
      "text/plain": [
       "alt.LayerChart(...)"
      ]
     },
     "execution_count": 636,
     "metadata": {},
     "output_type": "execute_result"
    }
   ],
   "source": [
    "DATE_START = '20230417'\n",
    "DATE_END = '20230418'\n",
    "rule + alt.Chart(\n",
    "    w_combo_df[w_combo_df.time > DATE_START][w_combo_df.time < DATE_END]\n",
    ").transform_fold(\n",
    "    w_combo_df.columns.drop('time').drop('w KPS SPLASH'),\n",
    "    as_=('height', 'value')\n",
    ").transform_window(\n",
    "    rolling_avg = 'mean(value)',\n",
    "    frame=[-2,2],\n",
    "    groupby = ['height']\n",
    ").mark_line(color='#beddf4', opacity=0.75).encode(\n",
    "    alt.X('time:T'),\n",
    "    alt.Y('value:Q'),\n",
    "    alt.Color('height:N')\n",
    ").properties(height = 200)"
   ]
  },
  {
   "cell_type": "code",
   "execution_count": null,
   "metadata": {},
   "outputs": [],
   "source": []
  }
 ],
 "metadata": {
  "kernelspec": {
   "display_name": "sublimationofsnow",
   "language": "python",
   "name": "python3"
  },
  "language_info": {
   "codemirror_mode": {
    "name": "ipython",
    "version": 3
   },
   "file_extension": ".py",
   "mimetype": "text/x-python",
   "name": "python",
   "nbconvert_exporter": "python",
   "pygments_lexer": "ipython3",
   "version": "3.12.5"
  }
 },
 "nbformat": 4,
 "nbformat_minor": 2
}
