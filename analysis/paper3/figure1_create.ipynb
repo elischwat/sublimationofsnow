{
 "cells": [
  {
   "cell_type": "code",
   "execution_count": 26,
   "metadata": {},
   "outputs": [],
   "source": [
    "import rioxarray as rix\n",
    "import geopandas as gpd\n",
    "import matplotlib.pyplot as plt\n",
    "from matplotlib_scalebar.scalebar import ScaleBar\n",
    "from shapely.geometry import shape\n",
    "from shapely.ops import unary_union\n",
    "import geopandas as gpd\n",
    "import numpy as np\n",
    "import xarray as xr\n",
    "import glob as glob"
   ]
  },
  {
   "cell_type": "markdown",
   "metadata": {},
   "source": [
    "# Load vector data"
   ]
  },
  {
   "cell_type": "code",
   "execution_count": 27,
   "metadata": {},
   "outputs": [],
   "source": [
    "def open_and_extract_date_from_filename(filepath):\n",
    "    ds = rix.open_rasterio(filepath)\n",
    "    ds.attrs['original_filename'] = os.path.basename(filepath)\n",
    "    ds.attrs['date'] = os.path.basename(filepath)[:10]\n",
    "    return ds\n",
    "\n",
    "img_2023 = open_and_extract_date_from_filename(\"/Users/elischwat/Development/data/sublimationofsnow/planet_imagery/gothic-co-meltout-2023_psscene_analytic_sr_udm2/2023-05-16_strip_6512704_composite_file_format.tif\")"
   ]
  },
  {
   "cell_type": "code",
   "execution_count": 28,
   "metadata": {},
   "outputs": [
    {
     "data": {
      "text/plain": [
       "<Axes: >"
      ]
     },
     "execution_count": 28,
     "metadata": {},
     "output_type": "execute_result"
    },
    {
     "data": {
      "image/png": "[encoded data removed]",
      "text/plain": [
       "<Figure size 640x480 with 1 Axes>"
      ]
     },
     "metadata": {},
     "output_type": "display_data"
    }
   ],
   "source": [
    "towers_gdf = gpd.read_file(\"./landsat_data/towers.geojson\").to_crs(img_2023.rio.crs)\n",
    "towers_gdf.plot()"
   ]
  },
  {
   "cell_type": "code",
   "execution_count": 29,
   "metadata": {},
   "outputs": [],
   "source": [
    "central_point = towers_gdf.set_index('Tower').loc['c'].geometry\n",
    "from shapely.geometry import box\n",
    "x, y = central_point.x, central_point.y\n",
    "bounding_box = gpd.GeoDataFrame(\n",
    "    geometry = [box(x - 150, y - 150, x + 150, y + 150)],\n",
    "    crs = towers_gdf.crs\n",
    ")\n",
    "bounding_box.to_file('bounding_box.geojson')"
   ]
  },
  {
   "cell_type": "code",
   "execution_count": 30,
   "metadata": {},
   "outputs": [],
   "source": [
    "lidar_l2 = rix.open_rasterio(\"lidar_data/l2_elevation_20230515_0000.tif\")\n",
    "lidar_l6 = rix.open_rasterio(\"lidar_data/l6_elevation_20230515_0000.tif\")"
   ]
  },
  {
   "cell_type": "code",
   "execution_count": 31,
   "metadata": {},
   "outputs": [
    {
     "data": {
      "text/plain": [
       "<Axes: >"
      ]
     },
     "execution_count": 31,
     "metadata": {},
     "output_type": "execute_result"
    },
    {
     "data": {
      "image/png": "[encoded data removed]",
      "text/plain": [
       "<Figure size 100x100 with 1 Axes>"
      ]
     },
     "metadata": {},
     "output_type": "display_data"
    },
    {
     "data": {
      "image/png": "[encoded data removed]",
      "text/plain": [
       "<Figure size 100x100 with 1 Axes>"
      ]
     },
     "metadata": {},
     "output_type": "display_data"
    }
   ],
   "source": [
    "src_raster = lidar_l2.sel(band=1).astype('float32').rio.reproject(\n",
    "    lidar_l2.rio.crs,\n",
    "    resolution = (2,2)\n",
    ")\n",
    "src_raster.rio.to_raster('l2.tif')\n",
    "\n",
    "src_raster = lidar_l6.sel(band=1).astype('float32').rio.reproject(\n",
    "    lidar_l6.rio.crs,\n",
    "    resolution = (2,2)\n",
    ")\n",
    "src_raster.rio.to_raster('l6.tif')\n",
    "\n",
    "\n",
    "import rasterio\n",
    "from rasterio.features import shapes\n",
    "from shapely.geometry import shape\n",
    "\n",
    "from geopandas import GeoDataFrame\n",
    "from pandas import DataFrame\n",
    "\n",
    "\n",
    "with rasterio.open('l2.tif') as src:\n",
    "    data_l2 = src.read(1, masked=True)\n",
    "    # Use a generator instead of a list\n",
    "    shape_gen_l2 = ((shape(s), v) for s, v in shapes(data_l2, transform=src.transform))\n",
    "    # or build a dict from unpacked shapes\n",
    "    gdf_l2 = GeoDataFrame(dict(zip([\"geometry\", \"class\"], zip(*shape_gen_l2))), crs=src.crs)\n",
    "\n",
    "# # Step 3: Perform a union on all geometries\n",
    "union_geometry_l2 = unary_union(gdf_l2.geometry)\n",
    "# # Step 4: Extract the convex hull\n",
    "convex_hull_l2 = union_geometry_l2.convex_hull\n",
    "\n",
    "with rasterio.open('l6.tif') as src:\n",
    "    data_l6 = src.read(1, masked=True)\n",
    "    # Use a generator instead of a list\n",
    "    shape_gen_l6 = ((shape(s), v) for s, v in shapes(data_l6, transform=src.transform))\n",
    "    # or build a dict from unpacked shapes\n",
    "    gdf_l6 = GeoDataFrame(dict(zip([\"geometry\", \"class\"], zip(*shape_gen_l6))), crs=src.crs)\n",
    "\n",
    "# # Step 3: Perform a union on all geometries\n",
    "union_geometry_l6 = unary_union(gdf_l6.geometry)\n",
    "# # Step 4: Extract the convex hull\n",
    "convex_hull_l6 = union_geometry_l6.convex_hull\n",
    "\n",
    "lidar_outline_gdf_l2 = gpd.GeoDataFrame(geometry=[convex_hull_l2])\n",
    "lidar_outline_gdf_l2.plot(figsize=(1,1))\n",
    "lidar_outline_gdf_l6 = gpd.GeoDataFrame(geometry=[convex_hull_l6])\n",
    "lidar_outline_gdf_l6.plot(figsize=(1,1))"
   ]
  },
  {
   "cell_type": "code",
   "execution_count": 37,
   "metadata": {},
   "outputs": [],
   "source": [
    "lidar_outline_gdf_l2.set_crs(lidar_l2.rio.crs).to_file('lidar_outline_l2.geojson')\n",
    "lidar_outline_gdf_l6.set_crs(lidar_l2.rio.crs).to_file('lidar_outline_l6.geojson')"
   ]
  },
  {
   "cell_type": "code",
   "execution_count": null,
   "metadata": {},
   "outputs": [],
   "source": [
    "profile_lines_fn = \"/Users/elischwat/Downloads/snow_patch_profiles.shp\"\n",
    "profile_lines_gdf = gpd.read_file(profile_lines_fn)\n",
    "profile_lines_gdf = profile_lines_gdf.iloc[[0, 1, 2, 4, 5, 8]] # the ones we use for analysis in extract_e_melt.ipynb\n",
    "profile_lines_gdf.plot()"
   ]
  },
  {
   "cell_type": "markdown",
   "metadata": {},
   "source": [
    "# Plot for 2023"
   ]
  },
  {
   "cell_type": "code",
   "execution_count": null,
   "metadata": {},
   "outputs": [],
   "source": [
    "base_dir = \"/Users/elischwat/Development/data/sublimationofsnow/planet_imagery/gothic-co-meltout-2023_psscene_analytic_sr_udm2/\"\n",
    "img_ls_2023 = [\n",
    "    '2023-05-09_strip_6495899_composite_file_format.tif',\n",
    "    '2023-05-10_strip_6497912_composite_file_format.tif',\n",
    "    '2023-05-13_strip_6505736_composite_file_format.tif',\n",
    "    '2023-05-15_strip_6510381_composite_file_format.tif',\n",
    "    '2023-05-16_strip_6512704_composite_file_format.tif',\n",
    "    '2023-05-23_strip_6528815_composite_file_format.tif',\n",
    "]\n",
    "img_ls_2023 = [open_and_extract_date_from_filename(os.path.join(base_dir, f)) for f in img_ls_2023]"
   ]
  },
  {
   "cell_type": "code",
   "execution_count": null,
   "metadata": {},
   "outputs": [],
   "source": [
    "# Crop all images\n",
    "cropped_images = [(img.rio.clip(bounding_box.geometry)) for img in img_ls_2023]"
   ]
  },
  {
   "cell_type": "code",
   "execution_count": null,
   "metadata": {},
   "outputs": [],
   "source": [
    "# Plot the images in a 3x2 grid\n",
    "fig, axes = plt.subplots(2, 3, figsize=(9, 6))\n",
    "axes = axes.flatten()\n",
    "\n",
    "for ax, (cropped_img) in zip(axes, cropped_images):\n",
    "    cropped_img.sel(band=1).plot(ax=ax, cmap='grey', add_colorbar=False)\n",
    "    ax.set_aspect('equal')\n",
    "    ax.axis('off')  # Remove axis\n",
    "    ax.set_title(cropped_img.attrs['date'])\n",
    "    towers_gdf.plot(ax=ax, color='red', marker='^')\n",
    "    scalebar = ScaleBar(1, location=\"lower left\")\n",
    "    ax.add_artist(scalebar)\n",
    "\n",
    "plt.tight_layout()\n",
    "plt.show()"
   ]
  },
  {
   "cell_type": "code",
   "execution_count": null,
   "metadata": {},
   "outputs": [],
   "source": [
    "def get_normed_rgb_img(ds):\n",
    "    # Stack the RGB bands (e.g., bands 1, 2, and 3)\n",
    "    rgb_image = np.stack([\n",
    "        ds.sel(band=3),  # Red\n",
    "        ds.sel(band=2),  # Green\n",
    "        ds.sel(band=1)   # Blue\n",
    "    ], axis=-1)\n",
    "\n",
    "    # Normalize the RGB image to [0, 1] for display\n",
    "    rgb_image = rgb_image / rgb_image.max()\n",
    "\n",
    "    # Convert the RGB image to an xarray dataset\n",
    "    rgb_ds = xr.Dataset(\n",
    "        {\n",
    "            \"red\": ([\"y\", \"x\"], rgb_image[..., 0]),\n",
    "            \"green\": ([\"y\", \"x\"], rgb_image[..., 1]),\n",
    "            \"blue\": ([\"y\", \"x\"], rgb_image[..., 2]),\n",
    "        },\n",
    "        coords={\n",
    "            \"y\": ds[\"y\"],\n",
    "            \"x\": ds[\"x\"]\n",
    "        }\n",
    "    )\n",
    "    return rgb_ds\n",
    "\n",
    "rgb_img_ls_2023 = [get_normed_rgb_img(img.rio.clip(bounding_box.geometry)) for img in img_ls_2023]\n",
    "\n",
    "for old_img, new_img in zip(img_ls_2023, rgb_img_ls_2023):\n",
    "    new_img.attrs = old_img.attrs"
   ]
  },
  {
   "cell_type": "code",
   "execution_count": null,
   "metadata": {},
   "outputs": [],
   "source": [
    "\n",
    "# Plot the images in a 3x2 grid\n",
    "fig, axes = plt.subplots(1, 6, figsize=(18, 6))\n",
    "axes = axes.flatten()\n",
    "\n",
    "for ax, (cropped_img) in zip(axes, rgb_img_ls_2023):\n",
    "    rgb_image_array = np.dstack((cropped_img['red'].values, cropped_img['green'].values, cropped_img['blue'].values))\n",
    "    ax.imshow(rgb_image_array)\n",
    "    ax.set_aspect('equal')\n",
    "    ax.axis('off')  # Remove axis\n",
    "    ax.set_title(cropped_img.attrs['date'])\n",
    "    # towers_gdf.plot(ax=ax, color='red', marker='^')\n",
    "    # scalebar = ScaleBar(1, location=\"lower left\")\n",
    "    # ax.add_artist(scalebar)\n",
    "\n",
    "plt.tight_layout()\n",
    "plt.show()"
   ]
  },
  {
   "cell_type": "code",
   "execution_count": null,
   "metadata": {},
   "outputs": [],
   "source": [
    "sca_imgs_2023 = sorted(glob.glob(\"./planet_data/SCA/*2023*.tif\"))\n",
    "\n",
    "fig, axes = plt.subplots(1, 6, figsize=(18, 6))\n",
    "axes = axes.flatten()\n",
    "for ax, (fn) in zip(axes, sca_imgs_2023):\n",
    "    ds = open_and_extract_date_from_filename(fn)\n",
    "    img = ds.plot(ax=ax, cmap='grey', add_colorbar=False)\n",
    "    ax.set_aspect('equal')\n",
    "    ax.axis('off')  # Remove axis\n",
    "    ax.set_title(ds.attrs['date'])\n",
    "    towers_gdf.plot(ax=ax, color='red', marker='^')\n",
    "    scalebar = ScaleBar(1, location=\"lower left\")\n",
    "    ax.add_artist(scalebar)\n",
    "\n",
    "lidar_outline_gdf_l2.plot(ax=axes[0], figsize=(1,1), alpha =1.0, edgecolor='blue', facecolor='none')\n",
    "lidar_outline_gdf_l6.plot(ax=axes[0], figsize=(1,1), alpha =1.0, edgecolor='blue', facecolor='none')\n",
    "profile_lines_gdf.plot(ax=axes[0], figsize=(1,1), alpha =1.0, edgecolor='red', facecolor='none', linewidth=0.5)\n",
    "\n",
    "lidar_outline_gdf_l2.plot(ax=axes[3], figsize=(1,1), alpha =1.0, edgecolor='blue', facecolor='none')\n",
    "lidar_outline_gdf_l6.plot(ax=axes[3], figsize=(1,1), alpha =1.0, edgecolor='blue', facecolor='none')\n",
    "profile_lines_gdf.plot(ax=axes[3], figsize=(1,1), alpha =1.0, edgecolor='red', facecolor='none', linewidth=0.5)\n",
    "\n",
    "plt.tight_layout()\n",
    "plt.show()"
   ]
  },
  {
   "cell_type": "markdown",
   "metadata": {},
   "source": [
    "# Plot for 2020-2025"
   ]
  },
  {
   "cell_type": "code",
   "execution_count": null,
   "metadata": {},
   "outputs": [],
   "source": [
    "ls planet_data/clipped"
   ]
  },
  {
   "cell_type": "code",
   "execution_count": null,
   "metadata": {},
   "outputs": [],
   "source": [
    "img_ls_2020_to_2025 = [\n",
    "    \"./planet_data/clipped/2020-05-02_strip_3365031_composite_file_format.tif\", \n",
    "    \"./planet_data/clipped/2021-04-29_strip_4427235_composite_file_format.tif\", \n",
    "    \"./planet_data/clipped/2022-05-06_strip_5620141_composite_file_format.tif\", \n",
    "    \"./planet_data/clipped/2023-05-16_strip_6512704_composite_file_format.tif\", \n",
    "    \"./planet_data/clipped/2024-05-02_strip_7279988_composite_file_format.tif\", \n",
    "    \"./planet_data/clipped/2025-04-25_strip_8025643_composite_file_format.tif\", \n",
    "]\n",
    "img_ls_2020_to_2025 = [open_and_extract_date_from_filename(f) for f in img_ls_2020_to_2025]"
   ]
  },
  {
   "cell_type": "code",
   "execution_count": null,
   "metadata": {},
   "outputs": [],
   "source": [
    "rgb_img_ls_2020_to_2025 = [get_normed_rgb_img(img.rio.clip(bounding_box.geometry)) for img in img_ls_2020_to_2025]\n",
    "\n",
    "for old_img, new_img in zip(img_ls_2020_to_2025, rgb_img_ls_2020_to_2025):\n",
    "    new_img.attrs = old_img.attrs"
   ]
  },
  {
   "cell_type": "code",
   "execution_count": null,
   "metadata": {},
   "outputs": [],
   "source": [
    "\n",
    "# Plot the images in a 3x2 grid\n",
    "fig, axes = plt.subplots(2, 3, figsize=(9, 6))\n",
    "axes = axes.flatten()\n",
    "\n",
    "for ax, (cropped_img) in zip(axes, rgb_img_ls_2020_to_2025):\n",
    "    rgb_image_array = np.dstack((cropped_img['red'].values, cropped_img['green'].values, cropped_img['blue'].values))\n",
    "    ax.imshow(rgb_image_array)\n",
    "    ax.set_aspect('equal')\n",
    "    ax.axis('off')  # Remove axis\n",
    "    ax.set_title(cropped_img.attrs['date'])\n",
    "    # towers_gdf.plot(ax=ax, color='red', marker='^')\n",
    "    # scalebar = ScaleBar(1, location=\"lower left\")\n",
    "    # ax.add_artist(scalebar)\n",
    "\n",
    "plt.tight_layout()\n",
    "plt.show()"
   ]
  },
  {
   "cell_type": "code",
   "execution_count": null,
   "metadata": {},
   "outputs": [],
   "source": [
    "sorted(glob.glob(\"./planet_data/SCA/*.tif\"))[:3] + sorted(glob.glob(\"./planet_data/SCA/*.tif\"))[7:8] + sorted(glob.glob(\"./planet_data/SCA/*.tif\"))[9:]"
   ]
  },
  {
   "cell_type": "code",
   "execution_count": null,
   "metadata": {},
   "outputs": [],
   "source": []
  },
  {
   "cell_type": "code",
   "execution_count": null,
   "metadata": {},
   "outputs": [],
   "source": [
    "sca_imgs_2020_to_2025 = [\n",
    "    './planet_data/SCA/2020-05-02_strip_3365031_composite_file_format_SCA.tif',\n",
    "    './planet_data/SCA/2021-04-29_strip_4427235_composite_file_format_SCA.tif',\n",
    "    './planet_data/SCA/2022-05-06_strip_5620141_composite_file_format_SCA.tif',\n",
    "    './planet_data/SCA/2023-05-16_strip_6512704_composite_file_format_SCA.tif',\n",
    "    './planet_data/SCA/2024-05-02_strip_7279988_composite_file_format_SCA.tif',\n",
    "    './planet_data/SCA/2025-04-25_strip_8025643_composite_file_format_SCA.tif']\n",
    "\n",
    "fig, axes = plt.subplots(2, 3, figsize=(9, 6))\n",
    "axes = axes.flatten()\n",
    "for ax, (fn) in zip(axes, sca_imgs_2020_to_2025):\n",
    "    ds = open_and_extract_date_from_filename(fn)\n",
    "    img = ds.plot(ax=ax, cmap='grey', add_colorbar=False)\n",
    "    ax.set_aspect('equal')\n",
    "    ax.axis('off')  # Remove axis\n",
    "    ax.set_title(ds.attrs['date'])\n",
    "    towers_gdf.plot(ax=ax, color='red', marker='^')\n",
    "    scalebar = ScaleBar(1, location=\"lower left\")\n",
    "    ax.add_artist(scalebar)\n",
    "\n",
    "lidar_outline_gdf_l2.plot(ax=axes[0], figsize=(1,1), alpha =1.0, edgecolor='blue', facecolor='none')\n",
    "lidar_outline_gdf_l6.plot(ax=axes[0], figsize=(1,1), alpha =1.0, edgecolor='blue', facecolor='none')\n",
    "profile_lines_gdf.plot(ax=axes[0], figsize=(1,1), alpha =1.0, edgecolor='red', facecolor='none', linewidth=0.5)\n",
    "\n",
    "lidar_outline_gdf_l2.plot(ax=axes[3], figsize=(1,1), alpha =1.0, edgecolor='blue', facecolor='none')\n",
    "lidar_outline_gdf_l6.plot(ax=axes[3], figsize=(1,1), alpha =1.0, edgecolor='blue', facecolor='none')\n",
    "profile_lines_gdf.plot(ax=axes[3], figsize=(1,1), alpha =1.0, edgecolor='red', facecolor='none', linewidth=0.5)\n",
    "\n",
    "plt.tight_layout()\n",
    "plt.show()"
   ]
  },
  {
   "cell_type": "code",
   "execution_count": 13,
   "metadata": {},
   "outputs": [],
   "source": [
    "import rioxarray as rxr\n",
    "import matplotlib.pyplot as plt\n",
    "from shapely.geometry import box\n",
    "import geopandas as gpd\n",
    "\n",
    "# File path to the RGB image\n",
    "file_path = \"/Users/elischwat/Development/data/sublimationofsnow/RMBL_dronedata/processed/Dronedata_KettlePonds_2024_04_24/mosaics_clipped/LundquistSnowHydro_KettlePonds_P1_2024_04_24_ortho_clipped.tif\""
   ]
  },
  {
   "cell_type": "code",
   "execution_count": 14,
   "metadata": {},
   "outputs": [],
   "source": [
    "# Define the bounding box (replace with your bounding box coordinates)\n",
    "# Open the RGB image using rioxarray\n",
    "rgb_image = rxr.open_rasterio(file_path, chunks=True)"
   ]
  },
  {
   "cell_type": "code",
   "execution_count": 15,
   "metadata": {},
   "outputs": [
    {
     "ename": "KeyboardInterrupt",
     "evalue": "",
     "output_type": "error",
     "traceback": [
      "\u001b[0;31m---------------------------------------------------------------------------\u001b[0m",
      "\u001b[0;31mKeyboardInterrupt\u001b[0m                         Traceback (most recent call last)",
      "Cell \u001b[0;32mIn[15], line 1\u001b[0m\n\u001b[0;32m----> 1\u001b[0m rgb_image_clipped \u001b[38;5;241m=\u001b[39m \u001b[43mrgb_image\u001b[49m\u001b[38;5;241;43m.\u001b[39;49m\u001b[43mrio\u001b[49m\u001b[38;5;241;43m.\u001b[39;49m\u001b[43mclip\u001b[49m\u001b[43m(\u001b[49m\u001b[43mbounding_box\u001b[49m\u001b[38;5;241;43m.\u001b[39;49m\u001b[43mgeometry\u001b[49m\u001b[43m)\u001b[49m\n",
      "File \u001b[0;32m~/miniforge3/envs/sublimationofsnow/lib/python3.12/site-packages/rioxarray/raster_array.py:921\u001b[0m, in \u001b[0;36mRasterArray.clip\u001b[0;34m(self, geometries, crs, all_touched, drop, invert, from_disk)\u001b[0m\n\u001b[1;32m    913\u001b[0m     cropped_ds \u001b[38;5;241m=\u001b[39m _clip_from_disk(\n\u001b[1;32m    914\u001b[0m         \u001b[38;5;28mself\u001b[39m\u001b[38;5;241m.\u001b[39m_obj,\n\u001b[1;32m    915\u001b[0m         geometries\u001b[38;5;241m=\u001b[39mgeometries,\n\u001b[0;32m   (...)\u001b[0m\n\u001b[1;32m    918\u001b[0m         invert\u001b[38;5;241m=\u001b[39minvert,\n\u001b[1;32m    919\u001b[0m     )\n\u001b[1;32m    920\u001b[0m \u001b[38;5;28;01mif\u001b[39;00m cropped_ds \u001b[38;5;129;01mis\u001b[39;00m \u001b[38;5;28;01mNone\u001b[39;00m:\n\u001b[0;32m--> 921\u001b[0m     cropped_ds \u001b[38;5;241m=\u001b[39m \u001b[43m_clip_xarray\u001b[49m\u001b[43m(\u001b[49m\n\u001b[1;32m    922\u001b[0m \u001b[43m        \u001b[49m\u001b[38;5;28;43mself\u001b[39;49m\u001b[38;5;241;43m.\u001b[39;49m\u001b[43m_obj\u001b[49m\u001b[43m,\u001b[49m\n\u001b[1;32m    923\u001b[0m \u001b[43m        \u001b[49m\u001b[43mgeometries\u001b[49m\u001b[38;5;241;43m=\u001b[39;49m\u001b[43mgeometries\u001b[49m\u001b[43m,\u001b[49m\n\u001b[1;32m    924\u001b[0m \u001b[43m        \u001b[49m\u001b[43mall_touched\u001b[49m\u001b[38;5;241;43m=\u001b[39;49m\u001b[43mall_touched\u001b[49m\u001b[43m,\u001b[49m\n\u001b[1;32m    925\u001b[0m \u001b[43m        \u001b[49m\u001b[43mdrop\u001b[49m\u001b[38;5;241;43m=\u001b[39;49m\u001b[43mdrop\u001b[49m\u001b[43m,\u001b[49m\n\u001b[1;32m    926\u001b[0m \u001b[43m        \u001b[49m\u001b[43minvert\u001b[49m\u001b[38;5;241;43m=\u001b[39;49m\u001b[43minvert\u001b[49m\u001b[43m,\u001b[49m\n\u001b[1;32m    927\u001b[0m \u001b[43m    \u001b[49m\u001b[43m)\u001b[49m\n\u001b[1;32m    929\u001b[0m \u001b[38;5;28;01mif\u001b[39;00m (\n\u001b[1;32m    930\u001b[0m     cropped_ds\u001b[38;5;241m.\u001b[39mcoords[\u001b[38;5;28mself\u001b[39m\u001b[38;5;241m.\u001b[39mx_dim]\u001b[38;5;241m.\u001b[39msize \u001b[38;5;241m<\u001b[39m \u001b[38;5;241m1\u001b[39m\n\u001b[1;32m    931\u001b[0m     \u001b[38;5;129;01mor\u001b[39;00m cropped_ds\u001b[38;5;241m.\u001b[39mcoords[\u001b[38;5;28mself\u001b[39m\u001b[38;5;241m.\u001b[39my_dim]\u001b[38;5;241m.\u001b[39msize \u001b[38;5;241m<\u001b[39m \u001b[38;5;241m1\u001b[39m\n\u001b[1;32m    932\u001b[0m ):\n\u001b[1;32m    933\u001b[0m     \u001b[38;5;28;01mraise\u001b[39;00m NoDataInBounds(\n\u001b[1;32m    934\u001b[0m         \u001b[38;5;124mf\u001b[39m\u001b[38;5;124m\"\u001b[39m\u001b[38;5;124mNo data found in bounds.\u001b[39m\u001b[38;5;132;01m{\u001b[39;00m_get_data_var_message(\u001b[38;5;28mself\u001b[39m\u001b[38;5;241m.\u001b[39m_obj)\u001b[38;5;132;01m}\u001b[39;00m\u001b[38;5;124m\"\u001b[39m\n\u001b[1;32m    935\u001b[0m     )\n",
      "File \u001b[0;32m~/miniforge3/envs/sublimationofsnow/lib/python3.12/site-packages/rioxarray/raster_array.py:222\u001b[0m, in \u001b[0;36m_clip_xarray\u001b[0;34m(xds, geometries, all_touched, drop, invert)\u001b[0m\n\u001b[1;32m    217\u001b[0m \u001b[38;5;28;01mif\u001b[39;00m drop:\n\u001b[1;32m    218\u001b[0m     cropped_ds\u001b[38;5;241m.\u001b[39mrio\u001b[38;5;241m.\u001b[39mset_spatial_dims(\n\u001b[1;32m    219\u001b[0m         x_dim\u001b[38;5;241m=\u001b[39mxds\u001b[38;5;241m.\u001b[39mrio\u001b[38;5;241m.\u001b[39mx_dim, y_dim\u001b[38;5;241m=\u001b[39mxds\u001b[38;5;241m.\u001b[39mrio\u001b[38;5;241m.\u001b[39my_dim, inplace\u001b[38;5;241m=\u001b[39m\u001b[38;5;28;01mTrue\u001b[39;00m\n\u001b[1;32m    220\u001b[0m     )\n\u001b[1;32m    221\u001b[0m     cropped_ds \u001b[38;5;241m=\u001b[39m cropped_ds\u001b[38;5;241m.\u001b[39mrio\u001b[38;5;241m.\u001b[39misel_window(\n\u001b[0;32m--> 222\u001b[0m         \u001b[43mrasterio\u001b[49m\u001b[38;5;241;43m.\u001b[39;49m\u001b[43mwindows\u001b[49m\u001b[38;5;241;43m.\u001b[39;49m\u001b[43mget_data_window\u001b[49m\u001b[43m(\u001b[49m\n\u001b[1;32m    223\u001b[0m \u001b[43m            \u001b[49m\u001b[43mnumpy\u001b[49m\u001b[38;5;241;43m.\u001b[39;49m\u001b[43mma\u001b[49m\u001b[38;5;241;43m.\u001b[39;49m\u001b[43mmasked_array\u001b[49m\u001b[43m(\u001b[49m\u001b[43mclip_mask_arr\u001b[49m\u001b[43m,\u001b[49m\u001b[43m \u001b[49m\u001b[38;5;241;43m~\u001b[39;49m\u001b[43mclip_mask_arr\u001b[49m\u001b[43m)\u001b[49m\n\u001b[1;32m    224\u001b[0m \u001b[43m        \u001b[49m\u001b[43m)\u001b[49m\n\u001b[1;32m    225\u001b[0m     )\n\u001b[1;32m    226\u001b[0m \u001b[38;5;28;01mif\u001b[39;00m xds\u001b[38;5;241m.\u001b[39mrio\u001b[38;5;241m.\u001b[39mnodata \u001b[38;5;129;01mis\u001b[39;00m \u001b[38;5;129;01mnot\u001b[39;00m \u001b[38;5;28;01mNone\u001b[39;00m \u001b[38;5;129;01mand\u001b[39;00m \u001b[38;5;129;01mnot\u001b[39;00m numpy\u001b[38;5;241m.\u001b[39misnan(xds\u001b[38;5;241m.\u001b[39mrio\u001b[38;5;241m.\u001b[39mnodata):\n\u001b[1;32m    227\u001b[0m     cropped_ds \u001b[38;5;241m=\u001b[39m cropped_ds\u001b[38;5;241m.\u001b[39mfillna(xds\u001b[38;5;241m.\u001b[39mrio\u001b[38;5;241m.\u001b[39mnodata)\n",
      "File \u001b[0;32m~/miniforge3/envs/sublimationofsnow/lib/python3.12/site-packages/rasterio/windows.py:181\u001b[0m, in \u001b[0;36mget_data_window\u001b[0;34m(arr, nodata)\u001b[0m\n\u001b[1;32m    179\u001b[0m \u001b[38;5;66;03m# We only have 1 or 2 dimension cases to process\u001b[39;00m\n\u001b[1;32m    180\u001b[0m v \u001b[38;5;241m=\u001b[39m []\n\u001b[0;32m--> 181\u001b[0m \u001b[38;5;28;01mfor\u001b[39;00m nz \u001b[38;5;129;01min\u001b[39;00m \u001b[43marr_mask\u001b[49m\u001b[38;5;241;43m.\u001b[39;49m\u001b[43mnonzero\u001b[49m\u001b[43m(\u001b[49m\u001b[43m)\u001b[49m:\n\u001b[1;32m    182\u001b[0m     \u001b[38;5;28;01mif\u001b[39;00m nz\u001b[38;5;241m.\u001b[39msize:\n\u001b[1;32m    183\u001b[0m         v\u001b[38;5;241m.\u001b[39mappend((nz\u001b[38;5;241m.\u001b[39mmin(), nz\u001b[38;5;241m.\u001b[39mmax() \u001b[38;5;241m+\u001b[39m \u001b[38;5;241m1\u001b[39m))\n",
      "\u001b[0;31mKeyboardInterrupt\u001b[0m: "
     ]
    }
   ],
   "source": [
    "rgb_image_clipped = rgb_image.rio.clip(bounding_box.geometry)"
   ]
  },
  {
   "cell_type": "code",
   "execution_count": null,
   "metadata": {},
   "outputs": [],
   "source": [
    "rgb_image_resampled_lowres = rgb_image_clipped.rio.resample(\n",
    "    rgb_image_clipped.crs,\n",
    "    resolution = (10, 10)\n",
    ")"
   ]
  },
  {
   "cell_type": "code",
   "execution_count": null,
   "metadata": {},
   "outputs": [],
   "source": [
    "# Clip the image to the bounding box\n",
    "\n",
    "# Normalize the clipped RGB image for display\n",
    "rgb_image_clipped_norm = rgb_image_clipped / rgb_image_clipped.max()\n",
    "\n",
    "# Plot the clipped RGB image\n",
    "plt.figure(figsize=(10, 10))\n",
    "plt.imshow(rgb_image_clipped_norm.transpose(\"y\", \"x\", \"band\"))\n",
    "plt.axis(\"off\")\n",
    "plt.title(\"Clipped RGB Image\")\n",
    "plt.show()"
   ]
  }
 ],
 "metadata": {
  "kernelspec": {
   "display_name": "sublimationofsnow",
   "language": "python",
   "name": "python3"
  },
  "language_info": {
   "codemirror_mode": {
    "name": "ipython",
    "version": 3
   },
   "file_extension": ".py",
   "mimetype": "text/x-python",
   "name": "python",
   "nbconvert_exporter": "python",
   "pygments_lexer": "ipython3",
   "version": "3.12.5"
  }
 },
 "nbformat": 4,
 "nbformat_minor": 2
}
