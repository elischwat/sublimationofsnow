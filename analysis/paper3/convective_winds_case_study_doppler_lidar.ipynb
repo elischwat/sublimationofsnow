{
 "cells": [
  {
   "cell_type": "markdown",
   "metadata": {},
   "source": [
    "# Overview\n",
    "This notebook examines along-valley doppler lidar scans for a number of case study dates.\n",
    "1. Downloads and preprocesses SAIL doppler lidar data\n",
    "2. Extract vertical profiles time series at a given along-valley distance (2-hour averages, so averaging across 8 total scans).\n",
    "3. Plot them\n",
    "4. Extract vertical profiles at a given time, at multiple along-valley distances (also 2-hour averages)."
   ]
  },
  {
   "cell_type": "code",
   "execution_count": 1,
   "metadata": {},
   "outputs": [
    {
     "data": {
      "text/plain": [
       "DataTransformerRegistry.enable('json')"
      ]
     },
     "execution_count": 1,
     "metadata": {},
     "output_type": "execute_result"
    }
   ],
   "source": [
    "import numpy as np\n",
    "import argparse\n",
    "import pandas as pd\n",
    "import glob\n",
    "import datetime\n",
    "import matplotlib.pyplot as plt\n",
    "import act\n",
    "import os\n",
    "import datetime as dt\n",
    "import sys\n",
    "from tempfile import TemporaryDirectory\n",
    "from matplotlib import patheffects as pe\n",
    "from mpl_toolkits.axes_grid1.inset_locator import inset_axes\n",
    "\n",
    "import datetime as dt\n",
    "import altair as alt\n",
    "alt.data_transformers.enable('json')"
   ]
  },
  {
   "cell_type": "markdown",
   "metadata": {},
   "source": [
    "# Set inputs"
   ]
  },
  {
   "cell_type": "code",
   "execution_count": 2,
   "metadata": {},
   "outputs": [],
   "source": [
    "USERNAME = os.getenv(\"ARM_USERNAME\")\n",
    "TOKEN = os.getenv(\"ARM_TOKEN\")\n",
    "SAIL_DATA_STREAM = 'gucdlrhiM1.b1'\n",
    "SNR_THRESHOLD = 0.008\n",
    "DATE_FORMAT = \"%Y-%m-%d\"\n",
    "MAX_RANGE = 2000\n",
    "dates = [\n",
    "    dt.date(2023, 3, 3), # actual date of interest\n",
    "    dt.date(2023, 3, 4), \n",
    "    dt.date(2023, 4, 16), # actual date of interest\n",
    "    dt.date(2023, 4, 17),\n",
    "    dt.date(2023, 5, 2), # actual date of interest\n",
    "    dt.date(2023, 5, 3),\n",
    "    dt.date(2023, 6, 9),  # actual date of interest\n",
    "    dt.date(2023, 6, 10),\n",
    "    dt.date(2023, 6, 11),  # actual date of interest\n",
    "    dt.date(2023, 6, 12), \n",
    "]\n",
    "dates_actual = [\n",
    "    dt.date(2023, 3, 3),\n",
    "    dt.date(2023, 4, 16),\n",
    "    dt.date(2023, 5, 2),\n",
    "    dt.date(2023, 6, 9),\n",
    "    dt.date(2023, 6, 11),\n",
    "]"
   ]
  },
  {
   "cell_type": "markdown",
   "metadata": {},
   "source": [
    "# Download data"
   ]
  },
  {
   "cell_type": "code",
   "execution_count": 3,
   "metadata": {},
   "outputs": [],
   "source": [
    "output_path = f\"/Users/elischwat/Development/data/sublimationofsnow/{SAIL_DATA_STREAM}/\""
   ]
  },
  {
   "cell_type": "code",
   "execution_count": null,
   "metadata": {},
   "outputs": [],
   "source": [
    "print(\"Beginning data download...\")\n",
    "for date in dates:        \n",
    "    act.discovery.download_arm_data(USERNAME, TOKEN, SAIL_DATA_STREAM, date.strftime('%Y%m%d'), date.strftime('%Y%m%d'), output=output_path)\n",
    "print(\"Data download complete.\")\n",
    "\n",
    "print(\"Opening files...\")\n",
    "dl_rhi_files = glob.glob(output_path + '*cdf')\n",
    "\n",
    "dl_rhi = act.io.arm.read_arm_netcdf(dl_rhi_files)\n",
    "print(\"File opening complete.\")\n",
    "\n",
    "print(\"Converting to dataframe...\")\n",
    "src_rhi = dl_rhi.to_dataframe().reset_index()\n",
    "print(\"Conversion complete.\")"
   ]
  },
  {
   "cell_type": "code",
   "execution_count": null,
   "metadata": {},
   "outputs": [],
   "source": [
    "src_rhi.to_parquet('src_rhi.parquet')"
   ]
  },
  {
   "cell_type": "code",
   "execution_count": null,
   "metadata": {},
   "outputs": [],
   "source": [
    "ls -lah | grep parquet"
   ]
  },
  {
   "cell_type": "code",
   "execution_count": 4,
   "metadata": {},
   "outputs": [],
   "source": [
    "src_rhi = pd.read_parquet('src_rhi.parquet')"
   ]
  },
  {
   "cell_type": "markdown",
   "metadata": {},
   "source": [
    "# Preprocess data"
   ]
  },
  {
   "cell_type": "code",
   "execution_count": 5,
   "metadata": {},
   "outputs": [],
   "source": [
    "# Convert time zone\n",
    "src_rhi['time'] = src_rhi['time'].dt.tz_localize('UTC').dt.tz_convert('US/Mountain')\n",
    "src_rhi['time'] = pd.to_datetime(src_rhi['time'].dt.tz_localize(None))\n",
    "# Remove Extra\n",
    "src_rhi = src_rhi[src_rhi['time'].dt.date.isin(dates_actual)]\n",
    "# Shrink dataset by removing extra data\n",
    "src_rhi = src_rhi.query(f\"range < {MAX_RANGE}\")\n",
    "# Filter with SNR\n",
    "src_rhi['SNR'] = src_rhi['intensity'] - 1\n",
    "src_rhi.loc[src_rhi.eval(f'SNR < {SNR_THRESHOLD}'), 'radial_velocity'] = np.nan\n",
    "# Remove extraneous scan data\n",
    "src_rhi = src_rhi.query(\"elevation != -0.01\")\n",
    "# Add useful columns\n",
    "src_rhi['date'] = src_rhi['time'].dt.date\n",
    "src_rhi['hour'] = src_rhi['time'].dt.hour\n",
    "src_rhi['minute'] = src_rhi['time'].dt.minute\n",
    "src_rhi['second'] = src_rhi['time'].dt.second\n",
    "src_rhi['time_beginning_of_hour'] = src_rhi['time'].apply(lambda dt: dt.replace(minute=0, second=0, microsecond=0))\n",
    "# RHI: convert polar coordinates to rectangular coords with the radar at (0,0)\n",
    "src_rhi['x'] = src_rhi['range']*np.cos(np.deg2rad(src_rhi['elevation']))\n",
    "src_rhi['z'] = src_rhi['range']*np.sin(np.deg2rad(src_rhi['elevation']))"
   ]
  },
  {
   "cell_type": "code",
   "execution_count": 6,
   "metadata": {},
   "outputs": [],
   "source": [
    "# Convert radial velocities to horizontal velocities. This makes all velocities positive down-valley.\n",
    "src_rhi['horizontal_velocity'] = ( src_rhi['radial_velocity']/np.cos(np.deg2rad(src_rhi['elevation'])))"
   ]
  },
  {
   "cell_type": "code",
   "execution_count": 7,
   "metadata": {},
   "outputs": [],
   "source": [
    "# Convert horizontal velocities to streamwise velocities. This a small adjustment for the slope of the valley.\n",
    "# Velocities are still positive down-valley.\n",
    "VALLEY_INCLINE = 10\n",
    "src_rhi['streamwise_velocity'] = src_rhi['horizontal_velocity'] / np.cos(np.deg2rad(VALLEY_INCLINE))"
   ]
  },
  {
   "cell_type": "markdown",
   "metadata": {},
   "source": [
    "# Remove data from elevation angles within 5˚ of vertical because of introduced errors from cos(near 90)"
   ]
  },
  {
   "cell_type": "code",
   "execution_count": 14,
   "metadata": {},
   "outputs": [],
   "source": [
    "src_rhi = src_rhi[(src_rhi.elevation <= 70) | (src_rhi.elevation >= 110)]"
   ]
  },
  {
   "cell_type": "code",
   "execution_count": 26,
   "metadata": {},
   "outputs": [
    {
     "name": "stderr",
     "output_type": "stream",
     "text": [
      "/var/folders/x_/2h52bcjx2px15bhmdpdd748h0000gn/T/ipykernel_9088/748360693.py:1: UserWarning: Boolean Series key will be reindexed to match DataFrame index.\n",
      "  morning_scan = src_rhi[src_rhi.time > \"2023-04-16 0200\"][src_rhi.time < \"2023-04-16 0205\"].query(\"x < 1000\").query(\"z < 600\").query(\"x > - 1000\")\n",
      "/var/folders/x_/2h52bcjx2px15bhmdpdd748h0000gn/T/ipykernel_9088/748360693.py:2: UserWarning: Boolean Series key will be reindexed to match DataFrame index.\n",
      "  afternoon_scan = src_rhi[src_rhi.time > \"2023-04-16 1200\"][src_rhi.time < \"2023-04-16 1205\"].query(\"x < 1000\").query(\"z < 600\").query(\"x > - 1000\")\n",
      "/var/folders/x_/2h52bcjx2px15bhmdpdd748h0000gn/T/ipykernel_9088/748360693.py:4: UserWarning: Boolean Series key will be reindexed to match DataFrame index.\n",
      "  morning_scan_2 = src_rhi[src_rhi.time > \"2023-06-09 0200\"][src_rhi.time < \"2023-06-09 0205\"].query(\"x < 1000\").query(\"z < 600\").query(\"x > - 1000\")\n",
      "/var/folders/x_/2h52bcjx2px15bhmdpdd748h0000gn/T/ipykernel_9088/748360693.py:5: UserWarning: Boolean Series key will be reindexed to match DataFrame index.\n",
      "  afternoon_scan_2 = src_rhi[src_rhi.time > \"2023-06-09 1200\"][src_rhi.time < \"2023-06-09 1205\"].query(\"x < 1000\").query(\"z < 600\").query(\"x > - 1000\")\n"
     ]
    },
    {
     "data": {
      "text/html": [
       "\n",
       "<style>\n",
       "  #altair-viz-bf1233a2803644f78a6569be03609ca2.vega-embed {\n",
       "    width: 100%;\n",
       "    display: flex;\n",
       "  }\n",
       "\n",
       "  #altair-viz-bf1233a2803644f78a6569be03609ca2.vega-embed details,\n",
       "  #altair-viz-bf1233a2803644f78a6569be03609ca2.vega-embed details summary {\n",
       "    position: relative;\n",
       "  }\n",
       "</style>\n",
       "<div id=\"altair-viz-bf1233a2803644f78a6569be03609ca2\"></div>\n",
       "<script type=\"text/javascript\">\n",
       "  var VEGA_DEBUG = (typeof VEGA_DEBUG == \"undefined\") ? {} : VEGA_DEBUG;\n",
       "  (function(spec, embedOpt){\n",
       "    let outputDiv = document.currentScript.previousElementSibling;\n",
       "    if (outputDiv.id !== \"altair-viz-bf1233a2803644f78a6569be03609ca2\") {\n",
       "      outputDiv = document.getElementById(\"altair-viz-bf1233a2803644f78a6569be03609ca2\");\n",
       "    }\n",
       "    const paths = {\n",
       "      \"vega\": \"https://cdn.jsdelivr.net/npm/vega@5?noext\",\n",
       "      \"vega-lib\": \"https://cdn.jsdelivr.net/npm/vega-lib?noext\",\n",
       "      \"vega-lite\": \"https://cdn.jsdelivr.net/npm/vega-lite@5.17.0?noext\",\n",
       "      \"vega-embed\": \"https://cdn.jsdelivr.net/npm/vega-embed@6?noext\",\n",
       "    };\n",
       "\n",
       "    function maybeLoadScript(lib, version) {\n",
       "      var key = `${lib.replace(\"-\", \"\")}_version`;\n",
       "      return (VEGA_DEBUG[key] == version) ?\n",
       "        Promise.resolve(paths[lib]) :\n",
       "        new Promise(function(resolve, reject) {\n",
       "          var s = document.createElement('script');\n",
       "          document.getElementsByTagName(\"head\")[0].appendChild(s);\n",
       "          s.async = true;\n",
       "          s.onload = () => {\n",
       "            VEGA_DEBUG[key] = version;\n",
       "            return resolve(paths[lib]);\n",
       "          };\n",
       "          s.onerror = () => reject(`Error loading script: ${paths[lib]}`);\n",
       "          s.src = paths[lib];\n",
       "        });\n",
       "    }\n",
       "\n",
       "    function showError(err) {\n",
       "      outputDiv.innerHTML = `<div class=\"error\" style=\"color:red;\">${err}</div>`;\n",
       "      throw err;\n",
       "    }\n",
       "\n",
       "    function displayChart(vegaEmbed) {\n",
       "      vegaEmbed(outputDiv, spec, embedOpt)\n",
       "        .catch(err => showError(`Javascript Error: ${err.message}<br>This usually means there's a typo in your chart specification. See the javascript console for the full traceback.`));\n",
       "    }\n",
       "\n",
       "    if(typeof define === \"function\" && define.amd) {\n",
       "      requirejs.config({paths});\n",
       "      require([\"vega-embed\"], displayChart, err => showError(`Error loading script: ${err.message}`));\n",
       "    } else {\n",
       "      maybeLoadScript(\"vega\", \"5\")\n",
       "        .then(() => maybeLoadScript(\"vega-lite\", \"5.17.0\"))\n",
       "        .then(() => maybeLoadScript(\"vega-embed\", \"6\"))\n",
       "        .catch(showError)\n",
       "        .then(() => displayChart(vegaEmbed));\n",
       "    }\n",
       "  })({\"config\": {\"view\": {\"continuousWidth\": 300, \"continuousHeight\": 300}, \"legend\": {\"orient\": \"bottom\", \"titleAnchor\": \"middle\"}}, \"vconcat\": [{\"hconcat\": [{\"layer\": [{\"mark\": {\"type\": \"square\", \"size\": 20}, \"encoding\": {\"color\": {\"field\": \"streamwise_velocity\", \"legend\": {\"values\": [-8, 8]}, \"scale\": {\"scheme\": \"purpleorange\", \"domain\": [-8, 8], \"clamp\": true}, \"title\": [\"Downvalley velocity (m/s)\"], \"type\": \"quantitative\"}, \"x\": {\"axis\": {\"values\": [-800, 0, 800], \"labelFontSize\": 0}, \"field\": \"x\", \"title\": null, \"type\": \"quantitative\"}, \"y\": {\"field\": \"z\", \"title\": \"Height (m, agl)\", \"type\": \"quantitative\"}}, \"title\": \"2023-04-16 0200\"}, {\"mark\": {\"type\": \"rule\", \"color\": \"black\"}, \"encoding\": {\"x\": {\"field\": \"rule\", \"type\": \"quantitative\"}}, \"transform\": [{\"calculate\": \"-250\", \"as\": \"rule\"}]}], \"data\": {\"url\": \"altair-data-55c28629b323fa42dd88f94a3c02b8ab.json\", \"format\": {\"type\": \"json\"}}, \"height\": 90, \"width\": 300}, {\"layer\": [{\"data\": {\"url\": \"altair-data-2dcb177964dbf6f632c1faf6bbd54622.json\", \"format\": {\"type\": \"json\"}}, \"mark\": {\"type\": \"square\", \"size\": 20}, \"encoding\": {\"color\": {\"field\": \"streamwise_velocity\", \"scale\": {\"scheme\": \"purpleorange\", \"domain\": [-8, 8], \"clamp\": true, \"reverse\": true}, \"type\": \"quantitative\"}, \"x\": {\"axis\": {\"values\": [-800, 0, 800], \"labelFontSize\": 0}, \"field\": \"x\", \"title\": null, \"type\": \"quantitative\"}, \"y\": {\"axis\": null, \"field\": \"z\", \"title\": \"Height (m, agl)\", \"type\": \"quantitative\"}}, \"title\": \"2023-04-16 1200\"}, {\"data\": {\"url\": \"altair-data-55c28629b323fa42dd88f94a3c02b8ab.json\", \"format\": {\"type\": \"json\"}}, \"mark\": {\"type\": \"rule\", \"color\": \"black\"}, \"encoding\": {\"x\": {\"field\": \"rule\", \"type\": \"quantitative\"}}, \"transform\": [{\"calculate\": \"-250\", \"as\": \"rule\"}]}], \"height\": 90, \"width\": 300}]}, {\"hconcat\": [{\"layer\": [{\"data\": {\"url\": \"altair-data-4521e1f6d9198f064048ca14534bda3a.json\", \"format\": {\"type\": \"json\"}}, \"mark\": {\"type\": \"square\", \"size\": 20}, \"encoding\": {\"color\": {\"field\": \"streamwise_velocity\", \"legend\": {\"values\": [-8, 8]}, \"scale\": {\"scheme\": \"purpleorange\", \"domain\": [-8, 8], \"clamp\": true}, \"title\": [\"Downvalley velocity (m/s)\"], \"type\": \"quantitative\"}, \"x\": {\"axis\": {\"values\": [-800, 0, 800]}, \"field\": \"x\", \"title\": \"Downvalley distance (m)\", \"type\": \"quantitative\"}, \"y\": {\"field\": \"z\", \"title\": \"Height (m, agl)\", \"type\": \"quantitative\"}}, \"title\": \"2023-06-09 0200\"}, {\"data\": {\"url\": \"altair-data-55c28629b323fa42dd88f94a3c02b8ab.json\", \"format\": {\"type\": \"json\"}}, \"mark\": {\"type\": \"rule\", \"color\": \"black\"}, \"encoding\": {\"x\": {\"field\": \"rule\", \"type\": \"quantitative\"}}, \"transform\": [{\"calculate\": \"-250\", \"as\": \"rule\"}]}], \"height\": 90, \"width\": 300}, {\"layer\": [{\"data\": {\"url\": \"altair-data-41600bd605c7b0df3a13cf627fece38a.json\", \"format\": {\"type\": \"json\"}}, \"mark\": {\"type\": \"square\", \"size\": 20}, \"encoding\": {\"color\": {\"field\": \"streamwise_velocity\", \"scale\": {\"scheme\": \"purpleorange\", \"domain\": [-8, 8], \"clamp\": true, \"reverse\": true}, \"type\": \"quantitative\"}, \"x\": {\"axis\": {\"values\": [-800, 0, 800]}, \"field\": \"x\", \"title\": \"Downvalley distance (m)\", \"type\": \"quantitative\"}, \"y\": {\"axis\": null, \"field\": \"z\", \"title\": \"Height (m, agl)\", \"type\": \"quantitative\"}}, \"title\": \"2023-06-09 1200\"}, {\"data\": {\"url\": \"altair-data-55c28629b323fa42dd88f94a3c02b8ab.json\", \"format\": {\"type\": \"json\"}}, \"mark\": {\"type\": \"rule\", \"color\": \"black\"}, \"encoding\": {\"x\": {\"field\": \"rule\", \"type\": \"quantitative\"}}, \"transform\": [{\"calculate\": \"-250\", \"as\": \"rule\"}]}], \"height\": 90, \"width\": 300}]}], \"resolve\": {\"scale\": {\"y\": \"shared\"}}, \"$schema\": \"https://vega.github.io/schema/vega-lite/v5.17.0.json\"}, {\"mode\": \"vega-lite\"});\n",
       "</script>"
      ],
      "text/plain": [
       "alt.VConcatChart(...)"
      ]
     },
     "execution_count": 26,
     "metadata": {},
     "output_type": "execute_result"
    }
   ],
   "source": [
    "morning_scan = src_rhi[src_rhi.time > \"2023-04-16 0200\"][src_rhi.time < \"2023-04-16 0205\"].query(\"x < 1000\").query(\"z < 600\").query(\"x > - 1000\")\n",
    "afternoon_scan = src_rhi[src_rhi.time > \"2023-04-16 1200\"][src_rhi.time < \"2023-04-16 1205\"].query(\"x < 1000\").query(\"z < 600\").query(\"x > - 1000\")\n",
    "\n",
    "morning_scan_2 = src_rhi[src_rhi.time > \"2023-06-09 0200\"][src_rhi.time < \"2023-06-09 0205\"].query(\"x < 1000\").query(\"z < 600\").query(\"x > - 1000\")\n",
    "afternoon_scan_2 = src_rhi[src_rhi.time > \"2023-06-09 1200\"][src_rhi.time < \"2023-06-09 1205\"].query(\"x < 1000\").query(\"z < 600\").query(\"x > - 1000\")\n",
    "\n",
    "rule = alt.Chart(morning_scan).transform_calculate(rule='-250').mark_rule(color='black').encode(x='rule:Q')\n",
    "(\n",
    "    (\n",
    "        alt.Chart(morning_scan).mark_square(size=20).encode(\n",
    "            alt.X(\"x\").title(\"Downvalley distance (m)\").axis(values=[-800,0,800], labelFontSize=0).title(None),\n",
    "            alt.Y(\"z\").title(\"Height (m, agl)\"),\n",
    "            alt.Color(\"streamwise_velocity:Q\").scale(scheme='purpleorange', domain=[-8,8], clamp=True).title(['Downvalley velocity (m/s)']).legend(values=[-8,8])\n",
    "        ).properties(width=300, height=90, title=str(morning_scan.time.iloc[0].strftime('%Y-%m-%d %H%M'))) + rule |\\\n",
    "        alt.Chart(afternoon_scan).mark_square(size=20).encode(\n",
    "            alt.X(\"x\").title(\"Downvalley distance (m)\").axis(values=[-800,0,800], labelFontSize=0).title(None),\n",
    "            alt.Y(\"z\").title(\"Height (m, agl)\").axis(None),\n",
    "            alt.Color(\"streamwise_velocity:Q\").scale(scheme='purpleorange', domain=[-8,8], clamp=True, reverse=True)\n",
    "        ).properties(width=300, height=90, title=str(afternoon_scan.time.iloc[0].strftime('%Y-%m-%d %H%M'))) + rule\n",
    "    )\n",
    "      &\n",
    "    (\n",
    "        alt.Chart(morning_scan_2).mark_square(size=20).encode(\n",
    "            alt.X(\"x\").title(\"Downvalley distance (m)\").axis(values=[-800,0,800]),\n",
    "            alt.Y(\"z\").title(\"Height (m, agl)\"),\n",
    "            alt.Color(\"streamwise_velocity:Q\").scale(scheme='purpleorange', domain=[-8,8], clamp=True).title(['Downvalley velocity (m/s)']).legend(values=[-8,8])\n",
    "        ).properties(width=300, height=90, title=str(morning_scan_2.time.iloc[0].strftime('%Y-%m-%d %H%M'))) + rule |\\\n",
    "        alt.Chart(afternoon_scan_2).mark_square(size=20).encode(\n",
    "            alt.X(\"x\").title(\"Downvalley distance (m)\").axis(values=[-800,0,800]),\n",
    "            alt.Y(\"z\").title(\"Height (m, agl)\").axis(None),\n",
    "            alt.Color(\"streamwise_velocity:Q\").scale(scheme='purpleorange', domain=[-8,8], clamp=True, reverse=True)\n",
    "        ).properties(width=300, height=90, title=str(afternoon_scan_2.time.iloc[0].strftime('%Y-%m-%d %H%M'))) + rule\n",
    "    )\n",
    ").resolve_scale(y='shared').configure_legend(orient='bottom', titleAnchor='middle')"
   ]
  },
  {
   "cell_type": "markdown",
   "metadata": {},
   "source": [
    "# Separate cross vally and along valley scans"
   ]
  },
  {
   "cell_type": "code",
   "execution_count": 9,
   "metadata": {},
   "outputs": [],
   "source": [
    "scan_azimuth_valley_wise = 149\n",
    "scan_azimuth_valley_cross = 270"
   ]
  },
  {
   "cell_type": "code",
   "execution_count": 10,
   "metadata": {},
   "outputs": [
    {
     "ename": "KeyboardInterrupt",
     "evalue": "",
     "output_type": "error",
     "traceback": [
      "\u001b[0;31m---------------------------------------------------------------------------\u001b[0m",
      "\u001b[0;31mKeyboardInterrupt\u001b[0m                         Traceback (most recent call last)",
      "Cell \u001b[0;32mIn[10], line 10\u001b[0m\n\u001b[1;32m      3\u001b[0m xvalley_rhi_df \u001b[38;5;241m=\u001b[39m src_rhi[np\u001b[38;5;241m.\u001b[39mabs(src_rhi[\u001b[38;5;124m'\u001b[39m\u001b[38;5;124mazimuth\u001b[39m\u001b[38;5;124m'\u001b[39m] \u001b[38;5;241m-\u001b[39m scan_azimuth_valley_cross) \u001b[38;5;241m<\u001b[39m \u001b[38;5;241m1\u001b[39m]\n\u001b[1;32m      5\u001b[0m \u001b[38;5;66;03m# Label the 4 cross-valley scans that happen each hour\u001b[39;00m\n\u001b[1;32m      6\u001b[0m \u001b[38;5;66;03m# We do this by defining the \"hourly seconds\" (second for a data point where 0 seconds is \u001b[39;00m\n\u001b[1;32m      7\u001b[0m \u001b[38;5;66;03m# at the beginning of the hour)\u001b[39;00m\n\u001b[1;32m      8\u001b[0m \u001b[38;5;66;03m# and saying that all data from after 913 (after 15:13 mm:ss) and before 1113 (before 18:13 \u001b[39;00m\n\u001b[1;32m      9\u001b[0m \u001b[38;5;66;03m# mm:ss) is the first scan, and so on - this may be imperfect\u001b[39;00m\n\u001b[0;32m---> 10\u001b[0m xvalley_rhi_df[\u001b[38;5;124m'\u001b[39m\u001b[38;5;124mhourly_seconds\u001b[39m\u001b[38;5;124m'\u001b[39m] \u001b[38;5;241m=\u001b[39m \u001b[43mxvalley_rhi_df\u001b[49m\u001b[38;5;241;43m.\u001b[39;49m\u001b[43mapply\u001b[49m\u001b[43m(\u001b[49m\u001b[38;5;28;43;01mlambda\u001b[39;49;00m\u001b[43m \u001b[49m\u001b[43mrow\u001b[49m\u001b[43m:\u001b[49m\u001b[43m \u001b[49m\u001b[43mrow\u001b[49m\u001b[43m[\u001b[49m\u001b[38;5;124;43m'\u001b[39;49m\u001b[38;5;124;43mminute\u001b[39;49m\u001b[38;5;124;43m'\u001b[39;49m\u001b[43m]\u001b[49m\u001b[38;5;241;43m*\u001b[39;49m\u001b[38;5;241;43m60\u001b[39;49m\u001b[43m \u001b[49m\u001b[38;5;241;43m+\u001b[39;49m\u001b[43m \u001b[49m\u001b[43mrow\u001b[49m\u001b[43m[\u001b[49m\u001b[38;5;124;43m'\u001b[39;49m\u001b[38;5;124;43msecond\u001b[39;49m\u001b[38;5;124;43m'\u001b[39;49m\u001b[43m]\u001b[49m\u001b[43m,\u001b[49m\u001b[43m \u001b[49m\u001b[43maxis\u001b[49m\u001b[38;5;241;43m=\u001b[39;49m\u001b[38;5;241;43m1\u001b[39;49m\u001b[43m)\u001b[49m\n\u001b[1;32m     11\u001b[0m xvalley_rhi_df[\u001b[38;5;124m'\u001b[39m\u001b[38;5;124mhourly_scan_n\u001b[39m\u001b[38;5;124m'\u001b[39m] \u001b[38;5;241m=\u001b[39m pd\u001b[38;5;241m.\u001b[39mcut(\n\u001b[1;32m     12\u001b[0m     xvalley_rhi_df[\u001b[38;5;124m'\u001b[39m\u001b[38;5;124mhourly_seconds\u001b[39m\u001b[38;5;124m'\u001b[39m],\n\u001b[1;32m     13\u001b[0m     [\u001b[38;5;241m913\u001b[39m, \u001b[38;5;241m1113\u001b[39m, \u001b[38;5;241m2713\u001b[39m, \u001b[38;5;241m2913\u001b[39m, \u001b[38;5;241m3599\u001b[39m],\n\u001b[1;32m     14\u001b[0m     labels\u001b[38;5;241m=\u001b[39m[\u001b[38;5;124m'\u001b[39m\u001b[38;5;124m15.00\u001b[39m\u001b[38;5;124m'\u001b[39m,\u001b[38;5;124m'\u001b[39m\u001b[38;5;124m18.00\u001b[39m\u001b[38;5;124m'\u001b[39m,\u001b[38;5;124m'\u001b[39m\u001b[38;5;124m45.00\u001b[39m\u001b[38;5;124m'\u001b[39m,\u001b[38;5;124m'\u001b[39m\u001b[38;5;124m48.00\u001b[39m\u001b[38;5;124m'\u001b[39m]\n\u001b[1;32m     15\u001b[0m )\n\u001b[1;32m     17\u001b[0m \u001b[38;5;66;03m# Label the 4 valley-wise scans that happen each hour\u001b[39;00m\n\u001b[1;32m     18\u001b[0m \u001b[38;5;66;03m# similarly to above\u001b[39;00m\n",
      "File \u001b[0;32m~/miniforge3/envs/sublimationofsnow/lib/python3.12/site-packages/pandas/core/frame.py:10347\u001b[0m, in \u001b[0;36mDataFrame.apply\u001b[0;34m(self, func, axis, raw, result_type, args, by_row, engine, engine_kwargs, **kwargs)\u001b[0m\n\u001b[1;32m  10333\u001b[0m \u001b[38;5;28;01mfrom\u001b[39;00m \u001b[38;5;21;01mpandas\u001b[39;00m\u001b[38;5;21;01m.\u001b[39;00m\u001b[38;5;21;01mcore\u001b[39;00m\u001b[38;5;21;01m.\u001b[39;00m\u001b[38;5;21;01mapply\u001b[39;00m \u001b[38;5;28;01mimport\u001b[39;00m frame_apply\n\u001b[1;32m  10335\u001b[0m op \u001b[38;5;241m=\u001b[39m frame_apply(\n\u001b[1;32m  10336\u001b[0m     \u001b[38;5;28mself\u001b[39m,\n\u001b[1;32m  10337\u001b[0m     func\u001b[38;5;241m=\u001b[39mfunc,\n\u001b[0;32m   (...)\u001b[0m\n\u001b[1;32m  10345\u001b[0m     kwargs\u001b[38;5;241m=\u001b[39mkwargs,\n\u001b[1;32m  10346\u001b[0m )\n\u001b[0;32m> 10347\u001b[0m \u001b[38;5;28;01mreturn\u001b[39;00m \u001b[43mop\u001b[49m\u001b[38;5;241;43m.\u001b[39;49m\u001b[43mapply\u001b[49m\u001b[43m(\u001b[49m\u001b[43m)\u001b[49m\u001b[38;5;241m.\u001b[39m__finalize__(\u001b[38;5;28mself\u001b[39m, method\u001b[38;5;241m=\u001b[39m\u001b[38;5;124m\"\u001b[39m\u001b[38;5;124mapply\u001b[39m\u001b[38;5;124m\"\u001b[39m)\n",
      "File \u001b[0;32m~/miniforge3/envs/sublimationofsnow/lib/python3.12/site-packages/pandas/core/apply.py:916\u001b[0m, in \u001b[0;36mFrameApply.apply\u001b[0;34m(self)\u001b[0m\n\u001b[1;32m    913\u001b[0m \u001b[38;5;28;01melif\u001b[39;00m \u001b[38;5;28mself\u001b[39m\u001b[38;5;241m.\u001b[39mraw:\n\u001b[1;32m    914\u001b[0m     \u001b[38;5;28;01mreturn\u001b[39;00m \u001b[38;5;28mself\u001b[39m\u001b[38;5;241m.\u001b[39mapply_raw(engine\u001b[38;5;241m=\u001b[39m\u001b[38;5;28mself\u001b[39m\u001b[38;5;241m.\u001b[39mengine, engine_kwargs\u001b[38;5;241m=\u001b[39m\u001b[38;5;28mself\u001b[39m\u001b[38;5;241m.\u001b[39mengine_kwargs)\n\u001b[0;32m--> 916\u001b[0m \u001b[38;5;28;01mreturn\u001b[39;00m \u001b[38;5;28;43mself\u001b[39;49m\u001b[38;5;241;43m.\u001b[39;49m\u001b[43mapply_standard\u001b[49m\u001b[43m(\u001b[49m\u001b[43m)\u001b[49m\n",
      "File \u001b[0;32m~/miniforge3/envs/sublimationofsnow/lib/python3.12/site-packages/pandas/core/apply.py:1063\u001b[0m, in \u001b[0;36mFrameApply.apply_standard\u001b[0;34m(self)\u001b[0m\n\u001b[1;32m   1061\u001b[0m \u001b[38;5;28;01mdef\u001b[39;00m \u001b[38;5;21mapply_standard\u001b[39m(\u001b[38;5;28mself\u001b[39m):\n\u001b[1;32m   1062\u001b[0m     \u001b[38;5;28;01mif\u001b[39;00m \u001b[38;5;28mself\u001b[39m\u001b[38;5;241m.\u001b[39mengine \u001b[38;5;241m==\u001b[39m \u001b[38;5;124m\"\u001b[39m\u001b[38;5;124mpython\u001b[39m\u001b[38;5;124m\"\u001b[39m:\n\u001b[0;32m-> 1063\u001b[0m         results, res_index \u001b[38;5;241m=\u001b[39m \u001b[38;5;28;43mself\u001b[39;49m\u001b[38;5;241;43m.\u001b[39;49m\u001b[43mapply_series_generator\u001b[49m\u001b[43m(\u001b[49m\u001b[43m)\u001b[49m\n\u001b[1;32m   1064\u001b[0m     \u001b[38;5;28;01melse\u001b[39;00m:\n\u001b[1;32m   1065\u001b[0m         results, res_index \u001b[38;5;241m=\u001b[39m \u001b[38;5;28mself\u001b[39m\u001b[38;5;241m.\u001b[39mapply_series_numba()\n",
      "File \u001b[0;32m~/miniforge3/envs/sublimationofsnow/lib/python3.12/site-packages/pandas/core/apply.py:1081\u001b[0m, in \u001b[0;36mFrameApply.apply_series_generator\u001b[0;34m(self)\u001b[0m\n\u001b[1;32m   1078\u001b[0m \u001b[38;5;28;01mwith\u001b[39;00m option_context(\u001b[38;5;124m\"\u001b[39m\u001b[38;5;124mmode.chained_assignment\u001b[39m\u001b[38;5;124m\"\u001b[39m, \u001b[38;5;28;01mNone\u001b[39;00m):\n\u001b[1;32m   1079\u001b[0m     \u001b[38;5;28;01mfor\u001b[39;00m i, v \u001b[38;5;129;01min\u001b[39;00m \u001b[38;5;28menumerate\u001b[39m(series_gen):\n\u001b[1;32m   1080\u001b[0m         \u001b[38;5;66;03m# ignore SettingWithCopy here in case the user mutates\u001b[39;00m\n\u001b[0;32m-> 1081\u001b[0m         results[i] \u001b[38;5;241m=\u001b[39m \u001b[38;5;28;43mself\u001b[39;49m\u001b[38;5;241;43m.\u001b[39;49m\u001b[43mfunc\u001b[49m\u001b[43m(\u001b[49m\u001b[43mv\u001b[49m\u001b[43m,\u001b[49m\u001b[43m \u001b[49m\u001b[38;5;241;43m*\u001b[39;49m\u001b[38;5;28;43mself\u001b[39;49m\u001b[38;5;241;43m.\u001b[39;49m\u001b[43margs\u001b[49m\u001b[43m,\u001b[49m\u001b[43m \u001b[49m\u001b[38;5;241;43m*\u001b[39;49m\u001b[38;5;241;43m*\u001b[39;49m\u001b[38;5;28;43mself\u001b[39;49m\u001b[38;5;241;43m.\u001b[39;49m\u001b[43mkwargs\u001b[49m\u001b[43m)\u001b[49m\n\u001b[1;32m   1082\u001b[0m         \u001b[38;5;28;01mif\u001b[39;00m \u001b[38;5;28misinstance\u001b[39m(results[i], ABCSeries):\n\u001b[1;32m   1083\u001b[0m             \u001b[38;5;66;03m# If we have a view on v, we need to make a copy because\u001b[39;00m\n\u001b[1;32m   1084\u001b[0m             \u001b[38;5;66;03m#  series_generator will swap out the underlying data\u001b[39;00m\n\u001b[1;32m   1085\u001b[0m             results[i] \u001b[38;5;241m=\u001b[39m results[i]\u001b[38;5;241m.\u001b[39mcopy(deep\u001b[38;5;241m=\u001b[39m\u001b[38;5;28;01mFalse\u001b[39;00m)\n",
      "Cell \u001b[0;32mIn[10], line 10\u001b[0m, in \u001b[0;36m<lambda>\u001b[0;34m(row)\u001b[0m\n\u001b[1;32m      3\u001b[0m xvalley_rhi_df \u001b[38;5;241m=\u001b[39m src_rhi[np\u001b[38;5;241m.\u001b[39mabs(src_rhi[\u001b[38;5;124m'\u001b[39m\u001b[38;5;124mazimuth\u001b[39m\u001b[38;5;124m'\u001b[39m] \u001b[38;5;241m-\u001b[39m scan_azimuth_valley_cross) \u001b[38;5;241m<\u001b[39m \u001b[38;5;241m1\u001b[39m]\n\u001b[1;32m      5\u001b[0m \u001b[38;5;66;03m# Label the 4 cross-valley scans that happen each hour\u001b[39;00m\n\u001b[1;32m      6\u001b[0m \u001b[38;5;66;03m# We do this by defining the \"hourly seconds\" (second for a data point where 0 seconds is \u001b[39;00m\n\u001b[1;32m      7\u001b[0m \u001b[38;5;66;03m# at the beginning of the hour)\u001b[39;00m\n\u001b[1;32m      8\u001b[0m \u001b[38;5;66;03m# and saying that all data from after 913 (after 15:13 mm:ss) and before 1113 (before 18:13 \u001b[39;00m\n\u001b[1;32m      9\u001b[0m \u001b[38;5;66;03m# mm:ss) is the first scan, and so on - this may be imperfect\u001b[39;00m\n\u001b[0;32m---> 10\u001b[0m xvalley_rhi_df[\u001b[38;5;124m'\u001b[39m\u001b[38;5;124mhourly_seconds\u001b[39m\u001b[38;5;124m'\u001b[39m] \u001b[38;5;241m=\u001b[39m xvalley_rhi_df\u001b[38;5;241m.\u001b[39mapply(\u001b[38;5;28;01mlambda\u001b[39;00m row: \u001b[43mrow\u001b[49m\u001b[43m[\u001b[49m\u001b[38;5;124;43m'\u001b[39;49m\u001b[38;5;124;43mminute\u001b[39;49m\u001b[38;5;124;43m'\u001b[39;49m\u001b[43m]\u001b[49m\u001b[38;5;241m*\u001b[39m\u001b[38;5;241m60\u001b[39m \u001b[38;5;241m+\u001b[39m row[\u001b[38;5;124m'\u001b[39m\u001b[38;5;124msecond\u001b[39m\u001b[38;5;124m'\u001b[39m], axis\u001b[38;5;241m=\u001b[39m\u001b[38;5;241m1\u001b[39m)\n\u001b[1;32m     11\u001b[0m xvalley_rhi_df[\u001b[38;5;124m'\u001b[39m\u001b[38;5;124mhourly_scan_n\u001b[39m\u001b[38;5;124m'\u001b[39m] \u001b[38;5;241m=\u001b[39m pd\u001b[38;5;241m.\u001b[39mcut(\n\u001b[1;32m     12\u001b[0m     xvalley_rhi_df[\u001b[38;5;124m'\u001b[39m\u001b[38;5;124mhourly_seconds\u001b[39m\u001b[38;5;124m'\u001b[39m],\n\u001b[1;32m     13\u001b[0m     [\u001b[38;5;241m913\u001b[39m, \u001b[38;5;241m1113\u001b[39m, \u001b[38;5;241m2713\u001b[39m, \u001b[38;5;241m2913\u001b[39m, \u001b[38;5;241m3599\u001b[39m],\n\u001b[1;32m     14\u001b[0m     labels\u001b[38;5;241m=\u001b[39m[\u001b[38;5;124m'\u001b[39m\u001b[38;5;124m15.00\u001b[39m\u001b[38;5;124m'\u001b[39m,\u001b[38;5;124m'\u001b[39m\u001b[38;5;124m18.00\u001b[39m\u001b[38;5;124m'\u001b[39m,\u001b[38;5;124m'\u001b[39m\u001b[38;5;124m45.00\u001b[39m\u001b[38;5;124m'\u001b[39m,\u001b[38;5;124m'\u001b[39m\u001b[38;5;124m48.00\u001b[39m\u001b[38;5;124m'\u001b[39m]\n\u001b[1;32m     15\u001b[0m )\n\u001b[1;32m     17\u001b[0m \u001b[38;5;66;03m# Label the 4 valley-wise scans that happen each hour\u001b[39;00m\n\u001b[1;32m     18\u001b[0m \u001b[38;5;66;03m# similarly to above\u001b[39;00m\n",
      "File \u001b[0;32m~/miniforge3/envs/sublimationofsnow/lib/python3.12/site-packages/pandas/core/series.py:1111\u001b[0m, in \u001b[0;36mSeries.__getitem__\u001b[0;34m(self, key)\u001b[0m\n\u001b[1;32m   1108\u001b[0m     \u001b[38;5;28;01mreturn\u001b[39;00m \u001b[38;5;28mself\u001b[39m\u001b[38;5;241m.\u001b[39m_values[key]\n\u001b[1;32m   1110\u001b[0m \u001b[38;5;28;01melif\u001b[39;00m key_is_scalar:\n\u001b[0;32m-> 1111\u001b[0m     \u001b[38;5;28;01mreturn\u001b[39;00m \u001b[38;5;28;43mself\u001b[39;49m\u001b[38;5;241;43m.\u001b[39;49m\u001b[43m_get_value\u001b[49m\u001b[43m(\u001b[49m\u001b[43mkey\u001b[49m\u001b[43m)\u001b[49m\n\u001b[1;32m   1113\u001b[0m \u001b[38;5;66;03m# Convert generator to list before going through hashable part\u001b[39;00m\n\u001b[1;32m   1114\u001b[0m \u001b[38;5;66;03m# (We will iterate through the generator there to check for slices)\u001b[39;00m\n\u001b[1;32m   1115\u001b[0m \u001b[38;5;28;01mif\u001b[39;00m is_iterator(key):\n",
      "File \u001b[0;32m~/miniforge3/envs/sublimationofsnow/lib/python3.12/site-packages/pandas/core/series.py:1227\u001b[0m, in \u001b[0;36mSeries._get_value\u001b[0;34m(self, label, takeable)\u001b[0m\n\u001b[1;32m   1224\u001b[0m     \u001b[38;5;28;01mreturn\u001b[39;00m \u001b[38;5;28mself\u001b[39m\u001b[38;5;241m.\u001b[39m_values[label]\n\u001b[1;32m   1226\u001b[0m \u001b[38;5;66;03m# Similar to Index.get_value, but we do not fall back to positional\u001b[39;00m\n\u001b[0;32m-> 1227\u001b[0m loc \u001b[38;5;241m=\u001b[39m \u001b[38;5;28;43mself\u001b[39;49m\u001b[38;5;241;43m.\u001b[39;49m\u001b[43mindex\u001b[49m\u001b[38;5;241;43m.\u001b[39;49m\u001b[43mget_loc\u001b[49m\u001b[43m(\u001b[49m\u001b[43mlabel\u001b[49m\u001b[43m)\u001b[49m\n\u001b[1;32m   1229\u001b[0m \u001b[38;5;28;01mif\u001b[39;00m is_integer(loc):\n\u001b[1;32m   1230\u001b[0m     \u001b[38;5;28;01mreturn\u001b[39;00m \u001b[38;5;28mself\u001b[39m\u001b[38;5;241m.\u001b[39m_values[loc]\n",
      "File \u001b[0;32m~/miniforge3/envs/sublimationofsnow/lib/python3.12/site-packages/pandas/core/indexes/base.py:3802\u001b[0m, in \u001b[0;36mIndex.get_loc\u001b[0;34m(self, key)\u001b[0m\n\u001b[1;32m   3800\u001b[0m casted_key \u001b[38;5;241m=\u001b[39m \u001b[38;5;28mself\u001b[39m\u001b[38;5;241m.\u001b[39m_maybe_cast_indexer(key)\n\u001b[1;32m   3801\u001b[0m \u001b[38;5;28;01mtry\u001b[39;00m:\n\u001b[0;32m-> 3802\u001b[0m     \u001b[38;5;28;01mreturn\u001b[39;00m \u001b[38;5;28;43mself\u001b[39;49m\u001b[38;5;241;43m.\u001b[39;49m\u001b[43m_engine\u001b[49m\u001b[38;5;241;43m.\u001b[39;49m\u001b[43mget_loc\u001b[49m\u001b[43m(\u001b[49m\u001b[43mcasted_key\u001b[49m\u001b[43m)\u001b[49m\n\u001b[1;32m   3803\u001b[0m \u001b[38;5;28;01mexcept\u001b[39;00m \u001b[38;5;167;01mKeyError\u001b[39;00m \u001b[38;5;28;01mas\u001b[39;00m err:\n\u001b[1;32m   3804\u001b[0m     \u001b[38;5;28;01mif\u001b[39;00m \u001b[38;5;28misinstance\u001b[39m(casted_key, \u001b[38;5;28mslice\u001b[39m) \u001b[38;5;129;01mor\u001b[39;00m (\n\u001b[1;32m   3805\u001b[0m         \u001b[38;5;28misinstance\u001b[39m(casted_key, abc\u001b[38;5;241m.\u001b[39mIterable)\n\u001b[1;32m   3806\u001b[0m         \u001b[38;5;129;01mand\u001b[39;00m \u001b[38;5;28many\u001b[39m(\u001b[38;5;28misinstance\u001b[39m(x, \u001b[38;5;28mslice\u001b[39m) \u001b[38;5;28;01mfor\u001b[39;00m x \u001b[38;5;129;01min\u001b[39;00m casted_key)\n\u001b[1;32m   3807\u001b[0m     ):\n",
      "\u001b[0;31mKeyboardInterrupt\u001b[0m: "
     ]
    }
   ],
   "source": [
    "# Split dataset into valley-wise and cross-valley RHI scans\n",
    "valley_rhi_df = src_rhi[np.abs(src_rhi['azimuth'] - scan_azimuth_valley_wise) < 1]\n",
    "xvalley_rhi_df = src_rhi[np.abs(src_rhi['azimuth'] - scan_azimuth_valley_cross) < 1]\n",
    "\n",
    "# Label the 4 cross-valley scans that happen each hour\n",
    "# We do this by defining the \"hourly seconds\" (second for a data point where 0 seconds is \n",
    "# at the beginning of the hour)\n",
    "# and saying that all data from after 913 (after 15:13 mm:ss) and before 1113 (before 18:13 \n",
    "# mm:ss) is the first scan, and so on - this may be imperfect\n",
    "xvalley_rhi_df['hourly_seconds'] = xvalley_rhi_df.apply(lambda row: row['minute']*60 + row['second'], axis=1)\n",
    "xvalley_rhi_df['hourly_scan_n'] = pd.cut(\n",
    "    xvalley_rhi_df['hourly_seconds'],\n",
    "    [913, 1113, 2713, 2913, 3599],\n",
    "    labels=['15.00','18.00','45.00','48.00']\n",
    ")\n",
    "\n",
    "# Label the 4 valley-wise scans that happen each hour\n",
    "# similarly to above\n",
    "valley_rhi_df['hourly_seconds'] = valley_rhi_df.apply(lambda row: row['minute']*60 + row['second'], axis=1)\n",
    "valley_rhi_df['hourly_scan_n'] = pd.cut(\n",
    "    valley_rhi_df['hourly_seconds'],\n",
    "    [22, 214, 1804, 2014, 3599],\n",
    "    labels=['00.00','03.00','30.00','33.00']\n",
    ")"
   ]
  },
  {
   "cell_type": "markdown",
   "metadata": {},
   "source": [
    "# Extract profile time series at given upvalley/downvalley distances"
   ]
  },
  {
   "cell_type": "markdown",
   "metadata": {},
   "source": [
    "Establish vertical bin spacing and sizing"
   ]
  },
  {
   "cell_type": "code",
   "execution_count": null,
   "metadata": {},
   "outputs": [],
   "source": [
    "# bin z so we have high res near surface (<100m), low res above\n",
    "z_bins = np.concatenate([\n",
    "    np.linspace(0,100,11), \n",
    "    np.linspace(0,2000,41)[3:]\n",
    "])\n",
    "z_bins"
   ]
  },
  {
   "cell_type": "markdown",
   "metadata": {},
   "source": [
    "### Extract data at a set horizontal distance from the lidar"
   ]
  },
  {
   "cell_type": "code",
   "execution_count": null,
   "metadata": {},
   "outputs": [],
   "source": [
    "# PROFILE_OFFSET_HORIZONTAL = + 500\n",
    "PROFILE_OFFSET_HORIZONTAL = - 250\n",
    "SAMPLING_TOLERANCE = 75\n",
    "\n",
    "src = valley_rhi_df[np.abs(valley_rhi_df['x'] - PROFILE_OFFSET_HORIZONTAL) < SAMPLING_TOLERANCE]\n",
    "src.loc[:, 'scan_time'] = src.apply(lambda row : row['time_beginning_of_hour']+ dt.timedelta(minutes = float(row['hourly_scan_n'])), axis=1)\n",
    "src['scan_time'] = src.apply(\n",
    "    lambda row: row['scan_time'].replace(\n",
    "        year = row['time'].year, \n",
    "        month = row['time'].month, \n",
    "        day = row['time'].day,\n",
    "    ),\n",
    "    axis=1\n",
    ")\n",
    "src = src[['scan_time', 'radial_velocity', 'horizontal_velocity', 'streamwise_velocity',  'z', 'x']]\n",
    "src.loc[:, 'z_binned'] = pd.cut(src.z, bins=z_bins).apply(lambda bin: (bin.left + bin.right)/2).astype('float')"
   ]
  },
  {
   "cell_type": "markdown",
   "metadata": {},
   "source": [
    "### Plot profiles (for one case study)"
   ]
  },
  {
   "cell_type": "code",
   "execution_count": null,
   "metadata": {},
   "outputs": [],
   "source": [
    "dates_actual"
   ]
  },
  {
   "cell_type": "code",
   "execution_count": null,
   "metadata": {},
   "outputs": [],
   "source": [
    "CASE_STUDY_MONTH = 6\n",
    "CASE_STUDY_DAY = 11"
   ]
  },
  {
   "cell_type": "markdown",
   "metadata": {},
   "source": [
    "#### Profile data, as-is"
   ]
  },
  {
   "cell_type": "code",
   "execution_count": null,
   "metadata": {},
   "outputs": [],
   "source": [
    "chart_src = src[\n",
    "    (src.scan_time.dt.month == CASE_STUDY_MONTH) &\n",
    "    (src.scan_time.dt.day == CASE_STUDY_DAY)\n",
    "].set_index('scan_time').groupby([\n",
    "    pd.Grouper(freq='120Min'),\n",
    "    'z_binned'\n",
    "])[['streamwise_velocity']].median().reset_index()\n",
    "\n",
    "chart_src.loc[:, 'time_of_day_str'] = chart_src['scan_time'].dt.strftime('%H%M')\n",
    "chart_src['time_category'] = pd.cut(\n",
    "    chart_src['scan_time'].dt.hour,\n",
    "    [-0.5, 6.5, 14.5, 23.5],\n",
    "    labels = ['morning (0000-0600)', 'day (0700-1500)', 'night (1600-2300)']\n",
    ")\n",
    "chart_src = chart_src.query(\"z_binned <= 600\")\n",
    "\n",
    "chart = (\n",
    "    alt.Chart(chart_src).transform_calculate(rule='0').mark_rule().encode(x='rule:Q')\n",
    "    +\n",
    "    alt.Chart(\n",
    "        chart_src\n",
    "    ).mark_line().encode(\n",
    "        alt.X(\"streamwise_velocity:Q\").sort('-y').scale(domain=[-6,6], clamp=True).title(\"Downvalley velocity (m/s)\"),\n",
    "        alt.Y(\"z_binned:Q\"),\n",
    "        alt.Color(\"time_of_day_str:O\").scale(scheme='rainbow'),\n",
    "        tooltip=\"time_of_day_str:O\"\n",
    "    ).properties(width = 200, height = 200)\n",
    ").facet(\n",
    "    column=alt.Column('time_category:O').sort(['morning', 'day', 'night']).title(None),\n",
    ").properties(\n",
    "    title = f\"{chart_src.scan_time.dt.date.iloc[0]}\"\n",
    ").configure_legend(columns=2)\n",
    "chart"
   ]
  },
  {
   "cell_type": "code",
   "execution_count": null,
   "metadata": {},
   "outputs": [],
   "source": []
  },
  {
   "cell_type": "code",
   "execution_count": null,
   "metadata": {},
   "outputs": [],
   "source": [
    "chart.save(\n",
    "    f\"dl_profile_chart_{str(chart_src.scan_time.dt.date.iloc[0])}_{PROFILE_OFFSET_HORIZONTAL}.png\"\n",
    ")"
   ]
  },
  {
   "cell_type": "markdown",
   "metadata": {},
   "source": [
    "#### Plot a profile normalized by the mean (remove synoptic influences)"
   ]
  },
  {
   "cell_type": "code",
   "execution_count": null,
   "metadata": {},
   "outputs": [],
   "source": [
    "chart = alt.Chart(\n",
    "    chart_src.groupby('z_binned')[['streamwise_velocity']].median().reset_index()\n",
    ").mark_line().encode(\n",
    "    alt.X(\"streamwise_velocity:Q\").sort('-y').scale(domain=[-6,6], clamp=True).title(\"Downvalley velocity (m/s)\"),\n",
    "    alt.Y(\"z_binned:Q\"),\n",
    ").properties(width = 100, height = 100)\n",
    "chart"
   ]
  },
  {
   "cell_type": "code",
   "execution_count": null,
   "metadata": {},
   "outputs": [],
   "source": [
    "chart.save(\n",
    "    f\"dl_profile_chart_{str(chart_src.scan_time.dt.date.iloc[0])}_{PROFILE_OFFSET_HORIZONTAL}_mean.png\",\n",
    "    ppi=150\n",
    ")"
   ]
  },
  {
   "cell_type": "code",
   "execution_count": null,
   "metadata": {},
   "outputs": [],
   "source": [
    "normalized_profile = chart_src.groupby('z_binned')['streamwise_velocity'].median()\n",
    "normalized_timeseries = chart_src.groupby(['scan_time']).apply(lambda df: df.set_index('z_binned')['streamwise_velocity'] - normalized_profile).melt(ignore_index = False).reset_index().rename(columns={'value': 'streamwise_velocity'})\n",
    "normalized_timeseries.loc[:, 'time_of_day_str'] = normalized_timeseries['scan_time'].dt.strftime('%H%M')\n",
    "normalized_timeseries['time_category'] = pd.cut(\n",
    "    normalized_timeseries['scan_time'].dt.hour,\n",
    "    [-0.5, 6.5, 14.5, 23.5],\n",
    "    labels = ['morning (0000-0600)', 'day (0700-1500)', 'night (1600-2300)']\n",
    ")\n",
    "normalized_timeseries = normalized_timeseries.query(\"z_binned > 10\")"
   ]
  },
  {
   "cell_type": "code",
   "execution_count": null,
   "metadata": {},
   "outputs": [],
   "source": [
    "chart = plot = (\n",
    "    alt.Chart(normalized_timeseries).transform_calculate(rule='0').mark_rule().encode(x='rule:Q')\n",
    "    +\n",
    "    alt.Chart(\n",
    "        normalized_timeseries\n",
    "    ).mark_line().encode(\n",
    "        alt.X(\"streamwise_velocity:Q\").sort('-y').scale(domain=[-6,6], clamp=True).title(\"Downvalley velocity (m/s)\"),\n",
    "        alt.Y(\"z_binned:Q\"),\n",
    "        alt.Color(\"time_of_day_str:O\").scale(scheme='rainbow'),\n",
    "        tooltip=\"time_of_day_str:O\"\n",
    "    ).properties(width = 200, height = 200)\n",
    ").facet(\n",
    "    column=alt.Column('time_category:O').sort(['morning', 'day', 'night']).title(None),\n",
    ").properties(\n",
    "    title = f\"{chart_src.scan_time.dt.date.iloc[0]}\"\n",
    ").configure_legend(columns=2)\n"
   ]
  },
  {
   "cell_type": "code",
   "execution_count": null,
   "metadata": {},
   "outputs": [],
   "source": [
    "chart"
   ]
  },
  {
   "cell_type": "code",
   "execution_count": null,
   "metadata": {},
   "outputs": [],
   "source": [
    "chart.save(\n",
    "    f\"dl_profile_chart_{str(normalized_timeseries.scan_time.dt.date.iloc[0])}_{PROFILE_OFFSET_HORIZONTAL}_normalized.png\"\n",
    ")"
   ]
  },
  {
   "cell_type": "markdown",
   "metadata": {},
   "source": [
    "# Extract profile at a given time, at multiple upvalley/downvalley distances"
   ]
  },
  {
   "cell_type": "code",
   "execution_count": null,
   "metadata": {},
   "outputs": [],
   "source": [
    "def time_averaged_profiles(\n",
    "        start_time, \n",
    "        end_time, \n",
    "        horizontal_offsets = [-1500, -1000, -500, -250, -125, 125, 250, 500, 1000, 1500], \n",
    "        sampling_tolerance = 50\n",
    "    ):\n",
    "\n",
    "    spatial_src = valley_rhi_df[\n",
    "        (valley_rhi_df['time'] >= start_time) &\n",
    "        (valley_rhi_df['time'] <= end_time)\n",
    "    ]\n",
    "    \n",
    "    \n",
    "    df_list = []\n",
    "    for x_offset in horizontal_offsets:\n",
    "        df = spatial_src[np.abs(spatial_src['x'] - x_offset) < sampling_tolerance]\n",
    "        df = df.assign(x_offset = x_offset)\n",
    "        df_list.append(df)\n",
    "    spatial_src_df = pd.concat(df_list)\n",
    "    spatial_src_df = spatial_src_df.assign(z_binned = pd.cut(spatial_src_df.z, bins=z_bins).apply(lambda bin: (bin.left + bin.right)/2).astype('float'))\n",
    "    spatial_src_df = spatial_src_df.groupby(['z_binned', 'x_offset'])[['horizontal_velocity', 'radial_velocity', 'streamwise_velocity']].median().reset_index()\n",
    "    spatial_src_df = spatial_src_df[spatial_src_df.z_binned <= 600]\n",
    "\n",
    "    spatial_src_df['start_time'] = start_time\n",
    "    spatial_src_df['end_time'] = end_time\n",
    "    \n",
    "    return spatial_src_df"
   ]
  },
  {
   "cell_type": "markdown",
   "metadata": {},
   "source": [
    "### 20230416 - 0200-0400"
   ]
  },
  {
   "cell_type": "code",
   "execution_count": null,
   "metadata": {},
   "outputs": [],
   "source": [
    "timeavg_profs_cs1 = time_averaged_profiles(start_time = \"20230416 0200\", end_time = \"20230416 0400\")"
   ]
  },
  {
   "cell_type": "code",
   "execution_count": null,
   "metadata": {},
   "outputs": [],
   "source": [
    "plot_src = timeavg_profs_cs1.query(\"x_offset < 1500\").query(\"z_binned > 15\").query(\"z_binned < 1500\")\n",
    "alt.Chart(\n",
    "    plot_src\n",
    ").mark_line(strokeWidth=4).encode(\n",
    "    alt.X(\"streamwise_velocity:Q\").sort('-y').title(\n",
    "        [\"Downvalley\", \"velocity (m/s)\"]\n",
    "    ).scale(domain=[0,4], clamp=True).axis(values=[0,1,2,3], domain=True),\n",
    "    alt.Y(\"z_binned:Q\"),\n",
    "    alt.Facet(\"x_offset:O\", spacing=-80).title('Along-valley distance from lidar')\n",
    ").properties(width = 100, height = 200,\n",
    "    title='z relative to doppler lidar'             \n",
    ").resolve_scale(x='shared').configure_view(strokeWidth=0).configure_axis(grid=False)"
   ]
  },
  {
   "cell_type": "code",
   "execution_count": null,
   "metadata": {},
   "outputs": [],
   "source": [
    "plot_src = timeavg_profs_cs1.query(\"x_offset < 1500\").query(\"z_binned > 15\").query(\"z_binned < 1500\")\n",
    "plot_src['z_binned_adj'] = plot_src['z_binned'] + plot_src['x_offset']*np.tan(np.deg2rad(10))\n",
    "alt.Chart(\n",
    "    plot_src\n",
    ").mark_line(strokeWidth=4).encode(\n",
    "    alt.X(\"streamwise_velocity:Q\").sort('-y').title(\n",
    "        [\"Downvalley\", \"velocity (m/s)\"]\n",
    "    ).scale(domain=[0,4], clamp=True).axis(values=[0,1,2,3], domain=True),\n",
    "    alt.Y(\"z_binned_adj:Q\"),\n",
    "    alt.Facet(\"x_offset:O\", spacing=-80).title('Along-valley distance from lidar')\n",
    ").properties(width = 100, height = 200,\n",
    "    title='z relative to valley floor'             \n",
    ").resolve_scale(x='shared').configure_view(strokeWidth=0).configure_axis(grid=False)"
   ]
  },
  {
   "cell_type": "code",
   "execution_count": null,
   "metadata": {},
   "outputs": [],
   "source": [
    "plot_src = timeavg_profs_cs1.query(\"x_offset < 1500\").query(\"z_binned > 15\").query(\"z_binned < 1500\")\n",
    "z_chart = (\n",
    "    alt.Chart(\n",
    "        plot_src\n",
    "    ).mark_line(strokeWidth=4).encode(\n",
    "        alt.X(\"horizontal_velocity:Q\").sort('-y').scale(domain=[-6,6], clamp=True).title(\"Downvalley velocity (m/s)\"),\n",
    "        alt.Y(\"z_binned:Q\"),\n",
    "        alt.Color(\"x_offset:O\").scale(scheme='spectral'),\n",
    "    ).properties(width = 450, height = 200, title='Horizontal velocity') &\\\n",
    "    alt.Chart(\n",
    "        plot_src\n",
    "    ).mark_line(strokeWidth=4).encode(\n",
    "        alt.X(\"radial_velocity:Q\").sort('-y').scale(domain=[-6,6], clamp=True).title(\"Downvalley velocity (m/s)\"),\n",
    "        alt.Y(\"z_binned:Q\"),\n",
    "        alt.Color(\"x_offset:O\").scale(scheme='spectral'),\n",
    "    ).properties(width = 450, height = 200, title='Radial velocity')  &\\\n",
    "    alt.Chart(\n",
    "        plot_src\n",
    "    ).mark_line(strokeWidth=4).encode(\n",
    "        alt.X(\"streamwise_velocity:Q\").sort('-y').scale(domain=[-6,6], clamp=True).title(\"Downvalley velocity (m/s)\"),\n",
    "        alt.Y(\"z_binned:Q\"),\n",
    "        alt.Color(\"x_offset:O\").scale(scheme='spectral'),\n",
    "    ).properties(width = 450, height = 200, title='Streamwise velocity')\n",
    ").properties(title='z relative to doppler lidar')"
   ]
  },
  {
   "cell_type": "code",
   "execution_count": null,
   "metadata": {},
   "outputs": [],
   "source": [
    "plot_src = timeavg_profs_cs1.query(\"x_offset < 1500\").query(\"z_binned > 15\").query(\"z_binned < 1500\")\n",
    "plot_src['z_binned_adj'] = plot_src['z_binned'] + plot_src['x_offset']*np.tan(np.deg2rad(10))\n",
    "z_adj_chart = (\n",
    "    alt.Chart(\n",
    "        plot_src\n",
    "    ).mark_line(strokeWidth=4).encode(\n",
    "        alt.X(\"horizontal_velocity:Q\").sort('-y').scale(domain=[-6,6], clamp=True).title(\"Downvalley velocity (m/s)\"),\n",
    "        alt.Y(\"z_binned_adj:Q\"),\n",
    "        alt.Color(\"x_offset:O\").scale(scheme='spectral'),\n",
    "    ).properties(width = 450, height = 200, title='Horizontal velocity') &\\\n",
    "    alt.Chart(\n",
    "        plot_src\n",
    "    ).mark_line(strokeWidth=4).encode(\n",
    "        alt.X(\"radial_velocity:Q\").sort('-y').scale(domain=[-6,6], clamp=True).title(\"Downvalley velocity (m/s)\"),\n",
    "        alt.Y(\"z_binned_adj:Q\"),\n",
    "        alt.Color(\"x_offset:O\").scale(scheme='spectral'),\n",
    "    ).properties(width = 450, height = 200, title='Radial velocity')  &\\\n",
    "    alt.Chart(\n",
    "        plot_src\n",
    "    ).mark_line(strokeWidth=4).encode(\n",
    "        alt.X(\"streamwise_velocity:Q\").sort('-y').scale(domain=[-6,6], clamp=True).title(\"Downvalley velocity (m/s)\"),\n",
    "        alt.Y(\"z_binned_adj:Q\"),\n",
    "        alt.Color(\"x_offset:O\").scale(scheme='spectral'),\n",
    "    ).properties(width = 450, height = 200, title='Streamwise velocity')\n",
    ").properties(title='z relative to valley floor')"
   ]
  },
  {
   "cell_type": "code",
   "execution_count": null,
   "metadata": {},
   "outputs": [],
   "source": [
    "\n",
    "z_chart | z_adj_chart"
   ]
  },
  {
   "cell_type": "markdown",
   "metadata": {},
   "source": [
    "### 20230416 - 1200-1400"
   ]
  },
  {
   "cell_type": "code",
   "execution_count": null,
   "metadata": {},
   "outputs": [],
   "source": [
    "timeavg_profs_cs2 = time_averaged_profiles(start_time = \"20230416 1200\", end_time = \"20230416 1400\")"
   ]
  },
  {
   "cell_type": "code",
   "execution_count": null,
   "metadata": {},
   "outputs": [],
   "source": [
    "plot_src = timeavg_profs_cs2.query(\"x_offset < 1500\").query(\"z_binned > 15\").query(\"z_binned < 1500\")\n",
    "alt.Chart(\n",
    "    plot_src\n",
    ").mark_line(strokeWidth=4).encode(\n",
    "    alt.X(\"streamwise_velocity:Q\").sort('-y').title(\n",
    "        [\"Downvalley\", \"velocity (m/s)\"]\n",
    "    ).scale(domain=[-5,2], clamp=True).axis(values=[-4,-2,0,2], domain=True),\n",
    "    alt.Y(\"z_binned:Q\"),\n",
    "    alt.Facet(\"x_offset:O\", spacing=-80).title('Along-valley distance from lidar')\n",
    ").properties(width = 100, height = 200,\n",
    "    title='z relative to doppler lidar'             \n",
    ").resolve_scale(x='shared').configure_view(strokeWidth=0).configure_axis(grid=False)"
   ]
  },
  {
   "cell_type": "code",
   "execution_count": null,
   "metadata": {},
   "outputs": [],
   "source": [
    "plot_src = timeavg_profs_cs2.query(\"x_offset < 1500\").query(\"z_binned > 15\").query(\"z_binned < 1500\")\n",
    "plot_src['z_binned_adj'] = plot_src['z_binned'] + plot_src['x_offset']*np.tan(np.deg2rad(10))\n",
    "alt.Chart(\n",
    "    plot_src\n",
    ").mark_line(strokeWidth=4).encode(\n",
    "    alt.X(\"streamwise_velocity:Q\").sort('-y').title(\n",
    "        [\"Downvalley\", \"velocity (m/s)\"]\n",
    "    ).scale(domain=[-5,2], clamp=True).axis(values=[-4,-2,0,2], domain=True),\n",
    "    alt.Y(\"z_binned_adj:Q\"),\n",
    "    alt.Facet(\"x_offset:O\", spacing=-80).title('Along-valley distance from lidar')\n",
    ").properties(width = 100, height = 200,\n",
    "    title='z relative to valley floor'             \n",
    ").resolve_scale(x='shared').configure_view(strokeWidth=0).configure_axis(grid=False)"
   ]
  },
  {
   "cell_type": "code",
   "execution_count": null,
   "metadata": {},
   "outputs": [],
   "source": [
    "plot_src = timeavg_profs_cs2.query(\"x_offset < 1500\").query(\"z_binned > 15\").query(\"z_binned < 1500\")\n",
    "z_chart = (\n",
    "    alt.Chart(\n",
    "        plot_src\n",
    "    ).mark_line(strokeWidth=4).encode(\n",
    "        alt.X(\"horizontal_velocity:Q\").sort('-y').scale(domain=[-6,6], clamp=True).title(\"Downvalley velocity (m/s)\"),\n",
    "        alt.Y(\"z_binned:Q\"),\n",
    "        alt.Color(\"x_offset:O\").scale(scheme='spectral'),\n",
    "    ).properties(width = 450, height = 200, title='Horizontal velocity') &\\\n",
    "    alt.Chart(\n",
    "        plot_src\n",
    "    ).mark_line(strokeWidth=4).encode(\n",
    "        alt.X(\"radial_velocity:Q\").sort('-y').scale(domain=[-6,6], clamp=True).title(\"Downvalley velocity (m/s)\"),\n",
    "        alt.Y(\"z_binned:Q\"),\n",
    "        alt.Color(\"x_offset:O\").scale(scheme='spectral'),\n",
    "    ).properties(width = 450, height = 200, title='Radial velocity')  &\\\n",
    "    alt.Chart(\n",
    "        plot_src\n",
    "    ).mark_line(strokeWidth=4).encode(\n",
    "        alt.X(\"streamwise_velocity:Q\").sort('-y').scale(domain=[-6,6], clamp=True).title(\"Downvalley velocity (m/s)\"),\n",
    "        alt.Y(\"z_binned:Q\"),\n",
    "        alt.Color(\"x_offset:O\").scale(scheme='spectral'),\n",
    "    ).properties(width = 450, height = 200, title='Streamwise velocity')\n",
    ").properties(title='z relative to doppler lidar')"
   ]
  },
  {
   "cell_type": "code",
   "execution_count": null,
   "metadata": {},
   "outputs": [],
   "source": [
    "plot_src = timeavg_profs_cs2.query(\"x_offset < 1500\").query(\"z_binned > 15\").query(\"z_binned < 1500\")\n",
    "plot_src['z_binned_adj'] = plot_src['z_binned'] + plot_src['x_offset']*np.tan(np.deg2rad(10))\n",
    "z_adj_chart = (\n",
    "    alt.Chart(\n",
    "        plot_src\n",
    "    ).mark_line(strokeWidth=4).encode(\n",
    "        alt.X(\"horizontal_velocity:Q\").sort('-y').scale(domain=[-6,6], clamp=True).title(\"Downvalley velocity (m/s)\"),\n",
    "        alt.Y(\"z_binned_adj:Q\"),\n",
    "        alt.Color(\"x_offset:O\").scale(scheme='spectral'),\n",
    "    ).properties(width = 450, height = 200, title='Horizontal velocity') &\\\n",
    "    alt.Chart(\n",
    "        plot_src\n",
    "    ).mark_line(strokeWidth=4).encode(\n",
    "        alt.X(\"radial_velocity:Q\").sort('-y').scale(domain=[-6,6], clamp=True).title(\"Downvalley velocity (m/s)\"),\n",
    "        alt.Y(\"z_binned_adj:Q\"),\n",
    "        alt.Color(\"x_offset:O\").scale(scheme='spectral'),\n",
    "    ).properties(width = 450, height = 200, title='Radial velocity')  &\\\n",
    "    alt.Chart(\n",
    "        plot_src\n",
    "    ).mark_line(strokeWidth=4).encode(\n",
    "        alt.X(\"streamwise_velocity:Q\").sort('-y').scale(domain=[-6,6], clamp=True).title(\"Downvalley velocity (m/s)\"),\n",
    "        alt.Y(\"z_binned_adj:Q\"),\n",
    "        alt.Color(\"x_offset:O\").scale(scheme='spectral'),\n",
    "    ).properties(width = 450, height = 200, title='Streamwise velocity')\n",
    ").properties(title='z relative to valley floor')"
   ]
  },
  {
   "cell_type": "code",
   "execution_count": null,
   "metadata": {},
   "outputs": [],
   "source": [
    "z_chart | z_adj_chart"
   ]
  },
  {
   "cell_type": "markdown",
   "metadata": {},
   "source": [
    "### 20230611 - 0200-0400"
   ]
  },
  {
   "cell_type": "code",
   "execution_count": null,
   "metadata": {},
   "outputs": [],
   "source": [
    "timeavg_profs_cs3 = time_averaged_profiles(\"20230611 0200\", \"20230611 0400\")"
   ]
  },
  {
   "cell_type": "code",
   "execution_count": null,
   "metadata": {},
   "outputs": [],
   "source": [
    "plot_src = timeavg_profs_cs3.query(\"x_offset > -1500\").query(\"z_binned > 15\").query(\"z_binned < 1500\")\n",
    "alt.Chart(\n",
    "    plot_src\n",
    ").mark_line(strokeWidth=4).encode(\n",
    "    alt.X(\"streamwise_velocity:Q\").sort('-y').title(\n",
    "        [\"Downvalley\", \"velocity (m/s)\"]\n",
    "    ).scale(clamp=True).axis(domain=True),\n",
    "    alt.Y(\"z_binned:Q\"),\n",
    "    alt.Facet(\"x_offset:O\", spacing=-80).title('Along-valley distance from lidar')\n",
    ").properties(width = 100, height = 200,\n",
    "    title='z relative to doppler lidar'             \n",
    ").resolve_scale(x='shared').configure_view(strokeWidth=0).configure_axis(grid=False)"
   ]
  },
  {
   "cell_type": "code",
   "execution_count": null,
   "metadata": {},
   "outputs": [],
   "source": [
    "plot_src = timeavg_profs_cs3.query(\"x_offset > -1500\").query(\"z_binned > 15\").query(\"z_binned < 1500\")\n",
    "plot_src['z_binned_adj'] = plot_src['z_binned'] + plot_src['x_offset']*np.tan(np.deg2rad(10))\n",
    "alt.Chart(\n",
    "    plot_src\n",
    ").mark_line(strokeWidth=4).encode(\n",
    "    alt.X(\"streamwise_velocity:Q\").sort('-y').title(\n",
    "        [\"Downvalley\", \"velocity (m/s)\"]\n",
    "    ).scale(clamp=True).axis(domain=True),\n",
    "    alt.Y(\"z_binned_adj:Q\"),\n",
    "    alt.Facet(\"x_offset:O\", spacing=-80).title('Along-valley distance from lidar')\n",
    ").properties(width = 100, height = 200,\n",
    "    title='z relative to valley floor'             \n",
    ").resolve_scale(x='shared').configure_view(strokeWidth=0).configure_axis(grid=False)"
   ]
  },
  {
   "cell_type": "code",
   "execution_count": null,
   "metadata": {},
   "outputs": [],
   "source": [
    "plot_src = timeavg_profs_cs3.query(\"x_offset > -1500\").query(\"z_binned > 15\").query(\"z_binned < 1500\")\n",
    "z_chart = (\n",
    "    alt.Chart(\n",
    "        plot_src\n",
    "    ).mark_line(strokeWidth=4).encode(\n",
    "        alt.X(\"horizontal_velocity:Q\").sort('-y').scale(domain=[-6,6], clamp=True).title(\"Downvalley velocity (m/s)\"),\n",
    "        alt.Y(\"z_binned:Q\"),\n",
    "        alt.Color(\"x_offset:O\").scale(scheme='spectral'),\n",
    "    ).properties(width = 450, height = 200, title='Horizontal velocity') &\\\n",
    "    alt.Chart(\n",
    "        plot_src\n",
    "    ).mark_line(strokeWidth=4).encode(\n",
    "        alt.X(\"radial_velocity:Q\").sort('-y').scale(domain=[-6,6], clamp=True).title(\"Downvalley velocity (m/s)\"),\n",
    "        alt.Y(\"z_binned:Q\"),\n",
    "        alt.Color(\"x_offset:O\").scale(scheme='spectral'),\n",
    "    ).properties(width = 450, height = 200, title='Radial velocity')  &\\\n",
    "    alt.Chart(\n",
    "        plot_src\n",
    "    ).mark_line(strokeWidth=4).encode(\n",
    "        alt.X(\"streamwise_velocity:Q\").sort('-y').scale(domain=[-6,6], clamp=True).title(\"Downvalley velocity (m/s)\"),\n",
    "        alt.Y(\"z_binned:Q\"),\n",
    "        alt.Color(\"x_offset:O\").scale(scheme='spectral'),\n",
    "    ).properties(width = 450, height = 200, title='Streamwise velocity')\n",
    ").properties(title='z relative to doppler lidar')"
   ]
  },
  {
   "cell_type": "code",
   "execution_count": null,
   "metadata": {},
   "outputs": [],
   "source": [
    "plot_src = timeavg_profs_cs3.query(\"x_offset > -1500\").query(\"z_binned > 15\").query(\"z_binned < 1500\")\n",
    "plot_src['z_binned_adj'] = plot_src['z_binned'] + plot_src['x_offset']*np.tan(np.deg2rad(10))\n",
    "z_adj_chart = (\n",
    "    alt.Chart(\n",
    "        plot_src\n",
    "    ).mark_line(strokeWidth=4).encode(\n",
    "        alt.X(\"horizontal_velocity:Q\").sort('-y').scale(domain=[-6,6], clamp=True).title(\"Downvalley velocity (m/s)\"),\n",
    "        alt.Y(\"z_binned_adj:Q\"),\n",
    "        alt.Color(\"x_offset:O\").scale(scheme='spectral'),\n",
    "    ).properties(width = 450, height = 200, title='Horizontal velocity') &\\\n",
    "    alt.Chart(\n",
    "        plot_src\n",
    "    ).mark_line(strokeWidth=4).encode(\n",
    "        alt.X(\"radial_velocity:Q\").sort('-y').scale(domain=[-6,6], clamp=True).title(\"Downvalley velocity (m/s)\"),\n",
    "        alt.Y(\"z_binned_adj:Q\"),\n",
    "        alt.Color(\"x_offset:O\").scale(scheme='spectral'),\n",
    "    ).properties(width = 450, height = 200, title='Radial velocity')  &\\\n",
    "    alt.Chart(\n",
    "        plot_src\n",
    "    ).mark_line(strokeWidth=4).encode(\n",
    "        alt.X(\"streamwise_velocity:Q\").sort('-y').scale(domain=[-6,6], clamp=True).title(\"Downvalley velocity (m/s)\"),\n",
    "        alt.Y(\"z_binned_adj:Q\"),\n",
    "        alt.Color(\"x_offset:O\").scale(scheme='spectral'),\n",
    "    ).properties(width = 450, height = 200, title='Streamwise velocity')\n",
    ").properties(title='z relative to valley floor')"
   ]
  },
  {
   "cell_type": "code",
   "execution_count": null,
   "metadata": {},
   "outputs": [],
   "source": [
    "z_chart | z_adj_chart"
   ]
  },
  {
   "cell_type": "markdown",
   "metadata": {},
   "source": [
    "### 20230611 - 1200-1400"
   ]
  },
  {
   "cell_type": "code",
   "execution_count": null,
   "metadata": {},
   "outputs": [],
   "source": [
    "timeavg_profs_cs4 = time_averaged_profiles(\"20230611 1200\", \"20230611 1400\")"
   ]
  },
  {
   "cell_type": "code",
   "execution_count": null,
   "metadata": {},
   "outputs": [],
   "source": [
    "plot_src = timeavg_profs_cs4.query(\"x_offset < 1000\").query(\"x_offset > - 1000\").query(\"z_binned > 15\").query(\"z_binned < 1500\")\n",
    "alt.Chart(\n",
    "    plot_src\n",
    ").mark_line(strokeWidth=4).encode(\n",
    "    alt.X(\"streamwise_velocity:Q\").sort('-y').title(\n",
    "        [\"Downvalley\", \"velocity (m/s)\"]\n",
    "    ).scale(clamp=True).axis(domain=True),\n",
    "    alt.Y(\"z_binned:Q\"),\n",
    "    alt.Facet(\"x_offset:O\", spacing=-80).title('Along-valley distance from lidar')\n",
    ").properties(width = 100, height = 200,\n",
    "    title='z relative to doppler lidar'             \n",
    ").resolve_scale(x='shared').configure_view(strokeWidth=0).configure_axis(grid=False)"
   ]
  },
  {
   "cell_type": "code",
   "execution_count": null,
   "metadata": {},
   "outputs": [],
   "source": [
    "plot_src = timeavg_profs_cs4.query(\"x_offset < 1000\").query(\"x_offset > - 1000\").query(\"z_binned > 15\").query(\"z_binned < 1500\")\n",
    "plot_src['z_binned_adj'] = plot_src['z_binned'] + plot_src['x_offset']*np.tan(np.deg2rad(10))\n",
    "alt.Chart(\n",
    "    plot_src\n",
    ").mark_line(strokeWidth=4).encode(\n",
    "    alt.X(\"streamwise_velocity:Q\").sort('-y').title(\n",
    "        [\"Downvalley\", \"velocity (m/s)\"]\n",
    "    ).scale(clamp=True).axis(domain=True),\n",
    "    alt.Y(\"z_binned_adj:Q\"),\n",
    "    alt.Facet(\"x_offset:O\", spacing=-80).title('Along-valley distance from lidar')\n",
    ").properties(width = 100, height = 200,\n",
    "    title='z relative to valley floor'             \n",
    ").resolve_scale(x='shared').configure_view(strokeWidth=0).configure_axis(grid=False)"
   ]
  },
  {
   "cell_type": "code",
   "execution_count": null,
   "metadata": {},
   "outputs": [],
   "source": [
    "plot_src = timeavg_profs_cs4.query(\"x_offset < 1000\").query(\"x_offset > - 1000\").query(\"z_binned > 15\").query(\"z_binned < 1500\")\n",
    "z_chart = (\n",
    "    alt.Chart(\n",
    "        plot_src\n",
    "    ).mark_line(strokeWidth=4).encode(\n",
    "        alt.X(\"horizontal_velocity:Q\").sort('-y').scale(domain=[-6,6], clamp=True).title(\"Downvalley velocity (m/s)\"),\n",
    "        alt.Y(\"z_binned:Q\"),\n",
    "        alt.Color(\"x_offset:O\").scale(scheme='spectral'),\n",
    "    ).properties(width = 450, height = 200, title='Horizontal velocity') &\\\n",
    "    alt.Chart(\n",
    "        plot_src\n",
    "    ).mark_line(strokeWidth=4).encode(\n",
    "        alt.X(\"radial_velocity:Q\").sort('-y').scale(domain=[-6,6], clamp=True).title(\"Downvalley velocity (m/s)\"),\n",
    "        alt.Y(\"z_binned:Q\"),\n",
    "        alt.Color(\"x_offset:O\").scale(scheme='spectral'),\n",
    "    ).properties(width = 450, height = 200, title='Radial velocity')  &\\\n",
    "    alt.Chart(\n",
    "        plot_src\n",
    "    ).mark_line(strokeWidth=4).encode(\n",
    "        alt.X(\"streamwise_velocity:Q\").sort('-y').scale(domain=[-6,6], clamp=True).title(\"Downvalley velocity (m/s)\"),\n",
    "        alt.Y(\"z_binned:Q\"),\n",
    "        alt.Color(\"x_offset:O\").scale(scheme='spectral'),\n",
    "    ).properties(width = 450, height = 200, title='Streamwise velocity')\n",
    ").properties(title='z relative to doppler lidar')"
   ]
  },
  {
   "cell_type": "code",
   "execution_count": null,
   "metadata": {},
   "outputs": [],
   "source": [
    "plot_src = timeavg_profs_cs4.query(\"x_offset < 1000\").query(\"x_offset > - 1000\").query(\"z_binned > 15\").query(\"z_binned < 1500\")\n",
    "plot_src['z_binned_adj'] = plot_src['z_binned'] + plot_src['x_offset']*np.tan(np.deg2rad(10))\n",
    "z_adj_chart = (\n",
    "    alt.Chart(\n",
    "        plot_src\n",
    "    ).mark_line(strokeWidth=4).encode(\n",
    "        alt.X(\"horizontal_velocity:Q\").sort('-y').scale(domain=[-6,6], clamp=True).title(\"Downvalley velocity (m/s)\"),\n",
    "        alt.Y(\"z_binned_adj:Q\"),\n",
    "        alt.Color(\"x_offset:O\").scale(scheme='spectral'),\n",
    "    ).properties(width = 450, height = 200, title='Horizontal velocity') &\\\n",
    "    alt.Chart(\n",
    "        plot_src\n",
    "    ).mark_line(strokeWidth=4).encode(\n",
    "        alt.X(\"radial_velocity:Q\").sort('-y').scale(domain=[-6,6], clamp=True).title(\"Downvalley velocity (m/s)\"),\n",
    "        alt.Y(\"z_binned_adj:Q\"),\n",
    "        alt.Color(\"x_offset:O\").scale(scheme='spectral'),\n",
    "    ).properties(width = 450, height = 200, title='Radial velocity')  &\\\n",
    "    alt.Chart(\n",
    "        plot_src\n",
    "    ).mark_line(strokeWidth=4).encode(\n",
    "        alt.X(\"streamwise_velocity:Q\").sort('-y').scale(domain=[-6,6], clamp=True).title(\"Downvalley velocity (m/s)\"),\n",
    "        alt.Y(\"z_binned_adj:Q\"),\n",
    "        alt.Color(\"x_offset:O\").scale(scheme='spectral'),\n",
    "    ).properties(width = 450, height = 200, title='Streamwise velocity')\n",
    ").properties(title='z relative to valley floor')"
   ]
  },
  {
   "cell_type": "code",
   "execution_count": null,
   "metadata": {},
   "outputs": [],
   "source": [
    "z_chart | z_adj_chart"
   ]
  },
  {
   "cell_type": "code",
   "execution_count": null,
   "metadata": {},
   "outputs": [],
   "source": []
  }
 ],
 "metadata": {
  "kernelspec": {
   "display_name": "sublimationofsnow",
   "language": "python",
   "name": "python3"
  },
  "language_info": {
   "codemirror_mode": {
    "name": "ipython",
    "version": 3
   },
   "file_extension": ".py",
   "mimetype": "text/x-python",
   "name": "python",
   "nbconvert_exporter": "python",
   "pygments_lexer": "ipython3",
   "version": "3.12.1"
  }
 },
 "nbformat": 4,
 "nbformat_minor": 2
}
