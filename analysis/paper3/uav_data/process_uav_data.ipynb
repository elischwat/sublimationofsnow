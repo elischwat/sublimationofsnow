{
 "cells": [
  {
   "cell_type": "code",
   "execution_count": 22,
   "metadata": {},
   "outputs": [],
   "source": [
    "import rioxarray as rix"
   ]
  },
  {
   "cell_type": "markdown",
   "metadata": {},
   "source": [
    "# Make all the tifs cloud optimized"
   ]
  },
  {
   "cell_type": "markdown",
   "metadata": {},
   "source": [
    "Find all the tifs"
   ]
  },
  {
   "cell_type": "code",
   "execution_count": 23,
   "metadata": {},
   "outputs": [
    {
     "name": "stdout",
     "output_type": "stream",
     "text": [
      "\u001b[31mLundquistSnowHydro_KettlePonds_Altum_2024_04_24_Flight1_ortho_reflectance_clipped.tif\u001b[m\u001b[m*\n",
      "\u001b[31mLundquistSnowHydro_KettlePonds_Altum_2024_04_24_Flight2_ortho_reflectance_clipped.tif\u001b[m\u001b[m*\n",
      "\u001b[31mLundquistSnowHydro_KettlePonds_Altum_2024_04_24_Flight3_ortho_reflectance_clipped.tif\u001b[m\u001b[m*\n",
      "LundquistSnowHydro_KettlePonds_Altum_2024_04_24_Flight3_ortho_reflectance_clipped_cog.tif\n",
      "\u001b[31mLundquistSnowHydro_KettlePonds_P1_2024_04_24_dsm_clipped.tif\u001b[m\u001b[m*\n",
      "\u001b[31mLundquistSnowHydro_KettlePonds_P1_2024_04_24_ht_above_DEM.tif\u001b[m\u001b[m*\n",
      "\u001b[31mLundquistSnowHydro_KettlePonds_P1_2024_04_24_ortho_clipped.tif\u001b[m\u001b[m*\n"
     ]
    }
   ],
   "source": [
    "ls /Users/elischwat/Development/data/sublimationofsnow/RMBL_dronedata/processed/Dronedata_KettlePonds_2024_04_24/mosaics_clipped/ | grep .tif | grep -v \".aux.xml\""
   ]
  },
  {
   "cell_type": "markdown",
   "metadata": {},
   "source": [
    "Make a folder to store the new ones"
   ]
  },
  {
   "cell_type": "code",
   "execution_count": 24,
   "metadata": {},
   "outputs": [
    {
     "name": "stdout",
     "output_type": "stream",
     "text": [
      "mkdir: /Users/elischwat/Development/data/sublimationofsnow/RMBL_dronedata/processed/Dronedata_KettlePonds_2024_04_24/mosaics_clipped/cog/: File exists\n"
     ]
    }
   ],
   "source": [
    "mkdir /Users/elischwat/Development/data/sublimationofsnow/RMBL_dronedata/processed/Dronedata_KettlePonds_2024_04_24/mosaics_clipped/cog/"
   ]
  },
  {
   "cell_type": "markdown",
   "metadata": {},
   "source": [
    "Process all the tifs"
   ]
  },
  {
   "cell_type": "code",
   "execution_count": 25,
   "metadata": {},
   "outputs": [
    {
     "name": "stdout",
     "output_type": "stream",
     "text": [
      "Input file size is 18158, 28902\n",
      "Warning 6: driver COG does not support creation option TILED\n",
      "0...10...20...30...40...50...60...70...80...90...100 - done.\n"
     ]
    }
   ],
   "source": [
    "fn_in = \"/Users/elischwat/Development/data/sublimationofsnow/RMBL_dronedata/processed/Dronedata_KettlePonds_2024_04_24/mosaics_clipped/LundquistSnowHydro_KettlePonds_Altum_2024_04_24_Flight1_ortho_reflectance_clipped.tif\"\n",
    "fn_out = \"/Users/elischwat/Development/data/sublimationofsnow/RMBL_dronedata/processed/Dronedata_KettlePonds_2024_04_24/mosaics_clipped/cog/LundquistSnowHydro_KettlePonds_Altum_2024_04_24_Flight1_ortho_reflectance_clipped_cog.tif\"\n",
    "!gdal_translate {fn_in} {fn_out} -of COG -co TILED=YES -co COMPRESS=DEFLATE -co BIGTIFF=YES"
   ]
  },
  {
   "cell_type": "code",
   "execution_count": 26,
   "metadata": {},
   "outputs": [
    {
     "name": "stdout",
     "output_type": "stream",
     "text": [
      "Input file size is 12514, 17805\n",
      "Warning 6: driver COG does not support creation option TILED\n",
      "0...10...20...30...40...50...60...70...80...90...100 - done.\n"
     ]
    }
   ],
   "source": [
    "fn_in = \"/Users/elischwat/Development/data/sublimationofsnow/RMBL_dronedata/processed/Dronedata_KettlePonds_2024_04_24/mosaics_clipped/LundquistSnowHydro_KettlePonds_Altum_2024_04_24_Flight2_ortho_reflectance_clipped.tif\"\n",
    "fn_out = \"/Users/elischwat/Development/data/sublimationofsnow/RMBL_dronedata/processed/Dronedata_KettlePonds_2024_04_24/mosaics_clipped/cog/LundquistSnowHydro_KettlePonds_Altum_2024_04_24_Flight2_ortho_reflectance_clipped_cog.tif\"\n",
    "!gdal_translate {fn_in} {fn_out} -of COG -co TILED=YES -co COMPRESS=DEFLATE -co BIGTIFF=YES"
   ]
  },
  {
   "cell_type": "code",
   "execution_count": 27,
   "metadata": {},
   "outputs": [
    {
     "name": "stdout",
     "output_type": "stream",
     "text": [
      "Input file size is 15199, 18588\n",
      "Warning 6: driver COG does not support creation option TILED\n",
      "0...10...20...30...40...50...60...70...80...90...100 - done.\n"
     ]
    }
   ],
   "source": [
    "fn_in = \"/Users/elischwat/Development/data/sublimationofsnow/RMBL_dronedata/processed/Dronedata_KettlePonds_2024_04_24/mosaics_clipped/LundquistSnowHydro_KettlePonds_Altum_2024_04_24_Flight3_ortho_reflectance_clipped.tif\"\n",
    "fn_out = \"/Users/elischwat/Development/data/sublimationofsnow/RMBL_dronedata/processed/Dronedata_KettlePonds_2024_04_24/mosaics_clipped/cog/LundquistSnowHydro_KettlePonds_Altum_2024_04_24_Flight3_ortho_reflectance_clipped_cog.tif\"\n",
    "!gdal_translate {fn_in} {fn_out} -of COG -co TILED=YES -co COMPRESS=DEFLATE -co BIGTIFF=YES"
   ]
  },
  {
   "cell_type": "code",
   "execution_count": 28,
   "metadata": {},
   "outputs": [
    {
     "name": "stdout",
     "output_type": "stream",
     "text": [
      "Input file size is 28140, 51608\n",
      "Warning 6: driver COG does not support creation option TILED\n",
      "0...10...20...30...40...50...60...70...80...90...100 - done.\n"
     ]
    }
   ],
   "source": [
    "fn_in = \"/Users/elischwat/Development/data/sublimationofsnow/RMBL_dronedata/processed/Dronedata_KettlePonds_2024_04_24/mosaics_clipped/LundquistSnowHydro_KettlePonds_P1_2024_04_24_dsm_clipped.tif\"\n",
    "fn_out = \"/Users/elischwat/Development/data/sublimationofsnow/RMBL_dronedata/processed/Dronedata_KettlePonds_2024_04_24/mosaics_clipped/cog/LundquistSnowHydro_KettlePonds_P1_2024_04_24_dsm_clipped_cog.tif\"\n",
    "!gdal_translate {fn_in} {fn_out} -of COG -co TILED=YES -co COMPRESS=DEFLATE -co BIGTIFF=YES"
   ]
  },
  {
   "cell_type": "code",
   "execution_count": 29,
   "metadata": {},
   "outputs": [
    {
     "name": "stdout",
     "output_type": "stream",
     "text": [
      "Input file size is 28140, 51608\n",
      "Warning 6: driver COG does not support creation option TILED\n",
      "0...10...20...30...40...50...60...70...80...90...100 - done.\n"
     ]
    }
   ],
   "source": [
    "fn_in = \"/Users/elischwat/Development/data/sublimationofsnow/RMBL_dronedata/processed/Dronedata_KettlePonds_2024_04_24/mosaics_clipped/LundquistSnowHydro_KettlePonds_P1_2024_04_24_ht_above_DEM.tif\"\n",
    "fn_out = \"/Users/elischwat/Development/data/sublimationofsnow/RMBL_dronedata/processed/Dronedata_KettlePonds_2024_04_24/mosaics_clipped/cog/LundquistSnowHydro_KettlePonds_P1_2024_04_24_ht_above_DEM_cog.tif\"\n",
    "!gdal_translate {fn_in} {fn_out} -of COG -co TILED=YES -co COMPRESS=DEFLATE -co BIGTIFF=YES"
   ]
  },
  {
   "cell_type": "code",
   "execution_count": 30,
   "metadata": {},
   "outputs": [
    {
     "name": "stdout",
     "output_type": "stream",
     "text": [
      "Input file size is 112560, 206432\n",
      "Warning 6: driver COG does not support creation option TILED\n",
      "0...10...20...30...40...50...60...70...80...90...100 - done.\n"
     ]
    }
   ],
   "source": [
    "fn_in = \"/Users/elischwat/Development/data/sublimationofsnow/RMBL_dronedata/processed/Dronedata_KettlePonds_2024_04_24/mosaics_clipped/LundquistSnowHydro_KettlePonds_P1_2024_04_24_ortho_clipped.tif\"\n",
    "fn_out = \"/Users/elischwat/Development/data/sublimationofsnow/RMBL_dronedata/processed/Dronedata_KettlePonds_2024_04_24/mosaics_clipped/cog/LundquistSnowHydro_KettlePonds_P1_2024_04_24_ortho_clipped_cog.tif\"\n",
    "!gdal_translate {fn_in} {fn_out} -of COG -co TILED=YES -co COMPRESS=DEFLATE -co BIGTIFF=YES"
   ]
  }
 ],
 "metadata": {
  "kernelspec": {
   "display_name": "sublimationofsnow",
   "language": "python",
   "name": "python3"
  },
  "language_info": {
   "codemirror_mode": {
    "name": "ipython",
    "version": 3
   },
   "file_extension": ".py",
   "mimetype": "text/x-python",
   "name": "python",
   "nbconvert_exporter": "python",
   "pygments_lexer": "ipython3",
   "version": "3.12.5"
  }
 },
 "nbformat": 4,
 "nbformat_minor": 2
}
