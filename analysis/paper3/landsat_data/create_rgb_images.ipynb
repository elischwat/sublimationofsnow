{
 "cells": [
  {
   "cell_type": "code",
   "execution_count": 1,
   "metadata": {},
   "outputs": [],
   "source": [
    "import os"
   ]
  },
  {
   "cell_type": "code",
   "execution_count": 2,
   "metadata": {},
   "outputs": [],
   "source": [
    "data_dir = \"/Users/elischwat/Downloads/landsat/\""
   ]
  },
  {
   "cell_type": "code",
   "execution_count": 7,
   "metadata": {},
   "outputs": [
    {
     "data": {
      "text/plain": [
       "['LC09_L2SP_035033_20230421_20230423_02_T1',\n",
       " 'LC08_L2SP_035033_20230515_20230523_02_T1',\n",
       " 'LC08_L2SP_034033_20230609_20230614_02_T1',\n",
       " 'LC09_L2SP_034033_20230601_20230603_02_T1',\n",
       " 'LC09_L2SP_034033_20230414_20230416_02_T1',\n",
       " 'LC09_L2SP_034033_20230617_20230619_02_T1',\n",
       " 'LC09_L2SP_034033_20230430_20230502_02_T1',\n",
       " 'LC09_L2SP_035033_20230523_20230601_02_T1',\n",
       " 'LC09_L2SP_035033_20230507_20230509_02_T1',\n",
       " 'LC08_L2SP_035033_20230413_20230421_02_T1',\n",
       " 'LC08_L2SP_035033_20230429_20230509_02_T1',\n",
       " 'LC09_L2SP_035033_20230624_20230627_02_T1',\n",
       " 'LC09_L2SP_034033_20230516_20230518_02_T1',\n",
       " 'LC08_L2SP_034033_20230625_20230630_02_T1',\n",
       " 'LC09_L2SP_035033_20230405_20230407_02_T1',\n",
       " 'LC09_L2SP_035033_20230608_20230610_02_T1',\n",
       " 'LC08_L2SP_034033_20230508_20230517_02_T1',\n",
       " 'LC08_L2SP_034033_20230524_20230602_02_T1',\n",
       " 'LC08_L2SP_035033_20230531_20230607_02_T1',\n",
       " 'LC08_L2SP_035033_20230616_20230623_02_T1',\n",
       " 'LC08_L2SP_034033_20230406_20230412_02_T1']"
      ]
     },
     "execution_count": 7,
     "metadata": {},
     "output_type": "execute_result"
    }
   ],
   "source": [
    "folders = [f for f in os.listdir(data_dir) if os.path.isdir(os.path.join(data_dir, f))]\n",
    "folders"
   ]
  },
  {
   "cell_type": "code",
   "execution_count": 25,
   "metadata": {},
   "outputs": [
    {
     "name": "stdout",
     "output_type": "stream",
     "text": [
      "LC09_L2SP_035033_20230421_20230423_02_T1_SR_B1.TIF LC09_L2SP_035033_20230421_20230423_02_T1_SR_B2.TIF LC09_L2SP_035033_20230421_20230423_02_T1_SR_B3.TIF\n",
      "0...10...20...30...40...50...60...70...80...90...100 - done.\n",
      "LC08_L2SP_035033_20230515_20230523_02_T1_SR_B1.TIF LC08_L2SP_035033_20230515_20230523_02_T1_SR_B2.TIF LC08_L2SP_035033_20230515_20230523_02_T1_SR_B3.TIF\n",
      "0...10...20...30...40...50...60...70...80...90...100 - done.\n",
      "LC08_L2SP_034033_20230609_20230614_02_T1_SR_B1.TIF LC08_L2SP_034033_20230609_20230614_02_T1_SR_B2.TIF LC08_L2SP_034033_20230609_20230614_02_T1_SR_B3.TIF\n",
      "0...10...20...30...40...50...60...70...80...90...100 - done.\n",
      "LC09_L2SP_034033_20230601_20230603_02_T1_SR_B1.TIF LC09_L2SP_034033_20230601_20230603_02_T1_SR_B2.TIF LC09_L2SP_034033_20230601_20230603_02_T1_SR_B3.TIF\n",
      "0...10...20...30...40...50...60...70...80...90...100 - done.\n",
      "LC09_L2SP_034033_20230414_20230416_02_T1_SR_B1.TIF LC09_L2SP_034033_20230414_20230416_02_T1_SR_B2.TIF LC09_L2SP_034033_20230414_20230416_02_T1_SR_B3.TIF\n",
      "0...10...20...30...40...50...60...70...80...90...100 - done.\n",
      "LC09_L2SP_034033_20230617_20230619_02_T1_SR_B1.TIF LC09_L2SP_034033_20230617_20230619_02_T1_SR_B2.TIF LC09_L2SP_034033_20230617_20230619_02_T1_SR_B3.TIF\n",
      "0...10...20...30...40...50...60...70...80...90...100 - done.\n",
      "LC09_L2SP_034033_20230430_20230502_02_T1_SR_B1.TIF LC09_L2SP_034033_20230430_20230502_02_T1_SR_B2.TIF LC09_L2SP_034033_20230430_20230502_02_T1_SR_B3.TIF\n",
      "0...10...20...30...40...50...60...70...80...90...100 - done.\n",
      "LC09_L2SP_035033_20230523_20230601_02_T1_SR_B1.TIF LC09_L2SP_035033_20230523_20230601_02_T1_SR_B2.TIF LC09_L2SP_035033_20230523_20230601_02_T1_SR_B3.TIF\n",
      "0...10...20...30...40...50...60...70...80...90...100 - done.\n",
      "LC09_L2SP_035033_20230507_20230509_02_T1_SR_B1.TIF LC09_L2SP_035033_20230507_20230509_02_T1_SR_B2.TIF LC09_L2SP_035033_20230507_20230509_02_T1_SR_B3.TIF\n",
      "0...10...20...30...40...50...60...70...80...90...100 - done.\n",
      "LC08_L2SP_035033_20230413_20230421_02_T1_SR_B1.TIF LC08_L2SP_035033_20230413_20230421_02_T1_SR_B2.TIF LC08_L2SP_035033_20230413_20230421_02_T1_SR_B3.TIF\n",
      "0...10...20...30...40...50...60...70...80...90...100 - done.\n",
      "LC08_L2SP_035033_20230429_20230509_02_T1_SR_B1.TIF LC08_L2SP_035033_20230429_20230509_02_T1_SR_B2.TIF LC08_L2SP_035033_20230429_20230509_02_T1_SR_B3.TIF\n",
      "0...10...20...30...40...50...60...70...80...90...100 - done.\n",
      "LC09_L2SP_035033_20230624_20230627_02_T1_SR_B1.TIF LC09_L2SP_035033_20230624_20230627_02_T1_SR_B2.TIF LC09_L2SP_035033_20230624_20230627_02_T1_SR_B3.TIF\n",
      "0...10...20...30...40...50...60...70...80...90...100 - done.\n",
      "LC09_L2SP_034033_20230516_20230518_02_T1_SR_B1.TIF LC09_L2SP_034033_20230516_20230518_02_T1_SR_B2.TIF LC09_L2SP_034033_20230516_20230518_02_T1_SR_B3.TIF\n",
      "0...10...20...30...40...50...60...70...80...90...100 - done.\n",
      "LC08_L2SP_034033_20230625_20230630_02_T1_SR_B1.TIF LC08_L2SP_034033_20230625_20230630_02_T1_SR_B2.TIF LC08_L2SP_034033_20230625_20230630_02_T1_SR_B3.TIF\n",
      "0...10...20...30...40...50...60...70...80...90...100 - done.\n",
      "LC09_L2SP_035033_20230405_20230407_02_T1_SR_B1.TIF LC09_L2SP_035033_20230405_20230407_02_T1_SR_B2.TIF LC09_L2SP_035033_20230405_20230407_02_T1_SR_B3.TIF\n",
      "0...10...20...30...40...50...60...70...80...90...100 - done.\n",
      "LC09_L2SP_035033_20230608_20230610_02_T1_SR_B1.TIF LC09_L2SP_035033_20230608_20230610_02_T1_SR_B2.TIF LC09_L2SP_035033_20230608_20230610_02_T1_SR_B3.TIF\n",
      "0...10...20...30...40...50...60...70...80...90...100 - done.\n",
      "LC08_L2SP_034033_20230508_20230517_02_T1_SR_B1.TIF LC08_L2SP_034033_20230508_20230517_02_T1_SR_B2.TIF LC08_L2SP_034033_20230508_20230517_02_T1_SR_B3.TIF\n",
      "0...10...20...30...40...50...60...70...80...90...100 - done.\n",
      "LC08_L2SP_034033_20230524_20230602_02_T1_SR_B1.TIF LC08_L2SP_034033_20230524_20230602_02_T1_SR_B2.TIF LC08_L2SP_034033_20230524_20230602_02_T1_SR_B3.TIF\n",
      "0...10...20...30...40...50...60...70...80...90...100 - done.\n",
      "LC08_L2SP_035033_20230531_20230607_02_T1_SR_B1.TIF LC08_L2SP_035033_20230531_20230607_02_T1_SR_B2.TIF LC08_L2SP_035033_20230531_20230607_02_T1_SR_B3.TIF\n",
      "0...10...20...30...40...50...60...70...80...90...100 - done.\n",
      "LC08_L2SP_035033_20230616_20230623_02_T1_SR_B1.TIF LC08_L2SP_035033_20230616_20230623_02_T1_SR_B2.TIF LC08_L2SP_035033_20230616_20230623_02_T1_SR_B3.TIF\n",
      "0...10...20...30...40...50...60...70...80...90...100 - done.\n",
      "LC08_L2SP_034033_20230406_20230412_02_T1_SR_B1.TIF LC08_L2SP_034033_20230406_20230412_02_T1_SR_B2.TIF LC08_L2SP_034033_20230406_20230412_02_T1_SR_B3.TIF\n",
      "0...10...20...30...40...50...60...70...80...90...100 - done.\n"
     ]
    }
   ],
   "source": [
    "for folder in folders:\n",
    "    files = os.listdir(os.path.join(data_dir, folder))\n",
    "    file_b1 = [f for f in files if f.endswith('B1.TIF')]\n",
    "    assert len(file_b1) == 1\n",
    "    file_b1 = file_b1[0]\n",
    "    file_b2 = [f for f in files if f.endswith('B2.TIF')]\n",
    "    assert len(file_b2) == 1\n",
    "    file_b2 = file_b2[0]\n",
    "    file_b3 = [f for f in files if f.endswith('B3.TIF')]\n",
    "    assert len(file_b3) == 1\n",
    "    file_b3 = file_b3[0]\n",
    "    print(file_b1, file_b2, file_b3)\n",
    "    output_rgb_file = file_b3.replace('B3.TIF', 'RGB.TIF')\n",
    "    command = f\"\"\"gdalbuildvrt -separate \\\n",
    "            {os.path.join(data_dir, output_rgb_file)} \\\n",
    "            {os.path.join(data_dir, folder, file_b1)} \\\n",
    "            {os.path.join(data_dir, folder, file_b2)} \\\n",
    "            {os.path.join(data_dir, folder, file_b3)}\n",
    "        \"\"\"\n",
    "    os.system(command)"
   ]
  },
  {
   "cell_type": "code",
   "execution_count": 26,
   "metadata": {},
   "outputs": [
    {
     "name": "stdout",
     "output_type": "stream",
     "text": [
      "  Tower        lat         lon   alt                     geometry\n",
      "0    uw  38.942033 -106.972967  2863  POINT (-106.97297 38.94203)\n",
      "1    ue  38.941783 -106.973250  2861  POINT (-106.97325 38.94178)\n",
      "2     d  38.941733 -106.972817  2861  POINT (-106.97282 38.94173)\n",
      "3     c  38.941817 -106.972983  2861  POINT (-106.97298 38.94182)\n"
     ]
    }
   ],
   "source": [
    "import geopandas as gpd\n",
    "import pandas as pd\n",
    "from shapely.geometry import Point\n",
    "import re\n",
    "\n",
    "# Function to convert DMS (degrees, minutes, seconds) to decimal degrees\n",
    "def dms_to_decimal(dms):\n",
    "    match = re.match(r\"(\\d+)° (\\d+\\.\\d+)'([NSEW])\", dms)\n",
    "    if not match:\n",
    "        raise ValueError(f\"Invalid DMS format: {dms}\")\n",
    "    degrees, minutes, direction = match.groups()\n",
    "    decimal = float(degrees) + float(minutes) / 60\n",
    "    if direction in ['S', 'W']:\n",
    "        decimal = -decimal\n",
    "    return decimal\n",
    "\n",
    "# Table data\n",
    "data = [\n",
    "    {\"Tower\": \"uw\", \"lat\": \"38° 56.522'N\", \"lon\": \"106° 58.378'W\", \"alt\": 2863},\n",
    "    {\"Tower\": \"ue\", \"lat\": \"38° 56.507'N\", \"lon\": \"106° 58.395'W\", \"alt\": 2861},\n",
    "    {\"Tower\": \"d\", \"lat\": \"38° 56.504'N\", \"lon\": \"106° 58.369'W\", \"alt\": 2861},\n",
    "    {\"Tower\": \"c\", \"lat\": \"38° 56.509'N\", \"lon\": \"106° 58.379'W\", \"alt\": 2861}\n",
    "]\n",
    "\n",
    "# Convert lat/lon to decimal degrees and create a GeoDataFrame\n",
    "for row in data:\n",
    "    row[\"lat\"] = dms_to_decimal(row[\"lat\"])\n",
    "    row[\"lon\"] = dms_to_decimal(row[\"lon\"])\n",
    "\n",
    "# Create a Pandas DataFrame\n",
    "df = pd.DataFrame(data)\n",
    "\n",
    "# Create a GeoPandas GeoDataFrame\n",
    "gdf = gpd.GeoDataFrame(\n",
    "    df,\n",
    "    geometry=[Point(xy) for xy in zip(df[\"lon\"], df[\"lat\"])],\n",
    "    crs=\"EPSG:4326\"  # WGS84 coordinate reference system\n",
    ")\n",
    "\n",
    "print(gdf)"
   ]
  },
  {
   "cell_type": "code",
   "execution_count": 29,
   "metadata": {},
   "outputs": [
    {
     "data": {
      "text/plain": [
       "<Axes: >"
      ]
     },
     "execution_count": 29,
     "metadata": {},
     "output_type": "execute_result"
    },
    {
     "data": {
      "image/png": "[encoded data removed]",
      "text/plain": [
       "<Figure size 640x480 with 1 Axes>"
      ]
     },
     "metadata": {},
     "output_type": "display_data"
    }
   ],
   "source": [
    "gdf.plot()"
   ]
  },
  {
   "cell_type": "code",
   "execution_count": 30,
   "metadata": {},
   "outputs": [],
   "source": [
    "gdf.to_file('towers.geojson')"
   ]
  },
  {
   "cell_type": "code",
   "execution_count": null,
   "metadata": {},
   "outputs": [],
   "source": []
  }
 ],
 "metadata": {
  "kernelspec": {
   "display_name": "sublimationofsnow",
   "language": "python",
   "name": "python3"
  },
  "language_info": {
   "codemirror_mode": {
    "name": "ipython",
    "version": 3
   },
   "file_extension": ".py",
   "mimetype": "text/x-python",
   "name": "python",
   "nbconvert_exporter": "python",
   "pygments_lexer": "ipython3",
   "version": "3.12.5"
  }
 },
 "nbformat": 4,
 "nbformat_minor": 2
}
