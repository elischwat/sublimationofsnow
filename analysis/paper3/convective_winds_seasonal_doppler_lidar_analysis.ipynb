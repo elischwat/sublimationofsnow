{
 "cells": [
  {
   "cell_type": "code",
   "execution_count": 7,
   "metadata": {},
   "outputs": [
    {
     "data": {
      "text/plain": [
       "DataTransformerRegistry.enable('json')"
      ]
     },
     "execution_count": 7,
     "metadata": {},
     "output_type": "execute_result"
    }
   ],
   "source": [
    "import numpy as np\n",
    "import pandas as pd\n",
    "import datetime as dt\n",
    "import altair as alt\n",
    "alt.data_transformers.enable(\"json\")"
   ]
  },
  {
   "cell_type": "markdown",
   "metadata": {},
   "source": [
    "# Open data"
   ]
  },
  {
   "cell_type": "markdown",
   "metadata": {},
   "source": [
    "Radiosonde synoptic winds"
   ]
  },
  {
   "cell_type": "code",
   "execution_count": null,
   "metadata": {},
   "outputs": [],
   "source": [
    "df1 = pd.read_parquet(\"../sail/synoptic_winds_500_local.parquet\").assign(pressure = 500)\n",
    "df2 = pd.read_parquet(\"../sail/synoptic_winds_700_local.parquet\").assign(pressure = 700)\n",
    "df1.time = df1.time.apply(lambda dt: dt.replace(minute=0, second=0))\n",
    "df2.time = df2.time.apply(lambda dt: dt.replace(minute=0, second=0))\n",
    "synopticwinds_df = pd.concat([df1, df2])\n",
    "synopticwinds_df = synopticwinds_df.groupby(['time', 'pressure']).mean().reset_index()"
   ]
  },
  {
   "cell_type": "code",
   "execution_count": null,
   "metadata": {},
   "outputs": [],
   "source": [
    "alt.Chart(\n",
    "    synopticwinds_df\n",
    ").mark_bar().encode(\n",
    "    alt.X(\"wspd:Q\").bin(True, maxbins=30),\n",
    "    alt.Y(\"count():Q\")\n",
    ")"
   ]
  },
  {
   "cell_type": "markdown",
   "metadata": {},
   "source": [
    "Doppler Lidar (aggregated) data"
   ]
  },
  {
   "cell_type": "code",
   "execution_count": 9,
   "metadata": {},
   "outputs": [],
   "source": [
    "dl_df = pd.read_parquet(\"/Users/elischwat/Development/data/sublimationofsnow/sail_processed/gucdlrhiM1.b1/\").set_index([\n",
    "    'z_binned',\t'x_offset',\t'scan_time'\n",
    "])['streamwise_velocity'].reset_index()\n",
    "\n",
    "dl_df = dl_df[dl_df.scan_time >= \"2023-02-09 0000\"]"
   ]
  },
  {
   "cell_type": "markdown",
   "metadata": {},
   "source": [
    "# Plot vertical profiles over a day"
   ]
  },
  {
   "cell_type": "code",
   "execution_count": 10,
   "metadata": {},
   "outputs": [
    {
     "data": {
      "text/html": [
       "\n",
       "<style>\n",
       "  #altair-viz-bb21320a99b14e07a8261bbd7c1845c9.vega-embed {\n",
       "    width: 100%;\n",
       "    display: flex;\n",
       "  }\n",
       "\n",
       "  #altair-viz-bb21320a99b14e07a8261bbd7c1845c9.vega-embed details,\n",
       "  #altair-viz-bb21320a99b14e07a8261bbd7c1845c9.vega-embed details summary {\n",
       "    position: relative;\n",
       "  }\n",
       "</style>\n",
       "<div id=\"altair-viz-bb21320a99b14e07a8261bbd7c1845c9\"></div>\n",
       "<script type=\"text/javascript\">\n",
       "  var VEGA_DEBUG = (typeof VEGA_DEBUG == \"undefined\") ? {} : VEGA_DEBUG;\n",
       "  (function(spec, embedOpt){\n",
       "    let outputDiv = document.currentScript.previousElementSibling;\n",
       "    if (outputDiv.id !== \"altair-viz-bb21320a99b14e07a8261bbd7c1845c9\") {\n",
       "      outputDiv = document.getElementById(\"altair-viz-bb21320a99b14e07a8261bbd7c1845c9\");\n",
       "    }\n",
       "    const paths = {\n",
       "      \"vega\": \"https://cdn.jsdelivr.net/npm/vega@5?noext\",\n",
       "      \"vega-lib\": \"https://cdn.jsdelivr.net/npm/vega-lib?noext\",\n",
       "      \"vega-lite\": \"https://cdn.jsdelivr.net/npm/vega-lite@5.17.0?noext\",\n",
       "      \"vega-embed\": \"https://cdn.jsdelivr.net/npm/vega-embed@6?noext\",\n",
       "    };\n",
       "\n",
       "    function maybeLoadScript(lib, version) {\n",
       "      var key = `${lib.replace(\"-\", \"\")}_version`;\n",
       "      return (VEGA_DEBUG[key] == version) ?\n",
       "        Promise.resolve(paths[lib]) :\n",
       "        new Promise(function(resolve, reject) {\n",
       "          var s = document.createElement('script');\n",
       "          document.getElementsByTagName(\"head\")[0].appendChild(s);\n",
       "          s.async = true;\n",
       "          s.onload = () => {\n",
       "            VEGA_DEBUG[key] = version;\n",
       "            return resolve(paths[lib]);\n",
       "          };\n",
       "          s.onerror = () => reject(`Error loading script: ${paths[lib]}`);\n",
       "          s.src = paths[lib];\n",
       "        });\n",
       "    }\n",
       "\n",
       "    function showError(err) {\n",
       "      outputDiv.innerHTML = `<div class=\"error\" style=\"color:red;\">${err}</div>`;\n",
       "      throw err;\n",
       "    }\n",
       "\n",
       "    function displayChart(vegaEmbed) {\n",
       "      vegaEmbed(outputDiv, spec, embedOpt)\n",
       "        .catch(err => showError(`Javascript Error: ${err.message}<br>This usually means there's a typo in your chart specification. See the javascript console for the full traceback.`));\n",
       "    }\n",
       "\n",
       "    if(typeof define === \"function\" && define.amd) {\n",
       "      requirejs.config({paths});\n",
       "      require([\"vega-embed\"], displayChart, err => showError(`Error loading script: ${err.message}`));\n",
       "    } else {\n",
       "      maybeLoadScript(\"vega\", \"5\")\n",
       "        .then(() => maybeLoadScript(\"vega-lite\", \"5.17.0\"))\n",
       "        .then(() => maybeLoadScript(\"vega-embed\", \"6\"))\n",
       "        .catch(showError)\n",
       "        .then(() => displayChart(vegaEmbed));\n",
       "    }\n",
       "  })({\"config\": {\"view\": {\"continuousWidth\": 300, \"continuousHeight\": 300}}, \"data\": {\"url\": \"altair-data-4cfcb332eaf9c954a3f31d3476d1b118.json\", \"format\": {\"type\": \"json\"}}, \"mark\": {\"type\": \"line\"}, \"encoding\": {\"color\": {\"field\": \"minute\", \"scale\": {\"scheme\": \"turbo\"}, \"type\": \"ordinal\"}, \"facet\": {\"columns\": 6, \"field\": \"hour\", \"type\": \"quantitative\"}, \"x\": {\"field\": \"median\", \"sort\": \"-y\", \"title\": \"Downvalley wind (m/s)\", \"type\": \"quantitative\"}, \"y\": {\"field\": \"z_binned\", \"title\": \"Height (m, agl)\", \"type\": \"quantitative\"}}, \"height\": 125, \"title\": \"Along-valley wind profiles on 2023-04-16\", \"width\": 125, \"$schema\": \"https://vega.github.io/schema/vega-lite/v5.17.0.json\"}, {\"mode\": \"vega-lite\"});\n",
       "</script>"
      ],
      "text/plain": [
       "alt.Chart(...)"
      ]
     },
     "execution_count": 10,
     "metadata": {},
     "output_type": "execute_result"
    }
   ],
   "source": [
    "src = dl_df[dl_df.scan_time.dt.date == dt.date(2023,4,16)].query(\"x_offset == -250\")\n",
    "src['hour'] = src.scan_time.dt.hour\n",
    "src['minute'] = src.scan_time.dt.minute\n",
    "src = src[src.z_binned < 800]\n",
    "alt.Chart(src).mark_line().encode(\n",
    "    alt.X(\"median:Q\").sort('-y').title(\"Downvalley wind (m/s)\"),\n",
    "    alt.Y(\"z_binned:Q\").title(\"Height (m, agl)\"),\n",
    "    alt.Color(\"minute:O\").scale(scheme='turbo'),\n",
    "    alt.Facet(\"hour\", columns=6)\n",
    ").properties(width = 125, height = 125, title = f\"Along-valley wind profiles on {str(src.scan_time.dt.date.iloc[0])}\")"
   ]
  },
  {
   "cell_type": "markdown",
   "metadata": {},
   "source": [
    "# Plot daytime/nighttime-averaged wind speed profiles over the season"
   ]
  },
  {
   "cell_type": "code",
   "execution_count": 11,
   "metadata": {},
   "outputs": [],
   "source": [
    "src = dl_df.query(\"x_offset == -250\").dropna()\n",
    "def categorize_daytime(hr):\n",
    "    if hr in [9,10,11,12,13,14,15]:\n",
    "        return 'day'\n",
    "    elif hr in [19,20,21,22,23,0,1,2,3,4,5]:\n",
    "        return 'night'\n",
    "    else:\n",
    "        return np.nan\n",
    "src.loc[:, ['daytime_category']] = src.scan_time.dt.hour.apply(categorize_daytime)\n",
    "src = src.dropna()\n",
    "src['date'] = src['scan_time'].dt.date\n",
    "src = src.groupby(['daytime_category', 'date', 'z_binned'])[\n",
    "    ['mean', 'median', 'std']\n",
    "].agg(\n",
    "    {'mean': 'mean', 'median': 'median', 'std': 'mean'}\n",
    ").reset_index()"
   ]
  },
  {
   "cell_type": "code",
   "execution_count": 12,
   "metadata": {},
   "outputs": [],
   "source": [
    "# Add upper bounds to z and to time for a hovmoller diagram\n",
    "upper_bound_to_lower_bound = dict(zip(\n",
    "    sorted(src.z_binned.unique()),\n",
    "    [0] + sorted(src.z_binned.unique())\n",
    "))\n",
    "src['z_high'] = src['z_binned']\n",
    "src['z_low'] = src['z_high'].apply(upper_bound_to_lower_bound.get)\n",
    "src['date_high'] = src['date'] + dt.timedelta(hours=24)"
   ]
  },
  {
   "cell_type": "code",
   "execution_count": 13,
   "metadata": {},
   "outputs": [
    {
     "data": {
      "text/html": [
       "\n",
       "<style>\n",
       "  #altair-viz-1efb2cf32733431cb150742efa2ebeb7.vega-embed {\n",
       "    width: 100%;\n",
       "    display: flex;\n",
       "  }\n",
       "\n",
       "  #altair-viz-1efb2cf32733431cb150742efa2ebeb7.vega-embed details,\n",
       "  #altair-viz-1efb2cf32733431cb150742efa2ebeb7.vega-embed details summary {\n",
       "    position: relative;\n",
       "  }\n",
       "</style>\n",
       "<div id=\"altair-viz-1efb2cf32733431cb150742efa2ebeb7\"></div>\n",
       "<script type=\"text/javascript\">\n",
       "  var VEGA_DEBUG = (typeof VEGA_DEBUG == \"undefined\") ? {} : VEGA_DEBUG;\n",
       "  (function(spec, embedOpt){\n",
       "    let outputDiv = document.currentScript.previousElementSibling;\n",
       "    if (outputDiv.id !== \"altair-viz-1efb2cf32733431cb150742efa2ebeb7\") {\n",
       "      outputDiv = document.getElementById(\"altair-viz-1efb2cf32733431cb150742efa2ebeb7\");\n",
       "    }\n",
       "    const paths = {\n",
       "      \"vega\": \"https://cdn.jsdelivr.net/npm/vega@5?noext\",\n",
       "      \"vega-lib\": \"https://cdn.jsdelivr.net/npm/vega-lib?noext\",\n",
       "      \"vega-lite\": \"https://cdn.jsdelivr.net/npm/vega-lite@5.17.0?noext\",\n",
       "      \"vega-embed\": \"https://cdn.jsdelivr.net/npm/vega-embed@6?noext\",\n",
       "    };\n",
       "\n",
       "    function maybeLoadScript(lib, version) {\n",
       "      var key = `${lib.replace(\"-\", \"\")}_version`;\n",
       "      return (VEGA_DEBUG[key] == version) ?\n",
       "        Promise.resolve(paths[lib]) :\n",
       "        new Promise(function(resolve, reject) {\n",
       "          var s = document.createElement('script');\n",
       "          document.getElementsByTagName(\"head\")[0].appendChild(s);\n",
       "          s.async = true;\n",
       "          s.onload = () => {\n",
       "            VEGA_DEBUG[key] = version;\n",
       "            return resolve(paths[lib]);\n",
       "          };\n",
       "          s.onerror = () => reject(`Error loading script: ${paths[lib]}`);\n",
       "          s.src = paths[lib];\n",
       "        });\n",
       "    }\n",
       "\n",
       "    function showError(err) {\n",
       "      outputDiv.innerHTML = `<div class=\"error\" style=\"color:red;\">${err}</div>`;\n",
       "      throw err;\n",
       "    }\n",
       "\n",
       "    function displayChart(vegaEmbed) {\n",
       "      vegaEmbed(outputDiv, spec, embedOpt)\n",
       "        .catch(err => showError(`Javascript Error: ${err.message}<br>This usually means there's a typo in your chart specification. See the javascript console for the full traceback.`));\n",
       "    }\n",
       "\n",
       "    if(typeof define === \"function\" && define.amd) {\n",
       "      requirejs.config({paths});\n",
       "      require([\"vega-embed\"], displayChart, err => showError(`Error loading script: ${err.message}`));\n",
       "    } else {\n",
       "      maybeLoadScript(\"vega\", \"5\")\n",
       "        .then(() => maybeLoadScript(\"vega-lite\", \"5.17.0\"))\n",
       "        .then(() => maybeLoadScript(\"vega-embed\", \"6\"))\n",
       "        .catch(showError)\n",
       "        .then(() => displayChart(vegaEmbed));\n",
       "    }\n",
       "  })({\"config\": {\"view\": {\"continuousWidth\": 300, \"continuousHeight\": 300}, \"legend\": {\"gradientLength\": 150, \"gradientThickness\": 20}}, \"vconcat\": [{\"data\": {\"url\": \"altair-data-e89df98404cc9547fba7bb8fb8b001f0.json\", \"format\": {\"type\": \"json\"}}, \"mark\": {\"type\": \"rect\"}, \"encoding\": {\"color\": {\"field\": \"median\", \"scale\": {\"scheme\": \"purpleorange\", \"domain\": [-6, 6], \"clamp\": true}, \"title\": [\"Downvalley\", \"windspeed (m/s)\"], \"type\": \"quantitative\"}, \"tooltip\": {\"field\": \"date\", \"type\": \"temporal\"}, \"x\": {\"field\": \"date\", \"title\": \"date\", \"type\": \"temporal\"}, \"x2\": {\"field\": \"date_high\"}, \"y\": {\"field\": \"z_low\", \"title\": \"Height (m, agl)\", \"type\": \"quantitative\"}, \"y2\": {\"field\": \"z_high\"}}, \"height\": 166.66, \"title\": \"Night time winds (1900 - 0500)\", \"width\": 500}, {\"data\": {\"url\": \"altair-data-e9677345d44d3b861423753d472977fb.json\", \"format\": {\"type\": \"json\"}}, \"mark\": {\"type\": \"rect\"}, \"encoding\": {\"color\": {\"field\": \"median\", \"scale\": {\"scheme\": \"purpleorange\", \"domain\": [-6, 6], \"clamp\": true}, \"title\": [\"Downvalley\", \"windspeed (m/s)\"], \"type\": \"quantitative\"}, \"tooltip\": {\"field\": \"date\", \"type\": \"temporal\"}, \"x\": {\"field\": \"date\", \"title\": \"date\", \"type\": \"temporal\"}, \"x2\": {\"field\": \"date_high\"}, \"y\": {\"field\": \"z_low\", \"title\": \"Height (m, agl)\", \"type\": \"quantitative\"}, \"y2\": {\"field\": \"z_high\"}}, \"height\": 166.66, \"title\": \"Day time winds (0900 - 1500)\", \"width\": 500}], \"$schema\": \"https://vega.github.io/schema/vega-lite/v5.17.0.json\"}, {\"mode\": \"vega-lite\"});\n",
       "</script>"
      ],
      "text/plain": [
       "alt.VConcatChart(...)"
      ]
     },
     "execution_count": 13,
     "metadata": {},
     "output_type": "execute_result"
    }
   ],
   "source": [
    "night_chart = alt.Chart(\n",
    "    src.query(\"daytime_category == 'night'\").query(\"z_binned < 600\")\n",
    ").mark_rect().encode(\n",
    "    alt.X(\"date:T\").title(\"date\"),\n",
    "    alt.X2(\"date_high:T\"),\n",
    "    alt.Y(\"z_low:Q\").title(\"Height (m, agl)\"),\n",
    "    alt.Y2(\"z_high:Q\"),\n",
    "    alt.Color(\"median:Q\").scale(scheme='purpleorange', domain=[-6,6], clamp=True).title([\"Downvalley\", \"windspeed (m/s)\"]),\n",
    "    tooltip = 'date'\n",
    ").properties(\n",
    "    width = 500, \n",
    "    height = 166.66,\n",
    "    title = \"Night time winds (1900 - 0500)\"\n",
    ")\n",
    "\n",
    "day_chart = alt.Chart(\n",
    "    src.query(\"daytime_category == 'day'\").query(\"z_binned < 600\")\n",
    ").mark_rect().encode(\n",
    "    alt.X(\"date:T\").title(\"date\"),\n",
    "    alt.X2(\"date_high:T\"),\n",
    "    alt.Y(\"z_low:Q\").title(\"Height (m, agl)\"),\n",
    "    alt.Y2(\"z_high:Q\"),\n",
    "    alt.Color(\"median:Q\").scale(scheme='purpleorange', domain=[-6,6], clamp=True).title([\"Downvalley\", \"windspeed (m/s)\"]),\n",
    "    tooltip = 'date'\n",
    ").properties(\n",
    "    width = 500, \n",
    "    height = 166.66,\n",
    "    title = \"Day time winds (0900 - 1500)\"\n",
    ")\n",
    "\n",
    "(night_chart & day_chart).configure_legend(gradientThickness=20, gradientLength = 150)"
   ]
  },
  {
   "cell_type": "markdown",
   "metadata": {},
   "source": [
    "# Identify strong/weak synoptics based on 500 mb wind speeds (from radiosonde data)"
   ]
  },
  {
   "cell_type": "code",
   "execution_count": 14,
   "metadata": {},
   "outputs": [
    {
     "ename": "NameError",
     "evalue": "name 'synopticwinds_df' is not defined",
     "output_type": "error",
     "traceback": [
      "\u001b[0;31m---------------------------------------------------------------------------\u001b[0m",
      "\u001b[0;31mNameError\u001b[0m                                 Traceback (most recent call last)",
      "Cell \u001b[0;32mIn[14], line 1\u001b[0m\n\u001b[0;32m----> 1\u001b[0m synoptic_windspeed_daily \u001b[38;5;241m=\u001b[39m \u001b[43msynopticwinds_df\u001b[49m\u001b[38;5;241m.\u001b[39mgroupby(\n\u001b[1;32m      2\u001b[0m     [synopticwinds_df\u001b[38;5;241m.\u001b[39mtime\u001b[38;5;241m.\u001b[39mdt\u001b[38;5;241m.\u001b[39mdate, \u001b[38;5;124m'\u001b[39m\u001b[38;5;124mpressure\u001b[39m\u001b[38;5;124m'\u001b[39m]\n\u001b[1;32m      3\u001b[0m )[[\u001b[38;5;124m'\u001b[39m\u001b[38;5;124mwspd\u001b[39m\u001b[38;5;124m'\u001b[39m]]\u001b[38;5;241m.\u001b[39mmean()\u001b[38;5;241m.\u001b[39mreset_index()\u001b[38;5;241m.\u001b[39mquery(\u001b[38;5;124m\"\u001b[39m\u001b[38;5;124mpressure == 500\u001b[39m\u001b[38;5;124m\"\u001b[39m)\n\u001b[1;32m      4\u001b[0m low_synoptic_dates \u001b[38;5;241m=\u001b[39m synoptic_windspeed_daily\u001b[38;5;241m.\u001b[39mquery(\u001b[38;5;124m\"\u001b[39m\u001b[38;5;124mwspd < 15\u001b[39m\u001b[38;5;124m\"\u001b[39m)\u001b[38;5;241m.\u001b[39mtime\n",
      "\u001b[0;31mNameError\u001b[0m: name 'synopticwinds_df' is not defined"
     ]
    }
   ],
   "source": [
    "synoptic_windspeed_daily = synopticwinds_df.groupby(\n",
    "    [synopticwinds_df.time.dt.date, 'pressure']\n",
    ")[['wspd']].mean().reset_index().query(\"pressure == 500\")\n",
    "low_synoptic_dates = synoptic_windspeed_daily.query(\"wspd < 15\").time"
   ]
  },
  {
   "cell_type": "markdown",
   "metadata": {},
   "source": [
    "Plot the same as above, excluding strong synoptic days"
   ]
  },
  {
   "cell_type": "code",
   "execution_count": 15,
   "metadata": {},
   "outputs": [
    {
     "ename": "NameError",
     "evalue": "name 'low_synoptic_dates' is not defined",
     "output_type": "error",
     "traceback": [
      "\u001b[0;31m---------------------------------------------------------------------------\u001b[0m",
      "\u001b[0;31mNameError\u001b[0m                                 Traceback (most recent call last)",
      "Cell \u001b[0;32mIn[15], line 2\u001b[0m\n\u001b[1;32m      1\u001b[0m alt\u001b[38;5;241m.\u001b[39mChart(\n\u001b[0;32m----> 2\u001b[0m     src[src\u001b[38;5;241m.\u001b[39mdate\u001b[38;5;241m.\u001b[39misin(\u001b[43mlow_synoptic_dates\u001b[49m)]\u001b[38;5;241m.\u001b[39mquery(\u001b[38;5;124m\"\u001b[39m\u001b[38;5;124mdaytime_category == \u001b[39m\u001b[38;5;124m'\u001b[39m\u001b[38;5;124mnight\u001b[39m\u001b[38;5;124m'\u001b[39m\u001b[38;5;124m\"\u001b[39m)\u001b[38;5;241m.\u001b[39mquery(\u001b[38;5;124m\"\u001b[39m\u001b[38;5;124mz_binned < 600\u001b[39m\u001b[38;5;124m\"\u001b[39m)\n\u001b[1;32m      3\u001b[0m )\u001b[38;5;241m.\u001b[39mmark_rect()\u001b[38;5;241m.\u001b[39mencode(\n\u001b[1;32m      4\u001b[0m     alt\u001b[38;5;241m.\u001b[39mX(\u001b[38;5;124m\"\u001b[39m\u001b[38;5;124mdate:T\u001b[39m\u001b[38;5;124m\"\u001b[39m),\n\u001b[1;32m      5\u001b[0m     alt\u001b[38;5;241m.\u001b[39mX2(\u001b[38;5;124m\"\u001b[39m\u001b[38;5;124mdate_high:T\u001b[39m\u001b[38;5;124m\"\u001b[39m),\n\u001b[1;32m      6\u001b[0m     alt\u001b[38;5;241m.\u001b[39mY(\u001b[38;5;124m\"\u001b[39m\u001b[38;5;124mz_low:Q\u001b[39m\u001b[38;5;124m\"\u001b[39m),\n\u001b[1;32m      7\u001b[0m     alt\u001b[38;5;241m.\u001b[39mY2(\u001b[38;5;124m\"\u001b[39m\u001b[38;5;124mz_high:Q\u001b[39m\u001b[38;5;124m\"\u001b[39m),\n\u001b[1;32m      8\u001b[0m     alt\u001b[38;5;241m.\u001b[39mColor(\u001b[38;5;124m\"\u001b[39m\u001b[38;5;124mmedian:Q\u001b[39m\u001b[38;5;124m\"\u001b[39m)\u001b[38;5;241m.\u001b[39mscale(scheme\u001b[38;5;241m=\u001b[39m\u001b[38;5;124m'\u001b[39m\u001b[38;5;124mpurpleorange\u001b[39m\u001b[38;5;124m'\u001b[39m, domain\u001b[38;5;241m=\u001b[39m[\u001b[38;5;241m-\u001b[39m\u001b[38;5;241m6\u001b[39m,\u001b[38;5;241m6\u001b[39m], clamp\u001b[38;5;241m=\u001b[39m\u001b[38;5;28;01mTrue\u001b[39;00m)\n\u001b[1;32m      9\u001b[0m )\u001b[38;5;241m.\u001b[39mproperties(width \u001b[38;5;241m=\u001b[39m \u001b[38;5;241m600\u001b[39m, height \u001b[38;5;241m=\u001b[39m \u001b[38;5;241m200\u001b[39m)\n",
      "\u001b[0;31mNameError\u001b[0m: name 'low_synoptic_dates' is not defined"
     ]
    }
   ],
   "source": [
    "\n",
    "alt.Chart(\n",
    "    src[src.date.isin(low_synoptic_dates)].query(\"daytime_category == 'night'\").query(\"z_binned < 600\")\n",
    ").mark_rect().encode(\n",
    "    alt.X(\"date:T\"),\n",
    "    alt.X2(\"date_high:T\"),\n",
    "    alt.Y(\"z_low:Q\"),\n",
    "    alt.Y2(\"z_high:Q\"),\n",
    "    alt.Color(\"median:Q\").scale(scheme='purpleorange', domain=[-6,6], clamp=True)\n",
    ").properties(width = 600, height = 200)"
   ]
  },
  {
   "cell_type": "code",
   "execution_count": 16,
   "metadata": {},
   "outputs": [
    {
     "ename": "NameError",
     "evalue": "name 'low_synoptic_dates' is not defined",
     "output_type": "error",
     "traceback": [
      "\u001b[0;31m---------------------------------------------------------------------------\u001b[0m",
      "\u001b[0;31mNameError\u001b[0m                                 Traceback (most recent call last)",
      "Cell \u001b[0;32mIn[16], line 2\u001b[0m\n\u001b[1;32m      1\u001b[0m alt\u001b[38;5;241m.\u001b[39mChart(\n\u001b[0;32m----> 2\u001b[0m     src[src\u001b[38;5;241m.\u001b[39mdate\u001b[38;5;241m.\u001b[39misin(\u001b[43mlow_synoptic_dates\u001b[49m)]\u001b[38;5;241m.\u001b[39mquery(\u001b[38;5;124m\"\u001b[39m\u001b[38;5;124mdaytime_category == \u001b[39m\u001b[38;5;124m'\u001b[39m\u001b[38;5;124mday\u001b[39m\u001b[38;5;124m'\u001b[39m\u001b[38;5;124m\"\u001b[39m)\u001b[38;5;241m.\u001b[39mquery(\u001b[38;5;124m\"\u001b[39m\u001b[38;5;124mz_binned < 600\u001b[39m\u001b[38;5;124m\"\u001b[39m)\n\u001b[1;32m      3\u001b[0m )\u001b[38;5;241m.\u001b[39mmark_rect()\u001b[38;5;241m.\u001b[39mencode(\n\u001b[1;32m      4\u001b[0m     alt\u001b[38;5;241m.\u001b[39mX(\u001b[38;5;124m\"\u001b[39m\u001b[38;5;124mdate:T\u001b[39m\u001b[38;5;124m\"\u001b[39m),\n\u001b[1;32m      5\u001b[0m     alt\u001b[38;5;241m.\u001b[39mX2(\u001b[38;5;124m\"\u001b[39m\u001b[38;5;124mdate_high:T\u001b[39m\u001b[38;5;124m\"\u001b[39m),\n\u001b[1;32m      6\u001b[0m     alt\u001b[38;5;241m.\u001b[39mY(\u001b[38;5;124m\"\u001b[39m\u001b[38;5;124mz_low:Q\u001b[39m\u001b[38;5;124m\"\u001b[39m),\n\u001b[1;32m      7\u001b[0m     alt\u001b[38;5;241m.\u001b[39mY2(\u001b[38;5;124m\"\u001b[39m\u001b[38;5;124mz_high:Q\u001b[39m\u001b[38;5;124m\"\u001b[39m),\n\u001b[1;32m      8\u001b[0m     alt\u001b[38;5;241m.\u001b[39mColor(\u001b[38;5;124m\"\u001b[39m\u001b[38;5;124mmedian:Q\u001b[39m\u001b[38;5;124m\"\u001b[39m)\u001b[38;5;241m.\u001b[39mscale(scheme\u001b[38;5;241m=\u001b[39m\u001b[38;5;124m'\u001b[39m\u001b[38;5;124mpurpleorange\u001b[39m\u001b[38;5;124m'\u001b[39m, domain\u001b[38;5;241m=\u001b[39m[\u001b[38;5;241m-\u001b[39m\u001b[38;5;241m6\u001b[39m,\u001b[38;5;241m6\u001b[39m], clamp\u001b[38;5;241m=\u001b[39m\u001b[38;5;28;01mTrue\u001b[39;00m)\n\u001b[1;32m      9\u001b[0m )\u001b[38;5;241m.\u001b[39mproperties(width \u001b[38;5;241m=\u001b[39m \u001b[38;5;241m600\u001b[39m, height \u001b[38;5;241m=\u001b[39m \u001b[38;5;241m200\u001b[39m)\n",
      "\u001b[0;31mNameError\u001b[0m: name 'low_synoptic_dates' is not defined"
     ]
    }
   ],
   "source": [
    "\n",
    "alt.Chart(\n",
    "    src[src.date.isin(low_synoptic_dates)].query(\"daytime_category == 'day'\").query(\"z_binned < 600\")\n",
    ").mark_rect().encode(\n",
    "    alt.X(\"date:T\"),\n",
    "    alt.X2(\"date_high:T\"),\n",
    "    alt.Y(\"z_low:Q\"),\n",
    "    alt.Y2(\"z_high:Q\"),\n",
    "    alt.Color(\"median:Q\").scale(scheme='purpleorange', domain=[-6,6], clamp=True)\n",
    ").properties(width = 600, height = 200)"
   ]
  },
  {
   "cell_type": "markdown",
   "metadata": {},
   "source": [
    "# Normalize wind speeds by synoptic wind speeds"
   ]
  },
  {
   "cell_type": "code",
   "execution_count": 17,
   "metadata": {},
   "outputs": [
    {
     "ename": "NameError",
     "evalue": "name 'synoptic_windspeed_daily' is not defined",
     "output_type": "error",
     "traceback": [
      "\u001b[0;31m---------------------------------------------------------------------------\u001b[0m",
      "\u001b[0;31mNameError\u001b[0m                                 Traceback (most recent call last)",
      "Cell \u001b[0;32mIn[17], line 1\u001b[0m\n\u001b[0;32m----> 1\u001b[0m \u001b[43msynoptic_windspeed_daily\u001b[49m\u001b[38;5;241m.\u001b[39mhead()\n",
      "\u001b[0;31mNameError\u001b[0m: name 'synoptic_windspeed_daily' is not defined"
     ]
    }
   ],
   "source": [
    "synoptic_windspeed_daily.head()"
   ]
  },
  {
   "cell_type": "code",
   "execution_count": null,
   "metadata": {},
   "outputs": [],
   "source": [
    "src_normalized = src.merge(\n",
    "    synoptic_windspeed_daily,\n",
    "    left_on='date',\n",
    "    right_on = 'time',\n",
    "    how='left'\n",
    ")\n",
    "src_normalized['median_normalized'] = src_normalized['median'] / src_normalized['wspd']"
   ]
  },
  {
   "cell_type": "code",
   "execution_count": null,
   "metadata": {},
   "outputs": [],
   "source": [
    "night_chart = alt.Chart(\n",
    "    src_normalized.query(\"daytime_category == 'night'\").query(\"z_binned < 600\")\n",
    ").mark_rect().encode(\n",
    "    alt.X(\"date:T\").title(\"date\"),\n",
    "    alt.X2(\"date_high:T\"),\n",
    "    alt.Y(\"z_low:Q\").title(\"Height (m, agl)\"),\n",
    "    alt.Y2(\"z_high:Q\"),\n",
    "    alt.Color(\"median_normalized:Q\").scale(scheme='purpleorange', domain=[-0.5,0.5], clamp=True).title([\"Downvalley\", \"windspeed (m/s)\"]),\n",
    "    tooltip = 'date'\n",
    ").properties(\n",
    "    width = 500, \n",
    "    height = 166.66,\n",
    "    title = \"Night time winds (1900 - 0500)\"\n",
    ")\n",
    "\n",
    "day_chart = alt.Chart(\n",
    "    src_normalized.query(\"daytime_category == 'day'\").query(\"z_binned < 600\")\n",
    ").mark_rect().encode(\n",
    "    alt.X(\"date:T\").title(\"date\"),\n",
    "    alt.X2(\"date_high:T\"),\n",
    "    alt.Y(\"z_low:Q\").title(\"Height (m, agl)\"),\n",
    "    alt.Y2(\"z_high:Q\"),\n",
    "    alt.Color(\"median_normalized:Q\").scale(scheme='purpleorange', domain=[-0.5,0.5], clamp=True).title([\"Downvalley\", \"windspeed (m/s)\"]),\n",
    "    tooltip = 'date'\n",
    ").properties(\n",
    "    width = 500, \n",
    "    height = 166.66,\n",
    "    title = \"Day time winds (0900 - 1500)\"\n",
    ")\n",
    "\n",
    "(night_chart & day_chart).configure_legend(gradientThickness=20, gradientLength = 150)"
   ]
  },
  {
   "cell_type": "markdown",
   "metadata": {},
   "source": [
    "# Plot wind speed hovmoller diagram (using speeds 25 - 175m)"
   ]
  },
  {
   "cell_type": "code",
   "execution_count": 18,
   "metadata": {},
   "outputs": [
    {
     "data": {
      "text/html": [
       "<div>\n",
       "<style scoped>\n",
       "    .dataframe tbody tr th:only-of-type {\n",
       "        vertical-align: middle;\n",
       "    }\n",
       "\n",
       "    .dataframe tbody tr th {\n",
       "        vertical-align: top;\n",
       "    }\n",
       "\n",
       "    .dataframe thead th {\n",
       "        text-align: right;\n",
       "    }\n",
       "</style>\n",
       "<table border=\"1\" class=\"dataframe\">\n",
       "  <thead>\n",
       "    <tr style=\"text-align: right;\">\n",
       "      <th></th>\n",
       "      <th>date</th>\n",
       "      <th>hour</th>\n",
       "      <th>mean</th>\n",
       "      <th>median</th>\n",
       "      <th>std</th>\n",
       "      <th>date_high</th>\n",
       "      <th>hour_high</th>\n",
       "    </tr>\n",
       "  </thead>\n",
       "  <tbody>\n",
       "    <tr>\n",
       "      <th>0</th>\n",
       "      <td>2023-02-10</td>\n",
       "      <td>16</td>\n",
       "      <td>-0.317581</td>\n",
       "      <td>-0.351027</td>\n",
       "      <td>1.393420</td>\n",
       "      <td>2023-02-11</td>\n",
       "      <td>17</td>\n",
       "    </tr>\n",
       "    <tr>\n",
       "      <th>1</th>\n",
       "      <td>2023-02-10</td>\n",
       "      <td>17</td>\n",
       "      <td>2.364419</td>\n",
       "      <td>2.376781</td>\n",
       "      <td>5.680389</td>\n",
       "      <td>2023-02-11</td>\n",
       "      <td>18</td>\n",
       "    </tr>\n",
       "    <tr>\n",
       "      <th>2</th>\n",
       "      <td>2023-02-10</td>\n",
       "      <td>18</td>\n",
       "      <td>0.963356</td>\n",
       "      <td>0.491901</td>\n",
       "      <td>4.986455</td>\n",
       "      <td>2023-02-11</td>\n",
       "      <td>19</td>\n",
       "    </tr>\n",
       "    <tr>\n",
       "      <th>3</th>\n",
       "      <td>2023-02-10</td>\n",
       "      <td>19</td>\n",
       "      <td>-0.160053</td>\n",
       "      <td>0.508600</td>\n",
       "      <td>3.730716</td>\n",
       "      <td>2023-02-11</td>\n",
       "      <td>20</td>\n",
       "    </tr>\n",
       "    <tr>\n",
       "      <th>4</th>\n",
       "      <td>2023-02-10</td>\n",
       "      <td>20</td>\n",
       "      <td>-4.686701</td>\n",
       "      <td>-3.025532</td>\n",
       "      <td>6.108216</td>\n",
       "      <td>2023-02-11</td>\n",
       "      <td>21</td>\n",
       "    </tr>\n",
       "  </tbody>\n",
       "</table>\n",
       "</div>"
      ],
      "text/plain": [
       "         date  hour      mean    median       std   date_high  hour_high\n",
       "0  2023-02-10    16 -0.317581 -0.351027  1.393420  2023-02-11         17\n",
       "1  2023-02-10    17  2.364419  2.376781  5.680389  2023-02-11         18\n",
       "2  2023-02-10    18  0.963356  0.491901  4.986455  2023-02-11         19\n",
       "3  2023-02-10    19 -0.160053  0.508600  3.730716  2023-02-11         20\n",
       "4  2023-02-10    20 -4.686701 -3.025532  6.108216  2023-02-11         21"
      ]
     },
     "execution_count": 18,
     "metadata": {},
     "output_type": "execute_result"
    }
   ],
   "source": [
    "src = dl_df.query(\"x_offset == -250\").dropna()\n",
    "src = src[\n",
    "    (src.z_binned >= 25) &\n",
    "    (src.z_binned <= 175)\n",
    "]\n",
    "src = src.dropna()\n",
    "src['date'] = src['scan_time'].dt.date\n",
    "src['hour'] = src['scan_time'].dt.hour\n",
    "src = src.groupby(['date', 'hour'])[\n",
    "    ['mean', 'median', 'std']\n",
    "].agg(\n",
    "    {'mean': 'mean', 'median': 'median', 'std': 'mean'}\n",
    ").reset_index()\n",
    "\n",
    "# Add upper bounds to z and to time for a hovmoller diagram\n",
    "src['date_high'] = src['date'] + dt.timedelta(hours=24)\n",
    "src['hour_high'] = src['hour'] + 1\n",
    "\n",
    "src.head()"
   ]
  },
  {
   "cell_type": "code",
   "execution_count": 19,
   "metadata": {},
   "outputs": [
    {
     "data": {
      "text/html": [
       "\n",
       "<style>\n",
       "  #altair-viz-d1ee32192ff44fdcbfbc932d568f894f.vega-embed {\n",
       "    width: 100%;\n",
       "    display: flex;\n",
       "  }\n",
       "\n",
       "  #altair-viz-d1ee32192ff44fdcbfbc932d568f894f.vega-embed details,\n",
       "  #altair-viz-d1ee32192ff44fdcbfbc932d568f894f.vega-embed details summary {\n",
       "    position: relative;\n",
       "  }\n",
       "</style>\n",
       "<div id=\"altair-viz-d1ee32192ff44fdcbfbc932d568f894f\"></div>\n",
       "<script type=\"text/javascript\">\n",
       "  var VEGA_DEBUG = (typeof VEGA_DEBUG == \"undefined\") ? {} : VEGA_DEBUG;\n",
       "  (function(spec, embedOpt){\n",
       "    let outputDiv = document.currentScript.previousElementSibling;\n",
       "    if (outputDiv.id !== \"altair-viz-d1ee32192ff44fdcbfbc932d568f894f\") {\n",
       "      outputDiv = document.getElementById(\"altair-viz-d1ee32192ff44fdcbfbc932d568f894f\");\n",
       "    }\n",
       "    const paths = {\n",
       "      \"vega\": \"https://cdn.jsdelivr.net/npm/vega@5?noext\",\n",
       "      \"vega-lib\": \"https://cdn.jsdelivr.net/npm/vega-lib?noext\",\n",
       "      \"vega-lite\": \"https://cdn.jsdelivr.net/npm/vega-lite@5.17.0?noext\",\n",
       "      \"vega-embed\": \"https://cdn.jsdelivr.net/npm/vega-embed@6?noext\",\n",
       "    };\n",
       "\n",
       "    function maybeLoadScript(lib, version) {\n",
       "      var key = `${lib.replace(\"-\", \"\")}_version`;\n",
       "      return (VEGA_DEBUG[key] == version) ?\n",
       "        Promise.resolve(paths[lib]) :\n",
       "        new Promise(function(resolve, reject) {\n",
       "          var s = document.createElement('script');\n",
       "          document.getElementsByTagName(\"head\")[0].appendChild(s);\n",
       "          s.async = true;\n",
       "          s.onload = () => {\n",
       "            VEGA_DEBUG[key] = version;\n",
       "            return resolve(paths[lib]);\n",
       "          };\n",
       "          s.onerror = () => reject(`Error loading script: ${paths[lib]}`);\n",
       "          s.src = paths[lib];\n",
       "        });\n",
       "    }\n",
       "\n",
       "    function showError(err) {\n",
       "      outputDiv.innerHTML = `<div class=\"error\" style=\"color:red;\">${err}</div>`;\n",
       "      throw err;\n",
       "    }\n",
       "\n",
       "    function displayChart(vegaEmbed) {\n",
       "      vegaEmbed(outputDiv, spec, embedOpt)\n",
       "        .catch(err => showError(`Javascript Error: ${err.message}<br>This usually means there's a typo in your chart specification. See the javascript console for the full traceback.`));\n",
       "    }\n",
       "\n",
       "    if(typeof define === \"function\" && define.amd) {\n",
       "      requirejs.config({paths});\n",
       "      require([\"vega-embed\"], displayChart, err => showError(`Error loading script: ${err.message}`));\n",
       "    } else {\n",
       "      maybeLoadScript(\"vega\", \"5\")\n",
       "        .then(() => maybeLoadScript(\"vega-lite\", \"5.17.0\"))\n",
       "        .then(() => maybeLoadScript(\"vega-embed\", \"6\"))\n",
       "        .catch(showError)\n",
       "        .then(() => displayChart(vegaEmbed));\n",
       "    }\n",
       "  })({\"config\": {\"view\": {\"continuousWidth\": 300, \"continuousHeight\": 300}}, \"data\": {\"url\": \"altair-data-7e088c2ca885b87d7d2bbba8224df63c.json\", \"format\": {\"type\": \"json\"}}, \"mark\": {\"type\": \"rect\"}, \"encoding\": {\"color\": {\"field\": \"median\", \"scale\": {\"scheme\": \"purpleorange\", \"domain\": [-6, 6], \"clamp\": true}, \"title\": [\"Downvalley\", \"windspeed (m/s)\"], \"type\": \"quantitative\"}, \"tooltip\": {\"field\": \"date\", \"type\": \"temporal\"}, \"x\": {\"field\": \"date\", \"title\": \"date\", \"type\": \"temporal\"}, \"x2\": {\"field\": \"date_high\"}, \"y\": {\"field\": \"hour\", \"title\": \"hour of day\", \"type\": \"quantitative\"}, \"y2\": {\"field\": \"hour_high\"}}, \"height\": 166.66, \"title\": \"Average wind speed, 25 - 175m\", \"width\": 500, \"$schema\": \"https://vega.github.io/schema/vega-lite/v5.17.0.json\"}, {\"renderer\": \"svg\", \"mode\": \"vega-lite\"});\n",
       "</script>"
      ],
      "text/plain": [
       "alt.Chart(...)"
      ]
     },
     "metadata": {},
     "output_type": "display_data"
    }
   ],
   "source": [
    "alt.Chart(\n",
    "    src\n",
    ").mark_rect().encode(\n",
    "    alt.X(\"date:T\").title(\"date\"),\n",
    "    alt.X2(\"date_high:T\"),\n",
    "    alt.Y(\"hour:Q\").title(\"hour of day\"),\n",
    "    alt.Y2(\"hour_high:Q\"),\n",
    "    alt.Color(\"median:Q\").scale(scheme='purpleorange', domain=[-6,6], clamp=True).title([\"Downvalley\", \"windspeed (m/s)\"]),\n",
    "    tooltip = 'date'\n",
    ").properties(\n",
    "    width = 500, \n",
    "    height = 166.66,\n",
    "    title = \"Average wind speed, 25 - 175m\"\n",
    ").display(renderer='svg')"
   ]
  },
  {
   "cell_type": "markdown",
   "metadata": {},
   "source": [
    "# Plot monthly-averaged vertical profiles"
   ]
  },
  {
   "cell_type": "code",
   "execution_count": 20,
   "metadata": {},
   "outputs": [
    {
     "data": {
      "text/html": [
       "\n",
       "<style>\n",
       "  #altair-viz-4570a0e86e3f4324a786a7b5831eb2d1.vega-embed {\n",
       "    width: 100%;\n",
       "    display: flex;\n",
       "  }\n",
       "\n",
       "  #altair-viz-4570a0e86e3f4324a786a7b5831eb2d1.vega-embed details,\n",
       "  #altair-viz-4570a0e86e3f4324a786a7b5831eb2d1.vega-embed details summary {\n",
       "    position: relative;\n",
       "  }\n",
       "</style>\n",
       "<div id=\"altair-viz-4570a0e86e3f4324a786a7b5831eb2d1\"></div>\n",
       "<script type=\"text/javascript\">\n",
       "  var VEGA_DEBUG = (typeof VEGA_DEBUG == \"undefined\") ? {} : VEGA_DEBUG;\n",
       "  (function(spec, embedOpt){\n",
       "    let outputDiv = document.currentScript.previousElementSibling;\n",
       "    if (outputDiv.id !== \"altair-viz-4570a0e86e3f4324a786a7b5831eb2d1\") {\n",
       "      outputDiv = document.getElementById(\"altair-viz-4570a0e86e3f4324a786a7b5831eb2d1\");\n",
       "    }\n",
       "    const paths = {\n",
       "      \"vega\": \"https://cdn.jsdelivr.net/npm/vega@5?noext\",\n",
       "      \"vega-lib\": \"https://cdn.jsdelivr.net/npm/vega-lib?noext\",\n",
       "      \"vega-lite\": \"https://cdn.jsdelivr.net/npm/vega-lite@5.17.0?noext\",\n",
       "      \"vega-embed\": \"https://cdn.jsdelivr.net/npm/vega-embed@6?noext\",\n",
       "    };\n",
       "\n",
       "    function maybeLoadScript(lib, version) {\n",
       "      var key = `${lib.replace(\"-\", \"\")}_version`;\n",
       "      return (VEGA_DEBUG[key] == version) ?\n",
       "        Promise.resolve(paths[lib]) :\n",
       "        new Promise(function(resolve, reject) {\n",
       "          var s = document.createElement('script');\n",
       "          document.getElementsByTagName(\"head\")[0].appendChild(s);\n",
       "          s.async = true;\n",
       "          s.onload = () => {\n",
       "            VEGA_DEBUG[key] = version;\n",
       "            return resolve(paths[lib]);\n",
       "          };\n",
       "          s.onerror = () => reject(`Error loading script: ${paths[lib]}`);\n",
       "          s.src = paths[lib];\n",
       "        });\n",
       "    }\n",
       "\n",
       "    function showError(err) {\n",
       "      outputDiv.innerHTML = `<div class=\"error\" style=\"color:red;\">${err}</div>`;\n",
       "      throw err;\n",
       "    }\n",
       "\n",
       "    function displayChart(vegaEmbed) {\n",
       "      vegaEmbed(outputDiv, spec, embedOpt)\n",
       "        .catch(err => showError(`Javascript Error: ${err.message}<br>This usually means there's a typo in your chart specification. See the javascript console for the full traceback.`));\n",
       "    }\n",
       "\n",
       "    if(typeof define === \"function\" && define.amd) {\n",
       "      requirejs.config({paths});\n",
       "      require([\"vega-embed\"], displayChart, err => showError(`Error loading script: ${err.message}`));\n",
       "    } else {\n",
       "      maybeLoadScript(\"vega\", \"5\")\n",
       "        .then(() => maybeLoadScript(\"vega-lite\", \"5.17.0\"))\n",
       "        .then(() => maybeLoadScript(\"vega-embed\", \"6\"))\n",
       "        .catch(showError)\n",
       "        .then(() => displayChart(vegaEmbed));\n",
       "    }\n",
       "  })({\"config\": {\"view\": {\"continuousWidth\": 300, \"continuousHeight\": 300}}, \"data\": {\"url\": \"altair-data-f843be437c345d594d13ac6338eefd6c.json\", \"format\": {\"type\": \"json\"}}, \"mark\": {\"type\": \"line\"}, \"encoding\": {\"color\": {\"field\": \"month\", \"scale\": {\"scheme\": \"turbo\"}, \"type\": \"ordinal\"}, \"facet\": {\"columns\": 6, \"field\": \"hour\", \"type\": \"quantitative\"}, \"x\": {\"field\": \"mean\", \"sort\": \"-y\", \"type\": \"quantitative\"}, \"y\": {\"field\": \"z_binned\", \"type\": \"quantitative\"}}, \"height\": 125, \"width\": 125, \"$schema\": \"https://vega.github.io/schema/vega-lite/v5.17.0.json\"}, {\"mode\": \"vega-lite\"});\n",
       "</script>"
      ],
      "text/plain": [
       "alt.Chart(...)"
      ]
     },
     "execution_count": 20,
     "metadata": {},
     "output_type": "execute_result"
    }
   ],
   "source": [
    "src = dl_df.query(\"x_offset == -250\").dropna()\n",
    "src = src.dropna()\n",
    "src['month'] = src['scan_time'].dt.month\n",
    "src['hour'] = src['scan_time'].dt.hour\n",
    "\n",
    "src = src.groupby(['month', 'hour', 'z_binned'])[\n",
    "    ['mean', 'median', 'std']\n",
    "].agg(\n",
    "    {'mean': 'mean', 'median': 'median', 'std': 'mean'}\n",
    ").reset_index()\n",
    "\n",
    "alt.Chart(\n",
    "    src.query(\"z_binned <= 625\").query(\"month < 6\")\n",
    ").mark_line().encode(\n",
    "    alt.X(\"mean:Q\").sort('-y'),\n",
    "    alt.Y(\"z_binned:Q\"),\n",
    "    alt.Color(\"month:O\").scale(scheme='turbo'),\n",
    "    alt.Facet(\"hour\", columns=6) \n",
    ").properties(width = 125, height = 125)"
   ]
  },
  {
   "cell_type": "code",
   "execution_count": 21,
   "metadata": {},
   "outputs": [
    {
     "name": "stderr",
     "output_type": "stream",
     "text": [
      "/var/folders/x_/2h52bcjx2px15bhmdpdd748h0000gn/T/ipykernel_91346/3937551297.py:11: FutureWarning: The default of observed=False is deprecated and will be changed to True in a future version of pandas. Pass observed=False to retain current behavior or observed=True to adopt the future default and silence this warning.\n",
      "  src = src.groupby(['month', 'hour_group', 'z_binned'])[\n"
     ]
    },
    {
     "data": {
      "text/html": [
       "\n",
       "<style>\n",
       "  #altair-viz-3c82ceb928f347feb3507022e1ae8a9e.vega-embed {\n",
       "    width: 100%;\n",
       "    display: flex;\n",
       "  }\n",
       "\n",
       "  #altair-viz-3c82ceb928f347feb3507022e1ae8a9e.vega-embed details,\n",
       "  #altair-viz-3c82ceb928f347feb3507022e1ae8a9e.vega-embed details summary {\n",
       "    position: relative;\n",
       "  }\n",
       "</style>\n",
       "<div id=\"altair-viz-3c82ceb928f347feb3507022e1ae8a9e\"></div>\n",
       "<script type=\"text/javascript\">\n",
       "  var VEGA_DEBUG = (typeof VEGA_DEBUG == \"undefined\") ? {} : VEGA_DEBUG;\n",
       "  (function(spec, embedOpt){\n",
       "    let outputDiv = document.currentScript.previousElementSibling;\n",
       "    if (outputDiv.id !== \"altair-viz-3c82ceb928f347feb3507022e1ae8a9e\") {\n",
       "      outputDiv = document.getElementById(\"altair-viz-3c82ceb928f347feb3507022e1ae8a9e\");\n",
       "    }\n",
       "    const paths = {\n",
       "      \"vega\": \"https://cdn.jsdelivr.net/npm/vega@5?noext\",\n",
       "      \"vega-lib\": \"https://cdn.jsdelivr.net/npm/vega-lib?noext\",\n",
       "      \"vega-lite\": \"https://cdn.jsdelivr.net/npm/vega-lite@5.17.0?noext\",\n",
       "      \"vega-embed\": \"https://cdn.jsdelivr.net/npm/vega-embed@6?noext\",\n",
       "    };\n",
       "\n",
       "    function maybeLoadScript(lib, version) {\n",
       "      var key = `${lib.replace(\"-\", \"\")}_version`;\n",
       "      return (VEGA_DEBUG[key] == version) ?\n",
       "        Promise.resolve(paths[lib]) :\n",
       "        new Promise(function(resolve, reject) {\n",
       "          var s = document.createElement('script');\n",
       "          document.getElementsByTagName(\"head\")[0].appendChild(s);\n",
       "          s.async = true;\n",
       "          s.onload = () => {\n",
       "            VEGA_DEBUG[key] = version;\n",
       "            return resolve(paths[lib]);\n",
       "          };\n",
       "          s.onerror = () => reject(`Error loading script: ${paths[lib]}`);\n",
       "          s.src = paths[lib];\n",
       "        });\n",
       "    }\n",
       "\n",
       "    function showError(err) {\n",
       "      outputDiv.innerHTML = `<div class=\"error\" style=\"color:red;\">${err}</div>`;\n",
       "      throw err;\n",
       "    }\n",
       "\n",
       "    function displayChart(vegaEmbed) {\n",
       "      vegaEmbed(outputDiv, spec, embedOpt)\n",
       "        .catch(err => showError(`Javascript Error: ${err.message}<br>This usually means there's a typo in your chart specification. See the javascript console for the full traceback.`));\n",
       "    }\n",
       "\n",
       "    if(typeof define === \"function\" && define.amd) {\n",
       "      requirejs.config({paths});\n",
       "      require([\"vega-embed\"], displayChart, err => showError(`Error loading script: ${err.message}`));\n",
       "    } else {\n",
       "      maybeLoadScript(\"vega\", \"5\")\n",
       "        .then(() => maybeLoadScript(\"vega-lite\", \"5.17.0\"))\n",
       "        .then(() => maybeLoadScript(\"vega-embed\", \"6\"))\n",
       "        .catch(showError)\n",
       "        .then(() => displayChart(vegaEmbed));\n",
       "    }\n",
       "  })({\"config\": {\"view\": {\"continuousWidth\": 300, \"continuousHeight\": 300}}, \"data\": {\"url\": \"altair-data-6f8e8285f88bd367a5bcda5f945daf00.json\", \"format\": {\"type\": \"json\"}}, \"mark\": {\"type\": \"line\"}, \"encoding\": {\"color\": {\"field\": \"month\", \"scale\": {\"scheme\": \"turbo\"}, \"type\": \"ordinal\"}, \"facet\": {\"columns\": 4, \"field\": \"hour_group\", \"sort\": [\"00-02\", \"03-05\", \"06-08\", \"09-11\", \"12-14\", \"15-17\", \"18-20\", \"21-23\"], \"title\": \"hours of day\", \"type\": \"ordinal\"}, \"x\": {\"field\": \"mean\", \"sort\": \"-y\", \"title\": \"Downvalley wind (m/s)\", \"type\": \"quantitative\"}, \"y\": {\"field\": \"z_binned\", \"title\": \"Height (m, agl)\", \"type\": \"quantitative\"}}, \"height\": 125, \"title\": \"Mean vertical profiles of valley wind for different parts of the day\", \"width\": 125, \"$schema\": \"https://vega.github.io/schema/vega-lite/v5.17.0.json\"}, {\"renderer\": \"svg\", \"mode\": \"vega-lite\"});\n",
       "</script>"
      ],
      "text/plain": [
       "alt.Chart(...)"
      ]
     },
     "metadata": {},
     "output_type": "display_data"
    }
   ],
   "source": [
    "src = dl_df.query(\"x_offset == -250\").dropna()\n",
    "src = src.dropna()\n",
    "src['month'] = src['scan_time'].dt.month\n",
    "src['hour'] = src['scan_time'].dt.hour\n",
    "src['hour_group'] = pd.cut(\n",
    "    src['hour'], \n",
    "    [-1,2.5, 5.5, 8.5, 11.5, 14.5, 17.5, 20.5, 23.5],\n",
    "    labels=['00-02', '03-05', '06-08', '09-11', '12-14', '15-17', '18-20', '21-23']\n",
    ")\n",
    "\n",
    "src = src.groupby(['month', 'hour_group', 'z_binned'])[\n",
    "    ['mean', 'median', 'std']\n",
    "].agg(\n",
    "    {'mean': 'mean', 'median': 'median', 'std': 'mean'}\n",
    ").reset_index()\n",
    "\n",
    "alt.Chart(\n",
    "    src.query(\"z_binned <= 625\").query(\"month < 6\")\n",
    ").mark_line().encode(\n",
    "    alt.X(\"mean:Q\").sort('-y').title(\"Downvalley wind (m/s)\"),\n",
    "    alt.Y(\"z_binned:Q\").title(\"Height (m, agl)\"),\n",
    "    alt.Color(\"month:O\").scale(scheme='turbo'),\n",
    "    alt.Facet(\"hour_group\", columns=4).title(\"hours of day\")\n",
    ").properties(\n",
    "    width = 125, \n",
    "    height = 125,\n",
    "    title='Mean vertical profiles of valley wind for different parts of the day'\n",
    ").display(renderer='svg')"
   ]
  },
  {
   "cell_type": "code",
   "execution_count": null,
   "metadata": {},
   "outputs": [],
   "source": []
  },
  {
   "cell_type": "code",
   "execution_count": null,
   "metadata": {},
   "outputs": [],
   "source": []
  },
  {
   "cell_type": "code",
   "execution_count": 72,
   "metadata": {},
   "outputs": [],
   "source": [
    "src = dl_df[dl_df.x_offset == -250]\n",
    "src = src[src.scan_time.dt.date.isin([\n",
    "    dt.date(2023, 4, 16),\n",
    "    dt.date(2023, 6, 9)\n",
    "])]\n",
    "src = src.query(\"z_binned <= 650\")\n",
    "src['z_binned'] = src['z_binned'].replace({625: 600})\n",
    "src = src.set_index('scan_time').sort_index()\n",
    "src = src.groupby([pd.Grouper(freq='120Min'), 'z_binned'])[['median']].median().reset_index()\n",
    "src['date_str'] = src['scan_time'].dt.date.astype(str)\n",
    "src['hour'] = src['scan_time'].dt.hour\n",
    "src['hour'] = src['scan_time'].dt.hour\n",
    "src['time_category'] = pd.cut(\n",
    "    src['scan_time'].dt.hour,\n",
    "    [-0.5, 6.5, 14.5, 23.5],\n",
    "    labels = ['Morning (0000-0600)', 'Day (0800-1400)', 'Evening (1600-2200)']\n",
    ")"
   ]
  },
  {
   "cell_type": "code",
   "execution_count": 74,
   "metadata": {},
   "outputs": [
    {
     "data": {
      "text/html": [
       "\n",
       "<style>\n",
       "  #altair-viz-e54e930117ed4fbda68bbb5071d4659b.vega-embed {\n",
       "    width: 100%;\n",
       "    display: flex;\n",
       "  }\n",
       "\n",
       "  #altair-viz-e54e930117ed4fbda68bbb5071d4659b.vega-embed details,\n",
       "  #altair-viz-e54e930117ed4fbda68bbb5071d4659b.vega-embed details summary {\n",
       "    position: relative;\n",
       "  }\n",
       "</style>\n",
       "<div id=\"altair-viz-e54e930117ed4fbda68bbb5071d4659b\"></div>\n",
       "<script type=\"text/javascript\">\n",
       "  var VEGA_DEBUG = (typeof VEGA_DEBUG == \"undefined\") ? {} : VEGA_DEBUG;\n",
       "  (function(spec, embedOpt){\n",
       "    let outputDiv = document.currentScript.previousElementSibling;\n",
       "    if (outputDiv.id !== \"altair-viz-e54e930117ed4fbda68bbb5071d4659b\") {\n",
       "      outputDiv = document.getElementById(\"altair-viz-e54e930117ed4fbda68bbb5071d4659b\");\n",
       "    }\n",
       "    const paths = {\n",
       "      \"vega\": \"https://cdn.jsdelivr.net/npm/vega@5?noext\",\n",
       "      \"vega-lib\": \"https://cdn.jsdelivr.net/npm/vega-lib?noext\",\n",
       "      \"vega-lite\": \"https://cdn.jsdelivr.net/npm/vega-lite@5.17.0?noext\",\n",
       "      \"vega-embed\": \"https://cdn.jsdelivr.net/npm/vega-embed@6?noext\",\n",
       "    };\n",
       "\n",
       "    function maybeLoadScript(lib, version) {\n",
       "      var key = `${lib.replace(\"-\", \"\")}_version`;\n",
       "      return (VEGA_DEBUG[key] == version) ?\n",
       "        Promise.resolve(paths[lib]) :\n",
       "        new Promise(function(resolve, reject) {\n",
       "          var s = document.createElement('script');\n",
       "          document.getElementsByTagName(\"head\")[0].appendChild(s);\n",
       "          s.async = true;\n",
       "          s.onload = () => {\n",
       "            VEGA_DEBUG[key] = version;\n",
       "            return resolve(paths[lib]);\n",
       "          };\n",
       "          s.onerror = () => reject(`Error loading script: ${paths[lib]}`);\n",
       "          s.src = paths[lib];\n",
       "        });\n",
       "    }\n",
       "\n",
       "    function showError(err) {\n",
       "      outputDiv.innerHTML = `<div class=\"error\" style=\"color:red;\">${err}</div>`;\n",
       "      throw err;\n",
       "    }\n",
       "\n",
       "    function displayChart(vegaEmbed) {\n",
       "      vegaEmbed(outputDiv, spec, embedOpt)\n",
       "        .catch(err => showError(`Javascript Error: ${err.message}<br>This usually means there's a typo in your chart specification. See the javascript console for the full traceback.`));\n",
       "    }\n",
       "\n",
       "    if(typeof define === \"function\" && define.amd) {\n",
       "      requirejs.config({paths});\n",
       "      require([\"vega-embed\"], displayChart, err => showError(`Error loading script: ${err.message}`));\n",
       "    } else {\n",
       "      maybeLoadScript(\"vega\", \"5\")\n",
       "        .then(() => maybeLoadScript(\"vega-lite\", \"5.17.0\"))\n",
       "        .then(() => maybeLoadScript(\"vega-embed\", \"6\"))\n",
       "        .catch(showError)\n",
       "        .then(() => displayChart(vegaEmbed));\n",
       "    }\n",
       "  })({\"config\": {\"view\": {\"continuousWidth\": 300, \"continuousHeight\": 300}}, \"data\": {\"url\": \"altair-data-d1d82740d077c215611dc1ffa0273150.json\", \"format\": {\"type\": \"json\"}}, \"mark\": {\"type\": \"line\"}, \"encoding\": {\"color\": {\"field\": \"hour\", \"scale\": {\"scheme\": \"sinebow\"}, \"type\": \"ordinal\"}, \"column\": {\"field\": \"time_category\", \"header\": {\"labelFontSize\": 16, \"labelFontWeight\": \"bold\"}, \"sort\": [\"Morning (0000-0600)\", \"Day (0800-1400)\", \"Evening (1600-2200)\"], \"title\": null, \"type\": \"ordinal\"}, \"row\": {\"field\": \"date_str\", \"header\": {\"labelFontSize\": 16, \"labelFontWeight\": \"bold\"}, \"title\": null, \"type\": \"nominal\"}, \"x\": {\"field\": \"median\", \"sort\": \"-y\", \"title\": \"Downvalley velocity (m/s)\", \"type\": \"quantitative\"}, \"y\": {\"field\": \"z_binned\", \"title\": \"Height (m, agl)\", \"type\": \"quantitative\"}}, \"height\": 150, \"width\": 150, \"$schema\": \"https://vega.github.io/schema/vega-lite/v5.17.0.json\"}, {\"mode\": \"vega-lite\"});\n",
       "</script>"
      ],
      "text/plain": [
       "alt.Chart(...)"
      ]
     },
     "execution_count": 74,
     "metadata": {},
     "output_type": "execute_result"
    }
   ],
   "source": [
    "alt.Chart(src).mark_line().encode(\n",
    "    alt.X(\"median:Q\").sort('-y').title(\"Downvalley velocity (m/s)\"),\n",
    "    alt.Y(\"z_binned:Q\").title(\"Height (m, agl)\"),\n",
    "    alt.Color(\"hour:O\").scale(scheme='sinebow'),\n",
    "    alt.Row(\"date_str:N\").title(None).header(labelFontSize=16, labelFontWeight='bold'),\n",
    "    alt.Column(\"time_category:O\").sort(\n",
    "        ['Morning (0000-0600)', 'Day (0800-1400)', 'Evening (1600-2200)']\n",
    "    ).title(None).header(labelFontSize=16, labelFontWeight='bold'),\n",
    ").properties(width = 150, height = 150)"
   ]
  },
  {
   "cell_type": "code",
   "execution_count": null,
   "metadata": {},
   "outputs": [],
   "source": []
  }
 ],
 "metadata": {
  "kernelspec": {
   "display_name": "sublimationofsnow",
   "language": "python",
   "name": "python3"
  },
  "language_info": {
   "codemirror_mode": {
    "name": "ipython",
    "version": 3
   },
   "file_extension": ".py",
   "mimetype": "text/x-python",
   "name": "python",
   "nbconvert_exporter": "python",
   "pygments_lexer": "ipython3",
   "version": "3.1.0"
  }
 },
 "nbformat": 4,
 "nbformat_minor": 2
}
