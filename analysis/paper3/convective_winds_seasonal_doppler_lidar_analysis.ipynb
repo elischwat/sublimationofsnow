{
 "cells": [
  {
   "cell_type": "code",
   "execution_count": 1,
   "metadata": {},
   "outputs": [
    {
     "data": {
      "text/plain": [
       "DataTransformerRegistry.enable('json')"
      ]
     },
     "execution_count": 1,
     "metadata": {},
     "output_type": "execute_result"
    }
   ],
   "source": [
    "import numpy as np\n",
    "import pandas as pd\n",
    "import datetime as dt\n",
    "import altair as alt\n",
    "alt.data_transformers.enable(\"json\")"
   ]
  },
  {
   "cell_type": "markdown",
   "metadata": {},
   "source": [
    "# Open data"
   ]
  },
  {
   "cell_type": "markdown",
   "metadata": {},
   "source": [
    "Radiosonde synoptic winds"
   ]
  },
  {
   "cell_type": "code",
   "execution_count": 2,
   "metadata": {},
   "outputs": [
    {
     "ename": "FileNotFoundError",
     "evalue": "[Errno 2] No such file or directory: '../sail/synoptic_winds_500_local.parquet'",
     "output_type": "error",
     "traceback": [
      "\u001b[0;31m---------------------------------------------------------------------------\u001b[0m",
      "\u001b[0;31mFileNotFoundError\u001b[0m                         Traceback (most recent call last)",
      "Cell \u001b[0;32mIn[2], line 1\u001b[0m\n\u001b[0;32m----> 1\u001b[0m df1 \u001b[38;5;241m=\u001b[39m \u001b[43mpd\u001b[49m\u001b[38;5;241;43m.\u001b[39;49m\u001b[43mread_parquet\u001b[49m\u001b[43m(\u001b[49m\u001b[38;5;124;43m\"\u001b[39;49m\u001b[38;5;124;43m../sail/synoptic_winds_500_local.parquet\u001b[39;49m\u001b[38;5;124;43m\"\u001b[39;49m\u001b[43m)\u001b[49m\u001b[38;5;241m.\u001b[39massign(pressure \u001b[38;5;241m=\u001b[39m \u001b[38;5;241m500\u001b[39m)\n\u001b[1;32m      2\u001b[0m df2 \u001b[38;5;241m=\u001b[39m pd\u001b[38;5;241m.\u001b[39mread_parquet(\u001b[38;5;124m\"\u001b[39m\u001b[38;5;124m../sail/synoptic_winds_700_local.parquet\u001b[39m\u001b[38;5;124m\"\u001b[39m)\u001b[38;5;241m.\u001b[39massign(pressure \u001b[38;5;241m=\u001b[39m \u001b[38;5;241m700\u001b[39m)\n\u001b[1;32m      3\u001b[0m df1\u001b[38;5;241m.\u001b[39mtime \u001b[38;5;241m=\u001b[39m df1\u001b[38;5;241m.\u001b[39mtime\u001b[38;5;241m.\u001b[39mapply(\u001b[38;5;28;01mlambda\u001b[39;00m dt: dt\u001b[38;5;241m.\u001b[39mreplace(minute\u001b[38;5;241m=\u001b[39m\u001b[38;5;241m0\u001b[39m, second\u001b[38;5;241m=\u001b[39m\u001b[38;5;241m0\u001b[39m))\n",
      "File \u001b[0;32m~/miniforge3/envs/sublimationofsnow/lib/python3.12/site-packages/pandas/io/parquet.py:667\u001b[0m, in \u001b[0;36mread_parquet\u001b[0;34m(path, engine, columns, storage_options, use_nullable_dtypes, dtype_backend, filesystem, filters, **kwargs)\u001b[0m\n\u001b[1;32m    664\u001b[0m     use_nullable_dtypes \u001b[38;5;241m=\u001b[39m \u001b[38;5;28;01mFalse\u001b[39;00m\n\u001b[1;32m    665\u001b[0m check_dtype_backend(dtype_backend)\n\u001b[0;32m--> 667\u001b[0m \u001b[38;5;28;01mreturn\u001b[39;00m \u001b[43mimpl\u001b[49m\u001b[38;5;241;43m.\u001b[39;49m\u001b[43mread\u001b[49m\u001b[43m(\u001b[49m\n\u001b[1;32m    668\u001b[0m \u001b[43m    \u001b[49m\u001b[43mpath\u001b[49m\u001b[43m,\u001b[49m\n\u001b[1;32m    669\u001b[0m \u001b[43m    \u001b[49m\u001b[43mcolumns\u001b[49m\u001b[38;5;241;43m=\u001b[39;49m\u001b[43mcolumns\u001b[49m\u001b[43m,\u001b[49m\n\u001b[1;32m    670\u001b[0m \u001b[43m    \u001b[49m\u001b[43mfilters\u001b[49m\u001b[38;5;241;43m=\u001b[39;49m\u001b[43mfilters\u001b[49m\u001b[43m,\u001b[49m\n\u001b[1;32m    671\u001b[0m \u001b[43m    \u001b[49m\u001b[43mstorage_options\u001b[49m\u001b[38;5;241;43m=\u001b[39;49m\u001b[43mstorage_options\u001b[49m\u001b[43m,\u001b[49m\n\u001b[1;32m    672\u001b[0m \u001b[43m    \u001b[49m\u001b[43muse_nullable_dtypes\u001b[49m\u001b[38;5;241;43m=\u001b[39;49m\u001b[43muse_nullable_dtypes\u001b[49m\u001b[43m,\u001b[49m\n\u001b[1;32m    673\u001b[0m \u001b[43m    \u001b[49m\u001b[43mdtype_backend\u001b[49m\u001b[38;5;241;43m=\u001b[39;49m\u001b[43mdtype_backend\u001b[49m\u001b[43m,\u001b[49m\n\u001b[1;32m    674\u001b[0m \u001b[43m    \u001b[49m\u001b[43mfilesystem\u001b[49m\u001b[38;5;241;43m=\u001b[39;49m\u001b[43mfilesystem\u001b[49m\u001b[43m,\u001b[49m\n\u001b[1;32m    675\u001b[0m \u001b[43m    \u001b[49m\u001b[38;5;241;43m*\u001b[39;49m\u001b[38;5;241;43m*\u001b[39;49m\u001b[43mkwargs\u001b[49m\u001b[43m,\u001b[49m\n\u001b[1;32m    676\u001b[0m \u001b[43m\u001b[49m\u001b[43m)\u001b[49m\n",
      "File \u001b[0;32m~/miniforge3/envs/sublimationofsnow/lib/python3.12/site-packages/pandas/io/parquet.py:267\u001b[0m, in \u001b[0;36mPyArrowImpl.read\u001b[0;34m(self, path, columns, filters, use_nullable_dtypes, dtype_backend, storage_options, filesystem, **kwargs)\u001b[0m\n\u001b[1;32m    264\u001b[0m \u001b[38;5;28;01mif\u001b[39;00m manager \u001b[38;5;241m==\u001b[39m \u001b[38;5;124m\"\u001b[39m\u001b[38;5;124marray\u001b[39m\u001b[38;5;124m\"\u001b[39m:\n\u001b[1;32m    265\u001b[0m     to_pandas_kwargs[\u001b[38;5;124m\"\u001b[39m\u001b[38;5;124msplit_blocks\u001b[39m\u001b[38;5;124m\"\u001b[39m] \u001b[38;5;241m=\u001b[39m \u001b[38;5;28;01mTrue\u001b[39;00m  \u001b[38;5;66;03m# type: ignore[assignment]\u001b[39;00m\n\u001b[0;32m--> 267\u001b[0m path_or_handle, handles, filesystem \u001b[38;5;241m=\u001b[39m \u001b[43m_get_path_or_handle\u001b[49m\u001b[43m(\u001b[49m\n\u001b[1;32m    268\u001b[0m \u001b[43m    \u001b[49m\u001b[43mpath\u001b[49m\u001b[43m,\u001b[49m\n\u001b[1;32m    269\u001b[0m \u001b[43m    \u001b[49m\u001b[43mfilesystem\u001b[49m\u001b[43m,\u001b[49m\n\u001b[1;32m    270\u001b[0m \u001b[43m    \u001b[49m\u001b[43mstorage_options\u001b[49m\u001b[38;5;241;43m=\u001b[39;49m\u001b[43mstorage_options\u001b[49m\u001b[43m,\u001b[49m\n\u001b[1;32m    271\u001b[0m \u001b[43m    \u001b[49m\u001b[43mmode\u001b[49m\u001b[38;5;241;43m=\u001b[39;49m\u001b[38;5;124;43m\"\u001b[39;49m\u001b[38;5;124;43mrb\u001b[39;49m\u001b[38;5;124;43m\"\u001b[39;49m\u001b[43m,\u001b[49m\n\u001b[1;32m    272\u001b[0m \u001b[43m\u001b[49m\u001b[43m)\u001b[49m\n\u001b[1;32m    273\u001b[0m \u001b[38;5;28;01mtry\u001b[39;00m:\n\u001b[1;32m    274\u001b[0m     pa_table \u001b[38;5;241m=\u001b[39m \u001b[38;5;28mself\u001b[39m\u001b[38;5;241m.\u001b[39mapi\u001b[38;5;241m.\u001b[39mparquet\u001b[38;5;241m.\u001b[39mread_table(\n\u001b[1;32m    275\u001b[0m         path_or_handle,\n\u001b[1;32m    276\u001b[0m         columns\u001b[38;5;241m=\u001b[39mcolumns,\n\u001b[0;32m   (...)\u001b[0m\n\u001b[1;32m    279\u001b[0m         \u001b[38;5;241m*\u001b[39m\u001b[38;5;241m*\u001b[39mkwargs,\n\u001b[1;32m    280\u001b[0m     )\n",
      "File \u001b[0;32m~/miniforge3/envs/sublimationofsnow/lib/python3.12/site-packages/pandas/io/parquet.py:140\u001b[0m, in \u001b[0;36m_get_path_or_handle\u001b[0;34m(path, fs, storage_options, mode, is_dir)\u001b[0m\n\u001b[1;32m    130\u001b[0m handles \u001b[38;5;241m=\u001b[39m \u001b[38;5;28;01mNone\u001b[39;00m\n\u001b[1;32m    131\u001b[0m \u001b[38;5;28;01mif\u001b[39;00m (\n\u001b[1;32m    132\u001b[0m     \u001b[38;5;129;01mnot\u001b[39;00m fs\n\u001b[1;32m    133\u001b[0m     \u001b[38;5;129;01mand\u001b[39;00m \u001b[38;5;129;01mnot\u001b[39;00m is_dir\n\u001b[0;32m   (...)\u001b[0m\n\u001b[1;32m    138\u001b[0m     \u001b[38;5;66;03m# fsspec resources can also point to directories\u001b[39;00m\n\u001b[1;32m    139\u001b[0m     \u001b[38;5;66;03m# this branch is used for example when reading from non-fsspec URLs\u001b[39;00m\n\u001b[0;32m--> 140\u001b[0m     handles \u001b[38;5;241m=\u001b[39m \u001b[43mget_handle\u001b[49m\u001b[43m(\u001b[49m\n\u001b[1;32m    141\u001b[0m \u001b[43m        \u001b[49m\u001b[43mpath_or_handle\u001b[49m\u001b[43m,\u001b[49m\u001b[43m \u001b[49m\u001b[43mmode\u001b[49m\u001b[43m,\u001b[49m\u001b[43m \u001b[49m\u001b[43mis_text\u001b[49m\u001b[38;5;241;43m=\u001b[39;49m\u001b[38;5;28;43;01mFalse\u001b[39;49;00m\u001b[43m,\u001b[49m\u001b[43m \u001b[49m\u001b[43mstorage_options\u001b[49m\u001b[38;5;241;43m=\u001b[39;49m\u001b[43mstorage_options\u001b[49m\n\u001b[1;32m    142\u001b[0m \u001b[43m    \u001b[49m\u001b[43m)\u001b[49m\n\u001b[1;32m    143\u001b[0m     fs \u001b[38;5;241m=\u001b[39m \u001b[38;5;28;01mNone\u001b[39;00m\n\u001b[1;32m    144\u001b[0m     path_or_handle \u001b[38;5;241m=\u001b[39m handles\u001b[38;5;241m.\u001b[39mhandle\n",
      "File \u001b[0;32m~/miniforge3/envs/sublimationofsnow/lib/python3.12/site-packages/pandas/io/common.py:882\u001b[0m, in \u001b[0;36mget_handle\u001b[0;34m(path_or_buf, mode, encoding, compression, memory_map, is_text, errors, storage_options)\u001b[0m\n\u001b[1;32m    873\u001b[0m         handle \u001b[38;5;241m=\u001b[39m \u001b[38;5;28mopen\u001b[39m(\n\u001b[1;32m    874\u001b[0m             handle,\n\u001b[1;32m    875\u001b[0m             ioargs\u001b[38;5;241m.\u001b[39mmode,\n\u001b[0;32m   (...)\u001b[0m\n\u001b[1;32m    878\u001b[0m             newline\u001b[38;5;241m=\u001b[39m\u001b[38;5;124m\"\u001b[39m\u001b[38;5;124m\"\u001b[39m,\n\u001b[1;32m    879\u001b[0m         )\n\u001b[1;32m    880\u001b[0m     \u001b[38;5;28;01melse\u001b[39;00m:\n\u001b[1;32m    881\u001b[0m         \u001b[38;5;66;03m# Binary mode\u001b[39;00m\n\u001b[0;32m--> 882\u001b[0m         handle \u001b[38;5;241m=\u001b[39m \u001b[38;5;28;43mopen\u001b[39;49m\u001b[43m(\u001b[49m\u001b[43mhandle\u001b[49m\u001b[43m,\u001b[49m\u001b[43m \u001b[49m\u001b[43mioargs\u001b[49m\u001b[38;5;241;43m.\u001b[39;49m\u001b[43mmode\u001b[49m\u001b[43m)\u001b[49m\n\u001b[1;32m    883\u001b[0m     handles\u001b[38;5;241m.\u001b[39mappend(handle)\n\u001b[1;32m    885\u001b[0m \u001b[38;5;66;03m# Convert BytesIO or file objects passed with an encoding\u001b[39;00m\n",
      "\u001b[0;31mFileNotFoundError\u001b[0m: [Errno 2] No such file or directory: '../sail/synoptic_winds_500_local.parquet'"
     ]
    }
   ],
   "source": [
    "df1 = pd.read_parquet(\"../sail/synoptic_winds_500_local.parquet\").assign(pressure = 500)\n",
    "df2 = pd.read_parquet(\"../sail/synoptic_winds_700_local.parquet\").assign(pressure = 700)\n",
    "df1.time = df1.time.apply(lambda dt: dt.replace(minute=0, second=0))\n",
    "df2.time = df2.time.apply(lambda dt: dt.replace(minute=0, second=0))\n",
    "synopticwinds_df = pd.concat([df1, df2])\n",
    "synopticwinds_df = synopticwinds_df.groupby(['time', 'pressure']).mean().reset_index()"
   ]
  },
  {
   "cell_type": "code",
   "execution_count": null,
   "metadata": {},
   "outputs": [],
   "source": [
    "alt.Chart(\n",
    "    synopticwinds_df\n",
    ").mark_bar().encode(\n",
    "    alt.X(\"wspd:Q\").bin(True, maxbins=30),\n",
    "    alt.Y(\"count():Q\")\n",
    ")"
   ]
  },
  {
   "cell_type": "markdown",
   "metadata": {},
   "source": [
    "Doppler Lidar (aggregated) data"
   ]
  },
  {
   "cell_type": "code",
   "execution_count": 3,
   "metadata": {},
   "outputs": [],
   "source": [
    "dl_df = pd.read_parquet(\"/Users/elischwat/Development/data/sublimationofsnow/sail_processed/gucdlrhiM1.b1/\").set_index([\n",
    "    'z_binned',\t'x_offset',\t'scan_time'\n",
    "])['streamwise_velocity'].reset_index()\n",
    "\n",
    "dl_df = dl_df[dl_df.scan_time >= \"2023-02-09 0000\"]"
   ]
  },
  {
   "cell_type": "markdown",
   "metadata": {},
   "source": [
    "# Plot vertical profiles over a day"
   ]
  },
  {
   "cell_type": "code",
   "execution_count": 4,
   "metadata": {},
   "outputs": [
    {
     "data": {
      "text/html": [
       "\n",
       "<style>\n",
       "  #altair-viz-320f42dea8fe46d898bcd14e6fa92180.vega-embed {\n",
       "    width: 100%;\n",
       "    display: flex;\n",
       "  }\n",
       "\n",
       "  #altair-viz-320f42dea8fe46d898bcd14e6fa92180.vega-embed details,\n",
       "  #altair-viz-320f42dea8fe46d898bcd14e6fa92180.vega-embed details summary {\n",
       "    position: relative;\n",
       "  }\n",
       "</style>\n",
       "<div id=\"altair-viz-320f42dea8fe46d898bcd14e6fa92180\"></div>\n",
       "<script type=\"text/javascript\">\n",
       "  var VEGA_DEBUG = (typeof VEGA_DEBUG == \"undefined\") ? {} : VEGA_DEBUG;\n",
       "  (function(spec, embedOpt){\n",
       "    let outputDiv = document.currentScript.previousElementSibling;\n",
       "    if (outputDiv.id !== \"altair-viz-320f42dea8fe46d898bcd14e6fa92180\") {\n",
       "      outputDiv = document.getElementById(\"altair-viz-320f42dea8fe46d898bcd14e6fa92180\");\n",
       "    }\n",
       "    const paths = {\n",
       "      \"vega\": \"https://cdn.jsdelivr.net/npm/vega@5?noext\",\n",
       "      \"vega-lib\": \"https://cdn.jsdelivr.net/npm/vega-lib?noext\",\n",
       "      \"vega-lite\": \"https://cdn.jsdelivr.net/npm/vega-lite@5.17.0?noext\",\n",
       "      \"vega-embed\": \"https://cdn.jsdelivr.net/npm/vega-embed@6?noext\",\n",
       "    };\n",
       "\n",
       "    function maybeLoadScript(lib, version) {\n",
       "      var key = `${lib.replace(\"-\", \"\")}_version`;\n",
       "      return (VEGA_DEBUG[key] == version) ?\n",
       "        Promise.resolve(paths[lib]) :\n",
       "        new Promise(function(resolve, reject) {\n",
       "          var s = document.createElement('script');\n",
       "          document.getElementsByTagName(\"head\")[0].appendChild(s);\n",
       "          s.async = true;\n",
       "          s.onload = () => {\n",
       "            VEGA_DEBUG[key] = version;\n",
       "            return resolve(paths[lib]);\n",
       "          };\n",
       "          s.onerror = () => reject(`Error loading script: ${paths[lib]}`);\n",
       "          s.src = paths[lib];\n",
       "        });\n",
       "    }\n",
       "\n",
       "    function showError(err) {\n",
       "      outputDiv.innerHTML = `<div class=\"error\" style=\"color:red;\">${err}</div>`;\n",
       "      throw err;\n",
       "    }\n",
       "\n",
       "    function displayChart(vegaEmbed) {\n",
       "      vegaEmbed(outputDiv, spec, embedOpt)\n",
       "        .catch(err => showError(`Javascript Error: ${err.message}<br>This usually means there's a typo in your chart specification. See the javascript console for the full traceback.`));\n",
       "    }\n",
       "\n",
       "    if(typeof define === \"function\" && define.amd) {\n",
       "      requirejs.config({paths});\n",
       "      require([\"vega-embed\"], displayChart, err => showError(`Error loading script: ${err.message}`));\n",
       "    } else {\n",
       "      maybeLoadScript(\"vega\", \"5\")\n",
       "        .then(() => maybeLoadScript(\"vega-lite\", \"5.17.0\"))\n",
       "        .then(() => maybeLoadScript(\"vega-embed\", \"6\"))\n",
       "        .catch(showError)\n",
       "        .then(() => displayChart(vegaEmbed));\n",
       "    }\n",
       "  })({\"config\": {\"view\": {\"continuousWidth\": 300, \"continuousHeight\": 300}}, \"data\": {\"url\": \"altair-data-4cfcb332eaf9c954a3f31d3476d1b118.json\", \"format\": {\"type\": \"json\"}}, \"mark\": {\"type\": \"line\"}, \"encoding\": {\"color\": {\"field\": \"minute\", \"scale\": {\"scheme\": \"turbo\"}, \"type\": \"ordinal\"}, \"facet\": {\"columns\": 6, \"field\": \"hour\", \"type\": \"quantitative\"}, \"x\": {\"field\": \"median\", \"sort\": \"-y\", \"title\": \"Downvalley wind (m/s)\", \"type\": \"quantitative\"}, \"y\": {\"field\": \"z_binned\", \"title\": \"Height (m, agl)\", \"type\": \"quantitative\"}}, \"height\": 125, \"title\": \"Along-valley wind profiles on 2023-04-16\", \"width\": 125, \"$schema\": \"https://vega.github.io/schema/vega-lite/v5.17.0.json\"}, {\"mode\": \"vega-lite\"});\n",
       "</script>"
      ],
      "text/plain": [
       "alt.Chart(...)"
      ]
     },
     "execution_count": 4,
     "metadata": {},
     "output_type": "execute_result"
    }
   ],
   "source": [
    "src = dl_df[dl_df.scan_time.dt.date == dt.date(2023,4,16)].query(\"x_offset == -250\")\n",
    "src['hour'] = src.scan_time.dt.hour\n",
    "src['minute'] = src.scan_time.dt.minute\n",
    "src = src[src.z_binned < 800]\n",
    "alt.Chart(src).mark_line().encode(\n",
    "    alt.X(\"median:Q\").sort('-y').title(\"Downvalley wind (m/s)\"),\n",
    "    alt.Y(\"z_binned:Q\").title(\"Height (m, agl)\"),\n",
    "    alt.Color(\"minute:O\").scale(scheme='turbo'),\n",
    "    alt.Facet(\"hour\", columns=6)\n",
    ").properties(width = 125, height = 125, title = f\"Along-valley wind profiles on {str(src.scan_time.dt.date.iloc[0])}\")"
   ]
  },
  {
   "cell_type": "markdown",
   "metadata": {},
   "source": [
    "# Plot daytime/nighttime-averaged wind speed profiles over the season"
   ]
  },
  {
   "cell_type": "code",
   "execution_count": 5,
   "metadata": {},
   "outputs": [],
   "source": [
    "src = dl_df.query(\"x_offset == -250\").dropna()\n",
    "def categorize_daytime(hr):\n",
    "    if hr in [9,10,11,12,13,14,15]:\n",
    "        return 'day'\n",
    "    elif hr in [19,20,21,22,23,0,1,2,3,4,5]:\n",
    "        return 'night'\n",
    "    else:\n",
    "        return np.nan\n",
    "src.loc[:, ['daytime_category']] = src.scan_time.dt.hour.apply(categorize_daytime)\n",
    "src = src.dropna()\n",
    "src['date'] = src['scan_time'].dt.date\n",
    "src = src.groupby(['daytime_category', 'date', 'z_binned'])[\n",
    "    ['mean', 'median', 'std']\n",
    "].agg(\n",
    "    {'mean': 'mean', 'median': 'median', 'std': 'mean'}\n",
    ").reset_index()"
   ]
  },
  {
   "cell_type": "code",
   "execution_count": 6,
   "metadata": {},
   "outputs": [],
   "source": [
    "# Add upper bounds to z and to time for a hovmoller diagram\n",
    "upper_bound_to_lower_bound = dict(zip(\n",
    "    sorted(src.z_binned.unique()),\n",
    "    [0] + sorted(src.z_binned.unique())\n",
    "))\n",
    "src['z_high'] = src['z_binned']\n",
    "src['z_low'] = src['z_high'].apply(upper_bound_to_lower_bound.get)\n",
    "src['date_high'] = src['date'] + dt.timedelta(hours=24)"
   ]
  },
  {
   "cell_type": "code",
   "execution_count": 7,
   "metadata": {},
   "outputs": [
    {
     "data": {
      "text/html": [
       "\n",
       "<style>\n",
       "  #altair-viz-cf84feed565e46578cff5047bcac7e53.vega-embed {\n",
       "    width: 100%;\n",
       "    display: flex;\n",
       "  }\n",
       "\n",
       "  #altair-viz-cf84feed565e46578cff5047bcac7e53.vega-embed details,\n",
       "  #altair-viz-cf84feed565e46578cff5047bcac7e53.vega-embed details summary {\n",
       "    position: relative;\n",
       "  }\n",
       "</style>\n",
       "<div id=\"altair-viz-cf84feed565e46578cff5047bcac7e53\"></div>\n",
       "<script type=\"text/javascript\">\n",
       "  var VEGA_DEBUG = (typeof VEGA_DEBUG == \"undefined\") ? {} : VEGA_DEBUG;\n",
       "  (function(spec, embedOpt){\n",
       "    let outputDiv = document.currentScript.previousElementSibling;\n",
       "    if (outputDiv.id !== \"altair-viz-cf84feed565e46578cff5047bcac7e53\") {\n",
       "      outputDiv = document.getElementById(\"altair-viz-cf84feed565e46578cff5047bcac7e53\");\n",
       "    }\n",
       "    const paths = {\n",
       "      \"vega\": \"https://cdn.jsdelivr.net/npm/vega@5?noext\",\n",
       "      \"vega-lib\": \"https://cdn.jsdelivr.net/npm/vega-lib?noext\",\n",
       "      \"vega-lite\": \"https://cdn.jsdelivr.net/npm/vega-lite@5.17.0?noext\",\n",
       "      \"vega-embed\": \"https://cdn.jsdelivr.net/npm/vega-embed@6?noext\",\n",
       "    };\n",
       "\n",
       "    function maybeLoadScript(lib, version) {\n",
       "      var key = `${lib.replace(\"-\", \"\")}_version`;\n",
       "      return (VEGA_DEBUG[key] == version) ?\n",
       "        Promise.resolve(paths[lib]) :\n",
       "        new Promise(function(resolve, reject) {\n",
       "          var s = document.createElement('script');\n",
       "          document.getElementsByTagName(\"head\")[0].appendChild(s);\n",
       "          s.async = true;\n",
       "          s.onload = () => {\n",
       "            VEGA_DEBUG[key] = version;\n",
       "            return resolve(paths[lib]);\n",
       "          };\n",
       "          s.onerror = () => reject(`Error loading script: ${paths[lib]}`);\n",
       "          s.src = paths[lib];\n",
       "        });\n",
       "    }\n",
       "\n",
       "    function showError(err) {\n",
       "      outputDiv.innerHTML = `<div class=\"error\" style=\"color:red;\">${err}</div>`;\n",
       "      throw err;\n",
       "    }\n",
       "\n",
       "    function displayChart(vegaEmbed) {\n",
       "      vegaEmbed(outputDiv, spec, embedOpt)\n",
       "        .catch(err => showError(`Javascript Error: ${err.message}<br>This usually means there's a typo in your chart specification. See the javascript console for the full traceback.`));\n",
       "    }\n",
       "\n",
       "    if(typeof define === \"function\" && define.amd) {\n",
       "      requirejs.config({paths});\n",
       "      require([\"vega-embed\"], displayChart, err => showError(`Error loading script: ${err.message}`));\n",
       "    } else {\n",
       "      maybeLoadScript(\"vega\", \"5\")\n",
       "        .then(() => maybeLoadScript(\"vega-lite\", \"5.17.0\"))\n",
       "        .then(() => maybeLoadScript(\"vega-embed\", \"6\"))\n",
       "        .catch(showError)\n",
       "        .then(() => displayChart(vegaEmbed));\n",
       "    }\n",
       "  })({\"config\": {\"view\": {\"continuousWidth\": 300, \"continuousHeight\": 300}, \"legend\": {\"gradientLength\": 150, \"gradientThickness\": 20}}, \"vconcat\": [{\"data\": {\"url\": \"altair-data-e89df98404cc9547fba7bb8fb8b001f0.json\", \"format\": {\"type\": \"json\"}}, \"mark\": {\"type\": \"rect\"}, \"encoding\": {\"color\": {\"field\": \"median\", \"scale\": {\"scheme\": \"purpleorange\", \"domain\": [-6, 6], \"clamp\": true}, \"title\": [\"Downvalley\", \"windspeed (m/s)\"], \"type\": \"quantitative\"}, \"tooltip\": {\"field\": \"date\", \"type\": \"temporal\"}, \"x\": {\"field\": \"date\", \"title\": \"date\", \"type\": \"temporal\"}, \"x2\": {\"field\": \"date_high\"}, \"y\": {\"field\": \"z_low\", \"title\": \"Height (m, agl)\", \"type\": \"quantitative\"}, \"y2\": {\"field\": \"z_high\"}}, \"height\": 166.66, \"title\": \"Night time winds (1900 - 0500)\", \"width\": 500}, {\"data\": {\"url\": \"altair-data-e9677345d44d3b861423753d472977fb.json\", \"format\": {\"type\": \"json\"}}, \"mark\": {\"type\": \"rect\"}, \"encoding\": {\"color\": {\"field\": \"median\", \"scale\": {\"scheme\": \"purpleorange\", \"domain\": [-6, 6], \"clamp\": true}, \"title\": [\"Downvalley\", \"windspeed (m/s)\"], \"type\": \"quantitative\"}, \"tooltip\": {\"field\": \"date\", \"type\": \"temporal\"}, \"x\": {\"field\": \"date\", \"title\": \"date\", \"type\": \"temporal\"}, \"x2\": {\"field\": \"date_high\"}, \"y\": {\"field\": \"z_low\", \"title\": \"Height (m, agl)\", \"type\": \"quantitative\"}, \"y2\": {\"field\": \"z_high\"}}, \"height\": 166.66, \"title\": \"Day time winds (0900 - 1500)\", \"width\": 500}], \"$schema\": \"https://vega.github.io/schema/vega-lite/v5.17.0.json\"}, {\"mode\": \"vega-lite\"});\n",
       "</script>"
      ],
      "text/plain": [
       "alt.VConcatChart(...)"
      ]
     },
     "execution_count": 7,
     "metadata": {},
     "output_type": "execute_result"
    }
   ],
   "source": [
    "night_chart = alt.Chart(\n",
    "    src.query(\"daytime_category == 'night'\").query(\"z_binned < 600\")\n",
    ").mark_rect().encode(\n",
    "    alt.X(\"date:T\").title(\"date\"),\n",
    "    alt.X2(\"date_high:T\"),\n",
    "    alt.Y(\"z_low:Q\").title(\"Height (m, agl)\"),\n",
    "    alt.Y2(\"z_high:Q\"),\n",
    "    alt.Color(\"median:Q\").scale(scheme='purpleorange', domain=[-6,6], clamp=True).title([\"Downvalley\", \"windspeed (m/s)\"]),\n",
    "    tooltip = 'date'\n",
    ").properties(\n",
    "    width = 500, \n",
    "    height = 166.66,\n",
    "    title = \"Night time winds (1900 - 0500)\"\n",
    ")\n",
    "\n",
    "day_chart = alt.Chart(\n",
    "    src.query(\"daytime_category == 'day'\").query(\"z_binned < 600\")\n",
    ").mark_rect().encode(\n",
    "    alt.X(\"date:T\").title(\"date\"),\n",
    "    alt.X2(\"date_high:T\"),\n",
    "    alt.Y(\"z_low:Q\").title(\"Height (m, agl)\"),\n",
    "    alt.Y2(\"z_high:Q\"),\n",
    "    alt.Color(\"median:Q\").scale(scheme='purpleorange', domain=[-6,6], clamp=True).title([\"Downvalley\", \"windspeed (m/s)\"]),\n",
    "    tooltip = 'date'\n",
    ").properties(\n",
    "    width = 500, \n",
    "    height = 166.66,\n",
    "    title = \"Day time winds (0900 - 1500)\"\n",
    ")\n",
    "\n",
    "(night_chart & day_chart).configure_legend(gradientThickness=20, gradientLength = 150)"
   ]
  },
  {
   "cell_type": "markdown",
   "metadata": {},
   "source": [
    "# Identify strong/weak synoptics based on 500 mb wind speeds (from radiosonde data)"
   ]
  },
  {
   "cell_type": "code",
   "execution_count": null,
   "metadata": {},
   "outputs": [],
   "source": [
    "synoptic_windspeed_daily = synopticwinds_df.groupby(\n",
    "    [synopticwinds_df.time.dt.date, 'pressure']\n",
    ")[['wspd']].mean().reset_index().query(\"pressure == 500\")\n",
    "low_synoptic_dates = synoptic_windspeed_daily.query(\"wspd < 15\").time"
   ]
  },
  {
   "cell_type": "markdown",
   "metadata": {},
   "source": [
    "Plot the same as above, excluding strong synoptic days"
   ]
  },
  {
   "cell_type": "code",
   "execution_count": null,
   "metadata": {},
   "outputs": [],
   "source": [
    "\n",
    "alt.Chart(\n",
    "    src[src.date.isin(low_synoptic_dates)].query(\"daytime_category == 'night'\").query(\"z_binned < 600\")\n",
    ").mark_rect().encode(\n",
    "    alt.X(\"date:T\"),\n",
    "    alt.X2(\"date_high:T\"),\n",
    "    alt.Y(\"z_low:Q\"),\n",
    "    alt.Y2(\"z_high:Q\"),\n",
    "    alt.Color(\"median:Q\").scale(scheme='purpleorange', domain=[-6,6], clamp=True)\n",
    ").properties(width = 600, height = 200)"
   ]
  },
  {
   "cell_type": "code",
   "execution_count": null,
   "metadata": {},
   "outputs": [],
   "source": [
    "\n",
    "alt.Chart(\n",
    "    src[src.date.isin(low_synoptic_dates)].query(\"daytime_category == 'day'\").query(\"z_binned < 600\")\n",
    ").mark_rect().encode(\n",
    "    alt.X(\"date:T\"),\n",
    "    alt.X2(\"date_high:T\"),\n",
    "    alt.Y(\"z_low:Q\"),\n",
    "    alt.Y2(\"z_high:Q\"),\n",
    "    alt.Color(\"median:Q\").scale(scheme='purpleorange', domain=[-6,6], clamp=True)\n",
    ").properties(width = 600, height = 200)"
   ]
  },
  {
   "cell_type": "markdown",
   "metadata": {},
   "source": [
    "# Normalize wind speeds by synoptic wind speeds"
   ]
  },
  {
   "cell_type": "code",
   "execution_count": null,
   "metadata": {},
   "outputs": [],
   "source": [
    "synoptic_windspeed_daily.head()"
   ]
  },
  {
   "cell_type": "code",
   "execution_count": null,
   "metadata": {},
   "outputs": [],
   "source": [
    "src_normalized = src.merge(\n",
    "    synoptic_windspeed_daily,\n",
    "    left_on='date',\n",
    "    right_on = 'time',\n",
    "    how='left'\n",
    ")\n",
    "src_normalized['median_normalized'] = src_normalized['median'] / src_normalized['wspd']"
   ]
  },
  {
   "cell_type": "code",
   "execution_count": null,
   "metadata": {},
   "outputs": [],
   "source": [
    "night_chart = alt.Chart(\n",
    "    src_normalized.query(\"daytime_category == 'night'\").query(\"z_binned < 600\")\n",
    ").mark_rect().encode(\n",
    "    alt.X(\"date:T\").title(\"date\"),\n",
    "    alt.X2(\"date_high:T\"),\n",
    "    alt.Y(\"z_low:Q\").title(\"Height (m, agl)\"),\n",
    "    alt.Y2(\"z_high:Q\"),\n",
    "    alt.Color(\"median_normalized:Q\").scale(scheme='purpleorange', domain=[-0.5,0.5], clamp=True).title([\"Downvalley\", \"windspeed (m/s)\"]),\n",
    "    tooltip = 'date'\n",
    ").properties(\n",
    "    width = 500, \n",
    "    height = 166.66,\n",
    "    title = \"Night time winds (1900 - 0500)\"\n",
    ")\n",
    "\n",
    "day_chart = alt.Chart(\n",
    "    src_normalized.query(\"daytime_category == 'day'\").query(\"z_binned < 600\")\n",
    ").mark_rect().encode(\n",
    "    alt.X(\"date:T\").title(\"date\"),\n",
    "    alt.X2(\"date_high:T\"),\n",
    "    alt.Y(\"z_low:Q\").title(\"Height (m, agl)\"),\n",
    "    alt.Y2(\"z_high:Q\"),\n",
    "    alt.Color(\"median_normalized:Q\").scale(scheme='purpleorange', domain=[-0.5,0.5], clamp=True).title([\"Downvalley\", \"windspeed (m/s)\"]),\n",
    "    tooltip = 'date'\n",
    ").properties(\n",
    "    width = 500, \n",
    "    height = 166.66,\n",
    "    title = \"Day time winds (0900 - 1500)\"\n",
    ")\n",
    "\n",
    "(night_chart & day_chart).configure_legend(gradientThickness=20, gradientLength = 150)"
   ]
  },
  {
   "cell_type": "markdown",
   "metadata": {},
   "source": [
    "# Plot wind speed hovmoller diagram (using speeds 25 - 175m)"
   ]
  },
  {
   "cell_type": "code",
   "execution_count": null,
   "metadata": {},
   "outputs": [],
   "source": [
    "src = dl_df.query(\"x_offset == -250\").dropna()\n",
    "src = src[\n",
    "    (src.z_binned >= 25) &\n",
    "    (src.z_binned <= 175)\n",
    "]\n",
    "src = src.dropna()\n",
    "src['date'] = src['scan_time'].dt.date\n",
    "src['hour'] = src['scan_time'].dt.hour\n",
    "src = src.groupby(['date', 'hour'])[\n",
    "    ['mean', 'median', 'std']\n",
    "].agg(\n",
    "    {'mean': 'mean', 'median': 'median', 'std': 'mean'}\n",
    ").reset_index()\n",
    "\n",
    "# Add upper bounds to z and to time for a hovmoller diagram\n",
    "src['date_high'] = src['date'] + dt.timedelta(hours=24)\n",
    "src['hour_high'] = src['hour'] + 1\n",
    "\n",
    "src.head()"
   ]
  },
  {
   "cell_type": "code",
   "execution_count": null,
   "metadata": {},
   "outputs": [],
   "source": [
    "alt.Chart(\n",
    "    src\n",
    ").mark_rect().encode(\n",
    "    alt.X(\"date:T\").title(\"date\"),\n",
    "    alt.X2(\"date_high:T\"),\n",
    "    alt.Y(\"hour:Q\").title(\"hour of day\"),\n",
    "    alt.Y2(\"hour_high:Q\"),\n",
    "    alt.Color(\"median:Q\").scale(scheme='purpleorange', domain=[-6,6], clamp=True).title([\"Downvalley\", \"windspeed (m/s)\"]),\n",
    "    tooltip = 'date'\n",
    ").properties(\n",
    "    width = 500, \n",
    "    height = 166.66,\n",
    "    title = \"Average wind speed, 25 - 175m\"\n",
    ").display(renderer='svg')"
   ]
  },
  {
   "cell_type": "markdown",
   "metadata": {},
   "source": [
    "# Plot monthly-averaged vertical profiles"
   ]
  },
  {
   "cell_type": "code",
   "execution_count": null,
   "metadata": {},
   "outputs": [],
   "source": [
    "src = dl_df.query(\"x_offset == -250\").dropna()\n",
    "src = src.dropna()\n",
    "src['month'] = src['scan_time'].dt.month\n",
    "src['hour'] = src['scan_time'].dt.hour\n",
    "\n",
    "src = src.groupby(['month', 'hour', 'z_binned'])[\n",
    "    ['mean', 'median', 'std']\n",
    "].agg(\n",
    "    {'mean': 'mean', 'median': 'median', 'std': 'mean'}\n",
    ").reset_index()\n",
    "\n",
    "alt.Chart(\n",
    "    src.query(\"z_binned <= 625\").query(\"month < 6\")\n",
    ").mark_line().encode(\n",
    "    alt.X(\"mean:Q\").sort('-y'),\n",
    "    alt.Y(\"z_binned:Q\"),\n",
    "    alt.Color(\"month:O\").scale(scheme='turbo'),\n",
    "    alt.Facet(\"hour\", columns=6) \n",
    ").properties(width = 125, height = 125)"
   ]
  },
  {
   "cell_type": "code",
   "execution_count": null,
   "metadata": {},
   "outputs": [],
   "source": [
    "src = dl_df.query(\"x_offset == -250\").dropna()\n",
    "src = src.dropna()\n",
    "src['month'] = src['scan_time'].dt.month\n",
    "src['hour'] = src['scan_time'].dt.hour\n",
    "src['hour_group'] = pd.cut(\n",
    "    src['hour'], \n",
    "    [-1,2.5, 5.5, 8.5, 11.5, 14.5, 17.5, 20.5, 23.5],\n",
    "    labels=['00-02', '03-05', '06-08', '09-11', '12-14', '15-17', '18-20', '21-23']\n",
    ")\n",
    "\n",
    "src = src.groupby(['month', 'hour_group', 'z_binned'])[\n",
    "    ['mean', 'median', 'std']\n",
    "].agg(\n",
    "    {'mean': 'mean', 'median': 'median', 'std': 'mean'}\n",
    ").reset_index()\n",
    "\n",
    "alt.Chart(\n",
    "    src.query(\"z_binned <= 625\").query(\"month < 6\")\n",
    ").mark_line().encode(\n",
    "    alt.X(\"mean:Q\").sort('-y').title(\"Downvalley wind (m/s)\"),\n",
    "    alt.Y(\"z_binned:Q\").title(\"Height (m, agl)\"),\n",
    "    alt.Color(\"month:O\").scale(scheme='turbo'),\n",
    "    alt.Facet(\"hour_group\", columns=4).title(\"hours of day\")\n",
    ").properties(\n",
    "    width = 125, \n",
    "    height = 125,\n",
    "    title='Mean vertical profiles of valley wind for different parts of the day'\n",
    ").display(renderer='svg')"
   ]
  },
  {
   "cell_type": "code",
   "execution_count": null,
   "metadata": {},
   "outputs": [],
   "source": []
  },
  {
   "cell_type": "code",
   "execution_count": null,
   "metadata": {},
   "outputs": [],
   "source": []
  },
  {
   "cell_type": "code",
   "execution_count": 8,
   "metadata": {},
   "outputs": [],
   "source": [
    "src = dl_df[dl_df.x_offset == -250]\n",
    "src = src[src.scan_time.dt.date.isin([\n",
    "    dt.date(2023, 4, 16),\n",
    "    dt.date(2023, 6, 9)\n",
    "])]\n",
    "src = src.query(\"z_binned <= 650\")\n",
    "src['z_binned'] = src['z_binned'].replace({625: 600})\n",
    "src = src.set_index('scan_time').sort_index()\n",
    "src = src.groupby([pd.Grouper(freq='120Min'), 'z_binned'])[['median']].median().reset_index()\n",
    "src['date_str'] = src['scan_time'].dt.date.astype(str)\n",
    "src['hour'] = src['scan_time'].dt.hour\n",
    "src['hour'] = src['scan_time'].dt.hour\n",
    "src['time_category'] = pd.cut(\n",
    "    src['scan_time'].dt.hour,\n",
    "    [-0.5, 6.5, 14.5, 23.5],\n",
    "    labels = ['Morning (0000-0600)', 'Day (0800-1400)', 'Evening (1600-2200)']\n",
    ")"
   ]
  },
  {
   "cell_type": "code",
   "execution_count": 10,
   "metadata": {},
   "outputs": [
    {
     "data": {
      "text/html": [
       "\n",
       "<style>\n",
       "  #altair-viz-58e1c35c4f324b098c915c0ed3a953e6.vega-embed {\n",
       "    width: 100%;\n",
       "    display: flex;\n",
       "  }\n",
       "\n",
       "  #altair-viz-58e1c35c4f324b098c915c0ed3a953e6.vega-embed details,\n",
       "  #altair-viz-58e1c35c4f324b098c915c0ed3a953e6.vega-embed details summary {\n",
       "    position: relative;\n",
       "  }\n",
       "</style>\n",
       "<div id=\"altair-viz-58e1c35c4f324b098c915c0ed3a953e6\"></div>\n",
       "<script type=\"text/javascript\">\n",
       "  var VEGA_DEBUG = (typeof VEGA_DEBUG == \"undefined\") ? {} : VEGA_DEBUG;\n",
       "  (function(spec, embedOpt){\n",
       "    let outputDiv = document.currentScript.previousElementSibling;\n",
       "    if (outputDiv.id !== \"altair-viz-58e1c35c4f324b098c915c0ed3a953e6\") {\n",
       "      outputDiv = document.getElementById(\"altair-viz-58e1c35c4f324b098c915c0ed3a953e6\");\n",
       "    }\n",
       "    const paths = {\n",
       "      \"vega\": \"https://cdn.jsdelivr.net/npm/vega@5?noext\",\n",
       "      \"vega-lib\": \"https://cdn.jsdelivr.net/npm/vega-lib?noext\",\n",
       "      \"vega-lite\": \"https://cdn.jsdelivr.net/npm/vega-lite@5.17.0?noext\",\n",
       "      \"vega-embed\": \"https://cdn.jsdelivr.net/npm/vega-embed@6?noext\",\n",
       "    };\n",
       "\n",
       "    function maybeLoadScript(lib, version) {\n",
       "      var key = `${lib.replace(\"-\", \"\")}_version`;\n",
       "      return (VEGA_DEBUG[key] == version) ?\n",
       "        Promise.resolve(paths[lib]) :\n",
       "        new Promise(function(resolve, reject) {\n",
       "          var s = document.createElement('script');\n",
       "          document.getElementsByTagName(\"head\")[0].appendChild(s);\n",
       "          s.async = true;\n",
       "          s.onload = () => {\n",
       "            VEGA_DEBUG[key] = version;\n",
       "            return resolve(paths[lib]);\n",
       "          };\n",
       "          s.onerror = () => reject(`Error loading script: ${paths[lib]}`);\n",
       "          s.src = paths[lib];\n",
       "        });\n",
       "    }\n",
       "\n",
       "    function showError(err) {\n",
       "      outputDiv.innerHTML = `<div class=\"error\" style=\"color:red;\">${err}</div>`;\n",
       "      throw err;\n",
       "    }\n",
       "\n",
       "    function displayChart(vegaEmbed) {\n",
       "      vegaEmbed(outputDiv, spec, embedOpt)\n",
       "        .catch(err => showError(`Javascript Error: ${err.message}<br>This usually means there's a typo in your chart specification. See the javascript console for the full traceback.`));\n",
       "    }\n",
       "\n",
       "    if(typeof define === \"function\" && define.amd) {\n",
       "      requirejs.config({paths});\n",
       "      require([\"vega-embed\"], displayChart, err => showError(`Error loading script: ${err.message}`));\n",
       "    } else {\n",
       "      maybeLoadScript(\"vega\", \"5\")\n",
       "        .then(() => maybeLoadScript(\"vega-lite\", \"5.17.0\"))\n",
       "        .then(() => maybeLoadScript(\"vega-embed\", \"6\"))\n",
       "        .catch(showError)\n",
       "        .then(() => displayChart(vegaEmbed));\n",
       "    }\n",
       "  })({\"config\": {\"view\": {\"continuousWidth\": 300, \"continuousHeight\": 300}}, \"data\": {\"url\": \"altair-data-d1d82740d077c215611dc1ffa0273150.json\", \"format\": {\"type\": \"json\"}}, \"mark\": {\"type\": \"line\"}, \"encoding\": {\"color\": {\"field\": \"hour\", \"scale\": {\"scheme\": \"rainbow\"}, \"type\": \"ordinal\"}, \"column\": {\"field\": \"time_category\", \"header\": {\"labelFontSize\": 16, \"labelFontWeight\": \"bold\"}, \"sort\": [\"Morning (0000-0600)\", \"Day (0800-1400)\", \"Evening (1600-2200)\"], \"title\": null, \"type\": \"ordinal\"}, \"row\": {\"field\": \"date_str\", \"header\": {\"labelFontSize\": 16, \"labelFontWeight\": \"bold\"}, \"title\": null, \"type\": \"nominal\"}, \"x\": {\"field\": \"median\", \"sort\": \"-y\", \"title\": \"Downvalley velocity (m/s)\", \"type\": \"quantitative\"}, \"y\": {\"field\": \"z_binned\", \"title\": \"Height (m, agl)\", \"type\": \"quantitative\"}}, \"height\": 150, \"width\": 150, \"$schema\": \"https://vega.github.io/schema/vega-lite/v5.17.0.json\"}, {\"mode\": \"vega-lite\"});\n",
       "</script>"
      ],
      "text/plain": [
       "alt.Chart(...)"
      ]
     },
     "execution_count": 10,
     "metadata": {},
     "output_type": "execute_result"
    }
   ],
   "source": [
    "alt.Chart(src).mark_line().encode(\n",
    "    alt.X(\"median:Q\").sort('-y').title(\"Downvalley velocity (m/s)\"),\n",
    "    alt.Y(\"z_binned:Q\").title(\"Height (m, agl)\"),\n",
    "    alt.Color(\"hour:O\").scale(scheme='rainbow'),\n",
    "    alt.Row(\"date_str:N\").title(None).header(labelFontSize=16, labelFontWeight='bold'),\n",
    "    alt.Column(\"time_category:O\").sort(\n",
    "        ['Morning (0000-0600)', 'Day (0800-1400)', 'Evening (1600-2200)']\n",
    "    ).title(None).header(labelFontSize=16, labelFontWeight='bold'),\n",
    ").properties(width = 150, height = 150)"
   ]
  },
  {
   "cell_type": "code",
   "execution_count": null,
   "metadata": {},
   "outputs": [],
   "source": []
  },
  {
   "cell_type": "code",
   "execution_count": null,
   "metadata": {},
   "outputs": [],
   "source": []
  }
 ],
 "metadata": {
  "kernelspec": {
   "display_name": "sublimationofsnow",
   "language": "python",
   "name": "python3"
  },
  "language_info": {
   "codemirror_mode": {
    "name": "ipython",
    "version": 3
   },
   "file_extension": ".py",
   "mimetype": "text/x-python",
   "name": "python",
   "nbconvert_exporter": "python",
   "pygments_lexer": "ipython3",
   "version": "3.1.0"
  }
 },
 "nbformat": 4,
 "nbformat_minor": 2
}
