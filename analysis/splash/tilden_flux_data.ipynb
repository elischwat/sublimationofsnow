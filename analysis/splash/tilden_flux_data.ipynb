{
 "cells": [
  {
   "cell_type": "code",
   "execution_count": null,
   "id": "d7d48af1",
   "metadata": {},
   "outputs": [],
   "source": [
    "import numpy as np\n",
    "import pandas as pd\n",
    "pd.set_option('display.max_rows', 500)\n",
    "pd.set_option('display.max_columns', 500)\n",
    "\n",
    "import altair as alt\n",
    "alt.data_transformers.disable_max_rows()\n",
    "\n",
    "import datetime\n",
    "import seaborn as sns\n",
    "import matplotlib.pyplot as plt"
   ]
  },
  {
   "cell_type": "markdown",
   "id": "71ddcd93",
   "metadata": {},
   "source": [
    "## Set constants"
   ]
  },
  {
   "cell_type": "code",
   "execution_count": null,
   "id": "7c3f05a6",
   "metadata": {},
   "outputs": [],
   "source": [
    "latent_heat_of_sublimation_ice = 2838000 #J/kg\n",
    "weight_cubic_meter_of_water = 1000 # kg/m^3"
   ]
  },
  {
   "cell_type": "markdown",
   "id": "1df59d2b",
   "metadata": {},
   "source": [
    "## Read in data"
   ]
  },
  {
   "cell_type": "code",
   "execution_count": null,
   "id": "855f4816",
   "metadata": {},
   "outputs": [],
   "source": [
    "flux_df = pd.read_parquet('../data/tilden_fluxdata_consolidated.parquet')"
   ]
  },
  {
   "cell_type": "markdown",
   "id": "e2c1f930",
   "metadata": {},
   "source": [
    "## Sort data by date and set NODATA values to NaN"
   ]
  },
  {
   "cell_type": "code",
   "execution_count": null,
   "id": "899fc60b",
   "metadata": {},
   "outputs": [],
   "source": [
    "flux_df = flux_df.sort_values('date')\n",
    "\n",
    "flux_df = flux_df.replace(-999, np.nan)"
   ]
  },
  {
   "cell_type": "code",
   "execution_count": null,
   "id": "e59f2e66",
   "metadata": {},
   "outputs": [],
   "source": [
    "flux_df"
   ]
  },
  {
   "cell_type": "markdown",
   "id": "4668e676",
   "metadata": {},
   "source": [
    "## Limit data to the 2021 snow-on season"
   ]
  },
  {
   "cell_type": "code",
   "execution_count": null,
   "id": "2f2d2d7b",
   "metadata": {},
   "outputs": [],
   "source": [
    "flux_df = flux_df[flux_df['date'] > datetime.datetime(2021, 12, 6)]\n",
    "flux_df = flux_df[flux_df['date'] < datetime.datetime(2022, 4, 1)]"
   ]
  },
  {
   "cell_type": "markdown",
   "id": "ce5444fa",
   "metadata": {},
   "source": [
    "## Convert kelvin to celcius"
   ]
  },
  {
   "cell_type": "code",
   "execution_count": null,
   "id": "dccf9553",
   "metadata": {},
   "outputs": [],
   "source": [
    "flux_df['Tair'] = flux_df['Tair'] - 273.15"
   ]
  },
  {
   "cell_type": "markdown",
   "id": "3f992317",
   "metadata": {},
   "source": [
    "## Plot diurnal cycle of sublimation using latent heat flux estimates from the sonics (eddy covariance measurements)"
   ]
  },
  {
   "cell_type": "code",
   "execution_count": null,
   "id": "8c9242cd",
   "metadata": {},
   "outputs": [],
   "source": [
    "src = flux_df.copy()\n",
    "\n",
    "src = src.query(\"qc_LE == 0\")\n",
    "src = src.groupby([src['date'].dt.hour, 'height']).mean().reset_index() # latent heat flux in joules/m^2/sec AKA watts/m^2\n",
    "src['sublimation_rate'] = src['LE'] / latent_heat_of_sublimation_ice # kg/m^2/sec\n",
    "src['sublimation_rate'] = src['sublimation_rate'] / weight_cubic_meter_of_water # m/sec\n",
    "src['sublimation_rate'] = src['sublimation_rate'] * 1000 * 3600  # mm/hr\n",
    "\n",
    "alt.Chart(src).mark_line().encode(\n",
    "    alt.X('date', title='Hour'),\n",
    "    alt.Y('sublimation_rate', title='Sublimation/Deposition Rate (mm/hr)'),\n",
    "    alt.Color('height:N')\n",
    ")"
   ]
  },
  {
   "cell_type": "markdown",
   "id": "e3a226bf",
   "metadata": {},
   "source": [
    "## Plot diurnal cycle of wind direction"
   ]
  },
  {
   "cell_type": "code",
   "execution_count": null,
   "id": "128c3a48",
   "metadata": {},
   "outputs": [],
   "source": [
    "src = flux_df.copy()\n",
    "src = src.replace(-999, np.nan)\n",
    "src['hour'] = src['date'].dt.hour\n",
    "\n",
    "boxplot = alt.Chart(src).mark_boxplot(outliers={'size': 5}, color='lightgrey').encode(\n",
    "    x='hour:O',\n",
    "    y='wind_dir:Q'\n",
    ")\n",
    "\n",
    "src = src.groupby(src['date'].dt.hour).mean().reset_index() # latent heat flux in joules/m^2/sec AKA watts/m^2\n",
    "\n",
    "lineplot = alt.Chart(src).mark_line().encode(\n",
    "    alt.X('hour:O'),\n",
    "    alt.Y('wind_dir:Q')\n",
    ")\n",
    "\n",
    "boxplot + lineplot"
   ]
  },
  {
   "cell_type": "markdown",
   "id": "605ec256",
   "metadata": {},
   "source": [
    "## Plot diurnal cycle of vertical wind variance"
   ]
  },
  {
   "cell_type": "code",
   "execution_count": null,
   "id": "72965f55",
   "metadata": {},
   "outputs": [],
   "source": [
    "src = flux_df.copy()\n",
    "src = src.replace(-999, np.nan)\n",
    "src['hour'] = src['date'].dt.hour\n",
    "\n",
    "boxplot = alt.Chart(src).mark_boxplot(outliers={'size': 5}, color='lightgrey').encode(\n",
    "    x='hour:O',\n",
    "    y='w_unrot:Q'\n",
    ")\n",
    "\n",
    "boxplot_w_var = alt.Chart(src).mark_boxplot(outliers={'size': 5}, color='lightgrey').encode(\n",
    "    x='hour:O',\n",
    "    y='w_var:Q'\n",
    ")\n",
    "\n",
    "src = src.groupby(src['date'].dt.hour).mean().reset_index() # latent heat flux in joules/m^2/sec AKA watts/m^2\n",
    "\n",
    "lineplot = alt.Chart(src).mark_line().encode(\n",
    "    alt.X('hour:O'),\n",
    "    alt.Y('w_unrot:Q')\n",
    ")\n",
    "\n",
    "lineplot_w_var = alt.Chart(src).mark_line().encode(\n",
    "    alt.X('hour:O'),\n",
    "    alt.Y('w_var:Q')\n",
    ")\n",
    "\n",
    "(boxplot + lineplot) | (boxplot_w_var + lineplot_w_var)"
   ]
  },
  {
   "cell_type": "code",
   "execution_count": null,
   "id": "e186cd2e",
   "metadata": {},
   "outputs": [],
   "source": [
    "def create_nighttime_dataframe(start_date, end_date, night_start_hour = 18, night_end_hour = 6):\n",
    "    return pd.DataFrame({\n",
    "        'start_date': [datetime.datetime(start_date.year, start_date.month, start_date.day, 0)] + [start_date + datetime.timedelta(days=i) + datetime.timedelta(hours=night_start_hour) for i in range(0, (end_date - start_date).days)],\n",
    "        'end_date': [start_date + datetime.timedelta(days = i) + datetime.timedelta(hours = night_end_hour) for i in range(0, (end_date - start_date).days)] + [datetime.datetime(end_date.year, end_date.month, end_date.day, 0)]\n",
    "    })"
   ]
  },
  {
   "cell_type": "markdown",
   "id": "88cb994d",
   "metadata": {},
   "source": [
    "## Plot wind direction timeseries during a windy, generally clear period (February 10 - 13)"
   ]
  },
  {
   "cell_type": "markdown",
   "id": "a2c44b1c",
   "metadata": {},
   "source": [
    "### Read in KPS radar data"
   ]
  },
  {
   "cell_type": "code",
   "execution_count": null,
   "id": "f0e393e9",
   "metadata": {},
   "outputs": [],
   "source": [
    "radar_winds_df = pd.read_pickle(\"kp_radar_windspeed.pickle\")\n",
    "radar_winds_df['wind_direction'] = radar_winds_df['wind_direction'].apply(lambda dir: dir-360 if dir > 180 else dir)"
   ]
  },
  {
   "cell_type": "code",
   "execution_count": null,
   "id": "be6408c0",
   "metadata": {},
   "outputs": [],
   "source": [
    "radar_winds_df.height.unique()"
   ]
  },
  {
   "cell_type": "code",
   "execution_count": null,
   "id": "54f06637",
   "metadata": {},
   "outputs": [],
   "source": [
    "start_date = datetime.datetime(2022, 2, 6)\n",
    "end_date = datetime.datetime(2022, 2, 14)\n",
    "\n",
    "src = flux_df[flux_df['date'] > start_date]\n",
    "src = src[src['date'] < end_date]\n",
    "night_df = create_nighttime_dataframe(start_date, end_date, night_start_hour = 17, night_end_hour = 8)\n",
    "src['wind_dir'] = src['wind_dir'].apply(lambda dir: dir-360 if dir > 180 else dir)\n",
    "\n",
    "wind_dir_plot = (\n",
    "    alt.Chart(night_df).mark_rect(color='grey', opacity=0.2).encode(\n",
    "        alt.X('start_date:T'),\n",
    "        alt.X2('end_date')\n",
    "    ) + alt.Chart(src).mark_point().encode(\n",
    "        alt.X(\n",
    "            'date:T', \n",
    "            title='Hour',\n",
    "            axis = alt.Axis(format = (\"%H\")),\n",
    "        ), \n",
    "        alt.Y(\n",
    "            'wind_dir:Q',\n",
    "            title='Wind Direction',\n",
    "            scale=alt.Scale(domain=[-180, 180], nice=False), \n",
    "            axis=alt.Axis(\n",
    "                values=[-180, -90, 0, 90, 180],\n",
    "            )\n",
    "        ),\n",
    "        alt.Color('height:N')\n",
    "    ).properties(\n",
    "        title=f'Wind direction during a windy and clear period, {start_date.strftime(\"%m-%d\")} through {end_date.strftime(\"%m-%d\")}',\n",
    "        width=1200\n",
    "    ) + alt.Chart(radar_winds_df).transform_filter(alt.datum.height < 15).mark_point(size=25, color='black', strokeWidth=3).encode(\n",
    "            alt.X('time:T'),\n",
    "            alt.Y('wind_direction')\n",
    "        )\n",
    ")"
   ]
  },
  {
   "cell_type": "code",
   "execution_count": null,
   "id": "5b4f7bfe",
   "metadata": {},
   "outputs": [],
   "source": [
    "wind_speed_plot = (\n",
    "    alt.Chart(night_df).mark_rect(color='grey', opacity=0.2).encode(\n",
    "        alt.X('start_date:T'),\n",
    "        alt.X2('end_date')\n",
    "    ) + alt.Chart(src).mark_point().encode(\n",
    "        alt.X(\n",
    "            'date:T', \n",
    "            title='Hour',\n",
    "            axis = alt.Axis(format = (\"%H\")),\n",
    "        ), \n",
    "        alt.Y(\n",
    "            'wind_speed:Q',\n",
    "            title='Wind Speed',\n",
    "            # scale=alt.Scale(domain=[-180, 180], nice=False), \n",
    "            # axis=alt.Axis(\n",
    "            #     values=[-180, -90, 0, 90, 180],\n",
    "            # )\n",
    "        ),\n",
    "        alt.Color('height:N')\n",
    "    ).properties(\n",
    "        title=f'Wind Speed during a windy and clear period, {start_date.strftime(\"%m-%d\")} through {end_date.strftime(\"%m-%d\")}',\n",
    "        width=1200\n",
    "    ) + alt.Chart(radar_winds_df).transform_filter(alt.datum.height < 15).mark_point(size=25, color='black', strokeWidth=3).encode(\n",
    "            alt.X('time:T'),\n",
    "            alt.Y('wind_speed')\n",
    "        )\n",
    ")"
   ]
  },
  {
   "cell_type": "code",
   "execution_count": null,
   "id": "6891de2d",
   "metadata": {},
   "outputs": [],
   "source": [
    "le_flux_plot = (\n",
    "    alt.Chart(night_df).mark_rect(color='grey', opacity=0.2).encode(\n",
    "        alt.X('start_date:T'),\n",
    "        alt.X2('end_date')\n",
    "    ) + alt.Chart(src).transform_filter(alt.datum.height == 3).mark_line().encode(\n",
    "        alt.X(\n",
    "            'date:T', \n",
    "            title='Hour',\n",
    "            axis = alt.Axis(format = (\"%H\")),\n",
    "        ), \n",
    "        alt.Y(\n",
    "            'LE:Q',\n",
    "            title='Latent Heat Flux',\n",
    "            # scale=alt.Scale(domain=[-180, 180], nice=False), \n",
    "            # axis=alt.Axis(\n",
    "            #     values=[-180, -90, 0, 90, 180],\n",
    "            # )\n",
    "        ),\n",
    "        alt.Color('height:N')\n",
    "    ).properties(\n",
    "        title=f'Latent Heat Flux during a windy and clear period, {start_date.strftime(\"%m-%d\")} through {end_date.strftime(\"%m-%d\")}',\n",
    "        height=200,\n",
    "        width=1200\n",
    "    )\n",
    ")"
   ]
  },
  {
   "cell_type": "code",
   "execution_count": null,
   "id": "3557f1f5",
   "metadata": {},
   "outputs": [],
   "source": [
    "rh_change_plot = (\n",
    "    alt.Chart(night_df).mark_rect(color='grey', opacity=0.2).encode(\n",
    "        alt.X('start_date:T'),\n",
    "        alt.X2('end_date')\n",
    "    ) + alt.Chart(src).transform_filter(alt.datum.height == 3).mark_line().encode(\n",
    "        alt.X(\n",
    "            'date:T', \n",
    "            title='Hour',\n",
    "            axis = alt.Axis(format = (\"%H\")),\n",
    "        ), \n",
    "        alt.Y(\n",
    "            'RH:Q',\n",
    "            title='Relative Humidity',\n",
    "            # scale=alt.Scale(domain=[-180, 180], nice=False), \n",
    "            # axis=alt.Axis(\n",
    "            #     values=[-180, -90, 0, 90, 180],\n",
    "            # )\n",
    "        ),\n",
    "        alt.Color('height:N')\n",
    "    ).properties(\n",
    "        title=f'Relative humidity during a windy and clear period, {start_date.strftime(\"%m-%d\")} through {end_date.strftime(\"%m-%d\")}',\n",
    "        height=200,\n",
    "        width=1200\n",
    "    )\n",
    ")"
   ]
  },
  {
   "cell_type": "code",
   "execution_count": null,
   "id": "c1629651",
   "metadata": {},
   "outputs": [],
   "source": [
    "w_unrot_plot = (\n",
    "    alt.Chart(night_df).mark_rect(color='grey', opacity=0.2).encode(\n",
    "        alt.X('start_date:T'),\n",
    "        alt.X2('end_date')\n",
    "    ) + alt.Chart(src).transform_filter(alt.datum.height == 3).mark_line().encode(\n",
    "        alt.X(\n",
    "            'date:T', \n",
    "            title='Hour',\n",
    "            axis = alt.Axis(format = (\"%H\")),\n",
    "        ), \n",
    "        alt.Y(\n",
    "            'w_unrot:Q',\n",
    "            title='Vertical velocity',\n",
    "            # scale=alt.Scale(domain=[-180, 180], nice=False), \n",
    "            # axis=alt.Axis(\n",
    "            #     values=[-180, -90, 0, 90, 180],\n",
    "            # )\n",
    "        ),\n",
    "        alt.Color('height:N')\n",
    "    ).properties(\n",
    "        title=f'Vertical velocity during a windy and clear period, {start_date.strftime(\"%m-%d\")} through {end_date.strftime(\"%m-%d\")}',\n",
    "        height=200,\n",
    "        width=1200\n",
    "    )\n",
    ")"
   ]
  },
  {
   "cell_type": "code",
   "execution_count": null,
   "id": "518b3445",
   "metadata": {},
   "outputs": [],
   "source": [
    "w_var_plot = (\n",
    "    alt.Chart(night_df).mark_rect(color='grey', opacity=0.2).encode(\n",
    "        alt.X('start_date:T'),\n",
    "        alt.X2('end_date')\n",
    "    ) + alt.Chart(src).transform_filter(alt.datum.height == 3).mark_line().encode(\n",
    "        alt.X(\n",
    "            'date:T', \n",
    "            title='Hour',\n",
    "            axis = alt.Axis(format = (\"%H\")),\n",
    "        ), \n",
    "        alt.Y(\n",
    "            'w_var:Q',\n",
    "            title='Vertical velocity variance',\n",
    "            # scale=alt.Scale(domain=[-180, 180], nice=False), \n",
    "            # axis=alt.Axis(\n",
    "            #     values=[-180, -90, 0, 90, 180],\n",
    "            # )\n",
    "        ),\n",
    "        alt.Color('height:N')\n",
    "    ).properties(\n",
    "        title=f'Vertical velocity variance during a windy and clear period, {start_date.strftime(\"%m-%d\")} through {end_date.strftime(\"%m-%d\")}',\n",
    "        height=200,\n",
    "        width=1200\n",
    "    )\n",
    ")"
   ]
  },
  {
   "cell_type": "code",
   "execution_count": null,
   "id": "6ebe6653",
   "metadata": {},
   "outputs": [],
   "source": [
    "(wind_dir_plot & wind_speed_plot & le_flux_plot & rh_change_plot & w_var_plot & w_unrot_plot).display(renderer='svg')"
   ]
  },
  {
   "cell_type": "markdown",
   "id": "04376d01",
   "metadata": {},
   "source": [
    "## Explore radar wind profiles"
   ]
  },
  {
   "cell_type": "code",
   "execution_count": null,
   "id": "88bd1e0c",
   "metadata": {},
   "outputs": [],
   "source": [
    "radar_winds_df['wind_speed_lower_bound'] = radar_winds_df['wind_speed'] - radar_winds_df['wind_speed_error']\n",
    "radar_winds_df['wind_speed_upper_bound'] = radar_winds_df['wind_speed'] + radar_winds_df['wind_speed_error']"
   ]
  },
  {
   "cell_type": "code",
   "execution_count": null,
   "id": "b99231d5",
   "metadata": {},
   "outputs": [],
   "source": [
    "radar_winds_df"
   ]
  },
  {
   "cell_type": "code",
   "execution_count": null,
   "id": "37d1ad16",
   "metadata": {},
   "outputs": [],
   "source": [
    "radar_wind_speed_profile_plots = (\n",
    "    alt.Chart(radar_winds_df).transform_filter(\n",
    "        alt.datum.height <= 200\n",
    "    ).transform_filter(\n",
    "        alt.datum.wind_speed_error <= 50\n",
    "    ).mark_line().encode(\n",
    "        alt.X('wind_speed', title='Wind Speed', scale=alt.Scale(domain=[-10, 60]), sort='y'),\n",
    "        alt.Y('height')\n",
    "    ) \n",
    "        +\n",
    "    alt.Chart(radar_winds_df).transform_filter(\n",
    "        alt.datum.height <= 200\n",
    "    ).transform_filter(\n",
    "        alt.datum.wind_speed_error <= 50\n",
    "    ).mark_line().encode(\n",
    "        alt.X('wind_speed_lower_bound:Q'),\n",
    "        alt.X2('wind_speed_upper_bound:Q'),\n",
    "        alt.Y('height:Q')\n",
    "    ) \n",
    "\n",
    ").properties(width=100).facet(\n",
    "    column=alt.Column(\n",
    "        'time:T', \n",
    "        header=alt.Header(format=\"%m %d %H:%M\")\n",
    "    )\n",
    ")"
   ]
  },
  {
   "cell_type": "code",
   "execution_count": null,
   "id": "0ef44ac4",
   "metadata": {},
   "outputs": [],
   "source": [
    "radar_wind_direction_profile_plots = (\n",
    "    alt.Chart(radar_winds_df).transform_filter(\n",
    "        alt.datum.height <= 200\n",
    "    ).transform_filter(\n",
    "        alt.datum.wind_speed_error <= 50\n",
    "    ).mark_line().encode(\n",
    "        alt.X('wind_direction', title='Wind Direction',\n",
    "         scale=alt.Scale(domain=[-180, 180], nice=False), \n",
    "         axis=alt.Axis(\n",
    "                values=[-180, -90, 0, 90, 180],\n",
    "            ),\n",
    "        sort='y'\n",
    "        ),\n",
    "        alt.Y('height')\n",
    "    ) \n",
    ").properties(width=100).facet(\n",
    "    column=alt.Column(\n",
    "        'time:T', \n",
    "        header=alt.Header(format=\"%m %d %H:%M\")\n",
    "    )\n",
    ")"
   ]
  },
  {
   "cell_type": "code",
   "execution_count": null,
   "id": "29c35a61",
   "metadata": {},
   "outputs": [],
   "source": [
    "radar_wind_speed_profile_plots & radar_wind_direction_profile_plots"
   ]
  }
 ],
 "metadata": {
  "kernelspec": {
   "display_name": "Python 3.9.0 64-bit",
   "language": "python",
   "name": "python3"
  }
 },
 "nbformat": 4,
 "nbformat_minor": 5
}
