{
 "cells": [
  {
   "cell_type": "markdown",
   "metadata": {},
   "source": [
    "# Prep data\n",
    "\n",
    "This is unnecessary to run if you have the \"case_study.csv\" dataset locally."
   ]
  },
  {
   "cell_type": "code",
   "execution_count": 1,
   "metadata": {},
   "outputs": [],
   "source": [
    "# import pandas as pd\n",
    "# from sublimpy import tidy, utils"
   ]
  },
  {
   "cell_type": "code",
   "execution_count": 2,
   "metadata": {},
   "outputs": [],
   "source": [
    "# start_date = '20221130'\n",
    "# end_date = '20230509'\n",
    "\n",
    "# # open files\n",
    "# tidy_df = pd.read_parquet(f'../paper1/tidy_df_{start_date}_{end_date}_noplanar_fit.parquet')\n",
    "\n",
    "# # convert time column to datetime\n",
    "# tidy_df['time'] = pd.to_datetime(tidy_df['time'])\n",
    "# tidy_df = utils.modify_df_timezone(tidy_df, 'UTC', 'US/Mountain')\n",
    "\n",
    "# # limit data to our dates of interest, based on continuous snow cover at Kettle Ponds\n",
    "# tidy_df = tidy_df.set_index('time').sort_index().loc[start_date:end_date].reset_index()\n",
    "\n",
    "# ## Add combined blowing snow flux variable\n",
    "# tidy_df = tidy.tidy_df_add_variable(\n",
    "#     tidy_df,\n",
    "#     (\n",
    "#         tidy_df.query(\"variable == 'SF_avg_1m_ue'\")['value'].values + \n",
    "#         tidy_df.query(\"variable == 'SF_avg_2m_ue'\")['value'].values\n",
    "#     ), \n",
    "#     'SF_avg_ue',\n",
    "#     'snow flux',\n",
    "#     1,\n",
    "#     'ue',\n",
    "# )"
   ]
  },
  {
   "cell_type": "code",
   "execution_count": 3,
   "metadata": {},
   "outputs": [],
   "source": [
    "# case_src = tidy_df[(tidy_df.time >= '4/15/2023') & (tidy_df.time < '4/20/2023')]\n",
    "# case_src = case_src[case_src.measurement.isin(['temperature', 'surface temperature', 'relative humidity', 'specific humidity', 'relative humidity', 'w_h2o_', 'snow flux', 'snow depth'])]\n",
    "# case_src = case_src[~ case_src.variable.str.contains(\"predicted\")]"
   ]
  },
  {
   "cell_type": "code",
   "execution_count": 4,
   "metadata": {},
   "outputs": [],
   "source": [
    "# case_src_wide = case_src.pivot_table(\n",
    "#     index = 'time',\n",
    "#     columns='variable',\n",
    "#     values='value'\n",
    "# ).reset_index()"
   ]
  },
  {
   "cell_type": "code",
   "execution_count": 5,
   "metadata": {},
   "outputs": [],
   "source": [
    "# case_src.to_csv(\"case_study_tidy.csv\", index=False)"
   ]
  },
  {
   "cell_type": "code",
   "execution_count": 6,
   "metadata": {},
   "outputs": [],
   "source": [
    "# case_src_wide.to_csv(\"case_study_wide.csv\", index=False)"
   ]
  },
  {
   "cell_type": "markdown",
   "metadata": {},
   "source": [
    "# Run analysis\n",
    "\n",
    "Read in \"case_study.csv\" and analyze the data"
   ]
  },
  {
   "cell_type": "code",
   "execution_count": 7,
   "metadata": {},
   "outputs": [
    {
     "data": {
      "text/plain": [
       "RendererRegistry.enable('jupyterlab')"
      ]
     },
     "execution_count": 7,
     "metadata": {},
     "output_type": "execute_result"
    }
   ],
   "source": [
    "import altair as alt\n",
    "import pandas as pd\n",
    "alt.data_transformers.enable('json')\n",
    "alt.renderers.enable('jupyterlab')"
   ]
  },
  {
   "cell_type": "code",
   "execution_count": 8,
   "metadata": {},
   "outputs": [
    {
     "data": {
      "text/html": [
       "<div>\n",
       "<style scoped>\n",
       "    .dataframe tbody tr th:only-of-type {\n",
       "        vertical-align: middle;\n",
       "    }\n",
       "\n",
       "    .dataframe tbody tr th {\n",
       "        vertical-align: top;\n",
       "    }\n",
       "\n",
       "    .dataframe thead th {\n",
       "        text-align: right;\n",
       "    }\n",
       "</style>\n",
       "<table border=\"1\" class=\"dataframe\">\n",
       "  <thead>\n",
       "    <tr style=\"text-align: right;\">\n",
       "      <th></th>\n",
       "      <th>time</th>\n",
       "      <th>variable</th>\n",
       "      <th>value</th>\n",
       "      <th>height</th>\n",
       "      <th>tower</th>\n",
       "      <th>measurement</th>\n",
       "    </tr>\n",
       "  </thead>\n",
       "  <tbody>\n",
       "    <tr>\n",
       "      <th>0</th>\n",
       "      <td>2023-04-15</td>\n",
       "      <td>w_h2o__1m_ue</td>\n",
       "      <td>0.000000</td>\n",
       "      <td>1.0</td>\n",
       "      <td>ue</td>\n",
       "      <td>w_h2o_</td>\n",
       "    </tr>\n",
       "    <tr>\n",
       "      <th>1</th>\n",
       "      <td>2023-04-15</td>\n",
       "      <td>T_18m_c</td>\n",
       "      <td>-5.653895</td>\n",
       "      <td>18.0</td>\n",
       "      <td>c</td>\n",
       "      <td>temperature</td>\n",
       "    </tr>\n",
       "    <tr>\n",
       "      <th>2</th>\n",
       "      <td>2023-04-15</td>\n",
       "      <td>w_h2o__1m_d</td>\n",
       "      <td>0.000000</td>\n",
       "      <td>1.0</td>\n",
       "      <td>d</td>\n",
       "      <td>w_h2o_</td>\n",
       "    </tr>\n",
       "    <tr>\n",
       "      <th>3</th>\n",
       "      <td>2023-04-15</td>\n",
       "      <td>specifichumidity_6m_c</td>\n",
       "      <td>0.003116</td>\n",
       "      <td>6.0</td>\n",
       "      <td>c</td>\n",
       "      <td>specific humidity</td>\n",
       "    </tr>\n",
       "    <tr>\n",
       "      <th>4</th>\n",
       "      <td>2023-04-15</td>\n",
       "      <td>w_h2o__5m_c</td>\n",
       "      <td>0.001834</td>\n",
       "      <td>5.0</td>\n",
       "      <td>c</td>\n",
       "      <td>w_h2o_</td>\n",
       "    </tr>\n",
       "  </tbody>\n",
       "</table>\n",
       "</div>"
      ],
      "text/plain": [
       "        time               variable     value  height tower        measurement\n",
       "0 2023-04-15           w_h2o__1m_ue  0.000000     1.0    ue             w_h2o_\n",
       "1 2023-04-15                T_18m_c -5.653895    18.0     c        temperature\n",
       "2 2023-04-15            w_h2o__1m_d  0.000000     1.0     d             w_h2o_\n",
       "3 2023-04-15  specifichumidity_6m_c  0.003116     6.0     c  specific humidity\n",
       "4 2023-04-15            w_h2o__5m_c  0.001834     5.0     c             w_h2o_"
      ]
     },
     "execution_count": 8,
     "metadata": {},
     "output_type": "execute_result"
    }
   ],
   "source": [
    "case_src = pd.read_csv(\"case_study_tidy.csv\")\n",
    "case_src.time = pd.to_datetime(case_src.time)\n",
    "case_src.head()"
   ]
  },
  {
   "cell_type": "code",
   "execution_count": 9,
   "metadata": {},
   "outputs": [],
   "source": [
    "bs_flux_and_snow_depth_chart = (\n",
    "    alt.Chart(\n",
    "        case_src.query(\"variable == 'SF_avg_ue'\")\n",
    "    ).mark_line().encode(\n",
    "        alt.X(\"time:T\"),\n",
    "        alt.Y(\"value:Q\").scale(type='symlog').title(\n",
    "            \"Blowing snow flux (g/m^2/s)\"\n",
    "        )\n",
    "    ).properties(height = 200) \n",
    "    + \n",
    "    alt.Chart(\n",
    "        case_src.query(\"variable == 'SnowDepth_c'\")\n",
    "    ).mark_line().encode(\n",
    "        alt.X(\"time:T\"),\n",
    "        alt.Y(\"value:Q\").scale(type='symlog').title(\n",
    "            \"Snow depth (m)\"\n",
    "        )\n",
    "    ).properties(height = 200)\n",
    ").resolve_scale(y='independent')"
   ]
  },
  {
   "cell_type": "code",
   "execution_count": 10,
   "metadata": {},
   "outputs": [
    {
     "name": "stderr",
     "output_type": "stream",
     "text": [
      "/var/folders/x_/2h52bcjx2px15bhmdpdd748h0000gn/T/ipykernel_42927/1771112374.py:2: UserWarning: Boolean Series key will be reindexed to match DataFrame index.\n",
      "  case_src[\n"
     ]
    }
   ],
   "source": [
    "hl_flux_chart = alt.Chart(\n",
    "    case_src[\n",
    "        case_src.time.dt.minute == 0\n",
    "    ][\n",
    "        case_src.time.dt.hour % 2 == 0\n",
    "    ].query(\n",
    "        \"measurement == 'w_h2o_'\"\n",
    "    ).query(\n",
    "        \"tower == 'c'\"\n",
    "    ).query(\"height > 1\")\n",
    ").mark_line().encode(\n",
    "    alt.X(\"value:Q\").sort('-y').title(\"<w'q'> (g/m²/s)\"),\n",
    "    alt.Y(\"height:Q\").title(\"Height (m)\"),\n",
    "    alt.Color(\"hours(time):O\").scale(scheme='rainbow'),\n",
    "    alt.Facet(\"date(time):T\")\n",
    ").properties(\n",
    "    width=200, \n",
    "    height = 200\n",
    ")"
   ]
  },
  {
   "cell_type": "code",
   "execution_count": 11,
   "metadata": {},
   "outputs": [
    {
     "name": "stderr",
     "output_type": "stream",
     "text": [
      "/var/folders/x_/2h52bcjx2px15bhmdpdd748h0000gn/T/ipykernel_42927/2652316108.py:2: UserWarning: Boolean Series key will be reindexed to match DataFrame index.\n",
      "  case_src[\n",
      "/var/folders/x_/2h52bcjx2px15bhmdpdd748h0000gn/T/ipykernel_42927/2652316108.py:2: UserWarning: Boolean Series key will be reindexed to match DataFrame index.\n",
      "  case_src[\n"
     ]
    }
   ],
   "source": [
    "temp_chart = alt.Chart(\n",
    "    case_src[\n",
    "        case_src.time.dt.minute == 0\n",
    "    ][\n",
    "        case_src.time.dt.hour % 2 == 0\n",
    "    ][\n",
    "        case_src.measurement.isin(['temperature', 'surface temperature'])\n",
    "    ].query(\"tower == 'c'\")\n",
    ").mark_line().encode(\n",
    "    alt.X(\"value:Q\").sort('-y').title(\"Temperature (˚C)\"),\n",
    "    alt.Y(\"height:Q\").title(\"Height (m)\"),\n",
    "    alt.Color(\"hours(time):O\").scale(scheme='rainbow'),\n",
    "    alt.Facet(\"date(time):T\")\n",
    ").properties(\n",
    "    width=200, \n",
    "    height = 200\n",
    ")"
   ]
  },
  {
   "cell_type": "code",
   "execution_count": 12,
   "metadata": {},
   "outputs": [
    {
     "name": "stderr",
     "output_type": "stream",
     "text": [
      "/var/folders/x_/2h52bcjx2px15bhmdpdd748h0000gn/T/ipykernel_42927/1741176887.py:2: UserWarning: Boolean Series key will be reindexed to match DataFrame index.\n",
      "  case_src[\n"
     ]
    }
   ],
   "source": [
    "spechumidity_chart = alt.Chart(\n",
    "    case_src[\n",
    "        case_src.time.dt.minute == 0\n",
    "    ][\n",
    "        case_src.time.dt.hour % 2 == 0\n",
    "    ].query(\n",
    "        \"measurement == 'specific humidity'\"\n",
    "    ).query(\n",
    "        \"tower == 'c'\"\n",
    "    )\n",
    ").mark_line().encode(\n",
    "    alt.X(\"value:Q\").sort('-y').title(\"Specific humidity (g/g)\"),\n",
    "    alt.Y(\"height:Q\").title(\"Height (m)\"),\n",
    "    alt.Color(\"hours(time):O\").scale(scheme='rainbow'),\n",
    "    alt.Facet(\"date(time):T\")\n",
    ").properties(\n",
    "    width=200, \n",
    "    height = 200\n",
    ")"
   ]
  },
  {
   "cell_type": "code",
   "execution_count": 13,
   "metadata": {},
   "outputs": [
    {
     "data": {
      "application/vnd.vegalite.v5+json": {
       "$schema": "https://vega.github.io/schema/vega-lite/v5.17.0.json",
       "config": {
        "view": {
         "continuousHeight": 300,
         "continuousWidth": 300
        }
       },
       "resolve": {
        "scale": {
         "color": "independent"
        }
       },
       "vconcat": [
        {
         "height": 200,
         "layer": [
          {
           "data": {
            "format": {
             "type": "json"
            },
            "url": "altair-data-7f4f2026ad79023a833e8a4368013e98.json"
           },
           "encoding": {
            "x": {
             "field": "time",
             "type": "temporal"
            },
            "y": {
             "field": "value",
             "scale": {
              "type": "symlog"
             },
             "title": "Blowing snow flux (g/m^2/s)",
             "type": "quantitative"
            }
           },
           "mark": {
            "type": "line"
           }
          },
          {
           "data": {
            "format": {
             "type": "json"
            },
            "url": "altair-data-cdb4808c7fc2d53f2a92fef3540c7a07.json"
           },
           "encoding": {
            "x": {
             "field": "time",
             "type": "temporal"
            },
            "y": {
             "field": "value",
             "scale": {
              "type": "symlog"
             },
             "title": "Snow depth (m)",
             "type": "quantitative"
            }
           },
           "mark": {
            "type": "line"
           }
          }
         ],
         "resolve": {
          "scale": {
           "y": "independent"
          }
         }
        },
        {
         "data": {
          "format": {
           "type": "json"
          },
          "url": "altair-data-044a2c63be32aece7f3997e34d324ed0.json"
         },
         "encoding": {
          "color": {
           "field": "time",
           "scale": {
            "scheme": "rainbow"
           },
           "timeUnit": "hours",
           "type": "ordinal"
          },
          "facet": {
           "field": "time",
           "timeUnit": "date",
           "type": "temporal"
          },
          "x": {
           "field": "value",
           "sort": "-y",
           "title": "<w'q'> (g/m²/s)",
           "type": "quantitative"
          },
          "y": {
           "field": "height",
           "title": "Height (m)",
           "type": "quantitative"
          }
         },
         "height": 200,
         "mark": {
          "type": "line"
         },
         "width": 200
        },
        {
         "data": {
          "format": {
           "type": "json"
          },
          "url": "altair-data-50da87dc96a6f2d2a0e54342565f6ad7.json"
         },
         "encoding": {
          "color": {
           "field": "time",
           "scale": {
            "scheme": "rainbow"
           },
           "timeUnit": "hours",
           "type": "ordinal"
          },
          "facet": {
           "field": "time",
           "timeUnit": "date",
           "type": "temporal"
          },
          "x": {
           "field": "value",
           "sort": "-y",
           "title": "Temperature (˚C)",
           "type": "quantitative"
          },
          "y": {
           "field": "height",
           "title": "Height (m)",
           "type": "quantitative"
          }
         },
         "height": 200,
         "mark": {
          "type": "line"
         },
         "width": 200
        },
        {
         "data": {
          "format": {
           "type": "json"
          },
          "url": "altair-data-a438f065af40c5d4b877f5441deb429e.json"
         },
         "encoding": {
          "color": {
           "field": "time",
           "scale": {
            "scheme": "rainbow"
           },
           "timeUnit": "hours",
           "type": "ordinal"
          },
          "facet": {
           "field": "time",
           "timeUnit": "date",
           "type": "temporal"
          },
          "x": {
           "field": "value",
           "sort": "-y",
           "title": "Specific humidity (g/g)",
           "type": "quantitative"
          },
          "y": {
           "field": "height",
           "title": "Height (m)",
           "type": "quantitative"
          }
         },
         "height": 200,
         "mark": {
          "type": "line"
         },
         "width": 200
        }
       ]
      },
      "text/plain": [
       "<VegaLite 5 object>\n",
       "\n",
       "If you see this message, it means the renderer has not been properly enabled\n",
       "for the frontend that you are using. For more information, see\n",
       "https://altair-viz.github.io/user_guide/display_frontends.html#troubleshooting\n"
      ]
     },
     "execution_count": 13,
     "metadata": {},
     "output_type": "execute_result"
    }
   ],
   "source": [
    "combo_chart = (\n",
    "    bs_flux_and_snow_depth_chart & hl_flux_chart & temp_chart & spechumidity_chart\n",
    ").resolve_scale(\n",
    "    color='independent'\n",
    ")\n",
    "combo_chart.save(\"chriscox_analysis_20240709.png\", dpi=300)\n",
    "combo_chart"
   ]
  },
  {
   "cell_type": "code",
   "execution_count": null,
   "metadata": {},
   "outputs": [],
   "source": []
  }
 ],
 "metadata": {
  "kernelspec": {
   "display_name": "sublimationofsnow",
   "language": "python",
   "name": "python3"
  },
  "language_info": {
   "codemirror_mode": {
    "name": "ipython",
    "version": 3
   },
   "file_extension": ".py",
   "mimetype": "text/x-python",
   "name": "python",
   "nbconvert_exporter": "python",
   "pygments_lexer": "ipython3",
   "version": "3.12.1"
  }
 },
 "nbformat": 4,
 "nbformat_minor": 2
}
