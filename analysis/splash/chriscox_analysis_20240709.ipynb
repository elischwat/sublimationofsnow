{
 "cells": [
  {
   "cell_type": "markdown",
   "metadata": {},
   "source": [
    "# Prep data\n",
    "\n",
    "This is unnecessary to run if you have the \"case_study.csv\" dataset locally."
   ]
  },
  {
   "cell_type": "code",
   "execution_count": 1,
   "metadata": {},
   "outputs": [],
   "source": [
    "import pandas as pd\n",
    "from sublimpy import tidy, utils"
   ]
  },
  {
   "cell_type": "code",
   "execution_count": 2,
   "metadata": {},
   "outputs": [],
   "source": [
    "start_date = '20221130'\n",
    "end_date = '20230509'\n",
    "\n",
    "# open files\n",
    "tidy_df = pd.read_parquet(f'../paper1/tidy_df_{start_date}_{end_date}_noplanar_fit.parquet')\n",
    "\n",
    "# convert time column to datetime\n",
    "tidy_df['time'] = pd.to_datetime(tidy_df['time'])\n",
    "tidy_df = utils.modify_df_timezone(tidy_df, 'UTC', 'US/Mountain')\n",
    "\n",
    "# limit data to our dates of interest, based on continuous snow cover at Kettle Ponds\n",
    "tidy_df = tidy_df.set_index('time').sort_index().loc[start_date:end_date].reset_index()\n",
    "\n",
    "## Add combined blowing snow flux variable\n",
    "tidy_df = tidy.tidy_df_add_variable(\n",
    "    tidy_df,\n",
    "    (\n",
    "        tidy_df.query(\"variable == 'SF_avg_1m_ue'\")['value'].values + \n",
    "        tidy_df.query(\"variable == 'SF_avg_2m_ue'\")['value'].values\n",
    "    ), \n",
    "    'SF_avg_ue',\n",
    "    'snow flux',\n",
    "    1,\n",
    "    'ue',\n",
    ")"
   ]
  },
  {
   "cell_type": "code",
   "execution_count": 3,
   "metadata": {},
   "outputs": [],
   "source": [
    "case_src = tidy_df[(tidy_df.time >= '4/15/2023') & (tidy_df.time < '4/20/2023')]\n",
    "case_src = case_src[case_src.measurement.isin([\n",
    "    'temperature', 'surface temperature', 'relative humidity', 'specific humidity', 'relative humidity', 'w_h2o_', 'snow flux', 'snow depth', 'wind speed','irgason diagnostic flag', 'sonic anemometer diagnostic flag'\n",
    "])]\n",
    "case_src = case_src[~ case_src.variable.str.contains(\"predicted\")]"
   ]
  },
  {
   "cell_type": "code",
   "execution_count": 4,
   "metadata": {},
   "outputs": [],
   "source": [
    "case_src_wide = case_src.pivot_table(\n",
    "    index = 'time',\n",
    "    columns='variable',\n",
    "    values='value'\n",
    ").reset_index()"
   ]
  },
  {
   "cell_type": "code",
   "execution_count": 5,
   "metadata": {},
   "outputs": [],
   "source": [
    "case_src.to_csv(\"case_study_tidy.csv\", index=False)"
   ]
  },
  {
   "cell_type": "code",
   "execution_count": 6,
   "metadata": {},
   "outputs": [],
   "source": [
    "case_src_wide.to_csv(\"case_study_wide.csv\", index=False)"
   ]
  },
  {
   "cell_type": "code",
   "execution_count": 11,
   "metadata": {},
   "outputs": [],
   "source": [
    "import altair as alt"
   ]
  },
  {
   "cell_type": "code",
   "execution_count": 30,
   "metadata": {},
   "outputs": [
    {
     "data": {
      "application/vnd.vegalite.v5+json": {
       "$schema": "https://vega.github.io/schema/vega-lite/v5.17.0.json",
       "config": {
        "axis": {
         "grid": false
        },
        "view": {
         "continuousHeight": 300,
         "continuousWidth": 300
        }
       },
       "data": {
        "format": {
         "type": "json"
        },
        "url": "altair-data-a379b41153bf2080259e776c7440043f.json"
       },
       "encoding": {
        "facet": {
         "columns": 4,
         "field": "key",
         "type": "nominal"
        },
        "x": {
         "axis": {
          "values": [
           0,
           10,
           100,
           1000
          ]
         },
         "field": "ldiag_3m_c",
         "scale": {
          "type": "symlog"
         },
         "type": "quantitative"
        },
        "y": {
         "field": "value",
         "type": "quantitative"
        }
       },
       "height": 200,
       "mark": {
        "size": 10,
        "type": "circle"
       },
       "resolve": {
        "scale": {
         "y": "independent"
        }
       },
       "transform": [
        {
         "fold": [
          "T_3m_c",
          "RH_3m_c",
          "spd_3m_c",
          "SF_avg_ue"
         ]
        }
       ],
       "width": 200
      },
      "text/plain": [
       "<VegaLite 5 object>\n",
       "\n",
       "If you see this message, it means the renderer has not been properly enabled\n",
       "for the frontend that you are using. For more information, see\n",
       "https://altair-viz.github.io/user_guide/display_frontends.html#troubleshooting\n"
      ]
     },
     "execution_count": 30,
     "metadata": {},
     "output_type": "execute_result"
    }
   ],
   "source": [
    "\n",
    "src = tidy_df[tidy_df.variable.isin([\n",
    "    'ldiag_3m_c', 'ldiag_10m_c',\n",
    "    'T_3m_c', 'RH_3m_c', 'spd_3m_c', 'SF_avg_ue'\n",
    "])]\n",
    "alt.Chart(\n",
    "    src.pivot_table(index='time', columns='variable', values='value').reset_index()\n",
    ").transform_fold([\n",
    "    'T_3m_c', 'RH_3m_c', 'spd_3m_c', 'SF_avg_ue'\n",
    "]).mark_circle(size=10).encode(\n",
    "    alt.X('ldiag_3m_c:Q').scale(type='symlog').axis(values=[0,10,100,1000]),\n",
    "    alt.Y('value:Q'),\n",
    "    alt.Facet('key:N', columns=4)\n",
    ").properties(width=200, height = 200).resolve_scale(y='independent').configure_axis(grid=False)"
   ]
  },
  {
   "cell_type": "code",
   "execution_count": 58,
   "metadata": {},
   "outputs": [],
   "source": [
    "import xarray as xr\n",
    "import datetime as dt\n",
    "precip_df = xr.open_dataset(\"/Users/elischwat/Development/data/sublimationofsnow/precip_danny/precipitation_rate_gts_w23.nc\")['corrected_prcp_rate_m2'].to_dataframe()\n",
    "\n",
    "is_snowing_dates = pd.concat([\n",
    "    precip_df.query(\"corrected_prcp_rate_m2 > 0\").index.to_series(),\n",
    "    precip_df.query(\"corrected_prcp_rate_m2 > 0\").index.to_series() + dt.timedelta(minutes=30)\n",
    "])\n",
    "    \n",
    "is_not_snowing_dates = pd.concat([\n",
    "    precip_df.query(\"corrected_prcp_rate_m2 <= 0\").index.to_series(),\n",
    "    precip_df.query(\"corrected_prcp_rate_m2 <= 0\").index.to_series() + dt.timedelta(minutes=30)\n",
    "])"
   ]
  },
  {
   "cell_type": "code",
   "execution_count": 64,
   "metadata": {},
   "outputs": [
    {
     "data": {
      "application/vnd.vegalite.v5+json": {
       "$schema": "https://vega.github.io/schema/vega-lite/v5.17.0.json",
       "config": {
        "view": {
         "continuousHeight": 300,
         "continuousWidth": 300
        }
       },
       "vconcat": [
        {
         "data": {
          "format": {
           "type": "json"
          },
          "url": "altair-data-5a0530bcecaacd5196117c30a2309ce0.json"
         },
         "encoding": {
          "x": {
           "axis": {
            "values": [
             0,
             10,
             100,
             1000
            ]
           },
           "field": "ldiag_3m_c",
           "scale": {
            "type": "symlog"
           },
           "type": "quantitative"
          },
          "y": {
           "field": "is_bs",
           "type": "nominal"
          }
         },
         "height": 100,
         "mark": {
          "size": 10,
          "type": "boxplot"
         },
         "resolve": {
          "scale": {
           "y": "independent"
          }
         },
         "transform": [
          {
           "as": "is_bs",
           "calculate": "datum.SF_avg_ue > 0"
          }
         ],
         "width": 1000
        },
        {
         "data": {
          "format": {
           "type": "json"
          },
          "url": "altair-data-e639a911457e008667b86f270b500da1.json"
         },
         "encoding": {
          "x": {
           "axis": {
            "values": [
             0,
             10,
             100,
             1000
            ]
           },
           "field": "ldiag_3m_c",
           "scale": {
            "type": "symlog"
           },
           "type": "quantitative"
          },
          "y": {
           "field": "is_bs",
           "type": "nominal"
          }
         },
         "height": 100,
         "mark": {
          "size": 10,
          "type": "boxplot"
         },
         "resolve": {
          "scale": {
           "y": "independent"
          }
         },
         "transform": [
          {
           "as": "is_bs",
           "calculate": "datum.SF_avg_ue > 0"
          }
         ],
         "width": 1000
        }
       ]
      },
      "text/plain": [
       "<VegaLite 5 object>\n",
       "\n",
       "If you see this message, it means the renderer has not been properly enabled\n",
       "for the frontend that you are using. For more information, see\n",
       "https://altair-viz.github.io/user_guide/display_frontends.html#troubleshooting\n"
      ]
     },
     "execution_count": 64,
     "metadata": {},
     "output_type": "execute_result"
    }
   ],
   "source": [
    "src = tidy_df[tidy_df.variable.isin([\n",
    "    'ldiag_3m_c', 'ldiag_10m_c',\n",
    "    'T_3m_c', 'RH_3m_c', 'spd_3m_c', 'SF_avg_ue'\n",
    "])]\n",
    "src = src.pivot_table(index='time', columns='variable', values='value').reset_index()\n",
    "src = src[src.time <= precip_df.index.max()]\n",
    "\n",
    "alt.Chart(\n",
    "    src\n",
    ").transform_calculate(\n",
    "    is_bs = \"datum.SF_avg_ue > 0\"\n",
    ").mark_boxplot(size=10).encode(\n",
    "    alt.Y('is_bs:N'),\n",
    "    alt.X('ldiag_3m_c:Q').scale(type='symlog').axis(values=[0,10,100,1000]),\n",
    ").properties(width=1000, height = 100).resolve_scale(y='independent') &\\\n",
    "alt.Chart(\n",
    "    src[src.time.isin(is_not_snowing_dates)]\n",
    ").transform_calculate(\n",
    "    is_bs = \"datum.SF_avg_ue > 0\"\n",
    ").mark_boxplot(size=10).encode(\n",
    "    alt.Y('is_bs:N'),\n",
    "    alt.X('ldiag_3m_c:Q').scale(type='symlog').axis(values=[0,10,100,1000]),\n",
    ").properties(width=1000, height = 100).resolve_scale(y='independent')"
   ]
  },
  {
   "cell_type": "code",
   "execution_count": 68,
   "metadata": {},
   "outputs": [
    {
     "data": {
      "text/html": [
       "<div>\n",
       "<style scoped>\n",
       "    .dataframe tbody tr th:only-of-type {\n",
       "        vertical-align: middle;\n",
       "    }\n",
       "\n",
       "    .dataframe tbody tr th {\n",
       "        vertical-align: top;\n",
       "    }\n",
       "\n",
       "    .dataframe thead th {\n",
       "        text-align: right;\n",
       "    }\n",
       "</style>\n",
       "<table border=\"1\" class=\"dataframe\">\n",
       "  <thead>\n",
       "    <tr style=\"text-align: right;\">\n",
       "      <th>variable</th>\n",
       "      <th>time</th>\n",
       "      <th>RH_3m_c</th>\n",
       "      <th>SF_avg_ue</th>\n",
       "      <th>T_3m_c</th>\n",
       "      <th>ldiag_10m_c</th>\n",
       "      <th>ldiag_3m_c</th>\n",
       "      <th>spd_3m_c</th>\n",
       "    </tr>\n",
       "  </thead>\n",
       "  <tbody>\n",
       "    <tr>\n",
       "      <th>99</th>\n",
       "      <td>2022-12-02 01:30:00</td>\n",
       "      <td>82.697914</td>\n",
       "      <td>0.010000</td>\n",
       "      <td>-2.935653</td>\n",
       "      <td>11.000000</td>\n",
       "      <td>3.000000</td>\n",
       "      <td>2.626857</td>\n",
       "    </tr>\n",
       "    <tr>\n",
       "      <th>100</th>\n",
       "      <td>2022-12-02 02:00:00</td>\n",
       "      <td>90.262970</td>\n",
       "      <td>0.060000</td>\n",
       "      <td>-3.553481</td>\n",
       "      <td>8.166667</td>\n",
       "      <td>2.000000</td>\n",
       "      <td>3.266315</td>\n",
       "    </tr>\n",
       "    <tr>\n",
       "      <th>102</th>\n",
       "      <td>2022-12-02 03:00:00</td>\n",
       "      <td>91.015106</td>\n",
       "      <td>0.006667</td>\n",
       "      <td>-3.527881</td>\n",
       "      <td>4.666667</td>\n",
       "      <td>1.000000</td>\n",
       "      <td>2.025441</td>\n",
       "    </tr>\n",
       "    <tr>\n",
       "      <th>103</th>\n",
       "      <td>2022-12-02 03:30:00</td>\n",
       "      <td>79.646782</td>\n",
       "      <td>0.003333</td>\n",
       "      <td>-2.805454</td>\n",
       "      <td>5.000000</td>\n",
       "      <td>2.000000</td>\n",
       "      <td>2.117924</td>\n",
       "    </tr>\n",
       "    <tr>\n",
       "      <th>105</th>\n",
       "      <td>2022-12-02 04:30:00</td>\n",
       "      <td>71.255684</td>\n",
       "      <td>0.001667</td>\n",
       "      <td>-2.698964</td>\n",
       "      <td>21.333333</td>\n",
       "      <td>1.000000</td>\n",
       "      <td>2.983412</td>\n",
       "    </tr>\n",
       "    <tr>\n",
       "      <th>...</th>\n",
       "      <td>...</td>\n",
       "      <td>...</td>\n",
       "      <td>...</td>\n",
       "      <td>...</td>\n",
       "      <td>...</td>\n",
       "      <td>...</td>\n",
       "      <td>...</td>\n",
       "    </tr>\n",
       "    <tr>\n",
       "      <th>5795</th>\n",
       "      <td>2023-03-30 18:30:00</td>\n",
       "      <td>68.807076</td>\n",
       "      <td>0.001667</td>\n",
       "      <td>-5.125519</td>\n",
       "      <td>7.166667</td>\n",
       "      <td>4.166667</td>\n",
       "      <td>3.091792</td>\n",
       "    </tr>\n",
       "    <tr>\n",
       "      <th>5797</th>\n",
       "      <td>2023-03-30 19:30:00</td>\n",
       "      <td>70.765968</td>\n",
       "      <td>0.001667</td>\n",
       "      <td>-5.818987</td>\n",
       "      <td>18.500000</td>\n",
       "      <td>2.000000</td>\n",
       "      <td>3.053634</td>\n",
       "    </tr>\n",
       "    <tr>\n",
       "      <th>5828</th>\n",
       "      <td>2023-03-31 11:00:00</td>\n",
       "      <td>77.502373</td>\n",
       "      <td>0.053333</td>\n",
       "      <td>-8.325741</td>\n",
       "      <td>271.000000</td>\n",
       "      <td>54.333333</td>\n",
       "      <td>5.993345</td>\n",
       "    </tr>\n",
       "    <tr>\n",
       "      <th>5829</th>\n",
       "      <td>2023-03-31 11:30:00</td>\n",
       "      <td>79.509026</td>\n",
       "      <td>0.013333</td>\n",
       "      <td>-8.190660</td>\n",
       "      <td>122.500000</td>\n",
       "      <td>29.333333</td>\n",
       "      <td>4.781885</td>\n",
       "    </tr>\n",
       "    <tr>\n",
       "      <th>5830</th>\n",
       "      <td>2023-03-31 12:00:00</td>\n",
       "      <td>78.769615</td>\n",
       "      <td>0.003333</td>\n",
       "      <td>-7.900685</td>\n",
       "      <td>66.666667</td>\n",
       "      <td>7.500000</td>\n",
       "      <td>3.875829</td>\n",
       "    </tr>\n",
       "  </tbody>\n",
       "</table>\n",
       "<p>505 rows × 7 columns</p>\n",
       "</div>"
      ],
      "text/plain": [
       "variable                time    RH_3m_c  SF_avg_ue    T_3m_c  ldiag_10m_c  \\\n",
       "99       2022-12-02 01:30:00  82.697914   0.010000 -2.935653    11.000000   \n",
       "100      2022-12-02 02:00:00  90.262970   0.060000 -3.553481     8.166667   \n",
       "102      2022-12-02 03:00:00  91.015106   0.006667 -3.527881     4.666667   \n",
       "103      2022-12-02 03:30:00  79.646782   0.003333 -2.805454     5.000000   \n",
       "105      2022-12-02 04:30:00  71.255684   0.001667 -2.698964    21.333333   \n",
       "...                      ...        ...        ...       ...          ...   \n",
       "5795     2023-03-30 18:30:00  68.807076   0.001667 -5.125519     7.166667   \n",
       "5797     2023-03-30 19:30:00  70.765968   0.001667 -5.818987    18.500000   \n",
       "5828     2023-03-31 11:00:00  77.502373   0.053333 -8.325741   271.000000   \n",
       "5829     2023-03-31 11:30:00  79.509026   0.013333 -8.190660   122.500000   \n",
       "5830     2023-03-31 12:00:00  78.769615   0.003333 -7.900685    66.666667   \n",
       "\n",
       "variable  ldiag_3m_c  spd_3m_c  \n",
       "99          3.000000  2.626857  \n",
       "100         2.000000  3.266315  \n",
       "102         1.000000  2.025441  \n",
       "103         2.000000  2.117924  \n",
       "105         1.000000  2.983412  \n",
       "...              ...       ...  \n",
       "5795        4.166667  3.091792  \n",
       "5797        2.000000  3.053634  \n",
       "5828       54.333333  5.993345  \n",
       "5829       29.333333  4.781885  \n",
       "5830        7.500000  3.875829  \n",
       "\n",
       "[505 rows x 7 columns]"
      ]
     },
     "execution_count": 68,
     "metadata": {},
     "output_type": "execute_result"
    }
   ],
   "source": [
    "src[src.time.isin(is_not_snowing_dates)].query(\"ldiag_3m_c>0\").query(\"SF_avg_ue > 0\")"
   ]
  },
  {
   "cell_type": "code",
   "execution_count": 66,
   "metadata": {},
   "outputs": [
    {
     "data": {
      "text/html": [
       "<div>\n",
       "<style scoped>\n",
       "    .dataframe tbody tr th:only-of-type {\n",
       "        vertical-align: middle;\n",
       "    }\n",
       "\n",
       "    .dataframe tbody tr th {\n",
       "        vertical-align: top;\n",
       "    }\n",
       "\n",
       "    .dataframe thead th {\n",
       "        text-align: right;\n",
       "    }\n",
       "</style>\n",
       "<table border=\"1\" class=\"dataframe\">\n",
       "  <thead>\n",
       "    <tr style=\"text-align: right;\">\n",
       "      <th>variable</th>\n",
       "      <th>time</th>\n",
       "      <th>RH_3m_c</th>\n",
       "      <th>SF_avg_ue</th>\n",
       "      <th>T_3m_c</th>\n",
       "      <th>ldiag_10m_c</th>\n",
       "      <th>ldiag_3m_c</th>\n",
       "      <th>spd_3m_c</th>\n",
       "    </tr>\n",
       "  </thead>\n",
       "  <tbody>\n",
       "    <tr>\n",
       "      <th>85</th>\n",
       "      <td>2022-12-01 18:30:00</td>\n",
       "      <td>42.308662</td>\n",
       "      <td>0.0</td>\n",
       "      <td>1.264583</td>\n",
       "      <td>2.000000</td>\n",
       "      <td>1.166667</td>\n",
       "      <td>2.914105</td>\n",
       "    </tr>\n",
       "    <tr>\n",
       "      <th>93</th>\n",
       "      <td>2022-12-01 22:30:00</td>\n",
       "      <td>49.916645</td>\n",
       "      <td>0.0</td>\n",
       "      <td>-0.289065</td>\n",
       "      <td>0.000000</td>\n",
       "      <td>1.166667</td>\n",
       "      <td>3.438851</td>\n",
       "    </tr>\n",
       "    <tr>\n",
       "      <th>96</th>\n",
       "      <td>2022-12-02 00:00:00</td>\n",
       "      <td>44.218521</td>\n",
       "      <td>0.0</td>\n",
       "      <td>0.820055</td>\n",
       "      <td>3.000000</td>\n",
       "      <td>1.000000</td>\n",
       "      <td>4.414920</td>\n",
       "    </tr>\n",
       "    <tr>\n",
       "      <th>97</th>\n",
       "      <td>2022-12-02 00:30:00</td>\n",
       "      <td>57.638187</td>\n",
       "      <td>0.0</td>\n",
       "      <td>-0.616042</td>\n",
       "      <td>13.333333</td>\n",
       "      <td>1.166667</td>\n",
       "      <td>4.393628</td>\n",
       "    </tr>\n",
       "    <tr>\n",
       "      <th>163</th>\n",
       "      <td>2022-12-03 09:30:00</td>\n",
       "      <td>85.407867</td>\n",
       "      <td>0.0</td>\n",
       "      <td>-8.150525</td>\n",
       "      <td>2.000000</td>\n",
       "      <td>3.000000</td>\n",
       "      <td>1.080094</td>\n",
       "    </tr>\n",
       "    <tr>\n",
       "      <th>...</th>\n",
       "      <td>...</td>\n",
       "      <td>...</td>\n",
       "      <td>...</td>\n",
       "      <td>...</td>\n",
       "      <td>...</td>\n",
       "      <td>...</td>\n",
       "      <td>...</td>\n",
       "    </tr>\n",
       "    <tr>\n",
       "      <th>5597</th>\n",
       "      <td>2023-03-26 15:30:00</td>\n",
       "      <td>83.037292</td>\n",
       "      <td>0.0</td>\n",
       "      <td>-10.513554</td>\n",
       "      <td>0.000000</td>\n",
       "      <td>1.000000</td>\n",
       "      <td>2.452425</td>\n",
       "    </tr>\n",
       "    <tr>\n",
       "      <th>5598</th>\n",
       "      <td>2023-03-26 16:00:00</td>\n",
       "      <td>79.620819</td>\n",
       "      <td>0.0</td>\n",
       "      <td>-10.358121</td>\n",
       "      <td>2.000000</td>\n",
       "      <td>1.333333</td>\n",
       "      <td>1.890710</td>\n",
       "    </tr>\n",
       "    <tr>\n",
       "      <th>5792</th>\n",
       "      <td>2023-03-30 17:00:00</td>\n",
       "      <td>85.635063</td>\n",
       "      <td>0.0</td>\n",
       "      <td>-5.908267</td>\n",
       "      <td>25.500000</td>\n",
       "      <td>3.333333</td>\n",
       "      <td>2.913078</td>\n",
       "    </tr>\n",
       "    <tr>\n",
       "      <th>5794</th>\n",
       "      <td>2023-03-30 18:00:00</td>\n",
       "      <td>68.487526</td>\n",
       "      <td>0.0</td>\n",
       "      <td>-4.924978</td>\n",
       "      <td>5.166667</td>\n",
       "      <td>2.166667</td>\n",
       "      <td>3.619690</td>\n",
       "    </tr>\n",
       "    <tr>\n",
       "      <th>5831</th>\n",
       "      <td>2023-03-31 12:30:00</td>\n",
       "      <td>79.920601</td>\n",
       "      <td>0.0</td>\n",
       "      <td>-7.624132</td>\n",
       "      <td>40.666667</td>\n",
       "      <td>7.500000</td>\n",
       "      <td>3.488648</td>\n",
       "    </tr>\n",
       "  </tbody>\n",
       "</table>\n",
       "<p>296 rows × 7 columns</p>\n",
       "</div>"
      ],
      "text/plain": [
       "variable                time    RH_3m_c  SF_avg_ue     T_3m_c  ldiag_10m_c  \\\n",
       "85       2022-12-01 18:30:00  42.308662        0.0   1.264583     2.000000   \n",
       "93       2022-12-01 22:30:00  49.916645        0.0  -0.289065     0.000000   \n",
       "96       2022-12-02 00:00:00  44.218521        0.0   0.820055     3.000000   \n",
       "97       2022-12-02 00:30:00  57.638187        0.0  -0.616042    13.333333   \n",
       "163      2022-12-03 09:30:00  85.407867        0.0  -8.150525     2.000000   \n",
       "...                      ...        ...        ...        ...          ...   \n",
       "5597     2023-03-26 15:30:00  83.037292        0.0 -10.513554     0.000000   \n",
       "5598     2023-03-26 16:00:00  79.620819        0.0 -10.358121     2.000000   \n",
       "5792     2023-03-30 17:00:00  85.635063        0.0  -5.908267    25.500000   \n",
       "5794     2023-03-30 18:00:00  68.487526        0.0  -4.924978     5.166667   \n",
       "5831     2023-03-31 12:30:00  79.920601        0.0  -7.624132    40.666667   \n",
       "\n",
       "variable  ldiag_3m_c  spd_3m_c  \n",
       "85          1.166667  2.914105  \n",
       "93          1.166667  3.438851  \n",
       "96          1.000000  4.414920  \n",
       "97          1.166667  4.393628  \n",
       "163         3.000000  1.080094  \n",
       "...              ...       ...  \n",
       "5597        1.000000  2.452425  \n",
       "5598        1.333333  1.890710  \n",
       "5792        3.333333  2.913078  \n",
       "5794        2.166667  3.619690  \n",
       "5831        7.500000  3.488648  \n",
       "\n",
       "[296 rows x 7 columns]"
      ]
     },
     "execution_count": 66,
     "metadata": {},
     "output_type": "execute_result"
    }
   ],
   "source": [
    "src[src.time.isin(is_not_snowing_dates)].query(\"ldiag_3m_c>0\").query(\"SF_avg_ue == 0\")"
   ]
  },
  {
   "cell_type": "markdown",
   "metadata": {},
   "source": [
    "# Run analysis\n",
    "\n",
    "Read in \"case_study.csv\" and analyze the data"
   ]
  },
  {
   "cell_type": "code",
   "execution_count": 7,
   "metadata": {},
   "outputs": [
    {
     "data": {
      "text/plain": [
       "RendererRegistry.enable('jupyterlab')"
      ]
     },
     "execution_count": 7,
     "metadata": {},
     "output_type": "execute_result"
    }
   ],
   "source": [
    "import altair as alt\n",
    "import pandas as pd\n",
    "alt.data_transformers.enable('json')\n",
    "alt.renderers.enable('jupyterlab')"
   ]
  },
  {
   "cell_type": "code",
   "execution_count": 8,
   "metadata": {},
   "outputs": [
    {
     "data": {
      "text/html": [
       "<div>\n",
       "<style scoped>\n",
       "    .dataframe tbody tr th:only-of-type {\n",
       "        vertical-align: middle;\n",
       "    }\n",
       "\n",
       "    .dataframe tbody tr th {\n",
       "        vertical-align: top;\n",
       "    }\n",
       "\n",
       "    .dataframe thead th {\n",
       "        text-align: right;\n",
       "    }\n",
       "</style>\n",
       "<table border=\"1\" class=\"dataframe\">\n",
       "  <thead>\n",
       "    <tr style=\"text-align: right;\">\n",
       "      <th></th>\n",
       "      <th>time</th>\n",
       "      <th>variable</th>\n",
       "      <th>value</th>\n",
       "      <th>height</th>\n",
       "      <th>tower</th>\n",
       "      <th>measurement</th>\n",
       "    </tr>\n",
       "  </thead>\n",
       "  <tbody>\n",
       "    <tr>\n",
       "      <th>0</th>\n",
       "      <td>2023-04-15</td>\n",
       "      <td>w_h2o__1m_ue</td>\n",
       "      <td>0.000000</td>\n",
       "      <td>1.0</td>\n",
       "      <td>ue</td>\n",
       "      <td>w_h2o_</td>\n",
       "    </tr>\n",
       "    <tr>\n",
       "      <th>1</th>\n",
       "      <td>2023-04-15</td>\n",
       "      <td>irgadiag_20m_c</td>\n",
       "      <td>37.333333</td>\n",
       "      <td>20.0</td>\n",
       "      <td>c</td>\n",
       "      <td>irgason diagnostic flag</td>\n",
       "    </tr>\n",
       "    <tr>\n",
       "      <th>2</th>\n",
       "      <td>2023-04-15</td>\n",
       "      <td>irgadiag_3m_uw</td>\n",
       "      <td>1107.833333</td>\n",
       "      <td>3.0</td>\n",
       "      <td>uw</td>\n",
       "      <td>irgason diagnostic flag</td>\n",
       "    </tr>\n",
       "    <tr>\n",
       "      <th>3</th>\n",
       "      <td>2023-04-15</td>\n",
       "      <td>T_18m_c</td>\n",
       "      <td>-5.653895</td>\n",
       "      <td>18.0</td>\n",
       "      <td>c</td>\n",
       "      <td>temperature</td>\n",
       "    </tr>\n",
       "    <tr>\n",
       "      <th>4</th>\n",
       "      <td>2023-04-15</td>\n",
       "      <td>irgadiag_10m_ue</td>\n",
       "      <td>168.000000</td>\n",
       "      <td>10.0</td>\n",
       "      <td>ue</td>\n",
       "      <td>irgason diagnostic flag</td>\n",
       "    </tr>\n",
       "  </tbody>\n",
       "</table>\n",
       "</div>"
      ],
      "text/plain": [
       "        time         variable        value  height tower  \\\n",
       "0 2023-04-15     w_h2o__1m_ue     0.000000     1.0    ue   \n",
       "1 2023-04-15   irgadiag_20m_c    37.333333    20.0     c   \n",
       "2 2023-04-15   irgadiag_3m_uw  1107.833333     3.0    uw   \n",
       "3 2023-04-15          T_18m_c    -5.653895    18.0     c   \n",
       "4 2023-04-15  irgadiag_10m_ue   168.000000    10.0    ue   \n",
       "\n",
       "               measurement  \n",
       "0                   w_h2o_  \n",
       "1  irgason diagnostic flag  \n",
       "2  irgason diagnostic flag  \n",
       "3              temperature  \n",
       "4  irgason diagnostic flag  "
      ]
     },
     "execution_count": 8,
     "metadata": {},
     "output_type": "execute_result"
    }
   ],
   "source": [
    "case_src = pd.read_csv(\"case_study_tidy.csv\")\n",
    "case_src.time = pd.to_datetime(case_src.time)\n",
    "case_src.head()"
   ]
  },
  {
   "cell_type": "code",
   "execution_count": 9,
   "metadata": {},
   "outputs": [
    {
     "data": {
      "application/vnd.vegalite.v5+json": {
       "$schema": "https://vega.github.io/schema/vega-lite/v5.17.0.json",
       "config": {
        "legend": {
         "fillColor": "white",
         "legendX": 70,
         "legendY": 10,
         "orient": "none",
         "padding": 10,
         "strokeColor": "black",
         "strokeWidth": 1
        },
        "view": {
         "continuousHeight": 300,
         "continuousWidth": 300
        }
       },
       "data": {
        "format": {
         "type": "json"
        },
        "url": "altair-data-1d217669b488618812aecc2f71704a94.json"
       },
       "encoding": {
        "color": {
         "field": "height",
         "title": "height (m)",
         "type": "ordinal"
        },
        "row": {
         "field": "tower",
         "type": "nominal"
        },
        "x": {
         "field": "time",
         "type": "temporal"
        },
        "y": {
         "axis": {
          "values": [
           0,
           10,
           100,
           200
          ]
         },
         "field": "value",
         "scale": {
          "type": "symlog"
         },
         "title": "Sonic diag. flag count",
         "type": "quantitative"
        }
       },
       "height": 150,
       "mark": {
        "type": "line"
       },
       "width": 300
      },
      "text/plain": [
       "<VegaLite 5 object>\n",
       "\n",
       "If you see this message, it means the renderer has not been properly enabled\n",
       "for the frontend that you are using. For more information, see\n",
       "https://altair-viz.github.io/user_guide/display_frontends.html#troubleshooting\n"
      ]
     },
     "execution_count": 9,
     "metadata": {},
     "output_type": "execute_result"
    }
   ],
   "source": [
    "alt.Chart(\n",
    "    case_src[case_src.variable.isin([\n",
    "        'ldiag_2m_c',\n",
    "        'ldiag_3m_c',\n",
    "        'ldiag_10m_c',\n",
    "        \n",
    "        'ldiag_3m_ue', 'ldiag_3m_uw', 'ldiag_3m_ud',\n",
    "        'ldiag_10m_ue', 'ldiag_10m_uw', 'ldiag_10m_ud',\n",
    "    ])]\n",
    ").mark_line().encode(\n",
    "    alt.X(\"time:T\"),\n",
    "    alt.Y(\"value:Q\").title(\n",
    "        \"Sonic diag. flag count\"\n",
    "    ).scale(type='symlog').axis(values=[0,10,100,200]),\n",
    "    alt.Color('height:O').title('height (m)'),\n",
    "    alt.Row('tower:N')\n",
    ").properties(height = 150, width = 300).configure_legend(\n",
    "    fillColor='white', strokeWidth=1, strokeColor='black', padding=10,\n",
    "    orient='none',  \n",
    "    legendX=70,\n",
    "    legendY=10\n",
    ")"
   ]
  },
  {
   "cell_type": "code",
   "execution_count": null,
   "metadata": {},
   "outputs": [],
   "source": []
  },
  {
   "cell_type": "code",
   "execution_count": null,
   "metadata": {},
   "outputs": [],
   "source": []
  },
  {
   "cell_type": "code",
   "execution_count": 48,
   "metadata": {},
   "outputs": [
    {
     "data": {
      "application/vnd.vegalite.v5+json": {
       "$schema": "https://vega.github.io/schema/vega-lite/v5.17.0.json",
       "config": {
        "view": {
         "continuousHeight": 300,
         "continuousWidth": 300
        }
       },
       "resolve": {
        "scale": {
         "color": "independent"
        }
       },
       "vconcat": [
        {
         "data": {
          "format": {
           "type": "json"
          },
          "url": "altair-data-2f89b82205e968fe58b67d652bb96b7b.json"
         },
         "encoding": {
          "color": {
           "field": "variable",
           "type": "nominal"
          },
          "x": {
           "field": "time",
           "type": "temporal"
          },
          "y": {
           "field": "value",
           "title": "Wind speed (m/s) / Blowing snow flux (g/m^2/s)",
           "type": "quantitative"
          }
         },
         "height": 200,
         "mark": {
          "type": "line"
         }
        },
        {
         "data": {
          "format": {
           "type": "json"
          },
          "url": "altair-data-3168ede3b9628701b8d377708682bcb3.json"
         },
         "encoding": {
          "color": {
           "field": "variable",
           "type": "nominal"
          },
          "x": {
           "field": "time",
           "type": "temporal"
          },
          "y": {
           "field": "value",
           "title": "Surface temperature (˚C)",
           "type": "quantitative"
          }
         },
         "height": 200,
         "mark": {
          "type": "line"
         }
        }
       ]
      },
      "text/plain": [
       "<VegaLite 5 object>\n",
       "\n",
       "If you see this message, it means the renderer has not been properly enabled\n",
       "for the frontend that you are using. For more information, see\n",
       "https://altair-viz.github.io/user_guide/display_frontends.html#troubleshooting\n"
      ]
     },
     "execution_count": 48,
     "metadata": {},
     "output_type": "execute_result"
    }
   ],
   "source": [
    "(alt.Chart(\n",
    "        case_src[case_src.variable.isin(['SF_avg_ue', 'spd_3m_c'])]\n",
    "    ).mark_line().encode(\n",
    "        alt.X(\"time:T\"),\n",
    "        alt.Y(\"value:Q\").title(\n",
    "            \"Wind speed (m/s) / Blowing snow flux (g/m^2/s)\"\n",
    "        ),\n",
    "        alt.Color('variable:N')\n",
    "    ).properties(height = 200) & alt.Chart(\n",
    "        case_src[case_src.variable.isin(['Tsurf_c', 'Tsurf_d', 'Tsurf_ue', 'Tsurf_uw', 'Tsurf_rad_d'])]\n",
    "    ).mark_line().encode(\n",
    "        alt.X(\"time:T\"),\n",
    "        alt.Y(\"value:Q\").title(\n",
    "            \"Surface temperature (˚C)\"\n",
    "        ),\n",
    "        alt.Color('variable:N')\n",
    "    ).properties(height = 200) ).resolve_scale(color='independent')"
   ]
  },
  {
   "cell_type": "code",
   "execution_count": 11,
   "metadata": {},
   "outputs": [],
   "source": [
    "bs_flux_and_snow_depth_chart = (\n",
    "    alt.Chart(\n",
    "        case_src.query(\"variable == 'SF_avg_ue'\")\n",
    "    ).mark_line().encode(\n",
    "        alt.X(\"time:T\"),\n",
    "        alt.Y(\"value:Q\").scale(type='symlog').title(\n",
    "            \"Blowing snow flux (g/m^2/s)\"\n",
    "        )\n",
    "    ).properties(height = 200) \n",
    "    + \n",
    "    alt.Chart(\n",
    "        case_src.query(\"variable == 'SnowDepth_c'\")\n",
    "    ).mark_line().encode(\n",
    "        alt.X(\"time:T\"),\n",
    "        alt.Y(\"value:Q\").scale(type='symlog').title(\n",
    "            \"Snow depth (m)\"\n",
    "        )\n",
    "    ).properties(height = 200)\n",
    ").resolve_scale(y='independent')"
   ]
  },
  {
   "cell_type": "code",
   "execution_count": 5,
   "metadata": {},
   "outputs": [
    {
     "name": "stderr",
     "output_type": "stream",
     "text": [
      "/var/folders/x_/2h52bcjx2px15bhmdpdd748h0000gn/T/ipykernel_40419/1771112374.py:2: UserWarning: Boolean Series key will be reindexed to match DataFrame index.\n",
      "  case_src[\n"
     ]
    }
   ],
   "source": [
    "hl_flux_chart = alt.Chart(\n",
    "    case_src[\n",
    "        case_src.time.dt.minute == 0\n",
    "    ][\n",
    "        case_src.time.dt.hour % 2 == 0\n",
    "    ].query(\n",
    "        \"measurement == 'w_h2o_'\"\n",
    "    ).query(\n",
    "        \"tower == 'c'\"\n",
    "    ).query(\"height > 1\")\n",
    ").mark_line().encode(\n",
    "    alt.X(\"value:Q\").sort('-y').title(\"<w'q'> (g/m²/s)\"),\n",
    "    alt.Y(\"height:Q\").title(\"Height (m)\"),\n",
    "    alt.Color(\"hours(time):O\").scale(scheme='rainbow'),\n",
    "    alt.Facet(\"date(time):T\")\n",
    ").properties(\n",
    "    width=200, \n",
    "    height = 200\n",
    ")"
   ]
  },
  {
   "cell_type": "code",
   "execution_count": 6,
   "metadata": {},
   "outputs": [
    {
     "name": "stderr",
     "output_type": "stream",
     "text": [
      "/var/folders/x_/2h52bcjx2px15bhmdpdd748h0000gn/T/ipykernel_40419/2652316108.py:2: UserWarning: Boolean Series key will be reindexed to match DataFrame index.\n",
      "  case_src[\n",
      "/var/folders/x_/2h52bcjx2px15bhmdpdd748h0000gn/T/ipykernel_40419/2652316108.py:2: UserWarning: Boolean Series key will be reindexed to match DataFrame index.\n",
      "  case_src[\n"
     ]
    }
   ],
   "source": [
    "temp_chart = alt.Chart(\n",
    "    case_src[\n",
    "        case_src.time.dt.minute == 0\n",
    "    ][\n",
    "        case_src.time.dt.hour % 2 == 0\n",
    "    ][\n",
    "        case_src.measurement.isin(['temperature', 'surface temperature'])\n",
    "    ].query(\"tower == 'c'\")\n",
    ").mark_line().encode(\n",
    "    alt.X(\"value:Q\").sort('-y').title(\"Temperature (˚C)\"),\n",
    "    alt.Y(\"height:Q\").title(\"Height (m)\"),\n",
    "    alt.Color(\"hours(time):O\").scale(scheme='rainbow'),\n",
    "    alt.Facet(\"date(time):T\")\n",
    ").properties(\n",
    "    width=200, \n",
    "    height = 200\n",
    ")"
   ]
  },
  {
   "cell_type": "code",
   "execution_count": 7,
   "metadata": {},
   "outputs": [
    {
     "name": "stderr",
     "output_type": "stream",
     "text": [
      "/var/folders/x_/2h52bcjx2px15bhmdpdd748h0000gn/T/ipykernel_40419/1741176887.py:2: UserWarning: Boolean Series key will be reindexed to match DataFrame index.\n",
      "  case_src[\n"
     ]
    }
   ],
   "source": [
    "spechumidity_chart = alt.Chart(\n",
    "    case_src[\n",
    "        case_src.time.dt.minute == 0\n",
    "    ][\n",
    "        case_src.time.dt.hour % 2 == 0\n",
    "    ].query(\n",
    "        \"measurement == 'specific humidity'\"\n",
    "    ).query(\n",
    "        \"tower == 'c'\"\n",
    "    )\n",
    ").mark_line().encode(\n",
    "    alt.X(\"value:Q\").sort('-y').title(\"Specific humidity (g/g)\"),\n",
    "    alt.Y(\"height:Q\").title(\"Height (m)\"),\n",
    "    alt.Color(\"hours(time):O\").scale(scheme='rainbow'),\n",
    "    alt.Facet(\"date(time):T\")\n",
    ").properties(\n",
    "    width=200, \n",
    "    height = 200\n",
    ")"
   ]
  },
  {
   "cell_type": "code",
   "execution_count": 8,
   "metadata": {},
   "outputs": [
    {
     "data": {
      "application/vnd.vegalite.v5+json": {
       "$schema": "https://vega.github.io/schema/vega-lite/v5.17.0.json",
       "config": {
        "view": {
         "continuousHeight": 300,
         "continuousWidth": 300
        }
       },
       "resolve": {
        "scale": {
         "color": "independent"
        }
       },
       "vconcat": [
        {
         "height": 200,
         "layer": [
          {
           "data": {
            "format": {
             "type": "json"
            },
            "url": "altair-data-7f4f2026ad79023a833e8a4368013e98.json"
           },
           "encoding": {
            "x": {
             "field": "time",
             "type": "temporal"
            },
            "y": {
             "field": "value",
             "scale": {
              "type": "symlog"
             },
             "title": "Blowing snow flux (g/m^2/s)",
             "type": "quantitative"
            }
           },
           "mark": {
            "type": "line"
           }
          },
          {
           "data": {
            "format": {
             "type": "json"
            },
            "url": "altair-data-cdb4808c7fc2d53f2a92fef3540c7a07.json"
           },
           "encoding": {
            "x": {
             "field": "time",
             "type": "temporal"
            },
            "y": {
             "field": "value",
             "scale": {
              "type": "symlog"
             },
             "title": "Snow depth (m)",
             "type": "quantitative"
            }
           },
           "mark": {
            "type": "line"
           }
          }
         ],
         "resolve": {
          "scale": {
           "y": "independent"
          }
         }
        },
        {
         "data": {
          "format": {
           "type": "json"
          },
          "url": "altair-data-044a2c63be32aece7f3997e34d324ed0.json"
         },
         "encoding": {
          "color": {
           "field": "time",
           "scale": {
            "scheme": "rainbow"
           },
           "timeUnit": "hours",
           "type": "ordinal"
          },
          "facet": {
           "field": "time",
           "timeUnit": "date",
           "type": "temporal"
          },
          "x": {
           "field": "value",
           "sort": "-y",
           "title": "<w'q'> (g/m²/s)",
           "type": "quantitative"
          },
          "y": {
           "field": "height",
           "title": "Height (m)",
           "type": "quantitative"
          }
         },
         "height": 200,
         "mark": {
          "type": "line"
         },
         "width": 200
        },
        {
         "data": {
          "format": {
           "type": "json"
          },
          "url": "altair-data-50da87dc96a6f2d2a0e54342565f6ad7.json"
         },
         "encoding": {
          "color": {
           "field": "time",
           "scale": {
            "scheme": "rainbow"
           },
           "timeUnit": "hours",
           "type": "ordinal"
          },
          "facet": {
           "field": "time",
           "timeUnit": "date",
           "type": "temporal"
          },
          "x": {
           "field": "value",
           "sort": "-y",
           "title": "Temperature (˚C)",
           "type": "quantitative"
          },
          "y": {
           "field": "height",
           "title": "Height (m)",
           "type": "quantitative"
          }
         },
         "height": 200,
         "mark": {
          "type": "line"
         },
         "width": 200
        },
        {
         "data": {
          "format": {
           "type": "json"
          },
          "url": "altair-data-a438f065af40c5d4b877f5441deb429e.json"
         },
         "encoding": {
          "color": {
           "field": "time",
           "scale": {
            "scheme": "rainbow"
           },
           "timeUnit": "hours",
           "type": "ordinal"
          },
          "facet": {
           "field": "time",
           "timeUnit": "date",
           "type": "temporal"
          },
          "x": {
           "field": "value",
           "sort": "-y",
           "title": "Specific humidity (g/g)",
           "type": "quantitative"
          },
          "y": {
           "field": "height",
           "title": "Height (m)",
           "type": "quantitative"
          }
         },
         "height": 200,
         "mark": {
          "type": "line"
         },
         "width": 200
        }
       ]
      },
      "text/plain": [
       "<VegaLite 5 object>\n",
       "\n",
       "If you see this message, it means the renderer has not been properly enabled\n",
       "for the frontend that you are using. For more information, see\n",
       "https://altair-viz.github.io/user_guide/display_frontends.html#troubleshooting\n"
      ]
     },
     "execution_count": 8,
     "metadata": {},
     "output_type": "execute_result"
    }
   ],
   "source": [
    "combo_chart = (\n",
    "    bs_flux_and_snow_depth_chart & hl_flux_chart & temp_chart & spechumidity_chart\n",
    ").resolve_scale(\n",
    "    color='independent'\n",
    ")\n",
    "combo_chart.save(\"chriscox_analysis_20240709.png\", dpi=300)\n",
    "combo_chart"
   ]
  }
 ],
 "metadata": {
  "kernelspec": {
   "display_name": "sublimationofsnow",
   "language": "python",
   "name": "python3"
  },
  "language_info": {
   "codemirror_mode": {
    "name": "ipython",
    "version": 3
   },
   "file_extension": ".py",
   "mimetype": "text/x-python",
   "name": "python",
   "nbconvert_exporter": "python",
   "pygments_lexer": "ipython3",
   "version": "3.12.4"
  }
 },
 "nbformat": 4,
 "nbformat_minor": 2
}
