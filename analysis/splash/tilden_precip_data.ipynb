{
 "cells": [
  {
   "cell_type": "code",
   "execution_count": 3,
   "metadata": {},
   "outputs": [],
   "source": [
    "import pandas as pd\n",
    "import altair as alt"
   ]
  },
  {
   "cell_type": "code",
   "execution_count": 4,
   "metadata": {},
   "outputs": [
    {
     "name": "stdout",
     "output_type": "stream",
     "text": [
      "ls: cannot access /data2/elilouis/sublimationofsnow/tilden_precip_data: No such file or directory\n"
     ]
    }
   ],
   "source": [
    "ls /data2/elilouis/sublimationofsnow/tilden_precip_data"
   ]
  },
  {
   "cell_type": "code",
   "execution_count": 5,
   "metadata": {},
   "outputs": [
    {
     "name": "stdout",
     "output_type": "stream",
     "text": [
      "cat: /data2/elilouis/sublimationofsnow/tilden_precip_data/KP23_001-177.PRECIP1: No such file or directory\n"
     ]
    }
   ],
   "source": [
    "cat /data2/elilouis/sublimationofsnow/tilden_precip_data/KP23_001-177.PRECIP1"
   ]
  },
  {
   "cell_type": "code",
   "execution_count": 8,
   "metadata": {},
   "outputs": [],
   "source": [
    "fn_2022 = \"/storage/elilouis/sublimationofsnow/tilden_precip_data/KP22_274-365-daily-precip.dat\"\n",
    "fn_2023 = \"/storage/elilouis/sublimationofsnow/tilden_precip_data/KP23_001-177-daily-precip.dat\"\n",
    "\n",
    "output_file = \"/storage/elilouis/sublimationofsnow/tilden_precip_data/kettle_ponds_precip.csv\""
   ]
  },
  {
   "cell_type": "code",
   "execution_count": 9,
   "metadata": {},
   "outputs": [],
   "source": [
    "df = pd.concat([\n",
    "    pd.read_csv(fn_2022, delim_whitespace=True),\n",
    "    pd.read_csv(fn_2023, delim_whitespace=True)\n",
    "])\n",
    "# create timestamps from strings\n",
    "df['date'] = pd.to_datetime(df['date'])\n",
    "# calculate accumulated precip\n",
    "df['acc_prec'] = df['avg'].cumsum()"
   ]
  },
  {
   "cell_type": "code",
   "execution_count": 10,
   "metadata": {},
   "outputs": [],
   "source": [
    "df.to_csv(output_file)"
   ]
  },
  {
   "cell_type": "code",
   "execution_count": 13,
   "metadata": {},
   "outputs": [
    {
     "data": {
      "text/html": [
       "<div>\n",
       "<style scoped>\n",
       "    .dataframe tbody tr th:only-of-type {\n",
       "        vertical-align: middle;\n",
       "    }\n",
       "\n",
       "    .dataframe tbody tr th {\n",
       "        vertical-align: top;\n",
       "    }\n",
       "\n",
       "    .dataframe thead th {\n",
       "        text-align: right;\n",
       "    }\n",
       "</style>\n",
       "<table border=\"1\" class=\"dataframe\">\n",
       "  <thead>\n",
       "    <tr style=\"text-align: right;\">\n",
       "      <th></th>\n",
       "      <th>doy</th>\n",
       "      <th>acc_prec</th>\n",
       "      <th>avg</th>\n",
       "      <th>geo1</th>\n",
       "      <th>geo2</th>\n",
       "      <th>geo3</th>\n",
       "    </tr>\n",
       "    <tr>\n",
       "      <th>date</th>\n",
       "      <th></th>\n",
       "      <th></th>\n",
       "      <th></th>\n",
       "      <th></th>\n",
       "      <th></th>\n",
       "      <th></th>\n",
       "    </tr>\n",
       "  </thead>\n",
       "  <tbody>\n",
       "    <tr>\n",
       "      <th>2022-11-30</th>\n",
       "      <td>256.96</td>\n",
       "      <td>0.00</td>\n",
       "      <td>-77.04</td>\n",
       "      <td>-77.04</td>\n",
       "      <td>-77.04</td>\n",
       "      <td>-77.04</td>\n",
       "    </tr>\n",
       "    <tr>\n",
       "      <th>2022-12-01</th>\n",
       "      <td>257.96</td>\n",
       "      <td>0.00</td>\n",
       "      <td>-77.04</td>\n",
       "      <td>-77.04</td>\n",
       "      <td>-77.04</td>\n",
       "      <td>-77.04</td>\n",
       "    </tr>\n",
       "    <tr>\n",
       "      <th>2022-12-02</th>\n",
       "      <td>258.96</td>\n",
       "      <td>15.23</td>\n",
       "      <td>-61.81</td>\n",
       "      <td>-61.38</td>\n",
       "      <td>-61.76</td>\n",
       "      <td>-62.27</td>\n",
       "    </tr>\n",
       "    <tr>\n",
       "      <th>2022-12-03</th>\n",
       "      <td>259.96</td>\n",
       "      <td>16.93</td>\n",
       "      <td>-75.34</td>\n",
       "      <td>-75.24</td>\n",
       "      <td>-75.29</td>\n",
       "      <td>-75.50</td>\n",
       "    </tr>\n",
       "    <tr>\n",
       "      <th>2022-12-04</th>\n",
       "      <td>260.96</td>\n",
       "      <td>16.93</td>\n",
       "      <td>-77.04</td>\n",
       "      <td>-77.04</td>\n",
       "      <td>-77.04</td>\n",
       "      <td>-77.04</td>\n",
       "    </tr>\n",
       "    <tr>\n",
       "      <th>...</th>\n",
       "      <td>...</td>\n",
       "      <td>...</td>\n",
       "      <td>...</td>\n",
       "      <td>...</td>\n",
       "      <td>...</td>\n",
       "      <td>...</td>\n",
       "    </tr>\n",
       "    <tr>\n",
       "      <th>2023-05-05</th>\n",
       "      <td>47.96</td>\n",
       "      <td>623.71</td>\n",
       "      <td>-77.04</td>\n",
       "      <td>-77.04</td>\n",
       "      <td>-77.04</td>\n",
       "      <td>-77.04</td>\n",
       "    </tr>\n",
       "    <tr>\n",
       "      <th>2023-05-06</th>\n",
       "      <td>48.96</td>\n",
       "      <td>624.85</td>\n",
       "      <td>-75.90</td>\n",
       "      <td>-75.98</td>\n",
       "      <td>-75.98</td>\n",
       "      <td>-75.74</td>\n",
       "    </tr>\n",
       "    <tr>\n",
       "      <th>2023-05-07</th>\n",
       "      <td>49.96</td>\n",
       "      <td>624.85</td>\n",
       "      <td>-77.04</td>\n",
       "      <td>-77.04</td>\n",
       "      <td>-77.04</td>\n",
       "      <td>-77.04</td>\n",
       "    </tr>\n",
       "    <tr>\n",
       "      <th>2023-05-08</th>\n",
       "      <td>50.96</td>\n",
       "      <td>624.85</td>\n",
       "      <td>-77.04</td>\n",
       "      <td>-77.04</td>\n",
       "      <td>-77.04</td>\n",
       "      <td>-77.04</td>\n",
       "    </tr>\n",
       "    <tr>\n",
       "      <th>2023-05-09</th>\n",
       "      <td>51.96</td>\n",
       "      <td>624.85</td>\n",
       "      <td>-77.04</td>\n",
       "      <td>-77.04</td>\n",
       "      <td>-77.04</td>\n",
       "      <td>-77.04</td>\n",
       "    </tr>\n",
       "  </tbody>\n",
       "</table>\n",
       "<p>161 rows × 6 columns</p>\n",
       "</div>"
      ],
      "text/plain": [
       "               doy  acc_prec    avg   geo1   geo2   geo3\n",
       "date                                                    \n",
       "2022-11-30  256.96      0.00 -77.04 -77.04 -77.04 -77.04\n",
       "2022-12-01  257.96      0.00 -77.04 -77.04 -77.04 -77.04\n",
       "2022-12-02  258.96     15.23 -61.81 -61.38 -61.76 -62.27\n",
       "2022-12-03  259.96     16.93 -75.34 -75.24 -75.29 -75.50\n",
       "2022-12-04  260.96     16.93 -77.04 -77.04 -77.04 -77.04\n",
       "...            ...       ...    ...    ...    ...    ...\n",
       "2023-05-05   47.96    623.71 -77.04 -77.04 -77.04 -77.04\n",
       "2023-05-06   48.96    624.85 -75.90 -75.98 -75.98 -75.74\n",
       "2023-05-07   49.96    624.85 -77.04 -77.04 -77.04 -77.04\n",
       "2023-05-08   50.96    624.85 -77.04 -77.04 -77.04 -77.04\n",
       "2023-05-09   51.96    624.85 -77.04 -77.04 -77.04 -77.04\n",
       "\n",
       "[161 rows x 6 columns]"
      ]
     },
     "execution_count": 13,
     "metadata": {},
     "output_type": "execute_result"
    }
   ],
   "source": [
    "df.set_index('date').loc[\"2022-11-30\": \"2023-05-09\"]-77.04"
   ]
  },
  {
   "cell_type": "code",
   "execution_count": null,
   "metadata": {},
   "outputs": [],
   "source": [
    "base = alt.Chart(df).encode(alt.X(\"date:T\")).properties(height = 200, width = 400)\n",
    "base.mark_line().encode(\n",
    "    alt.Y(\"acc_prec:Q\").title(\"Cumulative precipitation (mm SWE)\")\n",
    ") & base.mark_bar().encode(\n",
    "    alt.Y(\"avg:Q\").title(\"Daily precipitation (mm SWE)\")\n",
    ")"
   ]
  },
  {
   "cell_type": "code",
   "execution_count": null,
   "metadata": {},
   "outputs": [],
   "source": [
    "src = df.query(\"date >= '2022-11-30'\").query(\"date < '2023-05-11'\")\n",
    "base = alt.Chart(src).encode(alt.X(\"date:T\")).properties(height = 200, width = 400)\n",
    "base.mark_line().encode(\n",
    "    alt.Y(\"acc_prec:Q\").title(\"Cumulative precipitation (mm SWE)\")\n",
    ") & base.mark_bar().encode(\n",
    "    alt.Y(\"avg:Q\").title(\"Daily precipitation (mm SWE)\")\n",
    ")"
   ]
  },
  {
   "cell_type": "code",
   "execution_count": null,
   "metadata": {},
   "outputs": [],
   "source": [
    "src.acc_prec.max()"
   ]
  },
  {
   "cell_type": "code",
   "execution_count": null,
   "metadata": {},
   "outputs": [],
   "source": []
  }
 ],
 "metadata": {
  "kernelspec": {
   "display_name": "arm",
   "language": "python",
   "name": "python3"
  },
  "language_info": {
   "codemirror_mode": {
    "name": "ipython",
    "version": 3
   },
   "file_extension": ".py",
   "mimetype": "text/x-python",
   "name": "python",
   "nbconvert_exporter": "python",
   "pygments_lexer": "ipython3",
   "version": "3.12.1"
  }
 },
 "nbformat": 4,
 "nbformat_minor": 2
}
