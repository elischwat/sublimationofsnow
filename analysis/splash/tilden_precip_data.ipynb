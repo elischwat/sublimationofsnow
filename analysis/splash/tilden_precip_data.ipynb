{
 "cells": [
  {
   "cell_type": "code",
   "execution_count": null,
   "metadata": {},
   "outputs": [],
   "source": [
    "import pandas as pd\n",
    "import altair as alt"
   ]
  },
  {
   "cell_type": "code",
   "execution_count": null,
   "metadata": {},
   "outputs": [],
   "source": [
    "ls /data2/elilouis/sublimationofsnow/tilden_precip_data"
   ]
  },
  {
   "cell_type": "code",
   "execution_count": null,
   "metadata": {},
   "outputs": [],
   "source": [
    "cat /data2/elilouis/sublimationofsnow/tilden_precip_data/KP23_001-177.PRECIP1"
   ]
  },
  {
   "cell_type": "code",
   "execution_count": 7,
   "metadata": {},
   "outputs": [],
   "source": [
    "fn_2022 = \"/data2/elilouis/sublimationofsnow/tilden_precip_data/KP22_274-365-daily-precip.dat\"\n",
    "fn_2023 = \"/data2/elilouis/sublimationofsnow/tilden_precip_data/KP23_001-177-daily-precip.dat\"\n",
    "\n",
    "output_file = \"/data2/elilouis/sublimationofsnow/tilden_precip_data/kettle_ponds_precip.csv\""
   ]
  },
  {
   "cell_type": "code",
   "execution_count": 5,
   "metadata": {},
   "outputs": [],
   "source": [
    "df = pd.concat([\n",
    "    pd.read_csv(fn_2022, delim_whitespace=True),\n",
    "    pd.read_csv(fn_2023, delim_whitespace=True)\n",
    "])\n",
    "# create timestamps from strings\n",
    "df['date'] = pd.to_datetime(df['date'])\n",
    "# calculate accumulated precip\n",
    "df['acc_prec'] = df['avg'].cumsum()"
   ]
  },
  {
   "cell_type": "code",
   "execution_count": 8,
   "metadata": {},
   "outputs": [],
   "source": [
    "df.to_csv(output_file)"
   ]
  },
  {
   "cell_type": "code",
   "execution_count": null,
   "metadata": {},
   "outputs": [],
   "source": [
    "base = alt.Chart(df).encode(alt.X(\"date:T\")).properties(height = 200, width = 400)\n",
    "base.mark_line().encode(\n",
    "    alt.Y(\"acc_prec:Q\").title(\"Cumulative precipitation (mm SWE)\")\n",
    ") & base.mark_bar().encode(\n",
    "    alt.Y(\"avg:Q\").title(\"Daily precipitation (mm SWE)\")\n",
    ")"
   ]
  },
  {
   "cell_type": "code",
   "execution_count": null,
   "metadata": {},
   "outputs": [],
   "source": [
    "src = df.query(\"date >= '2022-11-30'\").query(\"date < '2023-05-11'\")\n",
    "base = alt.Chart(src).encode(alt.X(\"date:T\")).properties(height = 200, width = 400)\n",
    "base.mark_line().encode(\n",
    "    alt.Y(\"acc_prec:Q\").title(\"Cumulative precipitation (mm SWE)\")\n",
    ") & base.mark_bar().encode(\n",
    "    alt.Y(\"avg:Q\").title(\"Daily precipitation (mm SWE)\")\n",
    ")"
   ]
  },
  {
   "cell_type": "code",
   "execution_count": null,
   "metadata": {},
   "outputs": [],
   "source": [
    "src.acc_prec.max()"
   ]
  },
  {
   "cell_type": "code",
   "execution_count": null,
   "metadata": {},
   "outputs": [],
   "source": []
  }
 ],
 "metadata": {
  "kernelspec": {
   "display_name": "arm",
   "language": "python",
   "name": "python3"
  },
  "language_info": {
   "codemirror_mode": {
    "name": "ipython",
    "version": 3
   },
   "file_extension": ".py",
   "mimetype": "text/x-python",
   "name": "python",
   "nbconvert_exporter": "python",
   "pygments_lexer": "ipython3",
   "version": "3.11.0"
  }
 },
 "nbformat": 4,
 "nbformat_minor": 2
}
