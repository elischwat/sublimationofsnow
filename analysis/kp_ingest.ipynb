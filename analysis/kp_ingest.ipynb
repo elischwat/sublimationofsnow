{
 "cells": [
  {
   "cell_type": "code",
   "execution_count": 284,
   "metadata": {},
   "outputs": [],
   "source": [
    "import xarray as xr\n",
    "import altair as alt"
   ]
  },
  {
   "cell_type": "code",
   "execution_count": 285,
   "metadata": {},
   "outputs": [],
   "source": [
    "ds = xr.open_dataset(\"/Users/elischwat/Downloads/isfs_20221030.nc\")"
   ]
  },
  {
   "cell_type": "markdown",
   "metadata": {},
   "source": [
    "## Declare variable prefix and suffix to filter data"
   ]
  },
  {
   "cell_type": "code",
   "execution_count": 286,
   "metadata": {},
   "outputs": [],
   "source": [
    "VARIABLE_PREFIX = 'spd'\n",
    "TOWER_SUFFIX = 'c'"
   ]
  },
  {
   "cell_type": "code",
   "execution_count": 287,
   "metadata": {},
   "outputs": [
    {
     "data": {
      "text/plain": [
       "['spd_5m_c',\n",
       " 'spd_20m_c',\n",
       " 'spd_1m_c',\n",
       " 'spd_3m_c',\n",
       " 'spd_2m_c',\n",
       " 'spd_15m_c',\n",
       " 'spd_10m_c']"
      ]
     },
     "execution_count": 287,
     "metadata": {},
     "output_type": "execute_result"
    }
   ],
   "source": [
    "variables = [f for f in list(ds.data_vars) if VARIABLE_PREFIX in f and TOWER_SUFFIX in f]\n",
    "variables\n"
   ]
  },
  {
   "cell_type": "markdown",
   "metadata": {},
   "source": [
    "## Convert dataset to dataframe"
   ]
  },
  {
   "cell_type": "code",
   "execution_count": 288,
   "metadata": {},
   "outputs": [],
   "source": [
    "src = ds[variables].to_dataframe()"
   ]
  },
  {
   "cell_type": "markdown",
   "metadata": {},
   "source": [
    "## Parse height information from column names so measurement height is a column/index"
   ]
  },
  {
   "cell_type": "code",
   "execution_count": 265,
   "metadata": {},
   "outputs": [],
   "source": [
    "def height_from_variable_name(name):\n",
    "    if '_1m_' in name:\n",
    "        return 1\n",
    "    elif '_2m_' in name:\n",
    "        return 2\n",
    "    elif '_3m_' in name:\n",
    "        return 3\n",
    "    elif '_5m_' in name:\n",
    "        return 5\n",
    "    elif '_10m_' in name:\n",
    "        return 10\n",
    "    elif '_15m_' in name:\n",
    "        return 15\n",
    "    elif '_20m_' in name:\n",
    "        return 20"
   ]
  },
  {
   "cell_type": "code",
   "execution_count": 289,
   "metadata": {},
   "outputs": [],
   "source": [
    "src = src.reset_index()\n",
    "src = src.melt(id_vars='time', value_vars=[col for col in src.columns if 'spd' in col])\n",
    "src['height'] = src['variable'].apply(height_from_variable_name)\n",
    "src = src.set_index(['time'])"
   ]
  },
  {
   "cell_type": "code",
   "execution_count": 290,
   "metadata": {},
   "outputs": [
    {
     "data": {
      "text/html": [
       "<div>\n",
       "<style scoped>\n",
       "    .dataframe tbody tr th:only-of-type {\n",
       "        vertical-align: middle;\n",
       "    }\n",
       "\n",
       "    .dataframe tbody tr th {\n",
       "        vertical-align: top;\n",
       "    }\n",
       "\n",
       "    .dataframe thead th {\n",
       "        text-align: right;\n",
       "    }\n",
       "</style>\n",
       "<table border=\"1\" class=\"dataframe\">\n",
       "  <thead>\n",
       "    <tr style=\"text-align: right;\">\n",
       "      <th></th>\n",
       "      <th>variable</th>\n",
       "      <th>value</th>\n",
       "      <th>height</th>\n",
       "    </tr>\n",
       "    <tr>\n",
       "      <th>time</th>\n",
       "      <th></th>\n",
       "      <th></th>\n",
       "      <th></th>\n",
       "    </tr>\n",
       "  </thead>\n",
       "  <tbody>\n",
       "    <tr>\n",
       "      <th>2022-10-30 00:02:30</th>\n",
       "      <td>spd_5m_c</td>\n",
       "      <td>4.680837</td>\n",
       "      <td>5</td>\n",
       "    </tr>\n",
       "    <tr>\n",
       "      <th>2022-10-30 00:07:30</th>\n",
       "      <td>spd_5m_c</td>\n",
       "      <td>4.051001</td>\n",
       "      <td>5</td>\n",
       "    </tr>\n",
       "    <tr>\n",
       "      <th>2022-10-30 00:12:30</th>\n",
       "      <td>spd_5m_c</td>\n",
       "      <td>4.099550</td>\n",
       "      <td>5</td>\n",
       "    </tr>\n",
       "    <tr>\n",
       "      <th>2022-10-30 00:17:30</th>\n",
       "      <td>spd_5m_c</td>\n",
       "      <td>4.465554</td>\n",
       "      <td>5</td>\n",
       "    </tr>\n",
       "    <tr>\n",
       "      <th>2022-10-30 00:22:30</th>\n",
       "      <td>spd_5m_c</td>\n",
       "      <td>4.979016</td>\n",
       "      <td>5</td>\n",
       "    </tr>\n",
       "    <tr>\n",
       "      <th>...</th>\n",
       "      <td>...</td>\n",
       "      <td>...</td>\n",
       "      <td>...</td>\n",
       "    </tr>\n",
       "    <tr>\n",
       "      <th>2022-10-30 23:37:30</th>\n",
       "      <td>spd_10m_c</td>\n",
       "      <td>3.929428</td>\n",
       "      <td>10</td>\n",
       "    </tr>\n",
       "    <tr>\n",
       "      <th>2022-10-30 23:42:30</th>\n",
       "      <td>spd_10m_c</td>\n",
       "      <td>4.502552</td>\n",
       "      <td>10</td>\n",
       "    </tr>\n",
       "    <tr>\n",
       "      <th>2022-10-30 23:47:30</th>\n",
       "      <td>spd_10m_c</td>\n",
       "      <td>5.680924</td>\n",
       "      <td>10</td>\n",
       "    </tr>\n",
       "    <tr>\n",
       "      <th>2022-10-30 23:52:30</th>\n",
       "      <td>spd_10m_c</td>\n",
       "      <td>5.518827</td>\n",
       "      <td>10</td>\n",
       "    </tr>\n",
       "    <tr>\n",
       "      <th>2022-10-30 23:57:30</th>\n",
       "      <td>spd_10m_c</td>\n",
       "      <td>4.649902</td>\n",
       "      <td>10</td>\n",
       "    </tr>\n",
       "  </tbody>\n",
       "</table>\n",
       "<p>2016 rows × 3 columns</p>\n",
       "</div>"
      ],
      "text/plain": [
       "                      variable     value  height\n",
       "time                                            \n",
       "2022-10-30 00:02:30   spd_5m_c  4.680837       5\n",
       "2022-10-30 00:07:30   spd_5m_c  4.051001       5\n",
       "2022-10-30 00:12:30   spd_5m_c  4.099550       5\n",
       "2022-10-30 00:17:30   spd_5m_c  4.465554       5\n",
       "2022-10-30 00:22:30   spd_5m_c  4.979016       5\n",
       "...                        ...       ...     ...\n",
       "2022-10-30 23:37:30  spd_10m_c  3.929428      10\n",
       "2022-10-30 23:42:30  spd_10m_c  4.502552      10\n",
       "2022-10-30 23:47:30  spd_10m_c  5.680924      10\n",
       "2022-10-30 23:52:30  spd_10m_c  5.518827      10\n",
       "2022-10-30 23:57:30  spd_10m_c  4.649902      10\n",
       "\n",
       "[2016 rows x 3 columns]"
      ]
     },
     "execution_count": 290,
     "metadata": {},
     "output_type": "execute_result"
    }
   ],
   "source": [
    "src"
   ]
  },
  {
   "cell_type": "markdown",
   "metadata": {},
   "source": [
    "## Resample to 3 hour means"
   ]
  },
  {
   "cell_type": "code",
   "execution_count": 291,
   "metadata": {},
   "outputs": [
    {
     "name": "stderr",
     "output_type": "stream",
     "text": [
      "/var/folders/jy/xv6qnlms2cj_3p5yrzcwc0n00000gn/T/ipykernel_86078/216488169.py:1: FutureWarning: The default value of numeric_only in DataFrameGroupBy.mean is deprecated. In a future version, numeric_only will default to False. Either specify numeric_only or select only columns which should be valid for the function.\n",
      "  src = src.groupby(['height', 'variable']).resample('3H').mean()\n"
     ]
    }
   ],
   "source": [
    "src = src.groupby(['height', 'variable']).resample('3H').mean()\n",
    "src = src.drop(columns='height')"
   ]
  },
  {
   "cell_type": "markdown",
   "metadata": {},
   "source": [
    "## Plot"
   ]
  },
  {
   "cell_type": "code",
   "execution_count": 292,
   "metadata": {},
   "outputs": [
    {
     "name": "stderr",
     "output_type": "stream",
     "text": [
      "/usr/local/lib/python3.9/site-packages/altair/utils/core.py:317: FutureWarning: iteritems is deprecated and will be removed in a future version. Use .items instead.\n",
      "  for col_name, dtype in df.dtypes.iteritems():\n"
     ]
    },
    {
     "data": {
      "text/html": [
       "\n",
       "<div id=\"altair-viz-d752f896d952433bae4c2e84fe588756\"></div>\n",
       "<script type=\"text/javascript\">\n",
       "  var VEGA_DEBUG = (typeof VEGA_DEBUG == \"undefined\") ? {} : VEGA_DEBUG;\n",
       "  (function(spec, embedOpt){\n",
       "    let outputDiv = document.currentScript.previousElementSibling;\n",
       "    if (outputDiv.id !== \"altair-viz-d752f896d952433bae4c2e84fe588756\") {\n",
       "      outputDiv = document.getElementById(\"altair-viz-d752f896d952433bae4c2e84fe588756\");\n",
       "    }\n",
       "    const paths = {\n",
       "      \"vega\": \"https://cdn.jsdelivr.net/npm//vega@5?noext\",\n",
       "      \"vega-lib\": \"https://cdn.jsdelivr.net/npm//vega-lib?noext\",\n",
       "      \"vega-lite\": \"https://cdn.jsdelivr.net/npm//vega-lite@4.17.0?noext\",\n",
       "      \"vega-embed\": \"https://cdn.jsdelivr.net/npm//vega-embed@6?noext\",\n",
       "    };\n",
       "\n",
       "    function maybeLoadScript(lib, version) {\n",
       "      var key = `${lib.replace(\"-\", \"\")}_version`;\n",
       "      return (VEGA_DEBUG[key] == version) ?\n",
       "        Promise.resolve(paths[lib]) :\n",
       "        new Promise(function(resolve, reject) {\n",
       "          var s = document.createElement('script');\n",
       "          document.getElementsByTagName(\"head\")[0].appendChild(s);\n",
       "          s.async = true;\n",
       "          s.onload = () => {\n",
       "            VEGA_DEBUG[key] = version;\n",
       "            return resolve(paths[lib]);\n",
       "          };\n",
       "          s.onerror = () => reject(`Error loading script: ${paths[lib]}`);\n",
       "          s.src = paths[lib];\n",
       "        });\n",
       "    }\n",
       "\n",
       "    function showError(err) {\n",
       "      outputDiv.innerHTML = `<div class=\"error\" style=\"color:red;\">${err}</div>`;\n",
       "      throw err;\n",
       "    }\n",
       "\n",
       "    function displayChart(vegaEmbed) {\n",
       "      vegaEmbed(outputDiv, spec, embedOpt)\n",
       "        .catch(err => showError(`Javascript Error: ${err.message}<br>This usually means there's a typo in your chart specification. See the javascript console for the full traceback.`));\n",
       "    }\n",
       "\n",
       "    if(typeof define === \"function\" && define.amd) {\n",
       "      requirejs.config({paths});\n",
       "      require([\"vega-embed\"], displayChart, err => showError(`Error loading script: ${err.message}`));\n",
       "    } else {\n",
       "      maybeLoadScript(\"vega\", \"5\")\n",
       "        .then(() => maybeLoadScript(\"vega-lite\", \"4.17.0\"))\n",
       "        .then(() => maybeLoadScript(\"vega-embed\", \"6\"))\n",
       "        .catch(showError)\n",
       "        .then(() => displayChart(vegaEmbed));\n",
       "    }\n",
       "  })({\"config\": {\"view\": {\"continuousWidth\": 400, \"continuousHeight\": 300}}, \"data\": {\"name\": \"data-7606f173c163142eb91b1b54d17acaa3\"}, \"mark\": \"line\", \"encoding\": {\"color\": {\"field\": \"time\", \"scale\": {\"scheme\": \"inferno\"}, \"type\": \"ordinal\"}, \"x\": {\"field\": \"value\", \"sort\": \"y\", \"type\": \"quantitative\"}, \"y\": {\"field\": \"height\", \"title\": \"Height (m)\", \"type\": \"quantitative\"}}, \"$schema\": \"https://vega.github.io/schema/vega-lite/v4.17.0.json\", \"datasets\": {\"data-7606f173c163142eb91b1b54d17acaa3\": [{\"height\": 1, \"variable\": \"spd_1m_c\", \"time\": \"2022-10-30T00:00:00\", \"value\": 2.504060745239258}, {\"height\": 1, \"variable\": \"spd_1m_c\", \"time\": \"2022-10-30T03:00:00\", \"value\": 1.6317769289016724}, {\"height\": 1, \"variable\": \"spd_1m_c\", \"time\": \"2022-10-30T06:00:00\", \"value\": 1.3156803846359253}, {\"height\": 1, \"variable\": \"spd_1m_c\", \"time\": \"2022-10-30T09:00:00\", \"value\": 1.2648053169250488}, {\"height\": 1, \"variable\": \"spd_1m_c\", \"time\": \"2022-10-30T12:00:00\", \"value\": 1.7322583198547363}, {\"height\": 1, \"variable\": \"spd_1m_c\", \"time\": \"2022-10-30T15:00:00\", \"value\": 0.8312108516693115}, {\"height\": 1, \"variable\": \"spd_1m_c\", \"time\": \"2022-10-30T18:00:00\", \"value\": 1.9540400505065918}, {\"height\": 1, \"variable\": \"spd_1m_c\", \"time\": \"2022-10-30T21:00:00\", \"value\": 2.856173515319824}, {\"height\": 2, \"variable\": \"spd_2m_c\", \"time\": \"2022-10-30T00:00:00\", \"value\": 2.911315679550171}, {\"height\": 2, \"variable\": \"spd_2m_c\", \"time\": \"2022-10-30T03:00:00\", \"value\": 1.8560324907302856}, {\"height\": 2, \"variable\": \"spd_2m_c\", \"time\": \"2022-10-30T06:00:00\", \"value\": 1.4831867218017578}, {\"height\": 2, \"variable\": \"spd_2m_c\", \"time\": \"2022-10-30T09:00:00\", \"value\": 1.4441659450531006}, {\"height\": 2, \"variable\": \"spd_2m_c\", \"time\": \"2022-10-30T12:00:00\", \"value\": 1.999327301979065}, {\"height\": 2, \"variable\": \"spd_2m_c\", \"time\": \"2022-10-30T15:00:00\", \"value\": 0.9026461839675903}, {\"height\": 2, \"variable\": \"spd_2m_c\", \"time\": \"2022-10-30T18:00:00\", \"value\": 2.189178943634033}, {\"height\": 2, \"variable\": \"spd_2m_c\", \"time\": \"2022-10-30T21:00:00\", \"value\": 3.225968360900879}, {\"height\": 3, \"variable\": \"spd_3m_c\", \"time\": \"2022-10-30T00:00:00\", \"value\": 3.208012819290161}, {\"height\": 3, \"variable\": \"spd_3m_c\", \"time\": \"2022-10-30T03:00:00\", \"value\": 1.9488983154296875}, {\"height\": 3, \"variable\": \"spd_3m_c\", \"time\": \"2022-10-30T06:00:00\", \"value\": 1.5186400413513184}, {\"height\": 3, \"variable\": \"spd_3m_c\", \"time\": \"2022-10-30T09:00:00\", \"value\": 1.5022567510604858}, {\"height\": 3, \"variable\": \"spd_3m_c\", \"time\": \"2022-10-30T12:00:00\", \"value\": 2.1117327213287354}, {\"height\": 3, \"variable\": \"spd_3m_c\", \"time\": \"2022-10-30T15:00:00\", \"value\": 0.9198304414749146}, {\"height\": 3, \"variable\": \"spd_3m_c\", \"time\": \"2022-10-30T18:00:00\", \"value\": 2.3486244678497314}, {\"height\": 3, \"variable\": \"spd_3m_c\", \"time\": \"2022-10-30T21:00:00\", \"value\": 3.4798483848571777}, {\"height\": 5, \"variable\": \"spd_5m_c\", \"time\": \"2022-10-30T00:00:00\", \"value\": 3.581271171569824}, {\"height\": 5, \"variable\": \"spd_5m_c\", \"time\": \"2022-10-30T03:00:00\", \"value\": 2.0704283714294434}, {\"height\": 5, \"variable\": \"spd_5m_c\", \"time\": \"2022-10-30T06:00:00\", \"value\": 1.5523080825805664}, {\"height\": 5, \"variable\": \"spd_5m_c\", \"time\": \"2022-10-30T09:00:00\", \"value\": 1.5826900005340576}, {\"height\": 5, \"variable\": \"spd_5m_c\", \"time\": \"2022-10-30T12:00:00\", \"value\": 2.285733938217163}, {\"height\": 5, \"variable\": \"spd_5m_c\", \"time\": \"2022-10-30T15:00:00\", \"value\": 0.9631903171539307}, {\"height\": 5, \"variable\": \"spd_5m_c\", \"time\": \"2022-10-30T18:00:00\", \"value\": 2.528074264526367}, {\"height\": 5, \"variable\": \"spd_5m_c\", \"time\": \"2022-10-30T21:00:00\", \"value\": 3.8485255241394043}, {\"height\": 10, \"variable\": \"spd_10m_c\", \"time\": \"2022-10-30T00:00:00\", \"value\": 3.9830431938171387}, {\"height\": 10, \"variable\": \"spd_10m_c\", \"time\": \"2022-10-30T03:00:00\", \"value\": 1.8643220663070679}, {\"height\": 10, \"variable\": \"spd_10m_c\", \"time\": \"2022-10-30T06:00:00\", \"value\": 1.3678616285324097}, {\"height\": 10, \"variable\": \"spd_10m_c\", \"time\": \"2022-10-30T09:00:00\", \"value\": 1.4843765497207642}, {\"height\": 10, \"variable\": \"spd_10m_c\", \"time\": \"2022-10-30T12:00:00\", \"value\": 2.085132122039795}, {\"height\": 10, \"variable\": \"spd_10m_c\", \"time\": \"2022-10-30T15:00:00\", \"value\": 0.9112574458122253}, {\"height\": 10, \"variable\": \"spd_10m_c\", \"time\": \"2022-10-30T18:00:00\", \"value\": 2.690662384033203}, {\"height\": 10, \"variable\": \"spd_10m_c\", \"time\": \"2022-10-30T21:00:00\", \"value\": 4.189486980438232}, {\"height\": 15, \"variable\": \"spd_15m_c\", \"time\": \"2022-10-30T00:00:00\", \"value\": 4.184812545776367}, {\"height\": 15, \"variable\": \"spd_15m_c\", \"time\": \"2022-10-30T03:00:00\", \"value\": 1.6676329374313354}, {\"height\": 15, \"variable\": \"spd_15m_c\", \"time\": \"2022-10-30T06:00:00\", \"value\": 1.282353162765503}, {\"height\": 15, \"variable\": \"spd_15m_c\", \"time\": \"2022-10-30T09:00:00\", \"value\": 1.3791166543960571}, {\"height\": 15, \"variable\": \"spd_15m_c\", \"time\": \"2022-10-30T12:00:00\", \"value\": 1.5950993299484253}, {\"height\": 15, \"variable\": \"spd_15m_c\", \"time\": \"2022-10-30T15:00:00\", \"value\": 0.8485769629478455}, {\"height\": 15, \"variable\": \"spd_15m_c\", \"time\": \"2022-10-30T18:00:00\", \"value\": 2.8229997158050537}, {\"height\": 15, \"variable\": \"spd_15m_c\", \"time\": \"2022-10-30T21:00:00\", \"value\": 4.471521377563477}, {\"height\": 20, \"variable\": \"spd_20m_c\", \"time\": \"2022-10-30T00:00:00\", \"value\": 4.160537242889404}, {\"height\": 20, \"variable\": \"spd_20m_c\", \"time\": \"2022-10-30T03:00:00\", \"value\": 1.5088074207305908}, {\"height\": 20, \"variable\": \"spd_20m_c\", \"time\": \"2022-10-30T06:00:00\", \"value\": 1.1286239624023438}, {\"height\": 20, \"variable\": \"spd_20m_c\", \"time\": \"2022-10-30T09:00:00\", \"value\": 1.1834063529968262}, {\"height\": 20, \"variable\": \"spd_20m_c\", \"time\": \"2022-10-30T12:00:00\", \"value\": 1.1836556196212769}, {\"height\": 20, \"variable\": \"spd_20m_c\", \"time\": \"2022-10-30T15:00:00\", \"value\": 0.8504933714866638}, {\"height\": 20, \"variable\": \"spd_20m_c\", \"time\": \"2022-10-30T18:00:00\", \"value\": 2.9016709327697754}, {\"height\": 20, \"variable\": \"spd_20m_c\", \"time\": \"2022-10-30T21:00:00\", \"value\": 4.625209331512451}]}}, {\"mode\": \"vega-lite\"});\n",
       "</script>"
      ],
      "text/plain": [
       "alt.Chart(...)"
      ]
     },
     "execution_count": 292,
     "metadata": {},
     "output_type": "execute_result"
    }
   ],
   "source": [
    "alt.Chart(src.reset_index()).mark_line().encode(\n",
    "    alt.X('value:Q', sort='y', ),\n",
    "    alt.Y('height:Q', title='Height (m)'),\n",
    "    alt.Color('time:O', scale=alt.Scale(scheme='inferno'))\n",
    ")"
   ]
  }
 ],
 "metadata": {
  "kernelspec": {
   "display_name": "Python 3",
   "language": "python",
   "name": "python3"
  },
  "language_info": {
   "codemirror_mode": {
    "name": "ipython",
    "version": 3
   },
   "file_extension": ".py",
   "mimetype": "text/x-python",
   "name": "python",
   "nbconvert_exporter": "python",
   "pygments_lexer": "ipython3",
   "version": "3.9.0"
  },
  "orig_nbformat": 4,
  "vscode": {
   "interpreter": {
    "hash": "aee8b7b246df8f9039afb4144a1f6fd8d2ca17a180786b69acc140d282b71a49"
   }
  }
 },
 "nbformat": 4,
 "nbformat_minor": 2
}
