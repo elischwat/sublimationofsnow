{
 "cells": [
  {
   "cell_type": "code",
   "execution_count": null,
   "metadata": {},
   "outputs": [],
   "source": [
    "import glob\n",
    "import numpy as np\n",
    "import pandas as pd\n",
    "import xarray as xr\n",
    "import pytz\n",
    "import matplotlib.pyplot as plt\n",
    "\n",
    "from metpy.units import units\n",
    "from metpy.calc import add_height_to_pressure\n",
    "from sublimpy import utils\n",
    "from metpy.constants import density_water"
   ]
  },
  {
   "cell_type": "code",
   "execution_count": null,
   "metadata": {},
   "outputs": [],
   "source": [
    "import sys\n",
    "sys.path.append('../splash/')\n",
    "import functions_library"
   ]
  },
  {
   "cell_type": "markdown",
   "metadata": {},
   "source": [
    "# SoS Run"
   ]
  },
  {
   "cell_type": "markdown",
   "metadata": {},
   "source": [
    "## Load SoS Data"
   ]
  },
  {
   "cell_type": "code",
   "execution_count": null,
   "metadata": {},
   "outputs": [],
   "source": [
    "start_date = '20221130'\n",
    "end_date = '20230509'\n",
    "tidy_dataset_fn = f\"../sos/tidy_df_{start_date}_{end_date}_noplanar_fit.parquet\"\n",
    "tidy_df = pd.read_parquet(tidy_dataset_fn)\n",
    "tidy_df['time'] = pd.to_datetime(tidy_df['time'])\n",
    "\n",
    "seconds_in_sos_timestep = 5*60"
   ]
  },
  {
   "cell_type": "markdown",
   "metadata": {},
   "source": [
    "## Prep inputs for the SPLASH algorithm"
   ]
  },
  {
   "cell_type": "code",
   "execution_count": null,
   "metadata": {},
   "outputs": [],
   "source": [
    "sos_inputs_df = tidy_df[tidy_df.variable.isin(\n",
    "    ['spd_3m_c', 'Tsurf_c', 'T_3m_c', 'RH_3m_c', 'mixingratio_3m_c', 'P_10m_c', 'SnowDepth_c', 'w_h2o__3m_c', 'w_h2o__10m_c', 'w_h2o__20m_c', 'w_tc__3m_c']\n",
    ")][['time', 'variable', 'value']].set_index('time').pivot(columns='variable')\n",
    "sos_inputs_df.columns = sos_inputs_df.columns.droplevel()\n",
    "# adjust pressure from 10m to 3m\n",
    "sos_inputs_df['P_10m_c'] = add_height_to_pressure(\n",
    "    sos_inputs_df['P_10m_c'].values * units(\"millibar\"), \n",
    "    -7 * units(\"m\")\n",
    ")\n",
    "sos_inputs_df"
   ]
  },
  {
   "cell_type": "code",
   "execution_count": null,
   "metadata": {},
   "outputs": [],
   "source": [
    "INVERSION_HEIGHT = 600\n",
    "SOS_INSTRUMENT_HEIGHT = 3\n",
    "\n",
    "output_var_names = [\n",
    "    'hsb', 'hlb', 'tau', 'zo', 'zot', 'zoq', 'L', 'usr', 'tsr', 'qsr', 'dter', 'dqer', \\\n",
    "        'hl_webb', 'Cd', 'Ch', 'Ce', 'Cdn_10', 'Chn_10', 'Cen_10', 'rr', 'rt', 'rq', \n",
    "]"
   ]
  },
  {
   "cell_type": "markdown",
   "metadata": {},
   "source": [
    "## Run the SPLASH algorithm"
   ]
  },
  {
   "cell_type": "code",
   "execution_count": null,
   "metadata": {},
   "outputs": [],
   "source": [
    "# INPUTS get parsed like this:\n",
    "# u  = bulk_input[0] # wind speed                         (m/s)\n",
    "# ts = bulk_input[1] # bulk water/ice surface tempetature (degC)\n",
    "# t  = bulk_input[2] # air temperature                    (degC) \n",
    "# Q  = bulk_input[3] # air moisture mixing ratio          (kg/kg)\n",
    "# zi = bulk_input[4] # inversion height                   (m)\n",
    "# P  = bulk_input[5] # surface pressure                   (mb)\n",
    "# zu = bulk_input[6] # height of anemometer               (m)\n",
    "# zt = bulk_input[7] # height of thermometer              (m)\n",
    "# zq = bulk_input[8] # height of hygrometer               (m)\n",
    "sos_results_list = []\n",
    "for time, row in sos_inputs_df.iterrows():\n",
    "    bulk_inputs = [\n",
    "        row['spd_3m_c'],\n",
    "        row['Tsurf_c'],\n",
    "        row['T_3m_c'],\n",
    "        row['mixingratio_3m_c'],\n",
    "        INVERSION_HEIGHT,\n",
    "        row['P_10m_c'],\n",
    "        SOS_INSTRUMENT_HEIGHT - row['SnowDepth_c'],\n",
    "        SOS_INSTRUMENT_HEIGHT - row['SnowDepth_c'],\n",
    "        SOS_INSTRUMENT_HEIGHT - row['SnowDepth_c'],\n",
    "        row['RH_3m_c'],\n",
    "        1 # vwc \"volumetric water content\" doesn't matter if snow_flag = 1\n",
    "    ]\n",
    "    if any(pd.isnull(np.array(bulk_inputs))):\n",
    "        print(f\"Failed on timestamp: {time}\")\n",
    "        sos_results_list.append(np.full(len(output_var_names), np.nan))    \n",
    "    else:\n",
    "        bulk_outputs = functions_library.cor_ice_A10(bulk_inputs, le_flag=1,snow_flag=1,sta='asfs30')\n",
    "        sos_results_list.append(bulk_outputs)\n",
    "\n",
    "sos_results_df = pd.DataFrame(sos_results_list)\n",
    "sos_results_df.columns = output_var_names\n",
    "sos_results_df['time'] = sos_inputs_df.index\n",
    "sos_results_df = sos_results_df.set_index('time')"
   ]
  },
  {
   "cell_type": "markdown",
   "metadata": {},
   "source": [
    "## Convert w/m^2 to g/m^2/s"
   ]
  },
  {
   "cell_type": "code",
   "execution_count": null,
   "metadata": {},
   "outputs": [],
   "source": [
    "latent_heat_of_vaporization = 2838 * units(\"J/g\")\n",
    "sos_results_df['hlb_gperm2s'] = sos_results_df['hlb'] / latent_heat_of_vaporization"
   ]
  },
  {
   "cell_type": "code",
   "execution_count": null,
   "metadata": {},
   "outputs": [],
   "source": [
    "((sos_results_df['hlb_gperm2s']).loc['20221130':'20230509'].cumsum()*seconds_in_sos_timestep/density_water).plot(\n",
    "    label = 'predicted', color='black', linestyle='--'\n",
    ")\n",
    "(sos_inputs_df['w_h2o__3m_c'].loc['20221130':'20230509'].cumsum()*seconds_in_sos_timestep/density_water).plot(\n",
    "    label = 'measured 3m'\n",
    ")\n",
    "(sos_inputs_df['w_h2o__10m_c'].loc['20221130':'20230509'].cumsum()*seconds_in_sos_timestep/density_water).plot(\n",
    "    label = 'measured 10m'\n",
    ")\n",
    "(sos_inputs_df['w_h2o__20m_c'].loc['20221130':'20230509'].cumsum()*seconds_in_sos_timestep/density_water).plot(\n",
    "    label = 'measured 20m'\n",
    ")\n",
    "plt.legend()\n",
    "plt.ylim(0,50)"
   ]
  },
  {
   "cell_type": "code",
   "execution_count": null,
   "metadata": {},
   "outputs": [],
   "source": [
    "sos_inputs_df['w_h2o__3m_c'].loc['20221201': '20221230'].plot(label = 'SoS EC w_h2o_')\n",
    "(sos_results_df['hlb_gperm2s']).loc['20221201': '20221230'].plot(label = 'Bulk Algorithm w/ SoS Inputs')\n",
    "plt.legend()\n",
    "plt.ylim(-0.05, 0.05)"
   ]
  },
  {
   "cell_type": "code",
   "execution_count": null,
   "metadata": {},
   "outputs": [],
   "source": [
    "sos_inputs_df['w_h2o__3m_c'].loc['20230101': '20230131'].plot(label = 'SoS EC w_h2o_')\n",
    "(sos_results_df['hlb_gperm2s']).loc['20230101': '20230131'].plot(label = 'Bulk Algorithm w/ SoS Inputs')\n",
    "plt.legend()\n",
    "plt.ylim(-0.05, 0.05)"
   ]
  },
  {
   "cell_type": "markdown",
   "metadata": {},
   "source": [
    "# SPLASH Run"
   ]
  },
  {
   "cell_type": "markdown",
   "metadata": {},
   "source": [
    "## Load SPLASH data"
   ]
  },
  {
   "cell_type": "code",
   "execution_count": null,
   "metadata": {},
   "outputs": [],
   "source": [
    "splash_data_vars = [\n",
    "    'snow_depth',\n",
    "    'skin_temp_surface',\n",
    "    'wspd_vec_mean',\n",
    "    'temp',\n",
    "    'mixing_ratio',\n",
    "    'atmos_pressure',\n",
    "    'rh',\n",
    "    'Hl',\n",
    "    'bulk_Hl'\n",
    "]"
   ]
  },
  {
   "cell_type": "code",
   "execution_count": null,
   "metadata": {},
   "outputs": [],
   "source": [
    "# for comparison with SOS data in december\n",
    "splash_files_dec22 = glob.glob(\n",
    "    \"/storage/elilouis/sublimationofsnow/asfs/ASFS-30_Level2_SPLASH2021-2023/sledseb**202212**.nc\"\n",
    ")\n",
    "\n",
    "splash_files_all = glob.glob(\n",
    "    \"/storage/elilouis/sublimationofsnow/asfs/ASFS-30_Level2_SPLASH2021-2023/sledseb**.nc\"\n",
    ")\n",
    "\n",
    "# winter 2021-2022 \n",
    "splash_files_winter_21_22 = [ v for v in splash_files_all if v >=\n",
    " '/storage/elilouis/sublimationofsnow/asfs/ASFS-30_Level2_SPLASH2021-2023/sledseb.asfs30.level2.0.10min.20211101.000000.nc'\n",
    " and \n",
    " v <\n",
    " '/storage/elilouis/sublimationofsnow/asfs/ASFS-30_Level2_SPLASH2021-2023/sledseb.asfs30.level2.0.10min.20220601.000000.nc'\n",
    "]"
   ]
  },
  {
   "cell_type": "code",
   "execution_count": null,
   "metadata": {},
   "outputs": [],
   "source": [
    "splash_inputs_dec22_ds = xr.open_mfdataset(splash_files_dec22, \n",
    "                                     compat='override',\n",
    "                                     coords=['time'],\n",
    "                                     preprocess=lambda ds: ds[splash_data_vars]\n",
    "                                    )"
   ]
  },
  {
   "cell_type": "code",
   "execution_count": null,
   "metadata": {},
   "outputs": [],
   "source": [
    "for var in ['metek_u','metek_v','metek_w','metek_T','licor_co2','licor_h2o']:\n",
    "    print(var)\n",
    "    print(splash_inputs_dec22_ds[var].attrs)\n",
    "    print()"
   ]
  },
  {
   "cell_type": "code",
   "execution_count": null,
   "metadata": {},
   "outputs": [],
   "source": [
    "splash_inputs_winter_21_22_ds = xr.open_mfdataset(splash_files_winter_21_22, \n",
    "                                     compat='override',\n",
    "                                     coords=['time'],\n",
    "                                     preprocess=lambda ds: ds[splash_data_vars]\n",
    "                                    )"
   ]
  },
  {
   "cell_type": "code",
   "execution_count": null,
   "metadata": {},
   "outputs": [],
   "source": [
    "splash_inputs_dec22_df = splash_inputs_dec22_ds.to_dataframe()\n",
    "splash_inputs_winter_21_22_df = splash_inputs_winter_21_22_ds.to_dataframe()"
   ]
  },
  {
   "cell_type": "code",
   "execution_count": null,
   "metadata": {},
   "outputs": [],
   "source": [
    "splash_inputs_dec22_df = utils.modify_df_timezone(splash_inputs_dec22_df.reset_index(), pytz.UTC, pytz.timezone(\"US/Mountain\")).set_index('time')\n",
    "# fill missing snow depth values, which there are a lot of, these the backfill method\n",
    "# splash_inputs_dec22_df.snow_depth = splash_inputs_dec22_df.snow_depth.interpolate(method='bfill')\n",
    "# convert snow depth from cm to m\n",
    "splash_inputs_dec22_df.snow_depth = splash_inputs_dec22_df.snow_depth/100\n",
    "# convert mixing ratio from g/kg to g/g which is the same as kg/kg\n",
    "splash_inputs_dec22_df.mixing_ratio = splash_inputs_dec22_df.mixing_ratio/1000\n",
    "\n",
    "\n",
    "splash_inputs_winter_21_22_df = utils.modify_df_timezone(splash_inputs_winter_21_22_df.reset_index(), pytz.UTC, pytz.timezone(\"US/Mountain\")).set_index('time')\n",
    "# fill missing snow depth values, which there are a lot of, these the backfill method\n",
    "# splash_inputs_winter_21_22_df.snow_depth = splash_inputs_winter_21_22_df.snow_depth.interpolate(method='bfill')\n",
    "# convert snow depth from cm to m\n",
    "splash_inputs_winter_21_22_df.snow_depth = splash_inputs_winter_21_22_df.snow_depth/100\n",
    "# convert mixing ratio from g/kg to g/g which is the same as kg/kg\n",
    "splash_inputs_winter_21_22_df.mixing_ratio = splash_inputs_winter_21_22_df.mixing_ratio/1000"
   ]
  },
  {
   "cell_type": "code",
   "execution_count": null,
   "metadata": {},
   "outputs": [],
   "source": [
    "SPLASH_ANEMOMETER_HEIGHT = 4.62\n",
    "SPLASH_THERMOMETER_HEIGHT = 2.89\n",
    "SPLASH_HYGROMETER_HEIGHT = 2.8\n",
    "INVERSION_HEIGHT = 600"
   ]
  },
  {
   "cell_type": "code",
   "execution_count": null,
   "metadata": {},
   "outputs": [],
   "source": [
    "splash_results_dec22_list = []\n",
    "for time, row in splash_inputs_dec22_df.iterrows():\n",
    "    bulk_inputs = [\n",
    "        row['wspd_vec_mean'],\n",
    "        row['skin_temp_surface'],\n",
    "        row['temp'],\n",
    "        row['mixing_ratio'],\n",
    "        INVERSION_HEIGHT,\n",
    "        row['atmos_pressure'],\n",
    "        SPLASH_ANEMOMETER_HEIGHT - row['snow_depth'],\n",
    "        SPLASH_THERMOMETER_HEIGHT - row['snow_depth'],\n",
    "        SPLASH_HYGROMETER_HEIGHT - row['snow_depth'],\n",
    "        row['rh'],\n",
    "        1 # vwc \"volumetric water content\" doesn't matter if snow_flag = 1\n",
    "    ]\n",
    "    if any(pd.isnull(np.array(bulk_inputs))):\n",
    "        print(f\"Failed on timestamp: {time}\")\n",
    "        splash_results_dec22_list.append(np.full(len(output_var_names), np.nan))    \n",
    "    else:\n",
    "        bulk_outputs = functions_library.cor_ice_A10(bulk_inputs, le_flag=1,snow_flag=1,sta='asfs30')\n",
    "        splash_results_dec22_list.append(bulk_outputs)\n",
    "\n",
    "splash_results_dec22_df = pd.DataFrame(splash_results_dec22_list)\n",
    "splash_results_dec22_df.columns = output_var_names\n",
    "splash_results_dec22_df = splash_results_dec22_df\n",
    "splash_results_dec22_df.index = splash_inputs_dec22_df.index"
   ]
  },
  {
   "cell_type": "code",
   "execution_count": null,
   "metadata": {},
   "outputs": [],
   "source": [
    "splash_results_winter_21_22_list = []\n",
    "for time, row in splash_inputs_winter_21_22_df.iterrows():\n",
    "    bulk_inputs = [\n",
    "        row['wspd_vec_mean'],\n",
    "        row['skin_temp_surface'],\n",
    "        row['temp'],\n",
    "        row['mixing_ratio'],\n",
    "        INVERSION_HEIGHT,\n",
    "        row['atmos_pressure'],\n",
    "        SPLASH_ANEMOMETER_HEIGHT - row['snow_depth'],\n",
    "        SPLASH_THERMOMETER_HEIGHT - row['snow_depth'],\n",
    "        SPLASH_HYGROMETER_HEIGHT - row['snow_depth'],\n",
    "        row['rh'],\n",
    "        1 # vwc \"volumetric water content\" doesn't matter if snow_flag = 1\n",
    "    ]\n",
    "    if any(pd.isnull(np.array(bulk_inputs))):\n",
    "        print(f\"Failed on timestamp: {time}\")\n",
    "        splash_results_winter_21_22_list.append(np.full(len(output_var_names), np.nan))    \n",
    "    else:\n",
    "        bulk_outputs = functions_library.cor_ice_A10(bulk_inputs, le_flag=1,snow_flag=1,sta='asfs30')\n",
    "        splash_results_winter_21_22_list.append(bulk_outputs)\n",
    "\n",
    "splash_results_winter_21_22_df = pd.DataFrame(splash_results_winter_21_22_list)\n",
    "splash_results_winter_21_22_df.columns = output_var_names\n",
    "splash_results_winter_21_22_df = splash_results_winter_21_22_df\n",
    "splash_results_winter_21_22_df.index = splash_inputs_winter_21_22_df.index"
   ]
  },
  {
   "cell_type": "code",
   "execution_count": null,
   "metadata": {},
   "outputs": [],
   "source": [
    "plt.scatter(\n",
    "    splash_inputs_winter_21_22_df['bulk_Hl'],\n",
    "    splash_results_winter_21_22_df['hlb']\n",
    ")"
   ]
  },
  {
   "cell_type": "markdown",
   "metadata": {},
   "source": [
    "# Calculate mixing ratio gradients for SoS and SPLASH data"
   ]
  },
  {
   "cell_type": "code",
   "execution_count": null,
   "metadata": {},
   "outputs": [],
   "source": [
    "# These are copied from data-processing/functions_librarymath\n",
    "sos_es=(1.0003+4.18e-6*sos_inputs_df['P_10m_c'])*6.1115*np.exp(22.452*sos_inputs_df['Tsurf_c']/(sos_inputs_df['Tsurf_c']+272.55))\n",
    "sos_inputs_df['surface_mixing_ratio'] = sos_es*622/(1010.0-.378*sos_es)/1000    \n",
    "sos_inputs_df['mixingratio_diff'] = sos_inputs_df['mixingratio_3m_c'] - sos_inputs_df['surface_mixing_ratio']\n",
    "\n",
    "splash_es=(1.0003+4.18e-6*splash_inputs_winter_21_22_df['atmos_pressure'])*6.1115*np.exp(22.452*splash_inputs_winter_21_22_df['skin_temp_surface']/(splash_inputs_winter_21_22_df['skin_temp_surface']+272.55))\n",
    "splash_inputs_winter_21_22_df['surface_mixing_ratio'] = splash_es*622/(1010.0-.378*splash_es)/1000    \n",
    "splash_inputs_winter_21_22_df['mixingratio_diff'] = splash_inputs_winter_21_22_df['mixing_ratio'] - splash_inputs_winter_21_22_df['surface_mixing_ratio']\n",
    "\n",
    "splash_es=(1.0003+4.18e-6*splash_inputs_dec22_df['atmos_pressure'])*6.1115*np.exp(22.452*splash_inputs_dec22_df['skin_temp_surface']/(splash_inputs_dec22_df['skin_temp_surface']+272.55))\n",
    "splash_inputs_dec22_df['surface_mixing_ratio'] = splash_es*622/(1010.0-.378*splash_es)/1000    \n",
    "splash_inputs_dec22_df['mixingratio_diff'] = splash_inputs_dec22_df['mixing_ratio'] - splash_inputs_dec22_df['surface_mixing_ratio']"
   ]
  },
  {
   "cell_type": "markdown",
   "metadata": {},
   "source": [
    "# Plot results\n"
   ]
  },
  {
   "cell_type": "code",
   "execution_count": null,
   "metadata": {},
   "outputs": [],
   "source": [
    "seconds_per_10min = 10*60"
   ]
  },
  {
   "cell_type": "code",
   "execution_count": null,
   "metadata": {},
   "outputs": [],
   "source": [
    "(\n",
    "    (splash_results_winter_21_22_df['hlb']).cumsum()*seconds_per_10min/density_water/latent_heat_of_vaporization\n",
    ").plot(label='Bulk Algorithm w/ SPLASH Inputs')\n",
    "(\n",
    "    (splash_inputs_winter_21_22_df['bulk_Hl']).cumsum()*seconds_per_10min/density_water/latent_heat_of_vaporization\n",
    ").plot(label='Bulk results provided by SPLASH')\n",
    "(\n",
    "    (splash_inputs_winter_21_22_df['Hl']).cumsum()*seconds_per_10min/density_water/latent_heat_of_vaporization\n",
    ").plot(label='EC by SPLASH')\n",
    "plt.legend()\n",
    "plt.ylabel(\"Cumulative latent heat fluxes (mm)\")"
   ]
  },
  {
   "cell_type": "code",
   "execution_count": null,
   "metadata": {},
   "outputs": [],
   "source": [
    "(splash_inputs_winter_21_22_df['mixingratio_diff']).plot(label='SPLASH inputs')\n",
    "plt.axhline(0, color='black', zorder=10)\n",
    "plt.legend()\n",
    "plt.ylabel(\"Mixing ratio gradient (3m - surface)\")"
   ]
  },
  {
   "cell_type": "code",
   "execution_count": null,
   "metadata": {},
   "outputs": [],
   "source": [
    "(splash_results_dec22_df['hlb']).head(1000).plot(label='Bulk Algorithm w/ SPLASH Inputs')\n",
    "(splash_inputs_dec22_df['bulk_Hl']).head(1000).plot(label='Bulk results provided by SPLASH')\n",
    "plt.legend()"
   ]
  },
  {
   "cell_type": "code",
   "execution_count": null,
   "metadata": {},
   "outputs": [],
   "source": [
    "(\n",
    "    (splash_results_dec22_df['hlb']).cumsum()*seconds_per_10min/density_water/latent_heat_of_vaporization\n",
    ").plot(label='Bulk Algorithm w/ SPLASH Inputs')\n",
    "(\n",
    "    (splash_inputs_dec22_df['bulk_Hl']).cumsum()*seconds_per_10min/density_water/latent_heat_of_vaporization\n",
    ").plot(label='Bulk results provided by SPLASH')\n",
    "(\n",
    "    (splash_inputs_dec22_df['Hl']).cumsum()*seconds_per_10min/density_water/latent_heat_of_vaporization\n",
    ").plot(label='EC by SPLASH')\n",
    "plt.legend()\n",
    "plt.ylabel(\"Cumulative latent heat fluxes (mm)\")"
   ]
  },
  {
   "cell_type": "code",
   "execution_count": null,
   "metadata": {},
   "outputs": [],
   "source": [
    "(splash_inputs_dec22_df['mixingratio_diff']).plot(label='SPLASH inputs')\n",
    "(sos_inputs_df['mixingratio_diff'].loc['20221201': '20221231']).plot(label='SOS inputs')\n",
    "plt.axhline(0, color='black', zorder=10)\n",
    "plt.legend()\n",
    "plt.ylabel(\"Mixing ratio gradient (3m - surface)\")"
   ]
  },
  {
   "cell_type": "markdown",
   "metadata": {},
   "source": [
    "## Compare SPLASH and SOS measurements/inputs"
   ]
  },
  {
   "cell_type": "code",
   "execution_count": null,
   "metadata": {},
   "outputs": [],
   "source": [
    "fig, axes = plt.subplots(3, 2, figsize = (12, 6), sharex=True)\n",
    "plt.figure(figsize=(6,3))\n",
    "\n",
    "sos_inputs_df['spd_3m_c'].loc['20221201': '20221212'].plot(ax=axes[0,0], label='SoS data')\n",
    "splash_inputs_dec22_df['wspd_vec_mean'].loc['20221201': '20221212'].plot(ax=axes[0,0], label='SPLASH data')\n",
    "axes[0,0].set_ylabel(\"wind speed (m/s)\")\n",
    "axes[0,0].legend()\n",
    "\n",
    "sos_inputs_df['Tsurf_c'].loc['20221201': '20221212'].plot(ax=axes[1,0])\n",
    "splash_inputs_dec22_df['skin_temp_surface'].loc['20221201': '20221212'].plot(ax=axes[1,0])\n",
    "axes[1,0].set_ylabel(\"Skin temperature (˚C)\")\n",
    "\n",
    "sos_inputs_df['T_3m_c'].loc['20221201': '20221212'].plot(ax=axes[2,0])\n",
    "splash_inputs_dec22_df['temp'].loc['20221201': '20221212'].plot(ax=axes[2,0])\n",
    "axes[2,0].set_ylabel(\"Air temperature (˚C)\")\n",
    "\n",
    "sos_inputs_df['mixingratio_3m_c'].loc['20221201': '20221212'].plot(ax=axes[0,1])\n",
    "splash_inputs_dec22_df['mixing_ratio'].loc['20221201': '20221212'].plot(ax=axes[0,1])\n",
    "axes[0,1].set_ylabel(\"Mixing ratio (g/g)\")\n",
    "\n",
    "sos_inputs_df['P_10m_c'].loc['20221201': '20221212'].plot(ax=axes[1,1])\n",
    "splash_inputs_dec22_df['atmos_pressure'].loc['20221201': '20221212'].plot(ax=axes[1,1])\n",
    "axes[1,1].set_ylabel(\"Pressure (mb)\")\n",
    "\n",
    "sos_inputs_df['SnowDepth_c'].loc['20221201': '20221212'].plot(ax=axes[2,1])\n",
    "splash_inputs_dec22_df['snow_depth'].loc['20221201': '20221212'].plot(ax=axes[2,1])\n",
    "axes[2,1].set_ylabel(\"Snow depth (m)\")\n"
   ]
  },
  {
   "cell_type": "code",
   "execution_count": null,
   "metadata": {},
   "outputs": [],
   "source": [
    "(\n",
    "    (splash_results_dec22_df['hlb']).loc['20221201': '20221212'].cumsum()*seconds_per_10min/density_water/latent_heat_of_vaporization\n",
    ").plot(label='Bulk Algorithm w/ SPLASH Inputs')\n",
    "(\n",
    "    (splash_inputs_dec22_df['bulk_Hl']).loc['20221201': '20221212'].cumsum()*seconds_per_10min/density_water/latent_heat_of_vaporization\n",
    ").plot(label='Bulk results provided by SPLASH')\n",
    "(\n",
    "    (sos_inputs_df['w_h2o__3m_c']).loc['20221201': '20221212'].cumsum()*seconds_in_sos_timestep/density_water\n",
    ").plot(label='EC measurements, SoS', linestyle='-')\n",
    "(\n",
    "    (sos_results_df['hlb']).loc['20221201': '20221212'].cumsum()*seconds_in_sos_timestep/density_water/latent_heat_of_vaporization\n",
    ").plot(label='Bulk Algorithm w/ SoS Inputs')\n",
    "plt.legend()\n",
    "plt.ylabel(\"Cumulative latent heat fluxes (w/m^2)\")"
   ]
  },
  {
   "cell_type": "code",
   "execution_count": null,
   "metadata": {},
   "outputs": [],
   "source": [
    "(sos_inputs_df['mixingratio_diff'].loc['20221201': '20221212']).plot(label='SOS inputs')\n",
    "plt.axhline(0, color='black', zorder=10)\n",
    "plt.legend()\n",
    "plt.ylabel(\"Mixing ratio gradient (3m - surface)\")"
   ]
  },
  {
   "cell_type": "code",
   "execution_count": null,
   "metadata": {},
   "outputs": [],
   "source": [
    "plt.scatter(\n",
    "    sos_inputs_df['mixingratio_diff'],\n",
    "    sos_results_df['hlb'],\n",
    "    s= 1\n",
    ") \n",
    "plt.axhline(0)\n",
    "plt.axvline(0)\n",
    "plt.ylabel(\"Modeled bulk fluxes\")\n",
    "plt.xlabel(\"Mixing ratio gradient (3m - surface)\")"
   ]
  },
  {
   "cell_type": "code",
   "execution_count": null,
   "metadata": {},
   "outputs": [],
   "source": [
    "plt.scatter(\n",
    "    splash_inputs_dec22_df['mixingratio_diff'],\n",
    "    splash_results_dec22_df['hlb'],\n",
    "    s= 1\n",
    ") \n",
    "plt.axhline(0)\n",
    "plt.axvline(0)\n",
    "plt.ylabel(\"Modeled bulk fluxes\")\n",
    "plt.xlabel(\"Mixing ratio gradient (3m - surface)\")"
   ]
  },
  {
   "cell_type": "code",
   "execution_count": null,
   "metadata": {},
   "outputs": [],
   "source": []
  },
  {
   "cell_type": "code",
   "execution_count": null,
   "metadata": {},
   "outputs": [],
   "source": []
  }
 ],
 "metadata": {
  "kernelspec": {
   "display_name": "sublimationofsnow",
   "language": "python",
   "name": "python3"
  },
  "language_info": {
   "codemirror_mode": {
    "name": "ipython",
    "version": 3
   },
   "file_extension": ".py",
   "mimetype": "text/x-python",
   "name": "python",
   "nbconvert_exporter": "python",
   "pygments_lexer": "ipython3",
   "version": "3.12.1"
  }
 },
 "nbformat": 4,
 "nbformat_minor": 2
}
