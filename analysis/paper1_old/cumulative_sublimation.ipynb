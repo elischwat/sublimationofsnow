{
 "cells": [
  {
   "cell_type": "code",
   "execution_count": null,
   "metadata": {},
   "outputs": [],
   "source": [
    "import datetime as dt\n",
    "import numpy as np\n",
    "import pandas as pd\n",
    "import xarray as xr\n",
    "\n",
    "import metpy.constants\n",
    "\n",
    "from sublimpy import tidy\n",
    "\n",
    "from math import pi\n",
    "from matplotlib import pyplot as plt\n",
    "import matplotlib.cm as cm\n",
    "\n",
    "import altair as alt\n",
    "alt.data_transformers.enable('json')\n",
    "\n",
    "import glob\n",
    "import pytz\n",
    "from sublimpy import utils\n",
    "\n",
    "import matplotlib.pyplot as plt"
   ]
  },
  {
   "attachments": {},
   "cell_type": "markdown",
   "metadata": {},
   "source": [
    "# User inputs"
   ]
  },
  {
   "cell_type": "code",
   "execution_count": null,
   "metadata": {},
   "outputs": [],
   "source": [
    "start_date = '20221130'\n",
    "# end_date = '20230509'\n",
    "end_date = '20230517'\n",
    "\n",
    "start_date_lastseason = '20211101'\n",
    "end_date_lastseason = '20220601'\n",
    "\n",
    "tidy_dataset_fn = f\"../sos/tidy_df_30Min_{start_date}_{end_date}_noplanar_fit.parquet\"\n",
    "tidy_dataset_5min_fn = f\"../sos/tidy_df_{start_date}_{end_date}_noplanar_fit.parquet\"\n",
    "tidy_daily_dataset_output_fn = f\"tidy_df_daily_{start_date}_{end_date}_noplanar_fit.parquet\""
   ]
  },
  {
   "attachments": {},
   "cell_type": "markdown",
   "metadata": {},
   "source": [
    "# Load data"
   ]
  },
  {
   "attachments": {},
   "cell_type": "markdown",
   "metadata": {},
   "source": [
    "## SoS Measurements\n",
    "\n",
    "This dataset is created by the `create_turbulence_dataset.ipynb` notebook"
   ]
  },
  {
   "cell_type": "code",
   "execution_count": 4,
   "metadata": {},
   "outputs": [],
   "source": [
    "try:\n",
    "    tidy_df_30Min = pd.read_parquet(\n",
    "        tidy_dataset_fn\n",
    "    )\n",
    "except FileNotFoundError:\n",
    "    print(\"No file such file exists for these dates.\")\n",
    "tidy_df_30Min['time'] = pd.to_datetime(tidy_df_30Min['time'])\n",
    "\n",
    "try:\n",
    "    tidy_df_5Min = pd.read_parquet(\n",
    "        tidy_dataset_5min_fn\n",
    "    )\n",
    "except FileNotFoundError:\n",
    "    print(\"No file such file exists for these dates.\")\n",
    "tidy_df_5Min['time'] = pd.to_datetime(tidy_df_5Min['time'])"
   ]
  },
  {
   "cell_type": "code",
   "execution_count": 5,
   "metadata": {},
   "outputs": [
    {
     "name": "stderr",
     "output_type": "stream",
     "text": [
      "/tmp/ipykernel_496/3119507157.py:2: SettingWithCopyWarning: \n",
      "A value is trying to be set on a copy of a slice from a DataFrame.\n",
      "Try using .loc[row_indexer,col_indexer] = value instead\n",
      "\n",
      "See the caveats in the documentation: https://pandas.pydata.org/pandas-docs/stable/user_guide/indexing.html#returning-a-view-versus-a-copy\n",
      "  src['percent good data'] = src['value'] / 6000\n"
     ]
    },
    {
     "name": "stdout",
     "output_type": "stream",
     "text": [
      "34.27204042543722\n",
      "34.21665411485331\n",
      "33.855695271057954\n",
      "33.613891428377336\n",
      "39.33905738953564\n",
      "38.68476299745868\n",
      "33.68206187117426\n"
     ]
    }
   ],
   "source": [
    "src = tidy_df_30Min[tidy_df_30Min.variable == \"counts_3m_c_1\"]\n",
    "src['percent good data'] = src['value'] / 6000\n",
    "\n",
    "times_with_75percent_dropped = src[src['percent good data'] > 0.25].time\n",
    "times_with_50percent_dropped = src[src['percent good data'] > 0.50].time\n",
    "times_with_25percent_dropped = src[src['percent good data'] > 0.75].time\n",
    "times_with_15percent_dropped = src[src['percent good data'] > 0.85].time\n",
    "times_with_10percent_dropped = src[src['percent good data'] > 0.90].time\n",
    "times_with_5percent_dropped = src[src['percent good data'] > 0.95].time\n",
    "times_with_1percent_dropped = src[src['percent good data'] > 0.99].time\n",
    "\n",
    "src = tidy_df_30Min[tidy_df_30Min.variable == \"w_h2o__3m_c\"]\n",
    "print((src[src.time.isin(times_with_75percent_dropped)]['value'].cumsum()*60*30/999.97495).iloc[-1])\n",
    "print((src[src.time.isin(times_with_50percent_dropped)]['value'].cumsum()*60*30/999.97495).iloc[-1])\n",
    "print((src[src.time.isin(times_with_25percent_dropped)]['value'].cumsum()*60*30/999.97495).iloc[-1])\n",
    "print((src[src.time.isin(times_with_15percent_dropped)]['value'].cumsum()*60*30/999.97495).iloc[-1])\n",
    "print((src[src.time.isin(times_with_10percent_dropped)]['value'].cumsum()*60*30/999.97495).iloc[-1])\n",
    "print((src[src.time.isin(times_with_5percent_dropped)]['value'].cumsum()*60*30/999.97495).iloc[-1])\n",
    "print((src[src.time.isin(times_with_1percent_dropped)]['value'].cumsum()*60*30/999.97495).iloc[-1])"
   ]
  },
  {
   "cell_type": "code",
   "execution_count": 6,
   "metadata": {},
   "outputs": [
    {
     "name": "stderr",
     "output_type": "stream",
     "text": [
      "/tmp/ipykernel_496/2893927094.py:2: SettingWithCopyWarning: \n",
      "A value is trying to be set on a copy of a slice from a DataFrame.\n",
      "Try using .loc[row_indexer,col_indexer] = value instead\n",
      "\n",
      "See the caveats in the documentation: https://pandas.pydata.org/pandas-docs/stable/user_guide/indexing.html#returning-a-view-versus-a-copy\n",
      "  src['percent good data'] = src['value'] / 6000\n"
     ]
    },
    {
     "name": "stdout",
     "output_type": "stream",
     "text": [
      "36.35878357673768\n",
      "35.75030557224347\n",
      "34.965016739916635\n",
      "34.663610282324534\n",
      "34.371173608645584\n",
      "33.67556555698651\n",
      "22.202533631152157\n"
     ]
    }
   ],
   "source": [
    "src = tidy_df_30Min[tidy_df_30Min.variable == \"counts_3m_d_1\"]\n",
    "src['percent good data'] = src['value'] / 6000\n",
    "\n",
    "times_with_75percent_dropped = src[src['percent good data'] > 0.25].time\n",
    "times_with_50percent_dropped = src[src['percent good data'] > 0.50].time\n",
    "times_with_25percent_dropped = src[src['percent good data'] > 0.75].time\n",
    "times_with_15percent_dropped = src[src['percent good data'] > 0.85].time\n",
    "times_with_10percent_dropped = src[src['percent good data'] > 0.90].time\n",
    "times_with_5percent_dropped = src[src['percent good data'] > 0.95].time\n",
    "times_with_1percent_dropped = src[src['percent good data'] > 0.99].time\n",
    "\n",
    "src = tidy_df_30Min[tidy_df_30Min.variable == \"w_h2o__3m_d\"]\n",
    "print((src[src.time.isin(times_with_75percent_dropped)]['value'].cumsum()*60*30/999.97495).iloc[-1])\n",
    "print((src[src.time.isin(times_with_50percent_dropped)]['value'].cumsum()*60*30/999.97495).iloc[-1])\n",
    "print((src[src.time.isin(times_with_25percent_dropped)]['value'].cumsum()*60*30/999.97495).iloc[-1])\n",
    "print((src[src.time.isin(times_with_15percent_dropped)]['value'].cumsum()*60*30/999.97495).iloc[-1])\n",
    "print((src[src.time.isin(times_with_10percent_dropped)]['value'].cumsum()*60*30/999.97495).iloc[-1])\n",
    "print((src[src.time.isin(times_with_5percent_dropped)]['value'].cumsum()*60*30/999.97495).iloc[-1])\n",
    "print((src[src.time.isin(times_with_1percent_dropped)]['value'].cumsum()*60*30/999.97495).iloc[-1])"
   ]
  },
  {
   "cell_type": "markdown",
   "metadata": {},
   "source": [
    "## Model Results\n",
    "\n",
    "This dataset is created by the `most_sensitivity.py` script."
   ]
  },
  {
   "cell_type": "code",
   "execution_count": 7,
   "metadata": {},
   "outputs": [
    {
     "data": {
      "text/html": [
       "<div>\n",
       "<style scoped>\n",
       "    .dataframe tbody tr th:only-of-type {\n",
       "        vertical-align: middle;\n",
       "    }\n",
       "\n",
       "    .dataframe tbody tr th {\n",
       "        vertical-align: top;\n",
       "    }\n",
       "\n",
       "    .dataframe thead th {\n",
       "        text-align: right;\n",
       "    }\n",
       "</style>\n",
       "<table border=\"1\" class=\"dataframe\">\n",
       "  <thead>\n",
       "    <tr style=\"text-align: right;\">\n",
       "      <th></th>\n",
       "      <th>time</th>\n",
       "      <th>config</th>\n",
       "      <th>latent heat flux</th>\n",
       "      <th>sensible heat flux</th>\n",
       "      <th>zeta</th>\n",
       "      <th>latent heat conductance</th>\n",
       "      <th>sensible heat conductance</th>\n",
       "      <th>z0</th>\n",
       "      <th>e_sat_curve</th>\n",
       "      <th>surface_measurement</th>\n",
       "      <th>scheme</th>\n",
       "      <th>most_config</th>\n",
       "    </tr>\n",
       "  </thead>\n",
       "  <tbody>\n",
       "    <tr>\n",
       "      <th>0</th>\n",
       "      <td>2022-11-29 17:00:00</td>\n",
       "      <td>Standard Tsurf_c e_sat_metpy 1e-05</td>\n",
       "      <td>0.003384</td>\n",
       "      <td>0.002263</td>\n",
       "      <td>NaN</td>\n",
       "      <td>0.003490</td>\n",
       "      <td>0.003490</td>\n",
       "      <td>0.00001</td>\n",
       "      <td>metpy</td>\n",
       "      <td>Tsurf_c</td>\n",
       "      <td>yang</td>\n",
       "      <td>Standard</td>\n",
       "    </tr>\n",
       "    <tr>\n",
       "      <th>1</th>\n",
       "      <td>2022-11-29 17:30:00</td>\n",
       "      <td>Standard Tsurf_c e_sat_metpy 1e-05</td>\n",
       "      <td>0.005943</td>\n",
       "      <td>0.000919</td>\n",
       "      <td>NaN</td>\n",
       "      <td>0.004690</td>\n",
       "      <td>0.004690</td>\n",
       "      <td>0.00001</td>\n",
       "      <td>metpy</td>\n",
       "      <td>Tsurf_c</td>\n",
       "      <td>yang</td>\n",
       "      <td>Standard</td>\n",
       "    </tr>\n",
       "    <tr>\n",
       "      <th>2</th>\n",
       "      <td>2022-11-29 18:00:00</td>\n",
       "      <td>Standard Tsurf_c e_sat_metpy 1e-05</td>\n",
       "      <td>0.004470</td>\n",
       "      <td>-0.001354</td>\n",
       "      <td>NaN</td>\n",
       "      <td>0.003773</td>\n",
       "      <td>0.003773</td>\n",
       "      <td>0.00001</td>\n",
       "      <td>metpy</td>\n",
       "      <td>Tsurf_c</td>\n",
       "      <td>yang</td>\n",
       "      <td>Standard</td>\n",
       "    </tr>\n",
       "    <tr>\n",
       "      <th>3</th>\n",
       "      <td>2022-11-29 18:30:00</td>\n",
       "      <td>Standard Tsurf_c e_sat_metpy 1e-05</td>\n",
       "      <td>0.001274</td>\n",
       "      <td>-0.001298</td>\n",
       "      <td>NaN</td>\n",
       "      <td>0.001657</td>\n",
       "      <td>0.001657</td>\n",
       "      <td>0.00001</td>\n",
       "      <td>metpy</td>\n",
       "      <td>Tsurf_c</td>\n",
       "      <td>yang</td>\n",
       "      <td>Standard</td>\n",
       "    </tr>\n",
       "    <tr>\n",
       "      <th>4</th>\n",
       "      <td>2022-11-29 19:00:00</td>\n",
       "      <td>Standard Tsurf_c e_sat_metpy 1e-05</td>\n",
       "      <td>0.000506</td>\n",
       "      <td>-0.000939</td>\n",
       "      <td>NaN</td>\n",
       "      <td>0.001040</td>\n",
       "      <td>0.001040</td>\n",
       "      <td>0.00001</td>\n",
       "      <td>metpy</td>\n",
       "      <td>Tsurf_c</td>\n",
       "      <td>yang</td>\n",
       "      <td>Standard</td>\n",
       "    </tr>\n",
       "  </tbody>\n",
       "</table>\n",
       "</div>"
      ],
      "text/plain": [
       "                 time                              config  latent heat flux  \\\n",
       "0 2022-11-29 17:00:00  Standard Tsurf_c e_sat_metpy 1e-05          0.003384   \n",
       "1 2022-11-29 17:30:00  Standard Tsurf_c e_sat_metpy 1e-05          0.005943   \n",
       "2 2022-11-29 18:00:00  Standard Tsurf_c e_sat_metpy 1e-05          0.004470   \n",
       "3 2022-11-29 18:30:00  Standard Tsurf_c e_sat_metpy 1e-05          0.001274   \n",
       "4 2022-11-29 19:00:00  Standard Tsurf_c e_sat_metpy 1e-05          0.000506   \n",
       "\n",
       "   sensible heat flux  zeta  latent heat conductance  \\\n",
       "0            0.002263   NaN                 0.003490   \n",
       "1            0.000919   NaN                 0.004690   \n",
       "2           -0.001354   NaN                 0.003773   \n",
       "3           -0.001298   NaN                 0.001657   \n",
       "4           -0.000939   NaN                 0.001040   \n",
       "\n",
       "   sensible heat conductance       z0 e_sat_curve surface_measurement scheme  \\\n",
       "0                   0.003490  0.00001       metpy             Tsurf_c   yang   \n",
       "1                   0.004690  0.00001       metpy             Tsurf_c   yang   \n",
       "2                   0.003773  0.00001       metpy             Tsurf_c   yang   \n",
       "3                   0.001657  0.00001       metpy             Tsurf_c   yang   \n",
       "4                   0.001040  0.00001       metpy             Tsurf_c   yang   \n",
       "\n",
       "  most_config  \n",
       "0    Standard  \n",
       "1    Standard  \n",
       "2    Standard  \n",
       "3    Standard  \n",
       "4    Standard  "
      ]
     },
     "execution_count": 7,
     "metadata": {},
     "output_type": "execute_result"
    }
   ],
   "source": [
    "model_df = pd.read_parquet(\"model_results.parquet\")\n",
    "\n",
    "model_df['z0'] = model_df['config'].apply(\n",
    "    lambda v: float(v.split(' ')[-1])\n",
    ")\n",
    "\n",
    "model_df['e_sat_curve'] = model_df['config'].apply(\n",
    "    lambda v: 'metpy' if 'metpy' in v else 'alduchov'\n",
    ")\n",
    "\n",
    "model_df['surface_measurement'] = model_df['config'].apply(\n",
    "    lambda v: v.split(' ')[-3]\n",
    ")\n",
    "\n",
    "model_df['scheme'] = model_df['config'].apply(\n",
    "    lambda v: 'andreas' if 'andreas lengths' in v else 'yang'\n",
    ")\n",
    "model_df['most_config'] = model_df['config'].apply(lambda s: ' '.join(s.split(' ')[:-3]))\n",
    "# remove the scalar roughness length parameterization info \n",
    "model_df['most_config'] = model_df['most_config'].str.replace(' andreas lengths', '')\n",
    "\n",
    "model_df.head()"
   ]
  },
  {
   "cell_type": "markdown",
   "metadata": {},
   "source": [
    "### Handle a pesky outlier"
   ]
  },
  {
   "cell_type": "code",
   "execution_count": 8,
   "metadata": {},
   "outputs": [],
   "source": [
    "model_df.loc[(model_df.time == \"2023-01-22 1400\") & (model_df.surface_measurement == 'Tsurf_d'), 'latent heat flux'] = 0\n",
    "model_df.loc[(model_df.time == \"2023-01-22 1400\") & (model_df.surface_measurement == 'Tsurf_d'), 'sensible heat flux'] = 0"
   ]
  },
  {
   "cell_type": "markdown",
   "metadata": {},
   "source": [
    "### Calculate cumulative sublimation (mm)"
   ]
  },
  {
   "cell_type": "code",
   "execution_count": 9,
   "metadata": {},
   "outputs": [],
   "source": [
    "model_df_cumsum = pd.DataFrame(model_df.sort_values(\"time\").set_index(\n",
    "    [\"time\", \"config\", \"scheme\", \"z0\", \"e_sat_curve\", \"surface_measurement\", \"most_config\"]\n",
    ").groupby([\"config\", \"scheme\", \"z0\", \"e_sat_curve\", \"surface_measurement\", \"most_config\"])['latent heat flux'].cumsum()).reset_index()\n",
    "model_df_cumsum_daily = pd.DataFrame(model_df_cumsum.set_index(\"time\").groupby(\n",
    "    ['config', \"scheme\", \"z0\", \"e_sat_curve\", \"surface_measurement\", \"most_config\", pd.Grouper(freq='1440Min')]\n",
    ")['latent heat flux'].max()).reset_index()\n",
    "\n",
    "from metpy.constants import density_water\n",
    "seconds_per_30min = 60*30\n",
    "model_df_cumsum_daily['latent heat flux (mm)'] = model_df_cumsum_daily['latent heat flux'].values * seconds_per_30min/density_water.magnitude"
   ]
  },
  {
   "cell_type": "markdown",
   "metadata": {},
   "source": [
    "## SPLASH ASFS\n",
    "Doesn't look like the data is available for the 2022-2023 winter? I think i want the \"sledseb.asfs30.level2\" data but there are only nans for Hl after some date"
   ]
  },
  {
   "cell_type": "code",
   "execution_count": 10,
   "metadata": {},
   "outputs": [
    {
     "name": "stdout",
     "output_type": "stream",
     "text": [
      "203\n"
     ]
    }
   ],
   "source": [
    "# which of these files should we use?\n",
    "# print(len(xr.open_dataset('/data2/elilouis/sublimationofsnow/asfs/kps/fastsled.level1.asfs30-pond.20220101.000000.nc')))\n",
    "print(len(xr.open_dataset('/data2/elilouis/sublimationofsnow/asfs/kps/sledseb.asfs30.level2.0.10min.20220101.000000.nc')))\n",
    "# print(len(xr.open_dataset('/data2/elilouis/sublimationofsnow/asfs/kps/slowsled.level1.asfs30-pond.20220101.000000.nc')))"
   ]
  },
  {
   "cell_type": "code",
   "execution_count": 11,
   "metadata": {},
   "outputs": [],
   "source": [
    "splash_files_kps = glob.glob(\"/data2/elilouis/sublimationofsnow/asfs/kps/sledseb.asfs30.level2.0.10min.*.000000.nc\")\n",
    "Hl_ds_list = []\n",
    "for f in splash_files_kps:\n",
    "    Hl_ds_list.append(xr.open_dataset(f)['Hl'])\n",
    "all_hl_data = xr.concat(Hl_ds_list, dim='time')\n",
    "\n",
    "splash_kps_lhflux_ds = all_hl_data.resample(time='30Min').mean()\n",
    "splash_kps_lhflux_ds = utils.modify_xarray_timezone(splash_kps_lhflux_ds, pytz.UTC, pytz.timezone(\"US/Mountain\"))"
   ]
  },
  {
   "cell_type": "code",
   "execution_count": 12,
   "metadata": {},
   "outputs": [
    {
     "data": {
      "text/plain": [
       "Text(0.5, 1.0, 'Kettle Ponds Annex')"
      ]
     },
     "execution_count": 12,
     "metadata": {},
     "output_type": "execute_result"
    },
    {
     "data": {
      "image/png": "[encoded data removed]",
      "text/plain": [
       "<Figure size 640x480 with 1 Axes>"
      ]
     },
     "metadata": {},
     "output_type": "display_data"
    }
   ],
   "source": [
    "all_hl_data.plot()\n",
    "plt.ylabel(\"Latent heat flux (W/m^2)\")\n",
    "plt.title('Kettle Ponds Annex')"
   ]
  },
  {
   "cell_type": "code",
   "execution_count": 13,
   "metadata": {},
   "outputs": [],
   "source": [
    "splash_files_avp = glob.glob(\"/data2/elilouis/sublimationofsnow/asfs/avp/sledseb.asfs50.level2.0.10min.*.000000.nc\")\n",
    "Hl_ds_list = []\n",
    "for f in splash_files_avp:\n",
    "    Hl_ds_list.append(xr.open_dataset(f)['Hl'])\n",
    "all_hl_data = xr.concat(Hl_ds_list, dim='time')\n",
    "\n",
    "splash_avp_lhflux_ds = all_hl_data.resample(time='30Min').mean()\n",
    "splash_avp_lhflux_ds = utils.modify_xarray_timezone(splash_avp_lhflux_ds, pytz.UTC, pytz.timezone(\"US/Mountain\"))"
   ]
  },
  {
   "cell_type": "code",
   "execution_count": 14,
   "metadata": {},
   "outputs": [
    {
     "data": {
      "text/plain": [
       "Text(0.5, 1.0, 'Avery Picnic')"
      ]
     },
     "execution_count": 14,
     "metadata": {},
     "output_type": "execute_result"
    },
    {
     "data": {
      "image/png": "[encoded data removed]",
      "text/plain": [
       "<Figure size 640x480 with 1 Axes>"
      ]
     },
     "metadata": {},
     "output_type": "display_data"
    }
   ],
   "source": [
    "all_hl_data.plot()\n",
    "plt.ylabel(\"Latent heat flux (W/m^2)\")\n",
    "plt.title('Avery Picnic')"
   ]
  },
  {
   "cell_type": "markdown",
   "metadata": {},
   "source": [
    "## SAIL ECOR"
   ]
  },
  {
   "cell_type": "code",
   "execution_count": 15,
   "metadata": {},
   "outputs": [
    {
     "name": "stdout",
     "output_type": "stream",
     "text": [
      "\u001b[01;34mguc30ecorM1.b1\u001b[0m/\n",
      "\u001b[01;34mguc30ecorS3.b1\u001b[0m/\n",
      "\u001b[01;34mgucdlfptM1.b1\u001b[0m/\n",
      "\u001b[01;34mgucdlprofwind4newsM1.c1\u001b[0m/\n",
      "\u001b[01;34mgucdlrhiM1.b1\u001b[0m/\n",
      "\u001b[01;34mgucgndirtM1.b1\u001b[0m/\n",
      "\u001b[01;34mgucgndrad60sM1.b1\u001b[0m/\n",
      "\u001b[01;34mgucldM1.b1\u001b[0m/\n",
      "\u001b[01;34mgucldS3.b1\u001b[0m/\n",
      "\u001b[01;34mgucmetM1.b1\u001b[0m/\n",
      "\u001b[01;34mgucsebsS3.b1\u001b[0m/\n",
      "\u001b[01;34mgucsondewnpnM1.b1\u001b[0m/\n",
      "\u001b[01;34mguctsiskycoverM1.b1\u001b[0m/\n"
     ]
    }
   ],
   "source": [
    "ls '/data2/elilouis/sublimationofsnow/' | grep guc"
   ]
  },
  {
   "cell_type": "code",
   "execution_count": 16,
   "metadata": {},
   "outputs": [],
   "source": [
    "username = os.getenv(\"ARM_USERNAME\")\n",
    "token = os.getenv(\"ARM_TOKEN\")\n",
    "ecor_gothic = 'guc30ecorM1.b1'\n",
    "ecor_kp = 'guc30ecorS3.b1'\n",
    "met_gothic = 'gucmetM1.b1'\n",
    "\n",
    "output_dir = '/data2/elilouis/sublimationofsnow/'\n",
    "\n",
    "kp_sail_ecor_download_dir = os.path.join(output_dir, ecor_kp)\n",
    "gothic_sail_ecor_download_dir = os.path.join(output_dir, ecor_gothic)"
   ]
  },
  {
   "cell_type": "markdown",
   "metadata": {},
   "source": [
    "#### Download ECOR measurements"
   ]
  },
  {
   "cell_type": "code",
   "execution_count": 17,
   "metadata": {},
   "outputs": [],
   "source": [
    "# act.discovery.download_data(\n",
    "#     username,    token,    ecor_gothic,    \n",
    "#     start_date_lastseason,\n",
    "#     end_date,\n",
    "#     output = os.path.join(output_dir, ecor_gothic)\n",
    "# )\n",
    "# act.discovery.download_data(\n",
    "#     username,    token,    ecor_kp,    \n",
    "#     start_date_lastseason,\n",
    "#     end_date,\n",
    "#     output = os.path.join(output_dir, ecor_kp)\n",
    "# )"
   ]
  },
  {
   "cell_type": "code",
   "execution_count": 18,
   "metadata": {},
   "outputs": [],
   "source": [
    "ecor_gothic_ds = act.io.armfiles.read_netcdf(\n",
    "    glob.glob(os.path.join(output_dir, ecor_gothic, '*.cdf'))\n",
    ")\n",
    "ecor_gothic_ds_thisseason = ecor_gothic_ds.sel(time = slice(start_date, end_date))\n",
    "ecor_gothic_ds_lastseason = ecor_gothic_ds.sel(time = slice(start_date_lastseason, end_date_lastseason))\n",
    "ecor_gothic_ds_thisseason = utils.modify_xarray_timezone(ecor_gothic_ds_thisseason, pytz.UTC, pytz.timezone(\"US/Mountain\"))\n",
    "ecor_gothic_ds_lastseason = utils.modify_xarray_timezone(ecor_gothic_ds_lastseason, pytz.UTC, pytz.timezone(\"US/Mountain\"))\n",
    "del ecor_gothic_ds"
   ]
  },
  {
   "cell_type": "code",
   "execution_count": 19,
   "metadata": {},
   "outputs": [],
   "source": [
    "ecor_kps_ds = act.io.armfiles.read_netcdf(\n",
    "    glob.glob(os.path.join(output_dir, ecor_kp, '*.cdf'))\n",
    ")\n",
    "# CHANGE TIMEZONE\n",
    "ecor_kps_ds_thisseason = ecor_kps_ds.sel(time = slice(start_date, end_date))\n",
    "ecor_kps_ds_lastseason = ecor_kps_ds.sel(time = slice(start_date_lastseason, end_date_lastseason))\n",
    "ecor_kps_ds_thisseason = utils.modify_xarray_timezone(ecor_kps_ds_thisseason, pytz.UTC, pytz.timezone(\"US/Mountain\"))\n",
    "ecor_kps_ds_lastseason = utils.modify_xarray_timezone(ecor_kps_ds_lastseason, pytz.UTC, pytz.timezone(\"US/Mountain\"))\n",
    "del ecor_kps_ds"
   ]
  },
  {
   "attachments": {},
   "cell_type": "markdown",
   "metadata": {},
   "source": [
    "# Remove LH flux outliers from 5min and 30min datasets"
   ]
  },
  {
   "cell_type": "markdown",
   "metadata": {},
   "source": [
    "### Implement Vickers and Mahrt (1997) spike filtering"
   ]
  },
  {
   "cell_type": "markdown",
   "metadata": {},
   "source": [
    "(text taken from the paper)\n",
    "* The window moves one point at a time through the series. \n",
    "* Any point in the window that is more than 3.5 standard deviations from the window mean is considered a spike. \n",
    "* The point is replaced using linear interpolation between data points. \n",
    "* When four or more consecutive points are detected, they are not considered spikes and are not replaced. \n",
    "* The entire process is repeated until no more spikes are detected. \n",
    "* During the second pass, when the standard deviations may be smaller if spikes were replaced on the previous pass, the threshold for spike detection increases to 3.6 standard deviations and a like amount for each subsequent pass. \n",
    "* The record is hard flagged when the total number of spikes replaced exceeds 1% of the total number of data points."
   ]
  },
  {
   "cell_type": "code",
   "execution_count": 20,
   "metadata": {},
   "outputs": [],
   "source": [
    "# # Group 5minute data by hour and calculate turbulence statistics for each hour\n",
    "# def remove_spike(series, std_factor = 2.2):\n",
    "#     std = series.std()\n",
    "#     mean = series.mean()\n",
    "#     series_filtered = series.apply(lambda val: np.nan if \n",
    "#                                         (val < mean - std_factor*std) or (val > mean + std_factor * std) \n",
    "#                                     else    \n",
    "#                                         val\n",
    "#                                    )\n",
    "#     return series_filtered\n",
    "\n",
    "# def filtering_algorithm(series):\n",
    "#     # Calculate initial number of nans\n",
    "#     previous_num_nans = series['value'].isna().sum()\n",
    "#     print(f\"previous_num_nans: {previous_num_nans}\")\n",
    "\n",
    "#     # Identify spikes and make them nans\n",
    "#     series = series.set_index('time')['value'].groupby(pd.Grouper(freq='60Min')).transform(remove_spike).reset_index()\n",
    "\n",
    "#     # Calculate number of spikes that were detected\n",
    "#     despiked_num_nans = series['value'].isna().sum()\n",
    "#     spikes_detected = despiked_num_nans - previous_num_nans\n",
    "#     print(f\"spikes_detected: {spikes_detected}\")\n",
    "\n",
    "#     # initialize our check so that the while loop starts\n",
    "#     previous_spikes_detected = spikes_detected + 1\n",
    "#     while spikes_detected < previous_spikes_detected:\n",
    "#         # Interpolate nans\n",
    "#         series['value'] = series['value'].interpolate(limit=3).dropna()\n",
    "        \n",
    "#         # Calculate number of nans  after a round of spike-ID and interpolation\n",
    "#         previous_num_nans = series['value'].isna().sum()\n",
    "#         print(f\"previous_num_nans: {previous_num_nans}\")\n",
    "\n",
    "#         # Again, identify spikes and make them nans\n",
    "#         series = series.set_index('time')['value'].groupby(pd.Grouper(freq='60Min')).transform(remove_spike).reset_index()\n",
    "#         # calculate number of detected spikes\n",
    "#         despiked_num_nans = series['value'].isna().sum()\n",
    "#         previous_spikes_detected = spikes_detected\n",
    "#         spikes_detected = despiked_num_nans - previous_num_nans\n",
    "#         print(f\"previous_spikes_detected: {previous_spikes_detected}\")\n",
    "#         print(f\"spikes_detected: {spikes_detected}\")\n",
    "#     return series"
   ]
  },
  {
   "cell_type": "markdown",
   "metadata": {},
   "source": [
    "### Filter and inteprolate data"
   ]
  },
  {
   "cell_type": "code",
   "execution_count": 21,
   "metadata": {},
   "outputs": [],
   "source": [
    "# src_2m_c = filtering_algorithm(tidy_df_5Min.query(\"variable == 'w_h2o__2m_c'\"))\n",
    "# src_3m_c = filtering_algorithm(tidy_df_5Min.query(\"variable == 'w_h2o__3m_c'\"))\n",
    "# src_5m_c = filtering_algorithm(tidy_df_5Min.query(\"variable == 'w_h2o__5m_c'\"))\n",
    "# src_10m_c = filtering_algorithm(tidy_df_5Min.query(\"variable == 'w_h2o__10m_c'\"))\n",
    "# src_15m_c = filtering_algorithm(tidy_df_5Min.query(\"variable == 'w_h2o__15m_c'\"))\n",
    "# src_20m_c = filtering_algorithm(tidy_df_5Min.query(\"variable == 'w_h2o__20m_c'\"))\n",
    "\n",
    "# src_1m_d = filtering_algorithm(tidy_df_5Min.query(\"variable == 'w_h2o__1m_d'\"))\n",
    "# src_3m_d = filtering_algorithm(tidy_df_5Min.query(\"variable == 'w_h2o__3m_d'\"))\n",
    "# src_10m_d = filtering_algorithm(tidy_df_5Min.query(\"variable == 'w_h2o__10m_d'\"))\n",
    "\n",
    "# src_1m_ue = filtering_algorithm(tidy_df_5Min.query(\"variable == 'w_h2o__1m_ue'\"))\n",
    "# src_3m_ue = filtering_algorithm(tidy_df_5Min.query(\"variable == 'w_h2o__3m_ue'\"))\n",
    "# src_10m_ue = filtering_algorithm(tidy_df_5Min.query(\"variable == 'w_h2o__10m_ue'\"))\n",
    "\n",
    "# src_1_uw = filtering_algorithm(tidy_df_5Min.query(\"variable == 'w_h2o__1m_uw'\"))\n",
    "# src_3_uw = filtering_algorithm(tidy_df_5Min.query(\"variable == 'w_h2o__3m_uw'\"))\n",
    "# src_10_uw = filtering_algorithm(tidy_df_5Min.query(\"variable == 'w_h2o__10m_uw'\"))"
   ]
  },
  {
   "cell_type": "markdown",
   "metadata": {},
   "source": [
    "### Assign data back to tidy df"
   ]
  },
  {
   "cell_type": "code",
   "execution_count": 22,
   "metadata": {},
   "outputs": [],
   "source": [
    "# tidy_df_30Min.loc[tidy_df_30Min.variable == 'w_h2o__2m_c',  'value'] = src_2m_c.set_index('time').groupby(pd.Grouper(freq = '30Min')).mean()['value'].values\n",
    "# tidy_df_30Min.loc[tidy_df_30Min.variable == 'w_h2o__3m_c',  'value'] = src_3m_c.set_index('time').groupby(pd.Grouper(freq = '30Min')).mean()['value'].values\n",
    "# tidy_df_30Min.loc[tidy_df_30Min.variable == 'w_h2o__5m_c',  'value'] = src_5m_c.set_index('time').groupby(pd.Grouper(freq = '30Min')).mean()['value'].values\n",
    "# tidy_df_30Min.loc[tidy_df_30Min.variable == 'w_h2o__10m_c',  'value'] = src_10m_c.set_index('time').groupby(pd.Grouper(freq = '30Min')).mean()['value'].values\n",
    "# tidy_df_30Min.loc[tidy_df_30Min.variable == 'w_h2o__15m_c',  'value'] = src_15m_c.set_index('time').groupby(pd.Grouper(freq = '30Min')).mean()['value'].values\n",
    "# tidy_df_30Min.loc[tidy_df_30Min.variable == 'w_h2o__20m_c',  'value'] = src_20m_c.set_index('time').groupby(pd.Grouper(freq = '30Min')).mean()['value'].values\n",
    "\n",
    "# tidy_df_30Min.loc[tidy_df_30Min.variable == 'w_h2o__1m_d',  'value'] = src_1m_d.set_index('time').groupby(pd.Grouper(freq = '30Min')).mean()['value'].values\n",
    "# tidy_df_30Min.loc[tidy_df_30Min.variable == 'w_h2o__3m_d',  'value'] = src_3m_d.set_index('time').groupby(pd.Grouper(freq = '30Min')).mean()['value'].values\n",
    "# tidy_df_30Min.loc[tidy_df_30Min.variable == 'w_h2o__10m_d',  'value'] = src_10m_d.set_index('time').groupby(pd.Grouper(freq = '30Min')).mean()['value'].values\n",
    "\n",
    "# tidy_df_30Min.loc[tidy_df_30Min.variable == 'w_h2o__1m_ue',  'value'] = src_1m_ue.set_index('time').groupby(pd.Grouper(freq = '30Min')).mean()['value'].values\n",
    "# tidy_df_30Min.loc[tidy_df_30Min.variable == 'w_h2o__3m_ue',  'value'] = src_3m_ue.set_index('time').groupby(pd.Grouper(freq = '30Min')).mean()['value'].values\n",
    "# tidy_df_30Min.loc[tidy_df_30Min.variable == 'w_h2o__10m_ue',  'value'] = src_10m_ue.set_index('time').groupby(pd.Grouper(freq = '30Min')).mean()['value'].values\n",
    "\n",
    "# tidy_df_30Min.loc[tidy_df_30Min.variable == 'w_h2o__1m_uw',  'value'] = src_1_uw.set_index('time').groupby(pd.Grouper(freq = '30Min')).mean()['value'].values\n",
    "# tidy_df_30Min.loc[tidy_df_30Min.variable == 'w_h2o__3m_uw',  'value'] = src_3_uw.set_index('time').groupby(pd.Grouper(freq = '30Min')).mean()['value'].values\n",
    "# tidy_df_30Min.loc[tidy_df_30Min.variable == 'w_h2o__10m_uw',  'value'] = src_10_uw.set_index('time').groupby(pd.Grouper(freq = '30Min')).mean()['value'].values"
   ]
  },
  {
   "cell_type": "code",
   "execution_count": 23,
   "metadata": {},
   "outputs": [
    {
     "data": {
      "text/html": [
       "\n",
       "<style>\n",
       "  #altair-viz-839235a1239446e2ab73ec4ff125e483.vega-embed {\n",
       "    width: 100%;\n",
       "    display: flex;\n",
       "  }\n",
       "\n",
       "  #altair-viz-839235a1239446e2ab73ec4ff125e483.vega-embed details,\n",
       "  #altair-viz-839235a1239446e2ab73ec4ff125e483.vega-embed details summary {\n",
       "    position: relative;\n",
       "  }\n",
       "</style>\n",
       "<div id=\"altair-viz-839235a1239446e2ab73ec4ff125e483\"></div>\n",
       "<script type=\"text/javascript\">\n",
       "  var VEGA_DEBUG = (typeof VEGA_DEBUG == \"undefined\") ? {} : VEGA_DEBUG;\n",
       "  (function(spec, embedOpt){\n",
       "    let outputDiv = document.currentScript.previousElementSibling;\n",
       "    if (outputDiv.id !== \"altair-viz-839235a1239446e2ab73ec4ff125e483\") {\n",
       "      outputDiv = document.getElementById(\"altair-viz-839235a1239446e2ab73ec4ff125e483\");\n",
       "    }\n",
       "    const paths = {\n",
       "      \"vega\": \"https://cdn.jsdelivr.net/npm/vega@5?noext\",\n",
       "      \"vega-lib\": \"https://cdn.jsdelivr.net/npm/vega-lib?noext\",\n",
       "      \"vega-lite\": \"https://cdn.jsdelivr.net/npm/vega-lite@5.8.0?noext\",\n",
       "      \"vega-embed\": \"https://cdn.jsdelivr.net/npm/vega-embed@6?noext\",\n",
       "    };\n",
       "\n",
       "    function maybeLoadScript(lib, version) {\n",
       "      var key = `${lib.replace(\"-\", \"\")}_version`;\n",
       "      return (VEGA_DEBUG[key] == version) ?\n",
       "        Promise.resolve(paths[lib]) :\n",
       "        new Promise(function(resolve, reject) {\n",
       "          var s = document.createElement('script');\n",
       "          document.getElementsByTagName(\"head\")[0].appendChild(s);\n",
       "          s.async = true;\n",
       "          s.onload = () => {\n",
       "            VEGA_DEBUG[key] = version;\n",
       "            return resolve(paths[lib]);\n",
       "          };\n",
       "          s.onerror = () => reject(`Error loading script: ${paths[lib]}`);\n",
       "          s.src = paths[lib];\n",
       "        });\n",
       "    }\n",
       "\n",
       "    function showError(err) {\n",
       "      outputDiv.innerHTML = `<div class=\"error\" style=\"color:red;\">${err}</div>`;\n",
       "      throw err;\n",
       "    }\n",
       "\n",
       "    function displayChart(vegaEmbed) {\n",
       "      vegaEmbed(outputDiv, spec, embedOpt)\n",
       "        .catch(err => showError(`Javascript Error: ${err.message}<br>This usually means there's a typo in your chart specification. See the javascript console for the full traceback.`));\n",
       "    }\n",
       "\n",
       "    if(typeof define === \"function\" && define.amd) {\n",
       "      requirejs.config({paths});\n",
       "      require([\"vega-embed\"], displayChart, err => showError(`Error loading script: ${err.message}`));\n",
       "    } else {\n",
       "      maybeLoadScript(\"vega\", \"5\")\n",
       "        .then(() => maybeLoadScript(\"vega-lite\", \"5.8.0\"))\n",
       "        .then(() => maybeLoadScript(\"vega-embed\", \"6\"))\n",
       "        .catch(showError)\n",
       "        .then(() => displayChart(vegaEmbed));\n",
       "    }\n",
       "  })({\"config\": {\"view\": {\"continuousWidth\": 300, \"continuousHeight\": 300}}, \"data\": {\"url\": \"altair-data-501a263f885dc67747dfe64cc542bfa2.json\", \"format\": {\"type\": \"json\"}}, \"mark\": {\"type\": \"line\"}, \"encoding\": {\"color\": {\"field\": \"height\", \"scale\": {\"scheme\": \"rainbow\"}, \"type\": \"ordinal\"}, \"facet\": {\"field\": \"tower\", \"type\": \"nominal\"}, \"tooltip\": {\"field\": \"height\", \"type\": \"quantitative\"}, \"x\": {\"field\": \"time\", \"type\": \"temporal\"}, \"y\": {\"field\": \"cumulative_sublimation\", \"scale\": {\"domain\": [0, 40], \"clamp\": true}, \"type\": \"quantitative\"}}, \"transform\": [{\"window\": [{\"op\": \"sum\", \"field\": \"value\", \"as\": \"cumulative_sublimation\"}], \"frame\": [null, 0], \"groupby\": [\"height\", \"tower\"], \"sort\": [{\"field\": \"time\"}]}], \"$schema\": \"https://vega.github.io/schema/vega-lite/v5.8.0.json\"}, {\"mode\": \"vega-lite\"});\n",
       "</script>"
      ],
      "text/plain": [
       "alt.Chart(...)"
      ]
     },
     "execution_count": 23,
     "metadata": {},
     "output_type": "execute_result"
    }
   ],
   "source": [
    "alt.Chart(\n",
    "    tidy_df_30Min[tidy_df_30Min.measurement == 'w_h2o_']\n",
    ").mark_line().transform_window(\n",
    "    sort = [{'field':'time'}],\n",
    "    frame = [None,0],\n",
    "    cumulative_sublimation = 'sum(value)',\n",
    "    groupby=['height', 'tower'],\n",
    ").encode(\n",
    "    x='time:T',\n",
    "    # Plot the calculated field created by the transformation\n",
    "    y=alt.Y('cumulative_sublimation:Q').scale(domain=[0,40], clamp=True),\n",
    "    color=alt.Color('height:O').scale(scheme='rainbow'),\n",
    "    facet='tower:N',\n",
    "    tooltip='height'\n",
    ")"
   ]
  },
  {
   "cell_type": "markdown",
   "metadata": {},
   "source": [
    "## Simple IQR filter"
   ]
  },
  {
   "cell_type": "code",
   "execution_count": 24,
   "metadata": {},
   "outputs": [],
   "source": [
    "def get_outlier_threshold(values, iqr_multiple = 5):\n",
    "    q1, q3 = np.percentile(sorted(values), [25, 75])\n",
    "\n",
    "    # compute IRQ\n",
    "    iqr = q3 - q1\n",
    "\n",
    "    # find lower and upper bounds\n",
    "    lower_bound = q1 - (iqr_multiple * iqr)\n",
    "    upper_bound = q3 + (iqr_multiple * iqr)\n",
    "    return lower_bound, upper_bound"
   ]
  },
  {
   "cell_type": "markdown",
   "metadata": {},
   "source": [
    "### SoS"
   ]
  },
  {
   "cell_type": "code",
   "execution_count": 25,
   "metadata": {},
   "outputs": [
    {
     "data": {
      "text/plain": [
       "['w_h2o__10m_c',\n",
       " 'w_h2o__10m_d',\n",
       " 'w_h2o__10m_ue',\n",
       " 'w_h2o__10m_uw',\n",
       " 'w_h2o__15m_c',\n",
       " 'w_h2o__1m_d',\n",
       " 'w_h2o__1m_ue',\n",
       " 'w_h2o__1m_uw',\n",
       " 'w_h2o__20m_c',\n",
       " 'w_h2o__2m_c',\n",
       " 'w_h2o__3m_c',\n",
       " 'w_h2o__3m_d',\n",
       " 'w_h2o__3m_ue',\n",
       " 'w_h2o__3m_uw',\n",
       " 'w_h2o__5m_c']"
      ]
     },
     "execution_count": 25,
     "metadata": {},
     "output_type": "execute_result"
    }
   ],
   "source": [
    "measured_sublimation_variables = [ v for v in tidy_df_30Min.variable.unique() if v.startswith(\"w_h2o__\") and 'predicted' not in v ]\n",
    "measured_sublimation_variables"
   ]
  },
  {
   "cell_type": "code",
   "execution_count": 26,
   "metadata": {},
   "outputs": [
    {
     "name": "stdout",
     "output_type": "stream",
     "text": [
      "w_h2o__10m_c\n",
      "Bounds, 30Min: (-0.025885360919346567, 0.03073745742221945)\n",
      "650 dropped of 8114\n",
      "Bounds, 5Min: (-0.02419667533831671, 0.02846866482286714)\n",
      "4805 dropped of 48672\n",
      "\n",
      "w_h2o__10m_d\n",
      "Bounds, 30Min: (-0.022497242946277158, 0.02677243405120559)\n",
      "857 dropped of 8114\n",
      "Bounds, 5Min: (-0.02182209157763282, 0.02578639414787176)\n",
      "6023 dropped of 48672\n",
      "\n",
      "w_h2o__10m_ue\n",
      "Bounds, 30Min: (-0.022428374923341227, 0.02659231392469034)\n",
      "822 dropped of 8114\n",
      "Bounds, 5Min: (-0.02210452815052122, 0.025924699613824487)\n",
      "5920 dropped of 48672\n",
      "\n",
      "w_h2o__10m_uw\n",
      "Bounds, 30Min: (-0.024895064458178236, 0.029727370386960196)\n",
      "948 dropped of 8114\n",
      "Bounds, 5Min: (-0.023773782362695783, 0.028151238715508953)\n",
      "6603 dropped of 48672\n",
      "\n",
      "w_h2o__15m_c\n",
      "Bounds, 30Min: (-0.018106606058249024, 0.021533642414349668)\n",
      "486 dropped of 8114\n",
      "Bounds, 5Min: (-0.01715985314513091, 0.020162658467597794)\n",
      "3832 dropped of 48672\n",
      "\n",
      "w_h2o__1m_d\n",
      "Bounds, 30Min: (-0.013831025429302223, 0.016092329253751817)\n",
      "1940 dropped of 8114\n",
      "Bounds, 5Min: (-0.014312242332380265, 0.016438977472716942)\n",
      "12312 dropped of 48672\n",
      "\n",
      "w_h2o__1m_ue\n",
      "Bounds, 30Min: (-0.017499784558973868, 0.02037769087784606)\n",
      "1565 dropped of 8114\n",
      "Bounds, 5Min: (-0.01787788243382238, 0.020619572183932178)\n",
      "10177 dropped of 48672\n",
      "\n",
      "w_h2o__1m_uw\n",
      "Bounds, 30Min: (-0.015904344152052847, 0.018232669103175187)\n",
      "2004 dropped of 8114\n",
      "Bounds, 5Min: (-0.017499163222964853, 0.019800659036263824)\n",
      "12545 dropped of 48672\n",
      "\n",
      "w_h2o__20m_c\n",
      "Bounds, 30Min: (-0.022588008433710158, 0.02664166710997052)\n",
      "603 dropped of 8114\n",
      "Bounds, 5Min: (-0.021494178712600842, 0.025029033058672212)\n",
      "4769 dropped of 48672\n",
      "\n",
      "w_h2o__2m_c\n",
      "Bounds, 30Min: (-0.019231416581836434, 0.022445451857038282)\n",
      "841 dropped of 8114\n",
      "Bounds, 5Min: (-0.019750321633182466, 0.022836167772766203)\n",
      "5735 dropped of 48672\n",
      "\n",
      "w_h2o__3m_c\n",
      "Bounds, 30Min: (-0.02190572194316094, 0.025801989992942247)\n",
      "798 dropped of 8114\n",
      "Bounds, 5Min: (-0.02122994328965433, 0.024852672228007577)\n",
      "5631 dropped of 48672\n",
      "\n",
      "w_h2o__3m_d\n",
      "Bounds, 30Min: (-0.02200357496136954, 0.025937111679619793)\n",
      "930 dropped of 8114\n",
      "Bounds, 5Min: (-0.021576648170594126, 0.025296124076703563)\n",
      "6352 dropped of 48672\n",
      "\n",
      "w_h2o__3m_ue\n",
      "Bounds, 30Min: (-0.022158856987516625, 0.026201546964027024)\n",
      "888 dropped of 8114\n",
      "Bounds, 5Min: (-0.02105210610170616, 0.024785929828794906)\n",
      "6093 dropped of 48672\n",
      "\n",
      "w_h2o__3m_uw\n",
      "Bounds, 30Min: (-0.021633637736461722, 0.02553961781283457)\n",
      "861 dropped of 8114\n",
      "Bounds, 5Min: (-0.021052762371255085, 0.02464639778190758)\n",
      "5981 dropped of 48672\n",
      "\n",
      "w_h2o__5m_c\n",
      "Bounds, 30Min: (-0.02130708579434781, 0.025308192320233992)\n",
      "557 dropped of 8114\n",
      "Bounds, 5Min: (-0.02028243988752365, 0.02399536137818359)\n",
      "4055 dropped of 48672\n",
      "\n"
     ]
    }
   ],
   "source": [
    "for variable in measured_sublimation_variables:\n",
    "    print(variable)\n",
    "    filter = tidy_df_30Min.variable == variable\n",
    "    lower_bound, upper_bound = get_outlier_threshold(\n",
    "        tidy_df_30Min.loc[filter, 'value'].dropna().values\n",
    "    )\n",
    "    print(f\"Bounds, 30Min: {(lower_bound, upper_bound)}\")\n",
    "    is_included = (tidy_df_30Min.loc[filter, 'value'] > lower_bound) & (tidy_df_30Min.loc[filter, 'value'] < upper_bound)\n",
    "    tidy_df_30Min.loc[filter, 'value'] = tidy_df_30Min.loc[filter, 'value'].where(is_included)\n",
    "    print(f\"{is_included.value_counts()[False]} dropped of {len(is_included)}\")\n",
    "\n",
    "    filter = tidy_df_5Min.variable == variable\n",
    "    lower_bound, upper_bound = get_outlier_threshold(\n",
    "        tidy_df_5Min.loc[filter, 'value'].dropna().values\n",
    "    )\n",
    "    print(f\"Bounds, 5Min: {(lower_bound, upper_bound)}\")\n",
    "    is_included = (tidy_df_5Min.loc[filter, 'value'] > lower_bound) & (tidy_df_5Min.loc[filter, 'value'] < upper_bound)\n",
    "    tidy_df_5Min.loc[filter, 'value'] = tidy_df_5Min.loc[filter, 'value'].where(is_included)\n",
    "    print(f\"{is_included.value_counts()[False]} dropped of {len(is_included)}\")\n",
    "    print()"
   ]
  },
  {
   "cell_type": "code",
   "execution_count": 27,
   "metadata": {},
   "outputs": [
    {
     "data": {
      "text/html": [
       "\n",
       "<style>\n",
       "  #altair-viz-e07b8ba1921d4452b34a767c187ecad2.vega-embed {\n",
       "    width: 100%;\n",
       "    display: flex;\n",
       "  }\n",
       "\n",
       "  #altair-viz-e07b8ba1921d4452b34a767c187ecad2.vega-embed details,\n",
       "  #altair-viz-e07b8ba1921d4452b34a767c187ecad2.vega-embed details summary {\n",
       "    position: relative;\n",
       "  }\n",
       "</style>\n",
       "<div id=\"altair-viz-e07b8ba1921d4452b34a767c187ecad2\"></div>\n",
       "<script type=\"text/javascript\">\n",
       "  var VEGA_DEBUG = (typeof VEGA_DEBUG == \"undefined\") ? {} : VEGA_DEBUG;\n",
       "  (function(spec, embedOpt){\n",
       "    let outputDiv = document.currentScript.previousElementSibling;\n",
       "    if (outputDiv.id !== \"altair-viz-e07b8ba1921d4452b34a767c187ecad2\") {\n",
       "      outputDiv = document.getElementById(\"altair-viz-e07b8ba1921d4452b34a767c187ecad2\");\n",
       "    }\n",
       "    const paths = {\n",
       "      \"vega\": \"https://cdn.jsdelivr.net/npm/vega@5?noext\",\n",
       "      \"vega-lib\": \"https://cdn.jsdelivr.net/npm/vega-lib?noext\",\n",
       "      \"vega-lite\": \"https://cdn.jsdelivr.net/npm/vega-lite@5.8.0?noext\",\n",
       "      \"vega-embed\": \"https://cdn.jsdelivr.net/npm/vega-embed@6?noext\",\n",
       "    };\n",
       "\n",
       "    function maybeLoadScript(lib, version) {\n",
       "      var key = `${lib.replace(\"-\", \"\")}_version`;\n",
       "      return (VEGA_DEBUG[key] == version) ?\n",
       "        Promise.resolve(paths[lib]) :\n",
       "        new Promise(function(resolve, reject) {\n",
       "          var s = document.createElement('script');\n",
       "          document.getElementsByTagName(\"head\")[0].appendChild(s);\n",
       "          s.async = true;\n",
       "          s.onload = () => {\n",
       "            VEGA_DEBUG[key] = version;\n",
       "            return resolve(paths[lib]);\n",
       "          };\n",
       "          s.onerror = () => reject(`Error loading script: ${paths[lib]}`);\n",
       "          s.src = paths[lib];\n",
       "        });\n",
       "    }\n",
       "\n",
       "    function showError(err) {\n",
       "      outputDiv.innerHTML = `<div class=\"error\" style=\"color:red;\">${err}</div>`;\n",
       "      throw err;\n",
       "    }\n",
       "\n",
       "    function displayChart(vegaEmbed) {\n",
       "      vegaEmbed(outputDiv, spec, embedOpt)\n",
       "        .catch(err => showError(`Javascript Error: ${err.message}<br>This usually means there's a typo in your chart specification. See the javascript console for the full traceback.`));\n",
       "    }\n",
       "\n",
       "    if(typeof define === \"function\" && define.amd) {\n",
       "      requirejs.config({paths});\n",
       "      require([\"vega-embed\"], displayChart, err => showError(`Error loading script: ${err.message}`));\n",
       "    } else {\n",
       "      maybeLoadScript(\"vega\", \"5\")\n",
       "        .then(() => maybeLoadScript(\"vega-lite\", \"5.8.0\"))\n",
       "        .then(() => maybeLoadScript(\"vega-embed\", \"6\"))\n",
       "        .catch(showError)\n",
       "        .then(() => displayChart(vegaEmbed));\n",
       "    }\n",
       "  })({\"config\": {\"view\": {\"continuousWidth\": 300, \"continuousHeight\": 300}}, \"data\": {\"url\": \"altair-data-a7bbd8324a0c6a7d292d6579aaf35f82.json\", \"format\": {\"type\": \"json\"}}, \"mark\": {\"type\": \"line\"}, \"encoding\": {\"color\": {\"field\": \"height\", \"scale\": {\"scheme\": \"rainbow\"}, \"type\": \"ordinal\"}, \"facet\": {\"field\": \"tower\", \"type\": \"nominal\"}, \"tooltip\": {\"field\": \"height\", \"type\": \"quantitative\"}, \"x\": {\"field\": \"time\", \"type\": \"temporal\"}, \"y\": {\"field\": \"cumulative_sublimation\", \"scale\": {\"domain\": [0, 40], \"clamp\": true}, \"type\": \"quantitative\"}}, \"transform\": [{\"window\": [{\"op\": \"sum\", \"field\": \"value\", \"as\": \"cumulative_sublimation\"}], \"frame\": [null, 0], \"groupby\": [\"height\", \"tower\"], \"sort\": [{\"field\": \"time\"}]}], \"$schema\": \"https://vega.github.io/schema/vega-lite/v5.8.0.json\"}, {\"mode\": \"vega-lite\"});\n",
       "</script>"
      ],
      "text/plain": [
       "alt.Chart(...)"
      ]
     },
     "execution_count": 27,
     "metadata": {},
     "output_type": "execute_result"
    }
   ],
   "source": [
    "alt.Chart(\n",
    "    tidy_df_30Min[tidy_df_30Min.measurement == 'w_h2o_']\n",
    ").mark_line().transform_window(\n",
    "    sort = [{'field':'time'}],\n",
    "    frame = [None,0],\n",
    "    cumulative_sublimation = 'sum(value)',\n",
    "    groupby=['height', 'tower'],\n",
    ").encode(\n",
    "    x='time:T',\n",
    "    # Plot the calculated field created by the transformation\n",
    "    y=alt.Y('cumulative_sublimation:Q').scale(domain=[0,40], clamp=True),\n",
    "    color=alt.Color('height:O').scale(scheme='rainbow'),\n",
    "    facet='tower:N',\n",
    "    tooltip='height'\n",
    ")"
   ]
  },
  {
   "cell_type": "markdown",
   "metadata": {},
   "source": [
    "### ECOR"
   ]
  },
  {
   "cell_type": "code",
   "execution_count": 28,
   "metadata": {},
   "outputs": [
    {
     "name": "stdout",
     "output_type": "stream",
     "text": [
      "(-1.7951799975708127, 2.1027249968610704)\n",
      "(-2.1024549901485443, 2.4344124868512154)\n",
      "(-1.698460005223751, 1.99490000680089)\n",
      "(-4.5839793993509375, 5.50509112936561)\n"
     ]
    }
   ],
   "source": [
    "lower_bound, upper_bound = get_outlier_threshold(\n",
    "    ecor_kps_ds_thisseason['cvar_wq'].dropna(dim='time').values\n",
    ")\n",
    "print((lower_bound, upper_bound))\n",
    "ecor_kps_ds_thisseason['cvar_wq'] = ecor_kps_ds_thisseason['cvar_wq'].where(\n",
    "        (ecor_kps_ds_thisseason['cvar_wq'] > lower_bound) & \n",
    "        (ecor_kps_ds_thisseason['cvar_wq'] < upper_bound)\n",
    "    )\n",
    "\n",
    "lower_bound, upper_bound = get_outlier_threshold(\n",
    "    ecor_gothic_ds_thisseason['cvar_wq'].dropna(dim='time').values\n",
    ")\n",
    "print((lower_bound, upper_bound))\n",
    "ecor_gothic_ds_thisseason['cvar_wq'] = ecor_gothic_ds_thisseason['cvar_wq'].where(\n",
    "        (ecor_gothic_ds_thisseason['cvar_wq'] > lower_bound) & \n",
    "        (ecor_gothic_ds_thisseason['cvar_wq'] < upper_bound)\n",
    "    )\n",
    "\n",
    "\n",
    "lower_bound, upper_bound = get_outlier_threshold(\n",
    "    ecor_kps_ds_lastseason['cvar_wq'].dropna(dim='time').values\n",
    ")\n",
    "print((lower_bound, upper_bound))\n",
    "ecor_kps_ds_lastseason['cvar_wq'] = ecor_kps_ds_lastseason['cvar_wq'].where(\n",
    "        (ecor_kps_ds_lastseason['cvar_wq'] > lower_bound) & \n",
    "        (ecor_kps_ds_lastseason['cvar_wq'] < upper_bound)\n",
    "    )\n",
    "\n",
    "lower_bound, upper_bound = get_outlier_threshold(\n",
    "    ecor_gothic_ds_lastseason['cvar_wq'].dropna(dim='time').values\n",
    ")\n",
    "print((lower_bound, upper_bound))\n",
    "ecor_gothic_ds_lastseason['cvar_wq'] = ecor_gothic_ds_lastseason['cvar_wq'].where(\n",
    "        (ecor_gothic_ds_lastseason['cvar_wq'] > lower_bound) & \n",
    "        (ecor_gothic_ds_lastseason['cvar_wq'] < upper_bound)\n",
    "    )"
   ]
  },
  {
   "attachments": {},
   "cell_type": "markdown",
   "metadata": {},
   "source": [
    "# Calculate cumulative sublimation with daily mean latent heat fluxes"
   ]
  },
  {
   "cell_type": "markdown",
   "metadata": {},
   "source": [
    "## SOS"
   ]
  },
  {
   "attachments": {},
   "cell_type": "markdown",
   "metadata": {},
   "source": [
    "### Create daily dataset"
   ]
  },
  {
   "cell_type": "code",
   "execution_count": 29,
   "metadata": {},
   "outputs": [
    {
     "name": "stderr",
     "output_type": "stream",
     "text": [
      "/tmp/ipykernel_496/400594300.py:12: UserWarning: Boolean Series key will be reindexed to match DataFrame index.\n",
      "  tidy_df_daily = tidy_df_daily[\n"
     ]
    }
   ],
   "source": [
    "tidy_df_30Min['date'] = tidy_df_30Min['time'].dt.date\n",
    "\n",
    "tidy_df_daily = tidy_df_30Min.drop(columns=['time']).groupby(\n",
    "    ['date', 'tower', 'height', 'measurement', 'variable']\n",
    ").mean().reset_index()\n",
    "\n",
    "tidy_df_daily['time'] = pd.to_datetime(tidy_df_daily['date'])\n",
    "\n",
    "tidy_df_daily = tidy_df_daily.drop(columns=['date'])\n",
    "\n",
    "# remove days with only partial data\n",
    "tidy_df_daily = tidy_df_daily[\n",
    "    tidy_df_daily.time > tidy_df_daily.time.min()\n",
    "][\n",
    "    tidy_df_daily.time < tidy_df_daily.time.max()\n",
    "]"
   ]
  },
  {
   "attachments": {},
   "cell_type": "markdown",
   "metadata": {},
   "source": [
    "### Calculate cumulative sublimation"
   ]
  },
  {
   "cell_type": "markdown",
   "metadata": {},
   "source": [
    "#### For measured sublimation"
   ]
  },
  {
   "cell_type": "code",
   "execution_count": 30,
   "metadata": {},
   "outputs": [],
   "source": [
    "seconds_per_day = 60*60*24\n",
    "seconds_per_30min = 60*30\n",
    "seconds_per_5min = 60*5\n",
    "for variable in measured_sublimation_variables:\n",
    "    height = int(variable.split('_')[-2].split('m')[0])\n",
    "    tower = variable.split('_')[-1]\n",
    "    tidy_df_daily = tidy.tidy_df_add_variable(\n",
    "        tidy_df_daily,\n",
    "        np.cumsum(tidy_df_daily.query(f\"variable == '{variable}'\")['value']*seconds_per_day).values/metpy.constants.density_water.magnitude,\n",
    "        f\"cumulative_sub_measured_{height}m_{tower}\",\n",
    "        \"Cumulative sublimation measured\",  \n",
    "        height,\n",
    "        tower\n",
    "    )\n",
    "    tidy_df_30Min = tidy.tidy_df_add_variable(\n",
    "        tidy_df_30Min,\n",
    "        np.cumsum(tidy_df_30Min.query(f\"variable == '{variable}'\")['value']*seconds_per_30min).values/metpy.constants.density_water.magnitude,\n",
    "        f\"cumulative_sub_measured_{height}m_{tower}\",\n",
    "        \"Cumulative sublimation measured\",  \n",
    "        height,\n",
    "        tower\n",
    "    )\n",
    "    tidy_df_5Min = tidy.tidy_df_add_variable(\n",
    "        tidy_df_5Min,\n",
    "        np.cumsum(tidy_df_5Min.query(f\"variable == '{variable}'\")['value']*seconds_per_5min).values/metpy.constants.density_water.magnitude,\n",
    "        f\"cumulative_sub_measured_{height}m_{tower}\",\n",
    "        \"Cumulative sublimation measured\",  \n",
    "        height,\n",
    "        tower\n",
    "    )\n",
    "\n"
   ]
  },
  {
   "cell_type": "code",
   "execution_count": 31,
   "metadata": {},
   "outputs": [
    {
     "data": {
      "text/plain": [
       "['cumulative_sub_measured_10m_c',\n",
       " 'cumulative_sub_measured_10m_d',\n",
       " 'cumulative_sub_measured_10m_ue',\n",
       " 'cumulative_sub_measured_10m_uw',\n",
       " 'cumulative_sub_measured_15m_c',\n",
       " 'cumulative_sub_measured_1m_d',\n",
       " 'cumulative_sub_measured_1m_ue',\n",
       " 'cumulative_sub_measured_1m_uw',\n",
       " 'cumulative_sub_measured_20m_c',\n",
       " 'cumulative_sub_measured_2m_c',\n",
       " 'cumulative_sub_measured_3m_c',\n",
       " 'cumulative_sub_measured_3m_d',\n",
       " 'cumulative_sub_measured_3m_ue',\n",
       " 'cumulative_sub_measured_3m_uw',\n",
       " 'cumulative_sub_measured_5m_c']"
      ]
     },
     "execution_count": 31,
     "metadata": {},
     "output_type": "execute_result"
    }
   ],
   "source": [
    "[v for v in tidy_df_30Min.variable.unique() if 'cumulative_sub_measured_' in v]"
   ]
  },
  {
   "cell_type": "markdown",
   "metadata": {},
   "source": [
    "#### For modeled sublimation"
   ]
  },
  {
   "cell_type": "code",
   "execution_count": null,
   "metadata": {},
   "outputs": [],
   "source": [
    "predicted_sublimation_variables = [ v for v in tidy_df_30Min.variable.unique() if v.startswith(\"w_h2o__\") and 'predicted' in v ]\n",
    "predicted_sublimation_variables             "
   ]
  },
  {
   "cell_type": "code",
   "execution_count": null,
   "metadata": {},
   "outputs": [],
   "source": [
    "# these only exist in the 30 minute data\n",
    "for variable in predicted_sublimation_variables:\n",
    "    [basic_variable_name, extra_variable_info] = variable.split(' predicted')\n",
    "    extra_variable_info_clean = extra_variable_info.replace('(', '').replace(')', '').replace(' ', '_')\n",
    "    height = int(basic_variable_name.split('_')[-2].split('m')[0])\n",
    "    tower = basic_variable_name.split('_')[-1]\n",
    "    # print(f\"cumulative_sub_modeled{extra_variable_info_clean}_{height}m_{tower}\")\n",
    "    tidy_df_30Min = tidy.tidy_df_add_variable(\n",
    "        tidy_df_30Min,\n",
    "        np.cumsum(tidy_df_30Min.query(f\"variable == '{variable}'\")['value']*60*30).values*1000/(1e6),\n",
    "        f\"cumulative_sub_modeled{extra_variable_info_clean}_{height}m_{tower}\",\n",
    "        \"Cumulative sublimation modeled\",  \n",
    "        height,\n",
    "        tower\n",
    "    )"
   ]
  },
  {
   "cell_type": "markdown",
   "metadata": {},
   "source": [
    "## ECOR"
   ]
  },
  {
   "cell_type": "markdown",
   "metadata": {},
   "source": [
    "### Convert from mmol/m^3 to g/m^2"
   ]
  },
  {
   "cell_type": "code",
   "execution_count": null,
   "metadata": {},
   "outputs": [],
   "source": [
    "for v in ecor_kps_ds_thisseason:\n",
    "    print(ecor_kps_ds_thisseason[v].attrs['long_name'])"
   ]
  },
  {
   "cell_type": "code",
   "execution_count": null,
   "metadata": {},
   "outputs": [],
   "source": [
    "\n",
    "# convert from mmol/m^3 to g/m^2\n",
    "# 18.02 grams/mol\n",
    "# conversion: (original / 1000) * 18.02\n",
    "ecor_kps_df_thisseason = (ecor_kps_ds_thisseason['cvar_wq']*18.02/1000).to_dataframe().reset_index()\n",
    "ecor_gothic_df_thisseason = (ecor_gothic_ds_thisseason['cvar_wq']*18.02/1000).to_dataframe().reset_index()\n",
    "\n",
    "ecor_kps_df_lastseason = (ecor_kps_ds_lastseason['cvar_wq']*18.02/1000).to_dataframe().reset_index()\n",
    "ecor_gothic_df_lastseason = (ecor_gothic_ds_lastseason['cvar_wq']*18.02/1000).to_dataframe().reset_index()"
   ]
  },
  {
   "cell_type": "markdown",
   "metadata": {},
   "source": [
    "### Remove ECOR data to match time/extent of SoS data from 2022-23"
   ]
  },
  {
   "cell_type": "code",
   "execution_count": null,
   "metadata": {},
   "outputs": [],
   "source": [
    "ecor_kps_df_thisseason = ecor_kps_df_thisseason[ecor_kps_df_thisseason['time'] > dt.datetime.strptime(start_date, '%Y%m%d')]\n",
    "ecor_kps_df_thisseason = ecor_kps_df_thisseason[ecor_kps_df_thisseason['time'] < dt.datetime.strptime(end_date, '%Y%m%d')]\n",
    "\n",
    "ecor_gothic_df_thisseason = ecor_gothic_df_thisseason[ecor_gothic_df_thisseason['time'] > dt.datetime.strptime(start_date, '%Y%m%d')]\n",
    "ecor_gothic_df_thisseason = ecor_gothic_df_thisseason[ecor_gothic_df_thisseason['time'] < dt.datetime.strptime(end_date, '%Y%m%d')]\n",
    "\n",
    "ecor_kps_df_lastseason = ecor_kps_df_lastseason[ecor_kps_df_lastseason['time'] > dt.datetime.strptime(start_date, '%Y%m%d').replace(year=2021)]\n",
    "ecor_kps_df_lastseason = ecor_kps_df_lastseason[ecor_kps_df_lastseason['time'] < dt.datetime.strptime(end_date, '%Y%m%d').replace(year=2022)]\n",
    "\n",
    "ecor_gothic_df_lastseason = ecor_gothic_df_lastseason[ecor_gothic_df_lastseason['time'] > dt.datetime.strptime(start_date, '%Y%m%d').replace(year=2021)]\n",
    "ecor_gothic_df_lastseason = ecor_gothic_df_lastseason[ecor_gothic_df_lastseason['time'] < dt.datetime.strptime(end_date, '%Y%m%d').replace(year=2022)]"
   ]
  },
  {
   "cell_type": "markdown",
   "metadata": {},
   "source": [
    "### Create daily datasets"
   ]
  },
  {
   "cell_type": "code",
   "execution_count": null,
   "metadata": {},
   "outputs": [],
   "source": [
    "ecor_gothic_df_thisseason_daily = ecor_gothic_df_thisseason.set_index('time').resample('1440Min').mean().reset_index()\n",
    "ecor_kps_df_thisseason_daily = ecor_kps_df_thisseason.set_index('time').resample('1440Min').mean().reset_index()\n",
    "ecor_gothic_df_lastseason_daily = ecor_gothic_df_lastseason.set_index('time').resample('1440Min').mean().reset_index()\n",
    "ecor_kps_df_lastseason_daily = ecor_kps_df_lastseason.set_index('time').resample('1440Min').mean().reset_index()"
   ]
  },
  {
   "cell_type": "markdown",
   "metadata": {},
   "source": [
    "### Calculate cumulative sublimation"
   ]
  },
  {
   "cell_type": "code",
   "execution_count": null,
   "metadata": {},
   "outputs": [],
   "source": [
    "ecor_gothic_df_thisseason_daily['Cumulative sublimation (mm)'] = np.cumsum(\n",
    "    (ecor_gothic_df_thisseason_daily['cvar_wq'].fillna(0)*60*60*24).values*1000/(1e6)\n",
    ")\n",
    "ecor_kps_df_thisseason_daily['Cumulative sublimation (mm)'] = np.cumsum(\n",
    "    (ecor_kps_df_thisseason_daily['cvar_wq'].fillna(0)*60*60*24).values*1000/(1e6)\n",
    ")\n",
    "\n",
    "ecor_gothic_df_lastseason_daily['Cumulative sublimation (mm)'] = np.cumsum(\n",
    "    (ecor_gothic_df_lastseason_daily['cvar_wq'].fillna(0)*60*60*24).values*1000/(1e6)\n",
    ")\n",
    "ecor_kps_df_lastseason_daily['Cumulative sublimation (mm)'] = np.cumsum(\n",
    "    (ecor_kps_df_lastseason_daily['cvar_wq'].fillna(0)*60*60*24).values*1000/(1e6)\n",
    ")"
   ]
  },
  {
   "cell_type": "markdown",
   "metadata": {},
   "source": [
    "# Plot all Cumul. Sublimation Calculations"
   ]
  },
  {
   "cell_type": "code",
   "execution_count": null,
   "metadata": {},
   "outputs": [],
   "source": [
    "src = tidy_df_30Min.query(\"measurement == 'Cumulative sublimation measured'\")\n",
    "src.value = src.groupby(['measurement', 'variable', 'height', 'tower']).value.ffill()\n",
    "src = src[src.time < \"2023-05-10\"]\n",
    "alt.Chart(\n",
    "    src\n",
    ").mark_errorband(extent = 'stdev', color='#2ca02c').encode(\n",
    "    x = 'time:T',\n",
    "    y = 'value:Q'\n",
    ").properties() + \\\n",
    "alt.Chart(\n",
    "    src[src.time < \"2023-05-11\"].query(\"variable == 'cumulative_sub_measured_3m_c'\")\n",
    ").mark_line(color='#2ca02c').encode(\n",
    "    x = 'time:T',\n",
    "    y = 'value:Q'\n",
    ")"
   ]
  },
  {
   "cell_type": "code",
   "execution_count": null,
   "metadata": {},
   "outputs": [],
   "source": [
    "alt.Chart(\n",
    "    src[~ src.variable.isin([\n",
    "        'cumulative_sub_measured_10m_c', \n",
    "        'cumulative_sub_measured_1m_uw', \n",
    "        'cumulative_sub_measured_3m_ue',\n",
    "        'cumulative_sub_measured_3m_d',\n",
    "        'cumulative_sub_measured_1m_d'\n",
    "    ])]\n",
    ").mark_line(\n",
    "    # strokeWidth=1.0, color='#2ca02c', opacity=0.5\n",
    ").encode(\n",
    "    x = 'time:T',\n",
    "    y = alt.Y('value:Q').title(\"Cumulative sublimation (mm SWE)\"),\n",
    "    color=alt.Color('height:O').title(\"height (m)\"),\n",
    "    detail = \"variable:O\",\n",
    "    tooltip = 'variable:O'\n",
    ").display(renderer='svg')"
   ]
  },
  {
   "cell_type": "code",
   "execution_count": null,
   "metadata": {},
   "outputs": [],
   "source": [
    "measured_sub_chart = alt.Chart(\n",
    "    src[~ src.variable.isin([\n",
    "        'cumulative_sub_measured_10m_c', \n",
    "        'cumulative_sub_measured_1m_uw', \n",
    "        'cumulative_sub_measured_3m_ue',\n",
    "        'cumulative_sub_measured_3m_d',\n",
    "        'cumulative_sub_measured_1m_d'\n",
    "    ])]\n",
    ").mark_line(\n",
    "    strokeWidth=1.0, color='#2ca02c', opacity=0.5\n",
    ").encode(\n",
    "    x = 'time:T',\n",
    "    y = alt.Y('value:Q').title(\"Cumulative sublimation (mm SWE)\"),\n",
    "    detail = \"variable:O\",\n",
    "    tooltip = 'variable:O'\n",
    ")\n",
    "\n",
    "measured_sub_chart"
   ]
  },
  {
   "cell_type": "code",
   "execution_count": null,
   "metadata": {},
   "outputs": [],
   "source": [
    "src = tidy_df_30Min.query(\"measurement == 'Cumulative sublimation modeled'\")\n",
    "src.value = src.groupby(['measurement', 'variable', 'height', 'tower']).value.ffill()\n",
    "src = src[src.time < \"2023-05-10\"]\n",
    "simple_modeled_sub_chart = alt.Chart(\n",
    "    src[src.variable.str.contains('Penman')]\n",
    ").mark_line().encode(\n",
    "    x = 'time:T',\n",
    "    y = alt.Y('value:Q').title(\"Cumulative sublimation (mm SWE)\"),\n",
    "    color = 'variable:N'\n",
    ")\n",
    "simple_modeled_sub_chart.configure_legend(labelLimit = 2000).display(renderer='svg')"
   ]
  },
  {
   "cell_type": "code",
   "execution_count": null,
   "metadata": {},
   "outputs": [],
   "source": [
    "(measured_sub_chart + simple_modeled_sub_chart).configure_axis(grid=False).configure_legend(labelLimit = 2000).display(renderer='svg')"
   ]
  },
  {
   "cell_type": "code",
   "execution_count": null,
   "metadata": {},
   "outputs": [],
   "source": [
    "src = model_df_cumsum_daily.query(\"surface_measurement != 'Tsurf_d'\")\n",
    "src = src.query(\"surface_measurement != 'Td_3m_c'\")\n",
    "src = src[src.time < \"2023-05-11\"]\n",
    "src = src.dropna().query(\"z0 <= 0.001\")\n",
    "most_modeled_sub_chart = alt.Chart(\n",
    "    src\n",
    ").mark_area(color='grey', opacity=0.1).encode(\n",
    "    alt.X(\"time:T\"),\n",
    "    alt.Y(\"min(latent heat flux (mm)):Q\").title(\"Cumulative sublimation (mm SWE)\"),\n",
    "    alt.Y2(\"max(latent heat flux (mm)):Q\").title(\"Cumulative sublimation (mm SWE)\"),\n",
    ")\n",
    "most_modeled_sub_chart"
   ]
  },
  {
   "cell_type": "code",
   "execution_count": null,
   "metadata": {},
   "outputs": [],
   "source": [
    "src = model_df_cumsum_daily.query(\"surface_measurement != 'Tsurf_d'\")\n",
    "src = src.query(\"surface_measurement != 'Td_3m_c'\")\n",
    "src = src[src.time < \"2023-05-11\"]\n",
    "src = src.dropna().query(\"z0 <= 0.001\")\n",
    "most_modeled_sub_chart_lines = alt.Chart(\n",
    "    src\n",
    ").mark_line(strokeWidth=0.25, color='grey', opacity=0.25).encode(\n",
    "    alt.X(\"time:T\"),\n",
    "    alt.Y(\"latent heat flux (mm):Q\").title(\"Cumulative sublimation (mm SWE)\"),\n",
    "    detail = 'config'\n",
    ")\n",
    "most_modeled_sub_chart + most_modeled_sub_chart_lines"
   ]
  },
  {
   "cell_type": "code",
   "execution_count": null,
   "metadata": {},
   "outputs": [],
   "source": [
    "ecor_gothic_and_kps_df_thisseason_daily = ecor_gothic_df_thisseason_daily.copy()\n",
    "ecor_gothic_and_kps_df_thisseason_daily['Gothic'] = ecor_gothic_and_kps_df_thisseason_daily['Cumulative sublimation (mm)']\n",
    "ecor_gothic_and_kps_df_thisseason_daily['Kettle Ponds'] = ecor_kps_df_thisseason_daily['Cumulative sublimation (mm)']\n",
    "ecor_gothic_and_kps_df_thisseason_daily"
   ]
  },
  {
   "cell_type": "code",
   "execution_count": null,
   "metadata": {},
   "outputs": [],
   "source": [
    "sailsail_sub_chart = alt.Chart(ecor_gothic_and_kps_df_thisseason_daily).transform_fold([   \n",
    "    'Gothic',\n",
    "    'Kettle Ponds'\n",
    "]).mark_line().encode(\n",
    "    alt.X(\"time:T\"),\n",
    "    alt.Y(\"value:Q\"),\n",
    "    alt.Color(\"key:N\").scale(domain = ['Gothic', 'Kettle Ponds'], range = ['#d62728', '#9467bd'])\n",
    ")\n",
    "sailsail_sub_chart"
   ]
  },
  {
   "cell_type": "code",
   "execution_count": null,
   "metadata": {},
   "outputs": [],
   "source": [
    "(most_modeled_sub_chart + measured_sub_chart\n",
    "#   + simple_modeled_sub_chart\n",
    ").configure_axis(grid=False).configure_legend(labelLimit = 2000).display(renderer='svg')"
   ]
  },
  {
   "cell_type": "code",
   "execution_count": null,
   "metadata": {},
   "outputs": [],
   "source": [
    "(sailsail_sub_chart + most_modeled_sub_chart_lines + measured_sub_chart).resolve_scale(\n",
    "    color = 'independent'\n",
    ").configure_axis(grid=False).configure_legend(labelLimit = 2000).display(renderer='svg')"
   ]
  },
  {
   "cell_type": "code",
   "execution_count": null,
   "metadata": {},
   "outputs": [],
   "source": [
    "(sailsail_sub_chart + most_modeled_sub_chart + measured_sub_chart + simple_modeled_sub_chart).resolve_scale(\n",
    "    color = 'independent'\n",
    ").configure_axis(grid=False).configure_legend(labelLimit = 2000).display(renderer='svg')"
   ]
  },
  {
   "cell_type": "markdown",
   "metadata": {},
   "source": [
    "# Plot time series from a few days and many datasets"
   ]
  },
  {
   "cell_type": "code",
   "execution_count": null,
   "metadata": {},
   "outputs": [],
   "source": [
    "alt.Chart(ecor_kps_df_thisseason).mark_tick().encode(\n",
    "    alt.X(\"time:T\")\n",
    ").properties(width = 800) & alt.Chart(ecor_gothic_df_thisseason).mark_tick().encode(\n",
    "    alt.X(\"time:T\")\n",
    ").properties(width = 800)"
   ]
  },
  {
   "cell_type": "code",
   "execution_count": null,
   "metadata": {},
   "outputs": [],
   "source": [
    "january_case_study_df = pd.DataFrame({\n",
    "    \"Gothic, SAIL ECOR\": ecor_gothic_df_thisseason.set_index(\"time\").loc[\"2023-01-19\": \"2023-01-19\"]['cvar_wq'],\n",
    "    \"Kettle Ponds, SAIL ECOR\": ecor_kps_df_thisseason.set_index(\"time\").loc[\"2023-01-19\": \"2023-01-19\"]['cvar_wq'],\n",
    "    \"Kettle Ponds, SOS\": tidy_df_30Min.set_index(\"time\").loc[\"2023-01-19\": \"2023-01-19\"].query(\"variable == 'w_h2o__3m_c'\")['value'],\n",
    "    'Avery Picnic, SPLASH': splash_avp_lhflux_ds.to_dataframe().loc[\"2023-01-19\": \"2023-01-19\"]['Hl']/2838\n",
    "    \n",
    "})\n",
    "april_case_study_df = pd.DataFrame({\n",
    "    \"Gothic, SAIL ECOR\": ecor_gothic_df_thisseason.set_index(\"time\").loc[\"2023-04-20\": \"2023-04-20\"]['cvar_wq'],\n",
    "    \"Kettle Ponds, SAIL ECOR\": ecor_kps_df_thisseason.set_index(\"time\").loc[\"2023-04-20\": \"2023-04-20\"]['cvar_wq'],\n",
    "    \"Kettle Ponds, SOS\": tidy_df_30Min.set_index(\"time\").loc[\"2023-04-20\": \"2023-04-20\"].query(\"variable == 'w_h2o__3m_c'\")['value'],\n",
    "    'Avery Picnic, SPLASH': splash_avp_lhflux_ds.to_dataframe().loc[\"2023-04-20\": \"2023-04-20\"]['Hl']/2838\n",
    "})"
   ]
  },
  {
   "cell_type": "code",
   "execution_count": null,
   "metadata": {},
   "outputs": [],
   "source": [
    "# (\n",
    "# alt.Chart(src).mark_line().encode(\n",
    "#     alt.X(\"time:T\"),\n",
    "#     alt.Y(\"latent heat flux:Q\").title(\"Latent heat flux (g/m^2/s)\").scale(\n",
    "#         domain = [-0.006, 0.006]\n",
    "#     ),\n",
    "#     alt.Color(\"surface_measurement:N\")\n",
    "# )+ \\\n",
    "# alt.Chart(meas_src).mark_point(size=10, color='black', opacity=0.5).encode(\n",
    "#     alt.X(\"time:T\"),\n",
    "#     alt.Y(\"value:Q\")\n",
    "# )).properties(width = 300, height = 150).configure_legend(orient='top').display(renderer = 'svg')"
   ]
  },
  {
   "cell_type": "code",
   "execution_count": null,
   "metadata": {},
   "outputs": [],
   "source": [
    "((alt.Chart(january_case_study_df.reset_index().iloc[1:]).transform_fold([\n",
    "    # \"Gothic, SAIL ECOR\",\n",
    "    # \"Kettle Ponds, SAIL ECOR\",\n",
    "    \"Kettle Ponds, SOS\",\n",
    "    # 'Avery Picnic, SPLASH'\n",
    "]).mark_point(size=10, color='black', opacity=0.5).encode(\n",
    "    alt.X(\"time:T\"),\n",
    "    alt.Y(\"value:Q\").scale(domain=[-0.006, 0.006], clamp=True).title(\"Latent heat flux (g/m^2/s)\"),\n",
    ")).properties(width = 300, height = 150) +\\\n",
    "(alt.Chart(january_case_study_df.reset_index()).transform_fold([\n",
    "    \"Gothic, SAIL ECOR\",\n",
    "    \"Kettle Ponds, SAIL ECOR\",\n",
    "    'Avery Picnic, SPLASH'\n",
    "]).mark_line().encode(\n",
    "    alt.X(\"time:T\"),\n",
    "    alt.Y(\"value:Q\").scale(domain=[-0.006, 0.006], clamp=True).title(\"Latent heat flux (g/m^2/s)\"),\n",
    "    alt.Color(\"key:N\").title(\"Measurement\").scale(\n",
    "        domain = [\n",
    "            \"Gothic, SAIL ECOR\",\n",
    "        \"Kettle Ponds, SAIL ECOR\",\n",
    "        'Avery Picnic, SPLASH'],\n",
    "        range = ['#2ca02c', '#d62728', '#9467bd']\n",
    "    )\n",
    ")).properties(width = 300, height = 150)).display(renderer='svg')"
   ]
  },
  {
   "cell_type": "code",
   "execution_count": null,
   "metadata": {},
   "outputs": [],
   "source": [
    "((alt.Chart(january_case_study_df.reset_index()).transform_fold([\n",
    "    \"Gothic, SAIL ECOR\",\n",
    "    \"Kettle Ponds, SAIL ECOR\",\n",
    "    \"Kettle Ponds, SOS\",\n",
    "    'Avery Picnic, SPLASH'\n",
    "]).mark_line().encode(\n",
    "    alt.X(\"time:T\"),\n",
    "    alt.Y(\"value:Q\").scale(domain=[-0.006, 0.006], clamp=True).title(\"Latent heat flux (g/m^2/s)\"),\n",
    "    alt.Color(\"key:N\").title(\"Measurement\")\n",
    ")).properties(width = 300, height = 150) & \\\n",
    "(alt.Chart(april_case_study_df.reset_index()).transform_fold([\n",
    "    \"Gothic, SAIL ECOR\",\n",
    "    \"Kettle Ponds, SAIL ECOR\",\n",
    "    \"Kettle Ponds, SOS\",\n",
    "    'Avery Picnic, SPLASH'\n",
    "]).mark_line().encode(\n",
    "    alt.X(\"hoursminutes(time):T\"),\n",
    "    alt.Y(\"value:Q\").scale().title(\"Latent heat flux (g/m^2/s)\"),\n",
    "    alt.Color(\"key:N\").title(\"Measurement\")\n",
    ")).properties(width = 300, height = 150)).resolve_scale(y='independent').display(renderer='svg')"
   ]
  },
  {
   "cell_type": "code",
   "execution_count": null,
   "metadata": {},
   "outputs": [],
   "source": [
    "\n",
    "february_case_study_df = pd.DataFrame({\n",
    "    \"Gothic, SAIL ECOR\": ecor_gothic_df_thisseason.set_index(\"time\").loc[\"2023-02-01\": \"2023-02-01\"]['cvar_wq'],\n",
    "    \"Kettle Ponds, SAIL ECOR\": ecor_kps_df_thisseason.set_index(\"time\").loc[\"2023-02-01\": \"2023-02-01\"]['cvar_wq'],\n",
    "    \"Kettle Ponds, SOS\": tidy_df_30Min.set_index(\"time\").loc[\"2023-02-01\": \"2023-02-01\"].query(\"variable == 'w_h2o__3m_c'\")['value']\n",
    "})\n",
    "march_case_study_df = pd.DataFrame({\n",
    "    \"Gothic, SAIL ECOR\": ecor_gothic_df_thisseason.set_index(\"time\").loc[\"2023-03-28\": \"2023-03-28\"]['cvar_wq'],\n",
    "    \"Kettle Ponds, SAIL ECOR\": ecor_kps_df_thisseason.set_index(\"time\").loc[\"2023-03-28\": \"2023-03-28\"]['cvar_wq'],\n",
    "    \"Kettle Ponds, SOS\": tidy_df_30Min.set_index(\"time\").loc[\"2023-03-28\": \"2023-03-28\"].query(\"variable == 'w_h2o__3m_c'\")['value']\n",
    "})"
   ]
  },
  {
   "cell_type": "code",
   "execution_count": null,
   "metadata": {},
   "outputs": [],
   "source": [
    "(alt.Chart(february_case_study_df.reset_index()).transform_fold([\n",
    "    \"Gothic, SAIL ECOR\",\n",
    "    \"Kettle Ponds, SAIL ECOR\",\n",
    "    \"Kettle Ponds, SOS\"\n",
    "]).mark_line().encode(\n",
    "    alt.X(\"time:T\"),\n",
    "    alt.Y(\"value:Q\").scale(domain=[-0.03, 0.03]).title(\"Latent heat flux (g/m^2/s)\"),\n",
    "    alt.Color(\"key:N\").title(\"Measurement\")\n",
    ")).resolve_scale(y='independent').properties(width = 360, height = 240).configure_legend(orient='top').display(renderer='svg')"
   ]
  },
  {
   "cell_type": "code",
   "execution_count": null,
   "metadata": {},
   "outputs": [],
   "source": [
    "(alt.Chart(march_case_study_df.reset_index()).transform_fold([\n",
    "    \"Gothic, SAIL ECOR\",\n",
    "    \"Kettle Ponds, SAIL ECOR\",\n",
    "    \"Kettle Ponds, SOS\"\n",
    "]).mark_line().encode(\n",
    "    alt.X(\"time:T\"),\n",
    "    alt.Y(\"value:Q\").scale(domain=[-0.03, 0.03]).title(\"Latent heat flux (g/m^2/s)\"),\n",
    "    alt.Color(\"key:N\").title(\"Measurement\")\n",
    ")).resolve_scale(y='independent').properties(width = 360, height = 240).configure_legend(orient='top').display(renderer='svg')"
   ]
  },
  {
   "cell_type": "markdown",
   "metadata": {},
   "source": [
    "# Save daily data"
   ]
  },
  {
   "cell_type": "code",
   "execution_count": null,
   "metadata": {},
   "outputs": [],
   "source": [
    "tidy_df_daily.to_parquet(tidy_daily_dataset_output_fn)"
   ]
  },
  {
   "cell_type": "code",
   "execution_count": null,
   "metadata": {},
   "outputs": [],
   "source": [
    "\n",
    "tidy_df_30Min_calm = tidy_df_30Min[tidy_df_30Min.time.isin(\n",
    "    tidy_df_30Min.query(\"variable == 'SF_avg_1m_ue'\").query(\"value == 0\").time.unique()\n",
    ")]\n",
    "tidy_df_30Min_blowing = tidy_df_30Min[tidy_df_30Min.time.isin(\n",
    "    tidy_df_30Min.query(\"variable == 'SF_avg_1m_ue'\").query(\"value > 0\").time.unique()\n",
    ")]"
   ]
  },
  {
   "attachments": {},
   "cell_type": "markdown",
   "metadata": {},
   "source": [
    "# Compare multiple cumulative sublimation estimates"
   ]
  },
  {
   "cell_type": "code",
   "execution_count": null,
   "metadata": {},
   "outputs": [],
   "source": [
    "sos_swe_chart_src = tidy_df_daily.query(\n",
    "        \"measurement == 'SWE'\"\n",
    "    ).query(\"tower == 'c'\").dropna()\n",
    "\n",
    "sos_swe_chart = alt.Chart(\n",
    "    sos_swe_chart_src    \n",
    ").mark_line(opacity=0.4, strokeDash=[1,2], color='black').encode(\n",
    "    alt.X('time:T'),\n",
    "    alt.Y(\"value:Q\", title='Snow Pillow SWE (mm)').axis(offset=50),\n",
    ")\n",
    "sos_swe_chart"
   ]
  },
  {
   "cell_type": "code",
   "execution_count": null,
   "metadata": {},
   "outputs": [],
   "source": [
    "sos_sublimation_src = tidy_df_30Min[tidy_df_30Min.measurement.isin([\n",
    "    'Cumulative sublimation measured',\n",
    "    'Cumulative sublimation modeled'\n",
    "])]\n",
    "\n",
    "sos_sublimation_chart = alt.Chart(\n",
    "    sos_sublimation_src    \n",
    ").mark_line(color='black').encode(\n",
    "    alt.X('time:T'),\n",
    "    alt.Y(\"value:Q\", title='Cumulative sublimation (mm)'),\n",
    "    alt.Color(\"variable:N\"),\n",
    "    alt.StrokeDash(\"measurement:N\")\n",
    ")\n",
    "sos_sublimation_chart"
   ]
  },
  {
   "cell_type": "code",
   "execution_count": null,
   "metadata": {},
   "outputs": [],
   "source": [
    "sos_sublimation_src = tidy_df_30Min[tidy_df_30Min.variable.isin([\n",
    "    'cumulative_sub_measured_3m_c',\n",
    "    'cumulative_sub_modeled_turbpy_webb_noahmp_3m_c'\n",
    "])]\n",
    "\n",
    "sos_sublimation_chart = alt.Chart(\n",
    "    sos_sublimation_src    \n",
    ").mark_line(color='black').encode(\n",
    "    alt.X('time:T'),\n",
    "    alt.Y(\"value:Q\", title='Cumulative sublimation (mm)'),\n",
    "    alt.StrokeDash(\"variable:N\", legend=None)\n",
    ")\n",
    "sos_sublimation_chart"
   ]
  },
  {
   "attachments": {},
   "cell_type": "markdown",
   "metadata": {},
   "source": [
    "# Make additional calculations"
   ]
  },
  {
   "attachments": {},
   "cell_type": "markdown",
   "metadata": {},
   "source": [
    "To Do/Add:\n",
    "\n",
    "* water flux into soil\n",
    "* SWE from snow pillows + overlaid snow pit data"
   ]
  },
  {
   "cell_type": "markdown",
   "metadata": {},
   "source": [
    "# Calculate daily sublimation"
   ]
  },
  {
   "cell_type": "markdown",
   "metadata": {},
   "source": [
    "$$ \\frac{g}{m^2 * s} * \\frac{1800 s}{measurement} * \\frac{.001 kg}{g} * \\frac{1 m^3}{1000 kg} * \\frac{1000 mm }{m}$$\n",
    "\n",
    "$$ \\frac{m}{s} * 1800 * .001 * (1 / 1000) * (1000)$$"
   ]
  },
  {
   "cell_type": "code",
   "execution_count": 4,
   "metadata": {},
   "outputs": [
    {
     "data": {
      "text/html": [
       "<div>\n",
       "<style scoped>\n",
       "    .dataframe tbody tr th:only-of-type {\n",
       "        vertical-align: middle;\n",
       "    }\n",
       "\n",
       "    .dataframe tbody tr th {\n",
       "        vertical-align: top;\n",
       "    }\n",
       "\n",
       "    .dataframe thead th {\n",
       "        text-align: right;\n",
       "    }\n",
       "</style>\n",
       "<table border=\"1\" class=\"dataframe\">\n",
       "  <thead>\n",
       "    <tr style=\"text-align: right;\">\n",
       "      <th>variable</th>\n",
       "      <th>time</th>\n",
       "      <th>blowing snow</th>\n",
       "      <th>SF_avg_1m_ue</th>\n",
       "      <th>SF_avg_2m_ue</th>\n",
       "      <th>w_h2o__3m_c</th>\n",
       "      <th>SF_avg_max_ue</th>\n",
       "      <th>Sublimation (mm)</th>\n",
       "    </tr>\n",
       "  </thead>\n",
       "  <tbody>\n",
       "    <tr>\n",
       "      <th>0</th>\n",
       "      <td>2022-11-30</td>\n",
       "      <td>False</td>\n",
       "      <td>0.000000</td>\n",
       "      <td>0.000000</td>\n",
       "      <td>-0.027082</td>\n",
       "      <td>0.000000</td>\n",
       "      <td>-0.048747</td>\n",
       "    </tr>\n",
       "    <tr>\n",
       "      <th>1</th>\n",
       "      <td>2022-12-01</td>\n",
       "      <td>False</td>\n",
       "      <td>0.000000</td>\n",
       "      <td>0.000000</td>\n",
       "      <td>0.095618</td>\n",
       "      <td>0.000000</td>\n",
       "      <td>0.172112</td>\n",
       "    </tr>\n",
       "    <tr>\n",
       "      <th>2</th>\n",
       "      <td>2022-12-02</td>\n",
       "      <td>False</td>\n",
       "      <td>0.000000</td>\n",
       "      <td>0.000000</td>\n",
       "      <td>0.018089</td>\n",
       "      <td>0.000000</td>\n",
       "      <td>0.032560</td>\n",
       "    </tr>\n",
       "    <tr>\n",
       "      <th>3</th>\n",
       "      <td>2022-12-02</td>\n",
       "      <td>True</td>\n",
       "      <td>3.015333</td>\n",
       "      <td>3.996667</td>\n",
       "      <td>0.208166</td>\n",
       "      <td>4.093667</td>\n",
       "      <td>0.374698</td>\n",
       "    </tr>\n",
       "    <tr>\n",
       "      <th>4</th>\n",
       "      <td>2022-12-03</td>\n",
       "      <td>False</td>\n",
       "      <td>0.000000</td>\n",
       "      <td>0.000000</td>\n",
       "      <td>0.006676</td>\n",
       "      <td>0.000000</td>\n",
       "      <td>0.012017</td>\n",
       "    </tr>\n",
       "    <tr>\n",
       "      <th>...</th>\n",
       "      <td>...</td>\n",
       "      <td>...</td>\n",
       "      <td>...</td>\n",
       "      <td>...</td>\n",
       "      <td>...</td>\n",
       "      <td>...</td>\n",
       "      <td>...</td>\n",
       "    </tr>\n",
       "    <tr>\n",
       "      <th>270</th>\n",
       "      <td>2023-05-13</td>\n",
       "      <td>False</td>\n",
       "      <td>0.000000</td>\n",
       "      <td>0.000000</td>\n",
       "      <td>0.107166</td>\n",
       "      <td>0.000000</td>\n",
       "      <td>0.192899</td>\n",
       "    </tr>\n",
       "    <tr>\n",
       "      <th>271</th>\n",
       "      <td>2023-05-13</td>\n",
       "      <td>True</td>\n",
       "      <td>0.003333</td>\n",
       "      <td>0.006667</td>\n",
       "      <td>0.007872</td>\n",
       "      <td>0.006667</td>\n",
       "      <td>0.014169</td>\n",
       "    </tr>\n",
       "    <tr>\n",
       "      <th>272</th>\n",
       "      <td>2023-05-14</td>\n",
       "      <td>False</td>\n",
       "      <td>0.000000</td>\n",
       "      <td>0.000000</td>\n",
       "      <td>0.256507</td>\n",
       "      <td>0.000000</td>\n",
       "      <td>0.461713</td>\n",
       "    </tr>\n",
       "    <tr>\n",
       "      <th>273</th>\n",
       "      <td>2023-05-15</td>\n",
       "      <td>False</td>\n",
       "      <td>0.000000</td>\n",
       "      <td>0.000000</td>\n",
       "      <td>0.535407</td>\n",
       "      <td>0.000000</td>\n",
       "      <td>0.963733</td>\n",
       "    </tr>\n",
       "    <tr>\n",
       "      <th>274</th>\n",
       "      <td>2023-05-16</td>\n",
       "      <td>False</td>\n",
       "      <td>0.000000</td>\n",
       "      <td>0.000000</td>\n",
       "      <td>0.740382</td>\n",
       "      <td>0.000000</td>\n",
       "      <td>1.332688</td>\n",
       "    </tr>\n",
       "  </tbody>\n",
       "</table>\n",
       "<p>275 rows × 7 columns</p>\n",
       "</div>"
      ],
      "text/plain": [
       "variable       time  blowing snow  SF_avg_1m_ue  SF_avg_2m_ue  w_h2o__3m_c  \\\n",
       "0        2022-11-30         False      0.000000      0.000000    -0.027082   \n",
       "1        2022-12-01         False      0.000000      0.000000     0.095618   \n",
       "2        2022-12-02         False      0.000000      0.000000     0.018089   \n",
       "3        2022-12-02          True      3.015333      3.996667     0.208166   \n",
       "4        2022-12-03         False      0.000000      0.000000     0.006676   \n",
       "..              ...           ...           ...           ...          ...   \n",
       "270      2023-05-13         False      0.000000      0.000000     0.107166   \n",
       "271      2023-05-13          True      0.003333      0.006667     0.007872   \n",
       "272      2023-05-14         False      0.000000      0.000000     0.256507   \n",
       "273      2023-05-15         False      0.000000      0.000000     0.535407   \n",
       "274      2023-05-16         False      0.000000      0.000000     0.740382   \n",
       "\n",
       "variable  SF_avg_max_ue  Sublimation (mm)  \n",
       "0              0.000000         -0.048747  \n",
       "1              0.000000          0.172112  \n",
       "2              0.000000          0.032560  \n",
       "3              4.093667          0.374698  \n",
       "4              0.000000          0.012017  \n",
       "..                  ...               ...  \n",
       "270            0.000000          0.192899  \n",
       "271            0.006667          0.014169  \n",
       "272            0.000000          0.461713  \n",
       "273            0.000000          0.963733  \n",
       "274            0.000000          1.332688  \n",
       "\n",
       "[275 rows x 7 columns]"
      ]
     },
     "execution_count": 4,
     "metadata": {},
     "output_type": "execute_result"
    }
   ],
   "source": [
    "daily_sub_by_blowingsnow_src = tidy_df_30Min[\n",
    "    (tidy_df_30Min.time > start_date) & (tidy_df_30Min.time < end_date) # remove days with partial data\n",
    "    & tidy_df_30Min.variable.isin(['w_h2o__3m_c', 'SF_avg_1m_ue', 'SF_avg_2m_ue'])\n",
    "].pivot_table(\n",
    "    values = 'value',\n",
    "    index = 'time',\n",
    "    columns = 'variable'\n",
    ")\n",
    "daily_sub_by_blowingsnow_src['SF_avg_max_ue'] = daily_sub_by_blowingsnow_src[['SF_avg_1m_ue', 'SF_avg_2m_ue']].max(axis=1)\n",
    "daily_sub_by_blowingsnow_src['blowing snow'] = daily_sub_by_blowingsnow_src['SF_avg_max_ue'] > 0\n",
    "daily_sub_by_blowingsnow_src['Sublimation (mm)'] = daily_sub_by_blowingsnow_src['w_h2o__3m_c'] *60*30*0.001 # calculate daily sublimation\n",
    "daily_sub_by_blowingsnow_src = daily_sub_by_blowingsnow_src.groupby([pd.Grouper(freq='1440Min'), 'blowing snow']).sum()\n",
    "daily_sub_by_blowingsnow_src = daily_sub_by_blowingsnow_src.reset_index()\n",
    "daily_sub_by_blowingsnow_src"
   ]
  },
  {
   "cell_type": "code",
   "execution_count": 9,
   "metadata": {},
   "outputs": [
    {
     "data": {
      "text/html": [
       "\n",
       "<style>\n",
       "  #altair-viz-3d05f2dc107848ae816a0c90b523e490.vega-embed {\n",
       "    width: 100%;\n",
       "    display: flex;\n",
       "  }\n",
       "\n",
       "  #altair-viz-3d05f2dc107848ae816a0c90b523e490.vega-embed details,\n",
       "  #altair-viz-3d05f2dc107848ae816a0c90b523e490.vega-embed details summary {\n",
       "    position: relative;\n",
       "  }\n",
       "</style>\n",
       "<div id=\"altair-viz-3d05f2dc107848ae816a0c90b523e490\"></div>\n",
       "<script type=\"text/javascript\">\n",
       "  var VEGA_DEBUG = (typeof VEGA_DEBUG == \"undefined\") ? {} : VEGA_DEBUG;\n",
       "  (function(spec, embedOpt){\n",
       "    let outputDiv = document.currentScript.previousElementSibling;\n",
       "    if (outputDiv.id !== \"altair-viz-3d05f2dc107848ae816a0c90b523e490\") {\n",
       "      outputDiv = document.getElementById(\"altair-viz-3d05f2dc107848ae816a0c90b523e490\");\n",
       "    }\n",
       "    const paths = {\n",
       "      \"vega\": \"https://cdn.jsdelivr.net/npm/vega@5?noext\",\n",
       "      \"vega-lib\": \"https://cdn.jsdelivr.net/npm/vega-lib?noext\",\n",
       "      \"vega-lite\": \"https://cdn.jsdelivr.net/npm/vega-lite@5.8.0?noext\",\n",
       "      \"vega-embed\": \"https://cdn.jsdelivr.net/npm/vega-embed@6?noext\",\n",
       "    };\n",
       "\n",
       "    function maybeLoadScript(lib, version) {\n",
       "      var key = `${lib.replace(\"-\", \"\")}_version`;\n",
       "      return (VEGA_DEBUG[key] == version) ?\n",
       "        Promise.resolve(paths[lib]) :\n",
       "        new Promise(function(resolve, reject) {\n",
       "          var s = document.createElement('script');\n",
       "          document.getElementsByTagName(\"head\")[0].appendChild(s);\n",
       "          s.async = true;\n",
       "          s.onload = () => {\n",
       "            VEGA_DEBUG[key] = version;\n",
       "            return resolve(paths[lib]);\n",
       "          };\n",
       "          s.onerror = () => reject(`Error loading script: ${paths[lib]}`);\n",
       "          s.src = paths[lib];\n",
       "        });\n",
       "    }\n",
       "\n",
       "    function showError(err) {\n",
       "      outputDiv.innerHTML = `<div class=\"error\" style=\"color:red;\">${err}</div>`;\n",
       "      throw err;\n",
       "    }\n",
       "\n",
       "    function displayChart(vegaEmbed) {\n",
       "      vegaEmbed(outputDiv, spec, embedOpt)\n",
       "        .catch(err => showError(`Javascript Error: ${err.message}<br>This usually means there's a typo in your chart specification. See the javascript console for the full traceback.`));\n",
       "    }\n",
       "\n",
       "    if(typeof define === \"function\" && define.amd) {\n",
       "      requirejs.config({paths});\n",
       "      require([\"vega-embed\"], displayChart, err => showError(`Error loading script: ${err.message}`));\n",
       "    } else {\n",
       "      maybeLoadScript(\"vega\", \"5\")\n",
       "        .then(() => maybeLoadScript(\"vega-lite\", \"5.8.0\"))\n",
       "        .then(() => maybeLoadScript(\"vega-embed\", \"6\"))\n",
       "        .catch(showError)\n",
       "        .then(() => displayChart(vegaEmbed));\n",
       "    }\n",
       "  })({\"config\": {\"view\": {\"continuousWidth\": 300, \"continuousHeight\": 300}, \"axis\": {\"grid\": false}}, \"data\": {\"url\": \"altair-data-e8b33b553df5582d56bad01a83f1a336.json\", \"format\": {\"type\": \"json\"}}, \"mark\": {\"type\": \"bar\", \"width\": 2}, \"encoding\": {\"color\": {\"field\": \"blowing snow\", \"type\": \"nominal\"}, \"tooltip\": {\"field\": \"time\", \"type\": \"temporal\"}, \"x\": {\"field\": \"time\", \"title\": null, \"type\": \"temporal\"}, \"y\": {\"field\": \"Sublimation (mm)\", \"title\": \"Daily sublimation (mm)\", \"type\": \"quantitative\"}}, \"height\": 100, \"$schema\": \"https://vega.github.io/schema/vega-lite/v5.8.0.json\"}, {\"renderer\": \"svg\", \"mode\": \"vega-lite\"});\n",
       "</script>"
      ],
      "text/plain": [
       "alt.Chart(...)"
      ]
     },
     "metadata": {},
     "output_type": "display_data"
    }
   ],
   "source": [
    "daily_sublimation_chart = alt.Chart(daily_sub_by_blowingsnow_src[\n",
    "    daily_sub_by_blowingsnow_src.time < \"2023-05-11\"\n",
    "]).mark_bar(width=2).encode(\n",
    "    alt.X(\"time:T\", title=None),\n",
    "    alt.Y(\"Sublimation (mm):Q\").title(\"Daily sublimation (mm)\"), \n",
    "    alt.Color(\"blowing snow:N\"),\n",
    "    tooltip='time:T'\n",
    ").properties(height = 100)\n",
    "daily_sublimation_chart.configure_axis(grid=False).display(renderer='svg')"
   ]
  },
  {
   "cell_type": "markdown",
   "metadata": {},
   "source": [
    "Stability regime plots, using -0.25 and 0.25 to distinguish Ri number"
   ]
  },
  {
   "cell_type": "code",
   "execution_count": null,
   "metadata": {},
   "outputs": [],
   "source": [
    "def ri_to_stability_regime(x):\n",
    "    if np.isnan(x):\n",
    "        return None\n",
    "    elif x < -0.25:\n",
    "        return \"unstable\"\n",
    "    elif x >= -0.25 and x <= 0.25:\n",
    "        return \"neutral\"\n",
    "    elif x > 0.25:\n",
    "        return \"stable\"\n",
    "    else:\n",
    "        raise ValueError(\"what?\")\n",
    "\n",
    "src = tidy_df_5Min.query(\"variable == 'Ri_3m_c'\")\n",
    "# src = src[src.time.dt.hour.isin([10,11,12,13,14,15])]\n",
    "src['date'] = src.time.dt.date\n",
    "src = src.groupby('date').median().reset_index()\n",
    "src['stability regime'] = src['value'].apply(ri_to_stability_regime)\n",
    "\n",
    "stability_regime_chart = alt.Chart(src).mark_bar().encode(\n",
    "    alt.X(\"date:T\").axis(labels=False, ticks=False).title(None),\n",
    "    alt.Color(\"stability regime:N\").scale(domain = ['neutral', 'stable', 'unstable'])\n",
    ").properties(width = 800)\n",
    "stability_regime_chart"
   ]
  },
  {
   "cell_type": "code",
   "execution_count": null,
   "metadata": {},
   "outputs": [],
   "source": [
    "src = tidy_df_5Min.query(\"variable == 'Ri_3m_c'\")\n",
    "src['date'] = src.time.dt.date\n",
    "src[src.time.dt.hour.isin([0,1])]\n",
    "src_day = src[src.time.dt.hour.isin([12,13])].assign(time_of_day = 'day')\n",
    "src_night = src[src.time.dt.hour.isin([0,1])].assign(time_of_day = 'night')\n",
    "src = pd.concat([src_day, src_night])\n",
    "src = src.groupby(['date', 'time_of_day']).median().reset_index()\n",
    "src['stability regime'] = src['value'].apply(ri_to_stability_regime)\n",
    "\n",
    "stability_regime_chart = alt.Chart(src).mark_bar().encode(\n",
    "    alt.X(\"date:T\").axis(labels=False, ticks=False).title(None),\n",
    "    alt.Color(\"stability regime:N\").scale(domain = ['neutral', 'stable', 'unstable']),\n",
    "    alt.Y(\"time_of_day:N\", sort=['night', 'day'], title=None)\n",
    ").properties(width = 800)\n",
    "stability_regime_chart"
   ]
  },
  {
   "cell_type": "markdown",
   "metadata": {},
   "source": [
    "Stability regime plots, using -0.01 and 0.01 to distinguish ${d\\theta}/{dz}$"
   ]
  },
  {
   "cell_type": "code",
   "execution_count": null,
   "metadata": {},
   "outputs": [],
   "source": [
    "def temp_gradient_to_stability_regime(x):\n",
    "    if np.isnan(x):\n",
    "        return None\n",
    "    elif x < -0.01:\n",
    "        return \"unstable\"\n",
    "    elif x >= -0.01 and x <= 0.01:\n",
    "        return \"neutral\"\n",
    "    elif x > 0.01:\n",
    "        return \"stable\"\n",
    "    else:\n",
    "        raise ValueError(\"what?\")\n",
    "src = tidy_df_5Min.query(\"variable == 'temp_gradient_3m_c'\")\n",
    "src['date'] = src.time.dt.date\n",
    "src[src.time.dt.hour.isin([0,1])]\n",
    "src_day = src[src.time.dt.hour.isin([12,13])].assign(time_of_day = 'day')\n",
    "src_night = src[src.time.dt.hour.isin([0,1])].assign(time_of_day = 'night')\n",
    "src = pd.concat([src_day, src_night])\n",
    "src = src.groupby(['date', 'time_of_day']).median().reset_index()\n",
    "src['stability regime'] = src['value'].apply(temp_gradient_to_stability_regime)\n",
    "\n",
    "stability_regime_chart = alt.Chart(src).mark_bar().encode(\n",
    "    alt.X(\"date:T\").axis(labels=False, ticks=False).title(None),\n",
    "    alt.Color(\"stability regime:N\").scale(domain = ['neutral', 'stable', 'unstable']),\n",
    "    alt.Y(\"time_of_day:N\", sort=['night', 'day'], title=None)\n",
    ").properties(width = 800)\n",
    "stability_regime_chart"
   ]
  },
  {
   "cell_type": "markdown",
   "metadata": {},
   "source": [
    "Same as above but we find the minimum temp gradient during the night and day hour to reveal how frequently unstable conditions did occur"
   ]
  },
  {
   "cell_type": "code",
   "execution_count": null,
   "metadata": {},
   "outputs": [],
   "source": [
    "src = tidy_df_5Min.query(\"variable == 'temp_gradient_3m_c'\")\n",
    "src['date'] = src.time.dt.date\n",
    "src[src.time.dt.hour.isin([0,1])]\n",
    "src_day = src[src.time.dt.hour.isin([12,13])].assign(time_of_day = 'day')\n",
    "src_night = src[src.time.dt.hour.isin([0,1])].assign(time_of_day = 'night')\n",
    "src = pd.concat([src_day, src_night])\n",
    "src = src.groupby(['date', 'time_of_day']).min().reset_index()\n",
    "src['stability regime'] = src['value'].apply(temp_gradient_to_stability_regime)\n",
    "\n",
    "stability_regime_chart = alt.Chart(src).mark_bar().encode(\n",
    "    alt.X(\"date:T\").axis(labels=False, ticks=False).title(None),\n",
    "    alt.Color(\"stability regime:N\").scale(domain = ['neutral', 'stable', 'unstable']),\n",
    "    alt.Y(\"time_of_day:N\", sort=['night', 'day'], title=None)\n",
    ").properties(width = 800)\n",
    "stability_regime_chart"
   ]
  },
  {
   "cell_type": "code",
   "execution_count": null,
   "metadata": {},
   "outputs": [],
   "source": [
    "ri_chart = alt.Chart(\n",
    "    tidy_df_30Min.query(\"variable == 'Ri_3m_c'\")\n",
    ").transform_window(\n",
    "    rolling_avg = \"median(value)\",\n",
    "    frame = [-3, 3]\n",
    ").mark_line().encode(\n",
    "    alt.X(\"time:T\").title('time (local)'),\n",
    "    alt.Y(\"rolling_avg:Q\").title('Ri')\n",
    ")\n",
    "\n",
    "temp_chart = alt.Chart(\n",
    "    tidy_df_daily.query(\"variable == 'T_3m_c'\")\n",
    ").mark_line().encode(\n",
    "    alt.X(\"time:T\").title('time (local)'),\n",
    "    alt.Y(\"value:Q\").title('Mean daily temperature (˚C)')\n",
    ")\n",
    "\n",
    "surf_temp_chart = alt.Chart(\n",
    "    tidy_df_daily.query(\"variable == 'Tsurf_c'\")\n",
    ").mark_line().encode(\n",
    "    alt.X(\"time:T\").title('time (local)').axis(labels=False, ticks=False),\n",
    "    alt.Y(\"value:Q\").title('Mean daily surface temperature (˚C)')\n",
    ")\n",
    "\n",
    "surf_and_air_temp_chart = alt.Chart(\n",
    "    tidy_df_daily[tidy_df_daily.variable.isin(['T_3m_c', 'Tsurf_c'])]\n",
    ").mark_line().encode(\n",
    "    alt.X(\"time:T\", title=None).axis(labels=False, ticks=False),\n",
    "    alt.Y(\"value:Q\").title(\"Temperature (˚C)\"),\n",
    "    alt.StrokeDash(\"measurement:N\")\n",
    ")\n",
    "\n",
    "spd_chart = alt.Chart(\n",
    "    tidy_df_daily.query(\"variable == 'spd_3m_c'\")\n",
    ").mark_line().encode(\n",
    "    alt.X(\"time:T\").title('time (local)'),\n",
    "    alt.Y(\"value:Q\").title('Mean daily wind speed (m/s)')\n",
    ")\n",
    "\n",
    "netrad_chart = alt.Chart(\n",
    "    tidy_df_daily.query(\"variable == 'Rnet_9m_d'\")\n",
    ").mark_line().encode(\n",
    "    alt.X(\"time:T\").title('time (local)'),\n",
    "    alt.Y(\"value:Q\").title('Net radiation (W/m^2)').axis(orient='right')\n",
    ")\n",
    "\n",
    "swrad_chart = alt.Chart(\n",
    "    tidy_df_30Min.query(\"variable == 'Rsw_in_9m_d'\")\n",
    ").mark_line(opacity=0.3).encode(\n",
    "    alt.X(\"time:T\").title('time (local)'),\n",
    "    alt.Y(\"value:Q\").title(['Incoming SW', 'radiation (W/m^2)']).axis(offset=50, orient='right').scale(domain=[-1000,1000])\n",
    ")\n",
    "\n",
    "soil_moisture_chart = alt.Chart(\n",
    "    tidy_df_daily[tidy_df_daily.variable == 'Qsoil_d']\n",
    ").mark_line(color='orange').encode(\n",
    "    alt.X(\"time:T\"),\n",
    "    alt.Y(\"value:Q\").title(\"Soil moisture\").axis(orient='left'),\n",
    ")\n",
    "\n",
    "q_grad_chart = alt.Chart(\n",
    "    tidy_df_daily.query(\"variable == 'q_gradient_3m_c'\")\n",
    ").mark_line().encode(\n",
    "    alt.X(\"time:T\").title('time (local)'),\n",
    "    alt.Y(\"value:Q\").title('Vapor pressure deficit (1/m)')\n",
    ")\n",
    "\n",
    "blowing_snow_flux_chart = alt.Chart(\n",
    "    tidy_df_30Min[tidy_df_30Min.measurement == 'snow flux']\n",
    ").transform_filter(\n",
    "    alt.datum.value > 0\n",
    ").transform_window(\n",
    "    rolling_avg = \"median(value)\",\n",
    "    frame = [-3, 3]\n",
    ").mark_circle(size=20).encode(\n",
    "    alt.X(\"time:T\", title=None).axis(labels=False, ticks=False),\n",
    "    alt.Y(\"rolling_avg:Q\").title(\"Blowing snow flux (g/m^2/s)\").scale(type='log'),\n",
    "    alt.Color(\"height:N\")\n",
    ").properties(width=800)"
   ]
  },
  {
   "cell_type": "code",
   "execution_count": null,
   "metadata": {},
   "outputs": [],
   "source": [
    "swe_dailysub_and_cumsub_chart = (\n",
    "    daily_sublimation_chart + \n",
    "    (sos_sublimation_chart + \n",
    "    sos_swe_chart).resolve_scale(y='independent')\n",
    ").resolve_scale(y='independent', color='independent').properties(width=800, height = 200)\n",
    "\n",
    "zero_line = alt.Chart(pd.DataFrame({'y': [0]})).mark_rule().encode(alt.Y('y').axis(None))\n",
    "\n",
    "net_rad_and_soil_moisture_chart = (\n",
    "    swrad_chart + \n",
    "    netrad_chart + \n",
    "    soil_moisture_chart\n",
    ").resolve_scale(y='independent')\n",
    "\n",
    "figure = (\n",
    "    stability_regime_chart &\n",
    "    swe_dailysub_and_cumsub_chart &\n",
    "    blowing_snow_flux_chart.properties(height = 100)\n",
    "    # surf_and_air_temp_chart.properties(height = 100) &\n",
    "    # net_rad_and_soil_moisture_chart.properties(height = 100) &\n",
    "    # netrad_chart.properties(height = 100) &\n",
    "    # q_grad_chart.properties(height = 100)\n",
    "    \n",
    "    # soil_moisture_chart.properties(height = 100) &\n",
    "    # temp_chart.properties(height = 100) &\n",
    "    # surf_temp_chart.properties(height = 100) &\n",
    "    # spd_chart.properties(height = 100) &\n",
    "    # netrad_chart.properties(height = 100)\n",
    ").resolve_scale(x='shared', color='independent', strokeDash='independent').configure_legend(orient='left').configure_concat(spacing=0)\n",
    "\n",
    "figure"
   ]
  },
  {
   "cell_type": "markdown",
   "metadata": {},
   "source": [
    "\n",
    "## Calculate seasonal estimates of max SWE and cumulative sublimation"
   ]
  },
  {
   "cell_type": "code",
   "execution_count": null,
   "metadata": {},
   "outputs": [],
   "source": [
    "# Seasonal Max SWE Estimate\n",
    "tidy_df_30Min.query(\n",
    "        \"measurement == 'SWE'\"\n",
    ").query(\"tower == 'c'\").dropna().value.max()"
   ]
  },
  {
   "cell_type": "code",
   "execution_count": null,
   "metadata": {},
   "outputs": [],
   "source": [
    "# Cumulative sublimation EC\n",
    "tidy_df_30Min.query(\n",
    "    \"measurement == 'Cumulative sublimation measured'\"\n",
    ").query(\n",
    "    \"height == 3\"\n",
    ").query(\n",
    "    \"tower == 'c'\"\n",
    ").value.dropna().max()"
   ]
  },
  {
   "cell_type": "code",
   "execution_count": null,
   "metadata": {},
   "outputs": [],
   "source": [
    "tidy_df_30Min[\n",
    "        tidy_df_30Min.variable.isin([\n",
    "            'cumulative_sub_modeled_turbpy_webb_noahmp_3m_c',\n",
    "            'cumulative_sub_modeled_3m_c',\n",
    "        ])\n",
    "].groupby(\"variable\").value.max()"
   ]
  },
  {
   "attachments": {},
   "cell_type": "markdown",
   "metadata": {},
   "source": [
    "Find day and value of max SWE by tower"
   ]
  },
  {
   "cell_type": "code",
   "execution_count": null,
   "metadata": {},
   "outputs": [],
   "source": [
    "display(sos_sublimation_src.query(\"tower == 'c'\").sort_values('value', ascending=False).head(1))\n",
    "display(sos_sublimation_src.query(\"tower == 'd'\").sort_values('value', ascending=False).head(1))\n",
    "display(sos_sublimation_src.query(\"tower == 'ue'\").sort_values('value', ascending=False).head(1))\n",
    "display(sos_sublimation_src.query(\"tower == 'uw'\").sort_values('value', ascending=False).head(1))"
   ]
  },
  {
   "cell_type": "code",
   "execution_count": null,
   "metadata": {},
   "outputs": [],
   "source": [
    "display(sos_swe_chart_src.query(\"tower == 'c'\").sort_values('value', ascending=False).head(1))\n",
    "display(sos_swe_chart_src.query(\"tower == 'd'\").sort_values('value', ascending=False).head(1))\n",
    "display(sos_swe_chart_src.query(\"tower == 'ue'\").sort_values('value', ascending=False).head(1))\n",
    "display(sos_swe_chart_src.query(\"tower == 'uw'\").sort_values('value', ascending=False).head(1))"
   ]
  },
  {
   "cell_type": "code",
   "execution_count": null,
   "metadata": {},
   "outputs": [],
   "source": [
    "print(100 *\n",
    "    list(sos_sublimation_src.query(\"tower == 'c'\").sort_values('value', ascending=False).head(1).value)[0]\n",
    "    /\n",
    "    list(sos_swe_chart_src.query(\"tower == 'c'\").sort_values('value', ascending=False).head(1).value)[0]\n",
    ")\n",
    "print(100 *\n",
    "    list(sos_sublimation_src.query(\"tower == 'd'\").sort_values('value', ascending=False).head(1).value)[0]\n",
    "    /\n",
    "    list(sos_swe_chart_src.query(\"tower == 'd'\").sort_values('value', ascending=False).head(1).value)[0]\n",
    ")\n",
    "print(100 *\n",
    "    list(sos_sublimation_src.query(\"tower == 'ue'\").sort_values('value', ascending=False).head(1).value)[0]\n",
    "    /\n",
    "    list(sos_swe_chart_src.query(\"tower == 'ue'\").sort_values('value', ascending=False).head(1).value)[0]\n",
    ")\n",
    "print(100 *\n",
    "    list(sos_sublimation_src.query(\"tower == 'uw'\").sort_values('value', ascending=False).head(1).value)[0]\n",
    "    /\n",
    "    list(sos_swe_chart_src.query(\"tower == 'uw'\").sort_values('value', ascending=False).head(1).value)[0]\n",
    ")"
   ]
  },
  {
   "attachments": {},
   "cell_type": "markdown",
   "metadata": {},
   "source": [
    "# Find case study dates:\n",
    "1. Calculate 3-consecutive-day average sublimation rate\n",
    "2. Find largest value in each month (excluding May)\n",
    "4. Find smallest value in each month (excluding May)"
   ]
  },
  {
   "cell_type": "code",
   "execution_count": null,
   "metadata": {},
   "outputs": [],
   "source": [
    "local_src.set_index('time').loc[:'2023-04-09'].rolling(window=3, center=True).sum().sort_values('value', ascending=False).head(50)\n",
    "\n",
    "# highest, first appearance from each month excluding May:\n",
    "#   12/22\n",
    "#   03/06\n",
    "#   04/03\n",
    "#   02/20"
   ]
  },
  {
   "cell_type": "code",
   "execution_count": null,
   "metadata": {},
   "outputs": [],
   "source": [
    "local_src[['value', 'time']].set_index('time').rolling(window=3, center=True).sum().sort_values('value', ascending=True).head(50)\n",
    "\n",
    "# lowest, first appearance from each month excluding May:\n",
    "#   01/07 (negative)\n",
    "#   12/10 (negative)\n",
    "#   02/02 (negative)\n",
    "#   02/12 (positive)\n",
    "#   12/17 (positive)\n",
    "#   01/13 (positive)"
   ]
  },
  {
   "attachments": {},
   "cell_type": "markdown",
   "metadata": {},
   "source": [
    "# Look at Turbulence at different sites"
   ]
  },
  {
   "cell_type": "code",
   "execution_count": null,
   "metadata": {},
   "outputs": [],
   "source": [
    "sos_tke_src = tidy_df_30Min.query(\n",
    "    \"measurement == 'turbulent kinetic energy'\"\n",
    ").query(\"tower == 'c'\")\n",
    "sos_tke_src['EC System'] = sos_tke_src.apply(lambda row: f\"KPS, SOS, tower {row.tower}, {row.height}m\", axis=1)"
   ]
  },
  {
   "cell_type": "code",
   "execution_count": null,
   "metadata": {},
   "outputs": [],
   "source": [
    "alt.Chart(sos_tke_src).mark_line().encode(\n",
    "    alt.X(\"time:T\"),\n",
    "    alt.Y(\"value:Q\"),\n",
    "    alt.Color(\"EC System:N\")\n",
    ").properties(width=800)"
   ]
  },
  {
   "cell_type": "code",
   "execution_count": null,
   "metadata": {},
   "outputs": [],
   "source": [
    "ecor_gothic_ds_thisseason['TKE'] = 0.5*(ecor_gothic_ds_thisseason['var_u'] + ecor_gothic_ds_thisseason['var_v'] + ecor_gothic_ds_thisseason['var_w'])\n",
    "ecor_kps_ds_thisseason['TKE'] = 0.5*(ecor_kps_ds_thisseason['var_u'] + ecor_kps_ds_thisseason['var_v'] + ecor_kps_ds_thisseason['var_w'])"
   ]
  },
  {
   "cell_type": "code",
   "execution_count": null,
   "metadata": {},
   "outputs": [],
   "source": [
    "ecor_gothic_ds_thisseason_tke_df = ecor_gothic_ds_thisseason['TKE'].to_dataframe().reset_index().rename(columns={'TKE': 'value'})\n",
    "ecor_kps_ds_thisseason_tke_df = ecor_kps_ds_thisseason['TKE'].to_dataframe().reset_index().rename(columns={'TKE': 'value'})\n",
    "\n",
    "ecor_gothic_ds_thisseason_tke_df['EC System'] = 'SAIL, Gothic'\n",
    "ecor_kps_ds_thisseason_tke_df['EC System']  = 'SAIL, KPS'"
   ]
  },
  {
   "cell_type": "code",
   "execution_count": null,
   "metadata": {},
   "outputs": [],
   "source": [
    "tke_src = pd.concat([\n",
    "    ecor_gothic_ds_thisseason_tke_df,\n",
    "    ecor_kps_ds_thisseason_tke_df,\n",
    "    sos_tke_src.query(\"tower == 'c'\")[['time', 'EC System', 'value']]\n",
    "])"
   ]
  },
  {
   "cell_type": "code",
   "execution_count": null,
   "metadata": {},
   "outputs": [],
   "source": [
    "tke_src = tke_src[tke_src['EC System'].isin([\n",
    "    'SAIL, Gothic', \n",
    "    'SAIL, KPS',\n",
    "    'KPS, SOS, tower c, 2.0m',\n",
    "    'KPS, SOS, tower c, 3.0m',\n",
    "    'KPS, SOS, tower c, 20.0m',\n",
    "])]"
   ]
  },
  {
   "cell_type": "code",
   "execution_count": null,
   "metadata": {},
   "outputs": [],
   "source": [
    "tke_boxplot = alt.Chart(tke_src).mark_boxplot(size=40, outliers=False).encode(\n",
    "    alt.X(\"EC System:N\").axis(labelAngle=30),\n",
    "    alt.Y(\"value:Q\").title(\"TKE\"),\n",
    "    # alt.Color(\"EC System:N\")\n",
    ").properties(width = 300)"
   ]
  },
  {
   "cell_type": "code",
   "execution_count": null,
   "metadata": {},
   "outputs": [],
   "source": [
    "tke_boxplot.properties(title=['Distribution of TKE measurements, Winter 2022-23,', 'for different campaigns'])"
   ]
  },
  {
   "cell_type": "code",
   "execution_count": null,
   "metadata": {},
   "outputs": [],
   "source": [
    "tke_timeseries = alt.Chart(tke_src).transform_window(\n",
    "    rolling_mean = 'mean(value)',\n",
    "    frame = [-20, 20]\n",
    ").mark_line().encode(\n",
    "    alt.X(\"time:T\"),\n",
    "    alt.Y(\"rolling_mean:Q\").title(\"TKE\"),\n",
    "    alt.Color(\"EC System:N\")\n",
    ").properties(width=800)"
   ]
  },
  {
   "cell_type": "code",
   "execution_count": null,
   "metadata": {},
   "outputs": [],
   "source": [
    "tke_timeseries | tke_boxplot"
   ]
  },
  {
   "cell_type": "code",
   "execution_count": null,
   "metadata": {},
   "outputs": [],
   "source": []
  },
  {
   "cell_type": "code",
   "execution_count": null,
   "metadata": {},
   "outputs": [],
   "source": []
  },
  {
   "cell_type": "code",
   "execution_count": null,
   "metadata": {},
   "outputs": [],
   "source": []
  },
  {
   "cell_type": "code",
   "execution_count": null,
   "metadata": {},
   "outputs": [],
   "source": []
  },
  {
   "cell_type": "code",
   "execution_count": null,
   "metadata": {},
   "outputs": [],
   "source": []
  },
  {
   "cell_type": "code",
   "execution_count": null,
   "metadata": {},
   "outputs": [],
   "source": []
  },
  {
   "cell_type": "code",
   "execution_count": null,
   "metadata": {},
   "outputs": [],
   "source": []
  },
  {
   "cell_type": "code",
   "execution_count": null,
   "metadata": {},
   "outputs": [],
   "source": []
  }
 ],
 "metadata": {
  "kernelspec": {
   "display_name": "arm",
   "language": "python",
   "name": "python3"
  },
  "language_info": {
   "codemirror_mode": {
    "name": "ipython",
    "version": 3
   },
   "file_extension": ".py",
   "mimetype": "text/x-python",
   "name": "python",
   "nbconvert_exporter": "python",
   "pygments_lexer": "ipython3",
   "version": "3.12.5"
  },
  "orig_nbformat": 4
 },
 "nbformat": 4,
 "nbformat_minor": 2
}
