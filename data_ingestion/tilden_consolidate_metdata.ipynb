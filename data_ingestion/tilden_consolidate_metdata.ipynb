{
 "cells": [
  {
   "cell_type": "code",
   "execution_count": 2,
   "metadata": {},
   "outputs": [],
   "source": [
    "import pandas as pd\n",
    "import datetime\n",
    "import glob\n",
    "import numpy as np\n",
    "import itertools\n",
    "\n",
    "from tilden_metdata_headers_conversion import headers\n",
    "import sys\n",
    "sys.path.append('../')\n",
    "import soslib"
   ]
  },
  {
   "cell_type": "markdown",
   "metadata": {},
   "source": [
    "# Read one day's data"
   ]
  },
  {
   "cell_type": "code",
   "execution_count": 3,
   "metadata": {},
   "outputs": [],
   "source": [
    "data_file_folders = [\n",
    "    '../data/KP22_001-099',\n",
    "    '../data/KP22_100-199',\n",
    "    '../data/KP22_200-252',\n",
    "]"
   ]
  },
  {
   "cell_type": "code",
   "execution_count": 4,
   "metadata": {},
   "outputs": [],
   "source": [
    "all_files = list(itertools.chain.from_iterable(\n",
    "    [glob.glob(folder + '/*.METDATA') for folder in data_file_folders]\n",
    "))"
   ]
  },
  {
   "cell_type": "code",
   "execution_count": 4,
   "metadata": {},
   "outputs": [],
   "source": [
    "df = pd.concat([\n",
    "    pd.read_csv(f, delim_whitespace=True) for f in all_files\n",
    "])"
   ]
  },
  {
   "cell_type": "code",
   "execution_count": 5,
   "metadata": {},
   "outputs": [],
   "source": [
    "df = df.rename(columns=headers)\n",
    "df['day'] = df['day'].astype('int')\n",
    "df['hour_minute'] = df['hour_minute'].astype('int')"
   ]
  },
  {
   "cell_type": "code",
   "execution_count": 6,
   "metadata": {},
   "outputs": [],
   "source": [
    "base_day = datetime.datetime(2022, 1, 1)\n",
    "\n",
    "df['date'] = df.apply(\n",
    "    lambda row: soslib.time_from_day_and_hhmm(row['day'], row['hour_minute']), \n",
    "    axis='columns'\n",
    ")"
   ]
  },
  {
   "cell_type": "code",
   "execution_count": 7,
   "metadata": {},
   "outputs": [],
   "source": [
    "df.to_parquet('../data/tilden_metdata_consolidated.parquet')"
   ]
  },
  {
   "cell_type": "code",
   "execution_count": null,
   "metadata": {},
   "outputs": [],
   "source": []
  }
 ],
 "metadata": {
  "kernelspec": {
   "display_name": "Python 3.9.2 ('altair')",
   "language": "python",
   "name": "python3"
  },
  "language_info": {
   "codemirror_mode": {
    "name": "ipython",
    "version": 3
   },
   "file_extension": ".py",
   "mimetype": "text/x-python",
   "name": "python",
   "nbconvert_exporter": "python",
   "pygments_lexer": "ipython3",
   "version": "3.9.2"
  },
  "orig_nbformat": 4,
  "vscode": {
   "interpreter": {
    "hash": "26d671d3b70f0c8f6e70aa1d1b1dbdad952772f6bba0efc37f740b812564bb74"
   }
  }
 },
 "nbformat": 4,
 "nbformat_minor": 2
}
