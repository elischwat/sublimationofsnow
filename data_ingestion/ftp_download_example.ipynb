{
 "cells": [
  {
   "cell_type": "code",
   "execution_count": null,
   "metadata": {},
   "outputs": [],
   "source": [
    "import io\n",
    "import ftplib\n",
    "import urllib\n",
    "import xarray as xr"
   ]
  },
  {
   "cell_type": "markdown",
   "metadata": {},
   "source": [
    "# Acccess some data that arm posts when you make a request"
   ]
  },
  {
   "cell_type": "code",
   "execution_count": null,
   "metadata": {},
   "outputs": [],
   "source": [
    "ftp = ftplib.FTP('ftp.archive.arm.gov') # Connect to NOAA's FTP\n",
    "ftp.login() # Anonymous login\n",
    "ftp.cwd('./schwate1/235284') #navigate to folder"
   ]
  },
  {
   "cell_type": "code",
   "execution_count": null,
   "metadata": {},
   "outputs": [],
   "source": [
    "ftp.nlst()"
   ]
  },
  {
   "cell_type": "code",
   "execution_count": null,
   "metadata": {},
   "outputs": [],
   "source": [
    "url = 'ftp://ftp.archive.arm.gov/schwate1/235284/gucxprecipradarS2.00.20221030.000005.raw.nc.tar'\n",
    "local_location = '/Users/elischwat/Downloads/gucxprecipradarS2.00.20221030.000005.raw.nc.tar'"
   ]
  },
  {
   "cell_type": "code",
   "execution_count": null,
   "metadata": {},
   "outputs": [],
   "source": [
    "urllib.request.urlretrieve(url, local_location)"
   ]
  },
  {
   "cell_type": "markdown",
   "metadata": {},
   "source": [
    "# Access the NCAR SoS data FTP hotline"
   ]
  },
  {
   "cell_type": "code",
   "execution_count": null,
   "metadata": {},
   "outputs": [],
   "source": [
    "base_url = 'ftp.eol.ucar.edu'\n",
    "path = 'pub/archive/isfs/projects/SOS/netcdf/noqc_geo'\n",
    "file_example = 'isfs_20221101.nc'\n",
    "\n",
    "local_download_dir = 'sosnoqc'"
   ]
  },
  {
   "cell_type": "code",
   "execution_count": 4,
   "metadata": {},
   "outputs": [],
   "source": [
    "import sys\n",
    "sys.path.append('../')\n",
    "import soslib\n",
    "import xarray as xr"
   ]
  },
  {
   "cell_type": "code",
   "execution_count": 7,
   "metadata": {},
   "outputs": [],
   "source": [
    "f = soslib.download_sos_data_day()\n",
    "xr.open_dataset(f)"
   ]
  }
 ],
 "metadata": {
  "kernelspec": {
   "display_name": "arm",
   "language": "python",
   "name": "python3"
  },
  "language_info": {
   "codemirror_mode": {
    "name": "ipython",
    "version": 3
   },
   "file_extension": ".py",
   "mimetype": "text/x-python",
   "name": "python",
   "nbconvert_exporter": "python",
   "pygments_lexer": "ipython3",
   "version": "3.9.13"
  },
  "orig_nbformat": 4,
  "vscode": {
   "interpreter": {
    "hash": "6caba91fd9fa5a9a0593973678dc839a9c0292bef83581fcd05bff09e8310526"
   }
  }
 },
 "nbformat": 4,
 "nbformat_minor": 2
}
