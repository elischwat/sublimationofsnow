{
 "cells": [
  {
   "cell_type": "code",
   "execution_count": 4,
   "metadata": {},
   "outputs": [],
   "source": [
    "import io\n",
    "import ftplib\n",
    "import urllib\n",
    "import xarray as xr"
   ]
  },
  {
   "cell_type": "markdown",
   "metadata": {},
   "source": [
    "# Acccess some data that arm posts when you make a request"
   ]
  },
  {
   "cell_type": "code",
   "execution_count": 3,
   "metadata": {},
   "outputs": [
    {
     "ename": "error_perm",
     "evalue": "550 Can't change directory to ./schwate1/235284: No such file or directory",
     "output_type": "error",
     "traceback": [
      "\u001b[0;31m---------------------------------------------------------------------------\u001b[0m",
      "\u001b[0;31merror_perm\u001b[0m                                Traceback (most recent call last)",
      "Cell \u001b[0;32mIn[3], line 3\u001b[0m\n\u001b[1;32m      1\u001b[0m ftp \u001b[39m=\u001b[39m ftplib\u001b[39m.\u001b[39mFTP(\u001b[39m'\u001b[39m\u001b[39mftp.archive.arm.gov\u001b[39m\u001b[39m'\u001b[39m) \u001b[39m# Connect to NOAA's FTP\u001b[39;00m\n\u001b[1;32m      2\u001b[0m ftp\u001b[39m.\u001b[39mlogin() \u001b[39m# Anonymous login\u001b[39;00m\n\u001b[0;32m----> 3\u001b[0m ftp\u001b[39m.\u001b[39;49mcwd(\u001b[39m'\u001b[39;49m\u001b[39m./schwate1/235284\u001b[39;49m\u001b[39m'\u001b[39;49m) \u001b[39m#navigate to folder\u001b[39;00m\n",
      "File \u001b[0;32m~/mambaforge/envs/arm/lib/python3.11/ftplib.py:625\u001b[0m, in \u001b[0;36mFTP.cwd\u001b[0;34m(self, dirname)\u001b[0m\n\u001b[1;32m    623\u001b[0m     dirname \u001b[39m=\u001b[39m \u001b[39m'\u001b[39m\u001b[39m.\u001b[39m\u001b[39m'\u001b[39m  \u001b[39m# does nothing, but could return error\u001b[39;00m\n\u001b[1;32m    624\u001b[0m cmd \u001b[39m=\u001b[39m \u001b[39m'\u001b[39m\u001b[39mCWD \u001b[39m\u001b[39m'\u001b[39m \u001b[39m+\u001b[39m dirname\n\u001b[0;32m--> 625\u001b[0m \u001b[39mreturn\u001b[39;00m \u001b[39mself\u001b[39;49m\u001b[39m.\u001b[39;49mvoidcmd(cmd)\n",
      "File \u001b[0;32m~/mambaforge/envs/arm/lib/python3.11/ftplib.py:286\u001b[0m, in \u001b[0;36mFTP.voidcmd\u001b[0;34m(self, cmd)\u001b[0m\n\u001b[1;32m    284\u001b[0m \u001b[39m\u001b[39m\u001b[39m\"\"\"Send a command and expect a response beginning with '2'.\"\"\"\u001b[39;00m\n\u001b[1;32m    285\u001b[0m \u001b[39mself\u001b[39m\u001b[39m.\u001b[39mputcmd(cmd)\n\u001b[0;32m--> 286\u001b[0m \u001b[39mreturn\u001b[39;00m \u001b[39mself\u001b[39;49m\u001b[39m.\u001b[39;49mvoidresp()\n",
      "File \u001b[0;32m~/mambaforge/envs/arm/lib/python3.11/ftplib.py:259\u001b[0m, in \u001b[0;36mFTP.voidresp\u001b[0;34m(self)\u001b[0m\n\u001b[1;32m    257\u001b[0m \u001b[39mdef\u001b[39;00m \u001b[39mvoidresp\u001b[39m(\u001b[39mself\u001b[39m):\n\u001b[1;32m    258\u001b[0m \u001b[39m    \u001b[39m\u001b[39m\"\"\"Expect a response beginning with '2'.\"\"\"\u001b[39;00m\n\u001b[0;32m--> 259\u001b[0m     resp \u001b[39m=\u001b[39m \u001b[39mself\u001b[39;49m\u001b[39m.\u001b[39;49mgetresp()\n\u001b[1;32m    260\u001b[0m     \u001b[39mif\u001b[39;00m resp[:\u001b[39m1\u001b[39m] \u001b[39m!=\u001b[39m \u001b[39m'\u001b[39m\u001b[39m2\u001b[39m\u001b[39m'\u001b[39m:\n\u001b[1;32m    261\u001b[0m         \u001b[39mraise\u001b[39;00m error_reply(resp)\n",
      "File \u001b[0;32m~/mambaforge/envs/arm/lib/python3.11/ftplib.py:254\u001b[0m, in \u001b[0;36mFTP.getresp\u001b[0;34m(self)\u001b[0m\n\u001b[1;32m    252\u001b[0m     \u001b[39mraise\u001b[39;00m error_temp(resp)\n\u001b[1;32m    253\u001b[0m \u001b[39mif\u001b[39;00m c \u001b[39m==\u001b[39m \u001b[39m'\u001b[39m\u001b[39m5\u001b[39m\u001b[39m'\u001b[39m:\n\u001b[0;32m--> 254\u001b[0m     \u001b[39mraise\u001b[39;00m error_perm(resp)\n\u001b[1;32m    255\u001b[0m \u001b[39mraise\u001b[39;00m error_proto(resp)\n",
      "\u001b[0;31merror_perm\u001b[0m: 550 Can't change directory to ./schwate1/235284: No such file or directory"
     ]
    }
   ],
   "source": [
    "ftp = ftplib.FTP('ftp.archive.arm.gov') # Connect to NOAA's FTP\n",
    "ftp.login() # Anonymous login\n",
    "ftp.cwd('./schwate1/235284') #navigate to folder"
   ]
  },
  {
   "cell_type": "code",
   "execution_count": null,
   "metadata": {},
   "outputs": [],
   "source": [
    "ftp.nlst()"
   ]
  },
  {
   "cell_type": "code",
   "execution_count": 6,
   "metadata": {},
   "outputs": [
    {
     "data": {
      "text/plain": [
       "'250 Directory successfully changed.'"
      ]
     },
     "execution_count": 6,
     "metadata": {},
     "output_type": "execute_result"
    }
   ],
   "source": [
    "ftp = ftplib.FTP(\"ftp.eol.ucar.edu\")\n",
    "ftp.login()\n",
    "ftp.cwd('pub/archive/isfs/projects/SOS/netcdf/hr_noqc_geo')"
   ]
  },
  {
   "cell_type": "code",
   "execution_count": 8,
   "metadata": {},
   "outputs": [],
   "source": [
    "ls = ftp.nlst()"
   ]
  },
  {
   "cell_type": "code",
   "execution_count": 15,
   "metadata": {},
   "outputs": [
    {
     "data": {
      "text/plain": [
       "{'20221031',\n",
       " '20221101',\n",
       " '20221102',\n",
       " '20221214',\n",
       " '20221215',\n",
       " '20221216',\n",
       " '20221217',\n",
       " '20221218'}"
      ]
     },
     "execution_count": 15,
     "metadata": {},
     "output_type": "execute_result"
    }
   ],
   "source": [
    "x = [x.split('_')[3] for x in sorted(ls)]\n",
    "set(x)"
   ]
  },
  {
   "cell_type": "code",
   "execution_count": null,
   "metadata": {},
   "outputs": [],
   "source": [
    "url = 'ftp://ftp.archive.arm.gov/schwate1/235284/gucxprecipradarS2.00.20221030.000005.raw.nc.tar'\n",
    "local_location = '/Users/elischwat/Downloads/gucxprecipradarS2.00.20221030.000005.raw.nc.tar'"
   ]
  },
  {
   "cell_type": "code",
   "execution_count": null,
   "metadata": {},
   "outputs": [],
   "source": [
    "urllib.request.urlretrieve(url, local_location)"
   ]
  },
  {
   "cell_type": "markdown",
   "metadata": {},
   "source": [
    "# Access the NCAR SoS data FTP hotline"
   ]
  },
  {
   "cell_type": "code",
   "execution_count": 2,
   "metadata": {},
   "outputs": [],
   "source": [
    "base_url = 'ftp.eol.ucar.edu'\n",
    "# path = 'pub/archive/isfs/projects/SOS/netcdf/noqc_geo'\n",
    "path = 'pub/archive/isfs/projects/SOS/netcdf/noqc_geo_tiltcor/'\n",
    "file_example = 'isfs_20221101.nc'\n",
    "\n",
    "local_download_dir = 'sosnoqc'"
   ]
  },
  {
   "cell_type": "code",
   "execution_count": 3,
   "metadata": {},
   "outputs": [
    {
     "data": {
      "text/plain": [
       "'230 Login successful.'"
      ]
     },
     "execution_count": 3,
     "metadata": {},
     "output_type": "execute_result"
    }
   ],
   "source": [
    "ftp = ftplib.FTP(base_url) # Connect to NOAA's FTP\n",
    "ftp.login() # Anonymous login"
   ]
  },
  {
   "cell_type": "code",
   "execution_count": 4,
   "metadata": {},
   "outputs": [
    {
     "data": {
      "text/plain": [
       "'250 Directory successfully changed.'"
      ]
     },
     "execution_count": 4,
     "metadata": {},
     "output_type": "execute_result"
    }
   ],
   "source": [
    "ftp.cwd(path)"
   ]
  },
  {
   "cell_type": "code",
   "execution_count": 10,
   "metadata": {},
   "outputs": [
    {
     "data": {
      "text/plain": [
       "['isfs_sos_tiltcor_20221201.nc',\n",
       " 'isfs_sos_tiltcor_20221203.nc',\n",
       " 'isfs_sos_tiltcor_20221204.nc',\n",
       " 'isfs_sos_tiltcor_20221205.nc',\n",
       " 'isfs_sos_tiltcor_20221206.nc',\n",
       " 'isfs_sos_tiltcor_20221207.nc',\n",
       " 'isfs_sos_tiltcor_20221208.nc',\n",
       " 'isfs_sos_tiltcor_20221209.nc',\n",
       " 'isfs_sos_tiltcor_20221210.nc',\n",
       " 'isfs_sos_tiltcor_20221211.nc',\n",
       " 'isfs_sos_tiltcor_20221212.nc',\n",
       " 'isfs_sos_tiltcor_20221213.nc',\n",
       " 'isfs_sos_tiltcor_20221214.nc',\n",
       " 'isfs_sos_tiltcor_20221215.nc',\n",
       " 'isfs_sos_tiltcor_20221216.nc',\n",
       " 'isfs_sos_tiltcor_20221217.nc',\n",
       " 'isfs_sos_tiltcor_20221218.nc',\n",
       " 'isfs_sos_tiltcor_20221219.nc',\n",
       " 'isfs_sos_tiltcor_20221220.nc',\n",
       " 'isfs_sos_tiltcor_20221221.nc',\n",
       " 'isfs_sos_tiltcor_20221222.nc',\n",
       " 'isfs_sos_tiltcor_20221223.nc',\n",
       " 'isfs_sos_tiltcor_20221224.nc',\n",
       " 'isfs_sos_tiltcor_20221225.nc',\n",
       " 'isfs_sos_tiltcor_20221226.nc',\n",
       " 'isfs_sos_tiltcor_20221227.nc',\n",
       " 'isfs_sos_tiltcor_20221228.nc',\n",
       " 'isfs_sos_tiltcor_20221229.nc',\n",
       " 'isfs_sos_tiltcor_20221230.nc',\n",
       " 'isfs_sos_tiltcor_20221231.nc']"
      ]
     },
     "execution_count": 10,
     "metadata": {},
     "output_type": "execute_result"
    }
   ],
   "source": [
    "[ f for f in ftp.nlst() if f.startswith('isfs_sos_tiltcor_202212')]"
   ]
  },
  {
   "cell_type": "code",
   "execution_count": null,
   "metadata": {},
   "outputs": [],
   "source": []
  }
 ],
 "metadata": {
  "kernelspec": {
   "display_name": "Python 3",
   "language": "python",
   "name": "python3"
  },
  "language_info": {
   "codemirror_mode": {
    "name": "ipython",
    "version": 3
   },
   "file_extension": ".py",
   "mimetype": "text/x-python",
   "name": "python",
   "nbconvert_exporter": "python",
   "pygments_lexer": "ipython3",
   "version": "3.11.0"
  },
  "orig_nbformat": 4,
  "vscode": {
   "interpreter": {
    "hash": "31f2aee4e71d21fbe5cf8b01ff0e069b9275f58929596ceb00d14d90e3e16cd6"
   }
  }
 },
 "nbformat": 4,
 "nbformat_minor": 2
}
