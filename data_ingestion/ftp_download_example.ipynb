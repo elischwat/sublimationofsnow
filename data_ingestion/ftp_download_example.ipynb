{
 "cells": [
  {
   "cell_type": "code",
   "execution_count": 1,
   "metadata": {},
   "outputs": [],
   "source": [
    "import io\n",
    "import ftplib\n",
    "import urllib\n",
    "import xarray as xr"
   ]
  },
  {
   "cell_type": "markdown",
   "metadata": {},
   "source": [
    "# Acccess some data that arm posts when you make a request"
   ]
  },
  {
   "cell_type": "code",
   "execution_count": null,
   "metadata": {},
   "outputs": [],
   "source": [
    "ftp = ftplib.FTP('ftp.archive.arm.gov') # Connect to NOAA's FTP\n",
    "ftp.login() # Anonymous login\n",
    "ftp.cwd('./schwate1/235284') #navigate to folder"
   ]
  },
  {
   "cell_type": "code",
   "execution_count": null,
   "metadata": {},
   "outputs": [],
   "source": []
  },
  {
   "cell_type": "code",
   "execution_count": null,
   "metadata": {},
   "outputs": [],
   "source": [
    "ftp.nlst()"
   ]
  },
  {
   "cell_type": "code",
   "execution_count": null,
   "metadata": {},
   "outputs": [],
   "source": [
    "url = 'ftp://ftp.archive.arm.gov/schwate1/235284/gucxprecipradarS2.00.20221030.000005.raw.nc.tar'\n",
    "local_location = '/Users/elischwat/Downloads/gucxprecipradarS2.00.20221030.000005.raw.nc.tar'"
   ]
  },
  {
   "cell_type": "code",
   "execution_count": null,
   "metadata": {},
   "outputs": [],
   "source": [
    "urllib.request.urlretrieve(url, local_location)"
   ]
  },
  {
   "cell_type": "markdown",
   "metadata": {},
   "source": [
    "# Access the NCAR SoS data FTP hotline"
   ]
  },
  {
   "cell_type": "code",
   "execution_count": 2,
   "metadata": {},
   "outputs": [],
   "source": [
    "base_url = 'ftp.eol.ucar.edu'\n",
    "# path = 'pub/archive/isfs/projects/SOS/netcdf/noqc_geo'\n",
    "path = 'pub/archive/isfs/projects/SOS/netcdf/noqc_geo_tiltcor/'\n",
    "file_example = 'isfs_20221101.nc'\n",
    "\n",
    "local_download_dir = 'sosnoqc'"
   ]
  },
  {
   "cell_type": "code",
   "execution_count": 3,
   "metadata": {},
   "outputs": [
    {
     "data": {
      "text/plain": [
       "'230 Login successful.'"
      ]
     },
     "execution_count": 3,
     "metadata": {},
     "output_type": "execute_result"
    }
   ],
   "source": [
    "ftp = ftplib.FTP(base_url) # Connect to NOAA's FTP\n",
    "ftp.login() # Anonymous login"
   ]
  },
  {
   "cell_type": "code",
   "execution_count": 4,
   "metadata": {},
   "outputs": [
    {
     "data": {
      "text/plain": [
       "'250 Directory successfully changed.'"
      ]
     },
     "execution_count": 4,
     "metadata": {},
     "output_type": "execute_result"
    }
   ],
   "source": [
    "ftp.cwd(path)"
   ]
  },
  {
   "cell_type": "code",
   "execution_count": 10,
   "metadata": {},
   "outputs": [
    {
     "data": {
      "text/plain": [
       "['isfs_sos_tiltcor_20221201.nc',\n",
       " 'isfs_sos_tiltcor_20221203.nc',\n",
       " 'isfs_sos_tiltcor_20221204.nc',\n",
       " 'isfs_sos_tiltcor_20221205.nc',\n",
       " 'isfs_sos_tiltcor_20221206.nc',\n",
       " 'isfs_sos_tiltcor_20221207.nc',\n",
       " 'isfs_sos_tiltcor_20221208.nc',\n",
       " 'isfs_sos_tiltcor_20221209.nc',\n",
       " 'isfs_sos_tiltcor_20221210.nc',\n",
       " 'isfs_sos_tiltcor_20221211.nc',\n",
       " 'isfs_sos_tiltcor_20221212.nc',\n",
       " 'isfs_sos_tiltcor_20221213.nc',\n",
       " 'isfs_sos_tiltcor_20221214.nc',\n",
       " 'isfs_sos_tiltcor_20221215.nc',\n",
       " 'isfs_sos_tiltcor_20221216.nc',\n",
       " 'isfs_sos_tiltcor_20221217.nc',\n",
       " 'isfs_sos_tiltcor_20221218.nc',\n",
       " 'isfs_sos_tiltcor_20221219.nc',\n",
       " 'isfs_sos_tiltcor_20221220.nc',\n",
       " 'isfs_sos_tiltcor_20221221.nc',\n",
       " 'isfs_sos_tiltcor_20221222.nc',\n",
       " 'isfs_sos_tiltcor_20221223.nc',\n",
       " 'isfs_sos_tiltcor_20221224.nc',\n",
       " 'isfs_sos_tiltcor_20221225.nc',\n",
       " 'isfs_sos_tiltcor_20221226.nc',\n",
       " 'isfs_sos_tiltcor_20221227.nc',\n",
       " 'isfs_sos_tiltcor_20221228.nc',\n",
       " 'isfs_sos_tiltcor_20221229.nc',\n",
       " 'isfs_sos_tiltcor_20221230.nc',\n",
       " 'isfs_sos_tiltcor_20221231.nc']"
      ]
     },
     "execution_count": 10,
     "metadata": {},
     "output_type": "execute_result"
    }
   ],
   "source": [
    "[ f for f in ftp.nlst() if f.startswith('isfs_sos_tiltcor_202212')]"
   ]
  },
  {
   "cell_type": "code",
   "execution_count": null,
   "metadata": {},
   "outputs": [],
   "source": []
  }
 ],
 "metadata": {
  "kernelspec": {
   "display_name": "Python 3",
   "language": "python",
   "name": "python3"
  },
  "language_info": {
   "codemirror_mode": {
    "name": "ipython",
    "version": 3
   },
   "file_extension": ".py",
   "mimetype": "text/x-python",
   "name": "python",
   "nbconvert_exporter": "python",
   "pygments_lexer": "ipython3",
   "version": "3.11.0"
  },
  "orig_nbformat": 4,
  "vscode": {
   "interpreter": {
    "hash": "31f2aee4e71d21fbe5cf8b01ff0e069b9275f58929596ceb00d14d90e3e16cd6"
   }
  }
 },
 "nbformat": 4,
 "nbformat_minor": 2
}
