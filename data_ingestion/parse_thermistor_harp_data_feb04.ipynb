{
 "cells": [
  {
   "cell_type": "code",
   "execution_count": 24,
   "metadata": {},
   "outputs": [],
   "source": [
    "import pandas as pd\n",
    "import altair as alt\n",
    "import datetime as dt\n",
    "import numpy as np"
   ]
  },
  {
   "cell_type": "code",
   "execution_count": 16,
   "metadata": {},
   "outputs": [
    {
     "name": "stdout",
     "output_type": "stream",
     "text": [
      "202302032000.log\t    screen20230306184500.log\n",
      "202302042000.log\t    screen20230307184400.hello\n",
      "daytime_out_the_window.log  screen20230307184400.log\n",
      "nighttime_out_the_door.log  thermistor_harp.log\n"
     ]
    }
   ],
   "source": [
    "!ls /data2/elilouis/sublimationofsnow/thermistor_harp/\n",
    "filename = \"/data2/elilouis/sublimationofsnow/thermistor_harp/202302042000.log\"\n",
    "# good files\n",
    "# 202302032000.log\t\n",
    "# 202302042000.log\n",
    "# screen20230306184500.log\n",
    "# screen20230307184400.log"
   ]
  },
  {
   "cell_type": "markdown",
   "metadata": {},
   "source": [
    "# Read in SOS KPS tidy data fo plot from the same time period"
   ]
  },
  {
   "cell_type": "code",
   "execution_count": 17,
   "metadata": {},
   "outputs": [],
   "source": [
    "start_date = '20221130'\n",
    "end_date = '20230517'\n",
    "\n",
    "tidy_df_5Min = pd.read_parquet(f\"../analysis/sos/tidy_df_{start_date}_{end_date}_noplanar_fit.parquet\")"
   ]
  },
  {
   "cell_type": "markdown",
   "metadata": {},
   "source": [
    "# Parse thermistor harp time info from filename"
   ]
  },
  {
   "cell_type": "code",
   "execution_count": 18,
   "metadata": {},
   "outputs": [
    {
     "name": "stdout",
     "output_type": "stream",
     "text": [
      "Parsing: 202302042000\n"
     ]
    }
   ],
   "source": [
    "# start_datetime = filename\n",
    "date_string = filename.split('/')[-1].split('.log')[0].removeprefix(\"screen\")\n",
    "print(f\"Parsing: {date_string}\")\n",
    "starttime = dt.datetime.strptime(\n",
    "    date_string,\n",
    "    '%Y%m%d%H%M%S'\n",
    ")"
   ]
  },
  {
   "cell_type": "markdown",
   "metadata": {},
   "source": [
    "# Open harp file and load data"
   ]
  },
  {
   "cell_type": "code",
   "execution_count": 19,
   "metadata": {},
   "outputs": [],
   "source": [
    "with open(filename) as f:\n",
    "    lines = f.readlines()"
   ]
  },
  {
   "cell_type": "code",
   "execution_count": 20,
   "metadata": {},
   "outputs": [],
   "source": [
    "cleaned_lines = [f for f in lines if f.startswith('TS302') or f.startswith('TS301')]\n",
    "delimited_lines = [line.split() for line in cleaned_lines]\n",
    "temp_only_lines = [[token for token in line if token.startswith('TS') or '.' in token] for line in delimited_lines]\n",
    "df = pd.DataFrame(temp_only_lines).drop(columns=5)"
   ]
  },
  {
   "cell_type": "code",
   "execution_count": 21,
   "metadata": {},
   "outputs": [],
   "source": [
    "df[[1,2,3,4]] = df[[1,2,3,4]].astype(\"float\")"
   ]
  },
  {
   "cell_type": "markdown",
   "metadata": {},
   "source": [
    "# Read the two sensors separately"
   ]
  },
  {
   "cell_type": "code",
   "execution_count": 25,
   "metadata": {},
   "outputs": [
    {
     "name": "stderr",
     "output_type": "stream",
     "text": [
      "/tmp/ipykernel_134814/1292411782.py:2: SettingWithCopyWarning: \n",
      "A value is trying to be set on a copy of a slice from a DataFrame.\n",
      "Try using .loc[row_indexer,col_indexer] = value instead\n",
      "\n",
      "See the caveats in the documentation: https://pandas.pydata.org/pandas-docs/stable/user_guide/indexing.html#returning-a-view-versus-a-copy\n",
      "  low_df.loc[:, 'time_seconds'] = 5*np.arange(0, len(low_df))\n",
      "/tmp/ipykernel_134814/1292411782.py:8: SettingWithCopyWarning: \n",
      "A value is trying to be set on a copy of a slice from a DataFrame.\n",
      "Try using .loc[row_indexer,col_indexer] = value instead\n",
      "\n",
      "See the caveats in the documentation: https://pandas.pydata.org/pandas-docs/stable/user_guide/indexing.html#returning-a-view-versus-a-copy\n",
      "  high_df.loc[:, 'time_seconds'] = 5*np.arange(0, len(high_df))\n"
     ]
    }
   ],
   "source": [
    "low_df = df[df[0]=='TS302']\n",
    "low_df.loc[:, 'time_seconds'] = 5*np.arange(0, len(low_df))\n",
    "low_df = low_df.rename(columns={1:5, 2:15, 3:25, 4:35})\n",
    "low_df = low_df.drop(columns=0)\n",
    "low_df['side'] = 'low'\n",
    "\n",
    "high_df = df[df[0]=='TS301']\n",
    "high_df.loc[:, 'time_seconds'] = 5*np.arange(0, len(high_df))\n",
    "high_df = high_df.rename(columns={1:10, 2:20, 3:30, 4:40})\n",
    "high_df = high_df.drop(columns=0)\n",
    "high_df['side'] = 'high'"
   ]
  },
  {
   "cell_type": "code",
   "execution_count": 26,
   "metadata": {},
   "outputs": [],
   "source": [
    "df = pd.concat([\n",
    "    low_df.melt(id_vars=['time_seconds', 'side']),\n",
    "    high_df.melt(id_vars=['time_seconds', 'side'])\n",
    "]).sort_values(['time_seconds', 'variable'])"
   ]
  },
  {
   "cell_type": "code",
   "execution_count": 27,
   "metadata": {},
   "outputs": [],
   "source": [
    "df['variable'] = df['variable'] - 5"
   ]
  },
  {
   "cell_type": "code",
   "execution_count": 28,
   "metadata": {},
   "outputs": [],
   "source": [
    "df['time'] = df['time_seconds'].apply(lambda x: starttime + dt.timedelta(seconds = x))"
   ]
  },
  {
   "cell_type": "code",
   "execution_count": 29,
   "metadata": {},
   "outputs": [
    {
     "data": {
      "text/html": [
       "\n",
       "<style>\n",
       "  #altair-viz-a7d662b0fbb843ffaa0ae5b8fdcd3362.vega-embed {\n",
       "    width: 100%;\n",
       "    display: flex;\n",
       "  }\n",
       "\n",
       "  #altair-viz-a7d662b0fbb843ffaa0ae5b8fdcd3362.vega-embed details,\n",
       "  #altair-viz-a7d662b0fbb843ffaa0ae5b8fdcd3362.vega-embed details summary {\n",
       "    position: relative;\n",
       "  }\n",
       "</style>\n",
       "<div id=\"altair-viz-a7d662b0fbb843ffaa0ae5b8fdcd3362\"></div>\n",
       "<script type=\"text/javascript\">\n",
       "  var VEGA_DEBUG = (typeof VEGA_DEBUG == \"undefined\") ? {} : VEGA_DEBUG;\n",
       "  (function(spec, embedOpt){\n",
       "    let outputDiv = document.currentScript.previousElementSibling;\n",
       "    if (outputDiv.id !== \"altair-viz-a7d662b0fbb843ffaa0ae5b8fdcd3362\") {\n",
       "      outputDiv = document.getElementById(\"altair-viz-a7d662b0fbb843ffaa0ae5b8fdcd3362\");\n",
       "    }\n",
       "    const paths = {\n",
       "      \"vega\": \"https://cdn.jsdelivr.net/npm/vega@5?noext\",\n",
       "      \"vega-lib\": \"https://cdn.jsdelivr.net/npm/vega-lib?noext\",\n",
       "      \"vega-lite\": \"https://cdn.jsdelivr.net/npm/vega-lite@5.8.0?noext\",\n",
       "      \"vega-embed\": \"https://cdn.jsdelivr.net/npm/vega-embed@6?noext\",\n",
       "    };\n",
       "\n",
       "    function maybeLoadScript(lib, version) {\n",
       "      var key = `${lib.replace(\"-\", \"\")}_version`;\n",
       "      return (VEGA_DEBUG[key] == version) ?\n",
       "        Promise.resolve(paths[lib]) :\n",
       "        new Promise(function(resolve, reject) {\n",
       "          var s = document.createElement('script');\n",
       "          document.getElementsByTagName(\"head\")[0].appendChild(s);\n",
       "          s.async = true;\n",
       "          s.onload = () => {\n",
       "            VEGA_DEBUG[key] = version;\n",
       "            return resolve(paths[lib]);\n",
       "          };\n",
       "          s.onerror = () => reject(`Error loading script: ${paths[lib]}`);\n",
       "          s.src = paths[lib];\n",
       "        });\n",
       "    }\n",
       "\n",
       "    function showError(err) {\n",
       "      outputDiv.innerHTML = `<div class=\"error\" style=\"color:red;\">${err}</div>`;\n",
       "      throw err;\n",
       "    }\n",
       "\n",
       "    function displayChart(vegaEmbed) {\n",
       "      vegaEmbed(outputDiv, spec, embedOpt)\n",
       "        .catch(err => showError(`Javascript Error: ${err.message}<br>This usually means there's a typo in your chart specification. See the javascript console for the full traceback.`));\n",
       "    }\n",
       "\n",
       "    if(typeof define === \"function\" && define.amd) {\n",
       "      requirejs.config({paths});\n",
       "      require([\"vega-embed\"], displayChart, err => showError(`Error loading script: ${err.message}`));\n",
       "    } else {\n",
       "      maybeLoadScript(\"vega\", \"5\")\n",
       "        .then(() => maybeLoadScript(\"vega-lite\", \"5.8.0\"))\n",
       "        .then(() => maybeLoadScript(\"vega-embed\", \"6\"))\n",
       "        .catch(showError)\n",
       "        .then(() => displayChart(vegaEmbed));\n",
       "    }\n",
       "  })({\"config\": {\"view\": {\"continuousWidth\": 300, \"continuousHeight\": 300}}, \"data\": {\"name\": \"data-636819f968970903a97b4b70058b85d5\"}, \"mark\": {\"type\": \"line\"}, \"encoding\": {\"color\": {\"field\": \"variable\", \"scale\": {\"scheme\": \"viridis\"}, \"title\": [\"Height above\", \"snow (mm)\"], \"type\": \"ordinal\"}, \"x\": {\"field\": \"time\", \"title\": \"Time (s)\", \"type\": \"temporal\"}, \"y\": {\"field\": \"rolling_mean\", \"scale\": {\"zero\": false}, \"title\": \"Temperature (\\u02daC)\", \"type\": \"quantitative\"}}, \"height\": 150, \"title\": \"2023-02-04\", \"transform\": [{\"window\": [{\"op\": \"mean\", \"field\": \"value\", \"as\": \"rolling_mean\"}], \"frame\": [1, 1], \"groupby\": [\"variable\"]}], \"width\": 300, \"$schema\": \"https://vega.github.io/schema/vega-lite/v5.8.0.json\", \"datasets\": {\"data-636819f968970903a97b4b70058b85d5\": [{\"time_seconds\": 0, \"side\": \"low\", \"variable\": 0, \"value\": 20.999023, \"time\": \"2023-02-04T20:00:00\"}, {\"time_seconds\": 0, \"side\": \"high\", \"variable\": 5, \"value\": 20.648773, \"time\": \"2023-02-04T20:00:00\"}, {\"time_seconds\": 0, \"side\": \"low\", \"variable\": 10, \"value\": 21.144927, \"time\": \"2023-02-04T20:00:00\"}, {\"time_seconds\": 0, \"side\": \"high\", \"variable\": 15, \"value\": 20.672149, \"time\": \"2023-02-04T20:00:00\"}, {\"time_seconds\": 0, \"side\": \"low\", \"variable\": 20, \"value\": 21.201843, \"time\": \"2023-02-04T20:00:00\"}, {\"time_seconds\": 0, \"side\": \"high\", \"variable\": 25, \"value\": 20.694854, \"time\": \"2023-02-04T20:00:00\"}, {\"time_seconds\": 0, \"side\": \"low\", \"variable\": 30, \"value\": 21.147552, \"time\": \"2023-02-04T20:00:00\"}, {\"time_seconds\": 0, \"side\": \"high\", \"variable\": 35, \"value\": 20.81903, \"time\": \"2023-02-04T20:00:00\"}, {\"time_seconds\": 5, \"side\": \"low\", \"variable\": 0, \"value\": 20.978454, \"time\": \"2023-02-04T20:00:05\"}, {\"time_seconds\": 5, \"side\": \"high\", \"variable\": 5, \"value\": 20.658538, \"time\": \"2023-02-04T20:00:05\"}, {\"time_seconds\": 5, \"side\": \"low\", \"variable\": 10, \"value\": 21.139221, \"time\": \"2023-02-04T20:00:05\"}, {\"time_seconds\": 5, \"side\": \"high\", \"variable\": 15, \"value\": 20.679809, \"time\": \"2023-02-04T20:00:05\"}, {\"time_seconds\": 5, \"side\": \"low\", \"variable\": 20, \"value\": 21.221435, \"time\": \"2023-02-04T20:00:05\"}, {\"time_seconds\": 5, \"side\": \"high\", \"variable\": 25, \"value\": 20.704284, \"time\": \"2023-02-04T20:00:05\"}, {\"time_seconds\": 5, \"side\": \"low\", \"variable\": 30, \"value\": 21.194549, \"time\": \"2023-02-04T20:00:05\"}, {\"time_seconds\": 5, \"side\": \"high\", \"variable\": 35, \"value\": 20.839904, \"time\": \"2023-02-04T20:00:05\"}, {\"time_seconds\": 10, \"side\": \"low\", \"variable\": 0, \"value\": 20.986968, \"time\": \"2023-02-04T20:00:10\"}, {\"time_seconds\": 10, \"side\": \"high\", \"variable\": 5, \"value\": 20.644683, \"time\": \"2023-02-04T20:00:10\"}, {\"time_seconds\": 10, \"side\": \"low\", \"variable\": 10, \"value\": 21.140106, \"time\": \"2023-02-04T20:00:10\"}, {\"time_seconds\": 10, \"side\": \"high\", \"variable\": 15, \"value\": 20.671722, \"time\": \"2023-02-04T20:00:10\"}, {\"time_seconds\": 10, \"side\": \"low\", \"variable\": 20, \"value\": 21.204284, \"time\": \"2023-02-04T20:00:10\"}, {\"time_seconds\": 10, \"side\": \"high\", \"variable\": 25, \"value\": 20.696014, \"time\": \"2023-02-04T20:00:10\"}, {\"time_seconds\": 10, \"side\": \"low\", \"variable\": 30, \"value\": 21.179443, \"time\": \"2023-02-04T20:00:10\"}, {\"time_seconds\": 10, \"side\": \"high\", \"variable\": 35, \"value\": 20.823669, \"time\": \"2023-02-04T20:00:10\"}, {\"time_seconds\": 15, \"side\": \"low\", \"variable\": 0, \"value\": 20.953155, \"time\": \"2023-02-04T20:00:15\"}, {\"time_seconds\": 15, \"side\": \"high\", \"variable\": 5, \"value\": 20.625152, \"time\": \"2023-02-04T20:00:15\"}, {\"time_seconds\": 15, \"side\": \"low\", \"variable\": 10, \"value\": 21.130828, \"time\": \"2023-02-04T20:00:15\"}, {\"time_seconds\": 15, \"side\": \"high\", \"variable\": 15, \"value\": 20.647766, \"time\": \"2023-02-04T20:00:15\"}, {\"time_seconds\": 15, \"side\": \"low\", \"variable\": 20, \"value\": 21.199584, \"time\": \"2023-02-04T20:00:15\"}, {\"time_seconds\": 15, \"side\": \"high\", \"variable\": 25, \"value\": 20.68695, \"time\": \"2023-02-04T20:00:15\"}, {\"time_seconds\": 15, \"side\": \"low\", \"variable\": 30, \"value\": 21.1622, \"time\": \"2023-02-04T20:00:15\"}, {\"time_seconds\": 15, \"side\": \"high\", \"variable\": 35, \"value\": 20.836242, \"time\": \"2023-02-04T20:00:15\"}, {\"time_seconds\": 20, \"side\": \"low\", \"variable\": 0, \"value\": 21.000274, \"time\": \"2023-02-04T20:00:20\"}, {\"time_seconds\": 20, \"side\": \"high\", \"variable\": 5, \"value\": 20.615936, \"time\": \"2023-02-04T20:00:20\"}, {\"time_seconds\": 20, \"side\": \"low\", \"variable\": 10, \"value\": 21.169494, \"time\": \"2023-02-04T20:00:20\"}, {\"time_seconds\": 20, \"side\": \"high\", \"variable\": 15, \"value\": 20.656341, \"time\": \"2023-02-04T20:00:20\"}, {\"time_seconds\": 20, \"side\": \"low\", \"variable\": 20, \"value\": 21.215942, \"time\": \"2023-02-04T20:00:20\"}, {\"time_seconds\": 20, \"side\": \"high\", \"variable\": 25, \"value\": 20.709716, \"time\": \"2023-02-04T20:00:20\"}, {\"time_seconds\": 20, \"side\": \"low\", \"variable\": 30, \"value\": 21.175659, \"time\": \"2023-02-04T20:00:20\"}, {\"time_seconds\": 20, \"side\": \"high\", \"variable\": 35, \"value\": 20.868408, \"time\": \"2023-02-04T20:00:20\"}, {\"time_seconds\": 25, \"side\": \"low\", \"variable\": 0, \"value\": 20.980651, \"time\": \"2023-02-04T20:00:25\"}, {\"time_seconds\": 25, \"side\": \"high\", \"variable\": 5, \"value\": 20.601043, \"time\": \"2023-02-04T20:00:25\"}, {\"time_seconds\": 25, \"side\": \"low\", \"variable\": 10, \"value\": 21.109771, \"time\": \"2023-02-04T20:00:25\"}, {\"time_seconds\": 25, \"side\": \"high\", \"variable\": 15, \"value\": 20.644195, \"time\": \"2023-02-04T20:00:25\"}, {\"time_seconds\": 25, \"side\": \"low\", \"variable\": 20, \"value\": 21.175964, \"time\": \"2023-02-04T20:00:25\"}, {\"time_seconds\": 25, \"side\": \"high\", \"variable\": 25, \"value\": 20.688171, \"time\": \"2023-02-04T20:00:25\"}, {\"time_seconds\": 25, \"side\": \"low\", \"variable\": 30, \"value\": 21.135955, \"time\": \"2023-02-04T20:00:25\"}, {\"time_seconds\": 25, \"side\": \"high\", \"variable\": 35, \"value\": 20.839752, \"time\": \"2023-02-04T20:00:25\"}, {\"time_seconds\": 30, \"side\": \"low\", \"variable\": 0, \"value\": 21.012786, \"time\": \"2023-02-04T20:00:30\"}, {\"time_seconds\": 30, \"side\": \"high\", \"variable\": 5, \"value\": 20.603942, \"time\": \"2023-02-04T20:00:30\"}, {\"time_seconds\": 30, \"side\": \"low\", \"variable\": 10, \"value\": 21.175537, \"time\": \"2023-02-04T20:00:30\"}, {\"time_seconds\": 30, \"side\": \"high\", \"variable\": 15, \"value\": 20.645935, \"time\": \"2023-02-04T20:00:30\"}, {\"time_seconds\": 30, \"side\": \"low\", \"variable\": 20, \"value\": 21.244384, \"time\": \"2023-02-04T20:00:30\"}, {\"time_seconds\": 30, \"side\": \"high\", \"variable\": 25, \"value\": 20.706054, \"time\": \"2023-02-04T20:00:30\"}, {\"time_seconds\": 30, \"side\": \"low\", \"variable\": 30, \"value\": 21.243164, \"time\": \"2023-02-04T20:00:30\"}, {\"time_seconds\": 30, \"side\": \"high\", \"variable\": 35, \"value\": 20.88504, \"time\": \"2023-02-04T20:00:30\"}, {\"time_seconds\": 35, \"side\": \"low\", \"variable\": 0, \"value\": 21.07608, \"time\": \"2023-02-04T20:00:35\"}, {\"time_seconds\": 35, \"side\": \"high\", \"variable\": 5, \"value\": 20.689117, \"time\": \"2023-02-04T20:00:35\"}, {\"time_seconds\": 35, \"side\": \"low\", \"variable\": 10, \"value\": 21.254241, \"time\": \"2023-02-04T20:00:35\"}, {\"time_seconds\": 35, \"side\": \"high\", \"variable\": 15, \"value\": 20.725738, \"time\": \"2023-02-04T20:00:35\"}, {\"time_seconds\": 35, \"side\": \"low\", \"variable\": 20, \"value\": 21.315917, \"time\": \"2023-02-04T20:00:35\"}, {\"time_seconds\": 35, \"side\": \"high\", \"variable\": 25, \"value\": 20.774993, \"time\": \"2023-02-04T20:00:35\"}, {\"time_seconds\": 35, \"side\": \"low\", \"variable\": 30, \"value\": 21.290069, \"time\": \"2023-02-04T20:00:35\"}, {\"time_seconds\": 35, \"side\": \"high\", \"variable\": 35, \"value\": 20.959197, \"time\": \"2023-02-04T20:00:35\"}, {\"time_seconds\": 40, \"side\": \"low\", \"variable\": 0, \"value\": 21.09732, \"time\": \"2023-02-04T20:00:40\"}, {\"time_seconds\": 40, \"side\": \"high\", \"variable\": 5, \"value\": 20.754577, \"time\": \"2023-02-04T20:00:40\"}, {\"time_seconds\": 40, \"side\": \"low\", \"variable\": 10, \"value\": 21.257843, \"time\": \"2023-02-04T20:00:40\"}, {\"time_seconds\": 40, \"side\": \"high\", \"variable\": 15, \"value\": 20.784057, \"time\": \"2023-02-04T20:00:40\"}, {\"time_seconds\": 40, \"side\": \"low\", \"variable\": 20, \"value\": 21.320831, \"time\": \"2023-02-04T20:00:40\"}, {\"time_seconds\": 40, \"side\": \"high\", \"variable\": 25, \"value\": 20.818847, \"time\": \"2023-02-04T20:00:40\"}, {\"time_seconds\": 40, \"side\": \"low\", \"variable\": 30, \"value\": 21.292022, \"time\": \"2023-02-04T20:00:40\"}, {\"time_seconds\": 40, \"side\": \"high\", \"variable\": 35, \"value\": 20.989349, \"time\": \"2023-02-04T20:00:40\"}, {\"time_seconds\": 45, \"side\": \"low\", \"variable\": 0, \"value\": 21.026855, \"time\": \"2023-02-04T20:00:45\"}, {\"time_seconds\": 45, \"side\": \"high\", \"variable\": 5, \"value\": 20.771362, \"time\": \"2023-02-04T20:00:45\"}, {\"time_seconds\": 45, \"side\": \"low\", \"variable\": 10, \"value\": 21.126861, \"time\": \"2023-02-04T20:00:45\"}, {\"time_seconds\": 45, \"side\": \"high\", \"variable\": 15, \"value\": 20.784301, \"time\": \"2023-02-04T20:00:45\"}, {\"time_seconds\": 45, \"side\": \"low\", \"variable\": 20, \"value\": 21.218322, \"time\": \"2023-02-04T20:00:45\"}, {\"time_seconds\": 45, \"side\": \"high\", \"variable\": 25, \"value\": 20.814025, \"time\": \"2023-02-04T20:00:45\"}, {\"time_seconds\": 45, \"side\": \"low\", \"variable\": 30, \"value\": 21.176177, \"time\": \"2023-02-04T20:00:45\"}, {\"time_seconds\": 45, \"side\": \"high\", \"variable\": 35, \"value\": 20.914642, \"time\": \"2023-02-04T20:00:45\"}, {\"time_seconds\": 50, \"side\": \"low\", \"variable\": 0, \"value\": 20.940032, \"time\": \"2023-02-04T20:00:50\"}, {\"time_seconds\": 50, \"side\": \"high\", \"variable\": 5, \"value\": 20.754913, \"time\": \"2023-02-04T20:00:50\"}, {\"time_seconds\": 50, \"side\": \"low\", \"variable\": 10, \"value\": 21.040374, \"time\": \"2023-02-04T20:00:50\"}, {\"time_seconds\": 50, \"side\": \"high\", \"variable\": 15, \"value\": 20.738433, \"time\": \"2023-02-04T20:00:50\"}, {\"time_seconds\": 50, \"side\": \"low\", \"variable\": 20, \"value\": 21.060272, \"time\": \"2023-02-04T20:00:50\"}, {\"time_seconds\": 50, \"side\": \"high\", \"variable\": 25, \"value\": 20.753387, \"time\": \"2023-02-04T20:00:50\"}, {\"time_seconds\": 50, \"side\": \"low\", \"variable\": 30, \"value\": 21.099731, \"time\": \"2023-02-04T20:00:50\"}, {\"time_seconds\": 50, \"side\": \"high\", \"variable\": 35, \"value\": 20.819824, \"time\": \"2023-02-04T20:00:50\"}, {\"time_seconds\": 55, \"side\": \"low\", \"variable\": 0, \"value\": 20.95462, \"time\": \"2023-02-04T20:00:55\"}, {\"time_seconds\": 55, \"side\": \"high\", \"variable\": 5, \"value\": 20.70758, \"time\": \"2023-02-04T20:00:55\"}, {\"time_seconds\": 55, \"side\": \"low\", \"variable\": 10, \"value\": 21.024169, \"time\": \"2023-02-04T20:00:55\"}, {\"time_seconds\": 55, \"side\": \"high\", \"variable\": 15, \"value\": 20.661376, \"time\": \"2023-02-04T20:00:55\"}, {\"time_seconds\": 55, \"side\": \"low\", \"variable\": 20, \"value\": 21.092712, \"time\": \"2023-02-04T20:00:55\"}, {\"time_seconds\": 55, \"side\": \"high\", \"variable\": 25, \"value\": 20.669128, \"time\": \"2023-02-04T20:00:55\"}, {\"time_seconds\": 55, \"side\": \"low\", \"variable\": 30, \"value\": 21.026336, \"time\": \"2023-02-04T20:00:55\"}, {\"time_seconds\": 55, \"side\": \"high\", \"variable\": 35, \"value\": 20.715728, \"time\": \"2023-02-04T20:00:55\"}, {\"time_seconds\": 60, \"side\": \"low\", \"variable\": 0, \"value\": 20.934387, \"time\": \"2023-02-04T20:01:00\"}, {\"time_seconds\": 60, \"side\": \"high\", \"variable\": 5, \"value\": 20.672058, \"time\": \"2023-02-04T20:01:00\"}, {\"time_seconds\": 60, \"side\": \"low\", \"variable\": 10, \"value\": 21.024108, \"time\": \"2023-02-04T20:01:00\"}, {\"time_seconds\": 60, \"side\": \"high\", \"variable\": 15, \"value\": 20.630035, \"time\": \"2023-02-04T20:01:00\"}, {\"time_seconds\": 60, \"side\": \"low\", \"variable\": 20, \"value\": 21.089752, \"time\": \"2023-02-04T20:01:00\"}, {\"time_seconds\": 60, \"side\": \"high\", \"variable\": 25, \"value\": 20.640472, \"time\": \"2023-02-04T20:01:00\"}, {\"time_seconds\": 60, \"side\": \"low\", \"variable\": 30, \"value\": 21.016906, \"time\": \"2023-02-04T20:01:00\"}, {\"time_seconds\": 60, \"side\": \"high\", \"variable\": 35, \"value\": 20.721527, \"time\": \"2023-02-04T20:01:00\"}, {\"time_seconds\": 65, \"side\": \"low\", \"variable\": 0, \"value\": 20.976501, \"time\": \"2023-02-04T20:01:05\"}, {\"time_seconds\": 65, \"side\": \"high\", \"variable\": 5, \"value\": 20.682708, \"time\": \"2023-02-04T20:01:05\"}, {\"time_seconds\": 65, \"side\": \"low\", \"variable\": 10, \"value\": 21.10437, \"time\": \"2023-02-04T20:01:05\"}, {\"time_seconds\": 65, \"side\": \"high\", \"variable\": 15, \"value\": 20.653594, \"time\": \"2023-02-04T20:01:05\"}, {\"time_seconds\": 65, \"side\": \"low\", \"variable\": 20, \"value\": 21.17395, \"time\": \"2023-02-04T20:01:05\"}, {\"time_seconds\": 65, \"side\": \"high\", \"variable\": 25, \"value\": 20.670593, \"time\": \"2023-02-04T20:01:05\"}, {\"time_seconds\": 65, \"side\": \"low\", \"variable\": 30, \"value\": 21.143493, \"time\": \"2023-02-04T20:01:05\"}, {\"time_seconds\": 65, \"side\": \"high\", \"variable\": 35, \"value\": 20.805358, \"time\": \"2023-02-04T20:01:05\"}, {\"time_seconds\": 70, \"side\": \"low\", \"variable\": 0, \"value\": 21.040374, \"time\": \"2023-02-04T20:01:10\"}, {\"time_seconds\": 70, \"side\": \"high\", \"variable\": 5, \"value\": 20.687194, \"time\": \"2023-02-04T20:01:10\"}, {\"time_seconds\": 70, \"side\": \"low\", \"variable\": 10, \"value\": 21.171051, \"time\": \"2023-02-04T20:01:10\"}, {\"time_seconds\": 70, \"side\": \"high\", \"variable\": 15, \"value\": 20.683776, \"time\": \"2023-02-04T20:01:10\"}, {\"time_seconds\": 70, \"side\": \"low\", \"variable\": 20, \"value\": 21.225799, \"time\": \"2023-02-04T20:01:10\"}, {\"time_seconds\": 70, \"side\": \"high\", \"variable\": 25, \"value\": 20.697967, \"time\": \"2023-02-04T20:01:10\"}, {\"time_seconds\": 70, \"side\": \"low\", \"variable\": 30, \"value\": 21.179016, \"time\": \"2023-02-04T20:01:10\"}, {\"time_seconds\": 70, \"side\": \"high\", \"variable\": 35, \"value\": 20.811645, \"time\": \"2023-02-04T20:01:10\"}, {\"time_seconds\": 75, \"side\": \"low\", \"variable\": 0, \"value\": 21.034667, \"time\": \"2023-02-04T20:01:15\"}, {\"time_seconds\": 75, \"side\": \"high\", \"variable\": 5, \"value\": 20.756713, \"time\": \"2023-02-04T20:01:15\"}, {\"time_seconds\": 75, \"side\": \"low\", \"variable\": 10, \"value\": 21.12918, \"time\": \"2023-02-04T20:01:15\"}, {\"time_seconds\": 75, \"side\": \"high\", \"variable\": 15, \"value\": 20.794189, \"time\": \"2023-02-04T20:01:15\"}, {\"time_seconds\": 75, \"side\": \"low\", \"variable\": 20, \"value\": 21.176879, \"time\": \"2023-02-04T20:01:15\"}, {\"time_seconds\": 75, \"side\": \"high\", \"variable\": 25, \"value\": 20.78302, \"time\": \"2023-02-04T20:01:15\"}, {\"time_seconds\": 75, \"side\": \"low\", \"variable\": 30, \"value\": 21.111114, \"time\": \"2023-02-04T20:01:15\"}, {\"time_seconds\": 75, \"side\": \"high\", \"variable\": 35, \"value\": 20.850219, \"time\": \"2023-02-04T20:01:15\"}, {\"time_seconds\": 80, \"side\": \"low\", \"variable\": 0, \"value\": 21.186737, \"time\": \"2023-02-04T20:01:20\"}, {\"time_seconds\": 80, \"side\": \"high\", \"variable\": 5, \"value\": 20.933807, \"time\": \"2023-02-04T20:01:20\"}, {\"time_seconds\": 80, \"side\": \"low\", \"variable\": 10, \"value\": 21.248016, \"time\": \"2023-02-04T20:01:20\"}, {\"time_seconds\": 80, \"side\": \"high\", \"variable\": 15, \"value\": 20.984771, \"time\": \"2023-02-04T20:01:20\"}, {\"time_seconds\": 80, \"side\": \"low\", \"variable\": 20, \"value\": 21.397308, \"time\": \"2023-02-04T20:01:20\"}, {\"time_seconds\": 80, \"side\": \"high\", \"variable\": 25, \"value\": 20.977783, \"time\": \"2023-02-04T20:01:20\"}, {\"time_seconds\": 80, \"side\": \"low\", \"variable\": 30, \"value\": 21.223327, \"time\": \"2023-02-04T20:01:20\"}, {\"time_seconds\": 80, \"side\": \"high\", \"variable\": 35, \"value\": 21.051635, \"time\": \"2023-02-04T20:01:20\"}, {\"time_seconds\": 85, \"side\": \"low\", \"variable\": 0, \"value\": 21.196685, \"time\": \"2023-02-04T20:01:25\"}, {\"time_seconds\": 85, \"side\": \"high\", \"variable\": 5, \"value\": 21.028137, \"time\": \"2023-02-04T20:01:25\"}, {\"time_seconds\": 85, \"side\": \"low\", \"variable\": 10, \"value\": 21.259185, \"time\": \"2023-02-04T20:01:25\"}, {\"time_seconds\": 85, \"side\": \"high\", \"variable\": 15, \"value\": 21.032928, \"time\": \"2023-02-04T20:01:25\"}, {\"time_seconds\": 85, \"side\": \"low\", \"variable\": 20, \"value\": 21.428985, \"time\": \"2023-02-04T20:01:25\"}, {\"time_seconds\": 85, \"side\": \"high\", \"variable\": 25, \"value\": 21.036041, \"time\": \"2023-02-04T20:01:25\"}, {\"time_seconds\": 85, \"side\": \"low\", \"variable\": 30, \"value\": 21.287506, \"time\": \"2023-02-04T20:01:25\"}, {\"time_seconds\": 85, \"side\": \"high\", \"variable\": 35, \"value\": 21.150634, \"time\": \"2023-02-04T20:01:25\"}, {\"time_seconds\": 90, \"side\": \"low\", \"variable\": 0, \"value\": 21.211639, \"time\": \"2023-02-04T20:01:30\"}, {\"time_seconds\": 90, \"side\": \"high\", \"variable\": 5, \"value\": 21.026336, \"time\": \"2023-02-04T20:01:30\"}, {\"time_seconds\": 90, \"side\": \"low\", \"variable\": 10, \"value\": 21.306915, \"time\": \"2023-02-04T20:01:30\"}, {\"time_seconds\": 90, \"side\": \"high\", \"variable\": 15, \"value\": 21.016021, \"time\": \"2023-02-04T20:01:30\"}, {\"time_seconds\": 90, \"side\": \"low\", \"variable\": 20, \"value\": 21.37741, \"time\": \"2023-02-04T20:01:30\"}, {\"time_seconds\": 90, \"side\": \"high\", \"variable\": 25, \"value\": 21.01947, \"time\": \"2023-02-04T20:01:30\"}, {\"time_seconds\": 90, \"side\": \"low\", \"variable\": 30, \"value\": 21.306671, \"time\": \"2023-02-04T20:01:30\"}, {\"time_seconds\": 90, \"side\": \"high\", \"variable\": 35, \"value\": 21.106719, \"time\": \"2023-02-04T20:01:30\"}, {\"time_seconds\": 95, \"side\": \"low\", \"variable\": 0, \"value\": 21.149383, \"time\": \"2023-02-04T20:01:35\"}, {\"time_seconds\": 95, \"side\": \"high\", \"variable\": 5, \"value\": 20.973724, \"time\": \"2023-02-04T20:01:35\"}, {\"time_seconds\": 95, \"side\": \"low\", \"variable\": 10, \"value\": 21.192413, \"time\": \"2023-02-04T20:01:35\"}, {\"time_seconds\": 95, \"side\": \"high\", \"variable\": 15, \"value\": 20.933898, \"time\": \"2023-02-04T20:01:35\"}, {\"time_seconds\": 95, \"side\": \"low\", \"variable\": 20, \"value\": 21.237274, \"time\": \"2023-02-04T20:01:35\"}, {\"time_seconds\": 95, \"side\": \"high\", \"variable\": 25, \"value\": 20.914703, \"time\": \"2023-02-04T20:01:35\"}, {\"time_seconds\": 95, \"side\": \"low\", \"variable\": 30, \"value\": 21.187164, \"time\": \"2023-02-04T20:01:35\"}, {\"time_seconds\": 95, \"side\": \"high\", \"variable\": 35, \"value\": 20.96173, \"time\": \"2023-02-04T20:01:35\"}, {\"time_seconds\": 100, \"side\": \"low\", \"variable\": 0, \"value\": 21.114074, \"time\": \"2023-02-04T20:01:40\"}, {\"time_seconds\": 100, \"side\": \"high\", \"variable\": 5, \"value\": 20.881866, \"time\": \"2023-02-04T20:01:40\"}, {\"time_seconds\": 100, \"side\": \"low\", \"variable\": 10, \"value\": 21.217987, \"time\": \"2023-02-04T20:01:40\"}, {\"time_seconds\": 100, \"side\": \"high\", \"variable\": 15, \"value\": 20.841339, \"time\": \"2023-02-04T20:01:40\"}, {\"time_seconds\": 100, \"side\": \"low\", \"variable\": 20, \"value\": 21.231384, \"time\": \"2023-02-04T20:01:40\"}, {\"time_seconds\": 100, \"side\": \"high\", \"variable\": 25, \"value\": 20.833374, \"time\": \"2023-02-04T20:01:40\"}, {\"time_seconds\": 100, \"side\": \"low\", \"variable\": 30, \"value\": 21.187774, \"time\": \"2023-02-04T20:01:40\"}, {\"time_seconds\": 100, \"side\": \"high\", \"variable\": 35, \"value\": 20.897003, \"time\": \"2023-02-04T20:01:40\"}, {\"time_seconds\": 105, \"side\": \"low\", \"variable\": 0, \"value\": 21.129638, \"time\": \"2023-02-04T20:01:45\"}, {\"time_seconds\": 105, \"side\": \"high\", \"variable\": 5, \"value\": 20.857727, \"time\": \"2023-02-04T20:01:45\"}, {\"time_seconds\": 105, \"side\": \"low\", \"variable\": 10, \"value\": 21.2742, \"time\": \"2023-02-04T20:01:45\"}, {\"time_seconds\": 105, \"side\": \"high\", \"variable\": 15, \"value\": 20.825836, \"time\": \"2023-02-04T20:01:45\"}, {\"time_seconds\": 105, \"side\": \"low\", \"variable\": 20, \"value\": 21.270172, \"time\": \"2023-02-04T20:01:45\"}, {\"time_seconds\": 105, \"side\": \"high\", \"variable\": 25, \"value\": 20.813751, \"time\": \"2023-02-04T20:01:45\"}, {\"time_seconds\": 105, \"side\": \"low\", \"variable\": 30, \"value\": 21.204925, \"time\": \"2023-02-04T20:01:45\"}, {\"time_seconds\": 105, \"side\": \"high\", \"variable\": 35, \"value\": 20.884551, \"time\": \"2023-02-04T20:01:45\"}, {\"time_seconds\": 110, \"side\": \"low\", \"variable\": 0, \"value\": 21.099823, \"time\": \"2023-02-04T20:01:50\"}, {\"time_seconds\": 110, \"side\": \"high\", \"variable\": 5, \"value\": 20.969055, \"time\": \"2023-02-04T20:01:50\"}, {\"time_seconds\": 110, \"side\": \"low\", \"variable\": 10, \"value\": 21.219726, \"time\": \"2023-02-04T20:01:50\"}, {\"time_seconds\": 110, \"side\": \"high\", \"variable\": 15, \"value\": 20.957366, \"time\": \"2023-02-04T20:01:50\"}, {\"time_seconds\": 110, \"side\": \"low\", \"variable\": 20, \"value\": 21.248229, \"time\": \"2023-02-04T20:01:50\"}, {\"time_seconds\": 110, \"side\": \"high\", \"variable\": 25, \"value\": 20.942687, \"time\": \"2023-02-04T20:01:50\"}, {\"time_seconds\": 110, \"side\": \"low\", \"variable\": 30, \"value\": 21.193328, \"time\": \"2023-02-04T20:01:50\"}, {\"time_seconds\": 110, \"side\": \"high\", \"variable\": 35, \"value\": 20.959716, \"time\": \"2023-02-04T20:01:50\"}, {\"time_seconds\": 115, \"side\": \"low\", \"variable\": 0, \"value\": 21.152069, \"time\": \"2023-02-04T20:01:55\"}, {\"time_seconds\": 115, \"side\": \"high\", \"variable\": 5, \"value\": 21.01889, \"time\": \"2023-02-04T20:01:55\"}, {\"time_seconds\": 115, \"side\": \"low\", \"variable\": 10, \"value\": 21.270507, \"time\": \"2023-02-04T20:01:55\"}, {\"time_seconds\": 115, \"side\": \"high\", \"variable\": 15, \"value\": 21.021789, \"time\": \"2023-02-04T20:01:55\"}, {\"time_seconds\": 115, \"side\": \"low\", \"variable\": 20, \"value\": 21.296752, \"time\": \"2023-02-04T20:01:55\"}, {\"time_seconds\": 115, \"side\": \"high\", \"variable\": 25, \"value\": 21.020172, \"time\": \"2023-02-04T20:01:55\"}, {\"time_seconds\": 115, \"side\": \"low\", \"variable\": 30, \"value\": 21.247467, \"time\": \"2023-02-04T20:01:55\"}, {\"time_seconds\": 115, \"side\": \"high\", \"variable\": 35, \"value\": 21.010742, \"time\": \"2023-02-04T20:01:55\"}, {\"time_seconds\": 120, \"side\": \"low\", \"variable\": 0, \"value\": 20.980712, \"time\": \"2023-02-04T20:02:00\"}, {\"time_seconds\": 120, \"side\": \"high\", \"variable\": 5, \"value\": 20.871795, \"time\": \"2023-02-04T20:02:00\"}, {\"time_seconds\": 120, \"side\": \"low\", \"variable\": 10, \"value\": 21.300964, \"time\": \"2023-02-04T20:02:00\"}, {\"time_seconds\": 120, \"side\": \"high\", \"variable\": 15, \"value\": 20.928314, \"time\": \"2023-02-04T20:02:00\"}, {\"time_seconds\": 120, \"side\": \"low\", \"variable\": 20, \"value\": 20.917114, \"time\": \"2023-02-04T20:02:00\"}, {\"time_seconds\": 120, \"side\": \"high\", \"variable\": 25, \"value\": 20.704711, \"time\": \"2023-02-04T20:02:00\"}, {\"time_seconds\": 120, \"side\": \"low\", \"variable\": 30, \"value\": 20.887176, \"time\": \"2023-02-04T20:02:00\"}, {\"time_seconds\": 120, \"side\": \"high\", \"variable\": 35, \"value\": 20.505889, \"time\": \"2023-02-04T20:02:00\"}, {\"time_seconds\": 125, \"side\": \"low\", \"variable\": 0, \"value\": 0.760864, \"time\": \"2023-02-04T20:02:05\"}, {\"time_seconds\": 125, \"side\": \"high\", \"variable\": 5, \"value\": 5.101013, \"time\": \"2023-02-04T20:02:05\"}, {\"time_seconds\": 125, \"side\": \"low\", \"variable\": 10, \"value\": -1.269257, \"time\": \"2023-02-04T20:02:05\"}, {\"time_seconds\": 125, \"side\": \"high\", \"variable\": 15, \"value\": 4.139343, \"time\": \"2023-02-04T20:02:05\"}, {\"time_seconds\": 125, \"side\": \"low\", \"variable\": 20, \"value\": -1.244629, \"time\": \"2023-02-04T20:02:05\"}, {\"time_seconds\": 125, \"side\": \"high\", \"variable\": 25, \"value\": 1.476013, \"time\": \"2023-02-04T20:02:05\"}, {\"time_seconds\": 125, \"side\": \"low\", \"variable\": 30, \"value\": 1.411346, \"time\": \"2023-02-04T20:02:05\"}, {\"time_seconds\": 125, \"side\": \"high\", \"variable\": 35, \"value\": -0.617737, \"time\": \"2023-02-04T20:02:05\"}, {\"time_seconds\": 130, \"side\": \"low\", \"variable\": 0, \"value\": -9.315918, \"time\": \"2023-02-04T20:02:10\"}, {\"time_seconds\": 130, \"side\": \"high\", \"variable\": 5, \"value\": -5.792541, \"time\": \"2023-02-04T20:02:10\"}, {\"time_seconds\": 130, \"side\": \"low\", \"variable\": 10, \"value\": -9.002563, \"time\": \"2023-02-04T20:02:10\"}, {\"time_seconds\": 130, \"side\": \"high\", \"variable\": 15, \"value\": -8.610718, \"time\": \"2023-02-04T20:02:10\"}, {\"time_seconds\": 130, \"side\": \"low\", \"variable\": 20, \"value\": -8.651367, \"time\": \"2023-02-04T20:02:10\"}, {\"time_seconds\": 130, \"side\": \"high\", \"variable\": 25, \"value\": -8.365295, \"time\": \"2023-02-04T20:02:10\"}, {\"time_seconds\": 130, \"side\": \"low\", \"variable\": 30, \"value\": -6.989624, \"time\": \"2023-02-04T20:02:10\"}, {\"time_seconds\": 130, \"side\": \"high\", \"variable\": 35, \"value\": -6.056488, \"time\": \"2023-02-04T20:02:10\"}, {\"time_seconds\": 135, \"side\": \"low\", \"variable\": 0, \"value\": -10.607178, \"time\": \"2023-02-04T20:02:15\"}, {\"time_seconds\": 135, \"side\": \"high\", \"variable\": 5, \"value\": -9.142792, \"time\": \"2023-02-04T20:02:15\"}, {\"time_seconds\": 135, \"side\": \"low\", \"variable\": 10, \"value\": -10.181091, \"time\": \"2023-02-04T20:02:15\"}, {\"time_seconds\": 135, \"side\": \"high\", \"variable\": 15, \"value\": -10.471985, \"time\": \"2023-02-04T20:02:15\"}, {\"time_seconds\": 135, \"side\": \"low\", \"variable\": 20, \"value\": -9.81369, \"time\": \"2023-02-04T20:02:15\"}, {\"time_seconds\": 135, \"side\": \"high\", \"variable\": 25, \"value\": -9.446472, \"time\": \"2023-02-04T20:02:15\"}, {\"time_seconds\": 135, \"side\": \"low\", \"variable\": 30, \"value\": -8.446411, \"time\": \"2023-02-04T20:02:15\"}, {\"time_seconds\": 135, \"side\": \"high\", \"variable\": 35, \"value\": -3.504089, \"time\": \"2023-02-04T20:02:15\"}, {\"time_seconds\": 140, \"side\": \"low\", \"variable\": 0, \"value\": -10.996735, \"time\": \"2023-02-04T20:02:20\"}, {\"time_seconds\": 140, \"side\": \"high\", \"variable\": 5, \"value\": -9.536591, \"time\": \"2023-02-04T20:02:20\"}, {\"time_seconds\": 140, \"side\": \"low\", \"variable\": 10, \"value\": -10.894409, \"time\": \"2023-02-04T20:02:20\"}, {\"time_seconds\": 140, \"side\": \"high\", \"variable\": 15, \"value\": -9.530762, \"time\": \"2023-02-04T20:02:20\"}, {\"time_seconds\": 140, \"side\": \"low\", \"variable\": 20, \"value\": -10.511078, \"time\": \"2023-02-04T20:02:20\"}, {\"time_seconds\": 140, \"side\": \"high\", \"variable\": 25, \"value\": -9.301727, \"time\": \"2023-02-04T20:02:20\"}, {\"time_seconds\": 140, \"side\": \"low\", \"variable\": 30, \"value\": -9.88559, \"time\": \"2023-02-04T20:02:20\"}, {\"time_seconds\": 140, \"side\": \"high\", \"variable\": 35, \"value\": -7.873016, \"time\": \"2023-02-04T20:02:20\"}, {\"time_seconds\": 145, \"side\": \"low\", \"variable\": 0, \"value\": -15.314606, \"time\": \"2023-02-04T20:02:25\"}, {\"time_seconds\": 145, \"side\": \"high\", \"variable\": 5, \"value\": -10.604431, \"time\": \"2023-02-04T20:02:25\"}, {\"time_seconds\": 145, \"side\": \"low\", \"variable\": 10, \"value\": -14.32428, \"time\": \"2023-02-04T20:02:25\"}, {\"time_seconds\": 145, \"side\": \"high\", \"variable\": 15, \"value\": -10.70517, \"time\": \"2023-02-04T20:02:25\"}, {\"time_seconds\": 145, \"side\": \"low\", \"variable\": 20, \"value\": -10.049408, \"time\": \"2023-02-04T20:02:25\"}, {\"time_seconds\": 145, \"side\": \"high\", \"variable\": 25, \"value\": -10.849274, \"time\": \"2023-02-04T20:02:25\"}, {\"time_seconds\": 145, \"side\": \"low\", \"variable\": 30, \"value\": -9.541565, \"time\": \"2023-02-04T20:02:25\"}, {\"time_seconds\": 145, \"side\": \"high\", \"variable\": 35, \"value\": -10.253265, \"time\": \"2023-02-04T20:02:25\"}, {\"time_seconds\": 150, \"side\": \"low\", \"variable\": 0, \"value\": -14.041351, \"time\": \"2023-02-04T20:02:30\"}, {\"time_seconds\": 150, \"side\": \"high\", \"variable\": 5, \"value\": -13.778381, \"time\": \"2023-02-04T20:02:30\"}, {\"time_seconds\": 150, \"side\": \"low\", \"variable\": 10, \"value\": -14.012299, \"time\": \"2023-02-04T20:02:30\"}, {\"time_seconds\": 150, \"side\": \"high\", \"variable\": 15, \"value\": -14.485443, \"time\": \"2023-02-04T20:02:30\"}, {\"time_seconds\": 150, \"side\": \"low\", \"variable\": 20, \"value\": -10.359924, \"time\": \"2023-02-04T20:02:30\"}, {\"time_seconds\": 150, \"side\": \"high\", \"variable\": 25, \"value\": -14.506592, \"time\": \"2023-02-04T20:02:30\"}, {\"time_seconds\": 150, \"side\": \"low\", \"variable\": 30, \"value\": -10.021759, \"time\": \"2023-02-04T20:02:30\"}, {\"time_seconds\": 150, \"side\": \"high\", \"variable\": 35, \"value\": -11.920074, \"time\": \"2023-02-04T20:02:30\"}, {\"time_seconds\": 155, \"side\": \"low\", \"variable\": 0, \"value\": -15.314606, \"time\": \"2023-02-04T20:02:35\"}, {\"time_seconds\": 155, \"side\": \"high\", \"variable\": 5, \"value\": -15.277679, \"time\": \"2023-02-04T20:02:35\"}, {\"time_seconds\": 155, \"side\": \"low\", \"variable\": 10, \"value\": -14.32428, \"time\": \"2023-02-04T20:02:35\"}, {\"time_seconds\": 155, \"side\": \"high\", \"variable\": 15, \"value\": -15.298126, \"time\": \"2023-02-04T20:02:35\"}, {\"time_seconds\": 155, \"side\": \"low\", \"variable\": 20, \"value\": -10.049408, \"time\": \"2023-02-04T20:02:35\"}, {\"time_seconds\": 155, \"side\": \"high\", \"variable\": 25, \"value\": -15.083588, \"time\": \"2023-02-04T20:02:35\"}, {\"time_seconds\": 155, \"side\": \"low\", \"variable\": 30, \"value\": -9.541565, \"time\": \"2023-02-04T20:02:35\"}, {\"time_seconds\": 155, \"side\": \"high\", \"variable\": 35, \"value\": -13.106323, \"time\": \"2023-02-04T20:02:35\"}, {\"time_seconds\": 160, \"side\": \"low\", \"variable\": 0, \"value\": -14.959869, \"time\": \"2023-02-04T20:02:40\"}, {\"time_seconds\": 160, \"side\": \"high\", \"variable\": 5, \"value\": -15.098541, \"time\": \"2023-02-04T20:02:40\"}, {\"time_seconds\": 160, \"side\": \"low\", \"variable\": 10, \"value\": -12.910858, \"time\": \"2023-02-04T20:02:40\"}, {\"time_seconds\": 160, \"side\": \"high\", \"variable\": 15, \"value\": -14.623993, \"time\": \"2023-02-04T20:02:40\"}, {\"time_seconds\": 160, \"side\": \"low\", \"variable\": 20, \"value\": -9.866821, \"time\": \"2023-02-04T20:02:40\"}, {\"time_seconds\": 160, \"side\": \"high\", \"variable\": 25, \"value\": -14.220551, \"time\": \"2023-02-04T20:02:40\"}, {\"time_seconds\": 160, \"side\": \"low\", \"variable\": 30, \"value\": -9.319794, \"time\": \"2023-02-04T20:02:40\"}, {\"time_seconds\": 160, \"side\": \"high\", \"variable\": 35, \"value\": -12.837219, \"time\": \"2023-02-04T20:02:40\"}, {\"time_seconds\": 165, \"side\": \"low\", \"variable\": 0, \"value\": -13.565308, \"time\": \"2023-02-04T20:02:45\"}, {\"time_seconds\": 165, \"side\": \"high\", \"variable\": 5, \"value\": -13.529449, \"time\": \"2023-02-04T20:02:45\"}, {\"time_seconds\": 165, \"side\": \"low\", \"variable\": 10, \"value\": -13.11673, \"time\": \"2023-02-04T20:02:45\"}, {\"time_seconds\": 165, \"side\": \"high\", \"variable\": 15, \"value\": -12.68454, \"time\": \"2023-02-04T20:02:45\"}, {\"time_seconds\": 165, \"side\": \"low\", \"variable\": 20, \"value\": -12.148071, \"time\": \"2023-02-04T20:02:45\"}, {\"time_seconds\": 165, \"side\": \"high\", \"variable\": 25, \"value\": -12.408813, \"time\": \"2023-02-04T20:02:45\"}, {\"time_seconds\": 165, \"side\": \"low\", \"variable\": 30, \"value\": -11.973663, \"time\": \"2023-02-04T20:02:45\"}, {\"time_seconds\": 165, \"side\": \"high\", \"variable\": 35, \"value\": -11.617981, \"time\": \"2023-02-04T20:02:45\"}, {\"time_seconds\": 170, \"side\": \"low\", \"variable\": 0, \"value\": -14.801208, \"time\": \"2023-02-04T20:02:50\"}, {\"time_seconds\": 170, \"side\": \"high\", \"variable\": 5, \"value\": -13.564148, \"time\": \"2023-02-04T20:02:50\"}, {\"time_seconds\": 170, \"side\": \"low\", \"variable\": 10, \"value\": -14.45575, \"time\": \"2023-02-04T20:02:50\"}, {\"time_seconds\": 170, \"side\": \"high\", \"variable\": 15, \"value\": -12.408295, \"time\": \"2023-02-04T20:02:50\"}, {\"time_seconds\": 170, \"side\": \"low\", \"variable\": 20, \"value\": -13.730408, \"time\": \"2023-02-04T20:02:50\"}, {\"time_seconds\": 170, \"side\": \"high\", \"variable\": 25, \"value\": -11.853638, \"time\": \"2023-02-04T20:02:50\"}, {\"time_seconds\": 170, \"side\": \"low\", \"variable\": 30, \"value\": -12.955353, \"time\": \"2023-02-04T20:02:50\"}, {\"time_seconds\": 170, \"side\": \"high\", \"variable\": 35, \"value\": -11.562317, \"time\": \"2023-02-04T20:02:50\"}, {\"time_seconds\": 175, \"side\": \"low\", \"variable\": 0, \"value\": -14.925079, \"time\": \"2023-02-04T20:02:55\"}, {\"time_seconds\": 175, \"side\": \"high\", \"variable\": 5, \"value\": -13.720154, \"time\": \"2023-02-04T20:02:55\"}, {\"time_seconds\": 175, \"side\": \"low\", \"variable\": 10, \"value\": -14.39566, \"time\": \"2023-02-04T20:02:55\"}, {\"time_seconds\": 175, \"side\": \"high\", \"variable\": 15, \"value\": -12.551575, \"time\": \"2023-02-04T20:02:55\"}, {\"time_seconds\": 175, \"side\": \"low\", \"variable\": 20, \"value\": -13.913055, \"time\": \"2023-02-04T20:02:55\"}, {\"time_seconds\": 175, \"side\": \"high\", \"variable\": 25, \"value\": -12.044952, \"time\": \"2023-02-04T20:02:55\"}, {\"time_seconds\": 175, \"side\": \"low\", \"variable\": 30, \"value\": -13.537262, \"time\": \"2023-02-04T20:02:55\"}, {\"time_seconds\": 175, \"side\": \"high\", \"variable\": 35, \"value\": -11.427856, \"time\": \"2023-02-04T20:02:55\"}, {\"time_seconds\": 180, \"side\": \"low\", \"variable\": 0, \"value\": -15.082123, \"time\": \"2023-02-04T20:03:00\"}, {\"time_seconds\": 180, \"side\": \"high\", \"variable\": 5, \"value\": -14.120148, \"time\": \"2023-02-04T20:03:00\"}, {\"time_seconds\": 180, \"side\": \"low\", \"variable\": 10, \"value\": -14.587341, \"time\": \"2023-02-04T20:03:00\"}, {\"time_seconds\": 180, \"side\": \"high\", \"variable\": 15, \"value\": -12.941498, \"time\": \"2023-02-04T20:03:00\"}, {\"time_seconds\": 180, \"side\": \"low\", \"variable\": 20, \"value\": -14.178436, \"time\": \"2023-02-04T20:03:00\"}, {\"time_seconds\": 180, \"side\": \"high\", \"variable\": 25, \"value\": -12.016144, \"time\": \"2023-02-04T20:03:00\"}, {\"time_seconds\": 180, \"side\": \"low\", \"variable\": 30, \"value\": -13.904449, \"time\": \"2023-02-04T20:03:00\"}, {\"time_seconds\": 180, \"side\": \"high\", \"variable\": 35, \"value\": -11.540894, \"time\": \"2023-02-04T20:03:00\"}, {\"time_seconds\": 185, \"side\": \"low\", \"variable\": 0, \"value\": -16.592834, \"time\": \"2023-02-04T20:03:05\"}, {\"time_seconds\": 185, \"side\": \"high\", \"variable\": 5, \"value\": -15.189941, \"time\": \"2023-02-04T20:03:05\"}, {\"time_seconds\": 185, \"side\": \"low\", \"variable\": 10, \"value\": -15.240997, \"time\": \"2023-02-04T20:03:05\"}, {\"time_seconds\": 185, \"side\": \"high\", \"variable\": 15, \"value\": -14.301331, \"time\": \"2023-02-04T20:03:05\"}, {\"time_seconds\": 185, \"side\": \"low\", \"variable\": 20, \"value\": -14.723663, \"time\": \"2023-02-04T20:03:05\"}, {\"time_seconds\": 185, \"side\": \"high\", \"variable\": 25, \"value\": -12.866699, \"time\": \"2023-02-04T20:03:05\"}, {\"time_seconds\": 185, \"side\": \"low\", \"variable\": 30, \"value\": -14.065125, \"time\": \"2023-02-04T20:03:05\"}, {\"time_seconds\": 185, \"side\": \"high\", \"variable\": 35, \"value\": -12.306152, \"time\": \"2023-02-04T20:03:05\"}, {\"time_seconds\": 190, \"side\": \"low\", \"variable\": 0, \"value\": -17.528671, \"time\": \"2023-02-04T20:03:10\"}, {\"time_seconds\": 190, \"side\": \"high\", \"variable\": 5, \"value\": -15.8302, \"time\": \"2023-02-04T20:03:10\"}, {\"time_seconds\": 190, \"side\": \"low\", \"variable\": 10, \"value\": -15.681183, \"time\": \"2023-02-04T20:03:10\"}, {\"time_seconds\": 190, \"side\": \"high\", \"variable\": 15, \"value\": -14.939819, \"time\": \"2023-02-04T20:03:10\"}, {\"time_seconds\": 190, \"side\": \"low\", \"variable\": 20, \"value\": -15.065979, \"time\": \"2023-02-04T20:03:10\"}, {\"time_seconds\": 190, \"side\": \"high\", \"variable\": 25, \"value\": -13.851318, \"time\": \"2023-02-04T20:03:10\"}, {\"time_seconds\": 190, \"side\": \"low\", \"variable\": 30, \"value\": -14.448761, \"time\": \"2023-02-04T20:03:10\"}, {\"time_seconds\": 190, \"side\": \"high\", \"variable\": 35, \"value\": -12.990021, \"time\": \"2023-02-04T20:03:10\"}, {\"time_seconds\": 195, \"side\": \"low\", \"variable\": 0, \"value\": -17.525238, \"time\": \"2023-02-04T20:03:15\"}, {\"time_seconds\": 195, \"side\": \"high\", \"variable\": 5, \"value\": -15.889893, \"time\": \"2023-02-04T20:03:15\"}, {\"time_seconds\": 195, \"side\": \"low\", \"variable\": 10, \"value\": -15.41922, \"time\": \"2023-02-04T20:03:15\"}, {\"time_seconds\": 195, \"side\": \"high\", \"variable\": 15, \"value\": -14.820892, \"time\": \"2023-02-04T20:03:15\"}, {\"time_seconds\": 195, \"side\": \"low\", \"variable\": 20, \"value\": -14.878296, \"time\": \"2023-02-04T20:03:15\"}, {\"time_seconds\": 195, \"side\": \"high\", \"variable\": 25, \"value\": -13.934418, \"time\": \"2023-02-04T20:03:15\"}, {\"time_seconds\": 195, \"side\": \"low\", \"variable\": 30, \"value\": -14.580444, \"time\": \"2023-02-04T20:03:15\"}, {\"time_seconds\": 195, \"side\": \"high\", \"variable\": 35, \"value\": -12.826263, \"time\": \"2023-02-04T20:03:15\"}, {\"time_seconds\": 200, \"side\": \"low\", \"variable\": 0, \"value\": -17.516174, \"time\": \"2023-02-04T20:03:20\"}, {\"time_seconds\": 200, \"side\": \"high\", \"variable\": 5, \"value\": -15.765564, \"time\": \"2023-02-04T20:03:20\"}, {\"time_seconds\": 200, \"side\": \"low\", \"variable\": 10, \"value\": -15.511505, \"time\": \"2023-02-04T20:03:20\"}, {\"time_seconds\": 200, \"side\": \"high\", \"variable\": 15, \"value\": -14.754547, \"time\": \"2023-02-04T20:03:20\"}, {\"time_seconds\": 200, \"side\": \"low\", \"variable\": 20, \"value\": -14.962524, \"time\": \"2023-02-04T20:03:20\"}, {\"time_seconds\": 200, \"side\": \"high\", \"variable\": 25, \"value\": -13.633026, \"time\": \"2023-02-04T20:03:20\"}, {\"time_seconds\": 200, \"side\": \"low\", \"variable\": 30, \"value\": -14.694733, \"time\": \"2023-02-04T20:03:20\"}, {\"time_seconds\": 200, \"side\": \"high\", \"variable\": 35, \"value\": -12.560669, \"time\": \"2023-02-04T20:03:20\"}, {\"time_seconds\": 205, \"side\": \"low\", \"variable\": 0, \"value\": -17.605758, \"time\": \"2023-02-04T20:03:25\"}, {\"time_seconds\": 205, \"side\": \"high\", \"variable\": 5, \"value\": -15.768097, \"time\": \"2023-02-04T20:03:25\"}, {\"time_seconds\": 205, \"side\": \"low\", \"variable\": 10, \"value\": -15.078735, \"time\": \"2023-02-04T20:03:25\"}, {\"time_seconds\": 205, \"side\": \"high\", \"variable\": 15, \"value\": -14.772095, \"time\": \"2023-02-04T20:03:25\"}, {\"time_seconds\": 205, \"side\": \"low\", \"variable\": 20, \"value\": -14.446625, \"time\": \"2023-02-04T20:03:25\"}, {\"time_seconds\": 205, \"side\": \"high\", \"variable\": 25, \"value\": -13.450256, \"time\": \"2023-02-04T20:03:25\"}, {\"time_seconds\": 205, \"side\": \"low\", \"variable\": 30, \"value\": -13.906311, \"time\": \"2023-02-04T20:03:25\"}, {\"time_seconds\": 205, \"side\": \"high\", \"variable\": 35, \"value\": -12.285492, \"time\": \"2023-02-04T20:03:25\"}, {\"time_seconds\": 210, \"side\": \"low\", \"variable\": 0, \"value\": -17.637405, \"time\": \"2023-02-04T20:03:30\"}, {\"time_seconds\": 210, \"side\": \"high\", \"variable\": 5, \"value\": -15.663757, \"time\": \"2023-02-04T20:03:30\"}, {\"time_seconds\": 210, \"side\": \"low\", \"variable\": 10, \"value\": -15.129456, \"time\": \"2023-02-04T20:03:30\"}, {\"time_seconds\": 210, \"side\": \"high\", \"variable\": 15, \"value\": -14.594269, \"time\": \"2023-02-04T20:03:30\"}, {\"time_seconds\": 210, \"side\": \"low\", \"variable\": 20, \"value\": -14.488586, \"time\": \"2023-02-04T20:03:30\"}, {\"time_seconds\": 210, \"side\": \"high\", \"variable\": 25, \"value\": -13.525543, \"time\": \"2023-02-04T20:03:30\"}, {\"time_seconds\": 210, \"side\": \"low\", \"variable\": 30, \"value\": -14.062164, \"time\": \"2023-02-04T20:03:30\"}, {\"time_seconds\": 210, \"side\": \"high\", \"variable\": 35, \"value\": -12.663666, \"time\": \"2023-02-04T20:03:30\"}]}}, {\"mode\": \"vega-lite\"});\n",
       "</script>"
      ],
      "text/plain": [
       "alt.Chart(...)"
      ]
     },
     "execution_count": 29,
     "metadata": {},
     "output_type": "execute_result"
    }
   ],
   "source": [
    "alt.Chart(df).transform_window(\n",
    "    rolling_mean='mean(value)',\n",
    "    frame=[1,1],\n",
    "    groupby=['variable']\n",
    ").mark_line().encode(\n",
    "    alt.X('time:T', title=\"Time (s)\"),\n",
    "    alt.Y('rolling_mean:Q', scale=alt.Scale(zero=False), title=\"Temperature (˚C)\"),\n",
    "    alt.Color('variable:O', scale = alt.Scale(scheme='viridis'), title=['Height above', 'snow (mm)'])\n",
    ").properties(width=300, height=150, title = df['time'].dt.date.iloc[0].strftime(\"%Y-%m-%d\"))"
   ]
  },
  {
   "cell_type": "markdown",
   "metadata": {},
   "source": [
    "### isolate data we want"
   ]
  },
  {
   "cell_type": "code",
   "execution_count": 30,
   "metadata": {},
   "outputs": [],
   "source": [
    "df = df[\n",
    "    df['time'].dt.minute >= 3\n",
    "]\n",
    "df = df[\n",
    "    df['time'].dt.second >= 15\n",
    "]"
   ]
  },
  {
   "cell_type": "code",
   "execution_count": 31,
   "metadata": {},
   "outputs": [
    {
     "data": {
      "text/html": [
       "\n",
       "<style>\n",
       "  #altair-viz-b495801d79f5440eb722fbbf00b9fb89.vega-embed {\n",
       "    width: 100%;\n",
       "    display: flex;\n",
       "  }\n",
       "\n",
       "  #altair-viz-b495801d79f5440eb722fbbf00b9fb89.vega-embed details,\n",
       "  #altair-viz-b495801d79f5440eb722fbbf00b9fb89.vega-embed details summary {\n",
       "    position: relative;\n",
       "  }\n",
       "</style>\n",
       "<div id=\"altair-viz-b495801d79f5440eb722fbbf00b9fb89\"></div>\n",
       "<script type=\"text/javascript\">\n",
       "  var VEGA_DEBUG = (typeof VEGA_DEBUG == \"undefined\") ? {} : VEGA_DEBUG;\n",
       "  (function(spec, embedOpt){\n",
       "    let outputDiv = document.currentScript.previousElementSibling;\n",
       "    if (outputDiv.id !== \"altair-viz-b495801d79f5440eb722fbbf00b9fb89\") {\n",
       "      outputDiv = document.getElementById(\"altair-viz-b495801d79f5440eb722fbbf00b9fb89\");\n",
       "    }\n",
       "    const paths = {\n",
       "      \"vega\": \"https://cdn.jsdelivr.net/npm/vega@5?noext\",\n",
       "      \"vega-lib\": \"https://cdn.jsdelivr.net/npm/vega-lib?noext\",\n",
       "      \"vega-lite\": \"https://cdn.jsdelivr.net/npm/vega-lite@5.8.0?noext\",\n",
       "      \"vega-embed\": \"https://cdn.jsdelivr.net/npm/vega-embed@6?noext\",\n",
       "    };\n",
       "\n",
       "    function maybeLoadScript(lib, version) {\n",
       "      var key = `${lib.replace(\"-\", \"\")}_version`;\n",
       "      return (VEGA_DEBUG[key] == version) ?\n",
       "        Promise.resolve(paths[lib]) :\n",
       "        new Promise(function(resolve, reject) {\n",
       "          var s = document.createElement('script');\n",
       "          document.getElementsByTagName(\"head\")[0].appendChild(s);\n",
       "          s.async = true;\n",
       "          s.onload = () => {\n",
       "            VEGA_DEBUG[key] = version;\n",
       "            return resolve(paths[lib]);\n",
       "          };\n",
       "          s.onerror = () => reject(`Error loading script: ${paths[lib]}`);\n",
       "          s.src = paths[lib];\n",
       "        });\n",
       "    }\n",
       "\n",
       "    function showError(err) {\n",
       "      outputDiv.innerHTML = `<div class=\"error\" style=\"color:red;\">${err}</div>`;\n",
       "      throw err;\n",
       "    }\n",
       "\n",
       "    function displayChart(vegaEmbed) {\n",
       "      vegaEmbed(outputDiv, spec, embedOpt)\n",
       "        .catch(err => showError(`Javascript Error: ${err.message}<br>This usually means there's a typo in your chart specification. See the javascript console for the full traceback.`));\n",
       "    }\n",
       "\n",
       "    if(typeof define === \"function\" && define.amd) {\n",
       "      requirejs.config({paths});\n",
       "      require([\"vega-embed\"], displayChart, err => showError(`Error loading script: ${err.message}`));\n",
       "    } else {\n",
       "      maybeLoadScript(\"vega\", \"5\")\n",
       "        .then(() => maybeLoadScript(\"vega-lite\", \"5.8.0\"))\n",
       "        .then(() => maybeLoadScript(\"vega-embed\", \"6\"))\n",
       "        .catch(showError)\n",
       "        .then(() => displayChart(vegaEmbed));\n",
       "    }\n",
       "  })({\"config\": {\"view\": {\"continuousWidth\": 300, \"continuousHeight\": 300}}, \"data\": {\"name\": \"data-42afd15dba7ec153ff755783f197e5d7\"}, \"mark\": {\"type\": \"line\"}, \"encoding\": {\"color\": {\"field\": \"variable\", \"scale\": {\"scheme\": \"viridis\"}, \"title\": [\"Height above\", \"snow (mm)\"], \"type\": \"ordinal\"}, \"x\": {\"field\": \"time\", \"title\": \"Time (s)\", \"type\": \"temporal\"}, \"y\": {\"field\": \"rolling_mean\", \"scale\": {\"zero\": false}, \"title\": \"Temperature (\\u02daC)\", \"type\": \"quantitative\"}}, \"height\": 150, \"title\": \"2023-02-04\", \"transform\": [{\"window\": [{\"op\": \"mean\", \"field\": \"value\", \"as\": \"rolling_mean\"}], \"frame\": [1, 1], \"groupby\": [\"variable\"]}], \"width\": 300, \"$schema\": \"https://vega.github.io/schema/vega-lite/v5.8.0.json\", \"datasets\": {\"data-42afd15dba7ec153ff755783f197e5d7\": [{\"time_seconds\": 195, \"side\": \"low\", \"variable\": 0, \"value\": -17.525238, \"time\": \"2023-02-04T20:03:15\"}, {\"time_seconds\": 195, \"side\": \"high\", \"variable\": 5, \"value\": -15.889893, \"time\": \"2023-02-04T20:03:15\"}, {\"time_seconds\": 195, \"side\": \"low\", \"variable\": 10, \"value\": -15.41922, \"time\": \"2023-02-04T20:03:15\"}, {\"time_seconds\": 195, \"side\": \"high\", \"variable\": 15, \"value\": -14.820892, \"time\": \"2023-02-04T20:03:15\"}, {\"time_seconds\": 195, \"side\": \"low\", \"variable\": 20, \"value\": -14.878296, \"time\": \"2023-02-04T20:03:15\"}, {\"time_seconds\": 195, \"side\": \"high\", \"variable\": 25, \"value\": -13.934418, \"time\": \"2023-02-04T20:03:15\"}, {\"time_seconds\": 195, \"side\": \"low\", \"variable\": 30, \"value\": -14.580444, \"time\": \"2023-02-04T20:03:15\"}, {\"time_seconds\": 195, \"side\": \"high\", \"variable\": 35, \"value\": -12.826263, \"time\": \"2023-02-04T20:03:15\"}, {\"time_seconds\": 200, \"side\": \"low\", \"variable\": 0, \"value\": -17.516174, \"time\": \"2023-02-04T20:03:20\"}, {\"time_seconds\": 200, \"side\": \"high\", \"variable\": 5, \"value\": -15.765564, \"time\": \"2023-02-04T20:03:20\"}, {\"time_seconds\": 200, \"side\": \"low\", \"variable\": 10, \"value\": -15.511505, \"time\": \"2023-02-04T20:03:20\"}, {\"time_seconds\": 200, \"side\": \"high\", \"variable\": 15, \"value\": -14.754547, \"time\": \"2023-02-04T20:03:20\"}, {\"time_seconds\": 200, \"side\": \"low\", \"variable\": 20, \"value\": -14.962524, \"time\": \"2023-02-04T20:03:20\"}, {\"time_seconds\": 200, \"side\": \"high\", \"variable\": 25, \"value\": -13.633026, \"time\": \"2023-02-04T20:03:20\"}, {\"time_seconds\": 200, \"side\": \"low\", \"variable\": 30, \"value\": -14.694733, \"time\": \"2023-02-04T20:03:20\"}, {\"time_seconds\": 200, \"side\": \"high\", \"variable\": 35, \"value\": -12.560669, \"time\": \"2023-02-04T20:03:20\"}, {\"time_seconds\": 205, \"side\": \"low\", \"variable\": 0, \"value\": -17.605758, \"time\": \"2023-02-04T20:03:25\"}, {\"time_seconds\": 205, \"side\": \"high\", \"variable\": 5, \"value\": -15.768097, \"time\": \"2023-02-04T20:03:25\"}, {\"time_seconds\": 205, \"side\": \"low\", \"variable\": 10, \"value\": -15.078735, \"time\": \"2023-02-04T20:03:25\"}, {\"time_seconds\": 205, \"side\": \"high\", \"variable\": 15, \"value\": -14.772095, \"time\": \"2023-02-04T20:03:25\"}, {\"time_seconds\": 205, \"side\": \"low\", \"variable\": 20, \"value\": -14.446625, \"time\": \"2023-02-04T20:03:25\"}, {\"time_seconds\": 205, \"side\": \"high\", \"variable\": 25, \"value\": -13.450256, \"time\": \"2023-02-04T20:03:25\"}, {\"time_seconds\": 205, \"side\": \"low\", \"variable\": 30, \"value\": -13.906311, \"time\": \"2023-02-04T20:03:25\"}, {\"time_seconds\": 205, \"side\": \"high\", \"variable\": 35, \"value\": -12.285492, \"time\": \"2023-02-04T20:03:25\"}, {\"time_seconds\": 210, \"side\": \"low\", \"variable\": 0, \"value\": -17.637405, \"time\": \"2023-02-04T20:03:30\"}, {\"time_seconds\": 210, \"side\": \"high\", \"variable\": 5, \"value\": -15.663757, \"time\": \"2023-02-04T20:03:30\"}, {\"time_seconds\": 210, \"side\": \"low\", \"variable\": 10, \"value\": -15.129456, \"time\": \"2023-02-04T20:03:30\"}, {\"time_seconds\": 210, \"side\": \"high\", \"variable\": 15, \"value\": -14.594269, \"time\": \"2023-02-04T20:03:30\"}, {\"time_seconds\": 210, \"side\": \"low\", \"variable\": 20, \"value\": -14.488586, \"time\": \"2023-02-04T20:03:30\"}, {\"time_seconds\": 210, \"side\": \"high\", \"variable\": 25, \"value\": -13.525543, \"time\": \"2023-02-04T20:03:30\"}, {\"time_seconds\": 210, \"side\": \"low\", \"variable\": 30, \"value\": -14.062164, \"time\": \"2023-02-04T20:03:30\"}, {\"time_seconds\": 210, \"side\": \"high\", \"variable\": 35, \"value\": -12.663666, \"time\": \"2023-02-04T20:03:30\"}]}}, {\"mode\": \"vega-lite\"});\n",
       "</script>"
      ],
      "text/plain": [
       "alt.Chart(...)"
      ]
     },
     "execution_count": 31,
     "metadata": {},
     "output_type": "execute_result"
    }
   ],
   "source": [
    "alt.Chart(df).transform_window(\n",
    "    rolling_mean='mean(value)',\n",
    "    frame=[1,1],\n",
    "    groupby=['variable']\n",
    ").mark_line().encode(\n",
    "    alt.X('time:T', title=\"Time (s)\"),\n",
    "    alt.Y('rolling_mean:Q', scale=alt.Scale(zero=False), title=\"Temperature (˚C)\"),\n",
    "    alt.Color('variable:O', scale = alt.Scale(scheme='viridis'), title=['Height above', 'snow (mm)'])\n",
    ").properties(width=300, height=150, title = df['time'].dt.date.iloc[0].strftime(\"%Y-%m-%d\"))"
   ]
  },
  {
   "cell_type": "code",
   "execution_count": 32,
   "metadata": {},
   "outputs": [
    {
     "name": "stderr",
     "output_type": "stream",
     "text": [
      "/tmp/ipykernel_134814/2036651066.py:1: FutureWarning: The default value of numeric_only in DataFrameGroupBy.mean is deprecated. In a future version, numeric_only will default to False. Either specify numeric_only or select only columns which should be valid for the function.\n",
      "  src = df.groupby(\"variable\").mean().reset_index()\n"
     ]
    },
    {
     "data": {
      "text/html": [
       "\n",
       "<style>\n",
       "  #altair-viz-68d8b56aba2445ab964f1a7e39eedf53.vega-embed {\n",
       "    width: 100%;\n",
       "    display: flex;\n",
       "  }\n",
       "\n",
       "  #altair-viz-68d8b56aba2445ab964f1a7e39eedf53.vega-embed details,\n",
       "  #altair-viz-68d8b56aba2445ab964f1a7e39eedf53.vega-embed details summary {\n",
       "    position: relative;\n",
       "  }\n",
       "</style>\n",
       "<div id=\"altair-viz-68d8b56aba2445ab964f1a7e39eedf53\"></div>\n",
       "<script type=\"text/javascript\">\n",
       "  var VEGA_DEBUG = (typeof VEGA_DEBUG == \"undefined\") ? {} : VEGA_DEBUG;\n",
       "  (function(spec, embedOpt){\n",
       "    let outputDiv = document.currentScript.previousElementSibling;\n",
       "    if (outputDiv.id !== \"altair-viz-68d8b56aba2445ab964f1a7e39eedf53\") {\n",
       "      outputDiv = document.getElementById(\"altair-viz-68d8b56aba2445ab964f1a7e39eedf53\");\n",
       "    }\n",
       "    const paths = {\n",
       "      \"vega\": \"https://cdn.jsdelivr.net/npm/vega@5?noext\",\n",
       "      \"vega-lib\": \"https://cdn.jsdelivr.net/npm/vega-lib?noext\",\n",
       "      \"vega-lite\": \"https://cdn.jsdelivr.net/npm/vega-lite@5.8.0?noext\",\n",
       "      \"vega-embed\": \"https://cdn.jsdelivr.net/npm/vega-embed@6?noext\",\n",
       "    };\n",
       "\n",
       "    function maybeLoadScript(lib, version) {\n",
       "      var key = `${lib.replace(\"-\", \"\")}_version`;\n",
       "      return (VEGA_DEBUG[key] == version) ?\n",
       "        Promise.resolve(paths[lib]) :\n",
       "        new Promise(function(resolve, reject) {\n",
       "          var s = document.createElement('script');\n",
       "          document.getElementsByTagName(\"head\")[0].appendChild(s);\n",
       "          s.async = true;\n",
       "          s.onload = () => {\n",
       "            VEGA_DEBUG[key] = version;\n",
       "            return resolve(paths[lib]);\n",
       "          };\n",
       "          s.onerror = () => reject(`Error loading script: ${paths[lib]}`);\n",
       "          s.src = paths[lib];\n",
       "        });\n",
       "    }\n",
       "\n",
       "    function showError(err) {\n",
       "      outputDiv.innerHTML = `<div class=\"error\" style=\"color:red;\">${err}</div>`;\n",
       "      throw err;\n",
       "    }\n",
       "\n",
       "    function displayChart(vegaEmbed) {\n",
       "      vegaEmbed(outputDiv, spec, embedOpt)\n",
       "        .catch(err => showError(`Javascript Error: ${err.message}<br>This usually means there's a typo in your chart specification. See the javascript console for the full traceback.`));\n",
       "    }\n",
       "\n",
       "    if(typeof define === \"function\" && define.amd) {\n",
       "      requirejs.config({paths});\n",
       "      require([\"vega-embed\"], displayChart, err => showError(`Error loading script: ${err.message}`));\n",
       "    } else {\n",
       "      maybeLoadScript(\"vega\", \"5\")\n",
       "        .then(() => maybeLoadScript(\"vega-lite\", \"5.8.0\"))\n",
       "        .then(() => maybeLoadScript(\"vega-embed\", \"6\"))\n",
       "        .catch(showError)\n",
       "        .then(() => displayChart(vegaEmbed));\n",
       "    }\n",
       "  })({\"config\": {\"view\": {\"continuousWidth\": 300, \"continuousHeight\": 300}}, \"data\": {\"name\": \"data-9b16a49e57c43c7b7d12dac1dd0c0453\"}, \"mark\": {\"type\": \"line\", \"point\": true}, \"encoding\": {\"x\": {\"field\": \"value\", \"sort\": \"-y\", \"title\": \"Temperature (\\u02daC)\", \"type\": \"quantitative\"}, \"y\": {\"field\": \"variable\", \"title\": \"Height above snow (mm)\", \"type\": \"quantitative\"}}, \"height\": 200, \"width\": 100, \"$schema\": \"https://vega.github.io/schema/vega-lite/v5.8.0.json\", \"datasets\": {\"data-9b16a49e57c43c7b7d12dac1dd0c0453\": [{\"variable\": 0, \"time_seconds\": 202.5, \"value\": -17.57114375}, {\"variable\": 5, \"time_seconds\": 202.5, \"value\": -15.77182775}, {\"variable\": 10, \"time_seconds\": 202.5, \"value\": -15.284728999999999}, {\"variable\": 15, \"time_seconds\": 202.5, \"value\": -14.73545075}, {\"variable\": 20, \"time_seconds\": 202.5, \"value\": -14.69400775}, {\"variable\": 25, \"time_seconds\": 202.5, \"value\": -13.635810750000001}, {\"variable\": 30, \"time_seconds\": 202.5, \"value\": -14.310913}, {\"variable\": 35, \"time_seconds\": 202.5, \"value\": -12.5840225}]}}, {\"mode\": \"vega-lite\"});\n",
       "</script>"
      ],
      "text/plain": [
       "alt.Chart(...)"
      ]
     },
     "execution_count": 32,
     "metadata": {},
     "output_type": "execute_result"
    }
   ],
   "source": [
    "src = df.groupby(\"variable\").mean().reset_index()\n",
    "alt.Chart(src).mark_line(point=True).encode(\n",
    "    alt.X('value:Q', sort='-y', title='Temperature (˚C)'),\n",
    "    alt.Y('variable:Q', title='Height above snow (mm)')\n",
    ").properties(width=100, height=200)"
   ]
  },
  {
   "cell_type": "code",
   "execution_count": 33,
   "metadata": {},
   "outputs": [],
   "source": [
    "temp_profile_5mm = src.copy()"
   ]
  },
  {
   "cell_type": "markdown",
   "metadata": {},
   "source": [
    "# Extract an overlapping timespan from the SoS dataset and the Temperature variables."
   ]
  },
  {
   "cell_type": "code",
   "execution_count": 34,
   "metadata": {},
   "outputs": [
    {
     "name": "stderr",
     "output_type": "stream",
     "text": [
      "/tmp/ipykernel_134814/459019590.py:1: UserWarning: Boolean Series key will be reindexed to match DataFrame index.\n",
      "  kps_data = tidy_df_5Min[\n"
     ]
    }
   ],
   "source": [
    "kps_data = tidy_df_5Min[\n",
    "    tidy_df_5Min.measurement.isin([\n",
    "        'temperature', 'surface temperature', 'snow temperature', \n",
    "    ])\n",
    "][\n",
    "    (tidy_df_5Min.time == '2023-02-04 20:02:30') | (tidy_df_5Min.time == '2023-02-04 19:57:30')\n",
    "]"
   ]
  },
  {
   "cell_type": "markdown",
   "metadata": {},
   "source": [
    "# Figure out which sensors are above the snow...if there are any..."
   ]
  },
  {
   "cell_type": "code",
   "execution_count": 35,
   "metadata": {},
   "outputs": [
    {
     "data": {
      "text/html": [
       "\n",
       "<style>\n",
       "  #altair-viz-f867927916ec407b99ba0075508eeba3.vega-embed {\n",
       "    width: 100%;\n",
       "    display: flex;\n",
       "  }\n",
       "\n",
       "  #altair-viz-f867927916ec407b99ba0075508eeba3.vega-embed details,\n",
       "  #altair-viz-f867927916ec407b99ba0075508eeba3.vega-embed details summary {\n",
       "    position: relative;\n",
       "  }\n",
       "</style>\n",
       "<div id=\"altair-viz-f867927916ec407b99ba0075508eeba3\"></div>\n",
       "<script type=\"text/javascript\">\n",
       "  var VEGA_DEBUG = (typeof VEGA_DEBUG == \"undefined\") ? {} : VEGA_DEBUG;\n",
       "  (function(spec, embedOpt){\n",
       "    let outputDiv = document.currentScript.previousElementSibling;\n",
       "    if (outputDiv.id !== \"altair-viz-f867927916ec407b99ba0075508eeba3\") {\n",
       "      outputDiv = document.getElementById(\"altair-viz-f867927916ec407b99ba0075508eeba3\");\n",
       "    }\n",
       "    const paths = {\n",
       "      \"vega\": \"https://cdn.jsdelivr.net/npm/vega@5?noext\",\n",
       "      \"vega-lib\": \"https://cdn.jsdelivr.net/npm/vega-lib?noext\",\n",
       "      \"vega-lite\": \"https://cdn.jsdelivr.net/npm/vega-lite@5.8.0?noext\",\n",
       "      \"vega-embed\": \"https://cdn.jsdelivr.net/npm/vega-embed@6?noext\",\n",
       "    };\n",
       "\n",
       "    function maybeLoadScript(lib, version) {\n",
       "      var key = `${lib.replace(\"-\", \"\")}_version`;\n",
       "      return (VEGA_DEBUG[key] == version) ?\n",
       "        Promise.resolve(paths[lib]) :\n",
       "        new Promise(function(resolve, reject) {\n",
       "          var s = document.createElement('script');\n",
       "          document.getElementsByTagName(\"head\")[0].appendChild(s);\n",
       "          s.async = true;\n",
       "          s.onload = () => {\n",
       "            VEGA_DEBUG[key] = version;\n",
       "            return resolve(paths[lib]);\n",
       "          };\n",
       "          s.onerror = () => reject(`Error loading script: ${paths[lib]}`);\n",
       "          s.src = paths[lib];\n",
       "        });\n",
       "    }\n",
       "\n",
       "    function showError(err) {\n",
       "      outputDiv.innerHTML = `<div class=\"error\" style=\"color:red;\">${err}</div>`;\n",
       "      throw err;\n",
       "    }\n",
       "\n",
       "    function displayChart(vegaEmbed) {\n",
       "      vegaEmbed(outputDiv, spec, embedOpt)\n",
       "        .catch(err => showError(`Javascript Error: ${err.message}<br>This usually means there's a typo in your chart specification. See the javascript console for the full traceback.`));\n",
       "    }\n",
       "\n",
       "    if(typeof define === \"function\" && define.amd) {\n",
       "      requirejs.config({paths});\n",
       "      require([\"vega-embed\"], displayChart, err => showError(`Error loading script: ${err.message}`));\n",
       "    } else {\n",
       "      maybeLoadScript(\"vega\", \"5\")\n",
       "        .then(() => maybeLoadScript(\"vega-lite\", \"5.8.0\"))\n",
       "        .then(() => maybeLoadScript(\"vega-embed\", \"6\"))\n",
       "        .catch(showError)\n",
       "        .then(() => displayChart(vegaEmbed));\n",
       "    }\n",
       "  })({\"config\": {\"view\": {\"continuousWidth\": 300, \"continuousHeight\": 300}}, \"data\": {\"name\": \"data-7033710a4b8a10946ce2020272fc526f\"}, \"mark\": {\"type\": \"line\"}, \"encoding\": {\"color\": {\"field\": \"height\", \"scale\": {\"scheme\": \"turbo\"}, \"type\": \"ordinal\"}, \"row\": {\"field\": \"tower\", \"type\": \"nominal\"}, \"x\": {\"field\": \"time\", \"type\": \"temporal\"}, \"y\": {\"field\": \"value\", \"title\": \"Temperature (\\u02daC)\", \"type\": \"quantitative\"}}, \"height\": 150, \"width\": 500, \"$schema\": \"https://vega.github.io/schema/vega-lite/v5.8.0.json\", \"datasets\": {\"data-7033710a4b8a10946ce2020272fc526f\": [{\"time\": \"2023-02-04T19:57:30\", \"variable\": \"Tsnow_1_3m_d\", \"value\": -10.660798072814941, \"height\": 1.3, \"tower\": \"d\", \"measurement\": \"snow temperature\"}, {\"time\": \"2023-02-04T20:02:30\", \"variable\": \"Tsnow_1_3m_d\", \"value\": -11.967844009399414, \"height\": 1.3, \"tower\": \"d\", \"measurement\": \"snow temperature\"}, {\"time\": \"2023-02-04T19:57:30\", \"variable\": \"Tsnow_0_5m_d\", \"value\": -4.449394702911377, \"height\": 0.5, \"tower\": \"d\", \"measurement\": \"snow temperature\"}, {\"time\": \"2023-02-04T20:02:30\", \"variable\": \"Tsnow_0_5m_d\", \"value\": -4.449209213256836, \"height\": 0.5, \"tower\": \"d\", \"measurement\": \"snow temperature\"}, {\"time\": \"2023-02-04T19:57:30\", \"variable\": \"Tsnow_0_5m_uw\", \"value\": -3.3605880737304688, \"height\": 0.5, \"tower\": \"uw\", \"measurement\": \"snow temperature\"}, {\"time\": \"2023-02-04T20:02:30\", \"variable\": \"Tsnow_0_5m_uw\", \"value\": -3.3607938289642334, \"height\": 0.5, \"tower\": \"uw\", \"measurement\": \"snow temperature\"}, {\"time\": \"2023-02-04T19:57:30\", \"variable\": \"Tsnow_1_4m_d\", \"value\": -10.410013198852539, \"height\": 1.4, \"tower\": \"d\", \"measurement\": \"snow temperature\"}, {\"time\": \"2023-02-04T20:02:30\", \"variable\": \"Tsnow_1_4m_d\", \"value\": -11.631473541259766, \"height\": 1.4, \"tower\": \"d\", \"measurement\": \"snow temperature\"}, {\"time\": \"2023-02-04T19:57:30\", \"variable\": \"Tsnow_0_9m_d\", \"value\": -6.638936996459961, \"height\": 0.9, \"tower\": \"d\", \"measurement\": \"snow temperature\"}, {\"time\": \"2023-02-04T20:02:30\", \"variable\": \"Tsnow_0_9m_d\", \"value\": -6.6853203773498535, \"height\": 0.9, \"tower\": \"d\", \"measurement\": \"snow temperature\"}, {\"time\": \"2023-02-04T19:57:30\", \"variable\": \"Tsnow_1_2m_uw\", \"value\": -10.679985046386719, \"height\": 1.2, \"tower\": \"uw\", \"measurement\": \"snow temperature\"}, {\"time\": \"2023-02-04T20:02:30\", \"variable\": \"Tsnow_1_2m_uw\", \"value\": -10.937891006469727, \"height\": 1.2, \"tower\": \"uw\", \"measurement\": \"snow temperature\"}, {\"time\": \"2023-02-04T19:57:30\", \"variable\": \"Tsnow_0_9m_uw\", \"value\": -5.717282772064209, \"height\": 0.9, \"tower\": \"uw\", \"measurement\": \"snow temperature\"}, {\"time\": \"2023-02-04T20:02:30\", \"variable\": \"Tsnow_0_9m_uw\", \"value\": -5.745441913604736, \"height\": 0.9, \"tower\": \"uw\", \"measurement\": \"snow temperature\"}, {\"time\": \"2023-02-04T19:57:30\", \"variable\": \"Tsnow_0_8m_d\", \"value\": -5.83184289932251, \"height\": 0.8, \"tower\": \"d\", \"measurement\": \"snow temperature\"}, {\"time\": \"2023-02-04T20:02:30\", \"variable\": \"Tsnow_0_8m_d\", \"value\": -5.845912933349609, \"height\": 0.8, \"tower\": \"d\", \"measurement\": \"snow temperature\"}, {\"time\": \"2023-02-04T19:57:30\", \"variable\": \"Tsnow_0_8m_uw\", \"value\": -5.037376403808594, \"height\": 0.8, \"tower\": \"uw\", \"measurement\": \"snow temperature\"}, {\"time\": \"2023-02-04T20:02:30\", \"variable\": \"Tsnow_0_8m_uw\", \"value\": -5.046267032623291, \"height\": 0.8, \"tower\": \"uw\", \"measurement\": \"snow temperature\"}, {\"time\": \"2023-02-04T19:57:30\", \"variable\": \"Tsnow_1_5m_uw\", \"value\": -11.967044830322266, \"height\": 1.5, \"tower\": \"uw\", \"measurement\": \"snow temperature\"}, {\"time\": \"2023-02-04T20:02:30\", \"variable\": \"Tsnow_1_5m_uw\", \"value\": -12.571782112121582, \"height\": 1.5, \"tower\": \"uw\", \"measurement\": \"snow temperature\"}, {\"time\": \"2023-02-04T19:57:30\", \"variable\": \"Tsnow_1_0m_uw\", \"value\": -6.3707170486450195, \"height\": 1.0, \"tower\": \"uw\", \"measurement\": \"snow temperature\"}, {\"time\": \"2023-02-04T20:02:30\", \"variable\": \"Tsnow_1_0m_uw\", \"value\": -6.41175651550293, \"height\": 1.0, \"tower\": \"uw\", \"measurement\": \"snow temperature\"}, {\"time\": \"2023-02-04T19:57:30\", \"variable\": \"Tsnow_1_0m_d\", \"value\": -13.304089546203613, \"height\": 1.0, \"tower\": \"d\", \"measurement\": \"snow temperature\"}, {\"time\": \"2023-02-04T20:02:30\", \"variable\": \"Tsnow_1_0m_d\", \"value\": -13.296228408813477, \"height\": 1.0, \"tower\": \"d\", \"measurement\": \"snow temperature\"}, {\"time\": \"2023-02-04T19:57:30\", \"variable\": \"Tsnow_0_7m_uw\", \"value\": -4.23906946182251, \"height\": 0.7, \"tower\": \"uw\", \"measurement\": \"snow temperature\"}, {\"time\": \"2023-02-04T20:02:30\", \"variable\": \"Tsnow_0_7m_uw\", \"value\": -4.239891052246094, \"height\": 0.7, \"tower\": \"uw\", \"measurement\": \"snow temperature\"}, {\"time\": \"2023-02-04T19:57:30\", \"variable\": \"Tsnow_1_2m_d\", \"value\": -11.14405632019043, \"height\": 1.2, \"tower\": \"d\", \"measurement\": \"snow temperature\"}, {\"time\": \"2023-02-04T20:02:30\", \"variable\": \"Tsnow_1_2m_d\", \"value\": -12.47557258605957, \"height\": 1.2, \"tower\": \"d\", \"measurement\": \"snow temperature\"}, {\"time\": \"2023-02-04T19:57:30\", \"variable\": \"Tsnow_1_3m_uw\", \"value\": -13.668779373168945, \"height\": 1.3, \"tower\": \"uw\", \"measurement\": \"snow temperature\"}, {\"time\": \"2023-02-04T20:02:30\", \"variable\": \"Tsnow_1_3m_uw\", \"value\": -14.324801445007324, \"height\": 1.3, \"tower\": \"uw\", \"measurement\": \"snow temperature\"}, {\"time\": \"2023-02-04T19:57:30\", \"variable\": \"Tsnow_0_4m_d\", \"value\": -3.6520633697509766, \"height\": 0.4, \"tower\": \"d\", \"measurement\": \"snow temperature\"}, {\"time\": \"2023-02-04T20:02:30\", \"variable\": \"Tsnow_0_4m_d\", \"value\": -3.6520776748657227, \"height\": 0.4, \"tower\": \"d\", \"measurement\": \"snow temperature\"}, {\"time\": \"2023-02-04T19:57:30\", \"variable\": \"Tsnow_0_6m_uw\", \"value\": -3.528768301010132, \"height\": 0.6, \"tower\": \"uw\", \"measurement\": \"snow temperature\"}, {\"time\": \"2023-02-04T20:02:30\", \"variable\": \"Tsnow_0_6m_uw\", \"value\": -3.5308244228363037, \"height\": 0.6, \"tower\": \"uw\", \"measurement\": \"snow temperature\"}, {\"time\": \"2023-02-04T19:57:30\", \"variable\": \"Tsnow_0_7m_d\", \"value\": -5.662740230560303, \"height\": 0.7, \"tower\": \"d\", \"measurement\": \"snow temperature\"}, {\"time\": \"2023-02-04T20:02:30\", \"variable\": \"Tsnow_0_7m_d\", \"value\": -5.6883955001831055, \"height\": 0.7, \"tower\": \"d\", \"measurement\": \"snow temperature\"}, {\"time\": \"2023-02-04T19:57:30\", \"variable\": \"Tsnow_1_4m_uw\", \"value\": -12.323285102844238, \"height\": 1.4, \"tower\": \"uw\", \"measurement\": \"snow temperature\"}, {\"time\": \"2023-02-04T20:02:30\", \"variable\": \"Tsnow_1_4m_uw\", \"value\": -12.972464561462402, \"height\": 1.4, \"tower\": \"uw\", \"measurement\": \"snow temperature\"}, {\"time\": \"2023-02-04T19:57:30\", \"variable\": \"Tsnow_1_5m_d\", \"value\": -10.252367973327637, \"height\": 1.5, \"tower\": \"d\", \"measurement\": \"snow temperature\"}, {\"time\": \"2023-02-04T20:02:30\", \"variable\": \"Tsnow_1_5m_d\", \"value\": -11.417329788208008, \"height\": 1.5, \"tower\": \"d\", \"measurement\": \"snow temperature\"}, {\"time\": \"2023-02-04T19:57:30\", \"variable\": \"Tsnow_0_4m_uw\", \"value\": -2.6215975284576416, \"height\": 0.4, \"tower\": \"uw\", \"measurement\": \"snow temperature\"}, {\"time\": \"2023-02-04T20:02:30\", \"variable\": \"Tsnow_0_4m_uw\", \"value\": -2.621842861175537, \"height\": 0.4, \"tower\": \"uw\", \"measurement\": \"snow temperature\"}, {\"time\": \"2023-02-04T19:57:30\", \"variable\": \"Tsnow_0_6m_d\", \"value\": -5.369714736938477, \"height\": 0.6, \"tower\": \"d\", \"measurement\": \"snow temperature\"}, {\"time\": \"2023-02-04T20:02:30\", \"variable\": \"Tsnow_0_6m_d\", \"value\": -5.371439456939697, \"height\": 0.6, \"tower\": \"d\", \"measurement\": \"snow temperature\"}, {\"time\": \"2023-02-04T19:57:30\", \"variable\": \"Tsnow_1_1m_uw\", \"value\": -7.677914619445801, \"height\": 1.1, \"tower\": \"uw\", \"measurement\": \"snow temperature\"}, {\"time\": \"2023-02-04T20:02:30\", \"variable\": \"Tsnow_1_1m_uw\", \"value\": -7.843081474304199, \"height\": 1.1, \"tower\": \"uw\", \"measurement\": \"snow temperature\"}, {\"time\": \"2023-02-04T19:57:30\", \"variable\": \"Tsnow_1_1m_d\", \"value\": -11.709847450256348, \"height\": 1.1, \"tower\": \"d\", \"measurement\": \"snow temperature\"}, {\"time\": \"2023-02-04T20:02:30\", \"variable\": \"Tsnow_1_1m_d\", \"value\": -13.055220603942871, \"height\": 1.1, \"tower\": \"d\", \"measurement\": \"snow temperature\"}]}}, {\"mode\": \"vega-lite\"});\n",
       "</script>"
      ],
      "text/plain": [
       "alt.Chart(...)"
      ]
     },
     "execution_count": 35,
     "metadata": {},
     "output_type": "execute_result"
    }
   ],
   "source": [
    "alt.Chart(\n",
    "    kps_data.query(\"measurement == 'snow temperature'\")\n",
    ").mark_line().encode(\n",
    "    alt.X(\"time:T\"),\n",
    "    alt.Y(\"value:Q\", title='Temperature (˚C)'),\n",
    "    alt.Color(\"height:O\").scale(scheme='turbo'),\n",
    "    alt.Row(\"tower:N\")\n",
    ").properties(width=500, height = 150)"
   ]
  },
  {
   "cell_type": "code",
   "execution_count": 36,
   "metadata": {},
   "outputs": [
    {
     "name": "stderr",
     "output_type": "stream",
     "text": [
      "/tmp/ipykernel_134814/4068192915.py:5: FutureWarning: The default value of numeric_only in DataFrameGroupBy.mean is deprecated. In a future version, numeric_only will default to False. Either specify numeric_only or select only columns which should be valid for the function.\n",
      "  ).mean().reset_index()\n"
     ]
    },
    {
     "data": {
      "text/html": [
       "\n",
       "<style>\n",
       "  #altair-viz-b7016fd2ecf04295afd7e696b4fdd468.vega-embed {\n",
       "    width: 100%;\n",
       "    display: flex;\n",
       "  }\n",
       "\n",
       "  #altair-viz-b7016fd2ecf04295afd7e696b4fdd468.vega-embed details,\n",
       "  #altair-viz-b7016fd2ecf04295afd7e696b4fdd468.vega-embed details summary {\n",
       "    position: relative;\n",
       "  }\n",
       "</style>\n",
       "<div id=\"altair-viz-b7016fd2ecf04295afd7e696b4fdd468\"></div>\n",
       "<script type=\"text/javascript\">\n",
       "  var VEGA_DEBUG = (typeof VEGA_DEBUG == \"undefined\") ? {} : VEGA_DEBUG;\n",
       "  (function(spec, embedOpt){\n",
       "    let outputDiv = document.currentScript.previousElementSibling;\n",
       "    if (outputDiv.id !== \"altair-viz-b7016fd2ecf04295afd7e696b4fdd468\") {\n",
       "      outputDiv = document.getElementById(\"altair-viz-b7016fd2ecf04295afd7e696b4fdd468\");\n",
       "    }\n",
       "    const paths = {\n",
       "      \"vega\": \"https://cdn.jsdelivr.net/npm/vega@5?noext\",\n",
       "      \"vega-lib\": \"https://cdn.jsdelivr.net/npm/vega-lib?noext\",\n",
       "      \"vega-lite\": \"https://cdn.jsdelivr.net/npm/vega-lite@5.8.0?noext\",\n",
       "      \"vega-embed\": \"https://cdn.jsdelivr.net/npm/vega-embed@6?noext\",\n",
       "    };\n",
       "\n",
       "    function maybeLoadScript(lib, version) {\n",
       "      var key = `${lib.replace(\"-\", \"\")}_version`;\n",
       "      return (VEGA_DEBUG[key] == version) ?\n",
       "        Promise.resolve(paths[lib]) :\n",
       "        new Promise(function(resolve, reject) {\n",
       "          var s = document.createElement('script');\n",
       "          document.getElementsByTagName(\"head\")[0].appendChild(s);\n",
       "          s.async = true;\n",
       "          s.onload = () => {\n",
       "            VEGA_DEBUG[key] = version;\n",
       "            return resolve(paths[lib]);\n",
       "          };\n",
       "          s.onerror = () => reject(`Error loading script: ${paths[lib]}`);\n",
       "          s.src = paths[lib];\n",
       "        });\n",
       "    }\n",
       "\n",
       "    function showError(err) {\n",
       "      outputDiv.innerHTML = `<div class=\"error\" style=\"color:red;\">${err}</div>`;\n",
       "      throw err;\n",
       "    }\n",
       "\n",
       "    function displayChart(vegaEmbed) {\n",
       "      vegaEmbed(outputDiv, spec, embedOpt)\n",
       "        .catch(err => showError(`Javascript Error: ${err.message}<br>This usually means there's a typo in your chart specification. See the javascript console for the full traceback.`));\n",
       "    }\n",
       "\n",
       "    if(typeof define === \"function\" && define.amd) {\n",
       "      requirejs.config({paths});\n",
       "      require([\"vega-embed\"], displayChart, err => showError(`Error loading script: ${err.message}`));\n",
       "    } else {\n",
       "      maybeLoadScript(\"vega\", \"5\")\n",
       "        .then(() => maybeLoadScript(\"vega-lite\", \"5.8.0\"))\n",
       "        .then(() => maybeLoadScript(\"vega-embed\", \"6\"))\n",
       "        .catch(showError)\n",
       "        .then(() => displayChart(vegaEmbed));\n",
       "    }\n",
       "  })({\"config\": {\"view\": {\"continuousWidth\": 300, \"continuousHeight\": 300}}, \"data\": {\"name\": \"data-c7ea0fdcc67a9d93cccf6bc2beae82c1\"}, \"mark\": {\"type\": \"circle\"}, \"encoding\": {\"row\": {\"field\": \"tower\", \"type\": \"nominal\"}, \"x\": {\"field\": \"value\", \"sort\": \"-y\", \"title\": \"Temperature (\\u02daC)\", \"type\": \"quantitative\"}, \"y\": {\"field\": \"height\", \"type\": \"quantitative\"}}, \"height\": 150, \"width\": 500, \"$schema\": \"https://vega.github.io/schema/vega-lite/v5.8.0.json\", \"datasets\": {\"data-c7ea0fdcc67a9d93cccf6bc2beae82c1\": [{\"variable\": \"Tsnow_0_4m_d\", \"height\": 0.4, \"measurement\": \"snow temperature\", \"value\": -3.6520705223083496}, {\"variable\": \"Tsnow_0_5m_d\", \"height\": 0.5, \"measurement\": \"snow temperature\", \"value\": -4.4493019580841064}, {\"variable\": \"Tsnow_0_6m_d\", \"height\": 0.6, \"measurement\": \"snow temperature\", \"value\": -5.370577096939087}, {\"variable\": \"Tsnow_0_7m_d\", \"height\": 0.7, \"measurement\": \"snow temperature\", \"value\": -5.675567865371704}, {\"variable\": \"Tsnow_0_8m_d\", \"height\": 0.8, \"measurement\": \"snow temperature\", \"value\": -5.83887791633606}, {\"variable\": \"Tsnow_0_9m_d\", \"height\": 0.9, \"measurement\": \"snow temperature\", \"value\": -6.662128686904907}, {\"variable\": \"Tsnow_1_0m_d\", \"height\": 1.0, \"measurement\": \"snow temperature\", \"value\": -13.300158977508545}, {\"variable\": \"Tsnow_1_1m_d\", \"height\": 1.1, \"measurement\": \"snow temperature\", \"value\": -12.38253402709961}, {\"variable\": \"Tsnow_1_2m_d\", \"height\": 1.2, \"measurement\": \"snow temperature\", \"value\": -11.809814453125}, {\"variable\": \"Tsnow_1_3m_d\", \"height\": 1.3, \"measurement\": \"snow temperature\", \"value\": -11.314321041107178}, {\"variable\": \"Tsnow_1_4m_d\", \"height\": 1.4, \"measurement\": \"snow temperature\", \"value\": -11.020743370056152}, {\"variable\": \"Tsnow_1_5m_d\", \"height\": 1.5, \"measurement\": \"snow temperature\", \"value\": -10.834848880767822}]}}, {\"mode\": \"vega-lite\"});\n",
       "</script>"
      ],
      "text/plain": [
       "alt.Chart(...)"
      ]
     },
     "execution_count": 36,
     "metadata": {},
     "output_type": "execute_result"
    }
   ],
   "source": [
    "kps_snow_src = kps_data.query(\"tower == 'd'\").query(\n",
    "    \"measurement == 'snow temperature'\"\n",
    ").groupby(\n",
    "    [\"variable\", 'height', 'measurement']\n",
    ").mean().reset_index()\n",
    "\n",
    "alt.Chart(\n",
    "    kps_snow_src\n",
    ").mark_circle().encode(\n",
    "    alt.X(\"value:Q\").sort(\"-y\").title('Temperature (˚C)'),\n",
    "    alt.Y(\"height:Q\"),\n",
    "    # alt.Color(\"height:O\").scale(scheme='turbo'),\n",
    "    alt.Row(\"tower:N\")\n",
    ").properties(width=500, height = 150)"
   ]
  },
  {
   "cell_type": "markdown",
   "metadata": {},
   "source": [
    "In snow temp sensors 1.0 and above are in the air. Sensors 0.9 and below are in snow. assume snow height of .95m"
   ]
  },
  {
   "cell_type": "markdown",
   "metadata": {},
   "source": [
    "# Combine 3 datasets"
   ]
  },
  {
   "cell_type": "code",
   "execution_count": 37,
   "metadata": {},
   "outputs": [
    {
     "data": {
      "text/html": [
       "<div>\n",
       "<style scoped>\n",
       "    .dataframe tbody tr th:only-of-type {\n",
       "        vertical-align: middle;\n",
       "    }\n",
       "\n",
       "    .dataframe tbody tr th {\n",
       "        vertical-align: top;\n",
       "    }\n",
       "\n",
       "    .dataframe thead th {\n",
       "        text-align: right;\n",
       "    }\n",
       "</style>\n",
       "<table border=\"1\" class=\"dataframe\">\n",
       "  <thead>\n",
       "    <tr style=\"text-align: right;\">\n",
       "      <th></th>\n",
       "      <th>variable</th>\n",
       "      <th>time_seconds</th>\n",
       "      <th>value</th>\n",
       "    </tr>\n",
       "  </thead>\n",
       "  <tbody>\n",
       "    <tr>\n",
       "      <th>0</th>\n",
       "      <td>0</td>\n",
       "      <td>202.5</td>\n",
       "      <td>-17.571144</td>\n",
       "    </tr>\n",
       "    <tr>\n",
       "      <th>1</th>\n",
       "      <td>5</td>\n",
       "      <td>202.5</td>\n",
       "      <td>-15.771828</td>\n",
       "    </tr>\n",
       "    <tr>\n",
       "      <th>2</th>\n",
       "      <td>10</td>\n",
       "      <td>202.5</td>\n",
       "      <td>-15.284729</td>\n",
       "    </tr>\n",
       "    <tr>\n",
       "      <th>3</th>\n",
       "      <td>15</td>\n",
       "      <td>202.5</td>\n",
       "      <td>-14.735451</td>\n",
       "    </tr>\n",
       "    <tr>\n",
       "      <th>4</th>\n",
       "      <td>20</td>\n",
       "      <td>202.5</td>\n",
       "      <td>-14.694008</td>\n",
       "    </tr>\n",
       "    <tr>\n",
       "      <th>5</th>\n",
       "      <td>25</td>\n",
       "      <td>202.5</td>\n",
       "      <td>-13.635811</td>\n",
       "    </tr>\n",
       "    <tr>\n",
       "      <th>6</th>\n",
       "      <td>30</td>\n",
       "      <td>202.5</td>\n",
       "      <td>-14.310913</td>\n",
       "    </tr>\n",
       "    <tr>\n",
       "      <th>7</th>\n",
       "      <td>35</td>\n",
       "      <td>202.5</td>\n",
       "      <td>-12.584022</td>\n",
       "    </tr>\n",
       "  </tbody>\n",
       "</table>\n",
       "</div>"
      ],
      "text/plain": [
       "   variable  time_seconds      value\n",
       "0         0         202.5 -17.571144\n",
       "1         5         202.5 -15.771828\n",
       "2        10         202.5 -15.284729\n",
       "3        15         202.5 -14.735451\n",
       "4        20         202.5 -14.694008\n",
       "5        25         202.5 -13.635811\n",
       "6        30         202.5 -14.310913\n",
       "7        35         202.5 -12.584022"
      ]
     },
     "execution_count": 37,
     "metadata": {},
     "output_type": "execute_result"
    }
   ],
   "source": [
    "temp_profile_5mm"
   ]
  },
  {
   "cell_type": "code",
   "execution_count": 38,
   "metadata": {},
   "outputs": [],
   "source": [
    "temp_profile_5mm = temp_profile_5mm.assign(height = temp_profile_5mm['variable']*.001)"
   ]
  },
  {
   "cell_type": "code",
   "execution_count": 39,
   "metadata": {},
   "outputs": [
    {
     "name": "stderr",
     "output_type": "stream",
     "text": [
      "/tmp/ipykernel_134814/2522061055.py:2: SettingWithCopyWarning: \n",
      "A value is trying to be set on a copy of a slice from a DataFrame.\n",
      "Try using .loc[row_indexer,col_indexer] = value instead\n",
      "\n",
      "See the caveats in the documentation: https://pandas.pydata.org/pandas-docs/stable/user_guide/indexing.html#returning-a-view-versus-a-copy\n",
      "  temp_profile_10cm['height'] = temp_profile_10cm['height'] - 0.95\n"
     ]
    }
   ],
   "source": [
    "temp_profile_10cm = kps_snow_src.query(\"height >= 1\")\n",
    "temp_profile_10cm['height'] = temp_profile_10cm['height'] - 0.95"
   ]
  },
  {
   "cell_type": "code",
   "execution_count": 40,
   "metadata": {},
   "outputs": [
    {
     "name": "stderr",
     "output_type": "stream",
     "text": [
      "/tmp/ipykernel_134814/471428878.py:7: FutureWarning: The default value of numeric_only in DataFrameGroupBy.mean is deprecated. In a future version, numeric_only will default to False. Either specify numeric_only or select only columns which should be valid for the function.\n",
      "  ).mean().reset_index()\n"
     ]
    }
   ],
   "source": [
    "temp_profile_1m_and_surf = kps_data[\n",
    "    kps_data.measurement.isin(['temperature', 'surface temperature'])\n",
    "].query(\"tower == 'c'\")\n",
    "\n",
    "temp_profile_1m_and_surf = temp_profile_1m_and_surf.groupby(\n",
    "    [\"variable\", \"height\", \"measurement\"]\n",
    ").mean().reset_index()\n",
    "\n",
    "temp_profile_1m_and_surf['height'] = temp_profile_1m_and_surf['height'].apply(\n",
    "    lambda h: h if h == 0 else h - 0.95\n",
    ")"
   ]
  },
  {
   "cell_type": "code",
   "execution_count": 41,
   "metadata": {},
   "outputs": [],
   "source": [
    "temps_combined = pd.concat([\n",
    "    temp_profile_5mm.assign(measurement = \"Thermistor harp\")[['height', 'value', 'measurement']],\n",
    "    temp_profile_10cm.assign(measurement = 'Thermistor')[['height', 'value', 'measurement']],\n",
    "    temp_profile_1m_and_surf[['height', 'value', 'measurement']]\n",
    "])\n",
    "temps_combined.measurement = temps_combined.measurement.replace(\"temperature\", \"Aspirated hygrothermometer\")\n",
    "temps_combined.measurement = temps_combined.measurement.replace(\"surface temperature\", \"Pyrgeometer\")"
   ]
  },
  {
   "cell_type": "code",
   "execution_count": 42,
   "metadata": {},
   "outputs": [
    {
     "data": {
      "text/html": [
       "<div>\n",
       "<style scoped>\n",
       "    .dataframe tbody tr th:only-of-type {\n",
       "        vertical-align: middle;\n",
       "    }\n",
       "\n",
       "    .dataframe tbody tr th {\n",
       "        vertical-align: top;\n",
       "    }\n",
       "\n",
       "    .dataframe thead th {\n",
       "        text-align: right;\n",
       "    }\n",
       "</style>\n",
       "<table border=\"1\" class=\"dataframe\">\n",
       "  <thead>\n",
       "    <tr style=\"text-align: right;\">\n",
       "      <th></th>\n",
       "      <th>height</th>\n",
       "      <th>value</th>\n",
       "      <th>measurement</th>\n",
       "    </tr>\n",
       "  </thead>\n",
       "  <tbody>\n",
       "    <tr>\n",
       "      <th>0</th>\n",
       "      <td>0.000</td>\n",
       "      <td>-17.571144</td>\n",
       "      <td>Thermistor harp</td>\n",
       "    </tr>\n",
       "    <tr>\n",
       "      <th>19</th>\n",
       "      <td>0.000</td>\n",
       "      <td>-20.198051</td>\n",
       "      <td>Pyrgeometer</td>\n",
       "    </tr>\n",
       "    <tr>\n",
       "      <th>1</th>\n",
       "      <td>0.005</td>\n",
       "      <td>-15.771828</td>\n",
       "      <td>Thermistor harp</td>\n",
       "    </tr>\n",
       "    <tr>\n",
       "      <th>2</th>\n",
       "      <td>0.010</td>\n",
       "      <td>-15.284729</td>\n",
       "      <td>Thermistor harp</td>\n",
       "    </tr>\n",
       "    <tr>\n",
       "      <th>3</th>\n",
       "      <td>0.015</td>\n",
       "      <td>-14.735451</td>\n",
       "      <td>Thermistor harp</td>\n",
       "    </tr>\n",
       "    <tr>\n",
       "      <th>4</th>\n",
       "      <td>0.020</td>\n",
       "      <td>-14.694008</td>\n",
       "      <td>Thermistor harp</td>\n",
       "    </tr>\n",
       "    <tr>\n",
       "      <th>5</th>\n",
       "      <td>0.025</td>\n",
       "      <td>-13.635811</td>\n",
       "      <td>Thermistor harp</td>\n",
       "    </tr>\n",
       "    <tr>\n",
       "      <th>6</th>\n",
       "      <td>0.030</td>\n",
       "      <td>-14.310913</td>\n",
       "      <td>Thermistor harp</td>\n",
       "    </tr>\n",
       "    <tr>\n",
       "      <th>7</th>\n",
       "      <td>0.035</td>\n",
       "      <td>-12.584022</td>\n",
       "      <td>Thermistor harp</td>\n",
       "    </tr>\n",
       "    <tr>\n",
       "      <th>6</th>\n",
       "      <td>0.050</td>\n",
       "      <td>-13.300159</td>\n",
       "      <td>Thermistor</td>\n",
       "    </tr>\n",
       "    <tr>\n",
       "      <th>7</th>\n",
       "      <td>0.150</td>\n",
       "      <td>-12.382534</td>\n",
       "      <td>Thermistor</td>\n",
       "    </tr>\n",
       "    <tr>\n",
       "      <th>8</th>\n",
       "      <td>0.250</td>\n",
       "      <td>-11.809814</td>\n",
       "      <td>Thermistor</td>\n",
       "    </tr>\n",
       "    <tr>\n",
       "      <th>9</th>\n",
       "      <td>0.350</td>\n",
       "      <td>-11.314321</td>\n",
       "      <td>Thermistor</td>\n",
       "    </tr>\n",
       "    <tr>\n",
       "      <th>10</th>\n",
       "      <td>0.450</td>\n",
       "      <td>-11.020743</td>\n",
       "      <td>Thermistor</td>\n",
       "    </tr>\n",
       "    <tr>\n",
       "      <th>11</th>\n",
       "      <td>0.550</td>\n",
       "      <td>-10.834849</td>\n",
       "      <td>Thermistor</td>\n",
       "    </tr>\n",
       "    <tr>\n",
       "      <th>11</th>\n",
       "      <td>1.050</td>\n",
       "      <td>-9.663888</td>\n",
       "      <td>Aspirated hygrothermometer</td>\n",
       "    </tr>\n",
       "    <tr>\n",
       "      <th>12</th>\n",
       "      <td>2.050</td>\n",
       "      <td>-9.355532</td>\n",
       "      <td>Aspirated hygrothermometer</td>\n",
       "    </tr>\n",
       "    <tr>\n",
       "      <th>13</th>\n",
       "      <td>3.050</td>\n",
       "      <td>-9.169460</td>\n",
       "      <td>Aspirated hygrothermometer</td>\n",
       "    </tr>\n",
       "    <tr>\n",
       "      <th>14</th>\n",
       "      <td>4.050</td>\n",
       "      <td>-8.957237</td>\n",
       "      <td>Aspirated hygrothermometer</td>\n",
       "    </tr>\n",
       "    <tr>\n",
       "      <th>15</th>\n",
       "      <td>5.050</td>\n",
       "      <td>-8.833389</td>\n",
       "      <td>Aspirated hygrothermometer</td>\n",
       "    </tr>\n",
       "    <tr>\n",
       "      <th>16</th>\n",
       "      <td>6.050</td>\n",
       "      <td>-8.624162</td>\n",
       "      <td>Aspirated hygrothermometer</td>\n",
       "    </tr>\n",
       "    <tr>\n",
       "      <th>17</th>\n",
       "      <td>7.050</td>\n",
       "      <td>-8.471519</td>\n",
       "      <td>Aspirated hygrothermometer</td>\n",
       "    </tr>\n",
       "    <tr>\n",
       "      <th>18</th>\n",
       "      <td>8.050</td>\n",
       "      <td>-8.325599</td>\n",
       "      <td>Aspirated hygrothermometer</td>\n",
       "    </tr>\n",
       "    <tr>\n",
       "      <th>0</th>\n",
       "      <td>9.050</td>\n",
       "      <td>-8.168491</td>\n",
       "      <td>Aspirated hygrothermometer</td>\n",
       "    </tr>\n",
       "    <tr>\n",
       "      <th>1</th>\n",
       "      <td>10.050</td>\n",
       "      <td>-8.102923</td>\n",
       "      <td>Aspirated hygrothermometer</td>\n",
       "    </tr>\n",
       "    <tr>\n",
       "      <th>2</th>\n",
       "      <td>11.050</td>\n",
       "      <td>-7.990432</td>\n",
       "      <td>Aspirated hygrothermometer</td>\n",
       "    </tr>\n",
       "    <tr>\n",
       "      <th>3</th>\n",
       "      <td>12.050</td>\n",
       "      <td>-7.843074</td>\n",
       "      <td>Aspirated hygrothermometer</td>\n",
       "    </tr>\n",
       "    <tr>\n",
       "      <th>4</th>\n",
       "      <td>13.050</td>\n",
       "      <td>-7.647051</td>\n",
       "      <td>Aspirated hygrothermometer</td>\n",
       "    </tr>\n",
       "    <tr>\n",
       "      <th>5</th>\n",
       "      <td>14.050</td>\n",
       "      <td>-7.573394</td>\n",
       "      <td>Aspirated hygrothermometer</td>\n",
       "    </tr>\n",
       "    <tr>\n",
       "      <th>6</th>\n",
       "      <td>15.050</td>\n",
       "      <td>-7.421216</td>\n",
       "      <td>Aspirated hygrothermometer</td>\n",
       "    </tr>\n",
       "    <tr>\n",
       "      <th>7</th>\n",
       "      <td>16.050</td>\n",
       "      <td>-7.232812</td>\n",
       "      <td>Aspirated hygrothermometer</td>\n",
       "    </tr>\n",
       "    <tr>\n",
       "      <th>8</th>\n",
       "      <td>17.050</td>\n",
       "      <td>-7.105908</td>\n",
       "      <td>Aspirated hygrothermometer</td>\n",
       "    </tr>\n",
       "    <tr>\n",
       "      <th>9</th>\n",
       "      <td>18.050</td>\n",
       "      <td>-6.931246</td>\n",
       "      <td>Aspirated hygrothermometer</td>\n",
       "    </tr>\n",
       "    <tr>\n",
       "      <th>10</th>\n",
       "      <td>19.050</td>\n",
       "      <td>-6.739187</td>\n",
       "      <td>Aspirated hygrothermometer</td>\n",
       "    </tr>\n",
       "  </tbody>\n",
       "</table>\n",
       "</div>"
      ],
      "text/plain": [
       "    height      value                 measurement\n",
       "0    0.000 -17.571144             Thermistor harp\n",
       "19   0.000 -20.198051                 Pyrgeometer\n",
       "1    0.005 -15.771828             Thermistor harp\n",
       "2    0.010 -15.284729             Thermistor harp\n",
       "3    0.015 -14.735451             Thermistor harp\n",
       "4    0.020 -14.694008             Thermistor harp\n",
       "5    0.025 -13.635811             Thermistor harp\n",
       "6    0.030 -14.310913             Thermistor harp\n",
       "7    0.035 -12.584022             Thermistor harp\n",
       "6    0.050 -13.300159                  Thermistor\n",
       "7    0.150 -12.382534                  Thermistor\n",
       "8    0.250 -11.809814                  Thermistor\n",
       "9    0.350 -11.314321                  Thermistor\n",
       "10   0.450 -11.020743                  Thermistor\n",
       "11   0.550 -10.834849                  Thermistor\n",
       "11   1.050  -9.663888  Aspirated hygrothermometer\n",
       "12   2.050  -9.355532  Aspirated hygrothermometer\n",
       "13   3.050  -9.169460  Aspirated hygrothermometer\n",
       "14   4.050  -8.957237  Aspirated hygrothermometer\n",
       "15   5.050  -8.833389  Aspirated hygrothermometer\n",
       "16   6.050  -8.624162  Aspirated hygrothermometer\n",
       "17   7.050  -8.471519  Aspirated hygrothermometer\n",
       "18   8.050  -8.325599  Aspirated hygrothermometer\n",
       "0    9.050  -8.168491  Aspirated hygrothermometer\n",
       "1   10.050  -8.102923  Aspirated hygrothermometer\n",
       "2   11.050  -7.990432  Aspirated hygrothermometer\n",
       "3   12.050  -7.843074  Aspirated hygrothermometer\n",
       "4   13.050  -7.647051  Aspirated hygrothermometer\n",
       "5   14.050  -7.573394  Aspirated hygrothermometer\n",
       "6   15.050  -7.421216  Aspirated hygrothermometer\n",
       "7   16.050  -7.232812  Aspirated hygrothermometer\n",
       "8   17.050  -7.105908  Aspirated hygrothermometer\n",
       "9   18.050  -6.931246  Aspirated hygrothermometer\n",
       "10  19.050  -6.739187  Aspirated hygrothermometer"
      ]
     },
     "execution_count": 42,
     "metadata": {},
     "output_type": "execute_result"
    }
   ],
   "source": [
    "temps_combined.sort_values(\"height\")"
   ]
  },
  {
   "cell_type": "code",
   "execution_count": 43,
   "metadata": {},
   "outputs": [
    {
     "data": {
      "text/html": [
       "\n",
       "<style>\n",
       "  #altair-viz-b8aaccf164ca4a22baa0cc09737668c6.vega-embed {\n",
       "    width: 100%;\n",
       "    display: flex;\n",
       "  }\n",
       "\n",
       "  #altair-viz-b8aaccf164ca4a22baa0cc09737668c6.vega-embed details,\n",
       "  #altair-viz-b8aaccf164ca4a22baa0cc09737668c6.vega-embed details summary {\n",
       "    position: relative;\n",
       "  }\n",
       "</style>\n",
       "<div id=\"altair-viz-b8aaccf164ca4a22baa0cc09737668c6\"></div>\n",
       "<script type=\"text/javascript\">\n",
       "  var VEGA_DEBUG = (typeof VEGA_DEBUG == \"undefined\") ? {} : VEGA_DEBUG;\n",
       "  (function(spec, embedOpt){\n",
       "    let outputDiv = document.currentScript.previousElementSibling;\n",
       "    if (outputDiv.id !== \"altair-viz-b8aaccf164ca4a22baa0cc09737668c6\") {\n",
       "      outputDiv = document.getElementById(\"altair-viz-b8aaccf164ca4a22baa0cc09737668c6\");\n",
       "    }\n",
       "    const paths = {\n",
       "      \"vega\": \"https://cdn.jsdelivr.net/npm/vega@5?noext\",\n",
       "      \"vega-lib\": \"https://cdn.jsdelivr.net/npm/vega-lib?noext\",\n",
       "      \"vega-lite\": \"https://cdn.jsdelivr.net/npm/vega-lite@5.8.0?noext\",\n",
       "      \"vega-embed\": \"https://cdn.jsdelivr.net/npm/vega-embed@6?noext\",\n",
       "    };\n",
       "\n",
       "    function maybeLoadScript(lib, version) {\n",
       "      var key = `${lib.replace(\"-\", \"\")}_version`;\n",
       "      return (VEGA_DEBUG[key] == version) ?\n",
       "        Promise.resolve(paths[lib]) :\n",
       "        new Promise(function(resolve, reject) {\n",
       "          var s = document.createElement('script');\n",
       "          document.getElementsByTagName(\"head\")[0].appendChild(s);\n",
       "          s.async = true;\n",
       "          s.onload = () => {\n",
       "            VEGA_DEBUG[key] = version;\n",
       "            return resolve(paths[lib]);\n",
       "          };\n",
       "          s.onerror = () => reject(`Error loading script: ${paths[lib]}`);\n",
       "          s.src = paths[lib];\n",
       "        });\n",
       "    }\n",
       "\n",
       "    function showError(err) {\n",
       "      outputDiv.innerHTML = `<div class=\"error\" style=\"color:red;\">${err}</div>`;\n",
       "      throw err;\n",
       "    }\n",
       "\n",
       "    function displayChart(vegaEmbed) {\n",
       "      vegaEmbed(outputDiv, spec, embedOpt)\n",
       "        .catch(err => showError(`Javascript Error: ${err.message}<br>This usually means there's a typo in your chart specification. See the javascript console for the full traceback.`));\n",
       "    }\n",
       "\n",
       "    if(typeof define === \"function\" && define.amd) {\n",
       "      requirejs.config({paths});\n",
       "      require([\"vega-embed\"], displayChart, err => showError(`Error loading script: ${err.message}`));\n",
       "    } else {\n",
       "      maybeLoadScript(\"vega\", \"5\")\n",
       "        .then(() => maybeLoadScript(\"vega-lite\", \"5.8.0\"))\n",
       "        .then(() => maybeLoadScript(\"vega-embed\", \"6\"))\n",
       "        .catch(showError)\n",
       "        .then(() => displayChart(vegaEmbed));\n",
       "    }\n",
       "  })({\"config\": {\"view\": {\"continuousWidth\": 300, \"continuousHeight\": 300}, \"concat\": {\"spacing\": 0}, \"legend\": {\"labelLimit\": 300}}, \"vconcat\": [{\"mark\": {\"type\": \"point\"}, \"encoding\": {\"shape\": {\"field\": \"measurement\", \"type\": \"nominal\"}, \"x\": {\"axis\": {\"labels\": false}, \"field\": \"value\", \"sort\": \"-y\", \"title\": \"\", \"type\": \"quantitative\"}, \"y\": {\"field\": \"height\", \"title\": \"Height (m)\", \"type\": \"quantitative\"}}, \"height\": 150, \"transform\": [{\"filter\": \"(datum.height > 1)\"}], \"width\": 200}, {\"mark\": {\"type\": \"point\"}, \"encoding\": {\"shape\": {\"field\": \"measurement\", \"type\": \"nominal\"}, \"x\": {\"axis\": {\"labels\": false}, \"field\": \"value\", \"sort\": \"-y\", \"title\": \"\", \"type\": \"quantitative\"}, \"y\": {\"field\": \"height\", \"title\": \"Height (m)\", \"type\": \"quantitative\"}}, \"height\": 75, \"transform\": [{\"filter\": \"((datum.height < 1) && (datum.height >= 0.05))\"}], \"width\": 200}, {\"mark\": {\"type\": \"point\"}, \"encoding\": {\"shape\": {\"field\": \"measurement\", \"type\": \"nominal\"}, \"x\": {\"field\": \"value\", \"sort\": \"-y\", \"title\": \"Temperature (\\u02daC)\", \"type\": \"quantitative\"}, \"y\": {\"field\": \"height\", \"title\": \"Height (m)\", \"type\": \"quantitative\"}}, \"height\": 75, \"transform\": [{\"filter\": \"(datum.height < 0.05)\"}], \"width\": 200}, {\"data\": {\"name\": \"data-349581e9f9826808e70f0ca72982aa7d\"}, \"mark\": {\"type\": \"point\"}, \"encoding\": {\"shape\": {\"field\": \"measurement\", \"type\": \"nominal\"}, \"x\": {\"field\": \"value\", \"sort\": \"-y\", \"title\": \"Temperature (\\u02daC)\", \"type\": \"quantitative\"}, \"y\": {\"field\": \"height\", \"scale\": {\"type\": \"log\"}, \"title\": \"\", \"type\": \"quantitative\"}}, \"height\": 150, \"width\": 200}], \"data\": {\"name\": \"data-8ee4f715acd3cf7a6e85ed64717dbe2f\"}, \"resolve\": {\"scale\": {\"shape\": \"shared\", \"x\": \"shared\"}}, \"$schema\": \"https://vega.github.io/schema/vega-lite/v5.8.0.json\", \"datasets\": {\"data-8ee4f715acd3cf7a6e85ed64717dbe2f\": [{\"height\": 0.0, \"value\": -17.57114375, \"measurement\": \"Thermistor harp\"}, {\"height\": 0.005, \"value\": -15.77182775, \"measurement\": \"Thermistor harp\"}, {\"height\": 0.01, \"value\": -15.284728999999999, \"measurement\": \"Thermistor harp\"}, {\"height\": 0.015, \"value\": -14.73545075, \"measurement\": \"Thermistor harp\"}, {\"height\": 0.02, \"value\": -14.69400775, \"measurement\": \"Thermistor harp\"}, {\"height\": 0.025, \"value\": -13.635810750000001, \"measurement\": \"Thermistor harp\"}, {\"height\": 0.03, \"value\": -14.310913, \"measurement\": \"Thermistor harp\"}, {\"height\": 0.035, \"value\": -12.5840225, \"measurement\": \"Thermistor harp\"}, {\"height\": 0.050000000000000044, \"value\": -13.300158977508545, \"measurement\": \"Thermistor\"}, {\"height\": 0.15000000000000013, \"value\": -12.38253402709961, \"measurement\": \"Thermistor\"}, {\"height\": 0.25, \"value\": -11.809814453125, \"measurement\": \"Thermistor\"}, {\"height\": 0.3500000000000001, \"value\": -11.314321041107178, \"measurement\": \"Thermistor\"}, {\"height\": 0.44999999999999996, \"value\": -11.020743370056152, \"measurement\": \"Thermistor\"}, {\"height\": 0.55, \"value\": -10.834848880767822, \"measurement\": \"Thermistor\"}, {\"height\": 9.05, \"value\": -8.168490886688232, \"measurement\": \"Aspirated hygrothermometer\"}, {\"height\": 10.05, \"value\": -8.102922677993774, \"measurement\": \"Aspirated hygrothermometer\"}, {\"height\": 11.05, \"value\": -7.990432024002075, \"measurement\": \"Aspirated hygrothermometer\"}, {\"height\": 12.05, \"value\": -7.843073844909668, \"measurement\": \"Aspirated hygrothermometer\"}, {\"height\": 13.05, \"value\": -7.647050857543945, \"measurement\": \"Aspirated hygrothermometer\"}, {\"height\": 14.05, \"value\": -7.573394060134888, \"measurement\": \"Aspirated hygrothermometer\"}, {\"height\": 15.05, \"value\": -7.421215534210205, \"measurement\": \"Aspirated hygrothermometer\"}, {\"height\": 16.05, \"value\": -7.232812404632568, \"measurement\": \"Aspirated hygrothermometer\"}, {\"height\": 17.05, \"value\": -7.105908155441284, \"measurement\": \"Aspirated hygrothermometer\"}, {\"height\": 18.05, \"value\": -6.931245803833008, \"measurement\": \"Aspirated hygrothermometer\"}, {\"height\": 19.05, \"value\": -6.739187002182007, \"measurement\": \"Aspirated hygrothermometer\"}, {\"height\": 1.05, \"value\": -9.663888454437256, \"measurement\": \"Aspirated hygrothermometer\"}, {\"height\": 2.05, \"value\": -9.355531692504883, \"measurement\": \"Aspirated hygrothermometer\"}, {\"height\": 3.05, \"value\": -9.16946029663086, \"measurement\": \"Aspirated hygrothermometer\"}, {\"height\": 4.05, \"value\": -8.957237243652344, \"measurement\": \"Aspirated hygrothermometer\"}, {\"height\": 5.05, \"value\": -8.833389282226562, \"measurement\": \"Aspirated hygrothermometer\"}, {\"height\": 6.05, \"value\": -8.624161720275879, \"measurement\": \"Aspirated hygrothermometer\"}, {\"height\": 7.05, \"value\": -8.471518516540527, \"measurement\": \"Aspirated hygrothermometer\"}, {\"height\": 8.05, \"value\": -8.325599193572998, \"measurement\": \"Aspirated hygrothermometer\"}, {\"height\": 0.0, \"value\": -20.19805145263672, \"measurement\": \"Pyrgeometer\"}], \"data-349581e9f9826808e70f0ca72982aa7d\": [{\"height\": 0.005, \"value\": -15.77182775, \"measurement\": \"Thermistor harp\"}, {\"height\": 0.01, \"value\": -15.284728999999999, \"measurement\": \"Thermistor harp\"}, {\"height\": 0.015, \"value\": -14.73545075, \"measurement\": \"Thermistor harp\"}, {\"height\": 0.02, \"value\": -14.69400775, \"measurement\": \"Thermistor harp\"}, {\"height\": 0.025, \"value\": -13.635810750000001, \"measurement\": \"Thermistor harp\"}, {\"height\": 0.03, \"value\": -14.310913, \"measurement\": \"Thermistor harp\"}, {\"height\": 0.035, \"value\": -12.5840225, \"measurement\": \"Thermistor harp\"}, {\"height\": 0.050000000000000044, \"value\": -13.300158977508545, \"measurement\": \"Thermistor\"}, {\"height\": 0.15000000000000013, \"value\": -12.38253402709961, \"measurement\": \"Thermistor\"}, {\"height\": 0.25, \"value\": -11.809814453125, \"measurement\": \"Thermistor\"}, {\"height\": 0.3500000000000001, \"value\": -11.314321041107178, \"measurement\": \"Thermistor\"}, {\"height\": 0.44999999999999996, \"value\": -11.020743370056152, \"measurement\": \"Thermistor\"}, {\"height\": 0.55, \"value\": -10.834848880767822, \"measurement\": \"Thermistor\"}, {\"height\": 9.05, \"value\": -8.168490886688232, \"measurement\": \"Aspirated hygrothermometer\"}, {\"height\": 10.05, \"value\": -8.102922677993774, \"measurement\": \"Aspirated hygrothermometer\"}, {\"height\": 11.05, \"value\": -7.990432024002075, \"measurement\": \"Aspirated hygrothermometer\"}, {\"height\": 12.05, \"value\": -7.843073844909668, \"measurement\": \"Aspirated hygrothermometer\"}, {\"height\": 13.05, \"value\": -7.647050857543945, \"measurement\": \"Aspirated hygrothermometer\"}, {\"height\": 14.05, \"value\": -7.573394060134888, \"measurement\": \"Aspirated hygrothermometer\"}, {\"height\": 15.05, \"value\": -7.421215534210205, \"measurement\": \"Aspirated hygrothermometer\"}, {\"height\": 16.05, \"value\": -7.232812404632568, \"measurement\": \"Aspirated hygrothermometer\"}, {\"height\": 17.05, \"value\": -7.105908155441284, \"measurement\": \"Aspirated hygrothermometer\"}, {\"height\": 18.05, \"value\": -6.931245803833008, \"measurement\": \"Aspirated hygrothermometer\"}, {\"height\": 19.05, \"value\": -6.739187002182007, \"measurement\": \"Aspirated hygrothermometer\"}, {\"height\": 1.05, \"value\": -9.663888454437256, \"measurement\": \"Aspirated hygrothermometer\"}, {\"height\": 2.05, \"value\": -9.355531692504883, \"measurement\": \"Aspirated hygrothermometer\"}, {\"height\": 3.05, \"value\": -9.16946029663086, \"measurement\": \"Aspirated hygrothermometer\"}, {\"height\": 4.05, \"value\": -8.957237243652344, \"measurement\": \"Aspirated hygrothermometer\"}, {\"height\": 5.05, \"value\": -8.833389282226562, \"measurement\": \"Aspirated hygrothermometer\"}, {\"height\": 6.05, \"value\": -8.624161720275879, \"measurement\": \"Aspirated hygrothermometer\"}, {\"height\": 7.05, \"value\": -8.471518516540527, \"measurement\": \"Aspirated hygrothermometer\"}, {\"height\": 8.05, \"value\": -8.325599193572998, \"measurement\": \"Aspirated hygrothermometer\"}]}}, {\"mode\": \"vega-lite\"});\n",
       "</script>"
      ],
      "text/plain": [
       "alt.VConcatChart(...)"
      ]
     },
     "execution_count": 43,
     "metadata": {},
     "output_type": "execute_result"
    }
   ],
   "source": [
    "base = alt.Chart(temps_combined).mark_point().encode(\n",
    "    alt.Y(\"height:Q\", title='Height (m)'),\n",
    "    alt.Shape(\"measurement:N\")\n",
    ")\n",
    "((\n",
    "    base.transform_filter(\n",
    "        alt.datum.height > 1\n",
    "    ).encode(\n",
    "        alt.X(\"value\", title='').sort(\"-y\").axis(labels=False),\n",
    "    ).properties(\n",
    "        width = 200, \n",
    "        height = 150\n",
    "    ) & \\\n",
    "    base.transform_filter(\n",
    "        (alt.datum.height < 1) & (alt.datum.height >= 0.05)\n",
    "    ).encode(\n",
    "        alt.X(\"value\", title='').sort(\"-y\").axis(labels=False),\n",
    "    ).properties(\n",
    "        width = 200, \n",
    "        height = 75\n",
    "    ) & \\\n",
    "    base.transform_filter(\n",
    "        alt.datum.height < 0.05\n",
    "    ).encode(\n",
    "        alt.X(\"value\").sort(\"-y\").title(\"Temperature (˚C)\"),\n",
    "    ).properties(\n",
    "        width = 200, \n",
    "        height = 75\n",
    "    )\n",
    ") & alt.Chart(\n",
    "    temps_combined.query('height > 0')\n",
    ").mark_point().encode(\n",
    "    alt.X(\"value\").sort(\"-y\").title(\"Temperature (˚C)\"),\n",
    "    alt.Y(\"height:Q\", title='').scale(type='log'),\n",
    "    alt.Shape(\"measurement:N\")\n",
    ").properties(\n",
    "        width = 200, \n",
    "        height = 150\n",
    "    )).configure_concat(\n",
    "        spacing = 0\n",
    ").resolve_scale(\n",
    "    shape='shared', \n",
    "    x='shared'\n",
    ").configure_legend(labelLimit=300)"
   ]
  },
  {
   "cell_type": "code",
   "execution_count": null,
   "metadata": {},
   "outputs": [],
   "source": []
  }
 ],
 "metadata": {
  "kernelspec": {
   "display_name": "arm",
   "language": "python",
   "name": "python3"
  },
  "language_info": {
   "codemirror_mode": {
    "name": "ipython",
    "version": 3
   },
   "file_extension": ".py",
   "mimetype": "text/x-python",
   "name": "python",
   "nbconvert_exporter": "python",
   "pygments_lexer": "ipython3",
   "version": "3.11.0"
  },
  "orig_nbformat": 4,
  "vscode": {
   "interpreter": {
    "hash": "e2b11a00ad1b97cabcd9cc9209b8824a0fcaf6ffe37b5243943912873b5dcab1"
   }
  }
 },
 "nbformat": 4,
 "nbformat_minor": 2
}
