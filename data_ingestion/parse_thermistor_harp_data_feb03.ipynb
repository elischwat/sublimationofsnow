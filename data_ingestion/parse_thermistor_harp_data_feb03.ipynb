{
 "cells": [
  {
   "cell_type": "code",
   "execution_count": 360,
   "metadata": {},
   "outputs": [
    {
     "data": {
      "text/plain": [
       "RendererRegistry.enable('svg')"
      ]
     },
     "execution_count": 360,
     "metadata": {},
     "output_type": "execute_result"
    }
   ],
   "source": [
    "import pandas as pd\n",
    "import numpy as np\n",
    "import altair as alt\n",
    "import datetime as dt\n",
    "alt.data_transformers.disable_max_rows()\n",
    "alt.renderers.enable(\"svg\")"
   ]
  },
  {
   "cell_type": "code",
   "execution_count": 361,
   "metadata": {},
   "outputs": [
    {
     "name": "stdout",
     "output_type": "stream",
     "text": [
      "202302032000.log\t    screen20230306184500.log\n",
      "202302042000.log\t    screen20230307184400.hello\n",
      "daytime_out_the_window.log  screen20230307184400.log\n",
      "nighttime_out_the_door.log  thermistor_harp.log\n"
     ]
    }
   ],
   "source": [
    "!ls /data2/elilouis/sublimationofsnow/thermistor_harp/\n",
    "filename = \"/data2/elilouis/sublimationofsnow/thermistor_harp/202302032000.log\"\n",
    "# good files\n",
    "# 202302032000.log\t\n",
    "# 202302042000.log\n",
    "# screen20230306184500.log\n",
    "# screen20230307184400.log"
   ]
  },
  {
   "cell_type": "markdown",
   "metadata": {},
   "source": [
    "# Read in SOS KPS tidy data fo plot from the same time period"
   ]
  },
  {
   "cell_type": "code",
   "execution_count": 362,
   "metadata": {},
   "outputs": [],
   "source": [
    "start_date = '20221130'\n",
    "end_date = '20230509'\n",
    "\n",
    "tidy_df_5Min = pd.read_parquet(f\"../analysis/sos/tidy_df_{start_date}_{end_date}_noplanar_fit.parquet\")"
   ]
  },
  {
   "cell_type": "markdown",
   "metadata": {},
   "source": [
    "# Parse thermistor harp time info from filename"
   ]
  },
  {
   "cell_type": "code",
   "execution_count": 363,
   "metadata": {},
   "outputs": [
    {
     "name": "stdout",
     "output_type": "stream",
     "text": [
      "Parsing: 202302032000\n"
     ]
    }
   ],
   "source": [
    "# start_datetime = filename\n",
    "date_string = filename.split('/')[-1].split('.log')[0].removeprefix(\"screen\")\n",
    "print(f\"Parsing: {date_string}\")\n",
    "starttime = dt.datetime.strptime(\n",
    "    date_string,\n",
    "    '%Y%m%d%H%M%S'\n",
    ")"
   ]
  },
  {
   "cell_type": "markdown",
   "metadata": {},
   "source": [
    "# Open harp file and load data"
   ]
  },
  {
   "cell_type": "code",
   "execution_count": 364,
   "metadata": {},
   "outputs": [],
   "source": [
    "\n",
    "with open(filename) as f:\n",
    "    lines = f.readlines()"
   ]
  },
  {
   "cell_type": "code",
   "execution_count": 365,
   "metadata": {},
   "outputs": [],
   "source": [
    "cleaned_lines = [f for f in lines if f.startswith('TS302') or f.startswith('TS301')]\n",
    "delimited_lines = [line.split() for line in cleaned_lines]\n",
    "temp_only_lines = [[token for token in line if token.startswith('TS') or '.' in token] for line in delimited_lines]\n",
    "df = pd.DataFrame(temp_only_lines).drop(columns=5)"
   ]
  },
  {
   "cell_type": "code",
   "execution_count": 366,
   "metadata": {},
   "outputs": [],
   "source": [
    "df[[1,2,3,4]] = df[[1,2,3,4]].astype(\"float\")"
   ]
  },
  {
   "cell_type": "markdown",
   "metadata": {},
   "source": [
    "# Read the two sensors separately"
   ]
  },
  {
   "cell_type": "code",
   "execution_count": 367,
   "metadata": {},
   "outputs": [
    {
     "name": "stderr",
     "output_type": "stream",
     "text": [
      "/tmp/ipykernel_73495/1292411782.py:2: SettingWithCopyWarning: \n",
      "A value is trying to be set on a copy of a slice from a DataFrame.\n",
      "Try using .loc[row_indexer,col_indexer] = value instead\n",
      "\n",
      "See the caveats in the documentation: https://pandas.pydata.org/pandas-docs/stable/user_guide/indexing.html#returning-a-view-versus-a-copy\n",
      "  low_df.loc[:, 'time_seconds'] = 5*np.arange(0, len(low_df))\n",
      "/tmp/ipykernel_73495/1292411782.py:8: SettingWithCopyWarning: \n",
      "A value is trying to be set on a copy of a slice from a DataFrame.\n",
      "Try using .loc[row_indexer,col_indexer] = value instead\n",
      "\n",
      "See the caveats in the documentation: https://pandas.pydata.org/pandas-docs/stable/user_guide/indexing.html#returning-a-view-versus-a-copy\n",
      "  high_df.loc[:, 'time_seconds'] = 5*np.arange(0, len(high_df))\n"
     ]
    }
   ],
   "source": [
    "low_df = df[df[0]=='TS302']\n",
    "low_df.loc[:, 'time_seconds'] = 5*np.arange(0, len(low_df))\n",
    "low_df = low_df.rename(columns={1:5, 2:15, 3:25, 4:35})\n",
    "low_df = low_df.drop(columns=0)\n",
    "low_df['side'] = 'low'\n",
    "\n",
    "high_df = df[df[0]=='TS301']\n",
    "high_df.loc[:, 'time_seconds'] = 5*np.arange(0, len(high_df))\n",
    "high_df = high_df.rename(columns={1:10, 2:20, 3:30, 4:40})\n",
    "high_df = high_df.drop(columns=0)\n",
    "high_df['side'] = 'high'"
   ]
  },
  {
   "cell_type": "code",
   "execution_count": 368,
   "metadata": {},
   "outputs": [],
   "source": [
    "df = pd.concat([\n",
    "    low_df.melt(id_vars=['time_seconds', 'side']),\n",
    "    high_df.melt(id_vars=['time_seconds', 'side'])\n",
    "]).sort_values(['time_seconds', 'variable'])"
   ]
  },
  {
   "cell_type": "code",
   "execution_count": 369,
   "metadata": {},
   "outputs": [],
   "source": [
    "df['variable'] = df['variable'] - 5"
   ]
  },
  {
   "cell_type": "code",
   "execution_count": 370,
   "metadata": {},
   "outputs": [],
   "source": [
    "df['time'] = df['time_seconds'].apply(lambda x: starttime + dt.timedelta(seconds = x))"
   ]
  },
  {
   "cell_type": "code",
   "execution_count": 371,
   "metadata": {},
   "outputs": [
    {
     "data": {
      "image/svg+xml": [
       "<svg xmlns=\"http://www.w3.org/2000/svg\" xmlns:xlink=\"http://www.w3.org/1999/xlink\" version=\"1.1\" class=\"marks\" width=\"439\" height=\"211\" viewBox=\"0 0 439 211\"><rect width=\"439\" height=\"211\" fill=\"white\"/><g fill=\"none\" stroke-miterlimit=\"10\" transform=\"translate(44,24)\"><g class=\"mark-group role-frame root\" role=\"graphics-object\" aria-roledescription=\"group mark container\"><g transform=\"translate(0,0)\"><path class=\"background\" aria-hidden=\"true\" d=\"M0.5,0.5h300v150h-300Z\" stroke=\"#ddd\"/><g><g class=\"mark-group role-axis\" aria-hidden=\"true\"><g transform=\"translate(0.5,150.5)\"><path class=\"background\" aria-hidden=\"true\" d=\"M0,0h0v0h0Z\" pointer-events=\"none\"/><g><g class=\"mark-rule role-axis-grid\" pointer-events=\"none\"><line transform=\"translate(0,-150)\" x2=\"0\" y2=\"150\" stroke=\"#ddd\" stroke-width=\"1\" opacity=\"1\"/><line transform=\"translate(30,-150)\" x2=\"0\" y2=\"150\" stroke=\"#ddd\" stroke-width=\"1\" opacity=\"1\"/><line transform=\"translate(60,-150)\" x2=\"0\" y2=\"150\" stroke=\"#ddd\" stroke-width=\"1\" opacity=\"1\"/><line transform=\"translate(90,-150)\" x2=\"0\" y2=\"150\" stroke=\"#ddd\" stroke-width=\"1\" opacity=\"1\"/><line transform=\"translate(120,-150)\" x2=\"0\" y2=\"150\" stroke=\"#ddd\" stroke-width=\"1\" opacity=\"1\"/><line transform=\"translate(150,-150)\" x2=\"0\" y2=\"150\" stroke=\"#ddd\" stroke-width=\"1\" opacity=\"1\"/><line transform=\"translate(180,-150)\" x2=\"0\" y2=\"150\" stroke=\"#ddd\" stroke-width=\"1\" opacity=\"1\"/><line transform=\"translate(210,-150)\" x2=\"0\" y2=\"150\" stroke=\"#ddd\" stroke-width=\"1\" opacity=\"1\"/><line transform=\"translate(240,-150)\" x2=\"0\" y2=\"150\" stroke=\"#ddd\" stroke-width=\"1\" opacity=\"1\"/><line transform=\"translate(270,-150)\" x2=\"0\" y2=\"150\" stroke=\"#ddd\" stroke-width=\"1\" opacity=\"1\"/><line transform=\"translate(300,-150)\" x2=\"0\" y2=\"150\" stroke=\"#ddd\" stroke-width=\"1\" opacity=\"1\"/></g></g><path class=\"foreground\" aria-hidden=\"true\" d=\"\" pointer-events=\"none\" display=\"none\"/></g></g><g class=\"mark-group role-axis\" aria-hidden=\"true\"><g transform=\"translate(0.5,0.5)\"><path class=\"background\" aria-hidden=\"true\" d=\"M0,0h0v0h0Z\" pointer-events=\"none\"/><g><g class=\"mark-rule role-axis-grid\" pointer-events=\"none\"><line transform=\"translate(0,131)\" x2=\"300\" y2=\"0\" stroke=\"#ddd\" stroke-width=\"1\" opacity=\"1\"/><line transform=\"translate(0,94)\" x2=\"300\" y2=\"0\" stroke=\"#ddd\" stroke-width=\"1\" opacity=\"1\"/><line transform=\"translate(0,56)\" x2=\"300\" y2=\"0\" stroke=\"#ddd\" stroke-width=\"1\" opacity=\"1\"/><line transform=\"translate(0,19)\" x2=\"300\" y2=\"0\" stroke=\"#ddd\" stroke-width=\"1\" opacity=\"1\"/></g></g><path class=\"foreground\" aria-hidden=\"true\" d=\"\" pointer-events=\"none\" display=\"none\"/></g></g><g class=\"mark-group role-axis\" role=\"graphics-symbol\" aria-roledescription=\"axis\" aria-label=\"X-axis titled 'Time (s)' for a time scale with values from Friday, 03 February 2023, 8:00:00 PM to Friday, 03 February 2023, 8:00:50 PM\"><g transform=\"translate(0.5,150.5)\"><path class=\"background\" aria-hidden=\"true\" d=\"M0,0h0v0h0Z\" pointer-events=\"none\"/><g><g class=\"mark-rule role-axis-tick\" pointer-events=\"none\"><line transform=\"translate(0,0)\" x2=\"0\" y2=\"5\" stroke=\"#888\" stroke-width=\"1\" opacity=\"1\"/><line transform=\"translate(30,0)\" x2=\"0\" y2=\"5\" stroke=\"#888\" stroke-width=\"1\" opacity=\"1\"/><line transform=\"translate(60,0)\" x2=\"0\" y2=\"5\" stroke=\"#888\" stroke-width=\"1\" opacity=\"1\"/><line transform=\"translate(90,0)\" x2=\"0\" y2=\"5\" stroke=\"#888\" stroke-width=\"1\" opacity=\"1\"/><line transform=\"translate(120,0)\" x2=\"0\" y2=\"5\" stroke=\"#888\" stroke-width=\"1\" opacity=\"1\"/><line transform=\"translate(150,0)\" x2=\"0\" y2=\"5\" stroke=\"#888\" stroke-width=\"1\" opacity=\"1\"/><line transform=\"translate(180,0)\" x2=\"0\" y2=\"5\" stroke=\"#888\" stroke-width=\"1\" opacity=\"1\"/><line transform=\"translate(210,0)\" x2=\"0\" y2=\"5\" stroke=\"#888\" stroke-width=\"1\" opacity=\"1\"/><line transform=\"translate(240,0)\" x2=\"0\" y2=\"5\" stroke=\"#888\" stroke-width=\"1\" opacity=\"1\"/><line transform=\"translate(270,0)\" x2=\"0\" y2=\"5\" stroke=\"#888\" stroke-width=\"1\" opacity=\"1\"/><line transform=\"translate(300,0)\" x2=\"0\" y2=\"5\" stroke=\"#888\" stroke-width=\"1\" opacity=\"1\"/></g><g class=\"mark-text role-axis-label\" pointer-events=\"none\"><text text-anchor=\"start\" transform=\"translate(0,15)\" font-family=\"sans-serif\" font-size=\"10px\" fill=\"#000\" opacity=\"1\">08 PM</text><text text-anchor=\"middle\" transform=\"translate(30,15)\" font-family=\"sans-serif\" font-size=\"10px\" fill=\"#000\" opacity=\"0\">:05</text><text text-anchor=\"middle\" transform=\"translate(60,15)\" font-family=\"sans-serif\" font-size=\"10px\" fill=\"#000\" opacity=\"1\">:10</text><text text-anchor=\"middle\" transform=\"translate(90,15)\" font-family=\"sans-serif\" font-size=\"10px\" fill=\"#000\" opacity=\"0\">:15</text><text text-anchor=\"middle\" transform=\"translate(120,15)\" font-family=\"sans-serif\" font-size=\"10px\" fill=\"#000\" opacity=\"1\">:20</text><text text-anchor=\"middle\" transform=\"translate(150,15)\" font-family=\"sans-serif\" font-size=\"10px\" fill=\"#000\" opacity=\"0\">:25</text><text text-anchor=\"middle\" transform=\"translate(180,15)\" font-family=\"sans-serif\" font-size=\"10px\" fill=\"#000\" opacity=\"1\">:30</text><text text-anchor=\"middle\" transform=\"translate(210,15)\" font-family=\"sans-serif\" font-size=\"10px\" fill=\"#000\" opacity=\"0\">:35</text><text text-anchor=\"middle\" transform=\"translate(240,15)\" font-family=\"sans-serif\" font-size=\"10px\" fill=\"#000\" opacity=\"1\">:40</text><text text-anchor=\"middle\" transform=\"translate(270,15)\" font-family=\"sans-serif\" font-size=\"10px\" fill=\"#000\" opacity=\"0\">:45</text><text text-anchor=\"end\" transform=\"translate(300,15)\" font-family=\"sans-serif\" font-size=\"10px\" fill=\"#000\" opacity=\"1\">:50</text></g><g class=\"mark-rule role-axis-domain\" pointer-events=\"none\"><line transform=\"translate(0,0)\" x2=\"300\" y2=\"0\" stroke=\"#888\" stroke-width=\"1\" opacity=\"1\"/></g><g class=\"mark-text role-axis-title\" pointer-events=\"none\"><text text-anchor=\"middle\" transform=\"translate(150,30)\" font-family=\"sans-serif\" font-size=\"11px\" font-weight=\"bold\" fill=\"#000\" opacity=\"1\">Time (s)</text></g></g><path class=\"foreground\" aria-hidden=\"true\" d=\"\" pointer-events=\"none\" display=\"none\"/></g></g><g class=\"mark-group role-axis\" role=\"graphics-symbol\" aria-roledescription=\"axis\" aria-label=\"Y-axis titled 'Temperature (˚C)' for a linear scale with values from −21 to −17\"><g transform=\"translate(0.5,0.5)\"><path class=\"background\" aria-hidden=\"true\" d=\"M0,0h0v0h0Z\" pointer-events=\"none\"/><g><g class=\"mark-rule role-axis-tick\" pointer-events=\"none\"><line transform=\"translate(0,131)\" x2=\"-5\" y2=\"0\" stroke=\"#888\" stroke-width=\"1\" opacity=\"1\"/><line transform=\"translate(0,94)\" x2=\"-5\" y2=\"0\" stroke=\"#888\" stroke-width=\"1\" opacity=\"1\"/><line transform=\"translate(0,56)\" x2=\"-5\" y2=\"0\" stroke=\"#888\" stroke-width=\"1\" opacity=\"1\"/><line transform=\"translate(0,19)\" x2=\"-5\" y2=\"0\" stroke=\"#888\" stroke-width=\"1\" opacity=\"1\"/></g><g class=\"mark-text role-axis-label\" pointer-events=\"none\"><text text-anchor=\"end\" transform=\"translate(-7,134.25)\" font-family=\"sans-serif\" font-size=\"10px\" fill=\"#000\" opacity=\"1\">−20</text><text text-anchor=\"end\" transform=\"translate(-7,96.75)\" font-family=\"sans-serif\" font-size=\"10px\" fill=\"#000\" opacity=\"1\">−19</text><text text-anchor=\"end\" transform=\"translate(-7,59.25)\" font-family=\"sans-serif\" font-size=\"10px\" fill=\"#000\" opacity=\"1\">−18</text><text text-anchor=\"end\" transform=\"translate(-7,21.75)\" font-family=\"sans-serif\" font-size=\"10px\" fill=\"#000\" opacity=\"1\">−17</text></g><g class=\"mark-rule role-axis-domain\" pointer-events=\"none\"><line transform=\"translate(0,150)\" x2=\"0\" y2=\"-150\" stroke=\"#888\" stroke-width=\"1\" opacity=\"1\"/></g><g class=\"mark-text role-axis-title\" pointer-events=\"none\"><text text-anchor=\"middle\" transform=\"translate(-27.962890625,75) rotate(-90) translate(0,-2)\" font-family=\"sans-serif\" font-size=\"11px\" font-weight=\"bold\" fill=\"#000\" opacity=\"1\">Temperature (˚C)</text></g></g><path class=\"foreground\" aria-hidden=\"true\" d=\"\" pointer-events=\"none\" display=\"none\"/></g></g><g class=\"mark-group role-scope pathgroup\" role=\"graphics-object\" aria-roledescription=\"group mark container\"><g transform=\"translate(0,0)\"><path class=\"background\" aria-hidden=\"true\" d=\"M0,0h300v150h-300Z\"/><g><g class=\"mark-line role-mark marks\" role=\"graphics-object\" aria-roledescription=\"line mark container\"><path aria-label=\"Time (s): Feb 03, 2023; Temperature (˚C): −20.1237635; Height above, snow (mm): 0\" role=\"graphics-symbol\" aria-roledescription=\"line mark\" d=\"M0,135.891L30,135.002L60,131.852L90,130.675L120,129.78L150,128.007L180,125.578L210,121.909L240,120.551L270,120.526L300,121.023\" stroke=\"rgb(72, 40, 120)\" stroke-width=\"2\"/></g></g><path class=\"foreground\" aria-hidden=\"true\" d=\"\" display=\"none\"/></g><g transform=\"translate(0,0)\"><path class=\"background\" aria-hidden=\"true\" d=\"M0,0h300v150h-300Z\"/><g><g class=\"mark-line role-mark marks\" role=\"graphics-object\" aria-roledescription=\"line mark container\"><path aria-label=\"Time (s): Feb 03, 2023; Temperature (˚C): −18.827842; Height above, snow (mm): 5\" role=\"graphics-symbol\" aria-roledescription=\"line mark\" d=\"M0,87.294L30,85.233L60,76.458L90,72.011L120,69.553L150,70.671L180,70.315L210,65.394L240,61.972L270,58.359L300,58.052\" stroke=\"rgb(62, 75, 137)\" stroke-width=\"2\"/></g></g><path class=\"foreground\" aria-hidden=\"true\" d=\"\" display=\"none\"/></g><g transform=\"translate(0,0)\"><path class=\"background\" aria-hidden=\"true\" d=\"M0,0h300v150h-300Z\"/><g><g class=\"mark-line role-mark marks\" role=\"graphics-object\" aria-roledescription=\"line mark container\"><path aria-label=\"Time (s): Feb 03, 2023; Temperature (˚C): −17.579231; Height above, snow (mm): 10\" role=\"graphics-symbol\" aria-roledescription=\"line mark\" d=\"M0,40.471L30,37.716L60,34.575L90,35.084L120,37.583L150,39.055L180,38.603L210,31.681L240,27.04L270,20.436L300,21.185\" stroke=\"rgb(49, 104, 142)\" stroke-width=\"2\"/></g></g><path class=\"foreground\" aria-hidden=\"true\" d=\"\" display=\"none\"/></g><g transform=\"translate(0,0)\"><path class=\"background\" aria-hidden=\"true\" d=\"M0,0h300v150h-300Z\"/><g><g class=\"mark-line role-mark marks\" role=\"graphics-object\" aria-roledescription=\"line mark container\"><path aria-label=\"Time (s): Feb 03, 2023; Temperature (˚C): −17.8851315; Height above, snow (mm): 15\" role=\"graphics-symbol\" aria-roledescription=\"line mark\" d=\"M0,51.942L30,49.397L60,43.18L90,41.033L120,42.101L150,44.228L180,43.983L210,37.541L240,32.086L270,27.386L300,26.986\" stroke=\"rgb(38, 131, 142)\" stroke-width=\"2\"/></g></g><path class=\"foreground\" aria-hidden=\"true\" d=\"\" display=\"none\"/></g><g transform=\"translate(0,0)\"><path class=\"background\" aria-hidden=\"true\" d=\"M0,0h300v150h-300Z\"/><g><g class=\"mark-line role-mark marks\" role=\"graphics-object\" aria-roledescription=\"line mark container\"><path aria-label=\"Time (s): Feb 03, 2023; Temperature (˚C): −17.2417215; Height above, snow (mm): 20\" role=\"graphics-symbol\" aria-roledescription=\"line mark\" d=\"M0,27.815L30,25.514L60,22.881L90,22.268L120,23.702L150,24.482L180,23.997L210,16.916L240,12.629L270,8.1L300,10.164\" stroke=\"rgb(31, 157, 137)\" stroke-width=\"2\"/></g></g><path class=\"foreground\" aria-hidden=\"true\" d=\"\" display=\"none\"/></g><g transform=\"translate(0,0)\"><path class=\"background\" aria-hidden=\"true\" d=\"M0,0h300v150h-300Z\"/><g><g class=\"mark-line role-mark marks\" role=\"graphics-object\" aria-roledescription=\"line mark container\"><path aria-label=\"Time (s): Feb 03, 2023; Temperature (˚C): −17.213836; Height above, snow (mm): 25\" role=\"graphics-symbol\" aria-roledescription=\"line mark\" d=\"M0,26.769L30,24.389L60,21.794L90,20.523L120,21.389L150,21.569L180,20.652L210,13.815L240,10.633L270,6.584L300,9.019\" stroke=\"rgb(53, 183, 121)\" stroke-width=\"2\"/></g></g><path class=\"foreground\" aria-hidden=\"true\" d=\"\" display=\"none\"/></g><g transform=\"translate(0,0)\"><path class=\"background\" aria-hidden=\"true\" d=\"M0,0h300v150h-300Z\"/><g><g class=\"mark-line role-mark marks\" role=\"graphics-object\" aria-roledescription=\"line mark container\"><path aria-label=\"Time (s): Feb 03, 2023; Temperature (˚C): −16.9960015; Height above, snow (mm): 30\" role=\"graphics-symbol\" aria-roledescription=\"line mark\" d=\"M0,18.6L30,16.717L60,14.997L90,13.622L120,13.204L150,12.918L180,12.196L210,6.301L240,3.843L270,0.815L300,4.217\" stroke=\"rgb(109, 206, 89)\" stroke-width=\"2\"/></g></g><path class=\"foreground\" aria-hidden=\"true\" d=\"\" display=\"none\"/></g><g transform=\"translate(0,0)\"><path class=\"background\" aria-hidden=\"true\" d=\"M0,0h300v150h-300Z\"/><g><g class=\"mark-line role-mark marks\" role=\"graphics-object\" aria-roledescription=\"line mark container\"><path aria-label=\"Time (s): Feb 03, 2023; Temperature (˚C): −17.0138085; Height above, snow (mm): 35\" role=\"graphics-symbol\" aria-roledescription=\"line mark\" d=\"M0,19.268L30,17.305L60,14.478L90,13.183L120,12.356L150,11.73L180,10.129L210,4.714L240,3.062L270,0.341L300,3.183\" stroke=\"rgb(180, 222, 44)\" stroke-width=\"2\"/></g></g><path class=\"foreground\" aria-hidden=\"true\" d=\"\" display=\"none\"/></g></g><g class=\"mark-group role-legend\" role=\"graphics-symbol\" aria-roledescription=\"legend\" aria-label=\"Symbol legend titled 'Height above snow (mm)' for stroke color with 8 values: 0, 5, 10, 15, 20, ending with 35\"><g transform=\"translate(320,0)\"><path class=\"background\" aria-hidden=\"true\" d=\"M0,0h70v131h-70Z\" pointer-events=\"none\"/><g><g class=\"mark-group role-legend-entry\"><g transform=\"translate(0,29)\"><path class=\"background\" aria-hidden=\"true\" d=\"M0,0h0v0h0Z\" pointer-events=\"none\"/><g><g class=\"mark-group role-scope\" role=\"graphics-object\" aria-roledescription=\"group mark container\"><g transform=\"translate(0,0)\"><path class=\"background\" aria-hidden=\"true\" d=\"M0,0h27.123046875v11h-27.123046875Z\" pointer-events=\"none\" opacity=\"1\"/><g><g class=\"mark-symbol role-legend-symbol\" pointer-events=\"none\"><path transform=\"translate(6,6)\" d=\"M-5,0L5,0\" stroke=\"rgb(72, 40, 120)\" stroke-width=\"1.5\" opacity=\"1\"/></g><g class=\"mark-text role-legend-label\" pointer-events=\"none\"><text text-anchor=\"start\" transform=\"translate(16,9)\" font-family=\"sans-serif\" font-size=\"10px\" fill=\"#000\" opacity=\"1\">0</text></g></g><path class=\"foreground\" aria-hidden=\"true\" d=\"\" pointer-events=\"none\" display=\"none\"/></g><g transform=\"translate(0,13)\"><path class=\"background\" aria-hidden=\"true\" d=\"M0,0h27.123046875v11h-27.123046875Z\" pointer-events=\"none\" opacity=\"1\"/><g><g class=\"mark-symbol role-legend-symbol\" pointer-events=\"none\"><path transform=\"translate(6,6)\" d=\"M-5,0L5,0\" stroke=\"rgb(62, 75, 137)\" stroke-width=\"1.5\" opacity=\"1\"/></g><g class=\"mark-text role-legend-label\" pointer-events=\"none\"><text text-anchor=\"start\" transform=\"translate(16,9)\" font-family=\"sans-serif\" font-size=\"10px\" fill=\"#000\" opacity=\"1\">5</text></g></g><path class=\"foreground\" aria-hidden=\"true\" d=\"\" pointer-events=\"none\" display=\"none\"/></g><g transform=\"translate(0,26)\"><path class=\"background\" aria-hidden=\"true\" d=\"M0,0h27.123046875v11h-27.123046875Z\" pointer-events=\"none\" opacity=\"1\"/><g><g class=\"mark-symbol role-legend-symbol\" pointer-events=\"none\"><path transform=\"translate(6,6)\" d=\"M-5,0L5,0\" stroke=\"rgb(49, 104, 142)\" stroke-width=\"1.5\" opacity=\"1\"/></g><g class=\"mark-text role-legend-label\" pointer-events=\"none\"><text text-anchor=\"start\" transform=\"translate(16,9)\" font-family=\"sans-serif\" font-size=\"10px\" fill=\"#000\" opacity=\"1\">10</text></g></g><path class=\"foreground\" aria-hidden=\"true\" d=\"\" pointer-events=\"none\" display=\"none\"/></g><g transform=\"translate(0,39)\"><path class=\"background\" aria-hidden=\"true\" d=\"M0,0h27.123046875v11h-27.123046875Z\" pointer-events=\"none\" opacity=\"1\"/><g><g class=\"mark-symbol role-legend-symbol\" pointer-events=\"none\"><path transform=\"translate(6,6)\" d=\"M-5,0L5,0\" stroke=\"rgb(38, 131, 142)\" stroke-width=\"1.5\" opacity=\"1\"/></g><g class=\"mark-text role-legend-label\" pointer-events=\"none\"><text text-anchor=\"start\" transform=\"translate(16,9)\" font-family=\"sans-serif\" font-size=\"10px\" fill=\"#000\" opacity=\"1\">15</text></g></g><path class=\"foreground\" aria-hidden=\"true\" d=\"\" pointer-events=\"none\" display=\"none\"/></g><g transform=\"translate(0,52)\"><path class=\"background\" aria-hidden=\"true\" d=\"M0,0h27.123046875v11h-27.123046875Z\" pointer-events=\"none\" opacity=\"1\"/><g><g class=\"mark-symbol role-legend-symbol\" pointer-events=\"none\"><path transform=\"translate(6,6)\" d=\"M-5,0L5,0\" stroke=\"rgb(31, 157, 137)\" stroke-width=\"1.5\" opacity=\"1\"/></g><g class=\"mark-text role-legend-label\" pointer-events=\"none\"><text text-anchor=\"start\" transform=\"translate(16,9)\" font-family=\"sans-serif\" font-size=\"10px\" fill=\"#000\" opacity=\"1\">20</text></g></g><path class=\"foreground\" aria-hidden=\"true\" d=\"\" pointer-events=\"none\" display=\"none\"/></g><g transform=\"translate(0,65)\"><path class=\"background\" aria-hidden=\"true\" d=\"M0,0h27.123046875v11h-27.123046875Z\" pointer-events=\"none\" opacity=\"1\"/><g><g class=\"mark-symbol role-legend-symbol\" pointer-events=\"none\"><path transform=\"translate(6,6)\" d=\"M-5,0L5,0\" stroke=\"rgb(53, 183, 121)\" stroke-width=\"1.5\" opacity=\"1\"/></g><g class=\"mark-text role-legend-label\" pointer-events=\"none\"><text text-anchor=\"start\" transform=\"translate(16,9)\" font-family=\"sans-serif\" font-size=\"10px\" fill=\"#000\" opacity=\"1\">25</text></g></g><path class=\"foreground\" aria-hidden=\"true\" d=\"\" pointer-events=\"none\" display=\"none\"/></g><g transform=\"translate(0,78)\"><path class=\"background\" aria-hidden=\"true\" d=\"M0,0h27.123046875v11h-27.123046875Z\" pointer-events=\"none\" opacity=\"1\"/><g><g class=\"mark-symbol role-legend-symbol\" pointer-events=\"none\"><path transform=\"translate(6,6)\" d=\"M-5,0L5,0\" stroke=\"rgb(109, 206, 89)\" stroke-width=\"1.5\" opacity=\"1\"/></g><g class=\"mark-text role-legend-label\" pointer-events=\"none\"><text text-anchor=\"start\" transform=\"translate(16,9)\" font-family=\"sans-serif\" font-size=\"10px\" fill=\"#000\" opacity=\"1\">30</text></g></g><path class=\"foreground\" aria-hidden=\"true\" d=\"\" pointer-events=\"none\" display=\"none\"/></g><g transform=\"translate(0,91)\"><path class=\"background\" aria-hidden=\"true\" d=\"M0,0h27.123046875v11h-27.123046875Z\" pointer-events=\"none\" opacity=\"1\"/><g><g class=\"mark-symbol role-legend-symbol\" pointer-events=\"none\"><path transform=\"translate(6,6)\" d=\"M-5,0L5,0\" stroke=\"rgb(180, 222, 44)\" stroke-width=\"1.5\" opacity=\"1\"/></g><g class=\"mark-text role-legend-label\" pointer-events=\"none\"><text text-anchor=\"start\" transform=\"translate(16,9)\" font-family=\"sans-serif\" font-size=\"10px\" fill=\"#000\" opacity=\"1\">35</text></g></g><path class=\"foreground\" aria-hidden=\"true\" d=\"\" pointer-events=\"none\" display=\"none\"/></g></g></g><path class=\"foreground\" aria-hidden=\"true\" d=\"\" pointer-events=\"none\" display=\"none\"/></g></g><g class=\"mark-text role-legend-title\" pointer-events=\"none\"><text text-anchor=\"start\" transform=\"translate(0,9)\" font-family=\"sans-serif\" font-size=\"11px\" font-weight=\"bold\" fill=\"#000\" opacity=\"1\"><tspan>Height above</tspan><tspan x=\"0\" dy=\"13\">snow (mm)</tspan></text></g></g><path class=\"foreground\" aria-hidden=\"true\" d=\"\" pointer-events=\"none\" display=\"none\"/></g></g><g class=\"mark-group role-title\"><g transform=\"translate(150,-18.659362499999915)\"><path class=\"background\" aria-hidden=\"true\" d=\"M0,0h0v0h0Z\" pointer-events=\"none\"/><g><g class=\"mark-text role-title-text\" role=\"graphics-symbol\" aria-roledescription=\"title\" aria-label=\"Title text '2023-02-03'\" pointer-events=\"none\"><text text-anchor=\"middle\" transform=\"translate(0,10)\" font-family=\"sans-serif\" font-size=\"13px\" font-weight=\"bold\" fill=\"#000\" opacity=\"1\">2023-02-03</text></g></g><path class=\"foreground\" aria-hidden=\"true\" d=\"\" pointer-events=\"none\" display=\"none\"/></g></g></g><path class=\"foreground\" aria-hidden=\"true\" d=\"\" display=\"none\"/></g></g></g></svg>"
      ],
      "text/plain": [
       "alt.Chart(...)"
      ]
     },
     "execution_count": 371,
     "metadata": {},
     "output_type": "execute_result"
    }
   ],
   "source": [
    "alt.Chart(df).transform_window(\n",
    "    rolling_mean='mean(value)',\n",
    "    frame=[1,1],\n",
    "    groupby=['variable']\n",
    ").mark_line().encode(\n",
    "    alt.X('time:T', title=\"Time (s)\"),\n",
    "    alt.Y('rolling_mean:Q', scale=alt.Scale(zero=False), title=\"Temperature (˚C)\"),\n",
    "    alt.Color('variable:O', scale = alt.Scale(scheme='viridis'), title=['Height above', 'snow (mm)'])\n",
    ").properties(width=300, height=150, title = df['time'].dt.date.iloc[0].strftime(\"%Y-%m-%d\"))"
   ]
  },
  {
   "cell_type": "code",
   "execution_count": 372,
   "metadata": {},
   "outputs": [
    {
     "name": "stderr",
     "output_type": "stream",
     "text": [
      "/tmp/ipykernel_73495/2036651066.py:1: FutureWarning: The default value of numeric_only in DataFrameGroupBy.mean is deprecated. In a future version, numeric_only will default to False. Either specify numeric_only or select only columns which should be valid for the function.\n",
      "  src = df.groupby(\"variable\").mean().reset_index()\n"
     ]
    },
    {
     "data": {
      "image/svg+xml": [
       "<svg xmlns=\"http://www.w3.org/2000/svg\" xmlns:xlink=\"http://www.w3.org/1999/xlink\" version=\"1.1\" class=\"marks\" width=\"144\" height=\"247\" viewBox=\"0 0 144 247\"><rect width=\"144\" height=\"247\" fill=\"white\"/><g fill=\"none\" stroke-miterlimit=\"10\" transform=\"translate(39,10)\"><g class=\"mark-group role-frame root\" role=\"graphics-object\" aria-roledescription=\"group mark container\"><g transform=\"translate(0,0)\"><path class=\"background\" aria-hidden=\"true\" d=\"M0.5,0.5h100v200h-100Z\" stroke=\"#ddd\"/><g><g class=\"mark-group role-axis\" aria-hidden=\"true\"><g transform=\"translate(0.5,200.5)\"><path class=\"background\" aria-hidden=\"true\" d=\"M0,0h0v0h0Z\" pointer-events=\"none\"/><g><g class=\"mark-rule role-axis-grid\" pointer-events=\"none\"><line transform=\"translate(0,-200)\" x2=\"0\" y2=\"200\" stroke=\"#ddd\" stroke-width=\"1\" opacity=\"1\"/><line transform=\"translate(29,-200)\" x2=\"0\" y2=\"200\" stroke=\"#ddd\" stroke-width=\"1\" opacity=\"1\"/><line transform=\"translate(57,-200)\" x2=\"0\" y2=\"200\" stroke=\"#ddd\" stroke-width=\"1\" opacity=\"1\"/><line transform=\"translate(86,-200)\" x2=\"0\" y2=\"200\" stroke=\"#ddd\" stroke-width=\"1\" opacity=\"1\"/></g></g><path class=\"foreground\" aria-hidden=\"true\" d=\"\" pointer-events=\"none\" display=\"none\"/></g></g><g class=\"mark-group role-axis\" aria-hidden=\"true\"><g transform=\"translate(0.5,0.5)\"><path class=\"background\" aria-hidden=\"true\" d=\"M0,0h0v0h0Z\" pointer-events=\"none\"/><g><g class=\"mark-rule role-axis-grid\" pointer-events=\"none\"><line transform=\"translate(0,200)\" x2=\"100\" y2=\"0\" stroke=\"#ddd\" stroke-width=\"1\" opacity=\"1\"/><line transform=\"translate(0,171)\" x2=\"100\" y2=\"0\" stroke=\"#ddd\" stroke-width=\"1\" opacity=\"1\"/><line transform=\"translate(0,143)\" x2=\"100\" y2=\"0\" stroke=\"#ddd\" stroke-width=\"1\" opacity=\"1\"/><line transform=\"translate(0,114)\" x2=\"100\" y2=\"0\" stroke=\"#ddd\" stroke-width=\"1\" opacity=\"1\"/><line transform=\"translate(0,86)\" x2=\"100\" y2=\"0\" stroke=\"#ddd\" stroke-width=\"1\" opacity=\"1\"/><line transform=\"translate(0,57)\" x2=\"100\" y2=\"0\" stroke=\"#ddd\" stroke-width=\"1\" opacity=\"1\"/><line transform=\"translate(0,29)\" x2=\"100\" y2=\"0\" stroke=\"#ddd\" stroke-width=\"1\" opacity=\"1\"/><line transform=\"translate(0,0)\" x2=\"100\" y2=\"0\" stroke=\"#ddd\" stroke-width=\"1\" opacity=\"1\"/></g></g><path class=\"foreground\" aria-hidden=\"true\" d=\"\" pointer-events=\"none\" display=\"none\"/></g></g><g class=\"mark-group role-axis\" role=\"graphics-symbol\" aria-roledescription=\"axis\" aria-label=\"X-axis titled 'Temperature (˚C)' for a linear scale with values from −20.0 to −16.5\"><g transform=\"translate(0.5,200.5)\"><path class=\"background\" aria-hidden=\"true\" d=\"M0,0h0v0h0Z\" pointer-events=\"none\"/><g><g class=\"mark-rule role-axis-tick\" pointer-events=\"none\"><line transform=\"translate(0,0)\" x2=\"0\" y2=\"5\" stroke=\"#888\" stroke-width=\"1\" opacity=\"1\"/><line transform=\"translate(29,0)\" x2=\"0\" y2=\"5\" stroke=\"#888\" stroke-width=\"1\" opacity=\"1\"/><line transform=\"translate(57,0)\" x2=\"0\" y2=\"5\" stroke=\"#888\" stroke-width=\"1\" opacity=\"1\"/><line transform=\"translate(86,0)\" x2=\"0\" y2=\"5\" stroke=\"#888\" stroke-width=\"1\" opacity=\"1\"/></g><g class=\"mark-text role-axis-label\" pointer-events=\"none\"><text text-anchor=\"start\" transform=\"translate(0,15)\" font-family=\"sans-serif\" font-size=\"10px\" fill=\"#000\" opacity=\"1\">−20</text><text text-anchor=\"middle\" transform=\"translate(28.57142857142857,15)\" font-family=\"sans-serif\" font-size=\"10px\" fill=\"#000\" opacity=\"1\">−19</text><text text-anchor=\"middle\" transform=\"translate(57.14285714285714,15)\" font-family=\"sans-serif\" font-size=\"10px\" fill=\"#000\" opacity=\"1\">−18</text><text text-anchor=\"middle\" transform=\"translate(85.71428571428571,15)\" font-family=\"sans-serif\" font-size=\"10px\" fill=\"#000\" opacity=\"1\">−17</text></g><g class=\"mark-rule role-axis-domain\" pointer-events=\"none\"><line transform=\"translate(0,0)\" x2=\"100\" y2=\"0\" stroke=\"#888\" stroke-width=\"1\" opacity=\"1\"/></g><g class=\"mark-text role-axis-title\" pointer-events=\"none\"><text text-anchor=\"middle\" transform=\"translate(50,30)\" font-family=\"sans-serif\" font-size=\"11px\" font-weight=\"bold\" fill=\"#000\" opacity=\"1\">Temperature (˚C)</text></g></g><path class=\"foreground\" aria-hidden=\"true\" d=\"\" pointer-events=\"none\" display=\"none\"/></g></g><g class=\"mark-group role-axis\" role=\"graphics-symbol\" aria-roledescription=\"axis\" aria-label=\"Y-axis titled 'Height above snow (mm)' for a linear scale with values from 0 to 35\"><g transform=\"translate(0.5,0.5)\"><path class=\"background\" aria-hidden=\"true\" d=\"M0,0h0v0h0Z\" pointer-events=\"none\"/><g><g class=\"mark-rule role-axis-tick\" pointer-events=\"none\"><line transform=\"translate(0,200)\" x2=\"-5\" y2=\"0\" stroke=\"#888\" stroke-width=\"1\" opacity=\"1\"/><line transform=\"translate(0,171)\" x2=\"-5\" y2=\"0\" stroke=\"#888\" stroke-width=\"1\" opacity=\"1\"/><line transform=\"translate(0,143)\" x2=\"-5\" y2=\"0\" stroke=\"#888\" stroke-width=\"1\" opacity=\"1\"/><line transform=\"translate(0,114)\" x2=\"-5\" y2=\"0\" stroke=\"#888\" stroke-width=\"1\" opacity=\"1\"/><line transform=\"translate(0,86)\" x2=\"-5\" y2=\"0\" stroke=\"#888\" stroke-width=\"1\" opacity=\"1\"/><line transform=\"translate(0,57)\" x2=\"-5\" y2=\"0\" stroke=\"#888\" stroke-width=\"1\" opacity=\"1\"/><line transform=\"translate(0,29)\" x2=\"-5\" y2=\"0\" stroke=\"#888\" stroke-width=\"1\" opacity=\"1\"/><line transform=\"translate(0,0)\" x2=\"-5\" y2=\"0\" stroke=\"#888\" stroke-width=\"1\" opacity=\"1\"/></g><g class=\"mark-text role-axis-label\" pointer-events=\"none\"><text text-anchor=\"end\" transform=\"translate(-7,203)\" font-family=\"sans-serif\" font-size=\"10px\" fill=\"#000\" opacity=\"1\">0</text><text text-anchor=\"end\" transform=\"translate(-7,174.42857142857144)\" font-family=\"sans-serif\" font-size=\"10px\" fill=\"#000\" opacity=\"1\">5</text><text text-anchor=\"end\" transform=\"translate(-7,145.85714285714286)\" font-family=\"sans-serif\" font-size=\"10px\" fill=\"#000\" opacity=\"1\">10</text><text text-anchor=\"end\" transform=\"translate(-7,117.28571428571428)\" font-family=\"sans-serif\" font-size=\"10px\" fill=\"#000\" opacity=\"1\">15</text><text text-anchor=\"end\" transform=\"translate(-7,88.71428571428572)\" font-family=\"sans-serif\" font-size=\"10px\" fill=\"#000\" opacity=\"1\">20</text><text text-anchor=\"end\" transform=\"translate(-7,60.14285714285714)\" font-family=\"sans-serif\" font-size=\"10px\" fill=\"#000\" opacity=\"1\">25</text><text text-anchor=\"end\" transform=\"translate(-7,31.57142857142858)\" font-family=\"sans-serif\" font-size=\"10px\" fill=\"#000\" opacity=\"1\">30</text><text text-anchor=\"end\" transform=\"translate(-7,3)\" font-family=\"sans-serif\" font-size=\"10px\" fill=\"#000\" opacity=\"1\">35</text></g><g class=\"mark-rule role-axis-domain\" pointer-events=\"none\"><line transform=\"translate(0,200)\" x2=\"0\" y2=\"-200\" stroke=\"#888\" stroke-width=\"1\" opacity=\"1\"/></g><g class=\"mark-text role-axis-title\" pointer-events=\"none\"><text text-anchor=\"middle\" transform=\"translate(-22.123046875,100) rotate(-90) translate(0,-2)\" font-family=\"sans-serif\" font-size=\"11px\" font-weight=\"bold\" fill=\"#000\" opacity=\"1\">Height above snow (mm)</text></g></g><path class=\"foreground\" aria-hidden=\"true\" d=\"\" pointer-events=\"none\" display=\"none\"/></g></g><g class=\"mark-line role-mark layer_0_marks\" role=\"graphics-object\" aria-roledescription=\"line mark container\"><path aria-label=\"Temperature (˚C): −16.7654385455; Height above snow (mm): 35\" role=\"graphics-symbol\" aria-roledescription=\"line mark\" d=\"M92.416,0L91.889,28.571L86.368,57.143L84.85,85.714L69.448,114.286L74.835,142.857L46.206,171.429L2.884,200\" stroke=\"#4c78a8\" stroke-width=\"2\"/></g><g class=\"mark-symbol role-mark layer_1_marks\" role=\"graphics-object\" aria-roledescription=\"symbol mark container\"><path aria-label=\"Temperature (˚C): −19.8990764545; Height above snow (mm): 0\" role=\"graphics-symbol\" aria-roledescription=\"point\" transform=\"translate(2.883529870129869,200)\" d=\"M2.739,0A2.739,2.739,0,1,1,-2.739,0A2.739,2.739,0,1,1,2.739,0\" fill=\"#4c78a8\" stroke-width=\"2\" opacity=\"1\"/><path aria-label=\"Temperature (˚C): −18.3827745455; Height above snow (mm): 5\" role=\"graphics-symbol\" aria-roledescription=\"point\" transform=\"translate(46.20644155844157,171.42857142857144)\" d=\"M2.739,0A2.739,2.739,0,1,1,-2.739,0A2.739,2.739,0,1,1,2.739,0\" fill=\"#4c78a8\" stroke-width=\"2\" opacity=\"1\"/><path aria-label=\"Temperature (˚C): −17.3807589091; Height above snow (mm): 10\" role=\"graphics-symbol\" aria-roledescription=\"point\" transform=\"translate(74.83545974025978,142.85714285714286)\" d=\"M2.739,0A2.739,2.739,0,1,1,-2.739,0A2.739,2.739,0,1,1,2.739,0\" fill=\"#4c78a8\" stroke-width=\"2\" opacity=\"1\"/><path aria-label=\"Temperature (˚C): −17.5693091818; Height above snow (mm): 15\" role=\"graphics-symbol\" aria-roledescription=\"point\" transform=\"translate(69.44830909090902,114.28571428571428)\" d=\"M2.739,0A2.739,2.739,0,1,1,-2.739,0A2.739,2.739,0,1,1,2.739,0\" fill=\"#4c78a8\" stroke-width=\"2\" opacity=\"1\"/><path aria-label=\"Temperature (˚C): −17.0302409091; Height above snow (mm): 20\" role=\"graphics-symbol\" aria-roledescription=\"point\" transform=\"translate(84.85025974025972,85.71428571428572)\" d=\"M2.739,0A2.739,2.739,0,1,1,-2.739,0A2.739,2.739,0,1,1,2.739,0\" fill=\"#4c78a8\" stroke-width=\"2\" opacity=\"1\"/><path aria-label=\"Temperature (˚C): −16.9771306364; Height above snow (mm): 25\" role=\"graphics-symbol\" aria-roledescription=\"point\" transform=\"translate(86.36769610389611,57.14285714285714)\" d=\"M2.739,0A2.739,2.739,0,1,1,-2.739,0A2.739,2.739,0,1,1,2.739,0\" fill=\"#4c78a8\" stroke-width=\"2\" opacity=\"1\"/><path aria-label=\"Temperature (˚C): −16.7838768182; Height above snow (mm): 30\" role=\"graphics-symbol\" aria-roledescription=\"point\" transform=\"translate(91.8892337662337,28.57142857142858)\" d=\"M2.739,0A2.739,2.739,0,1,1,-2.739,0A2.739,2.739,0,1,1,2.739,0\" fill=\"#4c78a8\" stroke-width=\"2\" opacity=\"1\"/><path aria-label=\"Temperature (˚C): −16.7654385455; Height above snow (mm): 35\" role=\"graphics-symbol\" aria-roledescription=\"point\" transform=\"translate(92.41604155844152,0)\" d=\"M2.739,0A2.739,2.739,0,1,1,-2.739,0A2.739,2.739,0,1,1,2.739,0\" fill=\"#4c78a8\" stroke-width=\"2\" opacity=\"1\"/></g></g><path class=\"foreground\" aria-hidden=\"true\" d=\"\" display=\"none\"/></g></g></g></svg>"
      ],
      "text/plain": [
       "alt.Chart(...)"
      ]
     },
     "execution_count": 372,
     "metadata": {},
     "output_type": "execute_result"
    }
   ],
   "source": [
    "src = df.groupby(\"variable\").mean().reset_index()\n",
    "alt.Chart(src).mark_line(point=True).encode(\n",
    "    alt.X('value:Q', sort='-y', title='Temperature (˚C)'),\n",
    "    alt.Y('variable:Q', title='Height above snow (mm)')\n",
    ").properties(width=100, height=200)"
   ]
  },
  {
   "cell_type": "code",
   "execution_count": 373,
   "metadata": {},
   "outputs": [],
   "source": [
    "temp_profile_5mm = src.copy()"
   ]
  },
  {
   "cell_type": "markdown",
   "metadata": {},
   "source": [
    "# Extract an overlapping timespan from the SoS dataset and the Temperature variables."
   ]
  },
  {
   "cell_type": "code",
   "execution_count": 374,
   "metadata": {},
   "outputs": [
    {
     "data": {
      "text/html": [
       "<div>\n",
       "<style scoped>\n",
       "    .dataframe tbody tr th:only-of-type {\n",
       "        vertical-align: middle;\n",
       "    }\n",
       "\n",
       "    .dataframe tbody tr th {\n",
       "        vertical-align: top;\n",
       "    }\n",
       "\n",
       "    .dataframe thead th {\n",
       "        text-align: right;\n",
       "    }\n",
       "</style>\n",
       "<table border=\"1\" class=\"dataframe\">\n",
       "  <thead>\n",
       "    <tr style=\"text-align: right;\">\n",
       "      <th></th>\n",
       "      <th>time_seconds</th>\n",
       "      <th>side</th>\n",
       "      <th>variable</th>\n",
       "      <th>value</th>\n",
       "      <th>time</th>\n",
       "    </tr>\n",
       "  </thead>\n",
       "  <tbody>\n",
       "    <tr>\n",
       "      <th>0</th>\n",
       "      <td>0</td>\n",
       "      <td>low</td>\n",
       "      <td>0</td>\n",
       "      <td>-20.178085</td>\n",
       "      <td>2023-02-03 20:00:00</td>\n",
       "    </tr>\n",
       "    <tr>\n",
       "      <th>0</th>\n",
       "      <td>0</td>\n",
       "      <td>high</td>\n",
       "      <td>5</td>\n",
       "      <td>-18.936782</td>\n",
       "      <td>2023-02-03 20:00:00</td>\n",
       "    </tr>\n",
       "    <tr>\n",
       "      <th>11</th>\n",
       "      <td>0</td>\n",
       "      <td>low</td>\n",
       "      <td>10</td>\n",
       "      <td>-17.674011</td>\n",
       "      <td>2023-02-03 20:00:00</td>\n",
       "    </tr>\n",
       "    <tr>\n",
       "      <th>11</th>\n",
       "      <td>0</td>\n",
       "      <td>high</td>\n",
       "      <td>15</td>\n",
       "      <td>-17.972473</td>\n",
       "      <td>2023-02-03 20:00:00</td>\n",
       "    </tr>\n",
       "    <tr>\n",
       "      <th>22</th>\n",
       "      <td>0</td>\n",
       "      <td>low</td>\n",
       "      <td>20</td>\n",
       "      <td>-17.274871</td>\n",
       "      <td>2023-02-03 20:00:00</td>\n",
       "    </tr>\n",
       "    <tr>\n",
       "      <th>...</th>\n",
       "      <td>...</td>\n",
       "      <td>...</td>\n",
       "      <td>...</td>\n",
       "      <td>...</td>\n",
       "      <td>...</td>\n",
       "    </tr>\n",
       "    <tr>\n",
       "      <th>21</th>\n",
       "      <td>50</td>\n",
       "      <td>high</td>\n",
       "      <td>15</td>\n",
       "      <td>-17.230407</td>\n",
       "      <td>2023-02-03 20:00:50</td>\n",
       "    </tr>\n",
       "    <tr>\n",
       "      <th>32</th>\n",
       "      <td>50</td>\n",
       "      <td>low</td>\n",
       "      <td>20</td>\n",
       "      <td>-16.758422</td>\n",
       "      <td>2023-02-03 20:00:50</td>\n",
       "    </tr>\n",
       "    <tr>\n",
       "      <th>32</th>\n",
       "      <td>50</td>\n",
       "      <td>high</td>\n",
       "      <td>25</td>\n",
       "      <td>-16.712585</td>\n",
       "      <td>2023-02-03 20:00:50</td>\n",
       "    </tr>\n",
       "    <tr>\n",
       "      <th>43</th>\n",
       "      <td>50</td>\n",
       "      <td>low</td>\n",
       "      <td>30</td>\n",
       "      <td>-16.613983</td>\n",
       "      <td>2023-02-03 20:00:50</td>\n",
       "    </tr>\n",
       "    <tr>\n",
       "      <th>43</th>\n",
       "      <td>50</td>\n",
       "      <td>high</td>\n",
       "      <td>35</td>\n",
       "      <td>-16.581726</td>\n",
       "      <td>2023-02-03 20:00:50</td>\n",
       "    </tr>\n",
       "  </tbody>\n",
       "</table>\n",
       "<p>88 rows × 5 columns</p>\n",
       "</div>"
      ],
      "text/plain": [
       "    time_seconds  side variable      value                time\n",
       "0              0   low        0 -20.178085 2023-02-03 20:00:00\n",
       "0              0  high        5 -18.936782 2023-02-03 20:00:00\n",
       "11             0   low       10 -17.674011 2023-02-03 20:00:00\n",
       "11             0  high       15 -17.972473 2023-02-03 20:00:00\n",
       "22             0   low       20 -17.274871 2023-02-03 20:00:00\n",
       "..           ...   ...      ...        ...                 ...\n",
       "21            50  high       15 -17.230407 2023-02-03 20:00:50\n",
       "32            50   low       20 -16.758422 2023-02-03 20:00:50\n",
       "32            50  high       25 -16.712585 2023-02-03 20:00:50\n",
       "43            50   low       30 -16.613983 2023-02-03 20:00:50\n",
       "43            50  high       35 -16.581726 2023-02-03 20:00:50\n",
       "\n",
       "[88 rows x 5 columns]"
      ]
     },
     "execution_count": 374,
     "metadata": {},
     "output_type": "execute_result"
    }
   ],
   "source": [
    "df"
   ]
  },
  {
   "cell_type": "code",
   "execution_count": 375,
   "metadata": {},
   "outputs": [
    {
     "name": "stderr",
     "output_type": "stream",
     "text": [
      "/tmp/ipykernel_73495/3572387566.py:1: UserWarning: Boolean Series key will be reindexed to match DataFrame index.\n",
      "  kps_data = tidy_df_5Min[\n"
     ]
    }
   ],
   "source": [
    "kps_data = tidy_df_5Min[\n",
    "    tidy_df_5Min.measurement.isin([\n",
    "        'temperature', 'surface temperature', 'snow temperature', \n",
    "    ])\n",
    "][\n",
    "    (tidy_df_5Min.time == '2023-02-03 20:02:30') | (tidy_df_5Min.time == '2023-02-03 19:57:30')\n",
    "]"
   ]
  },
  {
   "cell_type": "markdown",
   "metadata": {},
   "source": [
    "# Figure out which sensors are above the snow...if there are any..."
   ]
  },
  {
   "cell_type": "code",
   "execution_count": 376,
   "metadata": {},
   "outputs": [
    {
     "data": {
      "image/svg+xml": [
       "<svg xmlns=\"http://www.w3.org/2000/svg\" xmlns:xlink=\"http://www.w3.org/1999/xlink\" version=\"1.1\" class=\"marks\" width=\"657\" height=\"370\" viewBox=\"0 0 657 370\"><rect width=\"657\" height=\"370\" fill=\"white\"/><g fill=\"none\" stroke-miterlimit=\"10\" transform=\"translate(98,10)\"><g class=\"mark-group role-frame root\" role=\"graphics-object\" aria-roledescription=\"group mark container\"><g transform=\"translate(0,0)\"><path class=\"background\" aria-hidden=\"true\" d=\"M0,0h0v0h0Z\"/><g><g class=\"mark-group role-row-title row-title\" role=\"graphics-object\" aria-roledescription=\"group mark container\"><g transform=\"translate(-72,161)\"><path class=\"background\" aria-hidden=\"true\" d=\"M0,0h0v0h0Z\"/><g><g class=\"mark-group role-title\"><g transform=\"translate(-21.000000000000004,0)\"><path class=\"background\" aria-hidden=\"true\" d=\"M0,0h0v0h0Z\" pointer-events=\"none\"/><g><g class=\"mark-text role-title-text\" role=\"graphics-symbol\" aria-roledescription=\"title\" aria-label=\"Title text 'tower'\" pointer-events=\"none\"><text text-anchor=\"middle\" transform=\"translate(0,0) rotate(-90) translate(0,9)\" font-family=\"sans-serif\" font-size=\"11px\" font-weight=\"bold\" fill=\"#000\" opacity=\"1\">tower</text></g></g><path class=\"foreground\" aria-hidden=\"true\" d=\"\" pointer-events=\"none\" display=\"none\"/></g></g></g><path class=\"foreground\" aria-hidden=\"true\" d=\"\" display=\"none\"/></g></g><g class=\"mark-group role-row-header row_header\" role=\"graphics-object\" aria-roledescription=\"group mark container\"><g transform=\"translate(-3,0)\"><path class=\"background\" aria-hidden=\"true\" d=\"M0,0h0v150h0Z\"/><g><g class=\"mark-group role-axis\" role=\"graphics-symbol\" aria-roledescription=\"axis\" aria-label=\"Y-axis titled 'Temperature (˚C)' for a linear scale with values from −18 to 0\"><g transform=\"translate(0.5,0.5)\"><path class=\"background\" aria-hidden=\"true\" d=\"M0,0h0v0h0Z\" pointer-events=\"none\"/><g><g class=\"mark-rule role-axis-tick\" pointer-events=\"none\"><line transform=\"translate(0,125)\" x2=\"-5\" y2=\"0\" stroke=\"#888\" stroke-width=\"1\" opacity=\"1\"/><line transform=\"translate(0,83)\" x2=\"-5\" y2=\"0\" stroke=\"#888\" stroke-width=\"1\" opacity=\"1\"/><line transform=\"translate(0,42)\" x2=\"-5\" y2=\"0\" stroke=\"#888\" stroke-width=\"1\" opacity=\"1\"/><line transform=\"translate(0,0)\" x2=\"-5\" y2=\"0\" stroke=\"#888\" stroke-width=\"1\" opacity=\"1\"/></g><g class=\"mark-text role-axis-label\" pointer-events=\"none\"><text text-anchor=\"end\" transform=\"translate(-7,128)\" font-family=\"sans-serif\" font-size=\"10px\" fill=\"#000\" opacity=\"1\">−15</text><text text-anchor=\"end\" transform=\"translate(-7,86.33333333333334)\" font-family=\"sans-serif\" font-size=\"10px\" fill=\"#000\" opacity=\"1\">−10</text><text text-anchor=\"end\" transform=\"translate(-7,44.66666666666667)\" font-family=\"sans-serif\" font-size=\"10px\" fill=\"#000\" opacity=\"1\">−5</text><text text-anchor=\"end\" transform=\"translate(-7,3)\" font-family=\"sans-serif\" font-size=\"10px\" fill=\"#000\" opacity=\"1\">0</text></g><g class=\"mark-rule role-axis-domain\" pointer-events=\"none\"><line transform=\"translate(0,150)\" x2=\"0\" y2=\"-150\" stroke=\"#888\" stroke-width=\"1\" opacity=\"1\"/></g><g class=\"mark-text role-axis-title\" pointer-events=\"none\"><text text-anchor=\"middle\" transform=\"translate(-27.962890625,75) rotate(-90) translate(0,-2)\" font-family=\"sans-serif\" font-size=\"11px\" font-weight=\"bold\" fill=\"#000\" opacity=\"1\">Temperature (˚C)</text></g></g><path class=\"foreground\" aria-hidden=\"true\" d=\"\" pointer-events=\"none\" display=\"none\"/></g></g><g class=\"mark-group role-title\"><g transform=\"translate(-58.962890625,75)\"><path class=\"background\" aria-hidden=\"true\" d=\"M0,0h0v0h0Z\" pointer-events=\"none\"/><g><g class=\"mark-text role-title-text\" role=\"graphics-symbol\" aria-roledescription=\"title\" aria-label=\"Title text 'd'\" pointer-events=\"none\"><text text-anchor=\"middle\" transform=\"translate(0,0) rotate(-90) translate(0,8)\" font-family=\"sans-serif\" font-size=\"10px\" fill=\"#000\" opacity=\"1\">d</text></g></g><path class=\"foreground\" aria-hidden=\"true\" d=\"\" pointer-events=\"none\" display=\"none\"/></g></g></g><path class=\"foreground\" aria-hidden=\"true\" d=\"\" display=\"none\"/></g><g transform=\"translate(-3,172)\"><path class=\"background\" aria-hidden=\"true\" d=\"M0,0h0v150h0Z\"/><g><g class=\"mark-group role-axis\" role=\"graphics-symbol\" aria-roledescription=\"axis\" aria-label=\"Y-axis titled 'Temperature (˚C)' for a linear scale with values from −18 to 0\"><g transform=\"translate(0.5,0.5)\"><path class=\"background\" aria-hidden=\"true\" d=\"M0,0h0v0h0Z\" pointer-events=\"none\"/><g><g class=\"mark-rule role-axis-tick\" pointer-events=\"none\"><line transform=\"translate(0,125)\" x2=\"-5\" y2=\"0\" stroke=\"#888\" stroke-width=\"1\" opacity=\"1\"/><line transform=\"translate(0,83)\" x2=\"-5\" y2=\"0\" stroke=\"#888\" stroke-width=\"1\" opacity=\"1\"/><line transform=\"translate(0,42)\" x2=\"-5\" y2=\"0\" stroke=\"#888\" stroke-width=\"1\" opacity=\"1\"/><line transform=\"translate(0,0)\" x2=\"-5\" y2=\"0\" stroke=\"#888\" stroke-width=\"1\" opacity=\"1\"/></g><g class=\"mark-text role-axis-label\" pointer-events=\"none\"><text text-anchor=\"end\" transform=\"translate(-7,128)\" font-family=\"sans-serif\" font-size=\"10px\" fill=\"#000\" opacity=\"1\">−15</text><text text-anchor=\"end\" transform=\"translate(-7,86.33333333333334)\" font-family=\"sans-serif\" font-size=\"10px\" fill=\"#000\" opacity=\"1\">−10</text><text text-anchor=\"end\" transform=\"translate(-7,44.66666666666667)\" font-family=\"sans-serif\" font-size=\"10px\" fill=\"#000\" opacity=\"1\">−5</text><text text-anchor=\"end\" transform=\"translate(-7,3)\" font-family=\"sans-serif\" font-size=\"10px\" fill=\"#000\" opacity=\"1\">0</text></g><g class=\"mark-rule role-axis-domain\" pointer-events=\"none\"><line transform=\"translate(0,150)\" x2=\"0\" y2=\"-150\" stroke=\"#888\" stroke-width=\"1\" opacity=\"1\"/></g><g class=\"mark-text role-axis-title\" pointer-events=\"none\"><text text-anchor=\"middle\" transform=\"translate(-27.962890625,75) rotate(-90) translate(0,-2)\" font-family=\"sans-serif\" font-size=\"11px\" font-weight=\"bold\" fill=\"#000\" opacity=\"1\">Temperature (˚C)</text></g></g><path class=\"foreground\" aria-hidden=\"true\" d=\"\" pointer-events=\"none\" display=\"none\"/></g></g><g class=\"mark-group role-title\"><g transform=\"translate(-58.962890625,75)\"><path class=\"background\" aria-hidden=\"true\" d=\"M0,0h0v0h0Z\" pointer-events=\"none\"/><g><g class=\"mark-text role-title-text\" role=\"graphics-symbol\" aria-roledescription=\"title\" aria-label=\"Title text 'uw'\" pointer-events=\"none\"><text text-anchor=\"middle\" transform=\"translate(0,0) rotate(-90) translate(0,8)\" font-family=\"sans-serif\" font-size=\"10px\" fill=\"#000\" opacity=\"1\">uw</text></g></g><path class=\"foreground\" aria-hidden=\"true\" d=\"\" pointer-events=\"none\" display=\"none\"/></g></g></g><path class=\"foreground\" aria-hidden=\"true\" d=\"\" display=\"none\"/></g></g><g class=\"mark-group role-column-footer column_footer\" role=\"graphics-object\" aria-roledescription=\"group mark container\"><g transform=\"translate(0,323)\"><path class=\"background\" aria-hidden=\"true\" d=\"M0,0h500v0h-500Z\"/><g><g class=\"mark-group role-axis\" role=\"graphics-symbol\" aria-roledescription=\"axis\" aria-label=\"X-axis titled 'time' for a time scale with values from Friday, 03 February 2023, 7:57:30 PM to Friday, 03 February 2023, 8:02:30 PM\"><g transform=\"translate(0.5,0.5)\"><path class=\"background\" aria-hidden=\"true\" d=\"M0,0h0v0h0Z\" pointer-events=\"none\"/><g><g class=\"mark-rule role-axis-tick\" pointer-events=\"none\"><line transform=\"translate(0,0)\" x2=\"0\" y2=\"5\" stroke=\"#888\" stroke-width=\"1\" opacity=\"1\"/><line transform=\"translate(50,0)\" x2=\"0\" y2=\"5\" stroke=\"#888\" stroke-width=\"1\" opacity=\"1\"/><line transform=\"translate(100,0)\" x2=\"0\" y2=\"5\" stroke=\"#888\" stroke-width=\"1\" opacity=\"1\"/><line transform=\"translate(150,0)\" x2=\"0\" y2=\"5\" stroke=\"#888\" stroke-width=\"1\" opacity=\"1\"/><line transform=\"translate(200,0)\" x2=\"0\" y2=\"5\" stroke=\"#888\" stroke-width=\"1\" opacity=\"1\"/><line transform=\"translate(250,0)\" x2=\"0\" y2=\"5\" stroke=\"#888\" stroke-width=\"1\" opacity=\"1\"/><line transform=\"translate(300,0)\" x2=\"0\" y2=\"5\" stroke=\"#888\" stroke-width=\"1\" opacity=\"1\"/><line transform=\"translate(350,0)\" x2=\"0\" y2=\"5\" stroke=\"#888\" stroke-width=\"1\" opacity=\"1\"/><line transform=\"translate(400,0)\" x2=\"0\" y2=\"5\" stroke=\"#888\" stroke-width=\"1\" opacity=\"1\"/><line transform=\"translate(450,0)\" x2=\"0\" y2=\"5\" stroke=\"#888\" stroke-width=\"1\" opacity=\"1\"/><line transform=\"translate(500,0)\" x2=\"0\" y2=\"5\" stroke=\"#888\" stroke-width=\"1\" opacity=\"1\"/></g><g class=\"mark-text role-axis-label\" pointer-events=\"none\"><text text-anchor=\"start\" transform=\"translate(0,15)\" font-family=\"sans-serif\" font-size=\"10px\" fill=\"#000\" opacity=\"1\">:30</text><text text-anchor=\"middle\" transform=\"translate(50,15)\" font-family=\"sans-serif\" font-size=\"10px\" fill=\"#000\" opacity=\"1\">07:58</text><text text-anchor=\"middle\" transform=\"translate(100,15)\" font-family=\"sans-serif\" font-size=\"10px\" fill=\"#000\" opacity=\"1\">:30</text><text text-anchor=\"middle\" transform=\"translate(150,15)\" font-family=\"sans-serif\" font-size=\"10px\" fill=\"#000\" opacity=\"1\">07:59</text><text text-anchor=\"middle\" transform=\"translate(200,15)\" font-family=\"sans-serif\" font-size=\"10px\" fill=\"#000\" opacity=\"1\">:30</text><text text-anchor=\"middle\" transform=\"translate(250,15)\" font-family=\"sans-serif\" font-size=\"10px\" fill=\"#000\" opacity=\"1\">08 PM</text><text text-anchor=\"middle\" transform=\"translate(300,15)\" font-family=\"sans-serif\" font-size=\"10px\" fill=\"#000\" opacity=\"1\">:30</text><text text-anchor=\"middle\" transform=\"translate(350,15)\" font-family=\"sans-serif\" font-size=\"10px\" fill=\"#000\" opacity=\"1\">08:01</text><text text-anchor=\"middle\" transform=\"translate(400,15)\" font-family=\"sans-serif\" font-size=\"10px\" fill=\"#000\" opacity=\"1\">:30</text><text text-anchor=\"middle\" transform=\"translate(450,15)\" font-family=\"sans-serif\" font-size=\"10px\" fill=\"#000\" opacity=\"1\">08:02</text><text text-anchor=\"end\" transform=\"translate(500,15)\" font-family=\"sans-serif\" font-size=\"10px\" fill=\"#000\" opacity=\"1\">:30</text></g><g class=\"mark-rule role-axis-domain\" pointer-events=\"none\"><line transform=\"translate(0,0)\" x2=\"500\" y2=\"0\" stroke=\"#888\" stroke-width=\"1\" opacity=\"1\"/></g><g class=\"mark-text role-axis-title\" pointer-events=\"none\"><text text-anchor=\"middle\" transform=\"translate(250,30)\" font-family=\"sans-serif\" font-size=\"11px\" font-weight=\"bold\" fill=\"#000\" opacity=\"1\">time</text></g></g><path class=\"foreground\" aria-hidden=\"true\" d=\"\" pointer-events=\"none\" display=\"none\"/></g></g></g><path class=\"foreground\" aria-hidden=\"true\" d=\"\" display=\"none\"/></g></g><g class=\"mark-group role-scope cell\" role=\"graphics-object\" aria-roledescription=\"group mark container\"><g transform=\"translate(0,0)\"><path class=\"background\" aria-hidden=\"true\" d=\"M0.5,0.5h500v150h-500Z\" stroke=\"#ddd\"/><g><g class=\"mark-group role-axis\" aria-hidden=\"true\"><g transform=\"translate(0.5,150.5)\"><path class=\"background\" aria-hidden=\"true\" d=\"M0,0h0v0h0Z\" pointer-events=\"none\"/><g><g class=\"mark-rule role-axis-grid\" pointer-events=\"none\"><line transform=\"translate(0,-150)\" x2=\"0\" y2=\"150\" stroke=\"#ddd\" stroke-width=\"1\" opacity=\"1\"/><line transform=\"translate(50,-150)\" x2=\"0\" y2=\"150\" stroke=\"#ddd\" stroke-width=\"1\" opacity=\"1\"/><line transform=\"translate(100,-150)\" x2=\"0\" y2=\"150\" stroke=\"#ddd\" stroke-width=\"1\" opacity=\"1\"/><line transform=\"translate(150,-150)\" x2=\"0\" y2=\"150\" stroke=\"#ddd\" stroke-width=\"1\" opacity=\"1\"/><line transform=\"translate(200,-150)\" x2=\"0\" y2=\"150\" stroke=\"#ddd\" stroke-width=\"1\" opacity=\"1\"/><line transform=\"translate(250,-150)\" x2=\"0\" y2=\"150\" stroke=\"#ddd\" stroke-width=\"1\" opacity=\"1\"/><line transform=\"translate(300,-150)\" x2=\"0\" y2=\"150\" stroke=\"#ddd\" stroke-width=\"1\" opacity=\"1\"/><line transform=\"translate(350,-150)\" x2=\"0\" y2=\"150\" stroke=\"#ddd\" stroke-width=\"1\" opacity=\"1\"/><line transform=\"translate(400,-150)\" x2=\"0\" y2=\"150\" stroke=\"#ddd\" stroke-width=\"1\" opacity=\"1\"/><line transform=\"translate(450,-150)\" x2=\"0\" y2=\"150\" stroke=\"#ddd\" stroke-width=\"1\" opacity=\"1\"/><line transform=\"translate(500,-150)\" x2=\"0\" y2=\"150\" stroke=\"#ddd\" stroke-width=\"1\" opacity=\"1\"/></g></g><path class=\"foreground\" aria-hidden=\"true\" d=\"\" pointer-events=\"none\" display=\"none\"/></g></g><g class=\"mark-group role-axis\" aria-hidden=\"true\"><g transform=\"translate(0.5,0.5)\"><path class=\"background\" aria-hidden=\"true\" d=\"M0,0h0v0h0Z\" pointer-events=\"none\"/><g><g class=\"mark-rule role-axis-grid\" pointer-events=\"none\"><line transform=\"translate(0,125)\" x2=\"500\" y2=\"0\" stroke=\"#ddd\" stroke-width=\"1\" opacity=\"1\"/><line transform=\"translate(0,83)\" x2=\"500\" y2=\"0\" stroke=\"#ddd\" stroke-width=\"1\" opacity=\"1\"/><line transform=\"translate(0,42)\" x2=\"500\" y2=\"0\" stroke=\"#ddd\" stroke-width=\"1\" opacity=\"1\"/><line transform=\"translate(0,0)\" x2=\"500\" y2=\"0\" stroke=\"#ddd\" stroke-width=\"1\" opacity=\"1\"/></g></g><path class=\"foreground\" aria-hidden=\"true\" d=\"\" pointer-events=\"none\" display=\"none\"/></g></g><g class=\"mark-group role-scope child_pathgroup\" role=\"graphics-object\" aria-roledescription=\"group mark container\"><g transform=\"translate(0,0)\"><path class=\"background\" aria-hidden=\"true\" d=\"M0,0h500v150h-500Z\"/><g><g class=\"mark-line role-mark child_marks\" role=\"graphics-object\" aria-roledescription=\"line mark container\"><path aria-label=\"time: Feb 03, 2023; Temperature (˚C): −5.37865686417; height: 0.6\" role=\"graphics-symbol\" aria-roledescription=\"line mark\" d=\"M0,44.822L500,44.814\" stroke=\"rgb(41, 174, 236)\" stroke-width=\"2\"/></g></g><path class=\"foreground\" aria-hidden=\"true\" d=\"\" display=\"none\"/></g><g transform=\"translate(0,0)\"><path class=\"background\" aria-hidden=\"true\" d=\"M0,0h500v150h-500Z\"/><g><g class=\"mark-line role-mark child_marks\" role=\"graphics-object\" aria-roledescription=\"line mark container\"><path aria-label=\"time: Feb 03, 2023; Temperature (˚C): −13.219628334; height: 1.2\" role=\"graphics-symbol\" aria-roledescription=\"line mark\" d=\"M0,110.164L500,100.285\" stroke=\"rgb(255, 176, 37)\" stroke-width=\"2\"/></g></g><path class=\"foreground\" aria-hidden=\"true\" d=\"\" display=\"none\"/></g><g transform=\"translate(0,0)\"><path class=\"background\" aria-hidden=\"true\" d=\"M0,0h500v150h-500Z\"/><g><g class=\"mark-line role-mark child_marks\" role=\"graphics-object\" aria-roledescription=\"line mark container\"><path aria-label=\"time: Feb 03, 2023; Temperature (˚C): −3.50908875465; height: 0.4\" role=\"graphics-symbol\" aria-roledescription=\"line mark\" d=\"M0,29.242L500,29.246\" stroke=\"rgb(75, 71, 193)\" stroke-width=\"2\"/></g></g><path class=\"foreground\" aria-hidden=\"true\" d=\"\" display=\"none\"/></g><g transform=\"translate(0,0)\"><path class=\"background\" aria-hidden=\"true\" d=\"M0,0h500v150h-500Z\"/><g><g class=\"mark-line role-mark child_marks\" role=\"graphics-object\" aria-roledescription=\"line mark container\"><path aria-label=\"time: Feb 03, 2023; Temperature (˚C): −4.30854034424; height: 0.5\" role=\"graphics-symbol\" aria-roledescription=\"line mark\" d=\"M0,35.905L500,35.907\" stroke=\"rgb(61, 124, 247)\" stroke-width=\"2\"/></g></g><path class=\"foreground\" aria-hidden=\"true\" d=\"\" display=\"none\"/></g><g transform=\"translate(0,0)\"><path class=\"background\" aria-hidden=\"true\" d=\"M0,0h500v150h-500Z\"/><g><g class=\"mark-line role-mark child_marks\" role=\"graphics-object\" aria-roledescription=\"line mark container\"><path aria-label=\"time: Feb 03, 2023; Temperature (˚C): −14.0345163345; height: 1.1\" role=\"graphics-symbol\" aria-roledescription=\"line mark\" d=\"M0,116.954L500,111.936\" stroke=\"rgb(226, 219, 50)\" stroke-width=\"2\"/></g></g><path class=\"foreground\" aria-hidden=\"true\" d=\"\" display=\"none\"/></g><g transform=\"translate(0,0)\"><path class=\"background\" aria-hidden=\"true\" d=\"M0,0h500v150h-500Z\"/><g><g class=\"mark-line role-mark child_marks\" role=\"graphics-object\" aria-roledescription=\"line mark container\"><path aria-label=\"time: Feb 03, 2023; Temperature (˚C): −12.2613096237; height: 1.4\" role=\"graphics-symbol\" aria-roledescription=\"line mark\" d=\"M0,102.178L500,85.876\" stroke=\"rgb(229, 72, 19)\" stroke-width=\"2\"/></g></g><path class=\"foreground\" aria-hidden=\"true\" d=\"\" display=\"none\"/></g><g transform=\"translate(0,0)\"><path class=\"background\" aria-hidden=\"true\" d=\"M0,0h500v150h-500Z\"/><g><g class=\"mark-line role-mark child_marks\" role=\"graphics-object\" aria-roledescription=\"line mark container\"><path aria-label=\"time: Feb 03, 2023; Temperature (˚C): −6.62881994247; height: 0.8\" role=\"graphics-symbol\" aria-roledescription=\"line mark\" d=\"M0,55.24L500,55.337\" stroke=\"rgb(65, 244, 145)\" stroke-width=\"2\"/></g></g><path class=\"foreground\" aria-hidden=\"true\" d=\"\" display=\"none\"/></g><g transform=\"translate(0,0)\"><path class=\"background\" aria-hidden=\"true\" d=\"M0,0h500v150h-500Z\"/><g><g class=\"mark-line role-mark child_marks\" role=\"graphics-object\" aria-roledescription=\"line mark container\"><path aria-label=\"time: Feb 03, 2023; Temperature (˚C): −8.07977771759; height: 0.9\" role=\"graphics-symbol\" aria-roledescription=\"line mark\" d=\"M0,67.331L500,67.499\" stroke=\"rgb(113, 254, 101)\" stroke-width=\"2\"/></g></g><path class=\"foreground\" aria-hidden=\"true\" d=\"\" display=\"none\"/></g><g transform=\"translate(0,0)\"><path class=\"background\" aria-hidden=\"true\" d=\"M0,0h500v150h-500Z\"/><g><g class=\"mark-line role-mark child_marks\" role=\"graphics-object\" aria-roledescription=\"line mark container\"><path aria-label=\"time: Feb 03, 2023; Temperature (˚C): −11.9085388184; height: 1.5\" role=\"graphics-symbol\" aria-roledescription=\"line mark\" d=\"M0,99.238L500,82.901\" stroke=\"rgb(180, 30, 7)\" stroke-width=\"2\"/></g></g><path class=\"foreground\" aria-hidden=\"true\" d=\"\" display=\"none\"/></g><g transform=\"translate(0,0)\"><path class=\"background\" aria-hidden=\"true\" d=\"M0,0h500v150h-500Z\"/><g><g class=\"mark-line role-mark child_marks\" role=\"graphics-object\" aria-roledescription=\"line mark container\"><path aria-label=\"time: Feb 03, 2023; Temperature (˚C): −15.4532394409; height: 1\" role=\"graphics-symbol\" aria-roledescription=\"line mark\" d=\"M0,128.777L500,123.569\" stroke=\"rgb(172, 245, 69)\" stroke-width=\"2\"/></g></g><path class=\"foreground\" aria-hidden=\"true\" d=\"\" display=\"none\"/></g><g transform=\"translate(0,0)\"><path class=\"background\" aria-hidden=\"true\" d=\"M0,0h500v150h-500Z\"/><g><g class=\"mark-line role-mark child_marks\" role=\"graphics-object\" aria-roledescription=\"line mark container\"><path aria-label=\"time: Feb 03, 2023; Temperature (˚C): −12.5383939743; height: 1.3\" role=\"graphics-symbol\" aria-roledescription=\"line mark\" d=\"M0,104.487L500,91.684\" stroke=\"rgb(255, 125, 29)\" stroke-width=\"2\"/></g></g><path class=\"foreground\" aria-hidden=\"true\" d=\"\" display=\"none\"/></g><g transform=\"translate(0,0)\"><path class=\"background\" aria-hidden=\"true\" d=\"M0,0h500v150h-500Z\"/><g><g class=\"mark-line role-mark child_marks\" role=\"graphics-object\" aria-roledescription=\"line mark container\"><path aria-label=\"time: Feb 03, 2023; Temperature (˚C): −6.0628862381; height: 0.7\" role=\"graphics-symbol\" aria-roledescription=\"line mark\" d=\"M0,50.524L500,50.465\" stroke=\"rgb(40, 216, 194)\" stroke-width=\"2\"/></g></g><path class=\"foreground\" aria-hidden=\"true\" d=\"\" display=\"none\"/></g></g></g><path class=\"foreground\" aria-hidden=\"true\" d=\"\" display=\"none\"/></g><g transform=\"translate(0,172)\"><path class=\"background\" aria-hidden=\"true\" d=\"M0.5,0.5h500v150h-500Z\" stroke=\"#ddd\"/><g><g class=\"mark-group role-axis\" aria-hidden=\"true\"><g transform=\"translate(0.5,150.5)\"><path class=\"background\" aria-hidden=\"true\" d=\"M0,0h0v0h0Z\" pointer-events=\"none\"/><g><g class=\"mark-rule role-axis-grid\" pointer-events=\"none\"><line transform=\"translate(0,-150)\" x2=\"0\" y2=\"150\" stroke=\"#ddd\" stroke-width=\"1\" opacity=\"1\"/><line transform=\"translate(50,-150)\" x2=\"0\" y2=\"150\" stroke=\"#ddd\" stroke-width=\"1\" opacity=\"1\"/><line transform=\"translate(100,-150)\" x2=\"0\" y2=\"150\" stroke=\"#ddd\" stroke-width=\"1\" opacity=\"1\"/><line transform=\"translate(150,-150)\" x2=\"0\" y2=\"150\" stroke=\"#ddd\" stroke-width=\"1\" opacity=\"1\"/><line transform=\"translate(200,-150)\" x2=\"0\" y2=\"150\" stroke=\"#ddd\" stroke-width=\"1\" opacity=\"1\"/><line transform=\"translate(250,-150)\" x2=\"0\" y2=\"150\" stroke=\"#ddd\" stroke-width=\"1\" opacity=\"1\"/><line transform=\"translate(300,-150)\" x2=\"0\" y2=\"150\" stroke=\"#ddd\" stroke-width=\"1\" opacity=\"1\"/><line transform=\"translate(350,-150)\" x2=\"0\" y2=\"150\" stroke=\"#ddd\" stroke-width=\"1\" opacity=\"1\"/><line transform=\"translate(400,-150)\" x2=\"0\" y2=\"150\" stroke=\"#ddd\" stroke-width=\"1\" opacity=\"1\"/><line transform=\"translate(450,-150)\" x2=\"0\" y2=\"150\" stroke=\"#ddd\" stroke-width=\"1\" opacity=\"1\"/><line transform=\"translate(500,-150)\" x2=\"0\" y2=\"150\" stroke=\"#ddd\" stroke-width=\"1\" opacity=\"1\"/></g></g><path class=\"foreground\" aria-hidden=\"true\" d=\"\" pointer-events=\"none\" display=\"none\"/></g></g><g class=\"mark-group role-axis\" aria-hidden=\"true\"><g transform=\"translate(0.5,0.5)\"><path class=\"background\" aria-hidden=\"true\" d=\"M0,0h0v0h0Z\" pointer-events=\"none\"/><g><g class=\"mark-rule role-axis-grid\" pointer-events=\"none\"><line transform=\"translate(0,125)\" x2=\"500\" y2=\"0\" stroke=\"#ddd\" stroke-width=\"1\" opacity=\"1\"/><line transform=\"translate(0,83)\" x2=\"500\" y2=\"0\" stroke=\"#ddd\" stroke-width=\"1\" opacity=\"1\"/><line transform=\"translate(0,42)\" x2=\"500\" y2=\"0\" stroke=\"#ddd\" stroke-width=\"1\" opacity=\"1\"/><line transform=\"translate(0,0)\" x2=\"500\" y2=\"0\" stroke=\"#ddd\" stroke-width=\"1\" opacity=\"1\"/></g></g><path class=\"foreground\" aria-hidden=\"true\" d=\"\" pointer-events=\"none\" display=\"none\"/></g></g><g class=\"mark-group role-scope child_pathgroup\" role=\"graphics-object\" aria-roledescription=\"group mark container\"><g transform=\"translate(0,0)\"><path class=\"background\" aria-hidden=\"true\" d=\"M0,0h500v150h-500Z\"/><g><g class=\"mark-line role-mark child_marks\" role=\"graphics-object\" aria-roledescription=\"line mark container\"><path aria-label=\"time: Feb 03, 2023; Temperature (˚C): −7.42510271072; height: 1.1\" role=\"graphics-symbol\" aria-roledescription=\"line mark\" d=\"M0,61.876L500,62.072\" stroke=\"rgb(226, 219, 50)\" stroke-width=\"2\"/></g></g><path class=\"foreground\" aria-hidden=\"true\" d=\"\" display=\"none\"/></g><g transform=\"translate(0,0)\"><path class=\"background\" aria-hidden=\"true\" d=\"M0,0h500v150h-500Z\"/><g><g class=\"mark-line role-mark child_marks\" role=\"graphics-object\" aria-roledescription=\"line mark container\"><path aria-label=\"time: Feb 03, 2023; Temperature (˚C): −16.4281806946; height: 1.3\" role=\"graphics-symbol\" aria-roledescription=\"line mark\" d=\"M0,136.902L500,137.421\" stroke=\"rgb(255, 125, 29)\" stroke-width=\"2\"/></g></g><path class=\"foreground\" aria-hidden=\"true\" d=\"\" display=\"none\"/></g><g transform=\"translate(0,0)\"><path class=\"background\" aria-hidden=\"true\" d=\"M0,0h500v150h-500Z\"/><g><g class=\"mark-line role-mark child_marks\" role=\"graphics-object\" aria-roledescription=\"line mark container\"><path aria-label=\"time: Feb 03, 2023; Temperature (˚C): −4.0762796402; height: 0.7\" role=\"graphics-symbol\" aria-roledescription=\"line mark\" d=\"M0,33.969L500,33.979\" stroke=\"rgb(40, 216, 194)\" stroke-width=\"2\"/></g></g><path class=\"foreground\" aria-hidden=\"true\" d=\"\" display=\"none\"/></g><g transform=\"translate(0,0)\"><path class=\"background\" aria-hidden=\"true\" d=\"M0,0h500v150h-500Z\"/><g><g class=\"mark-line role-mark child_marks\" role=\"graphics-object\" aria-roledescription=\"line mark container\"><path aria-label=\"time: Feb 03, 2023; Temperature (˚C): −14.6762313843; height: 1.4\" role=\"graphics-symbol\" aria-roledescription=\"line mark\" d=\"M0,122.302L500,125.642\" stroke=\"rgb(229, 72, 19)\" stroke-width=\"2\"/></g></g><path class=\"foreground\" aria-hidden=\"true\" d=\"\" display=\"none\"/></g><g transform=\"translate(0,0)\"><path class=\"background\" aria-hidden=\"true\" d=\"M0,0h500v150h-500Z\"/><g><g class=\"mark-line role-mark child_marks\" role=\"graphics-object\" aria-roledescription=\"line mark container\"><path aria-label=\"time: Feb 03, 2023; Temperature (˚C): −5.77558851242; height: 0.9\" role=\"graphics-symbol\" aria-roledescription=\"line mark\" d=\"M0,48.13L500,48.152\" stroke=\"rgb(113, 254, 101)\" stroke-width=\"2\"/></g></g><path class=\"foreground\" aria-hidden=\"true\" d=\"\" display=\"none\"/></g><g transform=\"translate(0,0)\"><path class=\"background\" aria-hidden=\"true\" d=\"M0,0h500v150h-500Z\"/><g><g class=\"mark-line role-mark child_marks\" role=\"graphics-object\" aria-roledescription=\"line mark container\"><path aria-label=\"time: Feb 03, 2023; Temperature (˚C): −13.8117351532; height: 1.5\" role=\"graphics-symbol\" aria-roledescription=\"line mark\" d=\"M0,115.098L500,118.893\" stroke=\"rgb(180, 30, 7)\" stroke-width=\"2\"/></g></g><path class=\"foreground\" aria-hidden=\"true\" d=\"\" display=\"none\"/></g><g transform=\"translate(0,0)\"><path class=\"background\" aria-hidden=\"true\" d=\"M0,0h500v150h-500Z\"/><g><g class=\"mark-line role-mark child_marks\" role=\"graphics-object\" aria-roledescription=\"line mark container\"><path aria-label=\"time: Feb 03, 2023; Temperature (˚C): −6.61234998703; height: 1\" role=\"graphics-symbol\" aria-roledescription=\"line mark\" d=\"M0,55.103L500,55.154\" stroke=\"rgb(172, 245, 69)\" stroke-width=\"2\"/></g></g><path class=\"foreground\" aria-hidden=\"true\" d=\"\" display=\"none\"/></g><g transform=\"translate(0,0)\"><path class=\"background\" aria-hidden=\"true\" d=\"M0,0h500v150h-500Z\"/><g><g class=\"mark-line role-mark child_marks\" role=\"graphics-object\" aria-roledescription=\"line mark container\"><path aria-label=\"time: Feb 03, 2023; Temperature (˚C): −3.24527978897; height: 0.5\" role=\"graphics-symbol\" aria-roledescription=\"line mark\" d=\"M0,27.044L500,27.047\" stroke=\"rgb(61, 124, 247)\" stroke-width=\"2\"/></g></g><path class=\"foreground\" aria-hidden=\"true\" d=\"\" display=\"none\"/></g><g transform=\"translate(0,0)\"><path class=\"background\" aria-hidden=\"true\" d=\"M0,0h500v150h-500Z\"/><g><g class=\"mark-line role-mark child_marks\" role=\"graphics-object\" aria-roledescription=\"line mark container\"><path aria-label=\"time: Feb 03, 2023; Temperature (˚C): −8.69178581238; height: 1.2\" role=\"graphics-symbol\" aria-roledescription=\"line mark\" d=\"M0,72.432L500,73.655\" stroke=\"rgb(255, 176, 37)\" stroke-width=\"2\"/></g></g><path class=\"foreground\" aria-hidden=\"true\" d=\"\" display=\"none\"/></g><g transform=\"translate(0,0)\"><path class=\"background\" aria-hidden=\"true\" d=\"M0,0h500v150h-500Z\"/><g><g class=\"mark-line role-mark child_marks\" role=\"graphics-object\" aria-roledescription=\"line mark container\"><path aria-label=\"time: Feb 03, 2023; Temperature (˚C): −4.91037368774; height: 0.8\" role=\"graphics-symbol\" aria-roledescription=\"line mark\" d=\"M0,40.92L500,40.968\" stroke=\"rgb(65, 244, 145)\" stroke-width=\"2\"/></g></g><path class=\"foreground\" aria-hidden=\"true\" d=\"\" display=\"none\"/></g><g transform=\"translate(0,0)\"><path class=\"background\" aria-hidden=\"true\" d=\"M0,0h500v150h-500Z\"/><g><g class=\"mark-line role-mark child_marks\" role=\"graphics-object\" aria-roledescription=\"line mark container\"><path aria-label=\"time: Feb 03, 2023; Temperature (˚C): −3.38761758804; height: 0.6\" role=\"graphics-symbol\" aria-roledescription=\"line mark\" d=\"M0,28.23L500,28.24\" stroke=\"rgb(41, 174, 236)\" stroke-width=\"2\"/></g></g><path class=\"foreground\" aria-hidden=\"true\" d=\"\" display=\"none\"/></g><g transform=\"translate(0,0)\"><path class=\"background\" aria-hidden=\"true\" d=\"M0,0h500v150h-500Z\"/><g><g class=\"mark-line role-mark child_marks\" role=\"graphics-object\" aria-roledescription=\"line mark container\"><path aria-label=\"time: Feb 03, 2023; Temperature (˚C): −2.52666950226; height: 0.4\" role=\"graphics-symbol\" aria-roledescription=\"line mark\" d=\"M0,21.056L500,21.058\" stroke=\"rgb(75, 71, 193)\" stroke-width=\"2\"/></g></g><path class=\"foreground\" aria-hidden=\"true\" d=\"\" display=\"none\"/></g></g></g><path class=\"foreground\" aria-hidden=\"true\" d=\"\" display=\"none\"/></g></g><g class=\"mark-group role-legend\" role=\"graphics-symbol\" aria-roledescription=\"legend\" aria-label=\"Symbol legend titled 'height' for stroke color with 12 values: 0.4, 0.5, 0.6, 0.7, 0.8, ending with 1.5\"><g transform=\"translate(521,0)\"><path class=\"background\" aria-hidden=\"true\" d=\"M0,0h33v170h-33Z\" pointer-events=\"none\"/><g><g class=\"mark-group role-legend-entry\"><g transform=\"translate(0,16)\"><path class=\"background\" aria-hidden=\"true\" d=\"M0,0h0v0h0Z\" pointer-events=\"none\"/><g><g class=\"mark-group role-scope\" role=\"graphics-object\" aria-roledescription=\"group mark container\"><g transform=\"translate(0,0)\"><path class=\"background\" aria-hidden=\"true\" d=\"M0,0h29.9013671875v11h-29.9013671875Z\" pointer-events=\"none\" opacity=\"1\"/><g><g class=\"mark-symbol role-legend-symbol\" pointer-events=\"none\"><path transform=\"translate(6,6)\" d=\"M-5,0L5,0\" stroke=\"rgb(75, 71, 193)\" stroke-width=\"1.5\" opacity=\"1\"/></g><g class=\"mark-text role-legend-label\" pointer-events=\"none\"><text text-anchor=\"start\" transform=\"translate(16,9)\" font-family=\"sans-serif\" font-size=\"10px\" fill=\"#000\" opacity=\"1\">0.4</text></g></g><path class=\"foreground\" aria-hidden=\"true\" d=\"\" pointer-events=\"none\" display=\"none\"/></g><g transform=\"translate(0,13)\"><path class=\"background\" aria-hidden=\"true\" d=\"M0,0h29.9013671875v11h-29.9013671875Z\" pointer-events=\"none\" opacity=\"1\"/><g><g class=\"mark-symbol role-legend-symbol\" pointer-events=\"none\"><path transform=\"translate(6,6)\" d=\"M-5,0L5,0\" stroke=\"rgb(61, 124, 247)\" stroke-width=\"1.5\" opacity=\"1\"/></g><g class=\"mark-text role-legend-label\" pointer-events=\"none\"><text text-anchor=\"start\" transform=\"translate(16,9)\" font-family=\"sans-serif\" font-size=\"10px\" fill=\"#000\" opacity=\"1\">0.5</text></g></g><path class=\"foreground\" aria-hidden=\"true\" d=\"\" pointer-events=\"none\" display=\"none\"/></g><g transform=\"translate(0,26)\"><path class=\"background\" aria-hidden=\"true\" d=\"M0,0h29.9013671875v11h-29.9013671875Z\" pointer-events=\"none\" opacity=\"1\"/><g><g class=\"mark-symbol role-legend-symbol\" pointer-events=\"none\"><path transform=\"translate(6,6)\" d=\"M-5,0L5,0\" stroke=\"rgb(41, 174, 236)\" stroke-width=\"1.5\" opacity=\"1\"/></g><g class=\"mark-text role-legend-label\" pointer-events=\"none\"><text text-anchor=\"start\" transform=\"translate(16,9)\" font-family=\"sans-serif\" font-size=\"10px\" fill=\"#000\" opacity=\"1\">0.6</text></g></g><path class=\"foreground\" aria-hidden=\"true\" d=\"\" pointer-events=\"none\" display=\"none\"/></g><g transform=\"translate(0,39)\"><path class=\"background\" aria-hidden=\"true\" d=\"M0,0h29.9013671875v11h-29.9013671875Z\" pointer-events=\"none\" opacity=\"1\"/><g><g class=\"mark-symbol role-legend-symbol\" pointer-events=\"none\"><path transform=\"translate(6,6)\" d=\"M-5,0L5,0\" stroke=\"rgb(40, 216, 194)\" stroke-width=\"1.5\" opacity=\"1\"/></g><g class=\"mark-text role-legend-label\" pointer-events=\"none\"><text text-anchor=\"start\" transform=\"translate(16,9)\" font-family=\"sans-serif\" font-size=\"10px\" fill=\"#000\" opacity=\"1\">0.7</text></g></g><path class=\"foreground\" aria-hidden=\"true\" d=\"\" pointer-events=\"none\" display=\"none\"/></g><g transform=\"translate(0,52)\"><path class=\"background\" aria-hidden=\"true\" d=\"M0,0h29.9013671875v11h-29.9013671875Z\" pointer-events=\"none\" opacity=\"1\"/><g><g class=\"mark-symbol role-legend-symbol\" pointer-events=\"none\"><path transform=\"translate(6,6)\" d=\"M-5,0L5,0\" stroke=\"rgb(65, 244, 145)\" stroke-width=\"1.5\" opacity=\"1\"/></g><g class=\"mark-text role-legend-label\" pointer-events=\"none\"><text text-anchor=\"start\" transform=\"translate(16,9)\" font-family=\"sans-serif\" font-size=\"10px\" fill=\"#000\" opacity=\"1\">0.8</text></g></g><path class=\"foreground\" aria-hidden=\"true\" d=\"\" pointer-events=\"none\" display=\"none\"/></g><g transform=\"translate(0,65)\"><path class=\"background\" aria-hidden=\"true\" d=\"M0,0h29.9013671875v11h-29.9013671875Z\" pointer-events=\"none\" opacity=\"1\"/><g><g class=\"mark-symbol role-legend-symbol\" pointer-events=\"none\"><path transform=\"translate(6,6)\" d=\"M-5,0L5,0\" stroke=\"rgb(113, 254, 101)\" stroke-width=\"1.5\" opacity=\"1\"/></g><g class=\"mark-text role-legend-label\" pointer-events=\"none\"><text text-anchor=\"start\" transform=\"translate(16,9)\" font-family=\"sans-serif\" font-size=\"10px\" fill=\"#000\" opacity=\"1\">0.9</text></g></g><path class=\"foreground\" aria-hidden=\"true\" d=\"\" pointer-events=\"none\" display=\"none\"/></g><g transform=\"translate(0,78)\"><path class=\"background\" aria-hidden=\"true\" d=\"M0,0h29.9013671875v11h-29.9013671875Z\" pointer-events=\"none\" opacity=\"1\"/><g><g class=\"mark-symbol role-legend-symbol\" pointer-events=\"none\"><path transform=\"translate(6,6)\" d=\"M-5,0L5,0\" stroke=\"rgb(172, 245, 69)\" stroke-width=\"1.5\" opacity=\"1\"/></g><g class=\"mark-text role-legend-label\" pointer-events=\"none\"><text text-anchor=\"start\" transform=\"translate(16,9)\" font-family=\"sans-serif\" font-size=\"10px\" fill=\"#000\" opacity=\"1\">1</text></g></g><path class=\"foreground\" aria-hidden=\"true\" d=\"\" pointer-events=\"none\" display=\"none\"/></g><g transform=\"translate(0,91)\"><path class=\"background\" aria-hidden=\"true\" d=\"M0,0h29.9013671875v11h-29.9013671875Z\" pointer-events=\"none\" opacity=\"1\"/><g><g class=\"mark-symbol role-legend-symbol\" pointer-events=\"none\"><path transform=\"translate(6,6)\" d=\"M-5,0L5,0\" stroke=\"rgb(226, 219, 50)\" stroke-width=\"1.5\" opacity=\"1\"/></g><g class=\"mark-text role-legend-label\" pointer-events=\"none\"><text text-anchor=\"start\" transform=\"translate(16,9)\" font-family=\"sans-serif\" font-size=\"10px\" fill=\"#000\" opacity=\"1\">1.1</text></g></g><path class=\"foreground\" aria-hidden=\"true\" d=\"\" pointer-events=\"none\" display=\"none\"/></g><g transform=\"translate(0,104)\"><path class=\"background\" aria-hidden=\"true\" d=\"M0,0h29.9013671875v11h-29.9013671875Z\" pointer-events=\"none\" opacity=\"1\"/><g><g class=\"mark-symbol role-legend-symbol\" pointer-events=\"none\"><path transform=\"translate(6,6)\" d=\"M-5,0L5,0\" stroke=\"rgb(255, 176, 37)\" stroke-width=\"1.5\" opacity=\"1\"/></g><g class=\"mark-text role-legend-label\" pointer-events=\"none\"><text text-anchor=\"start\" transform=\"translate(16,9)\" font-family=\"sans-serif\" font-size=\"10px\" fill=\"#000\" opacity=\"1\">1.2</text></g></g><path class=\"foreground\" aria-hidden=\"true\" d=\"\" pointer-events=\"none\" display=\"none\"/></g><g transform=\"translate(0,117)\"><path class=\"background\" aria-hidden=\"true\" d=\"M0,0h29.9013671875v11h-29.9013671875Z\" pointer-events=\"none\" opacity=\"1\"/><g><g class=\"mark-symbol role-legend-symbol\" pointer-events=\"none\"><path transform=\"translate(6,6)\" d=\"M-5,0L5,0\" stroke=\"rgb(255, 125, 29)\" stroke-width=\"1.5\" opacity=\"1\"/></g><g class=\"mark-text role-legend-label\" pointer-events=\"none\"><text text-anchor=\"start\" transform=\"translate(16,9)\" font-family=\"sans-serif\" font-size=\"10px\" fill=\"#000\" opacity=\"1\">1.3</text></g></g><path class=\"foreground\" aria-hidden=\"true\" d=\"\" pointer-events=\"none\" display=\"none\"/></g><g transform=\"translate(0,130)\"><path class=\"background\" aria-hidden=\"true\" d=\"M0,0h29.9013671875v11h-29.9013671875Z\" pointer-events=\"none\" opacity=\"1\"/><g><g class=\"mark-symbol role-legend-symbol\" pointer-events=\"none\"><path transform=\"translate(6,6)\" d=\"M-5,0L5,0\" stroke=\"rgb(229, 72, 19)\" stroke-width=\"1.5\" opacity=\"1\"/></g><g class=\"mark-text role-legend-label\" pointer-events=\"none\"><text text-anchor=\"start\" transform=\"translate(16,9)\" font-family=\"sans-serif\" font-size=\"10px\" fill=\"#000\" opacity=\"1\">1.4</text></g></g><path class=\"foreground\" aria-hidden=\"true\" d=\"\" pointer-events=\"none\" display=\"none\"/></g><g transform=\"translate(0,143)\"><path class=\"background\" aria-hidden=\"true\" d=\"M0,0h29.9013671875v11h-29.9013671875Z\" pointer-events=\"none\" opacity=\"1\"/><g><g class=\"mark-symbol role-legend-symbol\" pointer-events=\"none\"><path transform=\"translate(6,6)\" d=\"M-5,0L5,0\" stroke=\"rgb(180, 30, 7)\" stroke-width=\"1.5\" opacity=\"1\"/></g><g class=\"mark-text role-legend-label\" pointer-events=\"none\"><text text-anchor=\"start\" transform=\"translate(16,9)\" font-family=\"sans-serif\" font-size=\"10px\" fill=\"#000\" opacity=\"1\">1.5</text></g></g><path class=\"foreground\" aria-hidden=\"true\" d=\"\" pointer-events=\"none\" display=\"none\"/></g></g></g><path class=\"foreground\" aria-hidden=\"true\" d=\"\" pointer-events=\"none\" display=\"none\"/></g></g><g class=\"mark-text role-legend-title\" pointer-events=\"none\"><text text-anchor=\"start\" transform=\"translate(0,9)\" font-family=\"sans-serif\" font-size=\"11px\" font-weight=\"bold\" fill=\"#000\" opacity=\"1\">height</text></g></g><path class=\"foreground\" aria-hidden=\"true\" d=\"\" pointer-events=\"none\" display=\"none\"/></g></g></g><path class=\"foreground\" aria-hidden=\"true\" d=\"\" display=\"none\"/></g></g></g></svg>"
      ],
      "text/plain": [
       "alt.Chart(...)"
      ]
     },
     "execution_count": 376,
     "metadata": {},
     "output_type": "execute_result"
    }
   ],
   "source": [
    "alt.Chart(\n",
    "    kps_data.query(\"measurement == 'snow temperature'\")\n",
    ").mark_line().encode(\n",
    "    alt.X(\"time:T\"),\n",
    "    alt.Y(\"value:Q\", title='Temperature (˚C)'),\n",
    "    alt.Color(\"height:O\").scale(scheme='turbo'),\n",
    "    alt.Row(\"tower:N\")\n",
    ").properties(width=500, height = 150)"
   ]
  },
  {
   "cell_type": "code",
   "execution_count": 377,
   "metadata": {},
   "outputs": [
    {
     "name": "stderr",
     "output_type": "stream",
     "text": [
      "/tmp/ipykernel_73495/4068192915.py:5: FutureWarning: The default value of numeric_only in DataFrameGroupBy.mean is deprecated. In a future version, numeric_only will default to False. Either specify numeric_only or select only columns which should be valid for the function.\n",
      "  ).mean().reset_index()\n"
     ]
    },
    {
     "data": {
      "image/svg+xml": [
       "<svg xmlns=\"http://www.w3.org/2000/svg\" xmlns:xlink=\"http://www.w3.org/1999/xlink\" version=\"1.1\" class=\"marks\" width=\"599\" height=\"194\" viewBox=\"0 0 599 194\"><rect width=\"599\" height=\"194\" fill=\"white\"/><g fill=\"none\" stroke-miterlimit=\"10\" transform=\"translate(93,6)\"><g class=\"mark-group role-frame root\" role=\"graphics-object\" aria-roledescription=\"group mark container\"><g transform=\"translate(0,0)\"><path class=\"background\" aria-hidden=\"true\" d=\"M0,0h0v0h0Z\"/><g><g class=\"mark-group role-row-title row-title\" role=\"graphics-object\" aria-roledescription=\"group mark container\"><g transform=\"translate(-67,75)\"><path class=\"background\" aria-hidden=\"true\" d=\"M0,0h0v0h0Z\"/><g><g class=\"mark-group role-title\"><g transform=\"translate(-21.000000000000004,0)\"><path class=\"background\" aria-hidden=\"true\" d=\"M0,0h0v0h0Z\" pointer-events=\"none\"/><g><g class=\"mark-text role-title-text\" role=\"graphics-symbol\" aria-roledescription=\"title\" aria-label=\"Title text 'tower'\" pointer-events=\"none\"><text text-anchor=\"middle\" transform=\"translate(0,0) rotate(-90) translate(0,9)\" font-family=\"sans-serif\" font-size=\"11px\" font-weight=\"bold\" fill=\"#000\" opacity=\"1\">tower</text></g></g><path class=\"foreground\" aria-hidden=\"true\" d=\"\" pointer-events=\"none\" display=\"none\"/></g></g></g><path class=\"foreground\" aria-hidden=\"true\" d=\"\" display=\"none\"/></g></g><g class=\"mark-group role-row-header row_header\" role=\"graphics-object\" aria-roledescription=\"group mark container\"><g transform=\"translate(-1,0)\"><path class=\"background\" aria-hidden=\"true\" d=\"M0,0h0v150h0Z\"/><g><g class=\"mark-group role-axis\" role=\"graphics-symbol\" aria-roledescription=\"axis\" aria-label=\"Y-axis titled 'height' for a linear scale with values from 0.0 to 1.6\"><g transform=\"translate(0.5,0.5)\"><path class=\"background\" aria-hidden=\"true\" d=\"M0,0h0v0h0Z\" pointer-events=\"none\"/><g><g class=\"mark-rule role-axis-tick\" pointer-events=\"none\"><line transform=\"translate(0,150)\" x2=\"-5\" y2=\"0\" stroke=\"#888\" stroke-width=\"1\" opacity=\"1\"/><line transform=\"translate(0,103)\" x2=\"-5\" y2=\"0\" stroke=\"#888\" stroke-width=\"1\" opacity=\"1\"/><line transform=\"translate(0,56)\" x2=\"-5\" y2=\"0\" stroke=\"#888\" stroke-width=\"1\" opacity=\"1\"/><line transform=\"translate(0,9)\" x2=\"-5\" y2=\"0\" stroke=\"#888\" stroke-width=\"1\" opacity=\"1\"/></g><g class=\"mark-text role-axis-label\" pointer-events=\"none\"><text text-anchor=\"end\" transform=\"translate(-7,153)\" font-family=\"sans-serif\" font-size=\"10px\" fill=\"#000\" opacity=\"1\">0.0</text><text text-anchor=\"end\" transform=\"translate(-7,106.125)\" font-family=\"sans-serif\" font-size=\"10px\" fill=\"#000\" opacity=\"1\">0.5</text><text text-anchor=\"end\" transform=\"translate(-7,59.25)\" font-family=\"sans-serif\" font-size=\"10px\" fill=\"#000\" opacity=\"1\">1.0</text><text text-anchor=\"end\" transform=\"translate(-7,12.375)\" font-family=\"sans-serif\" font-size=\"10px\" fill=\"#000\" opacity=\"1\">1.5</text></g><g class=\"mark-rule role-axis-domain\" pointer-events=\"none\"><line transform=\"translate(0,150)\" x2=\"0\" y2=\"-150\" stroke=\"#888\" stroke-width=\"1\" opacity=\"1\"/></g><g class=\"mark-text role-axis-title\" pointer-events=\"none\"><text text-anchor=\"middle\" transform=\"translate(-24.9013671875,75) rotate(-90) translate(0,-2)\" font-family=\"sans-serif\" font-size=\"11px\" font-weight=\"bold\" fill=\"#000\" opacity=\"1\">height</text></g></g><path class=\"foreground\" aria-hidden=\"true\" d=\"\" pointer-events=\"none\" display=\"none\"/></g></g><g class=\"mark-group role-title\"><g transform=\"translate(-55.9013671875,75)\"><path class=\"background\" aria-hidden=\"true\" d=\"M0,0h0v0h0Z\" pointer-events=\"none\"/><g><g class=\"mark-text role-title-text\" role=\"graphics-symbol\" aria-roledescription=\"title\" aria-label=\"Title text 'undefined'\" pointer-events=\"none\"><text text-anchor=\"middle\" transform=\"translate(0,0) rotate(-90) translate(0,8)\" font-family=\"sans-serif\" font-size=\"10px\" fill=\"#000\" opacity=\"1\">undefined</text></g></g><path class=\"foreground\" aria-hidden=\"true\" d=\"\" pointer-events=\"none\" display=\"none\"/></g></g></g><path class=\"foreground\" aria-hidden=\"true\" d=\"\" display=\"none\"/></g></g><g class=\"mark-group role-column-footer column_footer\" role=\"graphics-object\" aria-roledescription=\"group mark container\"><g transform=\"translate(0,151)\"><path class=\"background\" aria-hidden=\"true\" d=\"M0,0h500v0h-500Z\"/><g><g class=\"mark-group role-axis\" role=\"graphics-symbol\" aria-roledescription=\"axis\" aria-label=\"X-axis titled 'Temperature (˚C)' for a linear scale with values from −16 to 0\"><g transform=\"translate(0.5,0.5)\"><path class=\"background\" aria-hidden=\"true\" d=\"M0,0h0v0h0Z\" pointer-events=\"none\"/><g><g class=\"mark-rule role-axis-tick\" pointer-events=\"none\"><line transform=\"translate(0,0)\" x2=\"0\" y2=\"5\" stroke=\"#888\" stroke-width=\"1\" opacity=\"1\"/><line transform=\"translate(31,0)\" x2=\"0\" y2=\"5\" stroke=\"#888\" stroke-width=\"1\" opacity=\"1\"/><line transform=\"translate(63,0)\" x2=\"0\" y2=\"5\" stroke=\"#888\" stroke-width=\"1\" opacity=\"1\"/><line transform=\"translate(94,0)\" x2=\"0\" y2=\"5\" stroke=\"#888\" stroke-width=\"1\" opacity=\"1\"/><line transform=\"translate(125,0)\" x2=\"0\" y2=\"5\" stroke=\"#888\" stroke-width=\"1\" opacity=\"1\"/><line transform=\"translate(156,0)\" x2=\"0\" y2=\"5\" stroke=\"#888\" stroke-width=\"1\" opacity=\"1\"/><line transform=\"translate(188,0)\" x2=\"0\" y2=\"5\" stroke=\"#888\" stroke-width=\"1\" opacity=\"1\"/><line transform=\"translate(219,0)\" x2=\"0\" y2=\"5\" stroke=\"#888\" stroke-width=\"1\" opacity=\"1\"/><line transform=\"translate(250,0)\" x2=\"0\" y2=\"5\" stroke=\"#888\" stroke-width=\"1\" opacity=\"1\"/><line transform=\"translate(281,0)\" x2=\"0\" y2=\"5\" stroke=\"#888\" stroke-width=\"1\" opacity=\"1\"/><line transform=\"translate(313,0)\" x2=\"0\" y2=\"5\" stroke=\"#888\" stroke-width=\"1\" opacity=\"1\"/><line transform=\"translate(344,0)\" x2=\"0\" y2=\"5\" stroke=\"#888\" stroke-width=\"1\" opacity=\"1\"/><line transform=\"translate(375,0)\" x2=\"0\" y2=\"5\" stroke=\"#888\" stroke-width=\"1\" opacity=\"1\"/><line transform=\"translate(406,0)\" x2=\"0\" y2=\"5\" stroke=\"#888\" stroke-width=\"1\" opacity=\"1\"/><line transform=\"translate(438,0)\" x2=\"0\" y2=\"5\" stroke=\"#888\" stroke-width=\"1\" opacity=\"1\"/><line transform=\"translate(469,0)\" x2=\"0\" y2=\"5\" stroke=\"#888\" stroke-width=\"1\" opacity=\"1\"/><line transform=\"translate(500,0)\" x2=\"0\" y2=\"5\" stroke=\"#888\" stroke-width=\"1\" opacity=\"1\"/></g><g class=\"mark-text role-axis-label\" pointer-events=\"none\"><text text-anchor=\"start\" transform=\"translate(0,15)\" font-family=\"sans-serif\" font-size=\"10px\" fill=\"#000\" opacity=\"1\">−16</text><text text-anchor=\"middle\" transform=\"translate(31.25,15)\" font-family=\"sans-serif\" font-size=\"10px\" fill=\"#000\" opacity=\"1\">−15</text><text text-anchor=\"middle\" transform=\"translate(62.5,15)\" font-family=\"sans-serif\" font-size=\"10px\" fill=\"#000\" opacity=\"1\">−14</text><text text-anchor=\"middle\" transform=\"translate(93.75,15)\" font-family=\"sans-serif\" font-size=\"10px\" fill=\"#000\" opacity=\"1\">−13</text><text text-anchor=\"middle\" transform=\"translate(125,15)\" font-family=\"sans-serif\" font-size=\"10px\" fill=\"#000\" opacity=\"1\">−12</text><text text-anchor=\"middle\" transform=\"translate(156.25,15)\" font-family=\"sans-serif\" font-size=\"10px\" fill=\"#000\" opacity=\"1\">−11</text><text text-anchor=\"middle\" transform=\"translate(187.5,15)\" font-family=\"sans-serif\" font-size=\"10px\" fill=\"#000\" opacity=\"1\">−10</text><text text-anchor=\"middle\" transform=\"translate(218.75,15)\" font-family=\"sans-serif\" font-size=\"10px\" fill=\"#000\" opacity=\"1\">−9</text><text text-anchor=\"middle\" transform=\"translate(250,15)\" font-family=\"sans-serif\" font-size=\"10px\" fill=\"#000\" opacity=\"1\">−8</text><text text-anchor=\"middle\" transform=\"translate(281.25,15)\" font-family=\"sans-serif\" font-size=\"10px\" fill=\"#000\" opacity=\"1\">−7</text><text text-anchor=\"middle\" transform=\"translate(312.5,15)\" font-family=\"sans-serif\" font-size=\"10px\" fill=\"#000\" opacity=\"1\">−6</text><text text-anchor=\"middle\" transform=\"translate(343.75,15)\" font-family=\"sans-serif\" font-size=\"10px\" fill=\"#000\" opacity=\"1\">−5</text><text text-anchor=\"middle\" transform=\"translate(375,15)\" font-family=\"sans-serif\" font-size=\"10px\" fill=\"#000\" opacity=\"1\">−4</text><text text-anchor=\"middle\" transform=\"translate(406.25,15)\" font-family=\"sans-serif\" font-size=\"10px\" fill=\"#000\" opacity=\"1\">−3</text><text text-anchor=\"middle\" transform=\"translate(437.5,15)\" font-family=\"sans-serif\" font-size=\"10px\" fill=\"#000\" opacity=\"1\">−2</text><text text-anchor=\"middle\" transform=\"translate(468.75,15)\" font-family=\"sans-serif\" font-size=\"10px\" fill=\"#000\" opacity=\"1\">−1</text><text text-anchor=\"end\" transform=\"translate(500,15)\" font-family=\"sans-serif\" font-size=\"10px\" fill=\"#000\" opacity=\"1\">0</text></g><g class=\"mark-rule role-axis-domain\" pointer-events=\"none\"><line transform=\"translate(0,0)\" x2=\"500\" y2=\"0\" stroke=\"#888\" stroke-width=\"1\" opacity=\"1\"/></g><g class=\"mark-text role-axis-title\" pointer-events=\"none\"><text text-anchor=\"middle\" transform=\"translate(250,30)\" font-family=\"sans-serif\" font-size=\"11px\" font-weight=\"bold\" fill=\"#000\" opacity=\"1\">Temperature (˚C)</text></g></g><path class=\"foreground\" aria-hidden=\"true\" d=\"\" pointer-events=\"none\" display=\"none\"/></g></g></g><path class=\"foreground\" aria-hidden=\"true\" d=\"\" display=\"none\"/></g></g><g class=\"mark-group role-scope cell\" role=\"graphics-object\" aria-roledescription=\"group mark container\"><g transform=\"translate(0,0)\"><path class=\"background\" aria-hidden=\"true\" d=\"M0.5,0.5h500v150h-500Z\" stroke=\"#ddd\"/><g><g class=\"mark-group role-axis\" aria-hidden=\"true\"><g transform=\"translate(0.5,150.5)\"><path class=\"background\" aria-hidden=\"true\" d=\"M0,0h0v0h0Z\" pointer-events=\"none\"/><g><g class=\"mark-rule role-axis-grid\" pointer-events=\"none\"><line transform=\"translate(0,-150)\" x2=\"0\" y2=\"150\" stroke=\"#ddd\" stroke-width=\"1\" opacity=\"1\"/><line transform=\"translate(31,-150)\" x2=\"0\" y2=\"150\" stroke=\"#ddd\" stroke-width=\"1\" opacity=\"1\"/><line transform=\"translate(63,-150)\" x2=\"0\" y2=\"150\" stroke=\"#ddd\" stroke-width=\"1\" opacity=\"1\"/><line transform=\"translate(94,-150)\" x2=\"0\" y2=\"150\" stroke=\"#ddd\" stroke-width=\"1\" opacity=\"1\"/><line transform=\"translate(125,-150)\" x2=\"0\" y2=\"150\" stroke=\"#ddd\" stroke-width=\"1\" opacity=\"1\"/><line transform=\"translate(156,-150)\" x2=\"0\" y2=\"150\" stroke=\"#ddd\" stroke-width=\"1\" opacity=\"1\"/><line transform=\"translate(188,-150)\" x2=\"0\" y2=\"150\" stroke=\"#ddd\" stroke-width=\"1\" opacity=\"1\"/><line transform=\"translate(219,-150)\" x2=\"0\" y2=\"150\" stroke=\"#ddd\" stroke-width=\"1\" opacity=\"1\"/><line transform=\"translate(250,-150)\" x2=\"0\" y2=\"150\" stroke=\"#ddd\" stroke-width=\"1\" opacity=\"1\"/><line transform=\"translate(281,-150)\" x2=\"0\" y2=\"150\" stroke=\"#ddd\" stroke-width=\"1\" opacity=\"1\"/><line transform=\"translate(313,-150)\" x2=\"0\" y2=\"150\" stroke=\"#ddd\" stroke-width=\"1\" opacity=\"1\"/><line transform=\"translate(344,-150)\" x2=\"0\" y2=\"150\" stroke=\"#ddd\" stroke-width=\"1\" opacity=\"1\"/><line transform=\"translate(375,-150)\" x2=\"0\" y2=\"150\" stroke=\"#ddd\" stroke-width=\"1\" opacity=\"1\"/><line transform=\"translate(406,-150)\" x2=\"0\" y2=\"150\" stroke=\"#ddd\" stroke-width=\"1\" opacity=\"1\"/><line transform=\"translate(438,-150)\" x2=\"0\" y2=\"150\" stroke=\"#ddd\" stroke-width=\"1\" opacity=\"1\"/><line transform=\"translate(469,-150)\" x2=\"0\" y2=\"150\" stroke=\"#ddd\" stroke-width=\"1\" opacity=\"1\"/><line transform=\"translate(500,-150)\" x2=\"0\" y2=\"150\" stroke=\"#ddd\" stroke-width=\"1\" opacity=\"1\"/></g></g><path class=\"foreground\" aria-hidden=\"true\" d=\"\" pointer-events=\"none\" display=\"none\"/></g></g><g class=\"mark-group role-axis\" aria-hidden=\"true\"><g transform=\"translate(0.5,0.5)\"><path class=\"background\" aria-hidden=\"true\" d=\"M0,0h0v0h0Z\" pointer-events=\"none\"/><g><g class=\"mark-rule role-axis-grid\" pointer-events=\"none\"><line transform=\"translate(0,150)\" x2=\"500\" y2=\"0\" stroke=\"#ddd\" stroke-width=\"1\" opacity=\"1\"/><line transform=\"translate(0,103)\" x2=\"500\" y2=\"0\" stroke=\"#ddd\" stroke-width=\"1\" opacity=\"1\"/><line transform=\"translate(0,56)\" x2=\"500\" y2=\"0\" stroke=\"#ddd\" stroke-width=\"1\" opacity=\"1\"/><line transform=\"translate(0,9)\" x2=\"500\" y2=\"0\" stroke=\"#ddd\" stroke-width=\"1\" opacity=\"1\"/></g></g><path class=\"foreground\" aria-hidden=\"true\" d=\"\" pointer-events=\"none\" display=\"none\"/></g></g><g class=\"mark-symbol role-mark child_marks\" role=\"graphics-object\" aria-roledescription=\"symbol mark container\"><path aria-label=\"Temperature (˚C): −3.50928103924; height: 0.4\" role=\"graphics-symbol\" aria-roledescription=\"circle\" transform=\"translate(390.33496752381325,112.5)\" d=\"M2.739,0A2.739,2.739,0,1,1,-2.739,0A2.739,2.739,0,1,1,2.739,0\" fill=\"#4c78a8\" stroke-width=\"2\" opacity=\"0.7\"/><path aria-label=\"Temperature (˚C): −4.30869936943; height: 0.5\" role=\"graphics-symbol\" aria-roledescription=\"circle\" transform=\"translate(365.35314470529556,103.125)\" d=\"M2.739,0A2.739,2.739,0,1,1,-2.739,0A2.739,2.739,0,1,1,2.739,0\" fill=\"#4c78a8\" stroke-width=\"2\" opacity=\"0.7\"/><path aria-label=\"Temperature (˚C): −5.37818360329; height: 0.6\" role=\"graphics-symbol\" aria-roledescription=\"circle\" transform=\"translate(331.9317623972893,93.75)\" d=\"M2.739,0A2.739,2.739,0,1,1,-2.739,0A2.739,2.739,0,1,1,2.739,0\" fill=\"#4c78a8\" stroke-width=\"2\" opacity=\"0.7\"/><path aria-label=\"Temperature (˚C): −6.05934095383; height: 0.7\" role=\"graphics-symbol\" aria-roledescription=\"circle\" transform=\"translate(310.64559519290924,84.375)\" d=\"M2.739,0A2.739,2.739,0,1,1,-2.739,0A2.739,2.739,0,1,1,2.739,0\" fill=\"#4c78a8\" stroke-width=\"2\" opacity=\"0.7\"/><path aria-label=\"Temperature (˚C): −6.63461565971; height: 0.8\" role=\"graphics-symbol\" aria-roledescription=\"circle\" transform=\"translate(292.66826063394547,75)\" d=\"M2.739,0A2.739,2.739,0,1,1,-2.739,0A2.739,2.739,0,1,1,2.739,0\" fill=\"#4c78a8\" stroke-width=\"2\" opacity=\"0.7\"/><path aria-label=\"Temperature (˚C): −8.08984851837; height: 0.9\" role=\"graphics-symbol\" aria-roledescription=\"circle\" transform=\"translate(247.19223380088806,65.625)\" d=\"M2.739,0A2.739,2.739,0,1,1,-2.739,0A2.739,2.739,0,1,1,2.739,0\" fill=\"#4c78a8\" stroke-width=\"2\" opacity=\"0.7\"/><path aria-label=\"Temperature (˚C): −15.1407456398; height: 1\" role=\"graphics-symbol\" aria-roledescription=\"circle\" transform=\"translate(26.851698756217957,56.25)\" d=\"M2.739,0A2.739,2.739,0,1,1,-2.739,0A2.739,2.739,0,1,1,2.739,0\" fill=\"#4c78a8\" stroke-width=\"2\" opacity=\"0.7\"/><path aria-label=\"Temperature (˚C): −13.733420372; height: 1.1\" role=\"graphics-symbol\" aria-roledescription=\"circle\" transform=\"translate(70.83061337471008,46.875)\" d=\"M2.739,0A2.739,2.739,0,1,1,-2.739,0A2.739,2.739,0,1,1,2.739,0\" fill=\"#4c78a8\" stroke-width=\"2\" opacity=\"0.7\"/><path aria-label=\"Temperature (˚C): −12.6269164085; height: 1.2\" role=\"graphics-symbol\" aria-roledescription=\"circle\" transform=\"translate(105.40886223316193,37.500000000000014)\" d=\"M2.739,0A2.739,2.739,0,1,1,-2.739,0A2.739,2.739,0,1,1,2.739,0\" fill=\"#4c78a8\" stroke-width=\"2\" opacity=\"0.7\"/><path aria-label=\"Temperature (˚C): −11.7702498436; height: 1.3\" role=\"graphics-symbol\" aria-roledescription=\"circle\" transform=\"translate(132.17969238758087,28.125)\" d=\"M2.739,0A2.739,2.739,0,1,1,-2.739,0A2.739,2.739,0,1,1,2.739,0\" fill=\"#4c78a8\" stroke-width=\"2\" opacity=\"0.7\"/><path aria-label=\"Temperature (˚C): −11.2832169533; height: 1.4\" role=\"graphics-symbol\" aria-roledescription=\"circle\" transform=\"translate(147.39947021007538,18.750000000000018)\" d=\"M2.739,0A2.739,2.739,0,1,1,-2.739,0A2.739,2.739,0,1,1,2.739,0\" fill=\"#4c78a8\" stroke-width=\"2\" opacity=\"0.7\"/><path aria-label=\"Temperature (˚C): −10.9283542633; height: 1.5\" role=\"graphics-symbol\" aria-roledescription=\"circle\" transform=\"translate(158.488929271698,9.375)\" d=\"M2.739,0A2.739,2.739,0,1,1,-2.739,0A2.739,2.739,0,1,1,2.739,0\" fill=\"#4c78a8\" stroke-width=\"2\" opacity=\"0.7\"/></g></g><path class=\"foreground\" aria-hidden=\"true\" d=\"\" display=\"none\"/></g></g></g><path class=\"foreground\" aria-hidden=\"true\" d=\"\" display=\"none\"/></g></g></g></svg>"
      ],
      "text/plain": [
       "alt.Chart(...)"
      ]
     },
     "execution_count": 377,
     "metadata": {},
     "output_type": "execute_result"
    }
   ],
   "source": [
    "kps_snow_src = kps_data.query(\"tower == 'd'\").query(\n",
    "    \"measurement == 'snow temperature'\"\n",
    ").groupby(\n",
    "    [\"variable\", 'height', 'measurement']\n",
    ").mean().reset_index()\n",
    "\n",
    "alt.Chart(\n",
    "    kps_snow_src\n",
    ").mark_circle().encode(\n",
    "    alt.X(\"value:Q\").sort(\"-y\").title('Temperature (˚C)'),\n",
    "    alt.Y(\"height:Q\"),\n",
    "    # alt.Color(\"height:O\").scale(scheme='turbo'),\n",
    "    alt.Row(\"tower:N\")\n",
    ").properties(width=500, height = 150)"
   ]
  },
  {
   "cell_type": "markdown",
   "metadata": {},
   "source": [
    "In snow temp sensors 1.0 and above are in the air. Sensors 0.9 and below are in snow. assume snow height of .95m"
   ]
  },
  {
   "cell_type": "markdown",
   "metadata": {},
   "source": [
    "# Combine 3 datasets"
   ]
  },
  {
   "cell_type": "code",
   "execution_count": 382,
   "metadata": {},
   "outputs": [],
   "source": [
    "temp_profile_5mm = temp_profile_5mm.assign(height = temp_profile_5mm['variable']*.001)"
   ]
  },
  {
   "cell_type": "code",
   "execution_count": 383,
   "metadata": {},
   "outputs": [
    {
     "name": "stderr",
     "output_type": "stream",
     "text": [
      "/tmp/ipykernel_73495/2522061055.py:2: SettingWithCopyWarning: \n",
      "A value is trying to be set on a copy of a slice from a DataFrame.\n",
      "Try using .loc[row_indexer,col_indexer] = value instead\n",
      "\n",
      "See the caveats in the documentation: https://pandas.pydata.org/pandas-docs/stable/user_guide/indexing.html#returning-a-view-versus-a-copy\n",
      "  temp_profile_10cm['height'] = temp_profile_10cm['height'] - 0.95\n"
     ]
    }
   ],
   "source": [
    "temp_profile_10cm = kps_snow_src.query(\"height >= 1\")\n",
    "temp_profile_10cm['height'] = temp_profile_10cm['height'] - 0.95"
   ]
  },
  {
   "cell_type": "code",
   "execution_count": 412,
   "metadata": {},
   "outputs": [
    {
     "name": "stderr",
     "output_type": "stream",
     "text": [
      "/tmp/ipykernel_73495/471428878.py:7: FutureWarning: The default value of numeric_only in DataFrameGroupBy.mean is deprecated. In a future version, numeric_only will default to False. Either specify numeric_only or select only columns which should be valid for the function.\n",
      "  ).mean().reset_index()\n"
     ]
    }
   ],
   "source": [
    "temp_profile_1m_and_surf = kps_data[\n",
    "    kps_data.measurement.isin(['temperature', 'surface temperature'])\n",
    "].query(\"tower == 'c'\")\n",
    "\n",
    "temp_profile_1m_and_surf = temp_profile_1m_and_surf.groupby(\n",
    "    [\"variable\", \"height\", \"measurement\"]\n",
    ").mean().reset_index()\n",
    "\n",
    "temp_profile_1m_and_surf['height'] = temp_profile_1m_and_surf['height'].apply(\n",
    "    lambda h: h if h == 0 else h - 0.95\n",
    ")"
   ]
  },
  {
   "cell_type": "code",
   "execution_count": 431,
   "metadata": {},
   "outputs": [],
   "source": [
    "temps_combined = pd.concat([\n",
    "    temp_profile_5mm.assign(measurement = \"Thermistor harp\")[['height', 'value', 'measurement']],\n",
    "    temp_profile_10cm.assign(measurement = 'Thermistor')[['height', 'value', 'measurement']],\n",
    "    temp_profile_1m_and_surf[['height', 'value', 'measurement']]\n",
    "])\n",
    "temps_combined.measurement = temps_combined.measurement.replace(\"temperature\", \"Aspirated hygrothermometer\")\n",
    "temps_combined.measurement = temps_combined.measurement.replace(\"surface temperature\", \"Pyrgeometer\")"
   ]
  },
  {
   "cell_type": "code",
   "execution_count": 432,
   "metadata": {},
   "outputs": [
    {
     "data": {
      "text/html": [
       "<div>\n",
       "<style scoped>\n",
       "    .dataframe tbody tr th:only-of-type {\n",
       "        vertical-align: middle;\n",
       "    }\n",
       "\n",
       "    .dataframe tbody tr th {\n",
       "        vertical-align: top;\n",
       "    }\n",
       "\n",
       "    .dataframe thead th {\n",
       "        text-align: right;\n",
       "    }\n",
       "</style>\n",
       "<table border=\"1\" class=\"dataframe\">\n",
       "  <thead>\n",
       "    <tr style=\"text-align: right;\">\n",
       "      <th></th>\n",
       "      <th>height</th>\n",
       "      <th>value</th>\n",
       "      <th>measurement</th>\n",
       "    </tr>\n",
       "  </thead>\n",
       "  <tbody>\n",
       "    <tr>\n",
       "      <th>0</th>\n",
       "      <td>0.000</td>\n",
       "      <td>-19.899076</td>\n",
       "      <td>Thermistor harp</td>\n",
       "    </tr>\n",
       "    <tr>\n",
       "      <th>19</th>\n",
       "      <td>0.000</td>\n",
       "      <td>-21.990974</td>\n",
       "      <td>Pyrgeometer</td>\n",
       "    </tr>\n",
       "    <tr>\n",
       "      <th>1</th>\n",
       "      <td>0.005</td>\n",
       "      <td>-18.382775</td>\n",
       "      <td>Thermistor harp</td>\n",
       "    </tr>\n",
       "    <tr>\n",
       "      <th>2</th>\n",
       "      <td>0.010</td>\n",
       "      <td>-17.380759</td>\n",
       "      <td>Thermistor harp</td>\n",
       "    </tr>\n",
       "    <tr>\n",
       "      <th>3</th>\n",
       "      <td>0.015</td>\n",
       "      <td>-17.569309</td>\n",
       "      <td>Thermistor harp</td>\n",
       "    </tr>\n",
       "    <tr>\n",
       "      <th>4</th>\n",
       "      <td>0.020</td>\n",
       "      <td>-17.030241</td>\n",
       "      <td>Thermistor harp</td>\n",
       "    </tr>\n",
       "    <tr>\n",
       "      <th>5</th>\n",
       "      <td>0.025</td>\n",
       "      <td>-16.977131</td>\n",
       "      <td>Thermistor harp</td>\n",
       "    </tr>\n",
       "    <tr>\n",
       "      <th>6</th>\n",
       "      <td>0.030</td>\n",
       "      <td>-16.783877</td>\n",
       "      <td>Thermistor harp</td>\n",
       "    </tr>\n",
       "    <tr>\n",
       "      <th>7</th>\n",
       "      <td>0.035</td>\n",
       "      <td>-16.765439</td>\n",
       "      <td>Thermistor harp</td>\n",
       "    </tr>\n",
       "    <tr>\n",
       "      <th>6</th>\n",
       "      <td>0.050</td>\n",
       "      <td>-15.140746</td>\n",
       "      <td>Thermistor</td>\n",
       "    </tr>\n",
       "    <tr>\n",
       "      <th>7</th>\n",
       "      <td>0.150</td>\n",
       "      <td>-13.733420</td>\n",
       "      <td>Thermistor</td>\n",
       "    </tr>\n",
       "    <tr>\n",
       "      <th>8</th>\n",
       "      <td>0.250</td>\n",
       "      <td>-12.626916</td>\n",
       "      <td>Thermistor</td>\n",
       "    </tr>\n",
       "    <tr>\n",
       "      <th>9</th>\n",
       "      <td>0.350</td>\n",
       "      <td>-11.770250</td>\n",
       "      <td>Thermistor</td>\n",
       "    </tr>\n",
       "    <tr>\n",
       "      <th>10</th>\n",
       "      <td>0.450</td>\n",
       "      <td>-11.283217</td>\n",
       "      <td>Thermistor</td>\n",
       "    </tr>\n",
       "    <tr>\n",
       "      <th>11</th>\n",
       "      <td>0.550</td>\n",
       "      <td>-10.928354</td>\n",
       "      <td>Thermistor</td>\n",
       "    </tr>\n",
       "    <tr>\n",
       "      <th>11</th>\n",
       "      <td>1.050</td>\n",
       "      <td>-8.919829</td>\n",
       "      <td>Aspirated hygrothermometer</td>\n",
       "    </tr>\n",
       "    <tr>\n",
       "      <th>12</th>\n",
       "      <td>2.050</td>\n",
       "      <td>-8.454475</td>\n",
       "      <td>Aspirated hygrothermometer</td>\n",
       "    </tr>\n",
       "    <tr>\n",
       "      <th>13</th>\n",
       "      <td>3.050</td>\n",
       "      <td>-8.148721</td>\n",
       "      <td>Aspirated hygrothermometer</td>\n",
       "    </tr>\n",
       "    <tr>\n",
       "      <th>14</th>\n",
       "      <td>4.050</td>\n",
       "      <td>-7.976461</td>\n",
       "      <td>Aspirated hygrothermometer</td>\n",
       "    </tr>\n",
       "    <tr>\n",
       "      <th>15</th>\n",
       "      <td>5.050</td>\n",
       "      <td>-7.917832</td>\n",
       "      <td>Aspirated hygrothermometer</td>\n",
       "    </tr>\n",
       "    <tr>\n",
       "      <th>16</th>\n",
       "      <td>6.050</td>\n",
       "      <td>-7.770577</td>\n",
       "      <td>Aspirated hygrothermometer</td>\n",
       "    </tr>\n",
       "    <tr>\n",
       "      <th>17</th>\n",
       "      <td>7.050</td>\n",
       "      <td>-7.700222</td>\n",
       "      <td>Aspirated hygrothermometer</td>\n",
       "    </tr>\n",
       "    <tr>\n",
       "      <th>18</th>\n",
       "      <td>8.050</td>\n",
       "      <td>-7.594471</td>\n",
       "      <td>Aspirated hygrothermometer</td>\n",
       "    </tr>\n",
       "    <tr>\n",
       "      <th>0</th>\n",
       "      <td>9.050</td>\n",
       "      <td>-7.488559</td>\n",
       "      <td>Aspirated hygrothermometer</td>\n",
       "    </tr>\n",
       "    <tr>\n",
       "      <th>1</th>\n",
       "      <td>10.050</td>\n",
       "      <td>-7.478342</td>\n",
       "      <td>Aspirated hygrothermometer</td>\n",
       "    </tr>\n",
       "    <tr>\n",
       "      <th>2</th>\n",
       "      <td>11.050</td>\n",
       "      <td>-7.445928</td>\n",
       "      <td>Aspirated hygrothermometer</td>\n",
       "    </tr>\n",
       "    <tr>\n",
       "      <th>3</th>\n",
       "      <td>12.050</td>\n",
       "      <td>-7.419201</td>\n",
       "      <td>Aspirated hygrothermometer</td>\n",
       "    </tr>\n",
       "    <tr>\n",
       "      <th>4</th>\n",
       "      <td>13.050</td>\n",
       "      <td>-7.290553</td>\n",
       "      <td>Aspirated hygrothermometer</td>\n",
       "    </tr>\n",
       "    <tr>\n",
       "      <th>5</th>\n",
       "      <td>14.050</td>\n",
       "      <td>-7.293235</td>\n",
       "      <td>Aspirated hygrothermometer</td>\n",
       "    </tr>\n",
       "    <tr>\n",
       "      <th>6</th>\n",
       "      <td>15.050</td>\n",
       "      <td>-7.244358</td>\n",
       "      <td>Aspirated hygrothermometer</td>\n",
       "    </tr>\n",
       "    <tr>\n",
       "      <th>7</th>\n",
       "      <td>16.050</td>\n",
       "      <td>-7.159933</td>\n",
       "      <td>Aspirated hygrothermometer</td>\n",
       "    </tr>\n",
       "    <tr>\n",
       "      <th>8</th>\n",
       "      <td>17.050</td>\n",
       "      <td>-7.187992</td>\n",
       "      <td>Aspirated hygrothermometer</td>\n",
       "    </tr>\n",
       "    <tr>\n",
       "      <th>9</th>\n",
       "      <td>18.050</td>\n",
       "      <td>-7.130117</td>\n",
       "      <td>Aspirated hygrothermometer</td>\n",
       "    </tr>\n",
       "    <tr>\n",
       "      <th>10</th>\n",
       "      <td>19.050</td>\n",
       "      <td>-7.067188</td>\n",
       "      <td>Aspirated hygrothermometer</td>\n",
       "    </tr>\n",
       "  </tbody>\n",
       "</table>\n",
       "</div>"
      ],
      "text/plain": [
       "    height      value                 measurement\n",
       "0    0.000 -19.899076             Thermistor harp\n",
       "19   0.000 -21.990974                 Pyrgeometer\n",
       "1    0.005 -18.382775             Thermistor harp\n",
       "2    0.010 -17.380759             Thermistor harp\n",
       "3    0.015 -17.569309             Thermistor harp\n",
       "4    0.020 -17.030241             Thermistor harp\n",
       "5    0.025 -16.977131             Thermistor harp\n",
       "6    0.030 -16.783877             Thermistor harp\n",
       "7    0.035 -16.765439             Thermistor harp\n",
       "6    0.050 -15.140746                  Thermistor\n",
       "7    0.150 -13.733420                  Thermistor\n",
       "8    0.250 -12.626916                  Thermistor\n",
       "9    0.350 -11.770250                  Thermistor\n",
       "10   0.450 -11.283217                  Thermistor\n",
       "11   0.550 -10.928354                  Thermistor\n",
       "11   1.050  -8.919829  Aspirated hygrothermometer\n",
       "12   2.050  -8.454475  Aspirated hygrothermometer\n",
       "13   3.050  -8.148721  Aspirated hygrothermometer\n",
       "14   4.050  -7.976461  Aspirated hygrothermometer\n",
       "15   5.050  -7.917832  Aspirated hygrothermometer\n",
       "16   6.050  -7.770577  Aspirated hygrothermometer\n",
       "17   7.050  -7.700222  Aspirated hygrothermometer\n",
       "18   8.050  -7.594471  Aspirated hygrothermometer\n",
       "0    9.050  -7.488559  Aspirated hygrothermometer\n",
       "1   10.050  -7.478342  Aspirated hygrothermometer\n",
       "2   11.050  -7.445928  Aspirated hygrothermometer\n",
       "3   12.050  -7.419201  Aspirated hygrothermometer\n",
       "4   13.050  -7.290553  Aspirated hygrothermometer\n",
       "5   14.050  -7.293235  Aspirated hygrothermometer\n",
       "6   15.050  -7.244358  Aspirated hygrothermometer\n",
       "7   16.050  -7.159933  Aspirated hygrothermometer\n",
       "8   17.050  -7.187992  Aspirated hygrothermometer\n",
       "9   18.050  -7.130117  Aspirated hygrothermometer\n",
       "10  19.050  -7.067188  Aspirated hygrothermometer"
      ]
     },
     "execution_count": 432,
     "metadata": {},
     "output_type": "execute_result"
    }
   ],
   "source": [
    "temps_combined.sort_values(\"height\")"
   ]
  },
  {
   "cell_type": "code",
   "execution_count": 436,
   "metadata": {},
   "outputs": [
    {
     "data": {
      "image/svg+xml": [
       "<svg xmlns=\"http://www.w3.org/2000/svg\" xmlns:xlink=\"http://www.w3.org/1999/xlink\" version=\"1.1\" class=\"marks\" width=\"416\" height=\"564\" viewBox=\"0 0 416 564\"><rect width=\"416\" height=\"564\" fill=\"white\"/><g fill=\"none\" stroke-miterlimit=\"10\" transform=\"translate(48,11)\"><g class=\"mark-group role-frame root\" role=\"graphics-object\" aria-roledescription=\"group mark container\"><g transform=\"translate(0,0)\"><path class=\"background\" aria-hidden=\"true\" d=\"M0,0h200v0h-200Z\"/><g><g class=\"mark-group role-scope concat_0_group\" role=\"graphics-object\" aria-roledescription=\"group mark container\"><g transform=\"translate(0,0)\"><path class=\"background\" aria-hidden=\"true\" d=\"M0.5,0.5h200v150h-200Z\" stroke=\"#ddd\"/><g><g class=\"mark-group role-axis\" aria-hidden=\"true\"><g transform=\"translate(0.5,150.5)\"><path class=\"background\" aria-hidden=\"true\" d=\"M0,0h0v0h0Z\" pointer-events=\"none\"/><g><g class=\"mark-rule role-axis-grid\" pointer-events=\"none\"><line transform=\"translate(18,-150)\" x2=\"0\" y2=\"150\" stroke=\"#ddd\" stroke-width=\"1\" opacity=\"1\"/><line transform=\"translate(64,-150)\" x2=\"0\" y2=\"150\" stroke=\"#ddd\" stroke-width=\"1\" opacity=\"1\"/><line transform=\"translate(109,-150)\" x2=\"0\" y2=\"150\" stroke=\"#ddd\" stroke-width=\"1\" opacity=\"1\"/><line transform=\"translate(155,-150)\" x2=\"0\" y2=\"150\" stroke=\"#ddd\" stroke-width=\"1\" opacity=\"1\"/><line transform=\"translate(200,-150)\" x2=\"0\" y2=\"150\" stroke=\"#ddd\" stroke-width=\"1\" opacity=\"1\"/></g></g><path class=\"foreground\" aria-hidden=\"true\" d=\"\" pointer-events=\"none\" display=\"none\"/></g></g><g class=\"mark-group role-axis\" aria-hidden=\"true\"><g transform=\"translate(0.5,0.5)\"><path class=\"background\" aria-hidden=\"true\" d=\"M0,0h0v0h0Z\" pointer-events=\"none\"/><g><g class=\"mark-rule role-axis-grid\" pointer-events=\"none\"><line transform=\"translate(0,150)\" x2=\"200\" y2=\"0\" stroke=\"#ddd\" stroke-width=\"1\" opacity=\"1\"/><line transform=\"translate(0,113)\" x2=\"200\" y2=\"0\" stroke=\"#ddd\" stroke-width=\"1\" opacity=\"1\"/><line transform=\"translate(0,75)\" x2=\"200\" y2=\"0\" stroke=\"#ddd\" stroke-width=\"1\" opacity=\"1\"/><line transform=\"translate(0,38)\" x2=\"200\" y2=\"0\" stroke=\"#ddd\" stroke-width=\"1\" opacity=\"1\"/><line transform=\"translate(0,0)\" x2=\"200\" y2=\"0\" stroke=\"#ddd\" stroke-width=\"1\" opacity=\"1\"/></g></g><path class=\"foreground\" aria-hidden=\"true\" d=\"\" pointer-events=\"none\" display=\"none\"/></g></g><g class=\"mark-group role-axis\" role=\"graphics-symbol\" aria-roledescription=\"axis\" aria-label=\"X-axis for a linear scale with values from −22 to 0\"><g transform=\"translate(0.5,150.5)\"><path class=\"background\" aria-hidden=\"true\" d=\"M0,0h0v0h0Z\" pointer-events=\"none\"/><g><g class=\"mark-rule role-axis-tick\" pointer-events=\"none\"><line transform=\"translate(18,0)\" x2=\"0\" y2=\"5\" stroke=\"#888\" stroke-width=\"1\" opacity=\"1\"/><line transform=\"translate(64,0)\" x2=\"0\" y2=\"5\" stroke=\"#888\" stroke-width=\"1\" opacity=\"1\"/><line transform=\"translate(109,0)\" x2=\"0\" y2=\"5\" stroke=\"#888\" stroke-width=\"1\" opacity=\"1\"/><line transform=\"translate(155,0)\" x2=\"0\" y2=\"5\" stroke=\"#888\" stroke-width=\"1\" opacity=\"1\"/><line transform=\"translate(200,0)\" x2=\"0\" y2=\"5\" stroke=\"#888\" stroke-width=\"1\" opacity=\"1\"/></g><g class=\"mark-rule role-axis-domain\" pointer-events=\"none\"><line transform=\"translate(0,0)\" x2=\"200\" y2=\"0\" stroke=\"#888\" stroke-width=\"1\" opacity=\"1\"/></g></g><path class=\"foreground\" aria-hidden=\"true\" d=\"\" pointer-events=\"none\" display=\"none\"/></g></g><g class=\"mark-group role-axis\" role=\"graphics-symbol\" aria-roledescription=\"axis\" aria-label=\"Y-axis titled 'Height (m)' for a linear scale with values from 0 to 20\"><g transform=\"translate(0.5,0.5)\"><path class=\"background\" aria-hidden=\"true\" d=\"M0,0h0v0h0Z\" pointer-events=\"none\"/><g><g class=\"mark-rule role-axis-tick\" pointer-events=\"none\"><line transform=\"translate(0,150)\" x2=\"-5\" y2=\"0\" stroke=\"#888\" stroke-width=\"1\" opacity=\"1\"/><line transform=\"translate(0,113)\" x2=\"-5\" y2=\"0\" stroke=\"#888\" stroke-width=\"1\" opacity=\"1\"/><line transform=\"translate(0,75)\" x2=\"-5\" y2=\"0\" stroke=\"#888\" stroke-width=\"1\" opacity=\"1\"/><line transform=\"translate(0,38)\" x2=\"-5\" y2=\"0\" stroke=\"#888\" stroke-width=\"1\" opacity=\"1\"/><line transform=\"translate(0,0)\" x2=\"-5\" y2=\"0\" stroke=\"#888\" stroke-width=\"1\" opacity=\"1\"/></g><g class=\"mark-text role-axis-label\" pointer-events=\"none\"><text text-anchor=\"end\" transform=\"translate(-7,153)\" font-family=\"sans-serif\" font-size=\"10px\" fill=\"#000\" opacity=\"1\">0</text><text text-anchor=\"end\" transform=\"translate(-7,115.5)\" font-family=\"sans-serif\" font-size=\"10px\" fill=\"#000\" opacity=\"1\">5</text><text text-anchor=\"end\" transform=\"translate(-7,78)\" font-family=\"sans-serif\" font-size=\"10px\" fill=\"#000\" opacity=\"1\">10</text><text text-anchor=\"end\" transform=\"translate(-7,40.5)\" font-family=\"sans-serif\" font-size=\"10px\" fill=\"#000\" opacity=\"1\">15</text><text text-anchor=\"end\" transform=\"translate(-7,3)\" font-family=\"sans-serif\" font-size=\"10px\" fill=\"#000\" opacity=\"1\">20</text></g><g class=\"mark-rule role-axis-domain\" pointer-events=\"none\"><line transform=\"translate(0,150)\" x2=\"0\" y2=\"-150\" stroke=\"#888\" stroke-width=\"1\" opacity=\"1\"/></g><g class=\"mark-text role-axis-title\" pointer-events=\"none\"><text text-anchor=\"middle\" transform=\"translate(-22.123046875,75) rotate(-90) translate(0,-2)\" font-family=\"sans-serif\" font-size=\"11px\" font-weight=\"bold\" fill=\"#000\" opacity=\"1\">Height (m)</text></g></g><path class=\"foreground\" aria-hidden=\"true\" d=\"\" pointer-events=\"none\" display=\"none\"/></g></g><g class=\"mark-symbol role-mark concat_0_marks\" role=\"graphics-object\" aria-roledescription=\"symbol mark container\"><path aria-label=\"value: −7.48855900764; Height (m): 9.05; measurement: Aspirated hygrothermometer\" role=\"graphics-symbol\" aria-roledescription=\"point\" transform=\"translate(131.92219083959407,82.125)\" d=\"M2.739,0A2.739,2.739,0,1,1,-2.739,0A2.739,2.739,0,1,1,2.739,0\" stroke=\"#4c78a8\" stroke-width=\"2\" opacity=\"0.7\"/><path aria-label=\"value: −7.47834181786; Height (m): 10.05; measurement: Aspirated hygrothermometer\" role=\"graphics-symbol\" aria-roledescription=\"point\" transform=\"translate(132.0150743831288,74.62499999999999)\" d=\"M2.739,0A2.739,2.739,0,1,1,-2.739,0A2.739,2.739,0,1,1,2.739,0\" stroke=\"#4c78a8\" stroke-width=\"2\" opacity=\"0.7\"/><path aria-label=\"value: −7.44592833519; Height (m): 11.05; measurement: Aspirated hygrothermometer\" role=\"graphics-symbol\" aria-roledescription=\"point\" transform=\"translate(132.3097424073653,67.125)\" d=\"M2.739,0A2.739,2.739,0,1,1,-2.739,0A2.739,2.739,0,1,1,2.739,0\" stroke=\"#4c78a8\" stroke-width=\"2\" opacity=\"0.7\"/><path aria-label=\"value: −7.4192006588; Height (m): 12.05; measurement: Aspirated hygrothermometer\" role=\"graphics-symbol\" aria-roledescription=\"point\" transform=\"translate(132.55272128365257,59.62499999999999)\" d=\"M2.739,0A2.739,2.739,0,1,1,-2.739,0A2.739,2.739,0,1,1,2.739,0\" stroke=\"#4c78a8\" stroke-width=\"2\" opacity=\"0.7\"/><path aria-label=\"value: −7.29055333138; Height (m): 13.05; measurement: Aspirated hygrothermometer\" role=\"graphics-symbol\" aria-roledescription=\"point\" transform=\"translate(133.72224244204435,52.124999999999986)\" d=\"M2.739,0A2.739,2.739,0,1,1,-2.739,0A2.739,2.739,0,1,1,2.739,0\" stroke=\"#4c78a8\" stroke-width=\"2\" opacity=\"0.7\"/><path aria-label=\"value: −7.29323530197; Height (m): 14.05; measurement: Aspirated hygrothermometer\" role=\"graphics-symbol\" aria-roledescription=\"point\" transform=\"translate(133.69786089116877,44.625)\" d=\"M2.739,0A2.739,2.739,0,1,1,-2.739,0A2.739,2.739,0,1,1,2.739,0\" stroke=\"#4c78a8\" stroke-width=\"2\" opacity=\"0.7\"/><path aria-label=\"value: −7.24435830116; Height (m): 15.05; measurement: Aspirated hygrothermometer\" role=\"graphics-symbol\" aria-roledescription=\"point\" transform=\"translate(134.1421972621571,37.12499999999999)\" d=\"M2.739,0A2.739,2.739,0,1,1,-2.739,0A2.739,2.739,0,1,1,2.739,0\" stroke=\"#4c78a8\" stroke-width=\"2\" opacity=\"0.7\"/><path aria-label=\"value: −7.15993332863; Height (m): 16.05; measurement: Aspirated hygrothermometer\" role=\"graphics-symbol\" aria-roledescription=\"point\" transform=\"translate(134.90969701246783,29.625)\" d=\"M2.739,0A2.739,2.739,0,1,1,-2.739,0A2.739,2.739,0,1,1,2.739,0\" stroke=\"#4c78a8\" stroke-width=\"2\" opacity=\"0.7\"/><path aria-label=\"value: −7.18799209595; Height (m): 17.05; measurement: Aspirated hygrothermometer\" role=\"graphics-symbol\" aria-roledescription=\"point\" transform=\"translate(134.6546173095703,22.124999999999993)\" d=\"M2.739,0A2.739,2.739,0,1,1,-2.739,0A2.739,2.739,0,1,1,2.739,0\" stroke=\"#4c78a8\" stroke-width=\"2\" opacity=\"0.7\"/><path aria-label=\"value: −7.13011670113; Height (m): 18.05; measurement: Aspirated hygrothermometer\" role=\"graphics-symbol\" aria-roledescription=\"point\" transform=\"translate(135.18075726249,14.624999999999988)\" d=\"M2.739,0A2.739,2.739,0,1,1,-2.739,0A2.739,2.739,0,1,1,2.739,0\" stroke=\"#4c78a8\" stroke-width=\"2\" opacity=\"0.7\"/><path aria-label=\"value: −7.06718826294; Height (m): 19.05; measurement: Aspirated hygrothermometer\" role=\"graphics-symbol\" aria-roledescription=\"point\" transform=\"translate(135.75283397327772,7.124999999999998)\" d=\"M2.739,0A2.739,2.739,0,1,1,-2.739,0A2.739,2.739,0,1,1,2.739,0\" stroke=\"#4c78a8\" stroke-width=\"2\" opacity=\"0.7\"/><path aria-label=\"value: −8.91982936859; Height (m): 1.05; measurement: Aspirated hygrothermometer\" role=\"graphics-symbol\" aria-roledescription=\"point\" transform=\"translate(118.91064210371538,142.125)\" d=\"M2.739,0A2.739,2.739,0,1,1,-2.739,0A2.739,2.739,0,1,1,2.739,0\" stroke=\"#4c78a8\" stroke-width=\"2\" opacity=\"0.7\"/><path aria-label=\"value: −8.45447540283; Height (m): 2.05; measurement: Aspirated hygrothermometer\" role=\"graphics-symbol\" aria-roledescription=\"point\" transform=\"translate(123.14113270152698,134.625)\" d=\"M2.739,0A2.739,2.739,0,1,1,-2.739,0A2.739,2.739,0,1,1,2.739,0\" stroke=\"#4c78a8\" stroke-width=\"2\" opacity=\"0.7\"/><path aria-label=\"value: −8.14872145653; Height (m): 3.05; measurement: Aspirated hygrothermometer\" role=\"graphics-symbol\" aria-roledescription=\"point\" transform=\"translate(125.92071403156628,127.125)\" d=\"M2.739,0A2.739,2.739,0,1,1,-2.739,0A2.739,2.739,0,1,1,2.739,0\" stroke=\"#4c78a8\" stroke-width=\"2\" opacity=\"0.7\"/><path aria-label=\"value: −7.97646141052; Height (m): 4.05; measurement: Aspirated hygrothermometer\" role=\"graphics-symbol\" aria-roledescription=\"point\" transform=\"translate(127.4867144497958,119.625)\" d=\"M2.739,0A2.739,2.739,0,1,1,-2.739,0A2.739,2.739,0,1,1,2.739,0\" stroke=\"#4c78a8\" stroke-width=\"2\" opacity=\"0.7\"/><path aria-label=\"value: −7.91783237457; Height (m): 5.05; measurement: Aspirated hygrothermometer\" role=\"graphics-symbol\" aria-roledescription=\"point\" transform=\"translate(128.01970568570223,112.12500000000001)\" d=\"M2.739,0A2.739,2.739,0,1,1,-2.739,0A2.739,2.739,0,1,1,2.739,0\" stroke=\"#4c78a8\" stroke-width=\"2\" opacity=\"0.7\"/><path aria-label=\"value: −7.77057695389; Height (m): 6.05; measurement: Aspirated hygrothermometer\" role=\"graphics-symbol\" aria-roledescription=\"point\" transform=\"translate(129.35839132829145,104.625)\" d=\"M2.739,0A2.739,2.739,0,1,1,-2.739,0A2.739,2.739,0,1,1,2.739,0\" stroke=\"#4c78a8\" stroke-width=\"2\" opacity=\"0.7\"/><path aria-label=\"value: −7.7002222538; Height (m): 7.05; measurement: Aspirated hygrothermometer\" role=\"graphics-symbol\" aria-roledescription=\"point\" transform=\"translate(129.99797951091418,97.125)\" d=\"M2.739,0A2.739,2.739,0,1,1,-2.739,0A2.739,2.739,0,1,1,2.739,0\" stroke=\"#4c78a8\" stroke-width=\"2\" opacity=\"0.7\"/><path aria-label=\"value: −7.59447050095; Height (m): 8.05; measurement: Aspirated hygrothermometer\" role=\"graphics-symbol\" aria-roledescription=\"point\" transform=\"translate(130.95935908230868,89.62499999999999)\" d=\"M2.739,0A2.739,2.739,0,1,1,-2.739,0A2.739,2.739,0,1,1,2.739,0\" stroke=\"#4c78a8\" stroke-width=\"2\" opacity=\"0.7\"/></g></g><path class=\"foreground\" aria-hidden=\"true\" d=\"\" display=\"none\"/></g></g><g class=\"mark-group role-scope concat_1_group\" role=\"graphics-object\" aria-roledescription=\"group mark container\"><g transform=\"translate(0,163)\"><path class=\"background\" aria-hidden=\"true\" d=\"M0.5,0.5h200v75h-200Z\" stroke=\"#ddd\"/><g><g class=\"mark-group role-axis\" aria-hidden=\"true\"><g transform=\"translate(0.5,75.5)\"><path class=\"background\" aria-hidden=\"true\" d=\"M0,0h0v0h0Z\" pointer-events=\"none\"/><g><g class=\"mark-rule role-axis-grid\" pointer-events=\"none\"><line transform=\"translate(18,-75)\" x2=\"0\" y2=\"75\" stroke=\"#ddd\" stroke-width=\"1\" opacity=\"1\"/><line transform=\"translate(64,-75)\" x2=\"0\" y2=\"75\" stroke=\"#ddd\" stroke-width=\"1\" opacity=\"1\"/><line transform=\"translate(109,-75)\" x2=\"0\" y2=\"75\" stroke=\"#ddd\" stroke-width=\"1\" opacity=\"1\"/><line transform=\"translate(155,-75)\" x2=\"0\" y2=\"75\" stroke=\"#ddd\" stroke-width=\"1\" opacity=\"1\"/><line transform=\"translate(200,-75)\" x2=\"0\" y2=\"75\" stroke=\"#ddd\" stroke-width=\"1\" opacity=\"1\"/></g></g><path class=\"foreground\" aria-hidden=\"true\" d=\"\" pointer-events=\"none\" display=\"none\"/></g></g><g class=\"mark-group role-axis\" aria-hidden=\"true\"><g transform=\"translate(0.5,0.5)\"><path class=\"background\" aria-hidden=\"true\" d=\"M0,0h0v0h0Z\" pointer-events=\"none\"/><g><g class=\"mark-rule role-axis-grid\" pointer-events=\"none\"><line transform=\"translate(0,75)\" x2=\"200\" y2=\"0\" stroke=\"#ddd\" stroke-width=\"1\" opacity=\"1\"/><line transform=\"translate(0,48)\" x2=\"200\" y2=\"0\" stroke=\"#ddd\" stroke-width=\"1\" opacity=\"1\"/><line transform=\"translate(0,20)\" x2=\"200\" y2=\"0\" stroke=\"#ddd\" stroke-width=\"1\" opacity=\"1\"/></g></g><path class=\"foreground\" aria-hidden=\"true\" d=\"\" pointer-events=\"none\" display=\"none\"/></g></g><g class=\"mark-group role-axis\" role=\"graphics-symbol\" aria-roledescription=\"axis\" aria-label=\"X-axis for a linear scale with values from −22 to 0\"><g transform=\"translate(0.5,75.5)\"><path class=\"background\" aria-hidden=\"true\" d=\"M0,0h0v0h0Z\" pointer-events=\"none\"/><g><g class=\"mark-rule role-axis-tick\" pointer-events=\"none\"><line transform=\"translate(18,0)\" x2=\"0\" y2=\"5\" stroke=\"#888\" stroke-width=\"1\" opacity=\"1\"/><line transform=\"translate(64,0)\" x2=\"0\" y2=\"5\" stroke=\"#888\" stroke-width=\"1\" opacity=\"1\"/><line transform=\"translate(109,0)\" x2=\"0\" y2=\"5\" stroke=\"#888\" stroke-width=\"1\" opacity=\"1\"/><line transform=\"translate(155,0)\" x2=\"0\" y2=\"5\" stroke=\"#888\" stroke-width=\"1\" opacity=\"1\"/><line transform=\"translate(200,0)\" x2=\"0\" y2=\"5\" stroke=\"#888\" stroke-width=\"1\" opacity=\"1\"/></g><g class=\"mark-rule role-axis-domain\" pointer-events=\"none\"><line transform=\"translate(0,0)\" x2=\"200\" y2=\"0\" stroke=\"#888\" stroke-width=\"1\" opacity=\"1\"/></g></g><path class=\"foreground\" aria-hidden=\"true\" d=\"\" pointer-events=\"none\" display=\"none\"/></g></g><g class=\"mark-group role-axis\" role=\"graphics-symbol\" aria-roledescription=\"axis\" aria-label=\"Y-axis titled 'Height (m)' for a linear scale with values from 0.0 to 0.6\"><g transform=\"translate(0.5,0.5)\"><path class=\"background\" aria-hidden=\"true\" d=\"M0,0h0v0h0Z\" pointer-events=\"none\"/><g><g class=\"mark-rule role-axis-tick\" pointer-events=\"none\"><line transform=\"translate(0,75)\" x2=\"-5\" y2=\"0\" stroke=\"#888\" stroke-width=\"1\" opacity=\"1\"/><line transform=\"translate(0,48)\" x2=\"-5\" y2=\"0\" stroke=\"#888\" stroke-width=\"1\" opacity=\"1\"/><line transform=\"translate(0,20)\" x2=\"-5\" y2=\"0\" stroke=\"#888\" stroke-width=\"1\" opacity=\"1\"/></g><g class=\"mark-text role-axis-label\" pointer-events=\"none\"><text text-anchor=\"end\" transform=\"translate(-7,78)\" font-family=\"sans-serif\" font-size=\"10px\" fill=\"#000\" opacity=\"1\">0.0</text><text text-anchor=\"end\" transform=\"translate(-7,50.72727272727273)\" font-family=\"sans-serif\" font-size=\"10px\" fill=\"#000\" opacity=\"1\">0.2</text><text text-anchor=\"end\" transform=\"translate(-7,23.454545454545453)\" font-family=\"sans-serif\" font-size=\"10px\" fill=\"#000\" opacity=\"1\">0.4</text></g><g class=\"mark-rule role-axis-domain\" pointer-events=\"none\"><line transform=\"translate(0,75)\" x2=\"0\" y2=\"-75\" stroke=\"#888\" stroke-width=\"1\" opacity=\"1\"/></g><g class=\"mark-text role-axis-title\" pointer-events=\"none\"><text text-anchor=\"middle\" transform=\"translate(-24.9013671875,37.5) rotate(-90) translate(0,-2)\" font-family=\"sans-serif\" font-size=\"11px\" font-weight=\"bold\" fill=\"#000\" opacity=\"1\">Height (m)</text></g></g><path class=\"foreground\" aria-hidden=\"true\" d=\"\" pointer-events=\"none\" display=\"none\"/></g></g><g class=\"mark-symbol role-mark concat_1_marks\" role=\"graphics-object\" aria-roledescription=\"symbol mark container\"><path aria-label=\"value: −15.1407456398; Height (m): 0.05; measurement: Thermistor\" role=\"graphics-symbol\" aria-roledescription=\"point\" transform=\"translate(62.35685781999067,68.18181818181817)\" d=\"M0,-2.372L-2.739,2.372L2.739,2.372Z\" stroke=\"#4c78a8\" stroke-width=\"2\" opacity=\"0.7\"/><path aria-label=\"value: −13.733420372; Height (m): 0.15; measurement: Thermistor\" role=\"graphics-symbol\" aria-roledescription=\"point\" transform=\"translate(75.15072389082475,54.54545454545453)\" d=\"M0,-2.372L-2.739,2.372L2.739,2.372Z\" stroke=\"#4c78a8\" stroke-width=\"2\" opacity=\"0.7\"/><path aria-label=\"value: −12.6269164085; Height (m): 0.25; measurement: Thermistor\" role=\"graphics-symbol\" aria-roledescription=\"point\" transform=\"translate(85.20985083146529,40.90909090909091)\" d=\"M0,-2.372L-2.739,2.372L2.739,2.372Z\" stroke=\"#4c78a8\" stroke-width=\"2\" opacity=\"0.7\"/><path aria-label=\"value: −11.7702498436; Height (m): 0.35; measurement: Thermistor\" role=\"graphics-symbol\" aria-roledescription=\"point\" transform=\"translate(92.99772869456898,27.272727272727266)\" d=\"M0,-2.372L-2.739,2.372L2.739,2.372Z\" stroke=\"#4c78a8\" stroke-width=\"2\" opacity=\"0.7\"/><path aria-label=\"value: −11.2832169533; Height (m): 0.45; measurement: Thermistor\" role=\"graphics-symbol\" aria-roledescription=\"point\" transform=\"translate(97.42530042474921,13.63636363636365)\" d=\"M0,-2.372L-2.739,2.372L2.739,2.372Z\" stroke=\"#4c78a8\" stroke-width=\"2\" opacity=\"0.7\"/><path aria-label=\"value: −10.9283542633; Height (m): 0.55; measurement: Thermistor\" role=\"graphics-symbol\" aria-roledescription=\"point\" transform=\"translate(100.65132487903942,0)\" d=\"M0,-2.372L-2.739,2.372L2.739,2.372Z\" stroke=\"#4c78a8\" stroke-width=\"2\" opacity=\"0.7\"/></g></g><path class=\"foreground\" aria-hidden=\"true\" d=\"\" display=\"none\"/></g></g><g class=\"mark-group role-scope concat_2_group\" role=\"graphics-object\" aria-roledescription=\"group mark container\"><g transform=\"translate(0,251)\"><path class=\"background\" aria-hidden=\"true\" d=\"M0.5,0.5h200v75h-200Z\" stroke=\"#ddd\"/><g><g class=\"mark-group role-axis\" aria-hidden=\"true\"><g transform=\"translate(0.5,75.5)\"><path class=\"background\" aria-hidden=\"true\" d=\"M0,0h0v0h0Z\" pointer-events=\"none\"/><g><g class=\"mark-rule role-axis-grid\" pointer-events=\"none\"><line transform=\"translate(18,-75)\" x2=\"0\" y2=\"75\" stroke=\"#ddd\" stroke-width=\"1\" opacity=\"1\"/><line transform=\"translate(64,-75)\" x2=\"0\" y2=\"75\" stroke=\"#ddd\" stroke-width=\"1\" opacity=\"1\"/><line transform=\"translate(109,-75)\" x2=\"0\" y2=\"75\" stroke=\"#ddd\" stroke-width=\"1\" opacity=\"1\"/><line transform=\"translate(155,-75)\" x2=\"0\" y2=\"75\" stroke=\"#ddd\" stroke-width=\"1\" opacity=\"1\"/><line transform=\"translate(200,-75)\" x2=\"0\" y2=\"75\" stroke=\"#ddd\" stroke-width=\"1\" opacity=\"1\"/></g></g><path class=\"foreground\" aria-hidden=\"true\" d=\"\" pointer-events=\"none\" display=\"none\"/></g></g><g class=\"mark-group role-axis\" aria-hidden=\"true\"><g transform=\"translate(0.5,0.5)\"><path class=\"background\" aria-hidden=\"true\" d=\"M0,0h0v0h0Z\" pointer-events=\"none\"/><g><g class=\"mark-rule role-axis-grid\" pointer-events=\"none\"><line transform=\"translate(0,75)\" x2=\"200\" y2=\"0\" stroke=\"#ddd\" stroke-width=\"1\" opacity=\"1\"/><line transform=\"translate(0,38)\" x2=\"200\" y2=\"0\" stroke=\"#ddd\" stroke-width=\"1\" opacity=\"1\"/><line transform=\"translate(0,0)\" x2=\"200\" y2=\"0\" stroke=\"#ddd\" stroke-width=\"1\" opacity=\"1\"/></g></g><path class=\"foreground\" aria-hidden=\"true\" d=\"\" pointer-events=\"none\" display=\"none\"/></g></g><g class=\"mark-group role-axis\" role=\"graphics-symbol\" aria-roledescription=\"axis\" aria-label=\"X-axis titled 'value' for a linear scale with values from −22 to 0\"><g transform=\"translate(0.5,75.5)\"><path class=\"background\" aria-hidden=\"true\" d=\"M0,0h0v0h0Z\" pointer-events=\"none\"/><g><g class=\"mark-rule role-axis-tick\" pointer-events=\"none\"><line transform=\"translate(18,0)\" x2=\"0\" y2=\"5\" stroke=\"#888\" stroke-width=\"1\" opacity=\"1\"/><line transform=\"translate(64,0)\" x2=\"0\" y2=\"5\" stroke=\"#888\" stroke-width=\"1\" opacity=\"1\"/><line transform=\"translate(109,0)\" x2=\"0\" y2=\"5\" stroke=\"#888\" stroke-width=\"1\" opacity=\"1\"/><line transform=\"translate(155,0)\" x2=\"0\" y2=\"5\" stroke=\"#888\" stroke-width=\"1\" opacity=\"1\"/><line transform=\"translate(200,0)\" x2=\"0\" y2=\"5\" stroke=\"#888\" stroke-width=\"1\" opacity=\"1\"/></g><g class=\"mark-text role-axis-label\" pointer-events=\"none\"><text text-anchor=\"middle\" transform=\"translate(18.181818181818183,15)\" font-family=\"sans-serif\" font-size=\"10px\" fill=\"#000\" opacity=\"1\">−20</text><text text-anchor=\"middle\" transform=\"translate(63.63636363636363,15)\" font-family=\"sans-serif\" font-size=\"10px\" fill=\"#000\" opacity=\"1\">−15</text><text text-anchor=\"middle\" transform=\"translate(109.09090909090908,15)\" font-family=\"sans-serif\" font-size=\"10px\" fill=\"#000\" opacity=\"1\">−10</text><text text-anchor=\"middle\" transform=\"translate(154.54545454545453,15)\" font-family=\"sans-serif\" font-size=\"10px\" fill=\"#000\" opacity=\"1\">−5</text><text text-anchor=\"end\" transform=\"translate(200,15)\" font-family=\"sans-serif\" font-size=\"10px\" fill=\"#000\" opacity=\"1\">0</text></g><g class=\"mark-rule role-axis-domain\" pointer-events=\"none\"><line transform=\"translate(0,0)\" x2=\"200\" y2=\"0\" stroke=\"#888\" stroke-width=\"1\" opacity=\"1\"/></g><g class=\"mark-text role-axis-title\" pointer-events=\"none\"><text text-anchor=\"middle\" transform=\"translate(100,30)\" font-family=\"sans-serif\" font-size=\"11px\" font-weight=\"bold\" fill=\"#000\" opacity=\"1\">value</text></g></g><path class=\"foreground\" aria-hidden=\"true\" d=\"\" pointer-events=\"none\" display=\"none\"/></g></g><g class=\"mark-group role-axis\" role=\"graphics-symbol\" aria-roledescription=\"axis\" aria-label=\"Y-axis titled 'Height (m)' for a linear scale with values from 0.00 to 0.04\"><g transform=\"translate(0.5,0.5)\"><path class=\"background\" aria-hidden=\"true\" d=\"M0,0h0v0h0Z\" pointer-events=\"none\"/><g><g class=\"mark-rule role-axis-tick\" pointer-events=\"none\"><line transform=\"translate(0,75)\" x2=\"-5\" y2=\"0\" stroke=\"#888\" stroke-width=\"1\" opacity=\"1\"/><line transform=\"translate(0,38)\" x2=\"-5\" y2=\"0\" stroke=\"#888\" stroke-width=\"1\" opacity=\"1\"/><line transform=\"translate(0,0)\" x2=\"-5\" y2=\"0\" stroke=\"#888\" stroke-width=\"1\" opacity=\"1\"/></g><g class=\"mark-text role-axis-label\" pointer-events=\"none\"><text text-anchor=\"end\" transform=\"translate(-7,78)\" font-family=\"sans-serif\" font-size=\"10px\" fill=\"#000\" opacity=\"1\">0.00</text><text text-anchor=\"end\" transform=\"translate(-7,40.5)\" font-family=\"sans-serif\" font-size=\"10px\" fill=\"#000\" opacity=\"1\">0.02</text><text text-anchor=\"end\" transform=\"translate(-7,3)\" font-family=\"sans-serif\" font-size=\"10px\" fill=\"#000\" opacity=\"1\">0.04</text></g><g class=\"mark-rule role-axis-domain\" pointer-events=\"none\"><line transform=\"translate(0,75)\" x2=\"0\" y2=\"-75\" stroke=\"#888\" stroke-width=\"1\" opacity=\"1\"/></g><g class=\"mark-text role-axis-title\" pointer-events=\"none\"><text text-anchor=\"middle\" transform=\"translate(-30.462890625,37.5) rotate(-90) translate(0,-2)\" font-family=\"sans-serif\" font-size=\"11px\" font-weight=\"bold\" fill=\"#000\" opacity=\"1\">Height (m)</text></g></g><path class=\"foreground\" aria-hidden=\"true\" d=\"\" pointer-events=\"none\" display=\"none\"/></g></g><g class=\"mark-symbol role-mark concat_2_marks\" role=\"graphics-object\" aria-roledescription=\"symbol mark container\"><path aria-label=\"value: −19.8990764545; Height (m): 0; measurement: Thermistor harp\" role=\"graphics-symbol\" aria-roledescription=\"point\" transform=\"translate(19.099304958677685,75)\" d=\"M-2.739,-1.095L-2.739,1.095L-1.095,1.095L-1.095,2.739L1.095,2.739L1.095,1.095L2.739,1.095L2.739,-1.095L1.095,-1.095L1.095,-2.739L-1.095,-2.739L-1.095,-1.095Z\" stroke=\"#4c78a8\" stroke-width=\"2\" opacity=\"0.7\"/><path aria-label=\"value: −18.3827745455; Height (m): 0.005; measurement: Thermistor harp\" role=\"graphics-symbol\" aria-roledescription=\"point\" transform=\"translate(32.883867768595046,65.625)\" d=\"M-2.739,-1.095L-2.739,1.095L-1.095,1.095L-1.095,2.739L1.095,2.739L1.095,1.095L2.739,1.095L2.739,-1.095L1.095,-1.095L1.095,-2.739L-1.095,-2.739L-1.095,-1.095Z\" stroke=\"#4c78a8\" stroke-width=\"2\" opacity=\"0.7\"/><path aria-label=\"value: −17.3807589091; Height (m): 0.01; measurement: Thermistor harp\" role=\"graphics-symbol\" aria-roledescription=\"point\" transform=\"translate(41.993100826446295,56.25)\" d=\"M-2.739,-1.095L-2.739,1.095L-1.095,1.095L-1.095,2.739L1.095,2.739L1.095,1.095L2.739,1.095L2.739,-1.095L1.095,-1.095L1.095,-2.739L-1.095,-2.739L-1.095,-1.095Z\" stroke=\"#4c78a8\" stroke-width=\"2\" opacity=\"0.7\"/><path aria-label=\"value: −17.5693091818; Height (m): 0.015; measurement: Thermistor harp\" role=\"graphics-symbol\" aria-roledescription=\"point\" transform=\"translate(40.27900743801651,46.875)\" d=\"M-2.739,-1.095L-2.739,1.095L-1.095,1.095L-1.095,2.739L1.095,2.739L1.095,1.095L2.739,1.095L2.739,-1.095L1.095,-1.095L1.095,-2.739L-1.095,-2.739L-1.095,-1.095Z\" stroke=\"#4c78a8\" stroke-width=\"2\" opacity=\"0.7\"/><path aria-label=\"value: −17.0302409091; Height (m): 0.02; measurement: Thermistor harp\" role=\"graphics-symbol\" aria-roledescription=\"point\" transform=\"translate(45.17962809917355,37.5)\" d=\"M-2.739,-1.095L-2.739,1.095L-1.095,1.095L-1.095,2.739L1.095,2.739L1.095,1.095L2.739,1.095L2.739,-1.095L1.095,-1.095L1.095,-2.739L-1.095,-2.739L-1.095,-1.095Z\" stroke=\"#4c78a8\" stroke-width=\"2\" opacity=\"0.7\"/><path aria-label=\"value: −16.9771306364; Height (m): 0.025; measurement: Thermistor harp\" role=\"graphics-symbol\" aria-roledescription=\"point\" transform=\"translate(45.662448760330584,28.125)\" d=\"M-2.739,-1.095L-2.739,1.095L-1.095,1.095L-1.095,2.739L1.095,2.739L1.095,1.095L2.739,1.095L2.739,-1.095L1.095,-1.095L1.095,-2.739L-1.095,-2.739L-1.095,-1.095Z\" stroke=\"#4c78a8\" stroke-width=\"2\" opacity=\"0.7\"/><path aria-label=\"value: −16.7838768182; Height (m): 0.03; measurement: Thermistor harp\" role=\"graphics-symbol\" aria-roledescription=\"point\" transform=\"translate(47.41930165289254,18.75)\" d=\"M-2.739,-1.095L-2.739,1.095L-1.095,1.095L-1.095,2.739L1.095,2.739L1.095,1.095L2.739,1.095L2.739,-1.095L1.095,-1.095L1.095,-2.739L-1.095,-2.739L-1.095,-1.095Z\" stroke=\"#4c78a8\" stroke-width=\"2\" opacity=\"0.7\"/><path aria-label=\"value: −16.7654385455; Height (m): 0.035; measurement: Thermistor harp\" role=\"graphics-symbol\" aria-roledescription=\"point\" transform=\"translate(47.58692231404957,9.374999999999991)\" d=\"M-2.739,-1.095L-2.739,1.095L-1.095,1.095L-1.095,2.739L1.095,2.739L1.095,1.095L2.739,1.095L2.739,-1.095L1.095,-1.095L1.095,-2.739L-1.095,-2.739L-1.095,-1.095Z\" stroke=\"#4c78a8\" stroke-width=\"2\" opacity=\"0.7\"/><path aria-label=\"value: −21.9909744263; Height (m): 0; measurement: Pyrgeometer\" role=\"graphics-symbol\" aria-roledescription=\"point\" transform=\"translate(0.08205067027698863,75)\" d=\"M-2.739,-2.739h5.477v5.477h-5.477Z\" stroke=\"#4c78a8\" stroke-width=\"2\" opacity=\"0.7\"/></g></g><path class=\"foreground\" aria-hidden=\"true\" d=\"\" display=\"none\"/></g></g><g class=\"mark-group role-scope concat_3_group\" role=\"graphics-object\" aria-roledescription=\"group mark container\"><g transform=\"translate(0,365)\"><path class=\"background\" aria-hidden=\"true\" d=\"M0.5,0.5h200v150h-200Z\" stroke=\"#ddd\"/><g><g class=\"mark-group role-axis\" aria-hidden=\"true\"><g transform=\"translate(0.5,150.5)\"><path class=\"background\" aria-hidden=\"true\" d=\"M0,0h0v0h0Z\" pointer-events=\"none\"/><g><g class=\"mark-rule role-axis-grid\" pointer-events=\"none\"><line transform=\"translate(18,-150)\" x2=\"0\" y2=\"150\" stroke=\"#ddd\" stroke-width=\"1\" opacity=\"1\"/><line transform=\"translate(64,-150)\" x2=\"0\" y2=\"150\" stroke=\"#ddd\" stroke-width=\"1\" opacity=\"1\"/><line transform=\"translate(109,-150)\" x2=\"0\" y2=\"150\" stroke=\"#ddd\" stroke-width=\"1\" opacity=\"1\"/><line transform=\"translate(155,-150)\" x2=\"0\" y2=\"150\" stroke=\"#ddd\" stroke-width=\"1\" opacity=\"1\"/><line transform=\"translate(200,-150)\" x2=\"0\" y2=\"150\" stroke=\"#ddd\" stroke-width=\"1\" opacity=\"1\"/></g></g><path class=\"foreground\" aria-hidden=\"true\" d=\"\" pointer-events=\"none\" display=\"none\"/></g></g><g class=\"mark-group role-axis\" aria-hidden=\"true\"><g transform=\"translate(0.5,0.5)\"><path class=\"background\" aria-hidden=\"true\" d=\"M0,0h0v0h0Z\" pointer-events=\"none\"/><g><g class=\"mark-rule role-axis-grid\" pointer-events=\"none\"><line transform=\"translate(0,150)\" x2=\"200\" y2=\"0\" stroke=\"#ddd\" stroke-width=\"1\" opacity=\"1\"/><line transform=\"translate(0,141)\" x2=\"200\" y2=\"0\" stroke=\"#ddd\" stroke-width=\"1\" opacity=\"1\"/><line transform=\"translate(0,136)\" x2=\"200\" y2=\"0\" stroke=\"#ddd\" stroke-width=\"1\" opacity=\"1\"/><line transform=\"translate(0,132)\" x2=\"200\" y2=\"0\" stroke=\"#ddd\" stroke-width=\"1\" opacity=\"1\"/><line transform=\"translate(0,129)\" x2=\"200\" y2=\"0\" stroke=\"#ddd\" stroke-width=\"1\" opacity=\"1\"/><line transform=\"translate(0,127)\" x2=\"200\" y2=\"0\" stroke=\"#ddd\" stroke-width=\"1\" opacity=\"1\"/><line transform=\"translate(0,125)\" x2=\"200\" y2=\"0\" stroke=\"#ddd\" stroke-width=\"1\" opacity=\"1\"/><line transform=\"translate(0,123)\" x2=\"200\" y2=\"0\" stroke=\"#ddd\" stroke-width=\"1\" opacity=\"1\"/><line transform=\"translate(0,121)\" x2=\"200\" y2=\"0\" stroke=\"#ddd\" stroke-width=\"1\" opacity=\"1\"/><line transform=\"translate(0,120)\" x2=\"200\" y2=\"0\" stroke=\"#ddd\" stroke-width=\"1\" opacity=\"1\"/><line transform=\"translate(0,111)\" x2=\"200\" y2=\"0\" stroke=\"#ddd\" stroke-width=\"1\" opacity=\"1\"/><line transform=\"translate(0,106)\" x2=\"200\" y2=\"0\" stroke=\"#ddd\" stroke-width=\"1\" opacity=\"1\"/><line transform=\"translate(0,102)\" x2=\"200\" y2=\"0\" stroke=\"#ddd\" stroke-width=\"1\" opacity=\"1\"/><line transform=\"translate(0,99)\" x2=\"200\" y2=\"0\" stroke=\"#ddd\" stroke-width=\"1\" opacity=\"1\"/><line transform=\"translate(0,97)\" x2=\"200\" y2=\"0\" stroke=\"#ddd\" stroke-width=\"1\" opacity=\"1\"/><line transform=\"translate(0,95)\" x2=\"200\" y2=\"0\" stroke=\"#ddd\" stroke-width=\"1\" opacity=\"1\"/><line transform=\"translate(0,93)\" x2=\"200\" y2=\"0\" stroke=\"#ddd\" stroke-width=\"1\" opacity=\"1\"/><line transform=\"translate(0,91)\" x2=\"200\" y2=\"0\" stroke=\"#ddd\" stroke-width=\"1\" opacity=\"1\"/><line transform=\"translate(0,90)\" x2=\"200\" y2=\"0\" stroke=\"#ddd\" stroke-width=\"1\" opacity=\"1\"/><line transform=\"translate(0,81)\" x2=\"200\" y2=\"0\" stroke=\"#ddd\" stroke-width=\"1\" opacity=\"1\"/><line transform=\"translate(0,76)\" x2=\"200\" y2=\"0\" stroke=\"#ddd\" stroke-width=\"1\" opacity=\"1\"/><line transform=\"translate(0,72)\" x2=\"200\" y2=\"0\" stroke=\"#ddd\" stroke-width=\"1\" opacity=\"1\"/><line transform=\"translate(0,69)\" x2=\"200\" y2=\"0\" stroke=\"#ddd\" stroke-width=\"1\" opacity=\"1\"/><line transform=\"translate(0,67)\" x2=\"200\" y2=\"0\" stroke=\"#ddd\" stroke-width=\"1\" opacity=\"1\"/><line transform=\"translate(0,65)\" x2=\"200\" y2=\"0\" stroke=\"#ddd\" stroke-width=\"1\" opacity=\"1\"/><line transform=\"translate(0,63)\" x2=\"200\" y2=\"0\" stroke=\"#ddd\" stroke-width=\"1\" opacity=\"1\"/><line transform=\"translate(0,61)\" x2=\"200\" y2=\"0\" stroke=\"#ddd\" stroke-width=\"1\" opacity=\"1\"/><line transform=\"translate(0,60)\" x2=\"200\" y2=\"0\" stroke=\"#ddd\" stroke-width=\"1\" opacity=\"1\"/><line transform=\"translate(0,51)\" x2=\"200\" y2=\"0\" stroke=\"#ddd\" stroke-width=\"1\" opacity=\"1\"/><line transform=\"translate(0,46)\" x2=\"200\" y2=\"0\" stroke=\"#ddd\" stroke-width=\"1\" opacity=\"1\"/><line transform=\"translate(0,42)\" x2=\"200\" y2=\"0\" stroke=\"#ddd\" stroke-width=\"1\" opacity=\"1\"/><line transform=\"translate(0,39)\" x2=\"200\" y2=\"0\" stroke=\"#ddd\" stroke-width=\"1\" opacity=\"1\"/><line transform=\"translate(0,37)\" x2=\"200\" y2=\"0\" stroke=\"#ddd\" stroke-width=\"1\" opacity=\"1\"/><line transform=\"translate(0,35)\" x2=\"200\" y2=\"0\" stroke=\"#ddd\" stroke-width=\"1\" opacity=\"1\"/><line transform=\"translate(0,33)\" x2=\"200\" y2=\"0\" stroke=\"#ddd\" stroke-width=\"1\" opacity=\"1\"/><line transform=\"translate(0,31)\" x2=\"200\" y2=\"0\" stroke=\"#ddd\" stroke-width=\"1\" opacity=\"1\"/><line transform=\"translate(0,30)\" x2=\"200\" y2=\"0\" stroke=\"#ddd\" stroke-width=\"1\" opacity=\"1\"/><line transform=\"translate(0,21)\" x2=\"200\" y2=\"0\" stroke=\"#ddd\" stroke-width=\"1\" opacity=\"1\"/><line transform=\"translate(0,16)\" x2=\"200\" y2=\"0\" stroke=\"#ddd\" stroke-width=\"1\" opacity=\"1\"/><line transform=\"translate(0,12)\" x2=\"200\" y2=\"0\" stroke=\"#ddd\" stroke-width=\"1\" opacity=\"1\"/><line transform=\"translate(0,9)\" x2=\"200\" y2=\"0\" stroke=\"#ddd\" stroke-width=\"1\" opacity=\"1\"/><line transform=\"translate(0,7)\" x2=\"200\" y2=\"0\" stroke=\"#ddd\" stroke-width=\"1\" opacity=\"1\"/><line transform=\"translate(0,5)\" x2=\"200\" y2=\"0\" stroke=\"#ddd\" stroke-width=\"1\" opacity=\"1\"/><line transform=\"translate(0,3)\" x2=\"200\" y2=\"0\" stroke=\"#ddd\" stroke-width=\"1\" opacity=\"1\"/><line transform=\"translate(0,1)\" x2=\"200\" y2=\"0\" stroke=\"#ddd\" stroke-width=\"1\" opacity=\"1\"/><line transform=\"translate(0,0)\" x2=\"200\" y2=\"0\" stroke=\"#ddd\" stroke-width=\"1\" opacity=\"1\"/></g></g><path class=\"foreground\" aria-hidden=\"true\" d=\"\" pointer-events=\"none\" display=\"none\"/></g></g><g class=\"mark-group role-axis\" role=\"graphics-symbol\" aria-roledescription=\"axis\" aria-label=\"X-axis titled 'value' for a linear scale with values from −22 to 0\"><g transform=\"translate(0.5,150.5)\"><path class=\"background\" aria-hidden=\"true\" d=\"M0,0h0v0h0Z\" pointer-events=\"none\"/><g><g class=\"mark-rule role-axis-tick\" pointer-events=\"none\"><line transform=\"translate(18,0)\" x2=\"0\" y2=\"5\" stroke=\"#888\" stroke-width=\"1\" opacity=\"1\"/><line transform=\"translate(64,0)\" x2=\"0\" y2=\"5\" stroke=\"#888\" stroke-width=\"1\" opacity=\"1\"/><line transform=\"translate(109,0)\" x2=\"0\" y2=\"5\" stroke=\"#888\" stroke-width=\"1\" opacity=\"1\"/><line transform=\"translate(155,0)\" x2=\"0\" y2=\"5\" stroke=\"#888\" stroke-width=\"1\" opacity=\"1\"/><line transform=\"translate(200,0)\" x2=\"0\" y2=\"5\" stroke=\"#888\" stroke-width=\"1\" opacity=\"1\"/></g><g class=\"mark-text role-axis-label\" pointer-events=\"none\"><text text-anchor=\"middle\" transform=\"translate(18.181818181818183,15)\" font-family=\"sans-serif\" font-size=\"10px\" fill=\"#000\" opacity=\"1\">−20</text><text text-anchor=\"middle\" transform=\"translate(63.63636363636363,15)\" font-family=\"sans-serif\" font-size=\"10px\" fill=\"#000\" opacity=\"1\">−15</text><text text-anchor=\"middle\" transform=\"translate(109.09090909090908,15)\" font-family=\"sans-serif\" font-size=\"10px\" fill=\"#000\" opacity=\"1\">−10</text><text text-anchor=\"middle\" transform=\"translate(154.54545454545453,15)\" font-family=\"sans-serif\" font-size=\"10px\" fill=\"#000\" opacity=\"1\">−5</text><text text-anchor=\"end\" transform=\"translate(200,15)\" font-family=\"sans-serif\" font-size=\"10px\" fill=\"#000\" opacity=\"1\">0</text></g><g class=\"mark-rule role-axis-domain\" pointer-events=\"none\"><line transform=\"translate(0,0)\" x2=\"200\" y2=\"0\" stroke=\"#888\" stroke-width=\"1\" opacity=\"1\"/></g><g class=\"mark-text role-axis-title\" pointer-events=\"none\"><text text-anchor=\"middle\" transform=\"translate(100,30)\" font-family=\"sans-serif\" font-size=\"11px\" font-weight=\"bold\" fill=\"#000\" opacity=\"1\">value</text></g></g><path class=\"foreground\" aria-hidden=\"true\" d=\"\" pointer-events=\"none\" display=\"none\"/></g></g><g class=\"mark-group role-axis\" role=\"graphics-symbol\" aria-roledescription=\"axis\" aria-label=\"Y-axis for a log scale with values from 0.001 to 100\"><g transform=\"translate(0.5,0.5)\"><path class=\"background\" aria-hidden=\"true\" d=\"M0,0h0v0h0Z\" pointer-events=\"none\"/><g><g class=\"mark-rule role-axis-tick\" pointer-events=\"none\"><line transform=\"translate(0,150)\" x2=\"-5\" y2=\"0\" stroke=\"#888\" stroke-width=\"1\" opacity=\"1\"/><line transform=\"translate(0,141)\" x2=\"-5\" y2=\"0\" stroke=\"#888\" stroke-width=\"1\" opacity=\"1\"/><line transform=\"translate(0,136)\" x2=\"-5\" y2=\"0\" stroke=\"#888\" stroke-width=\"1\" opacity=\"1\"/><line transform=\"translate(0,132)\" x2=\"-5\" y2=\"0\" stroke=\"#888\" stroke-width=\"1\" opacity=\"1\"/><line transform=\"translate(0,129)\" x2=\"-5\" y2=\"0\" stroke=\"#888\" stroke-width=\"1\" opacity=\"1\"/><line transform=\"translate(0,127)\" x2=\"-5\" y2=\"0\" stroke=\"#888\" stroke-width=\"1\" opacity=\"1\"/><line transform=\"translate(0,125)\" x2=\"-5\" y2=\"0\" stroke=\"#888\" stroke-width=\"1\" opacity=\"1\"/><line transform=\"translate(0,123)\" x2=\"-5\" y2=\"0\" stroke=\"#888\" stroke-width=\"1\" opacity=\"1\"/><line transform=\"translate(0,121)\" x2=\"-5\" y2=\"0\" stroke=\"#888\" stroke-width=\"1\" opacity=\"1\"/><line transform=\"translate(0,120)\" x2=\"-5\" y2=\"0\" stroke=\"#888\" stroke-width=\"1\" opacity=\"1\"/><line transform=\"translate(0,111)\" x2=\"-5\" y2=\"0\" stroke=\"#888\" stroke-width=\"1\" opacity=\"1\"/><line transform=\"translate(0,106)\" x2=\"-5\" y2=\"0\" stroke=\"#888\" stroke-width=\"1\" opacity=\"1\"/><line transform=\"translate(0,102)\" x2=\"-5\" y2=\"0\" stroke=\"#888\" stroke-width=\"1\" opacity=\"1\"/><line transform=\"translate(0,99)\" x2=\"-5\" y2=\"0\" stroke=\"#888\" stroke-width=\"1\" opacity=\"1\"/><line transform=\"translate(0,97)\" x2=\"-5\" y2=\"0\" stroke=\"#888\" stroke-width=\"1\" opacity=\"1\"/><line transform=\"translate(0,95)\" x2=\"-5\" y2=\"0\" stroke=\"#888\" stroke-width=\"1\" opacity=\"1\"/><line transform=\"translate(0,93)\" x2=\"-5\" y2=\"0\" stroke=\"#888\" stroke-width=\"1\" opacity=\"1\"/><line transform=\"translate(0,91)\" x2=\"-5\" y2=\"0\" stroke=\"#888\" stroke-width=\"1\" opacity=\"1\"/><line transform=\"translate(0,90)\" x2=\"-5\" y2=\"0\" stroke=\"#888\" stroke-width=\"1\" opacity=\"1\"/><line transform=\"translate(0,81)\" x2=\"-5\" y2=\"0\" stroke=\"#888\" stroke-width=\"1\" opacity=\"1\"/><line transform=\"translate(0,76)\" x2=\"-5\" y2=\"0\" stroke=\"#888\" stroke-width=\"1\" opacity=\"1\"/><line transform=\"translate(0,72)\" x2=\"-5\" y2=\"0\" stroke=\"#888\" stroke-width=\"1\" opacity=\"1\"/><line transform=\"translate(0,69)\" x2=\"-5\" y2=\"0\" stroke=\"#888\" stroke-width=\"1\" opacity=\"1\"/><line transform=\"translate(0,67)\" x2=\"-5\" y2=\"0\" stroke=\"#888\" stroke-width=\"1\" opacity=\"1\"/><line transform=\"translate(0,65)\" x2=\"-5\" y2=\"0\" stroke=\"#888\" stroke-width=\"1\" opacity=\"1\"/><line transform=\"translate(0,63)\" x2=\"-5\" y2=\"0\" stroke=\"#888\" stroke-width=\"1\" opacity=\"1\"/><line transform=\"translate(0,61)\" x2=\"-5\" y2=\"0\" stroke=\"#888\" stroke-width=\"1\" opacity=\"1\"/><line transform=\"translate(0,60)\" x2=\"-5\" y2=\"0\" stroke=\"#888\" stroke-width=\"1\" opacity=\"1\"/><line transform=\"translate(0,51)\" x2=\"-5\" y2=\"0\" stroke=\"#888\" stroke-width=\"1\" opacity=\"1\"/><line transform=\"translate(0,46)\" x2=\"-5\" y2=\"0\" stroke=\"#888\" stroke-width=\"1\" opacity=\"1\"/><line transform=\"translate(0,42)\" x2=\"-5\" y2=\"0\" stroke=\"#888\" stroke-width=\"1\" opacity=\"1\"/><line transform=\"translate(0,39)\" x2=\"-5\" y2=\"0\" stroke=\"#888\" stroke-width=\"1\" opacity=\"1\"/><line transform=\"translate(0,37)\" x2=\"-5\" y2=\"0\" stroke=\"#888\" stroke-width=\"1\" opacity=\"1\"/><line transform=\"translate(0,35)\" x2=\"-5\" y2=\"0\" stroke=\"#888\" stroke-width=\"1\" opacity=\"1\"/><line transform=\"translate(0,33)\" x2=\"-5\" y2=\"0\" stroke=\"#888\" stroke-width=\"1\" opacity=\"1\"/><line transform=\"translate(0,31)\" x2=\"-5\" y2=\"0\" stroke=\"#888\" stroke-width=\"1\" opacity=\"1\"/><line transform=\"translate(0,30)\" x2=\"-5\" y2=\"0\" stroke=\"#888\" stroke-width=\"1\" opacity=\"1\"/><line transform=\"translate(0,21)\" x2=\"-5\" y2=\"0\" stroke=\"#888\" stroke-width=\"1\" opacity=\"1\"/><line transform=\"translate(0,16)\" x2=\"-5\" y2=\"0\" stroke=\"#888\" stroke-width=\"1\" opacity=\"1\"/><line transform=\"translate(0,12)\" x2=\"-5\" y2=\"0\" stroke=\"#888\" stroke-width=\"1\" opacity=\"1\"/><line transform=\"translate(0,9)\" x2=\"-5\" y2=\"0\" stroke=\"#888\" stroke-width=\"1\" opacity=\"1\"/><line transform=\"translate(0,7)\" x2=\"-5\" y2=\"0\" stroke=\"#888\" stroke-width=\"1\" opacity=\"1\"/><line transform=\"translate(0,5)\" x2=\"-5\" y2=\"0\" stroke=\"#888\" stroke-width=\"1\" opacity=\"1\"/><line transform=\"translate(0,3)\" x2=\"-5\" y2=\"0\" stroke=\"#888\" stroke-width=\"1\" opacity=\"1\"/><line transform=\"translate(0,1)\" x2=\"-5\" y2=\"0\" stroke=\"#888\" stroke-width=\"1\" opacity=\"1\"/><line transform=\"translate(0,0)\" x2=\"-5\" y2=\"0\" stroke=\"#888\" stroke-width=\"1\" opacity=\"1\"/></g><g class=\"mark-text role-axis-label\" pointer-events=\"none\"><text text-anchor=\"end\" transform=\"translate(-7,153)\" font-family=\"sans-serif\" font-size=\"10px\" fill=\"#000\" opacity=\"1\">0.001</text><text text-anchor=\"end\" transform=\"translate(-7,143.96910013008056)\" font-family=\"sans-serif\" font-size=\"10px\" fill=\"#000\" opacity=\"0\">0.002</text><text text-anchor=\"end\" transform=\"translate(-7,138.68636235841012)\" font-family=\"sans-serif\" font-size=\"10px\" fill=\"#000\" opacity=\"1\"/><text text-anchor=\"end\" transform=\"translate(-7,134.93820026016112)\" font-family=\"sans-serif\" font-size=\"10px\" fill=\"#000\" opacity=\"1\"/><text text-anchor=\"end\" transform=\"translate(-7,132.03089986991944)\" font-family=\"sans-serif\" font-size=\"10px\" fill=\"#000\" opacity=\"1\"/><text text-anchor=\"end\" transform=\"translate(-7,129.65546248849068)\" font-family=\"sans-serif\" font-size=\"10px\" fill=\"#000\" opacity=\"1\"/><text text-anchor=\"end\" transform=\"translate(-7,127.64705879957229)\" font-family=\"sans-serif\" font-size=\"10px\" fill=\"#000\" opacity=\"1\"/><text text-anchor=\"end\" transform=\"translate(-7,125.9073003902417)\" font-family=\"sans-serif\" font-size=\"10px\" fill=\"#000\" opacity=\"1\"/><text text-anchor=\"end\" transform=\"translate(-7,124.37272471682026)\" font-family=\"sans-serif\" font-size=\"10px\" fill=\"#000\" opacity=\"1\"/><text text-anchor=\"end\" transform=\"translate(-7,123)\" font-family=\"sans-serif\" font-size=\"10px\" fill=\"#000\" opacity=\"1\">0.01</text><text text-anchor=\"end\" transform=\"translate(-7,113.96910013008056)\" font-family=\"sans-serif\" font-size=\"10px\" fill=\"#000\" opacity=\"0\">0.02</text><text text-anchor=\"end\" transform=\"translate(-7,108.68636235841014)\" font-family=\"sans-serif\" font-size=\"10px\" fill=\"#000\" opacity=\"1\"/><text text-anchor=\"end\" transform=\"translate(-7,104.93820026016114)\" font-family=\"sans-serif\" font-size=\"10px\" fill=\"#000\" opacity=\"1\"/><text text-anchor=\"end\" transform=\"translate(-7,102.03089986991944)\" font-family=\"sans-serif\" font-size=\"10px\" fill=\"#000\" opacity=\"1\"/><text text-anchor=\"end\" transform=\"translate(-7,99.65546248849068)\" font-family=\"sans-serif\" font-size=\"10px\" fill=\"#000\" opacity=\"1\"/><text text-anchor=\"end\" transform=\"translate(-7,97.64705879957229)\" font-family=\"sans-serif\" font-size=\"10px\" fill=\"#000\" opacity=\"1\"/><text text-anchor=\"end\" transform=\"translate(-7,95.90730039024169)\" font-family=\"sans-serif\" font-size=\"10px\" fill=\"#000\" opacity=\"1\"/><text text-anchor=\"end\" transform=\"translate(-7,94.37272471682026)\" font-family=\"sans-serif\" font-size=\"10px\" fill=\"#000\" opacity=\"1\"/><text text-anchor=\"end\" transform=\"translate(-7,93)\" font-family=\"sans-serif\" font-size=\"10px\" fill=\"#000\" opacity=\"1\">0.1</text><text text-anchor=\"end\" transform=\"translate(-7,83.96910013008056)\" font-family=\"sans-serif\" font-size=\"10px\" fill=\"#000\" opacity=\"0\">0.2</text><text text-anchor=\"end\" transform=\"translate(-7,78.68636235841014)\" font-family=\"sans-serif\" font-size=\"10px\" fill=\"#000\" opacity=\"1\"/><text text-anchor=\"end\" transform=\"translate(-7,74.93820026016112)\" font-family=\"sans-serif\" font-size=\"10px\" fill=\"#000\" opacity=\"1\"/><text text-anchor=\"end\" transform=\"translate(-7,72.03089986991944)\" font-family=\"sans-serif\" font-size=\"10px\" fill=\"#000\" opacity=\"1\"/><text text-anchor=\"end\" transform=\"translate(-7,69.65546248849068)\" font-family=\"sans-serif\" font-size=\"10px\" fill=\"#000\" opacity=\"1\"/><text text-anchor=\"end\" transform=\"translate(-7,67.64705879957229)\" font-family=\"sans-serif\" font-size=\"10px\" fill=\"#000\" opacity=\"1\"/><text text-anchor=\"end\" transform=\"translate(-7,65.90730039024169)\" font-family=\"sans-serif\" font-size=\"10px\" fill=\"#000\" opacity=\"1\"/><text text-anchor=\"end\" transform=\"translate(-7,64.37272471682024)\" font-family=\"sans-serif\" font-size=\"10px\" fill=\"#000\" opacity=\"1\"/><text text-anchor=\"end\" transform=\"translate(-7,63)\" font-family=\"sans-serif\" font-size=\"10px\" fill=\"#000\" opacity=\"1\">1</text><text text-anchor=\"end\" transform=\"translate(-7,53.96910013008057)\" font-family=\"sans-serif\" font-size=\"10px\" fill=\"#000\" opacity=\"0\">2</text><text text-anchor=\"end\" transform=\"translate(-7,48.68636235841013)\" font-family=\"sans-serif\" font-size=\"10px\" fill=\"#000\" opacity=\"1\"/><text text-anchor=\"end\" transform=\"translate(-7,44.93820026016113)\" font-family=\"sans-serif\" font-size=\"10px\" fill=\"#000\" opacity=\"1\"/><text text-anchor=\"end\" transform=\"translate(-7,42.030899869919445)\" font-family=\"sans-serif\" font-size=\"10px\" fill=\"#000\" opacity=\"1\"/><text text-anchor=\"end\" transform=\"translate(-7,39.6554624884907)\" font-family=\"sans-serif\" font-size=\"10px\" fill=\"#000\" opacity=\"1\"/><text text-anchor=\"end\" transform=\"translate(-7,37.64705879957231)\" font-family=\"sans-serif\" font-size=\"10px\" fill=\"#000\" opacity=\"1\"/><text text-anchor=\"end\" transform=\"translate(-7,35.9073003902417)\" font-family=\"sans-serif\" font-size=\"10px\" fill=\"#000\" opacity=\"1\"/><text text-anchor=\"end\" transform=\"translate(-7,34.372724716820244)\" font-family=\"sans-serif\" font-size=\"10px\" fill=\"#000\" opacity=\"1\"/><text text-anchor=\"end\" transform=\"translate(-7,32.99999999999999)\" font-family=\"sans-serif\" font-size=\"10px\" fill=\"#000\" opacity=\"1\">10</text><text text-anchor=\"end\" transform=\"translate(-7,23.969100130080577)\" font-family=\"sans-serif\" font-size=\"10px\" fill=\"#000\" opacity=\"0\">20</text><text text-anchor=\"end\" transform=\"translate(-7,18.686362358410122)\" font-family=\"sans-serif\" font-size=\"10px\" fill=\"#000\" opacity=\"1\"/><text text-anchor=\"end\" transform=\"translate(-7,14.93820026016114)\" font-family=\"sans-serif\" font-size=\"10px\" fill=\"#000\" opacity=\"1\"/><text text-anchor=\"end\" transform=\"translate(-7,12.030899869919434)\" font-family=\"sans-serif\" font-size=\"10px\" fill=\"#000\" opacity=\"1\"/><text text-anchor=\"end\" transform=\"translate(-7,9.655462488490688)\" font-family=\"sans-serif\" font-size=\"10px\" fill=\"#000\" opacity=\"1\"/><text text-anchor=\"end\" transform=\"translate(-7,7.647058799572312)\" font-family=\"sans-serif\" font-size=\"10px\" fill=\"#000\" opacity=\"1\"/><text text-anchor=\"end\" transform=\"translate(-7,5.907300390241707)\" font-family=\"sans-serif\" font-size=\"10px\" fill=\"#000\" opacity=\"1\"/><text text-anchor=\"end\" transform=\"translate(-7,4.372724716820267)\" font-family=\"sans-serif\" font-size=\"10px\" fill=\"#000\" opacity=\"1\"/><text text-anchor=\"end\" transform=\"translate(-7,3)\" font-family=\"sans-serif\" font-size=\"10px\" fill=\"#000\" opacity=\"1\">100</text></g><g class=\"mark-rule role-axis-domain\" pointer-events=\"none\"><line transform=\"translate(0,150)\" x2=\"0\" y2=\"-150\" stroke=\"#888\" stroke-width=\"1\" opacity=\"1\"/></g></g><path class=\"foreground\" aria-hidden=\"true\" d=\"\" pointer-events=\"none\" display=\"none\"/></g></g><g class=\"mark-symbol role-mark concat_3_marks\" role=\"graphics-object\" aria-roledescription=\"symbol mark container\"><path aria-label=\"value: −18.3827745455; height: 0.005; measurement: Thermistor harp\" role=\"graphics-symbol\" aria-roledescription=\"point\" transform=\"translate(32.883867768595046,129.03089986991944)\" d=\"M-2.739,-1.095L-2.739,1.095L-1.095,1.095L-1.095,2.739L1.095,2.739L1.095,1.095L2.739,1.095L2.739,-1.095L1.095,-1.095L1.095,-2.739L-1.095,-2.739L-1.095,-1.095Z\" stroke=\"#4c78a8\" stroke-width=\"2\" opacity=\"0.7\"/><path aria-label=\"value: −17.3807589091; height: 0.01; measurement: Thermistor harp\" role=\"graphics-symbol\" aria-roledescription=\"point\" transform=\"translate(41.993100826446295,120)\" d=\"M-2.739,-1.095L-2.739,1.095L-1.095,1.095L-1.095,2.739L1.095,2.739L1.095,1.095L2.739,1.095L2.739,-1.095L1.095,-1.095L1.095,-2.739L-1.095,-2.739L-1.095,-1.095Z\" stroke=\"#4c78a8\" stroke-width=\"2\" opacity=\"0.7\"/><path aria-label=\"value: −17.5693091818; height: 0.015; measurement: Thermistor harp\" role=\"graphics-symbol\" aria-roledescription=\"point\" transform=\"translate(40.27900743801651,114.71726222832957)\" d=\"M-2.739,-1.095L-2.739,1.095L-1.095,1.095L-1.095,2.739L1.095,2.739L1.095,1.095L2.739,1.095L2.739,-1.095L1.095,-1.095L1.095,-2.739L-1.095,-2.739L-1.095,-1.095Z\" stroke=\"#4c78a8\" stroke-width=\"2\" opacity=\"0.7\"/><path aria-label=\"value: −17.0302409091; height: 0.02; measurement: Thermistor harp\" role=\"graphics-symbol\" aria-roledescription=\"point\" transform=\"translate(45.17962809917355,110.96910013008056)\" d=\"M-2.739,-1.095L-2.739,1.095L-1.095,1.095L-1.095,2.739L1.095,2.739L1.095,1.095L2.739,1.095L2.739,-1.095L1.095,-1.095L1.095,-2.739L-1.095,-2.739L-1.095,-1.095Z\" stroke=\"#4c78a8\" stroke-width=\"2\" opacity=\"0.7\"/><path aria-label=\"value: −16.9771306364; height: 0.025; measurement: Thermistor harp\" role=\"graphics-symbol\" aria-roledescription=\"point\" transform=\"translate(45.662448760330584,108.06179973983888)\" d=\"M-2.739,-1.095L-2.739,1.095L-1.095,1.095L-1.095,2.739L1.095,2.739L1.095,1.095L2.739,1.095L2.739,-1.095L1.095,-1.095L1.095,-2.739L-1.095,-2.739L-1.095,-1.095Z\" stroke=\"#4c78a8\" stroke-width=\"2\" opacity=\"0.7\"/><path aria-label=\"value: −16.7838768182; height: 0.03; measurement: Thermistor harp\" role=\"graphics-symbol\" aria-roledescription=\"point\" transform=\"translate(47.41930165289254,105.68636235841014)\" d=\"M-2.739,-1.095L-2.739,1.095L-1.095,1.095L-1.095,2.739L1.095,2.739L1.095,1.095L2.739,1.095L2.739,-1.095L1.095,-1.095L1.095,-2.739L-1.095,-2.739L-1.095,-1.095Z\" stroke=\"#4c78a8\" stroke-width=\"2\" opacity=\"0.7\"/><path aria-label=\"value: −16.7654385455; height: 0.035; measurement: Thermistor harp\" role=\"graphics-symbol\" aria-roledescription=\"point\" transform=\"translate(47.58692231404957,103.67795866949174)\" d=\"M-2.739,-1.095L-2.739,1.095L-1.095,1.095L-1.095,2.739L1.095,2.739L1.095,1.095L2.739,1.095L2.739,-1.095L1.095,-1.095L1.095,-2.739L-1.095,-2.739L-1.095,-1.095Z\" stroke=\"#4c78a8\" stroke-width=\"2\" opacity=\"0.7\"/><path aria-label=\"value: −15.1407456398; height: 0.05; measurement: Thermistor\" role=\"graphics-symbol\" aria-roledescription=\"point\" transform=\"translate(62.35685781999067,99.03089986991944)\" d=\"M0,-2.372L-2.739,2.372L2.739,2.372Z\" stroke=\"#4c78a8\" stroke-width=\"2\" opacity=\"0.7\"/><path aria-label=\"value: −13.733420372; height: 0.15; measurement: Thermistor\" role=\"graphics-symbol\" aria-roledescription=\"point\" transform=\"translate(75.15072389082475,84.71726222832956)\" d=\"M0,-2.372L-2.739,2.372L2.739,2.372Z\" stroke=\"#4c78a8\" stroke-width=\"2\" opacity=\"0.7\"/><path aria-label=\"value: −12.6269164085; height: 0.25; measurement: Thermistor\" role=\"graphics-symbol\" aria-roledescription=\"point\" transform=\"translate(85.20985083146529,78.06179973983889)\" d=\"M0,-2.372L-2.739,2.372L2.739,2.372Z\" stroke=\"#4c78a8\" stroke-width=\"2\" opacity=\"0.7\"/><path aria-label=\"value: −11.7702498436; height: 0.35; measurement: Thermistor\" role=\"graphics-symbol\" aria-roledescription=\"point\" transform=\"translate(92.99772869456898,73.67795866949173)\" d=\"M0,-2.372L-2.739,2.372L2.739,2.372Z\" stroke=\"#4c78a8\" stroke-width=\"2\" opacity=\"0.7\"/><path aria-label=\"value: −11.2832169533; height: 0.45; measurement: Thermistor\" role=\"graphics-symbol\" aria-roledescription=\"point\" transform=\"translate(97.42530042474921,70.40362458673971)\" d=\"M0,-2.372L-2.739,2.372L2.739,2.372Z\" stroke=\"#4c78a8\" stroke-width=\"2\" opacity=\"0.7\"/><path aria-label=\"value: −10.9283542633; height: 0.55; measurement: Thermistor\" role=\"graphics-symbol\" aria-roledescription=\"point\" transform=\"translate(100.65132487903942,67.7891193151727)\" d=\"M0,-2.372L-2.739,2.372L2.739,2.372Z\" stroke=\"#4c78a8\" stroke-width=\"2\" opacity=\"0.7\"/><path aria-label=\"value: −7.48855900764; height: 9.05; measurement: Aspirated hygrothermometer\" role=\"graphics-symbol\" aria-roledescription=\"point\" transform=\"translate(131.92219083959407,31.300542623843906)\" d=\"M2.739,0A2.739,2.739,0,1,1,-2.739,0A2.739,2.739,0,1,1,2.739,0\" stroke=\"#4c78a8\" stroke-width=\"2\" opacity=\"0.7\"/><path aria-label=\"value: −7.47834181786; height: 10.05; measurement: Aspirated hygrothermometer\" role=\"graphics-symbol\" aria-roledescription=\"point\" transform=\"translate(132.0150743831288,29.93501814730476)\" d=\"M2.739,0A2.739,2.739,0,1,1,-2.739,0A2.739,2.739,0,1,1,2.739,0\" stroke=\"#4c78a8\" stroke-width=\"2\" opacity=\"0.7\"/><path aria-label=\"value: −7.44592833519; height: 11.05; measurement: Aspirated hygrothermometer\" role=\"graphics-symbol\" aria-roledescription=\"point\" transform=\"translate(132.3097424073653,28.699131659366124)\" d=\"M2.739,0A2.739,2.739,0,1,1,-2.739,0A2.739,2.739,0,1,1,2.739,0\" stroke=\"#4c78a8\" stroke-width=\"2\" opacity=\"0.7\"/><path aria-label=\"value: −7.4192006588; height: 12.05; measurement: Aspirated hygrothermometer\" role=\"graphics-symbol\" aria-roledescription=\"point\" transform=\"translate(132.55272128365257,27.570388592673385)\" d=\"M2.739,0A2.739,2.739,0,1,1,-2.739,0A2.739,2.739,0,1,1,2.739,0\" stroke=\"#4c78a8\" stroke-width=\"2\" opacity=\"0.7\"/><path aria-label=\"value: −7.29055333138; height: 13.05; measurement: Aspirated hygrothermometer\" role=\"graphics-symbol\" aria-roledescription=\"point\" transform=\"translate(133.72224244204435,26.53168464977101)\" d=\"M2.739,0A2.739,2.739,0,1,1,-2.739,0A2.739,2.739,0,1,1,2.739,0\" stroke=\"#4c78a8\" stroke-width=\"2\" opacity=\"0.7\"/><path aria-label=\"value: −7.29323530197; height: 14.05; measurement: Aspirated hygrothermometer\" role=\"graphics-symbol\" aria-roledescription=\"point\" transform=\"translate(133.69786089116877,25.569710272767043)\" d=\"M2.739,0A2.739,2.739,0,1,1,-2.739,0A2.739,2.739,0,1,1,2.739,0\" stroke=\"#4c78a8\" stroke-width=\"2\" opacity=\"0.7\"/><path aria-label=\"value: −7.24435830116; height: 15.05; measurement: Aspirated hygrothermometer\" role=\"graphics-symbol\" aria-roledescription=\"point\" transform=\"translate(134.1421972621571,24.673905002104142)\" d=\"M2.739,0A2.739,2.739,0,1,1,-2.739,0A2.739,2.739,0,1,1,2.739,0\" stroke=\"#4c78a8\" stroke-width=\"2\" opacity=\"0.7\"/><path aria-label=\"value: −7.15993332863; height: 16.05; measurement: Aspirated hygrothermometer\" role=\"graphics-symbol\" aria-roledescription=\"point\" transform=\"translate(134.90969701246783,23.835748897773268)\" d=\"M2.739,0A2.739,2.739,0,1,1,-2.739,0A2.739,2.739,0,1,1,2.739,0\" stroke=\"#4c78a8\" stroke-width=\"2\" opacity=\"0.7\"/><path aria-label=\"value: −7.18799209595; height: 17.05; measurement: Aspirated hygrothermometer\" role=\"graphics-symbol\" aria-roledescription=\"point\" transform=\"translate(134.6546173095703,23.048268500144513)\" d=\"M2.739,0A2.739,2.739,0,1,1,-2.739,0A2.739,2.739,0,1,1,2.739,0\" stroke=\"#4c78a8\" stroke-width=\"2\" opacity=\"0.7\"/><path aria-label=\"value: −7.13011670113; height: 18.05; measurement: Aspirated hygrothermometer\" role=\"graphics-symbol\" aria-roledescription=\"point\" transform=\"translate(135.18075726249,22.3056838127497)\" d=\"M2.739,0A2.739,2.739,0,1,1,-2.739,0A2.739,2.739,0,1,1,2.739,0\" stroke=\"#4c78a8\" stroke-width=\"2\" opacity=\"0.7\"/><path aria-label=\"value: −7.06718826294; height: 19.05; measurement: Aspirated hygrothermometer\" role=\"graphics-symbol\" aria-roledescription=\"point\" transform=\"translate(135.75283397327772,21.603150599650856)\" d=\"M2.739,0A2.739,2.739,0,1,1,-2.739,0A2.739,2.739,0,1,1,2.739,0\" stroke=\"#4c78a8\" stroke-width=\"2\" opacity=\"0.7\"/><path aria-label=\"value: −8.91982936859; height: 1.05; measurement: Aspirated hygrothermometer\" role=\"graphics-symbol\" aria-roledescription=\"point\" transform=\"translate(118.91064210371538,59.36432102790186)\" d=\"M2.739,0A2.739,2.739,0,1,1,-2.739,0A2.739,2.739,0,1,1,2.739,0\" stroke=\"#4c78a8\" stroke-width=\"2\" opacity=\"0.7\"/><path aria-label=\"value: −8.45447540283; height: 2.05; measurement: Aspirated hygrothermometer\" role=\"graphics-symbol\" aria-roledescription=\"point\" transform=\"translate(123.14113270152698,50.64738416832738)\" d=\"M2.739,0A2.739,2.739,0,1,1,-2.739,0A2.739,2.739,0,1,1,2.739,0\" stroke=\"#4c78a8\" stroke-width=\"2\" opacity=\"0.7\"/><path aria-label=\"value: −8.14872145653; height: 3.05; measurement: Aspirated hygrothermometer\" role=\"graphics-symbol\" aria-roledescription=\"point\" transform=\"translate(125.92071403156628,45.47100481959643)\" d=\"M2.739,0A2.739,2.739,0,1,1,-2.739,0A2.739,2.739,0,1,1,2.739,0\" stroke=\"#4c78a8\" stroke-width=\"2\" opacity=\"0.7\"/><path aria-label=\"value: −7.97646141052; height: 4.05; measurement: Aspirated hygrothermometer\" role=\"graphics-symbol\" aria-roledescription=\"point\" transform=\"translate(127.4867144497958,41.77634930355995)\" d=\"M2.739,0A2.739,2.739,0,1,1,-2.739,0A2.739,2.739,0,1,1,2.739,0\" stroke=\"#4c78a8\" stroke-width=\"2\" opacity=\"0.7\"/><path aria-label=\"value: −7.91783237457; height: 5.05; measurement: Aspirated hygrothermometer\" role=\"graphics-symbol\" aria-roledescription=\"point\" transform=\"translate(128.01970568570223,38.90125865644017)\" d=\"M2.739,0A2.739,2.739,0,1,1,-2.739,0A2.739,2.739,0,1,1,2.739,0\" stroke=\"#4c78a8\" stroke-width=\"2\" opacity=\"0.7\"/><path aria-label=\"value: −7.77057695389; height: 6.05; measurement: Aspirated hygrothermometer\" role=\"graphics-symbol\" aria-roledescription=\"point\" transform=\"translate(129.35839132829145,36.54733876042593)\" d=\"M2.739,0A2.739,2.739,0,1,1,-2.739,0A2.739,2.739,0,1,1,2.739,0\" stroke=\"#4c78a8\" stroke-width=\"2\" opacity=\"0.7\"/><path aria-label=\"value: −7.7002222538; height: 7.05; measurement: Aspirated hygrothermometer\" role=\"graphics-symbol\" aria-roledescription=\"point\" transform=\"translate(129.99797951091418,34.55432649025806)\" d=\"M2.739,0A2.739,2.739,0,1,1,-2.739,0A2.739,2.739,0,1,1,2.739,0\" stroke=\"#4c78a8\" stroke-width=\"2\" opacity=\"0.7\"/><path aria-label=\"value: −7.59447050095; height: 8.05; measurement: Aspirated hygrothermometer\" role=\"graphics-symbol\" aria-roledescription=\"point\" transform=\"translate(130.95935908230868,32.82612358896394)\" d=\"M2.739,0A2.739,2.739,0,1,1,-2.739,0A2.739,2.739,0,1,1,2.739,0\" stroke=\"#4c78a8\" stroke-width=\"2\" opacity=\"0.7\"/></g></g><path class=\"foreground\" aria-hidden=\"true\" d=\"\" display=\"none\"/></g></g><g class=\"mark-group role-legend\" role=\"graphics-symbol\" aria-roledescription=\"legend\" aria-label=\"Symbol legend titled 'measurement' for shape with 4 values: Aspirated hygrothermometer, Pyrgeometer, Thermistor, Thermistor harp\"><g transform=\"translate(220,0)\"><path class=\"background\" aria-hidden=\"true\" d=\"M0,0h143v75h-143Z\" pointer-events=\"none\"/><g><g class=\"mark-group role-legend-entry\"><g transform=\"translate(0,16)\"><path class=\"background\" aria-hidden=\"true\" d=\"M0,0h0v0h0Z\" pointer-events=\"none\"/><g><g class=\"mark-group role-scope\" role=\"graphics-object\" aria-roledescription=\"group mark container\"><g transform=\"translate(0,0)\"><path class=\"background\" aria-hidden=\"true\" d=\"M0,0h142.7236328125v12.5h-142.7236328125Z\" pointer-events=\"none\" opacity=\"1\"/><g><g class=\"mark-symbol role-legend-symbol\" pointer-events=\"none\"><path transform=\"translate(6,6)\" d=\"M5,0A5,5,0,1,1,-5,0A5,5,0,1,1,5,0\" stroke=\"#4c78a8\" stroke-width=\"1.5\" opacity=\"0.7\"/></g><g class=\"mark-text role-legend-label\" pointer-events=\"none\"><text text-anchor=\"start\" transform=\"translate(16,9)\" font-family=\"sans-serif\" font-size=\"10px\" fill=\"#000\" opacity=\"1\">Aspirated hygrothermometer</text></g></g><path class=\"foreground\" aria-hidden=\"true\" d=\"\" pointer-events=\"none\" display=\"none\"/></g><g transform=\"translate(0,16)\"><path class=\"background\" aria-hidden=\"true\" d=\"M0,0h142.7236328125v12.5h-142.7236328125Z\" pointer-events=\"none\" opacity=\"1\"/><g><g class=\"mark-symbol role-legend-symbol\" pointer-events=\"none\"><path transform=\"translate(6,6)\" d=\"M-5,-5h10v10h-10Z\" stroke=\"#4c78a8\" stroke-width=\"1.5\" opacity=\"0.7\"/></g><g class=\"mark-text role-legend-label\" pointer-events=\"none\"><text text-anchor=\"start\" transform=\"translate(16,9)\" font-family=\"sans-serif\" font-size=\"10px\" fill=\"#000\" opacity=\"1\">Pyrgeometer</text></g></g><path class=\"foreground\" aria-hidden=\"true\" d=\"\" pointer-events=\"none\" display=\"none\"/></g><g transform=\"translate(0,31)\"><path class=\"background\" aria-hidden=\"true\" d=\"M0,0h142.7236328125v11.830127018922191h-142.7236328125Z\" pointer-events=\"none\" opacity=\"1\"/><g><g class=\"mark-symbol role-legend-symbol\" pointer-events=\"none\"><path transform=\"translate(6,6)\" d=\"M0,-4.33L-5,4.33L5,4.33Z\" stroke=\"#4c78a8\" stroke-width=\"1.5\" opacity=\"0.7\"/></g><g class=\"mark-text role-legend-label\" pointer-events=\"none\"><text text-anchor=\"start\" transform=\"translate(16,9)\" font-family=\"sans-serif\" font-size=\"10px\" fill=\"#000\" opacity=\"1\">Thermistor</text></g></g><path class=\"foreground\" aria-hidden=\"true\" d=\"\" pointer-events=\"none\" display=\"none\"/></g><g transform=\"translate(0,46)\"><path class=\"background\" aria-hidden=\"true\" d=\"M0,0h142.7236328125v12.5h-142.7236328125Z\" pointer-events=\"none\" opacity=\"1\"/><g><g class=\"mark-symbol role-legend-symbol\" pointer-events=\"none\"><path transform=\"translate(6,6)\" d=\"M-5,-2L-5,2L-2,2L-2,5L2,5L2,2L5,2L5,-2L2,-2L2,-5L-2,-5L-2,-2Z\" stroke=\"#4c78a8\" stroke-width=\"1.5\" opacity=\"0.7\"/></g><g class=\"mark-text role-legend-label\" pointer-events=\"none\"><text text-anchor=\"start\" transform=\"translate(16,9)\" font-family=\"sans-serif\" font-size=\"10px\" fill=\"#000\" opacity=\"1\">Thermistor harp</text></g></g><path class=\"foreground\" aria-hidden=\"true\" d=\"\" pointer-events=\"none\" display=\"none\"/></g></g></g><path class=\"foreground\" aria-hidden=\"true\" d=\"\" pointer-events=\"none\" display=\"none\"/></g></g><g class=\"mark-text role-legend-title\" pointer-events=\"none\"><text text-anchor=\"start\" transform=\"translate(0,9)\" font-family=\"sans-serif\" font-size=\"11px\" font-weight=\"bold\" fill=\"#000\" opacity=\"1\">measurement</text></g></g><path class=\"foreground\" aria-hidden=\"true\" d=\"\" pointer-events=\"none\" display=\"none\"/></g></g></g><path class=\"foreground\" aria-hidden=\"true\" d=\"\" display=\"none\"/></g></g></g></svg>"
      ],
      "text/plain": [
       "alt.VConcatChart(...)"
      ]
     },
     "execution_count": 436,
     "metadata": {},
     "output_type": "execute_result"
    }
   ],
   "source": [
    "base = alt.Chart(temps_combined).mark_point().encode(\n",
    "    alt.Y(\"height:Q\", title='Height (m)'),\n",
    "    alt.Shape(\"measurement:N\")\n",
    ")\n",
    "((\n",
    "    base.transform_filter(\n",
    "        alt.datum.height > 1\n",
    "    ).encode(\n",
    "        alt.X(\"value\", title='').sort(\"-y\").axis(labels=False),\n",
    "    ).properties(\n",
    "        width = 200, \n",
    "        height = 150\n",
    "    ) & \\\n",
    "    base.transform_filter(\n",
    "        (alt.datum.height < 1) & (alt.datum.height >= 0.05)\n",
    "    ).encode(\n",
    "        alt.X(\"value\", title='').sort(\"-y\").axis(labels=False),\n",
    "    ).properties(\n",
    "        width = 200, \n",
    "        height = 75\n",
    "    ) & \\\n",
    "    base.transform_filter(\n",
    "        alt.datum.height < 0.05\n",
    "    ).encode(\n",
    "        alt.X(\"value\").sort(\"-y\"),\n",
    "    ).properties(\n",
    "        width = 200, \n",
    "        height = 75\n",
    "    )\n",
    ") & alt.Chart(\n",
    "    temps_combined.query('height > 0')\n",
    ").mark_point().encode(\n",
    "    alt.X(\"value\").sort(\"-y\"),\n",
    "    alt.Y(\"height:Q\", title='').scale(type='log'),\n",
    "    alt.Shape(\"measurement:N\")\n",
    ").properties(\n",
    "        width = 200, \n",
    "        height = 150\n",
    "    )).configure_concat(\n",
    "        spacing = 0\n",
    ").resolve_scale(\n",
    "    shape='shared', \n",
    "    x='shared'\n",
    ").configure_legend(labelLimit=300)"
   ]
  },
  {
   "cell_type": "code",
   "execution_count": null,
   "metadata": {},
   "outputs": [],
   "source": []
  }
 ],
 "metadata": {
  "kernelspec": {
   "display_name": "arm",
   "language": "python",
   "name": "python3"
  },
  "language_info": {
   "codemirror_mode": {
    "name": "ipython",
    "version": 3
   },
   "file_extension": ".py",
   "mimetype": "text/x-python",
   "name": "python",
   "nbconvert_exporter": "python",
   "pygments_lexer": "ipython3",
   "version": "3.11.0"
  },
  "orig_nbformat": 4,
  "vscode": {
   "interpreter": {
    "hash": "e2b11a00ad1b97cabcd9cc9209b8824a0fcaf6ffe37b5243943912873b5dcab1"
   }
  }
 },
 "nbformat": 4,
 "nbformat_minor": 2
}
